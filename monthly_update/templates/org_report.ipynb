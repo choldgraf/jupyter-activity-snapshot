{
 "cells": [
  {
   "cell_type": "markdown",
   "metadata": {},
   "source": [
    "# {glue:text}`{{ github_org }}_github_org`\n",
    "\n",
    "**Activity from {glue:}`{{ github_org }}_start` to {glue:}`{{ github_org }}_stop`**"
   ]
  },
  {
   "cell_type": "code",
   "execution_count": 1,
   "metadata": {
    "tags": [
     "remove_cell"
    ]
   },
   "outputs": [],
   "source": [
    "from datetime import date\n",
    "from dateutil.relativedelta import relativedelta\n",
    "from myst_nb import glue\n",
    "import seaborn as sns\n",
    "import pandas as pd\n",
    "import numpy as np\n",
    "import altair as alt\n",
    "from markdown import markdown\n",
    "from IPython.display import Markdown\n",
    "from ipywidgets.widgets import HTML, Tab\n",
    "from ipywidgets import widgets\n",
    "from datetime import timedelta\n",
    "from matplotlib import pyplot as plt\n",
    "import os.path as op\n",
    "\n",
    "from warnings import simplefilter\n",
    "simplefilter('ignore')"
   ]
  },
  {
   "cell_type": "code",
   "execution_count": 2,
   "metadata": {
    "tags": [
     "remove_cell"
    ]
   },
   "outputs": [],
   "source": [
    "# Altair config\n",
    "def author_url(author):\n",
    "    return f\"https://github.com/{author}\"\n",
    "\n",
    "def alt_theme():\n",
    "    return {\n",
    "        'config': {\n",
    "            'axisLeft': {\n",
    "                'labelFontSize': 15,\n",
    "            },\n",
    "            'axisBottom': {\n",
    "                'labelFontSize': 15,\n",
    "            },\n",
    "        }\n",
    "    }\n",
    "\n",
    "alt.themes.register('my_theme', alt_theme)\n",
    "alt.themes.enable(\"my_theme\")\n",
    "\n",
    "\n",
    "# Define colors we'll use for GitHub membership\n",
    "author_types = ['MEMBER', 'CONTRIBUTOR', 'COLLABORATOR', \"NONE\"]\n",
    "\n",
    "author_palette = np.array(sns.palettes.blend_palette([\"lightgrey\", \"lightgreen\", \"darkgreen\"], 4)) * 256\n",
    "author_colors = [\"rgb({}, {}, {})\".format(*color) for color in author_palette]\n",
    "author_color_dict = {key: val for key, val in zip(author_types, author_palette)}"
   ]
  },
  {
   "cell_type": "code",
   "execution_count": 3,
   "metadata": {
    "tags": [
     "parameters",
     "hide_input",
     "remove_cell"
    ]
   },
   "outputs": [],
   "source": [
    "github_org = \"jupyterhub\"\n",
    "top_n_repos = 15\n",
    "n_days = 10"
   ]
  },
  {
   "cell_type": "code",
   "execution_count": 4,
   "metadata": {
    "tags": [
     "remove_cell"
    ]
   },
   "outputs": [
    {
     "data": {
      "application/papermill.record/text/plain": "'jupyterhub'"
     },
     "metadata": {
      "scrapbook": {
       "mime_prefix": "application/papermill.record/",
       "name": "jupyterhub_github_org"
      }
     },
     "output_type": "display_data"
    },
    {
     "data": {
      "application/papermill.record/text/plain": "'2021-10-09'"
     },
     "metadata": {
      "scrapbook": {
       "mime_prefix": "application/papermill.record/",
       "name": "jupyterhub_start"
      }
     },
     "output_type": "display_data"
    },
    {
     "data": {
      "application/papermill.record/text/plain": "'2021-10-19'"
     },
     "metadata": {
      "scrapbook": {
       "mime_prefix": "application/papermill.record/",
       "name": "jupyterhub_stop"
      }
     },
     "output_type": "display_data"
    }
   ],
   "source": [
    "############################################################\n",
    "# Variables\n",
    "stop = date.today()\n",
    "start = date.today() - relativedelta(days=n_days)\n",
    "\n",
    "# Strings for use in queries\n",
    "start_date = f\"{start:%Y-%m-%d}\"\n",
    "stop_date = f\"{stop:%Y-%m-%d}\"\n",
    "\n",
    "# Glue variables for use in markdown\n",
    "glue(f\"{github_org}_github_org\", github_org, display=False)\n",
    "glue(f\"{github_org}_start\", start_date, display=False)\n",
    "glue(f\"{github_org}_stop\", stop_date, display=False)"
   ]
  },
  {
   "cell_type": "markdown",
   "metadata": {},
   "source": [
    "## Load data\n",
    "\n",
    "Load and clean up the data"
   ]
  },
  {
   "cell_type": "code",
   "execution_count": 5,
   "metadata": {},
   "outputs": [],
   "source": [
    "from pathlib import Path\n",
    "path_data = Path(\"../data\")\n",
    "comments = pd.read_csv(path_data.joinpath('comments.csv'), index_col=None).drop_duplicates()\n",
    "issues = pd.read_csv(path_data.joinpath('issues.csv'), index_col=None).drop_duplicates()\n",
    "prs = pd.read_csv(path_data.joinpath('prs.csv'), index_col=None).drop_duplicates()\n",
    "\n",
    "for idata in [comments, issues, prs]:\n",
    "    idata.query(\"org == @github_org\", inplace=True)"
   ]
  },
  {
   "cell_type": "code",
   "execution_count": 6,
   "metadata": {},
   "outputs": [],
   "source": [
    "# What are the top N repos, we will only plot these in the full data plots\n",
    "top_commented_repos = comments.groupby(\"repo\").count().sort_values(\"createdAt\", ascending=False)['createdAt']\n",
    "use_repos = top_commented_repos.head(top_n_repos).index.tolist()"
   ]
  },
  {
   "cell_type": "markdown",
   "metadata": {
    "tags": [],
    "toc-hr-collapsed": false
   },
   "source": [
    "## Merged Pull requests\n",
    "\n",
    "Here's an analysis of **merged pull requests** across each of the repositories in the Jupyter\n",
    "ecosystem."
   ]
  },
  {
   "cell_type": "code",
   "execution_count": 7,
   "metadata": {
    "tags": [
     "remove_cell"
    ]
   },
   "outputs": [],
   "source": [
    "merged = prs.query('state == \"MERGED\" and closedAt > @start_date and closedAt < @stop_date')"
   ]
  },
  {
   "cell_type": "code",
   "execution_count": 8,
   "metadata": {
    "tags": [
     "hide_input"
    ]
   },
   "outputs": [
    {
     "data": {
      "text/html": [
       "\n",
       "<div id=\"altair-viz-63ca0058d48b408597e7250ccc427450\"></div>\n",
       "<script type=\"text/javascript\">\n",
       "  (function(spec, embedOpt){\n",
       "    let outputDiv = document.currentScript.previousElementSibling;\n",
       "    if (outputDiv.id !== \"altair-viz-63ca0058d48b408597e7250ccc427450\") {\n",
       "      outputDiv = document.getElementById(\"altair-viz-63ca0058d48b408597e7250ccc427450\");\n",
       "    }\n",
       "    const paths = {\n",
       "      \"vega\": \"https://cdn.jsdelivr.net/npm//vega@5?noext\",\n",
       "      \"vega-lib\": \"https://cdn.jsdelivr.net/npm//vega-lib?noext\",\n",
       "      \"vega-lite\": \"https://cdn.jsdelivr.net/npm//vega-lite@4.8.1?noext\",\n",
       "      \"vega-embed\": \"https://cdn.jsdelivr.net/npm//vega-embed@6?noext\",\n",
       "    };\n",
       "\n",
       "    function loadScript(lib) {\n",
       "      return new Promise(function(resolve, reject) {\n",
       "        var s = document.createElement('script');\n",
       "        s.src = paths[lib];\n",
       "        s.async = true;\n",
       "        s.onload = () => resolve(paths[lib]);\n",
       "        s.onerror = () => reject(`Error loading script: ${paths[lib]}`);\n",
       "        document.getElementsByTagName(\"head\")[0].appendChild(s);\n",
       "      });\n",
       "    }\n",
       "\n",
       "    function showError(err) {\n",
       "      outputDiv.innerHTML = `<div class=\"error\" style=\"color:red;\">${err}</div>`;\n",
       "      throw err;\n",
       "    }\n",
       "\n",
       "    function displayChart(vegaEmbed) {\n",
       "      vegaEmbed(outputDiv, spec, embedOpt)\n",
       "        .catch(err => showError(`Javascript Error: ${err.message}<br>This usually means there's a typo in your chart specification. See the javascript console for the full traceback.`));\n",
       "    }\n",
       "\n",
       "    if(typeof define === \"function\" && define.amd) {\n",
       "      requirejs.config({paths});\n",
       "      require([\"vega-embed\"], displayChart, err => showError(`Error loading script: ${err.message}`));\n",
       "    } else if (typeof vegaEmbed === \"function\") {\n",
       "      displayChart(vegaEmbed);\n",
       "    } else {\n",
       "      loadScript(\"vega\")\n",
       "        .then(() => loadScript(\"vega-lite\"))\n",
       "        .then(() => loadScript(\"vega-embed\"))\n",
       "        .catch(showError)\n",
       "        .then(() => displayChart(vegaEmbed));\n",
       "    }\n",
       "  })({\"config\": {\"axisLeft\": {\"labelFontSize\": 15}, \"axisBottom\": {\"labelFontSize\": 15}}, \"data\": {\"name\": \"data-9fcb8c4da4704ff254517dcaa9e28137\"}, \"mark\": \"bar\", \"encoding\": {\"color\": {\"type\": \"nominal\", \"field\": \"org\"}, \"x\": {\"type\": \"nominal\", \"field\": \"repo\", \"sort\": [\"binderhub\", \"zero-to-jupyterhub-k8s\", \"the-littlest-jupyterhub\", \"jupyterhub-idle-culler\", \"jupyterhub\", \"traefik-proxy\", \"mybinder.org-deploy\", \"action-k3s-helm\", \"autodoc-traits\", \"docker-image-cleaner\", \"oauthenticator\", \"team-compass\"]}, \"y\": {\"type\": \"quantitative\", \"field\": \"author\"}}, \"title\": \"Merged PRs in the last 10 days\", \"$schema\": \"https://vega.github.io/schema/vega-lite/v4.8.1.json\", \"datasets\": {\"data-9fcb8c4da4704ff254517dcaa9e28137\": [{\"org\": \"jupyterhub\", \"repo\": \"binderhub\", \"author\": 11}, {\"org\": \"jupyterhub\", \"repo\": \"zero-to-jupyterhub-k8s\", \"author\": 10}, {\"org\": \"jupyterhub\", \"repo\": \"the-littlest-jupyterhub\", \"author\": 6}, {\"org\": \"jupyterhub\", \"repo\": \"jupyterhub-idle-culler\", \"author\": 4}, {\"org\": \"jupyterhub\", \"repo\": \"jupyterhub\", \"author\": 3}, {\"org\": \"jupyterhub\", \"repo\": \"traefik-proxy\", \"author\": 3}, {\"org\": \"jupyterhub\", \"repo\": \"mybinder.org-deploy\", \"author\": 2}, {\"org\": \"jupyterhub\", \"repo\": \"action-k3s-helm\", \"author\": 1}, {\"org\": \"jupyterhub\", \"repo\": \"autodoc-traits\", \"author\": 1}, {\"org\": \"jupyterhub\", \"repo\": \"docker-image-cleaner\", \"author\": 1}, {\"org\": \"jupyterhub\", \"repo\": \"oauthenticator\", \"author\": 1}, {\"org\": \"jupyterhub\", \"repo\": \"team-compass\", \"author\": 1}]}}, {\"mode\": \"vega-lite\"});\n",
       "</script>"
      ],
      "text/plain": [
       "alt.Chart(...)"
      ]
     },
     "execution_count": 8,
     "metadata": {},
     "output_type": "execute_result"
    }
   ],
   "source": [
    "prs_by_repo = merged.groupby(['org', 'repo']).count()['author'].reset_index().sort_values(['org', 'author'], ascending=False)\n",
    "alt.Chart(data=prs_by_repo, title=f\"Merged PRs in the last {n_days} days\").mark_bar().encode(\n",
    "    x=alt.X('repo', sort=prs_by_repo['repo'].values.tolist()),\n",
    "    y='author',\n",
    "    color='org'\n",
    ")"
   ]
  },
  {
   "cell_type": "markdown",
   "metadata": {},
   "source": [
    "### Authoring and merging stats by repository\n",
    "\n",
    "Let's see who has been doing most of the PR authoring and merging. The PR author is generally the\n",
    "person that implemented a change in the repository (code, documentation, etc). The PR merger is\n",
    "the person that \"pressed the green button\" and got the change into the main codebase."
   ]
  },
  {
   "cell_type": "code",
   "execution_count": 9,
   "metadata": {
    "tags": [
     "remove_cell"
    ]
   },
   "outputs": [],
   "source": [
    "# Prep our merging DF\n",
    "merged_by_repo = merged.groupby(['repo', 'author'], as_index=False).agg({'id': 'count', 'authorAssociation': 'first'}).rename(columns={'id': \"authored\", 'author': 'username'})\n",
    "closed_by_repo = merged.groupby(['repo', 'mergedBy']).count()['id'].reset_index().rename(columns={'id': \"closed\", \"mergedBy\": \"username\"})"
   ]
  },
  {
   "cell_type": "code",
   "execution_count": 10,
   "metadata": {
    "tags": [
     "hide_input"
    ]
   },
   "outputs": [
    {
     "data": {
      "text/html": [
       "\n",
       "<div id=\"altair-viz-b5a98719d067485ca9ecab4f4a4ed0ae\"></div>\n",
       "<script type=\"text/javascript\">\n",
       "  (function(spec, embedOpt){\n",
       "    let outputDiv = document.currentScript.previousElementSibling;\n",
       "    if (outputDiv.id !== \"altair-viz-b5a98719d067485ca9ecab4f4a4ed0ae\") {\n",
       "      outputDiv = document.getElementById(\"altair-viz-b5a98719d067485ca9ecab4f4a4ed0ae\");\n",
       "    }\n",
       "    const paths = {\n",
       "      \"vega\": \"https://cdn.jsdelivr.net/npm//vega@5?noext\",\n",
       "      \"vega-lib\": \"https://cdn.jsdelivr.net/npm//vega-lib?noext\",\n",
       "      \"vega-lite\": \"https://cdn.jsdelivr.net/npm//vega-lite@4.8.1?noext\",\n",
       "      \"vega-embed\": \"https://cdn.jsdelivr.net/npm//vega-embed@6?noext\",\n",
       "    };\n",
       "\n",
       "    function loadScript(lib) {\n",
       "      return new Promise(function(resolve, reject) {\n",
       "        var s = document.createElement('script');\n",
       "        s.src = paths[lib];\n",
       "        s.async = true;\n",
       "        s.onload = () => resolve(paths[lib]);\n",
       "        s.onerror = () => reject(`Error loading script: ${paths[lib]}`);\n",
       "        document.getElementsByTagName(\"head\")[0].appendChild(s);\n",
       "      });\n",
       "    }\n",
       "\n",
       "    function showError(err) {\n",
       "      outputDiv.innerHTML = `<div class=\"error\" style=\"color:red;\">${err}</div>`;\n",
       "      throw err;\n",
       "    }\n",
       "\n",
       "    function displayChart(vegaEmbed) {\n",
       "      vegaEmbed(outputDiv, spec, embedOpt)\n",
       "        .catch(err => showError(`Javascript Error: ${err.message}<br>This usually means there's a typo in your chart specification. See the javascript console for the full traceback.`));\n",
       "    }\n",
       "\n",
       "    if(typeof define === \"function\" && define.amd) {\n",
       "      requirejs.config({paths});\n",
       "      require([\"vega-embed\"], displayChart, err => showError(`Error loading script: ${err.message}`));\n",
       "    } else if (typeof vegaEmbed === \"function\") {\n",
       "      displayChart(vegaEmbed);\n",
       "    } else {\n",
       "      loadScript(\"vega\")\n",
       "        .then(() => loadScript(\"vega-lite\"))\n",
       "        .then(() => loadScript(\"vega-embed\"))\n",
       "        .catch(showError)\n",
       "        .then(() => displayChart(vegaEmbed));\n",
       "    }\n",
       "  })({\"config\": {\"axisLeft\": {\"labelFontSize\": 15}, \"axisBottom\": {\"labelFontSize\": 15}}, \"data\": {\"name\": \"data-38bb03f2853be9732329bedf8d3f7a50\"}, \"mark\": \"bar\", \"encoding\": {\"color\": {\"type\": \"nominal\", \"field\": \"authorAssociation\", \"scale\": {\"domain\": [\"MEMBER\", \"CONTRIBUTOR\", \"COLLABORATOR\", \"NONE\"], \"range\": [\"rgb(211.82745098039214, 211.82745098039214, 211.82745098039214)\", \"rgb(166.98562091503268, 229.89803921568628, 166.98562091503268)\", \"rgb(96.37647058823529, 192.75294117647059, 96.37647058823529)\", \"rgb(0.0, 100.3921568627451, 0.0)\"]}}, \"x\": {\"type\": \"nominal\", \"field\": \"username\"}, \"y\": {\"type\": \"quantitative\", \"field\": \"authored\"}}, \"title\": \"PR authors for jupyterhub in the last 10 days\", \"$schema\": \"https://vega.github.io/schema/vega-lite/v4.8.1.json\", \"datasets\": {\"data-38bb03f2853be9732329bedf8d3f7a50\": [{\"username\": \"consideRatio\", \"authored\": 29, \"authorAssociation\": \"MEMBER\"}, {\"username\": \"minrk\", \"authored\": 4, \"authorAssociation\": \"MEMBER\"}, {\"username\": \"yuvipanda\", \"authored\": 2, \"authorAssociation\": \"MEMBER\"}, {\"username\": \"DataCascadia\", \"authored\": 1, \"authorAssociation\": \"CONTRIBUTOR\"}, {\"username\": \"abdelq\", \"authored\": 1, \"authorAssociation\": \"CONTRIBUTOR\"}, {\"username\": \"diego-plan9\", \"authored\": 1, \"authorAssociation\": \"CONTRIBUTOR\"}, {\"username\": \"joegasewicz\", \"authored\": 1, \"authorAssociation\": \"CONTRIBUTOR\"}, {\"username\": \"joraff\", \"authored\": 1, \"authorAssociation\": \"CONTRIBUTOR\"}, {\"username\": \"manics\", \"authored\": 1, \"authorAssociation\": \"MEMBER\"}, {\"username\": \"melibleq\", \"authored\": 1, \"authorAssociation\": \"CONTRIBUTOR\"}, {\"username\": \"mike-matera\", \"authored\": 1, \"authorAssociation\": \"CONTRIBUTOR\"}, {\"username\": \"timotk\", \"authored\": 1, \"authorAssociation\": \"CONTRIBUTOR\"}]}}, {\"mode\": \"vega-lite\"});\n",
       "</script>"
      ],
      "text/plain": [
       "alt.Chart(...)"
      ]
     },
     "execution_count": 10,
     "metadata": {},
     "output_type": "execute_result"
    }
   ],
   "source": [
    "charts = []\n",
    "title = f\"PR authors for {github_org} in the last {n_days} days\"\n",
    "this_data = merged_by_repo.replace(np.nan, 0).groupby('username', as_index=False).agg({'authored': 'sum', 'authorAssociation': 'first'})\n",
    "this_data = this_data.sort_values('authored', ascending=False)\n",
    "ch = alt.Chart(data=this_data, title=title).mark_bar().encode(\n",
    "    x='username',\n",
    "    y='authored',\n",
    "    color=alt.Color('authorAssociation', scale=alt.Scale(domain=author_types, range=author_colors))\n",
    ")\n",
    "ch"
   ]
  },
  {
   "cell_type": "code",
   "execution_count": 11,
   "metadata": {
    "tags": [
     "hide_input"
    ]
   },
   "outputs": [
    {
     "data": {
      "text/html": [
       "\n",
       "<div id=\"altair-viz-47367537af9c45f1a30f60a5a285a0eb\"></div>\n",
       "<script type=\"text/javascript\">\n",
       "  (function(spec, embedOpt){\n",
       "    let outputDiv = document.currentScript.previousElementSibling;\n",
       "    if (outputDiv.id !== \"altair-viz-47367537af9c45f1a30f60a5a285a0eb\") {\n",
       "      outputDiv = document.getElementById(\"altair-viz-47367537af9c45f1a30f60a5a285a0eb\");\n",
       "    }\n",
       "    const paths = {\n",
       "      \"vega\": \"https://cdn.jsdelivr.net/npm//vega@5?noext\",\n",
       "      \"vega-lib\": \"https://cdn.jsdelivr.net/npm//vega-lib?noext\",\n",
       "      \"vega-lite\": \"https://cdn.jsdelivr.net/npm//vega-lite@4.8.1?noext\",\n",
       "      \"vega-embed\": \"https://cdn.jsdelivr.net/npm//vega-embed@6?noext\",\n",
       "    };\n",
       "\n",
       "    function loadScript(lib) {\n",
       "      return new Promise(function(resolve, reject) {\n",
       "        var s = document.createElement('script');\n",
       "        s.src = paths[lib];\n",
       "        s.async = true;\n",
       "        s.onload = () => resolve(paths[lib]);\n",
       "        s.onerror = () => reject(`Error loading script: ${paths[lib]}`);\n",
       "        document.getElementsByTagName(\"head\")[0].appendChild(s);\n",
       "      });\n",
       "    }\n",
       "\n",
       "    function showError(err) {\n",
       "      outputDiv.innerHTML = `<div class=\"error\" style=\"color:red;\">${err}</div>`;\n",
       "      throw err;\n",
       "    }\n",
       "\n",
       "    function displayChart(vegaEmbed) {\n",
       "      vegaEmbed(outputDiv, spec, embedOpt)\n",
       "        .catch(err => showError(`Javascript Error: ${err.message}<br>This usually means there's a typo in your chart specification. See the javascript console for the full traceback.`));\n",
       "    }\n",
       "\n",
       "    if(typeof define === \"function\" && define.amd) {\n",
       "      requirejs.config({paths});\n",
       "      require([\"vega-embed\"], displayChart, err => showError(`Error loading script: ${err.message}`));\n",
       "    } else if (typeof vegaEmbed === \"function\") {\n",
       "      displayChart(vegaEmbed);\n",
       "    } else {\n",
       "      loadScript(\"vega\")\n",
       "        .then(() => loadScript(\"vega-lite\"))\n",
       "        .then(() => loadScript(\"vega-embed\"))\n",
       "        .catch(showError)\n",
       "        .then(() => displayChart(vegaEmbed));\n",
       "    }\n",
       "  })({\"config\": {\"axisLeft\": {\"labelFontSize\": 15}, \"axisBottom\": {\"labelFontSize\": 15}}, \"data\": {\"name\": \"data-54d4dc88181656163e635cafc7bad377\"}, \"mark\": \"bar\", \"encoding\": {\"x\": {\"type\": \"nominal\", \"field\": \"username\"}, \"y\": {\"type\": \"quantitative\", \"field\": \"closed\"}}, \"title\": \"Merges for jupyterhub in the last 10 days\", \"$schema\": \"https://vega.github.io/schema/vega-lite/v4.8.1.json\", \"datasets\": {\"data-54d4dc88181656163e635cafc7bad377\": [{\"repo\": \"action-k3s-helm\", \"username\": \"consideRatio\", \"closed\": 1}, {\"repo\": \"autodoc-traits\", \"username\": \"willingc\", \"closed\": 1}, {\"repo\": \"binderhub\", \"username\": \"consideRatio\", \"closed\": 5}, {\"repo\": \"binderhub\", \"username\": \"minrk\", \"closed\": 6}, {\"repo\": \"docker-image-cleaner\", \"username\": \"consideRatio\", \"closed\": 1}, {\"repo\": \"jupyterhub\", \"username\": \"consideRatio\", \"closed\": 2}, {\"repo\": \"jupyterhub\", \"username\": \"minrk\", \"closed\": 1}, {\"repo\": \"jupyterhub-idle-culler\", \"username\": \"consideRatio\", \"closed\": 3}, {\"repo\": \"jupyterhub-idle-culler\", \"username\": \"minrk\", \"closed\": 1}, {\"repo\": \"mybinder.org-deploy\", \"username\": \"consideRatio\", \"closed\": 1}, {\"repo\": \"mybinder.org-deploy\", \"username\": \"minrk\", \"closed\": 1}, {\"repo\": \"oauthenticator\", \"username\": \"consideRatio\", \"closed\": 1}, {\"repo\": \"team-compass\", \"username\": \"choldgraf\", \"closed\": 1}, {\"repo\": \"the-littlest-jupyterhub\", \"username\": \"consideRatio\", \"closed\": 3}, {\"repo\": \"the-littlest-jupyterhub\", \"username\": \"yuvipanda\", \"closed\": 3}, {\"repo\": \"traefik-proxy\", \"username\": \"yuvipanda\", \"closed\": 3}, {\"repo\": \"zero-to-jupyterhub-k8s\", \"username\": \"consideRatio\", \"closed\": 10}]}}, {\"mode\": \"vega-lite\"});\n",
       "</script>"
      ],
      "text/plain": [
       "alt.Chart(...)"
      ]
     },
     "execution_count": 11,
     "metadata": {},
     "output_type": "execute_result"
    }
   ],
   "source": [
    "charts = []\n",
    "title = f\"Merges for {github_org} in the last {n_days} days\"\n",
    "ch = alt.Chart(data=closed_by_repo.replace(np.nan, 0), title=title).mark_bar().encode(\n",
    "    x='username',\n",
    "    y='closed',\n",
    ")\n",
    "ch"
   ]
  },
  {
   "cell_type": "markdown",
   "metadata": {},
   "source": [
    "## Issues\n",
    "\n",
    "Issues are **conversations** that happen on our GitHub repositories. Here's an\n",
    "analysis of issues across the Jupyter organizations."
   ]
  },
  {
   "cell_type": "code",
   "execution_count": 12,
   "metadata": {
    "tags": [
     "remove_cell"
    ]
   },
   "outputs": [],
   "source": [
    "created = issues.query('state == \"OPEN\" and createdAt > @start_date and createdAt < @stop_date')\n",
    "closed = issues.query('state == \"CLOSED\" and closedAt > @start_date and closedAt < @stop_date')"
   ]
  },
  {
   "cell_type": "code",
   "execution_count": 13,
   "metadata": {
    "tags": [
     "hide_input"
    ]
   },
   "outputs": [
    {
     "data": {
      "text/html": [
       "\n",
       "<div id=\"altair-viz-91afdcc5e4f542d4bf77041553924e32\"></div>\n",
       "<script type=\"text/javascript\">\n",
       "  (function(spec, embedOpt){\n",
       "    let outputDiv = document.currentScript.previousElementSibling;\n",
       "    if (outputDiv.id !== \"altair-viz-91afdcc5e4f542d4bf77041553924e32\") {\n",
       "      outputDiv = document.getElementById(\"altair-viz-91afdcc5e4f542d4bf77041553924e32\");\n",
       "    }\n",
       "    const paths = {\n",
       "      \"vega\": \"https://cdn.jsdelivr.net/npm//vega@5?noext\",\n",
       "      \"vega-lib\": \"https://cdn.jsdelivr.net/npm//vega-lib?noext\",\n",
       "      \"vega-lite\": \"https://cdn.jsdelivr.net/npm//vega-lite@4.8.1?noext\",\n",
       "      \"vega-embed\": \"https://cdn.jsdelivr.net/npm//vega-embed@6?noext\",\n",
       "    };\n",
       "\n",
       "    function loadScript(lib) {\n",
       "      return new Promise(function(resolve, reject) {\n",
       "        var s = document.createElement('script');\n",
       "        s.src = paths[lib];\n",
       "        s.async = true;\n",
       "        s.onload = () => resolve(paths[lib]);\n",
       "        s.onerror = () => reject(`Error loading script: ${paths[lib]}`);\n",
       "        document.getElementsByTagName(\"head\")[0].appendChild(s);\n",
       "      });\n",
       "    }\n",
       "\n",
       "    function showError(err) {\n",
       "      outputDiv.innerHTML = `<div class=\"error\" style=\"color:red;\">${err}</div>`;\n",
       "      throw err;\n",
       "    }\n",
       "\n",
       "    function displayChart(vegaEmbed) {\n",
       "      vegaEmbed(outputDiv, spec, embedOpt)\n",
       "        .catch(err => showError(`Javascript Error: ${err.message}<br>This usually means there's a typo in your chart specification. See the javascript console for the full traceback.`));\n",
       "    }\n",
       "\n",
       "    if(typeof define === \"function\" && define.amd) {\n",
       "      requirejs.config({paths});\n",
       "      require([\"vega-embed\"], displayChart, err => showError(`Error loading script: ${err.message}`));\n",
       "    } else if (typeof vegaEmbed === \"function\") {\n",
       "      displayChart(vegaEmbed);\n",
       "    } else {\n",
       "      loadScript(\"vega\")\n",
       "        .then(() => loadScript(\"vega-lite\"))\n",
       "        .then(() => loadScript(\"vega-embed\"))\n",
       "        .catch(showError)\n",
       "        .then(() => displayChart(vegaEmbed));\n",
       "    }\n",
       "  })({\"config\": {\"axisLeft\": {\"labelFontSize\": 15}, \"axisBottom\": {\"labelFontSize\": 15}}, \"data\": {\"name\": \"data-31f9fba79308ee95c7725a10c3e7f369\"}, \"mark\": \"bar\", \"encoding\": {\"x\": {\"type\": \"nominal\", \"field\": \"repo\", \"sort\": [\"nativeauthenticator\", \"the-littlest-jupyterhub\", \"binderhub\", \"jupyterhub\", \"mybinder.org-deploy\", \"team-compass\", \"autodoc-traits\", \"docker-image-cleaner\", \"jupyterhub-idle-culler\", \"kubespawner\", \"repo2docker-action\"]}, \"y\": {\"type\": \"quantitative\", \"field\": \"number\"}}, \"title\": \"Issues created in the last 10 days\", \"$schema\": \"https://vega.github.io/schema/vega-lite/v4.8.1.json\", \"datasets\": {\"data-31f9fba79308ee95c7725a10c3e7f369\": [{\"org\": \"jupyterhub\", \"repo\": \"autodoc-traits\", \"number\": 1, \"org/repo\": \"jupyterhub/autodoc-traits\"}, {\"org\": \"jupyterhub\", \"repo\": \"binderhub\", \"number\": 3, \"org/repo\": \"jupyterhub/binderhub\"}, {\"org\": \"jupyterhub\", \"repo\": \"docker-image-cleaner\", \"number\": 1, \"org/repo\": \"jupyterhub/docker-image-cleaner\"}, {\"org\": \"jupyterhub\", \"repo\": \"jupyterhub\", \"number\": 2, \"org/repo\": \"jupyterhub/jupyterhub\"}, {\"org\": \"jupyterhub\", \"repo\": \"jupyterhub-idle-culler\", \"number\": 1, \"org/repo\": \"jupyterhub/jupyterhub-idle-culler\"}, {\"org\": \"jupyterhub\", \"repo\": \"kubespawner\", \"number\": 1, \"org/repo\": \"jupyterhub/kubespawner\"}, {\"org\": \"jupyterhub\", \"repo\": \"mybinder.org-deploy\", \"number\": 2, \"org/repo\": \"jupyterhub/mybinder.org-deploy\"}, {\"org\": \"jupyterhub\", \"repo\": \"nativeauthenticator\", \"number\": 4, \"org/repo\": \"jupyterhub/nativeauthenticator\"}, {\"org\": \"jupyterhub\", \"repo\": \"repo2docker-action\", \"number\": 1, \"org/repo\": \"jupyterhub/repo2docker-action\"}, {\"org\": \"jupyterhub\", \"repo\": \"team-compass\", \"number\": 2, \"org/repo\": \"jupyterhub/team-compass\"}, {\"org\": \"jupyterhub\", \"repo\": \"the-littlest-jupyterhub\", \"number\": 4, \"org/repo\": \"jupyterhub/the-littlest-jupyterhub\"}]}}, {\"mode\": \"vega-lite\"});\n",
       "</script>"
      ],
      "text/plain": [
       "alt.Chart(...)"
      ]
     },
     "execution_count": 13,
     "metadata": {},
     "output_type": "execute_result"
    }
   ],
   "source": [
    "created_counts = created.groupby(['org', 'repo']).count()['number'].reset_index()\n",
    "created_counts['org/repo'] = created_counts.apply(lambda a: a['org'] + '/' + a['repo'], axis=1)\n",
    "sorted_vals = created_counts.sort_values(['org', 'number'], ascending=False)['repo'].values\n",
    "alt.Chart(data=created_counts, title=f\"Issues created in the last {n_days} days\").mark_bar().encode(\n",
    "    x=alt.X('repo', sort=alt.Sort(sorted_vals.tolist())),\n",
    "    y='number',\n",
    ")"
   ]
  },
  {
   "cell_type": "code",
   "execution_count": 14,
   "metadata": {
    "tags": [
     "hide_input"
    ]
   },
   "outputs": [
    {
     "data": {
      "text/html": [
       "\n",
       "<div id=\"altair-viz-273c7da44e60488d9b1901dcc947f4df\"></div>\n",
       "<script type=\"text/javascript\">\n",
       "  (function(spec, embedOpt){\n",
       "    let outputDiv = document.currentScript.previousElementSibling;\n",
       "    if (outputDiv.id !== \"altair-viz-273c7da44e60488d9b1901dcc947f4df\") {\n",
       "      outputDiv = document.getElementById(\"altair-viz-273c7da44e60488d9b1901dcc947f4df\");\n",
       "    }\n",
       "    const paths = {\n",
       "      \"vega\": \"https://cdn.jsdelivr.net/npm//vega@5?noext\",\n",
       "      \"vega-lib\": \"https://cdn.jsdelivr.net/npm//vega-lib?noext\",\n",
       "      \"vega-lite\": \"https://cdn.jsdelivr.net/npm//vega-lite@4.8.1?noext\",\n",
       "      \"vega-embed\": \"https://cdn.jsdelivr.net/npm//vega-embed@6?noext\",\n",
       "    };\n",
       "\n",
       "    function loadScript(lib) {\n",
       "      return new Promise(function(resolve, reject) {\n",
       "        var s = document.createElement('script');\n",
       "        s.src = paths[lib];\n",
       "        s.async = true;\n",
       "        s.onload = () => resolve(paths[lib]);\n",
       "        s.onerror = () => reject(`Error loading script: ${paths[lib]}`);\n",
       "        document.getElementsByTagName(\"head\")[0].appendChild(s);\n",
       "      });\n",
       "    }\n",
       "\n",
       "    function showError(err) {\n",
       "      outputDiv.innerHTML = `<div class=\"error\" style=\"color:red;\">${err}</div>`;\n",
       "      throw err;\n",
       "    }\n",
       "\n",
       "    function displayChart(vegaEmbed) {\n",
       "      vegaEmbed(outputDiv, spec, embedOpt)\n",
       "        .catch(err => showError(`Javascript Error: ${err.message}<br>This usually means there's a typo in your chart specification. See the javascript console for the full traceback.`));\n",
       "    }\n",
       "\n",
       "    if(typeof define === \"function\" && define.amd) {\n",
       "      requirejs.config({paths});\n",
       "      require([\"vega-embed\"], displayChart, err => showError(`Error loading script: ${err.message}`));\n",
       "    } else if (typeof vegaEmbed === \"function\") {\n",
       "      displayChart(vegaEmbed);\n",
       "    } else {\n",
       "      loadScript(\"vega\")\n",
       "        .then(() => loadScript(\"vega-lite\"))\n",
       "        .then(() => loadScript(\"vega-embed\"))\n",
       "        .catch(showError)\n",
       "        .then(() => displayChart(vegaEmbed));\n",
       "    }\n",
       "  })({\"config\": {\"axisLeft\": {\"labelFontSize\": 15}, \"axisBottom\": {\"labelFontSize\": 15}}, \"data\": {\"name\": \"data-7efc48791f0e5afd7a42862ecf4e9bd5\"}, \"mark\": \"bar\", \"encoding\": {\"x\": {\"type\": \"nominal\", \"field\": \"repo\", \"sort\": [\"binderhub\", \"jupyterhub\", \"zero-to-jupyterhub-k8s\", \"action-k3s-helm\", \"kubespawner\", \"ldapauthenticator\", \"mybinder.org-deploy\", \"nativeauthenticator\", \"oauthenticator\", \"traefik-proxy\"]}, \"y\": {\"type\": \"quantitative\", \"field\": \"number\"}}, \"title\": \"Issues closed in the last 10 days\", \"$schema\": \"https://vega.github.io/schema/vega-lite/v4.8.1.json\", \"datasets\": {\"data-7efc48791f0e5afd7a42862ecf4e9bd5\": [{\"org\": \"jupyterhub\", \"repo\": \"action-k3s-helm\", \"number\": 1, \"org/repo\": \"jupyterhub/action-k3s-helm\"}, {\"org\": \"jupyterhub\", \"repo\": \"binderhub\", \"number\": 3, \"org/repo\": \"jupyterhub/binderhub\"}, {\"org\": \"jupyterhub\", \"repo\": \"jupyterhub\", \"number\": 3, \"org/repo\": \"jupyterhub/jupyterhub\"}, {\"org\": \"jupyterhub\", \"repo\": \"kubespawner\", \"number\": 1, \"org/repo\": \"jupyterhub/kubespawner\"}, {\"org\": \"jupyterhub\", \"repo\": \"ldapauthenticator\", \"number\": 1, \"org/repo\": \"jupyterhub/ldapauthenticator\"}, {\"org\": \"jupyterhub\", \"repo\": \"mybinder.org-deploy\", \"number\": 1, \"org/repo\": \"jupyterhub/mybinder.org-deploy\"}, {\"org\": \"jupyterhub\", \"repo\": \"nativeauthenticator\", \"number\": 1, \"org/repo\": \"jupyterhub/nativeauthenticator\"}, {\"org\": \"jupyterhub\", \"repo\": \"oauthenticator\", \"number\": 1, \"org/repo\": \"jupyterhub/oauthenticator\"}, {\"org\": \"jupyterhub\", \"repo\": \"traefik-proxy\", \"number\": 1, \"org/repo\": \"jupyterhub/traefik-proxy\"}, {\"org\": \"jupyterhub\", \"repo\": \"zero-to-jupyterhub-k8s\", \"number\": 3, \"org/repo\": \"jupyterhub/zero-to-jupyterhub-k8s\"}]}}, {\"mode\": \"vega-lite\"});\n",
       "</script>"
      ],
      "text/plain": [
       "alt.Chart(...)"
      ]
     },
     "execution_count": 14,
     "metadata": {},
     "output_type": "execute_result"
    }
   ],
   "source": [
    "closed_counts = closed.groupby(['org', 'repo']).count()['number'].reset_index()\n",
    "closed_counts['org/repo'] = closed_counts.apply(lambda a: a['org'] + '/' + a['repo'], axis=1)\n",
    "sorted_vals = closed_counts.sort_values(['number'], ascending=False)['repo'].values\n",
    "alt.Chart(data=closed_counts, title=f\"Issues closed in the last {n_days} days\").mark_bar().encode(\n",
    "    x=alt.X('repo', sort=alt.Sort(sorted_vals.tolist())),\n",
    "    y='number',\n",
    ")"
   ]
  },
  {
   "cell_type": "code",
   "execution_count": 15,
   "metadata": {
    "tags": [
     "remove_cell"
    ]
   },
   "outputs": [],
   "source": [
    "created_closed = pd.merge(created_counts.rename(columns={'number': 'created'}).drop(columns='org/repo'),\n",
    "                          closed_counts.rename(columns={'number': 'closed'}).drop(columns='org/repo'),\n",
    "                          on=['org', 'repo'], how='outer')\n",
    "\n",
    "created_closed = pd.melt(created_closed, id_vars=['org', 'repo'], var_name=\"kind\", value_name=\"count\").replace(np.nan, 0)"
   ]
  },
  {
   "cell_type": "code",
   "execution_count": 16,
   "metadata": {
    "tags": [
     "hide_input"
    ]
   },
   "outputs": [
    {
     "data": {
      "text/html": [
       "\n",
       "<div id=\"altair-viz-ca05590ec13a4eb7b2abe1b9caac6081\"></div>\n",
       "<script type=\"text/javascript\">\n",
       "  (function(spec, embedOpt){\n",
       "    let outputDiv = document.currentScript.previousElementSibling;\n",
       "    if (outputDiv.id !== \"altair-viz-ca05590ec13a4eb7b2abe1b9caac6081\") {\n",
       "      outputDiv = document.getElementById(\"altair-viz-ca05590ec13a4eb7b2abe1b9caac6081\");\n",
       "    }\n",
       "    const paths = {\n",
       "      \"vega\": \"https://cdn.jsdelivr.net/npm//vega@5?noext\",\n",
       "      \"vega-lib\": \"https://cdn.jsdelivr.net/npm//vega-lib?noext\",\n",
       "      \"vega-lite\": \"https://cdn.jsdelivr.net/npm//vega-lite@4.8.1?noext\",\n",
       "      \"vega-embed\": \"https://cdn.jsdelivr.net/npm//vega-embed@6?noext\",\n",
       "    };\n",
       "\n",
       "    function loadScript(lib) {\n",
       "      return new Promise(function(resolve, reject) {\n",
       "        var s = document.createElement('script');\n",
       "        s.src = paths[lib];\n",
       "        s.async = true;\n",
       "        s.onload = () => resolve(paths[lib]);\n",
       "        s.onerror = () => reject(`Error loading script: ${paths[lib]}`);\n",
       "        document.getElementsByTagName(\"head\")[0].appendChild(s);\n",
       "      });\n",
       "    }\n",
       "\n",
       "    function showError(err) {\n",
       "      outputDiv.innerHTML = `<div class=\"error\" style=\"color:red;\">${err}</div>`;\n",
       "      throw err;\n",
       "    }\n",
       "\n",
       "    function displayChart(vegaEmbed) {\n",
       "      vegaEmbed(outputDiv, spec, embedOpt)\n",
       "        .catch(err => showError(`Javascript Error: ${err.message}<br>This usually means there's a typo in your chart specification. See the javascript console for the full traceback.`));\n",
       "    }\n",
       "\n",
       "    if(typeof define === \"function\" && define.amd) {\n",
       "      requirejs.config({paths});\n",
       "      require([\"vega-embed\"], displayChart, err => showError(`Error loading script: ${err.message}`));\n",
       "    } else if (typeof vegaEmbed === \"function\") {\n",
       "      displayChart(vegaEmbed);\n",
       "    } else {\n",
       "      loadScript(\"vega\")\n",
       "        .then(() => loadScript(\"vega-lite\"))\n",
       "        .then(() => loadScript(\"vega-embed\"))\n",
       "        .catch(showError)\n",
       "        .then(() => displayChart(vegaEmbed));\n",
       "    }\n",
       "  })({\"config\": {\"axisLeft\": {\"labelFontSize\": 15}, \"axisBottom\": {\"labelFontSize\": 15}}, \"data\": {\"name\": \"data-75eac22685f2c2d4df1ffe4148a4064e\"}, \"mark\": \"bar\", \"encoding\": {\"color\": {\"type\": \"nominal\", \"field\": \"kind\"}, \"column\": {\"type\": \"nominal\", \"field\": \"repo\", \"header\": {\"labelFontSize\": 12, \"title\": \"Issue activity, last 10 days for jupyterhub\", \"titleFontSize\": 15}}, \"x\": {\"type\": \"nominal\", \"axis\": {\"labelFontSize\": 15, \"title\": \"\"}, \"field\": \"kind\"}, \"y\": {\"type\": \"quantitative\", \"axis\": {\"labelFontSize\": 12, \"titleFontSize\": 15}, \"field\": \"count\"}}, \"width\": 120, \"$schema\": \"https://vega.github.io/schema/vega-lite/v4.8.1.json\", \"datasets\": {\"data-75eac22685f2c2d4df1ffe4148a4064e\": [{\"org\": \"jupyterhub\", \"repo\": \"autodoc-traits\", \"kind\": \"created\", \"count\": 1.0}, {\"org\": \"jupyterhub\", \"repo\": \"binderhub\", \"kind\": \"created\", \"count\": 3.0}, {\"org\": \"jupyterhub\", \"repo\": \"jupyterhub\", \"kind\": \"created\", \"count\": 2.0}, {\"org\": \"jupyterhub\", \"repo\": \"kubespawner\", \"kind\": \"created\", \"count\": 1.0}, {\"org\": \"jupyterhub\", \"repo\": \"mybinder.org-deploy\", \"kind\": \"created\", \"count\": 2.0}, {\"org\": \"jupyterhub\", \"repo\": \"nativeauthenticator\", \"kind\": \"created\", \"count\": 4.0}, {\"org\": \"jupyterhub\", \"repo\": \"team-compass\", \"kind\": \"created\", \"count\": 2.0}, {\"org\": \"jupyterhub\", \"repo\": \"the-littlest-jupyterhub\", \"kind\": \"created\", \"count\": 4.0}, {\"org\": \"jupyterhub\", \"repo\": \"action-k3s-helm\", \"kind\": \"created\", \"count\": 0.0}, {\"org\": \"jupyterhub\", \"repo\": \"zero-to-jupyterhub-k8s\", \"kind\": \"created\", \"count\": 0.0}, {\"org\": \"jupyterhub\", \"repo\": \"autodoc-traits\", \"kind\": \"closed\", \"count\": 0.0}, {\"org\": \"jupyterhub\", \"repo\": \"binderhub\", \"kind\": \"closed\", \"count\": 3.0}, {\"org\": \"jupyterhub\", \"repo\": \"jupyterhub\", \"kind\": \"closed\", \"count\": 3.0}, {\"org\": \"jupyterhub\", \"repo\": \"kubespawner\", \"kind\": \"closed\", \"count\": 1.0}, {\"org\": \"jupyterhub\", \"repo\": \"mybinder.org-deploy\", \"kind\": \"closed\", \"count\": 1.0}, {\"org\": \"jupyterhub\", \"repo\": \"nativeauthenticator\", \"kind\": \"closed\", \"count\": 1.0}, {\"org\": \"jupyterhub\", \"repo\": \"team-compass\", \"kind\": \"closed\", \"count\": 0.0}, {\"org\": \"jupyterhub\", \"repo\": \"the-littlest-jupyterhub\", \"kind\": \"closed\", \"count\": 0.0}, {\"org\": \"jupyterhub\", \"repo\": \"action-k3s-helm\", \"kind\": \"closed\", \"count\": 1.0}, {\"org\": \"jupyterhub\", \"repo\": \"zero-to-jupyterhub-k8s\", \"kind\": \"closed\", \"count\": 3.0}]}}, {\"mode\": \"vega-lite\"});\n",
       "</script>"
      ],
      "text/plain": [
       "alt.Chart(...)"
      ]
     },
     "execution_count": 16,
     "metadata": {},
     "output_type": "execute_result"
    }
   ],
   "source": [
    "charts = []\n",
    "# Pick the top 10 repositories\n",
    "top_repos = created_closed.groupby(['repo']).sum().sort_values(by='count', ascending=False).head(10).index\n",
    "ch = alt.Chart(created_closed.query('repo in @top_repos'), width=120).mark_bar().encode(\n",
    "    x=alt.X(\"kind\", axis=alt.Axis(labelFontSize=15, title=\"\")), \n",
    "    y=alt.Y('count', axis=alt.Axis(titleFontSize=15, labelFontSize=12)),\n",
    "    color='kind',\n",
    "    column=alt.Column(\"repo\", header=alt.Header(title=f\"Issue activity, last {n_days} days for {github_org}\", titleFontSize=15, labelFontSize=12))\n",
    ")\n",
    "ch"
   ]
  },
  {
   "cell_type": "code",
   "execution_count": 17,
   "metadata": {
    "tags": [
     "remove_cell"
    ]
   },
   "outputs": [],
   "source": [
    "# Set to datetime\n",
    "for kind in ['createdAt', 'closedAt']:\n",
    "    closed.loc[:, kind] = pd.to_datetime(closed[kind])\n",
    "    \n",
    "closed.loc[:, 'time_open'] = closed['closedAt'] - closed['createdAt']\n",
    "closed.loc[:, 'time_open'] = closed['time_open'].dt.total_seconds()"
   ]
  },
  {
   "cell_type": "code",
   "execution_count": 18,
   "metadata": {
    "tags": [
     "hide_input"
    ]
   },
   "outputs": [
    {
     "data": {
      "text/html": [
       "\n",
       "<div id=\"altair-viz-b5ddef3f77e5408eb3da3b6160789c42\"></div>\n",
       "<script type=\"text/javascript\">\n",
       "  (function(spec, embedOpt){\n",
       "    let outputDiv = document.currentScript.previousElementSibling;\n",
       "    if (outputDiv.id !== \"altair-viz-b5ddef3f77e5408eb3da3b6160789c42\") {\n",
       "      outputDiv = document.getElementById(\"altair-viz-b5ddef3f77e5408eb3da3b6160789c42\");\n",
       "    }\n",
       "    const paths = {\n",
       "      \"vega\": \"https://cdn.jsdelivr.net/npm//vega@5?noext\",\n",
       "      \"vega-lib\": \"https://cdn.jsdelivr.net/npm//vega-lib?noext\",\n",
       "      \"vega-lite\": \"https://cdn.jsdelivr.net/npm//vega-lite@4.8.1?noext\",\n",
       "      \"vega-embed\": \"https://cdn.jsdelivr.net/npm//vega-embed@6?noext\",\n",
       "    };\n",
       "\n",
       "    function loadScript(lib) {\n",
       "      return new Promise(function(resolve, reject) {\n",
       "        var s = document.createElement('script');\n",
       "        s.src = paths[lib];\n",
       "        s.async = true;\n",
       "        s.onload = () => resolve(paths[lib]);\n",
       "        s.onerror = () => reject(`Error loading script: ${paths[lib]}`);\n",
       "        document.getElementsByTagName(\"head\")[0].appendChild(s);\n",
       "      });\n",
       "    }\n",
       "\n",
       "    function showError(err) {\n",
       "      outputDiv.innerHTML = `<div class=\"error\" style=\"color:red;\">${err}</div>`;\n",
       "      throw err;\n",
       "    }\n",
       "\n",
       "    function displayChart(vegaEmbed) {\n",
       "      vegaEmbed(outputDiv, spec, embedOpt)\n",
       "        .catch(err => showError(`Javascript Error: ${err.message}<br>This usually means there's a typo in your chart specification. See the javascript console for the full traceback.`));\n",
       "    }\n",
       "\n",
       "    if(typeof define === \"function\" && define.amd) {\n",
       "      requirejs.config({paths});\n",
       "      require([\"vega-embed\"], displayChart, err => showError(`Error loading script: ${err.message}`));\n",
       "    } else if (typeof vegaEmbed === \"function\") {\n",
       "      displayChart(vegaEmbed);\n",
       "    } else {\n",
       "      loadScript(\"vega\")\n",
       "        .then(() => loadScript(\"vega-lite\"))\n",
       "        .then(() => loadScript(\"vega-embed\"))\n",
       "        .catch(showError)\n",
       "        .then(() => displayChart(vegaEmbed));\n",
       "    }\n",
       "  })({\"config\": {\"axisLeft\": {\"labelFontSize\": 15}, \"axisBottom\": {\"labelFontSize\": 15}}, \"data\": {\"name\": \"data-6de8bf6277bea20a4fe87ad801ad6e80\"}, \"mark\": \"bar\", \"encoding\": {\"x\": {\"type\": \"nominal\", \"field\": \"repo\", \"sort\": [\"binderhub\", \"nativeauthenticator\", \"oauthenticator\", \"zero-to-jupyterhub-k8s\", \"traefik-proxy\", \"jupyterhub\", \"action-k3s-helm\", \"kubespawner\", \"mybinder.org-deploy\", \"ldapauthenticator\"]}, \"y\": {\"type\": \"quantitative\", \"field\": \"time_open\", \"title\": \"Median Days Open\"}}, \"title\": \"Time to close for issues closed in the last 10 days\", \"$schema\": \"https://vega.github.io/schema/vega-lite/v4.8.1.json\", \"datasets\": {\"data-6de8bf6277bea20a4fe87ad801ad6e80\": [{\"org\": \"jupyterhub\", \"repo\": \"action-k3s-helm\", \"time_open\": 0.1607986111111111, \"org/repo\": \"jupyterhub/action-k3s-helm\"}, {\"org\": \"jupyterhub\", \"repo\": \"binderhub\", \"time_open\": 341.2082986111111, \"org/repo\": \"jupyterhub/binderhub\"}, {\"org\": \"jupyterhub\", \"repo\": \"jupyterhub\", \"time_open\": 0.34034722222222225, \"org/repo\": \"jupyterhub/jupyterhub\"}, {\"org\": \"jupyterhub\", \"repo\": \"kubespawner\", \"time_open\": 0.14530092592592592, \"org/repo\": \"jupyterhub/kubespawner\"}, {\"org\": \"jupyterhub\", \"repo\": \"ldapauthenticator\", \"time_open\": 0.013935185185185186, \"org/repo\": \"jupyterhub/ldapauthenticator\"}, {\"org\": \"jupyterhub\", \"repo\": \"mybinder.org-deploy\", \"time_open\": 0.05637731481481482, \"org/repo\": \"jupyterhub/mybinder.org-deploy\"}, {\"org\": \"jupyterhub\", \"repo\": \"nativeauthenticator\", \"time_open\": 157.08428240740741, \"org/repo\": \"jupyterhub/nativeauthenticator\"}, {\"org\": \"jupyterhub\", \"repo\": \"oauthenticator\", \"time_open\": 9.816851851851851, \"org/repo\": \"jupyterhub/oauthenticator\"}, {\"org\": \"jupyterhub\", \"repo\": \"traefik-proxy\", \"time_open\": 0.7560416666666667, \"org/repo\": \"jupyterhub/traefik-proxy\"}, {\"org\": \"jupyterhub\", \"repo\": \"zero-to-jupyterhub-k8s\", \"time_open\": 8.197106481481482, \"org/repo\": \"jupyterhub/zero-to-jupyterhub-k8s\"}]}}, {\"mode\": \"vega-lite\"});\n",
       "</script>"
      ],
      "text/plain": [
       "alt.Chart(...)"
      ]
     },
     "execution_count": 18,
     "metadata": {},
     "output_type": "execute_result"
    }
   ],
   "source": [
    "time_open = closed.groupby(['org', 'repo']).agg({'time_open': 'median'}).reset_index()\n",
    "time_open['time_open'] = time_open['time_open'] / (60 * 60 * 24)\n",
    "time_open['org/repo'] = time_open.apply(lambda a: a['org'] + '/' + a['repo'], axis=1)\n",
    "sorted_vals = time_open.sort_values(['org', 'time_open'], ascending=False)['repo'].values\n",
    "alt.Chart(data=time_open, title=f\"Time to close for issues closed in the last {n_days} days\").mark_bar().encode(\n",
    "    x=alt.X('repo', sort=alt.Sort(sorted_vals.tolist())),\n",
    "    y=alt.Y('time_open', title=\"Median Days Open\"),\n",
    ")"
   ]
  },
  {
   "cell_type": "markdown",
   "metadata": {},
   "source": [
    "## Most-upvoted issues"
   ]
  },
  {
   "cell_type": "code",
   "execution_count": 19,
   "metadata": {
    "tags": [
     "hide_input"
    ]
   },
   "outputs": [
    {
     "data": {
      "application/vnd.jupyter.widget-view+json": {
       "model_id": "c32f51ef290c412282499607a7e2499e",
       "version_major": 2,
       "version_minor": 0
      },
      "text/plain": [
       "HTML(value='<ul>\\n<li>(5.0) Coordinate use-cases / infra around JupyterHubs+other applications on Kubernetes -…"
      ]
     },
     "metadata": {},
     "output_type": "display_data"
    }
   ],
   "source": [
    "thumbsup = issues.sort_values(\"thumbsup\", ascending=False).head(25)\n",
    "thumbsup = thumbsup[[\"title\", \"url\", \"number\", \"thumbsup\", \"repo\"]]\n",
    "\n",
    "text = []\n",
    "for ii, irow in thumbsup.iterrows():\n",
    "    itext = f\"- ({irow['thumbsup']}) {irow['title']} - {irow['repo']} - [#{irow['number']}]({irow['url']})\"\n",
    "    text.append(itext)\n",
    "text = '\\n'.join(text)\n",
    "HTML(markdown(text))"
   ]
  },
  {
   "cell_type": "markdown",
   "metadata": {},
   "source": [
    "## Commenters across repositories\n",
    "\n",
    "These are commenters across all issues and pull requests in the last several days.\n",
    "These are colored by the commenter's association with the organization. For information\n",
    "about what these associations mean, [see this StackOverflow post](https://stackoverflow.com/a/28866914/1927102)."
   ]
  },
  {
   "cell_type": "code",
   "execution_count": 20,
   "metadata": {
    "tags": [
     "remove_cell"
    ]
   },
   "outputs": [],
   "source": [
    "commentors = (\n",
    "    comments\n",
    "    .query(\"createdAt > @start_date and createdAt < @stop_date\")\n",
    "    .groupby(['org', 'repo', 'author', 'authorAssociation'])\n",
    "    .count().rename(columns={'id': 'count'})['count']\n",
    "    .reset_index()\n",
    "    .sort_values(['org', 'count'], ascending=False)\n",
    ")"
   ]
  },
  {
   "cell_type": "code",
   "execution_count": 21,
   "metadata": {
    "tags": [
     "hide_input"
    ]
   },
   "outputs": [
    {
     "data": {
      "text/html": [
       "\n",
       "<div id=\"altair-viz-0e856d9525ca43a0be41cd7c28a57407\"></div>\n",
       "<script type=\"text/javascript\">\n",
       "  (function(spec, embedOpt){\n",
       "    let outputDiv = document.currentScript.previousElementSibling;\n",
       "    if (outputDiv.id !== \"altair-viz-0e856d9525ca43a0be41cd7c28a57407\") {\n",
       "      outputDiv = document.getElementById(\"altair-viz-0e856d9525ca43a0be41cd7c28a57407\");\n",
       "    }\n",
       "    const paths = {\n",
       "      \"vega\": \"https://cdn.jsdelivr.net/npm//vega@5?noext\",\n",
       "      \"vega-lib\": \"https://cdn.jsdelivr.net/npm//vega-lib?noext\",\n",
       "      \"vega-lite\": \"https://cdn.jsdelivr.net/npm//vega-lite@4.8.1?noext\",\n",
       "      \"vega-embed\": \"https://cdn.jsdelivr.net/npm//vega-embed@6?noext\",\n",
       "    };\n",
       "\n",
       "    function loadScript(lib) {\n",
       "      return new Promise(function(resolve, reject) {\n",
       "        var s = document.createElement('script');\n",
       "        s.src = paths[lib];\n",
       "        s.async = true;\n",
       "        s.onload = () => resolve(paths[lib]);\n",
       "        s.onerror = () => reject(`Error loading script: ${paths[lib]}`);\n",
       "        document.getElementsByTagName(\"head\")[0].appendChild(s);\n",
       "      });\n",
       "    }\n",
       "\n",
       "    function showError(err) {\n",
       "      outputDiv.innerHTML = `<div class=\"error\" style=\"color:red;\">${err}</div>`;\n",
       "      throw err;\n",
       "    }\n",
       "\n",
       "    function displayChart(vegaEmbed) {\n",
       "      vegaEmbed(outputDiv, spec, embedOpt)\n",
       "        .catch(err => showError(`Javascript Error: ${err.message}<br>This usually means there's a typo in your chart specification. See the javascript console for the full traceback.`));\n",
       "    }\n",
       "\n",
       "    if(typeof define === \"function\" && define.amd) {\n",
       "      requirejs.config({paths});\n",
       "      require([\"vega-embed\"], displayChart, err => showError(`Error loading script: ${err.message}`));\n",
       "    } else if (typeof vegaEmbed === \"function\") {\n",
       "      displayChart(vegaEmbed);\n",
       "    } else {\n",
       "      loadScript(\"vega\")\n",
       "        .then(() => loadScript(\"vega-lite\"))\n",
       "        .then(() => loadScript(\"vega-embed\"))\n",
       "        .catch(showError)\n",
       "        .then(() => displayChart(vegaEmbed));\n",
       "    }\n",
       "  })({\"config\": {\"axisLeft\": {\"labelFontSize\": 15}, \"axisBottom\": {\"labelFontSize\": 15}}, \"hconcat\": [{\"mark\": \"bar\", \"encoding\": {\"color\": {\"type\": \"nominal\", \"field\": \"authorAssociation\", \"scale\": {\"domain\": [\"MEMBER\", \"CONTRIBUTOR\", \"COLLABORATOR\", \"NONE\"], \"range\": [\"rgb(211.82745098039214, 211.82745098039214, 211.82745098039214)\", \"rgb(166.98562091503268, 229.89803921568628, 166.98562091503268)\", \"rgb(96.37647058823529, 192.75294117647059, 96.37647058823529)\", \"rgb(0.0, 100.3921568627451, 0.0)\"]}}, \"x\": {\"type\": \"nominal\", \"field\": \"author\"}, \"y\": {\"type\": \"quantitative\", \"field\": \"count\"}}, \"title\": \"Top 50 commentors for jupyterhub in the last 10 days\"}], \"data\": {\"name\": \"data-245947e325d2976159c340c36d381d28\"}, \"$schema\": \"https://vega.github.io/schema/vega-lite/v4.8.1.json\", \"datasets\": {\"data-245947e325d2976159c340c36d381d28\": [{\"author\": \"consideRatio\", \"count\": 54, \"authorAssociation\": \"MEMBER\"}, {\"author\": \"minrk\", \"count\": 13, \"authorAssociation\": \"MEMBER\"}, {\"author\": \"sgibson91\", \"count\": 10, \"authorAssociation\": \"MEMBER\"}, {\"author\": \"manics\", \"count\": 9, \"authorAssociation\": \"MEMBER\"}, {\"author\": \"yuvipanda\", \"count\": 6, \"authorAssociation\": \"MEMBER\"}, {\"author\": \"choldgraf\", \"count\": 5, \"authorAssociation\": \"MEMBER\"}, {\"author\": \"willingc\", \"count\": 3, \"authorAssociation\": \"MEMBER\"}, {\"author\": \"lambdaTotoro\", \"count\": 2, \"authorAssociation\": \"COLLABORATOR\"}, {\"author\": \"xopham\", \"count\": 1, \"authorAssociation\": \"NONE\"}, {\"author\": \"trallard\", \"count\": 1, \"authorAssociation\": \"CONTRIBUTOR\"}, {\"author\": \"rdmolony\", \"count\": 1, \"authorAssociation\": \"NONE\"}, {\"author\": \"mriedem\", \"count\": 1, \"authorAssociation\": \"CONTRIBUTOR\"}, {\"author\": \"millerhooks\", \"count\": 1, \"authorAssociation\": \"NONE\"}, {\"author\": \"lordk911\", \"count\": 1, \"authorAssociation\": \"NONE\"}, {\"author\": \"alxsimon\", \"count\": 1, \"authorAssociation\": \"NONE\"}, {\"author\": \"betatim\", \"count\": 1, \"authorAssociation\": \"MEMBER\"}, {\"author\": \"jhgoebbert\", \"count\": 1, \"authorAssociation\": \"NONE\"}, {\"author\": \"jbaksta\", \"count\": 1, \"authorAssociation\": \"NONE\"}, {\"author\": \"jagodzinska\", \"count\": 1, \"authorAssociation\": \"NONE\"}, {\"author\": \"dvandok\", \"count\": 1, \"authorAssociation\": \"NONE\"}, {\"author\": \"dreamcorneto\", \"count\": 1, \"authorAssociation\": \"NONE\"}, {\"author\": \"djangoliv\", \"count\": 1, \"authorAssociation\": \"NONE\"}, {\"author\": \"davidedelvento\", \"count\": 1, \"authorAssociation\": \"NONE\"}, {\"author\": \"cteplovs\", \"count\": 1, \"authorAssociation\": \"NONE\"}, {\"author\": \"bjornarfjelldal\", \"count\": 1, \"authorAssociation\": \"NONE\"}, {\"author\": \"josmartin\", \"count\": 1, \"authorAssociation\": \"NONE\"}]}}, {\"mode\": \"vega-lite\"});\n",
       "</script>"
      ],
      "text/plain": [
       "alt.HConcatChart(...)"
      ]
     },
     "execution_count": 21,
     "metadata": {},
     "output_type": "execute_result"
    }
   ],
   "source": [
    "n_plot = 50\n",
    "charts = []\n",
    "for ii, (iorg, idata) in enumerate(commentors.groupby(['org'])):\n",
    "    title = f\"Top {n_plot} commentors for {iorg} in the last {n_days} days\"\n",
    "    idata = idata.groupby('author', as_index=False).agg({'count': 'sum', 'authorAssociation': 'first'})\n",
    "    idata = idata.sort_values('count', ascending=False).head(n_plot)\n",
    "    ch = alt.Chart(data=idata.head(n_plot), title=title).mark_bar().encode(\n",
    "        x='author',\n",
    "        y='count',\n",
    "        color=alt.Color('authorAssociation', scale=alt.Scale(domain=author_types, range=author_colors))\n",
    "    )\n",
    "    charts.append(ch)\n",
    "alt.hconcat(*charts)"
   ]
  },
  {
   "cell_type": "markdown",
   "metadata": {},
   "source": [
    "## First responders\n",
    "\n",
    "First responders are the first people to respond to a new issue in one of the repositories.\n",
    "The following plots show first responders for recently-created issues."
   ]
  },
  {
   "cell_type": "code",
   "execution_count": 22,
   "metadata": {
    "tags": [
     "remove_cell"
    ]
   },
   "outputs": [],
   "source": [
    "first_comments = []\n",
    "for (org, repo, issue_id), i_comments in comments.groupby(['org', 'repo', 'id']):\n",
    "    ix_min = pd.to_datetime(i_comments['createdAt']).idxmin()\n",
    "    first_comment = i_comments.loc[ix_min]\n",
    "    if isinstance(first_comment, pd.DataFrame):\n",
    "        first_comment = first_comment.iloc[0]\n",
    "    first_comments.append(first_comment)\n",
    "first_comments = pd.concat(first_comments, axis=1).T\n",
    "\n",
    "# Make up counts for viz\n",
    "first_responder_counts = first_comments.groupby(['org', 'author', 'authorAssociation'], as_index=False).\\\n",
    "    count().rename(columns={'id': 'n_first_responses'}).sort_values(['org', 'n_first_responses'], ascending=False)\n"
   ]
  },
  {
   "cell_type": "code",
   "execution_count": 23,
   "metadata": {
    "tags": [
     "hide_input"
    ]
   },
   "outputs": [
    {
     "data": {
      "text/html": [
       "\n",
       "<div id=\"altair-viz-a57e21bfcde94884b7c99973a8390d12\"></div>\n",
       "<script type=\"text/javascript\">\n",
       "  (function(spec, embedOpt){\n",
       "    let outputDiv = document.currentScript.previousElementSibling;\n",
       "    if (outputDiv.id !== \"altair-viz-a57e21bfcde94884b7c99973a8390d12\") {\n",
       "      outputDiv = document.getElementById(\"altair-viz-a57e21bfcde94884b7c99973a8390d12\");\n",
       "    }\n",
       "    const paths = {\n",
       "      \"vega\": \"https://cdn.jsdelivr.net/npm//vega@5?noext\",\n",
       "      \"vega-lib\": \"https://cdn.jsdelivr.net/npm//vega-lib?noext\",\n",
       "      \"vega-lite\": \"https://cdn.jsdelivr.net/npm//vega-lite@4.8.1?noext\",\n",
       "      \"vega-embed\": \"https://cdn.jsdelivr.net/npm//vega-embed@6?noext\",\n",
       "    };\n",
       "\n",
       "    function loadScript(lib) {\n",
       "      return new Promise(function(resolve, reject) {\n",
       "        var s = document.createElement('script');\n",
       "        s.src = paths[lib];\n",
       "        s.async = true;\n",
       "        s.onload = () => resolve(paths[lib]);\n",
       "        s.onerror = () => reject(`Error loading script: ${paths[lib]}`);\n",
       "        document.getElementsByTagName(\"head\")[0].appendChild(s);\n",
       "      });\n",
       "    }\n",
       "\n",
       "    function showError(err) {\n",
       "      outputDiv.innerHTML = `<div class=\"error\" style=\"color:red;\">${err}</div>`;\n",
       "      throw err;\n",
       "    }\n",
       "\n",
       "    function displayChart(vegaEmbed) {\n",
       "      vegaEmbed(outputDiv, spec, embedOpt)\n",
       "        .catch(err => showError(`Javascript Error: ${err.message}<br>This usually means there's a typo in your chart specification. See the javascript console for the full traceback.`));\n",
       "    }\n",
       "\n",
       "    if(typeof define === \"function\" && define.amd) {\n",
       "      requirejs.config({paths});\n",
       "      require([\"vega-embed\"], displayChart, err => showError(`Error loading script: ${err.message}`));\n",
       "    } else if (typeof vegaEmbed === \"function\") {\n",
       "      displayChart(vegaEmbed);\n",
       "    } else {\n",
       "      loadScript(\"vega\")\n",
       "        .then(() => loadScript(\"vega-lite\"))\n",
       "        .then(() => loadScript(\"vega-embed\"))\n",
       "        .catch(showError)\n",
       "        .then(() => displayChart(vegaEmbed));\n",
       "    }\n",
       "  })({\"config\": {\"axisLeft\": {\"labelFontSize\": 15}, \"axisBottom\": {\"labelFontSize\": 15}}, \"data\": {\"name\": \"data-436160fb1f0093c48a10fe9a746b0bfd\"}, \"mark\": \"bar\", \"encoding\": {\"color\": {\"type\": \"nominal\", \"field\": \"authorAssociation\", \"scale\": {\"domain\": [\"MEMBER\", \"CONTRIBUTOR\", \"COLLABORATOR\", \"NONE\"], \"range\": [\"rgb(211.82745098039214, 211.82745098039214, 211.82745098039214)\", \"rgb(166.98562091503268, 229.89803921568628, 166.98562091503268)\", \"rgb(96.37647058823529, 192.75294117647059, 96.37647058823529)\", \"rgb(0.0, 100.3921568627451, 0.0)\"]}}, \"x\": {\"type\": \"nominal\", \"field\": \"author\"}, \"y\": {\"type\": \"quantitative\", \"field\": \"n_first_responses\"}}, \"title\": \"Top 50 first responders for jupyterhub in the last 10 days\", \"$schema\": \"https://vega.github.io/schema/vega-lite/v4.8.1.json\", \"datasets\": {\"data-436160fb1f0093c48a10fe9a746b0bfd\": [{\"author\": \"consideRatio\", \"n_first_responses\": 189, \"authorAssociation\": \"MEMBER\"}, {\"author\": \"manics\", \"n_first_responses\": 152, \"authorAssociation\": \"MEMBER\"}, {\"author\": \"yuvipanda\", \"n_first_responses\": 100, \"authorAssociation\": \"MEMBER\"}, {\"author\": \"betatim\", \"n_first_responses\": 99, \"authorAssociation\": \"MEMBER\"}, {\"author\": \"minrk\", \"n_first_responses\": 93, \"authorAssociation\": \"MEMBER\"}, {\"author\": \"choldgraf\", \"n_first_responses\": 53, \"authorAssociation\": \"MEMBER\"}, {\"author\": \"willingc\", \"n_first_responses\": 25, \"authorAssociation\": \"MEMBER\"}, {\"author\": \"sgibson91\", \"n_first_responses\": 18, \"authorAssociation\": \"MEMBER\"}, {\"author\": \"GeorgianaElena\", \"n_first_responses\": 15, \"authorAssociation\": \"MEMBER\"}, {\"author\": \"ryanlovett\", \"n_first_responses\": 9, \"authorAssociation\": \"MEMBER\"}, {\"author\": \"jtpio\", \"n_first_responses\": 8, \"authorAssociation\": \"CONTRIBUTOR\"}, {\"author\": \"ryogesh\", \"n_first_responses\": 8, \"authorAssociation\": \"CONTRIBUTOR\"}, {\"author\": \"lambdaTotoro\", \"n_first_responses\": 5, \"authorAssociation\": \"COLLABORATOR\"}, {\"author\": \"stv0g\", \"n_first_responses\": 4, \"authorAssociation\": \"CONTRIBUTOR\"}, {\"author\": \"missingcharacter\", \"n_first_responses\": 4, \"authorAssociation\": \"CONTRIBUTOR\"}, {\"author\": \"bitnik\", \"n_first_responses\": 4, \"authorAssociation\": \"COLLABORATOR\"}, {\"author\": \"davidedelvento\", \"n_first_responses\": 3, \"authorAssociation\": \"NONE\"}, {\"author\": \"jzf2101\", \"n_first_responses\": 3, \"authorAssociation\": \"MEMBER\"}, {\"author\": \"isabela-pf\", \"n_first_responses\": 3, \"authorAssociation\": \"NONE\"}, {\"author\": \"rcthomas\", \"n_first_responses\": 3, \"authorAssociation\": \"CONTRIBUTOR\"}, {\"author\": \"leportella\", \"n_first_responses\": 3, \"authorAssociation\": \"COLLABORATOR\"}, {\"author\": \"remche\", \"n_first_responses\": 3, \"authorAssociation\": \"NONE\"}, {\"author\": \"albertmichaelj\", \"n_first_responses\": 3, \"authorAssociation\": \"NONE\"}, {\"author\": \"jgwerner\", \"n_first_responses\": 3, \"authorAssociation\": \"COLLABORATOR\"}, {\"author\": \"rkdarst\", \"n_first_responses\": 3, \"authorAssociation\": \"COLLABORATOR\"}, {\"author\": \"snickell\", \"n_first_responses\": 3, \"authorAssociation\": \"NONE\"}, {\"author\": \"devnull-mr\", \"n_first_responses\": 3, \"authorAssociation\": \"CONTRIBUTOR\"}, {\"author\": \"steelcup\", \"n_first_responses\": 2, \"authorAssociation\": \"NONE\"}, {\"author\": \"Carreau\", \"n_first_responses\": 2, \"authorAssociation\": \"MEMBER\"}, {\"author\": \"rpwagner\", \"n_first_responses\": 2, \"authorAssociation\": \"CONTRIBUTOR\"}, {\"author\": \"nmvega\", \"n_first_responses\": 2, \"authorAssociation\": \"NONE\"}, {\"author\": \"NickolausDS\", \"n_first_responses\": 2, \"authorAssociation\": \"CONTRIBUTOR\"}, {\"author\": \"SylvainCorlay\", \"n_first_responses\": 2, \"authorAssociation\": \"COLLABORATOR\"}, {\"author\": \"arnim\", \"n_first_responses\": 2, \"authorAssociation\": \"NONE\"}, {\"author\": \"mathause\", \"n_first_responses\": 1, \"authorAssociation\": \"NONE\"}, {\"author\": \"oeway\", \"n_first_responses\": 1, \"authorAssociation\": \"CONTRIBUTOR\"}, {\"author\": \"mathbunnyru\", \"n_first_responses\": 1, \"authorAssociation\": \"NONE\"}, {\"author\": \"nilsga\", \"n_first_responses\": 1, \"authorAssociation\": \"NONE\"}, {\"author\": \"ots22\", \"n_first_responses\": 1, \"authorAssociation\": \"NONE\"}, {\"author\": \"milliams\", \"n_first_responses\": 1, \"authorAssociation\": \"NONE\"}, {\"author\": \"nbastin\", \"n_first_responses\": 1, \"authorAssociation\": \"NONE\"}, {\"author\": \"nicain\", \"n_first_responses\": 1, \"authorAssociation\": \"NONE\"}, {\"author\": \"nethsix\", \"n_first_responses\": 1, \"authorAssociation\": \"NONE\"}, {\"author\": \"matthewlang\", \"n_first_responses\": 1, \"authorAssociation\": \"NONE\"}, {\"author\": \"msummers42\", \"n_first_responses\": 1, \"authorAssociation\": \"NONE\"}, {\"author\": \"mskblackbelt\", \"n_first_responses\": 1, \"authorAssociation\": \"NONE\"}, {\"author\": \"mbmilligan\", \"n_first_responses\": 1, \"authorAssociation\": \"MEMBER\"}, {\"author\": \"pkumar8789\", \"n_first_responses\": 1, \"authorAssociation\": \"NONE\"}, {\"author\": \"mriedem\", \"n_first_responses\": 1, \"authorAssociation\": \"CONTRIBUTOR\"}, {\"author\": \"moorepants\", \"n_first_responses\": 1, \"authorAssociation\": \"NONE\"}]}}, {\"mode\": \"vega-lite\"});\n",
       "</script>"
      ],
      "text/plain": [
       "alt.Chart(...)"
      ]
     },
     "execution_count": 23,
     "metadata": {},
     "output_type": "execute_result"
    }
   ],
   "source": [
    "n_plot = 50\n",
    "\n",
    "title = f\"Top {n_plot} first responders for {github_org} in the last {n_days} days\"\n",
    "idata = first_responder_counts.groupby('author', as_index=False).agg({'n_first_responses': 'sum', 'authorAssociation': 'first'})\n",
    "idata = idata.sort_values('n_first_responses', ascending=False).head(n_plot)\n",
    "ch = alt.Chart(data=idata.head(n_plot), title=title).mark_bar().encode(\n",
    "    x='author',\n",
    "    y='n_first_responses',\n",
    "    color=alt.Color('authorAssociation', scale=alt.Scale(domain=author_types, range=author_colors))\n",
    ")\n",
    "ch"
   ]
  },
  {
   "cell_type": "markdown",
   "metadata": {},
   "source": [
    "## Recent activity\n",
    "\n",
    "### A list of merged PRs by project\n",
    "\n",
    "Below is a tabbed readout of recently-merged PRs. Check out the title to get an idea for what they\n",
    "implemented, and be sure to thank the PR author for their hard work!"
   ]
  },
  {
   "cell_type": "code",
   "execution_count": 24,
   "metadata": {
    "tags": [
     "hide_input"
    ]
   },
   "outputs": [
    {
     "data": {
      "application/vnd.jupyter.widget-view+json": {
       "model_id": "c09c435561ce4e47abb7c12294ea4273",
       "version_major": 2,
       "version_minor": 0
      },
      "text/plain": [
       "Tab(children=(HTML(value='<h4>Closed PRs for repo: <a href=\"https://github.com/jupyterhub/binderhub\">jupyterhu…"
      ]
     },
     "metadata": {},
     "output_type": "display_data"
    }
   ],
   "source": [
    "tabs = widgets.Tab(children=[])\n",
    "\n",
    "for ii, ((org, repo), imerged) in enumerate(merged.query(\"repo in @use_repos\").groupby(['org', 'repo'])):\n",
    "    merged_by = {}\n",
    "    pr_by = {}\n",
    "    issue_md = []\n",
    "    issue_md.append(f\"#### Closed PRs for repo: [{org}/{repo}](https://github.com/{github_org}/{repo})\")\n",
    "    issue_md.append(\"\")\n",
    "    issue_md.append(f\"##### \")\n",
    "\n",
    "    for _, ipr in imerged.iterrows():\n",
    "        user_name = ipr['author']\n",
    "        user_url = author_url(user_name)\n",
    "        pr_number = ipr['number']\n",
    "        pr_html = ipr['url']\n",
    "        pr_title = ipr['title']\n",
    "        pr_closedby = ipr['mergedBy']\n",
    "        pr_closedby_url = f\"https://github.com/{pr_closedby}\"\n",
    "        if user_name not in pr_by:\n",
    "            pr_by[user_name] = 1\n",
    "        else:\n",
    "            pr_by[user_name] += 1\n",
    "\n",
    "        if pr_closedby not in merged_by:\n",
    "            merged_by[pr_closedby] = 1\n",
    "        else:\n",
    "            merged_by[pr_closedby] += 1\n",
    "        text = f\"* [(#{pr_number})]({pr_html}): _{pr_title}_ by **[@{user_name}]({user_url})** merged by **[@{pr_closedby}]({pr_closedby_url})**\"\n",
    "        issue_md.append(text)\n",
    "    \n",
    "    issue_md.append('')\n",
    "    markdown_html = markdown('\\n'.join(issue_md))\n",
    "\n",
    "    children = list(tabs.children)\n",
    "    children.append(HTML(markdown_html))\n",
    "    tabs.children = tuple(children)\n",
    "    tabs.set_title(ii, repo)\n",
    "tabs"
   ]
  },
  {
   "cell_type": "markdown",
   "metadata": {},
   "source": [
    "### A list of recent issues\n",
    "\n",
    "Below is a list of issues with recent activity in each repository. If they seem of interest\n",
    "to you, click on their links and jump in to participate!"
   ]
  },
  {
   "cell_type": "code",
   "execution_count": 25,
   "metadata": {
    "tags": [
     "remove_cell"
    ]
   },
   "outputs": [],
   "source": [
    "# Add comment count data to issues and PRs\n",
    "comment_counts = (\n",
    "    comments\n",
    "    .query(\"createdAt > @start_date and createdAt < @stop_date\")\n",
    "    .groupby(['org', 'repo', 'id'])\n",
    "    .count().iloc[:, 0].to_frame()\n",
    ")\n",
    "comment_counts.columns = ['n_comments']\n",
    "comment_counts = comment_counts.reset_index()"
   ]
  },
  {
   "cell_type": "code",
   "execution_count": 26,
   "metadata": {
    "tags": [
     "hide_input"
    ],
    "toc-hr-collapsed": false
   },
   "outputs": [
    {
     "data": {
      "text/markdown": [
       "Here are the top 5 active issues in each repository in the last 10 days"
      ],
      "text/plain": [
       "<IPython.core.display.Markdown object>"
      ]
     },
     "metadata": {},
     "output_type": "display_data"
    },
    {
     "data": {
      "application/vnd.jupyter.widget-view+json": {
       "model_id": "0926331764dd429181cb309c5f7c02eb",
       "version_major": 2,
       "version_minor": 0
      },
      "text/plain": [
       "Tab(children=(HTML(value='<h5><a href=\"https://github.com/jupyterhub/binderhub\">jupyterhub/binderhub</a></h5>\\…"
      ]
     },
     "metadata": {},
     "output_type": "display_data"
    }
   ],
   "source": [
    "n_plot = 5\n",
    "tabs = widgets.Tab(children=[])\n",
    "\n",
    "for ii, (repo, i_issues) in enumerate(comment_counts.query(\"repo in @use_repos\").groupby('repo')):\n",
    "    \n",
    "    issue_md = []\n",
    "    issue_md.append(\"\")\n",
    "    issue_md.append(f\"##### [{github_org}/{repo}](https://github.com/{github_org}/{repo})\")\n",
    "\n",
    "    top_issues = i_issues.sort_values('n_comments', ascending=False).head(n_plot)\n",
    "    top_issue_list = pd.merge(issues, top_issues, left_on=['org', 'repo', 'id'], right_on=['org', 'repo', 'id'])\n",
    "    for _, issue in top_issue_list.sort_values('n_comments', ascending=False).head(n_plot).iterrows():\n",
    "        user_name = issue['author']\n",
    "        user_url = author_url(user_name)\n",
    "        issue_number = issue['number']\n",
    "        issue_html = issue['url']\n",
    "        issue_title = issue['title']\n",
    "\n",
    "        text = f\"* [(#{issue_number})]({issue_html}): _{issue_title}_ by **[@{user_name}]({user_url})**\"\n",
    "        issue_md.append(text)\n",
    "\n",
    "    issue_md.append('')\n",
    "    md_html = HTML(markdown('\\n'.join(issue_md)))\n",
    "\n",
    "    children = list(tabs.children)\n",
    "    children.append(HTML(markdown('\\n'.join(issue_md))))\n",
    "    tabs.children = tuple(children)\n",
    "    tabs.set_title(ii, repo)\n",
    "    \n",
    "display(Markdown(f\"Here are the top {n_plot} active issues in each repository in the last {n_days} days\"))\n",
    "display(tabs)"
   ]
  }
 ],
 "metadata": {
  "kernelspec": {
   "display_name": "Python 3 (ipykernel)",
   "language": "python",
   "name": "python3"
  },
  "language_info": {
   "codemirror_mode": {
    "name": "ipython",
    "version": 3
   },
   "file_extension": ".py",
   "mimetype": "text/x-python",
   "name": "python",
   "nbconvert_exporter": "python",
   "pygments_lexer": "ipython3",
   "version": "3.7.10"
  },
  "widgets": {
   "application/vnd.jupyter.widget-state+json": {
    "state": {
     "001854a4f75344c386915d36318e5246": {
      "model_module": "@jupyter-widgets/controls",
      "model_module_version": "1.5.0",
      "model_name": "HTMLModel",
      "state": {
       "layout": "IPY_MODEL_9f18cefd3f294ccda41920227fb3acec",
       "style": "IPY_MODEL_c843eb60e5f642cfb597c75e5236e7b2",
       "value": "<h5><a href=\"https://github.com/jupyterhub/dockerspawner\">jupyterhub/dockerspawner</a></h5>"
      }
     },
     "013b7998258846dcbe4f5bfeacad1967": {
      "model_module": "@jupyter-widgets/base",
      "model_module_version": "1.2.0",
      "model_name": "LayoutModel",
      "state": {}
     },
     "01711538cf54431587f04ae2b7c84f93": {
      "model_module": "@jupyter-widgets/controls",
      "model_module_version": "1.5.0",
      "model_name": "HTMLModel",
      "state": {
       "layout": "IPY_MODEL_b177311b28504badb9e667108e2435fc",
       "style": "IPY_MODEL_5031839b055b4d748840b93f1c26eb6e",
       "value": "<h5><a href=\"https://github.com/jupyterhub/helm-chart\">jupyterhub/helm-chart</a></h5>\n<ul>\n<li><a href=\"https://github.com/jupyterhub/helm-chart/issues/110\">(#110)</a>: <em>Option \"use_lookup_dn_username\" from ldapauthenticator missing</em> by <strong><a href=\"https://github.com/petimmermann\">@petimmermann</a></strong></li>\n</ul>"
      }
     },
     "017f38e8445a4b5f913dc8ffeda6ed68": {
      "model_module": "@jupyter-widgets/controls",
      "model_module_version": "1.5.0",
      "model_name": "HTMLModel",
      "state": {
       "layout": "IPY_MODEL_013b7998258846dcbe4f5bfeacad1967",
       "style": "IPY_MODEL_bb7321c9536848e7a58077e7a0cbd2be",
       "value": "<h5><a href=\"https://github.com/jupyterhub/dockerspawner\">jupyterhub/dockerspawner</a></h5>"
      }
     },
     "04053b812dac4071aae5c377427b351a": {
      "model_module": "@jupyter-widgets/controls",
      "model_module_version": "1.5.0",
      "model_name": "TabModel",
      "state": {
       "_titles": {
        "0": "binderhub",
        "1": "configurable-http-proxy",
        "10": "oauthenticator",
        "11": "pebble-helm-chart",
        "12": "team-compass",
        "13": "the-littlest-jupyterhub",
        "14": "zero-to-jupyterhub-k8s",
        "2": "dockerspawner",
        "3": "helm-chart",
        "4": "jupyter-server-proxy",
        "5": "jupyterhub",
        "6": "jupyterhub-idle-culler",
        "7": "kubespawner",
        "8": "mybinder.org-deploy",
        "9": "nativeauthenticator"
       },
       "children": [
        "IPY_MODEL_79b19b1fa61e45bd86f73d53a90785c8",
        "IPY_MODEL_e25ffdeaaf1440f1980fe3d55108ff56",
        "IPY_MODEL_38ed0a5af11d46b196d1363d9914c57d",
        "IPY_MODEL_01711538cf54431587f04ae2b7c84f93",
        "IPY_MODEL_a9d87fc0c8ac4052943db8930f82fbbd",
        "IPY_MODEL_5a161e65f26a4df7b95728b41f085f1a",
        "IPY_MODEL_5649cf4765024e1793e26e858e8aa6e0",
        "IPY_MODEL_7ef2f2f04b4747da8d199b5792b3d727",
        "IPY_MODEL_10a45e08096d456bbab9804149c458f7",
        "IPY_MODEL_10d06e1f3ebc427da4be9d5b9e675a83",
        "IPY_MODEL_99487956371a482481bc9d1f71848f4a",
        "IPY_MODEL_6177a69601f24c74a2996dcbf16da940",
        "IPY_MODEL_cbe326c0804347e3ac320af1ca61e5b8",
        "IPY_MODEL_b0be322f66894c4bad65f3192a1e2374",
        "IPY_MODEL_cb308179d65840ecac88c06806ee7435"
       ],
       "layout": "IPY_MODEL_6585c23ad1ab4062bc2cca5109764d59"
      }
     },
     "049957f1bf264b4e9de83fd06d1aab15": {
      "model_module": "@jupyter-widgets/controls",
      "model_module_version": "1.5.0",
      "model_name": "DescriptionStyleModel",
      "state": {
       "description_width": ""
      }
     },
     "052fe5d03da2488a894f39cb9341d448": {
      "model_module": "@jupyter-widgets/base",
      "model_module_version": "1.2.0",
      "model_name": "LayoutModel",
      "state": {}
     },
     "05595ca7292a438c8a82a81ae9af43b5": {
      "model_module": "@jupyter-widgets/controls",
      "model_module_version": "1.5.0",
      "model_name": "DescriptionStyleModel",
      "state": {
       "description_width": ""
      }
     },
     "05eea038d31b4273920e67e557192f59": {
      "model_module": "@jupyter-widgets/controls",
      "model_module_version": "1.5.0",
      "model_name": "DescriptionStyleModel",
      "state": {
       "description_width": ""
      }
     },
     "0718535262ed459cb110eda40eea925f": {
      "model_module": "@jupyter-widgets/controls",
      "model_module_version": "1.5.0",
      "model_name": "HTMLModel",
      "state": {
       "layout": "IPY_MODEL_460164dd0e2d46b496e19aceb5fca450",
       "style": "IPY_MODEL_b724953d97fa413098072f412f29b796",
       "value": "<h5><a href=\"https://github.com/jupyterhub/team-compass\">jupyterhub/team-compass</a></h5>\n<ul>\n<li><a href=\"https://github.com/jupyterhub/team-compass/issues/299\">(#299)</a>: <em>Remove insensitive language from our code / docs</em> by <strong><a href=\"https://github.com/choldgraf\">@choldgraf</a></strong></li>\n<li><a href=\"https://github.com/jupyterhub/team-compass/issues/298\">(#298)</a>: <em>A bot to welcome first time contributors</em> by <strong><a href=\"https://github.com/GeorgianaElena\">@GeorgianaElena</a></strong></li>\n<li><a href=\"https://github.com/jupyterhub/team-compass/issues/300\">(#300)</a>: <em>Add a primer for traitlets and JupyterHub configuration</em> by <strong><a href=\"https://github.com/choldgraf\">@choldgraf</a></strong></li>\n<li><a href=\"https://github.com/jupyterhub/team-compass/issues/297\">(#297)</a>: <em>Hubs Team Meeting: June 2020</em> by <strong><a href=\"https://github.com/sgibson91\">@sgibson91</a></strong></li>\n<li><a href=\"https://github.com/jupyterhub/team-compass/issues/289\">(#289)</a>: <em>jupyterhub/pebble-helm-chart - OK? LICENCE?</em> by <strong><a href=\"https://github.com/consideRatio\">@consideRatio</a></strong></li>\n</ul>"
      }
     },
     "072d82e9d20541b7b74ac098b80434aa": {
      "model_module": "@jupyter-widgets/controls",
      "model_module_version": "1.5.0",
      "model_name": "DescriptionStyleModel",
      "state": {
       "description_width": ""
      }
     },
     "0ed48c465c2f43dbb6b4a58e3772cd5d": {
      "model_module": "@jupyter-widgets/controls",
      "model_module_version": "1.5.0",
      "model_name": "DescriptionStyleModel",
      "state": {
       "description_width": ""
      }
     },
     "10a45e08096d456bbab9804149c458f7": {
      "model_module": "@jupyter-widgets/controls",
      "model_module_version": "1.5.0",
      "model_name": "HTMLModel",
      "state": {
       "layout": "IPY_MODEL_e6646ea2a3dc4c6399c623c1f76bf8ad",
       "style": "IPY_MODEL_2ba94abf634f4c8ead92d328f643e892",
       "value": "<h5><a href=\"https://github.com/jupyterhub/mybinder.org-deploy\">jupyterhub/mybinder.org-deploy</a></h5>\n<ul>\n<li><a href=\"https://github.com/jupyterhub/mybinder.org-deploy/issues/1462\">(#1462)</a>: <em>A \"Binder Menu\" button for all UIs</em> by <strong><a href=\"https://github.com/betatim\">@betatim</a></strong></li>\n<li><a href=\"https://github.com/jupyterhub/mybinder.org-deploy/issues/1458\">(#1458)</a>: <em>Upgrading GKE k8s version</em> by <strong><a href=\"https://github.com/betatim\">@betatim</a></strong></li>\n<li><a href=\"https://github.com/jupyterhub/mybinder.org-deploy/issues/1461\">(#1461)</a>: <em>504 Gateway Time-out error on turing.mybinder.org</em> by <strong><a href=\"https://github.com/sgibson91\">@sgibson91</a></strong></li>\n</ul>"
      }
     },
     "10d06e1f3ebc427da4be9d5b9e675a83": {
      "model_module": "@jupyter-widgets/controls",
      "model_module_version": "1.5.0",
      "model_name": "HTMLModel",
      "state": {
       "layout": "IPY_MODEL_e60ecacfbc30473cab7fd36c0456195c",
       "style": "IPY_MODEL_4a9c3d0e44df4ef3b4bda274c7b14ebd",
       "value": "<h5><a href=\"https://github.com/jupyterhub/nativeauthenticator\">jupyterhub/nativeauthenticator</a></h5>"
      }
     },
     "122c90d59fc243eb9c9dcc4d1145be31": {
      "model_module": "@jupyter-widgets/controls",
      "model_module_version": "1.5.0",
      "model_name": "TabModel",
      "state": {
       "_titles": {
        "0": "binderhub",
        "1": "configurable-http-proxy",
        "10": "oauthenticator",
        "11": "pebble-helm-chart",
        "12": "team-compass",
        "13": "the-littlest-jupyterhub",
        "14": "zero-to-jupyterhub-k8s",
        "2": "dockerspawner",
        "3": "helm-chart",
        "4": "jupyter-server-proxy",
        "5": "jupyterhub",
        "6": "jupyterhub-idle-culler",
        "7": "kubespawner",
        "8": "mybinder.org-deploy",
        "9": "nativeauthenticator"
       },
       "children": [
        "IPY_MODEL_e489b6607ee64ba49d04200ff3ff2607",
        "IPY_MODEL_5d1d1abf5c9a41408750c91b2f96ee7d",
        "IPY_MODEL_017f38e8445a4b5f913dc8ffeda6ed68",
        "IPY_MODEL_73340621b96c43d6bf4a1cf4d2002e0e",
        "IPY_MODEL_161f1f49e3af490781d42f2b7e535e0f",
        "IPY_MODEL_ac73611645c548668f23cce04a4f2a0d",
        "IPY_MODEL_e83175bb1c1846f1ac18be0508ea7934",
        "IPY_MODEL_2993601499fa4520aaa7e4915bd30def",
        "IPY_MODEL_8d4ee301e5f846a9b4f4584ac70bbefe",
        "IPY_MODEL_f63c53bf72364d5794c6b27459d8d3c8",
        "IPY_MODEL_bb2345f8e11146768b7321bc6a919292",
        "IPY_MODEL_5f4daeb5d3d640db905a34493acc673c",
        "IPY_MODEL_e10b3b1ed223409fa6fe94b418c7eedb",
        "IPY_MODEL_f9ce138866f94bb0b47ea04929d73cbf",
        "IPY_MODEL_d149d56623fc4212bccc889aaee1be69"
       ],
       "layout": "IPY_MODEL_a4e43dd0a6e14b2582dec0962b0ba373"
      }
     },
     "13040480da434f05bb9a482bb9ff59cf": {
      "model_module": "@jupyter-widgets/controls",
      "model_module_version": "1.5.0",
      "model_name": "DescriptionStyleModel",
      "state": {
       "description_width": ""
      }
     },
     "13b28340b11a473e8b26e154ffd0e58c": {
      "model_module": "@jupyter-widgets/controls",
      "model_module_version": "1.5.0",
      "model_name": "DescriptionStyleModel",
      "state": {
       "description_width": ""
      }
     },
     "14368ca85a584539ad1df73888e55980": {
      "model_module": "@jupyter-widgets/controls",
      "model_module_version": "1.5.0",
      "model_name": "HTMLModel",
      "state": {
       "layout": "IPY_MODEL_68bc2358c45f4d2c9e78e7123115686a",
       "style": "IPY_MODEL_57fdbb53e7004276b0b5212dfb6c7431",
       "value": "<h4>Closed PRs for repo: <a href=\"https://github.com/jupyterhub/kubespawner\">jupyterhub/kubespawner</a></h4>\n<h5></h5>\n<ul>\n<li><a href=\"https://github.com/jupyterhub/kubespawner/pull/401\">(#401)</a>: <em>Use slugs to slugs to select profile via user_options_form</em> by <strong><a href=\"https://github.com/stv0g\">@stv0g</a></strong> merged by <strong><a href=\"https://github.com/minrk\">@minrk</a></strong></li>\n</ul>"
      }
     },
     "14bea1cdd7df415ea6f933a9c45c7a68": {
      "model_module": "@jupyter-widgets/controls",
      "model_module_version": "1.5.0",
      "model_name": "HTMLModel",
      "state": {
       "layout": "IPY_MODEL_b8877804a35b4ce38e70d75d4109100b",
       "style": "IPY_MODEL_b420c62546744a1aab7969e1ea3a345c",
       "value": "<h5><a href=\"https://github.com/jupyterhub/configurable-http-proxy\">jupyterhub/configurable-http-proxy</a></h5>\n<ul>\n<li><a href=\"https://github.com/jupyterhub/configurable-http-proxy/issues/49\">(#49)</a>: <em>Define a standard, reproducible way to load test CHP</em> by <strong><a href=\"https://github.com/yuvipanda\">@yuvipanda</a></strong></li>\n</ul>"
      }
     },
     "161f1f49e3af490781d42f2b7e535e0f": {
      "model_module": "@jupyter-widgets/controls",
      "model_module_version": "1.5.0",
      "model_name": "HTMLModel",
      "state": {
       "layout": "IPY_MODEL_a7f1c8b0a29846f99f2afd1af27afc53",
       "style": "IPY_MODEL_05eea038d31b4273920e67e557192f59",
       "value": "<h5><a href=\"https://github.com/jupyterhub/jupyter-server-proxy\">jupyterhub/jupyter-server-proxy</a></h5>"
      }
     },
     "17b07300691847edabba184ec9dc05a0": {
      "model_module": "@jupyter-widgets/controls",
      "model_module_version": "1.5.0",
      "model_name": "HTMLModel",
      "state": {
       "layout": "IPY_MODEL_d8067c12ba484ec69eb222edab176e70",
       "style": "IPY_MODEL_4995419008e049918e0abff389e71bb7",
       "value": "<h5><a href=\"https://github.com/jupyterhub/oauthenticator\">jupyterhub/oauthenticator</a></h5>"
      }
     },
     "185be226b61f471cb1dccea401b2adda": {
      "model_module": "@jupyter-widgets/controls",
      "model_module_version": "1.5.0",
      "model_name": "DescriptionStyleModel",
      "state": {
       "description_width": ""
      }
     },
     "19aaa51b0df94e218f399f1a82cdaf52": {
      "model_module": "@jupyter-widgets/controls",
      "model_module_version": "1.5.0",
      "model_name": "DescriptionStyleModel",
      "state": {
       "description_width": ""
      }
     },
     "1c01015489404fbbba93f78b6c1de310": {
      "model_module": "@jupyter-widgets/base",
      "model_module_version": "1.2.0",
      "model_name": "LayoutModel",
      "state": {}
     },
     "1c66afaccab74fe09e5b77737a7574fc": {
      "model_module": "@jupyter-widgets/controls",
      "model_module_version": "1.5.0",
      "model_name": "DescriptionStyleModel",
      "state": {
       "description_width": ""
      }
     },
     "1d3676b6d7964a0c92efa23c75565a42": {
      "model_module": "@jupyter-widgets/base",
      "model_module_version": "1.2.0",
      "model_name": "LayoutModel",
      "state": {}
     },
     "1fad736138044451ad9726b1e8820823": {
      "model_module": "@jupyter-widgets/controls",
      "model_module_version": "1.5.0",
      "model_name": "HTMLModel",
      "state": {
       "layout": "IPY_MODEL_ac55ae7d2685489c8fd91c91af9845a2",
       "style": "IPY_MODEL_1c66afaccab74fe09e5b77737a7574fc",
       "value": "<center><p><a href=\"https://github.com/1kastner\">1kastner</a> | <a href=\"https://github.com/1ucian0\">1ucian0</a> | <a href=\"https://github.com/223311\">223311</a> | <a href=\"https://github.com/ablekh\">ablekh</a> | <a href=\"https://github.com/aculich\">aculich</a> | <a href=\"https://github.com/aolney\">aolney</a> | <a href=\"https://github.com/arneki\">arneki</a> | <a href=\"https://github.com/BertR\">BertR</a> | <a href=\"https://github.com/betatim\">betatim</a> | <a href=\"https://github.com/bskaggs\">bskaggs</a> | <a href=\"https://github.com/cam72cam\">cam72cam</a> | <a href=\"https://github.com/camelator\">camelator</a> | <a href=\"https://github.com/Carreau\">Carreau</a> | <a href=\"https://github.com/chaoleili\">chaoleili</a> | <a href=\"https://github.com/choldgraf\">choldgraf</a> | <a href=\"https://github.com/clkao\">clkao</a> | <a href=\"https://github.com/cmd-ntrf\">cmd-ntrf</a> | <a href=\"https://github.com/consideRatio\">consideRatio</a> | <a href=\"https://github.com/craig-willis\">craig-willis</a> | <a href=\"https://github.com/danielmaitre\">danielmaitre</a> | <a href=\"https://github.com/dhirschfeld\">dhirschfeld</a> | <a href=\"https://github.com/dirkcgrunwald\">dirkcgrunwald</a> | <a href=\"https://github.com/diurnalist\">diurnalist</a> | <a href=\"https://github.com/djangoliv\">djangoliv</a> | <a href=\"https://github.com/dkipping\">dkipping</a> | <a href=\"https://github.com/Dmitry1987\">Dmitry1987</a> | <a href=\"https://github.com/Eagles2F\">Eagles2F</a> | <a href=\"https://github.com/elgalu\">elgalu</a> | <a href=\"https://github.com/emirot\">emirot</a> | <a href=\"https://github.com/enolfc\">enolfc</a> | <a href=\"https://github.com/erinfry6\">erinfry6</a> | <a href=\"https://github.com/farzadz\">farzadz</a> | <a href=\"https://github.com/frouzbeh\">frouzbeh</a> | <a href=\"https://github.com/ftorradeflot\">ftorradeflot</a> | <a href=\"https://github.com/gatoniel\">gatoniel</a> | <a href=\"https://github.com/GeorgianaElena\">GeorgianaElena</a> | <a href=\"https://github.com/gsemet\">gsemet</a> | <a href=\"https://github.com/h4gen\">h4gen</a> | <a href=\"https://github.com/Hoeze\">Hoeze</a> | <a href=\"https://github.com/ilhaan\">ilhaan</a> | <a href=\"https://github.com/jamescross91\">jamescross91</a> | <a href=\"https://github.com/jboynyc\">jboynyc</a> | <a href=\"https://github.com/jgerardsimcock\">jgerardsimcock</a> | <a href=\"https://github.com/jgwerner\">jgwerner</a> | <a href=\"https://github.com/jhadjar\">jhadjar</a> | <a href=\"https://github.com/jhamrick\">jhamrick</a> | <a href=\"https://github.com/jtlz2\">jtlz2</a> | <a href=\"https://github.com/jtpio\">jtpio</a> | <a href=\"https://github.com/julienchastang\">julienchastang</a> | <a href=\"https://github.com/jzf2101\">jzf2101</a> | <a href=\"https://github.com/kalaytan\">kalaytan</a> | <a href=\"https://github.com/kevin-bates\">kevin-bates</a> | <a href=\"https://github.com/kinow\">kinow</a> | <a href=\"https://github.com/krishdey\">krishdey</a> | <a href=\"https://github.com/labarba\">labarba</a> | <a href=\"https://github.com/lambdaTotoro\">lambdaTotoro</a> | <a href=\"https://github.com/Lawrence37\">Lawrence37</a> | <a href=\"https://github.com/lxylxy123456\">lxylxy123456</a> | <a href=\"https://github.com/lzach\">lzach</a> | <a href=\"https://github.com/mael-le-gal\">mael-le-gal</a> | <a href=\"https://github.com/manics\">manics</a> | <a href=\"https://github.com/martjanz\">martjanz</a> | <a href=\"https://github.com/mhwasil\">mhwasil</a> | <a href=\"https://github.com/minrk\">minrk</a> | <a href=\"https://github.com/missingcharacter\">missingcharacter</a> | <a href=\"https://github.com/moorepants\">moorepants</a> | <a href=\"https://github.com/mskblackbelt\">mskblackbelt</a> | <a href=\"https://github.com/msummers42\">msummers42</a> | <a href=\"https://github.com/nethsix\">nethsix</a> | <a href=\"https://github.com/NickolausDS\">NickolausDS</a> | <a href=\"https://github.com/nmvega\">nmvega</a> | <a href=\"https://github.com/nscozzaro\">nscozzaro</a> | <a href=\"https://github.com/openthings\">openthings</a> | <a href=\"https://github.com/paul-laskowski\">paul-laskowski</a> | <a href=\"https://github.com/perllaghu\">perllaghu</a> | <a href=\"https://github.com/petimmermann\">petimmermann</a> | <a href=\"https://github.com/pjamason\">pjamason</a> | <a href=\"https://github.com/rabernat\">rabernat</a> | <a href=\"https://github.com/rgbkrk\">rgbkrk</a> | <a href=\"https://github.com/rkdarst\">rkdarst</a> | <a href=\"https://github.com/rkevin-arch\">rkevin-arch</a> | <a href=\"https://github.com/rnestler\">rnestler</a> | <a href=\"https://github.com/rochaporto\">rochaporto</a> | <a href=\"https://github.com/ryanlovett\">ryanlovett</a> | <a href=\"https://github.com/ryogesh\">ryogesh</a> | <a href=\"https://github.com/SaiAparna1\">SaiAparna1</a> | <a href=\"https://github.com/sciffer\">sciffer</a> | <a href=\"https://github.com/scivm\">scivm</a> | <a href=\"https://github.com/Sefriol\">Sefriol</a> | <a href=\"https://github.com/sgibson91\">sgibson91</a> | <a href=\"https://github.com/shanestarcher-okta\">shanestarcher-okta</a> | <a href=\"https://github.com/Siddhu1096\">Siddhu1096</a> | <a href=\"https://github.com/slecrenski\">slecrenski</a> | <a href=\"https://github.com/snickell\">snickell</a> | <a href=\"https://github.com/stv0g\">stv0g</a> | <a href=\"https://github.com/subgero\">subgero</a> | <a href=\"https://github.com/summerswallow-whi\">summerswallow-whi</a> | <a href=\"https://github.com/tracek\">tracek</a> | <a href=\"https://github.com/verdurin\">verdurin</a> | <a href=\"https://github.com/vishwesh5\">vishwesh5</a> | <a href=\"https://github.com/wangxiaoxiao88\">wangxiaoxiao88</a> | <a href=\"https://github.com/wierzba3\">wierzba3</a> | <a href=\"https://github.com/willingc\">willingc</a> | <a href=\"https://github.com/yuvipanda\">yuvipanda</a> | <a href=\"https://github.com/Zsailer\">Zsailer</a></p></center>"
      }
     },
     "1fc98d85fc2f43cfb1bc8187b410486c": {
      "model_module": "@jupyter-widgets/controls",
      "model_module_version": "1.5.0",
      "model_name": "DescriptionStyleModel",
      "state": {
       "description_width": ""
      }
     },
     "20aba13186cc47e4891b6e364bfc8694": {
      "model_module": "@jupyter-widgets/base",
      "model_module_version": "1.2.0",
      "model_name": "LayoutModel",
      "state": {}
     },
     "215d7dd1b68b4e5387f29e5e88d2f800": {
      "model_module": "@jupyter-widgets/controls",
      "model_module_version": "1.5.0",
      "model_name": "HTMLModel",
      "state": {
       "layout": "IPY_MODEL_d18df2a2d4ea41d7ab69445e4920fdfd",
       "style": "IPY_MODEL_35060b4ce1b34c3db328870675dd8394",
       "value": "<h5><a href=\"https://github.com/jupyterhub/binderhub\">jupyterhub/binderhub</a></h5>\n<ul>\n<li><a href=\"https://github.com/jupyterhub/binderhub/issues/1110\">(#1110)</a>: <em>mybinder fails to build image with nix, complains it needs nix&gt;=2.2</em> by <strong><a href=\"https://github.com/jboynyc\">@jboynyc</a></strong></li>\n</ul>"
      }
     },
     "234cb7d155444b2f8c3ad93426324500": {
      "model_module": "@jupyter-widgets/controls",
      "model_module_version": "1.5.0",
      "model_name": "HTMLModel",
      "state": {
       "layout": "IPY_MODEL_b653f7ae2ce44f179b20d53aa477783a",
       "style": "IPY_MODEL_d64242bae20546dfa4e1ef4ece08839c",
       "value": "<h5><a href=\"https://github.com/jupyterhub/pebble-helm-chart\">jupyterhub/pebble-helm-chart</a></h5>"
      }
     },
     "234d79b0ded54a78a1e9a1b4d582f7aa": {
      "model_module": "@jupyter-widgets/base",
      "model_module_version": "1.2.0",
      "model_name": "LayoutModel",
      "state": {}
     },
     "24d636b157cc4f11a01ebce5ca86f54e": {
      "model_module": "@jupyter-widgets/controls",
      "model_module_version": "1.5.0",
      "model_name": "HTMLModel",
      "state": {
       "layout": "IPY_MODEL_b4cc909c42a94bfe973e9ec8c9af8913",
       "style": "IPY_MODEL_493d34b6b6c94046878d8f254718f217",
       "value": "<h5><a href=\"https://github.com/jupyterhub/configurable-http-proxy\">jupyterhub/configurable-http-proxy</a></h5>\n<ul>\n<li><a href=\"https://github.com/jupyterhub/configurable-http-proxy/issues/49\">(#49)</a>: <em>Define a standard, reproducible way to load test CHP</em> by <strong><a href=\"https://github.com/yuvipanda\">@yuvipanda</a></strong></li>\n</ul>"
      }
     },
     "26c733572175430f9aba59ec6c402674": {
      "model_module": "@jupyter-widgets/controls",
      "model_module_version": "1.5.0",
      "model_name": "HTMLModel",
      "state": {
       "layout": "IPY_MODEL_65afc823983c4a419157e5f1ab704451",
       "style": "IPY_MODEL_2d1c7a1ff63b419c8dc0972e0530a7d7",
       "value": "<h5><a href=\"https://github.com/jupyterhub/zero-to-jupyterhub-k8s\">jupyterhub/zero-to-jupyterhub-k8s</a></h5>\n<ul>\n<li><a href=\"https://github.com/jupyterhub/zero-to-jupyterhub-k8s/issues/734\">(#734)</a>: <em>Regarding JUPYTER_ENABLE_LAB environment variable</em> by <strong><a href=\"https://github.com/consideRatio\">@consideRatio</a></strong></li>\n<li><a href=\"https://github.com/jupyterhub/zero-to-jupyterhub-k8s/issues/466\">(#466)</a>: <em>No object with a name found</em> by <strong><a href=\"https://github.com/ryanlovett\">@ryanlovett</a></strong></li>\n<li><a href=\"https://github.com/jupyterhub/zero-to-jupyterhub-k8s/issues/420\">(#420)</a>: _Add info about using SSDs on AKS _ by <strong><a href=\"https://github.com/yuvipanda\">@yuvipanda</a></strong></li>\n</ul>"
      }
     },
     "2993601499fa4520aaa7e4915bd30def": {
      "model_module": "@jupyter-widgets/controls",
      "model_module_version": "1.5.0",
      "model_name": "HTMLModel",
      "state": {
       "layout": "IPY_MODEL_694b6562d6ce4f2fa98980156dc2e7a9",
       "style": "IPY_MODEL_abb865c73afa4ecf9388e25ee2c4a35f",
       "value": "<h5><a href=\"https://github.com/jupyterhub/kubespawner\">jupyterhub/kubespawner</a></h5>\n<ul>\n<li><a href=\"https://github.com/jupyterhub/kubespawner/issues/341\">(#341)</a>: <em>Add configuration on runtime</em> by <strong><a href=\"https://github.com/223311\">@223311</a></strong></li>\n</ul>"
      }
     },
     "299c5ea9a94e4ddebe6408d66b05f49a": {
      "model_module": "@jupyter-widgets/controls",
      "model_module_version": "1.5.0",
      "model_name": "HTMLModel",
      "state": {
       "layout": "IPY_MODEL_f1b6f5227407461ba85a9ca751d48903",
       "style": "IPY_MODEL_45c56ca8109649fba24e286e8c4bc35d",
       "value": "<h5><a href=\"https://github.com/jupyterhub/jupyterhub-idle-culler\">jupyterhub/jupyterhub-idle-culler</a></h5>\n<ul>\n<li><a href=\"https://github.com/jupyterhub/jupyterhub-idle-culler/issues/4\">(#4)</a>: <em>Option to send warning email before deleting user</em> by <strong><a href=\"https://github.com/dylex\">@dylex</a></strong></li>\n</ul>"
      }
     },
     "2b107db65e5d43fbb25b7f2613416676": {
      "model_module": "@jupyter-widgets/base",
      "model_module_version": "1.2.0",
      "model_name": "LayoutModel",
      "state": {}
     },
     "2b5259ce8b304940a68cb1f175113041": {
      "model_module": "@jupyter-widgets/controls",
      "model_module_version": "1.5.0",
      "model_name": "DescriptionStyleModel",
      "state": {
       "description_width": ""
      }
     },
     "2ba94abf634f4c8ead92d328f643e892": {
      "model_module": "@jupyter-widgets/controls",
      "model_module_version": "1.5.0",
      "model_name": "DescriptionStyleModel",
      "state": {
       "description_width": ""
      }
     },
     "2bef4a5c7c544776a12d4ccebacb9e00": {
      "model_module": "@jupyter-widgets/controls",
      "model_module_version": "1.5.0",
      "model_name": "DescriptionStyleModel",
      "state": {
       "description_width": ""
      }
     },
     "2bf67177649b4ac3a629691f644fd418": {
      "model_module": "@jupyter-widgets/controls",
      "model_module_version": "1.5.0",
      "model_name": "DescriptionStyleModel",
      "state": {
       "description_width": ""
      }
     },
     "2d1c7a1ff63b419c8dc0972e0530a7d7": {
      "model_module": "@jupyter-widgets/controls",
      "model_module_version": "1.5.0",
      "model_name": "DescriptionStyleModel",
      "state": {
       "description_width": ""
      }
     },
     "2de394486bbe4eec8dcd9ccf2e1f1380": {
      "model_module": "@jupyter-widgets/base",
      "model_module_version": "1.2.0",
      "model_name": "LayoutModel",
      "state": {}
     },
     "30d6ac433c8046bd9c99ef09ed365403": {
      "model_module": "@jupyter-widgets/controls",
      "model_module_version": "1.5.0",
      "model_name": "DescriptionStyleModel",
      "state": {
       "description_width": ""
      }
     },
     "3293c41bc3294b319a24082a857282c3": {
      "model_module": "@jupyter-widgets/controls",
      "model_module_version": "1.5.0",
      "model_name": "HTMLModel",
      "state": {
       "layout": "IPY_MODEL_4bae49ae1b9445a49a896009ab88319e",
       "style": "IPY_MODEL_ec7ecf42c1c14330be567e5982d57db4",
       "value": "<h5><a href=\"https://github.com/jupyterhub/mybinder.org-deploy\">jupyterhub/mybinder.org-deploy</a></h5>\n<ul>\n<li><a href=\"https://github.com/jupyterhub/mybinder.org-deploy/issues/1462\">(#1462)</a>: <em>A \"Binder Menu\" button for all UIs</em> by <strong><a href=\"https://github.com/betatim\">@betatim</a></strong></li>\n<li><a href=\"https://github.com/jupyterhub/mybinder.org-deploy/issues/1458\">(#1458)</a>: <em>Upgrading GKE k8s version</em> by <strong><a href=\"https://github.com/betatim\">@betatim</a></strong></li>\n<li><a href=\"https://github.com/jupyterhub/mybinder.org-deploy/issues/1461\">(#1461)</a>: <em>504 Gateway Time-out error on turing.mybinder.org</em> by <strong><a href=\"https://github.com/sgibson91\">@sgibson91</a></strong></li>\n</ul>"
      }
     },
     "329957e6a88b4c05a1f1458743845270": {
      "model_module": "@jupyter-widgets/base",
      "model_module_version": "1.2.0",
      "model_name": "LayoutModel",
      "state": {}
     },
     "33297915c1624b969650ede606bcb724": {
      "model_module": "@jupyter-widgets/controls",
      "model_module_version": "1.5.0",
      "model_name": "HTMLModel",
      "state": {
       "layout": "IPY_MODEL_8295051471bc4ce99a716504be46ce47",
       "style": "IPY_MODEL_ac0cc6b0c11f4254b3182fcd5e865a56",
       "value": "<h5><a href=\"https://github.com/jupyterhub/binderhub\">jupyterhub/binderhub</a></h5>\n<ul>\n<li><a href=\"https://github.com/jupyterhub/binderhub/issues/1110\">(#1110)</a>: <em>mybinder fails to build image with nix, complains it needs nix&gt;=2.2</em> by <strong><a href=\"https://github.com/jboynyc\">@jboynyc</a></strong></li>\n</ul>"
      }
     },
     "35060b4ce1b34c3db328870675dd8394": {
      "model_module": "@jupyter-widgets/controls",
      "model_module_version": "1.5.0",
      "model_name": "DescriptionStyleModel",
      "state": {
       "description_width": ""
      }
     },
     "38ed0a5af11d46b196d1363d9914c57d": {
      "model_module": "@jupyter-widgets/controls",
      "model_module_version": "1.5.0",
      "model_name": "HTMLModel",
      "state": {
       "layout": "IPY_MODEL_99ca44df234f454288bd702af88f8922",
       "style": "IPY_MODEL_072d82e9d20541b7b74ac098b80434aa",
       "value": "<h5><a href=\"https://github.com/jupyterhub/dockerspawner\">jupyterhub/dockerspawner</a></h5>"
      }
     },
     "3abdec6aab764d23bf27b55e6672663f": {
      "model_module": "@jupyter-widgets/controls",
      "model_module_version": "1.5.0",
      "model_name": "HTMLModel",
      "state": {
       "layout": "IPY_MODEL_ada9c365cb214d9eac962e1e878aac81",
       "style": "IPY_MODEL_e154a6a38fd5468c9c15f79f49f65ee7",
       "value": "<h4>Closed PRs for repo: <a href=\"https://github.com/jupyterhub/jupyter-server-proxy\">jupyterhub/jupyter-server-proxy</a></h4>\n<h5></h5>\n<ul>\n<li><a href=\"https://github.com/jupyterhub/jupyter-server-proxy/pull/203\">(#203)</a>: <em>Bump version number</em> by <strong><a href=\"https://github.com/yuvipanda\">@yuvipanda</a></strong> merged by <strong><a href=\"https://github.com/betatim\">@betatim</a></strong></li>\n</ul>"
      }
     },
     "3ad28c10b4754ad1b44cf6f263465616": {
      "model_module": "@jupyter-widgets/base",
      "model_module_version": "1.2.0",
      "model_name": "LayoutModel",
      "state": {}
     },
     "3c8780b08f8442a9a4ffe6efc2b062e8": {
      "model_module": "@jupyter-widgets/controls",
      "model_module_version": "1.5.0",
      "model_name": "HTMLModel",
      "state": {
       "layout": "IPY_MODEL_d373f5abde1c439cb83e3d74de51552e",
       "style": "IPY_MODEL_83a02f76b85e4e24bdeba63d4ec99b38",
       "value": "<h5><a href=\"https://github.com/jupyterhub/kubespawner\">jupyterhub/kubespawner</a></h5>\n<ul>\n<li><a href=\"https://github.com/jupyterhub/kubespawner/issues/341\">(#341)</a>: <em>Add configuration on runtime</em> by <strong><a href=\"https://github.com/223311\">@223311</a></strong></li>\n</ul>"
      }
     },
     "3e58eb2367dc40988dbe966557b5ed3b": {
      "model_module": "@jupyter-widgets/controls",
      "model_module_version": "1.5.0",
      "model_name": "HTMLModel",
      "state": {
       "layout": "IPY_MODEL_ef5fa3a4a40f491cb7ec852594b520b6",
       "style": "IPY_MODEL_fd8b9656eaca453ca6e118b546ebeb19",
       "value": "<h5><a href=\"https://github.com/jupyterhub/jupyter-server-proxy\">jupyterhub/jupyter-server-proxy</a></h5>"
      }
     },
     "3eb39a042fad498485d9a9f127aa92a8": {
      "model_module": "@jupyter-widgets/controls",
      "model_module_version": "1.5.0",
      "model_name": "HTMLModel",
      "state": {
       "layout": "IPY_MODEL_86539d50b10f4fd0a1217b746192c510",
       "style": "IPY_MODEL_13040480da434f05bb9a482bb9ff59cf",
       "value": "<h4>Closed PRs for repo: <a href=\"https://github.com/jupyterhub/binderhub\">jupyterhub/binderhub</a></h4>\n<h5></h5>\n<ul>\n<li><a href=\"https://github.com/jupyterhub/binderhub/pull/1109\">(#1109)</a>: <em>Add a tip about ad blocker in the loading messages</em> by <strong><a href=\"https://github.com/1ucian0\">@1ucian0</a></strong> merged by <strong><a href=\"https://github.com/betatim\">@betatim</a></strong></li>\n</ul>"
      }
     },
     "3ede5b0be0f64037b067a7cdfdcba6ee": {
      "model_module": "@jupyter-widgets/controls",
      "model_module_version": "1.5.0",
      "model_name": "HTMLModel",
      "state": {
       "layout": "IPY_MODEL_a99f7528d9b54c8f9b808791bdffea24",
       "style": "IPY_MODEL_48fb129374c443cab2e67e4fe20c49d0",
       "value": "<h5><a href=\"https://github.com/jupyterhub/zero-to-jupyterhub-k8s\">jupyterhub/zero-to-jupyterhub-k8s</a></h5>\n<ul>\n<li><a href=\"https://github.com/jupyterhub/zero-to-jupyterhub-k8s/issues/734\">(#734)</a>: <em>Regarding JUPYTER_ENABLE_LAB environment variable</em> by <strong><a href=\"https://github.com/consideRatio\">@consideRatio</a></strong></li>\n<li><a href=\"https://github.com/jupyterhub/zero-to-jupyterhub-k8s/issues/466\">(#466)</a>: <em>No object with a name found</em> by <strong><a href=\"https://github.com/ryanlovett\">@ryanlovett</a></strong></li>\n<li><a href=\"https://github.com/jupyterhub/zero-to-jupyterhub-k8s/issues/420\">(#420)</a>: _Add info about using SSDs on AKS _ by <strong><a href=\"https://github.com/yuvipanda\">@yuvipanda</a></strong></li>\n</ul>"
      }
     },
     "45c56ca8109649fba24e286e8c4bc35d": {
      "model_module": "@jupyter-widgets/controls",
      "model_module_version": "1.5.0",
      "model_name": "DescriptionStyleModel",
      "state": {
       "description_width": ""
      }
     },
     "460164dd0e2d46b496e19aceb5fca450": {
      "model_module": "@jupyter-widgets/base",
      "model_module_version": "1.2.0",
      "model_name": "LayoutModel",
      "state": {}
     },
     "482baf6bbb944399967de56672c45483": {
      "model_module": "@jupyter-widgets/controls",
      "model_module_version": "1.5.0",
      "model_name": "HTMLModel",
      "state": {
       "layout": "IPY_MODEL_c4e0222711184488ae187aa34e870706",
       "style": "IPY_MODEL_e0694f410114408081516c11eba87426",
       "value": "<h5><a href=\"https://github.com/jupyterhub/helm-chart\">jupyterhub/helm-chart</a></h5>\n<ul>\n<li><a href=\"https://github.com/jupyterhub/helm-chart/issues/110\">(#110)</a>: <em>Option \"use_lookup_dn_username\" from ldapauthenticator missing</em> by <strong><a href=\"https://github.com/petimmermann\">@petimmermann</a></strong></li>\n</ul>"
      }
     },
     "48fb129374c443cab2e67e4fe20c49d0": {
      "model_module": "@jupyter-widgets/controls",
      "model_module_version": "1.5.0",
      "model_name": "DescriptionStyleModel",
      "state": {
       "description_width": ""
      }
     },
     "493d34b6b6c94046878d8f254718f217": {
      "model_module": "@jupyter-widgets/controls",
      "model_module_version": "1.5.0",
      "model_name": "DescriptionStyleModel",
      "state": {
       "description_width": ""
      }
     },
     "49550a8ada534dd987d75b18a2ef1479": {
      "model_module": "@jupyter-widgets/base",
      "model_module_version": "1.2.0",
      "model_name": "LayoutModel",
      "state": {}
     },
     "4995419008e049918e0abff389e71bb7": {
      "model_module": "@jupyter-widgets/controls",
      "model_module_version": "1.5.0",
      "model_name": "DescriptionStyleModel",
      "state": {
       "description_width": ""
      }
     },
     "49ae20d58081462187f6df00ba17bf4b": {
      "model_module": "@jupyter-widgets/base",
      "model_module_version": "1.2.0",
      "model_name": "LayoutModel",
      "state": {}
     },
     "4a9c3d0e44df4ef3b4bda274c7b14ebd": {
      "model_module": "@jupyter-widgets/controls",
      "model_module_version": "1.5.0",
      "model_name": "DescriptionStyleModel",
      "state": {
       "description_width": ""
      }
     },
     "4acae7d77c7943f58c8350d39480d230": {
      "model_module": "@jupyter-widgets/base",
      "model_module_version": "1.2.0",
      "model_name": "LayoutModel",
      "state": {}
     },
     "4b768d4bef1e4feab5519fd39f6823fa": {
      "model_module": "@jupyter-widgets/controls",
      "model_module_version": "1.5.0",
      "model_name": "DescriptionStyleModel",
      "state": {
       "description_width": ""
      }
     },
     "4bae49ae1b9445a49a896009ab88319e": {
      "model_module": "@jupyter-widgets/base",
      "model_module_version": "1.2.0",
      "model_name": "LayoutModel",
      "state": {}
     },
     "4bf873373f024e40b8267b94b899b31b": {
      "model_module": "@jupyter-widgets/base",
      "model_module_version": "1.2.0",
      "model_name": "LayoutModel",
      "state": {}
     },
     "4c66ddc7b4064a7fabbe886a79a9c879": {
      "model_module": "@jupyter-widgets/controls",
      "model_module_version": "1.5.0",
      "model_name": "HTMLModel",
      "state": {
       "layout": "IPY_MODEL_2de394486bbe4eec8dcd9ccf2e1f1380",
       "style": "IPY_MODEL_64521abfbc8447ce8c3c954a42eafa2f",
       "value": "<h5><a href=\"https://github.com/jupyterhub/pebble-helm-chart\">jupyterhub/pebble-helm-chart</a></h5>"
      }
     },
     "4d2f2c0681ef4360853abdb22672babc": {
      "model_module": "@jupyter-widgets/controls",
      "model_module_version": "1.5.0",
      "model_name": "DescriptionStyleModel",
      "state": {
       "description_width": ""
      }
     },
     "4d856fa307f740d79bfe962c65c39c95": {
      "model_module": "@jupyter-widgets/controls",
      "model_module_version": "1.5.0",
      "model_name": "DescriptionStyleModel",
      "state": {
       "description_width": ""
      }
     },
     "5031839b055b4d748840b93f1c26eb6e": {
      "model_module": "@jupyter-widgets/controls",
      "model_module_version": "1.5.0",
      "model_name": "DescriptionStyleModel",
      "state": {
       "description_width": ""
      }
     },
     "51aef6f700fc4ac18681196cd7b46536": {
      "model_module": "@jupyter-widgets/base",
      "model_module_version": "1.2.0",
      "model_name": "LayoutModel",
      "state": {}
     },
     "54695d98f2de4ae0aa3187a6cda2b52b": {
      "model_module": "@jupyter-widgets/controls",
      "model_module_version": "1.5.0",
      "model_name": "DescriptionStyleModel",
      "state": {
       "description_width": ""
      }
     },
     "5525561311b04dbcad1b2b9087c7adab": {
      "model_module": "@jupyter-widgets/base",
      "model_module_version": "1.2.0",
      "model_name": "LayoutModel",
      "state": {}
     },
     "5553599fa340497fa7d202e6cea17d3d": {
      "model_module": "@jupyter-widgets/base",
      "model_module_version": "1.2.0",
      "model_name": "LayoutModel",
      "state": {}
     },
     "5649cf4765024e1793e26e858e8aa6e0": {
      "model_module": "@jupyter-widgets/controls",
      "model_module_version": "1.5.0",
      "model_name": "HTMLModel",
      "state": {
       "layout": "IPY_MODEL_6423f8ea796a46bebcbbee3ee6055093",
       "style": "IPY_MODEL_b56e13b172bb4ae2865a6235687bbcec",
       "value": "<h5><a href=\"https://github.com/jupyterhub/jupyterhub-idle-culler\">jupyterhub/jupyterhub-idle-culler</a></h5>\n<ul>\n<li><a href=\"https://github.com/jupyterhub/jupyterhub-idle-culler/issues/4\">(#4)</a>: <em>Option to send warning email before deleting user</em> by <strong><a href=\"https://github.com/dylex\">@dylex</a></strong></li>\n</ul>"
      }
     },
     "5777e06739a347c2b49cbdf781765d9b": {
      "model_module": "@jupyter-widgets/base",
      "model_module_version": "1.2.0",
      "model_name": "LayoutModel",
      "state": {}
     },
     "577c753322bb42adb6edd1075ba691a8": {
      "model_module": "@jupyter-widgets/controls",
      "model_module_version": "1.5.0",
      "model_name": "DescriptionStyleModel",
      "state": {
       "description_width": ""
      }
     },
     "57fdbb53e7004276b0b5212dfb6c7431": {
      "model_module": "@jupyter-widgets/controls",
      "model_module_version": "1.5.0",
      "model_name": "DescriptionStyleModel",
      "state": {
       "description_width": ""
      }
     },
     "59f4f5ef50064b6e8b4ab62274a6e3d5": {
      "model_module": "@jupyter-widgets/controls",
      "model_module_version": "1.5.0",
      "model_name": "HTMLModel",
      "state": {
       "layout": "IPY_MODEL_8dd2c15ed1e14a318713f7cf63253b19",
       "style": "IPY_MODEL_d1ced46260ac47e4a8862aa514c530e3",
       "value": "<h5><a href=\"https://github.com/jupyterhub/the-littlest-jupyterhub\">jupyterhub/the-littlest-jupyterhub</a></h5>"
      }
     },
     "5a161e65f26a4df7b95728b41f085f1a": {
      "model_module": "@jupyter-widgets/controls",
      "model_module_version": "1.5.0",
      "model_name": "HTMLModel",
      "state": {
       "layout": "IPY_MODEL_bc43b5e9a3164a7a940eca94b289a8f9",
       "style": "IPY_MODEL_6087fe1b2e9248ddb30a6d3a457f8f10",
       "value": "<h5><a href=\"https://github.com/jupyterhub/jupyterhub\">jupyterhub/jupyterhub</a></h5>\n<ul>\n<li><a href=\"https://github.com/jupyterhub/jupyterhub/issues/2964\">(#2964)</a>: <em>nbgallery support?</em> by <strong><a href=\"https://github.com/elgalu\">@elgalu</a></strong></li>\n</ul>"
      }
     },
     "5d1d1abf5c9a41408750c91b2f96ee7d": {
      "model_module": "@jupyter-widgets/controls",
      "model_module_version": "1.5.0",
      "model_name": "HTMLModel",
      "state": {
       "layout": "IPY_MODEL_c535735db3084796ae834d80188c9e47",
       "style": "IPY_MODEL_fabb044f69264246b67e41d015179db7",
       "value": "<h5><a href=\"https://github.com/jupyterhub/configurable-http-proxy\">jupyterhub/configurable-http-proxy</a></h5>\n<ul>\n<li><a href=\"https://github.com/jupyterhub/configurable-http-proxy/issues/49\">(#49)</a>: <em>Define a standard, reproducible way to load test CHP</em> by <strong><a href=\"https://github.com/yuvipanda\">@yuvipanda</a></strong></li>\n</ul>"
      }
     },
     "5f46d9f24ec0430e987505143d4fd6ce": {
      "model_module": "@jupyter-widgets/controls",
      "model_module_version": "1.5.0",
      "model_name": "HTMLModel",
      "state": {
       "layout": "IPY_MODEL_5f7ee5bfe8f24cfba2eec49bc6c63885",
       "style": "IPY_MODEL_ba51e2bcd8ce4b62b4a898b838ac366d",
       "value": "<h5><a href=\"https://github.com/jupyterhub/nativeauthenticator\">jupyterhub/nativeauthenticator</a></h5>"
      }
     },
     "5f4daeb5d3d640db905a34493acc673c": {
      "model_module": "@jupyter-widgets/controls",
      "model_module_version": "1.5.0",
      "model_name": "HTMLModel",
      "state": {
       "layout": "IPY_MODEL_329957e6a88b4c05a1f1458743845270",
       "style": "IPY_MODEL_cb8809c397414e81bfddd747b99d0cfc",
       "value": "<h5><a href=\"https://github.com/jupyterhub/pebble-helm-chart\">jupyterhub/pebble-helm-chart</a></h5>"
      }
     },
     "5f53cfc2384a48159c32120015d2ba40": {
      "model_module": "@jupyter-widgets/controls",
      "model_module_version": "1.5.0",
      "model_name": "HTMLModel",
      "state": {
       "layout": "IPY_MODEL_7576bd87bffc430db5651c3eb9ef5c0f",
       "style": "IPY_MODEL_54695d98f2de4ae0aa3187a6cda2b52b",
       "value": "<h4>Closed PRs for repo: <a href=\"https://github.com/jupyterhub/the-littlest-jupyterhub\">jupyterhub/the-littlest-jupyterhub</a></h4>\n<h5></h5>\n<ul>\n<li><a href=\"https://github.com/jupyterhub/the-littlest-jupyterhub/pull/582\">(#582)</a>: <em>Allow extending traefik config</em> by <strong><a href=\"https://github.com/GeorgianaElena\">@GeorgianaElena</a></strong> merged by <strong><a href=\"https://github.com/yuvipanda\">@yuvipanda</a></strong></li>\n</ul>"
      }
     },
     "5f7ee5bfe8f24cfba2eec49bc6c63885": {
      "model_module": "@jupyter-widgets/base",
      "model_module_version": "1.2.0",
      "model_name": "LayoutModel",
      "state": {}
     },
     "6087fe1b2e9248ddb30a6d3a457f8f10": {
      "model_module": "@jupyter-widgets/controls",
      "model_module_version": "1.5.0",
      "model_name": "DescriptionStyleModel",
      "state": {
       "description_width": ""
      }
     },
     "6177a69601f24c74a2996dcbf16da940": {
      "model_module": "@jupyter-widgets/controls",
      "model_module_version": "1.5.0",
      "model_name": "HTMLModel",
      "state": {
       "layout": "IPY_MODEL_e0264b336b9f41deb6460b0840202efc",
       "style": "IPY_MODEL_0ed48c465c2f43dbb6b4a58e3772cd5d",
       "value": "<h5><a href=\"https://github.com/jupyterhub/pebble-helm-chart\">jupyterhub/pebble-helm-chart</a></h5>"
      }
     },
     "61f63b6931324296b81798af8cea2f78": {
      "model_module": "@jupyter-widgets/controls",
      "model_module_version": "1.5.0",
      "model_name": "HTMLModel",
      "state": {
       "layout": "IPY_MODEL_65d25cd71dcc4deebd9b84aa8d31545c",
       "style": "IPY_MODEL_577c753322bb42adb6edd1075ba691a8",
       "value": "<h4>Closed PRs for repo: <a href=\"https://github.com/jupyterhub/jupyterhub\">jupyterhub/jupyterhub</a></h4>\n<h5></h5>\n<ul>\n<li><a href=\"https://github.com/jupyterhub/jupyterhub/pull/3081\">(#3081)</a>: <em>make Spawner.environment config highest priority</em> by <strong><a href=\"https://github.com/minrk\">@minrk</a></strong> merged by <strong><a href=\"https://github.com/yuvipanda\">@yuvipanda</a></strong></li>\n<li><a href=\"https://github.com/jupyterhub/jupyterhub/pull/3079\">(#3079)</a>: <em>Allow <code>python:3.8 + master dependencies</code> to fail</em> by <strong><a href=\"https://github.com/manics\">@manics</a></strong> merged by <strong><a href=\"https://github.com/minrk\">@minrk</a></strong></li>\n<li><a href=\"https://github.com/jupyterhub/jupyterhub/pull/3078\">(#3078)</a>: <em>proxy settings might cause authentication errors</em> by <strong><a href=\"https://github.com/gatoniel\">@gatoniel</a></strong> merged by <strong><a href=\"https://github.com/minrk\">@minrk</a></strong></li>\n<li><a href=\"https://github.com/jupyterhub/jupyterhub/pull/3076\">(#3076)</a>: <em>Test with some master dependencies.</em> by <strong><a href=\"https://github.com/Carreau\">@Carreau</a></strong> merged by <strong><a href=\"https://github.com/betatim\">@betatim</a></strong></li>\n<li><a href=\"https://github.com/jupyterhub/jupyterhub/pull/3059\">(#3059)</a>: <em>Add JupyterHub Demo docker image</em> by <strong><a href=\"https://github.com/GeorgianaElena\">@GeorgianaElena</a></strong> merged by <strong><a href=\"https://github.com/minrk\">@minrk</a></strong></li>\n<li><a href=\"https://github.com/jupyterhub/jupyterhub/pull/3055\">(#3055)</a>: <em>document upgrading from api_tokens to services config</em> by <strong><a href=\"https://github.com/minrk\">@minrk</a></strong> merged by <strong><a href=\"https://github.com/minrk\">@minrk</a></strong></li>\n</ul>"
      }
     },
     "63952f6f4a774ebcb4b6b7493c989dd7": {
      "model_module": "@jupyter-widgets/controls",
      "model_module_version": "1.5.0",
      "model_name": "DescriptionStyleModel",
      "state": {
       "description_width": ""
      }
     },
     "6423f8ea796a46bebcbbee3ee6055093": {
      "model_module": "@jupyter-widgets/base",
      "model_module_version": "1.2.0",
      "model_name": "LayoutModel",
      "state": {}
     },
     "644cd81fec9a482da4a24dfce65db491": {
      "model_module": "@jupyter-widgets/controls",
      "model_module_version": "1.5.0",
      "model_name": "HTMLModel",
      "state": {
       "layout": "IPY_MODEL_ba4ad7a5eb7142088cfd83879c98244f",
       "style": "IPY_MODEL_9d4ddcfdace543ca9163b82882e797b0",
       "value": "<h4>Closed PRs for repo: <a href=\"https://github.com/jupyterhub/mybinder.org-deploy\">jupyterhub/mybinder.org-deploy</a></h4>\n<h5></h5>\n<ul>\n<li><a href=\"https://github.com/jupyterhub/mybinder.org-deploy/pull/1464\">(#1464)</a>: <em>Double Turing's pod quota</em> by <strong><a href=\"https://github.com/sgibson91\">@sgibson91</a></strong> merged by <strong><a href=\"https://github.com/betatim\">@betatim</a></strong></li>\n<li><a href=\"https://github.com/jupyterhub/mybinder.org-deploy/pull/1457\">(#1457)</a>: <em>[MRG] Adjust static ingress config for Turing</em> by <strong><a href=\"https://github.com/betatim\">@betatim</a></strong> merged by <strong><a href=\"https://github.com/betatim\">@betatim</a></strong></li>\n<li><a href=\"https://github.com/jupyterhub/mybinder.org-deploy/pull/1455\">(#1455)</a>: <em>[OVH] Fixing and re-enabling deployment</em> by <strong><a href=\"https://github.com/mael-le-gal\">@mael-le-gal</a></strong> merged by <strong><a href=\"https://github.com/betatim\">@betatim</a></strong></li>\n</ul>"
      }
     },
     "64521abfbc8447ce8c3c954a42eafa2f": {
      "model_module": "@jupyter-widgets/controls",
      "model_module_version": "1.5.0",
      "model_name": "DescriptionStyleModel",
      "state": {
       "description_width": ""
      }
     },
     "6585c23ad1ab4062bc2cca5109764d59": {
      "model_module": "@jupyter-widgets/base",
      "model_module_version": "1.2.0",
      "model_name": "LayoutModel",
      "state": {}
     },
     "658929fbd35f4cb5bae04668431c0b5a": {
      "model_module": "@jupyter-widgets/base",
      "model_module_version": "1.2.0",
      "model_name": "LayoutModel",
      "state": {}
     },
     "65afc823983c4a419157e5f1ab704451": {
      "model_module": "@jupyter-widgets/base",
      "model_module_version": "1.2.0",
      "model_name": "LayoutModel",
      "state": {}
     },
     "65d25cd71dcc4deebd9b84aa8d31545c": {
      "model_module": "@jupyter-widgets/base",
      "model_module_version": "1.2.0",
      "model_name": "LayoutModel",
      "state": {}
     },
     "66c8c67967ba481fa2a6a534daf11ae0": {
      "model_module": "@jupyter-widgets/base",
      "model_module_version": "1.2.0",
      "model_name": "LayoutModel",
      "state": {}
     },
     "68960849a66c4a1f8ff39fcbdb6b418c": {
      "model_module": "@jupyter-widgets/base",
      "model_module_version": "1.2.0",
      "model_name": "LayoutModel",
      "state": {}
     },
     "68bc2358c45f4d2c9e78e7123115686a": {
      "model_module": "@jupyter-widgets/base",
      "model_module_version": "1.2.0",
      "model_name": "LayoutModel",
      "state": {}
     },
     "694b6562d6ce4f2fa98980156dc2e7a9": {
      "model_module": "@jupyter-widgets/base",
      "model_module_version": "1.2.0",
      "model_name": "LayoutModel",
      "state": {}
     },
     "6fb44820cc574583ae07406795540270": {
      "model_module": "@jupyter-widgets/controls",
      "model_module_version": "1.5.0",
      "model_name": "TabModel",
      "state": {
       "layout": "IPY_MODEL_4acae7d77c7943f58c8350d39480d230"
      }
     },
     "700e89bc3362497786043e10664773b7": {
      "model_module": "@jupyter-widgets/controls",
      "model_module_version": "1.5.0",
      "model_name": "DescriptionStyleModel",
      "state": {
       "description_width": ""
      }
     },
     "7067bdc29f254ce0a8b8214286151434": {
      "model_module": "@jupyter-widgets/controls",
      "model_module_version": "1.5.0",
      "model_name": "DescriptionStyleModel",
      "state": {
       "description_width": ""
      }
     },
     "71c079071fef44c78f05abe78326ee6d": {
      "model_module": "@jupyter-widgets/controls",
      "model_module_version": "1.5.0",
      "model_name": "DescriptionStyleModel",
      "state": {
       "description_width": ""
      }
     },
     "73340621b96c43d6bf4a1cf4d2002e0e": {
      "model_module": "@jupyter-widgets/controls",
      "model_module_version": "1.5.0",
      "model_name": "HTMLModel",
      "state": {
       "layout": "IPY_MODEL_4bf873373f024e40b8267b94b899b31b",
       "style": "IPY_MODEL_7067bdc29f254ce0a8b8214286151434",
       "value": "<h5><a href=\"https://github.com/jupyterhub/helm-chart\">jupyterhub/helm-chart</a></h5>\n<ul>\n<li><a href=\"https://github.com/jupyterhub/helm-chart/issues/110\">(#110)</a>: <em>Option \"use_lookup_dn_username\" from ldapauthenticator missing</em> by <strong><a href=\"https://github.com/petimmermann\">@petimmermann</a></strong></li>\n</ul>"
      }
     },
     "7380691eb0d14de6887c64677ba83e18": {
      "model_module": "@jupyter-widgets/base",
      "model_module_version": "1.2.0",
      "model_name": "LayoutModel",
      "state": {}
     },
     "7576bd87bffc430db5651c3eb9ef5c0f": {
      "model_module": "@jupyter-widgets/base",
      "model_module_version": "1.2.0",
      "model_name": "LayoutModel",
      "state": {}
     },
     "75e82c9b616347579ce7560489619028": {
      "model_module": "@jupyter-widgets/base",
      "model_module_version": "1.2.0",
      "model_name": "LayoutModel",
      "state": {}
     },
     "77646b79ffca4292a622bf42c7c0ab2b": {
      "model_module": "@jupyter-widgets/base",
      "model_module_version": "1.2.0",
      "model_name": "LayoutModel",
      "state": {}
     },
     "79b19b1fa61e45bd86f73d53a90785c8": {
      "model_module": "@jupyter-widgets/controls",
      "model_module_version": "1.5.0",
      "model_name": "HTMLModel",
      "state": {
       "layout": "IPY_MODEL_ad132277db054793b6e9e5e67c5b756c",
       "style": "IPY_MODEL_1fc98d85fc2f43cfb1bc8187b410486c",
       "value": "<h5><a href=\"https://github.com/jupyterhub/binderhub\">jupyterhub/binderhub</a></h5>\n<ul>\n<li><a href=\"https://github.com/jupyterhub/binderhub/issues/1110\">(#1110)</a>: <em>mybinder fails to build image with nix, complains it needs nix&gt;=2.2</em> by <strong><a href=\"https://github.com/jboynyc\">@jboynyc</a></strong></li>\n</ul>"
      }
     },
     "7c9d5cb74f244d29b1fb57df0b2aa471": {
      "model_module": "@jupyter-widgets/controls",
      "model_module_version": "1.5.0",
      "model_name": "HTMLModel",
      "state": {
       "layout": "IPY_MODEL_1c01015489404fbbba93f78b6c1de310",
       "style": "IPY_MODEL_aace06a2ddde4d148938d9b3e1f12fe4",
       "value": "<h5><a href=\"https://github.com/jupyterhub/oauthenticator\">jupyterhub/oauthenticator</a></h5>"
      }
     },
     "7ce1309f5d2d4c69b8649980c1cf71a8": {
      "model_module": "@jupyter-widgets/base",
      "model_module_version": "1.2.0",
      "model_name": "LayoutModel",
      "state": {}
     },
     "7d6bf38627b0412e9727dcbb38d3aa05": {
      "model_module": "@jupyter-widgets/controls",
      "model_module_version": "1.5.0",
      "model_name": "DescriptionStyleModel",
      "state": {
       "description_width": ""
      }
     },
     "7ef2f2f04b4747da8d199b5792b3d727": {
      "model_module": "@jupyter-widgets/controls",
      "model_module_version": "1.5.0",
      "model_name": "HTMLModel",
      "state": {
       "layout": "IPY_MODEL_992f03b9100e4c6d80ea73e38dfb6cb9",
       "style": "IPY_MODEL_94f73871ba834facaafd581457639763",
       "value": "<h5><a href=\"https://github.com/jupyterhub/kubespawner\">jupyterhub/kubespawner</a></h5>\n<ul>\n<li><a href=\"https://github.com/jupyterhub/kubespawner/issues/341\">(#341)</a>: <em>Add configuration on runtime</em> by <strong><a href=\"https://github.com/223311\">@223311</a></strong></li>\n</ul>"
      }
     },
     "7f76b006eb2646cebc4a333aef86ce8f": {
      "model_module": "@jupyter-widgets/controls",
      "model_module_version": "1.5.0",
      "model_name": "DescriptionStyleModel",
      "state": {
       "description_width": ""
      }
     },
     "8295051471bc4ce99a716504be46ce47": {
      "model_module": "@jupyter-widgets/base",
      "model_module_version": "1.2.0",
      "model_name": "LayoutModel",
      "state": {}
     },
     "83672a82ae7945149d51410cd5f76fa5": {
      "model_module": "@jupyter-widgets/controls",
      "model_module_version": "1.5.0",
      "model_name": "HTMLModel",
      "state": {
       "layout": "IPY_MODEL_5553599fa340497fa7d202e6cea17d3d",
       "style": "IPY_MODEL_4d856fa307f740d79bfe962c65c39c95",
       "value": "<h5><a href=\"https://github.com/jupyterhub/dockerspawner\">jupyterhub/dockerspawner</a></h5>"
      }
     },
     "83a02f76b85e4e24bdeba63d4ec99b38": {
      "model_module": "@jupyter-widgets/controls",
      "model_module_version": "1.5.0",
      "model_name": "DescriptionStyleModel",
      "state": {
       "description_width": ""
      }
     },
     "84e4bd04dbf64575915fba722086c938": {
      "model_module": "@jupyter-widgets/controls",
      "model_module_version": "1.5.0",
      "model_name": "HTMLModel",
      "state": {
       "layout": "IPY_MODEL_1d3676b6d7964a0c92efa23c75565a42",
       "style": "IPY_MODEL_dc061e5a14024dd382ab24e51aa8e8e4",
       "value": "<h5><a href=\"https://github.com/jupyterhub/jupyterhub\">jupyterhub/jupyterhub</a></h5>\n<ul>\n<li><a href=\"https://github.com/jupyterhub/jupyterhub/issues/2964\">(#2964)</a>: <em>nbgallery support?</em> by <strong><a href=\"https://github.com/elgalu\">@elgalu</a></strong></li>\n</ul>"
      }
     },
     "86539d50b10f4fd0a1217b746192c510": {
      "model_module": "@jupyter-widgets/base",
      "model_module_version": "1.2.0",
      "model_name": "LayoutModel",
      "state": {}
     },
     "86d9ff808066492ab19fa9ac0264f8f9": {
      "model_module": "@jupyter-widgets/controls",
      "model_module_version": "1.5.0",
      "model_name": "HTMLModel",
      "state": {
       "layout": "IPY_MODEL_20aba13186cc47e4891b6e364bfc8694",
       "style": "IPY_MODEL_4b768d4bef1e4feab5519fd39f6823fa",
       "value": "<h4>Closed PRs for repo: <a href=\"https://github.com/jupyterhub/oauthenticator\">jupyterhub/oauthenticator</a></h4>\n<h5></h5>\n<ul>\n<li><a href=\"https://github.com/jupyterhub/oauthenticator/pull/352\">(#352)</a>: <em>Fix broken link for OpenShift OAuth service accounts</em> by <strong><a href=\"https://github.com/nscozzaro\">@nscozzaro</a></strong> merged by <strong><a href=\"https://github.com/minrk\">@minrk</a></strong></li>\n<li><a href=\"https://github.com/jupyterhub/oauthenticator/pull/350\">(#350)</a>: <em>Adding refresh_token to GoogleOAuthenticator</em> by <strong><a href=\"https://github.com/missingcharacter\">@missingcharacter</a></strong> merged by <strong><a href=\"https://github.com/minrk\">@minrk</a></strong></li>\n<li><a href=\"https://github.com/jupyterhub/oauthenticator/pull/337\">(#337)</a>: <em>Streamline Globus requirements</em> by <strong><a href=\"https://github.com/NickolausDS\">@NickolausDS</a></strong> merged by <strong><a href=\"https://github.com/minrk\">@minrk</a></strong></li>\n<li><a href=\"https://github.com/jupyterhub/oauthenticator/pull/268\">(#268)</a>: <em>[GenericOAuthenticator] Usage example for Nextcloud</em> by <strong><a href=\"https://github.com/arneki\">@arneki</a></strong> merged by <strong><a href=\"https://github.com/minrk\">@minrk</a></strong></li>\n</ul>"
      }
     },
     "8d4ee301e5f846a9b4f4584ac70bbefe": {
      "model_module": "@jupyter-widgets/controls",
      "model_module_version": "1.5.0",
      "model_name": "HTMLModel",
      "state": {
       "layout": "IPY_MODEL_75e82c9b616347579ce7560489619028",
       "style": "IPY_MODEL_63952f6f4a774ebcb4b6b7493c989dd7",
       "value": "<h5><a href=\"https://github.com/jupyterhub/mybinder.org-deploy\">jupyterhub/mybinder.org-deploy</a></h5>\n<ul>\n<li><a href=\"https://github.com/jupyterhub/mybinder.org-deploy/issues/1462\">(#1462)</a>: <em>A \"Binder Menu\" button for all UIs</em> by <strong><a href=\"https://github.com/betatim\">@betatim</a></strong></li>\n<li><a href=\"https://github.com/jupyterhub/mybinder.org-deploy/issues/1458\">(#1458)</a>: <em>Upgrading GKE k8s version</em> by <strong><a href=\"https://github.com/betatim\">@betatim</a></strong></li>\n<li><a href=\"https://github.com/jupyterhub/mybinder.org-deploy/issues/1461\">(#1461)</a>: <em>504 Gateway Time-out error on turing.mybinder.org</em> by <strong><a href=\"https://github.com/sgibson91\">@sgibson91</a></strong></li>\n</ul>"
      }
     },
     "8dd2c15ed1e14a318713f7cf63253b19": {
      "model_module": "@jupyter-widgets/base",
      "model_module_version": "1.2.0",
      "model_name": "LayoutModel",
      "state": {}
     },
     "909044d6f53d4f5d92c89f02f8de628c": {
      "model_module": "@jupyter-widgets/controls",
      "model_module_version": "1.5.0",
      "model_name": "TabModel",
      "state": {
       "_titles": {
        "0": "binderhub",
        "1": "jupyter-server-proxy",
        "2": "jupyterhub",
        "3": "kubespawner",
        "4": "mybinder.org-deploy",
        "5": "oauthenticator",
        "6": "pebble-helm-chart",
        "7": "the-littlest-jupyterhub",
        "8": "zero-to-jupyterhub-k8s"
       },
       "children": [
        "IPY_MODEL_3eb39a042fad498485d9a9f127aa92a8",
        "IPY_MODEL_3abdec6aab764d23bf27b55e6672663f",
        "IPY_MODEL_61f63b6931324296b81798af8cea2f78",
        "IPY_MODEL_14368ca85a584539ad1df73888e55980",
        "IPY_MODEL_644cd81fec9a482da4a24dfce65db491",
        "IPY_MODEL_86d9ff808066492ab19fa9ac0264f8f9",
        "IPY_MODEL_b9b32965c5cd4087b0e039b47a237c3c",
        "IPY_MODEL_5f53cfc2384a48159c32120015d2ba40",
        "IPY_MODEL_99cdfd7efb4040ee8aa06d3a155448d2"
       ],
       "layout": "IPY_MODEL_d191dc492f394dd193e5126cd9580b9c",
       "selected_index": 8
      }
     },
     "91708711b31946c08bf5a3131f81d718": {
      "model_module": "@jupyter-widgets/base",
      "model_module_version": "1.2.0",
      "model_name": "LayoutModel",
      "state": {}
     },
     "91afdc638d35457b9860a842f8cc43c3": {
      "model_module": "@jupyter-widgets/controls",
      "model_module_version": "1.5.0",
      "model_name": "DescriptionStyleModel",
      "state": {
       "description_width": ""
      }
     },
     "91f1a8fb1a9e4c6f90b2e20ff1a4f77d": {
      "model_module": "@jupyter-widgets/controls",
      "model_module_version": "1.5.0",
      "model_name": "DescriptionStyleModel",
      "state": {
       "description_width": ""
      }
     },
     "92450185eef541e1879b99869ea234be": {
      "model_module": "@jupyter-widgets/controls",
      "model_module_version": "1.5.0",
      "model_name": "HTMLModel",
      "state": {
       "layout": "IPY_MODEL_7ce1309f5d2d4c69b8649980c1cf71a8",
       "style": "IPY_MODEL_4d2f2c0681ef4360853abdb22672babc",
       "value": "<h5><a href=\"https://github.com/jupyterhub/jupyterhub-idle-culler\">jupyterhub/jupyterhub-idle-culler</a></h5>\n<ul>\n<li><a href=\"https://github.com/jupyterhub/jupyterhub-idle-culler/issues/4\">(#4)</a>: <em>Option to send warning email before deleting user</em> by <strong><a href=\"https://github.com/dylex\">@dylex</a></strong></li>\n</ul>"
      }
     },
     "942be0776cab40009b9f2def1300e1b2": {
      "model_module": "@jupyter-widgets/controls",
      "model_module_version": "1.5.0",
      "model_name": "DescriptionStyleModel",
      "state": {
       "description_width": ""
      }
     },
     "94f73871ba834facaafd581457639763": {
      "model_module": "@jupyter-widgets/controls",
      "model_module_version": "1.5.0",
      "model_name": "DescriptionStyleModel",
      "state": {
       "description_width": ""
      }
     },
     "952bb8b40c254f1a81e4e62d65030ee7": {
      "model_module": "@jupyter-widgets/controls",
      "model_module_version": "1.5.0",
      "model_name": "DescriptionStyleModel",
      "state": {
       "description_width": ""
      }
     },
     "9742f4357b994b35b50a7b44e0892e45": {
      "model_module": "@jupyter-widgets/base",
      "model_module_version": "1.2.0",
      "model_name": "LayoutModel",
      "state": {}
     },
     "9867822072a840e89b15ce49c07e4275": {
      "model_module": "@jupyter-widgets/controls",
      "model_module_version": "1.5.0",
      "model_name": "DescriptionStyleModel",
      "state": {
       "description_width": ""
      }
     },
     "992f03b9100e4c6d80ea73e38dfb6cb9": {
      "model_module": "@jupyter-widgets/base",
      "model_module_version": "1.2.0",
      "model_name": "LayoutModel",
      "state": {}
     },
     "99487956371a482481bc9d1f71848f4a": {
      "model_module": "@jupyter-widgets/controls",
      "model_module_version": "1.5.0",
      "model_name": "HTMLModel",
      "state": {
       "layout": "IPY_MODEL_91708711b31946c08bf5a3131f81d718",
       "style": "IPY_MODEL_05595ca7292a438c8a82a81ae9af43b5",
       "value": "<h5><a href=\"https://github.com/jupyterhub/oauthenticator\">jupyterhub/oauthenticator</a></h5>"
      }
     },
     "99ca44df234f454288bd702af88f8922": {
      "model_module": "@jupyter-widgets/base",
      "model_module_version": "1.2.0",
      "model_name": "LayoutModel",
      "state": {}
     },
     "99cdfd7efb4040ee8aa06d3a155448d2": {
      "model_module": "@jupyter-widgets/controls",
      "model_module_version": "1.5.0",
      "model_name": "HTMLModel",
      "state": {
       "layout": "IPY_MODEL_7380691eb0d14de6887c64677ba83e18",
       "style": "IPY_MODEL_2bf67177649b4ac3a629691f644fd418",
       "value": "<h4>Closed PRs for repo: <a href=\"https://github.com/jupyterhub/zero-to-jupyterhub-k8s\">jupyterhub/zero-to-jupyterhub-k8s</a></h4>\n<h5></h5>\n<ul>\n<li><a href=\"https://github.com/jupyterhub/zero-to-jupyterhub-k8s/pull/1690\">(#1690)</a>: <em>Simplify setting up JupyterLab as default</em> by <strong><a href=\"https://github.com/yuvipanda\">@yuvipanda</a></strong> merged by <strong><a href=\"https://github.com/consideRatio\">@consideRatio</a></strong></li>\n<li><a href=\"https://github.com/jupyterhub/zero-to-jupyterhub-k8s/pull/1689\">(#1689)</a>: <em>[MRG] Add services API tokens in hub-secret</em> by <strong><a href=\"https://github.com/betatim\">@betatim</a></strong> merged by <strong><a href=\"https://github.com/consideRatio\">@consideRatio</a></strong></li>\n<li><a href=\"https://github.com/jupyterhub/zero-to-jupyterhub-k8s/pull/1688\">(#1688)</a>: <em>Use --num-nodes instead of --size to resize gcloud cluster</em> by <strong><a href=\"https://github.com/aculich\">@aculich</a></strong> merged by <strong><a href=\"https://github.com/aculich\">@aculich</a></strong></li>\n<li><a href=\"https://github.com/jupyterhub/zero-to-jupyterhub-k8s/pull/1678\">(#1678)</a>: <em>secret-sync: selective write to secret / functional logs</em> by <strong><a href=\"https://github.com/consideRatio\">@consideRatio</a></strong> merged by <strong><a href=\"https://github.com/consideRatio\">@consideRatio</a></strong></li>\n</ul>"
      }
     },
     "9b9c9dd85dd54ee5bc365daa2d6ec033": {
      "model_module": "@jupyter-widgets/base",
      "model_module_version": "1.2.0",
      "model_name": "LayoutModel",
      "state": {}
     },
     "9d29982389484be08dfba01a45c78a70": {
      "model_module": "@jupyter-widgets/controls",
      "model_module_version": "1.5.0",
      "model_name": "ProgressStyleModel",
      "state": {
       "description_width": ""
      }
     },
     "9d4ddcfdace543ca9163b82882e797b0": {
      "model_module": "@jupyter-widgets/controls",
      "model_module_version": "1.5.0",
      "model_name": "DescriptionStyleModel",
      "state": {
       "description_width": ""
      }
     },
     "9f18cefd3f294ccda41920227fb3acec": {
      "model_module": "@jupyter-widgets/base",
      "model_module_version": "1.2.0",
      "model_name": "LayoutModel",
      "state": {}
     },
     "a4e43dd0a6e14b2582dec0962b0ba373": {
      "model_module": "@jupyter-widgets/base",
      "model_module_version": "1.2.0",
      "model_name": "LayoutModel",
      "state": {}
     },
     "a7f1c8b0a29846f99f2afd1af27afc53": {
      "model_module": "@jupyter-widgets/base",
      "model_module_version": "1.2.0",
      "model_name": "LayoutModel",
      "state": {}
     },
     "a83b087a6eb14ba2bfc86403557cecdc": {
      "model_module": "@jupyter-widgets/base",
      "model_module_version": "1.2.0",
      "model_name": "LayoutModel",
      "state": {}
     },
     "a928fc23fb484146a6008af6dbfd8ccc": {
      "model_module": "@jupyter-widgets/base",
      "model_module_version": "1.2.0",
      "model_name": "LayoutModel",
      "state": {}
     },
     "a99f7528d9b54c8f9b808791bdffea24": {
      "model_module": "@jupyter-widgets/base",
      "model_module_version": "1.2.0",
      "model_name": "LayoutModel",
      "state": {}
     },
     "a9d87fc0c8ac4052943db8930f82fbbd": {
      "model_module": "@jupyter-widgets/controls",
      "model_module_version": "1.5.0",
      "model_name": "HTMLModel",
      "state": {
       "layout": "IPY_MODEL_5525561311b04dbcad1b2b9087c7adab",
       "style": "IPY_MODEL_9867822072a840e89b15ce49c07e4275",
       "value": "<h5><a href=\"https://github.com/jupyterhub/jupyter-server-proxy\">jupyterhub/jupyter-server-proxy</a></h5>"
      }
     },
     "aace06a2ddde4d148938d9b3e1f12fe4": {
      "model_module": "@jupyter-widgets/controls",
      "model_module_version": "1.5.0",
      "model_name": "DescriptionStyleModel",
      "state": {
       "description_width": ""
      }
     },
     "abb865c73afa4ecf9388e25ee2c4a35f": {
      "model_module": "@jupyter-widgets/controls",
      "model_module_version": "1.5.0",
      "model_name": "DescriptionStyleModel",
      "state": {
       "description_width": ""
      }
     },
     "ac0cc6b0c11f4254b3182fcd5e865a56": {
      "model_module": "@jupyter-widgets/controls",
      "model_module_version": "1.5.0",
      "model_name": "DescriptionStyleModel",
      "state": {
       "description_width": ""
      }
     },
     "ac55ae7d2685489c8fd91c91af9845a2": {
      "model_module": "@jupyter-widgets/base",
      "model_module_version": "1.2.0",
      "model_name": "LayoutModel",
      "state": {}
     },
     "ac73611645c548668f23cce04a4f2a0d": {
      "model_module": "@jupyter-widgets/controls",
      "model_module_version": "1.5.0",
      "model_name": "HTMLModel",
      "state": {
       "layout": "IPY_MODEL_fa1b06a3494c4ea6a86522d310fcd2ea",
       "style": "IPY_MODEL_f6ea4e2a6c0b478ca58b29a30619cd98",
       "value": "<h5><a href=\"https://github.com/jupyterhub/jupyterhub\">jupyterhub/jupyterhub</a></h5>\n<ul>\n<li><a href=\"https://github.com/jupyterhub/jupyterhub/issues/2964\">(#2964)</a>: <em>nbgallery support?</em> by <strong><a href=\"https://github.com/elgalu\">@elgalu</a></strong></li>\n</ul>"
      }
     },
     "ad132277db054793b6e9e5e67c5b756c": {
      "model_module": "@jupyter-widgets/base",
      "model_module_version": "1.2.0",
      "model_name": "LayoutModel",
      "state": {}
     },
     "ad163156a74f48ff820efa68c2df58c4": {
      "model_module": "@jupyter-widgets/controls",
      "model_module_version": "1.5.0",
      "model_name": "IntProgressModel",
      "state": {
       "bar_style": "success",
       "description": "Downloading:",
       "layout": "IPY_MODEL_3ad28c10b4754ad1b44cf6f263465616",
       "max": 2,
       "style": "IPY_MODEL_ff12ea9816ff4ce79b13fe4e9bda6bd3",
       "value": 2
      }
     },
     "ada9c365cb214d9eac962e1e878aac81": {
      "model_module": "@jupyter-widgets/base",
      "model_module_version": "1.2.0",
      "model_name": "LayoutModel",
      "state": {}
     },
     "ae70002db61f46268878d8da6784098e": {
      "model_module": "@jupyter-widgets/base",
      "model_module_version": "1.2.0",
      "model_name": "LayoutModel",
      "state": {}
     },
     "aebfd21acaf74c7d94e38f887d3874f4": {
      "model_module": "@jupyter-widgets/controls",
      "model_module_version": "1.5.0",
      "model_name": "HTMLModel",
      "state": {
       "layout": "IPY_MODEL_66c8c67967ba481fa2a6a534daf11ae0",
       "style": "IPY_MODEL_efa9251b91b34a1881271383c9ba7e16",
       "value": "<h5><a href=\"https://github.com/jupyterhub/the-littlest-jupyterhub\">jupyterhub/the-littlest-jupyterhub</a></h5>"
      }
     },
     "af8fd897e44e4a4aa003134d87b140af": {
      "model_module": "@jupyter-widgets/controls",
      "model_module_version": "1.5.0",
      "model_name": "HTMLModel",
      "state": {
       "layout": "IPY_MODEL_a83b087a6eb14ba2bfc86403557cecdc",
       "style": "IPY_MODEL_7d6bf38627b0412e9727dcbb38d3aa05",
       "value": "<h5><a href=\"https://github.com/jupyterhub/team-compass\">jupyterhub/team-compass</a></h5>\n<ul>\n<li><a href=\"https://github.com/jupyterhub/team-compass/issues/299\">(#299)</a>: <em>Remove insensitive language from our code / docs</em> by <strong><a href=\"https://github.com/choldgraf\">@choldgraf</a></strong></li>\n<li><a href=\"https://github.com/jupyterhub/team-compass/issues/298\">(#298)</a>: <em>A bot to welcome first time contributors</em> by <strong><a href=\"https://github.com/GeorgianaElena\">@GeorgianaElena</a></strong></li>\n<li><a href=\"https://github.com/jupyterhub/team-compass/issues/300\">(#300)</a>: <em>Add a primer for traitlets and JupyterHub configuration</em> by <strong><a href=\"https://github.com/choldgraf\">@choldgraf</a></strong></li>\n<li><a href=\"https://github.com/jupyterhub/team-compass/issues/297\">(#297)</a>: <em>Hubs Team Meeting: June 2020</em> by <strong><a href=\"https://github.com/sgibson91\">@sgibson91</a></strong></li>\n<li><a href=\"https://github.com/jupyterhub/team-compass/issues/289\">(#289)</a>: <em>jupyterhub/pebble-helm-chart - OK? LICENCE?</em> by <strong><a href=\"https://github.com/consideRatio\">@consideRatio</a></strong></li>\n</ul>"
      }
     },
     "afffca317c2544768a8c26bc8ede5210": {
      "model_module": "@jupyter-widgets/base",
      "model_module_version": "1.2.0",
      "model_name": "LayoutModel",
      "state": {}
     },
     "b0be322f66894c4bad65f3192a1e2374": {
      "model_module": "@jupyter-widgets/controls",
      "model_module_version": "1.5.0",
      "model_name": "HTMLModel",
      "state": {
       "layout": "IPY_MODEL_b658a13c923543e5900f3be0733a311c",
       "style": "IPY_MODEL_30d6ac433c8046bd9c99ef09ed365403",
       "value": "<h5><a href=\"https://github.com/jupyterhub/the-littlest-jupyterhub\">jupyterhub/the-littlest-jupyterhub</a></h5>"
      }
     },
     "b177311b28504badb9e667108e2435fc": {
      "model_module": "@jupyter-widgets/base",
      "model_module_version": "1.2.0",
      "model_name": "LayoutModel",
      "state": {}
     },
     "b420c62546744a1aab7969e1ea3a345c": {
      "model_module": "@jupyter-widgets/controls",
      "model_module_version": "1.5.0",
      "model_name": "DescriptionStyleModel",
      "state": {
       "description_width": ""
      }
     },
     "b4cc909c42a94bfe973e9ec8c9af8913": {
      "model_module": "@jupyter-widgets/base",
      "model_module_version": "1.2.0",
      "model_name": "LayoutModel",
      "state": {}
     },
     "b56e13b172bb4ae2865a6235687bbcec": {
      "model_module": "@jupyter-widgets/controls",
      "model_module_version": "1.5.0",
      "model_name": "DescriptionStyleModel",
      "state": {
       "description_width": ""
      }
     },
     "b653f7ae2ce44f179b20d53aa477783a": {
      "model_module": "@jupyter-widgets/base",
      "model_module_version": "1.2.0",
      "model_name": "LayoutModel",
      "state": {}
     },
     "b658a13c923543e5900f3be0733a311c": {
      "model_module": "@jupyter-widgets/base",
      "model_module_version": "1.2.0",
      "model_name": "LayoutModel",
      "state": {}
     },
     "b6619dcbaad74d1faf99f6ec1c0ff006": {
      "model_module": "@jupyter-widgets/controls",
      "model_module_version": "1.5.0",
      "model_name": "HTMLModel",
      "state": {
       "layout": "IPY_MODEL_d75b884a76244a67a52755bcfb97eb67",
       "style": "IPY_MODEL_71c079071fef44c78f05abe78326ee6d",
       "value": "<h5><a href=\"https://github.com/jupyterhub/mybinder.org-deploy\">jupyterhub/mybinder.org-deploy</a></h5>\n<ul>\n<li><a href=\"https://github.com/jupyterhub/mybinder.org-deploy/issues/1462\">(#1462)</a>: <em>A \"Binder Menu\" button for all UIs</em> by <strong><a href=\"https://github.com/betatim\">@betatim</a></strong></li>\n<li><a href=\"https://github.com/jupyterhub/mybinder.org-deploy/issues/1458\">(#1458)</a>: <em>Upgrading GKE k8s version</em> by <strong><a href=\"https://github.com/betatim\">@betatim</a></strong></li>\n<li><a href=\"https://github.com/jupyterhub/mybinder.org-deploy/issues/1461\">(#1461)</a>: <em>504 Gateway Time-out error on turing.mybinder.org</em> by <strong><a href=\"https://github.com/sgibson91\">@sgibson91</a></strong></li>\n</ul>"
      }
     },
     "b724953d97fa413098072f412f29b796": {
      "model_module": "@jupyter-widgets/controls",
      "model_module_version": "1.5.0",
      "model_name": "DescriptionStyleModel",
      "state": {
       "description_width": ""
      }
     },
     "b8877804a35b4ce38e70d75d4109100b": {
      "model_module": "@jupyter-widgets/base",
      "model_module_version": "1.2.0",
      "model_name": "LayoutModel",
      "state": {}
     },
     "b9b32965c5cd4087b0e039b47a237c3c": {
      "model_module": "@jupyter-widgets/controls",
      "model_module_version": "1.5.0",
      "model_name": "HTMLModel",
      "state": {
       "layout": "IPY_MODEL_afffca317c2544768a8c26bc8ede5210",
       "style": "IPY_MODEL_c07dd7f665394af0bcaf17d4f298b9b3",
       "value": "<h4>Closed PRs for repo: <a href=\"https://github.com/jupyterhub/pebble-helm-chart\">jupyterhub/pebble-helm-chart</a></h4>\n<h5></h5>\n<ul>\n<li><a href=\"https://github.com/jupyterhub/pebble-helm-chart/pull/6\">(#6)</a>: <em>LICENSE: personal -&gt; project jupyter contributors</em> by <strong><a href=\"https://github.com/consideRatio\">@consideRatio</a></strong> merged by <strong><a href=\"https://github.com/betatim\">@betatim</a></strong></li>\n</ul>"
      }
     },
     "ba4ad7a5eb7142088cfd83879c98244f": {
      "model_module": "@jupyter-widgets/base",
      "model_module_version": "1.2.0",
      "model_name": "LayoutModel",
      "state": {}
     },
     "ba51e2bcd8ce4b62b4a898b838ac366d": {
      "model_module": "@jupyter-widgets/controls",
      "model_module_version": "1.5.0",
      "model_name": "DescriptionStyleModel",
      "state": {
       "description_width": ""
      }
     },
     "bb2345f8e11146768b7321bc6a919292": {
      "model_module": "@jupyter-widgets/controls",
      "model_module_version": "1.5.0",
      "model_name": "HTMLModel",
      "state": {
       "layout": "IPY_MODEL_a928fc23fb484146a6008af6dbfd8ccc",
       "style": "IPY_MODEL_942be0776cab40009b9f2def1300e1b2",
       "value": "<h5><a href=\"https://github.com/jupyterhub/oauthenticator\">jupyterhub/oauthenticator</a></h5>"
      }
     },
     "bb7321c9536848e7a58077e7a0cbd2be": {
      "model_module": "@jupyter-widgets/controls",
      "model_module_version": "1.5.0",
      "model_name": "DescriptionStyleModel",
      "state": {
       "description_width": ""
      }
     },
     "bc43b5e9a3164a7a940eca94b289a8f9": {
      "model_module": "@jupyter-widgets/base",
      "model_module_version": "1.2.0",
      "model_name": "LayoutModel",
      "state": {}
     },
     "c07dd7f665394af0bcaf17d4f298b9b3": {
      "model_module": "@jupyter-widgets/controls",
      "model_module_version": "1.5.0",
      "model_name": "DescriptionStyleModel",
      "state": {
       "description_width": ""
      }
     },
     "c4e0222711184488ae187aa34e870706": {
      "model_module": "@jupyter-widgets/base",
      "model_module_version": "1.2.0",
      "model_name": "LayoutModel",
      "state": {}
     },
     "c535735db3084796ae834d80188c9e47": {
      "model_module": "@jupyter-widgets/base",
      "model_module_version": "1.2.0",
      "model_name": "LayoutModel",
      "state": {}
     },
     "c7c89284aa194567b98022be08b59142": {
      "model_module": "@jupyter-widgets/controls",
      "model_module_version": "1.5.0",
      "model_name": "HTMLModel",
      "state": {
       "layout": "IPY_MODEL_9742f4357b994b35b50a7b44e0892e45",
       "style": "IPY_MODEL_7f76b006eb2646cebc4a333aef86ce8f",
       "value": "<h5><a href=\"https://github.com/jupyterhub/nativeauthenticator\">jupyterhub/nativeauthenticator</a></h5>"
      }
     },
     "c843eb60e5f642cfb597c75e5236e7b2": {
      "model_module": "@jupyter-widgets/controls",
      "model_module_version": "1.5.0",
      "model_name": "DescriptionStyleModel",
      "state": {
       "description_width": ""
      }
     },
     "cb308179d65840ecac88c06806ee7435": {
      "model_module": "@jupyter-widgets/controls",
      "model_module_version": "1.5.0",
      "model_name": "HTMLModel",
      "state": {
       "layout": "IPY_MODEL_658929fbd35f4cb5bae04668431c0b5a",
       "style": "IPY_MODEL_2bef4a5c7c544776a12d4ccebacb9e00",
       "value": "<h5><a href=\"https://github.com/jupyterhub/zero-to-jupyterhub-k8s\">jupyterhub/zero-to-jupyterhub-k8s</a></h5>\n<ul>\n<li><a href=\"https://github.com/jupyterhub/zero-to-jupyterhub-k8s/issues/734\">(#734)</a>: <em>Regarding JUPYTER_ENABLE_LAB environment variable</em> by <strong><a href=\"https://github.com/consideRatio\">@consideRatio</a></strong></li>\n<li><a href=\"https://github.com/jupyterhub/zero-to-jupyterhub-k8s/issues/466\">(#466)</a>: <em>No object with a name found</em> by <strong><a href=\"https://github.com/ryanlovett\">@ryanlovett</a></strong></li>\n<li><a href=\"https://github.com/jupyterhub/zero-to-jupyterhub-k8s/issues/420\">(#420)</a>: _Add info about using SSDs on AKS _ by <strong><a href=\"https://github.com/yuvipanda\">@yuvipanda</a></strong></li>\n</ul>"
      }
     },
     "cb8809c397414e81bfddd747b99d0cfc": {
      "model_module": "@jupyter-widgets/controls",
      "model_module_version": "1.5.0",
      "model_name": "DescriptionStyleModel",
      "state": {
       "description_width": ""
      }
     },
     "cbe326c0804347e3ac320af1ca61e5b8": {
      "model_module": "@jupyter-widgets/controls",
      "model_module_version": "1.5.0",
      "model_name": "HTMLModel",
      "state": {
       "layout": "IPY_MODEL_51aef6f700fc4ac18681196cd7b46536",
       "style": "IPY_MODEL_13b28340b11a473e8b26e154ffd0e58c",
       "value": "<h5><a href=\"https://github.com/jupyterhub/team-compass\">jupyterhub/team-compass</a></h5>\n<ul>\n<li><a href=\"https://github.com/jupyterhub/team-compass/issues/299\">(#299)</a>: <em>Remove insensitive language from our code / docs</em> by <strong><a href=\"https://github.com/choldgraf\">@choldgraf</a></strong></li>\n<li><a href=\"https://github.com/jupyterhub/team-compass/issues/298\">(#298)</a>: <em>A bot to welcome first time contributors</em> by <strong><a href=\"https://github.com/GeorgianaElena\">@GeorgianaElena</a></strong></li>\n<li><a href=\"https://github.com/jupyterhub/team-compass/issues/300\">(#300)</a>: <em>Add a primer for traitlets and JupyterHub configuration</em> by <strong><a href=\"https://github.com/choldgraf\">@choldgraf</a></strong></li>\n<li><a href=\"https://github.com/jupyterhub/team-compass/issues/297\">(#297)</a>: <em>Hubs Team Meeting: June 2020</em> by <strong><a href=\"https://github.com/sgibson91\">@sgibson91</a></strong></li>\n<li><a href=\"https://github.com/jupyterhub/team-compass/issues/289\">(#289)</a>: <em>jupyterhub/pebble-helm-chart - OK? LICENCE?</em> by <strong><a href=\"https://github.com/consideRatio\">@consideRatio</a></strong></li>\n</ul>"
      }
     },
     "d149d56623fc4212bccc889aaee1be69": {
      "model_module": "@jupyter-widgets/controls",
      "model_module_version": "1.5.0",
      "model_name": "HTMLModel",
      "state": {
       "layout": "IPY_MODEL_e7bbdc6d354a4b7e9c39204f7d4c065f",
       "style": "IPY_MODEL_19aaa51b0df94e218f399f1a82cdaf52",
       "value": "<h5><a href=\"https://github.com/jupyterhub/zero-to-jupyterhub-k8s\">jupyterhub/zero-to-jupyterhub-k8s</a></h5>\n<ul>\n<li><a href=\"https://github.com/jupyterhub/zero-to-jupyterhub-k8s/issues/734\">(#734)</a>: <em>Regarding JUPYTER_ENABLE_LAB environment variable</em> by <strong><a href=\"https://github.com/consideRatio\">@consideRatio</a></strong></li>\n<li><a href=\"https://github.com/jupyterhub/zero-to-jupyterhub-k8s/issues/466\">(#466)</a>: <em>No object with a name found</em> by <strong><a href=\"https://github.com/ryanlovett\">@ryanlovett</a></strong></li>\n<li><a href=\"https://github.com/jupyterhub/zero-to-jupyterhub-k8s/issues/420\">(#420)</a>: _Add info about using SSDs on AKS _ by <strong><a href=\"https://github.com/yuvipanda\">@yuvipanda</a></strong></li>\n</ul>"
      }
     },
     "d18df2a2d4ea41d7ab69445e4920fdfd": {
      "model_module": "@jupyter-widgets/base",
      "model_module_version": "1.2.0",
      "model_name": "LayoutModel",
      "state": {}
     },
     "d191dc492f394dd193e5126cd9580b9c": {
      "model_module": "@jupyter-widgets/base",
      "model_module_version": "1.2.0",
      "model_name": "LayoutModel",
      "state": {}
     },
     "d1ced46260ac47e4a8862aa514c530e3": {
      "model_module": "@jupyter-widgets/controls",
      "model_module_version": "1.5.0",
      "model_name": "DescriptionStyleModel",
      "state": {
       "description_width": ""
      }
     },
     "d373f5abde1c439cb83e3d74de51552e": {
      "model_module": "@jupyter-widgets/base",
      "model_module_version": "1.2.0",
      "model_name": "LayoutModel",
      "state": {}
     },
     "d64242bae20546dfa4e1ef4ece08839c": {
      "model_module": "@jupyter-widgets/controls",
      "model_module_version": "1.5.0",
      "model_name": "DescriptionStyleModel",
      "state": {
       "description_width": ""
      }
     },
     "d75b884a76244a67a52755bcfb97eb67": {
      "model_module": "@jupyter-widgets/base",
      "model_module_version": "1.2.0",
      "model_name": "LayoutModel",
      "state": {}
     },
     "d8067c12ba484ec69eb222edab176e70": {
      "model_module": "@jupyter-widgets/base",
      "model_module_version": "1.2.0",
      "model_name": "LayoutModel",
      "state": {}
     },
     "d8854aa94c1f4846910bbfc57d05e527": {
      "model_module": "@jupyter-widgets/base",
      "model_module_version": "1.2.0",
      "model_name": "LayoutModel",
      "state": {}
     },
     "dc061e5a14024dd382ab24e51aa8e8e4": {
      "model_module": "@jupyter-widgets/controls",
      "model_module_version": "1.5.0",
      "model_name": "DescriptionStyleModel",
      "state": {
       "description_width": ""
      }
     },
     "e0264b336b9f41deb6460b0840202efc": {
      "model_module": "@jupyter-widgets/base",
      "model_module_version": "1.2.0",
      "model_name": "LayoutModel",
      "state": {}
     },
     "e0694f410114408081516c11eba87426": {
      "model_module": "@jupyter-widgets/controls",
      "model_module_version": "1.5.0",
      "model_name": "DescriptionStyleModel",
      "state": {
       "description_width": ""
      }
     },
     "e10b3b1ed223409fa6fe94b418c7eedb": {
      "model_module": "@jupyter-widgets/controls",
      "model_module_version": "1.5.0",
      "model_name": "HTMLModel",
      "state": {
       "layout": "IPY_MODEL_2b107db65e5d43fbb25b7f2613416676",
       "style": "IPY_MODEL_91afdc638d35457b9860a842f8cc43c3",
       "value": "<h5><a href=\"https://github.com/jupyterhub/team-compass\">jupyterhub/team-compass</a></h5>\n<ul>\n<li><a href=\"https://github.com/jupyterhub/team-compass/issues/299\">(#299)</a>: <em>Remove insensitive language from our code / docs</em> by <strong><a href=\"https://github.com/choldgraf\">@choldgraf</a></strong></li>\n<li><a href=\"https://github.com/jupyterhub/team-compass/issues/298\">(#298)</a>: <em>A bot to welcome first time contributors</em> by <strong><a href=\"https://github.com/GeorgianaElena\">@GeorgianaElena</a></strong></li>\n<li><a href=\"https://github.com/jupyterhub/team-compass/issues/300\">(#300)</a>: <em>Add a primer for traitlets and JupyterHub configuration</em> by <strong><a href=\"https://github.com/choldgraf\">@choldgraf</a></strong></li>\n<li><a href=\"https://github.com/jupyterhub/team-compass/issues/297\">(#297)</a>: <em>Hubs Team Meeting: June 2020</em> by <strong><a href=\"https://github.com/sgibson91\">@sgibson91</a></strong></li>\n<li><a href=\"https://github.com/jupyterhub/team-compass/issues/289\">(#289)</a>: <em>jupyterhub/pebble-helm-chart - OK? LICENCE?</em> by <strong><a href=\"https://github.com/consideRatio\">@consideRatio</a></strong></li>\n</ul>"
      }
     },
     "e154a6a38fd5468c9c15f79f49f65ee7": {
      "model_module": "@jupyter-widgets/controls",
      "model_module_version": "1.5.0",
      "model_name": "DescriptionStyleModel",
      "state": {
       "description_width": ""
      }
     },
     "e25ffdeaaf1440f1980fe3d55108ff56": {
      "model_module": "@jupyter-widgets/controls",
      "model_module_version": "1.5.0",
      "model_name": "HTMLModel",
      "state": {
       "layout": "IPY_MODEL_77646b79ffca4292a622bf42c7c0ab2b",
       "style": "IPY_MODEL_91f1a8fb1a9e4c6f90b2e20ff1a4f77d",
       "value": "<h5><a href=\"https://github.com/jupyterhub/configurable-http-proxy\">jupyterhub/configurable-http-proxy</a></h5>\n<ul>\n<li><a href=\"https://github.com/jupyterhub/configurable-http-proxy/issues/49\">(#49)</a>: <em>Define a standard, reproducible way to load test CHP</em> by <strong><a href=\"https://github.com/yuvipanda\">@yuvipanda</a></strong></li>\n</ul>"
      }
     },
     "e477aa7740c14e0e91bcfcf635ee97c2": {
      "model_module": "@jupyter-widgets/controls",
      "model_module_version": "1.5.0",
      "model_name": "DescriptionStyleModel",
      "state": {
       "description_width": ""
      }
     },
     "e489b6607ee64ba49d04200ff3ff2607": {
      "model_module": "@jupyter-widgets/controls",
      "model_module_version": "1.5.0",
      "model_name": "HTMLModel",
      "state": {
       "layout": "IPY_MODEL_68960849a66c4a1f8ff39fcbdb6b418c",
       "style": "IPY_MODEL_e477aa7740c14e0e91bcfcf635ee97c2",
       "value": "<h5><a href=\"https://github.com/jupyterhub/binderhub\">jupyterhub/binderhub</a></h5>\n<ul>\n<li><a href=\"https://github.com/jupyterhub/binderhub/issues/1110\">(#1110)</a>: <em>mybinder fails to build image with nix, complains it needs nix&gt;=2.2</em> by <strong><a href=\"https://github.com/jboynyc\">@jboynyc</a></strong></li>\n</ul>"
      }
     },
     "e60ecacfbc30473cab7fd36c0456195c": {
      "model_module": "@jupyter-widgets/base",
      "model_module_version": "1.2.0",
      "model_name": "LayoutModel",
      "state": {}
     },
     "e6646ea2a3dc4c6399c623c1f76bf8ad": {
      "model_module": "@jupyter-widgets/base",
      "model_module_version": "1.2.0",
      "model_name": "LayoutModel",
      "state": {}
     },
     "e7bbdc6d354a4b7e9c39204f7d4c065f": {
      "model_module": "@jupyter-widgets/base",
      "model_module_version": "1.2.0",
      "model_name": "LayoutModel",
      "state": {}
     },
     "e83175bb1c1846f1ac18be0508ea7934": {
      "model_module": "@jupyter-widgets/controls",
      "model_module_version": "1.5.0",
      "model_name": "HTMLModel",
      "state": {
       "layout": "IPY_MODEL_234d79b0ded54a78a1e9a1b4d582f7aa",
       "style": "IPY_MODEL_2b5259ce8b304940a68cb1f175113041",
       "value": "<h5><a href=\"https://github.com/jupyterhub/jupyterhub-idle-culler\">jupyterhub/jupyterhub-idle-culler</a></h5>\n<ul>\n<li><a href=\"https://github.com/jupyterhub/jupyterhub-idle-culler/issues/4\">(#4)</a>: <em>Option to send warning email before deleting user</em> by <strong><a href=\"https://github.com/dylex\">@dylex</a></strong></li>\n</ul>"
      }
     },
     "ec1359477df649fc9be73e1c7d8323ba": {
      "model_module": "@jupyter-widgets/controls",
      "model_module_version": "1.5.0",
      "model_name": "HTMLModel",
      "state": {
       "layout": "IPY_MODEL_052fe5d03da2488a894f39cb9341d448",
       "style": "IPY_MODEL_049957f1bf264b4e9de83fd06d1aab15",
       "value": "<h5><a href=\"https://github.com/jupyterhub/jupyter-server-proxy\">jupyterhub/jupyter-server-proxy</a></h5>"
      }
     },
     "ec2abfe542fe4a2f9e57e292fb9bc315": {
      "model_module": "@jupyter-widgets/controls",
      "model_module_version": "1.5.0",
      "model_name": "HTMLModel",
      "state": {
       "layout": "IPY_MODEL_49550a8ada534dd987d75b18a2ef1479",
       "style": "IPY_MODEL_185be226b61f471cb1dccea401b2adda",
       "value": "<h5><a href=\"https://github.com/jupyterhub/jupyterhub\">jupyterhub/jupyterhub</a></h5>\n<ul>\n<li><a href=\"https://github.com/jupyterhub/jupyterhub/issues/2964\">(#2964)</a>: <em>nbgallery support?</em> by <strong><a href=\"https://github.com/elgalu\">@elgalu</a></strong></li>\n</ul>"
      }
     },
     "ec7ecf42c1c14330be567e5982d57db4": {
      "model_module": "@jupyter-widgets/controls",
      "model_module_version": "1.5.0",
      "model_name": "DescriptionStyleModel",
      "state": {
       "description_width": ""
      }
     },
     "ef5fa3a4a40f491cb7ec852594b520b6": {
      "model_module": "@jupyter-widgets/base",
      "model_module_version": "1.2.0",
      "model_name": "LayoutModel",
      "state": {}
     },
     "efa9251b91b34a1881271383c9ba7e16": {
      "model_module": "@jupyter-widgets/controls",
      "model_module_version": "1.5.0",
      "model_name": "DescriptionStyleModel",
      "state": {
       "description_width": ""
      }
     },
     "f1b6f5227407461ba85a9ca751d48903": {
      "model_module": "@jupyter-widgets/base",
      "model_module_version": "1.2.0",
      "model_name": "LayoutModel",
      "state": {}
     },
     "f2451c218181470b946428120b7d0544": {
      "model_module": "@jupyter-widgets/controls",
      "model_module_version": "1.5.0",
      "model_name": "IntProgressModel",
      "state": {
       "bar_style": "success",
       "description": "Downloading:",
       "layout": "IPY_MODEL_5777e06739a347c2b49cbdf781765d9b",
       "max": 2,
       "style": "IPY_MODEL_9d29982389484be08dfba01a45c78a70",
       "value": 2
      }
     },
     "f41217d925f9484f98acb13be24a44aa": {
      "model_module": "@jupyter-widgets/controls",
      "model_module_version": "1.5.0",
      "model_name": "DescriptionStyleModel",
      "state": {
       "description_width": ""
      }
     },
     "f47c36ed8221439b91eb4b7160f9c925": {
      "model_module": "@jupyter-widgets/controls",
      "model_module_version": "1.5.0",
      "model_name": "HTMLModel",
      "state": {
       "layout": "IPY_MODEL_9b9c9dd85dd54ee5bc365daa2d6ec033",
       "style": "IPY_MODEL_952bb8b40c254f1a81e4e62d65030ee7",
       "value": "<h5><a href=\"https://github.com/jupyterhub/helm-chart\">jupyterhub/helm-chart</a></h5>\n<ul>\n<li><a href=\"https://github.com/jupyterhub/helm-chart/issues/110\">(#110)</a>: <em>Option \"use_lookup_dn_username\" from ldapauthenticator missing</em> by <strong><a href=\"https://github.com/petimmermann\">@petimmermann</a></strong></li>\n</ul>"
      }
     },
     "f48d6d4a93f74133a1abb4ccb9e925bd": {
      "model_module": "@jupyter-widgets/controls",
      "model_module_version": "1.5.0",
      "model_name": "HTMLModel",
      "state": {
       "layout": "IPY_MODEL_ae70002db61f46268878d8da6784098e",
       "style": "IPY_MODEL_700e89bc3362497786043e10664773b7",
       "value": "<h5><a href=\"https://github.com/jupyterhub/kubespawner\">jupyterhub/kubespawner</a></h5>\n<ul>\n<li><a href=\"https://github.com/jupyterhub/kubespawner/issues/341\">(#341)</a>: <em>Add configuration on runtime</em> by <strong><a href=\"https://github.com/223311\">@223311</a></strong></li>\n</ul>"
      }
     },
     "f63c53bf72364d5794c6b27459d8d3c8": {
      "model_module": "@jupyter-widgets/controls",
      "model_module_version": "1.5.0",
      "model_name": "HTMLModel",
      "state": {
       "layout": "IPY_MODEL_d8854aa94c1f4846910bbfc57d05e527",
       "style": "IPY_MODEL_fe0f1e939780471aa1c8392f4b0b0770",
       "value": "<h5><a href=\"https://github.com/jupyterhub/nativeauthenticator\">jupyterhub/nativeauthenticator</a></h5>"
      }
     },
     "f6ea4e2a6c0b478ca58b29a30619cd98": {
      "model_module": "@jupyter-widgets/controls",
      "model_module_version": "1.5.0",
      "model_name": "DescriptionStyleModel",
      "state": {
       "description_width": ""
      }
     },
     "f9ce138866f94bb0b47ea04929d73cbf": {
      "model_module": "@jupyter-widgets/controls",
      "model_module_version": "1.5.0",
      "model_name": "HTMLModel",
      "state": {
       "layout": "IPY_MODEL_49ae20d58081462187f6df00ba17bf4b",
       "style": "IPY_MODEL_f41217d925f9484f98acb13be24a44aa",
       "value": "<h5><a href=\"https://github.com/jupyterhub/the-littlest-jupyterhub\">jupyterhub/the-littlest-jupyterhub</a></h5>"
      }
     },
     "fa1b06a3494c4ea6a86522d310fcd2ea": {
      "model_module": "@jupyter-widgets/base",
      "model_module_version": "1.2.0",
      "model_name": "LayoutModel",
      "state": {}
     },
     "fabb044f69264246b67e41d015179db7": {
      "model_module": "@jupyter-widgets/controls",
      "model_module_version": "1.5.0",
      "model_name": "DescriptionStyleModel",
      "state": {
       "description_width": ""
      }
     },
     "fd8b9656eaca453ca6e118b546ebeb19": {
      "model_module": "@jupyter-widgets/controls",
      "model_module_version": "1.5.0",
      "model_name": "DescriptionStyleModel",
      "state": {
       "description_width": ""
      }
     },
     "fe0f1e939780471aa1c8392f4b0b0770": {
      "model_module": "@jupyter-widgets/controls",
      "model_module_version": "1.5.0",
      "model_name": "DescriptionStyleModel",
      "state": {
       "description_width": ""
      }
     },
     "ff12ea9816ff4ce79b13fe4e9bda6bd3": {
      "model_module": "@jupyter-widgets/controls",
      "model_module_version": "1.5.0",
      "model_name": "ProgressStyleModel",
      "state": {
       "description_width": ""
      }
     }
    },
    "version_major": 2,
    "version_minor": 0
   }
  }
 },
 "nbformat": 4,
 "nbformat_minor": 4
}
