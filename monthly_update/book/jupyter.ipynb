{
 "cells": [
  {
   "cell_type": "markdown",
   "metadata": {
    "papermill": {
     "duration": 0.02498,
     "end_time": "2020-05-21T23:06:48.631418",
     "exception": false,
     "start_time": "2020-05-21T23:06:48.606438",
     "status": "completed"
    },
    "tags": []
   },
   "source": [
    "# {glue:text}`jupyter_github_org`\n",
    "\n",
    "**Activity from {glue:}`jupyter_start` to {glue:}`jupyter_stop`**"
   ]
  },
  {
   "cell_type": "code",
   "execution_count": 1,
   "metadata": {
    "execution": {
     "iopub.execute_input": "2020-05-21T23:06:48.682110Z",
     "iopub.status.busy": "2020-05-21T23:06:48.681769Z",
     "iopub.status.idle": "2020-05-21T23:06:50.356554Z",
     "shell.execute_reply": "2020-05-21T23:06:50.356180Z"
    },
    "papermill": {
     "duration": 1.699899,
     "end_time": "2020-05-21T23:06:50.356675",
     "exception": false,
     "start_time": "2020-05-21T23:06:48.656776",
     "status": "completed"
    },
    "tags": [
     "remove_cell"
    ]
   },
   "outputs": [],
   "source": [
    "import github_activity as ga\n",
    "from datetime import date\n",
    "from dateutil.relativedelta import relativedelta\n",
    "from myst_nb import glue\n",
    "import seaborn as sns\n",
    "import pandas as pd\n",
    "import numpy as np\n",
    "import altair as alt\n",
    "from markdown import markdown\n",
    "from IPython.display import Markdown\n",
    "from ipywidgets.widgets import HTML, Tab\n",
    "from ipywidgets import widgets\n",
    "from datetime import timedelta\n",
    "from matplotlib import pyplot as plt\n",
    "import os.path as op\n",
    "\n",
    "from warnings import simplefilter\n",
    "simplefilter('ignore')"
   ]
  },
  {
   "cell_type": "code",
   "execution_count": 2,
   "metadata": {
    "execution": {
     "iopub.execute_input": "2020-05-21T23:06:50.416267Z",
     "iopub.status.busy": "2020-05-21T23:06:50.415618Z",
     "iopub.status.idle": "2020-05-21T23:06:50.418252Z",
     "shell.execute_reply": "2020-05-21T23:06:50.418597Z"
    },
    "papermill": {
     "duration": 0.040562,
     "end_time": "2020-05-21T23:06:50.418696",
     "exception": false,
     "start_time": "2020-05-21T23:06:50.378134",
     "status": "completed"
    },
    "tags": [
     "remove_cell"
    ]
   },
   "outputs": [],
   "source": [
    "# Altair config\n",
    "def author_url(author):\n",
    "    return f\"https://github.com/{author}\"\n",
    "\n",
    "def alt_theme():\n",
    "    return {\n",
    "        'config': {\n",
    "            'axisLeft': {\n",
    "                'labelFontSize': 15,\n",
    "            },\n",
    "            'axisBottom': {\n",
    "                'labelFontSize': 15,\n",
    "            },\n",
    "        }\n",
    "    }\n",
    "\n",
    "alt.themes.register('my_theme', alt_theme)\n",
    "alt.themes.enable(\"my_theme\")\n",
    "\n",
    "\n",
    "# Define colors we'll use for GitHub membership\n",
    "author_types = ['MEMBER', 'CONTRIBUTOR', 'COLLABORATOR', \"NONE\"]\n",
    "\n",
    "author_palette = np.array(sns.palettes.blend_palette([\"lightgrey\", \"lightgreen\", \"darkgreen\"], 4)) * 256\n",
    "author_colors = [\"rgb({}, {}, {})\".format(*color) for color in author_palette]\n",
    "author_color_dict = {key: val for key, val in zip(author_types, author_palette)}"
   ]
  },
  {
   "cell_type": "code",
   "execution_count": 3,
   "metadata": {
    "execution": {
     "iopub.execute_input": "2020-05-21T23:06:50.472863Z",
     "iopub.status.busy": "2020-05-21T23:06:50.472471Z",
     "iopub.status.idle": "2020-05-21T23:06:50.474894Z",
     "shell.execute_reply": "2020-05-21T23:06:50.474546Z"
    },
    "papermill": {
     "duration": 0.030974,
     "end_time": "2020-05-21T23:06:50.474958",
     "exception": false,
     "start_time": "2020-05-21T23:06:50.443984",
     "status": "completed"
    },
    "tags": [
     "parameters",
     "hide_input",
     "remove_cell"
    ]
   },
   "outputs": [],
   "source": [
    "github_org = \"jupyterhub\"\n",
    "top_n_repos = 15\n",
    "n_days = 60"
   ]
  },
  {
   "cell_type": "code",
   "execution_count": 4,
   "metadata": {
    "execution": {
     "iopub.execute_input": "2020-05-21T23:06:50.546227Z",
     "iopub.status.busy": "2020-05-21T23:06:50.545663Z",
     "iopub.status.idle": "2020-05-21T23:06:50.548618Z",
     "shell.execute_reply": "2020-05-21T23:06:50.549194Z"
    },
    "papermill": {
     "duration": 0.030945,
     "end_time": "2020-05-21T23:06:50.549386",
     "exception": false,
     "start_time": "2020-05-21T23:06:50.518441",
     "status": "completed"
    },
    "tags": [
     "injected-parameters",
     "remove-cell"
    ]
   },
   "outputs": [],
   "source": [
    "# Parameters\n",
    "github_org = \"jupyter\"\n",
    "n_days = 60\n"
   ]
  },
  {
   "cell_type": "code",
   "execution_count": 5,
   "metadata": {
    "execution": {
     "iopub.execute_input": "2020-05-21T23:06:50.598835Z",
     "iopub.status.busy": "2020-05-21T23:06:50.598298Z",
     "iopub.status.idle": "2020-05-21T23:06:50.605005Z",
     "shell.execute_reply": "2020-05-21T23:06:50.605453Z"
    },
    "papermill": {
     "duration": 0.032596,
     "end_time": "2020-05-21T23:06:50.605575",
     "exception": false,
     "start_time": "2020-05-21T23:06:50.572979",
     "status": "completed"
    },
    "tags": [
     "remove_cell"
    ]
   },
   "outputs": [
    {
     "data": {
      "application/papermill.record/text/plain": "'jupyter'"
     },
     "metadata": {
      "scrapbook": {
       "mime_prefix": "application/papermill.record/",
       "name": "jupyter_github_org"
      }
     },
     "output_type": "display_data"
    },
    {
     "data": {
      "application/papermill.record/text/plain": "'2020-03-22'"
     },
     "metadata": {
      "scrapbook": {
       "mime_prefix": "application/papermill.record/",
       "name": "jupyter_start"
      }
     },
     "output_type": "display_data"
    },
    {
     "data": {
      "application/papermill.record/text/plain": "'2020-05-21'"
     },
     "metadata": {
      "scrapbook": {
       "mime_prefix": "application/papermill.record/",
       "name": "jupyter_stop"
      }
     },
     "output_type": "display_data"
    }
   ],
   "source": [
    "############################################################\n",
    "# Variables\n",
    "stop = date.today()\n",
    "start = date.today() - relativedelta(days=n_days)\n",
    "\n",
    "# Strings for use in queries\n",
    "start_date = f\"{start:%Y-%m-%d}\"\n",
    "stop_date = f\"{stop:%Y-%m-%d}\"\n",
    "\n",
    "# Glue variables for use in markdown\n",
    "glue(f\"{github_org}_github_org\", github_org, display=False)\n",
    "glue(f\"{github_org}_start\", start_date, display=False)\n",
    "glue(f\"{github_org}_stop\", stop_date, display=False)"
   ]
  },
  {
   "cell_type": "code",
   "execution_count": 6,
   "metadata": {
    "execution": {
     "iopub.execute_input": "2020-05-21T23:06:50.655151Z",
     "iopub.status.busy": "2020-05-21T23:06:50.654740Z",
     "iopub.status.idle": "2020-05-21T23:07:36.436026Z",
     "shell.execute_reply": "2020-05-21T23:07:36.436303Z"
    },
    "papermill": {
     "duration": 45.809399,
     "end_time": "2020-05-21T23:07:36.436398",
     "exception": false,
     "start_time": "2020-05-21T23:06:50.626999",
     "status": "completed"
    },
    "tags": [
     "remove_cell"
    ]
   },
   "outputs": [
    {
     "name": "stdout",
     "output_type": "stream",
     "text": [
      "Running search query:\n",
      "user:jupyter\n",
      "\n",
      "\n"
     ]
    },
    {
     "name": "stdout",
     "output_type": "stream",
     "text": [
      "Found 518 items, which will take 11 pages\n"
     ]
    },
    {
     "data": {
      "application/vnd.jupyter.widget-view+json": {
       "model_id": "bde32b38463b4486ad5800ec941a9e0a",
       "version_major": 2,
       "version_minor": 0
      },
      "text/plain": [
       "IntProgress(value=0, description='Downloading:', max=11)"
      ]
     },
     "metadata": {},
     "output_type": "display_data"
    },
    {
     "name": "stdout",
     "output_type": "stream",
     "text": [
      "Found 391 items, which will take 8 pages\n"
     ]
    },
    {
     "data": {
      "application/vnd.jupyter.widget-view+json": {
       "model_id": "23c924aaf5de4dcc85affe818a15edf0",
       "version_major": 2,
       "version_minor": 0
      },
      "text/plain": [
       "IntProgress(value=0, description='Downloading:', max=8)"
      ]
     },
     "metadata": {},
     "output_type": "display_data"
    }
   ],
   "source": [
    "############################################################\n",
    "# Fetch the raw data and load data we need\n",
    "raw_data = ga.get_activity(github_org, start_date)\n",
    "bot_names = pd.read_csv('../templates/bot_names.csv')['names'].tolist()\n",
    "data = raw_data.copy()\n",
    "\n",
    "# Prepare our data\n",
    "data[\"kind\"] = data[\"url\"].map(lambda a: \"issue\" if \"issues/\" in a else \"pr\")\n",
    "data[\"mergedBy\"] = data[\"mergedBy\"].map(lambda a: a[\"login\"] if not isinstance(a, (float, type(None))) else None)\n",
    "\n",
    "prs = data.query(\"kind == 'pr'\")\n",
    "issues = data.query(\"kind == 'issue'\")\n",
    "\n",
    "# Pull out the comments\n",
    "comments = []\n",
    "for _, irow in data.iterrows():\n",
    "    for icomment in irow['comments']['edges']:\n",
    "        icomment = icomment[\"node\"].copy()\n",
    "        icomment[\"author\"] = icomment[\"author\"][\"login\"] if icomment[\"author\"] else None\n",
    "        icomment[\"org\"] = irow[\"org\"]\n",
    "        icomment[\"repo\"] = irow[\"repo\"]\n",
    "        icomment[\"id\"] = irow[\"id\"]\n",
    "        comments.append(pd.Series(icomment))\n",
    "comments = pd.DataFrame(comments)\n",
    "\n",
    "# Clean up\n",
    "for idata in [prs, comments, issues]:\n",
    "    idata.query(\"author not in @bot_names\", inplace=True)\n",
    "    idata.drop_duplicates(subset=[\"url\"], inplace=True)\n",
    "\n",
    "# What are the top N repos, we will only plot these in the full data plots\n",
    "top_commented_repos = comments.groupby(\"repo\").count().sort_values(\"createdAt\", ascending=False)['createdAt']\n",
    "use_repos = top_commented_repos.head(top_n_repos).index.tolist()"
   ]
  },
  {
   "cell_type": "markdown",
   "metadata": {
    "papermill": {
     "duration": 0.023372,
     "end_time": "2020-05-21T23:07:36.481320",
     "exception": false,
     "start_time": "2020-05-21T23:07:36.457948",
     "status": "completed"
    },
    "tags": [
     "remove_cell"
    ]
   },
   "source": [
    "## Save the data to disk"
   ]
  },
  {
   "cell_type": "code",
   "execution_count": 7,
   "metadata": {
    "execution": {
     "iopub.execute_input": "2020-05-21T23:07:36.530872Z",
     "iopub.status.busy": "2020-05-21T23:07:36.530481Z",
     "iopub.status.idle": "2020-05-21T23:07:36.682791Z",
     "shell.execute_reply": "2020-05-21T23:07:36.683124Z"
    },
    "papermill": {
     "duration": 0.180166,
     "end_time": "2020-05-21T23:07:36.683210",
     "exception": false,
     "start_time": "2020-05-21T23:07:36.503044",
     "status": "completed"
    },
    "tags": [
     "remove_cell"
    ]
   },
   "outputs": [],
   "source": [
    "from pathlib import Path\n",
    "for name, idata in [(\"comments\", comments), (\"prs\", prs), (\"issues\", issues)]:\n",
    "    path_data = Path(f\"./{name}.csv\")\n",
    "    if path_data.exists():\n",
    "        idata = pd.read_csv(path_data).append(idata)\n",
    "    idata = idata.drop_duplicates(subset=[\"url\"])\n",
    "    idata.to_csv(path_data, index=None)"
   ]
  },
  {
   "cell_type": "markdown",
   "metadata": {
    "papermill": {
     "duration": 0.024214,
     "end_time": "2020-05-21T23:07:36.738142",
     "exception": false,
     "start_time": "2020-05-21T23:07:36.713928",
     "status": "completed"
    },
    "tags": [],
    "toc-hr-collapsed": false
   },
   "source": [
    "## Merged Pull requests\n",
    "\n",
    "Here's an analysis of **merged pull requests** across each of the repositories in the Jupyter\n",
    "ecosystem."
   ]
  },
  {
   "cell_type": "code",
   "execution_count": 8,
   "metadata": {
    "execution": {
     "iopub.execute_input": "2020-05-21T23:07:36.799132Z",
     "iopub.status.busy": "2020-05-21T23:07:36.798786Z",
     "iopub.status.idle": "2020-05-21T23:07:36.801442Z",
     "shell.execute_reply": "2020-05-21T23:07:36.801080Z"
    },
    "papermill": {
     "duration": 0.035551,
     "end_time": "2020-05-21T23:07:36.801510",
     "exception": false,
     "start_time": "2020-05-21T23:07:36.765959",
     "status": "completed"
    },
    "tags": [
     "remove_cell"
    ]
   },
   "outputs": [],
   "source": [
    "merged = prs.query('state == \"MERGED\" and closedAt > @start_date and closedAt < @stop_date')"
   ]
  },
  {
   "cell_type": "code",
   "execution_count": 9,
   "metadata": {
    "execution": {
     "iopub.execute_input": "2020-05-21T23:07:36.862704Z",
     "iopub.status.busy": "2020-05-21T23:07:36.860033Z",
     "iopub.status.idle": "2020-05-21T23:07:36.901871Z",
     "shell.execute_reply": "2020-05-21T23:07:36.901192Z"
    },
    "papermill": {
     "duration": 0.069713,
     "end_time": "2020-05-21T23:07:36.902072",
     "exception": false,
     "start_time": "2020-05-21T23:07:36.832359",
     "status": "completed"
    },
    "tags": [
     "hide_input"
    ]
   },
   "outputs": [
    {
     "data": {
      "text/html": [
       "\n",
       "<div id=\"altair-viz-2772171d51a14f6c93c0668ee8aef628\"></div>\n",
       "<script type=\"text/javascript\">\n",
       "  (function(spec, embedOpt){\n",
       "    const outputDiv = document.getElementById(\"altair-viz-2772171d51a14f6c93c0668ee8aef628\");\n",
       "    const paths = {\n",
       "      \"vega\": \"https://cdn.jsdelivr.net/npm//vega@5?noext\",\n",
       "      \"vega-lib\": \"https://cdn.jsdelivr.net/npm//vega-lib?noext\",\n",
       "      \"vega-lite\": \"https://cdn.jsdelivr.net/npm//vega-lite@4.0.2?noext\",\n",
       "      \"vega-embed\": \"https://cdn.jsdelivr.net/npm//vega-embed@6?noext\",\n",
       "    };\n",
       "\n",
       "    function loadScript(lib) {\n",
       "      return new Promise(function(resolve, reject) {\n",
       "        var s = document.createElement('script');\n",
       "        s.src = paths[lib];\n",
       "        s.async = true;\n",
       "        s.onload = () => resolve(paths[lib]);\n",
       "        s.onerror = () => reject(`Error loading script: ${paths[lib]}`);\n",
       "        document.getElementsByTagName(\"head\")[0].appendChild(s);\n",
       "      });\n",
       "    }\n",
       "\n",
       "    function showError(err) {\n",
       "      outputDiv.innerHTML = `<div class=\"error\" style=\"color:red;\">${err}</div>`;\n",
       "      throw err;\n",
       "    }\n",
       "\n",
       "    function displayChart(vegaEmbed) {\n",
       "      vegaEmbed(outputDiv, spec, embedOpt)\n",
       "        .catch(err => showError(`Javascript Error: ${err.message}<br>This usually means there's a typo in your chart specification. See the javascript console for the full traceback.`));\n",
       "    }\n",
       "\n",
       "    if(typeof define === \"function\" && define.amd) {\n",
       "      requirejs.config({paths});\n",
       "      require([\"vega-embed\"], displayChart, err => showError(`Error loading script: ${err.message}`));\n",
       "    } else if (typeof vegaEmbed === \"function\") {\n",
       "      displayChart(vegaEmbed);\n",
       "    } else {\n",
       "      loadScript(\"vega\")\n",
       "        .then(() => loadScript(\"vega-lite\"))\n",
       "        .then(() => loadScript(\"vega-embed\"))\n",
       "        .catch(showError)\n",
       "        .then(() => displayChart(vegaEmbed));\n",
       "    }\n",
       "  })({\"config\": {\"axisLeft\": {\"labelFontSize\": 15}, \"axisBottom\": {\"labelFontSize\": 15}}, \"data\": {\"name\": \"data-27941bf8a0590144766d4385bd93bea5\"}, \"mark\": \"bar\", \"encoding\": {\"color\": {\"type\": \"nominal\", \"field\": \"org\"}, \"x\": {\"type\": \"nominal\", \"field\": \"repo\", \"sort\": [\"jupyter_server\", \"notebook\", \"nbclient\", \"nbconvert\", \"repo2docker\", \"docker-stacks\", \"jupyter-sphinx\", \"nbformat\", \"jupyter_client\", \"qtconsole\", \"enterprise_gateway\", \"nbgrader\", \"jupyter.github.io\", \"governance\", \"jupyter\", \"jupyter-packaging\", \"nbviewer\", \"jupyter-drive\", \"jupyter_console\", \"sphinxcontrib_github_alt\", \"telemetry\"]}, \"y\": {\"type\": \"quantitative\", \"field\": \"author\"}}, \"title\": \"Merged PRs in the last 60 days\", \"$schema\": \"https://vega.github.io/schema/vega-lite/v4.0.2.json\", \"datasets\": {\"data-27941bf8a0590144766d4385bd93bea5\": [{\"org\": \"jupyter\", \"repo\": \"jupyter_server\", \"author\": 21}, {\"org\": \"jupyter\", \"repo\": \"notebook\", \"author\": 19}, {\"org\": \"jupyter\", \"repo\": \"nbclient\", \"author\": 16}, {\"org\": \"jupyter\", \"repo\": \"nbconvert\", \"author\": 16}, {\"org\": \"jupyter\", \"repo\": \"repo2docker\", \"author\": 16}, {\"org\": \"jupyter\", \"repo\": \"docker-stacks\", \"author\": 10}, {\"org\": \"jupyter\", \"repo\": \"jupyter-sphinx\", \"author\": 9}, {\"org\": \"jupyter\", \"repo\": \"nbformat\", \"author\": 9}, {\"org\": \"jupyter\", \"repo\": \"jupyter_client\", \"author\": 8}, {\"org\": \"jupyter\", \"repo\": \"qtconsole\", \"author\": 8}, {\"org\": \"jupyter\", \"repo\": \"enterprise_gateway\", \"author\": 7}, {\"org\": \"jupyter\", \"repo\": \"nbgrader\", \"author\": 7}, {\"org\": \"jupyter\", \"repo\": \"jupyter.github.io\", \"author\": 4}, {\"org\": \"jupyter\", \"repo\": \"governance\", \"author\": 2}, {\"org\": \"jupyter\", \"repo\": \"jupyter\", \"author\": 2}, {\"org\": \"jupyter\", \"repo\": \"jupyter-packaging\", \"author\": 2}, {\"org\": \"jupyter\", \"repo\": \"nbviewer\", \"author\": 2}, {\"org\": \"jupyter\", \"repo\": \"jupyter-drive\", \"author\": 1}, {\"org\": \"jupyter\", \"repo\": \"jupyter_console\", \"author\": 1}, {\"org\": \"jupyter\", \"repo\": \"sphinxcontrib_github_alt\", \"author\": 1}, {\"org\": \"jupyter\", \"repo\": \"telemetry\", \"author\": 1}]}}, {\"mode\": \"vega-lite\"});\n",
       "</script>"
      ],
      "text/plain": [
       "alt.Chart(...)"
      ]
     },
     "execution_count": 9,
     "metadata": {},
     "output_type": "execute_result"
    }
   ],
   "source": [
    "prs_by_repo = merged.groupby(['org', 'repo']).count()['author'].reset_index().sort_values(['org', 'author'], ascending=False)\n",
    "alt.Chart(data=prs_by_repo, title=f\"Merged PRs in the last {n_days} days\").mark_bar().encode(\n",
    "    x=alt.X('repo', sort=prs_by_repo['repo'].values.tolist()),\n",
    "    y='author',\n",
    "    color='org'\n",
    ")"
   ]
  },
  {
   "cell_type": "markdown",
   "metadata": {
    "papermill": {
     "duration": 0.036031,
     "end_time": "2020-05-21T23:07:36.977367",
     "exception": false,
     "start_time": "2020-05-21T23:07:36.941336",
     "status": "completed"
    },
    "tags": []
   },
   "source": [
    "### Authoring and merging stats by repository\n",
    "\n",
    "Let's see who has been doing most of the PR authoring and merging. The PR author is generally the\n",
    "person that implemented a change in the repository (code, documentation, etc). The PR merger is\n",
    "the person that \"pressed the green button\" and got the change into the main codebase."
   ]
  },
  {
   "cell_type": "code",
   "execution_count": 10,
   "metadata": {
    "execution": {
     "iopub.execute_input": "2020-05-21T23:07:37.048291Z",
     "iopub.status.busy": "2020-05-21T23:07:37.041543Z",
     "iopub.status.idle": "2020-05-21T23:07:37.055963Z",
     "shell.execute_reply": "2020-05-21T23:07:37.055183Z"
    },
    "papermill": {
     "duration": 0.05015,
     "end_time": "2020-05-21T23:07:37.056069",
     "exception": false,
     "start_time": "2020-05-21T23:07:37.005919",
     "status": "completed"
    },
    "tags": [
     "remove_cell"
    ]
   },
   "outputs": [],
   "source": [
    "# Prep our merging DF\n",
    "merged_by_repo = merged.groupby(['repo', 'author'], as_index=False).agg({'id': 'count', 'authorAssociation': 'first'}).rename(columns={'id': \"authored\", 'author': 'username'})\n",
    "closed_by_repo = merged.groupby(['repo', 'mergedBy']).count()['id'].reset_index().rename(columns={'id': \"closed\", \"mergedBy\": \"username\"})"
   ]
  },
  {
   "cell_type": "code",
   "execution_count": 11,
   "metadata": {
    "execution": {
     "iopub.execute_input": "2020-05-21T23:07:37.144288Z",
     "iopub.status.busy": "2020-05-21T23:07:37.141682Z",
     "iopub.status.idle": "2020-05-21T23:07:37.148392Z",
     "shell.execute_reply": "2020-05-21T23:07:37.148045Z"
    },
    "papermill": {
     "duration": 0.063716,
     "end_time": "2020-05-21T23:07:37.148455",
     "exception": false,
     "start_time": "2020-05-21T23:07:37.084739",
     "status": "completed"
    },
    "tags": [
     "hide_input"
    ]
   },
   "outputs": [
    {
     "data": {
      "text/html": [
       "\n",
       "<div id=\"altair-viz-2db9ded78aa84908903a9e59a1c70332\"></div>\n",
       "<script type=\"text/javascript\">\n",
       "  (function(spec, embedOpt){\n",
       "    const outputDiv = document.getElementById(\"altair-viz-2db9ded78aa84908903a9e59a1c70332\");\n",
       "    const paths = {\n",
       "      \"vega\": \"https://cdn.jsdelivr.net/npm//vega@5?noext\",\n",
       "      \"vega-lib\": \"https://cdn.jsdelivr.net/npm//vega-lib?noext\",\n",
       "      \"vega-lite\": \"https://cdn.jsdelivr.net/npm//vega-lite@4.0.2?noext\",\n",
       "      \"vega-embed\": \"https://cdn.jsdelivr.net/npm//vega-embed@6?noext\",\n",
       "    };\n",
       "\n",
       "    function loadScript(lib) {\n",
       "      return new Promise(function(resolve, reject) {\n",
       "        var s = document.createElement('script');\n",
       "        s.src = paths[lib];\n",
       "        s.async = true;\n",
       "        s.onload = () => resolve(paths[lib]);\n",
       "        s.onerror = () => reject(`Error loading script: ${paths[lib]}`);\n",
       "        document.getElementsByTagName(\"head\")[0].appendChild(s);\n",
       "      });\n",
       "    }\n",
       "\n",
       "    function showError(err) {\n",
       "      outputDiv.innerHTML = `<div class=\"error\" style=\"color:red;\">${err}</div>`;\n",
       "      throw err;\n",
       "    }\n",
       "\n",
       "    function displayChart(vegaEmbed) {\n",
       "      vegaEmbed(outputDiv, spec, embedOpt)\n",
       "        .catch(err => showError(`Javascript Error: ${err.message}<br>This usually means there's a typo in your chart specification. See the javascript console for the full traceback.`));\n",
       "    }\n",
       "\n",
       "    if(typeof define === \"function\" && define.amd) {\n",
       "      requirejs.config({paths});\n",
       "      require([\"vega-embed\"], displayChart, err => showError(`Error loading script: ${err.message}`));\n",
       "    } else if (typeof vegaEmbed === \"function\") {\n",
       "      displayChart(vegaEmbed);\n",
       "    } else {\n",
       "      loadScript(\"vega\")\n",
       "        .then(() => loadScript(\"vega-lite\"))\n",
       "        .then(() => loadScript(\"vega-embed\"))\n",
       "        .catch(showError)\n",
       "        .then(() => displayChart(vegaEmbed));\n",
       "    }\n",
       "  })({\"config\": {\"axisLeft\": {\"labelFontSize\": 15}, \"axisBottom\": {\"labelFontSize\": 15}}, \"data\": {\"name\": \"data-071994a2929f545c12363f23bce71b3c\"}, \"mark\": \"bar\", \"encoding\": {\"color\": {\"type\": \"nominal\", \"field\": \"authorAssociation\", \"scale\": {\"domain\": [\"MEMBER\", \"CONTRIBUTOR\", \"COLLABORATOR\", \"NONE\"], \"range\": [\"rgb(211.82745098039214, 211.82745098039214, 211.82745098039214)\", \"rgb(166.98562091503268, 229.89803921568628, 166.98562091503268)\", \"rgb(96.37647058823529, 192.75294117647059, 96.37647058823529)\", \"rgb(0.0, 100.3921568627451, 0.0)\"]}}, \"x\": {\"type\": \"nominal\", \"field\": \"username\"}, \"y\": {\"type\": \"quantitative\", \"field\": \"authored\"}}, \"title\": \"PR authors for jupyter in the last 60 days\", \"$schema\": \"https://vega.github.io/schema/vega-lite/v4.0.2.json\", \"datasets\": {\"data-071994a2929f545c12363f23bce71b3c\": [{\"username\": \"davidbrochart\", \"authored\": 13, \"authorAssociation\": \"MEMBER\"}, {\"username\": \"kevin-bates\", \"authored\": 12, \"authorAssociation\": \"MEMBER\"}, {\"username\": \"choldgraf\", \"authored\": 11, \"authorAssociation\": \"MEMBER\"}, {\"username\": \"Zsailer\", \"authored\": 9, \"authorAssociation\": \"MEMBER\"}, {\"username\": \"romainx\", \"authored\": 6, \"authorAssociation\": \"COLLABORATOR\"}, {\"username\": \"blink1073\", \"authored\": 4, \"authorAssociation\": \"MEMBER\"}, {\"username\": \"betatim\", \"authored\": 4, \"authorAssociation\": \"MEMBER\"}, {\"username\": \"echarles\", \"authored\": 4, \"authorAssociation\": \"COLLABORATOR\"}, {\"username\": \"dalthviz\", \"authored\": 4, \"authorAssociation\": \"CONTRIBUTOR\"}, {\"username\": \"SylvainCorlay\", \"authored\": 4, \"authorAssociation\": \"MEMBER\"}, {\"username\": \"jasongrout\", \"authored\": 4, \"authorAssociation\": \"MEMBER\"}, {\"username\": \"hwine\", \"authored\": 3, \"authorAssociation\": \"NONE\"}, {\"username\": \"davidanthoff\", \"authored\": 3, \"authorAssociation\": \"CONTRIBUTOR\"}, {\"username\": \"rohitsanj\", \"authored\": 3, \"authorAssociation\": \"CONTRIBUTOR\"}, {\"username\": \"golf-player\", \"authored\": 2, \"authorAssociation\": \"NONE\"}, {\"username\": \"minrk\", \"authored\": 2, \"authorAssociation\": \"MEMBER\"}, {\"username\": \"krinsman\", \"authored\": 2, \"authorAssociation\": \"COLLABORATOR\"}, {\"username\": \"lzach\", \"authored\": 2, \"authorAssociation\": \"CONTRIBUTOR\"}, {\"username\": \"maartenbreddels\", \"authored\": 2, \"authorAssociation\": \"CONTRIBUTOR\"}, {\"username\": \"xhochy\", \"authored\": 2, \"authorAssociation\": \"CONTRIBUTOR\"}, {\"username\": \"t-makaro\", \"authored\": 2, \"authorAssociation\": \"COLLABORATOR\"}, {\"username\": \"akhmerov\", \"authored\": 2, \"authorAssociation\": \"MEMBER\"}, {\"username\": \"Carreau\", \"authored\": 2, \"authorAssociation\": \"MEMBER\"}, {\"username\": \"MSeal\", \"authored\": 2, \"authorAssociation\": \"MEMBER\"}, {\"username\": \"MeggyCal\", \"authored\": 2, \"authorAssociation\": \"CONTRIBUTOR\"}, {\"username\": \"woswos\", \"authored\": 2, \"authorAssociation\": \"CONTRIBUTOR\"}, {\"username\": \"willingc\", \"authored\": 2, \"authorAssociation\": \"MEMBER\"}, {\"username\": \"manics\", \"authored\": 2, \"authorAssociation\": \"CONTRIBUTOR\"}, {\"username\": \"thombashi\", \"authored\": 2, \"authorAssociation\": \"CONTRIBUTOR\"}, {\"username\": \"berendjan\", \"authored\": 2, \"authorAssociation\": \"CONTRIBUTOR\"}, {\"username\": \"rosgori\", \"authored\": 1, \"authorAssociation\": \"CONTRIBUTOR\"}, {\"username\": \"seanpue\", \"authored\": 1, \"authorAssociation\": \"CONTRIBUTOR\"}, {\"username\": \"mathbunnyru\", \"authored\": 1, \"authorAssociation\": \"CONTRIBUTOR\"}, {\"username\": \"matthew-brett\", \"authored\": 1, \"authorAssociation\": \"CONTRIBUTOR\"}, {\"username\": \"wwj718\", \"authored\": 1, \"authorAssociation\": \"CONTRIBUTOR\"}, {\"username\": \"maxbachmann\", \"authored\": 1, \"authorAssociation\": \"CONTRIBUTOR\"}, {\"username\": \"takluyver\", \"authored\": 1, \"authorAssociation\": \"MEMBER\"}, {\"username\": \"mdeff\", \"authored\": 1, \"authorAssociation\": \"CONTRIBUTOR\"}, {\"username\": \"mpmdean\", \"authored\": 1, \"authorAssociation\": \"CONTRIBUTOR\"}, {\"username\": \"tinmarino\", \"authored\": 1, \"authorAssociation\": \"CONTRIBUTOR\"}, {\"username\": \"peterprescott\", \"authored\": 1, \"authorAssociation\": \"CONTRIBUTOR\"}, {\"username\": \"pinarkavak\", \"authored\": 1, \"authorAssociation\": \"NONE\"}, {\"username\": \"steff456\", \"authored\": 1, \"authorAssociation\": \"CONTRIBUTOR\"}, {\"username\": \"rubendibattista\", \"authored\": 1, \"authorAssociation\": \"CONTRIBUTOR\"}, {\"username\": \"rayosborn\", \"authored\": 1, \"authorAssociation\": \"CONTRIBUTOR\"}, {\"username\": \"rkdarst\", \"authored\": 1, \"authorAssociation\": \"MEMBER\"}, {\"username\": \"westurner\", \"authored\": 1, \"authorAssociation\": \"CONTRIBUTOR\"}, {\"username\": \"qzchenwl\", \"authored\": 1, \"authorAssociation\": \"CONTRIBUTOR\"}, {\"username\": \"AakashGfude\", \"authored\": 1, \"authorAssociation\": \"CONTRIBUTOR\"}, {\"username\": \"m-rossi\", \"authored\": 1, \"authorAssociation\": \"CONTRIBUTOR\"}, {\"username\": \"fcollonval\", \"authored\": 1, \"authorAssociation\": \"CONTRIBUTOR\"}, {\"username\": \"ErwinRussel\", \"authored\": 1, \"authorAssociation\": \"CONTRIBUTOR\"}, {\"username\": \"Mistobaan\", \"authored\": 1, \"authorAssociation\": \"CONTRIBUTOR\"}, {\"username\": \"Monory\", \"authored\": 1, \"authorAssociation\": \"CONTRIBUTOR\"}, {\"username\": \"ThewBear\", \"authored\": 1, \"authorAssociation\": \"CONTRIBUTOR\"}, {\"username\": \"afshin\", \"authored\": 1, \"authorAssociation\": \"MEMBER\"}, {\"username\": \"bsdz\", \"authored\": 1, \"authorAssociation\": \"CONTRIBUTOR\"}, {\"username\": \"bzinberg\", \"authored\": 1, \"authorAssociation\": \"CONTRIBUTOR\"}, {\"username\": \"carstenpohllhind\", \"authored\": 1, \"authorAssociation\": \"CONTRIBUTOR\"}, {\"username\": \"danielfrg\", \"authored\": 1, \"authorAssociation\": \"CONTRIBUTOR\"}, {\"username\": \"danlester\", \"authored\": 1, \"authorAssociation\": \"CONTRIBUTOR\"}, {\"username\": \"ericpre\", \"authored\": 1, \"authorAssociation\": \"CONTRIBUTOR\"}, {\"username\": \"frenzymadness\", \"authored\": 1, \"authorAssociation\": \"CONTRIBUTOR\"}, {\"username\": \"lresende\", \"authored\": 1, \"authorAssociation\": \"MEMBER\"}, {\"username\": \"hamelsmu\", \"authored\": 1, \"authorAssociation\": \"CONTRIBUTOR\"}, {\"username\": \"hartwork\", \"authored\": 1, \"authorAssociation\": \"CONTRIBUTOR\"}, {\"username\": \"hroncok\", \"authored\": 1, \"authorAssociation\": \"CONTRIBUTOR\"}, {\"username\": \"irgolic\", \"authored\": 1, \"authorAssociation\": \"CONTRIBUTOR\"}, {\"username\": \"jamesdbrock\", \"authored\": 1, \"authorAssociation\": \"CONTRIBUTOR\"}, {\"username\": \"jameslamb\", \"authored\": 1, \"authorAssociation\": \"CONTRIBUTOR\"}, {\"username\": \"AnjoMan\", \"authored\": 1, \"authorAssociation\": \"CONTRIBUTOR\"}, {\"username\": \"jpcastil\", \"authored\": 1, \"authorAssociation\": \"CONTRIBUTOR\"}, {\"username\": \"jtpio\", \"authored\": 1, \"authorAssociation\": \"CONTRIBUTOR\"}, {\"username\": \"kinow\", \"authored\": 1, \"authorAssociation\": \"CONTRIBUTOR\"}, {\"username\": \"kwlzn\", \"authored\": 1, \"authorAssociation\": \"CONTRIBUTOR\"}, {\"username\": \"jgwerner\", \"authored\": 1, \"authorAssociation\": \"CONTRIBUTOR\"}]}}, {\"mode\": \"vega-lite\"});\n",
       "</script>"
      ],
      "text/plain": [
       "alt.Chart(...)"
      ]
     },
     "execution_count": 11,
     "metadata": {},
     "output_type": "execute_result"
    }
   ],
   "source": [
    "charts = []\n",
    "title = f\"PR authors for {github_org} in the last {n_days} days\"\n",
    "this_data = merged_by_repo.replace(np.nan, 0).groupby('username', as_index=False).agg({'authored': 'sum', 'authorAssociation': 'first'})\n",
    "this_data = this_data.sort_values('authored', ascending=False)\n",
    "ch = alt.Chart(data=this_data, title=title).mark_bar().encode(\n",
    "    x='username',\n",
    "    y='authored',\n",
    "    color=alt.Color('authorAssociation', scale=alt.Scale(domain=author_types, range=author_colors))\n",
    ")\n",
    "ch"
   ]
  },
  {
   "cell_type": "code",
   "execution_count": 12,
   "metadata": {
    "execution": {
     "iopub.execute_input": "2020-05-21T23:07:37.219299Z",
     "iopub.status.busy": "2020-05-21T23:07:37.218941Z",
     "iopub.status.idle": "2020-05-21T23:07:37.222078Z",
     "shell.execute_reply": "2020-05-21T23:07:37.222389Z"
    },
    "papermill": {
     "duration": 0.049327,
     "end_time": "2020-05-21T23:07:37.222472",
     "exception": false,
     "start_time": "2020-05-21T23:07:37.173145",
     "status": "completed"
    },
    "tags": [
     "hide_input"
    ]
   },
   "outputs": [
    {
     "data": {
      "text/html": [
       "\n",
       "<div id=\"altair-viz-1de7e117d6344dfab4ee7a9253cefb11\"></div>\n",
       "<script type=\"text/javascript\">\n",
       "  (function(spec, embedOpt){\n",
       "    const outputDiv = document.getElementById(\"altair-viz-1de7e117d6344dfab4ee7a9253cefb11\");\n",
       "    const paths = {\n",
       "      \"vega\": \"https://cdn.jsdelivr.net/npm//vega@5?noext\",\n",
       "      \"vega-lib\": \"https://cdn.jsdelivr.net/npm//vega-lib?noext\",\n",
       "      \"vega-lite\": \"https://cdn.jsdelivr.net/npm//vega-lite@4.0.2?noext\",\n",
       "      \"vega-embed\": \"https://cdn.jsdelivr.net/npm//vega-embed@6?noext\",\n",
       "    };\n",
       "\n",
       "    function loadScript(lib) {\n",
       "      return new Promise(function(resolve, reject) {\n",
       "        var s = document.createElement('script');\n",
       "        s.src = paths[lib];\n",
       "        s.async = true;\n",
       "        s.onload = () => resolve(paths[lib]);\n",
       "        s.onerror = () => reject(`Error loading script: ${paths[lib]}`);\n",
       "        document.getElementsByTagName(\"head\")[0].appendChild(s);\n",
       "      });\n",
       "    }\n",
       "\n",
       "    function showError(err) {\n",
       "      outputDiv.innerHTML = `<div class=\"error\" style=\"color:red;\">${err}</div>`;\n",
       "      throw err;\n",
       "    }\n",
       "\n",
       "    function displayChart(vegaEmbed) {\n",
       "      vegaEmbed(outputDiv, spec, embedOpt)\n",
       "        .catch(err => showError(`Javascript Error: ${err.message}<br>This usually means there's a typo in your chart specification. See the javascript console for the full traceback.`));\n",
       "    }\n",
       "\n",
       "    if(typeof define === \"function\" && define.amd) {\n",
       "      requirejs.config({paths});\n",
       "      require([\"vega-embed\"], displayChart, err => showError(`Error loading script: ${err.message}`));\n",
       "    } else if (typeof vegaEmbed === \"function\") {\n",
       "      displayChart(vegaEmbed);\n",
       "    } else {\n",
       "      loadScript(\"vega\")\n",
       "        .then(() => loadScript(\"vega-lite\"))\n",
       "        .then(() => loadScript(\"vega-embed\"))\n",
       "        .catch(showError)\n",
       "        .then(() => displayChart(vegaEmbed));\n",
       "    }\n",
       "  })({\"config\": {\"axisLeft\": {\"labelFontSize\": 15}, \"axisBottom\": {\"labelFontSize\": 15}}, \"data\": {\"name\": \"data-02e1ed1e25a343957a1786b11d4772cb\"}, \"mark\": \"bar\", \"encoding\": {\"x\": {\"type\": \"nominal\", \"field\": \"username\"}, \"y\": {\"type\": \"quantitative\", \"field\": \"closed\"}}, \"title\": \"Merges for jupyter in the last 60 days\", \"$schema\": \"https://vega.github.io/schema/vega-lite/v4.0.2.json\", \"datasets\": {\"data-02e1ed1e25a343957a1786b11d4772cb\": [{\"repo\": \"docker-stacks\", \"username\": \"parente\", \"closed\": 10}, {\"repo\": \"enterprise_gateway\", \"username\": \"kevin-bates\", \"closed\": 4}, {\"repo\": \"enterprise_gateway\", \"username\": \"lresende\", \"closed\": 3}, {\"repo\": \"governance\", \"username\": \"afshin\", \"closed\": 1}, {\"repo\": \"governance\", \"username\": \"blink1073\", \"closed\": 1}, {\"repo\": \"jupyter\", \"username\": \"choldgraf\", \"closed\": 1}, {\"repo\": \"jupyter\", \"username\": \"willingc\", \"closed\": 1}, {\"repo\": \"jupyter-drive\", \"username\": \"Carreau\", \"closed\": 1}, {\"repo\": \"jupyter-packaging\", \"username\": \"blink1073\", \"closed\": 2}, {\"repo\": \"jupyter-sphinx\", \"username\": \"akhmerov\", \"closed\": 8}, {\"repo\": \"jupyter-sphinx\", \"username\": \"choldgraf\", \"closed\": 1}, {\"repo\": \"jupyter.github.io\", \"username\": \"Carreau\", \"closed\": 1}, {\"repo\": \"jupyter.github.io\", \"username\": \"choldgraf\", \"closed\": 3}, {\"repo\": \"jupyter_client\", \"username\": \"MSeal\", \"closed\": 6}, {\"repo\": \"jupyter_client\", \"username\": \"SylvainCorlay\", \"closed\": 1}, {\"repo\": \"jupyter_client\", \"username\": \"davidbrochart\", \"closed\": 1}, {\"repo\": \"jupyter_console\", \"username\": \"rgbkrk\", \"closed\": 1}, {\"repo\": \"jupyter_server\", \"username\": \"Zsailer\", \"closed\": 16}, {\"repo\": \"jupyter_server\", \"username\": \"kevin-bates\", \"closed\": 5}, {\"repo\": \"nbclient\", \"username\": \"MSeal\", \"closed\": 9}, {\"repo\": \"nbclient\", \"username\": \"SylvainCorlay\", \"closed\": 1}, {\"repo\": \"nbclient\", \"username\": \"choldgraf\", \"closed\": 2}, {\"repo\": \"nbclient\", \"username\": \"davidbrochart\", \"closed\": 4}, {\"repo\": \"nbconvert\", \"username\": \"MSeal\", \"closed\": 12}, {\"repo\": \"nbconvert\", \"username\": \"SylvainCorlay\", \"closed\": 4}, {\"repo\": \"nbformat\", \"username\": \"MSeal\", \"closed\": 9}, {\"repo\": \"nbgrader\", \"username\": \"willingc\", \"closed\": 7}, {\"repo\": \"nbviewer\", \"username\": \"krinsman\", \"closed\": 2}, {\"repo\": \"notebook\", \"username\": \"Zsailer\", \"closed\": 4}, {\"repo\": \"notebook\", \"username\": \"afshin\", \"closed\": 1}, {\"repo\": \"notebook\", \"username\": \"blink1073\", \"closed\": 4}, {\"repo\": \"notebook\", \"username\": \"kevin-bates\", \"closed\": 7}, {\"repo\": \"notebook\", \"username\": \"lresende\", \"closed\": 3}, {\"repo\": \"qtconsole\", \"username\": \"ccordoba12\", \"closed\": 8}, {\"repo\": \"repo2docker\", \"username\": \"betatim\", \"closed\": 13}, {\"repo\": \"repo2docker\", \"username\": \"choldgraf\", \"closed\": 1}, {\"repo\": \"repo2docker\", \"username\": \"consideRatio\", \"closed\": 1}, {\"repo\": \"repo2docker\", \"username\": \"sgibson91\", \"closed\": 1}, {\"repo\": \"sphinxcontrib_github_alt\", \"username\": \"takluyver\", \"closed\": 1}, {\"repo\": \"telemetry\", \"username\": \"yuvipanda\", \"closed\": 1}]}}, {\"mode\": \"vega-lite\"});\n",
       "</script>"
      ],
      "text/plain": [
       "alt.Chart(...)"
      ]
     },
     "execution_count": 12,
     "metadata": {},
     "output_type": "execute_result"
    }
   ],
   "source": [
    "charts = []\n",
    "title = f\"Merges for {github_org} in the last {n_days} days\"\n",
    "ch = alt.Chart(data=closed_by_repo.replace(np.nan, 0), title=title).mark_bar().encode(\n",
    "    x='username',\n",
    "    y='closed',\n",
    ")\n",
    "ch"
   ]
  },
  {
   "cell_type": "markdown",
   "metadata": {
    "papermill": {
     "duration": 0.022973,
     "end_time": "2020-05-21T23:07:37.273097",
     "exception": false,
     "start_time": "2020-05-21T23:07:37.250124",
     "status": "completed"
    },
    "tags": []
   },
   "source": [
    "## Issues\n",
    "\n",
    "Issues are **conversations** that happen on our GitHub repositories. Here's an\n",
    "analysis of issues across the Jupyter organizations."
   ]
  },
  {
   "cell_type": "code",
   "execution_count": 13,
   "metadata": {
    "execution": {
     "iopub.execute_input": "2020-05-21T23:07:37.334622Z",
     "iopub.status.busy": "2020-05-21T23:07:37.333988Z",
     "iopub.status.idle": "2020-05-21T23:07:37.337372Z",
     "shell.execute_reply": "2020-05-21T23:07:37.336848Z"
    },
    "papermill": {
     "duration": 0.038761,
     "end_time": "2020-05-21T23:07:37.337440",
     "exception": false,
     "start_time": "2020-05-21T23:07:37.298679",
     "status": "completed"
    },
    "tags": [
     "remove_cell"
    ]
   },
   "outputs": [],
   "source": [
    "created = issues.query('state == \"OPEN\" and createdAt > @start_date and createdAt < @stop_date')\n",
    "closed = issues.query('state == \"CLOSED\" and closedAt > @start_date and closedAt < @stop_date')"
   ]
  },
  {
   "cell_type": "code",
   "execution_count": 14,
   "metadata": {
    "execution": {
     "iopub.execute_input": "2020-05-21T23:07:37.402673Z",
     "iopub.status.busy": "2020-05-21T23:07:37.397701Z",
     "iopub.status.idle": "2020-05-21T23:07:37.419959Z",
     "shell.execute_reply": "2020-05-21T23:07:37.419665Z"
    },
    "papermill": {
     "duration": 0.054453,
     "end_time": "2020-05-21T23:07:37.420025",
     "exception": false,
     "start_time": "2020-05-21T23:07:37.365572",
     "status": "completed"
    },
    "tags": [
     "hide_input"
    ]
   },
   "outputs": [
    {
     "data": {
      "text/html": [
       "\n",
       "<div id=\"altair-viz-3fce21183e8749d6afe26c6de8ec5340\"></div>\n",
       "<script type=\"text/javascript\">\n",
       "  (function(spec, embedOpt){\n",
       "    const outputDiv = document.getElementById(\"altair-viz-3fce21183e8749d6afe26c6de8ec5340\");\n",
       "    const paths = {\n",
       "      \"vega\": \"https://cdn.jsdelivr.net/npm//vega@5?noext\",\n",
       "      \"vega-lib\": \"https://cdn.jsdelivr.net/npm//vega-lib?noext\",\n",
       "      \"vega-lite\": \"https://cdn.jsdelivr.net/npm//vega-lite@4.0.2?noext\",\n",
       "      \"vega-embed\": \"https://cdn.jsdelivr.net/npm//vega-embed@6?noext\",\n",
       "    };\n",
       "\n",
       "    function loadScript(lib) {\n",
       "      return new Promise(function(resolve, reject) {\n",
       "        var s = document.createElement('script');\n",
       "        s.src = paths[lib];\n",
       "        s.async = true;\n",
       "        s.onload = () => resolve(paths[lib]);\n",
       "        s.onerror = () => reject(`Error loading script: ${paths[lib]}`);\n",
       "        document.getElementsByTagName(\"head\")[0].appendChild(s);\n",
       "      });\n",
       "    }\n",
       "\n",
       "    function showError(err) {\n",
       "      outputDiv.innerHTML = `<div class=\"error\" style=\"color:red;\">${err}</div>`;\n",
       "      throw err;\n",
       "    }\n",
       "\n",
       "    function displayChart(vegaEmbed) {\n",
       "      vegaEmbed(outputDiv, spec, embedOpt)\n",
       "        .catch(err => showError(`Javascript Error: ${err.message}<br>This usually means there's a typo in your chart specification. See the javascript console for the full traceback.`));\n",
       "    }\n",
       "\n",
       "    if(typeof define === \"function\" && define.amd) {\n",
       "      requirejs.config({paths});\n",
       "      require([\"vega-embed\"], displayChart, err => showError(`Error loading script: ${err.message}`));\n",
       "    } else if (typeof vegaEmbed === \"function\") {\n",
       "      displayChart(vegaEmbed);\n",
       "    } else {\n",
       "      loadScript(\"vega\")\n",
       "        .then(() => loadScript(\"vega-lite\"))\n",
       "        .then(() => loadScript(\"vega-embed\"))\n",
       "        .catch(showError)\n",
       "        .then(() => displayChart(vegaEmbed));\n",
       "    }\n",
       "  })({\"config\": {\"axisLeft\": {\"labelFontSize\": 15}, \"axisBottom\": {\"labelFontSize\": 15}}, \"data\": {\"name\": \"data-e2bfc03f555e34e7e47b70be8f7502fa\"}, \"mark\": \"bar\", \"encoding\": {\"x\": {\"type\": \"nominal\", \"field\": \"repo\", \"sort\": [\"notebook\", \"nbconvert\", \"nbgrader\", \"docker-stacks\", \"nbviewer\", \"repo2docker\", \"jupyter_server\", \"enterprise_gateway\", \"jupyter\", \"jupyter-sphinx\", \"nbclient\", \"nbdime\", \"jupyter_core\", \"atom-notebook\", \"jupyter_client\", \"jupyter_console\", \"nbformat\", \"design\", \"jupyter.github.io\", \"kernels\", \"nb2kg\"]}, \"y\": {\"type\": \"quantitative\", \"field\": \"number\"}}, \"title\": \"Issues created in the last 60 days\", \"$schema\": \"https://vega.github.io/schema/vega-lite/v4.0.2.json\", \"datasets\": {\"data-e2bfc03f555e34e7e47b70be8f7502fa\": [{\"org\": \"jupyter\", \"repo\": \"atom-notebook\", \"number\": 2, \"org/repo\": \"jupyter/atom-notebook\"}, {\"org\": \"jupyter\", \"repo\": \"design\", \"number\": 1, \"org/repo\": \"jupyter/design\"}, {\"org\": \"jupyter\", \"repo\": \"docker-stacks\", \"number\": 11, \"org/repo\": \"jupyter/docker-stacks\"}, {\"org\": \"jupyter\", \"repo\": \"enterprise_gateway\", \"number\": 8, \"org/repo\": \"jupyter/enterprise_gateway\"}, {\"org\": \"jupyter\", \"repo\": \"jupyter\", \"number\": 7, \"org/repo\": \"jupyter/jupyter\"}, {\"org\": \"jupyter\", \"repo\": \"jupyter-sphinx\", \"number\": 6, \"org/repo\": \"jupyter/jupyter-sphinx\"}, {\"org\": \"jupyter\", \"repo\": \"jupyter.github.io\", \"number\": 1, \"org/repo\": \"jupyter/jupyter.github.io\"}, {\"org\": \"jupyter\", \"repo\": \"jupyter_client\", \"number\": 2, \"org/repo\": \"jupyter/jupyter_client\"}, {\"org\": \"jupyter\", \"repo\": \"jupyter_console\", \"number\": 2, \"org/repo\": \"jupyter/jupyter_console\"}, {\"org\": \"jupyter\", \"repo\": \"jupyter_core\", \"number\": 3, \"org/repo\": \"jupyter/jupyter_core\"}, {\"org\": \"jupyter\", \"repo\": \"jupyter_server\", \"number\": 9, \"org/repo\": \"jupyter/jupyter_server\"}, {\"org\": \"jupyter\", \"repo\": \"kernels\", \"number\": 1, \"org/repo\": \"jupyter/kernels\"}, {\"org\": \"jupyter\", \"repo\": \"nb2kg\", \"number\": 1, \"org/repo\": \"jupyter/nb2kg\"}, {\"org\": \"jupyter\", \"repo\": \"nbclient\", \"number\": 4, \"org/repo\": \"jupyter/nbclient\"}, {\"org\": \"jupyter\", \"repo\": \"nbconvert\", \"number\": 17, \"org/repo\": \"jupyter/nbconvert\"}, {\"org\": \"jupyter\", \"repo\": \"nbdime\", \"number\": 4, \"org/repo\": \"jupyter/nbdime\"}, {\"org\": \"jupyter\", \"repo\": \"nbformat\", \"number\": 2, \"org/repo\": \"jupyter/nbformat\"}, {\"org\": \"jupyter\", \"repo\": \"nbgrader\", \"number\": 12, \"org/repo\": \"jupyter/nbgrader\"}, {\"org\": \"jupyter\", \"repo\": \"nbviewer\", \"number\": 10, \"org/repo\": \"jupyter/nbviewer\"}, {\"org\": \"jupyter\", \"repo\": \"notebook\", \"number\": 98, \"org/repo\": \"jupyter/notebook\"}, {\"org\": \"jupyter\", \"repo\": \"repo2docker\", \"number\": 10, \"org/repo\": \"jupyter/repo2docker\"}]}}, {\"mode\": \"vega-lite\"});\n",
       "</script>"
      ],
      "text/plain": [
       "alt.Chart(...)"
      ]
     },
     "execution_count": 14,
     "metadata": {},
     "output_type": "execute_result"
    }
   ],
   "source": [
    "created_counts = created.groupby(['org', 'repo']).count()['number'].reset_index()\n",
    "created_counts['org/repo'] = created_counts.apply(lambda a: a['org'] + '/' + a['repo'], axis=1)\n",
    "sorted_vals = created_counts.sort_values(['org', 'number'], ascending=False)['repo'].values\n",
    "alt.Chart(data=created_counts, title=f\"Issues created in the last {n_days} days\").mark_bar().encode(\n",
    "    x=alt.X('repo', sort=alt.Sort(sorted_vals.tolist())),\n",
    "    y='number',\n",
    ")"
   ]
  },
  {
   "cell_type": "code",
   "execution_count": 15,
   "metadata": {
    "execution": {
     "iopub.execute_input": "2020-05-21T23:07:37.484100Z",
     "iopub.status.busy": "2020-05-21T23:07:37.476486Z",
     "iopub.status.idle": "2020-05-21T23:07:37.498455Z",
     "shell.execute_reply": "2020-05-21T23:07:37.499056Z"
    },
    "papermill": {
     "duration": 0.056353,
     "end_time": "2020-05-21T23:07:37.499190",
     "exception": false,
     "start_time": "2020-05-21T23:07:37.442837",
     "status": "completed"
    },
    "tags": [
     "hide_input"
    ]
   },
   "outputs": [
    {
     "data": {
      "text/html": [
       "\n",
       "<div id=\"altair-viz-d87e7c6242914c1ea7b2895efa47b171\"></div>\n",
       "<script type=\"text/javascript\">\n",
       "  (function(spec, embedOpt){\n",
       "    const outputDiv = document.getElementById(\"altair-viz-d87e7c6242914c1ea7b2895efa47b171\");\n",
       "    const paths = {\n",
       "      \"vega\": \"https://cdn.jsdelivr.net/npm//vega@5?noext\",\n",
       "      \"vega-lib\": \"https://cdn.jsdelivr.net/npm//vega-lib?noext\",\n",
       "      \"vega-lite\": \"https://cdn.jsdelivr.net/npm//vega-lite@4.0.2?noext\",\n",
       "      \"vega-embed\": \"https://cdn.jsdelivr.net/npm//vega-embed@6?noext\",\n",
       "    };\n",
       "\n",
       "    function loadScript(lib) {\n",
       "      return new Promise(function(resolve, reject) {\n",
       "        var s = document.createElement('script');\n",
       "        s.src = paths[lib];\n",
       "        s.async = true;\n",
       "        s.onload = () => resolve(paths[lib]);\n",
       "        s.onerror = () => reject(`Error loading script: ${paths[lib]}`);\n",
       "        document.getElementsByTagName(\"head\")[0].appendChild(s);\n",
       "      });\n",
       "    }\n",
       "\n",
       "    function showError(err) {\n",
       "      outputDiv.innerHTML = `<div class=\"error\" style=\"color:red;\">${err}</div>`;\n",
       "      throw err;\n",
       "    }\n",
       "\n",
       "    function displayChart(vegaEmbed) {\n",
       "      vegaEmbed(outputDiv, spec, embedOpt)\n",
       "        .catch(err => showError(`Javascript Error: ${err.message}<br>This usually means there's a typo in your chart specification. See the javascript console for the full traceback.`));\n",
       "    }\n",
       "\n",
       "    if(typeof define === \"function\" && define.amd) {\n",
       "      requirejs.config({paths});\n",
       "      require([\"vega-embed\"], displayChart, err => showError(`Error loading script: ${err.message}`));\n",
       "    } else if (typeof vegaEmbed === \"function\") {\n",
       "      displayChart(vegaEmbed);\n",
       "    } else {\n",
       "      loadScript(\"vega\")\n",
       "        .then(() => loadScript(\"vega-lite\"))\n",
       "        .then(() => loadScript(\"vega-embed\"))\n",
       "        .catch(showError)\n",
       "        .then(() => displayChart(vegaEmbed));\n",
       "    }\n",
       "  })({\"config\": {\"axisLeft\": {\"labelFontSize\": 15}, \"axisBottom\": {\"labelFontSize\": 15}}, \"data\": {\"name\": \"data-6163a1b143a84c628ebf707af52dacd2\"}, \"mark\": \"bar\", \"encoding\": {\"x\": {\"type\": \"nominal\", \"field\": \"repo\", \"sort\": [\"notebook\", \"docker-stacks\", \"nbconvert\", \"jupyter_server\", \"nbclient\", \"enterprise_gateway\", \"repo2docker\", \"nbviewer\", \"jupyter-sphinx\", \"jupyter_client\", \"nbformat\", \"qtconsole\", \"nbgrader\", \"telemetry\", \"nbdime\", \"sphinxcontrib_github_alt\", \"atom-notebook\", \"jupyter_core\", \"jupyter_console\", \"jupyter.github.io\", \"jupyter-drive\", \"jupyter\", \"governance\", \"kernel_gateway\"]}, \"y\": {\"type\": \"quantitative\", \"field\": \"number\"}}, \"title\": \"Issues closed in the last 60 days\", \"$schema\": \"https://vega.github.io/schema/vega-lite/v4.0.2.json\", \"datasets\": {\"data-6163a1b143a84c628ebf707af52dacd2\": [{\"org\": \"jupyter\", \"repo\": \"atom-notebook\", \"number\": 1, \"org/repo\": \"jupyter/atom-notebook\"}, {\"org\": \"jupyter\", \"repo\": \"docker-stacks\", \"number\": 21, \"org/repo\": \"jupyter/docker-stacks\"}, {\"org\": \"jupyter\", \"repo\": \"enterprise_gateway\", \"number\": 8, \"org/repo\": \"jupyter/enterprise_gateway\"}, {\"org\": \"jupyter\", \"repo\": \"governance\", \"number\": 1, \"org/repo\": \"jupyter/governance\"}, {\"org\": \"jupyter\", \"repo\": \"jupyter\", \"number\": 1, \"org/repo\": \"jupyter/jupyter\"}, {\"org\": \"jupyter\", \"repo\": \"jupyter-drive\", \"number\": 1, \"org/repo\": \"jupyter/jupyter-drive\"}, {\"org\": \"jupyter\", \"repo\": \"jupyter-sphinx\", \"number\": 7, \"org/repo\": \"jupyter/jupyter-sphinx\"}, {\"org\": \"jupyter\", \"repo\": \"jupyter.github.io\", \"number\": 1, \"org/repo\": \"jupyter/jupyter.github.io\"}, {\"org\": \"jupyter\", \"repo\": \"jupyter_client\", \"number\": 6, \"org/repo\": \"jupyter/jupyter_client\"}, {\"org\": \"jupyter\", \"repo\": \"jupyter_console\", \"number\": 1, \"org/repo\": \"jupyter/jupyter_console\"}, {\"org\": \"jupyter\", \"repo\": \"jupyter_core\", \"number\": 1, \"org/repo\": \"jupyter/jupyter_core\"}, {\"org\": \"jupyter\", \"repo\": \"jupyter_server\", \"number\": 17, \"org/repo\": \"jupyter/jupyter_server\"}, {\"org\": \"jupyter\", \"repo\": \"kernel_gateway\", \"number\": 1, \"org/repo\": \"jupyter/kernel_gateway\"}, {\"org\": \"jupyter\", \"repo\": \"nbclient\", \"number\": 11, \"org/repo\": \"jupyter/nbclient\"}, {\"org\": \"jupyter\", \"repo\": \"nbconvert\", \"number\": 19, \"org/repo\": \"jupyter/nbconvert\"}, {\"org\": \"jupyter\", \"repo\": \"nbdime\", \"number\": 2, \"org/repo\": \"jupyter/nbdime\"}, {\"org\": \"jupyter\", \"repo\": \"nbformat\", \"number\": 4, \"org/repo\": \"jupyter/nbformat\"}, {\"org\": \"jupyter\", \"repo\": \"nbgrader\", \"number\": 4, \"org/repo\": \"jupyter/nbgrader\"}, {\"org\": \"jupyter\", \"repo\": \"nbviewer\", \"number\": 8, \"org/repo\": \"jupyter/nbviewer\"}, {\"org\": \"jupyter\", \"repo\": \"notebook\", \"number\": 55, \"org/repo\": \"jupyter/notebook\"}, {\"org\": \"jupyter\", \"repo\": \"qtconsole\", \"number\": 4, \"org/repo\": \"jupyter/qtconsole\"}, {\"org\": \"jupyter\", \"repo\": \"repo2docker\", \"number\": 8, \"org/repo\": \"jupyter/repo2docker\"}, {\"org\": \"jupyter\", \"repo\": \"sphinxcontrib_github_alt\", \"number\": 1, \"org/repo\": \"jupyter/sphinxcontrib_github_alt\"}, {\"org\": \"jupyter\", \"repo\": \"telemetry\", \"number\": 2, \"org/repo\": \"jupyter/telemetry\"}]}}, {\"mode\": \"vega-lite\"});\n",
       "</script>"
      ],
      "text/plain": [
       "alt.Chart(...)"
      ]
     },
     "execution_count": 15,
     "metadata": {},
     "output_type": "execute_result"
    }
   ],
   "source": [
    "closed_counts = closed.groupby(['org', 'repo']).count()['number'].reset_index()\n",
    "closed_counts['org/repo'] = closed_counts.apply(lambda a: a['org'] + '/' + a['repo'], axis=1)\n",
    "sorted_vals = closed_counts.sort_values(['number'], ascending=False)['repo'].values\n",
    "alt.Chart(data=closed_counts, title=f\"Issues closed in the last {n_days} days\").mark_bar().encode(\n",
    "    x=alt.X('repo', sort=alt.Sort(sorted_vals.tolist())),\n",
    "    y='number',\n",
    ")"
   ]
  },
  {
   "cell_type": "code",
   "execution_count": 16,
   "metadata": {
    "execution": {
     "iopub.execute_input": "2020-05-21T23:07:37.586432Z",
     "iopub.status.busy": "2020-05-21T23:07:37.585905Z",
     "iopub.status.idle": "2020-05-21T23:07:37.589085Z",
     "shell.execute_reply": "2020-05-21T23:07:37.588744Z"
    },
    "papermill": {
     "duration": 0.047795,
     "end_time": "2020-05-21T23:07:37.589148",
     "exception": false,
     "start_time": "2020-05-21T23:07:37.541353",
     "status": "completed"
    },
    "tags": [
     "remove_cell"
    ]
   },
   "outputs": [],
   "source": [
    "created_closed = pd.merge(created_counts.rename(columns={'number': 'created'}).drop(columns='org/repo'),\n",
    "                          closed_counts.rename(columns={'number': 'closed'}).drop(columns='org/repo'),\n",
    "                          on=['org', 'repo'], how='outer')\n",
    "\n",
    "created_closed = pd.melt(created_closed, id_vars=['org', 'repo'], var_name=\"kind\", value_name=\"count\").replace(np.nan, 0)"
   ]
  },
  {
   "cell_type": "code",
   "execution_count": 17,
   "metadata": {
    "execution": {
     "iopub.execute_input": "2020-05-21T23:07:37.662450Z",
     "iopub.status.busy": "2020-05-21T23:07:37.648055Z",
     "iopub.status.idle": "2020-05-21T23:07:37.665257Z",
     "shell.execute_reply": "2020-05-21T23:07:37.664945Z"
    },
    "papermill": {
     "duration": 0.052035,
     "end_time": "2020-05-21T23:07:37.665315",
     "exception": false,
     "start_time": "2020-05-21T23:07:37.613280",
     "status": "completed"
    },
    "tags": [
     "hide_input"
    ]
   },
   "outputs": [
    {
     "data": {
      "text/html": [
       "\n",
       "<div id=\"altair-viz-17cc416cf1ae42768d873666abe1ccee\"></div>\n",
       "<script type=\"text/javascript\">\n",
       "  (function(spec, embedOpt){\n",
       "    const outputDiv = document.getElementById(\"altair-viz-17cc416cf1ae42768d873666abe1ccee\");\n",
       "    const paths = {\n",
       "      \"vega\": \"https://cdn.jsdelivr.net/npm//vega@5?noext\",\n",
       "      \"vega-lib\": \"https://cdn.jsdelivr.net/npm//vega-lib?noext\",\n",
       "      \"vega-lite\": \"https://cdn.jsdelivr.net/npm//vega-lite@4.0.2?noext\",\n",
       "      \"vega-embed\": \"https://cdn.jsdelivr.net/npm//vega-embed@6?noext\",\n",
       "    };\n",
       "\n",
       "    function loadScript(lib) {\n",
       "      return new Promise(function(resolve, reject) {\n",
       "        var s = document.createElement('script');\n",
       "        s.src = paths[lib];\n",
       "        s.async = true;\n",
       "        s.onload = () => resolve(paths[lib]);\n",
       "        s.onerror = () => reject(`Error loading script: ${paths[lib]}`);\n",
       "        document.getElementsByTagName(\"head\")[0].appendChild(s);\n",
       "      });\n",
       "    }\n",
       "\n",
       "    function showError(err) {\n",
       "      outputDiv.innerHTML = `<div class=\"error\" style=\"color:red;\">${err}</div>`;\n",
       "      throw err;\n",
       "    }\n",
       "\n",
       "    function displayChart(vegaEmbed) {\n",
       "      vegaEmbed(outputDiv, spec, embedOpt)\n",
       "        .catch(err => showError(`Javascript Error: ${err.message}<br>This usually means there's a typo in your chart specification. See the javascript console for the full traceback.`));\n",
       "    }\n",
       "\n",
       "    if(typeof define === \"function\" && define.amd) {\n",
       "      requirejs.config({paths});\n",
       "      require([\"vega-embed\"], displayChart, err => showError(`Error loading script: ${err.message}`));\n",
       "    } else if (typeof vegaEmbed === \"function\") {\n",
       "      displayChart(vegaEmbed);\n",
       "    } else {\n",
       "      loadScript(\"vega\")\n",
       "        .then(() => loadScript(\"vega-lite\"))\n",
       "        .then(() => loadScript(\"vega-embed\"))\n",
       "        .catch(showError)\n",
       "        .then(() => displayChart(vegaEmbed));\n",
       "    }\n",
       "  })({\"config\": {\"axisLeft\": {\"labelFontSize\": 15}, \"axisBottom\": {\"labelFontSize\": 15}}, \"data\": {\"name\": \"data-7abc49e13ff1d120d549f187724644cd\"}, \"mark\": \"bar\", \"encoding\": {\"color\": {\"type\": \"nominal\", \"field\": \"kind\"}, \"column\": {\"type\": \"nominal\", \"field\": \"repo\", \"header\": {\"labelFontSize\": 12, \"title\": \"Issue activity, last 60 days for jupyter\", \"titleFontSize\": 15}}, \"x\": {\"type\": \"nominal\", \"axis\": {\"labelFontSize\": 15, \"title\": \"\"}, \"field\": \"kind\"}, \"y\": {\"type\": \"quantitative\", \"axis\": {\"labelFontSize\": 12, \"titleFontSize\": 15}, \"field\": \"count\"}}, \"width\": 120, \"$schema\": \"https://vega.github.io/schema/vega-lite/v4.0.2.json\", \"datasets\": {\"data-7abc49e13ff1d120d549f187724644cd\": [{\"org\": \"jupyter\", \"repo\": \"docker-stacks\", \"kind\": \"created\", \"count\": 11.0}, {\"org\": \"jupyter\", \"repo\": \"enterprise_gateway\", \"kind\": \"created\", \"count\": 8.0}, {\"org\": \"jupyter\", \"repo\": \"jupyter-sphinx\", \"kind\": \"created\", \"count\": 6.0}, {\"org\": \"jupyter\", \"repo\": \"jupyter_server\", \"kind\": \"created\", \"count\": 9.0}, {\"org\": \"jupyter\", \"repo\": \"nbclient\", \"kind\": \"created\", \"count\": 4.0}, {\"org\": \"jupyter\", \"repo\": \"nbconvert\", \"kind\": \"created\", \"count\": 17.0}, {\"org\": \"jupyter\", \"repo\": \"nbgrader\", \"kind\": \"created\", \"count\": 12.0}, {\"org\": \"jupyter\", \"repo\": \"nbviewer\", \"kind\": \"created\", \"count\": 10.0}, {\"org\": \"jupyter\", \"repo\": \"notebook\", \"kind\": \"created\", \"count\": 98.0}, {\"org\": \"jupyter\", \"repo\": \"repo2docker\", \"kind\": \"created\", \"count\": 10.0}, {\"org\": \"jupyter\", \"repo\": \"docker-stacks\", \"kind\": \"closed\", \"count\": 21.0}, {\"org\": \"jupyter\", \"repo\": \"enterprise_gateway\", \"kind\": \"closed\", \"count\": 8.0}, {\"org\": \"jupyter\", \"repo\": \"jupyter-sphinx\", \"kind\": \"closed\", \"count\": 7.0}, {\"org\": \"jupyter\", \"repo\": \"jupyter_server\", \"kind\": \"closed\", \"count\": 17.0}, {\"org\": \"jupyter\", \"repo\": \"nbclient\", \"kind\": \"closed\", \"count\": 11.0}, {\"org\": \"jupyter\", \"repo\": \"nbconvert\", \"kind\": \"closed\", \"count\": 19.0}, {\"org\": \"jupyter\", \"repo\": \"nbgrader\", \"kind\": \"closed\", \"count\": 4.0}, {\"org\": \"jupyter\", \"repo\": \"nbviewer\", \"kind\": \"closed\", \"count\": 8.0}, {\"org\": \"jupyter\", \"repo\": \"notebook\", \"kind\": \"closed\", \"count\": 55.0}, {\"org\": \"jupyter\", \"repo\": \"repo2docker\", \"kind\": \"closed\", \"count\": 8.0}]}}, {\"mode\": \"vega-lite\"});\n",
       "</script>"
      ],
      "text/plain": [
       "alt.Chart(...)"
      ]
     },
     "execution_count": 17,
     "metadata": {},
     "output_type": "execute_result"
    }
   ],
   "source": [
    "charts = []\n",
    "# Pick the top 10 repositories\n",
    "top_repos = created_closed.groupby(['repo']).sum().sort_values(by='count', ascending=False).head(10).index\n",
    "ch = alt.Chart(created_closed.query('repo in @top_repos'), width=120).mark_bar().encode(\n",
    "    x=alt.X(\"kind\", axis=alt.Axis(labelFontSize=15, title=\"\")), \n",
    "    y=alt.Y('count', axis=alt.Axis(titleFontSize=15, labelFontSize=12)),\n",
    "    color='kind',\n",
    "    column=alt.Column(\"repo\", header=alt.Header(title=f\"Issue activity, last {n_days} days for {github_org}\", titleFontSize=15, labelFontSize=12))\n",
    ")\n",
    "ch"
   ]
  },
  {
   "cell_type": "code",
   "execution_count": 18,
   "metadata": {
    "execution": {
     "iopub.execute_input": "2020-05-21T23:07:37.723290Z",
     "iopub.status.busy": "2020-05-21T23:07:37.722952Z",
     "iopub.status.idle": "2020-05-21T23:07:37.724836Z",
     "shell.execute_reply": "2020-05-21T23:07:37.725149Z"
    },
    "papermill": {
     "duration": 0.036611,
     "end_time": "2020-05-21T23:07:37.725233",
     "exception": false,
     "start_time": "2020-05-21T23:07:37.688622",
     "status": "completed"
    },
    "tags": [
     "remove_cell"
    ]
   },
   "outputs": [],
   "source": [
    "# Set to datetime\n",
    "for kind in ['createdAt', 'closedAt']:\n",
    "    closed.loc[:, kind] = pd.to_datetime(closed[kind])\n",
    "    \n",
    "closed.loc[:, 'time_open'] = closed['closedAt'] - closed['createdAt']\n",
    "closed.loc[:, 'time_open'] = closed['time_open'].dt.total_seconds()"
   ]
  },
  {
   "cell_type": "code",
   "execution_count": 19,
   "metadata": {
    "execution": {
     "iopub.execute_input": "2020-05-21T23:07:37.805702Z",
     "iopub.status.busy": "2020-05-21T23:07:37.789733Z",
     "iopub.status.idle": "2020-05-21T23:07:37.809256Z",
     "shell.execute_reply": "2020-05-21T23:07:37.808644Z"
    },
    "papermill": {
     "duration": 0.057254,
     "end_time": "2020-05-21T23:07:37.809395",
     "exception": false,
     "start_time": "2020-05-21T23:07:37.752141",
     "status": "completed"
    },
    "tags": [
     "hide_input"
    ]
   },
   "outputs": [
    {
     "data": {
      "text/html": [
       "\n",
       "<div id=\"altair-viz-975cbdd0242c4d418039c3dc99bdc9f9\"></div>\n",
       "<script type=\"text/javascript\">\n",
       "  (function(spec, embedOpt){\n",
       "    const outputDiv = document.getElementById(\"altair-viz-975cbdd0242c4d418039c3dc99bdc9f9\");\n",
       "    const paths = {\n",
       "      \"vega\": \"https://cdn.jsdelivr.net/npm//vega@5?noext\",\n",
       "      \"vega-lib\": \"https://cdn.jsdelivr.net/npm//vega-lib?noext\",\n",
       "      \"vega-lite\": \"https://cdn.jsdelivr.net/npm//vega-lite@4.0.2?noext\",\n",
       "      \"vega-embed\": \"https://cdn.jsdelivr.net/npm//vega-embed@6?noext\",\n",
       "    };\n",
       "\n",
       "    function loadScript(lib) {\n",
       "      return new Promise(function(resolve, reject) {\n",
       "        var s = document.createElement('script');\n",
       "        s.src = paths[lib];\n",
       "        s.async = true;\n",
       "        s.onload = () => resolve(paths[lib]);\n",
       "        s.onerror = () => reject(`Error loading script: ${paths[lib]}`);\n",
       "        document.getElementsByTagName(\"head\")[0].appendChild(s);\n",
       "      });\n",
       "    }\n",
       "\n",
       "    function showError(err) {\n",
       "      outputDiv.innerHTML = `<div class=\"error\" style=\"color:red;\">${err}</div>`;\n",
       "      throw err;\n",
       "    }\n",
       "\n",
       "    function displayChart(vegaEmbed) {\n",
       "      vegaEmbed(outputDiv, spec, embedOpt)\n",
       "        .catch(err => showError(`Javascript Error: ${err.message}<br>This usually means there's a typo in your chart specification. See the javascript console for the full traceback.`));\n",
       "    }\n",
       "\n",
       "    if(typeof define === \"function\" && define.amd) {\n",
       "      requirejs.config({paths});\n",
       "      require([\"vega-embed\"], displayChart, err => showError(`Error loading script: ${err.message}`));\n",
       "    } else if (typeof vegaEmbed === \"function\") {\n",
       "      displayChart(vegaEmbed);\n",
       "    } else {\n",
       "      loadScript(\"vega\")\n",
       "        .then(() => loadScript(\"vega-lite\"))\n",
       "        .then(() => loadScript(\"vega-embed\"))\n",
       "        .catch(showError)\n",
       "        .then(() => displayChart(vegaEmbed));\n",
       "    }\n",
       "  })({\"config\": {\"axisLeft\": {\"labelFontSize\": 15}, \"axisBottom\": {\"labelFontSize\": 15}}, \"data\": {\"name\": \"data-29b80a7556f79fd9f77355243a04cffc\"}, \"mark\": \"bar\", \"encoding\": {\"x\": {\"type\": \"nominal\", \"field\": \"repo\", \"sort\": [\"governance\", \"jupyter_server\", \"telemetry\", \"jupyter-sphinx\", \"qtconsole\", \"jupyter_console\", \"atom-notebook\", \"nbgrader\", \"nbformat\", \"jupyter-drive\", \"docker-stacks\", \"repo2docker\", \"sphinxcontrib_github_alt\", \"jupyter_client\", \"nbconvert\", \"enterprise_gateway\", \"jupyter.github.io\", \"nbviewer\", \"notebook\", \"nbclient\", \"jupyter_core\", \"nbdime\", \"jupyter\", \"kernel_gateway\"]}, \"y\": {\"type\": \"quantitative\", \"field\": \"time_open\", \"title\": \"Median Days Open\"}}, \"title\": \"Time to close for issues closed in the last 60 days\", \"$schema\": \"https://vega.github.io/schema/vega-lite/v4.0.2.json\", \"datasets\": {\"data-29b80a7556f79fd9f77355243a04cffc\": [{\"org\": \"jupyter\", \"repo\": \"atom-notebook\", \"time_open\": 50.880208333333336, \"org/repo\": \"jupyter/atom-notebook\"}, {\"org\": \"jupyter\", \"repo\": \"docker-stacks\", \"time_open\": 17.47196759259259, \"org/repo\": \"jupyter/docker-stacks\"}, {\"org\": \"jupyter\", \"repo\": \"enterprise_gateway\", \"time_open\": 5.751070601851852, \"org/repo\": \"jupyter/enterprise_gateway\"}, {\"org\": \"jupyter\", \"repo\": \"governance\", \"time_open\": 209.05815972222223, \"org/repo\": \"jupyter/governance\"}, {\"org\": \"jupyter\", \"repo\": \"jupyter\", \"time_open\": 0.5603125, \"org/repo\": \"jupyter/jupyter\"}, {\"org\": \"jupyter\", \"repo\": \"jupyter-drive\", \"time_open\": 19.583113425925927, \"org/repo\": \"jupyter/jupyter-drive\"}, {\"org\": \"jupyter\", \"repo\": \"jupyter-sphinx\", \"time_open\": 84.36467592592592, \"org/repo\": \"jupyter/jupyter-sphinx\"}, {\"org\": \"jupyter\", \"repo\": \"jupyter.github.io\", \"time_open\": 5.1084606481481485, \"org/repo\": \"jupyter/jupyter.github.io\"}, {\"org\": \"jupyter\", \"repo\": \"jupyter_client\", \"time_open\": 11.83675925925926, \"org/repo\": \"jupyter/jupyter_client\"}, {\"org\": \"jupyter\", \"repo\": \"jupyter_console\", \"time_open\": 52.62875, \"org/repo\": \"jupyter/jupyter_console\"}, {\"org\": \"jupyter\", \"repo\": \"jupyter_core\", \"time_open\": 3.0110995370370373, \"org/repo\": \"jupyter/jupyter_core\"}, {\"org\": \"jupyter\", \"repo\": \"jupyter_server\", \"time_open\": 178.72221064814818, \"org/repo\": \"jupyter/jupyter_server\"}, {\"org\": \"jupyter\", \"repo\": \"kernel_gateway\", \"time_open\": 0.027256944444444445, \"org/repo\": \"jupyter/kernel_gateway\"}, {\"org\": \"jupyter\", \"repo\": \"nbclient\", \"time_open\": 3.107060185185185, \"org/repo\": \"jupyter/nbclient\"}, {\"org\": \"jupyter\", \"repo\": \"nbconvert\", \"time_open\": 11.550127314814816, \"org/repo\": \"jupyter/nbconvert\"}, {\"org\": \"jupyter\", \"repo\": \"nbdime\", \"time_open\": 2.5774131944444445, \"org/repo\": \"jupyter/nbdime\"}, {\"org\": \"jupyter\", \"repo\": \"nbformat\", \"time_open\": 21.252800925925925, \"org/repo\": \"jupyter/nbformat\"}, {\"org\": \"jupyter\", \"repo\": \"nbgrader\", \"time_open\": 46.35491319444445, \"org/repo\": \"jupyter/nbgrader\"}, {\"org\": \"jupyter\", \"repo\": \"nbviewer\", \"time_open\": 3.555908564814815, \"org/repo\": \"jupyter/nbviewer\"}, {\"org\": \"jupyter\", \"repo\": \"notebook\", \"time_open\": 3.1125694444444445, \"org/repo\": \"jupyter/notebook\"}, {\"org\": \"jupyter\", \"repo\": \"qtconsole\", \"time_open\": 55.86177662037037, \"org/repo\": \"jupyter/qtconsole\"}, {\"org\": \"jupyter\", \"repo\": \"repo2docker\", \"time_open\": 15.572679398148148, \"org/repo\": \"jupyter/repo2docker\"}, {\"org\": \"jupyter\", \"repo\": \"sphinxcontrib_github_alt\", \"time_open\": 12.64050925925926, \"org/repo\": \"jupyter/sphinxcontrib_github_alt\"}, {\"org\": \"jupyter\", \"repo\": \"telemetry\", \"time_open\": 143.15806712962964, \"org/repo\": \"jupyter/telemetry\"}]}}, {\"mode\": \"vega-lite\"});\n",
       "</script>"
      ],
      "text/plain": [
       "alt.Chart(...)"
      ]
     },
     "execution_count": 19,
     "metadata": {},
     "output_type": "execute_result"
    }
   ],
   "source": [
    "time_open = closed.groupby(['org', 'repo']).agg({'time_open': 'median'}).reset_index()\n",
    "time_open['time_open'] = time_open['time_open'] / (60 * 60 * 24)\n",
    "time_open['org/repo'] = time_open.apply(lambda a: a['org'] + '/' + a['repo'], axis=1)\n",
    "sorted_vals = time_open.sort_values(['org', 'time_open'], ascending=False)['repo'].values\n",
    "alt.Chart(data=time_open, title=f\"Time to close for issues closed in the last {n_days} days\").mark_bar().encode(\n",
    "    x=alt.X('repo', sort=alt.Sort(sorted_vals.tolist())),\n",
    "    y=alt.Y('time_open', title=\"Median Days Open\"),\n",
    ")"
   ]
  },
  {
   "cell_type": "markdown",
   "metadata": {
    "papermill": {
     "duration": 0.038296,
     "end_time": "2020-05-21T23:07:37.875338",
     "exception": false,
     "start_time": "2020-05-21T23:07:37.837042",
     "status": "completed"
    },
    "tags": []
   },
   "source": [
    "## Commenters across repositories\n",
    "\n",
    "These are commenters across all issues and pull requests in the last several days.\n",
    "These are colored by the commenter's association with the organization. For information\n",
    "about what these associations mean, [see this StackOverflow post](https://stackoverflow.com/a/28866914/1927102)."
   ]
  },
  {
   "cell_type": "code",
   "execution_count": 20,
   "metadata": {
    "execution": {
     "iopub.execute_input": "2020-05-21T23:07:37.942686Z",
     "iopub.status.busy": "2020-05-21T23:07:37.941300Z",
     "iopub.status.idle": "2020-05-21T23:07:37.951177Z",
     "shell.execute_reply": "2020-05-21T23:07:37.951488Z"
    },
    "papermill": {
     "duration": 0.049513,
     "end_time": "2020-05-21T23:07:37.951590",
     "exception": false,
     "start_time": "2020-05-21T23:07:37.902077",
     "status": "completed"
    },
    "tags": [
     "remove_cell"
    ]
   },
   "outputs": [],
   "source": [
    "commentors = (\n",
    "    comments\n",
    "    .query(\"createdAt > @start_date and createdAt < @stop_date\")\n",
    "    .groupby(['org', 'repo', 'author', 'authorAssociation'])\n",
    "    .count().rename(columns={'id': 'count'})['count']\n",
    "    .reset_index()\n",
    "    .sort_values(['org', 'count'], ascending=False)\n",
    ")"
   ]
  },
  {
   "cell_type": "code",
   "execution_count": 21,
   "metadata": {
    "execution": {
     "iopub.execute_input": "2020-05-21T23:07:38.010870Z",
     "iopub.status.busy": "2020-05-21T23:07:38.009440Z",
     "iopub.status.idle": "2020-05-21T23:07:38.030814Z",
     "shell.execute_reply": "2020-05-21T23:07:38.030503Z"
    },
    "papermill": {
     "duration": 0.054519,
     "end_time": "2020-05-21T23:07:38.030883",
     "exception": false,
     "start_time": "2020-05-21T23:07:37.976364",
     "status": "completed"
    },
    "tags": [
     "hide_input"
    ]
   },
   "outputs": [
    {
     "data": {
      "text/html": [
       "\n",
       "<div id=\"altair-viz-5aff731232a84faa9ed7adf60c7c608c\"></div>\n",
       "<script type=\"text/javascript\">\n",
       "  (function(spec, embedOpt){\n",
       "    const outputDiv = document.getElementById(\"altair-viz-5aff731232a84faa9ed7adf60c7c608c\");\n",
       "    const paths = {\n",
       "      \"vega\": \"https://cdn.jsdelivr.net/npm//vega@5?noext\",\n",
       "      \"vega-lib\": \"https://cdn.jsdelivr.net/npm//vega-lib?noext\",\n",
       "      \"vega-lite\": \"https://cdn.jsdelivr.net/npm//vega-lite@4.0.2?noext\",\n",
       "      \"vega-embed\": \"https://cdn.jsdelivr.net/npm//vega-embed@6?noext\",\n",
       "    };\n",
       "\n",
       "    function loadScript(lib) {\n",
       "      return new Promise(function(resolve, reject) {\n",
       "        var s = document.createElement('script');\n",
       "        s.src = paths[lib];\n",
       "        s.async = true;\n",
       "        s.onload = () => resolve(paths[lib]);\n",
       "        s.onerror = () => reject(`Error loading script: ${paths[lib]}`);\n",
       "        document.getElementsByTagName(\"head\")[0].appendChild(s);\n",
       "      });\n",
       "    }\n",
       "\n",
       "    function showError(err) {\n",
       "      outputDiv.innerHTML = `<div class=\"error\" style=\"color:red;\">${err}</div>`;\n",
       "      throw err;\n",
       "    }\n",
       "\n",
       "    function displayChart(vegaEmbed) {\n",
       "      vegaEmbed(outputDiv, spec, embedOpt)\n",
       "        .catch(err => showError(`Javascript Error: ${err.message}<br>This usually means there's a typo in your chart specification. See the javascript console for the full traceback.`));\n",
       "    }\n",
       "\n",
       "    if(typeof define === \"function\" && define.amd) {\n",
       "      requirejs.config({paths});\n",
       "      require([\"vega-embed\"], displayChart, err => showError(`Error loading script: ${err.message}`));\n",
       "    } else if (typeof vegaEmbed === \"function\") {\n",
       "      displayChart(vegaEmbed);\n",
       "    } else {\n",
       "      loadScript(\"vega\")\n",
       "        .then(() => loadScript(\"vega-lite\"))\n",
       "        .then(() => loadScript(\"vega-embed\"))\n",
       "        .catch(showError)\n",
       "        .then(() => displayChart(vegaEmbed));\n",
       "    }\n",
       "  })({\"config\": {\"axisLeft\": {\"labelFontSize\": 15}, \"axisBottom\": {\"labelFontSize\": 15}}, \"hconcat\": [{\"mark\": \"bar\", \"encoding\": {\"color\": {\"type\": \"nominal\", \"field\": \"authorAssociation\", \"scale\": {\"domain\": [\"MEMBER\", \"CONTRIBUTOR\", \"COLLABORATOR\", \"NONE\"], \"range\": [\"rgb(211.82745098039214, 211.82745098039214, 211.82745098039214)\", \"rgb(166.98562091503268, 229.89803921568628, 166.98562091503268)\", \"rgb(96.37647058823529, 192.75294117647059, 96.37647058823529)\", \"rgb(0.0, 100.3921568627451, 0.0)\"]}}, \"x\": {\"type\": \"nominal\", \"field\": \"author\"}, \"y\": {\"type\": \"quantitative\", \"field\": \"count\"}}, \"title\": \"Top 50 commentors for jupyter in the last 60 days\"}], \"data\": {\"name\": \"data-c93f3f4737f1505f0497d3ac3aea72ba\"}, \"$schema\": \"https://vega.github.io/schema/vega-lite/v4.0.2.json\", \"datasets\": {\"data-c93f3f4737f1505f0497d3ac3aea72ba\": [{\"author\": \"kevin-bates\", \"count\": 224, \"authorAssociation\": \"MEMBER\"}, {\"author\": \"MSeal\", \"count\": 106, \"authorAssociation\": \"MEMBER\"}, {\"author\": \"Zsailer\", \"count\": 104, \"authorAssociation\": \"MEMBER\"}, {\"author\": \"davidbrochart\", \"count\": 91, \"authorAssociation\": \"MEMBER\"}, {\"author\": \"choldgraf\", \"count\": 67, \"authorAssociation\": \"MEMBER\"}, {\"author\": \"romainx\", \"count\": 58, \"authorAssociation\": \"COLLABORATOR\"}, {\"author\": \"jasongrout\", \"count\": 56, \"authorAssociation\": \"MEMBER\"}, {\"author\": \"betatim\", \"count\": 49, \"authorAssociation\": \"MEMBER\"}, {\"author\": \"akhmerov\", \"count\": 45, \"authorAssociation\": \"MEMBER\"}, {\"author\": \"blink1073\", \"count\": 44, \"authorAssociation\": \"MEMBER\"}, {\"author\": \"lucabem\", \"count\": 34, \"authorAssociation\": \"NONE\"}, {\"author\": \"golf-player\", \"count\": 33, \"authorAssociation\": \"NONE\"}, {\"author\": \"willingc\", \"count\": 32, \"authorAssociation\": \"MEMBER\"}, {\"author\": \"echarles\", \"count\": 31, \"authorAssociation\": \"COLLABORATOR\"}, {\"author\": \"maresb\", \"count\": 19, \"authorAssociation\": \"CONTRIBUTOR\"}, {\"author\": \"krinsman\", \"count\": 18, \"authorAssociation\": \"COLLABORATOR\"}, {\"author\": \"consideRatio\", \"count\": 17, \"authorAssociation\": \"CONTRIBUTOR\"}, {\"author\": \"hwine\", \"count\": 15, \"authorAssociation\": \"NONE\"}, {\"author\": \"ccordoba12\", \"count\": 15, \"authorAssociation\": \"COLLABORATOR\"}, {\"author\": \"moorepants\", \"count\": 11, \"authorAssociation\": \"NONE\"}, {\"author\": \"rkdarst\", \"count\": 11, \"authorAssociation\": \"MEMBER\"}, {\"author\": \"lazywhite\", \"count\": 11, \"authorAssociation\": \"NONE\"}, {\"author\": \"jpcastil\", \"count\": 11, \"authorAssociation\": \"CONTRIBUTOR\"}, {\"author\": \"vidartf\", \"count\": 10, \"authorAssociation\": \"COLLABORATOR\"}, {\"author\": \"SylvainCorlay\", \"count\": 10, \"authorAssociation\": \"MEMBER\"}, {\"author\": \"manics\", \"count\": 10, \"authorAssociation\": \"CONTRIBUTOR\"}, {\"author\": \"Carreau\", \"count\": 9, \"authorAssociation\": \"MEMBER\"}, {\"author\": \"westurner\", \"count\": 9, \"authorAssociation\": \"CONTRIBUTOR\"}, {\"author\": \"joelostblom\", \"count\": 9, \"authorAssociation\": \"NONE\"}, {\"author\": \"afshin\", \"count\": 8, \"authorAssociation\": \"MEMBER\"}, {\"author\": \"AakashGfude\", \"count\": 8, \"authorAssociation\": \"NONE\"}, {\"author\": \"rupalandge\", \"count\": 7, \"authorAssociation\": \"NONE\"}, {\"author\": \"bryevdv\", \"count\": 7, \"authorAssociation\": \"NONE\"}, {\"author\": \"maartenbreddels\", \"count\": 7, \"authorAssociation\": \"CONTRIBUTOR\"}, {\"author\": \"palewire\", \"count\": 7, \"authorAssociation\": \"NONE\"}, {\"author\": \"tgeorgeux\", \"count\": 7, \"authorAssociation\": \"MEMBER\"}, {\"author\": \"t-makaro\", \"count\": 7, \"authorAssociation\": \"COLLABORATOR\"}, {\"author\": \"parente\", \"count\": 7, \"authorAssociation\": \"MEMBER\"}, {\"author\": \"kwlzn\", \"count\": 6, \"authorAssociation\": \"CONTRIBUTOR\"}, {\"author\": \"jbweston\", \"count\": 6, \"authorAssociation\": \"MEMBER\"}, {\"author\": \"berendjan\", \"count\": 6, \"authorAssociation\": \"CONTRIBUTOR\"}, {\"author\": \"hartwork\", \"count\": 6, \"authorAssociation\": \"CONTRIBUTOR\"}, {\"author\": \"ivanov\", \"count\": 6, \"authorAssociation\": \"MEMBER\"}, {\"author\": \"SuryaChethanReddy2\", \"count\": 6, \"authorAssociation\": \"NONE\"}, {\"author\": \"mboldin-temple\", \"count\": 6, \"authorAssociation\": \"NONE\"}, {\"author\": \"sgibson91\", \"count\": 6, \"authorAssociation\": \"COLLABORATOR\"}, {\"author\": \"seanpue\", \"count\": 6, \"authorAssociation\": \"CONTRIBUTOR\"}, {\"author\": \"peterprescott\", \"count\": 6, \"authorAssociation\": \"CONTRIBUTOR\"}, {\"author\": \"rubendibattista\", \"count\": 5, \"authorAssociation\": \"CONTRIBUTOR\"}, {\"author\": \"perllaghu\", \"count\": 5, \"authorAssociation\": \"MEMBER\"}]}}, {\"mode\": \"vega-lite\"});\n",
       "</script>"
      ],
      "text/plain": [
       "alt.HConcatChart(...)"
      ]
     },
     "execution_count": 21,
     "metadata": {},
     "output_type": "execute_result"
    }
   ],
   "source": [
    "n_plot = 50\n",
    "charts = []\n",
    "for ii, (iorg, idata) in enumerate(commentors.groupby(['org'])):\n",
    "    title = f\"Top {n_plot} commentors for {iorg} in the last {n_days} days\"\n",
    "    idata = idata.groupby('author', as_index=False).agg({'count': 'sum', 'authorAssociation': 'first'})\n",
    "    idata = idata.sort_values('count', ascending=False).head(n_plot)\n",
    "    ch = alt.Chart(data=idata.head(n_plot), title=title).mark_bar().encode(\n",
    "        x='author',\n",
    "        y='count',\n",
    "        color=alt.Color('authorAssociation', scale=alt.Scale(domain=author_types, range=author_colors))\n",
    "    )\n",
    "    charts.append(ch)\n",
    "alt.hconcat(*charts)"
   ]
  },
  {
   "cell_type": "markdown",
   "metadata": {
    "papermill": {
     "duration": 0.027463,
     "end_time": "2020-05-21T23:07:38.085967",
     "exception": false,
     "start_time": "2020-05-21T23:07:38.058504",
     "status": "completed"
    },
    "tags": []
   },
   "source": [
    "## First responders\n",
    "\n",
    "First responders are the first people to respond to a new issue in one of the repositories.\n",
    "The following plots show first responders for recently-created issues."
   ]
  },
  {
   "cell_type": "code",
   "execution_count": 22,
   "metadata": {
    "execution": {
     "iopub.execute_input": "2020-05-21T23:07:38.144934Z",
     "iopub.status.busy": "2020-05-21T23:07:38.144494Z",
     "iopub.status.idle": "2020-05-21T23:07:38.480526Z",
     "shell.execute_reply": "2020-05-21T23:07:38.480870Z"
    },
    "papermill": {
     "duration": 0.368901,
     "end_time": "2020-05-21T23:07:38.480971",
     "exception": false,
     "start_time": "2020-05-21T23:07:38.112070",
     "status": "completed"
    },
    "tags": [
     "remove_cell"
    ]
   },
   "outputs": [],
   "source": [
    "first_comments = []\n",
    "for (org, repo, issue_id), i_comments in comments.groupby(['org', 'repo', 'id']):\n",
    "    ix_min = pd.to_datetime(i_comments['createdAt']).idxmin()\n",
    "    first_comment = i_comments.loc[ix_min]\n",
    "    if isinstance(first_comment, pd.DataFrame):\n",
    "        first_comment = first_comment.iloc[0]\n",
    "    first_comments.append(first_comment)\n",
    "first_comments = pd.concat(first_comments, axis=1).T\n",
    "\n",
    "# Make up counts for viz\n",
    "first_responder_counts = first_comments.groupby(['org', 'author', 'authorAssociation'], as_index=False).\\\n",
    "    count().rename(columns={'id': 'n_first_responses'}).sort_values(['org', 'n_first_responses'], ascending=False)\n"
   ]
  },
  {
   "cell_type": "code",
   "execution_count": 23,
   "metadata": {
    "execution": {
     "iopub.execute_input": "2020-05-21T23:07:38.563678Z",
     "iopub.status.busy": "2020-05-21T23:07:38.561227Z",
     "iopub.status.idle": "2020-05-21T23:07:38.567543Z",
     "shell.execute_reply": "2020-05-21T23:07:38.567256Z"
    },
    "papermill": {
     "duration": 0.060732,
     "end_time": "2020-05-21T23:07:38.567627",
     "exception": false,
     "start_time": "2020-05-21T23:07:38.506895",
     "status": "completed"
    },
    "tags": [
     "hide_input"
    ]
   },
   "outputs": [
    {
     "data": {
      "text/html": [
       "\n",
       "<div id=\"altair-viz-017604a11a834503a9d9a8dfdc4e71a9\"></div>\n",
       "<script type=\"text/javascript\">\n",
       "  (function(spec, embedOpt){\n",
       "    const outputDiv = document.getElementById(\"altair-viz-017604a11a834503a9d9a8dfdc4e71a9\");\n",
       "    const paths = {\n",
       "      \"vega\": \"https://cdn.jsdelivr.net/npm//vega@5?noext\",\n",
       "      \"vega-lib\": \"https://cdn.jsdelivr.net/npm//vega-lib?noext\",\n",
       "      \"vega-lite\": \"https://cdn.jsdelivr.net/npm//vega-lite@4.0.2?noext\",\n",
       "      \"vega-embed\": \"https://cdn.jsdelivr.net/npm//vega-embed@6?noext\",\n",
       "    };\n",
       "\n",
       "    function loadScript(lib) {\n",
       "      return new Promise(function(resolve, reject) {\n",
       "        var s = document.createElement('script');\n",
       "        s.src = paths[lib];\n",
       "        s.async = true;\n",
       "        s.onload = () => resolve(paths[lib]);\n",
       "        s.onerror = () => reject(`Error loading script: ${paths[lib]}`);\n",
       "        document.getElementsByTagName(\"head\")[0].appendChild(s);\n",
       "      });\n",
       "    }\n",
       "\n",
       "    function showError(err) {\n",
       "      outputDiv.innerHTML = `<div class=\"error\" style=\"color:red;\">${err}</div>`;\n",
       "      throw err;\n",
       "    }\n",
       "\n",
       "    function displayChart(vegaEmbed) {\n",
       "      vegaEmbed(outputDiv, spec, embedOpt)\n",
       "        .catch(err => showError(`Javascript Error: ${err.message}<br>This usually means there's a typo in your chart specification. See the javascript console for the full traceback.`));\n",
       "    }\n",
       "\n",
       "    if(typeof define === \"function\" && define.amd) {\n",
       "      requirejs.config({paths});\n",
       "      require([\"vega-embed\"], displayChart, err => showError(`Error loading script: ${err.message}`));\n",
       "    } else if (typeof vegaEmbed === \"function\") {\n",
       "      displayChart(vegaEmbed);\n",
       "    } else {\n",
       "      loadScript(\"vega\")\n",
       "        .then(() => loadScript(\"vega-lite\"))\n",
       "        .then(() => loadScript(\"vega-embed\"))\n",
       "        .catch(showError)\n",
       "        .then(() => displayChart(vegaEmbed));\n",
       "    }\n",
       "  })({\"config\": {\"axisLeft\": {\"labelFontSize\": 15}, \"axisBottom\": {\"labelFontSize\": 15}}, \"data\": {\"name\": \"data-3ff1ca882b960ffdd709fe5a909b35b0\"}, \"mark\": \"bar\", \"encoding\": {\"color\": {\"type\": \"nominal\", \"field\": \"authorAssociation\", \"scale\": {\"domain\": [\"MEMBER\", \"CONTRIBUTOR\", \"COLLABORATOR\", \"NONE\"], \"range\": [\"rgb(211.82745098039214, 211.82745098039214, 211.82745098039214)\", \"rgb(166.98562091503268, 229.89803921568628, 166.98562091503268)\", \"rgb(96.37647058823529, 192.75294117647059, 96.37647058823529)\", \"rgb(0.0, 100.3921568627451, 0.0)\"]}}, \"x\": {\"type\": \"nominal\", \"field\": \"author\"}, \"y\": {\"type\": \"quantitative\", \"field\": \"n_first_responses\"}}, \"title\": \"Top 50 first responders for jupyter in the last 60 days\", \"$schema\": \"https://vega.github.io/schema/vega-lite/v4.0.2.json\", \"datasets\": {\"data-3ff1ca882b960ffdd709fe5a909b35b0\": [{\"author\": \"kevin-bates\", \"n_first_responses\": 67, \"authorAssociation\": \"MEMBER\"}, {\"author\": \"MSeal\", \"n_first_responses\": 51, \"authorAssociation\": \"MEMBER\"}, {\"author\": \"Zsailer\", \"n_first_responses\": 26, \"authorAssociation\": \"MEMBER\"}, {\"author\": \"romainx\", \"n_first_responses\": 20, \"authorAssociation\": \"COLLABORATOR\"}, {\"author\": \"betatim\", \"n_first_responses\": 18, \"authorAssociation\": \"MEMBER\"}, {\"author\": \"choldgraf\", \"n_first_responses\": 16, \"authorAssociation\": \"MEMBER\"}, {\"author\": \"akhmerov\", \"n_first_responses\": 16, \"authorAssociation\": \"MEMBER\"}, {\"author\": \"jasongrout\", \"n_first_responses\": 13, \"authorAssociation\": \"MEMBER\"}, {\"author\": \"takluyver\", \"n_first_responses\": 12, \"authorAssociation\": \"MEMBER\"}, {\"author\": \"blink1073\", \"n_first_responses\": 10, \"authorAssociation\": \"MEMBER\"}, {\"author\": \"davidbrochart\", \"n_first_responses\": 10, \"authorAssociation\": \"MEMBER\"}, {\"author\": \"ccordoba12\", \"n_first_responses\": 9, \"authorAssociation\": \"COLLABORATOR\"}, {\"author\": \"SylvainCorlay\", \"n_first_responses\": 9, \"authorAssociation\": \"MEMBER\"}, {\"author\": \"parente\", \"n_first_responses\": 8, \"authorAssociation\": \"MEMBER\"}, {\"author\": \"krinsman\", \"n_first_responses\": 7, \"authorAssociation\": \"COLLABORATOR\"}, {\"author\": \"vidartf\", \"n_first_responses\": 7, \"authorAssociation\": \"COLLABORATOR\"}, {\"author\": \"willingc\", \"n_first_responses\": 6, \"authorAssociation\": \"MEMBER\"}, {\"author\": \"manics\", \"n_first_responses\": 5, \"authorAssociation\": \"CONTRIBUTOR\"}, {\"author\": \"jpcastil\", \"n_first_responses\": 5, \"authorAssociation\": \"CONTRIBUTOR\"}, {\"author\": \"echarles\", \"n_first_responses\": 5, \"authorAssociation\": \"COLLABORATOR\"}, {\"author\": \"lresende\", \"n_first_responses\": 5, \"authorAssociation\": \"MEMBER\"}, {\"author\": \"hwine\", \"n_first_responses\": 4, \"authorAssociation\": \"NONE\"}, {\"author\": \"bollwyvl\", \"n_first_responses\": 3, \"authorAssociation\": \"MEMBER\"}, {\"author\": \"golf-player\", \"n_first_responses\": 3, \"authorAssociation\": \"NONE\"}, {\"author\": \"t-makaro\", \"n_first_responses\": 3, \"authorAssociation\": \"COLLABORATOR\"}, {\"author\": \"lucabem\", \"n_first_responses\": 2, \"authorAssociation\": \"NONE\"}, {\"author\": \"perllaghu\", \"n_first_responses\": 2, \"authorAssociation\": \"MEMBER\"}, {\"author\": \"hroncok\", \"n_first_responses\": 2, \"authorAssociation\": \"CONTRIBUTOR\"}, {\"author\": \"Carreau\", \"n_first_responses\": 2, \"authorAssociation\": \"MEMBER\"}, {\"author\": \"consideRatio\", \"n_first_responses\": 2, \"authorAssociation\": \"COLLABORATOR\"}, {\"author\": \"diarmaidfinnerty\", \"n_first_responses\": 2, \"authorAssociation\": \"NONE\"}, {\"author\": \"ErwinRussel\", \"n_first_responses\": 2, \"authorAssociation\": \"CONTRIBUTOR\"}, {\"author\": \"maresb\", \"n_first_responses\": 2, \"authorAssociation\": \"CONTRIBUTOR\"}, {\"author\": \"Bidek56\", \"n_first_responses\": 2, \"authorAssociation\": \"CONTRIBUTOR\"}, {\"author\": \"hartwork\", \"n_first_responses\": 2, \"authorAssociation\": \"CONTRIBUTOR\"}, {\"author\": \"mgeier\", \"n_first_responses\": 2, \"authorAssociation\": \"CONTRIBUTOR\"}, {\"author\": \"westurner\", \"n_first_responses\": 2, \"authorAssociation\": \"CONTRIBUTOR\"}, {\"author\": \"mpmdean\", \"n_first_responses\": 2, \"authorAssociation\": \"CONTRIBUTOR\"}, {\"author\": \"tgeorgeux\", \"n_first_responses\": 2, \"authorAssociation\": \"MEMBER\"}, {\"author\": \"mpacer\", \"n_first_responses\": 1, \"authorAssociation\": \"MEMBER\"}, {\"author\": \"lucasoshiro\", \"n_first_responses\": 1, \"authorAssociation\": \"CONTRIBUTOR\"}, {\"author\": \"maartenbreddels\", \"n_first_responses\": 1, \"authorAssociation\": \"CONTRIBUTOR\"}, {\"author\": \"mboldin-temple\", \"n_first_responses\": 1, \"authorAssociation\": \"NONE\"}, {\"author\": \"nassmim10\", \"n_first_responses\": 1, \"authorAssociation\": \"NONE\"}, {\"author\": \"mathbunnyru\", \"n_first_responses\": 1, \"authorAssociation\": \"NONE\"}, {\"author\": \"mausch\", \"n_first_responses\": 1, \"authorAssociation\": \"NONE\"}, {\"author\": \"moorepants\", \"n_first_responses\": 1, \"authorAssociation\": \"NONE\"}, {\"author\": \"mbenetti\", \"n_first_responses\": 1, \"authorAssociation\": \"NONE\"}, {\"author\": \"mfrata\", \"n_first_responses\": 1, \"authorAssociation\": \"NONE\"}, {\"author\": \"mcourteaux\", \"n_first_responses\": 1, \"authorAssociation\": \"NONE\"}]}}, {\"mode\": \"vega-lite\"});\n",
       "</script>"
      ],
      "text/plain": [
       "alt.Chart(...)"
      ]
     },
     "execution_count": 23,
     "metadata": {},
     "output_type": "execute_result"
    }
   ],
   "source": [
    "n_plot = 50\n",
    "\n",
    "title = f\"Top {n_plot} first responders for {github_org} in the last {n_days} days\"\n",
    "idata = first_responder_counts.groupby('author', as_index=False).agg({'n_first_responses': 'sum', 'authorAssociation': 'first'})\n",
    "idata = idata.sort_values('n_first_responses', ascending=False).head(n_plot)\n",
    "ch = alt.Chart(data=idata.head(n_plot), title=title).mark_bar().encode(\n",
    "    x='author',\n",
    "    y='n_first_responses',\n",
    "    color=alt.Color('authorAssociation', scale=alt.Scale(domain=author_types, range=author_colors))\n",
    ")\n",
    "ch"
   ]
  },
  {
   "cell_type": "markdown",
   "metadata": {
    "papermill": {
     "duration": 0.028483,
     "end_time": "2020-05-21T23:07:38.634002",
     "exception": false,
     "start_time": "2020-05-21T23:07:38.605519",
     "status": "completed"
    },
    "tags": [
     "remove_cell"
    ]
   },
   "source": [
    "(not yet implemented)"
   ]
  },
  {
   "cell_type": "markdown",
   "metadata": {
    "papermill": {
     "duration": 0.034624,
     "end_time": "2020-05-21T23:07:38.702858",
     "exception": false,
     "start_time": "2020-05-21T23:07:38.668234",
     "status": "completed"
    },
    "tags": [
     "remove_cell"
    ]
   },
   "source": [
    "### A list of merged PRs by project\n",
    "\n",
    "Below is a tabbed readout of recently-merged PRs. Check out the title to get an idea for what they\n",
    "implemented, and be sure to thank the PR author for their hard work!"
   ]
  },
  {
   "cell_type": "code",
   "execution_count": 24,
   "metadata": {
    "execution": {
     "iopub.execute_input": "2020-05-21T23:07:38.819796Z",
     "iopub.status.busy": "2020-05-21T23:07:38.818934Z",
     "iopub.status.idle": "2020-05-21T23:07:38.822028Z",
     "shell.execute_reply": "2020-05-21T23:07:38.821464Z"
    },
    "papermill": {
     "duration": 0.072671,
     "end_time": "2020-05-21T23:07:38.822153",
     "exception": false,
     "start_time": "2020-05-21T23:07:38.749482",
     "status": "completed"
    },
    "tags": [
     "hide_input",
     "remove_cell"
    ]
   },
   "outputs": [],
   "source": [
    "# tabs = widgets.Tab(children=[])\n",
    "\n",
    "# for ii, ((org, repo), imerged) in enumerate(merged.query(\"repo in @use_repos\").groupby(['org', 'repo'])):\n",
    "#     merged_by = {}\n",
    "#     pr_by = {}\n",
    "#     issue_md = []\n",
    "#     issue_md.append(f\"#### Closed PRs for repo: [{org}/{repo}](https://github.com/{github_org}/{repo})\")\n",
    "#     issue_md.append(\"\")\n",
    "#     issue_md.append(f\"##### \")\n",
    "\n",
    "#     for _, ipr in imerged.iterrows():\n",
    "#         user_name = ipr['author']\n",
    "#         user_url = author_url(user_name)\n",
    "#         pr_number = ipr['number']\n",
    "#         pr_html = ipr['url']\n",
    "#         pr_title = ipr['title']\n",
    "#         pr_closedby = ipr['mergedBy']\n",
    "#         pr_closedby_url = f\"https://github.com/{pr_closedby}\"\n",
    "#         if user_name not in pr_by:\n",
    "#             pr_by[user_name] = 1\n",
    "#         else:\n",
    "#             pr_by[user_name] += 1\n",
    "\n",
    "#         if pr_closedby not in merged_by:\n",
    "#             merged_by[pr_closedby] = 1\n",
    "#         else:\n",
    "#             merged_by[pr_closedby] += 1\n",
    "#         text = f\"* [(#{pr_number})]({pr_html}): _{pr_title}_ by **[@{user_name}]({user_url})** merged by **[@{pr_closedby}]({pr_closedby_url})**\"\n",
    "#         issue_md.append(text)\n",
    "    \n",
    "#     issue_md.append('')\n",
    "#     markdown_html = markdown('\\n'.join(issue_md))\n",
    "\n",
    "#     children = list(tabs.children)\n",
    "#     children.append(HTML(markdown_html))\n",
    "#     tabs.children = tuple(children)\n",
    "#     tabs.set_title(ii, repo)\n",
    "# tabs"
   ]
  },
  {
   "cell_type": "markdown",
   "metadata": {
    "papermill": {
     "duration": 0.049507,
     "end_time": "2020-05-21T23:07:38.899722",
     "exception": false,
     "start_time": "2020-05-21T23:07:38.850215",
     "status": "completed"
    },
    "tags": [
     "remove_cell"
    ]
   },
   "source": [
    "## List of all contributors per organization\n",
    "\n",
    "First, we'll list each contributor that has contributed to each organization in the last several days.\n",
    "Contributions to open source projects are diverse, and involve much more than just contributing code and\n",
    "code review. Thanks to everybody in the Jupyter communities for all that they do."
   ]
  },
  {
   "cell_type": "code",
   "execution_count": 25,
   "metadata": {
    "execution": {
     "iopub.execute_input": "2020-05-21T23:07:38.971553Z",
     "iopub.status.busy": "2020-05-21T23:07:38.971118Z",
     "iopub.status.idle": "2020-05-21T23:07:38.974153Z",
     "shell.execute_reply": "2020-05-21T23:07:38.973667Z"
    },
    "papermill": {
     "duration": 0.036286,
     "end_time": "2020-05-21T23:07:38.974232",
     "exception": false,
     "start_time": "2020-05-21T23:07:38.937946",
     "status": "completed"
    },
    "tags": [
     "remove_cell"
    ]
   },
   "outputs": [],
   "source": [
    "# n_plot = 5\n",
    "# tabs = widgets.Tab(children=[])\n",
    "# authors_comments = comments.query('org == @github_org')['author']\n",
    "# authors_prs = prs.query('org == @github_org')['author']\n",
    "# unique_participants = np.unique(np.hstack([authors_comments.values, authors_prs.values]).astype(str)).tolist()\n",
    "# unique_participants.sort(key=lambda a: a.lower())\n",
    "\n",
    "# all_participants = [f\"[{participant}](https://github.com/{participant})\" for participant in unique_participants]\n",
    "# participants_md = \" | \".join(all_participants)\n",
    "# md_html = HTML(\"<center>{}</center>\".format(markdown(participants_md)))\n",
    "\n",
    "# display(Markdown(f\"All participants across issues and pull requests in {github_org} in the last {n_days} days\"))\n",
    "# display(md_html)"
   ]
  },
  {
   "cell_type": "markdown",
   "metadata": {
    "papermill": {
     "duration": 0.031721,
     "end_time": "2020-05-21T23:07:39.041069",
     "exception": false,
     "start_time": "2020-05-21T23:07:39.009348",
     "status": "completed"
    },
    "tags": [
     "remove_cell"
    ]
   },
   "source": [
    "### A list of recent issues\n",
    "\n",
    "Below is a list of issues with recent activity in each repository. If they seem of interest\n",
    "to you, click on their links and jump in to participate!"
   ]
  },
  {
   "cell_type": "code",
   "execution_count": 26,
   "metadata": {
    "execution": {
     "iopub.execute_input": "2020-05-21T23:07:39.123014Z",
     "iopub.status.busy": "2020-05-21T23:07:39.122378Z",
     "iopub.status.idle": "2020-05-21T23:07:39.125479Z",
     "shell.execute_reply": "2020-05-21T23:07:39.126065Z"
    },
    "papermill": {
     "duration": 0.040393,
     "end_time": "2020-05-21T23:07:39.126240",
     "exception": false,
     "start_time": "2020-05-21T23:07:39.085847",
     "status": "completed"
    },
    "tags": [
     "remove_cell"
    ]
   },
   "outputs": [],
   "source": [
    "# # Add comment count data to issues and PRs\n",
    "# comment_counts = (\n",
    "#     comments\n",
    "#     .query(\"createdAt > @start_date and createdAt < @stop_date\")\n",
    "#     .groupby(['org', 'repo', 'id'])\n",
    "#     .count().iloc[:, 0].to_frame()\n",
    "# )\n",
    "# comment_counts.columns = ['n_comments']\n",
    "# comment_counts = comment_counts.reset_index()"
   ]
  },
  {
   "cell_type": "code",
   "execution_count": 27,
   "metadata": {
    "execution": {
     "iopub.execute_input": "2020-05-21T23:07:39.192130Z",
     "iopub.status.busy": "2020-05-21T23:07:39.191784Z",
     "iopub.status.idle": "2020-05-21T23:07:39.194297Z",
     "shell.execute_reply": "2020-05-21T23:07:39.194015Z"
    },
    "papermill": {
     "duration": 0.034516,
     "end_time": "2020-05-21T23:07:39.194362",
     "exception": false,
     "start_time": "2020-05-21T23:07:39.159846",
     "status": "completed"
    },
    "tags": [
     "remove_cell"
    ],
    "toc-hr-collapsed": false
   },
   "outputs": [],
   "source": [
    "# n_plot = 5\n",
    "# tabs = widgets.Tab(children=[])\n",
    "\n",
    "# for ii, (repo, i_issues) in enumerate(comment_counts.query(\"repo in @use_repos\").groupby('repo')):\n",
    "    \n",
    "#     issue_md = []\n",
    "#     issue_md.append(\"\")\n",
    "#     issue_md.append(f\"##### [{github_org}/{repo}](https://github.com/{github_org}/{repo})\")\n",
    "\n",
    "#     top_issues = i_issues.sort_values('n_comments', ascending=False).head(n_plot)\n",
    "#     top_issue_list = pd.merge(issues, top_issues, left_on=['org', 'repo', 'id'], right_on=['org', 'repo', 'id'])\n",
    "#     for _, issue in top_issue_list.sort_values('n_comments', ascending=False).head(n_plot).iterrows():\n",
    "#         user_name = issue['author']\n",
    "#         user_url = author_url(user_name)\n",
    "#         issue_number = issue['number']\n",
    "#         issue_html = issue['url']\n",
    "#         issue_title = issue['title']\n",
    "\n",
    "#         text = f\"* [(#{issue_number})]({issue_html}): _{issue_title}_ by **[@{user_name}]({user_url})**\"\n",
    "#         issue_md.append(text)\n",
    "\n",
    "#     issue_md.append('')\n",
    "#     md_html = HTML(markdown('\\n'.join(issue_md)))\n",
    "\n",
    "#     children = list(tabs.children)\n",
    "#     children.append(HTML(markdown('\\n'.join(issue_md))))\n",
    "#     tabs.children = tuple(children)\n",
    "#     tabs.set_title(ii, repo)\n",
    "    \n",
    "# display(Markdown(f\"Here are the top {n_plot} active issues in each repository in the last {n_days} days\"))\n",
    "# display(tabs)"
   ]
  }
 ],
 "metadata": {
  "kernelspec": {
   "display_name": "Python 3",
   "language": "python",
   "name": "python3"
  },
  "language_info": {
   "codemirror_mode": {
    "name": "ipython",
    "version": 3
   },
   "file_extension": ".py",
   "mimetype": "text/x-python",
   "name": "python",
   "nbconvert_exporter": "python",
   "pygments_lexer": "ipython3",
   "version": "3.8.0"
  },
  "papermill": {
   "duration": 51.553492,
   "end_time": "2020-05-21T23:07:39.331005",
   "environment_variables": {},
   "exception": null,
   "input_path": "./template.ipynb",
   "output_path": "book/jupyter.ipynb",
   "parameters": {
    "github_org": "jupyter",
    "n_days": 60
   },
   "start_time": "2020-05-21T23:06:47.777513",
   "version": "2.1.1"
  },
  "widgets": {
   "application/vnd.jupyter.widget-state+json": {
    "state": {
     "04fbe726aae941baa066cc345293a677": {
      "model_module": "@jupyter-widgets/base",
      "model_module_version": "1.2.0",
      "model_name": "LayoutModel",
      "state": {
       "_model_module": "@jupyter-widgets/base",
       "_model_module_version": "1.2.0",
       "_model_name": "LayoutModel",
       "_view_count": null,
       "_view_module": "@jupyter-widgets/base",
       "_view_module_version": "1.2.0",
       "_view_name": "LayoutView",
       "align_content": null,
       "align_items": null,
       "align_self": null,
       "border": null,
       "bottom": null,
       "display": null,
       "flex": null,
       "flex_flow": null,
       "grid_area": null,
       "grid_auto_columns": null,
       "grid_auto_flow": null,
       "grid_auto_rows": null,
       "grid_column": null,
       "grid_gap": null,
       "grid_row": null,
       "grid_template_areas": null,
       "grid_template_columns": null,
       "grid_template_rows": null,
       "height": null,
       "justify_content": null,
       "justify_items": null,
       "left": null,
       "margin": null,
       "max_height": null,
       "max_width": null,
       "min_height": null,
       "min_width": null,
       "object_fit": null,
       "object_position": null,
       "order": null,
       "overflow": null,
       "overflow_x": null,
       "overflow_y": null,
       "padding": null,
       "right": null,
       "top": null,
       "visibility": null,
       "width": null
      }
     },
     "184ed1c3cbd543458a7e29fb0a868e6f": {
      "model_module": "@jupyter-widgets/controls",
      "model_module_version": "1.5.0",
      "model_name": "ProgressStyleModel",
      "state": {
       "_model_module": "@jupyter-widgets/controls",
       "_model_module_version": "1.5.0",
       "_model_name": "ProgressStyleModel",
       "_view_count": null,
       "_view_module": "@jupyter-widgets/base",
       "_view_module_version": "1.2.0",
       "_view_name": "StyleView",
       "bar_color": null,
       "description_width": ""
      }
     },
     "23c924aaf5de4dcc85affe818a15edf0": {
      "model_module": "@jupyter-widgets/controls",
      "model_module_version": "1.5.0",
      "model_name": "IntProgressModel",
      "state": {
       "_dom_classes": [],
       "_model_module": "@jupyter-widgets/controls",
       "_model_module_version": "1.5.0",
       "_model_name": "IntProgressModel",
       "_view_count": null,
       "_view_module": "@jupyter-widgets/controls",
       "_view_module_version": "1.5.0",
       "_view_name": "ProgressView",
       "bar_style": "success",
       "description": "Downloading:",
       "description_tooltip": null,
       "layout": "IPY_MODEL_4f5e1288adee40ba93a4f6bbbf762bf1",
       "max": 8,
       "min": 0,
       "orientation": "horizontal",
       "style": "IPY_MODEL_54ea007765864b859c4748ead38c0677",
       "value": 8
      }
     },
     "4f5e1288adee40ba93a4f6bbbf762bf1": {
      "model_module": "@jupyter-widgets/base",
      "model_module_version": "1.2.0",
      "model_name": "LayoutModel",
      "state": {
       "_model_module": "@jupyter-widgets/base",
       "_model_module_version": "1.2.0",
       "_model_name": "LayoutModel",
       "_view_count": null,
       "_view_module": "@jupyter-widgets/base",
       "_view_module_version": "1.2.0",
       "_view_name": "LayoutView",
       "align_content": null,
       "align_items": null,
       "align_self": null,
       "border": null,
       "bottom": null,
       "display": null,
       "flex": null,
       "flex_flow": null,
       "grid_area": null,
       "grid_auto_columns": null,
       "grid_auto_flow": null,
       "grid_auto_rows": null,
       "grid_column": null,
       "grid_gap": null,
       "grid_row": null,
       "grid_template_areas": null,
       "grid_template_columns": null,
       "grid_template_rows": null,
       "height": null,
       "justify_content": null,
       "justify_items": null,
       "left": null,
       "margin": null,
       "max_height": null,
       "max_width": null,
       "min_height": null,
       "min_width": null,
       "object_fit": null,
       "object_position": null,
       "order": null,
       "overflow": null,
       "overflow_x": null,
       "overflow_y": null,
       "padding": null,
       "right": null,
       "top": null,
       "visibility": null,
       "width": null
      }
     },
     "54ea007765864b859c4748ead38c0677": {
      "model_module": "@jupyter-widgets/controls",
      "model_module_version": "1.5.0",
      "model_name": "ProgressStyleModel",
      "state": {
       "_model_module": "@jupyter-widgets/controls",
       "_model_module_version": "1.5.0",
       "_model_name": "ProgressStyleModel",
       "_view_count": null,
       "_view_module": "@jupyter-widgets/base",
       "_view_module_version": "1.2.0",
       "_view_name": "StyleView",
       "bar_color": null,
       "description_width": ""
      }
     },
     "bde32b38463b4486ad5800ec941a9e0a": {
      "model_module": "@jupyter-widgets/controls",
      "model_module_version": "1.5.0",
      "model_name": "IntProgressModel",
      "state": {
       "_dom_classes": [],
       "_model_module": "@jupyter-widgets/controls",
       "_model_module_version": "1.5.0",
       "_model_name": "IntProgressModel",
       "_view_count": null,
       "_view_module": "@jupyter-widgets/controls",
       "_view_module_version": "1.5.0",
       "_view_name": "ProgressView",
       "bar_style": "success",
       "description": "Downloading:",
       "description_tooltip": null,
       "layout": "IPY_MODEL_04fbe726aae941baa066cc345293a677",
       "max": 11,
       "min": 0,
       "orientation": "horizontal",
       "style": "IPY_MODEL_184ed1c3cbd543458a7e29fb0a868e6f",
       "value": 11
      }
     }
    },
    "version_major": 2,
    "version_minor": 0
   }
  }
 },
 "nbformat": 4,
 "nbformat_minor": 4
}