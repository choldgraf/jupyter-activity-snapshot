{
 "cells": [
  {
   "cell_type": "code",
   "execution_count": 5,
   "metadata": {},
   "outputs": [],
   "source": [
    "import papermill as pm\n",
    "import pandas as pd\n",
    "import nbformat as nbf\n",
    "from datetime import timedelta\n",
    "import os\n",
    "import os.path as op\n",
    "from pathlib import Path"
   ]
  },
  {
   "cell_type": "code",
   "execution_count": 49,
   "metadata": {},
   "outputs": [],
   "source": [
    "# Parameters to use later\n",
    "github_orgs = [\"jupyterhub\", \"jupyter\", \"jupyterlab\", \"jupyter-widgets\", \"ipython\", \"nteract\"]\n",
    "# github_orgs = [\"ipython\"]"
   ]
  },
  {
   "cell_type": "markdown",
   "metadata": {},
   "source": [
    "# Update the data"
   ]
  },
  {
   "cell_type": "code",
   "execution_count": 50,
   "metadata": {},
   "outputs": [],
   "source": [
    "n_days = 60"
   ]
  },
  {
   "cell_type": "code",
   "execution_count": 51,
   "metadata": {},
   "outputs": [
    {
     "data": {
      "application/vnd.jupyter.widget-view+json": {
       "model_id": "88fc55c8b65c42a2aa551e2ff17d3103",
       "version_major": 2,
       "version_minor": 0
      },
      "text/plain": [
       "HBox(children=(FloatProgress(value=0.0, description='Executing', max=36.0, style=ProgressStyle(description_wid…"
      ]
     },
     "metadata": {},
     "output_type": "display_data"
    },
    {
     "name": "stdout",
     "output_type": "stream",
     "text": [
      "\n"
     ]
    },
    {
     "data": {
      "application/vnd.jupyter.widget-view+json": {
       "model_id": "e5bf0117baf94266bddbaf3949768b34",
       "version_major": 2,
       "version_minor": 0
      },
      "text/plain": [
       "HBox(children=(FloatProgress(value=0.0, description='Executing', max=36.0, style=ProgressStyle(description_wid…"
      ]
     },
     "metadata": {},
     "output_type": "display_data"
    },
    {
     "name": "stdout",
     "output_type": "stream",
     "text": [
      "\n"
     ]
    },
    {
     "data": {
      "application/vnd.jupyter.widget-view+json": {
       "model_id": "9579db14c47f4ada8c9d64dc52cf2396",
       "version_major": 2,
       "version_minor": 0
      },
      "text/plain": [
       "HBox(children=(FloatProgress(value=0.0, description='Executing', max=36.0, style=ProgressStyle(description_wid…"
      ]
     },
     "metadata": {},
     "output_type": "display_data"
    },
    {
     "name": "stdout",
     "output_type": "stream",
     "text": [
      "\n"
     ]
    },
    {
     "data": {
      "application/vnd.jupyter.widget-view+json": {
       "model_id": "53737e7af5bb4a039c30dbc58874be17",
       "version_major": 2,
       "version_minor": 0
      },
      "text/plain": [
       "HBox(children=(FloatProgress(value=0.0, description='Executing', max=36.0, style=ProgressStyle(description_wid…"
      ]
     },
     "metadata": {},
     "output_type": "display_data"
    },
    {
     "name": "stdout",
     "output_type": "stream",
     "text": [
      "\n"
     ]
    },
    {
     "data": {
      "application/vnd.jupyter.widget-view+json": {
       "model_id": "4eba9450367b49be8c0249bd3fc5a6c7",
       "version_major": 2,
       "version_minor": 0
      },
      "text/plain": [
       "HBox(children=(FloatProgress(value=0.0, description='Executing', max=36.0, style=ProgressStyle(description_wid…"
      ]
     },
     "metadata": {},
     "output_type": "display_data"
    },
    {
     "name": "stdout",
     "output_type": "stream",
     "text": [
      "\n"
     ]
    }
   ],
   "source": [
    "path_book = Path(\"book\")\n",
    "for org in github_orgs:\n",
    "    parameters = dict(\n",
    "        github_org=org,\n",
    "        n_days=n_days\n",
    "    )\n",
    "    path_out = path_book.joinpath(f\"{org}.ipynb\")\n",
    "    ntbk = pm.execute_notebook('./template.ipynb', str(path_out), parameters=parameters, nest_asyncio=True)\n",
    "\n",
    "    # Remove the param cell so it doesn't show up\n",
    "    (param_cell,) = [cell for cell in ntbk.cells if \"injected-parameters\" in cell.metadata.tags]\n",
    "    param_cell.metadata.tags.append(\"remove-cell\")\n",
    "    nbs = nbf.writes(ntbk)\n",
    "    nbs = nbs.replace(\"{{ github_org }}\", org)\n",
    "    path_out.write_text(nbs)"
   ]
  }
 ],
 "metadata": {
  "kernelspec": {
   "display_name": "Python 3",
   "language": "python",
   "name": "python3"
  },
  "language_info": {
   "codemirror_mode": {
    "name": "ipython",
    "version": 3
   },
   "file_extension": ".py",
   "mimetype": "text/x-python",
   "name": "python",
   "nbconvert_exporter": "python",
   "pygments_lexer": "ipython3",
   "version": "3.7.3"
  },
  "widgets": {
   "application/vnd.jupyter.widget-state+json": {
    "state": {
     "02ebad8d61f94a13908ae6e6eda7f79d": {
      "model_module": "@jupyter-widgets/controls",
      "model_module_version": "1.5.0",
      "model_name": "DescriptionStyleModel",
      "state": {
       "description_width": ""
      }
     },
     "03b8aeab72e14afda6e98f1e85134087": {
      "model_module": "@jupyter-widgets/base",
      "model_module_version": "1.2.0",
      "model_name": "LayoutModel",
      "state": {}
     },
     "0420f7a8b39a43e8bd2d0a60c8c9bb47": {
      "model_module": "@jupyter-widgets/controls",
      "model_module_version": "1.5.0",
      "model_name": "HTMLModel",
      "state": {
       "layout": "IPY_MODEL_93c52917a555485695635f8e53f9914e",
       "style": "IPY_MODEL_bf21fc59bc4c4e60b311a70a1ffa58ae",
       "value": " 36/36 [00:16&lt;00:00,  2.15cell/s]"
      }
     },
     "05841f3ed34e4e75a7d398fbf9c5af65": {
      "model_module": "@jupyter-widgets/controls",
      "model_module_version": "1.5.0",
      "model_name": "HBoxModel",
      "state": {
       "children": [
        "IPY_MODEL_0bdfdbf00e7545d1a01a942d1cf7c4f9",
        "IPY_MODEL_254fe33f9fb44ccb82e1d45c885d8973"
       ],
       "layout": "IPY_MODEL_56d44398d5754265ad4591b05f430cf9"
      }
     },
     "0621e8838e15427b8dd900a11a1fe126": {
      "model_module": "@jupyter-widgets/controls",
      "model_module_version": "1.5.0",
      "model_name": "DescriptionStyleModel",
      "state": {
       "description_width": ""
      }
     },
     "06db44f673a046dbbebf9d3cea253439": {
      "model_module": "@jupyter-widgets/base",
      "model_module_version": "1.2.0",
      "model_name": "LayoutModel",
      "state": {}
     },
     "08495bd3040042b6a3e988d943290fdb": {
      "model_module": "@jupyter-widgets/controls",
      "model_module_version": "1.5.0",
      "model_name": "ProgressStyleModel",
      "state": {
       "description_width": "initial"
      }
     },
     "0934f9ef605f4a189156c6f2afb4ad71": {
      "model_module": "@jupyter-widgets/controls",
      "model_module_version": "1.5.0",
      "model_name": "DescriptionStyleModel",
      "state": {
       "description_width": ""
      }
     },
     "096b613476954312be82f58f06d45613": {
      "model_module": "@jupyter-widgets/controls",
      "model_module_version": "1.5.0",
      "model_name": "ProgressStyleModel",
      "state": {
       "description_width": "initial"
      }
     },
     "0a3d4e3d92b74992b25221d5c2b73bdd": {
      "model_module": "@jupyter-widgets/controls",
      "model_module_version": "1.5.0",
      "model_name": "DescriptionStyleModel",
      "state": {
       "description_width": ""
      }
     },
     "0b4166058c514d06b3141f70ae654df6": {
      "model_module": "@jupyter-widgets/controls",
      "model_module_version": "1.5.0",
      "model_name": "HTMLModel",
      "state": {
       "layout": "IPY_MODEL_273bfce4318448249c08b80b44dec865",
       "style": "IPY_MODEL_b3d3f00c57a049a79015fe66edc4f563",
       "value": " 36/36 [00:22&lt;00:00,  1.59cell/s]"
      }
     },
     "0b5f068668434c4b91555fe35f79d1f3": {
      "model_module": "@jupyter-widgets/controls",
      "model_module_version": "1.5.0",
      "model_name": "HTMLModel",
      "state": {
       "layout": "IPY_MODEL_e855a31d955e4b1e8403f5eb7c6cf619",
       "style": "IPY_MODEL_be99eae3ba5e4d5791643dbb8fcb6d9d",
       "value": " 36/36 [12:51&lt;00:00, 21.44s/cell]"
      }
     },
     "0bdfdbf00e7545d1a01a942d1cf7c4f9": {
      "model_module": "@jupyter-widgets/controls",
      "model_module_version": "1.5.0",
      "model_name": "FloatProgressModel",
      "state": {
       "bar_style": "success",
       "description": "Executing: 100%",
       "layout": "IPY_MODEL_d95f7665b75c4b49abedc8c019068497",
       "max": 36,
       "style": "IPY_MODEL_0f3ff20eb8534269afb5af764587aeed",
       "value": 36
      }
     },
     "0ef21a4e3fec4012bf90d4213b2b8271": {
      "model_module": "@jupyter-widgets/base",
      "model_module_version": "1.2.0",
      "model_name": "LayoutModel",
      "state": {}
     },
     "0f3ff20eb8534269afb5af764587aeed": {
      "model_module": "@jupyter-widgets/controls",
      "model_module_version": "1.5.0",
      "model_name": "ProgressStyleModel",
      "state": {
       "description_width": "initial"
      }
     },
     "15d40c47849c4c799723b7169b39dab4": {
      "model_module": "@jupyter-widgets/controls",
      "model_module_version": "1.5.0",
      "model_name": "DescriptionStyleModel",
      "state": {
       "description_width": ""
      }
     },
     "164efc840f584f41a07bea49bad7e065": {
      "model_module": "@jupyter-widgets/controls",
      "model_module_version": "1.5.0",
      "model_name": "DescriptionStyleModel",
      "state": {
       "description_width": ""
      }
     },
     "18887f580fac42bcbbd9627a0b4b2b08": {
      "model_module": "@jupyter-widgets/base",
      "model_module_version": "1.2.0",
      "model_name": "LayoutModel",
      "state": {}
     },
     "1a19ab929fc64cc4b390c8a50aec3292": {
      "model_module": "@jupyter-widgets/base",
      "model_module_version": "1.2.0",
      "model_name": "LayoutModel",
      "state": {}
     },
     "1c9c82829aff4bbb844a3f28fa31b21d": {
      "model_module": "@jupyter-widgets/controls",
      "model_module_version": "1.5.0",
      "model_name": "DescriptionStyleModel",
      "state": {
       "description_width": ""
      }
     },
     "1cef29c6e04a48598b8d4371ac40e6de": {
      "model_module": "@jupyter-widgets/controls",
      "model_module_version": "1.5.0",
      "model_name": "ProgressStyleModel",
      "state": {
       "description_width": "initial"
      }
     },
     "1fb960358b074d2dac197c160fb86a9a": {
      "model_module": "@jupyter-widgets/base",
      "model_module_version": "1.2.0",
      "model_name": "LayoutModel",
      "state": {}
     },
     "1fc02ce8d9b74ff3b0372ecc866c130e": {
      "model_module": "@jupyter-widgets/controls",
      "model_module_version": "1.5.0",
      "model_name": "FloatProgressModel",
      "state": {
       "bar_style": "success",
       "description": "Executing: 100%",
       "layout": "IPY_MODEL_286b2cec94f3461e90e2941f75190304",
       "max": 36,
       "style": "IPY_MODEL_2f5d31f5135f44d5a0e13c8a95c6bc24",
       "value": 36
      }
     },
     "20745c3a785948b3b6c4e1b9231f61d5": {
      "model_module": "@jupyter-widgets/controls",
      "model_module_version": "1.5.0",
      "model_name": "ProgressStyleModel",
      "state": {
       "description_width": "initial"
      }
     },
     "23daaf6d74a442cfa9d0f590404dc5d5": {
      "model_module": "@jupyter-widgets/base",
      "model_module_version": "1.2.0",
      "model_name": "LayoutModel",
      "state": {}
     },
     "254fe33f9fb44ccb82e1d45c885d8973": {
      "model_module": "@jupyter-widgets/controls",
      "model_module_version": "1.5.0",
      "model_name": "HTMLModel",
      "state": {
       "layout": "IPY_MODEL_bca48397d8bc4ce898cfc92b642e82d0",
       "style": "IPY_MODEL_1c9c82829aff4bbb844a3f28fa31b21d",
       "value": " 36/36 [01:07&lt;00:00,  1.88s/cell]"
      }
     },
     "26fefe10a8544d0db4d85f05f247ad64": {
      "model_module": "@jupyter-widgets/controls",
      "model_module_version": "1.5.0",
      "model_name": "HBoxModel",
      "state": {
       "children": [
        "IPY_MODEL_e50d646a36bf4982aab5ea769a0702d0",
        "IPY_MODEL_9ec0655578604014be0e0c546e98767d"
       ],
       "layout": "IPY_MODEL_a0189383fc824eab9704a5ff3d73dbe8"
      }
     },
     "273bfce4318448249c08b80b44dec865": {
      "model_module": "@jupyter-widgets/base",
      "model_module_version": "1.2.0",
      "model_name": "LayoutModel",
      "state": {}
     },
     "274282195f9741cbbf669512ef7b4151": {
      "model_module": "@jupyter-widgets/base",
      "model_module_version": "1.2.0",
      "model_name": "LayoutModel",
      "state": {}
     },
     "284d1c5d59744ec1903ba4c797fee9ea": {
      "model_module": "@jupyter-widgets/controls",
      "model_module_version": "1.5.0",
      "model_name": "HBoxModel",
      "state": {
       "children": [
        "IPY_MODEL_97d60f5be6164d7991781b1d1e9c5115",
        "IPY_MODEL_56bf1179e73648569ea85dd5347e92fd"
       ],
       "layout": "IPY_MODEL_f336f9235ff54fcaa734c95d371b956b"
      }
     },
     "286b2cec94f3461e90e2941f75190304": {
      "model_module": "@jupyter-widgets/base",
      "model_module_version": "1.2.0",
      "model_name": "LayoutModel",
      "state": {}
     },
     "29d63f0691ec411990dafaebc006b15d": {
      "model_module": "@jupyter-widgets/controls",
      "model_module_version": "1.5.0",
      "model_name": "HBoxModel",
      "state": {
       "children": [
        "IPY_MODEL_1fc02ce8d9b74ff3b0372ecc866c130e",
        "IPY_MODEL_3c999828e6874375bb91a86e1bba064c"
       ],
       "layout": "IPY_MODEL_96174adc725f4ccb8593ec474d0c9ef6"
      }
     },
     "2aef1a8471654bb0bb5c71d1f81b921a": {
      "model_module": "@jupyter-widgets/controls",
      "model_module_version": "1.5.0",
      "model_name": "ProgressStyleModel",
      "state": {
       "description_width": "initial"
      }
     },
     "2eb54f2c20be4ecf816a6de08a7f698f": {
      "model_module": "@jupyter-widgets/base",
      "model_module_version": "1.2.0",
      "model_name": "LayoutModel",
      "state": {}
     },
     "2f5d31f5135f44d5a0e13c8a95c6bc24": {
      "model_module": "@jupyter-widgets/controls",
      "model_module_version": "1.5.0",
      "model_name": "ProgressStyleModel",
      "state": {
       "description_width": "initial"
      }
     },
     "2f9275de1a9d4ca49a66c9485887ea53": {
      "model_module": "@jupyter-widgets/controls",
      "model_module_version": "1.5.0",
      "model_name": "HBoxModel",
      "state": {
       "children": [
        "IPY_MODEL_51938ef624f349828ae94362c9beafce",
        "IPY_MODEL_a8c7120284ea47bb9d53c194753cb2f9"
       ],
       "layout": "IPY_MODEL_18887f580fac42bcbbd9627a0b4b2b08"
      }
     },
     "32b288fc43144572b085b6561cc489e5": {
      "model_module": "@jupyter-widgets/base",
      "model_module_version": "1.2.0",
      "model_name": "LayoutModel",
      "state": {}
     },
     "32c4c42f99f847178d9dc6cec447a745": {
      "model_module": "@jupyter-widgets/controls",
      "model_module_version": "1.5.0",
      "model_name": "FloatProgressModel",
      "state": {
       "bar_style": "success",
       "description": "Executing: 100%",
       "layout": "IPY_MODEL_91082b9b00824004a20750e5a0899643",
       "max": 36,
       "style": "IPY_MODEL_c2769761133642aa9959ff1c32b4fb4e",
       "value": 36
      }
     },
     "3610d3b8f3434e57827568f0fed12b03": {
      "model_module": "@jupyter-widgets/controls",
      "model_module_version": "1.5.0",
      "model_name": "HTMLModel",
      "state": {
       "layout": "IPY_MODEL_ec88146278c148559110218771bcca46",
       "style": "IPY_MODEL_02ebad8d61f94a13908ae6e6eda7f79d",
       "value": " 36/36 [00:24&lt;00:00,  1.48cell/s]"
      }
     },
     "38a1729183394910bac53b6a4dee014d": {
      "model_module": "@jupyter-widgets/controls",
      "model_module_version": "1.5.0",
      "model_name": "FloatProgressModel",
      "state": {
       "bar_style": "success",
       "description": "Executing: 100%",
       "layout": "IPY_MODEL_32b288fc43144572b085b6561cc489e5",
       "max": 36,
       "style": "IPY_MODEL_f31ff28e711b4cf5804f0d37b48127a8",
       "value": 36
      }
     },
     "390b362efd4c4044810bc8efcc64bf25": {
      "model_module": "@jupyter-widgets/base",
      "model_module_version": "1.2.0",
      "model_name": "LayoutModel",
      "state": {}
     },
     "3c999828e6874375bb91a86e1bba064c": {
      "model_module": "@jupyter-widgets/controls",
      "model_module_version": "1.5.0",
      "model_name": "HTMLModel",
      "state": {
       "layout": "IPY_MODEL_8896cce147ab4134af8239c84791686f",
       "style": "IPY_MODEL_c94ed188278847faa27338e3c914baac",
       "value": " 36/36 [00:23&lt;00:00,  1.51cell/s]"
      }
     },
     "3f36489a10e946b49d85330dacaf5c5c": {
      "model_module": "@jupyter-widgets/controls",
      "model_module_version": "1.5.0",
      "model_name": "HTMLModel",
      "state": {
       "layout": "IPY_MODEL_8740a9b925314924af91e0af9b5ba949",
       "style": "IPY_MODEL_9600882a1ca247689a2997f0b812aef0",
       "value": " 36/36 [02:24&lt;00:00,  4.02s/cell]"
      }
     },
     "4055ff97f8944abf80c1f1c9549e0f01": {
      "model_module": "@jupyter-widgets/base",
      "model_module_version": "1.2.0",
      "model_name": "LayoutModel",
      "state": {}
     },
     "47cb2d99790f4d3e9c3fbe71024c3fc5": {
      "model_module": "@jupyter-widgets/controls",
      "model_module_version": "1.5.0",
      "model_name": "DescriptionStyleModel",
      "state": {
       "description_width": ""
      }
     },
     "482687aaff84459ba8f478eba1b49474": {
      "model_module": "@jupyter-widgets/controls",
      "model_module_version": "1.5.0",
      "model_name": "HTMLModel",
      "state": {
       "layout": "IPY_MODEL_1a19ab929fc64cc4b390c8a50aec3292",
       "style": "IPY_MODEL_164efc840f584f41a07bea49bad7e065",
       "value": " 36/36 [00:13&lt;00:00,  2.72cell/s]"
      }
     },
     "4af562c7488d476ab5061382539399a1": {
      "model_module": "@jupyter-widgets/base",
      "model_module_version": "1.2.0",
      "model_name": "LayoutModel",
      "state": {}
     },
     "4bbadc7710aa4d6a8e4e0ed2e3ef670f": {
      "model_module": "@jupyter-widgets/controls",
      "model_module_version": "1.5.0",
      "model_name": "FloatProgressModel",
      "state": {
       "bar_style": "success",
       "description": "Executing: 100%",
       "layout": "IPY_MODEL_93f79718e72f493b8de64a2082f7bd57",
       "max": 36,
       "style": "IPY_MODEL_6062da8d0b93498a9c19b69ef3623f01",
       "value": 36
      }
     },
     "4db911198a724552803ec36de83aa13e": {
      "model_module": "@jupyter-widgets/controls",
      "model_module_version": "1.5.0",
      "model_name": "HTMLModel",
      "state": {
       "layout": "IPY_MODEL_274282195f9741cbbf669512ef7b4151",
       "style": "IPY_MODEL_ba96b26300eb499f96c64128203fdc59",
       "value": " 36/36 [00:21&lt;00:00,  1.66cell/s]"
      }
     },
     "4eba9450367b49be8c0249bd3fc5a6c7": {
      "model_module": "@jupyter-widgets/controls",
      "model_module_version": "1.5.0",
      "model_name": "HBoxModel",
      "state": {
       "children": [
        "IPY_MODEL_9052787ca0194cb6aab47a476983fa55",
        "IPY_MODEL_dcf90c35bffd45db93089cb5dd6d3bd4"
       ],
       "layout": "IPY_MODEL_f0c0b5bcc3854c0bbbbc2ec1dd3562b6"
      }
     },
     "4febadf2277640579110cdf461ccaeb2": {
      "model_module": "@jupyter-widgets/controls",
      "model_module_version": "1.5.0",
      "model_name": "HBoxModel",
      "state": {
       "children": [
        "IPY_MODEL_fa112141c7e44389ad1cb1b193580636",
        "IPY_MODEL_0420f7a8b39a43e8bd2d0a60c8c9bb47"
       ],
       "layout": "IPY_MODEL_9f4949ca8c874c43ab76f65c2f9b0219"
      }
     },
     "505a8376179143cc8101339fe1125817": {
      "model_module": "@jupyter-widgets/controls",
      "model_module_version": "1.5.0",
      "model_name": "HTMLModel",
      "state": {
       "layout": "IPY_MODEL_03b8aeab72e14afda6e98f1e85134087",
       "style": "IPY_MODEL_47cb2d99790f4d3e9c3fbe71024c3fc5",
       "value": " 36/36 [00:12&lt;00:00,  3.00cell/s]"
      }
     },
     "51938ef624f349828ae94362c9beafce": {
      "model_module": "@jupyter-widgets/controls",
      "model_module_version": "1.5.0",
      "model_name": "FloatProgressModel",
      "state": {
       "bar_style": "success",
       "description": "Executing: 100%",
       "layout": "IPY_MODEL_77d5c44ca9254e1385f3e6eb127cd287",
       "max": 36,
       "style": "IPY_MODEL_1cef29c6e04a48598b8d4371ac40e6de",
       "value": 36
      }
     },
     "53737e7af5bb4a039c30dbc58874be17": {
      "model_module": "@jupyter-widgets/controls",
      "model_module_version": "1.5.0",
      "model_name": "HBoxModel",
      "state": {
       "children": [
        "IPY_MODEL_ae3d1f8545cb44939178a989f81ba1fe",
        "IPY_MODEL_482687aaff84459ba8f478eba1b49474"
       ],
       "layout": "IPY_MODEL_a5216325029e454b80831b3bbc9d8b05"
      }
     },
     "54624e29dc4f4f3587c6ee767efb9eaf": {
      "model_module": "@jupyter-widgets/controls",
      "model_module_version": "1.5.0",
      "model_name": "HTMLModel",
      "state": {
       "layout": "IPY_MODEL_d3d6742fea164d1a9a0270b2c4178a88",
       "style": "IPY_MODEL_15d40c47849c4c799723b7169b39dab4",
       "value": " 36/36 [00:11&lt;00:00,  3.04cell/s]"
      }
     },
     "55d1c8a5eaf94cfa83c82acad6ff1cde": {
      "model_module": "@jupyter-widgets/controls",
      "model_module_version": "1.5.0",
      "model_name": "DescriptionStyleModel",
      "state": {
       "description_width": ""
      }
     },
     "56bf1179e73648569ea85dd5347e92fd": {
      "model_module": "@jupyter-widgets/controls",
      "model_module_version": "1.5.0",
      "model_name": "HTMLModel",
      "state": {
       "layout": "IPY_MODEL_23daaf6d74a442cfa9d0f590404dc5d5",
       "style": "IPY_MODEL_0a3d4e3d92b74992b25221d5c2b73bdd",
       "value": " 36/36 [05:29&lt;00:00,  9.15s/cell]"
      }
     },
     "56d44398d5754265ad4591b05f430cf9": {
      "model_module": "@jupyter-widgets/base",
      "model_module_version": "1.2.0",
      "model_name": "LayoutModel",
      "state": {}
     },
     "6062da8d0b93498a9c19b69ef3623f01": {
      "model_module": "@jupyter-widgets/controls",
      "model_module_version": "1.5.0",
      "model_name": "ProgressStyleModel",
      "state": {
       "description_width": "initial"
      }
     },
     "617f06bc6c09434ca4b8d9c501b6004d": {
      "model_module": "@jupyter-widgets/base",
      "model_module_version": "1.2.0",
      "model_name": "LayoutModel",
      "state": {}
     },
     "63607a1aa66f4704b69c6ac45ffa6d72": {
      "model_module": "@jupyter-widgets/controls",
      "model_module_version": "1.5.0",
      "model_name": "HBoxModel",
      "state": {
       "children": [
        "IPY_MODEL_c833f1b7e8a94f17a381ef6c559694c2",
        "IPY_MODEL_54624e29dc4f4f3587c6ee767efb9eaf"
       ],
       "layout": "IPY_MODEL_617f06bc6c09434ca4b8d9c501b6004d"
      }
     },
     "653c3a2e002f48e484ef853affe488ee": {
      "model_module": "@jupyter-widgets/controls",
      "model_module_version": "1.5.0",
      "model_name": "ProgressStyleModel",
      "state": {
       "description_width": "initial"
      }
     },
     "68033e2de2904a60a08154969680f09b": {
      "model_module": "@jupyter-widgets/controls",
      "model_module_version": "1.5.0",
      "model_name": "FloatProgressModel",
      "state": {
       "bar_style": "success",
       "description": "Executing: 100%",
       "layout": "IPY_MODEL_2eb54f2c20be4ecf816a6de08a7f698f",
       "max": 36,
       "style": "IPY_MODEL_f7cee86219d9417d82742e1e5f5c9949",
       "value": 36
      }
     },
     "721fdf4f74af454b94a638c238a7741c": {
      "model_module": "@jupyter-widgets/base",
      "model_module_version": "1.2.0",
      "model_name": "LayoutModel",
      "state": {}
     },
     "76c63a299d69460894aced5b5441b211": {
      "model_module": "@jupyter-widgets/base",
      "model_module_version": "1.2.0",
      "model_name": "LayoutModel",
      "state": {}
     },
     "7704060b1de44baeb5d66a61b38ab42d": {
      "model_module": "@jupyter-widgets/controls",
      "model_module_version": "1.5.0",
      "model_name": "ProgressStyleModel",
      "state": {
       "description_width": "initial"
      }
     },
     "77d5c44ca9254e1385f3e6eb127cd287": {
      "model_module": "@jupyter-widgets/base",
      "model_module_version": "1.2.0",
      "model_name": "LayoutModel",
      "state": {}
     },
     "7b9a90876fb04339a5d8a2ee82fe4238": {
      "model_module": "@jupyter-widgets/base",
      "model_module_version": "1.2.0",
      "model_name": "LayoutModel",
      "state": {}
     },
     "7e0e6e7cedc04205bcdc14ab40be6ea7": {
      "model_module": "@jupyter-widgets/controls",
      "model_module_version": "1.5.0",
      "model_name": "FloatProgressModel",
      "state": {
       "bar_style": "success",
       "description": "Executing: 100%",
       "layout": "IPY_MODEL_bd3346cefe0b4adda5ceb4e5b5184220",
       "max": 36,
       "style": "IPY_MODEL_d7c64d3ed8dd43dda98e4fba5cc09db9",
       "value": 36
      }
     },
     "7e4187121e084e228d9e9bf686448dbd": {
      "model_module": "@jupyter-widgets/controls",
      "model_module_version": "1.5.0",
      "model_name": "ProgressStyleModel",
      "state": {
       "description_width": "initial"
      }
     },
     "828ec38f2c774ed79304952ee6b6f7a3": {
      "model_module": "@jupyter-widgets/controls",
      "model_module_version": "1.5.0",
      "model_name": "FloatProgressModel",
      "state": {
       "bar_style": "success",
       "description": "Executing: 100%",
       "layout": "IPY_MODEL_8fd36b80ba6444ccbb2b75c3be1a22db",
       "max": 36,
       "style": "IPY_MODEL_cb89db3e25854403ada58ef94f4aa85f",
       "value": 36
      }
     },
     "869f40c9ac914e11800804c5daf964be": {
      "model_module": "@jupyter-widgets/base",
      "model_module_version": "1.2.0",
      "model_name": "LayoutModel",
      "state": {}
     },
     "8740a9b925314924af91e0af9b5ba949": {
      "model_module": "@jupyter-widgets/base",
      "model_module_version": "1.2.0",
      "model_name": "LayoutModel",
      "state": {}
     },
     "87f307ca21d345b59aa14371e0497b4a": {
      "model_module": "@jupyter-widgets/controls",
      "model_module_version": "1.5.0",
      "model_name": "HTMLModel",
      "state": {
       "layout": "IPY_MODEL_9196047c054949d4a05b8f030421d864",
       "style": "IPY_MODEL_0934f9ef605f4a189156c6f2afb4ad71",
       "value": " 36/36 [00:09&lt;00:00,  3.74cell/s]"
      }
     },
     "8896cce147ab4134af8239c84791686f": {
      "model_module": "@jupyter-widgets/base",
      "model_module_version": "1.2.0",
      "model_name": "LayoutModel",
      "state": {}
     },
     "88fc55c8b65c42a2aa551e2ff17d3103": {
      "model_module": "@jupyter-widgets/controls",
      "model_module_version": "1.5.0",
      "model_name": "HBoxModel",
      "state": {
       "children": [
        "IPY_MODEL_38a1729183394910bac53b6a4dee014d",
        "IPY_MODEL_4db911198a724552803ec36de83aa13e"
       ],
       "layout": "IPY_MODEL_1fb960358b074d2dac197c160fb86a9a"
      }
     },
     "894ea73acab5451ba7673344ab22aa1a": {
      "model_module": "@jupyter-widgets/controls",
      "model_module_version": "1.5.0",
      "model_name": "HTMLModel",
      "state": {
       "layout": "IPY_MODEL_0ef21a4e3fec4012bf90d4213b2b8271",
       "style": "IPY_MODEL_0621e8838e15427b8dd900a11a1fe126",
       "value": " 36/36 [00:32&lt;00:00,  1.11cell/s]"
      }
     },
     "8a119990d7a64661a12d8a3b7e5daa7c": {
      "model_module": "@jupyter-widgets/controls",
      "model_module_version": "1.5.0",
      "model_name": "HBoxModel",
      "state": {
       "children": [
        "IPY_MODEL_94858f44fba04566be52844bd19ff0cb",
        "IPY_MODEL_0b5f068668434c4b91555fe35f79d1f3"
       ],
       "layout": "IPY_MODEL_bfd0f33a1f09401fb47326a293f37919"
      }
     },
     "8d1fa6e675684a7d84d0c006357d2293": {
      "model_module": "@jupyter-widgets/base",
      "model_module_version": "1.2.0",
      "model_name": "LayoutModel",
      "state": {}
     },
     "8fd36b80ba6444ccbb2b75c3be1a22db": {
      "model_module": "@jupyter-widgets/base",
      "model_module_version": "1.2.0",
      "model_name": "LayoutModel",
      "state": {}
     },
     "9052787ca0194cb6aab47a476983fa55": {
      "model_module": "@jupyter-widgets/controls",
      "model_module_version": "1.5.0",
      "model_name": "FloatProgressModel",
      "state": {
       "bar_style": "success",
       "description": "Executing: 100%",
       "layout": "IPY_MODEL_76c63a299d69460894aced5b5441b211",
       "max": 36,
       "style": "IPY_MODEL_7e4187121e084e228d9e9bf686448dbd",
       "value": 36
      }
     },
     "91082b9b00824004a20750e5a0899643": {
      "model_module": "@jupyter-widgets/base",
      "model_module_version": "1.2.0",
      "model_name": "LayoutModel",
      "state": {}
     },
     "9196047c054949d4a05b8f030421d864": {
      "model_module": "@jupyter-widgets/base",
      "model_module_version": "1.2.0",
      "model_name": "LayoutModel",
      "state": {}
     },
     "932bbb68ddf14359bfe4d8106a68cd21": {
      "model_module": "@jupyter-widgets/controls",
      "model_module_version": "1.5.0",
      "model_name": "FloatProgressModel",
      "state": {
       "bar_style": "success",
       "description": "Executing: 100%",
       "layout": "IPY_MODEL_a4201c644f314d4ea39e162015916c34",
       "max": 36,
       "style": "IPY_MODEL_20745c3a785948b3b6c4e1b9231f61d5",
       "value": 36
      }
     },
     "93c52917a555485695635f8e53f9914e": {
      "model_module": "@jupyter-widgets/base",
      "model_module_version": "1.2.0",
      "model_name": "LayoutModel",
      "state": {}
     },
     "93f79718e72f493b8de64a2082f7bd57": {
      "model_module": "@jupyter-widgets/base",
      "model_module_version": "1.2.0",
      "model_name": "LayoutModel",
      "state": {}
     },
     "94858f44fba04566be52844bd19ff0cb": {
      "model_module": "@jupyter-widgets/controls",
      "model_module_version": "1.5.0",
      "model_name": "FloatProgressModel",
      "state": {
       "bar_style": "success",
       "description": "Executing: 100%",
       "layout": "IPY_MODEL_721fdf4f74af454b94a638c238a7741c",
       "max": 36,
       "style": "IPY_MODEL_7704060b1de44baeb5d66a61b38ab42d",
       "value": 36
      }
     },
     "9579db14c47f4ada8c9d64dc52cf2396": {
      "model_module": "@jupyter-widgets/controls",
      "model_module_version": "1.5.0",
      "model_name": "HBoxModel",
      "state": {
       "children": [
        "IPY_MODEL_4bbadc7710aa4d6a8e4e0ed2e3ef670f",
        "IPY_MODEL_e0618ae1cf2b4ad0a618248e6231fb0e"
       ],
       "layout": "IPY_MODEL_c5c87c2805604bfa979c31517875d978"
      }
     },
     "9600882a1ca247689a2997f0b812aef0": {
      "model_module": "@jupyter-widgets/controls",
      "model_module_version": "1.5.0",
      "model_name": "DescriptionStyleModel",
      "state": {
       "description_width": ""
      }
     },
     "96174adc725f4ccb8593ec474d0c9ef6": {
      "model_module": "@jupyter-widgets/base",
      "model_module_version": "1.2.0",
      "model_name": "LayoutModel",
      "state": {}
     },
     "965f800d335348ccb27dae51ebcf4560": {
      "model_module": "@jupyter-widgets/controls",
      "model_module_version": "1.5.0",
      "model_name": "HBoxModel",
      "state": {
       "children": [
        "IPY_MODEL_828ec38f2c774ed79304952ee6b6f7a3",
        "IPY_MODEL_87f307ca21d345b59aa14371e0497b4a"
       ],
       "layout": "IPY_MODEL_4af562c7488d476ab5061382539399a1"
      }
     },
     "97d60f5be6164d7991781b1d1e9c5115": {
      "model_module": "@jupyter-widgets/controls",
      "model_module_version": "1.5.0",
      "model_name": "FloatProgressModel",
      "state": {
       "bar_style": "success",
       "description": "Executing: 100%",
       "layout": "IPY_MODEL_e7251bbf082041b1b77915e97efb64a5",
       "max": 36,
       "style": "IPY_MODEL_f244cda46c3e48a2a50a0bdee084e6c8",
       "value": 36
      }
     },
     "9d33c9b0c8d4492d80e10bbacedc628e": {
      "model_module": "@jupyter-widgets/controls",
      "model_module_version": "1.5.0",
      "model_name": "HBoxModel",
      "state": {
       "children": [
        "IPY_MODEL_32c4c42f99f847178d9dc6cec447a745",
        "IPY_MODEL_894ea73acab5451ba7673344ab22aa1a"
       ],
       "layout": "IPY_MODEL_c00e2bbe2b0c40eeb2eab9b823708a23"
      }
     },
     "9ec0655578604014be0e0c546e98767d": {
      "model_module": "@jupyter-widgets/controls",
      "model_module_version": "1.5.0",
      "model_name": "HTMLModel",
      "state": {
       "layout": "IPY_MODEL_ea35e1debeaf46efa91fd06dc63acb64",
       "style": "IPY_MODEL_d21fb64220fc4bf1a928ddbea81df440",
       "value": " 36/36 [00:21&lt;00:00,  1.71cell/s]"
      }
     },
     "9f4949ca8c874c43ab76f65c2f9b0219": {
      "model_module": "@jupyter-widgets/base",
      "model_module_version": "1.2.0",
      "model_name": "LayoutModel",
      "state": {}
     },
     "a0189383fc824eab9704a5ff3d73dbe8": {
      "model_module": "@jupyter-widgets/base",
      "model_module_version": "1.2.0",
      "model_name": "LayoutModel",
      "state": {}
     },
     "a4201c644f314d4ea39e162015916c34": {
      "model_module": "@jupyter-widgets/base",
      "model_module_version": "1.2.0",
      "model_name": "LayoutModel",
      "state": {}
     },
     "a5216325029e454b80831b3bbc9d8b05": {
      "model_module": "@jupyter-widgets/base",
      "model_module_version": "1.2.0",
      "model_name": "LayoutModel",
      "state": {}
     },
     "a65a7764267a4d18a3188a9595081e06": {
      "model_module": "@jupyter-widgets/controls",
      "model_module_version": "1.5.0",
      "model_name": "DescriptionStyleModel",
      "state": {
       "description_width": ""
      }
     },
     "a8c7120284ea47bb9d53c194753cb2f9": {
      "model_module": "@jupyter-widgets/controls",
      "model_module_version": "1.5.0",
      "model_name": "HTMLModel",
      "state": {
       "layout": "IPY_MODEL_cb26ddaa6974488cae1b2713ea5d974b",
       "style": "IPY_MODEL_a65a7764267a4d18a3188a9595081e06",
       "value": " 36/36 [01:02&lt;00:00,  1.74s/cell]"
      }
     },
     "ae3d1f8545cb44939178a989f81ba1fe": {
      "model_module": "@jupyter-widgets/controls",
      "model_module_version": "1.5.0",
      "model_name": "FloatProgressModel",
      "state": {
       "bar_style": "success",
       "description": "Executing: 100%",
       "layout": "IPY_MODEL_c928e8a13af945b491c6842ecf815236",
       "max": 36,
       "style": "IPY_MODEL_2aef1a8471654bb0bb5c71d1f81b921a",
       "value": 36
      }
     },
     "b3d3f00c57a049a79015fe66edc4f563": {
      "model_module": "@jupyter-widgets/controls",
      "model_module_version": "1.5.0",
      "model_name": "DescriptionStyleModel",
      "state": {
       "description_width": ""
      }
     },
     "ba96b26300eb499f96c64128203fdc59": {
      "model_module": "@jupyter-widgets/controls",
      "model_module_version": "1.5.0",
      "model_name": "DescriptionStyleModel",
      "state": {
       "description_width": ""
      }
     },
     "bca48397d8bc4ce898cfc92b642e82d0": {
      "model_module": "@jupyter-widgets/base",
      "model_module_version": "1.2.0",
      "model_name": "LayoutModel",
      "state": {}
     },
     "bd3346cefe0b4adda5ceb4e5b5184220": {
      "model_module": "@jupyter-widgets/base",
      "model_module_version": "1.2.0",
      "model_name": "LayoutModel",
      "state": {}
     },
     "be7705b9db004f55a0ba4a5fab8dcfc8": {
      "model_module": "@jupyter-widgets/controls",
      "model_module_version": "1.5.0",
      "model_name": "HBoxModel",
      "state": {
       "children": [
        "IPY_MODEL_932bbb68ddf14359bfe4d8106a68cd21",
        "IPY_MODEL_3f36489a10e946b49d85330dacaf5c5c"
       ],
       "layout": "IPY_MODEL_f3e4157729f849cba31de22c2899a7b3"
      }
     },
     "be99eae3ba5e4d5791643dbb8fcb6d9d": {
      "model_module": "@jupyter-widgets/controls",
      "model_module_version": "1.5.0",
      "model_name": "DescriptionStyleModel",
      "state": {
       "description_width": ""
      }
     },
     "bf21fc59bc4c4e60b311a70a1ffa58ae": {
      "model_module": "@jupyter-widgets/controls",
      "model_module_version": "1.5.0",
      "model_name": "DescriptionStyleModel",
      "state": {
       "description_width": ""
      }
     },
     "bfd0f33a1f09401fb47326a293f37919": {
      "model_module": "@jupyter-widgets/base",
      "model_module_version": "1.2.0",
      "model_name": "LayoutModel",
      "state": {}
     },
     "c00e2bbe2b0c40eeb2eab9b823708a23": {
      "model_module": "@jupyter-widgets/base",
      "model_module_version": "1.2.0",
      "model_name": "LayoutModel",
      "state": {}
     },
     "c2769761133642aa9959ff1c32b4fb4e": {
      "model_module": "@jupyter-widgets/controls",
      "model_module_version": "1.5.0",
      "model_name": "ProgressStyleModel",
      "state": {
       "description_width": "initial"
      }
     },
     "c5c87c2805604bfa979c31517875d978": {
      "model_module": "@jupyter-widgets/base",
      "model_module_version": "1.2.0",
      "model_name": "LayoutModel",
      "state": {}
     },
     "c620400cc6cc4affabd17c6e47108572": {
      "model_module": "@jupyter-widgets/base",
      "model_module_version": "1.2.0",
      "model_name": "LayoutModel",
      "state": {}
     },
     "c833f1b7e8a94f17a381ef6c559694c2": {
      "model_module": "@jupyter-widgets/controls",
      "model_module_version": "1.5.0",
      "model_name": "FloatProgressModel",
      "state": {
       "bar_style": "success",
       "description": "Executing: 100%",
       "layout": "IPY_MODEL_c620400cc6cc4affabd17c6e47108572",
       "max": 36,
       "style": "IPY_MODEL_e81a6d93f330450590ecfe414b96ab55",
       "value": 36
      }
     },
     "c928e8a13af945b491c6842ecf815236": {
      "model_module": "@jupyter-widgets/base",
      "model_module_version": "1.2.0",
      "model_name": "LayoutModel",
      "state": {}
     },
     "c94ed188278847faa27338e3c914baac": {
      "model_module": "@jupyter-widgets/controls",
      "model_module_version": "1.5.0",
      "model_name": "DescriptionStyleModel",
      "state": {
       "description_width": ""
      }
     },
     "cb26ddaa6974488cae1b2713ea5d974b": {
      "model_module": "@jupyter-widgets/base",
      "model_module_version": "1.2.0",
      "model_name": "LayoutModel",
      "state": {}
     },
     "cb89db3e25854403ada58ef94f4aa85f": {
      "model_module": "@jupyter-widgets/controls",
      "model_module_version": "1.5.0",
      "model_name": "ProgressStyleModel",
      "state": {
       "description_width": "initial"
      }
     },
     "cdc378682dfa46858da4da389f6568d7": {
      "model_module": "@jupyter-widgets/controls",
      "model_module_version": "1.5.0",
      "model_name": "DescriptionStyleModel",
      "state": {
       "description_width": ""
      }
     },
     "d21fb64220fc4bf1a928ddbea81df440": {
      "model_module": "@jupyter-widgets/controls",
      "model_module_version": "1.5.0",
      "model_name": "DescriptionStyleModel",
      "state": {
       "description_width": ""
      }
     },
     "d3d6742fea164d1a9a0270b2c4178a88": {
      "model_module": "@jupyter-widgets/base",
      "model_module_version": "1.2.0",
      "model_name": "LayoutModel",
      "state": {}
     },
     "d5e4744b929444e68654bc70f33aedff": {
      "model_module": "@jupyter-widgets/controls",
      "model_module_version": "1.5.0",
      "model_name": "HBoxModel",
      "state": {
       "children": [
        "IPY_MODEL_ddf3e8f90ac247e0a76531de8fd38812",
        "IPY_MODEL_505a8376179143cc8101339fe1125817"
       ],
       "layout": "IPY_MODEL_4055ff97f8944abf80c1f1c9549e0f01"
      }
     },
     "d7c64d3ed8dd43dda98e4fba5cc09db9": {
      "model_module": "@jupyter-widgets/controls",
      "model_module_version": "1.5.0",
      "model_name": "ProgressStyleModel",
      "state": {
       "description_width": "initial"
      }
     },
     "d95f7665b75c4b49abedc8c019068497": {
      "model_module": "@jupyter-widgets/base",
      "model_module_version": "1.2.0",
      "model_name": "LayoutModel",
      "state": {}
     },
     "dcf90c35bffd45db93089cb5dd6d3bd4": {
      "model_module": "@jupyter-widgets/controls",
      "model_module_version": "1.5.0",
      "model_name": "HTMLModel",
      "state": {
       "layout": "IPY_MODEL_06db44f673a046dbbebf9d3cea253439",
       "style": "IPY_MODEL_55d1c8a5eaf94cfa83c82acad6ff1cde",
       "value": " 36/36 [00:14&lt;00:00,  2.51cell/s]"
      }
     },
     "ddf3e8f90ac247e0a76531de8fd38812": {
      "model_module": "@jupyter-widgets/controls",
      "model_module_version": "1.5.0",
      "model_name": "FloatProgressModel",
      "state": {
       "bar_style": "success",
       "description": "Executing: 100%",
       "layout": "IPY_MODEL_e7c156ca4fbd4ac5a1fa4a653897892f",
       "max": 36,
       "style": "IPY_MODEL_08495bd3040042b6a3e988d943290fdb",
       "value": 36
      }
     },
     "e033447cfe5741f3acad753ccf921527": {
      "model_module": "@jupyter-widgets/controls",
      "model_module_version": "1.5.0",
      "model_name": "HBoxModel",
      "state": {
       "children": [
        "IPY_MODEL_68033e2de2904a60a08154969680f09b",
        "IPY_MODEL_0b4166058c514d06b3141f70ae654df6"
       ],
       "layout": "IPY_MODEL_390b362efd4c4044810bc8efcc64bf25"
      }
     },
     "e0618ae1cf2b4ad0a618248e6231fb0e": {
      "model_module": "@jupyter-widgets/controls",
      "model_module_version": "1.5.0",
      "model_name": "HTMLModel",
      "state": {
       "layout": "IPY_MODEL_7b9a90876fb04339a5d8a2ee82fe4238",
       "style": "IPY_MODEL_cdc378682dfa46858da4da389f6568d7",
       "value": " 36/36 [00:35&lt;00:00,  1.01cell/s]"
      }
     },
     "e50d646a36bf4982aab5ea769a0702d0": {
      "model_module": "@jupyter-widgets/controls",
      "model_module_version": "1.5.0",
      "model_name": "FloatProgressModel",
      "state": {
       "bar_style": "success",
       "description": "Executing: 100%",
       "layout": "IPY_MODEL_e950358de9194d21b6ace7c8900a24f3",
       "max": 36,
       "style": "IPY_MODEL_653c3a2e002f48e484ef853affe488ee",
       "value": 36
      }
     },
     "e5bf0117baf94266bddbaf3949768b34": {
      "model_module": "@jupyter-widgets/controls",
      "model_module_version": "1.5.0",
      "model_name": "HBoxModel",
      "state": {
       "children": [
        "IPY_MODEL_7e0e6e7cedc04205bcdc14ab40be6ea7",
        "IPY_MODEL_3610d3b8f3434e57827568f0fed12b03"
       ],
       "layout": "IPY_MODEL_8d1fa6e675684a7d84d0c006357d2293"
      }
     },
     "e7251bbf082041b1b77915e97efb64a5": {
      "model_module": "@jupyter-widgets/base",
      "model_module_version": "1.2.0",
      "model_name": "LayoutModel",
      "state": {}
     },
     "e7c156ca4fbd4ac5a1fa4a653897892f": {
      "model_module": "@jupyter-widgets/base",
      "model_module_version": "1.2.0",
      "model_name": "LayoutModel",
      "state": {}
     },
     "e81a6d93f330450590ecfe414b96ab55": {
      "model_module": "@jupyter-widgets/controls",
      "model_module_version": "1.5.0",
      "model_name": "ProgressStyleModel",
      "state": {
       "description_width": "initial"
      }
     },
     "e855a31d955e4b1e8403f5eb7c6cf619": {
      "model_module": "@jupyter-widgets/base",
      "model_module_version": "1.2.0",
      "model_name": "LayoutModel",
      "state": {}
     },
     "e950358de9194d21b6ace7c8900a24f3": {
      "model_module": "@jupyter-widgets/base",
      "model_module_version": "1.2.0",
      "model_name": "LayoutModel",
      "state": {}
     },
     "ea35e1debeaf46efa91fd06dc63acb64": {
      "model_module": "@jupyter-widgets/base",
      "model_module_version": "1.2.0",
      "model_name": "LayoutModel",
      "state": {}
     },
     "ec88146278c148559110218771bcca46": {
      "model_module": "@jupyter-widgets/base",
      "model_module_version": "1.2.0",
      "model_name": "LayoutModel",
      "state": {}
     },
     "f0c0b5bcc3854c0bbbbc2ec1dd3562b6": {
      "model_module": "@jupyter-widgets/base",
      "model_module_version": "1.2.0",
      "model_name": "LayoutModel",
      "state": {}
     },
     "f244cda46c3e48a2a50a0bdee084e6c8": {
      "model_module": "@jupyter-widgets/controls",
      "model_module_version": "1.5.0",
      "model_name": "ProgressStyleModel",
      "state": {
       "description_width": "initial"
      }
     },
     "f31ff28e711b4cf5804f0d37b48127a8": {
      "model_module": "@jupyter-widgets/controls",
      "model_module_version": "1.5.0",
      "model_name": "ProgressStyleModel",
      "state": {
       "description_width": "initial"
      }
     },
     "f336f9235ff54fcaa734c95d371b956b": {
      "model_module": "@jupyter-widgets/base",
      "model_module_version": "1.2.0",
      "model_name": "LayoutModel",
      "state": {}
     },
     "f3e4157729f849cba31de22c2899a7b3": {
      "model_module": "@jupyter-widgets/base",
      "model_module_version": "1.2.0",
      "model_name": "LayoutModel",
      "state": {}
     },
     "f7cee86219d9417d82742e1e5f5c9949": {
      "model_module": "@jupyter-widgets/controls",
      "model_module_version": "1.5.0",
      "model_name": "ProgressStyleModel",
      "state": {
       "description_width": "initial"
      }
     },
     "fa112141c7e44389ad1cb1b193580636": {
      "model_module": "@jupyter-widgets/controls",
      "model_module_version": "1.5.0",
      "model_name": "FloatProgressModel",
      "state": {
       "bar_style": "success",
       "description": "Executing: 100%",
       "layout": "IPY_MODEL_869f40c9ac914e11800804c5daf964be",
       "max": 36,
       "style": "IPY_MODEL_096b613476954312be82f58f06d45613",
       "value": 36
      }
     }
    },
    "version_major": 2,
    "version_minor": 0
   }
  }
 },
 "nbformat": 4,
 "nbformat_minor": 4
}
