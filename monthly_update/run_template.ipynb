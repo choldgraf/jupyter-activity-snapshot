{
 "cells": [
  {
   "cell_type": "code",
   "execution_count": 1,
   "metadata": {
    "tags": []
   },
   "outputs": [],
   "source": [
    "import os\n",
    "import os.path as op\n",
    "from datetime import timedelta\n",
    "from pathlib import Path\n",
    "\n",
    "import nbformat as nbf\n",
    "import pandas as pd\n",
    "import papermill as pm"
   ]
  },
  {
   "cell_type": "code",
   "execution_count": 2,
   "metadata": {
    "tags": []
   },
   "outputs": [],
   "source": [
    "# Parameters to use later\n",
    "github_orgs = [\"jupyter-book\", \"jupyterlab\", \"jupyterhub\", \"jupyter\", \"jupyter-server\"]\n",
    "url_base = \"https://github.com/choldgraf/os-issues/releases/download/latest/{org}.db\"\n",
    "path_data = Path(\"../data/\")\n",
    "redownload = True"
   ]
  },
  {
   "cell_type": "markdown",
   "metadata": {},
   "source": [
    "# Repository information"
   ]
  },
  {
   "cell_type": "code",
   "execution_count": 3,
   "metadata": {
    "tags": []
   },
   "outputs": [],
   "source": [
    "# Last 3 months\n",
    "n_days = 90"
   ]
  },
  {
   "cell_type": "markdown",
   "metadata": {
    "user_expressions": []
   },
   "source": [
    "## Fetch latest data\n",
    "\n",
    "In this case, we do not save the output notebook because it's just meant for execution."
   ]
  },
  {
   "cell_type": "code",
   "execution_count": 4,
   "metadata": {},
   "outputs": [],
   "source": [
    "from pooch import retrieve\n",
    "from pathlib import Path"
   ]
  },
  {
   "cell_type": "code",
   "execution_count": 5,
   "metadata": {
    "editable": true,
    "slideshow": {
     "slide_type": ""
    },
    "tags": []
   },
   "outputs": [
    {
     "name": "stderr",
     "output_type": "stream",
     "text": [
      "Downloading data from 'https://github.com/choldgraf/os-issues/releases/download/latest/jupyter-book.db' to file '/Users/choldgraf/github/choldgraf/jupyter-activity-snapshot/data/612f67cbff44837826a10e815fa2f115-jupyter-book.db'.\n"
     ]
    },
    {
     "name": "stdout",
     "output_type": "stream",
     "text": [
      "Removing all files in ../data\n"
     ]
    },
    {
     "name": "stderr",
     "output_type": "stream",
     "text": [
      "SHA256 hash of downloaded file: 92a3dc3cfd4f9b9adebec86e1650d151dc7deb0060a436e78f83f43605455c98\n",
      "Use this value as the 'known_hash' argument of 'pooch.retrieve' to ensure that the file hasn't changed if it is downloaded again in the future.\n",
      "Downloading data from 'https://github.com/choldgraf/os-issues/releases/download/latest/jupyterlab.db' to file '/Users/choldgraf/github/choldgraf/jupyter-activity-snapshot/data/0e94c4215e649a3f19cab0230e5b1092-jupyterlab.db'.\n",
      "SHA256 hash of downloaded file: fb8e2045d2089787d6dd03ad27bbc510b06cccbde98dbd53b0a6f66ad346193a\n",
      "Use this value as the 'known_hash' argument of 'pooch.retrieve' to ensure that the file hasn't changed if it is downloaded again in the future.\n",
      "Downloading data from 'https://github.com/choldgraf/os-issues/releases/download/latest/jupyterhub.db' to file '/Users/choldgraf/github/choldgraf/jupyter-activity-snapshot/data/b17533c20a0cb25819e64a0a32c0f5f5-jupyterhub.db'.\n",
      "SHA256 hash of downloaded file: 994c1786114592177c44e4e4d7e7e4504ebf003809a925e01b39efc857b65401\n",
      "Use this value as the 'known_hash' argument of 'pooch.retrieve' to ensure that the file hasn't changed if it is downloaded again in the future.\n",
      "Downloading data from 'https://github.com/choldgraf/os-issues/releases/download/latest/jupyter.db' to file '/Users/choldgraf/github/choldgraf/jupyter-activity-snapshot/data/9edfdc2b0b0cf4987293f0d8604d009e-jupyter.db'.\n",
      "SHA256 hash of downloaded file: 7f98d93476dacc65e6483d86b0126fe2dee7cbbdcf3b1d2aa535248d619d2b47\n",
      "Use this value as the 'known_hash' argument of 'pooch.retrieve' to ensure that the file hasn't changed if it is downloaded again in the future.\n",
      "Downloading data from 'https://github.com/choldgraf/os-issues/releases/download/latest/jupyter-server.db' to file '/Users/choldgraf/github/choldgraf/jupyter-activity-snapshot/data/b0cc46e05ac6a93978539fc404bc6ea4-jupyter-server.db'.\n",
      "SHA256 hash of downloaded file: 51d1344608d1b083004cfde062bd07e880c81ed036a4576b82bacb87553cf6ff\n",
      "Use this value as the 'known_hash' argument of 'pooch.retrieve' to ensure that the file hasn't changed if it is downloaded again in the future.\n"
     ]
    }
   ],
   "source": [
    "if redownload is True:\n",
    "    print(f\"Removing all files in {path_data}\")\n",
    "    for ifile in path_data.rglob(\"*.db\"):\n",
    "        ifile.unlink()\n",
    "\n",
    "for org in github_orgs:\n",
    "    iurl = url_base.format(org=org)\n",
    "    retrieve(iurl, known_hash=None, path=\"./data\")"
   ]
  },
  {
   "cell_type": "markdown",
   "metadata": {
    "user_expressions": []
   },
   "source": [
    "## Generate a book from the data"
   ]
  },
  {
   "cell_type": "code",
   "execution_count": 6,
   "metadata": {
    "editable": true,
    "slideshow": {
     "slide_type": ""
    },
    "tags": []
   },
   "outputs": [
    {
     "data": {
      "application/vnd.jupyter.widget-view+json": {
       "model_id": "5a683fb487b9421691ce838261253277",
       "version_major": 2,
       "version_minor": 0
      },
      "text/plain": [
       "Executing:   0%|          | 0/39 [00:00<?, ?cell/s]"
      ]
     },
     "metadata": {},
     "output_type": "display_data"
    },
    {
     "data": {
      "application/vnd.jupyter.widget-view+json": {
       "model_id": "51725acfdc16400aadae507ee6409dd9",
       "version_major": 2,
       "version_minor": 0
      },
      "text/plain": [
       "Executing:   0%|          | 0/39 [00:00<?, ?cell/s]"
      ]
     },
     "metadata": {},
     "output_type": "display_data"
    },
    {
     "data": {
      "application/vnd.jupyter.widget-view+json": {
       "model_id": "e61f770439344154999ef759f4ade4a6",
       "version_major": 2,
       "version_minor": 0
      },
      "text/plain": [
       "Executing:   0%|          | 0/39 [00:00<?, ?cell/s]"
      ]
     },
     "metadata": {},
     "output_type": "display_data"
    },
    {
     "data": {
      "application/vnd.jupyter.widget-view+json": {
       "model_id": "8b09ae75a7854590bdae1677590d7d81",
       "version_major": 2,
       "version_minor": 0
      },
      "text/plain": [
       "Executing:   0%|          | 0/39 [00:00<?, ?cell/s]"
      ]
     },
     "metadata": {},
     "output_type": "display_data"
    },
    {
     "data": {
      "application/vnd.jupyter.widget-view+json": {
       "model_id": "f9dee91346214dbaa8e456f29ce54379",
       "version_major": 2,
       "version_minor": 0
      },
      "text/plain": [
       "Executing:   0%|          | 0/39 [00:00<?, ?cell/s]"
      ]
     },
     "metadata": {},
     "output_type": "display_data"
    }
   ],
   "source": [
    "path_book = Path(\"generated/book\")\n",
    "for org in github_orgs:\n",
    "    parameters = dict(github_org=org, n_days=n_days)\n",
    "    path_out = path_book.joinpath(f\"{org}.ipynb\")\n",
    "    ntbk = pm.execute_notebook(\n",
    "        \"./templates/org_report.ipynb\",\n",
    "        str(path_out),\n",
    "        parameters=parameters,\n",
    "        nest_asyncio=True,\n",
    "        cwd=\"./templates/\",\n",
    "    )\n",
    "\n",
    "    # Remove the param cell so it doesn't show up\n",
    "    (param_cell,) = [\n",
    "        cell for cell in ntbk.cells if \"injected-parameters\" in cell.metadata.tags\n",
    "    ]\n",
    "    param_cell.metadata.tags.append(\"remove-cell\")\n",
    "    nbs = nbf.writes(ntbk)\n",
    "    nbs = nbs.replace(\"{{ github_org }}\", org)\n",
    "    path_out.write_text(nbs)"
   ]
  },
  {
   "cell_type": "markdown",
   "metadata": {
    "editable": true,
    "slideshow": {
     "slide_type": ""
    },
    "tags": []
   },
   "source": [
    "# People reports"
   ]
  },
  {
   "cell_type": "code",
   "execution_count": 7,
   "metadata": {},
   "outputs": [
    {
     "name": "stderr",
     "output_type": "stream",
     "text": [
      "Unable to parse line 5 'start_date = fmt_date.format(pd.datetime.today() - timedelta(days=n_days))'.\n"
     ]
    },
    {
     "data": {
      "application/vnd.jupyter.widget-view+json": {
       "model_id": "b2b1d010eaa247618ff853677e51e9b0",
       "version_major": 2,
       "version_minor": 0
      },
      "text/plain": [
       "Executing:   0%|          | 0/24 [00:00<?, ?cell/s]"
      ]
     },
     "metadata": {},
     "output_type": "display_data"
    },
    {
     "ename": "PapermillExecutionError",
     "evalue": "\n---------------------------------------------------------------------------\nException encountered at \"In [3]\":\n---------------------------------------------------------------------------\nAttributeError                            Traceback (most recent call last)\nCell In[3], line 5\n      2 fmt_date = \"{:%Y-%m-%d}\"\n      4 n_days = 30 * 2\n----> 5 start_date = fmt_date.format(pd.datetime.today() - timedelta(days=n_days))\n      6 end_date = fmt_date.format(pd.datetime.today())\n      8 renderer = \"html\"\n\nAttributeError: module 'pandas' has no attribute 'datetime'\n",
     "output_type": "error",
     "traceback": [
      "\u001b[0;31m---------------------------------------------------------------------------\u001b[0m",
      "\u001b[0;31mPapermillExecutionError\u001b[0m                   Traceback (most recent call last)",
      "Cell \u001b[0;32mIn[7], line 15\u001b[0m\n\u001b[1;32m     13\u001b[0m parameters \u001b[38;5;241m=\u001b[39m \u001b[38;5;28mdict\u001b[39m(person\u001b[38;5;241m=\u001b[39mperson, n_days\u001b[38;5;241m=\u001b[39mn_days)\n\u001b[1;32m     14\u001b[0m path_out \u001b[38;5;241m=\u001b[39m path_people\u001b[38;5;241m.\u001b[39mjoinpath(\u001b[38;5;124mf\u001b[39m\u001b[38;5;124m\"\u001b[39m\u001b[38;5;132;01m{\u001b[39;00mperson\u001b[38;5;132;01m}\u001b[39;00m\u001b[38;5;124m.ipynb\u001b[39m\u001b[38;5;124m\"\u001b[39m)\n\u001b[0;32m---> 15\u001b[0m ntbk \u001b[38;5;241m=\u001b[39m \u001b[43mpm\u001b[49m\u001b[38;5;241;43m.\u001b[39;49m\u001b[43mexecute_notebook\u001b[49m\u001b[43m(\u001b[49m\n\u001b[1;32m     16\u001b[0m \u001b[43m    \u001b[49m\u001b[38;5;124;43m\"\u001b[39;49m\u001b[38;5;124;43m./templates/person_report.ipynb\u001b[39;49m\u001b[38;5;124;43m\"\u001b[39;49m\u001b[43m,\u001b[49m\n\u001b[1;32m     17\u001b[0m \u001b[43m    \u001b[49m\u001b[38;5;28;43mstr\u001b[39;49m\u001b[43m(\u001b[49m\u001b[43mpath_out\u001b[49m\u001b[43m)\u001b[49m\u001b[43m,\u001b[49m\n\u001b[1;32m     18\u001b[0m \u001b[43m    \u001b[49m\u001b[43mcwd\u001b[49m\u001b[38;5;241;43m=\u001b[39;49m\u001b[38;5;124;43m\"\u001b[39;49m\u001b[38;5;124;43m./templates/\u001b[39;49m\u001b[38;5;124;43m\"\u001b[39;49m\u001b[43m,\u001b[49m\n\u001b[1;32m     19\u001b[0m \u001b[43m    \u001b[49m\u001b[43mparameters\u001b[49m\u001b[38;5;241;43m=\u001b[39;49m\u001b[43mparameters\u001b[49m\u001b[43m,\u001b[49m\n\u001b[1;32m     20\u001b[0m \u001b[43m    \u001b[49m\u001b[43mnest_asyncio\u001b[49m\u001b[38;5;241;43m=\u001b[39;49m\u001b[38;5;28;43;01mTrue\u001b[39;49;00m\u001b[43m,\u001b[49m\n\u001b[1;32m     21\u001b[0m \u001b[43m\u001b[49m\u001b[43m)\u001b[49m\n\u001b[1;32m     23\u001b[0m \u001b[38;5;66;03m# Remove the param cell so it doesn't show up\u001b[39;00m\n\u001b[1;32m     24\u001b[0m (param_cell,) \u001b[38;5;241m=\u001b[39m [\n\u001b[1;32m     25\u001b[0m     cell \u001b[38;5;28;01mfor\u001b[39;00m cell \u001b[38;5;129;01min\u001b[39;00m ntbk\u001b[38;5;241m.\u001b[39mcells \u001b[38;5;28;01mif\u001b[39;00m \u001b[38;5;124m\"\u001b[39m\u001b[38;5;124minjected-parameters\u001b[39m\u001b[38;5;124m\"\u001b[39m \u001b[38;5;129;01min\u001b[39;00m cell\u001b[38;5;241m.\u001b[39mmetadata\u001b[38;5;241m.\u001b[39mtags\n\u001b[1;32m     26\u001b[0m ]\n",
      "File \u001b[0;32m~/github/choldgraf/jupyter-activity-snapshot/.nox/lab/lib/python3.10/site-packages/papermill/execute.py:131\u001b[0m, in \u001b[0;36mexecute_notebook\u001b[0;34m(input_path, output_path, parameters, engine_name, request_save_on_cell_execute, prepare_only, kernel_name, language, progress_bar, log_output, stdout_file, stderr_file, start_timeout, report_mode, cwd, **engine_kwargs)\u001b[0m\n\u001b[1;32m    116\u001b[0m         nb \u001b[38;5;241m=\u001b[39m papermill_engines\u001b[38;5;241m.\u001b[39mexecute_notebook_with_engine(\n\u001b[1;32m    117\u001b[0m             engine_name,\n\u001b[1;32m    118\u001b[0m             nb,\n\u001b[0;32m   (...)\u001b[0m\n\u001b[1;32m    127\u001b[0m             \u001b[38;5;241m*\u001b[39m\u001b[38;5;241m*\u001b[39mengine_kwargs,\n\u001b[1;32m    128\u001b[0m         )\n\u001b[1;32m    130\u001b[0m     \u001b[38;5;66;03m# Check for errors first (it saves on error before raising)\u001b[39;00m\n\u001b[0;32m--> 131\u001b[0m     \u001b[43mraise_for_execution_errors\u001b[49m\u001b[43m(\u001b[49m\u001b[43mnb\u001b[49m\u001b[43m,\u001b[49m\u001b[43m \u001b[49m\u001b[43moutput_path\u001b[49m\u001b[43m)\u001b[49m\n\u001b[1;32m    133\u001b[0m \u001b[38;5;66;03m# Write final output in case the engine didn't write it on cell completion.\u001b[39;00m\n\u001b[1;32m    134\u001b[0m write_ipynb(nb, output_path)\n",
      "File \u001b[0;32m~/github/choldgraf/jupyter-activity-snapshot/.nox/lab/lib/python3.10/site-packages/papermill/execute.py:251\u001b[0m, in \u001b[0;36mraise_for_execution_errors\u001b[0;34m(nb, output_path)\u001b[0m\n\u001b[1;32m    248\u001b[0m nb\u001b[38;5;241m.\u001b[39mcells\u001b[38;5;241m.\u001b[39minsert(\u001b[38;5;241m0\u001b[39m, error_msg_cell)\n\u001b[1;32m    250\u001b[0m write_ipynb(nb, output_path)\n\u001b[0;32m--> 251\u001b[0m \u001b[38;5;28;01mraise\u001b[39;00m error\n",
      "\u001b[0;31mPapermillExecutionError\u001b[0m: \n---------------------------------------------------------------------------\nException encountered at \"In [3]\":\n---------------------------------------------------------------------------\nAttributeError                            Traceback (most recent call last)\nCell In[3], line 5\n      2 fmt_date = \"{:%Y-%m-%d}\"\n      4 n_days = 30 * 2\n----> 5 start_date = fmt_date.format(pd.datetime.today() - timedelta(days=n_days))\n      6 end_date = fmt_date.format(pd.datetime.today())\n      8 renderer = \"html\"\n\nAttributeError: module 'pandas' has no attribute 'datetime'\n"
     ]
    }
   ],
   "source": [
    "# people = [\n",
    "#     \"choldgraf\",\n",
    "#     \"betatim\",\n",
    "#     \"GeorgianaElena\",\n",
    "#     \"yuvipanda\",\n",
    "#     \"consideRatio\",\n",
    "#     \"chrisjsewell\",\n",
    "#     \"AakashGfude\",\n",
    "#     \"mmcky\",\n",
    "# ]\n",
    "# path_people = Path(\"generated/people\")\n",
    "# for person in people:\n",
    "#     parameters = dict(person=person, n_days=n_days)\n",
    "#     path_out = path_people.joinpath(f\"{person}.ipynb\")\n",
    "#     ntbk = pm.execute_notebook(\n",
    "#         \"./templates/person_report.ipynb\",\n",
    "#         str(path_out),\n",
    "#         cwd=\"./templates/\",\n",
    "#         parameters=parameters,\n",
    "#         nest_asyncio=True,\n",
    "#     )\n",
    "\n",
    "#     # Remove the param cell so it doesn't show up\n",
    "#     (param_cell,) = [\n",
    "#         cell for cell in ntbk.cells if \"injected-parameters\" in cell.metadata.tags\n",
    "#     ]\n",
    "#     param_cell.metadata.tags.append(\"remove-cell\")\n",
    "#     nbs = nbf.writes(ntbk)\n",
    "#     nbs = nbs.replace(\"{{ person }}\", person)\n",
    "#     path_out.write_text(nbs)"
   ]
  }
 ],
 "metadata": {
  "kernelspec": {
   "display_name": "Python 3 (ipykernel)",
   "language": "python",
   "name": "python3"
  },
  "language_info": {
   "codemirror_mode": {
    "name": "ipython",
    "version": 3
   },
   "file_extension": ".py",
   "mimetype": "text/x-python",
   "name": "python",
   "nbconvert_exporter": "python",
   "pygments_lexer": "ipython3",
   "version": "3.10.14"
  },
  "widgets": {
   "application/vnd.jupyter.widget-state+json": {
    "state": {
     "06796c8c2ca5461cafa952ad8241f148": {
      "model_module": "@jupyter-widgets/controls",
      "model_module_version": "1.5.0",
      "model_name": "FloatProgressModel",
      "state": {
       "bar_style": "success",
       "description": "Executing: 100%",
       "layout": "IPY_MODEL_fa3321bb303c4929a905527e7070b70e",
       "max": 24,
       "style": "IPY_MODEL_655873ac871c485ab0ee28754a078184",
       "value": 24
      }
     },
     "07ede8b767ad43a29d472c47160b72bb": {
      "model_module": "@jupyter-widgets/base",
      "model_module_version": "1.2.0",
      "model_name": "LayoutModel",
      "state": {}
     },
     "0dc22b5caa7842f1a2dd27d1f98863a6": {
      "model_module": "@jupyter-widgets/controls",
      "model_module_version": "1.5.0",
      "model_name": "ProgressStyleModel",
      "state": {
       "description_width": "initial"
      }
     },
     "122e7780a384465e86cb09b43e3c6c66": {
      "model_module": "@jupyter-widgets/base",
      "model_module_version": "1.2.0",
      "model_name": "LayoutModel",
      "state": {}
     },
     "1a23cdf85ad04f6ca6f2a84fe27e733a": {
      "model_module": "@jupyter-widgets/controls",
      "model_module_version": "1.5.0",
      "model_name": "DescriptionStyleModel",
      "state": {
       "description_width": ""
      }
     },
     "1c91e8a9ddc747df982e6190e154cfc8": {
      "model_module": "@jupyter-widgets/controls",
      "model_module_version": "1.5.0",
      "model_name": "DescriptionStyleModel",
      "state": {
       "description_width": ""
      }
     },
     "224be21a4f0347998b9a3756e0d83a74": {
      "model_module": "@jupyter-widgets/base",
      "model_module_version": "1.2.0",
      "model_name": "LayoutModel",
      "state": {}
     },
     "27fe8fa67e044376a585a968f99e67cd": {
      "model_module": "@jupyter-widgets/base",
      "model_module_version": "1.2.0",
      "model_name": "LayoutModel",
      "state": {}
     },
     "2df5fd05e2c64f768a262df951ca3bc3": {
      "model_module": "@jupyter-widgets/controls",
      "model_module_version": "1.5.0",
      "model_name": "HBoxModel",
      "state": {
       "children": [
        "IPY_MODEL_4dab186a11184adfb1911553f1a54f11",
        "IPY_MODEL_36e13d632a60464e94c889143d34a21e"
       ],
       "layout": "IPY_MODEL_bd00078966474ac581b1bdc9e40c53e5"
      }
     },
     "348ba59269d34b1d8841553a848e20c2": {
      "model_module": "@jupyter-widgets/controls",
      "model_module_version": "1.5.0",
      "model_name": "DescriptionStyleModel",
      "state": {
       "description_width": ""
      }
     },
     "36e13d632a60464e94c889143d34a21e": {
      "model_module": "@jupyter-widgets/controls",
      "model_module_version": "1.5.0",
      "model_name": "HTMLModel",
      "state": {
       "layout": "IPY_MODEL_e8b49ec848be4b70a03356b315c70e71",
       "style": "IPY_MODEL_1a23cdf85ad04f6ca6f2a84fe27e733a",
       "value": " 24/24 [00:06&lt;00:00,  3.86cell/s]"
      }
     },
     "3b304003aa5b42dc94eb2c6e674c4242": {
      "model_module": "@jupyter-widgets/base",
      "model_module_version": "1.2.0",
      "model_name": "LayoutModel",
      "state": {}
     },
     "45af324d114c487db0c1f8d263018402": {
      "model_module": "@jupyter-widgets/controls",
      "model_module_version": "1.5.0",
      "model_name": "FloatProgressModel",
      "state": {
       "bar_style": "success",
       "description": "Executing: 100%",
       "layout": "IPY_MODEL_8eef786c800c4bc196f478410b60c7f0",
       "max": 24,
       "style": "IPY_MODEL_0dc22b5caa7842f1a2dd27d1f98863a6",
       "value": 24
      }
     },
     "4b2224aaf66c4ee7b1f38579a31de2e9": {
      "model_module": "@jupyter-widgets/base",
      "model_module_version": "1.2.0",
      "model_name": "LayoutModel",
      "state": {}
     },
     "4dab186a11184adfb1911553f1a54f11": {
      "model_module": "@jupyter-widgets/controls",
      "model_module_version": "1.5.0",
      "model_name": "FloatProgressModel",
      "state": {
       "bar_style": "success",
       "description": "Executing: 100%",
       "layout": "IPY_MODEL_07ede8b767ad43a29d472c47160b72bb",
       "max": 24,
       "style": "IPY_MODEL_ac64834dc33848aa8cdad3e16e5dab24",
       "value": 24
      }
     },
     "4f6bad5f88db41b68d80e7c9132cc3f4": {
      "model_module": "@jupyter-widgets/controls",
      "model_module_version": "1.5.0",
      "model_name": "FloatProgressModel",
      "state": {
       "bar_style": "success",
       "description": "Executing: 100%",
       "layout": "IPY_MODEL_fba72603fa3c4d5c8c5c00bb7b7e697f",
       "max": 24,
       "style": "IPY_MODEL_d937263aae114f5e9697755d45b8d042",
       "value": 24
      }
     },
     "524611edb5a143afa86a78c53920bcc8": {
      "model_module": "@jupyter-widgets/controls",
      "model_module_version": "1.5.0",
      "model_name": "FloatProgressModel",
      "state": {
       "bar_style": "success",
       "description": "Executing: 100%",
       "layout": "IPY_MODEL_8e8b4639e1f34a8b9688ee8d407c4c50",
       "max": 24,
       "style": "IPY_MODEL_9a70e96d503543bb898cfe9258b22e05",
       "value": 24
      }
     },
     "5950032cddf74fdaba0b733e97e2a837": {
      "model_module": "@jupyter-widgets/controls",
      "model_module_version": "1.5.0",
      "model_name": "HTMLModel",
      "state": {
       "layout": "IPY_MODEL_f2790593cf4f43ed81502512ef74213a",
       "style": "IPY_MODEL_1c91e8a9ddc747df982e6190e154cfc8",
       "value": " 24/24 [00:08&lt;00:00,  2.90cell/s]"
      }
     },
     "5f61f954233a4f7b94ac5885e7a72b4b": {
      "model_module": "@jupyter-widgets/base",
      "model_module_version": "1.2.0",
      "model_name": "LayoutModel",
      "state": {}
     },
     "655873ac871c485ab0ee28754a078184": {
      "model_module": "@jupyter-widgets/controls",
      "model_module_version": "1.5.0",
      "model_name": "ProgressStyleModel",
      "state": {
       "description_width": "initial"
      }
     },
     "6cdbb6997b3d45ebac53bd7c125566fe": {
      "model_module": "@jupyter-widgets/base",
      "model_module_version": "1.2.0",
      "model_name": "LayoutModel",
      "state": {}
     },
     "8e8b4639e1f34a8b9688ee8d407c4c50": {
      "model_module": "@jupyter-widgets/base",
      "model_module_version": "1.2.0",
      "model_name": "LayoutModel",
      "state": {}
     },
     "8eef786c800c4bc196f478410b60c7f0": {
      "model_module": "@jupyter-widgets/base",
      "model_module_version": "1.2.0",
      "model_name": "LayoutModel",
      "state": {}
     },
     "99d86d52a11c4a1c881f0093e26264dc": {
      "model_module": "@jupyter-widgets/controls",
      "model_module_version": "1.5.0",
      "model_name": "HBoxModel",
      "state": {
       "children": [
        "IPY_MODEL_45af324d114c487db0c1f8d263018402",
        "IPY_MODEL_5950032cddf74fdaba0b733e97e2a837"
       ],
       "layout": "IPY_MODEL_5f61f954233a4f7b94ac5885e7a72b4b"
      }
     },
     "9a70e96d503543bb898cfe9258b22e05": {
      "model_module": "@jupyter-widgets/controls",
      "model_module_version": "1.5.0",
      "model_name": "ProgressStyleModel",
      "state": {
       "description_width": "initial"
      }
     },
     "a68722bc22db44a8b9a9c0f469670529": {
      "model_module": "@jupyter-widgets/controls",
      "model_module_version": "1.5.0",
      "model_name": "HTMLModel",
      "state": {
       "layout": "IPY_MODEL_27fe8fa67e044376a585a968f99e67cd",
       "style": "IPY_MODEL_348ba59269d34b1d8841553a848e20c2",
       "value": " 24/24 [00:05&lt;00:00,  4.75cell/s]"
      }
     },
     "ac64834dc33848aa8cdad3e16e5dab24": {
      "model_module": "@jupyter-widgets/controls",
      "model_module_version": "1.5.0",
      "model_name": "ProgressStyleModel",
      "state": {
       "description_width": "initial"
      }
     },
     "b38ce05b270740e9bf6e9befb28fb469": {
      "model_module": "@jupyter-widgets/controls",
      "model_module_version": "1.5.0",
      "model_name": "HTMLModel",
      "state": {
       "layout": "IPY_MODEL_224be21a4f0347998b9a3756e0d83a74",
       "style": "IPY_MODEL_f717a19b5cc74aa4ab40b798cf763aba",
       "value": " 24/24 [00:04&lt;00:00,  4.90cell/s]"
      }
     },
     "bd00078966474ac581b1bdc9e40c53e5": {
      "model_module": "@jupyter-widgets/base",
      "model_module_version": "1.2.0",
      "model_name": "LayoutModel",
      "state": {}
     },
     "d681b48e1f6a4254b83c7d246bba5400": {
      "model_module": "@jupyter-widgets/controls",
      "model_module_version": "1.5.0",
      "model_name": "HBoxModel",
      "state": {
       "children": [
        "IPY_MODEL_524611edb5a143afa86a78c53920bcc8",
        "IPY_MODEL_b38ce05b270740e9bf6e9befb28fb469"
       ],
       "layout": "IPY_MODEL_6cdbb6997b3d45ebac53bd7c125566fe"
      }
     },
     "d937263aae114f5e9697755d45b8d042": {
      "model_module": "@jupyter-widgets/controls",
      "model_module_version": "1.5.0",
      "model_name": "ProgressStyleModel",
      "state": {
       "description_width": "initial"
      }
     },
     "e084c71adb324a46a0486bed1019ddd4": {
      "model_module": "@jupyter-widgets/controls",
      "model_module_version": "1.5.0",
      "model_name": "HTMLModel",
      "state": {
       "layout": "IPY_MODEL_3b304003aa5b42dc94eb2c6e674c4242",
       "style": "IPY_MODEL_f55a6f12d41c44d9b6be66b3b2df8065",
       "value": " 24/24 [00:04&lt;00:00,  4.92cell/s]"
      }
     },
     "e1fd695dc67240f1ac1e7d229a04031d": {
      "model_module": "@jupyter-widgets/controls",
      "model_module_version": "1.5.0",
      "model_name": "HBoxModel",
      "state": {
       "children": [
        "IPY_MODEL_06796c8c2ca5461cafa952ad8241f148",
        "IPY_MODEL_e084c71adb324a46a0486bed1019ddd4"
       ],
       "layout": "IPY_MODEL_122e7780a384465e86cb09b43e3c6c66"
      }
     },
     "e8b49ec848be4b70a03356b315c70e71": {
      "model_module": "@jupyter-widgets/base",
      "model_module_version": "1.2.0",
      "model_name": "LayoutModel",
      "state": {}
     },
     "f20d93fe9c4844289b7b6b0567b2c2cf": {
      "model_module": "@jupyter-widgets/controls",
      "model_module_version": "1.5.0",
      "model_name": "HBoxModel",
      "state": {
       "children": [
        "IPY_MODEL_4f6bad5f88db41b68d80e7c9132cc3f4",
        "IPY_MODEL_a68722bc22db44a8b9a9c0f469670529"
       ],
       "layout": "IPY_MODEL_4b2224aaf66c4ee7b1f38579a31de2e9"
      }
     },
     "f2790593cf4f43ed81502512ef74213a": {
      "model_module": "@jupyter-widgets/base",
      "model_module_version": "1.2.0",
      "model_name": "LayoutModel",
      "state": {}
     },
     "f55a6f12d41c44d9b6be66b3b2df8065": {
      "model_module": "@jupyter-widgets/controls",
      "model_module_version": "1.5.0",
      "model_name": "DescriptionStyleModel",
      "state": {
       "description_width": ""
      }
     },
     "f717a19b5cc74aa4ab40b798cf763aba": {
      "model_module": "@jupyter-widgets/controls",
      "model_module_version": "1.5.0",
      "model_name": "DescriptionStyleModel",
      "state": {
       "description_width": ""
      }
     },
     "fa3321bb303c4929a905527e7070b70e": {
      "model_module": "@jupyter-widgets/base",
      "model_module_version": "1.2.0",
      "model_name": "LayoutModel",
      "state": {}
     },
     "fba72603fa3c4d5c8c5c00bb7b7e697f": {
      "model_module": "@jupyter-widgets/base",
      "model_module_version": "1.2.0",
      "model_name": "LayoutModel",
      "state": {}
     }
    },
    "version_major": 2,
    "version_minor": 0
   }
  }
 },
 "nbformat": 4,
 "nbformat_minor": 4
}
