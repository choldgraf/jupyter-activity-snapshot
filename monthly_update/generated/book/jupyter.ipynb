{
 "cells": [
  {
   "cell_type": "markdown",
   "id": "7a9b0003",
   "metadata": {
    "papermill": {
     "duration": 0.020858,
     "end_time": "2025-05-12T15:26:52.228577",
     "exception": false,
     "start_time": "2025-05-12T15:26:52.207719",
     "status": "completed"
    },
    "tags": []
   },
   "source": [
    "# {glue:text}`jupyter_github_org`\n",
    "\n",
    "**Activity from {glue:}`jupyter_start` to {glue:}`jupyter_stop`**"
   ]
  },
  {
   "cell_type": "code",
   "execution_count": 1,
   "id": "897ca5c9",
   "metadata": {
    "editable": true,
    "execution": {
     "iopub.execute_input": "2025-05-12T15:26:52.252334Z",
     "iopub.status.busy": "2025-05-12T15:26:52.252170Z",
     "iopub.status.idle": "2025-05-12T15:26:52.725544Z",
     "shell.execute_reply": "2025-05-12T15:26:52.725232Z"
    },
    "papermill": {
     "duration": 0.485016,
     "end_time": "2025-05-12T15:26:52.726483",
     "exception": false,
     "start_time": "2025-05-12T15:26:52.241467",
     "status": "completed"
    },
    "slideshow": {
     "slide_type": ""
    },
    "tags": [
     "remove_cell"
    ]
   },
   "outputs": [],
   "source": [
    "from datetime import date\n",
    "from dateutil.relativedelta import relativedelta\n",
    "from myst_nb import glue\n",
    "import seaborn as sns\n",
    "import pandas as pd\n",
    "import numpy as np\n",
    "import altair as alt\n",
    "from markdown import markdown\n",
    "from IPython.display import Markdown\n",
    "from ipywidgets.widgets import HTML, Tab\n",
    "from ipywidgets import widgets\n",
    "from datetime import timedelta\n",
    "from matplotlib import pyplot as plt\n",
    "import os.path as op\n",
    "from json import loads\n",
    "\n",
    "from warnings import simplefilter\n",
    "simplefilter('ignore')\n",
    "pd.set_option('display.max_columns', None) # 'None' means show all"
   ]
  },
  {
   "cell_type": "code",
   "execution_count": 2,
   "id": "e5f719a7",
   "metadata": {
    "editable": true,
    "execution": {
     "iopub.execute_input": "2025-05-12T15:26:52.741148Z",
     "iopub.status.busy": "2025-05-12T15:26:52.740994Z",
     "iopub.status.idle": "2025-05-12T15:26:52.743858Z",
     "shell.execute_reply": "2025-05-12T15:26:52.743635Z"
    },
    "papermill": {
     "duration": 0.010942,
     "end_time": "2025-05-12T15:26:52.744578",
     "exception": false,
     "start_time": "2025-05-12T15:26:52.733636",
     "status": "completed"
    },
    "slideshow": {
     "slide_type": ""
    },
    "tags": [
     "remove_cell"
    ]
   },
   "outputs": [],
   "source": [
    "# Altair config\n",
    "def author_url(author):\n",
    "    return f\"https://github.com/{author}\"\n",
    "\n",
    "def alt_theme():\n",
    "    return {\n",
    "        'config': {\n",
    "            'axisLeft': {\n",
    "                'labelFontSize': 15,\n",
    "            },\n",
    "            'axisBottom': {\n",
    "                'labelFontSize': 15,\n",
    "            },\n",
    "        }\n",
    "    }\n",
    "\n",
    "alt.themes.register('my_theme', alt_theme)\n",
    "alt.themes.enable(\"my_theme\")\n",
    "\n",
    "\n",
    "# Define colors we'll use for GitHub membership\n",
    "author_types = ['MEMBER', 'CONTRIBUTOR', 'COLLABORATOR', \"NONE\"]\n",
    "\n",
    "author_palette = np.array(sns.palettes.blend_palette([\"lightgrey\", \"lightgreen\", \"darkgreen\"], 4)) * 256\n",
    "author_colors = [\"rgb({}, {}, {})\".format(*color) for color in author_palette]\n",
    "author_color_dict = {key: val for key, val in zip(author_types, author_palette)}"
   ]
  },
  {
   "cell_type": "code",
   "execution_count": 3,
   "id": "e806bd01",
   "metadata": {
    "editable": true,
    "execution": {
     "iopub.execute_input": "2025-05-12T15:26:52.758147Z",
     "iopub.status.busy": "2025-05-12T15:26:52.758049Z",
     "iopub.status.idle": "2025-05-12T15:26:52.759603Z",
     "shell.execute_reply": "2025-05-12T15:26:52.759395Z"
    },
    "papermill": {
     "duration": 0.009038,
     "end_time": "2025-05-12T15:26:52.760273",
     "exception": false,
     "start_time": "2025-05-12T15:26:52.751235",
     "status": "completed"
    },
    "slideshow": {
     "slide_type": ""
    },
    "tags": [
     "parameters",
     "hide_input",
     "remove_cell"
    ]
   },
   "outputs": [],
   "source": [
    "github_org = \"jupyterhub\"\n",
    "top_n_repos = 15\n",
    "n_days = 90"
   ]
  },
  {
   "cell_type": "code",
   "execution_count": 4,
   "id": "02b733fb",
   "metadata": {
    "execution": {
     "iopub.execute_input": "2025-05-12T15:26:52.774178Z",
     "iopub.status.busy": "2025-05-12T15:26:52.773973Z",
     "iopub.status.idle": "2025-05-12T15:26:52.775619Z",
     "shell.execute_reply": "2025-05-12T15:26:52.775393Z"
    },
    "papermill": {
     "duration": 0.009298,
     "end_time": "2025-05-12T15:26:52.776247",
     "exception": false,
     "start_time": "2025-05-12T15:26:52.766949",
     "status": "completed"
    },
    "tags": [
     "injected-parameters",
     "remove-cell"
    ]
   },
   "outputs": [],
   "source": [
    "# Parameters\n",
    "github_org = \"jupyter\"\n",
    "n_days = 90\n"
   ]
  },
  {
   "cell_type": "code",
   "execution_count": 5,
   "id": "834f8e0f",
   "metadata": {
    "editable": true,
    "execution": {
     "iopub.execute_input": "2025-05-12T15:26:52.790787Z",
     "iopub.status.busy": "2025-05-12T15:26:52.790590Z",
     "iopub.status.idle": "2025-05-12T15:26:52.800905Z",
     "shell.execute_reply": "2025-05-12T15:26:52.800671Z"
    },
    "papermill": {
     "duration": 0.018221,
     "end_time": "2025-05-12T15:26:52.801561",
     "exception": false,
     "start_time": "2025-05-12T15:26:52.783340",
     "status": "completed"
    },
    "slideshow": {
     "slide_type": ""
    },
    "tags": [
     "remove_cell"
    ]
   },
   "outputs": [
    {
     "data": {
      "application/papermill.record/text/plain": "'jupyter'"
     },
     "metadata": {
      "scrapbook": {
       "mime_prefix": "application/papermill.record/",
       "name": "jupyter_github_org"
      }
     },
     "output_type": "display_data"
    },
    {
     "data": {
      "application/papermill.record/text/plain": "'2025-02-11'"
     },
     "metadata": {
      "scrapbook": {
       "mime_prefix": "application/papermill.record/",
       "name": "jupyter_start"
      }
     },
     "output_type": "display_data"
    },
    {
     "data": {
      "application/papermill.record/text/plain": "'2025-05-12'"
     },
     "metadata": {
      "scrapbook": {
       "mime_prefix": "application/papermill.record/",
       "name": "jupyter_stop"
      }
     },
     "output_type": "display_data"
    }
   ],
   "source": [
    "############################################################\n",
    "# Variables\n",
    "stop = date.today()\n",
    "start = date.today() - relativedelta(days=n_days)\n",
    "\n",
    "# Strings for use in queries\n",
    "start_date = f\"{start:%Y-%m-%d}\"\n",
    "stop_date = f\"{stop:%Y-%m-%d}\"\n",
    "\n",
    "# Glue variables for use in markdown\n",
    "glue(f\"{github_org}_github_org\", github_org, display=False)\n",
    "glue(f\"{github_org}_start\", start_date, display=False)\n",
    "glue(f\"{github_org}_stop\", stop_date, display=False)"
   ]
  },
  {
   "cell_type": "markdown",
   "id": "0a57b366",
   "metadata": {
    "editable": true,
    "papermill": {
     "duration": 0.006533,
     "end_time": "2025-05-12T15:26:52.814914",
     "exception": false,
     "start_time": "2025-05-12T15:26:52.808381",
     "status": "completed"
    },
    "slideshow": {
     "slide_type": ""
    },
    "tags": []
   },
   "source": [
    "## Load data\n",
    "\n",
    "Load and clean up the data"
   ]
  },
  {
   "cell_type": "code",
   "execution_count": 6,
   "id": "b828a27c",
   "metadata": {
    "editable": true,
    "execution": {
     "iopub.execute_input": "2025-05-12T15:26:52.828502Z",
     "iopub.status.busy": "2025-05-12T15:26:52.828391Z",
     "iopub.status.idle": "2025-05-12T15:26:52.830560Z",
     "shell.execute_reply": "2025-05-12T15:26:52.830361Z"
    },
    "papermill": {
     "duration": 0.009676,
     "end_time": "2025-05-12T15:26:52.831183",
     "exception": false,
     "start_time": "2025-05-12T15:26:52.821507",
     "status": "completed"
    },
    "slideshow": {
     "slide_type": ""
    },
    "tags": [
     "remove_cell"
    ]
   },
   "outputs": [],
   "source": [
    "from pathlib import Path\n",
    "import sqlite3\n",
    "path_data = Path(\"../data\")\n",
    "path_data = list(path_data.rglob(f\"*{github_org}.db\"))[0]\n",
    "\n",
    "def df_from_sql(query, db):\n",
    "    con = sqlite3.connect(db)\n",
    "    return pd.read_sql(query, con)\n",
    "    con.close()"
   ]
  },
  {
   "cell_type": "code",
   "execution_count": 7,
   "id": "9b95fe2a",
   "metadata": {
    "editable": true,
    "execution": {
     "iopub.execute_input": "2025-05-12T15:26:52.845509Z",
     "iopub.status.busy": "2025-05-12T15:26:52.845415Z",
     "iopub.status.idle": "2025-05-12T15:26:54.171067Z",
     "shell.execute_reply": "2025-05-12T15:26:54.170716Z"
    },
    "papermill": {
     "duration": 1.333747,
     "end_time": "2025-05-12T15:26:54.171994",
     "exception": false,
     "start_time": "2025-05-12T15:26:52.838247",
     "status": "completed"
    },
    "scrolled": true,
    "slideshow": {
     "slide_type": ""
    },
    "tags": [
     "remove_cell"
    ]
   },
   "outputs": [
    {
     "name": "stdout",
     "output_type": "stream",
     "text": [
      "Loading from ../data/9edfdc2b0b0cf4987293f0d8604d009e-jupyter.db\n"
     ]
    }
   ],
   "source": [
    "print(f\"Loading from {path_data}\")\n",
    "repos = df_from_sql(\"SELECT * FROM repos\", path_data)\n",
    "users = df_from_sql(\"SELECT * FROM users\", path_data)\n",
    "issues = df_from_sql(\"SELECT * FROM issues\", path_data)\n",
    "comments = df_from_sql(\"SELECT * FROM issue_comments\", path_data)\n",
    "\n",
    "# Merge repository information into issues\n",
    "def merge_repo_into_df(df, kind):\n",
    "    df = pd.merge(df, users[[\"id\", \"login\"]], left_on=\"user\", right_on=\"id\", suffixes=(\"_issue\", \"_user\"), how=\"inner\")\n",
    "    df = pd.merge(df, repos[[\"id\", \"full_name\", \"name\"]], left_on=\"repo\", right_on=\"id\", suffixes=(\"_issue\", \"_repo\"), how=\"inner\")\n",
    "    df[\"org\"] = df[\"full_name\"].map(lambda a: a.split('/')[0])\n",
    "    df[\"repo\"] = df[\"full_name\"].map(lambda a: a.split('/')[1])\n",
    "    df[\"url\"] = \"https://github.com/\" + df[\"org\"] + \"/\" + df[\"repo\"] + f\"/{kind}/\" + df[\"number\"].astype(str)\n",
    "    return df\n",
    "issues = merge_repo_into_df(issues, kind=\"issues\")\n",
    "\n",
    "# Pull out the Pull Requests from Issues\n",
    "prs = issues.loc[~issues[\"pull_request\"].isna()]\n",
    "def identify_merger(closedby):\n",
    "    if not closedby:\n",
    "        return None\n",
    "    try:\n",
    "        cb = loads(closedby)\n",
    "    except:\n",
    "        print(closedby)\n",
    "    return cb[\"login\"]\n",
    "prs[\"merged_by\"] = prs[\"closed_by\"].map(identify_merger)\n",
    "\n",
    "# These issues now _remove_ the PRs\n",
    "issues = issues.loc[issues[\"pull_request\"].isna()]\n",
    "\n",
    "# Add reactions data\n",
    "def count_positive(a):\n",
    "    a = loads(a)\n",
    "    return a[\"+1\"] + a[\"hooray\"] + a[\"heart\"]\n",
    "issues[\"positive\"] = issues[\"reactions\"].map(count_positive)\n",
    "\n",
    "# Drop comments if there is no associated issue\n",
    "comments = comments.dropna(subset=[\"issue\"])\n",
    "comments[\"issue\"] = comments.loc[:, \"issue\"].astype(int)\n",
    "\n",
    "# Add repository information to comments\n",
    "comments = pd.merge(comments, issues[[\"id_issue\", \"full_name\", \"org\", \"repo\"]], left_on=\"issue\", right_on=\"id_issue\", how=\"inner\", suffixes=(\"_comment\", \"_issue\"))\n",
    "\n",
    "# Merge user data into comments\n",
    "comments = pd.merge(comments, users[[\"id\", \"login\"]], left_on=\"user\", right_on=\"id\", suffixes=(\"_comment\", \"_user\"), how=\"inner\")"
   ]
  },
  {
   "cell_type": "code",
   "execution_count": 8,
   "id": "cce12cab",
   "metadata": {
    "editable": true,
    "execution": {
     "iopub.execute_input": "2025-05-12T15:26:54.186425Z",
     "iopub.status.busy": "2025-05-12T15:26:54.186299Z",
     "iopub.status.idle": "2025-05-12T15:26:54.240860Z",
     "shell.execute_reply": "2025-05-12T15:26:54.240582Z"
    },
    "papermill": {
     "duration": 0.062549,
     "end_time": "2025-05-12T15:26:54.241638",
     "exception": false,
     "start_time": "2025-05-12T15:26:54.179089",
     "status": "completed"
    },
    "slideshow": {
     "slide_type": ""
    },
    "tags": [
     "remove_cell"
    ]
   },
   "outputs": [],
   "source": [
    "# Convert columns to datetime\n",
    "datetime_columns = [\"created_at\", \"closed_at\"]\n",
    "for df in [comments, issues, prs]:\n",
    "    for col in datetime_columns:\n",
    "        if col in df:\n",
    "            df[col] = pd.to_datetime(df[col])\n",
    "            # Strip timezone information so we can run simpler queries\n",
    "            df[col] = df[col].dt.tz_localize(None)"
   ]
  },
  {
   "cell_type": "code",
   "execution_count": 9,
   "id": "98bf23af",
   "metadata": {
    "editable": true,
    "execution": {
     "iopub.execute_input": "2025-05-12T15:26:54.256286Z",
     "iopub.status.busy": "2025-05-12T15:26:54.256185Z",
     "iopub.status.idle": "2025-05-12T15:26:54.270255Z",
     "shell.execute_reply": "2025-05-12T15:26:54.270015Z"
    },
    "papermill": {
     "duration": 0.02214,
     "end_time": "2025-05-12T15:26:54.271016",
     "exception": false,
     "start_time": "2025-05-12T15:26:54.248876",
     "status": "completed"
    },
    "slideshow": {
     "slide_type": ""
    },
    "tags": [
     "remove_cell"
    ]
   },
   "outputs": [],
   "source": [
    "# What are the top N repos, we will only plot these in the full data plots\n",
    "top_commented_repos = comments.groupby(\"repo\").count().sort_values(\"created_at\", ascending=False)['created_at']\n",
    "use_repos = top_commented_repos.head(top_n_repos).index.tolist()"
   ]
  },
  {
   "cell_type": "markdown",
   "id": "aa3626de",
   "metadata": {
    "editable": true,
    "papermill": {
     "duration": 0.007037,
     "end_time": "2025-05-12T15:26:54.285348",
     "exception": false,
     "start_time": "2025-05-12T15:26:54.278311",
     "status": "completed"
    },
    "slideshow": {
     "slide_type": ""
    },
    "tags": [],
    "toc-hr-collapsed": false
   },
   "source": [
    "## Merged Pull requests\n",
    "\n",
    "Here's an analysis of **merged pull requests** across each of the repositories in the Jupyter\n",
    "ecosystem."
   ]
  },
  {
   "cell_type": "code",
   "execution_count": 10,
   "id": "0a001d49",
   "metadata": {
    "editable": true,
    "execution": {
     "iopub.execute_input": "2025-05-12T15:26:54.299337Z",
     "iopub.status.busy": "2025-05-12T15:26:54.299225Z",
     "iopub.status.idle": "2025-05-12T15:26:54.304232Z",
     "shell.execute_reply": "2025-05-12T15:26:54.304019Z"
    },
    "papermill": {
     "duration": 0.012588,
     "end_time": "2025-05-12T15:26:54.304888",
     "exception": false,
     "start_time": "2025-05-12T15:26:54.292300",
     "status": "completed"
    },
    "slideshow": {
     "slide_type": ""
    },
    "tags": [
     "remove_cell"
    ]
   },
   "outputs": [],
   "source": [
    "merged = prs.query('state == \"closed\" and closed_at > @start_date and closed_at < @stop_date')"
   ]
  },
  {
   "cell_type": "code",
   "execution_count": 11,
   "id": "47075179",
   "metadata": {
    "editable": true,
    "execution": {
     "iopub.execute_input": "2025-05-12T15:26:54.320022Z",
     "iopub.status.busy": "2025-05-12T15:26:54.319903Z",
     "iopub.status.idle": "2025-05-12T15:26:54.337853Z",
     "shell.execute_reply": "2025-05-12T15:26:54.337585Z"
    },
    "papermill": {
     "duration": 0.026035,
     "end_time": "2025-05-12T15:26:54.338581",
     "exception": false,
     "start_time": "2025-05-12T15:26:54.312546",
     "status": "completed"
    },
    "slideshow": {
     "slide_type": ""
    },
    "tags": [
     "hide_input"
    ]
   },
   "outputs": [
    {
     "data": {
      "text/html": [
       "\n",
       "<style>\n",
       "  #altair-viz-6a24325e2e474296922a876c7f997308.vega-embed {\n",
       "    width: 100%;\n",
       "    display: flex;\n",
       "  }\n",
       "\n",
       "  #altair-viz-6a24325e2e474296922a876c7f997308.vega-embed details,\n",
       "  #altair-viz-6a24325e2e474296922a876c7f997308.vega-embed details summary {\n",
       "    position: relative;\n",
       "  }\n",
       "</style>\n",
       "<div id=\"altair-viz-6a24325e2e474296922a876c7f997308\"></div>\n",
       "<script type=\"text/javascript\">\n",
       "  var VEGA_DEBUG = (typeof VEGA_DEBUG == \"undefined\") ? {} : VEGA_DEBUG;\n",
       "  (function(spec, embedOpt){\n",
       "    let outputDiv = document.currentScript.previousElementSibling;\n",
       "    if (outputDiv.id !== \"altair-viz-6a24325e2e474296922a876c7f997308\") {\n",
       "      outputDiv = document.getElementById(\"altair-viz-6a24325e2e474296922a876c7f997308\");\n",
       "    }\n",
       "\n",
       "    const paths = {\n",
       "      \"vega\": \"https://cdn.jsdelivr.net/npm/vega@5?noext\",\n",
       "      \"vega-lib\": \"https://cdn.jsdelivr.net/npm/vega-lib?noext\",\n",
       "      \"vega-lite\": \"https://cdn.jsdelivr.net/npm/vega-lite@5.20.1?noext\",\n",
       "      \"vega-embed\": \"https://cdn.jsdelivr.net/npm/vega-embed@6?noext\",\n",
       "    };\n",
       "\n",
       "    function maybeLoadScript(lib, version) {\n",
       "      var key = `${lib.replace(\"-\", \"\")}_version`;\n",
       "      return (VEGA_DEBUG[key] == version) ?\n",
       "        Promise.resolve(paths[lib]) :\n",
       "        new Promise(function(resolve, reject) {\n",
       "          var s = document.createElement('script');\n",
       "          document.getElementsByTagName(\"head\")[0].appendChild(s);\n",
       "          s.async = true;\n",
       "          s.onload = () => {\n",
       "            VEGA_DEBUG[key] = version;\n",
       "            return resolve(paths[lib]);\n",
       "          };\n",
       "          s.onerror = () => reject(`Error loading script: ${paths[lib]}`);\n",
       "          s.src = paths[lib];\n",
       "        });\n",
       "    }\n",
       "\n",
       "    function showError(err) {\n",
       "      outputDiv.innerHTML = `<div class=\"error\" style=\"color:red;\">${err}</div>`;\n",
       "      throw err;\n",
       "    }\n",
       "\n",
       "    function displayChart(vegaEmbed) {\n",
       "      vegaEmbed(outputDiv, spec, embedOpt)\n",
       "        .catch(err => showError(`Javascript Error: ${err.message}<br>This usually means there's a typo in your chart specification. See the javascript console for the full traceback.`));\n",
       "    }\n",
       "\n",
       "    if(typeof define === \"function\" && define.amd) {\n",
       "      requirejs.config({paths});\n",
       "      let deps = [\"vega-embed\"];\n",
       "      require(deps, displayChart, err => showError(`Error loading script: ${err.message}`));\n",
       "    } else {\n",
       "      maybeLoadScript(\"vega\", \"5\")\n",
       "        .then(() => maybeLoadScript(\"vega-lite\", \"5.20.1\"))\n",
       "        .then(() => maybeLoadScript(\"vega-embed\", \"6\"))\n",
       "        .catch(showError)\n",
       "        .then(() => displayChart(vegaEmbed));\n",
       "    }\n",
       "  })({\"config\": {\"axisLeft\": {\"labelFontSize\": 15}, \"axisBottom\": {\"labelFontSize\": 15}}, \"data\": {\"name\": \"data-f94c9783803de141353ec7c7a066d348\"}, \"mark\": {\"type\": \"bar\"}, \"encoding\": {\"color\": {\"field\": \"org\", \"type\": \"nominal\"}, \"x\": {\"field\": \"repo\", \"sort\": [\"docker-stacks\", \"notebook\", \"nbclassic\", \"governance\", \"jupyter\", \"jupyter_core\", \"jupyter.github.io\", \"security\", \"cookiecutter-docker-stacks\", \"nbgrader\", \"try-jupyter\", \"enhancement-proposals\", \"jupyter_client\", \"jupyter_events\", \"kernels-team-compass\", \"nbviewer\", \"notebook_shim\", \"testpath\"], \"type\": \"nominal\"}, \"y\": {\"field\": \"login\", \"type\": \"quantitative\"}}, \"title\": \"Merged PRs in the last 90 days\", \"$schema\": \"https://vega.github.io/schema/vega-lite/v5.20.1.json\", \"datasets\": {\"data-f94c9783803de141353ec7c7a066d348\": [{\"org\": \"jupyter\", \"repo\": \"docker-stacks\", \"login\": 82}, {\"org\": \"jupyter\", \"repo\": \"notebook\", \"login\": 40}, {\"org\": \"jupyter\", \"repo\": \"nbclassic\", \"login\": 24}, {\"org\": \"jupyter\", \"repo\": \"governance\", \"login\": 14}, {\"org\": \"jupyter\", \"repo\": \"jupyter\", \"login\": 12}, {\"org\": \"jupyter\", \"repo\": \"jupyter_core\", \"login\": 11}, {\"org\": \"jupyter\", \"repo\": \"jupyter.github.io\", \"login\": 10}, {\"org\": \"jupyter\", \"repo\": \"security\", \"login\": 5}, {\"org\": \"jupyter\", \"repo\": \"cookiecutter-docker-stacks\", \"login\": 4}, {\"org\": \"jupyter\", \"repo\": \"nbgrader\", \"login\": 4}, {\"org\": \"jupyter\", \"repo\": \"try-jupyter\", \"login\": 2}, {\"org\": \"jupyter\", \"repo\": \"enhancement-proposals\", \"login\": 1}, {\"org\": \"jupyter\", \"repo\": \"jupyter_client\", \"login\": 1}, {\"org\": \"jupyter\", \"repo\": \"jupyter_events\", \"login\": 1}, {\"org\": \"jupyter\", \"repo\": \"kernels-team-compass\", \"login\": 1}, {\"org\": \"jupyter\", \"repo\": \"nbviewer\", \"login\": 1}, {\"org\": \"jupyter\", \"repo\": \"notebook_shim\", \"login\": 1}, {\"org\": \"jupyter\", \"repo\": \"testpath\", \"login\": 1}]}}, {\"mode\": \"vega-lite\"});\n",
       "</script>"
      ],
      "text/plain": [
       "alt.Chart(...)"
      ]
     },
     "execution_count": 11,
     "metadata": {},
     "output_type": "execute_result"
    }
   ],
   "source": [
    "prs_by_repo = merged.groupby(['org', 'repo']).count()['login'].reset_index().sort_values(['org', 'login'], ascending=False)\n",
    "alt.Chart(data=prs_by_repo, title=f\"Merged PRs in the last {n_days} days\").mark_bar().encode(\n",
    "    x=alt.X('repo', sort=prs_by_repo['repo'].values.tolist()),\n",
    "    y='login',\n",
    "    color='org'\n",
    ")"
   ]
  },
  {
   "cell_type": "markdown",
   "id": "613a1254",
   "metadata": {
    "editable": true,
    "papermill": {
     "duration": 0.006824,
     "end_time": "2025-05-12T15:26:54.352481",
     "exception": false,
     "start_time": "2025-05-12T15:26:54.345657",
     "status": "completed"
    },
    "slideshow": {
     "slide_type": ""
    },
    "tags": []
   },
   "source": [
    "### Authoring and merging stats by repository\n",
    "\n",
    "Let's see who has been doing most of the PR authoring and merging. The PR author is generally the\n",
    "person that implemented a change in the repository (code, documentation, etc). The PR merger is\n",
    "the person that \"pressed the green button\" and got the change into the main codebase."
   ]
  },
  {
   "cell_type": "code",
   "execution_count": 12,
   "id": "f91c177d",
   "metadata": {
    "editable": true,
    "execution": {
     "iopub.execute_input": "2025-05-12T15:26:54.366833Z",
     "iopub.status.busy": "2025-05-12T15:26:54.366730Z",
     "iopub.status.idle": "2025-05-12T15:26:54.371080Z",
     "shell.execute_reply": "2025-05-12T15:26:54.370864Z"
    },
    "papermill": {
     "duration": 0.012327,
     "end_time": "2025-05-12T15:26:54.371718",
     "exception": false,
     "start_time": "2025-05-12T15:26:54.359391",
     "status": "completed"
    },
    "slideshow": {
     "slide_type": ""
    },
    "tags": [
     "remove_cell"
    ]
   },
   "outputs": [],
   "source": [
    "# Prep our merging DF\n",
    "merged_by_repo = merged.groupby(['repo', 'login'], as_index=False).agg({'id': 'count', 'author_association': 'first'}).rename(columns={'id': \"authored\", 'login': 'username'})\n",
    "closed_by_repo = merged.groupby(['name', 'merged_by']).count()['id_issue'].reset_index().rename(columns={'id_issue': \"closed\", \"merged_by\": \"username\"})"
   ]
  },
  {
   "cell_type": "code",
   "execution_count": 13,
   "id": "5f2cdc6a",
   "metadata": {
    "editable": true,
    "execution": {
     "iopub.execute_input": "2025-05-12T15:26:54.386262Z",
     "iopub.status.busy": "2025-05-12T15:26:54.386071Z",
     "iopub.status.idle": "2025-05-12T15:26:54.395699Z",
     "shell.execute_reply": "2025-05-12T15:26:54.395478Z"
    },
    "papermill": {
     "duration": 0.017419,
     "end_time": "2025-05-12T15:26:54.396365",
     "exception": false,
     "start_time": "2025-05-12T15:26:54.378946",
     "status": "completed"
    },
    "slideshow": {
     "slide_type": ""
    },
    "tags": [
     "hide_input"
    ]
   },
   "outputs": [
    {
     "data": {
      "text/html": [
       "\n",
       "<style>\n",
       "  #altair-viz-aa58472d53a64a2a8afc8eb82995b77b.vega-embed {\n",
       "    width: 100%;\n",
       "    display: flex;\n",
       "  }\n",
       "\n",
       "  #altair-viz-aa58472d53a64a2a8afc8eb82995b77b.vega-embed details,\n",
       "  #altair-viz-aa58472d53a64a2a8afc8eb82995b77b.vega-embed details summary {\n",
       "    position: relative;\n",
       "  }\n",
       "</style>\n",
       "<div id=\"altair-viz-aa58472d53a64a2a8afc8eb82995b77b\"></div>\n",
       "<script type=\"text/javascript\">\n",
       "  var VEGA_DEBUG = (typeof VEGA_DEBUG == \"undefined\") ? {} : VEGA_DEBUG;\n",
       "  (function(spec, embedOpt){\n",
       "    let outputDiv = document.currentScript.previousElementSibling;\n",
       "    if (outputDiv.id !== \"altair-viz-aa58472d53a64a2a8afc8eb82995b77b\") {\n",
       "      outputDiv = document.getElementById(\"altair-viz-aa58472d53a64a2a8afc8eb82995b77b\");\n",
       "    }\n",
       "\n",
       "    const paths = {\n",
       "      \"vega\": \"https://cdn.jsdelivr.net/npm/vega@5?noext\",\n",
       "      \"vega-lib\": \"https://cdn.jsdelivr.net/npm/vega-lib?noext\",\n",
       "      \"vega-lite\": \"https://cdn.jsdelivr.net/npm/vega-lite@5.20.1?noext\",\n",
       "      \"vega-embed\": \"https://cdn.jsdelivr.net/npm/vega-embed@6?noext\",\n",
       "    };\n",
       "\n",
       "    function maybeLoadScript(lib, version) {\n",
       "      var key = `${lib.replace(\"-\", \"\")}_version`;\n",
       "      return (VEGA_DEBUG[key] == version) ?\n",
       "        Promise.resolve(paths[lib]) :\n",
       "        new Promise(function(resolve, reject) {\n",
       "          var s = document.createElement('script');\n",
       "          document.getElementsByTagName(\"head\")[0].appendChild(s);\n",
       "          s.async = true;\n",
       "          s.onload = () => {\n",
       "            VEGA_DEBUG[key] = version;\n",
       "            return resolve(paths[lib]);\n",
       "          };\n",
       "          s.onerror = () => reject(`Error loading script: ${paths[lib]}`);\n",
       "          s.src = paths[lib];\n",
       "        });\n",
       "    }\n",
       "\n",
       "    function showError(err) {\n",
       "      outputDiv.innerHTML = `<div class=\"error\" style=\"color:red;\">${err}</div>`;\n",
       "      throw err;\n",
       "    }\n",
       "\n",
       "    function displayChart(vegaEmbed) {\n",
       "      vegaEmbed(outputDiv, spec, embedOpt)\n",
       "        .catch(err => showError(`Javascript Error: ${err.message}<br>This usually means there's a typo in your chart specification. See the javascript console for the full traceback.`));\n",
       "    }\n",
       "\n",
       "    if(typeof define === \"function\" && define.amd) {\n",
       "      requirejs.config({paths});\n",
       "      let deps = [\"vega-embed\"];\n",
       "      require(deps, displayChart, err => showError(`Error loading script: ${err.message}`));\n",
       "    } else {\n",
       "      maybeLoadScript(\"vega\", \"5\")\n",
       "        .then(() => maybeLoadScript(\"vega-lite\", \"5.20.1\"))\n",
       "        .then(() => maybeLoadScript(\"vega-embed\", \"6\"))\n",
       "        .catch(showError)\n",
       "        .then(() => displayChart(vegaEmbed));\n",
       "    }\n",
       "  })({\"config\": {\"axisLeft\": {\"labelFontSize\": 15}, \"axisBottom\": {\"labelFontSize\": 15}}, \"data\": {\"name\": \"data-e94f66fc88b38c1195c9ccd1ceb5ec6b\"}, \"mark\": {\"type\": \"bar\"}, \"encoding\": {\"color\": {\"field\": \"author_association\", \"scale\": {\"domain\": [\"MEMBER\", \"CONTRIBUTOR\", \"COLLABORATOR\", \"NONE\"], \"range\": [\"rgb(211.82745098039214, 211.82745098039214, 211.82745098039214)\", \"rgb(166.98562091503268, 229.89803921568628, 166.98562091503268)\", \"rgb(96.37647058823529, 192.75294117647059, 96.37647058823529)\", \"rgb(0.0, 100.3921568627451, 0.0)\"]}, \"type\": \"nominal\"}, \"x\": {\"field\": \"username\", \"type\": \"nominal\"}, \"y\": {\"field\": \"authored\", \"type\": \"quantitative\"}}, \"title\": \"PR authors for jupyter in the last 90 days\", \"$schema\": \"https://vega.github.io/schema/vega-lite/v5.20.1.json\", \"datasets\": {\"data-e94f66fc88b38c1195c9ccd1ceb5ec6b\": [{\"username\": \"mathbunnyru\", \"authored\": 69, \"author_association\": \"MEMBER\"}, {\"username\": \"jtpio\", \"authored\": 23, \"author_association\": \"MEMBER\"}, {\"username\": \"dependabot[bot]\", \"authored\": 18, \"author_association\": \"CONTRIBUTOR\"}, {\"username\": \"danyeaw\", \"authored\": 16, \"author_association\": \"MEMBER\"}, {\"username\": \"Carreau\", \"authored\": 14, \"author_association\": \"MEMBER\"}, {\"username\": \"choldgraf\", \"authored\": 9, \"author_association\": \"MEMBER\"}, {\"username\": \"pre-commit-ci[bot]\", \"authored\": 7, \"author_association\": \"CONTRIBUTOR\"}, {\"username\": \"RRosio\", \"authored\": 6, \"author_association\": \"MEMBER\"}, {\"username\": \"derekrgreene\", \"authored\": 5, \"author_association\": \"CONTRIBUTOR\"}, {\"username\": \"jasongrout\", \"authored\": 4, \"author_association\": \"MEMBER\"}, {\"username\": \"minrk\", \"authored\": 4, \"author_association\": \"MEMBER\"}, {\"username\": \"ivanov\", \"authored\": 3, \"author_association\": \"MEMBER\"}, {\"username\": \"shreve\", \"authored\": 3, \"author_association\": \"CONTRIBUTOR\"}, {\"username\": \"krassowski\", \"authored\": 3, \"author_association\": \"MEMBER\"}, {\"username\": \"jjerphan\", \"authored\": 2, \"author_association\": \"CONTRIBUTOR\"}, {\"username\": \"honnix\", \"authored\": 2, \"author_association\": \"CONTRIBUTOR\"}, {\"username\": \"meeseeksmachine\", \"authored\": 2, \"author_association\": \"NONE\"}, {\"username\": \"BoomchainLabs\", \"authored\": 2, \"author_association\": \"NONE\"}, {\"username\": \"SylvainCorlay\", \"authored\": 2, \"author_association\": \"MEMBER\"}, {\"username\": \"honeyreddy30\", \"authored\": 1, \"author_association\": \"FIRST_TIMER\"}, {\"username\": \"github-actions[bot]\", \"authored\": 1, \"author_association\": \"CONTRIBUTOR\"}, {\"username\": \"Diyatuli04\", \"authored\": 1, \"author_association\": \"FIRST_TIMER\"}, {\"username\": \"sebwills\", \"authored\": 1, \"author_association\": \"CONTRIBUTOR\"}, {\"username\": \"sagelywizard\", \"authored\": 1, \"author_association\": \"CONTRIBUTOR\"}, {\"username\": \"rpwagner\", \"authored\": 1, \"author_association\": \"MEMBER\"}, {\"username\": \"Emmaedler2005\", \"authored\": 1, \"author_association\": \"FIRST_TIMER\"}, {\"username\": \"mnp\", \"authored\": 1, \"author_association\": \"CONTRIBUTOR\"}, {\"username\": \"NiklasJordan\", \"authored\": 1, \"author_association\": \"CONTRIBUTOR\"}, {\"username\": \"mgorny\", \"authored\": 1, \"author_association\": \"CONTRIBUTOR\"}, {\"username\": \"matthew-brett\", \"authored\": 1, \"author_association\": \"NONE\"}, {\"username\": \"Zsailer\", \"authored\": 1, \"author_association\": \"MEMBER\"}, {\"username\": \"marthacryan\", \"authored\": 1, \"author_association\": \"MEMBER\"}, {\"username\": \"manics\", \"authored\": 1, \"author_association\": \"CONTRIBUTOR\"}, {\"username\": \"andrewfulton9\", \"authored\": 1, \"author_association\": \"CONTRIBUTOR\"}, {\"username\": \"cailiang9\", \"authored\": 1, \"author_association\": \"CONTRIBUTOR\"}, {\"username\": \"consideRatio\", \"authored\": 1, \"author_association\": \"MEMBER\"}, {\"username\": \"craigwllce\", \"authored\": 1, \"author_association\": \"NONE\"}, {\"username\": \"jabbera\", \"authored\": 1, \"author_association\": \"NONE\"}, {\"username\": \"fbnrst\", \"authored\": 1, \"author_association\": \"CONTRIBUTOR\"}, {\"username\": \"twalcari\", \"authored\": 1, \"author_association\": \"CONTRIBUTOR\"}]}}, {\"mode\": \"vega-lite\"});\n",
       "</script>"
      ],
      "text/plain": [
       "alt.Chart(...)"
      ]
     },
     "execution_count": 13,
     "metadata": {},
     "output_type": "execute_result"
    }
   ],
   "source": [
    "charts = []\n",
    "title = f\"PR authors for {github_org} in the last {n_days} days\"\n",
    "this_data = merged_by_repo.replace(np.nan, 0).groupby('username', as_index=False).agg({'authored': 'sum', 'author_association': 'first'})\n",
    "this_data = this_data.sort_values('authored', ascending=False)\n",
    "ch = alt.Chart(data=this_data, title=title).mark_bar().encode(\n",
    "    x='username',\n",
    "    y='authored',\n",
    "    color=alt.Color('author_association', scale=alt.Scale(domain=author_types, range=author_colors))\n",
    ")\n",
    "ch"
   ]
  },
  {
   "cell_type": "code",
   "execution_count": 14,
   "id": "7d1675da",
   "metadata": {
    "editable": true,
    "execution": {
     "iopub.execute_input": "2025-05-12T15:26:54.410950Z",
     "iopub.status.busy": "2025-05-12T15:26:54.410841Z",
     "iopub.status.idle": "2025-05-12T15:26:54.419138Z",
     "shell.execute_reply": "2025-05-12T15:26:54.418915Z"
    },
    "papermill": {
     "duration": 0.016293,
     "end_time": "2025-05-12T15:26:54.419808",
     "exception": false,
     "start_time": "2025-05-12T15:26:54.403515",
     "status": "completed"
    },
    "slideshow": {
     "slide_type": ""
    },
    "tags": [
     "hide_input"
    ]
   },
   "outputs": [
    {
     "data": {
      "text/html": [
       "\n",
       "<style>\n",
       "  #altair-viz-0713a8a383c04970a12b0442b6e878db.vega-embed {\n",
       "    width: 100%;\n",
       "    display: flex;\n",
       "  }\n",
       "\n",
       "  #altair-viz-0713a8a383c04970a12b0442b6e878db.vega-embed details,\n",
       "  #altair-viz-0713a8a383c04970a12b0442b6e878db.vega-embed details summary {\n",
       "    position: relative;\n",
       "  }\n",
       "</style>\n",
       "<div id=\"altair-viz-0713a8a383c04970a12b0442b6e878db\"></div>\n",
       "<script type=\"text/javascript\">\n",
       "  var VEGA_DEBUG = (typeof VEGA_DEBUG == \"undefined\") ? {} : VEGA_DEBUG;\n",
       "  (function(spec, embedOpt){\n",
       "    let outputDiv = document.currentScript.previousElementSibling;\n",
       "    if (outputDiv.id !== \"altair-viz-0713a8a383c04970a12b0442b6e878db\") {\n",
       "      outputDiv = document.getElementById(\"altair-viz-0713a8a383c04970a12b0442b6e878db\");\n",
       "    }\n",
       "\n",
       "    const paths = {\n",
       "      \"vega\": \"https://cdn.jsdelivr.net/npm/vega@5?noext\",\n",
       "      \"vega-lib\": \"https://cdn.jsdelivr.net/npm/vega-lib?noext\",\n",
       "      \"vega-lite\": \"https://cdn.jsdelivr.net/npm/vega-lite@5.20.1?noext\",\n",
       "      \"vega-embed\": \"https://cdn.jsdelivr.net/npm/vega-embed@6?noext\",\n",
       "    };\n",
       "\n",
       "    function maybeLoadScript(lib, version) {\n",
       "      var key = `${lib.replace(\"-\", \"\")}_version`;\n",
       "      return (VEGA_DEBUG[key] == version) ?\n",
       "        Promise.resolve(paths[lib]) :\n",
       "        new Promise(function(resolve, reject) {\n",
       "          var s = document.createElement('script');\n",
       "          document.getElementsByTagName(\"head\")[0].appendChild(s);\n",
       "          s.async = true;\n",
       "          s.onload = () => {\n",
       "            VEGA_DEBUG[key] = version;\n",
       "            return resolve(paths[lib]);\n",
       "          };\n",
       "          s.onerror = () => reject(`Error loading script: ${paths[lib]}`);\n",
       "          s.src = paths[lib];\n",
       "        });\n",
       "    }\n",
       "\n",
       "    function showError(err) {\n",
       "      outputDiv.innerHTML = `<div class=\"error\" style=\"color:red;\">${err}</div>`;\n",
       "      throw err;\n",
       "    }\n",
       "\n",
       "    function displayChart(vegaEmbed) {\n",
       "      vegaEmbed(outputDiv, spec, embedOpt)\n",
       "        .catch(err => showError(`Javascript Error: ${err.message}<br>This usually means there's a typo in your chart specification. See the javascript console for the full traceback.`));\n",
       "    }\n",
       "\n",
       "    if(typeof define === \"function\" && define.amd) {\n",
       "      requirejs.config({paths});\n",
       "      let deps = [\"vega-embed\"];\n",
       "      require(deps, displayChart, err => showError(`Error loading script: ${err.message}`));\n",
       "    } else {\n",
       "      maybeLoadScript(\"vega\", \"5\")\n",
       "        .then(() => maybeLoadScript(\"vega-lite\", \"5.20.1\"))\n",
       "        .then(() => maybeLoadScript(\"vega-embed\", \"6\"))\n",
       "        .catch(showError)\n",
       "        .then(() => displayChart(vegaEmbed));\n",
       "    }\n",
       "  })({\"config\": {\"axisLeft\": {\"labelFontSize\": 15}, \"axisBottom\": {\"labelFontSize\": 15}}, \"data\": {\"name\": \"data-011415090cda5b4237c0ae9ea71c8682\"}, \"mark\": {\"type\": \"bar\"}, \"encoding\": {\"x\": {\"field\": \"username\", \"type\": \"nominal\"}, \"y\": {\"field\": \"closed\", \"type\": \"quantitative\"}}, \"title\": \"Users that have merged PRs for jupyter in the last 90 days\", \"$schema\": \"https://vega.github.io/schema/vega-lite/v5.20.1.json\", \"datasets\": {\"data-011415090cda5b4237c0ae9ea71c8682\": [{\"name\": \"cookiecutter-docker-stacks\", \"username\": \"mathbunnyru\", \"closed\": 4}, {\"name\": \"docker-stacks\", \"username\": \"jjerphan\", \"closed\": 1}, {\"name\": \"docker-stacks\", \"username\": \"manics\", \"closed\": 1}, {\"name\": \"docker-stacks\", \"username\": \"mathbunnyru\", \"closed\": 80}, {\"name\": \"enhancement-proposals\", \"username\": \"Zsailer\", \"closed\": 1}, {\"name\": \"governance\", \"username\": \"SylvainCorlay\", \"closed\": 1}, {\"name\": \"governance\", \"username\": \"Zsailer\", \"closed\": 1}, {\"name\": \"governance\", \"username\": \"choldgraf\", \"closed\": 9}, {\"name\": \"governance\", \"username\": \"jasongrout\", \"closed\": 2}, {\"name\": \"governance\", \"username\": \"krassowski\", \"closed\": 1}, {\"name\": \"jupyter\", \"username\": \"choldgraf\", \"closed\": 3}, {\"name\": \"jupyter\", \"username\": \"derekrgreene\", \"closed\": 2}, {\"name\": \"jupyter\", \"username\": \"ivanov\", \"closed\": 6}, {\"name\": \"jupyter\", \"username\": \"jtpio\", \"closed\": 1}, {\"name\": \"jupyter.github.io\", \"username\": \"Ruv7\", \"closed\": 2}, {\"name\": \"jupyter.github.io\", \"username\": \"afshin\", \"closed\": 1}, {\"name\": \"jupyter.github.io\", \"username\": \"choldgraf\", \"closed\": 2}, {\"name\": \"jupyter.github.io\", \"username\": \"krassowski\", \"closed\": 4}, {\"name\": \"jupyter.github.io\", \"username\": \"rpwagner\", \"closed\": 1}, {\"name\": \"jupyter_client\", \"username\": \"minrk\", \"closed\": 1}, {\"name\": \"jupyter_core\", \"username\": \"Carreau\", \"closed\": 6}, {\"name\": \"jupyter_core\", \"username\": \"minrk\", \"closed\": 5}, {\"name\": \"jupyter_events\", \"username\": \"Carreau\", \"closed\": 1}, {\"name\": \"kernels-team-compass\", \"username\": \"Zsailer\", \"closed\": 1}, {\"name\": \"nbclassic\", \"username\": \"RRosio\", \"closed\": 21}, {\"name\": \"nbclassic\", \"username\": \"danyeaw\", \"closed\": 2}, {\"name\": \"nbclassic\", \"username\": \"matthew-brett\", \"closed\": 1}, {\"name\": \"nbgrader\", \"username\": \"brichet\", \"closed\": 4}, {\"name\": \"nbviewer\", \"username\": \"bollwyvl\", \"closed\": 1}, {\"name\": \"notebook\", \"username\": \"honeyreddy30\", \"closed\": 1}, {\"name\": \"notebook\", \"username\": \"jtpio\", \"closed\": 37}, {\"name\": \"notebook\", \"username\": \"krassowski\", \"closed\": 2}, {\"name\": \"notebook_shim\", \"username\": \"Carreau\", \"closed\": 1}, {\"name\": \"security\", \"username\": \"Carreau\", \"closed\": 4}, {\"name\": \"security\", \"username\": \"rpwagner\", \"closed\": 1}, {\"name\": \"testpath\", \"username\": \"Carreau\", \"closed\": 1}, {\"name\": \"try-jupyter\", \"username\": \"jtpio\", \"closed\": 2}]}}, {\"mode\": \"vega-lite\"});\n",
       "</script>"
      ],
      "text/plain": [
       "alt.Chart(...)"
      ]
     },
     "execution_count": 14,
     "metadata": {},
     "output_type": "execute_result"
    }
   ],
   "source": [
    "charts = []\n",
    "title = f\"Users that have merged PRs for {github_org} in the last {n_days} days\"\n",
    "ch = alt.Chart(data=closed_by_repo.replace(np.nan, 0), title=title).mark_bar().encode(\n",
    "    x='username',\n",
    "    y='closed',\n",
    ")\n",
    "ch"
   ]
  },
  {
   "cell_type": "markdown",
   "id": "d567e9f4",
   "metadata": {
    "editable": true,
    "papermill": {
     "duration": 0.007456,
     "end_time": "2025-05-12T15:26:54.434676",
     "exception": false,
     "start_time": "2025-05-12T15:26:54.427220",
     "status": "completed"
    },
    "slideshow": {
     "slide_type": ""
    },
    "tags": []
   },
   "source": [
    "## Issues\n",
    "\n",
    "Issues are **conversations** that happen on our GitHub repositories. Here's an\n",
    "analysis of issues across the Jupyter organizations."
   ]
  },
  {
   "cell_type": "code",
   "execution_count": 15,
   "id": "d20a265a",
   "metadata": {
    "editable": true,
    "execution": {
     "iopub.execute_input": "2025-05-12T15:26:54.449460Z",
     "iopub.status.busy": "2025-05-12T15:26:54.449336Z",
     "iopub.status.idle": "2025-05-12T15:26:54.456937Z",
     "shell.execute_reply": "2025-05-12T15:26:54.456704Z"
    },
    "papermill": {
     "duration": 0.015661,
     "end_time": "2025-05-12T15:26:54.457616",
     "exception": false,
     "start_time": "2025-05-12T15:26:54.441955",
     "status": "completed"
    },
    "slideshow": {
     "slide_type": ""
    },
    "tags": [
     "remove_cell"
    ]
   },
   "outputs": [],
   "source": [
    "created = issues.query('state == \"open\" and created_at > @start_date and created_at < @stop_date')\n",
    "closed = issues.query('state == \"closed\" and closed_at > @start_date and closed_at < @stop_date')"
   ]
  },
  {
   "cell_type": "code",
   "execution_count": 16,
   "id": "9ff973e8",
   "metadata": {
    "editable": true,
    "execution": {
     "iopub.execute_input": "2025-05-12T15:26:54.472086Z",
     "iopub.status.busy": "2025-05-12T15:26:54.471926Z",
     "iopub.status.idle": "2025-05-12T15:26:54.481259Z",
     "shell.execute_reply": "2025-05-12T15:26:54.481042Z"
    },
    "papermill": {
     "duration": 0.017152,
     "end_time": "2025-05-12T15:26:54.481899",
     "exception": false,
     "start_time": "2025-05-12T15:26:54.464747",
     "status": "completed"
    },
    "slideshow": {
     "slide_type": ""
    },
    "tags": [
     "hide_input"
    ]
   },
   "outputs": [
    {
     "data": {
      "text/html": [
       "\n",
       "<style>\n",
       "  #altair-viz-2c261a34eeea4947852805358eec5562.vega-embed {\n",
       "    width: 100%;\n",
       "    display: flex;\n",
       "  }\n",
       "\n",
       "  #altair-viz-2c261a34eeea4947852805358eec5562.vega-embed details,\n",
       "  #altair-viz-2c261a34eeea4947852805358eec5562.vega-embed details summary {\n",
       "    position: relative;\n",
       "  }\n",
       "</style>\n",
       "<div id=\"altair-viz-2c261a34eeea4947852805358eec5562\"></div>\n",
       "<script type=\"text/javascript\">\n",
       "  var VEGA_DEBUG = (typeof VEGA_DEBUG == \"undefined\") ? {} : VEGA_DEBUG;\n",
       "  (function(spec, embedOpt){\n",
       "    let outputDiv = document.currentScript.previousElementSibling;\n",
       "    if (outputDiv.id !== \"altair-viz-2c261a34eeea4947852805358eec5562\") {\n",
       "      outputDiv = document.getElementById(\"altair-viz-2c261a34eeea4947852805358eec5562\");\n",
       "    }\n",
       "\n",
       "    const paths = {\n",
       "      \"vega\": \"https://cdn.jsdelivr.net/npm/vega@5?noext\",\n",
       "      \"vega-lib\": \"https://cdn.jsdelivr.net/npm/vega-lib?noext\",\n",
       "      \"vega-lite\": \"https://cdn.jsdelivr.net/npm/vega-lite@5.20.1?noext\",\n",
       "      \"vega-embed\": \"https://cdn.jsdelivr.net/npm/vega-embed@6?noext\",\n",
       "    };\n",
       "\n",
       "    function maybeLoadScript(lib, version) {\n",
       "      var key = `${lib.replace(\"-\", \"\")}_version`;\n",
       "      return (VEGA_DEBUG[key] == version) ?\n",
       "        Promise.resolve(paths[lib]) :\n",
       "        new Promise(function(resolve, reject) {\n",
       "          var s = document.createElement('script');\n",
       "          document.getElementsByTagName(\"head\")[0].appendChild(s);\n",
       "          s.async = true;\n",
       "          s.onload = () => {\n",
       "            VEGA_DEBUG[key] = version;\n",
       "            return resolve(paths[lib]);\n",
       "          };\n",
       "          s.onerror = () => reject(`Error loading script: ${paths[lib]}`);\n",
       "          s.src = paths[lib];\n",
       "        });\n",
       "    }\n",
       "\n",
       "    function showError(err) {\n",
       "      outputDiv.innerHTML = `<div class=\"error\" style=\"color:red;\">${err}</div>`;\n",
       "      throw err;\n",
       "    }\n",
       "\n",
       "    function displayChart(vegaEmbed) {\n",
       "      vegaEmbed(outputDiv, spec, embedOpt)\n",
       "        .catch(err => showError(`Javascript Error: ${err.message}<br>This usually means there's a typo in your chart specification. See the javascript console for the full traceback.`));\n",
       "    }\n",
       "\n",
       "    if(typeof define === \"function\" && define.amd) {\n",
       "      requirejs.config({paths});\n",
       "      let deps = [\"vega-embed\"];\n",
       "      require(deps, displayChart, err => showError(`Error loading script: ${err.message}`));\n",
       "    } else {\n",
       "      maybeLoadScript(\"vega\", \"5\")\n",
       "        .then(() => maybeLoadScript(\"vega-lite\", \"5.20.1\"))\n",
       "        .then(() => maybeLoadScript(\"vega-embed\", \"6\"))\n",
       "        .catch(showError)\n",
       "        .then(() => displayChart(vegaEmbed));\n",
       "    }\n",
       "  })({\"config\": {\"axisLeft\": {\"labelFontSize\": 15}, \"axisBottom\": {\"labelFontSize\": 15}}, \"data\": {\"name\": \"data-ae5890802608ced89281ef27a78168cf\"}, \"mark\": {\"type\": \"bar\"}, \"encoding\": {\"x\": {\"field\": \"repo\", \"sort\": [\"security\", \"nbconvert\", \"governance\", \"nbgrader\", \"notebook\", \"jupyter_core\", \"jupyter.github.io\", \"nbclient\", \"nbdime\", \"docker-stacks\", \"docs-team-compass\", \"jupyter_client\", \"terminado\", \"atom-notebook\", \"jupyter_console\", \"jupyter_events\", \"nbclassic\", \"nbviewer\"], \"type\": \"nominal\"}, \"y\": {\"field\": \"number\", \"type\": \"quantitative\"}}, \"title\": \"Issues created in the last 90 days\", \"$schema\": \"https://vega.github.io/schema/vega-lite/v5.20.1.json\", \"datasets\": {\"data-ae5890802608ced89281ef27a78168cf\": [{\"org\": \"jupyter\", \"repo\": \"atom-notebook\", \"number\": 1, \"org/repo\": \"jupyter/atom-notebook\"}, {\"org\": \"jupyter\", \"repo\": \"docker-stacks\", \"number\": 2, \"org/repo\": \"jupyter/docker-stacks\"}, {\"org\": \"jupyter\", \"repo\": \"docs-team-compass\", \"number\": 2, \"org/repo\": \"jupyter/docs-team-compass\"}, {\"org\": \"jupyter\", \"repo\": \"governance\", \"number\": 6, \"org/repo\": \"jupyter/governance\"}, {\"org\": \"jupyter\", \"repo\": \"jupyter.github.io\", \"number\": 3, \"org/repo\": \"jupyter/jupyter.github.io\"}, {\"org\": \"jupyter\", \"repo\": \"jupyter_client\", \"number\": 2, \"org/repo\": \"jupyter/jupyter_client\"}, {\"org\": \"jupyter\", \"repo\": \"jupyter_console\", \"number\": 1, \"org/repo\": \"jupyter/jupyter_console\"}, {\"org\": \"jupyter\", \"repo\": \"jupyter_core\", \"number\": 4, \"org/repo\": \"jupyter/jupyter_core\"}, {\"org\": \"jupyter\", \"repo\": \"jupyter_events\", \"number\": 1, \"org/repo\": \"jupyter/jupyter_events\"}, {\"org\": \"jupyter\", \"repo\": \"nbclassic\", \"number\": 1, \"org/repo\": \"jupyter/nbclassic\"}, {\"org\": \"jupyter\", \"repo\": \"nbclient\", \"number\": 3, \"org/repo\": \"jupyter/nbclient\"}, {\"org\": \"jupyter\", \"repo\": \"nbconvert\", \"number\": 7, \"org/repo\": \"jupyter/nbconvert\"}, {\"org\": \"jupyter\", \"repo\": \"nbdime\", \"number\": 3, \"org/repo\": \"jupyter/nbdime\"}, {\"org\": \"jupyter\", \"repo\": \"nbgrader\", \"number\": 6, \"org/repo\": \"jupyter/nbgrader\"}, {\"org\": \"jupyter\", \"repo\": \"nbviewer\", \"number\": 1, \"org/repo\": \"jupyter/nbviewer\"}, {\"org\": \"jupyter\", \"repo\": \"notebook\", \"number\": 5, \"org/repo\": \"jupyter/notebook\"}, {\"org\": \"jupyter\", \"repo\": \"security\", \"number\": 14, \"org/repo\": \"jupyter/security\"}, {\"org\": \"jupyter\", \"repo\": \"terminado\", \"number\": 2, \"org/repo\": \"jupyter/terminado\"}]}}, {\"mode\": \"vega-lite\"});\n",
       "</script>"
      ],
      "text/plain": [
       "alt.Chart(...)"
      ]
     },
     "execution_count": 16,
     "metadata": {},
     "output_type": "execute_result"
    }
   ],
   "source": [
    "created_counts = created.groupby(['org', 'repo']).count()['number'].reset_index()\n",
    "created_counts['org/repo'] = created_counts.apply(lambda a: a['org'] + '/' + a['repo'], axis=1)\n",
    "sorted_vals = created_counts.sort_values(['org', 'number'], ascending=False)['repo'].values\n",
    "alt.Chart(data=created_counts, title=f\"Issues created in the last {n_days} days\").mark_bar().encode(\n",
    "    x=alt.X('repo', sort=alt.Sort(sorted_vals.tolist())),\n",
    "    y='number',\n",
    ")"
   ]
  },
  {
   "cell_type": "code",
   "execution_count": 17,
   "id": "78db4f5f",
   "metadata": {
    "editable": true,
    "execution": {
     "iopub.execute_input": "2025-05-12T15:26:54.496902Z",
     "iopub.status.busy": "2025-05-12T15:26:54.496754Z",
     "iopub.status.idle": "2025-05-12T15:26:54.505452Z",
     "shell.execute_reply": "2025-05-12T15:26:54.505247Z"
    },
    "papermill": {
     "duration": 0.016726,
     "end_time": "2025-05-12T15:26:54.506091",
     "exception": false,
     "start_time": "2025-05-12T15:26:54.489365",
     "status": "completed"
    },
    "slideshow": {
     "slide_type": ""
    },
    "tags": [
     "hide_input"
    ]
   },
   "outputs": [
    {
     "data": {
      "text/html": [
       "\n",
       "<style>\n",
       "  #altair-viz-494458d5fef94c9eb4f229f16d597920.vega-embed {\n",
       "    width: 100%;\n",
       "    display: flex;\n",
       "  }\n",
       "\n",
       "  #altair-viz-494458d5fef94c9eb4f229f16d597920.vega-embed details,\n",
       "  #altair-viz-494458d5fef94c9eb4f229f16d597920.vega-embed details summary {\n",
       "    position: relative;\n",
       "  }\n",
       "</style>\n",
       "<div id=\"altair-viz-494458d5fef94c9eb4f229f16d597920\"></div>\n",
       "<script type=\"text/javascript\">\n",
       "  var VEGA_DEBUG = (typeof VEGA_DEBUG == \"undefined\") ? {} : VEGA_DEBUG;\n",
       "  (function(spec, embedOpt){\n",
       "    let outputDiv = document.currentScript.previousElementSibling;\n",
       "    if (outputDiv.id !== \"altair-viz-494458d5fef94c9eb4f229f16d597920\") {\n",
       "      outputDiv = document.getElementById(\"altair-viz-494458d5fef94c9eb4f229f16d597920\");\n",
       "    }\n",
       "\n",
       "    const paths = {\n",
       "      \"vega\": \"https://cdn.jsdelivr.net/npm/vega@5?noext\",\n",
       "      \"vega-lib\": \"https://cdn.jsdelivr.net/npm/vega-lib?noext\",\n",
       "      \"vega-lite\": \"https://cdn.jsdelivr.net/npm/vega-lite@5.20.1?noext\",\n",
       "      \"vega-embed\": \"https://cdn.jsdelivr.net/npm/vega-embed@6?noext\",\n",
       "    };\n",
       "\n",
       "    function maybeLoadScript(lib, version) {\n",
       "      var key = `${lib.replace(\"-\", \"\")}_version`;\n",
       "      return (VEGA_DEBUG[key] == version) ?\n",
       "        Promise.resolve(paths[lib]) :\n",
       "        new Promise(function(resolve, reject) {\n",
       "          var s = document.createElement('script');\n",
       "          document.getElementsByTagName(\"head\")[0].appendChild(s);\n",
       "          s.async = true;\n",
       "          s.onload = () => {\n",
       "            VEGA_DEBUG[key] = version;\n",
       "            return resolve(paths[lib]);\n",
       "          };\n",
       "          s.onerror = () => reject(`Error loading script: ${paths[lib]}`);\n",
       "          s.src = paths[lib];\n",
       "        });\n",
       "    }\n",
       "\n",
       "    function showError(err) {\n",
       "      outputDiv.innerHTML = `<div class=\"error\" style=\"color:red;\">${err}</div>`;\n",
       "      throw err;\n",
       "    }\n",
       "\n",
       "    function displayChart(vegaEmbed) {\n",
       "      vegaEmbed(outputDiv, spec, embedOpt)\n",
       "        .catch(err => showError(`Javascript Error: ${err.message}<br>This usually means there's a typo in your chart specification. See the javascript console for the full traceback.`));\n",
       "    }\n",
       "\n",
       "    if(typeof define === \"function\" && define.amd) {\n",
       "      requirejs.config({paths});\n",
       "      let deps = [\"vega-embed\"];\n",
       "      require(deps, displayChart, err => showError(`Error loading script: ${err.message}`));\n",
       "    } else {\n",
       "      maybeLoadScript(\"vega\", \"5\")\n",
       "        .then(() => maybeLoadScript(\"vega-lite\", \"5.20.1\"))\n",
       "        .then(() => maybeLoadScript(\"vega-embed\", \"6\"))\n",
       "        .catch(showError)\n",
       "        .then(() => displayChart(vegaEmbed));\n",
       "    }\n",
       "  })({\"config\": {\"axisLeft\": {\"labelFontSize\": 15}, \"axisBottom\": {\"labelFontSize\": 15}}, \"data\": {\"name\": \"data-7a8022d9779aeef4934de28ac3d1bb36\"}, \"mark\": {\"type\": \"bar\"}, \"encoding\": {\"x\": {\"field\": \"repo\", \"sort\": [\"notebook\", \"docker-stacks\", \"nbclassic\", \"jupyter\", \"governance\", \"nbgrader\", \"security\", \"jupyter.github.io\", \"jupyter_client\", \"jupyter_console\", \"jupyter_core\", \"nbconvert\"], \"type\": \"nominal\"}, \"y\": {\"field\": \"number\", \"type\": \"quantitative\"}}, \"title\": \"Issues closed in the last 90 days\", \"$schema\": \"https://vega.github.io/schema/vega-lite/v5.20.1.json\", \"datasets\": {\"data-7a8022d9779aeef4934de28ac3d1bb36\": [{\"org\": \"jupyter\", \"repo\": \"docker-stacks\", \"number\": 10, \"org/repo\": \"jupyter/docker-stacks\"}, {\"org\": \"jupyter\", \"repo\": \"governance\", \"number\": 6, \"org/repo\": \"jupyter/governance\"}, {\"org\": \"jupyter\", \"repo\": \"jupyter\", \"number\": 8, \"org/repo\": \"jupyter/jupyter\"}, {\"org\": \"jupyter\", \"repo\": \"jupyter.github.io\", \"number\": 1, \"org/repo\": \"jupyter/jupyter.github.io\"}, {\"org\": \"jupyter\", \"repo\": \"jupyter_client\", \"number\": 1, \"org/repo\": \"jupyter/jupyter_client\"}, {\"org\": \"jupyter\", \"repo\": \"jupyter_console\", \"number\": 1, \"org/repo\": \"jupyter/jupyter_console\"}, {\"org\": \"jupyter\", \"repo\": \"jupyter_core\", \"number\": 1, \"org/repo\": \"jupyter/jupyter_core\"}, {\"org\": \"jupyter\", \"repo\": \"nbclassic\", \"number\": 9, \"org/repo\": \"jupyter/nbclassic\"}, {\"org\": \"jupyter\", \"repo\": \"nbconvert\", \"number\": 1, \"org/repo\": \"jupyter/nbconvert\"}, {\"org\": \"jupyter\", \"repo\": \"nbgrader\", \"number\": 4, \"org/repo\": \"jupyter/nbgrader\"}, {\"org\": \"jupyter\", \"repo\": \"notebook\", \"number\": 29, \"org/repo\": \"jupyter/notebook\"}, {\"org\": \"jupyter\", \"repo\": \"security\", \"number\": 2, \"org/repo\": \"jupyter/security\"}]}}, {\"mode\": \"vega-lite\"});\n",
       "</script>"
      ],
      "text/plain": [
       "alt.Chart(...)"
      ]
     },
     "execution_count": 17,
     "metadata": {},
     "output_type": "execute_result"
    }
   ],
   "source": [
    "closed_counts = closed.groupby(['org', 'repo']).count()['number'].reset_index()\n",
    "closed_counts['org/repo'] = closed_counts.apply(lambda a: a['org'] + '/' + a['repo'], axis=1)\n",
    "sorted_vals = closed_counts.sort_values(['number'], ascending=False)['repo'].values\n",
    "alt.Chart(data=closed_counts, title=f\"Issues closed in the last {n_days} days\").mark_bar().encode(\n",
    "    x=alt.X('repo', sort=alt.Sort(sorted_vals.tolist())),\n",
    "    y='number',\n",
    ")"
   ]
  },
  {
   "cell_type": "code",
   "execution_count": 18,
   "id": "6189a909",
   "metadata": {
    "editable": true,
    "execution": {
     "iopub.execute_input": "2025-05-12T15:26:54.521955Z",
     "iopub.status.busy": "2025-05-12T15:26:54.521832Z",
     "iopub.status.idle": "2025-05-12T15:26:54.526207Z",
     "shell.execute_reply": "2025-05-12T15:26:54.525982Z"
    },
    "papermill": {
     "duration": 0.012952,
     "end_time": "2025-05-12T15:26:54.526827",
     "exception": false,
     "start_time": "2025-05-12T15:26:54.513875",
     "status": "completed"
    },
    "slideshow": {
     "slide_type": ""
    },
    "tags": [
     "remove_cell"
    ]
   },
   "outputs": [],
   "source": [
    "created_closed = pd.merge(created_counts.rename(columns={'number': 'created'}).drop(columns='org/repo'),\n",
    "                          closed_counts.rename(columns={'number': 'closed'}).drop(columns='org/repo'),\n",
    "                          on=['org', 'repo'], how='outer')\n",
    "\n",
    "created_closed = pd.melt(created_closed, id_vars=['org', 'repo'], var_name=\"kind\", value_name=\"count\").replace(np.nan, 0)"
   ]
  },
  {
   "cell_type": "code",
   "execution_count": 19,
   "id": "00f292ca",
   "metadata": {
    "editable": true,
    "execution": {
     "iopub.execute_input": "2025-05-12T15:26:54.542121Z",
     "iopub.status.busy": "2025-05-12T15:26:54.542000Z",
     "iopub.status.idle": "2025-05-12T15:26:54.551664Z",
     "shell.execute_reply": "2025-05-12T15:26:54.551424Z"
    },
    "papermill": {
     "duration": 0.017843,
     "end_time": "2025-05-12T15:26:54.552339",
     "exception": false,
     "start_time": "2025-05-12T15:26:54.534496",
     "status": "completed"
    },
    "scrolled": true,
    "slideshow": {
     "slide_type": ""
    },
    "tags": [
     "hide_input"
    ]
   },
   "outputs": [
    {
     "data": {
      "text/html": [
       "\n",
       "<style>\n",
       "  #altair-viz-2b9dfb5b511b4a9f852d16f0e32f9046.vega-embed {\n",
       "    width: 100%;\n",
       "    display: flex;\n",
       "  }\n",
       "\n",
       "  #altair-viz-2b9dfb5b511b4a9f852d16f0e32f9046.vega-embed details,\n",
       "  #altair-viz-2b9dfb5b511b4a9f852d16f0e32f9046.vega-embed details summary {\n",
       "    position: relative;\n",
       "  }\n",
       "</style>\n",
       "<div id=\"altair-viz-2b9dfb5b511b4a9f852d16f0e32f9046\"></div>\n",
       "<script type=\"text/javascript\">\n",
       "  var VEGA_DEBUG = (typeof VEGA_DEBUG == \"undefined\") ? {} : VEGA_DEBUG;\n",
       "  (function(spec, embedOpt){\n",
       "    let outputDiv = document.currentScript.previousElementSibling;\n",
       "    if (outputDiv.id !== \"altair-viz-2b9dfb5b511b4a9f852d16f0e32f9046\") {\n",
       "      outputDiv = document.getElementById(\"altair-viz-2b9dfb5b511b4a9f852d16f0e32f9046\");\n",
       "    }\n",
       "\n",
       "    const paths = {\n",
       "      \"vega\": \"https://cdn.jsdelivr.net/npm/vega@5?noext\",\n",
       "      \"vega-lib\": \"https://cdn.jsdelivr.net/npm/vega-lib?noext\",\n",
       "      \"vega-lite\": \"https://cdn.jsdelivr.net/npm/vega-lite@5.20.1?noext\",\n",
       "      \"vega-embed\": \"https://cdn.jsdelivr.net/npm/vega-embed@6?noext\",\n",
       "    };\n",
       "\n",
       "    function maybeLoadScript(lib, version) {\n",
       "      var key = `${lib.replace(\"-\", \"\")}_version`;\n",
       "      return (VEGA_DEBUG[key] == version) ?\n",
       "        Promise.resolve(paths[lib]) :\n",
       "        new Promise(function(resolve, reject) {\n",
       "          var s = document.createElement('script');\n",
       "          document.getElementsByTagName(\"head\")[0].appendChild(s);\n",
       "          s.async = true;\n",
       "          s.onload = () => {\n",
       "            VEGA_DEBUG[key] = version;\n",
       "            return resolve(paths[lib]);\n",
       "          };\n",
       "          s.onerror = () => reject(`Error loading script: ${paths[lib]}`);\n",
       "          s.src = paths[lib];\n",
       "        });\n",
       "    }\n",
       "\n",
       "    function showError(err) {\n",
       "      outputDiv.innerHTML = `<div class=\"error\" style=\"color:red;\">${err}</div>`;\n",
       "      throw err;\n",
       "    }\n",
       "\n",
       "    function displayChart(vegaEmbed) {\n",
       "      vegaEmbed(outputDiv, spec, embedOpt)\n",
       "        .catch(err => showError(`Javascript Error: ${err.message}<br>This usually means there's a typo in your chart specification. See the javascript console for the full traceback.`));\n",
       "    }\n",
       "\n",
       "    if(typeof define === \"function\" && define.amd) {\n",
       "      requirejs.config({paths});\n",
       "      let deps = [\"vega-embed\"];\n",
       "      require(deps, displayChart, err => showError(`Error loading script: ${err.message}`));\n",
       "    } else {\n",
       "      maybeLoadScript(\"vega\", \"5\")\n",
       "        .then(() => maybeLoadScript(\"vega-lite\", \"5.20.1\"))\n",
       "        .then(() => maybeLoadScript(\"vega-embed\", \"6\"))\n",
       "        .catch(showError)\n",
       "        .then(() => displayChart(vegaEmbed));\n",
       "    }\n",
       "  })({\"config\": {\"axisLeft\": {\"labelFontSize\": 15}, \"axisBottom\": {\"labelFontSize\": 15}}, \"data\": {\"name\": \"data-df8b909d4f4e83b4ce99588b13319ebf\"}, \"mark\": {\"type\": \"bar\"}, \"encoding\": {\"color\": {\"field\": \"kind\", \"type\": \"nominal\"}, \"column\": {\"field\": \"repo\", \"header\": {\"labelFontSize\": 12, \"title\": \"Issue activity, last 90 days for jupyter\", \"titleFontSize\": 15}, \"type\": \"nominal\"}, \"x\": {\"axis\": {\"labelFontSize\": 15, \"title\": \"\"}, \"field\": \"kind\", \"type\": \"nominal\"}, \"y\": {\"axis\": {\"labelFontSize\": 12, \"titleFontSize\": 15}, \"field\": \"count\", \"type\": \"quantitative\"}}, \"width\": 120, \"$schema\": \"https://vega.github.io/schema/vega-lite/v5.20.1.json\", \"datasets\": {\"data-df8b909d4f4e83b4ce99588b13319ebf\": [{\"org\": \"jupyter\", \"repo\": \"docker-stacks\", \"kind\": \"created\", \"count\": 2.0}, {\"org\": \"jupyter\", \"repo\": \"governance\", \"kind\": \"created\", \"count\": 6.0}, {\"org\": \"jupyter\", \"repo\": \"jupyter\", \"kind\": \"created\", \"count\": 0.0}, {\"org\": \"jupyter\", \"repo\": \"jupyter.github.io\", \"kind\": \"created\", \"count\": 3.0}, {\"org\": \"jupyter\", \"repo\": \"jupyter_core\", \"kind\": \"created\", \"count\": 4.0}, {\"org\": \"jupyter\", \"repo\": \"nbclassic\", \"kind\": \"created\", \"count\": 1.0}, {\"org\": \"jupyter\", \"repo\": \"nbconvert\", \"kind\": \"created\", \"count\": 7.0}, {\"org\": \"jupyter\", \"repo\": \"nbgrader\", \"kind\": \"created\", \"count\": 6.0}, {\"org\": \"jupyter\", \"repo\": \"notebook\", \"kind\": \"created\", \"count\": 5.0}, {\"org\": \"jupyter\", \"repo\": \"security\", \"kind\": \"created\", \"count\": 14.0}, {\"org\": \"jupyter\", \"repo\": \"docker-stacks\", \"kind\": \"closed\", \"count\": 10.0}, {\"org\": \"jupyter\", \"repo\": \"governance\", \"kind\": \"closed\", \"count\": 6.0}, {\"org\": \"jupyter\", \"repo\": \"jupyter\", \"kind\": \"closed\", \"count\": 8.0}, {\"org\": \"jupyter\", \"repo\": \"jupyter.github.io\", \"kind\": \"closed\", \"count\": 1.0}, {\"org\": \"jupyter\", \"repo\": \"jupyter_core\", \"kind\": \"closed\", \"count\": 1.0}, {\"org\": \"jupyter\", \"repo\": \"nbclassic\", \"kind\": \"closed\", \"count\": 9.0}, {\"org\": \"jupyter\", \"repo\": \"nbconvert\", \"kind\": \"closed\", \"count\": 1.0}, {\"org\": \"jupyter\", \"repo\": \"nbgrader\", \"kind\": \"closed\", \"count\": 4.0}, {\"org\": \"jupyter\", \"repo\": \"notebook\", \"kind\": \"closed\", \"count\": 29.0}, {\"org\": \"jupyter\", \"repo\": \"security\", \"kind\": \"closed\", \"count\": 2.0}]}}, {\"mode\": \"vega-lite\"});\n",
       "</script>"
      ],
      "text/plain": [
       "alt.Chart(...)"
      ]
     },
     "execution_count": 19,
     "metadata": {},
     "output_type": "execute_result"
    }
   ],
   "source": [
    "charts = []\n",
    "# Pick the top 10 repositories\n",
    "top_repos = created_closed.groupby(['repo']).sum().sort_values(by='count', ascending=False).head(10).index\n",
    "ch = alt.Chart(created_closed.query('repo in @top_repos'), width=120).mark_bar().encode(\n",
    "    x=alt.X(\"kind\", axis=alt.Axis(labelFontSize=15, title=\"\")), \n",
    "    y=alt.Y('count', axis=alt.Axis(titleFontSize=15, labelFontSize=12)),\n",
    "    color='kind',\n",
    "    column=alt.Column(\"repo\", header=alt.Header(title=f\"Issue activity, last {n_days} days for {github_org}\", titleFontSize=15, labelFontSize=12))\n",
    ")\n",
    "ch"
   ]
  },
  {
   "cell_type": "code",
   "execution_count": 20,
   "id": "15233324",
   "metadata": {
    "editable": true,
    "execution": {
     "iopub.execute_input": "2025-05-12T15:26:54.567618Z",
     "iopub.status.busy": "2025-05-12T15:26:54.567448Z",
     "iopub.status.idle": "2025-05-12T15:26:54.570597Z",
     "shell.execute_reply": "2025-05-12T15:26:54.570336Z"
    },
    "papermill": {
     "duration": 0.011414,
     "end_time": "2025-05-12T15:26:54.571238",
     "exception": false,
     "start_time": "2025-05-12T15:26:54.559824",
     "status": "completed"
    },
    "slideshow": {
     "slide_type": ""
    },
    "tags": [
     "remove_cell"
    ]
   },
   "outputs": [],
   "source": [
    "# Set to datetime\n",
    "for kind in ['created_at', 'closed_at']:\n",
    "    closed.loc[:, kind] = pd.to_datetime(closed[kind])\n",
    "    \n",
    "closed.loc[:, 'time_open'] = closed['closed_at'] - closed['created_at']\n",
    "closed.loc[:, 'time_open'] = closed['time_open'].dt.total_seconds()"
   ]
  },
  {
   "cell_type": "code",
   "execution_count": 21,
   "id": "59af910f",
   "metadata": {
    "editable": true,
    "execution": {
     "iopub.execute_input": "2025-05-12T15:26:54.586104Z",
     "iopub.status.busy": "2025-05-12T15:26:54.585936Z",
     "iopub.status.idle": "2025-05-12T15:26:54.593707Z",
     "shell.execute_reply": "2025-05-12T15:26:54.593512Z"
    },
    "papermill": {
     "duration": 0.0159,
     "end_time": "2025-05-12T15:26:54.594360",
     "exception": false,
     "start_time": "2025-05-12T15:26:54.578460",
     "status": "completed"
    },
    "slideshow": {
     "slide_type": ""
    },
    "tags": [
     "hide_input"
    ]
   },
   "outputs": [
    {
     "data": {
      "text/html": [
       "\n",
       "<style>\n",
       "  #altair-viz-f154c8c3f53f491ab7ad664b356ed0ea.vega-embed {\n",
       "    width: 100%;\n",
       "    display: flex;\n",
       "  }\n",
       "\n",
       "  #altair-viz-f154c8c3f53f491ab7ad664b356ed0ea.vega-embed details,\n",
       "  #altair-viz-f154c8c3f53f491ab7ad664b356ed0ea.vega-embed details summary {\n",
       "    position: relative;\n",
       "  }\n",
       "</style>\n",
       "<div id=\"altair-viz-f154c8c3f53f491ab7ad664b356ed0ea\"></div>\n",
       "<script type=\"text/javascript\">\n",
       "  var VEGA_DEBUG = (typeof VEGA_DEBUG == \"undefined\") ? {} : VEGA_DEBUG;\n",
       "  (function(spec, embedOpt){\n",
       "    let outputDiv = document.currentScript.previousElementSibling;\n",
       "    if (outputDiv.id !== \"altair-viz-f154c8c3f53f491ab7ad664b356ed0ea\") {\n",
       "      outputDiv = document.getElementById(\"altair-viz-f154c8c3f53f491ab7ad664b356ed0ea\");\n",
       "    }\n",
       "\n",
       "    const paths = {\n",
       "      \"vega\": \"https://cdn.jsdelivr.net/npm/vega@5?noext\",\n",
       "      \"vega-lib\": \"https://cdn.jsdelivr.net/npm/vega-lib?noext\",\n",
       "      \"vega-lite\": \"https://cdn.jsdelivr.net/npm/vega-lite@5.20.1?noext\",\n",
       "      \"vega-embed\": \"https://cdn.jsdelivr.net/npm/vega-embed@6?noext\",\n",
       "    };\n",
       "\n",
       "    function maybeLoadScript(lib, version) {\n",
       "      var key = `${lib.replace(\"-\", \"\")}_version`;\n",
       "      return (VEGA_DEBUG[key] == version) ?\n",
       "        Promise.resolve(paths[lib]) :\n",
       "        new Promise(function(resolve, reject) {\n",
       "          var s = document.createElement('script');\n",
       "          document.getElementsByTagName(\"head\")[0].appendChild(s);\n",
       "          s.async = true;\n",
       "          s.onload = () => {\n",
       "            VEGA_DEBUG[key] = version;\n",
       "            return resolve(paths[lib]);\n",
       "          };\n",
       "          s.onerror = () => reject(`Error loading script: ${paths[lib]}`);\n",
       "          s.src = paths[lib];\n",
       "        });\n",
       "    }\n",
       "\n",
       "    function showError(err) {\n",
       "      outputDiv.innerHTML = `<div class=\"error\" style=\"color:red;\">${err}</div>`;\n",
       "      throw err;\n",
       "    }\n",
       "\n",
       "    function displayChart(vegaEmbed) {\n",
       "      vegaEmbed(outputDiv, spec, embedOpt)\n",
       "        .catch(err => showError(`Javascript Error: ${err.message}<br>This usually means there's a typo in your chart specification. See the javascript console for the full traceback.`));\n",
       "    }\n",
       "\n",
       "    if(typeof define === \"function\" && define.amd) {\n",
       "      requirejs.config({paths});\n",
       "      let deps = [\"vega-embed\"];\n",
       "      require(deps, displayChart, err => showError(`Error loading script: ${err.message}`));\n",
       "    } else {\n",
       "      maybeLoadScript(\"vega\", \"5\")\n",
       "        .then(() => maybeLoadScript(\"vega-lite\", \"5.20.1\"))\n",
       "        .then(() => maybeLoadScript(\"vega-embed\", \"6\"))\n",
       "        .catch(showError)\n",
       "        .then(() => displayChart(vegaEmbed));\n",
       "    }\n",
       "  })({\"config\": {\"axisLeft\": {\"labelFontSize\": 15}, \"axisBottom\": {\"labelFontSize\": 15}}, \"data\": {\"name\": \"data-c4d0d5080aece0da33e5d1046a856ab8\"}, \"mark\": {\"type\": \"bar\"}, \"encoding\": {\"x\": {\"field\": \"repo\", \"sort\": [\"jupyter_console\", \"jupyter_core\", \"governance\", \"nbgrader\", \"notebook\", \"docker-stacks\", \"jupyter\", \"jupyter_client\", \"security\", \"nbclassic\", \"nbconvert\", \"jupyter.github.io\"], \"type\": \"nominal\"}, \"y\": {\"field\": \"time_open\", \"title\": \"Median Days Open\", \"type\": \"quantitative\"}}, \"title\": \"Time to close for issues closed in the last 90 days\", \"$schema\": \"https://vega.github.io/schema/vega-lite/v5.20.1.json\", \"datasets\": {\"data-c4d0d5080aece0da33e5d1046a856ab8\": [{\"org\": \"jupyter\", \"repo\": \"docker-stacks\", \"time_open\": 20.207447916666666, \"org/repo\": \"jupyter/docker-stacks\"}, {\"org\": \"jupyter\", \"repo\": \"governance\", \"time_open\": 298.0015104166667, \"org/repo\": \"jupyter/governance\"}, {\"org\": \"jupyter\", \"repo\": \"jupyter\", \"time_open\": 17.359982638888887, \"org/repo\": \"jupyter/jupyter\"}, {\"org\": \"jupyter\", \"repo\": \"jupyter.github.io\", \"time_open\": 0.9404050925925926, \"org/repo\": \"jupyter/jupyter.github.io\"}, {\"org\": \"jupyter\", \"repo\": \"jupyter_client\", \"time_open\": 17.07300925925926, \"org/repo\": \"jupyter/jupyter_client\"}, {\"org\": \"jupyter\", \"repo\": \"jupyter_console\", \"time_open\": 1740.5220949074073, \"org/repo\": \"jupyter/jupyter_console\"}, {\"org\": \"jupyter\", \"repo\": \"jupyter_core\", \"time_open\": 708.2376388888889, \"org/repo\": \"jupyter/jupyter_core\"}, {\"org\": \"jupyter\", \"repo\": \"nbclassic\", \"time_open\": 8.409803240740741, \"org/repo\": \"jupyter/nbclassic\"}, {\"org\": \"jupyter\", \"repo\": \"nbconvert\", \"time_open\": 5.779212962962963, \"org/repo\": \"jupyter/nbconvert\"}, {\"org\": \"jupyter\", \"repo\": \"nbgrader\", \"time_open\": 56.33239583333334, \"org/repo\": \"jupyter/nbgrader\"}, {\"org\": \"jupyter\", \"repo\": \"notebook\", \"time_open\": 28.170092592592592, \"org/repo\": \"jupyter/notebook\"}, {\"org\": \"jupyter\", \"repo\": \"security\", \"time_open\": 12.510729166666666, \"org/repo\": \"jupyter/security\"}]}}, {\"mode\": \"vega-lite\"});\n",
       "</script>"
      ],
      "text/plain": [
       "alt.Chart(...)"
      ]
     },
     "execution_count": 21,
     "metadata": {},
     "output_type": "execute_result"
    }
   ],
   "source": [
    "time_open = closed.groupby(['org', 'repo']).agg({'time_open': 'median'}).reset_index()\n",
    "time_open['time_open'] = time_open['time_open'] / (60 * 60 * 24)\n",
    "time_open['org/repo'] = time_open.apply(lambda a: a['org'] + '/' + a['repo'], axis=1)\n",
    "sorted_vals = time_open.sort_values(['org', 'time_open'], ascending=False)['repo'].values\n",
    "alt.Chart(data=time_open, title=f\"Time to close for issues closed in the last {n_days} days\").mark_bar().encode(\n",
    "    x=alt.X('repo', sort=alt.Sort(sorted_vals.tolist())),\n",
    "    y=alt.Y('time_open', title=\"Median Days Open\"),\n",
    ")"
   ]
  },
  {
   "cell_type": "markdown",
   "id": "03591043",
   "metadata": {
    "editable": true,
    "papermill": {
     "duration": 0.007314,
     "end_time": "2025-05-12T15:26:54.609486",
     "exception": false,
     "start_time": "2025-05-12T15:26:54.602172",
     "status": "completed"
    },
    "slideshow": {
     "slide_type": ""
    },
    "tags": []
   },
   "source": [
    "## Most-upvoted issues"
   ]
  },
  {
   "cell_type": "code",
   "execution_count": 22,
   "id": "75f2ff90",
   "metadata": {
    "editable": true,
    "execution": {
     "iopub.execute_input": "2025-05-12T15:26:54.624676Z",
     "iopub.status.busy": "2025-05-12T15:26:54.624558Z",
     "iopub.status.idle": "2025-05-12T15:26:54.636705Z",
     "shell.execute_reply": "2025-05-12T15:26:54.636414Z"
    },
    "papermill": {
     "duration": 0.020601,
     "end_time": "2025-05-12T15:26:54.637475",
     "exception": false,
     "start_time": "2025-05-12T15:26:54.616874",
     "status": "completed"
    },
    "slideshow": {
     "slide_type": ""
    },
    "tags": [
     "hide_input"
    ]
   },
   "outputs": [
    {
     "data": {
      "application/vnd.jupyter.widget-view+json": {
       "model_id": "0cb21fe013bf4c5c917c11d20823bf14",
       "version_major": 2,
       "version_minor": 0
      },
      "text/plain": [
       "HTML(value='<ul>\\n<li>(99) Feature request: open a notebook without running kernel - notebook - <a href=\"https…"
      ]
     },
     "execution_count": 22,
     "metadata": {},
     "output_type": "execute_result"
    }
   ],
   "source": [
    "thumbsup = issues.query(\"state == 'open'\").sort_values(\"positive\", ascending=False).head(25)\n",
    "thumbsup = thumbsup[[\"title\", \"url\", \"number\", \"positive\", \"repo\"]]\n",
    "\n",
    "text = []\n",
    "for ii, irow in thumbsup.iterrows():\n",
    "    itext = f\"- ({irow['positive']}) {irow['title']} - {irow['repo']} - [#{irow['number']}]({irow['url']})\"\n",
    "    text.append(itext)\n",
    "text = '\\n'.join(text)\n",
    "HTML(markdown(text))"
   ]
  },
  {
   "cell_type": "markdown",
   "id": "d1e8606c",
   "metadata": {
    "editable": true,
    "papermill": {
     "duration": 0.007955,
     "end_time": "2025-05-12T15:26:54.653588",
     "exception": false,
     "start_time": "2025-05-12T15:26:54.645633",
     "status": "completed"
    },
    "slideshow": {
     "slide_type": ""
    },
    "tags": []
   },
   "source": [
    "## Commenters across repositories\n",
    "\n",
    "These are commenters across all issues and pull requests in the last several days.\n",
    "These are colored by the commenter's association with the organization. For information\n",
    "about what these associations mean, [see this StackOverflow post](https://stackoverflow.com/a/28866914/1927102)."
   ]
  },
  {
   "cell_type": "code",
   "execution_count": 23,
   "id": "9a8aa0b4",
   "metadata": {
    "editable": true,
    "execution": {
     "iopub.execute_input": "2025-05-12T15:26:54.669045Z",
     "iopub.status.busy": "2025-05-12T15:26:54.668925Z",
     "iopub.status.idle": "2025-05-12T15:26:54.674146Z",
     "shell.execute_reply": "2025-05-12T15:26:54.673924Z"
    },
    "papermill": {
     "duration": 0.013796,
     "end_time": "2025-05-12T15:26:54.674837",
     "exception": false,
     "start_time": "2025-05-12T15:26:54.661041",
     "status": "completed"
    },
    "slideshow": {
     "slide_type": ""
    },
    "tags": [
     "remove_cell"
    ]
   },
   "outputs": [],
   "source": [
    "commentors = (\n",
    "    comments\n",
    "    .query(\"created_at > @start_date and created_at < @stop_date\")\n",
    "    .groupby(['org', 'repo', 'login', 'author_association'])\n",
    "    .count().rename(columns={'id_issue': 'count'})['count']\n",
    "    .reset_index()\n",
    "    .sort_values(['org', 'count'], ascending=False)\n",
    ")"
   ]
  },
  {
   "cell_type": "code",
   "execution_count": 24,
   "id": "d1e5c186",
   "metadata": {
    "editable": true,
    "execution": {
     "iopub.execute_input": "2025-05-12T15:26:54.690226Z",
     "iopub.status.busy": "2025-05-12T15:26:54.690122Z",
     "iopub.status.idle": "2025-05-12T15:26:54.700889Z",
     "shell.execute_reply": "2025-05-12T15:26:54.700659Z"
    },
    "papermill": {
     "duration": 0.019175,
     "end_time": "2025-05-12T15:26:54.701560",
     "exception": false,
     "start_time": "2025-05-12T15:26:54.682385",
     "status": "completed"
    },
    "slideshow": {
     "slide_type": ""
    },
    "tags": [
     "hide_input"
    ]
   },
   "outputs": [
    {
     "data": {
      "text/html": [
       "\n",
       "<style>\n",
       "  #altair-viz-78c71314f7034eb992d2d0c779149a37.vega-embed {\n",
       "    width: 100%;\n",
       "    display: flex;\n",
       "  }\n",
       "\n",
       "  #altair-viz-78c71314f7034eb992d2d0c779149a37.vega-embed details,\n",
       "  #altair-viz-78c71314f7034eb992d2d0c779149a37.vega-embed details summary {\n",
       "    position: relative;\n",
       "  }\n",
       "</style>\n",
       "<div id=\"altair-viz-78c71314f7034eb992d2d0c779149a37\"></div>\n",
       "<script type=\"text/javascript\">\n",
       "  var VEGA_DEBUG = (typeof VEGA_DEBUG == \"undefined\") ? {} : VEGA_DEBUG;\n",
       "  (function(spec, embedOpt){\n",
       "    let outputDiv = document.currentScript.previousElementSibling;\n",
       "    if (outputDiv.id !== \"altair-viz-78c71314f7034eb992d2d0c779149a37\") {\n",
       "      outputDiv = document.getElementById(\"altair-viz-78c71314f7034eb992d2d0c779149a37\");\n",
       "    }\n",
       "\n",
       "    const paths = {\n",
       "      \"vega\": \"https://cdn.jsdelivr.net/npm/vega@5?noext\",\n",
       "      \"vega-lib\": \"https://cdn.jsdelivr.net/npm/vega-lib?noext\",\n",
       "      \"vega-lite\": \"https://cdn.jsdelivr.net/npm/vega-lite@5.20.1?noext\",\n",
       "      \"vega-embed\": \"https://cdn.jsdelivr.net/npm/vega-embed@6?noext\",\n",
       "    };\n",
       "\n",
       "    function maybeLoadScript(lib, version) {\n",
       "      var key = `${lib.replace(\"-\", \"\")}_version`;\n",
       "      return (VEGA_DEBUG[key] == version) ?\n",
       "        Promise.resolve(paths[lib]) :\n",
       "        new Promise(function(resolve, reject) {\n",
       "          var s = document.createElement('script');\n",
       "          document.getElementsByTagName(\"head\")[0].appendChild(s);\n",
       "          s.async = true;\n",
       "          s.onload = () => {\n",
       "            VEGA_DEBUG[key] = version;\n",
       "            return resolve(paths[lib]);\n",
       "          };\n",
       "          s.onerror = () => reject(`Error loading script: ${paths[lib]}`);\n",
       "          s.src = paths[lib];\n",
       "        });\n",
       "    }\n",
       "\n",
       "    function showError(err) {\n",
       "      outputDiv.innerHTML = `<div class=\"error\" style=\"color:red;\">${err}</div>`;\n",
       "      throw err;\n",
       "    }\n",
       "\n",
       "    function displayChart(vegaEmbed) {\n",
       "      vegaEmbed(outputDiv, spec, embedOpt)\n",
       "        .catch(err => showError(`Javascript Error: ${err.message}<br>This usually means there's a typo in your chart specification. See the javascript console for the full traceback.`));\n",
       "    }\n",
       "\n",
       "    if(typeof define === \"function\" && define.amd) {\n",
       "      requirejs.config({paths});\n",
       "      let deps = [\"vega-embed\"];\n",
       "      require(deps, displayChart, err => showError(`Error loading script: ${err.message}`));\n",
       "    } else {\n",
       "      maybeLoadScript(\"vega\", \"5\")\n",
       "        .then(() => maybeLoadScript(\"vega-lite\", \"5.20.1\"))\n",
       "        .then(() => maybeLoadScript(\"vega-embed\", \"6\"))\n",
       "        .catch(showError)\n",
       "        .then(() => displayChart(vegaEmbed));\n",
       "    }\n",
       "  })({\"config\": {\"axisLeft\": {\"labelFontSize\": 15}, \"axisBottom\": {\"labelFontSize\": 15}}, \"hconcat\": [{\"mark\": {\"type\": \"bar\"}, \"encoding\": {\"color\": {\"field\": \"author_association\", \"scale\": {\"domain\": [\"MEMBER\", \"CONTRIBUTOR\", \"COLLABORATOR\", \"NONE\"], \"range\": [\"rgb(211.82745098039214, 211.82745098039214, 211.82745098039214)\", \"rgb(166.98562091503268, 229.89803921568628, 166.98562091503268)\", \"rgb(96.37647058823529, 192.75294117647059, 96.37647058823529)\", \"rgb(0.0, 100.3921568627451, 0.0)\"]}, \"type\": \"nominal\"}, \"x\": {\"field\": \"login\", \"type\": \"nominal\"}, \"y\": {\"field\": \"count\", \"type\": \"quantitative\"}}, \"title\": \"Top 50 commentors for ('jupyter',) in the last 90 days\"}], \"data\": {\"name\": \"data-f9e1323f53b62ff03d10536c2f3c5f48\"}, \"$schema\": \"https://vega.github.io/schema/vega-lite/v5.20.1.json\", \"datasets\": {\"data-f9e1323f53b62ff03d10536c2f3c5f48\": [{\"login\": \"krassowski\", \"count\": 21, \"author_association\": \"MEMBER\"}, {\"login\": \"mathbunnyru\", \"count\": 17, \"author_association\": \"MEMBER\"}, {\"login\": \"choldgraf\", \"count\": 17, \"author_association\": \"MEMBER\"}, {\"login\": \"danyeaw\", \"count\": 16, \"author_association\": \"MEMBER\"}, {\"login\": \"ivanov\", \"count\": 15, \"author_association\": \"MEMBER\"}, {\"login\": \"rpwagner\", \"count\": 14, \"author_association\": \"MEMBER\"}, {\"login\": \"Carreau\", \"count\": 13, \"author_association\": \"MEMBER\"}, {\"login\": \"mgorny\", \"count\": 10, \"author_association\": \"CONTRIBUTOR\"}, {\"login\": \"RRosio\", \"count\": 9, \"author_association\": \"MEMBER\"}, {\"login\": \"minrk\", \"count\": 8, \"author_association\": \"MEMBER\"}, {\"login\": \"antonio-rojas\", \"count\": 8, \"author_association\": \"CONTRIBUTOR\"}, {\"login\": \"shreve\", \"count\": 7, \"author_association\": \"CONTRIBUTOR\"}, {\"login\": \"dlqqq\", \"count\": 7, \"author_association\": \"MEMBER\"}, {\"login\": \"consideRatio\", \"count\": 6, \"author_association\": \"MEMBER\"}, {\"login\": \"fperez\", \"count\": 5, \"author_association\": \"MEMBER\"}, {\"login\": \"cab938\", \"count\": 5, \"author_association\": \"NONE\"}, {\"login\": \"manics\", \"count\": 4, \"author_association\": \"CONTRIBUTOR\"}, {\"login\": \"benz0li\", \"count\": 4, \"author_association\": \"CONTRIBUTOR\"}, {\"login\": \"davidbrochart\", \"count\": 4, \"author_association\": \"MEMBER\"}, {\"login\": \"NeilGirdhar\", \"count\": 3, \"author_association\": \"NONE\"}, {\"login\": \"perllaghu\", \"count\": 3, \"author_association\": \"CONTRIBUTOR\"}, {\"login\": \"garncarz\", \"count\": 3, \"author_association\": \"NONE\"}, {\"login\": \"t-makaro\", \"count\": 3, \"author_association\": \"CONTRIBUTOR\"}, {\"login\": \"SylvainCorlay\", \"count\": 3, \"author_association\": \"MEMBER\"}, {\"login\": \"mgeier\", \"count\": 3, \"author_association\": \"CONTRIBUTOR\"}, {\"login\": \"jeflem\", \"count\": 2, \"author_association\": \"CONTRIBUTOR\"}, {\"login\": \"jasongrout\", \"count\": 2, \"author_association\": \"MEMBER\"}, {\"login\": \"jtpio\", \"count\": 2, \"author_association\": \"MEMBER\"}, {\"login\": \"i0ntempest\", \"count\": 2, \"author_association\": \"NONE\"}, {\"login\": \"gabemorris12\", \"count\": 2, \"author_association\": \"NONE\"}, {\"login\": \"lahwaacz\", \"count\": 2, \"author_association\": \"CONTRIBUTOR\"}, {\"login\": \"frenzymadness\", \"count\": 2, \"author_association\": \"CONTRIBUTOR\"}, {\"login\": \"callegar\", \"count\": 2, \"author_association\": \"NONE\"}, {\"login\": \"QuincyWuzefeng\", \"count\": 2, \"author_association\": \"NONE\"}, {\"login\": \"EdoAlvarezR\", \"count\": 2, \"author_association\": \"NONE\"}, {\"login\": \"ctcjab\", \"count\": 2, \"author_association\": \"NONE\"}, {\"login\": \"cben\", \"count\": 2, \"author_association\": \"NONE\"}, {\"login\": \"cameronj86\", \"count\": 2, \"author_association\": \"NONE\"}, {\"login\": \"Ruv7\", \"count\": 2, \"author_association\": \"MEMBER\"}, {\"login\": \"blaiseli\", \"count\": 2, \"author_association\": \"NONE\"}, {\"login\": \"peterjasc\", \"count\": 1, \"author_association\": \"NONE\"}, {\"login\": \"LCRuth\", \"count\": 1, \"author_association\": \"NONE\"}, {\"login\": \"Kanishk-Kumar\", \"count\": 1, \"author_association\": \"NONE\"}, {\"login\": \"mirhossen390\", \"count\": 1, \"author_association\": \"NONE\"}, {\"login\": \"mschilli87\", \"count\": 1, \"author_association\": \"NONE\"}, {\"login\": \"JosephTLucas\", \"count\": 1, \"author_association\": \"MEMBER\"}, {\"login\": \"danieleongari\", \"count\": 1, \"author_association\": \"NONE\"}, {\"login\": \"ronaldpetty\", \"count\": 1, \"author_association\": \"NONE\"}, {\"login\": \"Jacob-Stevens-Haas\", \"count\": 1, \"author_association\": \"NONE\"}, {\"login\": \"ryan-williams\", \"count\": 1, \"author_association\": \"NONE\"}]}}, {\"mode\": \"vega-lite\"});\n",
       "</script>"
      ],
      "text/plain": [
       "alt.HConcatChart(...)"
      ]
     },
     "execution_count": 24,
     "metadata": {},
     "output_type": "execute_result"
    }
   ],
   "source": [
    "n_plot = 50\n",
    "charts = []\n",
    "for ii, (iorg, idata) in enumerate(commentors.groupby(['org'])):\n",
    "    title = f\"Top {n_plot} commentors for {iorg} in the last {n_days} days\"\n",
    "    idata = idata.groupby('login', as_index=False).agg({'count': 'sum', 'author_association': 'first'})\n",
    "    idata = idata.sort_values('count', ascending=False).head(n_plot)\n",
    "    ch = alt.Chart(data=idata.head(n_plot), title=title).mark_bar().encode(\n",
    "        x='login',\n",
    "        y='count',\n",
    "        color=alt.Color('author_association', scale=alt.Scale(domain=author_types, range=author_colors))\n",
    "    )\n",
    "    charts.append(ch)\n",
    "alt.hconcat(*charts)"
   ]
  },
  {
   "cell_type": "markdown",
   "id": "1f875b48",
   "metadata": {
    "editable": true,
    "papermill": {
     "duration": 0.007653,
     "end_time": "2025-05-12T15:26:54.717471",
     "exception": false,
     "start_time": "2025-05-12T15:26:54.709818",
     "status": "completed"
    },
    "slideshow": {
     "slide_type": ""
    },
    "tags": []
   },
   "source": [
    "## First responders\n",
    "\n",
    "First responders are the first people to respond to a new issue in one of the repositories.\n",
    "The following plots show first responders for recently-created issues."
   ]
  },
  {
   "cell_type": "code",
   "execution_count": 25,
   "id": "26a1871a",
   "metadata": {
    "editable": true,
    "execution": {
     "iopub.execute_input": "2025-05-12T15:26:54.733527Z",
     "iopub.status.busy": "2025-05-12T15:26:54.733315Z",
     "iopub.status.idle": "2025-05-12T15:26:54.750288Z",
     "shell.execute_reply": "2025-05-12T15:26:54.749992Z"
    },
    "papermill": {
     "duration": 0.02589,
     "end_time": "2025-05-12T15:26:54.751058",
     "exception": false,
     "start_time": "2025-05-12T15:26:54.725168",
     "status": "completed"
    },
    "slideshow": {
     "slide_type": ""
    },
    "tags": [
     "remove_cell"
    ]
   },
   "outputs": [],
   "source": [
    "first_comments = []\n",
    "latest_comments = comments.query(\"created_at > @start_date\")\n",
    "for (org, repo, issue_id), i_comments in latest_comments.groupby(['org', 'repo', 'id_issue']):\n",
    "    ix_min = pd.to_datetime(i_comments['created_at']).idxmin()\n",
    "    first_comment = i_comments.loc[ix_min]\n",
    "    if isinstance(first_comment, pd.DataFrame):\n",
    "        first_comment = first_comment.iloc[0]\n",
    "    first_comments.append(first_comment)\n",
    "first_comments = pd.concat(first_comments, axis=1).T\n",
    "\n",
    "# Make up counts for viz\n",
    "first_responder_counts = first_comments.groupby(['org', 'login', 'author_association'], as_index=False).\\\n",
    "    count().rename(columns={'id_issue': 'n_first_responses'}).sort_values(['org', 'n_first_responses'], ascending=False)\n"
   ]
  },
  {
   "cell_type": "code",
   "execution_count": 26,
   "id": "02b63658",
   "metadata": {
    "editable": true,
    "execution": {
     "iopub.execute_input": "2025-05-12T15:26:54.767803Z",
     "iopub.status.busy": "2025-05-12T15:26:54.767684Z",
     "iopub.status.idle": "2025-05-12T15:26:54.777821Z",
     "shell.execute_reply": "2025-05-12T15:26:54.777574Z"
    },
    "papermill": {
     "duration": 0.019567,
     "end_time": "2025-05-12T15:26:54.778504",
     "exception": false,
     "start_time": "2025-05-12T15:26:54.758937",
     "status": "completed"
    },
    "slideshow": {
     "slide_type": ""
    },
    "tags": [
     "hide_input"
    ]
   },
   "outputs": [
    {
     "data": {
      "text/html": [
       "\n",
       "<style>\n",
       "  #altair-viz-ce136b2d9c334fe3998cfad773b3b389.vega-embed {\n",
       "    width: 100%;\n",
       "    display: flex;\n",
       "  }\n",
       "\n",
       "  #altair-viz-ce136b2d9c334fe3998cfad773b3b389.vega-embed details,\n",
       "  #altair-viz-ce136b2d9c334fe3998cfad773b3b389.vega-embed details summary {\n",
       "    position: relative;\n",
       "  }\n",
       "</style>\n",
       "<div id=\"altair-viz-ce136b2d9c334fe3998cfad773b3b389\"></div>\n",
       "<script type=\"text/javascript\">\n",
       "  var VEGA_DEBUG = (typeof VEGA_DEBUG == \"undefined\") ? {} : VEGA_DEBUG;\n",
       "  (function(spec, embedOpt){\n",
       "    let outputDiv = document.currentScript.previousElementSibling;\n",
       "    if (outputDiv.id !== \"altair-viz-ce136b2d9c334fe3998cfad773b3b389\") {\n",
       "      outputDiv = document.getElementById(\"altair-viz-ce136b2d9c334fe3998cfad773b3b389\");\n",
       "    }\n",
       "\n",
       "    const paths = {\n",
       "      \"vega\": \"https://cdn.jsdelivr.net/npm/vega@5?noext\",\n",
       "      \"vega-lib\": \"https://cdn.jsdelivr.net/npm/vega-lib?noext\",\n",
       "      \"vega-lite\": \"https://cdn.jsdelivr.net/npm/vega-lite@5.20.1?noext\",\n",
       "      \"vega-embed\": \"https://cdn.jsdelivr.net/npm/vega-embed@6?noext\",\n",
       "    };\n",
       "\n",
       "    function maybeLoadScript(lib, version) {\n",
       "      var key = `${lib.replace(\"-\", \"\")}_version`;\n",
       "      return (VEGA_DEBUG[key] == version) ?\n",
       "        Promise.resolve(paths[lib]) :\n",
       "        new Promise(function(resolve, reject) {\n",
       "          var s = document.createElement('script');\n",
       "          document.getElementsByTagName(\"head\")[0].appendChild(s);\n",
       "          s.async = true;\n",
       "          s.onload = () => {\n",
       "            VEGA_DEBUG[key] = version;\n",
       "            return resolve(paths[lib]);\n",
       "          };\n",
       "          s.onerror = () => reject(`Error loading script: ${paths[lib]}`);\n",
       "          s.src = paths[lib];\n",
       "        });\n",
       "    }\n",
       "\n",
       "    function showError(err) {\n",
       "      outputDiv.innerHTML = `<div class=\"error\" style=\"color:red;\">${err}</div>`;\n",
       "      throw err;\n",
       "    }\n",
       "\n",
       "    function displayChart(vegaEmbed) {\n",
       "      vegaEmbed(outputDiv, spec, embedOpt)\n",
       "        .catch(err => showError(`Javascript Error: ${err.message}<br>This usually means there's a typo in your chart specification. See the javascript console for the full traceback.`));\n",
       "    }\n",
       "\n",
       "    if(typeof define === \"function\" && define.amd) {\n",
       "      requirejs.config({paths});\n",
       "      let deps = [\"vega-embed\"];\n",
       "      require(deps, displayChart, err => showError(`Error loading script: ${err.message}`));\n",
       "    } else {\n",
       "      maybeLoadScript(\"vega\", \"5\")\n",
       "        .then(() => maybeLoadScript(\"vega-lite\", \"5.20.1\"))\n",
       "        .then(() => maybeLoadScript(\"vega-embed\", \"6\"))\n",
       "        .catch(showError)\n",
       "        .then(() => displayChart(vegaEmbed));\n",
       "    }\n",
       "  })({\"config\": {\"axisLeft\": {\"labelFontSize\": 15}, \"axisBottom\": {\"labelFontSize\": 15}}, \"data\": {\"name\": \"data-5166f77dba0cd90c45b9915f3b782b42\"}, \"mark\": {\"type\": \"bar\"}, \"encoding\": {\"color\": {\"field\": \"author_association\", \"scale\": {\"domain\": [\"MEMBER\", \"CONTRIBUTOR\", \"COLLABORATOR\", \"NONE\"], \"range\": [\"rgb(211.82745098039214, 211.82745098039214, 211.82745098039214)\", \"rgb(166.98562091503268, 229.89803921568628, 166.98562091503268)\", \"rgb(96.37647058823529, 192.75294117647059, 96.37647058823529)\", \"rgb(0.0, 100.3921568627451, 0.0)\"]}, \"type\": \"nominal\"}, \"x\": {\"field\": \"login\", \"type\": \"nominal\"}, \"y\": {\"field\": \"n_first_responses\", \"type\": \"quantitative\"}}, \"title\": \"Top 50 first responders for jupyter in the last 90 days\", \"$schema\": \"https://vega.github.io/schema/vega-lite/v5.20.1.json\", \"datasets\": {\"data-5166f77dba0cd90c45b9915f3b782b42\": [{\"login\": \"ivanov\", \"n_first_responses\": 10, \"author_association\": \"MEMBER\"}, {\"login\": \"danyeaw\", \"n_first_responses\": 9, \"author_association\": \"MEMBER\"}, {\"login\": \"krassowski\", \"n_first_responses\": 7, \"author_association\": \"MEMBER\"}, {\"login\": \"mathbunnyru\", \"n_first_responses\": 6, \"author_association\": \"MEMBER\"}, {\"login\": \"Carreau\", \"n_first_responses\": 4, \"author_association\": \"MEMBER\"}, {\"login\": \"shreve\", \"n_first_responses\": 4, \"author_association\": \"CONTRIBUTOR\"}, {\"login\": \"RRosio\", \"n_first_responses\": 4, \"author_association\": \"MEMBER\"}, {\"login\": \"minrk\", \"n_first_responses\": 4, \"author_association\": \"MEMBER\"}, {\"login\": \"davidbrochart\", \"n_first_responses\": 3, \"author_association\": \"MEMBER\"}, {\"login\": \"t-makaro\", \"n_first_responses\": 2, \"author_association\": \"CONTRIBUTOR\"}, {\"login\": \"perllaghu\", \"n_first_responses\": 2, \"author_association\": \"CONTRIBUTOR\"}, {\"login\": \"manics\", \"n_first_responses\": 2, \"author_association\": \"CONTRIBUTOR\"}, {\"login\": \"jtpio\", \"n_first_responses\": 2, \"author_association\": \"MEMBER\"}, {\"login\": \"garncarz\", \"n_first_responses\": 2, \"author_association\": \"NONE\"}, {\"login\": \"choldgraf\", \"n_first_responses\": 1, \"author_association\": \"MEMBER\"}, {\"login\": \"afeld\", \"n_first_responses\": 1, \"author_association\": \"NONE\"}, {\"login\": \"t1nux\", \"n_first_responses\": 1, \"author_association\": \"NONE\"}, {\"login\": \"FahimFBA\", \"n_first_responses\": 1, \"author_association\": \"NONE\"}, {\"login\": \"steco\", \"n_first_responses\": 1, \"author_association\": \"NONE\"}, {\"login\": \"soumyadeep6845\", \"n_first_responses\": 1, \"author_association\": \"NONE\"}, {\"login\": \"Kanishk-Kumar\", \"n_first_responses\": 1, \"author_association\": \"NONE\"}, {\"login\": \"shoowadoo\", \"n_first_responses\": 1, \"author_association\": \"NONE\"}, {\"login\": \"rpwagner\", \"n_first_responses\": 1, \"author_association\": \"MEMBER\"}, {\"login\": \"peterjasc\", \"n_first_responses\": 1, \"author_association\": \"NONE\"}, {\"login\": \"LCRuth\", \"n_first_responses\": 1, \"author_association\": \"NONE\"}, {\"login\": \"mschilli87\", \"n_first_responses\": 1, \"author_association\": \"NONE\"}, {\"login\": \"mirhossen390\", \"n_first_responses\": 1, \"author_association\": \"NONE\"}, {\"login\": \"Sr-11\", \"n_first_responses\": 1, \"author_association\": \"NONE\"}, {\"login\": \"mdealencar\", \"n_first_responses\": 1, \"author_association\": \"NONE\"}, {\"login\": \"SylvainCorlay\", \"n_first_responses\": 1, \"author_association\": \"MEMBER\"}, {\"login\": \"lilinfangrelax\", \"n_first_responses\": 1, \"author_association\": \"NONE\"}, {\"login\": \"consideRatio\", \"n_first_responses\": 1, \"author_association\": \"MEMBER\"}, {\"login\": \"lahwaacz\", \"n_first_responses\": 1, \"author_association\": \"CONTRIBUTOR\"}, {\"login\": \"benjamincburns\", \"n_first_responses\": 1, \"author_association\": \"NONE\"}, {\"login\": \"kolithawarnakulasooriya\", \"n_first_responses\": 1, \"author_association\": \"NONE\"}, {\"login\": \"benz0li\", \"n_first_responses\": 1, \"author_association\": \"CONTRIBUTOR\"}, {\"login\": \"jeflem\", \"n_first_responses\": 1, \"author_association\": \"CONTRIBUTOR\"}, {\"login\": \"blaiseli\", \"n_first_responses\": 1, \"author_association\": \"NONE\"}, {\"login\": \"EdoAlvarezR\", \"n_first_responses\": 1, \"author_association\": \"NONE\"}, {\"login\": \"galopyz\", \"n_first_responses\": 1, \"author_association\": \"NONE\"}, {\"login\": \"fjadidi2001\", \"n_first_responses\": 1, \"author_association\": \"NONE\"}, {\"login\": \"ellisonbg\", \"n_first_responses\": 1, \"author_association\": \"MEMBER\"}, {\"login\": \"eguiraud-pf\", \"n_first_responses\": 1, \"author_association\": \"NONE\"}, {\"login\": \"bongovanfifi\", \"n_first_responses\": 1, \"author_association\": \"NONE\"}, {\"login\": \"cben\", \"n_first_responses\": 1, \"author_association\": \"NONE\"}, {\"login\": \"danieleongari\", \"n_first_responses\": 1, \"author_association\": \"NONE\"}, {\"login\": \"vidartf\", \"n_first_responses\": 1, \"author_association\": \"MEMBER\"}]}}, {\"mode\": \"vega-lite\"});\n",
       "</script>"
      ],
      "text/plain": [
       "alt.Chart(...)"
      ]
     },
     "execution_count": 26,
     "metadata": {},
     "output_type": "execute_result"
    }
   ],
   "source": [
    "n_plot = 50\n",
    "\n",
    "title = f\"Top {n_plot} first responders for {github_org} in the last {n_days} days\"\n",
    "idata = first_responder_counts.groupby('login', as_index=False).agg({'n_first_responses': 'sum', 'author_association': 'first'})\n",
    "idata = idata.sort_values('n_first_responses', ascending=False).head(n_plot)\n",
    "ch = alt.Chart(data=idata.head(n_plot), title=title).mark_bar().encode(\n",
    "    x='login',\n",
    "    y='n_first_responses',\n",
    "    color=alt.Color('author_association', scale=alt.Scale(domain=author_types, range=author_colors))\n",
    ")\n",
    "ch"
   ]
  },
  {
   "cell_type": "markdown",
   "id": "34e1339c",
   "metadata": {
    "editable": true,
    "papermill": {
     "duration": 0.007612,
     "end_time": "2025-05-12T15:26:54.794092",
     "exception": false,
     "start_time": "2025-05-12T15:26:54.786480",
     "status": "completed"
    },
    "slideshow": {
     "slide_type": ""
    },
    "tags": []
   },
   "source": [
    "## Recent activity\n",
    "\n",
    "### A list of merged PRs by project\n",
    "\n",
    "Below is a tabbed readout of recently-merged PRs. Check out the title to get an idea for what they\n",
    "implemented, and be sure to thank the PR author for their hard work!"
   ]
  },
  {
   "cell_type": "code",
   "execution_count": 27,
   "id": "b21b88a4",
   "metadata": {
    "editable": true,
    "execution": {
     "iopub.execute_input": "2025-05-12T15:26:54.809651Z",
     "iopub.status.busy": "2025-05-12T15:26:54.809547Z",
     "iopub.status.idle": "2025-05-12T15:26:54.860131Z",
     "shell.execute_reply": "2025-05-12T15:26:54.859800Z"
    },
    "papermill": {
     "duration": 0.067732,
     "end_time": "2025-05-12T15:26:54.869382",
     "exception": false,
     "start_time": "2025-05-12T15:26:54.801650",
     "status": "completed"
    },
    "slideshow": {
     "slide_type": ""
    },
    "tags": [
     "hide_input"
    ]
   },
   "outputs": [
    {
     "data": {
      "application/vnd.jupyter.widget-view+json": {
       "model_id": "58212b5531d0453483e4dc19be360fcd",
       "version_major": 2,
       "version_minor": 0
      },
      "text/plain": [
       "Tab(children=(HTML(value='<h4>Closed PRs for repo: <a href=\"https://github.com/jupyter/docker-stacks\">jupyter/…"
      ]
     },
     "execution_count": 27,
     "metadata": {},
     "output_type": "execute_result"
    }
   ],
   "source": [
    "tabs = widgets.Tab(children=[])\n",
    "\n",
    "for ii, ((org, repo), imerged) in enumerate(merged.query(\"repo in @use_repos\").groupby(['org', 'repo'])):\n",
    "    merged_by = {}\n",
    "    pr_by = {}\n",
    "    issue_md = []\n",
    "    issue_md.append(f\"#### Closed PRs for repo: [{org}/{repo}](https://github.com/{github_org}/{repo})\")\n",
    "    issue_md.append(\"\")\n",
    "    issue_md.append(f\"##### \")\n",
    "\n",
    "    for _, ipr in imerged.iterrows():\n",
    "        user_name = ipr['login']\n",
    "        user_url = author_url(user_name)\n",
    "        pr_number = ipr['number']\n",
    "        pr_html = ipr['url']\n",
    "        pr_title = ipr['title']\n",
    "        pr_closedby = ipr['merged_by']\n",
    "        pr_closedby_url = f\"https://github.com/{pr_closedby}\"\n",
    "        if user_name not in pr_by:\n",
    "            pr_by[user_name] = 1\n",
    "        else:\n",
    "            pr_by[user_name] += 1\n",
    "\n",
    "        if pr_closedby not in merged_by:\n",
    "            merged_by[pr_closedby] = 1\n",
    "        else:\n",
    "            merged_by[pr_closedby] += 1\n",
    "        text = f\"* [(#{pr_number})]({pr_html}): _{pr_title}_ by **[@{user_name}]({user_url})** merged by **[@{pr_closedby}]({pr_closedby_url})**\"\n",
    "        issue_md.append(text)\n",
    "    \n",
    "    issue_md.append('')\n",
    "    markdown_html = markdown('\\n'.join(issue_md))\n",
    "\n",
    "    children = list(tabs.children)\n",
    "    children.append(HTML(markdown_html))\n",
    "    tabs.children = tuple(children)\n",
    "    tabs.set_title(ii, repo)\n",
    "tabs"
   ]
  },
  {
   "cell_type": "markdown",
   "id": "22140989",
   "metadata": {
    "editable": true,
    "papermill": {
     "duration": 0.008026,
     "end_time": "2025-05-12T15:26:54.885631",
     "exception": false,
     "start_time": "2025-05-12T15:26:54.877605",
     "status": "completed"
    },
    "slideshow": {
     "slide_type": ""
    },
    "tags": []
   },
   "source": [
    "### A list of recent issues\n",
    "\n",
    "Below is a list of issues with recent activity in each repository. If they seem of interest\n",
    "to you, click on their links and jump in to participate!"
   ]
  },
  {
   "cell_type": "code",
   "execution_count": 28,
   "id": "9030c109",
   "metadata": {
    "editable": true,
    "execution": {
     "iopub.execute_input": "2025-05-12T15:26:54.901879Z",
     "iopub.status.busy": "2025-05-12T15:26:54.901753Z",
     "iopub.status.idle": "2025-05-12T15:26:54.906363Z",
     "shell.execute_reply": "2025-05-12T15:26:54.906151Z"
    },
    "papermill": {
     "duration": 0.013572,
     "end_time": "2025-05-12T15:26:54.906975",
     "exception": false,
     "start_time": "2025-05-12T15:26:54.893403",
     "status": "completed"
    },
    "slideshow": {
     "slide_type": ""
    },
    "tags": [
     "remove_cell"
    ]
   },
   "outputs": [],
   "source": [
    "# Add comment count data to issues and PRs\n",
    "comment_counts = (\n",
    "    comments\n",
    "    .query(\"created_at > @start_date and created_at < @stop_date\")\n",
    "    .groupby(['org', 'repo', 'id_issue'])\n",
    "    .count().iloc[:, 0].to_frame()\n",
    ")\n",
    "comment_counts.columns = ['n_comments']\n",
    "comment_counts = comment_counts.reset_index()"
   ]
  },
  {
   "cell_type": "code",
   "execution_count": 29,
   "id": "22a3d3f3",
   "metadata": {
    "editable": true,
    "execution": {
     "iopub.execute_input": "2025-05-12T15:26:54.923540Z",
     "iopub.status.busy": "2025-05-12T15:26:54.923431Z",
     "iopub.status.idle": "2025-05-12T15:26:54.985180Z",
     "shell.execute_reply": "2025-05-12T15:26:54.984925Z"
    },
    "papermill": {
     "duration": 0.071277,
     "end_time": "2025-05-12T15:26:54.986210",
     "exception": false,
     "start_time": "2025-05-12T15:26:54.914933",
     "status": "completed"
    },
    "slideshow": {
     "slide_type": ""
    },
    "tags": [
     "hide_input"
    ],
    "toc-hr-collapsed": false
   },
   "outputs": [
    {
     "data": {
      "text/markdown": [
       "Here are the top 5 active issues in each repository in the last 90 days"
      ],
      "text/plain": [
       "<IPython.core.display.Markdown object>"
      ]
     },
     "metadata": {},
     "output_type": "display_data"
    },
    {
     "data": {
      "application/vnd.jupyter.widget-view+json": {
       "model_id": "83af721993f04351aa1b028669ab39c3",
       "version_major": 2,
       "version_minor": 0
      },
      "text/plain": [
       "Tab(children=(HTML(value='<h5><a href=\"https://github.com/jupyter/docker-stacks\">jupyter/docker-stacks</a></h5…"
      ]
     },
     "metadata": {},
     "output_type": "display_data"
    }
   ],
   "source": [
    "n_plot = 5\n",
    "tabs = widgets.Tab(children=[])\n",
    "\n",
    "for ii, (repo, i_issues) in enumerate(comment_counts.query(\"repo in @use_repos\").groupby('repo')):\n",
    "    \n",
    "    issue_md = []\n",
    "    issue_md.append(\"\")\n",
    "    issue_md.append(f\"##### [{github_org}/{repo}](https://github.com/{github_org}/{repo})\")\n",
    "\n",
    "    top_issues = i_issues.sort_values('n_comments', ascending=False).head(n_plot)\n",
    "    top_issue_list = pd.merge(issues, top_issues, left_on=['org', 'repo', 'id_issue'], right_on=['org', 'repo', 'id_issue'])\n",
    "    for _, issue in top_issue_list.sort_values('n_comments', ascending=False).head(n_plot).iterrows():\n",
    "        user_name = issue['login']\n",
    "        user_url = author_url(user_name)\n",
    "        issue_number = issue['number']\n",
    "        issue_html = issue['url']\n",
    "        issue_title = issue['title']\n",
    "\n",
    "        text = f\"* [(#{issue_number})]({issue_html}): _{issue_title}_ by **[@{user_name}]({user_url})**\"\n",
    "        issue_md.append(text)\n",
    "\n",
    "    issue_md.append('')\n",
    "    md_html = HTML(markdown('\\n'.join(issue_md)))\n",
    "\n",
    "    children = list(tabs.children)\n",
    "    children.append(HTML(markdown('\\n'.join(issue_md))))\n",
    "    tabs.children = tuple(children)\n",
    "    tabs.set_title(ii, repo)\n",
    "    \n",
    "display(Markdown(f\"Here are the top {n_plot} active issues in each repository in the last {n_days} days\"))\n",
    "display(tabs)"
   ]
  }
 ],
 "metadata": {
  "kernelspec": {
   "display_name": "Python 3 (ipykernel)",
   "language": "python",
   "name": "python3"
  },
  "language_info": {
   "codemirror_mode": {
    "name": "ipython",
    "version": 3
   },
   "file_extension": ".py",
   "mimetype": "text/x-python",
   "name": "python",
   "nbconvert_exporter": "python",
   "pygments_lexer": "ipython3",
   "version": "3.10.14"
  },
  "papermill": {
   "default_parameters": {},
   "duration": 3.468525,
   "end_time": "2025-05-12T15:26:55.211468",
   "environment_variables": {},
   "exception": null,
   "input_path": "./templates/org_report.ipynb",
   "output_path": "generated/book/jupyter.ipynb",
   "parameters": {
    "github_org": "jupyter",
    "n_days": 90
   },
   "start_time": "2025-05-12T15:26:51.742943",
   "version": "2.6.0"
  },
  "widgets": {
   "application/vnd.jupyter.widget-state+json": {
    "state": {
     "01917b07edbd4351bc3df8f6a962b2fa": {
      "model_module": "@jupyter-widgets/controls",
      "model_module_version": "2.0.0",
      "model_name": "HTMLStyleModel",
      "state": {
       "_model_module": "@jupyter-widgets/controls",
       "_model_module_version": "2.0.0",
       "_model_name": "HTMLStyleModel",
       "_view_count": null,
       "_view_module": "@jupyter-widgets/base",
       "_view_module_version": "2.0.0",
       "_view_name": "StyleView",
       "background": null,
       "description_width": "",
       "font_size": null,
       "text_color": null
      }
     },
     "01946f0e80df4755a819ecaf6c65bc26": {
      "model_module": "@jupyter-widgets/base",
      "model_module_version": "2.0.0",
      "model_name": "LayoutModel",
      "state": {
       "_model_module": "@jupyter-widgets/base",
       "_model_module_version": "2.0.0",
       "_model_name": "LayoutModel",
       "_view_count": null,
       "_view_module": "@jupyter-widgets/base",
       "_view_module_version": "2.0.0",
       "_view_name": "LayoutView",
       "align_content": null,
       "align_items": null,
       "align_self": null,
       "border_bottom": null,
       "border_left": null,
       "border_right": null,
       "border_top": null,
       "bottom": null,
       "display": null,
       "flex": null,
       "flex_flow": null,
       "grid_area": null,
       "grid_auto_columns": null,
       "grid_auto_flow": null,
       "grid_auto_rows": null,
       "grid_column": null,
       "grid_gap": null,
       "grid_row": null,
       "grid_template_areas": null,
       "grid_template_columns": null,
       "grid_template_rows": null,
       "height": null,
       "justify_content": null,
       "justify_items": null,
       "left": null,
       "margin": null,
       "max_height": null,
       "max_width": null,
       "min_height": null,
       "min_width": null,
       "object_fit": null,
       "object_position": null,
       "order": null,
       "overflow": null,
       "padding": null,
       "right": null,
       "top": null,
       "visibility": null,
       "width": null
      }
     },
     "05e1aadf56dd4a1d9886e66dd4e02238": {
      "model_module": "@jupyter-widgets/controls",
      "model_module_version": "2.0.0",
      "model_name": "HTMLStyleModel",
      "state": {
       "_model_module": "@jupyter-widgets/controls",
       "_model_module_version": "2.0.0",
       "_model_name": "HTMLStyleModel",
       "_view_count": null,
       "_view_module": "@jupyter-widgets/base",
       "_view_module_version": "2.0.0",
       "_view_name": "StyleView",
       "background": null,
       "description_width": "",
       "font_size": null,
       "text_color": null
      }
     },
     "0bfa07df9d774e94aca09c5a1416b2c1": {
      "model_module": "@jupyter-widgets/controls",
      "model_module_version": "2.0.0",
      "model_name": "HTMLStyleModel",
      "state": {
       "_model_module": "@jupyter-widgets/controls",
       "_model_module_version": "2.0.0",
       "_model_name": "HTMLStyleModel",
       "_view_count": null,
       "_view_module": "@jupyter-widgets/base",
       "_view_module_version": "2.0.0",
       "_view_name": "StyleView",
       "background": null,
       "description_width": "",
       "font_size": null,
       "text_color": null
      }
     },
     "0cb21fe013bf4c5c917c11d20823bf14": {
      "model_module": "@jupyter-widgets/controls",
      "model_module_version": "2.0.0",
      "model_name": "HTMLModel",
      "state": {
       "_dom_classes": [],
       "_model_module": "@jupyter-widgets/controls",
       "_model_module_version": "2.0.0",
       "_model_name": "HTMLModel",
       "_view_count": null,
       "_view_module": "@jupyter-widgets/controls",
       "_view_module_version": "2.0.0",
       "_view_name": "HTMLView",
       "description": "",
       "description_allow_html": false,
       "layout": "IPY_MODEL_e7dae919b1794696af7e50db10b9d5da",
       "placeholder": "​",
       "style": "IPY_MODEL_05e1aadf56dd4a1d9886e66dd4e02238",
       "tabbable": null,
       "tooltip": null,
       "value": "<ul>\n<li>(99) Feature request: open a notebook without running kernel - notebook - <a href=\"https://github.com/jupyter/notebook/issues/3170\">#3170</a></li>\n<li>(99) Hide input cells - notebook - <a href=\"https://github.com/jupyter/notebook/issues/534\">#534</a></li>\n<li>(83) Restoring computation output after disconnect in Notebook - notebook - <a href=\"https://github.com/jupyter/notebook/issues/641\">#641</a></li>\n<li>(80) Keyboard shortcut for multiline cursor - notebook - <a href=\"https://github.com/jupyter/notebook/issues/4761\">#4761</a></li>\n<li>(46) Exporting a single jupyter cell output - notebook - <a href=\"https://github.com/jupyter/notebook/issues/3039\">#3039</a></li>\n<li>(44) Pdf doesn't include images - nbconvert - <a href=\"https://github.com/jupyter/nbconvert/issues/552\">#552</a></li>\n<li>(41) add Gitlab support - nbviewer - <a href=\"https://github.com/jupyter/nbviewer/issues/371\">#371</a></li>\n<li>(40) Running <code>jupyter notebook</code> opens visual studio code, not a browser - notebook - <a href=\"https://github.com/jupyter/notebook/issues/4304\">#4304</a></li>\n<li>(37) Jupyter notebook -&gt; pdf error - nbconvert - <a href=\"https://github.com/jupyter/nbconvert/issues/1099\">#1099</a></li>\n<li>(36) Output notebook while executing - nbconvert - <a href=\"https://github.com/jupyter/nbconvert/issues/648\">#648</a></li>\n<li>(34) Memory usage information for each listed running notebook, in \"Running\" tab - notebook - <a href=\"https://github.com/jupyter/notebook/issues/3117\">#3117</a></li>\n<li>(33) [Feature Request] Two column mode - notebook - <a href=\"https://github.com/jupyter/notebook/issues/2791\">#2791</a></li>\n<li>(33) Feature request: directly exporting notebook slides to PDF - nbconvert - <a href=\"https://github.com/jupyter/nbconvert/issues/713\">#713</a></li>\n<li>(32) Proper way to add \"alert\"/\"note\"/\"hint\"/\"warning\"/... boxes? - notebook - <a href=\"https://github.com/jupyter/notebook/issues/1292\">#1292</a></li>\n<li>(28) Is there a way to open a terminal in the current directory? - notebook - <a href=\"https://github.com/jupyter/notebook/issues/1898\">#1898</a></li>\n<li>(25) nbviewer does not flush cache - nbviewer - <a href=\"https://github.com/jupyter/nbviewer/issues/914\">#914</a></li>\n<li>(24) Jupyter Notebook so slow and not executing cell sometimes(1 time out of 2 times) - notebook - <a href=\"https://github.com/jupyter/notebook/issues/3303\">#3303</a></li>\n<li>(24) how to jump to the failed cell? - notebook - <a href=\"https://github.com/jupyter/notebook/issues/4323\">#4323</a></li>\n<li>(24) Access S3 URLs directly - nbviewer - <a href=\"https://github.com/jupyter/nbviewer/issues/630\">#630</a></li>\n<li>(22) Export nbdiff-web HTML from command line - nbdime - <a href=\"https://github.com/jupyter/nbdime/issues/468\">#468</a></li>\n<li>(22) Inline Whiteboard - notebook - <a href=\"https://github.com/jupyter/notebook/issues/1999\">#1999</a></li>\n<li>(22) Add ability to watch notebook files and convert automatically - nbconvert - <a href=\"https://github.com/jupyter/nbconvert/issues/826\">#826</a></li>\n<li>(21) Adjusting width of attached image in markdown cell - notebook - <a href=\"https://github.com/jupyter/notebook/issues/1885\">#1885</a></li>\n<li>(21) Jupyter Notebook ‘zmq message arrived on closed channel’ Error - notebook - <a href=\"https://github.com/jupyter/notebook/issues/6721\">#6721</a></li>\n<li>(20) Add a keyboard shortcut to duplicate line in distribution - notebook - <a href=\"https://github.com/jupyter/notebook/issues/4505\">#4505</a></li>\n</ul>"
      }
     },
     "1327ca134f04482ca6190c44a4f3c44f": {
      "model_module": "@jupyter-widgets/controls",
      "model_module_version": "2.0.0",
      "model_name": "HTMLStyleModel",
      "state": {
       "_model_module": "@jupyter-widgets/controls",
       "_model_module_version": "2.0.0",
       "_model_name": "HTMLStyleModel",
       "_view_count": null,
       "_view_module": "@jupyter-widgets/base",
       "_view_module_version": "2.0.0",
       "_view_name": "StyleView",
       "background": null,
       "description_width": "",
       "font_size": null,
       "text_color": null
      }
     },
     "177912ea399a40c49a7b51be98efef1a": {
      "model_module": "@jupyter-widgets/controls",
      "model_module_version": "2.0.0",
      "model_name": "HTMLModel",
      "state": {
       "_dom_classes": [],
       "_model_module": "@jupyter-widgets/controls",
       "_model_module_version": "2.0.0",
       "_model_name": "HTMLModel",
       "_view_count": null,
       "_view_module": "@jupyter-widgets/controls",
       "_view_module_version": "2.0.0",
       "_view_name": "HTMLView",
       "description": "",
       "description_allow_html": false,
       "layout": "IPY_MODEL_e048e24669e64025aa13de43fb945c31",
       "placeholder": "​",
       "style": "IPY_MODEL_3e98193242a148d8a95ca63061fc8279",
       "tabbable": null,
       "tooltip": null,
       "value": "<h5><a href=\"https://github.com/jupyter/jupyter\">jupyter/jupyter</a></h5>\n<ul>\n<li><a href=\"https://github.com/jupyter/jupyter/issues/761\">(#761)</a>: <em>Let's discuss recent force-pushes</em> by <strong><a href=\"https://github.com/ivanov\">@ivanov</a></strong></li>\n<li><a href=\"https://github.com/jupyter/jupyter/issues/490\">(#490)</a>: <em>Programmatically detect whether the inline backend is available</em> by <strong><a href=\"https://github.com/lukelbd\">@lukelbd</a></strong></li>\n<li><a href=\"https://github.com/jupyter/jupyter/issues/505\">(#505)</a>: <em>Fix \"-m jupyter [console|notebook|...]\" so that it works on Windows</em> by <strong><a href=\"https://github.com/ksamuel\">@ksamuel</a></strong></li>\n<li><a href=\"https://github.com/jupyter/jupyter/issues/715\">(#715)</a>: <em>Broken Urls For Server API Schema</em> by <strong><a href=\"https://github.com/guomanmin\">@guomanmin</a></strong></li>\n<li><a href=\"https://github.com/jupyter/jupyter/issues/755\">(#755)</a>: <em>No minimum Python version specified; Python 3.10 and above supported?</em> by <strong><a href=\"https://github.com/andy-maier\">@andy-maier</a></strong></li>\n</ul>"
      }
     },
     "1809a02cd5224524a385beaea0fa412e": {
      "model_module": "@jupyter-widgets/controls",
      "model_module_version": "2.0.0",
      "model_name": "HTMLModel",
      "state": {
       "_dom_classes": [],
       "_model_module": "@jupyter-widgets/controls",
       "_model_module_version": "2.0.0",
       "_model_name": "HTMLModel",
       "_view_count": null,
       "_view_module": "@jupyter-widgets/controls",
       "_view_module_version": "2.0.0",
       "_view_name": "HTMLView",
       "description": "",
       "description_allow_html": false,
       "layout": "IPY_MODEL_af746d574a534ea3b0d61d71fb150a49",
       "placeholder": "​",
       "style": "IPY_MODEL_56eacc5a76a2427ba6e4e35a3e0a396d",
       "tabbable": null,
       "tooltip": null,
       "value": "<h5><a href=\"https://github.com/jupyter/governance\">jupyter/governance</a></h5>\n<ul>\n<li><a href=\"https://github.com/jupyter/governance/issues/257\">(#257)</a>: <em>Use <code>@jupyter.org</code> as the Bluesky handle</em> by <strong><a href=\"https://github.com/jtpio\">@jtpio</a></strong></li>\n<li><a href=\"https://github.com/jupyter/governance/issues/184\">(#184)</a>: <em>Should this repository be renamed and <code>README.md</code> updated?</em> by <strong><a href=\"https://github.com/krassowski\">@krassowski</a></strong></li>\n<li><a href=\"https://github.com/jupyter/governance/issues/258\">(#258)</a>: <em>JMS: what is in jupyterlabworkspace.slack.com and is it maintained?</em> by <strong><a href=\"https://github.com/krassowski\">@krassowski</a></strong></li>\n<li><a href=\"https://github.com/jupyter/governance/issues/262\">(#262)</a>: <em>Give the @executive-council team permissions to change organization social media settings</em> by <strong><a href=\"https://github.com/choldgraf\">@choldgraf</a></strong></li>\n<li><a href=\"https://github.com/jupyter/governance/issues/256\">(#256)</a>: <em>Incubator Process Contains Archived Proposal Location</em> by <strong><a href=\"https://github.com/danyeaw\">@danyeaw</a></strong></li>\n</ul>"
      }
     },
     "1b9d324472e94b6ca9dfc84db2b09078": {
      "model_module": "@jupyter-widgets/base",
      "model_module_version": "2.0.0",
      "model_name": "LayoutModel",
      "state": {
       "_model_module": "@jupyter-widgets/base",
       "_model_module_version": "2.0.0",
       "_model_name": "LayoutModel",
       "_view_count": null,
       "_view_module": "@jupyter-widgets/base",
       "_view_module_version": "2.0.0",
       "_view_name": "LayoutView",
       "align_content": null,
       "align_items": null,
       "align_self": null,
       "border_bottom": null,
       "border_left": null,
       "border_right": null,
       "border_top": null,
       "bottom": null,
       "display": null,
       "flex": null,
       "flex_flow": null,
       "grid_area": null,
       "grid_auto_columns": null,
       "grid_auto_flow": null,
       "grid_auto_rows": null,
       "grid_column": null,
       "grid_gap": null,
       "grid_row": null,
       "grid_template_areas": null,
       "grid_template_columns": null,
       "grid_template_rows": null,
       "height": null,
       "justify_content": null,
       "justify_items": null,
       "left": null,
       "margin": null,
       "max_height": null,
       "max_width": null,
       "min_height": null,
       "min_width": null,
       "object_fit": null,
       "object_position": null,
       "order": null,
       "overflow": null,
       "padding": null,
       "right": null,
       "top": null,
       "visibility": null,
       "width": null
      }
     },
     "20901ddd3d4c44fca388a7fb1e072c75": {
      "model_module": "@jupyter-widgets/controls",
      "model_module_version": "2.0.0",
      "model_name": "HTMLStyleModel",
      "state": {
       "_model_module": "@jupyter-widgets/controls",
       "_model_module_version": "2.0.0",
       "_model_name": "HTMLStyleModel",
       "_view_count": null,
       "_view_module": "@jupyter-widgets/base",
       "_view_module_version": "2.0.0",
       "_view_name": "StyleView",
       "background": null,
       "description_width": "",
       "font_size": null,
       "text_color": null
      }
     },
     "20aac7c3afc64bff97026916138b8d8e": {
      "model_module": "@jupyter-widgets/controls",
      "model_module_version": "2.0.0",
      "model_name": "HTMLStyleModel",
      "state": {
       "_model_module": "@jupyter-widgets/controls",
       "_model_module_version": "2.0.0",
       "_model_name": "HTMLStyleModel",
       "_view_count": null,
       "_view_module": "@jupyter-widgets/base",
       "_view_module_version": "2.0.0",
       "_view_name": "StyleView",
       "background": null,
       "description_width": "",
       "font_size": null,
       "text_color": null
      }
     },
     "244219f31825455c96b114d56cdcacbe": {
      "model_module": "@jupyter-widgets/base",
      "model_module_version": "2.0.0",
      "model_name": "LayoutModel",
      "state": {
       "_model_module": "@jupyter-widgets/base",
       "_model_module_version": "2.0.0",
       "_model_name": "LayoutModel",
       "_view_count": null,
       "_view_module": "@jupyter-widgets/base",
       "_view_module_version": "2.0.0",
       "_view_name": "LayoutView",
       "align_content": null,
       "align_items": null,
       "align_self": null,
       "border_bottom": null,
       "border_left": null,
       "border_right": null,
       "border_top": null,
       "bottom": null,
       "display": null,
       "flex": null,
       "flex_flow": null,
       "grid_area": null,
       "grid_auto_columns": null,
       "grid_auto_flow": null,
       "grid_auto_rows": null,
       "grid_column": null,
       "grid_gap": null,
       "grid_row": null,
       "grid_template_areas": null,
       "grid_template_columns": null,
       "grid_template_rows": null,
       "height": null,
       "justify_content": null,
       "justify_items": null,
       "left": null,
       "margin": null,
       "max_height": null,
       "max_width": null,
       "min_height": null,
       "min_width": null,
       "object_fit": null,
       "object_position": null,
       "order": null,
       "overflow": null,
       "padding": null,
       "right": null,
       "top": null,
       "visibility": null,
       "width": null
      }
     },
     "2539d768b7624d9f9ac2cdb445c55a39": {
      "model_module": "@jupyter-widgets/base",
      "model_module_version": "2.0.0",
      "model_name": "LayoutModel",
      "state": {
       "_model_module": "@jupyter-widgets/base",
       "_model_module_version": "2.0.0",
       "_model_name": "LayoutModel",
       "_view_count": null,
       "_view_module": "@jupyter-widgets/base",
       "_view_module_version": "2.0.0",
       "_view_name": "LayoutView",
       "align_content": null,
       "align_items": null,
       "align_self": null,
       "border_bottom": null,
       "border_left": null,
       "border_right": null,
       "border_top": null,
       "bottom": null,
       "display": null,
       "flex": null,
       "flex_flow": null,
       "grid_area": null,
       "grid_auto_columns": null,
       "grid_auto_flow": null,
       "grid_auto_rows": null,
       "grid_column": null,
       "grid_gap": null,
       "grid_row": null,
       "grid_template_areas": null,
       "grid_template_columns": null,
       "grid_template_rows": null,
       "height": null,
       "justify_content": null,
       "justify_items": null,
       "left": null,
       "margin": null,
       "max_height": null,
       "max_width": null,
       "min_height": null,
       "min_width": null,
       "object_fit": null,
       "object_position": null,
       "order": null,
       "overflow": null,
       "padding": null,
       "right": null,
       "top": null,
       "visibility": null,
       "width": null
      }
     },
     "25627540cb0042e1b09d84b18a87c37e": {
      "model_module": "@jupyter-widgets/controls",
      "model_module_version": "2.0.0",
      "model_name": "HTMLModel",
      "state": {
       "_dom_classes": [],
       "_model_module": "@jupyter-widgets/controls",
       "_model_module_version": "2.0.0",
       "_model_name": "HTMLModel",
       "_view_count": null,
       "_view_module": "@jupyter-widgets/controls",
       "_view_module_version": "2.0.0",
       "_view_name": "HTMLView",
       "description": "",
       "description_allow_html": false,
       "layout": "IPY_MODEL_55f2d00892d447e58a981aa024cf3eda",
       "placeholder": "​",
       "style": "IPY_MODEL_d93a2c7aa4284a1785d52a3ea40a7acd",
       "tabbable": null,
       "tooltip": null,
       "value": "<h5><a href=\"https://github.com/jupyter/jupyter_client\">jupyter/jupyter_client</a></h5>\n<ul>\n<li><a href=\"https://github.com/jupyter/jupyter_client/issues/1055\">(#1055)</a>: <em>enhancement to help kernel provisioners introspect notebooks for their dependencies</em> by <strong><a href=\"https://github.com/itcarroll\">@itcarroll</a></strong></li>\n<li><a href=\"https://github.com/jupyter/jupyter_client/issues/1026\">(#1026)</a>: <em>Exception raised in KernelClient.del when shutting down kernel after executing code using kc.execute_interactive()</em> by <strong><a href=\"https://github.com/vivekvedant\">@vivekvedant</a></strong></li>\n<li><a href=\"https://github.com/jupyter/jupyter_client/issues/1053\">(#1053)</a>: <em>coroutine 'KernelManager._async_start_kernel' was never awaited</em> by <strong><a href=\"https://github.com/benjamincburns\">@benjamincburns</a></strong></li>\n</ul>"
      }
     },
     "268d7d3dcad549b094c734918a2f08a2": {
      "model_module": "@jupyter-widgets/controls",
      "model_module_version": "2.0.0",
      "model_name": "HTMLModel",
      "state": {
       "_dom_classes": [],
       "_model_module": "@jupyter-widgets/controls",
       "_model_module_version": "2.0.0",
       "_model_name": "HTMLModel",
       "_view_count": null,
       "_view_module": "@jupyter-widgets/controls",
       "_view_module_version": "2.0.0",
       "_view_name": "HTMLView",
       "description": "",
       "description_allow_html": false,
       "layout": "IPY_MODEL_1b9d324472e94b6ca9dfc84db2b09078",
       "placeholder": "​",
       "style": "IPY_MODEL_577ac8c35d204859b7a7be590da22ee2",
       "tabbable": null,
       "tooltip": null,
       "value": "<h5><a href=\"https://github.com/jupyter/nbconvert\">jupyter/nbconvert</a></h5>\n<ul>\n<li><a href=\"https://github.com/jupyter/nbconvert/issues/2208\">(#2208)</a>: <em>Long equations from sympy do not wrap</em> by <strong><a href=\"https://github.com/gabemorris12\">@gabemorris12</a></strong></li>\n<li><a href=\"https://github.com/jupyter/nbconvert/issues/2149\">(#2149)</a>: <em>nbconvert for python 3.9 crashing during the templateexporter.py</em> by <strong><a href=\"https://github.com/ale-franc\">@ale-franc</a></strong></li>\n<li><a href=\"https://github.com/jupyter/nbconvert/issues/2189\">(#2189)</a>: <em>not working if jupyter_contrib_nbextensions are installed</em> by <strong><a href=\"https://github.com/hoba87\">@hoba87</a></strong></li>\n<li><a href=\"https://github.com/jupyter/nbconvert/issues/2205\">(#2205)</a>: <em>nbconvert from ipynb to pdf fails with embedded image</em> by <strong><a href=\"https://github.com/Sr-11\">@Sr-11</a></strong></li>\n<li><a href=\"https://github.com/jupyter/nbconvert/issues/2217\">(#2217)</a>: <em>nbconvert inline \\mathbf   ($\\mathbf {x}$) fails to export to PDF</em> by <strong><a href=\"https://github.com/frohro\">@frohro</a></strong></li>\n</ul>"
      }
     },
     "272e4ba4e52c4fc0886e7e94d22200c3": {
      "model_module": "@jupyter-widgets/controls",
      "model_module_version": "2.0.0",
      "model_name": "HTMLStyleModel",
      "state": {
       "_model_module": "@jupyter-widgets/controls",
       "_model_module_version": "2.0.0",
       "_model_name": "HTMLStyleModel",
       "_view_count": null,
       "_view_module": "@jupyter-widgets/base",
       "_view_module_version": "2.0.0",
       "_view_name": "StyleView",
       "background": null,
       "description_width": "",
       "font_size": null,
       "text_color": null
      }
     },
     "2ca034bbd4d44b4fa3e189e3f3e60bd3": {
      "model_module": "@jupyter-widgets/controls",
      "model_module_version": "2.0.0",
      "model_name": "HTMLStyleModel",
      "state": {
       "_model_module": "@jupyter-widgets/controls",
       "_model_module_version": "2.0.0",
       "_model_name": "HTMLStyleModel",
       "_view_count": null,
       "_view_module": "@jupyter-widgets/base",
       "_view_module_version": "2.0.0",
       "_view_name": "StyleView",
       "background": null,
       "description_width": "",
       "font_size": null,
       "text_color": null
      }
     },
     "34a7c663fdf14b428dc647d4519eab19": {
      "model_module": "@jupyter-widgets/controls",
      "model_module_version": "2.0.0",
      "model_name": "HTMLModel",
      "state": {
       "_dom_classes": [],
       "_model_module": "@jupyter-widgets/controls",
       "_model_module_version": "2.0.0",
       "_model_name": "HTMLModel",
       "_view_count": null,
       "_view_module": "@jupyter-widgets/controls",
       "_view_module_version": "2.0.0",
       "_view_name": "HTMLView",
       "description": "",
       "description_allow_html": false,
       "layout": "IPY_MODEL_45948cc0f79c4d63a5fb95f9118c2686",
       "placeholder": "​",
       "style": "IPY_MODEL_f1b889cca7694956bfb55b884f955825",
       "tabbable": null,
       "tooltip": null,
       "value": "<h5><a href=\"https://github.com/jupyter/nbgrader\">jupyter/nbgrader</a></h5>\n<ul>\n<li><a href=\"https://github.com/jupyter/nbgrader/issues/1955\">(#1955)</a>: <em>Wishlist: capture output of print statements in answer and test cells</em> by <strong><a href=\"https://github.com/callegar\">@callegar</a></strong></li>\n<li><a href=\"https://github.com/jupyter/nbgrader/issues/1965\">(#1965)</a>: <em>Formgrader does not find assignments when path contains aquare brackets</em> by <strong><a href=\"https://github.com/tjueterb\">@tjueterb</a></strong></li>\n<li><a href=\"https://github.com/jupyter/nbgrader/issues/1931\">(#1931)</a>: <em>Colon in feedback path conflicts with jupyter-fs</em> by <strong><a href=\"https://github.com/jeflem\">@jeflem</a></strong></li>\n<li><a href=\"https://github.com/jupyter/nbgrader/issues/1960\">(#1960)</a>: <em>Installation Script</em> by <strong><a href=\"https://github.com/ronaldpetty\">@ronaldpetty</a></strong></li>\n<li><a href=\"https://github.com/jupyter/nbgrader/issues/1837\">(#1837)</a>: <em>Integrating nbgrader with a plagiarism checker?</em> by <strong><a href=\"https://github.com/Merna-Atef\">@Merna-Atef</a></strong></li>\n</ul>"
      }
     },
     "3b46a1561bdc45b384d2750fb36df5c4": {
      "model_module": "@jupyter-widgets/controls",
      "model_module_version": "2.0.0",
      "model_name": "HTMLModel",
      "state": {
       "_dom_classes": [],
       "_model_module": "@jupyter-widgets/controls",
       "_model_module_version": "2.0.0",
       "_model_name": "HTMLModel",
       "_view_count": null,
       "_view_module": "@jupyter-widgets/controls",
       "_view_module_version": "2.0.0",
       "_view_name": "HTMLView",
       "description": "",
       "description_allow_html": false,
       "layout": "IPY_MODEL_c35d19bbd8104c4cbf8d9b9fb7033d76",
       "placeholder": "​",
       "style": "IPY_MODEL_baeddeaba0974fab85e3b90ec32e917d",
       "tabbable": null,
       "tooltip": null,
       "value": "<h5><a href=\"https://github.com/jupyter/nbconvert\">jupyter/nbconvert</a></h5>\n<ul>\n<li><a href=\"https://github.com/jupyter/nbconvert/issues/2208\">(#2208)</a>: <em>Long equations from sympy do not wrap</em> by <strong><a href=\"https://github.com/gabemorris12\">@gabemorris12</a></strong></li>\n<li><a href=\"https://github.com/jupyter/nbconvert/issues/2149\">(#2149)</a>: <em>nbconvert for python 3.9 crashing during the templateexporter.py</em> by <strong><a href=\"https://github.com/ale-franc\">@ale-franc</a></strong></li>\n<li><a href=\"https://github.com/jupyter/nbconvert/issues/2189\">(#2189)</a>: <em>not working if jupyter_contrib_nbextensions are installed</em> by <strong><a href=\"https://github.com/hoba87\">@hoba87</a></strong></li>\n<li><a href=\"https://github.com/jupyter/nbconvert/issues/2205\">(#2205)</a>: <em>nbconvert from ipynb to pdf fails with embedded image</em> by <strong><a href=\"https://github.com/Sr-11\">@Sr-11</a></strong></li>\n<li><a href=\"https://github.com/jupyter/nbconvert/issues/2217\">(#2217)</a>: <em>nbconvert inline \\mathbf   ($\\mathbf {x}$) fails to export to PDF</em> by <strong><a href=\"https://github.com/frohro\">@frohro</a></strong></li>\n</ul>"
      }
     },
     "3e4d6584adc9482a9b61df98bc2525b0": {
      "model_module": "@jupyter-widgets/controls",
      "model_module_version": "2.0.0",
      "model_name": "HTMLModel",
      "state": {
       "_dom_classes": [],
       "_model_module": "@jupyter-widgets/controls",
       "_model_module_version": "2.0.0",
       "_model_name": "HTMLModel",
       "_view_count": null,
       "_view_module": "@jupyter-widgets/controls",
       "_view_module_version": "2.0.0",
       "_view_name": "HTMLView",
       "description": "",
       "description_allow_html": false,
       "layout": "IPY_MODEL_9c049b164d45489b8a789c2c6e21f0c5",
       "placeholder": "​",
       "style": "IPY_MODEL_b23a61c0e782403b9f399cf9185d858b",
       "tabbable": null,
       "tooltip": null,
       "value": "<h5><a href=\"https://github.com/jupyter/docker-stacks\">jupyter/docker-stacks</a></h5>\n<ul>\n<li><a href=\"https://github.com/jupyter/docker-stacks/issues/2229\">(#2229)</a>: <em>Add PyJulia package in julia-notebook and datascience-notebook</em> by <strong><a href=\"https://github.com/i0ntempest\">@i0ntempest</a></strong></li>\n<li><a href=\"https://github.com/jupyter/docker-stacks/issues/2275\">(#2275)</a>: <em>Excessive DNS Queries in JupyterHub Docker Container After Upgrade</em> by <strong><a href=\"https://github.com/cameronj86\">@cameronj86</a></strong></li>\n<li><a href=\"https://github.com/jupyter/docker-stacks/issues/2292\">(#2292)</a>: <em>Support a workflow for extending the base environment in a reproducible fashion</em> by <strong><a href=\"https://github.com/ctcjab\">@ctcjab</a></strong></li>\n<li><a href=\"https://github.com/jupyter/docker-stacks/issues/2250\">(#2250)</a>: <em>i can't use url+token to visit lab page</em> by <strong><a href=\"https://github.com/QuincyWuzefeng\">@QuincyWuzefeng</a></strong></li>\n<li><a href=\"https://github.com/jupyter/docker-stacks/issues/2245\">(#2245)</a>: <em>Mounting path /home/jovyan</em> by <strong><a href=\"https://github.com/jankogasic\">@jankogasic</a></strong></li>\n</ul>"
      }
     },
     "3e98193242a148d8a95ca63061fc8279": {
      "model_module": "@jupyter-widgets/controls",
      "model_module_version": "2.0.0",
      "model_name": "HTMLStyleModel",
      "state": {
       "_model_module": "@jupyter-widgets/controls",
       "_model_module_version": "2.0.0",
       "_model_name": "HTMLStyleModel",
       "_view_count": null,
       "_view_module": "@jupyter-widgets/base",
       "_view_module_version": "2.0.0",
       "_view_name": "StyleView",
       "background": null,
       "description_width": "",
       "font_size": null,
       "text_color": null
      }
     },
     "3ebf6fd9f13f49fa896b73d221a346cc": {
      "model_module": "@jupyter-widgets/base",
      "model_module_version": "2.0.0",
      "model_name": "LayoutModel",
      "state": {
       "_model_module": "@jupyter-widgets/base",
       "_model_module_version": "2.0.0",
       "_model_name": "LayoutModel",
       "_view_count": null,
       "_view_module": "@jupyter-widgets/base",
       "_view_module_version": "2.0.0",
       "_view_name": "LayoutView",
       "align_content": null,
       "align_items": null,
       "align_self": null,
       "border_bottom": null,
       "border_left": null,
       "border_right": null,
       "border_top": null,
       "bottom": null,
       "display": null,
       "flex": null,
       "flex_flow": null,
       "grid_area": null,
       "grid_auto_columns": null,
       "grid_auto_flow": null,
       "grid_auto_rows": null,
       "grid_column": null,
       "grid_gap": null,
       "grid_row": null,
       "grid_template_areas": null,
       "grid_template_columns": null,
       "grid_template_rows": null,
       "height": null,
       "justify_content": null,
       "justify_items": null,
       "left": null,
       "margin": null,
       "max_height": null,
       "max_width": null,
       "min_height": null,
       "min_width": null,
       "object_fit": null,
       "object_position": null,
       "order": null,
       "overflow": null,
       "padding": null,
       "right": null,
       "top": null,
       "visibility": null,
       "width": null
      }
     },
     "413e49039e534b5688254cb603b4489b": {
      "model_module": "@jupyter-widgets/controls",
      "model_module_version": "2.0.0",
      "model_name": "HTMLStyleModel",
      "state": {
       "_model_module": "@jupyter-widgets/controls",
       "_model_module_version": "2.0.0",
       "_model_name": "HTMLStyleModel",
       "_view_count": null,
       "_view_module": "@jupyter-widgets/base",
       "_view_module_version": "2.0.0",
       "_view_name": "StyleView",
       "background": null,
       "description_width": "",
       "font_size": null,
       "text_color": null
      }
     },
     "4144a65b51bb46bdb9d00213e7cc6b3a": {
      "model_module": "@jupyter-widgets/base",
      "model_module_version": "2.0.0",
      "model_name": "LayoutModel",
      "state": {
       "_model_module": "@jupyter-widgets/base",
       "_model_module_version": "2.0.0",
       "_model_name": "LayoutModel",
       "_view_count": null,
       "_view_module": "@jupyter-widgets/base",
       "_view_module_version": "2.0.0",
       "_view_name": "LayoutView",
       "align_content": null,
       "align_items": null,
       "align_self": null,
       "border_bottom": null,
       "border_left": null,
       "border_right": null,
       "border_top": null,
       "bottom": null,
       "display": null,
       "flex": null,
       "flex_flow": null,
       "grid_area": null,
       "grid_auto_columns": null,
       "grid_auto_flow": null,
       "grid_auto_rows": null,
       "grid_column": null,
       "grid_gap": null,
       "grid_row": null,
       "grid_template_areas": null,
       "grid_template_columns": null,
       "grid_template_rows": null,
       "height": null,
       "justify_content": null,
       "justify_items": null,
       "left": null,
       "margin": null,
       "max_height": null,
       "max_width": null,
       "min_height": null,
       "min_width": null,
       "object_fit": null,
       "object_position": null,
       "order": null,
       "overflow": null,
       "padding": null,
       "right": null,
       "top": null,
       "visibility": null,
       "width": null
      }
     },
     "45948cc0f79c4d63a5fb95f9118c2686": {
      "model_module": "@jupyter-widgets/base",
      "model_module_version": "2.0.0",
      "model_name": "LayoutModel",
      "state": {
       "_model_module": "@jupyter-widgets/base",
       "_model_module_version": "2.0.0",
       "_model_name": "LayoutModel",
       "_view_count": null,
       "_view_module": "@jupyter-widgets/base",
       "_view_module_version": "2.0.0",
       "_view_name": "LayoutView",
       "align_content": null,
       "align_items": null,
       "align_self": null,
       "border_bottom": null,
       "border_left": null,
       "border_right": null,
       "border_top": null,
       "bottom": null,
       "display": null,
       "flex": null,
       "flex_flow": null,
       "grid_area": null,
       "grid_auto_columns": null,
       "grid_auto_flow": null,
       "grid_auto_rows": null,
       "grid_column": null,
       "grid_gap": null,
       "grid_row": null,
       "grid_template_areas": null,
       "grid_template_columns": null,
       "grid_template_rows": null,
       "height": null,
       "justify_content": null,
       "justify_items": null,
       "left": null,
       "margin": null,
       "max_height": null,
       "max_width": null,
       "min_height": null,
       "min_width": null,
       "object_fit": null,
       "object_position": null,
       "order": null,
       "overflow": null,
       "padding": null,
       "right": null,
       "top": null,
       "visibility": null,
       "width": null
      }
     },
     "471891b6e22845fb9f572050ef5e33f2": {
      "model_module": "@jupyter-widgets/controls",
      "model_module_version": "2.0.0",
      "model_name": "HTMLModel",
      "state": {
       "_dom_classes": [],
       "_model_module": "@jupyter-widgets/controls",
       "_model_module_version": "2.0.0",
       "_model_name": "HTMLModel",
       "_view_count": null,
       "_view_module": "@jupyter-widgets/controls",
       "_view_module_version": "2.0.0",
       "_view_name": "HTMLView",
       "description": "",
       "description_allow_html": false,
       "layout": "IPY_MODEL_6f33e9d858d942e280d2a5e32b8b7f28",
       "placeholder": "​",
       "style": "IPY_MODEL_20901ddd3d4c44fca388a7fb1e072c75",
       "tabbable": null,
       "tooltip": null,
       "value": "<h5><a href=\"https://github.com/jupyter/jupyter.github.io\">jupyter/jupyter.github.io</a></h5>\n<ul>\n<li><a href=\"https://github.com/jupyter/jupyter.github.io/issues/791\">(#791)</a>: <em>Lower the threshold for Lighthouse accessibility</em> by <strong><a href=\"https://github.com/choldgraf\">@choldgraf</a></strong></li>\n<li><a href=\"https://github.com/jupyter/jupyter.github.io/issues/720\">(#720)</a>: <em>Widgets page is broken?</em> by <strong><a href=\"https://github.com/filonik-tud\">@filonik-tud</a></strong></li>\n</ul>"
      }
     },
     "49242610447c4129a7bff915147f229e": {
      "model_module": "@jupyter-widgets/controls",
      "model_module_version": "2.0.0",
      "model_name": "HTMLStyleModel",
      "state": {
       "_model_module": "@jupyter-widgets/controls",
       "_model_module_version": "2.0.0",
       "_model_name": "HTMLStyleModel",
       "_view_count": null,
       "_view_module": "@jupyter-widgets/base",
       "_view_module_version": "2.0.0",
       "_view_name": "StyleView",
       "background": null,
       "description_width": "",
       "font_size": null,
       "text_color": null
      }
     },
     "4afd0096c8e84347b6fe90122a75c7fc": {
      "model_module": "@jupyter-widgets/base",
      "model_module_version": "2.0.0",
      "model_name": "LayoutModel",
      "state": {
       "_model_module": "@jupyter-widgets/base",
       "_model_module_version": "2.0.0",
       "_model_name": "LayoutModel",
       "_view_count": null,
       "_view_module": "@jupyter-widgets/base",
       "_view_module_version": "2.0.0",
       "_view_name": "LayoutView",
       "align_content": null,
       "align_items": null,
       "align_self": null,
       "border_bottom": null,
       "border_left": null,
       "border_right": null,
       "border_top": null,
       "bottom": null,
       "display": null,
       "flex": null,
       "flex_flow": null,
       "grid_area": null,
       "grid_auto_columns": null,
       "grid_auto_flow": null,
       "grid_auto_rows": null,
       "grid_column": null,
       "grid_gap": null,
       "grid_row": null,
       "grid_template_areas": null,
       "grid_template_columns": null,
       "grid_template_rows": null,
       "height": null,
       "justify_content": null,
       "justify_items": null,
       "left": null,
       "margin": null,
       "max_height": null,
       "max_width": null,
       "min_height": null,
       "min_width": null,
       "object_fit": null,
       "object_position": null,
       "order": null,
       "overflow": null,
       "padding": null,
       "right": null,
       "top": null,
       "visibility": null,
       "width": null
      }
     },
     "55f2d00892d447e58a981aa024cf3eda": {
      "model_module": "@jupyter-widgets/base",
      "model_module_version": "2.0.0",
      "model_name": "LayoutModel",
      "state": {
       "_model_module": "@jupyter-widgets/base",
       "_model_module_version": "2.0.0",
       "_model_name": "LayoutModel",
       "_view_count": null,
       "_view_module": "@jupyter-widgets/base",
       "_view_module_version": "2.0.0",
       "_view_name": "LayoutView",
       "align_content": null,
       "align_items": null,
       "align_self": null,
       "border_bottom": null,
       "border_left": null,
       "border_right": null,
       "border_top": null,
       "bottom": null,
       "display": null,
       "flex": null,
       "flex_flow": null,
       "grid_area": null,
       "grid_auto_columns": null,
       "grid_auto_flow": null,
       "grid_auto_rows": null,
       "grid_column": null,
       "grid_gap": null,
       "grid_row": null,
       "grid_template_areas": null,
       "grid_template_columns": null,
       "grid_template_rows": null,
       "height": null,
       "justify_content": null,
       "justify_items": null,
       "left": null,
       "margin": null,
       "max_height": null,
       "max_width": null,
       "min_height": null,
       "min_width": null,
       "object_fit": null,
       "object_position": null,
       "order": null,
       "overflow": null,
       "padding": null,
       "right": null,
       "top": null,
       "visibility": null,
       "width": null
      }
     },
     "56eacc5a76a2427ba6e4e35a3e0a396d": {
      "model_module": "@jupyter-widgets/controls",
      "model_module_version": "2.0.0",
      "model_name": "HTMLStyleModel",
      "state": {
       "_model_module": "@jupyter-widgets/controls",
       "_model_module_version": "2.0.0",
       "_model_name": "HTMLStyleModel",
       "_view_count": null,
       "_view_module": "@jupyter-widgets/base",
       "_view_module_version": "2.0.0",
       "_view_name": "StyleView",
       "background": null,
       "description_width": "",
       "font_size": null,
       "text_color": null
      }
     },
     "577ac8c35d204859b7a7be590da22ee2": {
      "model_module": "@jupyter-widgets/controls",
      "model_module_version": "2.0.0",
      "model_name": "HTMLStyleModel",
      "state": {
       "_model_module": "@jupyter-widgets/controls",
       "_model_module_version": "2.0.0",
       "_model_name": "HTMLStyleModel",
       "_view_count": null,
       "_view_module": "@jupyter-widgets/base",
       "_view_module_version": "2.0.0",
       "_view_name": "StyleView",
       "background": null,
       "description_width": "",
       "font_size": null,
       "text_color": null
      }
     },
     "58212b5531d0453483e4dc19be360fcd": {
      "model_module": "@jupyter-widgets/controls",
      "model_module_version": "2.0.0",
      "model_name": "TabModel",
      "state": {
       "_dom_classes": [],
       "_model_module": "@jupyter-widgets/controls",
       "_model_module_version": "2.0.0",
       "_model_name": "TabModel",
       "_view_count": null,
       "_view_module": "@jupyter-widgets/controls",
       "_view_module_version": "2.0.0",
       "_view_name": "TabView",
       "box_style": "",
       "children": [
        "IPY_MODEL_ea5d789b79a048bfb7018bd45b279df3",
        "IPY_MODEL_ec3e1522a3c240f9b7c1f44a7fb1fb73",
        "IPY_MODEL_745c639da92d4efc94a85575279536ea",
        "IPY_MODEL_dfc3086f0ad64cf5904298983fdb1321",
        "IPY_MODEL_c9238a6a1c074752abaa993de5d4cba0",
        "IPY_MODEL_e427daec216943918f467deffa1a4ebb",
        "IPY_MODEL_92e59d0bf4aa4f1291add57fffd06cf0",
        "IPY_MODEL_ca24f85424e243b8bee8bd42bb7be29f",
        "IPY_MODEL_d6e67d5443e6403b8db3b57926e01742"
       ],
       "layout": "IPY_MODEL_4afd0096c8e84347b6fe90122a75c7fc",
       "selected_index": 0,
       "tabbable": null,
       "titles": [
        "docker-stacks",
        "governance",
        "jupyter",
        "jupyter.github.io",
        "jupyter_client",
        "jupyter_core",
        "nbgrader",
        "nbviewer",
        "notebook"
       ],
       "tooltip": null
      }
     },
     "5bde74b24d6f4f469c24a5c597d9bc67": {
      "model_module": "@jupyter-widgets/base",
      "model_module_version": "2.0.0",
      "model_name": "LayoutModel",
      "state": {
       "_model_module": "@jupyter-widgets/base",
       "_model_module_version": "2.0.0",
       "_model_name": "LayoutModel",
       "_view_count": null,
       "_view_module": "@jupyter-widgets/base",
       "_view_module_version": "2.0.0",
       "_view_name": "LayoutView",
       "align_content": null,
       "align_items": null,
       "align_self": null,
       "border_bottom": null,
       "border_left": null,
       "border_right": null,
       "border_top": null,
       "bottom": null,
       "display": null,
       "flex": null,
       "flex_flow": null,
       "grid_area": null,
       "grid_auto_columns": null,
       "grid_auto_flow": null,
       "grid_auto_rows": null,
       "grid_column": null,
       "grid_gap": null,
       "grid_row": null,
       "grid_template_areas": null,
       "grid_template_columns": null,
       "grid_template_rows": null,
       "height": null,
       "justify_content": null,
       "justify_items": null,
       "left": null,
       "margin": null,
       "max_height": null,
       "max_width": null,
       "min_height": null,
       "min_width": null,
       "object_fit": null,
       "object_position": null,
       "order": null,
       "overflow": null,
       "padding": null,
       "right": null,
       "top": null,
       "visibility": null,
       "width": null
      }
     },
     "6f33e9d858d942e280d2a5e32b8b7f28": {
      "model_module": "@jupyter-widgets/base",
      "model_module_version": "2.0.0",
      "model_name": "LayoutModel",
      "state": {
       "_model_module": "@jupyter-widgets/base",
       "_model_module_version": "2.0.0",
       "_model_name": "LayoutModel",
       "_view_count": null,
       "_view_module": "@jupyter-widgets/base",
       "_view_module_version": "2.0.0",
       "_view_name": "LayoutView",
       "align_content": null,
       "align_items": null,
       "align_self": null,
       "border_bottom": null,
       "border_left": null,
       "border_right": null,
       "border_top": null,
       "bottom": null,
       "display": null,
       "flex": null,
       "flex_flow": null,
       "grid_area": null,
       "grid_auto_columns": null,
       "grid_auto_flow": null,
       "grid_auto_rows": null,
       "grid_column": null,
       "grid_gap": null,
       "grid_row": null,
       "grid_template_areas": null,
       "grid_template_columns": null,
       "grid_template_rows": null,
       "height": null,
       "justify_content": null,
       "justify_items": null,
       "left": null,
       "margin": null,
       "max_height": null,
       "max_width": null,
       "min_height": null,
       "min_width": null,
       "object_fit": null,
       "object_position": null,
       "order": null,
       "overflow": null,
       "padding": null,
       "right": null,
       "top": null,
       "visibility": null,
       "width": null
      }
     },
     "745c639da92d4efc94a85575279536ea": {
      "model_module": "@jupyter-widgets/controls",
      "model_module_version": "2.0.0",
      "model_name": "HTMLModel",
      "state": {
       "_dom_classes": [],
       "_model_module": "@jupyter-widgets/controls",
       "_model_module_version": "2.0.0",
       "_model_name": "HTMLModel",
       "_view_count": null,
       "_view_module": "@jupyter-widgets/controls",
       "_view_module_version": "2.0.0",
       "_view_name": "HTMLView",
       "description": "",
       "description_allow_html": false,
       "layout": "IPY_MODEL_f5140e1f1a26464b8f595274ce1155ee",
       "placeholder": "​",
       "style": "IPY_MODEL_2ca034bbd4d44b4fa3e189e3f3e60bd3",
       "tabbable": null,
       "tooltip": null,
       "value": "<h4>Closed PRs for repo: <a href=\"https://github.com/jupyter/jupyter\">jupyter/jupyter</a></h4>\n<h5></h5>\n<ul>\n<li><a href=\"https://github.com/jupyter/jupyter/issues/758\">(#758)</a>: <em>Add community call notes to table of contents</em> by <strong><a href=\"https://github.com/marthacryan\">@marthacryan</a></strong> merged by <strong><a href=\"https://github.com/ivanov\">@ivanov</a></strong></li>\n<li><a href=\"https://github.com/jupyter/jupyter/issues/764\">(#764)</a>: <em>bump upload artifact to v4, closes #763</em> by <strong><a href=\"https://github.com/ivanov\">@ivanov</a></strong> merged by <strong><a href=\"https://github.com/jtpio\">@jtpio</a></strong></li>\n<li><a href=\"https://github.com/jupyter/jupyter/issues/765\">(#765)</a>: <em>bump ubuntu runner image to 24.04</em> by <strong><a href=\"https://github.com/ivanov\">@ivanov</a></strong> merged by <strong><a href=\"https://github.com/ivanov\">@ivanov</a></strong></li>\n<li><a href=\"https://github.com/jupyter/jupyter/issues/766\">(#766)</a>: <em>Remove archived incubator projects</em> by <strong><a href=\"https://github.com/danyeaw\">@danyeaw</a></strong> merged by <strong><a href=\"https://github.com/ivanov\">@ivanov</a></strong></li>\n<li><a href=\"https://github.com/jupyter/jupyter/issues/767\">(#767)</a>: <em>bump ubuntu runner image to 24.04</em> by <strong><a href=\"https://github.com/ivanov\">@ivanov</a></strong> merged by <strong><a href=\"https://github.com/ivanov\">@ivanov</a></strong></li>\n<li><a href=\"https://github.com/jupyter/jupyter/issues/768\">(#768)</a>: <em>Add Community Call Notes for February 2025</em> by <strong><a href=\"https://github.com/RRosio\">@RRosio</a></strong> merged by <strong><a href=\"https://github.com/ivanov\">@ivanov</a></strong></li>\n<li><a href=\"https://github.com/jupyter/jupyter/issues/770\">(#770)</a>: <em>Fixed typo in contrib_guide.md</em> by <strong><a href=\"https://github.com/derekrgreene\">@derekrgreene</a></strong> merged by <strong><a href=\"https://github.com/derekrgreene\">@derekrgreene</a></strong></li>\n<li><a href=\"https://github.com/jupyter/jupyter/issues/771\">(#771)</a>: <em>Minor wording improvements to releasing.rst</em> by <strong><a href=\"https://github.com/derekrgreene\">@derekrgreene</a></strong> merged by <strong><a href=\"https://github.com/choldgraf\">@choldgraf</a></strong></li>\n<li><a href=\"https://github.com/jupyter/jupyter/issues/772\">(#772)</a>: <em>Fixed minor typo in contrib_guide.md</em> by <strong><a href=\"https://github.com/derekrgreene\">@derekrgreene</a></strong> merged by <strong><a href=\"https://github.com/derekrgreene\">@derekrgreene</a></strong></li>\n<li><a href=\"https://github.com/jupyter/jupyter/issues/773\">(#773)</a>: <em>Fixed minor typo in contrib_guide.md</em> by <strong><a href=\"https://github.com/derekrgreene\">@derekrgreene</a></strong> merged by <strong><a href=\"https://github.com/ivanov\">@ivanov</a></strong></li>\n<li><a href=\"https://github.com/jupyter/jupyter/issues/774\">(#774)</a>: <em>Fixed broken links in pull_request.rst</em> by <strong><a href=\"https://github.com/derekrgreene\">@derekrgreene</a></strong> merged by <strong><a href=\"https://github.com/choldgraf\">@choldgraf</a></strong></li>\n<li><a href=\"https://github.com/jupyter/jupyter/issues/775\">(#775)</a>: <em>Update install.rst</em> by <strong><a href=\"https://github.com/Emmaedler2005\">@Emmaedler2005</a></strong> merged by <strong><a href=\"https://github.com/choldgraf\">@choldgraf</a></strong></li>\n</ul>"
      }
     },
     "7a0153fefded420cba7dca38289fef3e": {
      "model_module": "@jupyter-widgets/base",
      "model_module_version": "2.0.0",
      "model_name": "LayoutModel",
      "state": {
       "_model_module": "@jupyter-widgets/base",
       "_model_module_version": "2.0.0",
       "_model_name": "LayoutModel",
       "_view_count": null,
       "_view_module": "@jupyter-widgets/base",
       "_view_module_version": "2.0.0",
       "_view_name": "LayoutView",
       "align_content": null,
       "align_items": null,
       "align_self": null,
       "border_bottom": null,
       "border_left": null,
       "border_right": null,
       "border_top": null,
       "bottom": null,
       "display": null,
       "flex": null,
       "flex_flow": null,
       "grid_area": null,
       "grid_auto_columns": null,
       "grid_auto_flow": null,
       "grid_auto_rows": null,
       "grid_column": null,
       "grid_gap": null,
       "grid_row": null,
       "grid_template_areas": null,
       "grid_template_columns": null,
       "grid_template_rows": null,
       "height": null,
       "justify_content": null,
       "justify_items": null,
       "left": null,
       "margin": null,
       "max_height": null,
       "max_width": null,
       "min_height": null,
       "min_width": null,
       "object_fit": null,
       "object_position": null,
       "order": null,
       "overflow": null,
       "padding": null,
       "right": null,
       "top": null,
       "visibility": null,
       "width": null
      }
     },
     "7b3597cd28f3402ba1718ad3910125c3": {
      "model_module": "@jupyter-widgets/controls",
      "model_module_version": "2.0.0",
      "model_name": "HTMLModel",
      "state": {
       "_dom_classes": [],
       "_model_module": "@jupyter-widgets/controls",
       "_model_module_version": "2.0.0",
       "_model_name": "HTMLModel",
       "_view_count": null,
       "_view_module": "@jupyter-widgets/controls",
       "_view_module_version": "2.0.0",
       "_view_name": "HTMLView",
       "description": "",
       "description_allow_html": false,
       "layout": "IPY_MODEL_ac6429d4b2a642febf5396de29544e3b",
       "placeholder": "​",
       "style": "IPY_MODEL_d233ec2009cc4a6d9503ffa9ab8c2117",
       "tabbable": null,
       "tooltip": null,
       "value": "<h5><a href=\"https://github.com/jupyter/jupyter.github.io\">jupyter/jupyter.github.io</a></h5>\n<ul>\n<li><a href=\"https://github.com/jupyter/jupyter.github.io/issues/791\">(#791)</a>: <em>Lower the threshold for Lighthouse accessibility</em> by <strong><a href=\"https://github.com/choldgraf\">@choldgraf</a></strong></li>\n<li><a href=\"https://github.com/jupyter/jupyter.github.io/issues/720\">(#720)</a>: <em>Widgets page is broken?</em> by <strong><a href=\"https://github.com/filonik-tud\">@filonik-tud</a></strong></li>\n</ul>"
      }
     },
     "7b5364fb1fa345f285a373dc8a2f232a": {
      "model_module": "@jupyter-widgets/controls",
      "model_module_version": "2.0.0",
      "model_name": "HTMLStyleModel",
      "state": {
       "_model_module": "@jupyter-widgets/controls",
       "_model_module_version": "2.0.0",
       "_model_name": "HTMLStyleModel",
       "_view_count": null,
       "_view_module": "@jupyter-widgets/base",
       "_view_module_version": "2.0.0",
       "_view_name": "StyleView",
       "background": null,
       "description_width": "",
       "font_size": null,
       "text_color": null
      }
     },
     "7f8236545c754755be6118bcf823961e": {
      "model_module": "@jupyter-widgets/controls",
      "model_module_version": "2.0.0",
      "model_name": "HTMLStyleModel",
      "state": {
       "_model_module": "@jupyter-widgets/controls",
       "_model_module_version": "2.0.0",
       "_model_name": "HTMLStyleModel",
       "_view_count": null,
       "_view_module": "@jupyter-widgets/base",
       "_view_module_version": "2.0.0",
       "_view_name": "StyleView",
       "background": null,
       "description_width": "",
       "font_size": null,
       "text_color": null
      }
     },
     "7ffa37c4e3974ee5b028423bb9bf61af": {
      "model_module": "@jupyter-widgets/controls",
      "model_module_version": "2.0.0",
      "model_name": "HTMLStyleModel",
      "state": {
       "_model_module": "@jupyter-widgets/controls",
       "_model_module_version": "2.0.0",
       "_model_name": "HTMLStyleModel",
       "_view_count": null,
       "_view_module": "@jupyter-widgets/base",
       "_view_module_version": "2.0.0",
       "_view_name": "StyleView",
       "background": null,
       "description_width": "",
       "font_size": null,
       "text_color": null
      }
     },
     "8241a5735763472d9a30cd6dc9f0c2aa": {
      "model_module": "@jupyter-widgets/base",
      "model_module_version": "2.0.0",
      "model_name": "LayoutModel",
      "state": {
       "_model_module": "@jupyter-widgets/base",
       "_model_module_version": "2.0.0",
       "_model_name": "LayoutModel",
       "_view_count": null,
       "_view_module": "@jupyter-widgets/base",
       "_view_module_version": "2.0.0",
       "_view_name": "LayoutView",
       "align_content": null,
       "align_items": null,
       "align_self": null,
       "border_bottom": null,
       "border_left": null,
       "border_right": null,
       "border_top": null,
       "bottom": null,
       "display": null,
       "flex": null,
       "flex_flow": null,
       "grid_area": null,
       "grid_auto_columns": null,
       "grid_auto_flow": null,
       "grid_auto_rows": null,
       "grid_column": null,
       "grid_gap": null,
       "grid_row": null,
       "grid_template_areas": null,
       "grid_template_columns": null,
       "grid_template_rows": null,
       "height": null,
       "justify_content": null,
       "justify_items": null,
       "left": null,
       "margin": null,
       "max_height": null,
       "max_width": null,
       "min_height": null,
       "min_width": null,
       "object_fit": null,
       "object_position": null,
       "order": null,
       "overflow": null,
       "padding": null,
       "right": null,
       "top": null,
       "visibility": null,
       "width": null
      }
     },
     "83af721993f04351aa1b028669ab39c3": {
      "model_module": "@jupyter-widgets/controls",
      "model_module_version": "2.0.0",
      "model_name": "TabModel",
      "state": {
       "_dom_classes": [],
       "_model_module": "@jupyter-widgets/controls",
       "_model_module_version": "2.0.0",
       "_model_name": "TabModel",
       "_view_count": null,
       "_view_module": "@jupyter-widgets/controls",
       "_view_module_version": "2.0.0",
       "_view_name": "TabView",
       "box_style": "",
       "children": [
        "IPY_MODEL_3e4d6584adc9482a9b61df98bc2525b0",
        "IPY_MODEL_1809a02cd5224524a385beaea0fa412e",
        "IPY_MODEL_fc2b4ecd513f4d47bb2e75130502cda8",
        "IPY_MODEL_471891b6e22845fb9f572050ef5e33f2",
        "IPY_MODEL_fcad15b3e4e34b949f5566b4b5d17490",
        "IPY_MODEL_c2f1676c550948faaae1f9e42e92414a",
        "IPY_MODEL_268d7d3dcad549b094c734918a2f08a2",
        "IPY_MODEL_9afc9bca29704f099113499586efd0c4",
        "IPY_MODEL_34a7c663fdf14b428dc647d4519eab19",
        "IPY_MODEL_bbec295ffacb484b867c263534e7e6e2"
       ],
       "layout": "IPY_MODEL_01946f0e80df4755a819ecaf6c65bc26",
       "selected_index": 0,
       "tabbable": null,
       "titles": [
        "docker-stacks",
        "governance",
        "jupyter",
        "jupyter.github.io",
        "jupyter_client",
        "jupyter_core",
        "nbconvert",
        "nbdime",
        "nbgrader",
        "nbviewer"
       ],
       "tooltip": null
      }
     },
     "89a760dc657e46ca8029f3be43c70ca1": {
      "model_module": "@jupyter-widgets/base",
      "model_module_version": "2.0.0",
      "model_name": "LayoutModel",
      "state": {
       "_model_module": "@jupyter-widgets/base",
       "_model_module_version": "2.0.0",
       "_model_name": "LayoutModel",
       "_view_count": null,
       "_view_module": "@jupyter-widgets/base",
       "_view_module_version": "2.0.0",
       "_view_name": "LayoutView",
       "align_content": null,
       "align_items": null,
       "align_self": null,
       "border_bottom": null,
       "border_left": null,
       "border_right": null,
       "border_top": null,
       "bottom": null,
       "display": null,
       "flex": null,
       "flex_flow": null,
       "grid_area": null,
       "grid_auto_columns": null,
       "grid_auto_flow": null,
       "grid_auto_rows": null,
       "grid_column": null,
       "grid_gap": null,
       "grid_row": null,
       "grid_template_areas": null,
       "grid_template_columns": null,
       "grid_template_rows": null,
       "height": null,
       "justify_content": null,
       "justify_items": null,
       "left": null,
       "margin": null,
       "max_height": null,
       "max_width": null,
       "min_height": null,
       "min_width": null,
       "object_fit": null,
       "object_position": null,
       "order": null,
       "overflow": null,
       "padding": null,
       "right": null,
       "top": null,
       "visibility": null,
       "width": null
      }
     },
     "8ad339ed29cd42a0a937bda73eab7f4f": {
      "model_module": "@jupyter-widgets/controls",
      "model_module_version": "2.0.0",
      "model_name": "HTMLModel",
      "state": {
       "_dom_classes": [],
       "_model_module": "@jupyter-widgets/controls",
       "_model_module_version": "2.0.0",
       "_model_name": "HTMLModel",
       "_view_count": null,
       "_view_module": "@jupyter-widgets/controls",
       "_view_module_version": "2.0.0",
       "_view_name": "HTMLView",
       "description": "",
       "description_allow_html": false,
       "layout": "IPY_MODEL_8241a5735763472d9a30cd6dc9f0c2aa",
       "placeholder": "​",
       "style": "IPY_MODEL_d22237fbec754ee09147200e2b690641",
       "tabbable": null,
       "tooltip": null,
       "value": "<h5><a href=\"https://github.com/jupyter/jupyter_core\">jupyter/jupyter_core</a></h5>\n<ul>\n<li><a href=\"https://github.com/jupyter/jupyter_core/issues/410\">(#410)</a>: <em>The configuration files for Jupyter produce many lint errors now</em> by <strong><a href=\"https://github.com/NeilGirdhar\">@NeilGirdhar</a></strong></li>\n<li><a href=\"https://github.com/jupyter/jupyter_core/issues/350\">(#350)</a>: <em>There are conflicts between the modules of the dependencies.</em> by <strong><a href=\"https://github.com/unsatisfying\">@unsatisfying</a></strong></li>\n<li><a href=\"https://github.com/jupyter/jupyter_core/issues/423\">(#423)</a>: <em>paths.is_hidden() Erroneously Reports Files as Hidden</em> by <strong><a href=\"https://github.com/matyanwek\">@matyanwek</a></strong></li>\n</ul>"
      }
     },
     "8ba6e2a37b714eb79041baf4eddf433c": {
      "model_module": "@jupyter-widgets/base",
      "model_module_version": "2.0.0",
      "model_name": "LayoutModel",
      "state": {
       "_model_module": "@jupyter-widgets/base",
       "_model_module_version": "2.0.0",
       "_model_name": "LayoutModel",
       "_view_count": null,
       "_view_module": "@jupyter-widgets/base",
       "_view_module_version": "2.0.0",
       "_view_name": "LayoutView",
       "align_content": null,
       "align_items": null,
       "align_self": null,
       "border_bottom": null,
       "border_left": null,
       "border_right": null,
       "border_top": null,
       "bottom": null,
       "display": null,
       "flex": null,
       "flex_flow": null,
       "grid_area": null,
       "grid_auto_columns": null,
       "grid_auto_flow": null,
       "grid_auto_rows": null,
       "grid_column": null,
       "grid_gap": null,
       "grid_row": null,
       "grid_template_areas": null,
       "grid_template_columns": null,
       "grid_template_rows": null,
       "height": null,
       "justify_content": null,
       "justify_items": null,
       "left": null,
       "margin": null,
       "max_height": null,
       "max_width": null,
       "min_height": null,
       "min_width": null,
       "object_fit": null,
       "object_position": null,
       "order": null,
       "overflow": null,
       "padding": null,
       "right": null,
       "top": null,
       "visibility": null,
       "width": null
      }
     },
     "8d3c73fd82ac417fa91e002def4b85c5": {
      "model_module": "@jupyter-widgets/controls",
      "model_module_version": "2.0.0",
      "model_name": "HTMLStyleModel",
      "state": {
       "_model_module": "@jupyter-widgets/controls",
       "_model_module_version": "2.0.0",
       "_model_name": "HTMLStyleModel",
       "_view_count": null,
       "_view_module": "@jupyter-widgets/base",
       "_view_module_version": "2.0.0",
       "_view_name": "StyleView",
       "background": null,
       "description_width": "",
       "font_size": null,
       "text_color": null
      }
     },
     "92e59d0bf4aa4f1291add57fffd06cf0": {
      "model_module": "@jupyter-widgets/controls",
      "model_module_version": "2.0.0",
      "model_name": "HTMLModel",
      "state": {
       "_dom_classes": [],
       "_model_module": "@jupyter-widgets/controls",
       "_model_module_version": "2.0.0",
       "_model_name": "HTMLModel",
       "_view_count": null,
       "_view_module": "@jupyter-widgets/controls",
       "_view_module_version": "2.0.0",
       "_view_name": "HTMLView",
       "description": "",
       "description_allow_html": false,
       "layout": "IPY_MODEL_244219f31825455c96b114d56cdcacbe",
       "placeholder": "​",
       "style": "IPY_MODEL_96f96ad29e174207a4b7f9f3e210512e",
       "tabbable": null,
       "tooltip": null,
       "value": "<h4>Closed PRs for repo: <a href=\"https://github.com/jupyter/nbgrader\">jupyter/nbgrader</a></h4>\n<h5></h5>\n<ul>\n<li><a href=\"https://github.com/jupyter/nbgrader/issues/1959\">(#1959)</a>: <em>Bump vega from 5.30.0 to 5.33.0</em> by <strong><a href=\"https://github.com/dependabot[bot]\">@dependabot[bot]</a></strong> merged by <strong><a href=\"https://github.com/brichet\">@brichet</a></strong></li>\n<li><a href=\"https://github.com/jupyter/nbgrader/issues/1962\">(#1962)</a>: <em>fix: Allow null kernelspec in OverwriteKernelspec</em> by <strong><a href=\"https://github.com/shreve\">@shreve</a></strong> merged by <strong><a href=\"https://github.com/brichet\">@brichet</a></strong></li>\n<li><a href=\"https://github.com/jupyter/nbgrader/issues/1963\">(#1963)</a>: <em>Resolve warnings in SQLAlchemy field defs</em> by <strong><a href=\"https://github.com/shreve\">@shreve</a></strong> merged by <strong><a href=\"https://github.com/brichet\">@brichet</a></strong></li>\n<li><a href=\"https://github.com/jupyter/nbgrader/issues/1964\">(#1964)</a>: <em>fix: Use cross-platform shortcuts in ui-tests</em> by <strong><a href=\"https://github.com/shreve\">@shreve</a></strong> merged by <strong><a href=\"https://github.com/brichet\">@brichet</a></strong></li>\n</ul>"
      }
     },
     "96f96ad29e174207a4b7f9f3e210512e": {
      "model_module": "@jupyter-widgets/controls",
      "model_module_version": "2.0.0",
      "model_name": "HTMLStyleModel",
      "state": {
       "_model_module": "@jupyter-widgets/controls",
       "_model_module_version": "2.0.0",
       "_model_name": "HTMLStyleModel",
       "_view_count": null,
       "_view_module": "@jupyter-widgets/base",
       "_view_module_version": "2.0.0",
       "_view_name": "StyleView",
       "background": null,
       "description_width": "",
       "font_size": null,
       "text_color": null
      }
     },
     "9afc9bca29704f099113499586efd0c4": {
      "model_module": "@jupyter-widgets/controls",
      "model_module_version": "2.0.0",
      "model_name": "HTMLModel",
      "state": {
       "_dom_classes": [],
       "_model_module": "@jupyter-widgets/controls",
       "_model_module_version": "2.0.0",
       "_model_name": "HTMLModel",
       "_view_count": null,
       "_view_module": "@jupyter-widgets/controls",
       "_view_module_version": "2.0.0",
       "_view_name": "HTMLView",
       "description": "",
       "description_allow_html": false,
       "layout": "IPY_MODEL_2539d768b7624d9f9ac2cdb445c55a39",
       "placeholder": "​",
       "style": "IPY_MODEL_0bfa07df9d774e94aca09c5a1416b2c1",
       "tabbable": null,
       "tooltip": null,
       "value": "<h5><a href=\"https://github.com/jupyter/nbdime\">jupyter/nbdime</a></h5>\n<ul>\n<li><a href=\"https://github.com/jupyter/nbdime/issues/778\">(#778)</a>: <em><code>nbdime mergetool</code> error: <code>Invalid merge decision action: take_max</code></em> by <strong><a href=\"https://github.com/ryan-williams\">@ryan-williams</a></strong></li>\n<li><a href=\"https://github.com/jupyter/nbdime/issues/553\">(#553)</a>: <em>Support cell IDs</em> by <strong><a href=\"https://github.com/vidartf\">@vidartf</a></strong></li>\n<li><a href=\"https://github.com/jupyter/nbdime/issues/776\">(#776)</a>: <em>nbdiff-web <file-path> inside a git repo shows the spinner</em> by <strong><a href=\"https://github.com/pinchedsquare\">@pinchedsquare</a></strong></li>\n</ul>"
      }
     },
     "9c049b164d45489b8a789c2c6e21f0c5": {
      "model_module": "@jupyter-widgets/base",
      "model_module_version": "2.0.0",
      "model_name": "LayoutModel",
      "state": {
       "_model_module": "@jupyter-widgets/base",
       "_model_module_version": "2.0.0",
       "_model_name": "LayoutModel",
       "_view_count": null,
       "_view_module": "@jupyter-widgets/base",
       "_view_module_version": "2.0.0",
       "_view_name": "LayoutView",
       "align_content": null,
       "align_items": null,
       "align_self": null,
       "border_bottom": null,
       "border_left": null,
       "border_right": null,
       "border_top": null,
       "bottom": null,
       "display": null,
       "flex": null,
       "flex_flow": null,
       "grid_area": null,
       "grid_auto_columns": null,
       "grid_auto_flow": null,
       "grid_auto_rows": null,
       "grid_column": null,
       "grid_gap": null,
       "grid_row": null,
       "grid_template_areas": null,
       "grid_template_columns": null,
       "grid_template_rows": null,
       "height": null,
       "justify_content": null,
       "justify_items": null,
       "left": null,
       "margin": null,
       "max_height": null,
       "max_width": null,
       "min_height": null,
       "min_width": null,
       "object_fit": null,
       "object_position": null,
       "order": null,
       "overflow": null,
       "padding": null,
       "right": null,
       "top": null,
       "visibility": null,
       "width": null
      }
     },
     "9d0a5ac60afc4caa8322cfc1beec7575": {
      "model_module": "@jupyter-widgets/base",
      "model_module_version": "2.0.0",
      "model_name": "LayoutModel",
      "state": {
       "_model_module": "@jupyter-widgets/base",
       "_model_module_version": "2.0.0",
       "_model_name": "LayoutModel",
       "_view_count": null,
       "_view_module": "@jupyter-widgets/base",
       "_view_module_version": "2.0.0",
       "_view_name": "LayoutView",
       "align_content": null,
       "align_items": null,
       "align_self": null,
       "border_bottom": null,
       "border_left": null,
       "border_right": null,
       "border_top": null,
       "bottom": null,
       "display": null,
       "flex": null,
       "flex_flow": null,
       "grid_area": null,
       "grid_auto_columns": null,
       "grid_auto_flow": null,
       "grid_auto_rows": null,
       "grid_column": null,
       "grid_gap": null,
       "grid_row": null,
       "grid_template_areas": null,
       "grid_template_columns": null,
       "grid_template_rows": null,
       "height": null,
       "justify_content": null,
       "justify_items": null,
       "left": null,
       "margin": null,
       "max_height": null,
       "max_width": null,
       "min_height": null,
       "min_width": null,
       "object_fit": null,
       "object_position": null,
       "order": null,
       "overflow": null,
       "padding": null,
       "right": null,
       "top": null,
       "visibility": null,
       "width": null
      }
     },
     "a3f0a35568c9455fbb1d4719c1d034c2": {
      "model_module": "@jupyter-widgets/controls",
      "model_module_version": "2.0.0",
      "model_name": "HTMLStyleModel",
      "state": {
       "_model_module": "@jupyter-widgets/controls",
       "_model_module_version": "2.0.0",
       "_model_name": "HTMLStyleModel",
       "_view_count": null,
       "_view_module": "@jupyter-widgets/base",
       "_view_module_version": "2.0.0",
       "_view_name": "StyleView",
       "background": null,
       "description_width": "",
       "font_size": null,
       "text_color": null
      }
     },
     "aaf3bfb0482c49e78616be72c67427b1": {
      "model_module": "@jupyter-widgets/controls",
      "model_module_version": "2.0.0",
      "model_name": "HTMLStyleModel",
      "state": {
       "_model_module": "@jupyter-widgets/controls",
       "_model_module_version": "2.0.0",
       "_model_name": "HTMLStyleModel",
       "_view_count": null,
       "_view_module": "@jupyter-widgets/base",
       "_view_module_version": "2.0.0",
       "_view_name": "StyleView",
       "background": null,
       "description_width": "",
       "font_size": null,
       "text_color": null
      }
     },
     "ac6429d4b2a642febf5396de29544e3b": {
      "model_module": "@jupyter-widgets/base",
      "model_module_version": "2.0.0",
      "model_name": "LayoutModel",
      "state": {
       "_model_module": "@jupyter-widgets/base",
       "_model_module_version": "2.0.0",
       "_model_name": "LayoutModel",
       "_view_count": null,
       "_view_module": "@jupyter-widgets/base",
       "_view_module_version": "2.0.0",
       "_view_name": "LayoutView",
       "align_content": null,
       "align_items": null,
       "align_self": null,
       "border_bottom": null,
       "border_left": null,
       "border_right": null,
       "border_top": null,
       "bottom": null,
       "display": null,
       "flex": null,
       "flex_flow": null,
       "grid_area": null,
       "grid_auto_columns": null,
       "grid_auto_flow": null,
       "grid_auto_rows": null,
       "grid_column": null,
       "grid_gap": null,
       "grid_row": null,
       "grid_template_areas": null,
       "grid_template_columns": null,
       "grid_template_rows": null,
       "height": null,
       "justify_content": null,
       "justify_items": null,
       "left": null,
       "margin": null,
       "max_height": null,
       "max_width": null,
       "min_height": null,
       "min_width": null,
       "object_fit": null,
       "object_position": null,
       "order": null,
       "overflow": null,
       "padding": null,
       "right": null,
       "top": null,
       "visibility": null,
       "width": null
      }
     },
     "adfb47cd3c694bf8a3186c3eb8abbb1d": {
      "model_module": "@jupyter-widgets/base",
      "model_module_version": "2.0.0",
      "model_name": "LayoutModel",
      "state": {
       "_model_module": "@jupyter-widgets/base",
       "_model_module_version": "2.0.0",
       "_model_name": "LayoutModel",
       "_view_count": null,
       "_view_module": "@jupyter-widgets/base",
       "_view_module_version": "2.0.0",
       "_view_name": "LayoutView",
       "align_content": null,
       "align_items": null,
       "align_self": null,
       "border_bottom": null,
       "border_left": null,
       "border_right": null,
       "border_top": null,
       "bottom": null,
       "display": null,
       "flex": null,
       "flex_flow": null,
       "grid_area": null,
       "grid_auto_columns": null,
       "grid_auto_flow": null,
       "grid_auto_rows": null,
       "grid_column": null,
       "grid_gap": null,
       "grid_row": null,
       "grid_template_areas": null,
       "grid_template_columns": null,
       "grid_template_rows": null,
       "height": null,
       "justify_content": null,
       "justify_items": null,
       "left": null,
       "margin": null,
       "max_height": null,
       "max_width": null,
       "min_height": null,
       "min_width": null,
       "object_fit": null,
       "object_position": null,
       "order": null,
       "overflow": null,
       "padding": null,
       "right": null,
       "top": null,
       "visibility": null,
       "width": null
      }
     },
     "af746d574a534ea3b0d61d71fb150a49": {
      "model_module": "@jupyter-widgets/base",
      "model_module_version": "2.0.0",
      "model_name": "LayoutModel",
      "state": {
       "_model_module": "@jupyter-widgets/base",
       "_model_module_version": "2.0.0",
       "_model_name": "LayoutModel",
       "_view_count": null,
       "_view_module": "@jupyter-widgets/base",
       "_view_module_version": "2.0.0",
       "_view_name": "LayoutView",
       "align_content": null,
       "align_items": null,
       "align_self": null,
       "border_bottom": null,
       "border_left": null,
       "border_right": null,
       "border_top": null,
       "bottom": null,
       "display": null,
       "flex": null,
       "flex_flow": null,
       "grid_area": null,
       "grid_auto_columns": null,
       "grid_auto_flow": null,
       "grid_auto_rows": null,
       "grid_column": null,
       "grid_gap": null,
       "grid_row": null,
       "grid_template_areas": null,
       "grid_template_columns": null,
       "grid_template_rows": null,
       "height": null,
       "justify_content": null,
       "justify_items": null,
       "left": null,
       "margin": null,
       "max_height": null,
       "max_width": null,
       "min_height": null,
       "min_width": null,
       "object_fit": null,
       "object_position": null,
       "order": null,
       "overflow": null,
       "padding": null,
       "right": null,
       "top": null,
       "visibility": null,
       "width": null
      }
     },
     "b23a61c0e782403b9f399cf9185d858b": {
      "model_module": "@jupyter-widgets/controls",
      "model_module_version": "2.0.0",
      "model_name": "HTMLStyleModel",
      "state": {
       "_model_module": "@jupyter-widgets/controls",
       "_model_module_version": "2.0.0",
       "_model_name": "HTMLStyleModel",
       "_view_count": null,
       "_view_module": "@jupyter-widgets/base",
       "_view_module_version": "2.0.0",
       "_view_name": "StyleView",
       "background": null,
       "description_width": "",
       "font_size": null,
       "text_color": null
      }
     },
     "baeddeaba0974fab85e3b90ec32e917d": {
      "model_module": "@jupyter-widgets/controls",
      "model_module_version": "2.0.0",
      "model_name": "HTMLStyleModel",
      "state": {
       "_model_module": "@jupyter-widgets/controls",
       "_model_module_version": "2.0.0",
       "_model_name": "HTMLStyleModel",
       "_view_count": null,
       "_view_module": "@jupyter-widgets/base",
       "_view_module_version": "2.0.0",
       "_view_name": "StyleView",
       "background": null,
       "description_width": "",
       "font_size": null,
       "text_color": null
      }
     },
     "bbec295ffacb484b867c263534e7e6e2": {
      "model_module": "@jupyter-widgets/controls",
      "model_module_version": "2.0.0",
      "model_name": "HTMLModel",
      "state": {
       "_dom_classes": [],
       "_model_module": "@jupyter-widgets/controls",
       "_model_module_version": "2.0.0",
       "_model_name": "HTMLModel",
       "_view_count": null,
       "_view_module": "@jupyter-widgets/controls",
       "_view_module_version": "2.0.0",
       "_view_name": "HTMLView",
       "description": "",
       "description_allow_html": false,
       "layout": "IPY_MODEL_adfb47cd3c694bf8a3186c3eb8abbb1d",
       "placeholder": "​",
       "style": "IPY_MODEL_c3065d57a8cd4ee285e258aba6669532",
       "tabbable": null,
       "tooltip": null,
       "value": "<h5><a href=\"https://github.com/jupyter/nbviewer\">jupyter/nbviewer</a></h5>\n<ul>\n<li><a href=\"https://github.com/jupyter/nbviewer/issues/600\">(#600)</a>: <em>Can't visit 'localhost:8080' after running in a docker</em> by <strong><a href=\"https://github.com/taoluo\">@taoluo</a></strong></li>\n<li><a href=\"https://github.com/jupyter/nbviewer/issues/856\">(#856)</a>: <em>GitHub Rate Limit</em> by <strong><a href=\"https://github.com/jakirkham\">@jakirkham</a></strong></li>\n<li><a href=\"https://github.com/jupyter/nbviewer/issues/914\">(#914)</a>: <em>nbviewer does not flush cache</em> by <strong><a href=\"https://github.com/shinokada\">@shinokada</a></strong></li>\n<li><a href=\"https://github.com/jupyter/nbviewer/issues/1064\">(#1064)</a>: <em>404: Not Found Error</em> by <strong><a href=\"https://github.com/jonilynn02\">@jonilynn02</a></strong></li>\n</ul>"
      }
     },
     "bdfa0d57def847e5a345e30966b32d77": {
      "model_module": "@jupyter-widgets/controls",
      "model_module_version": "2.0.0",
      "model_name": "HTMLStyleModel",
      "state": {
       "_model_module": "@jupyter-widgets/controls",
       "_model_module_version": "2.0.0",
       "_model_name": "HTMLStyleModel",
       "_view_count": null,
       "_view_module": "@jupyter-widgets/base",
       "_view_module_version": "2.0.0",
       "_view_name": "StyleView",
       "background": null,
       "description_width": "",
       "font_size": null,
       "text_color": null
      }
     },
     "c2f1676c550948faaae1f9e42e92414a": {
      "model_module": "@jupyter-widgets/controls",
      "model_module_version": "2.0.0",
      "model_name": "HTMLModel",
      "state": {
       "_dom_classes": [],
       "_model_module": "@jupyter-widgets/controls",
       "_model_module_version": "2.0.0",
       "_model_name": "HTMLModel",
       "_view_count": null,
       "_view_module": "@jupyter-widgets/controls",
       "_view_module_version": "2.0.0",
       "_view_name": "HTMLView",
       "description": "",
       "description_allow_html": false,
       "layout": "IPY_MODEL_5bde74b24d6f4f469c24a5c597d9bc67",
       "placeholder": "​",
       "style": "IPY_MODEL_1327ca134f04482ca6190c44a4f3c44f",
       "tabbable": null,
       "tooltip": null,
       "value": "<h5><a href=\"https://github.com/jupyter/jupyter_core\">jupyter/jupyter_core</a></h5>\n<ul>\n<li><a href=\"https://github.com/jupyter/jupyter_core/issues/410\">(#410)</a>: <em>The configuration files for Jupyter produce many lint errors now</em> by <strong><a href=\"https://github.com/NeilGirdhar\">@NeilGirdhar</a></strong></li>\n<li><a href=\"https://github.com/jupyter/jupyter_core/issues/350\">(#350)</a>: <em>There are conflicts between the modules of the dependencies.</em> by <strong><a href=\"https://github.com/unsatisfying\">@unsatisfying</a></strong></li>\n<li><a href=\"https://github.com/jupyter/jupyter_core/issues/423\">(#423)</a>: <em>paths.is_hidden() Erroneously Reports Files as Hidden</em> by <strong><a href=\"https://github.com/matyanwek\">@matyanwek</a></strong></li>\n</ul>"
      }
     },
     "c3065d57a8cd4ee285e258aba6669532": {
      "model_module": "@jupyter-widgets/controls",
      "model_module_version": "2.0.0",
      "model_name": "HTMLStyleModel",
      "state": {
       "_model_module": "@jupyter-widgets/controls",
       "_model_module_version": "2.0.0",
       "_model_name": "HTMLStyleModel",
       "_view_count": null,
       "_view_module": "@jupyter-widgets/base",
       "_view_module_version": "2.0.0",
       "_view_name": "StyleView",
       "background": null,
       "description_width": "",
       "font_size": null,
       "text_color": null
      }
     },
     "c35d19bbd8104c4cbf8d9b9fb7033d76": {
      "model_module": "@jupyter-widgets/base",
      "model_module_version": "2.0.0",
      "model_name": "LayoutModel",
      "state": {
       "_model_module": "@jupyter-widgets/base",
       "_model_module_version": "2.0.0",
       "_model_name": "LayoutModel",
       "_view_count": null,
       "_view_module": "@jupyter-widgets/base",
       "_view_module_version": "2.0.0",
       "_view_name": "LayoutView",
       "align_content": null,
       "align_items": null,
       "align_self": null,
       "border_bottom": null,
       "border_left": null,
       "border_right": null,
       "border_top": null,
       "bottom": null,
       "display": null,
       "flex": null,
       "flex_flow": null,
       "grid_area": null,
       "grid_auto_columns": null,
       "grid_auto_flow": null,
       "grid_auto_rows": null,
       "grid_column": null,
       "grid_gap": null,
       "grid_row": null,
       "grid_template_areas": null,
       "grid_template_columns": null,
       "grid_template_rows": null,
       "height": null,
       "justify_content": null,
       "justify_items": null,
       "left": null,
       "margin": null,
       "max_height": null,
       "max_width": null,
       "min_height": null,
       "min_width": null,
       "object_fit": null,
       "object_position": null,
       "order": null,
       "overflow": null,
       "padding": null,
       "right": null,
       "top": null,
       "visibility": null,
       "width": null
      }
     },
     "c49a13721b2b4a83a50dbf54f055f37d": {
      "model_module": "@jupyter-widgets/base",
      "model_module_version": "2.0.0",
      "model_name": "LayoutModel",
      "state": {
       "_model_module": "@jupyter-widgets/base",
       "_model_module_version": "2.0.0",
       "_model_name": "LayoutModel",
       "_view_count": null,
       "_view_module": "@jupyter-widgets/base",
       "_view_module_version": "2.0.0",
       "_view_name": "LayoutView",
       "align_content": null,
       "align_items": null,
       "align_self": null,
       "border_bottom": null,
       "border_left": null,
       "border_right": null,
       "border_top": null,
       "bottom": null,
       "display": null,
       "flex": null,
       "flex_flow": null,
       "grid_area": null,
       "grid_auto_columns": null,
       "grid_auto_flow": null,
       "grid_auto_rows": null,
       "grid_column": null,
       "grid_gap": null,
       "grid_row": null,
       "grid_template_areas": null,
       "grid_template_columns": null,
       "grid_template_rows": null,
       "height": null,
       "justify_content": null,
       "justify_items": null,
       "left": null,
       "margin": null,
       "max_height": null,
       "max_width": null,
       "min_height": null,
       "min_width": null,
       "object_fit": null,
       "object_position": null,
       "order": null,
       "overflow": null,
       "padding": null,
       "right": null,
       "top": null,
       "visibility": null,
       "width": null
      }
     },
     "c9238a6a1c074752abaa993de5d4cba0": {
      "model_module": "@jupyter-widgets/controls",
      "model_module_version": "2.0.0",
      "model_name": "HTMLModel",
      "state": {
       "_dom_classes": [],
       "_model_module": "@jupyter-widgets/controls",
       "_model_module_version": "2.0.0",
       "_model_name": "HTMLModel",
       "_view_count": null,
       "_view_module": "@jupyter-widgets/controls",
       "_view_module_version": "2.0.0",
       "_view_name": "HTMLView",
       "description": "",
       "description_allow_html": false,
       "layout": "IPY_MODEL_e7d96d71542742bb858750e2750332a9",
       "placeholder": "​",
       "style": "IPY_MODEL_ca58ee4080384449b7bc44d9156fa958",
       "tabbable": null,
       "tooltip": null,
       "value": "<h4>Closed PRs for repo: <a href=\"https://github.com/jupyter/jupyter_client\">jupyter/jupyter_client</a></h4>\n<h5></h5>\n<ul>\n<li><a href=\"https://github.com/jupyter/jupyter_client/issues/1060\">(#1060)</a>: <em>Support date serialization in messages</em> by <strong><a href=\"https://github.com/sebwills\">@sebwills</a></strong> merged by <strong><a href=\"https://github.com/minrk\">@minrk</a></strong></li>\n</ul>"
      }
     },
     "ca24f85424e243b8bee8bd42bb7be29f": {
      "model_module": "@jupyter-widgets/controls",
      "model_module_version": "2.0.0",
      "model_name": "HTMLModel",
      "state": {
       "_dom_classes": [],
       "_model_module": "@jupyter-widgets/controls",
       "_model_module_version": "2.0.0",
       "_model_name": "HTMLModel",
       "_view_count": null,
       "_view_module": "@jupyter-widgets/controls",
       "_view_module_version": "2.0.0",
       "_view_name": "HTMLView",
       "description": "",
       "description_allow_html": false,
       "layout": "IPY_MODEL_e04f35cc063b4b4f8ff1f43efa7a66bb",
       "placeholder": "​",
       "style": "IPY_MODEL_f8ba82686754407b971f5fab2ace7239",
       "tabbable": null,
       "tooltip": null,
       "value": "<h4>Closed PRs for repo: <a href=\"https://github.com/jupyter/nbviewer\">jupyter/nbviewer</a></h4>\n<h5></h5>\n<ul>\n<li><a href=\"https://github.com/jupyter/nbviewer/issues/1072\">(#1072)</a>: <em>Create cr</em> by <strong><a href=\"https://github.com/Diyatuli04\">@Diyatuli04</a></strong> merged by <strong><a href=\"https://github.com/bollwyvl\">@bollwyvl</a></strong></li>\n</ul>"
      }
     },
     "ca58ee4080384449b7bc44d9156fa958": {
      "model_module": "@jupyter-widgets/controls",
      "model_module_version": "2.0.0",
      "model_name": "HTMLStyleModel",
      "state": {
       "_model_module": "@jupyter-widgets/controls",
       "_model_module_version": "2.0.0",
       "_model_name": "HTMLStyleModel",
       "_view_count": null,
       "_view_module": "@jupyter-widgets/base",
       "_view_module_version": "2.0.0",
       "_view_name": "StyleView",
       "background": null,
       "description_width": "",
       "font_size": null,
       "text_color": null
      }
     },
     "ce1b787183fd42e4812e78aca809addc": {
      "model_module": "@jupyter-widgets/base",
      "model_module_version": "2.0.0",
      "model_name": "LayoutModel",
      "state": {
       "_model_module": "@jupyter-widgets/base",
       "_model_module_version": "2.0.0",
       "_model_name": "LayoutModel",
       "_view_count": null,
       "_view_module": "@jupyter-widgets/base",
       "_view_module_version": "2.0.0",
       "_view_name": "LayoutView",
       "align_content": null,
       "align_items": null,
       "align_self": null,
       "border_bottom": null,
       "border_left": null,
       "border_right": null,
       "border_top": null,
       "bottom": null,
       "display": null,
       "flex": null,
       "flex_flow": null,
       "grid_area": null,
       "grid_auto_columns": null,
       "grid_auto_flow": null,
       "grid_auto_rows": null,
       "grid_column": null,
       "grid_gap": null,
       "grid_row": null,
       "grid_template_areas": null,
       "grid_template_columns": null,
       "grid_template_rows": null,
       "height": null,
       "justify_content": null,
       "justify_items": null,
       "left": null,
       "margin": null,
       "max_height": null,
       "max_width": null,
       "min_height": null,
       "min_width": null,
       "object_fit": null,
       "object_position": null,
       "order": null,
       "overflow": null,
       "padding": null,
       "right": null,
       "top": null,
       "visibility": null,
       "width": null
      }
     },
     "cea29b2d8c284b59a886323a5db7aa25": {
      "model_module": "@jupyter-widgets/controls",
      "model_module_version": "2.0.0",
      "model_name": "HTMLModel",
      "state": {
       "_dom_classes": [],
       "_model_module": "@jupyter-widgets/controls",
       "_model_module_version": "2.0.0",
       "_model_name": "HTMLModel",
       "_view_count": null,
       "_view_module": "@jupyter-widgets/controls",
       "_view_module_version": "2.0.0",
       "_view_name": "HTMLView",
       "description": "",
       "description_allow_html": false,
       "layout": "IPY_MODEL_fb8c26980172453983ba2f00beaa3dd8",
       "placeholder": "​",
       "style": "IPY_MODEL_7b5364fb1fa345f285a373dc8a2f232a",
       "tabbable": null,
       "tooltip": null,
       "value": "<h5><a href=\"https://github.com/jupyter/nbdime\">jupyter/nbdime</a></h5>\n<ul>\n<li><a href=\"https://github.com/jupyter/nbdime/issues/778\">(#778)</a>: <em><code>nbdime mergetool</code> error: <code>Invalid merge decision action: take_max</code></em> by <strong><a href=\"https://github.com/ryan-williams\">@ryan-williams</a></strong></li>\n<li><a href=\"https://github.com/jupyter/nbdime/issues/553\">(#553)</a>: <em>Support cell IDs</em> by <strong><a href=\"https://github.com/vidartf\">@vidartf</a></strong></li>\n<li><a href=\"https://github.com/jupyter/nbdime/issues/776\">(#776)</a>: <em>nbdiff-web <file-path> inside a git repo shows the spinner</em> by <strong><a href=\"https://github.com/pinchedsquare\">@pinchedsquare</a></strong></li>\n</ul>"
      }
     },
     "ceb815d0b68048a38840db888a3b7e32": {
      "model_module": "@jupyter-widgets/base",
      "model_module_version": "2.0.0",
      "model_name": "LayoutModel",
      "state": {
       "_model_module": "@jupyter-widgets/base",
       "_model_module_version": "2.0.0",
       "_model_name": "LayoutModel",
       "_view_count": null,
       "_view_module": "@jupyter-widgets/base",
       "_view_module_version": "2.0.0",
       "_view_name": "LayoutView",
       "align_content": null,
       "align_items": null,
       "align_self": null,
       "border_bottom": null,
       "border_left": null,
       "border_right": null,
       "border_top": null,
       "bottom": null,
       "display": null,
       "flex": null,
       "flex_flow": null,
       "grid_area": null,
       "grid_auto_columns": null,
       "grid_auto_flow": null,
       "grid_auto_rows": null,
       "grid_column": null,
       "grid_gap": null,
       "grid_row": null,
       "grid_template_areas": null,
       "grid_template_columns": null,
       "grid_template_rows": null,
       "height": null,
       "justify_content": null,
       "justify_items": null,
       "left": null,
       "margin": null,
       "max_height": null,
       "max_width": null,
       "min_height": null,
       "min_width": null,
       "object_fit": null,
       "object_position": null,
       "order": null,
       "overflow": null,
       "padding": null,
       "right": null,
       "top": null,
       "visibility": null,
       "width": null
      }
     },
     "d066e0dd13504b3a9f8e7b687e6c91e4": {
      "model_module": "@jupyter-widgets/controls",
      "model_module_version": "2.0.0",
      "model_name": "HTMLModel",
      "state": {
       "_dom_classes": [],
       "_model_module": "@jupyter-widgets/controls",
       "_model_module_version": "2.0.0",
       "_model_name": "HTMLModel",
       "_view_count": null,
       "_view_module": "@jupyter-widgets/controls",
       "_view_module_version": "2.0.0",
       "_view_name": "HTMLView",
       "description": "",
       "description_allow_html": false,
       "layout": "IPY_MODEL_ceb815d0b68048a38840db888a3b7e32",
       "placeholder": "​",
       "style": "IPY_MODEL_49242610447c4129a7bff915147f229e",
       "tabbable": null,
       "tooltip": null,
       "value": "<h5><a href=\"https://github.com/jupyter/nbgrader\">jupyter/nbgrader</a></h5>\n<ul>\n<li><a href=\"https://github.com/jupyter/nbgrader/issues/1955\">(#1955)</a>: <em>Wishlist: capture output of print statements in answer and test cells</em> by <strong><a href=\"https://github.com/callegar\">@callegar</a></strong></li>\n<li><a href=\"https://github.com/jupyter/nbgrader/issues/1965\">(#1965)</a>: <em>Formgrader does not find assignments when path contains aquare brackets</em> by <strong><a href=\"https://github.com/tjueterb\">@tjueterb</a></strong></li>\n<li><a href=\"https://github.com/jupyter/nbgrader/issues/1931\">(#1931)</a>: <em>Colon in feedback path conflicts with jupyter-fs</em> by <strong><a href=\"https://github.com/jeflem\">@jeflem</a></strong></li>\n<li><a href=\"https://github.com/jupyter/nbgrader/issues/1960\">(#1960)</a>: <em>Installation Script</em> by <strong><a href=\"https://github.com/ronaldpetty\">@ronaldpetty</a></strong></li>\n<li><a href=\"https://github.com/jupyter/nbgrader/issues/1837\">(#1837)</a>: <em>Integrating nbgrader with a plagiarism checker?</em> by <strong><a href=\"https://github.com/Merna-Atef\">@Merna-Atef</a></strong></li>\n</ul>"
      }
     },
     "d22237fbec754ee09147200e2b690641": {
      "model_module": "@jupyter-widgets/controls",
      "model_module_version": "2.0.0",
      "model_name": "HTMLStyleModel",
      "state": {
       "_model_module": "@jupyter-widgets/controls",
       "_model_module_version": "2.0.0",
       "_model_name": "HTMLStyleModel",
       "_view_count": null,
       "_view_module": "@jupyter-widgets/base",
       "_view_module_version": "2.0.0",
       "_view_name": "StyleView",
       "background": null,
       "description_width": "",
       "font_size": null,
       "text_color": null
      }
     },
     "d233ec2009cc4a6d9503ffa9ab8c2117": {
      "model_module": "@jupyter-widgets/controls",
      "model_module_version": "2.0.0",
      "model_name": "HTMLStyleModel",
      "state": {
       "_model_module": "@jupyter-widgets/controls",
       "_model_module_version": "2.0.0",
       "_model_name": "HTMLStyleModel",
       "_view_count": null,
       "_view_module": "@jupyter-widgets/base",
       "_view_module_version": "2.0.0",
       "_view_name": "StyleView",
       "background": null,
       "description_width": "",
       "font_size": null,
       "text_color": null
      }
     },
     "d6e67d5443e6403b8db3b57926e01742": {
      "model_module": "@jupyter-widgets/controls",
      "model_module_version": "2.0.0",
      "model_name": "HTMLModel",
      "state": {
       "_dom_classes": [],
       "_model_module": "@jupyter-widgets/controls",
       "_model_module_version": "2.0.0",
       "_model_name": "HTMLModel",
       "_view_count": null,
       "_view_module": "@jupyter-widgets/controls",
       "_view_module_version": "2.0.0",
       "_view_name": "HTMLView",
       "description": "",
       "description_allow_html": false,
       "layout": "IPY_MODEL_9d0a5ac60afc4caa8322cfc1beec7575",
       "placeholder": "​",
       "style": "IPY_MODEL_bdfa0d57def847e5a345e30966b32d77",
       "tabbable": null,
       "tooltip": null,
       "value": "<h4>Closed PRs for repo: <a href=\"https://github.com/jupyter/notebook\">jupyter/notebook</a></h4>\n<h5></h5>\n<ul>\n<li><a href=\"https://github.com/jupyter/notebook/issues/7553\">(#7553)</a>: <em>Bump nanoid from 3.3.6 to 3.3.8</em> by <strong><a href=\"https://github.com/dependabot[bot]\">@dependabot[bot]</a></strong> merged by <strong><a href=\"https://github.com/jtpio\">@jtpio</a></strong></li>\n<li><a href=\"https://github.com/jupyter/notebook/issues/7573\">(#7573)</a>: <em>Bump katex from 0.16.18 to 0.16.21</em> by <strong><a href=\"https://github.com/dependabot[bot]\">@dependabot[bot]</a></strong> merged by <strong><a href=\"https://github.com/jtpio\">@jtpio</a></strong></li>\n<li><a href=\"https://github.com/jupyter/notebook/issues/7574\">(#7574)</a>: <em>Bump markdown-to-jsx from 7.3.2 to 7.7.3</em> by <strong><a href=\"https://github.com/dependabot[bot]\">@dependabot[bot]</a></strong> merged by <strong><a href=\"https://github.com/jtpio\">@jtpio</a></strong></li>\n<li><a href=\"https://github.com/jupyter/notebook/issues/7586\">(#7586)</a>: <em>Bump vega from 5.24.0 to 5.31.0 in /ui-tests</em> by <strong><a href=\"https://github.com/dependabot[bot]\">@dependabot[bot]</a></strong> merged by <strong><a href=\"https://github.com/jtpio\">@jtpio</a></strong></li>\n<li><a href=\"https://github.com/jupyter/notebook/issues/7590\">(#7590)</a>: <em>Bump serialize-javascript from 6.0.1 to 6.0.2</em> by <strong><a href=\"https://github.com/dependabot[bot]\">@dependabot[bot]</a></strong> merged by <strong><a href=\"https://github.com/jtpio\">@jtpio</a></strong></li>\n<li><a href=\"https://github.com/jupyter/notebook/issues/7591\">(#7591)</a>: <em>Update to JupyterLab v4.4.0b0</em> by <strong><a href=\"https://github.com/jtpio\">@jtpio</a></strong> merged by <strong><a href=\"https://github.com/jtpio\">@jtpio</a></strong></li>\n<li><a href=\"https://github.com/jupyter/notebook/issues/7592\">(#7592)</a>: <em>Bump vega-selections from 5.4.1 to 5.5.0 in /ui-tests</em> by <strong><a href=\"https://github.com/dependabot[bot]\">@dependabot[bot]</a></strong> merged by <strong><a href=\"https://github.com/jtpio\">@jtpio</a></strong></li>\n<li><a href=\"https://github.com/jupyter/notebook/issues/7593\">(#7593)</a>: <em>Bump vega-selections from 5.4.1 to 5.5.0</em> by <strong><a href=\"https://github.com/dependabot[bot]\">@dependabot[bot]</a></strong> merged by <strong><a href=\"https://github.com/jtpio\">@jtpio</a></strong></li>\n<li><a href=\"https://github.com/jupyter/notebook/issues/7594\">(#7594)</a>: <em>Create recovery requires time</em> by <strong><a href=\"https://github.com/craigwllce\">@craigwllce</a></strong> merged by <strong><a href=\"https://github.com/krassowski\">@krassowski</a></strong></li>\n<li><a href=\"https://github.com/jupyter/notebook/issues/7598\">(#7598)</a>: <em>Bump axios from 1.6.2 to 1.8.2</em> by <strong><a href=\"https://github.com/dependabot[bot]\">@dependabot[bot]</a></strong> merged by <strong><a href=\"https://github.com/jtpio\">@jtpio</a></strong></li>\n<li><a href=\"https://github.com/jupyter/notebook/issues/7599\">(#7599)</a>: <em>Manual dependabot bumps</em> by <strong><a href=\"https://github.com/jtpio\">@jtpio</a></strong> merged by <strong><a href=\"https://github.com/jtpio\">@jtpio</a></strong></li>\n<li><a href=\"https://github.com/jupyter/notebook/issues/7602\">(#7602)</a>: <em>Add devcontainer support, backed by pixi</em> by <strong><a href=\"https://github.com/jtpio\">@jtpio</a></strong> merged by <strong><a href=\"https://github.com/jtpio\">@jtpio</a></strong></li>\n<li><a href=\"https://github.com/jupyter/notebook/issues/7603\">(#7603)</a>: <em>Bump @babel/helpers from 7.23.1 to 7.26.10</em> by <strong><a href=\"https://github.com/dependabot[bot]\">@dependabot[bot]</a></strong> merged by <strong><a href=\"https://github.com/jtpio\">@jtpio</a></strong></li>\n<li><a href=\"https://github.com/jupyter/notebook/issues/7604\">(#7604)</a>: <em>Bump @babel/runtime from 7.23.1 to 7.26.10</em> by <strong><a href=\"https://github.com/dependabot[bot]\">@dependabot[bot]</a></strong> merged by <strong><a href=\"https://github.com/jtpio\">@jtpio</a></strong></li>\n<li><a href=\"https://github.com/jupyter/notebook/issues/7605\">(#7605)</a>: <em>Update <code>@babel</code> dependencies</em> by <strong><a href=\"https://github.com/jtpio\">@jtpio</a></strong> merged by <strong><a href=\"https://github.com/jtpio\">@jtpio</a></strong></li>\n<li><a href=\"https://github.com/jupyter/notebook/issues/7607\">(#7607)</a>: <em>Update to JupyterLab <code>v4.4.0b1</code></em> by <strong><a href=\"https://github.com/jtpio\">@jtpio</a></strong> merged by <strong><a href=\"https://github.com/jtpio\">@jtpio</a></strong></li>\n<li><a href=\"https://github.com/jupyter/notebook/issues/7608\">(#7608)</a>: <em>Add pixi step to the update workflow</em> by <strong><a href=\"https://github.com/jtpio\">@jtpio</a></strong> merged by <strong><a href=\"https://github.com/jtpio\">@jtpio</a></strong></li>\n<li><a href=\"https://github.com/jupyter/notebook/issues/7610\">(#7610)</a>: <em>Update to JupyterLab v4.3.6</em> by <strong><a href=\"https://github.com/jtpio\">@jtpio</a></strong> merged by <strong><a href=\"https://github.com/jtpio\">@jtpio</a></strong></li>\n<li><a href=\"https://github.com/jupyter/notebook/issues/7612\">(#7612)</a>: <em>User facing changelog for 7.4</em> by <strong><a href=\"https://github.com/jtpio\">@jtpio</a></strong> merged by <strong><a href=\"https://github.com/jtpio\">@jtpio</a></strong></li>\n<li><a href=\"https://github.com/jupyter/notebook/issues/7614\">(#7614)</a>: <em>Update to JupyterLab v4.4.0b2</em> by <strong><a href=\"https://github.com/jtpio\">@jtpio</a></strong> merged by <strong><a href=\"https://github.com/jtpio\">@jtpio</a></strong></li>\n<li><a href=\"https://github.com/jupyter/notebook/issues/7616\">(#7616)</a>: <em>Support <code>ServiceManagerPlugin</code></em> by <strong><a href=\"https://github.com/jtpio\">@jtpio</a></strong> merged by <strong><a href=\"https://github.com/jtpio\">@jtpio</a></strong></li>\n<li><a href=\"https://github.com/jupyter/notebook/issues/7617\">(#7617)</a>: <em>Create jekyll-docker.yml</em> by <strong><a href=\"https://github.com/BoomchainLabs\">@BoomchainLabs</a></strong> merged by <strong><a href=\"https://github.com/krassowski\">@krassowski</a></strong></li>\n<li><a href=\"https://github.com/jupyter/notebook/issues/7618\">(#7618)</a>: <em>Update to JupyterLab v4.4.0rc0</em> by <strong><a href=\"https://github.com/jtpio\">@jtpio</a></strong> merged by <strong><a href=\"https://github.com/jtpio\">@jtpio</a></strong></li>\n<li><a href=\"https://github.com/jupyter/notebook/issues/7619\">(#7619)</a>: <em>Add support for a <code>down</code> area</em> by <strong><a href=\"https://github.com/jtpio\">@jtpio</a></strong> merged by <strong><a href=\"https://github.com/jtpio\">@jtpio</a></strong></li>\n<li><a href=\"https://github.com/jupyter/notebook/issues/7622\">(#7622)</a>: <em>Update to JupyterLab v4.4.0rc1</em> by <strong><a href=\"https://github.com/jtpio\">@jtpio</a></strong> merged by <strong><a href=\"https://github.com/jtpio\">@jtpio</a></strong></li>\n<li><a href=\"https://github.com/jupyter/notebook/issues/7623\">(#7623)</a>: <em>Update to JupyterLab v4.4.0</em> by <strong><a href=\"https://github.com/github-actions[bot]\">@github-actions[bot]</a></strong> merged by <strong><a href=\"https://github.com/jtpio\">@jtpio</a></strong></li>\n<li><a href=\"https://github.com/jupyter/notebook/issues/7624\">(#7624)</a>: <em>Default <code>singleClickNavigation</code> back to <code>false</code></em> by <strong><a href=\"https://github.com/jtpio\">@jtpio</a></strong> merged by <strong><a href=\"https://github.com/jtpio\">@jtpio</a></strong></li>\n<li><a href=\"https://github.com/jupyter/notebook/issues/7626\">(#7626)</a>: <em>Bump the actions group with 2 updates</em> by <strong><a href=\"https://github.com/dependabot[bot]\">@dependabot[bot]</a></strong> merged by <strong><a href=\"https://github.com/jtpio\">@jtpio</a></strong></li>\n<li><a href=\"https://github.com/jupyter/notebook/issues/7627\">(#7627)</a>: <em>Patch handling of singleClickNavigation</em> by <strong><a href=\"https://github.com/jtpio\">@jtpio</a></strong> merged by <strong><a href=\"https://github.com/jtpio\">@jtpio</a></strong></li>\n<li><a href=\"https://github.com/jupyter/notebook/issues/7628\">(#7628)</a>: <em>Drop support for Python 3.8</em> by <strong><a href=\"https://github.com/honnix\">@honnix</a></strong> merged by <strong><a href=\"https://github.com/jtpio\">@jtpio</a></strong></li>\n<li><a href=\"https://github.com/jupyter/notebook/issues/7632\">(#7632)</a>: <em>Bump prefix-dev/setup-pixi from 0.8.4 to 0.8.5 in the actions group</em> by <strong><a href=\"https://github.com/dependabot[bot]\">@dependabot[bot]</a></strong> merged by <strong><a href=\"https://github.com/jtpio\">@jtpio</a></strong></li>\n<li><a href=\"https://github.com/jupyter/notebook/issues/7633\">(#7633)</a>: <em>chore: Fix UP006</em> by <strong><a href=\"https://github.com/honnix\">@honnix</a></strong> merged by <strong><a href=\"https://github.com/jtpio\">@jtpio</a></strong></li>\n<li><a href=\"https://github.com/jupyter/notebook/issues/7637\">(#7637)</a>: <em>Bump prefix-dev/setup-pixi from 0.8.5 to 0.8.8 in the actions group</em> by <strong><a href=\"https://github.com/dependabot[bot]\">@dependabot[bot]</a></strong> merged by <strong><a href=\"https://github.com/jtpio\">@jtpio</a></strong></li>\n<li><a href=\"https://github.com/jupyter/notebook/issues/7638\">(#7638)</a>: <em>Update to JupyterLab v4.4.1</em> by <strong><a href=\"https://github.com/jtpio\">@jtpio</a></strong> merged by <strong><a href=\"https://github.com/jtpio\">@jtpio</a></strong></li>\n<li><a href=\"https://github.com/jupyter/notebook/issues/7639\">(#7639)</a>: <em>Run UI tests on <code>ubuntu-latest</code></em> by <strong><a href=\"https://github.com/jtpio\">@jtpio</a></strong> merged by <strong><a href=\"https://github.com/jtpio\">@jtpio</a></strong></li>\n<li><a href=\"https://github.com/jupyter/notebook/issues/7640\">(#7640)</a>: <em>Backport PR #7639 on branch 7.4.x (Run UI tests on <code>ubuntu-latest</code>)</em> by <strong><a href=\"https://github.com/meeseeksmachine\">@meeseeksmachine</a></strong> merged by <strong><a href=\"https://github.com/jtpio\">@jtpio</a></strong></li>\n<li><a href=\"https://github.com/jupyter/notebook/issues/7641\">(#7641)</a>: <em>Backport PR #7638 on branch 7.4.x (Update to JupyterLab v4.4.1)</em> by <strong><a href=\"https://github.com/meeseeksmachine\">@meeseeksmachine</a></strong> merged by <strong><a href=\"https://github.com/jtpio\">@jtpio</a></strong></li>\n<li><a href=\"https://github.com/jupyter/notebook/issues/7642\">(#7642)</a>: <em>Fix: Update static notebook core script for Ctrl-Z Find and Replace undo (#7504)</em> by <strong><a href=\"https://github.com/honeyreddy30\">@honeyreddy30</a></strong> merged by <strong><a href=\"https://github.com/honeyreddy30\">@honeyreddy30</a></strong></li>\n<li><a href=\"https://github.com/jupyter/notebook/issues/7649\">(#7649)</a>: <em>Update to JupyterLab v4.4.2</em> by <strong><a href=\"https://github.com/jtpio\">@jtpio</a></strong> merged by <strong><a href=\"https://github.com/jtpio\">@jtpio</a></strong></li>\n<li><a href=\"https://github.com/jupyter/notebook/issues/7650\">(#7650)</a>: <em>Update to JupyterLab v4.5.0a0</em> by <strong><a href=\"https://github.com/jtpio\">@jtpio</a></strong> merged by <strong><a href=\"https://github.com/jtpio\">@jtpio</a></strong></li>\n</ul>"
      }
     },
     "d930e2aaa5bd409e910ec0d3f6261e85": {
      "model_module": "@jupyter-widgets/base",
      "model_module_version": "2.0.0",
      "model_name": "LayoutModel",
      "state": {
       "_model_module": "@jupyter-widgets/base",
       "_model_module_version": "2.0.0",
       "_model_name": "LayoutModel",
       "_view_count": null,
       "_view_module": "@jupyter-widgets/base",
       "_view_module_version": "2.0.0",
       "_view_name": "LayoutView",
       "align_content": null,
       "align_items": null,
       "align_self": null,
       "border_bottom": null,
       "border_left": null,
       "border_right": null,
       "border_top": null,
       "bottom": null,
       "display": null,
       "flex": null,
       "flex_flow": null,
       "grid_area": null,
       "grid_auto_columns": null,
       "grid_auto_flow": null,
       "grid_auto_rows": null,
       "grid_column": null,
       "grid_gap": null,
       "grid_row": null,
       "grid_template_areas": null,
       "grid_template_columns": null,
       "grid_template_rows": null,
       "height": null,
       "justify_content": null,
       "justify_items": null,
       "left": null,
       "margin": null,
       "max_height": null,
       "max_width": null,
       "min_height": null,
       "min_width": null,
       "object_fit": null,
       "object_position": null,
       "order": null,
       "overflow": null,
       "padding": null,
       "right": null,
       "top": null,
       "visibility": null,
       "width": null
      }
     },
     "d93a2c7aa4284a1785d52a3ea40a7acd": {
      "model_module": "@jupyter-widgets/controls",
      "model_module_version": "2.0.0",
      "model_name": "HTMLStyleModel",
      "state": {
       "_model_module": "@jupyter-widgets/controls",
       "_model_module_version": "2.0.0",
       "_model_name": "HTMLStyleModel",
       "_view_count": null,
       "_view_module": "@jupyter-widgets/base",
       "_view_module_version": "2.0.0",
       "_view_name": "StyleView",
       "background": null,
       "description_width": "",
       "font_size": null,
       "text_color": null
      }
     },
     "dfc3086f0ad64cf5904298983fdb1321": {
      "model_module": "@jupyter-widgets/controls",
      "model_module_version": "2.0.0",
      "model_name": "HTMLModel",
      "state": {
       "_dom_classes": [],
       "_model_module": "@jupyter-widgets/controls",
       "_model_module_version": "2.0.0",
       "_model_name": "HTMLModel",
       "_view_count": null,
       "_view_module": "@jupyter-widgets/controls",
       "_view_module_version": "2.0.0",
       "_view_name": "HTMLView",
       "description": "",
       "description_allow_html": false,
       "layout": "IPY_MODEL_4144a65b51bb46bdb9d00213e7cc6b3a",
       "placeholder": "​",
       "style": "IPY_MODEL_8d3c73fd82ac417fa91e002def4b85c5",
       "tabbable": null,
       "tooltip": null,
       "value": "<h4>Closed PRs for repo: <a href=\"https://github.com/jupyter/jupyter.github.io\">jupyter/jupyter.github.io</a></h4>\n<h5></h5>\n<ul>\n<li><a href=\"https://github.com/jupyter/jupyter.github.io/issues/770\">(#770)</a>: <em>Bump actions/download-artifact from 2 to 4.1.7 in /.github/workflows</em> by <strong><a href=\"https://github.com/dependabot[bot]\">@dependabot[bot]</a></strong> merged by <strong><a href=\"https://github.com/krassowski\">@krassowski</a></strong></li>\n<li><a href=\"https://github.com/jupyter/jupyter.github.io/issues/783\">(#783)</a>: <em>Simplify the list of community workshops</em> by <strong><a href=\"https://github.com/jasongrout\">@jasongrout</a></strong> merged by <strong><a href=\"https://github.com/Ruv7\">@Ruv7</a></strong></li>\n<li><a href=\"https://github.com/jupyter/jupyter.github.io/issues/785\">(#785)</a>: <em>Updated wrong Bluesky profile URL</em> by <strong><a href=\"https://github.com/NiklasJordan\">@NiklasJordan</a></strong> merged by <strong><a href=\"https://github.com/afshin\">@afshin</a></strong></li>\n<li><a href=\"https://github.com/jupyter/jupyter.github.io/issues/786\">(#786)</a>: <em>Link the leadership directory</em> by <strong><a href=\"https://github.com/krassowski\">@krassowski</a></strong> merged by <strong><a href=\"https://github.com/krassowski\">@krassowski</a></strong></li>\n<li><a href=\"https://github.com/jupyter/jupyter.github.io/issues/788\">(#788)</a>: <em>Add banner for JupyterCon 2025</em> by <strong><a href=\"https://github.com/choldgraf\">@choldgraf</a></strong> merged by <strong><a href=\"https://github.com/rpwagner\">@rpwagner</a></strong></li>\n<li><a href=\"https://github.com/jupyter/jupyter.github.io/issues/789\">(#789)</a>: <em>Fix CI by removing <code>&lt;a&gt;</code> and <code>&lt;button&gt;</code> nesting as well as ignoring some working links</em> by <strong><a href=\"https://github.com/choldgraf\">@choldgraf</a></strong> merged by <strong><a href=\"https://github.com/choldgraf\">@choldgraf</a></strong></li>\n<li><a href=\"https://github.com/jupyter/jupyter.github.io/issues/790\">(#790)</a>: <em>Update lighthouse action version</em> by <strong><a href=\"https://github.com/choldgraf\">@choldgraf</a></strong> merged by <strong><a href=\"https://github.com/krassowski\">@krassowski</a></strong></li>\n<li><a href=\"https://github.com/jupyter/jupyter.github.io/issues/792\">(#792)</a>: <em>Update min scores for lighthouse</em> by <strong><a href=\"https://github.com/krassowski\">@krassowski</a></strong> merged by <strong><a href=\"https://github.com/choldgraf\">@choldgraf</a></strong></li>\n<li><a href=\"https://github.com/jupyter/jupyter.github.io/issues/794\">(#794)</a>: <em>Update SSC Representative for Jupyter Frontends</em> by <strong><a href=\"https://github.com/jtpio\">@jtpio</a></strong> merged by <strong><a href=\"https://github.com/krassowski\">@krassowski</a></strong></li>\n<li><a href=\"https://github.com/jupyter/jupyter.github.io/issues/795\">(#795)</a>: <em>Update the Jupyter Notebook Format workshop link</em> by <strong><a href=\"https://github.com/jasongrout\">@jasongrout</a></strong> merged by <strong><a href=\"https://github.com/Ruv7\">@Ruv7</a></strong></li>\n</ul>"
      }
     },
     "e0016b66324741c8835be1d44ecdba5f": {
      "model_module": "@jupyter-widgets/controls",
      "model_module_version": "2.0.0",
      "model_name": "HTMLModel",
      "state": {
       "_dom_classes": [],
       "_model_module": "@jupyter-widgets/controls",
       "_model_module_version": "2.0.0",
       "_model_name": "HTMLModel",
       "_view_count": null,
       "_view_module": "@jupyter-widgets/controls",
       "_view_module_version": "2.0.0",
       "_view_name": "HTMLView",
       "description": "",
       "description_allow_html": false,
       "layout": "IPY_MODEL_7a0153fefded420cba7dca38289fef3e",
       "placeholder": "​",
       "style": "IPY_MODEL_7ffa37c4e3974ee5b028423bb9bf61af",
       "tabbable": null,
       "tooltip": null,
       "value": "<h5><a href=\"https://github.com/jupyter/governance\">jupyter/governance</a></h5>\n<ul>\n<li><a href=\"https://github.com/jupyter/governance/issues/257\">(#257)</a>: <em>Use <code>@jupyter.org</code> as the Bluesky handle</em> by <strong><a href=\"https://github.com/jtpio\">@jtpio</a></strong></li>\n<li><a href=\"https://github.com/jupyter/governance/issues/184\">(#184)</a>: <em>Should this repository be renamed and <code>README.md</code> updated?</em> by <strong><a href=\"https://github.com/krassowski\">@krassowski</a></strong></li>\n<li><a href=\"https://github.com/jupyter/governance/issues/258\">(#258)</a>: <em>JMS: what is in jupyterlabworkspace.slack.com and is it maintained?</em> by <strong><a href=\"https://github.com/krassowski\">@krassowski</a></strong></li>\n<li><a href=\"https://github.com/jupyter/governance/issues/262\">(#262)</a>: <em>Give the @executive-council team permissions to change organization social media settings</em> by <strong><a href=\"https://github.com/choldgraf\">@choldgraf</a></strong></li>\n<li><a href=\"https://github.com/jupyter/governance/issues/256\">(#256)</a>: <em>Incubator Process Contains Archived Proposal Location</em> by <strong><a href=\"https://github.com/danyeaw\">@danyeaw</a></strong></li>\n</ul>"
      }
     },
     "e048e24669e64025aa13de43fb945c31": {
      "model_module": "@jupyter-widgets/base",
      "model_module_version": "2.0.0",
      "model_name": "LayoutModel",
      "state": {
       "_model_module": "@jupyter-widgets/base",
       "_model_module_version": "2.0.0",
       "_model_name": "LayoutModel",
       "_view_count": null,
       "_view_module": "@jupyter-widgets/base",
       "_view_module_version": "2.0.0",
       "_view_name": "LayoutView",
       "align_content": null,
       "align_items": null,
       "align_self": null,
       "border_bottom": null,
       "border_left": null,
       "border_right": null,
       "border_top": null,
       "bottom": null,
       "display": null,
       "flex": null,
       "flex_flow": null,
       "grid_area": null,
       "grid_auto_columns": null,
       "grid_auto_flow": null,
       "grid_auto_rows": null,
       "grid_column": null,
       "grid_gap": null,
       "grid_row": null,
       "grid_template_areas": null,
       "grid_template_columns": null,
       "grid_template_rows": null,
       "height": null,
       "justify_content": null,
       "justify_items": null,
       "left": null,
       "margin": null,
       "max_height": null,
       "max_width": null,
       "min_height": null,
       "min_width": null,
       "object_fit": null,
       "object_position": null,
       "order": null,
       "overflow": null,
       "padding": null,
       "right": null,
       "top": null,
       "visibility": null,
       "width": null
      }
     },
     "e04f35cc063b4b4f8ff1f43efa7a66bb": {
      "model_module": "@jupyter-widgets/base",
      "model_module_version": "2.0.0",
      "model_name": "LayoutModel",
      "state": {
       "_model_module": "@jupyter-widgets/base",
       "_model_module_version": "2.0.0",
       "_model_name": "LayoutModel",
       "_view_count": null,
       "_view_module": "@jupyter-widgets/base",
       "_view_module_version": "2.0.0",
       "_view_name": "LayoutView",
       "align_content": null,
       "align_items": null,
       "align_self": null,
       "border_bottom": null,
       "border_left": null,
       "border_right": null,
       "border_top": null,
       "bottom": null,
       "display": null,
       "flex": null,
       "flex_flow": null,
       "grid_area": null,
       "grid_auto_columns": null,
       "grid_auto_flow": null,
       "grid_auto_rows": null,
       "grid_column": null,
       "grid_gap": null,
       "grid_row": null,
       "grid_template_areas": null,
       "grid_template_columns": null,
       "grid_template_rows": null,
       "height": null,
       "justify_content": null,
       "justify_items": null,
       "left": null,
       "margin": null,
       "max_height": null,
       "max_width": null,
       "min_height": null,
       "min_width": null,
       "object_fit": null,
       "object_position": null,
       "order": null,
       "overflow": null,
       "padding": null,
       "right": null,
       "top": null,
       "visibility": null,
       "width": null
      }
     },
     "e427daec216943918f467deffa1a4ebb": {
      "model_module": "@jupyter-widgets/controls",
      "model_module_version": "2.0.0",
      "model_name": "HTMLModel",
      "state": {
       "_dom_classes": [],
       "_model_module": "@jupyter-widgets/controls",
       "_model_module_version": "2.0.0",
       "_model_name": "HTMLModel",
       "_view_count": null,
       "_view_module": "@jupyter-widgets/controls",
       "_view_module_version": "2.0.0",
       "_view_name": "HTMLView",
       "description": "",
       "description_allow_html": false,
       "layout": "IPY_MODEL_8ba6e2a37b714eb79041baf4eddf433c",
       "placeholder": "​",
       "style": "IPY_MODEL_a3f0a35568c9455fbb1d4719c1d034c2",
       "tabbable": null,
       "tooltip": null,
       "value": "<h4>Closed PRs for repo: <a href=\"https://github.com/jupyter/jupyter_core\">jupyter/jupyter_core</a></h4>\n<h5></h5>\n<ul>\n<li><a href=\"https://github.com/jupyter/jupyter_core/issues/411\">(#411)</a>: <em>AssertionErrors should not be manually raised.</em> by <strong><a href=\"https://github.com/Carreau\">@Carreau</a></strong> merged by <strong><a href=\"https://github.com/Carreau\">@Carreau</a></strong></li>\n<li><a href=\"https://github.com/jupyter/jupyter_core/issues/412\">(#412)</a>: <em>A bunch of pre-commit and CI upgrade.</em> by <strong><a href=\"https://github.com/Carreau\">@Carreau</a></strong> merged by <strong><a href=\"https://github.com/Carreau\">@Carreau</a></strong></li>\n<li><a href=\"https://github.com/jupyter/jupyter_core/issues/413\">(#413)</a>: <em>remove donwstream check</em> by <strong><a href=\"https://github.com/Carreau\">@Carreau</a></strong> merged by <strong><a href=\"https://github.com/Carreau\">@Carreau</a></strong></li>\n<li><a href=\"https://github.com/jupyter/jupyter_core/issues/414\">(#414)</a>: <em>Update Pyproject metadata</em> by <strong><a href=\"https://github.com/Carreau\">@Carreau</a></strong> merged by <strong><a href=\"https://github.com/Carreau\">@Carreau</a></strong></li>\n<li><a href=\"https://github.com/jupyter/jupyter_core/issues/415\">(#415)</a>: <em>chore: update pre-commit hooks</em> by <strong><a href=\"https://github.com/pre-commit-ci[bot]\">@pre-commit-ci[bot]</a></strong> merged by <strong><a href=\"https://github.com/minrk\">@minrk</a></strong></li>\n<li><a href=\"https://github.com/jupyter/jupyter_core/issues/416\">(#416)</a>: <em>update pre-commit</em> by <strong><a href=\"https://github.com/Carreau\">@Carreau</a></strong> merged by <strong><a href=\"https://github.com/minrk\">@minrk</a></strong></li>\n<li><a href=\"https://github.com/jupyter/jupyter_core/issues/417\">(#417)</a>: <em>narrow type of envset when it can't be None</em> by <strong><a href=\"https://github.com/minrk\">@minrk</a></strong> merged by <strong><a href=\"https://github.com/minrk\">@minrk</a></strong></li>\n<li><a href=\"https://github.com/jupyter/jupyter_core/issues/418\">(#418)</a>: <em>chore: hatch run run docs:api</em> by <strong><a href=\"https://github.com/minrk\">@minrk</a></strong> merged by <strong><a href=\"https://github.com/minrk\">@minrk</a></strong></li>\n<li><a href=\"https://github.com/jupyter/jupyter_core/issues/419\">(#419)</a>: <em>fix package_spec in downstream tests</em> by <strong><a href=\"https://github.com/minrk\">@minrk</a></strong> merged by <strong><a href=\"https://github.com/minrk\">@minrk</a></strong></li>\n<li><a href=\"https://github.com/jupyter/jupyter_core/issues/420\">(#420)</a>: <em>Bump actions/create-github-app-token from 1 to 2 in the actions group</em> by <strong><a href=\"https://github.com/dependabot[bot]\">@dependabot[bot]</a></strong> merged by <strong><a href=\"https://github.com/Carreau\">@Carreau</a></strong></li>\n<li><a href=\"https://github.com/jupyter/jupyter_core/issues/422\">(#422)</a>: <em>add security.md</em> by <strong><a href=\"https://github.com/Carreau\">@Carreau</a></strong> merged by <strong><a href=\"https://github.com/Carreau\">@Carreau</a></strong></li>\n</ul>"
      }
     },
     "e7d96d71542742bb858750e2750332a9": {
      "model_module": "@jupyter-widgets/base",
      "model_module_version": "2.0.0",
      "model_name": "LayoutModel",
      "state": {
       "_model_module": "@jupyter-widgets/base",
       "_model_module_version": "2.0.0",
       "_model_name": "LayoutModel",
       "_view_count": null,
       "_view_module": "@jupyter-widgets/base",
       "_view_module_version": "2.0.0",
       "_view_name": "LayoutView",
       "align_content": null,
       "align_items": null,
       "align_self": null,
       "border_bottom": null,
       "border_left": null,
       "border_right": null,
       "border_top": null,
       "bottom": null,
       "display": null,
       "flex": null,
       "flex_flow": null,
       "grid_area": null,
       "grid_auto_columns": null,
       "grid_auto_flow": null,
       "grid_auto_rows": null,
       "grid_column": null,
       "grid_gap": null,
       "grid_row": null,
       "grid_template_areas": null,
       "grid_template_columns": null,
       "grid_template_rows": null,
       "height": null,
       "justify_content": null,
       "justify_items": null,
       "left": null,
       "margin": null,
       "max_height": null,
       "max_width": null,
       "min_height": null,
       "min_width": null,
       "object_fit": null,
       "object_position": null,
       "order": null,
       "overflow": null,
       "padding": null,
       "right": null,
       "top": null,
       "visibility": null,
       "width": null
      }
     },
     "e7dae919b1794696af7e50db10b9d5da": {
      "model_module": "@jupyter-widgets/base",
      "model_module_version": "2.0.0",
      "model_name": "LayoutModel",
      "state": {
       "_model_module": "@jupyter-widgets/base",
       "_model_module_version": "2.0.0",
       "_model_name": "LayoutModel",
       "_view_count": null,
       "_view_module": "@jupyter-widgets/base",
       "_view_module_version": "2.0.0",
       "_view_name": "LayoutView",
       "align_content": null,
       "align_items": null,
       "align_self": null,
       "border_bottom": null,
       "border_left": null,
       "border_right": null,
       "border_top": null,
       "bottom": null,
       "display": null,
       "flex": null,
       "flex_flow": null,
       "grid_area": null,
       "grid_auto_columns": null,
       "grid_auto_flow": null,
       "grid_auto_rows": null,
       "grid_column": null,
       "grid_gap": null,
       "grid_row": null,
       "grid_template_areas": null,
       "grid_template_columns": null,
       "grid_template_rows": null,
       "height": null,
       "justify_content": null,
       "justify_items": null,
       "left": null,
       "margin": null,
       "max_height": null,
       "max_width": null,
       "min_height": null,
       "min_width": null,
       "object_fit": null,
       "object_position": null,
       "order": null,
       "overflow": null,
       "padding": null,
       "right": null,
       "top": null,
       "visibility": null,
       "width": null
      }
     },
     "ea5d789b79a048bfb7018bd45b279df3": {
      "model_module": "@jupyter-widgets/controls",
      "model_module_version": "2.0.0",
      "model_name": "HTMLModel",
      "state": {
       "_dom_classes": [],
       "_model_module": "@jupyter-widgets/controls",
       "_model_module_version": "2.0.0",
       "_model_name": "HTMLModel",
       "_view_count": null,
       "_view_module": "@jupyter-widgets/controls",
       "_view_module_version": "2.0.0",
       "_view_name": "HTMLView",
       "description": "",
       "description_allow_html": false,
       "layout": "IPY_MODEL_c49a13721b2b4a83a50dbf54f055f37d",
       "placeholder": "​",
       "style": "IPY_MODEL_20aac7c3afc64bff97026916138b8d8e",
       "tabbable": null,
       "tooltip": null,
       "value": "<h4>Closed PRs for repo: <a href=\"https://github.com/jupyter/docker-stacks\">jupyter/docker-stacks</a></h4>\n<h5></h5>\n<ul>\n<li><a href=\"https://github.com/jupyter/docker-stacks/issues/2192\">(#2192)</a>: <em>Try to install latest TensorFlow version using <code>mamba</code></em> by <strong><a href=\"https://github.com/mathbunnyru\">@mathbunnyru</a></strong> merged by <strong><a href=\"https://github.com/mathbunnyru\">@mathbunnyru</a></strong></li>\n<li><a href=\"https://github.com/jupyter/docker-stacks/issues/2202\">(#2202)</a>: <em>Use GitHub-hosted aarch64 runners</em> by <strong><a href=\"https://github.com/mathbunnyru\">@mathbunnyru</a></strong> merged by <strong><a href=\"https://github.com/mathbunnyru\">@mathbunnyru</a></strong></li>\n<li><a href=\"https://github.com/jupyter/docker-stacks/issues/2206\">(#2206)</a>: <em>Test server listening on IPv4/IPv6</em> by <strong><a href=\"https://github.com/manics\">@manics</a></strong> merged by <strong><a href=\"https://github.com/manics\">@manics</a></strong></li>\n<li><a href=\"https://github.com/jupyter/docker-stacks/issues/2208\">(#2208)</a>: <em>Surface PYTHON_VERSION as a Makefile variable</em> by <strong><a href=\"https://github.com/mnp\">@mnp</a></strong> merged by <strong><a href=\"https://github.com/mathbunnyru\">@mathbunnyru</a></strong></li>\n<li><a href=\"https://github.com/jupyter/docker-stacks/issues/2209\">(#2209)</a>: <em>Use ubuntu-24.04-arm runners</em> by <strong><a href=\"https://github.com/mathbunnyru\">@mathbunnyru</a></strong> merged by <strong><a href=\"https://github.com/mathbunnyru\">@mathbunnyru</a></strong></li>\n<li><a href=\"https://github.com/jupyter/docker-stacks/issues/2210\">(#2210)</a>: <em>Use ubuntu-24.04 instead of ubuntu-latest</em> by <strong><a href=\"https://github.com/mathbunnyru\">@mathbunnyru</a></strong> merged by <strong><a href=\"https://github.com/mathbunnyru\">@mathbunnyru</a></strong></li>\n<li><a href=\"https://github.com/jupyter/docker-stacks/issues/2211\">(#2211)</a>: <em>Remove information about Docker Hub images from READMEs</em> by <strong><a href=\"https://github.com/mathbunnyru\">@mathbunnyru</a></strong> merged by <strong><a href=\"https://github.com/mathbunnyru\">@mathbunnyru</a></strong></li>\n<li><a href=\"https://github.com/jupyter/docker-stacks/issues/2212\">(#2212)</a>: <em>Build contributed recipes in PRs</em> by <strong><a href=\"https://github.com/mathbunnyru\">@mathbunnyru</a></strong> merged by <strong><a href=\"https://github.com/mathbunnyru\">@mathbunnyru</a></strong></li>\n<li><a href=\"https://github.com/jupyter/docker-stacks/issues/2213\">(#2213)</a>: <em>Enable building contributed recipes in PRs</em> by <strong><a href=\"https://github.com/mathbunnyru\">@mathbunnyru</a></strong> merged by <strong><a href=\"https://github.com/mathbunnyru\">@mathbunnyru</a></strong></li>\n<li><a href=\"https://github.com/jupyter/docker-stacks/issues/2214\">(#2214)</a>: <em>First upload artifacts and then run tests to make sure we can easily …</em> by <strong><a href=\"https://github.com/mathbunnyru\">@mathbunnyru</a></strong> merged by <strong><a href=\"https://github.com/mathbunnyru\">@mathbunnyru</a></strong></li>\n<li><a href=\"https://github.com/jupyter/docker-stacks/issues/2215\">(#2215)</a>: <em>Pin some packages to fix <code>r-notebook</code> and <code>datascience-notebook</code> under aarch64</em> by <strong><a href=\"https://github.com/mathbunnyru\">@mathbunnyru</a></strong> merged by <strong><a href=\"https://github.com/mathbunnyru\">@mathbunnyru</a></strong></li>\n<li><a href=\"https://github.com/jupyter/docker-stacks/issues/2216\">(#2216)</a>: <em>Calculate platform where possible</em> by <strong><a href=\"https://github.com/mathbunnyru\">@mathbunnyru</a></strong> merged by <strong><a href=\"https://github.com/mathbunnyru\">@mathbunnyru</a></strong></li>\n<li><a href=\"https://github.com/jupyter/docker-stacks/issues/2217\">(#2217)</a>: <em>Don't use matrix.image-variant, use 2 separate variables</em> by <strong><a href=\"https://github.com/mathbunnyru\">@mathbunnyru</a></strong> merged by <strong><a href=\"https://github.com/mathbunnyru\">@mathbunnyru</a></strong></li>\n<li><a href=\"https://github.com/jupyter/docker-stacks/issues/2218\">(#2218)</a>: <em>Don't create extra free space in runners for cuda images</em> by <strong><a href=\"https://github.com/mathbunnyru\">@mathbunnyru</a></strong> merged by <strong><a href=\"https://github.com/mathbunnyru\">@mathbunnyru</a></strong></li>\n<li><a href=\"https://github.com/jupyter/docker-stacks/issues/2219\">(#2219)</a>: <em>Simplify and improve test_packages.py</em> by <strong><a href=\"https://github.com/mathbunnyru\">@mathbunnyru</a></strong> merged by <strong><a href=\"https://github.com/mathbunnyru\">@mathbunnyru</a></strong></li>\n<li><a href=\"https://github.com/jupyter/docker-stacks/issues/2220\">(#2220)</a>: <em>Revert \"Pin some packages to fix <code>r-notebook</code> and `datascience-notebo…</em> by <strong><a href=\"https://github.com/mathbunnyru\">@mathbunnyru</a></strong> merged by <strong><a href=\"https://github.com/mathbunnyru\">@mathbunnyru</a></strong></li>\n<li><a href=\"https://github.com/jupyter/docker-stacks/issues/2221\">(#2221)</a>: <em>Improve handling common parser arguments</em> by <strong><a href=\"https://github.com/mathbunnyru\">@mathbunnyru</a></strong> merged by <strong><a href=\"https://github.com/mathbunnyru\">@mathbunnyru</a></strong></li>\n<li><a href=\"https://github.com/jupyter/docker-stacks/issues/2222\">(#2222)</a>: <em>Use Python 3.12 for internal code</em> by <strong><a href=\"https://github.com/mathbunnyru\">@mathbunnyru</a></strong> merged by <strong><a href=\"https://github.com/mathbunnyru\">@mathbunnyru</a></strong></li>\n<li><a href=\"https://github.com/jupyter/docker-stacks/issues/2223\">(#2223)</a>: <em>Wrap long commands in GitHub workflows</em> by <strong><a href=\"https://github.com/mathbunnyru\">@mathbunnyru</a></strong> merged by <strong><a href=\"https://github.com/mathbunnyru\">@mathbunnyru</a></strong></li>\n<li><a href=\"https://github.com/jupyter/docker-stacks/issues/2224\">(#2224)</a>: <em>[FAST_BUILD] Check fast builds still works</em> by <strong><a href=\"https://github.com/mathbunnyru\">@mathbunnyru</a></strong> merged by <strong><a href=\"https://github.com/mathbunnyru\">@mathbunnyru</a></strong></li>\n<li><a href=\"https://github.com/jupyter/docker-stacks/issues/2225\">(#2225)</a>: <em>mkdir parents in update_wiki.py</em> by <strong><a href=\"https://github.com/fbnrst\">@fbnrst</a></strong> merged by <strong><a href=\"https://github.com/mathbunnyru\">@mathbunnyru</a></strong></li>\n<li><a href=\"https://github.com/jupyter/docker-stacks/issues/2226\">(#2226)</a>: <em>Properly generate wiki home page in forks</em> by <strong><a href=\"https://github.com/mathbunnyru\">@mathbunnyru</a></strong> merged by <strong><a href=\"https://github.com/mathbunnyru\">@mathbunnyru</a></strong></li>\n<li><a href=\"https://github.com/jupyter/docker-stacks/issues/2227\">(#2227)</a>: <em>Add timeouts to all GitHub jobs</em> by <strong><a href=\"https://github.com/mathbunnyru\">@mathbunnyru</a></strong> merged by <strong><a href=\"https://github.com/mathbunnyru\">@mathbunnyru</a></strong></li>\n<li><a href=\"https://github.com/jupyter/docker-stacks/issues/2228\">(#2228)</a>: <em>Better tagging directory structure</em> by <strong><a href=\"https://github.com/mathbunnyru\">@mathbunnyru</a></strong> merged by <strong><a href=\"https://github.com/mathbunnyru\">@mathbunnyru</a></strong></li>\n<li><a href=\"https://github.com/jupyter/docker-stacks/issues/2230\">(#2230)</a>: <em>Unify common arguments in tagging/apps</em> by <strong><a href=\"https://github.com/mathbunnyru\">@mathbunnyru</a></strong> merged by <strong><a href=\"https://github.com/mathbunnyru\">@mathbunnyru</a></strong></li>\n<li><a href=\"https://github.com/jupyter/docker-stacks/issues/2231\">(#2231)</a>: <em>Better tests directory structure</em> by <strong><a href=\"https://github.com/mathbunnyru\">@mathbunnyru</a></strong> merged by <strong><a href=\"https://github.com/mathbunnyru\">@mathbunnyru</a></strong></li>\n<li><a href=\"https://github.com/jupyter/docker-stacks/issues/2232\">(#2232)</a>: <em>Add missing dependencies to x86_64-images-tag-push job</em> by <strong><a href=\"https://github.com/mathbunnyru\">@mathbunnyru</a></strong> merged by <strong><a href=\"https://github.com/mathbunnyru\">@mathbunnyru</a></strong></li>\n<li><a href=\"https://github.com/jupyter/docker-stacks/issues/2233\">(#2233)</a>: <em>Fail if test dir doesn't exist</em> by <strong><a href=\"https://github.com/mathbunnyru\">@mathbunnyru</a></strong> merged by <strong><a href=\"https://github.com/mathbunnyru\">@mathbunnyru</a></strong></li>\n<li><a href=\"https://github.com/jupyter/docker-stacks/issues/2234\">(#2234)</a>: <em>Add tagging config to pass params easier</em> by <strong><a href=\"https://github.com/mathbunnyru\">@mathbunnyru</a></strong> merged by <strong><a href=\"https://github.com/mathbunnyru\">@mathbunnyru</a></strong></li>\n<li><a href=\"https://github.com/jupyter/docker-stacks/issues/2235\">(#2235)</a>: <em>Clarify container.remove() behaviour</em> by <strong><a href=\"https://github.com/mathbunnyru\">@mathbunnyru</a></strong> merged by <strong><a href=\"https://github.com/mathbunnyru\">@mathbunnyru</a></strong></li>\n<li><a href=\"https://github.com/jupyter/docker-stacks/issues/2237\">(#2237)</a>: <em>Remove explicit utf-8 from decode() as it's default</em> by <strong><a href=\"https://github.com/mathbunnyru\">@mathbunnyru</a></strong> merged by <strong><a href=\"https://github.com/mathbunnyru\">@mathbunnyru</a></strong></li>\n<li><a href=\"https://github.com/jupyter/docker-stacks/issues/2238\">(#2238)</a>: <em>[FAST_BUILD] Add MarkdownPiece class to make manifest pieces better structured</em> by <strong><a href=\"https://github.com/mathbunnyru\">@mathbunnyru</a></strong> merged by <strong><a href=\"https://github.com/mathbunnyru\">@mathbunnyru</a></strong></li>\n<li><a href=\"https://github.com/jupyter/docker-stacks/issues/2239\">(#2239)</a>: <em>[FAST_BUILD] Refactor tagging: create functions, better logs and names, textwrap.d…</em> by <strong><a href=\"https://github.com/mathbunnyru\">@mathbunnyru</a></strong> merged by <strong><a href=\"https://github.com/mathbunnyru\">@mathbunnyru</a></strong></li>\n<li><a href=\"https://github.com/jupyter/docker-stacks/issues/2240\">(#2240)</a>: <em>[FAST_BUILD] Use default permissions for GitHub workflows</em> by <strong><a href=\"https://github.com/mathbunnyru\">@mathbunnyru</a></strong> merged by <strong><a href=\"https://github.com/mathbunnyru\">@mathbunnyru</a></strong></li>\n<li><a href=\"https://github.com/jupyter/docker-stacks/issues/2241\">(#2241)</a>: <em>Use tabulate in wiki to create better tables</em> by <strong><a href=\"https://github.com/mathbunnyru\">@mathbunnyru</a></strong> merged by <strong><a href=\"https://github.com/mathbunnyru\">@mathbunnyru</a></strong></li>\n<li><a href=\"https://github.com/jupyter/docker-stacks/issues/2242\">(#2242)</a>: <em>[FAST_BUILD] Refactor wiki: create functions, better logs and names</em> by <strong><a href=\"https://github.com/mathbunnyru\">@mathbunnyru</a></strong> merged by <strong><a href=\"https://github.com/mathbunnyru\">@mathbunnyru</a></strong></li>\n<li><a href=\"https://github.com/jupyter/docker-stacks/issues/2243\">(#2243)</a>: <em>test: mamba and micromamba release candidates</em> by <strong><a href=\"https://github.com/jjerphan\">@jjerphan</a></strong> merged by <strong><a href=\"https://github.com/jjerphan\">@jjerphan</a></strong></li>\n<li><a href=\"https://github.com/jupyter/docker-stacks/issues/2244\">(#2244)</a>: <em>docs: Add badge for supported Python versions in <code>README.md</code></em> by <strong><a href=\"https://github.com/jjerphan\">@jjerphan</a></strong> merged by <strong><a href=\"https://github.com/mathbunnyru\">@mathbunnyru</a></strong></li>\n<li><a href=\"https://github.com/jupyter/docker-stacks/issues/2247\">(#2247)</a>: <em>Add pre-commit hooks to check shebangs</em> by <strong><a href=\"https://github.com/mathbunnyru\">@mathbunnyru</a></strong> merged by <strong><a href=\"https://github.com/mathbunnyru\">@mathbunnyru</a></strong></li>\n<li><a href=\"https://github.com/jupyter/docker-stacks/issues/2248\">(#2248)</a>: <em>[pre-commit.ci] pre-commit autoupdate</em> by <strong><a href=\"https://github.com/pre-commit-ci[bot]\">@pre-commit-ci[bot]</a></strong> merged by <strong><a href=\"https://github.com/mathbunnyru\">@mathbunnyru</a></strong></li>\n<li><a href=\"https://github.com/jupyter/docker-stacks/issues/2249\">(#2249)</a>: <em>Do not compress images in <code>actions/upload-artifact</code></em> by <strong><a href=\"https://github.com/mathbunnyru\">@mathbunnyru</a></strong> merged by <strong><a href=\"https://github.com/mathbunnyru\">@mathbunnyru</a></strong></li>\n<li><a href=\"https://github.com/jupyter/docker-stacks/issues/2251\">(#2251)</a>: <em>Add tags for mamba and conda versions</em> by <strong><a href=\"https://github.com/mathbunnyru\">@mathbunnyru</a></strong> merged by <strong><a href=\"https://github.com/mathbunnyru\">@mathbunnyru</a></strong></li>\n<li><a href=\"https://github.com/jupyter/docker-stacks/issues/2252\">(#2252)</a>: <em>Make taggers manifest functions</em> by <strong><a href=\"https://github.com/mathbunnyru\">@mathbunnyru</a></strong> merged by <strong><a href=\"https://github.com/mathbunnyru\">@mathbunnyru</a></strong></li>\n<li><a href=\"https://github.com/jupyter/docker-stacks/issues/2253\">(#2253)</a>: <em>Allow mamba ssl ca store to be set</em> by <strong><a href=\"https://github.com/jabbera\">@jabbera</a></strong> merged by <strong><a href=\"https://github.com/mathbunnyru\">@mathbunnyru</a></strong></li>\n<li><a href=\"https://github.com/jupyter/docker-stacks/issues/2254\">(#2254)</a>: <em>Refactor healthcheck tests to use one function</em> by <strong><a href=\"https://github.com/mathbunnyru\">@mathbunnyru</a></strong> merged by <strong><a href=\"https://github.com/mathbunnyru\">@mathbunnyru</a></strong></li>\n<li><a href=\"https://github.com/jupyter/docker-stacks/issues/2255\">(#2255)</a>: <em>Test server listening on IPv4/IPv6</em> by <strong><a href=\"https://github.com/mathbunnyru\">@mathbunnyru</a></strong> merged by <strong><a href=\"https://github.com/mathbunnyru\">@mathbunnyru</a></strong></li>\n<li><a href=\"https://github.com/jupyter/docker-stacks/issues/2256\">(#2256)</a>: <em>Refactor TrackedContainer run_detached/exec_cmd functions</em> by <strong><a href=\"https://github.com/mathbunnyru\">@mathbunnyru</a></strong> merged by <strong><a href=\"https://github.com/mathbunnyru\">@mathbunnyru</a></strong></li>\n<li><a href=\"https://github.com/jupyter/docker-stacks/issues/2257\">(#2257)</a>: <em>Do not allocate TTY in tests if not needed</em> by <strong><a href=\"https://github.com/mathbunnyru\">@mathbunnyru</a></strong> merged by <strong><a href=\"https://github.com/mathbunnyru\">@mathbunnyru</a></strong></li>\n<li><a href=\"https://github.com/jupyter/docker-stacks/issues/2258\">(#2258)</a>: <em>Flush output in Python before running execvp</em> by <strong><a href=\"https://github.com/mathbunnyru\">@mathbunnyru</a></strong> merged by <strong><a href=\"https://github.com/mathbunnyru\">@mathbunnyru</a></strong></li>\n<li><a href=\"https://github.com/jupyter/docker-stacks/issues/2259\">(#2259)</a>: <em>Create docker-publish.yml</em> by <strong><a href=\"https://github.com/BoomchainLabs\">@BoomchainLabs</a></strong> merged by <strong><a href=\"https://github.com/mathbunnyru\">@mathbunnyru</a></strong></li>\n<li><a href=\"https://github.com/jupyter/docker-stacks/issues/2260\">(#2260)</a>: <em>Use tty for running docker commands by default</em> by <strong><a href=\"https://github.com/mathbunnyru\">@mathbunnyru</a></strong> merged by <strong><a href=\"https://github.com/mathbunnyru\">@mathbunnyru</a></strong></li>\n<li><a href=\"https://github.com/jupyter/docker-stacks/issues/2261\">(#2261)</a>: <em>Improve logs around running docker</em> by <strong><a href=\"https://github.com/mathbunnyru\">@mathbunnyru</a></strong> merged by <strong><a href=\"https://github.com/mathbunnyru\">@mathbunnyru</a></strong></li>\n<li><a href=\"https://github.com/jupyter/docker-stacks/issues/2262\">(#2262)</a>: <em>Use mamba to install jupyter-server-proxy</em> by <strong><a href=\"https://github.com/mathbunnyru\">@mathbunnyru</a></strong> merged by <strong><a href=\"https://github.com/mathbunnyru\">@mathbunnyru</a></strong></li>\n<li><a href=\"https://github.com/jupyter/docker-stacks/issues/2263\">(#2263)</a>: <em>Install latest tensorflow using pip</em> by <strong><a href=\"https://github.com/mathbunnyru\">@mathbunnyru</a></strong> merged by <strong><a href=\"https://github.com/mathbunnyru\">@mathbunnyru</a></strong></li>\n<li><a href=\"https://github.com/jupyter/docker-stacks/issues/2264\">(#2264)</a>: <em>Bump docker/login-action from 3.3.0 to 3.4.0</em> by <strong><a href=\"https://github.com/dependabot[bot]\">@dependabot[bot]</a></strong> merged by <strong><a href=\"https://github.com/mathbunnyru\">@mathbunnyru</a></strong></li>\n<li><a href=\"https://github.com/jupyter/docker-stacks/issues/2265\">(#2265)</a>: <em>Reduce indirection when running docker commands</em> by <strong><a href=\"https://github.com/mathbunnyru\">@mathbunnyru</a></strong> merged by <strong><a href=\"https://github.com/mathbunnyru\">@mathbunnyru</a></strong></li>\n<li><a href=\"https://github.com/jupyter/docker-stacks/issues/2266\">(#2266)</a>: <em>Add check_nbconvert function and run tests for appropriate images</em> by <strong><a href=\"https://github.com/mathbunnyru\">@mathbunnyru</a></strong> merged by <strong><a href=\"https://github.com/mathbunnyru\">@mathbunnyru</a></strong></li>\n<li><a href=\"https://github.com/jupyter/docker-stacks/issues/2267\">(#2267)</a>: <em>Make free_host_port a fixture</em> by <strong><a href=\"https://github.com/mathbunnyru\">@mathbunnyru</a></strong> merged by <strong><a href=\"https://github.com/mathbunnyru\">@mathbunnyru</a></strong></li>\n<li><a href=\"https://github.com/jupyter/docker-stacks/issues/2268\">(#2268)</a>: <em>Try to unmark tests as flaky</em> by <strong><a href=\"https://github.com/mathbunnyru\">@mathbunnyru</a></strong> merged by <strong><a href=\"https://github.com/mathbunnyru\">@mathbunnyru</a></strong></li>\n<li><a href=\"https://github.com/jupyter/docker-stacks/issues/2269\">(#2269)</a>: <em>Cleanup EXCLUDED_PACKAGES list</em> by <strong><a href=\"https://github.com/mathbunnyru\">@mathbunnyru</a></strong> merged by <strong><a href=\"https://github.com/mathbunnyru\">@mathbunnyru</a></strong></li>\n<li><a href=\"https://github.com/jupyter/docker-stacks/issues/2270\">(#2270)</a>: <em>Robust registry operations: adjust timelimit and use retries</em> by <strong><a href=\"https://github.com/mathbunnyru\">@mathbunnyru</a></strong> merged by <strong><a href=\"https://github.com/mathbunnyru\">@mathbunnyru</a></strong></li>\n<li><a href=\"https://github.com/jupyter/docker-stacks/issues/2271\">(#2271)</a>: <em>Do not reset docker state</em> by <strong><a href=\"https://github.com/mathbunnyru\">@mathbunnyru</a></strong> merged by <strong><a href=\"https://github.com/mathbunnyru\">@mathbunnyru</a></strong></li>\n<li><a href=\"https://github.com/jupyter/docker-stacks/issues/2272\">(#2272)</a>: <em>Unify multiline run statements in GitHub Actions steps</em> by <strong><a href=\"https://github.com/mathbunnyru\">@mathbunnyru</a></strong> merged by <strong><a href=\"https://github.com/mathbunnyru\">@mathbunnyru</a></strong></li>\n<li><a href=\"https://github.com/jupyter/docker-stacks/issues/2273\">(#2273)</a>: <em>Only create manifests when images are pushed to registry</em> by <strong><a href=\"https://github.com/mathbunnyru\">@mathbunnyru</a></strong> merged by <strong><a href=\"https://github.com/mathbunnyru\">@mathbunnyru</a></strong></li>\n<li><a href=\"https://github.com/jupyter/docker-stacks/issues/2274\">(#2274)</a>: <em>[FAST_BUILD] Apply and merge tags in the same place</em> by <strong><a href=\"https://github.com/mathbunnyru\">@mathbunnyru</a></strong> merged by <strong><a href=\"https://github.com/mathbunnyru\">@mathbunnyru</a></strong></li>\n<li><a href=\"https://github.com/jupyter/docker-stacks/issues/2276\">(#2276)</a>: <em>Update custom recipes versions</em> by <strong><a href=\"https://github.com/mathbunnyru\">@mathbunnyru</a></strong> merged by <strong><a href=\"https://github.com/mathbunnyru\">@mathbunnyru</a></strong></li>\n<li><a href=\"https://github.com/jupyter/docker-stacks/issues/2277\">(#2277)</a>: <em>Force using keyword-only arguments where types are the same</em> by <strong><a href=\"https://github.com/mathbunnyru\">@mathbunnyru</a></strong> merged by <strong><a href=\"https://github.com/mathbunnyru\">@mathbunnyru</a></strong></li>\n<li><a href=\"https://github.com/jupyter/docker-stacks/issues/2278\">(#2278)</a>: <em>Improve some tests</em> by <strong><a href=\"https://github.com/mathbunnyru\">@mathbunnyru</a></strong> merged by <strong><a href=\"https://github.com/mathbunnyru\">@mathbunnyru</a></strong></li>\n<li><a href=\"https://github.com/jupyter/docker-stacks/issues/2279\">(#2279)</a>: <em>Use pytest-rerunfailures for flaky tests</em> by <strong><a href=\"https://github.com/mathbunnyru\">@mathbunnyru</a></strong> merged by <strong><a href=\"https://github.com/mathbunnyru\">@mathbunnyru</a></strong></li>\n<li><a href=\"https://github.com/jupyter/docker-stacks/issues/2280\">(#2280)</a>: <em>[pre-commit.ci] pre-commit autoupdate</em> by <strong><a href=\"https://github.com/pre-commit-ci[bot]\">@pre-commit-ci[bot]</a></strong> merged by <strong><a href=\"https://github.com/mathbunnyru\">@mathbunnyru</a></strong></li>\n<li><a href=\"https://github.com/jupyter/docker-stacks/issues/2282\">(#2282)</a>: <em>Make docker tag-push depend on contributed recipes in CI</em> by <strong><a href=\"https://github.com/mathbunnyru\">@mathbunnyru</a></strong> merged by <strong><a href=\"https://github.com/mathbunnyru\">@mathbunnyru</a></strong></li>\n<li><a href=\"https://github.com/jupyter/docker-stacks/issues/2283\">(#2283)</a>: <em>Pin libxml2 to avoid ABI breakage</em> by <strong><a href=\"https://github.com/mathbunnyru\">@mathbunnyru</a></strong> merged by <strong><a href=\"https://github.com/mathbunnyru\">@mathbunnyru</a></strong></li>\n<li><a href=\"https://github.com/jupyter/docker-stacks/issues/2284\">(#2284)</a>: <em>Use proper BASE_IMAGE in contributed recipes for forks</em> by <strong><a href=\"https://github.com/mathbunnyru\">@mathbunnyru</a></strong> merged by <strong><a href=\"https://github.com/mathbunnyru\">@mathbunnyru</a></strong></li>\n<li><a href=\"https://github.com/jupyter/docker-stacks/issues/2285\">(#2285)</a>: <em>Use tenacity.retry for merge_tags</em> by <strong><a href=\"https://github.com/mathbunnyru\">@mathbunnyru</a></strong> merged by <strong><a href=\"https://github.com/mathbunnyru\">@mathbunnyru</a></strong></li>\n<li><a href=\"https://github.com/jupyter/docker-stacks/issues/2286\">(#2286)</a>: <em>Retry login operation in docker-tag-push.yml</em> by <strong><a href=\"https://github.com/mathbunnyru\">@mathbunnyru</a></strong> merged by <strong><a href=\"https://github.com/mathbunnyru\">@mathbunnyru</a></strong></li>\n<li><a href=\"https://github.com/jupyter/docker-stacks/issues/2287\">(#2287)</a>: <em>Bump stefanzweifel/git-auto-commit-action from 5.1.0 to 5.2.0</em> by <strong><a href=\"https://github.com/dependabot[bot]\">@dependabot[bot]</a></strong> merged by <strong><a href=\"https://github.com/mathbunnyru\">@mathbunnyru</a></strong></li>\n<li><a href=\"https://github.com/jupyter/docker-stacks/issues/2288\">(#2288)</a>: <em>Upgrade CUDA version used in PyTorch cuda12-variant to 12.8</em> by <strong><a href=\"https://github.com/twalcari\">@twalcari</a></strong> merged by <strong><a href=\"https://github.com/mathbunnyru\">@mathbunnyru</a></strong></li>\n<li><a href=\"https://github.com/jupyter/docker-stacks/issues/2289\">(#2289)</a>: <em>Freeze pre-commit hooks</em> by <strong><a href=\"https://github.com/mathbunnyru\">@mathbunnyru</a></strong> merged by <strong><a href=\"https://github.com/mathbunnyru\">@mathbunnyru</a></strong></li>\n<li><a href=\"https://github.com/jupyter/docker-stacks/issues/2290\">(#2290)</a>: <em>Improve pytorch unit test</em> by <strong><a href=\"https://github.com/mathbunnyru\">@mathbunnyru</a></strong> merged by <strong><a href=\"https://github.com/mathbunnyru\">@mathbunnyru</a></strong></li>\n<li><a href=\"https://github.com/jupyter/docker-stacks/issues/2291\">(#2291)</a>: <em>Upgrade CUDA version used in PyTorch cuda12-variant to 12.6</em> by <strong><a href=\"https://github.com/mathbunnyru\">@mathbunnyru</a></strong> merged by <strong><a href=\"https://github.com/mathbunnyru\">@mathbunnyru</a></strong></li>\n<li><a href=\"https://github.com/jupyter/docker-stacks/issues/2293\">(#2293)</a>: <em>log hook messages to stderr</em> by <strong><a href=\"https://github.com/minrk\">@minrk</a></strong> merged by <strong><a href=\"https://github.com/mathbunnyru\">@mathbunnyru</a></strong></li>\n<li><a href=\"https://github.com/jupyter/docker-stacks/issues/2294\">(#2294)</a>: <em>[pre-commit.ci] pre-commit autoupdate</em> by <strong><a href=\"https://github.com/pre-commit-ci[bot]\">@pre-commit-ci[bot]</a></strong> merged by <strong><a href=\"https://github.com/mathbunnyru\">@mathbunnyru</a></strong></li>\n</ul>"
      }
     },
     "ec3e1522a3c240f9b7c1f44a7fb1fb73": {
      "model_module": "@jupyter-widgets/controls",
      "model_module_version": "2.0.0",
      "model_name": "HTMLModel",
      "state": {
       "_dom_classes": [],
       "_model_module": "@jupyter-widgets/controls",
       "_model_module_version": "2.0.0",
       "_model_name": "HTMLModel",
       "_view_count": null,
       "_view_module": "@jupyter-widgets/controls",
       "_view_module_version": "2.0.0",
       "_view_name": "HTMLView",
       "description": "",
       "description_allow_html": false,
       "layout": "IPY_MODEL_3ebf6fd9f13f49fa896b73d221a346cc",
       "placeholder": "​",
       "style": "IPY_MODEL_aaf3bfb0482c49e78616be72c67427b1",
       "tabbable": null,
       "tooltip": null,
       "value": "<h4>Closed PRs for repo: <a href=\"https://github.com/jupyter/governance\">jupyter/governance</a></h4>\n<h5></h5>\n<ul>\n<li><a href=\"https://github.com/jupyter/governance/issues/249\">(#249)</a>: <em>Update process-votes.py to handle updates to Google form</em> by <strong><a href=\"https://github.com/jasongrout\">@jasongrout</a></strong> merged by <strong><a href=\"https://github.com/choldgraf\">@choldgraf</a></strong></li>\n<li><a href=\"https://github.com/jupyter/governance/issues/252\">(#252)</a>: <em>Clarify various aspects of EC elections and the Union of Councils.</em> by <strong><a href=\"https://github.com/jasongrout\">@jasongrout</a></strong> merged by <strong><a href=\"https://github.com/choldgraf\">@choldgraf</a></strong></li>\n<li><a href=\"https://github.com/jupyter/governance/issues/259\">(#259)</a>: <em>Update JMS membership</em> by <strong><a href=\"https://github.com/SylvainCorlay\">@SylvainCorlay</a></strong> merged by <strong><a href=\"https://github.com/SylvainCorlay\">@SylvainCorlay</a></strong></li>\n<li><a href=\"https://github.com/jupyter/governance/issues/261\">(#261)</a>: <em>Former members of JMS</em> by <strong><a href=\"https://github.com/SylvainCorlay\">@SylvainCorlay</a></strong> merged by <strong><a href=\"https://github.com/choldgraf\">@choldgraf</a></strong></li>\n<li><a href=\"https://github.com/jupyter/governance/issues/265\">(#265)</a>: <em>Update config and add some links</em> by <strong><a href=\"https://github.com/choldgraf\">@choldgraf</a></strong> merged by <strong><a href=\"https://github.com/choldgraf\">@choldgraf</a></strong></li>\n<li><a href=\"https://github.com/jupyter/governance/issues/266\">(#266)</a>: <em>Update links to use folders rather than <code>.html</code></em> by <strong><a href=\"https://github.com/choldgraf\">@choldgraf</a></strong> merged by <strong><a href=\"https://github.com/choldgraf\">@choldgraf</a></strong></li>\n<li><a href=\"https://github.com/jupyter/governance/issues/268\">(#268)</a>: <em>Add Rus and Yaniv's Github names to the GB list</em> by <strong><a href=\"https://github.com/sagelywizard\">@sagelywizard</a></strong> merged by <strong><a href=\"https://github.com/choldgraf\">@choldgraf</a></strong></li>\n<li><a href=\"https://github.com/jupyter/governance/issues/269\">(#269)</a>: <em>Enable edit button for governance repo</em> by <strong><a href=\"https://github.com/choldgraf\">@choldgraf</a></strong> merged by <strong><a href=\"https://github.com/choldgraf\">@choldgraf</a></strong></li>\n<li><a href=\"https://github.com/jupyter/governance/issues/270\">(#270)</a>: <em>Update snowflake representative</em> by <strong><a href=\"https://github.com/choldgraf\">@choldgraf</a></strong> merged by <strong><a href=\"https://github.com/choldgraf\">@choldgraf</a></strong></li>\n<li><a href=\"https://github.com/jupyter/governance/issues/271\">(#271)</a>: <em>Add a link to the board's team compass</em> by <strong><a href=\"https://github.com/choldgraf\">@choldgraf</a></strong> merged by <strong><a href=\"https://github.com/Zsailer\">@Zsailer</a></strong></li>\n<li><a href=\"https://github.com/jupyter/governance/issues/272\">(#272)</a>: <em>Add to governance that packages must be under the Jupyter PyPi Organisation</em> by <strong><a href=\"https://github.com/Carreau\">@Carreau</a></strong> merged by <strong><a href=\"https://github.com/jasongrout\">@jasongrout</a></strong></li>\n<li><a href=\"https://github.com/jupyter/governance/issues/273\">(#273)</a>: <em>Update SSC Representative for Jupyter Frontends</em> by <strong><a href=\"https://github.com/jtpio\">@jtpio</a></strong> merged by <strong><a href=\"https://github.com/krassowski\">@krassowski</a></strong></li>\n<li><a href=\"https://github.com/jupyter/governance/issues/274\">(#274)</a>: <em>Add link to team compass for documentation working group</em> by <strong><a href=\"https://github.com/choldgraf\">@choldgraf</a></strong> merged by <strong><a href=\"https://github.com/jasongrout\">@jasongrout</a></strong></li>\n<li><a href=\"https://github.com/jupyter/governance/issues/276\">(#276)</a>: <em>Remove qtconsole: moved to spyder org</em> by <strong><a href=\"https://github.com/Carreau\">@Carreau</a></strong> merged by <strong><a href=\"https://github.com/choldgraf\">@choldgraf</a></strong></li>\n</ul>"
      }
     },
     "ed4db141d6ed4f91960580150367b528": {
      "model_module": "@jupyter-widgets/controls",
      "model_module_version": "2.0.0",
      "model_name": "HTMLModel",
      "state": {
       "_dom_classes": [],
       "_model_module": "@jupyter-widgets/controls",
       "_model_module_version": "2.0.0",
       "_model_name": "HTMLModel",
       "_view_count": null,
       "_view_module": "@jupyter-widgets/controls",
       "_view_module_version": "2.0.0",
       "_view_name": "HTMLView",
       "description": "",
       "description_allow_html": false,
       "layout": "IPY_MODEL_d930e2aaa5bd409e910ec0d3f6261e85",
       "placeholder": "​",
       "style": "IPY_MODEL_01917b07edbd4351bc3df8f6a962b2fa",
       "tabbable": null,
       "tooltip": null,
       "value": "<h5><a href=\"https://github.com/jupyter/docker-stacks\">jupyter/docker-stacks</a></h5>\n<ul>\n<li><a href=\"https://github.com/jupyter/docker-stacks/issues/2229\">(#2229)</a>: <em>Add PyJulia package in julia-notebook and datascience-notebook</em> by <strong><a href=\"https://github.com/i0ntempest\">@i0ntempest</a></strong></li>\n<li><a href=\"https://github.com/jupyter/docker-stacks/issues/2275\">(#2275)</a>: <em>Excessive DNS Queries in JupyterHub Docker Container After Upgrade</em> by <strong><a href=\"https://github.com/cameronj86\">@cameronj86</a></strong></li>\n<li><a href=\"https://github.com/jupyter/docker-stacks/issues/2292\">(#2292)</a>: <em>Support a workflow for extending the base environment in a reproducible fashion</em> by <strong><a href=\"https://github.com/ctcjab\">@ctcjab</a></strong></li>\n<li><a href=\"https://github.com/jupyter/docker-stacks/issues/2250\">(#2250)</a>: <em>i can't use url+token to visit lab page</em> by <strong><a href=\"https://github.com/QuincyWuzefeng\">@QuincyWuzefeng</a></strong></li>\n<li><a href=\"https://github.com/jupyter/docker-stacks/issues/2245\">(#2245)</a>: <em>Mounting path /home/jovyan</em> by <strong><a href=\"https://github.com/jankogasic\">@jankogasic</a></strong></li>\n</ul>"
      }
     },
     "f1b889cca7694956bfb55b884f955825": {
      "model_module": "@jupyter-widgets/controls",
      "model_module_version": "2.0.0",
      "model_name": "HTMLStyleModel",
      "state": {
       "_model_module": "@jupyter-widgets/controls",
       "_model_module_version": "2.0.0",
       "_model_name": "HTMLStyleModel",
       "_view_count": null,
       "_view_module": "@jupyter-widgets/base",
       "_view_module_version": "2.0.0",
       "_view_name": "StyleView",
       "background": null,
       "description_width": "",
       "font_size": null,
       "text_color": null
      }
     },
     "f2d6998f85b642da8bbac8e19739619a": {
      "model_module": "@jupyter-widgets/controls",
      "model_module_version": "2.0.0",
      "model_name": "HTMLModel",
      "state": {
       "_dom_classes": [],
       "_model_module": "@jupyter-widgets/controls",
       "_model_module_version": "2.0.0",
       "_model_name": "HTMLModel",
       "_view_count": null,
       "_view_module": "@jupyter-widgets/controls",
       "_view_module_version": "2.0.0",
       "_view_name": "HTMLView",
       "description": "",
       "description_allow_html": false,
       "layout": "IPY_MODEL_ce1b787183fd42e4812e78aca809addc",
       "placeholder": "​",
       "style": "IPY_MODEL_272e4ba4e52c4fc0886e7e94d22200c3",
       "tabbable": null,
       "tooltip": null,
       "value": "<h5><a href=\"https://github.com/jupyter/nbviewer\">jupyter/nbviewer</a></h5>\n<ul>\n<li><a href=\"https://github.com/jupyter/nbviewer/issues/600\">(#600)</a>: <em>Can't visit 'localhost:8080' after running in a docker</em> by <strong><a href=\"https://github.com/taoluo\">@taoluo</a></strong></li>\n<li><a href=\"https://github.com/jupyter/nbviewer/issues/856\">(#856)</a>: <em>GitHub Rate Limit</em> by <strong><a href=\"https://github.com/jakirkham\">@jakirkham</a></strong></li>\n<li><a href=\"https://github.com/jupyter/nbviewer/issues/914\">(#914)</a>: <em>nbviewer does not flush cache</em> by <strong><a href=\"https://github.com/shinokada\">@shinokada</a></strong></li>\n<li><a href=\"https://github.com/jupyter/nbviewer/issues/1064\">(#1064)</a>: <em>404: Not Found Error</em> by <strong><a href=\"https://github.com/jonilynn02\">@jonilynn02</a></strong></li>\n</ul>"
      }
     },
     "f5140e1f1a26464b8f595274ce1155ee": {
      "model_module": "@jupyter-widgets/base",
      "model_module_version": "2.0.0",
      "model_name": "LayoutModel",
      "state": {
       "_model_module": "@jupyter-widgets/base",
       "_model_module_version": "2.0.0",
       "_model_name": "LayoutModel",
       "_view_count": null,
       "_view_module": "@jupyter-widgets/base",
       "_view_module_version": "2.0.0",
       "_view_name": "LayoutView",
       "align_content": null,
       "align_items": null,
       "align_self": null,
       "border_bottom": null,
       "border_left": null,
       "border_right": null,
       "border_top": null,
       "bottom": null,
       "display": null,
       "flex": null,
       "flex_flow": null,
       "grid_area": null,
       "grid_auto_columns": null,
       "grid_auto_flow": null,
       "grid_auto_rows": null,
       "grid_column": null,
       "grid_gap": null,
       "grid_row": null,
       "grid_template_areas": null,
       "grid_template_columns": null,
       "grid_template_rows": null,
       "height": null,
       "justify_content": null,
       "justify_items": null,
       "left": null,
       "margin": null,
       "max_height": null,
       "max_width": null,
       "min_height": null,
       "min_width": null,
       "object_fit": null,
       "object_position": null,
       "order": null,
       "overflow": null,
       "padding": null,
       "right": null,
       "top": null,
       "visibility": null,
       "width": null
      }
     },
     "f6ab7a70438d43b8a851d0b0ecc82b8a": {
      "model_module": "@jupyter-widgets/base",
      "model_module_version": "2.0.0",
      "model_name": "LayoutModel",
      "state": {
       "_model_module": "@jupyter-widgets/base",
       "_model_module_version": "2.0.0",
       "_model_name": "LayoutModel",
       "_view_count": null,
       "_view_module": "@jupyter-widgets/base",
       "_view_module_version": "2.0.0",
       "_view_name": "LayoutView",
       "align_content": null,
       "align_items": null,
       "align_self": null,
       "border_bottom": null,
       "border_left": null,
       "border_right": null,
       "border_top": null,
       "bottom": null,
       "display": null,
       "flex": null,
       "flex_flow": null,
       "grid_area": null,
       "grid_auto_columns": null,
       "grid_auto_flow": null,
       "grid_auto_rows": null,
       "grid_column": null,
       "grid_gap": null,
       "grid_row": null,
       "grid_template_areas": null,
       "grid_template_columns": null,
       "grid_template_rows": null,
       "height": null,
       "justify_content": null,
       "justify_items": null,
       "left": null,
       "margin": null,
       "max_height": null,
       "max_width": null,
       "min_height": null,
       "min_width": null,
       "object_fit": null,
       "object_position": null,
       "order": null,
       "overflow": null,
       "padding": null,
       "right": null,
       "top": null,
       "visibility": null,
       "width": null
      }
     },
     "f8ba82686754407b971f5fab2ace7239": {
      "model_module": "@jupyter-widgets/controls",
      "model_module_version": "2.0.0",
      "model_name": "HTMLStyleModel",
      "state": {
       "_model_module": "@jupyter-widgets/controls",
       "_model_module_version": "2.0.0",
       "_model_name": "HTMLStyleModel",
       "_view_count": null,
       "_view_module": "@jupyter-widgets/base",
       "_view_module_version": "2.0.0",
       "_view_name": "StyleView",
       "background": null,
       "description_width": "",
       "font_size": null,
       "text_color": null
      }
     },
     "fb8c26980172453983ba2f00beaa3dd8": {
      "model_module": "@jupyter-widgets/base",
      "model_module_version": "2.0.0",
      "model_name": "LayoutModel",
      "state": {
       "_model_module": "@jupyter-widgets/base",
       "_model_module_version": "2.0.0",
       "_model_name": "LayoutModel",
       "_view_count": null,
       "_view_module": "@jupyter-widgets/base",
       "_view_module_version": "2.0.0",
       "_view_name": "LayoutView",
       "align_content": null,
       "align_items": null,
       "align_self": null,
       "border_bottom": null,
       "border_left": null,
       "border_right": null,
       "border_top": null,
       "bottom": null,
       "display": null,
       "flex": null,
       "flex_flow": null,
       "grid_area": null,
       "grid_auto_columns": null,
       "grid_auto_flow": null,
       "grid_auto_rows": null,
       "grid_column": null,
       "grid_gap": null,
       "grid_row": null,
       "grid_template_areas": null,
       "grid_template_columns": null,
       "grid_template_rows": null,
       "height": null,
       "justify_content": null,
       "justify_items": null,
       "left": null,
       "margin": null,
       "max_height": null,
       "max_width": null,
       "min_height": null,
       "min_width": null,
       "object_fit": null,
       "object_position": null,
       "order": null,
       "overflow": null,
       "padding": null,
       "right": null,
       "top": null,
       "visibility": null,
       "width": null
      }
     },
     "fc2b4ecd513f4d47bb2e75130502cda8": {
      "model_module": "@jupyter-widgets/controls",
      "model_module_version": "2.0.0",
      "model_name": "HTMLModel",
      "state": {
       "_dom_classes": [],
       "_model_module": "@jupyter-widgets/controls",
       "_model_module_version": "2.0.0",
       "_model_name": "HTMLModel",
       "_view_count": null,
       "_view_module": "@jupyter-widgets/controls",
       "_view_module_version": "2.0.0",
       "_view_name": "HTMLView",
       "description": "",
       "description_allow_html": false,
       "layout": "IPY_MODEL_f6ab7a70438d43b8a851d0b0ecc82b8a",
       "placeholder": "​",
       "style": "IPY_MODEL_413e49039e534b5688254cb603b4489b",
       "tabbable": null,
       "tooltip": null,
       "value": "<h5><a href=\"https://github.com/jupyter/jupyter\">jupyter/jupyter</a></h5>\n<ul>\n<li><a href=\"https://github.com/jupyter/jupyter/issues/761\">(#761)</a>: <em>Let's discuss recent force-pushes</em> by <strong><a href=\"https://github.com/ivanov\">@ivanov</a></strong></li>\n<li><a href=\"https://github.com/jupyter/jupyter/issues/490\">(#490)</a>: <em>Programmatically detect whether the inline backend is available</em> by <strong><a href=\"https://github.com/lukelbd\">@lukelbd</a></strong></li>\n<li><a href=\"https://github.com/jupyter/jupyter/issues/505\">(#505)</a>: <em>Fix \"-m jupyter [console|notebook|...]\" so that it works on Windows</em> by <strong><a href=\"https://github.com/ksamuel\">@ksamuel</a></strong></li>\n<li><a href=\"https://github.com/jupyter/jupyter/issues/715\">(#715)</a>: <em>Broken Urls For Server API Schema</em> by <strong><a href=\"https://github.com/guomanmin\">@guomanmin</a></strong></li>\n<li><a href=\"https://github.com/jupyter/jupyter/issues/755\">(#755)</a>: <em>No minimum Python version specified; Python 3.10 and above supported?</em> by <strong><a href=\"https://github.com/andy-maier\">@andy-maier</a></strong></li>\n</ul>"
      }
     },
     "fcad15b3e4e34b949f5566b4b5d17490": {
      "model_module": "@jupyter-widgets/controls",
      "model_module_version": "2.0.0",
      "model_name": "HTMLModel",
      "state": {
       "_dom_classes": [],
       "_model_module": "@jupyter-widgets/controls",
       "_model_module_version": "2.0.0",
       "_model_name": "HTMLModel",
       "_view_count": null,
       "_view_module": "@jupyter-widgets/controls",
       "_view_module_version": "2.0.0",
       "_view_name": "HTMLView",
       "description": "",
       "description_allow_html": false,
       "layout": "IPY_MODEL_89a760dc657e46ca8029f3be43c70ca1",
       "placeholder": "​",
       "style": "IPY_MODEL_7f8236545c754755be6118bcf823961e",
       "tabbable": null,
       "tooltip": null,
       "value": "<h5><a href=\"https://github.com/jupyter/jupyter_client\">jupyter/jupyter_client</a></h5>\n<ul>\n<li><a href=\"https://github.com/jupyter/jupyter_client/issues/1055\">(#1055)</a>: <em>enhancement to help kernel provisioners introspect notebooks for their dependencies</em> by <strong><a href=\"https://github.com/itcarroll\">@itcarroll</a></strong></li>\n<li><a href=\"https://github.com/jupyter/jupyter_client/issues/1026\">(#1026)</a>: <em>Exception raised in KernelClient.del when shutting down kernel after executing code using kc.execute_interactive()</em> by <strong><a href=\"https://github.com/vivekvedant\">@vivekvedant</a></strong></li>\n<li><a href=\"https://github.com/jupyter/jupyter_client/issues/1053\">(#1053)</a>: <em>coroutine 'KernelManager._async_start_kernel' was never awaited</em> by <strong><a href=\"https://github.com/benjamincburns\">@benjamincburns</a></strong></li>\n</ul>"
      }
     }
    },
    "version_major": 2,
    "version_minor": 0
   }
  }
 },
 "nbformat": 4,
 "nbformat_minor": 5
}