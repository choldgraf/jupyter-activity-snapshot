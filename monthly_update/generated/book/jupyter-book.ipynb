{
 "cells": [
  {
   "cell_type": "markdown",
   "id": "0b720678",
   "metadata": {
    "papermill": {
     "duration": 0.056891,
     "end_time": "2025-05-12T16:08:52.834447",
     "exception": false,
     "start_time": "2025-05-12T16:08:52.777556",
     "status": "completed"
    },
    "tags": []
   },
   "source": [
    "# {glue:text}`jupyter-book_github_org`\n",
    "\n",
    "**Activity from {glue:}`jupyter-book_start` to {glue:}`jupyter-book_stop`**"
   ]
  },
  {
   "cell_type": "code",
   "execution_count": 1,
   "id": "fab8c973",
   "metadata": {
    "editable": true,
    "execution": {
     "iopub.execute_input": "2025-05-12T16:08:52.852582Z",
     "iopub.status.busy": "2025-05-12T16:08:52.852412Z",
     "iopub.status.idle": "2025-05-12T16:08:53.503313Z",
     "shell.execute_reply": "2025-05-12T16:08:53.503051Z"
    },
    "papermill": {
     "duration": 0.660597,
     "end_time": "2025-05-12T16:08:53.504184",
     "exception": false,
     "start_time": "2025-05-12T16:08:52.843587",
     "status": "completed"
    },
    "slideshow": {
     "slide_type": ""
    },
    "tags": [
     "remove_cell"
    ]
   },
   "outputs": [],
   "source": [
    "from datetime import date\n",
    "from dateutil.relativedelta import relativedelta\n",
    "from myst_nb import glue\n",
    "import seaborn as sns\n",
    "import pandas as pd\n",
    "import numpy as np\n",
    "import altair as alt\n",
    "from markdown import markdown\n",
    "from IPython.display import Markdown\n",
    "from ipywidgets.widgets import HTML, Tab\n",
    "from ipywidgets import widgets\n",
    "from datetime import timedelta\n",
    "from matplotlib import pyplot as plt\n",
    "import os.path as op\n",
    "from json import loads\n",
    "\n",
    "from warnings import simplefilter\n",
    "simplefilter('ignore')\n",
    "pd.set_option('display.max_columns', None) # 'None' means show all"
   ]
  },
  {
   "cell_type": "code",
   "execution_count": 2,
   "id": "3fdf9736",
   "metadata": {
    "editable": true,
    "execution": {
     "iopub.execute_input": "2025-05-12T16:08:53.518935Z",
     "iopub.status.busy": "2025-05-12T16:08:53.518774Z",
     "iopub.status.idle": "2025-05-12T16:08:53.522322Z",
     "shell.execute_reply": "2025-05-12T16:08:53.522072Z"
    },
    "papermill": {
     "duration": 0.011864,
     "end_time": "2025-05-12T16:08:53.522996",
     "exception": false,
     "start_time": "2025-05-12T16:08:53.511132",
     "status": "completed"
    },
    "slideshow": {
     "slide_type": ""
    },
    "tags": [
     "remove_cell"
    ]
   },
   "outputs": [],
   "source": [
    "# Altair config\n",
    "def author_url(author):\n",
    "    return f\"https://github.com/{author}\"\n",
    "\n",
    "def alt_theme():\n",
    "    return {\n",
    "        'config': {\n",
    "            'axisLeft': {\n",
    "                'labelFontSize': 15,\n",
    "            },\n",
    "            'axisBottom': {\n",
    "                'labelFontSize': 15,\n",
    "            },\n",
    "        }\n",
    "    }\n",
    "\n",
    "alt.themes.register('my_theme', alt_theme)\n",
    "alt.themes.enable(\"my_theme\")\n",
    "\n",
    "\n",
    "# Define colors we'll use for GitHub membership\n",
    "author_types = ['MEMBER', 'CONTRIBUTOR', 'COLLABORATOR', \"NONE\"]\n",
    "\n",
    "author_palette = np.array(sns.palettes.blend_palette([\"lightgrey\", \"lightgreen\", \"darkgreen\"], 4)) * 256\n",
    "author_colors = [\"rgb({}, {}, {})\".format(*color) for color in author_palette]\n",
    "author_color_dict = {key: val for key, val in zip(author_types, author_palette)}"
   ]
  },
  {
   "cell_type": "code",
   "execution_count": 3,
   "id": "4f0f52df",
   "metadata": {
    "editable": true,
    "execution": {
     "iopub.execute_input": "2025-05-12T16:08:53.536644Z",
     "iopub.status.busy": "2025-05-12T16:08:53.536530Z",
     "iopub.status.idle": "2025-05-12T16:08:53.538135Z",
     "shell.execute_reply": "2025-05-12T16:08:53.537922Z"
    },
    "papermill": {
     "duration": 0.009063,
     "end_time": "2025-05-12T16:08:53.538779",
     "exception": false,
     "start_time": "2025-05-12T16:08:53.529716",
     "status": "completed"
    },
    "slideshow": {
     "slide_type": ""
    },
    "tags": [
     "parameters",
     "hide_input",
     "remove_cell"
    ]
   },
   "outputs": [],
   "source": [
    "github_org = \"jupyterhub\"\n",
    "top_n_repos = 15\n",
    "n_days = 90"
   ]
  },
  {
   "cell_type": "code",
   "execution_count": 4,
   "id": "b43e115e",
   "metadata": {
    "execution": {
     "iopub.execute_input": "2025-05-12T16:08:53.552701Z",
     "iopub.status.busy": "2025-05-12T16:08:53.552588Z",
     "iopub.status.idle": "2025-05-12T16:08:53.554162Z",
     "shell.execute_reply": "2025-05-12T16:08:53.553945Z"
    },
    "papermill": {
     "duration": 0.009566,
     "end_time": "2025-05-12T16:08:53.554870",
     "exception": false,
     "start_time": "2025-05-12T16:08:53.545304",
     "status": "completed"
    },
    "tags": [
     "injected-parameters",
     "remove-cell"
    ]
   },
   "outputs": [],
   "source": [
    "# Parameters\n",
    "github_org = \"jupyter-book\"\n",
    "n_days = 90\n"
   ]
  },
  {
   "cell_type": "code",
   "execution_count": 5,
   "id": "80cf5518",
   "metadata": {
    "editable": true,
    "execution": {
     "iopub.execute_input": "2025-05-12T16:08:53.568492Z",
     "iopub.status.busy": "2025-05-12T16:08:53.568404Z",
     "iopub.status.idle": "2025-05-12T16:08:53.587830Z",
     "shell.execute_reply": "2025-05-12T16:08:53.587622Z"
    },
    "papermill": {
     "duration": 0.027162,
     "end_time": "2025-05-12T16:08:53.588514",
     "exception": false,
     "start_time": "2025-05-12T16:08:53.561352",
     "status": "completed"
    },
    "slideshow": {
     "slide_type": ""
    },
    "tags": [
     "remove_cell"
    ]
   },
   "outputs": [
    {
     "data": {
      "application/papermill.record/text/plain": "'jupyter-book'"
     },
     "metadata": {
      "scrapbook": {
       "mime_prefix": "application/papermill.record/",
       "name": "jupyter-book_github_org"
      }
     },
     "output_type": "display_data"
    },
    {
     "data": {
      "application/papermill.record/text/plain": "'2025-02-11'"
     },
     "metadata": {
      "scrapbook": {
       "mime_prefix": "application/papermill.record/",
       "name": "jupyter-book_start"
      }
     },
     "output_type": "display_data"
    },
    {
     "data": {
      "application/papermill.record/text/plain": "'2025-05-12'"
     },
     "metadata": {
      "scrapbook": {
       "mime_prefix": "application/papermill.record/",
       "name": "jupyter-book_stop"
      }
     },
     "output_type": "display_data"
    }
   ],
   "source": [
    "############################################################\n",
    "# Variables\n",
    "stop = date.today()\n",
    "start = date.today() - relativedelta(days=n_days)\n",
    "\n",
    "# Strings for use in queries\n",
    "start_date = f\"{start:%Y-%m-%d}\"\n",
    "stop_date = f\"{stop:%Y-%m-%d}\"\n",
    "\n",
    "# Glue variables for use in markdown\n",
    "glue(f\"{github_org}_github_org\", github_org, display=False)\n",
    "glue(f\"{github_org}_start\", start_date, display=False)\n",
    "glue(f\"{github_org}_stop\", stop_date, display=False)"
   ]
  },
  {
   "cell_type": "markdown",
   "id": "5310cb63",
   "metadata": {
    "editable": true,
    "papermill": {
     "duration": 0.006693,
     "end_time": "2025-05-12T16:08:53.601913",
     "exception": false,
     "start_time": "2025-05-12T16:08:53.595220",
     "status": "completed"
    },
    "slideshow": {
     "slide_type": ""
    },
    "tags": []
   },
   "source": [
    "## Load data\n",
    "\n",
    "Load and clean up the data"
   ]
  },
  {
   "cell_type": "code",
   "execution_count": 6,
   "id": "5ca1d77b",
   "metadata": {
    "editable": true,
    "execution": {
     "iopub.execute_input": "2025-05-12T16:08:53.615848Z",
     "iopub.status.busy": "2025-05-12T16:08:53.615756Z",
     "iopub.status.idle": "2025-05-12T16:08:53.617939Z",
     "shell.execute_reply": "2025-05-12T16:08:53.617736Z"
    },
    "papermill": {
     "duration": 0.009835,
     "end_time": "2025-05-12T16:08:53.618555",
     "exception": false,
     "start_time": "2025-05-12T16:08:53.608720",
     "status": "completed"
    },
    "slideshow": {
     "slide_type": ""
    },
    "tags": [
     "remove_cell"
    ]
   },
   "outputs": [],
   "source": [
    "from pathlib import Path\n",
    "import sqlite3\n",
    "path_data = Path(\"../data\")\n",
    "path_data = list(path_data.rglob(f\"*{github_org}.db\"))[0]\n",
    "\n",
    "def df_from_sql(query, db):\n",
    "    con = sqlite3.connect(db)\n",
    "    return pd.read_sql(query, con)\n",
    "    con.close()"
   ]
  },
  {
   "cell_type": "code",
   "execution_count": 7,
   "id": "c1cc5611",
   "metadata": {
    "editable": true,
    "execution": {
     "iopub.execute_input": "2025-05-12T16:08:53.632810Z",
     "iopub.status.busy": "2025-05-12T16:08:53.632625Z",
     "iopub.status.idle": "2025-05-12T16:08:53.913296Z",
     "shell.execute_reply": "2025-05-12T16:08:53.913002Z"
    },
    "papermill": {
     "duration": 0.288611,
     "end_time": "2025-05-12T16:08:53.914138",
     "exception": false,
     "start_time": "2025-05-12T16:08:53.625527",
     "status": "completed"
    },
    "scrolled": true,
    "slideshow": {
     "slide_type": ""
    },
    "tags": [
     "remove_cell"
    ]
   },
   "outputs": [
    {
     "name": "stdout",
     "output_type": "stream",
     "text": [
      "Loading from ../data/612f67cbff44837826a10e815fa2f115-jupyter-book.db\n"
     ]
    }
   ],
   "source": [
    "print(f\"Loading from {path_data}\")\n",
    "repos = df_from_sql(\"SELECT * FROM repos\", path_data)\n",
    "users = df_from_sql(\"SELECT * FROM users\", path_data)\n",
    "issues = df_from_sql(\"SELECT * FROM issues\", path_data)\n",
    "comments = df_from_sql(\"SELECT * FROM issue_comments\", path_data)\n",
    "\n",
    "# Merge repository information into issues\n",
    "def merge_repo_into_df(df, kind):\n",
    "    df = pd.merge(df, users[[\"id\", \"login\"]], left_on=\"user\", right_on=\"id\", suffixes=(\"_issue\", \"_user\"), how=\"inner\")\n",
    "    df = pd.merge(df, repos[[\"id\", \"full_name\", \"name\"]], left_on=\"repo\", right_on=\"id\", suffixes=(\"_issue\", \"_repo\"), how=\"inner\")\n",
    "    df[\"org\"] = df[\"full_name\"].map(lambda a: a.split('/')[0])\n",
    "    df[\"repo\"] = df[\"full_name\"].map(lambda a: a.split('/')[1])\n",
    "    df[\"url\"] = \"https://github.com/\" + df[\"org\"] + \"/\" + df[\"repo\"] + f\"/{kind}/\" + df[\"number\"].astype(str)\n",
    "    return df\n",
    "issues = merge_repo_into_df(issues, kind=\"issues\")\n",
    "\n",
    "# Pull out the Pull Requests from Issues\n",
    "prs = issues.loc[~issues[\"pull_request\"].isna()]\n",
    "def identify_merger(closedby):\n",
    "    if not closedby:\n",
    "        return None\n",
    "    try:\n",
    "        cb = loads(closedby)\n",
    "    except:\n",
    "        print(closedby)\n",
    "    return cb[\"login\"]\n",
    "prs[\"merged_by\"] = prs[\"closed_by\"].map(identify_merger)\n",
    "\n",
    "# These issues now _remove_ the PRs\n",
    "issues = issues.loc[issues[\"pull_request\"].isna()]\n",
    "\n",
    "# Add reactions data\n",
    "def count_positive(a):\n",
    "    a = loads(a)\n",
    "    return a[\"+1\"] + a[\"hooray\"] + a[\"heart\"]\n",
    "issues[\"positive\"] = issues[\"reactions\"].map(count_positive)\n",
    "\n",
    "# Drop comments if there is no associated issue\n",
    "comments = comments.dropna(subset=[\"issue\"])\n",
    "comments[\"issue\"] = comments.loc[:, \"issue\"].astype(int)\n",
    "\n",
    "# Add repository information to comments\n",
    "comments = pd.merge(comments, issues[[\"id_issue\", \"full_name\", \"org\", \"repo\"]], left_on=\"issue\", right_on=\"id_issue\", how=\"inner\", suffixes=(\"_comment\", \"_issue\"))\n",
    "\n",
    "# Merge user data into comments\n",
    "comments = pd.merge(comments, users[[\"id\", \"login\"]], left_on=\"user\", right_on=\"id\", suffixes=(\"_comment\", \"_user\"), how=\"inner\")"
   ]
  },
  {
   "cell_type": "code",
   "execution_count": 8,
   "id": "e94dba71",
   "metadata": {
    "editable": true,
    "execution": {
     "iopub.execute_input": "2025-05-12T16:08:53.928079Z",
     "iopub.status.busy": "2025-05-12T16:08:53.927963Z",
     "iopub.status.idle": "2025-05-12T16:08:53.945375Z",
     "shell.execute_reply": "2025-05-12T16:08:53.945164Z"
    },
    "papermill": {
     "duration": 0.025025,
     "end_time": "2025-05-12T16:08:53.946050",
     "exception": false,
     "start_time": "2025-05-12T16:08:53.921025",
     "status": "completed"
    },
    "slideshow": {
     "slide_type": ""
    },
    "tags": [
     "remove_cell"
    ]
   },
   "outputs": [],
   "source": [
    "# Convert columns to datetime\n",
    "datetime_columns = [\"created_at\", \"closed_at\"]\n",
    "for df in [comments, issues, prs]:\n",
    "    for col in datetime_columns:\n",
    "        if col in df:\n",
    "            df[col] = pd.to_datetime(df[col])\n",
    "            # Strip timezone information so we can run simpler queries\n",
    "            df[col] = df[col].dt.tz_localize(None)"
   ]
  },
  {
   "cell_type": "code",
   "execution_count": 9,
   "id": "19a6d429",
   "metadata": {
    "editable": true,
    "execution": {
     "iopub.execute_input": "2025-05-12T16:08:53.959845Z",
     "iopub.status.busy": "2025-05-12T16:08:53.959742Z",
     "iopub.status.idle": "2025-05-12T16:08:53.964762Z",
     "shell.execute_reply": "2025-05-12T16:08:53.964533Z"
    },
    "papermill": {
     "duration": 0.012648,
     "end_time": "2025-05-12T16:08:53.965435",
     "exception": false,
     "start_time": "2025-05-12T16:08:53.952787",
     "status": "completed"
    },
    "slideshow": {
     "slide_type": ""
    },
    "tags": [
     "remove_cell"
    ]
   },
   "outputs": [],
   "source": [
    "# What are the top N repos, we will only plot these in the full data plots\n",
    "top_commented_repos = comments.groupby(\"repo\").count().sort_values(\"created_at\", ascending=False)['created_at']\n",
    "use_repos = top_commented_repos.head(top_n_repos).index.tolist()"
   ]
  },
  {
   "cell_type": "markdown",
   "id": "e5165237",
   "metadata": {
    "editable": true,
    "papermill": {
     "duration": 0.006949,
     "end_time": "2025-05-12T16:08:53.979231",
     "exception": false,
     "start_time": "2025-05-12T16:08:53.972282",
     "status": "completed"
    },
    "slideshow": {
     "slide_type": ""
    },
    "tags": [],
    "toc-hr-collapsed": false
   },
   "source": [
    "## Merged Pull requests\n",
    "\n",
    "Here's an analysis of **merged pull requests** across each of the repositories in the Jupyter\n",
    "ecosystem."
   ]
  },
  {
   "cell_type": "code",
   "execution_count": 10,
   "id": "595a0116",
   "metadata": {
    "editable": true,
    "execution": {
     "iopub.execute_input": "2025-05-12T16:08:53.992801Z",
     "iopub.status.busy": "2025-05-12T16:08:53.992654Z",
     "iopub.status.idle": "2025-05-12T16:08:53.998452Z",
     "shell.execute_reply": "2025-05-12T16:08:53.998207Z"
    },
    "papermill": {
     "duration": 0.013377,
     "end_time": "2025-05-12T16:08:53.999158",
     "exception": false,
     "start_time": "2025-05-12T16:08:53.985781",
     "status": "completed"
    },
    "slideshow": {
     "slide_type": ""
    },
    "tags": [
     "remove_cell"
    ]
   },
   "outputs": [],
   "source": [
    "merged = prs.query('state == \"closed\" and closed_at > @start_date and closed_at < @stop_date')"
   ]
  },
  {
   "cell_type": "code",
   "execution_count": 11,
   "id": "cc2c655b",
   "metadata": {
    "editable": true,
    "execution": {
     "iopub.execute_input": "2025-05-12T16:08:54.012737Z",
     "iopub.status.busy": "2025-05-12T16:08:54.012556Z",
     "iopub.status.idle": "2025-05-12T16:08:54.033932Z",
     "shell.execute_reply": "2025-05-12T16:08:54.033710Z"
    },
    "papermill": {
     "duration": 0.028926,
     "end_time": "2025-05-12T16:08:54.034626",
     "exception": false,
     "start_time": "2025-05-12T16:08:54.005700",
     "status": "completed"
    },
    "slideshow": {
     "slide_type": ""
    },
    "tags": [
     "hide_input"
    ]
   },
   "outputs": [
    {
     "data": {
      "text/html": [
       "\n",
       "<style>\n",
       "  #altair-viz-7f03fc224fe94e4ca77fbf03046efd2b.vega-embed {\n",
       "    width: 100%;\n",
       "    display: flex;\n",
       "  }\n",
       "\n",
       "  #altair-viz-7f03fc224fe94e4ca77fbf03046efd2b.vega-embed details,\n",
       "  #altair-viz-7f03fc224fe94e4ca77fbf03046efd2b.vega-embed details summary {\n",
       "    position: relative;\n",
       "  }\n",
       "</style>\n",
       "<div id=\"altair-viz-7f03fc224fe94e4ca77fbf03046efd2b\"></div>\n",
       "<script type=\"text/javascript\">\n",
       "  var VEGA_DEBUG = (typeof VEGA_DEBUG == \"undefined\") ? {} : VEGA_DEBUG;\n",
       "  (function(spec, embedOpt){\n",
       "    let outputDiv = document.currentScript.previousElementSibling;\n",
       "    if (outputDiv.id !== \"altair-viz-7f03fc224fe94e4ca77fbf03046efd2b\") {\n",
       "      outputDiv = document.getElementById(\"altair-viz-7f03fc224fe94e4ca77fbf03046efd2b\");\n",
       "    }\n",
       "\n",
       "    const paths = {\n",
       "      \"vega\": \"https://cdn.jsdelivr.net/npm/vega@5?noext\",\n",
       "      \"vega-lib\": \"https://cdn.jsdelivr.net/npm/vega-lib?noext\",\n",
       "      \"vega-lite\": \"https://cdn.jsdelivr.net/npm/vega-lite@5.20.1?noext\",\n",
       "      \"vega-embed\": \"https://cdn.jsdelivr.net/npm/vega-embed@6?noext\",\n",
       "    };\n",
       "\n",
       "    function maybeLoadScript(lib, version) {\n",
       "      var key = `${lib.replace(\"-\", \"\")}_version`;\n",
       "      return (VEGA_DEBUG[key] == version) ?\n",
       "        Promise.resolve(paths[lib]) :\n",
       "        new Promise(function(resolve, reject) {\n",
       "          var s = document.createElement('script');\n",
       "          document.getElementsByTagName(\"head\")[0].appendChild(s);\n",
       "          s.async = true;\n",
       "          s.onload = () => {\n",
       "            VEGA_DEBUG[key] = version;\n",
       "            return resolve(paths[lib]);\n",
       "          };\n",
       "          s.onerror = () => reject(`Error loading script: ${paths[lib]}`);\n",
       "          s.src = paths[lib];\n",
       "        });\n",
       "    }\n",
       "\n",
       "    function showError(err) {\n",
       "      outputDiv.innerHTML = `<div class=\"error\" style=\"color:red;\">${err}</div>`;\n",
       "      throw err;\n",
       "    }\n",
       "\n",
       "    function displayChart(vegaEmbed) {\n",
       "      vegaEmbed(outputDiv, spec, embedOpt)\n",
       "        .catch(err => showError(`Javascript Error: ${err.message}<br>This usually means there's a typo in your chart specification. See the javascript console for the full traceback.`));\n",
       "    }\n",
       "\n",
       "    if(typeof define === \"function\" && define.amd) {\n",
       "      requirejs.config({paths});\n",
       "      let deps = [\"vega-embed\"];\n",
       "      require(deps, displayChart, err => showError(`Error loading script: ${err.message}`));\n",
       "    } else {\n",
       "      maybeLoadScript(\"vega\", \"5\")\n",
       "        .then(() => maybeLoadScript(\"vega-lite\", \"5.20.1\"))\n",
       "        .then(() => maybeLoadScript(\"vega-embed\", \"6\"))\n",
       "        .catch(showError)\n",
       "        .then(() => displayChart(vegaEmbed));\n",
       "    }\n",
       "  })({\"config\": {\"axisLeft\": {\"labelFontSize\": 15}, \"axisBottom\": {\"labelFontSize\": 15}}, \"data\": {\"name\": \"data-12c8f4cb950e9ac6b13e7c86ea99b79c\"}, \"mark\": {\"type\": \"bar\"}, \"encoding\": {\"color\": {\"field\": \"org\", \"type\": \"nominal\"}, \"x\": {\"field\": \"repo\", \"sort\": [\"mystmd\", \"myst-theme\", \"jupyter-book\", \"mystmd.org\", \"blog\", \"team-compass\", \"myst-enhancement-proposals\"], \"type\": \"nominal\"}, \"y\": {\"field\": \"login\", \"type\": \"quantitative\"}}, \"title\": \"Merged PRs in the last 90 days\", \"$schema\": \"https://vega.github.io/schema/vega-lite/v5.20.1.json\", \"datasets\": {\"data-12c8f4cb950e9ac6b13e7c86ea99b79c\": [{\"org\": \"jupyter-book\", \"repo\": \"mystmd\", \"login\": 45}, {\"org\": \"jupyter-book\", \"repo\": \"myst-theme\", \"login\": 34}, {\"org\": \"jupyter-book\", \"repo\": \"jupyter-book\", \"login\": 13}, {\"org\": \"jupyter-book\", \"repo\": \"mystmd.org\", \"login\": 5}, {\"org\": \"jupyter-book\", \"repo\": \"blog\", \"login\": 4}, {\"org\": \"jupyter-book\", \"repo\": \"team-compass\", \"login\": 3}, {\"org\": \"jupyter-book\", \"repo\": \"myst-enhancement-proposals\", \"login\": 2}]}}, {\"mode\": \"vega-lite\"});\n",
       "</script>"
      ],
      "text/plain": [
       "alt.Chart(...)"
      ]
     },
     "execution_count": 11,
     "metadata": {},
     "output_type": "execute_result"
    }
   ],
   "source": [
    "prs_by_repo = merged.groupby(['org', 'repo']).count()['login'].reset_index().sort_values(['org', 'login'], ascending=False)\n",
    "alt.Chart(data=prs_by_repo, title=f\"Merged PRs in the last {n_days} days\").mark_bar().encode(\n",
    "    x=alt.X('repo', sort=prs_by_repo['repo'].values.tolist()),\n",
    "    y='login',\n",
    "    color='org'\n",
    ")"
   ]
  },
  {
   "cell_type": "markdown",
   "id": "644c1867",
   "metadata": {
    "editable": true,
    "papermill": {
     "duration": 0.006733,
     "end_time": "2025-05-12T16:08:54.048225",
     "exception": false,
     "start_time": "2025-05-12T16:08:54.041492",
     "status": "completed"
    },
    "slideshow": {
     "slide_type": ""
    },
    "tags": []
   },
   "source": [
    "### Authoring and merging stats by repository\n",
    "\n",
    "Let's see who has been doing most of the PR authoring and merging. The PR author is generally the\n",
    "person that implemented a change in the repository (code, documentation, etc). The PR merger is\n",
    "the person that \"pressed the green button\" and got the change into the main codebase."
   ]
  },
  {
   "cell_type": "code",
   "execution_count": 12,
   "id": "47541da1",
   "metadata": {
    "editable": true,
    "execution": {
     "iopub.execute_input": "2025-05-12T16:08:54.062076Z",
     "iopub.status.busy": "2025-05-12T16:08:54.061972Z",
     "iopub.status.idle": "2025-05-12T16:08:54.067355Z",
     "shell.execute_reply": "2025-05-12T16:08:54.067132Z"
    },
    "papermill": {
     "duration": 0.013085,
     "end_time": "2025-05-12T16:08:54.068021",
     "exception": false,
     "start_time": "2025-05-12T16:08:54.054936",
     "status": "completed"
    },
    "slideshow": {
     "slide_type": ""
    },
    "tags": [
     "remove_cell"
    ]
   },
   "outputs": [],
   "source": [
    "# Prep our merging DF\n",
    "merged_by_repo = merged.groupby(['repo', 'login'], as_index=False).agg({'id': 'count', 'author_association': 'first'}).rename(columns={'id': \"authored\", 'login': 'username'})\n",
    "closed_by_repo = merged.groupby(['name', 'merged_by']).count()['id_issue'].reset_index().rename(columns={'id_issue': \"closed\", \"merged_by\": \"username\"})"
   ]
  },
  {
   "cell_type": "code",
   "execution_count": 13,
   "id": "0f448b7d",
   "metadata": {
    "editable": true,
    "execution": {
     "iopub.execute_input": "2025-05-12T16:08:54.082386Z",
     "iopub.status.busy": "2025-05-12T16:08:54.082291Z",
     "iopub.status.idle": "2025-05-12T16:08:54.091775Z",
     "shell.execute_reply": "2025-05-12T16:08:54.091574Z"
    },
    "papermill": {
     "duration": 0.017405,
     "end_time": "2025-05-12T16:08:54.092407",
     "exception": false,
     "start_time": "2025-05-12T16:08:54.075002",
     "status": "completed"
    },
    "slideshow": {
     "slide_type": ""
    },
    "tags": [
     "hide_input"
    ]
   },
   "outputs": [
    {
     "data": {
      "text/html": [
       "\n",
       "<style>\n",
       "  #altair-viz-213c94015d37448fa22d5e2f882ee637.vega-embed {\n",
       "    width: 100%;\n",
       "    display: flex;\n",
       "  }\n",
       "\n",
       "  #altair-viz-213c94015d37448fa22d5e2f882ee637.vega-embed details,\n",
       "  #altair-viz-213c94015d37448fa22d5e2f882ee637.vega-embed details summary {\n",
       "    position: relative;\n",
       "  }\n",
       "</style>\n",
       "<div id=\"altair-viz-213c94015d37448fa22d5e2f882ee637\"></div>\n",
       "<script type=\"text/javascript\">\n",
       "  var VEGA_DEBUG = (typeof VEGA_DEBUG == \"undefined\") ? {} : VEGA_DEBUG;\n",
       "  (function(spec, embedOpt){\n",
       "    let outputDiv = document.currentScript.previousElementSibling;\n",
       "    if (outputDiv.id !== \"altair-viz-213c94015d37448fa22d5e2f882ee637\") {\n",
       "      outputDiv = document.getElementById(\"altair-viz-213c94015d37448fa22d5e2f882ee637\");\n",
       "    }\n",
       "\n",
       "    const paths = {\n",
       "      \"vega\": \"https://cdn.jsdelivr.net/npm/vega@5?noext\",\n",
       "      \"vega-lib\": \"https://cdn.jsdelivr.net/npm/vega-lib?noext\",\n",
       "      \"vega-lite\": \"https://cdn.jsdelivr.net/npm/vega-lite@5.20.1?noext\",\n",
       "      \"vega-embed\": \"https://cdn.jsdelivr.net/npm/vega-embed@6?noext\",\n",
       "    };\n",
       "\n",
       "    function maybeLoadScript(lib, version) {\n",
       "      var key = `${lib.replace(\"-\", \"\")}_version`;\n",
       "      return (VEGA_DEBUG[key] == version) ?\n",
       "        Promise.resolve(paths[lib]) :\n",
       "        new Promise(function(resolve, reject) {\n",
       "          var s = document.createElement('script');\n",
       "          document.getElementsByTagName(\"head\")[0].appendChild(s);\n",
       "          s.async = true;\n",
       "          s.onload = () => {\n",
       "            VEGA_DEBUG[key] = version;\n",
       "            return resolve(paths[lib]);\n",
       "          };\n",
       "          s.onerror = () => reject(`Error loading script: ${paths[lib]}`);\n",
       "          s.src = paths[lib];\n",
       "        });\n",
       "    }\n",
       "\n",
       "    function showError(err) {\n",
       "      outputDiv.innerHTML = `<div class=\"error\" style=\"color:red;\">${err}</div>`;\n",
       "      throw err;\n",
       "    }\n",
       "\n",
       "    function displayChart(vegaEmbed) {\n",
       "      vegaEmbed(outputDiv, spec, embedOpt)\n",
       "        .catch(err => showError(`Javascript Error: ${err.message}<br>This usually means there's a typo in your chart specification. See the javascript console for the full traceback.`));\n",
       "    }\n",
       "\n",
       "    if(typeof define === \"function\" && define.amd) {\n",
       "      requirejs.config({paths});\n",
       "      let deps = [\"vega-embed\"];\n",
       "      require(deps, displayChart, err => showError(`Error loading script: ${err.message}`));\n",
       "    } else {\n",
       "      maybeLoadScript(\"vega\", \"5\")\n",
       "        .then(() => maybeLoadScript(\"vega-lite\", \"5.20.1\"))\n",
       "        .then(() => maybeLoadScript(\"vega-embed\", \"6\"))\n",
       "        .catch(showError)\n",
       "        .then(() => displayChart(vegaEmbed));\n",
       "    }\n",
       "  })({\"config\": {\"axisLeft\": {\"labelFontSize\": 15}, \"axisBottom\": {\"labelFontSize\": 15}}, \"data\": {\"name\": \"data-6b8a772a9f319305dfdb11acc4bacc53\"}, \"mark\": {\"type\": \"bar\"}, \"encoding\": {\"color\": {\"field\": \"author_association\", \"scale\": {\"domain\": [\"MEMBER\", \"CONTRIBUTOR\", \"COLLABORATOR\", \"NONE\"], \"range\": [\"rgb(211.82745098039214, 211.82745098039214, 211.82745098039214)\", \"rgb(166.98562091503268, 229.89803921568628, 166.98562091503268)\", \"rgb(96.37647058823529, 192.75294117647059, 96.37647058823529)\", \"rgb(0.0, 100.3921568627451, 0.0)\"]}, \"type\": \"nominal\"}, \"x\": {\"field\": \"username\", \"type\": \"nominal\"}, \"y\": {\"field\": \"authored\", \"type\": \"quantitative\"}}, \"title\": \"PR authors for jupyter-book in the last 90 days\", \"$schema\": \"https://vega.github.io/schema/vega-lite/v5.20.1.json\", \"datasets\": {\"data-6b8a772a9f319305dfdb11acc4bacc53\": [{\"username\": \"agoose77\", \"authored\": 48, \"author_association\": \"MEMBER\"}, {\"username\": \"choldgraf\", \"authored\": 13, \"author_association\": \"MEMBER\"}, {\"username\": \"rowanc1\", \"authored\": 13, \"author_association\": \"MEMBER\"}, {\"username\": \"github-actions[bot]\", \"authored\": 8, \"author_association\": \"CONTRIBUTOR\"}, {\"username\": \"fwkoch\", \"authored\": 6, \"author_association\": \"MEMBER\"}, {\"username\": \"stefanv\", \"authored\": 5, \"author_association\": \"COLLABORATOR\"}, {\"username\": \"JimMadge\", \"authored\": 3, \"author_association\": \"NONE\"}, {\"username\": \"stevejpurves\", \"authored\": 3, \"author_association\": \"MEMBER\"}, {\"username\": \"RHammond2\", \"authored\": 1, \"author_association\": \"NONE\"}, {\"username\": \"StefanRR\", \"authored\": 1, \"author_association\": \"CONTRIBUTOR\"}, {\"username\": \"alanrice\", \"authored\": 1, \"author_association\": \"CONTRIBUTOR\"}, {\"username\": \"bsipocz\", \"authored\": 1, \"author_association\": \"CONTRIBUTOR\"}, {\"username\": \"da5nsy\", \"authored\": 1, \"author_association\": \"CONTRIBUTOR\"}, {\"username\": \"fperez\", \"authored\": 1, \"author_association\": \"CONTRIBUTOR\"}, {\"username\": \"nmielec\", \"authored\": 1, \"author_association\": \"CONTRIBUTOR\"}]}}, {\"mode\": \"vega-lite\"});\n",
       "</script>"
      ],
      "text/plain": [
       "alt.Chart(...)"
      ]
     },
     "execution_count": 13,
     "metadata": {},
     "output_type": "execute_result"
    }
   ],
   "source": [
    "charts = []\n",
    "title = f\"PR authors for {github_org} in the last {n_days} days\"\n",
    "this_data = merged_by_repo.replace(np.nan, 0).groupby('username', as_index=False).agg({'authored': 'sum', 'author_association': 'first'})\n",
    "this_data = this_data.sort_values('authored', ascending=False)\n",
    "ch = alt.Chart(data=this_data, title=title).mark_bar().encode(\n",
    "    x='username',\n",
    "    y='authored',\n",
    "    color=alt.Color('author_association', scale=alt.Scale(domain=author_types, range=author_colors))\n",
    ")\n",
    "ch"
   ]
  },
  {
   "cell_type": "code",
   "execution_count": 14,
   "id": "723167f7",
   "metadata": {
    "editable": true,
    "execution": {
     "iopub.execute_input": "2025-05-12T16:08:54.106318Z",
     "iopub.status.busy": "2025-05-12T16:08:54.106225Z",
     "iopub.status.idle": "2025-05-12T16:08:54.113659Z",
     "shell.execute_reply": "2025-05-12T16:08:54.113444Z"
    },
    "papermill": {
     "duration": 0.015067,
     "end_time": "2025-05-12T16:08:54.114324",
     "exception": false,
     "start_time": "2025-05-12T16:08:54.099257",
     "status": "completed"
    },
    "slideshow": {
     "slide_type": ""
    },
    "tags": [
     "hide_input"
    ]
   },
   "outputs": [
    {
     "data": {
      "text/html": [
       "\n",
       "<style>\n",
       "  #altair-viz-5c0c230b85ac42d8bb249a3473b8caf8.vega-embed {\n",
       "    width: 100%;\n",
       "    display: flex;\n",
       "  }\n",
       "\n",
       "  #altair-viz-5c0c230b85ac42d8bb249a3473b8caf8.vega-embed details,\n",
       "  #altair-viz-5c0c230b85ac42d8bb249a3473b8caf8.vega-embed details summary {\n",
       "    position: relative;\n",
       "  }\n",
       "</style>\n",
       "<div id=\"altair-viz-5c0c230b85ac42d8bb249a3473b8caf8\"></div>\n",
       "<script type=\"text/javascript\">\n",
       "  var VEGA_DEBUG = (typeof VEGA_DEBUG == \"undefined\") ? {} : VEGA_DEBUG;\n",
       "  (function(spec, embedOpt){\n",
       "    let outputDiv = document.currentScript.previousElementSibling;\n",
       "    if (outputDiv.id !== \"altair-viz-5c0c230b85ac42d8bb249a3473b8caf8\") {\n",
       "      outputDiv = document.getElementById(\"altair-viz-5c0c230b85ac42d8bb249a3473b8caf8\");\n",
       "    }\n",
       "\n",
       "    const paths = {\n",
       "      \"vega\": \"https://cdn.jsdelivr.net/npm/vega@5?noext\",\n",
       "      \"vega-lib\": \"https://cdn.jsdelivr.net/npm/vega-lib?noext\",\n",
       "      \"vega-lite\": \"https://cdn.jsdelivr.net/npm/vega-lite@5.20.1?noext\",\n",
       "      \"vega-embed\": \"https://cdn.jsdelivr.net/npm/vega-embed@6?noext\",\n",
       "    };\n",
       "\n",
       "    function maybeLoadScript(lib, version) {\n",
       "      var key = `${lib.replace(\"-\", \"\")}_version`;\n",
       "      return (VEGA_DEBUG[key] == version) ?\n",
       "        Promise.resolve(paths[lib]) :\n",
       "        new Promise(function(resolve, reject) {\n",
       "          var s = document.createElement('script');\n",
       "          document.getElementsByTagName(\"head\")[0].appendChild(s);\n",
       "          s.async = true;\n",
       "          s.onload = () => {\n",
       "            VEGA_DEBUG[key] = version;\n",
       "            return resolve(paths[lib]);\n",
       "          };\n",
       "          s.onerror = () => reject(`Error loading script: ${paths[lib]}`);\n",
       "          s.src = paths[lib];\n",
       "        });\n",
       "    }\n",
       "\n",
       "    function showError(err) {\n",
       "      outputDiv.innerHTML = `<div class=\"error\" style=\"color:red;\">${err}</div>`;\n",
       "      throw err;\n",
       "    }\n",
       "\n",
       "    function displayChart(vegaEmbed) {\n",
       "      vegaEmbed(outputDiv, spec, embedOpt)\n",
       "        .catch(err => showError(`Javascript Error: ${err.message}<br>This usually means there's a typo in your chart specification. See the javascript console for the full traceback.`));\n",
       "    }\n",
       "\n",
       "    if(typeof define === \"function\" && define.amd) {\n",
       "      requirejs.config({paths});\n",
       "      let deps = [\"vega-embed\"];\n",
       "      require(deps, displayChart, err => showError(`Error loading script: ${err.message}`));\n",
       "    } else {\n",
       "      maybeLoadScript(\"vega\", \"5\")\n",
       "        .then(() => maybeLoadScript(\"vega-lite\", \"5.20.1\"))\n",
       "        .then(() => maybeLoadScript(\"vega-embed\", \"6\"))\n",
       "        .catch(showError)\n",
       "        .then(() => displayChart(vegaEmbed));\n",
       "    }\n",
       "  })({\"config\": {\"axisLeft\": {\"labelFontSize\": 15}, \"axisBottom\": {\"labelFontSize\": 15}}, \"data\": {\"name\": \"data-966ea6bf9436d2d3b16e06e6e86993f1\"}, \"mark\": {\"type\": \"bar\"}, \"encoding\": {\"x\": {\"field\": \"username\", \"type\": \"nominal\"}, \"y\": {\"field\": \"closed\", \"type\": \"quantitative\"}}, \"title\": \"Users that have merged PRs for jupyter-book in the last 90 days\", \"$schema\": \"https://vega.github.io/schema/vega-lite/v5.20.1.json\", \"datasets\": {\"data-966ea6bf9436d2d3b16e06e6e86993f1\": [{\"name\": \"blog\", \"username\": \"agoose77\", \"closed\": 3}, {\"name\": \"blog\", \"username\": \"choldgraf\", \"closed\": 1}, {\"name\": \"jupyter-book\", \"username\": \"agoose77\", \"closed\": 12}, {\"name\": \"jupyter-book\", \"username\": \"choldgraf\", \"closed\": 1}, {\"name\": \"myst-enhancement-proposals\", \"username\": \"agoose77\", \"closed\": 1}, {\"name\": \"myst-enhancement-proposals\", \"username\": \"rowanc1\", \"closed\": 1}, {\"name\": \"myst-theme\", \"username\": \"agoose77\", \"closed\": 11}, {\"name\": \"myst-theme\", \"username\": \"rowanc1\", \"closed\": 20}, {\"name\": \"myst-theme\", \"username\": \"stevejpurves\", \"closed\": 3}, {\"name\": \"mystmd\", \"username\": \"agoose77\", \"closed\": 13}, {\"name\": \"mystmd\", \"username\": \"choldgraf\", \"closed\": 10}, {\"name\": \"mystmd\", \"username\": \"fwkoch\", \"closed\": 1}, {\"name\": \"mystmd\", \"username\": \"rowanc1\", \"closed\": 20}, {\"name\": \"mystmd\", \"username\": \"stevejpurves\", \"closed\": 1}, {\"name\": \"mystmd.org\", \"username\": \"agoose77\", \"closed\": 3}, {\"name\": \"mystmd.org\", \"username\": \"choldgraf\", \"closed\": 1}, {\"name\": \"mystmd.org\", \"username\": \"rowanc1\", \"closed\": 1}, {\"name\": \"team-compass\", \"username\": \"agoose77\", \"closed\": 1}, {\"name\": \"team-compass\", \"username\": \"choldgraf\", \"closed\": 2}]}}, {\"mode\": \"vega-lite\"});\n",
       "</script>"
      ],
      "text/plain": [
       "alt.Chart(...)"
      ]
     },
     "execution_count": 14,
     "metadata": {},
     "output_type": "execute_result"
    }
   ],
   "source": [
    "charts = []\n",
    "title = f\"Users that have merged PRs for {github_org} in the last {n_days} days\"\n",
    "ch = alt.Chart(data=closed_by_repo.replace(np.nan, 0), title=title).mark_bar().encode(\n",
    "    x='username',\n",
    "    y='closed',\n",
    ")\n",
    "ch"
   ]
  },
  {
   "cell_type": "markdown",
   "id": "e14b0a70",
   "metadata": {
    "editable": true,
    "papermill": {
     "duration": 0.007371,
     "end_time": "2025-05-12T16:08:54.129008",
     "exception": false,
     "start_time": "2025-05-12T16:08:54.121637",
     "status": "completed"
    },
    "slideshow": {
     "slide_type": ""
    },
    "tags": []
   },
   "source": [
    "## Issues\n",
    "\n",
    "Issues are **conversations** that happen on our GitHub repositories. Here's an\n",
    "analysis of issues across the Jupyter organizations."
   ]
  },
  {
   "cell_type": "code",
   "execution_count": 15,
   "id": "96da3fb3",
   "metadata": {
    "editable": true,
    "execution": {
     "iopub.execute_input": "2025-05-12T16:08:54.143557Z",
     "iopub.status.busy": "2025-05-12T16:08:54.143430Z",
     "iopub.status.idle": "2025-05-12T16:08:54.149927Z",
     "shell.execute_reply": "2025-05-12T16:08:54.149678Z"
    },
    "papermill": {
     "duration": 0.014448,
     "end_time": "2025-05-12T16:08:54.150558",
     "exception": false,
     "start_time": "2025-05-12T16:08:54.136110",
     "status": "completed"
    },
    "slideshow": {
     "slide_type": ""
    },
    "tags": [
     "remove_cell"
    ]
   },
   "outputs": [],
   "source": [
    "created = issues.query('state == \"open\" and created_at > @start_date and created_at < @stop_date')\n",
    "closed = issues.query('state == \"closed\" and closed_at > @start_date and closed_at < @stop_date')"
   ]
  },
  {
   "cell_type": "code",
   "execution_count": 16,
   "id": "a839d281",
   "metadata": {
    "editable": true,
    "execution": {
     "iopub.execute_input": "2025-05-12T16:08:54.164584Z",
     "iopub.status.busy": "2025-05-12T16:08:54.164483Z",
     "iopub.status.idle": "2025-05-12T16:08:54.173563Z",
     "shell.execute_reply": "2025-05-12T16:08:54.173354Z"
    },
    "papermill": {
     "duration": 0.016845,
     "end_time": "2025-05-12T16:08:54.174209",
     "exception": false,
     "start_time": "2025-05-12T16:08:54.157364",
     "status": "completed"
    },
    "slideshow": {
     "slide_type": ""
    },
    "tags": [
     "hide_input"
    ]
   },
   "outputs": [
    {
     "data": {
      "text/html": [
       "\n",
       "<style>\n",
       "  #altair-viz-1652ad6e5bac4ccfa2a6a85f890fe14f.vega-embed {\n",
       "    width: 100%;\n",
       "    display: flex;\n",
       "  }\n",
       "\n",
       "  #altair-viz-1652ad6e5bac4ccfa2a6a85f890fe14f.vega-embed details,\n",
       "  #altair-viz-1652ad6e5bac4ccfa2a6a85f890fe14f.vega-embed details summary {\n",
       "    position: relative;\n",
       "  }\n",
       "</style>\n",
       "<div id=\"altair-viz-1652ad6e5bac4ccfa2a6a85f890fe14f\"></div>\n",
       "<script type=\"text/javascript\">\n",
       "  var VEGA_DEBUG = (typeof VEGA_DEBUG == \"undefined\") ? {} : VEGA_DEBUG;\n",
       "  (function(spec, embedOpt){\n",
       "    let outputDiv = document.currentScript.previousElementSibling;\n",
       "    if (outputDiv.id !== \"altair-viz-1652ad6e5bac4ccfa2a6a85f890fe14f\") {\n",
       "      outputDiv = document.getElementById(\"altair-viz-1652ad6e5bac4ccfa2a6a85f890fe14f\");\n",
       "    }\n",
       "\n",
       "    const paths = {\n",
       "      \"vega\": \"https://cdn.jsdelivr.net/npm/vega@5?noext\",\n",
       "      \"vega-lib\": \"https://cdn.jsdelivr.net/npm/vega-lib?noext\",\n",
       "      \"vega-lite\": \"https://cdn.jsdelivr.net/npm/vega-lite@5.20.1?noext\",\n",
       "      \"vega-embed\": \"https://cdn.jsdelivr.net/npm/vega-embed@6?noext\",\n",
       "    };\n",
       "\n",
       "    function maybeLoadScript(lib, version) {\n",
       "      var key = `${lib.replace(\"-\", \"\")}_version`;\n",
       "      return (VEGA_DEBUG[key] == version) ?\n",
       "        Promise.resolve(paths[lib]) :\n",
       "        new Promise(function(resolve, reject) {\n",
       "          var s = document.createElement('script');\n",
       "          document.getElementsByTagName(\"head\")[0].appendChild(s);\n",
       "          s.async = true;\n",
       "          s.onload = () => {\n",
       "            VEGA_DEBUG[key] = version;\n",
       "            return resolve(paths[lib]);\n",
       "          };\n",
       "          s.onerror = () => reject(`Error loading script: ${paths[lib]}`);\n",
       "          s.src = paths[lib];\n",
       "        });\n",
       "    }\n",
       "\n",
       "    function showError(err) {\n",
       "      outputDiv.innerHTML = `<div class=\"error\" style=\"color:red;\">${err}</div>`;\n",
       "      throw err;\n",
       "    }\n",
       "\n",
       "    function displayChart(vegaEmbed) {\n",
       "      vegaEmbed(outputDiv, spec, embedOpt)\n",
       "        .catch(err => showError(`Javascript Error: ${err.message}<br>This usually means there's a typo in your chart specification. See the javascript console for the full traceback.`));\n",
       "    }\n",
       "\n",
       "    if(typeof define === \"function\" && define.amd) {\n",
       "      requirejs.config({paths});\n",
       "      let deps = [\"vega-embed\"];\n",
       "      require(deps, displayChart, err => showError(`Error loading script: ${err.message}`));\n",
       "    } else {\n",
       "      maybeLoadScript(\"vega\", \"5\")\n",
       "        .then(() => maybeLoadScript(\"vega-lite\", \"5.20.1\"))\n",
       "        .then(() => maybeLoadScript(\"vega-embed\", \"6\"))\n",
       "        .catch(showError)\n",
       "        .then(() => displayChart(vegaEmbed));\n",
       "    }\n",
       "  })({\"config\": {\"axisLeft\": {\"labelFontSize\": 15}, \"axisBottom\": {\"labelFontSize\": 15}}, \"data\": {\"name\": \"data-0fb4b55d3994c1c62091dc75bf024aaf\"}, \"mark\": {\"type\": \"bar\"}, \"encoding\": {\"x\": {\"field\": \"repo\", \"sort\": [\"mystmd\", \"jupyter-book\", \"myst-theme\", \"jupyterlab-myst\", \"team-compass\", \"thebe\", \"myst-enhancement-proposals\", \"mystmd.org\"], \"type\": \"nominal\"}, \"y\": {\"field\": \"number\", \"type\": \"quantitative\"}}, \"title\": \"Issues created in the last 90 days\", \"$schema\": \"https://vega.github.io/schema/vega-lite/v5.20.1.json\", \"datasets\": {\"data-0fb4b55d3994c1c62091dc75bf024aaf\": [{\"org\": \"jupyter-book\", \"repo\": \"jupyter-book\", \"number\": 15, \"org/repo\": \"jupyter-book/jupyter-book\"}, {\"org\": \"jupyter-book\", \"repo\": \"jupyterlab-myst\", \"number\": 7, \"org/repo\": \"jupyter-book/jupyterlab-myst\"}, {\"org\": \"jupyter-book\", \"repo\": \"myst-enhancement-proposals\", \"number\": 1, \"org/repo\": \"jupyter-book/myst-enhancement-proposals\"}, {\"org\": \"jupyter-book\", \"repo\": \"myst-theme\", \"number\": 8, \"org/repo\": \"jupyter-book/myst-theme\"}, {\"org\": \"jupyter-book\", \"repo\": \"mystmd\", \"number\": 59, \"org/repo\": \"jupyter-book/mystmd\"}, {\"org\": \"jupyter-book\", \"repo\": \"mystmd.org\", \"number\": 1, \"org/repo\": \"jupyter-book/mystmd.org\"}, {\"org\": \"jupyter-book\", \"repo\": \"team-compass\", \"number\": 5, \"org/repo\": \"jupyter-book/team-compass\"}, {\"org\": \"jupyter-book\", \"repo\": \"thebe\", \"number\": 2, \"org/repo\": \"jupyter-book/thebe\"}]}}, {\"mode\": \"vega-lite\"});\n",
       "</script>"
      ],
      "text/plain": [
       "alt.Chart(...)"
      ]
     },
     "execution_count": 16,
     "metadata": {},
     "output_type": "execute_result"
    }
   ],
   "source": [
    "created_counts = created.groupby(['org', 'repo']).count()['number'].reset_index()\n",
    "created_counts['org/repo'] = created_counts.apply(lambda a: a['org'] + '/' + a['repo'], axis=1)\n",
    "sorted_vals = created_counts.sort_values(['org', 'number'], ascending=False)['repo'].values\n",
    "alt.Chart(data=created_counts, title=f\"Issues created in the last {n_days} days\").mark_bar().encode(\n",
    "    x=alt.X('repo', sort=alt.Sort(sorted_vals.tolist())),\n",
    "    y='number',\n",
    ")"
   ]
  },
  {
   "cell_type": "code",
   "execution_count": 17,
   "id": "845164fc",
   "metadata": {
    "editable": true,
    "execution": {
     "iopub.execute_input": "2025-05-12T16:08:54.188998Z",
     "iopub.status.busy": "2025-05-12T16:08:54.188814Z",
     "iopub.status.idle": "2025-05-12T16:08:54.197325Z",
     "shell.execute_reply": "2025-05-12T16:08:54.197107Z"
    },
    "papermill": {
     "duration": 0.016559,
     "end_time": "2025-05-12T16:08:54.197984",
     "exception": false,
     "start_time": "2025-05-12T16:08:54.181425",
     "status": "completed"
    },
    "slideshow": {
     "slide_type": ""
    },
    "tags": [
     "hide_input"
    ]
   },
   "outputs": [
    {
     "data": {
      "text/html": [
       "\n",
       "<style>\n",
       "  #altair-viz-b7263d26bed6452381b98eedb38b58c4.vega-embed {\n",
       "    width: 100%;\n",
       "    display: flex;\n",
       "  }\n",
       "\n",
       "  #altair-viz-b7263d26bed6452381b98eedb38b58c4.vega-embed details,\n",
       "  #altair-viz-b7263d26bed6452381b98eedb38b58c4.vega-embed details summary {\n",
       "    position: relative;\n",
       "  }\n",
       "</style>\n",
       "<div id=\"altair-viz-b7263d26bed6452381b98eedb38b58c4\"></div>\n",
       "<script type=\"text/javascript\">\n",
       "  var VEGA_DEBUG = (typeof VEGA_DEBUG == \"undefined\") ? {} : VEGA_DEBUG;\n",
       "  (function(spec, embedOpt){\n",
       "    let outputDiv = document.currentScript.previousElementSibling;\n",
       "    if (outputDiv.id !== \"altair-viz-b7263d26bed6452381b98eedb38b58c4\") {\n",
       "      outputDiv = document.getElementById(\"altair-viz-b7263d26bed6452381b98eedb38b58c4\");\n",
       "    }\n",
       "\n",
       "    const paths = {\n",
       "      \"vega\": \"https://cdn.jsdelivr.net/npm/vega@5?noext\",\n",
       "      \"vega-lib\": \"https://cdn.jsdelivr.net/npm/vega-lib?noext\",\n",
       "      \"vega-lite\": \"https://cdn.jsdelivr.net/npm/vega-lite@5.20.1?noext\",\n",
       "      \"vega-embed\": \"https://cdn.jsdelivr.net/npm/vega-embed@6?noext\",\n",
       "    };\n",
       "\n",
       "    function maybeLoadScript(lib, version) {\n",
       "      var key = `${lib.replace(\"-\", \"\")}_version`;\n",
       "      return (VEGA_DEBUG[key] == version) ?\n",
       "        Promise.resolve(paths[lib]) :\n",
       "        new Promise(function(resolve, reject) {\n",
       "          var s = document.createElement('script');\n",
       "          document.getElementsByTagName(\"head\")[0].appendChild(s);\n",
       "          s.async = true;\n",
       "          s.onload = () => {\n",
       "            VEGA_DEBUG[key] = version;\n",
       "            return resolve(paths[lib]);\n",
       "          };\n",
       "          s.onerror = () => reject(`Error loading script: ${paths[lib]}`);\n",
       "          s.src = paths[lib];\n",
       "        });\n",
       "    }\n",
       "\n",
       "    function showError(err) {\n",
       "      outputDiv.innerHTML = `<div class=\"error\" style=\"color:red;\">${err}</div>`;\n",
       "      throw err;\n",
       "    }\n",
       "\n",
       "    function displayChart(vegaEmbed) {\n",
       "      vegaEmbed(outputDiv, spec, embedOpt)\n",
       "        .catch(err => showError(`Javascript Error: ${err.message}<br>This usually means there's a typo in your chart specification. See the javascript console for the full traceback.`));\n",
       "    }\n",
       "\n",
       "    if(typeof define === \"function\" && define.amd) {\n",
       "      requirejs.config({paths});\n",
       "      let deps = [\"vega-embed\"];\n",
       "      require(deps, displayChart, err => showError(`Error loading script: ${err.message}`));\n",
       "    } else {\n",
       "      maybeLoadScript(\"vega\", \"5\")\n",
       "        .then(() => maybeLoadScript(\"vega-lite\", \"5.20.1\"))\n",
       "        .then(() => maybeLoadScript(\"vega-embed\", \"6\"))\n",
       "        .catch(showError)\n",
       "        .then(() => displayChart(vegaEmbed));\n",
       "    }\n",
       "  })({\"config\": {\"axisLeft\": {\"labelFontSize\": 15}, \"axisBottom\": {\"labelFontSize\": 15}}, \"data\": {\"name\": \"data-b13915f2742adb83fcf0f5131ff087c2\"}, \"mark\": {\"type\": \"bar\"}, \"encoding\": {\"x\": {\"field\": \"repo\", \"sort\": [\"mystmd\", \"jupyter-book\", \"myst-theme\", \"mystmd.org\", \"jupyterlab-myst\", \"team-compass\"], \"type\": \"nominal\"}, \"y\": {\"field\": \"number\", \"type\": \"quantitative\"}}, \"title\": \"Issues closed in the last 90 days\", \"$schema\": \"https://vega.github.io/schema/vega-lite/v5.20.1.json\", \"datasets\": {\"data-b13915f2742adb83fcf0f5131ff087c2\": [{\"org\": \"jupyter-book\", \"repo\": \"jupyter-book\", \"number\": 5, \"org/repo\": \"jupyter-book/jupyter-book\"}, {\"org\": \"jupyter-book\", \"repo\": \"jupyterlab-myst\", \"number\": 1, \"org/repo\": \"jupyter-book/jupyterlab-myst\"}, {\"org\": \"jupyter-book\", \"repo\": \"myst-theme\", \"number\": 4, \"org/repo\": \"jupyter-book/myst-theme\"}, {\"org\": \"jupyter-book\", \"repo\": \"mystmd\", \"number\": 26, \"org/repo\": \"jupyter-book/mystmd\"}, {\"org\": \"jupyter-book\", \"repo\": \"mystmd.org\", \"number\": 2, \"org/repo\": \"jupyter-book/mystmd.org\"}, {\"org\": \"jupyter-book\", \"repo\": \"team-compass\", \"number\": 1, \"org/repo\": \"jupyter-book/team-compass\"}]}}, {\"mode\": \"vega-lite\"});\n",
       "</script>"
      ],
      "text/plain": [
       "alt.Chart(...)"
      ]
     },
     "execution_count": 17,
     "metadata": {},
     "output_type": "execute_result"
    }
   ],
   "source": [
    "closed_counts = closed.groupby(['org', 'repo']).count()['number'].reset_index()\n",
    "closed_counts['org/repo'] = closed_counts.apply(lambda a: a['org'] + '/' + a['repo'], axis=1)\n",
    "sorted_vals = closed_counts.sort_values(['number'], ascending=False)['repo'].values\n",
    "alt.Chart(data=closed_counts, title=f\"Issues closed in the last {n_days} days\").mark_bar().encode(\n",
    "    x=alt.X('repo', sort=alt.Sort(sorted_vals.tolist())),\n",
    "    y='number',\n",
    ")"
   ]
  },
  {
   "cell_type": "code",
   "execution_count": 18,
   "id": "952be3a0",
   "metadata": {
    "editable": true,
    "execution": {
     "iopub.execute_input": "2025-05-12T16:08:54.212480Z",
     "iopub.status.busy": "2025-05-12T16:08:54.212380Z",
     "iopub.status.idle": "2025-05-12T16:08:54.217908Z",
     "shell.execute_reply": "2025-05-12T16:08:54.217680Z"
    },
    "papermill": {
     "duration": 0.013521,
     "end_time": "2025-05-12T16:08:54.218605",
     "exception": false,
     "start_time": "2025-05-12T16:08:54.205084",
     "status": "completed"
    },
    "slideshow": {
     "slide_type": ""
    },
    "tags": [
     "remove_cell"
    ]
   },
   "outputs": [],
   "source": [
    "created_closed = pd.merge(created_counts.rename(columns={'number': 'created'}).drop(columns='org/repo'),\n",
    "                          closed_counts.rename(columns={'number': 'closed'}).drop(columns='org/repo'),\n",
    "                          on=['org', 'repo'], how='outer')\n",
    "\n",
    "created_closed = pd.melt(created_closed, id_vars=['org', 'repo'], var_name=\"kind\", value_name=\"count\").replace(np.nan, 0)"
   ]
  },
  {
   "cell_type": "code",
   "execution_count": 19,
   "id": "99cf6432",
   "metadata": {
    "editable": true,
    "execution": {
     "iopub.execute_input": "2025-05-12T16:08:54.233638Z",
     "iopub.status.busy": "2025-05-12T16:08:54.233443Z",
     "iopub.status.idle": "2025-05-12T16:08:54.242951Z",
     "shell.execute_reply": "2025-05-12T16:08:54.242737Z"
    },
    "papermill": {
     "duration": 0.017895,
     "end_time": "2025-05-12T16:08:54.243576",
     "exception": false,
     "start_time": "2025-05-12T16:08:54.225681",
     "status": "completed"
    },
    "scrolled": true,
    "slideshow": {
     "slide_type": ""
    },
    "tags": [
     "hide_input"
    ]
   },
   "outputs": [
    {
     "data": {
      "text/html": [
       "\n",
       "<style>\n",
       "  #altair-viz-ab80e09475104677a912f4b68d381121.vega-embed {\n",
       "    width: 100%;\n",
       "    display: flex;\n",
       "  }\n",
       "\n",
       "  #altair-viz-ab80e09475104677a912f4b68d381121.vega-embed details,\n",
       "  #altair-viz-ab80e09475104677a912f4b68d381121.vega-embed details summary {\n",
       "    position: relative;\n",
       "  }\n",
       "</style>\n",
       "<div id=\"altair-viz-ab80e09475104677a912f4b68d381121\"></div>\n",
       "<script type=\"text/javascript\">\n",
       "  var VEGA_DEBUG = (typeof VEGA_DEBUG == \"undefined\") ? {} : VEGA_DEBUG;\n",
       "  (function(spec, embedOpt){\n",
       "    let outputDiv = document.currentScript.previousElementSibling;\n",
       "    if (outputDiv.id !== \"altair-viz-ab80e09475104677a912f4b68d381121\") {\n",
       "      outputDiv = document.getElementById(\"altair-viz-ab80e09475104677a912f4b68d381121\");\n",
       "    }\n",
       "\n",
       "    const paths = {\n",
       "      \"vega\": \"https://cdn.jsdelivr.net/npm/vega@5?noext\",\n",
       "      \"vega-lib\": \"https://cdn.jsdelivr.net/npm/vega-lib?noext\",\n",
       "      \"vega-lite\": \"https://cdn.jsdelivr.net/npm/vega-lite@5.20.1?noext\",\n",
       "      \"vega-embed\": \"https://cdn.jsdelivr.net/npm/vega-embed@6?noext\",\n",
       "    };\n",
       "\n",
       "    function maybeLoadScript(lib, version) {\n",
       "      var key = `${lib.replace(\"-\", \"\")}_version`;\n",
       "      return (VEGA_DEBUG[key] == version) ?\n",
       "        Promise.resolve(paths[lib]) :\n",
       "        new Promise(function(resolve, reject) {\n",
       "          var s = document.createElement('script');\n",
       "          document.getElementsByTagName(\"head\")[0].appendChild(s);\n",
       "          s.async = true;\n",
       "          s.onload = () => {\n",
       "            VEGA_DEBUG[key] = version;\n",
       "            return resolve(paths[lib]);\n",
       "          };\n",
       "          s.onerror = () => reject(`Error loading script: ${paths[lib]}`);\n",
       "          s.src = paths[lib];\n",
       "        });\n",
       "    }\n",
       "\n",
       "    function showError(err) {\n",
       "      outputDiv.innerHTML = `<div class=\"error\" style=\"color:red;\">${err}</div>`;\n",
       "      throw err;\n",
       "    }\n",
       "\n",
       "    function displayChart(vegaEmbed) {\n",
       "      vegaEmbed(outputDiv, spec, embedOpt)\n",
       "        .catch(err => showError(`Javascript Error: ${err.message}<br>This usually means there's a typo in your chart specification. See the javascript console for the full traceback.`));\n",
       "    }\n",
       "\n",
       "    if(typeof define === \"function\" && define.amd) {\n",
       "      requirejs.config({paths});\n",
       "      let deps = [\"vega-embed\"];\n",
       "      require(deps, displayChart, err => showError(`Error loading script: ${err.message}`));\n",
       "    } else {\n",
       "      maybeLoadScript(\"vega\", \"5\")\n",
       "        .then(() => maybeLoadScript(\"vega-lite\", \"5.20.1\"))\n",
       "        .then(() => maybeLoadScript(\"vega-embed\", \"6\"))\n",
       "        .catch(showError)\n",
       "        .then(() => displayChart(vegaEmbed));\n",
       "    }\n",
       "  })({\"config\": {\"axisLeft\": {\"labelFontSize\": 15}, \"axisBottom\": {\"labelFontSize\": 15}}, \"data\": {\"name\": \"data-b97f7092b028326e87c03912aa76ba6f\"}, \"mark\": {\"type\": \"bar\"}, \"encoding\": {\"color\": {\"field\": \"kind\", \"type\": \"nominal\"}, \"column\": {\"field\": \"repo\", \"header\": {\"labelFontSize\": 12, \"title\": \"Issue activity, last 90 days for jupyter-book\", \"titleFontSize\": 15}, \"type\": \"nominal\"}, \"x\": {\"axis\": {\"labelFontSize\": 15, \"title\": \"\"}, \"field\": \"kind\", \"type\": \"nominal\"}, \"y\": {\"axis\": {\"labelFontSize\": 12, \"titleFontSize\": 15}, \"field\": \"count\", \"type\": \"quantitative\"}}, \"width\": 120, \"$schema\": \"https://vega.github.io/schema/vega-lite/v5.20.1.json\", \"datasets\": {\"data-b97f7092b028326e87c03912aa76ba6f\": [{\"org\": \"jupyter-book\", \"repo\": \"jupyter-book\", \"kind\": \"created\", \"count\": 15.0}, {\"org\": \"jupyter-book\", \"repo\": \"jupyterlab-myst\", \"kind\": \"created\", \"count\": 7.0}, {\"org\": \"jupyter-book\", \"repo\": \"myst-enhancement-proposals\", \"kind\": \"created\", \"count\": 1.0}, {\"org\": \"jupyter-book\", \"repo\": \"myst-theme\", \"kind\": \"created\", \"count\": 8.0}, {\"org\": \"jupyter-book\", \"repo\": \"mystmd\", \"kind\": \"created\", \"count\": 59.0}, {\"org\": \"jupyter-book\", \"repo\": \"mystmd.org\", \"kind\": \"created\", \"count\": 1.0}, {\"org\": \"jupyter-book\", \"repo\": \"team-compass\", \"kind\": \"created\", \"count\": 5.0}, {\"org\": \"jupyter-book\", \"repo\": \"thebe\", \"kind\": \"created\", \"count\": 2.0}, {\"org\": \"jupyter-book\", \"repo\": \"jupyter-book\", \"kind\": \"closed\", \"count\": 5.0}, {\"org\": \"jupyter-book\", \"repo\": \"jupyterlab-myst\", \"kind\": \"closed\", \"count\": 1.0}, {\"org\": \"jupyter-book\", \"repo\": \"myst-enhancement-proposals\", \"kind\": \"closed\", \"count\": 0.0}, {\"org\": \"jupyter-book\", \"repo\": \"myst-theme\", \"kind\": \"closed\", \"count\": 4.0}, {\"org\": \"jupyter-book\", \"repo\": \"mystmd\", \"kind\": \"closed\", \"count\": 26.0}, {\"org\": \"jupyter-book\", \"repo\": \"mystmd.org\", \"kind\": \"closed\", \"count\": 2.0}, {\"org\": \"jupyter-book\", \"repo\": \"team-compass\", \"kind\": \"closed\", \"count\": 1.0}, {\"org\": \"jupyter-book\", \"repo\": \"thebe\", \"kind\": \"closed\", \"count\": 0.0}]}}, {\"mode\": \"vega-lite\"});\n",
       "</script>"
      ],
      "text/plain": [
       "alt.Chart(...)"
      ]
     },
     "execution_count": 19,
     "metadata": {},
     "output_type": "execute_result"
    }
   ],
   "source": [
    "charts = []\n",
    "# Pick the top 10 repositories\n",
    "top_repos = created_closed.groupby(['repo']).sum().sort_values(by='count', ascending=False).head(10).index\n",
    "ch = alt.Chart(created_closed.query('repo in @top_repos'), width=120).mark_bar().encode(\n",
    "    x=alt.X(\"kind\", axis=alt.Axis(labelFontSize=15, title=\"\")), \n",
    "    y=alt.Y('count', axis=alt.Axis(titleFontSize=15, labelFontSize=12)),\n",
    "    color='kind',\n",
    "    column=alt.Column(\"repo\", header=alt.Header(title=f\"Issue activity, last {n_days} days for {github_org}\", titleFontSize=15, labelFontSize=12))\n",
    ")\n",
    "ch"
   ]
  },
  {
   "cell_type": "code",
   "execution_count": 20,
   "id": "4cc74d05",
   "metadata": {
    "editable": true,
    "execution": {
     "iopub.execute_input": "2025-05-12T16:08:54.258982Z",
     "iopub.status.busy": "2025-05-12T16:08:54.258886Z",
     "iopub.status.idle": "2025-05-12T16:08:54.261969Z",
     "shell.execute_reply": "2025-05-12T16:08:54.261751Z"
    },
    "papermill": {
     "duration": 0.011277,
     "end_time": "2025-05-12T16:08:54.262615",
     "exception": false,
     "start_time": "2025-05-12T16:08:54.251338",
     "status": "completed"
    },
    "slideshow": {
     "slide_type": ""
    },
    "tags": [
     "remove_cell"
    ]
   },
   "outputs": [],
   "source": [
    "# Set to datetime\n",
    "for kind in ['created_at', 'closed_at']:\n",
    "    closed.loc[:, kind] = pd.to_datetime(closed[kind])\n",
    "    \n",
    "closed.loc[:, 'time_open'] = closed['closed_at'] - closed['created_at']\n",
    "closed.loc[:, 'time_open'] = closed['time_open'].dt.total_seconds()"
   ]
  },
  {
   "cell_type": "code",
   "execution_count": 21,
   "id": "f050845c",
   "metadata": {
    "editable": true,
    "execution": {
     "iopub.execute_input": "2025-05-12T16:08:54.277378Z",
     "iopub.status.busy": "2025-05-12T16:08:54.277285Z",
     "iopub.status.idle": "2025-05-12T16:08:54.285247Z",
     "shell.execute_reply": "2025-05-12T16:08:54.285029Z"
    },
    "papermill": {
     "duration": 0.016177,
     "end_time": "2025-05-12T16:08:54.285898",
     "exception": false,
     "start_time": "2025-05-12T16:08:54.269721",
     "status": "completed"
    },
    "slideshow": {
     "slide_type": ""
    },
    "tags": [
     "hide_input"
    ]
   },
   "outputs": [
    {
     "data": {
      "text/html": [
       "\n",
       "<style>\n",
       "  #altair-viz-76e7475701534323a689389b404cdc0c.vega-embed {\n",
       "    width: 100%;\n",
       "    display: flex;\n",
       "  }\n",
       "\n",
       "  #altair-viz-76e7475701534323a689389b404cdc0c.vega-embed details,\n",
       "  #altair-viz-76e7475701534323a689389b404cdc0c.vega-embed details summary {\n",
       "    position: relative;\n",
       "  }\n",
       "</style>\n",
       "<div id=\"altair-viz-76e7475701534323a689389b404cdc0c\"></div>\n",
       "<script type=\"text/javascript\">\n",
       "  var VEGA_DEBUG = (typeof VEGA_DEBUG == \"undefined\") ? {} : VEGA_DEBUG;\n",
       "  (function(spec, embedOpt){\n",
       "    let outputDiv = document.currentScript.previousElementSibling;\n",
       "    if (outputDiv.id !== \"altair-viz-76e7475701534323a689389b404cdc0c\") {\n",
       "      outputDiv = document.getElementById(\"altair-viz-76e7475701534323a689389b404cdc0c\");\n",
       "    }\n",
       "\n",
       "    const paths = {\n",
       "      \"vega\": \"https://cdn.jsdelivr.net/npm/vega@5?noext\",\n",
       "      \"vega-lib\": \"https://cdn.jsdelivr.net/npm/vega-lib?noext\",\n",
       "      \"vega-lite\": \"https://cdn.jsdelivr.net/npm/vega-lite@5.20.1?noext\",\n",
       "      \"vega-embed\": \"https://cdn.jsdelivr.net/npm/vega-embed@6?noext\",\n",
       "    };\n",
       "\n",
       "    function maybeLoadScript(lib, version) {\n",
       "      var key = `${lib.replace(\"-\", \"\")}_version`;\n",
       "      return (VEGA_DEBUG[key] == version) ?\n",
       "        Promise.resolve(paths[lib]) :\n",
       "        new Promise(function(resolve, reject) {\n",
       "          var s = document.createElement('script');\n",
       "          document.getElementsByTagName(\"head\")[0].appendChild(s);\n",
       "          s.async = true;\n",
       "          s.onload = () => {\n",
       "            VEGA_DEBUG[key] = version;\n",
       "            return resolve(paths[lib]);\n",
       "          };\n",
       "          s.onerror = () => reject(`Error loading script: ${paths[lib]}`);\n",
       "          s.src = paths[lib];\n",
       "        });\n",
       "    }\n",
       "\n",
       "    function showError(err) {\n",
       "      outputDiv.innerHTML = `<div class=\"error\" style=\"color:red;\">${err}</div>`;\n",
       "      throw err;\n",
       "    }\n",
       "\n",
       "    function displayChart(vegaEmbed) {\n",
       "      vegaEmbed(outputDiv, spec, embedOpt)\n",
       "        .catch(err => showError(`Javascript Error: ${err.message}<br>This usually means there's a typo in your chart specification. See the javascript console for the full traceback.`));\n",
       "    }\n",
       "\n",
       "    if(typeof define === \"function\" && define.amd) {\n",
       "      requirejs.config({paths});\n",
       "      let deps = [\"vega-embed\"];\n",
       "      require(deps, displayChart, err => showError(`Error loading script: ${err.message}`));\n",
       "    } else {\n",
       "      maybeLoadScript(\"vega\", \"5\")\n",
       "        .then(() => maybeLoadScript(\"vega-lite\", \"5.20.1\"))\n",
       "        .then(() => maybeLoadScript(\"vega-embed\", \"6\"))\n",
       "        .catch(showError)\n",
       "        .then(() => displayChart(vegaEmbed));\n",
       "    }\n",
       "  })({\"config\": {\"axisLeft\": {\"labelFontSize\": 15}, \"axisBottom\": {\"labelFontSize\": 15}}, \"data\": {\"name\": \"data-8771bf684e078d9f43b84a4991f3ad06\"}, \"mark\": {\"type\": \"bar\"}, \"encoding\": {\"x\": {\"field\": \"repo\", \"sort\": [\"myst-theme\", \"jupyterlab-myst\", \"team-compass\", \"mystmd.org\", \"mystmd\", \"jupyter-book\"], \"type\": \"nominal\"}, \"y\": {\"field\": \"time_open\", \"title\": \"Median Days Open\", \"type\": \"quantitative\"}}, \"title\": \"Time to close for issues closed in the last 90 days\", \"$schema\": \"https://vega.github.io/schema/vega-lite/v5.20.1.json\", \"datasets\": {\"data-8771bf684e078d9f43b84a4991f3ad06\": [{\"org\": \"jupyter-book\", \"repo\": \"jupyter-book\", \"time_open\": 0.016666666666666666, \"org/repo\": \"jupyter-book/jupyter-book\"}, {\"org\": \"jupyter-book\", \"repo\": \"jupyterlab-myst\", \"time_open\": 42.556412037037035, \"org/repo\": \"jupyter-book/jupyterlab-myst\"}, {\"org\": \"jupyter-book\", \"repo\": \"myst-theme\", \"time_open\": 134.35910879629628, \"org/repo\": \"jupyter-book/myst-theme\"}, {\"org\": \"jupyter-book\", \"repo\": \"mystmd\", \"time_open\": 1.4885590277777778, \"org/repo\": \"jupyter-book/mystmd\"}, {\"org\": \"jupyter-book\", \"repo\": \"mystmd.org\", \"time_open\": 7.516956018518519, \"org/repo\": \"jupyter-book/mystmd.org\"}, {\"org\": \"jupyter-book\", \"repo\": \"team-compass\", \"time_open\": 40.9659375, \"org/repo\": \"jupyter-book/team-compass\"}]}}, {\"mode\": \"vega-lite\"});\n",
       "</script>"
      ],
      "text/plain": [
       "alt.Chart(...)"
      ]
     },
     "execution_count": 21,
     "metadata": {},
     "output_type": "execute_result"
    }
   ],
   "source": [
    "time_open = closed.groupby(['org', 'repo']).agg({'time_open': 'median'}).reset_index()\n",
    "time_open['time_open'] = time_open['time_open'] / (60 * 60 * 24)\n",
    "time_open['org/repo'] = time_open.apply(lambda a: a['org'] + '/' + a['repo'], axis=1)\n",
    "sorted_vals = time_open.sort_values(['org', 'time_open'], ascending=False)['repo'].values\n",
    "alt.Chart(data=time_open, title=f\"Time to close for issues closed in the last {n_days} days\").mark_bar().encode(\n",
    "    x=alt.X('repo', sort=alt.Sort(sorted_vals.tolist())),\n",
    "    y=alt.Y('time_open', title=\"Median Days Open\"),\n",
    ")"
   ]
  },
  {
   "cell_type": "markdown",
   "id": "49055cf8",
   "metadata": {
    "editable": true,
    "papermill": {
     "duration": 0.007357,
     "end_time": "2025-05-12T16:08:54.300720",
     "exception": false,
     "start_time": "2025-05-12T16:08:54.293363",
     "status": "completed"
    },
    "slideshow": {
     "slide_type": ""
    },
    "tags": []
   },
   "source": [
    "## Most-upvoted issues"
   ]
  },
  {
   "cell_type": "code",
   "execution_count": 22,
   "id": "1758280c",
   "metadata": {
    "editable": true,
    "execution": {
     "iopub.execute_input": "2025-05-12T16:08:54.315593Z",
     "iopub.status.busy": "2025-05-12T16:08:54.315486Z",
     "iopub.status.idle": "2025-05-12T16:08:54.325185Z",
     "shell.execute_reply": "2025-05-12T16:08:54.324962Z"
    },
    "papermill": {
     "duration": 0.017884,
     "end_time": "2025-05-12T16:08:54.325828",
     "exception": false,
     "start_time": "2025-05-12T16:08:54.307944",
     "status": "completed"
    },
    "slideshow": {
     "slide_type": ""
    },
    "tags": [
     "hide_input"
    ]
   },
   "outputs": [
    {
     "data": {
      "application/vnd.jupyter.widget-view+json": {
       "model_id": "357b4cb97016435f98d710a3f18f4245",
       "version_major": 2,
       "version_minor": 0
      },
      "text/plain": [
       "HTML(value='<ul>\\n<li>(35) Support for RISE slides - jupyter-book - <a href=\"https://github.com/jupyter-book/j…"
      ]
     },
     "execution_count": 22,
     "metadata": {},
     "output_type": "execute_result"
    }
   ],
   "source": [
    "thumbsup = issues.query(\"state == 'open'\").sort_values(\"positive\", ascending=False).head(25)\n",
    "thumbsup = thumbsup[[\"title\", \"url\", \"number\", \"positive\", \"repo\"]]\n",
    "\n",
    "text = []\n",
    "for ii, irow in thumbsup.iterrows():\n",
    "    itext = f\"- ({irow['positive']}) {irow['title']} - {irow['repo']} - [#{irow['number']}]({irow['url']})\"\n",
    "    text.append(itext)\n",
    "text = '\\n'.join(text)\n",
    "HTML(markdown(text))"
   ]
  },
  {
   "cell_type": "markdown",
   "id": "a53835cc",
   "metadata": {
    "editable": true,
    "papermill": {
     "duration": 0.007354,
     "end_time": "2025-05-12T16:08:54.340931",
     "exception": false,
     "start_time": "2025-05-12T16:08:54.333577",
     "status": "completed"
    },
    "slideshow": {
     "slide_type": ""
    },
    "tags": []
   },
   "source": [
    "## Commenters across repositories\n",
    "\n",
    "These are commenters across all issues and pull requests in the last several days.\n",
    "These are colored by the commenter's association with the organization. For information\n",
    "about what these associations mean, [see this StackOverflow post](https://stackoverflow.com/a/28866914/1927102)."
   ]
  },
  {
   "cell_type": "code",
   "execution_count": 23,
   "id": "c43c485e",
   "metadata": {
    "editable": true,
    "execution": {
     "iopub.execute_input": "2025-05-12T16:08:54.356135Z",
     "iopub.status.busy": "2025-05-12T16:08:54.355941Z",
     "iopub.status.idle": "2025-05-12T16:08:54.360968Z",
     "shell.execute_reply": "2025-05-12T16:08:54.360751Z"
    },
    "papermill": {
     "duration": 0.013368,
     "end_time": "2025-05-12T16:08:54.361591",
     "exception": false,
     "start_time": "2025-05-12T16:08:54.348223",
     "status": "completed"
    },
    "slideshow": {
     "slide_type": ""
    },
    "tags": [
     "remove_cell"
    ]
   },
   "outputs": [],
   "source": [
    "commentors = (\n",
    "    comments\n",
    "    .query(\"created_at > @start_date and created_at < @stop_date\")\n",
    "    .groupby(['org', 'repo', 'login', 'author_association'])\n",
    "    .count().rename(columns={'id_issue': 'count'})['count']\n",
    "    .reset_index()\n",
    "    .sort_values(['org', 'count'], ascending=False)\n",
    ")"
   ]
  },
  {
   "cell_type": "code",
   "execution_count": 24,
   "id": "ca132dfd",
   "metadata": {
    "editable": true,
    "execution": {
     "iopub.execute_input": "2025-05-12T16:08:54.376873Z",
     "iopub.status.busy": "2025-05-12T16:08:54.376761Z",
     "iopub.status.idle": "2025-05-12T16:08:54.387251Z",
     "shell.execute_reply": "2025-05-12T16:08:54.387009Z"
    },
    "papermill": {
     "duration": 0.018847,
     "end_time": "2025-05-12T16:08:54.387915",
     "exception": false,
     "start_time": "2025-05-12T16:08:54.369068",
     "status": "completed"
    },
    "slideshow": {
     "slide_type": ""
    },
    "tags": [
     "hide_input"
    ]
   },
   "outputs": [
    {
     "data": {
      "text/html": [
       "\n",
       "<style>\n",
       "  #altair-viz-e7b1445c260148089b0f84f80a17bba0.vega-embed {\n",
       "    width: 100%;\n",
       "    display: flex;\n",
       "  }\n",
       "\n",
       "  #altair-viz-e7b1445c260148089b0f84f80a17bba0.vega-embed details,\n",
       "  #altair-viz-e7b1445c260148089b0f84f80a17bba0.vega-embed details summary {\n",
       "    position: relative;\n",
       "  }\n",
       "</style>\n",
       "<div id=\"altair-viz-e7b1445c260148089b0f84f80a17bba0\"></div>\n",
       "<script type=\"text/javascript\">\n",
       "  var VEGA_DEBUG = (typeof VEGA_DEBUG == \"undefined\") ? {} : VEGA_DEBUG;\n",
       "  (function(spec, embedOpt){\n",
       "    let outputDiv = document.currentScript.previousElementSibling;\n",
       "    if (outputDiv.id !== \"altair-viz-e7b1445c260148089b0f84f80a17bba0\") {\n",
       "      outputDiv = document.getElementById(\"altair-viz-e7b1445c260148089b0f84f80a17bba0\");\n",
       "    }\n",
       "\n",
       "    const paths = {\n",
       "      \"vega\": \"https://cdn.jsdelivr.net/npm/vega@5?noext\",\n",
       "      \"vega-lib\": \"https://cdn.jsdelivr.net/npm/vega-lib?noext\",\n",
       "      \"vega-lite\": \"https://cdn.jsdelivr.net/npm/vega-lite@5.20.1?noext\",\n",
       "      \"vega-embed\": \"https://cdn.jsdelivr.net/npm/vega-embed@6?noext\",\n",
       "    };\n",
       "\n",
       "    function maybeLoadScript(lib, version) {\n",
       "      var key = `${lib.replace(\"-\", \"\")}_version`;\n",
       "      return (VEGA_DEBUG[key] == version) ?\n",
       "        Promise.resolve(paths[lib]) :\n",
       "        new Promise(function(resolve, reject) {\n",
       "          var s = document.createElement('script');\n",
       "          document.getElementsByTagName(\"head\")[0].appendChild(s);\n",
       "          s.async = true;\n",
       "          s.onload = () => {\n",
       "            VEGA_DEBUG[key] = version;\n",
       "            return resolve(paths[lib]);\n",
       "          };\n",
       "          s.onerror = () => reject(`Error loading script: ${paths[lib]}`);\n",
       "          s.src = paths[lib];\n",
       "        });\n",
       "    }\n",
       "\n",
       "    function showError(err) {\n",
       "      outputDiv.innerHTML = `<div class=\"error\" style=\"color:red;\">${err}</div>`;\n",
       "      throw err;\n",
       "    }\n",
       "\n",
       "    function displayChart(vegaEmbed) {\n",
       "      vegaEmbed(outputDiv, spec, embedOpt)\n",
       "        .catch(err => showError(`Javascript Error: ${err.message}<br>This usually means there's a typo in your chart specification. See the javascript console for the full traceback.`));\n",
       "    }\n",
       "\n",
       "    if(typeof define === \"function\" && define.amd) {\n",
       "      requirejs.config({paths});\n",
       "      let deps = [\"vega-embed\"];\n",
       "      require(deps, displayChart, err => showError(`Error loading script: ${err.message}`));\n",
       "    } else {\n",
       "      maybeLoadScript(\"vega\", \"5\")\n",
       "        .then(() => maybeLoadScript(\"vega-lite\", \"5.20.1\"))\n",
       "        .then(() => maybeLoadScript(\"vega-embed\", \"6\"))\n",
       "        .catch(showError)\n",
       "        .then(() => displayChart(vegaEmbed));\n",
       "    }\n",
       "  })({\"config\": {\"axisLeft\": {\"labelFontSize\": 15}, \"axisBottom\": {\"labelFontSize\": 15}}, \"hconcat\": [{\"mark\": {\"type\": \"bar\"}, \"encoding\": {\"color\": {\"field\": \"author_association\", \"scale\": {\"domain\": [\"MEMBER\", \"CONTRIBUTOR\", \"COLLABORATOR\", \"NONE\"], \"range\": [\"rgb(211.82745098039214, 211.82745098039214, 211.82745098039214)\", \"rgb(166.98562091503268, 229.89803921568628, 166.98562091503268)\", \"rgb(96.37647058823529, 192.75294117647059, 96.37647058823529)\", \"rgb(0.0, 100.3921568627451, 0.0)\"]}, \"type\": \"nominal\"}, \"x\": {\"field\": \"login\", \"type\": \"nominal\"}, \"y\": {\"field\": \"count\", \"type\": \"quantitative\"}}, \"title\": \"Top 50 commentors for ('jupyter-book',) in the last 90 days\"}], \"data\": {\"name\": \"data-baae71b3bbc3a1bdd571ff97e7822ab7\"}, \"$schema\": \"https://vega.github.io/schema/vega-lite/v5.20.1.json\", \"datasets\": {\"data-baae71b3bbc3a1bdd571ff97e7822ab7\": [{\"login\": \"agoose77\", \"count\": 50, \"author_association\": \"MEMBER\"}, {\"login\": \"rowanc1\", \"count\": 46, \"author_association\": \"MEMBER\"}, {\"login\": \"choldgraf\", \"count\": 39, \"author_association\": \"MEMBER\"}, {\"login\": \"da5nsy\", \"count\": 17, \"author_association\": \"NONE\"}, {\"login\": \"paugier\", \"count\": 12, \"author_association\": \"NONE\"}, {\"login\": \"fperez\", \"count\": 12, \"author_association\": \"CONTRIBUTOR\"}, {\"login\": \"parmentelat\", \"count\": 12, \"author_association\": \"CONTRIBUTOR\"}, {\"login\": \"krassowski\", \"count\": 9, \"author_association\": \"NONE\"}, {\"login\": \"JimMadge\", \"count\": 9, \"author_association\": \"CONTRIBUTOR\"}, {\"login\": \"stevejpurves\", \"count\": 9, \"author_association\": \"MEMBER\"}, {\"login\": \"fwkoch\", \"count\": 6, \"author_association\": \"MEMBER\"}, {\"login\": \"acocac\", \"count\": 6, \"author_association\": \"NONE\"}, {\"login\": \"stefanv\", \"count\": 5, \"author_association\": \"COLLABORATOR\"}, {\"login\": \"FreekPols\", \"count\": 5, \"author_association\": \"NONE\"}, {\"login\": \"michaelaye\", \"count\": 4, \"author_association\": \"NONE\"}, {\"login\": \"paulskrzypczyk\", \"count\": 4, \"author_association\": \"NONE\"}, {\"login\": \"nthiery\", \"count\": 3, \"author_association\": \"CONTRIBUTOR\"}, {\"login\": \"mstoll1602\", \"count\": 3, \"author_association\": \"NONE\"}, {\"login\": \"mmcky\", \"count\": 3, \"author_association\": \"CONTRIBUTOR\"}, {\"login\": \"jan-david-fischbach\", \"count\": 3, \"author_association\": \"CONTRIBUTOR\"}, {\"login\": \"mforbes\", \"count\": 3, \"author_association\": \"NONE\"}, {\"login\": \"vangeest\", \"count\": 3, \"author_association\": \"NONE\"}, {\"login\": \"reyman\", \"count\": 3, \"author_association\": \"NONE\"}, {\"login\": \"dengzeyu\", \"count\": 2, \"author_association\": \"NONE\"}, {\"login\": \"atharvaaalok\", \"count\": 2, \"author_association\": \"NONE\"}, {\"login\": \"andrader\", \"count\": 2, \"author_association\": \"NONE\"}, {\"login\": \"ryanlovett\", \"count\": 2, \"author_association\": \"CONTRIBUTOR\"}, {\"login\": \"Joseph-Hui\", \"count\": 2, \"author_association\": \"NONE\"}, {\"login\": \"Joecstarr\", \"count\": 2, \"author_association\": \"NONE\"}, {\"login\": \"microcoder\", \"count\": 2, \"author_association\": \"NONE\"}, {\"login\": \"manimaransudha\", \"count\": 2, \"author_association\": \"NONE\"}, {\"login\": \"prateekshukla1108\", \"count\": 1, \"author_association\": \"NONE\"}, {\"login\": \"romanlutz\", \"count\": 1, \"author_association\": \"NONE\"}, {\"login\": \"ntluong95\", \"count\": 1, \"author_association\": \"NONE\"}, {\"login\": \"thewtex\", \"count\": 1, \"author_association\": \"NONE\"}, {\"login\": \"ulthiel\", \"count\": 1, \"author_association\": \"NONE\"}, {\"login\": \"unsektor\", \"count\": 1, \"author_association\": \"NONE\"}, {\"login\": \"lrfinotti\", \"count\": 1, \"author_association\": \"NONE\"}, {\"login\": \"AllanChain\", \"count\": 1, \"author_association\": \"NONE\"}, {\"login\": \"kburchfiel\", \"count\": 1, \"author_association\": \"NONE\"}, {\"login\": \"cpraveen\", \"count\": 1, \"author_association\": \"NONE\"}, {\"login\": \"BodoBurger\", \"count\": 1, \"author_association\": \"NONE\"}, {\"login\": \"ELind77\", \"count\": 1, \"author_association\": \"NONE\"}, {\"login\": \"Gijsreyn\", \"count\": 1, \"author_association\": \"NONE\"}, {\"login\": \"KirstieJane\", \"count\": 1, \"author_association\": \"NONE\"}, {\"login\": \"MimoHasPurpose\", \"count\": 1, \"author_association\": \"NONE\"}, {\"login\": \"Paul-Aime\", \"count\": 1, \"author_association\": \"NONE\"}, {\"login\": \"StefanRR\", \"count\": 1, \"author_association\": \"CONTRIBUTOR\"}, {\"login\": \"afeld\", \"count\": 1, \"author_association\": \"NONE\"}, {\"login\": \"arm61\", \"count\": 1, \"author_association\": \"NONE\"}]}}, {\"mode\": \"vega-lite\"});\n",
       "</script>"
      ],
      "text/plain": [
       "alt.HConcatChart(...)"
      ]
     },
     "execution_count": 24,
     "metadata": {},
     "output_type": "execute_result"
    }
   ],
   "source": [
    "n_plot = 50\n",
    "charts = []\n",
    "for ii, (iorg, idata) in enumerate(commentors.groupby(['org'])):\n",
    "    title = f\"Top {n_plot} commentors for {iorg} in the last {n_days} days\"\n",
    "    idata = idata.groupby('login', as_index=False).agg({'count': 'sum', 'author_association': 'first'})\n",
    "    idata = idata.sort_values('count', ascending=False).head(n_plot)\n",
    "    ch = alt.Chart(data=idata.head(n_plot), title=title).mark_bar().encode(\n",
    "        x='login',\n",
    "        y='count',\n",
    "        color=alt.Color('author_association', scale=alt.Scale(domain=author_types, range=author_colors))\n",
    "    )\n",
    "    charts.append(ch)\n",
    "alt.hconcat(*charts)"
   ]
  },
  {
   "cell_type": "markdown",
   "id": "889d13db",
   "metadata": {
    "editable": true,
    "papermill": {
     "duration": 0.00773,
     "end_time": "2025-05-12T16:08:54.403444",
     "exception": false,
     "start_time": "2025-05-12T16:08:54.395714",
     "status": "completed"
    },
    "slideshow": {
     "slide_type": ""
    },
    "tags": []
   },
   "source": [
    "## First responders\n",
    "\n",
    "First responders are the first people to respond to a new issue in one of the repositories.\n",
    "The following plots show first responders for recently-created issues."
   ]
  },
  {
   "cell_type": "code",
   "execution_count": 25,
   "id": "4d8ee477",
   "metadata": {
    "editable": true,
    "execution": {
     "iopub.execute_input": "2025-05-12T16:08:54.419664Z",
     "iopub.status.busy": "2025-05-12T16:08:54.419488Z",
     "iopub.status.idle": "2025-05-12T16:08:54.438870Z",
     "shell.execute_reply": "2025-05-12T16:08:54.438593Z"
    },
    "papermill": {
     "duration": 0.028539,
     "end_time": "2025-05-12T16:08:54.439648",
     "exception": false,
     "start_time": "2025-05-12T16:08:54.411109",
     "status": "completed"
    },
    "slideshow": {
     "slide_type": ""
    },
    "tags": [
     "remove_cell"
    ]
   },
   "outputs": [],
   "source": [
    "first_comments = []\n",
    "latest_comments = comments.query(\"created_at > @start_date\")\n",
    "for (org, repo, issue_id), i_comments in latest_comments.groupby(['org', 'repo', 'id_issue']):\n",
    "    ix_min = pd.to_datetime(i_comments['created_at']).idxmin()\n",
    "    first_comment = i_comments.loc[ix_min]\n",
    "    if isinstance(first_comment, pd.DataFrame):\n",
    "        first_comment = first_comment.iloc[0]\n",
    "    first_comments.append(first_comment)\n",
    "first_comments = pd.concat(first_comments, axis=1).T\n",
    "\n",
    "# Make up counts for viz\n",
    "first_responder_counts = first_comments.groupby(['org', 'login', 'author_association'], as_index=False).\\\n",
    "    count().rename(columns={'id_issue': 'n_first_responses'}).sort_values(['org', 'n_first_responses'], ascending=False)\n"
   ]
  },
  {
   "cell_type": "code",
   "execution_count": 26,
   "id": "8ce5d08b",
   "metadata": {
    "editable": true,
    "execution": {
     "iopub.execute_input": "2025-05-12T16:08:54.455414Z",
     "iopub.status.busy": "2025-05-12T16:08:54.455304Z",
     "iopub.status.idle": "2025-05-12T16:08:54.465082Z",
     "shell.execute_reply": "2025-05-12T16:08:54.464847Z"
    },
    "papermill": {
     "duration": 0.018445,
     "end_time": "2025-05-12T16:08:54.465789",
     "exception": false,
     "start_time": "2025-05-12T16:08:54.447344",
     "status": "completed"
    },
    "slideshow": {
     "slide_type": ""
    },
    "tags": [
     "hide_input"
    ]
   },
   "outputs": [
    {
     "data": {
      "text/html": [
       "\n",
       "<style>\n",
       "  #altair-viz-a789057862d74c4088e73937ba6b6821.vega-embed {\n",
       "    width: 100%;\n",
       "    display: flex;\n",
       "  }\n",
       "\n",
       "  #altair-viz-a789057862d74c4088e73937ba6b6821.vega-embed details,\n",
       "  #altair-viz-a789057862d74c4088e73937ba6b6821.vega-embed details summary {\n",
       "    position: relative;\n",
       "  }\n",
       "</style>\n",
       "<div id=\"altair-viz-a789057862d74c4088e73937ba6b6821\"></div>\n",
       "<script type=\"text/javascript\">\n",
       "  var VEGA_DEBUG = (typeof VEGA_DEBUG == \"undefined\") ? {} : VEGA_DEBUG;\n",
       "  (function(spec, embedOpt){\n",
       "    let outputDiv = document.currentScript.previousElementSibling;\n",
       "    if (outputDiv.id !== \"altair-viz-a789057862d74c4088e73937ba6b6821\") {\n",
       "      outputDiv = document.getElementById(\"altair-viz-a789057862d74c4088e73937ba6b6821\");\n",
       "    }\n",
       "\n",
       "    const paths = {\n",
       "      \"vega\": \"https://cdn.jsdelivr.net/npm/vega@5?noext\",\n",
       "      \"vega-lib\": \"https://cdn.jsdelivr.net/npm/vega-lib?noext\",\n",
       "      \"vega-lite\": \"https://cdn.jsdelivr.net/npm/vega-lite@5.20.1?noext\",\n",
       "      \"vega-embed\": \"https://cdn.jsdelivr.net/npm/vega-embed@6?noext\",\n",
       "    };\n",
       "\n",
       "    function maybeLoadScript(lib, version) {\n",
       "      var key = `${lib.replace(\"-\", \"\")}_version`;\n",
       "      return (VEGA_DEBUG[key] == version) ?\n",
       "        Promise.resolve(paths[lib]) :\n",
       "        new Promise(function(resolve, reject) {\n",
       "          var s = document.createElement('script');\n",
       "          document.getElementsByTagName(\"head\")[0].appendChild(s);\n",
       "          s.async = true;\n",
       "          s.onload = () => {\n",
       "            VEGA_DEBUG[key] = version;\n",
       "            return resolve(paths[lib]);\n",
       "          };\n",
       "          s.onerror = () => reject(`Error loading script: ${paths[lib]}`);\n",
       "          s.src = paths[lib];\n",
       "        });\n",
       "    }\n",
       "\n",
       "    function showError(err) {\n",
       "      outputDiv.innerHTML = `<div class=\"error\" style=\"color:red;\">${err}</div>`;\n",
       "      throw err;\n",
       "    }\n",
       "\n",
       "    function displayChart(vegaEmbed) {\n",
       "      vegaEmbed(outputDiv, spec, embedOpt)\n",
       "        .catch(err => showError(`Javascript Error: ${err.message}<br>This usually means there's a typo in your chart specification. See the javascript console for the full traceback.`));\n",
       "    }\n",
       "\n",
       "    if(typeof define === \"function\" && define.amd) {\n",
       "      requirejs.config({paths});\n",
       "      let deps = [\"vega-embed\"];\n",
       "      require(deps, displayChart, err => showError(`Error loading script: ${err.message}`));\n",
       "    } else {\n",
       "      maybeLoadScript(\"vega\", \"5\")\n",
       "        .then(() => maybeLoadScript(\"vega-lite\", \"5.20.1\"))\n",
       "        .then(() => maybeLoadScript(\"vega-embed\", \"6\"))\n",
       "        .catch(showError)\n",
       "        .then(() => displayChart(vegaEmbed));\n",
       "    }\n",
       "  })({\"config\": {\"axisLeft\": {\"labelFontSize\": 15}, \"axisBottom\": {\"labelFontSize\": 15}}, \"data\": {\"name\": \"data-1feb46f6367840b9bd8204447a526d47\"}, \"mark\": {\"type\": \"bar\"}, \"encoding\": {\"color\": {\"field\": \"author_association\", \"scale\": {\"domain\": [\"MEMBER\", \"CONTRIBUTOR\", \"COLLABORATOR\", \"NONE\"], \"range\": [\"rgb(211.82745098039214, 211.82745098039214, 211.82745098039214)\", \"rgb(166.98562091503268, 229.89803921568628, 166.98562091503268)\", \"rgb(96.37647058823529, 192.75294117647059, 96.37647058823529)\", \"rgb(0.0, 100.3921568627451, 0.0)\"]}, \"type\": \"nominal\"}, \"x\": {\"field\": \"login\", \"type\": \"nominal\"}, \"y\": {\"field\": \"n_first_responses\", \"type\": \"quantitative\"}}, \"title\": \"Top 50 first responders for jupyter-book in the last 90 days\", \"$schema\": \"https://vega.github.io/schema/vega-lite/v5.20.1.json\", \"datasets\": {\"data-1feb46f6367840b9bd8204447a526d47\": [{\"login\": \"agoose77\", \"n_first_responses\": 21, \"author_association\": \"MEMBER\"}, {\"login\": \"rowanc1\", \"n_first_responses\": 18, \"author_association\": \"MEMBER\"}, {\"login\": \"choldgraf\", \"n_first_responses\": 11, \"author_association\": \"MEMBER\"}, {\"login\": \"fperez\", \"n_first_responses\": 6, \"author_association\": \"CONTRIBUTOR\"}, {\"login\": \"FreekPols\", \"n_first_responses\": 4, \"author_association\": \"NONE\"}, {\"login\": \"parmentelat\", \"n_first_responses\": 4, \"author_association\": \"CONTRIBUTOR\"}, {\"login\": \"da5nsy\", \"n_first_responses\": 4, \"author_association\": \"NONE\"}, {\"login\": \"stevejpurves\", \"n_first_responses\": 3, \"author_association\": \"MEMBER\"}, {\"login\": \"fwkoch\", \"n_first_responses\": 3, \"author_association\": \"MEMBER\"}, {\"login\": \"JimMadge\", \"n_first_responses\": 2, \"author_association\": \"CONTRIBUTOR\"}, {\"login\": \"Joseph-Hui\", \"n_first_responses\": 2, \"author_association\": \"NONE\"}, {\"login\": \"krassowski\", \"n_first_responses\": 2, \"author_association\": \"NONE\"}, {\"login\": \"mforbes\", \"n_first_responses\": 2, \"author_association\": \"NONE\"}, {\"login\": \"michaelaye\", \"n_first_responses\": 2, \"author_association\": \"NONE\"}, {\"login\": \"BodoBurger\", \"n_first_responses\": 1, \"author_association\": \"NONE\"}, {\"login\": \"kburchfiel\", \"n_first_responses\": 1, \"author_association\": \"NONE\"}, {\"login\": \"ntluong95\", \"n_first_responses\": 1, \"author_association\": \"NONE\"}, {\"login\": \"mmcky\", \"n_first_responses\": 1, \"author_association\": \"NONE\"}, {\"login\": \"jose-neta\", \"n_first_responses\": 1, \"author_association\": \"NONE\"}, {\"login\": \"paugier\", \"n_first_responses\": 1, \"author_association\": \"NONE\"}, {\"login\": \"paulskrzypczyk\", \"n_first_responses\": 1, \"author_association\": \"NONE\"}, {\"login\": \"romanlutz\", \"n_first_responses\": 1, \"author_association\": \"NONE\"}, {\"login\": \"ulthiel\", \"n_first_responses\": 1, \"author_association\": \"NONE\"}, {\"login\": \"juhuebner\", \"n_first_responses\": 1, \"author_association\": \"NONE\"}, {\"login\": \"hadesto\", \"n_first_responses\": 1, \"author_association\": \"NONE\"}, {\"login\": \"joelmiller\", \"n_first_responses\": 1, \"author_association\": \"NONE\"}, {\"login\": \"jmelo11\", \"n_first_responses\": 1, \"author_association\": \"NONE\"}, {\"login\": \"jan-david-fischbach\", \"n_first_responses\": 1, \"author_association\": \"CONTRIBUTOR\"}, {\"login\": \"holmrenser\", \"n_first_responses\": 1, \"author_association\": \"NONE\"}, {\"login\": \"glaebhoerl\", \"n_first_responses\": 1, \"author_association\": \"NONE\"}, {\"login\": \"giswqs\", \"n_first_responses\": 1, \"author_association\": \"NONE\"}, {\"login\": \"dealmeidavf\", \"n_first_responses\": 1, \"author_association\": \"NONE\"}, {\"login\": \"arm61\", \"n_first_responses\": 1, \"author_association\": \"NONE\"}, {\"login\": \"andrader\", \"n_first_responses\": 1, \"author_association\": \"NONE\"}, {\"login\": \"afeld\", \"n_first_responses\": 1, \"author_association\": \"NONE\"}, {\"login\": \"acocac\", \"n_first_responses\": 1, \"author_association\": \"NONE\"}, {\"login\": \"Paul-Aime\", \"n_first_responses\": 1, \"author_association\": \"NONE\"}, {\"login\": \"MimoHasPurpose\", \"n_first_responses\": 1, \"author_association\": \"NONE\"}, {\"login\": \"Joecstarr\", \"n_first_responses\": 1, \"author_association\": \"NONE\"}, {\"login\": \"Gijsreyn\", \"n_first_responses\": 1, \"author_association\": \"NONE\"}, {\"login\": \"unsektor\", \"n_first_responses\": 1, \"author_association\": \"NONE\"}]}}, {\"mode\": \"vega-lite\"});\n",
       "</script>"
      ],
      "text/plain": [
       "alt.Chart(...)"
      ]
     },
     "execution_count": 26,
     "metadata": {},
     "output_type": "execute_result"
    }
   ],
   "source": [
    "n_plot = 50\n",
    "\n",
    "title = f\"Top {n_plot} first responders for {github_org} in the last {n_days} days\"\n",
    "idata = first_responder_counts.groupby('login', as_index=False).agg({'n_first_responses': 'sum', 'author_association': 'first'})\n",
    "idata = idata.sort_values('n_first_responses', ascending=False).head(n_plot)\n",
    "ch = alt.Chart(data=idata.head(n_plot), title=title).mark_bar().encode(\n",
    "    x='login',\n",
    "    y='n_first_responses',\n",
    "    color=alt.Color('author_association', scale=alt.Scale(domain=author_types, range=author_colors))\n",
    ")\n",
    "ch"
   ]
  },
  {
   "cell_type": "markdown",
   "id": "d84d855e",
   "metadata": {
    "editable": true,
    "papermill": {
     "duration": 0.007739,
     "end_time": "2025-05-12T16:08:54.481082",
     "exception": false,
     "start_time": "2025-05-12T16:08:54.473343",
     "status": "completed"
    },
    "slideshow": {
     "slide_type": ""
    },
    "tags": []
   },
   "source": [
    "## Recent activity\n",
    "\n",
    "### A list of merged PRs by project\n",
    "\n",
    "Below is a tabbed readout of recently-merged PRs. Check out the title to get an idea for what they\n",
    "implemented, and be sure to thank the PR author for their hard work!"
   ]
  },
  {
   "cell_type": "code",
   "execution_count": 27,
   "id": "8db10d73",
   "metadata": {
    "editable": true,
    "execution": {
     "iopub.execute_input": "2025-05-12T16:08:54.497201Z",
     "iopub.status.busy": "2025-05-12T16:08:54.497089Z",
     "iopub.status.idle": "2025-05-12T16:08:54.531718Z",
     "shell.execute_reply": "2025-05-12T16:08:54.531438Z"
    },
    "papermill": {
     "duration": 0.049257,
     "end_time": "2025-05-12T16:08:54.538216",
     "exception": false,
     "start_time": "2025-05-12T16:08:54.488959",
     "status": "completed"
    },
    "slideshow": {
     "slide_type": ""
    },
    "tags": [
     "hide_input"
    ]
   },
   "outputs": [
    {
     "data": {
      "application/vnd.jupyter.widget-view+json": {
       "model_id": "c6b93207736a458488d15346b6baed3f",
       "version_major": 2,
       "version_minor": 0
      },
      "text/plain": [
       "Tab(children=(HTML(value='<h4>Closed PRs for repo: <a href=\"https://github.com/jupyter-book/jupyter-book\">jupy…"
      ]
     },
     "execution_count": 27,
     "metadata": {},
     "output_type": "execute_result"
    }
   ],
   "source": [
    "tabs = widgets.Tab(children=[])\n",
    "\n",
    "for ii, ((org, repo), imerged) in enumerate(merged.query(\"repo in @use_repos\").groupby(['org', 'repo'])):\n",
    "    merged_by = {}\n",
    "    pr_by = {}\n",
    "    issue_md = []\n",
    "    issue_md.append(f\"#### Closed PRs for repo: [{org}/{repo}](https://github.com/{github_org}/{repo})\")\n",
    "    issue_md.append(\"\")\n",
    "    issue_md.append(f\"##### \")\n",
    "\n",
    "    for _, ipr in imerged.iterrows():\n",
    "        user_name = ipr['login']\n",
    "        user_url = author_url(user_name)\n",
    "        pr_number = ipr['number']\n",
    "        pr_html = ipr['url']\n",
    "        pr_title = ipr['title']\n",
    "        pr_closedby = ipr['merged_by']\n",
    "        pr_closedby_url = f\"https://github.com/{pr_closedby}\"\n",
    "        if user_name not in pr_by:\n",
    "            pr_by[user_name] = 1\n",
    "        else:\n",
    "            pr_by[user_name] += 1\n",
    "\n",
    "        if pr_closedby not in merged_by:\n",
    "            merged_by[pr_closedby] = 1\n",
    "        else:\n",
    "            merged_by[pr_closedby] += 1\n",
    "        text = f\"* [(#{pr_number})]({pr_html}): _{pr_title}_ by **[@{user_name}]({user_url})** merged by **[@{pr_closedby}]({pr_closedby_url})**\"\n",
    "        issue_md.append(text)\n",
    "    \n",
    "    issue_md.append('')\n",
    "    markdown_html = markdown('\\n'.join(issue_md))\n",
    "\n",
    "    children = list(tabs.children)\n",
    "    children.append(HTML(markdown_html))\n",
    "    tabs.children = tuple(children)\n",
    "    tabs.set_title(ii, repo)\n",
    "tabs"
   ]
  },
  {
   "cell_type": "markdown",
   "id": "b4190d8b",
   "metadata": {
    "editable": true,
    "papermill": {
     "duration": 0.007721,
     "end_time": "2025-05-12T16:08:54.553933",
     "exception": false,
     "start_time": "2025-05-12T16:08:54.546212",
     "status": "completed"
    },
    "slideshow": {
     "slide_type": ""
    },
    "tags": []
   },
   "source": [
    "### A list of recent issues\n",
    "\n",
    "Below is a list of issues with recent activity in each repository. If they seem of interest\n",
    "to you, click on their links and jump in to participate!"
   ]
  },
  {
   "cell_type": "code",
   "execution_count": 28,
   "id": "14ce2e3f",
   "metadata": {
    "editable": true,
    "execution": {
     "iopub.execute_input": "2025-05-12T16:08:54.569736Z",
     "iopub.status.busy": "2025-05-12T16:08:54.569550Z",
     "iopub.status.idle": "2025-05-12T16:08:54.574167Z",
     "shell.execute_reply": "2025-05-12T16:08:54.573950Z"
    },
    "papermill": {
     "duration": 0.013207,
     "end_time": "2025-05-12T16:08:54.574819",
     "exception": false,
     "start_time": "2025-05-12T16:08:54.561612",
     "status": "completed"
    },
    "slideshow": {
     "slide_type": ""
    },
    "tags": [
     "remove_cell"
    ]
   },
   "outputs": [],
   "source": [
    "# Add comment count data to issues and PRs\n",
    "comment_counts = (\n",
    "    comments\n",
    "    .query(\"created_at > @start_date and created_at < @stop_date\")\n",
    "    .groupby(['org', 'repo', 'id_issue'])\n",
    "    .count().iloc[:, 0].to_frame()\n",
    ")\n",
    "comment_counts.columns = ['n_comments']\n",
    "comment_counts = comment_counts.reset_index()"
   ]
  },
  {
   "cell_type": "code",
   "execution_count": 29,
   "id": "c3fd62dc",
   "metadata": {
    "editable": true,
    "execution": {
     "iopub.execute_input": "2025-05-12T16:08:54.591261Z",
     "iopub.status.busy": "2025-05-12T16:08:54.591137Z",
     "iopub.status.idle": "2025-05-12T16:08:54.631280Z",
     "shell.execute_reply": "2025-05-12T16:08:54.630977Z"
    },
    "papermill": {
     "duration": 0.04966,
     "end_time": "2025-05-12T16:08:54.632233",
     "exception": false,
     "start_time": "2025-05-12T16:08:54.582573",
     "status": "completed"
    },
    "slideshow": {
     "slide_type": ""
    },
    "tags": [
     "hide_input"
    ],
    "toc-hr-collapsed": false
   },
   "outputs": [
    {
     "data": {
      "text/markdown": [
       "Here are the top 5 active issues in each repository in the last 90 days"
      ],
      "text/plain": [
       "<IPython.core.display.Markdown object>"
      ]
     },
     "metadata": {},
     "output_type": "display_data"
    },
    {
     "data": {
      "application/vnd.jupyter.widget-view+json": {
       "model_id": "cb5429d83e454ba893548cc527025d71",
       "version_major": 2,
       "version_minor": 0
      },
      "text/plain": [
       "Tab(children=(HTML(value='<h5><a href=\"https://github.com/jupyter-book/jupyter-book\">jupyter-book/jupyter-book…"
      ]
     },
     "metadata": {},
     "output_type": "display_data"
    }
   ],
   "source": [
    "n_plot = 5\n",
    "tabs = widgets.Tab(children=[])\n",
    "\n",
    "for ii, (repo, i_issues) in enumerate(comment_counts.query(\"repo in @use_repos\").groupby('repo')):\n",
    "    \n",
    "    issue_md = []\n",
    "    issue_md.append(\"\")\n",
    "    issue_md.append(f\"##### [{github_org}/{repo}](https://github.com/{github_org}/{repo})\")\n",
    "\n",
    "    top_issues = i_issues.sort_values('n_comments', ascending=False).head(n_plot)\n",
    "    top_issue_list = pd.merge(issues, top_issues, left_on=['org', 'repo', 'id_issue'], right_on=['org', 'repo', 'id_issue'])\n",
    "    for _, issue in top_issue_list.sort_values('n_comments', ascending=False).head(n_plot).iterrows():\n",
    "        user_name = issue['login']\n",
    "        user_url = author_url(user_name)\n",
    "        issue_number = issue['number']\n",
    "        issue_html = issue['url']\n",
    "        issue_title = issue['title']\n",
    "\n",
    "        text = f\"* [(#{issue_number})]({issue_html}): _{issue_title}_ by **[@{user_name}]({user_url})**\"\n",
    "        issue_md.append(text)\n",
    "\n",
    "    issue_md.append('')\n",
    "    md_html = HTML(markdown('\\n'.join(issue_md)))\n",
    "\n",
    "    children = list(tabs.children)\n",
    "    children.append(HTML(markdown('\\n'.join(issue_md))))\n",
    "    tabs.children = tuple(children)\n",
    "    tabs.set_title(ii, repo)\n",
    "    \n",
    "display(Markdown(f\"Here are the top {n_plot} active issues in each repository in the last {n_days} days\"))\n",
    "display(tabs)"
   ]
  }
 ],
 "metadata": {
  "kernelspec": {
   "display_name": "Python 3 (ipykernel)",
   "language": "python",
   "name": "python3"
  },
  "language_info": {
   "codemirror_mode": {
    "name": "ipython",
    "version": 3
   },
   "file_extension": ".py",
   "mimetype": "text/x-python",
   "name": "python",
   "nbconvert_exporter": "python",
   "pygments_lexer": "ipython3",
   "version": "3.10.14"
  },
  "papermill": {
   "default_parameters": {},
   "duration": 2.701669,
   "end_time": "2025-05-12T16:08:54.857069",
   "environment_variables": {},
   "exception": null,
   "input_path": "./templates/org_report.ipynb",
   "output_path": "generated/book/jupyter-book.ipynb",
   "parameters": {
    "github_org": "jupyter-book",
    "n_days": 90
   },
   "start_time": "2025-05-12T16:08:52.155400",
   "version": "2.6.0"
  },
  "widgets": {
   "application/vnd.jupyter.widget-state+json": {
    "state": {
     "094b6169ec9c4abb8f6d746c516dcdaf": {
      "model_module": "@jupyter-widgets/controls",
      "model_module_version": "2.0.0",
      "model_name": "HTMLModel",
      "state": {
       "_dom_classes": [],
       "_model_module": "@jupyter-widgets/controls",
       "_model_module_version": "2.0.0",
       "_model_name": "HTMLModel",
       "_view_count": null,
       "_view_module": "@jupyter-widgets/controls",
       "_view_module_version": "2.0.0",
       "_view_name": "HTMLView",
       "description": "",
       "description_allow_html": false,
       "layout": "IPY_MODEL_a6f8c9003ef04a04af7a167b3acc1299",
       "placeholder": "​",
       "style": "IPY_MODEL_e37ea924df9e4e29bfba0e548fc5dbb9",
       "tabbable": null,
       "tooltip": null,
       "value": "<h5><a href=\"https://github.com/jupyter-book/mystmd\">jupyter-book/mystmd</a></h5>\n<ul>\n<li><a href=\"https://github.com/jupyter-book/mystmd/issues/1336\">(#1336)</a>: <em>Tracking: Turing Way</em> by <strong><a href=\"https://github.com/rowanc1\">@rowanc1</a></strong></li>\n<li><a href=\"https://github.com/jupyter-book/mystmd/issues/189\">(#189)</a>: <em>Audit of Features missing in JupyterBook</em> by <strong><a href=\"https://github.com/rowanc1\">@rowanc1</a></strong></li>\n<li><a href=\"https://github.com/jupyter-book/mystmd/issues/1879\">(#1879)</a>: <em>Support multi-language content and pages with translations</em> by <strong><a href=\"https://github.com/choldgraf\">@choldgraf</a></strong></li>\n<li><a href=\"https://github.com/jupyter-book/mystmd/issues/1967\">(#1967)</a>: <em>Ability to build only one file without considering other .md files + no warning about missing myst.yml</em> by <strong><a href=\"https://github.com/paugier\">@paugier</a></strong></li>\n<li><a href=\"https://github.com/jupyter-book/mystmd/issues/2002\">(#2002)</a>: <em>Numbering of headers and titles doesn't work as expected</em> by <strong><a href=\"https://github.com/vangeest\">@vangeest</a></strong></li>\n</ul>"
      }
     },
     "0b7a83c308524d33a829523deba4a905": {
      "model_module": "@jupyter-widgets/controls",
      "model_module_version": "2.0.0",
      "model_name": "HTMLModel",
      "state": {
       "_dom_classes": [],
       "_model_module": "@jupyter-widgets/controls",
       "_model_module_version": "2.0.0",
       "_model_name": "HTMLModel",
       "_view_count": null,
       "_view_module": "@jupyter-widgets/controls",
       "_view_module_version": "2.0.0",
       "_view_name": "HTMLView",
       "description": "",
       "description_allow_html": false,
       "layout": "IPY_MODEL_4e089fed203b432ea72838a071f2a69e",
       "placeholder": "​",
       "style": "IPY_MODEL_67a801dbd84e4b6a9c9dab938f6d92ed",
       "tabbable": null,
       "tooltip": null,
       "value": "<h5><a href=\"https://github.com/jupyter-book/jupyterlab-myst\">jupyter-book/jupyterlab-myst</a></h5>\n<ul>\n<li><a href=\"https://github.com/jupyter-book/jupyterlab-myst/issues/243\">(#243)</a>: <em>Scrolling over notebook got unexpected jump backs</em> by <strong><a href=\"https://github.com/AllanChain\">@AllanChain</a></strong></li>\n<li><a href=\"https://github.com/jupyter-book/jupyterlab-myst/issues/257\">(#257)</a>: <em>Dancing Page</em> by <strong><a href=\"https://github.com/microcoder\">@microcoder</a></strong></li>\n<li><a href=\"https://github.com/jupyter-book/jupyterlab-myst/issues/248\">(#248)</a>: <em>Do Not highlight links</em> by <strong><a href=\"https://github.com/microcoder\">@microcoder</a></strong></li>\n<li><a href=\"https://github.com/jupyter-book/jupyterlab-myst/issues/175\">(#175)</a>: <em><code>eval</code> role not working as expected</em> by <strong><a href=\"https://github.com/rkansal47\">@rkansal47</a></strong></li>\n<li><a href=\"https://github.com/jupyter-book/jupyterlab-myst/issues/250\">(#250)</a>: <em>Scrolling is stucking on the page</em> by <strong><a href=\"https://github.com/microcoder\">@microcoder</a></strong></li>\n</ul>"
      }
     },
     "0cf14302811244b8b0795b4c345be98c": {
      "model_module": "@jupyter-widgets/controls",
      "model_module_version": "2.0.0",
      "model_name": "HTMLStyleModel",
      "state": {
       "_model_module": "@jupyter-widgets/controls",
       "_model_module_version": "2.0.0",
       "_model_name": "HTMLStyleModel",
       "_view_count": null,
       "_view_module": "@jupyter-widgets/base",
       "_view_module_version": "2.0.0",
       "_view_name": "StyleView",
       "background": null,
       "description_width": "",
       "font_size": null,
       "text_color": null
      }
     },
     "0f86eebd00754e8b85791dff2535eba3": {
      "model_module": "@jupyter-widgets/base",
      "model_module_version": "2.0.0",
      "model_name": "LayoutModel",
      "state": {
       "_model_module": "@jupyter-widgets/base",
       "_model_module_version": "2.0.0",
       "_model_name": "LayoutModel",
       "_view_count": null,
       "_view_module": "@jupyter-widgets/base",
       "_view_module_version": "2.0.0",
       "_view_name": "LayoutView",
       "align_content": null,
       "align_items": null,
       "align_self": null,
       "border_bottom": null,
       "border_left": null,
       "border_right": null,
       "border_top": null,
       "bottom": null,
       "display": null,
       "flex": null,
       "flex_flow": null,
       "grid_area": null,
       "grid_auto_columns": null,
       "grid_auto_flow": null,
       "grid_auto_rows": null,
       "grid_column": null,
       "grid_gap": null,
       "grid_row": null,
       "grid_template_areas": null,
       "grid_template_columns": null,
       "grid_template_rows": null,
       "height": null,
       "justify_content": null,
       "justify_items": null,
       "left": null,
       "margin": null,
       "max_height": null,
       "max_width": null,
       "min_height": null,
       "min_width": null,
       "object_fit": null,
       "object_position": null,
       "order": null,
       "overflow": null,
       "padding": null,
       "right": null,
       "top": null,
       "visibility": null,
       "width": null
      }
     },
     "138e2065b04c430eaeda24f69b301178": {
      "model_module": "@jupyter-widgets/controls",
      "model_module_version": "2.0.0",
      "model_name": "HTMLModel",
      "state": {
       "_dom_classes": [],
       "_model_module": "@jupyter-widgets/controls",
       "_model_module_version": "2.0.0",
       "_model_name": "HTMLModel",
       "_view_count": null,
       "_view_module": "@jupyter-widgets/controls",
       "_view_module_version": "2.0.0",
       "_view_name": "HTMLView",
       "description": "",
       "description_allow_html": false,
       "layout": "IPY_MODEL_5e98616cfa704a438b0b33e2fc97f4a0",
       "placeholder": "​",
       "style": "IPY_MODEL_88145cf3a91145e09f54281ac30a12d1",
       "tabbable": null,
       "tooltip": null,
       "value": "<h5><a href=\"https://github.com/jupyter-book/team-compass\">jupyter-book/team-compass</a></h5>\n<ul>\n<li><a href=\"https://github.com/jupyter-book/team-compass/issues/20\">(#20)</a>: <em>Run publicly accessible team meetings</em> by <strong><a href=\"https://github.com/choldgraf\">@choldgraf</a></strong></li>\n<li><a href=\"https://github.com/jupyter-book/team-compass/issues/24\">(#24)</a>: <em>Move our DNS owner from squarespace to Jupyter's CloudFlare</em> by <strong><a href=\"https://github.com/choldgraf\">@choldgraf</a></strong></li>\n<li><a href=\"https://github.com/jupyter-book/team-compass/issues/25\">(#25)</a>: <em>Make our documentation deployment infrastructure available to all jupyter book team members</em> by <strong><a href=\"https://github.com/choldgraf\">@choldgraf</a></strong></li>\n</ul>"
      }
     },
     "163faaaa36294247b32df11f87c59e5b": {
      "model_module": "@jupyter-widgets/controls",
      "model_module_version": "2.0.0",
      "model_name": "HTMLModel",
      "state": {
       "_dom_classes": [],
       "_model_module": "@jupyter-widgets/controls",
       "_model_module_version": "2.0.0",
       "_model_name": "HTMLModel",
       "_view_count": null,
       "_view_module": "@jupyter-widgets/controls",
       "_view_module_version": "2.0.0",
       "_view_name": "HTMLView",
       "description": "",
       "description_allow_html": false,
       "layout": "IPY_MODEL_2877ff356f364356af5078161770476b",
       "placeholder": "​",
       "style": "IPY_MODEL_79275bf2d73c40cd93dae4cdc57df6f6",
       "tabbable": null,
       "tooltip": null,
       "value": "<h5><a href=\"https://github.com/jupyter-book/myst-enhancement-proposals\">jupyter-book/myst-enhancement-proposals</a></h5>\n<ul>\n<li><a href=\"https://github.com/jupyter-book/myst-enhancement-proposals/issues/30\">(#30)</a>: <em>[MEP process] Define separate proposal and implementation stages</em> by <strong><a href=\"https://github.com/mmcky\">@mmcky</a></strong></li>\n</ul>"
      }
     },
     "1ffe85e0e2164420adbbb18af9e5927b": {
      "model_module": "@jupyter-widgets/controls",
      "model_module_version": "2.0.0",
      "model_name": "HTMLModel",
      "state": {
       "_dom_classes": [],
       "_model_module": "@jupyter-widgets/controls",
       "_model_module_version": "2.0.0",
       "_model_name": "HTMLModel",
       "_view_count": null,
       "_view_module": "@jupyter-widgets/controls",
       "_view_module_version": "2.0.0",
       "_view_name": "HTMLView",
       "description": "",
       "description_allow_html": false,
       "layout": "IPY_MODEL_35cafd73359d4a97a05410307b395817",
       "placeholder": "​",
       "style": "IPY_MODEL_f7f8ae7fcfea4310a8e90503cc77b714",
       "tabbable": null,
       "tooltip": null,
       "value": "<h5><a href=\"https://github.com/jupyter-book/mystmd\">jupyter-book/mystmd</a></h5>\n<ul>\n<li><a href=\"https://github.com/jupyter-book/mystmd/issues/1336\">(#1336)</a>: <em>Tracking: Turing Way</em> by <strong><a href=\"https://github.com/rowanc1\">@rowanc1</a></strong></li>\n<li><a href=\"https://github.com/jupyter-book/mystmd/issues/189\">(#189)</a>: <em>Audit of Features missing in JupyterBook</em> by <strong><a href=\"https://github.com/rowanc1\">@rowanc1</a></strong></li>\n<li><a href=\"https://github.com/jupyter-book/mystmd/issues/1879\">(#1879)</a>: <em>Support multi-language content and pages with translations</em> by <strong><a href=\"https://github.com/choldgraf\">@choldgraf</a></strong></li>\n<li><a href=\"https://github.com/jupyter-book/mystmd/issues/1967\">(#1967)</a>: <em>Ability to build only one file without considering other .md files + no warning about missing myst.yml</em> by <strong><a href=\"https://github.com/paugier\">@paugier</a></strong></li>\n<li><a href=\"https://github.com/jupyter-book/mystmd/issues/2002\">(#2002)</a>: <em>Numbering of headers and titles doesn't work as expected</em> by <strong><a href=\"https://github.com/vangeest\">@vangeest</a></strong></li>\n</ul>"
      }
     },
     "24ac06e4acb44929a55d1f0f88c6b217": {
      "model_module": "@jupyter-widgets/base",
      "model_module_version": "2.0.0",
      "model_name": "LayoutModel",
      "state": {
       "_model_module": "@jupyter-widgets/base",
       "_model_module_version": "2.0.0",
       "_model_name": "LayoutModel",
       "_view_count": null,
       "_view_module": "@jupyter-widgets/base",
       "_view_module_version": "2.0.0",
       "_view_name": "LayoutView",
       "align_content": null,
       "align_items": null,
       "align_self": null,
       "border_bottom": null,
       "border_left": null,
       "border_right": null,
       "border_top": null,
       "bottom": null,
       "display": null,
       "flex": null,
       "flex_flow": null,
       "grid_area": null,
       "grid_auto_columns": null,
       "grid_auto_flow": null,
       "grid_auto_rows": null,
       "grid_column": null,
       "grid_gap": null,
       "grid_row": null,
       "grid_template_areas": null,
       "grid_template_columns": null,
       "grid_template_rows": null,
       "height": null,
       "justify_content": null,
       "justify_items": null,
       "left": null,
       "margin": null,
       "max_height": null,
       "max_width": null,
       "min_height": null,
       "min_width": null,
       "object_fit": null,
       "object_position": null,
       "order": null,
       "overflow": null,
       "padding": null,
       "right": null,
       "top": null,
       "visibility": null,
       "width": null
      }
     },
     "24e600e7a1c9479bb923e57035d64e6b": {
      "model_module": "@jupyter-widgets/controls",
      "model_module_version": "2.0.0",
      "model_name": "HTMLStyleModel",
      "state": {
       "_model_module": "@jupyter-widgets/controls",
       "_model_module_version": "2.0.0",
       "_model_name": "HTMLStyleModel",
       "_view_count": null,
       "_view_module": "@jupyter-widgets/base",
       "_view_module_version": "2.0.0",
       "_view_name": "StyleView",
       "background": null,
       "description_width": "",
       "font_size": null,
       "text_color": null
      }
     },
     "27f7720147b44e85bff844569da04eca": {
      "model_module": "@jupyter-widgets/base",
      "model_module_version": "2.0.0",
      "model_name": "LayoutModel",
      "state": {
       "_model_module": "@jupyter-widgets/base",
       "_model_module_version": "2.0.0",
       "_model_name": "LayoutModel",
       "_view_count": null,
       "_view_module": "@jupyter-widgets/base",
       "_view_module_version": "2.0.0",
       "_view_name": "LayoutView",
       "align_content": null,
       "align_items": null,
       "align_self": null,
       "border_bottom": null,
       "border_left": null,
       "border_right": null,
       "border_top": null,
       "bottom": null,
       "display": null,
       "flex": null,
       "flex_flow": null,
       "grid_area": null,
       "grid_auto_columns": null,
       "grid_auto_flow": null,
       "grid_auto_rows": null,
       "grid_column": null,
       "grid_gap": null,
       "grid_row": null,
       "grid_template_areas": null,
       "grid_template_columns": null,
       "grid_template_rows": null,
       "height": null,
       "justify_content": null,
       "justify_items": null,
       "left": null,
       "margin": null,
       "max_height": null,
       "max_width": null,
       "min_height": null,
       "min_width": null,
       "object_fit": null,
       "object_position": null,
       "order": null,
       "overflow": null,
       "padding": null,
       "right": null,
       "top": null,
       "visibility": null,
       "width": null
      }
     },
     "2877ff356f364356af5078161770476b": {
      "model_module": "@jupyter-widgets/base",
      "model_module_version": "2.0.0",
      "model_name": "LayoutModel",
      "state": {
       "_model_module": "@jupyter-widgets/base",
       "_model_module_version": "2.0.0",
       "_model_name": "LayoutModel",
       "_view_count": null,
       "_view_module": "@jupyter-widgets/base",
       "_view_module_version": "2.0.0",
       "_view_name": "LayoutView",
       "align_content": null,
       "align_items": null,
       "align_self": null,
       "border_bottom": null,
       "border_left": null,
       "border_right": null,
       "border_top": null,
       "bottom": null,
       "display": null,
       "flex": null,
       "flex_flow": null,
       "grid_area": null,
       "grid_auto_columns": null,
       "grid_auto_flow": null,
       "grid_auto_rows": null,
       "grid_column": null,
       "grid_gap": null,
       "grid_row": null,
       "grid_template_areas": null,
       "grid_template_columns": null,
       "grid_template_rows": null,
       "height": null,
       "justify_content": null,
       "justify_items": null,
       "left": null,
       "margin": null,
       "max_height": null,
       "max_width": null,
       "min_height": null,
       "min_width": null,
       "object_fit": null,
       "object_position": null,
       "order": null,
       "overflow": null,
       "padding": null,
       "right": null,
       "top": null,
       "visibility": null,
       "width": null
      }
     },
     "2a3f92425aaf4ab2b31298d54d50500f": {
      "model_module": "@jupyter-widgets/controls",
      "model_module_version": "2.0.0",
      "model_name": "HTMLModel",
      "state": {
       "_dom_classes": [],
       "_model_module": "@jupyter-widgets/controls",
       "_model_module_version": "2.0.0",
       "_model_name": "HTMLModel",
       "_view_count": null,
       "_view_module": "@jupyter-widgets/controls",
       "_view_module_version": "2.0.0",
       "_view_name": "HTMLView",
       "description": "",
       "description_allow_html": false,
       "layout": "IPY_MODEL_eeda6132beef44be9e3ed7907f5e9b6f",
       "placeholder": "​",
       "style": "IPY_MODEL_0cf14302811244b8b0795b4c345be98c",
       "tabbable": null,
       "tooltip": null,
       "value": "<h5><a href=\"https://github.com/jupyter-book/jupyter-book\">jupyter-book/jupyter-book</a></h5>\n<ul>\n<li><a href=\"https://github.com/jupyter-book/jupyter-book/issues/2311\">(#2311)</a>: <em>[Bug]: Couldn't push it to github pages using github workflow</em> by <strong><a href=\"https://github.com/prateekshukla1108\">@prateekshukla1108</a></strong></li>\n<li><a href=\"https://github.com/jupyter-book/jupyter-book/issues/2340\">(#2340)</a>: <em>Milestone: Jupyter Book announcement at SciPy 2025</em> by <strong><a href=\"https://github.com/choldgraf\">@choldgraf</a></strong></li>\n<li><a href=\"https://github.com/jupyter-book/jupyter-book/issues/1474\">(#1474)</a>: <em>Add a high-level diagram of Jupyter Book's infrastructure components</em> by <strong><a href=\"https://github.com/choldgraf\">@choldgraf</a></strong></li>\n<li><a href=\"https://github.com/jupyter-book/jupyter-book/issues/2051\">(#2051)</a>: <em>is there a way to have a collapsible/dropdown admonition start opened ?</em> by <strong><a href=\"https://github.com/parmentelat\">@parmentelat</a></strong></li>\n<li><a href=\"https://github.com/jupyter-book/jupyter-book/issues/2347\">(#2347)</a>: <em>Nbody startpoints on a circle,  Verlet</em> by <strong><a href=\"https://github.com/denis-bz\">@denis-bz</a></strong></li>\n</ul>"
      }
     },
     "357b4cb97016435f98d710a3f18f4245": {
      "model_module": "@jupyter-widgets/controls",
      "model_module_version": "2.0.0",
      "model_name": "HTMLModel",
      "state": {
       "_dom_classes": [],
       "_model_module": "@jupyter-widgets/controls",
       "_model_module_version": "2.0.0",
       "_model_name": "HTMLModel",
       "_view_count": null,
       "_view_module": "@jupyter-widgets/controls",
       "_view_module_version": "2.0.0",
       "_view_name": "HTMLView",
       "description": "",
       "description_allow_html": false,
       "layout": "IPY_MODEL_d36a362c59664228bc662d34f6278199",
       "placeholder": "​",
       "style": "IPY_MODEL_c2a566f5abe7497cb270af065af3c91f",
       "tabbable": null,
       "tooltip": null,
       "value": "<ul>\n<li>(35) Support for RISE slides - jupyter-book - <a href=\"https://github.com/jupyter-book/jupyter-book/issues/792\">#792</a></li>\n<li>(34) Allow margin notes to have references in the text and hide them by default on mobile - jupyter-book - <a href=\"https://github.com/jupyter-book/jupyter-book/issues/598\">#598</a></li>\n<li>(32) Support blogs - jupyter-book - <a href=\"https://github.com/jupyter-book/jupyter-book/issues/900\">#900</a></li>\n<li>(28) Add support for multiple themes / theming - jupyter-book - <a href=\"https://github.com/jupyter-book/jupyter-book/issues/262\">#262</a></li>\n<li>(26) Support for executing notebooks in parallel during JupyterBook Build - jupyter-book - <a href=\"https://github.com/jupyter-book/jupyter-book/issues/1735\">#1735</a></li>\n<li>(22) Author, year citations - jupyter-book - <a href=\"https://github.com/jupyter-book/jupyter-book/issues/1090\">#1090</a></li>\n<li>(22) Tag to skip cell execution - jupyter-book - <a href=\"https://github.com/jupyter-book/jupyter-book/issues/833\">#833</a></li>\n<li>(19) Export a single HTML file with all assets included - jupyter-book - <a href=\"https://github.com/jupyter-book/jupyter-book/issues/1046\">#1046</a></li>\n<li>(17) Adding directives for \"question and answer\" blocks - jupyter-book - <a href=\"https://github.com/jupyter-book/jupyter-book/issues/536\">#536</a></li>\n<li>(15) Allow setting all inputs as hidden by default - jupyter-book - <a href=\"https://github.com/jupyter-book/jupyter-book/issues/666\">#666</a></li>\n<li>(14) Run code client-side with JupyterLite - jupyter-book - <a href=\"https://github.com/jupyter-book/jupyter-book/issues/1344\">#1344</a></li>\n<li>(12) v0.13 has broken utterances - jupyter-book - <a href=\"https://github.com/jupyter-book/jupyter-book/issues/1762\">#1762</a></li>\n<li>(12) Nest code-cells inside of admonitions and block-level syntax in myst notebooks - jupyter-book - <a href=\"https://github.com/jupyter-book/jupyter-book/issues/1178\">#1178</a></li>\n<li>(12) Tables and figures produced by code cells are not numbered and tables don't have captions - jupyter-book - <a href=\"https://github.com/jupyter-book/jupyter-book/issues/1247\">#1247</a></li>\n<li>(10) Full width option? - jupyter-book - <a href=\"https://github.com/jupyter-book/jupyter-book/issues/1904\">#1904</a></li>\n<li>(10) Versioning support - jupyter-book - <a href=\"https://github.com/jupyter-book/jupyter-book/issues/683\">#683</a></li>\n<li>(10) Thebe integration: Modify sources - mystmd - <a href=\"https://github.com/jupyter-book/mystmd/issues/443\">#443</a></li>\n<li>(9) Generating a PDF of an entire Jupyter Book - jupyter-book - <a href=\"https://github.com/jupyter-book/jupyter-book/issues/1106\">#1106</a></li>\n<li>(9) Add support for translations / internationalization / localization of page elements - mystmd - <a href=\"https://github.com/jupyter-book/mystmd/issues/166\">#166</a></li>\n<li>(9) Add an author to pages - jupyter-book - <a href=\"https://github.com/jupyter-book/jupyter-book/issues/1098\">#1098</a></li>\n<li>(8) [ENH] Add Tufte style - jupyter-book - <a href=\"https://github.com/jupyter-book/jupyter-book/issues/255\">#255</a></li>\n<li>(8) Tracking: Numpy Tutorials - mystmd - <a href=\"https://github.com/jupyter-book/mystmd/issues/1270\">#1270</a></li>\n<li>(8) problems rendering to pdf: \"skip to main content\" overlaying over text - jupyter-book - <a href=\"https://github.com/jupyter-book/jupyter-book/issues/2045\">#2045</a></li>\n<li>(7) Document how to disable the download button - jupyter-book - <a href=\"https://github.com/jupyter-book/jupyter-book/issues/1186\">#1186</a></li>\n<li>(7) Export as Static HTML - mystmd - <a href=\"https://github.com/jupyter-book/mystmd/issues/188\">#188</a></li>\n</ul>"
      }
     },
     "35cafd73359d4a97a05410307b395817": {
      "model_module": "@jupyter-widgets/base",
      "model_module_version": "2.0.0",
      "model_name": "LayoutModel",
      "state": {
       "_model_module": "@jupyter-widgets/base",
       "_model_module_version": "2.0.0",
       "_model_name": "LayoutModel",
       "_view_count": null,
       "_view_module": "@jupyter-widgets/base",
       "_view_module_version": "2.0.0",
       "_view_name": "LayoutView",
       "align_content": null,
       "align_items": null,
       "align_self": null,
       "border_bottom": null,
       "border_left": null,
       "border_right": null,
       "border_top": null,
       "bottom": null,
       "display": null,
       "flex": null,
       "flex_flow": null,
       "grid_area": null,
       "grid_auto_columns": null,
       "grid_auto_flow": null,
       "grid_auto_rows": null,
       "grid_column": null,
       "grid_gap": null,
       "grid_row": null,
       "grid_template_areas": null,
       "grid_template_columns": null,
       "grid_template_rows": null,
       "height": null,
       "justify_content": null,
       "justify_items": null,
       "left": null,
       "margin": null,
       "max_height": null,
       "max_width": null,
       "min_height": null,
       "min_width": null,
       "object_fit": null,
       "object_position": null,
       "order": null,
       "overflow": null,
       "padding": null,
       "right": null,
       "top": null,
       "visibility": null,
       "width": null
      }
     },
     "39da498b67c745d586e3b74911513cbe": {
      "model_module": "@jupyter-widgets/controls",
      "model_module_version": "2.0.0",
      "model_name": "HTMLStyleModel",
      "state": {
       "_model_module": "@jupyter-widgets/controls",
       "_model_module_version": "2.0.0",
       "_model_name": "HTMLStyleModel",
       "_view_count": null,
       "_view_module": "@jupyter-widgets/base",
       "_view_module_version": "2.0.0",
       "_view_name": "StyleView",
       "background": null,
       "description_width": "",
       "font_size": null,
       "text_color": null
      }
     },
     "3a7ad43d03b14297852ac2a9b1f48a37": {
      "model_module": "@jupyter-widgets/base",
      "model_module_version": "2.0.0",
      "model_name": "LayoutModel",
      "state": {
       "_model_module": "@jupyter-widgets/base",
       "_model_module_version": "2.0.0",
       "_model_name": "LayoutModel",
       "_view_count": null,
       "_view_module": "@jupyter-widgets/base",
       "_view_module_version": "2.0.0",
       "_view_name": "LayoutView",
       "align_content": null,
       "align_items": null,
       "align_self": null,
       "border_bottom": null,
       "border_left": null,
       "border_right": null,
       "border_top": null,
       "bottom": null,
       "display": null,
       "flex": null,
       "flex_flow": null,
       "grid_area": null,
       "grid_auto_columns": null,
       "grid_auto_flow": null,
       "grid_auto_rows": null,
       "grid_column": null,
       "grid_gap": null,
       "grid_row": null,
       "grid_template_areas": null,
       "grid_template_columns": null,
       "grid_template_rows": null,
       "height": null,
       "justify_content": null,
       "justify_items": null,
       "left": null,
       "margin": null,
       "max_height": null,
       "max_width": null,
       "min_height": null,
       "min_width": null,
       "object_fit": null,
       "object_position": null,
       "order": null,
       "overflow": null,
       "padding": null,
       "right": null,
       "top": null,
       "visibility": null,
       "width": null
      }
     },
     "40438229ecb247358df5701f6c7a1bff": {
      "model_module": "@jupyter-widgets/controls",
      "model_module_version": "2.0.0",
      "model_name": "HTMLStyleModel",
      "state": {
       "_model_module": "@jupyter-widgets/controls",
       "_model_module_version": "2.0.0",
       "_model_name": "HTMLStyleModel",
       "_view_count": null,
       "_view_module": "@jupyter-widgets/base",
       "_view_module_version": "2.0.0",
       "_view_name": "StyleView",
       "background": null,
       "description_width": "",
       "font_size": null,
       "text_color": null
      }
     },
     "4045a2d89b6248bd90f31e2b76aad88d": {
      "model_module": "@jupyter-widgets/controls",
      "model_module_version": "2.0.0",
      "model_name": "HTMLModel",
      "state": {
       "_dom_classes": [],
       "_model_module": "@jupyter-widgets/controls",
       "_model_module_version": "2.0.0",
       "_model_name": "HTMLModel",
       "_view_count": null,
       "_view_module": "@jupyter-widgets/controls",
       "_view_module_version": "2.0.0",
       "_view_name": "HTMLView",
       "description": "",
       "description_allow_html": false,
       "layout": "IPY_MODEL_ad73f7fc01db4836ba17299a9060e242",
       "placeholder": "​",
       "style": "IPY_MODEL_40438229ecb247358df5701f6c7a1bff",
       "tabbable": null,
       "tooltip": null,
       "value": "<h5><a href=\"https://github.com/jupyter-book/myst-theme\">jupyter-book/myst-theme</a></h5>\n<ul>\n<li><a href=\"https://github.com/jupyter-book/myst-theme/issues/527\">(#527)</a>: <em>Support Bokeh Plots</em> by <strong><a href=\"https://github.com/acocac\">@acocac</a></strong></li>\n<li><a href=\"https://github.com/jupyter-book/myst-theme/issues/567\">(#567)</a>: <em>Move colour choices to theme variables</em> by <strong><a href=\"https://github.com/agoose77\">@agoose77</a></strong></li>\n<li><a href=\"https://github.com/jupyter-book/myst-theme/issues/342\">(#342)</a>: <em>HTML served with <code>&lt;img src=http://localhost:3100&gt; even with</code>HOST=10.0.0.1 myst start --keep-host`</em> by <strong><a href=\"https://github.com/drewlio\">@drewlio</a></strong></li>\n<li><a href=\"https://github.com/jupyter-book/myst-theme/issues/474\">(#474)</a>: <em>Landing Pages with widget layouts</em> by <strong><a href=\"https://github.com/choldgraf\">@choldgraf</a></strong></li>\n<li><a href=\"https://github.com/jupyter-book/myst-theme/issues/558\">(#558)</a>: <em>Improve Static HTML Builds (upgrading Remix)</em> by <strong><a href=\"https://github.com/rowanc1\">@rowanc1</a></strong></li>\n</ul>"
      }
     },
     "429027bba66443ebaf6f8378215bcb75": {
      "model_module": "@jupyter-widgets/controls",
      "model_module_version": "2.0.0",
      "model_name": "HTMLStyleModel",
      "state": {
       "_model_module": "@jupyter-widgets/controls",
       "_model_module_version": "2.0.0",
       "_model_name": "HTMLStyleModel",
       "_view_count": null,
       "_view_module": "@jupyter-widgets/base",
       "_view_module_version": "2.0.0",
       "_view_name": "StyleView",
       "background": null,
       "description_width": "",
       "font_size": null,
       "text_color": null
      }
     },
     "4d34647491c946708d88f2a95104d855": {
      "model_module": "@jupyter-widgets/controls",
      "model_module_version": "2.0.0",
      "model_name": "HTMLModel",
      "state": {
       "_dom_classes": [],
       "_model_module": "@jupyter-widgets/controls",
       "_model_module_version": "2.0.0",
       "_model_name": "HTMLModel",
       "_view_count": null,
       "_view_module": "@jupyter-widgets/controls",
       "_view_module_version": "2.0.0",
       "_view_name": "HTMLView",
       "description": "",
       "description_allow_html": false,
       "layout": "IPY_MODEL_27f7720147b44e85bff844569da04eca",
       "placeholder": "​",
       "style": "IPY_MODEL_cac4cf027b8b4696a3b358fa1a458899",
       "tabbable": null,
       "tooltip": null,
       "value": "<h4>Closed PRs for repo: <a href=\"https://github.com/jupyter-book/myst-enhancement-proposals\">jupyter-book/myst-enhancement-proposals</a></h4>\n<h5></h5>\n<ul>\n<li><a href=\"https://github.com/jupyter-book/myst-enhancement-proposals/issues/29\">(#29)</a>: <em>📦 Update actions to newer workflows</em> by <strong><a href=\"https://github.com/rowanc1\">@rowanc1</a></strong> merged by <strong><a href=\"https://github.com/rowanc1\">@rowanc1</a></strong></li>\n<li><a href=\"https://github.com/jupyter-book/myst-enhancement-proposals/issues/31\">(#31)</a>: <em>Add a light PR template for MEPs</em> by <strong><a href=\"https://github.com/choldgraf\">@choldgraf</a></strong> merged by <strong><a href=\"https://github.com/agoose77\">@agoose77</a></strong></li>\n</ul>"
      }
     },
     "4e089fed203b432ea72838a071f2a69e": {
      "model_module": "@jupyter-widgets/base",
      "model_module_version": "2.0.0",
      "model_name": "LayoutModel",
      "state": {
       "_model_module": "@jupyter-widgets/base",
       "_model_module_version": "2.0.0",
       "_model_name": "LayoutModel",
       "_view_count": null,
       "_view_module": "@jupyter-widgets/base",
       "_view_module_version": "2.0.0",
       "_view_name": "LayoutView",
       "align_content": null,
       "align_items": null,
       "align_self": null,
       "border_bottom": null,
       "border_left": null,
       "border_right": null,
       "border_top": null,
       "bottom": null,
       "display": null,
       "flex": null,
       "flex_flow": null,
       "grid_area": null,
       "grid_auto_columns": null,
       "grid_auto_flow": null,
       "grid_auto_rows": null,
       "grid_column": null,
       "grid_gap": null,
       "grid_row": null,
       "grid_template_areas": null,
       "grid_template_columns": null,
       "grid_template_rows": null,
       "height": null,
       "justify_content": null,
       "justify_items": null,
       "left": null,
       "margin": null,
       "max_height": null,
       "max_width": null,
       "min_height": null,
       "min_width": null,
       "object_fit": null,
       "object_position": null,
       "order": null,
       "overflow": null,
       "padding": null,
       "right": null,
       "top": null,
       "visibility": null,
       "width": null
      }
     },
     "52e6945c1a4646928eaeed16e7b9b502": {
      "model_module": "@jupyter-widgets/controls",
      "model_module_version": "2.0.0",
      "model_name": "HTMLModel",
      "state": {
       "_dom_classes": [],
       "_model_module": "@jupyter-widgets/controls",
       "_model_module_version": "2.0.0",
       "_model_name": "HTMLModel",
       "_view_count": null,
       "_view_module": "@jupyter-widgets/controls",
       "_view_module_version": "2.0.0",
       "_view_name": "HTMLView",
       "description": "",
       "description_allow_html": false,
       "layout": "IPY_MODEL_aa2d9437fc914b4c8b32dae54c04d225",
       "placeholder": "​",
       "style": "IPY_MODEL_961dcc84c74d403988fa6dc6b0613604",
       "tabbable": null,
       "tooltip": null,
       "value": "<h5><a href=\"https://github.com/jupyter-book/myst-enhancement-proposals\">jupyter-book/myst-enhancement-proposals</a></h5>\n<ul>\n<li><a href=\"https://github.com/jupyter-book/myst-enhancement-proposals/issues/30\">(#30)</a>: <em>[MEP process] Define separate proposal and implementation stages</em> by <strong><a href=\"https://github.com/mmcky\">@mmcky</a></strong></li>\n</ul>"
      }
     },
     "54371f54654f461e9fcc68030d50d8ea": {
      "model_module": "@jupyter-widgets/controls",
      "model_module_version": "2.0.0",
      "model_name": "HTMLStyleModel",
      "state": {
       "_model_module": "@jupyter-widgets/controls",
       "_model_module_version": "2.0.0",
       "_model_name": "HTMLStyleModel",
       "_view_count": null,
       "_view_module": "@jupyter-widgets/base",
       "_view_module_version": "2.0.0",
       "_view_name": "StyleView",
       "background": null,
       "description_width": "",
       "font_size": null,
       "text_color": null
      }
     },
     "55d1f7e1e8a44540b33653b8c3878789": {
      "model_module": "@jupyter-widgets/controls",
      "model_module_version": "2.0.0",
      "model_name": "HTMLStyleModel",
      "state": {
       "_model_module": "@jupyter-widgets/controls",
       "_model_module_version": "2.0.0",
       "_model_name": "HTMLStyleModel",
       "_view_count": null,
       "_view_module": "@jupyter-widgets/base",
       "_view_module_version": "2.0.0",
       "_view_name": "StyleView",
       "background": null,
       "description_width": "",
       "font_size": null,
       "text_color": null
      }
     },
     "599caf036b9744d4a67d07f58691bdc0": {
      "model_module": "@jupyter-widgets/controls",
      "model_module_version": "2.0.0",
      "model_name": "HTMLStyleModel",
      "state": {
       "_model_module": "@jupyter-widgets/controls",
       "_model_module_version": "2.0.0",
       "_model_name": "HTMLStyleModel",
       "_view_count": null,
       "_view_module": "@jupyter-widgets/base",
       "_view_module_version": "2.0.0",
       "_view_name": "StyleView",
       "background": null,
       "description_width": "",
       "font_size": null,
       "text_color": null
      }
     },
     "5e225946ada545298e8ce28261e73c41": {
      "model_module": "@jupyter-widgets/base",
      "model_module_version": "2.0.0",
      "model_name": "LayoutModel",
      "state": {
       "_model_module": "@jupyter-widgets/base",
       "_model_module_version": "2.0.0",
       "_model_name": "LayoutModel",
       "_view_count": null,
       "_view_module": "@jupyter-widgets/base",
       "_view_module_version": "2.0.0",
       "_view_name": "LayoutView",
       "align_content": null,
       "align_items": null,
       "align_self": null,
       "border_bottom": null,
       "border_left": null,
       "border_right": null,
       "border_top": null,
       "bottom": null,
       "display": null,
       "flex": null,
       "flex_flow": null,
       "grid_area": null,
       "grid_auto_columns": null,
       "grid_auto_flow": null,
       "grid_auto_rows": null,
       "grid_column": null,
       "grid_gap": null,
       "grid_row": null,
       "grid_template_areas": null,
       "grid_template_columns": null,
       "grid_template_rows": null,
       "height": null,
       "justify_content": null,
       "justify_items": null,
       "left": null,
       "margin": null,
       "max_height": null,
       "max_width": null,
       "min_height": null,
       "min_width": null,
       "object_fit": null,
       "object_position": null,
       "order": null,
       "overflow": null,
       "padding": null,
       "right": null,
       "top": null,
       "visibility": null,
       "width": null
      }
     },
     "5e98616cfa704a438b0b33e2fc97f4a0": {
      "model_module": "@jupyter-widgets/base",
      "model_module_version": "2.0.0",
      "model_name": "LayoutModel",
      "state": {
       "_model_module": "@jupyter-widgets/base",
       "_model_module_version": "2.0.0",
       "_model_name": "LayoutModel",
       "_view_count": null,
       "_view_module": "@jupyter-widgets/base",
       "_view_module_version": "2.0.0",
       "_view_name": "LayoutView",
       "align_content": null,
       "align_items": null,
       "align_self": null,
       "border_bottom": null,
       "border_left": null,
       "border_right": null,
       "border_top": null,
       "bottom": null,
       "display": null,
       "flex": null,
       "flex_flow": null,
       "grid_area": null,
       "grid_auto_columns": null,
       "grid_auto_flow": null,
       "grid_auto_rows": null,
       "grid_column": null,
       "grid_gap": null,
       "grid_row": null,
       "grid_template_areas": null,
       "grid_template_columns": null,
       "grid_template_rows": null,
       "height": null,
       "justify_content": null,
       "justify_items": null,
       "left": null,
       "margin": null,
       "max_height": null,
       "max_width": null,
       "min_height": null,
       "min_width": null,
       "object_fit": null,
       "object_position": null,
       "order": null,
       "overflow": null,
       "padding": null,
       "right": null,
       "top": null,
       "visibility": null,
       "width": null
      }
     },
     "64cd7be6e5a34bb68df8dce9bd76a997": {
      "model_module": "@jupyter-widgets/base",
      "model_module_version": "2.0.0",
      "model_name": "LayoutModel",
      "state": {
       "_model_module": "@jupyter-widgets/base",
       "_model_module_version": "2.0.0",
       "_model_name": "LayoutModel",
       "_view_count": null,
       "_view_module": "@jupyter-widgets/base",
       "_view_module_version": "2.0.0",
       "_view_name": "LayoutView",
       "align_content": null,
       "align_items": null,
       "align_self": null,
       "border_bottom": null,
       "border_left": null,
       "border_right": null,
       "border_top": null,
       "bottom": null,
       "display": null,
       "flex": null,
       "flex_flow": null,
       "grid_area": null,
       "grid_auto_columns": null,
       "grid_auto_flow": null,
       "grid_auto_rows": null,
       "grid_column": null,
       "grid_gap": null,
       "grid_row": null,
       "grid_template_areas": null,
       "grid_template_columns": null,
       "grid_template_rows": null,
       "height": null,
       "justify_content": null,
       "justify_items": null,
       "left": null,
       "margin": null,
       "max_height": null,
       "max_width": null,
       "min_height": null,
       "min_width": null,
       "object_fit": null,
       "object_position": null,
       "order": null,
       "overflow": null,
       "padding": null,
       "right": null,
       "top": null,
       "visibility": null,
       "width": null
      }
     },
     "6617aec891694ee9b1df85be5442cfd6": {
      "model_module": "@jupyter-widgets/controls",
      "model_module_version": "2.0.0",
      "model_name": "HTMLStyleModel",
      "state": {
       "_model_module": "@jupyter-widgets/controls",
       "_model_module_version": "2.0.0",
       "_model_name": "HTMLStyleModel",
       "_view_count": null,
       "_view_module": "@jupyter-widgets/base",
       "_view_module_version": "2.0.0",
       "_view_name": "StyleView",
       "background": null,
       "description_width": "",
       "font_size": null,
       "text_color": null
      }
     },
     "67a801dbd84e4b6a9c9dab938f6d92ed": {
      "model_module": "@jupyter-widgets/controls",
      "model_module_version": "2.0.0",
      "model_name": "HTMLStyleModel",
      "state": {
       "_model_module": "@jupyter-widgets/controls",
       "_model_module_version": "2.0.0",
       "_model_name": "HTMLStyleModel",
       "_view_count": null,
       "_view_module": "@jupyter-widgets/base",
       "_view_module_version": "2.0.0",
       "_view_name": "StyleView",
       "background": null,
       "description_width": "",
       "font_size": null,
       "text_color": null
      }
     },
     "6d4a66d4c0154791b5549643330aa982": {
      "model_module": "@jupyter-widgets/controls",
      "model_module_version": "2.0.0",
      "model_name": "HTMLStyleModel",
      "state": {
       "_model_module": "@jupyter-widgets/controls",
       "_model_module_version": "2.0.0",
       "_model_name": "HTMLStyleModel",
       "_view_count": null,
       "_view_module": "@jupyter-widgets/base",
       "_view_module_version": "2.0.0",
       "_view_name": "StyleView",
       "background": null,
       "description_width": "",
       "font_size": null,
       "text_color": null
      }
     },
     "7075e24ad77443228d3143a35927e8ec": {
      "model_module": "@jupyter-widgets/base",
      "model_module_version": "2.0.0",
      "model_name": "LayoutModel",
      "state": {
       "_model_module": "@jupyter-widgets/base",
       "_model_module_version": "2.0.0",
       "_model_name": "LayoutModel",
       "_view_count": null,
       "_view_module": "@jupyter-widgets/base",
       "_view_module_version": "2.0.0",
       "_view_name": "LayoutView",
       "align_content": null,
       "align_items": null,
       "align_self": null,
       "border_bottom": null,
       "border_left": null,
       "border_right": null,
       "border_top": null,
       "bottom": null,
       "display": null,
       "flex": null,
       "flex_flow": null,
       "grid_area": null,
       "grid_auto_columns": null,
       "grid_auto_flow": null,
       "grid_auto_rows": null,
       "grid_column": null,
       "grid_gap": null,
       "grid_row": null,
       "grid_template_areas": null,
       "grid_template_columns": null,
       "grid_template_rows": null,
       "height": null,
       "justify_content": null,
       "justify_items": null,
       "left": null,
       "margin": null,
       "max_height": null,
       "max_width": null,
       "min_height": null,
       "min_width": null,
       "object_fit": null,
       "object_position": null,
       "order": null,
       "overflow": null,
       "padding": null,
       "right": null,
       "top": null,
       "visibility": null,
       "width": null
      }
     },
     "74fd56952d5e4ae0a829c37dc2da54bd": {
      "model_module": "@jupyter-widgets/controls",
      "model_module_version": "2.0.0",
      "model_name": "HTMLModel",
      "state": {
       "_dom_classes": [],
       "_model_module": "@jupyter-widgets/controls",
       "_model_module_version": "2.0.0",
       "_model_name": "HTMLModel",
       "_view_count": null,
       "_view_module": "@jupyter-widgets/controls",
       "_view_module_version": "2.0.0",
       "_view_name": "HTMLView",
       "description": "",
       "description_allow_html": false,
       "layout": "IPY_MODEL_eba9f41c32b648ef98f0ff7221c5b800",
       "placeholder": "​",
       "style": "IPY_MODEL_6617aec891694ee9b1df85be5442cfd6",
       "tabbable": null,
       "tooltip": null,
       "value": "<h5><a href=\"https://github.com/jupyter-book/jupyter-book\">jupyter-book/jupyter-book</a></h5>\n<ul>\n<li><a href=\"https://github.com/jupyter-book/jupyter-book/issues/2311\">(#2311)</a>: <em>[Bug]: Couldn't push it to github pages using github workflow</em> by <strong><a href=\"https://github.com/prateekshukla1108\">@prateekshukla1108</a></strong></li>\n<li><a href=\"https://github.com/jupyter-book/jupyter-book/issues/2340\">(#2340)</a>: <em>Milestone: Jupyter Book announcement at SciPy 2025</em> by <strong><a href=\"https://github.com/choldgraf\">@choldgraf</a></strong></li>\n<li><a href=\"https://github.com/jupyter-book/jupyter-book/issues/1474\">(#1474)</a>: <em>Add a high-level diagram of Jupyter Book's infrastructure components</em> by <strong><a href=\"https://github.com/choldgraf\">@choldgraf</a></strong></li>\n<li><a href=\"https://github.com/jupyter-book/jupyter-book/issues/2051\">(#2051)</a>: <em>is there a way to have a collapsible/dropdown admonition start opened ?</em> by <strong><a href=\"https://github.com/parmentelat\">@parmentelat</a></strong></li>\n<li><a href=\"https://github.com/jupyter-book/jupyter-book/issues/2347\">(#2347)</a>: <em>Nbody startpoints on a circle,  Verlet</em> by <strong><a href=\"https://github.com/denis-bz\">@denis-bz</a></strong></li>\n</ul>"
      }
     },
     "75d6eb3f1f4e4446b06eacfd0b0bfbdd": {
      "model_module": "@jupyter-widgets/controls",
      "model_module_version": "2.0.0",
      "model_name": "HTMLModel",
      "state": {
       "_dom_classes": [],
       "_model_module": "@jupyter-widgets/controls",
       "_model_module_version": "2.0.0",
       "_model_name": "HTMLModel",
       "_view_count": null,
       "_view_module": "@jupyter-widgets/controls",
       "_view_module_version": "2.0.0",
       "_view_name": "HTMLView",
       "description": "",
       "description_allow_html": false,
       "layout": "IPY_MODEL_7ef33625e68342239738d7a996e79639",
       "placeholder": "​",
       "style": "IPY_MODEL_bbce74c908f74df0a7e95d53313ac8f5",
       "tabbable": null,
       "tooltip": null,
       "value": "<h4>Closed PRs for repo: <a href=\"https://github.com/jupyter-book/mystmd.org\">jupyter-book/mystmd.org</a></h4>\n<h5></h5>\n<ul>\n<li><a href=\"https://github.com/jupyter-book/mystmd.org/issues/23\">(#23)</a>: <em>👪 Pass <code>root.children</code> to tree renderer</em> by <strong><a href=\"https://github.com/agoose77\">@agoose77</a></strong> merged by <strong><a href=\"https://github.com/agoose77\">@agoose77</a></strong></li>\n<li><a href=\"https://github.com/jupyter-book/mystmd.org/issues/24\">(#24)</a>: <em>📸 Use picsum instead of unsplash</em> by <strong><a href=\"https://github.com/agoose77\">@agoose77</a></strong> merged by <strong><a href=\"https://github.com/agoose77\">@agoose77</a></strong></li>\n<li><a href=\"https://github.com/jupyter-book/mystmd.org/issues/27\">(#27)</a>: <em>Add workflow dispatch option to vercel deployment</em> by <strong><a href=\"https://github.com/choldgraf\">@choldgraf</a></strong> merged by <strong><a href=\"https://github.com/choldgraf\">@choldgraf</a></strong></li>\n<li><a href=\"https://github.com/jupyter-book/mystmd.org/issues/28\">(#28)</a>: <em>📖 Point to the mystmd documentation guide in our README</em> by <strong><a href=\"https://github.com/choldgraf\">@choldgraf</a></strong> merged by <strong><a href=\"https://github.com/rowanc1\">@rowanc1</a></strong></li>\n<li><a href=\"https://github.com/jupyter-book/mystmd.org/issues/29\">(#29)</a>: <em>🔗 Don't include <code>?url</code> in sandbox copy button link</em> by <strong><a href=\"https://github.com/agoose77\">@agoose77</a></strong> merged by <strong><a href=\"https://github.com/agoose77\">@agoose77</a></strong></li>\n</ul>"
      }
     },
     "768ba4d2f0064304880f1381ec33c0a3": {
      "model_module": "@jupyter-widgets/base",
      "model_module_version": "2.0.0",
      "model_name": "LayoutModel",
      "state": {
       "_model_module": "@jupyter-widgets/base",
       "_model_module_version": "2.0.0",
       "_model_name": "LayoutModel",
       "_view_count": null,
       "_view_module": "@jupyter-widgets/base",
       "_view_module_version": "2.0.0",
       "_view_name": "LayoutView",
       "align_content": null,
       "align_items": null,
       "align_self": null,
       "border_bottom": null,
       "border_left": null,
       "border_right": null,
       "border_top": null,
       "bottom": null,
       "display": null,
       "flex": null,
       "flex_flow": null,
       "grid_area": null,
       "grid_auto_columns": null,
       "grid_auto_flow": null,
       "grid_auto_rows": null,
       "grid_column": null,
       "grid_gap": null,
       "grid_row": null,
       "grid_template_areas": null,
       "grid_template_columns": null,
       "grid_template_rows": null,
       "height": null,
       "justify_content": null,
       "justify_items": null,
       "left": null,
       "margin": null,
       "max_height": null,
       "max_width": null,
       "min_height": null,
       "min_width": null,
       "object_fit": null,
       "object_position": null,
       "order": null,
       "overflow": null,
       "padding": null,
       "right": null,
       "top": null,
       "visibility": null,
       "width": null
      }
     },
     "76c1ac016b1844c58ecf1eaa1ba9360e": {
      "model_module": "@jupyter-widgets/controls",
      "model_module_version": "2.0.0",
      "model_name": "HTMLModel",
      "state": {
       "_dom_classes": [],
       "_model_module": "@jupyter-widgets/controls",
       "_model_module_version": "2.0.0",
       "_model_name": "HTMLModel",
       "_view_count": null,
       "_view_module": "@jupyter-widgets/controls",
       "_view_module_version": "2.0.0",
       "_view_name": "HTMLView",
       "description": "",
       "description_allow_html": false,
       "layout": "IPY_MODEL_768ba4d2f0064304880f1381ec33c0a3",
       "placeholder": "​",
       "style": "IPY_MODEL_f13ede16f8954e45bbeb05d914fd19c9",
       "tabbable": null,
       "tooltip": null,
       "value": "<h4>Closed PRs for repo: <a href=\"https://github.com/jupyter-book/mystmd\">jupyter-book/mystmd</a></h4>\n<h5></h5>\n<ul>\n<li><a href=\"https://github.com/jupyter-book/mystmd/issues/1822\">(#1822)</a>: <em>🧮 Add inline options to roles and directives</em> by <strong><a href=\"https://github.com/rowanc1\">@rowanc1</a></strong> merged by <strong><a href=\"https://github.com/rowanc1\">@rowanc1</a></strong></li>\n<li><a href=\"https://github.com/jupyter-book/mystmd/issues/1826\">(#1826)</a>: <em>✨ New table of contents directive</em> by <strong><a href=\"https://github.com/fwkoch\">@fwkoch</a></strong> merged by <strong><a href=\"https://github.com/rowanc1\">@rowanc1</a></strong></li>\n<li><a href=\"https://github.com/jupyter-book/mystmd/issues/1836\">(#1836)</a>: <em>🚀 Release</em> by <strong><a href=\"https://github.com/github-actions[bot]\">@github-actions[bot]</a></strong> merged by <strong><a href=\"https://github.com/rowanc1\">@rowanc1</a></strong></li>\n<li><a href=\"https://github.com/jupyter-book/mystmd/issues/1856\">(#1856)</a>: <em>🔧 Fix errors about missing images on non-first builds</em> by <strong><a href=\"https://github.com/fwkoch\">@fwkoch</a></strong> merged by <strong><a href=\"https://github.com/rowanc1\">@rowanc1</a></strong></li>\n<li><a href=\"https://github.com/jupyter-book/mystmd/issues/1864\">(#1864)</a>: <em>🛫 Add documentation for Landing Pages</em> by <strong><a href=\"https://github.com/agoose77\">@agoose77</a></strong> merged by <strong><a href=\"https://github.com/rowanc1\">@rowanc1</a></strong></li>\n<li><a href=\"https://github.com/jupyter-book/mystmd/issues/1867\">(#1867)</a>: _ 📂 Set <code>site.options.folders: true</code> for JB upgrades_ by <strong><a href=\"https://github.com/agoose77\">@agoose77</a></strong> merged by <strong><a href=\"https://github.com/agoose77\">@agoose77</a></strong></li>\n<li><a href=\"https://github.com/jupyter-book/mystmd/issues/1872\">(#1872)</a>: <em>Handle unsupported options for include directive</em> by <strong><a href=\"https://github.com/JimMadge\">@JimMadge</a></strong> merged by <strong><a href=\"https://github.com/agoose77\">@agoose77</a></strong></li>\n<li><a href=\"https://github.com/jupyter-book/mystmd/issues/1873\">(#1873)</a>: <em>💇 Add documentation on <code>site.options.style</code></em> by <strong><a href=\"https://github.com/agoose77\">@agoose77</a></strong> merged by <strong><a href=\"https://github.com/rowanc1\">@rowanc1</a></strong></li>\n<li><a href=\"https://github.com/jupyter-book/mystmd/issues/1881\">(#1881)</a>: <em>✏️ Use <code>myst</code> directive with <code>proof</code> option definitions</em> by <strong><a href=\"https://github.com/agoose77\">@agoose77</a></strong> merged by <strong><a href=\"https://github.com/rowanc1\">@rowanc1</a></strong></li>\n<li><a href=\"https://github.com/jupyter-book/mystmd/issues/1888\">(#1888)</a>: <em>📖 Adds note on Windows builds to Contribution guide</em> by <strong><a href=\"https://github.com/nmielec\">@nmielec</a></strong> merged by <strong><a href=\"https://github.com/rowanc1\">@rowanc1</a></strong></li>\n<li><a href=\"https://github.com/jupyter-book/mystmd/issues/1890\">(#1890)</a>: <em>📦 Update to <code>doi-utils</code> v2.0.5</em> by <strong><a href=\"https://github.com/rowanc1\">@rowanc1</a></strong> merged by <strong><a href=\"https://github.com/rowanc1\">@rowanc1</a></strong></li>\n<li><a href=\"https://github.com/jupyter-book/mystmd/issues/1891\">(#1891)</a>: <em>🚀 Release</em> by <strong><a href=\"https://github.com/github-actions[bot]\">@github-actions[bot]</a></strong> merged by <strong><a href=\"https://github.com/rowanc1\">@rowanc1</a></strong></li>\n<li><a href=\"https://github.com/jupyter-book/mystmd/issues/1894\">(#1894)</a>: <em>🐝 Fix missing class in landing-pages</em> by <strong><a href=\"https://github.com/agoose77\">@agoose77</a></strong> merged by <strong><a href=\"https://github.com/agoose77\">@agoose77</a></strong></li>\n<li><a href=\"https://github.com/jupyter-book/mystmd/issues/1895\">(#1895)</a>: <em>🚀 Update the <code>SPEC_VERSION</code> for <code>block.class</code></em> by <strong><a href=\"https://github.com/rowanc1\">@rowanc1</a></strong> merged by <strong><a href=\"https://github.com/rowanc1\">@rowanc1</a></strong></li>\n<li><a href=\"https://github.com/jupyter-book/mystmd/issues/1896\">(#1896)</a>: <em>🚀 Release</em> by <strong><a href=\"https://github.com/github-actions[bot]\">@github-actions[bot]</a></strong> merged by <strong><a href=\"https://github.com/rowanc1\">@rowanc1</a></strong></li>\n<li><a href=\"https://github.com/jupyter-book/mystmd/issues/1897\">(#1897)</a>: <em>📦 Bump <code>nbtx</code> 0.4.0</em> by <strong><a href=\"https://github.com/fwkoch\">@fwkoch</a></strong> merged by <strong><a href=\"https://github.com/rowanc1\">@rowanc1</a></strong></li>\n<li><a href=\"https://github.com/jupyter-book/mystmd/issues/1898\">(#1898)</a>: <em>🤔 Bump nbtx</em> by <strong><a href=\"https://github.com/fwkoch\">@fwkoch</a></strong> merged by <strong><a href=\"https://github.com/fwkoch\">@fwkoch</a></strong></li>\n<li><a href=\"https://github.com/jupyter-book/mystmd/issues/1901\">(#1901)</a>: <em>🐛 Ensure CSS has baseURL directly</em> by <strong><a href=\"https://github.com/rowanc1\">@rowanc1</a></strong> merged by <strong><a href=\"https://github.com/rowanc1\">@rowanc1</a></strong></li>\n<li><a href=\"https://github.com/jupyter-book/mystmd/issues/1906\">(#1906)</a>: <em>Restructure developer guide and add architecture overview</em> by <strong><a href=\"https://github.com/stefanv\">@stefanv</a></strong> merged by <strong><a href=\"https://github.com/choldgraf\">@choldgraf</a></strong></li>\n<li><a href=\"https://github.com/jupyter-book/mystmd/issues/1914\">(#1914)</a>: <em>⌨️ Add command line argument to <code>myst start</code> for selecting template</em> by <strong><a href=\"https://github.com/stefanv\">@stefanv</a></strong> merged by <strong><a href=\"https://github.com/rowanc1\">@rowanc1</a></strong></li>\n<li><a href=\"https://github.com/jupyter-book/mystmd/issues/1919\">(#1919)</a>: <em>✅ Add husky and lint-staged to help devs fix code before pushing</em> by <strong><a href=\"https://github.com/stefanv\">@stefanv</a></strong> merged by <strong><a href=\"https://github.com/choldgraf\">@choldgraf</a></strong></li>\n<li><a href=\"https://github.com/jupyter-book/mystmd/issues/1930\">(#1930)</a>: <em>Clarify BASE_URL instructions in GH action for custom domains.</em> by <strong><a href=\"https://github.com/fperez\">@fperez</a></strong> merged by <strong><a href=\"https://github.com/agoose77\">@agoose77</a></strong></li>\n<li><a href=\"https://github.com/jupyter-book/mystmd/issues/1936\">(#1936)</a>: <em>✍️ Escape backticks in <code>init --gh-pages</code> template</em> by <strong><a href=\"https://github.com/agoose77\">@agoose77</a></strong> merged by <strong><a href=\"https://github.com/agoose77\">@agoose77</a></strong></li>\n<li><a href=\"https://github.com/jupyter-book/mystmd/issues/1938\">(#1938)</a>: <em>📝 Add missing changeset</em> by <strong><a href=\"https://github.com/agoose77\">@agoose77</a></strong> merged by <strong><a href=\"https://github.com/agoose77\">@agoose77</a></strong></li>\n<li><a href=\"https://github.com/jupyter-book/mystmd/issues/1939\">(#1939)</a>: <em>Add footnote about links to md files not in ToC</em> by <strong><a href=\"https://github.com/JimMadge\">@JimMadge</a></strong> merged by <strong><a href=\"https://github.com/agoose77\">@agoose77</a></strong></li>\n<li><a href=\"https://github.com/jupyter-book/mystmd/issues/1941\">(#1941)</a>: <em>Update the documentation on installing with Typst</em> by <strong><a href=\"https://github.com/choldgraf\">@choldgraf</a></strong> merged by <strong><a href=\"https://github.com/agoose77\">@agoose77</a></strong></li>\n<li><a href=\"https://github.com/jupyter-book/mystmd/issues/1942\">(#1942)</a>: <em>🪄 Improve error handling during cross reference resolution</em> by <strong><a href=\"https://github.com/agoose77\">@agoose77</a></strong> merged by <strong><a href=\"https://github.com/agoose77\">@agoose77</a></strong></li>\n<li><a href=\"https://github.com/jupyter-book/mystmd/issues/1943\">(#1943)</a>: <em>🏷️ Remove default label from <code>inlineExpression</code> node</em> by <strong><a href=\"https://github.com/agoose77\">@agoose77</a></strong> merged by <strong><a href=\"https://github.com/agoose77\">@agoose77</a></strong></li>\n<li><a href=\"https://github.com/jupyter-book/mystmd/issues/1944\">(#1944)</a>: <em>🐛 Fix missing references in <code>docx</code> export</em> by <strong><a href=\"https://github.com/alanrice\">@alanrice</a></strong> merged by <strong><a href=\"https://github.com/agoose77\">@agoose77</a></strong></li>\n<li><a href=\"https://github.com/jupyter-book/mystmd/issues/1945\">(#1945)</a>: <em>👨🏻‍🔧 fix check link transform for cards</em> by <strong><a href=\"https://github.com/stevejpurves\">@stevejpurves</a></strong> merged by <strong><a href=\"https://github.com/stevejpurves\">@stevejpurves</a></strong></li>\n<li><a href=\"https://github.com/jupyter-book/mystmd/issues/1949\">(#1949)</a>: <em>🔙 Move execution transform earlier in mdast pipeline</em> by <strong><a href=\"https://github.com/agoose77\">@agoose77</a></strong> merged by <strong><a href=\"https://github.com/agoose77\">@agoose77</a></strong></li>\n<li><a href=\"https://github.com/jupyter-book/mystmd/issues/1950\">(#1950)</a>: <em>Add a high-level overview of MyST components</em> by <strong><a href=\"https://github.com/choldgraf\">@choldgraf</a></strong> merged by <strong><a href=\"https://github.com/choldgraf\">@choldgraf</a></strong></li>\n<li><a href=\"https://github.com/jupyter-book/mystmd/issues/1951\">(#1951)</a>: <em>✋ netlify: only rebuild docs when they were modified</em> by <strong><a href=\"https://github.com/stefanv\">@stefanv</a></strong> merged by <strong><a href=\"https://github.com/choldgraf\">@choldgraf</a></strong></li>\n<li><a href=\"https://github.com/jupyter-book/mystmd/issues/1955\">(#1955)</a>: <em>📖 Document how to export MyST Markdown</em> by <strong><a href=\"https://github.com/choldgraf\">@choldgraf</a></strong> merged by <strong><a href=\"https://github.com/rowanc1\">@rowanc1</a></strong></li>\n<li><a href=\"https://github.com/jupyter-book/mystmd/issues/1958\">(#1958)</a>: <em>Update documentation about our documentation infrastructure at mystmd.org</em> by <strong><a href=\"https://github.com/choldgraf\">@choldgraf</a></strong> merged by <strong><a href=\"https://github.com/choldgraf\">@choldgraf</a></strong></li>\n<li><a href=\"https://github.com/jupyter-book/mystmd/issues/1966\">(#1966)</a>: <em>📦 Improve docs on PDF exports for downloads</em> by <strong><a href=\"https://github.com/agoose77\">@agoose77</a></strong> merged by <strong><a href=\"https://github.com/choldgraf\">@choldgraf</a></strong></li>\n<li><a href=\"https://github.com/jupyter-book/mystmd/issues/1969\">(#1969)</a>: <em>Add a brief guide to choosing between <code>.md</code> and <code>.ipynb</code></em> by <strong><a href=\"https://github.com/choldgraf\">@choldgraf</a></strong> merged by <strong><a href=\"https://github.com/agoose77\">@agoose77</a></strong></li>\n<li><a href=\"https://github.com/jupyter-book/mystmd/issues/1980\">(#1980)</a>: <em>; Semicolon escape in typst</em> by <strong><a href=\"https://github.com/rowanc1\">@rowanc1</a></strong> merged by <strong><a href=\"https://github.com/rowanc1\">@rowanc1</a></strong></li>\n<li><a href=\"https://github.com/jupyter-book/mystmd/issues/1987\">(#1987)</a>: <em>🦋 Add bluesky social links</em> by <strong><a href=\"https://github.com/rowanc1\">@rowanc1</a></strong> merged by <strong><a href=\"https://github.com/rowanc1\">@rowanc1</a></strong></li>\n<li><a href=\"https://github.com/jupyter-book/mystmd/issues/1992\">(#1992)</a>: <em>DOCS: Clarify and cross-link code cell output suppression</em> by <strong><a href=\"https://github.com/choldgraf\">@choldgraf</a></strong> merged by <strong><a href=\"https://github.com/choldgraf\">@choldgraf</a></strong></li>\n<li><a href=\"https://github.com/jupyter-book/mystmd/issues/1995\">(#1995)</a>: <em>🐛 <code>--pdf</code> --&gt; <code>--tex</code></em> by <strong><a href=\"https://github.com/rowanc1\">@rowanc1</a></strong> merged by <strong><a href=\"https://github.com/rowanc1\">@rowanc1</a></strong></li>\n<li><a href=\"https://github.com/jupyter-book/mystmd/issues/1997\">(#1997)</a>: <em>📖 Add guidelines for publishing a release to GitHub</em> by <strong><a href=\"https://github.com/choldgraf\">@choldgraf</a></strong> merged by <strong><a href=\"https://github.com/choldgraf\">@choldgraf</a></strong></li>\n<li><a href=\"https://github.com/jupyter-book/mystmd/issues/1998\">(#1998)</a>: <em>📖 Document light dark elements with CSS classes</em> by <strong><a href=\"https://github.com/choldgraf\">@choldgraf</a></strong> merged by <strong><a href=\"https://github.com/choldgraf\">@choldgraf</a></strong></li>\n<li><a href=\"https://github.com/jupyter-book/mystmd/issues/2010\">(#2010)</a>: <em>Fix typo in md-vs-ipynb.md</em> by <strong><a href=\"https://github.com/choldgraf\">@choldgraf</a></strong> merged by <strong><a href=\"https://github.com/rowanc1\">@rowanc1</a></strong></li>\n<li><a href=\"https://github.com/jupyter-book/mystmd/issues/2011\">(#2011)</a>: <em>Remove extra error block</em> by <strong><a href=\"https://github.com/stefanv\">@stefanv</a></strong> merged by <strong><a href=\"https://github.com/choldgraf\">@choldgraf</a></strong></li>\n</ul>"
      }
     },
     "7716705aa4324d988cd3c0cec34fcd63": {
      "model_module": "@jupyter-widgets/base",
      "model_module_version": "2.0.0",
      "model_name": "LayoutModel",
      "state": {
       "_model_module": "@jupyter-widgets/base",
       "_model_module_version": "2.0.0",
       "_model_name": "LayoutModel",
       "_view_count": null,
       "_view_module": "@jupyter-widgets/base",
       "_view_module_version": "2.0.0",
       "_view_name": "LayoutView",
       "align_content": null,
       "align_items": null,
       "align_self": null,
       "border_bottom": null,
       "border_left": null,
       "border_right": null,
       "border_top": null,
       "bottom": null,
       "display": null,
       "flex": null,
       "flex_flow": null,
       "grid_area": null,
       "grid_auto_columns": null,
       "grid_auto_flow": null,
       "grid_auto_rows": null,
       "grid_column": null,
       "grid_gap": null,
       "grid_row": null,
       "grid_template_areas": null,
       "grid_template_columns": null,
       "grid_template_rows": null,
       "height": null,
       "justify_content": null,
       "justify_items": null,
       "left": null,
       "margin": null,
       "max_height": null,
       "max_width": null,
       "min_height": null,
       "min_width": null,
       "object_fit": null,
       "object_position": null,
       "order": null,
       "overflow": null,
       "padding": null,
       "right": null,
       "top": null,
       "visibility": null,
       "width": null
      }
     },
     "79275bf2d73c40cd93dae4cdc57df6f6": {
      "model_module": "@jupyter-widgets/controls",
      "model_module_version": "2.0.0",
      "model_name": "HTMLStyleModel",
      "state": {
       "_model_module": "@jupyter-widgets/controls",
       "_model_module_version": "2.0.0",
       "_model_name": "HTMLStyleModel",
       "_view_count": null,
       "_view_module": "@jupyter-widgets/base",
       "_view_module_version": "2.0.0",
       "_view_name": "StyleView",
       "background": null,
       "description_width": "",
       "font_size": null,
       "text_color": null
      }
     },
     "79b2c624dedc4c7291d8b497c5fc251a": {
      "model_module": "@jupyter-widgets/controls",
      "model_module_version": "2.0.0",
      "model_name": "HTMLModel",
      "state": {
       "_dom_classes": [],
       "_model_module": "@jupyter-widgets/controls",
       "_model_module_version": "2.0.0",
       "_model_name": "HTMLModel",
       "_view_count": null,
       "_view_module": "@jupyter-widgets/controls",
       "_view_module_version": "2.0.0",
       "_view_name": "HTMLView",
       "description": "",
       "description_allow_html": false,
       "layout": "IPY_MODEL_24ac06e4acb44929a55d1f0f88c6b217",
       "placeholder": "​",
       "style": "IPY_MODEL_39da498b67c745d586e3b74911513cbe",
       "tabbable": null,
       "tooltip": null,
       "value": "<h5><a href=\"https://github.com/jupyter-book/thebe\">jupyter-book/thebe</a></h5>\n<ul>\n<li><a href=\"https://github.com/jupyter-book/thebe/issues/791\">(#791)</a>: <em>Update to JupyterLite 0.6.0</em> by <strong><a href=\"https://github.com/jtpio\">@jtpio</a></strong></li>\n</ul>"
      }
     },
     "7c74da5250714df9900c3fc38c880929": {
      "model_module": "@jupyter-widgets/controls",
      "model_module_version": "2.0.0",
      "model_name": "HTMLModel",
      "state": {
       "_dom_classes": [],
       "_model_module": "@jupyter-widgets/controls",
       "_model_module_version": "2.0.0",
       "_model_name": "HTMLModel",
       "_view_count": null,
       "_view_module": "@jupyter-widgets/controls",
       "_view_module_version": "2.0.0",
       "_view_name": "HTMLView",
       "description": "",
       "description_allow_html": false,
       "layout": "IPY_MODEL_3a7ad43d03b14297852ac2a9b1f48a37",
       "placeholder": "​",
       "style": "IPY_MODEL_98b35d220ac8469bb9a0e2dba3657076",
       "tabbable": null,
       "tooltip": null,
       "value": "<h5><a href=\"https://github.com/jupyter-book/jupyterlab-myst\">jupyter-book/jupyterlab-myst</a></h5>\n<ul>\n<li><a href=\"https://github.com/jupyter-book/jupyterlab-myst/issues/243\">(#243)</a>: <em>Scrolling over notebook got unexpected jump backs</em> by <strong><a href=\"https://github.com/AllanChain\">@AllanChain</a></strong></li>\n<li><a href=\"https://github.com/jupyter-book/jupyterlab-myst/issues/257\">(#257)</a>: <em>Dancing Page</em> by <strong><a href=\"https://github.com/microcoder\">@microcoder</a></strong></li>\n<li><a href=\"https://github.com/jupyter-book/jupyterlab-myst/issues/248\">(#248)</a>: <em>Do Not highlight links</em> by <strong><a href=\"https://github.com/microcoder\">@microcoder</a></strong></li>\n<li><a href=\"https://github.com/jupyter-book/jupyterlab-myst/issues/175\">(#175)</a>: <em><code>eval</code> role not working as expected</em> by <strong><a href=\"https://github.com/rkansal47\">@rkansal47</a></strong></li>\n<li><a href=\"https://github.com/jupyter-book/jupyterlab-myst/issues/250\">(#250)</a>: <em>Scrolling is stucking on the page</em> by <strong><a href=\"https://github.com/microcoder\">@microcoder</a></strong></li>\n</ul>"
      }
     },
     "7cc13330586d4632863d67666d93493f": {
      "model_module": "@jupyter-widgets/controls",
      "model_module_version": "2.0.0",
      "model_name": "HTMLModel",
      "state": {
       "_dom_classes": [],
       "_model_module": "@jupyter-widgets/controls",
       "_model_module_version": "2.0.0",
       "_model_name": "HTMLModel",
       "_view_count": null,
       "_view_module": "@jupyter-widgets/controls",
       "_view_module_version": "2.0.0",
       "_view_name": "HTMLView",
       "description": "",
       "description_allow_html": false,
       "layout": "IPY_MODEL_7075e24ad77443228d3143a35927e8ec",
       "placeholder": "​",
       "style": "IPY_MODEL_54371f54654f461e9fcc68030d50d8ea",
       "tabbable": null,
       "tooltip": null,
       "value": "<h4>Closed PRs for repo: <a href=\"https://github.com/jupyter-book/myst-theme\">jupyter-book/myst-theme</a></h4>\n<h5></h5>\n<ul>\n<li><a href=\"https://github.com/jupyter-book/myst-theme/issues/528\">(#528)</a>: <em>🚀 Add <code>awesomebar</code>-like UX to launch button</em> by <strong><a href=\"https://github.com/agoose77\">@agoose77</a></strong> merged by <strong><a href=\"https://github.com/rowanc1\">@rowanc1</a></strong></li>\n<li><a href=\"https://github.com/jupyter-book/myst-theme/issues/531\">(#531)</a>: <em>🛫 Add landing page blocks to book theme</em> by <strong><a href=\"https://github.com/agoose77\">@agoose77</a></strong> merged by <strong><a href=\"https://github.com/rowanc1\">@rowanc1</a></strong></li>\n<li><a href=\"https://github.com/jupyter-book/myst-theme/issues/532\">(#532)</a>: <em>🔗 Update static links in parts in config</em> by <strong><a href=\"https://github.com/fwkoch\">@fwkoch</a></strong> merged by <strong><a href=\"https://github.com/rowanc1\">@rowanc1</a></strong></li>\n<li><a href=\"https://github.com/jupyter-book/myst-theme/issues/533\">(#533)</a>: <em>Version Packages</em> by <strong><a href=\"https://github.com/github-actions[bot]\">@github-actions[bot]</a></strong> merged by <strong><a href=\"https://github.com/rowanc1\">@rowanc1</a></strong></li>\n<li><a href=\"https://github.com/jupyter-book/myst-theme/issues/534\">(#534)</a>: <em>📦 Bump github action versions</em> by <strong><a href=\"https://github.com/fwkoch\">@fwkoch</a></strong> merged by <strong><a href=\"https://github.com/rowanc1\">@rowanc1</a></strong></li>\n<li><a href=\"https://github.com/jupyter-book/myst-theme/issues/535\">(#535)</a>: <em>🏷️ Extend MyST component to accept  <code>className</code> argument</em> by <strong><a href=\"https://github.com/agoose77\">@agoose77</a></strong> merged by <strong><a href=\"https://github.com/agoose77\">@agoose77</a></strong></li>\n<li><a href=\"https://github.com/jupyter-book/myst-theme/issues/536\">(#536)</a>: <em>🧱 Drop <code>ContentBlocks</code> and move functionality to <code>MyST</code></em> by <strong><a href=\"https://github.com/agoose77\">@agoose77</a></strong> merged by <strong><a href=\"https://github.com/rowanc1\">@rowanc1</a></strong></li>\n<li><a href=\"https://github.com/jupyter-book/myst-theme/issues/538\">(#538)</a>: <em>〰️ Remove underline from <code>a.button</code></em> by <strong><a href=\"https://github.com/agoose77\">@agoose77</a></strong> merged by <strong><a href=\"https://github.com/agoose77\">@agoose77</a></strong></li>\n<li><a href=\"https://github.com/jupyter-book/myst-theme/issues/539\">(#539)</a>: <em>Version Packages</em> by <strong><a href=\"https://github.com/github-actions[bot]\">@github-actions[bot]</a></strong> merged by <strong><a href=\"https://github.com/rowanc1\">@rowanc1</a></strong></li>\n<li><a href=\"https://github.com/jupyter-book/myst-theme/issues/540\">(#540)</a>: <em>💇 Add support for user stylesheets</em> by <strong><a href=\"https://github.com/agoose77\">@agoose77</a></strong> merged by <strong><a href=\"https://github.com/rowanc1\">@rowanc1</a></strong></li>\n<li><a href=\"https://github.com/jupyter-book/myst-theme/issues/541\">(#541)</a>: <em>ℹ️ Add note about JupyterHub requirements to launch bar</em> by <strong><a href=\"https://github.com/agoose77\">@agoose77</a></strong> merged by <strong><a href=\"https://github.com/agoose77\">@agoose77</a></strong></li>\n<li><a href=\"https://github.com/jupyter-book/myst-theme/issues/542\">(#542)</a>: <em>🛫 Add landing page blocks to book theme</em> by <strong><a href=\"https://github.com/rowanc1\">@rowanc1</a></strong> merged by <strong><a href=\"https://github.com/agoose77\">@agoose77</a></strong></li>\n<li><a href=\"https://github.com/jupyter-book/myst-theme/issues/543\">(#543)</a>: <em>🚀 myst@v1.3.24</em> by <strong><a href=\"https://github.com/rowanc1\">@rowanc1</a></strong> merged by <strong><a href=\"https://github.com/rowanc1\">@rowanc1</a></strong></li>\n<li><a href=\"https://github.com/jupyter-book/myst-theme/issues/544\">(#544)</a>: <em>holoviews support: fix output path fetching</em> by <strong><a href=\"https://github.com/stevejpurves\">@stevejpurves</a></strong> merged by <strong><a href=\"https://github.com/stevejpurves\">@stevejpurves</a></strong></li>\n<li><a href=\"https://github.com/jupyter-book/myst-theme/issues/546\">(#546)</a>: <em>🧱 Only apply grid system to outer <code>&lt;MyST&gt;</code> component</em> by <strong><a href=\"https://github.com/agoose77\">@agoose77</a></strong> merged by <strong><a href=\"https://github.com/rowanc1\">@rowanc1</a></strong></li>\n<li><a href=\"https://github.com/jupyter-book/myst-theme/issues/547\">(#547)</a>: <em>🪜 Use <code>BlockDepth</code> provider to scope grid layout to top-level blocks</em> by <strong><a href=\"https://github.com/agoose77\">@agoose77</a></strong> merged by <strong><a href=\"https://github.com/rowanc1\">@rowanc1</a></strong></li>\n<li><a href=\"https://github.com/jupyter-book/myst-theme/issues/548\">(#548)</a>: <em>🧱 Simplify Blocks (remove grid-system)</em> by <strong><a href=\"https://github.com/rowanc1\">@rowanc1</a></strong> merged by <strong><a href=\"https://github.com/rowanc1\">@rowanc1</a></strong></li>\n<li><a href=\"https://github.com/jupyter-book/myst-theme/issues/549\">(#549)</a>: <em>Version Packages</em> by <strong><a href=\"https://github.com/github-actions[bot]\">@github-actions[bot]</a></strong> merged by <strong><a href=\"https://github.com/rowanc1\">@rowanc1</a></strong></li>\n<li><a href=\"https://github.com/jupyter-book/myst-theme/issues/550\">(#550)</a>: <em>🧹 Clean up links to EB &amp; unify READMEs for packages</em> by <strong><a href=\"https://github.com/agoose77\">@agoose77</a></strong> merged by <strong><a href=\"https://github.com/agoose77\">@agoose77</a></strong></li>\n<li><a href=\"https://github.com/jupyter-book/myst-theme/issues/551\">(#551)</a>: <em>Version Packages</em> by <strong><a href=\"https://github.com/github-actions[bot]\">@github-actions[bot]</a></strong> merged by <strong><a href=\"https://github.com/rowanc1\">@rowanc1</a></strong></li>\n<li><a href=\"https://github.com/jupyter-book/myst-theme/issues/552\">(#552)</a>: <em>🧹 remove console.log</em> by <strong><a href=\"https://github.com/stevejpurves\">@stevejpurves</a></strong> merged by <strong><a href=\"https://github.com/stevejpurves\">@stevejpurves</a></strong></li>\n<li><a href=\"https://github.com/jupyter-book/myst-theme/issues/554\">(#554)</a>: <em>🎩 Fix landing-page block class lookup</em> by <strong><a href=\"https://github.com/agoose77\">@agoose77</a></strong> merged by <strong><a href=\"https://github.com/agoose77\">@agoose77</a></strong></li>\n<li><a href=\"https://github.com/jupyter-book/myst-theme/issues/555\">(#555)</a>: <em>Version Packages</em> by <strong><a href=\"https://github.com/github-actions[bot]\">@github-actions[bot]</a></strong> merged by <strong><a href=\"https://github.com/rowanc1\">@rowanc1</a></strong></li>\n<li><a href=\"https://github.com/jupyter-book/myst-theme/issues/556\">(#556)</a>: <em>🌲 Add <code>root</code> renderer</em> by <strong><a href=\"https://github.com/agoose77\">@agoose77</a></strong> merged by <strong><a href=\"https://github.com/rowanc1\">@rowanc1</a></strong></li>\n<li><a href=\"https://github.com/jupyter-book/myst-theme/issues/557\">(#557)</a>: <em>🐛 Ensure CSS has baseURL directly</em> by <strong><a href=\"https://github.com/rowanc1\">@rowanc1</a></strong> merged by <strong><a href=\"https://github.com/rowanc1\">@rowanc1</a></strong></li>\n<li><a href=\"https://github.com/jupyter-book/myst-theme/issues/559\">(#559)</a>: <em>♹ Small types improvements</em> by <strong><a href=\"https://github.com/rowanc1\">@rowanc1</a></strong> merged by <strong><a href=\"https://github.com/rowanc1\">@rowanc1</a></strong></li>\n<li><a href=\"https://github.com/jupyter-book/myst-theme/issues/560\">(#560)</a>: <em>🖥️ Add deploy workflow to CI</em> by <strong><a href=\"https://github.com/agoose77\">@agoose77</a></strong> merged by <strong><a href=\"https://github.com/agoose77\">@agoose77</a></strong></li>\n<li><a href=\"https://github.com/jupyter-book/myst-theme/issues/561\">(#561)</a>: <em>🛠️ Delete theme's built assets before build</em> by <strong><a href=\"https://github.com/agoose77\">@agoose77</a></strong> merged by <strong><a href=\"https://github.com/rowanc1\">@rowanc1</a></strong></li>\n<li><a href=\"https://github.com/jupyter-book/myst-theme/issues/562\">(#562)</a>: <em>✏️ Fix metadata for template URL</em> by <strong><a href=\"https://github.com/agoose77\">@agoose77</a></strong> merged by <strong><a href=\"https://github.com/rowanc1\">@rowanc1</a></strong></li>\n<li><a href=\"https://github.com/jupyter-book/myst-theme/issues/563\">(#563)</a>: <em>🥂 Merge deploy and release workflows</em> by <strong><a href=\"https://github.com/agoose77\">@agoose77</a></strong> merged by <strong><a href=\"https://github.com/agoose77\">@agoose77</a></strong></li>\n<li><a href=\"https://github.com/jupyter-book/myst-theme/issues/568\">(#568)</a>: <em>❄️ Add nix dev-shell flake</em> by <strong><a href=\"https://github.com/agoose77\">@agoose77</a></strong> merged by <strong><a href=\"https://github.com/agoose77\">@agoose77</a></strong></li>\n<li><a href=\"https://github.com/jupyter-book/myst-theme/issues/570\">(#570)</a>: <em>🎓 Add support for <code>button</code> in <code>cite</code> nodes</em> by <strong><a href=\"https://github.com/agoose77\">@agoose77</a></strong> merged by <strong><a href=\"https://github.com/stevejpurves\">@stevejpurves</a></strong></li>\n<li><a href=\"https://github.com/jupyter-book/myst-theme/issues/573\">(#573)</a>: <em>➿ Enable flex-wrap in landing-page links</em> by <strong><a href=\"https://github.com/agoose77\">@agoose77</a></strong> merged by <strong><a href=\"https://github.com/agoose77\">@agoose77</a></strong></li>\n<li><a href=\"https://github.com/jupyter-book/myst-theme/issues/576\">(#576)</a>: <em>🖼️ Fix layout of <code>justified</code> landing blocks</em> by <strong><a href=\"https://github.com/agoose77\">@agoose77</a></strong> merged by <strong><a href=\"https://github.com/agoose77\">@agoose77</a></strong></li>\n</ul>"
      }
     },
     "7dbd57d577874288ae488349d08f2ab3": {
      "model_module": "@jupyter-widgets/base",
      "model_module_version": "2.0.0",
      "model_name": "LayoutModel",
      "state": {
       "_model_module": "@jupyter-widgets/base",
       "_model_module_version": "2.0.0",
       "_model_name": "LayoutModel",
       "_view_count": null,
       "_view_module": "@jupyter-widgets/base",
       "_view_module_version": "2.0.0",
       "_view_name": "LayoutView",
       "align_content": null,
       "align_items": null,
       "align_self": null,
       "border_bottom": null,
       "border_left": null,
       "border_right": null,
       "border_top": null,
       "bottom": null,
       "display": null,
       "flex": null,
       "flex_flow": null,
       "grid_area": null,
       "grid_auto_columns": null,
       "grid_auto_flow": null,
       "grid_auto_rows": null,
       "grid_column": null,
       "grid_gap": null,
       "grid_row": null,
       "grid_template_areas": null,
       "grid_template_columns": null,
       "grid_template_rows": null,
       "height": null,
       "justify_content": null,
       "justify_items": null,
       "left": null,
       "margin": null,
       "max_height": null,
       "max_width": null,
       "min_height": null,
       "min_width": null,
       "object_fit": null,
       "object_position": null,
       "order": null,
       "overflow": null,
       "padding": null,
       "right": null,
       "top": null,
       "visibility": null,
       "width": null
      }
     },
     "7ef33625e68342239738d7a996e79639": {
      "model_module": "@jupyter-widgets/base",
      "model_module_version": "2.0.0",
      "model_name": "LayoutModel",
      "state": {
       "_model_module": "@jupyter-widgets/base",
       "_model_module_version": "2.0.0",
       "_model_name": "LayoutModel",
       "_view_count": null,
       "_view_module": "@jupyter-widgets/base",
       "_view_module_version": "2.0.0",
       "_view_name": "LayoutView",
       "align_content": null,
       "align_items": null,
       "align_self": null,
       "border_bottom": null,
       "border_left": null,
       "border_right": null,
       "border_top": null,
       "bottom": null,
       "display": null,
       "flex": null,
       "flex_flow": null,
       "grid_area": null,
       "grid_auto_columns": null,
       "grid_auto_flow": null,
       "grid_auto_rows": null,
       "grid_column": null,
       "grid_gap": null,
       "grid_row": null,
       "grid_template_areas": null,
       "grid_template_columns": null,
       "grid_template_rows": null,
       "height": null,
       "justify_content": null,
       "justify_items": null,
       "left": null,
       "margin": null,
       "max_height": null,
       "max_width": null,
       "min_height": null,
       "min_width": null,
       "object_fit": null,
       "object_position": null,
       "order": null,
       "overflow": null,
       "padding": null,
       "right": null,
       "top": null,
       "visibility": null,
       "width": null
      }
     },
     "805b39f1429f45499a96ee50df8dda9a": {
      "model_module": "@jupyter-widgets/controls",
      "model_module_version": "2.0.0",
      "model_name": "HTMLModel",
      "state": {
       "_dom_classes": [],
       "_model_module": "@jupyter-widgets/controls",
       "_model_module_version": "2.0.0",
       "_model_name": "HTMLModel",
       "_view_count": null,
       "_view_module": "@jupyter-widgets/controls",
       "_view_module_version": "2.0.0",
       "_view_name": "HTMLView",
       "description": "",
       "description_allow_html": false,
       "layout": "IPY_MODEL_7dbd57d577874288ae488349d08f2ab3",
       "placeholder": "​",
       "style": "IPY_MODEL_24e600e7a1c9479bb923e57035d64e6b",
       "tabbable": null,
       "tooltip": null,
       "value": "<h4>Closed PRs for repo: <a href=\"https://github.com/jupyter-book/team-compass\">jupyter-book/team-compass</a></h4>\n<h5></h5>\n<ul>\n<li><a href=\"https://github.com/jupyter-book/team-compass/issues/15\">(#15)</a>: <em>🧹 Drop images (now referenced from <code>meta</code>)</em> by <strong><a href=\"https://github.com/agoose77\">@agoose77</a></strong> merged by <strong><a href=\"https://github.com/choldgraf\">@choldgraf</a></strong></li>\n<li><a href=\"https://github.com/jupyter-book/team-compass/issues/18\">(#18)</a>: <em>Adding light decision making process</em> by <strong><a href=\"https://github.com/choldgraf\">@choldgraf</a></strong> merged by <strong><a href=\"https://github.com/choldgraf\">@choldgraf</a></strong></li>\n<li><a href=\"https://github.com/jupyter-book/team-compass/issues/23\">(#23)</a>: <em>🗓️ Add meeting schedule</em> by <strong><a href=\"https://github.com/agoose77\">@agoose77</a></strong> merged by <strong><a href=\"https://github.com/agoose77\">@agoose77</a></strong></li>\n</ul>"
      }
     },
     "88145cf3a91145e09f54281ac30a12d1": {
      "model_module": "@jupyter-widgets/controls",
      "model_module_version": "2.0.0",
      "model_name": "HTMLStyleModel",
      "state": {
       "_model_module": "@jupyter-widgets/controls",
       "_model_module_version": "2.0.0",
       "_model_name": "HTMLStyleModel",
       "_view_count": null,
       "_view_module": "@jupyter-widgets/base",
       "_view_module_version": "2.0.0",
       "_view_name": "StyleView",
       "background": null,
       "description_width": "",
       "font_size": null,
       "text_color": null
      }
     },
     "8b03ddb642ee4254a533120a3debbd0d": {
      "model_module": "@jupyter-widgets/controls",
      "model_module_version": "2.0.0",
      "model_name": "HTMLModel",
      "state": {
       "_dom_classes": [],
       "_model_module": "@jupyter-widgets/controls",
       "_model_module_version": "2.0.0",
       "_model_name": "HTMLModel",
       "_view_count": null,
       "_view_module": "@jupyter-widgets/controls",
       "_view_module_version": "2.0.0",
       "_view_name": "HTMLView",
       "description": "",
       "description_allow_html": false,
       "layout": "IPY_MODEL_7716705aa4324d988cd3c0cec34fcd63",
       "placeholder": "​",
       "style": "IPY_MODEL_eb82fbaec94843c7a20db257634b8846",
       "tabbable": null,
       "tooltip": null,
       "value": "<h4>Closed PRs for repo: <a href=\"https://github.com/jupyter-book/jupyter-book\">jupyter-book/jupyter-book</a></h4>\n<h5></h5>\n<ul>\n<li><a href=\"https://github.com/jupyter-book/jupyter-book/issues/2319\">(#2319)</a>: <em>DOC: Update GH Pages Publishing Guidance</em> by <strong><a href=\"https://github.com/RHammond2\">@RHammond2</a></strong> merged by <strong><a href=\"https://github.com/agoose77\">@agoose77</a></strong></li>\n<li><a href=\"https://github.com/jupyter-book/jupyter-book/issues/2324\">(#2324)</a>: <em>⬆️ Bump <code>myst-cli</code> version</em> by <strong><a href=\"https://github.com/agoose77\">@agoose77</a></strong> merged by <strong><a href=\"https://github.com/agoose77\">@agoose77</a></strong></li>\n<li><a href=\"https://github.com/jupyter-book/jupyter-book/issues/2325\">(#2325)</a>: <em>🕰️ Fix deploy action versions</em> by <strong><a href=\"https://github.com/agoose77\">@agoose77</a></strong> merged by <strong><a href=\"https://github.com/agoose77\">@agoose77</a></strong></li>\n<li><a href=\"https://github.com/jupyter-book/jupyter-book/issues/2326\">(#2326)</a>: <em>📝 Drop reference to execution workaround, as it does not work</em> by <strong><a href=\"https://github.com/agoose77\">@agoose77</a></strong> merged by <strong><a href=\"https://github.com/agoose77\">@agoose77</a></strong></li>\n<li><a href=\"https://github.com/jupyter-book/jupyter-book/issues/2327\">(#2327)</a>: <em>MAINT: prepare for new release</em> by <strong><a href=\"https://github.com/agoose77\">@agoose77</a></strong> merged by <strong><a href=\"https://github.com/agoose77\">@agoose77</a></strong></li>\n<li><a href=\"https://github.com/jupyter-book/jupyter-book/issues/2329\">(#2329)</a>: <em>FIX: use 'main' for branch name</em> by <strong><a href=\"https://github.com/agoose77\">@agoose77</a></strong> merged by <strong><a href=\"https://github.com/agoose77\">@agoose77</a></strong></li>\n<li><a href=\"https://github.com/jupyter-book/jupyter-book/issues/2330\">(#2330)</a>: <em>DOCS: fix RTD configuration</em> by <strong><a href=\"https://github.com/agoose77\">@agoose77</a></strong> merged by <strong><a href=\"https://github.com/agoose77\">@agoose77</a></strong></li>\n<li><a href=\"https://github.com/jupyter-book/jupyter-book/issues/2331\">(#2331)</a>: <em>Updated github action</em> by <strong><a href=\"https://github.com/StefanRR\">@StefanRR</a></strong> merged by <strong><a href=\"https://github.com/agoose77\">@agoose77</a></strong></li>\n<li><a href=\"https://github.com/jupyter-book/jupyter-book/issues/2332\">(#2332)</a>: <em>DOCS: update gh-pages guidance</em> by <strong><a href=\"https://github.com/agoose77\">@agoose77</a></strong> merged by <strong><a href=\"https://github.com/agoose77\">@agoose77</a></strong></li>\n<li><a href=\"https://github.com/jupyter-book/jupyter-book/issues/2335\">(#2335)</a>: <em>🔼 Bump myst-cli version</em> by <strong><a href=\"https://github.com/JimMadge\">@JimMadge</a></strong> merged by <strong><a href=\"https://github.com/agoose77\">@agoose77</a></strong></li>\n<li><a href=\"https://github.com/jupyter-book/jupyter-book/issues/2336\">(#2336)</a>: <em>✏️ Add note about pre-release availability</em> by <strong><a href=\"https://github.com/agoose77\">@agoose77</a></strong> merged by <strong><a href=\"https://github.com/agoose77\">@agoose77</a></strong></li>\n<li><a href=\"https://github.com/jupyter-book/jupyter-book/issues/2342\">(#2342)</a>: <em>🔼 Bump <code>myst-cli</code> version for release</em> by <strong><a href=\"https://github.com/agoose77\">@agoose77</a></strong> merged by <strong><a href=\"https://github.com/agoose77\">@agoose77</a></strong></li>\n<li><a href=\"https://github.com/jupyter-book/jupyter-book/issues/2348\">(#2348)</a>: <em>DOC: minor fixes</em> by <strong><a href=\"https://github.com/bsipocz\">@bsipocz</a></strong> merged by <strong><a href=\"https://github.com/choldgraf\">@choldgraf</a></strong></li>\n</ul>"
      }
     },
     "8de5d122977b403e80bc12a1de11119e": {
      "model_module": "@jupyter-widgets/base",
      "model_module_version": "2.0.0",
      "model_name": "LayoutModel",
      "state": {
       "_model_module": "@jupyter-widgets/base",
       "_model_module_version": "2.0.0",
       "_model_name": "LayoutModel",
       "_view_count": null,
       "_view_module": "@jupyter-widgets/base",
       "_view_module_version": "2.0.0",
       "_view_name": "LayoutView",
       "align_content": null,
       "align_items": null,
       "align_self": null,
       "border_bottom": null,
       "border_left": null,
       "border_right": null,
       "border_top": null,
       "bottom": null,
       "display": null,
       "flex": null,
       "flex_flow": null,
       "grid_area": null,
       "grid_auto_columns": null,
       "grid_auto_flow": null,
       "grid_auto_rows": null,
       "grid_column": null,
       "grid_gap": null,
       "grid_row": null,
       "grid_template_areas": null,
       "grid_template_columns": null,
       "grid_template_rows": null,
       "height": null,
       "justify_content": null,
       "justify_items": null,
       "left": null,
       "margin": null,
       "max_height": null,
       "max_width": null,
       "min_height": null,
       "min_width": null,
       "object_fit": null,
       "object_position": null,
       "order": null,
       "overflow": null,
       "padding": null,
       "right": null,
       "top": null,
       "visibility": null,
       "width": null
      }
     },
     "9591b809697545a39484c66f88ac6728": {
      "model_module": "@jupyter-widgets/controls",
      "model_module_version": "2.0.0",
      "model_name": "HTMLModel",
      "state": {
       "_dom_classes": [],
       "_model_module": "@jupyter-widgets/controls",
       "_model_module_version": "2.0.0",
       "_model_name": "HTMLModel",
       "_view_count": null,
       "_view_module": "@jupyter-widgets/controls",
       "_view_module_version": "2.0.0",
       "_view_name": "HTMLView",
       "description": "",
       "description_allow_html": false,
       "layout": "IPY_MODEL_dc7877a8177c4fb8a0b92a90fa69a05c",
       "placeholder": "​",
       "style": "IPY_MODEL_429027bba66443ebaf6f8378215bcb75",
       "tabbable": null,
       "tooltip": null,
       "value": "<h5><a href=\"https://github.com/jupyter-book/myst-theme\">jupyter-book/myst-theme</a></h5>\n<ul>\n<li><a href=\"https://github.com/jupyter-book/myst-theme/issues/527\">(#527)</a>: <em>Support Bokeh Plots</em> by <strong><a href=\"https://github.com/acocac\">@acocac</a></strong></li>\n<li><a href=\"https://github.com/jupyter-book/myst-theme/issues/567\">(#567)</a>: <em>Move colour choices to theme variables</em> by <strong><a href=\"https://github.com/agoose77\">@agoose77</a></strong></li>\n<li><a href=\"https://github.com/jupyter-book/myst-theme/issues/342\">(#342)</a>: <em>HTML served with <code>&lt;img src=http://localhost:3100&gt; even with</code>HOST=10.0.0.1 myst start --keep-host`</em> by <strong><a href=\"https://github.com/drewlio\">@drewlio</a></strong></li>\n<li><a href=\"https://github.com/jupyter-book/myst-theme/issues/474\">(#474)</a>: <em>Landing Pages with widget layouts</em> by <strong><a href=\"https://github.com/choldgraf\">@choldgraf</a></strong></li>\n<li><a href=\"https://github.com/jupyter-book/myst-theme/issues/558\">(#558)</a>: <em>Improve Static HTML Builds (upgrading Remix)</em> by <strong><a href=\"https://github.com/rowanc1\">@rowanc1</a></strong></li>\n</ul>"
      }
     },
     "961dcc84c74d403988fa6dc6b0613604": {
      "model_module": "@jupyter-widgets/controls",
      "model_module_version": "2.0.0",
      "model_name": "HTMLStyleModel",
      "state": {
       "_model_module": "@jupyter-widgets/controls",
       "_model_module_version": "2.0.0",
       "_model_name": "HTMLStyleModel",
       "_view_count": null,
       "_view_module": "@jupyter-widgets/base",
       "_view_module_version": "2.0.0",
       "_view_name": "StyleView",
       "background": null,
       "description_width": "",
       "font_size": null,
       "text_color": null
      }
     },
     "98b35d220ac8469bb9a0e2dba3657076": {
      "model_module": "@jupyter-widgets/controls",
      "model_module_version": "2.0.0",
      "model_name": "HTMLStyleModel",
      "state": {
       "_model_module": "@jupyter-widgets/controls",
       "_model_module_version": "2.0.0",
       "_model_name": "HTMLStyleModel",
       "_view_count": null,
       "_view_module": "@jupyter-widgets/base",
       "_view_module_version": "2.0.0",
       "_view_name": "StyleView",
       "background": null,
       "description_width": "",
       "font_size": null,
       "text_color": null
      }
     },
     "a605e1d74b7f4a2fbfb4eb0f37e24c3d": {
      "model_module": "@jupyter-widgets/base",
      "model_module_version": "2.0.0",
      "model_name": "LayoutModel",
      "state": {
       "_model_module": "@jupyter-widgets/base",
       "_model_module_version": "2.0.0",
       "_model_name": "LayoutModel",
       "_view_count": null,
       "_view_module": "@jupyter-widgets/base",
       "_view_module_version": "2.0.0",
       "_view_name": "LayoutView",
       "align_content": null,
       "align_items": null,
       "align_self": null,
       "border_bottom": null,
       "border_left": null,
       "border_right": null,
       "border_top": null,
       "bottom": null,
       "display": null,
       "flex": null,
       "flex_flow": null,
       "grid_area": null,
       "grid_auto_columns": null,
       "grid_auto_flow": null,
       "grid_auto_rows": null,
       "grid_column": null,
       "grid_gap": null,
       "grid_row": null,
       "grid_template_areas": null,
       "grid_template_columns": null,
       "grid_template_rows": null,
       "height": null,
       "justify_content": null,
       "justify_items": null,
       "left": null,
       "margin": null,
       "max_height": null,
       "max_width": null,
       "min_height": null,
       "min_width": null,
       "object_fit": null,
       "object_position": null,
       "order": null,
       "overflow": null,
       "padding": null,
       "right": null,
       "top": null,
       "visibility": null,
       "width": null
      }
     },
     "a6f8c9003ef04a04af7a167b3acc1299": {
      "model_module": "@jupyter-widgets/base",
      "model_module_version": "2.0.0",
      "model_name": "LayoutModel",
      "state": {
       "_model_module": "@jupyter-widgets/base",
       "_model_module_version": "2.0.0",
       "_model_name": "LayoutModel",
       "_view_count": null,
       "_view_module": "@jupyter-widgets/base",
       "_view_module_version": "2.0.0",
       "_view_name": "LayoutView",
       "align_content": null,
       "align_items": null,
       "align_self": null,
       "border_bottom": null,
       "border_left": null,
       "border_right": null,
       "border_top": null,
       "bottom": null,
       "display": null,
       "flex": null,
       "flex_flow": null,
       "grid_area": null,
       "grid_auto_columns": null,
       "grid_auto_flow": null,
       "grid_auto_rows": null,
       "grid_column": null,
       "grid_gap": null,
       "grid_row": null,
       "grid_template_areas": null,
       "grid_template_columns": null,
       "grid_template_rows": null,
       "height": null,
       "justify_content": null,
       "justify_items": null,
       "left": null,
       "margin": null,
       "max_height": null,
       "max_width": null,
       "min_height": null,
       "min_width": null,
       "object_fit": null,
       "object_position": null,
       "order": null,
       "overflow": null,
       "padding": null,
       "right": null,
       "top": null,
       "visibility": null,
       "width": null
      }
     },
     "aa2d9437fc914b4c8b32dae54c04d225": {
      "model_module": "@jupyter-widgets/base",
      "model_module_version": "2.0.0",
      "model_name": "LayoutModel",
      "state": {
       "_model_module": "@jupyter-widgets/base",
       "_model_module_version": "2.0.0",
       "_model_name": "LayoutModel",
       "_view_count": null,
       "_view_module": "@jupyter-widgets/base",
       "_view_module_version": "2.0.0",
       "_view_name": "LayoutView",
       "align_content": null,
       "align_items": null,
       "align_self": null,
       "border_bottom": null,
       "border_left": null,
       "border_right": null,
       "border_top": null,
       "bottom": null,
       "display": null,
       "flex": null,
       "flex_flow": null,
       "grid_area": null,
       "grid_auto_columns": null,
       "grid_auto_flow": null,
       "grid_auto_rows": null,
       "grid_column": null,
       "grid_gap": null,
       "grid_row": null,
       "grid_template_areas": null,
       "grid_template_columns": null,
       "grid_template_rows": null,
       "height": null,
       "justify_content": null,
       "justify_items": null,
       "left": null,
       "margin": null,
       "max_height": null,
       "max_width": null,
       "min_height": null,
       "min_width": null,
       "object_fit": null,
       "object_position": null,
       "order": null,
       "overflow": null,
       "padding": null,
       "right": null,
       "top": null,
       "visibility": null,
       "width": null
      }
     },
     "abcf4e1243074891b0cdcd58b69af298": {
      "model_module": "@jupyter-widgets/controls",
      "model_module_version": "2.0.0",
      "model_name": "HTMLStyleModel",
      "state": {
       "_model_module": "@jupyter-widgets/controls",
       "_model_module_version": "2.0.0",
       "_model_name": "HTMLStyleModel",
       "_view_count": null,
       "_view_module": "@jupyter-widgets/base",
       "_view_module_version": "2.0.0",
       "_view_name": "StyleView",
       "background": null,
       "description_width": "",
       "font_size": null,
       "text_color": null
      }
     },
     "ad73f7fc01db4836ba17299a9060e242": {
      "model_module": "@jupyter-widgets/base",
      "model_module_version": "2.0.0",
      "model_name": "LayoutModel",
      "state": {
       "_model_module": "@jupyter-widgets/base",
       "_model_module_version": "2.0.0",
       "_model_name": "LayoutModel",
       "_view_count": null,
       "_view_module": "@jupyter-widgets/base",
       "_view_module_version": "2.0.0",
       "_view_name": "LayoutView",
       "align_content": null,
       "align_items": null,
       "align_self": null,
       "border_bottom": null,
       "border_left": null,
       "border_right": null,
       "border_top": null,
       "bottom": null,
       "display": null,
       "flex": null,
       "flex_flow": null,
       "grid_area": null,
       "grid_auto_columns": null,
       "grid_auto_flow": null,
       "grid_auto_rows": null,
       "grid_column": null,
       "grid_gap": null,
       "grid_row": null,
       "grid_template_areas": null,
       "grid_template_columns": null,
       "grid_template_rows": null,
       "height": null,
       "justify_content": null,
       "justify_items": null,
       "left": null,
       "margin": null,
       "max_height": null,
       "max_width": null,
       "min_height": null,
       "min_width": null,
       "object_fit": null,
       "object_position": null,
       "order": null,
       "overflow": null,
       "padding": null,
       "right": null,
       "top": null,
       "visibility": null,
       "width": null
      }
     },
     "bbce74c908f74df0a7e95d53313ac8f5": {
      "model_module": "@jupyter-widgets/controls",
      "model_module_version": "2.0.0",
      "model_name": "HTMLStyleModel",
      "state": {
       "_model_module": "@jupyter-widgets/controls",
       "_model_module_version": "2.0.0",
       "_model_name": "HTMLStyleModel",
       "_view_count": null,
       "_view_module": "@jupyter-widgets/base",
       "_view_module_version": "2.0.0",
       "_view_name": "StyleView",
       "background": null,
       "description_width": "",
       "font_size": null,
       "text_color": null
      }
     },
     "c2567bfa06f04f72a5654b35dec531df": {
      "model_module": "@jupyter-widgets/controls",
      "model_module_version": "2.0.0",
      "model_name": "HTMLModel",
      "state": {
       "_dom_classes": [],
       "_model_module": "@jupyter-widgets/controls",
       "_model_module_version": "2.0.0",
       "_model_name": "HTMLModel",
       "_view_count": null,
       "_view_module": "@jupyter-widgets/controls",
       "_view_module_version": "2.0.0",
       "_view_name": "HTMLView",
       "description": "",
       "description_allow_html": false,
       "layout": "IPY_MODEL_0f86eebd00754e8b85791dff2535eba3",
       "placeholder": "​",
       "style": "IPY_MODEL_6d4a66d4c0154791b5549643330aa982",
       "tabbable": null,
       "tooltip": null,
       "value": "<h5><a href=\"https://github.com/jupyter-book/thebe\">jupyter-book/thebe</a></h5>\n<ul>\n<li><a href=\"https://github.com/jupyter-book/thebe/issues/791\">(#791)</a>: <em>Update to JupyterLite 0.6.0</em> by <strong><a href=\"https://github.com/jtpio\">@jtpio</a></strong></li>\n</ul>"
      }
     },
     "c2a566f5abe7497cb270af065af3c91f": {
      "model_module": "@jupyter-widgets/controls",
      "model_module_version": "2.0.0",
      "model_name": "HTMLStyleModel",
      "state": {
       "_model_module": "@jupyter-widgets/controls",
       "_model_module_version": "2.0.0",
       "_model_name": "HTMLStyleModel",
       "_view_count": null,
       "_view_module": "@jupyter-widgets/base",
       "_view_module_version": "2.0.0",
       "_view_name": "StyleView",
       "background": null,
       "description_width": "",
       "font_size": null,
       "text_color": null
      }
     },
     "c6b93207736a458488d15346b6baed3f": {
      "model_module": "@jupyter-widgets/controls",
      "model_module_version": "2.0.0",
      "model_name": "TabModel",
      "state": {
       "_dom_classes": [],
       "_model_module": "@jupyter-widgets/controls",
       "_model_module_version": "2.0.0",
       "_model_name": "TabModel",
       "_view_count": null,
       "_view_module": "@jupyter-widgets/controls",
       "_view_module_version": "2.0.0",
       "_view_name": "TabView",
       "box_style": "",
       "children": [
        "IPY_MODEL_8b03ddb642ee4254a533120a3debbd0d",
        "IPY_MODEL_4d34647491c946708d88f2a95104d855",
        "IPY_MODEL_7cc13330586d4632863d67666d93493f",
        "IPY_MODEL_76c1ac016b1844c58ecf1eaa1ba9360e",
        "IPY_MODEL_75d6eb3f1f4e4446b06eacfd0b0bfbdd",
        "IPY_MODEL_805b39f1429f45499a96ee50df8dda9a"
       ],
       "layout": "IPY_MODEL_8de5d122977b403e80bc12a1de11119e",
       "selected_index": 0,
       "tabbable": null,
       "titles": [
        "jupyter-book",
        "myst-enhancement-proposals",
        "myst-theme",
        "mystmd",
        "mystmd.org",
        "team-compass"
       ],
       "tooltip": null
      }
     },
     "cac4cf027b8b4696a3b358fa1a458899": {
      "model_module": "@jupyter-widgets/controls",
      "model_module_version": "2.0.0",
      "model_name": "HTMLStyleModel",
      "state": {
       "_model_module": "@jupyter-widgets/controls",
       "_model_module_version": "2.0.0",
       "_model_name": "HTMLStyleModel",
       "_view_count": null,
       "_view_module": "@jupyter-widgets/base",
       "_view_module_version": "2.0.0",
       "_view_name": "StyleView",
       "background": null,
       "description_width": "",
       "font_size": null,
       "text_color": null
      }
     },
     "cb5429d83e454ba893548cc527025d71": {
      "model_module": "@jupyter-widgets/controls",
      "model_module_version": "2.0.0",
      "model_name": "TabModel",
      "state": {
       "_dom_classes": [],
       "_model_module": "@jupyter-widgets/controls",
       "_model_module_version": "2.0.0",
       "_model_name": "TabModel",
       "_view_count": null,
       "_view_module": "@jupyter-widgets/controls",
       "_view_module_version": "2.0.0",
       "_view_name": "TabView",
       "box_style": "",
       "children": [
        "IPY_MODEL_2a3f92425aaf4ab2b31298d54d50500f",
        "IPY_MODEL_0b7a83c308524d33a829523deba4a905",
        "IPY_MODEL_52e6945c1a4646928eaeed16e7b9b502",
        "IPY_MODEL_4045a2d89b6248bd90f31e2b76aad88d",
        "IPY_MODEL_1ffe85e0e2164420adbbb18af9e5927b",
        "IPY_MODEL_ef8c909ef20645f2ac1053d7a46485e3",
        "IPY_MODEL_138e2065b04c430eaeda24f69b301178",
        "IPY_MODEL_79b2c624dedc4c7291d8b497c5fc251a"
       ],
       "layout": "IPY_MODEL_64cd7be6e5a34bb68df8dce9bd76a997",
       "selected_index": 0,
       "tabbable": null,
       "titles": [
        "jupyter-book",
        "jupyterlab-myst",
        "myst-enhancement-proposals",
        "myst-theme",
        "mystmd",
        "mystmd.org",
        "team-compass",
        "thebe"
       ],
       "tooltip": null
      }
     },
     "d36a362c59664228bc662d34f6278199": {
      "model_module": "@jupyter-widgets/base",
      "model_module_version": "2.0.0",
      "model_name": "LayoutModel",
      "state": {
       "_model_module": "@jupyter-widgets/base",
       "_model_module_version": "2.0.0",
       "_model_name": "LayoutModel",
       "_view_count": null,
       "_view_module": "@jupyter-widgets/base",
       "_view_module_version": "2.0.0",
       "_view_name": "LayoutView",
       "align_content": null,
       "align_items": null,
       "align_self": null,
       "border_bottom": null,
       "border_left": null,
       "border_right": null,
       "border_top": null,
       "bottom": null,
       "display": null,
       "flex": null,
       "flex_flow": null,
       "grid_area": null,
       "grid_auto_columns": null,
       "grid_auto_flow": null,
       "grid_auto_rows": null,
       "grid_column": null,
       "grid_gap": null,
       "grid_row": null,
       "grid_template_areas": null,
       "grid_template_columns": null,
       "grid_template_rows": null,
       "height": null,
       "justify_content": null,
       "justify_items": null,
       "left": null,
       "margin": null,
       "max_height": null,
       "max_width": null,
       "min_height": null,
       "min_width": null,
       "object_fit": null,
       "object_position": null,
       "order": null,
       "overflow": null,
       "padding": null,
       "right": null,
       "top": null,
       "visibility": null,
       "width": null
      }
     },
     "dc7877a8177c4fb8a0b92a90fa69a05c": {
      "model_module": "@jupyter-widgets/base",
      "model_module_version": "2.0.0",
      "model_name": "LayoutModel",
      "state": {
       "_model_module": "@jupyter-widgets/base",
       "_model_module_version": "2.0.0",
       "_model_name": "LayoutModel",
       "_view_count": null,
       "_view_module": "@jupyter-widgets/base",
       "_view_module_version": "2.0.0",
       "_view_name": "LayoutView",
       "align_content": null,
       "align_items": null,
       "align_self": null,
       "border_bottom": null,
       "border_left": null,
       "border_right": null,
       "border_top": null,
       "bottom": null,
       "display": null,
       "flex": null,
       "flex_flow": null,
       "grid_area": null,
       "grid_auto_columns": null,
       "grid_auto_flow": null,
       "grid_auto_rows": null,
       "grid_column": null,
       "grid_gap": null,
       "grid_row": null,
       "grid_template_areas": null,
       "grid_template_columns": null,
       "grid_template_rows": null,
       "height": null,
       "justify_content": null,
       "justify_items": null,
       "left": null,
       "margin": null,
       "max_height": null,
       "max_width": null,
       "min_height": null,
       "min_width": null,
       "object_fit": null,
       "object_position": null,
       "order": null,
       "overflow": null,
       "padding": null,
       "right": null,
       "top": null,
       "visibility": null,
       "width": null
      }
     },
     "e37ea924df9e4e29bfba0e548fc5dbb9": {
      "model_module": "@jupyter-widgets/controls",
      "model_module_version": "2.0.0",
      "model_name": "HTMLStyleModel",
      "state": {
       "_model_module": "@jupyter-widgets/controls",
       "_model_module_version": "2.0.0",
       "_model_name": "HTMLStyleModel",
       "_view_count": null,
       "_view_module": "@jupyter-widgets/base",
       "_view_module_version": "2.0.0",
       "_view_name": "StyleView",
       "background": null,
       "description_width": "",
       "font_size": null,
       "text_color": null
      }
     },
     "e60f88c0f7db4333af62bfe8804dd169": {
      "model_module": "@jupyter-widgets/controls",
      "model_module_version": "2.0.0",
      "model_name": "HTMLModel",
      "state": {
       "_dom_classes": [],
       "_model_module": "@jupyter-widgets/controls",
       "_model_module_version": "2.0.0",
       "_model_name": "HTMLModel",
       "_view_count": null,
       "_view_module": "@jupyter-widgets/controls",
       "_view_module_version": "2.0.0",
       "_view_name": "HTMLView",
       "description": "",
       "description_allow_html": false,
       "layout": "IPY_MODEL_f9576ba016864d4fbee5046659709146",
       "placeholder": "​",
       "style": "IPY_MODEL_599caf036b9744d4a67d07f58691bdc0",
       "tabbable": null,
       "tooltip": null,
       "value": "<h5><a href=\"https://github.com/jupyter-book/team-compass\">jupyter-book/team-compass</a></h5>\n<ul>\n<li><a href=\"https://github.com/jupyter-book/team-compass/issues/20\">(#20)</a>: <em>Run publicly accessible team meetings</em> by <strong><a href=\"https://github.com/choldgraf\">@choldgraf</a></strong></li>\n<li><a href=\"https://github.com/jupyter-book/team-compass/issues/24\">(#24)</a>: <em>Move our DNS owner from squarespace to Jupyter's CloudFlare</em> by <strong><a href=\"https://github.com/choldgraf\">@choldgraf</a></strong></li>\n<li><a href=\"https://github.com/jupyter-book/team-compass/issues/25\">(#25)</a>: <em>Make our documentation deployment infrastructure available to all jupyter book team members</em> by <strong><a href=\"https://github.com/choldgraf\">@choldgraf</a></strong></li>\n</ul>"
      }
     },
     "eb82fbaec94843c7a20db257634b8846": {
      "model_module": "@jupyter-widgets/controls",
      "model_module_version": "2.0.0",
      "model_name": "HTMLStyleModel",
      "state": {
       "_model_module": "@jupyter-widgets/controls",
       "_model_module_version": "2.0.0",
       "_model_name": "HTMLStyleModel",
       "_view_count": null,
       "_view_module": "@jupyter-widgets/base",
       "_view_module_version": "2.0.0",
       "_view_name": "StyleView",
       "background": null,
       "description_width": "",
       "font_size": null,
       "text_color": null
      }
     },
     "eba9f41c32b648ef98f0ff7221c5b800": {
      "model_module": "@jupyter-widgets/base",
      "model_module_version": "2.0.0",
      "model_name": "LayoutModel",
      "state": {
       "_model_module": "@jupyter-widgets/base",
       "_model_module_version": "2.0.0",
       "_model_name": "LayoutModel",
       "_view_count": null,
       "_view_module": "@jupyter-widgets/base",
       "_view_module_version": "2.0.0",
       "_view_name": "LayoutView",
       "align_content": null,
       "align_items": null,
       "align_self": null,
       "border_bottom": null,
       "border_left": null,
       "border_right": null,
       "border_top": null,
       "bottom": null,
       "display": null,
       "flex": null,
       "flex_flow": null,
       "grid_area": null,
       "grid_auto_columns": null,
       "grid_auto_flow": null,
       "grid_auto_rows": null,
       "grid_column": null,
       "grid_gap": null,
       "grid_row": null,
       "grid_template_areas": null,
       "grid_template_columns": null,
       "grid_template_rows": null,
       "height": null,
       "justify_content": null,
       "justify_items": null,
       "left": null,
       "margin": null,
       "max_height": null,
       "max_width": null,
       "min_height": null,
       "min_width": null,
       "object_fit": null,
       "object_position": null,
       "order": null,
       "overflow": null,
       "padding": null,
       "right": null,
       "top": null,
       "visibility": null,
       "width": null
      }
     },
     "eeda6132beef44be9e3ed7907f5e9b6f": {
      "model_module": "@jupyter-widgets/base",
      "model_module_version": "2.0.0",
      "model_name": "LayoutModel",
      "state": {
       "_model_module": "@jupyter-widgets/base",
       "_model_module_version": "2.0.0",
       "_model_name": "LayoutModel",
       "_view_count": null,
       "_view_module": "@jupyter-widgets/base",
       "_view_module_version": "2.0.0",
       "_view_name": "LayoutView",
       "align_content": null,
       "align_items": null,
       "align_self": null,
       "border_bottom": null,
       "border_left": null,
       "border_right": null,
       "border_top": null,
       "bottom": null,
       "display": null,
       "flex": null,
       "flex_flow": null,
       "grid_area": null,
       "grid_auto_columns": null,
       "grid_auto_flow": null,
       "grid_auto_rows": null,
       "grid_column": null,
       "grid_gap": null,
       "grid_row": null,
       "grid_template_areas": null,
       "grid_template_columns": null,
       "grid_template_rows": null,
       "height": null,
       "justify_content": null,
       "justify_items": null,
       "left": null,
       "margin": null,
       "max_height": null,
       "max_width": null,
       "min_height": null,
       "min_width": null,
       "object_fit": null,
       "object_position": null,
       "order": null,
       "overflow": null,
       "padding": null,
       "right": null,
       "top": null,
       "visibility": null,
       "width": null
      }
     },
     "ef8c909ef20645f2ac1053d7a46485e3": {
      "model_module": "@jupyter-widgets/controls",
      "model_module_version": "2.0.0",
      "model_name": "HTMLModel",
      "state": {
       "_dom_classes": [],
       "_model_module": "@jupyter-widgets/controls",
       "_model_module_version": "2.0.0",
       "_model_name": "HTMLModel",
       "_view_count": null,
       "_view_module": "@jupyter-widgets/controls",
       "_view_module_version": "2.0.0",
       "_view_name": "HTMLView",
       "description": "",
       "description_allow_html": false,
       "layout": "IPY_MODEL_a605e1d74b7f4a2fbfb4eb0f37e24c3d",
       "placeholder": "​",
       "style": "IPY_MODEL_abcf4e1243074891b0cdcd58b69af298",
       "tabbable": null,
       "tooltip": null,
       "value": "<h5><a href=\"https://github.com/jupyter-book/mystmd.org\">jupyter-book/mystmd.org</a></h5>\n<ul>\n<li><a href=\"https://github.com/jupyter-book/mystmd.org/issues/22\">(#22)</a>: <em>Update dependencies after adding button-role</em> by <strong><a href=\"https://github.com/jnywong\">@jnywong</a></strong></li>\n<li><a href=\"https://github.com/jupyter-book/mystmd.org/issues/25\">(#25)</a>: <em>We must re-authenticate with Rowan's Vercel project</em> by <strong><a href=\"https://github.com/choldgraf\">@choldgraf</a></strong></li>\n<li><a href=\"https://github.com/jupyter-book/mystmd.org/issues/26\">(#26)</a>: <em>Document our Vercel deployment and share access to the steering council</em> by <strong><a href=\"https://github.com/choldgraf\">@choldgraf</a></strong></li>\n</ul>"
      }
     },
     "f13ede16f8954e45bbeb05d914fd19c9": {
      "model_module": "@jupyter-widgets/controls",
      "model_module_version": "2.0.0",
      "model_name": "HTMLStyleModel",
      "state": {
       "_model_module": "@jupyter-widgets/controls",
       "_model_module_version": "2.0.0",
       "_model_name": "HTMLStyleModel",
       "_view_count": null,
       "_view_module": "@jupyter-widgets/base",
       "_view_module_version": "2.0.0",
       "_view_name": "StyleView",
       "background": null,
       "description_width": "",
       "font_size": null,
       "text_color": null
      }
     },
     "f7f8ae7fcfea4310a8e90503cc77b714": {
      "model_module": "@jupyter-widgets/controls",
      "model_module_version": "2.0.0",
      "model_name": "HTMLStyleModel",
      "state": {
       "_model_module": "@jupyter-widgets/controls",
       "_model_module_version": "2.0.0",
       "_model_name": "HTMLStyleModel",
       "_view_count": null,
       "_view_module": "@jupyter-widgets/base",
       "_view_module_version": "2.0.0",
       "_view_name": "StyleView",
       "background": null,
       "description_width": "",
       "font_size": null,
       "text_color": null
      }
     },
     "f9576ba016864d4fbee5046659709146": {
      "model_module": "@jupyter-widgets/base",
      "model_module_version": "2.0.0",
      "model_name": "LayoutModel",
      "state": {
       "_model_module": "@jupyter-widgets/base",
       "_model_module_version": "2.0.0",
       "_model_name": "LayoutModel",
       "_view_count": null,
       "_view_module": "@jupyter-widgets/base",
       "_view_module_version": "2.0.0",
       "_view_name": "LayoutView",
       "align_content": null,
       "align_items": null,
       "align_self": null,
       "border_bottom": null,
       "border_left": null,
       "border_right": null,
       "border_top": null,
       "bottom": null,
       "display": null,
       "flex": null,
       "flex_flow": null,
       "grid_area": null,
       "grid_auto_columns": null,
       "grid_auto_flow": null,
       "grid_auto_rows": null,
       "grid_column": null,
       "grid_gap": null,
       "grid_row": null,
       "grid_template_areas": null,
       "grid_template_columns": null,
       "grid_template_rows": null,
       "height": null,
       "justify_content": null,
       "justify_items": null,
       "left": null,
       "margin": null,
       "max_height": null,
       "max_width": null,
       "min_height": null,
       "min_width": null,
       "object_fit": null,
       "object_position": null,
       "order": null,
       "overflow": null,
       "padding": null,
       "right": null,
       "top": null,
       "visibility": null,
       "width": null
      }
     },
     "fbc413c8b9bc48818fae66205c511ef1": {
      "model_module": "@jupyter-widgets/controls",
      "model_module_version": "2.0.0",
      "model_name": "HTMLModel",
      "state": {
       "_dom_classes": [],
       "_model_module": "@jupyter-widgets/controls",
       "_model_module_version": "2.0.0",
       "_model_name": "HTMLModel",
       "_view_count": null,
       "_view_module": "@jupyter-widgets/controls",
       "_view_module_version": "2.0.0",
       "_view_name": "HTMLView",
       "description": "",
       "description_allow_html": false,
       "layout": "IPY_MODEL_5e225946ada545298e8ce28261e73c41",
       "placeholder": "​",
       "style": "IPY_MODEL_55d1f7e1e8a44540b33653b8c3878789",
       "tabbable": null,
       "tooltip": null,
       "value": "<h5><a href=\"https://github.com/jupyter-book/mystmd.org\">jupyter-book/mystmd.org</a></h5>\n<ul>\n<li><a href=\"https://github.com/jupyter-book/mystmd.org/issues/22\">(#22)</a>: <em>Update dependencies after adding button-role</em> by <strong><a href=\"https://github.com/jnywong\">@jnywong</a></strong></li>\n<li><a href=\"https://github.com/jupyter-book/mystmd.org/issues/25\">(#25)</a>: <em>We must re-authenticate with Rowan's Vercel project</em> by <strong><a href=\"https://github.com/choldgraf\">@choldgraf</a></strong></li>\n<li><a href=\"https://github.com/jupyter-book/mystmd.org/issues/26\">(#26)</a>: <em>Document our Vercel deployment and share access to the steering council</em> by <strong><a href=\"https://github.com/choldgraf\">@choldgraf</a></strong></li>\n</ul>"
      }
     }
    },
    "version_major": 2,
    "version_minor": 0
   }
  }
 },
 "nbformat": 4,
 "nbformat_minor": 5
}