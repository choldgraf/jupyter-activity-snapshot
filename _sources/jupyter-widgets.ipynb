{
 "cells": [
  {
   "cell_type": "markdown",
   "metadata": {
    "papermill": {
     "duration": 0.039864,
     "end_time": "2020-07-17T01:11:45.693568",
     "exception": false,
     "start_time": "2020-07-17T01:11:45.653704",
     "status": "completed"
    },
    "tags": []
   },
   "source": [
    "# {glue:text}`jupyter-widgets_github_org`\n",
    "\n",
    "**Activity from {glue:}`jupyter-widgets_start` to {glue:}`jupyter-widgets_stop`**"
   ]
  },
  {
   "cell_type": "code",
   "execution_count": 1,
   "metadata": {
    "execution": {
     "iopub.execute_input": "2020-07-17T01:11:45.768374Z",
     "iopub.status.busy": "2020-07-17T01:11:45.767743Z",
     "iopub.status.idle": "2020-07-17T01:11:47.375837Z",
     "shell.execute_reply": "2020-07-17T01:11:47.376353Z"
    },
    "papermill": {
     "duration": 1.647098,
     "end_time": "2020-07-17T01:11:47.376556",
     "exception": false,
     "start_time": "2020-07-17T01:11:45.729458",
     "status": "completed"
    },
    "tags": [
     "remove_cell"
    ]
   },
   "outputs": [],
   "source": [
    "import github_activity as ga\n",
    "from datetime import date\n",
    "from dateutil.relativedelta import relativedelta\n",
    "from myst_nb import glue\n",
    "import seaborn as sns\n",
    "import pandas as pd\n",
    "import numpy as np\n",
    "import altair as alt\n",
    "from markdown import markdown\n",
    "from IPython.display import Markdown\n",
    "from ipywidgets.widgets import HTML, Tab\n",
    "from ipywidgets import widgets\n",
    "from datetime import timedelta\n",
    "from matplotlib import pyplot as plt\n",
    "import os.path as op\n",
    "\n",
    "from warnings import simplefilter\n",
    "simplefilter('ignore')"
   ]
  },
  {
   "cell_type": "code",
   "execution_count": 2,
   "metadata": {
    "execution": {
     "iopub.execute_input": "2020-07-17T01:11:47.464809Z",
     "iopub.status.busy": "2020-07-17T01:11:47.463787Z",
     "iopub.status.idle": "2020-07-17T01:11:47.465634Z",
     "shell.execute_reply": "2020-07-17T01:11:47.466185Z"
    },
    "papermill": {
     "duration": 0.054237,
     "end_time": "2020-07-17T01:11:47.466347",
     "exception": false,
     "start_time": "2020-07-17T01:11:47.412110",
     "status": "completed"
    },
    "tags": [
     "remove_cell"
    ]
   },
   "outputs": [],
   "source": [
    "# Altair config\n",
    "def author_url(author):\n",
    "    return f\"https://github.com/{author}\"\n",
    "\n",
    "def alt_theme():\n",
    "    return {\n",
    "        'config': {\n",
    "            'axisLeft': {\n",
    "                'labelFontSize': 15,\n",
    "            },\n",
    "            'axisBottom': {\n",
    "                'labelFontSize': 15,\n",
    "            },\n",
    "        }\n",
    "    }\n",
    "\n",
    "alt.themes.register('my_theme', alt_theme)\n",
    "alt.themes.enable(\"my_theme\")\n",
    "\n",
    "\n",
    "# Define colors we'll use for GitHub membership\n",
    "author_types = ['MEMBER', 'CONTRIBUTOR', 'COLLABORATOR', \"NONE\"]\n",
    "\n",
    "author_palette = np.array(sns.palettes.blend_palette([\"lightgrey\", \"lightgreen\", \"darkgreen\"], 4)) * 256\n",
    "author_colors = [\"rgb({}, {}, {})\".format(*color) for color in author_palette]\n",
    "author_color_dict = {key: val for key, val in zip(author_types, author_palette)}"
   ]
  },
  {
   "cell_type": "code",
   "execution_count": 3,
   "metadata": {
    "execution": {
     "iopub.execute_input": "2020-07-17T01:11:47.538821Z",
     "iopub.status.busy": "2020-07-17T01:11:47.538222Z",
     "iopub.status.idle": "2020-07-17T01:11:47.540481Z",
     "shell.execute_reply": "2020-07-17T01:11:47.539966Z"
    },
    "papermill": {
     "duration": 0.04069,
     "end_time": "2020-07-17T01:11:47.540612",
     "exception": false,
     "start_time": "2020-07-17T01:11:47.499922",
     "status": "completed"
    },
    "tags": [
     "parameters",
     "hide_input",
     "remove_cell"
    ]
   },
   "outputs": [],
   "source": [
    "github_org = \"jupyterhub\"\n",
    "top_n_repos = 15\n",
    "n_days = 10"
   ]
  },
  {
   "cell_type": "code",
   "execution_count": 4,
   "metadata": {
    "execution": {
     "iopub.execute_input": "2020-07-17T01:11:47.614866Z",
     "iopub.status.busy": "2020-07-17T01:11:47.614276Z",
     "iopub.status.idle": "2020-07-17T01:11:47.616560Z",
     "shell.execute_reply": "2020-07-17T01:11:47.616047Z"
    },
    "papermill": {
     "duration": 0.04091,
     "end_time": "2020-07-17T01:11:47.616691",
     "exception": false,
     "start_time": "2020-07-17T01:11:47.575781",
     "status": "completed"
    },
    "tags": [
     "injected-parameters",
     "remove-cell"
    ]
   },
   "outputs": [],
   "source": [
    "# Parameters\n",
    "github_org = \"jupyter-widgets\"\n",
    "n_days = 60\n"
   ]
  },
  {
   "cell_type": "code",
   "execution_count": 5,
   "metadata": {
    "execution": {
     "iopub.execute_input": "2020-07-17T01:11:47.692546Z",
     "iopub.status.busy": "2020-07-17T01:11:47.691914Z",
     "iopub.status.idle": "2020-07-17T01:11:47.696941Z",
     "shell.execute_reply": "2020-07-17T01:11:47.696352Z"
    },
    "papermill": {
     "duration": 0.046881,
     "end_time": "2020-07-17T01:11:47.697068",
     "exception": false,
     "start_time": "2020-07-17T01:11:47.650187",
     "status": "completed"
    },
    "tags": [
     "remove_cell"
    ]
   },
   "outputs": [
    {
     "data": {
      "application/papermill.record/text/plain": "'jupyter-widgets'"
     },
     "metadata": {
      "scrapbook": {
       "mime_prefix": "application/papermill.record/",
       "name": "jupyter-widgets_github_org"
      }
     },
     "output_type": "display_data"
    },
    {
     "data": {
      "application/papermill.record/text/plain": "'2020-05-18'"
     },
     "metadata": {
      "scrapbook": {
       "mime_prefix": "application/papermill.record/",
       "name": "jupyter-widgets_start"
      }
     },
     "output_type": "display_data"
    },
    {
     "data": {
      "application/papermill.record/text/plain": "'2020-07-17'"
     },
     "metadata": {
      "scrapbook": {
       "mime_prefix": "application/papermill.record/",
       "name": "jupyter-widgets_stop"
      }
     },
     "output_type": "display_data"
    }
   ],
   "source": [
    "############################################################\n",
    "# Variables\n",
    "stop = date.today()\n",
    "start = date.today() - relativedelta(days=n_days)\n",
    "\n",
    "# Strings for use in queries\n",
    "start_date = f\"{start:%Y-%m-%d}\"\n",
    "stop_date = f\"{stop:%Y-%m-%d}\"\n",
    "\n",
    "# Glue variables for use in markdown\n",
    "glue(f\"{github_org}_github_org\", github_org, display=False)\n",
    "glue(f\"{github_org}_start\", start_date, display=False)\n",
    "glue(f\"{github_org}_stop\", stop_date, display=False)"
   ]
  },
  {
   "cell_type": "code",
   "execution_count": 6,
   "metadata": {
    "execution": {
     "iopub.execute_input": "2020-07-17T01:11:47.782377Z",
     "iopub.status.busy": "2020-07-17T01:11:47.781781Z",
     "iopub.status.idle": "2020-07-17T01:12:03.030447Z",
     "shell.execute_reply": "2020-07-17T01:12:03.029738Z"
    },
    "papermill": {
     "duration": 15.295914,
     "end_time": "2020-07-17T01:12:03.030628",
     "exception": false,
     "start_time": "2020-07-17T01:11:47.734714",
     "status": "completed"
    },
    "tags": [
     "remove_cell"
    ]
   },
   "outputs": [
    {
     "name": "stdout",
     "output_type": "stream",
     "text": [
      "Running search query:\n",
      "user:jupyter-widgets\n",
      "\n",
      "\n"
     ]
    },
    {
     "name": "stdout",
     "output_type": "stream",
     "text": [
      "Found 183 items, which will take 4 pages\n"
     ]
    },
    {
     "data": {
      "application/vnd.jupyter.widget-view+json": {
       "model_id": "e2d349e9dd4c4ec18eacea175d15cc82",
       "version_major": 2,
       "version_minor": 0
      },
      "text/plain": [
       "IntProgress(value=0, description='Downloading:', max=4)"
      ]
     },
     "metadata": {},
     "output_type": "display_data"
    },
    {
     "name": "stdout",
     "output_type": "stream",
     "text": [
      "Found 145 items, which will take 3 pages\n"
     ]
    },
    {
     "data": {
      "application/vnd.jupyter.widget-view+json": {
       "model_id": "2dd3b874acf642aa843e30ec96703c6f",
       "version_major": 2,
       "version_minor": 0
      },
      "text/plain": [
       "IntProgress(value=0, description='Downloading:', max=3)"
      ]
     },
     "metadata": {},
     "output_type": "display_data"
    }
   ],
   "source": [
    "############################################################\n",
    "# Fetch the raw data and load data we need\n",
    "raw_data = ga.get_activity(github_org, start_date)\n",
    "bot_names = pd.read_csv('../bot_names.csv')['names'].tolist()\n",
    "data = raw_data.copy()\n",
    "\n",
    "# Prepare our data\n",
    "data[\"kind\"] = data[\"url\"].map(lambda a: \"issue\" if \"issues/\" in a else \"pr\")\n",
    "data[\"mergedBy\"] = data[\"mergedBy\"].map(lambda a: a[\"login\"] if not isinstance(a, (float, type(None))) else None)\n",
    "\n",
    "prs = data.query(\"kind == 'pr'\")\n",
    "issues = data.query(\"kind == 'issue'\")\n",
    "\n",
    "# Pull out the comments\n",
    "comments = []\n",
    "for _, irow in data.iterrows():\n",
    "    for icomment in irow['comments']['edges']:\n",
    "        icomment = icomment[\"node\"].copy()\n",
    "        icomment[\"author\"] = icomment[\"author\"][\"login\"] if icomment[\"author\"] else None\n",
    "        icomment[\"org\"] = irow[\"org\"]\n",
    "        icomment[\"repo\"] = irow[\"repo\"]\n",
    "        icomment[\"id\"] = irow[\"id\"]\n",
    "        comments.append(pd.Series(icomment))\n",
    "comments = pd.DataFrame(comments)\n",
    "\n",
    "# Clean up\n",
    "for idata in [prs, comments, issues]:\n",
    "    idata.query(\"author not in @bot_names\", inplace=True)\n",
    "    idata.drop_duplicates(subset=[\"url\"], inplace=True)\n",
    "\n",
    "# What are the top N repos, we will only plot these in the full data plots\n",
    "top_commented_repos = comments.groupby(\"repo\").count().sort_values(\"createdAt\", ascending=False)['createdAt']\n",
    "use_repos = top_commented_repos.head(top_n_repos).index.tolist()"
   ]
  },
  {
   "cell_type": "markdown",
   "metadata": {
    "papermill": {
     "duration": 0.037848,
     "end_time": "2020-07-17T01:12:03.110269",
     "exception": false,
     "start_time": "2020-07-17T01:12:03.072421",
     "status": "completed"
    },
    "tags": [
     "remove_cell"
    ]
   },
   "source": [
    "## Save the data to disk"
   ]
  },
  {
   "cell_type": "code",
   "execution_count": 7,
   "metadata": {
    "execution": {
     "iopub.execute_input": "2020-07-17T01:12:03.193988Z",
     "iopub.status.busy": "2020-07-17T01:12:03.192407Z",
     "iopub.status.idle": "2020-07-17T01:12:03.594153Z",
     "shell.execute_reply": "2020-07-17T01:12:03.593229Z"
    },
    "papermill": {
     "duration": 0.447226,
     "end_time": "2020-07-17T01:12:03.594381",
     "exception": false,
     "start_time": "2020-07-17T01:12:03.147155",
     "status": "completed"
    },
    "tags": [
     "remove_cell"
    ]
   },
   "outputs": [],
   "source": [
    "from pathlib import Path\n",
    "for name, idata in [(\"comments\", comments), (\"prs\", prs), (\"issues\", issues)]:\n",
    "    path_data = Path(f\"./{name}.csv\")\n",
    "    if path_data.exists():\n",
    "        idata = pd.read_csv(path_data).append(idata)\n",
    "    idata = idata.drop_duplicates(subset=[\"url\"])\n",
    "    idata.to_csv(path_data, index=None)"
   ]
  },
  {
   "cell_type": "markdown",
   "metadata": {
    "papermill": {
     "duration": 0.037722,
     "end_time": "2020-07-17T01:12:03.678549",
     "exception": false,
     "start_time": "2020-07-17T01:12:03.640827",
     "status": "completed"
    },
    "tags": [],
    "toc-hr-collapsed": false
   },
   "source": [
    "## Merged Pull requests\n",
    "\n",
    "Here's an analysis of **merged pull requests** across each of the repositories in the Jupyter\n",
    "ecosystem."
   ]
  },
  {
   "cell_type": "code",
   "execution_count": 8,
   "metadata": {
    "execution": {
     "iopub.execute_input": "2020-07-17T01:12:03.763868Z",
     "iopub.status.busy": "2020-07-17T01:12:03.763279Z",
     "iopub.status.idle": "2020-07-17T01:12:03.767442Z",
     "shell.execute_reply": "2020-07-17T01:12:03.766957Z"
    },
    "papermill": {
     "duration": 0.052302,
     "end_time": "2020-07-17T01:12:03.767571",
     "exception": false,
     "start_time": "2020-07-17T01:12:03.715269",
     "status": "completed"
    },
    "tags": [
     "remove_cell"
    ]
   },
   "outputs": [],
   "source": [
    "merged = prs.query('state == \"MERGED\" and closedAt > @start_date and closedAt < @stop_date')"
   ]
  },
  {
   "cell_type": "code",
   "execution_count": 9,
   "metadata": {
    "execution": {
     "iopub.execute_input": "2020-07-17T01:12:03.857436Z",
     "iopub.status.busy": "2020-07-17T01:12:03.853800Z",
     "iopub.status.idle": "2020-07-17T01:12:03.885934Z",
     "shell.execute_reply": "2020-07-17T01:12:03.886851Z"
    },
    "papermill": {
     "duration": 0.081042,
     "end_time": "2020-07-17T01:12:03.887099",
     "exception": false,
     "start_time": "2020-07-17T01:12:03.806057",
     "status": "completed"
    },
    "tags": [
     "hide_input"
    ]
   },
   "outputs": [
    {
     "data": {
      "text/html": [
       "\n",
       "<div id=\"altair-viz-970e22591aa84872bd97215cf03aca7e\"></div>\n",
       "<script type=\"text/javascript\">\n",
       "  (function(spec, embedOpt){\n",
       "    let outputDiv = document.currentScript.previousElementSibling;\n",
       "    if (outputDiv.id !== \"altair-viz-970e22591aa84872bd97215cf03aca7e\") {\n",
       "      outputDiv = document.getElementById(\"altair-viz-970e22591aa84872bd97215cf03aca7e\");\n",
       "    }\n",
       "    const paths = {\n",
       "      \"vega\": \"https://cdn.jsdelivr.net/npm//vega@5?noext\",\n",
       "      \"vega-lib\": \"https://cdn.jsdelivr.net/npm//vega-lib?noext\",\n",
       "      \"vega-lite\": \"https://cdn.jsdelivr.net/npm//vega-lite@4.8.1?noext\",\n",
       "      \"vega-embed\": \"https://cdn.jsdelivr.net/npm//vega-embed@6?noext\",\n",
       "    };\n",
       "\n",
       "    function loadScript(lib) {\n",
       "      return new Promise(function(resolve, reject) {\n",
       "        var s = document.createElement('script');\n",
       "        s.src = paths[lib];\n",
       "        s.async = true;\n",
       "        s.onload = () => resolve(paths[lib]);\n",
       "        s.onerror = () => reject(`Error loading script: ${paths[lib]}`);\n",
       "        document.getElementsByTagName(\"head\")[0].appendChild(s);\n",
       "      });\n",
       "    }\n",
       "\n",
       "    function showError(err) {\n",
       "      outputDiv.innerHTML = `<div class=\"error\" style=\"color:red;\">${err}</div>`;\n",
       "      throw err;\n",
       "    }\n",
       "\n",
       "    function displayChart(vegaEmbed) {\n",
       "      vegaEmbed(outputDiv, spec, embedOpt)\n",
       "        .catch(err => showError(`Javascript Error: ${err.message}<br>This usually means there's a typo in your chart specification. See the javascript console for the full traceback.`));\n",
       "    }\n",
       "\n",
       "    if(typeof define === \"function\" && define.amd) {\n",
       "      requirejs.config({paths});\n",
       "      require([\"vega-embed\"], displayChart, err => showError(`Error loading script: ${err.message}`));\n",
       "    } else if (typeof vegaEmbed === \"function\") {\n",
       "      displayChart(vegaEmbed);\n",
       "    } else {\n",
       "      loadScript(\"vega\")\n",
       "        .then(() => loadScript(\"vega-lite\"))\n",
       "        .then(() => loadScript(\"vega-embed\"))\n",
       "        .catch(showError)\n",
       "        .then(() => displayChart(vegaEmbed));\n",
       "    }\n",
       "  })({\"config\": {\"axisLeft\": {\"labelFontSize\": 15}, \"axisBottom\": {\"labelFontSize\": 15}}, \"data\": {\"name\": \"data-c60fad7a84735ded69448308fe9aeea4\"}, \"mark\": \"bar\", \"encoding\": {\"color\": {\"type\": \"nominal\", \"field\": \"org\"}, \"x\": {\"type\": \"nominal\", \"field\": \"repo\", \"sort\": [\"tutorial\", \"ipyleaflet\", \"widget-ts-cookiecutter\", \"ipywidgets\", \"widget-cookiecutter\", \"traittypes\"]}, \"y\": {\"type\": \"quantitative\", \"field\": \"author\"}}, \"title\": \"Merged PRs in the last 60 days\", \"$schema\": \"https://vega.github.io/schema/vega-lite/v4.8.1.json\", \"datasets\": {\"data-c60fad7a84735ded69448308fe9aeea4\": [{\"org\": \"jupyter-widgets\", \"repo\": \"tutorial\", \"author\": 41}, {\"org\": \"jupyter-widgets\", \"repo\": \"ipyleaflet\", \"author\": 32}, {\"org\": \"jupyter-widgets\", \"repo\": \"widget-ts-cookiecutter\", \"author\": 7}, {\"org\": \"jupyter-widgets\", \"repo\": \"ipywidgets\", \"author\": 4}, {\"org\": \"jupyter-widgets\", \"repo\": \"widget-cookiecutter\", \"author\": 3}, {\"org\": \"jupyter-widgets\", \"repo\": \"traittypes\", \"author\": 1}]}}, {\"mode\": \"vega-lite\"});\n",
       "</script>"
      ],
      "text/plain": [
       "alt.Chart(...)"
      ]
     },
     "execution_count": 9,
     "metadata": {},
     "output_type": "execute_result"
    }
   ],
   "source": [
    "prs_by_repo = merged.groupby(['org', 'repo']).count()['author'].reset_index().sort_values(['org', 'author'], ascending=False)\n",
    "alt.Chart(data=prs_by_repo, title=f\"Merged PRs in the last {n_days} days\").mark_bar().encode(\n",
    "    x=alt.X('repo', sort=prs_by_repo['repo'].values.tolist()),\n",
    "    y='author',\n",
    "    color='org'\n",
    ")"
   ]
  },
  {
   "cell_type": "markdown",
   "metadata": {
    "papermill": {
     "duration": 0.038454,
     "end_time": "2020-07-17T01:12:03.965976",
     "exception": false,
     "start_time": "2020-07-17T01:12:03.927522",
     "status": "completed"
    },
    "tags": []
   },
   "source": [
    "### Authoring and merging stats by repository\n",
    "\n",
    "Let's see who has been doing most of the PR authoring and merging. The PR author is generally the\n",
    "person that implemented a change in the repository (code, documentation, etc). The PR merger is\n",
    "the person that \"pressed the green button\" and got the change into the main codebase."
   ]
  },
  {
   "cell_type": "code",
   "execution_count": 10,
   "metadata": {
    "execution": {
     "iopub.execute_input": "2020-07-17T01:12:04.059542Z",
     "iopub.status.busy": "2020-07-17T01:12:04.054412Z",
     "iopub.status.idle": "2020-07-17T01:12:04.062381Z",
     "shell.execute_reply": "2020-07-17T01:12:04.062951Z"
    },
    "papermill": {
     "duration": 0.059672,
     "end_time": "2020-07-17T01:12:04.063117",
     "exception": false,
     "start_time": "2020-07-17T01:12:04.003445",
     "status": "completed"
    },
    "tags": [
     "remove_cell"
    ]
   },
   "outputs": [],
   "source": [
    "# Prep our merging DF\n",
    "merged_by_repo = merged.groupby(['repo', 'author'], as_index=False).agg({'id': 'count', 'authorAssociation': 'first'}).rename(columns={'id': \"authored\", 'author': 'username'})\n",
    "closed_by_repo = merged.groupby(['repo', 'mergedBy']).count()['id'].reset_index().rename(columns={'id': \"closed\", \"mergedBy\": \"username\"})"
   ]
  },
  {
   "cell_type": "code",
   "execution_count": 11,
   "metadata": {
    "execution": {
     "iopub.execute_input": "2020-07-17T01:12:04.169211Z",
     "iopub.status.busy": "2020-07-17T01:12:04.168153Z",
     "iopub.status.idle": "2020-07-17T01:12:04.179192Z",
     "shell.execute_reply": "2020-07-17T01:12:04.178693Z"
    },
    "papermill": {
     "duration": 0.076453,
     "end_time": "2020-07-17T01:12:04.179327",
     "exception": false,
     "start_time": "2020-07-17T01:12:04.102874",
     "status": "completed"
    },
    "tags": [
     "hide_input"
    ]
   },
   "outputs": [
    {
     "data": {
      "text/html": [
       "\n",
       "<div id=\"altair-viz-08320a0dc8264f75b3533ed9c873858e\"></div>\n",
       "<script type=\"text/javascript\">\n",
       "  (function(spec, embedOpt){\n",
       "    let outputDiv = document.currentScript.previousElementSibling;\n",
       "    if (outputDiv.id !== \"altair-viz-08320a0dc8264f75b3533ed9c873858e\") {\n",
       "      outputDiv = document.getElementById(\"altair-viz-08320a0dc8264f75b3533ed9c873858e\");\n",
       "    }\n",
       "    const paths = {\n",
       "      \"vega\": \"https://cdn.jsdelivr.net/npm//vega@5?noext\",\n",
       "      \"vega-lib\": \"https://cdn.jsdelivr.net/npm//vega-lib?noext\",\n",
       "      \"vega-lite\": \"https://cdn.jsdelivr.net/npm//vega-lite@4.8.1?noext\",\n",
       "      \"vega-embed\": \"https://cdn.jsdelivr.net/npm//vega-embed@6?noext\",\n",
       "    };\n",
       "\n",
       "    function loadScript(lib) {\n",
       "      return new Promise(function(resolve, reject) {\n",
       "        var s = document.createElement('script');\n",
       "        s.src = paths[lib];\n",
       "        s.async = true;\n",
       "        s.onload = () => resolve(paths[lib]);\n",
       "        s.onerror = () => reject(`Error loading script: ${paths[lib]}`);\n",
       "        document.getElementsByTagName(\"head\")[0].appendChild(s);\n",
       "      });\n",
       "    }\n",
       "\n",
       "    function showError(err) {\n",
       "      outputDiv.innerHTML = `<div class=\"error\" style=\"color:red;\">${err}</div>`;\n",
       "      throw err;\n",
       "    }\n",
       "\n",
       "    function displayChart(vegaEmbed) {\n",
       "      vegaEmbed(outputDiv, spec, embedOpt)\n",
       "        .catch(err => showError(`Javascript Error: ${err.message}<br>This usually means there's a typo in your chart specification. See the javascript console for the full traceback.`));\n",
       "    }\n",
       "\n",
       "    if(typeof define === \"function\" && define.amd) {\n",
       "      requirejs.config({paths});\n",
       "      require([\"vega-embed\"], displayChart, err => showError(`Error loading script: ${err.message}`));\n",
       "    } else if (typeof vegaEmbed === \"function\") {\n",
       "      displayChart(vegaEmbed);\n",
       "    } else {\n",
       "      loadScript(\"vega\")\n",
       "        .then(() => loadScript(\"vega-lite\"))\n",
       "        .then(() => loadScript(\"vega-embed\"))\n",
       "        .catch(showError)\n",
       "        .then(() => displayChart(vegaEmbed));\n",
       "    }\n",
       "  })({\"config\": {\"axisLeft\": {\"labelFontSize\": 15}, \"axisBottom\": {\"labelFontSize\": 15}}, \"data\": {\"name\": \"data-0ec536b1f80ef208e63a9dc009618ee8\"}, \"mark\": \"bar\", \"encoding\": {\"color\": {\"type\": \"nominal\", \"field\": \"authorAssociation\", \"scale\": {\"domain\": [\"MEMBER\", \"CONTRIBUTOR\", \"COLLABORATOR\", \"NONE\"], \"range\": [\"rgb(211.82745098039214, 211.82745098039214, 211.82745098039214)\", \"rgb(166.98562091503268, 229.89803921568628, 166.98562091503268)\", \"rgb(96.37647058823529, 192.75294117647059, 96.37647058823529)\", \"rgb(0.0, 100.3921568627451, 0.0)\"]}}, \"x\": {\"type\": \"nominal\", \"field\": \"username\"}, \"y\": {\"type\": \"quantitative\", \"field\": \"authored\"}}, \"title\": \"PR authors for jupyter-widgets in the last 60 days\", \"$schema\": \"https://vega.github.io/schema/vega-lite/v4.8.1.json\", \"datasets\": {\"data-0ec536b1f80ef208e63a9dc009618ee8\": [{\"username\": \"martinRenou\", \"authored\": 38, \"authorAssociation\": \"MEMBER\"}, {\"username\": \"mwcraig\", \"authored\": 9, \"authorAssociation\": \"CONTRIBUTOR\"}, {\"username\": \"sackh\", \"authored\": 6, \"authorAssociation\": \"CONTRIBUTOR\"}, {\"username\": \"mbektasbbg\", \"authored\": 6, \"authorAssociation\": \"MEMBER\"}, {\"username\": \"ianhi\", \"authored\": 5, \"authorAssociation\": \"CONTRIBUTOR\"}, {\"username\": \"ibdafna\", \"authored\": 5, \"authorAssociation\": \"MEMBER\"}, {\"username\": \"davidbrochart\", \"authored\": 4, \"authorAssociation\": \"MEMBER\"}, {\"username\": \"dependabot\", \"authored\": 2, \"authorAssociation\": \"CONTRIBUTOR\"}, {\"username\": \"jtpio\", \"authored\": 2, \"authorAssociation\": \"MEMBER\"}, {\"username\": \"omanges\", \"authored\": 2, \"authorAssociation\": \"CONTRIBUTOR\"}, {\"username\": \"Carreau\", \"authored\": 1, \"authorAssociation\": \"CONTRIBUTOR\"}, {\"username\": \"vpipkt\", \"authored\": 1, \"authorAssociation\": \"CONTRIBUTOR\"}, {\"username\": \"saraedum\", \"authored\": 1, \"authorAssociation\": \"CONTRIBUTOR\"}, {\"username\": \"kir0ul\", \"authored\": 1, \"authorAssociation\": \"CONTRIBUTOR\"}, {\"username\": \"maartenbreddels\", \"authored\": 1, \"authorAssociation\": \"MEMBER\"}, {\"username\": \"SylvainCorlay\", \"authored\": 1, \"authorAssociation\": \"MEMBER\"}, {\"username\": \"jasongrout\", \"authored\": 1, \"authorAssociation\": \"MEMBER\"}, {\"username\": \"betolink\", \"authored\": 1, \"authorAssociation\": \"CONTRIBUTOR\"}, {\"username\": \"zerline\", \"authored\": 1, \"authorAssociation\": \"CONTRIBUTOR\"}]}}, {\"mode\": \"vega-lite\"});\n",
       "</script>"
      ],
      "text/plain": [
       "alt.Chart(...)"
      ]
     },
     "execution_count": 11,
     "metadata": {},
     "output_type": "execute_result"
    }
   ],
   "source": [
    "charts = []\n",
    "title = f\"PR authors for {github_org} in the last {n_days} days\"\n",
    "this_data = merged_by_repo.replace(np.nan, 0).groupby('username', as_index=False).agg({'authored': 'sum', 'authorAssociation': 'first'})\n",
    "this_data = this_data.sort_values('authored', ascending=False)\n",
    "ch = alt.Chart(data=this_data, title=title).mark_bar().encode(\n",
    "    x='username',\n",
    "    y='authored',\n",
    "    color=alt.Color('authorAssociation', scale=alt.Scale(domain=author_types, range=author_colors))\n",
    ")\n",
    "ch"
   ]
  },
  {
   "cell_type": "code",
   "execution_count": 12,
   "metadata": {
    "execution": {
     "iopub.execute_input": "2020-07-17T01:12:04.280731Z",
     "iopub.status.busy": "2020-07-17T01:12:04.270051Z",
     "iopub.status.idle": "2020-07-17T01:12:04.284056Z",
     "shell.execute_reply": "2020-07-17T01:12:04.283451Z"
    },
    "papermill": {
     "duration": 0.064331,
     "end_time": "2020-07-17T01:12:04.284190",
     "exception": false,
     "start_time": "2020-07-17T01:12:04.219859",
     "status": "completed"
    },
    "tags": [
     "hide_input"
    ]
   },
   "outputs": [
    {
     "data": {
      "text/html": [
       "\n",
       "<div id=\"altair-viz-6056bd1d10c4477f920efa3f0b28605e\"></div>\n",
       "<script type=\"text/javascript\">\n",
       "  (function(spec, embedOpt){\n",
       "    let outputDiv = document.currentScript.previousElementSibling;\n",
       "    if (outputDiv.id !== \"altair-viz-6056bd1d10c4477f920efa3f0b28605e\") {\n",
       "      outputDiv = document.getElementById(\"altair-viz-6056bd1d10c4477f920efa3f0b28605e\");\n",
       "    }\n",
       "    const paths = {\n",
       "      \"vega\": \"https://cdn.jsdelivr.net/npm//vega@5?noext\",\n",
       "      \"vega-lib\": \"https://cdn.jsdelivr.net/npm//vega-lib?noext\",\n",
       "      \"vega-lite\": \"https://cdn.jsdelivr.net/npm//vega-lite@4.8.1?noext\",\n",
       "      \"vega-embed\": \"https://cdn.jsdelivr.net/npm//vega-embed@6?noext\",\n",
       "    };\n",
       "\n",
       "    function loadScript(lib) {\n",
       "      return new Promise(function(resolve, reject) {\n",
       "        var s = document.createElement('script');\n",
       "        s.src = paths[lib];\n",
       "        s.async = true;\n",
       "        s.onload = () => resolve(paths[lib]);\n",
       "        s.onerror = () => reject(`Error loading script: ${paths[lib]}`);\n",
       "        document.getElementsByTagName(\"head\")[0].appendChild(s);\n",
       "      });\n",
       "    }\n",
       "\n",
       "    function showError(err) {\n",
       "      outputDiv.innerHTML = `<div class=\"error\" style=\"color:red;\">${err}</div>`;\n",
       "      throw err;\n",
       "    }\n",
       "\n",
       "    function displayChart(vegaEmbed) {\n",
       "      vegaEmbed(outputDiv, spec, embedOpt)\n",
       "        .catch(err => showError(`Javascript Error: ${err.message}<br>This usually means there's a typo in your chart specification. See the javascript console for the full traceback.`));\n",
       "    }\n",
       "\n",
       "    if(typeof define === \"function\" && define.amd) {\n",
       "      requirejs.config({paths});\n",
       "      require([\"vega-embed\"], displayChart, err => showError(`Error loading script: ${err.message}`));\n",
       "    } else if (typeof vegaEmbed === \"function\") {\n",
       "      displayChart(vegaEmbed);\n",
       "    } else {\n",
       "      loadScript(\"vega\")\n",
       "        .then(() => loadScript(\"vega-lite\"))\n",
       "        .then(() => loadScript(\"vega-embed\"))\n",
       "        .catch(showError)\n",
       "        .then(() => displayChart(vegaEmbed));\n",
       "    }\n",
       "  })({\"config\": {\"axisLeft\": {\"labelFontSize\": 15}, \"axisBottom\": {\"labelFontSize\": 15}}, \"data\": {\"name\": \"data-23c1faa59fe5906c2952c0194fac33e4\"}, \"mark\": \"bar\", \"encoding\": {\"x\": {\"type\": \"nominal\", \"field\": \"username\"}, \"y\": {\"type\": \"quantitative\", \"field\": \"closed\"}}, \"title\": \"Merges for jupyter-widgets in the last 60 days\", \"$schema\": \"https://vega.github.io/schema/vega-lite/v4.8.1.json\", \"datasets\": {\"data-23c1faa59fe5906c2952c0194fac33e4\": [{\"repo\": \"ipyleaflet\", \"username\": \"SylvainCorlay\", \"closed\": 1}, {\"repo\": \"ipyleaflet\", \"username\": \"davidbrochart\", \"closed\": 3}, {\"repo\": \"ipyleaflet\", \"username\": \"martinRenou\", \"closed\": 28}, {\"repo\": \"ipywidgets\", \"username\": \"SylvainCorlay\", \"closed\": 3}, {\"repo\": \"ipywidgets\", \"username\": \"jasongrout\", \"closed\": 1}, {\"repo\": \"traittypes\", \"username\": \"Carreau\", \"closed\": 1}, {\"repo\": \"tutorial\", \"username\": \"ibdafna\", \"closed\": 2}, {\"repo\": \"tutorial\", \"username\": \"martinRenou\", \"closed\": 22}, {\"repo\": \"tutorial\", \"username\": \"mwcraig\", \"closed\": 17}, {\"repo\": \"widget-cookiecutter\", \"username\": \"martinRenou\", \"closed\": 3}, {\"repo\": \"widget-ts-cookiecutter\", \"username\": \"martinRenou\", \"closed\": 6}, {\"repo\": \"widget-ts-cookiecutter\", \"username\": \"vidartf\", \"closed\": 1}]}}, {\"mode\": \"vega-lite\"});\n",
       "</script>"
      ],
      "text/plain": [
       "alt.Chart(...)"
      ]
     },
     "execution_count": 12,
     "metadata": {},
     "output_type": "execute_result"
    }
   ],
   "source": [
    "charts = []\n",
    "title = f\"Merges for {github_org} in the last {n_days} days\"\n",
    "ch = alt.Chart(data=closed_by_repo.replace(np.nan, 0), title=title).mark_bar().encode(\n",
    "    x='username',\n",
    "    y='closed',\n",
    ")\n",
    "ch"
   ]
  },
  {
   "cell_type": "markdown",
   "metadata": {
    "papermill": {
     "duration": 0.038984,
     "end_time": "2020-07-17T01:12:04.364609",
     "exception": false,
     "start_time": "2020-07-17T01:12:04.325625",
     "status": "completed"
    },
    "tags": []
   },
   "source": [
    "## Issues\n",
    "\n",
    "Issues are **conversations** that happen on our GitHub repositories. Here's an\n",
    "analysis of issues across the Jupyter organizations."
   ]
  },
  {
   "cell_type": "code",
   "execution_count": 13,
   "metadata": {
    "execution": {
     "iopub.execute_input": "2020-07-17T01:12:04.453978Z",
     "iopub.status.busy": "2020-07-17T01:12:04.453411Z",
     "iopub.status.idle": "2020-07-17T01:12:04.457140Z",
     "shell.execute_reply": "2020-07-17T01:12:04.456551Z"
    },
    "papermill": {
     "duration": 0.053837,
     "end_time": "2020-07-17T01:12:04.457269",
     "exception": false,
     "start_time": "2020-07-17T01:12:04.403432",
     "status": "completed"
    },
    "tags": [
     "remove_cell"
    ]
   },
   "outputs": [],
   "source": [
    "created = issues.query('state == \"OPEN\" and createdAt > @start_date and createdAt < @stop_date')\n",
    "closed = issues.query('state == \"CLOSED\" and closedAt > @start_date and closedAt < @stop_date')"
   ]
  },
  {
   "cell_type": "code",
   "execution_count": 14,
   "metadata": {
    "execution": {
     "iopub.execute_input": "2020-07-17T01:12:04.548612Z",
     "iopub.status.busy": "2020-07-17T01:12:04.547954Z",
     "iopub.status.idle": "2020-07-17T01:12:04.571993Z",
     "shell.execute_reply": "2020-07-17T01:12:04.572904Z"
    },
    "papermill": {
     "duration": 0.075428,
     "end_time": "2020-07-17T01:12:04.573122",
     "exception": false,
     "start_time": "2020-07-17T01:12:04.497694",
     "status": "completed"
    },
    "tags": [
     "hide_input"
    ]
   },
   "outputs": [
    {
     "data": {
      "text/html": [
       "\n",
       "<div id=\"altair-viz-56603f13bb304ec1b58df5c8e8d9e623\"></div>\n",
       "<script type=\"text/javascript\">\n",
       "  (function(spec, embedOpt){\n",
       "    let outputDiv = document.currentScript.previousElementSibling;\n",
       "    if (outputDiv.id !== \"altair-viz-56603f13bb304ec1b58df5c8e8d9e623\") {\n",
       "      outputDiv = document.getElementById(\"altair-viz-56603f13bb304ec1b58df5c8e8d9e623\");\n",
       "    }\n",
       "    const paths = {\n",
       "      \"vega\": \"https://cdn.jsdelivr.net/npm//vega@5?noext\",\n",
       "      \"vega-lib\": \"https://cdn.jsdelivr.net/npm//vega-lib?noext\",\n",
       "      \"vega-lite\": \"https://cdn.jsdelivr.net/npm//vega-lite@4.8.1?noext\",\n",
       "      \"vega-embed\": \"https://cdn.jsdelivr.net/npm//vega-embed@6?noext\",\n",
       "    };\n",
       "\n",
       "    function loadScript(lib) {\n",
       "      return new Promise(function(resolve, reject) {\n",
       "        var s = document.createElement('script');\n",
       "        s.src = paths[lib];\n",
       "        s.async = true;\n",
       "        s.onload = () => resolve(paths[lib]);\n",
       "        s.onerror = () => reject(`Error loading script: ${paths[lib]}`);\n",
       "        document.getElementsByTagName(\"head\")[0].appendChild(s);\n",
       "      });\n",
       "    }\n",
       "\n",
       "    function showError(err) {\n",
       "      outputDiv.innerHTML = `<div class=\"error\" style=\"color:red;\">${err}</div>`;\n",
       "      throw err;\n",
       "    }\n",
       "\n",
       "    function displayChart(vegaEmbed) {\n",
       "      vegaEmbed(outputDiv, spec, embedOpt)\n",
       "        .catch(err => showError(`Javascript Error: ${err.message}<br>This usually means there's a typo in your chart specification. See the javascript console for the full traceback.`));\n",
       "    }\n",
       "\n",
       "    if(typeof define === \"function\" && define.amd) {\n",
       "      requirejs.config({paths});\n",
       "      require([\"vega-embed\"], displayChart, err => showError(`Error loading script: ${err.message}`));\n",
       "    } else if (typeof vegaEmbed === \"function\") {\n",
       "      displayChart(vegaEmbed);\n",
       "    } else {\n",
       "      loadScript(\"vega\")\n",
       "        .then(() => loadScript(\"vega-lite\"))\n",
       "        .then(() => loadScript(\"vega-embed\"))\n",
       "        .catch(showError)\n",
       "        .then(() => displayChart(vegaEmbed));\n",
       "    }\n",
       "  })({\"config\": {\"axisLeft\": {\"labelFontSize\": 15}, \"axisBottom\": {\"labelFontSize\": 15}}, \"data\": {\"name\": \"data-edfeed10290583ec220eb5562dbc239f\"}, \"mark\": \"bar\", \"encoding\": {\"x\": {\"type\": \"nominal\", \"field\": \"repo\", \"sort\": [\"ipywidgets\", \"ipyleaflet\", \"pythreejs\", \"widget-ts-cookiecutter\", \"tutorial\", \"widget-cookiecutter\"]}, \"y\": {\"type\": \"quantitative\", \"field\": \"number\"}}, \"title\": \"Issues created in the last 60 days\", \"$schema\": \"https://vega.github.io/schema/vega-lite/v4.8.1.json\", \"datasets\": {\"data-edfeed10290583ec220eb5562dbc239f\": [{\"org\": \"jupyter-widgets\", \"repo\": \"ipyleaflet\", \"number\": 8, \"org/repo\": \"jupyter-widgets/ipyleaflet\"}, {\"org\": \"jupyter-widgets\", \"repo\": \"ipywidgets\", \"number\": 30, \"org/repo\": \"jupyter-widgets/ipywidgets\"}, {\"org\": \"jupyter-widgets\", \"repo\": \"pythreejs\", \"number\": 5, \"org/repo\": \"jupyter-widgets/pythreejs\"}, {\"org\": \"jupyter-widgets\", \"repo\": \"tutorial\", \"number\": 1, \"org/repo\": \"jupyter-widgets/tutorial\"}, {\"org\": \"jupyter-widgets\", \"repo\": \"widget-cookiecutter\", \"number\": 1, \"org/repo\": \"jupyter-widgets/widget-cookiecutter\"}, {\"org\": \"jupyter-widgets\", \"repo\": \"widget-ts-cookiecutter\", \"number\": 2, \"org/repo\": \"jupyter-widgets/widget-ts-cookiecutter\"}]}}, {\"mode\": \"vega-lite\"});\n",
       "</script>"
      ],
      "text/plain": [
       "alt.Chart(...)"
      ]
     },
     "execution_count": 14,
     "metadata": {},
     "output_type": "execute_result"
    }
   ],
   "source": [
    "created_counts = created.groupby(['org', 'repo']).count()['number'].reset_index()\n",
    "created_counts['org/repo'] = created_counts.apply(lambda a: a['org'] + '/' + a['repo'], axis=1)\n",
    "sorted_vals = created_counts.sort_values(['org', 'number'], ascending=False)['repo'].values\n",
    "alt.Chart(data=created_counts, title=f\"Issues created in the last {n_days} days\").mark_bar().encode(\n",
    "    x=alt.X('repo', sort=alt.Sort(sorted_vals.tolist())),\n",
    "    y='number',\n",
    ")"
   ]
  },
  {
   "cell_type": "code",
   "execution_count": 15,
   "metadata": {
    "execution": {
     "iopub.execute_input": "2020-07-17T01:12:04.685527Z",
     "iopub.status.busy": "2020-07-17T01:12:04.669804Z",
     "iopub.status.idle": "2020-07-17T01:12:04.689265Z",
     "shell.execute_reply": "2020-07-17T01:12:04.688486Z"
    },
    "papermill": {
     "duration": 0.073701,
     "end_time": "2020-07-17T01:12:04.689400",
     "exception": false,
     "start_time": "2020-07-17T01:12:04.615699",
     "status": "completed"
    },
    "tags": [
     "hide_input"
    ]
   },
   "outputs": [
    {
     "data": {
      "text/html": [
       "\n",
       "<div id=\"altair-viz-57556036290b45c0b5ca13a051667fd2\"></div>\n",
       "<script type=\"text/javascript\">\n",
       "  (function(spec, embedOpt){\n",
       "    let outputDiv = document.currentScript.previousElementSibling;\n",
       "    if (outputDiv.id !== \"altair-viz-57556036290b45c0b5ca13a051667fd2\") {\n",
       "      outputDiv = document.getElementById(\"altair-viz-57556036290b45c0b5ca13a051667fd2\");\n",
       "    }\n",
       "    const paths = {\n",
       "      \"vega\": \"https://cdn.jsdelivr.net/npm//vega@5?noext\",\n",
       "      \"vega-lib\": \"https://cdn.jsdelivr.net/npm//vega-lib?noext\",\n",
       "      \"vega-lite\": \"https://cdn.jsdelivr.net/npm//vega-lite@4.8.1?noext\",\n",
       "      \"vega-embed\": \"https://cdn.jsdelivr.net/npm//vega-embed@6?noext\",\n",
       "    };\n",
       "\n",
       "    function loadScript(lib) {\n",
       "      return new Promise(function(resolve, reject) {\n",
       "        var s = document.createElement('script');\n",
       "        s.src = paths[lib];\n",
       "        s.async = true;\n",
       "        s.onload = () => resolve(paths[lib]);\n",
       "        s.onerror = () => reject(`Error loading script: ${paths[lib]}`);\n",
       "        document.getElementsByTagName(\"head\")[0].appendChild(s);\n",
       "      });\n",
       "    }\n",
       "\n",
       "    function showError(err) {\n",
       "      outputDiv.innerHTML = `<div class=\"error\" style=\"color:red;\">${err}</div>`;\n",
       "      throw err;\n",
       "    }\n",
       "\n",
       "    function displayChart(vegaEmbed) {\n",
       "      vegaEmbed(outputDiv, spec, embedOpt)\n",
       "        .catch(err => showError(`Javascript Error: ${err.message}<br>This usually means there's a typo in your chart specification. See the javascript console for the full traceback.`));\n",
       "    }\n",
       "\n",
       "    if(typeof define === \"function\" && define.amd) {\n",
       "      requirejs.config({paths});\n",
       "      require([\"vega-embed\"], displayChart, err => showError(`Error loading script: ${err.message}`));\n",
       "    } else if (typeof vegaEmbed === \"function\") {\n",
       "      displayChart(vegaEmbed);\n",
       "    } else {\n",
       "      loadScript(\"vega\")\n",
       "        .then(() => loadScript(\"vega-lite\"))\n",
       "        .then(() => loadScript(\"vega-embed\"))\n",
       "        .catch(showError)\n",
       "        .then(() => displayChart(vegaEmbed));\n",
       "    }\n",
       "  })({\"config\": {\"axisLeft\": {\"labelFontSize\": 15}, \"axisBottom\": {\"labelFontSize\": 15}}, \"data\": {\"name\": \"data-6b9561a2c395ca6344614b028da1f31b\"}, \"mark\": \"bar\", \"encoding\": {\"x\": {\"type\": \"nominal\", \"field\": \"repo\", \"sort\": [\"ipyleaflet\", \"tutorial\", \"ipywidgets\", \"widget-ts-cookiecutter\", \"widget-cookiecutter\"]}, \"y\": {\"type\": \"quantitative\", \"field\": \"number\"}}, \"title\": \"Issues closed in the last 60 days\", \"$schema\": \"https://vega.github.io/schema/vega-lite/v4.8.1.json\", \"datasets\": {\"data-6b9561a2c395ca6344614b028da1f31b\": [{\"org\": \"jupyter-widgets\", \"repo\": \"ipyleaflet\", \"number\": 19, \"org/repo\": \"jupyter-widgets/ipyleaflet\"}, {\"org\": \"jupyter-widgets\", \"repo\": \"ipywidgets\", \"number\": 10, \"org/repo\": \"jupyter-widgets/ipywidgets\"}, {\"org\": \"jupyter-widgets\", \"repo\": \"tutorial\", \"number\": 12, \"org/repo\": \"jupyter-widgets/tutorial\"}, {\"org\": \"jupyter-widgets\", \"repo\": \"widget-cookiecutter\", \"number\": 4, \"org/repo\": \"jupyter-widgets/widget-cookiecutter\"}, {\"org\": \"jupyter-widgets\", \"repo\": \"widget-ts-cookiecutter\", \"number\": 7, \"org/repo\": \"jupyter-widgets/widget-ts-cookiecutter\"}]}}, {\"mode\": \"vega-lite\"});\n",
       "</script>"
      ],
      "text/plain": [
       "alt.Chart(...)"
      ]
     },
     "execution_count": 15,
     "metadata": {},
     "output_type": "execute_result"
    }
   ],
   "source": [
    "closed_counts = closed.groupby(['org', 'repo']).count()['number'].reset_index()\n",
    "closed_counts['org/repo'] = closed_counts.apply(lambda a: a['org'] + '/' + a['repo'], axis=1)\n",
    "sorted_vals = closed_counts.sort_values(['number'], ascending=False)['repo'].values\n",
    "alt.Chart(data=closed_counts, title=f\"Issues closed in the last {n_days} days\").mark_bar().encode(\n",
    "    x=alt.X('repo', sort=alt.Sort(sorted_vals.tolist())),\n",
    "    y='number',\n",
    ")"
   ]
  },
  {
   "cell_type": "code",
   "execution_count": 16,
   "metadata": {
    "execution": {
     "iopub.execute_input": "2020-07-17T01:12:04.790550Z",
     "iopub.status.busy": "2020-07-17T01:12:04.789637Z",
     "iopub.status.idle": "2020-07-17T01:12:04.795589Z",
     "shell.execute_reply": "2020-07-17T01:12:04.794983Z"
    },
    "papermill": {
     "duration": 0.063912,
     "end_time": "2020-07-17T01:12:04.795722",
     "exception": false,
     "start_time": "2020-07-17T01:12:04.731810",
     "status": "completed"
    },
    "tags": [
     "remove_cell"
    ]
   },
   "outputs": [],
   "source": [
    "created_closed = pd.merge(created_counts.rename(columns={'number': 'created'}).drop(columns='org/repo'),\n",
    "                          closed_counts.rename(columns={'number': 'closed'}).drop(columns='org/repo'),\n",
    "                          on=['org', 'repo'], how='outer')\n",
    "\n",
    "created_closed = pd.melt(created_closed, id_vars=['org', 'repo'], var_name=\"kind\", value_name=\"count\").replace(np.nan, 0)"
   ]
  },
  {
   "cell_type": "code",
   "execution_count": 17,
   "metadata": {
    "execution": {
     "iopub.execute_input": "2020-07-17T01:12:04.912765Z",
     "iopub.status.busy": "2020-07-17T01:12:04.912108Z",
     "iopub.status.idle": "2020-07-17T01:12:04.914432Z",
     "shell.execute_reply": "2020-07-17T01:12:04.915000Z"
    },
    "papermill": {
     "duration": 0.07728,
     "end_time": "2020-07-17T01:12:04.915167",
     "exception": false,
     "start_time": "2020-07-17T01:12:04.837887",
     "status": "completed"
    },
    "tags": [
     "hide_input"
    ]
   },
   "outputs": [
    {
     "data": {
      "text/html": [
       "\n",
       "<div id=\"altair-viz-17cb89eb7f004acb806a9fc625e9c8a6\"></div>\n",
       "<script type=\"text/javascript\">\n",
       "  (function(spec, embedOpt){\n",
       "    let outputDiv = document.currentScript.previousElementSibling;\n",
       "    if (outputDiv.id !== \"altair-viz-17cb89eb7f004acb806a9fc625e9c8a6\") {\n",
       "      outputDiv = document.getElementById(\"altair-viz-17cb89eb7f004acb806a9fc625e9c8a6\");\n",
       "    }\n",
       "    const paths = {\n",
       "      \"vega\": \"https://cdn.jsdelivr.net/npm//vega@5?noext\",\n",
       "      \"vega-lib\": \"https://cdn.jsdelivr.net/npm//vega-lib?noext\",\n",
       "      \"vega-lite\": \"https://cdn.jsdelivr.net/npm//vega-lite@4.8.1?noext\",\n",
       "      \"vega-embed\": \"https://cdn.jsdelivr.net/npm//vega-embed@6?noext\",\n",
       "    };\n",
       "\n",
       "    function loadScript(lib) {\n",
       "      return new Promise(function(resolve, reject) {\n",
       "        var s = document.createElement('script');\n",
       "        s.src = paths[lib];\n",
       "        s.async = true;\n",
       "        s.onload = () => resolve(paths[lib]);\n",
       "        s.onerror = () => reject(`Error loading script: ${paths[lib]}`);\n",
       "        document.getElementsByTagName(\"head\")[0].appendChild(s);\n",
       "      });\n",
       "    }\n",
       "\n",
       "    function showError(err) {\n",
       "      outputDiv.innerHTML = `<div class=\"error\" style=\"color:red;\">${err}</div>`;\n",
       "      throw err;\n",
       "    }\n",
       "\n",
       "    function displayChart(vegaEmbed) {\n",
       "      vegaEmbed(outputDiv, spec, embedOpt)\n",
       "        .catch(err => showError(`Javascript Error: ${err.message}<br>This usually means there's a typo in your chart specification. See the javascript console for the full traceback.`));\n",
       "    }\n",
       "\n",
       "    if(typeof define === \"function\" && define.amd) {\n",
       "      requirejs.config({paths});\n",
       "      require([\"vega-embed\"], displayChart, err => showError(`Error loading script: ${err.message}`));\n",
       "    } else if (typeof vegaEmbed === \"function\") {\n",
       "      displayChart(vegaEmbed);\n",
       "    } else {\n",
       "      loadScript(\"vega\")\n",
       "        .then(() => loadScript(\"vega-lite\"))\n",
       "        .then(() => loadScript(\"vega-embed\"))\n",
       "        .catch(showError)\n",
       "        .then(() => displayChart(vegaEmbed));\n",
       "    }\n",
       "  })({\"config\": {\"axisLeft\": {\"labelFontSize\": 15}, \"axisBottom\": {\"labelFontSize\": 15}}, \"data\": {\"name\": \"data-860af9a526286a211e8293d9878edc5c\"}, \"mark\": \"bar\", \"encoding\": {\"color\": {\"type\": \"nominal\", \"field\": \"kind\"}, \"column\": {\"type\": \"nominal\", \"field\": \"repo\", \"header\": {\"labelFontSize\": 12, \"title\": \"Issue activity, last 60 days for jupyter-widgets\", \"titleFontSize\": 15}}, \"x\": {\"type\": \"nominal\", \"axis\": {\"labelFontSize\": 15, \"title\": \"\"}, \"field\": \"kind\"}, \"y\": {\"type\": \"quantitative\", \"axis\": {\"labelFontSize\": 12, \"titleFontSize\": 15}, \"field\": \"count\"}}, \"width\": 120, \"$schema\": \"https://vega.github.io/schema/vega-lite/v4.8.1.json\", \"datasets\": {\"data-860af9a526286a211e8293d9878edc5c\": [{\"org\": \"jupyter-widgets\", \"repo\": \"ipyleaflet\", \"kind\": \"created\", \"count\": 8.0}, {\"org\": \"jupyter-widgets\", \"repo\": \"ipywidgets\", \"kind\": \"created\", \"count\": 30.0}, {\"org\": \"jupyter-widgets\", \"repo\": \"pythreejs\", \"kind\": \"created\", \"count\": 5.0}, {\"org\": \"jupyter-widgets\", \"repo\": \"tutorial\", \"kind\": \"created\", \"count\": 1.0}, {\"org\": \"jupyter-widgets\", \"repo\": \"widget-cookiecutter\", \"kind\": \"created\", \"count\": 1.0}, {\"org\": \"jupyter-widgets\", \"repo\": \"widget-ts-cookiecutter\", \"kind\": \"created\", \"count\": 2.0}, {\"org\": \"jupyter-widgets\", \"repo\": \"ipyleaflet\", \"kind\": \"closed\", \"count\": 19.0}, {\"org\": \"jupyter-widgets\", \"repo\": \"ipywidgets\", \"kind\": \"closed\", \"count\": 10.0}, {\"org\": \"jupyter-widgets\", \"repo\": \"pythreejs\", \"kind\": \"closed\", \"count\": 0.0}, {\"org\": \"jupyter-widgets\", \"repo\": \"tutorial\", \"kind\": \"closed\", \"count\": 12.0}, {\"org\": \"jupyter-widgets\", \"repo\": \"widget-cookiecutter\", \"kind\": \"closed\", \"count\": 4.0}, {\"org\": \"jupyter-widgets\", \"repo\": \"widget-ts-cookiecutter\", \"kind\": \"closed\", \"count\": 7.0}]}}, {\"mode\": \"vega-lite\"});\n",
       "</script>"
      ],
      "text/plain": [
       "alt.Chart(...)"
      ]
     },
     "execution_count": 17,
     "metadata": {},
     "output_type": "execute_result"
    }
   ],
   "source": [
    "charts = []\n",
    "# Pick the top 10 repositories\n",
    "top_repos = created_closed.groupby(['repo']).sum().sort_values(by='count', ascending=False).head(10).index\n",
    "ch = alt.Chart(created_closed.query('repo in @top_repos'), width=120).mark_bar().encode(\n",
    "    x=alt.X(\"kind\", axis=alt.Axis(labelFontSize=15, title=\"\")), \n",
    "    y=alt.Y('count', axis=alt.Axis(titleFontSize=15, labelFontSize=12)),\n",
    "    color='kind',\n",
    "    column=alt.Column(\"repo\", header=alt.Header(title=f\"Issue activity, last {n_days} days for {github_org}\", titleFontSize=15, labelFontSize=12))\n",
    ")\n",
    "ch"
   ]
  },
  {
   "cell_type": "code",
   "execution_count": 18,
   "metadata": {
    "execution": {
     "iopub.execute_input": "2020-07-17T01:12:05.010201Z",
     "iopub.status.busy": "2020-07-17T01:12:05.009615Z",
     "iopub.status.idle": "2020-07-17T01:12:05.014028Z",
     "shell.execute_reply": "2020-07-17T01:12:05.013434Z"
    },
    "papermill": {
     "duration": 0.056532,
     "end_time": "2020-07-17T01:12:05.014161",
     "exception": false,
     "start_time": "2020-07-17T01:12:04.957629",
     "status": "completed"
    },
    "tags": [
     "remove_cell"
    ]
   },
   "outputs": [],
   "source": [
    "# Set to datetime\n",
    "for kind in ['createdAt', 'closedAt']:\n",
    "    closed.loc[:, kind] = pd.to_datetime(closed[kind])\n",
    "    \n",
    "closed.loc[:, 'time_open'] = closed['closedAt'] - closed['createdAt']\n",
    "closed.loc[:, 'time_open'] = closed['time_open'].dt.total_seconds()"
   ]
  },
  {
   "cell_type": "code",
   "execution_count": 19,
   "metadata": {
    "execution": {
     "iopub.execute_input": "2020-07-17T01:12:05.126144Z",
     "iopub.status.busy": "2020-07-17T01:12:05.113833Z",
     "iopub.status.idle": "2020-07-17T01:12:05.129738Z",
     "shell.execute_reply": "2020-07-17T01:12:05.130189Z"
    },
    "papermill": {
     "duration": 0.075242,
     "end_time": "2020-07-17T01:12:05.130356",
     "exception": false,
     "start_time": "2020-07-17T01:12:05.055114",
     "status": "completed"
    },
    "tags": [
     "hide_input"
    ]
   },
   "outputs": [
    {
     "data": {
      "text/html": [
       "\n",
       "<div id=\"altair-viz-92b6be2fe9314ae5b038b40501edfc61\"></div>\n",
       "<script type=\"text/javascript\">\n",
       "  (function(spec, embedOpt){\n",
       "    let outputDiv = document.currentScript.previousElementSibling;\n",
       "    if (outputDiv.id !== \"altair-viz-92b6be2fe9314ae5b038b40501edfc61\") {\n",
       "      outputDiv = document.getElementById(\"altair-viz-92b6be2fe9314ae5b038b40501edfc61\");\n",
       "    }\n",
       "    const paths = {\n",
       "      \"vega\": \"https://cdn.jsdelivr.net/npm//vega@5?noext\",\n",
       "      \"vega-lib\": \"https://cdn.jsdelivr.net/npm//vega-lib?noext\",\n",
       "      \"vega-lite\": \"https://cdn.jsdelivr.net/npm//vega-lite@4.8.1?noext\",\n",
       "      \"vega-embed\": \"https://cdn.jsdelivr.net/npm//vega-embed@6?noext\",\n",
       "    };\n",
       "\n",
       "    function loadScript(lib) {\n",
       "      return new Promise(function(resolve, reject) {\n",
       "        var s = document.createElement('script');\n",
       "        s.src = paths[lib];\n",
       "        s.async = true;\n",
       "        s.onload = () => resolve(paths[lib]);\n",
       "        s.onerror = () => reject(`Error loading script: ${paths[lib]}`);\n",
       "        document.getElementsByTagName(\"head\")[0].appendChild(s);\n",
       "      });\n",
       "    }\n",
       "\n",
       "    function showError(err) {\n",
       "      outputDiv.innerHTML = `<div class=\"error\" style=\"color:red;\">${err}</div>`;\n",
       "      throw err;\n",
       "    }\n",
       "\n",
       "    function displayChart(vegaEmbed) {\n",
       "      vegaEmbed(outputDiv, spec, embedOpt)\n",
       "        .catch(err => showError(`Javascript Error: ${err.message}<br>This usually means there's a typo in your chart specification. See the javascript console for the full traceback.`));\n",
       "    }\n",
       "\n",
       "    if(typeof define === \"function\" && define.amd) {\n",
       "      requirejs.config({paths});\n",
       "      require([\"vega-embed\"], displayChart, err => showError(`Error loading script: ${err.message}`));\n",
       "    } else if (typeof vegaEmbed === \"function\") {\n",
       "      displayChart(vegaEmbed);\n",
       "    } else {\n",
       "      loadScript(\"vega\")\n",
       "        .then(() => loadScript(\"vega-lite\"))\n",
       "        .then(() => loadScript(\"vega-embed\"))\n",
       "        .catch(showError)\n",
       "        .then(() => displayChart(vegaEmbed));\n",
       "    }\n",
       "  })({\"config\": {\"axisLeft\": {\"labelFontSize\": 15}, \"axisBottom\": {\"labelFontSize\": 15}}, \"data\": {\"name\": \"data-86bc55c47aa15c42e33b6dd65cca8a37\"}, \"mark\": \"bar\", \"encoding\": {\"x\": {\"type\": \"nominal\", \"field\": \"repo\", \"sort\": [\"widget-ts-cookiecutter\", \"tutorial\", \"widget-cookiecutter\", \"ipywidgets\", \"ipyleaflet\"]}, \"y\": {\"type\": \"quantitative\", \"field\": \"time_open\", \"title\": \"Median Days Open\"}}, \"title\": \"Time to close for issues closed in the last 60 days\", \"$schema\": \"https://vega.github.io/schema/vega-lite/v4.8.1.json\", \"datasets\": {\"data-86bc55c47aa15c42e33b6dd65cca8a37\": [{\"org\": \"jupyter-widgets\", \"repo\": \"ipyleaflet\", \"time_open\": 0.26537037037037037, \"org/repo\": \"jupyter-widgets/ipyleaflet\"}, {\"org\": \"jupyter-widgets\", \"repo\": \"ipywidgets\", \"time_open\": 0.4530497685185186, \"org/repo\": \"jupyter-widgets/ipywidgets\"}, {\"org\": \"jupyter-widgets\", \"repo\": \"tutorial\", \"time_open\": 17.00857060185185, \"org/repo\": \"jupyter-widgets/tutorial\"}, {\"org\": \"jupyter-widgets\", \"repo\": \"widget-cookiecutter\", \"time_open\": 3.9063368055555556, \"org/repo\": \"jupyter-widgets/widget-cookiecutter\"}, {\"org\": \"jupyter-widgets\", \"repo\": \"widget-ts-cookiecutter\", \"time_open\": 31.19509259259259, \"org/repo\": \"jupyter-widgets/widget-ts-cookiecutter\"}]}}, {\"mode\": \"vega-lite\"});\n",
       "</script>"
      ],
      "text/plain": [
       "alt.Chart(...)"
      ]
     },
     "execution_count": 19,
     "metadata": {},
     "output_type": "execute_result"
    }
   ],
   "source": [
    "time_open = closed.groupby(['org', 'repo']).agg({'time_open': 'median'}).reset_index()\n",
    "time_open['time_open'] = time_open['time_open'] / (60 * 60 * 24)\n",
    "time_open['org/repo'] = time_open.apply(lambda a: a['org'] + '/' + a['repo'], axis=1)\n",
    "sorted_vals = time_open.sort_values(['org', 'time_open'], ascending=False)['repo'].values\n",
    "alt.Chart(data=time_open, title=f\"Time to close for issues closed in the last {n_days} days\").mark_bar().encode(\n",
    "    x=alt.X('repo', sort=alt.Sort(sorted_vals.tolist())),\n",
    "    y=alt.Y('time_open', title=\"Median Days Open\"),\n",
    ")"
   ]
  },
  {
   "cell_type": "markdown",
   "metadata": {
    "papermill": {
     "duration": 0.04236,
     "end_time": "2020-07-17T01:12:05.216495",
     "exception": false,
     "start_time": "2020-07-17T01:12:05.174135",
     "status": "completed"
    },
    "tags": []
   },
   "source": [
    "## Commenters across repositories\n",
    "\n",
    "These are commenters across all issues and pull requests in the last several days.\n",
    "These are colored by the commenter's association with the organization. For information\n",
    "about what these associations mean, [see this StackOverflow post](https://stackoverflow.com/a/28866914/1927102)."
   ]
  },
  {
   "cell_type": "code",
   "execution_count": 20,
   "metadata": {
    "execution": {
     "iopub.execute_input": "2020-07-17T01:12:05.318358Z",
     "iopub.status.busy": "2020-07-17T01:12:05.309160Z",
     "iopub.status.idle": "2020-07-17T01:12:05.321511Z",
     "shell.execute_reply": "2020-07-17T01:12:05.320391Z"
    },
    "papermill": {
     "duration": 0.063512,
     "end_time": "2020-07-17T01:12:05.321654",
     "exception": false,
     "start_time": "2020-07-17T01:12:05.258142",
     "status": "completed"
    },
    "tags": [
     "remove_cell"
    ]
   },
   "outputs": [],
   "source": [
    "commentors = (\n",
    "    comments\n",
    "    .query(\"createdAt > @start_date and createdAt < @stop_date\")\n",
    "    .groupby(['org', 'repo', 'author', 'authorAssociation'])\n",
    "    .count().rename(columns={'id': 'count'})['count']\n",
    "    .reset_index()\n",
    "    .sort_values(['org', 'count'], ascending=False)\n",
    ")"
   ]
  },
  {
   "cell_type": "code",
   "execution_count": 21,
   "metadata": {
    "execution": {
     "iopub.execute_input": "2020-07-17T01:12:05.434584Z",
     "iopub.status.busy": "2020-07-17T01:12:05.433966Z",
     "iopub.status.idle": "2020-07-17T01:12:05.444466Z",
     "shell.execute_reply": "2020-07-17T01:12:05.444922Z"
    },
    "papermill": {
     "duration": 0.078526,
     "end_time": "2020-07-17T01:12:05.445090",
     "exception": false,
     "start_time": "2020-07-17T01:12:05.366564",
     "status": "completed"
    },
    "tags": [
     "hide_input"
    ]
   },
   "outputs": [
    {
     "data": {
      "text/html": [
       "\n",
       "<div id=\"altair-viz-e1caead4a2e04cfa9c05b15b785624db\"></div>\n",
       "<script type=\"text/javascript\">\n",
       "  (function(spec, embedOpt){\n",
       "    let outputDiv = document.currentScript.previousElementSibling;\n",
       "    if (outputDiv.id !== \"altair-viz-e1caead4a2e04cfa9c05b15b785624db\") {\n",
       "      outputDiv = document.getElementById(\"altair-viz-e1caead4a2e04cfa9c05b15b785624db\");\n",
       "    }\n",
       "    const paths = {\n",
       "      \"vega\": \"https://cdn.jsdelivr.net/npm//vega@5?noext\",\n",
       "      \"vega-lib\": \"https://cdn.jsdelivr.net/npm//vega-lib?noext\",\n",
       "      \"vega-lite\": \"https://cdn.jsdelivr.net/npm//vega-lite@4.8.1?noext\",\n",
       "      \"vega-embed\": \"https://cdn.jsdelivr.net/npm//vega-embed@6?noext\",\n",
       "    };\n",
       "\n",
       "    function loadScript(lib) {\n",
       "      return new Promise(function(resolve, reject) {\n",
       "        var s = document.createElement('script');\n",
       "        s.src = paths[lib];\n",
       "        s.async = true;\n",
       "        s.onload = () => resolve(paths[lib]);\n",
       "        s.onerror = () => reject(`Error loading script: ${paths[lib]}`);\n",
       "        document.getElementsByTagName(\"head\")[0].appendChild(s);\n",
       "      });\n",
       "    }\n",
       "\n",
       "    function showError(err) {\n",
       "      outputDiv.innerHTML = `<div class=\"error\" style=\"color:red;\">${err}</div>`;\n",
       "      throw err;\n",
       "    }\n",
       "\n",
       "    function displayChart(vegaEmbed) {\n",
       "      vegaEmbed(outputDiv, spec, embedOpt)\n",
       "        .catch(err => showError(`Javascript Error: ${err.message}<br>This usually means there's a typo in your chart specification. See the javascript console for the full traceback.`));\n",
       "    }\n",
       "\n",
       "    if(typeof define === \"function\" && define.amd) {\n",
       "      requirejs.config({paths});\n",
       "      require([\"vega-embed\"], displayChart, err => showError(`Error loading script: ${err.message}`));\n",
       "    } else if (typeof vegaEmbed === \"function\") {\n",
       "      displayChart(vegaEmbed);\n",
       "    } else {\n",
       "      loadScript(\"vega\")\n",
       "        .then(() => loadScript(\"vega-lite\"))\n",
       "        .then(() => loadScript(\"vega-embed\"))\n",
       "        .catch(showError)\n",
       "        .then(() => displayChart(vegaEmbed));\n",
       "    }\n",
       "  })({\"config\": {\"axisLeft\": {\"labelFontSize\": 15}, \"axisBottom\": {\"labelFontSize\": 15}}, \"hconcat\": [{\"mark\": \"bar\", \"encoding\": {\"color\": {\"type\": \"nominal\", \"field\": \"authorAssociation\", \"scale\": {\"domain\": [\"MEMBER\", \"CONTRIBUTOR\", \"COLLABORATOR\", \"NONE\"], \"range\": [\"rgb(211.82745098039214, 211.82745098039214, 211.82745098039214)\", \"rgb(166.98562091503268, 229.89803921568628, 166.98562091503268)\", \"rgb(96.37647058823529, 192.75294117647059, 96.37647058823529)\", \"rgb(0.0, 100.3921568627451, 0.0)\"]}}, \"x\": {\"type\": \"nominal\", \"field\": \"author\"}, \"y\": {\"type\": \"quantitative\", \"field\": \"count\"}}, \"title\": \"Top 50 commentors for jupyter-widgets in the last 60 days\"}], \"data\": {\"name\": \"data-87cdd39b8c810acf70e0f9fb07411229\"}, \"$schema\": \"https://vega.github.io/schema/vega-lite/v4.8.1.json\", \"datasets\": {\"data-87cdd39b8c810acf70e0f9fb07411229\": [{\"author\": \"martinRenou\", \"count\": 89, \"authorAssociation\": \"MEMBER\"}, {\"author\": \"davidbrochart\", \"count\": 33, \"authorAssociation\": \"MEMBER\"}, {\"author\": \"ianhi\", \"count\": 24, \"authorAssociation\": \"CONTRIBUTOR\"}, {\"author\": \"jasongrout\", \"count\": 17, \"authorAssociation\": \"MEMBER\"}, {\"author\": \"mwcraig\", \"count\": 17, \"authorAssociation\": \"CONTRIBUTOR\"}, {\"author\": \"betolink\", \"count\": 11, \"authorAssociation\": \"CONTRIBUTOR\"}, {\"author\": \"vidartf\", \"count\": 10, \"authorAssociation\": \"MEMBER\"}, {\"author\": \"sackh\", \"count\": 10, \"authorAssociation\": \"CONTRIBUTOR\"}, {\"author\": \"giswqs\", \"count\": 9, \"authorAssociation\": \"CONTRIBUTOR\"}, {\"author\": \"omanges\", \"count\": 5, \"authorAssociation\": \"CONTRIBUTOR\"}, {\"author\": \"jtpio\", \"count\": 4, \"authorAssociation\": \"MEMBER\"}, {\"author\": \"deeplook\", \"count\": 4, \"authorAssociation\": \"CONTRIBUTOR\"}, {\"author\": \"krlng\", \"count\": 4, \"authorAssociation\": \"NONE\"}, {\"author\": \"SylvainCorlay\", \"count\": 4, \"authorAssociation\": \"MEMBER\"}, {\"author\": \"jifcon\", \"count\": 3, \"authorAssociation\": \"NONE\"}, {\"author\": \"mbektasbbg\", \"count\": 3, \"authorAssociation\": \"MEMBER\"}, {\"author\": \"scottyhq\", \"count\": 3, \"authorAssociation\": \"CONTRIBUTOR\"}, {\"author\": \"stefanmeili\", \"count\": 3, \"authorAssociation\": \"NONE\"}, {\"author\": \"Carreau\", \"count\": 3, \"authorAssociation\": \"CONTRIBUTOR\"}, {\"author\": \"philippjfr\", \"count\": 3, \"authorAssociation\": \"CONTRIBUTOR\"}, {\"author\": \"renefritze\", \"count\": 2, \"authorAssociation\": \"NONE\"}, {\"author\": \"rvlander\", \"count\": 2, \"authorAssociation\": \"NONE\"}, {\"author\": \"maartenbreddels\", \"count\": 2, \"authorAssociation\": \"MEMBER\"}, {\"author\": \"yrouimi\", \"count\": 2, \"authorAssociation\": \"NONE\"}, {\"author\": \"19bcs2405\", \"count\": 2, \"authorAssociation\": \"NONE\"}, {\"author\": \"janfreyberg\", \"count\": 2, \"authorAssociation\": \"NONE\"}, {\"author\": \"dhaselb\", \"count\": 2, \"authorAssociation\": \"NONE\"}, {\"author\": \"Boomer91\", \"count\": 2, \"authorAssociation\": \"NONE\"}, {\"author\": \"dependabot\", \"count\": 2, \"authorAssociation\": \"CONTRIBUTOR\"}, {\"author\": \"cabreraalex\", \"count\": 2, \"authorAssociation\": \"NONE\"}, {\"author\": \"ibdafna\", \"count\": 1, \"authorAssociation\": \"MEMBER\"}, {\"author\": \"matthewspink\", \"count\": 1, \"authorAssociation\": \"NONE\"}, {\"author\": \"kryptokommunist\", \"count\": 1, \"authorAssociation\": \"NONE\"}, {\"author\": \"vpipkt\", \"count\": 1, \"authorAssociation\": \"CONTRIBUTOR\"}, {\"author\": \"Disatiler\", \"count\": 1, \"authorAssociation\": \"NONE\"}, {\"author\": \"JamesMaxwellHarrison\", \"count\": 1, \"authorAssociation\": \"NONE\"}, {\"author\": \"Kreijstal\", \"count\": 1, \"authorAssociation\": \"NONE\"}, {\"author\": \"saraedum\", \"count\": 1, \"authorAssociation\": \"CONTRIBUTOR\"}, {\"author\": \"Nic30\", \"count\": 1, \"authorAssociation\": \"NONE\"}, {\"author\": \"SchoolProjBase\", \"count\": 1, \"authorAssociation\": \"NONE\"}, {\"author\": \"rheiland\", \"count\": 1, \"authorAssociation\": \"NONE\"}, {\"author\": \"WestXu\", \"count\": 1, \"authorAssociation\": \"NONE\"}, {\"author\": \"rachelyeshurun\", \"count\": 1, \"authorAssociation\": \"NONE\"}, {\"author\": \"photoszzt\", \"count\": 1, \"authorAssociation\": \"NONE\"}, {\"author\": \"AlexanderJuestel\", \"count\": 1, \"authorAssociation\": \"NONE\"}, {\"author\": \"luzpaz\", \"count\": 1, \"authorAssociation\": \"NONE\"}, {\"author\": \"nvaytet\", \"count\": 1, \"authorAssociation\": \"NONE\"}, {\"author\": \"nthiery\", \"count\": 1, \"authorAssociation\": \"CONTRIBUTOR\"}, {\"author\": \"navoshta\", \"count\": 1, \"authorAssociation\": \"NONE\"}, {\"author\": \"jaclynsaunders\", \"count\": 1, \"authorAssociation\": \"NONE\"}]}}, {\"mode\": \"vega-lite\"});\n",
       "</script>"
      ],
      "text/plain": [
       "alt.HConcatChart(...)"
      ]
     },
     "execution_count": 21,
     "metadata": {},
     "output_type": "execute_result"
    }
   ],
   "source": [
    "n_plot = 50\n",
    "charts = []\n",
    "for ii, (iorg, idata) in enumerate(commentors.groupby(['org'])):\n",
    "    title = f\"Top {n_plot} commentors for {iorg} in the last {n_days} days\"\n",
    "    idata = idata.groupby('author', as_index=False).agg({'count': 'sum', 'authorAssociation': 'first'})\n",
    "    idata = idata.sort_values('count', ascending=False).head(n_plot)\n",
    "    ch = alt.Chart(data=idata.head(n_plot), title=title).mark_bar().encode(\n",
    "        x='author',\n",
    "        y='count',\n",
    "        color=alt.Color('authorAssociation', scale=alt.Scale(domain=author_types, range=author_colors))\n",
    "    )\n",
    "    charts.append(ch)\n",
    "alt.hconcat(*charts)"
   ]
  },
  {
   "cell_type": "markdown",
   "metadata": {
    "papermill": {
     "duration": 0.043107,
     "end_time": "2020-07-17T01:12:05.531910",
     "exception": false,
     "start_time": "2020-07-17T01:12:05.488803",
     "status": "completed"
    },
    "tags": []
   },
   "source": [
    "## First responders\n",
    "\n",
    "First responders are the first people to respond to a new issue in one of the repositories.\n",
    "The following plots show first responders for recently-created issues."
   ]
  },
  {
   "cell_type": "code",
   "execution_count": 22,
   "metadata": {
    "execution": {
     "iopub.execute_input": "2020-07-17T01:12:05.626141Z",
     "iopub.status.busy": "2020-07-17T01:12:05.625556Z",
     "iopub.status.idle": "2020-07-17T01:12:05.784005Z",
     "shell.execute_reply": "2020-07-17T01:12:05.784870Z"
    },
    "papermill": {
     "duration": 0.211311,
     "end_time": "2020-07-17T01:12:05.785150",
     "exception": false,
     "start_time": "2020-07-17T01:12:05.573839",
     "status": "completed"
    },
    "tags": [
     "remove_cell"
    ]
   },
   "outputs": [],
   "source": [
    "first_comments = []\n",
    "for (org, repo, issue_id), i_comments in comments.groupby(['org', 'repo', 'id']):\n",
    "    ix_min = pd.to_datetime(i_comments['createdAt']).idxmin()\n",
    "    first_comment = i_comments.loc[ix_min]\n",
    "    if isinstance(first_comment, pd.DataFrame):\n",
    "        first_comment = first_comment.iloc[0]\n",
    "    first_comments.append(first_comment)\n",
    "first_comments = pd.concat(first_comments, axis=1).T\n",
    "\n",
    "# Make up counts for viz\n",
    "first_responder_counts = first_comments.groupby(['org', 'author', 'authorAssociation'], as_index=False).\\\n",
    "    count().rename(columns={'id': 'n_first_responses'}).sort_values(['org', 'n_first_responses'], ascending=False)\n"
   ]
  },
  {
   "cell_type": "code",
   "execution_count": 23,
   "metadata": {
    "execution": {
     "iopub.execute_input": "2020-07-17T01:12:05.906181Z",
     "iopub.status.busy": "2020-07-17T01:12:05.904974Z",
     "iopub.status.idle": "2020-07-17T01:12:05.907999Z",
     "shell.execute_reply": "2020-07-17T01:12:05.908579Z"
    },
    "papermill": {
     "duration": 0.07697,
     "end_time": "2020-07-17T01:12:05.908747",
     "exception": false,
     "start_time": "2020-07-17T01:12:05.831777",
     "status": "completed"
    },
    "tags": [
     "hide_input"
    ]
   },
   "outputs": [
    {
     "data": {
      "text/html": [
       "\n",
       "<div id=\"altair-viz-791cc47250c447c5a774f56c6e7b8a20\"></div>\n",
       "<script type=\"text/javascript\">\n",
       "  (function(spec, embedOpt){\n",
       "    let outputDiv = document.currentScript.previousElementSibling;\n",
       "    if (outputDiv.id !== \"altair-viz-791cc47250c447c5a774f56c6e7b8a20\") {\n",
       "      outputDiv = document.getElementById(\"altair-viz-791cc47250c447c5a774f56c6e7b8a20\");\n",
       "    }\n",
       "    const paths = {\n",
       "      \"vega\": \"https://cdn.jsdelivr.net/npm//vega@5?noext\",\n",
       "      \"vega-lib\": \"https://cdn.jsdelivr.net/npm//vega-lib?noext\",\n",
       "      \"vega-lite\": \"https://cdn.jsdelivr.net/npm//vega-lite@4.8.1?noext\",\n",
       "      \"vega-embed\": \"https://cdn.jsdelivr.net/npm//vega-embed@6?noext\",\n",
       "    };\n",
       "\n",
       "    function loadScript(lib) {\n",
       "      return new Promise(function(resolve, reject) {\n",
       "        var s = document.createElement('script');\n",
       "        s.src = paths[lib];\n",
       "        s.async = true;\n",
       "        s.onload = () => resolve(paths[lib]);\n",
       "        s.onerror = () => reject(`Error loading script: ${paths[lib]}`);\n",
       "        document.getElementsByTagName(\"head\")[0].appendChild(s);\n",
       "      });\n",
       "    }\n",
       "\n",
       "    function showError(err) {\n",
       "      outputDiv.innerHTML = `<div class=\"error\" style=\"color:red;\">${err}</div>`;\n",
       "      throw err;\n",
       "    }\n",
       "\n",
       "    function displayChart(vegaEmbed) {\n",
       "      vegaEmbed(outputDiv, spec, embedOpt)\n",
       "        .catch(err => showError(`Javascript Error: ${err.message}<br>This usually means there's a typo in your chart specification. See the javascript console for the full traceback.`));\n",
       "    }\n",
       "\n",
       "    if(typeof define === \"function\" && define.amd) {\n",
       "      requirejs.config({paths});\n",
       "      require([\"vega-embed\"], displayChart, err => showError(`Error loading script: ${err.message}`));\n",
       "    } else if (typeof vegaEmbed === \"function\") {\n",
       "      displayChart(vegaEmbed);\n",
       "    } else {\n",
       "      loadScript(\"vega\")\n",
       "        .then(() => loadScript(\"vega-lite\"))\n",
       "        .then(() => loadScript(\"vega-embed\"))\n",
       "        .catch(showError)\n",
       "        .then(() => displayChart(vegaEmbed));\n",
       "    }\n",
       "  })({\"config\": {\"axisLeft\": {\"labelFontSize\": 15}, \"axisBottom\": {\"labelFontSize\": 15}}, \"data\": {\"name\": \"data-42bb6007dbedc02872eca89f45113c67\"}, \"mark\": \"bar\", \"encoding\": {\"color\": {\"type\": \"nominal\", \"field\": \"authorAssociation\", \"scale\": {\"domain\": [\"MEMBER\", \"CONTRIBUTOR\", \"COLLABORATOR\", \"NONE\"], \"range\": [\"rgb(211.82745098039214, 211.82745098039214, 211.82745098039214)\", \"rgb(166.98562091503268, 229.89803921568628, 166.98562091503268)\", \"rgb(96.37647058823529, 192.75294117647059, 96.37647058823529)\", \"rgb(0.0, 100.3921568627451, 0.0)\"]}}, \"x\": {\"type\": \"nominal\", \"field\": \"author\"}, \"y\": {\"type\": \"quantitative\", \"field\": \"n_first_responses\"}}, \"title\": \"Top 50 first responders for jupyter-widgets in the last 60 days\", \"$schema\": \"https://vega.github.io/schema/vega-lite/v4.8.1.json\", \"datasets\": {\"data-42bb6007dbedc02872eca89f45113c67\": [{\"author\": \"martinRenou\", \"n_first_responses\": 37, \"authorAssociation\": \"MEMBER\"}, {\"author\": \"davidbrochart\", \"n_first_responses\": 12, \"authorAssociation\": \"MEMBER\"}, {\"author\": \"mwcraig\", \"n_first_responses\": 10, \"authorAssociation\": \"CONTRIBUTOR\"}, {\"author\": \"ianhi\", \"n_first_responses\": 8, \"authorAssociation\": \"CONTRIBUTOR\"}, {\"author\": \"vidartf\", \"n_first_responses\": 8, \"authorAssociation\": \"MEMBER\"}, {\"author\": \"jasongrout\", \"n_first_responses\": 7, \"authorAssociation\": \"MEMBER\"}, {\"author\": \"sackh\", \"n_first_responses\": 4, \"authorAssociation\": \"CONTRIBUTOR\"}, {\"author\": \"jtpio\", \"n_first_responses\": 4, \"authorAssociation\": \"MEMBER\"}, {\"author\": \"SylvainCorlay\", \"n_first_responses\": 2, \"authorAssociation\": \"MEMBER\"}, {\"author\": \"deeplook\", \"n_first_responses\": 2, \"authorAssociation\": \"CONTRIBUTOR\"}, {\"author\": \"dependabot\", \"n_first_responses\": 2, \"authorAssociation\": \"CONTRIBUTOR\"}, {\"author\": \"Carreau\", \"n_first_responses\": 2, \"authorAssociation\": \"CONTRIBUTOR\"}, {\"author\": \"rachelyeshurun\", \"n_first_responses\": 1, \"authorAssociation\": \"NONE\"}, {\"author\": \"philippjfr\", \"n_first_responses\": 1, \"authorAssociation\": \"CONTRIBUTOR\"}, {\"author\": \"pbugnion\", \"n_first_responses\": 1, \"authorAssociation\": \"MEMBER\"}, {\"author\": \"nthiery\", \"n_first_responses\": 1, \"authorAssociation\": \"CONTRIBUTOR\"}, {\"author\": \"navoshta\", \"n_first_responses\": 1, \"authorAssociation\": \"NONE\"}, {\"author\": \"rheiland\", \"n_first_responses\": 1, \"authorAssociation\": \"NONE\"}, {\"author\": \"maartenbreddels\", \"n_first_responses\": 1, \"authorAssociation\": \"MEMBER\"}, {\"author\": \"19bcs2405\", \"n_first_responses\": 1, \"authorAssociation\": \"NONE\"}, {\"author\": \"jaclynsaunders\", \"n_first_responses\": 1, \"authorAssociation\": \"NONE\"}, {\"author\": \"ibdafna\", \"n_first_responses\": 1, \"authorAssociation\": \"MEMBER\"}, {\"author\": \"AlexanderJuestel\", \"n_first_responses\": 1, \"authorAssociation\": \"NONE\"}, {\"author\": \"fabricebrito\", \"n_first_responses\": 1, \"authorAssociation\": \"NONE\"}, {\"author\": \"e-dorigatti\", \"n_first_responses\": 1, \"authorAssociation\": \"NONE\"}, {\"author\": \"dwr-psandhu\", \"n_first_responses\": 1, \"authorAssociation\": \"NONE\"}, {\"author\": \"dhaselb\", \"n_first_responses\": 1, \"authorAssociation\": \"NONE\"}, {\"author\": \"betolink\", \"n_first_responses\": 1, \"authorAssociation\": \"CONTRIBUTOR\"}, {\"author\": \"WestXu\", \"n_first_responses\": 1, \"authorAssociation\": \"NONE\"}, {\"author\": \"Nic30\", \"n_first_responses\": 1, \"authorAssociation\": \"NONE\"}, {\"author\": \"Kreijstal\", \"n_first_responses\": 1, \"authorAssociation\": \"NONE\"}, {\"author\": \"JamesMaxwellHarrison\", \"n_first_responses\": 1, \"authorAssociation\": \"NONE\"}, {\"author\": \"gutama\", \"n_first_responses\": 1, \"authorAssociation\": \"NONE\"}]}}, {\"mode\": \"vega-lite\"});\n",
       "</script>"
      ],
      "text/plain": [
       "alt.Chart(...)"
      ]
     },
     "execution_count": 23,
     "metadata": {},
     "output_type": "execute_result"
    }
   ],
   "source": [
    "n_plot = 50\n",
    "\n",
    "title = f\"Top {n_plot} first responders for {github_org} in the last {n_days} days\"\n",
    "idata = first_responder_counts.groupby('author', as_index=False).agg({'n_first_responses': 'sum', 'authorAssociation': 'first'})\n",
    "idata = idata.sort_values('n_first_responses', ascending=False).head(n_plot)\n",
    "ch = alt.Chart(data=idata.head(n_plot), title=title).mark_bar().encode(\n",
    "    x='author',\n",
    "    y='n_first_responses',\n",
    "    color=alt.Color('authorAssociation', scale=alt.Scale(domain=author_types, range=author_colors))\n",
    ")\n",
    "ch"
   ]
  },
  {
   "cell_type": "markdown",
   "metadata": {
    "papermill": {
     "duration": 0.045903,
     "end_time": "2020-07-17T01:12:05.998880",
     "exception": false,
     "start_time": "2020-07-17T01:12:05.952977",
     "status": "completed"
    },
    "tags": []
   },
   "source": [
    "## Recent activity\n",
    "\n",
    "### A list of merged PRs by project\n",
    "\n",
    "Below is a tabbed readout of recently-merged PRs. Check out the title to get an idea for what they\n",
    "implemented, and be sure to thank the PR author for their hard work!"
   ]
  },
  {
   "cell_type": "code",
   "execution_count": 24,
   "metadata": {
    "execution": {
     "iopub.execute_input": "2020-07-17T01:12:06.107646Z",
     "iopub.status.busy": "2020-07-17T01:12:06.106978Z",
     "iopub.status.idle": "2020-07-17T01:12:06.251762Z",
     "shell.execute_reply": "2020-07-17T01:12:06.252360Z"
    },
    "papermill": {
     "duration": 0.211123,
     "end_time": "2020-07-17T01:12:06.252534",
     "exception": false,
     "start_time": "2020-07-17T01:12:06.041411",
     "status": "completed"
    },
    "tags": [
     "hide_input"
    ]
   },
   "outputs": [
    {
     "data": {
      "application/vnd.jupyter.widget-view+json": {
       "model_id": "55be62f4f06849d6b7508e2512980d00",
       "version_major": 2,
       "version_minor": 0
      },
      "text/plain": [
       "Tab(children=(HTML(value='<h4>Closed PRs for repo: <a href=\"https://github.com/jupyter-widgets/ipyleaflet\">jup…"
      ]
     },
     "metadata": {},
     "output_type": "display_data"
    }
   ],
   "source": [
    "tabs = widgets.Tab(children=[])\n",
    "\n",
    "for ii, ((org, repo), imerged) in enumerate(merged.query(\"repo in @use_repos\").groupby(['org', 'repo'])):\n",
    "    merged_by = {}\n",
    "    pr_by = {}\n",
    "    issue_md = []\n",
    "    issue_md.append(f\"#### Closed PRs for repo: [{org}/{repo}](https://github.com/{github_org}/{repo})\")\n",
    "    issue_md.append(\"\")\n",
    "    issue_md.append(f\"##### \")\n",
    "\n",
    "    for _, ipr in imerged.iterrows():\n",
    "        user_name = ipr['author']\n",
    "        user_url = author_url(user_name)\n",
    "        pr_number = ipr['number']\n",
    "        pr_html = ipr['url']\n",
    "        pr_title = ipr['title']\n",
    "        pr_closedby = ipr['mergedBy']\n",
    "        pr_closedby_url = f\"https://github.com/{pr_closedby}\"\n",
    "        if user_name not in pr_by:\n",
    "            pr_by[user_name] = 1\n",
    "        else:\n",
    "            pr_by[user_name] += 1\n",
    "\n",
    "        if pr_closedby not in merged_by:\n",
    "            merged_by[pr_closedby] = 1\n",
    "        else:\n",
    "            merged_by[pr_closedby] += 1\n",
    "        text = f\"* [(#{pr_number})]({pr_html}): _{pr_title}_ by **[@{user_name}]({user_url})** merged by **[@{pr_closedby}]({pr_closedby_url})**\"\n",
    "        issue_md.append(text)\n",
    "    \n",
    "    issue_md.append('')\n",
    "    markdown_html = markdown('\\n'.join(issue_md))\n",
    "\n",
    "    children = list(tabs.children)\n",
    "    children.append(HTML(markdown_html))\n",
    "    tabs.children = tuple(children)\n",
    "    tabs.set_title(ii, repo)\n",
    "tabs"
   ]
  },
  {
   "cell_type": "markdown",
   "metadata": {
    "papermill": {
     "duration": 0.044475,
     "end_time": "2020-07-17T01:12:06.343542",
     "exception": false,
     "start_time": "2020-07-17T01:12:06.299067",
     "status": "completed"
    },
    "tags": []
   },
   "source": [
    "### A list of recent issues\n",
    "\n",
    "Below is a list of issues with recent activity in each repository. If they seem of interest\n",
    "to you, click on their links and jump in to participate!"
   ]
  },
  {
   "cell_type": "code",
   "execution_count": 25,
   "metadata": {
    "execution": {
     "iopub.execute_input": "2020-07-17T01:12:06.442839Z",
     "iopub.status.busy": "2020-07-17T01:12:06.442263Z",
     "iopub.status.idle": "2020-07-17T01:12:06.449075Z",
     "shell.execute_reply": "2020-07-17T01:12:06.449644Z"
    },
    "papermill": {
     "duration": 0.062625,
     "end_time": "2020-07-17T01:12:06.449803",
     "exception": false,
     "start_time": "2020-07-17T01:12:06.387178",
     "status": "completed"
    },
    "tags": [
     "remove_cell"
    ]
   },
   "outputs": [],
   "source": [
    "# Add comment count data to issues and PRs\n",
    "comment_counts = (\n",
    "    comments\n",
    "    .query(\"createdAt > @start_date and createdAt < @stop_date\")\n",
    "    .groupby(['org', 'repo', 'id'])\n",
    "    .count().iloc[:, 0].to_frame()\n",
    ")\n",
    "comment_counts.columns = ['n_comments']\n",
    "comment_counts = comment_counts.reset_index()"
   ]
  },
  {
   "cell_type": "code",
   "execution_count": 26,
   "metadata": {
    "execution": {
     "iopub.execute_input": "2020-07-17T01:12:06.556289Z",
     "iopub.status.busy": "2020-07-17T01:12:06.555665Z",
     "iopub.status.idle": "2020-07-17T01:12:06.756630Z",
     "shell.execute_reply": "2020-07-17T01:12:06.757207Z"
    },
    "papermill": {
     "duration": 0.262159,
     "end_time": "2020-07-17T01:12:06.757376",
     "exception": false,
     "start_time": "2020-07-17T01:12:06.495217",
     "status": "completed"
    },
    "tags": [
     "hide_input"
    ],
    "toc-hr-collapsed": false
   },
   "outputs": [
    {
     "data": {
      "text/markdown": [
       "Here are the top 5 active issues in each repository in the last 60 days"
      ],
      "text/plain": [
       "<IPython.core.display.Markdown object>"
      ]
     },
     "metadata": {},
     "output_type": "display_data"
    },
    {
     "data": {
      "application/vnd.jupyter.widget-view+json": {
       "model_id": "affd0010e0574a7287c239b6de10c8f2",
       "version_major": 2,
       "version_minor": 0
      },
      "text/plain": [
       "Tab(children=(HTML(value='<h5><a href=\"https://github.com/jupyter-widgets/ipyleaflet\">jupyter-widgets/ipyleafl…"
      ]
     },
     "metadata": {},
     "output_type": "display_data"
    }
   ],
   "source": [
    "n_plot = 5\n",
    "tabs = widgets.Tab(children=[])\n",
    "\n",
    "for ii, (repo, i_issues) in enumerate(comment_counts.query(\"repo in @use_repos\").groupby('repo')):\n",
    "    \n",
    "    issue_md = []\n",
    "    issue_md.append(\"\")\n",
    "    issue_md.append(f\"##### [{github_org}/{repo}](https://github.com/{github_org}/{repo})\")\n",
    "\n",
    "    top_issues = i_issues.sort_values('n_comments', ascending=False).head(n_plot)\n",
    "    top_issue_list = pd.merge(issues, top_issues, left_on=['org', 'repo', 'id'], right_on=['org', 'repo', 'id'])\n",
    "    for _, issue in top_issue_list.sort_values('n_comments', ascending=False).head(n_plot).iterrows():\n",
    "        user_name = issue['author']\n",
    "        user_url = author_url(user_name)\n",
    "        issue_number = issue['number']\n",
    "        issue_html = issue['url']\n",
    "        issue_title = issue['title']\n",
    "\n",
    "        text = f\"* [(#{issue_number})]({issue_html}): _{issue_title}_ by **[@{user_name}]({user_url})**\"\n",
    "        issue_md.append(text)\n",
    "\n",
    "    issue_md.append('')\n",
    "    md_html = HTML(markdown('\\n'.join(issue_md)))\n",
    "\n",
    "    children = list(tabs.children)\n",
    "    children.append(HTML(markdown('\\n'.join(issue_md))))\n",
    "    tabs.children = tuple(children)\n",
    "    tabs.set_title(ii, repo)\n",
    "    \n",
    "display(Markdown(f\"Here are the top {n_plot} active issues in each repository in the last {n_days} days\"))\n",
    "display(tabs)"
   ]
  }
 ],
 "metadata": {
  "kernelspec": {
   "display_name": "Python 3",
   "language": "python",
   "name": "python3"
  },
  "language_info": {
   "codemirror_mode": {
    "name": "ipython",
    "version": 3
   },
   "file_extension": ".py",
   "mimetype": "text/x-python",
   "name": "python",
   "nbconvert_exporter": "python",
   "pygments_lexer": "ipython3",
   "version": "3.7.8"
  },
  "papermill": {
   "duration": 22.443168,
   "end_time": "2020-07-17T01:12:07.318638",
   "environment_variables": {},
   "exception": null,
   "input_path": "./template.ipynb",
   "output_path": "book/jupyter-widgets.ipynb",
   "parameters": {
    "github_org": "jupyter-widgets",
    "n_days": 60
   },
   "start_time": "2020-07-17T01:11:44.875470",
   "version": "2.1.2"
  },
  "widgets": {
   "application/vnd.jupyter.widget-state+json": {
    "state": {
     "039f1b8c3bbd43fbb7328541397fc2b1": {
      "model_module": "@jupyter-widgets/base",
      "model_module_version": "1.2.0",
      "model_name": "LayoutModel",
      "state": {
       "_model_module": "@jupyter-widgets/base",
       "_model_module_version": "1.2.0",
       "_model_name": "LayoutModel",
       "_view_count": null,
       "_view_module": "@jupyter-widgets/base",
       "_view_module_version": "1.2.0",
       "_view_name": "LayoutView",
       "align_content": null,
       "align_items": null,
       "align_self": null,
       "border": null,
       "bottom": null,
       "display": null,
       "flex": null,
       "flex_flow": null,
       "grid_area": null,
       "grid_auto_columns": null,
       "grid_auto_flow": null,
       "grid_auto_rows": null,
       "grid_column": null,
       "grid_gap": null,
       "grid_row": null,
       "grid_template_areas": null,
       "grid_template_columns": null,
       "grid_template_rows": null,
       "height": null,
       "justify_content": null,
       "justify_items": null,
       "left": null,
       "margin": null,
       "max_height": null,
       "max_width": null,
       "min_height": null,
       "min_width": null,
       "object_fit": null,
       "object_position": null,
       "order": null,
       "overflow": null,
       "overflow_x": null,
       "overflow_y": null,
       "padding": null,
       "right": null,
       "top": null,
       "visibility": null,
       "width": null
      }
     },
     "0f1f5698e8c143f09736581de5da66d7": {
      "model_module": "@jupyter-widgets/base",
      "model_module_version": "1.2.0",
      "model_name": "LayoutModel",
      "state": {
       "_model_module": "@jupyter-widgets/base",
       "_model_module_version": "1.2.0",
       "_model_name": "LayoutModel",
       "_view_count": null,
       "_view_module": "@jupyter-widgets/base",
       "_view_module_version": "1.2.0",
       "_view_name": "LayoutView",
       "align_content": null,
       "align_items": null,
       "align_self": null,
       "border": null,
       "bottom": null,
       "display": null,
       "flex": null,
       "flex_flow": null,
       "grid_area": null,
       "grid_auto_columns": null,
       "grid_auto_flow": null,
       "grid_auto_rows": null,
       "grid_column": null,
       "grid_gap": null,
       "grid_row": null,
       "grid_template_areas": null,
       "grid_template_columns": null,
       "grid_template_rows": null,
       "height": null,
       "justify_content": null,
       "justify_items": null,
       "left": null,
       "margin": null,
       "max_height": null,
       "max_width": null,
       "min_height": null,
       "min_width": null,
       "object_fit": null,
       "object_position": null,
       "order": null,
       "overflow": null,
       "overflow_x": null,
       "overflow_y": null,
       "padding": null,
       "right": null,
       "top": null,
       "visibility": null,
       "width": null
      }
     },
     "1115b9b3625d48a7a1c0877c4efb63c9": {
      "model_module": "@jupyter-widgets/controls",
      "model_module_version": "1.5.0",
      "model_name": "DescriptionStyleModel",
      "state": {
       "_model_module": "@jupyter-widgets/controls",
       "_model_module_version": "1.5.0",
       "_model_name": "DescriptionStyleModel",
       "_view_count": null,
       "_view_module": "@jupyter-widgets/base",
       "_view_module_version": "1.2.0",
       "_view_name": "StyleView",
       "description_width": ""
      }
     },
     "12323632640144d794b34742661cc82b": {
      "model_module": "@jupyter-widgets/controls",
      "model_module_version": "1.5.0",
      "model_name": "HTMLModel",
      "state": {
       "_dom_classes": [],
       "_model_module": "@jupyter-widgets/controls",
       "_model_module_version": "1.5.0",
       "_model_name": "HTMLModel",
       "_view_count": null,
       "_view_module": "@jupyter-widgets/controls",
       "_view_module_version": "1.5.0",
       "_view_name": "HTMLView",
       "description": "",
       "description_tooltip": null,
       "layout": "IPY_MODEL_d2e8cca6c3734db0b35c84cabe62b0d7",
       "placeholder": "​",
       "style": "IPY_MODEL_7bb5a59949a74db6a882fb2aa9295a63",
       "value": "<h5><a href=\"https://github.com/jupyter-widgets/jupyterlab-sidecar\">jupyter-widgets/jupyterlab-sidecar</a></h5>"
      }
     },
     "12f47d3adc8a47fc9e2da70999aea8e2": {
      "model_module": "@jupyter-widgets/base",
      "model_module_version": "1.2.0",
      "model_name": "LayoutModel",
      "state": {
       "_model_module": "@jupyter-widgets/base",
       "_model_module_version": "1.2.0",
       "_model_name": "LayoutModel",
       "_view_count": null,
       "_view_module": "@jupyter-widgets/base",
       "_view_module_version": "1.2.0",
       "_view_name": "LayoutView",
       "align_content": null,
       "align_items": null,
       "align_self": null,
       "border": null,
       "bottom": null,
       "display": null,
       "flex": null,
       "flex_flow": null,
       "grid_area": null,
       "grid_auto_columns": null,
       "grid_auto_flow": null,
       "grid_auto_rows": null,
       "grid_column": null,
       "grid_gap": null,
       "grid_row": null,
       "grid_template_areas": null,
       "grid_template_columns": null,
       "grid_template_rows": null,
       "height": null,
       "justify_content": null,
       "justify_items": null,
       "left": null,
       "margin": null,
       "max_height": null,
       "max_width": null,
       "min_height": null,
       "min_width": null,
       "object_fit": null,
       "object_position": null,
       "order": null,
       "overflow": null,
       "overflow_x": null,
       "overflow_y": null,
       "padding": null,
       "right": null,
       "top": null,
       "visibility": null,
       "width": null
      }
     },
     "1488ed6d6bff4873b49e2943dfebbdd5": {
      "model_module": "@jupyter-widgets/base",
      "model_module_version": "1.2.0",
      "model_name": "LayoutModel",
      "state": {
       "_model_module": "@jupyter-widgets/base",
       "_model_module_version": "1.2.0",
       "_model_name": "LayoutModel",
       "_view_count": null,
       "_view_module": "@jupyter-widgets/base",
       "_view_module_version": "1.2.0",
       "_view_name": "LayoutView",
       "align_content": null,
       "align_items": null,
       "align_self": null,
       "border": null,
       "bottom": null,
       "display": null,
       "flex": null,
       "flex_flow": null,
       "grid_area": null,
       "grid_auto_columns": null,
       "grid_auto_flow": null,
       "grid_auto_rows": null,
       "grid_column": null,
       "grid_gap": null,
       "grid_row": null,
       "grid_template_areas": null,
       "grid_template_columns": null,
       "grid_template_rows": null,
       "height": null,
       "justify_content": null,
       "justify_items": null,
       "left": null,
       "margin": null,
       "max_height": null,
       "max_width": null,
       "min_height": null,
       "min_width": null,
       "object_fit": null,
       "object_position": null,
       "order": null,
       "overflow": null,
       "overflow_x": null,
       "overflow_y": null,
       "padding": null,
       "right": null,
       "top": null,
       "visibility": null,
       "width": null
      }
     },
     "15ba3650b4534bedab3748dbca582dd2": {
      "model_module": "@jupyter-widgets/controls",
      "model_module_version": "1.5.0",
      "model_name": "HTMLModel",
      "state": {
       "_dom_classes": [],
       "_model_module": "@jupyter-widgets/controls",
       "_model_module_version": "1.5.0",
       "_model_name": "HTMLModel",
       "_view_count": null,
       "_view_module": "@jupyter-widgets/controls",
       "_view_module_version": "1.5.0",
       "_view_name": "HTMLView",
       "description": "",
       "description_tooltip": null,
       "layout": "IPY_MODEL_9cdf1ad4ae474bfeb88970551e28f4d7",
       "placeholder": "​",
       "style": "IPY_MODEL_fd281389223849e1bd6980f7b21d7c02",
       "value": "<h5><a href=\"https://github.com/jupyter-widgets/pythreejs\">jupyter-widgets/pythreejs</a></h5>\n<ul>\n<li><a href=\"https://github.com/jupyter-widgets/pythreejs/issues/327\">(#327)</a>: <em>Is changing <code>MAX_RENDERERS</code> possible?</em> by <strong><a href=\"https://github.com/renefritze\">@renefritze</a></strong></li>\n<li><a href=\"https://github.com/jupyter-widgets/pythreejs/issues/329\">(#329)</a>: <em>BlackBoxModel seems to be missing in the Javascript file, also the documentation of it's usage could be updated</em> by <strong><a href=\"https://github.com/kryptokommunist\">@kryptokommunist</a></strong></li>\n<li><a href=\"https://github.com/jupyter-widgets/pythreejs/issues/325\">(#325)</a>: <em>Can't animate Arrow length / direction</em> by <strong><a href=\"https://github.com/Boomer91\">@Boomer91</a></strong></li>\n</ul>"
      }
     },
     "17cf38478a74472a802abd2e695601d9": {
      "model_module": "@jupyter-widgets/controls",
      "model_module_version": "1.5.0",
      "model_name": "HTMLModel",
      "state": {
       "_dom_classes": [],
       "_model_module": "@jupyter-widgets/controls",
       "_model_module_version": "1.5.0",
       "_model_name": "HTMLModel",
       "_view_count": null,
       "_view_module": "@jupyter-widgets/controls",
       "_view_module_version": "1.5.0",
       "_view_name": "HTMLView",
       "description": "",
       "description_tooltip": null,
       "layout": "IPY_MODEL_785256fb94b841a18031acc9987067e3",
       "placeholder": "​",
       "style": "IPY_MODEL_b8b025d1fea34d688fce18d686f61588",
       "value": "<h4>Closed PRs for repo: <a href=\"https://github.com/jupyter-widgets/ipywidgets\">jupyter-widgets/ipywidgets</a></h4>\n<h5></h5>\n<ul>\n<li><a href=\"https://github.com/jupyter-widgets/ipywidgets/pull/2885\">(#2885)</a>: <em>Fix missing return types</em> by <strong><a href=\"https://github.com/martinRenou\">@martinRenou</a></strong> merged by <strong><a href=\"https://github.com/SylvainCorlay\">@SylvainCorlay</a></strong></li>\n<li><a href=\"https://github.com/jupyter-widgets/ipywidgets/pull/2884\">(#2884)</a>: <em>Update installation instructions</em> by <strong><a href=\"https://github.com/SylvainCorlay\">@SylvainCorlay</a></strong> merged by <strong><a href=\"https://github.com/SylvainCorlay\">@SylvainCorlay</a></strong></li>\n<li><a href=\"https://github.com/jupyter-widgets/ipywidgets/pull/2876\">(#2876)</a>: <em>Lock closed issues that have been inactive for 30 days.</em> by <strong><a href=\"https://github.com/jasongrout\">@jasongrout</a></strong> merged by <strong><a href=\"https://github.com/jasongrout\">@jasongrout</a></strong></li>\n<li><a href=\"https://github.com/jupyter-widgets/ipywidgets/pull/2757\">(#2757)</a>: <em>Borders independently: <code>border_top</code>, <code>border_right</code>, <code>border_bottom</code>, <code>border_left</code></em> by <strong><a href=\"https://github.com/zerline\">@zerline</a></strong> merged by <strong><a href=\"https://github.com/SylvainCorlay\">@SylvainCorlay</a></strong></li>\n</ul>"
      }
     },
     "1877ecdc9a154b7a90c74d8a71f265e4": {
      "model_module": "@jupyter-widgets/controls",
      "model_module_version": "1.5.0",
      "model_name": "DescriptionStyleModel",
      "state": {
       "_model_module": "@jupyter-widgets/controls",
       "_model_module_version": "1.5.0",
       "_model_name": "DescriptionStyleModel",
       "_view_count": null,
       "_view_module": "@jupyter-widgets/base",
       "_view_module_version": "1.2.0",
       "_view_name": "StyleView",
       "description_width": ""
      }
     },
     "1c30136804a9460d983330d4405a2398": {
      "model_module": "@jupyter-widgets/controls",
      "model_module_version": "1.5.0",
      "model_name": "DescriptionStyleModel",
      "state": {
       "_model_module": "@jupyter-widgets/controls",
       "_model_module_version": "1.5.0",
       "_model_name": "DescriptionStyleModel",
       "_view_count": null,
       "_view_module": "@jupyter-widgets/base",
       "_view_module_version": "1.2.0",
       "_view_name": "StyleView",
       "description_width": ""
      }
     },
     "1c835f6d07c14d63ae27c4d9866d9dcd": {
      "model_module": "@jupyter-widgets/base",
      "model_module_version": "1.2.0",
      "model_name": "LayoutModel",
      "state": {
       "_model_module": "@jupyter-widgets/base",
       "_model_module_version": "1.2.0",
       "_model_name": "LayoutModel",
       "_view_count": null,
       "_view_module": "@jupyter-widgets/base",
       "_view_module_version": "1.2.0",
       "_view_name": "LayoutView",
       "align_content": null,
       "align_items": null,
       "align_self": null,
       "border": null,
       "bottom": null,
       "display": null,
       "flex": null,
       "flex_flow": null,
       "grid_area": null,
       "grid_auto_columns": null,
       "grid_auto_flow": null,
       "grid_auto_rows": null,
       "grid_column": null,
       "grid_gap": null,
       "grid_row": null,
       "grid_template_areas": null,
       "grid_template_columns": null,
       "grid_template_rows": null,
       "height": null,
       "justify_content": null,
       "justify_items": null,
       "left": null,
       "margin": null,
       "max_height": null,
       "max_width": null,
       "min_height": null,
       "min_width": null,
       "object_fit": null,
       "object_position": null,
       "order": null,
       "overflow": null,
       "overflow_x": null,
       "overflow_y": null,
       "padding": null,
       "right": null,
       "top": null,
       "visibility": null,
       "width": null
      }
     },
     "2087b5f368744f289611c5bdd95a58a2": {
      "model_module": "@jupyter-widgets/controls",
      "model_module_version": "1.5.0",
      "model_name": "DescriptionStyleModel",
      "state": {
       "_model_module": "@jupyter-widgets/controls",
       "_model_module_version": "1.5.0",
       "_model_name": "DescriptionStyleModel",
       "_view_count": null,
       "_view_module": "@jupyter-widgets/base",
       "_view_module_version": "1.2.0",
       "_view_name": "StyleView",
       "description_width": ""
      }
     },
     "284e09a0ba1f4ec0ba5e5667958903a9": {
      "model_module": "@jupyter-widgets/base",
      "model_module_version": "1.2.0",
      "model_name": "LayoutModel",
      "state": {
       "_model_module": "@jupyter-widgets/base",
       "_model_module_version": "1.2.0",
       "_model_name": "LayoutModel",
       "_view_count": null,
       "_view_module": "@jupyter-widgets/base",
       "_view_module_version": "1.2.0",
       "_view_name": "LayoutView",
       "align_content": null,
       "align_items": null,
       "align_self": null,
       "border": null,
       "bottom": null,
       "display": null,
       "flex": null,
       "flex_flow": null,
       "grid_area": null,
       "grid_auto_columns": null,
       "grid_auto_flow": null,
       "grid_auto_rows": null,
       "grid_column": null,
       "grid_gap": null,
       "grid_row": null,
       "grid_template_areas": null,
       "grid_template_columns": null,
       "grid_template_rows": null,
       "height": null,
       "justify_content": null,
       "justify_items": null,
       "left": null,
       "margin": null,
       "max_height": null,
       "max_width": null,
       "min_height": null,
       "min_width": null,
       "object_fit": null,
       "object_position": null,
       "order": null,
       "overflow": null,
       "overflow_x": null,
       "overflow_y": null,
       "padding": null,
       "right": null,
       "top": null,
       "visibility": null,
       "width": null
      }
     },
     "2dd3b874acf642aa843e30ec96703c6f": {
      "model_module": "@jupyter-widgets/controls",
      "model_module_version": "1.5.0",
      "model_name": "IntProgressModel",
      "state": {
       "_dom_classes": [],
       "_model_module": "@jupyter-widgets/controls",
       "_model_module_version": "1.5.0",
       "_model_name": "IntProgressModel",
       "_view_count": null,
       "_view_module": "@jupyter-widgets/controls",
       "_view_module_version": "1.5.0",
       "_view_name": "ProgressView",
       "bar_style": "success",
       "description": "Downloading:",
       "description_tooltip": null,
       "layout": "IPY_MODEL_350963c6d98b4fc189ad894d5fa134e9",
       "max": 3,
       "min": 0,
       "orientation": "horizontal",
       "style": "IPY_MODEL_83bea34cd8b44e94bd3d498c31c51dbe",
       "value": 3
      }
     },
     "30880ce3c803474fa44b62dfdb2e9485": {
      "model_module": "@jupyter-widgets/controls",
      "model_module_version": "1.5.0",
      "model_name": "DescriptionStyleModel",
      "state": {
       "_model_module": "@jupyter-widgets/controls",
       "_model_module_version": "1.5.0",
       "_model_name": "DescriptionStyleModel",
       "_view_count": null,
       "_view_module": "@jupyter-widgets/base",
       "_view_module_version": "1.2.0",
       "_view_name": "StyleView",
       "description_width": ""
      }
     },
     "350963c6d98b4fc189ad894d5fa134e9": {
      "model_module": "@jupyter-widgets/base",
      "model_module_version": "1.2.0",
      "model_name": "LayoutModel",
      "state": {
       "_model_module": "@jupyter-widgets/base",
       "_model_module_version": "1.2.0",
       "_model_name": "LayoutModel",
       "_view_count": null,
       "_view_module": "@jupyter-widgets/base",
       "_view_module_version": "1.2.0",
       "_view_name": "LayoutView",
       "align_content": null,
       "align_items": null,
       "align_self": null,
       "border": null,
       "bottom": null,
       "display": null,
       "flex": null,
       "flex_flow": null,
       "grid_area": null,
       "grid_auto_columns": null,
       "grid_auto_flow": null,
       "grid_auto_rows": null,
       "grid_column": null,
       "grid_gap": null,
       "grid_row": null,
       "grid_template_areas": null,
       "grid_template_columns": null,
       "grid_template_rows": null,
       "height": null,
       "justify_content": null,
       "justify_items": null,
       "left": null,
       "margin": null,
       "max_height": null,
       "max_width": null,
       "min_height": null,
       "min_width": null,
       "object_fit": null,
       "object_position": null,
       "order": null,
       "overflow": null,
       "overflow_x": null,
       "overflow_y": null,
       "padding": null,
       "right": null,
       "top": null,
       "visibility": null,
       "width": null
      }
     },
     "405a3292a25545b1a4019070048925b7": {
      "model_module": "@jupyter-widgets/controls",
      "model_module_version": "1.5.0",
      "model_name": "HTMLModel",
      "state": {
       "_dom_classes": [],
       "_model_module": "@jupyter-widgets/controls",
       "_model_module_version": "1.5.0",
       "_model_name": "HTMLModel",
       "_view_count": null,
       "_view_module": "@jupyter-widgets/controls",
       "_view_module_version": "1.5.0",
       "_view_name": "HTMLView",
       "description": "",
       "description_tooltip": null,
       "layout": "IPY_MODEL_ec45a86849344cee97f2247fdb6fe57a",
       "placeholder": "​",
       "style": "IPY_MODEL_2087b5f368744f289611c5bdd95a58a2",
       "value": "<h4>Closed PRs for repo: <a href=\"https://github.com/jupyter-widgets/widget-cookiecutter\">jupyter-widgets/widget-cookiecutter</a></h4>\n<h5></h5>\n<ul>\n<li><a href=\"https://github.com/jupyter-widgets/widget-cookiecutter/pull/65\">(#65)</a>: <em>Improve setup.py file</em> by <strong><a href=\"https://github.com/martinRenou\">@martinRenou</a></strong> merged by <strong><a href=\"https://github.com/martinRenou\">@martinRenou</a></strong></li>\n<li><a href=\"https://github.com/jupyter-widgets/widget-cookiecutter/pull/64\">(#64)</a>: <em>Update README.md</em> by <strong><a href=\"https://github.com/saraedum\">@saraedum</a></strong> merged by <strong><a href=\"https://github.com/martinRenou\">@martinRenou</a></strong></li>\n<li><a href=\"https://github.com/jupyter-widgets/widget-cookiecutter/pull/59\">(#59)</a>: <em>Add support for JupyterLab 2</em> by <strong><a href=\"https://github.com/martinRenou\">@martinRenou</a></strong> merged by <strong><a href=\"https://github.com/martinRenou\">@martinRenou</a></strong></li>\n</ul>"
      }
     },
     "44abec6073cf4eada0be98c1b041e754": {
      "model_module": "@jupyter-widgets/controls",
      "model_module_version": "1.5.0",
      "model_name": "DescriptionStyleModel",
      "state": {
       "_model_module": "@jupyter-widgets/controls",
       "_model_module_version": "1.5.0",
       "_model_name": "DescriptionStyleModel",
       "_view_count": null,
       "_view_module": "@jupyter-widgets/base",
       "_view_module_version": "1.2.0",
       "_view_name": "StyleView",
       "description_width": ""
      }
     },
     "4611982ba44a4fde836524f4b31d7a43": {
      "model_module": "@jupyter-widgets/base",
      "model_module_version": "1.2.0",
      "model_name": "LayoutModel",
      "state": {
       "_model_module": "@jupyter-widgets/base",
       "_model_module_version": "1.2.0",
       "_model_name": "LayoutModel",
       "_view_count": null,
       "_view_module": "@jupyter-widgets/base",
       "_view_module_version": "1.2.0",
       "_view_name": "LayoutView",
       "align_content": null,
       "align_items": null,
       "align_self": null,
       "border": null,
       "bottom": null,
       "display": null,
       "flex": null,
       "flex_flow": null,
       "grid_area": null,
       "grid_auto_columns": null,
       "grid_auto_flow": null,
       "grid_auto_rows": null,
       "grid_column": null,
       "grid_gap": null,
       "grid_row": null,
       "grid_template_areas": null,
       "grid_template_columns": null,
       "grid_template_rows": null,
       "height": null,
       "justify_content": null,
       "justify_items": null,
       "left": null,
       "margin": null,
       "max_height": null,
       "max_width": null,
       "min_height": null,
       "min_width": null,
       "object_fit": null,
       "object_position": null,
       "order": null,
       "overflow": null,
       "overflow_x": null,
       "overflow_y": null,
       "padding": null,
       "right": null,
       "top": null,
       "visibility": null,
       "width": null
      }
     },
     "492b7a1a12644cd28d3f2cfa050fe5a1": {
      "model_module": "@jupyter-widgets/controls",
      "model_module_version": "1.5.0",
      "model_name": "HTMLModel",
      "state": {
       "_dom_classes": [],
       "_model_module": "@jupyter-widgets/controls",
       "_model_module_version": "1.5.0",
       "_model_name": "HTMLModel",
       "_view_count": null,
       "_view_module": "@jupyter-widgets/controls",
       "_view_module_version": "1.5.0",
       "_view_name": "HTMLView",
       "description": "",
       "description_tooltip": null,
       "layout": "IPY_MODEL_60daf9cbc8254cad86fb5cd00e0dc577",
       "placeholder": "​",
       "style": "IPY_MODEL_766cc619b1b24c6aa9e9e31f7b2302ff",
       "value": "<h4>Closed PRs for repo: <a href=\"https://github.com/jupyter-widgets/traittypes\">jupyter-widgets/traittypes</a></h4>\n<h5></h5>\n<ul>\n<li><a href=\"https://github.com/jupyter-widgets/traittypes/pull/42\">(#42)</a>: <em>Remove _bad_values which is not validated and make traitlets fail</em> by <strong><a href=\"https://github.com/Carreau\">@Carreau</a></strong> merged by <strong><a href=\"https://github.com/Carreau\">@Carreau</a></strong></li>\n</ul>"
      }
     },
     "4cecd605c52d49669a5da63da02a1c49": {
      "model_module": "@jupyter-widgets/base",
      "model_module_version": "1.2.0",
      "model_name": "LayoutModel",
      "state": {
       "_model_module": "@jupyter-widgets/base",
       "_model_module_version": "1.2.0",
       "_model_name": "LayoutModel",
       "_view_count": null,
       "_view_module": "@jupyter-widgets/base",
       "_view_module_version": "1.2.0",
       "_view_name": "LayoutView",
       "align_content": null,
       "align_items": null,
       "align_self": null,
       "border": null,
       "bottom": null,
       "display": null,
       "flex": null,
       "flex_flow": null,
       "grid_area": null,
       "grid_auto_columns": null,
       "grid_auto_flow": null,
       "grid_auto_rows": null,
       "grid_column": null,
       "grid_gap": null,
       "grid_row": null,
       "grid_template_areas": null,
       "grid_template_columns": null,
       "grid_template_rows": null,
       "height": null,
       "justify_content": null,
       "justify_items": null,
       "left": null,
       "margin": null,
       "max_height": null,
       "max_width": null,
       "min_height": null,
       "min_width": null,
       "object_fit": null,
       "object_position": null,
       "order": null,
       "overflow": null,
       "overflow_x": null,
       "overflow_y": null,
       "padding": null,
       "right": null,
       "top": null,
       "visibility": null,
       "width": null
      }
     },
     "4d0241a2650d4113b9c7f22fce2f0d95": {
      "model_module": "@jupyter-widgets/base",
      "model_module_version": "1.2.0",
      "model_name": "LayoutModel",
      "state": {
       "_model_module": "@jupyter-widgets/base",
       "_model_module_version": "1.2.0",
       "_model_name": "LayoutModel",
       "_view_count": null,
       "_view_module": "@jupyter-widgets/base",
       "_view_module_version": "1.2.0",
       "_view_name": "LayoutView",
       "align_content": null,
       "align_items": null,
       "align_self": null,
       "border": null,
       "bottom": null,
       "display": null,
       "flex": null,
       "flex_flow": null,
       "grid_area": null,
       "grid_auto_columns": null,
       "grid_auto_flow": null,
       "grid_auto_rows": null,
       "grid_column": null,
       "grid_gap": null,
       "grid_row": null,
       "grid_template_areas": null,
       "grid_template_columns": null,
       "grid_template_rows": null,
       "height": null,
       "justify_content": null,
       "justify_items": null,
       "left": null,
       "margin": null,
       "max_height": null,
       "max_width": null,
       "min_height": null,
       "min_width": null,
       "object_fit": null,
       "object_position": null,
       "order": null,
       "overflow": null,
       "overflow_x": null,
       "overflow_y": null,
       "padding": null,
       "right": null,
       "top": null,
       "visibility": null,
       "width": null
      }
     },
     "4d93a285c6f14e19ade3df3c28f3c545": {
      "model_module": "@jupyter-widgets/controls",
      "model_module_version": "1.5.0",
      "model_name": "HTMLModel",
      "state": {
       "_dom_classes": [],
       "_model_module": "@jupyter-widgets/controls",
       "_model_module_version": "1.5.0",
       "_model_name": "HTMLModel",
       "_view_count": null,
       "_view_module": "@jupyter-widgets/controls",
       "_view_module_version": "1.5.0",
       "_view_name": "HTMLView",
       "description": "",
       "description_tooltip": null,
       "layout": "IPY_MODEL_284e09a0ba1f4ec0ba5e5667958903a9",
       "placeholder": "​",
       "style": "IPY_MODEL_e3af9c60df524fd18a1d892dadd5635c",
       "value": "<h5><a href=\"https://github.com/jupyter-widgets/ipywidgets\">jupyter-widgets/ipywidgets</a></h5>\n<ul>\n<li><a href=\"https://github.com/jupyter-widgets/ipywidgets/issues/2893\">(#2893)</a>: <em>Widgets in [Box, HBox or VBox] displayed with a grey background</em> by <strong><a href=\"https://github.com/stefanmeili\">@stefanmeili</a></strong></li>\n<li><a href=\"https://github.com/jupyter-widgets/ipywidgets/issues/2899\">(#2899)</a>: <em>'Error displaying widget' on jupyterlab</em> by <strong><a href=\"https://github.com/krlng\">@krlng</a></strong></li>\n<li><a href=\"https://github.com/jupyter-widgets/ipywidgets/issues/2917\">(#2917)</a>: <em>Change Tab content when button on_click event</em> by <strong><a href=\"https://github.com/jifcon\">@jifcon</a></strong></li>\n<li><a href=\"https://github.com/jupyter-widgets/ipywidgets/issues/2916\">(#2916)</a>: <em>Debugging Traitlets and Backbone.js?</em> by <strong><a href=\"https://github.com/cabreraalex\">@cabreraalex</a></strong></li>\n<li><a href=\"https://github.com/jupyter-widgets/ipywidgets/issues/2902\">(#2902)</a>: <em>Add string formatting to SelectionSlider</em> by <strong><a href=\"https://github.com/ianhi\">@ianhi</a></strong></li>\n</ul>"
      }
     },
     "4e83e8f4623c4677884d90ca14fc3a25": {
      "model_module": "@jupyter-widgets/base",
      "model_module_version": "1.2.0",
      "model_name": "LayoutModel",
      "state": {
       "_model_module": "@jupyter-widgets/base",
       "_model_module_version": "1.2.0",
       "_model_name": "LayoutModel",
       "_view_count": null,
       "_view_module": "@jupyter-widgets/base",
       "_view_module_version": "1.2.0",
       "_view_name": "LayoutView",
       "align_content": null,
       "align_items": null,
       "align_self": null,
       "border": null,
       "bottom": null,
       "display": null,
       "flex": null,
       "flex_flow": null,
       "grid_area": null,
       "grid_auto_columns": null,
       "grid_auto_flow": null,
       "grid_auto_rows": null,
       "grid_column": null,
       "grid_gap": null,
       "grid_row": null,
       "grid_template_areas": null,
       "grid_template_columns": null,
       "grid_template_rows": null,
       "height": null,
       "justify_content": null,
       "justify_items": null,
       "left": null,
       "margin": null,
       "max_height": null,
       "max_width": null,
       "min_height": null,
       "min_width": null,
       "object_fit": null,
       "object_position": null,
       "order": null,
       "overflow": null,
       "overflow_x": null,
       "overflow_y": null,
       "padding": null,
       "right": null,
       "top": null,
       "visibility": null,
       "width": null
      }
     },
     "4f9034ffdba74fad92345a5efbdb7066": {
      "model_module": "@jupyter-widgets/controls",
      "model_module_version": "1.5.0",
      "model_name": "DescriptionStyleModel",
      "state": {
       "_model_module": "@jupyter-widgets/controls",
       "_model_module_version": "1.5.0",
       "_model_name": "DescriptionStyleModel",
       "_view_count": null,
       "_view_module": "@jupyter-widgets/base",
       "_view_module_version": "1.2.0",
       "_view_name": "StyleView",
       "description_width": ""
      }
     },
     "50487a50dd804dc8b1e285731f19b173": {
      "model_module": "@jupyter-widgets/controls",
      "model_module_version": "1.5.0",
      "model_name": "DescriptionStyleModel",
      "state": {
       "_model_module": "@jupyter-widgets/controls",
       "_model_module_version": "1.5.0",
       "_model_name": "DescriptionStyleModel",
       "_view_count": null,
       "_view_module": "@jupyter-widgets/base",
       "_view_module_version": "1.2.0",
       "_view_name": "StyleView",
       "description_width": ""
      }
     },
     "55be62f4f06849d6b7508e2512980d00": {
      "model_module": "@jupyter-widgets/controls",
      "model_module_version": "1.5.0",
      "model_name": "TabModel",
      "state": {
       "_dom_classes": [],
       "_model_module": "@jupyter-widgets/controls",
       "_model_module_version": "1.5.0",
       "_model_name": "TabModel",
       "_titles": {
        "0": "ipyleaflet",
        "1": "ipywidgets",
        "2": "traittypes",
        "3": "tutorial",
        "4": "widget-cookiecutter",
        "5": "widget-ts-cookiecutter"
       },
       "_view_count": null,
       "_view_module": "@jupyter-widgets/controls",
       "_view_module_version": "1.5.0",
       "_view_name": "TabView",
       "box_style": "",
       "children": [
        "IPY_MODEL_a39859be600442d589e8727c0de4fcd8",
        "IPY_MODEL_17cf38478a74472a802abd2e695601d9",
        "IPY_MODEL_492b7a1a12644cd28d3f2cfa050fe5a1",
        "IPY_MODEL_d12ef23d155c4d0c865bc100a7731a62",
        "IPY_MODEL_405a3292a25545b1a4019070048925b7",
        "IPY_MODEL_ee3f65ae54004780a364c3cbc3333501"
       ],
       "layout": "IPY_MODEL_1488ed6d6bff4873b49e2943dfebbdd5",
       "selected_index": 0
      }
     },
     "572f8aa052f942ce88204db614438440": {
      "model_module": "@jupyter-widgets/controls",
      "model_module_version": "1.5.0",
      "model_name": "HTMLModel",
      "state": {
       "_dom_classes": [],
       "_model_module": "@jupyter-widgets/controls",
       "_model_module_version": "1.5.0",
       "_model_name": "HTMLModel",
       "_view_count": null,
       "_view_module": "@jupyter-widgets/controls",
       "_view_module_version": "1.5.0",
       "_view_name": "HTMLView",
       "description": "",
       "description_tooltip": null,
       "layout": "IPY_MODEL_12f47d3adc8a47fc9e2da70999aea8e2",
       "placeholder": "​",
       "style": "IPY_MODEL_1877ecdc9a154b7a90c74d8a71f265e4",
       "value": "<h5><a href=\"https://github.com/jupyter-widgets/tutorial\">jupyter-widgets/tutorial</a></h5>\n<ul>\n<li><a href=\"https://github.com/jupyter-widgets/tutorial/issues/110\">(#110)</a>: <em>problem installing jupyter widgets</em> by <strong><a href=\"https://github.com/matthewspink\">@matthewspink</a></strong></li>\n<li><a href=\"https://github.com/jupyter-widgets/tutorial/issues/68\">(#68)</a>: <em>Error launching jupyter lab after pip install</em> by <strong><a href=\"https://github.com/mwcraig\">@mwcraig</a></strong></li>\n</ul>"
      }
     },
     "58d0796ef9f34a5f825ca34835e51702": {
      "model_module": "@jupyter-widgets/controls",
      "model_module_version": "1.5.0",
      "model_name": "HTMLModel",
      "state": {
       "_dom_classes": [],
       "_model_module": "@jupyter-widgets/controls",
       "_model_module_version": "1.5.0",
       "_model_name": "HTMLModel",
       "_view_count": null,
       "_view_module": "@jupyter-widgets/controls",
       "_view_module_version": "1.5.0",
       "_view_name": "HTMLView",
       "description": "",
       "description_tooltip": null,
       "layout": "IPY_MODEL_cb7288805f234cdab53048e43f73a1be",
       "placeholder": "​",
       "style": "IPY_MODEL_597228a0bcb94d90a8eea4d6a165b859",
       "value": "<h5><a href=\"https://github.com/jupyter-widgets/widget-ts-cookiecutter\">jupyter-widgets/widget-ts-cookiecutter</a></h5>\n<ul>\n<li><a href=\"https://github.com/jupyter-widgets/widget-ts-cookiecutter/issues/73\">(#73)</a>: <em>README clarification for development</em> by <strong><a href=\"https://github.com/cabreraalex\">@cabreraalex</a></strong></li>\n<li><a href=\"https://github.com/jupyter-widgets/widget-ts-cookiecutter/issues/68\">(#68)</a>: <em>plugin does not activate in jupyterlab 2</em> by <strong><a href=\"https://github.com/ianhi\">@ianhi</a></strong></li>\n</ul>"
      }
     },
     "590314b992c343799454639977658d25": {
      "model_module": "@jupyter-widgets/base",
      "model_module_version": "1.2.0",
      "model_name": "LayoutModel",
      "state": {
       "_model_module": "@jupyter-widgets/base",
       "_model_module_version": "1.2.0",
       "_model_name": "LayoutModel",
       "_view_count": null,
       "_view_module": "@jupyter-widgets/base",
       "_view_module_version": "1.2.0",
       "_view_name": "LayoutView",
       "align_content": null,
       "align_items": null,
       "align_self": null,
       "border": null,
       "bottom": null,
       "display": null,
       "flex": null,
       "flex_flow": null,
       "grid_area": null,
       "grid_auto_columns": null,
       "grid_auto_flow": null,
       "grid_auto_rows": null,
       "grid_column": null,
       "grid_gap": null,
       "grid_row": null,
       "grid_template_areas": null,
       "grid_template_columns": null,
       "grid_template_rows": null,
       "height": null,
       "justify_content": null,
       "justify_items": null,
       "left": null,
       "margin": null,
       "max_height": null,
       "max_width": null,
       "min_height": null,
       "min_width": null,
       "object_fit": null,
       "object_position": null,
       "order": null,
       "overflow": null,
       "overflow_x": null,
       "overflow_y": null,
       "padding": null,
       "right": null,
       "top": null,
       "visibility": null,
       "width": null
      }
     },
     "597228a0bcb94d90a8eea4d6a165b859": {
      "model_module": "@jupyter-widgets/controls",
      "model_module_version": "1.5.0",
      "model_name": "DescriptionStyleModel",
      "state": {
       "_model_module": "@jupyter-widgets/controls",
       "_model_module_version": "1.5.0",
       "_model_name": "DescriptionStyleModel",
       "_view_count": null,
       "_view_module": "@jupyter-widgets/base",
       "_view_module_version": "1.2.0",
       "_view_name": "StyleView",
       "description_width": ""
      }
     },
     "60daf9cbc8254cad86fb5cd00e0dc577": {
      "model_module": "@jupyter-widgets/base",
      "model_module_version": "1.2.0",
      "model_name": "LayoutModel",
      "state": {
       "_model_module": "@jupyter-widgets/base",
       "_model_module_version": "1.2.0",
       "_model_name": "LayoutModel",
       "_view_count": null,
       "_view_module": "@jupyter-widgets/base",
       "_view_module_version": "1.2.0",
       "_view_name": "LayoutView",
       "align_content": null,
       "align_items": null,
       "align_self": null,
       "border": null,
       "bottom": null,
       "display": null,
       "flex": null,
       "flex_flow": null,
       "grid_area": null,
       "grid_auto_columns": null,
       "grid_auto_flow": null,
       "grid_auto_rows": null,
       "grid_column": null,
       "grid_gap": null,
       "grid_row": null,
       "grid_template_areas": null,
       "grid_template_columns": null,
       "grid_template_rows": null,
       "height": null,
       "justify_content": null,
       "justify_items": null,
       "left": null,
       "margin": null,
       "max_height": null,
       "max_width": null,
       "min_height": null,
       "min_width": null,
       "object_fit": null,
       "object_position": null,
       "order": null,
       "overflow": null,
       "overflow_x": null,
       "overflow_y": null,
       "padding": null,
       "right": null,
       "top": null,
       "visibility": null,
       "width": null
      }
     },
     "63e4af01ae30463cbe2b6d4ff137433d": {
      "model_module": "@jupyter-widgets/controls",
      "model_module_version": "1.5.0",
      "model_name": "HTMLModel",
      "state": {
       "_dom_classes": [],
       "_model_module": "@jupyter-widgets/controls",
       "_model_module_version": "1.5.0",
       "_model_name": "HTMLModel",
       "_view_count": null,
       "_view_module": "@jupyter-widgets/controls",
       "_view_module_version": "1.5.0",
       "_view_name": "HTMLView",
       "description": "",
       "description_tooltip": null,
       "layout": "IPY_MODEL_4cecd605c52d49669a5da63da02a1c49",
       "placeholder": "​",
       "style": "IPY_MODEL_faf349a2bc8d4fcda1c330d3a0bda6ee",
       "value": "<h5><a href=\"https://github.com/jupyter-widgets/widget-cookiecutter\">jupyter-widgets/widget-cookiecutter</a></h5>\n<ul>\n<li><a href=\"https://github.com/jupyter-widgets/widget-cookiecutter/issues/62\">(#62)</a>: <em>Jupyter widget Error on Jupyter Lab</em> by <strong><a href=\"https://github.com/sackh\">@sackh</a></strong></li>\n<li><a href=\"https://github.com/jupyter-widgets/widget-cookiecutter/issues/61\">(#61)</a>: <em>Newly created plugin fails to load.</em> by <strong><a href=\"https://github.com/rvlander\">@rvlander</a></strong></li>\n<li><a href=\"https://github.com/jupyter-widgets/widget-cookiecutter/issues/63\">(#63)</a>: <em>Does it Hot-Reload?</em> by <strong><a href=\"https://github.com/saraedum\">@saraedum</a></strong></li>\n<li><a href=\"https://github.com/jupyter-widgets/widget-cookiecutter/issues/60\">(#60)</a>: <em>widget renders only after restart of the kernel</em> by <strong><a href=\"https://github.com/Nic30\">@Nic30</a></strong></li>\n</ul>"
      }
     },
     "65985b3a89384744a8b14f95a3ce1edd": {
      "model_module": "@jupyter-widgets/base",
      "model_module_version": "1.2.0",
      "model_name": "LayoutModel",
      "state": {
       "_model_module": "@jupyter-widgets/base",
       "_model_module_version": "1.2.0",
       "_model_name": "LayoutModel",
       "_view_count": null,
       "_view_module": "@jupyter-widgets/base",
       "_view_module_version": "1.2.0",
       "_view_name": "LayoutView",
       "align_content": null,
       "align_items": null,
       "align_self": null,
       "border": null,
       "bottom": null,
       "display": null,
       "flex": null,
       "flex_flow": null,
       "grid_area": null,
       "grid_auto_columns": null,
       "grid_auto_flow": null,
       "grid_auto_rows": null,
       "grid_column": null,
       "grid_gap": null,
       "grid_row": null,
       "grid_template_areas": null,
       "grid_template_columns": null,
       "grid_template_rows": null,
       "height": null,
       "justify_content": null,
       "justify_items": null,
       "left": null,
       "margin": null,
       "max_height": null,
       "max_width": null,
       "min_height": null,
       "min_width": null,
       "object_fit": null,
       "object_position": null,
       "order": null,
       "overflow": null,
       "overflow_x": null,
       "overflow_y": null,
       "padding": null,
       "right": null,
       "top": null,
       "visibility": null,
       "width": null
      }
     },
     "6a85099035cd400d81ccea94af3dfe56": {
      "model_module": "@jupyter-widgets/controls",
      "model_module_version": "1.5.0",
      "model_name": "HTMLModel",
      "state": {
       "_dom_classes": [],
       "_model_module": "@jupyter-widgets/controls",
       "_model_module_version": "1.5.0",
       "_model_name": "HTMLModel",
       "_view_count": null,
       "_view_module": "@jupyter-widgets/controls",
       "_view_module_version": "1.5.0",
       "_view_name": "HTMLView",
       "description": "",
       "description_tooltip": null,
       "layout": "IPY_MODEL_881bbf924eeb4ff99507cda0c5bec1f1",
       "placeholder": "​",
       "style": "IPY_MODEL_ea11ebdbb0e44dc48242cb06688ce695",
       "value": "<h5><a href=\"https://github.com/jupyter-widgets/pythreejs\">jupyter-widgets/pythreejs</a></h5>\n<ul>\n<li><a href=\"https://github.com/jupyter-widgets/pythreejs/issues/327\">(#327)</a>: <em>Is changing <code>MAX_RENDERERS</code> possible?</em> by <strong><a href=\"https://github.com/renefritze\">@renefritze</a></strong></li>\n<li><a href=\"https://github.com/jupyter-widgets/pythreejs/issues/329\">(#329)</a>: <em>BlackBoxModel seems to be missing in the Javascript file, also the documentation of it's usage could be updated</em> by <strong><a href=\"https://github.com/kryptokommunist\">@kryptokommunist</a></strong></li>\n<li><a href=\"https://github.com/jupyter-widgets/pythreejs/issues/325\">(#325)</a>: <em>Can't animate Arrow length / direction</em> by <strong><a href=\"https://github.com/Boomer91\">@Boomer91</a></strong></li>\n</ul>"
      }
     },
     "6b5107d758b64b36b77112728b2832ae": {
      "model_module": "@jupyter-widgets/controls",
      "model_module_version": "1.5.0",
      "model_name": "HTMLModel",
      "state": {
       "_dom_classes": [],
       "_model_module": "@jupyter-widgets/controls",
       "_model_module_version": "1.5.0",
       "_model_name": "HTMLModel",
       "_view_count": null,
       "_view_module": "@jupyter-widgets/controls",
       "_view_module_version": "1.5.0",
       "_view_name": "HTMLView",
       "description": "",
       "description_tooltip": null,
       "layout": "IPY_MODEL_e81b693178234f3f85332d4a9403b81c",
       "placeholder": "​",
       "style": "IPY_MODEL_d82fe7ba47cd4664894802c992caf138",
       "value": "<h5><a href=\"https://github.com/jupyter-widgets/jupyterlab-sidecar\">jupyter-widgets/jupyterlab-sidecar</a></h5>"
      }
     },
     "76494b5e6eaf42959589ec8b321f1ca2": {
      "model_module": "@jupyter-widgets/controls",
      "model_module_version": "1.5.0",
      "model_name": "HTMLModel",
      "state": {
       "_dom_classes": [],
       "_model_module": "@jupyter-widgets/controls",
       "_model_module_version": "1.5.0",
       "_model_name": "HTMLModel",
       "_view_count": null,
       "_view_module": "@jupyter-widgets/controls",
       "_view_module_version": "1.5.0",
       "_view_name": "HTMLView",
       "description": "",
       "description_tooltip": null,
       "layout": "IPY_MODEL_039f1b8c3bbd43fbb7328541397fc2b1",
       "placeholder": "​",
       "style": "IPY_MODEL_44abec6073cf4eada0be98c1b041e754",
       "value": "<h5><a href=\"https://github.com/jupyter-widgets/ipyleaflet\">jupyter-widgets/ipyleaflet</a></h5>\n<ul>\n<li><a href=\"https://github.com/jupyter-widgets/ipyleaflet/issues/635\">(#635)</a>: <em>SplitMap Control with transparent layers</em> by <strong><a href=\"https://github.com/giswqs\">@giswqs</a></strong></li>\n<li><a href=\"https://github.com/jupyter-widgets/ipyleaflet/issues/638\">(#638)</a>: <em>branca dependency issue</em> by <strong><a href=\"https://github.com/giswqs\">@giswqs</a></strong></li>\n</ul>"
      }
     },
     "766cc619b1b24c6aa9e9e31f7b2302ff": {
      "model_module": "@jupyter-widgets/controls",
      "model_module_version": "1.5.0",
      "model_name": "DescriptionStyleModel",
      "state": {
       "_model_module": "@jupyter-widgets/controls",
       "_model_module_version": "1.5.0",
       "_model_name": "DescriptionStyleModel",
       "_view_count": null,
       "_view_module": "@jupyter-widgets/base",
       "_view_module_version": "1.2.0",
       "_view_name": "StyleView",
       "description_width": ""
      }
     },
     "785256fb94b841a18031acc9987067e3": {
      "model_module": "@jupyter-widgets/base",
      "model_module_version": "1.2.0",
      "model_name": "LayoutModel",
      "state": {
       "_model_module": "@jupyter-widgets/base",
       "_model_module_version": "1.2.0",
       "_model_name": "LayoutModel",
       "_view_count": null,
       "_view_module": "@jupyter-widgets/base",
       "_view_module_version": "1.2.0",
       "_view_name": "LayoutView",
       "align_content": null,
       "align_items": null,
       "align_self": null,
       "border": null,
       "bottom": null,
       "display": null,
       "flex": null,
       "flex_flow": null,
       "grid_area": null,
       "grid_auto_columns": null,
       "grid_auto_flow": null,
       "grid_auto_rows": null,
       "grid_column": null,
       "grid_gap": null,
       "grid_row": null,
       "grid_template_areas": null,
       "grid_template_columns": null,
       "grid_template_rows": null,
       "height": null,
       "justify_content": null,
       "justify_items": null,
       "left": null,
       "margin": null,
       "max_height": null,
       "max_width": null,
       "min_height": null,
       "min_width": null,
       "object_fit": null,
       "object_position": null,
       "order": null,
       "overflow": null,
       "overflow_x": null,
       "overflow_y": null,
       "padding": null,
       "right": null,
       "top": null,
       "visibility": null,
       "width": null
      }
     },
     "7bb5a59949a74db6a882fb2aa9295a63": {
      "model_module": "@jupyter-widgets/controls",
      "model_module_version": "1.5.0",
      "model_name": "DescriptionStyleModel",
      "state": {
       "_model_module": "@jupyter-widgets/controls",
       "_model_module_version": "1.5.0",
       "_model_name": "DescriptionStyleModel",
       "_view_count": null,
       "_view_module": "@jupyter-widgets/base",
       "_view_module_version": "1.2.0",
       "_view_name": "StyleView",
       "description_width": ""
      }
     },
     "7e5b5c9592094c23a6e68d4b3fdabac7": {
      "model_module": "@jupyter-widgets/controls",
      "model_module_version": "1.5.0",
      "model_name": "HTMLModel",
      "state": {
       "_dom_classes": [],
       "_model_module": "@jupyter-widgets/controls",
       "_model_module_version": "1.5.0",
       "_model_name": "HTMLModel",
       "_view_count": null,
       "_view_module": "@jupyter-widgets/controls",
       "_view_module_version": "1.5.0",
       "_view_name": "HTMLView",
       "description": "",
       "description_tooltip": null,
       "layout": "IPY_MODEL_95aa5417226d446484dbd3ec6e54c802",
       "placeholder": "​",
       "style": "IPY_MODEL_d8b5c818384c46a1b374ecd39f9baed5",
       "value": "<h5><a href=\"https://github.com/jupyter-widgets/widget-ts-cookiecutter\">jupyter-widgets/widget-ts-cookiecutter</a></h5>\n<ul>\n<li><a href=\"https://github.com/jupyter-widgets/widget-ts-cookiecutter/issues/73\">(#73)</a>: <em>README clarification for development</em> by <strong><a href=\"https://github.com/cabreraalex\">@cabreraalex</a></strong></li>\n<li><a href=\"https://github.com/jupyter-widgets/widget-ts-cookiecutter/issues/68\">(#68)</a>: <em>plugin does not activate in jupyterlab 2</em> by <strong><a href=\"https://github.com/ianhi\">@ianhi</a></strong></li>\n</ul>"
      }
     },
     "83bea34cd8b44e94bd3d498c31c51dbe": {
      "model_module": "@jupyter-widgets/controls",
      "model_module_version": "1.5.0",
      "model_name": "ProgressStyleModel",
      "state": {
       "_model_module": "@jupyter-widgets/controls",
       "_model_module_version": "1.5.0",
       "_model_name": "ProgressStyleModel",
       "_view_count": null,
       "_view_module": "@jupyter-widgets/base",
       "_view_module_version": "1.2.0",
       "_view_name": "StyleView",
       "bar_color": null,
       "description_width": ""
      }
     },
     "869a319565554270be01ef28cde62ad7": {
      "model_module": "@jupyter-widgets/controls",
      "model_module_version": "1.5.0",
      "model_name": "HTMLModel",
      "state": {
       "_dom_classes": [],
       "_model_module": "@jupyter-widgets/controls",
       "_model_module_version": "1.5.0",
       "_model_name": "HTMLModel",
       "_view_count": null,
       "_view_module": "@jupyter-widgets/controls",
       "_view_module_version": "1.5.0",
       "_view_name": "HTMLView",
       "description": "",
       "description_tooltip": null,
       "layout": "IPY_MODEL_4d0241a2650d4113b9c7f22fce2f0d95",
       "placeholder": "​",
       "style": "IPY_MODEL_1c30136804a9460d983330d4405a2398",
       "value": "<h5><a href=\"https://github.com/jupyter-widgets/traittypes\">jupyter-widgets/traittypes</a></h5>"
      }
     },
     "881bbf924eeb4ff99507cda0c5bec1f1": {
      "model_module": "@jupyter-widgets/base",
      "model_module_version": "1.2.0",
      "model_name": "LayoutModel",
      "state": {
       "_model_module": "@jupyter-widgets/base",
       "_model_module_version": "1.2.0",
       "_model_name": "LayoutModel",
       "_view_count": null,
       "_view_module": "@jupyter-widgets/base",
       "_view_module_version": "1.2.0",
       "_view_name": "LayoutView",
       "align_content": null,
       "align_items": null,
       "align_self": null,
       "border": null,
       "bottom": null,
       "display": null,
       "flex": null,
       "flex_flow": null,
       "grid_area": null,
       "grid_auto_columns": null,
       "grid_auto_flow": null,
       "grid_auto_rows": null,
       "grid_column": null,
       "grid_gap": null,
       "grid_row": null,
       "grid_template_areas": null,
       "grid_template_columns": null,
       "grid_template_rows": null,
       "height": null,
       "justify_content": null,
       "justify_items": null,
       "left": null,
       "margin": null,
       "max_height": null,
       "max_width": null,
       "min_height": null,
       "min_width": null,
       "object_fit": null,
       "object_position": null,
       "order": null,
       "overflow": null,
       "overflow_x": null,
       "overflow_y": null,
       "padding": null,
       "right": null,
       "top": null,
       "visibility": null,
       "width": null
      }
     },
     "8fe68145333f4970af44d15d3c79b165": {
      "model_module": "@jupyter-widgets/controls",
      "model_module_version": "1.5.0",
      "model_name": "HTMLModel",
      "state": {
       "_dom_classes": [],
       "_model_module": "@jupyter-widgets/controls",
       "_model_module_version": "1.5.0",
       "_model_name": "HTMLModel",
       "_view_count": null,
       "_view_module": "@jupyter-widgets/controls",
       "_view_module_version": "1.5.0",
       "_view_name": "HTMLView",
       "description": "",
       "description_tooltip": null,
       "layout": "IPY_MODEL_1c835f6d07c14d63ae27c4d9866d9dcd",
       "placeholder": "​",
       "style": "IPY_MODEL_fbad888ec9b74ca192d94a7309c49ba9",
       "value": "<h5><a href=\"https://github.com/jupyter-widgets/traittypes\">jupyter-widgets/traittypes</a></h5>"
      }
     },
     "95aa5417226d446484dbd3ec6e54c802": {
      "model_module": "@jupyter-widgets/base",
      "model_module_version": "1.2.0",
      "model_name": "LayoutModel",
      "state": {
       "_model_module": "@jupyter-widgets/base",
       "_model_module_version": "1.2.0",
       "_model_name": "LayoutModel",
       "_view_count": null,
       "_view_module": "@jupyter-widgets/base",
       "_view_module_version": "1.2.0",
       "_view_name": "LayoutView",
       "align_content": null,
       "align_items": null,
       "align_self": null,
       "border": null,
       "bottom": null,
       "display": null,
       "flex": null,
       "flex_flow": null,
       "grid_area": null,
       "grid_auto_columns": null,
       "grid_auto_flow": null,
       "grid_auto_rows": null,
       "grid_column": null,
       "grid_gap": null,
       "grid_row": null,
       "grid_template_areas": null,
       "grid_template_columns": null,
       "grid_template_rows": null,
       "height": null,
       "justify_content": null,
       "justify_items": null,
       "left": null,
       "margin": null,
       "max_height": null,
       "max_width": null,
       "min_height": null,
       "min_width": null,
       "object_fit": null,
       "object_position": null,
       "order": null,
       "overflow": null,
       "overflow_x": null,
       "overflow_y": null,
       "padding": null,
       "right": null,
       "top": null,
       "visibility": null,
       "width": null
      }
     },
     "96a12063c5c04f3395f480f2cdaef667": {
      "model_module": "@jupyter-widgets/controls",
      "model_module_version": "1.5.0",
      "model_name": "DescriptionStyleModel",
      "state": {
       "_model_module": "@jupyter-widgets/controls",
       "_model_module_version": "1.5.0",
       "_model_name": "DescriptionStyleModel",
       "_view_count": null,
       "_view_module": "@jupyter-widgets/base",
       "_view_module_version": "1.2.0",
       "_view_name": "StyleView",
       "description_width": ""
      }
     },
     "977dbc1730d540169f529dc9f1595ac1": {
      "model_module": "@jupyter-widgets/base",
      "model_module_version": "1.2.0",
      "model_name": "LayoutModel",
      "state": {
       "_model_module": "@jupyter-widgets/base",
       "_model_module_version": "1.2.0",
       "_model_name": "LayoutModel",
       "_view_count": null,
       "_view_module": "@jupyter-widgets/base",
       "_view_module_version": "1.2.0",
       "_view_name": "LayoutView",
       "align_content": null,
       "align_items": null,
       "align_self": null,
       "border": null,
       "bottom": null,
       "display": null,
       "flex": null,
       "flex_flow": null,
       "grid_area": null,
       "grid_auto_columns": null,
       "grid_auto_flow": null,
       "grid_auto_rows": null,
       "grid_column": null,
       "grid_gap": null,
       "grid_row": null,
       "grid_template_areas": null,
       "grid_template_columns": null,
       "grid_template_rows": null,
       "height": null,
       "justify_content": null,
       "justify_items": null,
       "left": null,
       "margin": null,
       "max_height": null,
       "max_width": null,
       "min_height": null,
       "min_width": null,
       "object_fit": null,
       "object_position": null,
       "order": null,
       "overflow": null,
       "overflow_x": null,
       "overflow_y": null,
       "padding": null,
       "right": null,
       "top": null,
       "visibility": null,
       "width": null
      }
     },
     "9cdf1ad4ae474bfeb88970551e28f4d7": {
      "model_module": "@jupyter-widgets/base",
      "model_module_version": "1.2.0",
      "model_name": "LayoutModel",
      "state": {
       "_model_module": "@jupyter-widgets/base",
       "_model_module_version": "1.2.0",
       "_model_name": "LayoutModel",
       "_view_count": null,
       "_view_module": "@jupyter-widgets/base",
       "_view_module_version": "1.2.0",
       "_view_name": "LayoutView",
       "align_content": null,
       "align_items": null,
       "align_self": null,
       "border": null,
       "bottom": null,
       "display": null,
       "flex": null,
       "flex_flow": null,
       "grid_area": null,
       "grid_auto_columns": null,
       "grid_auto_flow": null,
       "grid_auto_rows": null,
       "grid_column": null,
       "grid_gap": null,
       "grid_row": null,
       "grid_template_areas": null,
       "grid_template_columns": null,
       "grid_template_rows": null,
       "height": null,
       "justify_content": null,
       "justify_items": null,
       "left": null,
       "margin": null,
       "max_height": null,
       "max_width": null,
       "min_height": null,
       "min_width": null,
       "object_fit": null,
       "object_position": null,
       "order": null,
       "overflow": null,
       "overflow_x": null,
       "overflow_y": null,
       "padding": null,
       "right": null,
       "top": null,
       "visibility": null,
       "width": null
      }
     },
     "9fffa060643745ecae74a79c59f233c1": {
      "model_module": "@jupyter-widgets/base",
      "model_module_version": "1.2.0",
      "model_name": "LayoutModel",
      "state": {
       "_model_module": "@jupyter-widgets/base",
       "_model_module_version": "1.2.0",
       "_model_name": "LayoutModel",
       "_view_count": null,
       "_view_module": "@jupyter-widgets/base",
       "_view_module_version": "1.2.0",
       "_view_name": "LayoutView",
       "align_content": null,
       "align_items": null,
       "align_self": null,
       "border": null,
       "bottom": null,
       "display": null,
       "flex": null,
       "flex_flow": null,
       "grid_area": null,
       "grid_auto_columns": null,
       "grid_auto_flow": null,
       "grid_auto_rows": null,
       "grid_column": null,
       "grid_gap": null,
       "grid_row": null,
       "grid_template_areas": null,
       "grid_template_columns": null,
       "grid_template_rows": null,
       "height": null,
       "justify_content": null,
       "justify_items": null,
       "left": null,
       "margin": null,
       "max_height": null,
       "max_width": null,
       "min_height": null,
       "min_width": null,
       "object_fit": null,
       "object_position": null,
       "order": null,
       "overflow": null,
       "overflow_x": null,
       "overflow_y": null,
       "padding": null,
       "right": null,
       "top": null,
       "visibility": null,
       "width": null
      }
     },
     "a15a8403ff1f4e68ab5613dec2fe5796": {
      "model_module": "@jupyter-widgets/base",
      "model_module_version": "1.2.0",
      "model_name": "LayoutModel",
      "state": {
       "_model_module": "@jupyter-widgets/base",
       "_model_module_version": "1.2.0",
       "_model_name": "LayoutModel",
       "_view_count": null,
       "_view_module": "@jupyter-widgets/base",
       "_view_module_version": "1.2.0",
       "_view_name": "LayoutView",
       "align_content": null,
       "align_items": null,
       "align_self": null,
       "border": null,
       "bottom": null,
       "display": null,
       "flex": null,
       "flex_flow": null,
       "grid_area": null,
       "grid_auto_columns": null,
       "grid_auto_flow": null,
       "grid_auto_rows": null,
       "grid_column": null,
       "grid_gap": null,
       "grid_row": null,
       "grid_template_areas": null,
       "grid_template_columns": null,
       "grid_template_rows": null,
       "height": null,
       "justify_content": null,
       "justify_items": null,
       "left": null,
       "margin": null,
       "max_height": null,
       "max_width": null,
       "min_height": null,
       "min_width": null,
       "object_fit": null,
       "object_position": null,
       "order": null,
       "overflow": null,
       "overflow_x": null,
       "overflow_y": null,
       "padding": null,
       "right": null,
       "top": null,
       "visibility": null,
       "width": null
      }
     },
     "a39859be600442d589e8727c0de4fcd8": {
      "model_module": "@jupyter-widgets/controls",
      "model_module_version": "1.5.0",
      "model_name": "HTMLModel",
      "state": {
       "_dom_classes": [],
       "_model_module": "@jupyter-widgets/controls",
       "_model_module_version": "1.5.0",
       "_model_name": "HTMLModel",
       "_view_count": null,
       "_view_module": "@jupyter-widgets/controls",
       "_view_module_version": "1.5.0",
       "_view_name": "HTMLView",
       "description": "",
       "description_tooltip": null,
       "layout": "IPY_MODEL_4611982ba44a4fde836524f4b31d7a43",
       "placeholder": "​",
       "style": "IPY_MODEL_96a12063c5c04f3395f480f2cdaef667",
       "value": "<h4>Closed PRs for repo: <a href=\"https://github.com/jupyter-widgets/ipyleaflet\">jupyter-widgets/ipyleaflet</a></h4>\n<h5></h5>\n<ul>\n<li><a href=\"https://github.com/jupyter-widgets/ipyleaflet/pull/653\">(#653)</a>: <em>Bump lodash from 4.17.15 to 4.17.19 in /js</em> by <strong><a href=\"https://github.com/dependabot\">@dependabot</a></strong> merged by <strong><a href=\"https://github.com/martinRenou\">@martinRenou</a></strong></li>\n<li><a href=\"https://github.com/jupyter-widgets/ipyleaflet/pull/651\">(#651)</a>: <em>Bump npm-registry-fetch from 4.0.4 to 4.0.5 in /js</em> by <strong><a href=\"https://github.com/dependabot\">@dependabot</a></strong> merged by <strong><a href=\"https://github.com/martinRenou\">@martinRenou</a></strong></li>\n<li><a href=\"https://github.com/jupyter-widgets/ipyleaflet/pull/648\">(#648)</a>: <em>Search control documentation of Layer attribute.</em> by <strong><a href=\"https://github.com/sackh\">@sackh</a></strong> merged by <strong><a href=\"https://github.com/martinRenou\">@martinRenou</a></strong></li>\n<li><a href=\"https://github.com/jupyter-widgets/ipyleaflet/pull/647\">(#647)</a>: <em>Fix setup py</em> by <strong><a href=\"https://github.com/martinRenou\">@martinRenou</a></strong> merged by <strong><a href=\"https://github.com/martinRenou\">@martinRenou</a></strong></li>\n<li><a href=\"https://github.com/jupyter-widgets/ipyleaflet/pull/646\">(#646)</a>: <em>Add docstrings</em> by <strong><a href=\"https://github.com/martinRenou\">@martinRenou</a></strong> merged by <strong><a href=\"https://github.com/martinRenou\">@martinRenou</a></strong></li>\n<li><a href=\"https://github.com/jupyter-widgets/ipyleaflet/pull/645\">(#645)</a>: <em>Add docstrings</em> by <strong><a href=\"https://github.com/martinRenou\">@martinRenou</a></strong> merged by <strong><a href=\"https://github.com/martinRenou\">@martinRenou</a></strong></li>\n<li><a href=\"https://github.com/jupyter-widgets/ipyleaflet/pull/640\">(#640)</a>: <em>Added found_style attribute for SearchControl</em> by <strong><a href=\"https://github.com/sackh\">@sackh</a></strong> merged by <strong><a href=\"https://github.com/martinRenou\">@martinRenou</a></strong></li>\n<li><a href=\"https://github.com/jupyter-widgets/ipyleaflet/pull/639\">(#639)</a>: <em>Pin branca&gt;=0.3.1,&lt;0.5</em> by <strong><a href=\"https://github.com/davidbrochart\">@davidbrochart</a></strong> merged by <strong><a href=\"https://github.com/martinRenou\">@martinRenou</a></strong></li>\n<li><a href=\"https://github.com/jupyter-widgets/ipyleaflet/pull/637\">(#637)</a>: <em>Fix Icon layer default attrs JS side</em> by <strong><a href=\"https://github.com/martinRenou\">@martinRenou</a></strong> merged by <strong><a href=\"https://github.com/davidbrochart\">@davidbrochart</a></strong></li>\n<li><a href=\"https://github.com/jupyter-widgets/ipyleaflet/pull/636\">(#636)</a>: <em>Fix icon attrs default values</em> by <strong><a href=\"https://github.com/martinRenou\">@martinRenou</a></strong> merged by <strong><a href=\"https://github.com/martinRenou\">@martinRenou</a></strong></li>\n<li><a href=\"https://github.com/jupyter-widgets/ipyleaflet/pull/634\">(#634)</a>: <em>Fix for KeyError: 'popup_anchor' and other traits of Icon</em> by <strong><a href=\"https://github.com/sackh\">@sackh</a></strong> merged by <strong><a href=\"https://github.com/SylvainCorlay\">@SylvainCorlay</a></strong></li>\n<li><a href=\"https://github.com/jupyter-widgets/ipyleaflet/pull/631\">(#631)</a>: <em>Simplify main JS file</em> by <strong><a href=\"https://github.com/martinRenou\">@martinRenou</a></strong> merged by <strong><a href=\"https://github.com/martinRenou\">@martinRenou</a></strong></li>\n<li><a href=\"https://github.com/jupyter-widgets/ipyleaflet/pull/630\">(#630)</a>: <em>Docstrings</em> by <strong><a href=\"https://github.com/martinRenou\">@martinRenou</a></strong> merged by <strong><a href=\"https://github.com/martinRenou\">@martinRenou</a></strong></li>\n<li><a href=\"https://github.com/jupyter-widgets/ipyleaflet/pull/629\">(#629)</a>: <em>Fix GeoJSON click event</em> by <strong><a href=\"https://github.com/martinRenou\">@martinRenou</a></strong> merged by <strong><a href=\"https://github.com/martinRenou\">@martinRenou</a></strong></li>\n<li><a href=\"https://github.com/jupyter-widgets/ipyleaflet/pull/628\">(#628)</a>: <em>Docstrings</em> by <strong><a href=\"https://github.com/martinRenou\">@martinRenou</a></strong> merged by <strong><a href=\"https://github.com/martinRenou\">@martinRenou</a></strong></li>\n<li><a href=\"https://github.com/jupyter-widgets/ipyleaflet/pull/627\">(#627)</a>: <em>Remove Travis</em> by <strong><a href=\"https://github.com/martinRenou\">@martinRenou</a></strong> merged by <strong><a href=\"https://github.com/martinRenou\">@martinRenou</a></strong></li>\n<li><a href=\"https://github.com/jupyter-widgets/ipyleaflet/pull/626\">(#626)</a>: <em>Add Github actions</em> by <strong><a href=\"https://github.com/martinRenou\">@martinRenou</a></strong> merged by <strong><a href=\"https://github.com/martinRenou\">@martinRenou</a></strong></li>\n<li><a href=\"https://github.com/jupyter-widgets/ipyleaflet/pull/625\">(#625)</a>: <em>Fix bounds type</em> by <strong><a href=\"https://github.com/martinRenou\">@martinRenou</a></strong> merged by <strong><a href=\"https://github.com/martinRenou\">@martinRenou</a></strong></li>\n<li><a href=\"https://github.com/jupyter-widgets/ipyleaflet/pull/624\">(#624)</a>: <em>Fix ipyleaflet import</em> by <strong><a href=\"https://github.com/martinRenou\">@martinRenou</a></strong> merged by <strong><a href=\"https://github.com/martinRenou\">@martinRenou</a></strong></li>\n<li><a href=\"https://github.com/jupyter-widgets/ipyleaflet/pull/623\">(#623)</a>: <em>Add docstrings</em> by <strong><a href=\"https://github.com/martinRenou\">@martinRenou</a></strong> merged by <strong><a href=\"https://github.com/davidbrochart\">@davidbrochart</a></strong></li>\n<li><a href=\"https://github.com/jupyter-widgets/ipyleaflet/pull/622\">(#622)</a>: <em>Layer attribute search control</em> by <strong><a href=\"https://github.com/sackh\">@sackh</a></strong> merged by <strong><a href=\"https://github.com/martinRenou\">@martinRenou</a></strong></li>\n<li><a href=\"https://github.com/jupyter-widgets/ipyleaflet/pull/621\">(#621)</a>: <em>Implement __geo_interface__ for relevant classes</em> by <strong><a href=\"https://github.com/vpipkt\">@vpipkt</a></strong> merged by <strong><a href=\"https://github.com/martinRenou\">@martinRenou</a></strong></li>\n<li><a href=\"https://github.com/jupyter-widgets/ipyleaflet/pull/620\">(#620)</a>: <em>Fix EPSG:3413 and EPSG:3031</em> by <strong><a href=\"https://github.com/davidbrochart\">@davidbrochart</a></strong> merged by <strong><a href=\"https://github.com/davidbrochart\">@davidbrochart</a></strong></li>\n<li><a href=\"https://github.com/jupyter-widgets/ipyleaflet/pull/619\">(#619)</a>: <em>Fix for issue #618 - Removing layer also removes basemap</em> by <strong><a href=\"https://github.com/sackh\">@sackh</a></strong> merged by <strong><a href=\"https://github.com/martinRenou\">@martinRenou</a></strong></li>\n<li><a href=\"https://github.com/jupyter-widgets/ipyleaflet/pull/616\">(#616)</a>: <em>Add pixel_bounds to Map</em> by <strong><a href=\"https://github.com/davidbrochart\">@davidbrochart</a></strong> merged by <strong><a href=\"https://github.com/martinRenou\">@martinRenou</a></strong></li>\n<li><a href=\"https://github.com/jupyter-widgets/ipyleaflet/pull/611\">(#611)</a>: <em>Fix option update</em> by <strong><a href=\"https://github.com/davidbrochart\">@davidbrochart</a></strong> merged by <strong><a href=\"https://github.com/martinRenou\">@martinRenou</a></strong></li>\n<li><a href=\"https://github.com/jupyter-widgets/ipyleaflet/pull/609\">(#609)</a>: <em>Fix flake8 errors</em> by <strong><a href=\"https://github.com/martinRenou\">@martinRenou</a></strong> merged by <strong><a href=\"https://github.com/martinRenou\">@martinRenou</a></strong></li>\n<li><a href=\"https://github.com/jupyter-widgets/ipyleaflet/pull/608\">(#608)</a>: <em>Changes to enable float zoom levels</em> by <strong><a href=\"https://github.com/omanges\">@omanges</a></strong> merged by <strong><a href=\"https://github.com/martinRenou\">@martinRenou</a></strong></li>\n<li><a href=\"https://github.com/jupyter-widgets/ipyleaflet/pull/600\">(#600)</a>: <em>fix for issue #589 GeoJSON style_callback</em> by <strong><a href=\"https://github.com/sackh\">@sackh</a></strong> merged by <strong><a href=\"https://github.com/martinRenou\">@martinRenou</a></strong></li>\n<li><a href=\"https://github.com/jupyter-widgets/ipyleaflet/pull/598\">(#598)</a>: <em>Added support for non standard projections for Map and TileLayers</em> by <strong><a href=\"https://github.com/betolink\">@betolink</a></strong> merged by <strong><a href=\"https://github.com/martinRenou\">@martinRenou</a></strong></li>\n<li><a href=\"https://github.com/jupyter-widgets/ipyleaflet/pull/590\">(#590)</a>: <em>Added Vector tile docs</em> by <strong><a href=\"https://github.com/omanges\">@omanges</a></strong> merged by <strong><a href=\"https://github.com/martinRenou\">@martinRenou</a></strong></li>\n<li><a href=\"https://github.com/jupyter-widgets/ipyleaflet/pull/586\">(#586)</a>: <em>Remove gitattributes</em> by <strong><a href=\"https://github.com/martinRenou\">@martinRenou</a></strong> merged by <strong><a href=\"https://github.com/martinRenou\">@martinRenou</a></strong></li>\n</ul>"
      }
     },
     "aca0f28369c94d66844537a4d167b7c9": {
      "model_module": "@jupyter-widgets/base",
      "model_module_version": "1.2.0",
      "model_name": "LayoutModel",
      "state": {
       "_model_module": "@jupyter-widgets/base",
       "_model_module_version": "1.2.0",
       "_model_name": "LayoutModel",
       "_view_count": null,
       "_view_module": "@jupyter-widgets/base",
       "_view_module_version": "1.2.0",
       "_view_name": "LayoutView",
       "align_content": null,
       "align_items": null,
       "align_self": null,
       "border": null,
       "bottom": null,
       "display": null,
       "flex": null,
       "flex_flow": null,
       "grid_area": null,
       "grid_auto_columns": null,
       "grid_auto_flow": null,
       "grid_auto_rows": null,
       "grid_column": null,
       "grid_gap": null,
       "grid_row": null,
       "grid_template_areas": null,
       "grid_template_columns": null,
       "grid_template_rows": null,
       "height": null,
       "justify_content": null,
       "justify_items": null,
       "left": null,
       "margin": null,
       "max_height": null,
       "max_width": null,
       "min_height": null,
       "min_width": null,
       "object_fit": null,
       "object_position": null,
       "order": null,
       "overflow": null,
       "overflow_x": null,
       "overflow_y": null,
       "padding": null,
       "right": null,
       "top": null,
       "visibility": null,
       "width": null
      }
     },
     "affd0010e0574a7287c239b6de10c8f2": {
      "model_module": "@jupyter-widgets/controls",
      "model_module_version": "1.5.0",
      "model_name": "TabModel",
      "state": {
       "_dom_classes": [],
       "_model_module": "@jupyter-widgets/controls",
       "_model_module_version": "1.5.0",
       "_model_name": "TabModel",
       "_titles": {
        "0": "ipyleaflet",
        "1": "ipywidgets",
        "2": "jupyterlab-sidecar",
        "3": "pythreejs",
        "4": "traittypes",
        "5": "tutorial",
        "6": "widget-cookiecutter",
        "7": "widget-ts-cookiecutter"
       },
       "_view_count": null,
       "_view_module": "@jupyter-widgets/controls",
       "_view_module_version": "1.5.0",
       "_view_name": "TabView",
       "box_style": "",
       "children": [
        "IPY_MODEL_76494b5e6eaf42959589ec8b321f1ca2",
        "IPY_MODEL_4d93a285c6f14e19ade3df3c28f3c545",
        "IPY_MODEL_12323632640144d794b34742661cc82b",
        "IPY_MODEL_6a85099035cd400d81ccea94af3dfe56",
        "IPY_MODEL_869a319565554270be01ef28cde62ad7",
        "IPY_MODEL_572f8aa052f942ce88204db614438440",
        "IPY_MODEL_c4897aa9dc5c43329c0f8fc15fdd1902",
        "IPY_MODEL_7e5b5c9592094c23a6e68d4b3fdabac7"
       ],
       "layout": "IPY_MODEL_aca0f28369c94d66844537a4d167b7c9",
       "selected_index": 0
      }
     },
     "b6d71853e9614261ae4426ac6f609d6d": {
      "model_module": "@jupyter-widgets/controls",
      "model_module_version": "1.5.0",
      "model_name": "HTMLModel",
      "state": {
       "_dom_classes": [],
       "_model_module": "@jupyter-widgets/controls",
       "_model_module_version": "1.5.0",
       "_model_name": "HTMLModel",
       "_view_count": null,
       "_view_module": "@jupyter-widgets/controls",
       "_view_module_version": "1.5.0",
       "_view_name": "HTMLView",
       "description": "",
       "description_tooltip": null,
       "layout": "IPY_MODEL_0f1f5698e8c143f09736581de5da66d7",
       "placeholder": "​",
       "style": "IPY_MODEL_c1bd35e7dfe940d69bb71780d5c9dc9c",
       "value": "<h5><a href=\"https://github.com/jupyter-widgets/ipywidgets\">jupyter-widgets/ipywidgets</a></h5>\n<ul>\n<li><a href=\"https://github.com/jupyter-widgets/ipywidgets/issues/2893\">(#2893)</a>: <em>Widgets in [Box, HBox or VBox] displayed with a grey background</em> by <strong><a href=\"https://github.com/stefanmeili\">@stefanmeili</a></strong></li>\n<li><a href=\"https://github.com/jupyter-widgets/ipywidgets/issues/2899\">(#2899)</a>: <em>'Error displaying widget' on jupyterlab</em> by <strong><a href=\"https://github.com/krlng\">@krlng</a></strong></li>\n<li><a href=\"https://github.com/jupyter-widgets/ipywidgets/issues/2917\">(#2917)</a>: <em>Change Tab content when button on_click event</em> by <strong><a href=\"https://github.com/jifcon\">@jifcon</a></strong></li>\n<li><a href=\"https://github.com/jupyter-widgets/ipywidgets/issues/2916\">(#2916)</a>: <em>Debugging Traitlets and Backbone.js?</em> by <strong><a href=\"https://github.com/cabreraalex\">@cabreraalex</a></strong></li>\n<li><a href=\"https://github.com/jupyter-widgets/ipywidgets/issues/2902\">(#2902)</a>: <em>Add string formatting to SelectionSlider</em> by <strong><a href=\"https://github.com/ianhi\">@ianhi</a></strong></li>\n</ul>"
      }
     },
     "b8b025d1fea34d688fce18d686f61588": {
      "model_module": "@jupyter-widgets/controls",
      "model_module_version": "1.5.0",
      "model_name": "DescriptionStyleModel",
      "state": {
       "_model_module": "@jupyter-widgets/controls",
       "_model_module_version": "1.5.0",
       "_model_name": "DescriptionStyleModel",
       "_view_count": null,
       "_view_module": "@jupyter-widgets/base",
       "_view_module_version": "1.2.0",
       "_view_name": "StyleView",
       "description_width": ""
      }
     },
     "bc626ad7eee540a7b8375a1d5f0ec13f": {
      "model_module": "@jupyter-widgets/controls",
      "model_module_version": "1.5.0",
      "model_name": "HTMLModel",
      "state": {
       "_dom_classes": [],
       "_model_module": "@jupyter-widgets/controls",
       "_model_module_version": "1.5.0",
       "_model_name": "HTMLModel",
       "_view_count": null,
       "_view_module": "@jupyter-widgets/controls",
       "_view_module_version": "1.5.0",
       "_view_name": "HTMLView",
       "description": "",
       "description_tooltip": null,
       "layout": "IPY_MODEL_65985b3a89384744a8b14f95a3ce1edd",
       "placeholder": "​",
       "style": "IPY_MODEL_50487a50dd804dc8b1e285731f19b173",
       "value": "<h5><a href=\"https://github.com/jupyter-widgets/tutorial\">jupyter-widgets/tutorial</a></h5>\n<ul>\n<li><a href=\"https://github.com/jupyter-widgets/tutorial/issues/110\">(#110)</a>: <em>problem installing jupyter widgets</em> by <strong><a href=\"https://github.com/matthewspink\">@matthewspink</a></strong></li>\n<li><a href=\"https://github.com/jupyter-widgets/tutorial/issues/68\">(#68)</a>: <em>Error launching jupyter lab after pip install</em> by <strong><a href=\"https://github.com/mwcraig\">@mwcraig</a></strong></li>\n</ul>"
      }
     },
     "c1bd35e7dfe940d69bb71780d5c9dc9c": {
      "model_module": "@jupyter-widgets/controls",
      "model_module_version": "1.5.0",
      "model_name": "DescriptionStyleModel",
      "state": {
       "_model_module": "@jupyter-widgets/controls",
       "_model_module_version": "1.5.0",
       "_model_name": "DescriptionStyleModel",
       "_view_count": null,
       "_view_module": "@jupyter-widgets/base",
       "_view_module_version": "1.2.0",
       "_view_name": "StyleView",
       "description_width": ""
      }
     },
     "c4897aa9dc5c43329c0f8fc15fdd1902": {
      "model_module": "@jupyter-widgets/controls",
      "model_module_version": "1.5.0",
      "model_name": "HTMLModel",
      "state": {
       "_dom_classes": [],
       "_model_module": "@jupyter-widgets/controls",
       "_model_module_version": "1.5.0",
       "_model_name": "HTMLModel",
       "_view_count": null,
       "_view_module": "@jupyter-widgets/controls",
       "_view_module_version": "1.5.0",
       "_view_name": "HTMLView",
       "description": "",
       "description_tooltip": null,
       "layout": "IPY_MODEL_977dbc1730d540169f529dc9f1595ac1",
       "placeholder": "​",
       "style": "IPY_MODEL_4f9034ffdba74fad92345a5efbdb7066",
       "value": "<h5><a href=\"https://github.com/jupyter-widgets/widget-cookiecutter\">jupyter-widgets/widget-cookiecutter</a></h5>\n<ul>\n<li><a href=\"https://github.com/jupyter-widgets/widget-cookiecutter/issues/62\">(#62)</a>: <em>Jupyter widget Error on Jupyter Lab</em> by <strong><a href=\"https://github.com/sackh\">@sackh</a></strong></li>\n<li><a href=\"https://github.com/jupyter-widgets/widget-cookiecutter/issues/61\">(#61)</a>: <em>Newly created plugin fails to load.</em> by <strong><a href=\"https://github.com/rvlander\">@rvlander</a></strong></li>\n<li><a href=\"https://github.com/jupyter-widgets/widget-cookiecutter/issues/63\">(#63)</a>: <em>Does it Hot-Reload?</em> by <strong><a href=\"https://github.com/saraedum\">@saraedum</a></strong></li>\n<li><a href=\"https://github.com/jupyter-widgets/widget-cookiecutter/issues/60\">(#60)</a>: <em>widget renders only after restart of the kernel</em> by <strong><a href=\"https://github.com/Nic30\">@Nic30</a></strong></li>\n</ul>"
      }
     },
     "cb7288805f234cdab53048e43f73a1be": {
      "model_module": "@jupyter-widgets/base",
      "model_module_version": "1.2.0",
      "model_name": "LayoutModel",
      "state": {
       "_model_module": "@jupyter-widgets/base",
       "_model_module_version": "1.2.0",
       "_model_name": "LayoutModel",
       "_view_count": null,
       "_view_module": "@jupyter-widgets/base",
       "_view_module_version": "1.2.0",
       "_view_name": "LayoutView",
       "align_content": null,
       "align_items": null,
       "align_self": null,
       "border": null,
       "bottom": null,
       "display": null,
       "flex": null,
       "flex_flow": null,
       "grid_area": null,
       "grid_auto_columns": null,
       "grid_auto_flow": null,
       "grid_auto_rows": null,
       "grid_column": null,
       "grid_gap": null,
       "grid_row": null,
       "grid_template_areas": null,
       "grid_template_columns": null,
       "grid_template_rows": null,
       "height": null,
       "justify_content": null,
       "justify_items": null,
       "left": null,
       "margin": null,
       "max_height": null,
       "max_width": null,
       "min_height": null,
       "min_width": null,
       "object_fit": null,
       "object_position": null,
       "order": null,
       "overflow": null,
       "overflow_x": null,
       "overflow_y": null,
       "padding": null,
       "right": null,
       "top": null,
       "visibility": null,
       "width": null
      }
     },
     "d12ef23d155c4d0c865bc100a7731a62": {
      "model_module": "@jupyter-widgets/controls",
      "model_module_version": "1.5.0",
      "model_name": "HTMLModel",
      "state": {
       "_dom_classes": [],
       "_model_module": "@jupyter-widgets/controls",
       "_model_module_version": "1.5.0",
       "_model_name": "HTMLModel",
       "_view_count": null,
       "_view_module": "@jupyter-widgets/controls",
       "_view_module_version": "1.5.0",
       "_view_name": "HTMLView",
       "description": "",
       "description_tooltip": null,
       "layout": "IPY_MODEL_590314b992c343799454639977658d25",
       "placeholder": "​",
       "style": "IPY_MODEL_1115b9b3625d48a7a1c0877c4efb63c9",
       "value": "<h4>Closed PRs for repo: <a href=\"https://github.com/jupyter-widgets/tutorial\">jupyter-widgets/tutorial</a></h4>\n<h5></h5>\n<ul>\n<li><a href=\"https://github.com/jupyter-widgets/tutorial/pull/115\">(#115)</a>: <em>Layout tutorial minor fixes</em> by <strong><a href=\"https://github.com/mbektasbbg\">@mbektasbbg</a></strong> merged by <strong><a href=\"https://github.com/mwcraig\">@mwcraig</a></strong></li>\n<li><a href=\"https://github.com/jupyter-widgets/tutorial/pull/114\">(#114)</a>: <em>fix sidecar typo</em> by <strong><a href=\"https://github.com/mbektasbbg\">@mbektasbbg</a></strong> merged by <strong><a href=\"https://github.com/mwcraig\">@mwcraig</a></strong></li>\n<li><a href=\"https://github.com/jupyter-widgets/tutorial/pull/113\">(#113)</a>: <em>Put nodejs in environment.yml file</em> by <strong><a href=\"https://github.com/kir0ul\">@kir0ul</a></strong> merged by <strong><a href=\"https://github.com/martinRenou\">@martinRenou</a></strong></li>\n<li><a href=\"https://github.com/jupyter-widgets/tutorial/pull/112\">(#112)</a>: <em>Minor outline tweaks - add exercise to bqplot, clean up ipyvolume desc</em> by <strong><a href=\"https://github.com/ibdafna\">@ibdafna</a></strong> merged by <strong><a href=\"https://github.com/ibdafna\">@ibdafna</a></strong></li>\n<li><a href=\"https://github.com/jupyter-widgets/tutorial/pull/111\">(#111)</a>: <em>Fix bqplot example</em> by <strong><a href=\"https://github.com/ibdafna\">@ibdafna</a></strong> merged by <strong><a href=\"https://github.com/ibdafna\">@ibdafna</a></strong></li>\n<li><a href=\"https://github.com/jupyter-widgets/tutorial/pull/109\">(#109)</a>: <em>Update navigation links to match new index location</em> by <strong><a href=\"https://github.com/mwcraig\">@mwcraig</a></strong> merged by <strong><a href=\"https://github.com/mwcraig\">@mwcraig</a></strong></li>\n<li><a href=\"https://github.com/jupyter-widgets/tutorial/pull/108\">(#108)</a>: <em>Update Binder badge in README.md</em> by <strong><a href=\"https://github.com/jtpio\">@jtpio</a></strong> merged by <strong><a href=\"https://github.com/martinRenou\">@martinRenou</a></strong></li>\n<li><a href=\"https://github.com/jupyter-widgets/tutorial/pull/107\">(#107)</a>: <em>Rename index + spaces -&gt; underscores</em> by <strong><a href=\"https://github.com/martinRenou\">@martinRenou</a></strong> merged by <strong><a href=\"https://github.com/martinRenou\">@martinRenou</a></strong></li>\n<li><a href=\"https://github.com/jupyter-widgets/tutorial/pull/106\">(#106)</a>: <em>Layout updates 2</em> by <strong><a href=\"https://github.com/mbektasbbg\">@mbektasbbg</a></strong> merged by <strong><a href=\"https://github.com/martinRenou\">@martinRenou</a></strong></li>\n<li><a href=\"https://github.com/jupyter-widgets/tutorial/pull/105\">(#105)</a>: <em>Add navbars to all notebooks</em> by <strong><a href=\"https://github.com/mwcraig\">@mwcraig</a></strong> merged by <strong><a href=\"https://github.com/martinRenou\">@martinRenou</a></strong></li>\n<li><a href=\"https://github.com/jupyter-widgets/tutorial/pull/104\">(#104)</a>: <em>No more spaces</em> by <strong><a href=\"https://github.com/mwcraig\">@mwcraig</a></strong> merged by <strong><a href=\"https://github.com/mwcraig\">@mwcraig</a></strong></li>\n<li><a href=\"https://github.com/jupyter-widgets/tutorial/pull/103\">(#103)</a>: <em>Add title for notebook</em> by <strong><a href=\"https://github.com/mwcraig\">@mwcraig</a></strong> merged by <strong><a href=\"https://github.com/mwcraig\">@mwcraig</a></strong></li>\n<li><a href=\"https://github.com/jupyter-widgets/tutorial/pull/102\">(#102)</a>: <em>Final tidy up</em> by <strong><a href=\"https://github.com/mwcraig\">@mwcraig</a></strong> merged by <strong><a href=\"https://github.com/mwcraig\">@mwcraig</a></strong></li>\n<li><a href=\"https://github.com/jupyter-widgets/tutorial/pull/101\">(#101)</a>: <em>update vaex, the art of removal</em> by <strong><a href=\"https://github.com/maartenbreddels\">@maartenbreddels</a></strong> merged by <strong><a href=\"https://github.com/martinRenou\">@martinRenou</a></strong></li>\n<li><a href=\"https://github.com/jupyter-widgets/tutorial/pull/100\">(#100)</a>: <em>Add gitter link to the README</em> by <strong><a href=\"https://github.com/martinRenou\">@martinRenou</a></strong> merged by <strong><a href=\"https://github.com/martinRenou\">@martinRenou</a></strong></li>\n<li><a href=\"https://github.com/jupyter-widgets/tutorial/pull/99\">(#99)</a>: <em>Move postbuild file</em> by <strong><a href=\"https://github.com/martinRenou\">@martinRenou</a></strong> merged by <strong><a href=\"https://github.com/mwcraig\">@mwcraig</a></strong></li>\n<li><a href=\"https://github.com/jupyter-widgets/tutorial/pull/98\">(#98)</a>: <em>Use lab in Binder</em> by <strong><a href=\"https://github.com/martinRenou\">@martinRenou</a></strong> merged by <strong><a href=\"https://github.com/mwcraig\">@mwcraig</a></strong></li>\n<li><a href=\"https://github.com/jupyter-widgets/tutorial/pull/97\">(#97)</a>: <em>Update voila Notebooks</em> by <strong><a href=\"https://github.com/martinRenou\">@martinRenou</a></strong> merged by <strong><a href=\"https://github.com/martinRenou\">@martinRenou</a></strong></li>\n<li><a href=\"https://github.com/jupyter-widgets/tutorial/pull/96\">(#96)</a>: <em>Add a basic bqplot exercise to the bqplot notebook</em> by <strong><a href=\"https://github.com/ibdafna\">@ibdafna</a></strong> merged by <strong><a href=\"https://github.com/martinRenou\">@martinRenou</a></strong></li>\n<li><a href=\"https://github.com/jupyter-widgets/tutorial/pull/95\">(#95)</a>: <em>Change ipyleaflet version in installation instructions</em> by <strong><a href=\"https://github.com/ibdafna\">@ibdafna</a></strong> merged by <strong><a href=\"https://github.com/martinRenou\">@martinRenou</a></strong></li>\n<li><a href=\"https://github.com/jupyter-widgets/tutorial/pull/94\">(#94)</a>: <em>Renumber notebooks and update layout links</em> by <strong><a href=\"https://github.com/mbektasbbg\">@mbektasbbg</a></strong> merged by <strong><a href=\"https://github.com/mwcraig\">@mwcraig</a></strong></li>\n<li><a href=\"https://github.com/jupyter-widgets/tutorial/pull/93\">(#93)</a>: <em>Reorder Notebooks to respect the outline</em> by <strong><a href=\"https://github.com/martinRenou\">@martinRenou</a></strong> merged by <strong><a href=\"https://github.com/martinRenou\">@martinRenou</a></strong></li>\n<li><a href=\"https://github.com/jupyter-widgets/tutorial/pull/92\">(#92)</a>: <em>Fix file location in ipywebrtc Notebook</em> by <strong><a href=\"https://github.com/martinRenou\">@martinRenou</a></strong> merged by <strong><a href=\"https://github.com/martinRenou\">@martinRenou</a></strong></li>\n<li><a href=\"https://github.com/jupyter-widgets/tutorial/pull/91\">(#91)</a>: <em>Simplify installation instructions</em> by <strong><a href=\"https://github.com/martinRenou\">@martinRenou</a></strong> merged by <strong><a href=\"https://github.com/martinRenou\">@martinRenou</a></strong></li>\n<li><a href=\"https://github.com/jupyter-widgets/tutorial/pull/90\">(#90)</a>: <em>Fix index file and Notebook indexing</em> by <strong><a href=\"https://github.com/martinRenou\">@martinRenou</a></strong> merged by <strong><a href=\"https://github.com/martinRenou\">@martinRenou</a></strong></li>\n<li><a href=\"https://github.com/jupyter-widgets/tutorial/pull/89\">(#89)</a>: <em>Layout tutorial updates</em> by <strong><a href=\"https://github.com/mbektasbbg\">@mbektasbbg</a></strong> merged by <strong><a href=\"https://github.com/mwcraig\">@mwcraig</a></strong></li>\n<li><a href=\"https://github.com/jupyter-widgets/tutorial/pull/88\">(#88)</a>: _Update first several notebooks _ by <strong><a href=\"https://github.com/mwcraig\">@mwcraig</a></strong> merged by <strong><a href=\"https://github.com/mwcraig\">@mwcraig</a></strong></li>\n<li><a href=\"https://github.com/jupyter-widgets/tutorial/pull/86\">(#86)</a>: <em>Improve widgets events notebook</em> by <strong><a href=\"https://github.com/martinRenou\">@martinRenou</a></strong> merged by <strong><a href=\"https://github.com/martinRenou\">@martinRenou</a></strong></li>\n<li><a href=\"https://github.com/jupyter-widgets/tutorial/pull/85\">(#85)</a>: <em>Update third-party example Notebooks</em> by <strong><a href=\"https://github.com/martinRenou\">@martinRenou</a></strong> merged by <strong><a href=\"https://github.com/martinRenou\">@martinRenou</a></strong></li>\n<li><a href=\"https://github.com/jupyter-widgets/tutorial/pull/84\">(#84)</a>: <em>Clean up additional widget libraries demo notebooks, update custom widget tutorial link</em> by <strong><a href=\"https://github.com/ibdafna\">@ibdafna</a></strong> merged by <strong><a href=\"https://github.com/martinRenou\">@martinRenou</a></strong></li>\n<li><a href=\"https://github.com/jupyter-widgets/tutorial/pull/83\">(#83)</a>: <em>Update widget events Notebook</em> by <strong><a href=\"https://github.com/martinRenou\">@martinRenou</a></strong> merged by <strong><a href=\"https://github.com/martinRenou\">@martinRenou</a></strong></li>\n<li><a href=\"https://github.com/jupyter-widgets/tutorial/pull/81\">(#81)</a>: <em>Remove ipyaladin</em> by <strong><a href=\"https://github.com/martinRenou\">@martinRenou</a></strong> merged by <strong><a href=\"https://github.com/martinRenou\">@martinRenou</a></strong></li>\n<li><a href=\"https://github.com/jupyter-widgets/tutorial/pull/80\">(#80)</a>: <em>Move more Notebooks under sub-directories</em> by <strong><a href=\"https://github.com/martinRenou\">@martinRenou</a></strong> merged by <strong><a href=\"https://github.com/martinRenou\">@martinRenou</a></strong></li>\n<li><a href=\"https://github.com/jupyter-widgets/tutorial/pull/79\">(#79)</a>: <em>Move optional widgets libraries Notebooks into a separate directory</em> by <strong><a href=\"https://github.com/martinRenou\">@martinRenou</a></strong> merged by <strong><a href=\"https://github.com/martinRenou\">@martinRenou</a></strong></li>\n<li><a href=\"https://github.com/jupyter-widgets/tutorial/pull/71\">(#71)</a>: <em>Update dates and fix a couple headings in README</em> by <strong><a href=\"https://github.com/mwcraig\">@mwcraig</a></strong> merged by <strong><a href=\"https://github.com/mwcraig\">@mwcraig</a></strong></li>\n<li><a href=\"https://github.com/jupyter-widgets/tutorial/pull/70\">(#70)</a>: <em>Add ipyvolume</em> by <strong><a href=\"https://github.com/martinRenou\">@martinRenou</a></strong> merged by <strong><a href=\"https://github.com/mwcraig\">@mwcraig</a></strong></li>\n<li><a href=\"https://github.com/jupyter-widgets/tutorial/pull/69\">(#69)</a>: <em>Update install instructions for SciPy 2020</em> by <strong><a href=\"https://github.com/mwcraig\">@mwcraig</a></strong> merged by <strong><a href=\"https://github.com/mwcraig\">@mwcraig</a></strong></li>\n<li><a href=\"https://github.com/jupyter-widgets/tutorial/pull/66\">(#66)</a>: <em>fix notebook link</em> by <strong><a href=\"https://github.com/mbektasbbg\">@mbektasbbg</a></strong> merged by <strong><a href=\"https://github.com/mwcraig\">@mwcraig</a></strong></li>\n<li><a href=\"https://github.com/jupyter-widgets/tutorial/pull/65\">(#65)</a>: <em>Update outline for 2020</em> by <strong><a href=\"https://github.com/mwcraig\">@mwcraig</a></strong> merged by <strong><a href=\"https://github.com/mwcraig\">@mwcraig</a></strong></li>\n<li><a href=\"https://github.com/jupyter-widgets/tutorial/pull/63\">(#63)</a>: <em>Update ipyleaflet using the latest version</em> by <strong><a href=\"https://github.com/martinRenou\">@martinRenou</a></strong> merged by <strong><a href=\"https://github.com/martinRenou\">@martinRenou</a></strong></li>\n<li><a href=\"https://github.com/jupyter-widgets/tutorial/pull/62\">(#62)</a>: <em>Update installation instructions</em> by <strong><a href=\"https://github.com/martinRenou\">@martinRenou</a></strong> merged by <strong><a href=\"https://github.com/mwcraig\">@mwcraig</a></strong></li>\n</ul>"
      }
     },
     "d2e8cca6c3734db0b35c84cabe62b0d7": {
      "model_module": "@jupyter-widgets/base",
      "model_module_version": "1.2.0",
      "model_name": "LayoutModel",
      "state": {
       "_model_module": "@jupyter-widgets/base",
       "_model_module_version": "1.2.0",
       "_model_name": "LayoutModel",
       "_view_count": null,
       "_view_module": "@jupyter-widgets/base",
       "_view_module_version": "1.2.0",
       "_view_name": "LayoutView",
       "align_content": null,
       "align_items": null,
       "align_self": null,
       "border": null,
       "bottom": null,
       "display": null,
       "flex": null,
       "flex_flow": null,
       "grid_area": null,
       "grid_auto_columns": null,
       "grid_auto_flow": null,
       "grid_auto_rows": null,
       "grid_column": null,
       "grid_gap": null,
       "grid_row": null,
       "grid_template_areas": null,
       "grid_template_columns": null,
       "grid_template_rows": null,
       "height": null,
       "justify_content": null,
       "justify_items": null,
       "left": null,
       "margin": null,
       "max_height": null,
       "max_width": null,
       "min_height": null,
       "min_width": null,
       "object_fit": null,
       "object_position": null,
       "order": null,
       "overflow": null,
       "overflow_x": null,
       "overflow_y": null,
       "padding": null,
       "right": null,
       "top": null,
       "visibility": null,
       "width": null
      }
     },
     "d5100163f3fb487f83a8611fd6ab2e58": {
      "model_module": "@jupyter-widgets/controls",
      "model_module_version": "1.5.0",
      "model_name": "ProgressStyleModel",
      "state": {
       "_model_module": "@jupyter-widgets/controls",
       "_model_module_version": "1.5.0",
       "_model_name": "ProgressStyleModel",
       "_view_count": null,
       "_view_module": "@jupyter-widgets/base",
       "_view_module_version": "1.2.0",
       "_view_name": "StyleView",
       "bar_color": null,
       "description_width": ""
      }
     },
     "d82fe7ba47cd4664894802c992caf138": {
      "model_module": "@jupyter-widgets/controls",
      "model_module_version": "1.5.0",
      "model_name": "DescriptionStyleModel",
      "state": {
       "_model_module": "@jupyter-widgets/controls",
       "_model_module_version": "1.5.0",
       "_model_name": "DescriptionStyleModel",
       "_view_count": null,
       "_view_module": "@jupyter-widgets/base",
       "_view_module_version": "1.2.0",
       "_view_name": "StyleView",
       "description_width": ""
      }
     },
     "d8b5c818384c46a1b374ecd39f9baed5": {
      "model_module": "@jupyter-widgets/controls",
      "model_module_version": "1.5.0",
      "model_name": "DescriptionStyleModel",
      "state": {
       "_model_module": "@jupyter-widgets/controls",
       "_model_module_version": "1.5.0",
       "_model_name": "DescriptionStyleModel",
       "_view_count": null,
       "_view_module": "@jupyter-widgets/base",
       "_view_module_version": "1.2.0",
       "_view_name": "StyleView",
       "description_width": ""
      }
     },
     "e23f5200920545eaae6b4819017c0fb3": {
      "model_module": "@jupyter-widgets/controls",
      "model_module_version": "1.5.0",
      "model_name": "DescriptionStyleModel",
      "state": {
       "_model_module": "@jupyter-widgets/controls",
       "_model_module_version": "1.5.0",
       "_model_name": "DescriptionStyleModel",
       "_view_count": null,
       "_view_module": "@jupyter-widgets/base",
       "_view_module_version": "1.2.0",
       "_view_name": "StyleView",
       "description_width": ""
      }
     },
     "e2d349e9dd4c4ec18eacea175d15cc82": {
      "model_module": "@jupyter-widgets/controls",
      "model_module_version": "1.5.0",
      "model_name": "IntProgressModel",
      "state": {
       "_dom_classes": [],
       "_model_module": "@jupyter-widgets/controls",
       "_model_module_version": "1.5.0",
       "_model_name": "IntProgressModel",
       "_view_count": null,
       "_view_module": "@jupyter-widgets/controls",
       "_view_module_version": "1.5.0",
       "_view_name": "ProgressView",
       "bar_style": "success",
       "description": "Downloading:",
       "description_tooltip": null,
       "layout": "IPY_MODEL_9fffa060643745ecae74a79c59f233c1",
       "max": 4,
       "min": 0,
       "orientation": "horizontal",
       "style": "IPY_MODEL_d5100163f3fb487f83a8611fd6ab2e58",
       "value": 4
      }
     },
     "e3af9c60df524fd18a1d892dadd5635c": {
      "model_module": "@jupyter-widgets/controls",
      "model_module_version": "1.5.0",
      "model_name": "DescriptionStyleModel",
      "state": {
       "_model_module": "@jupyter-widgets/controls",
       "_model_module_version": "1.5.0",
       "_model_name": "DescriptionStyleModel",
       "_view_count": null,
       "_view_module": "@jupyter-widgets/base",
       "_view_module_version": "1.2.0",
       "_view_name": "StyleView",
       "description_width": ""
      }
     },
     "e81b693178234f3f85332d4a9403b81c": {
      "model_module": "@jupyter-widgets/base",
      "model_module_version": "1.2.0",
      "model_name": "LayoutModel",
      "state": {
       "_model_module": "@jupyter-widgets/base",
       "_model_module_version": "1.2.0",
       "_model_name": "LayoutModel",
       "_view_count": null,
       "_view_module": "@jupyter-widgets/base",
       "_view_module_version": "1.2.0",
       "_view_name": "LayoutView",
       "align_content": null,
       "align_items": null,
       "align_self": null,
       "border": null,
       "bottom": null,
       "display": null,
       "flex": null,
       "flex_flow": null,
       "grid_area": null,
       "grid_auto_columns": null,
       "grid_auto_flow": null,
       "grid_auto_rows": null,
       "grid_column": null,
       "grid_gap": null,
       "grid_row": null,
       "grid_template_areas": null,
       "grid_template_columns": null,
       "grid_template_rows": null,
       "height": null,
       "justify_content": null,
       "justify_items": null,
       "left": null,
       "margin": null,
       "max_height": null,
       "max_width": null,
       "min_height": null,
       "min_width": null,
       "object_fit": null,
       "object_position": null,
       "order": null,
       "overflow": null,
       "overflow_x": null,
       "overflow_y": null,
       "padding": null,
       "right": null,
       "top": null,
       "visibility": null,
       "width": null
      }
     },
     "ea11ebdbb0e44dc48242cb06688ce695": {
      "model_module": "@jupyter-widgets/controls",
      "model_module_version": "1.5.0",
      "model_name": "DescriptionStyleModel",
      "state": {
       "_model_module": "@jupyter-widgets/controls",
       "_model_module_version": "1.5.0",
       "_model_name": "DescriptionStyleModel",
       "_view_count": null,
       "_view_module": "@jupyter-widgets/base",
       "_view_module_version": "1.2.0",
       "_view_name": "StyleView",
       "description_width": ""
      }
     },
     "ec45a86849344cee97f2247fdb6fe57a": {
      "model_module": "@jupyter-widgets/base",
      "model_module_version": "1.2.0",
      "model_name": "LayoutModel",
      "state": {
       "_model_module": "@jupyter-widgets/base",
       "_model_module_version": "1.2.0",
       "_model_name": "LayoutModel",
       "_view_count": null,
       "_view_module": "@jupyter-widgets/base",
       "_view_module_version": "1.2.0",
       "_view_name": "LayoutView",
       "align_content": null,
       "align_items": null,
       "align_self": null,
       "border": null,
       "bottom": null,
       "display": null,
       "flex": null,
       "flex_flow": null,
       "grid_area": null,
       "grid_auto_columns": null,
       "grid_auto_flow": null,
       "grid_auto_rows": null,
       "grid_column": null,
       "grid_gap": null,
       "grid_row": null,
       "grid_template_areas": null,
       "grid_template_columns": null,
       "grid_template_rows": null,
       "height": null,
       "justify_content": null,
       "justify_items": null,
       "left": null,
       "margin": null,
       "max_height": null,
       "max_width": null,
       "min_height": null,
       "min_width": null,
       "object_fit": null,
       "object_position": null,
       "order": null,
       "overflow": null,
       "overflow_x": null,
       "overflow_y": null,
       "padding": null,
       "right": null,
       "top": null,
       "visibility": null,
       "width": null
      }
     },
     "ed74429c7bdd46ffb2105541ffb51f7e": {
      "model_module": "@jupyter-widgets/controls",
      "model_module_version": "1.5.0",
      "model_name": "HTMLModel",
      "state": {
       "_dom_classes": [],
       "_model_module": "@jupyter-widgets/controls",
       "_model_module_version": "1.5.0",
       "_model_name": "HTMLModel",
       "_view_count": null,
       "_view_module": "@jupyter-widgets/controls",
       "_view_module_version": "1.5.0",
       "_view_name": "HTMLView",
       "description": "",
       "description_tooltip": null,
       "layout": "IPY_MODEL_a15a8403ff1f4e68ab5613dec2fe5796",
       "placeholder": "​",
       "style": "IPY_MODEL_30880ce3c803474fa44b62dfdb2e9485",
       "value": "<h5><a href=\"https://github.com/jupyter-widgets/ipyleaflet\">jupyter-widgets/ipyleaflet</a></h5>\n<ul>\n<li><a href=\"https://github.com/jupyter-widgets/ipyleaflet/issues/635\">(#635)</a>: <em>SplitMap Control with transparent layers</em> by <strong><a href=\"https://github.com/giswqs\">@giswqs</a></strong></li>\n<li><a href=\"https://github.com/jupyter-widgets/ipyleaflet/issues/638\">(#638)</a>: <em>branca dependency issue</em> by <strong><a href=\"https://github.com/giswqs\">@giswqs</a></strong></li>\n</ul>"
      }
     },
     "ee3f65ae54004780a364c3cbc3333501": {
      "model_module": "@jupyter-widgets/controls",
      "model_module_version": "1.5.0",
      "model_name": "HTMLModel",
      "state": {
       "_dom_classes": [],
       "_model_module": "@jupyter-widgets/controls",
       "_model_module_version": "1.5.0",
       "_model_name": "HTMLModel",
       "_view_count": null,
       "_view_module": "@jupyter-widgets/controls",
       "_view_module_version": "1.5.0",
       "_view_name": "HTMLView",
       "description": "",
       "description_tooltip": null,
       "layout": "IPY_MODEL_4e83e8f4623c4677884d90ca14fc3a25",
       "placeholder": "​",
       "style": "IPY_MODEL_e23f5200920545eaae6b4819017c0fb3",
       "value": "<h4>Closed PRs for repo: <a href=\"https://github.com/jupyter-widgets/widget-ts-cookiecutter\">jupyter-widgets/widget-ts-cookiecutter</a></h4>\n<h5></h5>\n<ul>\n<li><a href=\"https://github.com/jupyter-widgets/widget-ts-cookiecutter/pull/79\">(#79)</a>: <em>Use cookiecutter package name in dev setup</em> by <strong><a href=\"https://github.com/jtpio\">@jtpio</a></strong> merged by <strong><a href=\"https://github.com/martinRenou\">@martinRenou</a></strong></li>\n<li><a href=\"https://github.com/jupyter-widgets/widget-ts-cookiecutter/pull/78\">(#78)</a>: <em>Add eslint and prettier + fix pytest error</em> by <strong><a href=\"https://github.com/ianhi\">@ianhi</a></strong> merged by <strong><a href=\"https://github.com/martinRenou\">@martinRenou</a></strong></li>\n<li><a href=\"https://github.com/jupyter-widgets/widget-ts-cookiecutter/pull/75\">(#75)</a>: <em>don't use strictPropertyInitialization</em> by <strong><a href=\"https://github.com/ianhi\">@ianhi</a></strong> merged by <strong><a href=\"https://github.com/vidartf\">@vidartf</a></strong></li>\n<li><a href=\"https://github.com/jupyter-widgets/widget-ts-cookiecutter/pull/72\">(#72)</a>: <em>Add development install instructions to project</em> by <strong><a href=\"https://github.com/ianhi\">@ianhi</a></strong> merged by <strong><a href=\"https://github.com/martinRenou\">@martinRenou</a></strong></li>\n<li><a href=\"https://github.com/jupyter-widgets/widget-ts-cookiecutter/pull/71\">(#71)</a>: <em>convert hyphens to underscore for python</em> by <strong><a href=\"https://github.com/ianhi\">@ianhi</a></strong> merged by <strong><a href=\"https://github.com/martinRenou\">@martinRenou</a></strong></li>\n<li><a href=\"https://github.com/jupyter-widgets/widget-ts-cookiecutter/pull/69\">(#69)</a>: <em>jlab2 support + fix tests</em> by <strong><a href=\"https://github.com/ianhi\">@ianhi</a></strong> merged by <strong><a href=\"https://github.com/martinRenou\">@martinRenou</a></strong></li>\n<li><a href=\"https://github.com/jupyter-widgets/widget-ts-cookiecutter/pull/60\">(#60)</a>: <em>Add support to JupyterLab 2</em> by <strong><a href=\"https://github.com/martinRenou\">@martinRenou</a></strong> merged by <strong><a href=\"https://github.com/martinRenou\">@martinRenou</a></strong></li>\n</ul>"
      }
     },
     "faf349a2bc8d4fcda1c330d3a0bda6ee": {
      "model_module": "@jupyter-widgets/controls",
      "model_module_version": "1.5.0",
      "model_name": "DescriptionStyleModel",
      "state": {
       "_model_module": "@jupyter-widgets/controls",
       "_model_module_version": "1.5.0",
       "_model_name": "DescriptionStyleModel",
       "_view_count": null,
       "_view_module": "@jupyter-widgets/base",
       "_view_module_version": "1.2.0",
       "_view_name": "StyleView",
       "description_width": ""
      }
     },
     "fbad888ec9b74ca192d94a7309c49ba9": {
      "model_module": "@jupyter-widgets/controls",
      "model_module_version": "1.5.0",
      "model_name": "DescriptionStyleModel",
      "state": {
       "_model_module": "@jupyter-widgets/controls",
       "_model_module_version": "1.5.0",
       "_model_name": "DescriptionStyleModel",
       "_view_count": null,
       "_view_module": "@jupyter-widgets/base",
       "_view_module_version": "1.2.0",
       "_view_name": "StyleView",
       "description_width": ""
      }
     },
     "fd281389223849e1bd6980f7b21d7c02": {
      "model_module": "@jupyter-widgets/controls",
      "model_module_version": "1.5.0",
      "model_name": "DescriptionStyleModel",
      "state": {
       "_model_module": "@jupyter-widgets/controls",
       "_model_module_version": "1.5.0",
       "_model_name": "DescriptionStyleModel",
       "_view_count": null,
       "_view_module": "@jupyter-widgets/base",
       "_view_module_version": "1.2.0",
       "_view_name": "StyleView",
       "description_width": ""
      }
     }
    },
    "version_major": 2,
    "version_minor": 0
   }
  }
 },
 "nbformat": 4,
 "nbformat_minor": 4
}