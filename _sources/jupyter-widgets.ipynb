{
 "cells": [
  {
   "cell_type": "markdown",
   "metadata": {
    "papermill": {
     "duration": 0.038997,
     "end_time": "2020-10-23T01:41:24.701060",
     "exception": false,
     "start_time": "2020-10-23T01:41:24.662063",
     "status": "completed"
    },
    "tags": []
   },
   "source": [
    "# {glue:text}`jupyter-widgets_github_org`\n",
    "\n",
    "**Activity from {glue:}`jupyter-widgets_start` to {glue:}`jupyter-widgets_stop`**"
   ]
  },
  {
   "cell_type": "code",
   "execution_count": 1,
   "metadata": {
    "execution": {
     "iopub.execute_input": "2020-10-23T01:41:24.777216Z",
     "iopub.status.busy": "2020-10-23T01:41:24.776633Z",
     "iopub.status.idle": "2020-10-23T01:41:26.499476Z",
     "shell.execute_reply": "2020-10-23T01:41:26.500334Z"
    },
    "papermill": {
     "duration": 1.76439,
     "end_time": "2020-10-23T01:41:26.500906",
     "exception": false,
     "start_time": "2020-10-23T01:41:24.736516",
     "status": "completed"
    },
    "tags": [
     "remove_cell"
    ]
   },
   "outputs": [],
   "source": [
    "import github_activity as ga\n",
    "from datetime import date\n",
    "from dateutil.relativedelta import relativedelta\n",
    "from myst_nb import glue\n",
    "import seaborn as sns\n",
    "import pandas as pd\n",
    "import numpy as np\n",
    "import altair as alt\n",
    "from markdown import markdown\n",
    "from IPython.display import Markdown\n",
    "from ipywidgets.widgets import HTML, Tab\n",
    "from ipywidgets import widgets\n",
    "from datetime import timedelta\n",
    "from matplotlib import pyplot as plt\n",
    "import os.path as op\n",
    "\n",
    "from warnings import simplefilter\n",
    "simplefilter('ignore')"
   ]
  },
  {
   "cell_type": "code",
   "execution_count": 2,
   "metadata": {
    "execution": {
     "iopub.execute_input": "2020-10-23T01:41:26.581020Z",
     "iopub.status.busy": "2020-10-23T01:41:26.580373Z",
     "iopub.status.idle": "2020-10-23T01:41:26.583862Z",
     "shell.execute_reply": "2020-10-23T01:41:26.583353Z"
    },
    "papermill": {
     "duration": 0.045708,
     "end_time": "2020-10-23T01:41:26.584046",
     "exception": false,
     "start_time": "2020-10-23T01:41:26.538338",
     "status": "completed"
    },
    "tags": [
     "remove_cell"
    ]
   },
   "outputs": [],
   "source": [
    "# Altair config\n",
    "def author_url(author):\n",
    "    return f\"https://github.com/{author}\"\n",
    "\n",
    "def alt_theme():\n",
    "    return {\n",
    "        'config': {\n",
    "            'axisLeft': {\n",
    "                'labelFontSize': 15,\n",
    "            },\n",
    "            'axisBottom': {\n",
    "                'labelFontSize': 15,\n",
    "            },\n",
    "        }\n",
    "    }\n",
    "\n",
    "alt.themes.register('my_theme', alt_theme)\n",
    "alt.themes.enable(\"my_theme\")\n",
    "\n",
    "\n",
    "# Define colors we'll use for GitHub membership\n",
    "author_types = ['MEMBER', 'CONTRIBUTOR', 'COLLABORATOR', \"NONE\"]\n",
    "\n",
    "author_palette = np.array(sns.palettes.blend_palette([\"lightgrey\", \"lightgreen\", \"darkgreen\"], 4)) * 256\n",
    "author_colors = [\"rgb({}, {}, {})\".format(*color) for color in author_palette]\n",
    "author_color_dict = {key: val for key, val in zip(author_types, author_palette)}"
   ]
  },
  {
   "cell_type": "code",
   "execution_count": 3,
   "metadata": {
    "execution": {
     "iopub.execute_input": "2020-10-23T01:41:26.658561Z",
     "iopub.status.busy": "2020-10-23T01:41:26.657922Z",
     "iopub.status.idle": "2020-10-23T01:41:26.660099Z",
     "shell.execute_reply": "2020-10-23T01:41:26.660609Z"
    },
    "papermill": {
     "duration": 0.042655,
     "end_time": "2020-10-23T01:41:26.660826",
     "exception": false,
     "start_time": "2020-10-23T01:41:26.618171",
     "status": "completed"
    },
    "tags": [
     "parameters",
     "hide_input",
     "remove_cell"
    ]
   },
   "outputs": [],
   "source": [
    "github_org = \"jupyterhub\"\n",
    "top_n_repos = 15\n",
    "n_days = 10"
   ]
  },
  {
   "cell_type": "code",
   "execution_count": 4,
   "metadata": {
    "execution": {
     "iopub.execute_input": "2020-10-23T01:41:26.738032Z",
     "iopub.status.busy": "2020-10-23T01:41:26.737411Z",
     "iopub.status.idle": "2020-10-23T01:41:26.739602Z",
     "shell.execute_reply": "2020-10-23T01:41:26.739001Z"
    },
    "papermill": {
     "duration": 0.043236,
     "end_time": "2020-10-23T01:41:26.739771",
     "exception": false,
     "start_time": "2020-10-23T01:41:26.696535",
     "status": "completed"
    },
    "tags": [
     "injected-parameters",
     "remove-cell"
    ]
   },
   "outputs": [],
   "source": [
    "# Parameters\n",
    "github_org = \"jupyter-widgets\"\n",
    "n_days = 60\n"
   ]
  },
  {
   "cell_type": "code",
   "execution_count": 5,
   "metadata": {
    "execution": {
     "iopub.execute_input": "2020-10-23T01:41:26.818942Z",
     "iopub.status.busy": "2020-10-23T01:41:26.818310Z",
     "iopub.status.idle": "2020-10-23T01:41:26.823538Z",
     "shell.execute_reply": "2020-10-23T01:41:26.824024Z"
    },
    "papermill": {
     "duration": 0.050711,
     "end_time": "2020-10-23T01:41:26.824239",
     "exception": false,
     "start_time": "2020-10-23T01:41:26.773528",
     "status": "completed"
    },
    "tags": [
     "remove_cell"
    ]
   },
   "outputs": [
    {
     "data": {
      "application/papermill.record/text/plain": "'jupyter-widgets'"
     },
     "metadata": {
      "scrapbook": {
       "mime_prefix": "application/papermill.record/",
       "name": "jupyter-widgets_github_org"
      }
     },
     "output_type": "display_data"
    },
    {
     "data": {
      "application/papermill.record/text/plain": "'2020-08-24'"
     },
     "metadata": {
      "scrapbook": {
       "mime_prefix": "application/papermill.record/",
       "name": "jupyter-widgets_start"
      }
     },
     "output_type": "display_data"
    },
    {
     "data": {
      "application/papermill.record/text/plain": "'2020-10-23'"
     },
     "metadata": {
      "scrapbook": {
       "mime_prefix": "application/papermill.record/",
       "name": "jupyter-widgets_stop"
      }
     },
     "output_type": "display_data"
    }
   ],
   "source": [
    "############################################################\n",
    "# Variables\n",
    "stop = date.today()\n",
    "start = date.today() - relativedelta(days=n_days)\n",
    "\n",
    "# Strings for use in queries\n",
    "start_date = f\"{start:%Y-%m-%d}\"\n",
    "stop_date = f\"{stop:%Y-%m-%d}\"\n",
    "\n",
    "# Glue variables for use in markdown\n",
    "glue(f\"{github_org}_github_org\", github_org, display=False)\n",
    "glue(f\"{github_org}_start\", start_date, display=False)\n",
    "glue(f\"{github_org}_stop\", stop_date, display=False)"
   ]
  },
  {
   "cell_type": "code",
   "execution_count": 6,
   "metadata": {
    "execution": {
     "iopub.execute_input": "2020-10-23T01:41:26.909418Z",
     "iopub.status.busy": "2020-10-23T01:41:26.908713Z",
     "iopub.status.idle": "2020-10-23T01:41:37.694018Z",
     "shell.execute_reply": "2020-10-23T01:41:37.693054Z"
    },
    "papermill": {
     "duration": 10.833091,
     "end_time": "2020-10-23T01:41:37.694328",
     "exception": false,
     "start_time": "2020-10-23T01:41:26.861237",
     "status": "completed"
    },
    "tags": [
     "remove_cell"
    ]
   },
   "outputs": [
    {
     "name": "stdout",
     "output_type": "stream",
     "text": [
      "Running search query:\n",
      "user:jupyter-widgets\n",
      "\n",
      "\n"
     ]
    },
    {
     "name": "stdout",
     "output_type": "stream",
     "text": [
      "Found 123 items, which will take 3 pages\n"
     ]
    },
    {
     "data": {
      "application/vnd.jupyter.widget-view+json": {
       "model_id": "c7edbbf9a18e4d84a8d3e3c4a83f6387",
       "version_major": 2,
       "version_minor": 0
      },
      "text/plain": [
       "IntProgress(value=0, description='Downloading:', max=3)"
      ]
     },
     "metadata": {},
     "output_type": "display_data"
    },
    {
     "name": "stdout",
     "output_type": "stream",
     "text": [
      "Found 89 items, which will take 2 pages\n"
     ]
    },
    {
     "data": {
      "application/vnd.jupyter.widget-view+json": {
       "model_id": "aca4e7e3c2dc4940a70222b04a871806",
       "version_major": 2,
       "version_minor": 0
      },
      "text/plain": [
       "IntProgress(value=0, description='Downloading:', max=2)"
      ]
     },
     "metadata": {},
     "output_type": "display_data"
    }
   ],
   "source": [
    "############################################################\n",
    "# Fetch the raw data and load data we need\n",
    "raw_data = ga.get_activity(github_org, start_date)\n",
    "bot_names = pd.read_csv('../bot_names.csv')['names'].tolist()\n",
    "data = raw_data.copy()\n",
    "\n",
    "# Prepare our data\n",
    "data[\"kind\"] = data[\"url\"].map(lambda a: \"issue\" if \"issues/\" in a else \"pr\")\n",
    "data[\"mergedBy\"] = data[\"mergedBy\"].map(lambda a: a[\"login\"] if not isinstance(a, (float, type(None))) else None)\n",
    "\n",
    "prs = data.query(\"kind == 'pr'\")\n",
    "issues = data.query(\"kind == 'issue'\")\n",
    "\n",
    "# Pull out the comments\n",
    "comments = []\n",
    "for _, irow in data.iterrows():\n",
    "    for icomment in irow['comments']['edges']:\n",
    "        icomment = icomment[\"node\"].copy()\n",
    "        icomment[\"author\"] = icomment[\"author\"][\"login\"] if icomment[\"author\"] else None\n",
    "        icomment[\"org\"] = irow[\"org\"]\n",
    "        icomment[\"repo\"] = irow[\"repo\"]\n",
    "        icomment[\"id\"] = irow[\"id\"]\n",
    "        comments.append(pd.Series(icomment))\n",
    "comments = pd.DataFrame(comments)\n",
    "\n",
    "# Clean up\n",
    "for idata in [prs, comments, issues]:\n",
    "    idata.query(\"author not in @bot_names\", inplace=True)\n",
    "    idata.drop_duplicates(subset=[\"url\"], inplace=True)\n",
    "\n",
    "# What are the top N repos, we will only plot these in the full data plots\n",
    "top_commented_repos = comments.groupby(\"repo\").count().sort_values(\"createdAt\", ascending=False)['createdAt']\n",
    "use_repos = top_commented_repos.head(top_n_repos).index.tolist()"
   ]
  },
  {
   "cell_type": "markdown",
   "metadata": {
    "papermill": {
     "duration": 0.04432,
     "end_time": "2020-10-23T01:41:37.779225",
     "exception": false,
     "start_time": "2020-10-23T01:41:37.734905",
     "status": "completed"
    },
    "tags": [
     "remove_cell"
    ]
   },
   "source": [
    "## Save the data to disk"
   ]
  },
  {
   "cell_type": "code",
   "execution_count": 7,
   "metadata": {
    "execution": {
     "iopub.execute_input": "2020-10-23T01:41:37.861911Z",
     "iopub.status.busy": "2020-10-23T01:41:37.861268Z",
     "iopub.status.idle": "2020-10-23T01:41:38.342570Z",
     "shell.execute_reply": "2020-10-23T01:41:38.341763Z"
    },
    "papermill": {
     "duration": 0.525045,
     "end_time": "2020-10-23T01:41:38.342764",
     "exception": false,
     "start_time": "2020-10-23T01:41:37.817719",
     "status": "completed"
    },
    "tags": [
     "remove_cell"
    ]
   },
   "outputs": [],
   "source": [
    "from pathlib import Path\n",
    "for name, idata in [(\"comments\", comments), (\"prs\", prs), (\"issues\", issues)]:\n",
    "    path_data = Path(f\"./{name}.csv\")\n",
    "    if path_data.exists():\n",
    "        idata = pd.read_csv(path_data).append(idata)\n",
    "    idata = idata.drop_duplicates(subset=[\"url\"])\n",
    "    idata.to_csv(path_data, index=None)"
   ]
  },
  {
   "cell_type": "markdown",
   "metadata": {
    "papermill": {
     "duration": 0.037882,
     "end_time": "2020-10-23T01:41:38.419711",
     "exception": false,
     "start_time": "2020-10-23T01:41:38.381829",
     "status": "completed"
    },
    "tags": [],
    "toc-hr-collapsed": false
   },
   "source": [
    "## Merged Pull requests\n",
    "\n",
    "Here's an analysis of **merged pull requests** across each of the repositories in the Jupyter\n",
    "ecosystem."
   ]
  },
  {
   "cell_type": "code",
   "execution_count": 8,
   "metadata": {
    "execution": {
     "iopub.execute_input": "2020-10-23T01:41:38.505534Z",
     "iopub.status.busy": "2020-10-23T01:41:38.504894Z",
     "iopub.status.idle": "2020-10-23T01:41:38.509244Z",
     "shell.execute_reply": "2020-10-23T01:41:38.508739Z"
    },
    "papermill": {
     "duration": 0.052395,
     "end_time": "2020-10-23T01:41:38.509439",
     "exception": false,
     "start_time": "2020-10-23T01:41:38.457044",
     "status": "completed"
    },
    "tags": [
     "remove_cell"
    ]
   },
   "outputs": [],
   "source": [
    "merged = prs.query('state == \"MERGED\" and closedAt > @start_date and closedAt < @stop_date')"
   ]
  },
  {
   "cell_type": "code",
   "execution_count": 9,
   "metadata": {
    "execution": {
     "iopub.execute_input": "2020-10-23T01:41:38.612123Z",
     "iopub.status.busy": "2020-10-23T01:41:38.596191Z",
     "iopub.status.idle": "2020-10-23T01:41:38.628656Z",
     "shell.execute_reply": "2020-10-23T01:41:38.629252Z"
    },
    "papermill": {
     "duration": 0.081354,
     "end_time": "2020-10-23T01:41:38.629496",
     "exception": false,
     "start_time": "2020-10-23T01:41:38.548142",
     "status": "completed"
    },
    "tags": [
     "hide_input"
    ]
   },
   "outputs": [
    {
     "data": {
      "text/html": [
       "\n",
       "<div id=\"altair-viz-40b215d4d68149c387233fc3efa5c58d\"></div>\n",
       "<script type=\"text/javascript\">\n",
       "  (function(spec, embedOpt){\n",
       "    let outputDiv = document.currentScript.previousElementSibling;\n",
       "    if (outputDiv.id !== \"altair-viz-40b215d4d68149c387233fc3efa5c58d\") {\n",
       "      outputDiv = document.getElementById(\"altair-viz-40b215d4d68149c387233fc3efa5c58d\");\n",
       "    }\n",
       "    const paths = {\n",
       "      \"vega\": \"https://cdn.jsdelivr.net/npm//vega@5?noext\",\n",
       "      \"vega-lib\": \"https://cdn.jsdelivr.net/npm//vega-lib?noext\",\n",
       "      \"vega-lite\": \"https://cdn.jsdelivr.net/npm//vega-lite@4.8.1?noext\",\n",
       "      \"vega-embed\": \"https://cdn.jsdelivr.net/npm//vega-embed@6?noext\",\n",
       "    };\n",
       "\n",
       "    function loadScript(lib) {\n",
       "      return new Promise(function(resolve, reject) {\n",
       "        var s = document.createElement('script');\n",
       "        s.src = paths[lib];\n",
       "        s.async = true;\n",
       "        s.onload = () => resolve(paths[lib]);\n",
       "        s.onerror = () => reject(`Error loading script: ${paths[lib]}`);\n",
       "        document.getElementsByTagName(\"head\")[0].appendChild(s);\n",
       "      });\n",
       "    }\n",
       "\n",
       "    function showError(err) {\n",
       "      outputDiv.innerHTML = `<div class=\"error\" style=\"color:red;\">${err}</div>`;\n",
       "      throw err;\n",
       "    }\n",
       "\n",
       "    function displayChart(vegaEmbed) {\n",
       "      vegaEmbed(outputDiv, spec, embedOpt)\n",
       "        .catch(err => showError(`Javascript Error: ${err.message}<br>This usually means there's a typo in your chart specification. See the javascript console for the full traceback.`));\n",
       "    }\n",
       "\n",
       "    if(typeof define === \"function\" && define.amd) {\n",
       "      requirejs.config({paths});\n",
       "      require([\"vega-embed\"], displayChart, err => showError(`Error loading script: ${err.message}`));\n",
       "    } else if (typeof vegaEmbed === \"function\") {\n",
       "      displayChart(vegaEmbed);\n",
       "    } else {\n",
       "      loadScript(\"vega\")\n",
       "        .then(() => loadScript(\"vega-lite\"))\n",
       "        .then(() => loadScript(\"vega-embed\"))\n",
       "        .catch(showError)\n",
       "        .then(() => displayChart(vegaEmbed));\n",
       "    }\n",
       "  })({\"config\": {\"axisLeft\": {\"labelFontSize\": 15}, \"axisBottom\": {\"labelFontSize\": 15}}, \"data\": {\"name\": \"data-64dfc9a6b135b8b1bddd90a532dbd738\"}, \"mark\": \"bar\", \"encoding\": {\"color\": {\"type\": \"nominal\", \"field\": \"org\"}, \"x\": {\"type\": \"nominal\", \"field\": \"repo\", \"sort\": [\"ipyleaflet\", \"ipywidgets\", \"widget-cookiecutter\", \"pythreejs\", \"tutorial\"]}, \"y\": {\"type\": \"quantitative\", \"field\": \"author\"}}, \"title\": \"Merged PRs in the last 60 days\", \"$schema\": \"https://vega.github.io/schema/vega-lite/v4.8.1.json\", \"datasets\": {\"data-64dfc9a6b135b8b1bddd90a532dbd738\": [{\"org\": \"jupyter-widgets\", \"repo\": \"ipyleaflet\", \"author\": 22}, {\"org\": \"jupyter-widgets\", \"repo\": \"ipywidgets\", \"author\": 12}, {\"org\": \"jupyter-widgets\", \"repo\": \"widget-cookiecutter\", \"author\": 2}, {\"org\": \"jupyter-widgets\", \"repo\": \"pythreejs\", \"author\": 1}, {\"org\": \"jupyter-widgets\", \"repo\": \"tutorial\", \"author\": 1}]}}, {\"mode\": \"vega-lite\"});\n",
       "</script>"
      ],
      "text/plain": [
       "alt.Chart(...)"
      ]
     },
     "execution_count": 9,
     "metadata": {},
     "output_type": "execute_result"
    }
   ],
   "source": [
    "prs_by_repo = merged.groupby(['org', 'repo']).count()['author'].reset_index().sort_values(['org', 'author'], ascending=False)\n",
    "alt.Chart(data=prs_by_repo, title=f\"Merged PRs in the last {n_days} days\").mark_bar().encode(\n",
    "    x=alt.X('repo', sort=prs_by_repo['repo'].values.tolist()),\n",
    "    y='author',\n",
    "    color='org'\n",
    ")"
   ]
  },
  {
   "cell_type": "markdown",
   "metadata": {
    "papermill": {
     "duration": 0.03852,
     "end_time": "2020-10-23T01:41:38.708113",
     "exception": false,
     "start_time": "2020-10-23T01:41:38.669593",
     "status": "completed"
    },
    "tags": []
   },
   "source": [
    "### Authoring and merging stats by repository\n",
    "\n",
    "Let's see who has been doing most of the PR authoring and merging. The PR author is generally the\n",
    "person that implemented a change in the repository (code, documentation, etc). The PR merger is\n",
    "the person that \"pressed the green button\" and got the change into the main codebase."
   ]
  },
  {
   "cell_type": "code",
   "execution_count": 10,
   "metadata": {
    "execution": {
     "iopub.execute_input": "2020-10-23T01:41:38.805155Z",
     "iopub.status.busy": "2020-10-23T01:41:38.804252Z",
     "iopub.status.idle": "2020-10-23T01:41:38.805920Z",
     "shell.execute_reply": "2020-10-23T01:41:38.806431Z"
    },
    "papermill": {
     "duration": 0.059697,
     "end_time": "2020-10-23T01:41:38.806674",
     "exception": false,
     "start_time": "2020-10-23T01:41:38.746977",
     "status": "completed"
    },
    "tags": [
     "remove_cell"
    ]
   },
   "outputs": [],
   "source": [
    "# Prep our merging DF\n",
    "merged_by_repo = merged.groupby(['repo', 'author'], as_index=False).agg({'id': 'count', 'authorAssociation': 'first'}).rename(columns={'id': \"authored\", 'author': 'username'})\n",
    "closed_by_repo = merged.groupby(['repo', 'mergedBy']).count()['id'].reset_index().rename(columns={'id': \"closed\", \"mergedBy\": \"username\"})"
   ]
  },
  {
   "cell_type": "code",
   "execution_count": 11,
   "metadata": {
    "execution": {
     "iopub.execute_input": "2020-10-23T01:41:39.068452Z",
     "iopub.status.busy": "2020-10-23T01:41:39.060995Z",
     "iopub.status.idle": "2020-10-23T01:41:39.072512Z",
     "shell.execute_reply": "2020-10-23T01:41:39.072959Z"
    },
    "papermill": {
     "duration": 0.224775,
     "end_time": "2020-10-23T01:41:39.073183",
     "exception": false,
     "start_time": "2020-10-23T01:41:38.848408",
     "status": "completed"
    },
    "tags": [
     "hide_input"
    ]
   },
   "outputs": [
    {
     "data": {
      "text/html": [
       "\n",
       "<div id=\"altair-viz-986fc315b17c4571802a657ea5caf283\"></div>\n",
       "<script type=\"text/javascript\">\n",
       "  (function(spec, embedOpt){\n",
       "    let outputDiv = document.currentScript.previousElementSibling;\n",
       "    if (outputDiv.id !== \"altair-viz-986fc315b17c4571802a657ea5caf283\") {\n",
       "      outputDiv = document.getElementById(\"altair-viz-986fc315b17c4571802a657ea5caf283\");\n",
       "    }\n",
       "    const paths = {\n",
       "      \"vega\": \"https://cdn.jsdelivr.net/npm//vega@5?noext\",\n",
       "      \"vega-lib\": \"https://cdn.jsdelivr.net/npm//vega-lib?noext\",\n",
       "      \"vega-lite\": \"https://cdn.jsdelivr.net/npm//vega-lite@4.8.1?noext\",\n",
       "      \"vega-embed\": \"https://cdn.jsdelivr.net/npm//vega-embed@6?noext\",\n",
       "    };\n",
       "\n",
       "    function loadScript(lib) {\n",
       "      return new Promise(function(resolve, reject) {\n",
       "        var s = document.createElement('script');\n",
       "        s.src = paths[lib];\n",
       "        s.async = true;\n",
       "        s.onload = () => resolve(paths[lib]);\n",
       "        s.onerror = () => reject(`Error loading script: ${paths[lib]}`);\n",
       "        document.getElementsByTagName(\"head\")[0].appendChild(s);\n",
       "      });\n",
       "    }\n",
       "\n",
       "    function showError(err) {\n",
       "      outputDiv.innerHTML = `<div class=\"error\" style=\"color:red;\">${err}</div>`;\n",
       "      throw err;\n",
       "    }\n",
       "\n",
       "    function displayChart(vegaEmbed) {\n",
       "      vegaEmbed(outputDiv, spec, embedOpt)\n",
       "        .catch(err => showError(`Javascript Error: ${err.message}<br>This usually means there's a typo in your chart specification. See the javascript console for the full traceback.`));\n",
       "    }\n",
       "\n",
       "    if(typeof define === \"function\" && define.amd) {\n",
       "      requirejs.config({paths});\n",
       "      require([\"vega-embed\"], displayChart, err => showError(`Error loading script: ${err.message}`));\n",
       "    } else if (typeof vegaEmbed === \"function\") {\n",
       "      displayChart(vegaEmbed);\n",
       "    } else {\n",
       "      loadScript(\"vega\")\n",
       "        .then(() => loadScript(\"vega-lite\"))\n",
       "        .then(() => loadScript(\"vega-embed\"))\n",
       "        .catch(showError)\n",
       "        .then(() => displayChart(vegaEmbed));\n",
       "    }\n",
       "  })({\"config\": {\"axisLeft\": {\"labelFontSize\": 15}, \"axisBottom\": {\"labelFontSize\": 15}}, \"data\": {\"name\": \"data-188d401b95c3c0f9c57d428d216a7bf4\"}, \"mark\": \"bar\", \"encoding\": {\"color\": {\"type\": \"nominal\", \"field\": \"authorAssociation\", \"scale\": {\"domain\": [\"MEMBER\", \"CONTRIBUTOR\", \"COLLABORATOR\", \"NONE\"], \"range\": [\"rgb(211.82745098039214, 211.82745098039214, 211.82745098039214)\", \"rgb(166.98562091503268, 229.89803921568628, 166.98562091503268)\", \"rgb(96.37647058823529, 192.75294117647059, 96.37647058823529)\", \"rgb(0.0, 100.3921568627451, 0.0)\"]}}, \"x\": {\"type\": \"nominal\", \"field\": \"username\"}, \"y\": {\"type\": \"quantitative\", \"field\": \"authored\"}}, \"title\": \"PR authors for jupyter-widgets in the last 60 days\", \"$schema\": \"https://vega.github.io/schema/vega-lite/v4.8.1.json\", \"datasets\": {\"data-188d401b95c3c0f9c57d428d216a7bf4\": [{\"username\": \"martinRenou\", \"authored\": 7, \"authorAssociation\": \"MEMBER\"}, {\"username\": \"dependabot\", \"authored\": 6, \"authorAssociation\": \"CONTRIBUTOR\"}, {\"username\": \"jasongrout\", \"authored\": 6, \"authorAssociation\": \"MEMBER\"}, {\"username\": \"sackh\", \"authored\": 4, \"authorAssociation\": \"CONTRIBUTOR\"}, {\"username\": \"davidbrochart\", \"authored\": 3, \"authorAssociation\": \"MEMBER\"}, {\"username\": \"deeplook\", \"authored\": 2, \"authorAssociation\": \"CONTRIBUTOR\"}, {\"username\": \"jtpio\", \"authored\": 2, \"authorAssociation\": \"MEMBER\"}, {\"username\": \"omanges\", \"authored\": 2, \"authorAssociation\": \"CONTRIBUTOR\"}, {\"username\": \"banjaxedben\", \"authored\": 1, \"authorAssociation\": \"CONTRIBUTOR\"}, {\"username\": \"drf5n\", \"authored\": 1, \"authorAssociation\": \"CONTRIBUTOR\"}, {\"username\": \"ianhi\", \"authored\": 1, \"authorAssociation\": \"CONTRIBUTOR\"}, {\"username\": \"maartenbreddels\", \"authored\": 1, \"authorAssociation\": \"MEMBER\"}, {\"username\": \"vidartf\", \"authored\": 1, \"authorAssociation\": \"MEMBER\"}, {\"username\": \"xiangmeng4geo\", \"authored\": 1, \"authorAssociation\": \"CONTRIBUTOR\"}]}}, {\"mode\": \"vega-lite\"});\n",
       "</script>"
      ],
      "text/plain": [
       "alt.Chart(...)"
      ]
     },
     "execution_count": 11,
     "metadata": {},
     "output_type": "execute_result"
    }
   ],
   "source": [
    "charts = []\n",
    "title = f\"PR authors for {github_org} in the last {n_days} days\"\n",
    "this_data = merged_by_repo.replace(np.nan, 0).groupby('username', as_index=False).agg({'authored': 'sum', 'authorAssociation': 'first'})\n",
    "this_data = this_data.sort_values('authored', ascending=False)\n",
    "ch = alt.Chart(data=this_data, title=title).mark_bar().encode(\n",
    "    x='username',\n",
    "    y='authored',\n",
    "    color=alt.Color('authorAssociation', scale=alt.Scale(domain=author_types, range=author_colors))\n",
    ")\n",
    "ch"
   ]
  },
  {
   "cell_type": "code",
   "execution_count": 12,
   "metadata": {
    "execution": {
     "iopub.execute_input": "2020-10-23T01:41:39.178160Z",
     "iopub.status.busy": "2020-10-23T01:41:39.175131Z",
     "iopub.status.idle": "2020-10-23T01:41:39.180946Z",
     "shell.execute_reply": "2020-10-23T01:41:39.181448Z"
    },
    "papermill": {
     "duration": 0.066468,
     "end_time": "2020-10-23T01:41:39.181676",
     "exception": false,
     "start_time": "2020-10-23T01:41:39.115208",
     "status": "completed"
    },
    "tags": [
     "hide_input"
    ]
   },
   "outputs": [
    {
     "data": {
      "text/html": [
       "\n",
       "<div id=\"altair-viz-0182d0a9541c48bb861f682d3a1f4568\"></div>\n",
       "<script type=\"text/javascript\">\n",
       "  (function(spec, embedOpt){\n",
       "    let outputDiv = document.currentScript.previousElementSibling;\n",
       "    if (outputDiv.id !== \"altair-viz-0182d0a9541c48bb861f682d3a1f4568\") {\n",
       "      outputDiv = document.getElementById(\"altair-viz-0182d0a9541c48bb861f682d3a1f4568\");\n",
       "    }\n",
       "    const paths = {\n",
       "      \"vega\": \"https://cdn.jsdelivr.net/npm//vega@5?noext\",\n",
       "      \"vega-lib\": \"https://cdn.jsdelivr.net/npm//vega-lib?noext\",\n",
       "      \"vega-lite\": \"https://cdn.jsdelivr.net/npm//vega-lite@4.8.1?noext\",\n",
       "      \"vega-embed\": \"https://cdn.jsdelivr.net/npm//vega-embed@6?noext\",\n",
       "    };\n",
       "\n",
       "    function loadScript(lib) {\n",
       "      return new Promise(function(resolve, reject) {\n",
       "        var s = document.createElement('script');\n",
       "        s.src = paths[lib];\n",
       "        s.async = true;\n",
       "        s.onload = () => resolve(paths[lib]);\n",
       "        s.onerror = () => reject(`Error loading script: ${paths[lib]}`);\n",
       "        document.getElementsByTagName(\"head\")[0].appendChild(s);\n",
       "      });\n",
       "    }\n",
       "\n",
       "    function showError(err) {\n",
       "      outputDiv.innerHTML = `<div class=\"error\" style=\"color:red;\">${err}</div>`;\n",
       "      throw err;\n",
       "    }\n",
       "\n",
       "    function displayChart(vegaEmbed) {\n",
       "      vegaEmbed(outputDiv, spec, embedOpt)\n",
       "        .catch(err => showError(`Javascript Error: ${err.message}<br>This usually means there's a typo in your chart specification. See the javascript console for the full traceback.`));\n",
       "    }\n",
       "\n",
       "    if(typeof define === \"function\" && define.amd) {\n",
       "      requirejs.config({paths});\n",
       "      require([\"vega-embed\"], displayChart, err => showError(`Error loading script: ${err.message}`));\n",
       "    } else if (typeof vegaEmbed === \"function\") {\n",
       "      displayChart(vegaEmbed);\n",
       "    } else {\n",
       "      loadScript(\"vega\")\n",
       "        .then(() => loadScript(\"vega-lite\"))\n",
       "        .then(() => loadScript(\"vega-embed\"))\n",
       "        .catch(showError)\n",
       "        .then(() => displayChart(vegaEmbed));\n",
       "    }\n",
       "  })({\"config\": {\"axisLeft\": {\"labelFontSize\": 15}, \"axisBottom\": {\"labelFontSize\": 15}}, \"data\": {\"name\": \"data-1dea1b9cc4391183a1ba9029fdf2572d\"}, \"mark\": \"bar\", \"encoding\": {\"x\": {\"type\": \"nominal\", \"field\": \"username\"}, \"y\": {\"type\": \"quantitative\", \"field\": \"closed\"}}, \"title\": \"Merges for jupyter-widgets in the last 60 days\", \"$schema\": \"https://vega.github.io/schema/vega-lite/v4.8.1.json\", \"datasets\": {\"data-1dea1b9cc4391183a1ba9029fdf2572d\": [{\"repo\": \"ipyleaflet\", \"username\": \"davidbrochart\", \"closed\": 3}, {\"repo\": \"ipyleaflet\", \"username\": \"martinRenou\", \"closed\": 19}, {\"repo\": \"ipywidgets\", \"username\": \"SylvainCorlay\", \"closed\": 1}, {\"repo\": \"ipywidgets\", \"username\": \"jasongrout\", \"closed\": 6}, {\"repo\": \"ipywidgets\", \"username\": \"vidartf\", \"closed\": 5}, {\"repo\": \"pythreejs\", \"username\": \"vidartf\", \"closed\": 1}, {\"repo\": \"tutorial\", \"username\": \"martinRenou\", \"closed\": 1}, {\"repo\": \"widget-cookiecutter\", \"username\": \"martinRenou\", \"closed\": 2}]}}, {\"mode\": \"vega-lite\"});\n",
       "</script>"
      ],
      "text/plain": [
       "alt.Chart(...)"
      ]
     },
     "execution_count": 12,
     "metadata": {},
     "output_type": "execute_result"
    }
   ],
   "source": [
    "charts = []\n",
    "title = f\"Merges for {github_org} in the last {n_days} days\"\n",
    "ch = alt.Chart(data=closed_by_repo.replace(np.nan, 0), title=title).mark_bar().encode(\n",
    "    x='username',\n",
    "    y='closed',\n",
    ")\n",
    "ch"
   ]
  },
  {
   "cell_type": "markdown",
   "metadata": {
    "papermill": {
     "duration": 0.040339,
     "end_time": "2020-10-23T01:41:39.262768",
     "exception": false,
     "start_time": "2020-10-23T01:41:39.222429",
     "status": "completed"
    },
    "tags": []
   },
   "source": [
    "## Issues\n",
    "\n",
    "Issues are **conversations** that happen on our GitHub repositories. Here's an\n",
    "analysis of issues across the Jupyter organizations."
   ]
  },
  {
   "cell_type": "code",
   "execution_count": 13,
   "metadata": {
    "execution": {
     "iopub.execute_input": "2020-10-23T01:41:39.355957Z",
     "iopub.status.busy": "2020-10-23T01:41:39.355294Z",
     "iopub.status.idle": "2020-10-23T01:41:39.357130Z",
     "shell.execute_reply": "2020-10-23T01:41:39.357610Z"
    },
    "papermill": {
     "duration": 0.055366,
     "end_time": "2020-10-23T01:41:39.357817",
     "exception": false,
     "start_time": "2020-10-23T01:41:39.302451",
     "status": "completed"
    },
    "tags": [
     "remove_cell"
    ]
   },
   "outputs": [],
   "source": [
    "created = issues.query('state == \"OPEN\" and createdAt > @start_date and createdAt < @stop_date')\n",
    "closed = issues.query('state == \"CLOSED\" and closedAt > @start_date and closedAt < @stop_date')"
   ]
  },
  {
   "cell_type": "code",
   "execution_count": 14,
   "metadata": {
    "execution": {
     "iopub.execute_input": "2020-10-23T01:41:39.457331Z",
     "iopub.status.busy": "2020-10-23T01:41:39.455848Z",
     "iopub.status.idle": "2020-10-23T01:41:39.476118Z",
     "shell.execute_reply": "2020-10-23T01:41:39.476872Z"
    },
    "papermill": {
     "duration": 0.077726,
     "end_time": "2020-10-23T01:41:39.477229",
     "exception": false,
     "start_time": "2020-10-23T01:41:39.399503",
     "status": "completed"
    },
    "tags": [
     "hide_input"
    ]
   },
   "outputs": [
    {
     "data": {
      "text/html": [
       "\n",
       "<div id=\"altair-viz-2df306259fb84888a3250f6bbe8a6c98\"></div>\n",
       "<script type=\"text/javascript\">\n",
       "  (function(spec, embedOpt){\n",
       "    let outputDiv = document.currentScript.previousElementSibling;\n",
       "    if (outputDiv.id !== \"altair-viz-2df306259fb84888a3250f6bbe8a6c98\") {\n",
       "      outputDiv = document.getElementById(\"altair-viz-2df306259fb84888a3250f6bbe8a6c98\");\n",
       "    }\n",
       "    const paths = {\n",
       "      \"vega\": \"https://cdn.jsdelivr.net/npm//vega@5?noext\",\n",
       "      \"vega-lib\": \"https://cdn.jsdelivr.net/npm//vega-lib?noext\",\n",
       "      \"vega-lite\": \"https://cdn.jsdelivr.net/npm//vega-lite@4.8.1?noext\",\n",
       "      \"vega-embed\": \"https://cdn.jsdelivr.net/npm//vega-embed@6?noext\",\n",
       "    };\n",
       "\n",
       "    function loadScript(lib) {\n",
       "      return new Promise(function(resolve, reject) {\n",
       "        var s = document.createElement('script');\n",
       "        s.src = paths[lib];\n",
       "        s.async = true;\n",
       "        s.onload = () => resolve(paths[lib]);\n",
       "        s.onerror = () => reject(`Error loading script: ${paths[lib]}`);\n",
       "        document.getElementsByTagName(\"head\")[0].appendChild(s);\n",
       "      });\n",
       "    }\n",
       "\n",
       "    function showError(err) {\n",
       "      outputDiv.innerHTML = `<div class=\"error\" style=\"color:red;\">${err}</div>`;\n",
       "      throw err;\n",
       "    }\n",
       "\n",
       "    function displayChart(vegaEmbed) {\n",
       "      vegaEmbed(outputDiv, spec, embedOpt)\n",
       "        .catch(err => showError(`Javascript Error: ${err.message}<br>This usually means there's a typo in your chart specification. See the javascript console for the full traceback.`));\n",
       "    }\n",
       "\n",
       "    if(typeof define === \"function\" && define.amd) {\n",
       "      requirejs.config({paths});\n",
       "      require([\"vega-embed\"], displayChart, err => showError(`Error loading script: ${err.message}`));\n",
       "    } else if (typeof vegaEmbed === \"function\") {\n",
       "      displayChart(vegaEmbed);\n",
       "    } else {\n",
       "      loadScript(\"vega\")\n",
       "        .then(() => loadScript(\"vega-lite\"))\n",
       "        .then(() => loadScript(\"vega-embed\"))\n",
       "        .catch(showError)\n",
       "        .then(() => displayChart(vegaEmbed));\n",
       "    }\n",
       "  })({\"config\": {\"axisLeft\": {\"labelFontSize\": 15}, \"axisBottom\": {\"labelFontSize\": 15}}, \"data\": {\"name\": \"data-75c4de92ed58336df293fe5948d6ad2f\"}, \"mark\": \"bar\", \"encoding\": {\"x\": {\"type\": \"nominal\", \"field\": \"repo\", \"sort\": [\"ipywidgets\", \"ipyleaflet\", \"jupyterlab-sidecar\", \"traittypes\", \"widget-cookiecutter\"]}, \"y\": {\"type\": \"quantitative\", \"field\": \"number\"}}, \"title\": \"Issues created in the last 60 days\", \"$schema\": \"https://vega.github.io/schema/vega-lite/v4.8.1.json\", \"datasets\": {\"data-75c4de92ed58336df293fe5948d6ad2f\": [{\"org\": \"jupyter-widgets\", \"repo\": \"ipyleaflet\", \"number\": 17, \"org/repo\": \"jupyter-widgets/ipyleaflet\"}, {\"org\": \"jupyter-widgets\", \"repo\": \"ipywidgets\", \"number\": 21, \"org/repo\": \"jupyter-widgets/ipywidgets\"}, {\"org\": \"jupyter-widgets\", \"repo\": \"jupyterlab-sidecar\", \"number\": 1, \"org/repo\": \"jupyter-widgets/jupyterlab-sidecar\"}, {\"org\": \"jupyter-widgets\", \"repo\": \"traittypes\", \"number\": 1, \"org/repo\": \"jupyter-widgets/traittypes\"}, {\"org\": \"jupyter-widgets\", \"repo\": \"widget-cookiecutter\", \"number\": 1, \"org/repo\": \"jupyter-widgets/widget-cookiecutter\"}]}}, {\"mode\": \"vega-lite\"});\n",
       "</script>"
      ],
      "text/plain": [
       "alt.Chart(...)"
      ]
     },
     "execution_count": 14,
     "metadata": {},
     "output_type": "execute_result"
    }
   ],
   "source": [
    "created_counts = created.groupby(['org', 'repo']).count()['number'].reset_index()\n",
    "created_counts['org/repo'] = created_counts.apply(lambda a: a['org'] + '/' + a['repo'], axis=1)\n",
    "sorted_vals = created_counts.sort_values(['org', 'number'], ascending=False)['repo'].values\n",
    "alt.Chart(data=created_counts, title=f\"Issues created in the last {n_days} days\").mark_bar().encode(\n",
    "    x=alt.X('repo', sort=alt.Sort(sorted_vals.tolist())),\n",
    "    y='number',\n",
    ")"
   ]
  },
  {
   "cell_type": "code",
   "execution_count": 15,
   "metadata": {
    "execution": {
     "iopub.execute_input": "2020-10-23T01:41:39.591825Z",
     "iopub.status.busy": "2020-10-23T01:41:39.591073Z",
     "iopub.status.idle": "2020-10-23T01:41:39.593616Z",
     "shell.execute_reply": "2020-10-23T01:41:39.594093Z"
    },
    "papermill": {
     "duration": 0.073635,
     "end_time": "2020-10-23T01:41:39.594318",
     "exception": false,
     "start_time": "2020-10-23T01:41:39.520683",
     "status": "completed"
    },
    "tags": [
     "hide_input"
    ]
   },
   "outputs": [
    {
     "data": {
      "text/html": [
       "\n",
       "<div id=\"altair-viz-11f7d0b36c0544de99142938c9711ecd\"></div>\n",
       "<script type=\"text/javascript\">\n",
       "  (function(spec, embedOpt){\n",
       "    let outputDiv = document.currentScript.previousElementSibling;\n",
       "    if (outputDiv.id !== \"altair-viz-11f7d0b36c0544de99142938c9711ecd\") {\n",
       "      outputDiv = document.getElementById(\"altair-viz-11f7d0b36c0544de99142938c9711ecd\");\n",
       "    }\n",
       "    const paths = {\n",
       "      \"vega\": \"https://cdn.jsdelivr.net/npm//vega@5?noext\",\n",
       "      \"vega-lib\": \"https://cdn.jsdelivr.net/npm//vega-lib?noext\",\n",
       "      \"vega-lite\": \"https://cdn.jsdelivr.net/npm//vega-lite@4.8.1?noext\",\n",
       "      \"vega-embed\": \"https://cdn.jsdelivr.net/npm//vega-embed@6?noext\",\n",
       "    };\n",
       "\n",
       "    function loadScript(lib) {\n",
       "      return new Promise(function(resolve, reject) {\n",
       "        var s = document.createElement('script');\n",
       "        s.src = paths[lib];\n",
       "        s.async = true;\n",
       "        s.onload = () => resolve(paths[lib]);\n",
       "        s.onerror = () => reject(`Error loading script: ${paths[lib]}`);\n",
       "        document.getElementsByTagName(\"head\")[0].appendChild(s);\n",
       "      });\n",
       "    }\n",
       "\n",
       "    function showError(err) {\n",
       "      outputDiv.innerHTML = `<div class=\"error\" style=\"color:red;\">${err}</div>`;\n",
       "      throw err;\n",
       "    }\n",
       "\n",
       "    function displayChart(vegaEmbed) {\n",
       "      vegaEmbed(outputDiv, spec, embedOpt)\n",
       "        .catch(err => showError(`Javascript Error: ${err.message}<br>This usually means there's a typo in your chart specification. See the javascript console for the full traceback.`));\n",
       "    }\n",
       "\n",
       "    if(typeof define === \"function\" && define.amd) {\n",
       "      requirejs.config({paths});\n",
       "      require([\"vega-embed\"], displayChart, err => showError(`Error loading script: ${err.message}`));\n",
       "    } else if (typeof vegaEmbed === \"function\") {\n",
       "      displayChart(vegaEmbed);\n",
       "    } else {\n",
       "      loadScript(\"vega\")\n",
       "        .then(() => loadScript(\"vega-lite\"))\n",
       "        .then(() => loadScript(\"vega-embed\"))\n",
       "        .catch(showError)\n",
       "        .then(() => displayChart(vegaEmbed));\n",
       "    }\n",
       "  })({\"config\": {\"axisLeft\": {\"labelFontSize\": 15}, \"axisBottom\": {\"labelFontSize\": 15}}, \"data\": {\"name\": \"data-4d34bbe9b3f64eaec41d35f4a833a79c\"}, \"mark\": \"bar\", \"encoding\": {\"x\": {\"type\": \"nominal\", \"field\": \"repo\", \"sort\": [\"ipyleaflet\", \"ipywidgets\", \"pythreejs\", \"widget-cookiecutter\"]}, \"y\": {\"type\": \"quantitative\", \"field\": \"number\"}}, \"title\": \"Issues closed in the last 60 days\", \"$schema\": \"https://vega.github.io/schema/vega-lite/v4.8.1.json\", \"datasets\": {\"data-4d34bbe9b3f64eaec41d35f4a833a79c\": [{\"org\": \"jupyter-widgets\", \"repo\": \"ipyleaflet\", \"number\": 28, \"org/repo\": \"jupyter-widgets/ipyleaflet\"}, {\"org\": \"jupyter-widgets\", \"repo\": \"ipywidgets\", \"number\": 13, \"org/repo\": \"jupyter-widgets/ipywidgets\"}, {\"org\": \"jupyter-widgets\", \"repo\": \"pythreejs\", \"number\": 3, \"org/repo\": \"jupyter-widgets/pythreejs\"}, {\"org\": \"jupyter-widgets\", \"repo\": \"widget-cookiecutter\", \"number\": 1, \"org/repo\": \"jupyter-widgets/widget-cookiecutter\"}]}}, {\"mode\": \"vega-lite\"});\n",
       "</script>"
      ],
      "text/plain": [
       "alt.Chart(...)"
      ]
     },
     "execution_count": 15,
     "metadata": {},
     "output_type": "execute_result"
    }
   ],
   "source": [
    "closed_counts = closed.groupby(['org', 'repo']).count()['number'].reset_index()\n",
    "closed_counts['org/repo'] = closed_counts.apply(lambda a: a['org'] + '/' + a['repo'], axis=1)\n",
    "sorted_vals = closed_counts.sort_values(['number'], ascending=False)['repo'].values\n",
    "alt.Chart(data=closed_counts, title=f\"Issues closed in the last {n_days} days\").mark_bar().encode(\n",
    "    x=alt.X('repo', sort=alt.Sort(sorted_vals.tolist())),\n",
    "    y='number',\n",
    ")"
   ]
  },
  {
   "cell_type": "code",
   "execution_count": 16,
   "metadata": {
    "execution": {
     "iopub.execute_input": "2020-10-23T01:41:39.693184Z",
     "iopub.status.busy": "2020-10-23T01:41:39.692544Z",
     "iopub.status.idle": "2020-10-23T01:41:39.699242Z",
     "shell.execute_reply": "2020-10-23T01:41:39.698696Z"
    },
    "papermill": {
     "duration": 0.063251,
     "end_time": "2020-10-23T01:41:39.699443",
     "exception": false,
     "start_time": "2020-10-23T01:41:39.636192",
     "status": "completed"
    },
    "tags": [
     "remove_cell"
    ]
   },
   "outputs": [],
   "source": [
    "created_closed = pd.merge(created_counts.rename(columns={'number': 'created'}).drop(columns='org/repo'),\n",
    "                          closed_counts.rename(columns={'number': 'closed'}).drop(columns='org/repo'),\n",
    "                          on=['org', 'repo'], how='outer')\n",
    "\n",
    "created_closed = pd.melt(created_closed, id_vars=['org', 'repo'], var_name=\"kind\", value_name=\"count\").replace(np.nan, 0)"
   ]
  },
  {
   "cell_type": "code",
   "execution_count": 17,
   "metadata": {
    "execution": {
     "iopub.execute_input": "2020-10-23T01:41:39.816323Z",
     "iopub.status.busy": "2020-10-23T01:41:39.815593Z",
     "iopub.status.idle": "2020-10-23T01:41:39.818304Z",
     "shell.execute_reply": "2020-10-23T01:41:39.818799Z"
    },
    "papermill": {
     "duration": 0.077757,
     "end_time": "2020-10-23T01:41:39.819031",
     "exception": false,
     "start_time": "2020-10-23T01:41:39.741274",
     "status": "completed"
    },
    "tags": [
     "hide_input"
    ]
   },
   "outputs": [
    {
     "data": {
      "text/html": [
       "\n",
       "<div id=\"altair-viz-d5e05e54f6104eaa8d8841f4d80c17fa\"></div>\n",
       "<script type=\"text/javascript\">\n",
       "  (function(spec, embedOpt){\n",
       "    let outputDiv = document.currentScript.previousElementSibling;\n",
       "    if (outputDiv.id !== \"altair-viz-d5e05e54f6104eaa8d8841f4d80c17fa\") {\n",
       "      outputDiv = document.getElementById(\"altair-viz-d5e05e54f6104eaa8d8841f4d80c17fa\");\n",
       "    }\n",
       "    const paths = {\n",
       "      \"vega\": \"https://cdn.jsdelivr.net/npm//vega@5?noext\",\n",
       "      \"vega-lib\": \"https://cdn.jsdelivr.net/npm//vega-lib?noext\",\n",
       "      \"vega-lite\": \"https://cdn.jsdelivr.net/npm//vega-lite@4.8.1?noext\",\n",
       "      \"vega-embed\": \"https://cdn.jsdelivr.net/npm//vega-embed@6?noext\",\n",
       "    };\n",
       "\n",
       "    function loadScript(lib) {\n",
       "      return new Promise(function(resolve, reject) {\n",
       "        var s = document.createElement('script');\n",
       "        s.src = paths[lib];\n",
       "        s.async = true;\n",
       "        s.onload = () => resolve(paths[lib]);\n",
       "        s.onerror = () => reject(`Error loading script: ${paths[lib]}`);\n",
       "        document.getElementsByTagName(\"head\")[0].appendChild(s);\n",
       "      });\n",
       "    }\n",
       "\n",
       "    function showError(err) {\n",
       "      outputDiv.innerHTML = `<div class=\"error\" style=\"color:red;\">${err}</div>`;\n",
       "      throw err;\n",
       "    }\n",
       "\n",
       "    function displayChart(vegaEmbed) {\n",
       "      vegaEmbed(outputDiv, spec, embedOpt)\n",
       "        .catch(err => showError(`Javascript Error: ${err.message}<br>This usually means there's a typo in your chart specification. See the javascript console for the full traceback.`));\n",
       "    }\n",
       "\n",
       "    if(typeof define === \"function\" && define.amd) {\n",
       "      requirejs.config({paths});\n",
       "      require([\"vega-embed\"], displayChart, err => showError(`Error loading script: ${err.message}`));\n",
       "    } else if (typeof vegaEmbed === \"function\") {\n",
       "      displayChart(vegaEmbed);\n",
       "    } else {\n",
       "      loadScript(\"vega\")\n",
       "        .then(() => loadScript(\"vega-lite\"))\n",
       "        .then(() => loadScript(\"vega-embed\"))\n",
       "        .catch(showError)\n",
       "        .then(() => displayChart(vegaEmbed));\n",
       "    }\n",
       "  })({\"config\": {\"axisLeft\": {\"labelFontSize\": 15}, \"axisBottom\": {\"labelFontSize\": 15}}, \"data\": {\"name\": \"data-351684849de4e27e337ef97be2da80e5\"}, \"mark\": \"bar\", \"encoding\": {\"color\": {\"type\": \"nominal\", \"field\": \"kind\"}, \"column\": {\"type\": \"nominal\", \"field\": \"repo\", \"header\": {\"labelFontSize\": 12, \"title\": \"Issue activity, last 60 days for jupyter-widgets\", \"titleFontSize\": 15}}, \"x\": {\"type\": \"nominal\", \"axis\": {\"labelFontSize\": 15, \"title\": \"\"}, \"field\": \"kind\"}, \"y\": {\"type\": \"quantitative\", \"axis\": {\"labelFontSize\": 12, \"titleFontSize\": 15}, \"field\": \"count\"}}, \"width\": 120, \"$schema\": \"https://vega.github.io/schema/vega-lite/v4.8.1.json\", \"datasets\": {\"data-351684849de4e27e337ef97be2da80e5\": [{\"org\": \"jupyter-widgets\", \"repo\": \"ipyleaflet\", \"kind\": \"created\", \"count\": 17.0}, {\"org\": \"jupyter-widgets\", \"repo\": \"ipywidgets\", \"kind\": \"created\", \"count\": 21.0}, {\"org\": \"jupyter-widgets\", \"repo\": \"jupyterlab-sidecar\", \"kind\": \"created\", \"count\": 1.0}, {\"org\": \"jupyter-widgets\", \"repo\": \"traittypes\", \"kind\": \"created\", \"count\": 1.0}, {\"org\": \"jupyter-widgets\", \"repo\": \"widget-cookiecutter\", \"kind\": \"created\", \"count\": 1.0}, {\"org\": \"jupyter-widgets\", \"repo\": \"pythreejs\", \"kind\": \"created\", \"count\": 0.0}, {\"org\": \"jupyter-widgets\", \"repo\": \"ipyleaflet\", \"kind\": \"closed\", \"count\": 28.0}, {\"org\": \"jupyter-widgets\", \"repo\": \"ipywidgets\", \"kind\": \"closed\", \"count\": 13.0}, {\"org\": \"jupyter-widgets\", \"repo\": \"jupyterlab-sidecar\", \"kind\": \"closed\", \"count\": 0.0}, {\"org\": \"jupyter-widgets\", \"repo\": \"traittypes\", \"kind\": \"closed\", \"count\": 0.0}, {\"org\": \"jupyter-widgets\", \"repo\": \"widget-cookiecutter\", \"kind\": \"closed\", \"count\": 1.0}, {\"org\": \"jupyter-widgets\", \"repo\": \"pythreejs\", \"kind\": \"closed\", \"count\": 3.0}]}}, {\"mode\": \"vega-lite\"});\n",
       "</script>"
      ],
      "text/plain": [
       "alt.Chart(...)"
      ]
     },
     "execution_count": 17,
     "metadata": {},
     "output_type": "execute_result"
    }
   ],
   "source": [
    "charts = []\n",
    "# Pick the top 10 repositories\n",
    "top_repos = created_closed.groupby(['repo']).sum().sort_values(by='count', ascending=False).head(10).index\n",
    "ch = alt.Chart(created_closed.query('repo in @top_repos'), width=120).mark_bar().encode(\n",
    "    x=alt.X(\"kind\", axis=alt.Axis(labelFontSize=15, title=\"\")), \n",
    "    y=alt.Y('count', axis=alt.Axis(titleFontSize=15, labelFontSize=12)),\n",
    "    color='kind',\n",
    "    column=alt.Column(\"repo\", header=alt.Header(title=f\"Issue activity, last {n_days} days for {github_org}\", titleFontSize=15, labelFontSize=12))\n",
    ")\n",
    "ch"
   ]
  },
  {
   "cell_type": "code",
   "execution_count": 18,
   "metadata": {
    "execution": {
     "iopub.execute_input": "2020-10-23T01:41:39.917771Z",
     "iopub.status.busy": "2020-10-23T01:41:39.917135Z",
     "iopub.status.idle": "2020-10-23T01:41:39.919032Z",
     "shell.execute_reply": "2020-10-23T01:41:39.919516Z"
    },
    "papermill": {
     "duration": 0.057799,
     "end_time": "2020-10-23T01:41:39.919741",
     "exception": false,
     "start_time": "2020-10-23T01:41:39.861942",
     "status": "completed"
    },
    "tags": [
     "remove_cell"
    ]
   },
   "outputs": [],
   "source": [
    "# Set to datetime\n",
    "for kind in ['createdAt', 'closedAt']:\n",
    "    closed.loc[:, kind] = pd.to_datetime(closed[kind])\n",
    "    \n",
    "closed.loc[:, 'time_open'] = closed['closedAt'] - closed['createdAt']\n",
    "closed.loc[:, 'time_open'] = closed['time_open'].dt.total_seconds()"
   ]
  },
  {
   "cell_type": "code",
   "execution_count": 19,
   "metadata": {
    "execution": {
     "iopub.execute_input": "2020-10-23T01:41:40.023974Z",
     "iopub.status.busy": "2020-10-23T01:41:40.023263Z",
     "iopub.status.idle": "2020-10-23T01:41:40.037016Z",
     "shell.execute_reply": "2020-10-23T01:41:40.037607Z"
    },
    "papermill": {
     "duration": 0.07531,
     "end_time": "2020-10-23T01:41:40.037841",
     "exception": false,
     "start_time": "2020-10-23T01:41:39.962531",
     "status": "completed"
    },
    "tags": [
     "hide_input"
    ]
   },
   "outputs": [
    {
     "data": {
      "text/html": [
       "\n",
       "<div id=\"altair-viz-b147269b436b42a7be1fbea13681b586\"></div>\n",
       "<script type=\"text/javascript\">\n",
       "  (function(spec, embedOpt){\n",
       "    let outputDiv = document.currentScript.previousElementSibling;\n",
       "    if (outputDiv.id !== \"altair-viz-b147269b436b42a7be1fbea13681b586\") {\n",
       "      outputDiv = document.getElementById(\"altair-viz-b147269b436b42a7be1fbea13681b586\");\n",
       "    }\n",
       "    const paths = {\n",
       "      \"vega\": \"https://cdn.jsdelivr.net/npm//vega@5?noext\",\n",
       "      \"vega-lib\": \"https://cdn.jsdelivr.net/npm//vega-lib?noext\",\n",
       "      \"vega-lite\": \"https://cdn.jsdelivr.net/npm//vega-lite@4.8.1?noext\",\n",
       "      \"vega-embed\": \"https://cdn.jsdelivr.net/npm//vega-embed@6?noext\",\n",
       "    };\n",
       "\n",
       "    function loadScript(lib) {\n",
       "      return new Promise(function(resolve, reject) {\n",
       "        var s = document.createElement('script');\n",
       "        s.src = paths[lib];\n",
       "        s.async = true;\n",
       "        s.onload = () => resolve(paths[lib]);\n",
       "        s.onerror = () => reject(`Error loading script: ${paths[lib]}`);\n",
       "        document.getElementsByTagName(\"head\")[0].appendChild(s);\n",
       "      });\n",
       "    }\n",
       "\n",
       "    function showError(err) {\n",
       "      outputDiv.innerHTML = `<div class=\"error\" style=\"color:red;\">${err}</div>`;\n",
       "      throw err;\n",
       "    }\n",
       "\n",
       "    function displayChart(vegaEmbed) {\n",
       "      vegaEmbed(outputDiv, spec, embedOpt)\n",
       "        .catch(err => showError(`Javascript Error: ${err.message}<br>This usually means there's a typo in your chart specification. See the javascript console for the full traceback.`));\n",
       "    }\n",
       "\n",
       "    if(typeof define === \"function\" && define.amd) {\n",
       "      requirejs.config({paths});\n",
       "      require([\"vega-embed\"], displayChart, err => showError(`Error loading script: ${err.message}`));\n",
       "    } else if (typeof vegaEmbed === \"function\") {\n",
       "      displayChart(vegaEmbed);\n",
       "    } else {\n",
       "      loadScript(\"vega\")\n",
       "        .then(() => loadScript(\"vega-lite\"))\n",
       "        .then(() => loadScript(\"vega-embed\"))\n",
       "        .catch(showError)\n",
       "        .then(() => displayChart(vegaEmbed));\n",
       "    }\n",
       "  })({\"config\": {\"axisLeft\": {\"labelFontSize\": 15}, \"axisBottom\": {\"labelFontSize\": 15}}, \"data\": {\"name\": \"data-95629b1ff104767062d3447a43057ab9\"}, \"mark\": \"bar\", \"encoding\": {\"x\": {\"type\": \"nominal\", \"field\": \"repo\", \"sort\": [\"ipyleaflet\", \"pythreejs\", \"ipywidgets\", \"widget-cookiecutter\"]}, \"y\": {\"type\": \"quantitative\", \"field\": \"time_open\", \"title\": \"Median Days Open\"}}, \"title\": \"Time to close for issues closed in the last 60 days\", \"$schema\": \"https://vega.github.io/schema/vega-lite/v4.8.1.json\", \"datasets\": {\"data-95629b1ff104767062d3447a43057ab9\": [{\"org\": \"jupyter-widgets\", \"repo\": \"ipyleaflet\", \"time_open\": 80.92153356481481, \"org/repo\": \"jupyter-widgets/ipyleaflet\"}, {\"org\": \"jupyter-widgets\", \"repo\": \"ipywidgets\", \"time_open\": 3.3762268518518517, \"org/repo\": \"jupyter-widgets/ipywidgets\"}, {\"org\": \"jupyter-widgets\", \"repo\": \"pythreejs\", \"time_open\": 3.600509259259259, \"org/repo\": \"jupyter-widgets/pythreejs\"}, {\"org\": \"jupyter-widgets\", \"repo\": \"widget-cookiecutter\", \"time_open\": 0.0007291666666666667, \"org/repo\": \"jupyter-widgets/widget-cookiecutter\"}]}}, {\"mode\": \"vega-lite\"});\n",
       "</script>"
      ],
      "text/plain": [
       "alt.Chart(...)"
      ]
     },
     "execution_count": 19,
     "metadata": {},
     "output_type": "execute_result"
    }
   ],
   "source": [
    "time_open = closed.groupby(['org', 'repo']).agg({'time_open': 'median'}).reset_index()\n",
    "time_open['time_open'] = time_open['time_open'] / (60 * 60 * 24)\n",
    "time_open['org/repo'] = time_open.apply(lambda a: a['org'] + '/' + a['repo'], axis=1)\n",
    "sorted_vals = time_open.sort_values(['org', 'time_open'], ascending=False)['repo'].values\n",
    "alt.Chart(data=time_open, title=f\"Time to close for issues closed in the last {n_days} days\").mark_bar().encode(\n",
    "    x=alt.X('repo', sort=alt.Sort(sorted_vals.tolist())),\n",
    "    y=alt.Y('time_open', title=\"Median Days Open\"),\n",
    ")"
   ]
  },
  {
   "cell_type": "markdown",
   "metadata": {
    "papermill": {
     "duration": 0.043464,
     "end_time": "2020-10-23T01:41:40.127407",
     "exception": false,
     "start_time": "2020-10-23T01:41:40.083943",
     "status": "completed"
    },
    "tags": []
   },
   "source": [
    "## Most-upvoted issues"
   ]
  },
  {
   "cell_type": "code",
   "execution_count": 20,
   "metadata": {
    "execution": {
     "iopub.execute_input": "2020-10-23T01:41:40.242961Z",
     "iopub.status.busy": "2020-10-23T01:41:40.240866Z",
     "iopub.status.idle": "2020-10-23T01:41:40.251408Z",
     "shell.execute_reply": "2020-10-23T01:41:40.251893Z"
    },
    "papermill": {
     "duration": 0.084004,
     "end_time": "2020-10-23T01:41:40.252121",
     "exception": false,
     "start_time": "2020-10-23T01:41:40.168117",
     "status": "completed"
    },
    "tags": [
     "hide_input"
    ]
   },
   "outputs": [
    {
     "data": {
      "application/vnd.jupyter.widget-view+json": {
       "model_id": "0c1a31260b9f4345b3a5c093fdb71ffd",
       "version_major": 2,
       "version_minor": 0
      },
      "text/plain": [
       "HTML(value='<ul>\\n<li>(3) Allow putting any widget on the map - ipyleaflet - <a href=\"https://github.com/jupyt…"
      ]
     },
     "metadata": {},
     "output_type": "display_data"
    }
   ],
   "source": [
    "thumbsup = data.query(\"state=='OPEN' and kind == 'issue'\").sort_values(\"thumbsup\", ascending=False).head(25)\n",
    "thumbsup = thumbsup[[\"title\", \"url\", \"number\", \"thumbsup\", \"repo\"]]\n",
    "\n",
    "text = []\n",
    "for ii, irow in thumbsup.iterrows():\n",
    "    itext = f\"- ({irow['thumbsup']}) {irow['title']} - {irow['repo']} - [#{irow['number']}]({irow['url']})\"\n",
    "    text.append(itext)\n",
    "text = '\\n'.join(text)\n",
    "HTML(markdown(text))"
   ]
  },
  {
   "cell_type": "markdown",
   "metadata": {
    "papermill": {
     "duration": 0.044409,
     "end_time": "2020-10-23T01:41:40.343102",
     "exception": false,
     "start_time": "2020-10-23T01:41:40.298693",
     "status": "completed"
    },
    "tags": []
   },
   "source": [
    "## Commenters across repositories\n",
    "\n",
    "These are commenters across all issues and pull requests in the last several days.\n",
    "These are colored by the commenter's association with the organization. For information\n",
    "about what these associations mean, [see this StackOverflow post](https://stackoverflow.com/a/28866914/1927102)."
   ]
  },
  {
   "cell_type": "code",
   "execution_count": 21,
   "metadata": {
    "execution": {
     "iopub.execute_input": "2020-10-23T01:41:40.441628Z",
     "iopub.status.busy": "2020-10-23T01:41:40.440922Z",
     "iopub.status.idle": "2020-10-23T01:41:40.449695Z",
     "shell.execute_reply": "2020-10-23T01:41:40.450226Z"
    },
    "papermill": {
     "duration": 0.064135,
     "end_time": "2020-10-23T01:41:40.450471",
     "exception": false,
     "start_time": "2020-10-23T01:41:40.386336",
     "status": "completed"
    },
    "tags": [
     "remove_cell"
    ]
   },
   "outputs": [],
   "source": [
    "commentors = (\n",
    "    comments\n",
    "    .query(\"createdAt > @start_date and createdAt < @stop_date\")\n",
    "    .groupby(['org', 'repo', 'author', 'authorAssociation'])\n",
    "    .count().rename(columns={'id': 'count'})['count']\n",
    "    .reset_index()\n",
    "    .sort_values(['org', 'count'], ascending=False)\n",
    ")"
   ]
  },
  {
   "cell_type": "code",
   "execution_count": 22,
   "metadata": {
    "execution": {
     "iopub.execute_input": "2020-10-23T01:41:40.582336Z",
     "iopub.status.busy": "2020-10-23T01:41:40.573036Z",
     "iopub.status.idle": "2020-10-23T01:41:40.586008Z",
     "shell.execute_reply": "2020-10-23T01:41:40.585463Z"
    },
    "papermill": {
     "duration": 0.089025,
     "end_time": "2020-10-23T01:41:40.586192",
     "exception": false,
     "start_time": "2020-10-23T01:41:40.497167",
     "status": "completed"
    },
    "tags": [
     "hide_input"
    ]
   },
   "outputs": [
    {
     "data": {
      "text/html": [
       "\n",
       "<div id=\"altair-viz-5fc0e1c1848a44d3bcca90bdd7d376c6\"></div>\n",
       "<script type=\"text/javascript\">\n",
       "  (function(spec, embedOpt){\n",
       "    let outputDiv = document.currentScript.previousElementSibling;\n",
       "    if (outputDiv.id !== \"altair-viz-5fc0e1c1848a44d3bcca90bdd7d376c6\") {\n",
       "      outputDiv = document.getElementById(\"altair-viz-5fc0e1c1848a44d3bcca90bdd7d376c6\");\n",
       "    }\n",
       "    const paths = {\n",
       "      \"vega\": \"https://cdn.jsdelivr.net/npm//vega@5?noext\",\n",
       "      \"vega-lib\": \"https://cdn.jsdelivr.net/npm//vega-lib?noext\",\n",
       "      \"vega-lite\": \"https://cdn.jsdelivr.net/npm//vega-lite@4.8.1?noext\",\n",
       "      \"vega-embed\": \"https://cdn.jsdelivr.net/npm//vega-embed@6?noext\",\n",
       "    };\n",
       "\n",
       "    function loadScript(lib) {\n",
       "      return new Promise(function(resolve, reject) {\n",
       "        var s = document.createElement('script');\n",
       "        s.src = paths[lib];\n",
       "        s.async = true;\n",
       "        s.onload = () => resolve(paths[lib]);\n",
       "        s.onerror = () => reject(`Error loading script: ${paths[lib]}`);\n",
       "        document.getElementsByTagName(\"head\")[0].appendChild(s);\n",
       "      });\n",
       "    }\n",
       "\n",
       "    function showError(err) {\n",
       "      outputDiv.innerHTML = `<div class=\"error\" style=\"color:red;\">${err}</div>`;\n",
       "      throw err;\n",
       "    }\n",
       "\n",
       "    function displayChart(vegaEmbed) {\n",
       "      vegaEmbed(outputDiv, spec, embedOpt)\n",
       "        .catch(err => showError(`Javascript Error: ${err.message}<br>This usually means there's a typo in your chart specification. See the javascript console for the full traceback.`));\n",
       "    }\n",
       "\n",
       "    if(typeof define === \"function\" && define.amd) {\n",
       "      requirejs.config({paths});\n",
       "      require([\"vega-embed\"], displayChart, err => showError(`Error loading script: ${err.message}`));\n",
       "    } else if (typeof vegaEmbed === \"function\") {\n",
       "      displayChart(vegaEmbed);\n",
       "    } else {\n",
       "      loadScript(\"vega\")\n",
       "        .then(() => loadScript(\"vega-lite\"))\n",
       "        .then(() => loadScript(\"vega-embed\"))\n",
       "        .catch(showError)\n",
       "        .then(() => displayChart(vegaEmbed));\n",
       "    }\n",
       "  })({\"config\": {\"axisLeft\": {\"labelFontSize\": 15}, \"axisBottom\": {\"labelFontSize\": 15}}, \"hconcat\": [{\"mark\": \"bar\", \"encoding\": {\"color\": {\"type\": \"nominal\", \"field\": \"authorAssociation\", \"scale\": {\"domain\": [\"MEMBER\", \"CONTRIBUTOR\", \"COLLABORATOR\", \"NONE\"], \"range\": [\"rgb(211.82745098039214, 211.82745098039214, 211.82745098039214)\", \"rgb(166.98562091503268, 229.89803921568628, 166.98562091503268)\", \"rgb(96.37647058823529, 192.75294117647059, 96.37647058823529)\", \"rgb(0.0, 100.3921568627451, 0.0)\"]}}, \"x\": {\"type\": \"nominal\", \"field\": \"author\"}, \"y\": {\"type\": \"quantitative\", \"field\": \"count\"}}, \"title\": \"Top 50 commentors for jupyter-widgets in the last 60 days\"}], \"data\": {\"name\": \"data-f00932e55ab66d866a7b63c3fecc7e60\"}, \"$schema\": \"https://vega.github.io/schema/vega-lite/v4.8.1.json\", \"datasets\": {\"data-f00932e55ab66d866a7b63c3fecc7e60\": [{\"author\": \"martinRenou\", \"count\": 91, \"authorAssociation\": \"MEMBER\"}, {\"author\": \"vidartf\", \"count\": 25, \"authorAssociation\": \"MEMBER\"}, {\"author\": \"davidbrochart\", \"count\": 21, \"authorAssociation\": \"MEMBER\"}, {\"author\": \"jasongrout\", \"count\": 16, \"authorAssociation\": \"MEMBER\"}, {\"author\": \"sackh\", \"count\": 10, \"authorAssociation\": \"CONTRIBUTOR\"}, {\"author\": \"Sowkel\", \"count\": 9, \"authorAssociation\": \"NONE\"}, {\"author\": \"giswqs\", \"count\": 8, \"authorAssociation\": \"CONTRIBUTOR\"}, {\"author\": \"deeplook\", \"count\": 8, \"authorAssociation\": \"CONTRIBUTOR\"}, {\"author\": \"ianhi\", \"count\": 6, \"authorAssociation\": \"CONTRIBUTOR\"}, {\"author\": \"bingjeff\", \"count\": 6, \"authorAssociation\": \"NONE\"}, {\"author\": \"jtpio\", \"count\": 5, \"authorAssociation\": \"MEMBER\"}, {\"author\": \"maartenbreddels\", \"count\": 5, \"authorAssociation\": \"MEMBER\"}, {\"author\": \"jpanetta\", \"count\": 5, \"authorAssociation\": \"NONE\"}, {\"author\": \"omanges\", \"count\": 5, \"authorAssociation\": \"CONTRIBUTOR\"}, {\"author\": \"nighcoder\", \"count\": 5, \"authorAssociation\": \"NONE\"}, {\"author\": \"cornhundred\", \"count\": 4, \"authorAssociation\": \"CONTRIBUTOR\"}, {\"author\": \"banjaxedben\", \"count\": 4, \"authorAssociation\": \"CONTRIBUTOR\"}, {\"author\": \"tkarna\", \"count\": 4, \"authorAssociation\": \"NONE\"}, {\"author\": \"psychemedia\", \"count\": 3, \"authorAssociation\": \"NONE\"}, {\"author\": \"luca1308\", \"count\": 3, \"authorAssociation\": \"NONE\"}, {\"author\": \"xiangmeng4geo\", \"count\": 3, \"authorAssociation\": \"CONTRIBUTOR\"}, {\"author\": \"drf5n\", \"count\": 2, \"authorAssociation\": \"CONTRIBUTOR\"}, {\"author\": \"keckelt\", \"count\": 2, \"authorAssociation\": \"NONE\"}, {\"author\": \"deluksic\", \"count\": 2, \"authorAssociation\": \"NONE\"}, {\"author\": \"threepebbles\", \"count\": 2, \"authorAssociation\": \"NONE\"}, {\"author\": \"astrojuanlu\", \"count\": 2, \"authorAssociation\": \"CONTRIBUTOR\"}, {\"author\": \"rmorshea\", \"count\": 2, \"authorAssociation\": \"NONE\"}, {\"author\": \"casperdcl\", \"count\": 2, \"authorAssociation\": \"NONE\"}, {\"author\": \"ramanamohan\", \"count\": 2, \"authorAssociation\": \"NONE\"}, {\"author\": \"itisthoughttobemaeri\", \"count\": 1, \"authorAssociation\": \"NONE\"}, {\"author\": \"phicat7856\", \"count\": 1, \"authorAssociation\": \"NONE\"}, {\"author\": \"SylvainCorlay\", \"count\": 1, \"authorAssociation\": \"MEMBER\"}, {\"author\": \"agoose77\", \"count\": 1, \"authorAssociation\": \"NONE\"}, {\"author\": \"tgmueller\", \"count\": 1, \"authorAssociation\": \"NONE\"}, {\"author\": \"pwrose\", \"count\": 1, \"authorAssociation\": \"NONE\"}, {\"author\": \"basnijholt\", \"count\": 1, \"authorAssociation\": \"NONE\"}, {\"author\": \"cabreraalex\", \"count\": 1, \"authorAssociation\": \"NONE\"}, {\"author\": \"pbedenbaugh\", \"count\": 1, \"authorAssociation\": \"NONE\"}, {\"author\": \"jiangzhongshi\", \"count\": 1, \"authorAssociation\": \"NONE\"}, {\"author\": \"nwpulver\", \"count\": 1, \"authorAssociation\": \"NONE\"}, {\"author\": \"nicolas-rabault\", \"count\": 1, \"authorAssociation\": \"NONE\"}, {\"author\": \"msujatha\", \"count\": 1, \"authorAssociation\": \"NONE\"}, {\"author\": \"mbalandari\", \"count\": 1, \"authorAssociation\": \"NONE\"}, {\"author\": \"cyang-kth\", \"count\": 1, \"authorAssociation\": \"NONE\"}, {\"author\": \"dependabot\", \"count\": 1, \"authorAssociation\": \"CONTRIBUTOR\"}, {\"author\": \"DonJayamanne\", \"count\": 1, \"authorAssociation\": \"NONE\"}, {\"author\": \"Dommsko\", \"count\": 1, \"authorAssociation\": \"NONE\"}]}}, {\"mode\": \"vega-lite\"});\n",
       "</script>"
      ],
      "text/plain": [
       "alt.HConcatChart(...)"
      ]
     },
     "execution_count": 22,
     "metadata": {},
     "output_type": "execute_result"
    }
   ],
   "source": [
    "n_plot = 50\n",
    "charts = []\n",
    "for ii, (iorg, idata) in enumerate(commentors.groupby(['org'])):\n",
    "    title = f\"Top {n_plot} commentors for {iorg} in the last {n_days} days\"\n",
    "    idata = idata.groupby('author', as_index=False).agg({'count': 'sum', 'authorAssociation': 'first'})\n",
    "    idata = idata.sort_values('count', ascending=False).head(n_plot)\n",
    "    ch = alt.Chart(data=idata.head(n_plot), title=title).mark_bar().encode(\n",
    "        x='author',\n",
    "        y='count',\n",
    "        color=alt.Color('authorAssociation', scale=alt.Scale(domain=author_types, range=author_colors))\n",
    "    )\n",
    "    charts.append(ch)\n",
    "alt.hconcat(*charts)"
   ]
  },
  {
   "cell_type": "markdown",
   "metadata": {
    "papermill": {
     "duration": 0.042483,
     "end_time": "2020-10-23T01:41:40.673152",
     "exception": false,
     "start_time": "2020-10-23T01:41:40.630669",
     "status": "completed"
    },
    "tags": []
   },
   "source": [
    "## First responders\n",
    "\n",
    "First responders are the first people to respond to a new issue in one of the repositories.\n",
    "The following plots show first responders for recently-created issues."
   ]
  },
  {
   "cell_type": "code",
   "execution_count": 23,
   "metadata": {
    "execution": {
     "iopub.execute_input": "2020-10-23T01:41:40.767125Z",
     "iopub.status.busy": "2020-10-23T01:41:40.766487Z",
     "iopub.status.idle": "2020-10-23T01:41:40.858319Z",
     "shell.execute_reply": "2020-10-23T01:41:40.857681Z"
    },
    "papermill": {
     "duration": 0.143709,
     "end_time": "2020-10-23T01:41:40.858512",
     "exception": false,
     "start_time": "2020-10-23T01:41:40.714803",
     "status": "completed"
    },
    "tags": [
     "remove_cell"
    ]
   },
   "outputs": [],
   "source": [
    "first_comments = []\n",
    "for (org, repo, issue_id), i_comments in comments.groupby(['org', 'repo', 'id']):\n",
    "    ix_min = pd.to_datetime(i_comments['createdAt']).idxmin()\n",
    "    first_comment = i_comments.loc[ix_min]\n",
    "    if isinstance(first_comment, pd.DataFrame):\n",
    "        first_comment = first_comment.iloc[0]\n",
    "    first_comments.append(first_comment)\n",
    "first_comments = pd.concat(first_comments, axis=1).T\n",
    "\n",
    "# Make up counts for viz\n",
    "first_responder_counts = first_comments.groupby(['org', 'author', 'authorAssociation'], as_index=False).\\\n",
    "    count().rename(columns={'id': 'n_first_responses'}).sort_values(['org', 'n_first_responses'], ascending=False)\n"
   ]
  },
  {
   "cell_type": "code",
   "execution_count": 24,
   "metadata": {
    "execution": {
     "iopub.execute_input": "2020-10-23T01:41:40.977503Z",
     "iopub.status.busy": "2020-10-23T01:41:40.957673Z",
     "iopub.status.idle": "2020-10-23T01:41:40.983627Z",
     "shell.execute_reply": "2020-10-23T01:41:40.983048Z"
    },
    "papermill": {
     "duration": 0.080212,
     "end_time": "2020-10-23T01:41:40.983816",
     "exception": false,
     "start_time": "2020-10-23T01:41:40.903604",
     "status": "completed"
    },
    "tags": [
     "hide_input"
    ]
   },
   "outputs": [
    {
     "data": {
      "text/html": [
       "\n",
       "<div id=\"altair-viz-1d12642702b94e7db3420e0db8b0df5c\"></div>\n",
       "<script type=\"text/javascript\">\n",
       "  (function(spec, embedOpt){\n",
       "    let outputDiv = document.currentScript.previousElementSibling;\n",
       "    if (outputDiv.id !== \"altair-viz-1d12642702b94e7db3420e0db8b0df5c\") {\n",
       "      outputDiv = document.getElementById(\"altair-viz-1d12642702b94e7db3420e0db8b0df5c\");\n",
       "    }\n",
       "    const paths = {\n",
       "      \"vega\": \"https://cdn.jsdelivr.net/npm//vega@5?noext\",\n",
       "      \"vega-lib\": \"https://cdn.jsdelivr.net/npm//vega-lib?noext\",\n",
       "      \"vega-lite\": \"https://cdn.jsdelivr.net/npm//vega-lite@4.8.1?noext\",\n",
       "      \"vega-embed\": \"https://cdn.jsdelivr.net/npm//vega-embed@6?noext\",\n",
       "    };\n",
       "\n",
       "    function loadScript(lib) {\n",
       "      return new Promise(function(resolve, reject) {\n",
       "        var s = document.createElement('script');\n",
       "        s.src = paths[lib];\n",
       "        s.async = true;\n",
       "        s.onload = () => resolve(paths[lib]);\n",
       "        s.onerror = () => reject(`Error loading script: ${paths[lib]}`);\n",
       "        document.getElementsByTagName(\"head\")[0].appendChild(s);\n",
       "      });\n",
       "    }\n",
       "\n",
       "    function showError(err) {\n",
       "      outputDiv.innerHTML = `<div class=\"error\" style=\"color:red;\">${err}</div>`;\n",
       "      throw err;\n",
       "    }\n",
       "\n",
       "    function displayChart(vegaEmbed) {\n",
       "      vegaEmbed(outputDiv, spec, embedOpt)\n",
       "        .catch(err => showError(`Javascript Error: ${err.message}<br>This usually means there's a typo in your chart specification. See the javascript console for the full traceback.`));\n",
       "    }\n",
       "\n",
       "    if(typeof define === \"function\" && define.amd) {\n",
       "      requirejs.config({paths});\n",
       "      require([\"vega-embed\"], displayChart, err => showError(`Error loading script: ${err.message}`));\n",
       "    } else if (typeof vegaEmbed === \"function\") {\n",
       "      displayChart(vegaEmbed);\n",
       "    } else {\n",
       "      loadScript(\"vega\")\n",
       "        .then(() => loadScript(\"vega-lite\"))\n",
       "        .then(() => loadScript(\"vega-embed\"))\n",
       "        .catch(showError)\n",
       "        .then(() => displayChart(vegaEmbed));\n",
       "    }\n",
       "  })({\"config\": {\"axisLeft\": {\"labelFontSize\": 15}, \"axisBottom\": {\"labelFontSize\": 15}}, \"data\": {\"name\": \"data-488860370b3069822ec3df0df9f4555c\"}, \"mark\": \"bar\", \"encoding\": {\"color\": {\"type\": \"nominal\", \"field\": \"authorAssociation\", \"scale\": {\"domain\": [\"MEMBER\", \"CONTRIBUTOR\", \"COLLABORATOR\", \"NONE\"], \"range\": [\"rgb(211.82745098039214, 211.82745098039214, 211.82745098039214)\", \"rgb(166.98562091503268, 229.89803921568628, 166.98562091503268)\", \"rgb(96.37647058823529, 192.75294117647059, 96.37647058823529)\", \"rgb(0.0, 100.3921568627451, 0.0)\"]}}, \"x\": {\"type\": \"nominal\", \"field\": \"author\"}, \"y\": {\"type\": \"quantitative\", \"field\": \"n_first_responses\"}}, \"title\": \"Top 50 first responders for jupyter-widgets in the last 60 days\", \"$schema\": \"https://vega.github.io/schema/vega-lite/v4.8.1.json\", \"datasets\": {\"data-488860370b3069822ec3df0df9f4555c\": [{\"author\": \"martinRenou\", \"n_first_responses\": 27, \"authorAssociation\": \"MEMBER\"}, {\"author\": \"vidartf\", \"n_first_responses\": 10, \"authorAssociation\": \"MEMBER\"}, {\"author\": \"davidbrochart\", \"n_first_responses\": 9, \"authorAssociation\": \"MEMBER\"}, {\"author\": \"jasongrout\", \"n_first_responses\": 9, \"authorAssociation\": \"MEMBER\"}, {\"author\": \"sackh\", \"n_first_responses\": 7, \"authorAssociation\": \"CONTRIBUTOR\"}, {\"author\": \"ianhi\", \"n_first_responses\": 5, \"authorAssociation\": \"CONTRIBUTOR\"}, {\"author\": \"giswqs\", \"n_first_responses\": 3, \"authorAssociation\": \"CONTRIBUTOR\"}, {\"author\": \"SylvainCorlay\", \"n_first_responses\": 3, \"authorAssociation\": \"MEMBER\"}, {\"author\": \"jtpio\", \"n_first_responses\": 3, \"authorAssociation\": \"MEMBER\"}, {\"author\": \"maartenbreddels\", \"n_first_responses\": 2, \"authorAssociation\": \"MEMBER\"}, {\"author\": \"deeplook\", \"n_first_responses\": 2, \"authorAssociation\": \"CONTRIBUTOR\"}, {\"author\": \"rmorshea\", \"n_first_responses\": 2, \"authorAssociation\": \"NONE\"}, {\"author\": \"omanges\", \"n_first_responses\": 2, \"authorAssociation\": \"CONTRIBUTOR\"}, {\"author\": \"nwpulver\", \"n_first_responses\": 1, \"authorAssociation\": \"NONE\"}, {\"author\": \"agoose77\", \"n_first_responses\": 1, \"authorAssociation\": \"NONE\"}, {\"author\": \"pwrose\", \"n_first_responses\": 1, \"authorAssociation\": \"NONE\"}, {\"author\": \"psychemedia\", \"n_first_responses\": 1, \"authorAssociation\": \"NONE\"}, {\"author\": \"pbedenbaugh\", \"n_first_responses\": 1, \"authorAssociation\": \"NONE\"}, {\"author\": \"cabreraalex\", \"n_first_responses\": 1, \"authorAssociation\": \"NONE\"}, {\"author\": \"msujatha\", \"n_first_responses\": 1, \"authorAssociation\": \"NONE\"}, {\"author\": \"astrojuanlu\", \"n_first_responses\": 1, \"authorAssociation\": \"CONTRIBUTOR\"}, {\"author\": \"bjorm\", \"n_first_responses\": 1, \"authorAssociation\": \"CONTRIBUTOR\"}, {\"author\": \"basnijholt\", \"n_first_responses\": 1, \"authorAssociation\": \"NONE\"}, {\"author\": \"dprophet\", \"n_first_responses\": 1, \"authorAssociation\": \"NONE\"}, {\"author\": \"dependabot\", \"n_first_responses\": 1, \"authorAssociation\": \"CONTRIBUTOR\"}, {\"author\": \"deluksic\", \"n_first_responses\": 1, \"authorAssociation\": \"NONE\"}, {\"author\": \"Fubukimaru\", \"n_first_responses\": 1, \"authorAssociation\": \"NONE\"}]}}, {\"mode\": \"vega-lite\"});\n",
       "</script>"
      ],
      "text/plain": [
       "alt.Chart(...)"
      ]
     },
     "execution_count": 24,
     "metadata": {},
     "output_type": "execute_result"
    }
   ],
   "source": [
    "n_plot = 50\n",
    "\n",
    "title = f\"Top {n_plot} first responders for {github_org} in the last {n_days} days\"\n",
    "idata = first_responder_counts.groupby('author', as_index=False).agg({'n_first_responses': 'sum', 'authorAssociation': 'first'})\n",
    "idata = idata.sort_values('n_first_responses', ascending=False).head(n_plot)\n",
    "ch = alt.Chart(data=idata.head(n_plot), title=title).mark_bar().encode(\n",
    "    x='author',\n",
    "    y='n_first_responses',\n",
    "    color=alt.Color('authorAssociation', scale=alt.Scale(domain=author_types, range=author_colors))\n",
    ")\n",
    "ch"
   ]
  },
  {
   "cell_type": "markdown",
   "metadata": {
    "papermill": {
     "duration": 0.045077,
     "end_time": "2020-10-23T01:41:41.074598",
     "exception": false,
     "start_time": "2020-10-23T01:41:41.029521",
     "status": "completed"
    },
    "tags": []
   },
   "source": [
    "## Recent activity\n",
    "\n",
    "### A list of merged PRs by project\n",
    "\n",
    "Below is a tabbed readout of recently-merged PRs. Check out the title to get an idea for what they\n",
    "implemented, and be sure to thank the PR author for their hard work!"
   ]
  },
  {
   "cell_type": "code",
   "execution_count": 25,
   "metadata": {
    "execution": {
     "iopub.execute_input": "2020-10-23T01:41:41.176420Z",
     "iopub.status.busy": "2020-10-23T01:41:41.175740Z",
     "iopub.status.idle": "2020-10-23T01:41:41.281910Z",
     "shell.execute_reply": "2020-10-23T01:41:41.268339Z"
    },
    "papermill": {
     "duration": 0.163448,
     "end_time": "2020-10-23T01:41:41.282105",
     "exception": false,
     "start_time": "2020-10-23T01:41:41.118657",
     "status": "completed"
    },
    "tags": [
     "hide_input"
    ]
   },
   "outputs": [
    {
     "data": {
      "application/vnd.jupyter.widget-view+json": {
       "model_id": "d9ba7451bc2148f0b4726dba7582fc04",
       "version_major": 2,
       "version_minor": 0
      },
      "text/plain": [
       "Tab(children=(HTML(value='<h4>Closed PRs for repo: <a href=\"https://github.com/jupyter-widgets/ipyleaflet\">jup…"
      ]
     },
     "metadata": {},
     "output_type": "display_data"
    }
   ],
   "source": [
    "tabs = widgets.Tab(children=[])\n",
    "\n",
    "for ii, ((org, repo), imerged) in enumerate(merged.query(\"repo in @use_repos\").groupby(['org', 'repo'])):\n",
    "    merged_by = {}\n",
    "    pr_by = {}\n",
    "    issue_md = []\n",
    "    issue_md.append(f\"#### Closed PRs for repo: [{org}/{repo}](https://github.com/{github_org}/{repo})\")\n",
    "    issue_md.append(\"\")\n",
    "    issue_md.append(f\"##### \")\n",
    "\n",
    "    for _, ipr in imerged.iterrows():\n",
    "        user_name = ipr['author']\n",
    "        user_url = author_url(user_name)\n",
    "        pr_number = ipr['number']\n",
    "        pr_html = ipr['url']\n",
    "        pr_title = ipr['title']\n",
    "        pr_closedby = ipr['mergedBy']\n",
    "        pr_closedby_url = f\"https://github.com/{pr_closedby}\"\n",
    "        if user_name not in pr_by:\n",
    "            pr_by[user_name] = 1\n",
    "        else:\n",
    "            pr_by[user_name] += 1\n",
    "\n",
    "        if pr_closedby not in merged_by:\n",
    "            merged_by[pr_closedby] = 1\n",
    "        else:\n",
    "            merged_by[pr_closedby] += 1\n",
    "        text = f\"* [(#{pr_number})]({pr_html}): _{pr_title}_ by **[@{user_name}]({user_url})** merged by **[@{pr_closedby}]({pr_closedby_url})**\"\n",
    "        issue_md.append(text)\n",
    "    \n",
    "    issue_md.append('')\n",
    "    markdown_html = markdown('\\n'.join(issue_md))\n",
    "\n",
    "    children = list(tabs.children)\n",
    "    children.append(HTML(markdown_html))\n",
    "    tabs.children = tuple(children)\n",
    "    tabs.set_title(ii, repo)\n",
    "tabs"
   ]
  },
  {
   "cell_type": "markdown",
   "metadata": {
    "papermill": {
     "duration": 0.050368,
     "end_time": "2020-10-23T01:41:41.382094",
     "exception": false,
     "start_time": "2020-10-23T01:41:41.331726",
     "status": "completed"
    },
    "tags": []
   },
   "source": [
    "### A list of recent issues\n",
    "\n",
    "Below is a list of issues with recent activity in each repository. If they seem of interest\n",
    "to you, click on their links and jump in to participate!"
   ]
  },
  {
   "cell_type": "code",
   "execution_count": 26,
   "metadata": {
    "execution": {
     "iopub.execute_input": "2020-10-23T01:41:41.489611Z",
     "iopub.status.busy": "2020-10-23T01:41:41.488096Z",
     "iopub.status.idle": "2020-10-23T01:41:41.496614Z",
     "shell.execute_reply": "2020-10-23T01:41:41.495815Z"
    },
    "papermill": {
     "duration": 0.067222,
     "end_time": "2020-10-23T01:41:41.496830",
     "exception": false,
     "start_time": "2020-10-23T01:41:41.429608",
     "status": "completed"
    },
    "tags": [
     "remove_cell"
    ]
   },
   "outputs": [],
   "source": [
    "# Add comment count data to issues and PRs\n",
    "comment_counts = (\n",
    "    comments\n",
    "    .query(\"createdAt > @start_date and createdAt < @stop_date\")\n",
    "    .groupby(['org', 'repo', 'id'])\n",
    "    .count().iloc[:, 0].to_frame()\n",
    ")\n",
    "comment_counts.columns = ['n_comments']\n",
    "comment_counts = comment_counts.reset_index()"
   ]
  },
  {
   "cell_type": "code",
   "execution_count": 27,
   "metadata": {
    "execution": {
     "iopub.execute_input": "2020-10-23T01:41:41.613657Z",
     "iopub.status.busy": "2020-10-23T01:41:41.612542Z",
     "iopub.status.idle": "2020-10-23T01:41:41.808656Z",
     "shell.execute_reply": "2020-10-23T01:41:41.786181Z"
    },
    "papermill": {
     "duration": 0.262802,
     "end_time": "2020-10-23T01:41:41.808851",
     "exception": false,
     "start_time": "2020-10-23T01:41:41.546049",
     "status": "completed"
    },
    "tags": [
     "hide_input"
    ],
    "toc-hr-collapsed": false
   },
   "outputs": [
    {
     "data": {
      "text/markdown": [
       "Here are the top 5 active issues in each repository in the last 60 days"
      ],
      "text/plain": [
       "<IPython.core.display.Markdown object>"
      ]
     },
     "metadata": {},
     "output_type": "display_data"
    },
    {
     "data": {
      "application/vnd.jupyter.widget-view+json": {
       "model_id": "5fdfc3d43aa34c6ba42f10f7f06d3737",
       "version_major": 2,
       "version_minor": 0
      },
      "text/plain": [
       "Tab(children=(HTML(value='<h5><a href=\"https://github.com/jupyter-widgets/ipyleaflet\">jupyter-widgets/ipyleafl…"
      ]
     },
     "metadata": {},
     "output_type": "display_data"
    }
   ],
   "source": [
    "n_plot = 5\n",
    "tabs = widgets.Tab(children=[])\n",
    "\n",
    "for ii, (repo, i_issues) in enumerate(comment_counts.query(\"repo in @use_repos\").groupby('repo')):\n",
    "    \n",
    "    issue_md = []\n",
    "    issue_md.append(\"\")\n",
    "    issue_md.append(f\"##### [{github_org}/{repo}](https://github.com/{github_org}/{repo})\")\n",
    "\n",
    "    top_issues = i_issues.sort_values('n_comments', ascending=False).head(n_plot)\n",
    "    top_issue_list = pd.merge(issues, top_issues, left_on=['org', 'repo', 'id'], right_on=['org', 'repo', 'id'])\n",
    "    for _, issue in top_issue_list.sort_values('n_comments', ascending=False).head(n_plot).iterrows():\n",
    "        user_name = issue['author']\n",
    "        user_url = author_url(user_name)\n",
    "        issue_number = issue['number']\n",
    "        issue_html = issue['url']\n",
    "        issue_title = issue['title']\n",
    "\n",
    "        text = f\"* [(#{issue_number})]({issue_html}): _{issue_title}_ by **[@{user_name}]({user_url})**\"\n",
    "        issue_md.append(text)\n",
    "\n",
    "    issue_md.append('')\n",
    "    md_html = HTML(markdown('\\n'.join(issue_md)))\n",
    "\n",
    "    children = list(tabs.children)\n",
    "    children.append(HTML(markdown('\\n'.join(issue_md))))\n",
    "    tabs.children = tuple(children)\n",
    "    tabs.set_title(ii, repo)\n",
    "    \n",
    "display(Markdown(f\"Here are the top {n_plot} active issues in each repository in the last {n_days} days\"))\n",
    "display(tabs)"
   ]
  }
 ],
 "metadata": {
  "kernelspec": {
   "display_name": "Python 3",
   "language": "python",
   "name": "python3"
  },
  "language_info": {
   "codemirror_mode": {
    "name": "ipython",
    "version": 3
   },
   "file_extension": ".py",
   "mimetype": "text/x-python",
   "name": "python",
   "nbconvert_exporter": "python",
   "pygments_lexer": "ipython3",
   "version": "3.7.9"
  },
  "papermill": {
   "default_parameters": {},
   "duration": 18.767933,
   "end_time": "2020-10-23T01:41:42.674669",
   "environment_variables": {},
   "exception": null,
   "input_path": "./template.ipynb",
   "output_path": "book/jupyter-widgets.ipynb",
   "parameters": {
    "github_org": "jupyter-widgets",
    "n_days": 60
   },
   "start_time": "2020-10-23T01:41:23.906736",
   "version": "2.2.0"
  },
  "widgets": {
   "application/vnd.jupyter.widget-state+json": {
    "state": {
     "02f6166e582d428980ff43e5b91afea0": {
      "model_module": "@jupyter-widgets/base",
      "model_module_version": "1.2.0",
      "model_name": "LayoutModel",
      "state": {
       "_model_module": "@jupyter-widgets/base",
       "_model_module_version": "1.2.0",
       "_model_name": "LayoutModel",
       "_view_count": null,
       "_view_module": "@jupyter-widgets/base",
       "_view_module_version": "1.2.0",
       "_view_name": "LayoutView",
       "align_content": null,
       "align_items": null,
       "align_self": null,
       "border": null,
       "bottom": null,
       "display": null,
       "flex": null,
       "flex_flow": null,
       "grid_area": null,
       "grid_auto_columns": null,
       "grid_auto_flow": null,
       "grid_auto_rows": null,
       "grid_column": null,
       "grid_gap": null,
       "grid_row": null,
       "grid_template_areas": null,
       "grid_template_columns": null,
       "grid_template_rows": null,
       "height": null,
       "justify_content": null,
       "justify_items": null,
       "left": null,
       "margin": null,
       "max_height": null,
       "max_width": null,
       "min_height": null,
       "min_width": null,
       "object_fit": null,
       "object_position": null,
       "order": null,
       "overflow": null,
       "overflow_x": null,
       "overflow_y": null,
       "padding": null,
       "right": null,
       "top": null,
       "visibility": null,
       "width": null
      }
     },
     "04007e26ad064adbba9879071b3908ea": {
      "model_module": "@jupyter-widgets/base",
      "model_module_version": "1.2.0",
      "model_name": "LayoutModel",
      "state": {
       "_model_module": "@jupyter-widgets/base",
       "_model_module_version": "1.2.0",
       "_model_name": "LayoutModel",
       "_view_count": null,
       "_view_module": "@jupyter-widgets/base",
       "_view_module_version": "1.2.0",
       "_view_name": "LayoutView",
       "align_content": null,
       "align_items": null,
       "align_self": null,
       "border": null,
       "bottom": null,
       "display": null,
       "flex": null,
       "flex_flow": null,
       "grid_area": null,
       "grid_auto_columns": null,
       "grid_auto_flow": null,
       "grid_auto_rows": null,
       "grid_column": null,
       "grid_gap": null,
       "grid_row": null,
       "grid_template_areas": null,
       "grid_template_columns": null,
       "grid_template_rows": null,
       "height": null,
       "justify_content": null,
       "justify_items": null,
       "left": null,
       "margin": null,
       "max_height": null,
       "max_width": null,
       "min_height": null,
       "min_width": null,
       "object_fit": null,
       "object_position": null,
       "order": null,
       "overflow": null,
       "overflow_x": null,
       "overflow_y": null,
       "padding": null,
       "right": null,
       "top": null,
       "visibility": null,
       "width": null
      }
     },
     "0713d2bdb18b41979ad741d32ef38558": {
      "model_module": "@jupyter-widgets/base",
      "model_module_version": "1.2.0",
      "model_name": "LayoutModel",
      "state": {
       "_model_module": "@jupyter-widgets/base",
       "_model_module_version": "1.2.0",
       "_model_name": "LayoutModel",
       "_view_count": null,
       "_view_module": "@jupyter-widgets/base",
       "_view_module_version": "1.2.0",
       "_view_name": "LayoutView",
       "align_content": null,
       "align_items": null,
       "align_self": null,
       "border": null,
       "bottom": null,
       "display": null,
       "flex": null,
       "flex_flow": null,
       "grid_area": null,
       "grid_auto_columns": null,
       "grid_auto_flow": null,
       "grid_auto_rows": null,
       "grid_column": null,
       "grid_gap": null,
       "grid_row": null,
       "grid_template_areas": null,
       "grid_template_columns": null,
       "grid_template_rows": null,
       "height": null,
       "justify_content": null,
       "justify_items": null,
       "left": null,
       "margin": null,
       "max_height": null,
       "max_width": null,
       "min_height": null,
       "min_width": null,
       "object_fit": null,
       "object_position": null,
       "order": null,
       "overflow": null,
       "overflow_x": null,
       "overflow_y": null,
       "padding": null,
       "right": null,
       "top": null,
       "visibility": null,
       "width": null
      }
     },
     "0785ab38c22e47e68183a054f5b5e065": {
      "model_module": "@jupyter-widgets/controls",
      "model_module_version": "1.5.0",
      "model_name": "HTMLModel",
      "state": {
       "_dom_classes": [],
       "_model_module": "@jupyter-widgets/controls",
       "_model_module_version": "1.5.0",
       "_model_name": "HTMLModel",
       "_view_count": null,
       "_view_module": "@jupyter-widgets/controls",
       "_view_module_version": "1.5.0",
       "_view_name": "HTMLView",
       "description": "",
       "description_tooltip": null,
       "layout": "IPY_MODEL_f86c8ace2d5142d2915c86ef738d78ca",
       "placeholder": "​",
       "style": "IPY_MODEL_274e1d127efe475ebbe94587ea63d8dc",
       "value": "<h5><a href=\"https://github.com/jupyter-widgets/midicontrols\">jupyter-widgets/midicontrols</a></h5>"
      }
     },
     "0c1a31260b9f4345b3a5c093fdb71ffd": {
      "model_module": "@jupyter-widgets/controls",
      "model_module_version": "1.5.0",
      "model_name": "HTMLModel",
      "state": {
       "_dom_classes": [],
       "_model_module": "@jupyter-widgets/controls",
       "_model_module_version": "1.5.0",
       "_model_name": "HTMLModel",
       "_view_count": null,
       "_view_module": "@jupyter-widgets/controls",
       "_view_module_version": "1.5.0",
       "_view_name": "HTMLView",
       "description": "",
       "description_tooltip": null,
       "layout": "IPY_MODEL_0713d2bdb18b41979ad741d32ef38558",
       "placeholder": "​",
       "style": "IPY_MODEL_1dde67f825904dc4bf2047787d7fa090",
       "value": "<ul>\n<li>(3) Allow putting any widget on the map - ipyleaflet - <a href=\"https://github.com/jupyter-widgets/ipyleaflet/issues/717\">#717</a></li>\n<li>(1) Changed behaviour of <code>interact</code>, requiring all function arguments to be specified - ipywidgets - <a href=\"https://github.com/jupyter-widgets/ipywidgets/issues/2952\">#2952</a></li>\n<li>(1) Inconsistent css classes for style (and issue with boxes) - ipywidgets - <a href=\"https://github.com/jupyter-widgets/ipywidgets/issues/2998\">#2998</a></li>\n<li>(1) Use TypeScript - ipyleaflet - <a href=\"https://github.com/jupyter-widgets/ipyleaflet/issues/715\">#715</a></li>\n<li>(0) Output not cleared when using <code>@out.capture(clear_output=True, wait=True)</code> - ipywidgets - <a href=\"https://github.com/jupyter-widgets/ipywidgets/issues/2970\">#2970</a></li>\n<li>(0) Output widget - autoscroll to the bottom when output gets updated - ipywidgets - <a href=\"https://github.com/jupyter-widgets/ipywidgets/issues/2980\">#2980</a></li>\n<li>(0) justify-self missing from layout widget - ipywidgets - <a href=\"https://github.com/jupyter-widgets/ipywidgets/issues/2979\">#2979</a></li>\n<li>(0) Access the data of the feature found by a GeoJSON-based SearchControl? - ipyleaflet - <a href=\"https://github.com/jupyter-widgets/ipyleaflet/issues/702\">#702</a></li>\n<li>(0) Add a widget dynamically to a interactive Object - ipywidgets - <a href=\"https://github.com/jupyter-widgets/ipywidgets/issues/2978\">#2978</a></li>\n<li>(0) RuntimeError: JupyterLab failed to build See the log file for details:  /tmp/jupyterlab-debug-elzuf6lm.log - ipywidgets - <a href=\"https://github.com/jupyter-widgets/ipywidgets/issues/2977\">#2977</a></li>\n<li>(0) How shall we  install ipyleaflet on Jupyterlab-3.0b8 ? - ipyleaflet - <a href=\"https://github.com/jupyter-widgets/ipyleaflet/issues/697\">#697</a></li>\n<li>(0) can't copy static/extension.js - widget-cookiecutter - <a href=\"https://github.com/jupyter-widgets/widget-cookiecutter/issues/69\">#69</a></li>\n<li>(0) Which environment to install extension and dependencies (Jupyter Lab) - ipywidgets - <a href=\"https://github.com/jupyter-widgets/ipywidgets/issues/2968\">#2968</a></li>\n<li>(0) There's no way to add a colorbar - ipyleaflet - <a href=\"https://github.com/jupyter-widgets/ipyleaflet/issues/706\">#706</a></li>\n<li>(0) Confirmation dialogue - ipywidgets - <a href=\"https://github.com/jupyter-widgets/ipywidgets/issues/2962\">#2962</a></li>\n<li>(0) BoundedIntText: Pressing ENTER should trigger change event - ipywidgets - <a href=\"https://github.com/jupyter-widgets/ipywidgets/issues/2959\">#2959</a></li>\n<li>(0) Update semver for jupyterlab-manager - ipywidgets - <a href=\"https://github.com/jupyter-widgets/ipywidgets/issues/2957\">#2957</a></li>\n<li>(0) Widgets in Output block do not appear in Printer view - ipywidgets - <a href=\"https://github.com/jupyter-widgets/ipywidgets/issues/2956\">#2956</a></li>\n<li>(0) outputs widget contextmanager fails on metakernel - ipywidgets - <a href=\"https://github.com/jupyter-widgets/ipywidgets/issues/2953\">#2953</a></li>\n<li>(0) Marker popup is more lazy than expected - ipyleaflet - <a href=\"https://github.com/jupyter-widgets/ipyleaflet/issues/690\">#690</a></li>\n<li>(0) Control position order of controls? - ipyleaflet - <a href=\"https://github.com/jupyter-widgets/ipyleaflet/issues/689\">#689</a></li>\n<li>(0) Better support for plotting numpy arrays - ipyleaflet - <a href=\"https://github.com/jupyter-widgets/ipyleaflet/issues/705\">#705</a></li>\n<li>(0) ipyleaflet map is not displaying in jupyter notebook - ipyleaflet - <a href=\"https://github.com/jupyter-widgets/ipyleaflet/issues/738\">#738</a></li>\n<li>(0) test fails on Debian/Testing with traitlets 5.0.4 with python 3.8 - traittypes - <a href=\"https://github.com/jupyter-widgets/traittypes/issues/44\">#44</a></li>\n<li>(0) I can't manage to customize popup's style ...  - ipyleaflet - <a href=\"https://github.com/jupyter-widgets/ipyleaflet/issues/708\">#708</a></li>\n</ul>"
      }
     },
     "0e0307da73f84f39a4d97eb420b496f3": {
      "model_module": "@jupyter-widgets/controls",
      "model_module_version": "1.5.0",
      "model_name": "HTMLModel",
      "state": {
       "_dom_classes": [],
       "_model_module": "@jupyter-widgets/controls",
       "_model_module_version": "1.5.0",
       "_model_name": "HTMLModel",
       "_view_count": null,
       "_view_module": "@jupyter-widgets/controls",
       "_view_module_version": "1.5.0",
       "_view_name": "HTMLView",
       "description": "",
       "description_tooltip": null,
       "layout": "IPY_MODEL_e44ad6dd4ab04f8b9d02fe2acd538601",
       "placeholder": "​",
       "style": "IPY_MODEL_adb2658cb154495e97d8c3e1635aa21b",
       "value": "<h5><a href=\"https://github.com/jupyter-widgets/midicontrols\">jupyter-widgets/midicontrols</a></h5>"
      }
     },
     "11bb8c66db744685b35e04701dae06a1": {
      "model_module": "@jupyter-widgets/controls",
      "model_module_version": "1.5.0",
      "model_name": "DescriptionStyleModel",
      "state": {
       "_model_module": "@jupyter-widgets/controls",
       "_model_module_version": "1.5.0",
       "_model_name": "DescriptionStyleModel",
       "_view_count": null,
       "_view_module": "@jupyter-widgets/base",
       "_view_module_version": "1.2.0",
       "_view_name": "StyleView",
       "description_width": ""
      }
     },
     "138ae749d9604ff88555ff6febe9708b": {
      "model_module": "@jupyter-widgets/base",
      "model_module_version": "1.2.0",
      "model_name": "LayoutModel",
      "state": {
       "_model_module": "@jupyter-widgets/base",
       "_model_module_version": "1.2.0",
       "_model_name": "LayoutModel",
       "_view_count": null,
       "_view_module": "@jupyter-widgets/base",
       "_view_module_version": "1.2.0",
       "_view_name": "LayoutView",
       "align_content": null,
       "align_items": null,
       "align_self": null,
       "border": null,
       "bottom": null,
       "display": null,
       "flex": null,
       "flex_flow": null,
       "grid_area": null,
       "grid_auto_columns": null,
       "grid_auto_flow": null,
       "grid_auto_rows": null,
       "grid_column": null,
       "grid_gap": null,
       "grid_row": null,
       "grid_template_areas": null,
       "grid_template_columns": null,
       "grid_template_rows": null,
       "height": null,
       "justify_content": null,
       "justify_items": null,
       "left": null,
       "margin": null,
       "max_height": null,
       "max_width": null,
       "min_height": null,
       "min_width": null,
       "object_fit": null,
       "object_position": null,
       "order": null,
       "overflow": null,
       "overflow_x": null,
       "overflow_y": null,
       "padding": null,
       "right": null,
       "top": null,
       "visibility": null,
       "width": null
      }
     },
     "1dde67f825904dc4bf2047787d7fa090": {
      "model_module": "@jupyter-widgets/controls",
      "model_module_version": "1.5.0",
      "model_name": "DescriptionStyleModel",
      "state": {
       "_model_module": "@jupyter-widgets/controls",
       "_model_module_version": "1.5.0",
       "_model_name": "DescriptionStyleModel",
       "_view_count": null,
       "_view_module": "@jupyter-widgets/base",
       "_view_module_version": "1.2.0",
       "_view_name": "StyleView",
       "description_width": ""
      }
     },
     "2186966759474a5da7a8c61e49de6fc0": {
      "model_module": "@jupyter-widgets/base",
      "model_module_version": "1.2.0",
      "model_name": "LayoutModel",
      "state": {
       "_model_module": "@jupyter-widgets/base",
       "_model_module_version": "1.2.0",
       "_model_name": "LayoutModel",
       "_view_count": null,
       "_view_module": "@jupyter-widgets/base",
       "_view_module_version": "1.2.0",
       "_view_name": "LayoutView",
       "align_content": null,
       "align_items": null,
       "align_self": null,
       "border": null,
       "bottom": null,
       "display": null,
       "flex": null,
       "flex_flow": null,
       "grid_area": null,
       "grid_auto_columns": null,
       "grid_auto_flow": null,
       "grid_auto_rows": null,
       "grid_column": null,
       "grid_gap": null,
       "grid_row": null,
       "grid_template_areas": null,
       "grid_template_columns": null,
       "grid_template_rows": null,
       "height": null,
       "justify_content": null,
       "justify_items": null,
       "left": null,
       "margin": null,
       "max_height": null,
       "max_width": null,
       "min_height": null,
       "min_width": null,
       "object_fit": null,
       "object_position": null,
       "order": null,
       "overflow": null,
       "overflow_x": null,
       "overflow_y": null,
       "padding": null,
       "right": null,
       "top": null,
       "visibility": null,
       "width": null
      }
     },
     "22f07bed638246f49e18371f05636662": {
      "model_module": "@jupyter-widgets/controls",
      "model_module_version": "1.5.0",
      "model_name": "HTMLModel",
      "state": {
       "_dom_classes": [],
       "_model_module": "@jupyter-widgets/controls",
       "_model_module_version": "1.5.0",
       "_model_name": "HTMLModel",
       "_view_count": null,
       "_view_module": "@jupyter-widgets/controls",
       "_view_module_version": "1.5.0",
       "_view_name": "HTMLView",
       "description": "",
       "description_tooltip": null,
       "layout": "IPY_MODEL_680b222bfcd14408a9ce08eaf753a9bc",
       "placeholder": "​",
       "style": "IPY_MODEL_76775f1d6e2c4663be23539718769304",
       "value": "<h4>Closed PRs for repo: <a href=\"https://github.com/jupyter-widgets/widget-cookiecutter\">jupyter-widgets/widget-cookiecutter</a></h4>\n<h5></h5>\n<ul>\n<li><a href=\"https://github.com/jupyter-widgets/widget-cookiecutter/pull/71\">(#71)</a>: <em>Add Github Actions</em> by <strong><a href=\"https://github.com/martinRenou\">@martinRenou</a></strong> merged by <strong><a href=\"https://github.com/martinRenou\">@martinRenou</a></strong></li>\n<li><a href=\"https://github.com/jupyter-widgets/widget-cookiecutter/pull/70\">(#70)</a>: <em>Clean setup using jupyter-packaging</em> by <strong><a href=\"https://github.com/martinRenou\">@martinRenou</a></strong> merged by <strong><a href=\"https://github.com/martinRenou\">@martinRenou</a></strong></li>\n</ul>"
      }
     },
     "254bebb200fb4cea810b7d8747126f97": {
      "model_module": "@jupyter-widgets/controls",
      "model_module_version": "1.5.0",
      "model_name": "ProgressStyleModel",
      "state": {
       "_model_module": "@jupyter-widgets/controls",
       "_model_module_version": "1.5.0",
       "_model_name": "ProgressStyleModel",
       "_view_count": null,
       "_view_module": "@jupyter-widgets/base",
       "_view_module_version": "1.2.0",
       "_view_name": "StyleView",
       "bar_color": null,
       "description_width": ""
      }
     },
     "274e1d127efe475ebbe94587ea63d8dc": {
      "model_module": "@jupyter-widgets/controls",
      "model_module_version": "1.5.0",
      "model_name": "DescriptionStyleModel",
      "state": {
       "_model_module": "@jupyter-widgets/controls",
       "_model_module_version": "1.5.0",
       "_model_name": "DescriptionStyleModel",
       "_view_count": null,
       "_view_module": "@jupyter-widgets/base",
       "_view_module_version": "1.2.0",
       "_view_name": "StyleView",
       "description_width": ""
      }
     },
     "27b72200976b40b592cc18168a8a3335": {
      "model_module": "@jupyter-widgets/controls",
      "model_module_version": "1.5.0",
      "model_name": "HTMLModel",
      "state": {
       "_dom_classes": [],
       "_model_module": "@jupyter-widgets/controls",
       "_model_module_version": "1.5.0",
       "_model_name": "HTMLModel",
       "_view_count": null,
       "_view_module": "@jupyter-widgets/controls",
       "_view_module_version": "1.5.0",
       "_view_name": "HTMLView",
       "description": "",
       "description_tooltip": null,
       "layout": "IPY_MODEL_138ae749d9604ff88555ff6febe9708b",
       "placeholder": "​",
       "style": "IPY_MODEL_ad78534c8d9842548e0d1784538277d4",
       "value": "<h5><a href=\"https://github.com/jupyter-widgets/pythreejs\">jupyter-widgets/pythreejs</a></h5>\n<ul>\n<li><a href=\"https://github.com/jupyter-widgets/pythreejs/issues/334\">(#334)</a>: <em>Nothing rendered in jupyter notebook.</em> by <strong><a href=\"https://github.com/bingjeff\">@bingjeff</a></strong></li>\n<li><a href=\"https://github.com/jupyter-widgets/pythreejs/issues/337\">(#337)</a>: <em>display error (type error)</em> by <strong><a href=\"https://github.com/threepebbles\">@threepebbles</a></strong></li>\n<li><a href=\"https://github.com/jupyter-widgets/pythreejs/issues/335\">(#335)</a>: <em>Unreliable capture with ImageRecorder on Safari</em> by <strong><a href=\"https://github.com/jpanetta\">@jpanetta</a></strong></li>\n</ul>"
      }
     },
     "38747dc09a714fa7858aedff2cfa83ce": {
      "model_module": "@jupyter-widgets/base",
      "model_module_version": "1.2.0",
      "model_name": "LayoutModel",
      "state": {
       "_model_module": "@jupyter-widgets/base",
       "_model_module_version": "1.2.0",
       "_model_name": "LayoutModel",
       "_view_count": null,
       "_view_module": "@jupyter-widgets/base",
       "_view_module_version": "1.2.0",
       "_view_name": "LayoutView",
       "align_content": null,
       "align_items": null,
       "align_self": null,
       "border": null,
       "bottom": null,
       "display": null,
       "flex": null,
       "flex_flow": null,
       "grid_area": null,
       "grid_auto_columns": null,
       "grid_auto_flow": null,
       "grid_auto_rows": null,
       "grid_column": null,
       "grid_gap": null,
       "grid_row": null,
       "grid_template_areas": null,
       "grid_template_columns": null,
       "grid_template_rows": null,
       "height": null,
       "justify_content": null,
       "justify_items": null,
       "left": null,
       "margin": null,
       "max_height": null,
       "max_width": null,
       "min_height": null,
       "min_width": null,
       "object_fit": null,
       "object_position": null,
       "order": null,
       "overflow": null,
       "overflow_x": null,
       "overflow_y": null,
       "padding": null,
       "right": null,
       "top": null,
       "visibility": null,
       "width": null
      }
     },
     "42f26d4738e8477d857d84e43be5beeb": {
      "model_module": "@jupyter-widgets/base",
      "model_module_version": "1.2.0",
      "model_name": "LayoutModel",
      "state": {
       "_model_module": "@jupyter-widgets/base",
       "_model_module_version": "1.2.0",
       "_model_name": "LayoutModel",
       "_view_count": null,
       "_view_module": "@jupyter-widgets/base",
       "_view_module_version": "1.2.0",
       "_view_name": "LayoutView",
       "align_content": null,
       "align_items": null,
       "align_self": null,
       "border": null,
       "bottom": null,
       "display": null,
       "flex": null,
       "flex_flow": null,
       "grid_area": null,
       "grid_auto_columns": null,
       "grid_auto_flow": null,
       "grid_auto_rows": null,
       "grid_column": null,
       "grid_gap": null,
       "grid_row": null,
       "grid_template_areas": null,
       "grid_template_columns": null,
       "grid_template_rows": null,
       "height": null,
       "justify_content": null,
       "justify_items": null,
       "left": null,
       "margin": null,
       "max_height": null,
       "max_width": null,
       "min_height": null,
       "min_width": null,
       "object_fit": null,
       "object_position": null,
       "order": null,
       "overflow": null,
       "overflow_x": null,
       "overflow_y": null,
       "padding": null,
       "right": null,
       "top": null,
       "visibility": null,
       "width": null
      }
     },
     "43c4ee32d12b4794ac1fd00e14dcb061": {
      "model_module": "@jupyter-widgets/controls",
      "model_module_version": "1.5.0",
      "model_name": "HTMLModel",
      "state": {
       "_dom_classes": [],
       "_model_module": "@jupyter-widgets/controls",
       "_model_module_version": "1.5.0",
       "_model_name": "HTMLModel",
       "_view_count": null,
       "_view_module": "@jupyter-widgets/controls",
       "_view_module_version": "1.5.0",
       "_view_name": "HTMLView",
       "description": "",
       "description_tooltip": null,
       "layout": "IPY_MODEL_8fb57abeeb7a48da962cdf2d8c6f8c73",
       "placeholder": "​",
       "style": "IPY_MODEL_b33b20d6c5cb42619aa283f7b6b06a6f",
       "value": "<h5><a href=\"https://github.com/jupyter-widgets/tutorial\">jupyter-widgets/tutorial</a></h5>"
      }
     },
     "471ef0f769f4454e80968d5b4ed8152d": {
      "model_module": "@jupyter-widgets/controls",
      "model_module_version": "1.5.0",
      "model_name": "HTMLModel",
      "state": {
       "_dom_classes": [],
       "_model_module": "@jupyter-widgets/controls",
       "_model_module_version": "1.5.0",
       "_model_name": "HTMLModel",
       "_view_count": null,
       "_view_module": "@jupyter-widgets/controls",
       "_view_module_version": "1.5.0",
       "_view_name": "HTMLView",
       "description": "",
       "description_tooltip": null,
       "layout": "IPY_MODEL_92eda097a4b5485986b1f8030dfcd6e3",
       "placeholder": "​",
       "style": "IPY_MODEL_99a5fe219d9c43c4ab29fdd5d535a74d",
       "value": "<h4>Closed PRs for repo: <a href=\"https://github.com/jupyter-widgets/tutorial\">jupyter-widgets/tutorial</a></h4>\n<h5></h5>\n<ul>\n<li><a href=\"https://github.com/jupyter-widgets/tutorial/pull/117\">(#117)</a>: <em>Use --minimize=False on Binder</em> by <strong><a href=\"https://github.com/jtpio\">@jtpio</a></strong> merged by <strong><a href=\"https://github.com/martinRenou\">@martinRenou</a></strong></li>\n</ul>"
      }
     },
     "4791303e5f404b7d94f876ac25962146": {
      "model_module": "@jupyter-widgets/controls",
      "model_module_version": "1.5.0",
      "model_name": "DescriptionStyleModel",
      "state": {
       "_model_module": "@jupyter-widgets/controls",
       "_model_module_version": "1.5.0",
       "_model_name": "DescriptionStyleModel",
       "_view_count": null,
       "_view_module": "@jupyter-widgets/base",
       "_view_module_version": "1.2.0",
       "_view_name": "StyleView",
       "description_width": ""
      }
     },
     "4a1d6b80fcc5431b8bb73cf405444d10": {
      "model_module": "@jupyter-widgets/controls",
      "model_module_version": "1.5.0",
      "model_name": "HTMLModel",
      "state": {
       "_dom_classes": [],
       "_model_module": "@jupyter-widgets/controls",
       "_model_module_version": "1.5.0",
       "_model_name": "HTMLModel",
       "_view_count": null,
       "_view_module": "@jupyter-widgets/controls",
       "_view_module_version": "1.5.0",
       "_view_name": "HTMLView",
       "description": "",
       "description_tooltip": null,
       "layout": "IPY_MODEL_d8990d59ae4d423495232073b7e020aa",
       "placeholder": "​",
       "style": "IPY_MODEL_a804bba3ed7a4fe6b3b33508eb6cee99",
       "value": "<h5><a href=\"https://github.com/jupyter-widgets/jupyterlab-sidecar\">jupyter-widgets/jupyterlab-sidecar</a></h5>\n<ul>\n<li><a href=\"https://github.com/jupyter-widgets/jupyterlab-sidecar/issues/56\">(#56)</a>: <em>Typescript compilation errors</em> by <strong><a href=\"https://github.com/bjornandre\">@bjornandre</a></strong></li>\n</ul>"
      }
     },
     "4f99529686fb494b9f8e0a8ce35f627b": {
      "model_module": "@jupyter-widgets/base",
      "model_module_version": "1.2.0",
      "model_name": "LayoutModel",
      "state": {
       "_model_module": "@jupyter-widgets/base",
       "_model_module_version": "1.2.0",
       "_model_name": "LayoutModel",
       "_view_count": null,
       "_view_module": "@jupyter-widgets/base",
       "_view_module_version": "1.2.0",
       "_view_name": "LayoutView",
       "align_content": null,
       "align_items": null,
       "align_self": null,
       "border": null,
       "bottom": null,
       "display": null,
       "flex": null,
       "flex_flow": null,
       "grid_area": null,
       "grid_auto_columns": null,
       "grid_auto_flow": null,
       "grid_auto_rows": null,
       "grid_column": null,
       "grid_gap": null,
       "grid_row": null,
       "grid_template_areas": null,
       "grid_template_columns": null,
       "grid_template_rows": null,
       "height": null,
       "justify_content": null,
       "justify_items": null,
       "left": null,
       "margin": null,
       "max_height": null,
       "max_width": null,
       "min_height": null,
       "min_width": null,
       "object_fit": null,
       "object_position": null,
       "order": null,
       "overflow": null,
       "overflow_x": null,
       "overflow_y": null,
       "padding": null,
       "right": null,
       "top": null,
       "visibility": null,
       "width": null
      }
     },
     "5a1121cdbc5447e1a350bcc487e28dbb": {
      "model_module": "@jupyter-widgets/controls",
      "model_module_version": "1.5.0",
      "model_name": "ProgressStyleModel",
      "state": {
       "_model_module": "@jupyter-widgets/controls",
       "_model_module_version": "1.5.0",
       "_model_name": "ProgressStyleModel",
       "_view_count": null,
       "_view_module": "@jupyter-widgets/base",
       "_view_module_version": "1.2.0",
       "_view_name": "StyleView",
       "bar_color": null,
       "description_width": ""
      }
     },
     "5a7d1c15d725480e8398230d72635799": {
      "model_module": "@jupyter-widgets/controls",
      "model_module_version": "1.5.0",
      "model_name": "HTMLModel",
      "state": {
       "_dom_classes": [],
       "_model_module": "@jupyter-widgets/controls",
       "_model_module_version": "1.5.0",
       "_model_name": "HTMLModel",
       "_view_count": null,
       "_view_module": "@jupyter-widgets/controls",
       "_view_module_version": "1.5.0",
       "_view_name": "HTMLView",
       "description": "",
       "description_tooltip": null,
       "layout": "IPY_MODEL_4f99529686fb494b9f8e0a8ce35f627b",
       "placeholder": "​",
       "style": "IPY_MODEL_a80052b654654776ab141511f03ba1c8",
       "value": "<h5><a href=\"https://github.com/jupyter-widgets/tutorial\">jupyter-widgets/tutorial</a></h5>"
      }
     },
     "5af59916995d4fe88c2509645c17be5b": {
      "model_module": "@jupyter-widgets/controls",
      "model_module_version": "1.5.0",
      "model_name": "HTMLModel",
      "state": {
       "_dom_classes": [],
       "_model_module": "@jupyter-widgets/controls",
       "_model_module_version": "1.5.0",
       "_model_name": "HTMLModel",
       "_view_count": null,
       "_view_module": "@jupyter-widgets/controls",
       "_view_module_version": "1.5.0",
       "_view_name": "HTMLView",
       "description": "",
       "description_tooltip": null,
       "layout": "IPY_MODEL_6ee999fb33b8408fa57fee53009c8ad4",
       "placeholder": "​",
       "style": "IPY_MODEL_83b15fa64dea41998107a114ae4d15f7",
       "value": "<h5><a href=\"https://github.com/jupyter-widgets/widget-cookiecutter\">jupyter-widgets/widget-cookiecutter</a></h5>\n<ul>\n<li><a href=\"https://github.com/jupyter-widgets/widget-cookiecutter/issues/69\">(#69)</a>: <em>can't copy static/extension.js</em> by <strong><a href=\"https://github.com/rmorshea\">@rmorshea</a></strong></li>\n<li><a href=\"https://github.com/jupyter-widgets/widget-cookiecutter/issues/68\">(#68)</a>: <em>Setup.py Targets Moved</em> by <strong><a href=\"https://github.com/rmorshea\">@rmorshea</a></strong></li>\n</ul>"
      }
     },
     "5d2df37f4cd7466cb3402578840e0b13": {
      "model_module": "@jupyter-widgets/controls",
      "model_module_version": "1.5.0",
      "model_name": "HTMLModel",
      "state": {
       "_dom_classes": [],
       "_model_module": "@jupyter-widgets/controls",
       "_model_module_version": "1.5.0",
       "_model_name": "HTMLModel",
       "_view_count": null,
       "_view_module": "@jupyter-widgets/controls",
       "_view_module_version": "1.5.0",
       "_view_name": "HTMLView",
       "description": "",
       "description_tooltip": null,
       "layout": "IPY_MODEL_6068acc3a4704312b567f3ed1909b000",
       "placeholder": "​",
       "style": "IPY_MODEL_95dfa5a4dabc438bbb830a921dd1754b",
       "value": "<h5><a href=\"https://github.com/jupyter-widgets/widget-ts-cookiecutter\">jupyter-widgets/widget-ts-cookiecutter</a></h5>"
      }
     },
     "5fdfc3d43aa34c6ba42f10f7f06d3737": {
      "model_module": "@jupyter-widgets/controls",
      "model_module_version": "1.5.0",
      "model_name": "TabModel",
      "state": {
       "_dom_classes": [],
       "_model_module": "@jupyter-widgets/controls",
       "_model_module_version": "1.5.0",
       "_model_name": "TabModel",
       "_titles": {
        "0": "ipyleaflet",
        "1": "ipywidgets",
        "2": "jupyterlab-sidecar",
        "3": "midicontrols",
        "4": "pythreejs",
        "5": "tutorial",
        "6": "widget-cookiecutter",
        "7": "widget-ts-cookiecutter"
       },
       "_view_count": null,
       "_view_module": "@jupyter-widgets/controls",
       "_view_module_version": "1.5.0",
       "_view_name": "TabView",
       "box_style": "",
       "children": [
        "IPY_MODEL_eab6c5624cea42129bb8468e27dd464e",
        "IPY_MODEL_c42dd9361e3b43af9156b728ad1152a8",
        "IPY_MODEL_fed6451002134ca9bd2ba5eba1ba0a73",
        "IPY_MODEL_0e0307da73f84f39a4d97eb420b496f3",
        "IPY_MODEL_a9510c8786ea454c84b0d091859dfe02",
        "IPY_MODEL_5a7d1c15d725480e8398230d72635799",
        "IPY_MODEL_ef0b6fd25d1840388549a767696b39ad",
        "IPY_MODEL_5d2df37f4cd7466cb3402578840e0b13"
       ],
       "layout": "IPY_MODEL_a951043c8986437ea346255b69f1132c",
       "selected_index": 0
      }
     },
     "6021f846592844e38e27a2e95ee09cf9": {
      "model_module": "@jupyter-widgets/controls",
      "model_module_version": "1.5.0",
      "model_name": "DescriptionStyleModel",
      "state": {
       "_model_module": "@jupyter-widgets/controls",
       "_model_module_version": "1.5.0",
       "_model_name": "DescriptionStyleModel",
       "_view_count": null,
       "_view_module": "@jupyter-widgets/base",
       "_view_module_version": "1.2.0",
       "_view_name": "StyleView",
       "description_width": ""
      }
     },
     "6068acc3a4704312b567f3ed1909b000": {
      "model_module": "@jupyter-widgets/base",
      "model_module_version": "1.2.0",
      "model_name": "LayoutModel",
      "state": {
       "_model_module": "@jupyter-widgets/base",
       "_model_module_version": "1.2.0",
       "_model_name": "LayoutModel",
       "_view_count": null,
       "_view_module": "@jupyter-widgets/base",
       "_view_module_version": "1.2.0",
       "_view_name": "LayoutView",
       "align_content": null,
       "align_items": null,
       "align_self": null,
       "border": null,
       "bottom": null,
       "display": null,
       "flex": null,
       "flex_flow": null,
       "grid_area": null,
       "grid_auto_columns": null,
       "grid_auto_flow": null,
       "grid_auto_rows": null,
       "grid_column": null,
       "grid_gap": null,
       "grid_row": null,
       "grid_template_areas": null,
       "grid_template_columns": null,
       "grid_template_rows": null,
       "height": null,
       "justify_content": null,
       "justify_items": null,
       "left": null,
       "margin": null,
       "max_height": null,
       "max_width": null,
       "min_height": null,
       "min_width": null,
       "object_fit": null,
       "object_position": null,
       "order": null,
       "overflow": null,
       "overflow_x": null,
       "overflow_y": null,
       "padding": null,
       "right": null,
       "top": null,
       "visibility": null,
       "width": null
      }
     },
     "64464deca469490fb1e41497f99bc2ac": {
      "model_module": "@jupyter-widgets/controls",
      "model_module_version": "1.5.0",
      "model_name": "HTMLModel",
      "state": {
       "_dom_classes": [],
       "_model_module": "@jupyter-widgets/controls",
       "_model_module_version": "1.5.0",
       "_model_name": "HTMLModel",
       "_view_count": null,
       "_view_module": "@jupyter-widgets/controls",
       "_view_module_version": "1.5.0",
       "_view_name": "HTMLView",
       "description": "",
       "description_tooltip": null,
       "layout": "IPY_MODEL_824a4e2d78ba4085a6381ce5ac4c79b9",
       "placeholder": "​",
       "style": "IPY_MODEL_f47c6c43a01242439dc124634e2760bf",
       "value": "<h5><a href=\"https://github.com/jupyter-widgets/ipywidgets\">jupyter-widgets/ipywidgets</a></h5>\n<ul>\n<li><a href=\"https://github.com/jupyter-widgets/ipywidgets/issues/2983\">(#2983)</a>: <em>JupyterLab Setup is unclear</em> by <strong><a href=\"https://github.com/keckelt\">@keckelt</a></strong></li>\n<li><a href=\"https://github.com/jupyter-widgets/ipywidgets/issues/2961\">(#2961)</a>: <em>Error while installing jupyter labextension install @jupyter-widgets/jupyterlab-manager</em> by <strong><a href=\"https://github.com/ramanamohan\">@ramanamohan</a></strong></li>\n<li><a href=\"https://github.com/jupyter-widgets/ipywidgets/issues/2958\">(#2958)</a>: _custom widget installation on AWS Sagemaker _ by <strong><a href=\"https://github.com/cornhundred\">@cornhundred</a></strong></li>\n</ul>"
      }
     },
     "680b222bfcd14408a9ce08eaf753a9bc": {
      "model_module": "@jupyter-widgets/base",
      "model_module_version": "1.2.0",
      "model_name": "LayoutModel",
      "state": {
       "_model_module": "@jupyter-widgets/base",
       "_model_module_version": "1.2.0",
       "_model_name": "LayoutModel",
       "_view_count": null,
       "_view_module": "@jupyter-widgets/base",
       "_view_module_version": "1.2.0",
       "_view_name": "LayoutView",
       "align_content": null,
       "align_items": null,
       "align_self": null,
       "border": null,
       "bottom": null,
       "display": null,
       "flex": null,
       "flex_flow": null,
       "grid_area": null,
       "grid_auto_columns": null,
       "grid_auto_flow": null,
       "grid_auto_rows": null,
       "grid_column": null,
       "grid_gap": null,
       "grid_row": null,
       "grid_template_areas": null,
       "grid_template_columns": null,
       "grid_template_rows": null,
       "height": null,
       "justify_content": null,
       "justify_items": null,
       "left": null,
       "margin": null,
       "max_height": null,
       "max_width": null,
       "min_height": null,
       "min_width": null,
       "object_fit": null,
       "object_position": null,
       "order": null,
       "overflow": null,
       "overflow_x": null,
       "overflow_y": null,
       "padding": null,
       "right": null,
       "top": null,
       "visibility": null,
       "width": null
      }
     },
     "6ee999fb33b8408fa57fee53009c8ad4": {
      "model_module": "@jupyter-widgets/base",
      "model_module_version": "1.2.0",
      "model_name": "LayoutModel",
      "state": {
       "_model_module": "@jupyter-widgets/base",
       "_model_module_version": "1.2.0",
       "_model_name": "LayoutModel",
       "_view_count": null,
       "_view_module": "@jupyter-widgets/base",
       "_view_module_version": "1.2.0",
       "_view_name": "LayoutView",
       "align_content": null,
       "align_items": null,
       "align_self": null,
       "border": null,
       "bottom": null,
       "display": null,
       "flex": null,
       "flex_flow": null,
       "grid_area": null,
       "grid_auto_columns": null,
       "grid_auto_flow": null,
       "grid_auto_rows": null,
       "grid_column": null,
       "grid_gap": null,
       "grid_row": null,
       "grid_template_areas": null,
       "grid_template_columns": null,
       "grid_template_rows": null,
       "height": null,
       "justify_content": null,
       "justify_items": null,
       "left": null,
       "margin": null,
       "max_height": null,
       "max_width": null,
       "min_height": null,
       "min_width": null,
       "object_fit": null,
       "object_position": null,
       "order": null,
       "overflow": null,
       "overflow_x": null,
       "overflow_y": null,
       "padding": null,
       "right": null,
       "top": null,
       "visibility": null,
       "width": null
      }
     },
     "711bb4ea74a3442c94bd08fbdc58b0fd": {
      "model_module": "@jupyter-widgets/controls",
      "model_module_version": "1.5.0",
      "model_name": "DescriptionStyleModel",
      "state": {
       "_model_module": "@jupyter-widgets/controls",
       "_model_module_version": "1.5.0",
       "_model_name": "DescriptionStyleModel",
       "_view_count": null,
       "_view_module": "@jupyter-widgets/base",
       "_view_module_version": "1.2.0",
       "_view_name": "StyleView",
       "description_width": ""
      }
     },
     "73d487e5cb114f63a4f2adaa29b80cf9": {
      "model_module": "@jupyter-widgets/controls",
      "model_module_version": "1.5.0",
      "model_name": "DescriptionStyleModel",
      "state": {
       "_model_module": "@jupyter-widgets/controls",
       "_model_module_version": "1.5.0",
       "_model_name": "DescriptionStyleModel",
       "_view_count": null,
       "_view_module": "@jupyter-widgets/base",
       "_view_module_version": "1.2.0",
       "_view_name": "StyleView",
       "description_width": ""
      }
     },
     "76775f1d6e2c4663be23539718769304": {
      "model_module": "@jupyter-widgets/controls",
      "model_module_version": "1.5.0",
      "model_name": "DescriptionStyleModel",
      "state": {
       "_model_module": "@jupyter-widgets/controls",
       "_model_module_version": "1.5.0",
       "_model_name": "DescriptionStyleModel",
       "_view_count": null,
       "_view_module": "@jupyter-widgets/base",
       "_view_module_version": "1.2.0",
       "_view_name": "StyleView",
       "description_width": ""
      }
     },
     "824a4e2d78ba4085a6381ce5ac4c79b9": {
      "model_module": "@jupyter-widgets/base",
      "model_module_version": "1.2.0",
      "model_name": "LayoutModel",
      "state": {
       "_model_module": "@jupyter-widgets/base",
       "_model_module_version": "1.2.0",
       "_model_name": "LayoutModel",
       "_view_count": null,
       "_view_module": "@jupyter-widgets/base",
       "_view_module_version": "1.2.0",
       "_view_name": "LayoutView",
       "align_content": null,
       "align_items": null,
       "align_self": null,
       "border": null,
       "bottom": null,
       "display": null,
       "flex": null,
       "flex_flow": null,
       "grid_area": null,
       "grid_auto_columns": null,
       "grid_auto_flow": null,
       "grid_auto_rows": null,
       "grid_column": null,
       "grid_gap": null,
       "grid_row": null,
       "grid_template_areas": null,
       "grid_template_columns": null,
       "grid_template_rows": null,
       "height": null,
       "justify_content": null,
       "justify_items": null,
       "left": null,
       "margin": null,
       "max_height": null,
       "max_width": null,
       "min_height": null,
       "min_width": null,
       "object_fit": null,
       "object_position": null,
       "order": null,
       "overflow": null,
       "overflow_x": null,
       "overflow_y": null,
       "padding": null,
       "right": null,
       "top": null,
       "visibility": null,
       "width": null
      }
     },
     "835c4aefba14475a9930e4680215a54f": {
      "model_module": "@jupyter-widgets/base",
      "model_module_version": "1.2.0",
      "model_name": "LayoutModel",
      "state": {
       "_model_module": "@jupyter-widgets/base",
       "_model_module_version": "1.2.0",
       "_model_name": "LayoutModel",
       "_view_count": null,
       "_view_module": "@jupyter-widgets/base",
       "_view_module_version": "1.2.0",
       "_view_name": "LayoutView",
       "align_content": null,
       "align_items": null,
       "align_self": null,
       "border": null,
       "bottom": null,
       "display": null,
       "flex": null,
       "flex_flow": null,
       "grid_area": null,
       "grid_auto_columns": null,
       "grid_auto_flow": null,
       "grid_auto_rows": null,
       "grid_column": null,
       "grid_gap": null,
       "grid_row": null,
       "grid_template_areas": null,
       "grid_template_columns": null,
       "grid_template_rows": null,
       "height": null,
       "justify_content": null,
       "justify_items": null,
       "left": null,
       "margin": null,
       "max_height": null,
       "max_width": null,
       "min_height": null,
       "min_width": null,
       "object_fit": null,
       "object_position": null,
       "order": null,
       "overflow": null,
       "overflow_x": null,
       "overflow_y": null,
       "padding": null,
       "right": null,
       "top": null,
       "visibility": null,
       "width": null
      }
     },
     "836551a4a0154b398ac54ab518bcdfef": {
      "model_module": "@jupyter-widgets/controls",
      "model_module_version": "1.5.0",
      "model_name": "DescriptionStyleModel",
      "state": {
       "_model_module": "@jupyter-widgets/controls",
       "_model_module_version": "1.5.0",
       "_model_name": "DescriptionStyleModel",
       "_view_count": null,
       "_view_module": "@jupyter-widgets/base",
       "_view_module_version": "1.2.0",
       "_view_name": "StyleView",
       "description_width": ""
      }
     },
     "83b15fa64dea41998107a114ae4d15f7": {
      "model_module": "@jupyter-widgets/controls",
      "model_module_version": "1.5.0",
      "model_name": "DescriptionStyleModel",
      "state": {
       "_model_module": "@jupyter-widgets/controls",
       "_model_module_version": "1.5.0",
       "_model_name": "DescriptionStyleModel",
       "_view_count": null,
       "_view_module": "@jupyter-widgets/base",
       "_view_module_version": "1.2.0",
       "_view_name": "StyleView",
       "description_width": ""
      }
     },
     "843a56560382477ba0ed348e0cdfdb93": {
      "model_module": "@jupyter-widgets/base",
      "model_module_version": "1.2.0",
      "model_name": "LayoutModel",
      "state": {
       "_model_module": "@jupyter-widgets/base",
       "_model_module_version": "1.2.0",
       "_model_name": "LayoutModel",
       "_view_count": null,
       "_view_module": "@jupyter-widgets/base",
       "_view_module_version": "1.2.0",
       "_view_name": "LayoutView",
       "align_content": null,
       "align_items": null,
       "align_self": null,
       "border": null,
       "bottom": null,
       "display": null,
       "flex": null,
       "flex_flow": null,
       "grid_area": null,
       "grid_auto_columns": null,
       "grid_auto_flow": null,
       "grid_auto_rows": null,
       "grid_column": null,
       "grid_gap": null,
       "grid_row": null,
       "grid_template_areas": null,
       "grid_template_columns": null,
       "grid_template_rows": null,
       "height": null,
       "justify_content": null,
       "justify_items": null,
       "left": null,
       "margin": null,
       "max_height": null,
       "max_width": null,
       "min_height": null,
       "min_width": null,
       "object_fit": null,
       "object_position": null,
       "order": null,
       "overflow": null,
       "overflow_x": null,
       "overflow_y": null,
       "padding": null,
       "right": null,
       "top": null,
       "visibility": null,
       "width": null
      }
     },
     "85de645dc4e04583bf2be7d11c3bca2a": {
      "model_module": "@jupyter-widgets/controls",
      "model_module_version": "1.5.0",
      "model_name": "DescriptionStyleModel",
      "state": {
       "_model_module": "@jupyter-widgets/controls",
       "_model_module_version": "1.5.0",
       "_model_name": "DescriptionStyleModel",
       "_view_count": null,
       "_view_module": "@jupyter-widgets/base",
       "_view_module_version": "1.2.0",
       "_view_name": "StyleView",
       "description_width": ""
      }
     },
     "8fb57abeeb7a48da962cdf2d8c6f8c73": {
      "model_module": "@jupyter-widgets/base",
      "model_module_version": "1.2.0",
      "model_name": "LayoutModel",
      "state": {
       "_model_module": "@jupyter-widgets/base",
       "_model_module_version": "1.2.0",
       "_model_name": "LayoutModel",
       "_view_count": null,
       "_view_module": "@jupyter-widgets/base",
       "_view_module_version": "1.2.0",
       "_view_name": "LayoutView",
       "align_content": null,
       "align_items": null,
       "align_self": null,
       "border": null,
       "bottom": null,
       "display": null,
       "flex": null,
       "flex_flow": null,
       "grid_area": null,
       "grid_auto_columns": null,
       "grid_auto_flow": null,
       "grid_auto_rows": null,
       "grid_column": null,
       "grid_gap": null,
       "grid_row": null,
       "grid_template_areas": null,
       "grid_template_columns": null,
       "grid_template_rows": null,
       "height": null,
       "justify_content": null,
       "justify_items": null,
       "left": null,
       "margin": null,
       "max_height": null,
       "max_width": null,
       "min_height": null,
       "min_width": null,
       "object_fit": null,
       "object_position": null,
       "order": null,
       "overflow": null,
       "overflow_x": null,
       "overflow_y": null,
       "padding": null,
       "right": null,
       "top": null,
       "visibility": null,
       "width": null
      }
     },
     "914fbdbc3fbe46fa8600558b88df77fe": {
      "model_module": "@jupyter-widgets/controls",
      "model_module_version": "1.5.0",
      "model_name": "DescriptionStyleModel",
      "state": {
       "_model_module": "@jupyter-widgets/controls",
       "_model_module_version": "1.5.0",
       "_model_name": "DescriptionStyleModel",
       "_view_count": null,
       "_view_module": "@jupyter-widgets/base",
       "_view_module_version": "1.2.0",
       "_view_name": "StyleView",
       "description_width": ""
      }
     },
     "92eda097a4b5485986b1f8030dfcd6e3": {
      "model_module": "@jupyter-widgets/base",
      "model_module_version": "1.2.0",
      "model_name": "LayoutModel",
      "state": {
       "_model_module": "@jupyter-widgets/base",
       "_model_module_version": "1.2.0",
       "_model_name": "LayoutModel",
       "_view_count": null,
       "_view_module": "@jupyter-widgets/base",
       "_view_module_version": "1.2.0",
       "_view_name": "LayoutView",
       "align_content": null,
       "align_items": null,
       "align_self": null,
       "border": null,
       "bottom": null,
       "display": null,
       "flex": null,
       "flex_flow": null,
       "grid_area": null,
       "grid_auto_columns": null,
       "grid_auto_flow": null,
       "grid_auto_rows": null,
       "grid_column": null,
       "grid_gap": null,
       "grid_row": null,
       "grid_template_areas": null,
       "grid_template_columns": null,
       "grid_template_rows": null,
       "height": null,
       "justify_content": null,
       "justify_items": null,
       "left": null,
       "margin": null,
       "max_height": null,
       "max_width": null,
       "min_height": null,
       "min_width": null,
       "object_fit": null,
       "object_position": null,
       "order": null,
       "overflow": null,
       "overflow_x": null,
       "overflow_y": null,
       "padding": null,
       "right": null,
       "top": null,
       "visibility": null,
       "width": null
      }
     },
     "95dfa5a4dabc438bbb830a921dd1754b": {
      "model_module": "@jupyter-widgets/controls",
      "model_module_version": "1.5.0",
      "model_name": "DescriptionStyleModel",
      "state": {
       "_model_module": "@jupyter-widgets/controls",
       "_model_module_version": "1.5.0",
       "_model_name": "DescriptionStyleModel",
       "_view_count": null,
       "_view_module": "@jupyter-widgets/base",
       "_view_module_version": "1.2.0",
       "_view_name": "StyleView",
       "description_width": ""
      }
     },
     "99a5fe219d9c43c4ab29fdd5d535a74d": {
      "model_module": "@jupyter-widgets/controls",
      "model_module_version": "1.5.0",
      "model_name": "DescriptionStyleModel",
      "state": {
       "_model_module": "@jupyter-widgets/controls",
       "_model_module_version": "1.5.0",
       "_model_name": "DescriptionStyleModel",
       "_view_count": null,
       "_view_module": "@jupyter-widgets/base",
       "_view_module_version": "1.2.0",
       "_view_name": "StyleView",
       "description_width": ""
      }
     },
     "9b960612eec64130b654547f0bf283ab": {
      "model_module": "@jupyter-widgets/controls",
      "model_module_version": "1.5.0",
      "model_name": "HTMLModel",
      "state": {
       "_dom_classes": [],
       "_model_module": "@jupyter-widgets/controls",
       "_model_module_version": "1.5.0",
       "_model_name": "HTMLModel",
       "_view_count": null,
       "_view_module": "@jupyter-widgets/controls",
       "_view_module_version": "1.5.0",
       "_view_name": "HTMLView",
       "description": "",
       "description_tooltip": null,
       "layout": "IPY_MODEL_c492131fd8094c9c95bb2940c390cc6d",
       "placeholder": "​",
       "style": "IPY_MODEL_11bb8c66db744685b35e04701dae06a1",
       "value": "<h4>Closed PRs for repo: <a href=\"https://github.com/jupyter-widgets/ipyleaflet\">jupyter-widgets/ipyleaflet</a></h4>\n<h5></h5>\n<ul>\n<li><a href=\"https://github.com/jupyter-widgets/ipyleaflet/pull/737\">(#737)</a>: <em>Add Map.fit_bounds(bounds)</em> by <strong><a href=\"https://github.com/davidbrochart\">@davidbrochart</a></strong> merged by <strong><a href=\"https://github.com/davidbrochart\">@davidbrochart</a></strong></li>\n<li><a href=\"https://github.com/jupyter-widgets/ipyleaflet/pull/736\">(#736)</a>: <em>Change license to MIT</em> by <strong><a href=\"https://github.com/davidbrochart\">@davidbrochart</a></strong> merged by <strong><a href=\"https://github.com/martinRenou\">@martinRenou</a></strong></li>\n<li><a href=\"https://github.com/jupyter-widgets/ipyleaflet/pull/733\">(#733)</a>: <em>[WIP] Add MagnifyingGlass layer</em> by <strong><a href=\"https://github.com/davidbrochart\">@davidbrochart</a></strong> merged by <strong><a href=\"https://github.com/davidbrochart\">@davidbrochart</a></strong></li>\n<li><a href=\"https://github.com/jupyter-widgets/ipyleaflet/pull/732\">(#732)</a>: <em>To make WidgetControl background transparent</em> by <strong><a href=\"https://github.com/omanges\">@omanges</a></strong> merged by <strong><a href=\"https://github.com/martinRenou\">@martinRenou</a></strong></li>\n<li><a href=\"https://github.com/jupyter-widgets/ipyleaflet/pull/731\">(#731)</a>: <em>CI: Reduce build matrix</em> by <strong><a href=\"https://github.com/martinRenou\">@martinRenou</a></strong> merged by <strong><a href=\"https://github.com/martinRenou\">@martinRenou</a></strong></li>\n<li><a href=\"https://github.com/jupyter-widgets/ipyleaflet/pull/730\">(#730)</a>: <em>Git: Ignore Untitled Notebooks</em> by <strong><a href=\"https://github.com/martinRenou\">@martinRenou</a></strong> merged by <strong><a href=\"https://github.com/martinRenou\">@martinRenou</a></strong></li>\n<li><a href=\"https://github.com/jupyter-widgets/ipyleaflet/pull/729\">(#729)</a>: <em>Remove class_name</em> by <strong><a href=\"https://github.com/deeplook\">@deeplook</a></strong> merged by <strong><a href=\"https://github.com/martinRenou\">@martinRenou</a></strong></li>\n<li><a href=\"https://github.com/jupyter-widgets/ipyleaflet/pull/727\">(#727)</a>: <em>Added support for DivIcon</em> by <strong><a href=\"https://github.com/omanges\">@omanges</a></strong> merged by <strong><a href=\"https://github.com/martinRenou\">@martinRenou</a></strong></li>\n<li><a href=\"https://github.com/jupyter-widgets/ipyleaflet/pull/725\">(#725)</a>: <em>Bump npm-user-validate from 1.0.0 to 1.0.1 in /js</em> by <strong><a href=\"https://github.com/dependabot\">@dependabot</a></strong> merged by <strong><a href=\"https://github.com/martinRenou\">@martinRenou</a></strong></li>\n<li><a href=\"https://github.com/jupyter-widgets/ipyleaflet/pull/724\">(#724)</a>: <em>Add custom tile server  GIF to example notebook</em> by <strong><a href=\"https://github.com/deeplook\">@deeplook</a></strong> merged by <strong><a href=\"https://github.com/martinRenou\">@martinRenou</a></strong></li>\n<li><a href=\"https://github.com/jupyter-widgets/ipyleaflet/pull/707\">(#707)</a>: <em>Added callback functionality for seached GeoJSON feature in SearchControl</em> by <strong><a href=\"https://github.com/sackh\">@sackh</a></strong> merged by <strong><a href=\"https://github.com/martinRenou\">@martinRenou</a></strong></li>\n<li><a href=\"https://github.com/jupyter-widgets/ipyleaflet/pull/704\">(#704)</a>: <em>Set --minimize=False on Binder</em> by <strong><a href=\"https://github.com/jtpio\">@jtpio</a></strong> merged by <strong><a href=\"https://github.com/martinRenou\">@martinRenou</a></strong></li>\n<li><a href=\"https://github.com/jupyter-widgets/ipyleaflet/pull/701\">(#701)</a>: <em>Fix Binder</em> by <strong><a href=\"https://github.com/martinRenou\">@martinRenou</a></strong> merged by <strong><a href=\"https://github.com/martinRenou\">@martinRenou</a></strong></li>\n<li><a href=\"https://github.com/jupyter-widgets/ipyleaflet/pull/700\">(#700)</a>: <em>Update environment.yml</em> by <strong><a href=\"https://github.com/banjaxedben\">@banjaxedben</a></strong> merged by <strong><a href=\"https://github.com/martinRenou\">@martinRenou</a></strong></li>\n<li><a href=\"https://github.com/jupyter-widgets/ipyleaflet/pull/695\">(#695)</a>: <em>Update documentation to add geojson point_style attribute (#694)</em> by <strong><a href=\"https://github.com/martinRenou\">@martinRenou</a></strong> merged by <strong><a href=\"https://github.com/martinRenou\">@martinRenou</a></strong></li>\n<li><a href=\"https://github.com/jupyter-widgets/ipyleaflet/pull/694\">(#694)</a>: <em>Update geodata.rst to add point_style attribute</em> by <strong><a href=\"https://github.com/drf5n\">@drf5n</a></strong> merged by <strong><a href=\"https://github.com/martinRenou\">@martinRenou</a></strong></li>\n<li><a href=\"https://github.com/jupyter-widgets/ipyleaflet/pull/692\">(#692)</a>: <em>Bump node-fetch from 2.6.0 to 2.6.1 in /js</em> by <strong><a href=\"https://github.com/dependabot\">@dependabot</a></strong> merged by <strong><a href=\"https://github.com/martinRenou\">@martinRenou</a></strong></li>\n<li><a href=\"https://github.com/jupyter-widgets/ipyleaflet/pull/691\">(#691)</a>: <em>Added example notebooks for KML and GPX file formats</em> by <strong><a href=\"https://github.com/sackh\">@sackh</a></strong> merged by <strong><a href=\"https://github.com/martinRenou\">@martinRenou</a></strong></li>\n<li><a href=\"https://github.com/jupyter-widgets/ipyleaflet/pull/688\">(#688)</a>: <em>Made default value of zoom trait for SearchControl None, so it will not change by default</em> by <strong><a href=\"https://github.com/sackh\">@sackh</a></strong> merged by <strong><a href=\"https://github.com/martinRenou\">@martinRenou</a></strong></li>\n<li><a href=\"https://github.com/jupyter-widgets/ipyleaflet/pull/685\">(#685)</a>: <em>Revert \"fixed tooltip popup for title of marker\"</em> by <strong><a href=\"https://github.com/martinRenou\">@martinRenou</a></strong> merged by <strong><a href=\"https://github.com/martinRenou\">@martinRenou</a></strong></li>\n<li><a href=\"https://github.com/jupyter-widgets/ipyleaflet/pull/683\">(#683)</a>: <em>Add dependency of shapely separately as Geopandas is dependency for building docs</em> by <strong><a href=\"https://github.com/sackh\">@sackh</a></strong> merged by <strong><a href=\"https://github.com/martinRenou\">@martinRenou</a></strong></li>\n<li><a href=\"https://github.com/jupyter-widgets/ipyleaflet/pull/681\">(#681)</a>: <em>add gaode</em> by <strong><a href=\"https://github.com/xiangmeng4geo\">@xiangmeng4geo</a></strong> merged by <strong><a href=\"https://github.com/davidbrochart\">@davidbrochart</a></strong></li>\n</ul>"
      }
     },
     "9ebc1b2534094e0cae07b49a0a7088df": {
      "model_module": "@jupyter-widgets/base",
      "model_module_version": "1.2.0",
      "model_name": "LayoutModel",
      "state": {
       "_model_module": "@jupyter-widgets/base",
       "_model_module_version": "1.2.0",
       "_model_name": "LayoutModel",
       "_view_count": null,
       "_view_module": "@jupyter-widgets/base",
       "_view_module_version": "1.2.0",
       "_view_name": "LayoutView",
       "align_content": null,
       "align_items": null,
       "align_self": null,
       "border": null,
       "bottom": null,
       "display": null,
       "flex": null,
       "flex_flow": null,
       "grid_area": null,
       "grid_auto_columns": null,
       "grid_auto_flow": null,
       "grid_auto_rows": null,
       "grid_column": null,
       "grid_gap": null,
       "grid_row": null,
       "grid_template_areas": null,
       "grid_template_columns": null,
       "grid_template_rows": null,
       "height": null,
       "justify_content": null,
       "justify_items": null,
       "left": null,
       "margin": null,
       "max_height": null,
       "max_width": null,
       "min_height": null,
       "min_width": null,
       "object_fit": null,
       "object_position": null,
       "order": null,
       "overflow": null,
       "overflow_x": null,
       "overflow_y": null,
       "padding": null,
       "right": null,
       "top": null,
       "visibility": null,
       "width": null
      }
     },
     "a307fe3e4b024656b79a3871e7c8857d": {
      "model_module": "@jupyter-widgets/controls",
      "model_module_version": "1.5.0",
      "model_name": "DescriptionStyleModel",
      "state": {
       "_model_module": "@jupyter-widgets/controls",
       "_model_module_version": "1.5.0",
       "_model_name": "DescriptionStyleModel",
       "_view_count": null,
       "_view_module": "@jupyter-widgets/base",
       "_view_module_version": "1.2.0",
       "_view_name": "StyleView",
       "description_width": ""
      }
     },
     "a80052b654654776ab141511f03ba1c8": {
      "model_module": "@jupyter-widgets/controls",
      "model_module_version": "1.5.0",
      "model_name": "DescriptionStyleModel",
      "state": {
       "_model_module": "@jupyter-widgets/controls",
       "_model_module_version": "1.5.0",
       "_model_name": "DescriptionStyleModel",
       "_view_count": null,
       "_view_module": "@jupyter-widgets/base",
       "_view_module_version": "1.2.0",
       "_view_name": "StyleView",
       "description_width": ""
      }
     },
     "a804bba3ed7a4fe6b3b33508eb6cee99": {
      "model_module": "@jupyter-widgets/controls",
      "model_module_version": "1.5.0",
      "model_name": "DescriptionStyleModel",
      "state": {
       "_model_module": "@jupyter-widgets/controls",
       "_model_module_version": "1.5.0",
       "_model_name": "DescriptionStyleModel",
       "_view_count": null,
       "_view_module": "@jupyter-widgets/base",
       "_view_module_version": "1.2.0",
       "_view_name": "StyleView",
       "description_width": ""
      }
     },
     "a951043c8986437ea346255b69f1132c": {
      "model_module": "@jupyter-widgets/base",
      "model_module_version": "1.2.0",
      "model_name": "LayoutModel",
      "state": {
       "_model_module": "@jupyter-widgets/base",
       "_model_module_version": "1.2.0",
       "_model_name": "LayoutModel",
       "_view_count": null,
       "_view_module": "@jupyter-widgets/base",
       "_view_module_version": "1.2.0",
       "_view_name": "LayoutView",
       "align_content": null,
       "align_items": null,
       "align_self": null,
       "border": null,
       "bottom": null,
       "display": null,
       "flex": null,
       "flex_flow": null,
       "grid_area": null,
       "grid_auto_columns": null,
       "grid_auto_flow": null,
       "grid_auto_rows": null,
       "grid_column": null,
       "grid_gap": null,
       "grid_row": null,
       "grid_template_areas": null,
       "grid_template_columns": null,
       "grid_template_rows": null,
       "height": null,
       "justify_content": null,
       "justify_items": null,
       "left": null,
       "margin": null,
       "max_height": null,
       "max_width": null,
       "min_height": null,
       "min_width": null,
       "object_fit": null,
       "object_position": null,
       "order": null,
       "overflow": null,
       "overflow_x": null,
       "overflow_y": null,
       "padding": null,
       "right": null,
       "top": null,
       "visibility": null,
       "width": null
      }
     },
     "a9510c8786ea454c84b0d091859dfe02": {
      "model_module": "@jupyter-widgets/controls",
      "model_module_version": "1.5.0",
      "model_name": "HTMLModel",
      "state": {
       "_dom_classes": [],
       "_model_module": "@jupyter-widgets/controls",
       "_model_module_version": "1.5.0",
       "_model_name": "HTMLModel",
       "_view_count": null,
       "_view_module": "@jupyter-widgets/controls",
       "_view_module_version": "1.5.0",
       "_view_name": "HTMLView",
       "description": "",
       "description_tooltip": null,
       "layout": "IPY_MODEL_f5b5b1fc1c9c4235b130761e384b6faf",
       "placeholder": "​",
       "style": "IPY_MODEL_73d487e5cb114f63a4f2adaa29b80cf9",
       "value": "<h5><a href=\"https://github.com/jupyter-widgets/pythreejs\">jupyter-widgets/pythreejs</a></h5>\n<ul>\n<li><a href=\"https://github.com/jupyter-widgets/pythreejs/issues/334\">(#334)</a>: <em>Nothing rendered in jupyter notebook.</em> by <strong><a href=\"https://github.com/bingjeff\">@bingjeff</a></strong></li>\n<li><a href=\"https://github.com/jupyter-widgets/pythreejs/issues/337\">(#337)</a>: <em>display error (type error)</em> by <strong><a href=\"https://github.com/threepebbles\">@threepebbles</a></strong></li>\n<li><a href=\"https://github.com/jupyter-widgets/pythreejs/issues/335\">(#335)</a>: <em>Unreliable capture with ImageRecorder on Safari</em> by <strong><a href=\"https://github.com/jpanetta\">@jpanetta</a></strong></li>\n</ul>"
      }
     },
     "aae03e3ff8a9492f9fded45fbfcf1e80": {
      "model_module": "@jupyter-widgets/controls",
      "model_module_version": "1.5.0",
      "model_name": "HTMLModel",
      "state": {
       "_dom_classes": [],
       "_model_module": "@jupyter-widgets/controls",
       "_model_module_version": "1.5.0",
       "_model_name": "HTMLModel",
       "_view_count": null,
       "_view_module": "@jupyter-widgets/controls",
       "_view_module_version": "1.5.0",
       "_view_name": "HTMLView",
       "description": "",
       "description_tooltip": null,
       "layout": "IPY_MODEL_e7d9191bf1f941f1adc40fae547f1372",
       "placeholder": "​",
       "style": "IPY_MODEL_a307fe3e4b024656b79a3871e7c8857d",
       "value": "<h4>Closed PRs for repo: <a href=\"https://github.com/jupyter-widgets/pythreejs\">jupyter-widgets/pythreejs</a></h4>\n<h5></h5>\n<ul>\n<li><a href=\"https://github.com/jupyter-widgets/pythreejs/pull/338\">(#338)</a>: <em>fix traitlets5 compat</em> by <strong><a href=\"https://github.com/vidartf\">@vidartf</a></strong> merged by <strong><a href=\"https://github.com/vidartf\">@vidartf</a></strong></li>\n</ul>"
      }
     },
     "ab05816fa5fe48028dc512ea32e084b2": {
      "model_module": "@jupyter-widgets/controls",
      "model_module_version": "1.5.0",
      "model_name": "HTMLModel",
      "state": {
       "_dom_classes": [],
       "_model_module": "@jupyter-widgets/controls",
       "_model_module_version": "1.5.0",
       "_model_name": "HTMLModel",
       "_view_count": null,
       "_view_module": "@jupyter-widgets/controls",
       "_view_module_version": "1.5.0",
       "_view_name": "HTMLView",
       "description": "",
       "description_tooltip": null,
       "layout": "IPY_MODEL_04007e26ad064adbba9879071b3908ea",
       "placeholder": "​",
       "style": "IPY_MODEL_4791303e5f404b7d94f876ac25962146",
       "value": "<h5><a href=\"https://github.com/jupyter-widgets/widget-ts-cookiecutter\">jupyter-widgets/widget-ts-cookiecutter</a></h5>"
      }
     },
     "aca4e7e3c2dc4940a70222b04a871806": {
      "model_module": "@jupyter-widgets/controls",
      "model_module_version": "1.5.0",
      "model_name": "IntProgressModel",
      "state": {
       "_dom_classes": [],
       "_model_module": "@jupyter-widgets/controls",
       "_model_module_version": "1.5.0",
       "_model_name": "IntProgressModel",
       "_view_count": null,
       "_view_module": "@jupyter-widgets/controls",
       "_view_module_version": "1.5.0",
       "_view_name": "ProgressView",
       "bar_style": "success",
       "description": "Downloading:",
       "description_tooltip": null,
       "layout": "IPY_MODEL_42f26d4738e8477d857d84e43be5beeb",
       "max": 2,
       "min": 0,
       "orientation": "horizontal",
       "style": "IPY_MODEL_5a1121cdbc5447e1a350bcc487e28dbb",
       "value": 2
      }
     },
     "ad78534c8d9842548e0d1784538277d4": {
      "model_module": "@jupyter-widgets/controls",
      "model_module_version": "1.5.0",
      "model_name": "DescriptionStyleModel",
      "state": {
       "_model_module": "@jupyter-widgets/controls",
       "_model_module_version": "1.5.0",
       "_model_name": "DescriptionStyleModel",
       "_view_count": null,
       "_view_module": "@jupyter-widgets/base",
       "_view_module_version": "1.2.0",
       "_view_name": "StyleView",
       "description_width": ""
      }
     },
     "adb2658cb154495e97d8c3e1635aa21b": {
      "model_module": "@jupyter-widgets/controls",
      "model_module_version": "1.5.0",
      "model_name": "DescriptionStyleModel",
      "state": {
       "_model_module": "@jupyter-widgets/controls",
       "_model_module_version": "1.5.0",
       "_model_name": "DescriptionStyleModel",
       "_view_count": null,
       "_view_module": "@jupyter-widgets/base",
       "_view_module_version": "1.2.0",
       "_view_name": "StyleView",
       "description_width": ""
      }
     },
     "b33b20d6c5cb42619aa283f7b6b06a6f": {
      "model_module": "@jupyter-widgets/controls",
      "model_module_version": "1.5.0",
      "model_name": "DescriptionStyleModel",
      "state": {
       "_model_module": "@jupyter-widgets/controls",
       "_model_module_version": "1.5.0",
       "_model_name": "DescriptionStyleModel",
       "_view_count": null,
       "_view_module": "@jupyter-widgets/base",
       "_view_module_version": "1.2.0",
       "_view_name": "StyleView",
       "description_width": ""
      }
     },
     "c3d6c46e49a346fca831e55dbb372494": {
      "model_module": "@jupyter-widgets/controls",
      "model_module_version": "1.5.0",
      "model_name": "HTMLModel",
      "state": {
       "_dom_classes": [],
       "_model_module": "@jupyter-widgets/controls",
       "_model_module_version": "1.5.0",
       "_model_name": "HTMLModel",
       "_view_count": null,
       "_view_module": "@jupyter-widgets/controls",
       "_view_module_version": "1.5.0",
       "_view_name": "HTMLView",
       "description": "",
       "description_tooltip": null,
       "layout": "IPY_MODEL_843a56560382477ba0ed348e0cdfdb93",
       "placeholder": "​",
       "style": "IPY_MODEL_85de645dc4e04583bf2be7d11c3bca2a",
       "value": "<h4>Closed PRs for repo: <a href=\"https://github.com/jupyter-widgets/ipywidgets\">jupyter-widgets/ipywidgets</a></h4>\n<h5></h5>\n<ul>\n<li><a href=\"https://github.com/jupyter-widgets/ipywidgets/pull/2993\">(#2993)</a>: <em>Add license statements from the bundled js packages</em> by <strong><a href=\"https://github.com/jasongrout\">@jasongrout</a></strong> merged by <strong><a href=\"https://github.com/jasongrout\">@jasongrout</a></strong></li>\n<li><a href=\"https://github.com/jupyter-widgets/ipywidgets/pull/2992\">(#2992)</a>: <em>Update JupyterLab to 3.0rc4</em> by <strong><a href=\"https://github.com/jasongrout\">@jasongrout</a></strong> merged by <strong><a href=\"https://github.com/jasongrout\">@jasongrout</a></strong></li>\n<li><a href=\"https://github.com/jupyter-widgets/ipywidgets/pull/2991\">(#2991)</a>: <em>Do not rebuild jupyterlab_widgets assets if static directory exists</em> by <strong><a href=\"https://github.com/jasongrout\">@jasongrout</a></strong> merged by <strong><a href=\"https://github.com/jasongrout\">@jasongrout</a></strong></li>\n<li><a href=\"https://github.com/jupyter-widgets/ipywidgets/pull/2990\">(#2990)</a>: <em>Add license file to jupyterlab_widgets</em> by <strong><a href=\"https://github.com/jasongrout\">@jasongrout</a></strong> merged by <strong><a href=\"https://github.com/jasongrout\">@jasongrout</a></strong></li>\n<li><a href=\"https://github.com/jupyter-widgets/ipywidgets/pull/2984\">(#2984)</a>: <em>fix: when CDN is used as fallback, no module is returned</em> by <strong><a href=\"https://github.com/maartenbreddels\">@maartenbreddels</a></strong> merged by <strong><a href=\"https://github.com/SylvainCorlay\">@SylvainCorlay</a></strong></li>\n<li><a href=\"https://github.com/jupyter-widgets/ipywidgets/pull/2974\">(#2974)</a>: <em>Update release instructions</em> by <strong><a href=\"https://github.com/jasongrout\">@jasongrout</a></strong> merged by <strong><a href=\"https://github.com/jasongrout\">@jasongrout</a></strong></li>\n<li><a href=\"https://github.com/jupyter-widgets/ipywidgets/pull/2973\">(#2973)</a>: <em>Update for JupyterLab 3</em> by <strong><a href=\"https://github.com/jasongrout\">@jasongrout</a></strong> merged by <strong><a href=\"https://github.com/jasongrout\">@jasongrout</a></strong></li>\n<li><a href=\"https://github.com/jupyter-widgets/ipywidgets/pull/2969\">(#2969)</a>: <em>Bump node-fetch from 2.6.0 to 2.6.1</em> by <strong><a href=\"https://github.com/dependabot\">@dependabot</a></strong> merged by <strong><a href=\"https://github.com/vidartf\">@vidartf</a></strong></li>\n<li><a href=\"https://github.com/jupyter-widgets/ipywidgets/pull/2964\">(#2964)</a>: <em>Bump http-proxy from 1.18.0 to 1.18.1</em> by <strong><a href=\"https://github.com/dependabot\">@dependabot</a></strong> merged by <strong><a href=\"https://github.com/vidartf\">@vidartf</a></strong></li>\n<li><a href=\"https://github.com/jupyter-widgets/ipywidgets/pull/2938\">(#2938)</a>: <em>create issue templates</em> by <strong><a href=\"https://github.com/ianhi\">@ianhi</a></strong> merged by <strong><a href=\"https://github.com/vidartf\">@vidartf</a></strong></li>\n<li><a href=\"https://github.com/jupyter-widgets/ipywidgets/pull/2932\">(#2932)</a>: <em>Bump elliptic from 6.5.2 to 6.5.3</em> by <strong><a href=\"https://github.com/dependabot\">@dependabot</a></strong> merged by <strong><a href=\"https://github.com/vidartf\">@vidartf</a></strong></li>\n<li><a href=\"https://github.com/jupyter-widgets/ipywidgets/pull/2925\">(#2925)</a>: <em>Bump lodash from 4.17.15 to 4.17.19</em> by <strong><a href=\"https://github.com/dependabot\">@dependabot</a></strong> merged by <strong><a href=\"https://github.com/vidartf\">@vidartf</a></strong></li>\n</ul>"
      }
     },
     "c42dd9361e3b43af9156b728ad1152a8": {
      "model_module": "@jupyter-widgets/controls",
      "model_module_version": "1.5.0",
      "model_name": "HTMLModel",
      "state": {
       "_dom_classes": [],
       "_model_module": "@jupyter-widgets/controls",
       "_model_module_version": "1.5.0",
       "_model_name": "HTMLModel",
       "_view_count": null,
       "_view_module": "@jupyter-widgets/controls",
       "_view_module_version": "1.5.0",
       "_view_name": "HTMLView",
       "description": "",
       "description_tooltip": null,
       "layout": "IPY_MODEL_fd7d28ab321c40e28942651464318b20",
       "placeholder": "​",
       "style": "IPY_MODEL_836551a4a0154b398ac54ab518bcdfef",
       "value": "<h5><a href=\"https://github.com/jupyter-widgets/ipywidgets\">jupyter-widgets/ipywidgets</a></h5>\n<ul>\n<li><a href=\"https://github.com/jupyter-widgets/ipywidgets/issues/2983\">(#2983)</a>: <em>JupyterLab Setup is unclear</em> by <strong><a href=\"https://github.com/keckelt\">@keckelt</a></strong></li>\n<li><a href=\"https://github.com/jupyter-widgets/ipywidgets/issues/2961\">(#2961)</a>: <em>Error while installing jupyter labextension install @jupyter-widgets/jupyterlab-manager</em> by <strong><a href=\"https://github.com/ramanamohan\">@ramanamohan</a></strong></li>\n<li><a href=\"https://github.com/jupyter-widgets/ipywidgets/issues/2958\">(#2958)</a>: _custom widget installation on AWS Sagemaker _ by <strong><a href=\"https://github.com/cornhundred\">@cornhundred</a></strong></li>\n</ul>"
      }
     },
     "c492131fd8094c9c95bb2940c390cc6d": {
      "model_module": "@jupyter-widgets/base",
      "model_module_version": "1.2.0",
      "model_name": "LayoutModel",
      "state": {
       "_model_module": "@jupyter-widgets/base",
       "_model_module_version": "1.2.0",
       "_model_name": "LayoutModel",
       "_view_count": null,
       "_view_module": "@jupyter-widgets/base",
       "_view_module_version": "1.2.0",
       "_view_name": "LayoutView",
       "align_content": null,
       "align_items": null,
       "align_self": null,
       "border": null,
       "bottom": null,
       "display": null,
       "flex": null,
       "flex_flow": null,
       "grid_area": null,
       "grid_auto_columns": null,
       "grid_auto_flow": null,
       "grid_auto_rows": null,
       "grid_column": null,
       "grid_gap": null,
       "grid_row": null,
       "grid_template_areas": null,
       "grid_template_columns": null,
       "grid_template_rows": null,
       "height": null,
       "justify_content": null,
       "justify_items": null,
       "left": null,
       "margin": null,
       "max_height": null,
       "max_width": null,
       "min_height": null,
       "min_width": null,
       "object_fit": null,
       "object_position": null,
       "order": null,
       "overflow": null,
       "overflow_x": null,
       "overflow_y": null,
       "padding": null,
       "right": null,
       "top": null,
       "visibility": null,
       "width": null
      }
     },
     "c7edbbf9a18e4d84a8d3e3c4a83f6387": {
      "model_module": "@jupyter-widgets/controls",
      "model_module_version": "1.5.0",
      "model_name": "IntProgressModel",
      "state": {
       "_dom_classes": [],
       "_model_module": "@jupyter-widgets/controls",
       "_model_module_version": "1.5.0",
       "_model_name": "IntProgressModel",
       "_view_count": null,
       "_view_module": "@jupyter-widgets/controls",
       "_view_module_version": "1.5.0",
       "_view_name": "ProgressView",
       "bar_style": "success",
       "description": "Downloading:",
       "description_tooltip": null,
       "layout": "IPY_MODEL_9ebc1b2534094e0cae07b49a0a7088df",
       "max": 3,
       "min": 0,
       "orientation": "horizontal",
       "style": "IPY_MODEL_254bebb200fb4cea810b7d8747126f97",
       "value": 3
      }
     },
     "d8990d59ae4d423495232073b7e020aa": {
      "model_module": "@jupyter-widgets/base",
      "model_module_version": "1.2.0",
      "model_name": "LayoutModel",
      "state": {
       "_model_module": "@jupyter-widgets/base",
       "_model_module_version": "1.2.0",
       "_model_name": "LayoutModel",
       "_view_count": null,
       "_view_module": "@jupyter-widgets/base",
       "_view_module_version": "1.2.0",
       "_view_name": "LayoutView",
       "align_content": null,
       "align_items": null,
       "align_self": null,
       "border": null,
       "bottom": null,
       "display": null,
       "flex": null,
       "flex_flow": null,
       "grid_area": null,
       "grid_auto_columns": null,
       "grid_auto_flow": null,
       "grid_auto_rows": null,
       "grid_column": null,
       "grid_gap": null,
       "grid_row": null,
       "grid_template_areas": null,
       "grid_template_columns": null,
       "grid_template_rows": null,
       "height": null,
       "justify_content": null,
       "justify_items": null,
       "left": null,
       "margin": null,
       "max_height": null,
       "max_width": null,
       "min_height": null,
       "min_width": null,
       "object_fit": null,
       "object_position": null,
       "order": null,
       "overflow": null,
       "overflow_x": null,
       "overflow_y": null,
       "padding": null,
       "right": null,
       "top": null,
       "visibility": null,
       "width": null
      }
     },
     "d9ba7451bc2148f0b4726dba7582fc04": {
      "model_module": "@jupyter-widgets/controls",
      "model_module_version": "1.5.0",
      "model_name": "TabModel",
      "state": {
       "_dom_classes": [],
       "_model_module": "@jupyter-widgets/controls",
       "_model_module_version": "1.5.0",
       "_model_name": "TabModel",
       "_titles": {
        "0": "ipyleaflet",
        "1": "ipywidgets",
        "2": "pythreejs",
        "3": "tutorial",
        "4": "widget-cookiecutter"
       },
       "_view_count": null,
       "_view_module": "@jupyter-widgets/controls",
       "_view_module_version": "1.5.0",
       "_view_name": "TabView",
       "box_style": "",
       "children": [
        "IPY_MODEL_9b960612eec64130b654547f0bf283ab",
        "IPY_MODEL_c3d6c46e49a346fca831e55dbb372494",
        "IPY_MODEL_aae03e3ff8a9492f9fded45fbfcf1e80",
        "IPY_MODEL_471ef0f769f4454e80968d5b4ed8152d",
        "IPY_MODEL_22f07bed638246f49e18371f05636662"
       ],
       "layout": "IPY_MODEL_835c4aefba14475a9930e4680215a54f",
       "selected_index": 0
      }
     },
     "e44ad6dd4ab04f8b9d02fe2acd538601": {
      "model_module": "@jupyter-widgets/base",
      "model_module_version": "1.2.0",
      "model_name": "LayoutModel",
      "state": {
       "_model_module": "@jupyter-widgets/base",
       "_model_module_version": "1.2.0",
       "_model_name": "LayoutModel",
       "_view_count": null,
       "_view_module": "@jupyter-widgets/base",
       "_view_module_version": "1.2.0",
       "_view_name": "LayoutView",
       "align_content": null,
       "align_items": null,
       "align_self": null,
       "border": null,
       "bottom": null,
       "display": null,
       "flex": null,
       "flex_flow": null,
       "grid_area": null,
       "grid_auto_columns": null,
       "grid_auto_flow": null,
       "grid_auto_rows": null,
       "grid_column": null,
       "grid_gap": null,
       "grid_row": null,
       "grid_template_areas": null,
       "grid_template_columns": null,
       "grid_template_rows": null,
       "height": null,
       "justify_content": null,
       "justify_items": null,
       "left": null,
       "margin": null,
       "max_height": null,
       "max_width": null,
       "min_height": null,
       "min_width": null,
       "object_fit": null,
       "object_position": null,
       "order": null,
       "overflow": null,
       "overflow_x": null,
       "overflow_y": null,
       "padding": null,
       "right": null,
       "top": null,
       "visibility": null,
       "width": null
      }
     },
     "e5e85c3cd75743108bc63816ad21602a": {
      "model_module": "@jupyter-widgets/controls",
      "model_module_version": "1.5.0",
      "model_name": "DescriptionStyleModel",
      "state": {
       "_model_module": "@jupyter-widgets/controls",
       "_model_module_version": "1.5.0",
       "_model_name": "DescriptionStyleModel",
       "_view_count": null,
       "_view_module": "@jupyter-widgets/base",
       "_view_module_version": "1.2.0",
       "_view_name": "StyleView",
       "description_width": ""
      }
     },
     "e7d9191bf1f941f1adc40fae547f1372": {
      "model_module": "@jupyter-widgets/base",
      "model_module_version": "1.2.0",
      "model_name": "LayoutModel",
      "state": {
       "_model_module": "@jupyter-widgets/base",
       "_model_module_version": "1.2.0",
       "_model_name": "LayoutModel",
       "_view_count": null,
       "_view_module": "@jupyter-widgets/base",
       "_view_module_version": "1.2.0",
       "_view_name": "LayoutView",
       "align_content": null,
       "align_items": null,
       "align_self": null,
       "border": null,
       "bottom": null,
       "display": null,
       "flex": null,
       "flex_flow": null,
       "grid_area": null,
       "grid_auto_columns": null,
       "grid_auto_flow": null,
       "grid_auto_rows": null,
       "grid_column": null,
       "grid_gap": null,
       "grid_row": null,
       "grid_template_areas": null,
       "grid_template_columns": null,
       "grid_template_rows": null,
       "height": null,
       "justify_content": null,
       "justify_items": null,
       "left": null,
       "margin": null,
       "max_height": null,
       "max_width": null,
       "min_height": null,
       "min_width": null,
       "object_fit": null,
       "object_position": null,
       "order": null,
       "overflow": null,
       "overflow_x": null,
       "overflow_y": null,
       "padding": null,
       "right": null,
       "top": null,
       "visibility": null,
       "width": null
      }
     },
     "e9507d9c63ba48b686a9ef287b472630": {
      "model_module": "@jupyter-widgets/base",
      "model_module_version": "1.2.0",
      "model_name": "LayoutModel",
      "state": {
       "_model_module": "@jupyter-widgets/base",
       "_model_module_version": "1.2.0",
       "_model_name": "LayoutModel",
       "_view_count": null,
       "_view_module": "@jupyter-widgets/base",
       "_view_module_version": "1.2.0",
       "_view_name": "LayoutView",
       "align_content": null,
       "align_items": null,
       "align_self": null,
       "border": null,
       "bottom": null,
       "display": null,
       "flex": null,
       "flex_flow": null,
       "grid_area": null,
       "grid_auto_columns": null,
       "grid_auto_flow": null,
       "grid_auto_rows": null,
       "grid_column": null,
       "grid_gap": null,
       "grid_row": null,
       "grid_template_areas": null,
       "grid_template_columns": null,
       "grid_template_rows": null,
       "height": null,
       "justify_content": null,
       "justify_items": null,
       "left": null,
       "margin": null,
       "max_height": null,
       "max_width": null,
       "min_height": null,
       "min_width": null,
       "object_fit": null,
       "object_position": null,
       "order": null,
       "overflow": null,
       "overflow_x": null,
       "overflow_y": null,
       "padding": null,
       "right": null,
       "top": null,
       "visibility": null,
       "width": null
      }
     },
     "eab6c5624cea42129bb8468e27dd464e": {
      "model_module": "@jupyter-widgets/controls",
      "model_module_version": "1.5.0",
      "model_name": "HTMLModel",
      "state": {
       "_dom_classes": [],
       "_model_module": "@jupyter-widgets/controls",
       "_model_module_version": "1.5.0",
       "_model_name": "HTMLModel",
       "_view_count": null,
       "_view_module": "@jupyter-widgets/controls",
       "_view_module_version": "1.5.0",
       "_view_name": "HTMLView",
       "description": "",
       "description_tooltip": null,
       "layout": "IPY_MODEL_e9507d9c63ba48b686a9ef287b472630",
       "placeholder": "​",
       "style": "IPY_MODEL_e5e85c3cd75743108bc63816ad21602a",
       "value": "<h5><a href=\"https://github.com/jupyter-widgets/ipyleaflet\">jupyter-widgets/ipyleaflet</a></h5>\n<ul>\n<li><a href=\"https://github.com/jupyter-widgets/ipyleaflet/issues/739\">(#739)</a>: <em>How to display map object using ipyleaflet in jupyter notebook or jupyter Lab</em> by <strong><a href=\"https://github.com/Sowkel\">@Sowkel</a></strong></li>\n<li><a href=\"https://github.com/jupyter-widgets/ipyleaflet/issues/699\">(#699)</a>: <em>JupyterLab failed to build on Binder</em> by <strong><a href=\"https://github.com/banjaxedben\">@banjaxedben</a></strong></li>\n<li><a href=\"https://github.com/jupyter-widgets/ipyleaflet/issues/693\">(#693)</a>: <em>SplitMap control has a horizontal line</em> by <strong><a href=\"https://github.com/giswqs\">@giswqs</a></strong></li>\n<li><a href=\"https://github.com/jupyter-widgets/ipyleaflet/issues/711\">(#711)</a>: <em>Questions about options attribute</em> by <strong><a href=\"https://github.com/nighcoder\">@nighcoder</a></strong></li>\n<li><a href=\"https://github.com/jupyter-widgets/ipyleaflet/issues/705\">(#705)</a>: <em>Better support for plotting numpy arrays</em> by <strong><a href=\"https://github.com/tkarna\">@tkarna</a></strong></li>\n</ul>"
      }
     },
     "ef0b6fd25d1840388549a767696b39ad": {
      "model_module": "@jupyter-widgets/controls",
      "model_module_version": "1.5.0",
      "model_name": "HTMLModel",
      "state": {
       "_dom_classes": [],
       "_model_module": "@jupyter-widgets/controls",
       "_model_module_version": "1.5.0",
       "_model_name": "HTMLModel",
       "_view_count": null,
       "_view_module": "@jupyter-widgets/controls",
       "_view_module_version": "1.5.0",
       "_view_name": "HTMLView",
       "description": "",
       "description_tooltip": null,
       "layout": "IPY_MODEL_2186966759474a5da7a8c61e49de6fc0",
       "placeholder": "​",
       "style": "IPY_MODEL_914fbdbc3fbe46fa8600558b88df77fe",
       "value": "<h5><a href=\"https://github.com/jupyter-widgets/widget-cookiecutter\">jupyter-widgets/widget-cookiecutter</a></h5>\n<ul>\n<li><a href=\"https://github.com/jupyter-widgets/widget-cookiecutter/issues/69\">(#69)</a>: <em>can't copy static/extension.js</em> by <strong><a href=\"https://github.com/rmorshea\">@rmorshea</a></strong></li>\n<li><a href=\"https://github.com/jupyter-widgets/widget-cookiecutter/issues/68\">(#68)</a>: <em>Setup.py Targets Moved</em> by <strong><a href=\"https://github.com/rmorshea\">@rmorshea</a></strong></li>\n</ul>"
      }
     },
     "f3bea857fe3844a698fe6ddc0d0bac56": {
      "model_module": "@jupyter-widgets/controls",
      "model_module_version": "1.5.0",
      "model_name": "HTMLModel",
      "state": {
       "_dom_classes": [],
       "_model_module": "@jupyter-widgets/controls",
       "_model_module_version": "1.5.0",
       "_model_name": "HTMLModel",
       "_view_count": null,
       "_view_module": "@jupyter-widgets/controls",
       "_view_module_version": "1.5.0",
       "_view_name": "HTMLView",
       "description": "",
       "description_tooltip": null,
       "layout": "IPY_MODEL_02f6166e582d428980ff43e5b91afea0",
       "placeholder": "​",
       "style": "IPY_MODEL_6021f846592844e38e27a2e95ee09cf9",
       "value": "<h5><a href=\"https://github.com/jupyter-widgets/ipyleaflet\">jupyter-widgets/ipyleaflet</a></h5>\n<ul>\n<li><a href=\"https://github.com/jupyter-widgets/ipyleaflet/issues/739\">(#739)</a>: <em>How to display map object using ipyleaflet in jupyter notebook or jupyter Lab</em> by <strong><a href=\"https://github.com/Sowkel\">@Sowkel</a></strong></li>\n<li><a href=\"https://github.com/jupyter-widgets/ipyleaflet/issues/699\">(#699)</a>: <em>JupyterLab failed to build on Binder</em> by <strong><a href=\"https://github.com/banjaxedben\">@banjaxedben</a></strong></li>\n<li><a href=\"https://github.com/jupyter-widgets/ipyleaflet/issues/693\">(#693)</a>: <em>SplitMap control has a horizontal line</em> by <strong><a href=\"https://github.com/giswqs\">@giswqs</a></strong></li>\n<li><a href=\"https://github.com/jupyter-widgets/ipyleaflet/issues/711\">(#711)</a>: <em>Questions about options attribute</em> by <strong><a href=\"https://github.com/nighcoder\">@nighcoder</a></strong></li>\n<li><a href=\"https://github.com/jupyter-widgets/ipyleaflet/issues/705\">(#705)</a>: <em>Better support for plotting numpy arrays</em> by <strong><a href=\"https://github.com/tkarna\">@tkarna</a></strong></li>\n</ul>"
      }
     },
     "f47c6c43a01242439dc124634e2760bf": {
      "model_module": "@jupyter-widgets/controls",
      "model_module_version": "1.5.0",
      "model_name": "DescriptionStyleModel",
      "state": {
       "_model_module": "@jupyter-widgets/controls",
       "_model_module_version": "1.5.0",
       "_model_name": "DescriptionStyleModel",
       "_view_count": null,
       "_view_module": "@jupyter-widgets/base",
       "_view_module_version": "1.2.0",
       "_view_name": "StyleView",
       "description_width": ""
      }
     },
     "f5b5b1fc1c9c4235b130761e384b6faf": {
      "model_module": "@jupyter-widgets/base",
      "model_module_version": "1.2.0",
      "model_name": "LayoutModel",
      "state": {
       "_model_module": "@jupyter-widgets/base",
       "_model_module_version": "1.2.0",
       "_model_name": "LayoutModel",
       "_view_count": null,
       "_view_module": "@jupyter-widgets/base",
       "_view_module_version": "1.2.0",
       "_view_name": "LayoutView",
       "align_content": null,
       "align_items": null,
       "align_self": null,
       "border": null,
       "bottom": null,
       "display": null,
       "flex": null,
       "flex_flow": null,
       "grid_area": null,
       "grid_auto_columns": null,
       "grid_auto_flow": null,
       "grid_auto_rows": null,
       "grid_column": null,
       "grid_gap": null,
       "grid_row": null,
       "grid_template_areas": null,
       "grid_template_columns": null,
       "grid_template_rows": null,
       "height": null,
       "justify_content": null,
       "justify_items": null,
       "left": null,
       "margin": null,
       "max_height": null,
       "max_width": null,
       "min_height": null,
       "min_width": null,
       "object_fit": null,
       "object_position": null,
       "order": null,
       "overflow": null,
       "overflow_x": null,
       "overflow_y": null,
       "padding": null,
       "right": null,
       "top": null,
       "visibility": null,
       "width": null
      }
     },
     "f86c8ace2d5142d2915c86ef738d78ca": {
      "model_module": "@jupyter-widgets/base",
      "model_module_version": "1.2.0",
      "model_name": "LayoutModel",
      "state": {
       "_model_module": "@jupyter-widgets/base",
       "_model_module_version": "1.2.0",
       "_model_name": "LayoutModel",
       "_view_count": null,
       "_view_module": "@jupyter-widgets/base",
       "_view_module_version": "1.2.0",
       "_view_name": "LayoutView",
       "align_content": null,
       "align_items": null,
       "align_self": null,
       "border": null,
       "bottom": null,
       "display": null,
       "flex": null,
       "flex_flow": null,
       "grid_area": null,
       "grid_auto_columns": null,
       "grid_auto_flow": null,
       "grid_auto_rows": null,
       "grid_column": null,
       "grid_gap": null,
       "grid_row": null,
       "grid_template_areas": null,
       "grid_template_columns": null,
       "grid_template_rows": null,
       "height": null,
       "justify_content": null,
       "justify_items": null,
       "left": null,
       "margin": null,
       "max_height": null,
       "max_width": null,
       "min_height": null,
       "min_width": null,
       "object_fit": null,
       "object_position": null,
       "order": null,
       "overflow": null,
       "overflow_x": null,
       "overflow_y": null,
       "padding": null,
       "right": null,
       "top": null,
       "visibility": null,
       "width": null
      }
     },
     "fd7d28ab321c40e28942651464318b20": {
      "model_module": "@jupyter-widgets/base",
      "model_module_version": "1.2.0",
      "model_name": "LayoutModel",
      "state": {
       "_model_module": "@jupyter-widgets/base",
       "_model_module_version": "1.2.0",
       "_model_name": "LayoutModel",
       "_view_count": null,
       "_view_module": "@jupyter-widgets/base",
       "_view_module_version": "1.2.0",
       "_view_name": "LayoutView",
       "align_content": null,
       "align_items": null,
       "align_self": null,
       "border": null,
       "bottom": null,
       "display": null,
       "flex": null,
       "flex_flow": null,
       "grid_area": null,
       "grid_auto_columns": null,
       "grid_auto_flow": null,
       "grid_auto_rows": null,
       "grid_column": null,
       "grid_gap": null,
       "grid_row": null,
       "grid_template_areas": null,
       "grid_template_columns": null,
       "grid_template_rows": null,
       "height": null,
       "justify_content": null,
       "justify_items": null,
       "left": null,
       "margin": null,
       "max_height": null,
       "max_width": null,
       "min_height": null,
       "min_width": null,
       "object_fit": null,
       "object_position": null,
       "order": null,
       "overflow": null,
       "overflow_x": null,
       "overflow_y": null,
       "padding": null,
       "right": null,
       "top": null,
       "visibility": null,
       "width": null
      }
     },
     "fed6451002134ca9bd2ba5eba1ba0a73": {
      "model_module": "@jupyter-widgets/controls",
      "model_module_version": "1.5.0",
      "model_name": "HTMLModel",
      "state": {
       "_dom_classes": [],
       "_model_module": "@jupyter-widgets/controls",
       "_model_module_version": "1.5.0",
       "_model_name": "HTMLModel",
       "_view_count": null,
       "_view_module": "@jupyter-widgets/controls",
       "_view_module_version": "1.5.0",
       "_view_name": "HTMLView",
       "description": "",
       "description_tooltip": null,
       "layout": "IPY_MODEL_38747dc09a714fa7858aedff2cfa83ce",
       "placeholder": "​",
       "style": "IPY_MODEL_711bb4ea74a3442c94bd08fbdc58b0fd",
       "value": "<h5><a href=\"https://github.com/jupyter-widgets/jupyterlab-sidecar\">jupyter-widgets/jupyterlab-sidecar</a></h5>\n<ul>\n<li><a href=\"https://github.com/jupyter-widgets/jupyterlab-sidecar/issues/56\">(#56)</a>: <em>Typescript compilation errors</em> by <strong><a href=\"https://github.com/bjornandre\">@bjornandre</a></strong></li>\n</ul>"
      }
     }
    },
    "version_major": 2,
    "version_minor": 0
   }
  }
 },
 "nbformat": 4,
 "nbformat_minor": 4
}