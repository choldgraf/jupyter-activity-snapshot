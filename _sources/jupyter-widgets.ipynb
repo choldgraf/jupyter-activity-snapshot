{
 "cells": [
  {
   "cell_type": "markdown",
   "id": "substantial-royalty",
   "metadata": {
    "papermill": {
     "duration": 0.036233,
     "end_time": "2021-01-27T01:55:34.233177",
     "exception": false,
     "start_time": "2021-01-27T01:55:34.196944",
     "status": "completed"
    },
    "tags": []
   },
   "source": [
    "# {glue:text}`jupyter-widgets_github_org`\n",
    "\n",
    "**Activity from {glue:}`jupyter-widgets_start` to {glue:}`jupyter-widgets_stop`**"
   ]
  },
  {
   "cell_type": "code",
   "execution_count": 1,
   "id": "driving-wonder",
   "metadata": {
    "execution": {
     "iopub.execute_input": "2021-01-27T01:55:34.313362Z",
     "iopub.status.busy": "2021-01-27T01:55:34.312789Z",
     "iopub.status.idle": "2021-01-27T01:55:35.786361Z",
     "shell.execute_reply": "2021-01-27T01:55:35.785731Z"
    },
    "papermill": {
     "duration": 1.517676,
     "end_time": "2021-01-27T01:55:35.786581",
     "exception": false,
     "start_time": "2021-01-27T01:55:34.268905",
     "status": "completed"
    },
    "tags": [
     "remove_cell"
    ]
   },
   "outputs": [],
   "source": [
    "import github_activity as ga\n",
    "from datetime import date\n",
    "from dateutil.relativedelta import relativedelta\n",
    "from myst_nb import glue\n",
    "import seaborn as sns\n",
    "import pandas as pd\n",
    "import numpy as np\n",
    "import altair as alt\n",
    "from markdown import markdown\n",
    "from IPython.display import Markdown\n",
    "from ipywidgets.widgets import HTML, Tab\n",
    "from ipywidgets import widgets\n",
    "from datetime import timedelta\n",
    "from matplotlib import pyplot as plt\n",
    "import os.path as op\n",
    "\n",
    "from warnings import simplefilter\n",
    "simplefilter('ignore')"
   ]
  },
  {
   "cell_type": "code",
   "execution_count": 2,
   "id": "marine-appearance",
   "metadata": {
    "execution": {
     "iopub.execute_input": "2021-01-27T01:55:35.915680Z",
     "iopub.status.busy": "2021-01-27T01:55:35.915092Z",
     "iopub.status.idle": "2021-01-27T01:55:35.917974Z",
     "shell.execute_reply": "2021-01-27T01:55:35.918477Z"
    },
    "papermill": {
     "duration": 0.094733,
     "end_time": "2021-01-27T01:55:35.918645",
     "exception": false,
     "start_time": "2021-01-27T01:55:35.823912",
     "status": "completed"
    },
    "tags": [
     "remove_cell"
    ]
   },
   "outputs": [],
   "source": [
    "# Altair config\n",
    "def author_url(author):\n",
    "    return f\"https://github.com/{author}\"\n",
    "\n",
    "def alt_theme():\n",
    "    return {\n",
    "        'config': {\n",
    "            'axisLeft': {\n",
    "                'labelFontSize': 15,\n",
    "            },\n",
    "            'axisBottom': {\n",
    "                'labelFontSize': 15,\n",
    "            },\n",
    "        }\n",
    "    }\n",
    "\n",
    "alt.themes.register('my_theme', alt_theme)\n",
    "alt.themes.enable(\"my_theme\")\n",
    "\n",
    "\n",
    "# Define colors we'll use for GitHub membership\n",
    "author_types = ['MEMBER', 'CONTRIBUTOR', 'COLLABORATOR', \"NONE\"]\n",
    "\n",
    "author_palette = np.array(sns.palettes.blend_palette([\"lightgrey\", \"lightgreen\", \"darkgreen\"], 4)) * 256\n",
    "author_colors = [\"rgb({}, {}, {})\".format(*color) for color in author_palette]\n",
    "author_color_dict = {key: val for key, val in zip(author_types, author_palette)}"
   ]
  },
  {
   "cell_type": "code",
   "execution_count": 3,
   "id": "forbidden-mexico",
   "metadata": {
    "execution": {
     "iopub.execute_input": "2021-01-27T01:55:35.995551Z",
     "iopub.status.busy": "2021-01-27T01:55:35.994950Z",
     "iopub.status.idle": "2021-01-27T01:55:35.997796Z",
     "shell.execute_reply": "2021-01-27T01:55:35.997324Z"
    },
    "papermill": {
     "duration": 0.044697,
     "end_time": "2021-01-27T01:55:35.997946",
     "exception": false,
     "start_time": "2021-01-27T01:55:35.953249",
     "status": "completed"
    },
    "tags": [
     "parameters",
     "hide_input",
     "remove_cell"
    ]
   },
   "outputs": [],
   "source": [
    "github_org = \"jupyterhub\"\n",
    "top_n_repos = 15\n",
    "n_days = 10"
   ]
  },
  {
   "cell_type": "code",
   "execution_count": 4,
   "id": "beautiful-array",
   "metadata": {
    "execution": {
     "iopub.execute_input": "2021-01-27T01:55:36.069426Z",
     "iopub.status.busy": "2021-01-27T01:55:36.068830Z",
     "iopub.status.idle": "2021-01-27T01:55:36.071086Z",
     "shell.execute_reply": "2021-01-27T01:55:36.070589Z"
    },
    "papermill": {
     "duration": 0.039919,
     "end_time": "2021-01-27T01:55:36.071228",
     "exception": false,
     "start_time": "2021-01-27T01:55:36.031309",
     "status": "completed"
    },
    "tags": [
     "injected-parameters",
     "remove-cell"
    ]
   },
   "outputs": [],
   "source": [
    "# Parameters\n",
    "github_org = \"jupyter-widgets\"\n",
    "n_days = 60\n"
   ]
  },
  {
   "cell_type": "code",
   "execution_count": 5,
   "id": "lesser-stupid",
   "metadata": {
    "execution": {
     "iopub.execute_input": "2021-01-27T01:55:36.150892Z",
     "iopub.status.busy": "2021-01-27T01:55:36.149996Z",
     "iopub.status.idle": "2021-01-27T01:55:36.155473Z",
     "shell.execute_reply": "2021-01-27T01:55:36.154999Z"
    },
    "papermill": {
     "duration": 0.048895,
     "end_time": "2021-01-27T01:55:36.155623",
     "exception": false,
     "start_time": "2021-01-27T01:55:36.106728",
     "status": "completed"
    },
    "tags": [
     "remove_cell"
    ]
   },
   "outputs": [
    {
     "data": {
      "application/papermill.record/text/plain": "'jupyter-widgets'"
     },
     "metadata": {
      "scrapbook": {
       "mime_prefix": "application/papermill.record/",
       "name": "jupyter-widgets_github_org"
      }
     },
     "output_type": "display_data"
    },
    {
     "data": {
      "application/papermill.record/text/plain": "'2020-11-28'"
     },
     "metadata": {
      "scrapbook": {
       "mime_prefix": "application/papermill.record/",
       "name": "jupyter-widgets_start"
      }
     },
     "output_type": "display_data"
    },
    {
     "data": {
      "application/papermill.record/text/plain": "'2021-01-27'"
     },
     "metadata": {
      "scrapbook": {
       "mime_prefix": "application/papermill.record/",
       "name": "jupyter-widgets_stop"
      }
     },
     "output_type": "display_data"
    }
   ],
   "source": [
    "############################################################\n",
    "# Variables\n",
    "stop = date.today()\n",
    "start = date.today() - relativedelta(days=n_days)\n",
    "\n",
    "# Strings for use in queries\n",
    "start_date = f\"{start:%Y-%m-%d}\"\n",
    "stop_date = f\"{stop:%Y-%m-%d}\"\n",
    "\n",
    "# Glue variables for use in markdown\n",
    "glue(f\"{github_org}_github_org\", github_org, display=False)\n",
    "glue(f\"{github_org}_start\", start_date, display=False)\n",
    "glue(f\"{github_org}_stop\", stop_date, display=False)"
   ]
  },
  {
   "cell_type": "code",
   "execution_count": 6,
   "id": "variable-restaurant",
   "metadata": {
    "execution": {
     "iopub.execute_input": "2021-01-27T01:55:36.239624Z",
     "iopub.status.busy": "2021-01-27T01:55:36.238993Z",
     "iopub.status.idle": "2021-01-27T01:55:44.162341Z",
     "shell.execute_reply": "2021-01-27T01:55:44.161463Z"
    },
    "papermill": {
     "duration": 7.970754,
     "end_time": "2021-01-27T01:55:44.162517",
     "exception": false,
     "start_time": "2021-01-27T01:55:36.191763",
     "status": "completed"
    },
    "tags": [
     "remove_cell"
    ]
   },
   "outputs": [
    {
     "name": "stdout",
     "output_type": "stream",
     "text": [
      "Running search query:\n",
      "user:jupyter-widgets\n",
      "\n",
      "\n"
     ]
    },
    {
     "name": "stderr",
     "output_type": "stream",
     "text": [
      "Found 97 items, which will take 2 pages\n"
     ]
    },
    {
     "data": {
      "application/vnd.jupyter.widget-view+json": {
       "model_id": "4e7d903e17014051b339df772c4dd842",
       "version_major": 2,
       "version_minor": 0
      },
      "text/plain": [
       "Downloading::   0%|          | 0/97 [00:00<?, ?issues/s]"
      ]
     },
     "metadata": {},
     "output_type": "display_data"
    },
    {
     "name": "stderr",
     "output_type": "stream",
     "text": [
      "Found 73 items, which will take 2 pages\n"
     ]
    },
    {
     "data": {
      "application/vnd.jupyter.widget-view+json": {
       "model_id": "1ebc38429b084577a9cbee8686d94532",
       "version_major": 2,
       "version_minor": 0
      },
      "text/plain": [
       "Downloading::   0%|          | 0/73 [00:00<?, ?issues/s]"
      ]
     },
     "metadata": {},
     "output_type": "display_data"
    }
   ],
   "source": [
    "############################################################\n",
    "# Fetch the raw data and load data we need\n",
    "raw_data = ga.get_activity(github_org, start_date)\n",
    "bot_names = pd.read_csv('../bot_names.csv')['names'].tolist()\n",
    "data = raw_data.copy()\n",
    "\n",
    "# Prepare our data\n",
    "data[\"kind\"] = data[\"url\"].map(lambda a: \"issue\" if \"issues/\" in a else \"pr\")\n",
    "data[\"mergedBy\"] = data[\"mergedBy\"].map(lambda a: a[\"login\"] if not isinstance(a, (float, type(None))) else None)\n",
    "\n",
    "prs = data.query(\"kind == 'pr'\")\n",
    "issues = data.query(\"kind == 'issue'\")\n",
    "\n",
    "# Pull out the comments\n",
    "comments = []\n",
    "for _, irow in data.iterrows():\n",
    "    for icomment in irow['comments']['edges']:\n",
    "        icomment = icomment[\"node\"].copy()\n",
    "        icomment[\"author\"] = icomment[\"author\"][\"login\"] if icomment[\"author\"] else None\n",
    "        icomment[\"org\"] = irow[\"org\"]\n",
    "        icomment[\"repo\"] = irow[\"repo\"]\n",
    "        icomment[\"id\"] = irow[\"id\"]\n",
    "        comments.append(pd.Series(icomment))\n",
    "comments = pd.DataFrame(comments)\n",
    "\n",
    "# Clean up\n",
    "for idata in [prs, comments, issues]:\n",
    "    idata.query(\"author not in @bot_names\", inplace=True)\n",
    "    idata.drop_duplicates(subset=[\"url\"], inplace=True)\n",
    "\n",
    "# What are the top N repos, we will only plot these in the full data plots\n",
    "top_commented_repos = comments.groupby(\"repo\").count().sort_values(\"createdAt\", ascending=False)['createdAt']\n",
    "use_repos = top_commented_repos.head(top_n_repos).index.tolist()"
   ]
  },
  {
   "cell_type": "markdown",
   "id": "passing-elements",
   "metadata": {
    "papermill": {
     "duration": 0.038968,
     "end_time": "2021-01-27T01:55:44.243478",
     "exception": false,
     "start_time": "2021-01-27T01:55:44.204510",
     "status": "completed"
    },
    "tags": [
     "remove_cell"
    ]
   },
   "source": [
    "## Save the data to disk"
   ]
  },
  {
   "cell_type": "code",
   "execution_count": 7,
   "id": "swiss-flour",
   "metadata": {
    "execution": {
     "iopub.execute_input": "2021-01-27T01:55:44.325133Z",
     "iopub.status.busy": "2021-01-27T01:55:44.324494Z",
     "iopub.status.idle": "2021-01-27T01:55:44.646803Z",
     "shell.execute_reply": "2021-01-27T01:55:44.646079Z"
    },
    "papermill": {
     "duration": 0.364926,
     "end_time": "2021-01-27T01:55:44.647017",
     "exception": false,
     "start_time": "2021-01-27T01:55:44.282091",
     "status": "completed"
    },
    "tags": [
     "remove_cell"
    ]
   },
   "outputs": [],
   "source": [
    "from pathlib import Path\n",
    "for name, idata in [(\"comments\", comments), (\"prs\", prs), (\"issues\", issues)]:\n",
    "    path_data = Path(f\"./{name}.csv\")\n",
    "    if path_data.exists():\n",
    "        idata = pd.read_csv(path_data).append(idata)\n",
    "    idata = idata.drop_duplicates(subset=[\"url\"])\n",
    "    idata.to_csv(path_data, index=None)"
   ]
  },
  {
   "cell_type": "markdown",
   "id": "dominican-victoria",
   "metadata": {
    "papermill": {
     "duration": 0.046472,
     "end_time": "2021-01-27T01:55:44.737728",
     "exception": false,
     "start_time": "2021-01-27T01:55:44.691256",
     "status": "completed"
    },
    "tags": [],
    "toc-hr-collapsed": false
   },
   "source": [
    "## Merged Pull requests\n",
    "\n",
    "Here's an analysis of **merged pull requests** across each of the repositories in the Jupyter\n",
    "ecosystem."
   ]
  },
  {
   "cell_type": "code",
   "execution_count": 8,
   "id": "adopted-tablet",
   "metadata": {
    "execution": {
     "iopub.execute_input": "2021-01-27T01:55:44.822384Z",
     "iopub.status.busy": "2021-01-27T01:55:44.821579Z",
     "iopub.status.idle": "2021-01-27T01:55:44.825783Z",
     "shell.execute_reply": "2021-01-27T01:55:44.825296Z"
    },
    "papermill": {
     "duration": 0.050178,
     "end_time": "2021-01-27T01:55:44.825935",
     "exception": false,
     "start_time": "2021-01-27T01:55:44.775757",
     "status": "completed"
    },
    "tags": [
     "remove_cell"
    ]
   },
   "outputs": [],
   "source": [
    "merged = prs.query('state == \"MERGED\" and closedAt > @start_date and closedAt < @stop_date')"
   ]
  },
  {
   "cell_type": "code",
   "execution_count": 9,
   "id": "nasty-hepatitis",
   "metadata": {
    "execution": {
     "iopub.execute_input": "2021-01-27T01:55:44.949657Z",
     "iopub.status.busy": "2021-01-27T01:55:44.929460Z",
     "iopub.status.idle": "2021-01-27T01:55:44.951513Z",
     "shell.execute_reply": "2021-01-27T01:55:44.952009Z"
    },
    "papermill": {
     "duration": 0.085907,
     "end_time": "2021-01-27T01:55:44.952207",
     "exception": false,
     "start_time": "2021-01-27T01:55:44.866300",
     "status": "completed"
    },
    "tags": [
     "hide_input"
    ]
   },
   "outputs": [
    {
     "data": {
      "text/html": [
       "\n",
       "<div id=\"altair-viz-31518e5df2674a9eb98dcf9f2bd1a178\"></div>\n",
       "<script type=\"text/javascript\">\n",
       "  (function(spec, embedOpt){\n",
       "    let outputDiv = document.currentScript.previousElementSibling;\n",
       "    if (outputDiv.id !== \"altair-viz-31518e5df2674a9eb98dcf9f2bd1a178\") {\n",
       "      outputDiv = document.getElementById(\"altair-viz-31518e5df2674a9eb98dcf9f2bd1a178\");\n",
       "    }\n",
       "    const paths = {\n",
       "      \"vega\": \"https://cdn.jsdelivr.net/npm//vega@5?noext\",\n",
       "      \"vega-lib\": \"https://cdn.jsdelivr.net/npm//vega-lib?noext\",\n",
       "      \"vega-lite\": \"https://cdn.jsdelivr.net/npm//vega-lite@4.8.1?noext\",\n",
       "      \"vega-embed\": \"https://cdn.jsdelivr.net/npm//vega-embed@6?noext\",\n",
       "    };\n",
       "\n",
       "    function loadScript(lib) {\n",
       "      return new Promise(function(resolve, reject) {\n",
       "        var s = document.createElement('script');\n",
       "        s.src = paths[lib];\n",
       "        s.async = true;\n",
       "        s.onload = () => resolve(paths[lib]);\n",
       "        s.onerror = () => reject(`Error loading script: ${paths[lib]}`);\n",
       "        document.getElementsByTagName(\"head\")[0].appendChild(s);\n",
       "      });\n",
       "    }\n",
       "\n",
       "    function showError(err) {\n",
       "      outputDiv.innerHTML = `<div class=\"error\" style=\"color:red;\">${err}</div>`;\n",
       "      throw err;\n",
       "    }\n",
       "\n",
       "    function displayChart(vegaEmbed) {\n",
       "      vegaEmbed(outputDiv, spec, embedOpt)\n",
       "        .catch(err => showError(`Javascript Error: ${err.message}<br>This usually means there's a typo in your chart specification. See the javascript console for the full traceback.`));\n",
       "    }\n",
       "\n",
       "    if(typeof define === \"function\" && define.amd) {\n",
       "      requirejs.config({paths});\n",
       "      require([\"vega-embed\"], displayChart, err => showError(`Error loading script: ${err.message}`));\n",
       "    } else if (typeof vegaEmbed === \"function\") {\n",
       "      displayChart(vegaEmbed);\n",
       "    } else {\n",
       "      loadScript(\"vega\")\n",
       "        .then(() => loadScript(\"vega-lite\"))\n",
       "        .then(() => loadScript(\"vega-embed\"))\n",
       "        .catch(showError)\n",
       "        .then(() => displayChart(vegaEmbed));\n",
       "    }\n",
       "  })({\"config\": {\"axisLeft\": {\"labelFontSize\": 15}, \"axisBottom\": {\"labelFontSize\": 15}}, \"data\": {\"name\": \"data-d2b0c336c19a21e949a407c45bf02665\"}, \"mark\": \"bar\", \"encoding\": {\"color\": {\"type\": \"nominal\", \"field\": \"org\"}, \"x\": {\"type\": \"nominal\", \"field\": \"repo\", \"sort\": [\"ipywidgets\", \"ipyleaflet\", \"widget-cookiecutter\", \"jupyterlab-sidecar\"]}, \"y\": {\"type\": \"quantitative\", \"field\": \"author\"}}, \"title\": \"Merged PRs in the last 60 days\", \"$schema\": \"https://vega.github.io/schema/vega-lite/v4.8.1.json\", \"datasets\": {\"data-d2b0c336c19a21e949a407c45bf02665\": [{\"org\": \"jupyter-widgets\", \"repo\": \"ipywidgets\", \"author\": 11}, {\"org\": \"jupyter-widgets\", \"repo\": \"ipyleaflet\", \"author\": 8}, {\"org\": \"jupyter-widgets\", \"repo\": \"widget-cookiecutter\", \"author\": 2}, {\"org\": \"jupyter-widgets\", \"repo\": \"jupyterlab-sidecar\", \"author\": 1}]}}, {\"mode\": \"vega-lite\"});\n",
       "</script>"
      ],
      "text/plain": [
       "alt.Chart(...)"
      ]
     },
     "execution_count": 9,
     "metadata": {},
     "output_type": "execute_result"
    }
   ],
   "source": [
    "prs_by_repo = merged.groupby(['org', 'repo']).count()['author'].reset_index().sort_values(['org', 'author'], ascending=False)\n",
    "alt.Chart(data=prs_by_repo, title=f\"Merged PRs in the last {n_days} days\").mark_bar().encode(\n",
    "    x=alt.X('repo', sort=prs_by_repo['repo'].values.tolist()),\n",
    "    y='author',\n",
    "    color='org'\n",
    ")"
   ]
  },
  {
   "cell_type": "markdown",
   "id": "durable-appearance",
   "metadata": {
    "papermill": {
     "duration": 0.047892,
     "end_time": "2021-01-27T01:55:45.044647",
     "exception": false,
     "start_time": "2021-01-27T01:55:44.996755",
     "status": "completed"
    },
    "tags": []
   },
   "source": [
    "### Authoring and merging stats by repository\n",
    "\n",
    "Let's see who has been doing most of the PR authoring and merging. The PR author is generally the\n",
    "person that implemented a change in the repository (code, documentation, etc). The PR merger is\n",
    "the person that \"pressed the green button\" and got the change into the main codebase."
   ]
  },
  {
   "cell_type": "code",
   "execution_count": 10,
   "id": "vanilla-treasure",
   "metadata": {
    "execution": {
     "iopub.execute_input": "2021-01-27T01:55:45.144978Z",
     "iopub.status.busy": "2021-01-27T01:55:45.144391Z",
     "iopub.status.idle": "2021-01-27T01:55:45.147923Z",
     "shell.execute_reply": "2021-01-27T01:55:45.147430Z"
    },
    "papermill": {
     "duration": 0.059264,
     "end_time": "2021-01-27T01:55:45.148090",
     "exception": false,
     "start_time": "2021-01-27T01:55:45.088826",
     "status": "completed"
    },
    "tags": [
     "remove_cell"
    ]
   },
   "outputs": [],
   "source": [
    "# Prep our merging DF\n",
    "merged_by_repo = merged.groupby(['repo', 'author'], as_index=False).agg({'id': 'count', 'authorAssociation': 'first'}).rename(columns={'id': \"authored\", 'author': 'username'})\n",
    "closed_by_repo = merged.groupby(['repo', 'mergedBy']).count()['id'].reset_index().rename(columns={'id': \"closed\", \"mergedBy\": \"username\"})"
   ]
  },
  {
   "cell_type": "code",
   "execution_count": 11,
   "id": "political-heavy",
   "metadata": {
    "execution": {
     "iopub.execute_input": "2021-01-27T01:55:45.232328Z",
     "iopub.status.busy": "2021-01-27T01:55:45.231770Z",
     "iopub.status.idle": "2021-01-27T01:55:45.260128Z",
     "shell.execute_reply": "2021-01-27T01:55:45.259510Z"
    },
    "papermill": {
     "duration": 0.071083,
     "end_time": "2021-01-27T01:55:45.260276",
     "exception": false,
     "start_time": "2021-01-27T01:55:45.189193",
     "status": "completed"
    },
    "tags": [
     "hide_input"
    ]
   },
   "outputs": [
    {
     "data": {
      "text/html": [
       "\n",
       "<div id=\"altair-viz-4963b4c95f7346289796415a0a36402e\"></div>\n",
       "<script type=\"text/javascript\">\n",
       "  (function(spec, embedOpt){\n",
       "    let outputDiv = document.currentScript.previousElementSibling;\n",
       "    if (outputDiv.id !== \"altair-viz-4963b4c95f7346289796415a0a36402e\") {\n",
       "      outputDiv = document.getElementById(\"altair-viz-4963b4c95f7346289796415a0a36402e\");\n",
       "    }\n",
       "    const paths = {\n",
       "      \"vega\": \"https://cdn.jsdelivr.net/npm//vega@5?noext\",\n",
       "      \"vega-lib\": \"https://cdn.jsdelivr.net/npm//vega-lib?noext\",\n",
       "      \"vega-lite\": \"https://cdn.jsdelivr.net/npm//vega-lite@4.8.1?noext\",\n",
       "      \"vega-embed\": \"https://cdn.jsdelivr.net/npm//vega-embed@6?noext\",\n",
       "    };\n",
       "\n",
       "    function loadScript(lib) {\n",
       "      return new Promise(function(resolve, reject) {\n",
       "        var s = document.createElement('script');\n",
       "        s.src = paths[lib];\n",
       "        s.async = true;\n",
       "        s.onload = () => resolve(paths[lib]);\n",
       "        s.onerror = () => reject(`Error loading script: ${paths[lib]}`);\n",
       "        document.getElementsByTagName(\"head\")[0].appendChild(s);\n",
       "      });\n",
       "    }\n",
       "\n",
       "    function showError(err) {\n",
       "      outputDiv.innerHTML = `<div class=\"error\" style=\"color:red;\">${err}</div>`;\n",
       "      throw err;\n",
       "    }\n",
       "\n",
       "    function displayChart(vegaEmbed) {\n",
       "      vegaEmbed(outputDiv, spec, embedOpt)\n",
       "        .catch(err => showError(`Javascript Error: ${err.message}<br>This usually means there's a typo in your chart specification. See the javascript console for the full traceback.`));\n",
       "    }\n",
       "\n",
       "    if(typeof define === \"function\" && define.amd) {\n",
       "      requirejs.config({paths});\n",
       "      require([\"vega-embed\"], displayChart, err => showError(`Error loading script: ${err.message}`));\n",
       "    } else if (typeof vegaEmbed === \"function\") {\n",
       "      displayChart(vegaEmbed);\n",
       "    } else {\n",
       "      loadScript(\"vega\")\n",
       "        .then(() => loadScript(\"vega-lite\"))\n",
       "        .then(() => loadScript(\"vega-embed\"))\n",
       "        .catch(showError)\n",
       "        .then(() => displayChart(vegaEmbed));\n",
       "    }\n",
       "  })({\"config\": {\"axisLeft\": {\"labelFontSize\": 15}, \"axisBottom\": {\"labelFontSize\": 15}}, \"data\": {\"name\": \"data-2683565c635fa6caaa7646b63f65b3a1\"}, \"mark\": \"bar\", \"encoding\": {\"color\": {\"type\": \"nominal\", \"field\": \"authorAssociation\", \"scale\": {\"domain\": [\"MEMBER\", \"CONTRIBUTOR\", \"COLLABORATOR\", \"NONE\"], \"range\": [\"rgb(211.82745098039214, 211.82745098039214, 211.82745098039214)\", \"rgb(166.98562091503268, 229.89803921568628, 166.98562091503268)\", \"rgb(96.37647058823529, 192.75294117647059, 96.37647058823529)\", \"rgb(0.0, 100.3921568627451, 0.0)\"]}}, \"x\": {\"type\": \"nominal\", \"field\": \"username\"}, \"y\": {\"type\": \"quantitative\", \"field\": \"authored\"}}, \"title\": \"PR authors for jupyter-widgets in the last 60 days\", \"$schema\": \"https://vega.github.io/schema/vega-lite/v4.8.1.json\", \"datasets\": {\"data-2683565c635fa6caaa7646b63f65b3a1\": [{\"username\": \"martinRenou\", \"authored\": 8, \"authorAssociation\": \"MEMBER\"}, {\"username\": \"jasongrout\", \"authored\": 7, \"authorAssociation\": \"MEMBER\"}, {\"username\": \"davidbrochart\", \"authored\": 2, \"authorAssociation\": \"MEMBER\"}, {\"username\": \"ianhi\", \"authored\": 2, \"authorAssociation\": \"CONTRIBUTOR\"}, {\"username\": \"carlobeltrame\", \"authored\": 1, \"authorAssociation\": \"CONTRIBUTOR\"}, {\"username\": \"dependabot\", \"authored\": 1, \"authorAssociation\": \"CONTRIBUTOR\"}, {\"username\": \"patviafore-canonical\", \"authored\": 1, \"authorAssociation\": \"NONE\"}]}}, {\"mode\": \"vega-lite\"});\n",
       "</script>"
      ],
      "text/plain": [
       "alt.Chart(...)"
      ]
     },
     "execution_count": 11,
     "metadata": {},
     "output_type": "execute_result"
    }
   ],
   "source": [
    "charts = []\n",
    "title = f\"PR authors for {github_org} in the last {n_days} days\"\n",
    "this_data = merged_by_repo.replace(np.nan, 0).groupby('username', as_index=False).agg({'authored': 'sum', 'authorAssociation': 'first'})\n",
    "this_data = this_data.sort_values('authored', ascending=False)\n",
    "ch = alt.Chart(data=this_data, title=title).mark_bar().encode(\n",
    "    x='username',\n",
    "    y='authored',\n",
    "    color=alt.Color('authorAssociation', scale=alt.Scale(domain=author_types, range=author_colors))\n",
    ")\n",
    "ch"
   ]
  },
  {
   "cell_type": "code",
   "execution_count": 12,
   "id": "hollow-nightlife",
   "metadata": {
    "execution": {
     "iopub.execute_input": "2021-01-27T01:55:45.355794Z",
     "iopub.status.busy": "2021-01-27T01:55:45.355206Z",
     "iopub.status.idle": "2021-01-27T01:55:45.368610Z",
     "shell.execute_reply": "2021-01-27T01:55:45.368029Z"
    },
    "papermill": {
     "duration": 0.066764,
     "end_time": "2021-01-27T01:55:45.368788",
     "exception": false,
     "start_time": "2021-01-27T01:55:45.302024",
     "status": "completed"
    },
    "tags": [
     "hide_input"
    ]
   },
   "outputs": [
    {
     "data": {
      "text/html": [
       "\n",
       "<div id=\"altair-viz-7f6f2c2b07cf4da8b21ff23f21ff26ba\"></div>\n",
       "<script type=\"text/javascript\">\n",
       "  (function(spec, embedOpt){\n",
       "    let outputDiv = document.currentScript.previousElementSibling;\n",
       "    if (outputDiv.id !== \"altair-viz-7f6f2c2b07cf4da8b21ff23f21ff26ba\") {\n",
       "      outputDiv = document.getElementById(\"altair-viz-7f6f2c2b07cf4da8b21ff23f21ff26ba\");\n",
       "    }\n",
       "    const paths = {\n",
       "      \"vega\": \"https://cdn.jsdelivr.net/npm//vega@5?noext\",\n",
       "      \"vega-lib\": \"https://cdn.jsdelivr.net/npm//vega-lib?noext\",\n",
       "      \"vega-lite\": \"https://cdn.jsdelivr.net/npm//vega-lite@4.8.1?noext\",\n",
       "      \"vega-embed\": \"https://cdn.jsdelivr.net/npm//vega-embed@6?noext\",\n",
       "    };\n",
       "\n",
       "    function loadScript(lib) {\n",
       "      return new Promise(function(resolve, reject) {\n",
       "        var s = document.createElement('script');\n",
       "        s.src = paths[lib];\n",
       "        s.async = true;\n",
       "        s.onload = () => resolve(paths[lib]);\n",
       "        s.onerror = () => reject(`Error loading script: ${paths[lib]}`);\n",
       "        document.getElementsByTagName(\"head\")[0].appendChild(s);\n",
       "      });\n",
       "    }\n",
       "\n",
       "    function showError(err) {\n",
       "      outputDiv.innerHTML = `<div class=\"error\" style=\"color:red;\">${err}</div>`;\n",
       "      throw err;\n",
       "    }\n",
       "\n",
       "    function displayChart(vegaEmbed) {\n",
       "      vegaEmbed(outputDiv, spec, embedOpt)\n",
       "        .catch(err => showError(`Javascript Error: ${err.message}<br>This usually means there's a typo in your chart specification. See the javascript console for the full traceback.`));\n",
       "    }\n",
       "\n",
       "    if(typeof define === \"function\" && define.amd) {\n",
       "      requirejs.config({paths});\n",
       "      require([\"vega-embed\"], displayChart, err => showError(`Error loading script: ${err.message}`));\n",
       "    } else if (typeof vegaEmbed === \"function\") {\n",
       "      displayChart(vegaEmbed);\n",
       "    } else {\n",
       "      loadScript(\"vega\")\n",
       "        .then(() => loadScript(\"vega-lite\"))\n",
       "        .then(() => loadScript(\"vega-embed\"))\n",
       "        .catch(showError)\n",
       "        .then(() => displayChart(vegaEmbed));\n",
       "    }\n",
       "  })({\"config\": {\"axisLeft\": {\"labelFontSize\": 15}, \"axisBottom\": {\"labelFontSize\": 15}}, \"data\": {\"name\": \"data-ffe3a4d12064edc7599a9997166f1c43\"}, \"mark\": \"bar\", \"encoding\": {\"x\": {\"type\": \"nominal\", \"field\": \"username\"}, \"y\": {\"type\": \"quantitative\", \"field\": \"closed\"}}, \"title\": \"Merges for jupyter-widgets in the last 60 days\", \"$schema\": \"https://vega.github.io/schema/vega-lite/v4.8.1.json\", \"datasets\": {\"data-ffe3a4d12064edc7599a9997166f1c43\": [{\"repo\": \"ipyleaflet\", \"username\": \"davidbrochart\", \"closed\": 4}, {\"repo\": \"ipyleaflet\", \"username\": \"martinRenou\", \"closed\": 4}, {\"repo\": \"ipywidgets\", \"username\": \"jasongrout\", \"closed\": 8}, {\"repo\": \"ipywidgets\", \"username\": \"vidartf\", \"closed\": 3}, {\"repo\": \"jupyterlab-sidecar\", \"username\": \"martinRenou\", \"closed\": 1}, {\"repo\": \"widget-cookiecutter\", \"username\": \"jasongrout\", \"closed\": 1}, {\"repo\": \"widget-cookiecutter\", \"username\": \"martinRenou\", \"closed\": 1}]}}, {\"mode\": \"vega-lite\"});\n",
       "</script>"
      ],
      "text/plain": [
       "alt.Chart(...)"
      ]
     },
     "execution_count": 12,
     "metadata": {},
     "output_type": "execute_result"
    }
   ],
   "source": [
    "charts = []\n",
    "title = f\"Merges for {github_org} in the last {n_days} days\"\n",
    "ch = alt.Chart(data=closed_by_repo.replace(np.nan, 0), title=title).mark_bar().encode(\n",
    "    x='username',\n",
    "    y='closed',\n",
    ")\n",
    "ch"
   ]
  },
  {
   "cell_type": "markdown",
   "id": "strange-birmingham",
   "metadata": {
    "papermill": {
     "duration": 0.043736,
     "end_time": "2021-01-27T01:55:45.454578",
     "exception": false,
     "start_time": "2021-01-27T01:55:45.410842",
     "status": "completed"
    },
    "tags": []
   },
   "source": [
    "## Issues\n",
    "\n",
    "Issues are **conversations** that happen on our GitHub repositories. Here's an\n",
    "analysis of issues across the Jupyter organizations."
   ]
  },
  {
   "cell_type": "code",
   "execution_count": 13,
   "id": "accredited-pizza",
   "metadata": {
    "execution": {
     "iopub.execute_input": "2021-01-27T01:55:45.546868Z",
     "iopub.status.busy": "2021-01-27T01:55:45.546211Z",
     "iopub.status.idle": "2021-01-27T01:55:45.548627Z",
     "shell.execute_reply": "2021-01-27T01:55:45.548060Z"
    },
    "papermill": {
     "duration": 0.056496,
     "end_time": "2021-01-27T01:55:45.548818",
     "exception": false,
     "start_time": "2021-01-27T01:55:45.492322",
     "status": "completed"
    },
    "tags": [
     "remove_cell"
    ]
   },
   "outputs": [],
   "source": [
    "created = issues.query('state == \"OPEN\" and createdAt > @start_date and createdAt < @stop_date')\n",
    "closed = issues.query('state == \"CLOSED\" and closedAt > @start_date and closedAt < @stop_date')"
   ]
  },
  {
   "cell_type": "code",
   "execution_count": 14,
   "id": "filled-chemistry",
   "metadata": {
    "execution": {
     "iopub.execute_input": "2021-01-27T01:55:45.641710Z",
     "iopub.status.busy": "2021-01-27T01:55:45.641148Z",
     "iopub.status.idle": "2021-01-27T01:55:45.662576Z",
     "shell.execute_reply": "2021-01-27T01:55:45.662013Z"
    },
    "papermill": {
     "duration": 0.074099,
     "end_time": "2021-01-27T01:55:45.662727",
     "exception": false,
     "start_time": "2021-01-27T01:55:45.588628",
     "status": "completed"
    },
    "tags": [
     "hide_input"
    ]
   },
   "outputs": [
    {
     "data": {
      "text/html": [
       "\n",
       "<div id=\"altair-viz-f44cbd706cf3420a956eafd031a351be\"></div>\n",
       "<script type=\"text/javascript\">\n",
       "  (function(spec, embedOpt){\n",
       "    let outputDiv = document.currentScript.previousElementSibling;\n",
       "    if (outputDiv.id !== \"altair-viz-f44cbd706cf3420a956eafd031a351be\") {\n",
       "      outputDiv = document.getElementById(\"altair-viz-f44cbd706cf3420a956eafd031a351be\");\n",
       "    }\n",
       "    const paths = {\n",
       "      \"vega\": \"https://cdn.jsdelivr.net/npm//vega@5?noext\",\n",
       "      \"vega-lib\": \"https://cdn.jsdelivr.net/npm//vega-lib?noext\",\n",
       "      \"vega-lite\": \"https://cdn.jsdelivr.net/npm//vega-lite@4.8.1?noext\",\n",
       "      \"vega-embed\": \"https://cdn.jsdelivr.net/npm//vega-embed@6?noext\",\n",
       "    };\n",
       "\n",
       "    function loadScript(lib) {\n",
       "      return new Promise(function(resolve, reject) {\n",
       "        var s = document.createElement('script');\n",
       "        s.src = paths[lib];\n",
       "        s.async = true;\n",
       "        s.onload = () => resolve(paths[lib]);\n",
       "        s.onerror = () => reject(`Error loading script: ${paths[lib]}`);\n",
       "        document.getElementsByTagName(\"head\")[0].appendChild(s);\n",
       "      });\n",
       "    }\n",
       "\n",
       "    function showError(err) {\n",
       "      outputDiv.innerHTML = `<div class=\"error\" style=\"color:red;\">${err}</div>`;\n",
       "      throw err;\n",
       "    }\n",
       "\n",
       "    function displayChart(vegaEmbed) {\n",
       "      vegaEmbed(outputDiv, spec, embedOpt)\n",
       "        .catch(err => showError(`Javascript Error: ${err.message}<br>This usually means there's a typo in your chart specification. See the javascript console for the full traceback.`));\n",
       "    }\n",
       "\n",
       "    if(typeof define === \"function\" && define.amd) {\n",
       "      requirejs.config({paths});\n",
       "      require([\"vega-embed\"], displayChart, err => showError(`Error loading script: ${err.message}`));\n",
       "    } else if (typeof vegaEmbed === \"function\") {\n",
       "      displayChart(vegaEmbed);\n",
       "    } else {\n",
       "      loadScript(\"vega\")\n",
       "        .then(() => loadScript(\"vega-lite\"))\n",
       "        .then(() => loadScript(\"vega-embed\"))\n",
       "        .catch(showError)\n",
       "        .then(() => displayChart(vegaEmbed));\n",
       "    }\n",
       "  })({\"config\": {\"axisLeft\": {\"labelFontSize\": 15}, \"axisBottom\": {\"labelFontSize\": 15}}, \"data\": {\"name\": \"data-b475b425b88c7674da4badc96f1a00d5\"}, \"mark\": \"bar\", \"encoding\": {\"x\": {\"type\": \"nominal\", \"field\": \"repo\", \"sort\": [\"ipywidgets\", \"ipyleaflet\", \"pythreejs\", \"widget-cookiecutter\", \"jupyterlab-sidecar\", \"tutorial\", \"widget-ts-cookiecutter\"]}, \"y\": {\"type\": \"quantitative\", \"field\": \"number\"}}, \"title\": \"Issues created in the last 60 days\", \"$schema\": \"https://vega.github.io/schema/vega-lite/v4.8.1.json\", \"datasets\": {\"data-b475b425b88c7674da4badc96f1a00d5\": [{\"org\": \"jupyter-widgets\", \"repo\": \"ipyleaflet\", \"number\": 11, \"org/repo\": \"jupyter-widgets/ipyleaflet\"}, {\"org\": \"jupyter-widgets\", \"repo\": \"ipywidgets\", \"number\": 19, \"org/repo\": \"jupyter-widgets/ipywidgets\"}, {\"org\": \"jupyter-widgets\", \"repo\": \"jupyterlab-sidecar\", \"number\": 1, \"org/repo\": \"jupyter-widgets/jupyterlab-sidecar\"}, {\"org\": \"jupyter-widgets\", \"repo\": \"pythreejs\", \"number\": 4, \"org/repo\": \"jupyter-widgets/pythreejs\"}, {\"org\": \"jupyter-widgets\", \"repo\": \"tutorial\", \"number\": 1, \"org/repo\": \"jupyter-widgets/tutorial\"}, {\"org\": \"jupyter-widgets\", \"repo\": \"widget-cookiecutter\", \"number\": 3, \"org/repo\": \"jupyter-widgets/widget-cookiecutter\"}, {\"org\": \"jupyter-widgets\", \"repo\": \"widget-ts-cookiecutter\", \"number\": 1, \"org/repo\": \"jupyter-widgets/widget-ts-cookiecutter\"}]}}, {\"mode\": \"vega-lite\"});\n",
       "</script>"
      ],
      "text/plain": [
       "alt.Chart(...)"
      ]
     },
     "execution_count": 14,
     "metadata": {},
     "output_type": "execute_result"
    }
   ],
   "source": [
    "created_counts = created.groupby(['org', 'repo']).count()['number'].reset_index()\n",
    "created_counts['org/repo'] = created_counts.apply(lambda a: a['org'] + '/' + a['repo'], axis=1)\n",
    "sorted_vals = created_counts.sort_values(['org', 'number'], ascending=False)['repo'].values\n",
    "alt.Chart(data=created_counts, title=f\"Issues created in the last {n_days} days\").mark_bar().encode(\n",
    "    x=alt.X('repo', sort=alt.Sort(sorted_vals.tolist())),\n",
    "    y='number',\n",
    ")"
   ]
  },
  {
   "cell_type": "code",
   "execution_count": 15,
   "id": "coordinate-mapping",
   "metadata": {
    "execution": {
     "iopub.execute_input": "2021-01-27T01:55:45.755628Z",
     "iopub.status.busy": "2021-01-27T01:55:45.754993Z",
     "iopub.status.idle": "2021-01-27T01:55:45.773522Z",
     "shell.execute_reply": "2021-01-27T01:55:45.774001Z"
    },
    "papermill": {
     "duration": 0.070461,
     "end_time": "2021-01-27T01:55:45.774175",
     "exception": false,
     "start_time": "2021-01-27T01:55:45.703714",
     "status": "completed"
    },
    "tags": [
     "hide_input"
    ]
   },
   "outputs": [
    {
     "data": {
      "text/html": [
       "\n",
       "<div id=\"altair-viz-0d1dff7f101a446a8eaf1b9d52bc9048\"></div>\n",
       "<script type=\"text/javascript\">\n",
       "  (function(spec, embedOpt){\n",
       "    let outputDiv = document.currentScript.previousElementSibling;\n",
       "    if (outputDiv.id !== \"altair-viz-0d1dff7f101a446a8eaf1b9d52bc9048\") {\n",
       "      outputDiv = document.getElementById(\"altair-viz-0d1dff7f101a446a8eaf1b9d52bc9048\");\n",
       "    }\n",
       "    const paths = {\n",
       "      \"vega\": \"https://cdn.jsdelivr.net/npm//vega@5?noext\",\n",
       "      \"vega-lib\": \"https://cdn.jsdelivr.net/npm//vega-lib?noext\",\n",
       "      \"vega-lite\": \"https://cdn.jsdelivr.net/npm//vega-lite@4.8.1?noext\",\n",
       "      \"vega-embed\": \"https://cdn.jsdelivr.net/npm//vega-embed@6?noext\",\n",
       "    };\n",
       "\n",
       "    function loadScript(lib) {\n",
       "      return new Promise(function(resolve, reject) {\n",
       "        var s = document.createElement('script');\n",
       "        s.src = paths[lib];\n",
       "        s.async = true;\n",
       "        s.onload = () => resolve(paths[lib]);\n",
       "        s.onerror = () => reject(`Error loading script: ${paths[lib]}`);\n",
       "        document.getElementsByTagName(\"head\")[0].appendChild(s);\n",
       "      });\n",
       "    }\n",
       "\n",
       "    function showError(err) {\n",
       "      outputDiv.innerHTML = `<div class=\"error\" style=\"color:red;\">${err}</div>`;\n",
       "      throw err;\n",
       "    }\n",
       "\n",
       "    function displayChart(vegaEmbed) {\n",
       "      vegaEmbed(outputDiv, spec, embedOpt)\n",
       "        .catch(err => showError(`Javascript Error: ${err.message}<br>This usually means there's a typo in your chart specification. See the javascript console for the full traceback.`));\n",
       "    }\n",
       "\n",
       "    if(typeof define === \"function\" && define.amd) {\n",
       "      requirejs.config({paths});\n",
       "      require([\"vega-embed\"], displayChart, err => showError(`Error loading script: ${err.message}`));\n",
       "    } else if (typeof vegaEmbed === \"function\") {\n",
       "      displayChart(vegaEmbed);\n",
       "    } else {\n",
       "      loadScript(\"vega\")\n",
       "        .then(() => loadScript(\"vega-lite\"))\n",
       "        .then(() => loadScript(\"vega-embed\"))\n",
       "        .catch(showError)\n",
       "        .then(() => displayChart(vegaEmbed));\n",
       "    }\n",
       "  })({\"config\": {\"axisLeft\": {\"labelFontSize\": 15}, \"axisBottom\": {\"labelFontSize\": 15}}, \"data\": {\"name\": \"data-90a48810fb192852f45b65b91bfe5d42\"}, \"mark\": \"bar\", \"encoding\": {\"x\": {\"type\": \"nominal\", \"field\": \"repo\", \"sort\": [\"ipywidgets\", \"ipyleaflet\", \"widget-cookiecutter\", \"pythreejs\"]}, \"y\": {\"type\": \"quantitative\", \"field\": \"number\"}}, \"title\": \"Issues closed in the last 60 days\", \"$schema\": \"https://vega.github.io/schema/vega-lite/v4.8.1.json\", \"datasets\": {\"data-90a48810fb192852f45b65b91bfe5d42\": [{\"org\": \"jupyter-widgets\", \"repo\": \"ipyleaflet\", \"number\": 14, \"org/repo\": \"jupyter-widgets/ipyleaflet\"}, {\"org\": \"jupyter-widgets\", \"repo\": \"ipywidgets\", \"number\": 17, \"org/repo\": \"jupyter-widgets/ipywidgets\"}, {\"org\": \"jupyter-widgets\", \"repo\": \"pythreejs\", \"number\": 1, \"org/repo\": \"jupyter-widgets/pythreejs\"}, {\"org\": \"jupyter-widgets\", \"repo\": \"widget-cookiecutter\", \"number\": 3, \"org/repo\": \"jupyter-widgets/widget-cookiecutter\"}]}}, {\"mode\": \"vega-lite\"});\n",
       "</script>"
      ],
      "text/plain": [
       "alt.Chart(...)"
      ]
     },
     "execution_count": 15,
     "metadata": {},
     "output_type": "execute_result"
    }
   ],
   "source": [
    "closed_counts = closed.groupby(['org', 'repo']).count()['number'].reset_index()\n",
    "closed_counts['org/repo'] = closed_counts.apply(lambda a: a['org'] + '/' + a['repo'], axis=1)\n",
    "sorted_vals = closed_counts.sort_values(['number'], ascending=False)['repo'].values\n",
    "alt.Chart(data=closed_counts, title=f\"Issues closed in the last {n_days} days\").mark_bar().encode(\n",
    "    x=alt.X('repo', sort=alt.Sort(sorted_vals.tolist())),\n",
    "    y='number',\n",
    ")"
   ]
  },
  {
   "cell_type": "code",
   "execution_count": 16,
   "id": "located-literacy",
   "metadata": {
    "execution": {
     "iopub.execute_input": "2021-01-27T01:55:45.865817Z",
     "iopub.status.busy": "2021-01-27T01:55:45.865214Z",
     "iopub.status.idle": "2021-01-27T01:55:45.874604Z",
     "shell.execute_reply": "2021-01-27T01:55:45.874101Z"
    },
    "papermill": {
     "duration": 0.058014,
     "end_time": "2021-01-27T01:55:45.874754",
     "exception": false,
     "start_time": "2021-01-27T01:55:45.816740",
     "status": "completed"
    },
    "tags": [
     "remove_cell"
    ]
   },
   "outputs": [],
   "source": [
    "created_closed = pd.merge(created_counts.rename(columns={'number': 'created'}).drop(columns='org/repo'),\n",
    "                          closed_counts.rename(columns={'number': 'closed'}).drop(columns='org/repo'),\n",
    "                          on=['org', 'repo'], how='outer')\n",
    "\n",
    "created_closed = pd.melt(created_closed, id_vars=['org', 'repo'], var_name=\"kind\", value_name=\"count\").replace(np.nan, 0)"
   ]
  },
  {
   "cell_type": "code",
   "execution_count": 17,
   "id": "stretch-elevation",
   "metadata": {
    "execution": {
     "iopub.execute_input": "2021-01-27T01:55:45.961785Z",
     "iopub.status.busy": "2021-01-27T01:55:45.961198Z",
     "iopub.status.idle": "2021-01-27T01:55:45.983719Z",
     "shell.execute_reply": "2021-01-27T01:55:45.984195Z"
    },
    "papermill": {
     "duration": 0.070392,
     "end_time": "2021-01-27T01:55:45.984365",
     "exception": false,
     "start_time": "2021-01-27T01:55:45.913973",
     "status": "completed"
    },
    "tags": [
     "hide_input"
    ]
   },
   "outputs": [
    {
     "data": {
      "text/html": [
       "\n",
       "<div id=\"altair-viz-875ea9460bc74cc89ac896a884919d6c\"></div>\n",
       "<script type=\"text/javascript\">\n",
       "  (function(spec, embedOpt){\n",
       "    let outputDiv = document.currentScript.previousElementSibling;\n",
       "    if (outputDiv.id !== \"altair-viz-875ea9460bc74cc89ac896a884919d6c\") {\n",
       "      outputDiv = document.getElementById(\"altair-viz-875ea9460bc74cc89ac896a884919d6c\");\n",
       "    }\n",
       "    const paths = {\n",
       "      \"vega\": \"https://cdn.jsdelivr.net/npm//vega@5?noext\",\n",
       "      \"vega-lib\": \"https://cdn.jsdelivr.net/npm//vega-lib?noext\",\n",
       "      \"vega-lite\": \"https://cdn.jsdelivr.net/npm//vega-lite@4.8.1?noext\",\n",
       "      \"vega-embed\": \"https://cdn.jsdelivr.net/npm//vega-embed@6?noext\",\n",
       "    };\n",
       "\n",
       "    function loadScript(lib) {\n",
       "      return new Promise(function(resolve, reject) {\n",
       "        var s = document.createElement('script');\n",
       "        s.src = paths[lib];\n",
       "        s.async = true;\n",
       "        s.onload = () => resolve(paths[lib]);\n",
       "        s.onerror = () => reject(`Error loading script: ${paths[lib]}`);\n",
       "        document.getElementsByTagName(\"head\")[0].appendChild(s);\n",
       "      });\n",
       "    }\n",
       "\n",
       "    function showError(err) {\n",
       "      outputDiv.innerHTML = `<div class=\"error\" style=\"color:red;\">${err}</div>`;\n",
       "      throw err;\n",
       "    }\n",
       "\n",
       "    function displayChart(vegaEmbed) {\n",
       "      vegaEmbed(outputDiv, spec, embedOpt)\n",
       "        .catch(err => showError(`Javascript Error: ${err.message}<br>This usually means there's a typo in your chart specification. See the javascript console for the full traceback.`));\n",
       "    }\n",
       "\n",
       "    if(typeof define === \"function\" && define.amd) {\n",
       "      requirejs.config({paths});\n",
       "      require([\"vega-embed\"], displayChart, err => showError(`Error loading script: ${err.message}`));\n",
       "    } else if (typeof vegaEmbed === \"function\") {\n",
       "      displayChart(vegaEmbed);\n",
       "    } else {\n",
       "      loadScript(\"vega\")\n",
       "        .then(() => loadScript(\"vega-lite\"))\n",
       "        .then(() => loadScript(\"vega-embed\"))\n",
       "        .catch(showError)\n",
       "        .then(() => displayChart(vegaEmbed));\n",
       "    }\n",
       "  })({\"config\": {\"axisLeft\": {\"labelFontSize\": 15}, \"axisBottom\": {\"labelFontSize\": 15}}, \"data\": {\"name\": \"data-c67322614ecea951b26c4db3b66f9c0a\"}, \"mark\": \"bar\", \"encoding\": {\"color\": {\"type\": \"nominal\", \"field\": \"kind\"}, \"column\": {\"type\": \"nominal\", \"field\": \"repo\", \"header\": {\"labelFontSize\": 12, \"title\": \"Issue activity, last 60 days for jupyter-widgets\", \"titleFontSize\": 15}}, \"x\": {\"type\": \"nominal\", \"axis\": {\"labelFontSize\": 15, \"title\": \"\"}, \"field\": \"kind\"}, \"y\": {\"type\": \"quantitative\", \"axis\": {\"labelFontSize\": 12, \"titleFontSize\": 15}, \"field\": \"count\"}}, \"width\": 120, \"$schema\": \"https://vega.github.io/schema/vega-lite/v4.8.1.json\", \"datasets\": {\"data-c67322614ecea951b26c4db3b66f9c0a\": [{\"org\": \"jupyter-widgets\", \"repo\": \"ipyleaflet\", \"kind\": \"created\", \"count\": 11.0}, {\"org\": \"jupyter-widgets\", \"repo\": \"ipywidgets\", \"kind\": \"created\", \"count\": 19.0}, {\"org\": \"jupyter-widgets\", \"repo\": \"jupyterlab-sidecar\", \"kind\": \"created\", \"count\": 1.0}, {\"org\": \"jupyter-widgets\", \"repo\": \"pythreejs\", \"kind\": \"created\", \"count\": 4.0}, {\"org\": \"jupyter-widgets\", \"repo\": \"tutorial\", \"kind\": \"created\", \"count\": 1.0}, {\"org\": \"jupyter-widgets\", \"repo\": \"widget-cookiecutter\", \"kind\": \"created\", \"count\": 3.0}, {\"org\": \"jupyter-widgets\", \"repo\": \"widget-ts-cookiecutter\", \"kind\": \"created\", \"count\": 1.0}, {\"org\": \"jupyter-widgets\", \"repo\": \"ipyleaflet\", \"kind\": \"closed\", \"count\": 14.0}, {\"org\": \"jupyter-widgets\", \"repo\": \"ipywidgets\", \"kind\": \"closed\", \"count\": 17.0}, {\"org\": \"jupyter-widgets\", \"repo\": \"jupyterlab-sidecar\", \"kind\": \"closed\", \"count\": 0.0}, {\"org\": \"jupyter-widgets\", \"repo\": \"pythreejs\", \"kind\": \"closed\", \"count\": 1.0}, {\"org\": \"jupyter-widgets\", \"repo\": \"tutorial\", \"kind\": \"closed\", \"count\": 0.0}, {\"org\": \"jupyter-widgets\", \"repo\": \"widget-cookiecutter\", \"kind\": \"closed\", \"count\": 3.0}, {\"org\": \"jupyter-widgets\", \"repo\": \"widget-ts-cookiecutter\", \"kind\": \"closed\", \"count\": 0.0}]}}, {\"mode\": \"vega-lite\"});\n",
       "</script>"
      ],
      "text/plain": [
       "alt.Chart(...)"
      ]
     },
     "execution_count": 17,
     "metadata": {},
     "output_type": "execute_result"
    }
   ],
   "source": [
    "charts = []\n",
    "# Pick the top 10 repositories\n",
    "top_repos = created_closed.groupby(['repo']).sum().sort_values(by='count', ascending=False).head(10).index\n",
    "ch = alt.Chart(created_closed.query('repo in @top_repos'), width=120).mark_bar().encode(\n",
    "    x=alt.X(\"kind\", axis=alt.Axis(labelFontSize=15, title=\"\")), \n",
    "    y=alt.Y('count', axis=alt.Axis(titleFontSize=15, labelFontSize=12)),\n",
    "    color='kind',\n",
    "    column=alt.Column(\"repo\", header=alt.Header(title=f\"Issue activity, last {n_days} days for {github_org}\", titleFontSize=15, labelFontSize=12))\n",
    ")\n",
    "ch"
   ]
  },
  {
   "cell_type": "code",
   "execution_count": 18,
   "id": "bulgarian-campus",
   "metadata": {
    "execution": {
     "iopub.execute_input": "2021-01-27T01:55:46.087289Z",
     "iopub.status.busy": "2021-01-27T01:55:46.086662Z",
     "iopub.status.idle": "2021-01-27T01:55:46.089635Z",
     "shell.execute_reply": "2021-01-27T01:55:46.089117Z"
    },
    "papermill": {
     "duration": 0.057147,
     "end_time": "2021-01-27T01:55:46.089790",
     "exception": false,
     "start_time": "2021-01-27T01:55:46.032643",
     "status": "completed"
    },
    "tags": [
     "remove_cell"
    ]
   },
   "outputs": [],
   "source": [
    "# Set to datetime\n",
    "for kind in ['createdAt', 'closedAt']:\n",
    "    closed.loc[:, kind] = pd.to_datetime(closed[kind])\n",
    "    \n",
    "closed.loc[:, 'time_open'] = closed['closedAt'] - closed['createdAt']\n",
    "closed.loc[:, 'time_open'] = closed['time_open'].dt.total_seconds()"
   ]
  },
  {
   "cell_type": "code",
   "execution_count": 19,
   "id": "powered-natural",
   "metadata": {
    "execution": {
     "iopub.execute_input": "2021-01-27T01:55:46.195606Z",
     "iopub.status.busy": "2021-01-27T01:55:46.195022Z",
     "iopub.status.idle": "2021-01-27T01:55:46.197957Z",
     "shell.execute_reply": "2021-01-27T01:55:46.198567Z"
    },
    "papermill": {
     "duration": 0.069033,
     "end_time": "2021-01-27T01:55:46.198758",
     "exception": false,
     "start_time": "2021-01-27T01:55:46.129725",
     "status": "completed"
    },
    "tags": [
     "hide_input"
    ]
   },
   "outputs": [
    {
     "data": {
      "text/html": [
       "\n",
       "<div id=\"altair-viz-9d2563930eb34bd993e707e6c650a62b\"></div>\n",
       "<script type=\"text/javascript\">\n",
       "  (function(spec, embedOpt){\n",
       "    let outputDiv = document.currentScript.previousElementSibling;\n",
       "    if (outputDiv.id !== \"altair-viz-9d2563930eb34bd993e707e6c650a62b\") {\n",
       "      outputDiv = document.getElementById(\"altair-viz-9d2563930eb34bd993e707e6c650a62b\");\n",
       "    }\n",
       "    const paths = {\n",
       "      \"vega\": \"https://cdn.jsdelivr.net/npm//vega@5?noext\",\n",
       "      \"vega-lib\": \"https://cdn.jsdelivr.net/npm//vega-lib?noext\",\n",
       "      \"vega-lite\": \"https://cdn.jsdelivr.net/npm//vega-lite@4.8.1?noext\",\n",
       "      \"vega-embed\": \"https://cdn.jsdelivr.net/npm//vega-embed@6?noext\",\n",
       "    };\n",
       "\n",
       "    function loadScript(lib) {\n",
       "      return new Promise(function(resolve, reject) {\n",
       "        var s = document.createElement('script');\n",
       "        s.src = paths[lib];\n",
       "        s.async = true;\n",
       "        s.onload = () => resolve(paths[lib]);\n",
       "        s.onerror = () => reject(`Error loading script: ${paths[lib]}`);\n",
       "        document.getElementsByTagName(\"head\")[0].appendChild(s);\n",
       "      });\n",
       "    }\n",
       "\n",
       "    function showError(err) {\n",
       "      outputDiv.innerHTML = `<div class=\"error\" style=\"color:red;\">${err}</div>`;\n",
       "      throw err;\n",
       "    }\n",
       "\n",
       "    function displayChart(vegaEmbed) {\n",
       "      vegaEmbed(outputDiv, spec, embedOpt)\n",
       "        .catch(err => showError(`Javascript Error: ${err.message}<br>This usually means there's a typo in your chart specification. See the javascript console for the full traceback.`));\n",
       "    }\n",
       "\n",
       "    if(typeof define === \"function\" && define.amd) {\n",
       "      requirejs.config({paths});\n",
       "      require([\"vega-embed\"], displayChart, err => showError(`Error loading script: ${err.message}`));\n",
       "    } else if (typeof vegaEmbed === \"function\") {\n",
       "      displayChart(vegaEmbed);\n",
       "    } else {\n",
       "      loadScript(\"vega\")\n",
       "        .then(() => loadScript(\"vega-lite\"))\n",
       "        .then(() => loadScript(\"vega-embed\"))\n",
       "        .catch(showError)\n",
       "        .then(() => displayChart(vegaEmbed));\n",
       "    }\n",
       "  })({\"config\": {\"axisLeft\": {\"labelFontSize\": 15}, \"axisBottom\": {\"labelFontSize\": 15}}, \"data\": {\"name\": \"data-4f4b3e0afe4e0deb26a09f1a8f935857\"}, \"mark\": \"bar\", \"encoding\": {\"x\": {\"type\": \"nominal\", \"field\": \"repo\", \"sort\": [\"widget-cookiecutter\", \"ipywidgets\", \"ipyleaflet\", \"pythreejs\"]}, \"y\": {\"type\": \"quantitative\", \"field\": \"time_open\", \"title\": \"Median Days Open\"}}, \"title\": \"Time to close for issues closed in the last 60 days\", \"$schema\": \"https://vega.github.io/schema/vega-lite/v4.8.1.json\", \"datasets\": {\"data-4f4b3e0afe4e0deb26a09f1a8f935857\": [{\"org\": \"jupyter-widgets\", \"repo\": \"ipyleaflet\", \"time_open\": 2.4303587962962965, \"org/repo\": \"jupyter-widgets/ipyleaflet\"}, {\"org\": \"jupyter-widgets\", \"repo\": \"ipywidgets\", \"time_open\": 21.737245370370374, \"org/repo\": \"jupyter-widgets/ipywidgets\"}, {\"org\": \"jupyter-widgets\", \"repo\": \"pythreejs\", \"time_open\": 0.001712962962962963, \"org/repo\": \"jupyter-widgets/pythreejs\"}, {\"org\": \"jupyter-widgets\", \"repo\": \"widget-cookiecutter\", \"time_open\": 22.354201388888892, \"org/repo\": \"jupyter-widgets/widget-cookiecutter\"}]}}, {\"mode\": \"vega-lite\"});\n",
       "</script>"
      ],
      "text/plain": [
       "alt.Chart(...)"
      ]
     },
     "execution_count": 19,
     "metadata": {},
     "output_type": "execute_result"
    }
   ],
   "source": [
    "time_open = closed.groupby(['org', 'repo']).agg({'time_open': 'median'}).reset_index()\n",
    "time_open['time_open'] = time_open['time_open'] / (60 * 60 * 24)\n",
    "time_open['org/repo'] = time_open.apply(lambda a: a['org'] + '/' + a['repo'], axis=1)\n",
    "sorted_vals = time_open.sort_values(['org', 'time_open'], ascending=False)['repo'].values\n",
    "alt.Chart(data=time_open, title=f\"Time to close for issues closed in the last {n_days} days\").mark_bar().encode(\n",
    "    x=alt.X('repo', sort=alt.Sort(sorted_vals.tolist())),\n",
    "    y=alt.Y('time_open', title=\"Median Days Open\"),\n",
    ")"
   ]
  },
  {
   "cell_type": "markdown",
   "id": "outside-identification",
   "metadata": {
    "papermill": {
     "duration": 0.055392,
     "end_time": "2021-01-27T01:55:46.297358",
     "exception": false,
     "start_time": "2021-01-27T01:55:46.241966",
     "status": "completed"
    },
    "tags": []
   },
   "source": [
    "## Most-upvoted issues"
   ]
  },
  {
   "cell_type": "code",
   "execution_count": 20,
   "id": "statistical-curve",
   "metadata": {
    "execution": {
     "iopub.execute_input": "2021-01-27T01:55:46.416350Z",
     "iopub.status.busy": "2021-01-27T01:55:46.408424Z",
     "iopub.status.idle": "2021-01-27T01:55:46.419778Z",
     "shell.execute_reply": "2021-01-27T01:55:46.420321Z"
    },
    "papermill": {
     "duration": 0.075031,
     "end_time": "2021-01-27T01:55:46.420490",
     "exception": false,
     "start_time": "2021-01-27T01:55:46.345459",
     "status": "completed"
    },
    "tags": [
     "hide_input"
    ]
   },
   "outputs": [
    {
     "data": {
      "application/vnd.jupyter.widget-view+json": {
       "model_id": "cffd559888a84a7397431cb9ca9769b6",
       "version_major": 2,
       "version_minor": 0
      },
      "text/plain": [
       "HTML(value='<ul>\\n<li>(1) Bug: ipyleaflet save via embed_minimal_html fails to plot layers - ipyleaflet - <a h…"
      ]
     },
     "metadata": {},
     "output_type": "display_data"
    }
   ],
   "source": [
    "thumbsup = data.query(\"state=='OPEN' and kind == 'issue'\").sort_values(\"thumbsup\", ascending=False).head(25)\n",
    "thumbsup = thumbsup[[\"title\", \"url\", \"number\", \"thumbsup\", \"repo\"]]\n",
    "\n",
    "text = []\n",
    "for ii, irow in thumbsup.iterrows():\n",
    "    itext = f\"- ({irow['thumbsup']}) {irow['title']} - {irow['repo']} - [#{irow['number']}]({irow['url']})\"\n",
    "    text.append(itext)\n",
    "text = '\\n'.join(text)\n",
    "HTML(markdown(text))"
   ]
  },
  {
   "cell_type": "markdown",
   "id": "impaired-executive",
   "metadata": {
    "papermill": {
     "duration": 0.051736,
     "end_time": "2021-01-27T01:55:46.518937",
     "exception": false,
     "start_time": "2021-01-27T01:55:46.467201",
     "status": "completed"
    },
    "tags": []
   },
   "source": [
    "## Commenters across repositories\n",
    "\n",
    "These are commenters across all issues and pull requests in the last several days.\n",
    "These are colored by the commenter's association with the organization. For information\n",
    "about what these associations mean, [see this StackOverflow post](https://stackoverflow.com/a/28866914/1927102)."
   ]
  },
  {
   "cell_type": "code",
   "execution_count": 21,
   "id": "early-sapphire",
   "metadata": {
    "execution": {
     "iopub.execute_input": "2021-01-27T01:55:46.615145Z",
     "iopub.status.busy": "2021-01-27T01:55:46.614528Z",
     "iopub.status.idle": "2021-01-27T01:55:46.624383Z",
     "shell.execute_reply": "2021-01-27T01:55:46.625008Z"
    },
    "papermill": {
     "duration": 0.062801,
     "end_time": "2021-01-27T01:55:46.625183",
     "exception": false,
     "start_time": "2021-01-27T01:55:46.562382",
     "status": "completed"
    },
    "tags": [
     "remove_cell"
    ]
   },
   "outputs": [],
   "source": [
    "commentors = (\n",
    "    comments\n",
    "    .query(\"createdAt > @start_date and createdAt < @stop_date\")\n",
    "    .groupby(['org', 'repo', 'author', 'authorAssociation'])\n",
    "    .count().rename(columns={'id': 'count'})['count']\n",
    "    .reset_index()\n",
    "    .sort_values(['org', 'count'], ascending=False)\n",
    ")"
   ]
  },
  {
   "cell_type": "code",
   "execution_count": 22,
   "id": "reserved-connecticut",
   "metadata": {
    "execution": {
     "iopub.execute_input": "2021-01-27T01:55:46.724627Z",
     "iopub.status.busy": "2021-01-27T01:55:46.724035Z",
     "iopub.status.idle": "2021-01-27T01:55:46.746318Z",
     "shell.execute_reply": "2021-01-27T01:55:46.745700Z"
    },
    "papermill": {
     "duration": 0.077757,
     "end_time": "2021-01-27T01:55:46.746478",
     "exception": false,
     "start_time": "2021-01-27T01:55:46.668721",
     "status": "completed"
    },
    "tags": [
     "hide_input"
    ]
   },
   "outputs": [
    {
     "data": {
      "text/html": [
       "\n",
       "<div id=\"altair-viz-a0a8761efebe43b0bcbcab0dc1714027\"></div>\n",
       "<script type=\"text/javascript\">\n",
       "  (function(spec, embedOpt){\n",
       "    let outputDiv = document.currentScript.previousElementSibling;\n",
       "    if (outputDiv.id !== \"altair-viz-a0a8761efebe43b0bcbcab0dc1714027\") {\n",
       "      outputDiv = document.getElementById(\"altair-viz-a0a8761efebe43b0bcbcab0dc1714027\");\n",
       "    }\n",
       "    const paths = {\n",
       "      \"vega\": \"https://cdn.jsdelivr.net/npm//vega@5?noext\",\n",
       "      \"vega-lib\": \"https://cdn.jsdelivr.net/npm//vega-lib?noext\",\n",
       "      \"vega-lite\": \"https://cdn.jsdelivr.net/npm//vega-lite@4.8.1?noext\",\n",
       "      \"vega-embed\": \"https://cdn.jsdelivr.net/npm//vega-embed@6?noext\",\n",
       "    };\n",
       "\n",
       "    function loadScript(lib) {\n",
       "      return new Promise(function(resolve, reject) {\n",
       "        var s = document.createElement('script');\n",
       "        s.src = paths[lib];\n",
       "        s.async = true;\n",
       "        s.onload = () => resolve(paths[lib]);\n",
       "        s.onerror = () => reject(`Error loading script: ${paths[lib]}`);\n",
       "        document.getElementsByTagName(\"head\")[0].appendChild(s);\n",
       "      });\n",
       "    }\n",
       "\n",
       "    function showError(err) {\n",
       "      outputDiv.innerHTML = `<div class=\"error\" style=\"color:red;\">${err}</div>`;\n",
       "      throw err;\n",
       "    }\n",
       "\n",
       "    function displayChart(vegaEmbed) {\n",
       "      vegaEmbed(outputDiv, spec, embedOpt)\n",
       "        .catch(err => showError(`Javascript Error: ${err.message}<br>This usually means there's a typo in your chart specification. See the javascript console for the full traceback.`));\n",
       "    }\n",
       "\n",
       "    if(typeof define === \"function\" && define.amd) {\n",
       "      requirejs.config({paths});\n",
       "      require([\"vega-embed\"], displayChart, err => showError(`Error loading script: ${err.message}`));\n",
       "    } else if (typeof vegaEmbed === \"function\") {\n",
       "      displayChart(vegaEmbed);\n",
       "    } else {\n",
       "      loadScript(\"vega\")\n",
       "        .then(() => loadScript(\"vega-lite\"))\n",
       "        .then(() => loadScript(\"vega-embed\"))\n",
       "        .catch(showError)\n",
       "        .then(() => displayChart(vegaEmbed));\n",
       "    }\n",
       "  })({\"config\": {\"axisLeft\": {\"labelFontSize\": 15}, \"axisBottom\": {\"labelFontSize\": 15}}, \"hconcat\": [{\"mark\": \"bar\", \"encoding\": {\"color\": {\"type\": \"nominal\", \"field\": \"authorAssociation\", \"scale\": {\"domain\": [\"MEMBER\", \"CONTRIBUTOR\", \"COLLABORATOR\", \"NONE\"], \"range\": [\"rgb(211.82745098039214, 211.82745098039214, 211.82745098039214)\", \"rgb(166.98562091503268, 229.89803921568628, 166.98562091503268)\", \"rgb(96.37647058823529, 192.75294117647059, 96.37647058823529)\", \"rgb(0.0, 100.3921568627451, 0.0)\"]}}, \"x\": {\"type\": \"nominal\", \"field\": \"author\"}, \"y\": {\"type\": \"quantitative\", \"field\": \"count\"}}, \"title\": \"Top 50 commentors for jupyter-widgets in the last 60 days\"}], \"data\": {\"name\": \"data-ad3c34b3d68963ec71784243c655b0e2\"}, \"$schema\": \"https://vega.github.io/schema/vega-lite/v4.8.1.json\", \"datasets\": {\"data-ad3c34b3d68963ec71784243c655b0e2\": [{\"author\": \"jasongrout\", \"count\": 48, \"authorAssociation\": \"MEMBER\"}, {\"author\": \"martinRenou\", \"count\": 33, \"authorAssociation\": \"MEMBER\"}, {\"author\": \"davidbrochart\", \"count\": 18, \"authorAssociation\": \"MEMBER\"}, {\"author\": \"vidartf\", \"count\": 16, \"authorAssociation\": \"MEMBER\"}, {\"author\": \"dependabot\", \"count\": 13, \"authorAssociation\": \"NONE\"}, {\"author\": \"rmorshea\", \"count\": 8, \"authorAssociation\": \"NONE\"}, {\"author\": \"giswqs\", \"count\": 8, \"authorAssociation\": \"CONTRIBUTOR\"}, {\"author\": \"AK-1996\", \"count\": 5, \"authorAssociation\": \"NONE\"}, {\"author\": \"matt1hong\", \"count\": 4, \"authorAssociation\": \"NONE\"}, {\"author\": \"anant-k-singh\", \"count\": 3, \"authorAssociation\": \"NONE\"}, {\"author\": \"jtpio\", \"count\": 3, \"authorAssociation\": \"MEMBER\"}, {\"author\": \"ianhi\", \"count\": 3, \"authorAssociation\": \"CONTRIBUTOR\"}, {\"author\": \"willingc\", \"count\": 3, \"authorAssociation\": \"CONTRIBUTOR\"}, {\"author\": \"MicaelJarniac\", \"count\": 3, \"authorAssociation\": \"NONE\"}, {\"author\": \"Moschi96\", \"count\": 2, \"authorAssociation\": \"NONE\"}, {\"author\": \"CatChenal\", \"count\": 2, \"authorAssociation\": \"NONE\"}, {\"author\": \"ItaloCunhaBueno\", \"count\": 2, \"authorAssociation\": \"NONE\"}, {\"author\": \"MSeal\", \"count\": 2, \"authorAssociation\": \"NONE\"}, {\"author\": \"luca1308\", \"count\": 2, \"authorAssociation\": \"NONE\"}, {\"author\": \"jifcon\", \"count\": 2, \"authorAssociation\": \"NONE\"}, {\"author\": \"amirebrahimi\", \"count\": 2, \"authorAssociation\": \"NONE\"}, {\"author\": \"agoose77\", \"count\": 2, \"authorAssociation\": \"NONE\"}, {\"author\": \"AlexandreBorowczyk\", \"count\": 1, \"authorAssociation\": \"NONE\"}, {\"author\": \"phicat7856\", \"count\": 1, \"authorAssociation\": \"NONE\"}, {\"author\": \"wdoganowski\", \"count\": 1, \"authorAssociation\": \"NONE\"}, {\"author\": \"aristidesnakos\", \"count\": 1, \"authorAssociation\": \"NONE\"}, {\"author\": \"thomasaarholt\", \"count\": 1, \"authorAssociation\": \"NONE\"}, {\"author\": \"tho-asterist\", \"count\": 1, \"authorAssociation\": \"NONE\"}, {\"author\": \"taknev83\", \"count\": 1, \"authorAssociation\": \"NONE\"}, {\"author\": \"scimax\", \"count\": 1, \"authorAssociation\": \"NONE\"}, {\"author\": \"routineCode\", \"count\": 1, \"authorAssociation\": \"NONE\"}, {\"author\": \"IssamLaradji\", \"count\": 1, \"authorAssociation\": \"NONE\"}, {\"author\": \"patviafore-canonical\", \"count\": 1, \"authorAssociation\": \"NONE\"}, {\"author\": \"MordicusEtCubitus\", \"count\": 1, \"authorAssociation\": \"NONE\"}, {\"author\": \"oeway\", \"count\": 1, \"authorAssociation\": \"NONE\"}, {\"author\": \"dakenblack\", \"count\": 1, \"authorAssociation\": \"NONE\"}, {\"author\": \"maiermic\", \"count\": 1, \"authorAssociation\": \"NONE\"}, {\"author\": \"alu96\", \"count\": 1, \"authorAssociation\": \"NONE\"}, {\"author\": \"R7President\", \"count\": 1, \"authorAssociation\": \"NONE\"}, {\"author\": \"dou-du\", \"count\": 1, \"authorAssociation\": \"NONE\"}, {\"author\": \"epifanio\", \"count\": 1, \"authorAssociation\": \"CONTRIBUTOR\"}, {\"author\": \"jeanmonet\", \"count\": 1, \"authorAssociation\": \"NONE\"}, {\"author\": \"maartenbreddels\", \"count\": 1, \"authorAssociation\": \"MEMBER\"}]}}, {\"mode\": \"vega-lite\"});\n",
       "</script>"
      ],
      "text/plain": [
       "alt.HConcatChart(...)"
      ]
     },
     "execution_count": 22,
     "metadata": {},
     "output_type": "execute_result"
    }
   ],
   "source": [
    "n_plot = 50\n",
    "charts = []\n",
    "for ii, (iorg, idata) in enumerate(commentors.groupby(['org'])):\n",
    "    title = f\"Top {n_plot} commentors for {iorg} in the last {n_days} days\"\n",
    "    idata = idata.groupby('author', as_index=False).agg({'count': 'sum', 'authorAssociation': 'first'})\n",
    "    idata = idata.sort_values('count', ascending=False).head(n_plot)\n",
    "    ch = alt.Chart(data=idata.head(n_plot), title=title).mark_bar().encode(\n",
    "        x='author',\n",
    "        y='count',\n",
    "        color=alt.Color('authorAssociation', scale=alt.Scale(domain=author_types, range=author_colors))\n",
    "    )\n",
    "    charts.append(ch)\n",
    "alt.hconcat(*charts)"
   ]
  },
  {
   "cell_type": "markdown",
   "id": "cross-canadian",
   "metadata": {
    "papermill": {
     "duration": 0.043356,
     "end_time": "2021-01-27T01:55:46.837482",
     "exception": false,
     "start_time": "2021-01-27T01:55:46.794126",
     "status": "completed"
    },
    "tags": []
   },
   "source": [
    "## First responders\n",
    "\n",
    "First responders are the first people to respond to a new issue in one of the repositories.\n",
    "The following plots show first responders for recently-created issues."
   ]
  },
  {
   "cell_type": "code",
   "execution_count": 23,
   "id": "democratic-bracelet",
   "metadata": {
    "execution": {
     "iopub.execute_input": "2021-01-27T01:55:46.933046Z",
     "iopub.status.busy": "2021-01-27T01:55:46.931544Z",
     "iopub.status.idle": "2021-01-27T01:55:47.018237Z",
     "shell.execute_reply": "2021-01-27T01:55:47.017629Z"
    },
    "papermill": {
     "duration": 0.137794,
     "end_time": "2021-01-27T01:55:47.018447",
     "exception": false,
     "start_time": "2021-01-27T01:55:46.880653",
     "status": "completed"
    },
    "tags": [
     "remove_cell"
    ]
   },
   "outputs": [],
   "source": [
    "first_comments = []\n",
    "for (org, repo, issue_id), i_comments in comments.groupby(['org', 'repo', 'id']):\n",
    "    ix_min = pd.to_datetime(i_comments['createdAt']).idxmin()\n",
    "    first_comment = i_comments.loc[ix_min]\n",
    "    if isinstance(first_comment, pd.DataFrame):\n",
    "        first_comment = first_comment.iloc[0]\n",
    "    first_comments.append(first_comment)\n",
    "first_comments = pd.concat(first_comments, axis=1).T\n",
    "\n",
    "# Make up counts for viz\n",
    "first_responder_counts = first_comments.groupby(['org', 'author', 'authorAssociation'], as_index=False).\\\n",
    "    count().rename(columns={'id': 'n_first_responses'}).sort_values(['org', 'n_first_responses'], ascending=False)\n"
   ]
  },
  {
   "cell_type": "code",
   "execution_count": 24,
   "id": "medical-diabetes",
   "metadata": {
    "execution": {
     "iopub.execute_input": "2021-01-27T01:55:47.137595Z",
     "iopub.status.busy": "2021-01-27T01:55:47.124737Z",
     "iopub.status.idle": "2021-01-27T01:55:47.140361Z",
     "shell.execute_reply": "2021-01-27T01:55:47.140849Z"
    },
    "papermill": {
     "duration": 0.074339,
     "end_time": "2021-01-27T01:55:47.141029",
     "exception": false,
     "start_time": "2021-01-27T01:55:47.066690",
     "status": "completed"
    },
    "tags": [
     "hide_input"
    ]
   },
   "outputs": [
    {
     "data": {
      "text/html": [
       "\n",
       "<div id=\"altair-viz-d08aef5d680947f9a51a24a662647744\"></div>\n",
       "<script type=\"text/javascript\">\n",
       "  (function(spec, embedOpt){\n",
       "    let outputDiv = document.currentScript.previousElementSibling;\n",
       "    if (outputDiv.id !== \"altair-viz-d08aef5d680947f9a51a24a662647744\") {\n",
       "      outputDiv = document.getElementById(\"altair-viz-d08aef5d680947f9a51a24a662647744\");\n",
       "    }\n",
       "    const paths = {\n",
       "      \"vega\": \"https://cdn.jsdelivr.net/npm//vega@5?noext\",\n",
       "      \"vega-lib\": \"https://cdn.jsdelivr.net/npm//vega-lib?noext\",\n",
       "      \"vega-lite\": \"https://cdn.jsdelivr.net/npm//vega-lite@4.8.1?noext\",\n",
       "      \"vega-embed\": \"https://cdn.jsdelivr.net/npm//vega-embed@6?noext\",\n",
       "    };\n",
       "\n",
       "    function loadScript(lib) {\n",
       "      return new Promise(function(resolve, reject) {\n",
       "        var s = document.createElement('script');\n",
       "        s.src = paths[lib];\n",
       "        s.async = true;\n",
       "        s.onload = () => resolve(paths[lib]);\n",
       "        s.onerror = () => reject(`Error loading script: ${paths[lib]}`);\n",
       "        document.getElementsByTagName(\"head\")[0].appendChild(s);\n",
       "      });\n",
       "    }\n",
       "\n",
       "    function showError(err) {\n",
       "      outputDiv.innerHTML = `<div class=\"error\" style=\"color:red;\">${err}</div>`;\n",
       "      throw err;\n",
       "    }\n",
       "\n",
       "    function displayChart(vegaEmbed) {\n",
       "      vegaEmbed(outputDiv, spec, embedOpt)\n",
       "        .catch(err => showError(`Javascript Error: ${err.message}<br>This usually means there's a typo in your chart specification. See the javascript console for the full traceback.`));\n",
       "    }\n",
       "\n",
       "    if(typeof define === \"function\" && define.amd) {\n",
       "      requirejs.config({paths});\n",
       "      require([\"vega-embed\"], displayChart, err => showError(`Error loading script: ${err.message}`));\n",
       "    } else if (typeof vegaEmbed === \"function\") {\n",
       "      displayChart(vegaEmbed);\n",
       "    } else {\n",
       "      loadScript(\"vega\")\n",
       "        .then(() => loadScript(\"vega-lite\"))\n",
       "        .then(() => loadScript(\"vega-embed\"))\n",
       "        .catch(showError)\n",
       "        .then(() => displayChart(vegaEmbed));\n",
       "    }\n",
       "  })({\"config\": {\"axisLeft\": {\"labelFontSize\": 15}, \"axisBottom\": {\"labelFontSize\": 15}}, \"data\": {\"name\": \"data-3f2fa844bbf1d113febd455e5c400362\"}, \"mark\": \"bar\", \"encoding\": {\"color\": {\"type\": \"nominal\", \"field\": \"authorAssociation\", \"scale\": {\"domain\": [\"MEMBER\", \"CONTRIBUTOR\", \"COLLABORATOR\", \"NONE\"], \"range\": [\"rgb(211.82745098039214, 211.82745098039214, 211.82745098039214)\", \"rgb(166.98562091503268, 229.89803921568628, 166.98562091503268)\", \"rgb(96.37647058823529, 192.75294117647059, 96.37647058823529)\", \"rgb(0.0, 100.3921568627451, 0.0)\"]}}, \"x\": {\"type\": \"nominal\", \"field\": \"author\"}, \"y\": {\"type\": \"quantitative\", \"field\": \"n_first_responses\"}}, \"title\": \"Top 50 first responders for jupyter-widgets in the last 60 days\", \"$schema\": \"https://vega.github.io/schema/vega-lite/v4.8.1.json\", \"datasets\": {\"data-3f2fa844bbf1d113febd455e5c400362\": [{\"author\": \"jasongrout\", \"n_first_responses\": 15, \"authorAssociation\": \"MEMBER\"}, {\"author\": \"dependabot\", \"n_first_responses\": 13, \"authorAssociation\": \"NONE\"}, {\"author\": \"martinRenou\", \"n_first_responses\": 10, \"authorAssociation\": \"MEMBER\"}, {\"author\": \"vidartf\", \"n_first_responses\": 10, \"authorAssociation\": \"MEMBER\"}, {\"author\": \"davidbrochart\", \"n_first_responses\": 9, \"authorAssociation\": \"MEMBER\"}, {\"author\": \"jtpio\", \"n_first_responses\": 3, \"authorAssociation\": \"MEMBER\"}, {\"author\": \"amirebrahimi\", \"n_first_responses\": 2, \"authorAssociation\": \"NONE\"}, {\"author\": \"giswqs\", \"n_first_responses\": 2, \"authorAssociation\": \"CONTRIBUTOR\"}, {\"author\": \"ianhi\", \"n_first_responses\": 2, \"authorAssociation\": \"CONTRIBUTOR\"}, {\"author\": \"maiermic\", \"n_first_responses\": 1, \"authorAssociation\": \"NONE\"}, {\"author\": \"tho-asterist\", \"n_first_responses\": 1, \"authorAssociation\": \"NONE\"}, {\"author\": \"taknev83\", \"n_first_responses\": 1, \"authorAssociation\": \"NONE\"}, {\"author\": \"scimax\", \"n_first_responses\": 1, \"authorAssociation\": \"NONE\"}, {\"author\": \"rmorshea\", \"n_first_responses\": 1, \"authorAssociation\": \"NONE\"}, {\"author\": \"R7President\", \"n_first_responses\": 1, \"authorAssociation\": \"NONE\"}, {\"author\": \"luca1308\", \"n_first_responses\": 1, \"authorAssociation\": \"NONE\"}, {\"author\": \"maartenbreddels\", \"n_first_responses\": 1, \"authorAssociation\": \"MEMBER\"}, {\"author\": \"anant-k-singh\", \"n_first_responses\": 1, \"authorAssociation\": \"NONE\"}, {\"author\": \"MordicusEtCubitus\", \"n_first_responses\": 1, \"authorAssociation\": \"NONE\"}, {\"author\": \"alu96\", \"n_first_responses\": 1, \"authorAssociation\": \"NONE\"}, {\"author\": \"beasteers\", \"n_first_responses\": 1, \"authorAssociation\": \"NONE\"}, {\"author\": \"MicaelJarniac\", \"n_first_responses\": 1, \"authorAssociation\": \"NONE\"}]}}, {\"mode\": \"vega-lite\"});\n",
       "</script>"
      ],
      "text/plain": [
       "alt.Chart(...)"
      ]
     },
     "execution_count": 24,
     "metadata": {},
     "output_type": "execute_result"
    }
   ],
   "source": [
    "n_plot = 50\n",
    "\n",
    "title = f\"Top {n_plot} first responders for {github_org} in the last {n_days} days\"\n",
    "idata = first_responder_counts.groupby('author', as_index=False).agg({'n_first_responses': 'sum', 'authorAssociation': 'first'})\n",
    "idata = idata.sort_values('n_first_responses', ascending=False).head(n_plot)\n",
    "ch = alt.Chart(data=idata.head(n_plot), title=title).mark_bar().encode(\n",
    "    x='author',\n",
    "    y='n_first_responses',\n",
    "    color=alt.Color('authorAssociation', scale=alt.Scale(domain=author_types, range=author_colors))\n",
    ")\n",
    "ch"
   ]
  },
  {
   "cell_type": "markdown",
   "id": "talented-building",
   "metadata": {
    "papermill": {
     "duration": 0.050672,
     "end_time": "2021-01-27T01:55:47.236515",
     "exception": false,
     "start_time": "2021-01-27T01:55:47.185843",
     "status": "completed"
    },
    "tags": []
   },
   "source": [
    "## Recent activity\n",
    "\n",
    "### A list of merged PRs by project\n",
    "\n",
    "Below is a tabbed readout of recently-merged PRs. Check out the title to get an idea for what they\n",
    "implemented, and be sure to thank the PR author for their hard work!"
   ]
  },
  {
   "cell_type": "code",
   "execution_count": 25,
   "id": "beautiful-inspector",
   "metadata": {
    "execution": {
     "iopub.execute_input": "2021-01-27T01:55:47.347521Z",
     "iopub.status.busy": "2021-01-27T01:55:47.346732Z",
     "iopub.status.idle": "2021-01-27T01:55:47.425328Z",
     "shell.execute_reply": "2021-01-27T01:55:47.414659Z"
    },
    "papermill": {
     "duration": 0.138334,
     "end_time": "2021-01-27T01:55:47.425510",
     "exception": false,
     "start_time": "2021-01-27T01:55:47.287176",
     "status": "completed"
    },
    "tags": [
     "hide_input"
    ]
   },
   "outputs": [
    {
     "data": {
      "application/vnd.jupyter.widget-view+json": {
       "model_id": "3e1218404cf1429cbc240b98bc0706de",
       "version_major": 2,
       "version_minor": 0
      },
      "text/plain": [
       "Tab(children=(HTML(value='<h4>Closed PRs for repo: <a href=\"https://github.com/jupyter-widgets/ipyleaflet\">jup…"
      ]
     },
     "metadata": {},
     "output_type": "display_data"
    }
   ],
   "source": [
    "tabs = widgets.Tab(children=[])\n",
    "\n",
    "for ii, ((org, repo), imerged) in enumerate(merged.query(\"repo in @use_repos\").groupby(['org', 'repo'])):\n",
    "    merged_by = {}\n",
    "    pr_by = {}\n",
    "    issue_md = []\n",
    "    issue_md.append(f\"#### Closed PRs for repo: [{org}/{repo}](https://github.com/{github_org}/{repo})\")\n",
    "    issue_md.append(\"\")\n",
    "    issue_md.append(f\"##### \")\n",
    "\n",
    "    for _, ipr in imerged.iterrows():\n",
    "        user_name = ipr['author']\n",
    "        user_url = author_url(user_name)\n",
    "        pr_number = ipr['number']\n",
    "        pr_html = ipr['url']\n",
    "        pr_title = ipr['title']\n",
    "        pr_closedby = ipr['mergedBy']\n",
    "        pr_closedby_url = f\"https://github.com/{pr_closedby}\"\n",
    "        if user_name not in pr_by:\n",
    "            pr_by[user_name] = 1\n",
    "        else:\n",
    "            pr_by[user_name] += 1\n",
    "\n",
    "        if pr_closedby not in merged_by:\n",
    "            merged_by[pr_closedby] = 1\n",
    "        else:\n",
    "            merged_by[pr_closedby] += 1\n",
    "        text = f\"* [(#{pr_number})]({pr_html}): _{pr_title}_ by **[@{user_name}]({user_url})** merged by **[@{pr_closedby}]({pr_closedby_url})**\"\n",
    "        issue_md.append(text)\n",
    "    \n",
    "    issue_md.append('')\n",
    "    markdown_html = markdown('\\n'.join(issue_md))\n",
    "\n",
    "    children = list(tabs.children)\n",
    "    children.append(HTML(markdown_html))\n",
    "    tabs.children = tuple(children)\n",
    "    tabs.set_title(ii, repo)\n",
    "tabs"
   ]
  },
  {
   "cell_type": "markdown",
   "id": "indian-compromise",
   "metadata": {
    "papermill": {
     "duration": 0.052676,
     "end_time": "2021-01-27T01:55:47.529567",
     "exception": false,
     "start_time": "2021-01-27T01:55:47.476891",
     "status": "completed"
    },
    "tags": []
   },
   "source": [
    "### A list of recent issues\n",
    "\n",
    "Below is a list of issues with recent activity in each repository. If they seem of interest\n",
    "to you, click on their links and jump in to participate!"
   ]
  },
  {
   "cell_type": "code",
   "execution_count": 26,
   "id": "entire-temperature",
   "metadata": {
    "execution": {
     "iopub.execute_input": "2021-01-27T01:55:47.643052Z",
     "iopub.status.busy": "2021-01-27T01:55:47.642406Z",
     "iopub.status.idle": "2021-01-27T01:55:47.649440Z",
     "shell.execute_reply": "2021-01-27T01:55:47.648952Z"
    },
    "papermill": {
     "duration": 0.065951,
     "end_time": "2021-01-27T01:55:47.649587",
     "exception": false,
     "start_time": "2021-01-27T01:55:47.583636",
     "status": "completed"
    },
    "tags": [
     "remove_cell"
    ]
   },
   "outputs": [],
   "source": [
    "# Add comment count data to issues and PRs\n",
    "comment_counts = (\n",
    "    comments\n",
    "    .query(\"createdAt > @start_date and createdAt < @stop_date\")\n",
    "    .groupby(['org', 'repo', 'id'])\n",
    "    .count().iloc[:, 0].to_frame()\n",
    ")\n",
    "comment_counts.columns = ['n_comments']\n",
    "comment_counts = comment_counts.reset_index()"
   ]
  },
  {
   "cell_type": "code",
   "execution_count": 27,
   "id": "spiritual-basics",
   "metadata": {
    "execution": {
     "iopub.execute_input": "2021-01-27T01:55:47.760394Z",
     "iopub.status.busy": "2021-01-27T01:55:47.747007Z",
     "iopub.status.idle": "2021-01-27T01:55:47.908494Z",
     "shell.execute_reply": "2021-01-27T01:55:47.897564Z"
    },
    "papermill": {
     "duration": 0.212889,
     "end_time": "2021-01-27T01:55:47.908665",
     "exception": false,
     "start_time": "2021-01-27T01:55:47.695776",
     "status": "completed"
    },
    "tags": [
     "hide_input"
    ],
    "toc-hr-collapsed": false
   },
   "outputs": [
    {
     "data": {
      "text/markdown": [
       "Here are the top 5 active issues in each repository in the last 60 days"
      ],
      "text/plain": [
       "<IPython.core.display.Markdown object>"
      ]
     },
     "metadata": {},
     "output_type": "display_data"
    },
    {
     "data": {
      "application/vnd.jupyter.widget-view+json": {
       "model_id": "6aa42e3f4391408c80b726c3659803c5",
       "version_major": 2,
       "version_minor": 0
      },
      "text/plain": [
       "Tab(children=(HTML(value='<h5><a href=\"https://github.com/jupyter-widgets/ipyleaflet\">jupyter-widgets/ipyleafl…"
      ]
     },
     "metadata": {},
     "output_type": "display_data"
    }
   ],
   "source": [
    "n_plot = 5\n",
    "tabs = widgets.Tab(children=[])\n",
    "\n",
    "for ii, (repo, i_issues) in enumerate(comment_counts.query(\"repo in @use_repos\").groupby('repo')):\n",
    "    \n",
    "    issue_md = []\n",
    "    issue_md.append(\"\")\n",
    "    issue_md.append(f\"##### [{github_org}/{repo}](https://github.com/{github_org}/{repo})\")\n",
    "\n",
    "    top_issues = i_issues.sort_values('n_comments', ascending=False).head(n_plot)\n",
    "    top_issue_list = pd.merge(issues, top_issues, left_on=['org', 'repo', 'id'], right_on=['org', 'repo', 'id'])\n",
    "    for _, issue in top_issue_list.sort_values('n_comments', ascending=False).head(n_plot).iterrows():\n",
    "        user_name = issue['author']\n",
    "        user_url = author_url(user_name)\n",
    "        issue_number = issue['number']\n",
    "        issue_html = issue['url']\n",
    "        issue_title = issue['title']\n",
    "\n",
    "        text = f\"* [(#{issue_number})]({issue_html}): _{issue_title}_ by **[@{user_name}]({user_url})**\"\n",
    "        issue_md.append(text)\n",
    "\n",
    "    issue_md.append('')\n",
    "    md_html = HTML(markdown('\\n'.join(issue_md)))\n",
    "\n",
    "    children = list(tabs.children)\n",
    "    children.append(HTML(markdown('\\n'.join(issue_md))))\n",
    "    tabs.children = tuple(children)\n",
    "    tabs.set_title(ii, repo)\n",
    "    \n",
    "display(Markdown(f\"Here are the top {n_plot} active issues in each repository in the last {n_days} days\"))\n",
    "display(tabs)"
   ]
  }
 ],
 "metadata": {
  "kernelspec": {
   "display_name": "Python 3",
   "language": "python",
   "name": "python3"
  },
  "language_info": {
   "codemirror_mode": {
    "name": "ipython",
    "version": 3
   },
   "file_extension": ".py",
   "mimetype": "text/x-python",
   "name": "python",
   "nbconvert_exporter": "python",
   "pygments_lexer": "ipython3",
   "version": "3.7.9"
  },
  "papermill": {
   "default_parameters": {},
   "duration": 16.06854,
   "end_time": "2021-01-27T01:55:49.371054",
   "environment_variables": {},
   "exception": null,
   "input_path": "./template.ipynb",
   "output_path": "book/jupyter-widgets.ipynb",
   "parameters": {
    "github_org": "jupyter-widgets",
    "n_days": 60
   },
   "start_time": "2021-01-27T01:55:33.302514",
   "version": "2.3.1"
  },
  "widgets": {
   "application/vnd.jupyter.widget-state+json": {
    "state": {
     "04f1c5f6ba1749d49563f9d8a591423a": {
      "model_module": "@jupyter-widgets/base",
      "model_module_version": "1.2.0",
      "model_name": "LayoutModel",
      "state": {
       "_model_module": "@jupyter-widgets/base",
       "_model_module_version": "1.2.0",
       "_model_name": "LayoutModel",
       "_view_count": null,
       "_view_module": "@jupyter-widgets/base",
       "_view_module_version": "1.2.0",
       "_view_name": "LayoutView",
       "align_content": null,
       "align_items": null,
       "align_self": null,
       "border": null,
       "bottom": null,
       "display": null,
       "flex": null,
       "flex_flow": null,
       "grid_area": null,
       "grid_auto_columns": null,
       "grid_auto_flow": null,
       "grid_auto_rows": null,
       "grid_column": null,
       "grid_gap": null,
       "grid_row": null,
       "grid_template_areas": null,
       "grid_template_columns": null,
       "grid_template_rows": null,
       "height": null,
       "justify_content": null,
       "justify_items": null,
       "left": null,
       "margin": null,
       "max_height": null,
       "max_width": null,
       "min_height": null,
       "min_width": null,
       "object_fit": null,
       "object_position": null,
       "order": null,
       "overflow": null,
       "overflow_x": null,
       "overflow_y": null,
       "padding": null,
       "right": null,
       "top": null,
       "visibility": null,
       "width": null
      }
     },
     "08d16d334fb448548af995229e0e7ecc": {
      "model_module": "@jupyter-widgets/controls",
      "model_module_version": "1.5.0",
      "model_name": "DescriptionStyleModel",
      "state": {
       "_model_module": "@jupyter-widgets/controls",
       "_model_module_version": "1.5.0",
       "_model_name": "DescriptionStyleModel",
       "_view_count": null,
       "_view_module": "@jupyter-widgets/base",
       "_view_module_version": "1.2.0",
       "_view_name": "StyleView",
       "description_width": ""
      }
     },
     "0a09e4ad33a54e278422ed8148f4d73d": {
      "model_module": "@jupyter-widgets/controls",
      "model_module_version": "1.5.0",
      "model_name": "HTMLModel",
      "state": {
       "_dom_classes": [],
       "_model_module": "@jupyter-widgets/controls",
       "_model_module_version": "1.5.0",
       "_model_name": "HTMLModel",
       "_view_count": null,
       "_view_module": "@jupyter-widgets/controls",
       "_view_module_version": "1.5.0",
       "_view_name": "HTMLView",
       "description": "",
       "description_tooltip": null,
       "layout": "IPY_MODEL_378956e568ca4aec970eb96208060c1c",
       "placeholder": "​",
       "style": "IPY_MODEL_5f3b831b1d7b4933a5bfcf1f4d8f1bc9",
       "value": "<h5><a href=\"https://github.com/jupyter-widgets/ipyleaflet\">jupyter-widgets/ipyleaflet</a></h5>\n<ul>\n<li><a href=\"https://github.com/jupyter-widgets/ipyleaflet/issues/779\">(#779)</a>: <em>OSError: Could not find library geos_c or load any of its variants ['/Library/Frameworks/GEOS.framework/Versions/Current/GEOS', '/opt/local/lib/libgeos_c.dylib']</em> by <strong><a href=\"https://github.com/AK-1996\">@AK-1996</a></strong></li>\n<li><a href=\"https://github.com/jupyter-widgets/ipyleaflet/issues/767\">(#767)</a>: <em>LocalTileLayer, Jupyter notebook and Voila</em> by <strong><a href=\"https://github.com/jifcon\">@jifcon</a></strong></li>\n<li><a href=\"https://github.com/jupyter-widgets/ipyleaflet/issues/764\">(#764)</a>: <em>Creating a widget similar to the LayerControl button</em> by <strong><a href=\"https://github.com/giswqs\">@giswqs</a></strong></li>\n<li><a href=\"https://github.com/jupyter-widgets/ipyleaflet/issues/758\">(#758)</a>: _[GeoJSON] ipyleaflet reads QGIS GeoJSON coordinates in reverse _ by <strong><a href=\"https://github.com/ItaloCunhaBueno\">@ItaloCunhaBueno</a></strong></li>\n<li><a href=\"https://github.com/jupyter-widgets/ipyleaflet/issues/765\">(#765)</a>: <em>Unexpected position change to the LayersControl after adding new layers</em> by <strong><a href=\"https://github.com/giswqs\">@giswqs</a></strong></li>\n</ul>"
      }
     },
     "0a1338968a864bed94603f520bf33fe2": {
      "model_module": "@jupyter-widgets/controls",
      "model_module_version": "1.5.0",
      "model_name": "DescriptionStyleModel",
      "state": {
       "_model_module": "@jupyter-widgets/controls",
       "_model_module_version": "1.5.0",
       "_model_name": "DescriptionStyleModel",
       "_view_count": null,
       "_view_module": "@jupyter-widgets/base",
       "_view_module_version": "1.2.0",
       "_view_name": "StyleView",
       "description_width": ""
      }
     },
     "0a50096d824d415589f73da2833bd848": {
      "model_module": "@jupyter-widgets/base",
      "model_module_version": "1.2.0",
      "model_name": "LayoutModel",
      "state": {
       "_model_module": "@jupyter-widgets/base",
       "_model_module_version": "1.2.0",
       "_model_name": "LayoutModel",
       "_view_count": null,
       "_view_module": "@jupyter-widgets/base",
       "_view_module_version": "1.2.0",
       "_view_name": "LayoutView",
       "align_content": null,
       "align_items": null,
       "align_self": null,
       "border": null,
       "bottom": null,
       "display": null,
       "flex": null,
       "flex_flow": null,
       "grid_area": null,
       "grid_auto_columns": null,
       "grid_auto_flow": null,
       "grid_auto_rows": null,
       "grid_column": null,
       "grid_gap": null,
       "grid_row": null,
       "grid_template_areas": null,
       "grid_template_columns": null,
       "grid_template_rows": null,
       "height": null,
       "justify_content": null,
       "justify_items": null,
       "left": null,
       "margin": null,
       "max_height": null,
       "max_width": null,
       "min_height": null,
       "min_width": null,
       "object_fit": null,
       "object_position": null,
       "order": null,
       "overflow": null,
       "overflow_x": null,
       "overflow_y": null,
       "padding": null,
       "right": null,
       "top": null,
       "visibility": null,
       "width": null
      }
     },
     "17ba97e264f1443b8f177d526f80e8e0": {
      "model_module": "@jupyter-widgets/base",
      "model_module_version": "1.2.0",
      "model_name": "LayoutModel",
      "state": {
       "_model_module": "@jupyter-widgets/base",
       "_model_module_version": "1.2.0",
       "_model_name": "LayoutModel",
       "_view_count": null,
       "_view_module": "@jupyter-widgets/base",
       "_view_module_version": "1.2.0",
       "_view_name": "LayoutView",
       "align_content": null,
       "align_items": null,
       "align_self": null,
       "border": null,
       "bottom": null,
       "display": null,
       "flex": null,
       "flex_flow": null,
       "grid_area": null,
       "grid_auto_columns": null,
       "grid_auto_flow": null,
       "grid_auto_rows": null,
       "grid_column": null,
       "grid_gap": null,
       "grid_row": null,
       "grid_template_areas": null,
       "grid_template_columns": null,
       "grid_template_rows": null,
       "height": null,
       "justify_content": null,
       "justify_items": null,
       "left": null,
       "margin": null,
       "max_height": null,
       "max_width": null,
       "min_height": null,
       "min_width": null,
       "object_fit": null,
       "object_position": null,
       "order": null,
       "overflow": null,
       "overflow_x": null,
       "overflow_y": null,
       "padding": null,
       "right": null,
       "top": null,
       "visibility": null,
       "width": null
      }
     },
     "1a6c843d66704cc7a235fadb2e160a58": {
      "model_module": "@jupyter-widgets/base",
      "model_module_version": "1.2.0",
      "model_name": "LayoutModel",
      "state": {
       "_model_module": "@jupyter-widgets/base",
       "_model_module_version": "1.2.0",
       "_model_name": "LayoutModel",
       "_view_count": null,
       "_view_module": "@jupyter-widgets/base",
       "_view_module_version": "1.2.0",
       "_view_name": "LayoutView",
       "align_content": null,
       "align_items": null,
       "align_self": null,
       "border": null,
       "bottom": null,
       "display": null,
       "flex": null,
       "flex_flow": null,
       "grid_area": null,
       "grid_auto_columns": null,
       "grid_auto_flow": null,
       "grid_auto_rows": null,
       "grid_column": null,
       "grid_gap": null,
       "grid_row": null,
       "grid_template_areas": null,
       "grid_template_columns": null,
       "grid_template_rows": null,
       "height": null,
       "justify_content": null,
       "justify_items": null,
       "left": null,
       "margin": null,
       "max_height": null,
       "max_width": null,
       "min_height": null,
       "min_width": null,
       "object_fit": null,
       "object_position": null,
       "order": null,
       "overflow": null,
       "overflow_x": null,
       "overflow_y": null,
       "padding": null,
       "right": null,
       "top": null,
       "visibility": null,
       "width": null
      }
     },
     "1d7c2653d1854ba1be171b1dc89d838c": {
      "model_module": "@jupyter-widgets/base",
      "model_module_version": "1.2.0",
      "model_name": "LayoutModel",
      "state": {
       "_model_module": "@jupyter-widgets/base",
       "_model_module_version": "1.2.0",
       "_model_name": "LayoutModel",
       "_view_count": null,
       "_view_module": "@jupyter-widgets/base",
       "_view_module_version": "1.2.0",
       "_view_name": "LayoutView",
       "align_content": null,
       "align_items": null,
       "align_self": null,
       "border": null,
       "bottom": null,
       "display": null,
       "flex": null,
       "flex_flow": null,
       "grid_area": null,
       "grid_auto_columns": null,
       "grid_auto_flow": null,
       "grid_auto_rows": null,
       "grid_column": null,
       "grid_gap": null,
       "grid_row": null,
       "grid_template_areas": null,
       "grid_template_columns": null,
       "grid_template_rows": null,
       "height": null,
       "justify_content": null,
       "justify_items": null,
       "left": null,
       "margin": null,
       "max_height": null,
       "max_width": null,
       "min_height": null,
       "min_width": null,
       "object_fit": null,
       "object_position": null,
       "order": null,
       "overflow": null,
       "overflow_x": null,
       "overflow_y": null,
       "padding": null,
       "right": null,
       "top": null,
       "visibility": null,
       "width": null
      }
     },
     "1ebc38429b084577a9cbee8686d94532": {
      "model_module": "@jupyter-widgets/controls",
      "model_module_version": "1.5.0",
      "model_name": "HBoxModel",
      "state": {
       "_dom_classes": [],
       "_model_module": "@jupyter-widgets/controls",
       "_model_module_version": "1.5.0",
       "_model_name": "HBoxModel",
       "_view_count": null,
       "_view_module": "@jupyter-widgets/controls",
       "_view_module_version": "1.5.0",
       "_view_name": "HBoxView",
       "box_style": "",
       "children": [
        "IPY_MODEL_c0bfd5184bc147d5adbe96c561f8322e",
        "IPY_MODEL_feadada8b7db4930b420169195b95ede",
        "IPY_MODEL_9c73ba1568ab44c297e3f8701fdffd81"
       ],
       "layout": "IPY_MODEL_57e7fc0d4866416d83bec19b5e40d421"
      }
     },
     "266f51b2cbb54e178dcfd4e583fdd56c": {
      "model_module": "@jupyter-widgets/controls",
      "model_module_version": "1.5.0",
      "model_name": "HTMLModel",
      "state": {
       "_dom_classes": [],
       "_model_module": "@jupyter-widgets/controls",
       "_model_module_version": "1.5.0",
       "_model_name": "HTMLModel",
       "_view_count": null,
       "_view_module": "@jupyter-widgets/controls",
       "_view_module_version": "1.5.0",
       "_view_name": "HTMLView",
       "description": "",
       "description_tooltip": null,
       "layout": "IPY_MODEL_996bf209edcd431082594494c3034837",
       "placeholder": "​",
       "style": "IPY_MODEL_2f93b1fba321406cb4a1b2ced35b66b6",
       "value": "Downloading:: 100%"
      }
     },
     "27ed908db8df4e5083fbb35325afee4a": {
      "model_module": "@jupyter-widgets/base",
      "model_module_version": "1.2.0",
      "model_name": "LayoutModel",
      "state": {
       "_model_module": "@jupyter-widgets/base",
       "_model_module_version": "1.2.0",
       "_model_name": "LayoutModel",
       "_view_count": null,
       "_view_module": "@jupyter-widgets/base",
       "_view_module_version": "1.2.0",
       "_view_name": "LayoutView",
       "align_content": null,
       "align_items": null,
       "align_self": null,
       "border": null,
       "bottom": null,
       "display": null,
       "flex": null,
       "flex_flow": null,
       "grid_area": null,
       "grid_auto_columns": null,
       "grid_auto_flow": null,
       "grid_auto_rows": null,
       "grid_column": null,
       "grid_gap": null,
       "grid_row": null,
       "grid_template_areas": null,
       "grid_template_columns": null,
       "grid_template_rows": null,
       "height": null,
       "justify_content": null,
       "justify_items": null,
       "left": null,
       "margin": null,
       "max_height": null,
       "max_width": null,
       "min_height": null,
       "min_width": null,
       "object_fit": null,
       "object_position": null,
       "order": null,
       "overflow": null,
       "overflow_x": null,
       "overflow_y": null,
       "padding": null,
       "right": null,
       "top": null,
       "visibility": null,
       "width": null
      }
     },
     "2875bf742f304a3282002c130e358f1e": {
      "model_module": "@jupyter-widgets/controls",
      "model_module_version": "1.5.0",
      "model_name": "HTMLModel",
      "state": {
       "_dom_classes": [],
       "_model_module": "@jupyter-widgets/controls",
       "_model_module_version": "1.5.0",
       "_model_name": "HTMLModel",
       "_view_count": null,
       "_view_module": "@jupyter-widgets/controls",
       "_view_module_version": "1.5.0",
       "_view_name": "HTMLView",
       "description": "",
       "description_tooltip": null,
       "layout": "IPY_MODEL_1a6c843d66704cc7a235fadb2e160a58",
       "placeholder": "​",
       "style": "IPY_MODEL_a11cbd60105945d9a69e4748054a7bd1",
       "value": "<h5><a href=\"https://github.com/jupyter-widgets/pythreejs\">jupyter-widgets/pythreejs</a></h5>\n<ul>\n<li><a href=\"https://github.com/jupyter-widgets/pythreejs/issues/347\">(#347)</a>: <em>Trying to build a Sphere with Earth texture: How to use an HTML canvas as an image texture ?</em> by <strong><a href=\"https://github.com/MordicusEtCubitus\">@MordicusEtCubitus</a></strong></li>\n<li><a href=\"https://github.com/jupyter-widgets/pythreejs/issues/346\">(#346)</a>: <em>jupyter-threejs/extension possibly incompatible</em> by <strong><a href=\"https://github.com/maiermic\">@maiermic</a></strong></li>\n<li><a href=\"https://github.com/jupyter-widgets/pythreejs/issues/345\">(#345)</a>: <em>JupyterLab 3.x \"Model not found\" error</em> by <strong><a href=\"https://github.com/FuriouslyCurious\">@FuriouslyCurious</a></strong></li>\n<li><a href=\"https://github.com/jupyter-widgets/pythreejs/issues/344\">(#344)</a>: <em>uv not specified generates trait error in Picker</em> by <strong><a href=\"https://github.com/R7President\">@R7President</a></strong></li>\n</ul>"
      }
     },
     "2ec7b84a0a2f4799a79b5d169038ac26": {
      "model_module": "@jupyter-widgets/controls",
      "model_module_version": "1.5.0",
      "model_name": "DescriptionStyleModel",
      "state": {
       "_model_module": "@jupyter-widgets/controls",
       "_model_module_version": "1.5.0",
       "_model_name": "DescriptionStyleModel",
       "_view_count": null,
       "_view_module": "@jupyter-widgets/base",
       "_view_module_version": "1.2.0",
       "_view_name": "StyleView",
       "description_width": ""
      }
     },
     "2f93b1fba321406cb4a1b2ced35b66b6": {
      "model_module": "@jupyter-widgets/controls",
      "model_module_version": "1.5.0",
      "model_name": "DescriptionStyleModel",
      "state": {
       "_model_module": "@jupyter-widgets/controls",
       "_model_module_version": "1.5.0",
       "_model_name": "DescriptionStyleModel",
       "_view_count": null,
       "_view_module": "@jupyter-widgets/base",
       "_view_module_version": "1.2.0",
       "_view_name": "StyleView",
       "description_width": ""
      }
     },
     "2fe41d8c0df24668825f03e6d492c904": {
      "model_module": "@jupyter-widgets/controls",
      "model_module_version": "1.5.0",
      "model_name": "DescriptionStyleModel",
      "state": {
       "_model_module": "@jupyter-widgets/controls",
       "_model_module_version": "1.5.0",
       "_model_name": "DescriptionStyleModel",
       "_view_count": null,
       "_view_module": "@jupyter-widgets/base",
       "_view_module_version": "1.2.0",
       "_view_name": "StyleView",
       "description_width": ""
      }
     },
     "31b22494f10b4a6abc38598ca62efce1": {
      "model_module": "@jupyter-widgets/controls",
      "model_module_version": "1.5.0",
      "model_name": "HTMLModel",
      "state": {
       "_dom_classes": [],
       "_model_module": "@jupyter-widgets/controls",
       "_model_module_version": "1.5.0",
       "_model_name": "HTMLModel",
       "_view_count": null,
       "_view_module": "@jupyter-widgets/controls",
       "_view_module_version": "1.5.0",
       "_view_name": "HTMLView",
       "description": "",
       "description_tooltip": null,
       "layout": "IPY_MODEL_6c7292724ca24dc7ad0322cc73f12f87",
       "placeholder": "​",
       "style": "IPY_MODEL_0a1338968a864bed94603f520bf33fe2",
       "value": "<h5><a href=\"https://github.com/jupyter-widgets/jupyterlab-sidecar\">jupyter-widgets/jupyterlab-sidecar</a></h5>"
      }
     },
     "336f9d867aea4934a86e1700a91b8809": {
      "model_module": "@jupyter-widgets/controls",
      "model_module_version": "1.5.0",
      "model_name": "FloatProgressModel",
      "state": {
       "_dom_classes": [],
       "_model_module": "@jupyter-widgets/controls",
       "_model_module_version": "1.5.0",
       "_model_name": "FloatProgressModel",
       "_view_count": null,
       "_view_module": "@jupyter-widgets/controls",
       "_view_module_version": "1.5.0",
       "_view_name": "ProgressView",
       "bar_style": "",
       "description": "",
       "description_tooltip": null,
       "layout": "IPY_MODEL_3e6c2a4146b54849a4abea33bebd920c",
       "max": 97.0,
       "min": 0.0,
       "orientation": "horizontal",
       "style": "IPY_MODEL_56dd1078d4674324bdb097d6c5908c83",
       "value": 97.0
      }
     },
     "378956e568ca4aec970eb96208060c1c": {
      "model_module": "@jupyter-widgets/base",
      "model_module_version": "1.2.0",
      "model_name": "LayoutModel",
      "state": {
       "_model_module": "@jupyter-widgets/base",
       "_model_module_version": "1.2.0",
       "_model_name": "LayoutModel",
       "_view_count": null,
       "_view_module": "@jupyter-widgets/base",
       "_view_module_version": "1.2.0",
       "_view_name": "LayoutView",
       "align_content": null,
       "align_items": null,
       "align_self": null,
       "border": null,
       "bottom": null,
       "display": null,
       "flex": null,
       "flex_flow": null,
       "grid_area": null,
       "grid_auto_columns": null,
       "grid_auto_flow": null,
       "grid_auto_rows": null,
       "grid_column": null,
       "grid_gap": null,
       "grid_row": null,
       "grid_template_areas": null,
       "grid_template_columns": null,
       "grid_template_rows": null,
       "height": null,
       "justify_content": null,
       "justify_items": null,
       "left": null,
       "margin": null,
       "max_height": null,
       "max_width": null,
       "min_height": null,
       "min_width": null,
       "object_fit": null,
       "object_position": null,
       "order": null,
       "overflow": null,
       "overflow_x": null,
       "overflow_y": null,
       "padding": null,
       "right": null,
       "top": null,
       "visibility": null,
       "width": null
      }
     },
     "3d140bb64e3544049db77b20491e7713": {
      "model_module": "@jupyter-widgets/controls",
      "model_module_version": "1.5.0",
      "model_name": "DescriptionStyleModel",
      "state": {
       "_model_module": "@jupyter-widgets/controls",
       "_model_module_version": "1.5.0",
       "_model_name": "DescriptionStyleModel",
       "_view_count": null,
       "_view_module": "@jupyter-widgets/base",
       "_view_module_version": "1.2.0",
       "_view_name": "StyleView",
       "description_width": ""
      }
     },
     "3e1218404cf1429cbc240b98bc0706de": {
      "model_module": "@jupyter-widgets/controls",
      "model_module_version": "1.5.0",
      "model_name": "TabModel",
      "state": {
       "_dom_classes": [],
       "_model_module": "@jupyter-widgets/controls",
       "_model_module_version": "1.5.0",
       "_model_name": "TabModel",
       "_titles": {
        "0": "ipyleaflet",
        "1": "ipywidgets",
        "2": "jupyterlab-sidecar",
        "3": "widget-cookiecutter"
       },
       "_view_count": null,
       "_view_module": "@jupyter-widgets/controls",
       "_view_module_version": "1.5.0",
       "_view_name": "TabView",
       "box_style": "",
       "children": [
        "IPY_MODEL_df90f61702c54ff7837921bbbd22baf9",
        "IPY_MODEL_c77f9777d70f4db1be59c1c6feea2632",
        "IPY_MODEL_a8a7f8fcf0834f6c9ea608152bdc5e7f",
        "IPY_MODEL_a7040d1c0e784df7b58c78e8685cbdad"
       ],
       "layout": "IPY_MODEL_1d7c2653d1854ba1be171b1dc89d838c",
       "selected_index": 0
      }
     },
     "3e256844cfe84c8c82183a8cbe93b8ff": {
      "model_module": "@jupyter-widgets/controls",
      "model_module_version": "1.5.0",
      "model_name": "DescriptionStyleModel",
      "state": {
       "_model_module": "@jupyter-widgets/controls",
       "_model_module_version": "1.5.0",
       "_model_name": "DescriptionStyleModel",
       "_view_count": null,
       "_view_module": "@jupyter-widgets/base",
       "_view_module_version": "1.2.0",
       "_view_name": "StyleView",
       "description_width": ""
      }
     },
     "3e6c2a4146b54849a4abea33bebd920c": {
      "model_module": "@jupyter-widgets/base",
      "model_module_version": "1.2.0",
      "model_name": "LayoutModel",
      "state": {
       "_model_module": "@jupyter-widgets/base",
       "_model_module_version": "1.2.0",
       "_model_name": "LayoutModel",
       "_view_count": null,
       "_view_module": "@jupyter-widgets/base",
       "_view_module_version": "1.2.0",
       "_view_name": "LayoutView",
       "align_content": null,
       "align_items": null,
       "align_self": null,
       "border": null,
       "bottom": null,
       "display": null,
       "flex": null,
       "flex_flow": null,
       "grid_area": null,
       "grid_auto_columns": null,
       "grid_auto_flow": null,
       "grid_auto_rows": null,
       "grid_column": null,
       "grid_gap": null,
       "grid_row": null,
       "grid_template_areas": null,
       "grid_template_columns": null,
       "grid_template_rows": null,
       "height": null,
       "justify_content": null,
       "justify_items": null,
       "left": null,
       "margin": null,
       "max_height": null,
       "max_width": null,
       "min_height": null,
       "min_width": null,
       "object_fit": null,
       "object_position": null,
       "order": null,
       "overflow": null,
       "overflow_x": null,
       "overflow_y": null,
       "padding": null,
       "right": null,
       "top": null,
       "visibility": null,
       "width": null
      }
     },
     "420993d640b945d196a1f3ff5ce1a31c": {
      "model_module": "@jupyter-widgets/base",
      "model_module_version": "1.2.0",
      "model_name": "LayoutModel",
      "state": {
       "_model_module": "@jupyter-widgets/base",
       "_model_module_version": "1.2.0",
       "_model_name": "LayoutModel",
       "_view_count": null,
       "_view_module": "@jupyter-widgets/base",
       "_view_module_version": "1.2.0",
       "_view_name": "LayoutView",
       "align_content": null,
       "align_items": null,
       "align_self": null,
       "border": null,
       "bottom": null,
       "display": null,
       "flex": null,
       "flex_flow": null,
       "grid_area": null,
       "grid_auto_columns": null,
       "grid_auto_flow": null,
       "grid_auto_rows": null,
       "grid_column": null,
       "grid_gap": null,
       "grid_row": null,
       "grid_template_areas": null,
       "grid_template_columns": null,
       "grid_template_rows": null,
       "height": null,
       "justify_content": null,
       "justify_items": null,
       "left": null,
       "margin": null,
       "max_height": null,
       "max_width": null,
       "min_height": null,
       "min_width": null,
       "object_fit": null,
       "object_position": null,
       "order": null,
       "overflow": null,
       "overflow_x": null,
       "overflow_y": null,
       "padding": null,
       "right": null,
       "top": null,
       "visibility": null,
       "width": null
      }
     },
     "4e7d903e17014051b339df772c4dd842": {
      "model_module": "@jupyter-widgets/controls",
      "model_module_version": "1.5.0",
      "model_name": "HBoxModel",
      "state": {
       "_dom_classes": [],
       "_model_module": "@jupyter-widgets/controls",
       "_model_module_version": "1.5.0",
       "_model_name": "HBoxModel",
       "_view_count": null,
       "_view_module": "@jupyter-widgets/controls",
       "_view_module_version": "1.5.0",
       "_view_name": "HBoxView",
       "box_style": "",
       "children": [
        "IPY_MODEL_266f51b2cbb54e178dcfd4e583fdd56c",
        "IPY_MODEL_336f9d867aea4934a86e1700a91b8809",
        "IPY_MODEL_8988546f7df044a4887af56ce15a28dd"
       ],
       "layout": "IPY_MODEL_5db610b9b88840f0af56240cd8fc2a36"
      }
     },
     "5583274dd5af4d91a0226261579376d2": {
      "model_module": "@jupyter-widgets/controls",
      "model_module_version": "1.5.0",
      "model_name": "HTMLModel",
      "state": {
       "_dom_classes": [],
       "_model_module": "@jupyter-widgets/controls",
       "_model_module_version": "1.5.0",
       "_model_name": "HTMLModel",
       "_view_count": null,
       "_view_module": "@jupyter-widgets/controls",
       "_view_module_version": "1.5.0",
       "_view_name": "HTMLView",
       "description": "",
       "description_tooltip": null,
       "layout": "IPY_MODEL_0a50096d824d415589f73da2833bd848",
       "placeholder": "​",
       "style": "IPY_MODEL_2ec7b84a0a2f4799a79b5d169038ac26",
       "value": "<h5><a href=\"https://github.com/jupyter-widgets/jupyterlab-sidecar\">jupyter-widgets/jupyterlab-sidecar</a></h5>"
      }
     },
     "56dd1078d4674324bdb097d6c5908c83": {
      "model_module": "@jupyter-widgets/controls",
      "model_module_version": "1.5.0",
      "model_name": "ProgressStyleModel",
      "state": {
       "_model_module": "@jupyter-widgets/controls",
       "_model_module_version": "1.5.0",
       "_model_name": "ProgressStyleModel",
       "_view_count": null,
       "_view_module": "@jupyter-widgets/base",
       "_view_module_version": "1.2.0",
       "_view_name": "StyleView",
       "bar_color": null,
       "description_width": ""
      }
     },
     "572157b5fed3481093f65966e799139d": {
      "model_module": "@jupyter-widgets/base",
      "model_module_version": "1.2.0",
      "model_name": "LayoutModel",
      "state": {
       "_model_module": "@jupyter-widgets/base",
       "_model_module_version": "1.2.0",
       "_model_name": "LayoutModel",
       "_view_count": null,
       "_view_module": "@jupyter-widgets/base",
       "_view_module_version": "1.2.0",
       "_view_name": "LayoutView",
       "align_content": null,
       "align_items": null,
       "align_self": null,
       "border": null,
       "bottom": null,
       "display": null,
       "flex": null,
       "flex_flow": null,
       "grid_area": null,
       "grid_auto_columns": null,
       "grid_auto_flow": null,
       "grid_auto_rows": null,
       "grid_column": null,
       "grid_gap": null,
       "grid_row": null,
       "grid_template_areas": null,
       "grid_template_columns": null,
       "grid_template_rows": null,
       "height": null,
       "justify_content": null,
       "justify_items": null,
       "left": null,
       "margin": null,
       "max_height": null,
       "max_width": null,
       "min_height": null,
       "min_width": null,
       "object_fit": null,
       "object_position": null,
       "order": null,
       "overflow": null,
       "overflow_x": null,
       "overflow_y": null,
       "padding": null,
       "right": null,
       "top": null,
       "visibility": null,
       "width": null
      }
     },
     "57e7fc0d4866416d83bec19b5e40d421": {
      "model_module": "@jupyter-widgets/base",
      "model_module_version": "1.2.0",
      "model_name": "LayoutModel",
      "state": {
       "_model_module": "@jupyter-widgets/base",
       "_model_module_version": "1.2.0",
       "_model_name": "LayoutModel",
       "_view_count": null,
       "_view_module": "@jupyter-widgets/base",
       "_view_module_version": "1.2.0",
       "_view_name": "LayoutView",
       "align_content": null,
       "align_items": null,
       "align_self": null,
       "border": null,
       "bottom": null,
       "display": null,
       "flex": null,
       "flex_flow": null,
       "grid_area": null,
       "grid_auto_columns": null,
       "grid_auto_flow": null,
       "grid_auto_rows": null,
       "grid_column": null,
       "grid_gap": null,
       "grid_row": null,
       "grid_template_areas": null,
       "grid_template_columns": null,
       "grid_template_rows": null,
       "height": null,
       "justify_content": null,
       "justify_items": null,
       "left": null,
       "margin": null,
       "max_height": null,
       "max_width": null,
       "min_height": null,
       "min_width": null,
       "object_fit": null,
       "object_position": null,
       "order": null,
       "overflow": null,
       "overflow_x": null,
       "overflow_y": null,
       "padding": null,
       "right": null,
       "top": null,
       "visibility": null,
       "width": null
      }
     },
     "57e830ce8f5746b4802ff1546b22dd0c": {
      "model_module": "@jupyter-widgets/base",
      "model_module_version": "1.2.0",
      "model_name": "LayoutModel",
      "state": {
       "_model_module": "@jupyter-widgets/base",
       "_model_module_version": "1.2.0",
       "_model_name": "LayoutModel",
       "_view_count": null,
       "_view_module": "@jupyter-widgets/base",
       "_view_module_version": "1.2.0",
       "_view_name": "LayoutView",
       "align_content": null,
       "align_items": null,
       "align_self": null,
       "border": null,
       "bottom": null,
       "display": null,
       "flex": null,
       "flex_flow": null,
       "grid_area": null,
       "grid_auto_columns": null,
       "grid_auto_flow": null,
       "grid_auto_rows": null,
       "grid_column": null,
       "grid_gap": null,
       "grid_row": null,
       "grid_template_areas": null,
       "grid_template_columns": null,
       "grid_template_rows": null,
       "height": null,
       "justify_content": null,
       "justify_items": null,
       "left": null,
       "margin": null,
       "max_height": null,
       "max_width": null,
       "min_height": null,
       "min_width": null,
       "object_fit": null,
       "object_position": null,
       "order": null,
       "overflow": null,
       "overflow_x": null,
       "overflow_y": null,
       "padding": null,
       "right": null,
       "top": null,
       "visibility": null,
       "width": null
      }
     },
     "59d2e2d944fd48e7a91d40929b2b5eff": {
      "model_module": "@jupyter-widgets/base",
      "model_module_version": "1.2.0",
      "model_name": "LayoutModel",
      "state": {
       "_model_module": "@jupyter-widgets/base",
       "_model_module_version": "1.2.0",
       "_model_name": "LayoutModel",
       "_view_count": null,
       "_view_module": "@jupyter-widgets/base",
       "_view_module_version": "1.2.0",
       "_view_name": "LayoutView",
       "align_content": null,
       "align_items": null,
       "align_self": null,
       "border": null,
       "bottom": null,
       "display": null,
       "flex": null,
       "flex_flow": null,
       "grid_area": null,
       "grid_auto_columns": null,
       "grid_auto_flow": null,
       "grid_auto_rows": null,
       "grid_column": null,
       "grid_gap": null,
       "grid_row": null,
       "grid_template_areas": null,
       "grid_template_columns": null,
       "grid_template_rows": null,
       "height": null,
       "justify_content": null,
       "justify_items": null,
       "left": null,
       "margin": null,
       "max_height": null,
       "max_width": null,
       "min_height": null,
       "min_width": null,
       "object_fit": null,
       "object_position": null,
       "order": null,
       "overflow": null,
       "overflow_x": null,
       "overflow_y": null,
       "padding": null,
       "right": null,
       "top": null,
       "visibility": null,
       "width": null
      }
     },
     "5db610b9b88840f0af56240cd8fc2a36": {
      "model_module": "@jupyter-widgets/base",
      "model_module_version": "1.2.0",
      "model_name": "LayoutModel",
      "state": {
       "_model_module": "@jupyter-widgets/base",
       "_model_module_version": "1.2.0",
       "_model_name": "LayoutModel",
       "_view_count": null,
       "_view_module": "@jupyter-widgets/base",
       "_view_module_version": "1.2.0",
       "_view_name": "LayoutView",
       "align_content": null,
       "align_items": null,
       "align_self": null,
       "border": null,
       "bottom": null,
       "display": null,
       "flex": null,
       "flex_flow": null,
       "grid_area": null,
       "grid_auto_columns": null,
       "grid_auto_flow": null,
       "grid_auto_rows": null,
       "grid_column": null,
       "grid_gap": null,
       "grid_row": null,
       "grid_template_areas": null,
       "grid_template_columns": null,
       "grid_template_rows": null,
       "height": null,
       "justify_content": null,
       "justify_items": null,
       "left": null,
       "margin": null,
       "max_height": null,
       "max_width": null,
       "min_height": null,
       "min_width": null,
       "object_fit": null,
       "object_position": null,
       "order": null,
       "overflow": null,
       "overflow_x": null,
       "overflow_y": null,
       "padding": null,
       "right": null,
       "top": null,
       "visibility": null,
       "width": null
      }
     },
     "5f3b831b1d7b4933a5bfcf1f4d8f1bc9": {
      "model_module": "@jupyter-widgets/controls",
      "model_module_version": "1.5.0",
      "model_name": "DescriptionStyleModel",
      "state": {
       "_model_module": "@jupyter-widgets/controls",
       "_model_module_version": "1.5.0",
       "_model_name": "DescriptionStyleModel",
       "_view_count": null,
       "_view_module": "@jupyter-widgets/base",
       "_view_module_version": "1.2.0",
       "_view_name": "StyleView",
       "description_width": ""
      }
     },
     "5f83dfd08ec14c509f1d5f7339776189": {
      "model_module": "@jupyter-widgets/controls",
      "model_module_version": "1.5.0",
      "model_name": "DescriptionStyleModel",
      "state": {
       "_model_module": "@jupyter-widgets/controls",
       "_model_module_version": "1.5.0",
       "_model_name": "DescriptionStyleModel",
       "_view_count": null,
       "_view_module": "@jupyter-widgets/base",
       "_view_module_version": "1.2.0",
       "_view_name": "StyleView",
       "description_width": ""
      }
     },
     "6298e48e48bc40c6b5886ede476fb530": {
      "model_module": "@jupyter-widgets/base",
      "model_module_version": "1.2.0",
      "model_name": "LayoutModel",
      "state": {
       "_model_module": "@jupyter-widgets/base",
       "_model_module_version": "1.2.0",
       "_model_name": "LayoutModel",
       "_view_count": null,
       "_view_module": "@jupyter-widgets/base",
       "_view_module_version": "1.2.0",
       "_view_name": "LayoutView",
       "align_content": null,
       "align_items": null,
       "align_self": null,
       "border": null,
       "bottom": null,
       "display": null,
       "flex": null,
       "flex_flow": null,
       "grid_area": null,
       "grid_auto_columns": null,
       "grid_auto_flow": null,
       "grid_auto_rows": null,
       "grid_column": null,
       "grid_gap": null,
       "grid_row": null,
       "grid_template_areas": null,
       "grid_template_columns": null,
       "grid_template_rows": null,
       "height": null,
       "justify_content": null,
       "justify_items": null,
       "left": null,
       "margin": null,
       "max_height": null,
       "max_width": null,
       "min_height": null,
       "min_width": null,
       "object_fit": null,
       "object_position": null,
       "order": null,
       "overflow": null,
       "overflow_x": null,
       "overflow_y": null,
       "padding": null,
       "right": null,
       "top": null,
       "visibility": null,
       "width": null
      }
     },
     "6a393477aa7a4e51b61966c46e17a6eb": {
      "model_module": "@jupyter-widgets/base",
      "model_module_version": "1.2.0",
      "model_name": "LayoutModel",
      "state": {
       "_model_module": "@jupyter-widgets/base",
       "_model_module_version": "1.2.0",
       "_model_name": "LayoutModel",
       "_view_count": null,
       "_view_module": "@jupyter-widgets/base",
       "_view_module_version": "1.2.0",
       "_view_name": "LayoutView",
       "align_content": null,
       "align_items": null,
       "align_self": null,
       "border": null,
       "bottom": null,
       "display": null,
       "flex": null,
       "flex_flow": null,
       "grid_area": null,
       "grid_auto_columns": null,
       "grid_auto_flow": null,
       "grid_auto_rows": null,
       "grid_column": null,
       "grid_gap": null,
       "grid_row": null,
       "grid_template_areas": null,
       "grid_template_columns": null,
       "grid_template_rows": null,
       "height": null,
       "justify_content": null,
       "justify_items": null,
       "left": null,
       "margin": null,
       "max_height": null,
       "max_width": null,
       "min_height": null,
       "min_width": null,
       "object_fit": null,
       "object_position": null,
       "order": null,
       "overflow": null,
       "overflow_x": null,
       "overflow_y": null,
       "padding": null,
       "right": null,
       "top": null,
       "visibility": null,
       "width": null
      }
     },
     "6aa42e3f4391408c80b726c3659803c5": {
      "model_module": "@jupyter-widgets/controls",
      "model_module_version": "1.5.0",
      "model_name": "TabModel",
      "state": {
       "_dom_classes": [],
       "_model_module": "@jupyter-widgets/controls",
       "_model_module_version": "1.5.0",
       "_model_name": "TabModel",
       "_titles": {
        "0": "ipyleaflet",
        "1": "ipywidgets",
        "2": "jupyterlab-sidecar",
        "3": "pythreejs",
        "4": "tutorial",
        "5": "widget-cookiecutter"
       },
       "_view_count": null,
       "_view_module": "@jupyter-widgets/controls",
       "_view_module_version": "1.5.0",
       "_view_name": "TabView",
       "box_style": "",
       "children": [
        "IPY_MODEL_debb05f8b97a4269ba7445006e596c64",
        "IPY_MODEL_db94e364b48141ffbec77473cb6308dc",
        "IPY_MODEL_31b22494f10b4a6abc38598ca62efce1",
        "IPY_MODEL_2875bf742f304a3282002c130e358f1e",
        "IPY_MODEL_cd55346054c14a419d9d6d9441b04704",
        "IPY_MODEL_f9ab1ceb24c647d193b044a215fed80c"
       ],
       "layout": "IPY_MODEL_17ba97e264f1443b8f177d526f80e8e0",
       "selected_index": 0
      }
     },
     "6c7292724ca24dc7ad0322cc73f12f87": {
      "model_module": "@jupyter-widgets/base",
      "model_module_version": "1.2.0",
      "model_name": "LayoutModel",
      "state": {
       "_model_module": "@jupyter-widgets/base",
       "_model_module_version": "1.2.0",
       "_model_name": "LayoutModel",
       "_view_count": null,
       "_view_module": "@jupyter-widgets/base",
       "_view_module_version": "1.2.0",
       "_view_name": "LayoutView",
       "align_content": null,
       "align_items": null,
       "align_self": null,
       "border": null,
       "bottom": null,
       "display": null,
       "flex": null,
       "flex_flow": null,
       "grid_area": null,
       "grid_auto_columns": null,
       "grid_auto_flow": null,
       "grid_auto_rows": null,
       "grid_column": null,
       "grid_gap": null,
       "grid_row": null,
       "grid_template_areas": null,
       "grid_template_columns": null,
       "grid_template_rows": null,
       "height": null,
       "justify_content": null,
       "justify_items": null,
       "left": null,
       "margin": null,
       "max_height": null,
       "max_width": null,
       "min_height": null,
       "min_width": null,
       "object_fit": null,
       "object_position": null,
       "order": null,
       "overflow": null,
       "overflow_x": null,
       "overflow_y": null,
       "padding": null,
       "right": null,
       "top": null,
       "visibility": null,
       "width": null
      }
     },
     "7387f34d097c4df8b0cebfa0f93fa21d": {
      "model_module": "@jupyter-widgets/base",
      "model_module_version": "1.2.0",
      "model_name": "LayoutModel",
      "state": {
       "_model_module": "@jupyter-widgets/base",
       "_model_module_version": "1.2.0",
       "_model_name": "LayoutModel",
       "_view_count": null,
       "_view_module": "@jupyter-widgets/base",
       "_view_module_version": "1.2.0",
       "_view_name": "LayoutView",
       "align_content": null,
       "align_items": null,
       "align_self": null,
       "border": null,
       "bottom": null,
       "display": null,
       "flex": null,
       "flex_flow": null,
       "grid_area": null,
       "grid_auto_columns": null,
       "grid_auto_flow": null,
       "grid_auto_rows": null,
       "grid_column": null,
       "grid_gap": null,
       "grid_row": null,
       "grid_template_areas": null,
       "grid_template_columns": null,
       "grid_template_rows": null,
       "height": null,
       "justify_content": null,
       "justify_items": null,
       "left": null,
       "margin": null,
       "max_height": null,
       "max_width": null,
       "min_height": null,
       "min_width": null,
       "object_fit": null,
       "object_position": null,
       "order": null,
       "overflow": null,
       "overflow_x": null,
       "overflow_y": null,
       "padding": null,
       "right": null,
       "top": null,
       "visibility": null,
       "width": null
      }
     },
     "7c9f87ad81ce4b9f823458163e39a0e6": {
      "model_module": "@jupyter-widgets/base",
      "model_module_version": "1.2.0",
      "model_name": "LayoutModel",
      "state": {
       "_model_module": "@jupyter-widgets/base",
       "_model_module_version": "1.2.0",
       "_model_name": "LayoutModel",
       "_view_count": null,
       "_view_module": "@jupyter-widgets/base",
       "_view_module_version": "1.2.0",
       "_view_name": "LayoutView",
       "align_content": null,
       "align_items": null,
       "align_self": null,
       "border": null,
       "bottom": null,
       "display": null,
       "flex": null,
       "flex_flow": null,
       "grid_area": null,
       "grid_auto_columns": null,
       "grid_auto_flow": null,
       "grid_auto_rows": null,
       "grid_column": null,
       "grid_gap": null,
       "grid_row": null,
       "grid_template_areas": null,
       "grid_template_columns": null,
       "grid_template_rows": null,
       "height": null,
       "justify_content": null,
       "justify_items": null,
       "left": null,
       "margin": null,
       "max_height": null,
       "max_width": null,
       "min_height": null,
       "min_width": null,
       "object_fit": null,
       "object_position": null,
       "order": null,
       "overflow": null,
       "overflow_x": null,
       "overflow_y": null,
       "padding": null,
       "right": null,
       "top": null,
       "visibility": null,
       "width": null
      }
     },
     "7dbec17c3c4646dead232b3bf582b57b": {
      "model_module": "@jupyter-widgets/base",
      "model_module_version": "1.2.0",
      "model_name": "LayoutModel",
      "state": {
       "_model_module": "@jupyter-widgets/base",
       "_model_module_version": "1.2.0",
       "_model_name": "LayoutModel",
       "_view_count": null,
       "_view_module": "@jupyter-widgets/base",
       "_view_module_version": "1.2.0",
       "_view_name": "LayoutView",
       "align_content": null,
       "align_items": null,
       "align_self": null,
       "border": null,
       "bottom": null,
       "display": null,
       "flex": null,
       "flex_flow": null,
       "grid_area": null,
       "grid_auto_columns": null,
       "grid_auto_flow": null,
       "grid_auto_rows": null,
       "grid_column": null,
       "grid_gap": null,
       "grid_row": null,
       "grid_template_areas": null,
       "grid_template_columns": null,
       "grid_template_rows": null,
       "height": null,
       "justify_content": null,
       "justify_items": null,
       "left": null,
       "margin": null,
       "max_height": null,
       "max_width": null,
       "min_height": null,
       "min_width": null,
       "object_fit": null,
       "object_position": null,
       "order": null,
       "overflow": null,
       "overflow_x": null,
       "overflow_y": null,
       "padding": null,
       "right": null,
       "top": null,
       "visibility": null,
       "width": null
      }
     },
     "82793edee96d4a7b8a9007a1ef7647dd": {
      "model_module": "@jupyter-widgets/controls",
      "model_module_version": "1.5.0",
      "model_name": "DescriptionStyleModel",
      "state": {
       "_model_module": "@jupyter-widgets/controls",
       "_model_module_version": "1.5.0",
       "_model_name": "DescriptionStyleModel",
       "_view_count": null,
       "_view_module": "@jupyter-widgets/base",
       "_view_module_version": "1.2.0",
       "_view_name": "StyleView",
       "description_width": ""
      }
     },
     "82809c3c9ebd4982a448dbed3c228725": {
      "model_module": "@jupyter-widgets/controls",
      "model_module_version": "1.5.0",
      "model_name": "DescriptionStyleModel",
      "state": {
       "_model_module": "@jupyter-widgets/controls",
       "_model_module_version": "1.5.0",
       "_model_name": "DescriptionStyleModel",
       "_view_count": null,
       "_view_module": "@jupyter-widgets/base",
       "_view_module_version": "1.2.0",
       "_view_name": "StyleView",
       "description_width": ""
      }
     },
     "8602b1fbd2ec4d938cf1b8c893cf2abc": {
      "model_module": "@jupyter-widgets/controls",
      "model_module_version": "1.5.0",
      "model_name": "DescriptionStyleModel",
      "state": {
       "_model_module": "@jupyter-widgets/controls",
       "_model_module_version": "1.5.0",
       "_model_name": "DescriptionStyleModel",
       "_view_count": null,
       "_view_module": "@jupyter-widgets/base",
       "_view_module_version": "1.2.0",
       "_view_name": "StyleView",
       "description_width": ""
      }
     },
     "8988546f7df044a4887af56ce15a28dd": {
      "model_module": "@jupyter-widgets/controls",
      "model_module_version": "1.5.0",
      "model_name": "HTMLModel",
      "state": {
       "_dom_classes": [],
       "_model_module": "@jupyter-widgets/controls",
       "_model_module_version": "1.5.0",
       "_model_name": "HTMLModel",
       "_view_count": null,
       "_view_module": "@jupyter-widgets/controls",
       "_view_module_version": "1.5.0",
       "_view_name": "HTMLView",
       "description": "",
       "description_tooltip": null,
       "layout": "IPY_MODEL_420993d640b945d196a1f3ff5ce1a31c",
       "placeholder": "​",
       "style": "IPY_MODEL_ef346cfccb9f4a8f8b9f11c7bfaf31a5",
       "value": " 97/97 [00:01&lt;00:00, 54.29issues/s]"
      }
     },
     "8fcd8a42089c4a40a8cd6fa4691776f1": {
      "model_module": "@jupyter-widgets/controls",
      "model_module_version": "1.5.0",
      "model_name": "DescriptionStyleModel",
      "state": {
       "_model_module": "@jupyter-widgets/controls",
       "_model_module_version": "1.5.0",
       "_model_name": "DescriptionStyleModel",
       "_view_count": null,
       "_view_module": "@jupyter-widgets/base",
       "_view_module_version": "1.2.0",
       "_view_name": "StyleView",
       "description_width": ""
      }
     },
     "996bf209edcd431082594494c3034837": {
      "model_module": "@jupyter-widgets/base",
      "model_module_version": "1.2.0",
      "model_name": "LayoutModel",
      "state": {
       "_model_module": "@jupyter-widgets/base",
       "_model_module_version": "1.2.0",
       "_model_name": "LayoutModel",
       "_view_count": null,
       "_view_module": "@jupyter-widgets/base",
       "_view_module_version": "1.2.0",
       "_view_name": "LayoutView",
       "align_content": null,
       "align_items": null,
       "align_self": null,
       "border": null,
       "bottom": null,
       "display": null,
       "flex": null,
       "flex_flow": null,
       "grid_area": null,
       "grid_auto_columns": null,
       "grid_auto_flow": null,
       "grid_auto_rows": null,
       "grid_column": null,
       "grid_gap": null,
       "grid_row": null,
       "grid_template_areas": null,
       "grid_template_columns": null,
       "grid_template_rows": null,
       "height": null,
       "justify_content": null,
       "justify_items": null,
       "left": null,
       "margin": null,
       "max_height": null,
       "max_width": null,
       "min_height": null,
       "min_width": null,
       "object_fit": null,
       "object_position": null,
       "order": null,
       "overflow": null,
       "overflow_x": null,
       "overflow_y": null,
       "padding": null,
       "right": null,
       "top": null,
       "visibility": null,
       "width": null
      }
     },
     "9a805c221cbe47ab9bf1b29201302e2a": {
      "model_module": "@jupyter-widgets/controls",
      "model_module_version": "1.5.0",
      "model_name": "ProgressStyleModel",
      "state": {
       "_model_module": "@jupyter-widgets/controls",
       "_model_module_version": "1.5.0",
       "_model_name": "ProgressStyleModel",
       "_view_count": null,
       "_view_module": "@jupyter-widgets/base",
       "_view_module_version": "1.2.0",
       "_view_name": "StyleView",
       "bar_color": null,
       "description_width": ""
      }
     },
     "9c73ba1568ab44c297e3f8701fdffd81": {
      "model_module": "@jupyter-widgets/controls",
      "model_module_version": "1.5.0",
      "model_name": "HTMLModel",
      "state": {
       "_dom_classes": [],
       "_model_module": "@jupyter-widgets/controls",
       "_model_module_version": "1.5.0",
       "_model_name": "HTMLModel",
       "_view_count": null,
       "_view_module": "@jupyter-widgets/controls",
       "_view_module_version": "1.5.0",
       "_view_name": "HTMLView",
       "description": "",
       "description_tooltip": null,
       "layout": "IPY_MODEL_6298e48e48bc40c6b5886ede476fb530",
       "placeholder": "​",
       "style": "IPY_MODEL_bc8c12e62bdc4a4ca1c70d686c24f8eb",
       "value": " 73/73 [00:01&lt;00:00, 62.82issues/s]"
      }
     },
     "a11cbd60105945d9a69e4748054a7bd1": {
      "model_module": "@jupyter-widgets/controls",
      "model_module_version": "1.5.0",
      "model_name": "DescriptionStyleModel",
      "state": {
       "_model_module": "@jupyter-widgets/controls",
       "_model_module_version": "1.5.0",
       "_model_name": "DescriptionStyleModel",
       "_view_count": null,
       "_view_module": "@jupyter-widgets/base",
       "_view_module_version": "1.2.0",
       "_view_name": "StyleView",
       "description_width": ""
      }
     },
     "a44f8db053124221bfb29333aef015f2": {
      "model_module": "@jupyter-widgets/base",
      "model_module_version": "1.2.0",
      "model_name": "LayoutModel",
      "state": {
       "_model_module": "@jupyter-widgets/base",
       "_model_module_version": "1.2.0",
       "_model_name": "LayoutModel",
       "_view_count": null,
       "_view_module": "@jupyter-widgets/base",
       "_view_module_version": "1.2.0",
       "_view_name": "LayoutView",
       "align_content": null,
       "align_items": null,
       "align_self": null,
       "border": null,
       "bottom": null,
       "display": null,
       "flex": null,
       "flex_flow": null,
       "grid_area": null,
       "grid_auto_columns": null,
       "grid_auto_flow": null,
       "grid_auto_rows": null,
       "grid_column": null,
       "grid_gap": null,
       "grid_row": null,
       "grid_template_areas": null,
       "grid_template_columns": null,
       "grid_template_rows": null,
       "height": null,
       "justify_content": null,
       "justify_items": null,
       "left": null,
       "margin": null,
       "max_height": null,
       "max_width": null,
       "min_height": null,
       "min_width": null,
       "object_fit": null,
       "object_position": null,
       "order": null,
       "overflow": null,
       "overflow_x": null,
       "overflow_y": null,
       "padding": null,
       "right": null,
       "top": null,
       "visibility": null,
       "width": null
      }
     },
     "a4f05be5d9254e51b38b66a51de63f8a": {
      "model_module": "@jupyter-widgets/base",
      "model_module_version": "1.2.0",
      "model_name": "LayoutModel",
      "state": {
       "_model_module": "@jupyter-widgets/base",
       "_model_module_version": "1.2.0",
       "_model_name": "LayoutModel",
       "_view_count": null,
       "_view_module": "@jupyter-widgets/base",
       "_view_module_version": "1.2.0",
       "_view_name": "LayoutView",
       "align_content": null,
       "align_items": null,
       "align_self": null,
       "border": null,
       "bottom": null,
       "display": null,
       "flex": null,
       "flex_flow": null,
       "grid_area": null,
       "grid_auto_columns": null,
       "grid_auto_flow": null,
       "grid_auto_rows": null,
       "grid_column": null,
       "grid_gap": null,
       "grid_row": null,
       "grid_template_areas": null,
       "grid_template_columns": null,
       "grid_template_rows": null,
       "height": null,
       "justify_content": null,
       "justify_items": null,
       "left": null,
       "margin": null,
       "max_height": null,
       "max_width": null,
       "min_height": null,
       "min_width": null,
       "object_fit": null,
       "object_position": null,
       "order": null,
       "overflow": null,
       "overflow_x": null,
       "overflow_y": null,
       "padding": null,
       "right": null,
       "top": null,
       "visibility": null,
       "width": null
      }
     },
     "a7040d1c0e784df7b58c78e8685cbdad": {
      "model_module": "@jupyter-widgets/controls",
      "model_module_version": "1.5.0",
      "model_name": "HTMLModel",
      "state": {
       "_dom_classes": [],
       "_model_module": "@jupyter-widgets/controls",
       "_model_module_version": "1.5.0",
       "_model_name": "HTMLModel",
       "_view_count": null,
       "_view_module": "@jupyter-widgets/controls",
       "_view_module_version": "1.5.0",
       "_view_name": "HTMLView",
       "description": "",
       "description_tooltip": null,
       "layout": "IPY_MODEL_57e830ce8f5746b4802ff1546b22dd0c",
       "placeholder": "​",
       "style": "IPY_MODEL_8fcd8a42089c4a40a8cd6fa4691776f1",
       "value": "<h4>Closed PRs for repo: <a href=\"https://github.com/jupyter-widgets/widget-cookiecutter\">jupyter-widgets/widget-cookiecutter</a></h4>\n<h5></h5>\n<ul>\n<li><a href=\"https://github.com/jupyter-widgets/widget-cookiecutter/pull/81\">(#81)</a>: <em>JupyterLab plugin ids are by convention <packagename>:<pluginname></em> by <strong><a href=\"https://github.com/jasongrout\">@jasongrout</a></strong> merged by <strong><a href=\"https://github.com/jasongrout\">@jasongrout</a></strong></li>\n<li><a href=\"https://github.com/jupyter-widgets/widget-cookiecutter/pull/72\">(#72)</a>: <em>Update for JupyterLab 3</em> by <strong><a href=\"https://github.com/martinRenou\">@martinRenou</a></strong> merged by <strong><a href=\"https://github.com/martinRenou\">@martinRenou</a></strong></li>\n</ul>"
      }
     },
     "a8a7f8fcf0834f6c9ea608152bdc5e7f": {
      "model_module": "@jupyter-widgets/controls",
      "model_module_version": "1.5.0",
      "model_name": "HTMLModel",
      "state": {
       "_dom_classes": [],
       "_model_module": "@jupyter-widgets/controls",
       "_model_module_version": "1.5.0",
       "_model_name": "HTMLModel",
       "_view_count": null,
       "_view_module": "@jupyter-widgets/controls",
       "_view_module_version": "1.5.0",
       "_view_name": "HTMLView",
       "description": "",
       "description_tooltip": null,
       "layout": "IPY_MODEL_27ed908db8df4e5083fbb35325afee4a",
       "placeholder": "​",
       "style": "IPY_MODEL_e7b82886a5b74f3289402fbc93ad51f6",
       "value": "<h4>Closed PRs for repo: <a href=\"https://github.com/jupyter-widgets/jupyterlab-sidecar\">jupyter-widgets/jupyterlab-sidecar</a></h4>\n<h5></h5>\n<ul>\n<li><a href=\"https://github.com/jupyter-widgets/jupyterlab-sidecar/pull/58\">(#58)</a>: <em>JupyterLab 3</em> by <strong><a href=\"https://github.com/martinRenou\">@martinRenou</a></strong> merged by <strong><a href=\"https://github.com/martinRenou\">@martinRenou</a></strong></li>\n</ul>"
      }
     },
     "b0a272ab31f948f38c2b8b3841ed8deb": {
      "model_module": "@jupyter-widgets/controls",
      "model_module_version": "1.5.0",
      "model_name": "DescriptionStyleModel",
      "state": {
       "_model_module": "@jupyter-widgets/controls",
       "_model_module_version": "1.5.0",
       "_model_name": "DescriptionStyleModel",
       "_view_count": null,
       "_view_module": "@jupyter-widgets/base",
       "_view_module_version": "1.2.0",
       "_view_name": "StyleView",
       "description_width": ""
      }
     },
     "b1a7738499ae4e22a853dbee7048e817": {
      "model_module": "@jupyter-widgets/controls",
      "model_module_version": "1.5.0",
      "model_name": "HTMLModel",
      "state": {
       "_dom_classes": [],
       "_model_module": "@jupyter-widgets/controls",
       "_model_module_version": "1.5.0",
       "_model_name": "HTMLModel",
       "_view_count": null,
       "_view_module": "@jupyter-widgets/controls",
       "_view_module_version": "1.5.0",
       "_view_name": "HTMLView",
       "description": "",
       "description_tooltip": null,
       "layout": "IPY_MODEL_572157b5fed3481093f65966e799139d",
       "placeholder": "​",
       "style": "IPY_MODEL_08d16d334fb448548af995229e0e7ecc",
       "value": "<h5><a href=\"https://github.com/jupyter-widgets/widget-cookiecutter\">jupyter-widgets/widget-cookiecutter</a></h5>\n<ul>\n<li><a href=\"https://github.com/jupyter-widgets/widget-cookiecutter/issues/82\">(#82)</a>: <em>\"Not registered as widget module\" error in JupyterLab</em> by <strong><a href=\"https://github.com/rmorshea\">@rmorshea</a></strong></li>\n<li><a href=\"https://github.com/jupyter-widgets/widget-cookiecutter/issues/83\">(#83)</a>: <em>Support for JLab 3.x ?</em> by <strong><a href=\"https://github.com/dou-du\">@dou-du</a></strong></li>\n<li><a href=\"https://github.com/jupyter-widgets/widget-cookiecutter/issues/79\">(#79)</a>: <em>Support for Jupyter Lab 3</em> by <strong><a href=\"https://github.com/amirebrahimi\">@amirebrahimi</a></strong></li>\n</ul>"
      }
     },
     "bc8c12e62bdc4a4ca1c70d686c24f8eb": {
      "model_module": "@jupyter-widgets/controls",
      "model_module_version": "1.5.0",
      "model_name": "DescriptionStyleModel",
      "state": {
       "_model_module": "@jupyter-widgets/controls",
       "_model_module_version": "1.5.0",
       "_model_name": "DescriptionStyleModel",
       "_view_count": null,
       "_view_module": "@jupyter-widgets/base",
       "_view_module_version": "1.2.0",
       "_view_name": "StyleView",
       "description_width": ""
      }
     },
     "c0bfd5184bc147d5adbe96c561f8322e": {
      "model_module": "@jupyter-widgets/controls",
      "model_module_version": "1.5.0",
      "model_name": "HTMLModel",
      "state": {
       "_dom_classes": [],
       "_model_module": "@jupyter-widgets/controls",
       "_model_module_version": "1.5.0",
       "_model_name": "HTMLModel",
       "_view_count": null,
       "_view_module": "@jupyter-widgets/controls",
       "_view_module_version": "1.5.0",
       "_view_name": "HTMLView",
       "description": "",
       "description_tooltip": null,
       "layout": "IPY_MODEL_7c9f87ad81ce4b9f823458163e39a0e6",
       "placeholder": "​",
       "style": "IPY_MODEL_e9440faf24c54ff98f4494325bec7f3b",
       "value": "Downloading:: 100%"
      }
     },
     "c77f9777d70f4db1be59c1c6feea2632": {
      "model_module": "@jupyter-widgets/controls",
      "model_module_version": "1.5.0",
      "model_name": "HTMLModel",
      "state": {
       "_dom_classes": [],
       "_model_module": "@jupyter-widgets/controls",
       "_model_module_version": "1.5.0",
       "_model_name": "HTMLModel",
       "_view_count": null,
       "_view_module": "@jupyter-widgets/controls",
       "_view_module_version": "1.5.0",
       "_view_name": "HTMLView",
       "description": "",
       "description_tooltip": null,
       "layout": "IPY_MODEL_a4f05be5d9254e51b38b66a51de63f8a",
       "placeholder": "​",
       "style": "IPY_MODEL_3e256844cfe84c8c82183a8cbe93b8ff",
       "value": "<h4>Closed PRs for repo: <a href=\"https://github.com/jupyter-widgets/ipywidgets\">jupyter-widgets/ipywidgets</a></h4>\n<h5></h5>\n<ul>\n<li><a href=\"https://github.com/jupyter-widgets/ipywidgets/pull/3059\">(#3059)</a>: <em>Only install jupyterlab_widgets if py3.6 or above</em> by <strong><a href=\"https://github.com/patviafore-canonical\">@patviafore-canonical</a></strong> merged by <strong><a href=\"https://github.com/jasongrout\">@jasongrout</a></strong></li>\n<li><a href=\"https://github.com/jupyter-widgets/ipywidgets/pull/3051\">(#3051)</a>: <em>Mention adding a sharedPackages configuration when updating to JLab 3.</em> by <strong><a href=\"https://github.com/jasongrout\">@jasongrout</a></strong> merged by <strong><a href=\"https://github.com/jasongrout\">@jasongrout</a></strong></li>\n<li><a href=\"https://github.com/jupyter-widgets/ipywidgets/pull/3050\">(#3050)</a>: <em>Require jupyterlab_widgets only on Python &gt;=3.5</em> by <strong><a href=\"https://github.com/jasongrout\">@jasongrout</a></strong> merged by <strong><a href=\"https://github.com/jasongrout\">@jasongrout</a></strong></li>\n<li><a href=\"https://github.com/jupyter-widgets/ipywidgets/pull/3047\">(#3047)</a>: <em>Update changelog with instructions for widget maintainers.</em> by <strong><a href=\"https://github.com/jasongrout\">@jasongrout</a></strong> merged by <strong><a href=\"https://github.com/jasongrout\">@jasongrout</a></strong></li>\n<li><a href=\"https://github.com/jupyter-widgets/ipywidgets/pull/3046\">(#3046)</a>: <em>Update changelog and documentation for 7.6.0</em> by <strong><a href=\"https://github.com/jasongrout\">@jasongrout</a></strong> merged by <strong><a href=\"https://github.com/jasongrout\">@jasongrout</a></strong></li>\n<li><a href=\"https://github.com/jupyter-widgets/ipywidgets/pull/3045\">(#3045)</a>: <em>Updates to jupyterlab_widgets from cookiecutter</em> by <strong><a href=\"https://github.com/jasongrout\">@jasongrout</a></strong> merged by <strong><a href=\"https://github.com/jasongrout\">@jasongrout</a></strong></li>\n<li><a href=\"https://github.com/jupyter-widgets/ipywidgets/pull/3044\">(#3044)</a>: <em>Update for JupyterLab 3</em> by <strong><a href=\"https://github.com/jasongrout\">@jasongrout</a></strong> merged by <strong><a href=\"https://github.com/jasongrout\">@jasongrout</a></strong></li>\n<li><a href=\"https://github.com/jupyter-widgets/ipywidgets/pull/3040\">(#3040)</a>: <em>Docs: Remove reference to resolved bug</em> by <strong><a href=\"https://github.com/carlobeltrame\">@carlobeltrame</a></strong> merged by <strong><a href=\"https://github.com/vidartf\">@vidartf</a></strong></li>\n<li><a href=\"https://github.com/jupyter-widgets/ipywidgets/pull/3014\">(#3014)</a>: <em>add alt text so images aren't duplicated in html</em> by <strong><a href=\"https://github.com/ianhi\">@ianhi</a></strong> merged by <strong><a href=\"https://github.com/vidartf\">@vidartf</a></strong></li>\n<li><a href=\"https://github.com/jupyter-widgets/ipywidgets/pull/3013\">(#3013)</a>: <em>add alt text so images aren't duplicated in html</em> by <strong><a href=\"https://github.com/ianhi\">@ianhi</a></strong> merged by <strong><a href=\"https://github.com/vidartf\">@vidartf</a></strong></li>\n<li><a href=\"https://github.com/jupyter-widgets/ipywidgets/pull/3008\">(#3008)</a>: <em>Add jupyterlab_widgets dependency</em> by <strong><a href=\"https://github.com/martinRenou\">@martinRenou</a></strong> merged by <strong><a href=\"https://github.com/jasongrout\">@jasongrout</a></strong></li>\n</ul>"
      }
     },
     "cd55346054c14a419d9d6d9441b04704": {
      "model_module": "@jupyter-widgets/controls",
      "model_module_version": "1.5.0",
      "model_name": "HTMLModel",
      "state": {
       "_dom_classes": [],
       "_model_module": "@jupyter-widgets/controls",
       "_model_module_version": "1.5.0",
       "_model_name": "HTMLModel",
       "_view_count": null,
       "_view_module": "@jupyter-widgets/controls",
       "_view_module_version": "1.5.0",
       "_view_name": "HTMLView",
       "description": "",
       "description_tooltip": null,
       "layout": "IPY_MODEL_7387f34d097c4df8b0cebfa0f93fa21d",
       "placeholder": "​",
       "style": "IPY_MODEL_82793edee96d4a7b8a9007a1ef7647dd",
       "value": "<h5><a href=\"https://github.com/jupyter-widgets/tutorial\">jupyter-widgets/tutorial</a></h5>\n<ul>\n<li><a href=\"https://github.com/jupyter-widgets/tutorial/issues/118\">(#118)</a>: <em>Extensions build error</em> by <strong><a href=\"https://github.com/matt1hong\">@matt1hong</a></strong></li>\n</ul>"
      }
     },
     "cffd559888a84a7397431cb9ca9769b6": {
      "model_module": "@jupyter-widgets/controls",
      "model_module_version": "1.5.0",
      "model_name": "HTMLModel",
      "state": {
       "_dom_classes": [],
       "_model_module": "@jupyter-widgets/controls",
       "_model_module_version": "1.5.0",
       "_model_name": "HTMLModel",
       "_view_count": null,
       "_view_module": "@jupyter-widgets/controls",
       "_view_module_version": "1.5.0",
       "_view_name": "HTMLView",
       "description": "",
       "description_tooltip": null,
       "layout": "IPY_MODEL_7dbec17c3c4646dead232b3bf582b57b",
       "placeholder": "​",
       "style": "IPY_MODEL_3d140bb64e3544049db77b20491e7713",
       "value": "<ul>\n<li>(1) Bug: ipyleaflet save via embed_minimal_html fails to plot layers - ipyleaflet - <a href=\"https://github.com/jupyter-widgets/ipyleaflet/issues/761\">#761</a></li>\n<li>(0) failed to install jupyter - ipywidgets - <a href=\"https://github.com/jupyter-widgets/ipywidgets/issues/3071\">#3071</a></li>\n<li>(0) IntSlider and FloatSlider display error when readout=False - ipywidgets - <a href=\"https://github.com/jupyter-widgets/ipywidgets/issues/3038\">#3038</a></li>\n<li>(0) RadioButtons not respecting layout align_items / align_content - ipywidgets - <a href=\"https://github.com/jupyter-widgets/ipywidgets/issues/3053\">#3053</a></li>\n<li>(0) Plotting error while debouncing ipywidgets IntSlider - ipywidgets - <a href=\"https://github.com/jupyter-widgets/ipywidgets/issues/3052\">#3052</a></li>\n<li>(0) uv not specified generates trait error in Picker - pythreejs - <a href=\"https://github.com/jupyter-widgets/pythreejs/issues/344\">#344</a></li>\n<li>(0) CI Seems Broken - widget-cookiecutter - <a href=\"https://github.com/jupyter-widgets/widget-cookiecutter/issues/78\">#78</a></li>\n<li>(0) Reducing the empty space between slider and readout text - ipywidgets - <a href=\"https://github.com/jupyter-widgets/ipywidgets/issues/3042\">#3042</a></li>\n<li>(0) Passing a dataframe as an argument through interact - ipywidgets - <a href=\"https://github.com/jupyter-widgets/ipywidgets/issues/3041\">#3041</a></li>\n<li>(0) Question: How to wait (in a blocking way) for messages from widget frontend? - ipywidgets - <a href=\"https://github.com/jupyter-widgets/ipywidgets/issues/3039\">#3039</a></li>\n<li>(0) Bug reading my video - ipywidgets - <a href=\"https://github.com/jupyter-widgets/ipywidgets/issues/3036\">#3036</a></li>\n<li>(0) JupyterLab 3.x \"Model not found\" error - pythreejs - <a href=\"https://github.com/jupyter-widgets/pythreejs/issues/345\">#345</a></li>\n<li>(0) Question about velocity - ipyleaflet - <a href=\"https://github.com/jupyter-widgets/ipyleaflet/issues/762\">#762</a></li>\n<li>(0) multiline options for RadioButtons do not display properly? - ipywidgets - <a href=\"https://github.com/jupyter-widgets/ipywidgets/issues/3032\">#3032</a></li>\n<li>(0) Dowloading/exporting ipyleaflet map from a Jupyterhub notebook - ipyleaflet - <a href=\"https://github.com/jupyter-widgets/ipyleaflet/issues/759\">#759</a></li>\n<li>(0) HowTo: Right-justify Text/Content in a Gridbox - ipywidgets - <a href=\"https://github.com/jupyter-widgets/ipywidgets/issues/3029\">#3029</a></li>\n<li>(0) [GeoJSON] ipyleaflet reads QGIS GeoJSON coordinates in reverse  - ipyleaflet - <a href=\"https://github.com/jupyter-widgets/ipyleaflet/issues/758\">#758</a></li>\n<li>(0) Include map widget from Jupyter notebook \"Download as\"-&gt; \"HTML\" export - ipyleaflet - <a href=\"https://github.com/jupyter-widgets/ipyleaflet/issues/757\">#757</a></li>\n<li>(0) Question: Ideal way to return data from frontend in ipyWidget - ipywidgets - <a href=\"https://github.com/jupyter-widgets/ipywidgets/issues/3027\">#3027</a></li>\n<li>(0) ipyleaflet v0.13.4 import error on Windows 10  - ipyleaflet - <a href=\"https://github.com/jupyter-widgets/ipyleaflet/issues/769\">#769</a></li>\n<li>(0) jupyter-threejs/extension possibly incompatible - pythreejs - <a href=\"https://github.com/jupyter-widgets/pythreejs/issues/346\">#346</a></li>\n<li>(0) How to save the output interactive plot in HTML plot - ipywidgets - <a href=\"https://github.com/jupyter-widgets/ipywidgets/issues/3070\">#3070</a></li>\n<li>(0) Issue with processPhosphorMessage method removal - ipyleaflet - <a href=\"https://github.com/jupyter-widgets/ipyleaflet/issues/773\">#773</a></li>\n<li>(0) Upgrade the packages in template  - widget-ts-cookiecutter - <a href=\"https://github.com/jupyter-widgets/widget-ts-cookiecutter/issues/87\">#87</a></li>\n<li>(0) Show data in ImageOverlay from memory? - ipyleaflet - <a href=\"https://github.com/jupyter-widgets/ipyleaflet/issues/782\">#782</a></li>\n</ul>"
      }
     },
     "d0d58b44d8274af4995c7c30013ddf8b": {
      "model_module": "@jupyter-widgets/base",
      "model_module_version": "1.2.0",
      "model_name": "LayoutModel",
      "state": {
       "_model_module": "@jupyter-widgets/base",
       "_model_module_version": "1.2.0",
       "_model_name": "LayoutModel",
       "_view_count": null,
       "_view_module": "@jupyter-widgets/base",
       "_view_module_version": "1.2.0",
       "_view_name": "LayoutView",
       "align_content": null,
       "align_items": null,
       "align_self": null,
       "border": null,
       "bottom": null,
       "display": null,
       "flex": null,
       "flex_flow": null,
       "grid_area": null,
       "grid_auto_columns": null,
       "grid_auto_flow": null,
       "grid_auto_rows": null,
       "grid_column": null,
       "grid_gap": null,
       "grid_row": null,
       "grid_template_areas": null,
       "grid_template_columns": null,
       "grid_template_rows": null,
       "height": null,
       "justify_content": null,
       "justify_items": null,
       "left": null,
       "margin": null,
       "max_height": null,
       "max_width": null,
       "min_height": null,
       "min_width": null,
       "object_fit": null,
       "object_position": null,
       "order": null,
       "overflow": null,
       "overflow_x": null,
       "overflow_y": null,
       "padding": null,
       "right": null,
       "top": null,
       "visibility": null,
       "width": null
      }
     },
     "d935409e516842d98e536238a7569520": {
      "model_module": "@jupyter-widgets/base",
      "model_module_version": "1.2.0",
      "model_name": "LayoutModel",
      "state": {
       "_model_module": "@jupyter-widgets/base",
       "_model_module_version": "1.2.0",
       "_model_name": "LayoutModel",
       "_view_count": null,
       "_view_module": "@jupyter-widgets/base",
       "_view_module_version": "1.2.0",
       "_view_name": "LayoutView",
       "align_content": null,
       "align_items": null,
       "align_self": null,
       "border": null,
       "bottom": null,
       "display": null,
       "flex": null,
       "flex_flow": null,
       "grid_area": null,
       "grid_auto_columns": null,
       "grid_auto_flow": null,
       "grid_auto_rows": null,
       "grid_column": null,
       "grid_gap": null,
       "grid_row": null,
       "grid_template_areas": null,
       "grid_template_columns": null,
       "grid_template_rows": null,
       "height": null,
       "justify_content": null,
       "justify_items": null,
       "left": null,
       "margin": null,
       "max_height": null,
       "max_width": null,
       "min_height": null,
       "min_width": null,
       "object_fit": null,
       "object_position": null,
       "order": null,
       "overflow": null,
       "overflow_x": null,
       "overflow_y": null,
       "padding": null,
       "right": null,
       "top": null,
       "visibility": null,
       "width": null
      }
     },
     "db94e364b48141ffbec77473cb6308dc": {
      "model_module": "@jupyter-widgets/controls",
      "model_module_version": "1.5.0",
      "model_name": "HTMLModel",
      "state": {
       "_dom_classes": [],
       "_model_module": "@jupyter-widgets/controls",
       "_model_module_version": "1.5.0",
       "_model_name": "HTMLModel",
       "_view_count": null,
       "_view_module": "@jupyter-widgets/controls",
       "_view_module_version": "1.5.0",
       "_view_name": "HTMLView",
       "description": "",
       "description_tooltip": null,
       "layout": "IPY_MODEL_04f1c5f6ba1749d49563f9d8a591423a",
       "placeholder": "​",
       "style": "IPY_MODEL_fe498f09820d47ebab326148f279bc60",
       "value": "<h5><a href=\"https://github.com/jupyter-widgets/ipywidgets\">jupyter-widgets/ipywidgets</a></h5>\n<ul>\n<li><a href=\"https://github.com/jupyter-widgets/ipywidgets/issues/3048\">(#3048)</a>: <em>7.6.0 release notes</em> by <strong><a href=\"https://github.com/jasongrout\">@jasongrout</a></strong></li>\n<li><a href=\"https://github.com/jupyter-widgets/ipywidgets/issues/3055\">(#3055)</a>: <em>How to get the width of output cell of Jupyter notebook?</em> by <strong><a href=\"https://github.com/anant-k-singh\">@anant-k-singh</a></strong></li>\n<li><a href=\"https://github.com/jupyter-widgets/ipywidgets/issues/3037\">(#3037)</a>: <em>jupyterlab-manager: allow CORS?</em> by <strong><a href=\"https://github.com/jeanmonet\">@jeanmonet</a></strong></li>\n<li><a href=\"https://github.com/jupyter-widgets/ipywidgets/issues/2413\">(#2413)</a>: <em>Add <code>titles</code> as a <strong>init</strong> trait</em> by <strong><a href=\"https://github.com/beasteers\">@beasteers</a></strong></li>\n<li><a href=\"https://github.com/jupyter-widgets/ipywidgets/issues/3069\">(#3069)</a>: <em>Question on contributing</em> by <strong><a href=\"https://github.com/CatChenal\">@CatChenal</a></strong></li>\n</ul>"
      }
     },
     "debb05f8b97a4269ba7445006e596c64": {
      "model_module": "@jupyter-widgets/controls",
      "model_module_version": "1.5.0",
      "model_name": "HTMLModel",
      "state": {
       "_dom_classes": [],
       "_model_module": "@jupyter-widgets/controls",
       "_model_module_version": "1.5.0",
       "_model_name": "HTMLModel",
       "_view_count": null,
       "_view_module": "@jupyter-widgets/controls",
       "_view_module_version": "1.5.0",
       "_view_name": "HTMLView",
       "description": "",
       "description_tooltip": null,
       "layout": "IPY_MODEL_ef4d584ec8514c738dbd67fccaaf74e5",
       "placeholder": "​",
       "style": "IPY_MODEL_82809c3c9ebd4982a448dbed3c228725",
       "value": "<h5><a href=\"https://github.com/jupyter-widgets/ipyleaflet\">jupyter-widgets/ipyleaflet</a></h5>\n<ul>\n<li><a href=\"https://github.com/jupyter-widgets/ipyleaflet/issues/779\">(#779)</a>: <em>OSError: Could not find library geos_c or load any of its variants ['/Library/Frameworks/GEOS.framework/Versions/Current/GEOS', '/opt/local/lib/libgeos_c.dylib']</em> by <strong><a href=\"https://github.com/AK-1996\">@AK-1996</a></strong></li>\n<li><a href=\"https://github.com/jupyter-widgets/ipyleaflet/issues/767\">(#767)</a>: <em>LocalTileLayer, Jupyter notebook and Voila</em> by <strong><a href=\"https://github.com/jifcon\">@jifcon</a></strong></li>\n<li><a href=\"https://github.com/jupyter-widgets/ipyleaflet/issues/764\">(#764)</a>: <em>Creating a widget similar to the LayerControl button</em> by <strong><a href=\"https://github.com/giswqs\">@giswqs</a></strong></li>\n<li><a href=\"https://github.com/jupyter-widgets/ipyleaflet/issues/758\">(#758)</a>: _[GeoJSON] ipyleaflet reads QGIS GeoJSON coordinates in reverse _ by <strong><a href=\"https://github.com/ItaloCunhaBueno\">@ItaloCunhaBueno</a></strong></li>\n<li><a href=\"https://github.com/jupyter-widgets/ipyleaflet/issues/765\">(#765)</a>: <em>Unexpected position change to the LayersControl after adding new layers</em> by <strong><a href=\"https://github.com/giswqs\">@giswqs</a></strong></li>\n</ul>"
      }
     },
     "df90f61702c54ff7837921bbbd22baf9": {
      "model_module": "@jupyter-widgets/controls",
      "model_module_version": "1.5.0",
      "model_name": "HTMLModel",
      "state": {
       "_dom_classes": [],
       "_model_module": "@jupyter-widgets/controls",
       "_model_module_version": "1.5.0",
       "_model_name": "HTMLModel",
       "_view_count": null,
       "_view_module": "@jupyter-widgets/controls",
       "_view_module_version": "1.5.0",
       "_view_name": "HTMLView",
       "description": "",
       "description_tooltip": null,
       "layout": "IPY_MODEL_d935409e516842d98e536238a7569520",
       "placeholder": "​",
       "style": "IPY_MODEL_b0a272ab31f948f38c2b8b3841ed8deb",
       "value": "<h4>Closed PRs for repo: <a href=\"https://github.com/jupyter-widgets/ipyleaflet\">jupyter-widgets/ipyleaflet</a></h4>\n<h5></h5>\n<ul>\n<li><a href=\"https://github.com/jupyter-widgets/ipyleaflet/pull/781\">(#781)</a>: <em>Pin ipyleaflet=0.13.6</em> by <strong><a href=\"https://github.com/davidbrochart\">@davidbrochart</a></strong> merged by <strong><a href=\"https://github.com/davidbrochart\">@davidbrochart</a></strong></li>\n<li><a href=\"https://github.com/jupyter-widgets/ipyleaflet/pull/777\">(#777)</a>: <em>Use yarn and fix JupyterLab 2 support</em> by <strong><a href=\"https://github.com/martinRenou\">@martinRenou</a></strong> merged by <strong><a href=\"https://github.com/martinRenou\">@martinRenou</a></strong></li>\n<li><a href=\"https://github.com/jupyter-widgets/ipyleaflet/pull/772\">(#772)</a>: <em>Fix publicPath issue</em> by <strong><a href=\"https://github.com/martinRenou\">@martinRenou</a></strong> merged by <strong><a href=\"https://github.com/martinRenou\">@martinRenou</a></strong></li>\n<li><a href=\"https://github.com/jupyter-widgets/ipyleaflet/pull/771\">(#771)</a>: <em>Fix imports</em> by <strong><a href=\"https://github.com/martinRenou\">@martinRenou</a></strong> merged by <strong><a href=\"https://github.com/martinRenou\">@martinRenou</a></strong></li>\n<li><a href=\"https://github.com/jupyter-widgets/ipyleaflet/pull/756\">(#756)</a>: <em>Bump dot-prop from 4.2.0 to 4.2.1 in /js</em> by <strong><a href=\"https://github.com/dependabot\">@dependabot</a></strong> merged by <strong><a href=\"https://github.com/davidbrochart\">@davidbrochart</a></strong></li>\n<li><a href=\"https://github.com/jupyter-widgets/ipyleaflet/pull/755\">(#755)</a>: <em>Fix WMS layer options</em> by <strong><a href=\"https://github.com/davidbrochart\">@davidbrochart</a></strong> merged by <strong><a href=\"https://github.com/davidbrochart\">@davidbrochart</a></strong></li>\n<li><a href=\"https://github.com/jupyter-widgets/ipyleaflet/pull/734\">(#734)</a>: <em>Update LeafletJS</em> by <strong><a href=\"https://github.com/martinRenou\">@martinRenou</a></strong> merged by <strong><a href=\"https://github.com/davidbrochart\">@davidbrochart</a></strong></li>\n<li><a href=\"https://github.com/jupyter-widgets/ipyleaflet/pull/714\">(#714)</a>: <em>JupyterLab 3 update</em> by <strong><a href=\"https://github.com/martinRenou\">@martinRenou</a></strong> merged by <strong><a href=\"https://github.com/martinRenou\">@martinRenou</a></strong></li>\n</ul>"
      }
     },
     "e05cd8420ed4439e97dc5b56e49aa4bf": {
      "model_module": "@jupyter-widgets/controls",
      "model_module_version": "1.5.0",
      "model_name": "HTMLModel",
      "state": {
       "_dom_classes": [],
       "_model_module": "@jupyter-widgets/controls",
       "_model_module_version": "1.5.0",
       "_model_name": "HTMLModel",
       "_view_count": null,
       "_view_module": "@jupyter-widgets/controls",
       "_view_module_version": "1.5.0",
       "_view_name": "HTMLView",
       "description": "",
       "description_tooltip": null,
       "layout": "IPY_MODEL_d0d58b44d8274af4995c7c30013ddf8b",
       "placeholder": "​",
       "style": "IPY_MODEL_5f83dfd08ec14c509f1d5f7339776189",
       "value": "<h5><a href=\"https://github.com/jupyter-widgets/pythreejs\">jupyter-widgets/pythreejs</a></h5>\n<ul>\n<li><a href=\"https://github.com/jupyter-widgets/pythreejs/issues/347\">(#347)</a>: <em>Trying to build a Sphere with Earth texture: How to use an HTML canvas as an image texture ?</em> by <strong><a href=\"https://github.com/MordicusEtCubitus\">@MordicusEtCubitus</a></strong></li>\n<li><a href=\"https://github.com/jupyter-widgets/pythreejs/issues/346\">(#346)</a>: <em>jupyter-threejs/extension possibly incompatible</em> by <strong><a href=\"https://github.com/maiermic\">@maiermic</a></strong></li>\n<li><a href=\"https://github.com/jupyter-widgets/pythreejs/issues/345\">(#345)</a>: <em>JupyterLab 3.x \"Model not found\" error</em> by <strong><a href=\"https://github.com/FuriouslyCurious\">@FuriouslyCurious</a></strong></li>\n<li><a href=\"https://github.com/jupyter-widgets/pythreejs/issues/344\">(#344)</a>: <em>uv not specified generates trait error in Picker</em> by <strong><a href=\"https://github.com/R7President\">@R7President</a></strong></li>\n</ul>"
      }
     },
     "e0b384de87b94924a83a77b02642bd47": {
      "model_module": "@jupyter-widgets/controls",
      "model_module_version": "1.5.0",
      "model_name": "DescriptionStyleModel",
      "state": {
       "_model_module": "@jupyter-widgets/controls",
       "_model_module_version": "1.5.0",
       "_model_name": "DescriptionStyleModel",
       "_view_count": null,
       "_view_module": "@jupyter-widgets/base",
       "_view_module_version": "1.2.0",
       "_view_name": "StyleView",
       "description_width": ""
      }
     },
     "e7b82886a5b74f3289402fbc93ad51f6": {
      "model_module": "@jupyter-widgets/controls",
      "model_module_version": "1.5.0",
      "model_name": "DescriptionStyleModel",
      "state": {
       "_model_module": "@jupyter-widgets/controls",
       "_model_module_version": "1.5.0",
       "_model_name": "DescriptionStyleModel",
       "_view_count": null,
       "_view_module": "@jupyter-widgets/base",
       "_view_module_version": "1.2.0",
       "_view_name": "StyleView",
       "description_width": ""
      }
     },
     "e9440faf24c54ff98f4494325bec7f3b": {
      "model_module": "@jupyter-widgets/controls",
      "model_module_version": "1.5.0",
      "model_name": "DescriptionStyleModel",
      "state": {
       "_model_module": "@jupyter-widgets/controls",
       "_model_module_version": "1.5.0",
       "_model_name": "DescriptionStyleModel",
       "_view_count": null,
       "_view_module": "@jupyter-widgets/base",
       "_view_module_version": "1.2.0",
       "_view_name": "StyleView",
       "description_width": ""
      }
     },
     "ef346cfccb9f4a8f8b9f11c7bfaf31a5": {
      "model_module": "@jupyter-widgets/controls",
      "model_module_version": "1.5.0",
      "model_name": "DescriptionStyleModel",
      "state": {
       "_model_module": "@jupyter-widgets/controls",
       "_model_module_version": "1.5.0",
       "_model_name": "DescriptionStyleModel",
       "_view_count": null,
       "_view_module": "@jupyter-widgets/base",
       "_view_module_version": "1.2.0",
       "_view_name": "StyleView",
       "description_width": ""
      }
     },
     "ef4d584ec8514c738dbd67fccaaf74e5": {
      "model_module": "@jupyter-widgets/base",
      "model_module_version": "1.2.0",
      "model_name": "LayoutModel",
      "state": {
       "_model_module": "@jupyter-widgets/base",
       "_model_module_version": "1.2.0",
       "_model_name": "LayoutModel",
       "_view_count": null,
       "_view_module": "@jupyter-widgets/base",
       "_view_module_version": "1.2.0",
       "_view_name": "LayoutView",
       "align_content": null,
       "align_items": null,
       "align_self": null,
       "border": null,
       "bottom": null,
       "display": null,
       "flex": null,
       "flex_flow": null,
       "grid_area": null,
       "grid_auto_columns": null,
       "grid_auto_flow": null,
       "grid_auto_rows": null,
       "grid_column": null,
       "grid_gap": null,
       "grid_row": null,
       "grid_template_areas": null,
       "grid_template_columns": null,
       "grid_template_rows": null,
       "height": null,
       "justify_content": null,
       "justify_items": null,
       "left": null,
       "margin": null,
       "max_height": null,
       "max_width": null,
       "min_height": null,
       "min_width": null,
       "object_fit": null,
       "object_position": null,
       "order": null,
       "overflow": null,
       "overflow_x": null,
       "overflow_y": null,
       "padding": null,
       "right": null,
       "top": null,
       "visibility": null,
       "width": null
      }
     },
     "ef756e5caaac4dbda691212847fd0471": {
      "model_module": "@jupyter-widgets/controls",
      "model_module_version": "1.5.0",
      "model_name": "HTMLModel",
      "state": {
       "_dom_classes": [],
       "_model_module": "@jupyter-widgets/controls",
       "_model_module_version": "1.5.0",
       "_model_name": "HTMLModel",
       "_view_count": null,
       "_view_module": "@jupyter-widgets/controls",
       "_view_module_version": "1.5.0",
       "_view_name": "HTMLView",
       "description": "",
       "description_tooltip": null,
       "layout": "IPY_MODEL_6a393477aa7a4e51b61966c46e17a6eb",
       "placeholder": "​",
       "style": "IPY_MODEL_e0b384de87b94924a83a77b02642bd47",
       "value": "<h5><a href=\"https://github.com/jupyter-widgets/ipywidgets\">jupyter-widgets/ipywidgets</a></h5>\n<ul>\n<li><a href=\"https://github.com/jupyter-widgets/ipywidgets/issues/3048\">(#3048)</a>: <em>7.6.0 release notes</em> by <strong><a href=\"https://github.com/jasongrout\">@jasongrout</a></strong></li>\n<li><a href=\"https://github.com/jupyter-widgets/ipywidgets/issues/3055\">(#3055)</a>: <em>How to get the width of output cell of Jupyter notebook?</em> by <strong><a href=\"https://github.com/anant-k-singh\">@anant-k-singh</a></strong></li>\n<li><a href=\"https://github.com/jupyter-widgets/ipywidgets/issues/3037\">(#3037)</a>: <em>jupyterlab-manager: allow CORS?</em> by <strong><a href=\"https://github.com/jeanmonet\">@jeanmonet</a></strong></li>\n<li><a href=\"https://github.com/jupyter-widgets/ipywidgets/issues/2413\">(#2413)</a>: <em>Add <code>titles</code> as a <strong>init</strong> trait</em> by <strong><a href=\"https://github.com/beasteers\">@beasteers</a></strong></li>\n<li><a href=\"https://github.com/jupyter-widgets/ipywidgets/issues/3069\">(#3069)</a>: <em>Question on contributing</em> by <strong><a href=\"https://github.com/CatChenal\">@CatChenal</a></strong></li>\n</ul>"
      }
     },
     "f9ab1ceb24c647d193b044a215fed80c": {
      "model_module": "@jupyter-widgets/controls",
      "model_module_version": "1.5.0",
      "model_name": "HTMLModel",
      "state": {
       "_dom_classes": [],
       "_model_module": "@jupyter-widgets/controls",
       "_model_module_version": "1.5.0",
       "_model_name": "HTMLModel",
       "_view_count": null,
       "_view_module": "@jupyter-widgets/controls",
       "_view_module_version": "1.5.0",
       "_view_name": "HTMLView",
       "description": "",
       "description_tooltip": null,
       "layout": "IPY_MODEL_fe102b78f9ec4f0a9815b0e92d3058b6",
       "placeholder": "​",
       "style": "IPY_MODEL_2fe41d8c0df24668825f03e6d492c904",
       "value": "<h5><a href=\"https://github.com/jupyter-widgets/widget-cookiecutter\">jupyter-widgets/widget-cookiecutter</a></h5>\n<ul>\n<li><a href=\"https://github.com/jupyter-widgets/widget-cookiecutter/issues/82\">(#82)</a>: <em>\"Not registered as widget module\" error in JupyterLab</em> by <strong><a href=\"https://github.com/rmorshea\">@rmorshea</a></strong></li>\n<li><a href=\"https://github.com/jupyter-widgets/widget-cookiecutter/issues/83\">(#83)</a>: <em>Support for JLab 3.x ?</em> by <strong><a href=\"https://github.com/dou-du\">@dou-du</a></strong></li>\n<li><a href=\"https://github.com/jupyter-widgets/widget-cookiecutter/issues/79\">(#79)</a>: <em>Support for Jupyter Lab 3</em> by <strong><a href=\"https://github.com/amirebrahimi\">@amirebrahimi</a></strong></li>\n</ul>"
      }
     },
     "fd898027c3334372886d1f8af5d9c76a": {
      "model_module": "@jupyter-widgets/controls",
      "model_module_version": "1.5.0",
      "model_name": "HTMLModel",
      "state": {
       "_dom_classes": [],
       "_model_module": "@jupyter-widgets/controls",
       "_model_module_version": "1.5.0",
       "_model_name": "HTMLModel",
       "_view_count": null,
       "_view_module": "@jupyter-widgets/controls",
       "_view_module_version": "1.5.0",
       "_view_name": "HTMLView",
       "description": "",
       "description_tooltip": null,
       "layout": "IPY_MODEL_a44f8db053124221bfb29333aef015f2",
       "placeholder": "​",
       "style": "IPY_MODEL_8602b1fbd2ec4d938cf1b8c893cf2abc",
       "value": "<h5><a href=\"https://github.com/jupyter-widgets/tutorial\">jupyter-widgets/tutorial</a></h5>\n<ul>\n<li><a href=\"https://github.com/jupyter-widgets/tutorial/issues/118\">(#118)</a>: <em>Extensions build error</em> by <strong><a href=\"https://github.com/matt1hong\">@matt1hong</a></strong></li>\n</ul>"
      }
     },
     "fe102b78f9ec4f0a9815b0e92d3058b6": {
      "model_module": "@jupyter-widgets/base",
      "model_module_version": "1.2.0",
      "model_name": "LayoutModel",
      "state": {
       "_model_module": "@jupyter-widgets/base",
       "_model_module_version": "1.2.0",
       "_model_name": "LayoutModel",
       "_view_count": null,
       "_view_module": "@jupyter-widgets/base",
       "_view_module_version": "1.2.0",
       "_view_name": "LayoutView",
       "align_content": null,
       "align_items": null,
       "align_self": null,
       "border": null,
       "bottom": null,
       "display": null,
       "flex": null,
       "flex_flow": null,
       "grid_area": null,
       "grid_auto_columns": null,
       "grid_auto_flow": null,
       "grid_auto_rows": null,
       "grid_column": null,
       "grid_gap": null,
       "grid_row": null,
       "grid_template_areas": null,
       "grid_template_columns": null,
       "grid_template_rows": null,
       "height": null,
       "justify_content": null,
       "justify_items": null,
       "left": null,
       "margin": null,
       "max_height": null,
       "max_width": null,
       "min_height": null,
       "min_width": null,
       "object_fit": null,
       "object_position": null,
       "order": null,
       "overflow": null,
       "overflow_x": null,
       "overflow_y": null,
       "padding": null,
       "right": null,
       "top": null,
       "visibility": null,
       "width": null
      }
     },
     "fe498f09820d47ebab326148f279bc60": {
      "model_module": "@jupyter-widgets/controls",
      "model_module_version": "1.5.0",
      "model_name": "DescriptionStyleModel",
      "state": {
       "_model_module": "@jupyter-widgets/controls",
       "_model_module_version": "1.5.0",
       "_model_name": "DescriptionStyleModel",
       "_view_count": null,
       "_view_module": "@jupyter-widgets/base",
       "_view_module_version": "1.2.0",
       "_view_name": "StyleView",
       "description_width": ""
      }
     },
     "feadada8b7db4930b420169195b95ede": {
      "model_module": "@jupyter-widgets/controls",
      "model_module_version": "1.5.0",
      "model_name": "FloatProgressModel",
      "state": {
       "_dom_classes": [],
       "_model_module": "@jupyter-widgets/controls",
       "_model_module_version": "1.5.0",
       "_model_name": "FloatProgressModel",
       "_view_count": null,
       "_view_module": "@jupyter-widgets/controls",
       "_view_module_version": "1.5.0",
       "_view_name": "ProgressView",
       "bar_style": "",
       "description": "",
       "description_tooltip": null,
       "layout": "IPY_MODEL_59d2e2d944fd48e7a91d40929b2b5eff",
       "max": 73.0,
       "min": 0.0,
       "orientation": "horizontal",
       "style": "IPY_MODEL_9a805c221cbe47ab9bf1b29201302e2a",
       "value": 73.0
      }
     }
    },
    "version_major": 2,
    "version_minor": 0
   }
  }
 },
 "nbformat": 4,
 "nbformat_minor": 5
}