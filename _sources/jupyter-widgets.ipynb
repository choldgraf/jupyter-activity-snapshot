{
 "cells": [
  {
   "cell_type": "markdown",
   "id": "further-titanium",
   "metadata": {
    "papermill": {
     "duration": 0.035368,
     "end_time": "2021-02-16T01:39:04.156578",
     "exception": false,
     "start_time": "2021-02-16T01:39:04.121210",
     "status": "completed"
    },
    "tags": []
   },
   "source": [
    "# {glue:text}`jupyter-widgets_github_org`\n",
    "\n",
    "**Activity from {glue:}`jupyter-widgets_start` to {glue:}`jupyter-widgets_stop`**"
   ]
  },
  {
   "cell_type": "code",
   "execution_count": 1,
   "id": "cheap-botswana",
   "metadata": {
    "execution": {
     "iopub.execute_input": "2021-02-16T01:39:04.235247Z",
     "iopub.status.busy": "2021-02-16T01:39:04.234526Z",
     "iopub.status.idle": "2021-02-16T01:39:05.639798Z",
     "shell.execute_reply": "2021-02-16T01:39:05.639214Z"
    },
    "papermill": {
     "duration": 1.447527,
     "end_time": "2021-02-16T01:39:05.639976",
     "exception": false,
     "start_time": "2021-02-16T01:39:04.192449",
     "status": "completed"
    },
    "tags": [
     "remove_cell"
    ]
   },
   "outputs": [],
   "source": [
    "import github_activity as ga\n",
    "from datetime import date\n",
    "from dateutil.relativedelta import relativedelta\n",
    "from myst_nb import glue\n",
    "import seaborn as sns\n",
    "import pandas as pd\n",
    "import numpy as np\n",
    "import altair as alt\n",
    "from markdown import markdown\n",
    "from IPython.display import Markdown\n",
    "from ipywidgets.widgets import HTML, Tab\n",
    "from ipywidgets import widgets\n",
    "from datetime import timedelta\n",
    "from matplotlib import pyplot as plt\n",
    "import os.path as op\n",
    "\n",
    "from warnings import simplefilter\n",
    "simplefilter('ignore')"
   ]
  },
  {
   "cell_type": "code",
   "execution_count": 2,
   "id": "governing-wilson",
   "metadata": {
    "execution": {
     "iopub.execute_input": "2021-02-16T01:39:05.757533Z",
     "iopub.status.busy": "2021-02-16T01:39:05.756946Z",
     "iopub.status.idle": "2021-02-16T01:39:05.758909Z",
     "shell.execute_reply": "2021-02-16T01:39:05.759404Z"
    },
    "papermill": {
     "duration": 0.082304,
     "end_time": "2021-02-16T01:39:05.759546",
     "exception": false,
     "start_time": "2021-02-16T01:39:05.677242",
     "status": "completed"
    },
    "tags": [
     "remove_cell"
    ]
   },
   "outputs": [],
   "source": [
    "# Altair config\n",
    "def author_url(author):\n",
    "    return f\"https://github.com/{author}\"\n",
    "\n",
    "def alt_theme():\n",
    "    return {\n",
    "        'config': {\n",
    "            'axisLeft': {\n",
    "                'labelFontSize': 15,\n",
    "            },\n",
    "            'axisBottom': {\n",
    "                'labelFontSize': 15,\n",
    "            },\n",
    "        }\n",
    "    }\n",
    "\n",
    "alt.themes.register('my_theme', alt_theme)\n",
    "alt.themes.enable(\"my_theme\")\n",
    "\n",
    "\n",
    "# Define colors we'll use for GitHub membership\n",
    "author_types = ['MEMBER', 'CONTRIBUTOR', 'COLLABORATOR', \"NONE\"]\n",
    "\n",
    "author_palette = np.array(sns.palettes.blend_palette([\"lightgrey\", \"lightgreen\", \"darkgreen\"], 4)) * 256\n",
    "author_colors = [\"rgb({}, {}, {})\".format(*color) for color in author_palette]\n",
    "author_color_dict = {key: val for key, val in zip(author_types, author_palette)}"
   ]
  },
  {
   "cell_type": "code",
   "execution_count": 3,
   "id": "designing-jenny",
   "metadata": {
    "execution": {
     "iopub.execute_input": "2021-02-16T01:39:05.832487Z",
     "iopub.status.busy": "2021-02-16T01:39:05.831943Z",
     "iopub.status.idle": "2021-02-16T01:39:05.834151Z",
     "shell.execute_reply": "2021-02-16T01:39:05.833711Z"
    },
    "papermill": {
     "duration": 0.040979,
     "end_time": "2021-02-16T01:39:05.834270",
     "exception": false,
     "start_time": "2021-02-16T01:39:05.793291",
     "status": "completed"
    },
    "tags": [
     "parameters",
     "hide_input",
     "remove_cell"
    ]
   },
   "outputs": [],
   "source": [
    "github_org = \"jupyterhub\"\n",
    "top_n_repos = 15\n",
    "n_days = 10"
   ]
  },
  {
   "cell_type": "code",
   "execution_count": 4,
   "id": "czech-power",
   "metadata": {
    "execution": {
     "iopub.execute_input": "2021-02-16T01:39:05.905927Z",
     "iopub.status.busy": "2021-02-16T01:39:05.905343Z",
     "iopub.status.idle": "2021-02-16T01:39:05.907895Z",
     "shell.execute_reply": "2021-02-16T01:39:05.907439Z"
    },
    "papermill": {
     "duration": 0.03946,
     "end_time": "2021-02-16T01:39:05.908023",
     "exception": false,
     "start_time": "2021-02-16T01:39:05.868563",
     "status": "completed"
    },
    "tags": [
     "injected-parameters",
     "remove-cell"
    ]
   },
   "outputs": [],
   "source": [
    "# Parameters\n",
    "github_org = \"jupyter-widgets\"\n",
    "n_days = 60\n"
   ]
  },
  {
   "cell_type": "code",
   "execution_count": 5,
   "id": "proof-exploration",
   "metadata": {
    "execution": {
     "iopub.execute_input": "2021-02-16T01:39:05.985233Z",
     "iopub.status.busy": "2021-02-16T01:39:05.984640Z",
     "iopub.status.idle": "2021-02-16T01:39:05.990322Z",
     "shell.execute_reply": "2021-02-16T01:39:05.989797Z"
    },
    "papermill": {
     "duration": 0.047021,
     "end_time": "2021-02-16T01:39:05.990498",
     "exception": false,
     "start_time": "2021-02-16T01:39:05.943477",
     "status": "completed"
    },
    "tags": [
     "remove_cell"
    ]
   },
   "outputs": [
    {
     "data": {
      "application/papermill.record/text/plain": "'jupyter-widgets'"
     },
     "metadata": {
      "scrapbook": {
       "mime_prefix": "application/papermill.record/",
       "name": "jupyter-widgets_github_org"
      }
     },
     "output_type": "display_data"
    },
    {
     "data": {
      "application/papermill.record/text/plain": "'2020-12-18'"
     },
     "metadata": {
      "scrapbook": {
       "mime_prefix": "application/papermill.record/",
       "name": "jupyter-widgets_start"
      }
     },
     "output_type": "display_data"
    },
    {
     "data": {
      "application/papermill.record/text/plain": "'2021-02-16'"
     },
     "metadata": {
      "scrapbook": {
       "mime_prefix": "application/papermill.record/",
       "name": "jupyter-widgets_stop"
      }
     },
     "output_type": "display_data"
    }
   ],
   "source": [
    "############################################################\n",
    "# Variables\n",
    "stop = date.today()\n",
    "start = date.today() - relativedelta(days=n_days)\n",
    "\n",
    "# Strings for use in queries\n",
    "start_date = f\"{start:%Y-%m-%d}\"\n",
    "stop_date = f\"{stop:%Y-%m-%d}\"\n",
    "\n",
    "# Glue variables for use in markdown\n",
    "glue(f\"{github_org}_github_org\", github_org, display=False)\n",
    "glue(f\"{github_org}_start\", start_date, display=False)\n",
    "glue(f\"{github_org}_stop\", stop_date, display=False)"
   ]
  },
  {
   "cell_type": "code",
   "execution_count": 6,
   "id": "deluxe-bulgaria",
   "metadata": {
    "execution": {
     "iopub.execute_input": "2021-02-16T01:39:06.070476Z",
     "iopub.status.busy": "2021-02-16T01:39:06.069915Z",
     "iopub.status.idle": "2021-02-16T01:39:16.145065Z",
     "shell.execute_reply": "2021-02-16T01:39:16.145526Z"
    },
    "papermill": {
     "duration": 10.1191,
     "end_time": "2021-02-16T01:39:16.145689",
     "exception": false,
     "start_time": "2021-02-16T01:39:06.026589",
     "status": "completed"
    },
    "tags": [
     "remove_cell"
    ]
   },
   "outputs": [
    {
     "name": "stdout",
     "output_type": "stream",
     "text": [
      "Running search query:\n",
      "user:jupyter-widgets\n",
      "\n",
      "\n"
     ]
    },
    {
     "name": "stderr",
     "output_type": "stream",
     "text": [
      "Found 138 items, which will take 3 pages\n"
     ]
    },
    {
     "data": {
      "application/vnd.jupyter.widget-view+json": {
       "model_id": "020a317adc8544f6baa4e045025e7718",
       "version_major": 2,
       "version_minor": 0
      },
      "text/plain": [
       "Downloading::   0%|          | 0/138 [00:00<?, ?issues/s]"
      ]
     },
     "metadata": {},
     "output_type": "display_data"
    },
    {
     "name": "stderr",
     "output_type": "stream",
     "text": [
      "Found 112 items, which will take 3 pages\n"
     ]
    },
    {
     "data": {
      "application/vnd.jupyter.widget-view+json": {
       "model_id": "e3cc9b5e4df64ad284366115304fc69b",
       "version_major": 2,
       "version_minor": 0
      },
      "text/plain": [
       "Downloading::   0%|          | 0/112 [00:00<?, ?issues/s]"
      ]
     },
     "metadata": {},
     "output_type": "display_data"
    }
   ],
   "source": [
    "############################################################\n",
    "# Fetch the raw data and load data we need\n",
    "raw_data = ga.get_activity(github_org, start_date)\n",
    "bot_names = pd.read_csv('../bot_names.csv')['names'].tolist()\n",
    "data = raw_data.copy()\n",
    "\n",
    "# Prepare our data\n",
    "data[\"kind\"] = data[\"url\"].map(lambda a: \"issue\" if \"issues/\" in a else \"pr\")\n",
    "data[\"mergedBy\"] = data[\"mergedBy\"].map(lambda a: a[\"login\"] if not isinstance(a, (float, type(None))) else None)\n",
    "\n",
    "prs = data.query(\"kind == 'pr'\")\n",
    "issues = data.query(\"kind == 'issue'\")\n",
    "\n",
    "# Pull out the comments\n",
    "comments = []\n",
    "for _, irow in data.iterrows():\n",
    "    for icomment in irow['comments']['edges']:\n",
    "        icomment = icomment[\"node\"].copy()\n",
    "        icomment[\"author\"] = icomment[\"author\"][\"login\"] if icomment[\"author\"] else None\n",
    "        icomment[\"org\"] = irow[\"org\"]\n",
    "        icomment[\"repo\"] = irow[\"repo\"]\n",
    "        icomment[\"id\"] = irow[\"id\"]\n",
    "        comments.append(pd.Series(icomment))\n",
    "comments = pd.DataFrame(comments)\n",
    "\n",
    "# Clean up\n",
    "for idata in [prs, comments, issues]:\n",
    "    idata.query(\"author not in @bot_names\", inplace=True)\n",
    "    idata.drop_duplicates(subset=[\"url\"], inplace=True)\n",
    "\n",
    "# What are the top N repos, we will only plot these in the full data plots\n",
    "top_commented_repos = comments.groupby(\"repo\").count().sort_values(\"createdAt\", ascending=False)['createdAt']\n",
    "use_repos = top_commented_repos.head(top_n_repos).index.tolist()"
   ]
  },
  {
   "cell_type": "markdown",
   "id": "wanted-airline",
   "metadata": {
    "papermill": {
     "duration": 0.035177,
     "end_time": "2021-02-16T01:39:16.219993",
     "exception": false,
     "start_time": "2021-02-16T01:39:16.184816",
     "status": "completed"
    },
    "tags": [
     "remove_cell"
    ]
   },
   "source": [
    "## Save the data to disk"
   ]
  },
  {
   "cell_type": "code",
   "execution_count": 7,
   "id": "faced-relationship",
   "metadata": {
    "execution": {
     "iopub.execute_input": "2021-02-16T01:39:16.296151Z",
     "iopub.status.busy": "2021-02-16T01:39:16.295609Z",
     "iopub.status.idle": "2021-02-16T01:39:16.597879Z",
     "shell.execute_reply": "2021-02-16T01:39:16.597410Z"
    },
    "papermill": {
     "duration": 0.343053,
     "end_time": "2021-02-16T01:39:16.598029",
     "exception": false,
     "start_time": "2021-02-16T01:39:16.254976",
     "status": "completed"
    },
    "tags": [
     "remove_cell"
    ]
   },
   "outputs": [],
   "source": [
    "from pathlib import Path\n",
    "for name, idata in [(\"comments\", comments), (\"prs\", prs), (\"issues\", issues)]:\n",
    "    path_data = Path(f\"./{name}.csv\")\n",
    "    if path_data.exists():\n",
    "        idata = pd.read_csv(path_data).append(idata)\n",
    "    idata = idata.drop_duplicates(subset=[\"url\"])\n",
    "    idata.to_csv(path_data, index=None)"
   ]
  },
  {
   "cell_type": "markdown",
   "id": "lovely-perfume",
   "metadata": {
    "papermill": {
     "duration": 0.035948,
     "end_time": "2021-02-16T01:39:16.674109",
     "exception": false,
     "start_time": "2021-02-16T01:39:16.638161",
     "status": "completed"
    },
    "tags": [],
    "toc-hr-collapsed": false
   },
   "source": [
    "## Merged Pull requests\n",
    "\n",
    "Here's an analysis of **merged pull requests** across each of the repositories in the Jupyter\n",
    "ecosystem."
   ]
  },
  {
   "cell_type": "code",
   "execution_count": 8,
   "id": "common-devices",
   "metadata": {
    "execution": {
     "iopub.execute_input": "2021-02-16T01:39:16.755751Z",
     "iopub.status.busy": "2021-02-16T01:39:16.755176Z",
     "iopub.status.idle": "2021-02-16T01:39:16.759162Z",
     "shell.execute_reply": "2021-02-16T01:39:16.758439Z"
    },
    "papermill": {
     "duration": 0.046795,
     "end_time": "2021-02-16T01:39:16.759369",
     "exception": false,
     "start_time": "2021-02-16T01:39:16.712574",
     "status": "completed"
    },
    "tags": [
     "remove_cell"
    ]
   },
   "outputs": [],
   "source": [
    "merged = prs.query('state == \"MERGED\" and closedAt > @start_date and closedAt < @stop_date')"
   ]
  },
  {
   "cell_type": "code",
   "execution_count": 9,
   "id": "czech-swiss",
   "metadata": {
    "execution": {
     "iopub.execute_input": "2021-02-16T01:39:16.853786Z",
     "iopub.status.busy": "2021-02-16T01:39:16.848712Z",
     "iopub.status.idle": "2021-02-16T01:39:16.867017Z",
     "shell.execute_reply": "2021-02-16T01:39:16.867504Z"
    },
    "papermill": {
     "duration": 0.071544,
     "end_time": "2021-02-16T01:39:16.867646",
     "exception": false,
     "start_time": "2021-02-16T01:39:16.796102",
     "status": "completed"
    },
    "tags": [
     "hide_input"
    ]
   },
   "outputs": [
    {
     "data": {
      "text/html": [
       "\n",
       "<div id=\"altair-viz-b361a0a253ba417a96ea6ed78d32fc17\"></div>\n",
       "<script type=\"text/javascript\">\n",
       "  (function(spec, embedOpt){\n",
       "    let outputDiv = document.currentScript.previousElementSibling;\n",
       "    if (outputDiv.id !== \"altair-viz-b361a0a253ba417a96ea6ed78d32fc17\") {\n",
       "      outputDiv = document.getElementById(\"altair-viz-b361a0a253ba417a96ea6ed78d32fc17\");\n",
       "    }\n",
       "    const paths = {\n",
       "      \"vega\": \"https://cdn.jsdelivr.net/npm//vega@5?noext\",\n",
       "      \"vega-lib\": \"https://cdn.jsdelivr.net/npm//vega-lib?noext\",\n",
       "      \"vega-lite\": \"https://cdn.jsdelivr.net/npm//vega-lite@4.8.1?noext\",\n",
       "      \"vega-embed\": \"https://cdn.jsdelivr.net/npm//vega-embed@6?noext\",\n",
       "    };\n",
       "\n",
       "    function loadScript(lib) {\n",
       "      return new Promise(function(resolve, reject) {\n",
       "        var s = document.createElement('script');\n",
       "        s.src = paths[lib];\n",
       "        s.async = true;\n",
       "        s.onload = () => resolve(paths[lib]);\n",
       "        s.onerror = () => reject(`Error loading script: ${paths[lib]}`);\n",
       "        document.getElementsByTagName(\"head\")[0].appendChild(s);\n",
       "      });\n",
       "    }\n",
       "\n",
       "    function showError(err) {\n",
       "      outputDiv.innerHTML = `<div class=\"error\" style=\"color:red;\">${err}</div>`;\n",
       "      throw err;\n",
       "    }\n",
       "\n",
       "    function displayChart(vegaEmbed) {\n",
       "      vegaEmbed(outputDiv, spec, embedOpt)\n",
       "        .catch(err => showError(`Javascript Error: ${err.message}<br>This usually means there's a typo in your chart specification. See the javascript console for the full traceback.`));\n",
       "    }\n",
       "\n",
       "    if(typeof define === \"function\" && define.amd) {\n",
       "      requirejs.config({paths});\n",
       "      require([\"vega-embed\"], displayChart, err => showError(`Error loading script: ${err.message}`));\n",
       "    } else if (typeof vegaEmbed === \"function\") {\n",
       "      displayChart(vegaEmbed);\n",
       "    } else {\n",
       "      loadScript(\"vega\")\n",
       "        .then(() => loadScript(\"vega-lite\"))\n",
       "        .then(() => loadScript(\"vega-embed\"))\n",
       "        .catch(showError)\n",
       "        .then(() => displayChart(vegaEmbed));\n",
       "    }\n",
       "  })({\"config\": {\"axisLeft\": {\"labelFontSize\": 15}, \"axisBottom\": {\"labelFontSize\": 15}}, \"data\": {\"name\": \"data-2b1a53306119de10c87e74c39f865334\"}, \"mark\": \"bar\", \"encoding\": {\"color\": {\"type\": \"nominal\", \"field\": \"org\"}, \"x\": {\"type\": \"nominal\", \"field\": \"repo\", \"sort\": [\"ipywidgets\", \"ipyleaflet\", \"widget-cookiecutter\", \"jupyterlab-sidecar\", \"pythreejs\", \"widget-ts-cookiecutter\"]}, \"y\": {\"type\": \"quantitative\", \"field\": \"author\"}}, \"title\": \"Merged PRs in the last 60 days\", \"$schema\": \"https://vega.github.io/schema/vega-lite/v4.8.1.json\", \"datasets\": {\"data-2b1a53306119de10c87e74c39f865334\": [{\"org\": \"jupyter-widgets\", \"repo\": \"ipywidgets\", \"author\": 28}, {\"org\": \"jupyter-widgets\", \"repo\": \"ipyleaflet\", \"author\": 6}, {\"org\": \"jupyter-widgets\", \"repo\": \"widget-cookiecutter\", \"author\": 4}, {\"org\": \"jupyter-widgets\", \"repo\": \"jupyterlab-sidecar\", \"author\": 1}, {\"org\": \"jupyter-widgets\", \"repo\": \"pythreejs\", \"author\": 1}, {\"org\": \"jupyter-widgets\", \"repo\": \"widget-ts-cookiecutter\", \"author\": 1}]}}, {\"mode\": \"vega-lite\"});\n",
       "</script>"
      ],
      "text/plain": [
       "alt.Chart(...)"
      ]
     },
     "execution_count": 9,
     "metadata": {},
     "output_type": "execute_result"
    }
   ],
   "source": [
    "prs_by_repo = merged.groupby(['org', 'repo']).count()['author'].reset_index().sort_values(['org', 'author'], ascending=False)\n",
    "alt.Chart(data=prs_by_repo, title=f\"Merged PRs in the last {n_days} days\").mark_bar().encode(\n",
    "    x=alt.X('repo', sort=prs_by_repo['repo'].values.tolist()),\n",
    "    y='author',\n",
    "    color='org'\n",
    ")"
   ]
  },
  {
   "cell_type": "markdown",
   "id": "hundred-baltimore",
   "metadata": {
    "papermill": {
     "duration": 0.037403,
     "end_time": "2021-02-16T01:39:16.943030",
     "exception": false,
     "start_time": "2021-02-16T01:39:16.905627",
     "status": "completed"
    },
    "tags": []
   },
   "source": [
    "### Authoring and merging stats by repository\n",
    "\n",
    "Let's see who has been doing most of the PR authoring and merging. The PR author is generally the\n",
    "person that implemented a change in the repository (code, documentation, etc). The PR merger is\n",
    "the person that \"pressed the green button\" and got the change into the main codebase."
   ]
  },
  {
   "cell_type": "code",
   "execution_count": 10,
   "id": "prescribed-fishing",
   "metadata": {
    "execution": {
     "iopub.execute_input": "2021-02-16T01:39:17.032169Z",
     "iopub.status.busy": "2021-02-16T01:39:17.031546Z",
     "iopub.status.idle": "2021-02-16T01:39:17.041575Z",
     "shell.execute_reply": "2021-02-16T01:39:17.040844Z"
    },
    "papermill": {
     "duration": 0.061052,
     "end_time": "2021-02-16T01:39:17.041786",
     "exception": false,
     "start_time": "2021-02-16T01:39:16.980734",
     "status": "completed"
    },
    "tags": [
     "remove_cell"
    ]
   },
   "outputs": [],
   "source": [
    "# Prep our merging DF\n",
    "merged_by_repo = merged.groupby(['repo', 'author'], as_index=False).agg({'id': 'count', 'authorAssociation': 'first'}).rename(columns={'id': \"authored\", 'author': 'username'})\n",
    "closed_by_repo = merged.groupby(['repo', 'mergedBy']).count()['id'].reset_index().rename(columns={'id': \"closed\", \"mergedBy\": \"username\"})"
   ]
  },
  {
   "cell_type": "code",
   "execution_count": 11,
   "id": "artistic-slovenia",
   "metadata": {
    "execution": {
     "iopub.execute_input": "2021-02-16T01:39:17.158115Z",
     "iopub.status.busy": "2021-02-16T01:39:17.157577Z",
     "iopub.status.idle": "2021-02-16T01:39:17.160211Z",
     "shell.execute_reply": "2021-02-16T01:39:17.160735Z"
    },
    "papermill": {
     "duration": 0.070572,
     "end_time": "2021-02-16T01:39:17.160897",
     "exception": false,
     "start_time": "2021-02-16T01:39:17.090325",
     "status": "completed"
    },
    "tags": [
     "hide_input"
    ]
   },
   "outputs": [
    {
     "data": {
      "text/html": [
       "\n",
       "<div id=\"altair-viz-5807c36f9a164b29b0ee7b555e2254af\"></div>\n",
       "<script type=\"text/javascript\">\n",
       "  (function(spec, embedOpt){\n",
       "    let outputDiv = document.currentScript.previousElementSibling;\n",
       "    if (outputDiv.id !== \"altair-viz-5807c36f9a164b29b0ee7b555e2254af\") {\n",
       "      outputDiv = document.getElementById(\"altair-viz-5807c36f9a164b29b0ee7b555e2254af\");\n",
       "    }\n",
       "    const paths = {\n",
       "      \"vega\": \"https://cdn.jsdelivr.net/npm//vega@5?noext\",\n",
       "      \"vega-lib\": \"https://cdn.jsdelivr.net/npm//vega-lib?noext\",\n",
       "      \"vega-lite\": \"https://cdn.jsdelivr.net/npm//vega-lite@4.8.1?noext\",\n",
       "      \"vega-embed\": \"https://cdn.jsdelivr.net/npm//vega-embed@6?noext\",\n",
       "    };\n",
       "\n",
       "    function loadScript(lib) {\n",
       "      return new Promise(function(resolve, reject) {\n",
       "        var s = document.createElement('script');\n",
       "        s.src = paths[lib];\n",
       "        s.async = true;\n",
       "        s.onload = () => resolve(paths[lib]);\n",
       "        s.onerror = () => reject(`Error loading script: ${paths[lib]}`);\n",
       "        document.getElementsByTagName(\"head\")[0].appendChild(s);\n",
       "      });\n",
       "    }\n",
       "\n",
       "    function showError(err) {\n",
       "      outputDiv.innerHTML = `<div class=\"error\" style=\"color:red;\">${err}</div>`;\n",
       "      throw err;\n",
       "    }\n",
       "\n",
       "    function displayChart(vegaEmbed) {\n",
       "      vegaEmbed(outputDiv, spec, embedOpt)\n",
       "        .catch(err => showError(`Javascript Error: ${err.message}<br>This usually means there's a typo in your chart specification. See the javascript console for the full traceback.`));\n",
       "    }\n",
       "\n",
       "    if(typeof define === \"function\" && define.amd) {\n",
       "      requirejs.config({paths});\n",
       "      require([\"vega-embed\"], displayChart, err => showError(`Error loading script: ${err.message}`));\n",
       "    } else if (typeof vegaEmbed === \"function\") {\n",
       "      displayChart(vegaEmbed);\n",
       "    } else {\n",
       "      loadScript(\"vega\")\n",
       "        .then(() => loadScript(\"vega-lite\"))\n",
       "        .then(() => loadScript(\"vega-embed\"))\n",
       "        .catch(showError)\n",
       "        .then(() => displayChart(vegaEmbed));\n",
       "    }\n",
       "  })({\"config\": {\"axisLeft\": {\"labelFontSize\": 15}, \"axisBottom\": {\"labelFontSize\": 15}}, \"data\": {\"name\": \"data-3d884ed09f5a3d76a55e8da26289932e\"}, \"mark\": \"bar\", \"encoding\": {\"color\": {\"type\": \"nominal\", \"field\": \"authorAssociation\", \"scale\": {\"domain\": [\"MEMBER\", \"CONTRIBUTOR\", \"COLLABORATOR\", \"NONE\"], \"range\": [\"rgb(211.82745098039214, 211.82745098039214, 211.82745098039214)\", \"rgb(166.98562091503268, 229.89803921568628, 166.98562091503268)\", \"rgb(96.37647058823529, 192.75294117647059, 96.37647058823529)\", \"rgb(0.0, 100.3921568627451, 0.0)\"]}}, \"x\": {\"type\": \"nominal\", \"field\": \"username\"}, \"y\": {\"type\": \"quantitative\", \"field\": \"authored\"}}, \"title\": \"PR authors for jupyter-widgets in the last 60 days\", \"$schema\": \"https://vega.github.io/schema/vega-lite/v4.8.1.json\", \"datasets\": {\"data-3d884ed09f5a3d76a55e8da26289932e\": [{\"username\": \"jasongrout\", \"authored\": 10, \"authorAssociation\": \"MEMBER\"}, {\"username\": \"martinRenou\", \"authored\": 7, \"authorAssociation\": \"MEMBER\"}, {\"username\": \"davidbrochart\", \"authored\": 5, \"authorAssociation\": \"MEMBER\"}, {\"username\": \"ianhi\", \"authored\": 5, \"authorAssociation\": \"CONTRIBUTOR\"}, {\"username\": \"willingc\", \"authored\": 5, \"authorAssociation\": \"CONTRIBUTOR\"}, {\"username\": \"MicaelJarniac\", \"authored\": 1, \"authorAssociation\": \"CONTRIBUTOR\"}, {\"username\": \"agoose77\", \"authored\": 1, \"authorAssociation\": \"CONTRIBUTOR\"}, {\"username\": \"carlobeltrame\", \"authored\": 1, \"authorAssociation\": \"CONTRIBUTOR\"}, {\"username\": \"fcollonval\", \"authored\": 1, \"authorAssociation\": \"CONTRIBUTOR\"}, {\"username\": \"flekschas\", \"authored\": 1, \"authorAssociation\": \"CONTRIBUTOR\"}, {\"username\": \"marimeireles\", \"authored\": 1, \"authorAssociation\": \"MEMBER\"}, {\"username\": \"patviafore-canonical\", \"authored\": 1, \"authorAssociation\": \"CONTRIBUTOR\"}, {\"username\": \"sackh\", \"authored\": 1, \"authorAssociation\": \"CONTRIBUTOR\"}, {\"username\": \"willeppy\", \"authored\": 1, \"authorAssociation\": \"CONTRIBUTOR\"}]}}, {\"mode\": \"vega-lite\"});\n",
       "</script>"
      ],
      "text/plain": [
       "alt.Chart(...)"
      ]
     },
     "execution_count": 11,
     "metadata": {},
     "output_type": "execute_result"
    }
   ],
   "source": [
    "charts = []\n",
    "title = f\"PR authors for {github_org} in the last {n_days} days\"\n",
    "this_data = merged_by_repo.replace(np.nan, 0).groupby('username', as_index=False).agg({'authored': 'sum', 'authorAssociation': 'first'})\n",
    "this_data = this_data.sort_values('authored', ascending=False)\n",
    "ch = alt.Chart(data=this_data, title=title).mark_bar().encode(\n",
    "    x='username',\n",
    "    y='authored',\n",
    "    color=alt.Color('authorAssociation', scale=alt.Scale(domain=author_types, range=author_colors))\n",
    ")\n",
    "ch"
   ]
  },
  {
   "cell_type": "code",
   "execution_count": 12,
   "id": "recovered-papua",
   "metadata": {
    "execution": {
     "iopub.execute_input": "2021-02-16T01:39:17.258428Z",
     "iopub.status.busy": "2021-02-16T01:39:17.255877Z",
     "iopub.status.idle": "2021-02-16T01:39:17.261684Z",
     "shell.execute_reply": "2021-02-16T01:39:17.261275Z"
    },
    "papermill": {
     "duration": 0.060707,
     "end_time": "2021-02-16T01:39:17.261808",
     "exception": false,
     "start_time": "2021-02-16T01:39:17.201101",
     "status": "completed"
    },
    "tags": [
     "hide_input"
    ]
   },
   "outputs": [
    {
     "data": {
      "text/html": [
       "\n",
       "<div id=\"altair-viz-d0367d58cd604d23bdcc40933ee2c05c\"></div>\n",
       "<script type=\"text/javascript\">\n",
       "  (function(spec, embedOpt){\n",
       "    let outputDiv = document.currentScript.previousElementSibling;\n",
       "    if (outputDiv.id !== \"altair-viz-d0367d58cd604d23bdcc40933ee2c05c\") {\n",
       "      outputDiv = document.getElementById(\"altair-viz-d0367d58cd604d23bdcc40933ee2c05c\");\n",
       "    }\n",
       "    const paths = {\n",
       "      \"vega\": \"https://cdn.jsdelivr.net/npm//vega@5?noext\",\n",
       "      \"vega-lib\": \"https://cdn.jsdelivr.net/npm//vega-lib?noext\",\n",
       "      \"vega-lite\": \"https://cdn.jsdelivr.net/npm//vega-lite@4.8.1?noext\",\n",
       "      \"vega-embed\": \"https://cdn.jsdelivr.net/npm//vega-embed@6?noext\",\n",
       "    };\n",
       "\n",
       "    function loadScript(lib) {\n",
       "      return new Promise(function(resolve, reject) {\n",
       "        var s = document.createElement('script');\n",
       "        s.src = paths[lib];\n",
       "        s.async = true;\n",
       "        s.onload = () => resolve(paths[lib]);\n",
       "        s.onerror = () => reject(`Error loading script: ${paths[lib]}`);\n",
       "        document.getElementsByTagName(\"head\")[0].appendChild(s);\n",
       "      });\n",
       "    }\n",
       "\n",
       "    function showError(err) {\n",
       "      outputDiv.innerHTML = `<div class=\"error\" style=\"color:red;\">${err}</div>`;\n",
       "      throw err;\n",
       "    }\n",
       "\n",
       "    function displayChart(vegaEmbed) {\n",
       "      vegaEmbed(outputDiv, spec, embedOpt)\n",
       "        .catch(err => showError(`Javascript Error: ${err.message}<br>This usually means there's a typo in your chart specification. See the javascript console for the full traceback.`));\n",
       "    }\n",
       "\n",
       "    if(typeof define === \"function\" && define.amd) {\n",
       "      requirejs.config({paths});\n",
       "      require([\"vega-embed\"], displayChart, err => showError(`Error loading script: ${err.message}`));\n",
       "    } else if (typeof vegaEmbed === \"function\") {\n",
       "      displayChart(vegaEmbed);\n",
       "    } else {\n",
       "      loadScript(\"vega\")\n",
       "        .then(() => loadScript(\"vega-lite\"))\n",
       "        .then(() => loadScript(\"vega-embed\"))\n",
       "        .catch(showError)\n",
       "        .then(() => displayChart(vegaEmbed));\n",
       "    }\n",
       "  })({\"config\": {\"axisLeft\": {\"labelFontSize\": 15}, \"axisBottom\": {\"labelFontSize\": 15}}, \"data\": {\"name\": \"data-e8b96f074ea184a68c29e4be56e7efc5\"}, \"mark\": \"bar\", \"encoding\": {\"x\": {\"type\": \"nominal\", \"field\": \"username\"}, \"y\": {\"type\": \"quantitative\", \"field\": \"closed\"}}, \"title\": \"Merges for jupyter-widgets in the last 60 days\", \"$schema\": \"https://vega.github.io/schema/vega-lite/v4.8.1.json\", \"datasets\": {\"data-e8b96f074ea184a68c29e4be56e7efc5\": [{\"repo\": \"ipyleaflet\", \"username\": \"davidbrochart\", \"closed\": 1}, {\"repo\": \"ipyleaflet\", \"username\": \"martinRenou\", \"closed\": 5}, {\"repo\": \"ipywidgets\", \"username\": \"SylvainCorlay\", \"closed\": 5}, {\"repo\": \"ipywidgets\", \"username\": \"jasongrout\", \"closed\": 12}, {\"repo\": \"ipywidgets\", \"username\": \"vidartf\", \"closed\": 4}, {\"repo\": \"ipywidgets\", \"username\": \"willingc\", \"closed\": 7}, {\"repo\": \"jupyterlab-sidecar\", \"username\": \"martinRenou\", \"closed\": 1}, {\"repo\": \"pythreejs\", \"username\": \"vidartf\", \"closed\": 1}, {\"repo\": \"widget-cookiecutter\", \"username\": \"jasongrout\", \"closed\": 3}, {\"repo\": \"widget-cookiecutter\", \"username\": \"martinRenou\", \"closed\": 1}, {\"repo\": \"widget-ts-cookiecutter\", \"username\": \"ianhi\", \"closed\": 1}]}}, {\"mode\": \"vega-lite\"});\n",
       "</script>"
      ],
      "text/plain": [
       "alt.Chart(...)"
      ]
     },
     "execution_count": 12,
     "metadata": {},
     "output_type": "execute_result"
    }
   ],
   "source": [
    "charts = []\n",
    "title = f\"Merges for {github_org} in the last {n_days} days\"\n",
    "ch = alt.Chart(data=closed_by_repo.replace(np.nan, 0), title=title).mark_bar().encode(\n",
    "    x='username',\n",
    "    y='closed',\n",
    ")\n",
    "ch"
   ]
  },
  {
   "cell_type": "markdown",
   "id": "compound-department",
   "metadata": {
    "papermill": {
     "duration": 0.040504,
     "end_time": "2021-02-16T01:39:17.345484",
     "exception": false,
     "start_time": "2021-02-16T01:39:17.304980",
     "status": "completed"
    },
    "tags": []
   },
   "source": [
    "## Issues\n",
    "\n",
    "Issues are **conversations** that happen on our GitHub repositories. Here's an\n",
    "analysis of issues across the Jupyter organizations."
   ]
  },
  {
   "cell_type": "code",
   "execution_count": 13,
   "id": "latin-vitamin",
   "metadata": {
    "execution": {
     "iopub.execute_input": "2021-02-16T01:39:17.432783Z",
     "iopub.status.busy": "2021-02-16T01:39:17.432281Z",
     "iopub.status.idle": "2021-02-16T01:39:17.434132Z",
     "shell.execute_reply": "2021-02-16T01:39:17.434522Z"
    },
    "papermill": {
     "duration": 0.052077,
     "end_time": "2021-02-16T01:39:17.434667",
     "exception": false,
     "start_time": "2021-02-16T01:39:17.382590",
     "status": "completed"
    },
    "tags": [
     "remove_cell"
    ]
   },
   "outputs": [],
   "source": [
    "created = issues.query('state == \"OPEN\" and createdAt > @start_date and createdAt < @stop_date')\n",
    "closed = issues.query('state == \"CLOSED\" and closedAt > @start_date and closedAt < @stop_date')"
   ]
  },
  {
   "cell_type": "code",
   "execution_count": 14,
   "id": "pretty-internet",
   "metadata": {
    "execution": {
     "iopub.execute_input": "2021-02-16T01:39:17.521295Z",
     "iopub.status.busy": "2021-02-16T01:39:17.520794Z",
     "iopub.status.idle": "2021-02-16T01:39:17.544117Z",
     "shell.execute_reply": "2021-02-16T01:39:17.543666Z"
    },
    "papermill": {
     "duration": 0.071848,
     "end_time": "2021-02-16T01:39:17.544235",
     "exception": false,
     "start_time": "2021-02-16T01:39:17.472387",
     "status": "completed"
    },
    "tags": [
     "hide_input"
    ]
   },
   "outputs": [
    {
     "data": {
      "text/html": [
       "\n",
       "<div id=\"altair-viz-cea7f18823584e92a37f1b12d37ebd95\"></div>\n",
       "<script type=\"text/javascript\">\n",
       "  (function(spec, embedOpt){\n",
       "    let outputDiv = document.currentScript.previousElementSibling;\n",
       "    if (outputDiv.id !== \"altair-viz-cea7f18823584e92a37f1b12d37ebd95\") {\n",
       "      outputDiv = document.getElementById(\"altair-viz-cea7f18823584e92a37f1b12d37ebd95\");\n",
       "    }\n",
       "    const paths = {\n",
       "      \"vega\": \"https://cdn.jsdelivr.net/npm//vega@5?noext\",\n",
       "      \"vega-lib\": \"https://cdn.jsdelivr.net/npm//vega-lib?noext\",\n",
       "      \"vega-lite\": \"https://cdn.jsdelivr.net/npm//vega-lite@4.8.1?noext\",\n",
       "      \"vega-embed\": \"https://cdn.jsdelivr.net/npm//vega-embed@6?noext\",\n",
       "    };\n",
       "\n",
       "    function loadScript(lib) {\n",
       "      return new Promise(function(resolve, reject) {\n",
       "        var s = document.createElement('script');\n",
       "        s.src = paths[lib];\n",
       "        s.async = true;\n",
       "        s.onload = () => resolve(paths[lib]);\n",
       "        s.onerror = () => reject(`Error loading script: ${paths[lib]}`);\n",
       "        document.getElementsByTagName(\"head\")[0].appendChild(s);\n",
       "      });\n",
       "    }\n",
       "\n",
       "    function showError(err) {\n",
       "      outputDiv.innerHTML = `<div class=\"error\" style=\"color:red;\">${err}</div>`;\n",
       "      throw err;\n",
       "    }\n",
       "\n",
       "    function displayChart(vegaEmbed) {\n",
       "      vegaEmbed(outputDiv, spec, embedOpt)\n",
       "        .catch(err => showError(`Javascript Error: ${err.message}<br>This usually means there's a typo in your chart specification. See the javascript console for the full traceback.`));\n",
       "    }\n",
       "\n",
       "    if(typeof define === \"function\" && define.amd) {\n",
       "      requirejs.config({paths});\n",
       "      require([\"vega-embed\"], displayChart, err => showError(`Error loading script: ${err.message}`));\n",
       "    } else if (typeof vegaEmbed === \"function\") {\n",
       "      displayChart(vegaEmbed);\n",
       "    } else {\n",
       "      loadScript(\"vega\")\n",
       "        .then(() => loadScript(\"vega-lite\"))\n",
       "        .then(() => loadScript(\"vega-embed\"))\n",
       "        .catch(showError)\n",
       "        .then(() => displayChart(vegaEmbed));\n",
       "    }\n",
       "  })({\"config\": {\"axisLeft\": {\"labelFontSize\": 15}, \"axisBottom\": {\"labelFontSize\": 15}}, \"data\": {\"name\": \"data-e190825196d82adfb204a397b0e761ad\"}, \"mark\": \"bar\", \"encoding\": {\"x\": {\"type\": \"nominal\", \"field\": \"repo\", \"sort\": [\"ipywidgets\", \"ipyleaflet\", \"pythreejs\", \"team-compass\", \"tutorial\", \"widget-cookiecutter\", \"jupyterlab-sidecar\", \"widget-ts-cookiecutter\"]}, \"y\": {\"type\": \"quantitative\", \"field\": \"number\"}}, \"title\": \"Issues created in the last 60 days\", \"$schema\": \"https://vega.github.io/schema/vega-lite/v4.8.1.json\", \"datasets\": {\"data-e190825196d82adfb204a397b0e761ad\": [{\"org\": \"jupyter-widgets\", \"repo\": \"ipyleaflet\", \"number\": 11, \"org/repo\": \"jupyter-widgets/ipyleaflet\"}, {\"org\": \"jupyter-widgets\", \"repo\": \"ipywidgets\", \"number\": 24, \"org/repo\": \"jupyter-widgets/ipywidgets\"}, {\"org\": \"jupyter-widgets\", \"repo\": \"jupyterlab-sidecar\", \"number\": 1, \"org/repo\": \"jupyter-widgets/jupyterlab-sidecar\"}, {\"org\": \"jupyter-widgets\", \"repo\": \"pythreejs\", \"number\": 4, \"org/repo\": \"jupyter-widgets/pythreejs\"}, {\"org\": \"jupyter-widgets\", \"repo\": \"team-compass\", \"number\": 3, \"org/repo\": \"jupyter-widgets/team-compass\"}, {\"org\": \"jupyter-widgets\", \"repo\": \"tutorial\", \"number\": 3, \"org/repo\": \"jupyter-widgets/tutorial\"}, {\"org\": \"jupyter-widgets\", \"repo\": \"widget-cookiecutter\", \"number\": 2, \"org/repo\": \"jupyter-widgets/widget-cookiecutter\"}, {\"org\": \"jupyter-widgets\", \"repo\": \"widget-ts-cookiecutter\", \"number\": 1, \"org/repo\": \"jupyter-widgets/widget-ts-cookiecutter\"}]}}, {\"mode\": \"vega-lite\"});\n",
       "</script>"
      ],
      "text/plain": [
       "alt.Chart(...)"
      ]
     },
     "execution_count": 14,
     "metadata": {},
     "output_type": "execute_result"
    }
   ],
   "source": [
    "created_counts = created.groupby(['org', 'repo']).count()['number'].reset_index()\n",
    "created_counts['org/repo'] = created_counts.apply(lambda a: a['org'] + '/' + a['repo'], axis=1)\n",
    "sorted_vals = created_counts.sort_values(['org', 'number'], ascending=False)['repo'].values\n",
    "alt.Chart(data=created_counts, title=f\"Issues created in the last {n_days} days\").mark_bar().encode(\n",
    "    x=alt.X('repo', sort=alt.Sort(sorted_vals.tolist())),\n",
    "    y='number',\n",
    ")"
   ]
  },
  {
   "cell_type": "code",
   "execution_count": 15,
   "id": "loved-premiere",
   "metadata": {
    "execution": {
     "iopub.execute_input": "2021-02-16T01:39:17.627850Z",
     "iopub.status.busy": "2021-02-16T01:39:17.627352Z",
     "iopub.status.idle": "2021-02-16T01:39:17.646025Z",
     "shell.execute_reply": "2021-02-16T01:39:17.645586Z"
    },
    "papermill": {
     "duration": 0.064659,
     "end_time": "2021-02-16T01:39:17.646144",
     "exception": false,
     "start_time": "2021-02-16T01:39:17.581485",
     "status": "completed"
    },
    "tags": [
     "hide_input"
    ]
   },
   "outputs": [
    {
     "data": {
      "text/html": [
       "\n",
       "<div id=\"altair-viz-66902fd769cf4606ac33500e5115ae63\"></div>\n",
       "<script type=\"text/javascript\">\n",
       "  (function(spec, embedOpt){\n",
       "    let outputDiv = document.currentScript.previousElementSibling;\n",
       "    if (outputDiv.id !== \"altair-viz-66902fd769cf4606ac33500e5115ae63\") {\n",
       "      outputDiv = document.getElementById(\"altair-viz-66902fd769cf4606ac33500e5115ae63\");\n",
       "    }\n",
       "    const paths = {\n",
       "      \"vega\": \"https://cdn.jsdelivr.net/npm//vega@5?noext\",\n",
       "      \"vega-lib\": \"https://cdn.jsdelivr.net/npm//vega-lib?noext\",\n",
       "      \"vega-lite\": \"https://cdn.jsdelivr.net/npm//vega-lite@4.8.1?noext\",\n",
       "      \"vega-embed\": \"https://cdn.jsdelivr.net/npm//vega-embed@6?noext\",\n",
       "    };\n",
       "\n",
       "    function loadScript(lib) {\n",
       "      return new Promise(function(resolve, reject) {\n",
       "        var s = document.createElement('script');\n",
       "        s.src = paths[lib];\n",
       "        s.async = true;\n",
       "        s.onload = () => resolve(paths[lib]);\n",
       "        s.onerror = () => reject(`Error loading script: ${paths[lib]}`);\n",
       "        document.getElementsByTagName(\"head\")[0].appendChild(s);\n",
       "      });\n",
       "    }\n",
       "\n",
       "    function showError(err) {\n",
       "      outputDiv.innerHTML = `<div class=\"error\" style=\"color:red;\">${err}</div>`;\n",
       "      throw err;\n",
       "    }\n",
       "\n",
       "    function displayChart(vegaEmbed) {\n",
       "      vegaEmbed(outputDiv, spec, embedOpt)\n",
       "        .catch(err => showError(`Javascript Error: ${err.message}<br>This usually means there's a typo in your chart specification. See the javascript console for the full traceback.`));\n",
       "    }\n",
       "\n",
       "    if(typeof define === \"function\" && define.amd) {\n",
       "      requirejs.config({paths});\n",
       "      require([\"vega-embed\"], displayChart, err => showError(`Error loading script: ${err.message}`));\n",
       "    } else if (typeof vegaEmbed === \"function\") {\n",
       "      displayChart(vegaEmbed);\n",
       "    } else {\n",
       "      loadScript(\"vega\")\n",
       "        .then(() => loadScript(\"vega-lite\"))\n",
       "        .then(() => loadScript(\"vega-embed\"))\n",
       "        .catch(showError)\n",
       "        .then(() => displayChart(vegaEmbed));\n",
       "    }\n",
       "  })({\"config\": {\"axisLeft\": {\"labelFontSize\": 15}, \"axisBottom\": {\"labelFontSize\": 15}}, \"data\": {\"name\": \"data-247bd5ee65aa2eae4d72d34a8549c9ba\"}, \"mark\": \"bar\", \"encoding\": {\"x\": {\"type\": \"nominal\", \"field\": \"repo\", \"sort\": [\"ipywidgets\", \"ipyleaflet\", \"widget-cookiecutter\", \"widget-ts-cookiecutter\", \"pythreejs\"]}, \"y\": {\"type\": \"quantitative\", \"field\": \"number\"}}, \"title\": \"Issues closed in the last 60 days\", \"$schema\": \"https://vega.github.io/schema/vega-lite/v4.8.1.json\", \"datasets\": {\"data-247bd5ee65aa2eae4d72d34a8549c9ba\": [{\"org\": \"jupyter-widgets\", \"repo\": \"ipyleaflet\", \"number\": 8, \"org/repo\": \"jupyter-widgets/ipyleaflet\"}, {\"org\": \"jupyter-widgets\", \"repo\": \"ipywidgets\", \"number\": 33, \"org/repo\": \"jupyter-widgets/ipywidgets\"}, {\"org\": \"jupyter-widgets\", \"repo\": \"pythreejs\", \"number\": 1, \"org/repo\": \"jupyter-widgets/pythreejs\"}, {\"org\": \"jupyter-widgets\", \"repo\": \"widget-cookiecutter\", \"number\": 5, \"org/repo\": \"jupyter-widgets/widget-cookiecutter\"}, {\"org\": \"jupyter-widgets\", \"repo\": \"widget-ts-cookiecutter\", \"number\": 2, \"org/repo\": \"jupyter-widgets/widget-ts-cookiecutter\"}]}}, {\"mode\": \"vega-lite\"});\n",
       "</script>"
      ],
      "text/plain": [
       "alt.Chart(...)"
      ]
     },
     "execution_count": 15,
     "metadata": {},
     "output_type": "execute_result"
    }
   ],
   "source": [
    "closed_counts = closed.groupby(['org', 'repo']).count()['number'].reset_index()\n",
    "closed_counts['org/repo'] = closed_counts.apply(lambda a: a['org'] + '/' + a['repo'], axis=1)\n",
    "sorted_vals = closed_counts.sort_values(['number'], ascending=False)['repo'].values\n",
    "alt.Chart(data=closed_counts, title=f\"Issues closed in the last {n_days} days\").mark_bar().encode(\n",
    "    x=alt.X('repo', sort=alt.Sort(sorted_vals.tolist())),\n",
    "    y='number',\n",
    ")"
   ]
  },
  {
   "cell_type": "code",
   "execution_count": 16,
   "id": "brown-karaoke",
   "metadata": {
    "execution": {
     "iopub.execute_input": "2021-02-16T01:39:17.735403Z",
     "iopub.status.busy": "2021-02-16T01:39:17.734869Z",
     "iopub.status.idle": "2021-02-16T01:39:17.740068Z",
     "shell.execute_reply": "2021-02-16T01:39:17.740550Z"
    },
    "papermill": {
     "duration": 0.055967,
     "end_time": "2021-02-16T01:39:17.740684",
     "exception": false,
     "start_time": "2021-02-16T01:39:17.684717",
     "status": "completed"
    },
    "tags": [
     "remove_cell"
    ]
   },
   "outputs": [],
   "source": [
    "created_closed = pd.merge(created_counts.rename(columns={'number': 'created'}).drop(columns='org/repo'),\n",
    "                          closed_counts.rename(columns={'number': 'closed'}).drop(columns='org/repo'),\n",
    "                          on=['org', 'repo'], how='outer')\n",
    "\n",
    "created_closed = pd.melt(created_closed, id_vars=['org', 'repo'], var_name=\"kind\", value_name=\"count\").replace(np.nan, 0)"
   ]
  },
  {
   "cell_type": "code",
   "execution_count": 17,
   "id": "usual-drove",
   "metadata": {
    "execution": {
     "iopub.execute_input": "2021-02-16T01:39:17.843480Z",
     "iopub.status.busy": "2021-02-16T01:39:17.842957Z",
     "iopub.status.idle": "2021-02-16T01:39:17.847229Z",
     "shell.execute_reply": "2021-02-16T01:39:17.847618Z"
    },
    "papermill": {
     "duration": 0.06866,
     "end_time": "2021-02-16T01:39:17.847763",
     "exception": false,
     "start_time": "2021-02-16T01:39:17.779103",
     "status": "completed"
    },
    "tags": [
     "hide_input"
    ]
   },
   "outputs": [
    {
     "data": {
      "text/html": [
       "\n",
       "<div id=\"altair-viz-c915afba805a4c1394a00484d1626e64\"></div>\n",
       "<script type=\"text/javascript\">\n",
       "  (function(spec, embedOpt){\n",
       "    let outputDiv = document.currentScript.previousElementSibling;\n",
       "    if (outputDiv.id !== \"altair-viz-c915afba805a4c1394a00484d1626e64\") {\n",
       "      outputDiv = document.getElementById(\"altair-viz-c915afba805a4c1394a00484d1626e64\");\n",
       "    }\n",
       "    const paths = {\n",
       "      \"vega\": \"https://cdn.jsdelivr.net/npm//vega@5?noext\",\n",
       "      \"vega-lib\": \"https://cdn.jsdelivr.net/npm//vega-lib?noext\",\n",
       "      \"vega-lite\": \"https://cdn.jsdelivr.net/npm//vega-lite@4.8.1?noext\",\n",
       "      \"vega-embed\": \"https://cdn.jsdelivr.net/npm//vega-embed@6?noext\",\n",
       "    };\n",
       "\n",
       "    function loadScript(lib) {\n",
       "      return new Promise(function(resolve, reject) {\n",
       "        var s = document.createElement('script');\n",
       "        s.src = paths[lib];\n",
       "        s.async = true;\n",
       "        s.onload = () => resolve(paths[lib]);\n",
       "        s.onerror = () => reject(`Error loading script: ${paths[lib]}`);\n",
       "        document.getElementsByTagName(\"head\")[0].appendChild(s);\n",
       "      });\n",
       "    }\n",
       "\n",
       "    function showError(err) {\n",
       "      outputDiv.innerHTML = `<div class=\"error\" style=\"color:red;\">${err}</div>`;\n",
       "      throw err;\n",
       "    }\n",
       "\n",
       "    function displayChart(vegaEmbed) {\n",
       "      vegaEmbed(outputDiv, spec, embedOpt)\n",
       "        .catch(err => showError(`Javascript Error: ${err.message}<br>This usually means there's a typo in your chart specification. See the javascript console for the full traceback.`));\n",
       "    }\n",
       "\n",
       "    if(typeof define === \"function\" && define.amd) {\n",
       "      requirejs.config({paths});\n",
       "      require([\"vega-embed\"], displayChart, err => showError(`Error loading script: ${err.message}`));\n",
       "    } else if (typeof vegaEmbed === \"function\") {\n",
       "      displayChart(vegaEmbed);\n",
       "    } else {\n",
       "      loadScript(\"vega\")\n",
       "        .then(() => loadScript(\"vega-lite\"))\n",
       "        .then(() => loadScript(\"vega-embed\"))\n",
       "        .catch(showError)\n",
       "        .then(() => displayChart(vegaEmbed));\n",
       "    }\n",
       "  })({\"config\": {\"axisLeft\": {\"labelFontSize\": 15}, \"axisBottom\": {\"labelFontSize\": 15}}, \"data\": {\"name\": \"data-a4a17c7c00361a56d409816c5931b80c\"}, \"mark\": \"bar\", \"encoding\": {\"color\": {\"type\": \"nominal\", \"field\": \"kind\"}, \"column\": {\"type\": \"nominal\", \"field\": \"repo\", \"header\": {\"labelFontSize\": 12, \"title\": \"Issue activity, last 60 days for jupyter-widgets\", \"titleFontSize\": 15}}, \"x\": {\"type\": \"nominal\", \"axis\": {\"labelFontSize\": 15, \"title\": \"\"}, \"field\": \"kind\"}, \"y\": {\"type\": \"quantitative\", \"axis\": {\"labelFontSize\": 12, \"titleFontSize\": 15}, \"field\": \"count\"}}, \"width\": 120, \"$schema\": \"https://vega.github.io/schema/vega-lite/v4.8.1.json\", \"datasets\": {\"data-a4a17c7c00361a56d409816c5931b80c\": [{\"org\": \"jupyter-widgets\", \"repo\": \"ipyleaflet\", \"kind\": \"created\", \"count\": 11.0}, {\"org\": \"jupyter-widgets\", \"repo\": \"ipywidgets\", \"kind\": \"created\", \"count\": 24.0}, {\"org\": \"jupyter-widgets\", \"repo\": \"jupyterlab-sidecar\", \"kind\": \"created\", \"count\": 1.0}, {\"org\": \"jupyter-widgets\", \"repo\": \"pythreejs\", \"kind\": \"created\", \"count\": 4.0}, {\"org\": \"jupyter-widgets\", \"repo\": \"team-compass\", \"kind\": \"created\", \"count\": 3.0}, {\"org\": \"jupyter-widgets\", \"repo\": \"tutorial\", \"kind\": \"created\", \"count\": 3.0}, {\"org\": \"jupyter-widgets\", \"repo\": \"widget-cookiecutter\", \"kind\": \"created\", \"count\": 2.0}, {\"org\": \"jupyter-widgets\", \"repo\": \"widget-ts-cookiecutter\", \"kind\": \"created\", \"count\": 1.0}, {\"org\": \"jupyter-widgets\", \"repo\": \"ipyleaflet\", \"kind\": \"closed\", \"count\": 8.0}, {\"org\": \"jupyter-widgets\", \"repo\": \"ipywidgets\", \"kind\": \"closed\", \"count\": 33.0}, {\"org\": \"jupyter-widgets\", \"repo\": \"jupyterlab-sidecar\", \"kind\": \"closed\", \"count\": 0.0}, {\"org\": \"jupyter-widgets\", \"repo\": \"pythreejs\", \"kind\": \"closed\", \"count\": 1.0}, {\"org\": \"jupyter-widgets\", \"repo\": \"team-compass\", \"kind\": \"closed\", \"count\": 0.0}, {\"org\": \"jupyter-widgets\", \"repo\": \"tutorial\", \"kind\": \"closed\", \"count\": 0.0}, {\"org\": \"jupyter-widgets\", \"repo\": \"widget-cookiecutter\", \"kind\": \"closed\", \"count\": 5.0}, {\"org\": \"jupyter-widgets\", \"repo\": \"widget-ts-cookiecutter\", \"kind\": \"closed\", \"count\": 2.0}]}}, {\"mode\": \"vega-lite\"});\n",
       "</script>"
      ],
      "text/plain": [
       "alt.Chart(...)"
      ]
     },
     "execution_count": 17,
     "metadata": {},
     "output_type": "execute_result"
    }
   ],
   "source": [
    "charts = []\n",
    "# Pick the top 10 repositories\n",
    "top_repos = created_closed.groupby(['repo']).sum().sort_values(by='count', ascending=False).head(10).index\n",
    "ch = alt.Chart(created_closed.query('repo in @top_repos'), width=120).mark_bar().encode(\n",
    "    x=alt.X(\"kind\", axis=alt.Axis(labelFontSize=15, title=\"\")), \n",
    "    y=alt.Y('count', axis=alt.Axis(titleFontSize=15, labelFontSize=12)),\n",
    "    color='kind',\n",
    "    column=alt.Column(\"repo\", header=alt.Header(title=f\"Issue activity, last {n_days} days for {github_org}\", titleFontSize=15, labelFontSize=12))\n",
    ")\n",
    "ch"
   ]
  },
  {
   "cell_type": "code",
   "execution_count": 18,
   "id": "understood-replacement",
   "metadata": {
    "execution": {
     "iopub.execute_input": "2021-02-16T01:39:17.936242Z",
     "iopub.status.busy": "2021-02-16T01:39:17.935697Z",
     "iopub.status.idle": "2021-02-16T01:39:17.938001Z",
     "shell.execute_reply": "2021-02-16T01:39:17.937545Z"
    },
    "papermill": {
     "duration": 0.05068,
     "end_time": "2021-02-16T01:39:17.938125",
     "exception": false,
     "start_time": "2021-02-16T01:39:17.887445",
     "status": "completed"
    },
    "tags": [
     "remove_cell"
    ]
   },
   "outputs": [],
   "source": [
    "# Set to datetime\n",
    "for kind in ['createdAt', 'closedAt']:\n",
    "    closed.loc[:, kind] = pd.to_datetime(closed[kind])\n",
    "    \n",
    "closed.loc[:, 'time_open'] = closed['closedAt'] - closed['createdAt']\n",
    "closed.loc[:, 'time_open'] = closed['time_open'].dt.total_seconds()"
   ]
  },
  {
   "cell_type": "code",
   "execution_count": 19,
   "id": "compressed-indonesia",
   "metadata": {
    "execution": {
     "iopub.execute_input": "2021-02-16T01:39:18.044969Z",
     "iopub.status.busy": "2021-02-16T01:39:18.030072Z",
     "iopub.status.idle": "2021-02-16T01:39:18.048301Z",
     "shell.execute_reply": "2021-02-16T01:39:18.047777Z"
    },
    "papermill": {
     "duration": 0.069967,
     "end_time": "2021-02-16T01:39:18.048433",
     "exception": false,
     "start_time": "2021-02-16T01:39:17.978466",
     "status": "completed"
    },
    "tags": [
     "hide_input"
    ]
   },
   "outputs": [
    {
     "data": {
      "text/html": [
       "\n",
       "<div id=\"altair-viz-6382849f95624399a45c945acb72a1c2\"></div>\n",
       "<script type=\"text/javascript\">\n",
       "  (function(spec, embedOpt){\n",
       "    let outputDiv = document.currentScript.previousElementSibling;\n",
       "    if (outputDiv.id !== \"altair-viz-6382849f95624399a45c945acb72a1c2\") {\n",
       "      outputDiv = document.getElementById(\"altair-viz-6382849f95624399a45c945acb72a1c2\");\n",
       "    }\n",
       "    const paths = {\n",
       "      \"vega\": \"https://cdn.jsdelivr.net/npm//vega@5?noext\",\n",
       "      \"vega-lib\": \"https://cdn.jsdelivr.net/npm//vega-lib?noext\",\n",
       "      \"vega-lite\": \"https://cdn.jsdelivr.net/npm//vega-lite@4.8.1?noext\",\n",
       "      \"vega-embed\": \"https://cdn.jsdelivr.net/npm//vega-embed@6?noext\",\n",
       "    };\n",
       "\n",
       "    function loadScript(lib) {\n",
       "      return new Promise(function(resolve, reject) {\n",
       "        var s = document.createElement('script');\n",
       "        s.src = paths[lib];\n",
       "        s.async = true;\n",
       "        s.onload = () => resolve(paths[lib]);\n",
       "        s.onerror = () => reject(`Error loading script: ${paths[lib]}`);\n",
       "        document.getElementsByTagName(\"head\")[0].appendChild(s);\n",
       "      });\n",
       "    }\n",
       "\n",
       "    function showError(err) {\n",
       "      outputDiv.innerHTML = `<div class=\"error\" style=\"color:red;\">${err}</div>`;\n",
       "      throw err;\n",
       "    }\n",
       "\n",
       "    function displayChart(vegaEmbed) {\n",
       "      vegaEmbed(outputDiv, spec, embedOpt)\n",
       "        .catch(err => showError(`Javascript Error: ${err.message}<br>This usually means there's a typo in your chart specification. See the javascript console for the full traceback.`));\n",
       "    }\n",
       "\n",
       "    if(typeof define === \"function\" && define.amd) {\n",
       "      requirejs.config({paths});\n",
       "      require([\"vega-embed\"], displayChart, err => showError(`Error loading script: ${err.message}`));\n",
       "    } else if (typeof vegaEmbed === \"function\") {\n",
       "      displayChart(vegaEmbed);\n",
       "    } else {\n",
       "      loadScript(\"vega\")\n",
       "        .then(() => loadScript(\"vega-lite\"))\n",
       "        .then(() => loadScript(\"vega-embed\"))\n",
       "        .catch(showError)\n",
       "        .then(() => displayChart(vegaEmbed));\n",
       "    }\n",
       "  })({\"config\": {\"axisLeft\": {\"labelFontSize\": 15}, \"axisBottom\": {\"labelFontSize\": 15}}, \"data\": {\"name\": \"data-edbe9476e3d3482f2f7cf866ebde9831\"}, \"mark\": \"bar\", \"encoding\": {\"x\": {\"type\": \"nominal\", \"field\": \"repo\", \"sort\": [\"ipywidgets\", \"widget-cookiecutter\", \"widget-ts-cookiecutter\", \"ipyleaflet\", \"pythreejs\"]}, \"y\": {\"type\": \"quantitative\", \"field\": \"time_open\", \"title\": \"Median Days Open\"}}, \"title\": \"Time to close for issues closed in the last 60 days\", \"$schema\": \"https://vega.github.io/schema/vega-lite/v4.8.1.json\", \"datasets\": {\"data-edbe9476e3d3482f2f7cf866ebde9831\": [{\"org\": \"jupyter-widgets\", \"repo\": \"ipyleaflet\", \"time_open\": 3.5555208333333335, \"org/repo\": \"jupyter-widgets/ipyleaflet\"}, {\"org\": \"jupyter-widgets\", \"repo\": \"ipywidgets\", \"time_open\": 9.359826388888889, \"org/repo\": \"jupyter-widgets/ipywidgets\"}, {\"org\": \"jupyter-widgets\", \"repo\": \"pythreejs\", \"time_open\": 0.001712962962962963, \"org/repo\": \"jupyter-widgets/pythreejs\"}, {\"org\": \"jupyter-widgets\", \"repo\": \"widget-cookiecutter\", \"time_open\": 8.133819444444445, \"org/repo\": \"jupyter-widgets/widget-cookiecutter\"}, {\"org\": \"jupyter-widgets\", \"repo\": \"widget-ts-cookiecutter\", \"time_open\": 4.7560416666666665, \"org/repo\": \"jupyter-widgets/widget-ts-cookiecutter\"}]}}, {\"mode\": \"vega-lite\"});\n",
       "</script>"
      ],
      "text/plain": [
       "alt.Chart(...)"
      ]
     },
     "execution_count": 19,
     "metadata": {},
     "output_type": "execute_result"
    }
   ],
   "source": [
    "time_open = closed.groupby(['org', 'repo']).agg({'time_open': 'median'}).reset_index()\n",
    "time_open['time_open'] = time_open['time_open'] / (60 * 60 * 24)\n",
    "time_open['org/repo'] = time_open.apply(lambda a: a['org'] + '/' + a['repo'], axis=1)\n",
    "sorted_vals = time_open.sort_values(['org', 'time_open'], ascending=False)['repo'].values\n",
    "alt.Chart(data=time_open, title=f\"Time to close for issues closed in the last {n_days} days\").mark_bar().encode(\n",
    "    x=alt.X('repo', sort=alt.Sort(sorted_vals.tolist())),\n",
    "    y=alt.Y('time_open', title=\"Median Days Open\"),\n",
    ")"
   ]
  },
  {
   "cell_type": "markdown",
   "id": "spare-salvation",
   "metadata": {
    "papermill": {
     "duration": 0.042285,
     "end_time": "2021-02-16T01:39:18.134770",
     "exception": false,
     "start_time": "2021-02-16T01:39:18.092485",
     "status": "completed"
    },
    "tags": []
   },
   "source": [
    "## Most-upvoted issues"
   ]
  },
  {
   "cell_type": "code",
   "execution_count": 20,
   "id": "maritime-omaha",
   "metadata": {
    "execution": {
     "iopub.execute_input": "2021-02-16T01:39:18.232234Z",
     "iopub.status.busy": "2021-02-16T01:39:18.227292Z",
     "iopub.status.idle": "2021-02-16T01:39:18.243968Z",
     "shell.execute_reply": "2021-02-16T01:39:18.243360Z"
    },
    "papermill": {
     "duration": 0.070702,
     "end_time": "2021-02-16T01:39:18.244113",
     "exception": false,
     "start_time": "2021-02-16T01:39:18.173411",
     "status": "completed"
    },
    "tags": [
     "hide_input"
    ]
   },
   "outputs": [
    {
     "data": {
      "application/vnd.jupyter.widget-view+json": {
       "model_id": "f9e50b3af16648438ae9f027e304ea7b",
       "version_major": 2,
       "version_minor": 0
      },
      "text/plain": [
       "HTML(value='<ul>\\n<li>(3) Add a ROADMAP.md or PLANNING.md to the repo - ipywidgets - <a href=\"https://github.c…"
      ]
     },
     "metadata": {},
     "output_type": "display_data"
    }
   ],
   "source": [
    "thumbsup = data.query(\"state=='OPEN' and kind == 'issue'\").sort_values(\"thumbsup\", ascending=False).head(25)\n",
    "thumbsup = thumbsup[[\"title\", \"url\", \"number\", \"thumbsup\", \"repo\"]]\n",
    "\n",
    "text = []\n",
    "for ii, irow in thumbsup.iterrows():\n",
    "    itext = f\"- ({irow['thumbsup']}) {irow['title']} - {irow['repo']} - [#{irow['number']}]({irow['url']})\"\n",
    "    text.append(itext)\n",
    "text = '\\n'.join(text)\n",
    "HTML(markdown(text))"
   ]
  },
  {
   "cell_type": "markdown",
   "id": "blond-federal",
   "metadata": {
    "papermill": {
     "duration": 0.041933,
     "end_time": "2021-02-16T01:39:18.326771",
     "exception": false,
     "start_time": "2021-02-16T01:39:18.284838",
     "status": "completed"
    },
    "tags": []
   },
   "source": [
    "## Commenters across repositories\n",
    "\n",
    "These are commenters across all issues and pull requests in the last several days.\n",
    "These are colored by the commenter's association with the organization. For information\n",
    "about what these associations mean, [see this StackOverflow post](https://stackoverflow.com/a/28866914/1927102)."
   ]
  },
  {
   "cell_type": "code",
   "execution_count": 21,
   "id": "boring-controversy",
   "metadata": {
    "execution": {
     "iopub.execute_input": "2021-02-16T01:39:18.426724Z",
     "iopub.status.busy": "2021-02-16T01:39:18.426055Z",
     "iopub.status.idle": "2021-02-16T01:39:18.435914Z",
     "shell.execute_reply": "2021-02-16T01:39:18.435454Z"
    },
    "papermill": {
     "duration": 0.061706,
     "end_time": "2021-02-16T01:39:18.436055",
     "exception": false,
     "start_time": "2021-02-16T01:39:18.374349",
     "status": "completed"
    },
    "tags": [
     "remove_cell"
    ]
   },
   "outputs": [],
   "source": [
    "commentors = (\n",
    "    comments\n",
    "    .query(\"createdAt > @start_date and createdAt < @stop_date\")\n",
    "    .groupby(['org', 'repo', 'author', 'authorAssociation'])\n",
    "    .count().rename(columns={'id': 'count'})['count']\n",
    "    .reset_index()\n",
    "    .sort_values(['org', 'count'], ascending=False)\n",
    ")"
   ]
  },
  {
   "cell_type": "code",
   "execution_count": 22,
   "id": "present-material",
   "metadata": {
    "execution": {
     "iopub.execute_input": "2021-02-16T01:39:18.536468Z",
     "iopub.status.busy": "2021-02-16T01:39:18.535725Z",
     "iopub.status.idle": "2021-02-16T01:39:18.565340Z",
     "shell.execute_reply": "2021-02-16T01:39:18.566076Z"
    },
    "papermill": {
     "duration": 0.08436,
     "end_time": "2021-02-16T01:39:18.566259",
     "exception": false,
     "start_time": "2021-02-16T01:39:18.481899",
     "status": "completed"
    },
    "tags": [
     "hide_input"
    ]
   },
   "outputs": [
    {
     "data": {
      "text/html": [
       "\n",
       "<div id=\"altair-viz-cf37e0ddeb064536b24c2777a82cb2e4\"></div>\n",
       "<script type=\"text/javascript\">\n",
       "  (function(spec, embedOpt){\n",
       "    let outputDiv = document.currentScript.previousElementSibling;\n",
       "    if (outputDiv.id !== \"altair-viz-cf37e0ddeb064536b24c2777a82cb2e4\") {\n",
       "      outputDiv = document.getElementById(\"altair-viz-cf37e0ddeb064536b24c2777a82cb2e4\");\n",
       "    }\n",
       "    const paths = {\n",
       "      \"vega\": \"https://cdn.jsdelivr.net/npm//vega@5?noext\",\n",
       "      \"vega-lib\": \"https://cdn.jsdelivr.net/npm//vega-lib?noext\",\n",
       "      \"vega-lite\": \"https://cdn.jsdelivr.net/npm//vega-lite@4.8.1?noext\",\n",
       "      \"vega-embed\": \"https://cdn.jsdelivr.net/npm//vega-embed@6?noext\",\n",
       "    };\n",
       "\n",
       "    function loadScript(lib) {\n",
       "      return new Promise(function(resolve, reject) {\n",
       "        var s = document.createElement('script');\n",
       "        s.src = paths[lib];\n",
       "        s.async = true;\n",
       "        s.onload = () => resolve(paths[lib]);\n",
       "        s.onerror = () => reject(`Error loading script: ${paths[lib]}`);\n",
       "        document.getElementsByTagName(\"head\")[0].appendChild(s);\n",
       "      });\n",
       "    }\n",
       "\n",
       "    function showError(err) {\n",
       "      outputDiv.innerHTML = `<div class=\"error\" style=\"color:red;\">${err}</div>`;\n",
       "      throw err;\n",
       "    }\n",
       "\n",
       "    function displayChart(vegaEmbed) {\n",
       "      vegaEmbed(outputDiv, spec, embedOpt)\n",
       "        .catch(err => showError(`Javascript Error: ${err.message}<br>This usually means there's a typo in your chart specification. See the javascript console for the full traceback.`));\n",
       "    }\n",
       "\n",
       "    if(typeof define === \"function\" && define.amd) {\n",
       "      requirejs.config({paths});\n",
       "      require([\"vega-embed\"], displayChart, err => showError(`Error loading script: ${err.message}`));\n",
       "    } else if (typeof vegaEmbed === \"function\") {\n",
       "      displayChart(vegaEmbed);\n",
       "    } else {\n",
       "      loadScript(\"vega\")\n",
       "        .then(() => loadScript(\"vega-lite\"))\n",
       "        .then(() => loadScript(\"vega-embed\"))\n",
       "        .catch(showError)\n",
       "        .then(() => displayChart(vegaEmbed));\n",
       "    }\n",
       "  })({\"config\": {\"axisLeft\": {\"labelFontSize\": 15}, \"axisBottom\": {\"labelFontSize\": 15}}, \"hconcat\": [{\"mark\": \"bar\", \"encoding\": {\"color\": {\"type\": \"nominal\", \"field\": \"authorAssociation\", \"scale\": {\"domain\": [\"MEMBER\", \"CONTRIBUTOR\", \"COLLABORATOR\", \"NONE\"], \"range\": [\"rgb(211.82745098039214, 211.82745098039214, 211.82745098039214)\", \"rgb(166.98562091503268, 229.89803921568628, 166.98562091503268)\", \"rgb(96.37647058823529, 192.75294117647059, 96.37647058823529)\", \"rgb(0.0, 100.3921568627451, 0.0)\"]}}, \"x\": {\"type\": \"nominal\", \"field\": \"author\"}, \"y\": {\"type\": \"quantitative\", \"field\": \"count\"}}, \"title\": \"Top 50 commentors for jupyter-widgets in the last 60 days\"}], \"data\": {\"name\": \"data-3c03228fc5251ff4ebea2978187afbd6\"}, \"$schema\": \"https://vega.github.io/schema/vega-lite/v4.8.1.json\", \"datasets\": {\"data-3c03228fc5251ff4ebea2978187afbd6\": [{\"author\": \"jasongrout\", \"count\": 80, \"authorAssociation\": \"MEMBER\"}, {\"author\": \"martinRenou\", \"count\": 43, \"authorAssociation\": \"MEMBER\"}, {\"author\": \"willingc\", \"count\": 27, \"authorAssociation\": \"CONTRIBUTOR\"}, {\"author\": \"vidartf\", \"count\": 25, \"authorAssociation\": \"MEMBER\"}, {\"author\": \"davidbrochart\", \"count\": 23, \"authorAssociation\": \"MEMBER\"}, {\"author\": \"dependabot\", \"count\": 15, \"authorAssociation\": \"NONE\"}, {\"author\": \"maartenbreddels\", \"count\": 14, \"authorAssociation\": \"MEMBER\"}, {\"author\": \"ianhi\", \"count\": 12, \"authorAssociation\": \"CONTRIBUTOR\"}, {\"author\": \"jtpio\", \"count\": 10, \"authorAssociation\": \"MEMBER\"}, {\"author\": \"rmorshea\", \"count\": 8, \"authorAssociation\": \"NONE\"}, {\"author\": \"SylvainCorlay\", \"count\": 6, \"authorAssociation\": \"MEMBER\"}, {\"author\": \"bollwyvl\", \"count\": 6, \"authorAssociation\": \"NONE\"}, {\"author\": \"AK-1996\", \"count\": 5, \"authorAssociation\": \"NONE\"}, {\"author\": \"MSeal\", \"count\": 5, \"authorAssociation\": \"NONE\"}, {\"author\": \"agoose77\", \"count\": 4, \"authorAssociation\": \"CONTRIBUTOR\"}, {\"author\": \"matt1hong\", \"count\": 4, \"authorAssociation\": \"NONE\"}, {\"author\": \"giswqs\", \"count\": 3, \"authorAssociation\": \"CONTRIBUTOR\"}, {\"author\": \"marimeireles\", \"count\": 3, \"authorAssociation\": \"MEMBER\"}, {\"author\": \"MicaelJarniac\", \"count\": 3, \"authorAssociation\": \"CONTRIBUTOR\"}, {\"author\": \"deeplook\", \"count\": 3, \"authorAssociation\": \"CONTRIBUTOR\"}, {\"author\": \"anant-k-singh\", \"count\": 3, \"authorAssociation\": \"NONE\"}, {\"author\": \"jifcon\", \"count\": 2, \"authorAssociation\": \"NONE\"}, {\"author\": \"mkoeppe\", \"count\": 2, \"authorAssociation\": \"NONE\"}, {\"author\": \"hai-schrodinger\", \"count\": 2, \"authorAssociation\": \"NONE\"}, {\"author\": \"ibdafna\", \"count\": 2, \"authorAssociation\": \"MEMBER\"}, {\"author\": \"CatChenal\", \"count\": 2, \"authorAssociation\": \"NONE\"}, {\"author\": \"willeppy\", \"count\": 2, \"authorAssociation\": \"CONTRIBUTOR\"}, {\"author\": \"Moschi96\", \"count\": 2, \"authorAssociation\": \"NONE\"}, {\"author\": \"dou-du\", \"count\": 2, \"authorAssociation\": \"NONE\"}, {\"author\": \"amirebrahimi\", \"count\": 2, \"authorAssociation\": \"NONE\"}, {\"author\": \"sindhu51188\", \"count\": 1, \"authorAssociation\": \"NONE\"}, {\"author\": \"suzannejin\", \"count\": 1, \"authorAssociation\": \"NONE\"}, {\"author\": \"thomasaarholt\", \"count\": 1, \"authorAssociation\": \"NONE\"}, {\"author\": \"taknev83\", \"count\": 1, \"authorAssociation\": \"NONE\"}, {\"author\": \"tho-asterist\", \"count\": 1, \"authorAssociation\": \"NONE\"}, {\"author\": \"sackh\", \"count\": 1, \"authorAssociation\": \"CONTRIBUTOR\"}, {\"author\": \"wdoganowski\", \"count\": 1, \"authorAssociation\": \"NONE\"}, {\"author\": \"scimax\", \"count\": 1, \"authorAssociation\": \"NONE\"}, {\"author\": \"eironman3\", \"count\": 1, \"authorAssociation\": \"NONE\"}, {\"author\": \"routineCode\", \"count\": 1, \"authorAssociation\": \"NONE\"}, {\"author\": \"R7President\", \"count\": 1, \"authorAssociation\": \"NONE\"}, {\"author\": \"patviafore-canonical\", \"count\": 1, \"authorAssociation\": \"CONTRIBUTOR\"}, {\"author\": \"alu96\", \"count\": 1, \"authorAssociation\": \"NONE\"}, {\"author\": \"maiermic\", \"count\": 1, \"authorAssociation\": \"NONE\"}, {\"author\": \"bernhard-42\", \"count\": 1, \"authorAssociation\": \"NONE\"}, {\"author\": \"dakenblack\", \"count\": 1, \"authorAssociation\": \"NONE\"}, {\"author\": \"MordicusEtCubitus\", \"count\": 1, \"authorAssociation\": \"NONE\"}, {\"author\": \"jeanmonet\", \"count\": 1, \"authorAssociation\": \"NONE\"}, {\"author\": \"mwcraig\", \"count\": 1, \"authorAssociation\": \"CONTRIBUTOR\"}]}}, {\"mode\": \"vega-lite\"});\n",
       "</script>"
      ],
      "text/plain": [
       "alt.HConcatChart(...)"
      ]
     },
     "execution_count": 22,
     "metadata": {},
     "output_type": "execute_result"
    }
   ],
   "source": [
    "n_plot = 50\n",
    "charts = []\n",
    "for ii, (iorg, idata) in enumerate(commentors.groupby(['org'])):\n",
    "    title = f\"Top {n_plot} commentors for {iorg} in the last {n_days} days\"\n",
    "    idata = idata.groupby('author', as_index=False).agg({'count': 'sum', 'authorAssociation': 'first'})\n",
    "    idata = idata.sort_values('count', ascending=False).head(n_plot)\n",
    "    ch = alt.Chart(data=idata.head(n_plot), title=title).mark_bar().encode(\n",
    "        x='author',\n",
    "        y='count',\n",
    "        color=alt.Color('authorAssociation', scale=alt.Scale(domain=author_types, range=author_colors))\n",
    "    )\n",
    "    charts.append(ch)\n",
    "alt.hconcat(*charts)"
   ]
  },
  {
   "cell_type": "markdown",
   "id": "critical-breakdown",
   "metadata": {
    "papermill": {
     "duration": 0.044117,
     "end_time": "2021-02-16T01:39:18.656566",
     "exception": false,
     "start_time": "2021-02-16T01:39:18.612449",
     "status": "completed"
    },
    "tags": []
   },
   "source": [
    "## First responders\n",
    "\n",
    "First responders are the first people to respond to a new issue in one of the repositories.\n",
    "The following plots show first responders for recently-created issues."
   ]
  },
  {
   "cell_type": "code",
   "execution_count": 23,
   "id": "oriented-rocket",
   "metadata": {
    "execution": {
     "iopub.execute_input": "2021-02-16T01:39:18.753329Z",
     "iopub.status.busy": "2021-02-16T01:39:18.752806Z",
     "iopub.status.idle": "2021-02-16T01:39:18.871431Z",
     "shell.execute_reply": "2021-02-16T01:39:18.870940Z"
    },
    "papermill": {
     "duration": 0.1693,
     "end_time": "2021-02-16T01:39:18.871598",
     "exception": false,
     "start_time": "2021-02-16T01:39:18.702298",
     "status": "completed"
    },
    "tags": [
     "remove_cell"
    ]
   },
   "outputs": [],
   "source": [
    "first_comments = []\n",
    "for (org, repo, issue_id), i_comments in comments.groupby(['org', 'repo', 'id']):\n",
    "    ix_min = pd.to_datetime(i_comments['createdAt']).idxmin()\n",
    "    first_comment = i_comments.loc[ix_min]\n",
    "    if isinstance(first_comment, pd.DataFrame):\n",
    "        first_comment = first_comment.iloc[0]\n",
    "    first_comments.append(first_comment)\n",
    "first_comments = pd.concat(first_comments, axis=1).T\n",
    "\n",
    "# Make up counts for viz\n",
    "first_responder_counts = first_comments.groupby(['org', 'author', 'authorAssociation'], as_index=False).\\\n",
    "    count().rename(columns={'id': 'n_first_responses'}).sort_values(['org', 'n_first_responses'], ascending=False)\n"
   ]
  },
  {
   "cell_type": "code",
   "execution_count": 24,
   "id": "finished-saver",
   "metadata": {
    "execution": {
     "iopub.execute_input": "2021-02-16T01:39:18.960412Z",
     "iopub.status.busy": "2021-02-16T01:39:18.959914Z",
     "iopub.status.idle": "2021-02-16T01:39:18.982164Z",
     "shell.execute_reply": "2021-02-16T01:39:18.982616Z"
    },
    "papermill": {
     "duration": 0.06833,
     "end_time": "2021-02-16T01:39:18.982751",
     "exception": false,
     "start_time": "2021-02-16T01:39:18.914421",
     "status": "completed"
    },
    "tags": [
     "hide_input"
    ]
   },
   "outputs": [
    {
     "data": {
      "text/html": [
       "\n",
       "<div id=\"altair-viz-4840c771d01942a7ac2dc9d244579102\"></div>\n",
       "<script type=\"text/javascript\">\n",
       "  (function(spec, embedOpt){\n",
       "    let outputDiv = document.currentScript.previousElementSibling;\n",
       "    if (outputDiv.id !== \"altair-viz-4840c771d01942a7ac2dc9d244579102\") {\n",
       "      outputDiv = document.getElementById(\"altair-viz-4840c771d01942a7ac2dc9d244579102\");\n",
       "    }\n",
       "    const paths = {\n",
       "      \"vega\": \"https://cdn.jsdelivr.net/npm//vega@5?noext\",\n",
       "      \"vega-lib\": \"https://cdn.jsdelivr.net/npm//vega-lib?noext\",\n",
       "      \"vega-lite\": \"https://cdn.jsdelivr.net/npm//vega-lite@4.8.1?noext\",\n",
       "      \"vega-embed\": \"https://cdn.jsdelivr.net/npm//vega-embed@6?noext\",\n",
       "    };\n",
       "\n",
       "    function loadScript(lib) {\n",
       "      return new Promise(function(resolve, reject) {\n",
       "        var s = document.createElement('script');\n",
       "        s.src = paths[lib];\n",
       "        s.async = true;\n",
       "        s.onload = () => resolve(paths[lib]);\n",
       "        s.onerror = () => reject(`Error loading script: ${paths[lib]}`);\n",
       "        document.getElementsByTagName(\"head\")[0].appendChild(s);\n",
       "      });\n",
       "    }\n",
       "\n",
       "    function showError(err) {\n",
       "      outputDiv.innerHTML = `<div class=\"error\" style=\"color:red;\">${err}</div>`;\n",
       "      throw err;\n",
       "    }\n",
       "\n",
       "    function displayChart(vegaEmbed) {\n",
       "      vegaEmbed(outputDiv, spec, embedOpt)\n",
       "        .catch(err => showError(`Javascript Error: ${err.message}<br>This usually means there's a typo in your chart specification. See the javascript console for the full traceback.`));\n",
       "    }\n",
       "\n",
       "    if(typeof define === \"function\" && define.amd) {\n",
       "      requirejs.config({paths});\n",
       "      require([\"vega-embed\"], displayChart, err => showError(`Error loading script: ${err.message}`));\n",
       "    } else if (typeof vegaEmbed === \"function\") {\n",
       "      displayChart(vegaEmbed);\n",
       "    } else {\n",
       "      loadScript(\"vega\")\n",
       "        .then(() => loadScript(\"vega-lite\"))\n",
       "        .then(() => loadScript(\"vega-embed\"))\n",
       "        .catch(showError)\n",
       "        .then(() => displayChart(vegaEmbed));\n",
       "    }\n",
       "  })({\"config\": {\"axisLeft\": {\"labelFontSize\": 15}, \"axisBottom\": {\"labelFontSize\": 15}}, \"data\": {\"name\": \"data-354136d73be18bebb6218cfad8d01363\"}, \"mark\": \"bar\", \"encoding\": {\"color\": {\"type\": \"nominal\", \"field\": \"authorAssociation\", \"scale\": {\"domain\": [\"MEMBER\", \"CONTRIBUTOR\", \"COLLABORATOR\", \"NONE\"], \"range\": [\"rgb(211.82745098039214, 211.82745098039214, 211.82745098039214)\", \"rgb(166.98562091503268, 229.89803921568628, 166.98562091503268)\", \"rgb(96.37647058823529, 192.75294117647059, 96.37647058823529)\", \"rgb(0.0, 100.3921568627451, 0.0)\"]}}, \"x\": {\"type\": \"nominal\", \"field\": \"author\"}, \"y\": {\"type\": \"quantitative\", \"field\": \"n_first_responses\"}}, \"title\": \"Top 50 first responders for jupyter-widgets in the last 60 days\", \"$schema\": \"https://vega.github.io/schema/vega-lite/v4.8.1.json\", \"datasets\": {\"data-354136d73be18bebb6218cfad8d01363\": [{\"author\": \"jasongrout\", \"n_first_responses\": 29, \"authorAssociation\": \"MEMBER\"}, {\"author\": \"dependabot\", \"n_first_responses\": 15, \"authorAssociation\": \"NONE\"}, {\"author\": \"vidartf\", \"n_first_responses\": 11, \"authorAssociation\": \"MEMBER\"}, {\"author\": \"martinRenou\", \"n_first_responses\": 9, \"authorAssociation\": \"MEMBER\"}, {\"author\": \"willingc\", \"n_first_responses\": 7, \"authorAssociation\": \"CONTRIBUTOR\"}, {\"author\": \"davidbrochart\", \"n_first_responses\": 7, \"authorAssociation\": \"MEMBER\"}, {\"author\": \"jtpio\", \"n_first_responses\": 7, \"authorAssociation\": \"MEMBER\"}, {\"author\": \"ianhi\", \"n_first_responses\": 5, \"authorAssociation\": \"CONTRIBUTOR\"}, {\"author\": \"SylvainCorlay\", \"n_first_responses\": 5, \"authorAssociation\": \"MEMBER\"}, {\"author\": \"maartenbreddels\", \"n_first_responses\": 3, \"authorAssociation\": \"MEMBER\"}, {\"author\": \"deeplook\", \"n_first_responses\": 2, \"authorAssociation\": \"CONTRIBUTOR\"}, {\"author\": \"amirebrahimi\", \"n_first_responses\": 2, \"authorAssociation\": \"NONE\"}, {\"author\": \"giswqs\", \"n_first_responses\": 2, \"authorAssociation\": \"CONTRIBUTOR\"}, {\"author\": \"bollwyvl\", \"n_first_responses\": 1, \"authorAssociation\": \"NONE\"}, {\"author\": \"sackh\", \"n_first_responses\": 1, \"authorAssociation\": \"CONTRIBUTOR\"}, {\"author\": \"MordicusEtCubitus\", \"n_first_responses\": 1, \"authorAssociation\": \"NONE\"}, {\"author\": \"tho-asterist\", \"n_first_responses\": 1, \"authorAssociation\": \"NONE\"}, {\"author\": \"taknev83\", \"n_first_responses\": 1, \"authorAssociation\": \"NONE\"}, {\"author\": \"sterlinm\", \"n_first_responses\": 1, \"authorAssociation\": \"NONE\"}, {\"author\": \"scimax\", \"n_first_responses\": 1, \"authorAssociation\": \"NONE\"}, {\"author\": \"maiermic\", \"n_first_responses\": 1, \"authorAssociation\": \"NONE\"}, {\"author\": \"rmorshea\", \"n_first_responses\": 1, \"authorAssociation\": \"NONE\"}, {\"author\": \"R7President\", \"n_first_responses\": 1, \"authorAssociation\": \"NONE\"}, {\"author\": \"choldgraf\", \"n_first_responses\": 1, \"authorAssociation\": \"NONE\"}, {\"author\": \"alu96\", \"n_first_responses\": 1, \"authorAssociation\": \"NONE\"}, {\"author\": \"MicaelJarniac\", \"n_first_responses\": 1, \"authorAssociation\": \"CONTRIBUTOR\"}, {\"author\": \"anant-k-singh\", \"n_first_responses\": 1, \"authorAssociation\": \"NONE\"}, {\"author\": \"MSeal\", \"n_first_responses\": 1, \"authorAssociation\": \"NONE\"}]}}, {\"mode\": \"vega-lite\"});\n",
       "</script>"
      ],
      "text/plain": [
       "alt.Chart(...)"
      ]
     },
     "execution_count": 24,
     "metadata": {},
     "output_type": "execute_result"
    }
   ],
   "source": [
    "n_plot = 50\n",
    "\n",
    "title = f\"Top {n_plot} first responders for {github_org} in the last {n_days} days\"\n",
    "idata = first_responder_counts.groupby('author', as_index=False).agg({'n_first_responses': 'sum', 'authorAssociation': 'first'})\n",
    "idata = idata.sort_values('n_first_responses', ascending=False).head(n_plot)\n",
    "ch = alt.Chart(data=idata.head(n_plot), title=title).mark_bar().encode(\n",
    "    x='author',\n",
    "    y='n_first_responses',\n",
    "    color=alt.Color('authorAssociation', scale=alt.Scale(domain=author_types, range=author_colors))\n",
    ")\n",
    "ch"
   ]
  },
  {
   "cell_type": "markdown",
   "id": "worst-course",
   "metadata": {
    "papermill": {
     "duration": 0.042121,
     "end_time": "2021-02-16T01:39:19.068814",
     "exception": false,
     "start_time": "2021-02-16T01:39:19.026693",
     "status": "completed"
    },
    "tags": []
   },
   "source": [
    "## Recent activity\n",
    "\n",
    "### A list of merged PRs by project\n",
    "\n",
    "Below is a tabbed readout of recently-merged PRs. Check out the title to get an idea for what they\n",
    "implemented, and be sure to thank the PR author for their hard work!"
   ]
  },
  {
   "cell_type": "code",
   "execution_count": 25,
   "id": "insured-aerospace",
   "metadata": {
    "execution": {
     "iopub.execute_input": "2021-02-16T01:39:19.187581Z",
     "iopub.status.busy": "2021-02-16T01:39:19.182668Z",
     "iopub.status.idle": "2021-02-16T01:39:19.270851Z",
     "shell.execute_reply": "2021-02-16T01:39:19.259490Z"
    },
    "papermill": {
     "duration": 0.150167,
     "end_time": "2021-02-16T01:39:19.270991",
     "exception": false,
     "start_time": "2021-02-16T01:39:19.120824",
     "status": "completed"
    },
    "tags": [
     "hide_input"
    ]
   },
   "outputs": [
    {
     "data": {
      "application/vnd.jupyter.widget-view+json": {
       "model_id": "e3c1ad54494c4d00a012565a3bafdedf",
       "version_major": 2,
       "version_minor": 0
      },
      "text/plain": [
       "Tab(children=(HTML(value='<h4>Closed PRs for repo: <a href=\"https://github.com/jupyter-widgets/ipyleaflet\">jup…"
      ]
     },
     "metadata": {},
     "output_type": "display_data"
    }
   ],
   "source": [
    "tabs = widgets.Tab(children=[])\n",
    "\n",
    "for ii, ((org, repo), imerged) in enumerate(merged.query(\"repo in @use_repos\").groupby(['org', 'repo'])):\n",
    "    merged_by = {}\n",
    "    pr_by = {}\n",
    "    issue_md = []\n",
    "    issue_md.append(f\"#### Closed PRs for repo: [{org}/{repo}](https://github.com/{github_org}/{repo})\")\n",
    "    issue_md.append(\"\")\n",
    "    issue_md.append(f\"##### \")\n",
    "\n",
    "    for _, ipr in imerged.iterrows():\n",
    "        user_name = ipr['author']\n",
    "        user_url = author_url(user_name)\n",
    "        pr_number = ipr['number']\n",
    "        pr_html = ipr['url']\n",
    "        pr_title = ipr['title']\n",
    "        pr_closedby = ipr['mergedBy']\n",
    "        pr_closedby_url = f\"https://github.com/{pr_closedby}\"\n",
    "        if user_name not in pr_by:\n",
    "            pr_by[user_name] = 1\n",
    "        else:\n",
    "            pr_by[user_name] += 1\n",
    "\n",
    "        if pr_closedby not in merged_by:\n",
    "            merged_by[pr_closedby] = 1\n",
    "        else:\n",
    "            merged_by[pr_closedby] += 1\n",
    "        text = f\"* [(#{pr_number})]({pr_html}): _{pr_title}_ by **[@{user_name}]({user_url})** merged by **[@{pr_closedby}]({pr_closedby_url})**\"\n",
    "        issue_md.append(text)\n",
    "    \n",
    "    issue_md.append('')\n",
    "    markdown_html = markdown('\\n'.join(issue_md))\n",
    "\n",
    "    children = list(tabs.children)\n",
    "    children.append(HTML(markdown_html))\n",
    "    tabs.children = tuple(children)\n",
    "    tabs.set_title(ii, repo)\n",
    "tabs"
   ]
  },
  {
   "cell_type": "markdown",
   "id": "complimentary-concrete",
   "metadata": {
    "papermill": {
     "duration": 0.042766,
     "end_time": "2021-02-16T01:39:19.358260",
     "exception": false,
     "start_time": "2021-02-16T01:39:19.315494",
     "status": "completed"
    },
    "tags": []
   },
   "source": [
    "### A list of recent issues\n",
    "\n",
    "Below is a list of issues with recent activity in each repository. If they seem of interest\n",
    "to you, click on their links and jump in to participate!"
   ]
  },
  {
   "cell_type": "code",
   "execution_count": 26,
   "id": "incomplete-alabama",
   "metadata": {
    "execution": {
     "iopub.execute_input": "2021-02-16T01:39:19.450289Z",
     "iopub.status.busy": "2021-02-16T01:39:19.449664Z",
     "iopub.status.idle": "2021-02-16T01:39:19.457765Z",
     "shell.execute_reply": "2021-02-16T01:39:19.457324Z"
    },
    "papermill": {
     "duration": 0.057837,
     "end_time": "2021-02-16T01:39:19.457886",
     "exception": false,
     "start_time": "2021-02-16T01:39:19.400049",
     "status": "completed"
    },
    "tags": [
     "remove_cell"
    ]
   },
   "outputs": [],
   "source": [
    "# Add comment count data to issues and PRs\n",
    "comment_counts = (\n",
    "    comments\n",
    "    .query(\"createdAt > @start_date and createdAt < @stop_date\")\n",
    "    .groupby(['org', 'repo', 'id'])\n",
    "    .count().iloc[:, 0].to_frame()\n",
    ")\n",
    "comment_counts.columns = ['n_comments']\n",
    "comment_counts = comment_counts.reset_index()"
   ]
  },
  {
   "cell_type": "code",
   "execution_count": 27,
   "id": "processed-looking",
   "metadata": {
    "execution": {
     "iopub.execute_input": "2021-02-16T01:39:19.599815Z",
     "iopub.status.busy": "2021-02-16T01:39:19.575904Z",
     "iopub.status.idle": "2021-02-16T01:39:19.762456Z",
     "shell.execute_reply": "2021-02-16T01:39:19.737733Z"
    },
    "papermill": {
     "duration": 0.258594,
     "end_time": "2021-02-16T01:39:19.762607",
     "exception": false,
     "start_time": "2021-02-16T01:39:19.504013",
     "status": "completed"
    },
    "tags": [
     "hide_input"
    ],
    "toc-hr-collapsed": false
   },
   "outputs": [
    {
     "data": {
      "text/markdown": [
       "Here are the top 5 active issues in each repository in the last 60 days"
      ],
      "text/plain": [
       "<IPython.core.display.Markdown object>"
      ]
     },
     "metadata": {},
     "output_type": "display_data"
    },
    {
     "data": {
      "application/vnd.jupyter.widget-view+json": {
       "model_id": "d3331c3f353b4270afb5a8d33f6d72c4",
       "version_major": 2,
       "version_minor": 0
      },
      "text/plain": [
       "Tab(children=(HTML(value='<h5><a href=\"https://github.com/jupyter-widgets/ipyleaflet\">jupyter-widgets/ipyleafl…"
      ]
     },
     "metadata": {},
     "output_type": "display_data"
    }
   ],
   "source": [
    "n_plot = 5\n",
    "tabs = widgets.Tab(children=[])\n",
    "\n",
    "for ii, (repo, i_issues) in enumerate(comment_counts.query(\"repo in @use_repos\").groupby('repo')):\n",
    "    \n",
    "    issue_md = []\n",
    "    issue_md.append(\"\")\n",
    "    issue_md.append(f\"##### [{github_org}/{repo}](https://github.com/{github_org}/{repo})\")\n",
    "\n",
    "    top_issues = i_issues.sort_values('n_comments', ascending=False).head(n_plot)\n",
    "    top_issue_list = pd.merge(issues, top_issues, left_on=['org', 'repo', 'id'], right_on=['org', 'repo', 'id'])\n",
    "    for _, issue in top_issue_list.sort_values('n_comments', ascending=False).head(n_plot).iterrows():\n",
    "        user_name = issue['author']\n",
    "        user_url = author_url(user_name)\n",
    "        issue_number = issue['number']\n",
    "        issue_html = issue['url']\n",
    "        issue_title = issue['title']\n",
    "\n",
    "        text = f\"* [(#{issue_number})]({issue_html}): _{issue_title}_ by **[@{user_name}]({user_url})**\"\n",
    "        issue_md.append(text)\n",
    "\n",
    "    issue_md.append('')\n",
    "    md_html = HTML(markdown('\\n'.join(issue_md)))\n",
    "\n",
    "    children = list(tabs.children)\n",
    "    children.append(HTML(markdown('\\n'.join(issue_md))))\n",
    "    tabs.children = tuple(children)\n",
    "    tabs.set_title(ii, repo)\n",
    "    \n",
    "display(Markdown(f\"Here are the top {n_plot} active issues in each repository in the last {n_days} days\"))\n",
    "display(tabs)"
   ]
  }
 ],
 "metadata": {
  "kernelspec": {
   "display_name": "Python 3",
   "language": "python",
   "name": "python3"
  },
  "language_info": {
   "codemirror_mode": {
    "name": "ipython",
    "version": 3
   },
   "file_extension": ".py",
   "mimetype": "text/x-python",
   "name": "python",
   "nbconvert_exporter": "python",
   "pygments_lexer": "ipython3",
   "version": "3.7.9"
  },
  "papermill": {
   "default_parameters": {},
   "duration": 16.954051,
   "end_time": "2021-02-16T01:39:20.219611",
   "environment_variables": {},
   "exception": null,
   "input_path": "./template.ipynb",
   "output_path": "book/jupyter-widgets.ipynb",
   "parameters": {
    "github_org": "jupyter-widgets",
    "n_days": 60
   },
   "start_time": "2021-02-16T01:39:03.265560",
   "version": "2.3.2"
  },
  "widgets": {
   "application/vnd.jupyter.widget-state+json": {
    "state": {
     "0163e93b023a4b6a843dce4c49df2b88": {
      "model_module": "@jupyter-widgets/controls",
      "model_module_version": "1.5.0",
      "model_name": "DescriptionStyleModel",
      "state": {
       "_model_module": "@jupyter-widgets/controls",
       "_model_module_version": "1.5.0",
       "_model_name": "DescriptionStyleModel",
       "_view_count": null,
       "_view_module": "@jupyter-widgets/base",
       "_view_module_version": "1.2.0",
       "_view_name": "StyleView",
       "description_width": ""
      }
     },
     "01a2c836097e4381866c324dd7f1b7bd": {
      "model_module": "@jupyter-widgets/controls",
      "model_module_version": "1.5.0",
      "model_name": "DescriptionStyleModel",
      "state": {
       "_model_module": "@jupyter-widgets/controls",
       "_model_module_version": "1.5.0",
       "_model_name": "DescriptionStyleModel",
       "_view_count": null,
       "_view_module": "@jupyter-widgets/base",
       "_view_module_version": "1.2.0",
       "_view_name": "StyleView",
       "description_width": ""
      }
     },
     "020a317adc8544f6baa4e045025e7718": {
      "model_module": "@jupyter-widgets/controls",
      "model_module_version": "1.5.0",
      "model_name": "HBoxModel",
      "state": {
       "_dom_classes": [],
       "_model_module": "@jupyter-widgets/controls",
       "_model_module_version": "1.5.0",
       "_model_name": "HBoxModel",
       "_view_count": null,
       "_view_module": "@jupyter-widgets/controls",
       "_view_module_version": "1.5.0",
       "_view_name": "HBoxView",
       "box_style": "",
       "children": [
        "IPY_MODEL_a66848d32b3e4fdc9f500e59dbd83ac0",
        "IPY_MODEL_f061418b36334909b505d91a52a7a6c9",
        "IPY_MODEL_cf2aa7ca30f14c6e86ca41bd1779b421"
       ],
       "layout": "IPY_MODEL_ba4d02e2f39049d0a9a1ac6d166804a1"
      }
     },
     "084af8fbc85d4ad98c0544afcd10a922": {
      "model_module": "@jupyter-widgets/base",
      "model_module_version": "1.2.0",
      "model_name": "LayoutModel",
      "state": {
       "_model_module": "@jupyter-widgets/base",
       "_model_module_version": "1.2.0",
       "_model_name": "LayoutModel",
       "_view_count": null,
       "_view_module": "@jupyter-widgets/base",
       "_view_module_version": "1.2.0",
       "_view_name": "LayoutView",
       "align_content": null,
       "align_items": null,
       "align_self": null,
       "border": null,
       "bottom": null,
       "display": null,
       "flex": null,
       "flex_flow": null,
       "grid_area": null,
       "grid_auto_columns": null,
       "grid_auto_flow": null,
       "grid_auto_rows": null,
       "grid_column": null,
       "grid_gap": null,
       "grid_row": null,
       "grid_template_areas": null,
       "grid_template_columns": null,
       "grid_template_rows": null,
       "height": null,
       "justify_content": null,
       "justify_items": null,
       "left": null,
       "margin": null,
       "max_height": null,
       "max_width": null,
       "min_height": null,
       "min_width": null,
       "object_fit": null,
       "object_position": null,
       "order": null,
       "overflow": null,
       "overflow_x": null,
       "overflow_y": null,
       "padding": null,
       "right": null,
       "top": null,
       "visibility": null,
       "width": null
      }
     },
     "0ab92666bf5d445ba411cb6079b3db81": {
      "model_module": "@jupyter-widgets/base",
      "model_module_version": "1.2.0",
      "model_name": "LayoutModel",
      "state": {
       "_model_module": "@jupyter-widgets/base",
       "_model_module_version": "1.2.0",
       "_model_name": "LayoutModel",
       "_view_count": null,
       "_view_module": "@jupyter-widgets/base",
       "_view_module_version": "1.2.0",
       "_view_name": "LayoutView",
       "align_content": null,
       "align_items": null,
       "align_self": null,
       "border": null,
       "bottom": null,
       "display": null,
       "flex": null,
       "flex_flow": null,
       "grid_area": null,
       "grid_auto_columns": null,
       "grid_auto_flow": null,
       "grid_auto_rows": null,
       "grid_column": null,
       "grid_gap": null,
       "grid_row": null,
       "grid_template_areas": null,
       "grid_template_columns": null,
       "grid_template_rows": null,
       "height": null,
       "justify_content": null,
       "justify_items": null,
       "left": null,
       "margin": null,
       "max_height": null,
       "max_width": null,
       "min_height": null,
       "min_width": null,
       "object_fit": null,
       "object_position": null,
       "order": null,
       "overflow": null,
       "overflow_x": null,
       "overflow_y": null,
       "padding": null,
       "right": null,
       "top": null,
       "visibility": null,
       "width": null
      }
     },
     "0ec3dd36767f4dc2ac7785d7bc484e3d": {
      "model_module": "@jupyter-widgets/controls",
      "model_module_version": "1.5.0",
      "model_name": "DescriptionStyleModel",
      "state": {
       "_model_module": "@jupyter-widgets/controls",
       "_model_module_version": "1.5.0",
       "_model_name": "DescriptionStyleModel",
       "_view_count": null,
       "_view_module": "@jupyter-widgets/base",
       "_view_module_version": "1.2.0",
       "_view_name": "StyleView",
       "description_width": ""
      }
     },
     "11a108bf9cce48efab1bbed61aad78da": {
      "model_module": "@jupyter-widgets/controls",
      "model_module_version": "1.5.0",
      "model_name": "DescriptionStyleModel",
      "state": {
       "_model_module": "@jupyter-widgets/controls",
       "_model_module_version": "1.5.0",
       "_model_name": "DescriptionStyleModel",
       "_view_count": null,
       "_view_module": "@jupyter-widgets/base",
       "_view_module_version": "1.2.0",
       "_view_name": "StyleView",
       "description_width": ""
      }
     },
     "1303aac7981a49558ca51487b6810ab5": {
      "model_module": "@jupyter-widgets/base",
      "model_module_version": "1.2.0",
      "model_name": "LayoutModel",
      "state": {
       "_model_module": "@jupyter-widgets/base",
       "_model_module_version": "1.2.0",
       "_model_name": "LayoutModel",
       "_view_count": null,
       "_view_module": "@jupyter-widgets/base",
       "_view_module_version": "1.2.0",
       "_view_name": "LayoutView",
       "align_content": null,
       "align_items": null,
       "align_self": null,
       "border": null,
       "bottom": null,
       "display": null,
       "flex": null,
       "flex_flow": null,
       "grid_area": null,
       "grid_auto_columns": null,
       "grid_auto_flow": null,
       "grid_auto_rows": null,
       "grid_column": null,
       "grid_gap": null,
       "grid_row": null,
       "grid_template_areas": null,
       "grid_template_columns": null,
       "grid_template_rows": null,
       "height": null,
       "justify_content": null,
       "justify_items": null,
       "left": null,
       "margin": null,
       "max_height": null,
       "max_width": null,
       "min_height": null,
       "min_width": null,
       "object_fit": null,
       "object_position": null,
       "order": null,
       "overflow": null,
       "overflow_x": null,
       "overflow_y": null,
       "padding": null,
       "right": null,
       "top": null,
       "visibility": null,
       "width": null
      }
     },
     "1fa5429e6f2a424982d541702b871b33": {
      "model_module": "@jupyter-widgets/controls",
      "model_module_version": "1.5.0",
      "model_name": "HTMLModel",
      "state": {
       "_dom_classes": [],
       "_model_module": "@jupyter-widgets/controls",
       "_model_module_version": "1.5.0",
       "_model_name": "HTMLModel",
       "_view_count": null,
       "_view_module": "@jupyter-widgets/controls",
       "_view_module_version": "1.5.0",
       "_view_name": "HTMLView",
       "description": "",
       "description_tooltip": null,
       "layout": "IPY_MODEL_22b7b5d410f5457a9cb541b94c792313",
       "placeholder": "​",
       "style": "IPY_MODEL_94be2b77233c410894e159abd0e8ac46",
       "value": "<h5><a href=\"https://github.com/jupyter-widgets/widget-cookiecutter\">jupyter-widgets/widget-cookiecutter</a></h5>\n<ul>\n<li><a href=\"https://github.com/jupyter-widgets/widget-cookiecutter/issues/83\">(#83)</a>: <em>Support for JLab 3.x ?</em> by <strong><a href=\"https://github.com/dou-du\">@dou-du</a></strong></li>\n<li><a href=\"https://github.com/jupyter-widgets/widget-cookiecutter/issues/82\">(#82)</a>: <em>\"Not registered as widget module\" error in JupyterLab</em> by <strong><a href=\"https://github.com/rmorshea\">@rmorshea</a></strong></li>\n</ul>"
      }
     },
     "210e5f96bb18477dbc8663af3b190dcc": {
      "model_module": "@jupyter-widgets/controls",
      "model_module_version": "1.5.0",
      "model_name": "DescriptionStyleModel",
      "state": {
       "_model_module": "@jupyter-widgets/controls",
       "_model_module_version": "1.5.0",
       "_model_name": "DescriptionStyleModel",
       "_view_count": null,
       "_view_module": "@jupyter-widgets/base",
       "_view_module_version": "1.2.0",
       "_view_name": "StyleView",
       "description_width": ""
      }
     },
     "22b7b5d410f5457a9cb541b94c792313": {
      "model_module": "@jupyter-widgets/base",
      "model_module_version": "1.2.0",
      "model_name": "LayoutModel",
      "state": {
       "_model_module": "@jupyter-widgets/base",
       "_model_module_version": "1.2.0",
       "_model_name": "LayoutModel",
       "_view_count": null,
       "_view_module": "@jupyter-widgets/base",
       "_view_module_version": "1.2.0",
       "_view_name": "LayoutView",
       "align_content": null,
       "align_items": null,
       "align_self": null,
       "border": null,
       "bottom": null,
       "display": null,
       "flex": null,
       "flex_flow": null,
       "grid_area": null,
       "grid_auto_columns": null,
       "grid_auto_flow": null,
       "grid_auto_rows": null,
       "grid_column": null,
       "grid_gap": null,
       "grid_row": null,
       "grid_template_areas": null,
       "grid_template_columns": null,
       "grid_template_rows": null,
       "height": null,
       "justify_content": null,
       "justify_items": null,
       "left": null,
       "margin": null,
       "max_height": null,
       "max_width": null,
       "min_height": null,
       "min_width": null,
       "object_fit": null,
       "object_position": null,
       "order": null,
       "overflow": null,
       "overflow_x": null,
       "overflow_y": null,
       "padding": null,
       "right": null,
       "top": null,
       "visibility": null,
       "width": null
      }
     },
     "23fe11e5726d4a4aac28b75affbcc1ef": {
      "model_module": "@jupyter-widgets/base",
      "model_module_version": "1.2.0",
      "model_name": "LayoutModel",
      "state": {
       "_model_module": "@jupyter-widgets/base",
       "_model_module_version": "1.2.0",
       "_model_name": "LayoutModel",
       "_view_count": null,
       "_view_module": "@jupyter-widgets/base",
       "_view_module_version": "1.2.0",
       "_view_name": "LayoutView",
       "align_content": null,
       "align_items": null,
       "align_self": null,
       "border": null,
       "bottom": null,
       "display": null,
       "flex": null,
       "flex_flow": null,
       "grid_area": null,
       "grid_auto_columns": null,
       "grid_auto_flow": null,
       "grid_auto_rows": null,
       "grid_column": null,
       "grid_gap": null,
       "grid_row": null,
       "grid_template_areas": null,
       "grid_template_columns": null,
       "grid_template_rows": null,
       "height": null,
       "justify_content": null,
       "justify_items": null,
       "left": null,
       "margin": null,
       "max_height": null,
       "max_width": null,
       "min_height": null,
       "min_width": null,
       "object_fit": null,
       "object_position": null,
       "order": null,
       "overflow": null,
       "overflow_x": null,
       "overflow_y": null,
       "padding": null,
       "right": null,
       "top": null,
       "visibility": null,
       "width": null
      }
     },
     "24414a683f6543f594994b5a692cef3f": {
      "model_module": "@jupyter-widgets/controls",
      "model_module_version": "1.5.0",
      "model_name": "DescriptionStyleModel",
      "state": {
       "_model_module": "@jupyter-widgets/controls",
       "_model_module_version": "1.5.0",
       "_model_name": "DescriptionStyleModel",
       "_view_count": null,
       "_view_module": "@jupyter-widgets/base",
       "_view_module_version": "1.2.0",
       "_view_name": "StyleView",
       "description_width": ""
      }
     },
     "2575bc8b10a34cffa7a14e643e9a2d4f": {
      "model_module": "@jupyter-widgets/base",
      "model_module_version": "1.2.0",
      "model_name": "LayoutModel",
      "state": {
       "_model_module": "@jupyter-widgets/base",
       "_model_module_version": "1.2.0",
       "_model_name": "LayoutModel",
       "_view_count": null,
       "_view_module": "@jupyter-widgets/base",
       "_view_module_version": "1.2.0",
       "_view_name": "LayoutView",
       "align_content": null,
       "align_items": null,
       "align_self": null,
       "border": null,
       "bottom": null,
       "display": null,
       "flex": null,
       "flex_flow": null,
       "grid_area": null,
       "grid_auto_columns": null,
       "grid_auto_flow": null,
       "grid_auto_rows": null,
       "grid_column": null,
       "grid_gap": null,
       "grid_row": null,
       "grid_template_areas": null,
       "grid_template_columns": null,
       "grid_template_rows": null,
       "height": null,
       "justify_content": null,
       "justify_items": null,
       "left": null,
       "margin": null,
       "max_height": null,
       "max_width": null,
       "min_height": null,
       "min_width": null,
       "object_fit": null,
       "object_position": null,
       "order": null,
       "overflow": null,
       "overflow_x": null,
       "overflow_y": null,
       "padding": null,
       "right": null,
       "top": null,
       "visibility": null,
       "width": null
      }
     },
     "275f5337c38a4c408aee31a0fc92f331": {
      "model_module": "@jupyter-widgets/controls",
      "model_module_version": "1.5.0",
      "model_name": "DescriptionStyleModel",
      "state": {
       "_model_module": "@jupyter-widgets/controls",
       "_model_module_version": "1.5.0",
       "_model_name": "DescriptionStyleModel",
       "_view_count": null,
       "_view_module": "@jupyter-widgets/base",
       "_view_module_version": "1.2.0",
       "_view_name": "StyleView",
       "description_width": ""
      }
     },
     "291ff784630144248b7a64ffe08a6017": {
      "model_module": "@jupyter-widgets/controls",
      "model_module_version": "1.5.0",
      "model_name": "HTMLModel",
      "state": {
       "_dom_classes": [],
       "_model_module": "@jupyter-widgets/controls",
       "_model_module_version": "1.5.0",
       "_model_name": "HTMLModel",
       "_view_count": null,
       "_view_module": "@jupyter-widgets/controls",
       "_view_module_version": "1.5.0",
       "_view_name": "HTMLView",
       "description": "",
       "description_tooltip": null,
       "layout": "IPY_MODEL_ae0bec29e7f44695bff7f2822618d078",
       "placeholder": "​",
       "style": "IPY_MODEL_c755abaac6074980b0e9d2a6a6df8862",
       "value": "<h5><a href=\"https://github.com/jupyter-widgets/team-compass\">jupyter-widgets/team-compass</a></h5>\n<ul>\n<li><a href=\"https://github.com/jupyter-widgets/team-compass/issues/2\">(#2)</a>: <em>Bi-weekly meeting time</em> by <strong><a href=\"https://github.com/jasongrout\">@jasongrout</a></strong></li>\n<li><a href=\"https://github.com/jupyter-widgets/team-compass/issues/1\">(#1)</a>: <em>2021 Jupyter Widgets Dev Meetings</em> by <strong><a href=\"https://github.com/jasongrout\">@jasongrout</a></strong></li>\n</ul>"
      }
     },
     "2b421972e2d84c639bac5da1bdf64e5c": {
      "model_module": "@jupyter-widgets/controls",
      "model_module_version": "1.5.0",
      "model_name": "HTMLModel",
      "state": {
       "_dom_classes": [],
       "_model_module": "@jupyter-widgets/controls",
       "_model_module_version": "1.5.0",
       "_model_name": "HTMLModel",
       "_view_count": null,
       "_view_module": "@jupyter-widgets/controls",
       "_view_module_version": "1.5.0",
       "_view_name": "HTMLView",
       "description": "",
       "description_tooltip": null,
       "layout": "IPY_MODEL_453d27cacbca4afdb8aaaec82127c6f4",
       "placeholder": "​",
       "style": "IPY_MODEL_81d6927fdb66477f8269c33385179f10",
       "value": "<h4>Closed PRs for repo: <a href=\"https://github.com/jupyter-widgets/ipyleaflet\">jupyter-widgets/ipyleaflet</a></h4>\n<h5></h5>\n<ul>\n<li><a href=\"https://github.com/jupyter-widgets/ipyleaflet/pull/788\">(#788)</a>: <em>Search control fix</em> by <strong><a href=\"https://github.com/sackh\">@sackh</a></strong> merged by <strong><a href=\"https://github.com/martinRenou\">@martinRenou</a></strong></li>\n<li><a href=\"https://github.com/jupyter-widgets/ipyleaflet/pull/781\">(#781)</a>: <em>Pin ipyleaflet=0.13.6</em> by <strong><a href=\"https://github.com/davidbrochart\">@davidbrochart</a></strong> merged by <strong><a href=\"https://github.com/davidbrochart\">@davidbrochart</a></strong></li>\n<li><a href=\"https://github.com/jupyter-widgets/ipyleaflet/pull/777\">(#777)</a>: <em>Use yarn and fix JupyterLab 2 support</em> by <strong><a href=\"https://github.com/martinRenou\">@martinRenou</a></strong> merged by <strong><a href=\"https://github.com/martinRenou\">@martinRenou</a></strong></li>\n<li><a href=\"https://github.com/jupyter-widgets/ipyleaflet/pull/772\">(#772)</a>: <em>Fix publicPath issue</em> by <strong><a href=\"https://github.com/martinRenou\">@martinRenou</a></strong> merged by <strong><a href=\"https://github.com/martinRenou\">@martinRenou</a></strong></li>\n<li><a href=\"https://github.com/jupyter-widgets/ipyleaflet/pull/771\">(#771)</a>: <em>Fix imports</em> by <strong><a href=\"https://github.com/martinRenou\">@martinRenou</a></strong> merged by <strong><a href=\"https://github.com/martinRenou\">@martinRenou</a></strong></li>\n<li><a href=\"https://github.com/jupyter-widgets/ipyleaflet/pull/714\">(#714)</a>: <em>JupyterLab 3 update</em> by <strong><a href=\"https://github.com/martinRenou\">@martinRenou</a></strong> merged by <strong><a href=\"https://github.com/martinRenou\">@martinRenou</a></strong></li>\n</ul>"
      }
     },
     "2c049b0f9cee446c9756d9f658d8d482": {
      "model_module": "@jupyter-widgets/controls",
      "model_module_version": "1.5.0",
      "model_name": "DescriptionStyleModel",
      "state": {
       "_model_module": "@jupyter-widgets/controls",
       "_model_module_version": "1.5.0",
       "_model_name": "DescriptionStyleModel",
       "_view_count": null,
       "_view_module": "@jupyter-widgets/base",
       "_view_module_version": "1.2.0",
       "_view_name": "StyleView",
       "description_width": ""
      }
     },
     "2c1d0d8858cb42d5b7e4e99c9b49c6bb": {
      "model_module": "@jupyter-widgets/base",
      "model_module_version": "1.2.0",
      "model_name": "LayoutModel",
      "state": {
       "_model_module": "@jupyter-widgets/base",
       "_model_module_version": "1.2.0",
       "_model_name": "LayoutModel",
       "_view_count": null,
       "_view_module": "@jupyter-widgets/base",
       "_view_module_version": "1.2.0",
       "_view_name": "LayoutView",
       "align_content": null,
       "align_items": null,
       "align_self": null,
       "border": null,
       "bottom": null,
       "display": null,
       "flex": null,
       "flex_flow": null,
       "grid_area": null,
       "grid_auto_columns": null,
       "grid_auto_flow": null,
       "grid_auto_rows": null,
       "grid_column": null,
       "grid_gap": null,
       "grid_row": null,
       "grid_template_areas": null,
       "grid_template_columns": null,
       "grid_template_rows": null,
       "height": null,
       "justify_content": null,
       "justify_items": null,
       "left": null,
       "margin": null,
       "max_height": null,
       "max_width": null,
       "min_height": null,
       "min_width": null,
       "object_fit": null,
       "object_position": null,
       "order": null,
       "overflow": null,
       "overflow_x": null,
       "overflow_y": null,
       "padding": null,
       "right": null,
       "top": null,
       "visibility": null,
       "width": null
      }
     },
     "2cbc8f9992e14348979718b5062787ed": {
      "model_module": "@jupyter-widgets/controls",
      "model_module_version": "1.5.0",
      "model_name": "HTMLModel",
      "state": {
       "_dom_classes": [],
       "_model_module": "@jupyter-widgets/controls",
       "_model_module_version": "1.5.0",
       "_model_name": "HTMLModel",
       "_view_count": null,
       "_view_module": "@jupyter-widgets/controls",
       "_view_module_version": "1.5.0",
       "_view_name": "HTMLView",
       "description": "",
       "description_tooltip": null,
       "layout": "IPY_MODEL_23fe11e5726d4a4aac28b75affbcc1ef",
       "placeholder": "​",
       "style": "IPY_MODEL_e6d62fa9f3294c9aaef74896e207e463",
       "value": "<h5><a href=\"https://github.com/jupyter-widgets/widget-ts-cookiecutter\">jupyter-widgets/widget-ts-cookiecutter</a></h5>\n<ul>\n<li><a href=\"https://github.com/jupyter-widgets/widget-ts-cookiecutter/issues/89\">(#89)</a>: <em>Example not working in Jupyter lab</em> by <strong><a href=\"https://github.com/willeppy\">@willeppy</a></strong></li>\n<li><a href=\"https://github.com/jupyter-widgets/widget-ts-cookiecutter/issues/87\">(#87)</a>: _Upgrade the packages in template _ by <strong><a href=\"https://github.com/anant-k-singh\">@anant-k-singh</a></strong></li>\n</ul>"
      }
     },
     "2d68dca37e0a450689734772d28298c8": {
      "model_module": "@jupyter-widgets/controls",
      "model_module_version": "1.5.0",
      "model_name": "HTMLModel",
      "state": {
       "_dom_classes": [],
       "_model_module": "@jupyter-widgets/controls",
       "_model_module_version": "1.5.0",
       "_model_name": "HTMLModel",
       "_view_count": null,
       "_view_module": "@jupyter-widgets/controls",
       "_view_module_version": "1.5.0",
       "_view_name": "HTMLView",
       "description": "",
       "description_tooltip": null,
       "layout": "IPY_MODEL_e7c7b01c9f794ec9a759f665c0f34aa0",
       "placeholder": "​",
       "style": "IPY_MODEL_d01b4f10228e4b46a170421a9807181e",
       "value": "<h5><a href=\"https://github.com/jupyter-widgets/pythreejs\">jupyter-widgets/pythreejs</a></h5>\n<ul>\n<li><a href=\"https://github.com/jupyter-widgets/pythreejs/issues/345\">(#345)</a>: <em>JupyterLab 3.x \"Model not found\" error</em> by <strong><a href=\"https://github.com/FuriouslyCurious\">@FuriouslyCurious</a></strong></li>\n<li><a href=\"https://github.com/jupyter-widgets/pythreejs/issues/344\">(#344)</a>: <em>uv not specified generates trait error in Picker</em> by <strong><a href=\"https://github.com/R7President\">@R7President</a></strong></li>\n</ul>"
      }
     },
     "337f5267f8654e78a3f6bebac078bbdd": {
      "model_module": "@jupyter-widgets/base",
      "model_module_version": "1.2.0",
      "model_name": "LayoutModel",
      "state": {
       "_model_module": "@jupyter-widgets/base",
       "_model_module_version": "1.2.0",
       "_model_name": "LayoutModel",
       "_view_count": null,
       "_view_module": "@jupyter-widgets/base",
       "_view_module_version": "1.2.0",
       "_view_name": "LayoutView",
       "align_content": null,
       "align_items": null,
       "align_self": null,
       "border": null,
       "bottom": null,
       "display": null,
       "flex": null,
       "flex_flow": null,
       "grid_area": null,
       "grid_auto_columns": null,
       "grid_auto_flow": null,
       "grid_auto_rows": null,
       "grid_column": null,
       "grid_gap": null,
       "grid_row": null,
       "grid_template_areas": null,
       "grid_template_columns": null,
       "grid_template_rows": null,
       "height": null,
       "justify_content": null,
       "justify_items": null,
       "left": null,
       "margin": null,
       "max_height": null,
       "max_width": null,
       "min_height": null,
       "min_width": null,
       "object_fit": null,
       "object_position": null,
       "order": null,
       "overflow": null,
       "overflow_x": null,
       "overflow_y": null,
       "padding": null,
       "right": null,
       "top": null,
       "visibility": null,
       "width": null
      }
     },
     "357e9a3399834b3a8814a359479c3060": {
      "model_module": "@jupyter-widgets/base",
      "model_module_version": "1.2.0",
      "model_name": "LayoutModel",
      "state": {
       "_model_module": "@jupyter-widgets/base",
       "_model_module_version": "1.2.0",
       "_model_name": "LayoutModel",
       "_view_count": null,
       "_view_module": "@jupyter-widgets/base",
       "_view_module_version": "1.2.0",
       "_view_name": "LayoutView",
       "align_content": null,
       "align_items": null,
       "align_self": null,
       "border": null,
       "bottom": null,
       "display": null,
       "flex": null,
       "flex_flow": null,
       "grid_area": null,
       "grid_auto_columns": null,
       "grid_auto_flow": null,
       "grid_auto_rows": null,
       "grid_column": null,
       "grid_gap": null,
       "grid_row": null,
       "grid_template_areas": null,
       "grid_template_columns": null,
       "grid_template_rows": null,
       "height": null,
       "justify_content": null,
       "justify_items": null,
       "left": null,
       "margin": null,
       "max_height": null,
       "max_width": null,
       "min_height": null,
       "min_width": null,
       "object_fit": null,
       "object_position": null,
       "order": null,
       "overflow": null,
       "overflow_x": null,
       "overflow_y": null,
       "padding": null,
       "right": null,
       "top": null,
       "visibility": null,
       "width": null
      }
     },
     "37a3bc0a1a0d4ab2a0b78c28fedeb8e1": {
      "model_module": "@jupyter-widgets/base",
      "model_module_version": "1.2.0",
      "model_name": "LayoutModel",
      "state": {
       "_model_module": "@jupyter-widgets/base",
       "_model_module_version": "1.2.0",
       "_model_name": "LayoutModel",
       "_view_count": null,
       "_view_module": "@jupyter-widgets/base",
       "_view_module_version": "1.2.0",
       "_view_name": "LayoutView",
       "align_content": null,
       "align_items": null,
       "align_self": null,
       "border": null,
       "bottom": null,
       "display": null,
       "flex": null,
       "flex_flow": null,
       "grid_area": null,
       "grid_auto_columns": null,
       "grid_auto_flow": null,
       "grid_auto_rows": null,
       "grid_column": null,
       "grid_gap": null,
       "grid_row": null,
       "grid_template_areas": null,
       "grid_template_columns": null,
       "grid_template_rows": null,
       "height": null,
       "justify_content": null,
       "justify_items": null,
       "left": null,
       "margin": null,
       "max_height": null,
       "max_width": null,
       "min_height": null,
       "min_width": null,
       "object_fit": null,
       "object_position": null,
       "order": null,
       "overflow": null,
       "overflow_x": null,
       "overflow_y": null,
       "padding": null,
       "right": null,
       "top": null,
       "visibility": null,
       "width": null
      }
     },
     "39415eed2bfc4a4bb54a1634b0621998": {
      "model_module": "@jupyter-widgets/controls",
      "model_module_version": "1.5.0",
      "model_name": "HTMLModel",
      "state": {
       "_dom_classes": [],
       "_model_module": "@jupyter-widgets/controls",
       "_model_module_version": "1.5.0",
       "_model_name": "HTMLModel",
       "_view_count": null,
       "_view_module": "@jupyter-widgets/controls",
       "_view_module_version": "1.5.0",
       "_view_name": "HTMLView",
       "description": "",
       "description_tooltip": null,
       "layout": "IPY_MODEL_1303aac7981a49558ca51487b6810ab5",
       "placeholder": "​",
       "style": "IPY_MODEL_275f5337c38a4c408aee31a0fc92f331",
       "value": "<h5><a href=\"https://github.com/jupyter-widgets/pythreejs\">jupyter-widgets/pythreejs</a></h5>\n<ul>\n<li><a href=\"https://github.com/jupyter-widgets/pythreejs/issues/345\">(#345)</a>: <em>JupyterLab 3.x \"Model not found\" error</em> by <strong><a href=\"https://github.com/FuriouslyCurious\">@FuriouslyCurious</a></strong></li>\n<li><a href=\"https://github.com/jupyter-widgets/pythreejs/issues/344\">(#344)</a>: <em>uv not specified generates trait error in Picker</em> by <strong><a href=\"https://github.com/R7President\">@R7President</a></strong></li>\n</ul>"
      }
     },
     "3fb7bb552c6d42daa64954768435c05e": {
      "model_module": "@jupyter-widgets/base",
      "model_module_version": "1.2.0",
      "model_name": "LayoutModel",
      "state": {
       "_model_module": "@jupyter-widgets/base",
       "_model_module_version": "1.2.0",
       "_model_name": "LayoutModel",
       "_view_count": null,
       "_view_module": "@jupyter-widgets/base",
       "_view_module_version": "1.2.0",
       "_view_name": "LayoutView",
       "align_content": null,
       "align_items": null,
       "align_self": null,
       "border": null,
       "bottom": null,
       "display": null,
       "flex": null,
       "flex_flow": null,
       "grid_area": null,
       "grid_auto_columns": null,
       "grid_auto_flow": null,
       "grid_auto_rows": null,
       "grid_column": null,
       "grid_gap": null,
       "grid_row": null,
       "grid_template_areas": null,
       "grid_template_columns": null,
       "grid_template_rows": null,
       "height": null,
       "justify_content": null,
       "justify_items": null,
       "left": null,
       "margin": null,
       "max_height": null,
       "max_width": null,
       "min_height": null,
       "min_width": null,
       "object_fit": null,
       "object_position": null,
       "order": null,
       "overflow": null,
       "overflow_x": null,
       "overflow_y": null,
       "padding": null,
       "right": null,
       "top": null,
       "visibility": null,
       "width": null
      }
     },
     "409f487c35e74da084afd745a2d93d69": {
      "model_module": "@jupyter-widgets/controls",
      "model_module_version": "1.5.0",
      "model_name": "DescriptionStyleModel",
      "state": {
       "_model_module": "@jupyter-widgets/controls",
       "_model_module_version": "1.5.0",
       "_model_name": "DescriptionStyleModel",
       "_view_count": null,
       "_view_module": "@jupyter-widgets/base",
       "_view_module_version": "1.2.0",
       "_view_name": "StyleView",
       "description_width": ""
      }
     },
     "453d27cacbca4afdb8aaaec82127c6f4": {
      "model_module": "@jupyter-widgets/base",
      "model_module_version": "1.2.0",
      "model_name": "LayoutModel",
      "state": {
       "_model_module": "@jupyter-widgets/base",
       "_model_module_version": "1.2.0",
       "_model_name": "LayoutModel",
       "_view_count": null,
       "_view_module": "@jupyter-widgets/base",
       "_view_module_version": "1.2.0",
       "_view_name": "LayoutView",
       "align_content": null,
       "align_items": null,
       "align_self": null,
       "border": null,
       "bottom": null,
       "display": null,
       "flex": null,
       "flex_flow": null,
       "grid_area": null,
       "grid_auto_columns": null,
       "grid_auto_flow": null,
       "grid_auto_rows": null,
       "grid_column": null,
       "grid_gap": null,
       "grid_row": null,
       "grid_template_areas": null,
       "grid_template_columns": null,
       "grid_template_rows": null,
       "height": null,
       "justify_content": null,
       "justify_items": null,
       "left": null,
       "margin": null,
       "max_height": null,
       "max_width": null,
       "min_height": null,
       "min_width": null,
       "object_fit": null,
       "object_position": null,
       "order": null,
       "overflow": null,
       "overflow_x": null,
       "overflow_y": null,
       "padding": null,
       "right": null,
       "top": null,
       "visibility": null,
       "width": null
      }
     },
     "506798b3e00d477da73f3392477ae064": {
      "model_module": "@jupyter-widgets/base",
      "model_module_version": "1.2.0",
      "model_name": "LayoutModel",
      "state": {
       "_model_module": "@jupyter-widgets/base",
       "_model_module_version": "1.2.0",
       "_model_name": "LayoutModel",
       "_view_count": null,
       "_view_module": "@jupyter-widgets/base",
       "_view_module_version": "1.2.0",
       "_view_name": "LayoutView",
       "align_content": null,
       "align_items": null,
       "align_self": null,
       "border": null,
       "bottom": null,
       "display": null,
       "flex": null,
       "flex_flow": null,
       "grid_area": null,
       "grid_auto_columns": null,
       "grid_auto_flow": null,
       "grid_auto_rows": null,
       "grid_column": null,
       "grid_gap": null,
       "grid_row": null,
       "grid_template_areas": null,
       "grid_template_columns": null,
       "grid_template_rows": null,
       "height": null,
       "justify_content": null,
       "justify_items": null,
       "left": null,
       "margin": null,
       "max_height": null,
       "max_width": null,
       "min_height": null,
       "min_width": null,
       "object_fit": null,
       "object_position": null,
       "order": null,
       "overflow": null,
       "overflow_x": null,
       "overflow_y": null,
       "padding": null,
       "right": null,
       "top": null,
       "visibility": null,
       "width": null
      }
     },
     "510eab41f0fb4494942bf5c984b526fe": {
      "model_module": "@jupyter-widgets/base",
      "model_module_version": "1.2.0",
      "model_name": "LayoutModel",
      "state": {
       "_model_module": "@jupyter-widgets/base",
       "_model_module_version": "1.2.0",
       "_model_name": "LayoutModel",
       "_view_count": null,
       "_view_module": "@jupyter-widgets/base",
       "_view_module_version": "1.2.0",
       "_view_name": "LayoutView",
       "align_content": null,
       "align_items": null,
       "align_self": null,
       "border": null,
       "bottom": null,
       "display": null,
       "flex": null,
       "flex_flow": null,
       "grid_area": null,
       "grid_auto_columns": null,
       "grid_auto_flow": null,
       "grid_auto_rows": null,
       "grid_column": null,
       "grid_gap": null,
       "grid_row": null,
       "grid_template_areas": null,
       "grid_template_columns": null,
       "grid_template_rows": null,
       "height": null,
       "justify_content": null,
       "justify_items": null,
       "left": null,
       "margin": null,
       "max_height": null,
       "max_width": null,
       "min_height": null,
       "min_width": null,
       "object_fit": null,
       "object_position": null,
       "order": null,
       "overflow": null,
       "overflow_x": null,
       "overflow_y": null,
       "padding": null,
       "right": null,
       "top": null,
       "visibility": null,
       "width": null
      }
     },
     "531314a376864b24b93e7346e99126e5": {
      "model_module": "@jupyter-widgets/base",
      "model_module_version": "1.2.0",
      "model_name": "LayoutModel",
      "state": {
       "_model_module": "@jupyter-widgets/base",
       "_model_module_version": "1.2.0",
       "_model_name": "LayoutModel",
       "_view_count": null,
       "_view_module": "@jupyter-widgets/base",
       "_view_module_version": "1.2.0",
       "_view_name": "LayoutView",
       "align_content": null,
       "align_items": null,
       "align_self": null,
       "border": null,
       "bottom": null,
       "display": null,
       "flex": null,
       "flex_flow": null,
       "grid_area": null,
       "grid_auto_columns": null,
       "grid_auto_flow": null,
       "grid_auto_rows": null,
       "grid_column": null,
       "grid_gap": null,
       "grid_row": null,
       "grid_template_areas": null,
       "grid_template_columns": null,
       "grid_template_rows": null,
       "height": null,
       "justify_content": null,
       "justify_items": null,
       "left": null,
       "margin": null,
       "max_height": null,
       "max_width": null,
       "min_height": null,
       "min_width": null,
       "object_fit": null,
       "object_position": null,
       "order": null,
       "overflow": null,
       "overflow_x": null,
       "overflow_y": null,
       "padding": null,
       "right": null,
       "top": null,
       "visibility": null,
       "width": null
      }
     },
     "57f387bbdf9f49159f26348c9ebf0f6d": {
      "model_module": "@jupyter-widgets/controls",
      "model_module_version": "1.5.0",
      "model_name": "HTMLModel",
      "state": {
       "_dom_classes": [],
       "_model_module": "@jupyter-widgets/controls",
       "_model_module_version": "1.5.0",
       "_model_name": "HTMLModel",
       "_view_count": null,
       "_view_module": "@jupyter-widgets/controls",
       "_view_module_version": "1.5.0",
       "_view_name": "HTMLView",
       "description": "",
       "description_tooltip": null,
       "layout": "IPY_MODEL_c4dcee07923e4cc8a6f1f785c18a4e05",
       "placeholder": "​",
       "style": "IPY_MODEL_0ec3dd36767f4dc2ac7785d7bc484e3d",
       "value": "<h4>Closed PRs for repo: <a href=\"https://github.com/jupyter-widgets/widget-ts-cookiecutter\">jupyter-widgets/widget-ts-cookiecutter</a></h4>\n<h5></h5>\n<ul>\n<li><a href=\"https://github.com/jupyter-widgets/widget-ts-cookiecutter/pull/84\">(#84)</a>: <em>Avoid nbsphinx loading widgets in doc</em> by <strong><a href=\"https://github.com/fcollonval\">@fcollonval</a></strong> merged by <strong><a href=\"https://github.com/ianhi\">@ianhi</a></strong></li>\n</ul>"
      }
     },
     "5ae7cf3ce15647ee9395fe770db3e6fa": {
      "model_module": "@jupyter-widgets/base",
      "model_module_version": "1.2.0",
      "model_name": "LayoutModel",
      "state": {
       "_model_module": "@jupyter-widgets/base",
       "_model_module_version": "1.2.0",
       "_model_name": "LayoutModel",
       "_view_count": null,
       "_view_module": "@jupyter-widgets/base",
       "_view_module_version": "1.2.0",
       "_view_name": "LayoutView",
       "align_content": null,
       "align_items": null,
       "align_self": null,
       "border": null,
       "bottom": null,
       "display": null,
       "flex": null,
       "flex_flow": null,
       "grid_area": null,
       "grid_auto_columns": null,
       "grid_auto_flow": null,
       "grid_auto_rows": null,
       "grid_column": null,
       "grid_gap": null,
       "grid_row": null,
       "grid_template_areas": null,
       "grid_template_columns": null,
       "grid_template_rows": null,
       "height": null,
       "justify_content": null,
       "justify_items": null,
       "left": null,
       "margin": null,
       "max_height": null,
       "max_width": null,
       "min_height": null,
       "min_width": null,
       "object_fit": null,
       "object_position": null,
       "order": null,
       "overflow": null,
       "overflow_x": null,
       "overflow_y": null,
       "padding": null,
       "right": null,
       "top": null,
       "visibility": null,
       "width": null
      }
     },
     "5b7ad1e6635a41149fcb1a0e8e576a33": {
      "model_module": "@jupyter-widgets/controls",
      "model_module_version": "1.5.0",
      "model_name": "HTMLModel",
      "state": {
       "_dom_classes": [],
       "_model_module": "@jupyter-widgets/controls",
       "_model_module_version": "1.5.0",
       "_model_name": "HTMLModel",
       "_view_count": null,
       "_view_module": "@jupyter-widgets/controls",
       "_view_module_version": "1.5.0",
       "_view_name": "HTMLView",
       "description": "",
       "description_tooltip": null,
       "layout": "IPY_MODEL_b512fc15edb142ceb8f96afeda6bcbfa",
       "placeholder": "​",
       "style": "IPY_MODEL_e3e7269875ec49aa88cde1aba3083ee7",
       "value": "<h5><a href=\"https://github.com/jupyter-widgets/ipyleaflet\">jupyter-widgets/ipyleaflet</a></h5>\n<ul>\n<li><a href=\"https://github.com/jupyter-widgets/ipyleaflet/issues/779\">(#779)</a>: <em>OSError: Could not find library geos_c or load any of its variants ['/Library/Frameworks/GEOS.framework/Versions/Current/GEOS', '/opt/local/lib/libgeos_c.dylib']</em> by <strong><a href=\"https://github.com/AK-1996\">@AK-1996</a></strong></li>\n<li><a href=\"https://github.com/jupyter-widgets/ipyleaflet/issues/767\">(#767)</a>: <em>LocalTileLayer, Jupyter notebook and Voila</em> by <strong><a href=\"https://github.com/jifcon\">@jifcon</a></strong></li>\n<li><a href=\"https://github.com/jupyter-widgets/ipyleaflet/issues/789\">(#789)</a>: <em>DrawControl imported polygon</em> by <strong><a href=\"https://github.com/eironman3\">@eironman3</a></strong></li>\n<li><a href=\"https://github.com/jupyter-widgets/ipyleaflet/issues/776\">(#776)</a>: <em>Ipyleaflet maps are not displayed in binder</em> by <strong><a href=\"https://github.com/LuciaGiagnolini12\">@LuciaGiagnolini12</a></strong></li>\n<li><a href=\"https://github.com/jupyter-widgets/ipyleaflet/issues/769\">(#769)</a>: _ipyleaflet v0.13.4 import error on Windows 10 _ by <strong><a href=\"https://github.com/giswqs\">@giswqs</a></strong></li>\n</ul>"
      }
     },
     "5cfb402e2ffd4e5a9a4ca70e0615caf5": {
      "model_module": "@jupyter-widgets/controls",
      "model_module_version": "1.5.0",
      "model_name": "DescriptionStyleModel",
      "state": {
       "_model_module": "@jupyter-widgets/controls",
       "_model_module_version": "1.5.0",
       "_model_name": "DescriptionStyleModel",
       "_view_count": null,
       "_view_module": "@jupyter-widgets/base",
       "_view_module_version": "1.2.0",
       "_view_name": "StyleView",
       "description_width": ""
      }
     },
     "6334ca42553a4b2fb8bbf33bc0505ca0": {
      "model_module": "@jupyter-widgets/controls",
      "model_module_version": "1.5.0",
      "model_name": "ProgressStyleModel",
      "state": {
       "_model_module": "@jupyter-widgets/controls",
       "_model_module_version": "1.5.0",
       "_model_name": "ProgressStyleModel",
       "_view_count": null,
       "_view_module": "@jupyter-widgets/base",
       "_view_module_version": "1.2.0",
       "_view_name": "StyleView",
       "bar_color": null,
       "description_width": ""
      }
     },
     "644d3a6275004521a2dadff085625dd4": {
      "model_module": "@jupyter-widgets/base",
      "model_module_version": "1.2.0",
      "model_name": "LayoutModel",
      "state": {
       "_model_module": "@jupyter-widgets/base",
       "_model_module_version": "1.2.0",
       "_model_name": "LayoutModel",
       "_view_count": null,
       "_view_module": "@jupyter-widgets/base",
       "_view_module_version": "1.2.0",
       "_view_name": "LayoutView",
       "align_content": null,
       "align_items": null,
       "align_self": null,
       "border": null,
       "bottom": null,
       "display": null,
       "flex": null,
       "flex_flow": null,
       "grid_area": null,
       "grid_auto_columns": null,
       "grid_auto_flow": null,
       "grid_auto_rows": null,
       "grid_column": null,
       "grid_gap": null,
       "grid_row": null,
       "grid_template_areas": null,
       "grid_template_columns": null,
       "grid_template_rows": null,
       "height": null,
       "justify_content": null,
       "justify_items": null,
       "left": null,
       "margin": null,
       "max_height": null,
       "max_width": null,
       "min_height": null,
       "min_width": null,
       "object_fit": null,
       "object_position": null,
       "order": null,
       "overflow": null,
       "overflow_x": null,
       "overflow_y": null,
       "padding": null,
       "right": null,
       "top": null,
       "visibility": null,
       "width": null
      }
     },
     "6461b6c726064e81b4028e4aaec109bf": {
      "model_module": "@jupyter-widgets/controls",
      "model_module_version": "1.5.0",
      "model_name": "HTMLModel",
      "state": {
       "_dom_classes": [],
       "_model_module": "@jupyter-widgets/controls",
       "_model_module_version": "1.5.0",
       "_model_name": "HTMLModel",
       "_view_count": null,
       "_view_module": "@jupyter-widgets/controls",
       "_view_module_version": "1.5.0",
       "_view_name": "HTMLView",
       "description": "",
       "description_tooltip": null,
       "layout": "IPY_MODEL_d8654f14ab5f457bb8c447ce1cebdacd",
       "placeholder": "​",
       "style": "IPY_MODEL_cc1f8dee10084a3099dbf6bafdd71141",
       "value": "<h4>Closed PRs for repo: <a href=\"https://github.com/jupyter-widgets/pythreejs\">jupyter-widgets/pythreejs</a></h4>\n<h5></h5>\n<ul>\n<li><a href=\"https://github.com/jupyter-widgets/pythreejs/pull/350\">(#350)</a>: <em>Feature: JupyterLab 3.0 Support Cleanup</em> by <strong><a href=\"https://github.com/agoose77\">@agoose77</a></strong> merged by <strong><a href=\"https://github.com/vidartf\">@vidartf</a></strong></li>\n</ul>"
      }
     },
     "781a5f71998f43869f7a89cfa56e84c2": {
      "model_module": "@jupyter-widgets/base",
      "model_module_version": "1.2.0",
      "model_name": "LayoutModel",
      "state": {
       "_model_module": "@jupyter-widgets/base",
       "_model_module_version": "1.2.0",
       "_model_name": "LayoutModel",
       "_view_count": null,
       "_view_module": "@jupyter-widgets/base",
       "_view_module_version": "1.2.0",
       "_view_name": "LayoutView",
       "align_content": null,
       "align_items": null,
       "align_self": null,
       "border": null,
       "bottom": null,
       "display": null,
       "flex": null,
       "flex_flow": null,
       "grid_area": null,
       "grid_auto_columns": null,
       "grid_auto_flow": null,
       "grid_auto_rows": null,
       "grid_column": null,
       "grid_gap": null,
       "grid_row": null,
       "grid_template_areas": null,
       "grid_template_columns": null,
       "grid_template_rows": null,
       "height": null,
       "justify_content": null,
       "justify_items": null,
       "left": null,
       "margin": null,
       "max_height": null,
       "max_width": null,
       "min_height": null,
       "min_width": null,
       "object_fit": null,
       "object_position": null,
       "order": null,
       "overflow": null,
       "overflow_x": null,
       "overflow_y": null,
       "padding": null,
       "right": null,
       "top": null,
       "visibility": null,
       "width": null
      }
     },
     "7b14667eea1241ffa4031da1cb545d74": {
      "model_module": "@jupyter-widgets/controls",
      "model_module_version": "1.5.0",
      "model_name": "HTMLModel",
      "state": {
       "_dom_classes": [],
       "_model_module": "@jupyter-widgets/controls",
       "_model_module_version": "1.5.0",
       "_model_name": "HTMLModel",
       "_view_count": null,
       "_view_module": "@jupyter-widgets/controls",
       "_view_module_version": "1.5.0",
       "_view_name": "HTMLView",
       "description": "",
       "description_tooltip": null,
       "layout": "IPY_MODEL_f86175076be04187ac049026230421d8",
       "placeholder": "​",
       "style": "IPY_MODEL_a0e0c14144194e8c9cc2ffcdeb73126e",
       "value": "<h5><a href=\"https://github.com/jupyter-widgets/ipywidgets\">jupyter-widgets/ipywidgets</a></h5>\n<ul>\n<li><a href=\"https://github.com/jupyter-widgets/ipywidgets/issues/3048\">(#3048)</a>: <em>7.6.0 release notes</em> by <strong><a href=\"https://github.com/jasongrout\">@jasongrout</a></strong></li>\n<li><a href=\"https://github.com/jupyter-widgets/ipywidgets/issues/3063\">(#3063)</a>: <em>Playing an Audio widget programmatically?</em> by <strong><a href=\"https://github.com/deeplook\">@deeplook</a></strong></li>\n<li><a href=\"https://github.com/jupyter-widgets/ipywidgets/issues/3102\">(#3102)</a>: <em>Interactive fails for non-zero decimal default argument</em> by <strong><a href=\"https://github.com/ianhi\">@ianhi</a></strong></li>\n</ul>"
      }
     },
     "81d6927fdb66477f8269c33385179f10": {
      "model_module": "@jupyter-widgets/controls",
      "model_module_version": "1.5.0",
      "model_name": "DescriptionStyleModel",
      "state": {
       "_model_module": "@jupyter-widgets/controls",
       "_model_module_version": "1.5.0",
       "_model_name": "DescriptionStyleModel",
       "_view_count": null,
       "_view_module": "@jupyter-widgets/base",
       "_view_module_version": "1.2.0",
       "_view_name": "StyleView",
       "description_width": ""
      }
     },
     "8518dabf65964f5b82382079c4986f4a": {
      "model_module": "@jupyter-widgets/controls",
      "model_module_version": "1.5.0",
      "model_name": "HTMLModel",
      "state": {
       "_dom_classes": [],
       "_model_module": "@jupyter-widgets/controls",
       "_model_module_version": "1.5.0",
       "_model_name": "HTMLModel",
       "_view_count": null,
       "_view_module": "@jupyter-widgets/controls",
       "_view_module_version": "1.5.0",
       "_view_name": "HTMLView",
       "description": "",
       "description_tooltip": null,
       "layout": "IPY_MODEL_337f5267f8654e78a3f6bebac078bbdd",
       "placeholder": "​",
       "style": "IPY_MODEL_0163e93b023a4b6a843dce4c49df2b88",
       "value": "<h5><a href=\"https://github.com/jupyter-widgets/jupyterlab-sidecar\">jupyter-widgets/jupyterlab-sidecar</a></h5>"
      }
     },
     "89b53f1950254642a4463bf52e57bcb5": {
      "model_module": "@jupyter-widgets/controls",
      "model_module_version": "1.5.0",
      "model_name": "HTMLModel",
      "state": {
       "_dom_classes": [],
       "_model_module": "@jupyter-widgets/controls",
       "_model_module_version": "1.5.0",
       "_model_name": "HTMLModel",
       "_view_count": null,
       "_view_module": "@jupyter-widgets/controls",
       "_view_module_version": "1.5.0",
       "_view_name": "HTMLView",
       "description": "",
       "description_tooltip": null,
       "layout": "IPY_MODEL_ba75d892073b4caca52fa19b7ed19e60",
       "placeholder": "​",
       "style": "IPY_MODEL_caf763acc37048878a1a6b7cdd5fa651",
       "value": "<h5><a href=\"https://github.com/jupyter-widgets/widget-ts-cookiecutter\">jupyter-widgets/widget-ts-cookiecutter</a></h5>\n<ul>\n<li><a href=\"https://github.com/jupyter-widgets/widget-ts-cookiecutter/issues/89\">(#89)</a>: <em>Example not working in Jupyter lab</em> by <strong><a href=\"https://github.com/willeppy\">@willeppy</a></strong></li>\n<li><a href=\"https://github.com/jupyter-widgets/widget-ts-cookiecutter/issues/87\">(#87)</a>: _Upgrade the packages in template _ by <strong><a href=\"https://github.com/anant-k-singh\">@anant-k-singh</a></strong></li>\n</ul>"
      }
     },
     "8fb3ef93c7a945e0a8af4547093ad028": {
      "model_module": "@jupyter-widgets/controls",
      "model_module_version": "1.5.0",
      "model_name": "DescriptionStyleModel",
      "state": {
       "_model_module": "@jupyter-widgets/controls",
       "_model_module_version": "1.5.0",
       "_model_name": "DescriptionStyleModel",
       "_view_count": null,
       "_view_module": "@jupyter-widgets/base",
       "_view_module_version": "1.2.0",
       "_view_name": "StyleView",
       "description_width": ""
      }
     },
     "92a83cdc7481449aab5b88c3b390371a": {
      "model_module": "@jupyter-widgets/base",
      "model_module_version": "1.2.0",
      "model_name": "LayoutModel",
      "state": {
       "_model_module": "@jupyter-widgets/base",
       "_model_module_version": "1.2.0",
       "_model_name": "LayoutModel",
       "_view_count": null,
       "_view_module": "@jupyter-widgets/base",
       "_view_module_version": "1.2.0",
       "_view_name": "LayoutView",
       "align_content": null,
       "align_items": null,
       "align_self": null,
       "border": null,
       "bottom": null,
       "display": null,
       "flex": null,
       "flex_flow": null,
       "grid_area": null,
       "grid_auto_columns": null,
       "grid_auto_flow": null,
       "grid_auto_rows": null,
       "grid_column": null,
       "grid_gap": null,
       "grid_row": null,
       "grid_template_areas": null,
       "grid_template_columns": null,
       "grid_template_rows": null,
       "height": null,
       "justify_content": null,
       "justify_items": null,
       "left": null,
       "margin": null,
       "max_height": null,
       "max_width": null,
       "min_height": null,
       "min_width": null,
       "object_fit": null,
       "object_position": null,
       "order": null,
       "overflow": null,
       "overflow_x": null,
       "overflow_y": null,
       "padding": null,
       "right": null,
       "top": null,
       "visibility": null,
       "width": null
      }
     },
     "92df0fdf7c53443e8e2db93e6988b32f": {
      "model_module": "@jupyter-widgets/controls",
      "model_module_version": "1.5.0",
      "model_name": "HTMLModel",
      "state": {
       "_dom_classes": [],
       "_model_module": "@jupyter-widgets/controls",
       "_model_module_version": "1.5.0",
       "_model_name": "HTMLModel",
       "_view_count": null,
       "_view_module": "@jupyter-widgets/controls",
       "_view_module_version": "1.5.0",
       "_view_name": "HTMLView",
       "description": "",
       "description_tooltip": null,
       "layout": "IPY_MODEL_531314a376864b24b93e7346e99126e5",
       "placeholder": "​",
       "style": "IPY_MODEL_5cfb402e2ffd4e5a9a4ca70e0615caf5",
       "value": "<h5><a href=\"https://github.com/jupyter-widgets/tutorial\">jupyter-widgets/tutorial</a></h5>\n<ul>\n<li><a href=\"https://github.com/jupyter-widgets/tutorial/issues/118\">(#118)</a>: <em>Extensions build error</em> by <strong><a href=\"https://github.com/matt1hong\">@matt1hong</a></strong></li>\n</ul>"
      }
     },
     "94be2b77233c410894e159abd0e8ac46": {
      "model_module": "@jupyter-widgets/controls",
      "model_module_version": "1.5.0",
      "model_name": "DescriptionStyleModel",
      "state": {
       "_model_module": "@jupyter-widgets/controls",
       "_model_module_version": "1.5.0",
       "_model_name": "DescriptionStyleModel",
       "_view_count": null,
       "_view_module": "@jupyter-widgets/base",
       "_view_module_version": "1.2.0",
       "_view_name": "StyleView",
       "description_width": ""
      }
     },
     "954e9b3c1db644ae9449b941ba999b82": {
      "model_module": "@jupyter-widgets/controls",
      "model_module_version": "1.5.0",
      "model_name": "HTMLModel",
      "state": {
       "_dom_classes": [],
       "_model_module": "@jupyter-widgets/controls",
       "_model_module_version": "1.5.0",
       "_model_name": "HTMLModel",
       "_view_count": null,
       "_view_module": "@jupyter-widgets/controls",
       "_view_module_version": "1.5.0",
       "_view_name": "HTMLView",
       "description": "",
       "description_tooltip": null,
       "layout": "IPY_MODEL_2c1d0d8858cb42d5b7e4e99c9b49c6bb",
       "placeholder": "​",
       "style": "IPY_MODEL_b42c6349ac6f460b93f9f008edc2d54f",
       "value": "<h5><a href=\"https://github.com/jupyter-widgets/widget-cookiecutter\">jupyter-widgets/widget-cookiecutter</a></h5>\n<ul>\n<li><a href=\"https://github.com/jupyter-widgets/widget-cookiecutter/issues/83\">(#83)</a>: <em>Support for JLab 3.x ?</em> by <strong><a href=\"https://github.com/dou-du\">@dou-du</a></strong></li>\n<li><a href=\"https://github.com/jupyter-widgets/widget-cookiecutter/issues/82\">(#82)</a>: <em>\"Not registered as widget module\" error in JupyterLab</em> by <strong><a href=\"https://github.com/rmorshea\">@rmorshea</a></strong></li>\n</ul>"
      }
     },
     "99cef07172ed49a4b77031c976f9ec88": {
      "model_module": "@jupyter-widgets/controls",
      "model_module_version": "1.5.0",
      "model_name": "FloatProgressModel",
      "state": {
       "_dom_classes": [],
       "_model_module": "@jupyter-widgets/controls",
       "_model_module_version": "1.5.0",
       "_model_name": "FloatProgressModel",
       "_view_count": null,
       "_view_module": "@jupyter-widgets/controls",
       "_view_module_version": "1.5.0",
       "_view_name": "ProgressView",
       "bar_style": "",
       "description": "",
       "description_tooltip": null,
       "layout": "IPY_MODEL_fbd3c45df9de41a3bfe0549cbf319888",
       "max": 112.0,
       "min": 0.0,
       "orientation": "horizontal",
       "style": "IPY_MODEL_efeba099e63341048fc7d60d439cf8de",
       "value": 112.0
      }
     },
     "a0e0c14144194e8c9cc2ffcdeb73126e": {
      "model_module": "@jupyter-widgets/controls",
      "model_module_version": "1.5.0",
      "model_name": "DescriptionStyleModel",
      "state": {
       "_model_module": "@jupyter-widgets/controls",
       "_model_module_version": "1.5.0",
       "_model_name": "DescriptionStyleModel",
       "_view_count": null,
       "_view_module": "@jupyter-widgets/base",
       "_view_module_version": "1.2.0",
       "_view_name": "StyleView",
       "description_width": ""
      }
     },
     "a318e074b57347f3b19b7900e382c4d8": {
      "model_module": "@jupyter-widgets/controls",
      "model_module_version": "1.5.0",
      "model_name": "DescriptionStyleModel",
      "state": {
       "_model_module": "@jupyter-widgets/controls",
       "_model_module_version": "1.5.0",
       "_model_name": "DescriptionStyleModel",
       "_view_count": null,
       "_view_module": "@jupyter-widgets/base",
       "_view_module_version": "1.2.0",
       "_view_name": "StyleView",
       "description_width": ""
      }
     },
     "a66848d32b3e4fdc9f500e59dbd83ac0": {
      "model_module": "@jupyter-widgets/controls",
      "model_module_version": "1.5.0",
      "model_name": "HTMLModel",
      "state": {
       "_dom_classes": [],
       "_model_module": "@jupyter-widgets/controls",
       "_model_module_version": "1.5.0",
       "_model_name": "HTMLModel",
       "_view_count": null,
       "_view_module": "@jupyter-widgets/controls",
       "_view_module_version": "1.5.0",
       "_view_name": "HTMLView",
       "description": "",
       "description_tooltip": null,
       "layout": "IPY_MODEL_781a5f71998f43869f7a89cfa56e84c2",
       "placeholder": "​",
       "style": "IPY_MODEL_a318e074b57347f3b19b7900e382c4d8",
       "value": "Downloading:: 100%"
      }
     },
     "ac172103b6bd4692abd7c3c26a4e6678": {
      "model_module": "@jupyter-widgets/controls",
      "model_module_version": "1.5.0",
      "model_name": "DescriptionStyleModel",
      "state": {
       "_model_module": "@jupyter-widgets/controls",
       "_model_module_version": "1.5.0",
       "_model_name": "DescriptionStyleModel",
       "_view_count": null,
       "_view_module": "@jupyter-widgets/base",
       "_view_module_version": "1.2.0",
       "_view_name": "StyleView",
       "description_width": ""
      }
     },
     "ae0bec29e7f44695bff7f2822618d078": {
      "model_module": "@jupyter-widgets/base",
      "model_module_version": "1.2.0",
      "model_name": "LayoutModel",
      "state": {
       "_model_module": "@jupyter-widgets/base",
       "_model_module_version": "1.2.0",
       "_model_name": "LayoutModel",
       "_view_count": null,
       "_view_module": "@jupyter-widgets/base",
       "_view_module_version": "1.2.0",
       "_view_name": "LayoutView",
       "align_content": null,
       "align_items": null,
       "align_self": null,
       "border": null,
       "bottom": null,
       "display": null,
       "flex": null,
       "flex_flow": null,
       "grid_area": null,
       "grid_auto_columns": null,
       "grid_auto_flow": null,
       "grid_auto_rows": null,
       "grid_column": null,
       "grid_gap": null,
       "grid_row": null,
       "grid_template_areas": null,
       "grid_template_columns": null,
       "grid_template_rows": null,
       "height": null,
       "justify_content": null,
       "justify_items": null,
       "left": null,
       "margin": null,
       "max_height": null,
       "max_width": null,
       "min_height": null,
       "min_width": null,
       "object_fit": null,
       "object_position": null,
       "order": null,
       "overflow": null,
       "overflow_x": null,
       "overflow_y": null,
       "padding": null,
       "right": null,
       "top": null,
       "visibility": null,
       "width": null
      }
     },
     "b13b920f00254d48ab0e61e4d77a2a8e": {
      "model_module": "@jupyter-widgets/controls",
      "model_module_version": "1.5.0",
      "model_name": "HTMLModel",
      "state": {
       "_dom_classes": [],
       "_model_module": "@jupyter-widgets/controls",
       "_model_module_version": "1.5.0",
       "_model_name": "HTMLModel",
       "_view_count": null,
       "_view_module": "@jupyter-widgets/controls",
       "_view_module_version": "1.5.0",
       "_view_name": "HTMLView",
       "description": "",
       "description_tooltip": null,
       "layout": "IPY_MODEL_92a83cdc7481449aab5b88c3b390371a",
       "placeholder": "​",
       "style": "IPY_MODEL_210e5f96bb18477dbc8663af3b190dcc",
       "value": "<h4>Closed PRs for repo: <a href=\"https://github.com/jupyter-widgets/ipywidgets\">jupyter-widgets/ipywidgets</a></h4>\n<h5></h5>\n<ul>\n<li><a href=\"https://github.com/jupyter-widgets/ipywidgets/pull/3120\">(#3120)</a>: <em>Use python_requires &gt;=3.5</em> by <strong><a href=\"https://github.com/davidbrochart\">@davidbrochart</a></strong> merged by <strong><a href=\"https://github.com/willingc\">@willingc</a></strong></li>\n<li><a href=\"https://github.com/jupyter-widgets/ipywidgets/pull/3117\">(#3117)</a>: <em>Change graph example to receive a tuple instead of a dict</em> by <strong><a href=\"https://github.com/marimeireles\">@marimeireles</a></strong> merged by <strong><a href=\"https://github.com/SylvainCorlay\">@SylvainCorlay</a></strong></li>\n<li><a href=\"https://github.com/jupyter-widgets/ipywidgets/pull/3113\">(#3113)</a>: <em>Fix slider format</em> by <strong><a href=\"https://github.com/davidbrochart\">@davidbrochart</a></strong> merged by <strong><a href=\"https://github.com/SylvainCorlay\">@SylvainCorlay</a></strong></li>\n<li><a href=\"https://github.com/jupyter-widgets/ipywidgets/pull/3106\">(#3106)</a>: <em>Remove step parameter from widget list notebook</em> by <strong><a href=\"https://github.com/davidbrochart\">@davidbrochart</a></strong> merged by <strong><a href=\"https://github.com/SylvainCorlay\">@SylvainCorlay</a></strong></li>\n<li><a href=\"https://github.com/jupyter-widgets/ipywidgets/pull/3104\">(#3104)</a>: <em>Make doc structure more user friendly</em> by <strong><a href=\"https://github.com/willingc\">@willingc</a></strong> merged by <strong><a href=\"https://github.com/jasongrout\">@jasongrout</a></strong></li>\n<li><a href=\"https://github.com/jupyter-widgets/ipywidgets/pull/3103\">(#3103)</a>: <em>Add reference to Jupyter CoC</em> by <strong><a href=\"https://github.com/willingc\">@willingc</a></strong> merged by <strong><a href=\"https://github.com/vidartf\">@vidartf</a></strong></li>\n<li><a href=\"https://github.com/jupyter-widgets/ipywidgets/pull/3101\">(#3101)</a>: <em>[Backport to 7.x] PR #3099</em> by <strong><a href=\"https://github.com/willingc\">@willingc</a></strong> merged by <strong><a href=\"https://github.com/willingc\">@willingc</a></strong></li>\n<li><a href=\"https://github.com/jupyter-widgets/ipywidgets/pull/3099\">(#3099)</a>: <em>Refactor outdated README</em> by <strong><a href=\"https://github.com/willingc\">@willingc</a></strong> merged by <strong><a href=\"https://github.com/willingc\">@willingc</a></strong></li>\n<li><a href=\"https://github.com/jupyter-widgets/ipywidgets/pull/3098\">(#3098)</a>: <em>Remove extra requirements from doc to fix RTD build</em> by <strong><a href=\"https://github.com/ianhi\">@ianhi</a></strong> merged by <strong><a href=\"https://github.com/willingc\">@willingc</a></strong></li>\n<li><a href=\"https://github.com/jupyter-widgets/ipywidgets/pull/3095\">(#3095)</a>: <em>add documentation issue template</em> by <strong><a href=\"https://github.com/ianhi\">@ianhi</a></strong> merged by <strong><a href=\"https://github.com/willingc\">@willingc</a></strong></li>\n<li><a href=\"https://github.com/jupyter-widgets/ipywidgets/pull/3094\">(#3094)</a>: <em>Align doc requirements for 7.x branch with master</em> by <strong><a href=\"https://github.com/willingc\">@willingc</a></strong> merged by <strong><a href=\"https://github.com/willingc\">@willingc</a></strong></li>\n<li><a href=\"https://github.com/jupyter-widgets/ipywidgets/pull/3092\">(#3092)</a>: <em>Update locking workflow</em> by <strong><a href=\"https://github.com/jasongrout\">@jasongrout</a></strong> merged by <strong><a href=\"https://github.com/willingc\">@willingc</a></strong></li>\n<li><a href=\"https://github.com/jupyter-widgets/ipywidgets/pull/3091\">(#3091)</a>: <em>Adapt the milestone_check script from JupyterLab for ipywidgets.</em> by <strong><a href=\"https://github.com/jasongrout\">@jasongrout</a></strong> merged by <strong><a href=\"https://github.com/jasongrout\">@jasongrout</a></strong></li>\n<li><a href=\"https://github.com/jupyter-widgets/ipywidgets/pull/3086\">(#3086)</a>: <em>Port 7.x changes to master</em> by <strong><a href=\"https://github.com/jasongrout\">@jasongrout</a></strong> merged by <strong><a href=\"https://github.com/jasongrout\">@jasongrout</a></strong></li>\n<li><a href=\"https://github.com/jupyter-widgets/ipywidgets/pull/3082\">(#3082)</a>: <em>fix bug report template</em> by <strong><a href=\"https://github.com/ianhi\">@ianhi</a></strong> merged by <strong><a href=\"https://github.com/SylvainCorlay\">@SylvainCorlay</a></strong></li>\n<li><a href=\"https://github.com/jupyter-widgets/ipywidgets/pull/3062\">(#3062)</a>: <em>Fix broken link</em> by <strong><a href=\"https://github.com/MicaelJarniac\">@MicaelJarniac</a></strong> merged by <strong><a href=\"https://github.com/jasongrout\">@jasongrout</a></strong></li>\n<li><a href=\"https://github.com/jupyter-widgets/ipywidgets/pull/3060\">(#3060)</a>: <em>Fix debouncing and throttling code</em> by <strong><a href=\"https://github.com/davidbrochart\">@davidbrochart</a></strong> merged by <strong><a href=\"https://github.com/SylvainCorlay\">@SylvainCorlay</a></strong></li>\n<li><a href=\"https://github.com/jupyter-widgets/ipywidgets/pull/3059\">(#3059)</a>: <em>Only install jupyterlab_widgets if py3.6 or above</em> by <strong><a href=\"https://github.com/patviafore-canonical\">@patviafore-canonical</a></strong> merged by <strong><a href=\"https://github.com/jasongrout\">@jasongrout</a></strong></li>\n<li><a href=\"https://github.com/jupyter-widgets/ipywidgets/pull/3051\">(#3051)</a>: <em>Mention adding a sharedPackages configuration when updating to JLab 3.</em> by <strong><a href=\"https://github.com/jasongrout\">@jasongrout</a></strong> merged by <strong><a href=\"https://github.com/jasongrout\">@jasongrout</a></strong></li>\n<li><a href=\"https://github.com/jupyter-widgets/ipywidgets/pull/3050\">(#3050)</a>: <em>Require jupyterlab_widgets only on Python &gt;=3.5</em> by <strong><a href=\"https://github.com/jasongrout\">@jasongrout</a></strong> merged by <strong><a href=\"https://github.com/jasongrout\">@jasongrout</a></strong></li>\n<li><a href=\"https://github.com/jupyter-widgets/ipywidgets/pull/3047\">(#3047)</a>: <em>Update changelog with instructions for widget maintainers.</em> by <strong><a href=\"https://github.com/jasongrout\">@jasongrout</a></strong> merged by <strong><a href=\"https://github.com/jasongrout\">@jasongrout</a></strong></li>\n<li><a href=\"https://github.com/jupyter-widgets/ipywidgets/pull/3046\">(#3046)</a>: <em>Update changelog and documentation for 7.6.0</em> by <strong><a href=\"https://github.com/jasongrout\">@jasongrout</a></strong> merged by <strong><a href=\"https://github.com/jasongrout\">@jasongrout</a></strong></li>\n<li><a href=\"https://github.com/jupyter-widgets/ipywidgets/pull/3045\">(#3045)</a>: <em>Updates to jupyterlab_widgets from cookiecutter</em> by <strong><a href=\"https://github.com/jasongrout\">@jasongrout</a></strong> merged by <strong><a href=\"https://github.com/jasongrout\">@jasongrout</a></strong></li>\n<li><a href=\"https://github.com/jupyter-widgets/ipywidgets/pull/3044\">(#3044)</a>: <em>Update for JupyterLab 3</em> by <strong><a href=\"https://github.com/jasongrout\">@jasongrout</a></strong> merged by <strong><a href=\"https://github.com/jasongrout\">@jasongrout</a></strong></li>\n<li><a href=\"https://github.com/jupyter-widgets/ipywidgets/pull/3040\">(#3040)</a>: <em>Docs: Remove reference to resolved bug</em> by <strong><a href=\"https://github.com/carlobeltrame\">@carlobeltrame</a></strong> merged by <strong><a href=\"https://github.com/vidartf\">@vidartf</a></strong></li>\n<li><a href=\"https://github.com/jupyter-widgets/ipywidgets/pull/3014\">(#3014)</a>: <em>add alt text so images aren't duplicated in html</em> by <strong><a href=\"https://github.com/ianhi\">@ianhi</a></strong> merged by <strong><a href=\"https://github.com/vidartf\">@vidartf</a></strong></li>\n<li><a href=\"https://github.com/jupyter-widgets/ipywidgets/pull/3013\">(#3013)</a>: <em>add alt text so images aren't duplicated in html</em> by <strong><a href=\"https://github.com/ianhi\">@ianhi</a></strong> merged by <strong><a href=\"https://github.com/vidartf\">@vidartf</a></strong></li>\n<li><a href=\"https://github.com/jupyter-widgets/ipywidgets/pull/3008\">(#3008)</a>: <em>Add jupyterlab_widgets dependency</em> by <strong><a href=\"https://github.com/martinRenou\">@martinRenou</a></strong> merged by <strong><a href=\"https://github.com/jasongrout\">@jasongrout</a></strong></li>\n</ul>"
      }
     },
     "b1e0483caf57466ca77dda40ff84ec39": {
      "model_module": "@jupyter-widgets/controls",
      "model_module_version": "1.5.0",
      "model_name": "HTMLModel",
      "state": {
       "_dom_classes": [],
       "_model_module": "@jupyter-widgets/controls",
       "_model_module_version": "1.5.0",
       "_model_name": "HTMLModel",
       "_view_count": null,
       "_view_module": "@jupyter-widgets/controls",
       "_view_module_version": "1.5.0",
       "_view_name": "HTMLView",
       "description": "",
       "description_tooltip": null,
       "layout": "IPY_MODEL_c6273d7d2a31411b89d34a13e469a320",
       "placeholder": "​",
       "style": "IPY_MODEL_2c049b0f9cee446c9756d9f658d8d482",
       "value": "<h5><a href=\"https://github.com/jupyter-widgets/ipywidgets\">jupyter-widgets/ipywidgets</a></h5>\n<ul>\n<li><a href=\"https://github.com/jupyter-widgets/ipywidgets/issues/3048\">(#3048)</a>: <em>7.6.0 release notes</em> by <strong><a href=\"https://github.com/jasongrout\">@jasongrout</a></strong></li>\n<li><a href=\"https://github.com/jupyter-widgets/ipywidgets/issues/3063\">(#3063)</a>: <em>Playing an Audio widget programmatically?</em> by <strong><a href=\"https://github.com/deeplook\">@deeplook</a></strong></li>\n<li><a href=\"https://github.com/jupyter-widgets/ipywidgets/issues/3102\">(#3102)</a>: <em>Interactive fails for non-zero decimal default argument</em> by <strong><a href=\"https://github.com/ianhi\">@ianhi</a></strong></li>\n</ul>"
      }
     },
     "b42c6349ac6f460b93f9f008edc2d54f": {
      "model_module": "@jupyter-widgets/controls",
      "model_module_version": "1.5.0",
      "model_name": "DescriptionStyleModel",
      "state": {
       "_model_module": "@jupyter-widgets/controls",
       "_model_module_version": "1.5.0",
       "_model_name": "DescriptionStyleModel",
       "_view_count": null,
       "_view_module": "@jupyter-widgets/base",
       "_view_module_version": "1.2.0",
       "_view_name": "StyleView",
       "description_width": ""
      }
     },
     "b512fc15edb142ceb8f96afeda6bcbfa": {
      "model_module": "@jupyter-widgets/base",
      "model_module_version": "1.2.0",
      "model_name": "LayoutModel",
      "state": {
       "_model_module": "@jupyter-widgets/base",
       "_model_module_version": "1.2.0",
       "_model_name": "LayoutModel",
       "_view_count": null,
       "_view_module": "@jupyter-widgets/base",
       "_view_module_version": "1.2.0",
       "_view_name": "LayoutView",
       "align_content": null,
       "align_items": null,
       "align_self": null,
       "border": null,
       "bottom": null,
       "display": null,
       "flex": null,
       "flex_flow": null,
       "grid_area": null,
       "grid_auto_columns": null,
       "grid_auto_flow": null,
       "grid_auto_rows": null,
       "grid_column": null,
       "grid_gap": null,
       "grid_row": null,
       "grid_template_areas": null,
       "grid_template_columns": null,
       "grid_template_rows": null,
       "height": null,
       "justify_content": null,
       "justify_items": null,
       "left": null,
       "margin": null,
       "max_height": null,
       "max_width": null,
       "min_height": null,
       "min_width": null,
       "object_fit": null,
       "object_position": null,
       "order": null,
       "overflow": null,
       "overflow_x": null,
       "overflow_y": null,
       "padding": null,
       "right": null,
       "top": null,
       "visibility": null,
       "width": null
      }
     },
     "b872ad2f957240b2aa575696d9f71f81": {
      "model_module": "@jupyter-widgets/controls",
      "model_module_version": "1.5.0",
      "model_name": "HTMLModel",
      "state": {
       "_dom_classes": [],
       "_model_module": "@jupyter-widgets/controls",
       "_model_module_version": "1.5.0",
       "_model_name": "HTMLModel",
       "_view_count": null,
       "_view_module": "@jupyter-widgets/controls",
       "_view_module_version": "1.5.0",
       "_view_name": "HTMLView",
       "description": "",
       "description_tooltip": null,
       "layout": "IPY_MODEL_644d3a6275004521a2dadff085625dd4",
       "placeholder": "​",
       "style": "IPY_MODEL_11a108bf9cce48efab1bbed61aad78da",
       "value": "Downloading:: 100%"
      }
     },
     "ba4d02e2f39049d0a9a1ac6d166804a1": {
      "model_module": "@jupyter-widgets/base",
      "model_module_version": "1.2.0",
      "model_name": "LayoutModel",
      "state": {
       "_model_module": "@jupyter-widgets/base",
       "_model_module_version": "1.2.0",
       "_model_name": "LayoutModel",
       "_view_count": null,
       "_view_module": "@jupyter-widgets/base",
       "_view_module_version": "1.2.0",
       "_view_name": "LayoutView",
       "align_content": null,
       "align_items": null,
       "align_self": null,
       "border": null,
       "bottom": null,
       "display": null,
       "flex": null,
       "flex_flow": null,
       "grid_area": null,
       "grid_auto_columns": null,
       "grid_auto_flow": null,
       "grid_auto_rows": null,
       "grid_column": null,
       "grid_gap": null,
       "grid_row": null,
       "grid_template_areas": null,
       "grid_template_columns": null,
       "grid_template_rows": null,
       "height": null,
       "justify_content": null,
       "justify_items": null,
       "left": null,
       "margin": null,
       "max_height": null,
       "max_width": null,
       "min_height": null,
       "min_width": null,
       "object_fit": null,
       "object_position": null,
       "order": null,
       "overflow": null,
       "overflow_x": null,
       "overflow_y": null,
       "padding": null,
       "right": null,
       "top": null,
       "visibility": null,
       "width": null
      }
     },
     "ba75d892073b4caca52fa19b7ed19e60": {
      "model_module": "@jupyter-widgets/base",
      "model_module_version": "1.2.0",
      "model_name": "LayoutModel",
      "state": {
       "_model_module": "@jupyter-widgets/base",
       "_model_module_version": "1.2.0",
       "_model_name": "LayoutModel",
       "_view_count": null,
       "_view_module": "@jupyter-widgets/base",
       "_view_module_version": "1.2.0",
       "_view_name": "LayoutView",
       "align_content": null,
       "align_items": null,
       "align_self": null,
       "border": null,
       "bottom": null,
       "display": null,
       "flex": null,
       "flex_flow": null,
       "grid_area": null,
       "grid_auto_columns": null,
       "grid_auto_flow": null,
       "grid_auto_rows": null,
       "grid_column": null,
       "grid_gap": null,
       "grid_row": null,
       "grid_template_areas": null,
       "grid_template_columns": null,
       "grid_template_rows": null,
       "height": null,
       "justify_content": null,
       "justify_items": null,
       "left": null,
       "margin": null,
       "max_height": null,
       "max_width": null,
       "min_height": null,
       "min_width": null,
       "object_fit": null,
       "object_position": null,
       "order": null,
       "overflow": null,
       "overflow_x": null,
       "overflow_y": null,
       "padding": null,
       "right": null,
       "top": null,
       "visibility": null,
       "width": null
      }
     },
     "bd59610a7dcf4d4e8ed9e9f4e5c84be1": {
      "model_module": "@jupyter-widgets/controls",
      "model_module_version": "1.5.0",
      "model_name": "HTMLModel",
      "state": {
       "_dom_classes": [],
       "_model_module": "@jupyter-widgets/controls",
       "_model_module_version": "1.5.0",
       "_model_name": "HTMLModel",
       "_view_count": null,
       "_view_module": "@jupyter-widgets/controls",
       "_view_module_version": "1.5.0",
       "_view_name": "HTMLView",
       "description": "",
       "description_tooltip": null,
       "layout": "IPY_MODEL_37a3bc0a1a0d4ab2a0b78c28fedeb8e1",
       "placeholder": "​",
       "style": "IPY_MODEL_ed9e379ffe3f4c48b3595cb586fc0f6f",
       "value": " 112/112 [00:02&lt;00:00, 43.12issues/s]"
      }
     },
     "c0cdb01cf1e14b9ea50b8735add9d287": {
      "model_module": "@jupyter-widgets/base",
      "model_module_version": "1.2.0",
      "model_name": "LayoutModel",
      "state": {
       "_model_module": "@jupyter-widgets/base",
       "_model_module_version": "1.2.0",
       "_model_name": "LayoutModel",
       "_view_count": null,
       "_view_module": "@jupyter-widgets/base",
       "_view_module_version": "1.2.0",
       "_view_name": "LayoutView",
       "align_content": null,
       "align_items": null,
       "align_self": null,
       "border": null,
       "bottom": null,
       "display": null,
       "flex": null,
       "flex_flow": null,
       "grid_area": null,
       "grid_auto_columns": null,
       "grid_auto_flow": null,
       "grid_auto_rows": null,
       "grid_column": null,
       "grid_gap": null,
       "grid_row": null,
       "grid_template_areas": null,
       "grid_template_columns": null,
       "grid_template_rows": null,
       "height": null,
       "justify_content": null,
       "justify_items": null,
       "left": null,
       "margin": null,
       "max_height": null,
       "max_width": null,
       "min_height": null,
       "min_width": null,
       "object_fit": null,
       "object_position": null,
       "order": null,
       "overflow": null,
       "overflow_x": null,
       "overflow_y": null,
       "padding": null,
       "right": null,
       "top": null,
       "visibility": null,
       "width": null
      }
     },
     "c21ffc3c300246e9aae23916e1705c51": {
      "model_module": "@jupyter-widgets/controls",
      "model_module_version": "1.5.0",
      "model_name": "HTMLModel",
      "state": {
       "_dom_classes": [],
       "_model_module": "@jupyter-widgets/controls",
       "_model_module_version": "1.5.0",
       "_model_name": "HTMLModel",
       "_view_count": null,
       "_view_module": "@jupyter-widgets/controls",
       "_view_module_version": "1.5.0",
       "_view_name": "HTMLView",
       "description": "",
       "description_tooltip": null,
       "layout": "IPY_MODEL_c28d2ca6ff6643bd9a528a55f55712dc",
       "placeholder": "​",
       "style": "IPY_MODEL_cb501448a16042a98f7bfc57c06a74d2",
       "value": "<h5><a href=\"https://github.com/jupyter-widgets/team-compass\">jupyter-widgets/team-compass</a></h5>\n<ul>\n<li><a href=\"https://github.com/jupyter-widgets/team-compass/issues/2\">(#2)</a>: <em>Bi-weekly meeting time</em> by <strong><a href=\"https://github.com/jasongrout\">@jasongrout</a></strong></li>\n<li><a href=\"https://github.com/jupyter-widgets/team-compass/issues/1\">(#1)</a>: <em>2021 Jupyter Widgets Dev Meetings</em> by <strong><a href=\"https://github.com/jasongrout\">@jasongrout</a></strong></li>\n</ul>"
      }
     },
     "c28d2ca6ff6643bd9a528a55f55712dc": {
      "model_module": "@jupyter-widgets/base",
      "model_module_version": "1.2.0",
      "model_name": "LayoutModel",
      "state": {
       "_model_module": "@jupyter-widgets/base",
       "_model_module_version": "1.2.0",
       "_model_name": "LayoutModel",
       "_view_count": null,
       "_view_module": "@jupyter-widgets/base",
       "_view_module_version": "1.2.0",
       "_view_name": "LayoutView",
       "align_content": null,
       "align_items": null,
       "align_self": null,
       "border": null,
       "bottom": null,
       "display": null,
       "flex": null,
       "flex_flow": null,
       "grid_area": null,
       "grid_auto_columns": null,
       "grid_auto_flow": null,
       "grid_auto_rows": null,
       "grid_column": null,
       "grid_gap": null,
       "grid_row": null,
       "grid_template_areas": null,
       "grid_template_columns": null,
       "grid_template_rows": null,
       "height": null,
       "justify_content": null,
       "justify_items": null,
       "left": null,
       "margin": null,
       "max_height": null,
       "max_width": null,
       "min_height": null,
       "min_width": null,
       "object_fit": null,
       "object_position": null,
       "order": null,
       "overflow": null,
       "overflow_x": null,
       "overflow_y": null,
       "padding": null,
       "right": null,
       "top": null,
       "visibility": null,
       "width": null
      }
     },
     "c4dcee07923e4cc8a6f1f785c18a4e05": {
      "model_module": "@jupyter-widgets/base",
      "model_module_version": "1.2.0",
      "model_name": "LayoutModel",
      "state": {
       "_model_module": "@jupyter-widgets/base",
       "_model_module_version": "1.2.0",
       "_model_name": "LayoutModel",
       "_view_count": null,
       "_view_module": "@jupyter-widgets/base",
       "_view_module_version": "1.2.0",
       "_view_name": "LayoutView",
       "align_content": null,
       "align_items": null,
       "align_self": null,
       "border": null,
       "bottom": null,
       "display": null,
       "flex": null,
       "flex_flow": null,
       "grid_area": null,
       "grid_auto_columns": null,
       "grid_auto_flow": null,
       "grid_auto_rows": null,
       "grid_column": null,
       "grid_gap": null,
       "grid_row": null,
       "grid_template_areas": null,
       "grid_template_columns": null,
       "grid_template_rows": null,
       "height": null,
       "justify_content": null,
       "justify_items": null,
       "left": null,
       "margin": null,
       "max_height": null,
       "max_width": null,
       "min_height": null,
       "min_width": null,
       "object_fit": null,
       "object_position": null,
       "order": null,
       "overflow": null,
       "overflow_x": null,
       "overflow_y": null,
       "padding": null,
       "right": null,
       "top": null,
       "visibility": null,
       "width": null
      }
     },
     "c6273d7d2a31411b89d34a13e469a320": {
      "model_module": "@jupyter-widgets/base",
      "model_module_version": "1.2.0",
      "model_name": "LayoutModel",
      "state": {
       "_model_module": "@jupyter-widgets/base",
       "_model_module_version": "1.2.0",
       "_model_name": "LayoutModel",
       "_view_count": null,
       "_view_module": "@jupyter-widgets/base",
       "_view_module_version": "1.2.0",
       "_view_name": "LayoutView",
       "align_content": null,
       "align_items": null,
       "align_self": null,
       "border": null,
       "bottom": null,
       "display": null,
       "flex": null,
       "flex_flow": null,
       "grid_area": null,
       "grid_auto_columns": null,
       "grid_auto_flow": null,
       "grid_auto_rows": null,
       "grid_column": null,
       "grid_gap": null,
       "grid_row": null,
       "grid_template_areas": null,
       "grid_template_columns": null,
       "grid_template_rows": null,
       "height": null,
       "justify_content": null,
       "justify_items": null,
       "left": null,
       "margin": null,
       "max_height": null,
       "max_width": null,
       "min_height": null,
       "min_width": null,
       "object_fit": null,
       "object_position": null,
       "order": null,
       "overflow": null,
       "overflow_x": null,
       "overflow_y": null,
       "padding": null,
       "right": null,
       "top": null,
       "visibility": null,
       "width": null
      }
     },
     "c755abaac6074980b0e9d2a6a6df8862": {
      "model_module": "@jupyter-widgets/controls",
      "model_module_version": "1.5.0",
      "model_name": "DescriptionStyleModel",
      "state": {
       "_model_module": "@jupyter-widgets/controls",
       "_model_module_version": "1.5.0",
       "_model_name": "DescriptionStyleModel",
       "_view_count": null,
       "_view_module": "@jupyter-widgets/base",
       "_view_module_version": "1.2.0",
       "_view_name": "StyleView",
       "description_width": ""
      }
     },
     "caf763acc37048878a1a6b7cdd5fa651": {
      "model_module": "@jupyter-widgets/controls",
      "model_module_version": "1.5.0",
      "model_name": "DescriptionStyleModel",
      "state": {
       "_model_module": "@jupyter-widgets/controls",
       "_model_module_version": "1.5.0",
       "_model_name": "DescriptionStyleModel",
       "_view_count": null,
       "_view_module": "@jupyter-widgets/base",
       "_view_module_version": "1.2.0",
       "_view_name": "StyleView",
       "description_width": ""
      }
     },
     "cb501448a16042a98f7bfc57c06a74d2": {
      "model_module": "@jupyter-widgets/controls",
      "model_module_version": "1.5.0",
      "model_name": "DescriptionStyleModel",
      "state": {
       "_model_module": "@jupyter-widgets/controls",
       "_model_module_version": "1.5.0",
       "_model_name": "DescriptionStyleModel",
       "_view_count": null,
       "_view_module": "@jupyter-widgets/base",
       "_view_module_version": "1.2.0",
       "_view_name": "StyleView",
       "description_width": ""
      }
     },
     "cc0cf0674cd540179b1acfe202cdbf44": {
      "model_module": "@jupyter-widgets/base",
      "model_module_version": "1.2.0",
      "model_name": "LayoutModel",
      "state": {
       "_model_module": "@jupyter-widgets/base",
       "_model_module_version": "1.2.0",
       "_model_name": "LayoutModel",
       "_view_count": null,
       "_view_module": "@jupyter-widgets/base",
       "_view_module_version": "1.2.0",
       "_view_name": "LayoutView",
       "align_content": null,
       "align_items": null,
       "align_self": null,
       "border": null,
       "bottom": null,
       "display": null,
       "flex": null,
       "flex_flow": null,
       "grid_area": null,
       "grid_auto_columns": null,
       "grid_auto_flow": null,
       "grid_auto_rows": null,
       "grid_column": null,
       "grid_gap": null,
       "grid_row": null,
       "grid_template_areas": null,
       "grid_template_columns": null,
       "grid_template_rows": null,
       "height": null,
       "justify_content": null,
       "justify_items": null,
       "left": null,
       "margin": null,
       "max_height": null,
       "max_width": null,
       "min_height": null,
       "min_width": null,
       "object_fit": null,
       "object_position": null,
       "order": null,
       "overflow": null,
       "overflow_x": null,
       "overflow_y": null,
       "padding": null,
       "right": null,
       "top": null,
       "visibility": null,
       "width": null
      }
     },
     "cc1f8dee10084a3099dbf6bafdd71141": {
      "model_module": "@jupyter-widgets/controls",
      "model_module_version": "1.5.0",
      "model_name": "DescriptionStyleModel",
      "state": {
       "_model_module": "@jupyter-widgets/controls",
       "_model_module_version": "1.5.0",
       "_model_name": "DescriptionStyleModel",
       "_view_count": null,
       "_view_module": "@jupyter-widgets/base",
       "_view_module_version": "1.2.0",
       "_view_name": "StyleView",
       "description_width": ""
      }
     },
     "cf2aa7ca30f14c6e86ca41bd1779b421": {
      "model_module": "@jupyter-widgets/controls",
      "model_module_version": "1.5.0",
      "model_name": "HTMLModel",
      "state": {
       "_dom_classes": [],
       "_model_module": "@jupyter-widgets/controls",
       "_model_module_version": "1.5.0",
       "_model_name": "HTMLModel",
       "_view_count": null,
       "_view_module": "@jupyter-widgets/controls",
       "_view_module_version": "1.5.0",
       "_view_name": "HTMLView",
       "description": "",
       "description_tooltip": null,
       "layout": "IPY_MODEL_cc0cf0674cd540179b1acfe202cdbf44",
       "placeholder": "​",
       "style": "IPY_MODEL_409f487c35e74da084afd745a2d93d69",
       "value": " 138/138 [00:03&lt;00:00, 35.56issues/s]"
      }
     },
     "d01b4f10228e4b46a170421a9807181e": {
      "model_module": "@jupyter-widgets/controls",
      "model_module_version": "1.5.0",
      "model_name": "DescriptionStyleModel",
      "state": {
       "_model_module": "@jupyter-widgets/controls",
       "_model_module_version": "1.5.0",
       "_model_name": "DescriptionStyleModel",
       "_view_count": null,
       "_view_module": "@jupyter-widgets/base",
       "_view_module_version": "1.2.0",
       "_view_name": "StyleView",
       "description_width": ""
      }
     },
     "d3331c3f353b4270afb5a8d33f6d72c4": {
      "model_module": "@jupyter-widgets/controls",
      "model_module_version": "1.5.0",
      "model_name": "TabModel",
      "state": {
       "_dom_classes": [],
       "_model_module": "@jupyter-widgets/controls",
       "_model_module_version": "1.5.0",
       "_model_name": "TabModel",
       "_titles": {
        "0": "ipyleaflet",
        "1": "ipywidgets",
        "2": "jupyterlab-sidecar",
        "3": "pythreejs",
        "4": "team-compass",
        "5": "tutorial",
        "6": "widget-cookiecutter",
        "7": "widget-ts-cookiecutter"
       },
       "_view_count": null,
       "_view_module": "@jupyter-widgets/controls",
       "_view_module_version": "1.5.0",
       "_view_name": "TabView",
       "box_style": "",
       "children": [
        "IPY_MODEL_5b7ad1e6635a41149fcb1a0e8e576a33",
        "IPY_MODEL_b1e0483caf57466ca77dda40ff84ec39",
        "IPY_MODEL_fc5b9eae089a4cdb8bcae7c24b13c938",
        "IPY_MODEL_2d68dca37e0a450689734772d28298c8",
        "IPY_MODEL_291ff784630144248b7a64ffe08a6017",
        "IPY_MODEL_92df0fdf7c53443e8e2db93e6988b32f",
        "IPY_MODEL_954e9b3c1db644ae9449b941ba999b82",
        "IPY_MODEL_89b53f1950254642a4463bf52e57bcb5"
       ],
       "layout": "IPY_MODEL_0ab92666bf5d445ba411cb6079b3db81",
       "selected_index": 0
      }
     },
     "d6e083151dab4caea6ff60f4331b429e": {
      "model_module": "@jupyter-widgets/controls",
      "model_module_version": "1.5.0",
      "model_name": "HTMLModel",
      "state": {
       "_dom_classes": [],
       "_model_module": "@jupyter-widgets/controls",
       "_model_module_version": "1.5.0",
       "_model_name": "HTMLModel",
       "_view_count": null,
       "_view_module": "@jupyter-widgets/controls",
       "_view_module_version": "1.5.0",
       "_view_name": "HTMLView",
       "description": "",
       "description_tooltip": null,
       "layout": "IPY_MODEL_510eab41f0fb4494942bf5c984b526fe",
       "placeholder": "​",
       "style": "IPY_MODEL_24414a683f6543f594994b5a692cef3f",
       "value": "<h5><a href=\"https://github.com/jupyter-widgets/ipyleaflet\">jupyter-widgets/ipyleaflet</a></h5>\n<ul>\n<li><a href=\"https://github.com/jupyter-widgets/ipyleaflet/issues/779\">(#779)</a>: <em>OSError: Could not find library geos_c or load any of its variants ['/Library/Frameworks/GEOS.framework/Versions/Current/GEOS', '/opt/local/lib/libgeos_c.dylib']</em> by <strong><a href=\"https://github.com/AK-1996\">@AK-1996</a></strong></li>\n<li><a href=\"https://github.com/jupyter-widgets/ipyleaflet/issues/767\">(#767)</a>: <em>LocalTileLayer, Jupyter notebook and Voila</em> by <strong><a href=\"https://github.com/jifcon\">@jifcon</a></strong></li>\n<li><a href=\"https://github.com/jupyter-widgets/ipyleaflet/issues/789\">(#789)</a>: <em>DrawControl imported polygon</em> by <strong><a href=\"https://github.com/eironman3\">@eironman3</a></strong></li>\n<li><a href=\"https://github.com/jupyter-widgets/ipyleaflet/issues/776\">(#776)</a>: <em>Ipyleaflet maps are not displayed in binder</em> by <strong><a href=\"https://github.com/LuciaGiagnolini12\">@LuciaGiagnolini12</a></strong></li>\n<li><a href=\"https://github.com/jupyter-widgets/ipyleaflet/issues/769\">(#769)</a>: _ipyleaflet v0.13.4 import error on Windows 10 _ by <strong><a href=\"https://github.com/giswqs\">@giswqs</a></strong></li>\n</ul>"
      }
     },
     "d84f192a491b49a798e8c15c90ce7e5d": {
      "model_module": "@jupyter-widgets/controls",
      "model_module_version": "1.5.0",
      "model_name": "HTMLModel",
      "state": {
       "_dom_classes": [],
       "_model_module": "@jupyter-widgets/controls",
       "_model_module_version": "1.5.0",
       "_model_name": "HTMLModel",
       "_view_count": null,
       "_view_module": "@jupyter-widgets/controls",
       "_view_module_version": "1.5.0",
       "_view_name": "HTMLView",
       "description": "",
       "description_tooltip": null,
       "layout": "IPY_MODEL_357e9a3399834b3a8814a359479c3060",
       "placeholder": "​",
       "style": "IPY_MODEL_f8ca985575ef4f04931e3fd889c790fe",
       "value": "<h5><a href=\"https://github.com/jupyter-widgets/tutorial\">jupyter-widgets/tutorial</a></h5>\n<ul>\n<li><a href=\"https://github.com/jupyter-widgets/tutorial/issues/118\">(#118)</a>: <em>Extensions build error</em> by <strong><a href=\"https://github.com/matt1hong\">@matt1hong</a></strong></li>\n</ul>"
      }
     },
     "d8654f14ab5f457bb8c447ce1cebdacd": {
      "model_module": "@jupyter-widgets/base",
      "model_module_version": "1.2.0",
      "model_name": "LayoutModel",
      "state": {
       "_model_module": "@jupyter-widgets/base",
       "_model_module_version": "1.2.0",
       "_model_name": "LayoutModel",
       "_view_count": null,
       "_view_module": "@jupyter-widgets/base",
       "_view_module_version": "1.2.0",
       "_view_name": "LayoutView",
       "align_content": null,
       "align_items": null,
       "align_self": null,
       "border": null,
       "bottom": null,
       "display": null,
       "flex": null,
       "flex_flow": null,
       "grid_area": null,
       "grid_auto_columns": null,
       "grid_auto_flow": null,
       "grid_auto_rows": null,
       "grid_column": null,
       "grid_gap": null,
       "grid_row": null,
       "grid_template_areas": null,
       "grid_template_columns": null,
       "grid_template_rows": null,
       "height": null,
       "justify_content": null,
       "justify_items": null,
       "left": null,
       "margin": null,
       "max_height": null,
       "max_width": null,
       "min_height": null,
       "min_width": null,
       "object_fit": null,
       "object_position": null,
       "order": null,
       "overflow": null,
       "overflow_x": null,
       "overflow_y": null,
       "padding": null,
       "right": null,
       "top": null,
       "visibility": null,
       "width": null
      }
     },
     "e38bb11bf97c46b480fd2a72380ac6f2": {
      "model_module": "@jupyter-widgets/controls",
      "model_module_version": "1.5.0",
      "model_name": "DescriptionStyleModel",
      "state": {
       "_model_module": "@jupyter-widgets/controls",
       "_model_module_version": "1.5.0",
       "_model_name": "DescriptionStyleModel",
       "_view_count": null,
       "_view_module": "@jupyter-widgets/base",
       "_view_module_version": "1.2.0",
       "_view_name": "StyleView",
       "description_width": ""
      }
     },
     "e3c1ad54494c4d00a012565a3bafdedf": {
      "model_module": "@jupyter-widgets/controls",
      "model_module_version": "1.5.0",
      "model_name": "TabModel",
      "state": {
       "_dom_classes": [],
       "_model_module": "@jupyter-widgets/controls",
       "_model_module_version": "1.5.0",
       "_model_name": "TabModel",
       "_titles": {
        "0": "ipyleaflet",
        "1": "ipywidgets",
        "2": "jupyterlab-sidecar",
        "3": "pythreejs",
        "4": "widget-cookiecutter",
        "5": "widget-ts-cookiecutter"
       },
       "_view_count": null,
       "_view_module": "@jupyter-widgets/controls",
       "_view_module_version": "1.5.0",
       "_view_name": "TabView",
       "box_style": "",
       "children": [
        "IPY_MODEL_2b421972e2d84c639bac5da1bdf64e5c",
        "IPY_MODEL_b13b920f00254d48ab0e61e4d77a2a8e",
        "IPY_MODEL_ebf0c499e106427685aa7a9fb017b1bb",
        "IPY_MODEL_6461b6c726064e81b4028e4aaec109bf",
        "IPY_MODEL_ee19017004a342b4b2938d601638f91f",
        "IPY_MODEL_57f387bbdf9f49159f26348c9ebf0f6d"
       ],
       "layout": "IPY_MODEL_5ae7cf3ce15647ee9395fe770db3e6fa",
       "selected_index": 0
      }
     },
     "e3cc9b5e4df64ad284366115304fc69b": {
      "model_module": "@jupyter-widgets/controls",
      "model_module_version": "1.5.0",
      "model_name": "HBoxModel",
      "state": {
       "_dom_classes": [],
       "_model_module": "@jupyter-widgets/controls",
       "_model_module_version": "1.5.0",
       "_model_name": "HBoxModel",
       "_view_count": null,
       "_view_module": "@jupyter-widgets/controls",
       "_view_module_version": "1.5.0",
       "_view_name": "HBoxView",
       "box_style": "",
       "children": [
        "IPY_MODEL_b872ad2f957240b2aa575696d9f71f81",
        "IPY_MODEL_99cef07172ed49a4b77031c976f9ec88",
        "IPY_MODEL_bd59610a7dcf4d4e8ed9e9f4e5c84be1"
       ],
       "layout": "IPY_MODEL_ea9e41b708194e73bfe03a6c897876cb"
      }
     },
     "e3e7269875ec49aa88cde1aba3083ee7": {
      "model_module": "@jupyter-widgets/controls",
      "model_module_version": "1.5.0",
      "model_name": "DescriptionStyleModel",
      "state": {
       "_model_module": "@jupyter-widgets/controls",
       "_model_module_version": "1.5.0",
       "_model_name": "DescriptionStyleModel",
       "_view_count": null,
       "_view_module": "@jupyter-widgets/base",
       "_view_module_version": "1.2.0",
       "_view_name": "StyleView",
       "description_width": ""
      }
     },
     "e6d62fa9f3294c9aaef74896e207e463": {
      "model_module": "@jupyter-widgets/controls",
      "model_module_version": "1.5.0",
      "model_name": "DescriptionStyleModel",
      "state": {
       "_model_module": "@jupyter-widgets/controls",
       "_model_module_version": "1.5.0",
       "_model_name": "DescriptionStyleModel",
       "_view_count": null,
       "_view_module": "@jupyter-widgets/base",
       "_view_module_version": "1.2.0",
       "_view_name": "StyleView",
       "description_width": ""
      }
     },
     "e7c7b01c9f794ec9a759f665c0f34aa0": {
      "model_module": "@jupyter-widgets/base",
      "model_module_version": "1.2.0",
      "model_name": "LayoutModel",
      "state": {
       "_model_module": "@jupyter-widgets/base",
       "_model_module_version": "1.2.0",
       "_model_name": "LayoutModel",
       "_view_count": null,
       "_view_module": "@jupyter-widgets/base",
       "_view_module_version": "1.2.0",
       "_view_name": "LayoutView",
       "align_content": null,
       "align_items": null,
       "align_self": null,
       "border": null,
       "bottom": null,
       "display": null,
       "flex": null,
       "flex_flow": null,
       "grid_area": null,
       "grid_auto_columns": null,
       "grid_auto_flow": null,
       "grid_auto_rows": null,
       "grid_column": null,
       "grid_gap": null,
       "grid_row": null,
       "grid_template_areas": null,
       "grid_template_columns": null,
       "grid_template_rows": null,
       "height": null,
       "justify_content": null,
       "justify_items": null,
       "left": null,
       "margin": null,
       "max_height": null,
       "max_width": null,
       "min_height": null,
       "min_width": null,
       "object_fit": null,
       "object_position": null,
       "order": null,
       "overflow": null,
       "overflow_x": null,
       "overflow_y": null,
       "padding": null,
       "right": null,
       "top": null,
       "visibility": null,
       "width": null
      }
     },
     "ea9e41b708194e73bfe03a6c897876cb": {
      "model_module": "@jupyter-widgets/base",
      "model_module_version": "1.2.0",
      "model_name": "LayoutModel",
      "state": {
       "_model_module": "@jupyter-widgets/base",
       "_model_module_version": "1.2.0",
       "_model_name": "LayoutModel",
       "_view_count": null,
       "_view_module": "@jupyter-widgets/base",
       "_view_module_version": "1.2.0",
       "_view_name": "LayoutView",
       "align_content": null,
       "align_items": null,
       "align_self": null,
       "border": null,
       "bottom": null,
       "display": null,
       "flex": null,
       "flex_flow": null,
       "grid_area": null,
       "grid_auto_columns": null,
       "grid_auto_flow": null,
       "grid_auto_rows": null,
       "grid_column": null,
       "grid_gap": null,
       "grid_row": null,
       "grid_template_areas": null,
       "grid_template_columns": null,
       "grid_template_rows": null,
       "height": null,
       "justify_content": null,
       "justify_items": null,
       "left": null,
       "margin": null,
       "max_height": null,
       "max_width": null,
       "min_height": null,
       "min_width": null,
       "object_fit": null,
       "object_position": null,
       "order": null,
       "overflow": null,
       "overflow_x": null,
       "overflow_y": null,
       "padding": null,
       "right": null,
       "top": null,
       "visibility": null,
       "width": null
      }
     },
     "ebf0c499e106427685aa7a9fb017b1bb": {
      "model_module": "@jupyter-widgets/controls",
      "model_module_version": "1.5.0",
      "model_name": "HTMLModel",
      "state": {
       "_dom_classes": [],
       "_model_module": "@jupyter-widgets/controls",
       "_model_module_version": "1.5.0",
       "_model_name": "HTMLModel",
       "_view_count": null,
       "_view_module": "@jupyter-widgets/controls",
       "_view_module_version": "1.5.0",
       "_view_name": "HTMLView",
       "description": "",
       "description_tooltip": null,
       "layout": "IPY_MODEL_084af8fbc85d4ad98c0544afcd10a922",
       "placeholder": "​",
       "style": "IPY_MODEL_ac172103b6bd4692abd7c3c26a4e6678",
       "value": "<h4>Closed PRs for repo: <a href=\"https://github.com/jupyter-widgets/jupyterlab-sidecar\">jupyter-widgets/jupyterlab-sidecar</a></h4>\n<h5></h5>\n<ul>\n<li><a href=\"https://github.com/jupyter-widgets/jupyterlab-sidecar/pull/58\">(#58)</a>: <em>JupyterLab 3</em> by <strong><a href=\"https://github.com/martinRenou\">@martinRenou</a></strong> merged by <strong><a href=\"https://github.com/martinRenou\">@martinRenou</a></strong></li>\n</ul>"
      }
     },
     "ed9e379ffe3f4c48b3595cb586fc0f6f": {
      "model_module": "@jupyter-widgets/controls",
      "model_module_version": "1.5.0",
      "model_name": "DescriptionStyleModel",
      "state": {
       "_model_module": "@jupyter-widgets/controls",
       "_model_module_version": "1.5.0",
       "_model_name": "DescriptionStyleModel",
       "_view_count": null,
       "_view_module": "@jupyter-widgets/base",
       "_view_module_version": "1.2.0",
       "_view_name": "StyleView",
       "description_width": ""
      }
     },
     "ee19017004a342b4b2938d601638f91f": {
      "model_module": "@jupyter-widgets/controls",
      "model_module_version": "1.5.0",
      "model_name": "HTMLModel",
      "state": {
       "_dom_classes": [],
       "_model_module": "@jupyter-widgets/controls",
       "_model_module_version": "1.5.0",
       "_model_name": "HTMLModel",
       "_view_count": null,
       "_view_module": "@jupyter-widgets/controls",
       "_view_module_version": "1.5.0",
       "_view_name": "HTMLView",
       "description": "",
       "description_tooltip": null,
       "layout": "IPY_MODEL_2575bc8b10a34cffa7a14e643e9a2d4f",
       "placeholder": "​",
       "style": "IPY_MODEL_e38bb11bf97c46b480fd2a72380ac6f2",
       "value": "<h4>Closed PRs for repo: <a href=\"https://github.com/jupyter-widgets/widget-cookiecutter\">jupyter-widgets/widget-cookiecutter</a></h4>\n<h5></h5>\n<ul>\n<li><a href=\"https://github.com/jupyter-widgets/widget-cookiecutter/pull/89\">(#89)</a>: <em>Update README lab install instructions</em> by <strong><a href=\"https://github.com/willeppy\">@willeppy</a></strong> merged by <strong><a href=\"https://github.com/jasongrout\">@jasongrout</a></strong></li>\n<li><a href=\"https://github.com/jupyter-widgets/widget-cookiecutter/pull/86\">(#86)</a>: <em>Fix typo</em> by <strong><a href=\"https://github.com/flekschas\">@flekschas</a></strong> merged by <strong><a href=\"https://github.com/jasongrout\">@jasongrout</a></strong></li>\n<li><a href=\"https://github.com/jupyter-widgets/widget-cookiecutter/pull/81\">(#81)</a>: <em>JupyterLab plugin ids are by convention <packagename>:<pluginname></em> by <strong><a href=\"https://github.com/jasongrout\">@jasongrout</a></strong> merged by <strong><a href=\"https://github.com/jasongrout\">@jasongrout</a></strong></li>\n<li><a href=\"https://github.com/jupyter-widgets/widget-cookiecutter/pull/72\">(#72)</a>: <em>Update for JupyterLab 3</em> by <strong><a href=\"https://github.com/martinRenou\">@martinRenou</a></strong> merged by <strong><a href=\"https://github.com/martinRenou\">@martinRenou</a></strong></li>\n</ul>"
      }
     },
     "efeba099e63341048fc7d60d439cf8de": {
      "model_module": "@jupyter-widgets/controls",
      "model_module_version": "1.5.0",
      "model_name": "ProgressStyleModel",
      "state": {
       "_model_module": "@jupyter-widgets/controls",
       "_model_module_version": "1.5.0",
       "_model_name": "ProgressStyleModel",
       "_view_count": null,
       "_view_module": "@jupyter-widgets/base",
       "_view_module_version": "1.2.0",
       "_view_name": "StyleView",
       "bar_color": null,
       "description_width": ""
      }
     },
     "f061418b36334909b505d91a52a7a6c9": {
      "model_module": "@jupyter-widgets/controls",
      "model_module_version": "1.5.0",
      "model_name": "FloatProgressModel",
      "state": {
       "_dom_classes": [],
       "_model_module": "@jupyter-widgets/controls",
       "_model_module_version": "1.5.0",
       "_model_name": "FloatProgressModel",
       "_view_count": null,
       "_view_module": "@jupyter-widgets/controls",
       "_view_module_version": "1.5.0",
       "_view_name": "ProgressView",
       "bar_style": "",
       "description": "",
       "description_tooltip": null,
       "layout": "IPY_MODEL_3fb7bb552c6d42daa64954768435c05e",
       "max": 138.0,
       "min": 0.0,
       "orientation": "horizontal",
       "style": "IPY_MODEL_6334ca42553a4b2fb8bbf33bc0505ca0",
       "value": 138.0
      }
     },
     "f86175076be04187ac049026230421d8": {
      "model_module": "@jupyter-widgets/base",
      "model_module_version": "1.2.0",
      "model_name": "LayoutModel",
      "state": {
       "_model_module": "@jupyter-widgets/base",
       "_model_module_version": "1.2.0",
       "_model_name": "LayoutModel",
       "_view_count": null,
       "_view_module": "@jupyter-widgets/base",
       "_view_module_version": "1.2.0",
       "_view_name": "LayoutView",
       "align_content": null,
       "align_items": null,
       "align_self": null,
       "border": null,
       "bottom": null,
       "display": null,
       "flex": null,
       "flex_flow": null,
       "grid_area": null,
       "grid_auto_columns": null,
       "grid_auto_flow": null,
       "grid_auto_rows": null,
       "grid_column": null,
       "grid_gap": null,
       "grid_row": null,
       "grid_template_areas": null,
       "grid_template_columns": null,
       "grid_template_rows": null,
       "height": null,
       "justify_content": null,
       "justify_items": null,
       "left": null,
       "margin": null,
       "max_height": null,
       "max_width": null,
       "min_height": null,
       "min_width": null,
       "object_fit": null,
       "object_position": null,
       "order": null,
       "overflow": null,
       "overflow_x": null,
       "overflow_y": null,
       "padding": null,
       "right": null,
       "top": null,
       "visibility": null,
       "width": null
      }
     },
     "f8ca985575ef4f04931e3fd889c790fe": {
      "model_module": "@jupyter-widgets/controls",
      "model_module_version": "1.5.0",
      "model_name": "DescriptionStyleModel",
      "state": {
       "_model_module": "@jupyter-widgets/controls",
       "_model_module_version": "1.5.0",
       "_model_name": "DescriptionStyleModel",
       "_view_count": null,
       "_view_module": "@jupyter-widgets/base",
       "_view_module_version": "1.2.0",
       "_view_name": "StyleView",
       "description_width": ""
      }
     },
     "f9e50b3af16648438ae9f027e304ea7b": {
      "model_module": "@jupyter-widgets/controls",
      "model_module_version": "1.5.0",
      "model_name": "HTMLModel",
      "state": {
       "_dom_classes": [],
       "_model_module": "@jupyter-widgets/controls",
       "_model_module_version": "1.5.0",
       "_model_name": "HTMLModel",
       "_view_count": null,
       "_view_module": "@jupyter-widgets/controls",
       "_view_module_version": "1.5.0",
       "_view_name": "HTMLView",
       "description": "",
       "description_tooltip": null,
       "layout": "IPY_MODEL_c0cdb01cf1e14b9ea50b8735add9d287",
       "placeholder": "​",
       "style": "IPY_MODEL_01a2c836097e4381866c324dd7f1b7bd",
       "value": "<ul>\n<li>(3) Add a ROADMAP.md or PLANNING.md to the repo - ipywidgets - <a href=\"https://github.com/jupyter-widgets/ipywidgets/issues/3077\">#3077</a></li>\n<li>(1) Polyline/polygons/antpath: use binary buffers for locations list - ipyleaflet - <a href=\"https://github.com/jupyter-widgets/ipyleaflet/issues/790\">#790</a></li>\n<li>(1) Triage and close PRs from 2019 and earlier for ipywidgets - team-compass - <a href=\"https://github.com/jupyter-widgets/team-compass/issues/3\">#3</a></li>\n<li>(1) We should save the (minimal) widget state in the notebook file by default - ipywidgets - <a href=\"https://github.com/jupyter-widgets/ipywidgets/issues/3108\">#3108</a></li>\n<li>(1) 2021 Jupyter Widgets Dev Meetings - team-compass - <a href=\"https://github.com/jupyter-widgets/team-compass/issues/1\">#1</a></li>\n<li>(1) Add binder links to top of all docs pages - ipywidgets - <a href=\"https://github.com/jupyter-widgets/ipywidgets/issues/3083\">#3083</a></li>\n<li>(0) Add \"maps\" tag to repo - ipyleaflet - <a href=\"https://github.com/jupyter-widgets/ipyleaflet/issues/791\">#791</a></li>\n<li>(0) Broken links on example - ipywidgets - <a href=\"https://github.com/jupyter-widgets/ipywidgets/issues/3061\">#3061</a></li>\n<li>(0) Release instructions do not suggest to bump the model/view version numbers - widget-cookiecutter - <a href=\"https://github.com/jupyter-widgets/widget-cookiecutter/issues/84\">#84</a></li>\n<li>(0) Question: Displaying sum instead of count in MarkerCluster - ipyleaflet - <a href=\"https://github.com/jupyter-widgets/ipyleaflet/issues/778\">#778</a></li>\n<li>(0) ipywidgets Image tooltiping - ipywidgets - <a href=\"https://github.com/jupyter-widgets/ipywidgets/issues/3065\">#3065</a></li>\n<li>(0) Extensions build error - tutorial - <a href=\"https://github.com/jupyter-widgets/tutorial/issues/118\">#118</a></li>\n<li>(0) Playing an Audio widget programmatically? - ipywidgets - <a href=\"https://github.com/jupyter-widgets/ipywidgets/issues/3063\">#3063</a></li>\n<li>(0) Trying to build a Sphere with Earth texture: How to use an HTML canvas as an image texture ? - pythreejs - <a href=\"https://github.com/jupyter-widgets/pythreejs/issues/347\">#347</a></li>\n<li>(0) Question/Observation: post Jupyterlab 3 update  - ipyleaflet - <a href=\"https://github.com/jupyter-widgets/ipyleaflet/issues/774\">#774</a></li>\n<li>(0) Ipyleaflet maps are not displayed in binder - ipyleaflet - <a href=\"https://github.com/jupyter-widgets/ipyleaflet/issues/776\">#776</a></li>\n<li>(0) Examples: Math Rendering Kaputt? - ipywidgets - <a href=\"https://github.com/jupyter-widgets/ipywidgets/issues/3068\">#3068</a></li>\n<li>(0) Issue with processPhosphorMessage method removal - ipyleaflet - <a href=\"https://github.com/jupyter-widgets/ipyleaflet/issues/773\">#773</a></li>\n<li>(0) jupyter-threejs/extension possibly incompatible - pythreejs - <a href=\"https://github.com/jupyter-widgets/pythreejs/issues/346\">#346</a></li>\n<li>(0) JupyterLab 3.x \"Model not found\" error - pythreejs - <a href=\"https://github.com/jupyter-widgets/pythreejs/issues/345\">#345</a></li>\n<li>(0) ipyleaflet v0.13.4 import error on Windows 10  - ipyleaflet - <a href=\"https://github.com/jupyter-widgets/ipyleaflet/issues/769\">#769</a></li>\n<li>(0) RadioButtons not respecting layout align_items / align_content - ipywidgets - <a href=\"https://github.com/jupyter-widgets/ipywidgets/issues/3053\">#3053</a></li>\n<li>(0) Plotting error while debouncing ipywidgets IntSlider - ipywidgets - <a href=\"https://github.com/jupyter-widgets/ipywidgets/issues/3052\">#3052</a></li>\n<li>(0) uv not specified generates trait error in Picker - pythreejs - <a href=\"https://github.com/jupyter-widgets/pythreejs/issues/344\">#344</a></li>\n<li>(0) CI Seems Broken - widget-cookiecutter - <a href=\"https://github.com/jupyter-widgets/widget-cookiecutter/issues/78\">#78</a></li>\n</ul>"
      }
     },
     "fbd3c45df9de41a3bfe0549cbf319888": {
      "model_module": "@jupyter-widgets/base",
      "model_module_version": "1.2.0",
      "model_name": "LayoutModel",
      "state": {
       "_model_module": "@jupyter-widgets/base",
       "_model_module_version": "1.2.0",
       "_model_name": "LayoutModel",
       "_view_count": null,
       "_view_module": "@jupyter-widgets/base",
       "_view_module_version": "1.2.0",
       "_view_name": "LayoutView",
       "align_content": null,
       "align_items": null,
       "align_self": null,
       "border": null,
       "bottom": null,
       "display": null,
       "flex": null,
       "flex_flow": null,
       "grid_area": null,
       "grid_auto_columns": null,
       "grid_auto_flow": null,
       "grid_auto_rows": null,
       "grid_column": null,
       "grid_gap": null,
       "grid_row": null,
       "grid_template_areas": null,
       "grid_template_columns": null,
       "grid_template_rows": null,
       "height": null,
       "justify_content": null,
       "justify_items": null,
       "left": null,
       "margin": null,
       "max_height": null,
       "max_width": null,
       "min_height": null,
       "min_width": null,
       "object_fit": null,
       "object_position": null,
       "order": null,
       "overflow": null,
       "overflow_x": null,
       "overflow_y": null,
       "padding": null,
       "right": null,
       "top": null,
       "visibility": null,
       "width": null
      }
     },
     "fc5b9eae089a4cdb8bcae7c24b13c938": {
      "model_module": "@jupyter-widgets/controls",
      "model_module_version": "1.5.0",
      "model_name": "HTMLModel",
      "state": {
       "_dom_classes": [],
       "_model_module": "@jupyter-widgets/controls",
       "_model_module_version": "1.5.0",
       "_model_name": "HTMLModel",
       "_view_count": null,
       "_view_module": "@jupyter-widgets/controls",
       "_view_module_version": "1.5.0",
       "_view_name": "HTMLView",
       "description": "",
       "description_tooltip": null,
       "layout": "IPY_MODEL_506798b3e00d477da73f3392477ae064",
       "placeholder": "​",
       "style": "IPY_MODEL_8fb3ef93c7a945e0a8af4547093ad028",
       "value": "<h5><a href=\"https://github.com/jupyter-widgets/jupyterlab-sidecar\">jupyter-widgets/jupyterlab-sidecar</a></h5>"
      }
     }
    },
    "version_major": 2,
    "version_minor": 0
   }
  }
 },
 "nbformat": 4,
 "nbformat_minor": 5
}