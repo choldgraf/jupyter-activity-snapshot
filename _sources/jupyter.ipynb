{
 "cells": [
  {
   "cell_type": "markdown",
   "metadata": {
    "papermill": {
     "duration": 0.02005,
     "end_time": "2020-06-12T01:15:16.821381",
     "exception": false,
     "start_time": "2020-06-12T01:15:16.801331",
     "status": "completed"
    },
    "tags": []
   },
   "source": [
    "# {glue:text}`jupyter_github_org`\n",
    "\n",
    "**Activity from {glue:}`jupyter_start` to {glue:}`jupyter_stop`**"
   ]
  },
  {
   "cell_type": "code",
   "execution_count": 1,
   "metadata": {
    "execution": {
     "iopub.execute_input": "2020-06-12T01:15:16.867842Z",
     "iopub.status.busy": "2020-06-12T01:15:16.867264Z",
     "iopub.status.idle": "2020-06-12T01:15:18.160861Z",
     "shell.execute_reply": "2020-06-12T01:15:18.160323Z"
    },
    "papermill": {
     "duration": 1.319508,
     "end_time": "2020-06-12T01:15:18.160975",
     "exception": false,
     "start_time": "2020-06-12T01:15:16.841467",
     "status": "completed"
    },
    "tags": [
     "remove_cell"
    ]
   },
   "outputs": [],
   "source": [
    "import github_activity as ga\n",
    "from datetime import date\n",
    "from dateutil.relativedelta import relativedelta\n",
    "from myst_nb import glue\n",
    "import seaborn as sns\n",
    "import pandas as pd\n",
    "import numpy as np\n",
    "import altair as alt\n",
    "from markdown import markdown\n",
    "from IPython.display import Markdown\n",
    "from ipywidgets.widgets import HTML, Tab\n",
    "from ipywidgets import widgets\n",
    "from datetime import timedelta\n",
    "from matplotlib import pyplot as plt\n",
    "import os.path as op\n",
    "\n",
    "from warnings import simplefilter\n",
    "simplefilter('ignore')"
   ]
  },
  {
   "cell_type": "code",
   "execution_count": 2,
   "metadata": {
    "execution": {
     "iopub.execute_input": "2020-06-12T01:15:18.205504Z",
     "iopub.status.busy": "2020-06-12T01:15:18.204841Z",
     "iopub.status.idle": "2020-06-12T01:15:18.215181Z",
     "shell.execute_reply": "2020-06-12T01:15:18.214336Z"
    },
    "papermill": {
     "duration": 0.033266,
     "end_time": "2020-06-12T01:15:18.215344",
     "exception": false,
     "start_time": "2020-06-12T01:15:18.182078",
     "status": "completed"
    },
    "tags": [
     "remove_cell"
    ]
   },
   "outputs": [],
   "source": [
    "# Altair config\n",
    "def author_url(author):\n",
    "    return f\"https://github.com/{author}\"\n",
    "\n",
    "def alt_theme():\n",
    "    return {\n",
    "        'config': {\n",
    "            'axisLeft': {\n",
    "                'labelFontSize': 15,\n",
    "            },\n",
    "            'axisBottom': {\n",
    "                'labelFontSize': 15,\n",
    "            },\n",
    "        }\n",
    "    }\n",
    "\n",
    "alt.themes.register('my_theme', alt_theme)\n",
    "alt.themes.enable(\"my_theme\")\n",
    "\n",
    "\n",
    "# Define colors we'll use for GitHub membership\n",
    "author_types = ['MEMBER', 'CONTRIBUTOR', 'COLLABORATOR', \"NONE\"]\n",
    "\n",
    "author_palette = np.array(sns.palettes.blend_palette([\"lightgrey\", \"lightgreen\", \"darkgreen\"], 4)) * 256\n",
    "author_colors = [\"rgb({}, {}, {})\".format(*color) for color in author_palette]\n",
    "author_color_dict = {key: val for key, val in zip(author_types, author_palette)}"
   ]
  },
  {
   "cell_type": "code",
   "execution_count": 3,
   "metadata": {
    "execution": {
     "iopub.execute_input": "2020-06-12T01:15:18.259354Z",
     "iopub.status.busy": "2020-06-12T01:15:18.258732Z",
     "iopub.status.idle": "2020-06-12T01:15:18.271731Z",
     "shell.execute_reply": "2020-06-12T01:15:18.271113Z"
    },
    "papermill": {
     "duration": 0.036376,
     "end_time": "2020-06-12T01:15:18.271848",
     "exception": false,
     "start_time": "2020-06-12T01:15:18.235472",
     "status": "completed"
    },
    "tags": [
     "parameters",
     "hide_input",
     "remove_cell"
    ]
   },
   "outputs": [],
   "source": [
    "github_org = \"jupyterhub\"\n",
    "top_n_repos = 15\n",
    "n_days = 60"
   ]
  },
  {
   "cell_type": "code",
   "execution_count": 4,
   "metadata": {
    "execution": {
     "iopub.execute_input": "2020-06-12T01:15:18.319752Z",
     "iopub.status.busy": "2020-06-12T01:15:18.319187Z",
     "iopub.status.idle": "2020-06-12T01:15:18.320853Z",
     "shell.execute_reply": "2020-06-12T01:15:18.321414Z"
    },
    "papermill": {
     "duration": 0.02668,
     "end_time": "2020-06-12T01:15:18.321541",
     "exception": false,
     "start_time": "2020-06-12T01:15:18.294861",
     "status": "completed"
    },
    "tags": [
     "injected-parameters",
     "remove-cell"
    ]
   },
   "outputs": [],
   "source": [
    "# Parameters\n",
    "github_org = \"jupyter\"\n",
    "n_days = 60\n"
   ]
  },
  {
   "cell_type": "code",
   "execution_count": 5,
   "metadata": {
    "execution": {
     "iopub.execute_input": "2020-06-12T01:15:18.367269Z",
     "iopub.status.busy": "2020-06-12T01:15:18.366713Z",
     "iopub.status.idle": "2020-06-12T01:15:18.374221Z",
     "shell.execute_reply": "2020-06-12T01:15:18.373643Z"
    },
    "papermill": {
     "duration": 0.033879,
     "end_time": "2020-06-12T01:15:18.374315",
     "exception": false,
     "start_time": "2020-06-12T01:15:18.340436",
     "status": "completed"
    },
    "tags": [
     "remove_cell"
    ]
   },
   "outputs": [
    {
     "data": {
      "application/papermill.record/text/plain": "'jupyter'"
     },
     "metadata": {
      "scrapbook": {
       "mime_prefix": "application/papermill.record/",
       "name": "jupyter_github_org"
      }
     },
     "output_type": "display_data"
    },
    {
     "data": {
      "application/papermill.record/text/plain": "'2020-04-13'"
     },
     "metadata": {
      "scrapbook": {
       "mime_prefix": "application/papermill.record/",
       "name": "jupyter_start"
      }
     },
     "output_type": "display_data"
    },
    {
     "data": {
      "application/papermill.record/text/plain": "'2020-06-12'"
     },
     "metadata": {
      "scrapbook": {
       "mime_prefix": "application/papermill.record/",
       "name": "jupyter_stop"
      }
     },
     "output_type": "display_data"
    }
   ],
   "source": [
    "############################################################\n",
    "# Variables\n",
    "stop = date.today()\n",
    "start = date.today() - relativedelta(days=n_days)\n",
    "\n",
    "# Strings for use in queries\n",
    "start_date = f\"{start:%Y-%m-%d}\"\n",
    "stop_date = f\"{stop:%Y-%m-%d}\"\n",
    "\n",
    "# Glue variables for use in markdown\n",
    "glue(f\"{github_org}_github_org\", github_org, display=False)\n",
    "glue(f\"{github_org}_start\", start_date, display=False)\n",
    "glue(f\"{github_org}_stop\", stop_date, display=False)"
   ]
  },
  {
   "cell_type": "code",
   "execution_count": 6,
   "metadata": {
    "execution": {
     "iopub.execute_input": "2020-06-12T01:15:18.422430Z",
     "iopub.status.busy": "2020-06-12T01:15:18.421866Z",
     "iopub.status.idle": "2020-06-12T01:16:12.858808Z",
     "shell.execute_reply": "2020-06-12T01:16:12.858203Z"
    },
    "papermill": {
     "duration": 54.461074,
     "end_time": "2020-06-12T01:16:12.858929",
     "exception": false,
     "start_time": "2020-06-12T01:15:18.397855",
     "status": "completed"
    },
    "tags": [
     "remove_cell"
    ]
   },
   "outputs": [
    {
     "name": "stdout",
     "output_type": "stream",
     "text": [
      "Running search query:\n",
      "user:jupyter\n",
      "\n",
      "\n"
     ]
    },
    {
     "name": "stdout",
     "output_type": "stream",
     "text": [
      "Found 546 items, which will take 11 pages\n"
     ]
    },
    {
     "data": {
      "application/vnd.jupyter.widget-view+json": {
       "model_id": "50173d17fe234996ad439b43dd296142",
       "version_major": 2,
       "version_minor": 0
      },
      "text/plain": [
       "IntProgress(value=0, description='Downloading:', max=11)"
      ]
     },
     "metadata": {},
     "output_type": "display_data"
    },
    {
     "name": "stdout",
     "output_type": "stream",
     "text": [
      "Found 454 items, which will take 10 pages\n"
     ]
    },
    {
     "data": {
      "application/vnd.jupyter.widget-view+json": {
       "model_id": "5c3ef0cf6f1c45318879bac50ac47fbd",
       "version_major": 2,
       "version_minor": 0
      },
      "text/plain": [
       "IntProgress(value=0, description='Downloading:', max=10)"
      ]
     },
     "metadata": {},
     "output_type": "display_data"
    }
   ],
   "source": [
    "############################################################\n",
    "# Fetch the raw data and load data we need\n",
    "raw_data = ga.get_activity(github_org, start_date)\n",
    "bot_names = pd.read_csv('../templates/bot_names.csv')['names'].tolist()\n",
    "data = raw_data.copy()\n",
    "\n",
    "# Prepare our data\n",
    "data[\"kind\"] = data[\"url\"].map(lambda a: \"issue\" if \"issues/\" in a else \"pr\")\n",
    "data[\"mergedBy\"] = data[\"mergedBy\"].map(lambda a: a[\"login\"] if not isinstance(a, (float, type(None))) else None)\n",
    "\n",
    "prs = data.query(\"kind == 'pr'\")\n",
    "issues = data.query(\"kind == 'issue'\")\n",
    "\n",
    "# Pull out the comments\n",
    "comments = []\n",
    "for _, irow in data.iterrows():\n",
    "    for icomment in irow['comments']['edges']:\n",
    "        icomment = icomment[\"node\"].copy()\n",
    "        icomment[\"author\"] = icomment[\"author\"][\"login\"] if icomment[\"author\"] else None\n",
    "        icomment[\"org\"] = irow[\"org\"]\n",
    "        icomment[\"repo\"] = irow[\"repo\"]\n",
    "        icomment[\"id\"] = irow[\"id\"]\n",
    "        comments.append(pd.Series(icomment))\n",
    "comments = pd.DataFrame(comments)\n",
    "\n",
    "# Clean up\n",
    "for idata in [prs, comments, issues]:\n",
    "    idata.query(\"author not in @bot_names\", inplace=True)\n",
    "    idata.drop_duplicates(subset=[\"url\"], inplace=True)\n",
    "\n",
    "# What are the top N repos, we will only plot these in the full data plots\n",
    "top_commented_repos = comments.groupby(\"repo\").count().sort_values(\"createdAt\", ascending=False)['createdAt']\n",
    "use_repos = top_commented_repos.head(top_n_repos).index.tolist()"
   ]
  },
  {
   "cell_type": "markdown",
   "metadata": {
    "papermill": {
     "duration": 0.021908,
     "end_time": "2020-06-12T01:16:12.905093",
     "exception": false,
     "start_time": "2020-06-12T01:16:12.883185",
     "status": "completed"
    },
    "tags": [],
    "toc-hr-collapsed": false
   },
   "source": [
    "## Merged Pull requests\n",
    "\n",
    "Here's an analysis of **merged pull requests** across each of the repositories in the Jupyter\n",
    "ecosystem."
   ]
  },
  {
   "cell_type": "code",
   "execution_count": 7,
   "metadata": {
    "execution": {
     "iopub.execute_input": "2020-06-12T01:16:12.960769Z",
     "iopub.status.busy": "2020-06-12T01:16:12.960193Z",
     "iopub.status.idle": "2020-06-12T01:16:12.962223Z",
     "shell.execute_reply": "2020-06-12T01:16:12.962875Z"
    },
    "papermill": {
     "duration": 0.035561,
     "end_time": "2020-06-12T01:16:12.963003",
     "exception": false,
     "start_time": "2020-06-12T01:16:12.927442",
     "status": "completed"
    },
    "tags": [
     "remove_cell"
    ]
   },
   "outputs": [],
   "source": [
    "merged = prs.query('state == \"MERGED\" and closedAt > @start_date and closedAt < @stop_date')"
   ]
  },
  {
   "cell_type": "code",
   "execution_count": 8,
   "metadata": {
    "execution": {
     "iopub.execute_input": "2020-06-12T01:16:13.019466Z",
     "iopub.status.busy": "2020-06-12T01:16:13.018886Z",
     "iopub.status.idle": "2020-06-12T01:16:13.051581Z",
     "shell.execute_reply": "2020-06-12T01:16:13.052215Z"
    },
    "papermill": {
     "duration": 0.065478,
     "end_time": "2020-06-12T01:16:13.052351",
     "exception": false,
     "start_time": "2020-06-12T01:16:12.986873",
     "status": "completed"
    },
    "tags": [
     "hide_input"
    ]
   },
   "outputs": [
    {
     "data": {
      "text/html": [
       "\n",
       "<div id=\"altair-viz-e1531b3f385a4fe38e7b5cdfe7a8878e\"></div>\n",
       "<script type=\"text/javascript\">\n",
       "  (function(spec, embedOpt){\n",
       "    let outputDiv = document.currentScript.previousElementSibling;\n",
       "    if (outputDiv.id !== \"altair-viz-e1531b3f385a4fe38e7b5cdfe7a8878e\") {\n",
       "      outputDiv = document.getElementById(\"altair-viz-e1531b3f385a4fe38e7b5cdfe7a8878e\");\n",
       "    }\n",
       "    const paths = {\n",
       "      \"vega\": \"https://cdn.jsdelivr.net/npm//vega@5?noext\",\n",
       "      \"vega-lib\": \"https://cdn.jsdelivr.net/npm//vega-lib?noext\",\n",
       "      \"vega-lite\": \"https://cdn.jsdelivr.net/npm//vega-lite@4.8.1?noext\",\n",
       "      \"vega-embed\": \"https://cdn.jsdelivr.net/npm//vega-embed@6?noext\",\n",
       "    };\n",
       "\n",
       "    function loadScript(lib) {\n",
       "      return new Promise(function(resolve, reject) {\n",
       "        var s = document.createElement('script');\n",
       "        s.src = paths[lib];\n",
       "        s.async = true;\n",
       "        s.onload = () => resolve(paths[lib]);\n",
       "        s.onerror = () => reject(`Error loading script: ${paths[lib]}`);\n",
       "        document.getElementsByTagName(\"head\")[0].appendChild(s);\n",
       "      });\n",
       "    }\n",
       "\n",
       "    function showError(err) {\n",
       "      outputDiv.innerHTML = `<div class=\"error\" style=\"color:red;\">${err}</div>`;\n",
       "      throw err;\n",
       "    }\n",
       "\n",
       "    function displayChart(vegaEmbed) {\n",
       "      vegaEmbed(outputDiv, spec, embedOpt)\n",
       "        .catch(err => showError(`Javascript Error: ${err.message}<br>This usually means there's a typo in your chart specification. See the javascript console for the full traceback.`));\n",
       "    }\n",
       "\n",
       "    if(typeof define === \"function\" && define.amd) {\n",
       "      requirejs.config({paths});\n",
       "      require([\"vega-embed\"], displayChart, err => showError(`Error loading script: ${err.message}`));\n",
       "    } else if (typeof vegaEmbed === \"function\") {\n",
       "      displayChart(vegaEmbed);\n",
       "    } else {\n",
       "      loadScript(\"vega\")\n",
       "        .then(() => loadScript(\"vega-lite\"))\n",
       "        .then(() => loadScript(\"vega-embed\"))\n",
       "        .catch(showError)\n",
       "        .then(() => displayChart(vegaEmbed));\n",
       "    }\n",
       "  })({\"config\": {\"axisLeft\": {\"labelFontSize\": 15}, \"axisBottom\": {\"labelFontSize\": 15}}, \"data\": {\"name\": \"data-ec10bf60706e6eebad7a708942838703\"}, \"mark\": \"bar\", \"encoding\": {\"color\": {\"type\": \"nominal\", \"field\": \"org\"}, \"x\": {\"type\": \"nominal\", \"field\": \"repo\", \"sort\": [\"notebook\", \"nbconvert\", \"nbclient\", \"docker-stacks\", \"jupyter_server\", \"repo2docker\", \"jupyter-sphinx\", \"enterprise_gateway\", \"nbgrader\", \"governance\", \"jupyter-packaging\", \"qtconsole\", \"jupyter\", \"jupyter.github.io\", \"jupyter_console\", \"nbformat\", \"jupyter_client\", \"nbviewer\", \"nb2kg\", \"sphinxcontrib_github_alt\"]}, \"y\": {\"type\": \"quantitative\", \"field\": \"author\"}}, \"title\": \"Merged PRs in the last 60 days\", \"$schema\": \"https://vega.github.io/schema/vega-lite/v4.8.1.json\", \"datasets\": {\"data-ec10bf60706e6eebad7a708942838703\": [{\"org\": \"jupyter\", \"repo\": \"notebook\", \"author\": 50}, {\"org\": \"jupyter\", \"repo\": \"nbconvert\", \"author\": 23}, {\"org\": \"jupyter\", \"repo\": \"nbclient\", \"author\": 22}, {\"org\": \"jupyter\", \"repo\": \"docker-stacks\", \"author\": 21}, {\"org\": \"jupyter\", \"repo\": \"jupyter_server\", \"author\": 21}, {\"org\": \"jupyter\", \"repo\": \"repo2docker\", \"author\": 16}, {\"org\": \"jupyter\", \"repo\": \"jupyter-sphinx\", \"author\": 10}, {\"org\": \"jupyter\", \"repo\": \"enterprise_gateway\", \"author\": 9}, {\"org\": \"jupyter\", \"repo\": \"nbgrader\", \"author\": 7}, {\"org\": \"jupyter\", \"repo\": \"governance\", \"author\": 5}, {\"org\": \"jupyter\", \"repo\": \"jupyter-packaging\", \"author\": 5}, {\"org\": \"jupyter\", \"repo\": \"qtconsole\", \"author\": 5}, {\"org\": \"jupyter\", \"repo\": \"jupyter\", \"author\": 4}, {\"org\": \"jupyter\", \"repo\": \"jupyter.github.io\", \"author\": 4}, {\"org\": \"jupyter\", \"repo\": \"jupyter_console\", \"author\": 3}, {\"org\": \"jupyter\", \"repo\": \"nbformat\", \"author\": 3}, {\"org\": \"jupyter\", \"repo\": \"jupyter_client\", \"author\": 2}, {\"org\": \"jupyter\", \"repo\": \"nbviewer\", \"author\": 2}, {\"org\": \"jupyter\", \"repo\": \"nb2kg\", \"author\": 1}, {\"org\": \"jupyter\", \"repo\": \"sphinxcontrib_github_alt\", \"author\": 1}]}}, {\"mode\": \"vega-lite\"});\n",
       "</script>"
      ],
      "text/plain": [
       "alt.Chart(...)"
      ]
     },
     "execution_count": 8,
     "metadata": {},
     "output_type": "execute_result"
    }
   ],
   "source": [
    "prs_by_repo = merged.groupby(['org', 'repo']).count()['author'].reset_index().sort_values(['org', 'author'], ascending=False)\n",
    "alt.Chart(data=prs_by_repo, title=f\"Merged PRs in the last {n_days} days\").mark_bar().encode(\n",
    "    x=alt.X('repo', sort=prs_by_repo['repo'].values.tolist()),\n",
    "    y='author',\n",
    "    color='org'\n",
    ")"
   ]
  },
  {
   "cell_type": "markdown",
   "metadata": {
    "papermill": {
     "duration": 0.022248,
     "end_time": "2020-06-12T01:16:13.098203",
     "exception": false,
     "start_time": "2020-06-12T01:16:13.075955",
     "status": "completed"
    },
    "tags": []
   },
   "source": [
    "### Authoring and merging stats by repository\n",
    "\n",
    "Let's see who has been doing most of the PR authoring and merging. The PR author is generally the\n",
    "person that implemented a change in the repository (code, documentation, etc). The PR merger is\n",
    "the person that \"pressed the green button\" and got the change into the main codebase."
   ]
  },
  {
   "cell_type": "code",
   "execution_count": 9,
   "metadata": {
    "execution": {
     "iopub.execute_input": "2020-06-12T01:16:13.153372Z",
     "iopub.status.busy": "2020-06-12T01:16:13.152803Z",
     "iopub.status.idle": "2020-06-12T01:16:13.166361Z",
     "shell.execute_reply": "2020-06-12T01:16:13.166899Z"
    },
    "papermill": {
     "duration": 0.044157,
     "end_time": "2020-06-12T01:16:13.167021",
     "exception": false,
     "start_time": "2020-06-12T01:16:13.122864",
     "status": "completed"
    },
    "tags": [
     "remove_cell"
    ]
   },
   "outputs": [],
   "source": [
    "# Prep our merging DF\n",
    "merged_by_repo = merged.groupby(['repo', 'author'], as_index=False).agg({'id': 'count', 'authorAssociation': 'first'}).rename(columns={'id': \"authored\", 'author': 'username'})\n",
    "closed_by_repo = merged.groupby(['repo', 'mergedBy']).count()['id'].reset_index().rename(columns={'id': \"closed\", \"mergedBy\": \"username\"})"
   ]
  },
  {
   "cell_type": "code",
   "execution_count": 10,
   "metadata": {
    "execution": {
     "iopub.execute_input": "2020-06-12T01:16:13.227124Z",
     "iopub.status.busy": "2020-06-12T01:16:13.226551Z",
     "iopub.status.idle": "2020-06-12T01:16:13.250953Z",
     "shell.execute_reply": "2020-06-12T01:16:13.251468Z"
    },
    "papermill": {
     "duration": 0.062196,
     "end_time": "2020-06-12T01:16:13.251581",
     "exception": false,
     "start_time": "2020-06-12T01:16:13.189385",
     "status": "completed"
    },
    "tags": [
     "hide_input"
    ]
   },
   "outputs": [
    {
     "data": {
      "text/html": [
       "\n",
       "<div id=\"altair-viz-f3bd664b271948878d077d77a216510c\"></div>\n",
       "<script type=\"text/javascript\">\n",
       "  (function(spec, embedOpt){\n",
       "    let outputDiv = document.currentScript.previousElementSibling;\n",
       "    if (outputDiv.id !== \"altair-viz-f3bd664b271948878d077d77a216510c\") {\n",
       "      outputDiv = document.getElementById(\"altair-viz-f3bd664b271948878d077d77a216510c\");\n",
       "    }\n",
       "    const paths = {\n",
       "      \"vega\": \"https://cdn.jsdelivr.net/npm//vega@5?noext\",\n",
       "      \"vega-lib\": \"https://cdn.jsdelivr.net/npm//vega-lib?noext\",\n",
       "      \"vega-lite\": \"https://cdn.jsdelivr.net/npm//vega-lite@4.8.1?noext\",\n",
       "      \"vega-embed\": \"https://cdn.jsdelivr.net/npm//vega-embed@6?noext\",\n",
       "    };\n",
       "\n",
       "    function loadScript(lib) {\n",
       "      return new Promise(function(resolve, reject) {\n",
       "        var s = document.createElement('script');\n",
       "        s.src = paths[lib];\n",
       "        s.async = true;\n",
       "        s.onload = () => resolve(paths[lib]);\n",
       "        s.onerror = () => reject(`Error loading script: ${paths[lib]}`);\n",
       "        document.getElementsByTagName(\"head\")[0].appendChild(s);\n",
       "      });\n",
       "    }\n",
       "\n",
       "    function showError(err) {\n",
       "      outputDiv.innerHTML = `<div class=\"error\" style=\"color:red;\">${err}</div>`;\n",
       "      throw err;\n",
       "    }\n",
       "\n",
       "    function displayChart(vegaEmbed) {\n",
       "      vegaEmbed(outputDiv, spec, embedOpt)\n",
       "        .catch(err => showError(`Javascript Error: ${err.message}<br>This usually means there's a typo in your chart specification. See the javascript console for the full traceback.`));\n",
       "    }\n",
       "\n",
       "    if(typeof define === \"function\" && define.amd) {\n",
       "      requirejs.config({paths});\n",
       "      require([\"vega-embed\"], displayChart, err => showError(`Error loading script: ${err.message}`));\n",
       "    } else if (typeof vegaEmbed === \"function\") {\n",
       "      displayChart(vegaEmbed);\n",
       "    } else {\n",
       "      loadScript(\"vega\")\n",
       "        .then(() => loadScript(\"vega-lite\"))\n",
       "        .then(() => loadScript(\"vega-embed\"))\n",
       "        .catch(showError)\n",
       "        .then(() => displayChart(vegaEmbed));\n",
       "    }\n",
       "  })({\"config\": {\"axisLeft\": {\"labelFontSize\": 15}, \"axisBottom\": {\"labelFontSize\": 15}}, \"data\": {\"name\": \"data-433c17fcb53eb43cfea03ae2ac31f4d3\"}, \"mark\": \"bar\", \"encoding\": {\"color\": {\"type\": \"nominal\", \"field\": \"authorAssociation\", \"scale\": {\"domain\": [\"MEMBER\", \"CONTRIBUTOR\", \"COLLABORATOR\", \"NONE\"], \"range\": [\"rgb(211.82745098039214, 211.82745098039214, 211.82745098039214)\", \"rgb(166.98562091503268, 229.89803921568628, 166.98562091503268)\", \"rgb(96.37647058823529, 192.75294117647059, 96.37647058823529)\", \"rgb(0.0, 100.3921568627451, 0.0)\"]}}, \"x\": {\"type\": \"nominal\", \"field\": \"username\"}, \"y\": {\"type\": \"quantitative\", \"field\": \"authored\"}}, \"title\": \"PR authors for jupyter in the last 60 days\", \"$schema\": \"https://vega.github.io/schema/vega-lite/v4.8.1.json\", \"datasets\": {\"data-433c17fcb53eb43cfea03ae2ac31f4d3\": [{\"username\": \"SylvainCorlay\", \"authored\": 16, \"authorAssociation\": \"MEMBER\"}, {\"username\": \"kevin-bates\", \"authored\": 16, \"authorAssociation\": \"MEMBER\"}, {\"username\": \"davidbrochart\", \"authored\": 13, \"authorAssociation\": \"MEMBER\"}, {\"username\": \"choldgraf\", \"authored\": 12, \"authorAssociation\": \"MEMBER\"}, {\"username\": \"Zsailer\", \"authored\": 9, \"authorAssociation\": \"MEMBER\"}, {\"username\": \"romainx\", \"authored\": 8, \"authorAssociation\": \"COLLABORATOR\"}, {\"username\": \"blink1073\", \"authored\": 7, \"authorAssociation\": \"MEMBER\"}, {\"username\": \"echarles\", \"authored\": 5, \"authorAssociation\": \"COLLABORATOR\"}, {\"username\": \"mathbunnyru\", \"authored\": 4, \"authorAssociation\": \"CONTRIBUTOR\"}, {\"username\": \"maartenbreddels\", \"authored\": 4, \"authorAssociation\": \"CONTRIBUTOR\"}, {\"username\": \"manics\", \"authored\": 3, \"authorAssociation\": \"CONTRIBUTOR\"}, {\"username\": \"m2-farzan\", \"authored\": 3, \"authorAssociation\": \"CONTRIBUTOR\"}, {\"username\": \"golf-player\", \"authored\": 3, \"authorAssociation\": \"NONE\"}, {\"username\": \"benthayer\", \"authored\": 3, \"authorAssociation\": \"CONTRIBUTOR\"}, {\"username\": \"berendjan\", \"authored\": 3, \"authorAssociation\": \"CONTRIBUTOR\"}, {\"username\": \"betatim\", \"authored\": 3, \"authorAssociation\": \"MEMBER\"}, {\"username\": \"davidanthoff\", \"authored\": 3, \"authorAssociation\": \"CONTRIBUTOR\"}, {\"username\": \"hwine\", \"authored\": 3, \"authorAssociation\": \"NONE\"}, {\"username\": \"jtpio\", \"authored\": 2, \"authorAssociation\": \"CONTRIBUTOR\"}, {\"username\": \"NickVeld\", \"authored\": 2, \"authorAssociation\": \"CONTRIBUTOR\"}, {\"username\": \"minrk\", \"authored\": 2, \"authorAssociation\": \"MEMBER\"}, {\"username\": \"ThewBear\", \"authored\": 2, \"authorAssociation\": \"CONTRIBUTOR\"}, {\"username\": \"willingc\", \"authored\": 2, \"authorAssociation\": \"MEMBER\"}, {\"username\": \"Carreau\", \"authored\": 2, \"authorAssociation\": \"MEMBER\"}, {\"username\": \"lucabem\", \"authored\": 2, \"authorAssociation\": \"CONTRIBUTOR\"}, {\"username\": \"lzach\", \"authored\": 2, \"authorAssociation\": \"CONTRIBUTOR\"}, {\"username\": \"MeggyCal\", \"authored\": 2, \"authorAssociation\": \"CONTRIBUTOR\"}, {\"username\": \"woswos\", \"authored\": 2, \"authorAssociation\": \"CONTRIBUTOR\"}, {\"username\": \"takluyver\", \"authored\": 2, \"authorAssociation\": \"MEMBER\"}, {\"username\": \"akhmerov\", \"authored\": 2, \"authorAssociation\": \"MEMBER\"}, {\"username\": \"dalthviz\", \"authored\": 2, \"authorAssociation\": \"CONTRIBUTOR\"}, {\"username\": \"thombashi\", \"authored\": 2, \"authorAssociation\": \"CONTRIBUTOR\"}, {\"username\": \"afshin\", \"authored\": 2, \"authorAssociation\": \"MEMBER\"}, {\"username\": \"toonijn\", \"authored\": 1, \"authorAssociation\": \"CONTRIBUTOR\"}, {\"username\": \"tinmarino\", \"authored\": 1, \"authorAssociation\": \"CONTRIBUTOR\"}, {\"username\": \"mattn\", \"authored\": 1, \"authorAssociation\": \"CONTRIBUTOR\"}, {\"username\": \"oskrdt\", \"authored\": 1, \"authorAssociation\": \"CONTRIBUTOR\"}, {\"username\": \"trallard\", \"authored\": 1, \"authorAssociation\": \"CONTRIBUTOR\"}, {\"username\": \"maxbachmann\", \"authored\": 1, \"authorAssociation\": \"CONTRIBUTOR\"}, {\"username\": \"tirkarthi\", \"authored\": 1, \"authorAssociation\": \"CONTRIBUTOR\"}, {\"username\": \"mgeier\", \"authored\": 1, \"authorAssociation\": \"CONTRIBUTOR\"}, {\"username\": \"telamonian\", \"authored\": 1, \"authorAssociation\": \"CONTRIBUTOR\"}, {\"username\": \"mpmdean\", \"authored\": 1, \"authorAssociation\": \"CONTRIBUTOR\"}, {\"username\": \"nfelger\", \"authored\": 1, \"authorAssociation\": \"CONTRIBUTOR\"}, {\"username\": \"onnodb\", \"authored\": 1, \"authorAssociation\": \"CONTRIBUTOR\"}, {\"username\": \"parente\", \"authored\": 1, \"authorAssociation\": \"MEMBER\"}, {\"username\": \"steff456\", \"authored\": 1, \"authorAssociation\": \"CONTRIBUTOR\"}, {\"username\": \"peterprescott\", \"authored\": 1, \"authorAssociation\": \"CONTRIBUTOR\"}, {\"username\": \"tdpetrou\", \"authored\": 1, \"authorAssociation\": \"CONTRIBUTOR\"}, {\"username\": \"phaustin\", \"authored\": 1, \"authorAssociation\": \"CONTRIBUTOR\"}, {\"username\": \"pinarkavak\", \"authored\": 1, \"authorAssociation\": \"NONE\"}, {\"username\": \"qzchenwl\", \"authored\": 1, \"authorAssociation\": \"CONTRIBUTOR\"}, {\"username\": \"rayosborn\", \"authored\": 1, \"authorAssociation\": \"CONTRIBUTOR\"}, {\"username\": \"rkdarst\", \"authored\": 1, \"authorAssociation\": \"MEMBER\"}, {\"username\": \"taohan16\", \"authored\": 1, \"authorAssociation\": \"CONTRIBUTOR\"}, {\"username\": \"vidartf\", \"authored\": 1, \"authorAssociation\": \"CONTRIBUTOR\"}, {\"username\": \"rosgori\", \"authored\": 1, \"authorAssociation\": \"CONTRIBUTOR\"}, {\"username\": \"rubendibattista\", \"authored\": 1, \"authorAssociation\": \"CONTRIBUTOR\"}, {\"username\": \"scanon\", \"authored\": 1, \"authorAssociation\": \"CONTRIBUTOR\"}, {\"username\": \"madhums\", \"authored\": 1, \"authorAssociation\": \"CONTRIBUTOR\"}, {\"username\": \"seanpue\", \"authored\": 1, \"authorAssociation\": \"CONTRIBUTOR\"}, {\"username\": \"rohitsanj\", \"authored\": 1, \"authorAssociation\": \"CONTRIBUTOR\"}, {\"username\": \"AakashGfude\", \"authored\": 1, \"authorAssociation\": \"CONTRIBUTOR\"}, {\"username\": \"kwlzn\", \"authored\": 1, \"authorAssociation\": \"CONTRIBUTOR\"}, {\"username\": \"krinsman\", \"authored\": 1, \"authorAssociation\": \"COLLABORATOR\"}, {\"username\": \"embray\", \"authored\": 1, \"authorAssociation\": \"CONTRIBUTOR\"}, {\"username\": \"ellisonbg\", \"authored\": 1, \"authorAssociation\": \"MEMBER\"}, {\"username\": \"dmpe\", \"authored\": 1, \"authorAssociation\": \"CONTRIBUTOR\"}, {\"username\": \"dirkcgrunwald\", \"authored\": 1, \"authorAssociation\": \"CONTRIBUTOR\"}, {\"username\": \"danlester\", \"authored\": 1, \"authorAssociation\": \"CONTRIBUTOR\"}, {\"username\": \"danielfrg\", \"authored\": 1, \"authorAssociation\": \"CONTRIBUTOR\"}, {\"username\": \"daikikatsuragawa\", \"authored\": 1, \"authorAssociation\": \"CONTRIBUTOR\"}, {\"username\": \"dSchurch\", \"authored\": 1, \"authorAssociation\": \"CONTRIBUTOR\"}, {\"username\": \"carstenpohllhind\", \"authored\": 1, \"authorAssociation\": \"CONTRIBUTOR\"}, {\"username\": \"bzinberg\", \"authored\": 1, \"authorAssociation\": \"CONTRIBUTOR\"}, {\"username\": \"adamhsparks\", \"authored\": 1, \"authorAssociation\": \"CONTRIBUTOR\"}, {\"username\": \"Monory\", \"authored\": 1, \"authorAssociation\": \"CONTRIBUTOR\"}, {\"username\": \"Mistobaan\", \"authored\": 1, \"authorAssociation\": \"CONTRIBUTOR\"}, {\"username\": \"GeorgianaElena\", \"authored\": 1, \"authorAssociation\": \"CONTRIBUTOR\"}, {\"username\": \"ErwinRussel\", \"authored\": 1, \"authorAssociation\": \"CONTRIBUTOR\"}, {\"username\": \"ericpre\", \"authored\": 1, \"authorAssociation\": \"CONTRIBUTOR\"}, {\"username\": \"esevan\", \"authored\": 1, \"authorAssociation\": \"CONTRIBUTOR\"}, {\"username\": \"fcollonval\", \"authored\": 1, \"authorAssociation\": \"CONTRIBUTOR\"}, {\"username\": \"jamesdbrock\", \"authored\": 1, \"authorAssociation\": \"CONTRIBUTOR\"}, {\"username\": \"kinow\", \"authored\": 1, \"authorAssociation\": \"CONTRIBUTOR\"}, {\"username\": \"jpcastil\", \"authored\": 1, \"authorAssociation\": \"CONTRIBUTOR\"}, {\"username\": \"joshuazeltser\", \"authored\": 1, \"authorAssociation\": \"CONTRIBUTOR\"}, {\"username\": \"jgwerner\", \"authored\": 1, \"authorAssociation\": \"CONTRIBUTOR\"}, {\"username\": \"Axle7XStriker\", \"authored\": 1, \"authorAssociation\": \"CONTRIBUTOR\"}, {\"username\": \"jameslamb\", \"authored\": 1, \"authorAssociation\": \"CONTRIBUTOR\"}, {\"username\": \"imba-tjd\", \"authored\": 1, \"authorAssociation\": \"CONTRIBUTOR\"}, {\"username\": \"gdlmx\", \"authored\": 1, \"authorAssociation\": \"CONTRIBUTOR\"}, {\"username\": \"iancoffey\", \"authored\": 1, \"authorAssociation\": \"CONTRIBUTOR\"}, {\"username\": \"ianabc\", \"authored\": 1, \"authorAssociation\": \"CONTRIBUTOR\"}, {\"username\": \"hroncok\", \"authored\": 1, \"authorAssociation\": \"CONTRIBUTOR\"}, {\"username\": \"hartwork\", \"authored\": 1, \"authorAssociation\": \"CONTRIBUTOR\"}, {\"username\": \"hamelsmu\", \"authored\": 1, \"authorAssociation\": \"CONTRIBUTOR\"}, {\"username\": \"gnestor\", \"authored\": 1, \"authorAssociation\": \"MEMBER\"}, {\"username\": \"jaypeedevlin\", \"authored\": 1, \"authorAssociation\": \"CONTRIBUTOR\"}]}}, {\"mode\": \"vega-lite\"});\n",
       "</script>"
      ],
      "text/plain": [
       "alt.Chart(...)"
      ]
     },
     "execution_count": 10,
     "metadata": {},
     "output_type": "execute_result"
    }
   ],
   "source": [
    "charts = []\n",
    "title = f\"PR authors for {github_org} in the last {n_days} days\"\n",
    "this_data = merged_by_repo.replace(np.nan, 0).groupby('username', as_index=False).agg({'authored': 'sum', 'authorAssociation': 'first'})\n",
    "this_data = this_data.sort_values('authored', ascending=False)\n",
    "ch = alt.Chart(data=this_data, title=title).mark_bar().encode(\n",
    "    x='username',\n",
    "    y='authored',\n",
    "    color=alt.Color('authorAssociation', scale=alt.Scale(domain=author_types, range=author_colors))\n",
    ")\n",
    "ch"
   ]
  },
  {
   "cell_type": "code",
   "execution_count": 11,
   "metadata": {
    "execution": {
     "iopub.execute_input": "2020-06-12T01:16:13.322379Z",
     "iopub.status.busy": "2020-06-12T01:16:13.312157Z",
     "iopub.status.idle": "2020-06-12T01:16:13.325406Z",
     "shell.execute_reply": "2020-06-12T01:16:13.324812Z"
    },
    "papermill": {
     "duration": 0.048243,
     "end_time": "2020-06-12T01:16:13.325498",
     "exception": false,
     "start_time": "2020-06-12T01:16:13.277255",
     "status": "completed"
    },
    "tags": [
     "hide_input"
    ]
   },
   "outputs": [
    {
     "data": {
      "text/html": [
       "\n",
       "<div id=\"altair-viz-9907cf70637d4a03b7dadb468672aca8\"></div>\n",
       "<script type=\"text/javascript\">\n",
       "  (function(spec, embedOpt){\n",
       "    let outputDiv = document.currentScript.previousElementSibling;\n",
       "    if (outputDiv.id !== \"altair-viz-9907cf70637d4a03b7dadb468672aca8\") {\n",
       "      outputDiv = document.getElementById(\"altair-viz-9907cf70637d4a03b7dadb468672aca8\");\n",
       "    }\n",
       "    const paths = {\n",
       "      \"vega\": \"https://cdn.jsdelivr.net/npm//vega@5?noext\",\n",
       "      \"vega-lib\": \"https://cdn.jsdelivr.net/npm//vega-lib?noext\",\n",
       "      \"vega-lite\": \"https://cdn.jsdelivr.net/npm//vega-lite@4.8.1?noext\",\n",
       "      \"vega-embed\": \"https://cdn.jsdelivr.net/npm//vega-embed@6?noext\",\n",
       "    };\n",
       "\n",
       "    function loadScript(lib) {\n",
       "      return new Promise(function(resolve, reject) {\n",
       "        var s = document.createElement('script');\n",
       "        s.src = paths[lib];\n",
       "        s.async = true;\n",
       "        s.onload = () => resolve(paths[lib]);\n",
       "        s.onerror = () => reject(`Error loading script: ${paths[lib]}`);\n",
       "        document.getElementsByTagName(\"head\")[0].appendChild(s);\n",
       "      });\n",
       "    }\n",
       "\n",
       "    function showError(err) {\n",
       "      outputDiv.innerHTML = `<div class=\"error\" style=\"color:red;\">${err}</div>`;\n",
       "      throw err;\n",
       "    }\n",
       "\n",
       "    function displayChart(vegaEmbed) {\n",
       "      vegaEmbed(outputDiv, spec, embedOpt)\n",
       "        .catch(err => showError(`Javascript Error: ${err.message}<br>This usually means there's a typo in your chart specification. See the javascript console for the full traceback.`));\n",
       "    }\n",
       "\n",
       "    if(typeof define === \"function\" && define.amd) {\n",
       "      requirejs.config({paths});\n",
       "      require([\"vega-embed\"], displayChart, err => showError(`Error loading script: ${err.message}`));\n",
       "    } else if (typeof vegaEmbed === \"function\") {\n",
       "      displayChart(vegaEmbed);\n",
       "    } else {\n",
       "      loadScript(\"vega\")\n",
       "        .then(() => loadScript(\"vega-lite\"))\n",
       "        .then(() => loadScript(\"vega-embed\"))\n",
       "        .catch(showError)\n",
       "        .then(() => displayChart(vegaEmbed));\n",
       "    }\n",
       "  })({\"config\": {\"axisLeft\": {\"labelFontSize\": 15}, \"axisBottom\": {\"labelFontSize\": 15}}, \"data\": {\"name\": \"data-593c236e71ac8b1c1d3535ba37c718f1\"}, \"mark\": \"bar\", \"encoding\": {\"x\": {\"type\": \"nominal\", \"field\": \"username\"}, \"y\": {\"type\": \"quantitative\", \"field\": \"closed\"}}, \"title\": \"Merges for jupyter in the last 60 days\", \"$schema\": \"https://vega.github.io/schema/vega-lite/v4.8.1.json\", \"datasets\": {\"data-593c236e71ac8b1c1d3535ba37c718f1\": [{\"repo\": \"docker-stacks\", \"username\": \"parente\", \"closed\": 21}, {\"repo\": \"enterprise_gateway\", \"username\": \"kevin-bates\", \"closed\": 4}, {\"repo\": \"enterprise_gateway\", \"username\": \"lresende\", \"closed\": 5}, {\"repo\": \"governance\", \"username\": \"afshin\", \"closed\": 1}, {\"repo\": \"governance\", \"username\": \"blink1073\", \"closed\": 4}, {\"repo\": \"jupyter\", \"username\": \"choldgraf\", \"closed\": 3}, {\"repo\": \"jupyter\", \"username\": \"willingc\", \"closed\": 1}, {\"repo\": \"jupyter-packaging\", \"username\": \"blink1073\", \"closed\": 5}, {\"repo\": \"jupyter-sphinx\", \"username\": \"akhmerov\", \"closed\": 9}, {\"repo\": \"jupyter-sphinx\", \"username\": \"choldgraf\", \"closed\": 1}, {\"repo\": \"jupyter.github.io\", \"username\": \"Carreau\", \"closed\": 1}, {\"repo\": \"jupyter.github.io\", \"username\": \"choldgraf\", \"closed\": 3}, {\"repo\": \"jupyter_client\", \"username\": \"MSeal\", \"closed\": 2}, {\"repo\": \"jupyter_console\", \"username\": \"Carreau\", \"closed\": 2}, {\"repo\": \"jupyter_console\", \"username\": \"rgbkrk\", \"closed\": 1}, {\"repo\": \"jupyter_server\", \"username\": \"Zsailer\", \"closed\": 18}, {\"repo\": \"jupyter_server\", \"username\": \"kevin-bates\", \"closed\": 3}, {\"repo\": \"nb2kg\", \"username\": \"kevin-bates\", \"closed\": 1}, {\"repo\": \"nbclient\", \"username\": \"MSeal\", \"closed\": 10}, {\"repo\": \"nbclient\", \"username\": \"SylvainCorlay\", \"closed\": 2}, {\"repo\": \"nbclient\", \"username\": \"choldgraf\", \"closed\": 2}, {\"repo\": \"nbclient\", \"username\": \"davidbrochart\", \"closed\": 8}, {\"repo\": \"nbconvert\", \"username\": \"MSeal\", \"closed\": 7}, {\"repo\": \"nbconvert\", \"username\": \"SylvainCorlay\", \"closed\": 16}, {\"repo\": \"nbformat\", \"username\": \"MSeal\", \"closed\": 3}, {\"repo\": \"nbgrader\", \"username\": \"willingc\", \"closed\": 7}, {\"repo\": \"nbviewer\", \"username\": \"krinsman\", \"closed\": 1}, {\"repo\": \"nbviewer\", \"username\": \"minrk\", \"closed\": 1}, {\"repo\": \"notebook\", \"username\": \"Zsailer\", \"closed\": 5}, {\"repo\": \"notebook\", \"username\": \"afshin\", \"closed\": 1}, {\"repo\": \"notebook\", \"username\": \"blink1073\", \"closed\": 31}, {\"repo\": \"notebook\", \"username\": \"kevin-bates\", \"closed\": 9}, {\"repo\": \"notebook\", \"username\": \"lresende\", \"closed\": 3}, {\"repo\": \"notebook\", \"username\": \"rgbkrk\", \"closed\": 1}, {\"repo\": \"qtconsole\", \"username\": \"ccordoba12\", \"closed\": 5}, {\"repo\": \"repo2docker\", \"username\": \"betatim\", \"closed\": 14}, {\"repo\": \"repo2docker\", \"username\": \"choldgraf\", \"closed\": 2}, {\"repo\": \"sphinxcontrib_github_alt\", \"username\": \"takluyver\", \"closed\": 1}]}}, {\"mode\": \"vega-lite\"});\n",
       "</script>"
      ],
      "text/plain": [
       "alt.Chart(...)"
      ]
     },
     "execution_count": 11,
     "metadata": {},
     "output_type": "execute_result"
    }
   ],
   "source": [
    "charts = []\n",
    "title = f\"Merges for {github_org} in the last {n_days} days\"\n",
    "ch = alt.Chart(data=closed_by_repo.replace(np.nan, 0), title=title).mark_bar().encode(\n",
    "    x='username',\n",
    "    y='closed',\n",
    ")\n",
    "ch"
   ]
  },
  {
   "cell_type": "markdown",
   "metadata": {
    "papermill": {
     "duration": 0.024988,
     "end_time": "2020-06-12T01:16:13.373478",
     "exception": false,
     "start_time": "2020-06-12T01:16:13.348490",
     "status": "completed"
    },
    "tags": []
   },
   "source": [
    "## Issues\n",
    "\n",
    "Issues are **conversations** that happen on our GitHub repositories. Here's an\n",
    "analysis of issues across the Jupyter organizations."
   ]
  },
  {
   "cell_type": "code",
   "execution_count": 12,
   "metadata": {
    "execution": {
     "iopub.execute_input": "2020-06-12T01:16:13.433702Z",
     "iopub.status.busy": "2020-06-12T01:16:13.433147Z",
     "iopub.status.idle": "2020-06-12T01:16:13.435539Z",
     "shell.execute_reply": "2020-06-12T01:16:13.434973Z"
    },
    "papermill": {
     "duration": 0.037921,
     "end_time": "2020-06-12T01:16:13.435629",
     "exception": false,
     "start_time": "2020-06-12T01:16:13.397708",
     "status": "completed"
    },
    "tags": [
     "remove_cell"
    ]
   },
   "outputs": [],
   "source": [
    "created = issues.query('state == \"OPEN\" and createdAt > @start_date and createdAt < @stop_date')\n",
    "closed = issues.query('state == \"CLOSED\" and closedAt > @start_date and closedAt < @stop_date')"
   ]
  },
  {
   "cell_type": "code",
   "execution_count": 13,
   "metadata": {
    "execution": {
     "iopub.execute_input": "2020-06-12T01:16:13.491490Z",
     "iopub.status.busy": "2020-06-12T01:16:13.490946Z",
     "iopub.status.idle": "2020-06-12T01:16:13.518509Z",
     "shell.execute_reply": "2020-06-12T01:16:13.519432Z"
    },
    "papermill": {
     "duration": 0.060421,
     "end_time": "2020-06-12T01:16:13.519624",
     "exception": false,
     "start_time": "2020-06-12T01:16:13.459203",
     "status": "completed"
    },
    "tags": [
     "hide_input"
    ]
   },
   "outputs": [
    {
     "data": {
      "text/html": [
       "\n",
       "<div id=\"altair-viz-74a9e740ad7c46ff946cb376f51891f1\"></div>\n",
       "<script type=\"text/javascript\">\n",
       "  (function(spec, embedOpt){\n",
       "    let outputDiv = document.currentScript.previousElementSibling;\n",
       "    if (outputDiv.id !== \"altair-viz-74a9e740ad7c46ff946cb376f51891f1\") {\n",
       "      outputDiv = document.getElementById(\"altair-viz-74a9e740ad7c46ff946cb376f51891f1\");\n",
       "    }\n",
       "    const paths = {\n",
       "      \"vega\": \"https://cdn.jsdelivr.net/npm//vega@5?noext\",\n",
       "      \"vega-lib\": \"https://cdn.jsdelivr.net/npm//vega-lib?noext\",\n",
       "      \"vega-lite\": \"https://cdn.jsdelivr.net/npm//vega-lite@4.8.1?noext\",\n",
       "      \"vega-embed\": \"https://cdn.jsdelivr.net/npm//vega-embed@6?noext\",\n",
       "    };\n",
       "\n",
       "    function loadScript(lib) {\n",
       "      return new Promise(function(resolve, reject) {\n",
       "        var s = document.createElement('script');\n",
       "        s.src = paths[lib];\n",
       "        s.async = true;\n",
       "        s.onload = () => resolve(paths[lib]);\n",
       "        s.onerror = () => reject(`Error loading script: ${paths[lib]}`);\n",
       "        document.getElementsByTagName(\"head\")[0].appendChild(s);\n",
       "      });\n",
       "    }\n",
       "\n",
       "    function showError(err) {\n",
       "      outputDiv.innerHTML = `<div class=\"error\" style=\"color:red;\">${err}</div>`;\n",
       "      throw err;\n",
       "    }\n",
       "\n",
       "    function displayChart(vegaEmbed) {\n",
       "      vegaEmbed(outputDiv, spec, embedOpt)\n",
       "        .catch(err => showError(`Javascript Error: ${err.message}<br>This usually means there's a typo in your chart specification. See the javascript console for the full traceback.`));\n",
       "    }\n",
       "\n",
       "    if(typeof define === \"function\" && define.amd) {\n",
       "      requirejs.config({paths});\n",
       "      require([\"vega-embed\"], displayChart, err => showError(`Error loading script: ${err.message}`));\n",
       "    } else if (typeof vegaEmbed === \"function\") {\n",
       "      displayChart(vegaEmbed);\n",
       "    } else {\n",
       "      loadScript(\"vega\")\n",
       "        .then(() => loadScript(\"vega-lite\"))\n",
       "        .then(() => loadScript(\"vega-embed\"))\n",
       "        .catch(showError)\n",
       "        .then(() => displayChart(vegaEmbed));\n",
       "    }\n",
       "  })({\"config\": {\"axisLeft\": {\"labelFontSize\": 15}, \"axisBottom\": {\"labelFontSize\": 15}}, \"data\": {\"name\": \"data-3077abe8271e79e33e3b81c895ec2c6a\"}, \"mark\": \"bar\", \"encoding\": {\"x\": {\"type\": \"nominal\", \"field\": \"repo\", \"sort\": [\"notebook\", \"nbconvert\", \"repo2docker\", \"jupyter_server\", \"nbviewer\", \"docker-stacks\", \"nbgrader\", \"jupyter\", \"enterprise_gateway\", \"jupyter-sphinx\", \"nbdime\", \"atom-notebook\", \"jupyter_console\", \"jupyter_client\", \"nbclient\", \"design\", \"jupyter_core\", \"nbformat\", \"qtconsole\", \"terminado\", \"enhancement-proposals\", \"jupyter.github.io\", \"kernel_gateway\", \"nb2kg\"]}, \"y\": {\"type\": \"quantitative\", \"field\": \"number\"}}, \"title\": \"Issues created in the last 60 days\", \"$schema\": \"https://vega.github.io/schema/vega-lite/v4.8.1.json\", \"datasets\": {\"data-3077abe8271e79e33e3b81c895ec2c6a\": [{\"org\": \"jupyter\", \"repo\": \"atom-notebook\", \"number\": 4, \"org/repo\": \"jupyter/atom-notebook\"}, {\"org\": \"jupyter\", \"repo\": \"design\", \"number\": 2, \"org/repo\": \"jupyter/design\"}, {\"org\": \"jupyter\", \"repo\": \"docker-stacks\", \"number\": 11, \"org/repo\": \"jupyter/docker-stacks\"}, {\"org\": \"jupyter\", \"repo\": \"enhancement-proposals\", \"number\": 1, \"org/repo\": \"jupyter/enhancement-proposals\"}, {\"org\": \"jupyter\", \"repo\": \"enterprise_gateway\", \"number\": 5, \"org/repo\": \"jupyter/enterprise_gateway\"}, {\"org\": \"jupyter\", \"repo\": \"jupyter\", \"number\": 6, \"org/repo\": \"jupyter/jupyter\"}, {\"org\": \"jupyter\", \"repo\": \"jupyter-sphinx\", \"number\": 5, \"org/repo\": \"jupyter/jupyter-sphinx\"}, {\"org\": \"jupyter\", \"repo\": \"jupyter.github.io\", \"number\": 1, \"org/repo\": \"jupyter/jupyter.github.io\"}, {\"org\": \"jupyter\", \"repo\": \"jupyter_client\", \"number\": 3, \"org/repo\": \"jupyter/jupyter_client\"}, {\"org\": \"jupyter\", \"repo\": \"jupyter_console\", \"number\": 4, \"org/repo\": \"jupyter/jupyter_console\"}, {\"org\": \"jupyter\", \"repo\": \"jupyter_core\", \"number\": 2, \"org/repo\": \"jupyter/jupyter_core\"}, {\"org\": \"jupyter\", \"repo\": \"jupyter_server\", \"number\": 13, \"org/repo\": \"jupyter/jupyter_server\"}, {\"org\": \"jupyter\", \"repo\": \"kernel_gateway\", \"number\": 1, \"org/repo\": \"jupyter/kernel_gateway\"}, {\"org\": \"jupyter\", \"repo\": \"nb2kg\", \"number\": 1, \"org/repo\": \"jupyter/nb2kg\"}, {\"org\": \"jupyter\", \"repo\": \"nbclient\", \"number\": 3, \"org/repo\": \"jupyter/nbclient\"}, {\"org\": \"jupyter\", \"repo\": \"nbconvert\", \"number\": 17, \"org/repo\": \"jupyter/nbconvert\"}, {\"org\": \"jupyter\", \"repo\": \"nbdime\", \"number\": 5, \"org/repo\": \"jupyter/nbdime\"}, {\"org\": \"jupyter\", \"repo\": \"nbformat\", \"number\": 2, \"org/repo\": \"jupyter/nbformat\"}, {\"org\": \"jupyter\", \"repo\": \"nbgrader\", \"number\": 10, \"org/repo\": \"jupyter/nbgrader\"}, {\"org\": \"jupyter\", \"repo\": \"nbviewer\", \"number\": 13, \"org/repo\": \"jupyter/nbviewer\"}, {\"org\": \"jupyter\", \"repo\": \"notebook\", \"number\": 90, \"org/repo\": \"jupyter/notebook\"}, {\"org\": \"jupyter\", \"repo\": \"qtconsole\", \"number\": 2, \"org/repo\": \"jupyter/qtconsole\"}, {\"org\": \"jupyter\", \"repo\": \"repo2docker\", \"number\": 15, \"org/repo\": \"jupyter/repo2docker\"}, {\"org\": \"jupyter\", \"repo\": \"terminado\", \"number\": 2, \"org/repo\": \"jupyter/terminado\"}]}}, {\"mode\": \"vega-lite\"});\n",
       "</script>"
      ],
      "text/plain": [
       "alt.Chart(...)"
      ]
     },
     "execution_count": 13,
     "metadata": {},
     "output_type": "execute_result"
    }
   ],
   "source": [
    "created_counts = created.groupby(['org', 'repo']).count()['number'].reset_index()\n",
    "created_counts['org/repo'] = created_counts.apply(lambda a: a['org'] + '/' + a['repo'], axis=1)\n",
    "sorted_vals = created_counts.sort_values(['org', 'number'], ascending=False)['repo'].values\n",
    "alt.Chart(data=created_counts, title=f\"Issues created in the last {n_days} days\").mark_bar().encode(\n",
    "    x=alt.X('repo', sort=alt.Sort(sorted_vals.tolist())),\n",
    "    y='number',\n",
    ")"
   ]
  },
  {
   "cell_type": "code",
   "execution_count": 14,
   "metadata": {
    "execution": {
     "iopub.execute_input": "2020-06-12T01:16:13.579663Z",
     "iopub.status.busy": "2020-06-12T01:16:13.579123Z",
     "iopub.status.idle": "2020-06-12T01:16:13.603091Z",
     "shell.execute_reply": "2020-06-12T01:16:13.602474Z"
    },
    "papermill": {
     "duration": 0.056119,
     "end_time": "2020-06-12T01:16:13.603184",
     "exception": false,
     "start_time": "2020-06-12T01:16:13.547065",
     "status": "completed"
    },
    "tags": [
     "hide_input"
    ]
   },
   "outputs": [
    {
     "data": {
      "text/html": [
       "\n",
       "<div id=\"altair-viz-b92323fcdda247be8472c2a4d3957827\"></div>\n",
       "<script type=\"text/javascript\">\n",
       "  (function(spec, embedOpt){\n",
       "    let outputDiv = document.currentScript.previousElementSibling;\n",
       "    if (outputDiv.id !== \"altair-viz-b92323fcdda247be8472c2a4d3957827\") {\n",
       "      outputDiv = document.getElementById(\"altair-viz-b92323fcdda247be8472c2a4d3957827\");\n",
       "    }\n",
       "    const paths = {\n",
       "      \"vega\": \"https://cdn.jsdelivr.net/npm//vega@5?noext\",\n",
       "      \"vega-lib\": \"https://cdn.jsdelivr.net/npm//vega-lib?noext\",\n",
       "      \"vega-lite\": \"https://cdn.jsdelivr.net/npm//vega-lite@4.8.1?noext\",\n",
       "      \"vega-embed\": \"https://cdn.jsdelivr.net/npm//vega-embed@6?noext\",\n",
       "    };\n",
       "\n",
       "    function loadScript(lib) {\n",
       "      return new Promise(function(resolve, reject) {\n",
       "        var s = document.createElement('script');\n",
       "        s.src = paths[lib];\n",
       "        s.async = true;\n",
       "        s.onload = () => resolve(paths[lib]);\n",
       "        s.onerror = () => reject(`Error loading script: ${paths[lib]}`);\n",
       "        document.getElementsByTagName(\"head\")[0].appendChild(s);\n",
       "      });\n",
       "    }\n",
       "\n",
       "    function showError(err) {\n",
       "      outputDiv.innerHTML = `<div class=\"error\" style=\"color:red;\">${err}</div>`;\n",
       "      throw err;\n",
       "    }\n",
       "\n",
       "    function displayChart(vegaEmbed) {\n",
       "      vegaEmbed(outputDiv, spec, embedOpt)\n",
       "        .catch(err => showError(`Javascript Error: ${err.message}<br>This usually means there's a typo in your chart specification. See the javascript console for the full traceback.`));\n",
       "    }\n",
       "\n",
       "    if(typeof define === \"function\" && define.amd) {\n",
       "      requirejs.config({paths});\n",
       "      require([\"vega-embed\"], displayChart, err => showError(`Error loading script: ${err.message}`));\n",
       "    } else if (typeof vegaEmbed === \"function\") {\n",
       "      displayChart(vegaEmbed);\n",
       "    } else {\n",
       "      loadScript(\"vega\")\n",
       "        .then(() => loadScript(\"vega-lite\"))\n",
       "        .then(() => loadScript(\"vega-embed\"))\n",
       "        .catch(showError)\n",
       "        .then(() => displayChart(vegaEmbed));\n",
       "    }\n",
       "  })({\"config\": {\"axisLeft\": {\"labelFontSize\": 15}, \"axisBottom\": {\"labelFontSize\": 15}}, \"data\": {\"name\": \"data-df4156169a72b095d4e711d95005e34c\"}, \"mark\": \"bar\", \"encoding\": {\"x\": {\"type\": \"nominal\", \"field\": \"repo\", \"sort\": [\"notebook\", \"docker-stacks\", \"jupyter_server\", \"enterprise_gateway\", \"nbconvert\", \"repo2docker\", \"nbclient\", \"jupyter-sphinx\", \"nbviewer\", \"jupyter_client\", \"nbgrader\", \"kernel_gateway\", \"nb2kg\", \"jupyter-packaging\", \"nbdime\", \"qtconsole\", \"jupyter.github.io\", \"nbformat\", \"jupyter\", \"governance\", \"sphinxcontrib_github_alt\", \"telemetry\"]}, \"y\": {\"type\": \"quantitative\", \"field\": \"number\"}}, \"title\": \"Issues closed in the last 60 days\", \"$schema\": \"https://vega.github.io/schema/vega-lite/v4.8.1.json\", \"datasets\": {\"data-df4156169a72b095d4e711d95005e34c\": [{\"org\": \"jupyter\", \"repo\": \"docker-stacks\", \"number\": 23, \"org/repo\": \"jupyter/docker-stacks\"}, {\"org\": \"jupyter\", \"repo\": \"enterprise_gateway\", \"number\": 15, \"org/repo\": \"jupyter/enterprise_gateway\"}, {\"org\": \"jupyter\", \"repo\": \"governance\", \"number\": 1, \"org/repo\": \"jupyter/governance\"}, {\"org\": \"jupyter\", \"repo\": \"jupyter\", \"number\": 1, \"org/repo\": \"jupyter/jupyter\"}, {\"org\": \"jupyter\", \"repo\": \"jupyter-packaging\", \"number\": 2, \"org/repo\": \"jupyter/jupyter-packaging\"}, {\"org\": \"jupyter\", \"repo\": \"jupyter-sphinx\", \"number\": 9, \"org/repo\": \"jupyter/jupyter-sphinx\"}, {\"org\": \"jupyter\", \"repo\": \"jupyter.github.io\", \"number\": 1, \"org/repo\": \"jupyter/jupyter.github.io\"}, {\"org\": \"jupyter\", \"repo\": \"jupyter_client\", \"number\": 5, \"org/repo\": \"jupyter/jupyter_client\"}, {\"org\": \"jupyter\", \"repo\": \"jupyter_server\", \"number\": 16, \"org/repo\": \"jupyter/jupyter_server\"}, {\"org\": \"jupyter\", \"repo\": \"kernel_gateway\", \"number\": 2, \"org/repo\": \"jupyter/kernel_gateway\"}, {\"org\": \"jupyter\", \"repo\": \"nb2kg\", \"number\": 2, \"org/repo\": \"jupyter/nb2kg\"}, {\"org\": \"jupyter\", \"repo\": \"nbclient\", \"number\": 10, \"org/repo\": \"jupyter/nbclient\"}, {\"org\": \"jupyter\", \"repo\": \"nbconvert\", \"number\": 13, \"org/repo\": \"jupyter/nbconvert\"}, {\"org\": \"jupyter\", \"repo\": \"nbdime\", \"number\": 2, \"org/repo\": \"jupyter/nbdime\"}, {\"org\": \"jupyter\", \"repo\": \"nbformat\", \"number\": 1, \"org/repo\": \"jupyter/nbformat\"}, {\"org\": \"jupyter\", \"repo\": \"nbgrader\", \"number\": 3, \"org/repo\": \"jupyter/nbgrader\"}, {\"org\": \"jupyter\", \"repo\": \"nbviewer\", \"number\": 7, \"org/repo\": \"jupyter/nbviewer\"}, {\"org\": \"jupyter\", \"repo\": \"notebook\", \"number\": 60, \"org/repo\": \"jupyter/notebook\"}, {\"org\": \"jupyter\", \"repo\": \"qtconsole\", \"number\": 2, \"org/repo\": \"jupyter/qtconsole\"}, {\"org\": \"jupyter\", \"repo\": \"repo2docker\", \"number\": 10, \"org/repo\": \"jupyter/repo2docker\"}, {\"org\": \"jupyter\", \"repo\": \"sphinxcontrib_github_alt\", \"number\": 1, \"org/repo\": \"jupyter/sphinxcontrib_github_alt\"}, {\"org\": \"jupyter\", \"repo\": \"telemetry\", \"number\": 1, \"org/repo\": \"jupyter/telemetry\"}]}}, {\"mode\": \"vega-lite\"});\n",
       "</script>"
      ],
      "text/plain": [
       "alt.Chart(...)"
      ]
     },
     "execution_count": 14,
     "metadata": {},
     "output_type": "execute_result"
    }
   ],
   "source": [
    "closed_counts = closed.groupby(['org', 'repo']).count()['number'].reset_index()\n",
    "closed_counts['org/repo'] = closed_counts.apply(lambda a: a['org'] + '/' + a['repo'], axis=1)\n",
    "sorted_vals = closed_counts.sort_values(['number'], ascending=False)['repo'].values\n",
    "alt.Chart(data=closed_counts, title=f\"Issues closed in the last {n_days} days\").mark_bar().encode(\n",
    "    x=alt.X('repo', sort=alt.Sort(sorted_vals.tolist())),\n",
    "    y='number',\n",
    ")"
   ]
  },
  {
   "cell_type": "code",
   "execution_count": 15,
   "metadata": {
    "execution": {
     "iopub.execute_input": "2020-06-12T01:16:13.669270Z",
     "iopub.status.busy": "2020-06-12T01:16:13.668741Z",
     "iopub.status.idle": "2020-06-12T01:16:13.675116Z",
     "shell.execute_reply": "2020-06-12T01:16:13.674646Z"
    },
    "papermill": {
     "duration": 0.047736,
     "end_time": "2020-06-12T01:16:13.675209",
     "exception": false,
     "start_time": "2020-06-12T01:16:13.627473",
     "status": "completed"
    },
    "tags": [
     "remove_cell"
    ]
   },
   "outputs": [],
   "source": [
    "created_closed = pd.merge(created_counts.rename(columns={'number': 'created'}).drop(columns='org/repo'),\n",
    "                          closed_counts.rename(columns={'number': 'closed'}).drop(columns='org/repo'),\n",
    "                          on=['org', 'repo'], how='outer')\n",
    "\n",
    "created_closed = pd.melt(created_closed, id_vars=['org', 'repo'], var_name=\"kind\", value_name=\"count\").replace(np.nan, 0)"
   ]
  },
  {
   "cell_type": "code",
   "execution_count": 16,
   "metadata": {
    "execution": {
     "iopub.execute_input": "2020-06-12T01:16:13.753412Z",
     "iopub.status.busy": "2020-06-12T01:16:13.752835Z",
     "iopub.status.idle": "2020-06-12T01:16:13.755098Z",
     "shell.execute_reply": "2020-06-12T01:16:13.755633Z"
    },
    "papermill": {
     "duration": 0.055537,
     "end_time": "2020-06-12T01:16:13.755750",
     "exception": false,
     "start_time": "2020-06-12T01:16:13.700213",
     "status": "completed"
    },
    "tags": [
     "hide_input"
    ]
   },
   "outputs": [
    {
     "data": {
      "text/html": [
       "\n",
       "<div id=\"altair-viz-8d410e4805e340978128be84d4ac82a1\"></div>\n",
       "<script type=\"text/javascript\">\n",
       "  (function(spec, embedOpt){\n",
       "    let outputDiv = document.currentScript.previousElementSibling;\n",
       "    if (outputDiv.id !== \"altair-viz-8d410e4805e340978128be84d4ac82a1\") {\n",
       "      outputDiv = document.getElementById(\"altair-viz-8d410e4805e340978128be84d4ac82a1\");\n",
       "    }\n",
       "    const paths = {\n",
       "      \"vega\": \"https://cdn.jsdelivr.net/npm//vega@5?noext\",\n",
       "      \"vega-lib\": \"https://cdn.jsdelivr.net/npm//vega-lib?noext\",\n",
       "      \"vega-lite\": \"https://cdn.jsdelivr.net/npm//vega-lite@4.8.1?noext\",\n",
       "      \"vega-embed\": \"https://cdn.jsdelivr.net/npm//vega-embed@6?noext\",\n",
       "    };\n",
       "\n",
       "    function loadScript(lib) {\n",
       "      return new Promise(function(resolve, reject) {\n",
       "        var s = document.createElement('script');\n",
       "        s.src = paths[lib];\n",
       "        s.async = true;\n",
       "        s.onload = () => resolve(paths[lib]);\n",
       "        s.onerror = () => reject(`Error loading script: ${paths[lib]}`);\n",
       "        document.getElementsByTagName(\"head\")[0].appendChild(s);\n",
       "      });\n",
       "    }\n",
       "\n",
       "    function showError(err) {\n",
       "      outputDiv.innerHTML = `<div class=\"error\" style=\"color:red;\">${err}</div>`;\n",
       "      throw err;\n",
       "    }\n",
       "\n",
       "    function displayChart(vegaEmbed) {\n",
       "      vegaEmbed(outputDiv, spec, embedOpt)\n",
       "        .catch(err => showError(`Javascript Error: ${err.message}<br>This usually means there's a typo in your chart specification. See the javascript console for the full traceback.`));\n",
       "    }\n",
       "\n",
       "    if(typeof define === \"function\" && define.amd) {\n",
       "      requirejs.config({paths});\n",
       "      require([\"vega-embed\"], displayChart, err => showError(`Error loading script: ${err.message}`));\n",
       "    } else if (typeof vegaEmbed === \"function\") {\n",
       "      displayChart(vegaEmbed);\n",
       "    } else {\n",
       "      loadScript(\"vega\")\n",
       "        .then(() => loadScript(\"vega-lite\"))\n",
       "        .then(() => loadScript(\"vega-embed\"))\n",
       "        .catch(showError)\n",
       "        .then(() => displayChart(vegaEmbed));\n",
       "    }\n",
       "  })({\"config\": {\"axisLeft\": {\"labelFontSize\": 15}, \"axisBottom\": {\"labelFontSize\": 15}}, \"data\": {\"name\": \"data-642b26d2ceec625423622936564f2c3c\"}, \"mark\": \"bar\", \"encoding\": {\"color\": {\"type\": \"nominal\", \"field\": \"kind\"}, \"column\": {\"type\": \"nominal\", \"field\": \"repo\", \"header\": {\"labelFontSize\": 12, \"title\": \"Issue activity, last 60 days for jupyter\", \"titleFontSize\": 15}}, \"x\": {\"type\": \"nominal\", \"axis\": {\"labelFontSize\": 15, \"title\": \"\"}, \"field\": \"kind\"}, \"y\": {\"type\": \"quantitative\", \"axis\": {\"labelFontSize\": 12, \"titleFontSize\": 15}, \"field\": \"count\"}}, \"width\": 120, \"$schema\": \"https://vega.github.io/schema/vega-lite/v4.8.1.json\", \"datasets\": {\"data-642b26d2ceec625423622936564f2c3c\": [{\"org\": \"jupyter\", \"repo\": \"docker-stacks\", \"kind\": \"created\", \"count\": 11.0}, {\"org\": \"jupyter\", \"repo\": \"enterprise_gateway\", \"kind\": \"created\", \"count\": 5.0}, {\"org\": \"jupyter\", \"repo\": \"jupyter-sphinx\", \"kind\": \"created\", \"count\": 5.0}, {\"org\": \"jupyter\", \"repo\": \"jupyter_server\", \"kind\": \"created\", \"count\": 13.0}, {\"org\": \"jupyter\", \"repo\": \"nbclient\", \"kind\": \"created\", \"count\": 3.0}, {\"org\": \"jupyter\", \"repo\": \"nbconvert\", \"kind\": \"created\", \"count\": 17.0}, {\"org\": \"jupyter\", \"repo\": \"nbgrader\", \"kind\": \"created\", \"count\": 10.0}, {\"org\": \"jupyter\", \"repo\": \"nbviewer\", \"kind\": \"created\", \"count\": 13.0}, {\"org\": \"jupyter\", \"repo\": \"notebook\", \"kind\": \"created\", \"count\": 90.0}, {\"org\": \"jupyter\", \"repo\": \"repo2docker\", \"kind\": \"created\", \"count\": 15.0}, {\"org\": \"jupyter\", \"repo\": \"docker-stacks\", \"kind\": \"closed\", \"count\": 23.0}, {\"org\": \"jupyter\", \"repo\": \"enterprise_gateway\", \"kind\": \"closed\", \"count\": 15.0}, {\"org\": \"jupyter\", \"repo\": \"jupyter-sphinx\", \"kind\": \"closed\", \"count\": 9.0}, {\"org\": \"jupyter\", \"repo\": \"jupyter_server\", \"kind\": \"closed\", \"count\": 16.0}, {\"org\": \"jupyter\", \"repo\": \"nbclient\", \"kind\": \"closed\", \"count\": 10.0}, {\"org\": \"jupyter\", \"repo\": \"nbconvert\", \"kind\": \"closed\", \"count\": 13.0}, {\"org\": \"jupyter\", \"repo\": \"nbgrader\", \"kind\": \"closed\", \"count\": 3.0}, {\"org\": \"jupyter\", \"repo\": \"nbviewer\", \"kind\": \"closed\", \"count\": 7.0}, {\"org\": \"jupyter\", \"repo\": \"notebook\", \"kind\": \"closed\", \"count\": 60.0}, {\"org\": \"jupyter\", \"repo\": \"repo2docker\", \"kind\": \"closed\", \"count\": 10.0}]}}, {\"mode\": \"vega-lite\"});\n",
       "</script>"
      ],
      "text/plain": [
       "alt.Chart(...)"
      ]
     },
     "execution_count": 16,
     "metadata": {},
     "output_type": "execute_result"
    }
   ],
   "source": [
    "charts = []\n",
    "# Pick the top 10 repositories\n",
    "top_repos = created_closed.groupby(['repo']).sum().sort_values(by='count', ascending=False).head(10).index\n",
    "ch = alt.Chart(created_closed.query('repo in @top_repos'), width=120).mark_bar().encode(\n",
    "    x=alt.X(\"kind\", axis=alt.Axis(labelFontSize=15, title=\"\")), \n",
    "    y=alt.Y('count', axis=alt.Axis(titleFontSize=15, labelFontSize=12)),\n",
    "    color='kind',\n",
    "    column=alt.Column(\"repo\", header=alt.Header(title=f\"Issue activity, last {n_days} days for {github_org}\", titleFontSize=15, labelFontSize=12))\n",
    ")\n",
    "ch"
   ]
  },
  {
   "cell_type": "code",
   "execution_count": 17,
   "metadata": {
    "execution": {
     "iopub.execute_input": "2020-06-12T01:16:13.819827Z",
     "iopub.status.busy": "2020-06-12T01:16:13.819279Z",
     "iopub.status.idle": "2020-06-12T01:16:13.822055Z",
     "shell.execute_reply": "2020-06-12T01:16:13.821424Z"
    },
    "papermill": {
     "duration": 0.041932,
     "end_time": "2020-06-12T01:16:13.822150",
     "exception": false,
     "start_time": "2020-06-12T01:16:13.780218",
     "status": "completed"
    },
    "tags": [
     "remove_cell"
    ]
   },
   "outputs": [],
   "source": [
    "# Set to datetime\n",
    "for kind in ['createdAt', 'closedAt']:\n",
    "    closed.loc[:, kind] = pd.to_datetime(closed[kind])\n",
    "    \n",
    "closed.loc[:, 'time_open'] = closed['closedAt'] - closed['createdAt']\n",
    "closed.loc[:, 'time_open'] = closed['time_open'].dt.total_seconds()"
   ]
  },
  {
   "cell_type": "code",
   "execution_count": 18,
   "metadata": {
    "execution": {
     "iopub.execute_input": "2020-06-12T01:16:13.888156Z",
     "iopub.status.busy": "2020-06-12T01:16:13.886884Z",
     "iopub.status.idle": "2020-06-12T01:16:13.911178Z",
     "shell.execute_reply": "2020-06-12T01:16:13.910602Z"
    },
    "papermill": {
     "duration": 0.06085,
     "end_time": "2020-06-12T01:16:13.911271",
     "exception": false,
     "start_time": "2020-06-12T01:16:13.850421",
     "status": "completed"
    },
    "tags": [
     "hide_input"
    ]
   },
   "outputs": [
    {
     "data": {
      "text/html": [
       "\n",
       "<div id=\"altair-viz-ac68c17912224a42b8c49cea8e1f2884\"></div>\n",
       "<script type=\"text/javascript\">\n",
       "  (function(spec, embedOpt){\n",
       "    let outputDiv = document.currentScript.previousElementSibling;\n",
       "    if (outputDiv.id !== \"altair-viz-ac68c17912224a42b8c49cea8e1f2884\") {\n",
       "      outputDiv = document.getElementById(\"altair-viz-ac68c17912224a42b8c49cea8e1f2884\");\n",
       "    }\n",
       "    const paths = {\n",
       "      \"vega\": \"https://cdn.jsdelivr.net/npm//vega@5?noext\",\n",
       "      \"vega-lib\": \"https://cdn.jsdelivr.net/npm//vega-lib?noext\",\n",
       "      \"vega-lite\": \"https://cdn.jsdelivr.net/npm//vega-lite@4.8.1?noext\",\n",
       "      \"vega-embed\": \"https://cdn.jsdelivr.net/npm//vega-embed@6?noext\",\n",
       "    };\n",
       "\n",
       "    function loadScript(lib) {\n",
       "      return new Promise(function(resolve, reject) {\n",
       "        var s = document.createElement('script');\n",
       "        s.src = paths[lib];\n",
       "        s.async = true;\n",
       "        s.onload = () => resolve(paths[lib]);\n",
       "        s.onerror = () => reject(`Error loading script: ${paths[lib]}`);\n",
       "        document.getElementsByTagName(\"head\")[0].appendChild(s);\n",
       "      });\n",
       "    }\n",
       "\n",
       "    function showError(err) {\n",
       "      outputDiv.innerHTML = `<div class=\"error\" style=\"color:red;\">${err}</div>`;\n",
       "      throw err;\n",
       "    }\n",
       "\n",
       "    function displayChart(vegaEmbed) {\n",
       "      vegaEmbed(outputDiv, spec, embedOpt)\n",
       "        .catch(err => showError(`Javascript Error: ${err.message}<br>This usually means there's a typo in your chart specification. See the javascript console for the full traceback.`));\n",
       "    }\n",
       "\n",
       "    if(typeof define === \"function\" && define.amd) {\n",
       "      requirejs.config({paths});\n",
       "      require([\"vega-embed\"], displayChart, err => showError(`Error loading script: ${err.message}`));\n",
       "    } else if (typeof vegaEmbed === \"function\") {\n",
       "      displayChart(vegaEmbed);\n",
       "    } else {\n",
       "      loadScript(\"vega\")\n",
       "        .then(() => loadScript(\"vega-lite\"))\n",
       "        .then(() => loadScript(\"vega-embed\"))\n",
       "        .catch(showError)\n",
       "        .then(() => displayChart(vegaEmbed));\n",
       "    }\n",
       "  })({\"config\": {\"axisLeft\": {\"labelFontSize\": 15}, \"axisBottom\": {\"labelFontSize\": 15}}, \"data\": {\"name\": \"data-ab9b6f668e4d5c4d993db32ec150f62b\"}, \"mark\": \"bar\", \"encoding\": {\"x\": {\"type\": \"nominal\", \"field\": \"repo\", \"sort\": [\"jupyter-packaging\", \"telemetry\", \"governance\", \"jupyter_server\", \"qtconsole\", \"nb2kg\", \"nbgrader\", \"jupyter-sphinx\", \"enterprise_gateway\", \"jupyter_client\", \"docker-stacks\", \"sphinxcontrib_github_alt\", \"nbconvert\", \"repo2docker\", \"nbclient\", \"nbviewer\", \"jupyter.github.io\", \"notebook\", \"nbdime\", \"kernel_gateway\", \"jupyter\", \"nbformat\"]}, \"y\": {\"type\": \"quantitative\", \"field\": \"time_open\", \"title\": \"Median Days Open\"}}, \"title\": \"Time to close for issues closed in the last 60 days\", \"$schema\": \"https://vega.github.io/schema/vega-lite/v4.8.1.json\", \"datasets\": {\"data-ab9b6f668e4d5c4d993db32ec150f62b\": [{\"org\": \"jupyter\", \"repo\": \"docker-stacks\", \"time_open\": 17.47196759259259, \"org/repo\": \"jupyter/docker-stacks\"}, {\"org\": \"jupyter\", \"repo\": \"enterprise_gateway\", \"time_open\": 43.70855324074075, \"org/repo\": \"jupyter/enterprise_gateway\"}, {\"org\": \"jupyter\", \"repo\": \"governance\", \"time_open\": 209.05815972222223, \"org/repo\": \"jupyter/governance\"}, {\"org\": \"jupyter\", \"repo\": \"jupyter\", \"time_open\": 0.5603125, \"org/repo\": \"jupyter/jupyter\"}, {\"org\": \"jupyter\", \"repo\": \"jupyter-packaging\", \"time_open\": 435.1313310185185, \"org/repo\": \"jupyter/jupyter-packaging\"}, {\"org\": \"jupyter\", \"repo\": \"jupyter-sphinx\", \"time_open\": 79.96710648148148, \"org/repo\": \"jupyter/jupyter-sphinx\"}, {\"org\": \"jupyter\", \"repo\": \"jupyter.github.io\", \"time_open\": 5.1084606481481485, \"org/repo\": \"jupyter/jupyter.github.io\"}, {\"org\": \"jupyter\", \"repo\": \"jupyter_client\", \"time_open\": 20.420902777777776, \"org/repo\": \"jupyter/jupyter_client\"}, {\"org\": \"jupyter\", \"repo\": \"jupyter_server\", \"time_open\": 186.5159375, \"org/repo\": \"jupyter/jupyter_server\"}, {\"org\": \"jupyter\", \"repo\": \"kernel_gateway\", \"time_open\": 1.0957581018518519, \"org/repo\": \"jupyter/kernel_gateway\"}, {\"org\": \"jupyter\", \"repo\": \"nb2kg\", \"time_open\": 149.7843113425926, \"org/repo\": \"jupyter/nb2kg\"}, {\"org\": \"jupyter\", \"repo\": \"nbclient\", \"time_open\": 7.123055555555555, \"org/repo\": \"jupyter/nbclient\"}, {\"org\": \"jupyter\", \"repo\": \"nbconvert\", \"time_open\": 11.550127314814816, \"org/repo\": \"jupyter/nbconvert\"}, {\"org\": \"jupyter\", \"repo\": \"nbdime\", \"time_open\": 2.5774131944444445, \"org/repo\": \"jupyter/nbdime\"}, {\"org\": \"jupyter\", \"repo\": \"nbformat\", \"time_open\": 0.4593055555555556, \"org/repo\": \"jupyter/nbformat\"}, {\"org\": \"jupyter\", \"repo\": \"nbgrader\", \"time_open\": 92.0282638888889, \"org/repo\": \"jupyter/nbgrader\"}, {\"org\": \"jupyter\", \"repo\": \"nbviewer\", \"time_open\": 6.0184143518518525, \"org/repo\": \"jupyter/nbviewer\"}, {\"org\": \"jupyter\", \"repo\": \"notebook\", \"time_open\": 2.617071759259259, \"org/repo\": \"jupyter/notebook\"}, {\"org\": \"jupyter\", \"repo\": \"qtconsole\", \"time_open\": 160.02386574074075, \"org/repo\": \"jupyter/qtconsole\"}, {\"org\": \"jupyter\", \"repo\": \"repo2docker\", \"time_open\": 9.021626157407407, \"org/repo\": \"jupyter/repo2docker\"}, {\"org\": \"jupyter\", \"repo\": \"sphinxcontrib_github_alt\", \"time_open\": 12.64050925925926, \"org/repo\": \"jupyter/sphinxcontrib_github_alt\"}, {\"org\": \"jupyter\", \"repo\": \"telemetry\", \"time_open\": 285.9459259259259, \"org/repo\": \"jupyter/telemetry\"}]}}, {\"mode\": \"vega-lite\"});\n",
       "</script>"
      ],
      "text/plain": [
       "alt.Chart(...)"
      ]
     },
     "execution_count": 18,
     "metadata": {},
     "output_type": "execute_result"
    }
   ],
   "source": [
    "time_open = closed.groupby(['org', 'repo']).agg({'time_open': 'median'}).reset_index()\n",
    "time_open['time_open'] = time_open['time_open'] / (60 * 60 * 24)\n",
    "time_open['org/repo'] = time_open.apply(lambda a: a['org'] + '/' + a['repo'], axis=1)\n",
    "sorted_vals = time_open.sort_values(['org', 'time_open'], ascending=False)['repo'].values\n",
    "alt.Chart(data=time_open, title=f\"Time to close for issues closed in the last {n_days} days\").mark_bar().encode(\n",
    "    x=alt.X('repo', sort=alt.Sort(sorted_vals.tolist())),\n",
    "    y=alt.Y('time_open', title=\"Median Days Open\"),\n",
    ")"
   ]
  },
  {
   "cell_type": "markdown",
   "metadata": {
    "papermill": {
     "duration": 0.025525,
     "end_time": "2020-06-12T01:16:13.962478",
     "exception": false,
     "start_time": "2020-06-12T01:16:13.936953",
     "status": "completed"
    },
    "tags": []
   },
   "source": [
    "## Commenters across repositories\n",
    "\n",
    "These are commenters across all issues and pull requests in the last several days.\n",
    "These are colored by the commenter's association with the organization. For information\n",
    "about what these associations mean, [see this StackOverflow post](https://stackoverflow.com/a/28866914/1927102)."
   ]
  },
  {
   "cell_type": "code",
   "execution_count": 19,
   "metadata": {
    "execution": {
     "iopub.execute_input": "2020-06-12T01:16:14.021727Z",
     "iopub.status.busy": "2020-06-12T01:16:14.021113Z",
     "iopub.status.idle": "2020-06-12T01:16:14.037698Z",
     "shell.execute_reply": "2020-06-12T01:16:14.037215Z"
    },
    "papermill": {
     "duration": 0.048098,
     "end_time": "2020-06-12T01:16:14.037795",
     "exception": false,
     "start_time": "2020-06-12T01:16:13.989697",
     "status": "completed"
    },
    "tags": [
     "remove_cell"
    ]
   },
   "outputs": [],
   "source": [
    "commentors = (\n",
    "    comments\n",
    "    .query(\"createdAt > @start_date and createdAt < @stop_date\")\n",
    "    .groupby(['org', 'repo', 'author', 'authorAssociation'])\n",
    "    .count().rename(columns={'id': 'count'})['count']\n",
    "    .reset_index()\n",
    "    .sort_values(['org', 'count'], ascending=False)\n",
    ")"
   ]
  },
  {
   "cell_type": "code",
   "execution_count": 20,
   "metadata": {
    "execution": {
     "iopub.execute_input": "2020-06-12T01:16:14.101921Z",
     "iopub.status.busy": "2020-06-12T01:16:14.101346Z",
     "iopub.status.idle": "2020-06-12T01:16:14.128228Z",
     "shell.execute_reply": "2020-06-12T01:16:14.128772Z"
    },
    "papermill": {
     "duration": 0.064902,
     "end_time": "2020-06-12T01:16:14.128900",
     "exception": false,
     "start_time": "2020-06-12T01:16:14.063998",
     "status": "completed"
    },
    "tags": [
     "hide_input"
    ]
   },
   "outputs": [
    {
     "data": {
      "text/html": [
       "\n",
       "<div id=\"altair-viz-7af49f32f70749778429c34606253065\"></div>\n",
       "<script type=\"text/javascript\">\n",
       "  (function(spec, embedOpt){\n",
       "    let outputDiv = document.currentScript.previousElementSibling;\n",
       "    if (outputDiv.id !== \"altair-viz-7af49f32f70749778429c34606253065\") {\n",
       "      outputDiv = document.getElementById(\"altair-viz-7af49f32f70749778429c34606253065\");\n",
       "    }\n",
       "    const paths = {\n",
       "      \"vega\": \"https://cdn.jsdelivr.net/npm//vega@5?noext\",\n",
       "      \"vega-lib\": \"https://cdn.jsdelivr.net/npm//vega-lib?noext\",\n",
       "      \"vega-lite\": \"https://cdn.jsdelivr.net/npm//vega-lite@4.8.1?noext\",\n",
       "      \"vega-embed\": \"https://cdn.jsdelivr.net/npm//vega-embed@6?noext\",\n",
       "    };\n",
       "\n",
       "    function loadScript(lib) {\n",
       "      return new Promise(function(resolve, reject) {\n",
       "        var s = document.createElement('script');\n",
       "        s.src = paths[lib];\n",
       "        s.async = true;\n",
       "        s.onload = () => resolve(paths[lib]);\n",
       "        s.onerror = () => reject(`Error loading script: ${paths[lib]}`);\n",
       "        document.getElementsByTagName(\"head\")[0].appendChild(s);\n",
       "      });\n",
       "    }\n",
       "\n",
       "    function showError(err) {\n",
       "      outputDiv.innerHTML = `<div class=\"error\" style=\"color:red;\">${err}</div>`;\n",
       "      throw err;\n",
       "    }\n",
       "\n",
       "    function displayChart(vegaEmbed) {\n",
       "      vegaEmbed(outputDiv, spec, embedOpt)\n",
       "        .catch(err => showError(`Javascript Error: ${err.message}<br>This usually means there's a typo in your chart specification. See the javascript console for the full traceback.`));\n",
       "    }\n",
       "\n",
       "    if(typeof define === \"function\" && define.amd) {\n",
       "      requirejs.config({paths});\n",
       "      require([\"vega-embed\"], displayChart, err => showError(`Error loading script: ${err.message}`));\n",
       "    } else if (typeof vegaEmbed === \"function\") {\n",
       "      displayChart(vegaEmbed);\n",
       "    } else {\n",
       "      loadScript(\"vega\")\n",
       "        .then(() => loadScript(\"vega-lite\"))\n",
       "        .then(() => loadScript(\"vega-embed\"))\n",
       "        .catch(showError)\n",
       "        .then(() => displayChart(vegaEmbed));\n",
       "    }\n",
       "  })({\"config\": {\"axisLeft\": {\"labelFontSize\": 15}, \"axisBottom\": {\"labelFontSize\": 15}}, \"hconcat\": [{\"mark\": \"bar\", \"encoding\": {\"color\": {\"type\": \"nominal\", \"field\": \"authorAssociation\", \"scale\": {\"domain\": [\"MEMBER\", \"CONTRIBUTOR\", \"COLLABORATOR\", \"NONE\"], \"range\": [\"rgb(211.82745098039214, 211.82745098039214, 211.82745098039214)\", \"rgb(166.98562091503268, 229.89803921568628, 166.98562091503268)\", \"rgb(96.37647058823529, 192.75294117647059, 96.37647058823529)\", \"rgb(0.0, 100.3921568627451, 0.0)\"]}}, \"x\": {\"type\": \"nominal\", \"field\": \"author\"}, \"y\": {\"type\": \"quantitative\", \"field\": \"count\"}}, \"title\": \"Top 50 commentors for jupyter in the last 60 days\"}], \"data\": {\"name\": \"data-f26a6ecbdafb12a52d5de904512af301\"}, \"$schema\": \"https://vega.github.io/schema/vega-lite/v4.8.1.json\", \"datasets\": {\"data-f26a6ecbdafb12a52d5de904512af301\": [{\"author\": \"kevin-bates\", \"count\": 206, \"authorAssociation\": \"MEMBER\"}, {\"author\": \"MSeal\", \"count\": 118, \"authorAssociation\": \"MEMBER\"}, {\"author\": \"choldgraf\", \"count\": 104, \"authorAssociation\": \"MEMBER\"}, {\"author\": \"Zsailer\", \"count\": 96, \"authorAssociation\": \"MEMBER\"}, {\"author\": \"blink1073\", \"count\": 91, \"authorAssociation\": \"MEMBER\"}, {\"author\": \"davidbrochart\", \"count\": 75, \"authorAssociation\": \"MEMBER\"}, {\"author\": \"romainx\", \"count\": 66, \"authorAssociation\": \"COLLABORATOR\"}, {\"author\": \"betatim\", \"count\": 52, \"authorAssociation\": \"MEMBER\"}, {\"author\": \"SylvainCorlay\", \"count\": 50, \"authorAssociation\": \"MEMBER\"}, {\"author\": \"akhmerov\", \"count\": 44, \"authorAssociation\": \"MEMBER\"}, {\"author\": \"golf-player\", \"count\": 42, \"authorAssociation\": \"NONE\"}, {\"author\": \"jasongrout\", \"count\": 35, \"authorAssociation\": \"MEMBER\"}, {\"author\": \"willingc\", \"count\": 33, \"authorAssociation\": \"MEMBER\"}, {\"author\": \"lucabem\", \"count\": 28, \"authorAssociation\": \"CONTRIBUTOR\"}, {\"author\": \"maartenbreddels\", \"count\": 28, \"authorAssociation\": \"CONTRIBUTOR\"}, {\"author\": \"parente\", \"count\": 27, \"authorAssociation\": \"MEMBER\"}, {\"author\": \"echarles\", \"count\": 26, \"authorAssociation\": \"COLLABORATOR\"}, {\"author\": \"manics\", \"count\": 16, \"authorAssociation\": \"CONTRIBUTOR\"}, {\"author\": \"hwine\", \"count\": 15, \"authorAssociation\": \"NONE\"}, {\"author\": \"jalpan-randeri\", \"count\": 14, \"authorAssociation\": \"NONE\"}, {\"author\": \"vidartf\", \"count\": 13, \"authorAssociation\": \"COLLABORATOR\"}, {\"author\": \"mathbunnyru\", \"count\": 12, \"authorAssociation\": \"CONTRIBUTOR\"}, {\"author\": \"minrk\", \"count\": 12, \"authorAssociation\": \"MEMBER\"}, {\"author\": \"moorepants\", \"count\": 11, \"authorAssociation\": \"NONE\"}, {\"author\": \"jpcastil\", \"count\": 11, \"authorAssociation\": \"CONTRIBUTOR\"}, {\"author\": \"amangarg96\", \"count\": 10, \"authorAssociation\": \"NONE\"}, {\"author\": \"afshin\", \"count\": 9, \"authorAssociation\": \"MEMBER\"}, {\"author\": \"bollwyvl\", \"count\": 9, \"authorAssociation\": \"MEMBER\"}, {\"author\": \"palewire\", \"count\": 9, \"authorAssociation\": \"NONE\"}, {\"author\": \"ttimbers\", \"count\": 8, \"authorAssociation\": \"CONTRIBUTOR\"}, {\"author\": \"tgeorgeux\", \"count\": 8, \"authorAssociation\": \"MEMBER\"}, {\"author\": \"maresb\", \"count\": 8, \"authorAssociation\": \"CONTRIBUTOR\"}, {\"author\": \"takluyver\", \"count\": 7, \"authorAssociation\": \"MEMBER\"}, {\"author\": \"ellisonbg\", \"count\": 7, \"authorAssociation\": \"MEMBER\"}, {\"author\": \"ccordoba12\", \"count\": 7, \"authorAssociation\": \"COLLABORATOR\"}, {\"author\": \"seanpue\", \"count\": 6, \"authorAssociation\": \"CONTRIBUTOR\"}, {\"author\": \"SuryaChethanReddy2\", \"count\": 6, \"authorAssociation\": \"NONE\"}, {\"author\": \"mboldin-temple\", \"count\": 6, \"authorAssociation\": \"NONE\"}, {\"author\": \"Amazeryogo\", \"count\": 6, \"authorAssociation\": \"NONE\"}, {\"author\": \"hartwork\", \"count\": 6, \"authorAssociation\": \"CONTRIBUTOR\"}, {\"author\": \"kwlzn\", \"count\": 6, \"authorAssociation\": \"CONTRIBUTOR\"}, {\"author\": \"rubendibattista\", \"count\": 5, \"authorAssociation\": \"CONTRIBUTOR\"}, {\"author\": \"perllaghu\", \"count\": 5, \"authorAssociation\": \"MEMBER\"}, {\"author\": \"danlester\", \"count\": 5, \"authorAssociation\": \"CONTRIBUTOR\"}, {\"author\": \"Carreau\", \"count\": 5, \"authorAssociation\": \"MEMBER\"}, {\"author\": \"toonijn\", \"count\": 5, \"authorAssociation\": \"CONTRIBUTOR\"}, {\"author\": \"diarmaidfinnerty\", \"count\": 5, \"authorAssociation\": \"NONE\"}, {\"author\": \"t-makaro\", \"count\": 5, \"authorAssociation\": \"COLLABORATOR\"}, {\"author\": \"lzach\", \"count\": 5, \"authorAssociation\": \"CONTRIBUTOR\"}, {\"author\": \"jtpio\", \"count\": 4, \"authorAssociation\": \"CONTRIBUTOR\"}]}}, {\"mode\": \"vega-lite\"});\n",
       "</script>"
      ],
      "text/plain": [
       "alt.HConcatChart(...)"
      ]
     },
     "execution_count": 20,
     "metadata": {},
     "output_type": "execute_result"
    }
   ],
   "source": [
    "n_plot = 50\n",
    "charts = []\n",
    "for ii, (iorg, idata) in enumerate(commentors.groupby(['org'])):\n",
    "    title = f\"Top {n_plot} commentors for {iorg} in the last {n_days} days\"\n",
    "    idata = idata.groupby('author', as_index=False).agg({'count': 'sum', 'authorAssociation': 'first'})\n",
    "    idata = idata.sort_values('count', ascending=False).head(n_plot)\n",
    "    ch = alt.Chart(data=idata.head(n_plot), title=title).mark_bar().encode(\n",
    "        x='author',\n",
    "        y='count',\n",
    "        color=alt.Color('authorAssociation', scale=alt.Scale(domain=author_types, range=author_colors))\n",
    "    )\n",
    "    charts.append(ch)\n",
    "alt.hconcat(*charts)"
   ]
  },
  {
   "cell_type": "markdown",
   "metadata": {
    "papermill": {
     "duration": 0.02835,
     "end_time": "2020-06-12T01:16:14.187413",
     "exception": false,
     "start_time": "2020-06-12T01:16:14.159063",
     "status": "completed"
    },
    "tags": []
   },
   "source": [
    "## First responders\n",
    "\n",
    "First responders are the first people to respond to a new issue in one of the repositories.\n",
    "The following plots show first responders for recently-created issues."
   ]
  },
  {
   "cell_type": "code",
   "execution_count": 21,
   "metadata": {
    "execution": {
     "iopub.execute_input": "2020-06-12T01:16:14.252937Z",
     "iopub.status.busy": "2020-06-12T01:16:14.252352Z",
     "iopub.status.idle": "2020-06-12T01:16:14.737813Z",
     "shell.execute_reply": "2020-06-12T01:16:14.737158Z"
    },
    "papermill": {
     "duration": 0.523407,
     "end_time": "2020-06-12T01:16:14.737913",
     "exception": false,
     "start_time": "2020-06-12T01:16:14.214506",
     "status": "completed"
    },
    "tags": [
     "remove_cell"
    ]
   },
   "outputs": [],
   "source": [
    "first_comments = []\n",
    "for (org, repo, issue_id), i_comments in comments.groupby(['org', 'repo', 'id']):\n",
    "    ix_min = pd.to_datetime(i_comments['createdAt']).idxmin()\n",
    "    first_comment = i_comments.loc[ix_min]\n",
    "    if isinstance(first_comment, pd.DataFrame):\n",
    "        first_comment = first_comment.iloc[0]\n",
    "    first_comments.append(first_comment)\n",
    "first_comments = pd.concat(first_comments, axis=1).T\n",
    "\n",
    "# Make up counts for viz\n",
    "first_responder_counts = first_comments.groupby(['org', 'author', 'authorAssociation'], as_index=False).\\\n",
    "    count().rename(columns={'id': 'n_first_responses'}).sort_values(['org', 'n_first_responses'], ascending=False)\n"
   ]
  },
  {
   "cell_type": "code",
   "execution_count": 22,
   "metadata": {
    "execution": {
     "iopub.execute_input": "2020-06-12T01:16:14.804125Z",
     "iopub.status.busy": "2020-06-12T01:16:14.803550Z",
     "iopub.status.idle": "2020-06-12T01:16:14.828057Z",
     "shell.execute_reply": "2020-06-12T01:16:14.828600Z"
    },
    "papermill": {
     "duration": 0.060747,
     "end_time": "2020-06-12T01:16:14.828729",
     "exception": false,
     "start_time": "2020-06-12T01:16:14.767982",
     "status": "completed"
    },
    "tags": [
     "hide_input"
    ]
   },
   "outputs": [
    {
     "data": {
      "text/html": [
       "\n",
       "<div id=\"altair-viz-15cb41e443e844dcbdeb413209eacd01\"></div>\n",
       "<script type=\"text/javascript\">\n",
       "  (function(spec, embedOpt){\n",
       "    let outputDiv = document.currentScript.previousElementSibling;\n",
       "    if (outputDiv.id !== \"altair-viz-15cb41e443e844dcbdeb413209eacd01\") {\n",
       "      outputDiv = document.getElementById(\"altair-viz-15cb41e443e844dcbdeb413209eacd01\");\n",
       "    }\n",
       "    const paths = {\n",
       "      \"vega\": \"https://cdn.jsdelivr.net/npm//vega@5?noext\",\n",
       "      \"vega-lib\": \"https://cdn.jsdelivr.net/npm//vega-lib?noext\",\n",
       "      \"vega-lite\": \"https://cdn.jsdelivr.net/npm//vega-lite@4.8.1?noext\",\n",
       "      \"vega-embed\": \"https://cdn.jsdelivr.net/npm//vega-embed@6?noext\",\n",
       "    };\n",
       "\n",
       "    function loadScript(lib) {\n",
       "      return new Promise(function(resolve, reject) {\n",
       "        var s = document.createElement('script');\n",
       "        s.src = paths[lib];\n",
       "        s.async = true;\n",
       "        s.onload = () => resolve(paths[lib]);\n",
       "        s.onerror = () => reject(`Error loading script: ${paths[lib]}`);\n",
       "        document.getElementsByTagName(\"head\")[0].appendChild(s);\n",
       "      });\n",
       "    }\n",
       "\n",
       "    function showError(err) {\n",
       "      outputDiv.innerHTML = `<div class=\"error\" style=\"color:red;\">${err}</div>`;\n",
       "      throw err;\n",
       "    }\n",
       "\n",
       "    function displayChart(vegaEmbed) {\n",
       "      vegaEmbed(outputDiv, spec, embedOpt)\n",
       "        .catch(err => showError(`Javascript Error: ${err.message}<br>This usually means there's a typo in your chart specification. See the javascript console for the full traceback.`));\n",
       "    }\n",
       "\n",
       "    if(typeof define === \"function\" && define.amd) {\n",
       "      requirejs.config({paths});\n",
       "      require([\"vega-embed\"], displayChart, err => showError(`Error loading script: ${err.message}`));\n",
       "    } else if (typeof vegaEmbed === \"function\") {\n",
       "      displayChart(vegaEmbed);\n",
       "    } else {\n",
       "      loadScript(\"vega\")\n",
       "        .then(() => loadScript(\"vega-lite\"))\n",
       "        .then(() => loadScript(\"vega-embed\"))\n",
       "        .catch(showError)\n",
       "        .then(() => displayChart(vegaEmbed));\n",
       "    }\n",
       "  })({\"config\": {\"axisLeft\": {\"labelFontSize\": 15}, \"axisBottom\": {\"labelFontSize\": 15}}, \"data\": {\"name\": \"data-0190e3036d068cacaa819ca891781921\"}, \"mark\": \"bar\", \"encoding\": {\"color\": {\"type\": \"nominal\", \"field\": \"authorAssociation\", \"scale\": {\"domain\": [\"MEMBER\", \"CONTRIBUTOR\", \"COLLABORATOR\", \"NONE\"], \"range\": [\"rgb(211.82745098039214, 211.82745098039214, 211.82745098039214)\", \"rgb(166.98562091503268, 229.89803921568628, 166.98562091503268)\", \"rgb(96.37647058823529, 192.75294117647059, 96.37647058823529)\", \"rgb(0.0, 100.3921568627451, 0.0)\"]}}, \"x\": {\"type\": \"nominal\", \"field\": \"author\"}, \"y\": {\"type\": \"quantitative\", \"field\": \"n_first_responses\"}}, \"title\": \"Top 50 first responders for jupyter in the last 60 days\", \"$schema\": \"https://vega.github.io/schema/vega-lite/v4.8.1.json\", \"datasets\": {\"data-0190e3036d068cacaa819ca891781921\": [{\"author\": \"kevin-bates\", \"n_first_responses\": 68, \"authorAssociation\": \"MEMBER\"}, {\"author\": \"MSeal\", \"n_first_responses\": 31, \"authorAssociation\": \"MEMBER\"}, {\"author\": \"Zsailer\", \"n_first_responses\": 29, \"authorAssociation\": \"MEMBER\"}, {\"author\": \"romainx\", \"n_first_responses\": 23, \"authorAssociation\": \"COLLABORATOR\"}, {\"author\": \"betatim\", \"n_first_responses\": 23, \"authorAssociation\": \"MEMBER\"}, {\"author\": \"choldgraf\", \"n_first_responses\": 20, \"authorAssociation\": \"MEMBER\"}, {\"author\": \"takluyver\", \"n_first_responses\": 19, \"authorAssociation\": \"MEMBER\"}, {\"author\": \"blink1073\", \"n_first_responses\": 19, \"authorAssociation\": \"MEMBER\"}, {\"author\": \"parente\", \"n_first_responses\": 18, \"authorAssociation\": \"MEMBER\"}, {\"author\": \"akhmerov\", \"n_first_responses\": 15, \"authorAssociation\": \"MEMBER\"}, {\"author\": \"SylvainCorlay\", \"n_first_responses\": 14, \"authorAssociation\": \"MEMBER\"}, {\"author\": \"davidbrochart\", \"n_first_responses\": 12, \"authorAssociation\": \"MEMBER\"}, {\"author\": \"vidartf\", \"n_first_responses\": 10, \"authorAssociation\": \"COLLABORATOR\"}, {\"author\": \"jasongrout\", \"n_first_responses\": 9, \"authorAssociation\": \"MEMBER\"}, {\"author\": \"willingc\", \"n_first_responses\": 7, \"authorAssociation\": \"MEMBER\"}, {\"author\": \"maartenbreddels\", \"n_first_responses\": 7, \"authorAssociation\": \"CONTRIBUTOR\"}, {\"author\": \"lresende\", \"n_first_responses\": 6, \"authorAssociation\": \"MEMBER\"}, {\"author\": \"echarles\", \"n_first_responses\": 5, \"authorAssociation\": \"COLLABORATOR\"}, {\"author\": \"ccordoba12\", \"n_first_responses\": 5, \"authorAssociation\": \"COLLABORATOR\"}, {\"author\": \"manics\", \"n_first_responses\": 5, \"authorAssociation\": \"CONTRIBUTOR\"}, {\"author\": \"jpcastil\", \"n_first_responses\": 5, \"authorAssociation\": \"CONTRIBUTOR\"}, {\"author\": \"t-makaro\", \"n_first_responses\": 5, \"authorAssociation\": \"COLLABORATOR\"}, {\"author\": \"hwine\", \"n_first_responses\": 4, \"authorAssociation\": \"NONE\"}, {\"author\": \"ggrrll\", \"n_first_responses\": 3, \"authorAssociation\": \"NONE\"}, {\"author\": \"mathbunnyru\", \"n_first_responses\": 3, \"authorAssociation\": \"CONTRIBUTOR\"}, {\"author\": \"Carreau\", \"n_first_responses\": 3, \"authorAssociation\": \"MEMBER\"}, {\"author\": \"krinsman\", \"n_first_responses\": 3, \"authorAssociation\": \"COLLABORATOR\"}, {\"author\": \"golf-player\", \"n_first_responses\": 3, \"authorAssociation\": \"CONTRIBUTOR\"}, {\"author\": \"minrk\", \"n_first_responses\": 3, \"authorAssociation\": \"MEMBER\"}, {\"author\": \"toonijn\", \"n_first_responses\": 2, \"authorAssociation\": \"CONTRIBUTOR\"}, {\"author\": \"davidanthoff\", \"n_first_responses\": 2, \"authorAssociation\": \"CONTRIBUTOR\"}, {\"author\": \"hartwork\", \"n_first_responses\": 2, \"authorAssociation\": \"CONTRIBUTOR\"}, {\"author\": \"ellisonbg\", \"n_first_responses\": 2, \"authorAssociation\": \"MEMBER\"}, {\"author\": \"tgeorgeux\", \"n_first_responses\": 2, \"authorAssociation\": \"MEMBER\"}, {\"author\": \"perllaghu\", \"n_first_responses\": 2, \"authorAssociation\": \"MEMBER\"}, {\"author\": \"mgeier\", \"n_first_responses\": 2, \"authorAssociation\": \"CONTRIBUTOR\"}, {\"author\": \"mpmdean\", \"n_first_responses\": 2, \"authorAssociation\": \"CONTRIBUTOR\"}, {\"author\": \"Bidek56\", \"n_first_responses\": 2, \"authorAssociation\": \"CONTRIBUTOR\"}, {\"author\": \"diarmaidfinnerty\", \"n_first_responses\": 2, \"authorAssociation\": \"NONE\"}, {\"author\": \"chrisjsewell\", \"n_first_responses\": 2, \"authorAssociation\": \"NONE\"}, {\"author\": \"bollwyvl\", \"n_first_responses\": 2, \"authorAssociation\": \"MEMBER\"}, {\"author\": \"mpacer\", \"n_first_responses\": 2, \"authorAssociation\": \"MEMBER\"}, {\"author\": \"rgbkrk\", \"n_first_responses\": 2, \"authorAssociation\": \"MEMBER\"}, {\"author\": \"mgedmin\", \"n_first_responses\": 1, \"authorAssociation\": \"NONE\"}, {\"author\": \"mattn\", \"n_first_responses\": 1, \"authorAssociation\": \"CONTRIBUTOR\"}, {\"author\": \"moorepants\", \"n_first_responses\": 1, \"authorAssociation\": \"NONE\"}, {\"author\": \"mboldin-temple\", \"n_first_responses\": 1, \"authorAssociation\": \"NONE\"}, {\"author\": \"nassmim10\", \"n_first_responses\": 1, \"authorAssociation\": \"NONE\"}, {\"author\": \"maresb\", \"n_first_responses\": 1, \"authorAssociation\": \"CONTRIBUTOR\"}, {\"author\": \"mkcor\", \"n_first_responses\": 1, \"authorAssociation\": \"NONE\"}]}}, {\"mode\": \"vega-lite\"});\n",
       "</script>"
      ],
      "text/plain": [
       "alt.Chart(...)"
      ]
     },
     "execution_count": 22,
     "metadata": {},
     "output_type": "execute_result"
    }
   ],
   "source": [
    "n_plot = 50\n",
    "\n",
    "title = f\"Top {n_plot} first responders for {github_org} in the last {n_days} days\"\n",
    "idata = first_responder_counts.groupby('author', as_index=False).agg({'n_first_responses': 'sum', 'authorAssociation': 'first'})\n",
    "idata = idata.sort_values('n_first_responses', ascending=False).head(n_plot)\n",
    "ch = alt.Chart(data=idata.head(n_plot), title=title).mark_bar().encode(\n",
    "    x='author',\n",
    "    y='n_first_responses',\n",
    "    color=alt.Color('authorAssociation', scale=alt.Scale(domain=author_types, range=author_colors))\n",
    ")\n",
    "ch"
   ]
  },
  {
   "cell_type": "markdown",
   "metadata": {
    "papermill": {
     "duration": 0.027775,
     "end_time": "2020-06-12T01:16:14.884358",
     "exception": false,
     "start_time": "2020-06-12T01:16:14.856583",
     "status": "completed"
    },
    "tags": [
     "remove_cell"
    ]
   },
   "source": [
    "(not yet implemented)"
   ]
  },
  {
   "cell_type": "markdown",
   "metadata": {
    "papermill": {
     "duration": 0.028921,
     "end_time": "2020-06-12T01:16:14.942426",
     "exception": false,
     "start_time": "2020-06-12T01:16:14.913505",
     "status": "completed"
    },
    "tags": [
     "remove_cell"
    ]
   },
   "source": [
    "### A list of merged PRs by project\n",
    "\n",
    "Below is a tabbed readout of recently-merged PRs. Check out the title to get an idea for what they\n",
    "implemented, and be sure to thank the PR author for their hard work!"
   ]
  },
  {
   "cell_type": "code",
   "execution_count": 23,
   "metadata": {
    "execution": {
     "iopub.execute_input": "2020-06-12T01:16:15.004772Z",
     "iopub.status.busy": "2020-06-12T01:16:15.003587Z",
     "iopub.status.idle": "2020-06-12T01:16:15.005348Z",
     "shell.execute_reply": "2020-06-12T01:16:15.005880Z"
    },
    "papermill": {
     "duration": 0.034284,
     "end_time": "2020-06-12T01:16:15.006007",
     "exception": false,
     "start_time": "2020-06-12T01:16:14.971723",
     "status": "completed"
    },
    "tags": [
     "hide_input",
     "remove_cell"
    ]
   },
   "outputs": [],
   "source": [
    "# tabs = widgets.Tab(children=[])\n",
    "\n",
    "# for ii, ((org, repo), imerged) in enumerate(merged.query(\"repo in @use_repos\").groupby(['org', 'repo'])):\n",
    "#     merged_by = {}\n",
    "#     pr_by = {}\n",
    "#     issue_md = []\n",
    "#     issue_md.append(f\"#### Closed PRs for repo: [{org}/{repo}](https://github.com/{github_org}/{repo})\")\n",
    "#     issue_md.append(\"\")\n",
    "#     issue_md.append(f\"##### \")\n",
    "\n",
    "#     for _, ipr in imerged.iterrows():\n",
    "#         user_name = ipr['author']\n",
    "#         user_url = author_url(user_name)\n",
    "#         pr_number = ipr['number']\n",
    "#         pr_html = ipr['url']\n",
    "#         pr_title = ipr['title']\n",
    "#         pr_closedby = ipr['mergedBy']\n",
    "#         pr_closedby_url = f\"https://github.com/{pr_closedby}\"\n",
    "#         if user_name not in pr_by:\n",
    "#             pr_by[user_name] = 1\n",
    "#         else:\n",
    "#             pr_by[user_name] += 1\n",
    "\n",
    "#         if pr_closedby not in merged_by:\n",
    "#             merged_by[pr_closedby] = 1\n",
    "#         else:\n",
    "#             merged_by[pr_closedby] += 1\n",
    "#         text = f\"* [(#{pr_number})]({pr_html}): _{pr_title}_ by **[@{user_name}]({user_url})** merged by **[@{pr_closedby}]({pr_closedby_url})**\"\n",
    "#         issue_md.append(text)\n",
    "    \n",
    "#     issue_md.append('')\n",
    "#     markdown_html = markdown('\\n'.join(issue_md))\n",
    "\n",
    "#     children = list(tabs.children)\n",
    "#     children.append(HTML(markdown_html))\n",
    "#     tabs.children = tuple(children)\n",
    "#     tabs.set_title(ii, repo)\n",
    "# tabs"
   ]
  },
  {
   "cell_type": "markdown",
   "metadata": {
    "papermill": {
     "duration": 0.029513,
     "end_time": "2020-06-12T01:16:15.065032",
     "exception": false,
     "start_time": "2020-06-12T01:16:15.035519",
     "status": "completed"
    },
    "tags": [
     "remove_cell"
    ]
   },
   "source": [
    "## List of all contributors per organization\n",
    "\n",
    "First, we'll list each contributor that has contributed to each organization in the last several days.\n",
    "Contributions to open source projects are diverse, and involve much more than just contributing code and\n",
    "code review. Thanks to everybody in the Jupyter communities for all that they do."
   ]
  },
  {
   "cell_type": "code",
   "execution_count": 24,
   "metadata": {
    "execution": {
     "iopub.execute_input": "2020-06-12T01:16:15.126826Z",
     "iopub.status.busy": "2020-06-12T01:16:15.126261Z",
     "iopub.status.idle": "2020-06-12T01:16:15.128456Z",
     "shell.execute_reply": "2020-06-12T01:16:15.128997Z"
    },
    "papermill": {
     "duration": 0.035998,
     "end_time": "2020-06-12T01:16:15.129148",
     "exception": false,
     "start_time": "2020-06-12T01:16:15.093150",
     "status": "completed"
    },
    "tags": [
     "remove_cell"
    ]
   },
   "outputs": [],
   "source": [
    "# n_plot = 5\n",
    "# tabs = widgets.Tab(children=[])\n",
    "# authors_comments = comments.query('org == @github_org')['author']\n",
    "# authors_prs = prs.query('org == @github_org')['author']\n",
    "# unique_participants = np.unique(np.hstack([authors_comments.values, authors_prs.values]).astype(str)).tolist()\n",
    "# unique_participants.sort(key=lambda a: a.lower())\n",
    "\n",
    "# all_participants = [f\"[{participant}](https://github.com/{participant})\" for participant in unique_participants]\n",
    "# participants_md = \" | \".join(all_participants)\n",
    "# md_html = HTML(\"<center>{}</center>\".format(markdown(participants_md)))\n",
    "\n",
    "# display(Markdown(f\"All participants across issues and pull requests in {github_org} in the last {n_days} days\"))\n",
    "# display(md_html)"
   ]
  },
  {
   "cell_type": "markdown",
   "metadata": {
    "papermill": {
     "duration": 0.031179,
     "end_time": "2020-06-12T01:16:15.191021",
     "exception": false,
     "start_time": "2020-06-12T01:16:15.159842",
     "status": "completed"
    },
    "tags": [
     "remove_cell"
    ]
   },
   "source": [
    "### A list of recent issues\n",
    "\n",
    "Below is a list of issues with recent activity in each repository. If they seem of interest\n",
    "to you, click on their links and jump in to participate!"
   ]
  },
  {
   "cell_type": "code",
   "execution_count": 25,
   "metadata": {
    "execution": {
     "iopub.execute_input": "2020-06-12T01:16:15.252930Z",
     "iopub.status.busy": "2020-06-12T01:16:15.251734Z",
     "iopub.status.idle": "2020-06-12T01:16:15.253493Z",
     "shell.execute_reply": "2020-06-12T01:16:15.254022Z"
    },
    "papermill": {
     "duration": 0.034934,
     "end_time": "2020-06-12T01:16:15.254146",
     "exception": false,
     "start_time": "2020-06-12T01:16:15.219212",
     "status": "completed"
    },
    "tags": [
     "remove_cell"
    ]
   },
   "outputs": [],
   "source": [
    "# # Add comment count data to issues and PRs\n",
    "# comment_counts = (\n",
    "#     comments\n",
    "#     .query(\"createdAt > @start_date and createdAt < @stop_date\")\n",
    "#     .groupby(['org', 'repo', 'id'])\n",
    "#     .count().iloc[:, 0].to_frame()\n",
    "# )\n",
    "# comment_counts.columns = ['n_comments']\n",
    "# comment_counts = comment_counts.reset_index()"
   ]
  },
  {
   "cell_type": "code",
   "execution_count": 26,
   "metadata": {
    "execution": {
     "iopub.execute_input": "2020-06-12T01:16:15.318101Z",
     "iopub.status.busy": "2020-06-12T01:16:15.317538Z",
     "iopub.status.idle": "2020-06-12T01:16:15.319779Z",
     "shell.execute_reply": "2020-06-12T01:16:15.319212Z"
    },
    "papermill": {
     "duration": 0.035479,
     "end_time": "2020-06-12T01:16:15.319873",
     "exception": false,
     "start_time": "2020-06-12T01:16:15.284394",
     "status": "completed"
    },
    "tags": [
     "remove_cell"
    ],
    "toc-hr-collapsed": false
   },
   "outputs": [],
   "source": [
    "# n_plot = 5\n",
    "# tabs = widgets.Tab(children=[])\n",
    "\n",
    "# for ii, (repo, i_issues) in enumerate(comment_counts.query(\"repo in @use_repos\").groupby('repo')):\n",
    "    \n",
    "#     issue_md = []\n",
    "#     issue_md.append(\"\")\n",
    "#     issue_md.append(f\"##### [{github_org}/{repo}](https://github.com/{github_org}/{repo})\")\n",
    "\n",
    "#     top_issues = i_issues.sort_values('n_comments', ascending=False).head(n_plot)\n",
    "#     top_issue_list = pd.merge(issues, top_issues, left_on=['org', 'repo', 'id'], right_on=['org', 'repo', 'id'])\n",
    "#     for _, issue in top_issue_list.sort_values('n_comments', ascending=False).head(n_plot).iterrows():\n",
    "#         user_name = issue['author']\n",
    "#         user_url = author_url(user_name)\n",
    "#         issue_number = issue['number']\n",
    "#         issue_html = issue['url']\n",
    "#         issue_title = issue['title']\n",
    "\n",
    "#         text = f\"* [(#{issue_number})]({issue_html}): _{issue_title}_ by **[@{user_name}]({user_url})**\"\n",
    "#         issue_md.append(text)\n",
    "\n",
    "#     issue_md.append('')\n",
    "#     md_html = HTML(markdown('\\n'.join(issue_md)))\n",
    "\n",
    "#     children = list(tabs.children)\n",
    "#     children.append(HTML(markdown('\\n'.join(issue_md))))\n",
    "#     tabs.children = tuple(children)\n",
    "#     tabs.set_title(ii, repo)\n",
    "    \n",
    "# display(Markdown(f\"Here are the top {n_plot} active issues in each repository in the last {n_days} days\"))\n",
    "# display(tabs)"
   ]
  }
 ],
 "metadata": {
  "kernelspec": {
   "display_name": "Python 3",
   "language": "python",
   "name": "python3"
  },
  "language_info": {
   "codemirror_mode": {
    "name": "ipython",
    "version": 3
   },
   "file_extension": ".py",
   "mimetype": "text/x-python",
   "name": "python",
   "nbconvert_exporter": "python",
   "pygments_lexer": "ipython3",
   "version": "3.7.7"
  },
  "papermill": {
   "duration": 59.807968,
   "end_time": "2020-06-12T01:16:15.860331",
   "environment_variables": {},
   "exception": null,
   "input_path": "./template.ipynb",
   "output_path": "book/jupyter.ipynb",
   "parameters": {
    "github_org": "jupyter",
    "n_days": 60
   },
   "start_time": "2020-06-12T01:15:16.052363",
   "version": "2.1.1"
  },
  "widgets": {
   "application/vnd.jupyter.widget-state+json": {
    "state": {
     "50173d17fe234996ad439b43dd296142": {
      "model_module": "@jupyter-widgets/controls",
      "model_module_version": "1.5.0",
      "model_name": "IntProgressModel",
      "state": {
       "_dom_classes": [],
       "_model_module": "@jupyter-widgets/controls",
       "_model_module_version": "1.5.0",
       "_model_name": "IntProgressModel",
       "_view_count": null,
       "_view_module": "@jupyter-widgets/controls",
       "_view_module_version": "1.5.0",
       "_view_name": "ProgressView",
       "bar_style": "success",
       "description": "Downloading:",
       "description_tooltip": null,
       "layout": "IPY_MODEL_9b4e3ad56300474db4d95b8683f8a872",
       "max": 11,
       "min": 0,
       "orientation": "horizontal",
       "style": "IPY_MODEL_5f2e564e0f184dafb5d5c7cbb17648b7",
       "value": 11
      }
     },
     "5c3ef0cf6f1c45318879bac50ac47fbd": {
      "model_module": "@jupyter-widgets/controls",
      "model_module_version": "1.5.0",
      "model_name": "IntProgressModel",
      "state": {
       "_dom_classes": [],
       "_model_module": "@jupyter-widgets/controls",
       "_model_module_version": "1.5.0",
       "_model_name": "IntProgressModel",
       "_view_count": null,
       "_view_module": "@jupyter-widgets/controls",
       "_view_module_version": "1.5.0",
       "_view_name": "ProgressView",
       "bar_style": "success",
       "description": "Downloading:",
       "description_tooltip": null,
       "layout": "IPY_MODEL_75a09ab0e8734b24aaa20fb33d1d65eb",
       "max": 10,
       "min": 0,
       "orientation": "horizontal",
       "style": "IPY_MODEL_ba727bab922c47c9aa6d914e2b2f49a7",
       "value": 10
      }
     },
     "5f2e564e0f184dafb5d5c7cbb17648b7": {
      "model_module": "@jupyter-widgets/controls",
      "model_module_version": "1.5.0",
      "model_name": "ProgressStyleModel",
      "state": {
       "_model_module": "@jupyter-widgets/controls",
       "_model_module_version": "1.5.0",
       "_model_name": "ProgressStyleModel",
       "_view_count": null,
       "_view_module": "@jupyter-widgets/base",
       "_view_module_version": "1.2.0",
       "_view_name": "StyleView",
       "bar_color": null,
       "description_width": ""
      }
     },
     "75a09ab0e8734b24aaa20fb33d1d65eb": {
      "model_module": "@jupyter-widgets/base",
      "model_module_version": "1.2.0",
      "model_name": "LayoutModel",
      "state": {
       "_model_module": "@jupyter-widgets/base",
       "_model_module_version": "1.2.0",
       "_model_name": "LayoutModel",
       "_view_count": null,
       "_view_module": "@jupyter-widgets/base",
       "_view_module_version": "1.2.0",
       "_view_name": "LayoutView",
       "align_content": null,
       "align_items": null,
       "align_self": null,
       "border": null,
       "bottom": null,
       "display": null,
       "flex": null,
       "flex_flow": null,
       "grid_area": null,
       "grid_auto_columns": null,
       "grid_auto_flow": null,
       "grid_auto_rows": null,
       "grid_column": null,
       "grid_gap": null,
       "grid_row": null,
       "grid_template_areas": null,
       "grid_template_columns": null,
       "grid_template_rows": null,
       "height": null,
       "justify_content": null,
       "justify_items": null,
       "left": null,
       "margin": null,
       "max_height": null,
       "max_width": null,
       "min_height": null,
       "min_width": null,
       "object_fit": null,
       "object_position": null,
       "order": null,
       "overflow": null,
       "overflow_x": null,
       "overflow_y": null,
       "padding": null,
       "right": null,
       "top": null,
       "visibility": null,
       "width": null
      }
     },
     "9b4e3ad56300474db4d95b8683f8a872": {
      "model_module": "@jupyter-widgets/base",
      "model_module_version": "1.2.0",
      "model_name": "LayoutModel",
      "state": {
       "_model_module": "@jupyter-widgets/base",
       "_model_module_version": "1.2.0",
       "_model_name": "LayoutModel",
       "_view_count": null,
       "_view_module": "@jupyter-widgets/base",
       "_view_module_version": "1.2.0",
       "_view_name": "LayoutView",
       "align_content": null,
       "align_items": null,
       "align_self": null,
       "border": null,
       "bottom": null,
       "display": null,
       "flex": null,
       "flex_flow": null,
       "grid_area": null,
       "grid_auto_columns": null,
       "grid_auto_flow": null,
       "grid_auto_rows": null,
       "grid_column": null,
       "grid_gap": null,
       "grid_row": null,
       "grid_template_areas": null,
       "grid_template_columns": null,
       "grid_template_rows": null,
       "height": null,
       "justify_content": null,
       "justify_items": null,
       "left": null,
       "margin": null,
       "max_height": null,
       "max_width": null,
       "min_height": null,
       "min_width": null,
       "object_fit": null,
       "object_position": null,
       "order": null,
       "overflow": null,
       "overflow_x": null,
       "overflow_y": null,
       "padding": null,
       "right": null,
       "top": null,
       "visibility": null,
       "width": null
      }
     },
     "ba727bab922c47c9aa6d914e2b2f49a7": {
      "model_module": "@jupyter-widgets/controls",
      "model_module_version": "1.5.0",
      "model_name": "ProgressStyleModel",
      "state": {
       "_model_module": "@jupyter-widgets/controls",
       "_model_module_version": "1.5.0",
       "_model_name": "ProgressStyleModel",
       "_view_count": null,
       "_view_module": "@jupyter-widgets/base",
       "_view_module_version": "1.2.0",
       "_view_name": "StyleView",
       "bar_color": null,
       "description_width": ""
      }
     }
    },
    "version_major": 2,
    "version_minor": 0
   }
  }
 },
 "nbformat": 4,
 "nbformat_minor": 4
}