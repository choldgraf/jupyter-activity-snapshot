{
 "cells": [
  {
   "cell_type": "markdown",
   "id": "61fa6520",
   "metadata": {
    "papermill": {
     "duration": 0.015539,
     "end_time": "2025-05-12T16:41:45.141353",
     "exception": false,
     "start_time": "2025-05-12T16:41:45.125814",
     "status": "completed"
    },
    "tags": []
   },
   "source": [
    "# {glue:text}`jupyter_github_org`\n",
    "\n",
    "**Activity from {glue:}`jupyter_start` to {glue:}`jupyter_stop`**"
   ]
  },
  {
   "cell_type": "code",
   "execution_count": 1,
   "id": "b269da9e",
   "metadata": {
    "editable": true,
    "execution": {
     "iopub.execute_input": "2025-05-12T16:41:45.172458Z",
     "iopub.status.busy": "2025-05-12T16:41:45.171949Z",
     "iopub.status.idle": "2025-05-12T16:41:46.027271Z",
     "shell.execute_reply": "2025-05-12T16:41:46.026592Z"
    },
    "papermill": {
     "duration": 0.872428,
     "end_time": "2025-05-12T16:41:46.028627",
     "exception": false,
     "start_time": "2025-05-12T16:41:45.156199",
     "status": "completed"
    },
    "slideshow": {
     "slide_type": ""
    },
    "tags": [
     "remove_cell"
    ]
   },
   "outputs": [],
   "source": [
    "from datetime import date\n",
    "from dateutil.relativedelta import relativedelta\n",
    "from myst_nb import glue\n",
    "import seaborn as sns\n",
    "import pandas as pd\n",
    "import numpy as np\n",
    "import altair as alt\n",
    "from markdown import markdown\n",
    "from IPython.display import Markdown\n",
    "from ipywidgets.widgets import HTML, Tab\n",
    "from ipywidgets import widgets\n",
    "from datetime import timedelta\n",
    "from matplotlib import pyplot as plt\n",
    "import os.path as op\n",
    "from json import loads\n",
    "\n",
    "from warnings import simplefilter\n",
    "simplefilter('ignore')\n",
    "pd.set_option('display.max_columns', None) # 'None' means show all"
   ]
  },
  {
   "cell_type": "code",
   "execution_count": 2,
   "id": "f180b4c8",
   "metadata": {
    "editable": true,
    "execution": {
     "iopub.execute_input": "2025-05-12T16:41:46.059808Z",
     "iopub.status.busy": "2025-05-12T16:41:46.059463Z",
     "iopub.status.idle": "2025-05-12T16:41:46.067110Z",
     "shell.execute_reply": "2025-05-12T16:41:46.066513Z"
    },
    "papermill": {
     "duration": 0.024286,
     "end_time": "2025-05-12T16:41:46.068164",
     "exception": false,
     "start_time": "2025-05-12T16:41:46.043878",
     "status": "completed"
    },
    "slideshow": {
     "slide_type": ""
    },
    "tags": [
     "remove_cell"
    ]
   },
   "outputs": [],
   "source": [
    "# Altair config\n",
    "def author_url(author):\n",
    "    return f\"https://github.com/{author}\"\n",
    "\n",
    "def alt_theme():\n",
    "    return {\n",
    "        'config': {\n",
    "            'axisLeft': {\n",
    "                'labelFontSize': 15,\n",
    "            },\n",
    "            'axisBottom': {\n",
    "                'labelFontSize': 15,\n",
    "            },\n",
    "        }\n",
    "    }\n",
    "\n",
    "alt.themes.register('my_theme', alt_theme)\n",
    "alt.themes.enable(\"my_theme\")\n",
    "\n",
    "\n",
    "# Define colors we'll use for GitHub membership\n",
    "author_types = ['MEMBER', 'CONTRIBUTOR', 'COLLABORATOR', \"NONE\"]\n",
    "\n",
    "author_palette = np.array(sns.palettes.blend_palette([\"lightgrey\", \"lightgreen\", \"darkgreen\"], 4)) * 256\n",
    "author_colors = [\"rgb({}, {}, {})\".format(*color) for color in author_palette]\n",
    "author_color_dict = {key: val for key, val in zip(author_types, author_palette)}"
   ]
  },
  {
   "cell_type": "code",
   "execution_count": 3,
   "id": "8aa69b74",
   "metadata": {
    "editable": true,
    "execution": {
     "iopub.execute_input": "2025-05-12T16:41:46.098397Z",
     "iopub.status.busy": "2025-05-12T16:41:46.097731Z",
     "iopub.status.idle": "2025-05-12T16:41:46.101219Z",
     "shell.execute_reply": "2025-05-12T16:41:46.100645Z"
    },
    "papermill": {
     "duration": 0.019718,
     "end_time": "2025-05-12T16:41:46.102223",
     "exception": false,
     "start_time": "2025-05-12T16:41:46.082505",
     "status": "completed"
    },
    "slideshow": {
     "slide_type": ""
    },
    "tags": [
     "parameters",
     "hide_input",
     "remove_cell"
    ]
   },
   "outputs": [],
   "source": [
    "github_org = \"jupyterhub\"\n",
    "top_n_repos = 15\n",
    "n_days = 90"
   ]
  },
  {
   "cell_type": "code",
   "execution_count": 4,
   "id": "9de81b25",
   "metadata": {
    "execution": {
     "iopub.execute_input": "2025-05-12T16:41:46.132296Z",
     "iopub.status.busy": "2025-05-12T16:41:46.131797Z",
     "iopub.status.idle": "2025-05-12T16:41:46.135155Z",
     "shell.execute_reply": "2025-05-12T16:41:46.134571Z"
    },
    "papermill": {
     "duration": 0.0195,
     "end_time": "2025-05-12T16:41:46.136127",
     "exception": false,
     "start_time": "2025-05-12T16:41:46.116627",
     "status": "completed"
    },
    "tags": [
     "injected-parameters",
     "remove-cell"
    ]
   },
   "outputs": [],
   "source": [
    "# Parameters\n",
    "github_org = \"jupyter\"\n",
    "n_days = 90\n"
   ]
  },
  {
   "cell_type": "code",
   "execution_count": 5,
   "id": "43dd575e",
   "metadata": {
    "editable": true,
    "execution": {
     "iopub.execute_input": "2025-05-12T16:41:46.167210Z",
     "iopub.status.busy": "2025-05-12T16:41:46.166705Z",
     "iopub.status.idle": "2025-05-12T16:41:46.189868Z",
     "shell.execute_reply": "2025-05-12T16:41:46.189284Z"
    },
    "papermill": {
     "duration": 0.039908,
     "end_time": "2025-05-12T16:41:46.190902",
     "exception": false,
     "start_time": "2025-05-12T16:41:46.150994",
     "status": "completed"
    },
    "slideshow": {
     "slide_type": ""
    },
    "tags": [
     "remove_cell"
    ]
   },
   "outputs": [
    {
     "data": {
      "application/papermill.record/text/plain": "'jupyter'"
     },
     "metadata": {
      "scrapbook": {
       "mime_prefix": "application/papermill.record/",
       "name": "jupyter_github_org"
      }
     },
     "output_type": "display_data"
    },
    {
     "data": {
      "application/papermill.record/text/plain": "'2025-02-11'"
     },
     "metadata": {
      "scrapbook": {
       "mime_prefix": "application/papermill.record/",
       "name": "jupyter_start"
      }
     },
     "output_type": "display_data"
    },
    {
     "data": {
      "application/papermill.record/text/plain": "'2025-05-12'"
     },
     "metadata": {
      "scrapbook": {
       "mime_prefix": "application/papermill.record/",
       "name": "jupyter_stop"
      }
     },
     "output_type": "display_data"
    }
   ],
   "source": [
    "############################################################\n",
    "# Variables\n",
    "stop = date.today()\n",
    "start = date.today() - relativedelta(days=n_days)\n",
    "\n",
    "# Strings for use in queries\n",
    "start_date = f\"{start:%Y-%m-%d}\"\n",
    "stop_date = f\"{stop:%Y-%m-%d}\"\n",
    "\n",
    "# Glue variables for use in markdown\n",
    "glue(f\"{github_org}_github_org\", github_org, display=False)\n",
    "glue(f\"{github_org}_start\", start_date, display=False)\n",
    "glue(f\"{github_org}_stop\", stop_date, display=False)"
   ]
  },
  {
   "cell_type": "markdown",
   "id": "169523a4",
   "metadata": {
    "editable": true,
    "papermill": {
     "duration": 0.014394,
     "end_time": "2025-05-12T16:41:46.220092",
     "exception": false,
     "start_time": "2025-05-12T16:41:46.205698",
     "status": "completed"
    },
    "slideshow": {
     "slide_type": ""
    },
    "tags": []
   },
   "source": [
    "## Load data\n",
    "\n",
    "Load and clean up the data"
   ]
  },
  {
   "cell_type": "code",
   "execution_count": 6,
   "id": "b11652bd",
   "metadata": {
    "editable": true,
    "execution": {
     "iopub.execute_input": "2025-05-12T16:41:46.250232Z",
     "iopub.status.busy": "2025-05-12T16:41:46.249739Z",
     "iopub.status.idle": "2025-05-12T16:41:46.254346Z",
     "shell.execute_reply": "2025-05-12T16:41:46.253657Z"
    },
    "papermill": {
     "duration": 0.020976,
     "end_time": "2025-05-12T16:41:46.255496",
     "exception": false,
     "start_time": "2025-05-12T16:41:46.234520",
     "status": "completed"
    },
    "slideshow": {
     "slide_type": ""
    },
    "tags": [
     "remove_cell"
    ]
   },
   "outputs": [],
   "source": [
    "from pathlib import Path\n",
    "import sqlite3\n",
    "path_data = Path(\"../data\")\n",
    "path_data = list(path_data.rglob(f\"*{github_org}.db\"))[0]\n",
    "\n",
    "def df_from_sql(query, db):\n",
    "    con = sqlite3.connect(db)\n",
    "    return pd.read_sql(query, con)\n",
    "    con.close()"
   ]
  },
  {
   "cell_type": "code",
   "execution_count": 7,
   "id": "c9a90160",
   "metadata": {
    "editable": true,
    "execution": {
     "iopub.execute_input": "2025-05-12T16:41:46.287802Z",
     "iopub.status.busy": "2025-05-12T16:41:46.287343Z",
     "iopub.status.idle": "2025-05-12T16:41:47.254698Z",
     "shell.execute_reply": "2025-05-12T16:41:47.253902Z"
    },
    "papermill": {
     "duration": 0.985515,
     "end_time": "2025-05-12T16:41:47.256258",
     "exception": false,
     "start_time": "2025-05-12T16:41:46.270743",
     "status": "completed"
    },
    "scrolled": true,
    "slideshow": {
     "slide_type": ""
    },
    "tags": [
     "remove_cell"
    ]
   },
   "outputs": [
    {
     "name": "stdout",
     "output_type": "stream",
     "text": [
      "Loading from ../data/9edfdc2b0b0cf4987293f0d8604d009e-jupyter.db\n"
     ]
    }
   ],
   "source": [
    "print(f\"Loading from {path_data}\")\n",
    "repos = df_from_sql(\"SELECT * FROM repos\", path_data)\n",
    "users = df_from_sql(\"SELECT * FROM users\", path_data)\n",
    "issues = df_from_sql(\"SELECT * FROM issues\", path_data)\n",
    "comments = df_from_sql(\"SELECT * FROM issue_comments\", path_data)\n",
    "\n",
    "# Merge repository information into issues\n",
    "def merge_repo_into_df(df, kind):\n",
    "    df = pd.merge(df, users[[\"id\", \"login\"]], left_on=\"user\", right_on=\"id\", suffixes=(\"_issue\", \"_user\"), how=\"inner\")\n",
    "    df = pd.merge(df, repos[[\"id\", \"full_name\", \"name\"]], left_on=\"repo\", right_on=\"id\", suffixes=(\"_issue\", \"_repo\"), how=\"inner\")\n",
    "    df[\"org\"] = df[\"full_name\"].map(lambda a: a.split('/')[0])\n",
    "    df[\"repo\"] = df[\"full_name\"].map(lambda a: a.split('/')[1])\n",
    "    df[\"url\"] = \"https://github.com/\" + df[\"org\"] + \"/\" + df[\"repo\"] + f\"/{kind}/\" + df[\"number\"].astype(str)\n",
    "    return df\n",
    "issues = merge_repo_into_df(issues, kind=\"issues\")\n",
    "\n",
    "# Pull out the Pull Requests from Issues\n",
    "prs = issues.loc[~issues[\"pull_request\"].isna()]\n",
    "def identify_merger(closedby):\n",
    "    if not closedby:\n",
    "        return None\n",
    "    try:\n",
    "        cb = loads(closedby)\n",
    "    except:\n",
    "        print(closedby)\n",
    "    return cb[\"login\"]\n",
    "prs[\"merged_by\"] = prs[\"closed_by\"].map(identify_merger)\n",
    "\n",
    "# These issues now _remove_ the PRs\n",
    "issues = issues.loc[issues[\"pull_request\"].isna()]\n",
    "\n",
    "# Add reactions data\n",
    "def count_positive(a):\n",
    "    a = loads(a)\n",
    "    return a[\"+1\"] + a[\"hooray\"] + a[\"heart\"]\n",
    "issues[\"positive\"] = issues[\"reactions\"].map(count_positive)\n",
    "\n",
    "# Drop comments if there is no associated issue\n",
    "comments = comments.dropna(subset=[\"issue\"])\n",
    "comments[\"issue\"] = comments.loc[:, \"issue\"].astype(int)\n",
    "\n",
    "# Add repository information to comments\n",
    "comments = pd.merge(comments, issues[[\"id_issue\", \"full_name\", \"org\", \"repo\"]], left_on=\"issue\", right_on=\"id_issue\", how=\"inner\", suffixes=(\"_comment\", \"_issue\"))\n",
    "\n",
    "# Merge user data into comments\n",
    "comments = pd.merge(comments, users[[\"id\", \"login\"]], left_on=\"user\", right_on=\"id\", suffixes=(\"_comment\", \"_user\"), how=\"inner\")"
   ]
  },
  {
   "cell_type": "code",
   "execution_count": 8,
   "id": "cb25a02d",
   "metadata": {
    "editable": true,
    "execution": {
     "iopub.execute_input": "2025-05-12T16:41:47.288547Z",
     "iopub.status.busy": "2025-05-12T16:41:47.288048Z",
     "iopub.status.idle": "2025-05-12T16:41:47.395785Z",
     "shell.execute_reply": "2025-05-12T16:41:47.395044Z"
    },
    "papermill": {
     "duration": 0.125393,
     "end_time": "2025-05-12T16:41:47.397217",
     "exception": false,
     "start_time": "2025-05-12T16:41:47.271824",
     "status": "completed"
    },
    "slideshow": {
     "slide_type": ""
    },
    "tags": [
     "remove_cell"
    ]
   },
   "outputs": [],
   "source": [
    "# Convert columns to datetime\n",
    "datetime_columns = [\"created_at\", \"closed_at\"]\n",
    "for df in [comments, issues, prs]:\n",
    "    for col in datetime_columns:\n",
    "        if col in df:\n",
    "            df[col] = pd.to_datetime(df[col])\n",
    "            # Strip timezone information so we can run simpler queries\n",
    "            df[col] = df[col].dt.tz_localize(None)"
   ]
  },
  {
   "cell_type": "code",
   "execution_count": 9,
   "id": "e5ad2b94",
   "metadata": {
    "editable": true,
    "execution": {
     "iopub.execute_input": "2025-05-12T16:41:47.429557Z",
     "iopub.status.busy": "2025-05-12T16:41:47.429107Z",
     "iopub.status.idle": "2025-05-12T16:41:47.468733Z",
     "shell.execute_reply": "2025-05-12T16:41:47.468012Z"
    },
    "papermill": {
     "duration": 0.057031,
     "end_time": "2025-05-12T16:41:47.469909",
     "exception": false,
     "start_time": "2025-05-12T16:41:47.412878",
     "status": "completed"
    },
    "slideshow": {
     "slide_type": ""
    },
    "tags": [
     "remove_cell"
    ]
   },
   "outputs": [],
   "source": [
    "# What are the top N repos, we will only plot these in the full data plots\n",
    "top_commented_repos = comments.groupby(\"repo\").count().sort_values(\"created_at\", ascending=False)['created_at']\n",
    "use_repos = top_commented_repos.head(top_n_repos).index.tolist()"
   ]
  },
  {
   "cell_type": "markdown",
   "id": "f7c16a3f",
   "metadata": {
    "editable": true,
    "papermill": {
     "duration": 0.01457,
     "end_time": "2025-05-12T16:41:47.499756",
     "exception": false,
     "start_time": "2025-05-12T16:41:47.485186",
     "status": "completed"
    },
    "slideshow": {
     "slide_type": ""
    },
    "tags": [],
    "toc-hr-collapsed": false
   },
   "source": [
    "## Merged Pull requests\n",
    "\n",
    "Here's an analysis of **merged pull requests** across each of the repositories in the Jupyter\n",
    "ecosystem."
   ]
  },
  {
   "cell_type": "code",
   "execution_count": 10,
   "id": "563d2d3b",
   "metadata": {
    "editable": true,
    "execution": {
     "iopub.execute_input": "2025-05-12T16:41:47.531671Z",
     "iopub.status.busy": "2025-05-12T16:41:47.531141Z",
     "iopub.status.idle": "2025-05-12T16:41:47.543391Z",
     "shell.execute_reply": "2025-05-12T16:41:47.542829Z"
    },
    "papermill": {
     "duration": 0.02946,
     "end_time": "2025-05-12T16:41:47.544484",
     "exception": false,
     "start_time": "2025-05-12T16:41:47.515024",
     "status": "completed"
    },
    "slideshow": {
     "slide_type": ""
    },
    "tags": [
     "remove_cell"
    ]
   },
   "outputs": [],
   "source": [
    "merged = prs.query('state == \"closed\" and closed_at > @start_date and closed_at < @stop_date')"
   ]
  },
  {
   "cell_type": "code",
   "execution_count": 11,
   "id": "96ac54ad",
   "metadata": {
    "editable": true,
    "execution": {
     "iopub.execute_input": "2025-05-12T16:41:47.575080Z",
     "iopub.status.busy": "2025-05-12T16:41:47.574548Z",
     "iopub.status.idle": "2025-05-12T16:41:47.614596Z",
     "shell.execute_reply": "2025-05-12T16:41:47.613920Z"
    },
    "papermill": {
     "duration": 0.056573,
     "end_time": "2025-05-12T16:41:47.615734",
     "exception": false,
     "start_time": "2025-05-12T16:41:47.559161",
     "status": "completed"
    },
    "slideshow": {
     "slide_type": ""
    },
    "tags": [
     "hide_input"
    ]
   },
   "outputs": [
    {
     "data": {
      "text/html": [
       "\n",
       "<style>\n",
       "  #altair-viz-a6e51f11cbbc4a5ba37cdf64c44bc66d.vega-embed {\n",
       "    width: 100%;\n",
       "    display: flex;\n",
       "  }\n",
       "\n",
       "  #altair-viz-a6e51f11cbbc4a5ba37cdf64c44bc66d.vega-embed details,\n",
       "  #altair-viz-a6e51f11cbbc4a5ba37cdf64c44bc66d.vega-embed details summary {\n",
       "    position: relative;\n",
       "  }\n",
       "</style>\n",
       "<div id=\"altair-viz-a6e51f11cbbc4a5ba37cdf64c44bc66d\"></div>\n",
       "<script type=\"text/javascript\">\n",
       "  var VEGA_DEBUG = (typeof VEGA_DEBUG == \"undefined\") ? {} : VEGA_DEBUG;\n",
       "  (function(spec, embedOpt){\n",
       "    let outputDiv = document.currentScript.previousElementSibling;\n",
       "    if (outputDiv.id !== \"altair-viz-a6e51f11cbbc4a5ba37cdf64c44bc66d\") {\n",
       "      outputDiv = document.getElementById(\"altair-viz-a6e51f11cbbc4a5ba37cdf64c44bc66d\");\n",
       "    }\n",
       "\n",
       "    const paths = {\n",
       "      \"vega\": \"https://cdn.jsdelivr.net/npm/vega@5?noext\",\n",
       "      \"vega-lib\": \"https://cdn.jsdelivr.net/npm/vega-lib?noext\",\n",
       "      \"vega-lite\": \"https://cdn.jsdelivr.net/npm/vega-lite@5.20.1?noext\",\n",
       "      \"vega-embed\": \"https://cdn.jsdelivr.net/npm/vega-embed@6?noext\",\n",
       "    };\n",
       "\n",
       "    function maybeLoadScript(lib, version) {\n",
       "      var key = `${lib.replace(\"-\", \"\")}_version`;\n",
       "      return (VEGA_DEBUG[key] == version) ?\n",
       "        Promise.resolve(paths[lib]) :\n",
       "        new Promise(function(resolve, reject) {\n",
       "          var s = document.createElement('script');\n",
       "          document.getElementsByTagName(\"head\")[0].appendChild(s);\n",
       "          s.async = true;\n",
       "          s.onload = () => {\n",
       "            VEGA_DEBUG[key] = version;\n",
       "            return resolve(paths[lib]);\n",
       "          };\n",
       "          s.onerror = () => reject(`Error loading script: ${paths[lib]}`);\n",
       "          s.src = paths[lib];\n",
       "        });\n",
       "    }\n",
       "\n",
       "    function showError(err) {\n",
       "      outputDiv.innerHTML = `<div class=\"error\" style=\"color:red;\">${err}</div>`;\n",
       "      throw err;\n",
       "    }\n",
       "\n",
       "    function displayChart(vegaEmbed) {\n",
       "      vegaEmbed(outputDiv, spec, embedOpt)\n",
       "        .catch(err => showError(`Javascript Error: ${err.message}<br>This usually means there's a typo in your chart specification. See the javascript console for the full traceback.`));\n",
       "    }\n",
       "\n",
       "    if(typeof define === \"function\" && define.amd) {\n",
       "      requirejs.config({paths});\n",
       "      let deps = [\"vega-embed\"];\n",
       "      require(deps, displayChart, err => showError(`Error loading script: ${err.message}`));\n",
       "    } else {\n",
       "      maybeLoadScript(\"vega\", \"5\")\n",
       "        .then(() => maybeLoadScript(\"vega-lite\", \"5.20.1\"))\n",
       "        .then(() => maybeLoadScript(\"vega-embed\", \"6\"))\n",
       "        .catch(showError)\n",
       "        .then(() => displayChart(vegaEmbed));\n",
       "    }\n",
       "  })({\"config\": {\"axisLeft\": {\"labelFontSize\": 15}, \"axisBottom\": {\"labelFontSize\": 15}}, \"data\": {\"name\": \"data-f94c9783803de141353ec7c7a066d348\"}, \"mark\": {\"type\": \"bar\"}, \"encoding\": {\"color\": {\"field\": \"org\", \"type\": \"nominal\"}, \"x\": {\"field\": \"repo\", \"sort\": [\"docker-stacks\", \"notebook\", \"nbclassic\", \"governance\", \"jupyter\", \"jupyter_core\", \"jupyter.github.io\", \"security\", \"cookiecutter-docker-stacks\", \"nbgrader\", \"try-jupyter\", \"enhancement-proposals\", \"jupyter_client\", \"jupyter_events\", \"kernels-team-compass\", \"nbviewer\", \"notebook_shim\", \"testpath\"], \"type\": \"nominal\"}, \"y\": {\"field\": \"login\", \"type\": \"quantitative\"}}, \"title\": \"Merged PRs in the last 90 days\", \"$schema\": \"https://vega.github.io/schema/vega-lite/v5.20.1.json\", \"datasets\": {\"data-f94c9783803de141353ec7c7a066d348\": [{\"org\": \"jupyter\", \"repo\": \"docker-stacks\", \"login\": 82}, {\"org\": \"jupyter\", \"repo\": \"notebook\", \"login\": 40}, {\"org\": \"jupyter\", \"repo\": \"nbclassic\", \"login\": 24}, {\"org\": \"jupyter\", \"repo\": \"governance\", \"login\": 14}, {\"org\": \"jupyter\", \"repo\": \"jupyter\", \"login\": 12}, {\"org\": \"jupyter\", \"repo\": \"jupyter_core\", \"login\": 11}, {\"org\": \"jupyter\", \"repo\": \"jupyter.github.io\", \"login\": 10}, {\"org\": \"jupyter\", \"repo\": \"security\", \"login\": 5}, {\"org\": \"jupyter\", \"repo\": \"cookiecutter-docker-stacks\", \"login\": 4}, {\"org\": \"jupyter\", \"repo\": \"nbgrader\", \"login\": 4}, {\"org\": \"jupyter\", \"repo\": \"try-jupyter\", \"login\": 2}, {\"org\": \"jupyter\", \"repo\": \"enhancement-proposals\", \"login\": 1}, {\"org\": \"jupyter\", \"repo\": \"jupyter_client\", \"login\": 1}, {\"org\": \"jupyter\", \"repo\": \"jupyter_events\", \"login\": 1}, {\"org\": \"jupyter\", \"repo\": \"kernels-team-compass\", \"login\": 1}, {\"org\": \"jupyter\", \"repo\": \"nbviewer\", \"login\": 1}, {\"org\": \"jupyter\", \"repo\": \"notebook_shim\", \"login\": 1}, {\"org\": \"jupyter\", \"repo\": \"testpath\", \"login\": 1}]}}, {\"mode\": \"vega-lite\"});\n",
       "</script>"
      ],
      "text/plain": [
       "alt.Chart(...)"
      ]
     },
     "execution_count": 11,
     "metadata": {},
     "output_type": "execute_result"
    }
   ],
   "source": [
    "prs_by_repo = merged.groupby(['org', 'repo']).count()['login'].reset_index().sort_values(['org', 'login'], ascending=False)\n",
    "alt.Chart(data=prs_by_repo, title=f\"Merged PRs in the last {n_days} days\").mark_bar().encode(\n",
    "    x=alt.X('repo', sort=prs_by_repo['repo'].values.tolist()),\n",
    "    y='login',\n",
    "    color='org'\n",
    ")"
   ]
  },
  {
   "cell_type": "markdown",
   "id": "51cf15e7",
   "metadata": {
    "editable": true,
    "papermill": {
     "duration": 0.015578,
     "end_time": "2025-05-12T16:41:47.647404",
     "exception": false,
     "start_time": "2025-05-12T16:41:47.631826",
     "status": "completed"
    },
    "slideshow": {
     "slide_type": ""
    },
    "tags": []
   },
   "source": [
    "### Authoring and merging stats by repository\n",
    "\n",
    "Let's see who has been doing most of the PR authoring and merging. The PR author is generally the\n",
    "person that implemented a change in the repository (code, documentation, etc). The PR merger is\n",
    "the person that \"pressed the green button\" and got the change into the main codebase."
   ]
  },
  {
   "cell_type": "code",
   "execution_count": 12,
   "id": "bdfa813a",
   "metadata": {
    "editable": true,
    "execution": {
     "iopub.execute_input": "2025-05-12T16:41:47.678140Z",
     "iopub.status.busy": "2025-05-12T16:41:47.677702Z",
     "iopub.status.idle": "2025-05-12T16:41:47.688648Z",
     "shell.execute_reply": "2025-05-12T16:41:47.688094Z"
    },
    "papermill": {
     "duration": 0.027467,
     "end_time": "2025-05-12T16:41:47.689677",
     "exception": false,
     "start_time": "2025-05-12T16:41:47.662210",
     "status": "completed"
    },
    "slideshow": {
     "slide_type": ""
    },
    "tags": [
     "remove_cell"
    ]
   },
   "outputs": [],
   "source": [
    "# Prep our merging DF\n",
    "merged_by_repo = merged.groupby(['repo', 'login'], as_index=False).agg({'id': 'count', 'author_association': 'first'}).rename(columns={'id': \"authored\", 'login': 'username'})\n",
    "closed_by_repo = merged.groupby(['name', 'merged_by']).count()['id_issue'].reset_index().rename(columns={'id_issue': \"closed\", \"merged_by\": \"username\"})"
   ]
  },
  {
   "cell_type": "code",
   "execution_count": 13,
   "id": "498978e4",
   "metadata": {
    "editable": true,
    "execution": {
     "iopub.execute_input": "2025-05-12T16:41:47.720528Z",
     "iopub.status.busy": "2025-05-12T16:41:47.720257Z",
     "iopub.status.idle": "2025-05-12T16:41:47.743906Z",
     "shell.execute_reply": "2025-05-12T16:41:47.743247Z"
    },
    "papermill": {
     "duration": 0.040427,
     "end_time": "2025-05-12T16:41:47.745054",
     "exception": false,
     "start_time": "2025-05-12T16:41:47.704627",
     "status": "completed"
    },
    "slideshow": {
     "slide_type": ""
    },
    "tags": [
     "hide_input"
    ]
   },
   "outputs": [
    {
     "data": {
      "text/html": [
       "\n",
       "<style>\n",
       "  #altair-viz-93951c5fd2874d87a52fc48e407d07bb.vega-embed {\n",
       "    width: 100%;\n",
       "    display: flex;\n",
       "  }\n",
       "\n",
       "  #altair-viz-93951c5fd2874d87a52fc48e407d07bb.vega-embed details,\n",
       "  #altair-viz-93951c5fd2874d87a52fc48e407d07bb.vega-embed details summary {\n",
       "    position: relative;\n",
       "  }\n",
       "</style>\n",
       "<div id=\"altair-viz-93951c5fd2874d87a52fc48e407d07bb\"></div>\n",
       "<script type=\"text/javascript\">\n",
       "  var VEGA_DEBUG = (typeof VEGA_DEBUG == \"undefined\") ? {} : VEGA_DEBUG;\n",
       "  (function(spec, embedOpt){\n",
       "    let outputDiv = document.currentScript.previousElementSibling;\n",
       "    if (outputDiv.id !== \"altair-viz-93951c5fd2874d87a52fc48e407d07bb\") {\n",
       "      outputDiv = document.getElementById(\"altair-viz-93951c5fd2874d87a52fc48e407d07bb\");\n",
       "    }\n",
       "\n",
       "    const paths = {\n",
       "      \"vega\": \"https://cdn.jsdelivr.net/npm/vega@5?noext\",\n",
       "      \"vega-lib\": \"https://cdn.jsdelivr.net/npm/vega-lib?noext\",\n",
       "      \"vega-lite\": \"https://cdn.jsdelivr.net/npm/vega-lite@5.20.1?noext\",\n",
       "      \"vega-embed\": \"https://cdn.jsdelivr.net/npm/vega-embed@6?noext\",\n",
       "    };\n",
       "\n",
       "    function maybeLoadScript(lib, version) {\n",
       "      var key = `${lib.replace(\"-\", \"\")}_version`;\n",
       "      return (VEGA_DEBUG[key] == version) ?\n",
       "        Promise.resolve(paths[lib]) :\n",
       "        new Promise(function(resolve, reject) {\n",
       "          var s = document.createElement('script');\n",
       "          document.getElementsByTagName(\"head\")[0].appendChild(s);\n",
       "          s.async = true;\n",
       "          s.onload = () => {\n",
       "            VEGA_DEBUG[key] = version;\n",
       "            return resolve(paths[lib]);\n",
       "          };\n",
       "          s.onerror = () => reject(`Error loading script: ${paths[lib]}`);\n",
       "          s.src = paths[lib];\n",
       "        });\n",
       "    }\n",
       "\n",
       "    function showError(err) {\n",
       "      outputDiv.innerHTML = `<div class=\"error\" style=\"color:red;\">${err}</div>`;\n",
       "      throw err;\n",
       "    }\n",
       "\n",
       "    function displayChart(vegaEmbed) {\n",
       "      vegaEmbed(outputDiv, spec, embedOpt)\n",
       "        .catch(err => showError(`Javascript Error: ${err.message}<br>This usually means there's a typo in your chart specification. See the javascript console for the full traceback.`));\n",
       "    }\n",
       "\n",
       "    if(typeof define === \"function\" && define.amd) {\n",
       "      requirejs.config({paths});\n",
       "      let deps = [\"vega-embed\"];\n",
       "      require(deps, displayChart, err => showError(`Error loading script: ${err.message}`));\n",
       "    } else {\n",
       "      maybeLoadScript(\"vega\", \"5\")\n",
       "        .then(() => maybeLoadScript(\"vega-lite\", \"5.20.1\"))\n",
       "        .then(() => maybeLoadScript(\"vega-embed\", \"6\"))\n",
       "        .catch(showError)\n",
       "        .then(() => displayChart(vegaEmbed));\n",
       "    }\n",
       "  })({\"config\": {\"axisLeft\": {\"labelFontSize\": 15}, \"axisBottom\": {\"labelFontSize\": 15}}, \"data\": {\"name\": \"data-95a65bc2f94e4c436de116d407251d75\"}, \"mark\": {\"type\": \"bar\"}, \"encoding\": {\"color\": {\"field\": \"author_association\", \"scale\": {\"domain\": [\"MEMBER\", \"CONTRIBUTOR\", \"COLLABORATOR\", \"NONE\"], \"range\": [\"rgb(211.82745098039214, 211.82745098039214, 211.82745098039214)\", \"rgb(166.98562091503268, 229.89803921568628, 166.98562091503268)\", \"rgb(96.37647058823529, 192.75294117647059, 96.37647058823529)\", \"rgb(0.0, 100.3921568627451, 0.0)\"]}, \"type\": \"nominal\"}, \"x\": {\"field\": \"username\", \"type\": \"nominal\"}, \"y\": {\"field\": \"authored\", \"type\": \"quantitative\"}}, \"title\": \"PR authors for jupyter in the last 90 days\", \"$schema\": \"https://vega.github.io/schema/vega-lite/v5.20.1.json\", \"datasets\": {\"data-95a65bc2f94e4c436de116d407251d75\": [{\"username\": \"mathbunnyru\", \"authored\": 69, \"author_association\": \"MEMBER\"}, {\"username\": \"jtpio\", \"authored\": 23, \"author_association\": \"MEMBER\"}, {\"username\": \"dependabot[bot]\", \"authored\": 18, \"author_association\": \"CONTRIBUTOR\"}, {\"username\": \"danyeaw\", \"authored\": 16, \"author_association\": \"MEMBER\"}, {\"username\": \"Carreau\", \"authored\": 14, \"author_association\": \"MEMBER\"}, {\"username\": \"choldgraf\", \"authored\": 9, \"author_association\": \"MEMBER\"}, {\"username\": \"pre-commit-ci[bot]\", \"authored\": 7, \"author_association\": \"CONTRIBUTOR\"}, {\"username\": \"RRosio\", \"authored\": 6, \"author_association\": \"MEMBER\"}, {\"username\": \"derekrgreene\", \"authored\": 5, \"author_association\": \"CONTRIBUTOR\"}, {\"username\": \"jasongrout\", \"authored\": 4, \"author_association\": \"MEMBER\"}, {\"username\": \"minrk\", \"authored\": 4, \"author_association\": \"MEMBER\"}, {\"username\": \"ivanov\", \"authored\": 3, \"author_association\": \"MEMBER\"}, {\"username\": \"shreve\", \"authored\": 3, \"author_association\": \"CONTRIBUTOR\"}, {\"username\": \"krassowski\", \"authored\": 3, \"author_association\": \"MEMBER\"}, {\"username\": \"BoomchainLabs\", \"authored\": 2, \"author_association\": \"NONE\"}, {\"username\": \"SylvainCorlay\", \"authored\": 2, \"author_association\": \"MEMBER\"}, {\"username\": \"jjerphan\", \"authored\": 2, \"author_association\": \"CONTRIBUTOR\"}, {\"username\": \"meeseeksmachine\", \"authored\": 2, \"author_association\": \"NONE\"}, {\"username\": \"honnix\", \"authored\": 2, \"author_association\": \"CONTRIBUTOR\"}, {\"username\": \"Emmaedler2005\", \"authored\": 1, \"author_association\": \"FIRST_TIMER\"}, {\"username\": \"Zsailer\", \"authored\": 1, \"author_association\": \"MEMBER\"}, {\"username\": \"NiklasJordan\", \"authored\": 1, \"author_association\": \"CONTRIBUTOR\"}, {\"username\": \"Diyatuli04\", \"authored\": 1, \"author_association\": \"FIRST_TIMER\"}, {\"username\": \"craigwllce\", \"authored\": 1, \"author_association\": \"NONE\"}, {\"username\": \"jabbera\", \"authored\": 1, \"author_association\": \"NONE\"}, {\"username\": \"fbnrst\", \"authored\": 1, \"author_association\": \"CONTRIBUTOR\"}, {\"username\": \"github-actions[bot]\", \"authored\": 1, \"author_association\": \"CONTRIBUTOR\"}, {\"username\": \"honeyreddy30\", \"authored\": 1, \"author_association\": \"FIRST_TIMER\"}, {\"username\": \"consideRatio\", \"authored\": 1, \"author_association\": \"MEMBER\"}, {\"username\": \"cailiang9\", \"authored\": 1, \"author_association\": \"CONTRIBUTOR\"}, {\"username\": \"andrewfulton9\", \"authored\": 1, \"author_association\": \"CONTRIBUTOR\"}, {\"username\": \"marthacryan\", \"authored\": 1, \"author_association\": \"MEMBER\"}, {\"username\": \"mgorny\", \"authored\": 1, \"author_association\": \"CONTRIBUTOR\"}, {\"username\": \"matthew-brett\", \"authored\": 1, \"author_association\": \"NONE\"}, {\"username\": \"manics\", \"authored\": 1, \"author_association\": \"CONTRIBUTOR\"}, {\"username\": \"mnp\", \"authored\": 1, \"author_association\": \"CONTRIBUTOR\"}, {\"username\": \"rpwagner\", \"authored\": 1, \"author_association\": \"MEMBER\"}, {\"username\": \"sagelywizard\", \"authored\": 1, \"author_association\": \"CONTRIBUTOR\"}, {\"username\": \"sebwills\", \"authored\": 1, \"author_association\": \"CONTRIBUTOR\"}, {\"username\": \"twalcari\", \"authored\": 1, \"author_association\": \"CONTRIBUTOR\"}]}}, {\"mode\": \"vega-lite\"});\n",
       "</script>"
      ],
      "text/plain": [
       "alt.Chart(...)"
      ]
     },
     "execution_count": 13,
     "metadata": {},
     "output_type": "execute_result"
    }
   ],
   "source": [
    "charts = []\n",
    "title = f\"PR authors for {github_org} in the last {n_days} days\"\n",
    "this_data = merged_by_repo.replace(np.nan, 0).groupby('username', as_index=False).agg({'authored': 'sum', 'author_association': 'first'})\n",
    "this_data = this_data.sort_values('authored', ascending=False)\n",
    "ch = alt.Chart(data=this_data, title=title).mark_bar().encode(\n",
    "    x='username',\n",
    "    y='authored',\n",
    "    color=alt.Color('author_association', scale=alt.Scale(domain=author_types, range=author_colors))\n",
    ")\n",
    "ch"
   ]
  },
  {
   "cell_type": "code",
   "execution_count": 14,
   "id": "c3e83dab",
   "metadata": {
    "editable": true,
    "execution": {
     "iopub.execute_input": "2025-05-12T16:41:47.779013Z",
     "iopub.status.busy": "2025-05-12T16:41:47.778517Z",
     "iopub.status.idle": "2025-05-12T16:41:47.798417Z",
     "shell.execute_reply": "2025-05-12T16:41:47.797698Z"
    },
    "papermill": {
     "duration": 0.038194,
     "end_time": "2025-05-12T16:41:47.799459",
     "exception": false,
     "start_time": "2025-05-12T16:41:47.761265",
     "status": "completed"
    },
    "slideshow": {
     "slide_type": ""
    },
    "tags": [
     "hide_input"
    ]
   },
   "outputs": [
    {
     "data": {
      "text/html": [
       "\n",
       "<style>\n",
       "  #altair-viz-d716227269924a48b4d5494bb0a94ae9.vega-embed {\n",
       "    width: 100%;\n",
       "    display: flex;\n",
       "  }\n",
       "\n",
       "  #altair-viz-d716227269924a48b4d5494bb0a94ae9.vega-embed details,\n",
       "  #altair-viz-d716227269924a48b4d5494bb0a94ae9.vega-embed details summary {\n",
       "    position: relative;\n",
       "  }\n",
       "</style>\n",
       "<div id=\"altair-viz-d716227269924a48b4d5494bb0a94ae9\"></div>\n",
       "<script type=\"text/javascript\">\n",
       "  var VEGA_DEBUG = (typeof VEGA_DEBUG == \"undefined\") ? {} : VEGA_DEBUG;\n",
       "  (function(spec, embedOpt){\n",
       "    let outputDiv = document.currentScript.previousElementSibling;\n",
       "    if (outputDiv.id !== \"altair-viz-d716227269924a48b4d5494bb0a94ae9\") {\n",
       "      outputDiv = document.getElementById(\"altair-viz-d716227269924a48b4d5494bb0a94ae9\");\n",
       "    }\n",
       "\n",
       "    const paths = {\n",
       "      \"vega\": \"https://cdn.jsdelivr.net/npm/vega@5?noext\",\n",
       "      \"vega-lib\": \"https://cdn.jsdelivr.net/npm/vega-lib?noext\",\n",
       "      \"vega-lite\": \"https://cdn.jsdelivr.net/npm/vega-lite@5.20.1?noext\",\n",
       "      \"vega-embed\": \"https://cdn.jsdelivr.net/npm/vega-embed@6?noext\",\n",
       "    };\n",
       "\n",
       "    function maybeLoadScript(lib, version) {\n",
       "      var key = `${lib.replace(\"-\", \"\")}_version`;\n",
       "      return (VEGA_DEBUG[key] == version) ?\n",
       "        Promise.resolve(paths[lib]) :\n",
       "        new Promise(function(resolve, reject) {\n",
       "          var s = document.createElement('script');\n",
       "          document.getElementsByTagName(\"head\")[0].appendChild(s);\n",
       "          s.async = true;\n",
       "          s.onload = () => {\n",
       "            VEGA_DEBUG[key] = version;\n",
       "            return resolve(paths[lib]);\n",
       "          };\n",
       "          s.onerror = () => reject(`Error loading script: ${paths[lib]}`);\n",
       "          s.src = paths[lib];\n",
       "        });\n",
       "    }\n",
       "\n",
       "    function showError(err) {\n",
       "      outputDiv.innerHTML = `<div class=\"error\" style=\"color:red;\">${err}</div>`;\n",
       "      throw err;\n",
       "    }\n",
       "\n",
       "    function displayChart(vegaEmbed) {\n",
       "      vegaEmbed(outputDiv, spec, embedOpt)\n",
       "        .catch(err => showError(`Javascript Error: ${err.message}<br>This usually means there's a typo in your chart specification. See the javascript console for the full traceback.`));\n",
       "    }\n",
       "\n",
       "    if(typeof define === \"function\" && define.amd) {\n",
       "      requirejs.config({paths});\n",
       "      let deps = [\"vega-embed\"];\n",
       "      require(deps, displayChart, err => showError(`Error loading script: ${err.message}`));\n",
       "    } else {\n",
       "      maybeLoadScript(\"vega\", \"5\")\n",
       "        .then(() => maybeLoadScript(\"vega-lite\", \"5.20.1\"))\n",
       "        .then(() => maybeLoadScript(\"vega-embed\", \"6\"))\n",
       "        .catch(showError)\n",
       "        .then(() => displayChart(vegaEmbed));\n",
       "    }\n",
       "  })({\"config\": {\"axisLeft\": {\"labelFontSize\": 15}, \"axisBottom\": {\"labelFontSize\": 15}}, \"data\": {\"name\": \"data-011415090cda5b4237c0ae9ea71c8682\"}, \"mark\": {\"type\": \"bar\"}, \"encoding\": {\"x\": {\"field\": \"username\", \"type\": \"nominal\"}, \"y\": {\"field\": \"closed\", \"type\": \"quantitative\"}}, \"title\": \"Users that have merged PRs for jupyter in the last 90 days\", \"$schema\": \"https://vega.github.io/schema/vega-lite/v5.20.1.json\", \"datasets\": {\"data-011415090cda5b4237c0ae9ea71c8682\": [{\"name\": \"cookiecutter-docker-stacks\", \"username\": \"mathbunnyru\", \"closed\": 4}, {\"name\": \"docker-stacks\", \"username\": \"jjerphan\", \"closed\": 1}, {\"name\": \"docker-stacks\", \"username\": \"manics\", \"closed\": 1}, {\"name\": \"docker-stacks\", \"username\": \"mathbunnyru\", \"closed\": 80}, {\"name\": \"enhancement-proposals\", \"username\": \"Zsailer\", \"closed\": 1}, {\"name\": \"governance\", \"username\": \"SylvainCorlay\", \"closed\": 1}, {\"name\": \"governance\", \"username\": \"Zsailer\", \"closed\": 1}, {\"name\": \"governance\", \"username\": \"choldgraf\", \"closed\": 9}, {\"name\": \"governance\", \"username\": \"jasongrout\", \"closed\": 2}, {\"name\": \"governance\", \"username\": \"krassowski\", \"closed\": 1}, {\"name\": \"jupyter\", \"username\": \"choldgraf\", \"closed\": 3}, {\"name\": \"jupyter\", \"username\": \"derekrgreene\", \"closed\": 2}, {\"name\": \"jupyter\", \"username\": \"ivanov\", \"closed\": 6}, {\"name\": \"jupyter\", \"username\": \"jtpio\", \"closed\": 1}, {\"name\": \"jupyter.github.io\", \"username\": \"Ruv7\", \"closed\": 2}, {\"name\": \"jupyter.github.io\", \"username\": \"afshin\", \"closed\": 1}, {\"name\": \"jupyter.github.io\", \"username\": \"choldgraf\", \"closed\": 2}, {\"name\": \"jupyter.github.io\", \"username\": \"krassowski\", \"closed\": 4}, {\"name\": \"jupyter.github.io\", \"username\": \"rpwagner\", \"closed\": 1}, {\"name\": \"jupyter_client\", \"username\": \"minrk\", \"closed\": 1}, {\"name\": \"jupyter_core\", \"username\": \"Carreau\", \"closed\": 6}, {\"name\": \"jupyter_core\", \"username\": \"minrk\", \"closed\": 5}, {\"name\": \"jupyter_events\", \"username\": \"Carreau\", \"closed\": 1}, {\"name\": \"kernels-team-compass\", \"username\": \"Zsailer\", \"closed\": 1}, {\"name\": \"nbclassic\", \"username\": \"RRosio\", \"closed\": 21}, {\"name\": \"nbclassic\", \"username\": \"danyeaw\", \"closed\": 2}, {\"name\": \"nbclassic\", \"username\": \"matthew-brett\", \"closed\": 1}, {\"name\": \"nbgrader\", \"username\": \"brichet\", \"closed\": 4}, {\"name\": \"nbviewer\", \"username\": \"bollwyvl\", \"closed\": 1}, {\"name\": \"notebook\", \"username\": \"honeyreddy30\", \"closed\": 1}, {\"name\": \"notebook\", \"username\": \"jtpio\", \"closed\": 37}, {\"name\": \"notebook\", \"username\": \"krassowski\", \"closed\": 2}, {\"name\": \"notebook_shim\", \"username\": \"Carreau\", \"closed\": 1}, {\"name\": \"security\", \"username\": \"Carreau\", \"closed\": 4}, {\"name\": \"security\", \"username\": \"rpwagner\", \"closed\": 1}, {\"name\": \"testpath\", \"username\": \"Carreau\", \"closed\": 1}, {\"name\": \"try-jupyter\", \"username\": \"jtpio\", \"closed\": 2}]}}, {\"mode\": \"vega-lite\"});\n",
       "</script>"
      ],
      "text/plain": [
       "alt.Chart(...)"
      ]
     },
     "execution_count": 14,
     "metadata": {},
     "output_type": "execute_result"
    }
   ],
   "source": [
    "charts = []\n",
    "title = f\"Users that have merged PRs for {github_org} in the last {n_days} days\"\n",
    "ch = alt.Chart(data=closed_by_repo.replace(np.nan, 0), title=title).mark_bar().encode(\n",
    "    x='username',\n",
    "    y='closed',\n",
    ")\n",
    "ch"
   ]
  },
  {
   "cell_type": "markdown",
   "id": "a70f9c35",
   "metadata": {
    "editable": true,
    "papermill": {
     "duration": 0.015399,
     "end_time": "2025-05-12T16:41:47.830422",
     "exception": false,
     "start_time": "2025-05-12T16:41:47.815023",
     "status": "completed"
    },
    "slideshow": {
     "slide_type": ""
    },
    "tags": []
   },
   "source": [
    "## Issues\n",
    "\n",
    "Issues are **conversations** that happen on our GitHub repositories. Here's an\n",
    "analysis of issues across the Jupyter organizations."
   ]
  },
  {
   "cell_type": "code",
   "execution_count": 15,
   "id": "39c8cce2",
   "metadata": {
    "editable": true,
    "execution": {
     "iopub.execute_input": "2025-05-12T16:41:47.862583Z",
     "iopub.status.busy": "2025-05-12T16:41:47.861946Z",
     "iopub.status.idle": "2025-05-12T16:41:47.883108Z",
     "shell.execute_reply": "2025-05-12T16:41:47.882378Z"
    },
    "papermill": {
     "duration": 0.038761,
     "end_time": "2025-05-12T16:41:47.884421",
     "exception": false,
     "start_time": "2025-05-12T16:41:47.845660",
     "status": "completed"
    },
    "slideshow": {
     "slide_type": ""
    },
    "tags": [
     "remove_cell"
    ]
   },
   "outputs": [],
   "source": [
    "created = issues.query('state == \"open\" and created_at > @start_date and created_at < @stop_date')\n",
    "closed = issues.query('state == \"closed\" and closed_at > @start_date and closed_at < @stop_date')"
   ]
  },
  {
   "cell_type": "code",
   "execution_count": 16,
   "id": "980c44c6",
   "metadata": {
    "editable": true,
    "execution": {
     "iopub.execute_input": "2025-05-12T16:41:47.918341Z",
     "iopub.status.busy": "2025-05-12T16:41:47.917883Z",
     "iopub.status.idle": "2025-05-12T16:41:47.941831Z",
     "shell.execute_reply": "2025-05-12T16:41:47.941251Z"
    },
    "papermill": {
     "duration": 0.042218,
     "end_time": "2025-05-12T16:41:47.942838",
     "exception": false,
     "start_time": "2025-05-12T16:41:47.900620",
     "status": "completed"
    },
    "slideshow": {
     "slide_type": ""
    },
    "tags": [
     "hide_input"
    ]
   },
   "outputs": [
    {
     "data": {
      "text/html": [
       "\n",
       "<style>\n",
       "  #altair-viz-a007f43d8d2746a39fe6fc256c8af98e.vega-embed {\n",
       "    width: 100%;\n",
       "    display: flex;\n",
       "  }\n",
       "\n",
       "  #altair-viz-a007f43d8d2746a39fe6fc256c8af98e.vega-embed details,\n",
       "  #altair-viz-a007f43d8d2746a39fe6fc256c8af98e.vega-embed details summary {\n",
       "    position: relative;\n",
       "  }\n",
       "</style>\n",
       "<div id=\"altair-viz-a007f43d8d2746a39fe6fc256c8af98e\"></div>\n",
       "<script type=\"text/javascript\">\n",
       "  var VEGA_DEBUG = (typeof VEGA_DEBUG == \"undefined\") ? {} : VEGA_DEBUG;\n",
       "  (function(spec, embedOpt){\n",
       "    let outputDiv = document.currentScript.previousElementSibling;\n",
       "    if (outputDiv.id !== \"altair-viz-a007f43d8d2746a39fe6fc256c8af98e\") {\n",
       "      outputDiv = document.getElementById(\"altair-viz-a007f43d8d2746a39fe6fc256c8af98e\");\n",
       "    }\n",
       "\n",
       "    const paths = {\n",
       "      \"vega\": \"https://cdn.jsdelivr.net/npm/vega@5?noext\",\n",
       "      \"vega-lib\": \"https://cdn.jsdelivr.net/npm/vega-lib?noext\",\n",
       "      \"vega-lite\": \"https://cdn.jsdelivr.net/npm/vega-lite@5.20.1?noext\",\n",
       "      \"vega-embed\": \"https://cdn.jsdelivr.net/npm/vega-embed@6?noext\",\n",
       "    };\n",
       "\n",
       "    function maybeLoadScript(lib, version) {\n",
       "      var key = `${lib.replace(\"-\", \"\")}_version`;\n",
       "      return (VEGA_DEBUG[key] == version) ?\n",
       "        Promise.resolve(paths[lib]) :\n",
       "        new Promise(function(resolve, reject) {\n",
       "          var s = document.createElement('script');\n",
       "          document.getElementsByTagName(\"head\")[0].appendChild(s);\n",
       "          s.async = true;\n",
       "          s.onload = () => {\n",
       "            VEGA_DEBUG[key] = version;\n",
       "            return resolve(paths[lib]);\n",
       "          };\n",
       "          s.onerror = () => reject(`Error loading script: ${paths[lib]}`);\n",
       "          s.src = paths[lib];\n",
       "        });\n",
       "    }\n",
       "\n",
       "    function showError(err) {\n",
       "      outputDiv.innerHTML = `<div class=\"error\" style=\"color:red;\">${err}</div>`;\n",
       "      throw err;\n",
       "    }\n",
       "\n",
       "    function displayChart(vegaEmbed) {\n",
       "      vegaEmbed(outputDiv, spec, embedOpt)\n",
       "        .catch(err => showError(`Javascript Error: ${err.message}<br>This usually means there's a typo in your chart specification. See the javascript console for the full traceback.`));\n",
       "    }\n",
       "\n",
       "    if(typeof define === \"function\" && define.amd) {\n",
       "      requirejs.config({paths});\n",
       "      let deps = [\"vega-embed\"];\n",
       "      require(deps, displayChart, err => showError(`Error loading script: ${err.message}`));\n",
       "    } else {\n",
       "      maybeLoadScript(\"vega\", \"5\")\n",
       "        .then(() => maybeLoadScript(\"vega-lite\", \"5.20.1\"))\n",
       "        .then(() => maybeLoadScript(\"vega-embed\", \"6\"))\n",
       "        .catch(showError)\n",
       "        .then(() => displayChart(vegaEmbed));\n",
       "    }\n",
       "  })({\"config\": {\"axisLeft\": {\"labelFontSize\": 15}, \"axisBottom\": {\"labelFontSize\": 15}}, \"data\": {\"name\": \"data-ae5890802608ced89281ef27a78168cf\"}, \"mark\": {\"type\": \"bar\"}, \"encoding\": {\"x\": {\"field\": \"repo\", \"sort\": [\"security\", \"nbconvert\", \"governance\", \"nbgrader\", \"notebook\", \"jupyter_core\", \"jupyter.github.io\", \"nbclient\", \"nbdime\", \"docker-stacks\", \"docs-team-compass\", \"jupyter_client\", \"terminado\", \"atom-notebook\", \"jupyter_console\", \"jupyter_events\", \"nbclassic\", \"nbviewer\"], \"type\": \"nominal\"}, \"y\": {\"field\": \"number\", \"type\": \"quantitative\"}}, \"title\": \"Issues created in the last 90 days\", \"$schema\": \"https://vega.github.io/schema/vega-lite/v5.20.1.json\", \"datasets\": {\"data-ae5890802608ced89281ef27a78168cf\": [{\"org\": \"jupyter\", \"repo\": \"atom-notebook\", \"number\": 1, \"org/repo\": \"jupyter/atom-notebook\"}, {\"org\": \"jupyter\", \"repo\": \"docker-stacks\", \"number\": 2, \"org/repo\": \"jupyter/docker-stacks\"}, {\"org\": \"jupyter\", \"repo\": \"docs-team-compass\", \"number\": 2, \"org/repo\": \"jupyter/docs-team-compass\"}, {\"org\": \"jupyter\", \"repo\": \"governance\", \"number\": 6, \"org/repo\": \"jupyter/governance\"}, {\"org\": \"jupyter\", \"repo\": \"jupyter.github.io\", \"number\": 3, \"org/repo\": \"jupyter/jupyter.github.io\"}, {\"org\": \"jupyter\", \"repo\": \"jupyter_client\", \"number\": 2, \"org/repo\": \"jupyter/jupyter_client\"}, {\"org\": \"jupyter\", \"repo\": \"jupyter_console\", \"number\": 1, \"org/repo\": \"jupyter/jupyter_console\"}, {\"org\": \"jupyter\", \"repo\": \"jupyter_core\", \"number\": 4, \"org/repo\": \"jupyter/jupyter_core\"}, {\"org\": \"jupyter\", \"repo\": \"jupyter_events\", \"number\": 1, \"org/repo\": \"jupyter/jupyter_events\"}, {\"org\": \"jupyter\", \"repo\": \"nbclassic\", \"number\": 1, \"org/repo\": \"jupyter/nbclassic\"}, {\"org\": \"jupyter\", \"repo\": \"nbclient\", \"number\": 3, \"org/repo\": \"jupyter/nbclient\"}, {\"org\": \"jupyter\", \"repo\": \"nbconvert\", \"number\": 7, \"org/repo\": \"jupyter/nbconvert\"}, {\"org\": \"jupyter\", \"repo\": \"nbdime\", \"number\": 3, \"org/repo\": \"jupyter/nbdime\"}, {\"org\": \"jupyter\", \"repo\": \"nbgrader\", \"number\": 6, \"org/repo\": \"jupyter/nbgrader\"}, {\"org\": \"jupyter\", \"repo\": \"nbviewer\", \"number\": 1, \"org/repo\": \"jupyter/nbviewer\"}, {\"org\": \"jupyter\", \"repo\": \"notebook\", \"number\": 5, \"org/repo\": \"jupyter/notebook\"}, {\"org\": \"jupyter\", \"repo\": \"security\", \"number\": 14, \"org/repo\": \"jupyter/security\"}, {\"org\": \"jupyter\", \"repo\": \"terminado\", \"number\": 2, \"org/repo\": \"jupyter/terminado\"}]}}, {\"mode\": \"vega-lite\"});\n",
       "</script>"
      ],
      "text/plain": [
       "alt.Chart(...)"
      ]
     },
     "execution_count": 16,
     "metadata": {},
     "output_type": "execute_result"
    }
   ],
   "source": [
    "created_counts = created.groupby(['org', 'repo']).count()['number'].reset_index()\n",
    "created_counts['org/repo'] = created_counts.apply(lambda a: a['org'] + '/' + a['repo'], axis=1)\n",
    "sorted_vals = created_counts.sort_values(['org', 'number'], ascending=False)['repo'].values\n",
    "alt.Chart(data=created_counts, title=f\"Issues created in the last {n_days} days\").mark_bar().encode(\n",
    "    x=alt.X('repo', sort=alt.Sort(sorted_vals.tolist())),\n",
    "    y='number',\n",
    ")"
   ]
  },
  {
   "cell_type": "code",
   "execution_count": 17,
   "id": "4e07f30e",
   "metadata": {
    "editable": true,
    "execution": {
     "iopub.execute_input": "2025-05-12T16:41:47.974943Z",
     "iopub.status.busy": "2025-05-12T16:41:47.974573Z",
     "iopub.status.idle": "2025-05-12T16:41:47.996947Z",
     "shell.execute_reply": "2025-05-12T16:41:47.996259Z"
    },
    "papermill": {
     "duration": 0.039596,
     "end_time": "2025-05-12T16:41:47.998124",
     "exception": false,
     "start_time": "2025-05-12T16:41:47.958528",
     "status": "completed"
    },
    "slideshow": {
     "slide_type": ""
    },
    "tags": [
     "hide_input"
    ]
   },
   "outputs": [
    {
     "data": {
      "text/html": [
       "\n",
       "<style>\n",
       "  #altair-viz-80baf54702f9464cbc5f7398e1e95f79.vega-embed {\n",
       "    width: 100%;\n",
       "    display: flex;\n",
       "  }\n",
       "\n",
       "  #altair-viz-80baf54702f9464cbc5f7398e1e95f79.vega-embed details,\n",
       "  #altair-viz-80baf54702f9464cbc5f7398e1e95f79.vega-embed details summary {\n",
       "    position: relative;\n",
       "  }\n",
       "</style>\n",
       "<div id=\"altair-viz-80baf54702f9464cbc5f7398e1e95f79\"></div>\n",
       "<script type=\"text/javascript\">\n",
       "  var VEGA_DEBUG = (typeof VEGA_DEBUG == \"undefined\") ? {} : VEGA_DEBUG;\n",
       "  (function(spec, embedOpt){\n",
       "    let outputDiv = document.currentScript.previousElementSibling;\n",
       "    if (outputDiv.id !== \"altair-viz-80baf54702f9464cbc5f7398e1e95f79\") {\n",
       "      outputDiv = document.getElementById(\"altair-viz-80baf54702f9464cbc5f7398e1e95f79\");\n",
       "    }\n",
       "\n",
       "    const paths = {\n",
       "      \"vega\": \"https://cdn.jsdelivr.net/npm/vega@5?noext\",\n",
       "      \"vega-lib\": \"https://cdn.jsdelivr.net/npm/vega-lib?noext\",\n",
       "      \"vega-lite\": \"https://cdn.jsdelivr.net/npm/vega-lite@5.20.1?noext\",\n",
       "      \"vega-embed\": \"https://cdn.jsdelivr.net/npm/vega-embed@6?noext\",\n",
       "    };\n",
       "\n",
       "    function maybeLoadScript(lib, version) {\n",
       "      var key = `${lib.replace(\"-\", \"\")}_version`;\n",
       "      return (VEGA_DEBUG[key] == version) ?\n",
       "        Promise.resolve(paths[lib]) :\n",
       "        new Promise(function(resolve, reject) {\n",
       "          var s = document.createElement('script');\n",
       "          document.getElementsByTagName(\"head\")[0].appendChild(s);\n",
       "          s.async = true;\n",
       "          s.onload = () => {\n",
       "            VEGA_DEBUG[key] = version;\n",
       "            return resolve(paths[lib]);\n",
       "          };\n",
       "          s.onerror = () => reject(`Error loading script: ${paths[lib]}`);\n",
       "          s.src = paths[lib];\n",
       "        });\n",
       "    }\n",
       "\n",
       "    function showError(err) {\n",
       "      outputDiv.innerHTML = `<div class=\"error\" style=\"color:red;\">${err}</div>`;\n",
       "      throw err;\n",
       "    }\n",
       "\n",
       "    function displayChart(vegaEmbed) {\n",
       "      vegaEmbed(outputDiv, spec, embedOpt)\n",
       "        .catch(err => showError(`Javascript Error: ${err.message}<br>This usually means there's a typo in your chart specification. See the javascript console for the full traceback.`));\n",
       "    }\n",
       "\n",
       "    if(typeof define === \"function\" && define.amd) {\n",
       "      requirejs.config({paths});\n",
       "      let deps = [\"vega-embed\"];\n",
       "      require(deps, displayChart, err => showError(`Error loading script: ${err.message}`));\n",
       "    } else {\n",
       "      maybeLoadScript(\"vega\", \"5\")\n",
       "        .then(() => maybeLoadScript(\"vega-lite\", \"5.20.1\"))\n",
       "        .then(() => maybeLoadScript(\"vega-embed\", \"6\"))\n",
       "        .catch(showError)\n",
       "        .then(() => displayChart(vegaEmbed));\n",
       "    }\n",
       "  })({\"config\": {\"axisLeft\": {\"labelFontSize\": 15}, \"axisBottom\": {\"labelFontSize\": 15}}, \"data\": {\"name\": \"data-7a8022d9779aeef4934de28ac3d1bb36\"}, \"mark\": {\"type\": \"bar\"}, \"encoding\": {\"x\": {\"field\": \"repo\", \"sort\": [\"notebook\", \"docker-stacks\", \"nbclassic\", \"jupyter\", \"governance\", \"nbgrader\", \"security\", \"jupyter.github.io\", \"jupyter_core\", \"jupyter_console\", \"jupyter_client\", \"nbconvert\"], \"type\": \"nominal\"}, \"y\": {\"field\": \"number\", \"type\": \"quantitative\"}}, \"title\": \"Issues closed in the last 90 days\", \"$schema\": \"https://vega.github.io/schema/vega-lite/v5.20.1.json\", \"datasets\": {\"data-7a8022d9779aeef4934de28ac3d1bb36\": [{\"org\": \"jupyter\", \"repo\": \"docker-stacks\", \"number\": 10, \"org/repo\": \"jupyter/docker-stacks\"}, {\"org\": \"jupyter\", \"repo\": \"governance\", \"number\": 6, \"org/repo\": \"jupyter/governance\"}, {\"org\": \"jupyter\", \"repo\": \"jupyter\", \"number\": 8, \"org/repo\": \"jupyter/jupyter\"}, {\"org\": \"jupyter\", \"repo\": \"jupyter.github.io\", \"number\": 1, \"org/repo\": \"jupyter/jupyter.github.io\"}, {\"org\": \"jupyter\", \"repo\": \"jupyter_client\", \"number\": 1, \"org/repo\": \"jupyter/jupyter_client\"}, {\"org\": \"jupyter\", \"repo\": \"jupyter_console\", \"number\": 1, \"org/repo\": \"jupyter/jupyter_console\"}, {\"org\": \"jupyter\", \"repo\": \"jupyter_core\", \"number\": 1, \"org/repo\": \"jupyter/jupyter_core\"}, {\"org\": \"jupyter\", \"repo\": \"nbclassic\", \"number\": 9, \"org/repo\": \"jupyter/nbclassic\"}, {\"org\": \"jupyter\", \"repo\": \"nbconvert\", \"number\": 1, \"org/repo\": \"jupyter/nbconvert\"}, {\"org\": \"jupyter\", \"repo\": \"nbgrader\", \"number\": 4, \"org/repo\": \"jupyter/nbgrader\"}, {\"org\": \"jupyter\", \"repo\": \"notebook\", \"number\": 29, \"org/repo\": \"jupyter/notebook\"}, {\"org\": \"jupyter\", \"repo\": \"security\", \"number\": 2, \"org/repo\": \"jupyter/security\"}]}}, {\"mode\": \"vega-lite\"});\n",
       "</script>"
      ],
      "text/plain": [
       "alt.Chart(...)"
      ]
     },
     "execution_count": 17,
     "metadata": {},
     "output_type": "execute_result"
    }
   ],
   "source": [
    "closed_counts = closed.groupby(['org', 'repo']).count()['number'].reset_index()\n",
    "closed_counts['org/repo'] = closed_counts.apply(lambda a: a['org'] + '/' + a['repo'], axis=1)\n",
    "sorted_vals = closed_counts.sort_values(['number'], ascending=False)['repo'].values\n",
    "alt.Chart(data=closed_counts, title=f\"Issues closed in the last {n_days} days\").mark_bar().encode(\n",
    "    x=alt.X('repo', sort=alt.Sort(sorted_vals.tolist())),\n",
    "    y='number',\n",
    ")"
   ]
  },
  {
   "cell_type": "code",
   "execution_count": 18,
   "id": "40a259c4",
   "metadata": {
    "editable": true,
    "execution": {
     "iopub.execute_input": "2025-05-12T16:41:48.033276Z",
     "iopub.status.busy": "2025-05-12T16:41:48.032682Z",
     "iopub.status.idle": "2025-05-12T16:41:48.043842Z",
     "shell.execute_reply": "2025-05-12T16:41:48.043245Z"
    },
    "papermill": {
     "duration": 0.029847,
     "end_time": "2025-05-12T16:41:48.044876",
     "exception": false,
     "start_time": "2025-05-12T16:41:48.015029",
     "status": "completed"
    },
    "slideshow": {
     "slide_type": ""
    },
    "tags": [
     "remove_cell"
    ]
   },
   "outputs": [],
   "source": [
    "created_closed = pd.merge(created_counts.rename(columns={'number': 'created'}).drop(columns='org/repo'),\n",
    "                          closed_counts.rename(columns={'number': 'closed'}).drop(columns='org/repo'),\n",
    "                          on=['org', 'repo'], how='outer')\n",
    "\n",
    "created_closed = pd.melt(created_closed, id_vars=['org', 'repo'], var_name=\"kind\", value_name=\"count\").replace(np.nan, 0)"
   ]
  },
  {
   "cell_type": "code",
   "execution_count": 19,
   "id": "83eef987",
   "metadata": {
    "editable": true,
    "execution": {
     "iopub.execute_input": "2025-05-12T16:41:48.077752Z",
     "iopub.status.busy": "2025-05-12T16:41:48.077263Z",
     "iopub.status.idle": "2025-05-12T16:41:48.102228Z",
     "shell.execute_reply": "2025-05-12T16:41:48.101514Z"
    },
    "papermill": {
     "duration": 0.042671,
     "end_time": "2025-05-12T16:41:48.103314",
     "exception": false,
     "start_time": "2025-05-12T16:41:48.060643",
     "status": "completed"
    },
    "scrolled": true,
    "slideshow": {
     "slide_type": ""
    },
    "tags": [
     "hide_input"
    ]
   },
   "outputs": [
    {
     "data": {
      "text/html": [
       "\n",
       "<style>\n",
       "  #altair-viz-2132119a4951423a87d2142202cc8cc0.vega-embed {\n",
       "    width: 100%;\n",
       "    display: flex;\n",
       "  }\n",
       "\n",
       "  #altair-viz-2132119a4951423a87d2142202cc8cc0.vega-embed details,\n",
       "  #altair-viz-2132119a4951423a87d2142202cc8cc0.vega-embed details summary {\n",
       "    position: relative;\n",
       "  }\n",
       "</style>\n",
       "<div id=\"altair-viz-2132119a4951423a87d2142202cc8cc0\"></div>\n",
       "<script type=\"text/javascript\">\n",
       "  var VEGA_DEBUG = (typeof VEGA_DEBUG == \"undefined\") ? {} : VEGA_DEBUG;\n",
       "  (function(spec, embedOpt){\n",
       "    let outputDiv = document.currentScript.previousElementSibling;\n",
       "    if (outputDiv.id !== \"altair-viz-2132119a4951423a87d2142202cc8cc0\") {\n",
       "      outputDiv = document.getElementById(\"altair-viz-2132119a4951423a87d2142202cc8cc0\");\n",
       "    }\n",
       "\n",
       "    const paths = {\n",
       "      \"vega\": \"https://cdn.jsdelivr.net/npm/vega@5?noext\",\n",
       "      \"vega-lib\": \"https://cdn.jsdelivr.net/npm/vega-lib?noext\",\n",
       "      \"vega-lite\": \"https://cdn.jsdelivr.net/npm/vega-lite@5.20.1?noext\",\n",
       "      \"vega-embed\": \"https://cdn.jsdelivr.net/npm/vega-embed@6?noext\",\n",
       "    };\n",
       "\n",
       "    function maybeLoadScript(lib, version) {\n",
       "      var key = `${lib.replace(\"-\", \"\")}_version`;\n",
       "      return (VEGA_DEBUG[key] == version) ?\n",
       "        Promise.resolve(paths[lib]) :\n",
       "        new Promise(function(resolve, reject) {\n",
       "          var s = document.createElement('script');\n",
       "          document.getElementsByTagName(\"head\")[0].appendChild(s);\n",
       "          s.async = true;\n",
       "          s.onload = () => {\n",
       "            VEGA_DEBUG[key] = version;\n",
       "            return resolve(paths[lib]);\n",
       "          };\n",
       "          s.onerror = () => reject(`Error loading script: ${paths[lib]}`);\n",
       "          s.src = paths[lib];\n",
       "        });\n",
       "    }\n",
       "\n",
       "    function showError(err) {\n",
       "      outputDiv.innerHTML = `<div class=\"error\" style=\"color:red;\">${err}</div>`;\n",
       "      throw err;\n",
       "    }\n",
       "\n",
       "    function displayChart(vegaEmbed) {\n",
       "      vegaEmbed(outputDiv, spec, embedOpt)\n",
       "        .catch(err => showError(`Javascript Error: ${err.message}<br>This usually means there's a typo in your chart specification. See the javascript console for the full traceback.`));\n",
       "    }\n",
       "\n",
       "    if(typeof define === \"function\" && define.amd) {\n",
       "      requirejs.config({paths});\n",
       "      let deps = [\"vega-embed\"];\n",
       "      require(deps, displayChart, err => showError(`Error loading script: ${err.message}`));\n",
       "    } else {\n",
       "      maybeLoadScript(\"vega\", \"5\")\n",
       "        .then(() => maybeLoadScript(\"vega-lite\", \"5.20.1\"))\n",
       "        .then(() => maybeLoadScript(\"vega-embed\", \"6\"))\n",
       "        .catch(showError)\n",
       "        .then(() => displayChart(vegaEmbed));\n",
       "    }\n",
       "  })({\"config\": {\"axisLeft\": {\"labelFontSize\": 15}, \"axisBottom\": {\"labelFontSize\": 15}}, \"data\": {\"name\": \"data-df8b909d4f4e83b4ce99588b13319ebf\"}, \"mark\": {\"type\": \"bar\"}, \"encoding\": {\"color\": {\"field\": \"kind\", \"type\": \"nominal\"}, \"column\": {\"field\": \"repo\", \"header\": {\"labelFontSize\": 12, \"title\": \"Issue activity, last 90 days for jupyter\", \"titleFontSize\": 15}, \"type\": \"nominal\"}, \"x\": {\"axis\": {\"labelFontSize\": 15, \"title\": \"\"}, \"field\": \"kind\", \"type\": \"nominal\"}, \"y\": {\"axis\": {\"labelFontSize\": 12, \"titleFontSize\": 15}, \"field\": \"count\", \"type\": \"quantitative\"}}, \"width\": 120, \"$schema\": \"https://vega.github.io/schema/vega-lite/v5.20.1.json\", \"datasets\": {\"data-df8b909d4f4e83b4ce99588b13319ebf\": [{\"org\": \"jupyter\", \"repo\": \"docker-stacks\", \"kind\": \"created\", \"count\": 2.0}, {\"org\": \"jupyter\", \"repo\": \"governance\", \"kind\": \"created\", \"count\": 6.0}, {\"org\": \"jupyter\", \"repo\": \"jupyter\", \"kind\": \"created\", \"count\": 0.0}, {\"org\": \"jupyter\", \"repo\": \"jupyter.github.io\", \"kind\": \"created\", \"count\": 3.0}, {\"org\": \"jupyter\", \"repo\": \"jupyter_core\", \"kind\": \"created\", \"count\": 4.0}, {\"org\": \"jupyter\", \"repo\": \"nbclassic\", \"kind\": \"created\", \"count\": 1.0}, {\"org\": \"jupyter\", \"repo\": \"nbconvert\", \"kind\": \"created\", \"count\": 7.0}, {\"org\": \"jupyter\", \"repo\": \"nbgrader\", \"kind\": \"created\", \"count\": 6.0}, {\"org\": \"jupyter\", \"repo\": \"notebook\", \"kind\": \"created\", \"count\": 5.0}, {\"org\": \"jupyter\", \"repo\": \"security\", \"kind\": \"created\", \"count\": 14.0}, {\"org\": \"jupyter\", \"repo\": \"docker-stacks\", \"kind\": \"closed\", \"count\": 10.0}, {\"org\": \"jupyter\", \"repo\": \"governance\", \"kind\": \"closed\", \"count\": 6.0}, {\"org\": \"jupyter\", \"repo\": \"jupyter\", \"kind\": \"closed\", \"count\": 8.0}, {\"org\": \"jupyter\", \"repo\": \"jupyter.github.io\", \"kind\": \"closed\", \"count\": 1.0}, {\"org\": \"jupyter\", \"repo\": \"jupyter_core\", \"kind\": \"closed\", \"count\": 1.0}, {\"org\": \"jupyter\", \"repo\": \"nbclassic\", \"kind\": \"closed\", \"count\": 9.0}, {\"org\": \"jupyter\", \"repo\": \"nbconvert\", \"kind\": \"closed\", \"count\": 1.0}, {\"org\": \"jupyter\", \"repo\": \"nbgrader\", \"kind\": \"closed\", \"count\": 4.0}, {\"org\": \"jupyter\", \"repo\": \"notebook\", \"kind\": \"closed\", \"count\": 29.0}, {\"org\": \"jupyter\", \"repo\": \"security\", \"kind\": \"closed\", \"count\": 2.0}]}}, {\"mode\": \"vega-lite\"});\n",
       "</script>"
      ],
      "text/plain": [
       "alt.Chart(...)"
      ]
     },
     "execution_count": 19,
     "metadata": {},
     "output_type": "execute_result"
    }
   ],
   "source": [
    "charts = []\n",
    "# Pick the top 10 repositories\n",
    "top_repos = created_closed.groupby(['repo']).sum().sort_values(by='count', ascending=False).head(10).index\n",
    "ch = alt.Chart(created_closed.query('repo in @top_repos'), width=120).mark_bar().encode(\n",
    "    x=alt.X(\"kind\", axis=alt.Axis(labelFontSize=15, title=\"\")), \n",
    "    y=alt.Y('count', axis=alt.Axis(titleFontSize=15, labelFontSize=12)),\n",
    "    color='kind',\n",
    "    column=alt.Column(\"repo\", header=alt.Header(title=f\"Issue activity, last {n_days} days for {github_org}\", titleFontSize=15, labelFontSize=12))\n",
    ")\n",
    "ch"
   ]
  },
  {
   "cell_type": "code",
   "execution_count": 20,
   "id": "4f262d8f",
   "metadata": {
    "editable": true,
    "execution": {
     "iopub.execute_input": "2025-05-12T16:41:48.138207Z",
     "iopub.status.busy": "2025-05-12T16:41:48.137992Z",
     "iopub.status.idle": "2025-05-12T16:41:48.145073Z",
     "shell.execute_reply": "2025-05-12T16:41:48.144488Z"
    },
    "papermill": {
     "duration": 0.026125,
     "end_time": "2025-05-12T16:41:48.146114",
     "exception": false,
     "start_time": "2025-05-12T16:41:48.119989",
     "status": "completed"
    },
    "slideshow": {
     "slide_type": ""
    },
    "tags": [
     "remove_cell"
    ]
   },
   "outputs": [],
   "source": [
    "# Set to datetime\n",
    "for kind in ['created_at', 'closed_at']:\n",
    "    closed.loc[:, kind] = pd.to_datetime(closed[kind])\n",
    "    \n",
    "closed.loc[:, 'time_open'] = closed['closed_at'] - closed['created_at']\n",
    "closed.loc[:, 'time_open'] = closed['time_open'].dt.total_seconds()"
   ]
  },
  {
   "cell_type": "code",
   "execution_count": 21,
   "id": "df1a662d",
   "metadata": {
    "editable": true,
    "execution": {
     "iopub.execute_input": "2025-05-12T16:41:48.178618Z",
     "iopub.status.busy": "2025-05-12T16:41:48.178365Z",
     "iopub.status.idle": "2025-05-12T16:41:48.197881Z",
     "shell.execute_reply": "2025-05-12T16:41:48.197346Z"
    },
    "papermill": {
     "duration": 0.037103,
     "end_time": "2025-05-12T16:41:48.199033",
     "exception": false,
     "start_time": "2025-05-12T16:41:48.161930",
     "status": "completed"
    },
    "slideshow": {
     "slide_type": ""
    },
    "tags": [
     "hide_input"
    ]
   },
   "outputs": [
    {
     "data": {
      "text/html": [
       "\n",
       "<style>\n",
       "  #altair-viz-d68370758931448fbb9a3187b8ebb8c2.vega-embed {\n",
       "    width: 100%;\n",
       "    display: flex;\n",
       "  }\n",
       "\n",
       "  #altair-viz-d68370758931448fbb9a3187b8ebb8c2.vega-embed details,\n",
       "  #altair-viz-d68370758931448fbb9a3187b8ebb8c2.vega-embed details summary {\n",
       "    position: relative;\n",
       "  }\n",
       "</style>\n",
       "<div id=\"altair-viz-d68370758931448fbb9a3187b8ebb8c2\"></div>\n",
       "<script type=\"text/javascript\">\n",
       "  var VEGA_DEBUG = (typeof VEGA_DEBUG == \"undefined\") ? {} : VEGA_DEBUG;\n",
       "  (function(spec, embedOpt){\n",
       "    let outputDiv = document.currentScript.previousElementSibling;\n",
       "    if (outputDiv.id !== \"altair-viz-d68370758931448fbb9a3187b8ebb8c2\") {\n",
       "      outputDiv = document.getElementById(\"altair-viz-d68370758931448fbb9a3187b8ebb8c2\");\n",
       "    }\n",
       "\n",
       "    const paths = {\n",
       "      \"vega\": \"https://cdn.jsdelivr.net/npm/vega@5?noext\",\n",
       "      \"vega-lib\": \"https://cdn.jsdelivr.net/npm/vega-lib?noext\",\n",
       "      \"vega-lite\": \"https://cdn.jsdelivr.net/npm/vega-lite@5.20.1?noext\",\n",
       "      \"vega-embed\": \"https://cdn.jsdelivr.net/npm/vega-embed@6?noext\",\n",
       "    };\n",
       "\n",
       "    function maybeLoadScript(lib, version) {\n",
       "      var key = `${lib.replace(\"-\", \"\")}_version`;\n",
       "      return (VEGA_DEBUG[key] == version) ?\n",
       "        Promise.resolve(paths[lib]) :\n",
       "        new Promise(function(resolve, reject) {\n",
       "          var s = document.createElement('script');\n",
       "          document.getElementsByTagName(\"head\")[0].appendChild(s);\n",
       "          s.async = true;\n",
       "          s.onload = () => {\n",
       "            VEGA_DEBUG[key] = version;\n",
       "            return resolve(paths[lib]);\n",
       "          };\n",
       "          s.onerror = () => reject(`Error loading script: ${paths[lib]}`);\n",
       "          s.src = paths[lib];\n",
       "        });\n",
       "    }\n",
       "\n",
       "    function showError(err) {\n",
       "      outputDiv.innerHTML = `<div class=\"error\" style=\"color:red;\">${err}</div>`;\n",
       "      throw err;\n",
       "    }\n",
       "\n",
       "    function displayChart(vegaEmbed) {\n",
       "      vegaEmbed(outputDiv, spec, embedOpt)\n",
       "        .catch(err => showError(`Javascript Error: ${err.message}<br>This usually means there's a typo in your chart specification. See the javascript console for the full traceback.`));\n",
       "    }\n",
       "\n",
       "    if(typeof define === \"function\" && define.amd) {\n",
       "      requirejs.config({paths});\n",
       "      let deps = [\"vega-embed\"];\n",
       "      require(deps, displayChart, err => showError(`Error loading script: ${err.message}`));\n",
       "    } else {\n",
       "      maybeLoadScript(\"vega\", \"5\")\n",
       "        .then(() => maybeLoadScript(\"vega-lite\", \"5.20.1\"))\n",
       "        .then(() => maybeLoadScript(\"vega-embed\", \"6\"))\n",
       "        .catch(showError)\n",
       "        .then(() => displayChart(vegaEmbed));\n",
       "    }\n",
       "  })({\"config\": {\"axisLeft\": {\"labelFontSize\": 15}, \"axisBottom\": {\"labelFontSize\": 15}}, \"data\": {\"name\": \"data-c4d0d5080aece0da33e5d1046a856ab8\"}, \"mark\": {\"type\": \"bar\"}, \"encoding\": {\"x\": {\"field\": \"repo\", \"sort\": [\"jupyter_console\", \"jupyter_core\", \"governance\", \"nbgrader\", \"notebook\", \"docker-stacks\", \"jupyter\", \"jupyter_client\", \"security\", \"nbclassic\", \"nbconvert\", \"jupyter.github.io\"], \"type\": \"nominal\"}, \"y\": {\"field\": \"time_open\", \"title\": \"Median Days Open\", \"type\": \"quantitative\"}}, \"title\": \"Time to close for issues closed in the last 90 days\", \"$schema\": \"https://vega.github.io/schema/vega-lite/v5.20.1.json\", \"datasets\": {\"data-c4d0d5080aece0da33e5d1046a856ab8\": [{\"org\": \"jupyter\", \"repo\": \"docker-stacks\", \"time_open\": 20.207447916666666, \"org/repo\": \"jupyter/docker-stacks\"}, {\"org\": \"jupyter\", \"repo\": \"governance\", \"time_open\": 298.0015104166667, \"org/repo\": \"jupyter/governance\"}, {\"org\": \"jupyter\", \"repo\": \"jupyter\", \"time_open\": 17.359982638888887, \"org/repo\": \"jupyter/jupyter\"}, {\"org\": \"jupyter\", \"repo\": \"jupyter.github.io\", \"time_open\": 0.9404050925925926, \"org/repo\": \"jupyter/jupyter.github.io\"}, {\"org\": \"jupyter\", \"repo\": \"jupyter_client\", \"time_open\": 17.07300925925926, \"org/repo\": \"jupyter/jupyter_client\"}, {\"org\": \"jupyter\", \"repo\": \"jupyter_console\", \"time_open\": 1740.5220949074073, \"org/repo\": \"jupyter/jupyter_console\"}, {\"org\": \"jupyter\", \"repo\": \"jupyter_core\", \"time_open\": 708.2376388888889, \"org/repo\": \"jupyter/jupyter_core\"}, {\"org\": \"jupyter\", \"repo\": \"nbclassic\", \"time_open\": 8.409803240740741, \"org/repo\": \"jupyter/nbclassic\"}, {\"org\": \"jupyter\", \"repo\": \"nbconvert\", \"time_open\": 5.779212962962963, \"org/repo\": \"jupyter/nbconvert\"}, {\"org\": \"jupyter\", \"repo\": \"nbgrader\", \"time_open\": 56.33239583333334, \"org/repo\": \"jupyter/nbgrader\"}, {\"org\": \"jupyter\", \"repo\": \"notebook\", \"time_open\": 28.170092592592592, \"org/repo\": \"jupyter/notebook\"}, {\"org\": \"jupyter\", \"repo\": \"security\", \"time_open\": 12.510729166666666, \"org/repo\": \"jupyter/security\"}]}}, {\"mode\": \"vega-lite\"});\n",
       "</script>"
      ],
      "text/plain": [
       "alt.Chart(...)"
      ]
     },
     "execution_count": 21,
     "metadata": {},
     "output_type": "execute_result"
    }
   ],
   "source": [
    "time_open = closed.groupby(['org', 'repo']).agg({'time_open': 'median'}).reset_index()\n",
    "time_open['time_open'] = time_open['time_open'] / (60 * 60 * 24)\n",
    "time_open['org/repo'] = time_open.apply(lambda a: a['org'] + '/' + a['repo'], axis=1)\n",
    "sorted_vals = time_open.sort_values(['org', 'time_open'], ascending=False)['repo'].values\n",
    "alt.Chart(data=time_open, title=f\"Time to close for issues closed in the last {n_days} days\").mark_bar().encode(\n",
    "    x=alt.X('repo', sort=alt.Sort(sorted_vals.tolist())),\n",
    "    y=alt.Y('time_open', title=\"Median Days Open\"),\n",
    ")"
   ]
  },
  {
   "cell_type": "markdown",
   "id": "34dbbf80",
   "metadata": {
    "editable": true,
    "papermill": {
     "duration": 0.016024,
     "end_time": "2025-05-12T16:41:48.231301",
     "exception": false,
     "start_time": "2025-05-12T16:41:48.215277",
     "status": "completed"
    },
    "slideshow": {
     "slide_type": ""
    },
    "tags": []
   },
   "source": [
    "## Most-upvoted issues"
   ]
  },
  {
   "cell_type": "code",
   "execution_count": 22,
   "id": "bc459ff9",
   "metadata": {
    "editable": true,
    "execution": {
     "iopub.execute_input": "2025-05-12T16:41:48.266506Z",
     "iopub.status.busy": "2025-05-12T16:41:48.266094Z",
     "iopub.status.idle": "2025-05-12T16:41:48.295125Z",
     "shell.execute_reply": "2025-05-12T16:41:48.294509Z"
    },
    "papermill": {
     "duration": 0.048413,
     "end_time": "2025-05-12T16:41:48.296337",
     "exception": false,
     "start_time": "2025-05-12T16:41:48.247924",
     "status": "completed"
    },
    "slideshow": {
     "slide_type": ""
    },
    "tags": [
     "hide_input"
    ]
   },
   "outputs": [
    {
     "data": {
      "application/vnd.jupyter.widget-view+json": {
       "model_id": "d5625b6ee71f447eb56a0098895453ff",
       "version_major": 2,
       "version_minor": 0
      },
      "text/plain": [
       "HTML(value='<ul>\\n<li>(99) Hide input cells - notebook - <a href=\"https://github.com/jupyter/notebook/issues/5…"
      ]
     },
     "execution_count": 22,
     "metadata": {},
     "output_type": "execute_result"
    }
   ],
   "source": [
    "thumbsup = issues.query(\"state == 'open'\").sort_values(\"positive\", ascending=False).head(25)\n",
    "thumbsup = thumbsup[[\"title\", \"url\", \"number\", \"positive\", \"repo\"]]\n",
    "\n",
    "text = []\n",
    "for ii, irow in thumbsup.iterrows():\n",
    "    itext = f\"- ({irow['positive']}) {irow['title']} - {irow['repo']} - [#{irow['number']}]({irow['url']})\"\n",
    "    text.append(itext)\n",
    "text = '\\n'.join(text)\n",
    "HTML(markdown(text))"
   ]
  },
  {
   "cell_type": "markdown",
   "id": "fe328611",
   "metadata": {
    "editable": true,
    "papermill": {
     "duration": 0.01645,
     "end_time": "2025-05-12T16:41:48.329573",
     "exception": false,
     "start_time": "2025-05-12T16:41:48.313123",
     "status": "completed"
    },
    "slideshow": {
     "slide_type": ""
    },
    "tags": []
   },
   "source": [
    "## Commenters across repositories\n",
    "\n",
    "These are commenters across all issues and pull requests in the last several days.\n",
    "These are colored by the commenter's association with the organization. For information\n",
    "about what these associations mean, [see this StackOverflow post](https://stackoverflow.com/a/28866914/1927102)."
   ]
  },
  {
   "cell_type": "code",
   "execution_count": 23,
   "id": "b12ab9be",
   "metadata": {
    "editable": true,
    "execution": {
     "iopub.execute_input": "2025-05-12T16:41:48.363463Z",
     "iopub.status.busy": "2025-05-12T16:41:48.362929Z",
     "iopub.status.idle": "2025-05-12T16:41:48.376033Z",
     "shell.execute_reply": "2025-05-12T16:41:48.375456Z"
    },
    "papermill": {
     "duration": 0.031485,
     "end_time": "2025-05-12T16:41:48.377134",
     "exception": false,
     "start_time": "2025-05-12T16:41:48.345649",
     "status": "completed"
    },
    "slideshow": {
     "slide_type": ""
    },
    "tags": [
     "remove_cell"
    ]
   },
   "outputs": [],
   "source": [
    "commentors = (\n",
    "    comments\n",
    "    .query(\"created_at > @start_date and created_at < @stop_date\")\n",
    "    .groupby(['org', 'repo', 'login', 'author_association'])\n",
    "    .count().rename(columns={'id_issue': 'count'})['count']\n",
    "    .reset_index()\n",
    "    .sort_values(['org', 'count'], ascending=False)\n",
    ")"
   ]
  },
  {
   "cell_type": "code",
   "execution_count": 24,
   "id": "bbd89437",
   "metadata": {
    "editable": true,
    "execution": {
     "iopub.execute_input": "2025-05-12T16:41:48.413157Z",
     "iopub.status.busy": "2025-05-12T16:41:48.412541Z",
     "iopub.status.idle": "2025-05-12T16:41:48.439225Z",
     "shell.execute_reply": "2025-05-12T16:41:48.438586Z"
    },
    "papermill": {
     "duration": 0.045916,
     "end_time": "2025-05-12T16:41:48.440311",
     "exception": false,
     "start_time": "2025-05-12T16:41:48.394395",
     "status": "completed"
    },
    "slideshow": {
     "slide_type": ""
    },
    "tags": [
     "hide_input"
    ]
   },
   "outputs": [
    {
     "data": {
      "text/html": [
       "\n",
       "<style>\n",
       "  #altair-viz-b82bae9d6d744ce59d2d8c6a05bcf18a.vega-embed {\n",
       "    width: 100%;\n",
       "    display: flex;\n",
       "  }\n",
       "\n",
       "  #altair-viz-b82bae9d6d744ce59d2d8c6a05bcf18a.vega-embed details,\n",
       "  #altair-viz-b82bae9d6d744ce59d2d8c6a05bcf18a.vega-embed details summary {\n",
       "    position: relative;\n",
       "  }\n",
       "</style>\n",
       "<div id=\"altair-viz-b82bae9d6d744ce59d2d8c6a05bcf18a\"></div>\n",
       "<script type=\"text/javascript\">\n",
       "  var VEGA_DEBUG = (typeof VEGA_DEBUG == \"undefined\") ? {} : VEGA_DEBUG;\n",
       "  (function(spec, embedOpt){\n",
       "    let outputDiv = document.currentScript.previousElementSibling;\n",
       "    if (outputDiv.id !== \"altair-viz-b82bae9d6d744ce59d2d8c6a05bcf18a\") {\n",
       "      outputDiv = document.getElementById(\"altair-viz-b82bae9d6d744ce59d2d8c6a05bcf18a\");\n",
       "    }\n",
       "\n",
       "    const paths = {\n",
       "      \"vega\": \"https://cdn.jsdelivr.net/npm/vega@5?noext\",\n",
       "      \"vega-lib\": \"https://cdn.jsdelivr.net/npm/vega-lib?noext\",\n",
       "      \"vega-lite\": \"https://cdn.jsdelivr.net/npm/vega-lite@5.20.1?noext\",\n",
       "      \"vega-embed\": \"https://cdn.jsdelivr.net/npm/vega-embed@6?noext\",\n",
       "    };\n",
       "\n",
       "    function maybeLoadScript(lib, version) {\n",
       "      var key = `${lib.replace(\"-\", \"\")}_version`;\n",
       "      return (VEGA_DEBUG[key] == version) ?\n",
       "        Promise.resolve(paths[lib]) :\n",
       "        new Promise(function(resolve, reject) {\n",
       "          var s = document.createElement('script');\n",
       "          document.getElementsByTagName(\"head\")[0].appendChild(s);\n",
       "          s.async = true;\n",
       "          s.onload = () => {\n",
       "            VEGA_DEBUG[key] = version;\n",
       "            return resolve(paths[lib]);\n",
       "          };\n",
       "          s.onerror = () => reject(`Error loading script: ${paths[lib]}`);\n",
       "          s.src = paths[lib];\n",
       "        });\n",
       "    }\n",
       "\n",
       "    function showError(err) {\n",
       "      outputDiv.innerHTML = `<div class=\"error\" style=\"color:red;\">${err}</div>`;\n",
       "      throw err;\n",
       "    }\n",
       "\n",
       "    function displayChart(vegaEmbed) {\n",
       "      vegaEmbed(outputDiv, spec, embedOpt)\n",
       "        .catch(err => showError(`Javascript Error: ${err.message}<br>This usually means there's a typo in your chart specification. See the javascript console for the full traceback.`));\n",
       "    }\n",
       "\n",
       "    if(typeof define === \"function\" && define.amd) {\n",
       "      requirejs.config({paths});\n",
       "      let deps = [\"vega-embed\"];\n",
       "      require(deps, displayChart, err => showError(`Error loading script: ${err.message}`));\n",
       "    } else {\n",
       "      maybeLoadScript(\"vega\", \"5\")\n",
       "        .then(() => maybeLoadScript(\"vega-lite\", \"5.20.1\"))\n",
       "        .then(() => maybeLoadScript(\"vega-embed\", \"6\"))\n",
       "        .catch(showError)\n",
       "        .then(() => displayChart(vegaEmbed));\n",
       "    }\n",
       "  })({\"config\": {\"axisLeft\": {\"labelFontSize\": 15}, \"axisBottom\": {\"labelFontSize\": 15}}, \"hconcat\": [{\"mark\": {\"type\": \"bar\"}, \"encoding\": {\"color\": {\"field\": \"author_association\", \"scale\": {\"domain\": [\"MEMBER\", \"CONTRIBUTOR\", \"COLLABORATOR\", \"NONE\"], \"range\": [\"rgb(211.82745098039214, 211.82745098039214, 211.82745098039214)\", \"rgb(166.98562091503268, 229.89803921568628, 166.98562091503268)\", \"rgb(96.37647058823529, 192.75294117647059, 96.37647058823529)\", \"rgb(0.0, 100.3921568627451, 0.0)\"]}, \"type\": \"nominal\"}, \"x\": {\"field\": \"login\", \"type\": \"nominal\"}, \"y\": {\"field\": \"count\", \"type\": \"quantitative\"}}, \"title\": \"Top 50 commentors for ('jupyter',) in the last 90 days\"}], \"data\": {\"name\": \"data-b1a0438c58f509ba4290e95d1268aa7e\"}, \"$schema\": \"https://vega.github.io/schema/vega-lite/v5.20.1.json\", \"datasets\": {\"data-b1a0438c58f509ba4290e95d1268aa7e\": [{\"login\": \"krassowski\", \"count\": 21, \"author_association\": \"MEMBER\"}, {\"login\": \"choldgraf\", \"count\": 17, \"author_association\": \"MEMBER\"}, {\"login\": \"mathbunnyru\", \"count\": 17, \"author_association\": \"MEMBER\"}, {\"login\": \"danyeaw\", \"count\": 16, \"author_association\": \"MEMBER\"}, {\"login\": \"ivanov\", \"count\": 15, \"author_association\": \"MEMBER\"}, {\"login\": \"rpwagner\", \"count\": 14, \"author_association\": \"MEMBER\"}, {\"login\": \"Carreau\", \"count\": 13, \"author_association\": \"MEMBER\"}, {\"login\": \"mgorny\", \"count\": 10, \"author_association\": \"CONTRIBUTOR\"}, {\"login\": \"RRosio\", \"count\": 9, \"author_association\": \"MEMBER\"}, {\"login\": \"antonio-rojas\", \"count\": 8, \"author_association\": \"CONTRIBUTOR\"}, {\"login\": \"minrk\", \"count\": 8, \"author_association\": \"MEMBER\"}, {\"login\": \"shreve\", \"count\": 7, \"author_association\": \"CONTRIBUTOR\"}, {\"login\": \"dlqqq\", \"count\": 7, \"author_association\": \"MEMBER\"}, {\"login\": \"consideRatio\", \"count\": 6, \"author_association\": \"MEMBER\"}, {\"login\": \"cab938\", \"count\": 5, \"author_association\": \"NONE\"}, {\"login\": \"fperez\", \"count\": 5, \"author_association\": \"MEMBER\"}, {\"login\": \"manics\", \"count\": 4, \"author_association\": \"CONTRIBUTOR\"}, {\"login\": \"benz0li\", \"count\": 4, \"author_association\": \"CONTRIBUTOR\"}, {\"login\": \"davidbrochart\", \"count\": 4, \"author_association\": \"MEMBER\"}, {\"login\": \"SylvainCorlay\", \"count\": 3, \"author_association\": \"MEMBER\"}, {\"login\": \"t-makaro\", \"count\": 3, \"author_association\": \"CONTRIBUTOR\"}, {\"login\": \"NeilGirdhar\", \"count\": 3, \"author_association\": \"NONE\"}, {\"login\": \"garncarz\", \"count\": 3, \"author_association\": \"NONE\"}, {\"login\": \"mgeier\", \"count\": 3, \"author_association\": \"CONTRIBUTOR\"}, {\"login\": \"perllaghu\", \"count\": 3, \"author_association\": \"CONTRIBUTOR\"}, {\"login\": \"EdoAlvarezR\", \"count\": 2, \"author_association\": \"NONE\"}, {\"login\": \"QuincyWuzefeng\", \"count\": 2, \"author_association\": \"NONE\"}, {\"login\": \"Ruv7\", \"count\": 2, \"author_association\": \"MEMBER\"}, {\"login\": \"jeflem\", \"count\": 2, \"author_association\": \"CONTRIBUTOR\"}, {\"login\": \"jasongrout\", \"count\": 2, \"author_association\": \"MEMBER\"}, {\"login\": \"i0ntempest\", \"count\": 2, \"author_association\": \"NONE\"}, {\"login\": \"gabemorris12\", \"count\": 2, \"author_association\": \"NONE\"}, {\"login\": \"cameronj86\", \"count\": 2, \"author_association\": \"NONE\"}, {\"login\": \"callegar\", \"count\": 2, \"author_association\": \"NONE\"}, {\"login\": \"jtpio\", \"count\": 2, \"author_association\": \"MEMBER\"}, {\"login\": \"lahwaacz\", \"count\": 2, \"author_association\": \"CONTRIBUTOR\"}, {\"login\": \"frenzymadness\", \"count\": 2, \"author_association\": \"CONTRIBUTOR\"}, {\"login\": \"ctcjab\", \"count\": 2, \"author_association\": \"NONE\"}, {\"login\": \"blaiseli\", \"count\": 2, \"author_association\": \"NONE\"}, {\"login\": \"cben\", \"count\": 2, \"author_association\": \"NONE\"}, {\"login\": \"DanielCastroBosch\", \"count\": 1, \"author_association\": \"NONE\"}, {\"login\": \"FahimFBA\", \"count\": 1, \"author_association\": \"NONE\"}, {\"login\": \"Kanishk-Kumar\", \"count\": 1, \"author_association\": \"NONE\"}, {\"login\": \"LCRuth\", \"count\": 1, \"author_association\": \"NONE\"}, {\"login\": \"Jacob-Stevens-Haas\", \"count\": 1, \"author_association\": \"NONE\"}, {\"login\": \"JosephTLucas\", \"count\": 1, \"author_association\": \"MEMBER\"}, {\"login\": \"herrye991\", \"count\": 1, \"author_association\": \"NONE\"}, {\"login\": \"galopyz\", \"count\": 1, \"author_association\": \"NONE\"}, {\"login\": \"danieleongari\", \"count\": 1, \"author_association\": \"NONE\"}, {\"login\": \"eguiraud-pf\", \"count\": 1, \"author_association\": \"NONE\"}]}}, {\"mode\": \"vega-lite\"});\n",
       "</script>"
      ],
      "text/plain": [
       "alt.HConcatChart(...)"
      ]
     },
     "execution_count": 24,
     "metadata": {},
     "output_type": "execute_result"
    }
   ],
   "source": [
    "n_plot = 50\n",
    "charts = []\n",
    "for ii, (iorg, idata) in enumerate(commentors.groupby(['org'])):\n",
    "    title = f\"Top {n_plot} commentors for {iorg} in the last {n_days} days\"\n",
    "    idata = idata.groupby('login', as_index=False).agg({'count': 'sum', 'author_association': 'first'})\n",
    "    idata = idata.sort_values('count', ascending=False).head(n_plot)\n",
    "    ch = alt.Chart(data=idata.head(n_plot), title=title).mark_bar().encode(\n",
    "        x='login',\n",
    "        y='count',\n",
    "        color=alt.Color('author_association', scale=alt.Scale(domain=author_types, range=author_colors))\n",
    "    )\n",
    "    charts.append(ch)\n",
    "alt.hconcat(*charts)"
   ]
  },
  {
   "cell_type": "markdown",
   "id": "0115d1eb",
   "metadata": {
    "editable": true,
    "papermill": {
     "duration": 0.017055,
     "end_time": "2025-05-12T16:41:48.474651",
     "exception": false,
     "start_time": "2025-05-12T16:41:48.457596",
     "status": "completed"
    },
    "slideshow": {
     "slide_type": ""
    },
    "tags": []
   },
   "source": [
    "## First responders\n",
    "\n",
    "First responders are the first people to respond to a new issue in one of the repositories.\n",
    "The following plots show first responders for recently-created issues."
   ]
  },
  {
   "cell_type": "code",
   "execution_count": 25,
   "id": "67ba34e2",
   "metadata": {
    "editable": true,
    "execution": {
     "iopub.execute_input": "2025-05-12T16:41:48.510131Z",
     "iopub.status.busy": "2025-05-12T16:41:48.509672Z",
     "iopub.status.idle": "2025-05-12T16:41:48.559505Z",
     "shell.execute_reply": "2025-05-12T16:41:48.558863Z"
    },
    "papermill": {
     "duration": 0.06911,
     "end_time": "2025-05-12T16:41:48.561039",
     "exception": false,
     "start_time": "2025-05-12T16:41:48.491929",
     "status": "completed"
    },
    "slideshow": {
     "slide_type": ""
    },
    "tags": [
     "remove_cell"
    ]
   },
   "outputs": [],
   "source": [
    "first_comments = []\n",
    "latest_comments = comments.query(\"created_at > @start_date\")\n",
    "for (org, repo, issue_id), i_comments in latest_comments.groupby(['org', 'repo', 'id_issue']):\n",
    "    ix_min = pd.to_datetime(i_comments['created_at']).idxmin()\n",
    "    first_comment = i_comments.loc[ix_min]\n",
    "    if isinstance(first_comment, pd.DataFrame):\n",
    "        first_comment = first_comment.iloc[0]\n",
    "    first_comments.append(first_comment)\n",
    "first_comments = pd.concat(first_comments, axis=1).T\n",
    "\n",
    "# Make up counts for viz\n",
    "first_responder_counts = first_comments.groupby(['org', 'login', 'author_association'], as_index=False).\\\n",
    "    count().rename(columns={'id_issue': 'n_first_responses'}).sort_values(['org', 'n_first_responses'], ascending=False)\n"
   ]
  },
  {
   "cell_type": "code",
   "execution_count": 26,
   "id": "763ec9ba",
   "metadata": {
    "editable": true,
    "execution": {
     "iopub.execute_input": "2025-05-12T16:41:48.654036Z",
     "iopub.status.busy": "2025-05-12T16:41:48.653398Z",
     "iopub.status.idle": "2025-05-12T16:41:48.679411Z",
     "shell.execute_reply": "2025-05-12T16:41:48.678642Z"
    },
    "papermill": {
     "duration": 0.047354,
     "end_time": "2025-05-12T16:41:48.680700",
     "exception": false,
     "start_time": "2025-05-12T16:41:48.633346",
     "status": "completed"
    },
    "slideshow": {
     "slide_type": ""
    },
    "tags": [
     "hide_input"
    ]
   },
   "outputs": [
    {
     "data": {
      "text/html": [
       "\n",
       "<style>\n",
       "  #altair-viz-614bf892126b4a1eb1425e2e961fdff2.vega-embed {\n",
       "    width: 100%;\n",
       "    display: flex;\n",
       "  }\n",
       "\n",
       "  #altair-viz-614bf892126b4a1eb1425e2e961fdff2.vega-embed details,\n",
       "  #altair-viz-614bf892126b4a1eb1425e2e961fdff2.vega-embed details summary {\n",
       "    position: relative;\n",
       "  }\n",
       "</style>\n",
       "<div id=\"altair-viz-614bf892126b4a1eb1425e2e961fdff2\"></div>\n",
       "<script type=\"text/javascript\">\n",
       "  var VEGA_DEBUG = (typeof VEGA_DEBUG == \"undefined\") ? {} : VEGA_DEBUG;\n",
       "  (function(spec, embedOpt){\n",
       "    let outputDiv = document.currentScript.previousElementSibling;\n",
       "    if (outputDiv.id !== \"altair-viz-614bf892126b4a1eb1425e2e961fdff2\") {\n",
       "      outputDiv = document.getElementById(\"altair-viz-614bf892126b4a1eb1425e2e961fdff2\");\n",
       "    }\n",
       "\n",
       "    const paths = {\n",
       "      \"vega\": \"https://cdn.jsdelivr.net/npm/vega@5?noext\",\n",
       "      \"vega-lib\": \"https://cdn.jsdelivr.net/npm/vega-lib?noext\",\n",
       "      \"vega-lite\": \"https://cdn.jsdelivr.net/npm/vega-lite@5.20.1?noext\",\n",
       "      \"vega-embed\": \"https://cdn.jsdelivr.net/npm/vega-embed@6?noext\",\n",
       "    };\n",
       "\n",
       "    function maybeLoadScript(lib, version) {\n",
       "      var key = `${lib.replace(\"-\", \"\")}_version`;\n",
       "      return (VEGA_DEBUG[key] == version) ?\n",
       "        Promise.resolve(paths[lib]) :\n",
       "        new Promise(function(resolve, reject) {\n",
       "          var s = document.createElement('script');\n",
       "          document.getElementsByTagName(\"head\")[0].appendChild(s);\n",
       "          s.async = true;\n",
       "          s.onload = () => {\n",
       "            VEGA_DEBUG[key] = version;\n",
       "            return resolve(paths[lib]);\n",
       "          };\n",
       "          s.onerror = () => reject(`Error loading script: ${paths[lib]}`);\n",
       "          s.src = paths[lib];\n",
       "        });\n",
       "    }\n",
       "\n",
       "    function showError(err) {\n",
       "      outputDiv.innerHTML = `<div class=\"error\" style=\"color:red;\">${err}</div>`;\n",
       "      throw err;\n",
       "    }\n",
       "\n",
       "    function displayChart(vegaEmbed) {\n",
       "      vegaEmbed(outputDiv, spec, embedOpt)\n",
       "        .catch(err => showError(`Javascript Error: ${err.message}<br>This usually means there's a typo in your chart specification. See the javascript console for the full traceback.`));\n",
       "    }\n",
       "\n",
       "    if(typeof define === \"function\" && define.amd) {\n",
       "      requirejs.config({paths});\n",
       "      let deps = [\"vega-embed\"];\n",
       "      require(deps, displayChart, err => showError(`Error loading script: ${err.message}`));\n",
       "    } else {\n",
       "      maybeLoadScript(\"vega\", \"5\")\n",
       "        .then(() => maybeLoadScript(\"vega-lite\", \"5.20.1\"))\n",
       "        .then(() => maybeLoadScript(\"vega-embed\", \"6\"))\n",
       "        .catch(showError)\n",
       "        .then(() => displayChart(vegaEmbed));\n",
       "    }\n",
       "  })({\"config\": {\"axisLeft\": {\"labelFontSize\": 15}, \"axisBottom\": {\"labelFontSize\": 15}}, \"data\": {\"name\": \"data-2a93d39eba3858395dd4dc2aceb951d1\"}, \"mark\": {\"type\": \"bar\"}, \"encoding\": {\"color\": {\"field\": \"author_association\", \"scale\": {\"domain\": [\"MEMBER\", \"CONTRIBUTOR\", \"COLLABORATOR\", \"NONE\"], \"range\": [\"rgb(211.82745098039214, 211.82745098039214, 211.82745098039214)\", \"rgb(166.98562091503268, 229.89803921568628, 166.98562091503268)\", \"rgb(96.37647058823529, 192.75294117647059, 96.37647058823529)\", \"rgb(0.0, 100.3921568627451, 0.0)\"]}, \"type\": \"nominal\"}, \"x\": {\"field\": \"login\", \"type\": \"nominal\"}, \"y\": {\"field\": \"n_first_responses\", \"type\": \"quantitative\"}}, \"title\": \"Top 50 first responders for jupyter in the last 90 days\", \"$schema\": \"https://vega.github.io/schema/vega-lite/v5.20.1.json\", \"datasets\": {\"data-2a93d39eba3858395dd4dc2aceb951d1\": [{\"login\": \"ivanov\", \"n_first_responses\": 10, \"author_association\": \"MEMBER\"}, {\"login\": \"danyeaw\", \"n_first_responses\": 9, \"author_association\": \"MEMBER\"}, {\"login\": \"krassowski\", \"n_first_responses\": 7, \"author_association\": \"MEMBER\"}, {\"login\": \"mathbunnyru\", \"n_first_responses\": 6, \"author_association\": \"MEMBER\"}, {\"login\": \"Carreau\", \"n_first_responses\": 4, \"author_association\": \"MEMBER\"}, {\"login\": \"RRosio\", \"n_first_responses\": 4, \"author_association\": \"MEMBER\"}, {\"login\": \"minrk\", \"n_first_responses\": 4, \"author_association\": \"MEMBER\"}, {\"login\": \"shreve\", \"n_first_responses\": 4, \"author_association\": \"CONTRIBUTOR\"}, {\"login\": \"davidbrochart\", \"n_first_responses\": 3, \"author_association\": \"MEMBER\"}, {\"login\": \"garncarz\", \"n_first_responses\": 2, \"author_association\": \"NONE\"}, {\"login\": \"manics\", \"n_first_responses\": 2, \"author_association\": \"CONTRIBUTOR\"}, {\"login\": \"t-makaro\", \"n_first_responses\": 2, \"author_association\": \"CONTRIBUTOR\"}, {\"login\": \"perllaghu\", \"n_first_responses\": 2, \"author_association\": \"CONTRIBUTOR\"}, {\"login\": \"jtpio\", \"n_first_responses\": 2, \"author_association\": \"MEMBER\"}, {\"login\": \"EdoAlvarezR\", \"n_first_responses\": 1, \"author_association\": \"NONE\"}, {\"login\": \"choldgraf\", \"n_first_responses\": 1, \"author_association\": \"MEMBER\"}, {\"login\": \"cben\", \"n_first_responses\": 1, \"author_association\": \"NONE\"}, {\"login\": \"bongovanfifi\", \"n_first_responses\": 1, \"author_association\": \"NONE\"}, {\"login\": \"blaiseli\", \"n_first_responses\": 1, \"author_association\": \"NONE\"}, {\"login\": \"benz0li\", \"n_first_responses\": 1, \"author_association\": \"CONTRIBUTOR\"}, {\"login\": \"benjamincburns\", \"n_first_responses\": 1, \"author_association\": \"NONE\"}, {\"login\": \"afeld\", \"n_first_responses\": 1, \"author_association\": \"NONE\"}, {\"login\": \"SylvainCorlay\", \"n_first_responses\": 1, \"author_association\": \"MEMBER\"}, {\"login\": \"Sr-11\", \"n_first_responses\": 1, \"author_association\": \"NONE\"}, {\"login\": \"LCRuth\", \"n_first_responses\": 1, \"author_association\": \"NONE\"}, {\"login\": \"Kanishk-Kumar\", \"n_first_responses\": 1, \"author_association\": \"NONE\"}, {\"login\": \"FahimFBA\", \"n_first_responses\": 1, \"author_association\": \"NONE\"}, {\"login\": \"galopyz\", \"n_first_responses\": 1, \"author_association\": \"NONE\"}, {\"login\": \"fjadidi2001\", \"n_first_responses\": 1, \"author_association\": \"NONE\"}, {\"login\": \"danieleongari\", \"n_first_responses\": 1, \"author_association\": \"NONE\"}, {\"login\": \"consideRatio\", \"n_first_responses\": 1, \"author_association\": \"MEMBER\"}, {\"login\": \"lilinfangrelax\", \"n_first_responses\": 1, \"author_association\": \"NONE\"}, {\"login\": \"lahwaacz\", \"n_first_responses\": 1, \"author_association\": \"CONTRIBUTOR\"}, {\"login\": \"kolithawarnakulasooriya\", \"n_first_responses\": 1, \"author_association\": \"NONE\"}, {\"login\": \"jeflem\", \"n_first_responses\": 1, \"author_association\": \"CONTRIBUTOR\"}, {\"login\": \"eguiraud-pf\", \"n_first_responses\": 1, \"author_association\": \"NONE\"}, {\"login\": \"ellisonbg\", \"n_first_responses\": 1, \"author_association\": \"MEMBER\"}, {\"login\": \"mdealencar\", \"n_first_responses\": 1, \"author_association\": \"NONE\"}, {\"login\": \"mirhossen390\", \"n_first_responses\": 1, \"author_association\": \"NONE\"}, {\"login\": \"peterjasc\", \"n_first_responses\": 1, \"author_association\": \"NONE\"}, {\"login\": \"mschilli87\", \"n_first_responses\": 1, \"author_association\": \"NONE\"}, {\"login\": \"shoowadoo\", \"n_first_responses\": 1, \"author_association\": \"NONE\"}, {\"login\": \"rpwagner\", \"n_first_responses\": 1, \"author_association\": \"MEMBER\"}, {\"login\": \"soumyadeep6845\", \"n_first_responses\": 1, \"author_association\": \"NONE\"}, {\"login\": \"steco\", \"n_first_responses\": 1, \"author_association\": \"NONE\"}, {\"login\": \"t1nux\", \"n_first_responses\": 1, \"author_association\": \"NONE\"}, {\"login\": \"vidartf\", \"n_first_responses\": 1, \"author_association\": \"MEMBER\"}]}}, {\"mode\": \"vega-lite\"});\n",
       "</script>"
      ],
      "text/plain": [
       "alt.Chart(...)"
      ]
     },
     "execution_count": 26,
     "metadata": {},
     "output_type": "execute_result"
    }
   ],
   "source": [
    "n_plot = 50\n",
    "\n",
    "title = f\"Top {n_plot} first responders for {github_org} in the last {n_days} days\"\n",
    "idata = first_responder_counts.groupby('login', as_index=False).agg({'n_first_responses': 'sum', 'author_association': 'first'})\n",
    "idata = idata.sort_values('n_first_responses', ascending=False).head(n_plot)\n",
    "ch = alt.Chart(data=idata.head(n_plot), title=title).mark_bar().encode(\n",
    "    x='login',\n",
    "    y='n_first_responses',\n",
    "    color=alt.Color('author_association', scale=alt.Scale(domain=author_types, range=author_colors))\n",
    ")\n",
    "ch"
   ]
  },
  {
   "cell_type": "markdown",
   "id": "ba553e73",
   "metadata": {
    "editable": true,
    "papermill": {
     "duration": 0.018485,
     "end_time": "2025-05-12T16:41:48.717806",
     "exception": false,
     "start_time": "2025-05-12T16:41:48.699321",
     "status": "completed"
    },
    "slideshow": {
     "slide_type": ""
    },
    "tags": []
   },
   "source": [
    "## Recent activity\n",
    "\n",
    "### A list of merged PRs by project\n",
    "\n",
    "Below is a tabbed readout of recently-merged PRs. Check out the title to get an idea for what they\n",
    "implemented, and be sure to thank the PR author for their hard work!"
   ]
  },
  {
   "cell_type": "code",
   "execution_count": 27,
   "id": "3d36a96c",
   "metadata": {
    "editable": true,
    "execution": {
     "iopub.execute_input": "2025-05-12T16:41:48.758997Z",
     "iopub.status.busy": "2025-05-12T16:41:48.758321Z",
     "iopub.status.idle": "2025-05-12T16:41:48.889516Z",
     "shell.execute_reply": "2025-05-12T16:41:48.888723Z"
    },
    "papermill": {
     "duration": 0.159735,
     "end_time": "2025-05-12T16:41:48.896844",
     "exception": false,
     "start_time": "2025-05-12T16:41:48.737109",
     "status": "completed"
    },
    "slideshow": {
     "slide_type": ""
    },
    "tags": [
     "hide_input"
    ]
   },
   "outputs": [
    {
     "data": {
      "application/vnd.jupyter.widget-view+json": {
       "model_id": "39233900363c4901af4d0dd7b6380a6f",
       "version_major": 2,
       "version_minor": 0
      },
      "text/plain": [
       "Tab(children=(HTML(value='<h4>Closed PRs for repo: <a href=\"https://github.com/jupyter/docker-stacks\">jupyter/…"
      ]
     },
     "execution_count": 27,
     "metadata": {},
     "output_type": "execute_result"
    }
   ],
   "source": [
    "tabs = widgets.Tab(children=[])\n",
    "\n",
    "for ii, ((org, repo), imerged) in enumerate(merged.query(\"repo in @use_repos\").groupby(['org', 'repo'])):\n",
    "    merged_by = {}\n",
    "    pr_by = {}\n",
    "    issue_md = []\n",
    "    issue_md.append(f\"#### Closed PRs for repo: [{org}/{repo}](https://github.com/{github_org}/{repo})\")\n",
    "    issue_md.append(\"\")\n",
    "    issue_md.append(f\"##### \")\n",
    "\n",
    "    for _, ipr in imerged.iterrows():\n",
    "        user_name = ipr['login']\n",
    "        user_url = author_url(user_name)\n",
    "        pr_number = ipr['number']\n",
    "        pr_html = ipr['url']\n",
    "        pr_title = ipr['title']\n",
    "        pr_closedby = ipr['merged_by']\n",
    "        pr_closedby_url = f\"https://github.com/{pr_closedby}\"\n",
    "        if user_name not in pr_by:\n",
    "            pr_by[user_name] = 1\n",
    "        else:\n",
    "            pr_by[user_name] += 1\n",
    "\n",
    "        if pr_closedby not in merged_by:\n",
    "            merged_by[pr_closedby] = 1\n",
    "        else:\n",
    "            merged_by[pr_closedby] += 1\n",
    "        text = f\"* [(#{pr_number})]({pr_html}): _{pr_title}_ by **[@{user_name}]({user_url})** merged by **[@{pr_closedby}]({pr_closedby_url})**\"\n",
    "        issue_md.append(text)\n",
    "    \n",
    "    issue_md.append('')\n",
    "    markdown_html = markdown('\\n'.join(issue_md))\n",
    "\n",
    "    children = list(tabs.children)\n",
    "    children.append(HTML(markdown_html))\n",
    "    tabs.children = tuple(children)\n",
    "    tabs.set_title(ii, repo)\n",
    "tabs"
   ]
  },
  {
   "cell_type": "markdown",
   "id": "6c6a8dee",
   "metadata": {
    "editable": true,
    "papermill": {
     "duration": 0.018297,
     "end_time": "2025-05-12T16:41:48.933410",
     "exception": false,
     "start_time": "2025-05-12T16:41:48.915113",
     "status": "completed"
    },
    "slideshow": {
     "slide_type": ""
    },
    "tags": []
   },
   "source": [
    "### A list of recent issues\n",
    "\n",
    "Below is a list of issues with recent activity in each repository. If they seem of interest\n",
    "to you, click on their links and jump in to participate!"
   ]
  },
  {
   "cell_type": "code",
   "execution_count": 28,
   "id": "4fe916bb",
   "metadata": {
    "editable": true,
    "execution": {
     "iopub.execute_input": "2025-05-12T16:41:48.972753Z",
     "iopub.status.busy": "2025-05-12T16:41:48.972133Z",
     "iopub.status.idle": "2025-05-12T16:41:48.984460Z",
     "shell.execute_reply": "2025-05-12T16:41:48.983823Z"
    },
    "papermill": {
     "duration": 0.033835,
     "end_time": "2025-05-12T16:41:48.985876",
     "exception": false,
     "start_time": "2025-05-12T16:41:48.952041",
     "status": "completed"
    },
    "slideshow": {
     "slide_type": ""
    },
    "tags": [
     "remove_cell"
    ]
   },
   "outputs": [],
   "source": [
    "# Add comment count data to issues and PRs\n",
    "comment_counts = (\n",
    "    comments\n",
    "    .query(\"created_at > @start_date and created_at < @stop_date\")\n",
    "    .groupby(['org', 'repo', 'id_issue'])\n",
    "    .count().iloc[:, 0].to_frame()\n",
    ")\n",
    "comment_counts.columns = ['n_comments']\n",
    "comment_counts = comment_counts.reset_index()"
   ]
  },
  {
   "cell_type": "code",
   "execution_count": 29,
   "id": "b5c2c46d",
   "metadata": {
    "editable": true,
    "execution": {
     "iopub.execute_input": "2025-05-12T16:41:49.024572Z",
     "iopub.status.busy": "2025-05-12T16:41:49.024059Z",
     "iopub.status.idle": "2025-05-12T16:41:49.177569Z",
     "shell.execute_reply": "2025-05-12T16:41:49.176843Z"
    },
    "papermill": {
     "duration": 0.174258,
     "end_time": "2025-05-12T16:41:49.178782",
     "exception": false,
     "start_time": "2025-05-12T16:41:49.004524",
     "status": "completed"
    },
    "slideshow": {
     "slide_type": ""
    },
    "tags": [
     "hide_input"
    ],
    "toc-hr-collapsed": false
   },
   "outputs": [
    {
     "data": {
      "text/markdown": [
       "Here are the top 5 active issues in each repository in the last 90 days"
      ],
      "text/plain": [
       "<IPython.core.display.Markdown object>"
      ]
     },
     "metadata": {},
     "output_type": "display_data"
    },
    {
     "data": {
      "application/vnd.jupyter.widget-view+json": {
       "model_id": "13e7c6b2178b4878a9df786c492812e0",
       "version_major": 2,
       "version_minor": 0
      },
      "text/plain": [
       "Tab(children=(HTML(value='<h5><a href=\"https://github.com/jupyter/docker-stacks\">jupyter/docker-stacks</a></h5…"
      ]
     },
     "metadata": {},
     "output_type": "display_data"
    }
   ],
   "source": [
    "n_plot = 5\n",
    "tabs = widgets.Tab(children=[])\n",
    "\n",
    "for ii, (repo, i_issues) in enumerate(comment_counts.query(\"repo in @use_repos\").groupby('repo')):\n",
    "    \n",
    "    issue_md = []\n",
    "    issue_md.append(\"\")\n",
    "    issue_md.append(f\"##### [{github_org}/{repo}](https://github.com/{github_org}/{repo})\")\n",
    "\n",
    "    top_issues = i_issues.sort_values('n_comments', ascending=False).head(n_plot)\n",
    "    top_issue_list = pd.merge(issues, top_issues, left_on=['org', 'repo', 'id_issue'], right_on=['org', 'repo', 'id_issue'])\n",
    "    for _, issue in top_issue_list.sort_values('n_comments', ascending=False).head(n_plot).iterrows():\n",
    "        user_name = issue['login']\n",
    "        user_url = author_url(user_name)\n",
    "        issue_number = issue['number']\n",
    "        issue_html = issue['url']\n",
    "        issue_title = issue['title']\n",
    "\n",
    "        text = f\"* [(#{issue_number})]({issue_html}): _{issue_title}_ by **[@{user_name}]({user_url})**\"\n",
    "        issue_md.append(text)\n",
    "\n",
    "    issue_md.append('')\n",
    "    md_html = HTML(markdown('\\n'.join(issue_md)))\n",
    "\n",
    "    children = list(tabs.children)\n",
    "    children.append(HTML(markdown('\\n'.join(issue_md))))\n",
    "    tabs.children = tuple(children)\n",
    "    tabs.set_title(ii, repo)\n",
    "    \n",
    "display(Markdown(f\"Here are the top {n_plot} active issues in each repository in the last {n_days} days\"))\n",
    "display(tabs)"
   ]
  }
 ],
 "metadata": {
  "kernelspec": {
   "display_name": "Python 3 (ipykernel)",
   "language": "python",
   "name": "python3"
  },
  "language_info": {
   "codemirror_mode": {
    "name": "ipython",
    "version": 3
   },
   "file_extension": ".py",
   "mimetype": "text/x-python",
   "name": "python",
   "nbconvert_exporter": "python",
   "pygments_lexer": "ipython3",
   "version": "3.9.22"
  },
  "papermill": {
   "default_parameters": {},
   "duration": 5.170468,
   "end_time": "2025-05-12T16:41:49.617334",
   "environment_variables": {},
   "exception": null,
   "input_path": "./templates/org_report.ipynb",
   "output_path": "generated/book/jupyter.ipynb",
   "parameters": {
    "github_org": "jupyter",
    "n_days": 90
   },
   "start_time": "2025-05-12T16:41:44.446866",
   "version": "2.6.0"
  },
  "widgets": {
   "application/vnd.jupyter.widget-state+json": {
    "state": {
     "0044304031084966831dae6cee93144a": {
      "model_module": "@jupyter-widgets/controls",
      "model_module_version": "2.0.0",
      "model_name": "HTMLModel",
      "state": {
       "_dom_classes": [],
       "_model_module": "@jupyter-widgets/controls",
       "_model_module_version": "2.0.0",
       "_model_name": "HTMLModel",
       "_view_count": null,
       "_view_module": "@jupyter-widgets/controls",
       "_view_module_version": "2.0.0",
       "_view_name": "HTMLView",
       "description": "",
       "description_allow_html": false,
       "layout": "IPY_MODEL_1dd79cfa75924ed98b072aabafaa2816",
       "placeholder": "​",
       "style": "IPY_MODEL_7a9a589805c34c17a02e5e3f8e8e5407",
       "tabbable": null,
       "tooltip": null,
       "value": "<h5><a href=\"https://github.com/jupyter/jupyter_client\">jupyter/jupyter_client</a></h5>\n<ul>\n<li><a href=\"https://github.com/jupyter/jupyter_client/issues/1055\">(#1055)</a>: <em>enhancement to help kernel provisioners introspect notebooks for their dependencies</em> by <strong><a href=\"https://github.com/itcarroll\">@itcarroll</a></strong></li>\n<li><a href=\"https://github.com/jupyter/jupyter_client/issues/1026\">(#1026)</a>: <em>Exception raised in KernelClient.del when shutting down kernel after executing code using kc.execute_interactive()</em> by <strong><a href=\"https://github.com/vivekvedant\">@vivekvedant</a></strong></li>\n<li><a href=\"https://github.com/jupyter/jupyter_client/issues/1053\">(#1053)</a>: <em>coroutine 'KernelManager._async_start_kernel' was never awaited</em> by <strong><a href=\"https://github.com/benjamincburns\">@benjamincburns</a></strong></li>\n</ul>"
      }
     },
     "01bc39cd30a442d488b994ee5b420fad": {
      "model_module": "@jupyter-widgets/controls",
      "model_module_version": "2.0.0",
      "model_name": "HTMLModel",
      "state": {
       "_dom_classes": [],
       "_model_module": "@jupyter-widgets/controls",
       "_model_module_version": "2.0.0",
       "_model_name": "HTMLModel",
       "_view_count": null,
       "_view_module": "@jupyter-widgets/controls",
       "_view_module_version": "2.0.0",
       "_view_name": "HTMLView",
       "description": "",
       "description_allow_html": false,
       "layout": "IPY_MODEL_495eac2a7bdf455ea2f99035e8888942",
       "placeholder": "​",
       "style": "IPY_MODEL_c9aa51e37ba04ebc9faed5637e209a20",
       "tabbable": null,
       "tooltip": null,
       "value": "<h5><a href=\"https://github.com/jupyter/nbgrader\">jupyter/nbgrader</a></h5>\n<ul>\n<li><a href=\"https://github.com/jupyter/nbgrader/issues/1955\">(#1955)</a>: <em>Wishlist: capture output of print statements in answer and test cells</em> by <strong><a href=\"https://github.com/callegar\">@callegar</a></strong></li>\n<li><a href=\"https://github.com/jupyter/nbgrader/issues/1965\">(#1965)</a>: <em>Formgrader does not find assignments when path contains aquare brackets</em> by <strong><a href=\"https://github.com/tjueterb\">@tjueterb</a></strong></li>\n<li><a href=\"https://github.com/jupyter/nbgrader/issues/1931\">(#1931)</a>: <em>Colon in feedback path conflicts with jupyter-fs</em> by <strong><a href=\"https://github.com/jeflem\">@jeflem</a></strong></li>\n<li><a href=\"https://github.com/jupyter/nbgrader/issues/1960\">(#1960)</a>: <em>Installation Script</em> by <strong><a href=\"https://github.com/ronaldpetty\">@ronaldpetty</a></strong></li>\n<li><a href=\"https://github.com/jupyter/nbgrader/issues/1837\">(#1837)</a>: <em>Integrating nbgrader with a plagiarism checker?</em> by <strong><a href=\"https://github.com/Merna-Atef\">@Merna-Atef</a></strong></li>\n</ul>"
      }
     },
     "08e1f65da47c4e2f99f2e6532f301c53": {
      "model_module": "@jupyter-widgets/base",
      "model_module_version": "2.0.0",
      "model_name": "LayoutModel",
      "state": {
       "_model_module": "@jupyter-widgets/base",
       "_model_module_version": "2.0.0",
       "_model_name": "LayoutModel",
       "_view_count": null,
       "_view_module": "@jupyter-widgets/base",
       "_view_module_version": "2.0.0",
       "_view_name": "LayoutView",
       "align_content": null,
       "align_items": null,
       "align_self": null,
       "border_bottom": null,
       "border_left": null,
       "border_right": null,
       "border_top": null,
       "bottom": null,
       "display": null,
       "flex": null,
       "flex_flow": null,
       "grid_area": null,
       "grid_auto_columns": null,
       "grid_auto_flow": null,
       "grid_auto_rows": null,
       "grid_column": null,
       "grid_gap": null,
       "grid_row": null,
       "grid_template_areas": null,
       "grid_template_columns": null,
       "grid_template_rows": null,
       "height": null,
       "justify_content": null,
       "justify_items": null,
       "left": null,
       "margin": null,
       "max_height": null,
       "max_width": null,
       "min_height": null,
       "min_width": null,
       "object_fit": null,
       "object_position": null,
       "order": null,
       "overflow": null,
       "padding": null,
       "right": null,
       "top": null,
       "visibility": null,
       "width": null
      }
     },
     "0c62c14b5ae14b5c9d5b96f87619e334": {
      "model_module": "@jupyter-widgets/controls",
      "model_module_version": "2.0.0",
      "model_name": "HTMLModel",
      "state": {
       "_dom_classes": [],
       "_model_module": "@jupyter-widgets/controls",
       "_model_module_version": "2.0.0",
       "_model_name": "HTMLModel",
       "_view_count": null,
       "_view_module": "@jupyter-widgets/controls",
       "_view_module_version": "2.0.0",
       "_view_name": "HTMLView",
       "description": "",
       "description_allow_html": false,
       "layout": "IPY_MODEL_94bb0e68728a4e69bfebdebf9f6b31cd",
       "placeholder": "​",
       "style": "IPY_MODEL_64447eb6702b4a86ba25a37ef21bfc2a",
       "tabbable": null,
       "tooltip": null,
       "value": "<h5><a href=\"https://github.com/jupyter/nbconvert\">jupyter/nbconvert</a></h5>\n<ul>\n<li><a href=\"https://github.com/jupyter/nbconvert/issues/2208\">(#2208)</a>: <em>Long equations from sympy do not wrap</em> by <strong><a href=\"https://github.com/gabemorris12\">@gabemorris12</a></strong></li>\n<li><a href=\"https://github.com/jupyter/nbconvert/issues/2149\">(#2149)</a>: <em>nbconvert for python 3.9 crashing during the templateexporter.py</em> by <strong><a href=\"https://github.com/ale-franc\">@ale-franc</a></strong></li>\n<li><a href=\"https://github.com/jupyter/nbconvert/issues/2189\">(#2189)</a>: <em>not working if jupyter_contrib_nbextensions are installed</em> by <strong><a href=\"https://github.com/hoba87\">@hoba87</a></strong></li>\n<li><a href=\"https://github.com/jupyter/nbconvert/issues/2205\">(#2205)</a>: <em>nbconvert from ipynb to pdf fails with embedded image</em> by <strong><a href=\"https://github.com/Sr-11\">@Sr-11</a></strong></li>\n<li><a href=\"https://github.com/jupyter/nbconvert/issues/2217\">(#2217)</a>: <em>nbconvert inline \\mathbf   ($\\mathbf {x}$) fails to export to PDF</em> by <strong><a href=\"https://github.com/frohro\">@frohro</a></strong></li>\n</ul>"
      }
     },
     "0faf52674c3b47a7b13515e0984e46e0": {
      "model_module": "@jupyter-widgets/base",
      "model_module_version": "2.0.0",
      "model_name": "LayoutModel",
      "state": {
       "_model_module": "@jupyter-widgets/base",
       "_model_module_version": "2.0.0",
       "_model_name": "LayoutModel",
       "_view_count": null,
       "_view_module": "@jupyter-widgets/base",
       "_view_module_version": "2.0.0",
       "_view_name": "LayoutView",
       "align_content": null,
       "align_items": null,
       "align_self": null,
       "border_bottom": null,
       "border_left": null,
       "border_right": null,
       "border_top": null,
       "bottom": null,
       "display": null,
       "flex": null,
       "flex_flow": null,
       "grid_area": null,
       "grid_auto_columns": null,
       "grid_auto_flow": null,
       "grid_auto_rows": null,
       "grid_column": null,
       "grid_gap": null,
       "grid_row": null,
       "grid_template_areas": null,
       "grid_template_columns": null,
       "grid_template_rows": null,
       "height": null,
       "justify_content": null,
       "justify_items": null,
       "left": null,
       "margin": null,
       "max_height": null,
       "max_width": null,
       "min_height": null,
       "min_width": null,
       "object_fit": null,
       "object_position": null,
       "order": null,
       "overflow": null,
       "padding": null,
       "right": null,
       "top": null,
       "visibility": null,
       "width": null
      }
     },
     "0ff8582ac1584ae397684cbe7cfcbb89": {
      "model_module": "@jupyter-widgets/base",
      "model_module_version": "2.0.0",
      "model_name": "LayoutModel",
      "state": {
       "_model_module": "@jupyter-widgets/base",
       "_model_module_version": "2.0.0",
       "_model_name": "LayoutModel",
       "_view_count": null,
       "_view_module": "@jupyter-widgets/base",
       "_view_module_version": "2.0.0",
       "_view_name": "LayoutView",
       "align_content": null,
       "align_items": null,
       "align_self": null,
       "border_bottom": null,
       "border_left": null,
       "border_right": null,
       "border_top": null,
       "bottom": null,
       "display": null,
       "flex": null,
       "flex_flow": null,
       "grid_area": null,
       "grid_auto_columns": null,
       "grid_auto_flow": null,
       "grid_auto_rows": null,
       "grid_column": null,
       "grid_gap": null,
       "grid_row": null,
       "grid_template_areas": null,
       "grid_template_columns": null,
       "grid_template_rows": null,
       "height": null,
       "justify_content": null,
       "justify_items": null,
       "left": null,
       "margin": null,
       "max_height": null,
       "max_width": null,
       "min_height": null,
       "min_width": null,
       "object_fit": null,
       "object_position": null,
       "order": null,
       "overflow": null,
       "padding": null,
       "right": null,
       "top": null,
       "visibility": null,
       "width": null
      }
     },
     "13e7c6b2178b4878a9df786c492812e0": {
      "model_module": "@jupyter-widgets/controls",
      "model_module_version": "2.0.0",
      "model_name": "TabModel",
      "state": {
       "_dom_classes": [],
       "_model_module": "@jupyter-widgets/controls",
       "_model_module_version": "2.0.0",
       "_model_name": "TabModel",
       "_view_count": null,
       "_view_module": "@jupyter-widgets/controls",
       "_view_module_version": "2.0.0",
       "_view_name": "TabView",
       "box_style": "",
       "children": [
        "IPY_MODEL_5b4a4d66d08a4c84b63bf4b83254b418",
        "IPY_MODEL_5546850fa84c476e8c2d06ecdaec03f2",
        "IPY_MODEL_1f2a69b77eda46edb4df564c7b577134",
        "IPY_MODEL_c65e7c6d60f047f9b17ac52bf86a778d",
        "IPY_MODEL_f6977409ef9c4054a81e206f9e09461c",
        "IPY_MODEL_d7b55884968f418486512c772fb002e8",
        "IPY_MODEL_0c62c14b5ae14b5c9d5b96f87619e334",
        "IPY_MODEL_2d12a60e106f477f813f1ee181ed3f5d",
        "IPY_MODEL_01bc39cd30a442d488b994ee5b420fad",
        "IPY_MODEL_7a0546a93691420f9971a85c9589828b"
       ],
       "layout": "IPY_MODEL_c15a7f712a84494ca78b1e1c1d57042e",
       "selected_index": 0,
       "tabbable": null,
       "titles": [
        "docker-stacks",
        "governance",
        "jupyter",
        "jupyter.github.io",
        "jupyter_client",
        "jupyter_core",
        "nbconvert",
        "nbdime",
        "nbgrader",
        "nbviewer"
       ],
       "tooltip": null
      }
     },
     "15368b982f534b81ae111f22f261b03f": {
      "model_module": "@jupyter-widgets/controls",
      "model_module_version": "2.0.0",
      "model_name": "HTMLStyleModel",
      "state": {
       "_model_module": "@jupyter-widgets/controls",
       "_model_module_version": "2.0.0",
       "_model_name": "HTMLStyleModel",
       "_view_count": null,
       "_view_module": "@jupyter-widgets/base",
       "_view_module_version": "2.0.0",
       "_view_name": "StyleView",
       "background": null,
       "description_width": "",
       "font_size": null,
       "text_color": null
      }
     },
     "163d2bf7eb1c4d17ab3b2fa7de45c02c": {
      "model_module": "@jupyter-widgets/base",
      "model_module_version": "2.0.0",
      "model_name": "LayoutModel",
      "state": {
       "_model_module": "@jupyter-widgets/base",
       "_model_module_version": "2.0.0",
       "_model_name": "LayoutModel",
       "_view_count": null,
       "_view_module": "@jupyter-widgets/base",
       "_view_module_version": "2.0.0",
       "_view_name": "LayoutView",
       "align_content": null,
       "align_items": null,
       "align_self": null,
       "border_bottom": null,
       "border_left": null,
       "border_right": null,
       "border_top": null,
       "bottom": null,
       "display": null,
       "flex": null,
       "flex_flow": null,
       "grid_area": null,
       "grid_auto_columns": null,
       "grid_auto_flow": null,
       "grid_auto_rows": null,
       "grid_column": null,
       "grid_gap": null,
       "grid_row": null,
       "grid_template_areas": null,
       "grid_template_columns": null,
       "grid_template_rows": null,
       "height": null,
       "justify_content": null,
       "justify_items": null,
       "left": null,
       "margin": null,
       "max_height": null,
       "max_width": null,
       "min_height": null,
       "min_width": null,
       "object_fit": null,
       "object_position": null,
       "order": null,
       "overflow": null,
       "padding": null,
       "right": null,
       "top": null,
       "visibility": null,
       "width": null
      }
     },
     "16be549b63c04405a0010671d975c59f": {
      "model_module": "@jupyter-widgets/base",
      "model_module_version": "2.0.0",
      "model_name": "LayoutModel",
      "state": {
       "_model_module": "@jupyter-widgets/base",
       "_model_module_version": "2.0.0",
       "_model_name": "LayoutModel",
       "_view_count": null,
       "_view_module": "@jupyter-widgets/base",
       "_view_module_version": "2.0.0",
       "_view_name": "LayoutView",
       "align_content": null,
       "align_items": null,
       "align_self": null,
       "border_bottom": null,
       "border_left": null,
       "border_right": null,
       "border_top": null,
       "bottom": null,
       "display": null,
       "flex": null,
       "flex_flow": null,
       "grid_area": null,
       "grid_auto_columns": null,
       "grid_auto_flow": null,
       "grid_auto_rows": null,
       "grid_column": null,
       "grid_gap": null,
       "grid_row": null,
       "grid_template_areas": null,
       "grid_template_columns": null,
       "grid_template_rows": null,
       "height": null,
       "justify_content": null,
       "justify_items": null,
       "left": null,
       "margin": null,
       "max_height": null,
       "max_width": null,
       "min_height": null,
       "min_width": null,
       "object_fit": null,
       "object_position": null,
       "order": null,
       "overflow": null,
       "padding": null,
       "right": null,
       "top": null,
       "visibility": null,
       "width": null
      }
     },
     "16d315c0a61846de9f8c70bf30c9cbf5": {
      "model_module": "@jupyter-widgets/controls",
      "model_module_version": "2.0.0",
      "model_name": "HTMLStyleModel",
      "state": {
       "_model_module": "@jupyter-widgets/controls",
       "_model_module_version": "2.0.0",
       "_model_name": "HTMLStyleModel",
       "_view_count": null,
       "_view_module": "@jupyter-widgets/base",
       "_view_module_version": "2.0.0",
       "_view_name": "StyleView",
       "background": null,
       "description_width": "",
       "font_size": null,
       "text_color": null
      }
     },
     "1a9824d472404b2bb9dcb631b34c028e": {
      "model_module": "@jupyter-widgets/base",
      "model_module_version": "2.0.0",
      "model_name": "LayoutModel",
      "state": {
       "_model_module": "@jupyter-widgets/base",
       "_model_module_version": "2.0.0",
       "_model_name": "LayoutModel",
       "_view_count": null,
       "_view_module": "@jupyter-widgets/base",
       "_view_module_version": "2.0.0",
       "_view_name": "LayoutView",
       "align_content": null,
       "align_items": null,
       "align_self": null,
       "border_bottom": null,
       "border_left": null,
       "border_right": null,
       "border_top": null,
       "bottom": null,
       "display": null,
       "flex": null,
       "flex_flow": null,
       "grid_area": null,
       "grid_auto_columns": null,
       "grid_auto_flow": null,
       "grid_auto_rows": null,
       "grid_column": null,
       "grid_gap": null,
       "grid_row": null,
       "grid_template_areas": null,
       "grid_template_columns": null,
       "grid_template_rows": null,
       "height": null,
       "justify_content": null,
       "justify_items": null,
       "left": null,
       "margin": null,
       "max_height": null,
       "max_width": null,
       "min_height": null,
       "min_width": null,
       "object_fit": null,
       "object_position": null,
       "order": null,
       "overflow": null,
       "padding": null,
       "right": null,
       "top": null,
       "visibility": null,
       "width": null
      }
     },
     "1cf615e353f44cada1bb159b2e5c7e7c": {
      "model_module": "@jupyter-widgets/controls",
      "model_module_version": "2.0.0",
      "model_name": "HTMLStyleModel",
      "state": {
       "_model_module": "@jupyter-widgets/controls",
       "_model_module_version": "2.0.0",
       "_model_name": "HTMLStyleModel",
       "_view_count": null,
       "_view_module": "@jupyter-widgets/base",
       "_view_module_version": "2.0.0",
       "_view_name": "StyleView",
       "background": null,
       "description_width": "",
       "font_size": null,
       "text_color": null
      }
     },
     "1d2af4f3dd7e4886ab851f220c4bffc0": {
      "model_module": "@jupyter-widgets/base",
      "model_module_version": "2.0.0",
      "model_name": "LayoutModel",
      "state": {
       "_model_module": "@jupyter-widgets/base",
       "_model_module_version": "2.0.0",
       "_model_name": "LayoutModel",
       "_view_count": null,
       "_view_module": "@jupyter-widgets/base",
       "_view_module_version": "2.0.0",
       "_view_name": "LayoutView",
       "align_content": null,
       "align_items": null,
       "align_self": null,
       "border_bottom": null,
       "border_left": null,
       "border_right": null,
       "border_top": null,
       "bottom": null,
       "display": null,
       "flex": null,
       "flex_flow": null,
       "grid_area": null,
       "grid_auto_columns": null,
       "grid_auto_flow": null,
       "grid_auto_rows": null,
       "grid_column": null,
       "grid_gap": null,
       "grid_row": null,
       "grid_template_areas": null,
       "grid_template_columns": null,
       "grid_template_rows": null,
       "height": null,
       "justify_content": null,
       "justify_items": null,
       "left": null,
       "margin": null,
       "max_height": null,
       "max_width": null,
       "min_height": null,
       "min_width": null,
       "object_fit": null,
       "object_position": null,
       "order": null,
       "overflow": null,
       "padding": null,
       "right": null,
       "top": null,
       "visibility": null,
       "width": null
      }
     },
     "1dd79cfa75924ed98b072aabafaa2816": {
      "model_module": "@jupyter-widgets/base",
      "model_module_version": "2.0.0",
      "model_name": "LayoutModel",
      "state": {
       "_model_module": "@jupyter-widgets/base",
       "_model_module_version": "2.0.0",
       "_model_name": "LayoutModel",
       "_view_count": null,
       "_view_module": "@jupyter-widgets/base",
       "_view_module_version": "2.0.0",
       "_view_name": "LayoutView",
       "align_content": null,
       "align_items": null,
       "align_self": null,
       "border_bottom": null,
       "border_left": null,
       "border_right": null,
       "border_top": null,
       "bottom": null,
       "display": null,
       "flex": null,
       "flex_flow": null,
       "grid_area": null,
       "grid_auto_columns": null,
       "grid_auto_flow": null,
       "grid_auto_rows": null,
       "grid_column": null,
       "grid_gap": null,
       "grid_row": null,
       "grid_template_areas": null,
       "grid_template_columns": null,
       "grid_template_rows": null,
       "height": null,
       "justify_content": null,
       "justify_items": null,
       "left": null,
       "margin": null,
       "max_height": null,
       "max_width": null,
       "min_height": null,
       "min_width": null,
       "object_fit": null,
       "object_position": null,
       "order": null,
       "overflow": null,
       "padding": null,
       "right": null,
       "top": null,
       "visibility": null,
       "width": null
      }
     },
     "1f2a69b77eda46edb4df564c7b577134": {
      "model_module": "@jupyter-widgets/controls",
      "model_module_version": "2.0.0",
      "model_name": "HTMLModel",
      "state": {
       "_dom_classes": [],
       "_model_module": "@jupyter-widgets/controls",
       "_model_module_version": "2.0.0",
       "_model_name": "HTMLModel",
       "_view_count": null,
       "_view_module": "@jupyter-widgets/controls",
       "_view_module_version": "2.0.0",
       "_view_name": "HTMLView",
       "description": "",
       "description_allow_html": false,
       "layout": "IPY_MODEL_c2dc94a21ee74e40ad1f9cd202db581a",
       "placeholder": "​",
       "style": "IPY_MODEL_a16a9bcc720741f794a701d4995bc59c",
       "tabbable": null,
       "tooltip": null,
       "value": "<h5><a href=\"https://github.com/jupyter/jupyter\">jupyter/jupyter</a></h5>\n<ul>\n<li><a href=\"https://github.com/jupyter/jupyter/issues/761\">(#761)</a>: <em>Let's discuss recent force-pushes</em> by <strong><a href=\"https://github.com/ivanov\">@ivanov</a></strong></li>\n<li><a href=\"https://github.com/jupyter/jupyter/issues/490\">(#490)</a>: <em>Programmatically detect whether the inline backend is available</em> by <strong><a href=\"https://github.com/lukelbd\">@lukelbd</a></strong></li>\n<li><a href=\"https://github.com/jupyter/jupyter/issues/505\">(#505)</a>: <em>Fix \"-m jupyter [console|notebook|...]\" so that it works on Windows</em> by <strong><a href=\"https://github.com/ksamuel\">@ksamuel</a></strong></li>\n<li><a href=\"https://github.com/jupyter/jupyter/issues/715\">(#715)</a>: <em>Broken Urls For Server API Schema</em> by <strong><a href=\"https://github.com/guomanmin\">@guomanmin</a></strong></li>\n<li><a href=\"https://github.com/jupyter/jupyter/issues/755\">(#755)</a>: <em>No minimum Python version specified; Python 3.10 and above supported?</em> by <strong><a href=\"https://github.com/andy-maier\">@andy-maier</a></strong></li>\n</ul>"
      }
     },
     "24c7b7c6bed147b3833278e307e75d92": {
      "model_module": "@jupyter-widgets/controls",
      "model_module_version": "2.0.0",
      "model_name": "HTMLModel",
      "state": {
       "_dom_classes": [],
       "_model_module": "@jupyter-widgets/controls",
       "_model_module_version": "2.0.0",
       "_model_name": "HTMLModel",
       "_view_count": null,
       "_view_module": "@jupyter-widgets/controls",
       "_view_module_version": "2.0.0",
       "_view_name": "HTMLView",
       "description": "",
       "description_allow_html": false,
       "layout": "IPY_MODEL_40a829f5f12649aa8de04f9a0f8c50e4",
       "placeholder": "​",
       "style": "IPY_MODEL_2e61446769d9496789a1faddf1d1b79e",
       "tabbable": null,
       "tooltip": null,
       "value": "<h4>Closed PRs for repo: <a href=\"https://github.com/jupyter/notebook\">jupyter/notebook</a></h4>\n<h5></h5>\n<ul>\n<li><a href=\"https://github.com/jupyter/notebook/issues/7553\">(#7553)</a>: <em>Bump nanoid from 3.3.6 to 3.3.8</em> by <strong><a href=\"https://github.com/dependabot[bot]\">@dependabot[bot]</a></strong> merged by <strong><a href=\"https://github.com/jtpio\">@jtpio</a></strong></li>\n<li><a href=\"https://github.com/jupyter/notebook/issues/7573\">(#7573)</a>: <em>Bump katex from 0.16.18 to 0.16.21</em> by <strong><a href=\"https://github.com/dependabot[bot]\">@dependabot[bot]</a></strong> merged by <strong><a href=\"https://github.com/jtpio\">@jtpio</a></strong></li>\n<li><a href=\"https://github.com/jupyter/notebook/issues/7574\">(#7574)</a>: <em>Bump markdown-to-jsx from 7.3.2 to 7.7.3</em> by <strong><a href=\"https://github.com/dependabot[bot]\">@dependabot[bot]</a></strong> merged by <strong><a href=\"https://github.com/jtpio\">@jtpio</a></strong></li>\n<li><a href=\"https://github.com/jupyter/notebook/issues/7586\">(#7586)</a>: <em>Bump vega from 5.24.0 to 5.31.0 in /ui-tests</em> by <strong><a href=\"https://github.com/dependabot[bot]\">@dependabot[bot]</a></strong> merged by <strong><a href=\"https://github.com/jtpio\">@jtpio</a></strong></li>\n<li><a href=\"https://github.com/jupyter/notebook/issues/7590\">(#7590)</a>: <em>Bump serialize-javascript from 6.0.1 to 6.0.2</em> by <strong><a href=\"https://github.com/dependabot[bot]\">@dependabot[bot]</a></strong> merged by <strong><a href=\"https://github.com/jtpio\">@jtpio</a></strong></li>\n<li><a href=\"https://github.com/jupyter/notebook/issues/7591\">(#7591)</a>: <em>Update to JupyterLab v4.4.0b0</em> by <strong><a href=\"https://github.com/jtpio\">@jtpio</a></strong> merged by <strong><a href=\"https://github.com/jtpio\">@jtpio</a></strong></li>\n<li><a href=\"https://github.com/jupyter/notebook/issues/7592\">(#7592)</a>: <em>Bump vega-selections from 5.4.1 to 5.5.0 in /ui-tests</em> by <strong><a href=\"https://github.com/dependabot[bot]\">@dependabot[bot]</a></strong> merged by <strong><a href=\"https://github.com/jtpio\">@jtpio</a></strong></li>\n<li><a href=\"https://github.com/jupyter/notebook/issues/7593\">(#7593)</a>: <em>Bump vega-selections from 5.4.1 to 5.5.0</em> by <strong><a href=\"https://github.com/dependabot[bot]\">@dependabot[bot]</a></strong> merged by <strong><a href=\"https://github.com/jtpio\">@jtpio</a></strong></li>\n<li><a href=\"https://github.com/jupyter/notebook/issues/7594\">(#7594)</a>: <em>Create recovery requires time</em> by <strong><a href=\"https://github.com/craigwllce\">@craigwllce</a></strong> merged by <strong><a href=\"https://github.com/krassowski\">@krassowski</a></strong></li>\n<li><a href=\"https://github.com/jupyter/notebook/issues/7598\">(#7598)</a>: <em>Bump axios from 1.6.2 to 1.8.2</em> by <strong><a href=\"https://github.com/dependabot[bot]\">@dependabot[bot]</a></strong> merged by <strong><a href=\"https://github.com/jtpio\">@jtpio</a></strong></li>\n<li><a href=\"https://github.com/jupyter/notebook/issues/7599\">(#7599)</a>: <em>Manual dependabot bumps</em> by <strong><a href=\"https://github.com/jtpio\">@jtpio</a></strong> merged by <strong><a href=\"https://github.com/jtpio\">@jtpio</a></strong></li>\n<li><a href=\"https://github.com/jupyter/notebook/issues/7602\">(#7602)</a>: <em>Add devcontainer support, backed by pixi</em> by <strong><a href=\"https://github.com/jtpio\">@jtpio</a></strong> merged by <strong><a href=\"https://github.com/jtpio\">@jtpio</a></strong></li>\n<li><a href=\"https://github.com/jupyter/notebook/issues/7603\">(#7603)</a>: <em>Bump @babel/helpers from 7.23.1 to 7.26.10</em> by <strong><a href=\"https://github.com/dependabot[bot]\">@dependabot[bot]</a></strong> merged by <strong><a href=\"https://github.com/jtpio\">@jtpio</a></strong></li>\n<li><a href=\"https://github.com/jupyter/notebook/issues/7604\">(#7604)</a>: <em>Bump @babel/runtime from 7.23.1 to 7.26.10</em> by <strong><a href=\"https://github.com/dependabot[bot]\">@dependabot[bot]</a></strong> merged by <strong><a href=\"https://github.com/jtpio\">@jtpio</a></strong></li>\n<li><a href=\"https://github.com/jupyter/notebook/issues/7605\">(#7605)</a>: <em>Update <code>@babel</code> dependencies</em> by <strong><a href=\"https://github.com/jtpio\">@jtpio</a></strong> merged by <strong><a href=\"https://github.com/jtpio\">@jtpio</a></strong></li>\n<li><a href=\"https://github.com/jupyter/notebook/issues/7607\">(#7607)</a>: <em>Update to JupyterLab <code>v4.4.0b1</code></em> by <strong><a href=\"https://github.com/jtpio\">@jtpio</a></strong> merged by <strong><a href=\"https://github.com/jtpio\">@jtpio</a></strong></li>\n<li><a href=\"https://github.com/jupyter/notebook/issues/7608\">(#7608)</a>: <em>Add pixi step to the update workflow</em> by <strong><a href=\"https://github.com/jtpio\">@jtpio</a></strong> merged by <strong><a href=\"https://github.com/jtpio\">@jtpio</a></strong></li>\n<li><a href=\"https://github.com/jupyter/notebook/issues/7610\">(#7610)</a>: <em>Update to JupyterLab v4.3.6</em> by <strong><a href=\"https://github.com/jtpio\">@jtpio</a></strong> merged by <strong><a href=\"https://github.com/jtpio\">@jtpio</a></strong></li>\n<li><a href=\"https://github.com/jupyter/notebook/issues/7612\">(#7612)</a>: <em>User facing changelog for 7.4</em> by <strong><a href=\"https://github.com/jtpio\">@jtpio</a></strong> merged by <strong><a href=\"https://github.com/jtpio\">@jtpio</a></strong></li>\n<li><a href=\"https://github.com/jupyter/notebook/issues/7614\">(#7614)</a>: <em>Update to JupyterLab v4.4.0b2</em> by <strong><a href=\"https://github.com/jtpio\">@jtpio</a></strong> merged by <strong><a href=\"https://github.com/jtpio\">@jtpio</a></strong></li>\n<li><a href=\"https://github.com/jupyter/notebook/issues/7616\">(#7616)</a>: <em>Support <code>ServiceManagerPlugin</code></em> by <strong><a href=\"https://github.com/jtpio\">@jtpio</a></strong> merged by <strong><a href=\"https://github.com/jtpio\">@jtpio</a></strong></li>\n<li><a href=\"https://github.com/jupyter/notebook/issues/7617\">(#7617)</a>: <em>Create jekyll-docker.yml</em> by <strong><a href=\"https://github.com/BoomchainLabs\">@BoomchainLabs</a></strong> merged by <strong><a href=\"https://github.com/krassowski\">@krassowski</a></strong></li>\n<li><a href=\"https://github.com/jupyter/notebook/issues/7618\">(#7618)</a>: <em>Update to JupyterLab v4.4.0rc0</em> by <strong><a href=\"https://github.com/jtpio\">@jtpio</a></strong> merged by <strong><a href=\"https://github.com/jtpio\">@jtpio</a></strong></li>\n<li><a href=\"https://github.com/jupyter/notebook/issues/7619\">(#7619)</a>: <em>Add support for a <code>down</code> area</em> by <strong><a href=\"https://github.com/jtpio\">@jtpio</a></strong> merged by <strong><a href=\"https://github.com/jtpio\">@jtpio</a></strong></li>\n<li><a href=\"https://github.com/jupyter/notebook/issues/7622\">(#7622)</a>: <em>Update to JupyterLab v4.4.0rc1</em> by <strong><a href=\"https://github.com/jtpio\">@jtpio</a></strong> merged by <strong><a href=\"https://github.com/jtpio\">@jtpio</a></strong></li>\n<li><a href=\"https://github.com/jupyter/notebook/issues/7623\">(#7623)</a>: <em>Update to JupyterLab v4.4.0</em> by <strong><a href=\"https://github.com/github-actions[bot]\">@github-actions[bot]</a></strong> merged by <strong><a href=\"https://github.com/jtpio\">@jtpio</a></strong></li>\n<li><a href=\"https://github.com/jupyter/notebook/issues/7624\">(#7624)</a>: <em>Default <code>singleClickNavigation</code> back to <code>false</code></em> by <strong><a href=\"https://github.com/jtpio\">@jtpio</a></strong> merged by <strong><a href=\"https://github.com/jtpio\">@jtpio</a></strong></li>\n<li><a href=\"https://github.com/jupyter/notebook/issues/7626\">(#7626)</a>: <em>Bump the actions group with 2 updates</em> by <strong><a href=\"https://github.com/dependabot[bot]\">@dependabot[bot]</a></strong> merged by <strong><a href=\"https://github.com/jtpio\">@jtpio</a></strong></li>\n<li><a href=\"https://github.com/jupyter/notebook/issues/7627\">(#7627)</a>: <em>Patch handling of singleClickNavigation</em> by <strong><a href=\"https://github.com/jtpio\">@jtpio</a></strong> merged by <strong><a href=\"https://github.com/jtpio\">@jtpio</a></strong></li>\n<li><a href=\"https://github.com/jupyter/notebook/issues/7628\">(#7628)</a>: <em>Drop support for Python 3.8</em> by <strong><a href=\"https://github.com/honnix\">@honnix</a></strong> merged by <strong><a href=\"https://github.com/jtpio\">@jtpio</a></strong></li>\n<li><a href=\"https://github.com/jupyter/notebook/issues/7632\">(#7632)</a>: <em>Bump prefix-dev/setup-pixi from 0.8.4 to 0.8.5 in the actions group</em> by <strong><a href=\"https://github.com/dependabot[bot]\">@dependabot[bot]</a></strong> merged by <strong><a href=\"https://github.com/jtpio\">@jtpio</a></strong></li>\n<li><a href=\"https://github.com/jupyter/notebook/issues/7633\">(#7633)</a>: <em>chore: Fix UP006</em> by <strong><a href=\"https://github.com/honnix\">@honnix</a></strong> merged by <strong><a href=\"https://github.com/jtpio\">@jtpio</a></strong></li>\n<li><a href=\"https://github.com/jupyter/notebook/issues/7637\">(#7637)</a>: <em>Bump prefix-dev/setup-pixi from 0.8.5 to 0.8.8 in the actions group</em> by <strong><a href=\"https://github.com/dependabot[bot]\">@dependabot[bot]</a></strong> merged by <strong><a href=\"https://github.com/jtpio\">@jtpio</a></strong></li>\n<li><a href=\"https://github.com/jupyter/notebook/issues/7638\">(#7638)</a>: <em>Update to JupyterLab v4.4.1</em> by <strong><a href=\"https://github.com/jtpio\">@jtpio</a></strong> merged by <strong><a href=\"https://github.com/jtpio\">@jtpio</a></strong></li>\n<li><a href=\"https://github.com/jupyter/notebook/issues/7639\">(#7639)</a>: <em>Run UI tests on <code>ubuntu-latest</code></em> by <strong><a href=\"https://github.com/jtpio\">@jtpio</a></strong> merged by <strong><a href=\"https://github.com/jtpio\">@jtpio</a></strong></li>\n<li><a href=\"https://github.com/jupyter/notebook/issues/7640\">(#7640)</a>: <em>Backport PR #7639 on branch 7.4.x (Run UI tests on <code>ubuntu-latest</code>)</em> by <strong><a href=\"https://github.com/meeseeksmachine\">@meeseeksmachine</a></strong> merged by <strong><a href=\"https://github.com/jtpio\">@jtpio</a></strong></li>\n<li><a href=\"https://github.com/jupyter/notebook/issues/7641\">(#7641)</a>: <em>Backport PR #7638 on branch 7.4.x (Update to JupyterLab v4.4.1)</em> by <strong><a href=\"https://github.com/meeseeksmachine\">@meeseeksmachine</a></strong> merged by <strong><a href=\"https://github.com/jtpio\">@jtpio</a></strong></li>\n<li><a href=\"https://github.com/jupyter/notebook/issues/7642\">(#7642)</a>: <em>Fix: Update static notebook core script for Ctrl-Z Find and Replace undo (#7504)</em> by <strong><a href=\"https://github.com/honeyreddy30\">@honeyreddy30</a></strong> merged by <strong><a href=\"https://github.com/honeyreddy30\">@honeyreddy30</a></strong></li>\n<li><a href=\"https://github.com/jupyter/notebook/issues/7649\">(#7649)</a>: <em>Update to JupyterLab v4.4.2</em> by <strong><a href=\"https://github.com/jtpio\">@jtpio</a></strong> merged by <strong><a href=\"https://github.com/jtpio\">@jtpio</a></strong></li>\n<li><a href=\"https://github.com/jupyter/notebook/issues/7650\">(#7650)</a>: <em>Update to JupyterLab v4.5.0a0</em> by <strong><a href=\"https://github.com/jtpio\">@jtpio</a></strong> merged by <strong><a href=\"https://github.com/jtpio\">@jtpio</a></strong></li>\n</ul>"
      }
     },
     "2aba44eae3604f389aa6b14a62259eab": {
      "model_module": "@jupyter-widgets/controls",
      "model_module_version": "2.0.0",
      "model_name": "HTMLStyleModel",
      "state": {
       "_model_module": "@jupyter-widgets/controls",
       "_model_module_version": "2.0.0",
       "_model_name": "HTMLStyleModel",
       "_view_count": null,
       "_view_module": "@jupyter-widgets/base",
       "_view_module_version": "2.0.0",
       "_view_name": "StyleView",
       "background": null,
       "description_width": "",
       "font_size": null,
       "text_color": null
      }
     },
     "2b34c166b7174a59ba969becc7a6ef8d": {
      "model_module": "@jupyter-widgets/base",
      "model_module_version": "2.0.0",
      "model_name": "LayoutModel",
      "state": {
       "_model_module": "@jupyter-widgets/base",
       "_model_module_version": "2.0.0",
       "_model_name": "LayoutModel",
       "_view_count": null,
       "_view_module": "@jupyter-widgets/base",
       "_view_module_version": "2.0.0",
       "_view_name": "LayoutView",
       "align_content": null,
       "align_items": null,
       "align_self": null,
       "border_bottom": null,
       "border_left": null,
       "border_right": null,
       "border_top": null,
       "bottom": null,
       "display": null,
       "flex": null,
       "flex_flow": null,
       "grid_area": null,
       "grid_auto_columns": null,
       "grid_auto_flow": null,
       "grid_auto_rows": null,
       "grid_column": null,
       "grid_gap": null,
       "grid_row": null,
       "grid_template_areas": null,
       "grid_template_columns": null,
       "grid_template_rows": null,
       "height": null,
       "justify_content": null,
       "justify_items": null,
       "left": null,
       "margin": null,
       "max_height": null,
       "max_width": null,
       "min_height": null,
       "min_width": null,
       "object_fit": null,
       "object_position": null,
       "order": null,
       "overflow": null,
       "padding": null,
       "right": null,
       "top": null,
       "visibility": null,
       "width": null
      }
     },
     "2d12a60e106f477f813f1ee181ed3f5d": {
      "model_module": "@jupyter-widgets/controls",
      "model_module_version": "2.0.0",
      "model_name": "HTMLModel",
      "state": {
       "_dom_classes": [],
       "_model_module": "@jupyter-widgets/controls",
       "_model_module_version": "2.0.0",
       "_model_name": "HTMLModel",
       "_view_count": null,
       "_view_module": "@jupyter-widgets/controls",
       "_view_module_version": "2.0.0",
       "_view_name": "HTMLView",
       "description": "",
       "description_allow_html": false,
       "layout": "IPY_MODEL_fe140fe40ce44b64a96b64d718ea6a8f",
       "placeholder": "​",
       "style": "IPY_MODEL_4b52f1cc9c1540259f661b130fa86ce2",
       "tabbable": null,
       "tooltip": null,
       "value": "<h5><a href=\"https://github.com/jupyter/nbdime\">jupyter/nbdime</a></h5>\n<ul>\n<li><a href=\"https://github.com/jupyter/nbdime/issues/778\">(#778)</a>: <em><code>nbdime mergetool</code> error: <code>Invalid merge decision action: take_max</code></em> by <strong><a href=\"https://github.com/ryan-williams\">@ryan-williams</a></strong></li>\n<li><a href=\"https://github.com/jupyter/nbdime/issues/553\">(#553)</a>: <em>Support cell IDs</em> by <strong><a href=\"https://github.com/vidartf\">@vidartf</a></strong></li>\n<li><a href=\"https://github.com/jupyter/nbdime/issues/776\">(#776)</a>: <em>nbdiff-web <file-path> inside a git repo shows the spinner</em> by <strong><a href=\"https://github.com/pinchedsquare\">@pinchedsquare</a></strong></li>\n</ul>"
      }
     },
     "2d3677381c5448509f04d516a0567fe6": {
      "model_module": "@jupyter-widgets/base",
      "model_module_version": "2.0.0",
      "model_name": "LayoutModel",
      "state": {
       "_model_module": "@jupyter-widgets/base",
       "_model_module_version": "2.0.0",
       "_model_name": "LayoutModel",
       "_view_count": null,
       "_view_module": "@jupyter-widgets/base",
       "_view_module_version": "2.0.0",
       "_view_name": "LayoutView",
       "align_content": null,
       "align_items": null,
       "align_self": null,
       "border_bottom": null,
       "border_left": null,
       "border_right": null,
       "border_top": null,
       "bottom": null,
       "display": null,
       "flex": null,
       "flex_flow": null,
       "grid_area": null,
       "grid_auto_columns": null,
       "grid_auto_flow": null,
       "grid_auto_rows": null,
       "grid_column": null,
       "grid_gap": null,
       "grid_row": null,
       "grid_template_areas": null,
       "grid_template_columns": null,
       "grid_template_rows": null,
       "height": null,
       "justify_content": null,
       "justify_items": null,
       "left": null,
       "margin": null,
       "max_height": null,
       "max_width": null,
       "min_height": null,
       "min_width": null,
       "object_fit": null,
       "object_position": null,
       "order": null,
       "overflow": null,
       "padding": null,
       "right": null,
       "top": null,
       "visibility": null,
       "width": null
      }
     },
     "2d64626b5ff045579607675ccbd1a0b9": {
      "model_module": "@jupyter-widgets/base",
      "model_module_version": "2.0.0",
      "model_name": "LayoutModel",
      "state": {
       "_model_module": "@jupyter-widgets/base",
       "_model_module_version": "2.0.0",
       "_model_name": "LayoutModel",
       "_view_count": null,
       "_view_module": "@jupyter-widgets/base",
       "_view_module_version": "2.0.0",
       "_view_name": "LayoutView",
       "align_content": null,
       "align_items": null,
       "align_self": null,
       "border_bottom": null,
       "border_left": null,
       "border_right": null,
       "border_top": null,
       "bottom": null,
       "display": null,
       "flex": null,
       "flex_flow": null,
       "grid_area": null,
       "grid_auto_columns": null,
       "grid_auto_flow": null,
       "grid_auto_rows": null,
       "grid_column": null,
       "grid_gap": null,
       "grid_row": null,
       "grid_template_areas": null,
       "grid_template_columns": null,
       "grid_template_rows": null,
       "height": null,
       "justify_content": null,
       "justify_items": null,
       "left": null,
       "margin": null,
       "max_height": null,
       "max_width": null,
       "min_height": null,
       "min_width": null,
       "object_fit": null,
       "object_position": null,
       "order": null,
       "overflow": null,
       "padding": null,
       "right": null,
       "top": null,
       "visibility": null,
       "width": null
      }
     },
     "2e61446769d9496789a1faddf1d1b79e": {
      "model_module": "@jupyter-widgets/controls",
      "model_module_version": "2.0.0",
      "model_name": "HTMLStyleModel",
      "state": {
       "_model_module": "@jupyter-widgets/controls",
       "_model_module_version": "2.0.0",
       "_model_name": "HTMLStyleModel",
       "_view_count": null,
       "_view_module": "@jupyter-widgets/base",
       "_view_module_version": "2.0.0",
       "_view_name": "StyleView",
       "background": null,
       "description_width": "",
       "font_size": null,
       "text_color": null
      }
     },
     "38d9ede26e5345c0b271984a76384ada": {
      "model_module": "@jupyter-widgets/controls",
      "model_module_version": "2.0.0",
      "model_name": "HTMLModel",
      "state": {
       "_dom_classes": [],
       "_model_module": "@jupyter-widgets/controls",
       "_model_module_version": "2.0.0",
       "_model_name": "HTMLModel",
       "_view_count": null,
       "_view_module": "@jupyter-widgets/controls",
       "_view_module_version": "2.0.0",
       "_view_name": "HTMLView",
       "description": "",
       "description_allow_html": false,
       "layout": "IPY_MODEL_a8a4b1fb9b8f43cb9e1a066d559c8764",
       "placeholder": "​",
       "style": "IPY_MODEL_aa819292b4094867b60207d0fcac64d6",
       "tabbable": null,
       "tooltip": null,
       "value": "<h5><a href=\"https://github.com/jupyter/jupyter\">jupyter/jupyter</a></h5>\n<ul>\n<li><a href=\"https://github.com/jupyter/jupyter/issues/761\">(#761)</a>: <em>Let's discuss recent force-pushes</em> by <strong><a href=\"https://github.com/ivanov\">@ivanov</a></strong></li>\n<li><a href=\"https://github.com/jupyter/jupyter/issues/490\">(#490)</a>: <em>Programmatically detect whether the inline backend is available</em> by <strong><a href=\"https://github.com/lukelbd\">@lukelbd</a></strong></li>\n<li><a href=\"https://github.com/jupyter/jupyter/issues/505\">(#505)</a>: <em>Fix \"-m jupyter [console|notebook|...]\" so that it works on Windows</em> by <strong><a href=\"https://github.com/ksamuel\">@ksamuel</a></strong></li>\n<li><a href=\"https://github.com/jupyter/jupyter/issues/715\">(#715)</a>: <em>Broken Urls For Server API Schema</em> by <strong><a href=\"https://github.com/guomanmin\">@guomanmin</a></strong></li>\n<li><a href=\"https://github.com/jupyter/jupyter/issues/755\">(#755)</a>: <em>No minimum Python version specified; Python 3.10 and above supported?</em> by <strong><a href=\"https://github.com/andy-maier\">@andy-maier</a></strong></li>\n</ul>"
      }
     },
     "38f420b3b54f4968b7adc0087b8e7cf3": {
      "model_module": "@jupyter-widgets/base",
      "model_module_version": "2.0.0",
      "model_name": "LayoutModel",
      "state": {
       "_model_module": "@jupyter-widgets/base",
       "_model_module_version": "2.0.0",
       "_model_name": "LayoutModel",
       "_view_count": null,
       "_view_module": "@jupyter-widgets/base",
       "_view_module_version": "2.0.0",
       "_view_name": "LayoutView",
       "align_content": null,
       "align_items": null,
       "align_self": null,
       "border_bottom": null,
       "border_left": null,
       "border_right": null,
       "border_top": null,
       "bottom": null,
       "display": null,
       "flex": null,
       "flex_flow": null,
       "grid_area": null,
       "grid_auto_columns": null,
       "grid_auto_flow": null,
       "grid_auto_rows": null,
       "grid_column": null,
       "grid_gap": null,
       "grid_row": null,
       "grid_template_areas": null,
       "grid_template_columns": null,
       "grid_template_rows": null,
       "height": null,
       "justify_content": null,
       "justify_items": null,
       "left": null,
       "margin": null,
       "max_height": null,
       "max_width": null,
       "min_height": null,
       "min_width": null,
       "object_fit": null,
       "object_position": null,
       "order": null,
       "overflow": null,
       "padding": null,
       "right": null,
       "top": null,
       "visibility": null,
       "width": null
      }
     },
     "39233900363c4901af4d0dd7b6380a6f": {
      "model_module": "@jupyter-widgets/controls",
      "model_module_version": "2.0.0",
      "model_name": "TabModel",
      "state": {
       "_dom_classes": [],
       "_model_module": "@jupyter-widgets/controls",
       "_model_module_version": "2.0.0",
       "_model_name": "TabModel",
       "_view_count": null,
       "_view_module": "@jupyter-widgets/controls",
       "_view_module_version": "2.0.0",
       "_view_name": "TabView",
       "box_style": "",
       "children": [
        "IPY_MODEL_6e8419d8d6f745d39d40a6c5ef2959e5",
        "IPY_MODEL_f1f5474ca9c947de8d8f27d68eeababf",
        "IPY_MODEL_c2f0648c12594946b1f2257455f40439",
        "IPY_MODEL_be2218de793c4d899f5908e68da86d45",
        "IPY_MODEL_4de8eaa9d94148b39854e21c35a8c8f8",
        "IPY_MODEL_cdb64f8a1cb14198a475745c28de9383",
        "IPY_MODEL_a643bef9233a4fb182dbcdd30360f5b7",
        "IPY_MODEL_8dea80e432ef44509565a3865f46601b",
        "IPY_MODEL_24c7b7c6bed147b3833278e307e75d92"
       ],
       "layout": "IPY_MODEL_f233de56775244b1a06edf88f39b0c74",
       "selected_index": 0,
       "tabbable": null,
       "titles": [
        "docker-stacks",
        "governance",
        "jupyter",
        "jupyter.github.io",
        "jupyter_client",
        "jupyter_core",
        "nbgrader",
        "nbviewer",
        "notebook"
       ],
       "tooltip": null
      }
     },
     "3ac992abefc34796aae0df9065b23e99": {
      "model_module": "@jupyter-widgets/controls",
      "model_module_version": "2.0.0",
      "model_name": "HTMLModel",
      "state": {
       "_dom_classes": [],
       "_model_module": "@jupyter-widgets/controls",
       "_model_module_version": "2.0.0",
       "_model_name": "HTMLModel",
       "_view_count": null,
       "_view_module": "@jupyter-widgets/controls",
       "_view_module_version": "2.0.0",
       "_view_name": "HTMLView",
       "description": "",
       "description_allow_html": false,
       "layout": "IPY_MODEL_fb56951451aa45889729f9d2746e0271",
       "placeholder": "​",
       "style": "IPY_MODEL_abaf8d0afca646c6bd59610776efb4dd",
       "tabbable": null,
       "tooltip": null,
       "value": "<h5><a href=\"https://github.com/jupyter/governance\">jupyter/governance</a></h5>\n<ul>\n<li><a href=\"https://github.com/jupyter/governance/issues/257\">(#257)</a>: <em>Use <code>@jupyter.org</code> as the Bluesky handle</em> by <strong><a href=\"https://github.com/jtpio\">@jtpio</a></strong></li>\n<li><a href=\"https://github.com/jupyter/governance/issues/184\">(#184)</a>: <em>Should this repository be renamed and <code>README.md</code> updated?</em> by <strong><a href=\"https://github.com/krassowski\">@krassowski</a></strong></li>\n<li><a href=\"https://github.com/jupyter/governance/issues/258\">(#258)</a>: <em>JMS: what is in jupyterlabworkspace.slack.com and is it maintained?</em> by <strong><a href=\"https://github.com/krassowski\">@krassowski</a></strong></li>\n<li><a href=\"https://github.com/jupyter/governance/issues/262\">(#262)</a>: <em>Give the @executive-council team permissions to change organization social media settings</em> by <strong><a href=\"https://github.com/choldgraf\">@choldgraf</a></strong></li>\n<li><a href=\"https://github.com/jupyter/governance/issues/256\">(#256)</a>: <em>Incubator Process Contains Archived Proposal Location</em> by <strong><a href=\"https://github.com/danyeaw\">@danyeaw</a></strong></li>\n</ul>"
      }
     },
     "40a829f5f12649aa8de04f9a0f8c50e4": {
      "model_module": "@jupyter-widgets/base",
      "model_module_version": "2.0.0",
      "model_name": "LayoutModel",
      "state": {
       "_model_module": "@jupyter-widgets/base",
       "_model_module_version": "2.0.0",
       "_model_name": "LayoutModel",
       "_view_count": null,
       "_view_module": "@jupyter-widgets/base",
       "_view_module_version": "2.0.0",
       "_view_name": "LayoutView",
       "align_content": null,
       "align_items": null,
       "align_self": null,
       "border_bottom": null,
       "border_left": null,
       "border_right": null,
       "border_top": null,
       "bottom": null,
       "display": null,
       "flex": null,
       "flex_flow": null,
       "grid_area": null,
       "grid_auto_columns": null,
       "grid_auto_flow": null,
       "grid_auto_rows": null,
       "grid_column": null,
       "grid_gap": null,
       "grid_row": null,
       "grid_template_areas": null,
       "grid_template_columns": null,
       "grid_template_rows": null,
       "height": null,
       "justify_content": null,
       "justify_items": null,
       "left": null,
       "margin": null,
       "max_height": null,
       "max_width": null,
       "min_height": null,
       "min_width": null,
       "object_fit": null,
       "object_position": null,
       "order": null,
       "overflow": null,
       "padding": null,
       "right": null,
       "top": null,
       "visibility": null,
       "width": null
      }
     },
     "44740c9b95984b52a3712efab0798d13": {
      "model_module": "@jupyter-widgets/controls",
      "model_module_version": "2.0.0",
      "model_name": "HTMLModel",
      "state": {
       "_dom_classes": [],
       "_model_module": "@jupyter-widgets/controls",
       "_model_module_version": "2.0.0",
       "_model_name": "HTMLModel",
       "_view_count": null,
       "_view_module": "@jupyter-widgets/controls",
       "_view_module_version": "2.0.0",
       "_view_name": "HTMLView",
       "description": "",
       "description_allow_html": false,
       "layout": "IPY_MODEL_38f420b3b54f4968b7adc0087b8e7cf3",
       "placeholder": "​",
       "style": "IPY_MODEL_885fe61df82e438792d67699b223ae63",
       "tabbable": null,
       "tooltip": null,
       "value": "<h5><a href=\"https://github.com/jupyter/nbdime\">jupyter/nbdime</a></h5>\n<ul>\n<li><a href=\"https://github.com/jupyter/nbdime/issues/778\">(#778)</a>: <em><code>nbdime mergetool</code> error: <code>Invalid merge decision action: take_max</code></em> by <strong><a href=\"https://github.com/ryan-williams\">@ryan-williams</a></strong></li>\n<li><a href=\"https://github.com/jupyter/nbdime/issues/553\">(#553)</a>: <em>Support cell IDs</em> by <strong><a href=\"https://github.com/vidartf\">@vidartf</a></strong></li>\n<li><a href=\"https://github.com/jupyter/nbdime/issues/776\">(#776)</a>: <em>nbdiff-web <file-path> inside a git repo shows the spinner</em> by <strong><a href=\"https://github.com/pinchedsquare\">@pinchedsquare</a></strong></li>\n</ul>"
      }
     },
     "452c97d668524a6b87936038634d4052": {
      "model_module": "@jupyter-widgets/controls",
      "model_module_version": "2.0.0",
      "model_name": "HTMLStyleModel",
      "state": {
       "_model_module": "@jupyter-widgets/controls",
       "_model_module_version": "2.0.0",
       "_model_name": "HTMLStyleModel",
       "_view_count": null,
       "_view_module": "@jupyter-widgets/base",
       "_view_module_version": "2.0.0",
       "_view_name": "StyleView",
       "background": null,
       "description_width": "",
       "font_size": null,
       "text_color": null
      }
     },
     "47181e4d60304610943261874aebd34c": {
      "model_module": "@jupyter-widgets/controls",
      "model_module_version": "2.0.0",
      "model_name": "HTMLStyleModel",
      "state": {
       "_model_module": "@jupyter-widgets/controls",
       "_model_module_version": "2.0.0",
       "_model_name": "HTMLStyleModel",
       "_view_count": null,
       "_view_module": "@jupyter-widgets/base",
       "_view_module_version": "2.0.0",
       "_view_name": "StyleView",
       "background": null,
       "description_width": "",
       "font_size": null,
       "text_color": null
      }
     },
     "495eac2a7bdf455ea2f99035e8888942": {
      "model_module": "@jupyter-widgets/base",
      "model_module_version": "2.0.0",
      "model_name": "LayoutModel",
      "state": {
       "_model_module": "@jupyter-widgets/base",
       "_model_module_version": "2.0.0",
       "_model_name": "LayoutModel",
       "_view_count": null,
       "_view_module": "@jupyter-widgets/base",
       "_view_module_version": "2.0.0",
       "_view_name": "LayoutView",
       "align_content": null,
       "align_items": null,
       "align_self": null,
       "border_bottom": null,
       "border_left": null,
       "border_right": null,
       "border_top": null,
       "bottom": null,
       "display": null,
       "flex": null,
       "flex_flow": null,
       "grid_area": null,
       "grid_auto_columns": null,
       "grid_auto_flow": null,
       "grid_auto_rows": null,
       "grid_column": null,
       "grid_gap": null,
       "grid_row": null,
       "grid_template_areas": null,
       "grid_template_columns": null,
       "grid_template_rows": null,
       "height": null,
       "justify_content": null,
       "justify_items": null,
       "left": null,
       "margin": null,
       "max_height": null,
       "max_width": null,
       "min_height": null,
       "min_width": null,
       "object_fit": null,
       "object_position": null,
       "order": null,
       "overflow": null,
       "padding": null,
       "right": null,
       "top": null,
       "visibility": null,
       "width": null
      }
     },
     "4b52f1cc9c1540259f661b130fa86ce2": {
      "model_module": "@jupyter-widgets/controls",
      "model_module_version": "2.0.0",
      "model_name": "HTMLStyleModel",
      "state": {
       "_model_module": "@jupyter-widgets/controls",
       "_model_module_version": "2.0.0",
       "_model_name": "HTMLStyleModel",
       "_view_count": null,
       "_view_module": "@jupyter-widgets/base",
       "_view_module_version": "2.0.0",
       "_view_name": "StyleView",
       "background": null,
       "description_width": "",
       "font_size": null,
       "text_color": null
      }
     },
     "4d7555e218374146910d51a92cde77da": {
      "model_module": "@jupyter-widgets/controls",
      "model_module_version": "2.0.0",
      "model_name": "HTMLModel",
      "state": {
       "_dom_classes": [],
       "_model_module": "@jupyter-widgets/controls",
       "_model_module_version": "2.0.0",
       "_model_name": "HTMLModel",
       "_view_count": null,
       "_view_module": "@jupyter-widgets/controls",
       "_view_module_version": "2.0.0",
       "_view_name": "HTMLView",
       "description": "",
       "description_allow_html": false,
       "layout": "IPY_MODEL_0faf52674c3b47a7b13515e0984e46e0",
       "placeholder": "​",
       "style": "IPY_MODEL_74ee11189b6042ca8a7c4e2637b8fa9b",
       "tabbable": null,
       "tooltip": null,
       "value": "<h5><a href=\"https://github.com/jupyter/nbconvert\">jupyter/nbconvert</a></h5>\n<ul>\n<li><a href=\"https://github.com/jupyter/nbconvert/issues/2208\">(#2208)</a>: <em>Long equations from sympy do not wrap</em> by <strong><a href=\"https://github.com/gabemorris12\">@gabemorris12</a></strong></li>\n<li><a href=\"https://github.com/jupyter/nbconvert/issues/2149\">(#2149)</a>: <em>nbconvert for python 3.9 crashing during the templateexporter.py</em> by <strong><a href=\"https://github.com/ale-franc\">@ale-franc</a></strong></li>\n<li><a href=\"https://github.com/jupyter/nbconvert/issues/2189\">(#2189)</a>: <em>not working if jupyter_contrib_nbextensions are installed</em> by <strong><a href=\"https://github.com/hoba87\">@hoba87</a></strong></li>\n<li><a href=\"https://github.com/jupyter/nbconvert/issues/2205\">(#2205)</a>: <em>nbconvert from ipynb to pdf fails with embedded image</em> by <strong><a href=\"https://github.com/Sr-11\">@Sr-11</a></strong></li>\n<li><a href=\"https://github.com/jupyter/nbconvert/issues/2217\">(#2217)</a>: <em>nbconvert inline \\mathbf   ($\\mathbf {x}$) fails to export to PDF</em> by <strong><a href=\"https://github.com/frohro\">@frohro</a></strong></li>\n</ul>"
      }
     },
     "4de8eaa9d94148b39854e21c35a8c8f8": {
      "model_module": "@jupyter-widgets/controls",
      "model_module_version": "2.0.0",
      "model_name": "HTMLModel",
      "state": {
       "_dom_classes": [],
       "_model_module": "@jupyter-widgets/controls",
       "_model_module_version": "2.0.0",
       "_model_name": "HTMLModel",
       "_view_count": null,
       "_view_module": "@jupyter-widgets/controls",
       "_view_module_version": "2.0.0",
       "_view_name": "HTMLView",
       "description": "",
       "description_allow_html": false,
       "layout": "IPY_MODEL_9403ade7b698476f966f1050b71fefa2",
       "placeholder": "​",
       "style": "IPY_MODEL_afa81749662e413b91062a6ddfadbff8",
       "tabbable": null,
       "tooltip": null,
       "value": "<h4>Closed PRs for repo: <a href=\"https://github.com/jupyter/jupyter_client\">jupyter/jupyter_client</a></h4>\n<h5></h5>\n<ul>\n<li><a href=\"https://github.com/jupyter/jupyter_client/issues/1060\">(#1060)</a>: <em>Support date serialization in messages</em> by <strong><a href=\"https://github.com/sebwills\">@sebwills</a></strong> merged by <strong><a href=\"https://github.com/minrk\">@minrk</a></strong></li>\n</ul>"
      }
     },
     "5546850fa84c476e8c2d06ecdaec03f2": {
      "model_module": "@jupyter-widgets/controls",
      "model_module_version": "2.0.0",
      "model_name": "HTMLModel",
      "state": {
       "_dom_classes": [],
       "_model_module": "@jupyter-widgets/controls",
       "_model_module_version": "2.0.0",
       "_model_name": "HTMLModel",
       "_view_count": null,
       "_view_module": "@jupyter-widgets/controls",
       "_view_module_version": "2.0.0",
       "_view_name": "HTMLView",
       "description": "",
       "description_allow_html": false,
       "layout": "IPY_MODEL_ee9b98376ce04996be43f5e77441125d",
       "placeholder": "​",
       "style": "IPY_MODEL_2aba44eae3604f389aa6b14a62259eab",
       "tabbable": null,
       "tooltip": null,
       "value": "<h5><a href=\"https://github.com/jupyter/governance\">jupyter/governance</a></h5>\n<ul>\n<li><a href=\"https://github.com/jupyter/governance/issues/257\">(#257)</a>: <em>Use <code>@jupyter.org</code> as the Bluesky handle</em> by <strong><a href=\"https://github.com/jtpio\">@jtpio</a></strong></li>\n<li><a href=\"https://github.com/jupyter/governance/issues/184\">(#184)</a>: <em>Should this repository be renamed and <code>README.md</code> updated?</em> by <strong><a href=\"https://github.com/krassowski\">@krassowski</a></strong></li>\n<li><a href=\"https://github.com/jupyter/governance/issues/258\">(#258)</a>: <em>JMS: what is in jupyterlabworkspace.slack.com and is it maintained?</em> by <strong><a href=\"https://github.com/krassowski\">@krassowski</a></strong></li>\n<li><a href=\"https://github.com/jupyter/governance/issues/262\">(#262)</a>: <em>Give the @executive-council team permissions to change organization social media settings</em> by <strong><a href=\"https://github.com/choldgraf\">@choldgraf</a></strong></li>\n<li><a href=\"https://github.com/jupyter/governance/issues/256\">(#256)</a>: <em>Incubator Process Contains Archived Proposal Location</em> by <strong><a href=\"https://github.com/danyeaw\">@danyeaw</a></strong></li>\n</ul>"
      }
     },
     "56c68e50a8d549f49bdb9a9c609c7430": {
      "model_module": "@jupyter-widgets/controls",
      "model_module_version": "2.0.0",
      "model_name": "HTMLModel",
      "state": {
       "_dom_classes": [],
       "_model_module": "@jupyter-widgets/controls",
       "_model_module_version": "2.0.0",
       "_model_name": "HTMLModel",
       "_view_count": null,
       "_view_module": "@jupyter-widgets/controls",
       "_view_module_version": "2.0.0",
       "_view_name": "HTMLView",
       "description": "",
       "description_allow_html": false,
       "layout": "IPY_MODEL_6fb1570356f04998857a6e91610c377b",
       "placeholder": "​",
       "style": "IPY_MODEL_9a3cc070383a4f8299f7567bf9395a33",
       "tabbable": null,
       "tooltip": null,
       "value": "<h5><a href=\"https://github.com/jupyter/nbviewer\">jupyter/nbviewer</a></h5>\n<ul>\n<li><a href=\"https://github.com/jupyter/nbviewer/issues/600\">(#600)</a>: <em>Can't visit 'localhost:8080' after running in a docker</em> by <strong><a href=\"https://github.com/taoluo\">@taoluo</a></strong></li>\n<li><a href=\"https://github.com/jupyter/nbviewer/issues/856\">(#856)</a>: <em>GitHub Rate Limit</em> by <strong><a href=\"https://github.com/jakirkham\">@jakirkham</a></strong></li>\n<li><a href=\"https://github.com/jupyter/nbviewer/issues/914\">(#914)</a>: <em>nbviewer does not flush cache</em> by <strong><a href=\"https://github.com/shinokada\">@shinokada</a></strong></li>\n<li><a href=\"https://github.com/jupyter/nbviewer/issues/1064\">(#1064)</a>: <em>404: Not Found Error</em> by <strong><a href=\"https://github.com/jonilynn02\">@jonilynn02</a></strong></li>\n</ul>"
      }
     },
     "5b4a4d66d08a4c84b63bf4b83254b418": {
      "model_module": "@jupyter-widgets/controls",
      "model_module_version": "2.0.0",
      "model_name": "HTMLModel",
      "state": {
       "_dom_classes": [],
       "_model_module": "@jupyter-widgets/controls",
       "_model_module_version": "2.0.0",
       "_model_name": "HTMLModel",
       "_view_count": null,
       "_view_module": "@jupyter-widgets/controls",
       "_view_module_version": "2.0.0",
       "_view_name": "HTMLView",
       "description": "",
       "description_allow_html": false,
       "layout": "IPY_MODEL_d6b812951a564060b2a424254fc65285",
       "placeholder": "​",
       "style": "IPY_MODEL_90e2c5d820d240caae6283085f96fb4f",
       "tabbable": null,
       "tooltip": null,
       "value": "<h5><a href=\"https://github.com/jupyter/docker-stacks\">jupyter/docker-stacks</a></h5>\n<ul>\n<li><a href=\"https://github.com/jupyter/docker-stacks/issues/2229\">(#2229)</a>: <em>Add PyJulia package in julia-notebook and datascience-notebook</em> by <strong><a href=\"https://github.com/i0ntempest\">@i0ntempest</a></strong></li>\n<li><a href=\"https://github.com/jupyter/docker-stacks/issues/2275\">(#2275)</a>: <em>Excessive DNS Queries in JupyterHub Docker Container After Upgrade</em> by <strong><a href=\"https://github.com/cameronj86\">@cameronj86</a></strong></li>\n<li><a href=\"https://github.com/jupyter/docker-stacks/issues/2292\">(#2292)</a>: <em>Support a workflow for extending the base environment in a reproducible fashion</em> by <strong><a href=\"https://github.com/ctcjab\">@ctcjab</a></strong></li>\n<li><a href=\"https://github.com/jupyter/docker-stacks/issues/2250\">(#2250)</a>: <em>i can't use url+token to visit lab page</em> by <strong><a href=\"https://github.com/QuincyWuzefeng\">@QuincyWuzefeng</a></strong></li>\n<li><a href=\"https://github.com/jupyter/docker-stacks/issues/2245\">(#2245)</a>: <em>Mounting path /home/jovyan</em> by <strong><a href=\"https://github.com/jankogasic\">@jankogasic</a></strong></li>\n</ul>"
      }
     },
     "64447eb6702b4a86ba25a37ef21bfc2a": {
      "model_module": "@jupyter-widgets/controls",
      "model_module_version": "2.0.0",
      "model_name": "HTMLStyleModel",
      "state": {
       "_model_module": "@jupyter-widgets/controls",
       "_model_module_version": "2.0.0",
       "_model_name": "HTMLStyleModel",
       "_view_count": null,
       "_view_module": "@jupyter-widgets/base",
       "_view_module_version": "2.0.0",
       "_view_name": "StyleView",
       "background": null,
       "description_width": "",
       "font_size": null,
       "text_color": null
      }
     },
     "66e24445d7484dddb33fd7411f9f66ab": {
      "model_module": "@jupyter-widgets/base",
      "model_module_version": "2.0.0",
      "model_name": "LayoutModel",
      "state": {
       "_model_module": "@jupyter-widgets/base",
       "_model_module_version": "2.0.0",
       "_model_name": "LayoutModel",
       "_view_count": null,
       "_view_module": "@jupyter-widgets/base",
       "_view_module_version": "2.0.0",
       "_view_name": "LayoutView",
       "align_content": null,
       "align_items": null,
       "align_self": null,
       "border_bottom": null,
       "border_left": null,
       "border_right": null,
       "border_top": null,
       "bottom": null,
       "display": null,
       "flex": null,
       "flex_flow": null,
       "grid_area": null,
       "grid_auto_columns": null,
       "grid_auto_flow": null,
       "grid_auto_rows": null,
       "grid_column": null,
       "grid_gap": null,
       "grid_row": null,
       "grid_template_areas": null,
       "grid_template_columns": null,
       "grid_template_rows": null,
       "height": null,
       "justify_content": null,
       "justify_items": null,
       "left": null,
       "margin": null,
       "max_height": null,
       "max_width": null,
       "min_height": null,
       "min_width": null,
       "object_fit": null,
       "object_position": null,
       "order": null,
       "overflow": null,
       "padding": null,
       "right": null,
       "top": null,
       "visibility": null,
       "width": null
      }
     },
     "6e8419d8d6f745d39d40a6c5ef2959e5": {
      "model_module": "@jupyter-widgets/controls",
      "model_module_version": "2.0.0",
      "model_name": "HTMLModel",
      "state": {
       "_dom_classes": [],
       "_model_module": "@jupyter-widgets/controls",
       "_model_module_version": "2.0.0",
       "_model_name": "HTMLModel",
       "_view_count": null,
       "_view_module": "@jupyter-widgets/controls",
       "_view_module_version": "2.0.0",
       "_view_name": "HTMLView",
       "description": "",
       "description_allow_html": false,
       "layout": "IPY_MODEL_dfb05ad9aec1421c990616193e9db6fd",
       "placeholder": "​",
       "style": "IPY_MODEL_8f6467a4caaf4eadbb7a21e636530880",
       "tabbable": null,
       "tooltip": null,
       "value": "<h4>Closed PRs for repo: <a href=\"https://github.com/jupyter/docker-stacks\">jupyter/docker-stacks</a></h4>\n<h5></h5>\n<ul>\n<li><a href=\"https://github.com/jupyter/docker-stacks/issues/2192\">(#2192)</a>: <em>Try to install latest TensorFlow version using <code>mamba</code></em> by <strong><a href=\"https://github.com/mathbunnyru\">@mathbunnyru</a></strong> merged by <strong><a href=\"https://github.com/mathbunnyru\">@mathbunnyru</a></strong></li>\n<li><a href=\"https://github.com/jupyter/docker-stacks/issues/2202\">(#2202)</a>: <em>Use GitHub-hosted aarch64 runners</em> by <strong><a href=\"https://github.com/mathbunnyru\">@mathbunnyru</a></strong> merged by <strong><a href=\"https://github.com/mathbunnyru\">@mathbunnyru</a></strong></li>\n<li><a href=\"https://github.com/jupyter/docker-stacks/issues/2206\">(#2206)</a>: <em>Test server listening on IPv4/IPv6</em> by <strong><a href=\"https://github.com/manics\">@manics</a></strong> merged by <strong><a href=\"https://github.com/manics\">@manics</a></strong></li>\n<li><a href=\"https://github.com/jupyter/docker-stacks/issues/2208\">(#2208)</a>: <em>Surface PYTHON_VERSION as a Makefile variable</em> by <strong><a href=\"https://github.com/mnp\">@mnp</a></strong> merged by <strong><a href=\"https://github.com/mathbunnyru\">@mathbunnyru</a></strong></li>\n<li><a href=\"https://github.com/jupyter/docker-stacks/issues/2209\">(#2209)</a>: <em>Use ubuntu-24.04-arm runners</em> by <strong><a href=\"https://github.com/mathbunnyru\">@mathbunnyru</a></strong> merged by <strong><a href=\"https://github.com/mathbunnyru\">@mathbunnyru</a></strong></li>\n<li><a href=\"https://github.com/jupyter/docker-stacks/issues/2210\">(#2210)</a>: <em>Use ubuntu-24.04 instead of ubuntu-latest</em> by <strong><a href=\"https://github.com/mathbunnyru\">@mathbunnyru</a></strong> merged by <strong><a href=\"https://github.com/mathbunnyru\">@mathbunnyru</a></strong></li>\n<li><a href=\"https://github.com/jupyter/docker-stacks/issues/2211\">(#2211)</a>: <em>Remove information about Docker Hub images from READMEs</em> by <strong><a href=\"https://github.com/mathbunnyru\">@mathbunnyru</a></strong> merged by <strong><a href=\"https://github.com/mathbunnyru\">@mathbunnyru</a></strong></li>\n<li><a href=\"https://github.com/jupyter/docker-stacks/issues/2212\">(#2212)</a>: <em>Build contributed recipes in PRs</em> by <strong><a href=\"https://github.com/mathbunnyru\">@mathbunnyru</a></strong> merged by <strong><a href=\"https://github.com/mathbunnyru\">@mathbunnyru</a></strong></li>\n<li><a href=\"https://github.com/jupyter/docker-stacks/issues/2213\">(#2213)</a>: <em>Enable building contributed recipes in PRs</em> by <strong><a href=\"https://github.com/mathbunnyru\">@mathbunnyru</a></strong> merged by <strong><a href=\"https://github.com/mathbunnyru\">@mathbunnyru</a></strong></li>\n<li><a href=\"https://github.com/jupyter/docker-stacks/issues/2214\">(#2214)</a>: <em>First upload artifacts and then run tests to make sure we can easily …</em> by <strong><a href=\"https://github.com/mathbunnyru\">@mathbunnyru</a></strong> merged by <strong><a href=\"https://github.com/mathbunnyru\">@mathbunnyru</a></strong></li>\n<li><a href=\"https://github.com/jupyter/docker-stacks/issues/2215\">(#2215)</a>: <em>Pin some packages to fix <code>r-notebook</code> and <code>datascience-notebook</code> under aarch64</em> by <strong><a href=\"https://github.com/mathbunnyru\">@mathbunnyru</a></strong> merged by <strong><a href=\"https://github.com/mathbunnyru\">@mathbunnyru</a></strong></li>\n<li><a href=\"https://github.com/jupyter/docker-stacks/issues/2216\">(#2216)</a>: <em>Calculate platform where possible</em> by <strong><a href=\"https://github.com/mathbunnyru\">@mathbunnyru</a></strong> merged by <strong><a href=\"https://github.com/mathbunnyru\">@mathbunnyru</a></strong></li>\n<li><a href=\"https://github.com/jupyter/docker-stacks/issues/2217\">(#2217)</a>: <em>Don't use matrix.image-variant, use 2 separate variables</em> by <strong><a href=\"https://github.com/mathbunnyru\">@mathbunnyru</a></strong> merged by <strong><a href=\"https://github.com/mathbunnyru\">@mathbunnyru</a></strong></li>\n<li><a href=\"https://github.com/jupyter/docker-stacks/issues/2218\">(#2218)</a>: <em>Don't create extra free space in runners for cuda images</em> by <strong><a href=\"https://github.com/mathbunnyru\">@mathbunnyru</a></strong> merged by <strong><a href=\"https://github.com/mathbunnyru\">@mathbunnyru</a></strong></li>\n<li><a href=\"https://github.com/jupyter/docker-stacks/issues/2219\">(#2219)</a>: <em>Simplify and improve test_packages.py</em> by <strong><a href=\"https://github.com/mathbunnyru\">@mathbunnyru</a></strong> merged by <strong><a href=\"https://github.com/mathbunnyru\">@mathbunnyru</a></strong></li>\n<li><a href=\"https://github.com/jupyter/docker-stacks/issues/2220\">(#2220)</a>: <em>Revert \"Pin some packages to fix <code>r-notebook</code> and `datascience-notebo…</em> by <strong><a href=\"https://github.com/mathbunnyru\">@mathbunnyru</a></strong> merged by <strong><a href=\"https://github.com/mathbunnyru\">@mathbunnyru</a></strong></li>\n<li><a href=\"https://github.com/jupyter/docker-stacks/issues/2221\">(#2221)</a>: <em>Improve handling common parser arguments</em> by <strong><a href=\"https://github.com/mathbunnyru\">@mathbunnyru</a></strong> merged by <strong><a href=\"https://github.com/mathbunnyru\">@mathbunnyru</a></strong></li>\n<li><a href=\"https://github.com/jupyter/docker-stacks/issues/2222\">(#2222)</a>: <em>Use Python 3.12 for internal code</em> by <strong><a href=\"https://github.com/mathbunnyru\">@mathbunnyru</a></strong> merged by <strong><a href=\"https://github.com/mathbunnyru\">@mathbunnyru</a></strong></li>\n<li><a href=\"https://github.com/jupyter/docker-stacks/issues/2223\">(#2223)</a>: <em>Wrap long commands in GitHub workflows</em> by <strong><a href=\"https://github.com/mathbunnyru\">@mathbunnyru</a></strong> merged by <strong><a href=\"https://github.com/mathbunnyru\">@mathbunnyru</a></strong></li>\n<li><a href=\"https://github.com/jupyter/docker-stacks/issues/2224\">(#2224)</a>: <em>[FAST_BUILD] Check fast builds still works</em> by <strong><a href=\"https://github.com/mathbunnyru\">@mathbunnyru</a></strong> merged by <strong><a href=\"https://github.com/mathbunnyru\">@mathbunnyru</a></strong></li>\n<li><a href=\"https://github.com/jupyter/docker-stacks/issues/2225\">(#2225)</a>: <em>mkdir parents in update_wiki.py</em> by <strong><a href=\"https://github.com/fbnrst\">@fbnrst</a></strong> merged by <strong><a href=\"https://github.com/mathbunnyru\">@mathbunnyru</a></strong></li>\n<li><a href=\"https://github.com/jupyter/docker-stacks/issues/2226\">(#2226)</a>: <em>Properly generate wiki home page in forks</em> by <strong><a href=\"https://github.com/mathbunnyru\">@mathbunnyru</a></strong> merged by <strong><a href=\"https://github.com/mathbunnyru\">@mathbunnyru</a></strong></li>\n<li><a href=\"https://github.com/jupyter/docker-stacks/issues/2227\">(#2227)</a>: <em>Add timeouts to all GitHub jobs</em> by <strong><a href=\"https://github.com/mathbunnyru\">@mathbunnyru</a></strong> merged by <strong><a href=\"https://github.com/mathbunnyru\">@mathbunnyru</a></strong></li>\n<li><a href=\"https://github.com/jupyter/docker-stacks/issues/2228\">(#2228)</a>: <em>Better tagging directory structure</em> by <strong><a href=\"https://github.com/mathbunnyru\">@mathbunnyru</a></strong> merged by <strong><a href=\"https://github.com/mathbunnyru\">@mathbunnyru</a></strong></li>\n<li><a href=\"https://github.com/jupyter/docker-stacks/issues/2230\">(#2230)</a>: <em>Unify common arguments in tagging/apps</em> by <strong><a href=\"https://github.com/mathbunnyru\">@mathbunnyru</a></strong> merged by <strong><a href=\"https://github.com/mathbunnyru\">@mathbunnyru</a></strong></li>\n<li><a href=\"https://github.com/jupyter/docker-stacks/issues/2231\">(#2231)</a>: <em>Better tests directory structure</em> by <strong><a href=\"https://github.com/mathbunnyru\">@mathbunnyru</a></strong> merged by <strong><a href=\"https://github.com/mathbunnyru\">@mathbunnyru</a></strong></li>\n<li><a href=\"https://github.com/jupyter/docker-stacks/issues/2232\">(#2232)</a>: <em>Add missing dependencies to x86_64-images-tag-push job</em> by <strong><a href=\"https://github.com/mathbunnyru\">@mathbunnyru</a></strong> merged by <strong><a href=\"https://github.com/mathbunnyru\">@mathbunnyru</a></strong></li>\n<li><a href=\"https://github.com/jupyter/docker-stacks/issues/2233\">(#2233)</a>: <em>Fail if test dir doesn't exist</em> by <strong><a href=\"https://github.com/mathbunnyru\">@mathbunnyru</a></strong> merged by <strong><a href=\"https://github.com/mathbunnyru\">@mathbunnyru</a></strong></li>\n<li><a href=\"https://github.com/jupyter/docker-stacks/issues/2234\">(#2234)</a>: <em>Add tagging config to pass params easier</em> by <strong><a href=\"https://github.com/mathbunnyru\">@mathbunnyru</a></strong> merged by <strong><a href=\"https://github.com/mathbunnyru\">@mathbunnyru</a></strong></li>\n<li><a href=\"https://github.com/jupyter/docker-stacks/issues/2235\">(#2235)</a>: <em>Clarify container.remove() behaviour</em> by <strong><a href=\"https://github.com/mathbunnyru\">@mathbunnyru</a></strong> merged by <strong><a href=\"https://github.com/mathbunnyru\">@mathbunnyru</a></strong></li>\n<li><a href=\"https://github.com/jupyter/docker-stacks/issues/2237\">(#2237)</a>: <em>Remove explicit utf-8 from decode() as it's default</em> by <strong><a href=\"https://github.com/mathbunnyru\">@mathbunnyru</a></strong> merged by <strong><a href=\"https://github.com/mathbunnyru\">@mathbunnyru</a></strong></li>\n<li><a href=\"https://github.com/jupyter/docker-stacks/issues/2238\">(#2238)</a>: <em>[FAST_BUILD] Add MarkdownPiece class to make manifest pieces better structured</em> by <strong><a href=\"https://github.com/mathbunnyru\">@mathbunnyru</a></strong> merged by <strong><a href=\"https://github.com/mathbunnyru\">@mathbunnyru</a></strong></li>\n<li><a href=\"https://github.com/jupyter/docker-stacks/issues/2239\">(#2239)</a>: <em>[FAST_BUILD] Refactor tagging: create functions, better logs and names, textwrap.d…</em> by <strong><a href=\"https://github.com/mathbunnyru\">@mathbunnyru</a></strong> merged by <strong><a href=\"https://github.com/mathbunnyru\">@mathbunnyru</a></strong></li>\n<li><a href=\"https://github.com/jupyter/docker-stacks/issues/2240\">(#2240)</a>: <em>[FAST_BUILD] Use default permissions for GitHub workflows</em> by <strong><a href=\"https://github.com/mathbunnyru\">@mathbunnyru</a></strong> merged by <strong><a href=\"https://github.com/mathbunnyru\">@mathbunnyru</a></strong></li>\n<li><a href=\"https://github.com/jupyter/docker-stacks/issues/2241\">(#2241)</a>: <em>Use tabulate in wiki to create better tables</em> by <strong><a href=\"https://github.com/mathbunnyru\">@mathbunnyru</a></strong> merged by <strong><a href=\"https://github.com/mathbunnyru\">@mathbunnyru</a></strong></li>\n<li><a href=\"https://github.com/jupyter/docker-stacks/issues/2242\">(#2242)</a>: <em>[FAST_BUILD] Refactor wiki: create functions, better logs and names</em> by <strong><a href=\"https://github.com/mathbunnyru\">@mathbunnyru</a></strong> merged by <strong><a href=\"https://github.com/mathbunnyru\">@mathbunnyru</a></strong></li>\n<li><a href=\"https://github.com/jupyter/docker-stacks/issues/2243\">(#2243)</a>: <em>test: mamba and micromamba release candidates</em> by <strong><a href=\"https://github.com/jjerphan\">@jjerphan</a></strong> merged by <strong><a href=\"https://github.com/jjerphan\">@jjerphan</a></strong></li>\n<li><a href=\"https://github.com/jupyter/docker-stacks/issues/2244\">(#2244)</a>: <em>docs: Add badge for supported Python versions in <code>README.md</code></em> by <strong><a href=\"https://github.com/jjerphan\">@jjerphan</a></strong> merged by <strong><a href=\"https://github.com/mathbunnyru\">@mathbunnyru</a></strong></li>\n<li><a href=\"https://github.com/jupyter/docker-stacks/issues/2247\">(#2247)</a>: <em>Add pre-commit hooks to check shebangs</em> by <strong><a href=\"https://github.com/mathbunnyru\">@mathbunnyru</a></strong> merged by <strong><a href=\"https://github.com/mathbunnyru\">@mathbunnyru</a></strong></li>\n<li><a href=\"https://github.com/jupyter/docker-stacks/issues/2248\">(#2248)</a>: <em>[pre-commit.ci] pre-commit autoupdate</em> by <strong><a href=\"https://github.com/pre-commit-ci[bot]\">@pre-commit-ci[bot]</a></strong> merged by <strong><a href=\"https://github.com/mathbunnyru\">@mathbunnyru</a></strong></li>\n<li><a href=\"https://github.com/jupyter/docker-stacks/issues/2249\">(#2249)</a>: <em>Do not compress images in <code>actions/upload-artifact</code></em> by <strong><a href=\"https://github.com/mathbunnyru\">@mathbunnyru</a></strong> merged by <strong><a href=\"https://github.com/mathbunnyru\">@mathbunnyru</a></strong></li>\n<li><a href=\"https://github.com/jupyter/docker-stacks/issues/2251\">(#2251)</a>: <em>Add tags for mamba and conda versions</em> by <strong><a href=\"https://github.com/mathbunnyru\">@mathbunnyru</a></strong> merged by <strong><a href=\"https://github.com/mathbunnyru\">@mathbunnyru</a></strong></li>\n<li><a href=\"https://github.com/jupyter/docker-stacks/issues/2252\">(#2252)</a>: <em>Make taggers manifest functions</em> by <strong><a href=\"https://github.com/mathbunnyru\">@mathbunnyru</a></strong> merged by <strong><a href=\"https://github.com/mathbunnyru\">@mathbunnyru</a></strong></li>\n<li><a href=\"https://github.com/jupyter/docker-stacks/issues/2253\">(#2253)</a>: <em>Allow mamba ssl ca store to be set</em> by <strong><a href=\"https://github.com/jabbera\">@jabbera</a></strong> merged by <strong><a href=\"https://github.com/mathbunnyru\">@mathbunnyru</a></strong></li>\n<li><a href=\"https://github.com/jupyter/docker-stacks/issues/2254\">(#2254)</a>: <em>Refactor healthcheck tests to use one function</em> by <strong><a href=\"https://github.com/mathbunnyru\">@mathbunnyru</a></strong> merged by <strong><a href=\"https://github.com/mathbunnyru\">@mathbunnyru</a></strong></li>\n<li><a href=\"https://github.com/jupyter/docker-stacks/issues/2255\">(#2255)</a>: <em>Test server listening on IPv4/IPv6</em> by <strong><a href=\"https://github.com/mathbunnyru\">@mathbunnyru</a></strong> merged by <strong><a href=\"https://github.com/mathbunnyru\">@mathbunnyru</a></strong></li>\n<li><a href=\"https://github.com/jupyter/docker-stacks/issues/2256\">(#2256)</a>: <em>Refactor TrackedContainer run_detached/exec_cmd functions</em> by <strong><a href=\"https://github.com/mathbunnyru\">@mathbunnyru</a></strong> merged by <strong><a href=\"https://github.com/mathbunnyru\">@mathbunnyru</a></strong></li>\n<li><a href=\"https://github.com/jupyter/docker-stacks/issues/2257\">(#2257)</a>: <em>Do not allocate TTY in tests if not needed</em> by <strong><a href=\"https://github.com/mathbunnyru\">@mathbunnyru</a></strong> merged by <strong><a href=\"https://github.com/mathbunnyru\">@mathbunnyru</a></strong></li>\n<li><a href=\"https://github.com/jupyter/docker-stacks/issues/2258\">(#2258)</a>: <em>Flush output in Python before running execvp</em> by <strong><a href=\"https://github.com/mathbunnyru\">@mathbunnyru</a></strong> merged by <strong><a href=\"https://github.com/mathbunnyru\">@mathbunnyru</a></strong></li>\n<li><a href=\"https://github.com/jupyter/docker-stacks/issues/2259\">(#2259)</a>: <em>Create docker-publish.yml</em> by <strong><a href=\"https://github.com/BoomchainLabs\">@BoomchainLabs</a></strong> merged by <strong><a href=\"https://github.com/mathbunnyru\">@mathbunnyru</a></strong></li>\n<li><a href=\"https://github.com/jupyter/docker-stacks/issues/2260\">(#2260)</a>: <em>Use tty for running docker commands by default</em> by <strong><a href=\"https://github.com/mathbunnyru\">@mathbunnyru</a></strong> merged by <strong><a href=\"https://github.com/mathbunnyru\">@mathbunnyru</a></strong></li>\n<li><a href=\"https://github.com/jupyter/docker-stacks/issues/2261\">(#2261)</a>: <em>Improve logs around running docker</em> by <strong><a href=\"https://github.com/mathbunnyru\">@mathbunnyru</a></strong> merged by <strong><a href=\"https://github.com/mathbunnyru\">@mathbunnyru</a></strong></li>\n<li><a href=\"https://github.com/jupyter/docker-stacks/issues/2262\">(#2262)</a>: <em>Use mamba to install jupyter-server-proxy</em> by <strong><a href=\"https://github.com/mathbunnyru\">@mathbunnyru</a></strong> merged by <strong><a href=\"https://github.com/mathbunnyru\">@mathbunnyru</a></strong></li>\n<li><a href=\"https://github.com/jupyter/docker-stacks/issues/2263\">(#2263)</a>: <em>Install latest tensorflow using pip</em> by <strong><a href=\"https://github.com/mathbunnyru\">@mathbunnyru</a></strong> merged by <strong><a href=\"https://github.com/mathbunnyru\">@mathbunnyru</a></strong></li>\n<li><a href=\"https://github.com/jupyter/docker-stacks/issues/2264\">(#2264)</a>: <em>Bump docker/login-action from 3.3.0 to 3.4.0</em> by <strong><a href=\"https://github.com/dependabot[bot]\">@dependabot[bot]</a></strong> merged by <strong><a href=\"https://github.com/mathbunnyru\">@mathbunnyru</a></strong></li>\n<li><a href=\"https://github.com/jupyter/docker-stacks/issues/2265\">(#2265)</a>: <em>Reduce indirection when running docker commands</em> by <strong><a href=\"https://github.com/mathbunnyru\">@mathbunnyru</a></strong> merged by <strong><a href=\"https://github.com/mathbunnyru\">@mathbunnyru</a></strong></li>\n<li><a href=\"https://github.com/jupyter/docker-stacks/issues/2266\">(#2266)</a>: <em>Add check_nbconvert function and run tests for appropriate images</em> by <strong><a href=\"https://github.com/mathbunnyru\">@mathbunnyru</a></strong> merged by <strong><a href=\"https://github.com/mathbunnyru\">@mathbunnyru</a></strong></li>\n<li><a href=\"https://github.com/jupyter/docker-stacks/issues/2267\">(#2267)</a>: <em>Make free_host_port a fixture</em> by <strong><a href=\"https://github.com/mathbunnyru\">@mathbunnyru</a></strong> merged by <strong><a href=\"https://github.com/mathbunnyru\">@mathbunnyru</a></strong></li>\n<li><a href=\"https://github.com/jupyter/docker-stacks/issues/2268\">(#2268)</a>: <em>Try to unmark tests as flaky</em> by <strong><a href=\"https://github.com/mathbunnyru\">@mathbunnyru</a></strong> merged by <strong><a href=\"https://github.com/mathbunnyru\">@mathbunnyru</a></strong></li>\n<li><a href=\"https://github.com/jupyter/docker-stacks/issues/2269\">(#2269)</a>: <em>Cleanup EXCLUDED_PACKAGES list</em> by <strong><a href=\"https://github.com/mathbunnyru\">@mathbunnyru</a></strong> merged by <strong><a href=\"https://github.com/mathbunnyru\">@mathbunnyru</a></strong></li>\n<li><a href=\"https://github.com/jupyter/docker-stacks/issues/2270\">(#2270)</a>: <em>Robust registry operations: adjust timelimit and use retries</em> by <strong><a href=\"https://github.com/mathbunnyru\">@mathbunnyru</a></strong> merged by <strong><a href=\"https://github.com/mathbunnyru\">@mathbunnyru</a></strong></li>\n<li><a href=\"https://github.com/jupyter/docker-stacks/issues/2271\">(#2271)</a>: <em>Do not reset docker state</em> by <strong><a href=\"https://github.com/mathbunnyru\">@mathbunnyru</a></strong> merged by <strong><a href=\"https://github.com/mathbunnyru\">@mathbunnyru</a></strong></li>\n<li><a href=\"https://github.com/jupyter/docker-stacks/issues/2272\">(#2272)</a>: <em>Unify multiline run statements in GitHub Actions steps</em> by <strong><a href=\"https://github.com/mathbunnyru\">@mathbunnyru</a></strong> merged by <strong><a href=\"https://github.com/mathbunnyru\">@mathbunnyru</a></strong></li>\n<li><a href=\"https://github.com/jupyter/docker-stacks/issues/2273\">(#2273)</a>: <em>Only create manifests when images are pushed to registry</em> by <strong><a href=\"https://github.com/mathbunnyru\">@mathbunnyru</a></strong> merged by <strong><a href=\"https://github.com/mathbunnyru\">@mathbunnyru</a></strong></li>\n<li><a href=\"https://github.com/jupyter/docker-stacks/issues/2274\">(#2274)</a>: <em>[FAST_BUILD] Apply and merge tags in the same place</em> by <strong><a href=\"https://github.com/mathbunnyru\">@mathbunnyru</a></strong> merged by <strong><a href=\"https://github.com/mathbunnyru\">@mathbunnyru</a></strong></li>\n<li><a href=\"https://github.com/jupyter/docker-stacks/issues/2276\">(#2276)</a>: <em>Update custom recipes versions</em> by <strong><a href=\"https://github.com/mathbunnyru\">@mathbunnyru</a></strong> merged by <strong><a href=\"https://github.com/mathbunnyru\">@mathbunnyru</a></strong></li>\n<li><a href=\"https://github.com/jupyter/docker-stacks/issues/2277\">(#2277)</a>: <em>Force using keyword-only arguments where types are the same</em> by <strong><a href=\"https://github.com/mathbunnyru\">@mathbunnyru</a></strong> merged by <strong><a href=\"https://github.com/mathbunnyru\">@mathbunnyru</a></strong></li>\n<li><a href=\"https://github.com/jupyter/docker-stacks/issues/2278\">(#2278)</a>: <em>Improve some tests</em> by <strong><a href=\"https://github.com/mathbunnyru\">@mathbunnyru</a></strong> merged by <strong><a href=\"https://github.com/mathbunnyru\">@mathbunnyru</a></strong></li>\n<li><a href=\"https://github.com/jupyter/docker-stacks/issues/2279\">(#2279)</a>: <em>Use pytest-rerunfailures for flaky tests</em> by <strong><a href=\"https://github.com/mathbunnyru\">@mathbunnyru</a></strong> merged by <strong><a href=\"https://github.com/mathbunnyru\">@mathbunnyru</a></strong></li>\n<li><a href=\"https://github.com/jupyter/docker-stacks/issues/2280\">(#2280)</a>: <em>[pre-commit.ci] pre-commit autoupdate</em> by <strong><a href=\"https://github.com/pre-commit-ci[bot]\">@pre-commit-ci[bot]</a></strong> merged by <strong><a href=\"https://github.com/mathbunnyru\">@mathbunnyru</a></strong></li>\n<li><a href=\"https://github.com/jupyter/docker-stacks/issues/2282\">(#2282)</a>: <em>Make docker tag-push depend on contributed recipes in CI</em> by <strong><a href=\"https://github.com/mathbunnyru\">@mathbunnyru</a></strong> merged by <strong><a href=\"https://github.com/mathbunnyru\">@mathbunnyru</a></strong></li>\n<li><a href=\"https://github.com/jupyter/docker-stacks/issues/2283\">(#2283)</a>: <em>Pin libxml2 to avoid ABI breakage</em> by <strong><a href=\"https://github.com/mathbunnyru\">@mathbunnyru</a></strong> merged by <strong><a href=\"https://github.com/mathbunnyru\">@mathbunnyru</a></strong></li>\n<li><a href=\"https://github.com/jupyter/docker-stacks/issues/2284\">(#2284)</a>: <em>Use proper BASE_IMAGE in contributed recipes for forks</em> by <strong><a href=\"https://github.com/mathbunnyru\">@mathbunnyru</a></strong> merged by <strong><a href=\"https://github.com/mathbunnyru\">@mathbunnyru</a></strong></li>\n<li><a href=\"https://github.com/jupyter/docker-stacks/issues/2285\">(#2285)</a>: <em>Use tenacity.retry for merge_tags</em> by <strong><a href=\"https://github.com/mathbunnyru\">@mathbunnyru</a></strong> merged by <strong><a href=\"https://github.com/mathbunnyru\">@mathbunnyru</a></strong></li>\n<li><a href=\"https://github.com/jupyter/docker-stacks/issues/2286\">(#2286)</a>: <em>Retry login operation in docker-tag-push.yml</em> by <strong><a href=\"https://github.com/mathbunnyru\">@mathbunnyru</a></strong> merged by <strong><a href=\"https://github.com/mathbunnyru\">@mathbunnyru</a></strong></li>\n<li><a href=\"https://github.com/jupyter/docker-stacks/issues/2287\">(#2287)</a>: <em>Bump stefanzweifel/git-auto-commit-action from 5.1.0 to 5.2.0</em> by <strong><a href=\"https://github.com/dependabot[bot]\">@dependabot[bot]</a></strong> merged by <strong><a href=\"https://github.com/mathbunnyru\">@mathbunnyru</a></strong></li>\n<li><a href=\"https://github.com/jupyter/docker-stacks/issues/2288\">(#2288)</a>: <em>Upgrade CUDA version used in PyTorch cuda12-variant to 12.8</em> by <strong><a href=\"https://github.com/twalcari\">@twalcari</a></strong> merged by <strong><a href=\"https://github.com/mathbunnyru\">@mathbunnyru</a></strong></li>\n<li><a href=\"https://github.com/jupyter/docker-stacks/issues/2289\">(#2289)</a>: <em>Freeze pre-commit hooks</em> by <strong><a href=\"https://github.com/mathbunnyru\">@mathbunnyru</a></strong> merged by <strong><a href=\"https://github.com/mathbunnyru\">@mathbunnyru</a></strong></li>\n<li><a href=\"https://github.com/jupyter/docker-stacks/issues/2290\">(#2290)</a>: <em>Improve pytorch unit test</em> by <strong><a href=\"https://github.com/mathbunnyru\">@mathbunnyru</a></strong> merged by <strong><a href=\"https://github.com/mathbunnyru\">@mathbunnyru</a></strong></li>\n<li><a href=\"https://github.com/jupyter/docker-stacks/issues/2291\">(#2291)</a>: <em>Upgrade CUDA version used in PyTorch cuda12-variant to 12.6</em> by <strong><a href=\"https://github.com/mathbunnyru\">@mathbunnyru</a></strong> merged by <strong><a href=\"https://github.com/mathbunnyru\">@mathbunnyru</a></strong></li>\n<li><a href=\"https://github.com/jupyter/docker-stacks/issues/2293\">(#2293)</a>: <em>log hook messages to stderr</em> by <strong><a href=\"https://github.com/minrk\">@minrk</a></strong> merged by <strong><a href=\"https://github.com/mathbunnyru\">@mathbunnyru</a></strong></li>\n<li><a href=\"https://github.com/jupyter/docker-stacks/issues/2294\">(#2294)</a>: <em>[pre-commit.ci] pre-commit autoupdate</em> by <strong><a href=\"https://github.com/pre-commit-ci[bot]\">@pre-commit-ci[bot]</a></strong> merged by <strong><a href=\"https://github.com/mathbunnyru\">@mathbunnyru</a></strong></li>\n</ul>"
      }
     },
     "6fb1570356f04998857a6e91610c377b": {
      "model_module": "@jupyter-widgets/base",
      "model_module_version": "2.0.0",
      "model_name": "LayoutModel",
      "state": {
       "_model_module": "@jupyter-widgets/base",
       "_model_module_version": "2.0.0",
       "_model_name": "LayoutModel",
       "_view_count": null,
       "_view_module": "@jupyter-widgets/base",
       "_view_module_version": "2.0.0",
       "_view_name": "LayoutView",
       "align_content": null,
       "align_items": null,
       "align_self": null,
       "border_bottom": null,
       "border_left": null,
       "border_right": null,
       "border_top": null,
       "bottom": null,
       "display": null,
       "flex": null,
       "flex_flow": null,
       "grid_area": null,
       "grid_auto_columns": null,
       "grid_auto_flow": null,
       "grid_auto_rows": null,
       "grid_column": null,
       "grid_gap": null,
       "grid_row": null,
       "grid_template_areas": null,
       "grid_template_columns": null,
       "grid_template_rows": null,
       "height": null,
       "justify_content": null,
       "justify_items": null,
       "left": null,
       "margin": null,
       "max_height": null,
       "max_width": null,
       "min_height": null,
       "min_width": null,
       "object_fit": null,
       "object_position": null,
       "order": null,
       "overflow": null,
       "padding": null,
       "right": null,
       "top": null,
       "visibility": null,
       "width": null
      }
     },
     "74ee11189b6042ca8a7c4e2637b8fa9b": {
      "model_module": "@jupyter-widgets/controls",
      "model_module_version": "2.0.0",
      "model_name": "HTMLStyleModel",
      "state": {
       "_model_module": "@jupyter-widgets/controls",
       "_model_module_version": "2.0.0",
       "_model_name": "HTMLStyleModel",
       "_view_count": null,
       "_view_module": "@jupyter-widgets/base",
       "_view_module_version": "2.0.0",
       "_view_name": "StyleView",
       "background": null,
       "description_width": "",
       "font_size": null,
       "text_color": null
      }
     },
     "7a0546a93691420f9971a85c9589828b": {
      "model_module": "@jupyter-widgets/controls",
      "model_module_version": "2.0.0",
      "model_name": "HTMLModel",
      "state": {
       "_dom_classes": [],
       "_model_module": "@jupyter-widgets/controls",
       "_model_module_version": "2.0.0",
       "_model_name": "HTMLModel",
       "_view_count": null,
       "_view_module": "@jupyter-widgets/controls",
       "_view_module_version": "2.0.0",
       "_view_name": "HTMLView",
       "description": "",
       "description_allow_html": false,
       "layout": "IPY_MODEL_a7f544adaa6e4cb799ac20fdba025208",
       "placeholder": "​",
       "style": "IPY_MODEL_f7900df924724a8b8bc4f904099077c9",
       "tabbable": null,
       "tooltip": null,
       "value": "<h5><a href=\"https://github.com/jupyter/nbviewer\">jupyter/nbviewer</a></h5>\n<ul>\n<li><a href=\"https://github.com/jupyter/nbviewer/issues/600\">(#600)</a>: <em>Can't visit 'localhost:8080' after running in a docker</em> by <strong><a href=\"https://github.com/taoluo\">@taoluo</a></strong></li>\n<li><a href=\"https://github.com/jupyter/nbviewer/issues/856\">(#856)</a>: <em>GitHub Rate Limit</em> by <strong><a href=\"https://github.com/jakirkham\">@jakirkham</a></strong></li>\n<li><a href=\"https://github.com/jupyter/nbviewer/issues/914\">(#914)</a>: <em>nbviewer does not flush cache</em> by <strong><a href=\"https://github.com/shinokada\">@shinokada</a></strong></li>\n<li><a href=\"https://github.com/jupyter/nbviewer/issues/1064\">(#1064)</a>: <em>404: Not Found Error</em> by <strong><a href=\"https://github.com/jonilynn02\">@jonilynn02</a></strong></li>\n</ul>"
      }
     },
     "7a9a589805c34c17a02e5e3f8e8e5407": {
      "model_module": "@jupyter-widgets/controls",
      "model_module_version": "2.0.0",
      "model_name": "HTMLStyleModel",
      "state": {
       "_model_module": "@jupyter-widgets/controls",
       "_model_module_version": "2.0.0",
       "_model_name": "HTMLStyleModel",
       "_view_count": null,
       "_view_module": "@jupyter-widgets/base",
       "_view_module_version": "2.0.0",
       "_view_name": "StyleView",
       "background": null,
       "description_width": "",
       "font_size": null,
       "text_color": null
      }
     },
     "7f345237848a42c4a9808adb88b69754": {
      "model_module": "@jupyter-widgets/base",
      "model_module_version": "2.0.0",
      "model_name": "LayoutModel",
      "state": {
       "_model_module": "@jupyter-widgets/base",
       "_model_module_version": "2.0.0",
       "_model_name": "LayoutModel",
       "_view_count": null,
       "_view_module": "@jupyter-widgets/base",
       "_view_module_version": "2.0.0",
       "_view_name": "LayoutView",
       "align_content": null,
       "align_items": null,
       "align_self": null,
       "border_bottom": null,
       "border_left": null,
       "border_right": null,
       "border_top": null,
       "bottom": null,
       "display": null,
       "flex": null,
       "flex_flow": null,
       "grid_area": null,
       "grid_auto_columns": null,
       "grid_auto_flow": null,
       "grid_auto_rows": null,
       "grid_column": null,
       "grid_gap": null,
       "grid_row": null,
       "grid_template_areas": null,
       "grid_template_columns": null,
       "grid_template_rows": null,
       "height": null,
       "justify_content": null,
       "justify_items": null,
       "left": null,
       "margin": null,
       "max_height": null,
       "max_width": null,
       "min_height": null,
       "min_width": null,
       "object_fit": null,
       "object_position": null,
       "order": null,
       "overflow": null,
       "padding": null,
       "right": null,
       "top": null,
       "visibility": null,
       "width": null
      }
     },
     "885fe61df82e438792d67699b223ae63": {
      "model_module": "@jupyter-widgets/controls",
      "model_module_version": "2.0.0",
      "model_name": "HTMLStyleModel",
      "state": {
       "_model_module": "@jupyter-widgets/controls",
       "_model_module_version": "2.0.0",
       "_model_name": "HTMLStyleModel",
       "_view_count": null,
       "_view_module": "@jupyter-widgets/base",
       "_view_module_version": "2.0.0",
       "_view_name": "StyleView",
       "background": null,
       "description_width": "",
       "font_size": null,
       "text_color": null
      }
     },
     "8dea80e432ef44509565a3865f46601b": {
      "model_module": "@jupyter-widgets/controls",
      "model_module_version": "2.0.0",
      "model_name": "HTMLModel",
      "state": {
       "_dom_classes": [],
       "_model_module": "@jupyter-widgets/controls",
       "_model_module_version": "2.0.0",
       "_model_name": "HTMLModel",
       "_view_count": null,
       "_view_module": "@jupyter-widgets/controls",
       "_view_module_version": "2.0.0",
       "_view_name": "HTMLView",
       "description": "",
       "description_allow_html": false,
       "layout": "IPY_MODEL_2d64626b5ff045579607675ccbd1a0b9",
       "placeholder": "​",
       "style": "IPY_MODEL_1cf615e353f44cada1bb159b2e5c7e7c",
       "tabbable": null,
       "tooltip": null,
       "value": "<h4>Closed PRs for repo: <a href=\"https://github.com/jupyter/nbviewer\">jupyter/nbviewer</a></h4>\n<h5></h5>\n<ul>\n<li><a href=\"https://github.com/jupyter/nbviewer/issues/1072\">(#1072)</a>: <em>Create cr</em> by <strong><a href=\"https://github.com/Diyatuli04\">@Diyatuli04</a></strong> merged by <strong><a href=\"https://github.com/bollwyvl\">@bollwyvl</a></strong></li>\n</ul>"
      }
     },
     "8f6467a4caaf4eadbb7a21e636530880": {
      "model_module": "@jupyter-widgets/controls",
      "model_module_version": "2.0.0",
      "model_name": "HTMLStyleModel",
      "state": {
       "_model_module": "@jupyter-widgets/controls",
       "_model_module_version": "2.0.0",
       "_model_name": "HTMLStyleModel",
       "_view_count": null,
       "_view_module": "@jupyter-widgets/base",
       "_view_module_version": "2.0.0",
       "_view_name": "StyleView",
       "background": null,
       "description_width": "",
       "font_size": null,
       "text_color": null
      }
     },
     "8fbd6311473b445a8a4d0f05369ec264": {
      "model_module": "@jupyter-widgets/controls",
      "model_module_version": "2.0.0",
      "model_name": "HTMLStyleModel",
      "state": {
       "_model_module": "@jupyter-widgets/controls",
       "_model_module_version": "2.0.0",
       "_model_name": "HTMLStyleModel",
       "_view_count": null,
       "_view_module": "@jupyter-widgets/base",
       "_view_module_version": "2.0.0",
       "_view_name": "StyleView",
       "background": null,
       "description_width": "",
       "font_size": null,
       "text_color": null
      }
     },
     "90e2c5d820d240caae6283085f96fb4f": {
      "model_module": "@jupyter-widgets/controls",
      "model_module_version": "2.0.0",
      "model_name": "HTMLStyleModel",
      "state": {
       "_model_module": "@jupyter-widgets/controls",
       "_model_module_version": "2.0.0",
       "_model_name": "HTMLStyleModel",
       "_view_count": null,
       "_view_module": "@jupyter-widgets/base",
       "_view_module_version": "2.0.0",
       "_view_name": "StyleView",
       "background": null,
       "description_width": "",
       "font_size": null,
       "text_color": null
      }
     },
     "9403ade7b698476f966f1050b71fefa2": {
      "model_module": "@jupyter-widgets/base",
      "model_module_version": "2.0.0",
      "model_name": "LayoutModel",
      "state": {
       "_model_module": "@jupyter-widgets/base",
       "_model_module_version": "2.0.0",
       "_model_name": "LayoutModel",
       "_view_count": null,
       "_view_module": "@jupyter-widgets/base",
       "_view_module_version": "2.0.0",
       "_view_name": "LayoutView",
       "align_content": null,
       "align_items": null,
       "align_self": null,
       "border_bottom": null,
       "border_left": null,
       "border_right": null,
       "border_top": null,
       "bottom": null,
       "display": null,
       "flex": null,
       "flex_flow": null,
       "grid_area": null,
       "grid_auto_columns": null,
       "grid_auto_flow": null,
       "grid_auto_rows": null,
       "grid_column": null,
       "grid_gap": null,
       "grid_row": null,
       "grid_template_areas": null,
       "grid_template_columns": null,
       "grid_template_rows": null,
       "height": null,
       "justify_content": null,
       "justify_items": null,
       "left": null,
       "margin": null,
       "max_height": null,
       "max_width": null,
       "min_height": null,
       "min_width": null,
       "object_fit": null,
       "object_position": null,
       "order": null,
       "overflow": null,
       "padding": null,
       "right": null,
       "top": null,
       "visibility": null,
       "width": null
      }
     },
     "94bb0e68728a4e69bfebdebf9f6b31cd": {
      "model_module": "@jupyter-widgets/base",
      "model_module_version": "2.0.0",
      "model_name": "LayoutModel",
      "state": {
       "_model_module": "@jupyter-widgets/base",
       "_model_module_version": "2.0.0",
       "_model_name": "LayoutModel",
       "_view_count": null,
       "_view_module": "@jupyter-widgets/base",
       "_view_module_version": "2.0.0",
       "_view_name": "LayoutView",
       "align_content": null,
       "align_items": null,
       "align_self": null,
       "border_bottom": null,
       "border_left": null,
       "border_right": null,
       "border_top": null,
       "bottom": null,
       "display": null,
       "flex": null,
       "flex_flow": null,
       "grid_area": null,
       "grid_auto_columns": null,
       "grid_auto_flow": null,
       "grid_auto_rows": null,
       "grid_column": null,
       "grid_gap": null,
       "grid_row": null,
       "grid_template_areas": null,
       "grid_template_columns": null,
       "grid_template_rows": null,
       "height": null,
       "justify_content": null,
       "justify_items": null,
       "left": null,
       "margin": null,
       "max_height": null,
       "max_width": null,
       "min_height": null,
       "min_width": null,
       "object_fit": null,
       "object_position": null,
       "order": null,
       "overflow": null,
       "padding": null,
       "right": null,
       "top": null,
       "visibility": null,
       "width": null
      }
     },
     "9a3cc070383a4f8299f7567bf9395a33": {
      "model_module": "@jupyter-widgets/controls",
      "model_module_version": "2.0.0",
      "model_name": "HTMLStyleModel",
      "state": {
       "_model_module": "@jupyter-widgets/controls",
       "_model_module_version": "2.0.0",
       "_model_name": "HTMLStyleModel",
       "_view_count": null,
       "_view_module": "@jupyter-widgets/base",
       "_view_module_version": "2.0.0",
       "_view_name": "StyleView",
       "background": null,
       "description_width": "",
       "font_size": null,
       "text_color": null
      }
     },
     "a056deed41924a85aba108a0a2cf14ba": {
      "model_module": "@jupyter-widgets/controls",
      "model_module_version": "2.0.0",
      "model_name": "HTMLStyleModel",
      "state": {
       "_model_module": "@jupyter-widgets/controls",
       "_model_module_version": "2.0.0",
       "_model_name": "HTMLStyleModel",
       "_view_count": null,
       "_view_module": "@jupyter-widgets/base",
       "_view_module_version": "2.0.0",
       "_view_name": "StyleView",
       "background": null,
       "description_width": "",
       "font_size": null,
       "text_color": null
      }
     },
     "a16a9bcc720741f794a701d4995bc59c": {
      "model_module": "@jupyter-widgets/controls",
      "model_module_version": "2.0.0",
      "model_name": "HTMLStyleModel",
      "state": {
       "_model_module": "@jupyter-widgets/controls",
       "_model_module_version": "2.0.0",
       "_model_name": "HTMLStyleModel",
       "_view_count": null,
       "_view_module": "@jupyter-widgets/base",
       "_view_module_version": "2.0.0",
       "_view_name": "StyleView",
       "background": null,
       "description_width": "",
       "font_size": null,
       "text_color": null
      }
     },
     "a643bef9233a4fb182dbcdd30360f5b7": {
      "model_module": "@jupyter-widgets/controls",
      "model_module_version": "2.0.0",
      "model_name": "HTMLModel",
      "state": {
       "_dom_classes": [],
       "_model_module": "@jupyter-widgets/controls",
       "_model_module_version": "2.0.0",
       "_model_name": "HTMLModel",
       "_view_count": null,
       "_view_module": "@jupyter-widgets/controls",
       "_view_module_version": "2.0.0",
       "_view_name": "HTMLView",
       "description": "",
       "description_allow_html": false,
       "layout": "IPY_MODEL_163d2bf7eb1c4d17ab3b2fa7de45c02c",
       "placeholder": "​",
       "style": "IPY_MODEL_d203d6e452494a148dc53a4fa261a6ec",
       "tabbable": null,
       "tooltip": null,
       "value": "<h4>Closed PRs for repo: <a href=\"https://github.com/jupyter/nbgrader\">jupyter/nbgrader</a></h4>\n<h5></h5>\n<ul>\n<li><a href=\"https://github.com/jupyter/nbgrader/issues/1959\">(#1959)</a>: <em>Bump vega from 5.30.0 to 5.33.0</em> by <strong><a href=\"https://github.com/dependabot[bot]\">@dependabot[bot]</a></strong> merged by <strong><a href=\"https://github.com/brichet\">@brichet</a></strong></li>\n<li><a href=\"https://github.com/jupyter/nbgrader/issues/1962\">(#1962)</a>: <em>fix: Allow null kernelspec in OverwriteKernelspec</em> by <strong><a href=\"https://github.com/shreve\">@shreve</a></strong> merged by <strong><a href=\"https://github.com/brichet\">@brichet</a></strong></li>\n<li><a href=\"https://github.com/jupyter/nbgrader/issues/1963\">(#1963)</a>: <em>Resolve warnings in SQLAlchemy field defs</em> by <strong><a href=\"https://github.com/shreve\">@shreve</a></strong> merged by <strong><a href=\"https://github.com/brichet\">@brichet</a></strong></li>\n<li><a href=\"https://github.com/jupyter/nbgrader/issues/1964\">(#1964)</a>: <em>fix: Use cross-platform shortcuts in ui-tests</em> by <strong><a href=\"https://github.com/shreve\">@shreve</a></strong> merged by <strong><a href=\"https://github.com/brichet\">@brichet</a></strong></li>\n</ul>"
      }
     },
     "a7f544adaa6e4cb799ac20fdba025208": {
      "model_module": "@jupyter-widgets/base",
      "model_module_version": "2.0.0",
      "model_name": "LayoutModel",
      "state": {
       "_model_module": "@jupyter-widgets/base",
       "_model_module_version": "2.0.0",
       "_model_name": "LayoutModel",
       "_view_count": null,
       "_view_module": "@jupyter-widgets/base",
       "_view_module_version": "2.0.0",
       "_view_name": "LayoutView",
       "align_content": null,
       "align_items": null,
       "align_self": null,
       "border_bottom": null,
       "border_left": null,
       "border_right": null,
       "border_top": null,
       "bottom": null,
       "display": null,
       "flex": null,
       "flex_flow": null,
       "grid_area": null,
       "grid_auto_columns": null,
       "grid_auto_flow": null,
       "grid_auto_rows": null,
       "grid_column": null,
       "grid_gap": null,
       "grid_row": null,
       "grid_template_areas": null,
       "grid_template_columns": null,
       "grid_template_rows": null,
       "height": null,
       "justify_content": null,
       "justify_items": null,
       "left": null,
       "margin": null,
       "max_height": null,
       "max_width": null,
       "min_height": null,
       "min_width": null,
       "object_fit": null,
       "object_position": null,
       "order": null,
       "overflow": null,
       "padding": null,
       "right": null,
       "top": null,
       "visibility": null,
       "width": null
      }
     },
     "a8a4b1fb9b8f43cb9e1a066d559c8764": {
      "model_module": "@jupyter-widgets/base",
      "model_module_version": "2.0.0",
      "model_name": "LayoutModel",
      "state": {
       "_model_module": "@jupyter-widgets/base",
       "_model_module_version": "2.0.0",
       "_model_name": "LayoutModel",
       "_view_count": null,
       "_view_module": "@jupyter-widgets/base",
       "_view_module_version": "2.0.0",
       "_view_name": "LayoutView",
       "align_content": null,
       "align_items": null,
       "align_self": null,
       "border_bottom": null,
       "border_left": null,
       "border_right": null,
       "border_top": null,
       "bottom": null,
       "display": null,
       "flex": null,
       "flex_flow": null,
       "grid_area": null,
       "grid_auto_columns": null,
       "grid_auto_flow": null,
       "grid_auto_rows": null,
       "grid_column": null,
       "grid_gap": null,
       "grid_row": null,
       "grid_template_areas": null,
       "grid_template_columns": null,
       "grid_template_rows": null,
       "height": null,
       "justify_content": null,
       "justify_items": null,
       "left": null,
       "margin": null,
       "max_height": null,
       "max_width": null,
       "min_height": null,
       "min_width": null,
       "object_fit": null,
       "object_position": null,
       "order": null,
       "overflow": null,
       "padding": null,
       "right": null,
       "top": null,
       "visibility": null,
       "width": null
      }
     },
     "aa71d658914747a9ba8acbe0cb89e2f8": {
      "model_module": "@jupyter-widgets/controls",
      "model_module_version": "2.0.0",
      "model_name": "HTMLModel",
      "state": {
       "_dom_classes": [],
       "_model_module": "@jupyter-widgets/controls",
       "_model_module_version": "2.0.0",
       "_model_name": "HTMLModel",
       "_view_count": null,
       "_view_module": "@jupyter-widgets/controls",
       "_view_module_version": "2.0.0",
       "_view_name": "HTMLView",
       "description": "",
       "description_allow_html": false,
       "layout": "IPY_MODEL_66e24445d7484dddb33fd7411f9f66ab",
       "placeholder": "​",
       "style": "IPY_MODEL_e46723af645642f5a33f857b9f6155b5",
       "tabbable": null,
       "tooltip": null,
       "value": "<h5><a href=\"https://github.com/jupyter/jupyter.github.io\">jupyter/jupyter.github.io</a></h5>\n<ul>\n<li><a href=\"https://github.com/jupyter/jupyter.github.io/issues/791\">(#791)</a>: <em>Lower the threshold for Lighthouse accessibility</em> by <strong><a href=\"https://github.com/choldgraf\">@choldgraf</a></strong></li>\n<li><a href=\"https://github.com/jupyter/jupyter.github.io/issues/720\">(#720)</a>: <em>Widgets page is broken?</em> by <strong><a href=\"https://github.com/filonik-tud\">@filonik-tud</a></strong></li>\n</ul>"
      }
     },
     "aa819292b4094867b60207d0fcac64d6": {
      "model_module": "@jupyter-widgets/controls",
      "model_module_version": "2.0.0",
      "model_name": "HTMLStyleModel",
      "state": {
       "_model_module": "@jupyter-widgets/controls",
       "_model_module_version": "2.0.0",
       "_model_name": "HTMLStyleModel",
       "_view_count": null,
       "_view_module": "@jupyter-widgets/base",
       "_view_module_version": "2.0.0",
       "_view_name": "StyleView",
       "background": null,
       "description_width": "",
       "font_size": null,
       "text_color": null
      }
     },
     "abaf8d0afca646c6bd59610776efb4dd": {
      "model_module": "@jupyter-widgets/controls",
      "model_module_version": "2.0.0",
      "model_name": "HTMLStyleModel",
      "state": {
       "_model_module": "@jupyter-widgets/controls",
       "_model_module_version": "2.0.0",
       "_model_name": "HTMLStyleModel",
       "_view_count": null,
       "_view_module": "@jupyter-widgets/base",
       "_view_module_version": "2.0.0",
       "_view_name": "StyleView",
       "background": null,
       "description_width": "",
       "font_size": null,
       "text_color": null
      }
     },
     "ac832a0565f84e5d9bcfc610ed7ee5e2": {
      "model_module": "@jupyter-widgets/controls",
      "model_module_version": "2.0.0",
      "model_name": "HTMLStyleModel",
      "state": {
       "_model_module": "@jupyter-widgets/controls",
       "_model_module_version": "2.0.0",
       "_model_name": "HTMLStyleModel",
       "_view_count": null,
       "_view_module": "@jupyter-widgets/base",
       "_view_module_version": "2.0.0",
       "_view_name": "StyleView",
       "background": null,
       "description_width": "",
       "font_size": null,
       "text_color": null
      }
     },
     "af89f62c483e4446926f44367696e4cc": {
      "model_module": "@jupyter-widgets/controls",
      "model_module_version": "2.0.0",
      "model_name": "HTMLStyleModel",
      "state": {
       "_model_module": "@jupyter-widgets/controls",
       "_model_module_version": "2.0.0",
       "_model_name": "HTMLStyleModel",
       "_view_count": null,
       "_view_module": "@jupyter-widgets/base",
       "_view_module_version": "2.0.0",
       "_view_name": "StyleView",
       "background": null,
       "description_width": "",
       "font_size": null,
       "text_color": null
      }
     },
     "afa81749662e413b91062a6ddfadbff8": {
      "model_module": "@jupyter-widgets/controls",
      "model_module_version": "2.0.0",
      "model_name": "HTMLStyleModel",
      "state": {
       "_model_module": "@jupyter-widgets/controls",
       "_model_module_version": "2.0.0",
       "_model_name": "HTMLStyleModel",
       "_view_count": null,
       "_view_module": "@jupyter-widgets/base",
       "_view_module_version": "2.0.0",
       "_view_name": "StyleView",
       "background": null,
       "description_width": "",
       "font_size": null,
       "text_color": null
      }
     },
     "b3c5e25ab9824f7f820e0769b002a0ab": {
      "model_module": "@jupyter-widgets/controls",
      "model_module_version": "2.0.0",
      "model_name": "HTMLStyleModel",
      "state": {
       "_model_module": "@jupyter-widgets/controls",
       "_model_module_version": "2.0.0",
       "_model_name": "HTMLStyleModel",
       "_view_count": null,
       "_view_module": "@jupyter-widgets/base",
       "_view_module_version": "2.0.0",
       "_view_name": "StyleView",
       "background": null,
       "description_width": "",
       "font_size": null,
       "text_color": null
      }
     },
     "be2218de793c4d899f5908e68da86d45": {
      "model_module": "@jupyter-widgets/controls",
      "model_module_version": "2.0.0",
      "model_name": "HTMLModel",
      "state": {
       "_dom_classes": [],
       "_model_module": "@jupyter-widgets/controls",
       "_model_module_version": "2.0.0",
       "_model_name": "HTMLModel",
       "_view_count": null,
       "_view_module": "@jupyter-widgets/controls",
       "_view_module_version": "2.0.0",
       "_view_name": "HTMLView",
       "description": "",
       "description_allow_html": false,
       "layout": "IPY_MODEL_e45386bdf1d54c87a4a77d080cf5480b",
       "placeholder": "​",
       "style": "IPY_MODEL_452c97d668524a6b87936038634d4052",
       "tabbable": null,
       "tooltip": null,
       "value": "<h4>Closed PRs for repo: <a href=\"https://github.com/jupyter/jupyter.github.io\">jupyter/jupyter.github.io</a></h4>\n<h5></h5>\n<ul>\n<li><a href=\"https://github.com/jupyter/jupyter.github.io/issues/770\">(#770)</a>: <em>Bump actions/download-artifact from 2 to 4.1.7 in /.github/workflows</em> by <strong><a href=\"https://github.com/dependabot[bot]\">@dependabot[bot]</a></strong> merged by <strong><a href=\"https://github.com/krassowski\">@krassowski</a></strong></li>\n<li><a href=\"https://github.com/jupyter/jupyter.github.io/issues/783\">(#783)</a>: <em>Simplify the list of community workshops</em> by <strong><a href=\"https://github.com/jasongrout\">@jasongrout</a></strong> merged by <strong><a href=\"https://github.com/Ruv7\">@Ruv7</a></strong></li>\n<li><a href=\"https://github.com/jupyter/jupyter.github.io/issues/785\">(#785)</a>: <em>Updated wrong Bluesky profile URL</em> by <strong><a href=\"https://github.com/NiklasJordan\">@NiklasJordan</a></strong> merged by <strong><a href=\"https://github.com/afshin\">@afshin</a></strong></li>\n<li><a href=\"https://github.com/jupyter/jupyter.github.io/issues/786\">(#786)</a>: <em>Link the leadership directory</em> by <strong><a href=\"https://github.com/krassowski\">@krassowski</a></strong> merged by <strong><a href=\"https://github.com/krassowski\">@krassowski</a></strong></li>\n<li><a href=\"https://github.com/jupyter/jupyter.github.io/issues/788\">(#788)</a>: <em>Add banner for JupyterCon 2025</em> by <strong><a href=\"https://github.com/choldgraf\">@choldgraf</a></strong> merged by <strong><a href=\"https://github.com/rpwagner\">@rpwagner</a></strong></li>\n<li><a href=\"https://github.com/jupyter/jupyter.github.io/issues/789\">(#789)</a>: <em>Fix CI by removing <code>&lt;a&gt;</code> and <code>&lt;button&gt;</code> nesting as well as ignoring some working links</em> by <strong><a href=\"https://github.com/choldgraf\">@choldgraf</a></strong> merged by <strong><a href=\"https://github.com/choldgraf\">@choldgraf</a></strong></li>\n<li><a href=\"https://github.com/jupyter/jupyter.github.io/issues/790\">(#790)</a>: <em>Update lighthouse action version</em> by <strong><a href=\"https://github.com/choldgraf\">@choldgraf</a></strong> merged by <strong><a href=\"https://github.com/krassowski\">@krassowski</a></strong></li>\n<li><a href=\"https://github.com/jupyter/jupyter.github.io/issues/792\">(#792)</a>: <em>Update min scores for lighthouse</em> by <strong><a href=\"https://github.com/krassowski\">@krassowski</a></strong> merged by <strong><a href=\"https://github.com/choldgraf\">@choldgraf</a></strong></li>\n<li><a href=\"https://github.com/jupyter/jupyter.github.io/issues/794\">(#794)</a>: <em>Update SSC Representative for Jupyter Frontends</em> by <strong><a href=\"https://github.com/jtpio\">@jtpio</a></strong> merged by <strong><a href=\"https://github.com/krassowski\">@krassowski</a></strong></li>\n<li><a href=\"https://github.com/jupyter/jupyter.github.io/issues/795\">(#795)</a>: <em>Update the Jupyter Notebook Format workshop link</em> by <strong><a href=\"https://github.com/jasongrout\">@jasongrout</a></strong> merged by <strong><a href=\"https://github.com/Ruv7\">@Ruv7</a></strong></li>\n</ul>"
      }
     },
     "c15a7f712a84494ca78b1e1c1d57042e": {
      "model_module": "@jupyter-widgets/base",
      "model_module_version": "2.0.0",
      "model_name": "LayoutModel",
      "state": {
       "_model_module": "@jupyter-widgets/base",
       "_model_module_version": "2.0.0",
       "_model_name": "LayoutModel",
       "_view_count": null,
       "_view_module": "@jupyter-widgets/base",
       "_view_module_version": "2.0.0",
       "_view_name": "LayoutView",
       "align_content": null,
       "align_items": null,
       "align_self": null,
       "border_bottom": null,
       "border_left": null,
       "border_right": null,
       "border_top": null,
       "bottom": null,
       "display": null,
       "flex": null,
       "flex_flow": null,
       "grid_area": null,
       "grid_auto_columns": null,
       "grid_auto_flow": null,
       "grid_auto_rows": null,
       "grid_column": null,
       "grid_gap": null,
       "grid_row": null,
       "grid_template_areas": null,
       "grid_template_columns": null,
       "grid_template_rows": null,
       "height": null,
       "justify_content": null,
       "justify_items": null,
       "left": null,
       "margin": null,
       "max_height": null,
       "max_width": null,
       "min_height": null,
       "min_width": null,
       "object_fit": null,
       "object_position": null,
       "order": null,
       "overflow": null,
       "padding": null,
       "right": null,
       "top": null,
       "visibility": null,
       "width": null
      }
     },
     "c2dc94a21ee74e40ad1f9cd202db581a": {
      "model_module": "@jupyter-widgets/base",
      "model_module_version": "2.0.0",
      "model_name": "LayoutModel",
      "state": {
       "_model_module": "@jupyter-widgets/base",
       "_model_module_version": "2.0.0",
       "_model_name": "LayoutModel",
       "_view_count": null,
       "_view_module": "@jupyter-widgets/base",
       "_view_module_version": "2.0.0",
       "_view_name": "LayoutView",
       "align_content": null,
       "align_items": null,
       "align_self": null,
       "border_bottom": null,
       "border_left": null,
       "border_right": null,
       "border_top": null,
       "bottom": null,
       "display": null,
       "flex": null,
       "flex_flow": null,
       "grid_area": null,
       "grid_auto_columns": null,
       "grid_auto_flow": null,
       "grid_auto_rows": null,
       "grid_column": null,
       "grid_gap": null,
       "grid_row": null,
       "grid_template_areas": null,
       "grid_template_columns": null,
       "grid_template_rows": null,
       "height": null,
       "justify_content": null,
       "justify_items": null,
       "left": null,
       "margin": null,
       "max_height": null,
       "max_width": null,
       "min_height": null,
       "min_width": null,
       "object_fit": null,
       "object_position": null,
       "order": null,
       "overflow": null,
       "padding": null,
       "right": null,
       "top": null,
       "visibility": null,
       "width": null
      }
     },
     "c2f0648c12594946b1f2257455f40439": {
      "model_module": "@jupyter-widgets/controls",
      "model_module_version": "2.0.0",
      "model_name": "HTMLModel",
      "state": {
       "_dom_classes": [],
       "_model_module": "@jupyter-widgets/controls",
       "_model_module_version": "2.0.0",
       "_model_name": "HTMLModel",
       "_view_count": null,
       "_view_module": "@jupyter-widgets/controls",
       "_view_module_version": "2.0.0",
       "_view_name": "HTMLView",
       "description": "",
       "description_allow_html": false,
       "layout": "IPY_MODEL_16be549b63c04405a0010671d975c59f",
       "placeholder": "​",
       "style": "IPY_MODEL_b3c5e25ab9824f7f820e0769b002a0ab",
       "tabbable": null,
       "tooltip": null,
       "value": "<h4>Closed PRs for repo: <a href=\"https://github.com/jupyter/jupyter\">jupyter/jupyter</a></h4>\n<h5></h5>\n<ul>\n<li><a href=\"https://github.com/jupyter/jupyter/issues/758\">(#758)</a>: <em>Add community call notes to table of contents</em> by <strong><a href=\"https://github.com/marthacryan\">@marthacryan</a></strong> merged by <strong><a href=\"https://github.com/ivanov\">@ivanov</a></strong></li>\n<li><a href=\"https://github.com/jupyter/jupyter/issues/764\">(#764)</a>: <em>bump upload artifact to v4, closes #763</em> by <strong><a href=\"https://github.com/ivanov\">@ivanov</a></strong> merged by <strong><a href=\"https://github.com/jtpio\">@jtpio</a></strong></li>\n<li><a href=\"https://github.com/jupyter/jupyter/issues/765\">(#765)</a>: <em>bump ubuntu runner image to 24.04</em> by <strong><a href=\"https://github.com/ivanov\">@ivanov</a></strong> merged by <strong><a href=\"https://github.com/ivanov\">@ivanov</a></strong></li>\n<li><a href=\"https://github.com/jupyter/jupyter/issues/766\">(#766)</a>: <em>Remove archived incubator projects</em> by <strong><a href=\"https://github.com/danyeaw\">@danyeaw</a></strong> merged by <strong><a href=\"https://github.com/ivanov\">@ivanov</a></strong></li>\n<li><a href=\"https://github.com/jupyter/jupyter/issues/767\">(#767)</a>: <em>bump ubuntu runner image to 24.04</em> by <strong><a href=\"https://github.com/ivanov\">@ivanov</a></strong> merged by <strong><a href=\"https://github.com/ivanov\">@ivanov</a></strong></li>\n<li><a href=\"https://github.com/jupyter/jupyter/issues/768\">(#768)</a>: <em>Add Community Call Notes for February 2025</em> by <strong><a href=\"https://github.com/RRosio\">@RRosio</a></strong> merged by <strong><a href=\"https://github.com/ivanov\">@ivanov</a></strong></li>\n<li><a href=\"https://github.com/jupyter/jupyter/issues/770\">(#770)</a>: <em>Fixed typo in contrib_guide.md</em> by <strong><a href=\"https://github.com/derekrgreene\">@derekrgreene</a></strong> merged by <strong><a href=\"https://github.com/derekrgreene\">@derekrgreene</a></strong></li>\n<li><a href=\"https://github.com/jupyter/jupyter/issues/771\">(#771)</a>: <em>Minor wording improvements to releasing.rst</em> by <strong><a href=\"https://github.com/derekrgreene\">@derekrgreene</a></strong> merged by <strong><a href=\"https://github.com/choldgraf\">@choldgraf</a></strong></li>\n<li><a href=\"https://github.com/jupyter/jupyter/issues/772\">(#772)</a>: <em>Fixed minor typo in contrib_guide.md</em> by <strong><a href=\"https://github.com/derekrgreene\">@derekrgreene</a></strong> merged by <strong><a href=\"https://github.com/derekrgreene\">@derekrgreene</a></strong></li>\n<li><a href=\"https://github.com/jupyter/jupyter/issues/773\">(#773)</a>: <em>Fixed minor typo in contrib_guide.md</em> by <strong><a href=\"https://github.com/derekrgreene\">@derekrgreene</a></strong> merged by <strong><a href=\"https://github.com/ivanov\">@ivanov</a></strong></li>\n<li><a href=\"https://github.com/jupyter/jupyter/issues/774\">(#774)</a>: <em>Fixed broken links in pull_request.rst</em> by <strong><a href=\"https://github.com/derekrgreene\">@derekrgreene</a></strong> merged by <strong><a href=\"https://github.com/choldgraf\">@choldgraf</a></strong></li>\n<li><a href=\"https://github.com/jupyter/jupyter/issues/775\">(#775)</a>: <em>Update install.rst</em> by <strong><a href=\"https://github.com/Emmaedler2005\">@Emmaedler2005</a></strong> merged by <strong><a href=\"https://github.com/choldgraf\">@choldgraf</a></strong></li>\n</ul>"
      }
     },
     "c383398db35849669a838beb950db230": {
      "model_module": "@jupyter-widgets/controls",
      "model_module_version": "2.0.0",
      "model_name": "HTMLStyleModel",
      "state": {
       "_model_module": "@jupyter-widgets/controls",
       "_model_module_version": "2.0.0",
       "_model_name": "HTMLStyleModel",
       "_view_count": null,
       "_view_module": "@jupyter-widgets/base",
       "_view_module_version": "2.0.0",
       "_view_name": "StyleView",
       "background": null,
       "description_width": "",
       "font_size": null,
       "text_color": null
      }
     },
     "c65e7c6d60f047f9b17ac52bf86a778d": {
      "model_module": "@jupyter-widgets/controls",
      "model_module_version": "2.0.0",
      "model_name": "HTMLModel",
      "state": {
       "_dom_classes": [],
       "_model_module": "@jupyter-widgets/controls",
       "_model_module_version": "2.0.0",
       "_model_name": "HTMLModel",
       "_view_count": null,
       "_view_module": "@jupyter-widgets/controls",
       "_view_module_version": "2.0.0",
       "_view_name": "HTMLView",
       "description": "",
       "description_allow_html": false,
       "layout": "IPY_MODEL_1a9824d472404b2bb9dcb631b34c028e",
       "placeholder": "​",
       "style": "IPY_MODEL_8fbd6311473b445a8a4d0f05369ec264",
       "tabbable": null,
       "tooltip": null,
       "value": "<h5><a href=\"https://github.com/jupyter/jupyter.github.io\">jupyter/jupyter.github.io</a></h5>\n<ul>\n<li><a href=\"https://github.com/jupyter/jupyter.github.io/issues/791\">(#791)</a>: <em>Lower the threshold for Lighthouse accessibility</em> by <strong><a href=\"https://github.com/choldgraf\">@choldgraf</a></strong></li>\n<li><a href=\"https://github.com/jupyter/jupyter.github.io/issues/720\">(#720)</a>: <em>Widgets page is broken?</em> by <strong><a href=\"https://github.com/filonik-tud\">@filonik-tud</a></strong></li>\n</ul>"
      }
     },
     "c9aa51e37ba04ebc9faed5637e209a20": {
      "model_module": "@jupyter-widgets/controls",
      "model_module_version": "2.0.0",
      "model_name": "HTMLStyleModel",
      "state": {
       "_model_module": "@jupyter-widgets/controls",
       "_model_module_version": "2.0.0",
       "_model_name": "HTMLStyleModel",
       "_view_count": null,
       "_view_module": "@jupyter-widgets/base",
       "_view_module_version": "2.0.0",
       "_view_name": "StyleView",
       "background": null,
       "description_width": "",
       "font_size": null,
       "text_color": null
      }
     },
     "cdb64f8a1cb14198a475745c28de9383": {
      "model_module": "@jupyter-widgets/controls",
      "model_module_version": "2.0.0",
      "model_name": "HTMLModel",
      "state": {
       "_dom_classes": [],
       "_model_module": "@jupyter-widgets/controls",
       "_model_module_version": "2.0.0",
       "_model_name": "HTMLModel",
       "_view_count": null,
       "_view_module": "@jupyter-widgets/controls",
       "_view_module_version": "2.0.0",
       "_view_name": "HTMLView",
       "description": "",
       "description_allow_html": false,
       "layout": "IPY_MODEL_1d2af4f3dd7e4886ab851f220c4bffc0",
       "placeholder": "​",
       "style": "IPY_MODEL_a056deed41924a85aba108a0a2cf14ba",
       "tabbable": null,
       "tooltip": null,
       "value": "<h4>Closed PRs for repo: <a href=\"https://github.com/jupyter/jupyter_core\">jupyter/jupyter_core</a></h4>\n<h5></h5>\n<ul>\n<li><a href=\"https://github.com/jupyter/jupyter_core/issues/411\">(#411)</a>: <em>AssertionErrors should not be manually raised.</em> by <strong><a href=\"https://github.com/Carreau\">@Carreau</a></strong> merged by <strong><a href=\"https://github.com/Carreau\">@Carreau</a></strong></li>\n<li><a href=\"https://github.com/jupyter/jupyter_core/issues/412\">(#412)</a>: <em>A bunch of pre-commit and CI upgrade.</em> by <strong><a href=\"https://github.com/Carreau\">@Carreau</a></strong> merged by <strong><a href=\"https://github.com/Carreau\">@Carreau</a></strong></li>\n<li><a href=\"https://github.com/jupyter/jupyter_core/issues/413\">(#413)</a>: <em>remove donwstream check</em> by <strong><a href=\"https://github.com/Carreau\">@Carreau</a></strong> merged by <strong><a href=\"https://github.com/Carreau\">@Carreau</a></strong></li>\n<li><a href=\"https://github.com/jupyter/jupyter_core/issues/414\">(#414)</a>: <em>Update Pyproject metadata</em> by <strong><a href=\"https://github.com/Carreau\">@Carreau</a></strong> merged by <strong><a href=\"https://github.com/Carreau\">@Carreau</a></strong></li>\n<li><a href=\"https://github.com/jupyter/jupyter_core/issues/415\">(#415)</a>: <em>chore: update pre-commit hooks</em> by <strong><a href=\"https://github.com/pre-commit-ci[bot]\">@pre-commit-ci[bot]</a></strong> merged by <strong><a href=\"https://github.com/minrk\">@minrk</a></strong></li>\n<li><a href=\"https://github.com/jupyter/jupyter_core/issues/416\">(#416)</a>: <em>update pre-commit</em> by <strong><a href=\"https://github.com/Carreau\">@Carreau</a></strong> merged by <strong><a href=\"https://github.com/minrk\">@minrk</a></strong></li>\n<li><a href=\"https://github.com/jupyter/jupyter_core/issues/417\">(#417)</a>: <em>narrow type of envset when it can't be None</em> by <strong><a href=\"https://github.com/minrk\">@minrk</a></strong> merged by <strong><a href=\"https://github.com/minrk\">@minrk</a></strong></li>\n<li><a href=\"https://github.com/jupyter/jupyter_core/issues/418\">(#418)</a>: <em>chore: hatch run run docs:api</em> by <strong><a href=\"https://github.com/minrk\">@minrk</a></strong> merged by <strong><a href=\"https://github.com/minrk\">@minrk</a></strong></li>\n<li><a href=\"https://github.com/jupyter/jupyter_core/issues/419\">(#419)</a>: <em>fix package_spec in downstream tests</em> by <strong><a href=\"https://github.com/minrk\">@minrk</a></strong> merged by <strong><a href=\"https://github.com/minrk\">@minrk</a></strong></li>\n<li><a href=\"https://github.com/jupyter/jupyter_core/issues/420\">(#420)</a>: <em>Bump actions/create-github-app-token from 1 to 2 in the actions group</em> by <strong><a href=\"https://github.com/dependabot[bot]\">@dependabot[bot]</a></strong> merged by <strong><a href=\"https://github.com/Carreau\">@Carreau</a></strong></li>\n<li><a href=\"https://github.com/jupyter/jupyter_core/issues/422\">(#422)</a>: <em>add security.md</em> by <strong><a href=\"https://github.com/Carreau\">@Carreau</a></strong> merged by <strong><a href=\"https://github.com/Carreau\">@Carreau</a></strong></li>\n</ul>"
      }
     },
     "d203d6e452494a148dc53a4fa261a6ec": {
      "model_module": "@jupyter-widgets/controls",
      "model_module_version": "2.0.0",
      "model_name": "HTMLStyleModel",
      "state": {
       "_model_module": "@jupyter-widgets/controls",
       "_model_module_version": "2.0.0",
       "_model_name": "HTMLStyleModel",
       "_view_count": null,
       "_view_module": "@jupyter-widgets/base",
       "_view_module_version": "2.0.0",
       "_view_name": "StyleView",
       "background": null,
       "description_width": "",
       "font_size": null,
       "text_color": null
      }
     },
     "d5625b6ee71f447eb56a0098895453ff": {
      "model_module": "@jupyter-widgets/controls",
      "model_module_version": "2.0.0",
      "model_name": "HTMLModel",
      "state": {
       "_dom_classes": [],
       "_model_module": "@jupyter-widgets/controls",
       "_model_module_version": "2.0.0",
       "_model_name": "HTMLModel",
       "_view_count": null,
       "_view_module": "@jupyter-widgets/controls",
       "_view_module_version": "2.0.0",
       "_view_name": "HTMLView",
       "description": "",
       "description_allow_html": false,
       "layout": "IPY_MODEL_2b34c166b7174a59ba969becc7a6ef8d",
       "placeholder": "​",
       "style": "IPY_MODEL_af89f62c483e4446926f44367696e4cc",
       "tabbable": null,
       "tooltip": null,
       "value": "<ul>\n<li>(99) Hide input cells - notebook - <a href=\"https://github.com/jupyter/notebook/issues/534\">#534</a></li>\n<li>(99) Feature request: open a notebook without running kernel - notebook - <a href=\"https://github.com/jupyter/notebook/issues/3170\">#3170</a></li>\n<li>(83) Restoring computation output after disconnect in Notebook - notebook - <a href=\"https://github.com/jupyter/notebook/issues/641\">#641</a></li>\n<li>(80) Keyboard shortcut for multiline cursor - notebook - <a href=\"https://github.com/jupyter/notebook/issues/4761\">#4761</a></li>\n<li>(46) Exporting a single jupyter cell output - notebook - <a href=\"https://github.com/jupyter/notebook/issues/3039\">#3039</a></li>\n<li>(44) Pdf doesn't include images - nbconvert - <a href=\"https://github.com/jupyter/nbconvert/issues/552\">#552</a></li>\n<li>(41) add Gitlab support - nbviewer - <a href=\"https://github.com/jupyter/nbviewer/issues/371\">#371</a></li>\n<li>(40) Running <code>jupyter notebook</code> opens visual studio code, not a browser - notebook - <a href=\"https://github.com/jupyter/notebook/issues/4304\">#4304</a></li>\n<li>(37) Jupyter notebook -&gt; pdf error - nbconvert - <a href=\"https://github.com/jupyter/nbconvert/issues/1099\">#1099</a></li>\n<li>(36) Output notebook while executing - nbconvert - <a href=\"https://github.com/jupyter/nbconvert/issues/648\">#648</a></li>\n<li>(34) Memory usage information for each listed running notebook, in \"Running\" tab - notebook - <a href=\"https://github.com/jupyter/notebook/issues/3117\">#3117</a></li>\n<li>(33) Feature request: directly exporting notebook slides to PDF - nbconvert - <a href=\"https://github.com/jupyter/nbconvert/issues/713\">#713</a></li>\n<li>(33) [Feature Request] Two column mode - notebook - <a href=\"https://github.com/jupyter/notebook/issues/2791\">#2791</a></li>\n<li>(32) Proper way to add \"alert\"/\"note\"/\"hint\"/\"warning\"/... boxes? - notebook - <a href=\"https://github.com/jupyter/notebook/issues/1292\">#1292</a></li>\n<li>(28) Is there a way to open a terminal in the current directory? - notebook - <a href=\"https://github.com/jupyter/notebook/issues/1898\">#1898</a></li>\n<li>(25) nbviewer does not flush cache - nbviewer - <a href=\"https://github.com/jupyter/nbviewer/issues/914\">#914</a></li>\n<li>(24) Jupyter Notebook so slow and not executing cell sometimes(1 time out of 2 times) - notebook - <a href=\"https://github.com/jupyter/notebook/issues/3303\">#3303</a></li>\n<li>(24) how to jump to the failed cell? - notebook - <a href=\"https://github.com/jupyter/notebook/issues/4323\">#4323</a></li>\n<li>(24) Access S3 URLs directly - nbviewer - <a href=\"https://github.com/jupyter/nbviewer/issues/630\">#630</a></li>\n<li>(22) Add ability to watch notebook files and convert automatically - nbconvert - <a href=\"https://github.com/jupyter/nbconvert/issues/826\">#826</a></li>\n<li>(22) Inline Whiteboard - notebook - <a href=\"https://github.com/jupyter/notebook/issues/1999\">#1999</a></li>\n<li>(22) Export nbdiff-web HTML from command line - nbdime - <a href=\"https://github.com/jupyter/nbdime/issues/468\">#468</a></li>\n<li>(21) Jupyter Notebook ‘zmq message arrived on closed channel’ Error - notebook - <a href=\"https://github.com/jupyter/notebook/issues/6721\">#6721</a></li>\n<li>(21) Adjusting width of attached image in markdown cell - notebook - <a href=\"https://github.com/jupyter/notebook/issues/1885\">#1885</a></li>\n<li>(20) Add a keyboard shortcut to duplicate line in distribution - notebook - <a href=\"https://github.com/jupyter/notebook/issues/4505\">#4505</a></li>\n</ul>"
      }
     },
     "d6b812951a564060b2a424254fc65285": {
      "model_module": "@jupyter-widgets/base",
      "model_module_version": "2.0.0",
      "model_name": "LayoutModel",
      "state": {
       "_model_module": "@jupyter-widgets/base",
       "_model_module_version": "2.0.0",
       "_model_name": "LayoutModel",
       "_view_count": null,
       "_view_module": "@jupyter-widgets/base",
       "_view_module_version": "2.0.0",
       "_view_name": "LayoutView",
       "align_content": null,
       "align_items": null,
       "align_self": null,
       "border_bottom": null,
       "border_left": null,
       "border_right": null,
       "border_top": null,
       "bottom": null,
       "display": null,
       "flex": null,
       "flex_flow": null,
       "grid_area": null,
       "grid_auto_columns": null,
       "grid_auto_flow": null,
       "grid_auto_rows": null,
       "grid_column": null,
       "grid_gap": null,
       "grid_row": null,
       "grid_template_areas": null,
       "grid_template_columns": null,
       "grid_template_rows": null,
       "height": null,
       "justify_content": null,
       "justify_items": null,
       "left": null,
       "margin": null,
       "max_height": null,
       "max_width": null,
       "min_height": null,
       "min_width": null,
       "object_fit": null,
       "object_position": null,
       "order": null,
       "overflow": null,
       "padding": null,
       "right": null,
       "top": null,
       "visibility": null,
       "width": null
      }
     },
     "d7b55884968f418486512c772fb002e8": {
      "model_module": "@jupyter-widgets/controls",
      "model_module_version": "2.0.0",
      "model_name": "HTMLModel",
      "state": {
       "_dom_classes": [],
       "_model_module": "@jupyter-widgets/controls",
       "_model_module_version": "2.0.0",
       "_model_name": "HTMLModel",
       "_view_count": null,
       "_view_module": "@jupyter-widgets/controls",
       "_view_module_version": "2.0.0",
       "_view_name": "HTMLView",
       "description": "",
       "description_allow_html": false,
       "layout": "IPY_MODEL_2d3677381c5448509f04d516a0567fe6",
       "placeholder": "​",
       "style": "IPY_MODEL_16d315c0a61846de9f8c70bf30c9cbf5",
       "tabbable": null,
       "tooltip": null,
       "value": "<h5><a href=\"https://github.com/jupyter/jupyter_core\">jupyter/jupyter_core</a></h5>\n<ul>\n<li><a href=\"https://github.com/jupyter/jupyter_core/issues/410\">(#410)</a>: <em>The configuration files for Jupyter produce many lint errors now</em> by <strong><a href=\"https://github.com/NeilGirdhar\">@NeilGirdhar</a></strong></li>\n<li><a href=\"https://github.com/jupyter/jupyter_core/issues/350\">(#350)</a>: <em>There are conflicts between the modules of the dependencies.</em> by <strong><a href=\"https://github.com/unsatisfying\">@unsatisfying</a></strong></li>\n<li><a href=\"https://github.com/jupyter/jupyter_core/issues/423\">(#423)</a>: <em>paths.is_hidden() Erroneously Reports Files as Hidden</em> by <strong><a href=\"https://github.com/matyanwek\">@matyanwek</a></strong></li>\n</ul>"
      }
     },
     "d7df9f8951ca488a9bf1d366a109b29d": {
      "model_module": "@jupyter-widgets/base",
      "model_module_version": "2.0.0",
      "model_name": "LayoutModel",
      "state": {
       "_model_module": "@jupyter-widgets/base",
       "_model_module_version": "2.0.0",
       "_model_name": "LayoutModel",
       "_view_count": null,
       "_view_module": "@jupyter-widgets/base",
       "_view_module_version": "2.0.0",
       "_view_name": "LayoutView",
       "align_content": null,
       "align_items": null,
       "align_self": null,
       "border_bottom": null,
       "border_left": null,
       "border_right": null,
       "border_top": null,
       "bottom": null,
       "display": null,
       "flex": null,
       "flex_flow": null,
       "grid_area": null,
       "grid_auto_columns": null,
       "grid_auto_flow": null,
       "grid_auto_rows": null,
       "grid_column": null,
       "grid_gap": null,
       "grid_row": null,
       "grid_template_areas": null,
       "grid_template_columns": null,
       "grid_template_rows": null,
       "height": null,
       "justify_content": null,
       "justify_items": null,
       "left": null,
       "margin": null,
       "max_height": null,
       "max_width": null,
       "min_height": null,
       "min_width": null,
       "object_fit": null,
       "object_position": null,
       "order": null,
       "overflow": null,
       "padding": null,
       "right": null,
       "top": null,
       "visibility": null,
       "width": null
      }
     },
     "dfb05ad9aec1421c990616193e9db6fd": {
      "model_module": "@jupyter-widgets/base",
      "model_module_version": "2.0.0",
      "model_name": "LayoutModel",
      "state": {
       "_model_module": "@jupyter-widgets/base",
       "_model_module_version": "2.0.0",
       "_model_name": "LayoutModel",
       "_view_count": null,
       "_view_module": "@jupyter-widgets/base",
       "_view_module_version": "2.0.0",
       "_view_name": "LayoutView",
       "align_content": null,
       "align_items": null,
       "align_self": null,
       "border_bottom": null,
       "border_left": null,
       "border_right": null,
       "border_top": null,
       "bottom": null,
       "display": null,
       "flex": null,
       "flex_flow": null,
       "grid_area": null,
       "grid_auto_columns": null,
       "grid_auto_flow": null,
       "grid_auto_rows": null,
       "grid_column": null,
       "grid_gap": null,
       "grid_row": null,
       "grid_template_areas": null,
       "grid_template_columns": null,
       "grid_template_rows": null,
       "height": null,
       "justify_content": null,
       "justify_items": null,
       "left": null,
       "margin": null,
       "max_height": null,
       "max_width": null,
       "min_height": null,
       "min_width": null,
       "object_fit": null,
       "object_position": null,
       "order": null,
       "overflow": null,
       "padding": null,
       "right": null,
       "top": null,
       "visibility": null,
       "width": null
      }
     },
     "e30d95eb485548d2a557dd5aca9cf9a4": {
      "model_module": "@jupyter-widgets/controls",
      "model_module_version": "2.0.0",
      "model_name": "HTMLModel",
      "state": {
       "_dom_classes": [],
       "_model_module": "@jupyter-widgets/controls",
       "_model_module_version": "2.0.0",
       "_model_name": "HTMLModel",
       "_view_count": null,
       "_view_module": "@jupyter-widgets/controls",
       "_view_module_version": "2.0.0",
       "_view_name": "HTMLView",
       "description": "",
       "description_allow_html": false,
       "layout": "IPY_MODEL_08e1f65da47c4e2f99f2e6532f301c53",
       "placeholder": "​",
       "style": "IPY_MODEL_c383398db35849669a838beb950db230",
       "tabbable": null,
       "tooltip": null,
       "value": "<h5><a href=\"https://github.com/jupyter/nbgrader\">jupyter/nbgrader</a></h5>\n<ul>\n<li><a href=\"https://github.com/jupyter/nbgrader/issues/1955\">(#1955)</a>: <em>Wishlist: capture output of print statements in answer and test cells</em> by <strong><a href=\"https://github.com/callegar\">@callegar</a></strong></li>\n<li><a href=\"https://github.com/jupyter/nbgrader/issues/1965\">(#1965)</a>: <em>Formgrader does not find assignments when path contains aquare brackets</em> by <strong><a href=\"https://github.com/tjueterb\">@tjueterb</a></strong></li>\n<li><a href=\"https://github.com/jupyter/nbgrader/issues/1931\">(#1931)</a>: <em>Colon in feedback path conflicts with jupyter-fs</em> by <strong><a href=\"https://github.com/jeflem\">@jeflem</a></strong></li>\n<li><a href=\"https://github.com/jupyter/nbgrader/issues/1960\">(#1960)</a>: <em>Installation Script</em> by <strong><a href=\"https://github.com/ronaldpetty\">@ronaldpetty</a></strong></li>\n<li><a href=\"https://github.com/jupyter/nbgrader/issues/1837\">(#1837)</a>: <em>Integrating nbgrader with a plagiarism checker?</em> by <strong><a href=\"https://github.com/Merna-Atef\">@Merna-Atef</a></strong></li>\n</ul>"
      }
     },
     "e45386bdf1d54c87a4a77d080cf5480b": {
      "model_module": "@jupyter-widgets/base",
      "model_module_version": "2.0.0",
      "model_name": "LayoutModel",
      "state": {
       "_model_module": "@jupyter-widgets/base",
       "_model_module_version": "2.0.0",
       "_model_name": "LayoutModel",
       "_view_count": null,
       "_view_module": "@jupyter-widgets/base",
       "_view_module_version": "2.0.0",
       "_view_name": "LayoutView",
       "align_content": null,
       "align_items": null,
       "align_self": null,
       "border_bottom": null,
       "border_left": null,
       "border_right": null,
       "border_top": null,
       "bottom": null,
       "display": null,
       "flex": null,
       "flex_flow": null,
       "grid_area": null,
       "grid_auto_columns": null,
       "grid_auto_flow": null,
       "grid_auto_rows": null,
       "grid_column": null,
       "grid_gap": null,
       "grid_row": null,
       "grid_template_areas": null,
       "grid_template_columns": null,
       "grid_template_rows": null,
       "height": null,
       "justify_content": null,
       "justify_items": null,
       "left": null,
       "margin": null,
       "max_height": null,
       "max_width": null,
       "min_height": null,
       "min_width": null,
       "object_fit": null,
       "object_position": null,
       "order": null,
       "overflow": null,
       "padding": null,
       "right": null,
       "top": null,
       "visibility": null,
       "width": null
      }
     },
     "e46723af645642f5a33f857b9f6155b5": {
      "model_module": "@jupyter-widgets/controls",
      "model_module_version": "2.0.0",
      "model_name": "HTMLStyleModel",
      "state": {
       "_model_module": "@jupyter-widgets/controls",
       "_model_module_version": "2.0.0",
       "_model_name": "HTMLStyleModel",
       "_view_count": null,
       "_view_module": "@jupyter-widgets/base",
       "_view_module_version": "2.0.0",
       "_view_name": "StyleView",
       "background": null,
       "description_width": "",
       "font_size": null,
       "text_color": null
      }
     },
     "ee2d600de95446f292aea7fbea30c1ff": {
      "model_module": "@jupyter-widgets/controls",
      "model_module_version": "2.0.0",
      "model_name": "HTMLStyleModel",
      "state": {
       "_model_module": "@jupyter-widgets/controls",
       "_model_module_version": "2.0.0",
       "_model_name": "HTMLStyleModel",
       "_view_count": null,
       "_view_module": "@jupyter-widgets/base",
       "_view_module_version": "2.0.0",
       "_view_name": "StyleView",
       "background": null,
       "description_width": "",
       "font_size": null,
       "text_color": null
      }
     },
     "ee9b98376ce04996be43f5e77441125d": {
      "model_module": "@jupyter-widgets/base",
      "model_module_version": "2.0.0",
      "model_name": "LayoutModel",
      "state": {
       "_model_module": "@jupyter-widgets/base",
       "_model_module_version": "2.0.0",
       "_model_name": "LayoutModel",
       "_view_count": null,
       "_view_module": "@jupyter-widgets/base",
       "_view_module_version": "2.0.0",
       "_view_name": "LayoutView",
       "align_content": null,
       "align_items": null,
       "align_self": null,
       "border_bottom": null,
       "border_left": null,
       "border_right": null,
       "border_top": null,
       "bottom": null,
       "display": null,
       "flex": null,
       "flex_flow": null,
       "grid_area": null,
       "grid_auto_columns": null,
       "grid_auto_flow": null,
       "grid_auto_rows": null,
       "grid_column": null,
       "grid_gap": null,
       "grid_row": null,
       "grid_template_areas": null,
       "grid_template_columns": null,
       "grid_template_rows": null,
       "height": null,
       "justify_content": null,
       "justify_items": null,
       "left": null,
       "margin": null,
       "max_height": null,
       "max_width": null,
       "min_height": null,
       "min_width": null,
       "object_fit": null,
       "object_position": null,
       "order": null,
       "overflow": null,
       "padding": null,
       "right": null,
       "top": null,
       "visibility": null,
       "width": null
      }
     },
     "ef2a168b24df48f89578aec6c45afdcb": {
      "model_module": "@jupyter-widgets/controls",
      "model_module_version": "2.0.0",
      "model_name": "HTMLModel",
      "state": {
       "_dom_classes": [],
       "_model_module": "@jupyter-widgets/controls",
       "_model_module_version": "2.0.0",
       "_model_name": "HTMLModel",
       "_view_count": null,
       "_view_module": "@jupyter-widgets/controls",
       "_view_module_version": "2.0.0",
       "_view_name": "HTMLView",
       "description": "",
       "description_allow_html": false,
       "layout": "IPY_MODEL_d7df9f8951ca488a9bf1d366a109b29d",
       "placeholder": "​",
       "style": "IPY_MODEL_ac832a0565f84e5d9bcfc610ed7ee5e2",
       "tabbable": null,
       "tooltip": null,
       "value": "<h5><a href=\"https://github.com/jupyter/jupyter_core\">jupyter/jupyter_core</a></h5>\n<ul>\n<li><a href=\"https://github.com/jupyter/jupyter_core/issues/410\">(#410)</a>: <em>The configuration files for Jupyter produce many lint errors now</em> by <strong><a href=\"https://github.com/NeilGirdhar\">@NeilGirdhar</a></strong></li>\n<li><a href=\"https://github.com/jupyter/jupyter_core/issues/350\">(#350)</a>: <em>There are conflicts between the modules of the dependencies.</em> by <strong><a href=\"https://github.com/unsatisfying\">@unsatisfying</a></strong></li>\n<li><a href=\"https://github.com/jupyter/jupyter_core/issues/423\">(#423)</a>: <em>paths.is_hidden() Erroneously Reports Files as Hidden</em> by <strong><a href=\"https://github.com/matyanwek\">@matyanwek</a></strong></li>\n</ul>"
      }
     },
     "f1f5474ca9c947de8d8f27d68eeababf": {
      "model_module": "@jupyter-widgets/controls",
      "model_module_version": "2.0.0",
      "model_name": "HTMLModel",
      "state": {
       "_dom_classes": [],
       "_model_module": "@jupyter-widgets/controls",
       "_model_module_version": "2.0.0",
       "_model_name": "HTMLModel",
       "_view_count": null,
       "_view_module": "@jupyter-widgets/controls",
       "_view_module_version": "2.0.0",
       "_view_name": "HTMLView",
       "description": "",
       "description_allow_html": false,
       "layout": "IPY_MODEL_fa6d293d6f454b5db0650a5b1d436419",
       "placeholder": "​",
       "style": "IPY_MODEL_15368b982f534b81ae111f22f261b03f",
       "tabbable": null,
       "tooltip": null,
       "value": "<h4>Closed PRs for repo: <a href=\"https://github.com/jupyter/governance\">jupyter/governance</a></h4>\n<h5></h5>\n<ul>\n<li><a href=\"https://github.com/jupyter/governance/issues/249\">(#249)</a>: <em>Update process-votes.py to handle updates to Google form</em> by <strong><a href=\"https://github.com/jasongrout\">@jasongrout</a></strong> merged by <strong><a href=\"https://github.com/choldgraf\">@choldgraf</a></strong></li>\n<li><a href=\"https://github.com/jupyter/governance/issues/252\">(#252)</a>: <em>Clarify various aspects of EC elections and the Union of Councils.</em> by <strong><a href=\"https://github.com/jasongrout\">@jasongrout</a></strong> merged by <strong><a href=\"https://github.com/choldgraf\">@choldgraf</a></strong></li>\n<li><a href=\"https://github.com/jupyter/governance/issues/259\">(#259)</a>: <em>Update JMS membership</em> by <strong><a href=\"https://github.com/SylvainCorlay\">@SylvainCorlay</a></strong> merged by <strong><a href=\"https://github.com/SylvainCorlay\">@SylvainCorlay</a></strong></li>\n<li><a href=\"https://github.com/jupyter/governance/issues/261\">(#261)</a>: <em>Former members of JMS</em> by <strong><a href=\"https://github.com/SylvainCorlay\">@SylvainCorlay</a></strong> merged by <strong><a href=\"https://github.com/choldgraf\">@choldgraf</a></strong></li>\n<li><a href=\"https://github.com/jupyter/governance/issues/265\">(#265)</a>: <em>Update config and add some links</em> by <strong><a href=\"https://github.com/choldgraf\">@choldgraf</a></strong> merged by <strong><a href=\"https://github.com/choldgraf\">@choldgraf</a></strong></li>\n<li><a href=\"https://github.com/jupyter/governance/issues/266\">(#266)</a>: <em>Update links to use folders rather than <code>.html</code></em> by <strong><a href=\"https://github.com/choldgraf\">@choldgraf</a></strong> merged by <strong><a href=\"https://github.com/choldgraf\">@choldgraf</a></strong></li>\n<li><a href=\"https://github.com/jupyter/governance/issues/268\">(#268)</a>: <em>Add Rus and Yaniv's Github names to the GB list</em> by <strong><a href=\"https://github.com/sagelywizard\">@sagelywizard</a></strong> merged by <strong><a href=\"https://github.com/choldgraf\">@choldgraf</a></strong></li>\n<li><a href=\"https://github.com/jupyter/governance/issues/269\">(#269)</a>: <em>Enable edit button for governance repo</em> by <strong><a href=\"https://github.com/choldgraf\">@choldgraf</a></strong> merged by <strong><a href=\"https://github.com/choldgraf\">@choldgraf</a></strong></li>\n<li><a href=\"https://github.com/jupyter/governance/issues/270\">(#270)</a>: <em>Update snowflake representative</em> by <strong><a href=\"https://github.com/choldgraf\">@choldgraf</a></strong> merged by <strong><a href=\"https://github.com/choldgraf\">@choldgraf</a></strong></li>\n<li><a href=\"https://github.com/jupyter/governance/issues/271\">(#271)</a>: <em>Add a link to the board's team compass</em> by <strong><a href=\"https://github.com/choldgraf\">@choldgraf</a></strong> merged by <strong><a href=\"https://github.com/Zsailer\">@Zsailer</a></strong></li>\n<li><a href=\"https://github.com/jupyter/governance/issues/272\">(#272)</a>: <em>Add to governance that packages must be under the Jupyter PyPi Organisation</em> by <strong><a href=\"https://github.com/Carreau\">@Carreau</a></strong> merged by <strong><a href=\"https://github.com/jasongrout\">@jasongrout</a></strong></li>\n<li><a href=\"https://github.com/jupyter/governance/issues/273\">(#273)</a>: <em>Update SSC Representative for Jupyter Frontends</em> by <strong><a href=\"https://github.com/jtpio\">@jtpio</a></strong> merged by <strong><a href=\"https://github.com/krassowski\">@krassowski</a></strong></li>\n<li><a href=\"https://github.com/jupyter/governance/issues/274\">(#274)</a>: <em>Add link to team compass for documentation working group</em> by <strong><a href=\"https://github.com/choldgraf\">@choldgraf</a></strong> merged by <strong><a href=\"https://github.com/jasongrout\">@jasongrout</a></strong></li>\n<li><a href=\"https://github.com/jupyter/governance/issues/276\">(#276)</a>: <em>Remove qtconsole: moved to spyder org</em> by <strong><a href=\"https://github.com/Carreau\">@Carreau</a></strong> merged by <strong><a href=\"https://github.com/choldgraf\">@choldgraf</a></strong></li>\n</ul>"
      }
     },
     "f233de56775244b1a06edf88f39b0c74": {
      "model_module": "@jupyter-widgets/base",
      "model_module_version": "2.0.0",
      "model_name": "LayoutModel",
      "state": {
       "_model_module": "@jupyter-widgets/base",
       "_model_module_version": "2.0.0",
       "_model_name": "LayoutModel",
       "_view_count": null,
       "_view_module": "@jupyter-widgets/base",
       "_view_module_version": "2.0.0",
       "_view_name": "LayoutView",
       "align_content": null,
       "align_items": null,
       "align_self": null,
       "border_bottom": null,
       "border_left": null,
       "border_right": null,
       "border_top": null,
       "bottom": null,
       "display": null,
       "flex": null,
       "flex_flow": null,
       "grid_area": null,
       "grid_auto_columns": null,
       "grid_auto_flow": null,
       "grid_auto_rows": null,
       "grid_column": null,
       "grid_gap": null,
       "grid_row": null,
       "grid_template_areas": null,
       "grid_template_columns": null,
       "grid_template_rows": null,
       "height": null,
       "justify_content": null,
       "justify_items": null,
       "left": null,
       "margin": null,
       "max_height": null,
       "max_width": null,
       "min_height": null,
       "min_width": null,
       "object_fit": null,
       "object_position": null,
       "order": null,
       "overflow": null,
       "padding": null,
       "right": null,
       "top": null,
       "visibility": null,
       "width": null
      }
     },
     "f5329af3383e42fc955bfb5339e2e1a1": {
      "model_module": "@jupyter-widgets/controls",
      "model_module_version": "2.0.0",
      "model_name": "HTMLModel",
      "state": {
       "_dom_classes": [],
       "_model_module": "@jupyter-widgets/controls",
       "_model_module_version": "2.0.0",
       "_model_name": "HTMLModel",
       "_view_count": null,
       "_view_module": "@jupyter-widgets/controls",
       "_view_module_version": "2.0.0",
       "_view_name": "HTMLView",
       "description": "",
       "description_allow_html": false,
       "layout": "IPY_MODEL_7f345237848a42c4a9808adb88b69754",
       "placeholder": "​",
       "style": "IPY_MODEL_ee2d600de95446f292aea7fbea30c1ff",
       "tabbable": null,
       "tooltip": null,
       "value": "<h5><a href=\"https://github.com/jupyter/docker-stacks\">jupyter/docker-stacks</a></h5>\n<ul>\n<li><a href=\"https://github.com/jupyter/docker-stacks/issues/2229\">(#2229)</a>: <em>Add PyJulia package in julia-notebook and datascience-notebook</em> by <strong><a href=\"https://github.com/i0ntempest\">@i0ntempest</a></strong></li>\n<li><a href=\"https://github.com/jupyter/docker-stacks/issues/2275\">(#2275)</a>: <em>Excessive DNS Queries in JupyterHub Docker Container After Upgrade</em> by <strong><a href=\"https://github.com/cameronj86\">@cameronj86</a></strong></li>\n<li><a href=\"https://github.com/jupyter/docker-stacks/issues/2292\">(#2292)</a>: <em>Support a workflow for extending the base environment in a reproducible fashion</em> by <strong><a href=\"https://github.com/ctcjab\">@ctcjab</a></strong></li>\n<li><a href=\"https://github.com/jupyter/docker-stacks/issues/2250\">(#2250)</a>: <em>i can't use url+token to visit lab page</em> by <strong><a href=\"https://github.com/QuincyWuzefeng\">@QuincyWuzefeng</a></strong></li>\n<li><a href=\"https://github.com/jupyter/docker-stacks/issues/2245\">(#2245)</a>: <em>Mounting path /home/jovyan</em> by <strong><a href=\"https://github.com/jankogasic\">@jankogasic</a></strong></li>\n</ul>"
      }
     },
     "f6977409ef9c4054a81e206f9e09461c": {
      "model_module": "@jupyter-widgets/controls",
      "model_module_version": "2.0.0",
      "model_name": "HTMLModel",
      "state": {
       "_dom_classes": [],
       "_model_module": "@jupyter-widgets/controls",
       "_model_module_version": "2.0.0",
       "_model_name": "HTMLModel",
       "_view_count": null,
       "_view_module": "@jupyter-widgets/controls",
       "_view_module_version": "2.0.0",
       "_view_name": "HTMLView",
       "description": "",
       "description_allow_html": false,
       "layout": "IPY_MODEL_0ff8582ac1584ae397684cbe7cfcbb89",
       "placeholder": "​",
       "style": "IPY_MODEL_47181e4d60304610943261874aebd34c",
       "tabbable": null,
       "tooltip": null,
       "value": "<h5><a href=\"https://github.com/jupyter/jupyter_client\">jupyter/jupyter_client</a></h5>\n<ul>\n<li><a href=\"https://github.com/jupyter/jupyter_client/issues/1055\">(#1055)</a>: <em>enhancement to help kernel provisioners introspect notebooks for their dependencies</em> by <strong><a href=\"https://github.com/itcarroll\">@itcarroll</a></strong></li>\n<li><a href=\"https://github.com/jupyter/jupyter_client/issues/1026\">(#1026)</a>: <em>Exception raised in KernelClient.del when shutting down kernel after executing code using kc.execute_interactive()</em> by <strong><a href=\"https://github.com/vivekvedant\">@vivekvedant</a></strong></li>\n<li><a href=\"https://github.com/jupyter/jupyter_client/issues/1053\">(#1053)</a>: <em>coroutine 'KernelManager._async_start_kernel' was never awaited</em> by <strong><a href=\"https://github.com/benjamincburns\">@benjamincburns</a></strong></li>\n</ul>"
      }
     },
     "f7900df924724a8b8bc4f904099077c9": {
      "model_module": "@jupyter-widgets/controls",
      "model_module_version": "2.0.0",
      "model_name": "HTMLStyleModel",
      "state": {
       "_model_module": "@jupyter-widgets/controls",
       "_model_module_version": "2.0.0",
       "_model_name": "HTMLStyleModel",
       "_view_count": null,
       "_view_module": "@jupyter-widgets/base",
       "_view_module_version": "2.0.0",
       "_view_name": "StyleView",
       "background": null,
       "description_width": "",
       "font_size": null,
       "text_color": null
      }
     },
     "fa6d293d6f454b5db0650a5b1d436419": {
      "model_module": "@jupyter-widgets/base",
      "model_module_version": "2.0.0",
      "model_name": "LayoutModel",
      "state": {
       "_model_module": "@jupyter-widgets/base",
       "_model_module_version": "2.0.0",
       "_model_name": "LayoutModel",
       "_view_count": null,
       "_view_module": "@jupyter-widgets/base",
       "_view_module_version": "2.0.0",
       "_view_name": "LayoutView",
       "align_content": null,
       "align_items": null,
       "align_self": null,
       "border_bottom": null,
       "border_left": null,
       "border_right": null,
       "border_top": null,
       "bottom": null,
       "display": null,
       "flex": null,
       "flex_flow": null,
       "grid_area": null,
       "grid_auto_columns": null,
       "grid_auto_flow": null,
       "grid_auto_rows": null,
       "grid_column": null,
       "grid_gap": null,
       "grid_row": null,
       "grid_template_areas": null,
       "grid_template_columns": null,
       "grid_template_rows": null,
       "height": null,
       "justify_content": null,
       "justify_items": null,
       "left": null,
       "margin": null,
       "max_height": null,
       "max_width": null,
       "min_height": null,
       "min_width": null,
       "object_fit": null,
       "object_position": null,
       "order": null,
       "overflow": null,
       "padding": null,
       "right": null,
       "top": null,
       "visibility": null,
       "width": null
      }
     },
     "fb56951451aa45889729f9d2746e0271": {
      "model_module": "@jupyter-widgets/base",
      "model_module_version": "2.0.0",
      "model_name": "LayoutModel",
      "state": {
       "_model_module": "@jupyter-widgets/base",
       "_model_module_version": "2.0.0",
       "_model_name": "LayoutModel",
       "_view_count": null,
       "_view_module": "@jupyter-widgets/base",
       "_view_module_version": "2.0.0",
       "_view_name": "LayoutView",
       "align_content": null,
       "align_items": null,
       "align_self": null,
       "border_bottom": null,
       "border_left": null,
       "border_right": null,
       "border_top": null,
       "bottom": null,
       "display": null,
       "flex": null,
       "flex_flow": null,
       "grid_area": null,
       "grid_auto_columns": null,
       "grid_auto_flow": null,
       "grid_auto_rows": null,
       "grid_column": null,
       "grid_gap": null,
       "grid_row": null,
       "grid_template_areas": null,
       "grid_template_columns": null,
       "grid_template_rows": null,
       "height": null,
       "justify_content": null,
       "justify_items": null,
       "left": null,
       "margin": null,
       "max_height": null,
       "max_width": null,
       "min_height": null,
       "min_width": null,
       "object_fit": null,
       "object_position": null,
       "order": null,
       "overflow": null,
       "padding": null,
       "right": null,
       "top": null,
       "visibility": null,
       "width": null
      }
     },
     "fe140fe40ce44b64a96b64d718ea6a8f": {
      "model_module": "@jupyter-widgets/base",
      "model_module_version": "2.0.0",
      "model_name": "LayoutModel",
      "state": {
       "_model_module": "@jupyter-widgets/base",
       "_model_module_version": "2.0.0",
       "_model_name": "LayoutModel",
       "_view_count": null,
       "_view_module": "@jupyter-widgets/base",
       "_view_module_version": "2.0.0",
       "_view_name": "LayoutView",
       "align_content": null,
       "align_items": null,
       "align_self": null,
       "border_bottom": null,
       "border_left": null,
       "border_right": null,
       "border_top": null,
       "bottom": null,
       "display": null,
       "flex": null,
       "flex_flow": null,
       "grid_area": null,
       "grid_auto_columns": null,
       "grid_auto_flow": null,
       "grid_auto_rows": null,
       "grid_column": null,
       "grid_gap": null,
       "grid_row": null,
       "grid_template_areas": null,
       "grid_template_columns": null,
       "grid_template_rows": null,
       "height": null,
       "justify_content": null,
       "justify_items": null,
       "left": null,
       "margin": null,
       "max_height": null,
       "max_width": null,
       "min_height": null,
       "min_width": null,
       "object_fit": null,
       "object_position": null,
       "order": null,
       "overflow": null,
       "padding": null,
       "right": null,
       "top": null,
       "visibility": null,
       "width": null
      }
     }
    },
    "version_major": 2,
    "version_minor": 0
   }
  }
 },
 "nbformat": 4,
 "nbformat_minor": 5
}