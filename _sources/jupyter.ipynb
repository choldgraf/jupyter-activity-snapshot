{
 "cells": [
  {
   "cell_type": "markdown",
   "id": "ceed9fd1",
   "metadata": {
    "papermill": {
     "duration": 0.01553,
     "end_time": "2025-05-20T01:30:58.259458",
     "exception": false,
     "start_time": "2025-05-20T01:30:58.243928",
     "status": "completed"
    },
    "tags": []
   },
   "source": [
    "# {glue:text}`jupyter_github_org`\n",
    "\n",
    "**Activity from {glue:}`jupyter_start` to {glue:}`jupyter_stop`**"
   ]
  },
  {
   "cell_type": "code",
   "execution_count": 1,
   "id": "3b47e084",
   "metadata": {
    "editable": true,
    "execution": {
     "iopub.execute_input": "2025-05-20T01:30:58.290528Z",
     "iopub.status.busy": "2025-05-20T01:30:58.290036Z",
     "iopub.status.idle": "2025-05-20T01:30:59.106837Z",
     "shell.execute_reply": "2025-05-20T01:30:59.106089Z"
    },
    "papermill": {
     "duration": 0.834159,
     "end_time": "2025-05-20T01:30:59.108378",
     "exception": false,
     "start_time": "2025-05-20T01:30:58.274219",
     "status": "completed"
    },
    "slideshow": {
     "slide_type": ""
    },
    "tags": [
     "remove_cell"
    ]
   },
   "outputs": [],
   "source": [
    "from datetime import date\n",
    "from dateutil.relativedelta import relativedelta\n",
    "from myst_nb import glue\n",
    "import seaborn as sns\n",
    "import pandas as pd\n",
    "import numpy as np\n",
    "import altair as alt\n",
    "from markdown import markdown\n",
    "from IPython.display import Markdown\n",
    "from ipywidgets.widgets import HTML, Tab\n",
    "from ipywidgets import widgets\n",
    "from datetime import timedelta\n",
    "from matplotlib import pyplot as plt\n",
    "import os.path as op\n",
    "from json import loads\n",
    "\n",
    "from warnings import simplefilter\n",
    "simplefilter('ignore')\n",
    "pd.set_option('display.max_columns', None) # 'None' means show all"
   ]
  },
  {
   "cell_type": "code",
   "execution_count": 2,
   "id": "1165505b",
   "metadata": {
    "editable": true,
    "execution": {
     "iopub.execute_input": "2025-05-20T01:30:59.139565Z",
     "iopub.status.busy": "2025-05-20T01:30:59.139083Z",
     "iopub.status.idle": "2025-05-20T01:30:59.145853Z",
     "shell.execute_reply": "2025-05-20T01:30:59.145307Z"
    },
    "papermill": {
     "duration": 0.023297,
     "end_time": "2025-05-20T01:30:59.146886",
     "exception": false,
     "start_time": "2025-05-20T01:30:59.123589",
     "status": "completed"
    },
    "slideshow": {
     "slide_type": ""
    },
    "tags": [
     "remove_cell"
    ]
   },
   "outputs": [],
   "source": [
    "# Altair config\n",
    "def author_url(author):\n",
    "    return f\"https://github.com/{author}\"\n",
    "\n",
    "def alt_theme():\n",
    "    return {\n",
    "        'config': {\n",
    "            'axisLeft': {\n",
    "                'labelFontSize': 15,\n",
    "            },\n",
    "            'axisBottom': {\n",
    "                'labelFontSize': 15,\n",
    "            },\n",
    "        }\n",
    "    }\n",
    "\n",
    "alt.themes.register('my_theme', alt_theme)\n",
    "alt.themes.enable(\"my_theme\")\n",
    "\n",
    "\n",
    "# Define colors we'll use for GitHub membership\n",
    "author_types = ['MEMBER', 'CONTRIBUTOR', 'COLLABORATOR', \"NONE\"]\n",
    "\n",
    "author_palette = np.array(sns.palettes.blend_palette([\"lightgrey\", \"lightgreen\", \"darkgreen\"], 4)) * 256\n",
    "author_colors = [\"rgb({}, {}, {})\".format(*color) for color in author_palette]\n",
    "author_color_dict = {key: val for key, val in zip(author_types, author_palette)}"
   ]
  },
  {
   "cell_type": "code",
   "execution_count": 3,
   "id": "0a86fa5d",
   "metadata": {
    "editable": true,
    "execution": {
     "iopub.execute_input": "2025-05-20T01:30:59.176151Z",
     "iopub.status.busy": "2025-05-20T01:30:59.175751Z",
     "iopub.status.idle": "2025-05-20T01:30:59.178895Z",
     "shell.execute_reply": "2025-05-20T01:30:59.178314Z"
    },
    "papermill": {
     "duration": 0.01889,
     "end_time": "2025-05-20T01:30:59.179885",
     "exception": false,
     "start_time": "2025-05-20T01:30:59.160995",
     "status": "completed"
    },
    "slideshow": {
     "slide_type": ""
    },
    "tags": [
     "parameters",
     "hide_input",
     "remove_cell"
    ]
   },
   "outputs": [],
   "source": [
    "github_org = \"jupyterhub\"\n",
    "top_n_repos = 15\n",
    "n_days = 90"
   ]
  },
  {
   "cell_type": "code",
   "execution_count": 4,
   "id": "83c21b90",
   "metadata": {
    "execution": {
     "iopub.execute_input": "2025-05-20T01:30:59.208879Z",
     "iopub.status.busy": "2025-05-20T01:30:59.208618Z",
     "iopub.status.idle": "2025-05-20T01:30:59.211431Z",
     "shell.execute_reply": "2025-05-20T01:30:59.210929Z"
    },
    "papermill": {
     "duration": 0.018526,
     "end_time": "2025-05-20T01:30:59.212392",
     "exception": false,
     "start_time": "2025-05-20T01:30:59.193866",
     "status": "completed"
    },
    "tags": [
     "injected-parameters",
     "remove-cell"
    ]
   },
   "outputs": [],
   "source": [
    "# Parameters\n",
    "github_org = \"jupyter\"\n",
    "n_days = 90\n"
   ]
  },
  {
   "cell_type": "code",
   "execution_count": 5,
   "id": "7c5c078d",
   "metadata": {
    "editable": true,
    "execution": {
     "iopub.execute_input": "2025-05-20T01:30:59.242403Z",
     "iopub.status.busy": "2025-05-20T01:30:59.242220Z",
     "iopub.status.idle": "2025-05-20T01:30:59.264094Z",
     "shell.execute_reply": "2025-05-20T01:30:59.263580Z"
    },
    "papermill": {
     "duration": 0.038078,
     "end_time": "2025-05-20T01:30:59.265112",
     "exception": false,
     "start_time": "2025-05-20T01:30:59.227034",
     "status": "completed"
    },
    "slideshow": {
     "slide_type": ""
    },
    "tags": [
     "remove_cell"
    ]
   },
   "outputs": [
    {
     "data": {
      "application/papermill.record/text/plain": "'jupyter'"
     },
     "metadata": {
      "scrapbook": {
       "mime_prefix": "application/papermill.record/",
       "name": "jupyter_github_org"
      }
     },
     "output_type": "display_data"
    },
    {
     "data": {
      "application/papermill.record/text/plain": "'2025-02-19'"
     },
     "metadata": {
      "scrapbook": {
       "mime_prefix": "application/papermill.record/",
       "name": "jupyter_start"
      }
     },
     "output_type": "display_data"
    },
    {
     "data": {
      "application/papermill.record/text/plain": "'2025-05-20'"
     },
     "metadata": {
      "scrapbook": {
       "mime_prefix": "application/papermill.record/",
       "name": "jupyter_stop"
      }
     },
     "output_type": "display_data"
    }
   ],
   "source": [
    "############################################################\n",
    "# Variables\n",
    "stop = date.today()\n",
    "start = date.today() - relativedelta(days=n_days)\n",
    "\n",
    "# Strings for use in queries\n",
    "start_date = f\"{start:%Y-%m-%d}\"\n",
    "stop_date = f\"{stop:%Y-%m-%d}\"\n",
    "\n",
    "# Glue variables for use in markdown\n",
    "glue(f\"{github_org}_github_org\", github_org, display=False)\n",
    "glue(f\"{github_org}_start\", start_date, display=False)\n",
    "glue(f\"{github_org}_stop\", stop_date, display=False)"
   ]
  },
  {
   "cell_type": "markdown",
   "id": "3e914694",
   "metadata": {
    "editable": true,
    "papermill": {
     "duration": 0.014284,
     "end_time": "2025-05-20T01:30:59.293847",
     "exception": false,
     "start_time": "2025-05-20T01:30:59.279563",
     "status": "completed"
    },
    "slideshow": {
     "slide_type": ""
    },
    "tags": []
   },
   "source": [
    "## Load data\n",
    "\n",
    "Load and clean up the data"
   ]
  },
  {
   "cell_type": "code",
   "execution_count": 6,
   "id": "0aa59290",
   "metadata": {
    "editable": true,
    "execution": {
     "iopub.execute_input": "2025-05-20T01:30:59.323608Z",
     "iopub.status.busy": "2025-05-20T01:30:59.323172Z",
     "iopub.status.idle": "2025-05-20T01:30:59.327296Z",
     "shell.execute_reply": "2025-05-20T01:30:59.326791Z"
    },
    "papermill": {
     "duration": 0.020118,
     "end_time": "2025-05-20T01:30:59.328260",
     "exception": false,
     "start_time": "2025-05-20T01:30:59.308142",
     "status": "completed"
    },
    "slideshow": {
     "slide_type": ""
    },
    "tags": [
     "remove_cell"
    ]
   },
   "outputs": [],
   "source": [
    "from pathlib import Path\n",
    "import sqlite3\n",
    "path_data = Path(\"../data\")\n",
    "path_data = list(path_data.rglob(f\"*{github_org}.db\"))[0]\n",
    "\n",
    "def df_from_sql(query, db):\n",
    "    con = sqlite3.connect(db)\n",
    "    return pd.read_sql(query, con)\n",
    "    con.close()"
   ]
  },
  {
   "cell_type": "code",
   "execution_count": 7,
   "id": "7ae52bff",
   "metadata": {
    "editable": true,
    "execution": {
     "iopub.execute_input": "2025-05-20T01:30:59.359531Z",
     "iopub.status.busy": "2025-05-20T01:30:59.359190Z",
     "iopub.status.idle": "2025-05-20T01:31:00.212823Z",
     "shell.execute_reply": "2025-05-20T01:31:00.212213Z"
    },
    "papermill": {
     "duration": 0.871092,
     "end_time": "2025-05-20T01:31:00.214230",
     "exception": false,
     "start_time": "2025-05-20T01:30:59.343138",
     "status": "completed"
    },
    "scrolled": true,
    "slideshow": {
     "slide_type": ""
    },
    "tags": [
     "remove_cell"
    ]
   },
   "outputs": [
    {
     "name": "stdout",
     "output_type": "stream",
     "text": [
      "Loading from ../data/9edfdc2b0b0cf4987293f0d8604d009e-jupyter.db\n"
     ]
    }
   ],
   "source": [
    "print(f\"Loading from {path_data}\")\n",
    "repos = df_from_sql(\"SELECT * FROM repos\", path_data)\n",
    "users = df_from_sql(\"SELECT * FROM users\", path_data)\n",
    "issues = df_from_sql(\"SELECT * FROM issues\", path_data)\n",
    "comments = df_from_sql(\"SELECT * FROM issue_comments\", path_data)\n",
    "\n",
    "# Merge repository information into issues\n",
    "def merge_repo_into_df(df, kind):\n",
    "    df = pd.merge(df, users[[\"id\", \"login\"]], left_on=\"user\", right_on=\"id\", suffixes=(\"_issue\", \"_user\"), how=\"inner\")\n",
    "    df = pd.merge(df, repos[[\"id\", \"full_name\", \"name\"]], left_on=\"repo\", right_on=\"id\", suffixes=(\"_issue\", \"_repo\"), how=\"inner\")\n",
    "    df[\"org\"] = df[\"full_name\"].map(lambda a: a.split('/')[0])\n",
    "    df[\"repo\"] = df[\"full_name\"].map(lambda a: a.split('/')[1])\n",
    "    df[\"url\"] = \"https://github.com/\" + df[\"org\"] + \"/\" + df[\"repo\"] + f\"/{kind}/\" + df[\"number\"].astype(str)\n",
    "    return df\n",
    "issues = merge_repo_into_df(issues, kind=\"issues\")\n",
    "\n",
    "# Pull out the Pull Requests from Issues\n",
    "prs = issues.loc[~issues[\"pull_request\"].isna()]\n",
    "def identify_merger(closedby):\n",
    "    if not closedby:\n",
    "        return None\n",
    "    try:\n",
    "        cb = loads(closedby)\n",
    "    except:\n",
    "        print(closedby)\n",
    "    return cb[\"login\"]\n",
    "prs[\"merged_by\"] = prs[\"closed_by\"].map(identify_merger)\n",
    "\n",
    "# These issues now _remove_ the PRs\n",
    "issues = issues.loc[issues[\"pull_request\"].isna()]\n",
    "\n",
    "# Add reactions data\n",
    "def count_positive(a):\n",
    "    a = loads(a)\n",
    "    return a[\"+1\"] + a[\"hooray\"] + a[\"heart\"]\n",
    "issues[\"positive\"] = issues[\"reactions\"].map(count_positive)\n",
    "\n",
    "# Drop comments if there is no associated issue\n",
    "comments = comments.dropna(subset=[\"issue\"])\n",
    "comments[\"issue\"] = comments.loc[:, \"issue\"].astype(int)\n",
    "\n",
    "# Add repository information to comments\n",
    "comments = pd.merge(comments, issues[[\"id_issue\", \"full_name\", \"org\", \"repo\"]], left_on=\"issue\", right_on=\"id_issue\", how=\"inner\", suffixes=(\"_comment\", \"_issue\"))\n",
    "\n",
    "# Merge user data into comments\n",
    "comments = pd.merge(comments, users[[\"id\", \"login\"]], left_on=\"user\", right_on=\"id\", suffixes=(\"_comment\", \"_user\"), how=\"inner\")"
   ]
  },
  {
   "cell_type": "code",
   "execution_count": 8,
   "id": "9c990e3a",
   "metadata": {
    "editable": true,
    "execution": {
     "iopub.execute_input": "2025-05-20T01:31:00.244985Z",
     "iopub.status.busy": "2025-05-20T01:31:00.244357Z",
     "iopub.status.idle": "2025-05-20T01:31:00.342009Z",
     "shell.execute_reply": "2025-05-20T01:31:00.341329Z"
    },
    "papermill": {
     "duration": 0.114128,
     "end_time": "2025-05-20T01:31:00.343225",
     "exception": false,
     "start_time": "2025-05-20T01:31:00.229097",
     "status": "completed"
    },
    "slideshow": {
     "slide_type": ""
    },
    "tags": [
     "remove_cell"
    ]
   },
   "outputs": [],
   "source": [
    "# Convert columns to datetime\n",
    "datetime_columns = [\"created_at\", \"closed_at\"]\n",
    "for df in [comments, issues, prs]:\n",
    "    for col in datetime_columns:\n",
    "        if col in df:\n",
    "            df[col] = pd.to_datetime(df[col])\n",
    "            # Strip timezone information so we can run simpler queries\n",
    "            df[col] = df[col].dt.tz_localize(None)"
   ]
  },
  {
   "cell_type": "code",
   "execution_count": 9,
   "id": "1c72e331",
   "metadata": {
    "editable": true,
    "execution": {
     "iopub.execute_input": "2025-05-20T01:31:00.374511Z",
     "iopub.status.busy": "2025-05-20T01:31:00.374318Z",
     "iopub.status.idle": "2025-05-20T01:31:00.406422Z",
     "shell.execute_reply": "2025-05-20T01:31:00.405877Z"
    },
    "papermill": {
     "duration": 0.04914,
     "end_time": "2025-05-20T01:31:00.407502",
     "exception": false,
     "start_time": "2025-05-20T01:31:00.358362",
     "status": "completed"
    },
    "slideshow": {
     "slide_type": ""
    },
    "tags": [
     "remove_cell"
    ]
   },
   "outputs": [],
   "source": [
    "# What are the top N repos, we will only plot these in the full data plots\n",
    "top_commented_repos = comments.groupby(\"repo\").count().sort_values(\"created_at\", ascending=False)['created_at']\n",
    "use_repos = top_commented_repos.head(top_n_repos).index.tolist()"
   ]
  },
  {
   "cell_type": "markdown",
   "id": "85ec299a",
   "metadata": {
    "editable": true,
    "papermill": {
     "duration": 0.058766,
     "end_time": "2025-05-20T01:31:00.480821",
     "exception": false,
     "start_time": "2025-05-20T01:31:00.422055",
     "status": "completed"
    },
    "slideshow": {
     "slide_type": ""
    },
    "tags": [],
    "toc-hr-collapsed": false
   },
   "source": [
    "## Merged Pull requests\n",
    "\n",
    "Here's an analysis of **merged pull requests** across each of the repositories in the Jupyter\n",
    "ecosystem."
   ]
  },
  {
   "cell_type": "code",
   "execution_count": 10,
   "id": "3048b86b",
   "metadata": {
    "editable": true,
    "execution": {
     "iopub.execute_input": "2025-05-20T01:31:00.512868Z",
     "iopub.status.busy": "2025-05-20T01:31:00.512358Z",
     "iopub.status.idle": "2025-05-20T01:31:00.524753Z",
     "shell.execute_reply": "2025-05-20T01:31:00.524095Z"
    },
    "papermill": {
     "duration": 0.029959,
     "end_time": "2025-05-20T01:31:00.525986",
     "exception": false,
     "start_time": "2025-05-20T01:31:00.496027",
     "status": "completed"
    },
    "slideshow": {
     "slide_type": ""
    },
    "tags": [
     "remove_cell"
    ]
   },
   "outputs": [],
   "source": [
    "merged = prs.query('state == \"closed\" and closed_at > @start_date and closed_at < @stop_date')"
   ]
  },
  {
   "cell_type": "code",
   "execution_count": 11,
   "id": "4f4424ed",
   "metadata": {
    "editable": true,
    "execution": {
     "iopub.execute_input": "2025-05-20T01:31:00.556196Z",
     "iopub.status.busy": "2025-05-20T01:31:00.555951Z",
     "iopub.status.idle": "2025-05-20T01:31:00.595138Z",
     "shell.execute_reply": "2025-05-20T01:31:00.594583Z"
    },
    "papermill": {
     "duration": 0.055645,
     "end_time": "2025-05-20T01:31:00.596247",
     "exception": false,
     "start_time": "2025-05-20T01:31:00.540602",
     "status": "completed"
    },
    "slideshow": {
     "slide_type": ""
    },
    "tags": [
     "hide_input"
    ]
   },
   "outputs": [
    {
     "data": {
      "text/html": [
       "\n",
       "<style>\n",
       "  #altair-viz-3e6d9779cfc543ee862fc3fdd740ab22.vega-embed {\n",
       "    width: 100%;\n",
       "    display: flex;\n",
       "  }\n",
       "\n",
       "  #altair-viz-3e6d9779cfc543ee862fc3fdd740ab22.vega-embed details,\n",
       "  #altair-viz-3e6d9779cfc543ee862fc3fdd740ab22.vega-embed details summary {\n",
       "    position: relative;\n",
       "  }\n",
       "</style>\n",
       "<div id=\"altair-viz-3e6d9779cfc543ee862fc3fdd740ab22\"></div>\n",
       "<script type=\"text/javascript\">\n",
       "  var VEGA_DEBUG = (typeof VEGA_DEBUG == \"undefined\") ? {} : VEGA_DEBUG;\n",
       "  (function(spec, embedOpt){\n",
       "    let outputDiv = document.currentScript.previousElementSibling;\n",
       "    if (outputDiv.id !== \"altair-viz-3e6d9779cfc543ee862fc3fdd740ab22\") {\n",
       "      outputDiv = document.getElementById(\"altair-viz-3e6d9779cfc543ee862fc3fdd740ab22\");\n",
       "    }\n",
       "\n",
       "    const paths = {\n",
       "      \"vega\": \"https://cdn.jsdelivr.net/npm/vega@5?noext\",\n",
       "      \"vega-lib\": \"https://cdn.jsdelivr.net/npm/vega-lib?noext\",\n",
       "      \"vega-lite\": \"https://cdn.jsdelivr.net/npm/vega-lite@5.20.1?noext\",\n",
       "      \"vega-embed\": \"https://cdn.jsdelivr.net/npm/vega-embed@6?noext\",\n",
       "    };\n",
       "\n",
       "    function maybeLoadScript(lib, version) {\n",
       "      var key = `${lib.replace(\"-\", \"\")}_version`;\n",
       "      return (VEGA_DEBUG[key] == version) ?\n",
       "        Promise.resolve(paths[lib]) :\n",
       "        new Promise(function(resolve, reject) {\n",
       "          var s = document.createElement('script');\n",
       "          document.getElementsByTagName(\"head\")[0].appendChild(s);\n",
       "          s.async = true;\n",
       "          s.onload = () => {\n",
       "            VEGA_DEBUG[key] = version;\n",
       "            return resolve(paths[lib]);\n",
       "          };\n",
       "          s.onerror = () => reject(`Error loading script: ${paths[lib]}`);\n",
       "          s.src = paths[lib];\n",
       "        });\n",
       "    }\n",
       "\n",
       "    function showError(err) {\n",
       "      outputDiv.innerHTML = `<div class=\"error\" style=\"color:red;\">${err}</div>`;\n",
       "      throw err;\n",
       "    }\n",
       "\n",
       "    function displayChart(vegaEmbed) {\n",
       "      vegaEmbed(outputDiv, spec, embedOpt)\n",
       "        .catch(err => showError(`Javascript Error: ${err.message}<br>This usually means there's a typo in your chart specification. See the javascript console for the full traceback.`));\n",
       "    }\n",
       "\n",
       "    if(typeof define === \"function\" && define.amd) {\n",
       "      requirejs.config({paths});\n",
       "      let deps = [\"vega-embed\"];\n",
       "      require(deps, displayChart, err => showError(`Error loading script: ${err.message}`));\n",
       "    } else {\n",
       "      maybeLoadScript(\"vega\", \"5\")\n",
       "        .then(() => maybeLoadScript(\"vega-lite\", \"5.20.1\"))\n",
       "        .then(() => maybeLoadScript(\"vega-embed\", \"6\"))\n",
       "        .catch(showError)\n",
       "        .then(() => displayChart(vegaEmbed));\n",
       "    }\n",
       "  })({\"config\": {\"axisLeft\": {\"labelFontSize\": 15}, \"axisBottom\": {\"labelFontSize\": 15}}, \"data\": {\"name\": \"data-25b156a63a274ce9bad7a41553b50557\"}, \"mark\": {\"type\": \"bar\"}, \"encoding\": {\"color\": {\"field\": \"org\", \"type\": \"nominal\"}, \"x\": {\"field\": \"repo\", \"sort\": [\"docker-stacks\", \"notebook\", \"nbclassic\", \"governance\", \"jupyter.github.io\", \"jupyter_core\", \"jupyter\", \"security\", \"cookiecutter-docker-stacks\", \"nbgrader\", \"notebook_shim\", \"enhancement-proposals\", \"jupyter_client\", \"jupyter_events\", \"kernels-team-compass\", \"nbdime\", \"nbformat\", \"nbviewer\", \"testpath\"], \"type\": \"nominal\"}, \"y\": {\"field\": \"login\", \"type\": \"quantitative\"}}, \"title\": \"Merged PRs in the last 90 days\", \"$schema\": \"https://vega.github.io/schema/vega-lite/v5.20.1.json\", \"datasets\": {\"data-25b156a63a274ce9bad7a41553b50557\": [{\"org\": \"jupyter\", \"repo\": \"docker-stacks\", \"login\": 64}, {\"org\": \"jupyter\", \"repo\": \"notebook\", \"login\": 40}, {\"org\": \"jupyter\", \"repo\": \"nbclassic\", \"login\": 20}, {\"org\": \"jupyter\", \"repo\": \"governance\", \"login\": 13}, {\"org\": \"jupyter\", \"repo\": \"jupyter.github.io\", \"login\": 11}, {\"org\": \"jupyter\", \"repo\": \"jupyter_core\", \"login\": 11}, {\"org\": \"jupyter\", \"repo\": \"jupyter\", \"login\": 9}, {\"org\": \"jupyter\", \"repo\": \"security\", \"login\": 5}, {\"org\": \"jupyter\", \"repo\": \"cookiecutter-docker-stacks\", \"login\": 4}, {\"org\": \"jupyter\", \"repo\": \"nbgrader\", \"login\": 4}, {\"org\": \"jupyter\", \"repo\": \"notebook_shim\", \"login\": 2}, {\"org\": \"jupyter\", \"repo\": \"enhancement-proposals\", \"login\": 1}, {\"org\": \"jupyter\", \"repo\": \"jupyter_client\", \"login\": 1}, {\"org\": \"jupyter\", \"repo\": \"jupyter_events\", \"login\": 1}, {\"org\": \"jupyter\", \"repo\": \"kernels-team-compass\", \"login\": 1}, {\"org\": \"jupyter\", \"repo\": \"nbdime\", \"login\": 1}, {\"org\": \"jupyter\", \"repo\": \"nbformat\", \"login\": 1}, {\"org\": \"jupyter\", \"repo\": \"nbviewer\", \"login\": 1}, {\"org\": \"jupyter\", \"repo\": \"testpath\", \"login\": 1}]}}, {\"mode\": \"vega-lite\"});\n",
       "</script>"
      ],
      "text/plain": [
       "alt.Chart(...)"
      ]
     },
     "execution_count": 11,
     "metadata": {},
     "output_type": "execute_result"
    }
   ],
   "source": [
    "prs_by_repo = merged.groupby(['org', 'repo']).count()['login'].reset_index().sort_values(['org', 'login'], ascending=False)\n",
    "alt.Chart(data=prs_by_repo, title=f\"Merged PRs in the last {n_days} days\").mark_bar().encode(\n",
    "    x=alt.X('repo', sort=prs_by_repo['repo'].values.tolist()),\n",
    "    y='login',\n",
    "    color='org'\n",
    ")"
   ]
  },
  {
   "cell_type": "markdown",
   "id": "ed99311b",
   "metadata": {
    "editable": true,
    "papermill": {
     "duration": 0.015632,
     "end_time": "2025-05-20T01:31:00.627299",
     "exception": false,
     "start_time": "2025-05-20T01:31:00.611667",
     "status": "completed"
    },
    "slideshow": {
     "slide_type": ""
    },
    "tags": []
   },
   "source": [
    "### Authoring and merging stats by repository\n",
    "\n",
    "Let's see who has been doing most of the PR authoring and merging. The PR author is generally the\n",
    "person that implemented a change in the repository (code, documentation, etc). The PR merger is\n",
    "the person that \"pressed the green button\" and got the change into the main codebase."
   ]
  },
  {
   "cell_type": "code",
   "execution_count": 12,
   "id": "8d6fdd40",
   "metadata": {
    "editable": true,
    "execution": {
     "iopub.execute_input": "2025-05-20T01:31:00.658255Z",
     "iopub.status.busy": "2025-05-20T01:31:00.657863Z",
     "iopub.status.idle": "2025-05-20T01:31:00.668016Z",
     "shell.execute_reply": "2025-05-20T01:31:00.667356Z"
    },
    "papermill": {
     "duration": 0.027053,
     "end_time": "2025-05-20T01:31:00.669071",
     "exception": false,
     "start_time": "2025-05-20T01:31:00.642018",
     "status": "completed"
    },
    "slideshow": {
     "slide_type": ""
    },
    "tags": [
     "remove_cell"
    ]
   },
   "outputs": [],
   "source": [
    "# Prep our merging DF\n",
    "merged_by_repo = merged.groupby(['repo', 'login'], as_index=False).agg({'id': 'count', 'author_association': 'first'}).rename(columns={'id': \"authored\", 'login': 'username'})\n",
    "closed_by_repo = merged.groupby(['name', 'merged_by']).count()['id_issue'].reset_index().rename(columns={'id_issue': \"closed\", \"merged_by\": \"username\"})"
   ]
  },
  {
   "cell_type": "code",
   "execution_count": 13,
   "id": "ac597ab5",
   "metadata": {
    "editable": true,
    "execution": {
     "iopub.execute_input": "2025-05-20T01:31:00.699559Z",
     "iopub.status.busy": "2025-05-20T01:31:00.699320Z",
     "iopub.status.idle": "2025-05-20T01:31:00.722197Z",
     "shell.execute_reply": "2025-05-20T01:31:00.721536Z"
    },
    "papermill": {
     "duration": 0.039415,
     "end_time": "2025-05-20T01:31:00.723307",
     "exception": false,
     "start_time": "2025-05-20T01:31:00.683892",
     "status": "completed"
    },
    "slideshow": {
     "slide_type": ""
    },
    "tags": [
     "hide_input"
    ]
   },
   "outputs": [
    {
     "data": {
      "text/html": [
       "\n",
       "<style>\n",
       "  #altair-viz-f69b952940254d8fa2990b4225e75796.vega-embed {\n",
       "    width: 100%;\n",
       "    display: flex;\n",
       "  }\n",
       "\n",
       "  #altair-viz-f69b952940254d8fa2990b4225e75796.vega-embed details,\n",
       "  #altair-viz-f69b952940254d8fa2990b4225e75796.vega-embed details summary {\n",
       "    position: relative;\n",
       "  }\n",
       "</style>\n",
       "<div id=\"altair-viz-f69b952940254d8fa2990b4225e75796\"></div>\n",
       "<script type=\"text/javascript\">\n",
       "  var VEGA_DEBUG = (typeof VEGA_DEBUG == \"undefined\") ? {} : VEGA_DEBUG;\n",
       "  (function(spec, embedOpt){\n",
       "    let outputDiv = document.currentScript.previousElementSibling;\n",
       "    if (outputDiv.id !== \"altair-viz-f69b952940254d8fa2990b4225e75796\") {\n",
       "      outputDiv = document.getElementById(\"altair-viz-f69b952940254d8fa2990b4225e75796\");\n",
       "    }\n",
       "\n",
       "    const paths = {\n",
       "      \"vega\": \"https://cdn.jsdelivr.net/npm/vega@5?noext\",\n",
       "      \"vega-lib\": \"https://cdn.jsdelivr.net/npm/vega-lib?noext\",\n",
       "      \"vega-lite\": \"https://cdn.jsdelivr.net/npm/vega-lite@5.20.1?noext\",\n",
       "      \"vega-embed\": \"https://cdn.jsdelivr.net/npm/vega-embed@6?noext\",\n",
       "    };\n",
       "\n",
       "    function maybeLoadScript(lib, version) {\n",
       "      var key = `${lib.replace(\"-\", \"\")}_version`;\n",
       "      return (VEGA_DEBUG[key] == version) ?\n",
       "        Promise.resolve(paths[lib]) :\n",
       "        new Promise(function(resolve, reject) {\n",
       "          var s = document.createElement('script');\n",
       "          document.getElementsByTagName(\"head\")[0].appendChild(s);\n",
       "          s.async = true;\n",
       "          s.onload = () => {\n",
       "            VEGA_DEBUG[key] = version;\n",
       "            return resolve(paths[lib]);\n",
       "          };\n",
       "          s.onerror = () => reject(`Error loading script: ${paths[lib]}`);\n",
       "          s.src = paths[lib];\n",
       "        });\n",
       "    }\n",
       "\n",
       "    function showError(err) {\n",
       "      outputDiv.innerHTML = `<div class=\"error\" style=\"color:red;\">${err}</div>`;\n",
       "      throw err;\n",
       "    }\n",
       "\n",
       "    function displayChart(vegaEmbed) {\n",
       "      vegaEmbed(outputDiv, spec, embedOpt)\n",
       "        .catch(err => showError(`Javascript Error: ${err.message}<br>This usually means there's a typo in your chart specification. See the javascript console for the full traceback.`));\n",
       "    }\n",
       "\n",
       "    if(typeof define === \"function\" && define.amd) {\n",
       "      requirejs.config({paths});\n",
       "      let deps = [\"vega-embed\"];\n",
       "      require(deps, displayChart, err => showError(`Error loading script: ${err.message}`));\n",
       "    } else {\n",
       "      maybeLoadScript(\"vega\", \"5\")\n",
       "        .then(() => maybeLoadScript(\"vega-lite\", \"5.20.1\"))\n",
       "        .then(() => maybeLoadScript(\"vega-embed\", \"6\"))\n",
       "        .catch(showError)\n",
       "        .then(() => displayChart(vegaEmbed));\n",
       "    }\n",
       "  })({\"config\": {\"axisLeft\": {\"labelFontSize\": 15}, \"axisBottom\": {\"labelFontSize\": 15}}, \"data\": {\"name\": \"data-da16c5d3ebbec980704ea195da27f13e\"}, \"mark\": {\"type\": \"bar\"}, \"encoding\": {\"color\": {\"field\": \"author_association\", \"scale\": {\"domain\": [\"MEMBER\", \"CONTRIBUTOR\", \"COLLABORATOR\", \"NONE\"], \"range\": [\"rgb(211.82745098039214, 211.82745098039214, 211.82745098039214)\", \"rgb(166.98562091503268, 229.89803921568628, 166.98562091503268)\", \"rgb(96.37647058823529, 192.75294117647059, 96.37647058823529)\", \"rgb(0.0, 100.3921568627451, 0.0)\"]}, \"type\": \"nominal\"}, \"x\": {\"field\": \"username\", \"type\": \"nominal\"}, \"y\": {\"field\": \"authored\", \"type\": \"quantitative\"}}, \"title\": \"PR authors for jupyter in the last 90 days\", \"$schema\": \"https://vega.github.io/schema/vega-lite/v5.20.1.json\", \"datasets\": {\"data-da16c5d3ebbec980704ea195da27f13e\": [{\"username\": \"mathbunnyru\", \"authored\": 52, \"author_association\": \"MEMBER\"}, {\"username\": \"jtpio\", \"authored\": 21, \"author_association\": \"MEMBER\"}, {\"username\": \"dependabot[bot]\", \"authored\": 18, \"author_association\": \"CONTRIBUTOR\"}, {\"username\": \"Carreau\", \"authored\": 17, \"author_association\": \"MEMBER\"}, {\"username\": \"danyeaw\", \"authored\": 11, \"author_association\": \"MEMBER\"}, {\"username\": \"choldgraf\", \"authored\": 10, \"author_association\": \"MEMBER\"}, {\"username\": \"pre-commit-ci[bot]\", \"authored\": 7, \"author_association\": \"CONTRIBUTOR\"}, {\"username\": \"RRosio\", \"authored\": 6, \"author_association\": \"MEMBER\"}, {\"username\": \"derekrgreene\", \"authored\": 5, \"author_association\": \"CONTRIBUTOR\"}, {\"username\": \"minrk\", \"authored\": 4, \"author_association\": \"MEMBER\"}, {\"username\": \"SylvainCorlay\", \"authored\": 3, \"author_association\": \"MEMBER\"}, {\"username\": \"shreve\", \"authored\": 3, \"author_association\": \"CONTRIBUTOR\"}, {\"username\": \"krassowski\", \"authored\": 3, \"author_association\": \"MEMBER\"}, {\"username\": \"BoomchainLabs\", \"authored\": 2, \"author_association\": \"NONE\"}, {\"username\": \"meeseeksmachine\", \"authored\": 2, \"author_association\": \"NONE\"}, {\"username\": \"jjerphan\", \"authored\": 2, \"author_association\": \"CONTRIBUTOR\"}, {\"username\": \"ivanov\", \"authored\": 2, \"author_association\": \"MEMBER\"}, {\"username\": \"honnix\", \"authored\": 2, \"author_association\": \"CONTRIBUTOR\"}, {\"username\": \"Costa-Cupie-01\", \"authored\": 1, \"author_association\": \"FIRST_TIME_CONTRIBUTOR\"}, {\"username\": \"NiklasJordan\", \"authored\": 1, \"author_association\": \"CONTRIBUTOR\"}, {\"username\": \"Emmaedler2005\", \"authored\": 1, \"author_association\": \"FIRST_TIMER\"}, {\"username\": \"Diyatuli04\", \"authored\": 1, \"author_association\": \"FIRST_TIMER\"}, {\"username\": \"Zsailer\", \"authored\": 1, \"author_association\": \"MEMBER\"}, {\"username\": \"jabbera\", \"authored\": 1, \"author_association\": \"NONE\"}, {\"username\": \"honeyreddy30\", \"authored\": 1, \"author_association\": \"FIRST_TIMER\"}, {\"username\": \"fbnrst\", \"authored\": 1, \"author_association\": \"CONTRIBUTOR\"}, {\"username\": \"github-actions[bot]\", \"authored\": 1, \"author_association\": \"CONTRIBUTOR\"}, {\"username\": \"cailiang9\", \"authored\": 1, \"author_association\": \"CONTRIBUTOR\"}, {\"username\": \"andrewfulton9\", \"authored\": 1, \"author_association\": \"CONTRIBUTOR\"}, {\"username\": \"consideRatio\", \"authored\": 1, \"author_association\": \"MEMBER\"}, {\"username\": \"craigwllce\", \"authored\": 1, \"author_association\": \"NONE\"}, {\"username\": \"matthew-brett\", \"authored\": 1, \"author_association\": \"NONE\"}, {\"username\": \"manics\", \"authored\": 1, \"author_association\": \"CONTRIBUTOR\"}, {\"username\": \"jasongrout\", \"authored\": 1, \"author_association\": \"MEMBER\"}, {\"username\": \"mgorny\", \"authored\": 1, \"author_association\": \"CONTRIBUTOR\"}, {\"username\": \"rpwagner\", \"authored\": 1, \"author_association\": \"MEMBER\"}, {\"username\": \"sagelywizard\", \"authored\": 1, \"author_association\": \"CONTRIBUTOR\"}, {\"username\": \"sebwills\", \"authored\": 1, \"author_association\": \"CONTRIBUTOR\"}, {\"username\": \"twalcari\", \"authored\": 1, \"author_association\": \"CONTRIBUTOR\"}]}}, {\"mode\": \"vega-lite\"});\n",
       "</script>"
      ],
      "text/plain": [
       "alt.Chart(...)"
      ]
     },
     "execution_count": 13,
     "metadata": {},
     "output_type": "execute_result"
    }
   ],
   "source": [
    "charts = []\n",
    "title = f\"PR authors for {github_org} in the last {n_days} days\"\n",
    "this_data = merged_by_repo.replace(np.nan, 0).groupby('username', as_index=False).agg({'authored': 'sum', 'author_association': 'first'})\n",
    "this_data = this_data.sort_values('authored', ascending=False)\n",
    "ch = alt.Chart(data=this_data, title=title).mark_bar().encode(\n",
    "    x='username',\n",
    "    y='authored',\n",
    "    color=alt.Color('author_association', scale=alt.Scale(domain=author_types, range=author_colors))\n",
    ")\n",
    "ch"
   ]
  },
  {
   "cell_type": "code",
   "execution_count": 14,
   "id": "cdb8493c",
   "metadata": {
    "editable": true,
    "execution": {
     "iopub.execute_input": "2025-05-20T01:31:00.755532Z",
     "iopub.status.busy": "2025-05-20T01:31:00.755119Z",
     "iopub.status.idle": "2025-05-20T01:31:00.772322Z",
     "shell.execute_reply": "2025-05-20T01:31:00.771818Z"
    },
    "papermill": {
     "duration": 0.034489,
     "end_time": "2025-05-20T01:31:00.773360",
     "exception": false,
     "start_time": "2025-05-20T01:31:00.738871",
     "status": "completed"
    },
    "slideshow": {
     "slide_type": ""
    },
    "tags": [
     "hide_input"
    ]
   },
   "outputs": [
    {
     "data": {
      "text/html": [
       "\n",
       "<style>\n",
       "  #altair-viz-ff854aa460184546b3607db3aaf1689f.vega-embed {\n",
       "    width: 100%;\n",
       "    display: flex;\n",
       "  }\n",
       "\n",
       "  #altair-viz-ff854aa460184546b3607db3aaf1689f.vega-embed details,\n",
       "  #altair-viz-ff854aa460184546b3607db3aaf1689f.vega-embed details summary {\n",
       "    position: relative;\n",
       "  }\n",
       "</style>\n",
       "<div id=\"altair-viz-ff854aa460184546b3607db3aaf1689f\"></div>\n",
       "<script type=\"text/javascript\">\n",
       "  var VEGA_DEBUG = (typeof VEGA_DEBUG == \"undefined\") ? {} : VEGA_DEBUG;\n",
       "  (function(spec, embedOpt){\n",
       "    let outputDiv = document.currentScript.previousElementSibling;\n",
       "    if (outputDiv.id !== \"altair-viz-ff854aa460184546b3607db3aaf1689f\") {\n",
       "      outputDiv = document.getElementById(\"altair-viz-ff854aa460184546b3607db3aaf1689f\");\n",
       "    }\n",
       "\n",
       "    const paths = {\n",
       "      \"vega\": \"https://cdn.jsdelivr.net/npm/vega@5?noext\",\n",
       "      \"vega-lib\": \"https://cdn.jsdelivr.net/npm/vega-lib?noext\",\n",
       "      \"vega-lite\": \"https://cdn.jsdelivr.net/npm/vega-lite@5.20.1?noext\",\n",
       "      \"vega-embed\": \"https://cdn.jsdelivr.net/npm/vega-embed@6?noext\",\n",
       "    };\n",
       "\n",
       "    function maybeLoadScript(lib, version) {\n",
       "      var key = `${lib.replace(\"-\", \"\")}_version`;\n",
       "      return (VEGA_DEBUG[key] == version) ?\n",
       "        Promise.resolve(paths[lib]) :\n",
       "        new Promise(function(resolve, reject) {\n",
       "          var s = document.createElement('script');\n",
       "          document.getElementsByTagName(\"head\")[0].appendChild(s);\n",
       "          s.async = true;\n",
       "          s.onload = () => {\n",
       "            VEGA_DEBUG[key] = version;\n",
       "            return resolve(paths[lib]);\n",
       "          };\n",
       "          s.onerror = () => reject(`Error loading script: ${paths[lib]}`);\n",
       "          s.src = paths[lib];\n",
       "        });\n",
       "    }\n",
       "\n",
       "    function showError(err) {\n",
       "      outputDiv.innerHTML = `<div class=\"error\" style=\"color:red;\">${err}</div>`;\n",
       "      throw err;\n",
       "    }\n",
       "\n",
       "    function displayChart(vegaEmbed) {\n",
       "      vegaEmbed(outputDiv, spec, embedOpt)\n",
       "        .catch(err => showError(`Javascript Error: ${err.message}<br>This usually means there's a typo in your chart specification. See the javascript console for the full traceback.`));\n",
       "    }\n",
       "\n",
       "    if(typeof define === \"function\" && define.amd) {\n",
       "      requirejs.config({paths});\n",
       "      let deps = [\"vega-embed\"];\n",
       "      require(deps, displayChart, err => showError(`Error loading script: ${err.message}`));\n",
       "    } else {\n",
       "      maybeLoadScript(\"vega\", \"5\")\n",
       "        .then(() => maybeLoadScript(\"vega-lite\", \"5.20.1\"))\n",
       "        .then(() => maybeLoadScript(\"vega-embed\", \"6\"))\n",
       "        .catch(showError)\n",
       "        .then(() => displayChart(vegaEmbed));\n",
       "    }\n",
       "  })({\"config\": {\"axisLeft\": {\"labelFontSize\": 15}, \"axisBottom\": {\"labelFontSize\": 15}}, \"data\": {\"name\": \"data-3136d5615285fffbd6ca93ddd9d33269\"}, \"mark\": {\"type\": \"bar\"}, \"encoding\": {\"x\": {\"field\": \"username\", \"type\": \"nominal\"}, \"y\": {\"field\": \"closed\", \"type\": \"quantitative\"}}, \"title\": \"Users that have merged PRs for jupyter in the last 90 days\", \"$schema\": \"https://vega.github.io/schema/vega-lite/v5.20.1.json\", \"datasets\": {\"data-3136d5615285fffbd6ca93ddd9d33269\": [{\"name\": \"cookiecutter-docker-stacks\", \"username\": \"mathbunnyru\", \"closed\": 4}, {\"name\": \"docker-stacks\", \"username\": \"jjerphan\", \"closed\": 1}, {\"name\": \"docker-stacks\", \"username\": \"manics\", \"closed\": 1}, {\"name\": \"docker-stacks\", \"username\": \"mathbunnyru\", \"closed\": 62}, {\"name\": \"enhancement-proposals\", \"username\": \"Zsailer\", \"closed\": 1}, {\"name\": \"governance\", \"username\": \"SylvainCorlay\", \"closed\": 1}, {\"name\": \"governance\", \"username\": \"Zsailer\", \"closed\": 1}, {\"name\": \"governance\", \"username\": \"choldgraf\", \"closed\": 7}, {\"name\": \"governance\", \"username\": \"jasongrout\", \"closed\": 3}, {\"name\": \"governance\", \"username\": \"krassowski\", \"closed\": 1}, {\"name\": \"jupyter\", \"username\": \"choldgraf\", \"closed\": 3}, {\"name\": \"jupyter\", \"username\": \"derekrgreene\", \"closed\": 2}, {\"name\": \"jupyter\", \"username\": \"ivanov\", \"closed\": 4}, {\"name\": \"jupyter.github.io\", \"username\": \"Ruv7\", \"closed\": 1}, {\"name\": \"jupyter.github.io\", \"username\": \"afshin\", \"closed\": 1}, {\"name\": \"jupyter.github.io\", \"username\": \"choldgraf\", \"closed\": 4}, {\"name\": \"jupyter.github.io\", \"username\": \"krassowski\", \"closed\": 4}, {\"name\": \"jupyter.github.io\", \"username\": \"rpwagner\", \"closed\": 1}, {\"name\": \"jupyter_client\", \"username\": \"minrk\", \"closed\": 1}, {\"name\": \"jupyter_core\", \"username\": \"Carreau\", \"closed\": 6}, {\"name\": \"jupyter_core\", \"username\": \"minrk\", \"closed\": 5}, {\"name\": \"jupyter_events\", \"username\": \"Carreau\", \"closed\": 1}, {\"name\": \"kernels-team-compass\", \"username\": \"Zsailer\", \"closed\": 1}, {\"name\": \"nbclassic\", \"username\": \"RRosio\", \"closed\": 18}, {\"name\": \"nbclassic\", \"username\": \"danyeaw\", \"closed\": 1}, {\"name\": \"nbclassic\", \"username\": \"matthew-brett\", \"closed\": 1}, {\"name\": \"nbdime\", \"username\": \"Costa-Cupie-01\", \"closed\": 1}, {\"name\": \"nbformat\", \"username\": \"Carreau\", \"closed\": 1}, {\"name\": \"nbgrader\", \"username\": \"brichet\", \"closed\": 4}, {\"name\": \"nbviewer\", \"username\": \"bollwyvl\", \"closed\": 1}, {\"name\": \"notebook\", \"username\": \"honeyreddy30\", \"closed\": 1}, {\"name\": \"notebook\", \"username\": \"jtpio\", \"closed\": 37}, {\"name\": \"notebook\", \"username\": \"krassowski\", \"closed\": 2}, {\"name\": \"notebook_shim\", \"username\": \"Carreau\", \"closed\": 2}, {\"name\": \"security\", \"username\": \"Carreau\", \"closed\": 4}, {\"name\": \"security\", \"username\": \"rpwagner\", \"closed\": 1}, {\"name\": \"testpath\", \"username\": \"Carreau\", \"closed\": 1}]}}, {\"mode\": \"vega-lite\"});\n",
       "</script>"
      ],
      "text/plain": [
       "alt.Chart(...)"
      ]
     },
     "execution_count": 14,
     "metadata": {},
     "output_type": "execute_result"
    }
   ],
   "source": [
    "charts = []\n",
    "title = f\"Users that have merged PRs for {github_org} in the last {n_days} days\"\n",
    "ch = alt.Chart(data=closed_by_repo.replace(np.nan, 0), title=title).mark_bar().encode(\n",
    "    x='username',\n",
    "    y='closed',\n",
    ")\n",
    "ch"
   ]
  },
  {
   "cell_type": "markdown",
   "id": "86f1fe7a",
   "metadata": {
    "editable": true,
    "papermill": {
     "duration": 0.015168,
     "end_time": "2025-05-20T01:31:00.803705",
     "exception": false,
     "start_time": "2025-05-20T01:31:00.788537",
     "status": "completed"
    },
    "slideshow": {
     "slide_type": ""
    },
    "tags": []
   },
   "source": [
    "## Issues\n",
    "\n",
    "Issues are **conversations** that happen on our GitHub repositories. Here's an\n",
    "analysis of issues across the Jupyter organizations."
   ]
  },
  {
   "cell_type": "code",
   "execution_count": 15,
   "id": "fdeaf541",
   "metadata": {
    "editable": true,
    "execution": {
     "iopub.execute_input": "2025-05-20T01:31:00.835021Z",
     "iopub.status.busy": "2025-05-20T01:31:00.834671Z",
     "iopub.status.idle": "2025-05-20T01:31:00.853353Z",
     "shell.execute_reply": "2025-05-20T01:31:00.852855Z"
    },
    "papermill": {
     "duration": 0.03551,
     "end_time": "2025-05-20T01:31:00.854383",
     "exception": false,
     "start_time": "2025-05-20T01:31:00.818873",
     "status": "completed"
    },
    "slideshow": {
     "slide_type": ""
    },
    "tags": [
     "remove_cell"
    ]
   },
   "outputs": [],
   "source": [
    "created = issues.query('state == \"open\" and created_at > @start_date and created_at < @stop_date')\n",
    "closed = issues.query('state == \"closed\" and closed_at > @start_date and closed_at < @stop_date')"
   ]
  },
  {
   "cell_type": "code",
   "execution_count": 16,
   "id": "9a66367b",
   "metadata": {
    "editable": true,
    "execution": {
     "iopub.execute_input": "2025-05-20T01:31:00.887051Z",
     "iopub.status.busy": "2025-05-20T01:31:00.886542Z",
     "iopub.status.idle": "2025-05-20T01:31:00.909402Z",
     "shell.execute_reply": "2025-05-20T01:31:00.908856Z"
    },
    "papermill": {
     "duration": 0.04033,
     "end_time": "2025-05-20T01:31:00.910427",
     "exception": false,
     "start_time": "2025-05-20T01:31:00.870097",
     "status": "completed"
    },
    "slideshow": {
     "slide_type": ""
    },
    "tags": [
     "hide_input"
    ]
   },
   "outputs": [
    {
     "data": {
      "text/html": [
       "\n",
       "<style>\n",
       "  #altair-viz-03c7347ec1ee4f29ac72b829de4c986d.vega-embed {\n",
       "    width: 100%;\n",
       "    display: flex;\n",
       "  }\n",
       "\n",
       "  #altair-viz-03c7347ec1ee4f29ac72b829de4c986d.vega-embed details,\n",
       "  #altair-viz-03c7347ec1ee4f29ac72b829de4c986d.vega-embed details summary {\n",
       "    position: relative;\n",
       "  }\n",
       "</style>\n",
       "<div id=\"altair-viz-03c7347ec1ee4f29ac72b829de4c986d\"></div>\n",
       "<script type=\"text/javascript\">\n",
       "  var VEGA_DEBUG = (typeof VEGA_DEBUG == \"undefined\") ? {} : VEGA_DEBUG;\n",
       "  (function(spec, embedOpt){\n",
       "    let outputDiv = document.currentScript.previousElementSibling;\n",
       "    if (outputDiv.id !== \"altair-viz-03c7347ec1ee4f29ac72b829de4c986d\") {\n",
       "      outputDiv = document.getElementById(\"altair-viz-03c7347ec1ee4f29ac72b829de4c986d\");\n",
       "    }\n",
       "\n",
       "    const paths = {\n",
       "      \"vega\": \"https://cdn.jsdelivr.net/npm/vega@5?noext\",\n",
       "      \"vega-lib\": \"https://cdn.jsdelivr.net/npm/vega-lib?noext\",\n",
       "      \"vega-lite\": \"https://cdn.jsdelivr.net/npm/vega-lite@5.20.1?noext\",\n",
       "      \"vega-embed\": \"https://cdn.jsdelivr.net/npm/vega-embed@6?noext\",\n",
       "    };\n",
       "\n",
       "    function maybeLoadScript(lib, version) {\n",
       "      var key = `${lib.replace(\"-\", \"\")}_version`;\n",
       "      return (VEGA_DEBUG[key] == version) ?\n",
       "        Promise.resolve(paths[lib]) :\n",
       "        new Promise(function(resolve, reject) {\n",
       "          var s = document.createElement('script');\n",
       "          document.getElementsByTagName(\"head\")[0].appendChild(s);\n",
       "          s.async = true;\n",
       "          s.onload = () => {\n",
       "            VEGA_DEBUG[key] = version;\n",
       "            return resolve(paths[lib]);\n",
       "          };\n",
       "          s.onerror = () => reject(`Error loading script: ${paths[lib]}`);\n",
       "          s.src = paths[lib];\n",
       "        });\n",
       "    }\n",
       "\n",
       "    function showError(err) {\n",
       "      outputDiv.innerHTML = `<div class=\"error\" style=\"color:red;\">${err}</div>`;\n",
       "      throw err;\n",
       "    }\n",
       "\n",
       "    function displayChart(vegaEmbed) {\n",
       "      vegaEmbed(outputDiv, spec, embedOpt)\n",
       "        .catch(err => showError(`Javascript Error: ${err.message}<br>This usually means there's a typo in your chart specification. See the javascript console for the full traceback.`));\n",
       "    }\n",
       "\n",
       "    if(typeof define === \"function\" && define.amd) {\n",
       "      requirejs.config({paths});\n",
       "      let deps = [\"vega-embed\"];\n",
       "      require(deps, displayChart, err => showError(`Error loading script: ${err.message}`));\n",
       "    } else {\n",
       "      maybeLoadScript(\"vega\", \"5\")\n",
       "        .then(() => maybeLoadScript(\"vega-lite\", \"5.20.1\"))\n",
       "        .then(() => maybeLoadScript(\"vega-embed\", \"6\"))\n",
       "        .catch(showError)\n",
       "        .then(() => displayChart(vegaEmbed));\n",
       "    }\n",
       "  })({\"config\": {\"axisLeft\": {\"labelFontSize\": 15}, \"axisBottom\": {\"labelFontSize\": 15}}, \"data\": {\"name\": \"data-9cb7b9d3c825a46e89d070dd7b845924\"}, \"mark\": {\"type\": \"bar\"}, \"encoding\": {\"x\": {\"field\": \"repo\", \"sort\": [\"security\", \"nbconvert\", \"nbgrader\", \"governance\", \"notebook\", \"jupyter_core\", \"nbdime\", \"jupyter.github.io\", \"nbclient\", \"docker-stacks\", \"docs-team-compass\", \"atom-notebook\", \"jupyter_client\", \"jupyter_console\", \"jupyter_events\", \"nbclassic\", \"nbviewer\", \"schema\", \"terminado\"], \"type\": \"nominal\"}, \"y\": {\"field\": \"number\", \"type\": \"quantitative\"}}, \"title\": \"Issues created in the last 90 days\", \"$schema\": \"https://vega.github.io/schema/vega-lite/v5.20.1.json\", \"datasets\": {\"data-9cb7b9d3c825a46e89d070dd7b845924\": [{\"org\": \"jupyter\", \"repo\": \"atom-notebook\", \"number\": 1, \"org/repo\": \"jupyter/atom-notebook\"}, {\"org\": \"jupyter\", \"repo\": \"docker-stacks\", \"number\": 2, \"org/repo\": \"jupyter/docker-stacks\"}, {\"org\": \"jupyter\", \"repo\": \"docs-team-compass\", \"number\": 2, \"org/repo\": \"jupyter/docs-team-compass\"}, {\"org\": \"jupyter\", \"repo\": \"governance\", \"number\": 5, \"org/repo\": \"jupyter/governance\"}, {\"org\": \"jupyter\", \"repo\": \"jupyter.github.io\", \"number\": 3, \"org/repo\": \"jupyter/jupyter.github.io\"}, {\"org\": \"jupyter\", \"repo\": \"jupyter_client\", \"number\": 1, \"org/repo\": \"jupyter/jupyter_client\"}, {\"org\": \"jupyter\", \"repo\": \"jupyter_console\", \"number\": 1, \"org/repo\": \"jupyter/jupyter_console\"}, {\"org\": \"jupyter\", \"repo\": \"jupyter_core\", \"number\": 4, \"org/repo\": \"jupyter/jupyter_core\"}, {\"org\": \"jupyter\", \"repo\": \"jupyter_events\", \"number\": 1, \"org/repo\": \"jupyter/jupyter_events\"}, {\"org\": \"jupyter\", \"repo\": \"nbclassic\", \"number\": 1, \"org/repo\": \"jupyter/nbclassic\"}, {\"org\": \"jupyter\", \"repo\": \"nbclient\", \"number\": 3, \"org/repo\": \"jupyter/nbclient\"}, {\"org\": \"jupyter\", \"repo\": \"nbconvert\", \"number\": 7, \"org/repo\": \"jupyter/nbconvert\"}, {\"org\": \"jupyter\", \"repo\": \"nbdime\", \"number\": 4, \"org/repo\": \"jupyter/nbdime\"}, {\"org\": \"jupyter\", \"repo\": \"nbgrader\", \"number\": 6, \"org/repo\": \"jupyter/nbgrader\"}, {\"org\": \"jupyter\", \"repo\": \"nbviewer\", \"number\": 1, \"org/repo\": \"jupyter/nbviewer\"}, {\"org\": \"jupyter\", \"repo\": \"notebook\", \"number\": 5, \"org/repo\": \"jupyter/notebook\"}, {\"org\": \"jupyter\", \"repo\": \"schema\", \"number\": 1, \"org/repo\": \"jupyter/schema\"}, {\"org\": \"jupyter\", \"repo\": \"security\", \"number\": 14, \"org/repo\": \"jupyter/security\"}, {\"org\": \"jupyter\", \"repo\": \"terminado\", \"number\": 1, \"org/repo\": \"jupyter/terminado\"}]}}, {\"mode\": \"vega-lite\"});\n",
       "</script>"
      ],
      "text/plain": [
       "alt.Chart(...)"
      ]
     },
     "execution_count": 16,
     "metadata": {},
     "output_type": "execute_result"
    }
   ],
   "source": [
    "created_counts = created.groupby(['org', 'repo']).count()['number'].reset_index()\n",
    "created_counts['org/repo'] = created_counts.apply(lambda a: a['org'] + '/' + a['repo'], axis=1)\n",
    "sorted_vals = created_counts.sort_values(['org', 'number'], ascending=False)['repo'].values\n",
    "alt.Chart(data=created_counts, title=f\"Issues created in the last {n_days} days\").mark_bar().encode(\n",
    "    x=alt.X('repo', sort=alt.Sort(sorted_vals.tolist())),\n",
    "    y='number',\n",
    ")"
   ]
  },
  {
   "cell_type": "code",
   "execution_count": 17,
   "id": "62db6f8c",
   "metadata": {
    "editable": true,
    "execution": {
     "iopub.execute_input": "2025-05-20T01:31:00.942272Z",
     "iopub.status.busy": "2025-05-20T01:31:00.941857Z",
     "iopub.status.idle": "2025-05-20T01:31:00.962128Z",
     "shell.execute_reply": "2025-05-20T01:31:00.961600Z"
    },
    "papermill": {
     "duration": 0.037264,
     "end_time": "2025-05-20T01:31:00.963146",
     "exception": false,
     "start_time": "2025-05-20T01:31:00.925882",
     "status": "completed"
    },
    "slideshow": {
     "slide_type": ""
    },
    "tags": [
     "hide_input"
    ]
   },
   "outputs": [
    {
     "data": {
      "text/html": [
       "\n",
       "<style>\n",
       "  #altair-viz-e91448710c7540acbcbf9fab0480870b.vega-embed {\n",
       "    width: 100%;\n",
       "    display: flex;\n",
       "  }\n",
       "\n",
       "  #altair-viz-e91448710c7540acbcbf9fab0480870b.vega-embed details,\n",
       "  #altair-viz-e91448710c7540acbcbf9fab0480870b.vega-embed details summary {\n",
       "    position: relative;\n",
       "  }\n",
       "</style>\n",
       "<div id=\"altair-viz-e91448710c7540acbcbf9fab0480870b\"></div>\n",
       "<script type=\"text/javascript\">\n",
       "  var VEGA_DEBUG = (typeof VEGA_DEBUG == \"undefined\") ? {} : VEGA_DEBUG;\n",
       "  (function(spec, embedOpt){\n",
       "    let outputDiv = document.currentScript.previousElementSibling;\n",
       "    if (outputDiv.id !== \"altair-viz-e91448710c7540acbcbf9fab0480870b\") {\n",
       "      outputDiv = document.getElementById(\"altair-viz-e91448710c7540acbcbf9fab0480870b\");\n",
       "    }\n",
       "\n",
       "    const paths = {\n",
       "      \"vega\": \"https://cdn.jsdelivr.net/npm/vega@5?noext\",\n",
       "      \"vega-lib\": \"https://cdn.jsdelivr.net/npm/vega-lib?noext\",\n",
       "      \"vega-lite\": \"https://cdn.jsdelivr.net/npm/vega-lite@5.20.1?noext\",\n",
       "      \"vega-embed\": \"https://cdn.jsdelivr.net/npm/vega-embed@6?noext\",\n",
       "    };\n",
       "\n",
       "    function maybeLoadScript(lib, version) {\n",
       "      var key = `${lib.replace(\"-\", \"\")}_version`;\n",
       "      return (VEGA_DEBUG[key] == version) ?\n",
       "        Promise.resolve(paths[lib]) :\n",
       "        new Promise(function(resolve, reject) {\n",
       "          var s = document.createElement('script');\n",
       "          document.getElementsByTagName(\"head\")[0].appendChild(s);\n",
       "          s.async = true;\n",
       "          s.onload = () => {\n",
       "            VEGA_DEBUG[key] = version;\n",
       "            return resolve(paths[lib]);\n",
       "          };\n",
       "          s.onerror = () => reject(`Error loading script: ${paths[lib]}`);\n",
       "          s.src = paths[lib];\n",
       "        });\n",
       "    }\n",
       "\n",
       "    function showError(err) {\n",
       "      outputDiv.innerHTML = `<div class=\"error\" style=\"color:red;\">${err}</div>`;\n",
       "      throw err;\n",
       "    }\n",
       "\n",
       "    function displayChart(vegaEmbed) {\n",
       "      vegaEmbed(outputDiv, spec, embedOpt)\n",
       "        .catch(err => showError(`Javascript Error: ${err.message}<br>This usually means there's a typo in your chart specification. See the javascript console for the full traceback.`));\n",
       "    }\n",
       "\n",
       "    if(typeof define === \"function\" && define.amd) {\n",
       "      requirejs.config({paths});\n",
       "      let deps = [\"vega-embed\"];\n",
       "      require(deps, displayChart, err => showError(`Error loading script: ${err.message}`));\n",
       "    } else {\n",
       "      maybeLoadScript(\"vega\", \"5\")\n",
       "        .then(() => maybeLoadScript(\"vega-lite\", \"5.20.1\"))\n",
       "        .then(() => maybeLoadScript(\"vega-embed\", \"6\"))\n",
       "        .catch(showError)\n",
       "        .then(() => displayChart(vegaEmbed));\n",
       "    }\n",
       "  })({\"config\": {\"axisLeft\": {\"labelFontSize\": 15}, \"axisBottom\": {\"labelFontSize\": 15}}, \"data\": {\"name\": \"data-3ca2aeb1b438f9cdde3bebb557fbc072\"}, \"mark\": {\"type\": \"bar\"}, \"encoding\": {\"x\": {\"field\": \"repo\", \"sort\": [\"notebook\", \"governance\", \"nbclassic\", \"docker-stacks\", \"jupyter\", \"nbgrader\", \"security\", \"jupyter.github.io\", \"jupyter_core\", \"jupyter_console\", \"jupyter_client\", \"nbconvert\"], \"type\": \"nominal\"}, \"y\": {\"field\": \"number\", \"type\": \"quantitative\"}}, \"title\": \"Issues closed in the last 90 days\", \"$schema\": \"https://vega.github.io/schema/vega-lite/v5.20.1.json\", \"datasets\": {\"data-3ca2aeb1b438f9cdde3bebb557fbc072\": [{\"org\": \"jupyter\", \"repo\": \"docker-stacks\", \"number\": 8, \"org/repo\": \"jupyter/docker-stacks\"}, {\"org\": \"jupyter\", \"repo\": \"governance\", \"number\": 9, \"org/repo\": \"jupyter/governance\"}, {\"org\": \"jupyter\", \"repo\": \"jupyter\", \"number\": 5, \"org/repo\": \"jupyter/jupyter\"}, {\"org\": \"jupyter\", \"repo\": \"jupyter.github.io\", \"number\": 1, \"org/repo\": \"jupyter/jupyter.github.io\"}, {\"org\": \"jupyter\", \"repo\": \"jupyter_client\", \"number\": 1, \"org/repo\": \"jupyter/jupyter_client\"}, {\"org\": \"jupyter\", \"repo\": \"jupyter_console\", \"number\": 1, \"org/repo\": \"jupyter/jupyter_console\"}, {\"org\": \"jupyter\", \"repo\": \"jupyter_core\", \"number\": 1, \"org/repo\": \"jupyter/jupyter_core\"}, {\"org\": \"jupyter\", \"repo\": \"nbclassic\", \"number\": 8, \"org/repo\": \"jupyter/nbclassic\"}, {\"org\": \"jupyter\", \"repo\": \"nbconvert\", \"number\": 1, \"org/repo\": \"jupyter/nbconvert\"}, {\"org\": \"jupyter\", \"repo\": \"nbgrader\", \"number\": 4, \"org/repo\": \"jupyter/nbgrader\"}, {\"org\": \"jupyter\", \"repo\": \"notebook\", \"number\": 29, \"org/repo\": \"jupyter/notebook\"}, {\"org\": \"jupyter\", \"repo\": \"security\", \"number\": 2, \"org/repo\": \"jupyter/security\"}]}}, {\"mode\": \"vega-lite\"});\n",
       "</script>"
      ],
      "text/plain": [
       "alt.Chart(...)"
      ]
     },
     "execution_count": 17,
     "metadata": {},
     "output_type": "execute_result"
    }
   ],
   "source": [
    "closed_counts = closed.groupby(['org', 'repo']).count()['number'].reset_index()\n",
    "closed_counts['org/repo'] = closed_counts.apply(lambda a: a['org'] + '/' + a['repo'], axis=1)\n",
    "sorted_vals = closed_counts.sort_values(['number'], ascending=False)['repo'].values\n",
    "alt.Chart(data=closed_counts, title=f\"Issues closed in the last {n_days} days\").mark_bar().encode(\n",
    "    x=alt.X('repo', sort=alt.Sort(sorted_vals.tolist())),\n",
    "    y='number',\n",
    ")"
   ]
  },
  {
   "cell_type": "code",
   "execution_count": 18,
   "id": "94de9a63",
   "metadata": {
    "editable": true,
    "execution": {
     "iopub.execute_input": "2025-05-20T01:31:00.997236Z",
     "iopub.status.busy": "2025-05-20T01:31:00.996874Z",
     "iopub.status.idle": "2025-05-20T01:31:01.006728Z",
     "shell.execute_reply": "2025-05-20T01:31:01.006075Z"
    },
    "papermill": {
     "duration": 0.028637,
     "end_time": "2025-05-20T01:31:01.007872",
     "exception": false,
     "start_time": "2025-05-20T01:31:00.979235",
     "status": "completed"
    },
    "slideshow": {
     "slide_type": ""
    },
    "tags": [
     "remove_cell"
    ]
   },
   "outputs": [],
   "source": [
    "created_closed = pd.merge(created_counts.rename(columns={'number': 'created'}).drop(columns='org/repo'),\n",
    "                          closed_counts.rename(columns={'number': 'closed'}).drop(columns='org/repo'),\n",
    "                          on=['org', 'repo'], how='outer')\n",
    "\n",
    "created_closed = pd.melt(created_closed, id_vars=['org', 'repo'], var_name=\"kind\", value_name=\"count\").replace(np.nan, 0)"
   ]
  },
  {
   "cell_type": "code",
   "execution_count": 19,
   "id": "742c2c8e",
   "metadata": {
    "editable": true,
    "execution": {
     "iopub.execute_input": "2025-05-20T01:31:01.040039Z",
     "iopub.status.busy": "2025-05-20T01:31:01.039563Z",
     "iopub.status.idle": "2025-05-20T01:31:01.062792Z",
     "shell.execute_reply": "2025-05-20T01:31:01.062147Z"
    },
    "papermill": {
     "duration": 0.040486,
     "end_time": "2025-05-20T01:31:01.063858",
     "exception": false,
     "start_time": "2025-05-20T01:31:01.023372",
     "status": "completed"
    },
    "scrolled": true,
    "slideshow": {
     "slide_type": ""
    },
    "tags": [
     "hide_input"
    ]
   },
   "outputs": [
    {
     "data": {
      "text/html": [
       "\n",
       "<style>\n",
       "  #altair-viz-c61b03dde65b401bb87629b5c91d09bd.vega-embed {\n",
       "    width: 100%;\n",
       "    display: flex;\n",
       "  }\n",
       "\n",
       "  #altair-viz-c61b03dde65b401bb87629b5c91d09bd.vega-embed details,\n",
       "  #altair-viz-c61b03dde65b401bb87629b5c91d09bd.vega-embed details summary {\n",
       "    position: relative;\n",
       "  }\n",
       "</style>\n",
       "<div id=\"altair-viz-c61b03dde65b401bb87629b5c91d09bd\"></div>\n",
       "<script type=\"text/javascript\">\n",
       "  var VEGA_DEBUG = (typeof VEGA_DEBUG == \"undefined\") ? {} : VEGA_DEBUG;\n",
       "  (function(spec, embedOpt){\n",
       "    let outputDiv = document.currentScript.previousElementSibling;\n",
       "    if (outputDiv.id !== \"altair-viz-c61b03dde65b401bb87629b5c91d09bd\") {\n",
       "      outputDiv = document.getElementById(\"altair-viz-c61b03dde65b401bb87629b5c91d09bd\");\n",
       "    }\n",
       "\n",
       "    const paths = {\n",
       "      \"vega\": \"https://cdn.jsdelivr.net/npm/vega@5?noext\",\n",
       "      \"vega-lib\": \"https://cdn.jsdelivr.net/npm/vega-lib?noext\",\n",
       "      \"vega-lite\": \"https://cdn.jsdelivr.net/npm/vega-lite@5.20.1?noext\",\n",
       "      \"vega-embed\": \"https://cdn.jsdelivr.net/npm/vega-embed@6?noext\",\n",
       "    };\n",
       "\n",
       "    function maybeLoadScript(lib, version) {\n",
       "      var key = `${lib.replace(\"-\", \"\")}_version`;\n",
       "      return (VEGA_DEBUG[key] == version) ?\n",
       "        Promise.resolve(paths[lib]) :\n",
       "        new Promise(function(resolve, reject) {\n",
       "          var s = document.createElement('script');\n",
       "          document.getElementsByTagName(\"head\")[0].appendChild(s);\n",
       "          s.async = true;\n",
       "          s.onload = () => {\n",
       "            VEGA_DEBUG[key] = version;\n",
       "            return resolve(paths[lib]);\n",
       "          };\n",
       "          s.onerror = () => reject(`Error loading script: ${paths[lib]}`);\n",
       "          s.src = paths[lib];\n",
       "        });\n",
       "    }\n",
       "\n",
       "    function showError(err) {\n",
       "      outputDiv.innerHTML = `<div class=\"error\" style=\"color:red;\">${err}</div>`;\n",
       "      throw err;\n",
       "    }\n",
       "\n",
       "    function displayChart(vegaEmbed) {\n",
       "      vegaEmbed(outputDiv, spec, embedOpt)\n",
       "        .catch(err => showError(`Javascript Error: ${err.message}<br>This usually means there's a typo in your chart specification. See the javascript console for the full traceback.`));\n",
       "    }\n",
       "\n",
       "    if(typeof define === \"function\" && define.amd) {\n",
       "      requirejs.config({paths});\n",
       "      let deps = [\"vega-embed\"];\n",
       "      require(deps, displayChart, err => showError(`Error loading script: ${err.message}`));\n",
       "    } else {\n",
       "      maybeLoadScript(\"vega\", \"5\")\n",
       "        .then(() => maybeLoadScript(\"vega-lite\", \"5.20.1\"))\n",
       "        .then(() => maybeLoadScript(\"vega-embed\", \"6\"))\n",
       "        .catch(showError)\n",
       "        .then(() => displayChart(vegaEmbed));\n",
       "    }\n",
       "  })({\"config\": {\"axisLeft\": {\"labelFontSize\": 15}, \"axisBottom\": {\"labelFontSize\": 15}}, \"data\": {\"name\": \"data-6154fd7c1ab68ccaa0b9e78d03e314e4\"}, \"mark\": {\"type\": \"bar\"}, \"encoding\": {\"color\": {\"field\": \"kind\", \"type\": \"nominal\"}, \"column\": {\"field\": \"repo\", \"header\": {\"labelFontSize\": 12, \"title\": \"Issue activity, last 90 days for jupyter\", \"titleFontSize\": 15}, \"type\": \"nominal\"}, \"x\": {\"axis\": {\"labelFontSize\": 15, \"title\": \"\"}, \"field\": \"kind\", \"type\": \"nominal\"}, \"y\": {\"axis\": {\"labelFontSize\": 12, \"titleFontSize\": 15}, \"field\": \"count\", \"type\": \"quantitative\"}}, \"width\": 120, \"$schema\": \"https://vega.github.io/schema/vega-lite/v5.20.1.json\", \"datasets\": {\"data-6154fd7c1ab68ccaa0b9e78d03e314e4\": [{\"org\": \"jupyter\", \"repo\": \"docker-stacks\", \"kind\": \"created\", \"count\": 2.0}, {\"org\": \"jupyter\", \"repo\": \"governance\", \"kind\": \"created\", \"count\": 5.0}, {\"org\": \"jupyter\", \"repo\": \"jupyter\", \"kind\": \"created\", \"count\": 0.0}, {\"org\": \"jupyter\", \"repo\": \"jupyter.github.io\", \"kind\": \"created\", \"count\": 3.0}, {\"org\": \"jupyter\", \"repo\": \"jupyter_core\", \"kind\": \"created\", \"count\": 4.0}, {\"org\": \"jupyter\", \"repo\": \"nbclassic\", \"kind\": \"created\", \"count\": 1.0}, {\"org\": \"jupyter\", \"repo\": \"nbconvert\", \"kind\": \"created\", \"count\": 7.0}, {\"org\": \"jupyter\", \"repo\": \"nbgrader\", \"kind\": \"created\", \"count\": 6.0}, {\"org\": \"jupyter\", \"repo\": \"notebook\", \"kind\": \"created\", \"count\": 5.0}, {\"org\": \"jupyter\", \"repo\": \"security\", \"kind\": \"created\", \"count\": 14.0}, {\"org\": \"jupyter\", \"repo\": \"docker-stacks\", \"kind\": \"closed\", \"count\": 8.0}, {\"org\": \"jupyter\", \"repo\": \"governance\", \"kind\": \"closed\", \"count\": 9.0}, {\"org\": \"jupyter\", \"repo\": \"jupyter\", \"kind\": \"closed\", \"count\": 5.0}, {\"org\": \"jupyter\", \"repo\": \"jupyter.github.io\", \"kind\": \"closed\", \"count\": 1.0}, {\"org\": \"jupyter\", \"repo\": \"jupyter_core\", \"kind\": \"closed\", \"count\": 1.0}, {\"org\": \"jupyter\", \"repo\": \"nbclassic\", \"kind\": \"closed\", \"count\": 8.0}, {\"org\": \"jupyter\", \"repo\": \"nbconvert\", \"kind\": \"closed\", \"count\": 1.0}, {\"org\": \"jupyter\", \"repo\": \"nbgrader\", \"kind\": \"closed\", \"count\": 4.0}, {\"org\": \"jupyter\", \"repo\": \"notebook\", \"kind\": \"closed\", \"count\": 29.0}, {\"org\": \"jupyter\", \"repo\": \"security\", \"kind\": \"closed\", \"count\": 2.0}]}}, {\"mode\": \"vega-lite\"});\n",
       "</script>"
      ],
      "text/plain": [
       "alt.Chart(...)"
      ]
     },
     "execution_count": 19,
     "metadata": {},
     "output_type": "execute_result"
    }
   ],
   "source": [
    "charts = []\n",
    "# Pick the top 10 repositories\n",
    "top_repos = created_closed.groupby(['repo']).sum().sort_values(by='count', ascending=False).head(10).index\n",
    "ch = alt.Chart(created_closed.query('repo in @top_repos'), width=120).mark_bar().encode(\n",
    "    x=alt.X(\"kind\", axis=alt.Axis(labelFontSize=15, title=\"\")), \n",
    "    y=alt.Y('count', axis=alt.Axis(titleFontSize=15, labelFontSize=12)),\n",
    "    color='kind',\n",
    "    column=alt.Column(\"repo\", header=alt.Header(title=f\"Issue activity, last {n_days} days for {github_org}\", titleFontSize=15, labelFontSize=12))\n",
    ")\n",
    "ch"
   ]
  },
  {
   "cell_type": "code",
   "execution_count": 20,
   "id": "dd5937fc",
   "metadata": {
    "editable": true,
    "execution": {
     "iopub.execute_input": "2025-05-20T01:31:01.098232Z",
     "iopub.status.busy": "2025-05-20T01:31:01.097865Z",
     "iopub.status.idle": "2025-05-20T01:31:01.104346Z",
     "shell.execute_reply": "2025-05-20T01:31:01.103723Z"
    },
    "papermill": {
     "duration": 0.025346,
     "end_time": "2025-05-20T01:31:01.105471",
     "exception": false,
     "start_time": "2025-05-20T01:31:01.080125",
     "status": "completed"
    },
    "slideshow": {
     "slide_type": ""
    },
    "tags": [
     "remove_cell"
    ]
   },
   "outputs": [],
   "source": [
    "# Set to datetime\n",
    "for kind in ['created_at', 'closed_at']:\n",
    "    closed.loc[:, kind] = pd.to_datetime(closed[kind])\n",
    "    \n",
    "closed.loc[:, 'time_open'] = closed['closed_at'] - closed['created_at']\n",
    "closed.loc[:, 'time_open'] = closed['time_open'].dt.total_seconds()"
   ]
  },
  {
   "cell_type": "code",
   "execution_count": 21,
   "id": "7184f8f6",
   "metadata": {
    "editable": true,
    "execution": {
     "iopub.execute_input": "2025-05-20T01:31:01.138083Z",
     "iopub.status.busy": "2025-05-20T01:31:01.137636Z",
     "iopub.status.idle": "2025-05-20T01:31:01.156382Z",
     "shell.execute_reply": "2025-05-20T01:31:01.155845Z"
    },
    "papermill": {
     "duration": 0.036189,
     "end_time": "2025-05-20T01:31:01.157410",
     "exception": false,
     "start_time": "2025-05-20T01:31:01.121221",
     "status": "completed"
    },
    "slideshow": {
     "slide_type": ""
    },
    "tags": [
     "hide_input"
    ]
   },
   "outputs": [
    {
     "data": {
      "text/html": [
       "\n",
       "<style>\n",
       "  #altair-viz-8c7414a0f2d149daadd7dbbb9f77f79a.vega-embed {\n",
       "    width: 100%;\n",
       "    display: flex;\n",
       "  }\n",
       "\n",
       "  #altair-viz-8c7414a0f2d149daadd7dbbb9f77f79a.vega-embed details,\n",
       "  #altair-viz-8c7414a0f2d149daadd7dbbb9f77f79a.vega-embed details summary {\n",
       "    position: relative;\n",
       "  }\n",
       "</style>\n",
       "<div id=\"altair-viz-8c7414a0f2d149daadd7dbbb9f77f79a\"></div>\n",
       "<script type=\"text/javascript\">\n",
       "  var VEGA_DEBUG = (typeof VEGA_DEBUG == \"undefined\") ? {} : VEGA_DEBUG;\n",
       "  (function(spec, embedOpt){\n",
       "    let outputDiv = document.currentScript.previousElementSibling;\n",
       "    if (outputDiv.id !== \"altair-viz-8c7414a0f2d149daadd7dbbb9f77f79a\") {\n",
       "      outputDiv = document.getElementById(\"altair-viz-8c7414a0f2d149daadd7dbbb9f77f79a\");\n",
       "    }\n",
       "\n",
       "    const paths = {\n",
       "      \"vega\": \"https://cdn.jsdelivr.net/npm/vega@5?noext\",\n",
       "      \"vega-lib\": \"https://cdn.jsdelivr.net/npm/vega-lib?noext\",\n",
       "      \"vega-lite\": \"https://cdn.jsdelivr.net/npm/vega-lite@5.20.1?noext\",\n",
       "      \"vega-embed\": \"https://cdn.jsdelivr.net/npm/vega-embed@6?noext\",\n",
       "    };\n",
       "\n",
       "    function maybeLoadScript(lib, version) {\n",
       "      var key = `${lib.replace(\"-\", \"\")}_version`;\n",
       "      return (VEGA_DEBUG[key] == version) ?\n",
       "        Promise.resolve(paths[lib]) :\n",
       "        new Promise(function(resolve, reject) {\n",
       "          var s = document.createElement('script');\n",
       "          document.getElementsByTagName(\"head\")[0].appendChild(s);\n",
       "          s.async = true;\n",
       "          s.onload = () => {\n",
       "            VEGA_DEBUG[key] = version;\n",
       "            return resolve(paths[lib]);\n",
       "          };\n",
       "          s.onerror = () => reject(`Error loading script: ${paths[lib]}`);\n",
       "          s.src = paths[lib];\n",
       "        });\n",
       "    }\n",
       "\n",
       "    function showError(err) {\n",
       "      outputDiv.innerHTML = `<div class=\"error\" style=\"color:red;\">${err}</div>`;\n",
       "      throw err;\n",
       "    }\n",
       "\n",
       "    function displayChart(vegaEmbed) {\n",
       "      vegaEmbed(outputDiv, spec, embedOpt)\n",
       "        .catch(err => showError(`Javascript Error: ${err.message}<br>This usually means there's a typo in your chart specification. See the javascript console for the full traceback.`));\n",
       "    }\n",
       "\n",
       "    if(typeof define === \"function\" && define.amd) {\n",
       "      requirejs.config({paths});\n",
       "      let deps = [\"vega-embed\"];\n",
       "      require(deps, displayChart, err => showError(`Error loading script: ${err.message}`));\n",
       "    } else {\n",
       "      maybeLoadScript(\"vega\", \"5\")\n",
       "        .then(() => maybeLoadScript(\"vega-lite\", \"5.20.1\"))\n",
       "        .then(() => maybeLoadScript(\"vega-embed\", \"6\"))\n",
       "        .catch(showError)\n",
       "        .then(() => displayChart(vegaEmbed));\n",
       "    }\n",
       "  })({\"config\": {\"axisLeft\": {\"labelFontSize\": 15}, \"axisBottom\": {\"labelFontSize\": 15}}, \"data\": {\"name\": \"data-f54ed38e9da02251a87c5ce5012d3a06\"}, \"mark\": {\"type\": \"bar\"}, \"encoding\": {\"x\": {\"field\": \"repo\", \"sort\": [\"jupyter_console\", \"jupyter_core\", \"jupyter\", \"governance\", \"nbgrader\", \"notebook\", \"jupyter_client\", \"security\", \"nbclassic\", \"docker-stacks\", \"nbconvert\", \"jupyter.github.io\"], \"type\": \"nominal\"}, \"y\": {\"field\": \"time_open\", \"title\": \"Median Days Open\", \"type\": \"quantitative\"}}, \"title\": \"Time to close for issues closed in the last 90 days\", \"$schema\": \"https://vega.github.io/schema/vega-lite/v5.20.1.json\", \"datasets\": {\"data-f54ed38e9da02251a87c5ce5012d3a06\": [{\"org\": \"jupyter\", \"repo\": \"docker-stacks\", \"time_open\": 6.029855324074074, \"org/repo\": \"jupyter/docker-stacks\"}, {\"org\": \"jupyter\", \"repo\": \"governance\", \"time_open\": 509.9204050925926, \"org/repo\": \"jupyter/governance\"}, {\"org\": \"jupyter\", \"repo\": \"jupyter\", \"time_open\": 523.867037037037, \"org/repo\": \"jupyter/jupyter\"}, {\"org\": \"jupyter\", \"repo\": \"jupyter.github.io\", \"time_open\": 0.9404050925925926, \"org/repo\": \"jupyter/jupyter.github.io\"}, {\"org\": \"jupyter\", \"repo\": \"jupyter_client\", \"time_open\": 17.07300925925926, \"org/repo\": \"jupyter/jupyter_client\"}, {\"org\": \"jupyter\", \"repo\": \"jupyter_console\", \"time_open\": 1740.5220949074073, \"org/repo\": \"jupyter/jupyter_console\"}, {\"org\": \"jupyter\", \"repo\": \"jupyter_core\", \"time_open\": 708.2376388888889, \"org/repo\": \"jupyter/jupyter_core\"}, {\"org\": \"jupyter\", \"repo\": \"nbclassic\", \"time_open\": 7.073923611111111, \"org/repo\": \"jupyter/nbclassic\"}, {\"org\": \"jupyter\", \"repo\": \"nbconvert\", \"time_open\": 5.779212962962963, \"org/repo\": \"jupyter/nbconvert\"}, {\"org\": \"jupyter\", \"repo\": \"nbgrader\", \"time_open\": 56.33239583333334, \"org/repo\": \"jupyter/nbgrader\"}, {\"org\": \"jupyter\", \"repo\": \"notebook\", \"time_open\": 28.170092592592592, \"org/repo\": \"jupyter/notebook\"}, {\"org\": \"jupyter\", \"repo\": \"security\", \"time_open\": 12.510729166666666, \"org/repo\": \"jupyter/security\"}]}}, {\"mode\": \"vega-lite\"});\n",
       "</script>"
      ],
      "text/plain": [
       "alt.Chart(...)"
      ]
     },
     "execution_count": 21,
     "metadata": {},
     "output_type": "execute_result"
    }
   ],
   "source": [
    "time_open = closed.groupby(['org', 'repo']).agg({'time_open': 'median'}).reset_index()\n",
    "time_open['time_open'] = time_open['time_open'] / (60 * 60 * 24)\n",
    "time_open['org/repo'] = time_open.apply(lambda a: a['org'] + '/' + a['repo'], axis=1)\n",
    "sorted_vals = time_open.sort_values(['org', 'time_open'], ascending=False)['repo'].values\n",
    "alt.Chart(data=time_open, title=f\"Time to close for issues closed in the last {n_days} days\").mark_bar().encode(\n",
    "    x=alt.X('repo', sort=alt.Sort(sorted_vals.tolist())),\n",
    "    y=alt.Y('time_open', title=\"Median Days Open\"),\n",
    ")"
   ]
  },
  {
   "cell_type": "markdown",
   "id": "e2dbd59d",
   "metadata": {
    "editable": true,
    "papermill": {
     "duration": 0.016157,
     "end_time": "2025-05-20T01:31:01.189519",
     "exception": false,
     "start_time": "2025-05-20T01:31:01.173362",
     "status": "completed"
    },
    "slideshow": {
     "slide_type": ""
    },
    "tags": []
   },
   "source": [
    "## Most-upvoted issues"
   ]
  },
  {
   "cell_type": "code",
   "execution_count": 22,
   "id": "7277d5cf",
   "metadata": {
    "editable": true,
    "execution": {
     "iopub.execute_input": "2025-05-20T01:31:01.226337Z",
     "iopub.status.busy": "2025-05-20T01:31:01.225853Z",
     "iopub.status.idle": "2025-05-20T01:31:01.253620Z",
     "shell.execute_reply": "2025-05-20T01:31:01.252979Z"
    },
    "papermill": {
     "duration": 0.046366,
     "end_time": "2025-05-20T01:31:01.254702",
     "exception": false,
     "start_time": "2025-05-20T01:31:01.208336",
     "status": "completed"
    },
    "slideshow": {
     "slide_type": ""
    },
    "tags": [
     "hide_input"
    ]
   },
   "outputs": [
    {
     "data": {
      "application/vnd.jupyter.widget-view+json": {
       "model_id": "1a6b4f45ca854d42bd06642c11722e6e",
       "version_major": 2,
       "version_minor": 0
      },
      "text/plain": [
       "HTML(value='<ul>\\n<li>(99) Feature request: open a notebook without running kernel - notebook - <a href=\"https…"
      ]
     },
     "execution_count": 22,
     "metadata": {},
     "output_type": "execute_result"
    }
   ],
   "source": [
    "thumbsup = issues.query(\"state == 'open'\").sort_values(\"positive\", ascending=False).head(25)\n",
    "thumbsup = thumbsup[[\"title\", \"url\", \"number\", \"positive\", \"repo\"]]\n",
    "\n",
    "text = []\n",
    "for ii, irow in thumbsup.iterrows():\n",
    "    itext = f\"- ({irow['positive']}) {irow['title']} - {irow['repo']} - [#{irow['number']}]({irow['url']})\"\n",
    "    text.append(itext)\n",
    "text = '\\n'.join(text)\n",
    "HTML(markdown(text))"
   ]
  },
  {
   "cell_type": "markdown",
   "id": "ee8d485a",
   "metadata": {
    "editable": true,
    "papermill": {
     "duration": 0.016477,
     "end_time": "2025-05-20T01:31:01.287642",
     "exception": false,
     "start_time": "2025-05-20T01:31:01.271165",
     "status": "completed"
    },
    "slideshow": {
     "slide_type": ""
    },
    "tags": []
   },
   "source": [
    "## Commenters across repositories\n",
    "\n",
    "These are commenters across all issues and pull requests in the last several days.\n",
    "These are colored by the commenter's association with the organization. For information\n",
    "about what these associations mean, [see this StackOverflow post](https://stackoverflow.com/a/28866914/1927102)."
   ]
  },
  {
   "cell_type": "code",
   "execution_count": 23,
   "id": "4efaf33b",
   "metadata": {
    "editable": true,
    "execution": {
     "iopub.execute_input": "2025-05-20T01:31:01.320855Z",
     "iopub.status.busy": "2025-05-20T01:31:01.320642Z",
     "iopub.status.idle": "2025-05-20T01:31:01.332523Z",
     "shell.execute_reply": "2025-05-20T01:31:01.331881Z"
    },
    "papermill": {
     "duration": 0.029954,
     "end_time": "2025-05-20T01:31:01.333690",
     "exception": false,
     "start_time": "2025-05-20T01:31:01.303736",
     "status": "completed"
    },
    "slideshow": {
     "slide_type": ""
    },
    "tags": [
     "remove_cell"
    ]
   },
   "outputs": [],
   "source": [
    "commentors = (\n",
    "    comments\n",
    "    .query(\"created_at > @start_date and created_at < @stop_date\")\n",
    "    .groupby(['org', 'repo', 'login', 'author_association'])\n",
    "    .count().rename(columns={'id_issue': 'count'})['count']\n",
    "    .reset_index()\n",
    "    .sort_values(['org', 'count'], ascending=False)\n",
    ")"
   ]
  },
  {
   "cell_type": "code",
   "execution_count": 24,
   "id": "eac2bd04",
   "metadata": {
    "editable": true,
    "execution": {
     "iopub.execute_input": "2025-05-20T01:31:01.368862Z",
     "iopub.status.busy": "2025-05-20T01:31:01.368445Z",
     "iopub.status.idle": "2025-05-20T01:31:01.393677Z",
     "shell.execute_reply": "2025-05-20T01:31:01.393049Z"
    },
    "papermill": {
     "duration": 0.044216,
     "end_time": "2025-05-20T01:31:01.394643",
     "exception": false,
     "start_time": "2025-05-20T01:31:01.350427",
     "status": "completed"
    },
    "slideshow": {
     "slide_type": ""
    },
    "tags": [
     "hide_input"
    ]
   },
   "outputs": [
    {
     "data": {
      "text/html": [
       "\n",
       "<style>\n",
       "  #altair-viz-5364b3339b5049d6a251b8c3344564c1.vega-embed {\n",
       "    width: 100%;\n",
       "    display: flex;\n",
       "  }\n",
       "\n",
       "  #altair-viz-5364b3339b5049d6a251b8c3344564c1.vega-embed details,\n",
       "  #altair-viz-5364b3339b5049d6a251b8c3344564c1.vega-embed details summary {\n",
       "    position: relative;\n",
       "  }\n",
       "</style>\n",
       "<div id=\"altair-viz-5364b3339b5049d6a251b8c3344564c1\"></div>\n",
       "<script type=\"text/javascript\">\n",
       "  var VEGA_DEBUG = (typeof VEGA_DEBUG == \"undefined\") ? {} : VEGA_DEBUG;\n",
       "  (function(spec, embedOpt){\n",
       "    let outputDiv = document.currentScript.previousElementSibling;\n",
       "    if (outputDiv.id !== \"altair-viz-5364b3339b5049d6a251b8c3344564c1\") {\n",
       "      outputDiv = document.getElementById(\"altair-viz-5364b3339b5049d6a251b8c3344564c1\");\n",
       "    }\n",
       "\n",
       "    const paths = {\n",
       "      \"vega\": \"https://cdn.jsdelivr.net/npm/vega@5?noext\",\n",
       "      \"vega-lib\": \"https://cdn.jsdelivr.net/npm/vega-lib?noext\",\n",
       "      \"vega-lite\": \"https://cdn.jsdelivr.net/npm/vega-lite@5.20.1?noext\",\n",
       "      \"vega-embed\": \"https://cdn.jsdelivr.net/npm/vega-embed@6?noext\",\n",
       "    };\n",
       "\n",
       "    function maybeLoadScript(lib, version) {\n",
       "      var key = `${lib.replace(\"-\", \"\")}_version`;\n",
       "      return (VEGA_DEBUG[key] == version) ?\n",
       "        Promise.resolve(paths[lib]) :\n",
       "        new Promise(function(resolve, reject) {\n",
       "          var s = document.createElement('script');\n",
       "          document.getElementsByTagName(\"head\")[0].appendChild(s);\n",
       "          s.async = true;\n",
       "          s.onload = () => {\n",
       "            VEGA_DEBUG[key] = version;\n",
       "            return resolve(paths[lib]);\n",
       "          };\n",
       "          s.onerror = () => reject(`Error loading script: ${paths[lib]}`);\n",
       "          s.src = paths[lib];\n",
       "        });\n",
       "    }\n",
       "\n",
       "    function showError(err) {\n",
       "      outputDiv.innerHTML = `<div class=\"error\" style=\"color:red;\">${err}</div>`;\n",
       "      throw err;\n",
       "    }\n",
       "\n",
       "    function displayChart(vegaEmbed) {\n",
       "      vegaEmbed(outputDiv, spec, embedOpt)\n",
       "        .catch(err => showError(`Javascript Error: ${err.message}<br>This usually means there's a typo in your chart specification. See the javascript console for the full traceback.`));\n",
       "    }\n",
       "\n",
       "    if(typeof define === \"function\" && define.amd) {\n",
       "      requirejs.config({paths});\n",
       "      let deps = [\"vega-embed\"];\n",
       "      require(deps, displayChart, err => showError(`Error loading script: ${err.message}`));\n",
       "    } else {\n",
       "      maybeLoadScript(\"vega\", \"5\")\n",
       "        .then(() => maybeLoadScript(\"vega-lite\", \"5.20.1\"))\n",
       "        .then(() => maybeLoadScript(\"vega-embed\", \"6\"))\n",
       "        .catch(showError)\n",
       "        .then(() => displayChart(vegaEmbed));\n",
       "    }\n",
       "  })({\"config\": {\"axisLeft\": {\"labelFontSize\": 15}, \"axisBottom\": {\"labelFontSize\": 15}}, \"hconcat\": [{\"mark\": {\"type\": \"bar\"}, \"encoding\": {\"color\": {\"field\": \"author_association\", \"scale\": {\"domain\": [\"MEMBER\", \"CONTRIBUTOR\", \"COLLABORATOR\", \"NONE\"], \"range\": [\"rgb(211.82745098039214, 211.82745098039214, 211.82745098039214)\", \"rgb(166.98562091503268, 229.89803921568628, 166.98562091503268)\", \"rgb(96.37647058823529, 192.75294117647059, 96.37647058823529)\", \"rgb(0.0, 100.3921568627451, 0.0)\"]}, \"type\": \"nominal\"}, \"x\": {\"field\": \"login\", \"type\": \"nominal\"}, \"y\": {\"field\": \"count\", \"type\": \"quantitative\"}}, \"title\": \"Top 50 commentors for ('jupyter',) in the last 90 days\"}], \"data\": {\"name\": \"data-667bbf534cc75b0b8fb6d7be5acc1df2\"}, \"$schema\": \"https://vega.github.io/schema/vega-lite/v5.20.1.json\", \"datasets\": {\"data-667bbf534cc75b0b8fb6d7be5acc1df2\": [{\"login\": \"mathbunnyru\", \"count\": 14, \"author_association\": \"MEMBER\"}, {\"login\": \"shreve\", \"count\": 7, \"author_association\": \"CONTRIBUTOR\"}, {\"login\": \"minrk\", \"count\": 6, \"author_association\": \"MEMBER\"}, {\"login\": \"benz0li\", \"count\": 5, \"author_association\": \"CONTRIBUTOR\"}, {\"login\": \"ivanov\", \"count\": 3, \"author_association\": \"MEMBER\"}, {\"login\": \"NeilGirdhar\", \"count\": 3, \"author_association\": \"NONE\"}, {\"login\": \"Carreau\", \"count\": 3, \"author_association\": \"MEMBER\"}, {\"login\": \"garncarz\", \"count\": 3, \"author_association\": \"NONE\"}, {\"login\": \"perllaghu\", \"count\": 3, \"author_association\": \"CONTRIBUTOR\"}, {\"login\": \"mgeier\", \"count\": 3, \"author_association\": \"CONTRIBUTOR\"}, {\"login\": \"cben\", \"count\": 2, \"author_association\": \"NONE\"}, {\"login\": \"broukema\", \"count\": 2, \"author_association\": \"NONE\"}, {\"login\": \"callegar\", \"count\": 2, \"author_association\": \"NONE\"}, {\"login\": \"cameronj86\", \"count\": 2, \"author_association\": \"NONE\"}, {\"login\": \"QuincyWuzefeng\", \"count\": 2, \"author_association\": \"NONE\"}, {\"login\": \"lahwaacz\", \"count\": 2, \"author_association\": \"CONTRIBUTOR\"}, {\"login\": \"manics\", \"count\": 2, \"author_association\": \"CONTRIBUTOR\"}, {\"login\": \"t-makaro\", \"count\": 2, \"author_association\": \"CONTRIBUTOR\"}, {\"login\": \"ctcjab\", \"count\": 2, \"author_association\": \"NONE\"}, {\"login\": \"jeflem\", \"count\": 2, \"author_association\": \"CONTRIBUTOR\"}, {\"login\": \"i0ntempest\", \"count\": 2, \"author_association\": \"NONE\"}, {\"login\": \"gabemorris12\", \"count\": 2, \"author_association\": \"NONE\"}, {\"login\": \"compeoree\", \"count\": 2, \"author_association\": \"NONE\"}, {\"login\": \"krassowski\", \"count\": 2, \"author_association\": \"MEMBER\"}, {\"login\": \"benjamincburns\", \"count\": 1, \"author_association\": \"NONE\"}, {\"login\": \"bongovanfifi\", \"count\": 1, \"author_association\": \"NONE\"}, {\"login\": \"afeld\", \"count\": 1, \"author_association\": \"NONE\"}, {\"login\": \"FahimFBA\", \"count\": 1, \"author_association\": \"NONE\"}, {\"login\": \"DanielCastroBosch\", \"count\": 1, \"author_association\": \"NONE\"}, {\"login\": \"LCRuth\", \"count\": 1, \"author_association\": \"NONE\"}, {\"login\": \"Kanishk-Kumar\", \"count\": 1, \"author_association\": \"NONE\"}, {\"login\": \"kolithawarnakulasooriya\", \"count\": 1, \"author_association\": \"NONE\"}, {\"login\": \"jayqi\", \"count\": 1, \"author_association\": \"NONE\"}, {\"login\": \"jankogasic\", \"count\": 1, \"author_association\": \"NONE\"}, {\"login\": \"choldgraf\", \"count\": 1, \"author_association\": \"MEMBER\"}, {\"login\": \"danieleongari\", \"count\": 1, \"author_association\": \"NONE\"}, {\"login\": \"eguiraud-pf\", \"count\": 1, \"author_association\": \"NONE\"}, {\"login\": \"fjadidi2001\", \"count\": 1, \"author_association\": \"NONE\"}, {\"login\": \"frohro\", \"count\": 1, \"author_association\": \"NONE\"}, {\"login\": \"mschilli87\", \"count\": 1, \"author_association\": \"NONE\"}, {\"login\": \"mdealencar\", \"count\": 1, \"author_association\": \"NONE\"}, {\"login\": \"lilinfangrelax\", \"count\": 1, \"author_association\": \"NONE\"}, {\"login\": \"peterjasc\", \"count\": 1, \"author_association\": \"NONE\"}, {\"login\": \"shoowadoo\", \"count\": 1, \"author_association\": \"NONE\"}, {\"login\": \"ronaldpetty\", \"count\": 1, \"author_association\": \"NONE\"}, {\"login\": \"soumyadeep6845\", \"count\": 1, \"author_association\": \"NONE\"}, {\"login\": \"t1nux\", \"count\": 1, \"author_association\": \"NONE\"}]}}, {\"mode\": \"vega-lite\"});\n",
       "</script>"
      ],
      "text/plain": [
       "alt.HConcatChart(...)"
      ]
     },
     "execution_count": 24,
     "metadata": {},
     "output_type": "execute_result"
    }
   ],
   "source": [
    "n_plot = 50\n",
    "charts = []\n",
    "for ii, (iorg, idata) in enumerate(commentors.groupby(['org'])):\n",
    "    title = f\"Top {n_plot} commentors for {iorg} in the last {n_days} days\"\n",
    "    idata = idata.groupby('login', as_index=False).agg({'count': 'sum', 'author_association': 'first'})\n",
    "    idata = idata.sort_values('count', ascending=False).head(n_plot)\n",
    "    ch = alt.Chart(data=idata.head(n_plot), title=title).mark_bar().encode(\n",
    "        x='login',\n",
    "        y='count',\n",
    "        color=alt.Color('author_association', scale=alt.Scale(domain=author_types, range=author_colors))\n",
    "    )\n",
    "    charts.append(ch)\n",
    "alt.hconcat(*charts)"
   ]
  },
  {
   "cell_type": "markdown",
   "id": "0612d4e8",
   "metadata": {
    "editable": true,
    "papermill": {
     "duration": 0.016565,
     "end_time": "2025-05-20T01:31:01.427625",
     "exception": false,
     "start_time": "2025-05-20T01:31:01.411060",
     "status": "completed"
    },
    "slideshow": {
     "slide_type": ""
    },
    "tags": []
   },
   "source": [
    "## First responders\n",
    "\n",
    "First responders are the first people to respond to a new issue in one of the repositories.\n",
    "The following plots show first responders for recently-created issues."
   ]
  },
  {
   "cell_type": "code",
   "execution_count": 25,
   "id": "6c647b1a",
   "metadata": {
    "editable": true,
    "execution": {
     "iopub.execute_input": "2025-05-20T01:31:01.461921Z",
     "iopub.status.busy": "2025-05-20T01:31:01.461451Z",
     "iopub.status.idle": "2025-05-20T01:31:01.491026Z",
     "shell.execute_reply": "2025-05-20T01:31:01.490354Z"
    },
    "papermill": {
     "duration": 0.048011,
     "end_time": "2025-05-20T01:31:01.492155",
     "exception": false,
     "start_time": "2025-05-20T01:31:01.444144",
     "status": "completed"
    },
    "slideshow": {
     "slide_type": ""
    },
    "tags": [
     "remove_cell"
    ]
   },
   "outputs": [],
   "source": [
    "first_comments = []\n",
    "latest_comments = comments.query(\"created_at > @start_date\")\n",
    "for (org, repo, issue_id), i_comments in latest_comments.groupby(['org', 'repo', 'id_issue']):\n",
    "    ix_min = pd.to_datetime(i_comments['created_at']).idxmin()\n",
    "    first_comment = i_comments.loc[ix_min]\n",
    "    if isinstance(first_comment, pd.DataFrame):\n",
    "        first_comment = first_comment.iloc[0]\n",
    "    first_comments.append(first_comment)\n",
    "first_comments = pd.concat(first_comments, axis=1).T\n",
    "\n",
    "# Make up counts for viz\n",
    "first_responder_counts = first_comments.groupby(['org', 'login', 'author_association'], as_index=False).\\\n",
    "    count().rename(columns={'id_issue': 'n_first_responses'}).sort_values(['org', 'n_first_responses'], ascending=False)\n"
   ]
  },
  {
   "cell_type": "code",
   "execution_count": 26,
   "id": "ac22cb23",
   "metadata": {
    "editable": true,
    "execution": {
     "iopub.execute_input": "2025-05-20T01:31:01.527499Z",
     "iopub.status.busy": "2025-05-20T01:31:01.527155Z",
     "iopub.status.idle": "2025-05-20T01:31:01.549429Z",
     "shell.execute_reply": "2025-05-20T01:31:01.548796Z"
    },
    "papermill": {
     "duration": 0.041408,
     "end_time": "2025-05-20T01:31:01.550534",
     "exception": false,
     "start_time": "2025-05-20T01:31:01.509126",
     "status": "completed"
    },
    "slideshow": {
     "slide_type": ""
    },
    "tags": [
     "hide_input"
    ]
   },
   "outputs": [
    {
     "data": {
      "text/html": [
       "\n",
       "<style>\n",
       "  #altair-viz-648193854c8946f1abf9a52ad5b4987d.vega-embed {\n",
       "    width: 100%;\n",
       "    display: flex;\n",
       "  }\n",
       "\n",
       "  #altair-viz-648193854c8946f1abf9a52ad5b4987d.vega-embed details,\n",
       "  #altair-viz-648193854c8946f1abf9a52ad5b4987d.vega-embed details summary {\n",
       "    position: relative;\n",
       "  }\n",
       "</style>\n",
       "<div id=\"altair-viz-648193854c8946f1abf9a52ad5b4987d\"></div>\n",
       "<script type=\"text/javascript\">\n",
       "  var VEGA_DEBUG = (typeof VEGA_DEBUG == \"undefined\") ? {} : VEGA_DEBUG;\n",
       "  (function(spec, embedOpt){\n",
       "    let outputDiv = document.currentScript.previousElementSibling;\n",
       "    if (outputDiv.id !== \"altair-viz-648193854c8946f1abf9a52ad5b4987d\") {\n",
       "      outputDiv = document.getElementById(\"altair-viz-648193854c8946f1abf9a52ad5b4987d\");\n",
       "    }\n",
       "\n",
       "    const paths = {\n",
       "      \"vega\": \"https://cdn.jsdelivr.net/npm/vega@5?noext\",\n",
       "      \"vega-lib\": \"https://cdn.jsdelivr.net/npm/vega-lib?noext\",\n",
       "      \"vega-lite\": \"https://cdn.jsdelivr.net/npm/vega-lite@5.20.1?noext\",\n",
       "      \"vega-embed\": \"https://cdn.jsdelivr.net/npm/vega-embed@6?noext\",\n",
       "    };\n",
       "\n",
       "    function maybeLoadScript(lib, version) {\n",
       "      var key = `${lib.replace(\"-\", \"\")}_version`;\n",
       "      return (VEGA_DEBUG[key] == version) ?\n",
       "        Promise.resolve(paths[lib]) :\n",
       "        new Promise(function(resolve, reject) {\n",
       "          var s = document.createElement('script');\n",
       "          document.getElementsByTagName(\"head\")[0].appendChild(s);\n",
       "          s.async = true;\n",
       "          s.onload = () => {\n",
       "            VEGA_DEBUG[key] = version;\n",
       "            return resolve(paths[lib]);\n",
       "          };\n",
       "          s.onerror = () => reject(`Error loading script: ${paths[lib]}`);\n",
       "          s.src = paths[lib];\n",
       "        });\n",
       "    }\n",
       "\n",
       "    function showError(err) {\n",
       "      outputDiv.innerHTML = `<div class=\"error\" style=\"color:red;\">${err}</div>`;\n",
       "      throw err;\n",
       "    }\n",
       "\n",
       "    function displayChart(vegaEmbed) {\n",
       "      vegaEmbed(outputDiv, spec, embedOpt)\n",
       "        .catch(err => showError(`Javascript Error: ${err.message}<br>This usually means there's a typo in your chart specification. See the javascript console for the full traceback.`));\n",
       "    }\n",
       "\n",
       "    if(typeof define === \"function\" && define.amd) {\n",
       "      requirejs.config({paths});\n",
       "      let deps = [\"vega-embed\"];\n",
       "      require(deps, displayChart, err => showError(`Error loading script: ${err.message}`));\n",
       "    } else {\n",
       "      maybeLoadScript(\"vega\", \"5\")\n",
       "        .then(() => maybeLoadScript(\"vega-lite\", \"5.20.1\"))\n",
       "        .then(() => maybeLoadScript(\"vega-embed\", \"6\"))\n",
       "        .catch(showError)\n",
       "        .then(() => displayChart(vegaEmbed));\n",
       "    }\n",
       "  })({\"config\": {\"axisLeft\": {\"labelFontSize\": 15}, \"axisBottom\": {\"labelFontSize\": 15}}, \"data\": {\"name\": \"data-8cebdf1e106fba9f33534df762503471\"}, \"mark\": {\"type\": \"bar\"}, \"encoding\": {\"color\": {\"field\": \"author_association\", \"scale\": {\"domain\": [\"MEMBER\", \"CONTRIBUTOR\", \"COLLABORATOR\", \"NONE\"], \"range\": [\"rgb(211.82745098039214, 211.82745098039214, 211.82745098039214)\", \"rgb(166.98562091503268, 229.89803921568628, 166.98562091503268)\", \"rgb(96.37647058823529, 192.75294117647059, 96.37647058823529)\", \"rgb(0.0, 100.3921568627451, 0.0)\"]}, \"type\": \"nominal\"}, \"x\": {\"field\": \"login\", \"type\": \"nominal\"}, \"y\": {\"field\": \"n_first_responses\", \"type\": \"quantitative\"}}, \"title\": \"Top 50 first responders for jupyter in the last 90 days\", \"$schema\": \"https://vega.github.io/schema/vega-lite/v5.20.1.json\", \"datasets\": {\"data-8cebdf1e106fba9f33534df762503471\": [{\"login\": \"mathbunnyru\", \"n_first_responses\": 6, \"author_association\": \"MEMBER\"}, {\"login\": \"shreve\", \"n_first_responses\": 4, \"author_association\": \"CONTRIBUTOR\"}, {\"login\": \"ivanov\", \"n_first_responses\": 3, \"author_association\": \"MEMBER\"}, {\"login\": \"perllaghu\", \"n_first_responses\": 2, \"author_association\": \"CONTRIBUTOR\"}, {\"login\": \"minrk\", \"n_first_responses\": 2, \"author_association\": \"MEMBER\"}, {\"login\": \"garncarz\", \"n_first_responses\": 2, \"author_association\": \"NONE\"}, {\"login\": \"t-makaro\", \"n_first_responses\": 2, \"author_association\": \"CONTRIBUTOR\"}, {\"login\": \"Carreau\", \"n_first_responses\": 1, \"author_association\": \"MEMBER\"}, {\"login\": \"FahimFBA\", \"n_first_responses\": 1, \"author_association\": \"NONE\"}, {\"login\": \"Kanishk-Kumar\", \"n_first_responses\": 1, \"author_association\": \"NONE\"}, {\"login\": \"cben\", \"n_first_responses\": 1, \"author_association\": \"NONE\"}, {\"login\": \"broukema\", \"n_first_responses\": 1, \"author_association\": \"NONE\"}, {\"login\": \"choldgraf\", \"n_first_responses\": 1, \"author_association\": \"MEMBER\"}, {\"login\": \"LCRuth\", \"n_first_responses\": 1, \"author_association\": \"NONE\"}, {\"login\": \"benz0li\", \"n_first_responses\": 1, \"author_association\": \"CONTRIBUTOR\"}, {\"login\": \"bongovanfifi\", \"n_first_responses\": 1, \"author_association\": \"NONE\"}, {\"login\": \"afeld\", \"n_first_responses\": 1, \"author_association\": \"NONE\"}, {\"login\": \"benjamincburns\", \"n_first_responses\": 1, \"author_association\": \"NONE\"}, {\"login\": \"jayqi\", \"n_first_responses\": 1, \"author_association\": \"NONE\"}, {\"login\": \"fjadidi2001\", \"n_first_responses\": 1, \"author_association\": \"NONE\"}, {\"login\": \"danieleongari\", \"n_first_responses\": 1, \"author_association\": \"NONE\"}, {\"login\": \"eguiraud-pf\", \"n_first_responses\": 1, \"author_association\": \"NONE\"}, {\"login\": \"compeoree\", \"n_first_responses\": 1, \"author_association\": \"NONE\"}, {\"login\": \"lahwaacz\", \"n_first_responses\": 1, \"author_association\": \"CONTRIBUTOR\"}, {\"login\": \"jeflem\", \"n_first_responses\": 1, \"author_association\": \"CONTRIBUTOR\"}, {\"login\": \"kolithawarnakulasooriya\", \"n_first_responses\": 1, \"author_association\": \"NONE\"}, {\"login\": \"mdealencar\", \"n_first_responses\": 1, \"author_association\": \"NONE\"}, {\"login\": \"lilinfangrelax\", \"n_first_responses\": 1, \"author_association\": \"NONE\"}, {\"login\": \"krassowski\", \"n_first_responses\": 1, \"author_association\": \"MEMBER\"}, {\"login\": \"mschilli87\", \"n_first_responses\": 1, \"author_association\": \"NONE\"}, {\"login\": \"shoowadoo\", \"n_first_responses\": 1, \"author_association\": \"NONE\"}, {\"login\": \"peterjasc\", \"n_first_responses\": 1, \"author_association\": \"NONE\"}, {\"login\": \"soumyadeep6845\", \"n_first_responses\": 1, \"author_association\": \"NONE\"}, {\"login\": \"t1nux\", \"n_first_responses\": 1, \"author_association\": \"NONE\"}]}}, {\"mode\": \"vega-lite\"});\n",
       "</script>"
      ],
      "text/plain": [
       "alt.Chart(...)"
      ]
     },
     "execution_count": 26,
     "metadata": {},
     "output_type": "execute_result"
    }
   ],
   "source": [
    "n_plot = 50\n",
    "\n",
    "title = f\"Top {n_plot} first responders for {github_org} in the last {n_days} days\"\n",
    "idata = first_responder_counts.groupby('login', as_index=False).agg({'n_first_responses': 'sum', 'author_association': 'first'})\n",
    "idata = idata.sort_values('n_first_responses', ascending=False).head(n_plot)\n",
    "ch = alt.Chart(data=idata.head(n_plot), title=title).mark_bar().encode(\n",
    "    x='login',\n",
    "    y='n_first_responses',\n",
    "    color=alt.Color('author_association', scale=alt.Scale(domain=author_types, range=author_colors))\n",
    ")\n",
    "ch"
   ]
  },
  {
   "cell_type": "markdown",
   "id": "3da3bae6",
   "metadata": {
    "editable": true,
    "papermill": {
     "duration": 0.01692,
     "end_time": "2025-05-20T01:31:01.584174",
     "exception": false,
     "start_time": "2025-05-20T01:31:01.567254",
     "status": "completed"
    },
    "slideshow": {
     "slide_type": ""
    },
    "tags": []
   },
   "source": [
    "## Recent activity\n",
    "\n",
    "### A list of merged PRs by project\n",
    "\n",
    "Below is a tabbed readout of recently-merged PRs. Check out the title to get an idea for what they\n",
    "implemented, and be sure to thank the PR author for their hard work!"
   ]
  },
  {
   "cell_type": "code",
   "execution_count": 27,
   "id": "56e19dc9",
   "metadata": {
    "editable": true,
    "execution": {
     "iopub.execute_input": "2025-05-20T01:31:01.618755Z",
     "iopub.status.busy": "2025-05-20T01:31:01.618362Z",
     "iopub.status.idle": "2025-05-20T01:31:01.727147Z",
     "shell.execute_reply": "2025-05-20T01:31:01.726460Z"
    },
    "papermill": {
     "duration": 0.132516,
     "end_time": "2025-05-20T01:31:01.733366",
     "exception": false,
     "start_time": "2025-05-20T01:31:01.600850",
     "status": "completed"
    },
    "slideshow": {
     "slide_type": ""
    },
    "tags": [
     "hide_input"
    ]
   },
   "outputs": [
    {
     "data": {
      "application/vnd.jupyter.widget-view+json": {
       "model_id": "bf8f70615b424fc09aceb26131492412",
       "version_major": 2,
       "version_minor": 0
      },
      "text/plain": [
       "Tab(children=(HTML(value='<h4>Closed PRs for repo: <a href=\"https://github.com/jupyter/docker-stacks\">jupyter/…"
      ]
     },
     "execution_count": 27,
     "metadata": {},
     "output_type": "execute_result"
    }
   ],
   "source": [
    "tabs = widgets.Tab(children=[])\n",
    "\n",
    "for ii, ((org, repo), imerged) in enumerate(merged.query(\"repo in @use_repos\").groupby(['org', 'repo'])):\n",
    "    merged_by = {}\n",
    "    pr_by = {}\n",
    "    issue_md = []\n",
    "    issue_md.append(f\"#### Closed PRs for repo: [{org}/{repo}](https://github.com/{github_org}/{repo})\")\n",
    "    issue_md.append(\"\")\n",
    "    issue_md.append(f\"##### \")\n",
    "\n",
    "    for _, ipr in imerged.iterrows():\n",
    "        user_name = ipr['login']\n",
    "        user_url = author_url(user_name)\n",
    "        pr_number = ipr['number']\n",
    "        pr_html = ipr['url']\n",
    "        pr_title = ipr['title']\n",
    "        pr_closedby = ipr['merged_by']\n",
    "        pr_closedby_url = f\"https://github.com/{pr_closedby}\"\n",
    "        if user_name not in pr_by:\n",
    "            pr_by[user_name] = 1\n",
    "        else:\n",
    "            pr_by[user_name] += 1\n",
    "\n",
    "        if pr_closedby not in merged_by:\n",
    "            merged_by[pr_closedby] = 1\n",
    "        else:\n",
    "            merged_by[pr_closedby] += 1\n",
    "        text = f\"* [(#{pr_number})]({pr_html}): _{pr_title}_ by **[@{user_name}]({user_url})** merged by **[@{pr_closedby}]({pr_closedby_url})**\"\n",
    "        issue_md.append(text)\n",
    "    \n",
    "    issue_md.append('')\n",
    "    markdown_html = markdown('\\n'.join(issue_md))\n",
    "\n",
    "    children = list(tabs.children)\n",
    "    children.append(HTML(markdown_html))\n",
    "    tabs.children = tuple(children)\n",
    "    tabs.set_title(ii, repo)\n",
    "tabs"
   ]
  },
  {
   "cell_type": "markdown",
   "id": "aa8562e0",
   "metadata": {
    "editable": true,
    "papermill": {
     "duration": 0.018039,
     "end_time": "2025-05-20T01:31:01.769366",
     "exception": false,
     "start_time": "2025-05-20T01:31:01.751327",
     "status": "completed"
    },
    "slideshow": {
     "slide_type": ""
    },
    "tags": []
   },
   "source": [
    "### A list of recent issues\n",
    "\n",
    "Below is a list of issues with recent activity in each repository. If they seem of interest\n",
    "to you, click on their links and jump in to participate!"
   ]
  },
  {
   "cell_type": "code",
   "execution_count": 28,
   "id": "86a33764",
   "metadata": {
    "editable": true,
    "execution": {
     "iopub.execute_input": "2025-05-20T01:31:01.805582Z",
     "iopub.status.busy": "2025-05-20T01:31:01.805072Z",
     "iopub.status.idle": "2025-05-20T01:31:01.816752Z",
     "shell.execute_reply": "2025-05-20T01:31:01.816219Z"
    },
    "papermill": {
     "duration": 0.031607,
     "end_time": "2025-05-20T01:31:01.817937",
     "exception": false,
     "start_time": "2025-05-20T01:31:01.786330",
     "status": "completed"
    },
    "slideshow": {
     "slide_type": ""
    },
    "tags": [
     "remove_cell"
    ]
   },
   "outputs": [],
   "source": [
    "# Add comment count data to issues and PRs\n",
    "comment_counts = (\n",
    "    comments\n",
    "    .query(\"created_at > @start_date and created_at < @stop_date\")\n",
    "    .groupby(['org', 'repo', 'id_issue'])\n",
    "    .count().iloc[:, 0].to_frame()\n",
    ")\n",
    "comment_counts.columns = ['n_comments']\n",
    "comment_counts = comment_counts.reset_index()"
   ]
  },
  {
   "cell_type": "code",
   "execution_count": 29,
   "id": "d1d6f5c4",
   "metadata": {
    "editable": true,
    "execution": {
     "iopub.execute_input": "2025-05-20T01:31:01.853383Z",
     "iopub.status.busy": "2025-05-20T01:31:01.852974Z",
     "iopub.status.idle": "2025-05-20T01:31:01.974218Z",
     "shell.execute_reply": "2025-05-20T01:31:01.973681Z"
    },
    "papermill": {
     "duration": 0.140144,
     "end_time": "2025-05-20T01:31:01.975282",
     "exception": false,
     "start_time": "2025-05-20T01:31:01.835138",
     "status": "completed"
    },
    "slideshow": {
     "slide_type": ""
    },
    "tags": [
     "hide_input"
    ],
    "toc-hr-collapsed": false
   },
   "outputs": [
    {
     "data": {
      "text/markdown": [
       "Here are the top 5 active issues in each repository in the last 90 days"
      ],
      "text/plain": [
       "<IPython.core.display.Markdown object>"
      ]
     },
     "metadata": {},
     "output_type": "display_data"
    },
    {
     "data": {
      "application/vnd.jupyter.widget-view+json": {
       "model_id": "29551b3f274643968ecea238021da1d9",
       "version_major": 2,
       "version_minor": 0
      },
      "text/plain": [
       "Tab(children=(HTML(value='<h5><a href=\"https://github.com/jupyter/docker-stacks\">jupyter/docker-stacks</a></h5…"
      ]
     },
     "metadata": {},
     "output_type": "display_data"
    }
   ],
   "source": [
    "n_plot = 5\n",
    "tabs = widgets.Tab(children=[])\n",
    "\n",
    "for ii, (repo, i_issues) in enumerate(comment_counts.query(\"repo in @use_repos\").groupby('repo')):\n",
    "    \n",
    "    issue_md = []\n",
    "    issue_md.append(\"\")\n",
    "    issue_md.append(f\"##### [{github_org}/{repo}](https://github.com/{github_org}/{repo})\")\n",
    "\n",
    "    top_issues = i_issues.sort_values('n_comments', ascending=False).head(n_plot)\n",
    "    top_issue_list = pd.merge(issues, top_issues, left_on=['org', 'repo', 'id_issue'], right_on=['org', 'repo', 'id_issue'])\n",
    "    for _, issue in top_issue_list.sort_values('n_comments', ascending=False).head(n_plot).iterrows():\n",
    "        user_name = issue['login']\n",
    "        user_url = author_url(user_name)\n",
    "        issue_number = issue['number']\n",
    "        issue_html = issue['url']\n",
    "        issue_title = issue['title']\n",
    "\n",
    "        text = f\"* [(#{issue_number})]({issue_html}): _{issue_title}_ by **[@{user_name}]({user_url})**\"\n",
    "        issue_md.append(text)\n",
    "\n",
    "    issue_md.append('')\n",
    "    md_html = HTML(markdown('\\n'.join(issue_md)))\n",
    "\n",
    "    children = list(tabs.children)\n",
    "    children.append(HTML(markdown('\\n'.join(issue_md))))\n",
    "    tabs.children = tuple(children)\n",
    "    tabs.set_title(ii, repo)\n",
    "    \n",
    "display(Markdown(f\"Here are the top {n_plot} active issues in each repository in the last {n_days} days\"))\n",
    "display(tabs)"
   ]
  }
 ],
 "metadata": {
  "kernelspec": {
   "display_name": "Python 3 (ipykernel)",
   "language": "python",
   "name": "python3"
  },
  "language_info": {
   "codemirror_mode": {
    "name": "ipython",
    "version": 3
   },
   "file_extension": ".py",
   "mimetype": "text/x-python",
   "name": "python",
   "nbconvert_exporter": "python",
   "pygments_lexer": "ipython3",
   "version": "3.9.22"
  },
  "papermill": {
   "default_parameters": {},
   "duration": 4.698952,
   "end_time": "2025-05-20T01:31:02.310662",
   "environment_variables": {},
   "exception": null,
   "input_path": "./templates/org_report.ipynb",
   "output_path": "generated/book/jupyter.ipynb",
   "parameters": {
    "github_org": "jupyter",
    "n_days": 90
   },
   "start_time": "2025-05-20T01:30:57.611710",
   "version": "2.6.0"
  },
  "widgets": {
   "application/vnd.jupyter.widget-state+json": {
    "state": {
     "002da0a0492848d5b797521ae73cea02": {
      "model_module": "@jupyter-widgets/base",
      "model_module_version": "2.0.0",
      "model_name": "LayoutModel",
      "state": {
       "_model_module": "@jupyter-widgets/base",
       "_model_module_version": "2.0.0",
       "_model_name": "LayoutModel",
       "_view_count": null,
       "_view_module": "@jupyter-widgets/base",
       "_view_module_version": "2.0.0",
       "_view_name": "LayoutView",
       "align_content": null,
       "align_items": null,
       "align_self": null,
       "border_bottom": null,
       "border_left": null,
       "border_right": null,
       "border_top": null,
       "bottom": null,
       "display": null,
       "flex": null,
       "flex_flow": null,
       "grid_area": null,
       "grid_auto_columns": null,
       "grid_auto_flow": null,
       "grid_auto_rows": null,
       "grid_column": null,
       "grid_gap": null,
       "grid_row": null,
       "grid_template_areas": null,
       "grid_template_columns": null,
       "grid_template_rows": null,
       "height": null,
       "justify_content": null,
       "justify_items": null,
       "left": null,
       "margin": null,
       "max_height": null,
       "max_width": null,
       "min_height": null,
       "min_width": null,
       "object_fit": null,
       "object_position": null,
       "order": null,
       "overflow": null,
       "padding": null,
       "right": null,
       "top": null,
       "visibility": null,
       "width": null
      }
     },
     "0030976cff4d4a3f9f42e32c1492db8b": {
      "model_module": "@jupyter-widgets/controls",
      "model_module_version": "2.0.0",
      "model_name": "HTMLModel",
      "state": {
       "_dom_classes": [],
       "_model_module": "@jupyter-widgets/controls",
       "_model_module_version": "2.0.0",
       "_model_name": "HTMLModel",
       "_view_count": null,
       "_view_module": "@jupyter-widgets/controls",
       "_view_module_version": "2.0.0",
       "_view_name": "HTMLView",
       "description": "",
       "description_allow_html": false,
       "layout": "IPY_MODEL_4cb44f07f49140e29b157029b9a0ba1c",
       "placeholder": "​",
       "style": "IPY_MODEL_a85c9d7711b9449a9dba6c2e4c9dbe5e",
       "tabbable": null,
       "tooltip": null,
       "value": "<h5><a href=\"https://github.com/jupyter/jupyter.github.io\">jupyter/jupyter.github.io</a></h5>\n<ul>\n<li><a href=\"https://github.com/jupyter/jupyter.github.io/issues/791\">(#791)</a>: <em>Lower the threshold for Lighthouse accessibility</em> by <strong><a href=\"https://github.com/choldgraf\">@choldgraf</a></strong></li>\n<li><a href=\"https://github.com/jupyter/jupyter.github.io/issues/720\">(#720)</a>: <em>Widgets page is broken?</em> by <strong><a href=\"https://github.com/filonik-tud\">@filonik-tud</a></strong></li>\n</ul>"
      }
     },
     "08402444307d41088ef7259a20e3b09e": {
      "model_module": "@jupyter-widgets/controls",
      "model_module_version": "2.0.0",
      "model_name": "HTMLModel",
      "state": {
       "_dom_classes": [],
       "_model_module": "@jupyter-widgets/controls",
       "_model_module_version": "2.0.0",
       "_model_name": "HTMLModel",
       "_view_count": null,
       "_view_module": "@jupyter-widgets/controls",
       "_view_module_version": "2.0.0",
       "_view_name": "HTMLView",
       "description": "",
       "description_allow_html": false,
       "layout": "IPY_MODEL_4fb217f32a2f4c479387acff94047a73",
       "placeholder": "​",
       "style": "IPY_MODEL_a9dbfebd140b427f8c082a0fdcf6ac90",
       "tabbable": null,
       "tooltip": null,
       "value": "<h5><a href=\"https://github.com/jupyter/jupyter_console\">jupyter/jupyter_console</a></h5>\n<ul>\n<li><a href=\"https://github.com/jupyter/jupyter_console/issues/302\">(#302)</a>: <em>SIGTERM leaves kernel-{PID}.json connection file around</em> by <strong><a href=\"https://github.com/cben\">@cben</a></strong></li>\n</ul>"
      }
     },
     "0b95cb5b5b0c45d1970a3000106e224a": {
      "model_module": "@jupyter-widgets/base",
      "model_module_version": "2.0.0",
      "model_name": "LayoutModel",
      "state": {
       "_model_module": "@jupyter-widgets/base",
       "_model_module_version": "2.0.0",
       "_model_name": "LayoutModel",
       "_view_count": null,
       "_view_module": "@jupyter-widgets/base",
       "_view_module_version": "2.0.0",
       "_view_name": "LayoutView",
       "align_content": null,
       "align_items": null,
       "align_self": null,
       "border_bottom": null,
       "border_left": null,
       "border_right": null,
       "border_top": null,
       "bottom": null,
       "display": null,
       "flex": null,
       "flex_flow": null,
       "grid_area": null,
       "grid_auto_columns": null,
       "grid_auto_flow": null,
       "grid_auto_rows": null,
       "grid_column": null,
       "grid_gap": null,
       "grid_row": null,
       "grid_template_areas": null,
       "grid_template_columns": null,
       "grid_template_rows": null,
       "height": null,
       "justify_content": null,
       "justify_items": null,
       "left": null,
       "margin": null,
       "max_height": null,
       "max_width": null,
       "min_height": null,
       "min_width": null,
       "object_fit": null,
       "object_position": null,
       "order": null,
       "overflow": null,
       "padding": null,
       "right": null,
       "top": null,
       "visibility": null,
       "width": null
      }
     },
     "0bd5f905e99e47e19989633211ad5f29": {
      "model_module": "@jupyter-widgets/controls",
      "model_module_version": "2.0.0",
      "model_name": "HTMLStyleModel",
      "state": {
       "_model_module": "@jupyter-widgets/controls",
       "_model_module_version": "2.0.0",
       "_model_name": "HTMLStyleModel",
       "_view_count": null,
       "_view_module": "@jupyter-widgets/base",
       "_view_module_version": "2.0.0",
       "_view_name": "StyleView",
       "background": null,
       "description_width": "",
       "font_size": null,
       "text_color": null
      }
     },
     "0db06239394d462fab940c8a54c8e324": {
      "model_module": "@jupyter-widgets/base",
      "model_module_version": "2.0.0",
      "model_name": "LayoutModel",
      "state": {
       "_model_module": "@jupyter-widgets/base",
       "_model_module_version": "2.0.0",
       "_model_name": "LayoutModel",
       "_view_count": null,
       "_view_module": "@jupyter-widgets/base",
       "_view_module_version": "2.0.0",
       "_view_name": "LayoutView",
       "align_content": null,
       "align_items": null,
       "align_self": null,
       "border_bottom": null,
       "border_left": null,
       "border_right": null,
       "border_top": null,
       "bottom": null,
       "display": null,
       "flex": null,
       "flex_flow": null,
       "grid_area": null,
       "grid_auto_columns": null,
       "grid_auto_flow": null,
       "grid_auto_rows": null,
       "grid_column": null,
       "grid_gap": null,
       "grid_row": null,
       "grid_template_areas": null,
       "grid_template_columns": null,
       "grid_template_rows": null,
       "height": null,
       "justify_content": null,
       "justify_items": null,
       "left": null,
       "margin": null,
       "max_height": null,
       "max_width": null,
       "min_height": null,
       "min_width": null,
       "object_fit": null,
       "object_position": null,
       "order": null,
       "overflow": null,
       "padding": null,
       "right": null,
       "top": null,
       "visibility": null,
       "width": null
      }
     },
     "149737f8e2704281bfed0fd8a1c9c564": {
      "model_module": "@jupyter-widgets/controls",
      "model_module_version": "2.0.0",
      "model_name": "HTMLModel",
      "state": {
       "_dom_classes": [],
       "_model_module": "@jupyter-widgets/controls",
       "_model_module_version": "2.0.0",
       "_model_name": "HTMLModel",
       "_view_count": null,
       "_view_module": "@jupyter-widgets/controls",
       "_view_module_version": "2.0.0",
       "_view_name": "HTMLView",
       "description": "",
       "description_allow_html": false,
       "layout": "IPY_MODEL_f819186218754eaeb5058adb0d6fad89",
       "placeholder": "​",
       "style": "IPY_MODEL_bd1a62dfa6864b2586a5f27a715b624d",
       "tabbable": null,
       "tooltip": null,
       "value": "<h5><a href=\"https://github.com/jupyter/jupyter\">jupyter/jupyter</a></h5>\n<ul>\n<li><a href=\"https://github.com/jupyter/jupyter/issues/490\">(#490)</a>: <em>Programmatically detect whether the inline backend is available</em> by <strong><a href=\"https://github.com/lukelbd\">@lukelbd</a></strong></li>\n<li><a href=\"https://github.com/jupyter/jupyter/issues/505\">(#505)</a>: <em>Fix \"-m jupyter [console|notebook|...]\" so that it works on Windows</em> by <strong><a href=\"https://github.com/ksamuel\">@ksamuel</a></strong></li>\n<li><a href=\"https://github.com/jupyter/jupyter/issues/715\">(#715)</a>: <em>Broken Urls For Server API Schema</em> by <strong><a href=\"https://github.com/guomanmin\">@guomanmin</a></strong></li>\n<li><a href=\"https://github.com/jupyter/jupyter/issues/761\">(#761)</a>: <em>Let's discuss recent force-pushes</em> by <strong><a href=\"https://github.com/ivanov\">@ivanov</a></strong></li>\n</ul>"
      }
     },
     "14ecd2ac6bb74eaca69d534b0410a882": {
      "model_module": "@jupyter-widgets/controls",
      "model_module_version": "2.0.0",
      "model_name": "HTMLStyleModel",
      "state": {
       "_model_module": "@jupyter-widgets/controls",
       "_model_module_version": "2.0.0",
       "_model_name": "HTMLStyleModel",
       "_view_count": null,
       "_view_module": "@jupyter-widgets/base",
       "_view_module_version": "2.0.0",
       "_view_name": "StyleView",
       "background": null,
       "description_width": "",
       "font_size": null,
       "text_color": null
      }
     },
     "1a6b4f45ca854d42bd06642c11722e6e": {
      "model_module": "@jupyter-widgets/controls",
      "model_module_version": "2.0.0",
      "model_name": "HTMLModel",
      "state": {
       "_dom_classes": [],
       "_model_module": "@jupyter-widgets/controls",
       "_model_module_version": "2.0.0",
       "_model_name": "HTMLModel",
       "_view_count": null,
       "_view_module": "@jupyter-widgets/controls",
       "_view_module_version": "2.0.0",
       "_view_name": "HTMLView",
       "description": "",
       "description_allow_html": false,
       "layout": "IPY_MODEL_632f0e875e414bf687503a2a983ef1b1",
       "placeholder": "​",
       "style": "IPY_MODEL_14ecd2ac6bb74eaca69d534b0410a882",
       "tabbable": null,
       "tooltip": null,
       "value": "<ul>\n<li>(99) Feature request: open a notebook without running kernel - notebook - <a href=\"https://github.com/jupyter/notebook/issues/3170\">#3170</a></li>\n<li>(99) Hide input cells - notebook - <a href=\"https://github.com/jupyter/notebook/issues/534\">#534</a></li>\n<li>(83) Restoring computation output after disconnect in Notebook - notebook - <a href=\"https://github.com/jupyter/notebook/issues/641\">#641</a></li>\n<li>(80) Keyboard shortcut for multiline cursor - notebook - <a href=\"https://github.com/jupyter/notebook/issues/4761\">#4761</a></li>\n<li>(46) Exporting a single jupyter cell output - notebook - <a href=\"https://github.com/jupyter/notebook/issues/3039\">#3039</a></li>\n<li>(44) Pdf doesn't include images - nbconvert - <a href=\"https://github.com/jupyter/nbconvert/issues/552\">#552</a></li>\n<li>(41) add Gitlab support - nbviewer - <a href=\"https://github.com/jupyter/nbviewer/issues/371\">#371</a></li>\n<li>(40) Running <code>jupyter notebook</code> opens visual studio code, not a browser - notebook - <a href=\"https://github.com/jupyter/notebook/issues/4304\">#4304</a></li>\n<li>(37) Jupyter notebook -&gt; pdf error - nbconvert - <a href=\"https://github.com/jupyter/nbconvert/issues/1099\">#1099</a></li>\n<li>(36) Output notebook while executing - nbconvert - <a href=\"https://github.com/jupyter/nbconvert/issues/648\">#648</a></li>\n<li>(34) Memory usage information for each listed running notebook, in \"Running\" tab - notebook - <a href=\"https://github.com/jupyter/notebook/issues/3117\">#3117</a></li>\n<li>(33) [Feature Request] Two column mode - notebook - <a href=\"https://github.com/jupyter/notebook/issues/2791\">#2791</a></li>\n<li>(33) Feature request: directly exporting notebook slides to PDF - nbconvert - <a href=\"https://github.com/jupyter/nbconvert/issues/713\">#713</a></li>\n<li>(32) Proper way to add \"alert\"/\"note\"/\"hint\"/\"warning\"/... boxes? - notebook - <a href=\"https://github.com/jupyter/notebook/issues/1292\">#1292</a></li>\n<li>(28) Is there a way to open a terminal in the current directory? - notebook - <a href=\"https://github.com/jupyter/notebook/issues/1898\">#1898</a></li>\n<li>(25) nbviewer does not flush cache - nbviewer - <a href=\"https://github.com/jupyter/nbviewer/issues/914\">#914</a></li>\n<li>(24) Jupyter Notebook so slow and not executing cell sometimes(1 time out of 2 times) - notebook - <a href=\"https://github.com/jupyter/notebook/issues/3303\">#3303</a></li>\n<li>(24) Access S3 URLs directly - nbviewer - <a href=\"https://github.com/jupyter/nbviewer/issues/630\">#630</a></li>\n<li>(24) how to jump to the failed cell? - notebook - <a href=\"https://github.com/jupyter/notebook/issues/4323\">#4323</a></li>\n<li>(23) Export nbdiff-web HTML from command line - nbdime - <a href=\"https://github.com/jupyter/nbdime/issues/468\">#468</a></li>\n<li>(22) Inline Whiteboard - notebook - <a href=\"https://github.com/jupyter/notebook/issues/1999\">#1999</a></li>\n<li>(22) Add ability to watch notebook files and convert automatically - nbconvert - <a href=\"https://github.com/jupyter/nbconvert/issues/826\">#826</a></li>\n<li>(21) Adjusting width of attached image in markdown cell - notebook - <a href=\"https://github.com/jupyter/notebook/issues/1885\">#1885</a></li>\n<li>(21) Jupyter Notebook ‘zmq message arrived on closed channel’ Error - notebook - <a href=\"https://github.com/jupyter/notebook/issues/6721\">#6721</a></li>\n<li>(20) Attached image not exported if referenced from <img> tag - nbconvert - <a href=\"https://github.com/jupyter/nbconvert/issues/1057\">#1057</a></li>\n</ul>"
      }
     },
     "1b720a1d4ef3472abd493304b9a76859": {
      "model_module": "@jupyter-widgets/base",
      "model_module_version": "2.0.0",
      "model_name": "LayoutModel",
      "state": {
       "_model_module": "@jupyter-widgets/base",
       "_model_module_version": "2.0.0",
       "_model_name": "LayoutModel",
       "_view_count": null,
       "_view_module": "@jupyter-widgets/base",
       "_view_module_version": "2.0.0",
       "_view_name": "LayoutView",
       "align_content": null,
       "align_items": null,
       "align_self": null,
       "border_bottom": null,
       "border_left": null,
       "border_right": null,
       "border_top": null,
       "bottom": null,
       "display": null,
       "flex": null,
       "flex_flow": null,
       "grid_area": null,
       "grid_auto_columns": null,
       "grid_auto_flow": null,
       "grid_auto_rows": null,
       "grid_column": null,
       "grid_gap": null,
       "grid_row": null,
       "grid_template_areas": null,
       "grid_template_columns": null,
       "grid_template_rows": null,
       "height": null,
       "justify_content": null,
       "justify_items": null,
       "left": null,
       "margin": null,
       "max_height": null,
       "max_width": null,
       "min_height": null,
       "min_width": null,
       "object_fit": null,
       "object_position": null,
       "order": null,
       "overflow": null,
       "padding": null,
       "right": null,
       "top": null,
       "visibility": null,
       "width": null
      }
     },
     "208d35b9c5694ba8a8542a00ef9a7358": {
      "model_module": "@jupyter-widgets/controls",
      "model_module_version": "2.0.0",
      "model_name": "HTMLStyleModel",
      "state": {
       "_model_module": "@jupyter-widgets/controls",
       "_model_module_version": "2.0.0",
       "_model_name": "HTMLStyleModel",
       "_view_count": null,
       "_view_module": "@jupyter-widgets/base",
       "_view_module_version": "2.0.0",
       "_view_name": "StyleView",
       "background": null,
       "description_width": "",
       "font_size": null,
       "text_color": null
      }
     },
     "250f66d366e94a7086656d3bee756417": {
      "model_module": "@jupyter-widgets/base",
      "model_module_version": "2.0.0",
      "model_name": "LayoutModel",
      "state": {
       "_model_module": "@jupyter-widgets/base",
       "_model_module_version": "2.0.0",
       "_model_name": "LayoutModel",
       "_view_count": null,
       "_view_module": "@jupyter-widgets/base",
       "_view_module_version": "2.0.0",
       "_view_name": "LayoutView",
       "align_content": null,
       "align_items": null,
       "align_self": null,
       "border_bottom": null,
       "border_left": null,
       "border_right": null,
       "border_top": null,
       "bottom": null,
       "display": null,
       "flex": null,
       "flex_flow": null,
       "grid_area": null,
       "grid_auto_columns": null,
       "grid_auto_flow": null,
       "grid_auto_rows": null,
       "grid_column": null,
       "grid_gap": null,
       "grid_row": null,
       "grid_template_areas": null,
       "grid_template_columns": null,
       "grid_template_rows": null,
       "height": null,
       "justify_content": null,
       "justify_items": null,
       "left": null,
       "margin": null,
       "max_height": null,
       "max_width": null,
       "min_height": null,
       "min_width": null,
       "object_fit": null,
       "object_position": null,
       "order": null,
       "overflow": null,
       "padding": null,
       "right": null,
       "top": null,
       "visibility": null,
       "width": null
      }
     },
     "29551b3f274643968ecea238021da1d9": {
      "model_module": "@jupyter-widgets/controls",
      "model_module_version": "2.0.0",
      "model_name": "TabModel",
      "state": {
       "_dom_classes": [],
       "_model_module": "@jupyter-widgets/controls",
       "_model_module_version": "2.0.0",
       "_model_name": "TabModel",
       "_view_count": null,
       "_view_module": "@jupyter-widgets/controls",
       "_view_module_version": "2.0.0",
       "_view_name": "TabView",
       "box_style": "",
       "children": [
        "IPY_MODEL_662a8c7f66404fc9bb272f7279c8eda7",
        "IPY_MODEL_149737f8e2704281bfed0fd8a1c9c564",
        "IPY_MODEL_c4eadb1dda6a460e81711d413214c45a",
        "IPY_MODEL_5c2d46ebe23f40d0ac2bcfb1c43b8d68",
        "IPY_MODEL_9ec391c29bc44a23b75a6a1f18524304",
        "IPY_MODEL_6945f92a9bdd4aa68695ba83e0bc05a8",
        "IPY_MODEL_6e6c18c52e6f43578cba1b1dcb97d6cb",
        "IPY_MODEL_69f2e0591a1f4d72a9258fe701ad0634",
        "IPY_MODEL_ea1cbe384ef3403f845279a2783ca63c"
       ],
       "layout": "IPY_MODEL_cd38aa4d23b54cb0aaaed4192ae37764",
       "selected_index": 0,
       "tabbable": null,
       "titles": [
        "docker-stacks",
        "jupyter",
        "jupyter.github.io",
        "jupyter_client",
        "jupyter_console",
        "jupyter_core",
        "nbconvert",
        "nbgrader",
        "nbviewer"
       ],
       "tooltip": null
      }
     },
     "2d98a995c113426880c5a01b4630052c": {
      "model_module": "@jupyter-widgets/controls",
      "model_module_version": "2.0.0",
      "model_name": "HTMLStyleModel",
      "state": {
       "_model_module": "@jupyter-widgets/controls",
       "_model_module_version": "2.0.0",
       "_model_name": "HTMLStyleModel",
       "_view_count": null,
       "_view_module": "@jupyter-widgets/base",
       "_view_module_version": "2.0.0",
       "_view_name": "StyleView",
       "background": null,
       "description_width": "",
       "font_size": null,
       "text_color": null
      }
     },
     "30787e2b4e3b4995ac98e4148dda7452": {
      "model_module": "@jupyter-widgets/controls",
      "model_module_version": "2.0.0",
      "model_name": "HTMLModel",
      "state": {
       "_dom_classes": [],
       "_model_module": "@jupyter-widgets/controls",
       "_model_module_version": "2.0.0",
       "_model_name": "HTMLModel",
       "_view_count": null,
       "_view_module": "@jupyter-widgets/controls",
       "_view_module_version": "2.0.0",
       "_view_name": "HTMLView",
       "description": "",
       "description_allow_html": false,
       "layout": "IPY_MODEL_dd83a2d9864342369ddc6359e3912780",
       "placeholder": "​",
       "style": "IPY_MODEL_52f443e26ca74c58a7e5bdd1c6b9ebec",
       "tabbable": null,
       "tooltip": null,
       "value": "<h4>Closed PRs for repo: <a href=\"https://github.com/jupyter/jupyter_client\">jupyter/jupyter_client</a></h4>\n<h5></h5>\n<ul>\n<li><a href=\"https://github.com/jupyter/jupyter_client/issues/1060\">(#1060)</a>: <em>Support date serialization in messages</em> by <strong><a href=\"https://github.com/sebwills\">@sebwills</a></strong> merged by <strong><a href=\"https://github.com/minrk\">@minrk</a></strong></li>\n</ul>"
      }
     },
     "36b66cb1c9854d74bb7e02cf3e54c02c": {
      "model_module": "@jupyter-widgets/controls",
      "model_module_version": "2.0.0",
      "model_name": "HTMLModel",
      "state": {
       "_dom_classes": [],
       "_model_module": "@jupyter-widgets/controls",
       "_model_module_version": "2.0.0",
       "_model_name": "HTMLModel",
       "_view_count": null,
       "_view_module": "@jupyter-widgets/controls",
       "_view_module_version": "2.0.0",
       "_view_name": "HTMLView",
       "description": "",
       "description_allow_html": false,
       "layout": "IPY_MODEL_45aa4079af304064af46741d54b4b272",
       "placeholder": "​",
       "style": "IPY_MODEL_703846904113429abce8202cc95691dd",
       "tabbable": null,
       "tooltip": null,
       "value": "<h4>Closed PRs for repo: <a href=\"https://github.com/jupyter/jupyter_core\">jupyter/jupyter_core</a></h4>\n<h5></h5>\n<ul>\n<li><a href=\"https://github.com/jupyter/jupyter_core/issues/411\">(#411)</a>: <em>AssertionErrors should not be manually raised.</em> by <strong><a href=\"https://github.com/Carreau\">@Carreau</a></strong> merged by <strong><a href=\"https://github.com/Carreau\">@Carreau</a></strong></li>\n<li><a href=\"https://github.com/jupyter/jupyter_core/issues/412\">(#412)</a>: <em>A bunch of pre-commit and CI upgrade.</em> by <strong><a href=\"https://github.com/Carreau\">@Carreau</a></strong> merged by <strong><a href=\"https://github.com/Carreau\">@Carreau</a></strong></li>\n<li><a href=\"https://github.com/jupyter/jupyter_core/issues/413\">(#413)</a>: <em>remove donwstream check</em> by <strong><a href=\"https://github.com/Carreau\">@Carreau</a></strong> merged by <strong><a href=\"https://github.com/Carreau\">@Carreau</a></strong></li>\n<li><a href=\"https://github.com/jupyter/jupyter_core/issues/414\">(#414)</a>: <em>Update Pyproject metadata</em> by <strong><a href=\"https://github.com/Carreau\">@Carreau</a></strong> merged by <strong><a href=\"https://github.com/Carreau\">@Carreau</a></strong></li>\n<li><a href=\"https://github.com/jupyter/jupyter_core/issues/415\">(#415)</a>: <em>chore: update pre-commit hooks</em> by <strong><a href=\"https://github.com/pre-commit-ci[bot]\">@pre-commit-ci[bot]</a></strong> merged by <strong><a href=\"https://github.com/minrk\">@minrk</a></strong></li>\n<li><a href=\"https://github.com/jupyter/jupyter_core/issues/416\">(#416)</a>: <em>update pre-commit</em> by <strong><a href=\"https://github.com/Carreau\">@Carreau</a></strong> merged by <strong><a href=\"https://github.com/minrk\">@minrk</a></strong></li>\n<li><a href=\"https://github.com/jupyter/jupyter_core/issues/417\">(#417)</a>: <em>narrow type of envset when it can't be None</em> by <strong><a href=\"https://github.com/minrk\">@minrk</a></strong> merged by <strong><a href=\"https://github.com/minrk\">@minrk</a></strong></li>\n<li><a href=\"https://github.com/jupyter/jupyter_core/issues/418\">(#418)</a>: <em>chore: hatch run run docs:api</em> by <strong><a href=\"https://github.com/minrk\">@minrk</a></strong> merged by <strong><a href=\"https://github.com/minrk\">@minrk</a></strong></li>\n<li><a href=\"https://github.com/jupyter/jupyter_core/issues/419\">(#419)</a>: <em>fix package_spec in downstream tests</em> by <strong><a href=\"https://github.com/minrk\">@minrk</a></strong> merged by <strong><a href=\"https://github.com/minrk\">@minrk</a></strong></li>\n<li><a href=\"https://github.com/jupyter/jupyter_core/issues/420\">(#420)</a>: <em>Bump actions/create-github-app-token from 1 to 2 in the actions group</em> by <strong><a href=\"https://github.com/dependabot[bot]\">@dependabot[bot]</a></strong> merged by <strong><a href=\"https://github.com/Carreau\">@Carreau</a></strong></li>\n<li><a href=\"https://github.com/jupyter/jupyter_core/issues/422\">(#422)</a>: <em>add security.md</em> by <strong><a href=\"https://github.com/Carreau\">@Carreau</a></strong> merged by <strong><a href=\"https://github.com/Carreau\">@Carreau</a></strong></li>\n</ul>"
      }
     },
     "3c98d187dfde4afe96efe420aaa01794": {
      "model_module": "@jupyter-widgets/controls",
      "model_module_version": "2.0.0",
      "model_name": "HTMLStyleModel",
      "state": {
       "_model_module": "@jupyter-widgets/controls",
       "_model_module_version": "2.0.0",
       "_model_name": "HTMLStyleModel",
       "_view_count": null,
       "_view_module": "@jupyter-widgets/base",
       "_view_module_version": "2.0.0",
       "_view_name": "StyleView",
       "background": null,
       "description_width": "",
       "font_size": null,
       "text_color": null
      }
     },
     "3d50644a97ca46b78621c6b9a792e666": {
      "model_module": "@jupyter-widgets/controls",
      "model_module_version": "2.0.0",
      "model_name": "HTMLModel",
      "state": {
       "_dom_classes": [],
       "_model_module": "@jupyter-widgets/controls",
       "_model_module_version": "2.0.0",
       "_model_name": "HTMLModel",
       "_view_count": null,
       "_view_module": "@jupyter-widgets/controls",
       "_view_module_version": "2.0.0",
       "_view_name": "HTMLView",
       "description": "",
       "description_allow_html": false,
       "layout": "IPY_MODEL_7356fc1cf4d648758244340af6028da7",
       "placeholder": "​",
       "style": "IPY_MODEL_95358ef41cbd4e0a94b08d721e9e8112",
       "tabbable": null,
       "tooltip": null,
       "value": "<h5><a href=\"https://github.com/jupyter/nbviewer\">jupyter/nbviewer</a></h5>\n<ul>\n<li><a href=\"https://github.com/jupyter/nbviewer/issues/600\">(#600)</a>: <em>Can't visit 'localhost:8080' after running in a docker</em> by <strong><a href=\"https://github.com/taoluo\">@taoluo</a></strong></li>\n<li><a href=\"https://github.com/jupyter/nbviewer/issues/856\">(#856)</a>: <em>GitHub Rate Limit</em> by <strong><a href=\"https://github.com/jakirkham\">@jakirkham</a></strong></li>\n<li><a href=\"https://github.com/jupyter/nbviewer/issues/914\">(#914)</a>: <em>nbviewer does not flush cache</em> by <strong><a href=\"https://github.com/shinokada\">@shinokada</a></strong></li>\n<li><a href=\"https://github.com/jupyter/nbviewer/issues/1064\">(#1064)</a>: <em>404: Not Found Error</em> by <strong><a href=\"https://github.com/jonilynn02\">@jonilynn02</a></strong></li>\n</ul>"
      }
     },
     "3ff08668f2ed4b448ebd3861a9dba079": {
      "model_module": "@jupyter-widgets/controls",
      "model_module_version": "2.0.0",
      "model_name": "HTMLModel",
      "state": {
       "_dom_classes": [],
       "_model_module": "@jupyter-widgets/controls",
       "_model_module_version": "2.0.0",
       "_model_name": "HTMLModel",
       "_view_count": null,
       "_view_module": "@jupyter-widgets/controls",
       "_view_module_version": "2.0.0",
       "_view_name": "HTMLView",
       "description": "",
       "description_allow_html": false,
       "layout": "IPY_MODEL_71c858a96d674b08929766fa15ee738a",
       "placeholder": "​",
       "style": "IPY_MODEL_7517260d1ed34194a8abc4cbdb7ceae0",
       "tabbable": null,
       "tooltip": null,
       "value": "<h5><a href=\"https://github.com/jupyter/jupyter_client\">jupyter/jupyter_client</a></h5>\n<ul>\n<li><a href=\"https://github.com/jupyter/jupyter_client/issues/1026\">(#1026)</a>: <em>Exception raised in KernelClient.del when shutting down kernel after executing code using kc.execute_interactive()</em> by <strong><a href=\"https://github.com/vivekvedant\">@vivekvedant</a></strong></li>\n<li><a href=\"https://github.com/jupyter/jupyter_client/issues/1053\">(#1053)</a>: <em>coroutine 'KernelManager._async_start_kernel' was never awaited</em> by <strong><a href=\"https://github.com/benjamincburns\">@benjamincburns</a></strong></li>\n</ul>"
      }
     },
     "41ae20b5dd1c40dd8bfe80cccf0c3d10": {
      "model_module": "@jupyter-widgets/controls",
      "model_module_version": "2.0.0",
      "model_name": "HTMLStyleModel",
      "state": {
       "_model_module": "@jupyter-widgets/controls",
       "_model_module_version": "2.0.0",
       "_model_name": "HTMLStyleModel",
       "_view_count": null,
       "_view_module": "@jupyter-widgets/base",
       "_view_module_version": "2.0.0",
       "_view_name": "StyleView",
       "background": null,
       "description_width": "",
       "font_size": null,
       "text_color": null
      }
     },
     "45aa4079af304064af46741d54b4b272": {
      "model_module": "@jupyter-widgets/base",
      "model_module_version": "2.0.0",
      "model_name": "LayoutModel",
      "state": {
       "_model_module": "@jupyter-widgets/base",
       "_model_module_version": "2.0.0",
       "_model_name": "LayoutModel",
       "_view_count": null,
       "_view_module": "@jupyter-widgets/base",
       "_view_module_version": "2.0.0",
       "_view_name": "LayoutView",
       "align_content": null,
       "align_items": null,
       "align_self": null,
       "border_bottom": null,
       "border_left": null,
       "border_right": null,
       "border_top": null,
       "bottom": null,
       "display": null,
       "flex": null,
       "flex_flow": null,
       "grid_area": null,
       "grid_auto_columns": null,
       "grid_auto_flow": null,
       "grid_auto_rows": null,
       "grid_column": null,
       "grid_gap": null,
       "grid_row": null,
       "grid_template_areas": null,
       "grid_template_columns": null,
       "grid_template_rows": null,
       "height": null,
       "justify_content": null,
       "justify_items": null,
       "left": null,
       "margin": null,
       "max_height": null,
       "max_width": null,
       "min_height": null,
       "min_width": null,
       "object_fit": null,
       "object_position": null,
       "order": null,
       "overflow": null,
       "padding": null,
       "right": null,
       "top": null,
       "visibility": null,
       "width": null
      }
     },
     "45f0debb74df47c691ce013c4b0d757f": {
      "model_module": "@jupyter-widgets/controls",
      "model_module_version": "2.0.0",
      "model_name": "HTMLModel",
      "state": {
       "_dom_classes": [],
       "_model_module": "@jupyter-widgets/controls",
       "_model_module_version": "2.0.0",
       "_model_name": "HTMLModel",
       "_view_count": null,
       "_view_module": "@jupyter-widgets/controls",
       "_view_module_version": "2.0.0",
       "_view_name": "HTMLView",
       "description": "",
       "description_allow_html": false,
       "layout": "IPY_MODEL_1b720a1d4ef3472abd493304b9a76859",
       "placeholder": "​",
       "style": "IPY_MODEL_f9b955349dfb42fb92f1c10b09b6ce86",
       "tabbable": null,
       "tooltip": null,
       "value": "<h5><a href=\"https://github.com/jupyter/docker-stacks\">jupyter/docker-stacks</a></h5>\n<ul>\n<li><a href=\"https://github.com/jupyter/docker-stacks/issues/2229\">(#2229)</a>: <em>Add PyJulia package in julia-notebook and datascience-notebook</em> by <strong><a href=\"https://github.com/i0ntempest\">@i0ntempest</a></strong></li>\n<li><a href=\"https://github.com/jupyter/docker-stacks/issues/2275\">(#2275)</a>: <em>Excessive DNS Queries in JupyterHub Docker Container After Upgrade</em> by <strong><a href=\"https://github.com/cameronj86\">@cameronj86</a></strong></li>\n<li><a href=\"https://github.com/jupyter/docker-stacks/issues/2292\">(#2292)</a>: <em>Support a workflow for extending the base environment in a reproducible fashion</em> by <strong><a href=\"https://github.com/ctcjab\">@ctcjab</a></strong></li>\n<li><a href=\"https://github.com/jupyter/docker-stacks/issues/2250\">(#2250)</a>: <em>i can't use url+token to visit lab page</em> by <strong><a href=\"https://github.com/QuincyWuzefeng\">@QuincyWuzefeng</a></strong></li>\n<li><a href=\"https://github.com/jupyter/docker-stacks/issues/1557\">(#1557)</a>: <em>Build GPU Variants of Current Images</em> by <strong><a href=\"https://github.com/sdwalker62\">@sdwalker62</a></strong></li>\n</ul>"
      }
     },
     "4ae4c2e82c624ddc9c9a42afc30f0097": {
      "model_module": "@jupyter-widgets/base",
      "model_module_version": "2.0.0",
      "model_name": "LayoutModel",
      "state": {
       "_model_module": "@jupyter-widgets/base",
       "_model_module_version": "2.0.0",
       "_model_name": "LayoutModel",
       "_view_count": null,
       "_view_module": "@jupyter-widgets/base",
       "_view_module_version": "2.0.0",
       "_view_name": "LayoutView",
       "align_content": null,
       "align_items": null,
       "align_self": null,
       "border_bottom": null,
       "border_left": null,
       "border_right": null,
       "border_top": null,
       "bottom": null,
       "display": null,
       "flex": null,
       "flex_flow": null,
       "grid_area": null,
       "grid_auto_columns": null,
       "grid_auto_flow": null,
       "grid_auto_rows": null,
       "grid_column": null,
       "grid_gap": null,
       "grid_row": null,
       "grid_template_areas": null,
       "grid_template_columns": null,
       "grid_template_rows": null,
       "height": null,
       "justify_content": null,
       "justify_items": null,
       "left": null,
       "margin": null,
       "max_height": null,
       "max_width": null,
       "min_height": null,
       "min_width": null,
       "object_fit": null,
       "object_position": null,
       "order": null,
       "overflow": null,
       "padding": null,
       "right": null,
       "top": null,
       "visibility": null,
       "width": null
      }
     },
     "4cb44f07f49140e29b157029b9a0ba1c": {
      "model_module": "@jupyter-widgets/base",
      "model_module_version": "2.0.0",
      "model_name": "LayoutModel",
      "state": {
       "_model_module": "@jupyter-widgets/base",
       "_model_module_version": "2.0.0",
       "_model_name": "LayoutModel",
       "_view_count": null,
       "_view_module": "@jupyter-widgets/base",
       "_view_module_version": "2.0.0",
       "_view_name": "LayoutView",
       "align_content": null,
       "align_items": null,
       "align_self": null,
       "border_bottom": null,
       "border_left": null,
       "border_right": null,
       "border_top": null,
       "bottom": null,
       "display": null,
       "flex": null,
       "flex_flow": null,
       "grid_area": null,
       "grid_auto_columns": null,
       "grid_auto_flow": null,
       "grid_auto_rows": null,
       "grid_column": null,
       "grid_gap": null,
       "grid_row": null,
       "grid_template_areas": null,
       "grid_template_columns": null,
       "grid_template_rows": null,
       "height": null,
       "justify_content": null,
       "justify_items": null,
       "left": null,
       "margin": null,
       "max_height": null,
       "max_width": null,
       "min_height": null,
       "min_width": null,
       "object_fit": null,
       "object_position": null,
       "order": null,
       "overflow": null,
       "padding": null,
       "right": null,
       "top": null,
       "visibility": null,
       "width": null
      }
     },
     "4e1ac2ae98f24d8592e7c45f0f710522": {
      "model_module": "@jupyter-widgets/controls",
      "model_module_version": "2.0.0",
      "model_name": "HTMLStyleModel",
      "state": {
       "_model_module": "@jupyter-widgets/controls",
       "_model_module_version": "2.0.0",
       "_model_name": "HTMLStyleModel",
       "_view_count": null,
       "_view_module": "@jupyter-widgets/base",
       "_view_module_version": "2.0.0",
       "_view_name": "StyleView",
       "background": null,
       "description_width": "",
       "font_size": null,
       "text_color": null
      }
     },
     "4f2db9be8e6e4c94bbfbade850a5f884": {
      "model_module": "@jupyter-widgets/base",
      "model_module_version": "2.0.0",
      "model_name": "LayoutModel",
      "state": {
       "_model_module": "@jupyter-widgets/base",
       "_model_module_version": "2.0.0",
       "_model_name": "LayoutModel",
       "_view_count": null,
       "_view_module": "@jupyter-widgets/base",
       "_view_module_version": "2.0.0",
       "_view_name": "LayoutView",
       "align_content": null,
       "align_items": null,
       "align_self": null,
       "border_bottom": null,
       "border_left": null,
       "border_right": null,
       "border_top": null,
       "bottom": null,
       "display": null,
       "flex": null,
       "flex_flow": null,
       "grid_area": null,
       "grid_auto_columns": null,
       "grid_auto_flow": null,
       "grid_auto_rows": null,
       "grid_column": null,
       "grid_gap": null,
       "grid_row": null,
       "grid_template_areas": null,
       "grid_template_columns": null,
       "grid_template_rows": null,
       "height": null,
       "justify_content": null,
       "justify_items": null,
       "left": null,
       "margin": null,
       "max_height": null,
       "max_width": null,
       "min_height": null,
       "min_width": null,
       "object_fit": null,
       "object_position": null,
       "order": null,
       "overflow": null,
       "padding": null,
       "right": null,
       "top": null,
       "visibility": null,
       "width": null
      }
     },
     "4fb217f32a2f4c479387acff94047a73": {
      "model_module": "@jupyter-widgets/base",
      "model_module_version": "2.0.0",
      "model_name": "LayoutModel",
      "state": {
       "_model_module": "@jupyter-widgets/base",
       "_model_module_version": "2.0.0",
       "_model_name": "LayoutModel",
       "_view_count": null,
       "_view_module": "@jupyter-widgets/base",
       "_view_module_version": "2.0.0",
       "_view_name": "LayoutView",
       "align_content": null,
       "align_items": null,
       "align_self": null,
       "border_bottom": null,
       "border_left": null,
       "border_right": null,
       "border_top": null,
       "bottom": null,
       "display": null,
       "flex": null,
       "flex_flow": null,
       "grid_area": null,
       "grid_auto_columns": null,
       "grid_auto_flow": null,
       "grid_auto_rows": null,
       "grid_column": null,
       "grid_gap": null,
       "grid_row": null,
       "grid_template_areas": null,
       "grid_template_columns": null,
       "grid_template_rows": null,
       "height": null,
       "justify_content": null,
       "justify_items": null,
       "left": null,
       "margin": null,
       "max_height": null,
       "max_width": null,
       "min_height": null,
       "min_width": null,
       "object_fit": null,
       "object_position": null,
       "order": null,
       "overflow": null,
       "padding": null,
       "right": null,
       "top": null,
       "visibility": null,
       "width": null
      }
     },
     "5062498e02ce4eebb60aee885b1cbc10": {
      "model_module": "@jupyter-widgets/controls",
      "model_module_version": "2.0.0",
      "model_name": "HTMLStyleModel",
      "state": {
       "_model_module": "@jupyter-widgets/controls",
       "_model_module_version": "2.0.0",
       "_model_name": "HTMLStyleModel",
       "_view_count": null,
       "_view_module": "@jupyter-widgets/base",
       "_view_module_version": "2.0.0",
       "_view_name": "StyleView",
       "background": null,
       "description_width": "",
       "font_size": null,
       "text_color": null
      }
     },
     "528650f8f63c494da2f6cc0125336686": {
      "model_module": "@jupyter-widgets/controls",
      "model_module_version": "2.0.0",
      "model_name": "HTMLStyleModel",
      "state": {
       "_model_module": "@jupyter-widgets/controls",
       "_model_module_version": "2.0.0",
       "_model_name": "HTMLStyleModel",
       "_view_count": null,
       "_view_module": "@jupyter-widgets/base",
       "_view_module_version": "2.0.0",
       "_view_name": "StyleView",
       "background": null,
       "description_width": "",
       "font_size": null,
       "text_color": null
      }
     },
     "52f443e26ca74c58a7e5bdd1c6b9ebec": {
      "model_module": "@jupyter-widgets/controls",
      "model_module_version": "2.0.0",
      "model_name": "HTMLStyleModel",
      "state": {
       "_model_module": "@jupyter-widgets/controls",
       "_model_module_version": "2.0.0",
       "_model_name": "HTMLStyleModel",
       "_view_count": null,
       "_view_module": "@jupyter-widgets/base",
       "_view_module_version": "2.0.0",
       "_view_name": "StyleView",
       "background": null,
       "description_width": "",
       "font_size": null,
       "text_color": null
      }
     },
     "546b942eeb484813a55b2837a61e788a": {
      "model_module": "@jupyter-widgets/controls",
      "model_module_version": "2.0.0",
      "model_name": "HTMLModel",
      "state": {
       "_dom_classes": [],
       "_model_module": "@jupyter-widgets/controls",
       "_model_module_version": "2.0.0",
       "_model_name": "HTMLModel",
       "_view_count": null,
       "_view_module": "@jupyter-widgets/controls",
       "_view_module_version": "2.0.0",
       "_view_name": "HTMLView",
       "description": "",
       "description_allow_html": false,
       "layout": "IPY_MODEL_f8481bcb157540cdb10b594bacff0a9a",
       "placeholder": "​",
       "style": "IPY_MODEL_99d85567cc154c02b8e104176e00642c",
       "tabbable": null,
       "tooltip": null,
       "value": "<h4>Closed PRs for repo: <a href=\"https://github.com/jupyter/jupyter.github.io\">jupyter/jupyter.github.io</a></h4>\n<h5></h5>\n<ul>\n<li><a href=\"https://github.com/jupyter/jupyter.github.io/issues/770\">(#770)</a>: <em>Bump actions/download-artifact from 2 to 4.1.7 in /.github/workflows</em> by <strong><a href=\"https://github.com/dependabot[bot]\">@dependabot[bot]</a></strong> merged by <strong><a href=\"https://github.com/krassowski\">@krassowski</a></strong></li>\n<li><a href=\"https://github.com/jupyter/jupyter.github.io/issues/785\">(#785)</a>: <em>Updated wrong Bluesky profile URL</em> by <strong><a href=\"https://github.com/NiklasJordan\">@NiklasJordan</a></strong> merged by <strong><a href=\"https://github.com/afshin\">@afshin</a></strong></li>\n<li><a href=\"https://github.com/jupyter/jupyter.github.io/issues/786\">(#786)</a>: <em>Link the leadership directory</em> by <strong><a href=\"https://github.com/krassowski\">@krassowski</a></strong> merged by <strong><a href=\"https://github.com/krassowski\">@krassowski</a></strong></li>\n<li><a href=\"https://github.com/jupyter/jupyter.github.io/issues/788\">(#788)</a>: <em>Add banner for JupyterCon 2025</em> by <strong><a href=\"https://github.com/choldgraf\">@choldgraf</a></strong> merged by <strong><a href=\"https://github.com/rpwagner\">@rpwagner</a></strong></li>\n<li><a href=\"https://github.com/jupyter/jupyter.github.io/issues/789\">(#789)</a>: <em>Fix CI by removing <code>&lt;a&gt;</code> and <code>&lt;button&gt;</code> nesting as well as ignoring some working links</em> by <strong><a href=\"https://github.com/choldgraf\">@choldgraf</a></strong> merged by <strong><a href=\"https://github.com/choldgraf\">@choldgraf</a></strong></li>\n<li><a href=\"https://github.com/jupyter/jupyter.github.io/issues/790\">(#790)</a>: <em>Update lighthouse action version</em> by <strong><a href=\"https://github.com/choldgraf\">@choldgraf</a></strong> merged by <strong><a href=\"https://github.com/krassowski\">@krassowski</a></strong></li>\n<li><a href=\"https://github.com/jupyter/jupyter.github.io/issues/792\">(#792)</a>: <em>Update min scores for lighthouse</em> by <strong><a href=\"https://github.com/krassowski\">@krassowski</a></strong> merged by <strong><a href=\"https://github.com/choldgraf\">@choldgraf</a></strong></li>\n<li><a href=\"https://github.com/jupyter/jupyter.github.io/issues/794\">(#794)</a>: <em>Update SSC Representative for Jupyter Frontends</em> by <strong><a href=\"https://github.com/jtpio\">@jtpio</a></strong> merged by <strong><a href=\"https://github.com/krassowski\">@krassowski</a></strong></li>\n<li><a href=\"https://github.com/jupyter/jupyter.github.io/issues/795\">(#795)</a>: <em>Update the Jupyter Notebook Format workshop link</em> by <strong><a href=\"https://github.com/jasongrout\">@jasongrout</a></strong> merged by <strong><a href=\"https://github.com/Ruv7\">@Ruv7</a></strong></li>\n<li><a href=\"https://github.com/jupyter/jupyter.github.io/issues/796\">(#796)</a>: <em>Add guidelines for contacting the security WG to avoid spam etc</em> by <strong><a href=\"https://github.com/Carreau\">@Carreau</a></strong> merged by <strong><a href=\"https://github.com/choldgraf\">@choldgraf</a></strong></li>\n<li><a href=\"https://github.com/jupyter/jupyter.github.io/issues/797\">(#797)</a>: <em>Add 2024 JDC cohort</em> by <strong><a href=\"https://github.com/SylvainCorlay\">@SylvainCorlay</a></strong> merged by <strong><a href=\"https://github.com/choldgraf\">@choldgraf</a></strong></li>\n</ul>"
      }
     },
     "54cde5ca8c874efabe6bf0d2f013fee2": {
      "model_module": "@jupyter-widgets/controls",
      "model_module_version": "2.0.0",
      "model_name": "HTMLModel",
      "state": {
       "_dom_classes": [],
       "_model_module": "@jupyter-widgets/controls",
       "_model_module_version": "2.0.0",
       "_model_name": "HTMLModel",
       "_view_count": null,
       "_view_module": "@jupyter-widgets/controls",
       "_view_module_version": "2.0.0",
       "_view_name": "HTMLView",
       "description": "",
       "description_allow_html": false,
       "layout": "IPY_MODEL_cb3aad02a69d4d66b3c9ca6f8222cdfa",
       "placeholder": "​",
       "style": "IPY_MODEL_d67ab0165050489cbe21d966e9c1b30c",
       "tabbable": null,
       "tooltip": null,
       "value": "<h4>Closed PRs for repo: <a href=\"https://github.com/jupyter/nbformat\">jupyter/nbformat</a></h4>\n<h5></h5>\n<ul>\n<li><a href=\"https://github.com/jupyter/nbformat/issues/411\">(#411)</a>: _Add security.md _ by <strong><a href=\"https://github.com/Carreau\">@Carreau</a></strong> merged by <strong><a href=\"https://github.com/Carreau\">@Carreau</a></strong></li>\n</ul>"
      }
     },
     "5c2d46ebe23f40d0ac2bcfb1c43b8d68": {
      "model_module": "@jupyter-widgets/controls",
      "model_module_version": "2.0.0",
      "model_name": "HTMLModel",
      "state": {
       "_dom_classes": [],
       "_model_module": "@jupyter-widgets/controls",
       "_model_module_version": "2.0.0",
       "_model_name": "HTMLModel",
       "_view_count": null,
       "_view_module": "@jupyter-widgets/controls",
       "_view_module_version": "2.0.0",
       "_view_name": "HTMLView",
       "description": "",
       "description_allow_html": false,
       "layout": "IPY_MODEL_96f600399f3749578e5b91b208e47b9a",
       "placeholder": "​",
       "style": "IPY_MODEL_2d98a995c113426880c5a01b4630052c",
       "tabbable": null,
       "tooltip": null,
       "value": "<h5><a href=\"https://github.com/jupyter/jupyter_client\">jupyter/jupyter_client</a></h5>\n<ul>\n<li><a href=\"https://github.com/jupyter/jupyter_client/issues/1026\">(#1026)</a>: <em>Exception raised in KernelClient.del when shutting down kernel after executing code using kc.execute_interactive()</em> by <strong><a href=\"https://github.com/vivekvedant\">@vivekvedant</a></strong></li>\n<li><a href=\"https://github.com/jupyter/jupyter_client/issues/1053\">(#1053)</a>: <em>coroutine 'KernelManager._async_start_kernel' was never awaited</em> by <strong><a href=\"https://github.com/benjamincburns\">@benjamincburns</a></strong></li>\n</ul>"
      }
     },
     "5d62b5c44f03435a8f8eef04872b7961": {
      "model_module": "@jupyter-widgets/controls",
      "model_module_version": "2.0.0",
      "model_name": "HTMLStyleModel",
      "state": {
       "_model_module": "@jupyter-widgets/controls",
       "_model_module_version": "2.0.0",
       "_model_name": "HTMLStyleModel",
       "_view_count": null,
       "_view_module": "@jupyter-widgets/base",
       "_view_module_version": "2.0.0",
       "_view_name": "StyleView",
       "background": null,
       "description_width": "",
       "font_size": null,
       "text_color": null
      }
     },
     "632f0e875e414bf687503a2a983ef1b1": {
      "model_module": "@jupyter-widgets/base",
      "model_module_version": "2.0.0",
      "model_name": "LayoutModel",
      "state": {
       "_model_module": "@jupyter-widgets/base",
       "_model_module_version": "2.0.0",
       "_model_name": "LayoutModel",
       "_view_count": null,
       "_view_module": "@jupyter-widgets/base",
       "_view_module_version": "2.0.0",
       "_view_name": "LayoutView",
       "align_content": null,
       "align_items": null,
       "align_self": null,
       "border_bottom": null,
       "border_left": null,
       "border_right": null,
       "border_top": null,
       "bottom": null,
       "display": null,
       "flex": null,
       "flex_flow": null,
       "grid_area": null,
       "grid_auto_columns": null,
       "grid_auto_flow": null,
       "grid_auto_rows": null,
       "grid_column": null,
       "grid_gap": null,
       "grid_row": null,
       "grid_template_areas": null,
       "grid_template_columns": null,
       "grid_template_rows": null,
       "height": null,
       "justify_content": null,
       "justify_items": null,
       "left": null,
       "margin": null,
       "max_height": null,
       "max_width": null,
       "min_height": null,
       "min_width": null,
       "object_fit": null,
       "object_position": null,
       "order": null,
       "overflow": null,
       "padding": null,
       "right": null,
       "top": null,
       "visibility": null,
       "width": null
      }
     },
     "662a8c7f66404fc9bb272f7279c8eda7": {
      "model_module": "@jupyter-widgets/controls",
      "model_module_version": "2.0.0",
      "model_name": "HTMLModel",
      "state": {
       "_dom_classes": [],
       "_model_module": "@jupyter-widgets/controls",
       "_model_module_version": "2.0.0",
       "_model_name": "HTMLModel",
       "_view_count": null,
       "_view_module": "@jupyter-widgets/controls",
       "_view_module_version": "2.0.0",
       "_view_name": "HTMLView",
       "description": "",
       "description_allow_html": false,
       "layout": "IPY_MODEL_770b7fe632874fdc9a82f70adc72fc41",
       "placeholder": "​",
       "style": "IPY_MODEL_5d62b5c44f03435a8f8eef04872b7961",
       "tabbable": null,
       "tooltip": null,
       "value": "<h5><a href=\"https://github.com/jupyter/docker-stacks\">jupyter/docker-stacks</a></h5>\n<ul>\n<li><a href=\"https://github.com/jupyter/docker-stacks/issues/2229\">(#2229)</a>: <em>Add PyJulia package in julia-notebook and datascience-notebook</em> by <strong><a href=\"https://github.com/i0ntempest\">@i0ntempest</a></strong></li>\n<li><a href=\"https://github.com/jupyter/docker-stacks/issues/2275\">(#2275)</a>: <em>Excessive DNS Queries in JupyterHub Docker Container After Upgrade</em> by <strong><a href=\"https://github.com/cameronj86\">@cameronj86</a></strong></li>\n<li><a href=\"https://github.com/jupyter/docker-stacks/issues/2292\">(#2292)</a>: <em>Support a workflow for extending the base environment in a reproducible fashion</em> by <strong><a href=\"https://github.com/ctcjab\">@ctcjab</a></strong></li>\n<li><a href=\"https://github.com/jupyter/docker-stacks/issues/2250\">(#2250)</a>: <em>i can't use url+token to visit lab page</em> by <strong><a href=\"https://github.com/QuincyWuzefeng\">@QuincyWuzefeng</a></strong></li>\n<li><a href=\"https://github.com/jupyter/docker-stacks/issues/1557\">(#1557)</a>: <em>Build GPU Variants of Current Images</em> by <strong><a href=\"https://github.com/sdwalker62\">@sdwalker62</a></strong></li>\n</ul>"
      }
     },
     "6945f92a9bdd4aa68695ba83e0bc05a8": {
      "model_module": "@jupyter-widgets/controls",
      "model_module_version": "2.0.0",
      "model_name": "HTMLModel",
      "state": {
       "_dom_classes": [],
       "_model_module": "@jupyter-widgets/controls",
       "_model_module_version": "2.0.0",
       "_model_name": "HTMLModel",
       "_view_count": null,
       "_view_module": "@jupyter-widgets/controls",
       "_view_module_version": "2.0.0",
       "_view_name": "HTMLView",
       "description": "",
       "description_allow_html": false,
       "layout": "IPY_MODEL_0b95cb5b5b0c45d1970a3000106e224a",
       "placeholder": "​",
       "style": "IPY_MODEL_da073744844a4191955f86c00bf6e0ed",
       "tabbable": null,
       "tooltip": null,
       "value": "<h5><a href=\"https://github.com/jupyter/jupyter_core\">jupyter/jupyter_core</a></h5>\n<ul>\n<li><a href=\"https://github.com/jupyter/jupyter_core/issues/410\">(#410)</a>: <em>The configuration files for Jupyter produce many lint errors now</em> by <strong><a href=\"https://github.com/NeilGirdhar\">@NeilGirdhar</a></strong></li>\n<li><a href=\"https://github.com/jupyter/jupyter_core/issues/350\">(#350)</a>: <em>There are conflicts between the modules of the dependencies.</em> by <strong><a href=\"https://github.com/unsatisfying\">@unsatisfying</a></strong></li>\n<li><a href=\"https://github.com/jupyter/jupyter_core/issues/423\">(#423)</a>: <em>paths.is_hidden() Erroneously Reports Files as Hidden</em> by <strong><a href=\"https://github.com/matyanwek\">@matyanwek</a></strong></li>\n</ul>"
      }
     },
     "69f2e0591a1f4d72a9258fe701ad0634": {
      "model_module": "@jupyter-widgets/controls",
      "model_module_version": "2.0.0",
      "model_name": "HTMLModel",
      "state": {
       "_dom_classes": [],
       "_model_module": "@jupyter-widgets/controls",
       "_model_module_version": "2.0.0",
       "_model_name": "HTMLModel",
       "_view_count": null,
       "_view_module": "@jupyter-widgets/controls",
       "_view_module_version": "2.0.0",
       "_view_name": "HTMLView",
       "description": "",
       "description_allow_html": false,
       "layout": "IPY_MODEL_0db06239394d462fab940c8a54c8e324",
       "placeholder": "​",
       "style": "IPY_MODEL_736518c05b7e423389d00ff0fa2d2afc",
       "tabbable": null,
       "tooltip": null,
       "value": "<h5><a href=\"https://github.com/jupyter/nbgrader\">jupyter/nbgrader</a></h5>\n<ul>\n<li><a href=\"https://github.com/jupyter/nbgrader/issues/1955\">(#1955)</a>: <em>Wishlist: capture output of print statements in answer and test cells</em> by <strong><a href=\"https://github.com/callegar\">@callegar</a></strong></li>\n<li><a href=\"https://github.com/jupyter/nbgrader/issues/1965\">(#1965)</a>: <em>Formgrader does not find assignments when path contains aquare brackets</em> by <strong><a href=\"https://github.com/tjueterb\">@tjueterb</a></strong></li>\n<li><a href=\"https://github.com/jupyter/nbgrader/issues/1931\">(#1931)</a>: <em>Colon in feedback path conflicts with jupyter-fs</em> by <strong><a href=\"https://github.com/jeflem\">@jeflem</a></strong></li>\n<li><a href=\"https://github.com/jupyter/nbgrader/issues/1960\">(#1960)</a>: <em>Installation Script</em> by <strong><a href=\"https://github.com/ronaldpetty\">@ronaldpetty</a></strong></li>\n<li><a href=\"https://github.com/jupyter/nbgrader/issues/1837\">(#1837)</a>: <em>Integrating nbgrader with a plagiarism checker?</em> by <strong><a href=\"https://github.com/Merna-Atef\">@Merna-Atef</a></strong></li>\n</ul>"
      }
     },
     "6e6c18c52e6f43578cba1b1dcb97d6cb": {
      "model_module": "@jupyter-widgets/controls",
      "model_module_version": "2.0.0",
      "model_name": "HTMLModel",
      "state": {
       "_dom_classes": [],
       "_model_module": "@jupyter-widgets/controls",
       "_model_module_version": "2.0.0",
       "_model_name": "HTMLModel",
       "_view_count": null,
       "_view_module": "@jupyter-widgets/controls",
       "_view_module_version": "2.0.0",
       "_view_name": "HTMLView",
       "description": "",
       "description_allow_html": false,
       "layout": "IPY_MODEL_4ae4c2e82c624ddc9c9a42afc30f0097",
       "placeholder": "​",
       "style": "IPY_MODEL_c793adfa24f9474d8115ab046db723a0",
       "tabbable": null,
       "tooltip": null,
       "value": "<h5><a href=\"https://github.com/jupyter/nbconvert\">jupyter/nbconvert</a></h5>\n<ul>\n<li><a href=\"https://github.com/jupyter/nbconvert/issues/2208\">(#2208)</a>: <em>Long equations from sympy do not wrap</em> by <strong><a href=\"https://github.com/gabemorris12\">@gabemorris12</a></strong></li>\n<li><a href=\"https://github.com/jupyter/nbconvert/issues/2149\">(#2149)</a>: <em>nbconvert for python 3.9 crashing during the templateexporter.py</em> by <strong><a href=\"https://github.com/ale-franc\">@ale-franc</a></strong></li>\n<li><a href=\"https://github.com/jupyter/nbconvert/issues/2047\">(#2047)</a>: <em>[Python] Inconsistent failures in the presence of invalid syntax</em> by <strong><a href=\"https://github.com/kycutler\">@kycutler</a></strong></li>\n<li><a href=\"https://github.com/jupyter/nbconvert/issues/2217\">(#2217)</a>: <em>nbconvert inline \\mathbf   ($\\mathbf {x}$) fails to export to PDF</em> by <strong><a href=\"https://github.com/frohro\">@frohro</a></strong></li>\n<li><a href=\"https://github.com/jupyter/nbconvert/issues/1661\">(#1661)</a>: <em>nbconvert <code>--user</code> install fails to find templates</em> by <strong><a href=\"https://github.com/matthew-brett\">@matthew-brett</a></strong></li>\n</ul>"
      }
     },
     "703846904113429abce8202cc95691dd": {
      "model_module": "@jupyter-widgets/controls",
      "model_module_version": "2.0.0",
      "model_name": "HTMLStyleModel",
      "state": {
       "_model_module": "@jupyter-widgets/controls",
       "_model_module_version": "2.0.0",
       "_model_name": "HTMLStyleModel",
       "_view_count": null,
       "_view_module": "@jupyter-widgets/base",
       "_view_module_version": "2.0.0",
       "_view_name": "StyleView",
       "background": null,
       "description_width": "",
       "font_size": null,
       "text_color": null
      }
     },
     "71c858a96d674b08929766fa15ee738a": {
      "model_module": "@jupyter-widgets/base",
      "model_module_version": "2.0.0",
      "model_name": "LayoutModel",
      "state": {
       "_model_module": "@jupyter-widgets/base",
       "_model_module_version": "2.0.0",
       "_model_name": "LayoutModel",
       "_view_count": null,
       "_view_module": "@jupyter-widgets/base",
       "_view_module_version": "2.0.0",
       "_view_name": "LayoutView",
       "align_content": null,
       "align_items": null,
       "align_self": null,
       "border_bottom": null,
       "border_left": null,
       "border_right": null,
       "border_top": null,
       "bottom": null,
       "display": null,
       "flex": null,
       "flex_flow": null,
       "grid_area": null,
       "grid_auto_columns": null,
       "grid_auto_flow": null,
       "grid_auto_rows": null,
       "grid_column": null,
       "grid_gap": null,
       "grid_row": null,
       "grid_template_areas": null,
       "grid_template_columns": null,
       "grid_template_rows": null,
       "height": null,
       "justify_content": null,
       "justify_items": null,
       "left": null,
       "margin": null,
       "max_height": null,
       "max_width": null,
       "min_height": null,
       "min_width": null,
       "object_fit": null,
       "object_position": null,
       "order": null,
       "overflow": null,
       "padding": null,
       "right": null,
       "top": null,
       "visibility": null,
       "width": null
      }
     },
     "7356fc1cf4d648758244340af6028da7": {
      "model_module": "@jupyter-widgets/base",
      "model_module_version": "2.0.0",
      "model_name": "LayoutModel",
      "state": {
       "_model_module": "@jupyter-widgets/base",
       "_model_module_version": "2.0.0",
       "_model_name": "LayoutModel",
       "_view_count": null,
       "_view_module": "@jupyter-widgets/base",
       "_view_module_version": "2.0.0",
       "_view_name": "LayoutView",
       "align_content": null,
       "align_items": null,
       "align_self": null,
       "border_bottom": null,
       "border_left": null,
       "border_right": null,
       "border_top": null,
       "bottom": null,
       "display": null,
       "flex": null,
       "flex_flow": null,
       "grid_area": null,
       "grid_auto_columns": null,
       "grid_auto_flow": null,
       "grid_auto_rows": null,
       "grid_column": null,
       "grid_gap": null,
       "grid_row": null,
       "grid_template_areas": null,
       "grid_template_columns": null,
       "grid_template_rows": null,
       "height": null,
       "justify_content": null,
       "justify_items": null,
       "left": null,
       "margin": null,
       "max_height": null,
       "max_width": null,
       "min_height": null,
       "min_width": null,
       "object_fit": null,
       "object_position": null,
       "order": null,
       "overflow": null,
       "padding": null,
       "right": null,
       "top": null,
       "visibility": null,
       "width": null
      }
     },
     "736518c05b7e423389d00ff0fa2d2afc": {
      "model_module": "@jupyter-widgets/controls",
      "model_module_version": "2.0.0",
      "model_name": "HTMLStyleModel",
      "state": {
       "_model_module": "@jupyter-widgets/controls",
       "_model_module_version": "2.0.0",
       "_model_name": "HTMLStyleModel",
       "_view_count": null,
       "_view_module": "@jupyter-widgets/base",
       "_view_module_version": "2.0.0",
       "_view_name": "StyleView",
       "background": null,
       "description_width": "",
       "font_size": null,
       "text_color": null
      }
     },
     "7462da27259f4de7a2209f3d1ca9b8f6": {
      "model_module": "@jupyter-widgets/controls",
      "model_module_version": "2.0.0",
      "model_name": "HTMLModel",
      "state": {
       "_dom_classes": [],
       "_model_module": "@jupyter-widgets/controls",
       "_model_module_version": "2.0.0",
       "_model_name": "HTMLModel",
       "_view_count": null,
       "_view_module": "@jupyter-widgets/controls",
       "_view_module_version": "2.0.0",
       "_view_name": "HTMLView",
       "description": "",
       "description_allow_html": false,
       "layout": "IPY_MODEL_250f66d366e94a7086656d3bee756417",
       "placeholder": "​",
       "style": "IPY_MODEL_4e1ac2ae98f24d8592e7c45f0f710522",
       "tabbable": null,
       "tooltip": null,
       "value": "<h5><a href=\"https://github.com/jupyter/nbgrader\">jupyter/nbgrader</a></h5>\n<ul>\n<li><a href=\"https://github.com/jupyter/nbgrader/issues/1955\">(#1955)</a>: <em>Wishlist: capture output of print statements in answer and test cells</em> by <strong><a href=\"https://github.com/callegar\">@callegar</a></strong></li>\n<li><a href=\"https://github.com/jupyter/nbgrader/issues/1965\">(#1965)</a>: <em>Formgrader does not find assignments when path contains aquare brackets</em> by <strong><a href=\"https://github.com/tjueterb\">@tjueterb</a></strong></li>\n<li><a href=\"https://github.com/jupyter/nbgrader/issues/1931\">(#1931)</a>: <em>Colon in feedback path conflicts with jupyter-fs</em> by <strong><a href=\"https://github.com/jeflem\">@jeflem</a></strong></li>\n<li><a href=\"https://github.com/jupyter/nbgrader/issues/1960\">(#1960)</a>: <em>Installation Script</em> by <strong><a href=\"https://github.com/ronaldpetty\">@ronaldpetty</a></strong></li>\n<li><a href=\"https://github.com/jupyter/nbgrader/issues/1837\">(#1837)</a>: <em>Integrating nbgrader with a plagiarism checker?</em> by <strong><a href=\"https://github.com/Merna-Atef\">@Merna-Atef</a></strong></li>\n</ul>"
      }
     },
     "7517260d1ed34194a8abc4cbdb7ceae0": {
      "model_module": "@jupyter-widgets/controls",
      "model_module_version": "2.0.0",
      "model_name": "HTMLStyleModel",
      "state": {
       "_model_module": "@jupyter-widgets/controls",
       "_model_module_version": "2.0.0",
       "_model_name": "HTMLStyleModel",
       "_view_count": null,
       "_view_module": "@jupyter-widgets/base",
       "_view_module_version": "2.0.0",
       "_view_name": "StyleView",
       "background": null,
       "description_width": "",
       "font_size": null,
       "text_color": null
      }
     },
     "770b7fe632874fdc9a82f70adc72fc41": {
      "model_module": "@jupyter-widgets/base",
      "model_module_version": "2.0.0",
      "model_name": "LayoutModel",
      "state": {
       "_model_module": "@jupyter-widgets/base",
       "_model_module_version": "2.0.0",
       "_model_name": "LayoutModel",
       "_view_count": null,
       "_view_module": "@jupyter-widgets/base",
       "_view_module_version": "2.0.0",
       "_view_name": "LayoutView",
       "align_content": null,
       "align_items": null,
       "align_self": null,
       "border_bottom": null,
       "border_left": null,
       "border_right": null,
       "border_top": null,
       "bottom": null,
       "display": null,
       "flex": null,
       "flex_flow": null,
       "grid_area": null,
       "grid_auto_columns": null,
       "grid_auto_flow": null,
       "grid_auto_rows": null,
       "grid_column": null,
       "grid_gap": null,
       "grid_row": null,
       "grid_template_areas": null,
       "grid_template_columns": null,
       "grid_template_rows": null,
       "height": null,
       "justify_content": null,
       "justify_items": null,
       "left": null,
       "margin": null,
       "max_height": null,
       "max_width": null,
       "min_height": null,
       "min_width": null,
       "object_fit": null,
       "object_position": null,
       "order": null,
       "overflow": null,
       "padding": null,
       "right": null,
       "top": null,
       "visibility": null,
       "width": null
      }
     },
     "794dc6dfc2284c0bbfbdb66ab30dc65e": {
      "model_module": "@jupyter-widgets/controls",
      "model_module_version": "2.0.0",
      "model_name": "HTMLModel",
      "state": {
       "_dom_classes": [],
       "_model_module": "@jupyter-widgets/controls",
       "_model_module_version": "2.0.0",
       "_model_name": "HTMLModel",
       "_view_count": null,
       "_view_module": "@jupyter-widgets/controls",
       "_view_module_version": "2.0.0",
       "_view_name": "HTMLView",
       "description": "",
       "description_allow_html": false,
       "layout": "IPY_MODEL_f57760e2cec144f48285f49855f960f8",
       "placeholder": "​",
       "style": "IPY_MODEL_3c98d187dfde4afe96efe420aaa01794",
       "tabbable": null,
       "tooltip": null,
       "value": "<h4>Closed PRs for repo: <a href=\"https://github.com/jupyter/jupyter\">jupyter/jupyter</a></h4>\n<h5></h5>\n<ul>\n<li><a href=\"https://github.com/jupyter/jupyter/issues/765\">(#765)</a>: <em>bump ubuntu runner image to 24.04</em> by <strong><a href=\"https://github.com/ivanov\">@ivanov</a></strong> merged by <strong><a href=\"https://github.com/ivanov\">@ivanov</a></strong></li>\n<li><a href=\"https://github.com/jupyter/jupyter/issues/767\">(#767)</a>: <em>bump ubuntu runner image to 24.04</em> by <strong><a href=\"https://github.com/ivanov\">@ivanov</a></strong> merged by <strong><a href=\"https://github.com/ivanov\">@ivanov</a></strong></li>\n<li><a href=\"https://github.com/jupyter/jupyter/issues/768\">(#768)</a>: <em>Add Community Call Notes for February 2025</em> by <strong><a href=\"https://github.com/RRosio\">@RRosio</a></strong> merged by <strong><a href=\"https://github.com/ivanov\">@ivanov</a></strong></li>\n<li><a href=\"https://github.com/jupyter/jupyter/issues/770\">(#770)</a>: <em>Fixed typo in contrib_guide.md</em> by <strong><a href=\"https://github.com/derekrgreene\">@derekrgreene</a></strong> merged by <strong><a href=\"https://github.com/derekrgreene\">@derekrgreene</a></strong></li>\n<li><a href=\"https://github.com/jupyter/jupyter/issues/771\">(#771)</a>: <em>Minor wording improvements to releasing.rst</em> by <strong><a href=\"https://github.com/derekrgreene\">@derekrgreene</a></strong> merged by <strong><a href=\"https://github.com/choldgraf\">@choldgraf</a></strong></li>\n<li><a href=\"https://github.com/jupyter/jupyter/issues/772\">(#772)</a>: <em>Fixed minor typo in contrib_guide.md</em> by <strong><a href=\"https://github.com/derekrgreene\">@derekrgreene</a></strong> merged by <strong><a href=\"https://github.com/derekrgreene\">@derekrgreene</a></strong></li>\n<li><a href=\"https://github.com/jupyter/jupyter/issues/773\">(#773)</a>: <em>Fixed minor typo in contrib_guide.md</em> by <strong><a href=\"https://github.com/derekrgreene\">@derekrgreene</a></strong> merged by <strong><a href=\"https://github.com/ivanov\">@ivanov</a></strong></li>\n<li><a href=\"https://github.com/jupyter/jupyter/issues/774\">(#774)</a>: <em>Fixed broken links in pull_request.rst</em> by <strong><a href=\"https://github.com/derekrgreene\">@derekrgreene</a></strong> merged by <strong><a href=\"https://github.com/choldgraf\">@choldgraf</a></strong></li>\n<li><a href=\"https://github.com/jupyter/jupyter/issues/775\">(#775)</a>: <em>Update install.rst</em> by <strong><a href=\"https://github.com/Emmaedler2005\">@Emmaedler2005</a></strong> merged by <strong><a href=\"https://github.com/choldgraf\">@choldgraf</a></strong></li>\n</ul>"
      }
     },
     "7e4328b0c693488d901eee2fcfcd427c": {
      "model_module": "@jupyter-widgets/controls",
      "model_module_version": "2.0.0",
      "model_name": "HTMLModel",
      "state": {
       "_dom_classes": [],
       "_model_module": "@jupyter-widgets/controls",
       "_model_module_version": "2.0.0",
       "_model_name": "HTMLModel",
       "_view_count": null,
       "_view_module": "@jupyter-widgets/controls",
       "_view_module_version": "2.0.0",
       "_view_name": "HTMLView",
       "description": "",
       "description_allow_html": false,
       "layout": "IPY_MODEL_dfcbd49cf0b9476090e5a565fadb37c1",
       "placeholder": "​",
       "style": "IPY_MODEL_b7a318fa4a0d45b6af442c84a96bcdec",
       "tabbable": null,
       "tooltip": null,
       "value": "<h4>Closed PRs for repo: <a href=\"https://github.com/jupyter/nbviewer\">jupyter/nbviewer</a></h4>\n<h5></h5>\n<ul>\n<li><a href=\"https://github.com/jupyter/nbviewer/issues/1072\">(#1072)</a>: <em>Create cr</em> by <strong><a href=\"https://github.com/Diyatuli04\">@Diyatuli04</a></strong> merged by <strong><a href=\"https://github.com/bollwyvl\">@bollwyvl</a></strong></li>\n</ul>"
      }
     },
     "840f2471f93c4d65913b1e0644460bc1": {
      "model_module": "@jupyter-widgets/base",
      "model_module_version": "2.0.0",
      "model_name": "LayoutModel",
      "state": {
       "_model_module": "@jupyter-widgets/base",
       "_model_module_version": "2.0.0",
       "_model_name": "LayoutModel",
       "_view_count": null,
       "_view_module": "@jupyter-widgets/base",
       "_view_module_version": "2.0.0",
       "_view_name": "LayoutView",
       "align_content": null,
       "align_items": null,
       "align_self": null,
       "border_bottom": null,
       "border_left": null,
       "border_right": null,
       "border_top": null,
       "bottom": null,
       "display": null,
       "flex": null,
       "flex_flow": null,
       "grid_area": null,
       "grid_auto_columns": null,
       "grid_auto_flow": null,
       "grid_auto_rows": null,
       "grid_column": null,
       "grid_gap": null,
       "grid_row": null,
       "grid_template_areas": null,
       "grid_template_columns": null,
       "grid_template_rows": null,
       "height": null,
       "justify_content": null,
       "justify_items": null,
       "left": null,
       "margin": null,
       "max_height": null,
       "max_width": null,
       "min_height": null,
       "min_width": null,
       "object_fit": null,
       "object_position": null,
       "order": null,
       "overflow": null,
       "padding": null,
       "right": null,
       "top": null,
       "visibility": null,
       "width": null
      }
     },
     "84fdcbeb5558469a91e712011f6c28bc": {
      "model_module": "@jupyter-widgets/base",
      "model_module_version": "2.0.0",
      "model_name": "LayoutModel",
      "state": {
       "_model_module": "@jupyter-widgets/base",
       "_model_module_version": "2.0.0",
       "_model_name": "LayoutModel",
       "_view_count": null,
       "_view_module": "@jupyter-widgets/base",
       "_view_module_version": "2.0.0",
       "_view_name": "LayoutView",
       "align_content": null,
       "align_items": null,
       "align_self": null,
       "border_bottom": null,
       "border_left": null,
       "border_right": null,
       "border_top": null,
       "bottom": null,
       "display": null,
       "flex": null,
       "flex_flow": null,
       "grid_area": null,
       "grid_auto_columns": null,
       "grid_auto_flow": null,
       "grid_auto_rows": null,
       "grid_column": null,
       "grid_gap": null,
       "grid_row": null,
       "grid_template_areas": null,
       "grid_template_columns": null,
       "grid_template_rows": null,
       "height": null,
       "justify_content": null,
       "justify_items": null,
       "left": null,
       "margin": null,
       "max_height": null,
       "max_width": null,
       "min_height": null,
       "min_width": null,
       "object_fit": null,
       "object_position": null,
       "order": null,
       "overflow": null,
       "padding": null,
       "right": null,
       "top": null,
       "visibility": null,
       "width": null
      }
     },
     "8762b54cb9e249f5825f27eb8a96250b": {
      "model_module": "@jupyter-widgets/controls",
      "model_module_version": "2.0.0",
      "model_name": "HTMLModel",
      "state": {
       "_dom_classes": [],
       "_model_module": "@jupyter-widgets/controls",
       "_model_module_version": "2.0.0",
       "_model_name": "HTMLModel",
       "_view_count": null,
       "_view_module": "@jupyter-widgets/controls",
       "_view_module_version": "2.0.0",
       "_view_name": "HTMLView",
       "description": "",
       "description_allow_html": false,
       "layout": "IPY_MODEL_840f2471f93c4d65913b1e0644460bc1",
       "placeholder": "​",
       "style": "IPY_MODEL_41ae20b5dd1c40dd8bfe80cccf0c3d10",
       "tabbable": null,
       "tooltip": null,
       "value": "<h4>Closed PRs for repo: <a href=\"https://github.com/jupyter/docker-stacks\">jupyter/docker-stacks</a></h4>\n<h5></h5>\n<ul>\n<li><a href=\"https://github.com/jupyter/docker-stacks/issues/2192\">(#2192)</a>: <em>Try to install latest TensorFlow version using <code>mamba</code></em> by <strong><a href=\"https://github.com/mathbunnyru\">@mathbunnyru</a></strong> merged by <strong><a href=\"https://github.com/mathbunnyru\">@mathbunnyru</a></strong></li>\n<li><a href=\"https://github.com/jupyter/docker-stacks/issues/2206\">(#2206)</a>: <em>Test server listening on IPv4/IPv6</em> by <strong><a href=\"https://github.com/manics\">@manics</a></strong> merged by <strong><a href=\"https://github.com/manics\">@manics</a></strong></li>\n<li><a href=\"https://github.com/jupyter/docker-stacks/issues/2225\">(#2225)</a>: <em>mkdir parents in update_wiki.py</em> by <strong><a href=\"https://github.com/fbnrst\">@fbnrst</a></strong> merged by <strong><a href=\"https://github.com/mathbunnyru\">@mathbunnyru</a></strong></li>\n<li><a href=\"https://github.com/jupyter/docker-stacks/issues/2226\">(#2226)</a>: <em>Properly generate wiki home page in forks</em> by <strong><a href=\"https://github.com/mathbunnyru\">@mathbunnyru</a></strong> merged by <strong><a href=\"https://github.com/mathbunnyru\">@mathbunnyru</a></strong></li>\n<li><a href=\"https://github.com/jupyter/docker-stacks/issues/2227\">(#2227)</a>: <em>Add timeouts to all GitHub jobs</em> by <strong><a href=\"https://github.com/mathbunnyru\">@mathbunnyru</a></strong> merged by <strong><a href=\"https://github.com/mathbunnyru\">@mathbunnyru</a></strong></li>\n<li><a href=\"https://github.com/jupyter/docker-stacks/issues/2228\">(#2228)</a>: <em>Better tagging directory structure</em> by <strong><a href=\"https://github.com/mathbunnyru\">@mathbunnyru</a></strong> merged by <strong><a href=\"https://github.com/mathbunnyru\">@mathbunnyru</a></strong></li>\n<li><a href=\"https://github.com/jupyter/docker-stacks/issues/2230\">(#2230)</a>: <em>Unify common arguments in tagging/apps</em> by <strong><a href=\"https://github.com/mathbunnyru\">@mathbunnyru</a></strong> merged by <strong><a href=\"https://github.com/mathbunnyru\">@mathbunnyru</a></strong></li>\n<li><a href=\"https://github.com/jupyter/docker-stacks/issues/2231\">(#2231)</a>: <em>Better tests directory structure</em> by <strong><a href=\"https://github.com/mathbunnyru\">@mathbunnyru</a></strong> merged by <strong><a href=\"https://github.com/mathbunnyru\">@mathbunnyru</a></strong></li>\n<li><a href=\"https://github.com/jupyter/docker-stacks/issues/2232\">(#2232)</a>: <em>Add missing dependencies to x86_64-images-tag-push job</em> by <strong><a href=\"https://github.com/mathbunnyru\">@mathbunnyru</a></strong> merged by <strong><a href=\"https://github.com/mathbunnyru\">@mathbunnyru</a></strong></li>\n<li><a href=\"https://github.com/jupyter/docker-stacks/issues/2233\">(#2233)</a>: <em>Fail if test dir doesn't exist</em> by <strong><a href=\"https://github.com/mathbunnyru\">@mathbunnyru</a></strong> merged by <strong><a href=\"https://github.com/mathbunnyru\">@mathbunnyru</a></strong></li>\n<li><a href=\"https://github.com/jupyter/docker-stacks/issues/2234\">(#2234)</a>: <em>Add tagging config to pass params easier</em> by <strong><a href=\"https://github.com/mathbunnyru\">@mathbunnyru</a></strong> merged by <strong><a href=\"https://github.com/mathbunnyru\">@mathbunnyru</a></strong></li>\n<li><a href=\"https://github.com/jupyter/docker-stacks/issues/2235\">(#2235)</a>: <em>Clarify container.remove() behaviour</em> by <strong><a href=\"https://github.com/mathbunnyru\">@mathbunnyru</a></strong> merged by <strong><a href=\"https://github.com/mathbunnyru\">@mathbunnyru</a></strong></li>\n<li><a href=\"https://github.com/jupyter/docker-stacks/issues/2237\">(#2237)</a>: <em>Remove explicit utf-8 from decode() as it's default</em> by <strong><a href=\"https://github.com/mathbunnyru\">@mathbunnyru</a></strong> merged by <strong><a href=\"https://github.com/mathbunnyru\">@mathbunnyru</a></strong></li>\n<li><a href=\"https://github.com/jupyter/docker-stacks/issues/2238\">(#2238)</a>: <em>[FAST_BUILD] Add MarkdownPiece class to make manifest pieces better structured</em> by <strong><a href=\"https://github.com/mathbunnyru\">@mathbunnyru</a></strong> merged by <strong><a href=\"https://github.com/mathbunnyru\">@mathbunnyru</a></strong></li>\n<li><a href=\"https://github.com/jupyter/docker-stacks/issues/2239\">(#2239)</a>: <em>[FAST_BUILD] Refactor tagging: create functions, better logs and names, textwrap.d…</em> by <strong><a href=\"https://github.com/mathbunnyru\">@mathbunnyru</a></strong> merged by <strong><a href=\"https://github.com/mathbunnyru\">@mathbunnyru</a></strong></li>\n<li><a href=\"https://github.com/jupyter/docker-stacks/issues/2240\">(#2240)</a>: <em>[FAST_BUILD] Use default permissions for GitHub workflows</em> by <strong><a href=\"https://github.com/mathbunnyru\">@mathbunnyru</a></strong> merged by <strong><a href=\"https://github.com/mathbunnyru\">@mathbunnyru</a></strong></li>\n<li><a href=\"https://github.com/jupyter/docker-stacks/issues/2241\">(#2241)</a>: <em>Use tabulate in wiki to create better tables</em> by <strong><a href=\"https://github.com/mathbunnyru\">@mathbunnyru</a></strong> merged by <strong><a href=\"https://github.com/mathbunnyru\">@mathbunnyru</a></strong></li>\n<li><a href=\"https://github.com/jupyter/docker-stacks/issues/2242\">(#2242)</a>: <em>[FAST_BUILD] Refactor wiki: create functions, better logs and names</em> by <strong><a href=\"https://github.com/mathbunnyru\">@mathbunnyru</a></strong> merged by <strong><a href=\"https://github.com/mathbunnyru\">@mathbunnyru</a></strong></li>\n<li><a href=\"https://github.com/jupyter/docker-stacks/issues/2243\">(#2243)</a>: <em>test: mamba and micromamba release candidates</em> by <strong><a href=\"https://github.com/jjerphan\">@jjerphan</a></strong> merged by <strong><a href=\"https://github.com/jjerphan\">@jjerphan</a></strong></li>\n<li><a href=\"https://github.com/jupyter/docker-stacks/issues/2244\">(#2244)</a>: <em>docs: Add badge for supported Python versions in <code>README.md</code></em> by <strong><a href=\"https://github.com/jjerphan\">@jjerphan</a></strong> merged by <strong><a href=\"https://github.com/mathbunnyru\">@mathbunnyru</a></strong></li>\n<li><a href=\"https://github.com/jupyter/docker-stacks/issues/2247\">(#2247)</a>: <em>Add pre-commit hooks to check shebangs</em> by <strong><a href=\"https://github.com/mathbunnyru\">@mathbunnyru</a></strong> merged by <strong><a href=\"https://github.com/mathbunnyru\">@mathbunnyru</a></strong></li>\n<li><a href=\"https://github.com/jupyter/docker-stacks/issues/2248\">(#2248)</a>: <em>[pre-commit.ci] pre-commit autoupdate</em> by <strong><a href=\"https://github.com/pre-commit-ci[bot]\">@pre-commit-ci[bot]</a></strong> merged by <strong><a href=\"https://github.com/mathbunnyru\">@mathbunnyru</a></strong></li>\n<li><a href=\"https://github.com/jupyter/docker-stacks/issues/2249\">(#2249)</a>: <em>Do not compress images in <code>actions/upload-artifact</code></em> by <strong><a href=\"https://github.com/mathbunnyru\">@mathbunnyru</a></strong> merged by <strong><a href=\"https://github.com/mathbunnyru\">@mathbunnyru</a></strong></li>\n<li><a href=\"https://github.com/jupyter/docker-stacks/issues/2251\">(#2251)</a>: <em>Add tags for mamba and conda versions</em> by <strong><a href=\"https://github.com/mathbunnyru\">@mathbunnyru</a></strong> merged by <strong><a href=\"https://github.com/mathbunnyru\">@mathbunnyru</a></strong></li>\n<li><a href=\"https://github.com/jupyter/docker-stacks/issues/2252\">(#2252)</a>: <em>Make taggers manifest functions</em> by <strong><a href=\"https://github.com/mathbunnyru\">@mathbunnyru</a></strong> merged by <strong><a href=\"https://github.com/mathbunnyru\">@mathbunnyru</a></strong></li>\n<li><a href=\"https://github.com/jupyter/docker-stacks/issues/2253\">(#2253)</a>: <em>Allow mamba ssl ca store to be set</em> by <strong><a href=\"https://github.com/jabbera\">@jabbera</a></strong> merged by <strong><a href=\"https://github.com/mathbunnyru\">@mathbunnyru</a></strong></li>\n<li><a href=\"https://github.com/jupyter/docker-stacks/issues/2254\">(#2254)</a>: <em>Refactor healthcheck tests to use one function</em> by <strong><a href=\"https://github.com/mathbunnyru\">@mathbunnyru</a></strong> merged by <strong><a href=\"https://github.com/mathbunnyru\">@mathbunnyru</a></strong></li>\n<li><a href=\"https://github.com/jupyter/docker-stacks/issues/2255\">(#2255)</a>: <em>Test server listening on IPv4/IPv6</em> by <strong><a href=\"https://github.com/mathbunnyru\">@mathbunnyru</a></strong> merged by <strong><a href=\"https://github.com/mathbunnyru\">@mathbunnyru</a></strong></li>\n<li><a href=\"https://github.com/jupyter/docker-stacks/issues/2256\">(#2256)</a>: <em>Refactor TrackedContainer run_detached/exec_cmd functions</em> by <strong><a href=\"https://github.com/mathbunnyru\">@mathbunnyru</a></strong> merged by <strong><a href=\"https://github.com/mathbunnyru\">@mathbunnyru</a></strong></li>\n<li><a href=\"https://github.com/jupyter/docker-stacks/issues/2257\">(#2257)</a>: <em>Do not allocate TTY in tests if not needed</em> by <strong><a href=\"https://github.com/mathbunnyru\">@mathbunnyru</a></strong> merged by <strong><a href=\"https://github.com/mathbunnyru\">@mathbunnyru</a></strong></li>\n<li><a href=\"https://github.com/jupyter/docker-stacks/issues/2258\">(#2258)</a>: <em>Flush output in Python before running execvp</em> by <strong><a href=\"https://github.com/mathbunnyru\">@mathbunnyru</a></strong> merged by <strong><a href=\"https://github.com/mathbunnyru\">@mathbunnyru</a></strong></li>\n<li><a href=\"https://github.com/jupyter/docker-stacks/issues/2259\">(#2259)</a>: <em>Create docker-publish.yml</em> by <strong><a href=\"https://github.com/BoomchainLabs\">@BoomchainLabs</a></strong> merged by <strong><a href=\"https://github.com/mathbunnyru\">@mathbunnyru</a></strong></li>\n<li><a href=\"https://github.com/jupyter/docker-stacks/issues/2260\">(#2260)</a>: <em>Use tty for running docker commands by default</em> by <strong><a href=\"https://github.com/mathbunnyru\">@mathbunnyru</a></strong> merged by <strong><a href=\"https://github.com/mathbunnyru\">@mathbunnyru</a></strong></li>\n<li><a href=\"https://github.com/jupyter/docker-stacks/issues/2261\">(#2261)</a>: <em>Improve logs around running docker</em> by <strong><a href=\"https://github.com/mathbunnyru\">@mathbunnyru</a></strong> merged by <strong><a href=\"https://github.com/mathbunnyru\">@mathbunnyru</a></strong></li>\n<li><a href=\"https://github.com/jupyter/docker-stacks/issues/2262\">(#2262)</a>: <em>Use mamba to install jupyter-server-proxy</em> by <strong><a href=\"https://github.com/mathbunnyru\">@mathbunnyru</a></strong> merged by <strong><a href=\"https://github.com/mathbunnyru\">@mathbunnyru</a></strong></li>\n<li><a href=\"https://github.com/jupyter/docker-stacks/issues/2263\">(#2263)</a>: <em>Install latest tensorflow using pip</em> by <strong><a href=\"https://github.com/mathbunnyru\">@mathbunnyru</a></strong> merged by <strong><a href=\"https://github.com/mathbunnyru\">@mathbunnyru</a></strong></li>\n<li><a href=\"https://github.com/jupyter/docker-stacks/issues/2264\">(#2264)</a>: <em>Bump docker/login-action from 3.3.0 to 3.4.0</em> by <strong><a href=\"https://github.com/dependabot[bot]\">@dependabot[bot]</a></strong> merged by <strong><a href=\"https://github.com/mathbunnyru\">@mathbunnyru</a></strong></li>\n<li><a href=\"https://github.com/jupyter/docker-stacks/issues/2265\">(#2265)</a>: <em>Reduce indirection when running docker commands</em> by <strong><a href=\"https://github.com/mathbunnyru\">@mathbunnyru</a></strong> merged by <strong><a href=\"https://github.com/mathbunnyru\">@mathbunnyru</a></strong></li>\n<li><a href=\"https://github.com/jupyter/docker-stacks/issues/2266\">(#2266)</a>: <em>Add check_nbconvert function and run tests for appropriate images</em> by <strong><a href=\"https://github.com/mathbunnyru\">@mathbunnyru</a></strong> merged by <strong><a href=\"https://github.com/mathbunnyru\">@mathbunnyru</a></strong></li>\n<li><a href=\"https://github.com/jupyter/docker-stacks/issues/2267\">(#2267)</a>: <em>Make free_host_port a fixture</em> by <strong><a href=\"https://github.com/mathbunnyru\">@mathbunnyru</a></strong> merged by <strong><a href=\"https://github.com/mathbunnyru\">@mathbunnyru</a></strong></li>\n<li><a href=\"https://github.com/jupyter/docker-stacks/issues/2268\">(#2268)</a>: <em>Try to unmark tests as flaky</em> by <strong><a href=\"https://github.com/mathbunnyru\">@mathbunnyru</a></strong> merged by <strong><a href=\"https://github.com/mathbunnyru\">@mathbunnyru</a></strong></li>\n<li><a href=\"https://github.com/jupyter/docker-stacks/issues/2269\">(#2269)</a>: <em>Cleanup EXCLUDED_PACKAGES list</em> by <strong><a href=\"https://github.com/mathbunnyru\">@mathbunnyru</a></strong> merged by <strong><a href=\"https://github.com/mathbunnyru\">@mathbunnyru</a></strong></li>\n<li><a href=\"https://github.com/jupyter/docker-stacks/issues/2270\">(#2270)</a>: <em>Robust registry operations: adjust timelimit and use retries</em> by <strong><a href=\"https://github.com/mathbunnyru\">@mathbunnyru</a></strong> merged by <strong><a href=\"https://github.com/mathbunnyru\">@mathbunnyru</a></strong></li>\n<li><a href=\"https://github.com/jupyter/docker-stacks/issues/2271\">(#2271)</a>: <em>Do not reset docker state</em> by <strong><a href=\"https://github.com/mathbunnyru\">@mathbunnyru</a></strong> merged by <strong><a href=\"https://github.com/mathbunnyru\">@mathbunnyru</a></strong></li>\n<li><a href=\"https://github.com/jupyter/docker-stacks/issues/2272\">(#2272)</a>: <em>Unify multiline run statements in GitHub Actions steps</em> by <strong><a href=\"https://github.com/mathbunnyru\">@mathbunnyru</a></strong> merged by <strong><a href=\"https://github.com/mathbunnyru\">@mathbunnyru</a></strong></li>\n<li><a href=\"https://github.com/jupyter/docker-stacks/issues/2273\">(#2273)</a>: <em>Only create manifests when images are pushed to registry</em> by <strong><a href=\"https://github.com/mathbunnyru\">@mathbunnyru</a></strong> merged by <strong><a href=\"https://github.com/mathbunnyru\">@mathbunnyru</a></strong></li>\n<li><a href=\"https://github.com/jupyter/docker-stacks/issues/2274\">(#2274)</a>: <em>[FAST_BUILD] Apply and merge tags in the same place</em> by <strong><a href=\"https://github.com/mathbunnyru\">@mathbunnyru</a></strong> merged by <strong><a href=\"https://github.com/mathbunnyru\">@mathbunnyru</a></strong></li>\n<li><a href=\"https://github.com/jupyter/docker-stacks/issues/2276\">(#2276)</a>: <em>Update custom recipes versions</em> by <strong><a href=\"https://github.com/mathbunnyru\">@mathbunnyru</a></strong> merged by <strong><a href=\"https://github.com/mathbunnyru\">@mathbunnyru</a></strong></li>\n<li><a href=\"https://github.com/jupyter/docker-stacks/issues/2277\">(#2277)</a>: <em>Force using keyword-only arguments where types are the same</em> by <strong><a href=\"https://github.com/mathbunnyru\">@mathbunnyru</a></strong> merged by <strong><a href=\"https://github.com/mathbunnyru\">@mathbunnyru</a></strong></li>\n<li><a href=\"https://github.com/jupyter/docker-stacks/issues/2278\">(#2278)</a>: <em>Improve some tests</em> by <strong><a href=\"https://github.com/mathbunnyru\">@mathbunnyru</a></strong> merged by <strong><a href=\"https://github.com/mathbunnyru\">@mathbunnyru</a></strong></li>\n<li><a href=\"https://github.com/jupyter/docker-stacks/issues/2279\">(#2279)</a>: <em>Use pytest-rerunfailures for flaky tests</em> by <strong><a href=\"https://github.com/mathbunnyru\">@mathbunnyru</a></strong> merged by <strong><a href=\"https://github.com/mathbunnyru\">@mathbunnyru</a></strong></li>\n<li><a href=\"https://github.com/jupyter/docker-stacks/issues/2280\">(#2280)</a>: <em>[pre-commit.ci] pre-commit autoupdate</em> by <strong><a href=\"https://github.com/pre-commit-ci[bot]\">@pre-commit-ci[bot]</a></strong> merged by <strong><a href=\"https://github.com/mathbunnyru\">@mathbunnyru</a></strong></li>\n<li><a href=\"https://github.com/jupyter/docker-stacks/issues/2282\">(#2282)</a>: <em>Make docker tag-push depend on contributed recipes in CI</em> by <strong><a href=\"https://github.com/mathbunnyru\">@mathbunnyru</a></strong> merged by <strong><a href=\"https://github.com/mathbunnyru\">@mathbunnyru</a></strong></li>\n<li><a href=\"https://github.com/jupyter/docker-stacks/issues/2283\">(#2283)</a>: <em>Pin libxml2 to avoid ABI breakage</em> by <strong><a href=\"https://github.com/mathbunnyru\">@mathbunnyru</a></strong> merged by <strong><a href=\"https://github.com/mathbunnyru\">@mathbunnyru</a></strong></li>\n<li><a href=\"https://github.com/jupyter/docker-stacks/issues/2284\">(#2284)</a>: <em>Use proper BASE_IMAGE in contributed recipes for forks</em> by <strong><a href=\"https://github.com/mathbunnyru\">@mathbunnyru</a></strong> merged by <strong><a href=\"https://github.com/mathbunnyru\">@mathbunnyru</a></strong></li>\n<li><a href=\"https://github.com/jupyter/docker-stacks/issues/2285\">(#2285)</a>: <em>Use tenacity.retry for merge_tags</em> by <strong><a href=\"https://github.com/mathbunnyru\">@mathbunnyru</a></strong> merged by <strong><a href=\"https://github.com/mathbunnyru\">@mathbunnyru</a></strong></li>\n<li><a href=\"https://github.com/jupyter/docker-stacks/issues/2286\">(#2286)</a>: <em>Retry login operation in docker-tag-push.yml</em> by <strong><a href=\"https://github.com/mathbunnyru\">@mathbunnyru</a></strong> merged by <strong><a href=\"https://github.com/mathbunnyru\">@mathbunnyru</a></strong></li>\n<li><a href=\"https://github.com/jupyter/docker-stacks/issues/2287\">(#2287)</a>: <em>Bump stefanzweifel/git-auto-commit-action from 5.1.0 to 5.2.0</em> by <strong><a href=\"https://github.com/dependabot[bot]\">@dependabot[bot]</a></strong> merged by <strong><a href=\"https://github.com/mathbunnyru\">@mathbunnyru</a></strong></li>\n<li><a href=\"https://github.com/jupyter/docker-stacks/issues/2288\">(#2288)</a>: <em>Upgrade CUDA version used in PyTorch cuda12-variant to 12.8</em> by <strong><a href=\"https://github.com/twalcari\">@twalcari</a></strong> merged by <strong><a href=\"https://github.com/mathbunnyru\">@mathbunnyru</a></strong></li>\n<li><a href=\"https://github.com/jupyter/docker-stacks/issues/2289\">(#2289)</a>: <em>Freeze pre-commit hooks</em> by <strong><a href=\"https://github.com/mathbunnyru\">@mathbunnyru</a></strong> merged by <strong><a href=\"https://github.com/mathbunnyru\">@mathbunnyru</a></strong></li>\n<li><a href=\"https://github.com/jupyter/docker-stacks/issues/2290\">(#2290)</a>: <em>Improve pytorch unit test</em> by <strong><a href=\"https://github.com/mathbunnyru\">@mathbunnyru</a></strong> merged by <strong><a href=\"https://github.com/mathbunnyru\">@mathbunnyru</a></strong></li>\n<li><a href=\"https://github.com/jupyter/docker-stacks/issues/2291\">(#2291)</a>: <em>Upgrade CUDA version used in PyTorch cuda12-variant to 12.6</em> by <strong><a href=\"https://github.com/mathbunnyru\">@mathbunnyru</a></strong> merged by <strong><a href=\"https://github.com/mathbunnyru\">@mathbunnyru</a></strong></li>\n<li><a href=\"https://github.com/jupyter/docker-stacks/issues/2293\">(#2293)</a>: <em>log hook messages to stderr</em> by <strong><a href=\"https://github.com/minrk\">@minrk</a></strong> merged by <strong><a href=\"https://github.com/mathbunnyru\">@mathbunnyru</a></strong></li>\n<li><a href=\"https://github.com/jupyter/docker-stacks/issues/2294\">(#2294)</a>: <em>[pre-commit.ci] pre-commit autoupdate</em> by <strong><a href=\"https://github.com/pre-commit-ci[bot]\">@pre-commit-ci[bot]</a></strong> merged by <strong><a href=\"https://github.com/mathbunnyru\">@mathbunnyru</a></strong></li>\n</ul>"
      }
     },
     "8932a7dbb5e8424f970e092752f2638c": {
      "model_module": "@jupyter-widgets/base",
      "model_module_version": "2.0.0",
      "model_name": "LayoutModel",
      "state": {
       "_model_module": "@jupyter-widgets/base",
       "_model_module_version": "2.0.0",
       "_model_name": "LayoutModel",
       "_view_count": null,
       "_view_module": "@jupyter-widgets/base",
       "_view_module_version": "2.0.0",
       "_view_name": "LayoutView",
       "align_content": null,
       "align_items": null,
       "align_self": null,
       "border_bottom": null,
       "border_left": null,
       "border_right": null,
       "border_top": null,
       "bottom": null,
       "display": null,
       "flex": null,
       "flex_flow": null,
       "grid_area": null,
       "grid_auto_columns": null,
       "grid_auto_flow": null,
       "grid_auto_rows": null,
       "grid_column": null,
       "grid_gap": null,
       "grid_row": null,
       "grid_template_areas": null,
       "grid_template_columns": null,
       "grid_template_rows": null,
       "height": null,
       "justify_content": null,
       "justify_items": null,
       "left": null,
       "margin": null,
       "max_height": null,
       "max_width": null,
       "min_height": null,
       "min_width": null,
       "object_fit": null,
       "object_position": null,
       "order": null,
       "overflow": null,
       "padding": null,
       "right": null,
       "top": null,
       "visibility": null,
       "width": null
      }
     },
     "8a3b81383ce84275b4ca7afbca1b6432": {
      "model_module": "@jupyter-widgets/controls",
      "model_module_version": "2.0.0",
      "model_name": "HTMLStyleModel",
      "state": {
       "_model_module": "@jupyter-widgets/controls",
       "_model_module_version": "2.0.0",
       "_model_name": "HTMLStyleModel",
       "_view_count": null,
       "_view_module": "@jupyter-widgets/base",
       "_view_module_version": "2.0.0",
       "_view_name": "StyleView",
       "background": null,
       "description_width": "",
       "font_size": null,
       "text_color": null
      }
     },
     "8f1bab5ca07c417cb7f53469a42e1ffc": {
      "model_module": "@jupyter-widgets/base",
      "model_module_version": "2.0.0",
      "model_name": "LayoutModel",
      "state": {
       "_model_module": "@jupyter-widgets/base",
       "_model_module_version": "2.0.0",
       "_model_name": "LayoutModel",
       "_view_count": null,
       "_view_module": "@jupyter-widgets/base",
       "_view_module_version": "2.0.0",
       "_view_name": "LayoutView",
       "align_content": null,
       "align_items": null,
       "align_self": null,
       "border_bottom": null,
       "border_left": null,
       "border_right": null,
       "border_top": null,
       "bottom": null,
       "display": null,
       "flex": null,
       "flex_flow": null,
       "grid_area": null,
       "grid_auto_columns": null,
       "grid_auto_flow": null,
       "grid_auto_rows": null,
       "grid_column": null,
       "grid_gap": null,
       "grid_row": null,
       "grid_template_areas": null,
       "grid_template_columns": null,
       "grid_template_rows": null,
       "height": null,
       "justify_content": null,
       "justify_items": null,
       "left": null,
       "margin": null,
       "max_height": null,
       "max_width": null,
       "min_height": null,
       "min_width": null,
       "object_fit": null,
       "object_position": null,
       "order": null,
       "overflow": null,
       "padding": null,
       "right": null,
       "top": null,
       "visibility": null,
       "width": null
      }
     },
     "8faacc1f191745f6a599a37b5585d1e9": {
      "model_module": "@jupyter-widgets/controls",
      "model_module_version": "2.0.0",
      "model_name": "HTMLModel",
      "state": {
       "_dom_classes": [],
       "_model_module": "@jupyter-widgets/controls",
       "_model_module_version": "2.0.0",
       "_model_name": "HTMLModel",
       "_view_count": null,
       "_view_module": "@jupyter-widgets/controls",
       "_view_module_version": "2.0.0",
       "_view_name": "HTMLView",
       "description": "",
       "description_allow_html": false,
       "layout": "IPY_MODEL_8f1bab5ca07c417cb7f53469a42e1ffc",
       "placeholder": "​",
       "style": "IPY_MODEL_fc42b91aac3b4e4b9c63e1ca392eba3e",
       "tabbable": null,
       "tooltip": null,
       "value": "<h4>Closed PRs for repo: <a href=\"https://github.com/jupyter/nbgrader\">jupyter/nbgrader</a></h4>\n<h5></h5>\n<ul>\n<li><a href=\"https://github.com/jupyter/nbgrader/issues/1959\">(#1959)</a>: <em>Bump vega from 5.30.0 to 5.33.0</em> by <strong><a href=\"https://github.com/dependabot[bot]\">@dependabot[bot]</a></strong> merged by <strong><a href=\"https://github.com/brichet\">@brichet</a></strong></li>\n<li><a href=\"https://github.com/jupyter/nbgrader/issues/1962\">(#1962)</a>: <em>fix: Allow null kernelspec in OverwriteKernelspec</em> by <strong><a href=\"https://github.com/shreve\">@shreve</a></strong> merged by <strong><a href=\"https://github.com/brichet\">@brichet</a></strong></li>\n<li><a href=\"https://github.com/jupyter/nbgrader/issues/1963\">(#1963)</a>: <em>Resolve warnings in SQLAlchemy field defs</em> by <strong><a href=\"https://github.com/shreve\">@shreve</a></strong> merged by <strong><a href=\"https://github.com/brichet\">@brichet</a></strong></li>\n<li><a href=\"https://github.com/jupyter/nbgrader/issues/1964\">(#1964)</a>: <em>fix: Use cross-platform shortcuts in ui-tests</em> by <strong><a href=\"https://github.com/shreve\">@shreve</a></strong> merged by <strong><a href=\"https://github.com/brichet\">@brichet</a></strong></li>\n</ul>"
      }
     },
     "95358ef41cbd4e0a94b08d721e9e8112": {
      "model_module": "@jupyter-widgets/controls",
      "model_module_version": "2.0.0",
      "model_name": "HTMLStyleModel",
      "state": {
       "_model_module": "@jupyter-widgets/controls",
       "_model_module_version": "2.0.0",
       "_model_name": "HTMLStyleModel",
       "_view_count": null,
       "_view_module": "@jupyter-widgets/base",
       "_view_module_version": "2.0.0",
       "_view_name": "StyleView",
       "background": null,
       "description_width": "",
       "font_size": null,
       "text_color": null
      }
     },
     "96f600399f3749578e5b91b208e47b9a": {
      "model_module": "@jupyter-widgets/base",
      "model_module_version": "2.0.0",
      "model_name": "LayoutModel",
      "state": {
       "_model_module": "@jupyter-widgets/base",
       "_model_module_version": "2.0.0",
       "_model_name": "LayoutModel",
       "_view_count": null,
       "_view_module": "@jupyter-widgets/base",
       "_view_module_version": "2.0.0",
       "_view_name": "LayoutView",
       "align_content": null,
       "align_items": null,
       "align_self": null,
       "border_bottom": null,
       "border_left": null,
       "border_right": null,
       "border_top": null,
       "bottom": null,
       "display": null,
       "flex": null,
       "flex_flow": null,
       "grid_area": null,
       "grid_auto_columns": null,
       "grid_auto_flow": null,
       "grid_auto_rows": null,
       "grid_column": null,
       "grid_gap": null,
       "grid_row": null,
       "grid_template_areas": null,
       "grid_template_columns": null,
       "grid_template_rows": null,
       "height": null,
       "justify_content": null,
       "justify_items": null,
       "left": null,
       "margin": null,
       "max_height": null,
       "max_width": null,
       "min_height": null,
       "min_width": null,
       "object_fit": null,
       "object_position": null,
       "order": null,
       "overflow": null,
       "padding": null,
       "right": null,
       "top": null,
       "visibility": null,
       "width": null
      }
     },
     "99d85567cc154c02b8e104176e00642c": {
      "model_module": "@jupyter-widgets/controls",
      "model_module_version": "2.0.0",
      "model_name": "HTMLStyleModel",
      "state": {
       "_model_module": "@jupyter-widgets/controls",
       "_model_module_version": "2.0.0",
       "_model_name": "HTMLStyleModel",
       "_view_count": null,
       "_view_module": "@jupyter-widgets/base",
       "_view_module_version": "2.0.0",
       "_view_name": "StyleView",
       "background": null,
       "description_width": "",
       "font_size": null,
       "text_color": null
      }
     },
     "9ec391c29bc44a23b75a6a1f18524304": {
      "model_module": "@jupyter-widgets/controls",
      "model_module_version": "2.0.0",
      "model_name": "HTMLModel",
      "state": {
       "_dom_classes": [],
       "_model_module": "@jupyter-widgets/controls",
       "_model_module_version": "2.0.0",
       "_model_name": "HTMLModel",
       "_view_count": null,
       "_view_module": "@jupyter-widgets/controls",
       "_view_module_version": "2.0.0",
       "_view_name": "HTMLView",
       "description": "",
       "description_allow_html": false,
       "layout": "IPY_MODEL_002da0a0492848d5b797521ae73cea02",
       "placeholder": "​",
       "style": "IPY_MODEL_208d35b9c5694ba8a8542a00ef9a7358",
       "tabbable": null,
       "tooltip": null,
       "value": "<h5><a href=\"https://github.com/jupyter/jupyter_console\">jupyter/jupyter_console</a></h5>\n<ul>\n<li><a href=\"https://github.com/jupyter/jupyter_console/issues/302\">(#302)</a>: <em>SIGTERM leaves kernel-{PID}.json connection file around</em> by <strong><a href=\"https://github.com/cben\">@cben</a></strong></li>\n</ul>"
      }
     },
     "a85c9d7711b9449a9dba6c2e4c9dbe5e": {
      "model_module": "@jupyter-widgets/controls",
      "model_module_version": "2.0.0",
      "model_name": "HTMLStyleModel",
      "state": {
       "_model_module": "@jupyter-widgets/controls",
       "_model_module_version": "2.0.0",
       "_model_name": "HTMLStyleModel",
       "_view_count": null,
       "_view_module": "@jupyter-widgets/base",
       "_view_module_version": "2.0.0",
       "_view_name": "StyleView",
       "background": null,
       "description_width": "",
       "font_size": null,
       "text_color": null
      }
     },
     "a9dbfebd140b427f8c082a0fdcf6ac90": {
      "model_module": "@jupyter-widgets/controls",
      "model_module_version": "2.0.0",
      "model_name": "HTMLStyleModel",
      "state": {
       "_model_module": "@jupyter-widgets/controls",
       "_model_module_version": "2.0.0",
       "_model_name": "HTMLStyleModel",
       "_view_count": null,
       "_view_module": "@jupyter-widgets/base",
       "_view_module_version": "2.0.0",
       "_view_name": "StyleView",
       "background": null,
       "description_width": "",
       "font_size": null,
       "text_color": null
      }
     },
     "ab4459bd06424b7c85c351c437ca1354": {
      "model_module": "@jupyter-widgets/controls",
      "model_module_version": "2.0.0",
      "model_name": "HTMLStyleModel",
      "state": {
       "_model_module": "@jupyter-widgets/controls",
       "_model_module_version": "2.0.0",
       "_model_name": "HTMLStyleModel",
       "_view_count": null,
       "_view_module": "@jupyter-widgets/base",
       "_view_module_version": "2.0.0",
       "_view_name": "StyleView",
       "background": null,
       "description_width": "",
       "font_size": null,
       "text_color": null
      }
     },
     "ab79bcd37dfa41c39d2f4b8048ab1ce8": {
      "model_module": "@jupyter-widgets/controls",
      "model_module_version": "2.0.0",
      "model_name": "HTMLStyleModel",
      "state": {
       "_model_module": "@jupyter-widgets/controls",
       "_model_module_version": "2.0.0",
       "_model_name": "HTMLStyleModel",
       "_view_count": null,
       "_view_module": "@jupyter-widgets/base",
       "_view_module_version": "2.0.0",
       "_view_name": "StyleView",
       "background": null,
       "description_width": "",
       "font_size": null,
       "text_color": null
      }
     },
     "b7a318fa4a0d45b6af442c84a96bcdec": {
      "model_module": "@jupyter-widgets/controls",
      "model_module_version": "2.0.0",
      "model_name": "HTMLStyleModel",
      "state": {
       "_model_module": "@jupyter-widgets/controls",
       "_model_module_version": "2.0.0",
       "_model_name": "HTMLStyleModel",
       "_view_count": null,
       "_view_module": "@jupyter-widgets/base",
       "_view_module_version": "2.0.0",
       "_view_name": "StyleView",
       "background": null,
       "description_width": "",
       "font_size": null,
       "text_color": null
      }
     },
     "ba5a038828c44e4c8a84c2ea29611b15": {
      "model_module": "@jupyter-widgets/controls",
      "model_module_version": "2.0.0",
      "model_name": "HTMLModel",
      "state": {
       "_dom_classes": [],
       "_model_module": "@jupyter-widgets/controls",
       "_model_module_version": "2.0.0",
       "_model_name": "HTMLModel",
       "_view_count": null,
       "_view_module": "@jupyter-widgets/controls",
       "_view_module_version": "2.0.0",
       "_view_name": "HTMLView",
       "description": "",
       "description_allow_html": false,
       "layout": "IPY_MODEL_4f2db9be8e6e4c94bbfbade850a5f884",
       "placeholder": "​",
       "style": "IPY_MODEL_8a3b81383ce84275b4ca7afbca1b6432",
       "tabbable": null,
       "tooltip": null,
       "value": "<h5><a href=\"https://github.com/jupyter/jupyter\">jupyter/jupyter</a></h5>\n<ul>\n<li><a href=\"https://github.com/jupyter/jupyter/issues/490\">(#490)</a>: <em>Programmatically detect whether the inline backend is available</em> by <strong><a href=\"https://github.com/lukelbd\">@lukelbd</a></strong></li>\n<li><a href=\"https://github.com/jupyter/jupyter/issues/505\">(#505)</a>: <em>Fix \"-m jupyter [console|notebook|...]\" so that it works on Windows</em> by <strong><a href=\"https://github.com/ksamuel\">@ksamuel</a></strong></li>\n<li><a href=\"https://github.com/jupyter/jupyter/issues/715\">(#715)</a>: <em>Broken Urls For Server API Schema</em> by <strong><a href=\"https://github.com/guomanmin\">@guomanmin</a></strong></li>\n<li><a href=\"https://github.com/jupyter/jupyter/issues/761\">(#761)</a>: <em>Let's discuss recent force-pushes</em> by <strong><a href=\"https://github.com/ivanov\">@ivanov</a></strong></li>\n</ul>"
      }
     },
     "bbf6a26f301646c1b6c9cae5383d85f4": {
      "model_module": "@jupyter-widgets/base",
      "model_module_version": "2.0.0",
      "model_name": "LayoutModel",
      "state": {
       "_model_module": "@jupyter-widgets/base",
       "_model_module_version": "2.0.0",
       "_model_name": "LayoutModel",
       "_view_count": null,
       "_view_module": "@jupyter-widgets/base",
       "_view_module_version": "2.0.0",
       "_view_name": "LayoutView",
       "align_content": null,
       "align_items": null,
       "align_self": null,
       "border_bottom": null,
       "border_left": null,
       "border_right": null,
       "border_top": null,
       "bottom": null,
       "display": null,
       "flex": null,
       "flex_flow": null,
       "grid_area": null,
       "grid_auto_columns": null,
       "grid_auto_flow": null,
       "grid_auto_rows": null,
       "grid_column": null,
       "grid_gap": null,
       "grid_row": null,
       "grid_template_areas": null,
       "grid_template_columns": null,
       "grid_template_rows": null,
       "height": null,
       "justify_content": null,
       "justify_items": null,
       "left": null,
       "margin": null,
       "max_height": null,
       "max_width": null,
       "min_height": null,
       "min_width": null,
       "object_fit": null,
       "object_position": null,
       "order": null,
       "overflow": null,
       "padding": null,
       "right": null,
       "top": null,
       "visibility": null,
       "width": null
      }
     },
     "bd1a62dfa6864b2586a5f27a715b624d": {
      "model_module": "@jupyter-widgets/controls",
      "model_module_version": "2.0.0",
      "model_name": "HTMLStyleModel",
      "state": {
       "_model_module": "@jupyter-widgets/controls",
       "_model_module_version": "2.0.0",
       "_model_name": "HTMLStyleModel",
       "_view_count": null,
       "_view_module": "@jupyter-widgets/base",
       "_view_module_version": "2.0.0",
       "_view_name": "StyleView",
       "background": null,
       "description_width": "",
       "font_size": null,
       "text_color": null
      }
     },
     "bf8f70615b424fc09aceb26131492412": {
      "model_module": "@jupyter-widgets/controls",
      "model_module_version": "2.0.0",
      "model_name": "TabModel",
      "state": {
       "_dom_classes": [],
       "_model_module": "@jupyter-widgets/controls",
       "_model_module_version": "2.0.0",
       "_model_name": "TabModel",
       "_view_count": null,
       "_view_module": "@jupyter-widgets/controls",
       "_view_module_version": "2.0.0",
       "_view_name": "TabView",
       "box_style": "",
       "children": [
        "IPY_MODEL_8762b54cb9e249f5825f27eb8a96250b",
        "IPY_MODEL_794dc6dfc2284c0bbfbdb66ab30dc65e",
        "IPY_MODEL_546b942eeb484813a55b2837a61e788a",
        "IPY_MODEL_30787e2b4e3b4995ac98e4148dda7452",
        "IPY_MODEL_36b66cb1c9854d74bb7e02cf3e54c02c",
        "IPY_MODEL_54cde5ca8c874efabe6bf0d2f013fee2",
        "IPY_MODEL_8faacc1f191745f6a599a37b5585d1e9",
        "IPY_MODEL_7e4328b0c693488d901eee2fcfcd427c",
        "IPY_MODEL_e8080e05b9b54cef850f57e8ca944e08"
       ],
       "layout": "IPY_MODEL_e806fe0c569647eb9bd9ed09ed2e5cb5",
       "selected_index": 0,
       "tabbable": null,
       "titles": [
        "docker-stacks",
        "jupyter",
        "jupyter.github.io",
        "jupyter_client",
        "jupyter_core",
        "nbformat",
        "nbgrader",
        "nbviewer",
        "notebook"
       ],
       "tooltip": null
      }
     },
     "c4eadb1dda6a460e81711d413214c45a": {
      "model_module": "@jupyter-widgets/controls",
      "model_module_version": "2.0.0",
      "model_name": "HTMLModel",
      "state": {
       "_dom_classes": [],
       "_model_module": "@jupyter-widgets/controls",
       "_model_module_version": "2.0.0",
       "_model_name": "HTMLModel",
       "_view_count": null,
       "_view_module": "@jupyter-widgets/controls",
       "_view_module_version": "2.0.0",
       "_view_name": "HTMLView",
       "description": "",
       "description_allow_html": false,
       "layout": "IPY_MODEL_bbf6a26f301646c1b6c9cae5383d85f4",
       "placeholder": "​",
       "style": "IPY_MODEL_ab4459bd06424b7c85c351c437ca1354",
       "tabbable": null,
       "tooltip": null,
       "value": "<h5><a href=\"https://github.com/jupyter/jupyter.github.io\">jupyter/jupyter.github.io</a></h5>\n<ul>\n<li><a href=\"https://github.com/jupyter/jupyter.github.io/issues/791\">(#791)</a>: <em>Lower the threshold for Lighthouse accessibility</em> by <strong><a href=\"https://github.com/choldgraf\">@choldgraf</a></strong></li>\n<li><a href=\"https://github.com/jupyter/jupyter.github.io/issues/720\">(#720)</a>: <em>Widgets page is broken?</em> by <strong><a href=\"https://github.com/filonik-tud\">@filonik-tud</a></strong></li>\n</ul>"
      }
     },
     "c793adfa24f9474d8115ab046db723a0": {
      "model_module": "@jupyter-widgets/controls",
      "model_module_version": "2.0.0",
      "model_name": "HTMLStyleModel",
      "state": {
       "_model_module": "@jupyter-widgets/controls",
       "_model_module_version": "2.0.0",
       "_model_name": "HTMLStyleModel",
       "_view_count": null,
       "_view_module": "@jupyter-widgets/base",
       "_view_module_version": "2.0.0",
       "_view_name": "StyleView",
       "background": null,
       "description_width": "",
       "font_size": null,
       "text_color": null
      }
     },
     "cb3aad02a69d4d66b3c9ca6f8222cdfa": {
      "model_module": "@jupyter-widgets/base",
      "model_module_version": "2.0.0",
      "model_name": "LayoutModel",
      "state": {
       "_model_module": "@jupyter-widgets/base",
       "_model_module_version": "2.0.0",
       "_model_name": "LayoutModel",
       "_view_count": null,
       "_view_module": "@jupyter-widgets/base",
       "_view_module_version": "2.0.0",
       "_view_name": "LayoutView",
       "align_content": null,
       "align_items": null,
       "align_self": null,
       "border_bottom": null,
       "border_left": null,
       "border_right": null,
       "border_top": null,
       "bottom": null,
       "display": null,
       "flex": null,
       "flex_flow": null,
       "grid_area": null,
       "grid_auto_columns": null,
       "grid_auto_flow": null,
       "grid_auto_rows": null,
       "grid_column": null,
       "grid_gap": null,
       "grid_row": null,
       "grid_template_areas": null,
       "grid_template_columns": null,
       "grid_template_rows": null,
       "height": null,
       "justify_content": null,
       "justify_items": null,
       "left": null,
       "margin": null,
       "max_height": null,
       "max_width": null,
       "min_height": null,
       "min_width": null,
       "object_fit": null,
       "object_position": null,
       "order": null,
       "overflow": null,
       "padding": null,
       "right": null,
       "top": null,
       "visibility": null,
       "width": null
      }
     },
     "cd38aa4d23b54cb0aaaed4192ae37764": {
      "model_module": "@jupyter-widgets/base",
      "model_module_version": "2.0.0",
      "model_name": "LayoutModel",
      "state": {
       "_model_module": "@jupyter-widgets/base",
       "_model_module_version": "2.0.0",
       "_model_name": "LayoutModel",
       "_view_count": null,
       "_view_module": "@jupyter-widgets/base",
       "_view_module_version": "2.0.0",
       "_view_name": "LayoutView",
       "align_content": null,
       "align_items": null,
       "align_self": null,
       "border_bottom": null,
       "border_left": null,
       "border_right": null,
       "border_top": null,
       "bottom": null,
       "display": null,
       "flex": null,
       "flex_flow": null,
       "grid_area": null,
       "grid_auto_columns": null,
       "grid_auto_flow": null,
       "grid_auto_rows": null,
       "grid_column": null,
       "grid_gap": null,
       "grid_row": null,
       "grid_template_areas": null,
       "grid_template_columns": null,
       "grid_template_rows": null,
       "height": null,
       "justify_content": null,
       "justify_items": null,
       "left": null,
       "margin": null,
       "max_height": null,
       "max_width": null,
       "min_height": null,
       "min_width": null,
       "object_fit": null,
       "object_position": null,
       "order": null,
       "overflow": null,
       "padding": null,
       "right": null,
       "top": null,
       "visibility": null,
       "width": null
      }
     },
     "d24bdc8c3e7c49138cd500655e75929a": {
      "model_module": "@jupyter-widgets/base",
      "model_module_version": "2.0.0",
      "model_name": "LayoutModel",
      "state": {
       "_model_module": "@jupyter-widgets/base",
       "_model_module_version": "2.0.0",
       "_model_name": "LayoutModel",
       "_view_count": null,
       "_view_module": "@jupyter-widgets/base",
       "_view_module_version": "2.0.0",
       "_view_name": "LayoutView",
       "align_content": null,
       "align_items": null,
       "align_self": null,
       "border_bottom": null,
       "border_left": null,
       "border_right": null,
       "border_top": null,
       "bottom": null,
       "display": null,
       "flex": null,
       "flex_flow": null,
       "grid_area": null,
       "grid_auto_columns": null,
       "grid_auto_flow": null,
       "grid_auto_rows": null,
       "grid_column": null,
       "grid_gap": null,
       "grid_row": null,
       "grid_template_areas": null,
       "grid_template_columns": null,
       "grid_template_rows": null,
       "height": null,
       "justify_content": null,
       "justify_items": null,
       "left": null,
       "margin": null,
       "max_height": null,
       "max_width": null,
       "min_height": null,
       "min_width": null,
       "object_fit": null,
       "object_position": null,
       "order": null,
       "overflow": null,
       "padding": null,
       "right": null,
       "top": null,
       "visibility": null,
       "width": null
      }
     },
     "d67ab0165050489cbe21d966e9c1b30c": {
      "model_module": "@jupyter-widgets/controls",
      "model_module_version": "2.0.0",
      "model_name": "HTMLStyleModel",
      "state": {
       "_model_module": "@jupyter-widgets/controls",
       "_model_module_version": "2.0.0",
       "_model_name": "HTMLStyleModel",
       "_view_count": null,
       "_view_module": "@jupyter-widgets/base",
       "_view_module_version": "2.0.0",
       "_view_name": "StyleView",
       "background": null,
       "description_width": "",
       "font_size": null,
       "text_color": null
      }
     },
     "da073744844a4191955f86c00bf6e0ed": {
      "model_module": "@jupyter-widgets/controls",
      "model_module_version": "2.0.0",
      "model_name": "HTMLStyleModel",
      "state": {
       "_model_module": "@jupyter-widgets/controls",
       "_model_module_version": "2.0.0",
       "_model_name": "HTMLStyleModel",
       "_view_count": null,
       "_view_module": "@jupyter-widgets/base",
       "_view_module_version": "2.0.0",
       "_view_name": "StyleView",
       "background": null,
       "description_width": "",
       "font_size": null,
       "text_color": null
      }
     },
     "dd83a2d9864342369ddc6359e3912780": {
      "model_module": "@jupyter-widgets/base",
      "model_module_version": "2.0.0",
      "model_name": "LayoutModel",
      "state": {
       "_model_module": "@jupyter-widgets/base",
       "_model_module_version": "2.0.0",
       "_model_name": "LayoutModel",
       "_view_count": null,
       "_view_module": "@jupyter-widgets/base",
       "_view_module_version": "2.0.0",
       "_view_name": "LayoutView",
       "align_content": null,
       "align_items": null,
       "align_self": null,
       "border_bottom": null,
       "border_left": null,
       "border_right": null,
       "border_top": null,
       "bottom": null,
       "display": null,
       "flex": null,
       "flex_flow": null,
       "grid_area": null,
       "grid_auto_columns": null,
       "grid_auto_flow": null,
       "grid_auto_rows": null,
       "grid_column": null,
       "grid_gap": null,
       "grid_row": null,
       "grid_template_areas": null,
       "grid_template_columns": null,
       "grid_template_rows": null,
       "height": null,
       "justify_content": null,
       "justify_items": null,
       "left": null,
       "margin": null,
       "max_height": null,
       "max_width": null,
       "min_height": null,
       "min_width": null,
       "object_fit": null,
       "object_position": null,
       "order": null,
       "overflow": null,
       "padding": null,
       "right": null,
       "top": null,
       "visibility": null,
       "width": null
      }
     },
     "dfcbd49cf0b9476090e5a565fadb37c1": {
      "model_module": "@jupyter-widgets/base",
      "model_module_version": "2.0.0",
      "model_name": "LayoutModel",
      "state": {
       "_model_module": "@jupyter-widgets/base",
       "_model_module_version": "2.0.0",
       "_model_name": "LayoutModel",
       "_view_count": null,
       "_view_module": "@jupyter-widgets/base",
       "_view_module_version": "2.0.0",
       "_view_name": "LayoutView",
       "align_content": null,
       "align_items": null,
       "align_self": null,
       "border_bottom": null,
       "border_left": null,
       "border_right": null,
       "border_top": null,
       "bottom": null,
       "display": null,
       "flex": null,
       "flex_flow": null,
       "grid_area": null,
       "grid_auto_columns": null,
       "grid_auto_flow": null,
       "grid_auto_rows": null,
       "grid_column": null,
       "grid_gap": null,
       "grid_row": null,
       "grid_template_areas": null,
       "grid_template_columns": null,
       "grid_template_rows": null,
       "height": null,
       "justify_content": null,
       "justify_items": null,
       "left": null,
       "margin": null,
       "max_height": null,
       "max_width": null,
       "min_height": null,
       "min_width": null,
       "object_fit": null,
       "object_position": null,
       "order": null,
       "overflow": null,
       "padding": null,
       "right": null,
       "top": null,
       "visibility": null,
       "width": null
      }
     },
     "e806fe0c569647eb9bd9ed09ed2e5cb5": {
      "model_module": "@jupyter-widgets/base",
      "model_module_version": "2.0.0",
      "model_name": "LayoutModel",
      "state": {
       "_model_module": "@jupyter-widgets/base",
       "_model_module_version": "2.0.0",
       "_model_name": "LayoutModel",
       "_view_count": null,
       "_view_module": "@jupyter-widgets/base",
       "_view_module_version": "2.0.0",
       "_view_name": "LayoutView",
       "align_content": null,
       "align_items": null,
       "align_self": null,
       "border_bottom": null,
       "border_left": null,
       "border_right": null,
       "border_top": null,
       "bottom": null,
       "display": null,
       "flex": null,
       "flex_flow": null,
       "grid_area": null,
       "grid_auto_columns": null,
       "grid_auto_flow": null,
       "grid_auto_rows": null,
       "grid_column": null,
       "grid_gap": null,
       "grid_row": null,
       "grid_template_areas": null,
       "grid_template_columns": null,
       "grid_template_rows": null,
       "height": null,
       "justify_content": null,
       "justify_items": null,
       "left": null,
       "margin": null,
       "max_height": null,
       "max_width": null,
       "min_height": null,
       "min_width": null,
       "object_fit": null,
       "object_position": null,
       "order": null,
       "overflow": null,
       "padding": null,
       "right": null,
       "top": null,
       "visibility": null,
       "width": null
      }
     },
     "e8080e05b9b54cef850f57e8ca944e08": {
      "model_module": "@jupyter-widgets/controls",
      "model_module_version": "2.0.0",
      "model_name": "HTMLModel",
      "state": {
       "_dom_classes": [],
       "_model_module": "@jupyter-widgets/controls",
       "_model_module_version": "2.0.0",
       "_model_name": "HTMLModel",
       "_view_count": null,
       "_view_module": "@jupyter-widgets/controls",
       "_view_module_version": "2.0.0",
       "_view_name": "HTMLView",
       "description": "",
       "description_allow_html": false,
       "layout": "IPY_MODEL_8932a7dbb5e8424f970e092752f2638c",
       "placeholder": "​",
       "style": "IPY_MODEL_ab79bcd37dfa41c39d2f4b8048ab1ce8",
       "tabbable": null,
       "tooltip": null,
       "value": "<h4>Closed PRs for repo: <a href=\"https://github.com/jupyter/notebook\">jupyter/notebook</a></h4>\n<h5></h5>\n<ul>\n<li><a href=\"https://github.com/jupyter/notebook/issues/7553\">(#7553)</a>: <em>Bump nanoid from 3.3.6 to 3.3.8</em> by <strong><a href=\"https://github.com/dependabot[bot]\">@dependabot[bot]</a></strong> merged by <strong><a href=\"https://github.com/jtpio\">@jtpio</a></strong></li>\n<li><a href=\"https://github.com/jupyter/notebook/issues/7573\">(#7573)</a>: <em>Bump katex from 0.16.18 to 0.16.21</em> by <strong><a href=\"https://github.com/dependabot[bot]\">@dependabot[bot]</a></strong> merged by <strong><a href=\"https://github.com/jtpio\">@jtpio</a></strong></li>\n<li><a href=\"https://github.com/jupyter/notebook/issues/7574\">(#7574)</a>: <em>Bump markdown-to-jsx from 7.3.2 to 7.7.3</em> by <strong><a href=\"https://github.com/dependabot[bot]\">@dependabot[bot]</a></strong> merged by <strong><a href=\"https://github.com/jtpio\">@jtpio</a></strong></li>\n<li><a href=\"https://github.com/jupyter/notebook/issues/7586\">(#7586)</a>: <em>Bump vega from 5.24.0 to 5.31.0 in /ui-tests</em> by <strong><a href=\"https://github.com/dependabot[bot]\">@dependabot[bot]</a></strong> merged by <strong><a href=\"https://github.com/jtpio\">@jtpio</a></strong></li>\n<li><a href=\"https://github.com/jupyter/notebook/issues/7590\">(#7590)</a>: <em>Bump serialize-javascript from 6.0.1 to 6.0.2</em> by <strong><a href=\"https://github.com/dependabot[bot]\">@dependabot[bot]</a></strong> merged by <strong><a href=\"https://github.com/jtpio\">@jtpio</a></strong></li>\n<li><a href=\"https://github.com/jupyter/notebook/issues/7591\">(#7591)</a>: <em>Update to JupyterLab v4.4.0b0</em> by <strong><a href=\"https://github.com/jtpio\">@jtpio</a></strong> merged by <strong><a href=\"https://github.com/jtpio\">@jtpio</a></strong></li>\n<li><a href=\"https://github.com/jupyter/notebook/issues/7592\">(#7592)</a>: <em>Bump vega-selections from 5.4.1 to 5.5.0 in /ui-tests</em> by <strong><a href=\"https://github.com/dependabot[bot]\">@dependabot[bot]</a></strong> merged by <strong><a href=\"https://github.com/jtpio\">@jtpio</a></strong></li>\n<li><a href=\"https://github.com/jupyter/notebook/issues/7593\">(#7593)</a>: <em>Bump vega-selections from 5.4.1 to 5.5.0</em> by <strong><a href=\"https://github.com/dependabot[bot]\">@dependabot[bot]</a></strong> merged by <strong><a href=\"https://github.com/jtpio\">@jtpio</a></strong></li>\n<li><a href=\"https://github.com/jupyter/notebook/issues/7594\">(#7594)</a>: <em>Create recovery requires time</em> by <strong><a href=\"https://github.com/craigwllce\">@craigwllce</a></strong> merged by <strong><a href=\"https://github.com/krassowski\">@krassowski</a></strong></li>\n<li><a href=\"https://github.com/jupyter/notebook/issues/7598\">(#7598)</a>: <em>Bump axios from 1.6.2 to 1.8.2</em> by <strong><a href=\"https://github.com/dependabot[bot]\">@dependabot[bot]</a></strong> merged by <strong><a href=\"https://github.com/jtpio\">@jtpio</a></strong></li>\n<li><a href=\"https://github.com/jupyter/notebook/issues/7599\">(#7599)</a>: <em>Manual dependabot bumps</em> by <strong><a href=\"https://github.com/jtpio\">@jtpio</a></strong> merged by <strong><a href=\"https://github.com/jtpio\">@jtpio</a></strong></li>\n<li><a href=\"https://github.com/jupyter/notebook/issues/7602\">(#7602)</a>: <em>Add devcontainer support, backed by pixi</em> by <strong><a href=\"https://github.com/jtpio\">@jtpio</a></strong> merged by <strong><a href=\"https://github.com/jtpio\">@jtpio</a></strong></li>\n<li><a href=\"https://github.com/jupyter/notebook/issues/7603\">(#7603)</a>: <em>Bump @babel/helpers from 7.23.1 to 7.26.10</em> by <strong><a href=\"https://github.com/dependabot[bot]\">@dependabot[bot]</a></strong> merged by <strong><a href=\"https://github.com/jtpio\">@jtpio</a></strong></li>\n<li><a href=\"https://github.com/jupyter/notebook/issues/7604\">(#7604)</a>: <em>Bump @babel/runtime from 7.23.1 to 7.26.10</em> by <strong><a href=\"https://github.com/dependabot[bot]\">@dependabot[bot]</a></strong> merged by <strong><a href=\"https://github.com/jtpio\">@jtpio</a></strong></li>\n<li><a href=\"https://github.com/jupyter/notebook/issues/7605\">(#7605)</a>: <em>Update <code>@babel</code> dependencies</em> by <strong><a href=\"https://github.com/jtpio\">@jtpio</a></strong> merged by <strong><a href=\"https://github.com/jtpio\">@jtpio</a></strong></li>\n<li><a href=\"https://github.com/jupyter/notebook/issues/7607\">(#7607)</a>: <em>Update to JupyterLab <code>v4.4.0b1</code></em> by <strong><a href=\"https://github.com/jtpio\">@jtpio</a></strong> merged by <strong><a href=\"https://github.com/jtpio\">@jtpio</a></strong></li>\n<li><a href=\"https://github.com/jupyter/notebook/issues/7608\">(#7608)</a>: <em>Add pixi step to the update workflow</em> by <strong><a href=\"https://github.com/jtpio\">@jtpio</a></strong> merged by <strong><a href=\"https://github.com/jtpio\">@jtpio</a></strong></li>\n<li><a href=\"https://github.com/jupyter/notebook/issues/7610\">(#7610)</a>: <em>Update to JupyterLab v4.3.6</em> by <strong><a href=\"https://github.com/jtpio\">@jtpio</a></strong> merged by <strong><a href=\"https://github.com/jtpio\">@jtpio</a></strong></li>\n<li><a href=\"https://github.com/jupyter/notebook/issues/7612\">(#7612)</a>: <em>User facing changelog for 7.4</em> by <strong><a href=\"https://github.com/jtpio\">@jtpio</a></strong> merged by <strong><a href=\"https://github.com/jtpio\">@jtpio</a></strong></li>\n<li><a href=\"https://github.com/jupyter/notebook/issues/7614\">(#7614)</a>: <em>Update to JupyterLab v4.4.0b2</em> by <strong><a href=\"https://github.com/jtpio\">@jtpio</a></strong> merged by <strong><a href=\"https://github.com/jtpio\">@jtpio</a></strong></li>\n<li><a href=\"https://github.com/jupyter/notebook/issues/7616\">(#7616)</a>: <em>Support <code>ServiceManagerPlugin</code></em> by <strong><a href=\"https://github.com/jtpio\">@jtpio</a></strong> merged by <strong><a href=\"https://github.com/jtpio\">@jtpio</a></strong></li>\n<li><a href=\"https://github.com/jupyter/notebook/issues/7617\">(#7617)</a>: <em>Create jekyll-docker.yml</em> by <strong><a href=\"https://github.com/BoomchainLabs\">@BoomchainLabs</a></strong> merged by <strong><a href=\"https://github.com/krassowski\">@krassowski</a></strong></li>\n<li><a href=\"https://github.com/jupyter/notebook/issues/7618\">(#7618)</a>: <em>Update to JupyterLab v4.4.0rc0</em> by <strong><a href=\"https://github.com/jtpio\">@jtpio</a></strong> merged by <strong><a href=\"https://github.com/jtpio\">@jtpio</a></strong></li>\n<li><a href=\"https://github.com/jupyter/notebook/issues/7619\">(#7619)</a>: <em>Add support for a <code>down</code> area</em> by <strong><a href=\"https://github.com/jtpio\">@jtpio</a></strong> merged by <strong><a href=\"https://github.com/jtpio\">@jtpio</a></strong></li>\n<li><a href=\"https://github.com/jupyter/notebook/issues/7622\">(#7622)</a>: <em>Update to JupyterLab v4.4.0rc1</em> by <strong><a href=\"https://github.com/jtpio\">@jtpio</a></strong> merged by <strong><a href=\"https://github.com/jtpio\">@jtpio</a></strong></li>\n<li><a href=\"https://github.com/jupyter/notebook/issues/7623\">(#7623)</a>: <em>Update to JupyterLab v4.4.0</em> by <strong><a href=\"https://github.com/github-actions[bot]\">@github-actions[bot]</a></strong> merged by <strong><a href=\"https://github.com/jtpio\">@jtpio</a></strong></li>\n<li><a href=\"https://github.com/jupyter/notebook/issues/7624\">(#7624)</a>: <em>Default <code>singleClickNavigation</code> back to <code>false</code></em> by <strong><a href=\"https://github.com/jtpio\">@jtpio</a></strong> merged by <strong><a href=\"https://github.com/jtpio\">@jtpio</a></strong></li>\n<li><a href=\"https://github.com/jupyter/notebook/issues/7626\">(#7626)</a>: <em>Bump the actions group with 2 updates</em> by <strong><a href=\"https://github.com/dependabot[bot]\">@dependabot[bot]</a></strong> merged by <strong><a href=\"https://github.com/jtpio\">@jtpio</a></strong></li>\n<li><a href=\"https://github.com/jupyter/notebook/issues/7627\">(#7627)</a>: <em>Patch handling of singleClickNavigation</em> by <strong><a href=\"https://github.com/jtpio\">@jtpio</a></strong> merged by <strong><a href=\"https://github.com/jtpio\">@jtpio</a></strong></li>\n<li><a href=\"https://github.com/jupyter/notebook/issues/7628\">(#7628)</a>: <em>Drop support for Python 3.8</em> by <strong><a href=\"https://github.com/honnix\">@honnix</a></strong> merged by <strong><a href=\"https://github.com/jtpio\">@jtpio</a></strong></li>\n<li><a href=\"https://github.com/jupyter/notebook/issues/7632\">(#7632)</a>: <em>Bump prefix-dev/setup-pixi from 0.8.4 to 0.8.5 in the actions group</em> by <strong><a href=\"https://github.com/dependabot[bot]\">@dependabot[bot]</a></strong> merged by <strong><a href=\"https://github.com/jtpio\">@jtpio</a></strong></li>\n<li><a href=\"https://github.com/jupyter/notebook/issues/7633\">(#7633)</a>: <em>chore: Fix UP006</em> by <strong><a href=\"https://github.com/honnix\">@honnix</a></strong> merged by <strong><a href=\"https://github.com/jtpio\">@jtpio</a></strong></li>\n<li><a href=\"https://github.com/jupyter/notebook/issues/7637\">(#7637)</a>: <em>Bump prefix-dev/setup-pixi from 0.8.5 to 0.8.8 in the actions group</em> by <strong><a href=\"https://github.com/dependabot[bot]\">@dependabot[bot]</a></strong> merged by <strong><a href=\"https://github.com/jtpio\">@jtpio</a></strong></li>\n<li><a href=\"https://github.com/jupyter/notebook/issues/7638\">(#7638)</a>: <em>Update to JupyterLab v4.4.1</em> by <strong><a href=\"https://github.com/jtpio\">@jtpio</a></strong> merged by <strong><a href=\"https://github.com/jtpio\">@jtpio</a></strong></li>\n<li><a href=\"https://github.com/jupyter/notebook/issues/7639\">(#7639)</a>: <em>Run UI tests on <code>ubuntu-latest</code></em> by <strong><a href=\"https://github.com/jtpio\">@jtpio</a></strong> merged by <strong><a href=\"https://github.com/jtpio\">@jtpio</a></strong></li>\n<li><a href=\"https://github.com/jupyter/notebook/issues/7640\">(#7640)</a>: <em>Backport PR #7639 on branch 7.4.x (Run UI tests on <code>ubuntu-latest</code>)</em> by <strong><a href=\"https://github.com/meeseeksmachine\">@meeseeksmachine</a></strong> merged by <strong><a href=\"https://github.com/jtpio\">@jtpio</a></strong></li>\n<li><a href=\"https://github.com/jupyter/notebook/issues/7641\">(#7641)</a>: <em>Backport PR #7638 on branch 7.4.x (Update to JupyterLab v4.4.1)</em> by <strong><a href=\"https://github.com/meeseeksmachine\">@meeseeksmachine</a></strong> merged by <strong><a href=\"https://github.com/jtpio\">@jtpio</a></strong></li>\n<li><a href=\"https://github.com/jupyter/notebook/issues/7642\">(#7642)</a>: <em>Fix: Update static notebook core script for Ctrl-Z Find and Replace undo (#7504)</em> by <strong><a href=\"https://github.com/honeyreddy30\">@honeyreddy30</a></strong> merged by <strong><a href=\"https://github.com/honeyreddy30\">@honeyreddy30</a></strong></li>\n<li><a href=\"https://github.com/jupyter/notebook/issues/7649\">(#7649)</a>: <em>Update to JupyterLab v4.4.2</em> by <strong><a href=\"https://github.com/jtpio\">@jtpio</a></strong> merged by <strong><a href=\"https://github.com/jtpio\">@jtpio</a></strong></li>\n<li><a href=\"https://github.com/jupyter/notebook/issues/7650\">(#7650)</a>: <em>Update to JupyterLab v4.5.0a0</em> by <strong><a href=\"https://github.com/jtpio\">@jtpio</a></strong> merged by <strong><a href=\"https://github.com/jtpio\">@jtpio</a></strong></li>\n</ul>"
      }
     },
     "ea1cbe384ef3403f845279a2783ca63c": {
      "model_module": "@jupyter-widgets/controls",
      "model_module_version": "2.0.0",
      "model_name": "HTMLModel",
      "state": {
       "_dom_classes": [],
       "_model_module": "@jupyter-widgets/controls",
       "_model_module_version": "2.0.0",
       "_model_name": "HTMLModel",
       "_view_count": null,
       "_view_module": "@jupyter-widgets/controls",
       "_view_module_version": "2.0.0",
       "_view_name": "HTMLView",
       "description": "",
       "description_allow_html": false,
       "layout": "IPY_MODEL_ef272bacfc264750acfa19f1930c022e",
       "placeholder": "​",
       "style": "IPY_MODEL_5062498e02ce4eebb60aee885b1cbc10",
       "tabbable": null,
       "tooltip": null,
       "value": "<h5><a href=\"https://github.com/jupyter/nbviewer\">jupyter/nbviewer</a></h5>\n<ul>\n<li><a href=\"https://github.com/jupyter/nbviewer/issues/600\">(#600)</a>: <em>Can't visit 'localhost:8080' after running in a docker</em> by <strong><a href=\"https://github.com/taoluo\">@taoluo</a></strong></li>\n<li><a href=\"https://github.com/jupyter/nbviewer/issues/856\">(#856)</a>: <em>GitHub Rate Limit</em> by <strong><a href=\"https://github.com/jakirkham\">@jakirkham</a></strong></li>\n<li><a href=\"https://github.com/jupyter/nbviewer/issues/914\">(#914)</a>: <em>nbviewer does not flush cache</em> by <strong><a href=\"https://github.com/shinokada\">@shinokada</a></strong></li>\n<li><a href=\"https://github.com/jupyter/nbviewer/issues/1064\">(#1064)</a>: <em>404: Not Found Error</em> by <strong><a href=\"https://github.com/jonilynn02\">@jonilynn02</a></strong></li>\n</ul>"
      }
     },
     "ef272bacfc264750acfa19f1930c022e": {
      "model_module": "@jupyter-widgets/base",
      "model_module_version": "2.0.0",
      "model_name": "LayoutModel",
      "state": {
       "_model_module": "@jupyter-widgets/base",
       "_model_module_version": "2.0.0",
       "_model_name": "LayoutModel",
       "_view_count": null,
       "_view_module": "@jupyter-widgets/base",
       "_view_module_version": "2.0.0",
       "_view_name": "LayoutView",
       "align_content": null,
       "align_items": null,
       "align_self": null,
       "border_bottom": null,
       "border_left": null,
       "border_right": null,
       "border_top": null,
       "bottom": null,
       "display": null,
       "flex": null,
       "flex_flow": null,
       "grid_area": null,
       "grid_auto_columns": null,
       "grid_auto_flow": null,
       "grid_auto_rows": null,
       "grid_column": null,
       "grid_gap": null,
       "grid_row": null,
       "grid_template_areas": null,
       "grid_template_columns": null,
       "grid_template_rows": null,
       "height": null,
       "justify_content": null,
       "justify_items": null,
       "left": null,
       "margin": null,
       "max_height": null,
       "max_width": null,
       "min_height": null,
       "min_width": null,
       "object_fit": null,
       "object_position": null,
       "order": null,
       "overflow": null,
       "padding": null,
       "right": null,
       "top": null,
       "visibility": null,
       "width": null
      }
     },
     "f57760e2cec144f48285f49855f960f8": {
      "model_module": "@jupyter-widgets/base",
      "model_module_version": "2.0.0",
      "model_name": "LayoutModel",
      "state": {
       "_model_module": "@jupyter-widgets/base",
       "_model_module_version": "2.0.0",
       "_model_name": "LayoutModel",
       "_view_count": null,
       "_view_module": "@jupyter-widgets/base",
       "_view_module_version": "2.0.0",
       "_view_name": "LayoutView",
       "align_content": null,
       "align_items": null,
       "align_self": null,
       "border_bottom": null,
       "border_left": null,
       "border_right": null,
       "border_top": null,
       "bottom": null,
       "display": null,
       "flex": null,
       "flex_flow": null,
       "grid_area": null,
       "grid_auto_columns": null,
       "grid_auto_flow": null,
       "grid_auto_rows": null,
       "grid_column": null,
       "grid_gap": null,
       "grid_row": null,
       "grid_template_areas": null,
       "grid_template_columns": null,
       "grid_template_rows": null,
       "height": null,
       "justify_content": null,
       "justify_items": null,
       "left": null,
       "margin": null,
       "max_height": null,
       "max_width": null,
       "min_height": null,
       "min_width": null,
       "object_fit": null,
       "object_position": null,
       "order": null,
       "overflow": null,
       "padding": null,
       "right": null,
       "top": null,
       "visibility": null,
       "width": null
      }
     },
     "f60bfb80e02a4bbe9996813be4f6ef66": {
      "model_module": "@jupyter-widgets/controls",
      "model_module_version": "2.0.0",
      "model_name": "HTMLModel",
      "state": {
       "_dom_classes": [],
       "_model_module": "@jupyter-widgets/controls",
       "_model_module_version": "2.0.0",
       "_model_name": "HTMLModel",
       "_view_count": null,
       "_view_module": "@jupyter-widgets/controls",
       "_view_module_version": "2.0.0",
       "_view_name": "HTMLView",
       "description": "",
       "description_allow_html": false,
       "layout": "IPY_MODEL_d24bdc8c3e7c49138cd500655e75929a",
       "placeholder": "​",
       "style": "IPY_MODEL_528650f8f63c494da2f6cc0125336686",
       "tabbable": null,
       "tooltip": null,
       "value": "<h5><a href=\"https://github.com/jupyter/jupyter_core\">jupyter/jupyter_core</a></h5>\n<ul>\n<li><a href=\"https://github.com/jupyter/jupyter_core/issues/410\">(#410)</a>: <em>The configuration files for Jupyter produce many lint errors now</em> by <strong><a href=\"https://github.com/NeilGirdhar\">@NeilGirdhar</a></strong></li>\n<li><a href=\"https://github.com/jupyter/jupyter_core/issues/350\">(#350)</a>: <em>There are conflicts between the modules of the dependencies.</em> by <strong><a href=\"https://github.com/unsatisfying\">@unsatisfying</a></strong></li>\n<li><a href=\"https://github.com/jupyter/jupyter_core/issues/423\">(#423)</a>: <em>paths.is_hidden() Erroneously Reports Files as Hidden</em> by <strong><a href=\"https://github.com/matyanwek\">@matyanwek</a></strong></li>\n</ul>"
      }
     },
     "f819186218754eaeb5058adb0d6fad89": {
      "model_module": "@jupyter-widgets/base",
      "model_module_version": "2.0.0",
      "model_name": "LayoutModel",
      "state": {
       "_model_module": "@jupyter-widgets/base",
       "_model_module_version": "2.0.0",
       "_model_name": "LayoutModel",
       "_view_count": null,
       "_view_module": "@jupyter-widgets/base",
       "_view_module_version": "2.0.0",
       "_view_name": "LayoutView",
       "align_content": null,
       "align_items": null,
       "align_self": null,
       "border_bottom": null,
       "border_left": null,
       "border_right": null,
       "border_top": null,
       "bottom": null,
       "display": null,
       "flex": null,
       "flex_flow": null,
       "grid_area": null,
       "grid_auto_columns": null,
       "grid_auto_flow": null,
       "grid_auto_rows": null,
       "grid_column": null,
       "grid_gap": null,
       "grid_row": null,
       "grid_template_areas": null,
       "grid_template_columns": null,
       "grid_template_rows": null,
       "height": null,
       "justify_content": null,
       "justify_items": null,
       "left": null,
       "margin": null,
       "max_height": null,
       "max_width": null,
       "min_height": null,
       "min_width": null,
       "object_fit": null,
       "object_position": null,
       "order": null,
       "overflow": null,
       "padding": null,
       "right": null,
       "top": null,
       "visibility": null,
       "width": null
      }
     },
     "f8481bcb157540cdb10b594bacff0a9a": {
      "model_module": "@jupyter-widgets/base",
      "model_module_version": "2.0.0",
      "model_name": "LayoutModel",
      "state": {
       "_model_module": "@jupyter-widgets/base",
       "_model_module_version": "2.0.0",
       "_model_name": "LayoutModel",
       "_view_count": null,
       "_view_module": "@jupyter-widgets/base",
       "_view_module_version": "2.0.0",
       "_view_name": "LayoutView",
       "align_content": null,
       "align_items": null,
       "align_self": null,
       "border_bottom": null,
       "border_left": null,
       "border_right": null,
       "border_top": null,
       "bottom": null,
       "display": null,
       "flex": null,
       "flex_flow": null,
       "grid_area": null,
       "grid_auto_columns": null,
       "grid_auto_flow": null,
       "grid_auto_rows": null,
       "grid_column": null,
       "grid_gap": null,
       "grid_row": null,
       "grid_template_areas": null,
       "grid_template_columns": null,
       "grid_template_rows": null,
       "height": null,
       "justify_content": null,
       "justify_items": null,
       "left": null,
       "margin": null,
       "max_height": null,
       "max_width": null,
       "min_height": null,
       "min_width": null,
       "object_fit": null,
       "object_position": null,
       "order": null,
       "overflow": null,
       "padding": null,
       "right": null,
       "top": null,
       "visibility": null,
       "width": null
      }
     },
     "f9b955349dfb42fb92f1c10b09b6ce86": {
      "model_module": "@jupyter-widgets/controls",
      "model_module_version": "2.0.0",
      "model_name": "HTMLStyleModel",
      "state": {
       "_model_module": "@jupyter-widgets/controls",
       "_model_module_version": "2.0.0",
       "_model_name": "HTMLStyleModel",
       "_view_count": null,
       "_view_module": "@jupyter-widgets/base",
       "_view_module_version": "2.0.0",
       "_view_name": "StyleView",
       "background": null,
       "description_width": "",
       "font_size": null,
       "text_color": null
      }
     },
     "fa8600e9775c435ea0f4489a589eb519": {
      "model_module": "@jupyter-widgets/controls",
      "model_module_version": "2.0.0",
      "model_name": "HTMLModel",
      "state": {
       "_dom_classes": [],
       "_model_module": "@jupyter-widgets/controls",
       "_model_module_version": "2.0.0",
       "_model_name": "HTMLModel",
       "_view_count": null,
       "_view_module": "@jupyter-widgets/controls",
       "_view_module_version": "2.0.0",
       "_view_name": "HTMLView",
       "description": "",
       "description_allow_html": false,
       "layout": "IPY_MODEL_84fdcbeb5558469a91e712011f6c28bc",
       "placeholder": "​",
       "style": "IPY_MODEL_0bd5f905e99e47e19989633211ad5f29",
       "tabbable": null,
       "tooltip": null,
       "value": "<h5><a href=\"https://github.com/jupyter/nbconvert\">jupyter/nbconvert</a></h5>\n<ul>\n<li><a href=\"https://github.com/jupyter/nbconvert/issues/2208\">(#2208)</a>: <em>Long equations from sympy do not wrap</em> by <strong><a href=\"https://github.com/gabemorris12\">@gabemorris12</a></strong></li>\n<li><a href=\"https://github.com/jupyter/nbconvert/issues/2149\">(#2149)</a>: <em>nbconvert for python 3.9 crashing during the templateexporter.py</em> by <strong><a href=\"https://github.com/ale-franc\">@ale-franc</a></strong></li>\n<li><a href=\"https://github.com/jupyter/nbconvert/issues/2047\">(#2047)</a>: <em>[Python] Inconsistent failures in the presence of invalid syntax</em> by <strong><a href=\"https://github.com/kycutler\">@kycutler</a></strong></li>\n<li><a href=\"https://github.com/jupyter/nbconvert/issues/2217\">(#2217)</a>: <em>nbconvert inline \\mathbf   ($\\mathbf {x}$) fails to export to PDF</em> by <strong><a href=\"https://github.com/frohro\">@frohro</a></strong></li>\n<li><a href=\"https://github.com/jupyter/nbconvert/issues/1661\">(#1661)</a>: <em>nbconvert <code>--user</code> install fails to find templates</em> by <strong><a href=\"https://github.com/matthew-brett\">@matthew-brett</a></strong></li>\n</ul>"
      }
     },
     "fc42b91aac3b4e4b9c63e1ca392eba3e": {
      "model_module": "@jupyter-widgets/controls",
      "model_module_version": "2.0.0",
      "model_name": "HTMLStyleModel",
      "state": {
       "_model_module": "@jupyter-widgets/controls",
       "_model_module_version": "2.0.0",
       "_model_name": "HTMLStyleModel",
       "_view_count": null,
       "_view_module": "@jupyter-widgets/base",
       "_view_module_version": "2.0.0",
       "_view_name": "StyleView",
       "background": null,
       "description_width": "",
       "font_size": null,
       "text_color": null
      }
     }
    },
    "version_major": 2,
    "version_minor": 0
   }
  }
 },
 "nbformat": 4,
 "nbformat_minor": 5
}