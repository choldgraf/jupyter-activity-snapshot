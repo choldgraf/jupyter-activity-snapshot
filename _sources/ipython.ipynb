{
 "cells": [
  {
   "cell_type": "markdown",
   "metadata": {
    "papermill": {
     "duration": 0.034155,
     "end_time": "2020-10-25T01:45:05.423667",
     "exception": false,
     "start_time": "2020-10-25T01:45:05.389512",
     "status": "completed"
    },
    "tags": []
   },
   "source": [
    "# {glue:text}`ipython_github_org`\n",
    "\n",
    "**Activity from {glue:}`ipython_start` to {glue:}`ipython_stop`**"
   ]
  },
  {
   "cell_type": "code",
   "execution_count": 1,
   "metadata": {
    "execution": {
     "iopub.execute_input": "2020-10-25T01:45:05.502341Z",
     "iopub.status.busy": "2020-10-25T01:45:05.501377Z",
     "iopub.status.idle": "2020-10-25T01:45:06.994373Z",
     "shell.execute_reply": "2020-10-25T01:45:06.993748Z"
    },
    "papermill": {
     "duration": 1.536805,
     "end_time": "2020-10-25T01:45:06.994630",
     "exception": false,
     "start_time": "2020-10-25T01:45:05.457825",
     "status": "completed"
    },
    "tags": [
     "remove_cell"
    ]
   },
   "outputs": [],
   "source": [
    "import github_activity as ga\n",
    "from datetime import date\n",
    "from dateutil.relativedelta import relativedelta\n",
    "from myst_nb import glue\n",
    "import seaborn as sns\n",
    "import pandas as pd\n",
    "import numpy as np\n",
    "import altair as alt\n",
    "from markdown import markdown\n",
    "from IPython.display import Markdown\n",
    "from ipywidgets.widgets import HTML, Tab\n",
    "from ipywidgets import widgets\n",
    "from datetime import timedelta\n",
    "from matplotlib import pyplot as plt\n",
    "import os.path as op\n",
    "\n",
    "from warnings import simplefilter\n",
    "simplefilter('ignore')"
   ]
  },
  {
   "cell_type": "code",
   "execution_count": 2,
   "metadata": {
    "execution": {
     "iopub.execute_input": "2020-10-25T01:45:07.075478Z",
     "iopub.status.busy": "2020-10-25T01:45:07.072363Z",
     "iopub.status.idle": "2020-10-25T01:45:07.077156Z",
     "shell.execute_reply": "2020-10-25T01:45:07.077561Z"
    },
    "papermill": {
     "duration": 0.048695,
     "end_time": "2020-10-25T01:45:07.077740",
     "exception": false,
     "start_time": "2020-10-25T01:45:07.029045",
     "status": "completed"
    },
    "tags": [
     "remove_cell"
    ]
   },
   "outputs": [],
   "source": [
    "# Altair config\n",
    "def author_url(author):\n",
    "    return f\"https://github.com/{author}\"\n",
    "\n",
    "def alt_theme():\n",
    "    return {\n",
    "        'config': {\n",
    "            'axisLeft': {\n",
    "                'labelFontSize': 15,\n",
    "            },\n",
    "            'axisBottom': {\n",
    "                'labelFontSize': 15,\n",
    "            },\n",
    "        }\n",
    "    }\n",
    "\n",
    "alt.themes.register('my_theme', alt_theme)\n",
    "alt.themes.enable(\"my_theme\")\n",
    "\n",
    "\n",
    "# Define colors we'll use for GitHub membership\n",
    "author_types = ['MEMBER', 'CONTRIBUTOR', 'COLLABORATOR', \"NONE\"]\n",
    "\n",
    "author_palette = np.array(sns.palettes.blend_palette([\"lightgrey\", \"lightgreen\", \"darkgreen\"], 4)) * 256\n",
    "author_colors = [\"rgb({}, {}, {})\".format(*color) for color in author_palette]\n",
    "author_color_dict = {key: val for key, val in zip(author_types, author_palette)}"
   ]
  },
  {
   "cell_type": "code",
   "execution_count": 3,
   "metadata": {
    "execution": {
     "iopub.execute_input": "2020-10-25T01:45:07.146581Z",
     "iopub.status.busy": "2020-10-25T01:45:07.146002Z",
     "iopub.status.idle": "2020-10-25T01:45:07.148128Z",
     "shell.execute_reply": "2020-10-25T01:45:07.147661Z"
    },
    "papermill": {
     "duration": 0.039457,
     "end_time": "2020-10-25T01:45:07.148272",
     "exception": false,
     "start_time": "2020-10-25T01:45:07.108815",
     "status": "completed"
    },
    "tags": [
     "parameters",
     "hide_input",
     "remove_cell"
    ]
   },
   "outputs": [],
   "source": [
    "github_org = \"jupyterhub\"\n",
    "top_n_repos = 15\n",
    "n_days = 10"
   ]
  },
  {
   "cell_type": "code",
   "execution_count": 4,
   "metadata": {
    "execution": {
     "iopub.execute_input": "2020-10-25T01:45:07.216133Z",
     "iopub.status.busy": "2020-10-25T01:45:07.215571Z",
     "iopub.status.idle": "2020-10-25T01:45:07.218742Z",
     "shell.execute_reply": "2020-10-25T01:45:07.219216Z"
    },
    "papermill": {
     "duration": 0.038959,
     "end_time": "2020-10-25T01:45:07.219388",
     "exception": false,
     "start_time": "2020-10-25T01:45:07.180429",
     "status": "completed"
    },
    "tags": [
     "injected-parameters",
     "remove-cell"
    ]
   },
   "outputs": [],
   "source": [
    "# Parameters\n",
    "github_org = \"ipython\"\n",
    "n_days = 60\n"
   ]
  },
  {
   "cell_type": "code",
   "execution_count": 5,
   "metadata": {
    "execution": {
     "iopub.execute_input": "2020-10-25T01:45:07.295286Z",
     "iopub.status.busy": "2020-10-25T01:45:07.294697Z",
     "iopub.status.idle": "2020-10-25T01:45:07.300864Z",
     "shell.execute_reply": "2020-10-25T01:45:07.300367Z"
    },
    "papermill": {
     "duration": 0.046832,
     "end_time": "2020-10-25T01:45:07.301026",
     "exception": false,
     "start_time": "2020-10-25T01:45:07.254194",
     "status": "completed"
    },
    "tags": [
     "remove_cell"
    ]
   },
   "outputs": [
    {
     "data": {
      "application/papermill.record/text/plain": "'ipython'"
     },
     "metadata": {
      "scrapbook": {
       "mime_prefix": "application/papermill.record/",
       "name": "ipython_github_org"
      }
     },
     "output_type": "display_data"
    },
    {
     "data": {
      "application/papermill.record/text/plain": "'2020-08-26'"
     },
     "metadata": {
      "scrapbook": {
       "mime_prefix": "application/papermill.record/",
       "name": "ipython_start"
      }
     },
     "output_type": "display_data"
    },
    {
     "data": {
      "application/papermill.record/text/plain": "'2020-10-25'"
     },
     "metadata": {
      "scrapbook": {
       "mime_prefix": "application/papermill.record/",
       "name": "ipython_stop"
      }
     },
     "output_type": "display_data"
    }
   ],
   "source": [
    "############################################################\n",
    "# Variables\n",
    "stop = date.today()\n",
    "start = date.today() - relativedelta(days=n_days)\n",
    "\n",
    "# Strings for use in queries\n",
    "start_date = f\"{start:%Y-%m-%d}\"\n",
    "stop_date = f\"{stop:%Y-%m-%d}\"\n",
    "\n",
    "# Glue variables for use in markdown\n",
    "glue(f\"{github_org}_github_org\", github_org, display=False)\n",
    "glue(f\"{github_org}_start\", start_date, display=False)\n",
    "glue(f\"{github_org}_stop\", stop_date, display=False)"
   ]
  },
  {
   "cell_type": "code",
   "execution_count": 6,
   "metadata": {
    "execution": {
     "iopub.execute_input": "2020-10-25T01:45:07.386767Z",
     "iopub.status.busy": "2020-10-25T01:45:07.382901Z",
     "iopub.status.idle": "2020-10-25T01:45:23.921656Z",
     "shell.execute_reply": "2020-10-25T01:45:23.922152Z"
    },
    "papermill": {
     "duration": 16.583062,
     "end_time": "2020-10-25T01:45:23.922347",
     "exception": false,
     "start_time": "2020-10-25T01:45:07.339285",
     "status": "completed"
    },
    "tags": [
     "remove_cell"
    ]
   },
   "outputs": [
    {
     "name": "stdout",
     "output_type": "stream",
     "text": [
      "Running search query:\n",
      "user:ipython\n",
      "\n",
      "\n"
     ]
    },
    {
     "name": "stdout",
     "output_type": "stream",
     "text": [
      "Found 228 items, which will take 5 pages\n"
     ]
    },
    {
     "data": {
      "application/vnd.jupyter.widget-view+json": {
       "model_id": "9b242a1fa02448ec85db85fb78a5af77",
       "version_major": 2,
       "version_minor": 0
      },
      "text/plain": [
       "IntProgress(value=0, description='Downloading:', max=5)"
      ]
     },
     "metadata": {},
     "output_type": "display_data"
    },
    {
     "name": "stdout",
     "output_type": "stream",
     "text": [
      "Found 140 items, which will take 3 pages\n"
     ]
    },
    {
     "data": {
      "application/vnd.jupyter.widget-view+json": {
       "model_id": "46685204a6b343b88ed0eedf966a462d",
       "version_major": 2,
       "version_minor": 0
      },
      "text/plain": [
       "IntProgress(value=0, description='Downloading:', max=3)"
      ]
     },
     "metadata": {},
     "output_type": "display_data"
    }
   ],
   "source": [
    "############################################################\n",
    "# Fetch the raw data and load data we need\n",
    "raw_data = ga.get_activity(github_org, start_date)\n",
    "bot_names = pd.read_csv('../bot_names.csv')['names'].tolist()\n",
    "data = raw_data.copy()\n",
    "\n",
    "# Prepare our data\n",
    "data[\"kind\"] = data[\"url\"].map(lambda a: \"issue\" if \"issues/\" in a else \"pr\")\n",
    "data[\"mergedBy\"] = data[\"mergedBy\"].map(lambda a: a[\"login\"] if not isinstance(a, (float, type(None))) else None)\n",
    "\n",
    "prs = data.query(\"kind == 'pr'\")\n",
    "issues = data.query(\"kind == 'issue'\")\n",
    "\n",
    "# Pull out the comments\n",
    "comments = []\n",
    "for _, irow in data.iterrows():\n",
    "    for icomment in irow['comments']['edges']:\n",
    "        icomment = icomment[\"node\"].copy()\n",
    "        icomment[\"author\"] = icomment[\"author\"][\"login\"] if icomment[\"author\"] else None\n",
    "        icomment[\"org\"] = irow[\"org\"]\n",
    "        icomment[\"repo\"] = irow[\"repo\"]\n",
    "        icomment[\"id\"] = irow[\"id\"]\n",
    "        comments.append(pd.Series(icomment))\n",
    "comments = pd.DataFrame(comments)\n",
    "\n",
    "# Clean up\n",
    "for idata in [prs, comments, issues]:\n",
    "    idata.query(\"author not in @bot_names\", inplace=True)\n",
    "    idata.drop_duplicates(subset=[\"url\"], inplace=True)\n",
    "\n",
    "# What are the top N repos, we will only plot these in the full data plots\n",
    "top_commented_repos = comments.groupby(\"repo\").count().sort_values(\"createdAt\", ascending=False)['createdAt']\n",
    "use_repos = top_commented_repos.head(top_n_repos).index.tolist()"
   ]
  },
  {
   "cell_type": "markdown",
   "metadata": {
    "papermill": {
     "duration": 0.033796,
     "end_time": "2020-10-25T01:45:23.998083",
     "exception": false,
     "start_time": "2020-10-25T01:45:23.964287",
     "status": "completed"
    },
    "tags": [
     "remove_cell"
    ]
   },
   "source": [
    "## Save the data to disk"
   ]
  },
  {
   "cell_type": "code",
   "execution_count": 7,
   "metadata": {
    "execution": {
     "iopub.execute_input": "2020-10-25T01:45:24.070596Z",
     "iopub.status.busy": "2020-10-25T01:45:24.069967Z",
     "iopub.status.idle": "2020-10-25T01:45:24.515423Z",
     "shell.execute_reply": "2020-10-25T01:45:24.514911Z"
    },
    "papermill": {
     "duration": 0.486043,
     "end_time": "2020-10-25T01:45:24.515589",
     "exception": false,
     "start_time": "2020-10-25T01:45:24.029546",
     "status": "completed"
    },
    "tags": [
     "remove_cell"
    ]
   },
   "outputs": [],
   "source": [
    "from pathlib import Path\n",
    "for name, idata in [(\"comments\", comments), (\"prs\", prs), (\"issues\", issues)]:\n",
    "    path_data = Path(f\"./{name}.csv\")\n",
    "    if path_data.exists():\n",
    "        idata = pd.read_csv(path_data).append(idata)\n",
    "    idata = idata.drop_duplicates(subset=[\"url\"])\n",
    "    idata.to_csv(path_data, index=None)"
   ]
  },
  {
   "cell_type": "markdown",
   "metadata": {
    "papermill": {
     "duration": 0.034973,
     "end_time": "2020-10-25T01:45:24.586836",
     "exception": false,
     "start_time": "2020-10-25T01:45:24.551863",
     "status": "completed"
    },
    "tags": [],
    "toc-hr-collapsed": false
   },
   "source": [
    "## Merged Pull requests\n",
    "\n",
    "Here's an analysis of **merged pull requests** across each of the repositories in the Jupyter\n",
    "ecosystem."
   ]
  },
  {
   "cell_type": "code",
   "execution_count": 8,
   "metadata": {
    "execution": {
     "iopub.execute_input": "2020-10-25T01:45:24.668574Z",
     "iopub.status.busy": "2020-10-25T01:45:24.668041Z",
     "iopub.status.idle": "2020-10-25T01:45:24.671065Z",
     "shell.execute_reply": "2020-10-25T01:45:24.670643Z"
    },
    "papermill": {
     "duration": 0.046365,
     "end_time": "2020-10-25T01:45:24.671198",
     "exception": false,
     "start_time": "2020-10-25T01:45:24.624833",
     "status": "completed"
    },
    "tags": [
     "remove_cell"
    ]
   },
   "outputs": [],
   "source": [
    "merged = prs.query('state == \"MERGED\" and closedAt > @start_date and closedAt < @stop_date')"
   ]
  },
  {
   "cell_type": "code",
   "execution_count": 9,
   "metadata": {
    "execution": {
     "iopub.execute_input": "2020-10-25T01:45:24.772888Z",
     "iopub.status.busy": "2020-10-25T01:45:24.767391Z",
     "iopub.status.idle": "2020-10-25T01:45:24.786499Z",
     "shell.execute_reply": "2020-10-25T01:45:24.785994Z"
    },
    "papermill": {
     "duration": 0.074325,
     "end_time": "2020-10-25T01:45:24.786644",
     "exception": false,
     "start_time": "2020-10-25T01:45:24.712319",
     "status": "completed"
    },
    "tags": [
     "hide_input"
    ]
   },
   "outputs": [
    {
     "data": {
      "text/html": [
       "\n",
       "<div id=\"altair-viz-c88ff92b40f143af907c5cf617ef528d\"></div>\n",
       "<script type=\"text/javascript\">\n",
       "  (function(spec, embedOpt){\n",
       "    let outputDiv = document.currentScript.previousElementSibling;\n",
       "    if (outputDiv.id !== \"altair-viz-c88ff92b40f143af907c5cf617ef528d\") {\n",
       "      outputDiv = document.getElementById(\"altair-viz-c88ff92b40f143af907c5cf617ef528d\");\n",
       "    }\n",
       "    const paths = {\n",
       "      \"vega\": \"https://cdn.jsdelivr.net/npm//vega@5?noext\",\n",
       "      \"vega-lib\": \"https://cdn.jsdelivr.net/npm//vega-lib?noext\",\n",
       "      \"vega-lite\": \"https://cdn.jsdelivr.net/npm//vega-lite@4.8.1?noext\",\n",
       "      \"vega-embed\": \"https://cdn.jsdelivr.net/npm//vega-embed@6?noext\",\n",
       "    };\n",
       "\n",
       "    function loadScript(lib) {\n",
       "      return new Promise(function(resolve, reject) {\n",
       "        var s = document.createElement('script');\n",
       "        s.src = paths[lib];\n",
       "        s.async = true;\n",
       "        s.onload = () => resolve(paths[lib]);\n",
       "        s.onerror = () => reject(`Error loading script: ${paths[lib]}`);\n",
       "        document.getElementsByTagName(\"head\")[0].appendChild(s);\n",
       "      });\n",
       "    }\n",
       "\n",
       "    function showError(err) {\n",
       "      outputDiv.innerHTML = `<div class=\"error\" style=\"color:red;\">${err}</div>`;\n",
       "      throw err;\n",
       "    }\n",
       "\n",
       "    function displayChart(vegaEmbed) {\n",
       "      vegaEmbed(outputDiv, spec, embedOpt)\n",
       "        .catch(err => showError(`Javascript Error: ${err.message}<br>This usually means there's a typo in your chart specification. See the javascript console for the full traceback.`));\n",
       "    }\n",
       "\n",
       "    if(typeof define === \"function\" && define.amd) {\n",
       "      requirejs.config({paths});\n",
       "      require([\"vega-embed\"], displayChart, err => showError(`Error loading script: ${err.message}`));\n",
       "    } else if (typeof vegaEmbed === \"function\") {\n",
       "      displayChart(vegaEmbed);\n",
       "    } else {\n",
       "      loadScript(\"vega\")\n",
       "        .then(() => loadScript(\"vega-lite\"))\n",
       "        .then(() => loadScript(\"vega-embed\"))\n",
       "        .catch(showError)\n",
       "        .then(() => displayChart(vegaEmbed));\n",
       "    }\n",
       "  })({\"config\": {\"axisLeft\": {\"labelFontSize\": 15}, \"axisBottom\": {\"labelFontSize\": 15}}, \"data\": {\"name\": \"data-75f11ce9702c53fdb426893b27fea88b\"}, \"mark\": \"bar\", \"encoding\": {\"color\": {\"type\": \"nominal\", \"field\": \"org\"}, \"x\": {\"type\": \"nominal\", \"field\": \"repo\", \"sort\": [\"ipython\", \"traitlets\", \"ipykernel\", \"ipython-website\", \"ipython-in-depth\"]}, \"y\": {\"type\": \"quantitative\", \"field\": \"author\"}}, \"title\": \"Merged PRs in the last 60 days\", \"$schema\": \"https://vega.github.io/schema/vega-lite/v4.8.1.json\", \"datasets\": {\"data-75f11ce9702c53fdb426893b27fea88b\": [{\"org\": \"ipython\", \"repo\": \"ipython\", \"author\": 54}, {\"org\": \"ipython\", \"repo\": \"traitlets\", \"author\": 15}, {\"org\": \"ipython\", \"repo\": \"ipykernel\", \"author\": 2}, {\"org\": \"ipython\", \"repo\": \"ipython-website\", \"author\": 2}, {\"org\": \"ipython\", \"repo\": \"ipython-in-depth\", \"author\": 1}]}}, {\"mode\": \"vega-lite\"});\n",
       "</script>"
      ],
      "text/plain": [
       "alt.Chart(...)"
      ]
     },
     "execution_count": 9,
     "metadata": {},
     "output_type": "execute_result"
    }
   ],
   "source": [
    "prs_by_repo = merged.groupby(['org', 'repo']).count()['author'].reset_index().sort_values(['org', 'author'], ascending=False)\n",
    "alt.Chart(data=prs_by_repo, title=f\"Merged PRs in the last {n_days} days\").mark_bar().encode(\n",
    "    x=alt.X('repo', sort=prs_by_repo['repo'].values.tolist()),\n",
    "    y='author',\n",
    "    color='org'\n",
    ")"
   ]
  },
  {
   "cell_type": "markdown",
   "metadata": {
    "papermill": {
     "duration": 0.035632,
     "end_time": "2020-10-25T01:45:24.859747",
     "exception": false,
     "start_time": "2020-10-25T01:45:24.824115",
     "status": "completed"
    },
    "tags": []
   },
   "source": [
    "### Authoring and merging stats by repository\n",
    "\n",
    "Let's see who has been doing most of the PR authoring and merging. The PR author is generally the\n",
    "person that implemented a change in the repository (code, documentation, etc). The PR merger is\n",
    "the person that \"pressed the green button\" and got the change into the main codebase."
   ]
  },
  {
   "cell_type": "code",
   "execution_count": 10,
   "metadata": {
    "execution": {
     "iopub.execute_input": "2020-10-25T01:45:24.947904Z",
     "iopub.status.busy": "2020-10-25T01:45:24.947327Z",
     "iopub.status.idle": "2020-10-25T01:45:24.949652Z",
     "shell.execute_reply": "2020-10-25T01:45:24.949177Z"
    },
    "papermill": {
     "duration": 0.056399,
     "end_time": "2020-10-25T01:45:24.949796",
     "exception": false,
     "start_time": "2020-10-25T01:45:24.893397",
     "status": "completed"
    },
    "tags": [
     "remove_cell"
    ]
   },
   "outputs": [],
   "source": [
    "# Prep our merging DF\n",
    "merged_by_repo = merged.groupby(['repo', 'author'], as_index=False).agg({'id': 'count', 'authorAssociation': 'first'}).rename(columns={'id': \"authored\", 'author': 'username'})\n",
    "closed_by_repo = merged.groupby(['repo', 'mergedBy']).count()['id'].reset_index().rename(columns={'id': \"closed\", \"mergedBy\": \"username\"})"
   ]
  },
  {
   "cell_type": "code",
   "execution_count": 11,
   "metadata": {
    "execution": {
     "iopub.execute_input": "2020-10-25T01:45:25.133208Z",
     "iopub.status.busy": "2020-10-25T01:45:25.132385Z",
     "iopub.status.idle": "2020-10-25T01:45:25.136404Z",
     "shell.execute_reply": "2020-10-25T01:45:25.135945Z"
    },
    "papermill": {
     "duration": 0.150937,
     "end_time": "2020-10-25T01:45:25.136559",
     "exception": false,
     "start_time": "2020-10-25T01:45:24.985622",
     "status": "completed"
    },
    "tags": [
     "hide_input"
    ]
   },
   "outputs": [
    {
     "data": {
      "text/html": [
       "\n",
       "<div id=\"altair-viz-f3b3983216354bf4b1296440b4e24937\"></div>\n",
       "<script type=\"text/javascript\">\n",
       "  (function(spec, embedOpt){\n",
       "    let outputDiv = document.currentScript.previousElementSibling;\n",
       "    if (outputDiv.id !== \"altair-viz-f3b3983216354bf4b1296440b4e24937\") {\n",
       "      outputDiv = document.getElementById(\"altair-viz-f3b3983216354bf4b1296440b4e24937\");\n",
       "    }\n",
       "    const paths = {\n",
       "      \"vega\": \"https://cdn.jsdelivr.net/npm//vega@5?noext\",\n",
       "      \"vega-lib\": \"https://cdn.jsdelivr.net/npm//vega-lib?noext\",\n",
       "      \"vega-lite\": \"https://cdn.jsdelivr.net/npm//vega-lite@4.8.1?noext\",\n",
       "      \"vega-embed\": \"https://cdn.jsdelivr.net/npm//vega-embed@6?noext\",\n",
       "    };\n",
       "\n",
       "    function loadScript(lib) {\n",
       "      return new Promise(function(resolve, reject) {\n",
       "        var s = document.createElement('script');\n",
       "        s.src = paths[lib];\n",
       "        s.async = true;\n",
       "        s.onload = () => resolve(paths[lib]);\n",
       "        s.onerror = () => reject(`Error loading script: ${paths[lib]}`);\n",
       "        document.getElementsByTagName(\"head\")[0].appendChild(s);\n",
       "      });\n",
       "    }\n",
       "\n",
       "    function showError(err) {\n",
       "      outputDiv.innerHTML = `<div class=\"error\" style=\"color:red;\">${err}</div>`;\n",
       "      throw err;\n",
       "    }\n",
       "\n",
       "    function displayChart(vegaEmbed) {\n",
       "      vegaEmbed(outputDiv, spec, embedOpt)\n",
       "        .catch(err => showError(`Javascript Error: ${err.message}<br>This usually means there's a typo in your chart specification. See the javascript console for the full traceback.`));\n",
       "    }\n",
       "\n",
       "    if(typeof define === \"function\" && define.amd) {\n",
       "      requirejs.config({paths});\n",
       "      require([\"vega-embed\"], displayChart, err => showError(`Error loading script: ${err.message}`));\n",
       "    } else if (typeof vegaEmbed === \"function\") {\n",
       "      displayChart(vegaEmbed);\n",
       "    } else {\n",
       "      loadScript(\"vega\")\n",
       "        .then(() => loadScript(\"vega-lite\"))\n",
       "        .then(() => loadScript(\"vega-embed\"))\n",
       "        .catch(showError)\n",
       "        .then(() => displayChart(vegaEmbed));\n",
       "    }\n",
       "  })({\"config\": {\"axisLeft\": {\"labelFontSize\": 15}, \"axisBottom\": {\"labelFontSize\": 15}}, \"data\": {\"name\": \"data-057c38c5f5c28e5cbd721d8fe6c8423d\"}, \"mark\": \"bar\", \"encoding\": {\"color\": {\"type\": \"nominal\", \"field\": \"authorAssociation\", \"scale\": {\"domain\": [\"MEMBER\", \"CONTRIBUTOR\", \"COLLABORATOR\", \"NONE\"], \"range\": [\"rgb(211.82745098039214, 211.82745098039214, 211.82745098039214)\", \"rgb(166.98562091503268, 229.89803921568628, 166.98562091503268)\", \"rgb(96.37647058823529, 192.75294117647059, 96.37647058823529)\", \"rgb(0.0, 100.3921568627451, 0.0)\"]}}, \"x\": {\"type\": \"nominal\", \"field\": \"username\"}, \"y\": {\"type\": \"quantitative\", \"field\": \"authored\"}}, \"title\": \"PR authors for ipython in the last 60 days\", \"$schema\": \"https://vega.github.io/schema/vega-lite/v4.8.1.json\", \"datasets\": {\"data-057c38c5f5c28e5cbd721d8fe6c8423d\": [{\"username\": \"Carreau\", \"authored\": 20, \"authorAssociation\": \"MEMBER\"}, {\"username\": \"minrk\", \"authored\": 11, \"authorAssociation\": \"MEMBER\"}, {\"username\": \"farisachugthai\", \"authored\": 5, \"authorAssociation\": \"CONTRIBUTOR\"}, {\"username\": \"rushabh-v\", \"authored\": 4, \"authorAssociation\": \"CONTRIBUTOR\"}, {\"username\": \"dswij\", \"authored\": 2, \"authorAssociation\": \"CONTRIBUTOR\"}, {\"username\": \"impact27\", \"authored\": 2, \"authorAssociation\": \"CONTRIBUTOR\"}, {\"username\": \"mskar\", \"authored\": 2, \"authorAssociation\": \"NONE\"}, {\"username\": \"reillysiemens\", \"authored\": 1, \"authorAssociation\": \"CONTRIBUTOR\"}, {\"username\": \"rchiodo\", \"authored\": 1, \"authorAssociation\": \"CONTRIBUTOR\"}, {\"username\": \"hongshaoyang\", \"authored\": 1, \"authorAssociation\": \"CONTRIBUTOR\"}, {\"username\": \"rmorshea\", \"authored\": 1, \"authorAssociation\": \"COLLABORATOR\"}, {\"username\": \"maxnoe\", \"authored\": 1, \"authorAssociation\": \"CONTRIBUTOR\"}, {\"username\": \"jpavlav\", \"authored\": 1, \"authorAssociation\": \"CONTRIBUTOR\"}, {\"username\": \"joyceerhl\", \"authored\": 1, \"authorAssociation\": \"CONTRIBUTOR\"}, {\"username\": \"jack1142\", \"authored\": 1, \"authorAssociation\": \"CONTRIBUTOR\"}, {\"username\": \"romulofff\", \"authored\": 1, \"authorAssociation\": \"CONTRIBUTOR\"}, {\"username\": \"scarlehoff\", \"authored\": 1, \"authorAssociation\": \"CONTRIBUTOR\"}, {\"username\": \"xorigina1\", \"authored\": 1, \"authorAssociation\": \"CONTRIBUTOR\"}, {\"username\": \"Ankitsingh6299\", \"authored\": 1, \"authorAssociation\": \"CONTRIBUTOR\"}, {\"username\": \"facundobatista\", \"authored\": 1, \"authorAssociation\": \"CONTRIBUTOR\"}, {\"username\": \"dopplershift\", \"authored\": 1, \"authorAssociation\": \"CONTRIBUTOR\"}, {\"username\": \"digitalvirtuoso\", \"authored\": 1, \"authorAssociation\": \"CONTRIBUTOR\"}, {\"username\": \"barhenkro\", \"authored\": 1, \"authorAssociation\": \"CONTRIBUTOR\"}, {\"username\": \"augustogoulart\", \"authored\": 1, \"authorAssociation\": \"CONTRIBUTOR\"}, {\"username\": \"ashwinvis\", \"authored\": 1, \"authorAssociation\": \"CONTRIBUTOR\"}, {\"username\": \"alchzh\", \"authored\": 1, \"authorAssociation\": \"CONTRIBUTOR\"}, {\"username\": \"Zsailer\", \"authored\": 1, \"authorAssociation\": \"CONTRIBUTOR\"}, {\"username\": \"RoyNancy\", \"authored\": 1, \"authorAssociation\": \"CONTRIBUTOR\"}, {\"username\": \"OdinTech3\", \"authored\": 1, \"authorAssociation\": \"CONTRIBUTOR\"}, {\"username\": \"MrMino\", \"authored\": 1, \"authorAssociation\": \"CONTRIBUTOR\"}, {\"username\": \"LeafyLi\", \"authored\": 1, \"authorAssociation\": \"CONTRIBUTOR\"}, {\"username\": \"Inception95\", \"authored\": 1, \"authorAssociation\": \"CONTRIBUTOR\"}, {\"username\": \"GabrielSimonetto\", \"authored\": 1, \"authorAssociation\": \"CONTRIBUTOR\"}, {\"username\": \"Daniel-Mietchen\", \"authored\": 1, \"authorAssociation\": \"CONTRIBUTOR\"}, {\"username\": \"zazezizozu\", \"authored\": 1, \"authorAssociation\": \"CONTRIBUTOR\"}]}}, {\"mode\": \"vega-lite\"});\n",
       "</script>"
      ],
      "text/plain": [
       "alt.Chart(...)"
      ]
     },
     "execution_count": 11,
     "metadata": {},
     "output_type": "execute_result"
    }
   ],
   "source": [
    "charts = []\n",
    "title = f\"PR authors for {github_org} in the last {n_days} days\"\n",
    "this_data = merged_by_repo.replace(np.nan, 0).groupby('username', as_index=False).agg({'authored': 'sum', 'authorAssociation': 'first'})\n",
    "this_data = this_data.sort_values('authored', ascending=False)\n",
    "ch = alt.Chart(data=this_data, title=title).mark_bar().encode(\n",
    "    x='username',\n",
    "    y='authored',\n",
    "    color=alt.Color('authorAssociation', scale=alt.Scale(domain=author_types, range=author_colors))\n",
    ")\n",
    "ch"
   ]
  },
  {
   "cell_type": "code",
   "execution_count": 12,
   "metadata": {
    "execution": {
     "iopub.execute_input": "2020-10-25T01:45:25.228392Z",
     "iopub.status.busy": "2020-10-25T01:45:25.227841Z",
     "iopub.status.idle": "2020-10-25T01:45:25.230325Z",
     "shell.execute_reply": "2020-10-25T01:45:25.230826Z"
    },
    "papermill": {
     "duration": 0.057518,
     "end_time": "2020-10-25T01:45:25.231007",
     "exception": false,
     "start_time": "2020-10-25T01:45:25.173489",
     "status": "completed"
    },
    "tags": [
     "hide_input"
    ]
   },
   "outputs": [
    {
     "data": {
      "text/html": [
       "\n",
       "<div id=\"altair-viz-b1fb42705c064c26ac0b1423f8ba4065\"></div>\n",
       "<script type=\"text/javascript\">\n",
       "  (function(spec, embedOpt){\n",
       "    let outputDiv = document.currentScript.previousElementSibling;\n",
       "    if (outputDiv.id !== \"altair-viz-b1fb42705c064c26ac0b1423f8ba4065\") {\n",
       "      outputDiv = document.getElementById(\"altair-viz-b1fb42705c064c26ac0b1423f8ba4065\");\n",
       "    }\n",
       "    const paths = {\n",
       "      \"vega\": \"https://cdn.jsdelivr.net/npm//vega@5?noext\",\n",
       "      \"vega-lib\": \"https://cdn.jsdelivr.net/npm//vega-lib?noext\",\n",
       "      \"vega-lite\": \"https://cdn.jsdelivr.net/npm//vega-lite@4.8.1?noext\",\n",
       "      \"vega-embed\": \"https://cdn.jsdelivr.net/npm//vega-embed@6?noext\",\n",
       "    };\n",
       "\n",
       "    function loadScript(lib) {\n",
       "      return new Promise(function(resolve, reject) {\n",
       "        var s = document.createElement('script');\n",
       "        s.src = paths[lib];\n",
       "        s.async = true;\n",
       "        s.onload = () => resolve(paths[lib]);\n",
       "        s.onerror = () => reject(`Error loading script: ${paths[lib]}`);\n",
       "        document.getElementsByTagName(\"head\")[0].appendChild(s);\n",
       "      });\n",
       "    }\n",
       "\n",
       "    function showError(err) {\n",
       "      outputDiv.innerHTML = `<div class=\"error\" style=\"color:red;\">${err}</div>`;\n",
       "      throw err;\n",
       "    }\n",
       "\n",
       "    function displayChart(vegaEmbed) {\n",
       "      vegaEmbed(outputDiv, spec, embedOpt)\n",
       "        .catch(err => showError(`Javascript Error: ${err.message}<br>This usually means there's a typo in your chart specification. See the javascript console for the full traceback.`));\n",
       "    }\n",
       "\n",
       "    if(typeof define === \"function\" && define.amd) {\n",
       "      requirejs.config({paths});\n",
       "      require([\"vega-embed\"], displayChart, err => showError(`Error loading script: ${err.message}`));\n",
       "    } else if (typeof vegaEmbed === \"function\") {\n",
       "      displayChart(vegaEmbed);\n",
       "    } else {\n",
       "      loadScript(\"vega\")\n",
       "        .then(() => loadScript(\"vega-lite\"))\n",
       "        .then(() => loadScript(\"vega-embed\"))\n",
       "        .catch(showError)\n",
       "        .then(() => displayChart(vegaEmbed));\n",
       "    }\n",
       "  })({\"config\": {\"axisLeft\": {\"labelFontSize\": 15}, \"axisBottom\": {\"labelFontSize\": 15}}, \"data\": {\"name\": \"data-a930765df8b6df2d2a9f53716c0d6593\"}, \"mark\": \"bar\", \"encoding\": {\"x\": {\"type\": \"nominal\", \"field\": \"username\"}, \"y\": {\"type\": \"quantitative\", \"field\": \"closed\"}}, \"title\": \"Merges for ipython in the last 60 days\", \"$schema\": \"https://vega.github.io/schema/vega-lite/v4.8.1.json\", \"datasets\": {\"data-a930765df8b6df2d2a9f53716c0d6593\": [{\"repo\": \"ipykernel\", \"username\": \"Carreau\", \"closed\": 1}, {\"repo\": \"ipykernel\", \"username\": \"minrk\", \"closed\": 1}, {\"repo\": \"ipython\", \"username\": \"Carreau\", \"closed\": 54}, {\"repo\": \"ipython-in-depth\", \"username\": \"Carreau\", \"closed\": 1}, {\"repo\": \"ipython-website\", \"username\": \"Carreau\", \"closed\": 2}, {\"repo\": \"traitlets\", \"username\": \"Carreau\", \"closed\": 4}, {\"repo\": \"traitlets\", \"username\": \"blink1073\", \"closed\": 1}, {\"repo\": \"traitlets\", \"username\": \"minrk\", \"closed\": 9}, {\"repo\": \"traitlets\", \"username\": \"rmorshea\", \"closed\": 1}]}}, {\"mode\": \"vega-lite\"});\n",
       "</script>"
      ],
      "text/plain": [
       "alt.Chart(...)"
      ]
     },
     "execution_count": 12,
     "metadata": {},
     "output_type": "execute_result"
    }
   ],
   "source": [
    "charts = []\n",
    "title = f\"Merges for {github_org} in the last {n_days} days\"\n",
    "ch = alt.Chart(data=closed_by_repo.replace(np.nan, 0), title=title).mark_bar().encode(\n",
    "    x='username',\n",
    "    y='closed',\n",
    ")\n",
    "ch"
   ]
  },
  {
   "cell_type": "markdown",
   "metadata": {
    "papermill": {
     "duration": 0.03293,
     "end_time": "2020-10-25T01:45:25.298744",
     "exception": false,
     "start_time": "2020-10-25T01:45:25.265814",
     "status": "completed"
    },
    "tags": []
   },
   "source": [
    "## Issues\n",
    "\n",
    "Issues are **conversations** that happen on our GitHub repositories. Here's an\n",
    "analysis of issues across the Jupyter organizations."
   ]
  },
  {
   "cell_type": "code",
   "execution_count": 13,
   "metadata": {
    "execution": {
     "iopub.execute_input": "2020-10-25T01:45:25.383060Z",
     "iopub.status.busy": "2020-10-25T01:45:25.382494Z",
     "iopub.status.idle": "2020-10-25T01:45:25.385380Z",
     "shell.execute_reply": "2020-10-25T01:45:25.384902Z"
    },
    "papermill": {
     "duration": 0.049304,
     "end_time": "2020-10-25T01:45:25.385530",
     "exception": false,
     "start_time": "2020-10-25T01:45:25.336226",
     "status": "completed"
    },
    "tags": [
     "remove_cell"
    ]
   },
   "outputs": [],
   "source": [
    "created = issues.query('state == \"OPEN\" and createdAt > @start_date and createdAt < @stop_date')\n",
    "closed = issues.query('state == \"CLOSED\" and closedAt > @start_date and closedAt < @stop_date')"
   ]
  },
  {
   "cell_type": "code",
   "execution_count": 14,
   "metadata": {
    "execution": {
     "iopub.execute_input": "2020-10-25T01:45:25.462763Z",
     "iopub.status.busy": "2020-10-25T01:45:25.462178Z",
     "iopub.status.idle": "2020-10-25T01:45:25.481912Z",
     "shell.execute_reply": "2020-10-25T01:45:25.481340Z"
    },
    "papermill": {
     "duration": 0.063264,
     "end_time": "2020-10-25T01:45:25.482080",
     "exception": false,
     "start_time": "2020-10-25T01:45:25.418816",
     "status": "completed"
    },
    "tags": [
     "hide_input"
    ]
   },
   "outputs": [
    {
     "data": {
      "text/html": [
       "\n",
       "<div id=\"altair-viz-fb0ff2b163b64a7d9dff046378c439aa\"></div>\n",
       "<script type=\"text/javascript\">\n",
       "  (function(spec, embedOpt){\n",
       "    let outputDiv = document.currentScript.previousElementSibling;\n",
       "    if (outputDiv.id !== \"altair-viz-fb0ff2b163b64a7d9dff046378c439aa\") {\n",
       "      outputDiv = document.getElementById(\"altair-viz-fb0ff2b163b64a7d9dff046378c439aa\");\n",
       "    }\n",
       "    const paths = {\n",
       "      \"vega\": \"https://cdn.jsdelivr.net/npm//vega@5?noext\",\n",
       "      \"vega-lib\": \"https://cdn.jsdelivr.net/npm//vega-lib?noext\",\n",
       "      \"vega-lite\": \"https://cdn.jsdelivr.net/npm//vega-lite@4.8.1?noext\",\n",
       "      \"vega-embed\": \"https://cdn.jsdelivr.net/npm//vega-embed@6?noext\",\n",
       "    };\n",
       "\n",
       "    function loadScript(lib) {\n",
       "      return new Promise(function(resolve, reject) {\n",
       "        var s = document.createElement('script');\n",
       "        s.src = paths[lib];\n",
       "        s.async = true;\n",
       "        s.onload = () => resolve(paths[lib]);\n",
       "        s.onerror = () => reject(`Error loading script: ${paths[lib]}`);\n",
       "        document.getElementsByTagName(\"head\")[0].appendChild(s);\n",
       "      });\n",
       "    }\n",
       "\n",
       "    function showError(err) {\n",
       "      outputDiv.innerHTML = `<div class=\"error\" style=\"color:red;\">${err}</div>`;\n",
       "      throw err;\n",
       "    }\n",
       "\n",
       "    function displayChart(vegaEmbed) {\n",
       "      vegaEmbed(outputDiv, spec, embedOpt)\n",
       "        .catch(err => showError(`Javascript Error: ${err.message}<br>This usually means there's a typo in your chart specification. See the javascript console for the full traceback.`));\n",
       "    }\n",
       "\n",
       "    if(typeof define === \"function\" && define.amd) {\n",
       "      requirejs.config({paths});\n",
       "      require([\"vega-embed\"], displayChart, err => showError(`Error loading script: ${err.message}`));\n",
       "    } else if (typeof vegaEmbed === \"function\") {\n",
       "      displayChart(vegaEmbed);\n",
       "    } else {\n",
       "      loadScript(\"vega\")\n",
       "        .then(() => loadScript(\"vega-lite\"))\n",
       "        .then(() => loadScript(\"vega-embed\"))\n",
       "        .catch(showError)\n",
       "        .then(() => displayChart(vegaEmbed));\n",
       "    }\n",
       "  })({\"config\": {\"axisLeft\": {\"labelFontSize\": 15}, \"axisBottom\": {\"labelFontSize\": 15}}, \"data\": {\"name\": \"data-c5b861ee1b19e84d4cfa21b3af9bc787\"}, \"mark\": \"bar\", \"encoding\": {\"x\": {\"type\": \"nominal\", \"field\": \"repo\", \"sort\": [\"ipython\", \"ipykernel\", \"xkcd-font\", \"ipyparallel\", \"traitlets\", \"ipython_genutils\"]}, \"y\": {\"type\": \"quantitative\", \"field\": \"number\"}}, \"title\": \"Issues created in the last 60 days\", \"$schema\": \"https://vega.github.io/schema/vega-lite/v4.8.1.json\", \"datasets\": {\"data-c5b861ee1b19e84d4cfa21b3af9bc787\": [{\"org\": \"ipython\", \"repo\": \"ipykernel\", \"number\": 7, \"org/repo\": \"ipython/ipykernel\"}, {\"org\": \"ipython\", \"repo\": \"ipyparallel\", \"number\": 2, \"org/repo\": \"ipython/ipyparallel\"}, {\"org\": \"ipython\", \"repo\": \"ipython\", \"number\": 42, \"org/repo\": \"ipython/ipython\"}, {\"org\": \"ipython\", \"repo\": \"ipython_genutils\", \"number\": 1, \"org/repo\": \"ipython/ipython_genutils\"}, {\"org\": \"ipython\", \"repo\": \"traitlets\", \"number\": 2, \"org/repo\": \"ipython/traitlets\"}, {\"org\": \"ipython\", \"repo\": \"xkcd-font\", \"number\": 3, \"org/repo\": \"ipython/xkcd-font\"}]}}, {\"mode\": \"vega-lite\"});\n",
       "</script>"
      ],
      "text/plain": [
       "alt.Chart(...)"
      ]
     },
     "execution_count": 14,
     "metadata": {},
     "output_type": "execute_result"
    }
   ],
   "source": [
    "created_counts = created.groupby(['org', 'repo']).count()['number'].reset_index()\n",
    "created_counts['org/repo'] = created_counts.apply(lambda a: a['org'] + '/' + a['repo'], axis=1)\n",
    "sorted_vals = created_counts.sort_values(['org', 'number'], ascending=False)['repo'].values\n",
    "alt.Chart(data=created_counts, title=f\"Issues created in the last {n_days} days\").mark_bar().encode(\n",
    "    x=alt.X('repo', sort=alt.Sort(sorted_vals.tolist())),\n",
    "    y='number',\n",
    ")"
   ]
  },
  {
   "cell_type": "code",
   "execution_count": 15,
   "metadata": {
    "execution": {
     "iopub.execute_input": "2020-10-25T01:45:25.561096Z",
     "iopub.status.busy": "2020-10-25T01:45:25.560553Z",
     "iopub.status.idle": "2020-10-25T01:45:25.580213Z",
     "shell.execute_reply": "2020-10-25T01:45:25.579689Z"
    },
    "papermill": {
     "duration": 0.0619,
     "end_time": "2020-10-25T01:45:25.580366",
     "exception": false,
     "start_time": "2020-10-25T01:45:25.518466",
     "status": "completed"
    },
    "tags": [
     "hide_input"
    ]
   },
   "outputs": [
    {
     "data": {
      "text/html": [
       "\n",
       "<div id=\"altair-viz-2f5ef457aa2344cb8cac5ceeeb3e7415\"></div>\n",
       "<script type=\"text/javascript\">\n",
       "  (function(spec, embedOpt){\n",
       "    let outputDiv = document.currentScript.previousElementSibling;\n",
       "    if (outputDiv.id !== \"altair-viz-2f5ef457aa2344cb8cac5ceeeb3e7415\") {\n",
       "      outputDiv = document.getElementById(\"altair-viz-2f5ef457aa2344cb8cac5ceeeb3e7415\");\n",
       "    }\n",
       "    const paths = {\n",
       "      \"vega\": \"https://cdn.jsdelivr.net/npm//vega@5?noext\",\n",
       "      \"vega-lib\": \"https://cdn.jsdelivr.net/npm//vega-lib?noext\",\n",
       "      \"vega-lite\": \"https://cdn.jsdelivr.net/npm//vega-lite@4.8.1?noext\",\n",
       "      \"vega-embed\": \"https://cdn.jsdelivr.net/npm//vega-embed@6?noext\",\n",
       "    };\n",
       "\n",
       "    function loadScript(lib) {\n",
       "      return new Promise(function(resolve, reject) {\n",
       "        var s = document.createElement('script');\n",
       "        s.src = paths[lib];\n",
       "        s.async = true;\n",
       "        s.onload = () => resolve(paths[lib]);\n",
       "        s.onerror = () => reject(`Error loading script: ${paths[lib]}`);\n",
       "        document.getElementsByTagName(\"head\")[0].appendChild(s);\n",
       "      });\n",
       "    }\n",
       "\n",
       "    function showError(err) {\n",
       "      outputDiv.innerHTML = `<div class=\"error\" style=\"color:red;\">${err}</div>`;\n",
       "      throw err;\n",
       "    }\n",
       "\n",
       "    function displayChart(vegaEmbed) {\n",
       "      vegaEmbed(outputDiv, spec, embedOpt)\n",
       "        .catch(err => showError(`Javascript Error: ${err.message}<br>This usually means there's a typo in your chart specification. See the javascript console for the full traceback.`));\n",
       "    }\n",
       "\n",
       "    if(typeof define === \"function\" && define.amd) {\n",
       "      requirejs.config({paths});\n",
       "      require([\"vega-embed\"], displayChart, err => showError(`Error loading script: ${err.message}`));\n",
       "    } else if (typeof vegaEmbed === \"function\") {\n",
       "      displayChart(vegaEmbed);\n",
       "    } else {\n",
       "      loadScript(\"vega\")\n",
       "        .then(() => loadScript(\"vega-lite\"))\n",
       "        .then(() => loadScript(\"vega-embed\"))\n",
       "        .catch(showError)\n",
       "        .then(() => displayChart(vegaEmbed));\n",
       "    }\n",
       "  })({\"config\": {\"axisLeft\": {\"labelFontSize\": 15}, \"axisBottom\": {\"labelFontSize\": 15}}, \"data\": {\"name\": \"data-fbdcce2082d98ca04b199e55e4e2015f\"}, \"mark\": \"bar\", \"encoding\": {\"x\": {\"type\": \"nominal\", \"field\": \"repo\", \"sort\": [\"traitlets\", \"ipython\", \"ipykernel\", \"ipyparallel\"]}, \"y\": {\"type\": \"quantitative\", \"field\": \"number\"}}, \"title\": \"Issues closed in the last 60 days\", \"$schema\": \"https://vega.github.io/schema/vega-lite/v4.8.1.json\", \"datasets\": {\"data-fbdcce2082d98ca04b199e55e4e2015f\": [{\"org\": \"ipython\", \"repo\": \"ipykernel\", \"number\": 4, \"org/repo\": \"ipython/ipykernel\"}, {\"org\": \"ipython\", \"repo\": \"ipyparallel\", \"number\": 2, \"org/repo\": \"ipython/ipyparallel\"}, {\"org\": \"ipython\", \"repo\": \"ipython\", \"number\": 13, \"org/repo\": \"ipython/ipython\"}, {\"org\": \"ipython\", \"repo\": \"traitlets\", \"number\": 17, \"org/repo\": \"ipython/traitlets\"}]}}, {\"mode\": \"vega-lite\"});\n",
       "</script>"
      ],
      "text/plain": [
       "alt.Chart(...)"
      ]
     },
     "execution_count": 15,
     "metadata": {},
     "output_type": "execute_result"
    }
   ],
   "source": [
    "closed_counts = closed.groupby(['org', 'repo']).count()['number'].reset_index()\n",
    "closed_counts['org/repo'] = closed_counts.apply(lambda a: a['org'] + '/' + a['repo'], axis=1)\n",
    "sorted_vals = closed_counts.sort_values(['number'], ascending=False)['repo'].values\n",
    "alt.Chart(data=closed_counts, title=f\"Issues closed in the last {n_days} days\").mark_bar().encode(\n",
    "    x=alt.X('repo', sort=alt.Sort(sorted_vals.tolist())),\n",
    "    y='number',\n",
    ")"
   ]
  },
  {
   "cell_type": "code",
   "execution_count": 16,
   "metadata": {
    "execution": {
     "iopub.execute_input": "2020-10-25T01:45:25.670244Z",
     "iopub.status.busy": "2020-10-25T01:45:25.669695Z",
     "iopub.status.idle": "2020-10-25T01:45:25.671806Z",
     "shell.execute_reply": "2020-10-25T01:45:25.671364Z"
    },
    "papermill": {
     "duration": 0.052687,
     "end_time": "2020-10-25T01:45:25.671930",
     "exception": false,
     "start_time": "2020-10-25T01:45:25.619243",
     "status": "completed"
    },
    "tags": [
     "remove_cell"
    ]
   },
   "outputs": [],
   "source": [
    "created_closed = pd.merge(created_counts.rename(columns={'number': 'created'}).drop(columns='org/repo'),\n",
    "                          closed_counts.rename(columns={'number': 'closed'}).drop(columns='org/repo'),\n",
    "                          on=['org', 'repo'], how='outer')\n",
    "\n",
    "created_closed = pd.melt(created_closed, id_vars=['org', 'repo'], var_name=\"kind\", value_name=\"count\").replace(np.nan, 0)"
   ]
  },
  {
   "cell_type": "code",
   "execution_count": 17,
   "metadata": {
    "execution": {
     "iopub.execute_input": "2020-10-25T01:45:25.777327Z",
     "iopub.status.busy": "2020-10-25T01:45:25.767280Z",
     "iopub.status.idle": "2020-10-25T01:45:25.779895Z",
     "shell.execute_reply": "2020-10-25T01:45:25.780335Z"
    },
    "papermill": {
     "duration": 0.068603,
     "end_time": "2020-10-25T01:45:25.780504",
     "exception": false,
     "start_time": "2020-10-25T01:45:25.711901",
     "status": "completed"
    },
    "tags": [
     "hide_input"
    ]
   },
   "outputs": [
    {
     "data": {
      "text/html": [
       "\n",
       "<div id=\"altair-viz-330e8c586847464f94685ef4afa01a6e\"></div>\n",
       "<script type=\"text/javascript\">\n",
       "  (function(spec, embedOpt){\n",
       "    let outputDiv = document.currentScript.previousElementSibling;\n",
       "    if (outputDiv.id !== \"altair-viz-330e8c586847464f94685ef4afa01a6e\") {\n",
       "      outputDiv = document.getElementById(\"altair-viz-330e8c586847464f94685ef4afa01a6e\");\n",
       "    }\n",
       "    const paths = {\n",
       "      \"vega\": \"https://cdn.jsdelivr.net/npm//vega@5?noext\",\n",
       "      \"vega-lib\": \"https://cdn.jsdelivr.net/npm//vega-lib?noext\",\n",
       "      \"vega-lite\": \"https://cdn.jsdelivr.net/npm//vega-lite@4.8.1?noext\",\n",
       "      \"vega-embed\": \"https://cdn.jsdelivr.net/npm//vega-embed@6?noext\",\n",
       "    };\n",
       "\n",
       "    function loadScript(lib) {\n",
       "      return new Promise(function(resolve, reject) {\n",
       "        var s = document.createElement('script');\n",
       "        s.src = paths[lib];\n",
       "        s.async = true;\n",
       "        s.onload = () => resolve(paths[lib]);\n",
       "        s.onerror = () => reject(`Error loading script: ${paths[lib]}`);\n",
       "        document.getElementsByTagName(\"head\")[0].appendChild(s);\n",
       "      });\n",
       "    }\n",
       "\n",
       "    function showError(err) {\n",
       "      outputDiv.innerHTML = `<div class=\"error\" style=\"color:red;\">${err}</div>`;\n",
       "      throw err;\n",
       "    }\n",
       "\n",
       "    function displayChart(vegaEmbed) {\n",
       "      vegaEmbed(outputDiv, spec, embedOpt)\n",
       "        .catch(err => showError(`Javascript Error: ${err.message}<br>This usually means there's a typo in your chart specification. See the javascript console for the full traceback.`));\n",
       "    }\n",
       "\n",
       "    if(typeof define === \"function\" && define.amd) {\n",
       "      requirejs.config({paths});\n",
       "      require([\"vega-embed\"], displayChart, err => showError(`Error loading script: ${err.message}`));\n",
       "    } else if (typeof vegaEmbed === \"function\") {\n",
       "      displayChart(vegaEmbed);\n",
       "    } else {\n",
       "      loadScript(\"vega\")\n",
       "        .then(() => loadScript(\"vega-lite\"))\n",
       "        .then(() => loadScript(\"vega-embed\"))\n",
       "        .catch(showError)\n",
       "        .then(() => displayChart(vegaEmbed));\n",
       "    }\n",
       "  })({\"config\": {\"axisLeft\": {\"labelFontSize\": 15}, \"axisBottom\": {\"labelFontSize\": 15}}, \"data\": {\"name\": \"data-9457d33f1e6669adeb7012e5e8309594\"}, \"mark\": \"bar\", \"encoding\": {\"color\": {\"type\": \"nominal\", \"field\": \"kind\"}, \"column\": {\"type\": \"nominal\", \"field\": \"repo\", \"header\": {\"labelFontSize\": 12, \"title\": \"Issue activity, last 60 days for ipython\", \"titleFontSize\": 15}}, \"x\": {\"type\": \"nominal\", \"axis\": {\"labelFontSize\": 15, \"title\": \"\"}, \"field\": \"kind\"}, \"y\": {\"type\": \"quantitative\", \"axis\": {\"labelFontSize\": 12, \"titleFontSize\": 15}, \"field\": \"count\"}}, \"width\": 120, \"$schema\": \"https://vega.github.io/schema/vega-lite/v4.8.1.json\", \"datasets\": {\"data-9457d33f1e6669adeb7012e5e8309594\": [{\"org\": \"ipython\", \"repo\": \"ipykernel\", \"kind\": \"created\", \"count\": 7.0}, {\"org\": \"ipython\", \"repo\": \"ipyparallel\", \"kind\": \"created\", \"count\": 2.0}, {\"org\": \"ipython\", \"repo\": \"ipython\", \"kind\": \"created\", \"count\": 42.0}, {\"org\": \"ipython\", \"repo\": \"ipython_genutils\", \"kind\": \"created\", \"count\": 1.0}, {\"org\": \"ipython\", \"repo\": \"traitlets\", \"kind\": \"created\", \"count\": 2.0}, {\"org\": \"ipython\", \"repo\": \"xkcd-font\", \"kind\": \"created\", \"count\": 3.0}, {\"org\": \"ipython\", \"repo\": \"ipykernel\", \"kind\": \"closed\", \"count\": 4.0}, {\"org\": \"ipython\", \"repo\": \"ipyparallel\", \"kind\": \"closed\", \"count\": 2.0}, {\"org\": \"ipython\", \"repo\": \"ipython\", \"kind\": \"closed\", \"count\": 13.0}, {\"org\": \"ipython\", \"repo\": \"ipython_genutils\", \"kind\": \"closed\", \"count\": 0.0}, {\"org\": \"ipython\", \"repo\": \"traitlets\", \"kind\": \"closed\", \"count\": 17.0}, {\"org\": \"ipython\", \"repo\": \"xkcd-font\", \"kind\": \"closed\", \"count\": 0.0}]}}, {\"mode\": \"vega-lite\"});\n",
       "</script>"
      ],
      "text/plain": [
       "alt.Chart(...)"
      ]
     },
     "execution_count": 17,
     "metadata": {},
     "output_type": "execute_result"
    }
   ],
   "source": [
    "charts = []\n",
    "# Pick the top 10 repositories\n",
    "top_repos = created_closed.groupby(['repo']).sum().sort_values(by='count', ascending=False).head(10).index\n",
    "ch = alt.Chart(created_closed.query('repo in @top_repos'), width=120).mark_bar().encode(\n",
    "    x=alt.X(\"kind\", axis=alt.Axis(labelFontSize=15, title=\"\")), \n",
    "    y=alt.Y('count', axis=alt.Axis(titleFontSize=15, labelFontSize=12)),\n",
    "    color='kind',\n",
    "    column=alt.Column(\"repo\", header=alt.Header(title=f\"Issue activity, last {n_days} days for {github_org}\", titleFontSize=15, labelFontSize=12))\n",
    ")\n",
    "ch"
   ]
  },
  {
   "cell_type": "code",
   "execution_count": 18,
   "metadata": {
    "execution": {
     "iopub.execute_input": "2020-10-25T01:45:25.877056Z",
     "iopub.status.busy": "2020-10-25T01:45:25.876460Z",
     "iopub.status.idle": "2020-10-25T01:45:25.878872Z",
     "shell.execute_reply": "2020-10-25T01:45:25.878358Z"
    },
    "papermill": {
     "duration": 0.052928,
     "end_time": "2020-10-25T01:45:25.879031",
     "exception": false,
     "start_time": "2020-10-25T01:45:25.826103",
     "status": "completed"
    },
    "tags": [
     "remove_cell"
    ]
   },
   "outputs": [],
   "source": [
    "# Set to datetime\n",
    "for kind in ['createdAt', 'closedAt']:\n",
    "    closed.loc[:, kind] = pd.to_datetime(closed[kind])\n",
    "    \n",
    "closed.loc[:, 'time_open'] = closed['closedAt'] - closed['createdAt']\n",
    "closed.loc[:, 'time_open'] = closed['time_open'].dt.total_seconds()"
   ]
  },
  {
   "cell_type": "code",
   "execution_count": 19,
   "metadata": {
    "execution": {
     "iopub.execute_input": "2020-10-25T01:45:25.977222Z",
     "iopub.status.busy": "2020-10-25T01:45:25.976733Z",
     "iopub.status.idle": "2020-10-25T01:45:25.979286Z",
     "shell.execute_reply": "2020-10-25T01:45:25.979647Z"
    },
    "papermill": {
     "duration": 0.064342,
     "end_time": "2020-10-25T01:45:25.979800",
     "exception": false,
     "start_time": "2020-10-25T01:45:25.915458",
     "status": "completed"
    },
    "tags": [
     "hide_input"
    ]
   },
   "outputs": [
    {
     "data": {
      "text/html": [
       "\n",
       "<div id=\"altair-viz-f33614e4505948ff9a9587dae7692484\"></div>\n",
       "<script type=\"text/javascript\">\n",
       "  (function(spec, embedOpt){\n",
       "    let outputDiv = document.currentScript.previousElementSibling;\n",
       "    if (outputDiv.id !== \"altair-viz-f33614e4505948ff9a9587dae7692484\") {\n",
       "      outputDiv = document.getElementById(\"altair-viz-f33614e4505948ff9a9587dae7692484\");\n",
       "    }\n",
       "    const paths = {\n",
       "      \"vega\": \"https://cdn.jsdelivr.net/npm//vega@5?noext\",\n",
       "      \"vega-lib\": \"https://cdn.jsdelivr.net/npm//vega-lib?noext\",\n",
       "      \"vega-lite\": \"https://cdn.jsdelivr.net/npm//vega-lite@4.8.1?noext\",\n",
       "      \"vega-embed\": \"https://cdn.jsdelivr.net/npm//vega-embed@6?noext\",\n",
       "    };\n",
       "\n",
       "    function loadScript(lib) {\n",
       "      return new Promise(function(resolve, reject) {\n",
       "        var s = document.createElement('script');\n",
       "        s.src = paths[lib];\n",
       "        s.async = true;\n",
       "        s.onload = () => resolve(paths[lib]);\n",
       "        s.onerror = () => reject(`Error loading script: ${paths[lib]}`);\n",
       "        document.getElementsByTagName(\"head\")[0].appendChild(s);\n",
       "      });\n",
       "    }\n",
       "\n",
       "    function showError(err) {\n",
       "      outputDiv.innerHTML = `<div class=\"error\" style=\"color:red;\">${err}</div>`;\n",
       "      throw err;\n",
       "    }\n",
       "\n",
       "    function displayChart(vegaEmbed) {\n",
       "      vegaEmbed(outputDiv, spec, embedOpt)\n",
       "        .catch(err => showError(`Javascript Error: ${err.message}<br>This usually means there's a typo in your chart specification. See the javascript console for the full traceback.`));\n",
       "    }\n",
       "\n",
       "    if(typeof define === \"function\" && define.amd) {\n",
       "      requirejs.config({paths});\n",
       "      require([\"vega-embed\"], displayChart, err => showError(`Error loading script: ${err.message}`));\n",
       "    } else if (typeof vegaEmbed === \"function\") {\n",
       "      displayChart(vegaEmbed);\n",
       "    } else {\n",
       "      loadScript(\"vega\")\n",
       "        .then(() => loadScript(\"vega-lite\"))\n",
       "        .then(() => loadScript(\"vega-embed\"))\n",
       "        .catch(showError)\n",
       "        .then(() => displayChart(vegaEmbed));\n",
       "    }\n",
       "  })({\"config\": {\"axisLeft\": {\"labelFontSize\": 15}, \"axisBottom\": {\"labelFontSize\": 15}}, \"data\": {\"name\": \"data-1769159c0668829468125e1140a1fa1e\"}, \"mark\": \"bar\", \"encoding\": {\"x\": {\"type\": \"nominal\", \"field\": \"repo\", \"sort\": [\"ipyparallel\", \"traitlets\", \"ipykernel\", \"ipython\"]}, \"y\": {\"type\": \"quantitative\", \"field\": \"time_open\", \"title\": \"Median Days Open\"}}, \"title\": \"Time to close for issues closed in the last 60 days\", \"$schema\": \"https://vega.github.io/schema/vega-lite/v4.8.1.json\", \"datasets\": {\"data-1769159c0668829468125e1140a1fa1e\": [{\"org\": \"ipython\", \"repo\": \"ipykernel\", \"time_open\": 3.6608738425925926, \"org/repo\": \"ipython/ipykernel\"}, {\"org\": \"ipython\", \"repo\": \"ipyparallel\", \"time_open\": 218.0558912037037, \"org/repo\": \"ipython/ipyparallel\"}, {\"org\": \"ipython\", \"repo\": \"ipython\", \"time_open\": 3.3332175925925926, \"org/repo\": \"ipython/ipython\"}, {\"org\": \"ipython\", \"repo\": \"traitlets\", \"time_open\": 7.819375, \"org/repo\": \"ipython/traitlets\"}]}}, {\"mode\": \"vega-lite\"});\n",
       "</script>"
      ],
      "text/plain": [
       "alt.Chart(...)"
      ]
     },
     "execution_count": 19,
     "metadata": {},
     "output_type": "execute_result"
    }
   ],
   "source": [
    "time_open = closed.groupby(['org', 'repo']).agg({'time_open': 'median'}).reset_index()\n",
    "time_open['time_open'] = time_open['time_open'] / (60 * 60 * 24)\n",
    "time_open['org/repo'] = time_open.apply(lambda a: a['org'] + '/' + a['repo'], axis=1)\n",
    "sorted_vals = time_open.sort_values(['org', 'time_open'], ascending=False)['repo'].values\n",
    "alt.Chart(data=time_open, title=f\"Time to close for issues closed in the last {n_days} days\").mark_bar().encode(\n",
    "    x=alt.X('repo', sort=alt.Sort(sorted_vals.tolist())),\n",
    "    y=alt.Y('time_open', title=\"Median Days Open\"),\n",
    ")"
   ]
  },
  {
   "cell_type": "markdown",
   "metadata": {
    "papermill": {
     "duration": 0.03899,
     "end_time": "2020-10-25T01:45:26.055418",
     "exception": false,
     "start_time": "2020-10-25T01:45:26.016428",
     "status": "completed"
    },
    "tags": []
   },
   "source": [
    "## Most-upvoted issues"
   ]
  },
  {
   "cell_type": "code",
   "execution_count": 20,
   "metadata": {
    "execution": {
     "iopub.execute_input": "2020-10-25T01:45:26.135911Z",
     "iopub.status.busy": "2020-10-25T01:45:26.135351Z",
     "iopub.status.idle": "2020-10-25T01:45:26.160281Z",
     "shell.execute_reply": "2020-10-25T01:45:26.159691Z"
    },
    "papermill": {
     "duration": 0.068033,
     "end_time": "2020-10-25T01:45:26.160452",
     "exception": false,
     "start_time": "2020-10-25T01:45:26.092419",
     "status": "completed"
    },
    "tags": [
     "hide_input"
    ]
   },
   "outputs": [
    {
     "data": {
      "application/vnd.jupyter.widget-view+json": {
       "model_id": "72579a1c7e294087aa101113beaab995",
       "version_major": 2,
       "version_minor": 0
      },
      "text/plain": [
       "HTML(value='<ul>\\n<li>(10) 7.18.0 crash when autocompleting - ipython - <a href=\"https://github.com/ipython/ip…"
      ]
     },
     "metadata": {},
     "output_type": "display_data"
    }
   ],
   "source": [
    "thumbsup = data.query(\"state=='OPEN' and kind == 'issue'\").sort_values(\"thumbsup\", ascending=False).head(25)\n",
    "thumbsup = thumbsup[[\"title\", \"url\", \"number\", \"thumbsup\", \"repo\"]]\n",
    "\n",
    "text = []\n",
    "for ii, irow in thumbsup.iterrows():\n",
    "    itext = f\"- ({irow['thumbsup']}) {irow['title']} - {irow['repo']} - [#{irow['number']}]({irow['url']})\"\n",
    "    text.append(itext)\n",
    "text = '\\n'.join(text)\n",
    "HTML(markdown(text))"
   ]
  },
  {
   "cell_type": "markdown",
   "metadata": {
    "papermill": {
     "duration": 0.038074,
     "end_time": "2020-10-25T01:45:26.236814",
     "exception": false,
     "start_time": "2020-10-25T01:45:26.198740",
     "status": "completed"
    },
    "tags": []
   },
   "source": [
    "## Commenters across repositories\n",
    "\n",
    "These are commenters across all issues and pull requests in the last several days.\n",
    "These are colored by the commenter's association with the organization. For information\n",
    "about what these associations mean, [see this StackOverflow post](https://stackoverflow.com/a/28866914/1927102)."
   ]
  },
  {
   "cell_type": "code",
   "execution_count": 21,
   "metadata": {
    "execution": {
     "iopub.execute_input": "2020-10-25T01:45:26.322962Z",
     "iopub.status.busy": "2020-10-25T01:45:26.321895Z",
     "iopub.status.idle": "2020-10-25T01:45:26.333730Z",
     "shell.execute_reply": "2020-10-25T01:45:26.332523Z"
    },
    "papermill": {
     "duration": 0.058943,
     "end_time": "2020-10-25T01:45:26.333886",
     "exception": false,
     "start_time": "2020-10-25T01:45:26.274943",
     "status": "completed"
    },
    "tags": [
     "remove_cell"
    ]
   },
   "outputs": [],
   "source": [
    "commentors = (\n",
    "    comments\n",
    "    .query(\"createdAt > @start_date and createdAt < @stop_date\")\n",
    "    .groupby(['org', 'repo', 'author', 'authorAssociation'])\n",
    "    .count().rename(columns={'id': 'count'})['count']\n",
    "    .reset_index()\n",
    "    .sort_values(['org', 'count'], ascending=False)\n",
    ")"
   ]
  },
  {
   "cell_type": "code",
   "execution_count": 22,
   "metadata": {
    "execution": {
     "iopub.execute_input": "2020-10-25T01:45:26.443752Z",
     "iopub.status.busy": "2020-10-25T01:45:26.443110Z",
     "iopub.status.idle": "2020-10-25T01:45:26.445554Z",
     "shell.execute_reply": "2020-10-25T01:45:26.446059Z"
    },
    "papermill": {
     "duration": 0.069939,
     "end_time": "2020-10-25T01:45:26.446247",
     "exception": false,
     "start_time": "2020-10-25T01:45:26.376308",
     "status": "completed"
    },
    "tags": [
     "hide_input"
    ]
   },
   "outputs": [
    {
     "data": {
      "text/html": [
       "\n",
       "<div id=\"altair-viz-a0d9d4eb474b4a62b702233deb6fde5c\"></div>\n",
       "<script type=\"text/javascript\">\n",
       "  (function(spec, embedOpt){\n",
       "    let outputDiv = document.currentScript.previousElementSibling;\n",
       "    if (outputDiv.id !== \"altair-viz-a0d9d4eb474b4a62b702233deb6fde5c\") {\n",
       "      outputDiv = document.getElementById(\"altair-viz-a0d9d4eb474b4a62b702233deb6fde5c\");\n",
       "    }\n",
       "    const paths = {\n",
       "      \"vega\": \"https://cdn.jsdelivr.net/npm//vega@5?noext\",\n",
       "      \"vega-lib\": \"https://cdn.jsdelivr.net/npm//vega-lib?noext\",\n",
       "      \"vega-lite\": \"https://cdn.jsdelivr.net/npm//vega-lite@4.8.1?noext\",\n",
       "      \"vega-embed\": \"https://cdn.jsdelivr.net/npm//vega-embed@6?noext\",\n",
       "    };\n",
       "\n",
       "    function loadScript(lib) {\n",
       "      return new Promise(function(resolve, reject) {\n",
       "        var s = document.createElement('script');\n",
       "        s.src = paths[lib];\n",
       "        s.async = true;\n",
       "        s.onload = () => resolve(paths[lib]);\n",
       "        s.onerror = () => reject(`Error loading script: ${paths[lib]}`);\n",
       "        document.getElementsByTagName(\"head\")[0].appendChild(s);\n",
       "      });\n",
       "    }\n",
       "\n",
       "    function showError(err) {\n",
       "      outputDiv.innerHTML = `<div class=\"error\" style=\"color:red;\">${err}</div>`;\n",
       "      throw err;\n",
       "    }\n",
       "\n",
       "    function displayChart(vegaEmbed) {\n",
       "      vegaEmbed(outputDiv, spec, embedOpt)\n",
       "        .catch(err => showError(`Javascript Error: ${err.message}<br>This usually means there's a typo in your chart specification. See the javascript console for the full traceback.`));\n",
       "    }\n",
       "\n",
       "    if(typeof define === \"function\" && define.amd) {\n",
       "      requirejs.config({paths});\n",
       "      require([\"vega-embed\"], displayChart, err => showError(`Error loading script: ${err.message}`));\n",
       "    } else if (typeof vegaEmbed === \"function\") {\n",
       "      displayChart(vegaEmbed);\n",
       "    } else {\n",
       "      loadScript(\"vega\")\n",
       "        .then(() => loadScript(\"vega-lite\"))\n",
       "        .then(() => loadScript(\"vega-embed\"))\n",
       "        .catch(showError)\n",
       "        .then(() => displayChart(vegaEmbed));\n",
       "    }\n",
       "  })({\"config\": {\"axisLeft\": {\"labelFontSize\": 15}, \"axisBottom\": {\"labelFontSize\": 15}}, \"hconcat\": [{\"mark\": \"bar\", \"encoding\": {\"color\": {\"type\": \"nominal\", \"field\": \"authorAssociation\", \"scale\": {\"domain\": [\"MEMBER\", \"CONTRIBUTOR\", \"COLLABORATOR\", \"NONE\"], \"range\": [\"rgb(211.82745098039214, 211.82745098039214, 211.82745098039214)\", \"rgb(166.98562091503268, 229.89803921568628, 166.98562091503268)\", \"rgb(96.37647058823529, 192.75294117647059, 96.37647058823529)\", \"rgb(0.0, 100.3921568627451, 0.0)\"]}}, \"x\": {\"type\": \"nominal\", \"field\": \"author\"}, \"y\": {\"type\": \"quantitative\", \"field\": \"count\"}}, \"title\": \"Top 50 commentors for ipython in the last 60 days\"}], \"data\": {\"name\": \"data-49b43ea9558cb315be5b7bf6a039acc7\"}, \"$schema\": \"https://vega.github.io/schema/vega-lite/v4.8.1.json\", \"datasets\": {\"data-49b43ea9558cb315be5b7bf6a039acc7\": [{\"author\": \"Carreau\", \"count\": 97, \"authorAssociation\": \"MEMBER\"}, {\"author\": \"minrk\", \"count\": 30, \"authorAssociation\": \"MEMBER\"}, {\"author\": \"blink1073\", \"count\": 18, \"authorAssociation\": \"MEMBER\"}, {\"author\": \"rmorshea\", \"count\": 15, \"authorAssociation\": \"COLLABORATOR\"}, {\"author\": \"sumagnadas\", \"count\": 9, \"authorAssociation\": \"NONE\"}, {\"author\": \"mskar\", \"count\": 8, \"authorAssociation\": \"NONE\"}, {\"author\": \"OdinTech3\", \"count\": 6, \"authorAssociation\": \"CONTRIBUTOR\"}, {\"author\": \"IanMatthewHuff\", \"count\": 6, \"authorAssociation\": \"NONE\"}, {\"author\": \"davbrito\", \"count\": 5, \"authorAssociation\": \"NONE\"}, {\"author\": \"ashwinvis\", \"count\": 5, \"authorAssociation\": \"CONTRIBUTOR\"}, {\"author\": \"meeseeksdev\", \"count\": 5, \"authorAssociation\": \"CONTRIBUTOR\"}, {\"author\": \"jetpacktuxedo\", \"count\": 4, \"authorAssociation\": \"NONE\"}, {\"author\": \"MrMino\", \"count\": 4, \"authorAssociation\": \"CONTRIBUTOR\"}, {\"author\": \"blazespinnaker\", \"count\": 4, \"authorAssociation\": \"NONE\"}, {\"author\": \"dhirschfeld\", \"count\": 3, \"authorAssociation\": \"CONTRIBUTOR\"}, {\"author\": \"diego-capyba\", \"count\": 3, \"authorAssociation\": \"NONE\"}, {\"author\": \"digitalvirtuoso\", \"count\": 3, \"authorAssociation\": \"CONTRIBUTOR\"}, {\"author\": \"maartenbreddels\", \"count\": 3, \"authorAssociation\": \"CONTRIBUTOR\"}, {\"author\": \"farisachugthai\", \"count\": 3, \"authorAssociation\": \"CONTRIBUTOR\"}, {\"author\": \"hehelego\", \"count\": 3, \"authorAssociation\": \"NONE\"}, {\"author\": \"jpavlav\", \"count\": 3, \"authorAssociation\": \"CONTRIBUTOR\"}, {\"author\": \"lwasser\", \"count\": 3, \"authorAssociation\": \"NONE\"}, {\"author\": \"ncasedockerci\", \"count\": 2, \"authorAssociation\": \"NONE\"}, {\"author\": \"jnahmias\", \"count\": 2, \"authorAssociation\": \"NONE\"}, {\"author\": \"scarlehoff\", \"count\": 2, \"authorAssociation\": \"CONTRIBUTOR\"}, {\"author\": \"johentsch\", \"count\": 2, \"authorAssociation\": \"NONE\"}, {\"author\": \"kakila\", \"count\": 2, \"authorAssociation\": \"NONE\"}, {\"author\": \"zazezizozu\", \"count\": 2, \"authorAssociation\": \"NONE\"}, {\"author\": \"ccordoba12\", \"count\": 2, \"authorAssociation\": \"MEMBER\"}, {\"author\": \"asford\", \"count\": 2, \"authorAssociation\": \"NONE\"}, {\"author\": \"yuanfulou\", \"count\": 2, \"authorAssociation\": \"NONE\"}, {\"author\": \"Creonalia\", \"count\": 2, \"authorAssociation\": \"NONE\"}, {\"author\": \"Zsailer\", \"count\": 2, \"authorAssociation\": \"NONE\"}, {\"author\": \"andreamoro\", \"count\": 2, \"authorAssociation\": \"NONE\"}, {\"author\": \"terrdavis\", \"count\": 2, \"authorAssociation\": \"CONTRIBUTOR\"}, {\"author\": \"akhmerov\", \"count\": 2, \"authorAssociation\": \"MEMBER\"}, {\"author\": \"ashkop\", \"count\": 2, \"authorAssociation\": \"NONE\"}, {\"author\": \"szarroug3\", \"count\": 2, \"authorAssociation\": \"NONE\"}, {\"author\": \"csala\", \"count\": 2, \"authorAssociation\": \"NONE\"}, {\"author\": \"romulofff\", \"count\": 1, \"authorAssociation\": \"CONTRIBUTOR\"}, {\"author\": \"rahulporuri\", \"count\": 1, \"authorAssociation\": \"CONTRIBUTOR\"}, {\"author\": \"opoplawski\", \"count\": 1, \"authorAssociation\": \"NONE\"}, {\"author\": \"slel\", \"count\": 1, \"authorAssociation\": \"CONTRIBUTOR\"}, {\"author\": \"t1anchen\", \"count\": 1, \"authorAssociation\": \"NONE\"}, {\"author\": \"tqa236\", \"count\": 1, \"authorAssociation\": \"NONE\"}, {\"author\": \"urianchang\", \"count\": 1, \"authorAssociation\": \"NONE\"}, {\"author\": \"vidartf\", \"count\": 1, \"authorAssociation\": \"CONTRIBUTOR\"}, {\"author\": \"martinRenou\", \"count\": 1, \"authorAssociation\": \"CONTRIBUTOR\"}, {\"author\": \"vladox\", \"count\": 1, \"authorAssociation\": \"NONE\"}, {\"author\": \"wozniakty\", \"count\": 1, \"authorAssociation\": \"NONE\"}]}}, {\"mode\": \"vega-lite\"});\n",
       "</script>"
      ],
      "text/plain": [
       "alt.HConcatChart(...)"
      ]
     },
     "execution_count": 22,
     "metadata": {},
     "output_type": "execute_result"
    }
   ],
   "source": [
    "n_plot = 50\n",
    "charts = []\n",
    "for ii, (iorg, idata) in enumerate(commentors.groupby(['org'])):\n",
    "    title = f\"Top {n_plot} commentors for {iorg} in the last {n_days} days\"\n",
    "    idata = idata.groupby('author', as_index=False).agg({'count': 'sum', 'authorAssociation': 'first'})\n",
    "    idata = idata.sort_values('count', ascending=False).head(n_plot)\n",
    "    ch = alt.Chart(data=idata.head(n_plot), title=title).mark_bar().encode(\n",
    "        x='author',\n",
    "        y='count',\n",
    "        color=alt.Color('authorAssociation', scale=alt.Scale(domain=author_types, range=author_colors))\n",
    "    )\n",
    "    charts.append(ch)\n",
    "alt.hconcat(*charts)"
   ]
  },
  {
   "cell_type": "markdown",
   "metadata": {
    "papermill": {
     "duration": 0.039522,
     "end_time": "2020-10-25T01:45:26.524879",
     "exception": false,
     "start_time": "2020-10-25T01:45:26.485357",
     "status": "completed"
    },
    "tags": []
   },
   "source": [
    "## First responders\n",
    "\n",
    "First responders are the first people to respond to a new issue in one of the repositories.\n",
    "The following plots show first responders for recently-created issues."
   ]
  },
  {
   "cell_type": "code",
   "execution_count": 23,
   "metadata": {
    "execution": {
     "iopub.execute_input": "2020-10-25T01:45:26.609234Z",
     "iopub.status.busy": "2020-10-25T01:45:26.608675Z",
     "iopub.status.idle": "2020-10-25T01:45:26.722500Z",
     "shell.execute_reply": "2020-10-25T01:45:26.721584Z"
    },
    "papermill": {
     "duration": 0.160179,
     "end_time": "2020-10-25T01:45:26.722726",
     "exception": false,
     "start_time": "2020-10-25T01:45:26.562547",
     "status": "completed"
    },
    "tags": [
     "remove_cell"
    ]
   },
   "outputs": [],
   "source": [
    "first_comments = []\n",
    "for (org, repo, issue_id), i_comments in comments.groupby(['org', 'repo', 'id']):\n",
    "    ix_min = pd.to_datetime(i_comments['createdAt']).idxmin()\n",
    "    first_comment = i_comments.loc[ix_min]\n",
    "    if isinstance(first_comment, pd.DataFrame):\n",
    "        first_comment = first_comment.iloc[0]\n",
    "    first_comments.append(first_comment)\n",
    "first_comments = pd.concat(first_comments, axis=1).T\n",
    "\n",
    "# Make up counts for viz\n",
    "first_responder_counts = first_comments.groupby(['org', 'author', 'authorAssociation'], as_index=False).\\\n",
    "    count().rename(columns={'id': 'n_first_responses'}).sort_values(['org', 'n_first_responses'], ascending=False)\n"
   ]
  },
  {
   "cell_type": "code",
   "execution_count": 24,
   "metadata": {
    "execution": {
     "iopub.execute_input": "2020-10-25T01:45:26.830845Z",
     "iopub.status.busy": "2020-10-25T01:45:26.830223Z",
     "iopub.status.idle": "2020-10-25T01:45:26.836947Z",
     "shell.execute_reply": "2020-10-25T01:45:26.837355Z"
    },
    "papermill": {
     "duration": 0.072591,
     "end_time": "2020-10-25T01:45:26.837534",
     "exception": false,
     "start_time": "2020-10-25T01:45:26.764943",
     "status": "completed"
    },
    "tags": [
     "hide_input"
    ]
   },
   "outputs": [
    {
     "data": {
      "text/html": [
       "\n",
       "<div id=\"altair-viz-e280f179309a4780bb708054691f4cdf\"></div>\n",
       "<script type=\"text/javascript\">\n",
       "  (function(spec, embedOpt){\n",
       "    let outputDiv = document.currentScript.previousElementSibling;\n",
       "    if (outputDiv.id !== \"altair-viz-e280f179309a4780bb708054691f4cdf\") {\n",
       "      outputDiv = document.getElementById(\"altair-viz-e280f179309a4780bb708054691f4cdf\");\n",
       "    }\n",
       "    const paths = {\n",
       "      \"vega\": \"https://cdn.jsdelivr.net/npm//vega@5?noext\",\n",
       "      \"vega-lib\": \"https://cdn.jsdelivr.net/npm//vega-lib?noext\",\n",
       "      \"vega-lite\": \"https://cdn.jsdelivr.net/npm//vega-lite@4.8.1?noext\",\n",
       "      \"vega-embed\": \"https://cdn.jsdelivr.net/npm//vega-embed@6?noext\",\n",
       "    };\n",
       "\n",
       "    function loadScript(lib) {\n",
       "      return new Promise(function(resolve, reject) {\n",
       "        var s = document.createElement('script');\n",
       "        s.src = paths[lib];\n",
       "        s.async = true;\n",
       "        s.onload = () => resolve(paths[lib]);\n",
       "        s.onerror = () => reject(`Error loading script: ${paths[lib]}`);\n",
       "        document.getElementsByTagName(\"head\")[0].appendChild(s);\n",
       "      });\n",
       "    }\n",
       "\n",
       "    function showError(err) {\n",
       "      outputDiv.innerHTML = `<div class=\"error\" style=\"color:red;\">${err}</div>`;\n",
       "      throw err;\n",
       "    }\n",
       "\n",
       "    function displayChart(vegaEmbed) {\n",
       "      vegaEmbed(outputDiv, spec, embedOpt)\n",
       "        .catch(err => showError(`Javascript Error: ${err.message}<br>This usually means there's a typo in your chart specification. See the javascript console for the full traceback.`));\n",
       "    }\n",
       "\n",
       "    if(typeof define === \"function\" && define.amd) {\n",
       "      requirejs.config({paths});\n",
       "      require([\"vega-embed\"], displayChart, err => showError(`Error loading script: ${err.message}`));\n",
       "    } else if (typeof vegaEmbed === \"function\") {\n",
       "      displayChart(vegaEmbed);\n",
       "    } else {\n",
       "      loadScript(\"vega\")\n",
       "        .then(() => loadScript(\"vega-lite\"))\n",
       "        .then(() => loadScript(\"vega-embed\"))\n",
       "        .catch(showError)\n",
       "        .then(() => displayChart(vegaEmbed));\n",
       "    }\n",
       "  })({\"config\": {\"axisLeft\": {\"labelFontSize\": 15}, \"axisBottom\": {\"labelFontSize\": 15}}, \"data\": {\"name\": \"data-939699906eb0d8143b0440e44ae97787\"}, \"mark\": \"bar\", \"encoding\": {\"color\": {\"type\": \"nominal\", \"field\": \"authorAssociation\", \"scale\": {\"domain\": [\"MEMBER\", \"CONTRIBUTOR\", \"COLLABORATOR\", \"NONE\"], \"range\": [\"rgb(211.82745098039214, 211.82745098039214, 211.82745098039214)\", \"rgb(166.98562091503268, 229.89803921568628, 166.98562091503268)\", \"rgb(96.37647058823529, 192.75294117647059, 96.37647058823529)\", \"rgb(0.0, 100.3921568627451, 0.0)\"]}}, \"x\": {\"type\": \"nominal\", \"field\": \"author\"}, \"y\": {\"type\": \"quantitative\", \"field\": \"n_first_responses\"}}, \"title\": \"Top 50 first responders for ipython in the last 60 days\", \"$schema\": \"https://vega.github.io/schema/vega-lite/v4.8.1.json\", \"datasets\": {\"data-939699906eb0d8143b0440e44ae97787\": [{\"author\": \"Carreau\", \"n_first_responses\": 53, \"authorAssociation\": \"MEMBER\"}, {\"author\": \"minrk\", \"n_first_responses\": 8, \"authorAssociation\": \"MEMBER\"}, {\"author\": \"rmorshea\", \"n_first_responses\": 7, \"authorAssociation\": \"COLLABORATOR\"}, {\"author\": \"blink1073\", \"n_first_responses\": 4, \"authorAssociation\": \"MEMBER\"}, {\"author\": \"meeseeksdev\", \"n_first_responses\": 4, \"authorAssociation\": \"CONTRIBUTOR\"}, {\"author\": \"jetpacktuxedo\", \"n_first_responses\": 3, \"authorAssociation\": \"NONE\"}, {\"author\": \"OdinTech3\", \"n_first_responses\": 2, \"authorAssociation\": \"CONTRIBUTOR\"}, {\"author\": \"mskar\", \"n_first_responses\": 2, \"authorAssociation\": \"NONE\"}, {\"author\": \"ashwinvis\", \"n_first_responses\": 2, \"authorAssociation\": \"CONTRIBUTOR\"}, {\"author\": \"SylvainCorlay\", \"n_first_responses\": 2, \"authorAssociation\": \"MEMBER\"}, {\"author\": \"ncasedockerci\", \"n_first_responses\": 2, \"authorAssociation\": \"NONE\"}, {\"author\": \"jnahmias\", \"n_first_responses\": 2, \"authorAssociation\": \"NONE\"}, {\"author\": \"ccordoba12\", \"n_first_responses\": 2, \"authorAssociation\": \"MEMBER\"}, {\"author\": \"davbrito\", \"n_first_responses\": 2, \"authorAssociation\": \"NONE\"}, {\"author\": \"szarroug3\", \"n_first_responses\": 2, \"authorAssociation\": \"NONE\"}, {\"author\": \"romulofff\", \"n_first_responses\": 1, \"authorAssociation\": \"CONTRIBUTOR\"}, {\"author\": \"nklever\", \"n_first_responses\": 1, \"authorAssociation\": \"NONE\"}, {\"author\": \"rahulporuri\", \"n_first_responses\": 1, \"authorAssociation\": \"CONTRIBUTOR\"}, {\"author\": \"Creonalia\", \"n_first_responses\": 1, \"authorAssociation\": \"NONE\"}, {\"author\": \"sumagnadas\", \"n_first_responses\": 1, \"authorAssociation\": \"NONE\"}, {\"author\": \"scarlehoff\", \"n_first_responses\": 1, \"authorAssociation\": \"CONTRIBUTOR\"}, {\"author\": \"slel\", \"n_first_responses\": 1, \"authorAssociation\": \"CONTRIBUTOR\"}, {\"author\": \"IlnarSelimcan\", \"n_first_responses\": 1, \"authorAssociation\": \"NONE\"}, {\"author\": \"takluyver\", \"n_first_responses\": 1, \"authorAssociation\": \"MEMBER\"}, {\"author\": \"terrdavis\", \"n_first_responses\": 1, \"authorAssociation\": \"CONTRIBUTOR\"}, {\"author\": \"tqa236\", \"n_first_responses\": 1, \"authorAssociation\": \"NONE\"}, {\"author\": \"urianchang\", \"n_first_responses\": 1, \"authorAssociation\": \"NONE\"}, {\"author\": \"wozniakty\", \"n_first_responses\": 1, \"authorAssociation\": \"NONE\"}, {\"author\": \"IanMatthewHuff\", \"n_first_responses\": 1, \"authorAssociation\": \"NONE\"}, {\"author\": \"kokostek\", \"n_first_responses\": 1, \"authorAssociation\": \"NONE\"}, {\"author\": \"martinRenou\", \"n_first_responses\": 1, \"authorAssociation\": \"CONTRIBUTOR\"}, {\"author\": \"digitalvirtuoso\", \"n_first_responses\": 1, \"authorAssociation\": \"CONTRIBUTOR\"}, {\"author\": \"ankostis\", \"n_first_responses\": 1, \"authorAssociation\": \"CONTRIBUTOR\"}, {\"author\": \"baogianghoangvu\", \"n_first_responses\": 1, \"authorAssociation\": \"NONE\"}, {\"author\": \"blazespinnaker\", \"n_first_responses\": 1, \"authorAssociation\": \"NONE\"}, {\"author\": \"MrMino\", \"n_first_responses\": 1, \"authorAssociation\": \"CONTRIBUTOR\"}, {\"author\": \"deep-jkl\", \"n_first_responses\": 1, \"authorAssociation\": \"NONE\"}, {\"author\": \"dhirschfeld\", \"n_first_responses\": 1, \"authorAssociation\": \"CONTRIBUTOR\"}, {\"author\": \"farisachugthai\", \"n_first_responses\": 1, \"authorAssociation\": \"CONTRIBUTOR\"}, {\"author\": \"maartenbreddels\", \"n_first_responses\": 1, \"authorAssociation\": \"CONTRIBUTOR\"}, {\"author\": \"ghostcodekc\", \"n_first_responses\": 1, \"authorAssociation\": \"NONE\"}, {\"author\": \"hehelego\", \"n_first_responses\": 1, \"authorAssociation\": \"NONE\"}, {\"author\": \"hroncok\", \"n_first_responses\": 1, \"authorAssociation\": \"CONTRIBUTOR\"}, {\"author\": \"infokiller\", \"n_first_responses\": 1, \"authorAssociation\": \"NONE\"}, {\"author\": \"ChiefsBestPal\", \"n_first_responses\": 1, \"authorAssociation\": \"NONE\"}, {\"author\": \"jpavlav\", \"n_first_responses\": 1, \"authorAssociation\": \"CONTRIBUTOR\"}, {\"author\": \"ylive001\", \"n_first_responses\": 1, \"authorAssociation\": \"NONE\"}]}}, {\"mode\": \"vega-lite\"});\n",
       "</script>"
      ],
      "text/plain": [
       "alt.Chart(...)"
      ]
     },
     "execution_count": 24,
     "metadata": {},
     "output_type": "execute_result"
    }
   ],
   "source": [
    "n_plot = 50\n",
    "\n",
    "title = f\"Top {n_plot} first responders for {github_org} in the last {n_days} days\"\n",
    "idata = first_responder_counts.groupby('author', as_index=False).agg({'n_first_responses': 'sum', 'authorAssociation': 'first'})\n",
    "idata = idata.sort_values('n_first_responses', ascending=False).head(n_plot)\n",
    "ch = alt.Chart(data=idata.head(n_plot), title=title).mark_bar().encode(\n",
    "    x='author',\n",
    "    y='n_first_responses',\n",
    "    color=alt.Color('authorAssociation', scale=alt.Scale(domain=author_types, range=author_colors))\n",
    ")\n",
    "ch"
   ]
  },
  {
   "cell_type": "markdown",
   "metadata": {
    "papermill": {
     "duration": 0.039973,
     "end_time": "2020-10-25T01:45:26.919435",
     "exception": false,
     "start_time": "2020-10-25T01:45:26.879462",
     "status": "completed"
    },
    "tags": []
   },
   "source": [
    "## Recent activity\n",
    "\n",
    "### A list of merged PRs by project\n",
    "\n",
    "Below is a tabbed readout of recently-merged PRs. Check out the title to get an idea for what they\n",
    "implemented, and be sure to thank the PR author for their hard work!"
   ]
  },
  {
   "cell_type": "code",
   "execution_count": 25,
   "metadata": {
    "execution": {
     "iopub.execute_input": "2020-10-25T01:45:27.022417Z",
     "iopub.status.busy": "2020-10-25T01:45:27.021876Z",
     "iopub.status.idle": "2020-10-25T01:45:27.127449Z",
     "shell.execute_reply": "2020-10-25T01:45:27.117689Z"
    },
    "papermill": {
     "duration": 0.171014,
     "end_time": "2020-10-25T01:45:27.127606",
     "exception": false,
     "start_time": "2020-10-25T01:45:26.956592",
     "status": "completed"
    },
    "tags": [
     "hide_input"
    ]
   },
   "outputs": [
    {
     "data": {
      "application/vnd.jupyter.widget-view+json": {
       "model_id": "44e26b2127cd4c128f978cf3506c557e",
       "version_major": 2,
       "version_minor": 0
      },
      "text/plain": [
       "Tab(children=(HTML(value='<h4>Closed PRs for repo: <a href=\"https://github.com/ipython/ipykernel\">ipython/ipyk…"
      ]
     },
     "metadata": {},
     "output_type": "display_data"
    }
   ],
   "source": [
    "tabs = widgets.Tab(children=[])\n",
    "\n",
    "for ii, ((org, repo), imerged) in enumerate(merged.query(\"repo in @use_repos\").groupby(['org', 'repo'])):\n",
    "    merged_by = {}\n",
    "    pr_by = {}\n",
    "    issue_md = []\n",
    "    issue_md.append(f\"#### Closed PRs for repo: [{org}/{repo}](https://github.com/{github_org}/{repo})\")\n",
    "    issue_md.append(\"\")\n",
    "    issue_md.append(f\"##### \")\n",
    "\n",
    "    for _, ipr in imerged.iterrows():\n",
    "        user_name = ipr['author']\n",
    "        user_url = author_url(user_name)\n",
    "        pr_number = ipr['number']\n",
    "        pr_html = ipr['url']\n",
    "        pr_title = ipr['title']\n",
    "        pr_closedby = ipr['mergedBy']\n",
    "        pr_closedby_url = f\"https://github.com/{pr_closedby}\"\n",
    "        if user_name not in pr_by:\n",
    "            pr_by[user_name] = 1\n",
    "        else:\n",
    "            pr_by[user_name] += 1\n",
    "\n",
    "        if pr_closedby not in merged_by:\n",
    "            merged_by[pr_closedby] = 1\n",
    "        else:\n",
    "            merged_by[pr_closedby] += 1\n",
    "        text = f\"* [(#{pr_number})]({pr_html}): _{pr_title}_ by **[@{user_name}]({user_url})** merged by **[@{pr_closedby}]({pr_closedby_url})**\"\n",
    "        issue_md.append(text)\n",
    "    \n",
    "    issue_md.append('')\n",
    "    markdown_html = markdown('\\n'.join(issue_md))\n",
    "\n",
    "    children = list(tabs.children)\n",
    "    children.append(HTML(markdown_html))\n",
    "    tabs.children = tuple(children)\n",
    "    tabs.set_title(ii, repo)\n",
    "tabs"
   ]
  },
  {
   "cell_type": "markdown",
   "metadata": {
    "papermill": {
     "duration": 0.0393,
     "end_time": "2020-10-25T01:45:27.208255",
     "exception": false,
     "start_time": "2020-10-25T01:45:27.168955",
     "status": "completed"
    },
    "tags": []
   },
   "source": [
    "### A list of recent issues\n",
    "\n",
    "Below is a list of issues with recent activity in each repository. If they seem of interest\n",
    "to you, click on their links and jump in to participate!"
   ]
  },
  {
   "cell_type": "code",
   "execution_count": 26,
   "metadata": {
    "execution": {
     "iopub.execute_input": "2020-10-25T01:45:27.303419Z",
     "iopub.status.busy": "2020-10-25T01:45:27.302802Z",
     "iopub.status.idle": "2020-10-25T01:45:27.308115Z",
     "shell.execute_reply": "2020-10-25T01:45:27.308527Z"
    },
    "papermill": {
     "duration": 0.057279,
     "end_time": "2020-10-25T01:45:27.308701",
     "exception": false,
     "start_time": "2020-10-25T01:45:27.251422",
     "status": "completed"
    },
    "tags": [
     "remove_cell"
    ]
   },
   "outputs": [],
   "source": [
    "# Add comment count data to issues and PRs\n",
    "comment_counts = (\n",
    "    comments\n",
    "    .query(\"createdAt > @start_date and createdAt < @stop_date\")\n",
    "    .groupby(['org', 'repo', 'id'])\n",
    "    .count().iloc[:, 0].to_frame()\n",
    ")\n",
    "comment_counts.columns = ['n_comments']\n",
    "comment_counts = comment_counts.reset_index()"
   ]
  },
  {
   "cell_type": "code",
   "execution_count": 27,
   "metadata": {
    "execution": {
     "iopub.execute_input": "2020-10-25T01:45:27.417218Z",
     "iopub.status.busy": "2020-10-25T01:45:27.416714Z",
     "iopub.status.idle": "2020-10-25T01:45:27.592673Z",
     "shell.execute_reply": "2020-10-25T01:45:27.572658Z"
    },
    "papermill": {
     "duration": 0.239053,
     "end_time": "2020-10-25T01:45:27.592826",
     "exception": false,
     "start_time": "2020-10-25T01:45:27.353773",
     "status": "completed"
    },
    "tags": [
     "hide_input"
    ],
    "toc-hr-collapsed": false
   },
   "outputs": [
    {
     "data": {
      "text/markdown": [
       "Here are the top 5 active issues in each repository in the last 60 days"
      ],
      "text/plain": [
       "<IPython.core.display.Markdown object>"
      ]
     },
     "metadata": {},
     "output_type": "display_data"
    },
    {
     "data": {
      "application/vnd.jupyter.widget-view+json": {
       "model_id": "6de98bb12254420e87e1c6092a1c9320",
       "version_major": 2,
       "version_minor": 0
      },
      "text/plain": [
       "Tab(children=(HTML(value='<h5><a href=\"https://github.com/ipython/ipykernel\">ipython/ipykernel</a></h5>\\n<ul>\\…"
      ]
     },
     "metadata": {},
     "output_type": "display_data"
    }
   ],
   "source": [
    "n_plot = 5\n",
    "tabs = widgets.Tab(children=[])\n",
    "\n",
    "for ii, (repo, i_issues) in enumerate(comment_counts.query(\"repo in @use_repos\").groupby('repo')):\n",
    "    \n",
    "    issue_md = []\n",
    "    issue_md.append(\"\")\n",
    "    issue_md.append(f\"##### [{github_org}/{repo}](https://github.com/{github_org}/{repo})\")\n",
    "\n",
    "    top_issues = i_issues.sort_values('n_comments', ascending=False).head(n_plot)\n",
    "    top_issue_list = pd.merge(issues, top_issues, left_on=['org', 'repo', 'id'], right_on=['org', 'repo', 'id'])\n",
    "    for _, issue in top_issue_list.sort_values('n_comments', ascending=False).head(n_plot).iterrows():\n",
    "        user_name = issue['author']\n",
    "        user_url = author_url(user_name)\n",
    "        issue_number = issue['number']\n",
    "        issue_html = issue['url']\n",
    "        issue_title = issue['title']\n",
    "\n",
    "        text = f\"* [(#{issue_number})]({issue_html}): _{issue_title}_ by **[@{user_name}]({user_url})**\"\n",
    "        issue_md.append(text)\n",
    "\n",
    "    issue_md.append('')\n",
    "    md_html = HTML(markdown('\\n'.join(issue_md)))\n",
    "\n",
    "    children = list(tabs.children)\n",
    "    children.append(HTML(markdown('\\n'.join(issue_md))))\n",
    "    tabs.children = tuple(children)\n",
    "    tabs.set_title(ii, repo)\n",
    "    \n",
    "display(Markdown(f\"Here are the top {n_plot} active issues in each repository in the last {n_days} days\"))\n",
    "display(tabs)"
   ]
  }
 ],
 "metadata": {
  "kernelspec": {
   "display_name": "Python 3",
   "language": "python",
   "name": "python3"
  },
  "language_info": {
   "codemirror_mode": {
    "name": "ipython",
    "version": 3
   },
   "file_extension": ".py",
   "mimetype": "text/x-python",
   "name": "python",
   "nbconvert_exporter": "python",
   "pygments_lexer": "ipython3",
   "version": "3.7.9"
  },
  "papermill": {
   "default_parameters": {},
   "duration": 23.489797,
   "end_time": "2020-10-25T01:45:28.146064",
   "environment_variables": {},
   "exception": null,
   "input_path": "./template.ipynb",
   "output_path": "book/ipython.ipynb",
   "parameters": {
    "github_org": "ipython",
    "n_days": 60
   },
   "start_time": "2020-10-25T01:45:04.656267",
   "version": "2.2.0"
  },
  "widgets": {
   "application/vnd.jupyter.widget-state+json": {
    "state": {
     "00b03975ea0c423f9fcf35dd2496982e": {
      "model_module": "@jupyter-widgets/controls",
      "model_module_version": "1.5.0",
      "model_name": "HTMLModel",
      "state": {
       "_dom_classes": [],
       "_model_module": "@jupyter-widgets/controls",
       "_model_module_version": "1.5.0",
       "_model_name": "HTMLModel",
       "_view_count": null,
       "_view_module": "@jupyter-widgets/controls",
       "_view_module_version": "1.5.0",
       "_view_name": "HTMLView",
       "description": "",
       "description_tooltip": null,
       "layout": "IPY_MODEL_a6f549e53d8240608246f08679a99287",
       "placeholder": "​",
       "style": "IPY_MODEL_f28e381f736a44449bb94bfa91b367f7",
       "value": "<h5><a href=\"https://github.com/ipython/xkcd-font\">ipython/xkcd-font</a></h5>\n<ul>\n<li><a href=\"https://github.com/ipython/xkcd-font/issues/33\">(#33)</a>: <em>Support for Tatar</em> by <strong><a href=\"https://github.com/ftyers\">@ftyers</a></strong></li>\n</ul>"
      }
     },
     "0105c5c2cfcc4d5fa81bf9a45262ff47": {
      "model_module": "@jupyter-widgets/controls",
      "model_module_version": "1.5.0",
      "model_name": "DescriptionStyleModel",
      "state": {
       "_model_module": "@jupyter-widgets/controls",
       "_model_module_version": "1.5.0",
       "_model_name": "DescriptionStyleModel",
       "_view_count": null,
       "_view_module": "@jupyter-widgets/base",
       "_view_module_version": "1.2.0",
       "_view_name": "StyleView",
       "description_width": ""
      }
     },
     "065345e775d44f148608bf4051e8c411": {
      "model_module": "@jupyter-widgets/controls",
      "model_module_version": "1.5.0",
      "model_name": "HTMLModel",
      "state": {
       "_dom_classes": [],
       "_model_module": "@jupyter-widgets/controls",
       "_model_module_version": "1.5.0",
       "_model_name": "HTMLModel",
       "_view_count": null,
       "_view_module": "@jupyter-widgets/controls",
       "_view_module_version": "1.5.0",
       "_view_name": "HTMLView",
       "description": "",
       "description_tooltip": null,
       "layout": "IPY_MODEL_2ab33685819e4c9f862ca22838808c2a",
       "placeholder": "​",
       "style": "IPY_MODEL_fe1a54cde4e8408eb47a8b92add0b568",
       "value": "<h5><a href=\"https://github.com/ipython/ipython\">ipython/ipython</a></h5>\n<ul>\n<li><a href=\"https://github.com/ipython/ipython/issues/12515\">(#12515)</a>: <em>Pathlib, Pathlib everywhere.</em> by <strong><a href=\"https://github.com/Carreau\">@Carreau</a></strong></li>\n<li><a href=\"https://github.com/ipython/ipython/issues/12522\">(#12522)</a>: <em>7.18.0 crash when autocompleting</em> by <strong><a href=\"https://github.com/kakila\">@kakila</a></strong></li>\n<li><a href=\"https://github.com/ipython/ipython/issues/12532\">(#12532)</a>: <em>pip install -r for 7.18.1 failing with \"python setup.py egg_info\" failed with error</em> by <strong><a href=\"https://github.com/vladox\">@vladox</a></strong></li>\n</ul>"
      }
     },
     "0de74254a36143f3b4a2378ec41aafba": {
      "model_module": "@jupyter-widgets/base",
      "model_module_version": "1.2.0",
      "model_name": "LayoutModel",
      "state": {
       "_model_module": "@jupyter-widgets/base",
       "_model_module_version": "1.2.0",
       "_model_name": "LayoutModel",
       "_view_count": null,
       "_view_module": "@jupyter-widgets/base",
       "_view_module_version": "1.2.0",
       "_view_name": "LayoutView",
       "align_content": null,
       "align_items": null,
       "align_self": null,
       "border": null,
       "bottom": null,
       "display": null,
       "flex": null,
       "flex_flow": null,
       "grid_area": null,
       "grid_auto_columns": null,
       "grid_auto_flow": null,
       "grid_auto_rows": null,
       "grid_column": null,
       "grid_gap": null,
       "grid_row": null,
       "grid_template_areas": null,
       "grid_template_columns": null,
       "grid_template_rows": null,
       "height": null,
       "justify_content": null,
       "justify_items": null,
       "left": null,
       "margin": null,
       "max_height": null,
       "max_width": null,
       "min_height": null,
       "min_width": null,
       "object_fit": null,
       "object_position": null,
       "order": null,
       "overflow": null,
       "overflow_x": null,
       "overflow_y": null,
       "padding": null,
       "right": null,
       "top": null,
       "visibility": null,
       "width": null
      }
     },
     "0f81ecf83b2f4cb2bbdc3fd1ad7562ab": {
      "model_module": "@jupyter-widgets/controls",
      "model_module_version": "1.5.0",
      "model_name": "DescriptionStyleModel",
      "state": {
       "_model_module": "@jupyter-widgets/controls",
       "_model_module_version": "1.5.0",
       "_model_name": "DescriptionStyleModel",
       "_view_count": null,
       "_view_module": "@jupyter-widgets/base",
       "_view_module_version": "1.2.0",
       "_view_name": "StyleView",
       "description_width": ""
      }
     },
     "1418344afbef47458574e4e7ae41348f": {
      "model_module": "@jupyter-widgets/controls",
      "model_module_version": "1.5.0",
      "model_name": "HTMLModel",
      "state": {
       "_dom_classes": [],
       "_model_module": "@jupyter-widgets/controls",
       "_model_module_version": "1.5.0",
       "_model_name": "HTMLModel",
       "_view_count": null,
       "_view_module": "@jupyter-widgets/controls",
       "_view_module_version": "1.5.0",
       "_view_name": "HTMLView",
       "description": "",
       "description_tooltip": null,
       "layout": "IPY_MODEL_3cc8dce7f4f84d4bb907f39b08130387",
       "placeholder": "​",
       "style": "IPY_MODEL_75f1003891194ae58594c95989a82124",
       "value": "<h5><a href=\"https://github.com/ipython/ipython-website\">ipython/ipython-website</a></h5>"
      }
     },
     "148c884bb6f84ebab9ba2bf210f1c4c5": {
      "model_module": "@jupyter-widgets/controls",
      "model_module_version": "1.5.0",
      "model_name": "HTMLModel",
      "state": {
       "_dom_classes": [],
       "_model_module": "@jupyter-widgets/controls",
       "_model_module_version": "1.5.0",
       "_model_name": "HTMLModel",
       "_view_count": null,
       "_view_module": "@jupyter-widgets/controls",
       "_view_module_version": "1.5.0",
       "_view_name": "HTMLView",
       "description": "",
       "description_tooltip": null,
       "layout": "IPY_MODEL_e77ae21ee4b24b09ab9e909a5fac1a93",
       "placeholder": "​",
       "style": "IPY_MODEL_18f89321b94d4775a3f21dd999bba2c2",
       "value": "<h4>Closed PRs for repo: <a href=\"https://github.com/ipython/ipython-in-depth\">ipython/ipython-in-depth</a></h4>\n<h5></h5>\n<ul>\n<li><a href=\"https://github.com/ipython/ipython-in-depth/pull/71\">(#71)</a>: <em>SOme word should be capital</em> by <strong><a href=\"https://github.com/RoyNancy\">@RoyNancy</a></strong> merged by <strong><a href=\"https://github.com/Carreau\">@Carreau</a></strong></li>\n</ul>"
      }
     },
     "15ed0e2b7521411c93e4ab403850d081": {
      "model_module": "@jupyter-widgets/controls",
      "model_module_version": "1.5.0",
      "model_name": "ProgressStyleModel",
      "state": {
       "_model_module": "@jupyter-widgets/controls",
       "_model_module_version": "1.5.0",
       "_model_name": "ProgressStyleModel",
       "_view_count": null,
       "_view_module": "@jupyter-widgets/base",
       "_view_module_version": "1.2.0",
       "_view_name": "StyleView",
       "bar_color": null,
       "description_width": ""
      }
     },
     "165c1dabf86a428abd77d448924f60bf": {
      "model_module": "@jupyter-widgets/base",
      "model_module_version": "1.2.0",
      "model_name": "LayoutModel",
      "state": {
       "_model_module": "@jupyter-widgets/base",
       "_model_module_version": "1.2.0",
       "_model_name": "LayoutModel",
       "_view_count": null,
       "_view_module": "@jupyter-widgets/base",
       "_view_module_version": "1.2.0",
       "_view_name": "LayoutView",
       "align_content": null,
       "align_items": null,
       "align_self": null,
       "border": null,
       "bottom": null,
       "display": null,
       "flex": null,
       "flex_flow": null,
       "grid_area": null,
       "grid_auto_columns": null,
       "grid_auto_flow": null,
       "grid_auto_rows": null,
       "grid_column": null,
       "grid_gap": null,
       "grid_row": null,
       "grid_template_areas": null,
       "grid_template_columns": null,
       "grid_template_rows": null,
       "height": null,
       "justify_content": null,
       "justify_items": null,
       "left": null,
       "margin": null,
       "max_height": null,
       "max_width": null,
       "min_height": null,
       "min_width": null,
       "object_fit": null,
       "object_position": null,
       "order": null,
       "overflow": null,
       "overflow_x": null,
       "overflow_y": null,
       "padding": null,
       "right": null,
       "top": null,
       "visibility": null,
       "width": null
      }
     },
     "18f89321b94d4775a3f21dd999bba2c2": {
      "model_module": "@jupyter-widgets/controls",
      "model_module_version": "1.5.0",
      "model_name": "DescriptionStyleModel",
      "state": {
       "_model_module": "@jupyter-widgets/controls",
       "_model_module_version": "1.5.0",
       "_model_name": "DescriptionStyleModel",
       "_view_count": null,
       "_view_module": "@jupyter-widgets/base",
       "_view_module_version": "1.2.0",
       "_view_name": "StyleView",
       "description_width": ""
      }
     },
     "1aa5e588229e404da0454013a5993bcb": {
      "model_module": "@jupyter-widgets/controls",
      "model_module_version": "1.5.0",
      "model_name": "HTMLModel",
      "state": {
       "_dom_classes": [],
       "_model_module": "@jupyter-widgets/controls",
       "_model_module_version": "1.5.0",
       "_model_name": "HTMLModel",
       "_view_count": null,
       "_view_module": "@jupyter-widgets/controls",
       "_view_module_version": "1.5.0",
       "_view_name": "HTMLView",
       "description": "",
       "description_tooltip": null,
       "layout": "IPY_MODEL_c75253ba3e6c48aca34f2b2fee59fe6b",
       "placeholder": "​",
       "style": "IPY_MODEL_86c7ec672bf04492b6df3af89fb2cfde",
       "value": "<h5><a href=\"https://github.com/ipython/ipython\">ipython/ipython</a></h5>\n<ul>\n<li><a href=\"https://github.com/ipython/ipython/issues/12515\">(#12515)</a>: <em>Pathlib, Pathlib everywhere.</em> by <strong><a href=\"https://github.com/Carreau\">@Carreau</a></strong></li>\n<li><a href=\"https://github.com/ipython/ipython/issues/12522\">(#12522)</a>: <em>7.18.0 crash when autocompleting</em> by <strong><a href=\"https://github.com/kakila\">@kakila</a></strong></li>\n<li><a href=\"https://github.com/ipython/ipython/issues/12532\">(#12532)</a>: <em>pip install -r for 7.18.1 failing with \"python setup.py egg_info\" failed with error</em> by <strong><a href=\"https://github.com/vladox\">@vladox</a></strong></li>\n</ul>"
      }
     },
     "1c64e687a2b34724ab6c18c3fd79c547": {
      "model_module": "@jupyter-widgets/controls",
      "model_module_version": "1.5.0",
      "model_name": "DescriptionStyleModel",
      "state": {
       "_model_module": "@jupyter-widgets/controls",
       "_model_module_version": "1.5.0",
       "_model_name": "DescriptionStyleModel",
       "_view_count": null,
       "_view_module": "@jupyter-widgets/base",
       "_view_module_version": "1.2.0",
       "_view_name": "StyleView",
       "description_width": ""
      }
     },
     "2680ea211dcb458b83a4ba9788632513": {
      "model_module": "@jupyter-widgets/controls",
      "model_module_version": "1.5.0",
      "model_name": "HTMLModel",
      "state": {
       "_dom_classes": [],
       "_model_module": "@jupyter-widgets/controls",
       "_model_module_version": "1.5.0",
       "_model_name": "HTMLModel",
       "_view_count": null,
       "_view_module": "@jupyter-widgets/controls",
       "_view_module_version": "1.5.0",
       "_view_name": "HTMLView",
       "description": "",
       "description_tooltip": null,
       "layout": "IPY_MODEL_32bd3e58be7e4a02bb85c4af2a2d1cc4",
       "placeholder": "​",
       "style": "IPY_MODEL_59c46081a6a74216b90a3f1e7fd45755",
       "value": "<h4>Closed PRs for repo: <a href=\"https://github.com/ipython/traitlets\">ipython/traitlets</a></h4>\n<h5></h5>\n<ul>\n<li><a href=\"https://github.com/ipython/traitlets/pull/634\">(#634)</a>: <em>improve backward-compatibility for Container subclasses with default_value=None</em> by <strong><a href=\"https://github.com/minrk\">@minrk</a></strong> merged by <strong><a href=\"https://github.com/minrk\">@minrk</a></strong></li>\n<li><a href=\"https://github.com/ipython/traitlets/pull/633\">(#633)</a>: <em>Fix error configuring nested tuple</em> by <strong><a href=\"https://github.com/zazezizozu\">@zazezizozu</a></strong> merged by <strong><a href=\"https://github.com/minrk\">@minrk</a></strong></li>\n<li><a href=\"https://github.com/ipython/traitlets/pull/632\">(#632)</a>: <em>Fix aliases for values deeper in the hierarchy, fixes 631</em> by <strong><a href=\"https://github.com/maxnoe\">@maxnoe</a></strong> merged by <strong><a href=\"https://github.com/minrk\">@minrk</a></strong></li>\n<li><a href=\"https://github.com/ipython/traitlets/pull/630\">(#630)</a>: <em>handle default_value=None in Container traits</em> by <strong><a href=\"https://github.com/minrk\">@minrk</a></strong> merged by <strong><a href=\"https://github.com/minrk\">@minrk</a></strong></li>\n<li><a href=\"https://github.com/ipython/traitlets/pull/629\">(#629)</a>: <em>Fix deprecated from_string for Set, Tuple</em> by <strong><a href=\"https://github.com/minrk\">@minrk</a></strong> merged by <strong><a href=\"https://github.com/minrk\">@minrk</a></strong></li>\n<li><a href=\"https://github.com/ipython/traitlets/pull/623\">(#623)</a>: <em>closes: #622</em> by <strong><a href=\"https://github.com/rmorshea\">@rmorshea</a></strong> merged by <strong><a href=\"https://github.com/Carreau\">@Carreau</a></strong></li>\n<li><a href=\"https://github.com/ipython/traitlets/pull/621\">(#621)</a>: <em>Fix docs for trait_has_value</em> by <strong><a href=\"https://github.com/dopplershift\">@dopplershift</a></strong> merged by <strong><a href=\"https://github.com/rmorshea\">@rmorshea</a></strong></li>\n<li><a href=\"https://github.com/ipython/traitlets/pull/619\">(#619)</a>: <em>allow LoggerAdapter in Application.log</em> by <strong><a href=\"https://github.com/minrk\">@minrk</a></strong> merged by <strong><a href=\"https://github.com/Carreau\">@Carreau</a></strong></li>\n<li><a href=\"https://github.com/ipython/traitlets/pull/618\">(#618)</a>: <em>expand documentation of from_string and related CLI changes</em> by <strong><a href=\"https://github.com/minrk\">@minrk</a></strong> merged by <strong><a href=\"https://github.com/minrk\">@minrk</a></strong></li>\n<li><a href=\"https://github.com/ipython/traitlets/pull/617\">(#617)</a>: <em>do not print help on error</em> by <strong><a href=\"https://github.com/minrk\">@minrk</a></strong> merged by <strong><a href=\"https://github.com/minrk\">@minrk</a></strong></li>\n<li><a href=\"https://github.com/ipython/traitlets/pull/616\">(#616)</a>: <em>nicer error message for multiply defined config</em> by <strong><a href=\"https://github.com/minrk\">@minrk</a></strong> merged by <strong><a href=\"https://github.com/minrk\">@minrk</a></strong></li>\n<li><a href=\"https://github.com/ipython/traitlets/pull/615\">(#615)</a>: <em>handle deprecated eval syntax for Bytes on the command-line</em> by <strong><a href=\"https://github.com/minrk\">@minrk</a></strong> merged by <strong><a href=\"https://github.com/minrk\">@minrk</a></strong></li>\n<li><a href=\"https://github.com/ipython/traitlets/pull/613\">(#613)</a>: <em>handle allow_none in from_string</em> by <strong><a href=\"https://github.com/minrk\">@minrk</a></strong> merged by <strong><a href=\"https://github.com/Carreau\">@Carreau</a></strong></li>\n<li><a href=\"https://github.com/ipython/traitlets/pull/611\">(#611)</a>: <em>update cast_unicode to use Python 3 decode method</em> by <strong><a href=\"https://github.com/Zsailer\">@Zsailer</a></strong> merged by <strong><a href=\"https://github.com/blink1073\">@blink1073</a></strong></li>\n<li><a href=\"https://github.com/ipython/traitlets/pull/605\">(#605)</a>: <em>Reexport parse_notifier_name to not break API</em> by <strong><a href=\"https://github.com/Carreau\">@Carreau</a></strong> merged by <strong><a href=\"https://github.com/Carreau\">@Carreau</a></strong></li>\n</ul>"
      }
     },
     "2744f9b44b3445929cfb7e7bd63f832b": {
      "model_module": "@jupyter-widgets/controls",
      "model_module_version": "1.5.0",
      "model_name": "HTMLModel",
      "state": {
       "_dom_classes": [],
       "_model_module": "@jupyter-widgets/controls",
       "_model_module_version": "1.5.0",
       "_model_name": "HTMLModel",
       "_view_count": null,
       "_view_module": "@jupyter-widgets/controls",
       "_view_module_version": "1.5.0",
       "_view_name": "HTMLView",
       "description": "",
       "description_tooltip": null,
       "layout": "IPY_MODEL_165c1dabf86a428abd77d448924f60bf",
       "placeholder": "​",
       "style": "IPY_MODEL_965c26cf53934317b9f22b1c5454a2a7",
       "value": "<h4>Closed PRs for repo: <a href=\"https://github.com/ipython/ipykernel\">ipython/ipykernel</a></h4>\n<h5></h5>\n<ul>\n<li><a href=\"https://github.com/ipython/ipykernel/pull/551\">(#551)</a>: <em>Start testing on Python 3.9</em> by <strong><a href=\"https://github.com/Carreau\">@Carreau</a></strong> merged by <strong><a href=\"https://github.com/Carreau\">@Carreau</a></strong></li>\n<li><a href=\"https://github.com/ipython/ipykernel/pull/547\">(#547)</a>: <em>Fix stack levels for ipykernel's deprecation warnings and stop using some deprecated APIs</em> by <strong><a href=\"https://github.com/jack1142\">@jack1142</a></strong> merged by <strong><a href=\"https://github.com/minrk\">@minrk</a></strong></li>\n</ul>"
      }
     },
     "2ab33685819e4c9f862ca22838808c2a": {
      "model_module": "@jupyter-widgets/base",
      "model_module_version": "1.2.0",
      "model_name": "LayoutModel",
      "state": {
       "_model_module": "@jupyter-widgets/base",
       "_model_module_version": "1.2.0",
       "_model_name": "LayoutModel",
       "_view_count": null,
       "_view_module": "@jupyter-widgets/base",
       "_view_module_version": "1.2.0",
       "_view_name": "LayoutView",
       "align_content": null,
       "align_items": null,
       "align_self": null,
       "border": null,
       "bottom": null,
       "display": null,
       "flex": null,
       "flex_flow": null,
       "grid_area": null,
       "grid_auto_columns": null,
       "grid_auto_flow": null,
       "grid_auto_rows": null,
       "grid_column": null,
       "grid_gap": null,
       "grid_row": null,
       "grid_template_areas": null,
       "grid_template_columns": null,
       "grid_template_rows": null,
       "height": null,
       "justify_content": null,
       "justify_items": null,
       "left": null,
       "margin": null,
       "max_height": null,
       "max_width": null,
       "min_height": null,
       "min_width": null,
       "object_fit": null,
       "object_position": null,
       "order": null,
       "overflow": null,
       "overflow_x": null,
       "overflow_y": null,
       "padding": null,
       "right": null,
       "top": null,
       "visibility": null,
       "width": null
      }
     },
     "2b39694879b94976b51b9186ea08c0a8": {
      "model_module": "@jupyter-widgets/base",
      "model_module_version": "1.2.0",
      "model_name": "LayoutModel",
      "state": {
       "_model_module": "@jupyter-widgets/base",
       "_model_module_version": "1.2.0",
       "_model_name": "LayoutModel",
       "_view_count": null,
       "_view_module": "@jupyter-widgets/base",
       "_view_module_version": "1.2.0",
       "_view_name": "LayoutView",
       "align_content": null,
       "align_items": null,
       "align_self": null,
       "border": null,
       "bottom": null,
       "display": null,
       "flex": null,
       "flex_flow": null,
       "grid_area": null,
       "grid_auto_columns": null,
       "grid_auto_flow": null,
       "grid_auto_rows": null,
       "grid_column": null,
       "grid_gap": null,
       "grid_row": null,
       "grid_template_areas": null,
       "grid_template_columns": null,
       "grid_template_rows": null,
       "height": null,
       "justify_content": null,
       "justify_items": null,
       "left": null,
       "margin": null,
       "max_height": null,
       "max_width": null,
       "min_height": null,
       "min_width": null,
       "object_fit": null,
       "object_position": null,
       "order": null,
       "overflow": null,
       "overflow_x": null,
       "overflow_y": null,
       "padding": null,
       "right": null,
       "top": null,
       "visibility": null,
       "width": null
      }
     },
     "2cf04e739dbd4377b2179dbae386d739": {
      "model_module": "@jupyter-widgets/base",
      "model_module_version": "1.2.0",
      "model_name": "LayoutModel",
      "state": {
       "_model_module": "@jupyter-widgets/base",
       "_model_module_version": "1.2.0",
       "_model_name": "LayoutModel",
       "_view_count": null,
       "_view_module": "@jupyter-widgets/base",
       "_view_module_version": "1.2.0",
       "_view_name": "LayoutView",
       "align_content": null,
       "align_items": null,
       "align_self": null,
       "border": null,
       "bottom": null,
       "display": null,
       "flex": null,
       "flex_flow": null,
       "grid_area": null,
       "grid_auto_columns": null,
       "grid_auto_flow": null,
       "grid_auto_rows": null,
       "grid_column": null,
       "grid_gap": null,
       "grid_row": null,
       "grid_template_areas": null,
       "grid_template_columns": null,
       "grid_template_rows": null,
       "height": null,
       "justify_content": null,
       "justify_items": null,
       "left": null,
       "margin": null,
       "max_height": null,
       "max_width": null,
       "min_height": null,
       "min_width": null,
       "object_fit": null,
       "object_position": null,
       "order": null,
       "overflow": null,
       "overflow_x": null,
       "overflow_y": null,
       "padding": null,
       "right": null,
       "top": null,
       "visibility": null,
       "width": null
      }
     },
     "2db6a190f79f4d17b205427c68e303c3": {
      "model_module": "@jupyter-widgets/controls",
      "model_module_version": "1.5.0",
      "model_name": "HTMLModel",
      "state": {
       "_dom_classes": [],
       "_model_module": "@jupyter-widgets/controls",
       "_model_module_version": "1.5.0",
       "_model_name": "HTMLModel",
       "_view_count": null,
       "_view_module": "@jupyter-widgets/controls",
       "_view_module_version": "1.5.0",
       "_view_name": "HTMLView",
       "description": "",
       "description_tooltip": null,
       "layout": "IPY_MODEL_84fc02ec452b4d629288fe76bb1de7a4",
       "placeholder": "​",
       "style": "IPY_MODEL_e0eb98a6d1db44db9a98938241042bab",
       "value": "<h5><a href=\"https://github.com/ipython/ipyparallel\">ipython/ipyparallel</a></h5>\n<ul>\n<li><a href=\"https://github.com/ipython/ipyparallel/issues/377\">(#377)</a>: <em>Installation path of data_files</em> by <strong><a href=\"https://github.com/marbre\">@marbre</a></strong></li>\n<li><a href=\"https://github.com/ipython/ipyparallel/issues/427\">(#427)</a>: <em>AttributeError: 'module' object has no attribute '__version__'.  in numpy.py</em> by <strong><a href=\"https://github.com/ylive001\">@ylive001</a></strong></li>\n<li><a href=\"https://github.com/ipython/ipyparallel/issues/425\">(#425)</a>: <em>test_wait_for_send is not very reliable</em> by <strong><a href=\"https://github.com/jnahmias\">@jnahmias</a></strong></li>\n</ul>"
      }
     },
     "32bd3e58be7e4a02bb85c4af2a2d1cc4": {
      "model_module": "@jupyter-widgets/base",
      "model_module_version": "1.2.0",
      "model_name": "LayoutModel",
      "state": {
       "_model_module": "@jupyter-widgets/base",
       "_model_module_version": "1.2.0",
       "_model_name": "LayoutModel",
       "_view_count": null,
       "_view_module": "@jupyter-widgets/base",
       "_view_module_version": "1.2.0",
       "_view_name": "LayoutView",
       "align_content": null,
       "align_items": null,
       "align_self": null,
       "border": null,
       "bottom": null,
       "display": null,
       "flex": null,
       "flex_flow": null,
       "grid_area": null,
       "grid_auto_columns": null,
       "grid_auto_flow": null,
       "grid_auto_rows": null,
       "grid_column": null,
       "grid_gap": null,
       "grid_row": null,
       "grid_template_areas": null,
       "grid_template_columns": null,
       "grid_template_rows": null,
       "height": null,
       "justify_content": null,
       "justify_items": null,
       "left": null,
       "margin": null,
       "max_height": null,
       "max_width": null,
       "min_height": null,
       "min_width": null,
       "object_fit": null,
       "object_position": null,
       "order": null,
       "overflow": null,
       "overflow_x": null,
       "overflow_y": null,
       "padding": null,
       "right": null,
       "top": null,
       "visibility": null,
       "width": null
      }
     },
     "35c66705edaa458fb18dbf04b09d6e8e": {
      "model_module": "@jupyter-widgets/controls",
      "model_module_version": "1.5.0",
      "model_name": "DescriptionStyleModel",
      "state": {
       "_model_module": "@jupyter-widgets/controls",
       "_model_module_version": "1.5.0",
       "_model_name": "DescriptionStyleModel",
       "_view_count": null,
       "_view_module": "@jupyter-widgets/base",
       "_view_module_version": "1.2.0",
       "_view_name": "StyleView",
       "description_width": ""
      }
     },
     "3bc88defa77d48d9a9af4a0cf2f7ecf9": {
      "model_module": "@jupyter-widgets/base",
      "model_module_version": "1.2.0",
      "model_name": "LayoutModel",
      "state": {
       "_model_module": "@jupyter-widgets/base",
       "_model_module_version": "1.2.0",
       "_model_name": "LayoutModel",
       "_view_count": null,
       "_view_module": "@jupyter-widgets/base",
       "_view_module_version": "1.2.0",
       "_view_name": "LayoutView",
       "align_content": null,
       "align_items": null,
       "align_self": null,
       "border": null,
       "bottom": null,
       "display": null,
       "flex": null,
       "flex_flow": null,
       "grid_area": null,
       "grid_auto_columns": null,
       "grid_auto_flow": null,
       "grid_auto_rows": null,
       "grid_column": null,
       "grid_gap": null,
       "grid_row": null,
       "grid_template_areas": null,
       "grid_template_columns": null,
       "grid_template_rows": null,
       "height": null,
       "justify_content": null,
       "justify_items": null,
       "left": null,
       "margin": null,
       "max_height": null,
       "max_width": null,
       "min_height": null,
       "min_width": null,
       "object_fit": null,
       "object_position": null,
       "order": null,
       "overflow": null,
       "overflow_x": null,
       "overflow_y": null,
       "padding": null,
       "right": null,
       "top": null,
       "visibility": null,
       "width": null
      }
     },
     "3cc8dce7f4f84d4bb907f39b08130387": {
      "model_module": "@jupyter-widgets/base",
      "model_module_version": "1.2.0",
      "model_name": "LayoutModel",
      "state": {
       "_model_module": "@jupyter-widgets/base",
       "_model_module_version": "1.2.0",
       "_model_name": "LayoutModel",
       "_view_count": null,
       "_view_module": "@jupyter-widgets/base",
       "_view_module_version": "1.2.0",
       "_view_name": "LayoutView",
       "align_content": null,
       "align_items": null,
       "align_self": null,
       "border": null,
       "bottom": null,
       "display": null,
       "flex": null,
       "flex_flow": null,
       "grid_area": null,
       "grid_auto_columns": null,
       "grid_auto_flow": null,
       "grid_auto_rows": null,
       "grid_column": null,
       "grid_gap": null,
       "grid_row": null,
       "grid_template_areas": null,
       "grid_template_columns": null,
       "grid_template_rows": null,
       "height": null,
       "justify_content": null,
       "justify_items": null,
       "left": null,
       "margin": null,
       "max_height": null,
       "max_width": null,
       "min_height": null,
       "min_width": null,
       "object_fit": null,
       "object_position": null,
       "order": null,
       "overflow": null,
       "overflow_x": null,
       "overflow_y": null,
       "padding": null,
       "right": null,
       "top": null,
       "visibility": null,
       "width": null
      }
     },
     "42d13cea0a5f404caf00221f3140c73f": {
      "model_module": "@jupyter-widgets/controls",
      "model_module_version": "1.5.0",
      "model_name": "HTMLModel",
      "state": {
       "_dom_classes": [],
       "_model_module": "@jupyter-widgets/controls",
       "_model_module_version": "1.5.0",
       "_model_name": "HTMLModel",
       "_view_count": null,
       "_view_module": "@jupyter-widgets/controls",
       "_view_module_version": "1.5.0",
       "_view_name": "HTMLView",
       "description": "",
       "description_tooltip": null,
       "layout": "IPY_MODEL_2b39694879b94976b51b9186ea08c0a8",
       "placeholder": "​",
       "style": "IPY_MODEL_35c66705edaa458fb18dbf04b09d6e8e",
       "value": "<h5><a href=\"https://github.com/ipython/xkcd-font\">ipython/xkcd-font</a></h5>\n<ul>\n<li><a href=\"https://github.com/ipython/xkcd-font/issues/33\">(#33)</a>: <em>Support for Tatar</em> by <strong><a href=\"https://github.com/ftyers\">@ftyers</a></strong></li>\n</ul>"
      }
     },
     "43bce1aa30ac4a9ca74c7e31efafd8a8": {
      "model_module": "@jupyter-widgets/base",
      "model_module_version": "1.2.0",
      "model_name": "LayoutModel",
      "state": {
       "_model_module": "@jupyter-widgets/base",
       "_model_module_version": "1.2.0",
       "_model_name": "LayoutModel",
       "_view_count": null,
       "_view_module": "@jupyter-widgets/base",
       "_view_module_version": "1.2.0",
       "_view_name": "LayoutView",
       "align_content": null,
       "align_items": null,
       "align_self": null,
       "border": null,
       "bottom": null,
       "display": null,
       "flex": null,
       "flex_flow": null,
       "grid_area": null,
       "grid_auto_columns": null,
       "grid_auto_flow": null,
       "grid_auto_rows": null,
       "grid_column": null,
       "grid_gap": null,
       "grid_row": null,
       "grid_template_areas": null,
       "grid_template_columns": null,
       "grid_template_rows": null,
       "height": null,
       "justify_content": null,
       "justify_items": null,
       "left": null,
       "margin": null,
       "max_height": null,
       "max_width": null,
       "min_height": null,
       "min_width": null,
       "object_fit": null,
       "object_position": null,
       "order": null,
       "overflow": null,
       "overflow_x": null,
       "overflow_y": null,
       "padding": null,
       "right": null,
       "top": null,
       "visibility": null,
       "width": null
      }
     },
     "44e26b2127cd4c128f978cf3506c557e": {
      "model_module": "@jupyter-widgets/controls",
      "model_module_version": "1.5.0",
      "model_name": "TabModel",
      "state": {
       "_dom_classes": [],
       "_model_module": "@jupyter-widgets/controls",
       "_model_module_version": "1.5.0",
       "_model_name": "TabModel",
       "_titles": {
        "0": "ipykernel",
        "1": "ipython",
        "2": "ipython-in-depth",
        "3": "ipython-website",
        "4": "traitlets"
       },
       "_view_count": null,
       "_view_module": "@jupyter-widgets/controls",
       "_view_module_version": "1.5.0",
       "_view_name": "TabView",
       "box_style": "",
       "children": [
        "IPY_MODEL_2744f9b44b3445929cfb7e7bd63f832b",
        "IPY_MODEL_a03bfee341bb434f91d6f0a78ed4f15c",
        "IPY_MODEL_148c884bb6f84ebab9ba2bf210f1c4c5",
        "IPY_MODEL_95ec2c3184ce46a1a4008d93bf7dd21f",
        "IPY_MODEL_2680ea211dcb458b83a4ba9788632513"
       ],
       "layout": "IPY_MODEL_0de74254a36143f3b4a2378ec41aafba",
       "selected_index": 0
      }
     },
     "4565d8ffbae94183b98a4f1794f5fe81": {
      "model_module": "@jupyter-widgets/base",
      "model_module_version": "1.2.0",
      "model_name": "LayoutModel",
      "state": {
       "_model_module": "@jupyter-widgets/base",
       "_model_module_version": "1.2.0",
       "_model_name": "LayoutModel",
       "_view_count": null,
       "_view_module": "@jupyter-widgets/base",
       "_view_module_version": "1.2.0",
       "_view_name": "LayoutView",
       "align_content": null,
       "align_items": null,
       "align_self": null,
       "border": null,
       "bottom": null,
       "display": null,
       "flex": null,
       "flex_flow": null,
       "grid_area": null,
       "grid_auto_columns": null,
       "grid_auto_flow": null,
       "grid_auto_rows": null,
       "grid_column": null,
       "grid_gap": null,
       "grid_row": null,
       "grid_template_areas": null,
       "grid_template_columns": null,
       "grid_template_rows": null,
       "height": null,
       "justify_content": null,
       "justify_items": null,
       "left": null,
       "margin": null,
       "max_height": null,
       "max_width": null,
       "min_height": null,
       "min_width": null,
       "object_fit": null,
       "object_position": null,
       "order": null,
       "overflow": null,
       "overflow_x": null,
       "overflow_y": null,
       "padding": null,
       "right": null,
       "top": null,
       "visibility": null,
       "width": null
      }
     },
     "4637698ae4d44b71bd3969ee0519fe32": {
      "model_module": "@jupyter-widgets/controls",
      "model_module_version": "1.5.0",
      "model_name": "DescriptionStyleModel",
      "state": {
       "_model_module": "@jupyter-widgets/controls",
       "_model_module_version": "1.5.0",
       "_model_name": "DescriptionStyleModel",
       "_view_count": null,
       "_view_module": "@jupyter-widgets/base",
       "_view_module_version": "1.2.0",
       "_view_name": "StyleView",
       "description_width": ""
      }
     },
     "46685204a6b343b88ed0eedf966a462d": {
      "model_module": "@jupyter-widgets/controls",
      "model_module_version": "1.5.0",
      "model_name": "IntProgressModel",
      "state": {
       "_dom_classes": [],
       "_model_module": "@jupyter-widgets/controls",
       "_model_module_version": "1.5.0",
       "_model_name": "IntProgressModel",
       "_view_count": null,
       "_view_module": "@jupyter-widgets/controls",
       "_view_module_version": "1.5.0",
       "_view_name": "ProgressView",
       "bar_style": "success",
       "description": "Downloading:",
       "description_tooltip": null,
       "layout": "IPY_MODEL_85924d7b72dd4bdf94620e77a6acea3c",
       "max": 3,
       "min": 0,
       "orientation": "horizontal",
       "style": "IPY_MODEL_15ed0e2b7521411c93e4ab403850d081",
       "value": 3
      }
     },
     "4d0cd84b990d445084118f4782087dd0": {
      "model_module": "@jupyter-widgets/base",
      "model_module_version": "1.2.0",
      "model_name": "LayoutModel",
      "state": {
       "_model_module": "@jupyter-widgets/base",
       "_model_module_version": "1.2.0",
       "_model_name": "LayoutModel",
       "_view_count": null,
       "_view_module": "@jupyter-widgets/base",
       "_view_module_version": "1.2.0",
       "_view_name": "LayoutView",
       "align_content": null,
       "align_items": null,
       "align_self": null,
       "border": null,
       "bottom": null,
       "display": null,
       "flex": null,
       "flex_flow": null,
       "grid_area": null,
       "grid_auto_columns": null,
       "grid_auto_flow": null,
       "grid_auto_rows": null,
       "grid_column": null,
       "grid_gap": null,
       "grid_row": null,
       "grid_template_areas": null,
       "grid_template_columns": null,
       "grid_template_rows": null,
       "height": null,
       "justify_content": null,
       "justify_items": null,
       "left": null,
       "margin": null,
       "max_height": null,
       "max_width": null,
       "min_height": null,
       "min_width": null,
       "object_fit": null,
       "object_position": null,
       "order": null,
       "overflow": null,
       "overflow_x": null,
       "overflow_y": null,
       "padding": null,
       "right": null,
       "top": null,
       "visibility": null,
       "width": null
      }
     },
     "50f5ab912d2f44bc942d4614b1cfee7d": {
      "model_module": "@jupyter-widgets/controls",
      "model_module_version": "1.5.0",
      "model_name": "HTMLModel",
      "state": {
       "_dom_classes": [],
       "_model_module": "@jupyter-widgets/controls",
       "_model_module_version": "1.5.0",
       "_model_name": "HTMLModel",
       "_view_count": null,
       "_view_module": "@jupyter-widgets/controls",
       "_view_module_version": "1.5.0",
       "_view_name": "HTMLView",
       "description": "",
       "description_tooltip": null,
       "layout": "IPY_MODEL_8980800239434b86803cbb808621b1b6",
       "placeholder": "​",
       "style": "IPY_MODEL_0f81ecf83b2f4cb2bbdc3fd1ad7562ab",
       "value": "<h5><a href=\"https://github.com/ipython/traitlets\">ipython/traitlets</a></h5>\n<ul>\n<li><a href=\"https://github.com/ipython/traitlets/issues/604\">(#604)</a>: <em>new release for 5.x to address a SyntaxWarning? (Edit: also 4.3.x)</em> by <strong><a href=\"https://github.com/lwasser\">@lwasser</a></strong></li>\n<li><a href=\"https://github.com/ipython/traitlets/issues/614\">(#614)</a>: <em>Can't pass multiple ipython extensions via command line arguments</em> by <strong><a href=\"https://github.com/ashkop\">@ashkop</a></strong></li>\n<li><a href=\"https://github.com/ipython/traitlets/issues/612\">(#612)</a>: <em>Passing None on the command line</em> by <strong><a href=\"https://github.com/maartenbreddels\">@maartenbreddels</a></strong></li>\n<li><a href=\"https://github.com/ipython/traitlets/issues/608\">(#608)</a>: <em>5.0.0 fails to parse args</em> by <strong><a href=\"https://github.com/POD666\">@POD666</a></strong></li>\n</ul>"
      }
     },
     "59c46081a6a74216b90a3f1e7fd45755": {
      "model_module": "@jupyter-widgets/controls",
      "model_module_version": "1.5.0",
      "model_name": "DescriptionStyleModel",
      "state": {
       "_model_module": "@jupyter-widgets/controls",
       "_model_module_version": "1.5.0",
       "_model_name": "DescriptionStyleModel",
       "_view_count": null,
       "_view_module": "@jupyter-widgets/base",
       "_view_module_version": "1.2.0",
       "_view_name": "StyleView",
       "description_width": ""
      }
     },
     "5f6b96926497451daa325ea256b4c5eb": {
      "model_module": "@jupyter-widgets/controls",
      "model_module_version": "1.5.0",
      "model_name": "DescriptionStyleModel",
      "state": {
       "_model_module": "@jupyter-widgets/controls",
       "_model_module_version": "1.5.0",
       "_model_name": "DescriptionStyleModel",
       "_view_count": null,
       "_view_module": "@jupyter-widgets/base",
       "_view_module_version": "1.2.0",
       "_view_name": "StyleView",
       "description_width": ""
      }
     },
     "62c7a886f9644f5f97bdb582f6aec6ea": {
      "model_module": "@jupyter-widgets/base",
      "model_module_version": "1.2.0",
      "model_name": "LayoutModel",
      "state": {
       "_model_module": "@jupyter-widgets/base",
       "_model_module_version": "1.2.0",
       "_model_name": "LayoutModel",
       "_view_count": null,
       "_view_module": "@jupyter-widgets/base",
       "_view_module_version": "1.2.0",
       "_view_name": "LayoutView",
       "align_content": null,
       "align_items": null,
       "align_self": null,
       "border": null,
       "bottom": null,
       "display": null,
       "flex": null,
       "flex_flow": null,
       "grid_area": null,
       "grid_auto_columns": null,
       "grid_auto_flow": null,
       "grid_auto_rows": null,
       "grid_column": null,
       "grid_gap": null,
       "grid_row": null,
       "grid_template_areas": null,
       "grid_template_columns": null,
       "grid_template_rows": null,
       "height": null,
       "justify_content": null,
       "justify_items": null,
       "left": null,
       "margin": null,
       "max_height": null,
       "max_width": null,
       "min_height": null,
       "min_width": null,
       "object_fit": null,
       "object_position": null,
       "order": null,
       "overflow": null,
       "overflow_x": null,
       "overflow_y": null,
       "padding": null,
       "right": null,
       "top": null,
       "visibility": null,
       "width": null
      }
     },
     "6a2d20dd81334926ba59a792ec93ddd1": {
      "model_module": "@jupyter-widgets/base",
      "model_module_version": "1.2.0",
      "model_name": "LayoutModel",
      "state": {
       "_model_module": "@jupyter-widgets/base",
       "_model_module_version": "1.2.0",
       "_model_name": "LayoutModel",
       "_view_count": null,
       "_view_module": "@jupyter-widgets/base",
       "_view_module_version": "1.2.0",
       "_view_name": "LayoutView",
       "align_content": null,
       "align_items": null,
       "align_self": null,
       "border": null,
       "bottom": null,
       "display": null,
       "flex": null,
       "flex_flow": null,
       "grid_area": null,
       "grid_auto_columns": null,
       "grid_auto_flow": null,
       "grid_auto_rows": null,
       "grid_column": null,
       "grid_gap": null,
       "grid_row": null,
       "grid_template_areas": null,
       "grid_template_columns": null,
       "grid_template_rows": null,
       "height": null,
       "justify_content": null,
       "justify_items": null,
       "left": null,
       "margin": null,
       "max_height": null,
       "max_width": null,
       "min_height": null,
       "min_width": null,
       "object_fit": null,
       "object_position": null,
       "order": null,
       "overflow": null,
       "overflow_x": null,
       "overflow_y": null,
       "padding": null,
       "right": null,
       "top": null,
       "visibility": null,
       "width": null
      }
     },
     "6b0efc88d02149a2ae33efca5535fe66": {
      "model_module": "@jupyter-widgets/controls",
      "model_module_version": "1.5.0",
      "model_name": "DescriptionStyleModel",
      "state": {
       "_model_module": "@jupyter-widgets/controls",
       "_model_module_version": "1.5.0",
       "_model_name": "DescriptionStyleModel",
       "_view_count": null,
       "_view_module": "@jupyter-widgets/base",
       "_view_module_version": "1.2.0",
       "_view_name": "StyleView",
       "description_width": ""
      }
     },
     "6de98bb12254420e87e1c6092a1c9320": {
      "model_module": "@jupyter-widgets/controls",
      "model_module_version": "1.5.0",
      "model_name": "TabModel",
      "state": {
       "_dom_classes": [],
       "_model_module": "@jupyter-widgets/controls",
       "_model_module_version": "1.5.0",
       "_model_name": "TabModel",
       "_titles": {
        "0": "ipykernel",
        "1": "ipyparallel",
        "2": "ipython",
        "3": "ipython-in-depth",
        "4": "ipython-website",
        "5": "ipython_genutils",
        "6": "traitlets",
        "7": "xkcd-font"
       },
       "_view_count": null,
       "_view_module": "@jupyter-widgets/controls",
       "_view_module_version": "1.5.0",
       "_view_name": "TabView",
       "box_style": "",
       "children": [
        "IPY_MODEL_de785a4dfe754c6da77890c41185a7eb",
        "IPY_MODEL_2db6a190f79f4d17b205427c68e303c3",
        "IPY_MODEL_1aa5e588229e404da0454013a5993bcb",
        "IPY_MODEL_e263f2edd5b5484ea29186cb251e8be9",
        "IPY_MODEL_1418344afbef47458574e4e7ae41348f",
        "IPY_MODEL_fd1eca97c1564249830c565c8845e1b7",
        "IPY_MODEL_72b39673eb754d7a89f60151763a812c",
        "IPY_MODEL_00b03975ea0c423f9fcf35dd2496982e"
       ],
       "layout": "IPY_MODEL_62c7a886f9644f5f97bdb582f6aec6ea",
       "selected_index": 0
      }
     },
     "722b1a1993a5446baf329ac393a8a381": {
      "model_module": "@jupyter-widgets/controls",
      "model_module_version": "1.5.0",
      "model_name": "HTMLModel",
      "state": {
       "_dom_classes": [],
       "_model_module": "@jupyter-widgets/controls",
       "_model_module_version": "1.5.0",
       "_model_name": "HTMLModel",
       "_view_count": null,
       "_view_module": "@jupyter-widgets/controls",
       "_view_module_version": "1.5.0",
       "_view_name": "HTMLView",
       "description": "",
       "description_tooltip": null,
       "layout": "IPY_MODEL_c54f10e8c0be43858469a636dda8a7b5",
       "placeholder": "​",
       "style": "IPY_MODEL_6b0efc88d02149a2ae33efca5535fe66",
       "value": "<h5><a href=\"https://github.com/ipython/ipython-in-depth\">ipython/ipython-in-depth</a></h5>"
      }
     },
     "72579a1c7e294087aa101113beaab995": {
      "model_module": "@jupyter-widgets/controls",
      "model_module_version": "1.5.0",
      "model_name": "HTMLModel",
      "state": {
       "_dom_classes": [],
       "_model_module": "@jupyter-widgets/controls",
       "_model_module_version": "1.5.0",
       "_model_name": "HTMLModel",
       "_view_count": null,
       "_view_module": "@jupyter-widgets/controls",
       "_view_module_version": "1.5.0",
       "_view_name": "HTMLView",
       "description": "",
       "description_tooltip": null,
       "layout": "IPY_MODEL_2cf04e739dbd4377b2179dbae386d739",
       "placeholder": "​",
       "style": "IPY_MODEL_1c64e687a2b34724ab6c18c3fd79c547",
       "value": "<ul>\n<li>(10) 7.18.0 crash when autocompleting - ipython - <a href=\"https://github.com/ipython/ipython/issues/12522\">#12522</a></li>\n<li>(9) Pathlib, Pathlib everywhere. - ipython - <a href=\"https://github.com/ipython/ipython/issues/12515\">#12515</a></li>\n<li>(3) Coconut kernels not working - ipython - <a href=\"https://github.com/ipython/ipython/issues/12533\">#12533</a></li>\n<li>(2) Support for Tatar - xkcd-font - <a href=\"https://github.com/ipython/xkcd-font/issues/33\">#33</a></li>\n<li>(1) ipykernel disallows jupyter user to create/attach to event loop - ipykernel - <a href=\"https://github.com/ipython/ipykernel/issues/548\">#548</a></li>\n<li>(0) Using jedi fuzzy completions - ipython - <a href=\"https://github.com/ipython/ipython/issues/12673\">#12673</a></li>\n<li>(0) CANT OPEN IPYTHON! - ipyparallel - <a href=\"https://github.com/ipython/ipyparallel/issues/426\">#426</a></li>\n<li>(0) Class autograd.Function in module cause autoreload fail in jupyter lab  - ipython - <a href=\"https://github.com/ipython/ipython/issues/12553\">#12553</a></li>\n<li>(0) Invalid exec call crashed IPython shell - ipython - <a href=\"https://github.com/ipython/ipython/issues/12551\">#12551</a></li>\n<li>(0) test_wait_for_send is not very reliable - ipyparallel - <a href=\"https://github.com/ipython/ipyparallel/issues/425\">#425</a></li>\n<li>(0) Support embedding IPython kernel in async applications - ipython - <a href=\"https://github.com/ipython/ipython/issues/12550\">#12550</a></li>\n<li>(0) Hello, I was going through the importing data in python in the course. There was a code to import pandas as pd  stats = pd.read_csv('C:\\Users\\name\\Downloads\\Python Programming Course\\DemographicData.csv') . I ran the same code using my laptop but it shows DemographicData.csv not found - ipython - <a href=\"https://github.com/ipython/ipython/issues/12549\">#12549</a></li>\n<li>(0) ValueError: Can't clean for JSON: datetime.time(10, 0) - ipykernel - <a href=\"https://github.com/ipython/ipykernel/issues/546\">#546</a></li>\n<li>(0) How to delete 1 indent? - ipython - <a href=\"https://github.com/ipython/ipython/issues/12542\">#12542</a></li>\n<li>(0) <code>ipython kernel -f</code> help string is misleading - ipython - <a href=\"https://github.com/ipython/ipython/issues/12535\">#12535</a></li>\n<li>(0) Save IPython.utils.capture.CapturedIO.show() result to file - ipython - <a href=\"https://github.com/ipython/ipython/issues/12534\">#12534</a></li>\n<li>(0) Changelog for 7.18.1 - ipython - <a href=\"https://github.com/ipython/ipython/issues/12531\">#12531</a></li>\n<li>(0) Please document deprecated DockerHub descriptions with new version info - ipython - <a href=\"https://github.com/ipython/ipython/issues/12556\">#12556</a></li>\n<li>(0) %%timeit -o does not store its results to a variable - ipython - <a href=\"https://github.com/ipython/ipython/issues/12530\">#12530</a></li>\n<li>(0) Paste performance changes with line breaks - ipython - <a href=\"https://github.com/ipython/ipython/issues/12529\">#12529</a></li>\n<li>(0) Ipdb freezes matplotlib figures - ipython - <a href=\"https://github.com/ipython/ipython/issues/12528\">#12528</a></li>\n<li>(0) ipykernel.get_connection_info() raises MultipleInstanceError - ipython - <a href=\"https://github.com/ipython/ipython/issues/12527\">#12527</a></li>\n<li>(0) [Feature Request] Playback speed controls for IPython.display.Video  - ipython - <a href=\"https://github.com/ipython/ipython/issues/12526\">#12526</a></li>\n<li>(0) Consider a <code>Path</code> trait; many Unicode use could be Path I think. - traitlets - <a href=\"https://github.com/ipython/traitlets/issues/607\">#607</a></li>\n<li>(0) [Question] Asynchronous Comm.on_msg callback - ipykernel - <a href=\"https://github.com/ipython/ipykernel/issues/542\">#542</a></li>\n</ul>"
      }
     },
     "72b39673eb754d7a89f60151763a812c": {
      "model_module": "@jupyter-widgets/controls",
      "model_module_version": "1.5.0",
      "model_name": "HTMLModel",
      "state": {
       "_dom_classes": [],
       "_model_module": "@jupyter-widgets/controls",
       "_model_module_version": "1.5.0",
       "_model_name": "HTMLModel",
       "_view_count": null,
       "_view_module": "@jupyter-widgets/controls",
       "_view_module_version": "1.5.0",
       "_view_name": "HTMLView",
       "description": "",
       "description_tooltip": null,
       "layout": "IPY_MODEL_e2ae4d24ef674c5baac157dc076624da",
       "placeholder": "​",
       "style": "IPY_MODEL_906133aae44c46daa1e3e963d604d097",
       "value": "<h5><a href=\"https://github.com/ipython/traitlets\">ipython/traitlets</a></h5>\n<ul>\n<li><a href=\"https://github.com/ipython/traitlets/issues/604\">(#604)</a>: <em>new release for 5.x to address a SyntaxWarning? (Edit: also 4.3.x)</em> by <strong><a href=\"https://github.com/lwasser\">@lwasser</a></strong></li>\n<li><a href=\"https://github.com/ipython/traitlets/issues/614\">(#614)</a>: <em>Can't pass multiple ipython extensions via command line arguments</em> by <strong><a href=\"https://github.com/ashkop\">@ashkop</a></strong></li>\n<li><a href=\"https://github.com/ipython/traitlets/issues/612\">(#612)</a>: <em>Passing None on the command line</em> by <strong><a href=\"https://github.com/maartenbreddels\">@maartenbreddels</a></strong></li>\n<li><a href=\"https://github.com/ipython/traitlets/issues/608\">(#608)</a>: <em>5.0.0 fails to parse args</em> by <strong><a href=\"https://github.com/POD666\">@POD666</a></strong></li>\n</ul>"
      }
     },
     "75f1003891194ae58594c95989a82124": {
      "model_module": "@jupyter-widgets/controls",
      "model_module_version": "1.5.0",
      "model_name": "DescriptionStyleModel",
      "state": {
       "_model_module": "@jupyter-widgets/controls",
       "_model_module_version": "1.5.0",
       "_model_name": "DescriptionStyleModel",
       "_view_count": null,
       "_view_module": "@jupyter-widgets/base",
       "_view_module_version": "1.2.0",
       "_view_name": "StyleView",
       "description_width": ""
      }
     },
     "78e37f0fd75e4e7481840bd877453a99": {
      "model_module": "@jupyter-widgets/base",
      "model_module_version": "1.2.0",
      "model_name": "LayoutModel",
      "state": {
       "_model_module": "@jupyter-widgets/base",
       "_model_module_version": "1.2.0",
       "_model_name": "LayoutModel",
       "_view_count": null,
       "_view_module": "@jupyter-widgets/base",
       "_view_module_version": "1.2.0",
       "_view_name": "LayoutView",
       "align_content": null,
       "align_items": null,
       "align_self": null,
       "border": null,
       "bottom": null,
       "display": null,
       "flex": null,
       "flex_flow": null,
       "grid_area": null,
       "grid_auto_columns": null,
       "grid_auto_flow": null,
       "grid_auto_rows": null,
       "grid_column": null,
       "grid_gap": null,
       "grid_row": null,
       "grid_template_areas": null,
       "grid_template_columns": null,
       "grid_template_rows": null,
       "height": null,
       "justify_content": null,
       "justify_items": null,
       "left": null,
       "margin": null,
       "max_height": null,
       "max_width": null,
       "min_height": null,
       "min_width": null,
       "object_fit": null,
       "object_position": null,
       "order": null,
       "overflow": null,
       "overflow_x": null,
       "overflow_y": null,
       "padding": null,
       "right": null,
       "top": null,
       "visibility": null,
       "width": null
      }
     },
     "7a1c711f6a5940488f857612cb421a22": {
      "model_module": "@jupyter-widgets/controls",
      "model_module_version": "1.5.0",
      "model_name": "DescriptionStyleModel",
      "state": {
       "_model_module": "@jupyter-widgets/controls",
       "_model_module_version": "1.5.0",
       "_model_name": "DescriptionStyleModel",
       "_view_count": null,
       "_view_module": "@jupyter-widgets/base",
       "_view_module_version": "1.2.0",
       "_view_name": "StyleView",
       "description_width": ""
      }
     },
     "7b2d219b4e9a497db49f60b9032071fe": {
      "model_module": "@jupyter-widgets/controls",
      "model_module_version": "1.5.0",
      "model_name": "HTMLModel",
      "state": {
       "_dom_classes": [],
       "_model_module": "@jupyter-widgets/controls",
       "_model_module_version": "1.5.0",
       "_model_name": "HTMLModel",
       "_view_count": null,
       "_view_module": "@jupyter-widgets/controls",
       "_view_module_version": "1.5.0",
       "_view_name": "HTMLView",
       "description": "",
       "description_tooltip": null,
       "layout": "IPY_MODEL_4565d8ffbae94183b98a4f1794f5fe81",
       "placeholder": "​",
       "style": "IPY_MODEL_5f6b96926497451daa325ea256b4c5eb",
       "value": "<h5><a href=\"https://github.com/ipython/ipyparallel\">ipython/ipyparallel</a></h5>\n<ul>\n<li><a href=\"https://github.com/ipython/ipyparallel/issues/377\">(#377)</a>: <em>Installation path of data_files</em> by <strong><a href=\"https://github.com/marbre\">@marbre</a></strong></li>\n<li><a href=\"https://github.com/ipython/ipyparallel/issues/427\">(#427)</a>: <em>AttributeError: 'module' object has no attribute '__version__'.  in numpy.py</em> by <strong><a href=\"https://github.com/ylive001\">@ylive001</a></strong></li>\n<li><a href=\"https://github.com/ipython/ipyparallel/issues/425\">(#425)</a>: <em>test_wait_for_send is not very reliable</em> by <strong><a href=\"https://github.com/jnahmias\">@jnahmias</a></strong></li>\n</ul>"
      }
     },
     "84fc02ec452b4d629288fe76bb1de7a4": {
      "model_module": "@jupyter-widgets/base",
      "model_module_version": "1.2.0",
      "model_name": "LayoutModel",
      "state": {
       "_model_module": "@jupyter-widgets/base",
       "_model_module_version": "1.2.0",
       "_model_name": "LayoutModel",
       "_view_count": null,
       "_view_module": "@jupyter-widgets/base",
       "_view_module_version": "1.2.0",
       "_view_name": "LayoutView",
       "align_content": null,
       "align_items": null,
       "align_self": null,
       "border": null,
       "bottom": null,
       "display": null,
       "flex": null,
       "flex_flow": null,
       "grid_area": null,
       "grid_auto_columns": null,
       "grid_auto_flow": null,
       "grid_auto_rows": null,
       "grid_column": null,
       "grid_gap": null,
       "grid_row": null,
       "grid_template_areas": null,
       "grid_template_columns": null,
       "grid_template_rows": null,
       "height": null,
       "justify_content": null,
       "justify_items": null,
       "left": null,
       "margin": null,
       "max_height": null,
       "max_width": null,
       "min_height": null,
       "min_width": null,
       "object_fit": null,
       "object_position": null,
       "order": null,
       "overflow": null,
       "overflow_x": null,
       "overflow_y": null,
       "padding": null,
       "right": null,
       "top": null,
       "visibility": null,
       "width": null
      }
     },
     "85924d7b72dd4bdf94620e77a6acea3c": {
      "model_module": "@jupyter-widgets/base",
      "model_module_version": "1.2.0",
      "model_name": "LayoutModel",
      "state": {
       "_model_module": "@jupyter-widgets/base",
       "_model_module_version": "1.2.0",
       "_model_name": "LayoutModel",
       "_view_count": null,
       "_view_module": "@jupyter-widgets/base",
       "_view_module_version": "1.2.0",
       "_view_name": "LayoutView",
       "align_content": null,
       "align_items": null,
       "align_self": null,
       "border": null,
       "bottom": null,
       "display": null,
       "flex": null,
       "flex_flow": null,
       "grid_area": null,
       "grid_auto_columns": null,
       "grid_auto_flow": null,
       "grid_auto_rows": null,
       "grid_column": null,
       "grid_gap": null,
       "grid_row": null,
       "grid_template_areas": null,
       "grid_template_columns": null,
       "grid_template_rows": null,
       "height": null,
       "justify_content": null,
       "justify_items": null,
       "left": null,
       "margin": null,
       "max_height": null,
       "max_width": null,
       "min_height": null,
       "min_width": null,
       "object_fit": null,
       "object_position": null,
       "order": null,
       "overflow": null,
       "overflow_x": null,
       "overflow_y": null,
       "padding": null,
       "right": null,
       "top": null,
       "visibility": null,
       "width": null
      }
     },
     "86c7ec672bf04492b6df3af89fb2cfde": {
      "model_module": "@jupyter-widgets/controls",
      "model_module_version": "1.5.0",
      "model_name": "DescriptionStyleModel",
      "state": {
       "_model_module": "@jupyter-widgets/controls",
       "_model_module_version": "1.5.0",
       "_model_name": "DescriptionStyleModel",
       "_view_count": null,
       "_view_module": "@jupyter-widgets/base",
       "_view_module_version": "1.2.0",
       "_view_name": "StyleView",
       "description_width": ""
      }
     },
     "8980800239434b86803cbb808621b1b6": {
      "model_module": "@jupyter-widgets/base",
      "model_module_version": "1.2.0",
      "model_name": "LayoutModel",
      "state": {
       "_model_module": "@jupyter-widgets/base",
       "_model_module_version": "1.2.0",
       "_model_name": "LayoutModel",
       "_view_count": null,
       "_view_module": "@jupyter-widgets/base",
       "_view_module_version": "1.2.0",
       "_view_name": "LayoutView",
       "align_content": null,
       "align_items": null,
       "align_self": null,
       "border": null,
       "bottom": null,
       "display": null,
       "flex": null,
       "flex_flow": null,
       "grid_area": null,
       "grid_auto_columns": null,
       "grid_auto_flow": null,
       "grid_auto_rows": null,
       "grid_column": null,
       "grid_gap": null,
       "grid_row": null,
       "grid_template_areas": null,
       "grid_template_columns": null,
       "grid_template_rows": null,
       "height": null,
       "justify_content": null,
       "justify_items": null,
       "left": null,
       "margin": null,
       "max_height": null,
       "max_width": null,
       "min_height": null,
       "min_width": null,
       "object_fit": null,
       "object_position": null,
       "order": null,
       "overflow": null,
       "overflow_x": null,
       "overflow_y": null,
       "padding": null,
       "right": null,
       "top": null,
       "visibility": null,
       "width": null
      }
     },
     "906133aae44c46daa1e3e963d604d097": {
      "model_module": "@jupyter-widgets/controls",
      "model_module_version": "1.5.0",
      "model_name": "DescriptionStyleModel",
      "state": {
       "_model_module": "@jupyter-widgets/controls",
       "_model_module_version": "1.5.0",
       "_model_name": "DescriptionStyleModel",
       "_view_count": null,
       "_view_module": "@jupyter-widgets/base",
       "_view_module_version": "1.2.0",
       "_view_name": "StyleView",
       "description_width": ""
      }
     },
     "93478b91b45d4472b14663fc4b31d397": {
      "model_module": "@jupyter-widgets/base",
      "model_module_version": "1.2.0",
      "model_name": "LayoutModel",
      "state": {
       "_model_module": "@jupyter-widgets/base",
       "_model_module_version": "1.2.0",
       "_model_name": "LayoutModel",
       "_view_count": null,
       "_view_module": "@jupyter-widgets/base",
       "_view_module_version": "1.2.0",
       "_view_name": "LayoutView",
       "align_content": null,
       "align_items": null,
       "align_self": null,
       "border": null,
       "bottom": null,
       "display": null,
       "flex": null,
       "flex_flow": null,
       "grid_area": null,
       "grid_auto_columns": null,
       "grid_auto_flow": null,
       "grid_auto_rows": null,
       "grid_column": null,
       "grid_gap": null,
       "grid_row": null,
       "grid_template_areas": null,
       "grid_template_columns": null,
       "grid_template_rows": null,
       "height": null,
       "justify_content": null,
       "justify_items": null,
       "left": null,
       "margin": null,
       "max_height": null,
       "max_width": null,
       "min_height": null,
       "min_width": null,
       "object_fit": null,
       "object_position": null,
       "order": null,
       "overflow": null,
       "overflow_x": null,
       "overflow_y": null,
       "padding": null,
       "right": null,
       "top": null,
       "visibility": null,
       "width": null
      }
     },
     "95ec2c3184ce46a1a4008d93bf7dd21f": {
      "model_module": "@jupyter-widgets/controls",
      "model_module_version": "1.5.0",
      "model_name": "HTMLModel",
      "state": {
       "_dom_classes": [],
       "_model_module": "@jupyter-widgets/controls",
       "_model_module_version": "1.5.0",
       "_model_name": "HTMLModel",
       "_view_count": null,
       "_view_module": "@jupyter-widgets/controls",
       "_view_module_version": "1.5.0",
       "_view_name": "HTMLView",
       "description": "",
       "description_tooltip": null,
       "layout": "IPY_MODEL_f29d1f1a367c414fb59cdba50be587e2",
       "placeholder": "​",
       "style": "IPY_MODEL_bec10e909a9b4656959f6db92943ee2e",
       "value": "<h4>Closed PRs for repo: <a href=\"https://github.com/ipython/ipython-website\">ipython/ipython-website</a></h4>\n<h5></h5>\n<ul>\n<li><a href=\"https://github.com/ipython/ipython-website/pull/154\">(#154)</a>: <em>Update README.md</em> by <strong><a href=\"https://github.com/xorigina1\">@xorigina1</a></strong> merged by <strong><a href=\"https://github.com/Carreau\">@Carreau</a></strong></li>\n<li><a href=\"https://github.com/ipython/ipython-website/pull/153\">(#153)</a>: <em>Typo fixed</em> by <strong><a href=\"https://github.com/facundobatista\">@facundobatista</a></strong> merged by <strong><a href=\"https://github.com/Carreau\">@Carreau</a></strong></li>\n</ul>"
      }
     },
     "965c26cf53934317b9f22b1c5454a2a7": {
      "model_module": "@jupyter-widgets/controls",
      "model_module_version": "1.5.0",
      "model_name": "DescriptionStyleModel",
      "state": {
       "_model_module": "@jupyter-widgets/controls",
       "_model_module_version": "1.5.0",
       "_model_name": "DescriptionStyleModel",
       "_view_count": null,
       "_view_module": "@jupyter-widgets/base",
       "_view_module_version": "1.2.0",
       "_view_name": "StyleView",
       "description_width": ""
      }
     },
     "9b242a1fa02448ec85db85fb78a5af77": {
      "model_module": "@jupyter-widgets/controls",
      "model_module_version": "1.5.0",
      "model_name": "IntProgressModel",
      "state": {
       "_dom_classes": [],
       "_model_module": "@jupyter-widgets/controls",
       "_model_module_version": "1.5.0",
       "_model_name": "IntProgressModel",
       "_view_count": null,
       "_view_module": "@jupyter-widgets/controls",
       "_view_module_version": "1.5.0",
       "_view_name": "ProgressView",
       "bar_style": "success",
       "description": "Downloading:",
       "description_tooltip": null,
       "layout": "IPY_MODEL_4d0cd84b990d445084118f4782087dd0",
       "max": 5,
       "min": 0,
       "orientation": "horizontal",
       "style": "IPY_MODEL_b1dcb72c8896448da67bc98da14d1f13",
       "value": 5
      }
     },
     "a03bfee341bb434f91d6f0a78ed4f15c": {
      "model_module": "@jupyter-widgets/controls",
      "model_module_version": "1.5.0",
      "model_name": "HTMLModel",
      "state": {
       "_dom_classes": [],
       "_model_module": "@jupyter-widgets/controls",
       "_model_module_version": "1.5.0",
       "_model_name": "HTMLModel",
       "_view_count": null,
       "_view_module": "@jupyter-widgets/controls",
       "_view_module_version": "1.5.0",
       "_view_name": "HTMLView",
       "description": "",
       "description_tooltip": null,
       "layout": "IPY_MODEL_b426bef1913948d98455c19765fcd356",
       "placeholder": "​",
       "style": "IPY_MODEL_d748ed45a2fc411996cd4843b1b1d46c",
       "value": "<h4>Closed PRs for repo: <a href=\"https://github.com/ipython/ipython\">ipython/ipython</a></h4>\n<h5></h5>\n<ul>\n<li><a href=\"https://github.com/ipython/ipython/pull/12668\">(#12668)</a>: <em>run mypy on github action</em> by <strong><a href=\"https://github.com/Carreau\">@Carreau</a></strong> merged by <strong><a href=\"https://github.com/Carreau\">@Carreau</a></strong></li>\n<li><a href=\"https://github.com/ipython/ipython/pull/12659\">(#12659)</a>: <em>Fix settrace for recursive debugger</em> by <strong><a href=\"https://github.com/impact27\">@impact27</a></strong> merged by <strong><a href=\"https://github.com/Carreau\">@Carreau</a></strong></li>\n<li><a href=\"https://github.com/ipython/ipython/pull/12649\">(#12649)</a>: <em>Decrease testing using iptest, coverage using pytest.</em> by <strong><a href=\"https://github.com/Carreau\">@Carreau</a></strong> merged by <strong><a href=\"https://github.com/Carreau\">@Carreau</a></strong></li>\n<li><a href=\"https://github.com/ipython/ipython/pull/12647\">(#12647)</a>: <em>Remove darker now that it's on github actions.</em> by <strong><a href=\"https://github.com/Carreau\">@Carreau</a></strong> merged by <strong><a href=\"https://github.com/Carreau\">@Carreau</a></strong></li>\n<li><a href=\"https://github.com/ipython/ipython/pull/12646\">(#12646)</a>: <em>Test formatting on GHaction.</em> by <strong><a href=\"https://github.com/Carreau\">@Carreau</a></strong> merged by <strong><a href=\"https://github.com/Carreau\">@Carreau</a></strong></li>\n<li><a href=\"https://github.com/ipython/ipython/pull/12645\">(#12645)</a>: <em>Fix mistake where str is inserted into a list of Path.</em> by <strong><a href=\"https://github.com/Carreau\">@Carreau</a></strong> merged by <strong><a href=\"https://github.com/Carreau\">@Carreau</a></strong></li>\n<li><a href=\"https://github.com/ipython/ipython/pull/12638\">(#12638)</a>: <em>Fix TerminalInteractiveShell.true_color docs</em> by <strong><a href=\"https://github.com/reillysiemens\">@reillysiemens</a></strong> merged by <strong><a href=\"https://github.com/Carreau\">@Carreau</a></strong></li>\n<li><a href=\"https://github.com/ipython/ipython/pull/12637\">(#12637)</a>: _ Simplify assignment in test_async_helpers_ by <strong><a href=\"https://github.com/LeafyLi\">@LeafyLi</a></strong> merged by <strong><a href=\"https://github.com/Carreau\">@Carreau</a></strong></li>\n<li><a href=\"https://github.com/ipython/ipython/pull/12631\">(#12631)</a>: <em>Mark initial frame as not hidden.</em> by <strong><a href=\"https://github.com/Carreau\">@Carreau</a></strong> merged by <strong><a href=\"https://github.com/Carreau\">@Carreau</a></strong></li>\n<li><a href=\"https://github.com/ipython/ipython/pull/12625\">(#12625)</a>: <em>Don't register the same callback multiple times</em> by <strong><a href=\"https://github.com/impact27\">@impact27</a></strong> merged by <strong><a href=\"https://github.com/Carreau\">@Carreau</a></strong></li>\n<li><a href=\"https://github.com/ipython/ipython/pull/12623\">(#12623)</a>: <em>Cleanup: Remove distutils</em> by <strong><a href=\"https://github.com/farisachugthai\">@farisachugthai</a></strong> merged by <strong><a href=\"https://github.com/Carreau\">@Carreau</a></strong></li>\n<li><a href=\"https://github.com/ipython/ipython/pull/12619\">(#12619)</a>: <em>Use pathlib in magics module's execution.py</em> by <strong><a href=\"https://github.com/OdinTech3\">@OdinTech3</a></strong> merged by <strong><a href=\"https://github.com/Carreau\">@Carreau</a></strong></li>\n<li><a href=\"https://github.com/ipython/ipython/pull/12617\">(#12617)</a>: <em>skip test if ipykernel not there.</em> by <strong><a href=\"https://github.com/Carreau\">@Carreau</a></strong> merged by <strong><a href=\"https://github.com/Carreau\">@Carreau</a></strong></li>\n<li><a href=\"https://github.com/ipython/ipython/pull/12615\">(#12615)</a>: <em>Pathlib in core.magics</em> by <strong><a href=\"https://github.com/MrMino\">@MrMino</a></strong> merged by <strong><a href=\"https://github.com/Carreau\">@Carreau</a></strong></li>\n<li><a href=\"https://github.com/ipython/ipython/pull/12614\">(#12614)</a>: <em>Use pathlib in autogen_magics.py, autogen_config.py, and test_magic.py</em> by <strong><a href=\"https://github.com/joyceerhl\">@joyceerhl</a></strong> merged by <strong><a href=\"https://github.com/Carreau\">@Carreau</a></strong></li>\n<li><a href=\"https://github.com/ipython/ipython/pull/12612\">(#12612)</a>: <em>Use pathlib in packaging.py, and gen_latex_symbols.py</em> by <strong><a href=\"https://github.com/jpavlav\">@jpavlav</a></strong> merged by <strong><a href=\"https://github.com/Carreau\">@Carreau</a></strong></li>\n<li><a href=\"https://github.com/ipython/ipython/pull/12611\">(#12611)</a>: <em>Chaged tempfiles and tempdirs to be Path from Pathlib</em> by <strong><a href=\"https://github.com/barhenkro\">@barhenkro</a></strong> merged by <strong><a href=\"https://github.com/Carreau\">@Carreau</a></strong></li>\n<li><a href=\"https://github.com/ipython/ipython/pull/12609\">(#12609)</a>: <em>Fix to #12180 (display.Video failing with data=None)</em> by <strong><a href=\"https://github.com/scarlehoff\">@scarlehoff</a></strong> merged by <strong><a href=\"https://github.com/Carreau\">@Carreau</a></strong></li>\n<li><a href=\"https://github.com/ipython/ipython/pull/12608\">(#12608)</a>: <em>Use pathlib in latextools.py</em> by <strong><a href=\"https://github.com/romulofff\">@romulofff</a></strong> merged by <strong><a href=\"https://github.com/Carreau\">@Carreau</a></strong></li>\n<li><a href=\"https://github.com/ipython/ipython/pull/12607\">(#12607)</a>: <em>Redo PR #12601: Always display last frame when show tracebacks with h…</em> by <strong><a href=\"https://github.com/Carreau\">@Carreau</a></strong> merged by <strong><a href=\"https://github.com/Carreau\">@Carreau</a></strong></li>\n<li><a href=\"https://github.com/ipython/ipython/pull/12604\">(#12604)</a>: <em>Updated autogen_magics.py to Pathlib Path</em> by <strong><a href=\"https://github.com/digitalvirtuoso\">@digitalvirtuoso</a></strong> merged by <strong><a href=\"https://github.com/Carreau\">@Carreau</a></strong></li>\n<li><a href=\"https://github.com/ipython/ipython/pull/12603\">(#12603)</a>: <em>Enable emacs keybindings in vi insert mode (ebivim)</em> by <strong><a href=\"https://github.com/mskar\">@mskar</a></strong> merged by <strong><a href=\"https://github.com/Carreau\">@Carreau</a></strong></li>\n<li><a href=\"https://github.com/ipython/ipython/pull/12601\">(#12601)</a>: <em>Always display last frame when show tracebacks with hidden frames.</em> by <strong><a href=\"https://github.com/Carreau\">@Carreau</a></strong> merged by <strong><a href=\"https://github.com/Carreau\">@Carreau</a></strong></li>\n<li><a href=\"https://github.com/ipython/ipython/pull/12600\">(#12600)</a>: <em>copyedits to REDME.rst</em> by <strong><a href=\"https://github.com/Daniel-Mietchen\">@Daniel-Mietchen</a></strong> merged by <strong><a href=\"https://github.com/Carreau\">@Carreau</a></strong></li>\n<li><a href=\"https://github.com/ipython/ipython/pull/12592\">(#12592)</a>: <em>using pathlib on update_whatsnew.py</em> by <strong><a href=\"https://github.com/dswij\">@dswij</a></strong> merged by <strong><a href=\"https://github.com/Carreau\">@Carreau</a></strong></li>\n<li><a href=\"https://github.com/ipython/ipython/pull/12591\">(#12591)</a>: <em>use pathlib on test_deepreload.py</em> by <strong><a href=\"https://github.com/dswij\">@dswij</a></strong> merged by <strong><a href=\"https://github.com/Carreau\">@Carreau</a></strong></li>\n<li><a href=\"https://github.com/ipython/ipython/pull/12588\">(#12588)</a>: <em>Cursor shape changes with vi editing mode</em> by <strong><a href=\"https://github.com/mskar\">@mskar</a></strong> merged by <strong><a href=\"https://github.com/Carreau\">@Carreau</a></strong></li>\n<li><a href=\"https://github.com/ipython/ipython/pull/12587\">(#12587)</a>: <em>[Docs] Improve installing docs if on zsh</em> by <strong><a href=\"https://github.com/hongshaoyang\">@hongshaoyang</a></strong> merged by <strong><a href=\"https://github.com/Carreau\">@Carreau</a></strong></li>\n<li><a href=\"https://github.com/ipython/ipython/pull/12584\">(#12584)</a>: <em>Remove Release Notes Workflow</em> by <strong><a href=\"https://github.com/augustogoulart\">@augustogoulart</a></strong> merged by <strong><a href=\"https://github.com/Carreau\">@Carreau</a></strong></li>\n<li><a href=\"https://github.com/ipython/ipython/pull/12581\">(#12581)</a>: <em>BUG: Fix mypy error</em> by <strong><a href=\"https://github.com/farisachugthai\">@farisachugthai</a></strong> merged by <strong><a href=\"https://github.com/Carreau\">@Carreau</a></strong></li>\n<li><a href=\"https://github.com/ipython/ipython/pull/12580\">(#12580)</a>: <em>DOC: Define ipy directive as such in docs.</em> by <strong><a href=\"https://github.com/farisachugthai\">@farisachugthai</a></strong> merged by <strong><a href=\"https://github.com/Carreau\">@Carreau</a></strong></li>\n<li><a href=\"https://github.com/ipython/ipython/pull/12577\">(#12577)</a>: <em>Use pathlib in interactiveshell.py</em> by <strong><a href=\"https://github.com/ashwinvis\">@ashwinvis</a></strong> merged by <strong><a href=\"https://github.com/Carreau\">@Carreau</a></strong></li>\n<li><a href=\"https://github.com/ipython/ipython/pull/12574\">(#12574)</a>: <em>Fix broken link in documentation</em> by <strong><a href=\"https://github.com/farisachugthai\">@farisachugthai</a></strong> merged by <strong><a href=\"https://github.com/Carreau\">@Carreau</a></strong></li>\n<li><a href=\"https://github.com/ipython/ipython/pull/12568\">(#12568)</a>: <em>Updated document</em> by <strong><a href=\"https://github.com/Ankitsingh6299\">@Ankitsingh6299</a></strong> merged by <strong><a href=\"https://github.com/Carreau\">@Carreau</a></strong></li>\n<li><a href=\"https://github.com/ipython/ipython/pull/12566\">(#12566)</a>: <em>Remove latex_paper_size, it's no longer recognized</em> by <strong><a href=\"https://github.com/farisachugthai\">@farisachugthai</a></strong> merged by <strong><a href=\"https://github.com/Carreau\">@Carreau</a></strong></li>\n<li><a href=\"https://github.com/ipython/ipython/pull/12560\">(#12560)</a>: <em>Small typo fix in pylab deprecation message</em> by <strong><a href=\"https://github.com/alchzh\">@alchzh</a></strong> merged by <strong><a href=\"https://github.com/Carreau\">@Carreau</a></strong></li>\n<li><a href=\"https://github.com/ipython/ipython/pull/12559\">(#12559)</a>: <em>use pathlib in <code>utils.openpy</code></em> by <strong><a href=\"https://github.com/rushabh-v\">@rushabh-v</a></strong> merged by <strong><a href=\"https://github.com/Carreau\">@Carreau</a></strong></li>\n<li><a href=\"https://github.com/ipython/ipython/pull/12557\">(#12557)</a>: <em>Use pathlib in page.py</em> by <strong><a href=\"https://github.com/Inception95\">@Inception95</a></strong> merged by <strong><a href=\"https://github.com/Carreau\">@Carreau</a></strong></li>\n<li><a href=\"https://github.com/ipython/ipython/pull/12552\">(#12552)</a>: <em>use pathlib in fixup_whats_new_pr.py</em> by <strong><a href=\"https://github.com/rushabh-v\">@rushabh-v</a></strong> merged by <strong><a href=\"https://github.com/Carreau\">@Carreau</a></strong></li>\n<li><a href=\"https://github.com/ipython/ipython/pull/12548\">(#12548)</a>: <em>Introduce pathlib on init_virtualenv.</em> by <strong><a href=\"https://github.com/GabrielSimonetto\">@GabrielSimonetto</a></strong> merged by <strong><a href=\"https://github.com/Carreau\">@Carreau</a></strong></li>\n<li><a href=\"https://github.com/ipython/ipython/pull/12545\">(#12545)</a>: <em>more useful feedback on style checker</em> by <strong><a href=\"https://github.com/minrk\">@minrk</a></strong> merged by <strong><a href=\"https://github.com/Carreau\">@Carreau</a></strong></li>\n<li><a href=\"https://github.com/ipython/ipython/pull/12544\">(#12544)</a>: <em>Use pathlib for edit magic command</em> by <strong><a href=\"https://github.com/rchiodo\">@rchiodo</a></strong> merged by <strong><a href=\"https://github.com/Carreau\">@Carreau</a></strong></li>\n<li><a href=\"https://github.com/ipython/ipython/pull/12543\">(#12543)</a>: <em>allow specifying multiple extensions on the command-line with traitlets 5</em> by <strong><a href=\"https://github.com/minrk\">@minrk</a></strong> merged by <strong><a href=\"https://github.com/Carreau\">@Carreau</a></strong></li>\n<li><a href=\"https://github.com/ipython/ipython/pull/12540\">(#12540)</a>: <em>fix grammatical error in CONTRIBUTING.md</em> by <strong><a href=\"https://github.com/rushabh-v\">@rushabh-v</a></strong> merged by <strong><a href=\"https://github.com/Carreau\">@Carreau</a></strong></li>\n<li><a href=\"https://github.com/ipython/ipython/pull/12539\">(#12539)</a>: <em>use pathlib.Path in retar.py</em> by <strong><a href=\"https://github.com/rushabh-v\">@rushabh-v</a></strong> merged by <strong><a href=\"https://github.com/Carreau\">@Carreau</a></strong></li>\n<li><a href=\"https://github.com/ipython/ipython/pull/12525\">(#12525)</a>: <em>Revert \"Backport PR #12207 on branch 7.x (Bump jedi to at least 0.16.0 and fix deprecated function usage)\"</em> by <strong><a href=\"https://github.com/Carreau\">@Carreau</a></strong> merged by <strong><a href=\"https://github.com/Carreau\">@Carreau</a></strong></li>\n<li><a href=\"https://github.com/ipython/ipython/pull/12519\">(#12519)</a>: <em>Backport PR #12514: : prepare release notes</em> by <strong><a href=\"https://github.com/Carreau\">@Carreau</a></strong> merged by <strong><a href=\"https://github.com/Carreau\">@Carreau</a></strong></li>\n<li><a href=\"https://github.com/ipython/ipython/pull/12518\">(#12518)</a>: <em>stop testing 3.6/osx</em> by <strong><a href=\"https://github.com/Carreau\">@Carreau</a></strong> merged by <strong><a href=\"https://github.com/Carreau\">@Carreau</a></strong></li>\n<li><a href=\"https://github.com/ipython/ipython/pull/12517\">(#12517)</a>: <em>Finish What's new for 7.18</em> by <strong><a href=\"https://github.com/Carreau\">@Carreau</a></strong> merged by <strong><a href=\"https://github.com/Carreau\">@Carreau</a></strong></li>\n<li><a href=\"https://github.com/ipython/ipython/pull/12516\">(#12516)</a>: <em>replace one nightly by 3.9</em> by <strong><a href=\"https://github.com/Carreau\">@Carreau</a></strong> merged by <strong><a href=\"https://github.com/Carreau\">@Carreau</a></strong></li>\n<li><a href=\"https://github.com/ipython/ipython/pull/12514\">(#12514)</a>: <em>prepare release notes</em> by <strong><a href=\"https://github.com/Carreau\">@Carreau</a></strong> merged by <strong><a href=\"https://github.com/Carreau\">@Carreau</a></strong></li>\n<li><a href=\"https://github.com/ipython/ipython/pull/12512\">(#12512)</a>: <em>Use Pathlib here and there.</em> by <strong><a href=\"https://github.com/Carreau\">@Carreau</a></strong> merged by <strong><a href=\"https://github.com/Carreau\">@Carreau</a></strong></li>\n<li><a href=\"https://github.com/ipython/ipython/pull/12510\">(#12510)</a>: <em>Required Pexpect &gt;=4.3</em> by <strong><a href=\"https://github.com/Carreau\">@Carreau</a></strong> merged by <strong><a href=\"https://github.com/Carreau\">@Carreau</a></strong></li>\n<li><a href=\"https://github.com/ipython/ipython/pull/12500\">(#12500)</a>: <em>Pylab deprecate</em> by <strong><a href=\"https://github.com/Carreau\">@Carreau</a></strong> merged by <strong><a href=\"https://github.com/Carreau\">@Carreau</a></strong></li>\n</ul>"
      }
     },
     "a6c83398d24c427aaf787f41d8ec768c": {
      "model_module": "@jupyter-widgets/controls",
      "model_module_version": "1.5.0",
      "model_name": "DescriptionStyleModel",
      "state": {
       "_model_module": "@jupyter-widgets/controls",
       "_model_module_version": "1.5.0",
       "_model_name": "DescriptionStyleModel",
       "_view_count": null,
       "_view_module": "@jupyter-widgets/base",
       "_view_module_version": "1.2.0",
       "_view_name": "StyleView",
       "description_width": ""
      }
     },
     "a6f549e53d8240608246f08679a99287": {
      "model_module": "@jupyter-widgets/base",
      "model_module_version": "1.2.0",
      "model_name": "LayoutModel",
      "state": {
       "_model_module": "@jupyter-widgets/base",
       "_model_module_version": "1.2.0",
       "_model_name": "LayoutModel",
       "_view_count": null,
       "_view_module": "@jupyter-widgets/base",
       "_view_module_version": "1.2.0",
       "_view_name": "LayoutView",
       "align_content": null,
       "align_items": null,
       "align_self": null,
       "border": null,
       "bottom": null,
       "display": null,
       "flex": null,
       "flex_flow": null,
       "grid_area": null,
       "grid_auto_columns": null,
       "grid_auto_flow": null,
       "grid_auto_rows": null,
       "grid_column": null,
       "grid_gap": null,
       "grid_row": null,
       "grid_template_areas": null,
       "grid_template_columns": null,
       "grid_template_rows": null,
       "height": null,
       "justify_content": null,
       "justify_items": null,
       "left": null,
       "margin": null,
       "max_height": null,
       "max_width": null,
       "min_height": null,
       "min_width": null,
       "object_fit": null,
       "object_position": null,
       "order": null,
       "overflow": null,
       "overflow_x": null,
       "overflow_y": null,
       "padding": null,
       "right": null,
       "top": null,
       "visibility": null,
       "width": null
      }
     },
     "b1dcb72c8896448da67bc98da14d1f13": {
      "model_module": "@jupyter-widgets/controls",
      "model_module_version": "1.5.0",
      "model_name": "ProgressStyleModel",
      "state": {
       "_model_module": "@jupyter-widgets/controls",
       "_model_module_version": "1.5.0",
       "_model_name": "ProgressStyleModel",
       "_view_count": null,
       "_view_module": "@jupyter-widgets/base",
       "_view_module_version": "1.2.0",
       "_view_name": "StyleView",
       "bar_color": null,
       "description_width": ""
      }
     },
     "b3f9111c6fed43a78bfdb9c725f6c31b": {
      "model_module": "@jupyter-widgets/base",
      "model_module_version": "1.2.0",
      "model_name": "LayoutModel",
      "state": {
       "_model_module": "@jupyter-widgets/base",
       "_model_module_version": "1.2.0",
       "_model_name": "LayoutModel",
       "_view_count": null,
       "_view_module": "@jupyter-widgets/base",
       "_view_module_version": "1.2.0",
       "_view_name": "LayoutView",
       "align_content": null,
       "align_items": null,
       "align_self": null,
       "border": null,
       "bottom": null,
       "display": null,
       "flex": null,
       "flex_flow": null,
       "grid_area": null,
       "grid_auto_columns": null,
       "grid_auto_flow": null,
       "grid_auto_rows": null,
       "grid_column": null,
       "grid_gap": null,
       "grid_row": null,
       "grid_template_areas": null,
       "grid_template_columns": null,
       "grid_template_rows": null,
       "height": null,
       "justify_content": null,
       "justify_items": null,
       "left": null,
       "margin": null,
       "max_height": null,
       "max_width": null,
       "min_height": null,
       "min_width": null,
       "object_fit": null,
       "object_position": null,
       "order": null,
       "overflow": null,
       "overflow_x": null,
       "overflow_y": null,
       "padding": null,
       "right": null,
       "top": null,
       "visibility": null,
       "width": null
      }
     },
     "b426bef1913948d98455c19765fcd356": {
      "model_module": "@jupyter-widgets/base",
      "model_module_version": "1.2.0",
      "model_name": "LayoutModel",
      "state": {
       "_model_module": "@jupyter-widgets/base",
       "_model_module_version": "1.2.0",
       "_model_name": "LayoutModel",
       "_view_count": null,
       "_view_module": "@jupyter-widgets/base",
       "_view_module_version": "1.2.0",
       "_view_name": "LayoutView",
       "align_content": null,
       "align_items": null,
       "align_self": null,
       "border": null,
       "bottom": null,
       "display": null,
       "flex": null,
       "flex_flow": null,
       "grid_area": null,
       "grid_auto_columns": null,
       "grid_auto_flow": null,
       "grid_auto_rows": null,
       "grid_column": null,
       "grid_gap": null,
       "grid_row": null,
       "grid_template_areas": null,
       "grid_template_columns": null,
       "grid_template_rows": null,
       "height": null,
       "justify_content": null,
       "justify_items": null,
       "left": null,
       "margin": null,
       "max_height": null,
       "max_width": null,
       "min_height": null,
       "min_width": null,
       "object_fit": null,
       "object_position": null,
       "order": null,
       "overflow": null,
       "overflow_x": null,
       "overflow_y": null,
       "padding": null,
       "right": null,
       "top": null,
       "visibility": null,
       "width": null
      }
     },
     "b69cf7a5bd5a4b13a8a80ebc3a116d49": {
      "model_module": "@jupyter-widgets/controls",
      "model_module_version": "1.5.0",
      "model_name": "HTMLModel",
      "state": {
       "_dom_classes": [],
       "_model_module": "@jupyter-widgets/controls",
       "_model_module_version": "1.5.0",
       "_model_name": "HTMLModel",
       "_view_count": null,
       "_view_module": "@jupyter-widgets/controls",
       "_view_module_version": "1.5.0",
       "_view_name": "HTMLView",
       "description": "",
       "description_tooltip": null,
       "layout": "IPY_MODEL_3bc88defa77d48d9a9af4a0cf2f7ecf9",
       "placeholder": "​",
       "style": "IPY_MODEL_0105c5c2cfcc4d5fa81bf9a45262ff47",
       "value": "<h5><a href=\"https://github.com/ipython/ipykernel\">ipython/ipykernel</a></h5>\n<ul>\n<li><a href=\"https://github.com/ipython/ipykernel/issues/543\">(#543)</a>: <em>Traitlets 5.0.0 breaks command line arguments passed to ipykernel launch</em> by <strong><a href=\"https://github.com/IanMatthewHuff\">@IanMatthewHuff</a></strong></li>\n<li><a href=\"https://github.com/ipython/ipykernel/issues/548\">(#548)</a>: <em>ipykernel disallows jupyter user to create/attach to event loop</em> by <strong><a href=\"https://github.com/ddelange\">@ddelange</a></strong></li>\n<li><a href=\"https://github.com/ipython/ipykernel/issues/549\">(#549)</a>: <em>AttributeError: module 'pickle' has no attribute 'DEFAULT_PROTOCOL'</em> by <strong><a href=\"https://github.com/johentsch\">@johentsch</a></strong></li>\n<li><a href=\"https://github.com/ipython/ipykernel/issues/544\">(#544)</a>: _please i need help with these error am encountering. _ by <strong><a href=\"https://github.com/tony-12\">@tony-12</a></strong></li>\n</ul>"
      }
     },
     "bd13c77e058f43a98bd08a5112eae0be": {
      "model_module": "@jupyter-widgets/controls",
      "model_module_version": "1.5.0",
      "model_name": "HTMLModel",
      "state": {
       "_dom_classes": [],
       "_model_module": "@jupyter-widgets/controls",
       "_model_module_version": "1.5.0",
       "_model_name": "HTMLModel",
       "_view_count": null,
       "_view_module": "@jupyter-widgets/controls",
       "_view_module_version": "1.5.0",
       "_view_name": "HTMLView",
       "description": "",
       "description_tooltip": null,
       "layout": "IPY_MODEL_6a2d20dd81334926ba59a792ec93ddd1",
       "placeholder": "​",
       "style": "IPY_MODEL_ce716fae28e94009b27e72bbd0c388c6",
       "value": "<h5><a href=\"https://github.com/ipython/ipython-website\">ipython/ipython-website</a></h5>"
      }
     },
     "bec10e909a9b4656959f6db92943ee2e": {
      "model_module": "@jupyter-widgets/controls",
      "model_module_version": "1.5.0",
      "model_name": "DescriptionStyleModel",
      "state": {
       "_model_module": "@jupyter-widgets/controls",
       "_model_module_version": "1.5.0",
       "_model_name": "DescriptionStyleModel",
       "_view_count": null,
       "_view_module": "@jupyter-widgets/base",
       "_view_module_version": "1.2.0",
       "_view_name": "StyleView",
       "description_width": ""
      }
     },
     "c54f10e8c0be43858469a636dda8a7b5": {
      "model_module": "@jupyter-widgets/base",
      "model_module_version": "1.2.0",
      "model_name": "LayoutModel",
      "state": {
       "_model_module": "@jupyter-widgets/base",
       "_model_module_version": "1.2.0",
       "_model_name": "LayoutModel",
       "_view_count": null,
       "_view_module": "@jupyter-widgets/base",
       "_view_module_version": "1.2.0",
       "_view_name": "LayoutView",
       "align_content": null,
       "align_items": null,
       "align_self": null,
       "border": null,
       "bottom": null,
       "display": null,
       "flex": null,
       "flex_flow": null,
       "grid_area": null,
       "grid_auto_columns": null,
       "grid_auto_flow": null,
       "grid_auto_rows": null,
       "grid_column": null,
       "grid_gap": null,
       "grid_row": null,
       "grid_template_areas": null,
       "grid_template_columns": null,
       "grid_template_rows": null,
       "height": null,
       "justify_content": null,
       "justify_items": null,
       "left": null,
       "margin": null,
       "max_height": null,
       "max_width": null,
       "min_height": null,
       "min_width": null,
       "object_fit": null,
       "object_position": null,
       "order": null,
       "overflow": null,
       "overflow_x": null,
       "overflow_y": null,
       "padding": null,
       "right": null,
       "top": null,
       "visibility": null,
       "width": null
      }
     },
     "c75253ba3e6c48aca34f2b2fee59fe6b": {
      "model_module": "@jupyter-widgets/base",
      "model_module_version": "1.2.0",
      "model_name": "LayoutModel",
      "state": {
       "_model_module": "@jupyter-widgets/base",
       "_model_module_version": "1.2.0",
       "_model_name": "LayoutModel",
       "_view_count": null,
       "_view_module": "@jupyter-widgets/base",
       "_view_module_version": "1.2.0",
       "_view_name": "LayoutView",
       "align_content": null,
       "align_items": null,
       "align_self": null,
       "border": null,
       "bottom": null,
       "display": null,
       "flex": null,
       "flex_flow": null,
       "grid_area": null,
       "grid_auto_columns": null,
       "grid_auto_flow": null,
       "grid_auto_rows": null,
       "grid_column": null,
       "grid_gap": null,
       "grid_row": null,
       "grid_template_areas": null,
       "grid_template_columns": null,
       "grid_template_rows": null,
       "height": null,
       "justify_content": null,
       "justify_items": null,
       "left": null,
       "margin": null,
       "max_height": null,
       "max_width": null,
       "min_height": null,
       "min_width": null,
       "object_fit": null,
       "object_position": null,
       "order": null,
       "overflow": null,
       "overflow_x": null,
       "overflow_y": null,
       "padding": null,
       "right": null,
       "top": null,
       "visibility": null,
       "width": null
      }
     },
     "ce716fae28e94009b27e72bbd0c388c6": {
      "model_module": "@jupyter-widgets/controls",
      "model_module_version": "1.5.0",
      "model_name": "DescriptionStyleModel",
      "state": {
       "_model_module": "@jupyter-widgets/controls",
       "_model_module_version": "1.5.0",
       "_model_name": "DescriptionStyleModel",
       "_view_count": null,
       "_view_module": "@jupyter-widgets/base",
       "_view_module_version": "1.2.0",
       "_view_name": "StyleView",
       "description_width": ""
      }
     },
     "cfb0175d0d844d888b2f0ee6f14b3b62": {
      "model_module": "@jupyter-widgets/controls",
      "model_module_version": "1.5.0",
      "model_name": "HTMLModel",
      "state": {
       "_dom_classes": [],
       "_model_module": "@jupyter-widgets/controls",
       "_model_module_version": "1.5.0",
       "_model_name": "HTMLModel",
       "_view_count": null,
       "_view_module": "@jupyter-widgets/controls",
       "_view_module_version": "1.5.0",
       "_view_name": "HTMLView",
       "description": "",
       "description_tooltip": null,
       "layout": "IPY_MODEL_b3f9111c6fed43a78bfdb9c725f6c31b",
       "placeholder": "​",
       "style": "IPY_MODEL_a6c83398d24c427aaf787f41d8ec768c",
       "value": "<h5><a href=\"https://github.com/ipython/ipython_genutils\">ipython/ipython_genutils</a></h5>\n<ul>\n<li><a href=\"https://github.com/ipython/ipython_genutils/issues/16\">(#16)</a>: <em>Travis-ci: AMD64 build is failing</em> by <strong><a href=\"https://github.com/sanjaymsh\">@sanjaymsh</a></strong></li>\n</ul>"
      }
     },
     "d748ed45a2fc411996cd4843b1b1d46c": {
      "model_module": "@jupyter-widgets/controls",
      "model_module_version": "1.5.0",
      "model_name": "DescriptionStyleModel",
      "state": {
       "_model_module": "@jupyter-widgets/controls",
       "_model_module_version": "1.5.0",
       "_model_name": "DescriptionStyleModel",
       "_view_count": null,
       "_view_module": "@jupyter-widgets/base",
       "_view_module_version": "1.2.0",
       "_view_name": "StyleView",
       "description_width": ""
      }
     },
     "de785a4dfe754c6da77890c41185a7eb": {
      "model_module": "@jupyter-widgets/controls",
      "model_module_version": "1.5.0",
      "model_name": "HTMLModel",
      "state": {
       "_dom_classes": [],
       "_model_module": "@jupyter-widgets/controls",
       "_model_module_version": "1.5.0",
       "_model_name": "HTMLModel",
       "_view_count": null,
       "_view_module": "@jupyter-widgets/controls",
       "_view_module_version": "1.5.0",
       "_view_name": "HTMLView",
       "description": "",
       "description_tooltip": null,
       "layout": "IPY_MODEL_43bce1aa30ac4a9ca74c7e31efafd8a8",
       "placeholder": "​",
       "style": "IPY_MODEL_f5500d6b0ad4434a86503aff0dfeeac2",
       "value": "<h5><a href=\"https://github.com/ipython/ipykernel\">ipython/ipykernel</a></h5>\n<ul>\n<li><a href=\"https://github.com/ipython/ipykernel/issues/543\">(#543)</a>: <em>Traitlets 5.0.0 breaks command line arguments passed to ipykernel launch</em> by <strong><a href=\"https://github.com/IanMatthewHuff\">@IanMatthewHuff</a></strong></li>\n<li><a href=\"https://github.com/ipython/ipykernel/issues/548\">(#548)</a>: <em>ipykernel disallows jupyter user to create/attach to event loop</em> by <strong><a href=\"https://github.com/ddelange\">@ddelange</a></strong></li>\n<li><a href=\"https://github.com/ipython/ipykernel/issues/549\">(#549)</a>: <em>AttributeError: module 'pickle' has no attribute 'DEFAULT_PROTOCOL'</em> by <strong><a href=\"https://github.com/johentsch\">@johentsch</a></strong></li>\n<li><a href=\"https://github.com/ipython/ipykernel/issues/544\">(#544)</a>: _please i need help with these error am encountering. _ by <strong><a href=\"https://github.com/tony-12\">@tony-12</a></strong></li>\n</ul>"
      }
     },
     "e0eb98a6d1db44db9a98938241042bab": {
      "model_module": "@jupyter-widgets/controls",
      "model_module_version": "1.5.0",
      "model_name": "DescriptionStyleModel",
      "state": {
       "_model_module": "@jupyter-widgets/controls",
       "_model_module_version": "1.5.0",
       "_model_name": "DescriptionStyleModel",
       "_view_count": null,
       "_view_module": "@jupyter-widgets/base",
       "_view_module_version": "1.2.0",
       "_view_name": "StyleView",
       "description_width": ""
      }
     },
     "e263f2edd5b5484ea29186cb251e8be9": {
      "model_module": "@jupyter-widgets/controls",
      "model_module_version": "1.5.0",
      "model_name": "HTMLModel",
      "state": {
       "_dom_classes": [],
       "_model_module": "@jupyter-widgets/controls",
       "_model_module_version": "1.5.0",
       "_model_name": "HTMLModel",
       "_view_count": null,
       "_view_module": "@jupyter-widgets/controls",
       "_view_module_version": "1.5.0",
       "_view_name": "HTMLView",
       "description": "",
       "description_tooltip": null,
       "layout": "IPY_MODEL_78e37f0fd75e4e7481840bd877453a99",
       "placeholder": "​",
       "style": "IPY_MODEL_4637698ae4d44b71bd3969ee0519fe32",
       "value": "<h5><a href=\"https://github.com/ipython/ipython-in-depth\">ipython/ipython-in-depth</a></h5>"
      }
     },
     "e2ae4d24ef674c5baac157dc076624da": {
      "model_module": "@jupyter-widgets/base",
      "model_module_version": "1.2.0",
      "model_name": "LayoutModel",
      "state": {
       "_model_module": "@jupyter-widgets/base",
       "_model_module_version": "1.2.0",
       "_model_name": "LayoutModel",
       "_view_count": null,
       "_view_module": "@jupyter-widgets/base",
       "_view_module_version": "1.2.0",
       "_view_name": "LayoutView",
       "align_content": null,
       "align_items": null,
       "align_self": null,
       "border": null,
       "bottom": null,
       "display": null,
       "flex": null,
       "flex_flow": null,
       "grid_area": null,
       "grid_auto_columns": null,
       "grid_auto_flow": null,
       "grid_auto_rows": null,
       "grid_column": null,
       "grid_gap": null,
       "grid_row": null,
       "grid_template_areas": null,
       "grid_template_columns": null,
       "grid_template_rows": null,
       "height": null,
       "justify_content": null,
       "justify_items": null,
       "left": null,
       "margin": null,
       "max_height": null,
       "max_width": null,
       "min_height": null,
       "min_width": null,
       "object_fit": null,
       "object_position": null,
       "order": null,
       "overflow": null,
       "overflow_x": null,
       "overflow_y": null,
       "padding": null,
       "right": null,
       "top": null,
       "visibility": null,
       "width": null
      }
     },
     "e77ae21ee4b24b09ab9e909a5fac1a93": {
      "model_module": "@jupyter-widgets/base",
      "model_module_version": "1.2.0",
      "model_name": "LayoutModel",
      "state": {
       "_model_module": "@jupyter-widgets/base",
       "_model_module_version": "1.2.0",
       "_model_name": "LayoutModel",
       "_view_count": null,
       "_view_module": "@jupyter-widgets/base",
       "_view_module_version": "1.2.0",
       "_view_name": "LayoutView",
       "align_content": null,
       "align_items": null,
       "align_self": null,
       "border": null,
       "bottom": null,
       "display": null,
       "flex": null,
       "flex_flow": null,
       "grid_area": null,
       "grid_auto_columns": null,
       "grid_auto_flow": null,
       "grid_auto_rows": null,
       "grid_column": null,
       "grid_gap": null,
       "grid_row": null,
       "grid_template_areas": null,
       "grid_template_columns": null,
       "grid_template_rows": null,
       "height": null,
       "justify_content": null,
       "justify_items": null,
       "left": null,
       "margin": null,
       "max_height": null,
       "max_width": null,
       "min_height": null,
       "min_width": null,
       "object_fit": null,
       "object_position": null,
       "order": null,
       "overflow": null,
       "overflow_x": null,
       "overflow_y": null,
       "padding": null,
       "right": null,
       "top": null,
       "visibility": null,
       "width": null
      }
     },
     "f28e381f736a44449bb94bfa91b367f7": {
      "model_module": "@jupyter-widgets/controls",
      "model_module_version": "1.5.0",
      "model_name": "DescriptionStyleModel",
      "state": {
       "_model_module": "@jupyter-widgets/controls",
       "_model_module_version": "1.5.0",
       "_model_name": "DescriptionStyleModel",
       "_view_count": null,
       "_view_module": "@jupyter-widgets/base",
       "_view_module_version": "1.2.0",
       "_view_name": "StyleView",
       "description_width": ""
      }
     },
     "f29d1f1a367c414fb59cdba50be587e2": {
      "model_module": "@jupyter-widgets/base",
      "model_module_version": "1.2.0",
      "model_name": "LayoutModel",
      "state": {
       "_model_module": "@jupyter-widgets/base",
       "_model_module_version": "1.2.0",
       "_model_name": "LayoutModel",
       "_view_count": null,
       "_view_module": "@jupyter-widgets/base",
       "_view_module_version": "1.2.0",
       "_view_name": "LayoutView",
       "align_content": null,
       "align_items": null,
       "align_self": null,
       "border": null,
       "bottom": null,
       "display": null,
       "flex": null,
       "flex_flow": null,
       "grid_area": null,
       "grid_auto_columns": null,
       "grid_auto_flow": null,
       "grid_auto_rows": null,
       "grid_column": null,
       "grid_gap": null,
       "grid_row": null,
       "grid_template_areas": null,
       "grid_template_columns": null,
       "grid_template_rows": null,
       "height": null,
       "justify_content": null,
       "justify_items": null,
       "left": null,
       "margin": null,
       "max_height": null,
       "max_width": null,
       "min_height": null,
       "min_width": null,
       "object_fit": null,
       "object_position": null,
       "order": null,
       "overflow": null,
       "overflow_x": null,
       "overflow_y": null,
       "padding": null,
       "right": null,
       "top": null,
       "visibility": null,
       "width": null
      }
     },
     "f5500d6b0ad4434a86503aff0dfeeac2": {
      "model_module": "@jupyter-widgets/controls",
      "model_module_version": "1.5.0",
      "model_name": "DescriptionStyleModel",
      "state": {
       "_model_module": "@jupyter-widgets/controls",
       "_model_module_version": "1.5.0",
       "_model_name": "DescriptionStyleModel",
       "_view_count": null,
       "_view_module": "@jupyter-widgets/base",
       "_view_module_version": "1.2.0",
       "_view_name": "StyleView",
       "description_width": ""
      }
     },
     "fd1eca97c1564249830c565c8845e1b7": {
      "model_module": "@jupyter-widgets/controls",
      "model_module_version": "1.5.0",
      "model_name": "HTMLModel",
      "state": {
       "_dom_classes": [],
       "_model_module": "@jupyter-widgets/controls",
       "_model_module_version": "1.5.0",
       "_model_name": "HTMLModel",
       "_view_count": null,
       "_view_module": "@jupyter-widgets/controls",
       "_view_module_version": "1.5.0",
       "_view_name": "HTMLView",
       "description": "",
       "description_tooltip": null,
       "layout": "IPY_MODEL_93478b91b45d4472b14663fc4b31d397",
       "placeholder": "​",
       "style": "IPY_MODEL_7a1c711f6a5940488f857612cb421a22",
       "value": "<h5><a href=\"https://github.com/ipython/ipython_genutils\">ipython/ipython_genutils</a></h5>\n<ul>\n<li><a href=\"https://github.com/ipython/ipython_genutils/issues/16\">(#16)</a>: <em>Travis-ci: AMD64 build is failing</em> by <strong><a href=\"https://github.com/sanjaymsh\">@sanjaymsh</a></strong></li>\n</ul>"
      }
     },
     "fe1a54cde4e8408eb47a8b92add0b568": {
      "model_module": "@jupyter-widgets/controls",
      "model_module_version": "1.5.0",
      "model_name": "DescriptionStyleModel",
      "state": {
       "_model_module": "@jupyter-widgets/controls",
       "_model_module_version": "1.5.0",
       "_model_name": "DescriptionStyleModel",
       "_view_count": null,
       "_view_module": "@jupyter-widgets/base",
       "_view_module_version": "1.2.0",
       "_view_name": "StyleView",
       "description_width": ""
      }
     }
    },
    "version_major": 2,
    "version_minor": 0
   }
  }
 },
 "nbformat": 4,
 "nbformat_minor": 4
}