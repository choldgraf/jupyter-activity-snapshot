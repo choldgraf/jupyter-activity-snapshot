{
 "cells": [
  {
   "cell_type": "markdown",
   "id": "d662f404",
   "metadata": {
    "papermill": {
     "duration": 0.042625,
     "end_time": "2021-11-13T01:32:56.150738",
     "exception": false,
     "start_time": "2021-11-13T01:32:56.108113",
     "status": "completed"
    },
    "tags": []
   },
   "source": [
    "# {glue:text}`ipython_github_org`\n",
    "\n",
    "**Activity from {glue:}`ipython_start` to {glue:}`ipython_stop`**"
   ]
  },
  {
   "cell_type": "code",
   "execution_count": 1,
   "id": "c01daf4d",
   "metadata": {
    "execution": {
     "iopub.execute_input": "2021-11-13T01:32:56.232383Z",
     "iopub.status.busy": "2021-11-13T01:32:56.231807Z",
     "iopub.status.idle": "2021-11-13T01:32:57.728249Z",
     "shell.execute_reply": "2021-11-13T01:32:57.727199Z"
    },
    "papermill": {
     "duration": 1.541254,
     "end_time": "2021-11-13T01:32:57.728451",
     "exception": false,
     "start_time": "2021-11-13T01:32:56.187197",
     "status": "completed"
    },
    "tags": [
     "remove_cell"
    ]
   },
   "outputs": [],
   "source": [
    "from datetime import date\n",
    "from dateutil.relativedelta import relativedelta\n",
    "from myst_nb import glue\n",
    "import seaborn as sns\n",
    "import pandas as pd\n",
    "import numpy as np\n",
    "import altair as alt\n",
    "from markdown import markdown\n",
    "from IPython.display import Markdown\n",
    "from ipywidgets.widgets import HTML, Tab\n",
    "from ipywidgets import widgets\n",
    "from datetime import timedelta\n",
    "from matplotlib import pyplot as plt\n",
    "import os.path as op\n",
    "\n",
    "from warnings import simplefilter\n",
    "simplefilter('ignore')"
   ]
  },
  {
   "cell_type": "code",
   "execution_count": 2,
   "id": "a3de72b9",
   "metadata": {
    "execution": {
     "iopub.execute_input": "2021-11-13T01:32:57.809941Z",
     "iopub.status.busy": "2021-11-13T01:32:57.808858Z",
     "iopub.status.idle": "2021-11-13T01:32:57.812634Z",
     "shell.execute_reply": "2021-11-13T01:32:57.812144Z"
    },
    "papermill": {
     "duration": 0.047572,
     "end_time": "2021-11-13T01:32:57.812790",
     "exception": false,
     "start_time": "2021-11-13T01:32:57.765218",
     "status": "completed"
    },
    "tags": [
     "remove_cell"
    ]
   },
   "outputs": [],
   "source": [
    "# Altair config\n",
    "def author_url(author):\n",
    "    return f\"https://github.com/{author}\"\n",
    "\n",
    "def alt_theme():\n",
    "    return {\n",
    "        'config': {\n",
    "            'axisLeft': {\n",
    "                'labelFontSize': 15,\n",
    "            },\n",
    "            'axisBottom': {\n",
    "                'labelFontSize': 15,\n",
    "            },\n",
    "        }\n",
    "    }\n",
    "\n",
    "alt.themes.register('my_theme', alt_theme)\n",
    "alt.themes.enable(\"my_theme\")\n",
    "\n",
    "\n",
    "# Define colors we'll use for GitHub membership\n",
    "author_types = ['MEMBER', 'CONTRIBUTOR', 'COLLABORATOR', \"NONE\"]\n",
    "\n",
    "author_palette = np.array(sns.palettes.blend_palette([\"lightgrey\", \"lightgreen\", \"darkgreen\"], 4)) * 256\n",
    "author_colors = [\"rgb({}, {}, {})\".format(*color) for color in author_palette]\n",
    "author_color_dict = {key: val for key, val in zip(author_types, author_palette)}"
   ]
  },
  {
   "cell_type": "code",
   "execution_count": 3,
   "id": "e3ad1324",
   "metadata": {
    "execution": {
     "iopub.execute_input": "2021-11-13T01:32:57.890643Z",
     "iopub.status.busy": "2021-11-13T01:32:57.889258Z",
     "iopub.status.idle": "2021-11-13T01:32:57.891321Z",
     "shell.execute_reply": "2021-11-13T01:32:57.891788Z"
    },
    "papermill": {
     "duration": 0.043311,
     "end_time": "2021-11-13T01:32:57.891966",
     "exception": false,
     "start_time": "2021-11-13T01:32:57.848655",
     "status": "completed"
    },
    "tags": [
     "parameters",
     "hide_input",
     "remove_cell"
    ]
   },
   "outputs": [],
   "source": [
    "github_org = \"jupyterhub\"\n",
    "top_n_repos = 15\n",
    "n_days = 10"
   ]
  },
  {
   "cell_type": "code",
   "execution_count": 4,
   "id": "77cdc703",
   "metadata": {
    "execution": {
     "iopub.execute_input": "2021-11-13T01:32:57.971009Z",
     "iopub.status.busy": "2021-11-13T01:32:57.970414Z",
     "iopub.status.idle": "2021-11-13T01:32:57.971785Z",
     "shell.execute_reply": "2021-11-13T01:32:57.972356Z"
    },
    "papermill": {
     "duration": 0.045304,
     "end_time": "2021-11-13T01:32:57.972523",
     "exception": false,
     "start_time": "2021-11-13T01:32:57.927219",
     "status": "completed"
    },
    "tags": [
     "injected-parameters",
     "remove-cell"
    ]
   },
   "outputs": [],
   "source": [
    "# Parameters\n",
    "github_org = \"ipython\"\n",
    "n_days = 90\n"
   ]
  },
  {
   "cell_type": "code",
   "execution_count": 5,
   "id": "c463ae3e",
   "metadata": {
    "execution": {
     "iopub.execute_input": "2021-11-13T01:32:58.054990Z",
     "iopub.status.busy": "2021-11-13T01:32:58.054373Z",
     "iopub.status.idle": "2021-11-13T01:32:58.060230Z",
     "shell.execute_reply": "2021-11-13T01:32:58.059713Z"
    },
    "papermill": {
     "duration": 0.050828,
     "end_time": "2021-11-13T01:32:58.060383",
     "exception": false,
     "start_time": "2021-11-13T01:32:58.009555",
     "status": "completed"
    },
    "tags": [
     "remove_cell"
    ]
   },
   "outputs": [
    {
     "data": {
      "application/papermill.record/text/plain": "'ipython'"
     },
     "metadata": {
      "scrapbook": {
       "mime_prefix": "application/papermill.record/",
       "name": "ipython_github_org"
      }
     },
     "output_type": "display_data"
    },
    {
     "data": {
      "application/papermill.record/text/plain": "'2021-08-15'"
     },
     "metadata": {
      "scrapbook": {
       "mime_prefix": "application/papermill.record/",
       "name": "ipython_start"
      }
     },
     "output_type": "display_data"
    },
    {
     "data": {
      "application/papermill.record/text/plain": "'2021-11-13'"
     },
     "metadata": {
      "scrapbook": {
       "mime_prefix": "application/papermill.record/",
       "name": "ipython_stop"
      }
     },
     "output_type": "display_data"
    }
   ],
   "source": [
    "############################################################\n",
    "# Variables\n",
    "stop = date.today()\n",
    "start = date.today() - relativedelta(days=n_days)\n",
    "\n",
    "# Strings for use in queries\n",
    "start_date = f\"{start:%Y-%m-%d}\"\n",
    "stop_date = f\"{stop:%Y-%m-%d}\"\n",
    "\n",
    "# Glue variables for use in markdown\n",
    "glue(f\"{github_org}_github_org\", github_org, display=False)\n",
    "glue(f\"{github_org}_start\", start_date, display=False)\n",
    "glue(f\"{github_org}_stop\", stop_date, display=False)"
   ]
  },
  {
   "cell_type": "markdown",
   "id": "eabe7559",
   "metadata": {
    "papermill": {
     "duration": 0.03937,
     "end_time": "2021-11-13T01:32:58.139730",
     "exception": false,
     "start_time": "2021-11-13T01:32:58.100360",
     "status": "completed"
    },
    "tags": []
   },
   "source": [
    "## Load data\n",
    "\n",
    "Load and clean up the data"
   ]
  },
  {
   "cell_type": "code",
   "execution_count": 6,
   "id": "b6a29272",
   "metadata": {
    "execution": {
     "iopub.execute_input": "2021-11-13T01:32:58.222055Z",
     "iopub.status.busy": "2021-11-13T01:32:58.221408Z",
     "iopub.status.idle": "2021-11-13T01:32:58.372027Z",
     "shell.execute_reply": "2021-11-13T01:32:58.372550Z"
    },
    "papermill": {
     "duration": 0.195385,
     "end_time": "2021-11-13T01:32:58.372761",
     "exception": false,
     "start_time": "2021-11-13T01:32:58.177376",
     "status": "completed"
    },
    "tags": []
   },
   "outputs": [],
   "source": [
    "from pathlib import Path\n",
    "path_data = Path(\"../data\")\n",
    "comments = pd.read_csv(path_data.joinpath('comments.csv'), index_col=None).drop_duplicates()\n",
    "issues = pd.read_csv(path_data.joinpath('issues.csv'), index_col=None).drop_duplicates()\n",
    "prs = pd.read_csv(path_data.joinpath('prs.csv'), index_col=None).drop_duplicates()\n",
    "\n",
    "for idata in [comments, issues, prs]:\n",
    "    idata.query(\"org == @github_org\", inplace=True)"
   ]
  },
  {
   "cell_type": "code",
   "execution_count": 7,
   "id": "c0a4005d",
   "metadata": {
    "execution": {
     "iopub.execute_input": "2021-11-13T01:32:58.457300Z",
     "iopub.status.busy": "2021-11-13T01:32:58.455150Z",
     "iopub.status.idle": "2021-11-13T01:32:58.461946Z",
     "shell.execute_reply": "2021-11-13T01:32:58.462447Z"
    },
    "papermill": {
     "duration": 0.050798,
     "end_time": "2021-11-13T01:32:58.462632",
     "exception": false,
     "start_time": "2021-11-13T01:32:58.411834",
     "status": "completed"
    },
    "tags": []
   },
   "outputs": [],
   "source": [
    "# What are the top N repos, we will only plot these in the full data plots\n",
    "top_commented_repos = comments.groupby(\"repo\").count().sort_values(\"createdAt\", ascending=False)['createdAt']\n",
    "use_repos = top_commented_repos.head(top_n_repos).index.tolist()"
   ]
  },
  {
   "cell_type": "markdown",
   "id": "c5e53f9c",
   "metadata": {
    "papermill": {
     "duration": 0.037075,
     "end_time": "2021-11-13T01:32:58.538569",
     "exception": false,
     "start_time": "2021-11-13T01:32:58.501494",
     "status": "completed"
    },
    "tags": [],
    "toc-hr-collapsed": false
   },
   "source": [
    "## Merged Pull requests\n",
    "\n",
    "Here's an analysis of **merged pull requests** across each of the repositories in the Jupyter\n",
    "ecosystem."
   ]
  },
  {
   "cell_type": "code",
   "execution_count": 8,
   "id": "bafd6353",
   "metadata": {
    "execution": {
     "iopub.execute_input": "2021-11-13T01:32:58.626913Z",
     "iopub.status.busy": "2021-11-13T01:32:58.626306Z",
     "iopub.status.idle": "2021-11-13T01:32:58.628826Z",
     "shell.execute_reply": "2021-11-13T01:32:58.628348Z"
    },
    "papermill": {
     "duration": 0.050678,
     "end_time": "2021-11-13T01:32:58.628967",
     "exception": false,
     "start_time": "2021-11-13T01:32:58.578289",
     "status": "completed"
    },
    "tags": [
     "remove_cell"
    ]
   },
   "outputs": [],
   "source": [
    "merged = prs.query('state == \"MERGED\" and closedAt > @start_date and closedAt < @stop_date')"
   ]
  },
  {
   "cell_type": "code",
   "execution_count": 9,
   "id": "3c607487",
   "metadata": {
    "execution": {
     "iopub.execute_input": "2021-11-13T01:32:58.705075Z",
     "iopub.status.busy": "2021-11-13T01:32:58.704411Z",
     "iopub.status.idle": "2021-11-13T01:32:58.741323Z",
     "shell.execute_reply": "2021-11-13T01:32:58.741993Z"
    },
    "papermill": {
     "duration": 0.077072,
     "end_time": "2021-11-13T01:32:58.742168",
     "exception": false,
     "start_time": "2021-11-13T01:32:58.665096",
     "status": "completed"
    },
    "tags": [
     "hide_input"
    ]
   },
   "outputs": [
    {
     "data": {
      "text/html": [
       "\n",
       "<div id=\"altair-viz-4a63895d08144121822cb9688dbf5373\"></div>\n",
       "<script type=\"text/javascript\">\n",
       "  (function(spec, embedOpt){\n",
       "    let outputDiv = document.currentScript.previousElementSibling;\n",
       "    if (outputDiv.id !== \"altair-viz-4a63895d08144121822cb9688dbf5373\") {\n",
       "      outputDiv = document.getElementById(\"altair-viz-4a63895d08144121822cb9688dbf5373\");\n",
       "    }\n",
       "    const paths = {\n",
       "      \"vega\": \"https://cdn.jsdelivr.net/npm//vega@5?noext\",\n",
       "      \"vega-lib\": \"https://cdn.jsdelivr.net/npm//vega-lib?noext\",\n",
       "      \"vega-lite\": \"https://cdn.jsdelivr.net/npm//vega-lite@4.8.1?noext\",\n",
       "      \"vega-embed\": \"https://cdn.jsdelivr.net/npm//vega-embed@6?noext\",\n",
       "    };\n",
       "\n",
       "    function loadScript(lib) {\n",
       "      return new Promise(function(resolve, reject) {\n",
       "        var s = document.createElement('script');\n",
       "        s.src = paths[lib];\n",
       "        s.async = true;\n",
       "        s.onload = () => resolve(paths[lib]);\n",
       "        s.onerror = () => reject(`Error loading script: ${paths[lib]}`);\n",
       "        document.getElementsByTagName(\"head\")[0].appendChild(s);\n",
       "      });\n",
       "    }\n",
       "\n",
       "    function showError(err) {\n",
       "      outputDiv.innerHTML = `<div class=\"error\" style=\"color:red;\">${err}</div>`;\n",
       "      throw err;\n",
       "    }\n",
       "\n",
       "    function displayChart(vegaEmbed) {\n",
       "      vegaEmbed(outputDiv, spec, embedOpt)\n",
       "        .catch(err => showError(`Javascript Error: ${err.message}<br>This usually means there's a typo in your chart specification. See the javascript console for the full traceback.`));\n",
       "    }\n",
       "\n",
       "    if(typeof define === \"function\" && define.amd) {\n",
       "      requirejs.config({paths});\n",
       "      require([\"vega-embed\"], displayChart, err => showError(`Error loading script: ${err.message}`));\n",
       "    } else if (typeof vegaEmbed === \"function\") {\n",
       "      displayChart(vegaEmbed);\n",
       "    } else {\n",
       "      loadScript(\"vega\")\n",
       "        .then(() => loadScript(\"vega-lite\"))\n",
       "        .then(() => loadScript(\"vega-embed\"))\n",
       "        .catch(showError)\n",
       "        .then(() => displayChart(vegaEmbed));\n",
       "    }\n",
       "  })({\"config\": {\"axisLeft\": {\"labelFontSize\": 15}, \"axisBottom\": {\"labelFontSize\": 15}}, \"data\": {\"name\": \"data-ca98b58ff87c75484bc6ab602ef0ad4c\"}, \"mark\": \"bar\", \"encoding\": {\"color\": {\"type\": \"nominal\", \"field\": \"org\"}, \"x\": {\"type\": \"nominal\", \"field\": \"repo\", \"sort\": [\"ipython\", \"ipyparallel\", \"ipykernel\", \"traitlets\", \"matplotlib-inline\", \"ipython-in-depth\"]}, \"y\": {\"type\": \"quantitative\", \"field\": \"author\"}}, \"title\": \"Merged PRs in the last 90 days\", \"$schema\": \"https://vega.github.io/schema/vega-lite/v4.8.1.json\", \"datasets\": {\"data-ca98b58ff87c75484bc6ab602ef0ad4c\": [{\"org\": \"ipython\", \"repo\": \"ipython\", \"author\": 73}, {\"org\": \"ipython\", \"repo\": \"ipyparallel\", \"author\": 51}, {\"org\": \"ipython\", \"repo\": \"ipykernel\", \"author\": 30}, {\"org\": \"ipython\", \"repo\": \"traitlets\", \"author\": 9}, {\"org\": \"ipython\", \"repo\": \"matplotlib-inline\", \"author\": 2}, {\"org\": \"ipython\", \"repo\": \"ipython-in-depth\", \"author\": 1}]}}, {\"mode\": \"vega-lite\"});\n",
       "</script>"
      ],
      "text/plain": [
       "alt.Chart(...)"
      ]
     },
     "execution_count": 9,
     "metadata": {},
     "output_type": "execute_result"
    }
   ],
   "source": [
    "prs_by_repo = merged.groupby(['org', 'repo']).count()['author'].reset_index().sort_values(['org', 'author'], ascending=False)\n",
    "alt.Chart(data=prs_by_repo, title=f\"Merged PRs in the last {n_days} days\").mark_bar().encode(\n",
    "    x=alt.X('repo', sort=prs_by_repo['repo'].values.tolist()),\n",
    "    y='author',\n",
    "    color='org'\n",
    ")"
   ]
  },
  {
   "cell_type": "markdown",
   "id": "a60e984e",
   "metadata": {
    "papermill": {
     "duration": 0.037532,
     "end_time": "2021-11-13T01:32:58.818502",
     "exception": false,
     "start_time": "2021-11-13T01:32:58.780970",
     "status": "completed"
    },
    "tags": []
   },
   "source": [
    "### Authoring and merging stats by repository\n",
    "\n",
    "Let's see who has been doing most of the PR authoring and merging. The PR author is generally the\n",
    "person that implemented a change in the repository (code, documentation, etc). The PR merger is\n",
    "the person that \"pressed the green button\" and got the change into the main codebase."
   ]
  },
  {
   "cell_type": "code",
   "execution_count": 10,
   "id": "82c2dfb8",
   "metadata": {
    "execution": {
     "iopub.execute_input": "2021-11-13T01:32:58.907086Z",
     "iopub.status.busy": "2021-11-13T01:32:58.900401Z",
     "iopub.status.idle": "2021-11-13T01:32:58.912670Z",
     "shell.execute_reply": "2021-11-13T01:32:58.913119Z"
    },
    "papermill": {
     "duration": 0.05718,
     "end_time": "2021-11-13T01:32:58.913289",
     "exception": false,
     "start_time": "2021-11-13T01:32:58.856109",
     "status": "completed"
    },
    "tags": [
     "remove_cell"
    ]
   },
   "outputs": [],
   "source": [
    "# Prep our merging DF\n",
    "merged_by_repo = merged.groupby(['repo', 'author'], as_index=False).agg({'id': 'count', 'authorAssociation': 'first'}).rename(columns={'id': \"authored\", 'author': 'username'})\n",
    "closed_by_repo = merged.groupby(['repo', 'mergedBy']).count()['id'].reset_index().rename(columns={'id': \"closed\", \"mergedBy\": \"username\"})"
   ]
  },
  {
   "cell_type": "code",
   "execution_count": 11,
   "id": "cbe885a2",
   "metadata": {
    "execution": {
     "iopub.execute_input": "2021-11-13T01:32:59.001588Z",
     "iopub.status.busy": "2021-11-13T01:32:59.000996Z",
     "iopub.status.idle": "2021-11-13T01:32:59.022111Z",
     "shell.execute_reply": "2021-11-13T01:32:59.022703Z"
    },
    "papermill": {
     "duration": 0.071293,
     "end_time": "2021-11-13T01:32:59.022922",
     "exception": false,
     "start_time": "2021-11-13T01:32:58.951629",
     "status": "completed"
    },
    "tags": [
     "hide_input"
    ]
   },
   "outputs": [
    {
     "data": {
      "text/html": [
       "\n",
       "<div id=\"altair-viz-cda2535ba86c4959b280f0539e24d4dc\"></div>\n",
       "<script type=\"text/javascript\">\n",
       "  (function(spec, embedOpt){\n",
       "    let outputDiv = document.currentScript.previousElementSibling;\n",
       "    if (outputDiv.id !== \"altair-viz-cda2535ba86c4959b280f0539e24d4dc\") {\n",
       "      outputDiv = document.getElementById(\"altair-viz-cda2535ba86c4959b280f0539e24d4dc\");\n",
       "    }\n",
       "    const paths = {\n",
       "      \"vega\": \"https://cdn.jsdelivr.net/npm//vega@5?noext\",\n",
       "      \"vega-lib\": \"https://cdn.jsdelivr.net/npm//vega-lib?noext\",\n",
       "      \"vega-lite\": \"https://cdn.jsdelivr.net/npm//vega-lite@4.8.1?noext\",\n",
       "      \"vega-embed\": \"https://cdn.jsdelivr.net/npm//vega-embed@6?noext\",\n",
       "    };\n",
       "\n",
       "    function loadScript(lib) {\n",
       "      return new Promise(function(resolve, reject) {\n",
       "        var s = document.createElement('script');\n",
       "        s.src = paths[lib];\n",
       "        s.async = true;\n",
       "        s.onload = () => resolve(paths[lib]);\n",
       "        s.onerror = () => reject(`Error loading script: ${paths[lib]}`);\n",
       "        document.getElementsByTagName(\"head\")[0].appendChild(s);\n",
       "      });\n",
       "    }\n",
       "\n",
       "    function showError(err) {\n",
       "      outputDiv.innerHTML = `<div class=\"error\" style=\"color:red;\">${err}</div>`;\n",
       "      throw err;\n",
       "    }\n",
       "\n",
       "    function displayChart(vegaEmbed) {\n",
       "      vegaEmbed(outputDiv, spec, embedOpt)\n",
       "        .catch(err => showError(`Javascript Error: ${err.message}<br>This usually means there's a typo in your chart specification. See the javascript console for the full traceback.`));\n",
       "    }\n",
       "\n",
       "    if(typeof define === \"function\" && define.amd) {\n",
       "      requirejs.config({paths});\n",
       "      require([\"vega-embed\"], displayChart, err => showError(`Error loading script: ${err.message}`));\n",
       "    } else if (typeof vegaEmbed === \"function\") {\n",
       "      displayChart(vegaEmbed);\n",
       "    } else {\n",
       "      loadScript(\"vega\")\n",
       "        .then(() => loadScript(\"vega-lite\"))\n",
       "        .then(() => loadScript(\"vega-embed\"))\n",
       "        .catch(showError)\n",
       "        .then(() => displayChart(vegaEmbed));\n",
       "    }\n",
       "  })({\"config\": {\"axisLeft\": {\"labelFontSize\": 15}, \"axisBottom\": {\"labelFontSize\": 15}}, \"data\": {\"name\": \"data-214762c168abba1b127a6a0ab19547e1\"}, \"mark\": \"bar\", \"encoding\": {\"color\": {\"type\": \"nominal\", \"field\": \"authorAssociation\", \"scale\": {\"domain\": [\"MEMBER\", \"CONTRIBUTOR\", \"COLLABORATOR\", \"NONE\"], \"range\": [\"rgb(211.82745098039214, 211.82745098039214, 211.82745098039214)\", \"rgb(166.98562091503268, 229.89803921568628, 166.98562091503268)\", \"rgb(96.37647058823529, 192.75294117647059, 96.37647058823529)\", \"rgb(0.0, 100.3921568627451, 0.0)\"]}}, \"x\": {\"type\": \"nominal\", \"field\": \"username\"}, \"y\": {\"type\": \"quantitative\", \"field\": \"authored\"}}, \"title\": \"PR authors for ipython in the last 90 days\", \"$schema\": \"https://vega.github.io/schema/vega-lite/v4.8.1.json\", \"datasets\": {\"data-214762c168abba1b127a6a0ab19547e1\": [{\"username\": \"minrk\", \"authored\": 56, \"authorAssociation\": \"MEMBER\"}, {\"username\": \"Carreau\", \"authored\": 30, \"authorAssociation\": \"MEMBER\"}, {\"username\": \"Kojoley\", \"authored\": 14, \"authorAssociation\": \"COLLABORATOR\"}, {\"username\": \"blink1073\", \"authored\": 8, \"authorAssociation\": \"MEMBER\"}, {\"username\": \"MrMino\", \"authored\": 5, \"authorAssociation\": \"MEMBER\"}, {\"username\": \"tacaswell\", \"authored\": 3, \"authorAssociation\": \"CONTRIBUTOR\"}, {\"username\": \"madbird1304\", \"authored\": 3, \"authorAssociation\": \"CONTRIBUTOR\"}, {\"username\": \"martinRenou\", \"authored\": 3, \"authorAssociation\": \"CONTRIBUTOR\"}, {\"username\": \"JohanMabille\", \"authored\": 2, \"authorAssociation\": \"CONTRIBUTOR\"}, {\"username\": \"takluyver\", \"authored\": 2, \"authorAssociation\": \"MEMBER\"}, {\"username\": \"deep-jkl\", \"authored\": 2, \"authorAssociation\": \"CONTRIBUTOR\"}, {\"username\": \"sgaist\", \"authored\": 2, \"authorAssociation\": \"CONTRIBUTOR\"}, {\"username\": \"DimitriPapadopoulos\", \"authored\": 2, \"authorAssociation\": \"CONTRIBUTOR\"}, {\"username\": \"kloczek\", \"authored\": 1, \"authorAssociation\": \"CONTRIBUTOR\"}, {\"username\": \"matthewfeickert\", \"authored\": 1, \"authorAssociation\": \"CONTRIBUTOR\"}, {\"username\": \"meysam81\", \"authored\": 1, \"authorAssociation\": \"CONTRIBUTOR\"}, {\"username\": \"mgorny\", \"authored\": 1, \"authorAssociation\": \"CONTRIBUTOR\"}, {\"username\": \"pijyoi\", \"authored\": 1, \"authorAssociation\": \"CONTRIBUTOR\"}, {\"username\": \"paw-lu\", \"authored\": 1, \"authorAssociation\": \"CONTRIBUTOR\"}, {\"username\": \"penguinolog\", \"authored\": 1, \"authorAssociation\": \"CONTRIBUTOR\"}, {\"username\": \"ianhi\", \"authored\": 1, \"authorAssociation\": \"CONTRIBUTOR\"}, {\"username\": \"prius\", \"authored\": 1, \"authorAssociation\": \"NONE\"}, {\"username\": \"rayosborn\", \"authored\": 1, \"authorAssociation\": \"CONTRIBUTOR\"}, {\"username\": \"stukowski\", \"authored\": 1, \"authorAssociation\": \"CONTRIBUTOR\"}, {\"username\": \"tomoboy\", \"authored\": 1, \"authorAssociation\": \"CONTRIBUTOR\"}, {\"username\": \"impact27\", \"authored\": 1, \"authorAssociation\": \"CONTRIBUTOR\"}, {\"username\": \"fperez\", \"authored\": 1, \"authorAssociation\": \"MEMBER\"}, {\"username\": \"haobibo\", \"authored\": 1, \"authorAssociation\": \"CONTRIBUTOR\"}, {\"username\": \"gpotter2\", \"authored\": 1, \"authorAssociation\": \"CONTRIBUTOR\"}, {\"username\": \"MRCWirtz\", \"authored\": 1, \"authorAssociation\": \"CONTRIBUTOR\"}, {\"username\": \"Mithil467\", \"authored\": 1, \"authorAssociation\": \"CONTRIBUTOR\"}, {\"username\": \"NaelsonDouglas\", \"authored\": 1, \"authorAssociation\": \"CONTRIBUTOR\"}, {\"username\": \"QuLogic\", \"authored\": 1, \"authorAssociation\": \"CONTRIBUTOR\"}, {\"username\": \"WoLpH\", \"authored\": 1, \"authorAssociation\": \"CONTRIBUTOR\"}, {\"username\": \"adamchainz\", \"authored\": 1, \"authorAssociation\": \"CONTRIBUTOR\"}, {\"username\": \"afshin\", \"authored\": 1, \"authorAssociation\": \"MEMBER\"}, {\"username\": \"blois\", \"authored\": 1, \"authorAssociation\": \"CONTRIBUTOR\"}, {\"username\": \"carlosperate\", \"authored\": 1, \"authorAssociation\": \"NONE\"}, {\"username\": \"daniel-shimon\", \"authored\": 1, \"authorAssociation\": \"CONTRIBUTOR\"}, {\"username\": \"davidbrochart\", \"authored\": 1, \"authorAssociation\": \"COLLABORATOR\"}, {\"username\": \"djcomlab\", \"authored\": 1, \"authorAssociation\": \"CONTRIBUTOR\"}, {\"username\": \"ellert\", \"authored\": 1, \"authorAssociation\": \"CONTRIBUTOR\"}, {\"username\": \"emuccino\", \"authored\": 1, \"authorAssociation\": \"CONTRIBUTOR\"}, {\"username\": \"erihe251\", \"authored\": 1, \"authorAssociation\": \"CONTRIBUTOR\"}, {\"username\": \"fcollonval\", \"authored\": 1, \"authorAssociation\": \"CONTRIBUTOR\"}, {\"username\": \"frenzymadness\", \"authored\": 1, \"authorAssociation\": \"CONTRIBUTOR\"}, {\"username\": \"yuji96\", \"authored\": 1, \"authorAssociation\": \"CONTRIBUTOR\"}]}}, {\"mode\": \"vega-lite\"});\n",
       "</script>"
      ],
      "text/plain": [
       "alt.Chart(...)"
      ]
     },
     "execution_count": 11,
     "metadata": {},
     "output_type": "execute_result"
    }
   ],
   "source": [
    "charts = []\n",
    "title = f\"PR authors for {github_org} in the last {n_days} days\"\n",
    "this_data = merged_by_repo.replace(np.nan, 0).groupby('username', as_index=False).agg({'authored': 'sum', 'authorAssociation': 'first'})\n",
    "this_data = this_data.sort_values('authored', ascending=False)\n",
    "ch = alt.Chart(data=this_data, title=title).mark_bar().encode(\n",
    "    x='username',\n",
    "    y='authored',\n",
    "    color=alt.Color('authorAssociation', scale=alt.Scale(domain=author_types, range=author_colors))\n",
    ")\n",
    "ch"
   ]
  },
  {
   "cell_type": "code",
   "execution_count": 12,
   "id": "11b0bc70",
   "metadata": {
    "execution": {
     "iopub.execute_input": "2021-11-13T01:32:59.121961Z",
     "iopub.status.busy": "2021-11-13T01:32:59.121315Z",
     "iopub.status.idle": "2021-11-13T01:32:59.123644Z",
     "shell.execute_reply": "2021-11-13T01:32:59.124207Z"
    },
    "papermill": {
     "duration": 0.062973,
     "end_time": "2021-11-13T01:32:59.124388",
     "exception": false,
     "start_time": "2021-11-13T01:32:59.061415",
     "status": "completed"
    },
    "tags": [
     "hide_input"
    ]
   },
   "outputs": [
    {
     "data": {
      "text/html": [
       "\n",
       "<div id=\"altair-viz-20e8241784ae41b7b562121f975e57eb\"></div>\n",
       "<script type=\"text/javascript\">\n",
       "  (function(spec, embedOpt){\n",
       "    let outputDiv = document.currentScript.previousElementSibling;\n",
       "    if (outputDiv.id !== \"altair-viz-20e8241784ae41b7b562121f975e57eb\") {\n",
       "      outputDiv = document.getElementById(\"altair-viz-20e8241784ae41b7b562121f975e57eb\");\n",
       "    }\n",
       "    const paths = {\n",
       "      \"vega\": \"https://cdn.jsdelivr.net/npm//vega@5?noext\",\n",
       "      \"vega-lib\": \"https://cdn.jsdelivr.net/npm//vega-lib?noext\",\n",
       "      \"vega-lite\": \"https://cdn.jsdelivr.net/npm//vega-lite@4.8.1?noext\",\n",
       "      \"vega-embed\": \"https://cdn.jsdelivr.net/npm//vega-embed@6?noext\",\n",
       "    };\n",
       "\n",
       "    function loadScript(lib) {\n",
       "      return new Promise(function(resolve, reject) {\n",
       "        var s = document.createElement('script');\n",
       "        s.src = paths[lib];\n",
       "        s.async = true;\n",
       "        s.onload = () => resolve(paths[lib]);\n",
       "        s.onerror = () => reject(`Error loading script: ${paths[lib]}`);\n",
       "        document.getElementsByTagName(\"head\")[0].appendChild(s);\n",
       "      });\n",
       "    }\n",
       "\n",
       "    function showError(err) {\n",
       "      outputDiv.innerHTML = `<div class=\"error\" style=\"color:red;\">${err}</div>`;\n",
       "      throw err;\n",
       "    }\n",
       "\n",
       "    function displayChart(vegaEmbed) {\n",
       "      vegaEmbed(outputDiv, spec, embedOpt)\n",
       "        .catch(err => showError(`Javascript Error: ${err.message}<br>This usually means there's a typo in your chart specification. See the javascript console for the full traceback.`));\n",
       "    }\n",
       "\n",
       "    if(typeof define === \"function\" && define.amd) {\n",
       "      requirejs.config({paths});\n",
       "      require([\"vega-embed\"], displayChart, err => showError(`Error loading script: ${err.message}`));\n",
       "    } else if (typeof vegaEmbed === \"function\") {\n",
       "      displayChart(vegaEmbed);\n",
       "    } else {\n",
       "      loadScript(\"vega\")\n",
       "        .then(() => loadScript(\"vega-lite\"))\n",
       "        .then(() => loadScript(\"vega-embed\"))\n",
       "        .catch(showError)\n",
       "        .then(() => displayChart(vegaEmbed));\n",
       "    }\n",
       "  })({\"config\": {\"axisLeft\": {\"labelFontSize\": 15}, \"axisBottom\": {\"labelFontSize\": 15}}, \"data\": {\"name\": \"data-810e0b873e3cfdb40b0c400988d0b73a\"}, \"mark\": \"bar\", \"encoding\": {\"x\": {\"type\": \"nominal\", \"field\": \"username\"}, \"y\": {\"type\": \"quantitative\", \"field\": \"closed\"}}, \"title\": \"Merges for ipython in the last 90 days\", \"$schema\": \"https://vega.github.io/schema/vega-lite/v4.8.1.json\", \"datasets\": {\"data-810e0b873e3cfdb40b0c400988d0b73a\": [{\"repo\": \"ipykernel\", \"username\": \"Carreau\", \"closed\": 1}, {\"repo\": \"ipykernel\", \"username\": \"blink1073\", \"closed\": 26}, {\"repo\": \"ipykernel\", \"username\": \"minrk\", \"closed\": 3}, {\"repo\": \"ipyparallel\", \"username\": \"minrk\", \"closed\": 51}, {\"repo\": \"ipython\", \"username\": \"Carreau\", \"closed\": 61}, {\"repo\": \"ipython\", \"username\": \"MrMino\", \"closed\": 11}, {\"repo\": \"ipython\", \"username\": \"minrk\", \"closed\": 1}, {\"repo\": \"ipython-in-depth\", \"username\": \"minrk\", \"closed\": 1}, {\"repo\": \"matplotlib-inline\", \"username\": \"martinRenou\", \"closed\": 2}, {\"repo\": \"traitlets\", \"username\": \"Carreau\", \"closed\": 5}, {\"repo\": \"traitlets\", \"username\": \"minrk\", \"closed\": 4}]}}, {\"mode\": \"vega-lite\"});\n",
       "</script>"
      ],
      "text/plain": [
       "alt.Chart(...)"
      ]
     },
     "execution_count": 12,
     "metadata": {},
     "output_type": "execute_result"
    }
   ],
   "source": [
    "charts = []\n",
    "title = f\"Merges for {github_org} in the last {n_days} days\"\n",
    "ch = alt.Chart(data=closed_by_repo.replace(np.nan, 0), title=title).mark_bar().encode(\n",
    "    x='username',\n",
    "    y='closed',\n",
    ")\n",
    "ch"
   ]
  },
  {
   "cell_type": "markdown",
   "id": "59ec5244",
   "metadata": {
    "papermill": {
     "duration": 0.03987,
     "end_time": "2021-11-13T01:32:59.205435",
     "exception": false,
     "start_time": "2021-11-13T01:32:59.165565",
     "status": "completed"
    },
    "tags": []
   },
   "source": [
    "## Issues\n",
    "\n",
    "Issues are **conversations** that happen on our GitHub repositories. Here's an\n",
    "analysis of issues across the Jupyter organizations."
   ]
  },
  {
   "cell_type": "code",
   "execution_count": 13,
   "id": "2951bf2d",
   "metadata": {
    "execution": {
     "iopub.execute_input": "2021-11-13T01:32:59.298553Z",
     "iopub.status.busy": "2021-11-13T01:32:59.297939Z",
     "iopub.status.idle": "2021-11-13T01:32:59.300502Z",
     "shell.execute_reply": "2021-11-13T01:32:59.300012Z"
    },
    "papermill": {
     "duration": 0.056369,
     "end_time": "2021-11-13T01:32:59.300661",
     "exception": false,
     "start_time": "2021-11-13T01:32:59.244292",
     "status": "completed"
    },
    "tags": [
     "remove_cell"
    ]
   },
   "outputs": [],
   "source": [
    "created = issues.query('state == \"OPEN\" and createdAt > @start_date and createdAt < @stop_date')\n",
    "closed = issues.query('state == \"CLOSED\" and closedAt > @start_date and closedAt < @stop_date')"
   ]
  },
  {
   "cell_type": "code",
   "execution_count": 14,
   "id": "2520abe4",
   "metadata": {
    "execution": {
     "iopub.execute_input": "2021-11-13T01:32:59.394315Z",
     "iopub.status.busy": "2021-11-13T01:32:59.386566Z",
     "iopub.status.idle": "2021-11-13T01:32:59.415234Z",
     "shell.execute_reply": "2021-11-13T01:32:59.414710Z"
    },
    "papermill": {
     "duration": 0.074146,
     "end_time": "2021-11-13T01:32:59.415389",
     "exception": false,
     "start_time": "2021-11-13T01:32:59.341243",
     "status": "completed"
    },
    "tags": [
     "hide_input"
    ]
   },
   "outputs": [
    {
     "data": {
      "text/html": [
       "\n",
       "<div id=\"altair-viz-d202095d3a1d4610873035151c97aca4\"></div>\n",
       "<script type=\"text/javascript\">\n",
       "  (function(spec, embedOpt){\n",
       "    let outputDiv = document.currentScript.previousElementSibling;\n",
       "    if (outputDiv.id !== \"altair-viz-d202095d3a1d4610873035151c97aca4\") {\n",
       "      outputDiv = document.getElementById(\"altair-viz-d202095d3a1d4610873035151c97aca4\");\n",
       "    }\n",
       "    const paths = {\n",
       "      \"vega\": \"https://cdn.jsdelivr.net/npm//vega@5?noext\",\n",
       "      \"vega-lib\": \"https://cdn.jsdelivr.net/npm//vega-lib?noext\",\n",
       "      \"vega-lite\": \"https://cdn.jsdelivr.net/npm//vega-lite@4.8.1?noext\",\n",
       "      \"vega-embed\": \"https://cdn.jsdelivr.net/npm//vega-embed@6?noext\",\n",
       "    };\n",
       "\n",
       "    function loadScript(lib) {\n",
       "      return new Promise(function(resolve, reject) {\n",
       "        var s = document.createElement('script');\n",
       "        s.src = paths[lib];\n",
       "        s.async = true;\n",
       "        s.onload = () => resolve(paths[lib]);\n",
       "        s.onerror = () => reject(`Error loading script: ${paths[lib]}`);\n",
       "        document.getElementsByTagName(\"head\")[0].appendChild(s);\n",
       "      });\n",
       "    }\n",
       "\n",
       "    function showError(err) {\n",
       "      outputDiv.innerHTML = `<div class=\"error\" style=\"color:red;\">${err}</div>`;\n",
       "      throw err;\n",
       "    }\n",
       "\n",
       "    function displayChart(vegaEmbed) {\n",
       "      vegaEmbed(outputDiv, spec, embedOpt)\n",
       "        .catch(err => showError(`Javascript Error: ${err.message}<br>This usually means there's a typo in your chart specification. See the javascript console for the full traceback.`));\n",
       "    }\n",
       "\n",
       "    if(typeof define === \"function\" && define.amd) {\n",
       "      requirejs.config({paths});\n",
       "      require([\"vega-embed\"], displayChart, err => showError(`Error loading script: ${err.message}`));\n",
       "    } else if (typeof vegaEmbed === \"function\") {\n",
       "      displayChart(vegaEmbed);\n",
       "    } else {\n",
       "      loadScript(\"vega\")\n",
       "        .then(() => loadScript(\"vega-lite\"))\n",
       "        .then(() => loadScript(\"vega-embed\"))\n",
       "        .catch(showError)\n",
       "        .then(() => displayChart(vegaEmbed));\n",
       "    }\n",
       "  })({\"config\": {\"axisLeft\": {\"labelFontSize\": 15}, \"axisBottom\": {\"labelFontSize\": 15}}, \"data\": {\"name\": \"data-e8bc563ed13bb83b508802983f5f36cf\"}, \"mark\": \"bar\", \"encoding\": {\"x\": {\"type\": \"nominal\", \"field\": \"repo\", \"sort\": [\"ipython\", \"ipykernel\", \"ipyparallel\", \"matplotlib-inline\", \"traitlets\", \"ipython-in-depth\", \"xkcd-font\"]}, \"y\": {\"type\": \"quantitative\", \"field\": \"number\"}}, \"title\": \"Issues created in the last 90 days\", \"$schema\": \"https://vega.github.io/schema/vega-lite/v4.8.1.json\", \"datasets\": {\"data-e8bc563ed13bb83b508802983f5f36cf\": [{\"org\": \"ipython\", \"repo\": \"ipykernel\", \"number\": 16, \"org/repo\": \"ipython/ipykernel\"}, {\"org\": \"ipython\", \"repo\": \"ipyparallel\", \"number\": 4, \"org/repo\": \"ipython/ipyparallel\"}, {\"org\": \"ipython\", \"repo\": \"ipython\", \"number\": 38, \"org/repo\": \"ipython/ipython\"}, {\"org\": \"ipython\", \"repo\": \"ipython-in-depth\", \"number\": 1, \"org/repo\": \"ipython/ipython-in-depth\"}, {\"org\": \"ipython\", \"repo\": \"matplotlib-inline\", \"number\": 2, \"org/repo\": \"ipython/matplotlib-inline\"}, {\"org\": \"ipython\", \"repo\": \"traitlets\", \"number\": 2, \"org/repo\": \"ipython/traitlets\"}, {\"org\": \"ipython\", \"repo\": \"xkcd-font\", \"number\": 1, \"org/repo\": \"ipython/xkcd-font\"}]}}, {\"mode\": \"vega-lite\"});\n",
       "</script>"
      ],
      "text/plain": [
       "alt.Chart(...)"
      ]
     },
     "execution_count": 14,
     "metadata": {},
     "output_type": "execute_result"
    }
   ],
   "source": [
    "created_counts = created.groupby(['org', 'repo']).count()['number'].reset_index()\n",
    "created_counts['org/repo'] = created_counts.apply(lambda a: a['org'] + '/' + a['repo'], axis=1)\n",
    "sorted_vals = created_counts.sort_values(['org', 'number'], ascending=False)['repo'].values\n",
    "alt.Chart(data=created_counts, title=f\"Issues created in the last {n_days} days\").mark_bar().encode(\n",
    "    x=alt.X('repo', sort=alt.Sort(sorted_vals.tolist())),\n",
    "    y='number',\n",
    ")"
   ]
  },
  {
   "cell_type": "code",
   "execution_count": 15,
   "id": "1af59c66",
   "metadata": {
    "execution": {
     "iopub.execute_input": "2021-11-13T01:32:59.507594Z",
     "iopub.status.busy": "2021-11-13T01:32:59.506980Z",
     "iopub.status.idle": "2021-11-13T01:32:59.528573Z",
     "shell.execute_reply": "2021-11-13T01:32:59.529071Z"
    },
    "papermill": {
     "duration": 0.072343,
     "end_time": "2021-11-13T01:32:59.529258",
     "exception": false,
     "start_time": "2021-11-13T01:32:59.456915",
     "status": "completed"
    },
    "tags": [
     "hide_input"
    ]
   },
   "outputs": [
    {
     "data": {
      "text/html": [
       "\n",
       "<div id=\"altair-viz-58e5046b92cb4a4da5e52a82f62feb86\"></div>\n",
       "<script type=\"text/javascript\">\n",
       "  (function(spec, embedOpt){\n",
       "    let outputDiv = document.currentScript.previousElementSibling;\n",
       "    if (outputDiv.id !== \"altair-viz-58e5046b92cb4a4da5e52a82f62feb86\") {\n",
       "      outputDiv = document.getElementById(\"altair-viz-58e5046b92cb4a4da5e52a82f62feb86\");\n",
       "    }\n",
       "    const paths = {\n",
       "      \"vega\": \"https://cdn.jsdelivr.net/npm//vega@5?noext\",\n",
       "      \"vega-lib\": \"https://cdn.jsdelivr.net/npm//vega-lib?noext\",\n",
       "      \"vega-lite\": \"https://cdn.jsdelivr.net/npm//vega-lite@4.8.1?noext\",\n",
       "      \"vega-embed\": \"https://cdn.jsdelivr.net/npm//vega-embed@6?noext\",\n",
       "    };\n",
       "\n",
       "    function loadScript(lib) {\n",
       "      return new Promise(function(resolve, reject) {\n",
       "        var s = document.createElement('script');\n",
       "        s.src = paths[lib];\n",
       "        s.async = true;\n",
       "        s.onload = () => resolve(paths[lib]);\n",
       "        s.onerror = () => reject(`Error loading script: ${paths[lib]}`);\n",
       "        document.getElementsByTagName(\"head\")[0].appendChild(s);\n",
       "      });\n",
       "    }\n",
       "\n",
       "    function showError(err) {\n",
       "      outputDiv.innerHTML = `<div class=\"error\" style=\"color:red;\">${err}</div>`;\n",
       "      throw err;\n",
       "    }\n",
       "\n",
       "    function displayChart(vegaEmbed) {\n",
       "      vegaEmbed(outputDiv, spec, embedOpt)\n",
       "        .catch(err => showError(`Javascript Error: ${err.message}<br>This usually means there's a typo in your chart specification. See the javascript console for the full traceback.`));\n",
       "    }\n",
       "\n",
       "    if(typeof define === \"function\" && define.amd) {\n",
       "      requirejs.config({paths});\n",
       "      require([\"vega-embed\"], displayChart, err => showError(`Error loading script: ${err.message}`));\n",
       "    } else if (typeof vegaEmbed === \"function\") {\n",
       "      displayChart(vegaEmbed);\n",
       "    } else {\n",
       "      loadScript(\"vega\")\n",
       "        .then(() => loadScript(\"vega-lite\"))\n",
       "        .then(() => loadScript(\"vega-embed\"))\n",
       "        .catch(showError)\n",
       "        .then(() => displayChart(vegaEmbed));\n",
       "    }\n",
       "  })({\"config\": {\"axisLeft\": {\"labelFontSize\": 15}, \"axisBottom\": {\"labelFontSize\": 15}}, \"data\": {\"name\": \"data-7de5eae66d3d2aa4377e80fd91975b05\"}, \"mark\": \"bar\", \"encoding\": {\"x\": {\"type\": \"nominal\", \"field\": \"repo\", \"sort\": [\"ipython\", \"ipyparallel\", \"ipykernel\", \"traitlets\", \"ipython-in-depth\", \"matplotlib-inline\"]}, \"y\": {\"type\": \"quantitative\", \"field\": \"number\"}}, \"title\": \"Issues closed in the last 90 days\", \"$schema\": \"https://vega.github.io/schema/vega-lite/v4.8.1.json\", \"datasets\": {\"data-7de5eae66d3d2aa4377e80fd91975b05\": [{\"org\": \"ipython\", \"repo\": \"ipykernel\", \"number\": 11, \"org/repo\": \"ipython/ipykernel\"}, {\"org\": \"ipython\", \"repo\": \"ipyparallel\", \"number\": 29, \"org/repo\": \"ipython/ipyparallel\"}, {\"org\": \"ipython\", \"repo\": \"ipython\", \"number\": 37, \"org/repo\": \"ipython/ipython\"}, {\"org\": \"ipython\", \"repo\": \"ipython-in-depth\", \"number\": 3, \"org/repo\": \"ipython/ipython-in-depth\"}, {\"org\": \"ipython\", \"repo\": \"matplotlib-inline\", \"number\": 2, \"org/repo\": \"ipython/matplotlib-inline\"}, {\"org\": \"ipython\", \"repo\": \"traitlets\", \"number\": 6, \"org/repo\": \"ipython/traitlets\"}]}}, {\"mode\": \"vega-lite\"});\n",
       "</script>"
      ],
      "text/plain": [
       "alt.Chart(...)"
      ]
     },
     "execution_count": 15,
     "metadata": {},
     "output_type": "execute_result"
    }
   ],
   "source": [
    "closed_counts = closed.groupby(['org', 'repo']).count()['number'].reset_index()\n",
    "closed_counts['org/repo'] = closed_counts.apply(lambda a: a['org'] + '/' + a['repo'], axis=1)\n",
    "sorted_vals = closed_counts.sort_values(['number'], ascending=False)['repo'].values\n",
    "alt.Chart(data=closed_counts, title=f\"Issues closed in the last {n_days} days\").mark_bar().encode(\n",
    "    x=alt.X('repo', sort=alt.Sort(sorted_vals.tolist())),\n",
    "    y='number',\n",
    ")"
   ]
  },
  {
   "cell_type": "code",
   "execution_count": 16,
   "id": "465b2f24",
   "metadata": {
    "execution": {
     "iopub.execute_input": "2021-11-13T01:32:59.623787Z",
     "iopub.status.busy": "2021-11-13T01:32:59.623182Z",
     "iopub.status.idle": "2021-11-13T01:32:59.629939Z",
     "shell.execute_reply": "2021-11-13T01:32:59.629417Z"
    },
    "papermill": {
     "duration": 0.059409,
     "end_time": "2021-11-13T01:32:59.630110",
     "exception": false,
     "start_time": "2021-11-13T01:32:59.570701",
     "status": "completed"
    },
    "tags": [
     "remove_cell"
    ]
   },
   "outputs": [],
   "source": [
    "created_closed = pd.merge(created_counts.rename(columns={'number': 'created'}).drop(columns='org/repo'),\n",
    "                          closed_counts.rename(columns={'number': 'closed'}).drop(columns='org/repo'),\n",
    "                          on=['org', 'repo'], how='outer')\n",
    "\n",
    "created_closed = pd.melt(created_closed, id_vars=['org', 'repo'], var_name=\"kind\", value_name=\"count\").replace(np.nan, 0)"
   ]
  },
  {
   "cell_type": "code",
   "execution_count": 17,
   "id": "72bb8278",
   "metadata": {
    "execution": {
     "iopub.execute_input": "2021-11-13T01:32:59.747474Z",
     "iopub.status.busy": "2021-11-13T01:32:59.746367Z",
     "iopub.status.idle": "2021-11-13T01:32:59.750068Z",
     "shell.execute_reply": "2021-11-13T01:32:59.749517Z"
    },
    "papermill": {
     "duration": 0.076171,
     "end_time": "2021-11-13T01:32:59.750224",
     "exception": false,
     "start_time": "2021-11-13T01:32:59.674053",
     "status": "completed"
    },
    "tags": [
     "hide_input"
    ]
   },
   "outputs": [
    {
     "data": {
      "text/html": [
       "\n",
       "<div id=\"altair-viz-ec53dd51504949d6a0b53e905ccd9794\"></div>\n",
       "<script type=\"text/javascript\">\n",
       "  (function(spec, embedOpt){\n",
       "    let outputDiv = document.currentScript.previousElementSibling;\n",
       "    if (outputDiv.id !== \"altair-viz-ec53dd51504949d6a0b53e905ccd9794\") {\n",
       "      outputDiv = document.getElementById(\"altair-viz-ec53dd51504949d6a0b53e905ccd9794\");\n",
       "    }\n",
       "    const paths = {\n",
       "      \"vega\": \"https://cdn.jsdelivr.net/npm//vega@5?noext\",\n",
       "      \"vega-lib\": \"https://cdn.jsdelivr.net/npm//vega-lib?noext\",\n",
       "      \"vega-lite\": \"https://cdn.jsdelivr.net/npm//vega-lite@4.8.1?noext\",\n",
       "      \"vega-embed\": \"https://cdn.jsdelivr.net/npm//vega-embed@6?noext\",\n",
       "    };\n",
       "\n",
       "    function loadScript(lib) {\n",
       "      return new Promise(function(resolve, reject) {\n",
       "        var s = document.createElement('script');\n",
       "        s.src = paths[lib];\n",
       "        s.async = true;\n",
       "        s.onload = () => resolve(paths[lib]);\n",
       "        s.onerror = () => reject(`Error loading script: ${paths[lib]}`);\n",
       "        document.getElementsByTagName(\"head\")[0].appendChild(s);\n",
       "      });\n",
       "    }\n",
       "\n",
       "    function showError(err) {\n",
       "      outputDiv.innerHTML = `<div class=\"error\" style=\"color:red;\">${err}</div>`;\n",
       "      throw err;\n",
       "    }\n",
       "\n",
       "    function displayChart(vegaEmbed) {\n",
       "      vegaEmbed(outputDiv, spec, embedOpt)\n",
       "        .catch(err => showError(`Javascript Error: ${err.message}<br>This usually means there's a typo in your chart specification. See the javascript console for the full traceback.`));\n",
       "    }\n",
       "\n",
       "    if(typeof define === \"function\" && define.amd) {\n",
       "      requirejs.config({paths});\n",
       "      require([\"vega-embed\"], displayChart, err => showError(`Error loading script: ${err.message}`));\n",
       "    } else if (typeof vegaEmbed === \"function\") {\n",
       "      displayChart(vegaEmbed);\n",
       "    } else {\n",
       "      loadScript(\"vega\")\n",
       "        .then(() => loadScript(\"vega-lite\"))\n",
       "        .then(() => loadScript(\"vega-embed\"))\n",
       "        .catch(showError)\n",
       "        .then(() => displayChart(vegaEmbed));\n",
       "    }\n",
       "  })({\"config\": {\"axisLeft\": {\"labelFontSize\": 15}, \"axisBottom\": {\"labelFontSize\": 15}}, \"data\": {\"name\": \"data-f0dfc87a6c952da235bc74028955d4bd\"}, \"mark\": \"bar\", \"encoding\": {\"color\": {\"type\": \"nominal\", \"field\": \"kind\"}, \"column\": {\"type\": \"nominal\", \"field\": \"repo\", \"header\": {\"labelFontSize\": 12, \"title\": \"Issue activity, last 90 days for ipython\", \"titleFontSize\": 15}}, \"x\": {\"type\": \"nominal\", \"axis\": {\"labelFontSize\": 15, \"title\": \"\"}, \"field\": \"kind\"}, \"y\": {\"type\": \"quantitative\", \"axis\": {\"labelFontSize\": 12, \"titleFontSize\": 15}, \"field\": \"count\"}}, \"width\": 120, \"$schema\": \"https://vega.github.io/schema/vega-lite/v4.8.1.json\", \"datasets\": {\"data-f0dfc87a6c952da235bc74028955d4bd\": [{\"org\": \"ipython\", \"repo\": \"ipykernel\", \"kind\": \"created\", \"count\": 16.0}, {\"org\": \"ipython\", \"repo\": \"ipyparallel\", \"kind\": \"created\", \"count\": 4.0}, {\"org\": \"ipython\", \"repo\": \"ipython\", \"kind\": \"created\", \"count\": 38.0}, {\"org\": \"ipython\", \"repo\": \"ipython-in-depth\", \"kind\": \"created\", \"count\": 1.0}, {\"org\": \"ipython\", \"repo\": \"matplotlib-inline\", \"kind\": \"created\", \"count\": 2.0}, {\"org\": \"ipython\", \"repo\": \"traitlets\", \"kind\": \"created\", \"count\": 2.0}, {\"org\": \"ipython\", \"repo\": \"xkcd-font\", \"kind\": \"created\", \"count\": 1.0}, {\"org\": \"ipython\", \"repo\": \"ipykernel\", \"kind\": \"closed\", \"count\": 11.0}, {\"org\": \"ipython\", \"repo\": \"ipyparallel\", \"kind\": \"closed\", \"count\": 29.0}, {\"org\": \"ipython\", \"repo\": \"ipython\", \"kind\": \"closed\", \"count\": 37.0}, {\"org\": \"ipython\", \"repo\": \"ipython-in-depth\", \"kind\": \"closed\", \"count\": 3.0}, {\"org\": \"ipython\", \"repo\": \"matplotlib-inline\", \"kind\": \"closed\", \"count\": 2.0}, {\"org\": \"ipython\", \"repo\": \"traitlets\", \"kind\": \"closed\", \"count\": 6.0}, {\"org\": \"ipython\", \"repo\": \"xkcd-font\", \"kind\": \"closed\", \"count\": 0.0}]}}, {\"mode\": \"vega-lite\"});\n",
       "</script>"
      ],
      "text/plain": [
       "alt.Chart(...)"
      ]
     },
     "execution_count": 17,
     "metadata": {},
     "output_type": "execute_result"
    }
   ],
   "source": [
    "charts = []\n",
    "# Pick the top 10 repositories\n",
    "top_repos = created_closed.groupby(['repo']).sum().sort_values(by='count', ascending=False).head(10).index\n",
    "ch = alt.Chart(created_closed.query('repo in @top_repos'), width=120).mark_bar().encode(\n",
    "    x=alt.X(\"kind\", axis=alt.Axis(labelFontSize=15, title=\"\")), \n",
    "    y=alt.Y('count', axis=alt.Axis(titleFontSize=15, labelFontSize=12)),\n",
    "    color='kind',\n",
    "    column=alt.Column(\"repo\", header=alt.Header(title=f\"Issue activity, last {n_days} days for {github_org}\", titleFontSize=15, labelFontSize=12))\n",
    ")\n",
    "ch"
   ]
  },
  {
   "cell_type": "code",
   "execution_count": 18,
   "id": "53ff6b51",
   "metadata": {
    "execution": {
     "iopub.execute_input": "2021-11-13T01:32:59.846762Z",
     "iopub.status.busy": "2021-11-13T01:32:59.846103Z",
     "iopub.status.idle": "2021-11-13T01:32:59.847611Z",
     "shell.execute_reply": "2021-11-13T01:32:59.848047Z"
    },
    "papermill": {
     "duration": 0.055493,
     "end_time": "2021-11-13T01:32:59.848219",
     "exception": false,
     "start_time": "2021-11-13T01:32:59.792726",
     "status": "completed"
    },
    "tags": [
     "remove_cell"
    ]
   },
   "outputs": [],
   "source": [
    "# Set to datetime\n",
    "for kind in ['createdAt', 'closedAt']:\n",
    "    closed.loc[:, kind] = pd.to_datetime(closed[kind])\n",
    "    \n",
    "closed.loc[:, 'time_open'] = closed['closedAt'] - closed['createdAt']\n",
    "closed.loc[:, 'time_open'] = closed['time_open'].dt.total_seconds()"
   ]
  },
  {
   "cell_type": "code",
   "execution_count": 19,
   "id": "fe557b6a",
   "metadata": {
    "execution": {
     "iopub.execute_input": "2021-11-13T01:32:59.941401Z",
     "iopub.status.busy": "2021-11-13T01:32:59.940856Z",
     "iopub.status.idle": "2021-11-13T01:32:59.960846Z",
     "shell.execute_reply": "2021-11-13T01:32:59.961324Z"
    },
    "papermill": {
     "duration": 0.07225,
     "end_time": "2021-11-13T01:32:59.961503",
     "exception": false,
     "start_time": "2021-11-13T01:32:59.889253",
     "status": "completed"
    },
    "tags": [
     "hide_input"
    ]
   },
   "outputs": [
    {
     "data": {
      "text/html": [
       "\n",
       "<div id=\"altair-viz-481db06edcbd4ab3b39975af425a989a\"></div>\n",
       "<script type=\"text/javascript\">\n",
       "  (function(spec, embedOpt){\n",
       "    let outputDiv = document.currentScript.previousElementSibling;\n",
       "    if (outputDiv.id !== \"altair-viz-481db06edcbd4ab3b39975af425a989a\") {\n",
       "      outputDiv = document.getElementById(\"altair-viz-481db06edcbd4ab3b39975af425a989a\");\n",
       "    }\n",
       "    const paths = {\n",
       "      \"vega\": \"https://cdn.jsdelivr.net/npm//vega@5?noext\",\n",
       "      \"vega-lib\": \"https://cdn.jsdelivr.net/npm//vega-lib?noext\",\n",
       "      \"vega-lite\": \"https://cdn.jsdelivr.net/npm//vega-lite@4.8.1?noext\",\n",
       "      \"vega-embed\": \"https://cdn.jsdelivr.net/npm//vega-embed@6?noext\",\n",
       "    };\n",
       "\n",
       "    function loadScript(lib) {\n",
       "      return new Promise(function(resolve, reject) {\n",
       "        var s = document.createElement('script');\n",
       "        s.src = paths[lib];\n",
       "        s.async = true;\n",
       "        s.onload = () => resolve(paths[lib]);\n",
       "        s.onerror = () => reject(`Error loading script: ${paths[lib]}`);\n",
       "        document.getElementsByTagName(\"head\")[0].appendChild(s);\n",
       "      });\n",
       "    }\n",
       "\n",
       "    function showError(err) {\n",
       "      outputDiv.innerHTML = `<div class=\"error\" style=\"color:red;\">${err}</div>`;\n",
       "      throw err;\n",
       "    }\n",
       "\n",
       "    function displayChart(vegaEmbed) {\n",
       "      vegaEmbed(outputDiv, spec, embedOpt)\n",
       "        .catch(err => showError(`Javascript Error: ${err.message}<br>This usually means there's a typo in your chart specification. See the javascript console for the full traceback.`));\n",
       "    }\n",
       "\n",
       "    if(typeof define === \"function\" && define.amd) {\n",
       "      requirejs.config({paths});\n",
       "      require([\"vega-embed\"], displayChart, err => showError(`Error loading script: ${err.message}`));\n",
       "    } else if (typeof vegaEmbed === \"function\") {\n",
       "      displayChart(vegaEmbed);\n",
       "    } else {\n",
       "      loadScript(\"vega\")\n",
       "        .then(() => loadScript(\"vega-lite\"))\n",
       "        .then(() => loadScript(\"vega-embed\"))\n",
       "        .catch(showError)\n",
       "        .then(() => displayChart(vegaEmbed));\n",
       "    }\n",
       "  })({\"config\": {\"axisLeft\": {\"labelFontSize\": 15}, \"axisBottom\": {\"labelFontSize\": 15}}, \"data\": {\"name\": \"data-cbf8d9f9f905d0f9515078627c5f9b04\"}, \"mark\": \"bar\", \"encoding\": {\"x\": {\"type\": \"nominal\", \"field\": \"repo\", \"sort\": [\"ipython-in-depth\", \"traitlets\", \"ipykernel\", \"ipyparallel\", \"ipython\", \"matplotlib-inline\"]}, \"y\": {\"type\": \"quantitative\", \"field\": \"time_open\", \"title\": \"Median Days Open\"}}, \"title\": \"Time to close for issues closed in the last 90 days\", \"$schema\": \"https://vega.github.io/schema/vega-lite/v4.8.1.json\", \"datasets\": {\"data-cbf8d9f9f905d0f9515078627c5f9b04\": [{\"org\": \"ipython\", \"repo\": \"ipykernel\", \"time_open\": 29.82642361111111, \"org/repo\": \"ipython/ipykernel\"}, {\"org\": \"ipython\", \"repo\": \"ipyparallel\", \"time_open\": 23.311944444444446, \"org/repo\": \"ipython/ipyparallel\"}, {\"org\": \"ipython\", \"repo\": \"ipython\", \"time_open\": 14.889976851851852, \"org/repo\": \"ipython/ipython\"}, {\"org\": \"ipython\", \"repo\": \"ipython-in-depth\", \"time_open\": 1086.5060185185184, \"org/repo\": \"ipython/ipython-in-depth\"}, {\"org\": \"ipython\", \"repo\": \"matplotlib-inline\", \"time_open\": 6.678263888888889, \"org/repo\": \"ipython/matplotlib-inline\"}, {\"org\": \"ipython\", \"repo\": \"traitlets\", \"time_open\": 37.71703703703704, \"org/repo\": \"ipython/traitlets\"}]}}, {\"mode\": \"vega-lite\"});\n",
       "</script>"
      ],
      "text/plain": [
       "alt.Chart(...)"
      ]
     },
     "execution_count": 19,
     "metadata": {},
     "output_type": "execute_result"
    }
   ],
   "source": [
    "time_open = closed.groupby(['org', 'repo']).agg({'time_open': 'median'}).reset_index()\n",
    "time_open['time_open'] = time_open['time_open'] / (60 * 60 * 24)\n",
    "time_open['org/repo'] = time_open.apply(lambda a: a['org'] + '/' + a['repo'], axis=1)\n",
    "sorted_vals = time_open.sort_values(['org', 'time_open'], ascending=False)['repo'].values\n",
    "alt.Chart(data=time_open, title=f\"Time to close for issues closed in the last {n_days} days\").mark_bar().encode(\n",
    "    x=alt.X('repo', sort=alt.Sort(sorted_vals.tolist())),\n",
    "    y=alt.Y('time_open', title=\"Median Days Open\"),\n",
    ")"
   ]
  },
  {
   "cell_type": "markdown",
   "id": "6af626c7",
   "metadata": {
    "papermill": {
     "duration": 0.043013,
     "end_time": "2021-11-13T01:33:00.048887",
     "exception": false,
     "start_time": "2021-11-13T01:33:00.005874",
     "status": "completed"
    },
    "tags": []
   },
   "source": [
    "## Most-upvoted issues"
   ]
  },
  {
   "cell_type": "code",
   "execution_count": 20,
   "id": "fa7a58a0",
   "metadata": {
    "execution": {
     "iopub.execute_input": "2021-11-13T01:33:00.155803Z",
     "iopub.status.busy": "2021-11-13T01:33:00.150293Z",
     "iopub.status.idle": "2021-11-13T01:33:00.161787Z",
     "shell.execute_reply": "2021-11-13T01:33:00.161278Z"
    },
    "papermill": {
     "duration": 0.070585,
     "end_time": "2021-11-13T01:33:00.161966",
     "exception": false,
     "start_time": "2021-11-13T01:33:00.091381",
     "status": "completed"
    },
    "tags": [
     "hide_input"
    ]
   },
   "outputs": [
    {
     "data": {
      "application/vnd.jupyter.widget-view+json": {
       "model_id": "1f86cc11a53e46fd93653209ca0c6ba7",
       "version_major": 2,
       "version_minor": 0
      },
      "text/plain": [
       "HTML(value='<ul>\\n<li>(4) Issues with pythreejs with 6.4.0 - ipykernel - <a href=\"https://github.com/ipython/i…"
      ]
     },
     "metadata": {},
     "output_type": "display_data"
    }
   ],
   "source": [
    "thumbsup = issues.sort_values(\"thumbsup\", ascending=False).head(25)\n",
    "thumbsup = thumbsup[[\"title\", \"url\", \"number\", \"thumbsup\", \"repo\"]]\n",
    "\n",
    "text = []\n",
    "for ii, irow in thumbsup.iterrows():\n",
    "    itext = f\"- ({irow['thumbsup']}) {irow['title']} - {irow['repo']} - [#{irow['number']}]({irow['url']})\"\n",
    "    text.append(itext)\n",
    "text = '\\n'.join(text)\n",
    "HTML(markdown(text))"
   ]
  },
  {
   "cell_type": "markdown",
   "id": "9733c771",
   "metadata": {
    "papermill": {
     "duration": 0.044068,
     "end_time": "2021-11-13T01:33:00.251047",
     "exception": false,
     "start_time": "2021-11-13T01:33:00.206979",
     "status": "completed"
    },
    "tags": []
   },
   "source": [
    "## Commenters across repositories\n",
    "\n",
    "These are commenters across all issues and pull requests in the last several days.\n",
    "These are colored by the commenter's association with the organization. For information\n",
    "about what these associations mean, [see this StackOverflow post](https://stackoverflow.com/a/28866914/1927102)."
   ]
  },
  {
   "cell_type": "code",
   "execution_count": 21,
   "id": "6914d4be",
   "metadata": {
    "execution": {
     "iopub.execute_input": "2021-11-13T01:33:00.346617Z",
     "iopub.status.busy": "2021-11-13T01:33:00.346016Z",
     "iopub.status.idle": "2021-11-13T01:33:00.354999Z",
     "shell.execute_reply": "2021-11-13T01:33:00.354548Z"
    },
    "papermill": {
     "duration": 0.061057,
     "end_time": "2021-11-13T01:33:00.355141",
     "exception": false,
     "start_time": "2021-11-13T01:33:00.294084",
     "status": "completed"
    },
    "tags": [
     "remove_cell"
    ]
   },
   "outputs": [],
   "source": [
    "commentors = (\n",
    "    comments\n",
    "    .query(\"createdAt > @start_date and createdAt < @stop_date\")\n",
    "    .groupby(['org', 'repo', 'author', 'authorAssociation'])\n",
    "    .count().rename(columns={'id': 'count'})['count']\n",
    "    .reset_index()\n",
    "    .sort_values(['org', 'count'], ascending=False)\n",
    ")"
   ]
  },
  {
   "cell_type": "code",
   "execution_count": 22,
   "id": "075fa290",
   "metadata": {
    "execution": {
     "iopub.execute_input": "2021-11-13T01:33:00.447750Z",
     "iopub.status.busy": "2021-11-13T01:33:00.447179Z",
     "iopub.status.idle": "2021-11-13T01:33:00.473222Z",
     "shell.execute_reply": "2021-11-13T01:33:00.473693Z"
    },
    "papermill": {
     "duration": 0.076484,
     "end_time": "2021-11-13T01:33:00.473908",
     "exception": false,
     "start_time": "2021-11-13T01:33:00.397424",
     "status": "completed"
    },
    "tags": [
     "hide_input"
    ]
   },
   "outputs": [
    {
     "data": {
      "text/html": [
       "\n",
       "<div id=\"altair-viz-ac650f5925a848598371f640369efe3a\"></div>\n",
       "<script type=\"text/javascript\">\n",
       "  (function(spec, embedOpt){\n",
       "    let outputDiv = document.currentScript.previousElementSibling;\n",
       "    if (outputDiv.id !== \"altair-viz-ac650f5925a848598371f640369efe3a\") {\n",
       "      outputDiv = document.getElementById(\"altair-viz-ac650f5925a848598371f640369efe3a\");\n",
       "    }\n",
       "    const paths = {\n",
       "      \"vega\": \"https://cdn.jsdelivr.net/npm//vega@5?noext\",\n",
       "      \"vega-lib\": \"https://cdn.jsdelivr.net/npm//vega-lib?noext\",\n",
       "      \"vega-lite\": \"https://cdn.jsdelivr.net/npm//vega-lite@4.8.1?noext\",\n",
       "      \"vega-embed\": \"https://cdn.jsdelivr.net/npm//vega-embed@6?noext\",\n",
       "    };\n",
       "\n",
       "    function loadScript(lib) {\n",
       "      return new Promise(function(resolve, reject) {\n",
       "        var s = document.createElement('script');\n",
       "        s.src = paths[lib];\n",
       "        s.async = true;\n",
       "        s.onload = () => resolve(paths[lib]);\n",
       "        s.onerror = () => reject(`Error loading script: ${paths[lib]}`);\n",
       "        document.getElementsByTagName(\"head\")[0].appendChild(s);\n",
       "      });\n",
       "    }\n",
       "\n",
       "    function showError(err) {\n",
       "      outputDiv.innerHTML = `<div class=\"error\" style=\"color:red;\">${err}</div>`;\n",
       "      throw err;\n",
       "    }\n",
       "\n",
       "    function displayChart(vegaEmbed) {\n",
       "      vegaEmbed(outputDiv, spec, embedOpt)\n",
       "        .catch(err => showError(`Javascript Error: ${err.message}<br>This usually means there's a typo in your chart specification. See the javascript console for the full traceback.`));\n",
       "    }\n",
       "\n",
       "    if(typeof define === \"function\" && define.amd) {\n",
       "      requirejs.config({paths});\n",
       "      require([\"vega-embed\"], displayChart, err => showError(`Error loading script: ${err.message}`));\n",
       "    } else if (typeof vegaEmbed === \"function\") {\n",
       "      displayChart(vegaEmbed);\n",
       "    } else {\n",
       "      loadScript(\"vega\")\n",
       "        .then(() => loadScript(\"vega-lite\"))\n",
       "        .then(() => loadScript(\"vega-embed\"))\n",
       "        .catch(showError)\n",
       "        .then(() => displayChart(vegaEmbed));\n",
       "    }\n",
       "  })({\"config\": {\"axisLeft\": {\"labelFontSize\": 15}, \"axisBottom\": {\"labelFontSize\": 15}}, \"hconcat\": [{\"mark\": \"bar\", \"encoding\": {\"color\": {\"type\": \"nominal\", \"field\": \"authorAssociation\", \"scale\": {\"domain\": [\"MEMBER\", \"CONTRIBUTOR\", \"COLLABORATOR\", \"NONE\"], \"range\": [\"rgb(211.82745098039214, 211.82745098039214, 211.82745098039214)\", \"rgb(166.98562091503268, 229.89803921568628, 166.98562091503268)\", \"rgb(96.37647058823529, 192.75294117647059, 96.37647058823529)\", \"rgb(0.0, 100.3921568627451, 0.0)\"]}}, \"x\": {\"type\": \"nominal\", \"field\": \"author\"}, \"y\": {\"type\": \"quantitative\", \"field\": \"count\"}}, \"title\": \"Top 50 commentors for ipython in the last 90 days\"}], \"data\": {\"name\": \"data-c1088e473ed012936089543cc085c380\"}, \"$schema\": \"https://vega.github.io/schema/vega-lite/v4.8.1.json\", \"datasets\": {\"data-c1088e473ed012936089543cc085c380\": [{\"author\": \"Carreau\", \"count\": 150, \"authorAssociation\": \"MEMBER\"}, {\"author\": \"MrMino\", \"count\": 81, \"authorAssociation\": \"MEMBER\"}, {\"author\": \"minrk\", \"count\": 71, \"authorAssociation\": \"MEMBER\"}, {\"author\": \"Kojoley\", \"count\": 18, \"authorAssociation\": \"COLLABORATOR\"}, {\"author\": \"blink1073\", \"count\": 17, \"authorAssociation\": \"MEMBER\"}, {\"author\": \"ccordoba12\", \"count\": 13, \"authorAssociation\": \"MEMBER\"}, {\"author\": \"martinRenou\", \"count\": 12, \"authorAssociation\": \"CONTRIBUTOR\"}, {\"author\": \"lukas-koschmieder\", \"count\": 10, \"authorAssociation\": \"NONE\"}, {\"author\": \"frenzymadness\", \"count\": 9, \"authorAssociation\": \"CONTRIBUTOR\"}, {\"author\": \"meeseeksdev\", \"count\": 9, \"authorAssociation\": \"CONTRIBUTOR\"}, {\"author\": \"kloczek\", \"count\": 7, \"authorAssociation\": \"NONE\"}, {\"author\": \"alexmojaki\", \"count\": 7, \"authorAssociation\": \"CONTRIBUTOR\"}, {\"author\": \"fcollonval\", \"count\": 6, \"authorAssociation\": \"CONTRIBUTOR\"}, {\"author\": \"agallenne\", \"count\": 6, \"authorAssociation\": \"NONE\"}, {\"author\": \"sgaist\", \"count\": 5, \"authorAssociation\": \"CONTRIBUTOR\"}, {\"author\": \"aplamada\", \"count\": 5, \"authorAssociation\": \"NONE\"}, {\"author\": \"sivel\", \"count\": 5, \"authorAssociation\": \"NONE\"}, {\"author\": \"madbird1304\", \"count\": 5, \"authorAssociation\": \"CONTRIBUTOR\"}, {\"author\": \"tacaswell\", \"count\": 5, \"authorAssociation\": \"CONTRIBUTOR\"}, {\"author\": \"matthewfeickert\", \"count\": 4, \"authorAssociation\": \"CONTRIBUTOR\"}, {\"author\": \"astrojuanlu\", \"count\": 4, \"authorAssociation\": \"NONE\"}, {\"author\": \"L0uisJ0shua\", \"count\": 4, \"authorAssociation\": \"NONE\"}, {\"author\": \"meysam81\", \"count\": 4, \"authorAssociation\": \"CONTRIBUTOR\"}, {\"author\": \"takluyver\", \"count\": 4, \"authorAssociation\": \"MEMBER\"}, {\"author\": \"carlosperate\", \"count\": 4, \"authorAssociation\": \"NONE\"}, {\"author\": \"justineuro\", \"count\": 3, \"authorAssociation\": \"NONE\"}, {\"author\": \"jrabinow\", \"count\": 3, \"authorAssociation\": \"NONE\"}, {\"author\": \"jbedorf\", \"count\": 3, \"authorAssociation\": \"NONE\"}, {\"author\": \"GF-Huang\", \"count\": 3, \"authorAssociation\": \"NONE\"}, {\"author\": \"hroncok\", \"count\": 3, \"authorAssociation\": \"CONTRIBUTOR\"}, {\"author\": \"AaronWatters\", \"count\": 3, \"authorAssociation\": \"NONE\"}, {\"author\": \"bialix\", \"count\": 3, \"authorAssociation\": \"NONE\"}, {\"author\": \"bennahugo\", \"count\": 3, \"authorAssociation\": \"NONE\"}, {\"author\": \"fperez\", \"count\": 3, \"authorAssociation\": \"MEMBER\"}, {\"author\": \"prius\", \"count\": 3, \"authorAssociation\": \"NONE\"}, {\"author\": \"JohanMabille\", \"count\": 3, \"authorAssociation\": \"CONTRIBUTOR\"}, {\"author\": \"rayosborn\", \"count\": 3, \"authorAssociation\": \"CONTRIBUTOR\"}, {\"author\": \"Thomas-Walker-Lynch\", \"count\": 3, \"authorAssociation\": \"NONE\"}, {\"author\": \"aviamir\", \"count\": 3, \"authorAssociation\": \"NONE\"}, {\"author\": \"rmorshea\", \"count\": 2, \"authorAssociation\": \"COLLABORATOR\"}, {\"author\": \"gpotter2\", \"count\": 2, \"authorAssociation\": \"CONTRIBUTOR\"}, {\"author\": \"helloooideeeeea\", \"count\": 2, \"authorAssociation\": \"NONE\"}, {\"author\": \"ianh\", \"count\": 2, \"authorAssociation\": \"NONE\"}, {\"author\": \"jakirkham\", \"count\": 2, \"authorAssociation\": \"CONTRIBUTOR\"}, {\"author\": \"rxhh\", \"count\": 2, \"authorAssociation\": \"NONE\"}, {\"author\": \"pijyoi\", \"count\": 2, \"authorAssociation\": \"CONTRIBUTOR\"}, {\"author\": \"umairanis03\", \"count\": 2, \"authorAssociation\": \"NONE\"}, {\"author\": \"paw-lu\", \"count\": 2, \"authorAssociation\": \"CONTRIBUTOR\"}, {\"author\": \"mlucool\", \"count\": 2, \"authorAssociation\": \"NONE\"}, {\"author\": \"stonebig\", \"count\": 2, \"authorAssociation\": \"CONTRIBUTOR\"}]}}, {\"mode\": \"vega-lite\"});\n",
       "</script>"
      ],
      "text/plain": [
       "alt.HConcatChart(...)"
      ]
     },
     "execution_count": 22,
     "metadata": {},
     "output_type": "execute_result"
    }
   ],
   "source": [
    "n_plot = 50\n",
    "charts = []\n",
    "for ii, (iorg, idata) in enumerate(commentors.groupby(['org'])):\n",
    "    title = f\"Top {n_plot} commentors for {iorg} in the last {n_days} days\"\n",
    "    idata = idata.groupby('author', as_index=False).agg({'count': 'sum', 'authorAssociation': 'first'})\n",
    "    idata = idata.sort_values('count', ascending=False).head(n_plot)\n",
    "    ch = alt.Chart(data=idata.head(n_plot), title=title).mark_bar().encode(\n",
    "        x='author',\n",
    "        y='count',\n",
    "        color=alt.Color('authorAssociation', scale=alt.Scale(domain=author_types, range=author_colors))\n",
    "    )\n",
    "    charts.append(ch)\n",
    "alt.hconcat(*charts)"
   ]
  },
  {
   "cell_type": "markdown",
   "id": "a54a3e39",
   "metadata": {
    "papermill": {
     "duration": 0.043737,
     "end_time": "2021-11-13T01:33:00.562331",
     "exception": false,
     "start_time": "2021-11-13T01:33:00.518594",
     "status": "completed"
    },
    "tags": []
   },
   "source": [
    "## First responders\n",
    "\n",
    "First responders are the first people to respond to a new issue in one of the repositories.\n",
    "The following plots show first responders for recently-created issues."
   ]
  },
  {
   "cell_type": "code",
   "execution_count": 23,
   "id": "699dc438",
   "metadata": {
    "execution": {
     "iopub.execute_input": "2021-11-13T01:33:00.656003Z",
     "iopub.status.busy": "2021-11-13T01:33:00.654427Z",
     "iopub.status.idle": "2021-11-13T01:33:00.812554Z",
     "shell.execute_reply": "2021-11-13T01:33:00.811666Z"
    },
    "papermill": {
     "duration": 0.207982,
     "end_time": "2021-11-13T01:33:00.812820",
     "exception": false,
     "start_time": "2021-11-13T01:33:00.604838",
     "status": "completed"
    },
    "tags": [
     "remove_cell"
    ]
   },
   "outputs": [],
   "source": [
    "first_comments = []\n",
    "for (org, repo, issue_id), i_comments in comments.groupby(['org', 'repo', 'id']):\n",
    "    ix_min = pd.to_datetime(i_comments['createdAt']).idxmin()\n",
    "    first_comment = i_comments.loc[ix_min]\n",
    "    if isinstance(first_comment, pd.DataFrame):\n",
    "        first_comment = first_comment.iloc[0]\n",
    "    first_comments.append(first_comment)\n",
    "first_comments = pd.concat(first_comments, axis=1).T\n",
    "\n",
    "# Make up counts for viz\n",
    "first_responder_counts = first_comments.groupby(['org', 'author', 'authorAssociation'], as_index=False).\\\n",
    "    count().rename(columns={'id': 'n_first_responses'}).sort_values(['org', 'n_first_responses'], ascending=False)\n"
   ]
  },
  {
   "cell_type": "code",
   "execution_count": 24,
   "id": "d7412603",
   "metadata": {
    "execution": {
     "iopub.execute_input": "2021-11-13T01:33:00.921308Z",
     "iopub.status.busy": "2021-11-13T01:33:00.909711Z",
     "iopub.status.idle": "2021-11-13T01:33:00.932630Z",
     "shell.execute_reply": "2021-11-13T01:33:00.933093Z"
    },
    "papermill": {
     "duration": 0.075012,
     "end_time": "2021-11-13T01:33:00.933287",
     "exception": false,
     "start_time": "2021-11-13T01:33:00.858275",
     "status": "completed"
    },
    "tags": [
     "hide_input"
    ]
   },
   "outputs": [
    {
     "data": {
      "text/html": [
       "\n",
       "<div id=\"altair-viz-a052e7578906421689fe4898f7ae99b9\"></div>\n",
       "<script type=\"text/javascript\">\n",
       "  (function(spec, embedOpt){\n",
       "    let outputDiv = document.currentScript.previousElementSibling;\n",
       "    if (outputDiv.id !== \"altair-viz-a052e7578906421689fe4898f7ae99b9\") {\n",
       "      outputDiv = document.getElementById(\"altair-viz-a052e7578906421689fe4898f7ae99b9\");\n",
       "    }\n",
       "    const paths = {\n",
       "      \"vega\": \"https://cdn.jsdelivr.net/npm//vega@5?noext\",\n",
       "      \"vega-lib\": \"https://cdn.jsdelivr.net/npm//vega-lib?noext\",\n",
       "      \"vega-lite\": \"https://cdn.jsdelivr.net/npm//vega-lite@4.8.1?noext\",\n",
       "      \"vega-embed\": \"https://cdn.jsdelivr.net/npm//vega-embed@6?noext\",\n",
       "    };\n",
       "\n",
       "    function loadScript(lib) {\n",
       "      return new Promise(function(resolve, reject) {\n",
       "        var s = document.createElement('script');\n",
       "        s.src = paths[lib];\n",
       "        s.async = true;\n",
       "        s.onload = () => resolve(paths[lib]);\n",
       "        s.onerror = () => reject(`Error loading script: ${paths[lib]}`);\n",
       "        document.getElementsByTagName(\"head\")[0].appendChild(s);\n",
       "      });\n",
       "    }\n",
       "\n",
       "    function showError(err) {\n",
       "      outputDiv.innerHTML = `<div class=\"error\" style=\"color:red;\">${err}</div>`;\n",
       "      throw err;\n",
       "    }\n",
       "\n",
       "    function displayChart(vegaEmbed) {\n",
       "      vegaEmbed(outputDiv, spec, embedOpt)\n",
       "        .catch(err => showError(`Javascript Error: ${err.message}<br>This usually means there's a typo in your chart specification. See the javascript console for the full traceback.`));\n",
       "    }\n",
       "\n",
       "    if(typeof define === \"function\" && define.amd) {\n",
       "      requirejs.config({paths});\n",
       "      require([\"vega-embed\"], displayChart, err => showError(`Error loading script: ${err.message}`));\n",
       "    } else if (typeof vegaEmbed === \"function\") {\n",
       "      displayChart(vegaEmbed);\n",
       "    } else {\n",
       "      loadScript(\"vega\")\n",
       "        .then(() => loadScript(\"vega-lite\"))\n",
       "        .then(() => loadScript(\"vega-embed\"))\n",
       "        .catch(showError)\n",
       "        .then(() => displayChart(vegaEmbed));\n",
       "    }\n",
       "  })({\"config\": {\"axisLeft\": {\"labelFontSize\": 15}, \"axisBottom\": {\"labelFontSize\": 15}}, \"data\": {\"name\": \"data-3f44ee6b67ab9609578940794a66227f\"}, \"mark\": \"bar\", \"encoding\": {\"color\": {\"type\": \"nominal\", \"field\": \"authorAssociation\", \"scale\": {\"domain\": [\"MEMBER\", \"CONTRIBUTOR\", \"COLLABORATOR\", \"NONE\"], \"range\": [\"rgb(211.82745098039214, 211.82745098039214, 211.82745098039214)\", \"rgb(166.98562091503268, 229.89803921568628, 166.98562091503268)\", \"rgb(96.37647058823529, 192.75294117647059, 96.37647058823529)\", \"rgb(0.0, 100.3921568627451, 0.0)\"]}}, \"x\": {\"type\": \"nominal\", \"field\": \"author\"}, \"y\": {\"type\": \"quantitative\", \"field\": \"n_first_responses\"}}, \"title\": \"Top 50 first responders for ipython in the last 90 days\", \"$schema\": \"https://vega.github.io/schema/vega-lite/v4.8.1.json\", \"datasets\": {\"data-3f44ee6b67ab9609578940794a66227f\": [{\"author\": \"Carreau\", \"n_first_responses\": 63, \"authorAssociation\": \"MEMBER\"}, {\"author\": \"MrMino\", \"n_first_responses\": 36, \"authorAssociation\": \"MEMBER\"}, {\"author\": \"minrk\", \"n_first_responses\": 35, \"authorAssociation\": \"MEMBER\"}, {\"author\": \"Kojoley\", \"n_first_responses\": 7, \"authorAssociation\": \"COLLABORATOR\"}, {\"author\": \"blink1073\", \"n_first_responses\": 7, \"authorAssociation\": \"MEMBER\"}, {\"author\": \"takluyver\", \"n_first_responses\": 4, \"authorAssociation\": \"MEMBER\"}, {\"author\": \"fcollonval\", \"n_first_responses\": 4, \"authorAssociation\": \"CONTRIBUTOR\"}, {\"author\": \"jakirkham\", \"n_first_responses\": 3, \"authorAssociation\": \"CONTRIBUTOR\"}, {\"author\": \"JohanMabille\", \"n_first_responses\": 3, \"authorAssociation\": \"CONTRIBUTOR\"}, {\"author\": \"martinRenou\", \"n_first_responses\": 3, \"authorAssociation\": \"COLLABORATOR\"}, {\"author\": \"madbird1304\", \"n_first_responses\": 2, \"authorAssociation\": \"CONTRIBUTOR\"}, {\"author\": \"rmorshea\", \"n_first_responses\": 2, \"authorAssociation\": \"COLLABORATOR\"}, {\"author\": \"alexmojaki\", \"n_first_responses\": 2, \"authorAssociation\": \"CONTRIBUTOR\"}, {\"author\": \"A5rocks\", \"n_first_responses\": 2, \"authorAssociation\": \"NONE\"}, {\"author\": \"lukas-koschmieder\", \"n_first_responses\": 2, \"authorAssociation\": \"NONE\"}, {\"author\": \"meysam81\", \"n_first_responses\": 2, \"authorAssociation\": \"CONTRIBUTOR\"}, {\"author\": \"sivel\", \"n_first_responses\": 2, \"authorAssociation\": \"NONE\"}, {\"author\": \"kloczek\", \"n_first_responses\": 1, \"authorAssociation\": \"NONE\"}, {\"author\": \"matthewfeickert\", \"n_first_responses\": 1, \"authorAssociation\": \"CONTRIBUTOR\"}, {\"author\": \"kkirsche\", \"n_first_responses\": 1, \"authorAssociation\": \"CONTRIBUTOR\"}, {\"author\": \"justineuro\", \"n_first_responses\": 1, \"authorAssociation\": \"NONE\"}, {\"author\": \"meeseeksdev\", \"n_first_responses\": 1, \"authorAssociation\": \"CONTRIBUTOR\"}, {\"author\": \"palewire\", \"n_first_responses\": 1, \"authorAssociation\": \"CONTRIBUTOR\"}, {\"author\": \"nav1s\", \"n_first_responses\": 1, \"authorAssociation\": \"NONE\"}, {\"author\": \"opoplawski\", \"n_first_responses\": 1, \"authorAssociation\": \"NONE\"}, {\"author\": \"jrabinow\", \"n_first_responses\": 1, \"authorAssociation\": \"NONE\"}, {\"author\": \"psarka\", \"n_first_responses\": 1, \"authorAssociation\": \"NONE\"}, {\"author\": \"rxhh\", \"n_first_responses\": 1, \"authorAssociation\": \"NONE\"}, {\"author\": \"sgaist\", \"n_first_responses\": 1, \"authorAssociation\": \"CONTRIBUTOR\"}, {\"author\": \"stonebig\", \"n_first_responses\": 1, \"authorAssociation\": \"CONTRIBUTOR\"}, {\"author\": \"strawhat54\", \"n_first_responses\": 1, \"authorAssociation\": \"CONTRIBUTOR\"}, {\"author\": \"tacaswell\", \"n_first_responses\": 1, \"authorAssociation\": \"CONTRIBUTOR\"}, {\"author\": \"tommydevitt\", \"n_first_responses\": 1, \"authorAssociation\": \"NONE\"}, {\"author\": \"jtpio\", \"n_first_responses\": 1, \"authorAssociation\": \"NONE\"}, {\"author\": \"ianh\", \"n_first_responses\": 1, \"authorAssociation\": \"NONE\"}, {\"author\": \"jasongrout\", \"n_first_responses\": 1, \"authorAssociation\": \"MEMBER\"}, {\"author\": \"blackary\", \"n_first_responses\": 1, \"authorAssociation\": \"NONE\"}, {\"author\": \"DonJayamanne\", \"n_first_responses\": 1, \"authorAssociation\": \"NONE\"}, {\"author\": \"L0uisJ0shua\", \"n_first_responses\": 1, \"authorAssociation\": \"NONE\"}, {\"author\": \"MRCWirtz\", \"n_first_responses\": 1, \"authorAssociation\": \"CONTRIBUTOR\"}, {\"author\": \"ManPython\", \"n_first_responses\": 1, \"authorAssociation\": \"NONE\"}, {\"author\": \"Mithil467\", \"n_first_responses\": 1, \"authorAssociation\": \"CONTRIBUTOR\"}, {\"author\": \"QuLogic\", \"n_first_responses\": 1, \"authorAssociation\": \"CONTRIBUTOR\"}, {\"author\": \"SylvainCorlay\", \"n_first_responses\": 1, \"authorAssociation\": \"MEMBER\"}, {\"author\": \"WoLpH\", \"n_first_responses\": 1, \"authorAssociation\": \"CONTRIBUTOR\"}, {\"author\": \"astrojuanlu\", \"n_first_responses\": 1, \"authorAssociation\": \"NONE\"}, {\"author\": \"bialix\", \"n_first_responses\": 1, \"authorAssociation\": \"NONE\"}, {\"author\": \"bollwyvl\", \"n_first_responses\": 1, \"authorAssociation\": \"CONTRIBUTOR\"}, {\"author\": \"ivanov\", \"n_first_responses\": 1, \"authorAssociation\": \"MEMBER\"}, {\"author\": \"bucknerns\", \"n_first_responses\": 1, \"authorAssociation\": \"NONE\"}]}}, {\"mode\": \"vega-lite\"});\n",
       "</script>"
      ],
      "text/plain": [
       "alt.Chart(...)"
      ]
     },
     "execution_count": 24,
     "metadata": {},
     "output_type": "execute_result"
    }
   ],
   "source": [
    "n_plot = 50\n",
    "\n",
    "title = f\"Top {n_plot} first responders for {github_org} in the last {n_days} days\"\n",
    "idata = first_responder_counts.groupby('author', as_index=False).agg({'n_first_responses': 'sum', 'authorAssociation': 'first'})\n",
    "idata = idata.sort_values('n_first_responses', ascending=False).head(n_plot)\n",
    "ch = alt.Chart(data=idata.head(n_plot), title=title).mark_bar().encode(\n",
    "    x='author',\n",
    "    y='n_first_responses',\n",
    "    color=alt.Color('authorAssociation', scale=alt.Scale(domain=author_types, range=author_colors))\n",
    ")\n",
    "ch"
   ]
  },
  {
   "cell_type": "markdown",
   "id": "920b462b",
   "metadata": {
    "papermill": {
     "duration": 0.044504,
     "end_time": "2021-11-13T01:33:01.023062",
     "exception": false,
     "start_time": "2021-11-13T01:33:00.978558",
     "status": "completed"
    },
    "tags": []
   },
   "source": [
    "## Recent activity\n",
    "\n",
    "### A list of merged PRs by project\n",
    "\n",
    "Below is a tabbed readout of recently-merged PRs. Check out the title to get an idea for what they\n",
    "implemented, and be sure to thank the PR author for their hard work!"
   ]
  },
  {
   "cell_type": "code",
   "execution_count": 25,
   "id": "62c5d274",
   "metadata": {
    "execution": {
     "iopub.execute_input": "2021-11-13T01:33:01.126228Z",
     "iopub.status.busy": "2021-11-13T01:33:01.125523Z",
     "iopub.status.idle": "2021-11-13T01:33:01.292534Z",
     "shell.execute_reply": "2021-11-13T01:33:01.286928Z"
    },
    "papermill": {
     "duration": 0.227509,
     "end_time": "2021-11-13T01:33:01.292700",
     "exception": false,
     "start_time": "2021-11-13T01:33:01.065191",
     "status": "completed"
    },
    "tags": [
     "hide_input"
    ]
   },
   "outputs": [
    {
     "data": {
      "application/vnd.jupyter.widget-view+json": {
       "model_id": "ab269af0630545ec8a255cc40bd55342",
       "version_major": 2,
       "version_minor": 0
      },
      "text/plain": [
       "Tab(children=(HTML(value='<h4>Closed PRs for repo: <a href=\"https://github.com/ipython/ipykernel\">ipython/ipyk…"
      ]
     },
     "metadata": {},
     "output_type": "display_data"
    }
   ],
   "source": [
    "tabs = widgets.Tab(children=[])\n",
    "\n",
    "for ii, ((org, repo), imerged) in enumerate(merged.query(\"repo in @use_repos\").groupby(['org', 'repo'])):\n",
    "    merged_by = {}\n",
    "    pr_by = {}\n",
    "    issue_md = []\n",
    "    issue_md.append(f\"#### Closed PRs for repo: [{org}/{repo}](https://github.com/{github_org}/{repo})\")\n",
    "    issue_md.append(\"\")\n",
    "    issue_md.append(f\"##### \")\n",
    "\n",
    "    for _, ipr in imerged.iterrows():\n",
    "        user_name = ipr['author']\n",
    "        user_url = author_url(user_name)\n",
    "        pr_number = ipr['number']\n",
    "        pr_html = ipr['url']\n",
    "        pr_title = ipr['title']\n",
    "        pr_closedby = ipr['mergedBy']\n",
    "        pr_closedby_url = f\"https://github.com/{pr_closedby}\"\n",
    "        if user_name not in pr_by:\n",
    "            pr_by[user_name] = 1\n",
    "        else:\n",
    "            pr_by[user_name] += 1\n",
    "\n",
    "        if pr_closedby not in merged_by:\n",
    "            merged_by[pr_closedby] = 1\n",
    "        else:\n",
    "            merged_by[pr_closedby] += 1\n",
    "        text = f\"* [(#{pr_number})]({pr_html}): _{pr_title}_ by **[@{user_name}]({user_url})** merged by **[@{pr_closedby}]({pr_closedby_url})**\"\n",
    "        issue_md.append(text)\n",
    "    \n",
    "    issue_md.append('')\n",
    "    markdown_html = markdown('\\n'.join(issue_md))\n",
    "\n",
    "    children = list(tabs.children)\n",
    "    children.append(HTML(markdown_html))\n",
    "    tabs.children = tuple(children)\n",
    "    tabs.set_title(ii, repo)\n",
    "tabs"
   ]
  },
  {
   "cell_type": "markdown",
   "id": "31539afe",
   "metadata": {
    "papermill": {
     "duration": 0.046552,
     "end_time": "2021-11-13T01:33:01.387927",
     "exception": false,
     "start_time": "2021-11-13T01:33:01.341375",
     "status": "completed"
    },
    "tags": []
   },
   "source": [
    "### A list of recent issues\n",
    "\n",
    "Below is a list of issues with recent activity in each repository. If they seem of interest\n",
    "to you, click on their links and jump in to participate!"
   ]
  },
  {
   "cell_type": "code",
   "execution_count": 26,
   "id": "08a9b5c9",
   "metadata": {
    "execution": {
     "iopub.execute_input": "2021-11-13T01:33:01.488127Z",
     "iopub.status.busy": "2021-11-13T01:33:01.487529Z",
     "iopub.status.idle": "2021-11-13T01:33:01.496739Z",
     "shell.execute_reply": "2021-11-13T01:33:01.496281Z"
    },
    "papermill": {
     "duration": 0.063613,
     "end_time": "2021-11-13T01:33:01.496889",
     "exception": false,
     "start_time": "2021-11-13T01:33:01.433276",
     "status": "completed"
    },
    "tags": [
     "remove_cell"
    ]
   },
   "outputs": [],
   "source": [
    "# Add comment count data to issues and PRs\n",
    "comment_counts = (\n",
    "    comments\n",
    "    .query(\"createdAt > @start_date and createdAt < @stop_date\")\n",
    "    .groupby(['org', 'repo', 'id'])\n",
    "    .count().iloc[:, 0].to_frame()\n",
    ")\n",
    "comment_counts.columns = ['n_comments']\n",
    "comment_counts = comment_counts.reset_index()"
   ]
  },
  {
   "cell_type": "code",
   "execution_count": 27,
   "id": "c210709e",
   "metadata": {
    "execution": {
     "iopub.execute_input": "2021-11-13T01:33:01.600605Z",
     "iopub.status.busy": "2021-11-13T01:33:01.599748Z",
     "iopub.status.idle": "2021-11-13T01:33:01.734714Z",
     "shell.execute_reply": "2021-11-13T01:33:01.735191Z"
    },
    "papermill": {
     "duration": 0.190579,
     "end_time": "2021-11-13T01:33:01.735384",
     "exception": false,
     "start_time": "2021-11-13T01:33:01.544805",
     "status": "completed"
    },
    "tags": [
     "hide_input"
    ],
    "toc-hr-collapsed": false
   },
   "outputs": [
    {
     "data": {
      "text/markdown": [
       "Here are the top 5 active issues in each repository in the last 90 days"
      ],
      "text/plain": [
       "<IPython.core.display.Markdown object>"
      ]
     },
     "metadata": {},
     "output_type": "display_data"
    },
    {
     "data": {
      "application/vnd.jupyter.widget-view+json": {
       "model_id": "5f80bb673a02417aa5cc8340428399ba",
       "version_major": 2,
       "version_minor": 0
      },
      "text/plain": [
       "Tab(children=(HTML(value='<h5><a href=\"https://github.com/ipython/ipykernel\">ipython/ipykernel</a></h5>\\n<ul>\\…"
      ]
     },
     "metadata": {},
     "output_type": "display_data"
    }
   ],
   "source": [
    "n_plot = 5\n",
    "tabs = widgets.Tab(children=[])\n",
    "\n",
    "for ii, (repo, i_issues) in enumerate(comment_counts.query(\"repo in @use_repos\").groupby('repo')):\n",
    "    \n",
    "    issue_md = []\n",
    "    issue_md.append(\"\")\n",
    "    issue_md.append(f\"##### [{github_org}/{repo}](https://github.com/{github_org}/{repo})\")\n",
    "\n",
    "    top_issues = i_issues.sort_values('n_comments', ascending=False).head(n_plot)\n",
    "    top_issue_list = pd.merge(issues, top_issues, left_on=['org', 'repo', 'id'], right_on=['org', 'repo', 'id'])\n",
    "    for _, issue in top_issue_list.sort_values('n_comments', ascending=False).head(n_plot).iterrows():\n",
    "        user_name = issue['author']\n",
    "        user_url = author_url(user_name)\n",
    "        issue_number = issue['number']\n",
    "        issue_html = issue['url']\n",
    "        issue_title = issue['title']\n",
    "\n",
    "        text = f\"* [(#{issue_number})]({issue_html}): _{issue_title}_ by **[@{user_name}]({user_url})**\"\n",
    "        issue_md.append(text)\n",
    "\n",
    "    issue_md.append('')\n",
    "    md_html = HTML(markdown('\\n'.join(issue_md)))\n",
    "\n",
    "    children = list(tabs.children)\n",
    "    children.append(HTML(markdown('\\n'.join(issue_md))))\n",
    "    tabs.children = tuple(children)\n",
    "    tabs.set_title(ii, repo)\n",
    "    \n",
    "display(Markdown(f\"Here are the top {n_plot} active issues in each repository in the last {n_days} days\"))\n",
    "display(tabs)"
   ]
  }
 ],
 "metadata": {
  "kernelspec": {
   "display_name": "Python 3 (ipykernel)",
   "language": "python",
   "name": "python3"
  },
  "language_info": {
   "codemirror_mode": {
    "name": "ipython",
    "version": 3
   },
   "file_extension": ".py",
   "mimetype": "text/x-python",
   "name": "python",
   "nbconvert_exporter": "python",
   "pygments_lexer": "ipython3",
   "version": "3.7.12"
  },
  "papermill": {
   "default_parameters": {},
   "duration": 7.266687,
   "end_time": "2021-11-13T01:33:02.294834",
   "environment_variables": {},
   "exception": null,
   "input_path": "./templates/org_report.ipynb",
   "output_path": "generated/book/ipython.ipynb",
   "parameters": {
    "github_org": "ipython",
    "n_days": 90
   },
   "start_time": "2021-11-13T01:32:55.028147",
   "version": "2.3.3"
  },
  "widgets": {
   "application/vnd.jupyter.widget-state+json": {
    "state": {
     "045ee9465184471091b948d80d759ecb": {
      "model_module": "@jupyter-widgets/controls",
      "model_module_version": "1.5.0",
      "model_name": "DescriptionStyleModel",
      "state": {
       "_model_module": "@jupyter-widgets/controls",
       "_model_module_version": "1.5.0",
       "_model_name": "DescriptionStyleModel",
       "_view_count": null,
       "_view_module": "@jupyter-widgets/base",
       "_view_module_version": "1.2.0",
       "_view_name": "StyleView",
       "description_width": ""
      }
     },
     "05b4c748f61647fa8c34e00ef097dac0": {
      "model_module": "@jupyter-widgets/controls",
      "model_module_version": "1.5.0",
      "model_name": "DescriptionStyleModel",
      "state": {
       "_model_module": "@jupyter-widgets/controls",
       "_model_module_version": "1.5.0",
       "_model_name": "DescriptionStyleModel",
       "_view_count": null,
       "_view_module": "@jupyter-widgets/base",
       "_view_module_version": "1.2.0",
       "_view_name": "StyleView",
       "description_width": ""
      }
     },
     "08e3e5ad94a5492cbfd7d3779fa43f48": {
      "model_module": "@jupyter-widgets/base",
      "model_module_version": "1.2.0",
      "model_name": "LayoutModel",
      "state": {
       "_model_module": "@jupyter-widgets/base",
       "_model_module_version": "1.2.0",
       "_model_name": "LayoutModel",
       "_view_count": null,
       "_view_module": "@jupyter-widgets/base",
       "_view_module_version": "1.2.0",
       "_view_name": "LayoutView",
       "align_content": null,
       "align_items": null,
       "align_self": null,
       "border": null,
       "bottom": null,
       "display": null,
       "flex": null,
       "flex_flow": null,
       "grid_area": null,
       "grid_auto_columns": null,
       "grid_auto_flow": null,
       "grid_auto_rows": null,
       "grid_column": null,
       "grid_gap": null,
       "grid_row": null,
       "grid_template_areas": null,
       "grid_template_columns": null,
       "grid_template_rows": null,
       "height": null,
       "justify_content": null,
       "justify_items": null,
       "left": null,
       "margin": null,
       "max_height": null,
       "max_width": null,
       "min_height": null,
       "min_width": null,
       "object_fit": null,
       "object_position": null,
       "order": null,
       "overflow": null,
       "overflow_x": null,
       "overflow_y": null,
       "padding": null,
       "right": null,
       "top": null,
       "visibility": null,
       "width": null
      }
     },
     "092b9a20587f4d3b9fbbd5af84435586": {
      "model_module": "@jupyter-widgets/controls",
      "model_module_version": "1.5.0",
      "model_name": "HTMLModel",
      "state": {
       "_dom_classes": [],
       "_model_module": "@jupyter-widgets/controls",
       "_model_module_version": "1.5.0",
       "_model_name": "HTMLModel",
       "_view_count": null,
       "_view_module": "@jupyter-widgets/controls",
       "_view_module_version": "1.5.0",
       "_view_name": "HTMLView",
       "description": "",
       "description_tooltip": null,
       "layout": "IPY_MODEL_43a1831dcb554f7fb5a2ab1351040167",
       "placeholder": "​",
       "style": "IPY_MODEL_2f34f5b66e8c4413be677a1a97561d6d",
       "value": "<h5><a href=\"https://github.com/ipython/traitlets\">ipython/traitlets</a></h5>\n<ul>\n<li><a href=\"https://github.com/ipython/traitlets/issues/677\">(#677)</a>: <em>Traitlets in strict mode - fail on warnings and/or fail on missing config?</em> by <strong><a href=\"https://github.com/consideRatio\">@consideRatio</a></strong></li>\n<li><a href=\"https://github.com/ipython/traitlets/issues/676\">(#676)</a>: <em>TestUseEnum.test_assign_scoped_enum_value_name fails in 5.1.0</em> by <strong><a href=\"https://github.com/opoplawski\">@opoplawski</a></strong></li>\n</ul>"
      }
     },
     "0b3b5a5b46124708bb27a618c368d29d": {
      "model_module": "@jupyter-widgets/controls",
      "model_module_version": "1.5.0",
      "model_name": "DescriptionStyleModel",
      "state": {
       "_model_module": "@jupyter-widgets/controls",
       "_model_module_version": "1.5.0",
       "_model_name": "DescriptionStyleModel",
       "_view_count": null,
       "_view_module": "@jupyter-widgets/base",
       "_view_module_version": "1.2.0",
       "_view_name": "StyleView",
       "description_width": ""
      }
     },
     "0dd95d6f4fb142fe81195658da51d347": {
      "model_module": "@jupyter-widgets/base",
      "model_module_version": "1.2.0",
      "model_name": "LayoutModel",
      "state": {
       "_model_module": "@jupyter-widgets/base",
       "_model_module_version": "1.2.0",
       "_model_name": "LayoutModel",
       "_view_count": null,
       "_view_module": "@jupyter-widgets/base",
       "_view_module_version": "1.2.0",
       "_view_name": "LayoutView",
       "align_content": null,
       "align_items": null,
       "align_self": null,
       "border": null,
       "bottom": null,
       "display": null,
       "flex": null,
       "flex_flow": null,
       "grid_area": null,
       "grid_auto_columns": null,
       "grid_auto_flow": null,
       "grid_auto_rows": null,
       "grid_column": null,
       "grid_gap": null,
       "grid_row": null,
       "grid_template_areas": null,
       "grid_template_columns": null,
       "grid_template_rows": null,
       "height": null,
       "justify_content": null,
       "justify_items": null,
       "left": null,
       "margin": null,
       "max_height": null,
       "max_width": null,
       "min_height": null,
       "min_width": null,
       "object_fit": null,
       "object_position": null,
       "order": null,
       "overflow": null,
       "overflow_x": null,
       "overflow_y": null,
       "padding": null,
       "right": null,
       "top": null,
       "visibility": null,
       "width": null
      }
     },
     "0f14c140349d4d4dbd511f80cc7750d1": {
      "model_module": "@jupyter-widgets/controls",
      "model_module_version": "1.5.0",
      "model_name": "DescriptionStyleModel",
      "state": {
       "_model_module": "@jupyter-widgets/controls",
       "_model_module_version": "1.5.0",
       "_model_name": "DescriptionStyleModel",
       "_view_count": null,
       "_view_module": "@jupyter-widgets/base",
       "_view_module_version": "1.2.0",
       "_view_name": "StyleView",
       "description_width": ""
      }
     },
     "0f553a68425f4c0289d899c650812e72": {
      "model_module": "@jupyter-widgets/base",
      "model_module_version": "1.2.0",
      "model_name": "LayoutModel",
      "state": {
       "_model_module": "@jupyter-widgets/base",
       "_model_module_version": "1.2.0",
       "_model_name": "LayoutModel",
       "_view_count": null,
       "_view_module": "@jupyter-widgets/base",
       "_view_module_version": "1.2.0",
       "_view_name": "LayoutView",
       "align_content": null,
       "align_items": null,
       "align_self": null,
       "border": null,
       "bottom": null,
       "display": null,
       "flex": null,
       "flex_flow": null,
       "grid_area": null,
       "grid_auto_columns": null,
       "grid_auto_flow": null,
       "grid_auto_rows": null,
       "grid_column": null,
       "grid_gap": null,
       "grid_row": null,
       "grid_template_areas": null,
       "grid_template_columns": null,
       "grid_template_rows": null,
       "height": null,
       "justify_content": null,
       "justify_items": null,
       "left": null,
       "margin": null,
       "max_height": null,
       "max_width": null,
       "min_height": null,
       "min_width": null,
       "object_fit": null,
       "object_position": null,
       "order": null,
       "overflow": null,
       "overflow_x": null,
       "overflow_y": null,
       "padding": null,
       "right": null,
       "top": null,
       "visibility": null,
       "width": null
      }
     },
     "0fed9e963eac48a38fc1b7198d8802d3": {
      "model_module": "@jupyter-widgets/controls",
      "model_module_version": "1.5.0",
      "model_name": "DescriptionStyleModel",
      "state": {
       "_model_module": "@jupyter-widgets/controls",
       "_model_module_version": "1.5.0",
       "_model_name": "DescriptionStyleModel",
       "_view_count": null,
       "_view_module": "@jupyter-widgets/base",
       "_view_module_version": "1.2.0",
       "_view_name": "StyleView",
       "description_width": ""
      }
     },
     "15522b489cef48739bbda8b068f64fa6": {
      "model_module": "@jupyter-widgets/controls",
      "model_module_version": "1.5.0",
      "model_name": "HTMLModel",
      "state": {
       "_dom_classes": [],
       "_model_module": "@jupyter-widgets/controls",
       "_model_module_version": "1.5.0",
       "_model_name": "HTMLModel",
       "_view_count": null,
       "_view_module": "@jupyter-widgets/controls",
       "_view_module_version": "1.5.0",
       "_view_name": "HTMLView",
       "description": "",
       "description_tooltip": null,
       "layout": "IPY_MODEL_d6f4c6d0cafb47bcbadd7f6bb156a818",
       "placeholder": "​",
       "style": "IPY_MODEL_e80844394a364ed58cce3fc4f0d53493",
       "value": "<h5><a href=\"https://github.com/ipython/ipykernel\">ipython/ipykernel</a></h5>\n<ul>\n<li><a href=\"https://github.com/ipython/ipykernel/issues/775\">(#775)</a>: _support for %gui qt6 _ by <strong><a href=\"https://github.com/daliagachc\">@daliagachc</a></strong></li>\n<li><a href=\"https://github.com/ipython/ipykernel/issues/712\">(#712)</a>: <em>Please make the dependency on debugpy optional</em> by <strong><a href=\"https://github.com/mgorny\">@mgorny</a></strong></li>\n<li><a href=\"https://github.com/ipython/ipykernel/issues/759\">(#759)</a>: <em><code>pip install ipykernel&lt;6</code> gives incomplete installation, since Traitlets 5.1 release</em> by <strong><a href=\"https://github.com/mdickinson\">@mdickinson</a></strong></li>\n</ul>"
      }
     },
     "1572b8a63eaa40e3b7baef173f41fea1": {
      "model_module": "@jupyter-widgets/base",
      "model_module_version": "1.2.0",
      "model_name": "LayoutModel",
      "state": {
       "_model_module": "@jupyter-widgets/base",
       "_model_module_version": "1.2.0",
       "_model_name": "LayoutModel",
       "_view_count": null,
       "_view_module": "@jupyter-widgets/base",
       "_view_module_version": "1.2.0",
       "_view_name": "LayoutView",
       "align_content": null,
       "align_items": null,
       "align_self": null,
       "border": null,
       "bottom": null,
       "display": null,
       "flex": null,
       "flex_flow": null,
       "grid_area": null,
       "grid_auto_columns": null,
       "grid_auto_flow": null,
       "grid_auto_rows": null,
       "grid_column": null,
       "grid_gap": null,
       "grid_row": null,
       "grid_template_areas": null,
       "grid_template_columns": null,
       "grid_template_rows": null,
       "height": null,
       "justify_content": null,
       "justify_items": null,
       "left": null,
       "margin": null,
       "max_height": null,
       "max_width": null,
       "min_height": null,
       "min_width": null,
       "object_fit": null,
       "object_position": null,
       "order": null,
       "overflow": null,
       "overflow_x": null,
       "overflow_y": null,
       "padding": null,
       "right": null,
       "top": null,
       "visibility": null,
       "width": null
      }
     },
     "15a31abd42f74e6b93d9270b6ebe62f3": {
      "model_module": "@jupyter-widgets/controls",
      "model_module_version": "1.5.0",
      "model_name": "HTMLModel",
      "state": {
       "_dom_classes": [],
       "_model_module": "@jupyter-widgets/controls",
       "_model_module_version": "1.5.0",
       "_model_name": "HTMLModel",
       "_view_count": null,
       "_view_module": "@jupyter-widgets/controls",
       "_view_module_version": "1.5.0",
       "_view_name": "HTMLView",
       "description": "",
       "description_tooltip": null,
       "layout": "IPY_MODEL_44310596f51c4661b43e10978cbf39d3",
       "placeholder": "​",
       "style": "IPY_MODEL_edbbdac963e54bcbb4175773057063af",
       "value": "<h4>Closed PRs for repo: <a href=\"https://github.com/ipython/ipykernel\">ipython/ipykernel</a></h4>\n<h5></h5>\n<ul>\n<li><a href=\"https://github.com/ipython/ipykernel/pull/794\">(#794)</a>: <em>Automated Changelog Entry for 6.5.0 on master</em> by <strong><a href=\"https://github.com/blink1073\">@blink1073</a></strong> merged by <strong><a href=\"https://github.com/blink1073\">@blink1073</a></strong></li>\n<li><a href=\"https://github.com/ipython/ipykernel/pull/793\">(#793)</a>: <em>Fix rich variables inspection</em> by <strong><a href=\"https://github.com/fcollonval\">@fcollonval</a></strong> merged by <strong><a href=\"https://github.com/blink1073\">@blink1073</a></strong></li>\n<li><a href=\"https://github.com/ipython/ipykernel/pull/792\">(#792)</a>: <em>Drop ipython_genutils requirement</em> by <strong><a href=\"https://github.com/penguinolog\">@penguinolog</a></strong> merged by <strong><a href=\"https://github.com/blink1073\">@blink1073</a></strong></li>\n<li><a href=\"https://github.com/ipython/ipykernel/pull/791\">(#791)</a>: <em>Do not call setQuitOnLastWindowClosed() on a QCoreApplication</em> by <strong><a href=\"https://github.com/stukowski\">@stukowski</a></strong> merged by <strong><a href=\"https://github.com/blink1073\">@blink1073</a></strong></li>\n<li><a href=\"https://github.com/ipython/ipykernel/pull/788\">(#788)</a>: <em>Automated Changelog Entry for 6.4.2 on master</em> by <strong><a href=\"https://github.com/blink1073\">@blink1073</a></strong> merged by <strong><a href=\"https://github.com/blink1073\">@blink1073</a></strong></li>\n<li><a href=\"https://github.com/ipython/ipykernel/pull/787\">(#787)</a>: <em>Enabled rich rendering of variables in the debugger</em> by <strong><a href=\"https://github.com/JohanMabille\">@JohanMabille</a></strong> merged by <strong><a href=\"https://github.com/blink1073\">@blink1073</a></strong></li>\n<li><a href=\"https://github.com/ipython/ipykernel/pull/783\">(#783)</a>: <em>Add python version classifiers</em> by <strong><a href=\"https://github.com/emuccino\">@emuccino</a></strong> merged by <strong><a href=\"https://github.com/blink1073\">@blink1073</a></strong></li>\n<li><a href=\"https://github.com/ipython/ipykernel/pull/781\">(#781)</a>: <em>Remove setting of the eventloop function in the InProcessKernel</em> by <strong><a href=\"https://github.com/rayosborn\">@rayosborn</a></strong> merged by <strong><a href=\"https://github.com/blink1073\">@blink1073</a></strong></li>\n<li><a href=\"https://github.com/ipython/ipykernel/pull/779\">(#779)</a>: <em>Add changelog entry for 5.5.6</em> by <strong><a href=\"https://github.com/blink1073\">@blink1073</a></strong> merged by <strong><a href=\"https://github.com/blink1073\">@blink1073</a></strong></li>\n<li><a href=\"https://github.com/ipython/ipykernel/pull/778\">(#778)</a>: <em>Add <code>ipython_genutils</code> dependency to 5.5.x branch.</em> by <strong><a href=\"https://github.com/carlosperate\">@carlosperate</a></strong> merged by <strong><a href=\"https://github.com/blink1073\">@blink1073</a></strong></li>\n<li><a href=\"https://github.com/ipython/ipykernel/pull/774\">(#774)</a>: <em>Automated Changelog Entry for 6.4.1 on master</em> by <strong><a href=\"https://github.com/blink1073\">@blink1073</a></strong> merged by <strong><a href=\"https://github.com/blink1073\">@blink1073</a></strong></li>\n<li><a href=\"https://github.com/ipython/ipykernel/pull/773\">(#773)</a>: <em>debugpy is now a build requirement</em> by <strong><a href=\"https://github.com/minrk\">@minrk</a></strong> merged by <strong><a href=\"https://github.com/blink1073\">@blink1073</a></strong></li>\n<li><a href=\"https://github.com/ipython/ipykernel/pull/769\">(#769)</a>: <em>Automated Changelog Entry for 6.4.0 on master</em> by <strong><a href=\"https://github.com/blink1073\">@blink1073</a></strong> merged by <strong><a href=\"https://github.com/blink1073\">@blink1073</a></strong></li>\n<li><a href=\"https://github.com/ipython/ipykernel/pull/767\">(#767)</a>: <em>Make ipykernel work without debugpy</em> by <strong><a href=\"https://github.com/frenzymadness\">@frenzymadness</a></strong> merged by <strong><a href=\"https://github.com/minrk\">@minrk</a></strong></li>\n<li><a href=\"https://github.com/ipython/ipykernel/pull/766\">(#766)</a>: <em>Don't assume kernels have loops.</em> by <strong><a href=\"https://github.com/Carreau\">@Carreau</a></strong> merged by <strong><a href=\"https://github.com/blink1073\">@blink1073</a></strong></li>\n<li><a href=\"https://github.com/ipython/ipykernel/pull/765\">(#765)</a>: <em>Fix undefined variable</em> by <strong><a href=\"https://github.com/martinRenou\">@martinRenou</a></strong> merged by <strong><a href=\"https://github.com/blink1073\">@blink1073</a></strong></li>\n<li><a href=\"https://github.com/ipython/ipykernel/pull/762\">(#762)</a>: <em>Stop using deprecated recv_multipart when using in-process socket.</em> by <strong><a href=\"https://github.com/Carreau\">@Carreau</a></strong> merged by <strong><a href=\"https://github.com/minrk\">@minrk</a></strong></li>\n<li><a href=\"https://github.com/ipython/ipykernel/pull/761\">(#761)</a>: <em>Update some warnings with instructions and version number.</em> by <strong><a href=\"https://github.com/Carreau\">@Carreau</a></strong> merged by <strong><a href=\"https://github.com/minrk\">@minrk</a></strong></li>\n<li><a href=\"https://github.com/ipython/ipykernel/pull/757\">(#757)</a>: <em>Automated Changelog Entry for 6.3.1 on master</em> by <strong><a href=\"https://github.com/blink1073\">@blink1073</a></strong> merged by <strong><a href=\"https://github.com/blink1073\">@blink1073</a></strong></li>\n<li><a href=\"https://github.com/ipython/ipykernel/pull/756\">(#756)</a>: <em>Add dependency on IPython genutils.</em> by <strong><a href=\"https://github.com/Carreau\">@Carreau</a></strong> merged by <strong><a href=\"https://github.com/blink1073\">@blink1073</a></strong></li>\n<li><a href=\"https://github.com/ipython/ipykernel/pull/754\">(#754)</a>: <em>Automated Changelog Entry for 6.3.0 on master</em> by <strong><a href=\"https://github.com/blink1073\">@blink1073</a></strong> merged by <strong><a href=\"https://github.com/blink1073\">@blink1073</a></strong></li>\n<li><a href=\"https://github.com/ipython/ipykernel/pull/753\">(#753)</a>: <em>Implemented deep variable inspection</em> by <strong><a href=\"https://github.com/JohanMabille\">@JohanMabille</a></strong> merged by <strong><a href=\"https://github.com/blink1073\">@blink1073</a></strong></li>\n<li><a href=\"https://github.com/ipython/ipykernel/pull/752\">(#752)</a>: <em>Add IPKernelApp.capture_fd_output config to disable FD-level capture</em> by <strong><a href=\"https://github.com/minrk\">@minrk</a></strong> merged by <strong><a href=\"https://github.com/blink1073\">@blink1073</a></strong></li>\n<li><a href=\"https://github.com/ipython/ipykernel/pull/750\">(#750)</a>: <em>Remove more nose test references</em> by <strong><a href=\"https://github.com/blink1073\">@blink1073</a></strong> merged by <strong><a href=\"https://github.com/Carreau\">@Carreau</a></strong></li>\n<li><a href=\"https://github.com/ipython/ipykernel/pull/748\">(#748)</a>: <em>Remove Nose skipIf in favor of pytest</em> by <strong><a href=\"https://github.com/Carreau\">@Carreau</a></strong> merged by <strong><a href=\"https://github.com/blink1073\">@blink1073</a></strong></li>\n<li><a href=\"https://github.com/ipython/ipykernel/pull/747\">(#747)</a>: <em>remove more nose</em> by <strong><a href=\"https://github.com/Carreau\">@Carreau</a></strong> merged by <strong><a href=\"https://github.com/blink1073\">@blink1073</a></strong></li>\n<li><a href=\"https://github.com/ipython/ipykernel/pull/745\">(#745)</a>: <em>Set up release helper plumbing</em> by <strong><a href=\"https://github.com/afshin\">@afshin</a></strong> merged by <strong><a href=\"https://github.com/blink1073\">@blink1073</a></strong></li>\n<li><a href=\"https://github.com/ipython/ipykernel/pull/743\">(#743)</a>: <em>Remove some more dependency on nose/iptest</em> by <strong><a href=\"https://github.com/Carreau\">@Carreau</a></strong> merged by <strong><a href=\"https://github.com/blink1073\">@blink1073</a></strong></li>\n<li><a href=\"https://github.com/ipython/ipykernel/pull/708\">(#708)</a>: <em>Make json_clean a no-op for jupyter-client &gt;= 7</em> by <strong><a href=\"https://github.com/martinRenou\">@martinRenou</a></strong> merged by <strong><a href=\"https://github.com/blink1073\">@blink1073</a></strong></li>\n<li><a href=\"https://github.com/ipython/ipykernel/pull/635\">(#635)</a>: <em>Test downstream projects</em> by <strong><a href=\"https://github.com/davidbrochart\">@davidbrochart</a></strong> merged by <strong><a href=\"https://github.com/blink1073\">@blink1073</a></strong></li>\n</ul>"
      }
     },
     "1a689e3b30f444d59ca8546f80dbb2f2": {
      "model_module": "@jupyter-widgets/base",
      "model_module_version": "1.2.0",
      "model_name": "LayoutModel",
      "state": {
       "_model_module": "@jupyter-widgets/base",
       "_model_module_version": "1.2.0",
       "_model_name": "LayoutModel",
       "_view_count": null,
       "_view_module": "@jupyter-widgets/base",
       "_view_module_version": "1.2.0",
       "_view_name": "LayoutView",
       "align_content": null,
       "align_items": null,
       "align_self": null,
       "border": null,
       "bottom": null,
       "display": null,
       "flex": null,
       "flex_flow": null,
       "grid_area": null,
       "grid_auto_columns": null,
       "grid_auto_flow": null,
       "grid_auto_rows": null,
       "grid_column": null,
       "grid_gap": null,
       "grid_row": null,
       "grid_template_areas": null,
       "grid_template_columns": null,
       "grid_template_rows": null,
       "height": null,
       "justify_content": null,
       "justify_items": null,
       "left": null,
       "margin": null,
       "max_height": null,
       "max_width": null,
       "min_height": null,
       "min_width": null,
       "object_fit": null,
       "object_position": null,
       "order": null,
       "overflow": null,
       "overflow_x": null,
       "overflow_y": null,
       "padding": null,
       "right": null,
       "top": null,
       "visibility": null,
       "width": null
      }
     },
     "1da51480684041abb6b063b49fc8d88c": {
      "model_module": "@jupyter-widgets/base",
      "model_module_version": "1.2.0",
      "model_name": "LayoutModel",
      "state": {
       "_model_module": "@jupyter-widgets/base",
       "_model_module_version": "1.2.0",
       "_model_name": "LayoutModel",
       "_view_count": null,
       "_view_module": "@jupyter-widgets/base",
       "_view_module_version": "1.2.0",
       "_view_name": "LayoutView",
       "align_content": null,
       "align_items": null,
       "align_self": null,
       "border": null,
       "bottom": null,
       "display": null,
       "flex": null,
       "flex_flow": null,
       "grid_area": null,
       "grid_auto_columns": null,
       "grid_auto_flow": null,
       "grid_auto_rows": null,
       "grid_column": null,
       "grid_gap": null,
       "grid_row": null,
       "grid_template_areas": null,
       "grid_template_columns": null,
       "grid_template_rows": null,
       "height": null,
       "justify_content": null,
       "justify_items": null,
       "left": null,
       "margin": null,
       "max_height": null,
       "max_width": null,
       "min_height": null,
       "min_width": null,
       "object_fit": null,
       "object_position": null,
       "order": null,
       "overflow": null,
       "overflow_x": null,
       "overflow_y": null,
       "padding": null,
       "right": null,
       "top": null,
       "visibility": null,
       "width": null
      }
     },
     "1e418f3f30b94be9b0bb87f72d28729e": {
      "model_module": "@jupyter-widgets/controls",
      "model_module_version": "1.5.0",
      "model_name": "HTMLModel",
      "state": {
       "_dom_classes": [],
       "_model_module": "@jupyter-widgets/controls",
       "_model_module_version": "1.5.0",
       "_model_name": "HTMLModel",
       "_view_count": null,
       "_view_module": "@jupyter-widgets/controls",
       "_view_module_version": "1.5.0",
       "_view_name": "HTMLView",
       "description": "",
       "description_tooltip": null,
       "layout": "IPY_MODEL_08e3e5ad94a5492cbfd7d3779fa43f48",
       "placeholder": "​",
       "style": "IPY_MODEL_a8213857b5bb4f54902b55873b76c4a0",
       "value": "<h4>Closed PRs for repo: <a href=\"https://github.com/ipython/traitlets\">ipython/traitlets</a></h4>\n<h5></h5>\n<ul>\n<li><a href=\"https://github.com/ipython/traitlets/pull/683\">(#683)</a>: <em>Use codecov Github action v2</em> by <strong><a href=\"https://github.com/takluyver\">@takluyver</a></strong> merged by <strong><a href=\"https://github.com/Carreau\">@Carreau</a></strong></li>\n<li><a href=\"https://github.com/ipython/traitlets/pull/681\">(#681)</a>: <em>changelog for 5.1.1</em> by <strong><a href=\"https://github.com/minrk\">@minrk</a></strong> merged by <strong><a href=\"https://github.com/Carreau\">@Carreau</a></strong></li>\n<li><a href=\"https://github.com/ipython/traitlets/pull/680\">(#680)</a>: <em>publish releases from GHA</em> by <strong><a href=\"https://github.com/minrk\">@minrk</a></strong> merged by <strong><a href=\"https://github.com/minrk\">@minrk</a></strong></li>\n<li><a href=\"https://github.com/ipython/traitlets/pull/679\">(#679)</a>: <em>test on 3.10</em> by <strong><a href=\"https://github.com/minrk\">@minrk</a></strong> merged by <strong><a href=\"https://github.com/minrk\">@minrk</a></strong></li>\n<li><a href=\"https://github.com/ipython/traitlets/pull/678\">(#678)</a>: <em>FIX: account for changes in py310</em> by <strong><a href=\"https://github.com/tacaswell\">@tacaswell</a></strong> merged by <strong><a href=\"https://github.com/minrk\">@minrk</a></strong></li>\n<li><a href=\"https://github.com/ipython/traitlets/pull/675\">(#675)</a>: <em>Revert \"Fix string assertion for python3.10\"</em> by <strong><a href=\"https://github.com/mgorny\">@mgorny</a></strong> merged by <strong><a href=\"https://github.com/minrk\">@minrk</a></strong></li>\n<li><a href=\"https://github.com/ipython/traitlets/pull/674\">(#674)</a>: <em>update changelog</em> by <strong><a href=\"https://github.com/Carreau\">@Carreau</a></strong> merged by <strong><a href=\"https://github.com/Carreau\">@Carreau</a></strong></li>\n<li><a href=\"https://github.com/ipython/traitlets/pull/673\">(#673)</a>: <em>Remove most of the reminder of IPython_genutils</em> by <strong><a href=\"https://github.com/Carreau\">@Carreau</a></strong> merged by <strong><a href=\"https://github.com/Carreau\">@Carreau</a></strong></li>\n<li><a href=\"https://github.com/ipython/traitlets/pull/670\">(#670)</a>: <em>Fixes #668 ( passing a single element for a list on CLI)</em> by <strong><a href=\"https://github.com/Carreau\">@Carreau</a></strong> merged by <strong><a href=\"https://github.com/Carreau\">@Carreau</a></strong></li>\n</ul>"
      }
     },
     "1f86cc11a53e46fd93653209ca0c6ba7": {
      "model_module": "@jupyter-widgets/controls",
      "model_module_version": "1.5.0",
      "model_name": "HTMLModel",
      "state": {
       "_dom_classes": [],
       "_model_module": "@jupyter-widgets/controls",
       "_model_module_version": "1.5.0",
       "_model_name": "HTMLModel",
       "_view_count": null,
       "_view_module": "@jupyter-widgets/controls",
       "_view_module_version": "1.5.0",
       "_view_name": "HTMLView",
       "description": "",
       "description_tooltip": null,
       "layout": "IPY_MODEL_37c7f67582e64423a85eebfd6c1ca332",
       "placeholder": "​",
       "style": "IPY_MODEL_751a279ea9f146f58432c912c8351dc5",
       "value": "<ul>\n<li>(4) Issues with pythreejs with 6.4.0 - ipykernel - <a href=\"https://github.com/ipython/ipykernel/issues/771\">#771</a></li>\n<li>(3) Get rid of nose, and ref to IPython.testing. - ipykernel - <a href=\"https://github.com/ipython/ipykernel/issues/744\">#744</a></li>\n<li>(3) cannot connect to all started engines using PBS when n&gt;100 - ipyparallel - <a href=\"https://github.com/ipython/ipyparallel/issues/301\">#301</a></li>\n<li>(2) New output redirection in ipykernel 6.0 clutters notebooks - ipykernel - <a href=\"https://github.com/ipython/ipykernel/issues/737\">#737</a></li>\n<li>(2) %matplotlib inline doesn't work well with ipywidgets 6.0 interact - ipython - <a href=\"https://github.com/ipython/ipython/issues/10376\">#10376</a></li>\n<li>(1) Backticks aren't XKCD style - xkcd-font - <a href=\"https://github.com/ipython/xkcd-font/issues/38\">#38</a></li>\n<li>(1) depend on jedi&lt;=0.17.2 for Python 3.6 - ipython - <a href=\"https://github.com/ipython/ipython/issues/13100\">#13100</a></li>\n<li>(1) 5.0.5: pytest warnings - traitlets - <a href=\"https://github.com/ipython/traitlets/issues/665\">#665</a></li>\n<li>(1) Please make the dependency on debugpy optional - ipykernel - <a href=\"https://github.com/ipython/ipykernel/issues/712\">#712</a></li>\n<li>(1) Call to process_one(wait=False) raises exception when there is nothing to process - ipykernel - <a href=\"https://github.com/ipython/ipykernel/issues/763\">#763</a></li>\n<li>(1) ipykernel 6.x breaks redirecting stdout - ipykernel - <a href=\"https://github.com/ipython/ipykernel/issues/795\">#795</a></li>\n<li>(1) Numfocus Small Developper Grant to tackle removing nose and IPython 8.0 - ipython - <a href=\"https://github.com/ipython/ipython/issues/13108\">#13108</a></li>\n<li>(1) Race condition in paths.get_ipython_dirs() - ipython - <a href=\"https://github.com/ipython/ipython/issues/13255\">#13255</a></li>\n<li>(1) ipykernel==6.3.1 incompatible with pycharm - ipykernel - <a href=\"https://github.com/ipython/ipykernel/issues/764\">#764</a></li>\n<li>(1) Allow pickling of AsyncResults - ipyparallel - <a href=\"https://github.com/ipython/ipyparallel/issues/632\">#632</a></li>\n<li>(0) ipython/Matplotlib save button does not show popup dialog with ipython 7.26 on Mac with Qt5Agg backend - ipython - <a href=\"https://github.com/ipython/ipython/issues/13109\">#13109</a></li>\n<li>(0) PEP 553 interactivity between <code>IPython.core.debugger.set_trace</code> and <code>python -m doctest</code> causes test failures - ipython - <a href=\"https://github.com/ipython/ipython/issues/13104\">#13104</a></li>\n<li>(0) IndentationError can hide unmatched ')' - ipython - <a href=\"https://github.com/ipython/ipython/issues/13099\">#13099</a></li>\n<li>(0) 7.25.0: <code>ipywidgets</code> 7.6.3 man page build fails - ipython - <a href=\"https://github.com/ipython/ipython/issues/13105\">#13105</a></li>\n<li>(0) ContextVar not preserved when cell contains <code>await</code> - ipykernel - <a href=\"https://github.com/ipython/ipykernel/issues/749\">#749</a></li>\n<li>(0) process_one catches wrong QueueEmpty exception type - ipykernel - <a href=\"https://github.com/ipython/ipykernel/issues/751\">#751</a></li>\n<li>(0) Autocompletion on 3.9 doesn't include <code>str.removeprefix</code> - ipython - <a href=\"https://github.com/ipython/ipython/issues/13106\">#13106</a></li>\n<li>(0) Release 5.1 - traitlets - <a href=\"https://github.com/ipython/traitlets/issues/671\">#671</a></li>\n<li>(0) remove ipython_genutils. - traitlets - <a href=\"https://github.com/ipython/traitlets/issues/672\">#672</a></li>\n<li>(0) Remove ipython_genutils - ipyparallel - <a href=\"https://github.com/ipython/ipyparallel/issues/556\">#556</a></li>\n</ul>"
      }
     },
     "210ee182590f4d3abf6e796242700bdb": {
      "model_module": "@jupyter-widgets/controls",
      "model_module_version": "1.5.0",
      "model_name": "HTMLModel",
      "state": {
       "_dom_classes": [],
       "_model_module": "@jupyter-widgets/controls",
       "_model_module_version": "1.5.0",
       "_model_name": "HTMLModel",
       "_view_count": null,
       "_view_module": "@jupyter-widgets/controls",
       "_view_module_version": "1.5.0",
       "_view_name": "HTMLView",
       "description": "",
       "description_tooltip": null,
       "layout": "IPY_MODEL_0f553a68425f4c0289d899c650812e72",
       "placeholder": "​",
       "style": "IPY_MODEL_05b4c748f61647fa8c34e00ef097dac0",
       "value": "<h5><a href=\"https://github.com/ipython/matplotlib-inline\">ipython/matplotlib-inline</a></h5>\n<ul>\n<li><a href=\"https://github.com/ipython/matplotlib-inline/issues/11\">(#11)</a>: <em>UnicodeDecodeError: 'utf-8' codec can't decode byte 0x89 in position 0: invalid start byte</em> by <strong><a href=\"https://github.com/justineuro\">@justineuro</a></strong></li>\n<li><a href=\"https://github.com/ipython/matplotlib-inline/issues/8\">(#8)</a>: <em>Add from <code>. import backend_inline</code> in <code>__init__.py</code> ?</em> by <strong><a href=\"https://github.com/Carreau\">@Carreau</a></strong></li>\n<li><a href=\"https://github.com/ipython/matplotlib-inline/issues/6\">(#6)</a>: <em>Question about pypi/matplotlib-inline pointing to a fork of this project.</em> by <strong><a href=\"https://github.com/crisbal\">@crisbal</a></strong></li>\n<li><a href=\"https://github.com/ipython/matplotlib-inline/issues/7\">(#7)</a>: <em>figure formatters not in this package</em> by <strong><a href=\"https://github.com/minrk\">@minrk</a></strong></li>\n</ul>"
      }
     },
     "29632fce8fa24b0393f557110efdf18d": {
      "model_module": "@jupyter-widgets/base",
      "model_module_version": "1.2.0",
      "model_name": "LayoutModel",
      "state": {
       "_model_module": "@jupyter-widgets/base",
       "_model_module_version": "1.2.0",
       "_model_name": "LayoutModel",
       "_view_count": null,
       "_view_module": "@jupyter-widgets/base",
       "_view_module_version": "1.2.0",
       "_view_name": "LayoutView",
       "align_content": null,
       "align_items": null,
       "align_self": null,
       "border": null,
       "bottom": null,
       "display": null,
       "flex": null,
       "flex_flow": null,
       "grid_area": null,
       "grid_auto_columns": null,
       "grid_auto_flow": null,
       "grid_auto_rows": null,
       "grid_column": null,
       "grid_gap": null,
       "grid_row": null,
       "grid_template_areas": null,
       "grid_template_columns": null,
       "grid_template_rows": null,
       "height": null,
       "justify_content": null,
       "justify_items": null,
       "left": null,
       "margin": null,
       "max_height": null,
       "max_width": null,
       "min_height": null,
       "min_width": null,
       "object_fit": null,
       "object_position": null,
       "order": null,
       "overflow": null,
       "overflow_x": null,
       "overflow_y": null,
       "padding": null,
       "right": null,
       "top": null,
       "visibility": null,
       "width": null
      }
     },
     "2aa58ffc2fe946d28bc1c82950722b2c": {
      "model_module": "@jupyter-widgets/base",
      "model_module_version": "1.2.0",
      "model_name": "LayoutModel",
      "state": {
       "_model_module": "@jupyter-widgets/base",
       "_model_module_version": "1.2.0",
       "_model_name": "LayoutModel",
       "_view_count": null,
       "_view_module": "@jupyter-widgets/base",
       "_view_module_version": "1.2.0",
       "_view_name": "LayoutView",
       "align_content": null,
       "align_items": null,
       "align_self": null,
       "border": null,
       "bottom": null,
       "display": null,
       "flex": null,
       "flex_flow": null,
       "grid_area": null,
       "grid_auto_columns": null,
       "grid_auto_flow": null,
       "grid_auto_rows": null,
       "grid_column": null,
       "grid_gap": null,
       "grid_row": null,
       "grid_template_areas": null,
       "grid_template_columns": null,
       "grid_template_rows": null,
       "height": null,
       "justify_content": null,
       "justify_items": null,
       "left": null,
       "margin": null,
       "max_height": null,
       "max_width": null,
       "min_height": null,
       "min_width": null,
       "object_fit": null,
       "object_position": null,
       "order": null,
       "overflow": null,
       "overflow_x": null,
       "overflow_y": null,
       "padding": null,
       "right": null,
       "top": null,
       "visibility": null,
       "width": null
      }
     },
     "2f34f5b66e8c4413be677a1a97561d6d": {
      "model_module": "@jupyter-widgets/controls",
      "model_module_version": "1.5.0",
      "model_name": "DescriptionStyleModel",
      "state": {
       "_model_module": "@jupyter-widgets/controls",
       "_model_module_version": "1.5.0",
       "_model_name": "DescriptionStyleModel",
       "_view_count": null,
       "_view_module": "@jupyter-widgets/base",
       "_view_module_version": "1.2.0",
       "_view_name": "StyleView",
       "description_width": ""
      }
     },
     "32452e91104841f7a4bd5df7cdf010ab": {
      "model_module": "@jupyter-widgets/controls",
      "model_module_version": "1.5.0",
      "model_name": "HTMLModel",
      "state": {
       "_dom_classes": [],
       "_model_module": "@jupyter-widgets/controls",
       "_model_module_version": "1.5.0",
       "_model_name": "HTMLModel",
       "_view_count": null,
       "_view_module": "@jupyter-widgets/controls",
       "_view_module_version": "1.5.0",
       "_view_name": "HTMLView",
       "description": "",
       "description_tooltip": null,
       "layout": "IPY_MODEL_afa3951e386144d9a9147df204f6708c",
       "placeholder": "​",
       "style": "IPY_MODEL_0fed9e963eac48a38fc1b7198d8802d3",
       "value": "<h5><a href=\"https://github.com/ipython/ipyparallel\">ipython/ipyparallel</a></h5>\n<ul>\n<li><a href=\"https://github.com/ipython/ipyparallel/issues/619\">(#619)</a>: <em>PBSControllerLauncher: Unable to connect_client_sync()</em> by <strong><a href=\"https://github.com/lukas-koschmieder\">@lukas-koschmieder</a></strong></li>\n<li><a href=\"https://github.com/ipython/ipyparallel/issues/612\">(#612)</a>: <em><code>ViewExecutor</code> context manager (<code>with</code> statement)</em> by <strong><a href=\"https://github.com/aplamada\">@aplamada</a></strong></li>\n<li><a href=\"https://github.com/ipython/ipyparallel/issues/629\">(#629)</a>: <em>\"Detach\" cluster from Jupyter kernel</em> by <strong><a href=\"https://github.com/lukas-koschmieder\">@lukas-koschmieder</a></strong></li>\n<li><a href=\"https://github.com/ipython/ipyparallel/issues/626\">(#626)</a>: <em>No settings available for ipyparallel in JupyterLab</em> by <strong><a href=\"https://github.com/dmcooke\">@dmcooke</a></strong></li>\n</ul>"
      }
     },
     "37c7f67582e64423a85eebfd6c1ca332": {
      "model_module": "@jupyter-widgets/base",
      "model_module_version": "1.2.0",
      "model_name": "LayoutModel",
      "state": {
       "_model_module": "@jupyter-widgets/base",
       "_model_module_version": "1.2.0",
       "_model_name": "LayoutModel",
       "_view_count": null,
       "_view_module": "@jupyter-widgets/base",
       "_view_module_version": "1.2.0",
       "_view_name": "LayoutView",
       "align_content": null,
       "align_items": null,
       "align_self": null,
       "border": null,
       "bottom": null,
       "display": null,
       "flex": null,
       "flex_flow": null,
       "grid_area": null,
       "grid_auto_columns": null,
       "grid_auto_flow": null,
       "grid_auto_rows": null,
       "grid_column": null,
       "grid_gap": null,
       "grid_row": null,
       "grid_template_areas": null,
       "grid_template_columns": null,
       "grid_template_rows": null,
       "height": null,
       "justify_content": null,
       "justify_items": null,
       "left": null,
       "margin": null,
       "max_height": null,
       "max_width": null,
       "min_height": null,
       "min_width": null,
       "object_fit": null,
       "object_position": null,
       "order": null,
       "overflow": null,
       "overflow_x": null,
       "overflow_y": null,
       "padding": null,
       "right": null,
       "top": null,
       "visibility": null,
       "width": null
      }
     },
     "43a1831dcb554f7fb5a2ab1351040167": {
      "model_module": "@jupyter-widgets/base",
      "model_module_version": "1.2.0",
      "model_name": "LayoutModel",
      "state": {
       "_model_module": "@jupyter-widgets/base",
       "_model_module_version": "1.2.0",
       "_model_name": "LayoutModel",
       "_view_count": null,
       "_view_module": "@jupyter-widgets/base",
       "_view_module_version": "1.2.0",
       "_view_name": "LayoutView",
       "align_content": null,
       "align_items": null,
       "align_self": null,
       "border": null,
       "bottom": null,
       "display": null,
       "flex": null,
       "flex_flow": null,
       "grid_area": null,
       "grid_auto_columns": null,
       "grid_auto_flow": null,
       "grid_auto_rows": null,
       "grid_column": null,
       "grid_gap": null,
       "grid_row": null,
       "grid_template_areas": null,
       "grid_template_columns": null,
       "grid_template_rows": null,
       "height": null,
       "justify_content": null,
       "justify_items": null,
       "left": null,
       "margin": null,
       "max_height": null,
       "max_width": null,
       "min_height": null,
       "min_width": null,
       "object_fit": null,
       "object_position": null,
       "order": null,
       "overflow": null,
       "overflow_x": null,
       "overflow_y": null,
       "padding": null,
       "right": null,
       "top": null,
       "visibility": null,
       "width": null
      }
     },
     "44310596f51c4661b43e10978cbf39d3": {
      "model_module": "@jupyter-widgets/base",
      "model_module_version": "1.2.0",
      "model_name": "LayoutModel",
      "state": {
       "_model_module": "@jupyter-widgets/base",
       "_model_module_version": "1.2.0",
       "_model_name": "LayoutModel",
       "_view_count": null,
       "_view_module": "@jupyter-widgets/base",
       "_view_module_version": "1.2.0",
       "_view_name": "LayoutView",
       "align_content": null,
       "align_items": null,
       "align_self": null,
       "border": null,
       "bottom": null,
       "display": null,
       "flex": null,
       "flex_flow": null,
       "grid_area": null,
       "grid_auto_columns": null,
       "grid_auto_flow": null,
       "grid_auto_rows": null,
       "grid_column": null,
       "grid_gap": null,
       "grid_row": null,
       "grid_template_areas": null,
       "grid_template_columns": null,
       "grid_template_rows": null,
       "height": null,
       "justify_content": null,
       "justify_items": null,
       "left": null,
       "margin": null,
       "max_height": null,
       "max_width": null,
       "min_height": null,
       "min_width": null,
       "object_fit": null,
       "object_position": null,
       "order": null,
       "overflow": null,
       "overflow_x": null,
       "overflow_y": null,
       "padding": null,
       "right": null,
       "top": null,
       "visibility": null,
       "width": null
      }
     },
     "475af1d797ac4556a81ca8ef460324de": {
      "model_module": "@jupyter-widgets/controls",
      "model_module_version": "1.5.0",
      "model_name": "HTMLModel",
      "state": {
       "_dom_classes": [],
       "_model_module": "@jupyter-widgets/controls",
       "_model_module_version": "1.5.0",
       "_model_name": "HTMLModel",
       "_view_count": null,
       "_view_module": "@jupyter-widgets/controls",
       "_view_module_version": "1.5.0",
       "_view_name": "HTMLView",
       "description": "",
       "description_tooltip": null,
       "layout": "IPY_MODEL_2aa58ffc2fe946d28bc1c82950722b2c",
       "placeholder": "​",
       "style": "IPY_MODEL_a98d65d6a5f746a394eb81cc344ff914",
       "value": "<h5><a href=\"https://github.com/ipython/ipython-in-depth\">ipython/ipython-in-depth</a></h5>\n<ul>\n<li><a href=\"https://github.com/ipython/ipython-in-depth/issues/79\">(#79)</a>: <em>df2.iloc[2]</em> by <strong><a href=\"https://github.com/youvanrajgire\">@youvanrajgire</a></strong></li>\n<li><a href=\"https://github.com/ipython/ipython-in-depth/issues/56\">(#56)</a>: <em>spaces in file names and spaces in links lead to broken markdown links in tutorial</em> by <strong><a href=\"https://github.com/RobertHa\">@RobertHa</a></strong></li>\n<li><a href=\"https://github.com/ipython/ipython-in-depth/issues/55\">(#55)</a>: <em>Broken image links in ipython-in-depth/exercises/Parallel Computing/Overview of IPython.parallel.ipynb</em> by <strong><a href=\"https://github.com/alemorm\">@alemorm</a></strong></li>\n</ul>"
      }
     },
     "4cdd025c07834a6e8bd44b81d8f9ea6c": {
      "model_module": "@jupyter-widgets/controls",
      "model_module_version": "1.5.0",
      "model_name": "HTMLModel",
      "state": {
       "_dom_classes": [],
       "_model_module": "@jupyter-widgets/controls",
       "_model_module_version": "1.5.0",
       "_model_name": "HTMLModel",
       "_view_count": null,
       "_view_module": "@jupyter-widgets/controls",
       "_view_module_version": "1.5.0",
       "_view_name": "HTMLView",
       "description": "",
       "description_tooltip": null,
       "layout": "IPY_MODEL_50fd1b0d81514bd1a400e42ca96c6626",
       "placeholder": "​",
       "style": "IPY_MODEL_ec504990234f46b1b79ef1e5bd8867f5",
       "value": "<h5><a href=\"https://github.com/ipython/ipython\">ipython/ipython</a></h5>\n<ul>\n<li><a href=\"https://github.com/ipython/ipython/issues/13136\">(#13136)</a>: <em>IPython Debugger: Skipping the decorator code</em> by <strong><a href=\"https://github.com/umairanis03\">@umairanis03</a></strong></li>\n<li><a href=\"https://github.com/ipython/ipython/issues/13197\">(#13197)</a>: <em>Different output results for Jupyter Notebook and other IDE for TensorFlow GPU</em> by <strong><a href=\"https://github.com/Vadim-Maklakov\">@Vadim-Maklakov</a></strong></li>\n<li><a href=\"https://github.com/ipython/ipython/issues/13109\">(#13109)</a>: <em>ipython/Matplotlib save button does not show popup dialog with ipython 7.26 on Mac with Qt5Agg backend</em> by <strong><a href=\"https://github.com/agallenne\">@agallenne</a></strong></li>\n<li><a href=\"https://github.com/ipython/ipython/issues/12831\">(#12831)</a>: <em>IPython crash when use showtraceback with exception_only=True</em> by <strong><a href=\"https://github.com/MiklosTacs\">@MiklosTacs</a></strong></li>\n</ul>"
      }
     },
     "504312003a7b4ce8a7e82e9642e52ccd": {
      "model_module": "@jupyter-widgets/controls",
      "model_module_version": "1.5.0",
      "model_name": "HTMLModel",
      "state": {
       "_dom_classes": [],
       "_model_module": "@jupyter-widgets/controls",
       "_model_module_version": "1.5.0",
       "_model_name": "HTMLModel",
       "_view_count": null,
       "_view_module": "@jupyter-widgets/controls",
       "_view_module_version": "1.5.0",
       "_view_name": "HTMLView",
       "description": "",
       "description_tooltip": null,
       "layout": "IPY_MODEL_1a689e3b30f444d59ca8546f80dbb2f2",
       "placeholder": "​",
       "style": "IPY_MODEL_0f14c140349d4d4dbd511f80cc7750d1",
       "value": "<h5><a href=\"https://github.com/ipython/ipyparallel\">ipython/ipyparallel</a></h5>\n<ul>\n<li><a href=\"https://github.com/ipython/ipyparallel/issues/619\">(#619)</a>: <em>PBSControllerLauncher: Unable to connect_client_sync()</em> by <strong><a href=\"https://github.com/lukas-koschmieder\">@lukas-koschmieder</a></strong></li>\n<li><a href=\"https://github.com/ipython/ipyparallel/issues/612\">(#612)</a>: <em><code>ViewExecutor</code> context manager (<code>with</code> statement)</em> by <strong><a href=\"https://github.com/aplamada\">@aplamada</a></strong></li>\n<li><a href=\"https://github.com/ipython/ipyparallel/issues/629\">(#629)</a>: <em>\"Detach\" cluster from Jupyter kernel</em> by <strong><a href=\"https://github.com/lukas-koschmieder\">@lukas-koschmieder</a></strong></li>\n<li><a href=\"https://github.com/ipython/ipyparallel/issues/626\">(#626)</a>: <em>No settings available for ipyparallel in JupyterLab</em> by <strong><a href=\"https://github.com/dmcooke\">@dmcooke</a></strong></li>\n</ul>"
      }
     },
     "50fd1b0d81514bd1a400e42ca96c6626": {
      "model_module": "@jupyter-widgets/base",
      "model_module_version": "1.2.0",
      "model_name": "LayoutModel",
      "state": {
       "_model_module": "@jupyter-widgets/base",
       "_model_module_version": "1.2.0",
       "_model_name": "LayoutModel",
       "_view_count": null,
       "_view_module": "@jupyter-widgets/base",
       "_view_module_version": "1.2.0",
       "_view_name": "LayoutView",
       "align_content": null,
       "align_items": null,
       "align_self": null,
       "border": null,
       "bottom": null,
       "display": null,
       "flex": null,
       "flex_flow": null,
       "grid_area": null,
       "grid_auto_columns": null,
       "grid_auto_flow": null,
       "grid_auto_rows": null,
       "grid_column": null,
       "grid_gap": null,
       "grid_row": null,
       "grid_template_areas": null,
       "grid_template_columns": null,
       "grid_template_rows": null,
       "height": null,
       "justify_content": null,
       "justify_items": null,
       "left": null,
       "margin": null,
       "max_height": null,
       "max_width": null,
       "min_height": null,
       "min_width": null,
       "object_fit": null,
       "object_position": null,
       "order": null,
       "overflow": null,
       "overflow_x": null,
       "overflow_y": null,
       "padding": null,
       "right": null,
       "top": null,
       "visibility": null,
       "width": null
      }
     },
     "54e1a787298b4729aaa51b3b4c9862d3": {
      "model_module": "@jupyter-widgets/controls",
      "model_module_version": "1.5.0",
      "model_name": "HTMLModel",
      "state": {
       "_dom_classes": [],
       "_model_module": "@jupyter-widgets/controls",
       "_model_module_version": "1.5.0",
       "_model_name": "HTMLModel",
       "_view_count": null,
       "_view_module": "@jupyter-widgets/controls",
       "_view_module_version": "1.5.0",
       "_view_name": "HTMLView",
       "description": "",
       "description_tooltip": null,
       "layout": "IPY_MODEL_9b40bf3f0b91460dbd6088e2ae9faafb",
       "placeholder": "​",
       "style": "IPY_MODEL_6d3620ae249d4f2fae3c12da5a6a2030",
       "value": "<h4>Closed PRs for repo: <a href=\"https://github.com/ipython/matplotlib-inline\">ipython/matplotlib-inline</a></h4>\n<h5></h5>\n<ul>\n<li><a href=\"https://github.com/ipython/matplotlib-inline/pull/10\">(#10)</a>: <em>Create <code>__version__</code> attribute</em> by <strong><a href=\"https://github.com/ianhi\">@ianhi</a></strong> merged by <strong><a href=\"https://github.com/martinRenou\">@martinRenou</a></strong></li>\n<li><a href=\"https://github.com/ipython/matplotlib-inline/pull/9\">(#9)</a>: <em>import submodules in __init__.py</em> by <strong><a href=\"https://github.com/Carreau\">@Carreau</a></strong> merged by <strong><a href=\"https://github.com/martinRenou\">@martinRenou</a></strong></li>\n</ul>"
      }
     },
     "5f80bb673a02417aa5cc8340428399ba": {
      "model_module": "@jupyter-widgets/controls",
      "model_module_version": "1.5.0",
      "model_name": "TabModel",
      "state": {
       "_dom_classes": [],
       "_model_module": "@jupyter-widgets/controls",
       "_model_module_version": "1.5.0",
       "_model_name": "TabModel",
       "_titles": {
        "0": "ipykernel",
        "1": "ipyparallel",
        "2": "ipython",
        "3": "ipython-in-depth",
        "4": "matplotlib-inline",
        "5": "traitlets"
       },
       "_view_count": null,
       "_view_module": "@jupyter-widgets/controls",
       "_view_module_version": "1.5.0",
       "_view_name": "TabView",
       "box_style": "",
       "children": [
        "IPY_MODEL_15522b489cef48739bbda8b068f64fa6",
        "IPY_MODEL_504312003a7b4ce8a7e82e9642e52ccd",
        "IPY_MODEL_b072360da5a24470b5ccffb007a793a4",
        "IPY_MODEL_b5cfb4e54997449db4873ce95a020385",
        "IPY_MODEL_210ee182590f4d3abf6e796242700bdb",
        "IPY_MODEL_092b9a20587f4d3b9fbbd5af84435586"
       ],
       "layout": "IPY_MODEL_bcf308f1340e401388a6d7218909c8fb",
       "selected_index": 0
      }
     },
     "60f278b1a3ac4303a9ae54ffeaca9e99": {
      "model_module": "@jupyter-widgets/controls",
      "model_module_version": "1.5.0",
      "model_name": "HTMLModel",
      "state": {
       "_dom_classes": [],
       "_model_module": "@jupyter-widgets/controls",
       "_model_module_version": "1.5.0",
       "_model_name": "HTMLModel",
       "_view_count": null,
       "_view_module": "@jupyter-widgets/controls",
       "_view_module_version": "1.5.0",
       "_view_name": "HTMLView",
       "description": "",
       "description_tooltip": null,
       "layout": "IPY_MODEL_1da51480684041abb6b063b49fc8d88c",
       "placeholder": "​",
       "style": "IPY_MODEL_045ee9465184471091b948d80d759ecb",
       "value": "<h4>Closed PRs for repo: <a href=\"https://github.com/ipython/ipython\">ipython/ipython</a></h4>\n<h5></h5>\n<ul>\n<li><a href=\"https://github.com/ipython/ipython/pull/13273\">(#13273)</a>: <em>Backport PR #13270: Add Xfail test on 3.9.8</em> by <strong><a href=\"https://github.com/Carreau\">@Carreau</a></strong> merged by <strong><a href=\"https://github.com/Carreau\">@Carreau</a></strong></li>\n<li><a href=\"https://github.com/ipython/ipython/pull/13270\">(#13270)</a>: <em>Add Xfail test on 3.9.8</em> by <strong><a href=\"https://github.com/Carreau\">@Carreau</a></strong> merged by <strong><a href=\"https://github.com/Carreau\">@Carreau</a></strong></li>\n<li><a href=\"https://github.com/ipython/ipython/pull/13267\">(#13267)</a>: <em>Document that <code>%run</code> can execute notebooks and ipy scripts.</em> by <strong><a href=\"https://github.com/fperez\">@fperez</a></strong> merged by <strong><a href=\"https://github.com/Carreau\">@Carreau</a></strong></li>\n<li><a href=\"https://github.com/ipython/ipython/pull/13264\">(#13264)</a>: <em>f_locals might not have get method</em> by <strong><a href=\"https://github.com/impact27\">@impact27</a></strong> merged by <strong><a href=\"https://github.com/Carreau\">@Carreau</a></strong></li>\n<li><a href=\"https://github.com/ipython/ipython/pull/13260\">(#13260)</a>: <em>Fix codecov.yml syntax</em> by <strong><a href=\"https://github.com/Kojoley\">@Kojoley</a></strong> merged by <strong><a href=\"https://github.com/Carreau\">@Carreau</a></strong></li>\n<li><a href=\"https://github.com/ipython/ipython/pull/13254\">(#13254)</a>: <em>Suppress bunch of self-deprecation warnings</em> by <strong><a href=\"https://github.com/Kojoley\">@Kojoley</a></strong> merged by <strong><a href=\"https://github.com/Carreau\">@Carreau</a></strong></li>\n<li><a href=\"https://github.com/ipython/ipython/pull/13251\">(#13251)</a>: <em>Split coverage into distinct library and tests stats</em> by <strong><a href=\"https://github.com/Kojoley\">@Kojoley</a></strong> merged by <strong><a href=\"https://github.com/Carreau\">@Carreau</a></strong></li>\n<li><a href=\"https://github.com/ipython/ipython/pull/13248\">(#13248)</a>: <em>Make test_shim_warning not fail on unrelated warnings</em> by <strong><a href=\"https://github.com/Kojoley\">@Kojoley</a></strong> merged by <strong><a href=\"https://github.com/Carreau\">@Carreau</a></strong></li>\n<li><a href=\"https://github.com/ipython/ipython/pull/13247\">(#13247)</a>: <em>Skip test_pylabtools when no matplotlib installed</em> by <strong><a href=\"https://github.com/Kojoley\">@Kojoley</a></strong> merged by <strong><a href=\"https://github.com/Carreau\">@Carreau</a></strong></li>\n<li><a href=\"https://github.com/ipython/ipython/pull/13242\">(#13242)</a>: <em>Remove unused _find_cmd</em> by <strong><a href=\"https://github.com/Kojoley\">@Kojoley</a></strong> merged by <strong><a href=\"https://github.com/Carreau\">@Carreau</a></strong></li>\n<li><a href=\"https://github.com/ipython/ipython/pull/13240\">(#13240)</a>: <em>test_completer tests resurrection</em> by <strong><a href=\"https://github.com/Kojoley\">@Kojoley</a></strong> merged by <strong><a href=\"https://github.com/Carreau\">@Carreau</a></strong></li>\n<li><a href=\"https://github.com/ipython/ipython/pull/13239\">(#13239)</a>: <em>Pytest ipdoctest plugin</em> by <strong><a href=\"https://github.com/Kojoley\">@Kojoley</a></strong> merged by <strong><a href=\"https://github.com/Carreau\">@Carreau</a></strong></li>\n<li><a href=\"https://github.com/ipython/ipython/pull/13235\">(#13235)</a>: <em>Update what's of of older IPython (forgotten)</em> by <strong><a href=\"https://github.com/Carreau\">@Carreau</a></strong> merged by <strong><a href=\"https://github.com/Carreau\">@Carreau</a></strong></li>\n<li><a href=\"https://github.com/ipython/ipython/pull/13233\">(#13233)</a>: <em>Fix link and try to fix list.</em> by <strong><a href=\"https://github.com/Carreau\">@Carreau</a></strong> merged by <strong><a href=\"https://github.com/Carreau\">@Carreau</a></strong></li>\n<li><a href=\"https://github.com/ipython/ipython/pull/13231\">(#13231)</a>: <em>What's New 7.29</em> by <strong><a href=\"https://github.com/Carreau\">@Carreau</a></strong> merged by <strong><a href=\"https://github.com/Carreau\">@Carreau</a></strong></li>\n<li><a href=\"https://github.com/ipython/ipython/pull/13230\">(#13230)</a>: <em>Run Pytest tests on Appveyor</em> by <strong><a href=\"https://github.com/Kojoley\">@Kojoley</a></strong> merged by <strong><a href=\"https://github.com/Carreau\">@Carreau</a></strong></li>\n<li><a href=\"https://github.com/ipython/ipython/pull/13229\">(#13229)</a>: <em>Disable codecov for current patch</em> by <strong><a href=\"https://github.com/Carreau\">@Carreau</a></strong> merged by <strong><a href=\"https://github.com/Carreau\">@Carreau</a></strong></li>\n<li><a href=\"https://github.com/ipython/ipython/pull/13228\">(#13228)</a>: <em>Import <code>reload</code> from <code>importlib</code> instead of deprecated <code>imp</code></em> by <strong><a href=\"https://github.com/erihe251\">@erihe251</a></strong> merged by <strong><a href=\"https://github.com/Carreau\">@Carreau</a></strong></li>\n<li><a href=\"https://github.com/ipython/ipython/pull/13226\">(#13226)</a>: <em>CI: Collect coverage from GHA Pytest run</em> by <strong><a href=\"https://github.com/Kojoley\">@Kojoley</a></strong> merged by <strong><a href=\"https://github.com/Carreau\">@Carreau</a></strong></li>\n<li><a href=\"https://github.com/ipython/ipython/pull/13225\">(#13225)</a>: <em>Fix quick reference documentation for 'exec'</em> by <strong><a href=\"https://github.com/adamchainz\">@adamchainz</a></strong> merged by <strong><a href=\"https://github.com/Carreau\">@Carreau</a></strong></li>\n<li><a href=\"https://github.com/ipython/ipython/pull/13218\">(#13218)</a>: <em>Set InterruptiblePdb as the default debugger.</em> by <strong><a href=\"https://github.com/Carreau\">@Carreau</a></strong> merged by <strong><a href=\"https://github.com/Carreau\">@Carreau</a></strong></li>\n<li><a href=\"https://github.com/ipython/ipython/pull/13216\">(#13216)</a>: <em>CI: Upload coverage from Appveyor</em> by <strong><a href=\"https://github.com/Kojoley\">@Kojoley</a></strong> merged by <strong><a href=\"https://github.com/Carreau\">@Carreau</a></strong></li>\n<li><a href=\"https://github.com/ipython/ipython/pull/13215\">(#13215)</a>: <em>reformat previous commit</em> by <strong><a href=\"https://github.com/Carreau\">@Carreau</a></strong> merged by <strong><a href=\"https://github.com/Carreau\">@Carreau</a></strong></li>\n<li><a href=\"https://github.com/ipython/ipython/pull/13214\">(#13214)</a>: <em>ipexec: prevent output coloring under PyCharm</em> by <strong><a href=\"https://github.com/Kojoley\">@Kojoley</a></strong> merged by <strong><a href=\"https://github.com/Carreau\">@Carreau</a></strong></li>\n<li><a href=\"https://github.com/ipython/ipython/pull/13213\">(#13213)</a>: <em>Fix bunch of doctests</em> by <strong><a href=\"https://github.com/Kojoley\">@Kojoley</a></strong> merged by <strong><a href=\"https://github.com/Carreau\">@Carreau</a></strong></li>\n<li><a href=\"https://github.com/ipython/ipython/pull/13212\">(#13212)</a>: <em>removed a name shadowing pitfall</em> by <strong><a href=\"https://github.com/NaelsonDouglas\">@NaelsonDouglas</a></strong> merged by <strong><a href=\"https://github.com/Carreau\">@Carreau</a></strong></li>\n<li><a href=\"https://github.com/ipython/ipython/pull/13211\">(#13211)</a>: <em>Adhere to usage style when documenting save args</em> by <strong><a href=\"https://github.com/paw-lu\">@paw-lu</a></strong> merged by <strong><a href=\"https://github.com/Carreau\">@Carreau</a></strong></li>\n<li><a href=\"https://github.com/ipython/ipython/pull/13207\">(#13207)</a>: <em>Try to enable codecov status</em> by <strong><a href=\"https://github.com/Carreau\">@Carreau</a></strong> merged by <strong><a href=\"https://github.com/Carreau\">@Carreau</a></strong></li>\n<li><a href=\"https://github.com/ipython/ipython/pull/13206\">(#13206)</a>: <em>Nose cleanup first step</em> by <strong><a href=\"https://github.com/sgaist\">@sgaist</a></strong> merged by <strong><a href=\"https://github.com/Carreau\">@Carreau</a></strong></li>\n<li><a href=\"https://github.com/ipython/ipython/pull/13205\">(#13205)</a>: <em>Typos found by codespell</em> by <strong><a href=\"https://github.com/DimitriPapadopoulos\">@DimitriPapadopoulos</a></strong> merged by <strong><a href=\"https://github.com/Carreau\">@Carreau</a></strong></li>\n<li><a href=\"https://github.com/ipython/ipython/pull/13204\">(#13204)</a>: <em>Do not use mutables as default arguments</em> by <strong><a href=\"https://github.com/DimitriPapadopoulos\">@DimitriPapadopoulos</a></strong> merged by <strong><a href=\"https://github.com/Carreau\">@Carreau</a></strong></li>\n<li><a href=\"https://github.com/ipython/ipython/pull/13202\">(#13202)</a>: <em>Fix unintentional skipping of module level doctests</em> by <strong><a href=\"https://github.com/Kojoley\">@Kojoley</a></strong> merged by <strong><a href=\"https://github.com/Carreau\">@Carreau</a></strong></li>\n<li><a href=\"https://github.com/ipython/ipython/pull/13198\">(#13198)</a>: <em>match log message for profile by name and path</em> by <strong><a href=\"https://github.com/minrk\">@minrk</a></strong> merged by <strong><a href=\"https://github.com/Carreau\">@Carreau</a></strong></li>\n<li><a href=\"https://github.com/ipython/ipython/pull/13194\">(#13194)</a>: <em>feat: remove deprecated code &amp; files ⚰️</em> by <strong><a href=\"https://github.com/meysam81\">@meysam81</a></strong> merged by <strong><a href=\"https://github.com/Carreau\">@Carreau</a></strong></li>\n<li><a href=\"https://github.com/ipython/ipython/pull/13193\">(#13193)</a>: <em>Use codecov Github action v2</em> by <strong><a href=\"https://github.com/takluyver\">@takluyver</a></strong> merged by <strong><a href=\"https://github.com/Carreau\">@Carreau</a></strong></li>\n<li><a href=\"https://github.com/ipython/ipython/pull/13191\">(#13191)</a>: <em>Try to fix some of current failures.</em> by <strong><a href=\"https://github.com/Carreau\">@Carreau</a></strong> merged by <strong><a href=\"https://github.com/Carreau\">@Carreau</a></strong></li>\n<li><a href=\"https://github.com/ipython/ipython/pull/13187\">(#13187)</a>: <em>Fix wrong inspect.signature call</em> by <strong><a href=\"https://github.com/gpotter2\">@gpotter2</a></strong> merged by <strong><a href=\"https://github.com/Carreau\">@Carreau</a></strong></li>\n<li><a href=\"https://github.com/ipython/ipython/pull/13182\">(#13182)</a>: <em>ci: Simplify CI maintenance by combining Ubuntu and macOS workflows</em> by <strong><a href=\"https://github.com/matthewfeickert\">@matthewfeickert</a></strong> merged by <strong><a href=\"https://github.com/Carreau\">@Carreau</a></strong></li>\n<li><a href=\"https://github.com/ipython/ipython/pull/13181\">(#13181)</a>: <em>create ipython_dir if not exists</em> by <strong><a href=\"https://github.com/haobibo\">@haobibo</a></strong> merged by <strong><a href=\"https://github.com/Carreau\">@Carreau</a></strong></li>\n<li><a href=\"https://github.com/ipython/ipython/pull/13179\">(#13179)</a>: <em>Fix qtagg eventloop</em> by <strong><a href=\"https://github.com/tacaswell\">@tacaswell</a></strong> merged by <strong><a href=\"https://github.com/Carreau\">@Carreau</a></strong></li>\n<li><a href=\"https://github.com/ipython/ipython/pull/13175\">(#13175)</a>: <em>Expand and Fix PDB skip.</em> by <strong><a href=\"https://github.com/Carreau\">@Carreau</a></strong> merged by <strong><a href=\"https://github.com/Carreau\">@Carreau</a></strong></li>\n<li><a href=\"https://github.com/ipython/ipython/pull/13174\">(#13174)</a>: <em>Fix cpaste documentation</em> by <strong><a href=\"https://github.com/sgaist\">@sgaist</a></strong> merged by <strong><a href=\"https://github.com/Carreau\">@Carreau</a></strong></li>\n<li><a href=\"https://github.com/ipython/ipython/pull/13172\">(#13172)</a>: <em>use _exec wrapper for qt win32 inputhook</em> by <strong><a href=\"https://github.com/pijyoi\">@pijyoi</a></strong> merged by <strong><a href=\"https://github.com/Carreau\">@Carreau</a></strong></li>\n<li><a href=\"https://github.com/ipython/ipython/pull/13171\">(#13171)</a>: <em>Manually backport whole init_virtualenv</em> by <strong><a href=\"https://github.com/deep-jkl\">@deep-jkl</a></strong> merged by <strong><a href=\"https://github.com/Carreau\">@Carreau</a></strong></li>\n<li><a href=\"https://github.com/ipython/ipython/pull/13170\">(#13170)</a>: <em>Convert WindowsPath to str in init_virtualenv.</em> by <strong><a href=\"https://github.com/deep-jkl\">@deep-jkl</a></strong> merged by <strong><a href=\"https://github.com/Carreau\">@Carreau</a></strong></li>\n<li><a href=\"https://github.com/ipython/ipython/pull/13167\">(#13167)</a>: <em>Backport PR #13142: Pdbskip #13136</em> by <strong><a href=\"https://github.com/Carreau\">@Carreau</a></strong> merged by <strong><a href=\"https://github.com/Carreau\">@Carreau</a></strong></li>\n<li><a href=\"https://github.com/ipython/ipython/pull/13162\">(#13162)</a>: <em>print_figure return base64 str instead of bytes</em> by <strong><a href=\"https://github.com/minrk\">@minrk</a></strong> merged by <strong><a href=\"https://github.com/Carreau\">@Carreau</a></strong></li>\n<li><a href=\"https://github.com/ipython/ipython/pull/13158\">(#13158)</a>: <em>What's new 7.28</em> by <strong><a href=\"https://github.com/Carreau\">@Carreau</a></strong> merged by <strong><a href=\"https://github.com/Carreau\">@Carreau</a></strong></li>\n<li><a href=\"https://github.com/ipython/ipython/pull/13157\">(#13157)</a>: <em>Add history file to debugger</em> by <strong><a href=\"https://github.com/Carreau\">@Carreau</a></strong> merged by <strong><a href=\"https://github.com/minrk\">@minrk</a></strong></li>\n<li><a href=\"https://github.com/ipython/ipython/pull/13153\">(#13153)</a>: <em>Adapt to all sorts of drive names for cygwin</em> by <strong><a href=\"https://github.com/Mithil467\">@Mithil467</a></strong> merged by <strong><a href=\"https://github.com/MrMino\">@MrMino</a></strong></li>\n<li><a href=\"https://github.com/ipython/ipython/pull/13147\">(#13147)</a>: <em>Reword the YouTubeVideo autoplay WN</em> by <strong><a href=\"https://github.com/MrMino\">@MrMino</a></strong> merged by <strong><a href=\"https://github.com/MrMino\">@MrMino</a></strong></li>\n<li><a href=\"https://github.com/ipython/ipython/pull/13142\">(#13142)</a>: <em>Pdbskip #13136</em> by <strong><a href=\"https://github.com/Carreau\">@Carreau</a></strong> merged by <strong><a href=\"https://github.com/Carreau\">@Carreau</a></strong></li>\n<li><a href=\"https://github.com/ipython/ipython/pull/13140\">(#13140)</a>: <em>Use pathlib parent relationships to compare virtualenv directories</em> by <strong><a href=\"https://github.com/MrMino\">@MrMino</a></strong> merged by <strong><a href=\"https://github.com/MrMino\">@MrMino</a></strong></li>\n<li><a href=\"https://github.com/ipython/ipython/pull/13138\">(#13138)</a>: <em>Fix broken ipyparallel's refs</em> by <strong><a href=\"https://github.com/MrMino\">@MrMino</a></strong> merged by <strong><a href=\"https://github.com/MrMino\">@MrMino</a></strong></li>\n<li><a href=\"https://github.com/ipython/ipython/pull/13133\">(#13133)</a>: <em>enable autoplay in embed youtube player</em> by <strong><a href=\"https://github.com/yuji96\">@yuji96</a></strong> merged by <strong><a href=\"https://github.com/MrMino\">@MrMino</a></strong></li>\n<li><a href=\"https://github.com/ipython/ipython/pull/13125\">(#13125)</a>: <em>Improve formatting of %time documentation</em> by <strong><a href=\"https://github.com/MrMino\">@MrMino</a></strong> merged by <strong><a href=\"https://github.com/MrMino\">@MrMino</a></strong></li>\n<li><a href=\"https://github.com/ipython/ipython/pull/13118\">(#13118)</a>: <em>Fix formatting for the core.interactiveshell documentation</em> by <strong><a href=\"https://github.com/prius\">@prius</a></strong> merged by <strong><a href=\"https://github.com/MrMino\">@MrMino</a></strong></li>\n<li><a href=\"https://github.com/ipython/ipython/pull/13115\">(#13115)</a>: <em>nose2pytest migration batch 1</em> by <strong><a href=\"https://github.com/kloczek\">@kloczek</a></strong> merged by <strong><a href=\"https://github.com/MrMino\">@MrMino</a></strong></li>\n<li><a href=\"https://github.com/ipython/ipython/pull/13111\">(#13111)</a>: <em>7.27 what's new.</em> by <strong><a href=\"https://github.com/Carreau\">@Carreau</a></strong> merged by <strong><a href=\"https://github.com/Carreau\">@Carreau</a></strong></li>\n<li><a href=\"https://github.com/ipython/ipython/pull/13101\">(#13101)</a>: <em>Add input hooks for GTK4.</em> by <strong><a href=\"https://github.com/QuLogic\">@QuLogic</a></strong> merged by <strong><a href=\"https://github.com/Carreau\">@Carreau</a></strong></li>\n<li><a href=\"https://github.com/ipython/ipython/pull/13098\">(#13098)</a>: <em>Remove more nose idioms</em> by <strong><a href=\"https://github.com/Carreau\">@Carreau</a></strong> merged by <strong><a href=\"https://github.com/Carreau\">@Carreau</a></strong></li>\n<li><a href=\"https://github.com/ipython/ipython/pull/13097\">(#13097)</a>: <em>Protect against failure to show local data.</em> by <strong><a href=\"https://github.com/Carreau\">@Carreau</a></strong> merged by <strong><a href=\"https://github.com/Carreau\">@Carreau</a></strong></li>\n<li><a href=\"https://github.com/ipython/ipython/pull/13095\">(#13095)</a>: <em>Remove some nose</em> by <strong><a href=\"https://github.com/Carreau\">@Carreau</a></strong> merged by <strong><a href=\"https://github.com/Carreau\">@Carreau</a></strong></li>\n<li><a href=\"https://github.com/ipython/ipython/pull/13094\">(#13094)</a>: <em>Fix virtual environment user warning for lower case pathes</em> by <strong><a href=\"https://github.com/MRCWirtz\">@MRCWirtz</a></strong> merged by <strong><a href=\"https://github.com/MrMino\">@MrMino</a></strong></li>\n<li><a href=\"https://github.com/ipython/ipython/pull/13093\">(#13093)</a>: <em>Fix #13084</em> by <strong><a href=\"https://github.com/madbird1304\">@madbird1304</a></strong> merged by <strong><a href=\"https://github.com/MrMino\">@MrMino</a></strong></li>\n<li><a href=\"https://github.com/ipython/ipython/pull/13091\">(#13091)</a>: <em>Fix for issue #12897 (Changing to vi mode via config magic)</em> by <strong><a href=\"https://github.com/madbird1304\">@madbird1304</a></strong> merged by <strong><a href=\"https://github.com/Carreau\">@Carreau</a></strong></li>\n<li><a href=\"https://github.com/ipython/ipython/pull/13090\">(#13090)</a>: <em>Fix: <code>async with</code> doesn't allow newlines (ipython/ipython/issues/12975)</em> by <strong><a href=\"https://github.com/madbird1304\">@madbird1304</a></strong> merged by <strong><a href=\"https://github.com/Carreau\">@Carreau</a></strong></li>\n<li><a href=\"https://github.com/ipython/ipython/pull/13088\">(#13088)</a>: _Improve error tracebacks so that it shows the cell prompts [2] _ by <strong><a href=\"https://github.com/martinRenou\">@martinRenou</a></strong> merged by <strong><a href=\"https://github.com/MrMino\">@MrMino</a></strong></li>\n<li><a href=\"https://github.com/ipython/ipython/pull/13085\">(#13085)</a>: <em>ENH: add support for Qt6 input hooks</em> by <strong><a href=\"https://github.com/tacaswell\">@tacaswell</a></strong> merged by <strong><a href=\"https://github.com/Carreau\">@Carreau</a></strong></li>\n<li><a href=\"https://github.com/ipython/ipython/pull/13078\">(#13078)</a>: <em>Remove deprecated IPython.html module</em> by <strong><a href=\"https://github.com/MrMino\">@MrMino</a></strong> merged by <strong><a href=\"https://github.com/Carreau\">@Carreau</a></strong></li>\n<li><a href=\"https://github.com/ipython/ipython/pull/13076\">(#13076)</a>: <em>inherit base aliases / flags from traitlets.config.Application</em> by <strong><a href=\"https://github.com/minrk\">@minrk</a></strong> merged by <strong><a href=\"https://github.com/Carreau\">@Carreau</a></strong></li>\n<li><a href=\"https://github.com/ipython/ipython/pull/13069\">(#13069)</a>: <em>Exported submodules completion</em> by <strong><a href=\"https://github.com/daniel-shimon\">@daniel-shimon</a></strong> merged by <strong><a href=\"https://github.com/Carreau\">@Carreau</a></strong></li>\n<li><a href=\"https://github.com/ipython/ipython/pull/12864\">(#12864)</a>: <em>Allow specifying alt text for IPython.display.Image.</em> by <strong><a href=\"https://github.com/blois\">@blois</a></strong> merged by <strong><a href=\"https://github.com/Carreau\">@Carreau</a></strong></li>\n</ul>"
      }
     },
     "69715d6e5cfb4813b0a99cadf5393362": {
      "model_module": "@jupyter-widgets/base",
      "model_module_version": "1.2.0",
      "model_name": "LayoutModel",
      "state": {
       "_model_module": "@jupyter-widgets/base",
       "_model_module_version": "1.2.0",
       "_model_name": "LayoutModel",
       "_view_count": null,
       "_view_module": "@jupyter-widgets/base",
       "_view_module_version": "1.2.0",
       "_view_name": "LayoutView",
       "align_content": null,
       "align_items": null,
       "align_self": null,
       "border": null,
       "bottom": null,
       "display": null,
       "flex": null,
       "flex_flow": null,
       "grid_area": null,
       "grid_auto_columns": null,
       "grid_auto_flow": null,
       "grid_auto_rows": null,
       "grid_column": null,
       "grid_gap": null,
       "grid_row": null,
       "grid_template_areas": null,
       "grid_template_columns": null,
       "grid_template_rows": null,
       "height": null,
       "justify_content": null,
       "justify_items": null,
       "left": null,
       "margin": null,
       "max_height": null,
       "max_width": null,
       "min_height": null,
       "min_width": null,
       "object_fit": null,
       "object_position": null,
       "order": null,
       "overflow": null,
       "overflow_x": null,
       "overflow_y": null,
       "padding": null,
       "right": null,
       "top": null,
       "visibility": null,
       "width": null
      }
     },
     "6ac1c81359b54430a079f5a5b1226f84": {
      "model_module": "@jupyter-widgets/controls",
      "model_module_version": "1.5.0",
      "model_name": "DescriptionStyleModel",
      "state": {
       "_model_module": "@jupyter-widgets/controls",
       "_model_module_version": "1.5.0",
       "_model_name": "DescriptionStyleModel",
       "_view_count": null,
       "_view_module": "@jupyter-widgets/base",
       "_view_module_version": "1.2.0",
       "_view_name": "StyleView",
       "description_width": ""
      }
     },
     "6d3620ae249d4f2fae3c12da5a6a2030": {
      "model_module": "@jupyter-widgets/controls",
      "model_module_version": "1.5.0",
      "model_name": "DescriptionStyleModel",
      "state": {
       "_model_module": "@jupyter-widgets/controls",
       "_model_module_version": "1.5.0",
       "_model_name": "DescriptionStyleModel",
       "_view_count": null,
       "_view_module": "@jupyter-widgets/base",
       "_view_module_version": "1.2.0",
       "_view_name": "StyleView",
       "description_width": ""
      }
     },
     "6dd6330a7cf1490a8f35fe7c2266eca6": {
      "model_module": "@jupyter-widgets/controls",
      "model_module_version": "1.5.0",
      "model_name": "HTMLModel",
      "state": {
       "_dom_classes": [],
       "_model_module": "@jupyter-widgets/controls",
       "_model_module_version": "1.5.0",
       "_model_name": "HTMLModel",
       "_view_count": null,
       "_view_module": "@jupyter-widgets/controls",
       "_view_module_version": "1.5.0",
       "_view_name": "HTMLView",
       "description": "",
       "description_tooltip": null,
       "layout": "IPY_MODEL_0dd95d6f4fb142fe81195658da51d347",
       "placeholder": "​",
       "style": "IPY_MODEL_a3cb1eeac7fd4ab98f4a1cd4179f3259",
       "value": "<h4>Closed PRs for repo: <a href=\"https://github.com/ipython/ipython-in-depth\">ipython/ipython-in-depth</a></h4>\n<h5></h5>\n<ul>\n<li><a href=\"https://github.com/ipython/ipython-in-depth/pull/59\">(#59)</a>: <em>Fixes for #55 #56</em> by <strong><a href=\"https://github.com/djcomlab\">@djcomlab</a></strong> merged by <strong><a href=\"https://github.com/minrk\">@minrk</a></strong></li>\n</ul>"
      }
     },
     "751a279ea9f146f58432c912c8351dc5": {
      "model_module": "@jupyter-widgets/controls",
      "model_module_version": "1.5.0",
      "model_name": "DescriptionStyleModel",
      "state": {
       "_model_module": "@jupyter-widgets/controls",
       "_model_module_version": "1.5.0",
       "_model_name": "DescriptionStyleModel",
       "_view_count": null,
       "_view_module": "@jupyter-widgets/base",
       "_view_module_version": "1.2.0",
       "_view_name": "StyleView",
       "description_width": ""
      }
     },
     "899f3231a2c248adacf7aa90e0849231": {
      "model_module": "@jupyter-widgets/base",
      "model_module_version": "1.2.0",
      "model_name": "LayoutModel",
      "state": {
       "_model_module": "@jupyter-widgets/base",
       "_model_module_version": "1.2.0",
       "_model_name": "LayoutModel",
       "_view_count": null,
       "_view_module": "@jupyter-widgets/base",
       "_view_module_version": "1.2.0",
       "_view_name": "LayoutView",
       "align_content": null,
       "align_items": null,
       "align_self": null,
       "border": null,
       "bottom": null,
       "display": null,
       "flex": null,
       "flex_flow": null,
       "grid_area": null,
       "grid_auto_columns": null,
       "grid_auto_flow": null,
       "grid_auto_rows": null,
       "grid_column": null,
       "grid_gap": null,
       "grid_row": null,
       "grid_template_areas": null,
       "grid_template_columns": null,
       "grid_template_rows": null,
       "height": null,
       "justify_content": null,
       "justify_items": null,
       "left": null,
       "margin": null,
       "max_height": null,
       "max_width": null,
       "min_height": null,
       "min_width": null,
       "object_fit": null,
       "object_position": null,
       "order": null,
       "overflow": null,
       "overflow_x": null,
       "overflow_y": null,
       "padding": null,
       "right": null,
       "top": null,
       "visibility": null,
       "width": null
      }
     },
     "9b40bf3f0b91460dbd6088e2ae9faafb": {
      "model_module": "@jupyter-widgets/base",
      "model_module_version": "1.2.0",
      "model_name": "LayoutModel",
      "state": {
       "_model_module": "@jupyter-widgets/base",
       "_model_module_version": "1.2.0",
       "_model_name": "LayoutModel",
       "_view_count": null,
       "_view_module": "@jupyter-widgets/base",
       "_view_module_version": "1.2.0",
       "_view_name": "LayoutView",
       "align_content": null,
       "align_items": null,
       "align_self": null,
       "border": null,
       "bottom": null,
       "display": null,
       "flex": null,
       "flex_flow": null,
       "grid_area": null,
       "grid_auto_columns": null,
       "grid_auto_flow": null,
       "grid_auto_rows": null,
       "grid_column": null,
       "grid_gap": null,
       "grid_row": null,
       "grid_template_areas": null,
       "grid_template_columns": null,
       "grid_template_rows": null,
       "height": null,
       "justify_content": null,
       "justify_items": null,
       "left": null,
       "margin": null,
       "max_height": null,
       "max_width": null,
       "min_height": null,
       "min_width": null,
       "object_fit": null,
       "object_position": null,
       "order": null,
       "overflow": null,
       "overflow_x": null,
       "overflow_y": null,
       "padding": null,
       "right": null,
       "top": null,
       "visibility": null,
       "width": null
      }
     },
     "a3cb1eeac7fd4ab98f4a1cd4179f3259": {
      "model_module": "@jupyter-widgets/controls",
      "model_module_version": "1.5.0",
      "model_name": "DescriptionStyleModel",
      "state": {
       "_model_module": "@jupyter-widgets/controls",
       "_model_module_version": "1.5.0",
       "_model_name": "DescriptionStyleModel",
       "_view_count": null,
       "_view_module": "@jupyter-widgets/base",
       "_view_module_version": "1.2.0",
       "_view_name": "StyleView",
       "description_width": ""
      }
     },
     "a4ad6a8a937846c5a829fccc34cd57f1": {
      "model_module": "@jupyter-widgets/base",
      "model_module_version": "1.2.0",
      "model_name": "LayoutModel",
      "state": {
       "_model_module": "@jupyter-widgets/base",
       "_model_module_version": "1.2.0",
       "_model_name": "LayoutModel",
       "_view_count": null,
       "_view_module": "@jupyter-widgets/base",
       "_view_module_version": "1.2.0",
       "_view_name": "LayoutView",
       "align_content": null,
       "align_items": null,
       "align_self": null,
       "border": null,
       "bottom": null,
       "display": null,
       "flex": null,
       "flex_flow": null,
       "grid_area": null,
       "grid_auto_columns": null,
       "grid_auto_flow": null,
       "grid_auto_rows": null,
       "grid_column": null,
       "grid_gap": null,
       "grid_row": null,
       "grid_template_areas": null,
       "grid_template_columns": null,
       "grid_template_rows": null,
       "height": null,
       "justify_content": null,
       "justify_items": null,
       "left": null,
       "margin": null,
       "max_height": null,
       "max_width": null,
       "min_height": null,
       "min_width": null,
       "object_fit": null,
       "object_position": null,
       "order": null,
       "overflow": null,
       "overflow_x": null,
       "overflow_y": null,
       "padding": null,
       "right": null,
       "top": null,
       "visibility": null,
       "width": null
      }
     },
     "a8213857b5bb4f54902b55873b76c4a0": {
      "model_module": "@jupyter-widgets/controls",
      "model_module_version": "1.5.0",
      "model_name": "DescriptionStyleModel",
      "state": {
       "_model_module": "@jupyter-widgets/controls",
       "_model_module_version": "1.5.0",
       "_model_name": "DescriptionStyleModel",
       "_view_count": null,
       "_view_module": "@jupyter-widgets/base",
       "_view_module_version": "1.2.0",
       "_view_name": "StyleView",
       "description_width": ""
      }
     },
     "a98d65d6a5f746a394eb81cc344ff914": {
      "model_module": "@jupyter-widgets/controls",
      "model_module_version": "1.5.0",
      "model_name": "DescriptionStyleModel",
      "state": {
       "_model_module": "@jupyter-widgets/controls",
       "_model_module_version": "1.5.0",
       "_model_name": "DescriptionStyleModel",
       "_view_count": null,
       "_view_module": "@jupyter-widgets/base",
       "_view_module_version": "1.2.0",
       "_view_name": "StyleView",
       "description_width": ""
      }
     },
     "ab269af0630545ec8a255cc40bd55342": {
      "model_module": "@jupyter-widgets/controls",
      "model_module_version": "1.5.0",
      "model_name": "TabModel",
      "state": {
       "_dom_classes": [],
       "_model_module": "@jupyter-widgets/controls",
       "_model_module_version": "1.5.0",
       "_model_name": "TabModel",
       "_titles": {
        "0": "ipykernel",
        "1": "ipyparallel",
        "2": "ipython",
        "3": "ipython-in-depth",
        "4": "matplotlib-inline",
        "5": "traitlets"
       },
       "_view_count": null,
       "_view_module": "@jupyter-widgets/controls",
       "_view_module_version": "1.5.0",
       "_view_name": "TabView",
       "box_style": "",
       "children": [
        "IPY_MODEL_15a31abd42f74e6b93d9270b6ebe62f3",
        "IPY_MODEL_da63191254da42e996e8943414d1f50f",
        "IPY_MODEL_60f278b1a3ac4303a9ae54ffeaca9e99",
        "IPY_MODEL_6dd6330a7cf1490a8f35fe7c2266eca6",
        "IPY_MODEL_54e1a787298b4729aaa51b3b4c9862d3",
        "IPY_MODEL_1e418f3f30b94be9b0bb87f72d28729e"
       ],
       "layout": "IPY_MODEL_e997a1e751a34467961e711c96fe3eae",
       "selected_index": 0
      }
     },
     "af2d7dd23ef644e4b731ea728ea8f9c2": {
      "model_module": "@jupyter-widgets/controls",
      "model_module_version": "1.5.0",
      "model_name": "HTMLModel",
      "state": {
       "_dom_classes": [],
       "_model_module": "@jupyter-widgets/controls",
       "_model_module_version": "1.5.0",
       "_model_name": "HTMLModel",
       "_view_count": null,
       "_view_module": "@jupyter-widgets/controls",
       "_view_module_version": "1.5.0",
       "_view_name": "HTMLView",
       "description": "",
       "description_tooltip": null,
       "layout": "IPY_MODEL_899f3231a2c248adacf7aa90e0849231",
       "placeholder": "​",
       "style": "IPY_MODEL_d14aa01a1fed4f4d8b1c5f8ebc04dd13",
       "value": "<h5><a href=\"https://github.com/ipython/matplotlib-inline\">ipython/matplotlib-inline</a></h5>\n<ul>\n<li><a href=\"https://github.com/ipython/matplotlib-inline/issues/11\">(#11)</a>: <em>UnicodeDecodeError: 'utf-8' codec can't decode byte 0x89 in position 0: invalid start byte</em> by <strong><a href=\"https://github.com/justineuro\">@justineuro</a></strong></li>\n<li><a href=\"https://github.com/ipython/matplotlib-inline/issues/8\">(#8)</a>: <em>Add from <code>. import backend_inline</code> in <code>__init__.py</code> ?</em> by <strong><a href=\"https://github.com/Carreau\">@Carreau</a></strong></li>\n<li><a href=\"https://github.com/ipython/matplotlib-inline/issues/6\">(#6)</a>: <em>Question about pypi/matplotlib-inline pointing to a fork of this project.</em> by <strong><a href=\"https://github.com/crisbal\">@crisbal</a></strong></li>\n<li><a href=\"https://github.com/ipython/matplotlib-inline/issues/7\">(#7)</a>: <em>figure formatters not in this package</em> by <strong><a href=\"https://github.com/minrk\">@minrk</a></strong></li>\n</ul>"
      }
     },
     "afa3951e386144d9a9147df204f6708c": {
      "model_module": "@jupyter-widgets/base",
      "model_module_version": "1.2.0",
      "model_name": "LayoutModel",
      "state": {
       "_model_module": "@jupyter-widgets/base",
       "_model_module_version": "1.2.0",
       "_model_name": "LayoutModel",
       "_view_count": null,
       "_view_module": "@jupyter-widgets/base",
       "_view_module_version": "1.2.0",
       "_view_name": "LayoutView",
       "align_content": null,
       "align_items": null,
       "align_self": null,
       "border": null,
       "bottom": null,
       "display": null,
       "flex": null,
       "flex_flow": null,
       "grid_area": null,
       "grid_auto_columns": null,
       "grid_auto_flow": null,
       "grid_auto_rows": null,
       "grid_column": null,
       "grid_gap": null,
       "grid_row": null,
       "grid_template_areas": null,
       "grid_template_columns": null,
       "grid_template_rows": null,
       "height": null,
       "justify_content": null,
       "justify_items": null,
       "left": null,
       "margin": null,
       "max_height": null,
       "max_width": null,
       "min_height": null,
       "min_width": null,
       "object_fit": null,
       "object_position": null,
       "order": null,
       "overflow": null,
       "overflow_x": null,
       "overflow_y": null,
       "padding": null,
       "right": null,
       "top": null,
       "visibility": null,
       "width": null
      }
     },
     "b072360da5a24470b5ccffb007a793a4": {
      "model_module": "@jupyter-widgets/controls",
      "model_module_version": "1.5.0",
      "model_name": "HTMLModel",
      "state": {
       "_dom_classes": [],
       "_model_module": "@jupyter-widgets/controls",
       "_model_module_version": "1.5.0",
       "_model_name": "HTMLModel",
       "_view_count": null,
       "_view_module": "@jupyter-widgets/controls",
       "_view_module_version": "1.5.0",
       "_view_name": "HTMLView",
       "description": "",
       "description_tooltip": null,
       "layout": "IPY_MODEL_a4ad6a8a937846c5a829fccc34cd57f1",
       "placeholder": "​",
       "style": "IPY_MODEL_f43754f3176146e1b8273a09260652d3",
       "value": "<h5><a href=\"https://github.com/ipython/ipython\">ipython/ipython</a></h5>\n<ul>\n<li><a href=\"https://github.com/ipython/ipython/issues/13136\">(#13136)</a>: <em>IPython Debugger: Skipping the decorator code</em> by <strong><a href=\"https://github.com/umairanis03\">@umairanis03</a></strong></li>\n<li><a href=\"https://github.com/ipython/ipython/issues/13197\">(#13197)</a>: <em>Different output results for Jupyter Notebook and other IDE for TensorFlow GPU</em> by <strong><a href=\"https://github.com/Vadim-Maklakov\">@Vadim-Maklakov</a></strong></li>\n<li><a href=\"https://github.com/ipython/ipython/issues/13109\">(#13109)</a>: <em>ipython/Matplotlib save button does not show popup dialog with ipython 7.26 on Mac with Qt5Agg backend</em> by <strong><a href=\"https://github.com/agallenne\">@agallenne</a></strong></li>\n<li><a href=\"https://github.com/ipython/ipython/issues/12831\">(#12831)</a>: <em>IPython crash when use showtraceback with exception_only=True</em> by <strong><a href=\"https://github.com/MiklosTacs\">@MiklosTacs</a></strong></li>\n</ul>"
      }
     },
     "b5cfb4e54997449db4873ce95a020385": {
      "model_module": "@jupyter-widgets/controls",
      "model_module_version": "1.5.0",
      "model_name": "HTMLModel",
      "state": {
       "_dom_classes": [],
       "_model_module": "@jupyter-widgets/controls",
       "_model_module_version": "1.5.0",
       "_model_name": "HTMLModel",
       "_view_count": null,
       "_view_module": "@jupyter-widgets/controls",
       "_view_module_version": "1.5.0",
       "_view_name": "HTMLView",
       "description": "",
       "description_tooltip": null,
       "layout": "IPY_MODEL_69715d6e5cfb4813b0a99cadf5393362",
       "placeholder": "​",
       "style": "IPY_MODEL_df946b3769e64d6fa2a171c68e152389",
       "value": "<h5><a href=\"https://github.com/ipython/ipython-in-depth\">ipython/ipython-in-depth</a></h5>\n<ul>\n<li><a href=\"https://github.com/ipython/ipython-in-depth/issues/79\">(#79)</a>: <em>df2.iloc[2]</em> by <strong><a href=\"https://github.com/youvanrajgire\">@youvanrajgire</a></strong></li>\n<li><a href=\"https://github.com/ipython/ipython-in-depth/issues/56\">(#56)</a>: <em>spaces in file names and spaces in links lead to broken markdown links in tutorial</em> by <strong><a href=\"https://github.com/RobertHa\">@RobertHa</a></strong></li>\n<li><a href=\"https://github.com/ipython/ipython-in-depth/issues/55\">(#55)</a>: <em>Broken image links in ipython-in-depth/exercises/Parallel Computing/Overview of IPython.parallel.ipynb</em> by <strong><a href=\"https://github.com/alemorm\">@alemorm</a></strong></li>\n</ul>"
      }
     },
     "b5efe48a47a84f1ca42b744862047908": {
      "model_module": "@jupyter-widgets/controls",
      "model_module_version": "1.5.0",
      "model_name": "DescriptionStyleModel",
      "state": {
       "_model_module": "@jupyter-widgets/controls",
       "_model_module_version": "1.5.0",
       "_model_name": "DescriptionStyleModel",
       "_view_count": null,
       "_view_module": "@jupyter-widgets/base",
       "_view_module_version": "1.2.0",
       "_view_name": "StyleView",
       "description_width": ""
      }
     },
     "bc6721a5372b4f758324fa7c27c3648f": {
      "model_module": "@jupyter-widgets/controls",
      "model_module_version": "1.5.0",
      "model_name": "HTMLModel",
      "state": {
       "_dom_classes": [],
       "_model_module": "@jupyter-widgets/controls",
       "_model_module_version": "1.5.0",
       "_model_name": "HTMLModel",
       "_view_count": null,
       "_view_module": "@jupyter-widgets/controls",
       "_view_module_version": "1.5.0",
       "_view_name": "HTMLView",
       "description": "",
       "description_tooltip": null,
       "layout": "IPY_MODEL_29632fce8fa24b0393f557110efdf18d",
       "placeholder": "​",
       "style": "IPY_MODEL_0b3b5a5b46124708bb27a618c368d29d",
       "value": "<h5><a href=\"https://github.com/ipython/traitlets\">ipython/traitlets</a></h5>\n<ul>\n<li><a href=\"https://github.com/ipython/traitlets/issues/677\">(#677)</a>: <em>Traitlets in strict mode - fail on warnings and/or fail on missing config?</em> by <strong><a href=\"https://github.com/consideRatio\">@consideRatio</a></strong></li>\n<li><a href=\"https://github.com/ipython/traitlets/issues/676\">(#676)</a>: <em>TestUseEnum.test_assign_scoped_enum_value_name fails in 5.1.0</em> by <strong><a href=\"https://github.com/opoplawski\">@opoplawski</a></strong></li>\n</ul>"
      }
     },
     "bcf308f1340e401388a6d7218909c8fb": {
      "model_module": "@jupyter-widgets/base",
      "model_module_version": "1.2.0",
      "model_name": "LayoutModel",
      "state": {
       "_model_module": "@jupyter-widgets/base",
       "_model_module_version": "1.2.0",
       "_model_name": "LayoutModel",
       "_view_count": null,
       "_view_module": "@jupyter-widgets/base",
       "_view_module_version": "1.2.0",
       "_view_name": "LayoutView",
       "align_content": null,
       "align_items": null,
       "align_self": null,
       "border": null,
       "bottom": null,
       "display": null,
       "flex": null,
       "flex_flow": null,
       "grid_area": null,
       "grid_auto_columns": null,
       "grid_auto_flow": null,
       "grid_auto_rows": null,
       "grid_column": null,
       "grid_gap": null,
       "grid_row": null,
       "grid_template_areas": null,
       "grid_template_columns": null,
       "grid_template_rows": null,
       "height": null,
       "justify_content": null,
       "justify_items": null,
       "left": null,
       "margin": null,
       "max_height": null,
       "max_width": null,
       "min_height": null,
       "min_width": null,
       "object_fit": null,
       "object_position": null,
       "order": null,
       "overflow": null,
       "overflow_x": null,
       "overflow_y": null,
       "padding": null,
       "right": null,
       "top": null,
       "visibility": null,
       "width": null
      }
     },
     "d14aa01a1fed4f4d8b1c5f8ebc04dd13": {
      "model_module": "@jupyter-widgets/controls",
      "model_module_version": "1.5.0",
      "model_name": "DescriptionStyleModel",
      "state": {
       "_model_module": "@jupyter-widgets/controls",
       "_model_module_version": "1.5.0",
       "_model_name": "DescriptionStyleModel",
       "_view_count": null,
       "_view_module": "@jupyter-widgets/base",
       "_view_module_version": "1.2.0",
       "_view_name": "StyleView",
       "description_width": ""
      }
     },
     "d6f4c6d0cafb47bcbadd7f6bb156a818": {
      "model_module": "@jupyter-widgets/base",
      "model_module_version": "1.2.0",
      "model_name": "LayoutModel",
      "state": {
       "_model_module": "@jupyter-widgets/base",
       "_model_module_version": "1.2.0",
       "_model_name": "LayoutModel",
       "_view_count": null,
       "_view_module": "@jupyter-widgets/base",
       "_view_module_version": "1.2.0",
       "_view_name": "LayoutView",
       "align_content": null,
       "align_items": null,
       "align_self": null,
       "border": null,
       "bottom": null,
       "display": null,
       "flex": null,
       "flex_flow": null,
       "grid_area": null,
       "grid_auto_columns": null,
       "grid_auto_flow": null,
       "grid_auto_rows": null,
       "grid_column": null,
       "grid_gap": null,
       "grid_row": null,
       "grid_template_areas": null,
       "grid_template_columns": null,
       "grid_template_rows": null,
       "height": null,
       "justify_content": null,
       "justify_items": null,
       "left": null,
       "margin": null,
       "max_height": null,
       "max_width": null,
       "min_height": null,
       "min_width": null,
       "object_fit": null,
       "object_position": null,
       "order": null,
       "overflow": null,
       "overflow_x": null,
       "overflow_y": null,
       "padding": null,
       "right": null,
       "top": null,
       "visibility": null,
       "width": null
      }
     },
     "da63191254da42e996e8943414d1f50f": {
      "model_module": "@jupyter-widgets/controls",
      "model_module_version": "1.5.0",
      "model_name": "HTMLModel",
      "state": {
       "_dom_classes": [],
       "_model_module": "@jupyter-widgets/controls",
       "_model_module_version": "1.5.0",
       "_model_name": "HTMLModel",
       "_view_count": null,
       "_view_module": "@jupyter-widgets/controls",
       "_view_module_version": "1.5.0",
       "_view_name": "HTMLView",
       "description": "",
       "description_tooltip": null,
       "layout": "IPY_MODEL_1572b8a63eaa40e3b7baef173f41fea1",
       "placeholder": "​",
       "style": "IPY_MODEL_b5efe48a47a84f1ca42b744862047908",
       "value": "<h4>Closed PRs for repo: <a href=\"https://github.com/ipython/ipyparallel\">ipython/ipyparallel</a></h4>\n<h5></h5>\n<ul>\n<li><a href=\"https://github.com/ipython/ipyparallel/pull/631\">(#631)</a>: <em>adopt tbump for releases</em> by <strong><a href=\"https://github.com/minrk\">@minrk</a></strong> merged by <strong><a href=\"https://github.com/minrk\">@minrk</a></strong></li>\n<li><a href=\"https://github.com/ipython/ipyparallel/pull/630\">(#630)</a>: <em>update some flaky tests based on new race conditions</em> by <strong><a href=\"https://github.com/minrk\">@minrk</a></strong> merged by <strong><a href=\"https://github.com/minrk\">@minrk</a></strong></li>\n<li><a href=\"https://github.com/ipython/ipyparallel/pull/627\">(#627)</a>: <em>Lab schema</em> by <strong><a href=\"https://github.com/minrk\">@minrk</a></strong> merged by <strong><a href=\"https://github.com/minrk\">@minrk</a></strong></li>\n<li><a href=\"https://github.com/ipython/ipyparallel/pull/624\">(#624)</a>: <em>changelog for 8.0</em> by <strong><a href=\"https://github.com/minrk\">@minrk</a></strong> merged by <strong><a href=\"https://github.com/minrk\">@minrk</a></strong></li>\n<li><a href=\"https://github.com/ipython/ipyparallel/pull/623\">(#623)</a>: <em>avoid walking ipython_dir if it doesn't exist</em> by <strong><a href=\"https://github.com/minrk\">@minrk</a></strong> merged by <strong><a href=\"https://github.com/minrk\">@minrk</a></strong></li>\n<li><a href=\"https://github.com/ipython/ipyparallel/pull/621\">(#621)</a>: <em>rework View.imap max_outstanding to consider scheduler, not consumer</em> by <strong><a href=\"https://github.com/minrk\">@minrk</a></strong> merged by <strong><a href=\"https://github.com/minrk\">@minrk</a></strong></li>\n<li><a href=\"https://github.com/ipython/ipyparallel/pull/620\">(#620)</a>: <em>use parallel_execute in autopx</em> by <strong><a href=\"https://github.com/minrk\">@minrk</a></strong> merged by <strong><a href=\"https://github.com/minrk\">@minrk</a></strong></li>\n<li><a href=\"https://github.com/ipython/ipyparallel/pull/618\">(#618)</a>: <em>add pyupgrade to pre-commit</em> by <strong><a href=\"https://github.com/minrk\">@minrk</a></strong> merged by <strong><a href=\"https://github.com/minrk\">@minrk</a></strong></li>\n<li><a href=\"https://github.com/ipython/ipyparallel/pull/616\">(#616)</a>: <em>stream_output: publish existing output before starting the stream</em> by <strong><a href=\"https://github.com/minrk\">@minrk</a></strong> merged by <strong><a href=\"https://github.com/minrk\">@minrk</a></strong></li>\n<li><a href=\"https://github.com/ipython/ipyparallel/pull/615\">(#615)</a>: <em>make sure MPIControllerLauncher is tested</em> by <strong><a href=\"https://github.com/minrk\">@minrk</a></strong> merged by <strong><a href=\"https://github.com/minrk\">@minrk</a></strong></li>\n<li><a href=\"https://github.com/ipython/ipyparallel/pull/613\">(#613)</a>: <em>More immediate feedback on partial errors</em> by <strong><a href=\"https://github.com/minrk\">@minrk</a></strong> merged by <strong><a href=\"https://github.com/minrk\">@minrk</a></strong></li>\n<li><a href=\"https://github.com/ipython/ipyparallel/pull/610\">(#610)</a>: <em>Updated copyright year from 2015 to 2021</em> by <strong><a href=\"https://github.com/WoLpH\">@WoLpH</a></strong> merged by <strong><a href=\"https://github.com/minrk\">@minrk</a></strong></li>\n<li><a href=\"https://github.com/ipython/ipyparallel/pull/609\">(#609)</a>: <em>debug cellpx_stream on Windows</em> by <strong><a href=\"https://github.com/minrk\">@minrk</a></strong> merged by <strong><a href=\"https://github.com/minrk\">@minrk</a></strong></li>\n<li><a href=\"https://github.com/ipython/ipyparallel/pull/608\">(#608)</a>: <em>Some convenience aliases and docs</em> by <strong><a href=\"https://github.com/minrk\">@minrk</a></strong> merged by <strong><a href=\"https://github.com/minrk\">@minrk</a></strong></li>\n<li><a href=\"https://github.com/ipython/ipyparallel/pull/606\">(#606)</a>: <em>CI: run slurm in docker-compose</em> by <strong><a href=\"https://github.com/minrk\">@minrk</a></strong> merged by <strong><a href=\"https://github.com/minrk\">@minrk</a></strong></li>\n<li><a href=\"https://github.com/ipython/ipyparallel/pull/605\">(#605)</a>: <em>batch launchers inherit full env by default</em> by <strong><a href=\"https://github.com/minrk\">@minrk</a></strong> merged by <strong><a href=\"https://github.com/minrk\">@minrk</a></strong></li>\n<li><a href=\"https://github.com/ipython/ipyparallel/pull/603\">(#603)</a>: <em>set output_file on batch launchers</em> by <strong><a href=\"https://github.com/minrk\">@minrk</a></strong> merged by <strong><a href=\"https://github.com/minrk\">@minrk</a></strong></li>\n<li><a href=\"https://github.com/ipython/ipyparallel/pull/601\">(#601)</a>: <em>support environment variables in launchers</em> by <strong><a href=\"https://github.com/minrk\">@minrk</a></strong> merged by <strong><a href=\"https://github.com/minrk\">@minrk</a></strong></li>\n<li><a href=\"https://github.com/ipython/ipyparallel/pull/600\">(#600)</a>: <em>changelog for 7.1</em> by <strong><a href=\"https://github.com/minrk\">@minrk</a></strong> merged by <strong><a href=\"https://github.com/minrk\">@minrk</a></strong></li>\n<li><a href=\"https://github.com/ipython/ipyparallel/pull/599\">(#599)</a>: <em>Fixes for loading cluster from files</em> by <strong><a href=\"https://github.com/minrk\">@minrk</a></strong> merged by <strong><a href=\"https://github.com/minrk\">@minrk</a></strong></li>\n<li><a href=\"https://github.com/ipython/ipyparallel/pull/598\">(#598)</a>: <em>set HWM=0 more thoroughly</em> by <strong><a href=\"https://github.com/minrk\">@minrk</a></strong> merged by <strong><a href=\"https://github.com/minrk\">@minrk</a></strong></li>\n<li><a href=\"https://github.com/ipython/ipyparallel/pull/596\">(#596)</a>: <em>Fixes and test coverage for coalescing broadcast views</em> by <strong><a href=\"https://github.com/minrk\">@minrk</a></strong> merged by <strong><a href=\"https://github.com/minrk\">@minrk</a></strong></li>\n<li><a href=\"https://github.com/ipython/ipyparallel/pull/595\">(#595)</a>: <em>cancel wait_for_engines if we notice that an engine unregisters or crashes</em> by <strong><a href=\"https://github.com/minrk\">@minrk</a></strong> merged by <strong><a href=\"https://github.com/minrk\">@minrk</a></strong></li>\n<li><a href=\"https://github.com/ipython/ipyparallel/pull/593\">(#593)</a>: _Add benchmarks code _ by <strong><a href=\"https://github.com/tomoboy\">@tomoboy</a></strong> merged by <strong><a href=\"https://github.com/minrk\">@minrk</a></strong></li>\n<li><a href=\"https://github.com/ipython/ipyparallel/pull/592\">(#592)</a>: <em>Handle carriage returns in outputs</em> by <strong><a href=\"https://github.com/minrk\">@minrk</a></strong> merged by <strong><a href=\"https://github.com/minrk\">@minrk</a></strong></li>\n<li><a href=\"https://github.com/ipython/ipyparallel/pull/590\">(#590)</a>: <em>handle possible race waiting for connection files</em> by <strong><a href=\"https://github.com/minrk\">@minrk</a></strong> merged by <strong><a href=\"https://github.com/minrk\">@minrk</a></strong></li>\n<li><a href=\"https://github.com/ipython/ipyparallel/pull/589\">(#589)</a>: <em>add single Cluster.start_and_connect</em> by <strong><a href=\"https://github.com/minrk\">@minrk</a></strong> merged by <strong><a href=\"https://github.com/minrk\">@minrk</a></strong></li>\n<li><a href=\"https://github.com/ipython/ipyparallel/pull/588\">(#588)</a>: <em>support widgets, progress in %px</em> by <strong><a href=\"https://github.com/minrk\">@minrk</a></strong> merged by <strong><a href=\"https://github.com/minrk\">@minrk</a></strong></li>\n<li><a href=\"https://github.com/ipython/ipyparallel/pull/586\">(#586)</a>: <em>Update jupyter-packaging to 0.10.6</em> by <strong><a href=\"https://github.com/ellert\">@ellert</a></strong> merged by <strong><a href=\"https://github.com/minrk\">@minrk</a></strong></li>\n<li><a href=\"https://github.com/ipython/ipyparallel/pull/583\">(#583)</a>: <em>define _max_workers on ViewExecutor</em> by <strong><a href=\"https://github.com/minrk\">@minrk</a></strong> merged by <strong><a href=\"https://github.com/minrk\">@minrk</a></strong></li>\n<li><a href=\"https://github.com/ipython/ipyparallel/pull/581\">(#581)</a>: <em>more docs updates for 7.0</em> by <strong><a href=\"https://github.com/minrk\">@minrk</a></strong> merged by <strong><a href=\"https://github.com/minrk\">@minrk</a></strong></li>\n<li><a href=\"https://github.com/ipython/ipyparallel/pull/580\">(#580)</a>: <em>add packaging to build dependencies</em> by <strong><a href=\"https://github.com/minrk\">@minrk</a></strong> merged by <strong><a href=\"https://github.com/minrk\">@minrk</a></strong></li>\n<li><a href=\"https://github.com/ipython/ipyparallel/pull/579\">(#579)</a>: <em>reinitialize logging in heartmonitor subprocess</em> by <strong><a href=\"https://github.com/minrk\">@minrk</a></strong> merged by <strong><a href=\"https://github.com/minrk\">@minrk</a></strong></li>\n<li><a href=\"https://github.com/ipython/ipyparallel/pull/577\">(#577)</a>: <em>bump jupyterlab/builder js dependency to 3.1.10</em> by <strong><a href=\"https://github.com/minrk\">@minrk</a></strong> merged by <strong><a href=\"https://github.com/minrk\">@minrk</a></strong></li>\n<li><a href=\"https://github.com/ipython/ipyparallel/pull/576\">(#576)</a>: <em>7.0.0b3</em> by <strong><a href=\"https://github.com/minrk\">@minrk</a></strong> merged by <strong><a href=\"https://github.com/minrk\">@minrk</a></strong></li>\n<li><a href=\"https://github.com/ipython/ipyparallel/pull/574\">(#574)</a>: <em>apply: allow f as keyword arg</em> by <strong><a href=\"https://github.com/minrk\">@minrk</a></strong> merged by <strong><a href=\"https://github.com/minrk\">@minrk</a></strong></li>\n<li><a href=\"https://github.com/ipython/ipyparallel/pull/572\">(#572)</a>: <em>Improve some Windows cleanup</em> by <strong><a href=\"https://github.com/minrk\">@minrk</a></strong> merged by <strong><a href=\"https://github.com/minrk\">@minrk</a></strong></li>\n<li><a href=\"https://github.com/ipython/ipyparallel/pull/571\">(#571)</a>: <em>add ipcluster clean and ipcluster stop --all</em> by <strong><a href=\"https://github.com/minrk\">@minrk</a></strong> merged by <strong><a href=\"https://github.com/minrk\">@minrk</a></strong></li>\n<li><a href=\"https://github.com/ipython/ipyparallel/pull/570\">(#570)</a>: <em>Run heart monitor in its own process</em> by <strong><a href=\"https://github.com/minrk\">@minrk</a></strong> merged by <strong><a href=\"https://github.com/minrk\">@minrk</a></strong></li>\n<li><a href=\"https://github.com/ipython/ipyparallel/pull/569\">(#569)</a>: <em>show mpiexec error output by default</em> by <strong><a href=\"https://github.com/minrk\">@minrk</a></strong> merged by <strong><a href=\"https://github.com/minrk\">@minrk</a></strong></li>\n<li><a href=\"https://github.com/ipython/ipyparallel/pull/568\">(#568)</a>: <em>stop engines and controllers concurrently</em> by <strong><a href=\"https://github.com/minrk\">@minrk</a></strong> merged by <strong><a href=\"https://github.com/minrk\">@minrk</a></strong></li>\n<li><a href=\"https://github.com/ipython/ipyparallel/pull/567\">(#567)</a>: <em>typo in NoSuchProcess exception class name</em> by <strong><a href=\"https://github.com/minrk\">@minrk</a></strong> merged by <strong><a href=\"https://github.com/minrk\">@minrk</a></strong></li>\n<li><a href=\"https://github.com/ipython/ipyparallel/pull/565\">(#565)</a>: <em>Rework port configuration</em> by <strong><a href=\"https://github.com/minrk\">@minrk</a></strong> merged by <strong><a href=\"https://github.com/minrk\">@minrk</a></strong></li>\n<li><a href=\"https://github.com/ipython/ipyparallel/pull/564\">(#564)</a>: <em>nbextension: ensure n is a number</em> by <strong><a href=\"https://github.com/minrk\">@minrk</a></strong> merged by <strong><a href=\"https://github.com/minrk\">@minrk</a></strong></li>\n<li><a href=\"https://github.com/ipython/ipyparallel/pull/561\">(#561)</a>: <em>use thread.join to wait for local process launchers</em> by <strong><a href=\"https://github.com/minrk\">@minrk</a></strong> merged by <strong><a href=\"https://github.com/minrk\">@minrk</a></strong></li>\n<li><a href=\"https://github.com/ipython/ipyparallel/pull/560\">(#560)</a>: <em>Demote 'sending output' log to debug-level</em> by <strong><a href=\"https://github.com/minrk\">@minrk</a></strong> merged by <strong><a href=\"https://github.com/minrk\">@minrk</a></strong></li>\n<li><a href=\"https://github.com/ipython/ipyparallel/pull/559\">(#559)</a>: <em>use vendored jupyter_packaging.setupbase</em> by <strong><a href=\"https://github.com/minrk\">@minrk</a></strong> merged by <strong><a href=\"https://github.com/minrk\">@minrk</a></strong></li>\n<li><a href=\"https://github.com/ipython/ipyparallel/pull/558\">(#558)</a>: <em>handle ipykernel 6 fd-level capture</em> by <strong><a href=\"https://github.com/minrk\">@minrk</a></strong> merged by <strong><a href=\"https://github.com/minrk\">@minrk</a></strong></li>\n<li><a href=\"https://github.com/ipython/ipyparallel/pull/557\">(#557)</a>: <em>remove use of ipython_genutils</em> by <strong><a href=\"https://github.com/minrk\">@minrk</a></strong> merged by <strong><a href=\"https://github.com/minrk\">@minrk</a></strong></li>\n<li><a href=\"https://github.com/ipython/ipyparallel/pull/555\">(#555)</a>: <em>Refresh docs</em> by <strong><a href=\"https://github.com/minrk\">@minrk</a></strong> merged by <strong><a href=\"https://github.com/minrk\">@minrk</a></strong></li>\n<li><a href=\"https://github.com/ipython/ipyparallel/pull/553\">(#553)</a>: <em>enable zmq CURVE security</em> by <strong><a href=\"https://github.com/minrk\">@minrk</a></strong> merged by <strong><a href=\"https://github.com/minrk\">@minrk</a></strong></li>\n</ul>"
      }
     },
     "df946b3769e64d6fa2a171c68e152389": {
      "model_module": "@jupyter-widgets/controls",
      "model_module_version": "1.5.0",
      "model_name": "DescriptionStyleModel",
      "state": {
       "_model_module": "@jupyter-widgets/controls",
       "_model_module_version": "1.5.0",
       "_model_name": "DescriptionStyleModel",
       "_view_count": null,
       "_view_module": "@jupyter-widgets/base",
       "_view_module_version": "1.2.0",
       "_view_name": "StyleView",
       "description_width": ""
      }
     },
     "e1a6856273a84484a6645d613cd26a3d": {
      "model_module": "@jupyter-widgets/base",
      "model_module_version": "1.2.0",
      "model_name": "LayoutModel",
      "state": {
       "_model_module": "@jupyter-widgets/base",
       "_model_module_version": "1.2.0",
       "_model_name": "LayoutModel",
       "_view_count": null,
       "_view_module": "@jupyter-widgets/base",
       "_view_module_version": "1.2.0",
       "_view_name": "LayoutView",
       "align_content": null,
       "align_items": null,
       "align_self": null,
       "border": null,
       "bottom": null,
       "display": null,
       "flex": null,
       "flex_flow": null,
       "grid_area": null,
       "grid_auto_columns": null,
       "grid_auto_flow": null,
       "grid_auto_rows": null,
       "grid_column": null,
       "grid_gap": null,
       "grid_row": null,
       "grid_template_areas": null,
       "grid_template_columns": null,
       "grid_template_rows": null,
       "height": null,
       "justify_content": null,
       "justify_items": null,
       "left": null,
       "margin": null,
       "max_height": null,
       "max_width": null,
       "min_height": null,
       "min_width": null,
       "object_fit": null,
       "object_position": null,
       "order": null,
       "overflow": null,
       "overflow_x": null,
       "overflow_y": null,
       "padding": null,
       "right": null,
       "top": null,
       "visibility": null,
       "width": null
      }
     },
     "e80844394a364ed58cce3fc4f0d53493": {
      "model_module": "@jupyter-widgets/controls",
      "model_module_version": "1.5.0",
      "model_name": "DescriptionStyleModel",
      "state": {
       "_model_module": "@jupyter-widgets/controls",
       "_model_module_version": "1.5.0",
       "_model_name": "DescriptionStyleModel",
       "_view_count": null,
       "_view_module": "@jupyter-widgets/base",
       "_view_module_version": "1.2.0",
       "_view_name": "StyleView",
       "description_width": ""
      }
     },
     "e997a1e751a34467961e711c96fe3eae": {
      "model_module": "@jupyter-widgets/base",
      "model_module_version": "1.2.0",
      "model_name": "LayoutModel",
      "state": {
       "_model_module": "@jupyter-widgets/base",
       "_model_module_version": "1.2.0",
       "_model_name": "LayoutModel",
       "_view_count": null,
       "_view_module": "@jupyter-widgets/base",
       "_view_module_version": "1.2.0",
       "_view_name": "LayoutView",
       "align_content": null,
       "align_items": null,
       "align_self": null,
       "border": null,
       "bottom": null,
       "display": null,
       "flex": null,
       "flex_flow": null,
       "grid_area": null,
       "grid_auto_columns": null,
       "grid_auto_flow": null,
       "grid_auto_rows": null,
       "grid_column": null,
       "grid_gap": null,
       "grid_row": null,
       "grid_template_areas": null,
       "grid_template_columns": null,
       "grid_template_rows": null,
       "height": null,
       "justify_content": null,
       "justify_items": null,
       "left": null,
       "margin": null,
       "max_height": null,
       "max_width": null,
       "min_height": null,
       "min_width": null,
       "object_fit": null,
       "object_position": null,
       "order": null,
       "overflow": null,
       "overflow_x": null,
       "overflow_y": null,
       "padding": null,
       "right": null,
       "top": null,
       "visibility": null,
       "width": null
      }
     },
     "ec504990234f46b1b79ef1e5bd8867f5": {
      "model_module": "@jupyter-widgets/controls",
      "model_module_version": "1.5.0",
      "model_name": "DescriptionStyleModel",
      "state": {
       "_model_module": "@jupyter-widgets/controls",
       "_model_module_version": "1.5.0",
       "_model_name": "DescriptionStyleModel",
       "_view_count": null,
       "_view_module": "@jupyter-widgets/base",
       "_view_module_version": "1.2.0",
       "_view_name": "StyleView",
       "description_width": ""
      }
     },
     "edbbdac963e54bcbb4175773057063af": {
      "model_module": "@jupyter-widgets/controls",
      "model_module_version": "1.5.0",
      "model_name": "DescriptionStyleModel",
      "state": {
       "_model_module": "@jupyter-widgets/controls",
       "_model_module_version": "1.5.0",
       "_model_name": "DescriptionStyleModel",
       "_view_count": null,
       "_view_module": "@jupyter-widgets/base",
       "_view_module_version": "1.2.0",
       "_view_name": "StyleView",
       "description_width": ""
      }
     },
     "f0a937195fcc4cc1aa003599acec4678": {
      "model_module": "@jupyter-widgets/controls",
      "model_module_version": "1.5.0",
      "model_name": "HTMLModel",
      "state": {
       "_dom_classes": [],
       "_model_module": "@jupyter-widgets/controls",
       "_model_module_version": "1.5.0",
       "_model_name": "HTMLModel",
       "_view_count": null,
       "_view_module": "@jupyter-widgets/controls",
       "_view_module_version": "1.5.0",
       "_view_name": "HTMLView",
       "description": "",
       "description_tooltip": null,
       "layout": "IPY_MODEL_e1a6856273a84484a6645d613cd26a3d",
       "placeholder": "​",
       "style": "IPY_MODEL_6ac1c81359b54430a079f5a5b1226f84",
       "value": "<h5><a href=\"https://github.com/ipython/ipykernel\">ipython/ipykernel</a></h5>\n<ul>\n<li><a href=\"https://github.com/ipython/ipykernel/issues/775\">(#775)</a>: _support for %gui qt6 _ by <strong><a href=\"https://github.com/daliagachc\">@daliagachc</a></strong></li>\n<li><a href=\"https://github.com/ipython/ipykernel/issues/712\">(#712)</a>: <em>Please make the dependency on debugpy optional</em> by <strong><a href=\"https://github.com/mgorny\">@mgorny</a></strong></li>\n<li><a href=\"https://github.com/ipython/ipykernel/issues/759\">(#759)</a>: <em><code>pip install ipykernel&lt;6</code> gives incomplete installation, since Traitlets 5.1 release</em> by <strong><a href=\"https://github.com/mdickinson\">@mdickinson</a></strong></li>\n</ul>"
      }
     },
     "f43754f3176146e1b8273a09260652d3": {
      "model_module": "@jupyter-widgets/controls",
      "model_module_version": "1.5.0",
      "model_name": "DescriptionStyleModel",
      "state": {
       "_model_module": "@jupyter-widgets/controls",
       "_model_module_version": "1.5.0",
       "_model_name": "DescriptionStyleModel",
       "_view_count": null,
       "_view_module": "@jupyter-widgets/base",
       "_view_module_version": "1.2.0",
       "_view_name": "StyleView",
       "description_width": ""
      }
     }
    },
    "version_major": 2,
    "version_minor": 0
   }
  }
 },
 "nbformat": 4,
 "nbformat_minor": 5
}