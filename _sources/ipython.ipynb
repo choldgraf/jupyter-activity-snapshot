{
 "cells": [
  {
   "cell_type": "markdown",
   "metadata": {
    "papermill": {
     "duration": 0.030353,
     "end_time": "2020-11-15T01:19:22.706011",
     "exception": false,
     "start_time": "2020-11-15T01:19:22.675658",
     "status": "completed"
    },
    "tags": []
   },
   "source": [
    "# {glue:text}`ipython_github_org`\n",
    "\n",
    "**Activity from {glue:}`ipython_start` to {glue:}`ipython_stop`**"
   ]
  },
  {
   "cell_type": "code",
   "execution_count": 1,
   "metadata": {
    "execution": {
     "iopub.execute_input": "2020-11-15T01:19:22.769249Z",
     "iopub.status.busy": "2020-11-15T01:19:22.768718Z",
     "iopub.status.idle": "2020-11-15T01:19:24.120561Z",
     "shell.execute_reply": "2020-11-15T01:19:24.119614Z"
    },
    "papermill": {
     "duration": 1.385789,
     "end_time": "2020-11-15T01:19:24.120761",
     "exception": false,
     "start_time": "2020-11-15T01:19:22.734972",
     "status": "completed"
    },
    "tags": [
     "remove_cell"
    ]
   },
   "outputs": [],
   "source": [
    "import github_activity as ga\n",
    "from datetime import date\n",
    "from dateutil.relativedelta import relativedelta\n",
    "from myst_nb import glue\n",
    "import seaborn as sns\n",
    "import pandas as pd\n",
    "import numpy as np\n",
    "import altair as alt\n",
    "from markdown import markdown\n",
    "from IPython.display import Markdown\n",
    "from ipywidgets.widgets import HTML, Tab\n",
    "from ipywidgets import widgets\n",
    "from datetime import timedelta\n",
    "from matplotlib import pyplot as plt\n",
    "import os.path as op\n",
    "\n",
    "from warnings import simplefilter\n",
    "simplefilter('ignore')"
   ]
  },
  {
   "cell_type": "code",
   "execution_count": 2,
   "metadata": {
    "execution": {
     "iopub.execute_input": "2020-11-15T01:19:24.194299Z",
     "iopub.status.busy": "2020-11-15T01:19:24.193727Z",
     "iopub.status.idle": "2020-11-15T01:19:24.196760Z",
     "shell.execute_reply": "2020-11-15T01:19:24.196037Z"
    },
    "papermill": {
     "duration": 0.045107,
     "end_time": "2020-11-15T01:19:24.196944",
     "exception": false,
     "start_time": "2020-11-15T01:19:24.151837",
     "status": "completed"
    },
    "tags": [
     "remove_cell"
    ]
   },
   "outputs": [],
   "source": [
    "# Altair config\n",
    "def author_url(author):\n",
    "    return f\"https://github.com/{author}\"\n",
    "\n",
    "def alt_theme():\n",
    "    return {\n",
    "        'config': {\n",
    "            'axisLeft': {\n",
    "                'labelFontSize': 15,\n",
    "            },\n",
    "            'axisBottom': {\n",
    "                'labelFontSize': 15,\n",
    "            },\n",
    "        }\n",
    "    }\n",
    "\n",
    "alt.themes.register('my_theme', alt_theme)\n",
    "alt.themes.enable(\"my_theme\")\n",
    "\n",
    "\n",
    "# Define colors we'll use for GitHub membership\n",
    "author_types = ['MEMBER', 'CONTRIBUTOR', 'COLLABORATOR', \"NONE\"]\n",
    "\n",
    "author_palette = np.array(sns.palettes.blend_palette([\"lightgrey\", \"lightgreen\", \"darkgreen\"], 4)) * 256\n",
    "author_colors = [\"rgb({}, {}, {})\".format(*color) for color in author_palette]\n",
    "author_color_dict = {key: val for key, val in zip(author_types, author_palette)}"
   ]
  },
  {
   "cell_type": "code",
   "execution_count": 3,
   "metadata": {
    "execution": {
     "iopub.execute_input": "2020-11-15T01:19:24.257444Z",
     "iopub.status.busy": "2020-11-15T01:19:24.256664Z",
     "iopub.status.idle": "2020-11-15T01:19:24.258732Z",
     "shell.execute_reply": "2020-11-15T01:19:24.259305Z"
    },
    "papermill": {
     "duration": 0.033887,
     "end_time": "2020-11-15T01:19:24.259468",
     "exception": false,
     "start_time": "2020-11-15T01:19:24.225581",
     "status": "completed"
    },
    "tags": [
     "parameters",
     "hide_input",
     "remove_cell"
    ]
   },
   "outputs": [],
   "source": [
    "github_org = \"jupyterhub\"\n",
    "top_n_repos = 15\n",
    "n_days = 10"
   ]
  },
  {
   "cell_type": "code",
   "execution_count": 4,
   "metadata": {
    "execution": {
     "iopub.execute_input": "2020-11-15T01:19:24.321951Z",
     "iopub.status.busy": "2020-11-15T01:19:24.321312Z",
     "iopub.status.idle": "2020-11-15T01:19:24.323309Z",
     "shell.execute_reply": "2020-11-15T01:19:24.323749Z"
    },
    "papermill": {
     "duration": 0.034167,
     "end_time": "2020-11-15T01:19:24.323894",
     "exception": false,
     "start_time": "2020-11-15T01:19:24.289727",
     "status": "completed"
    },
    "tags": [
     "injected-parameters",
     "remove-cell"
    ]
   },
   "outputs": [],
   "source": [
    "# Parameters\n",
    "github_org = \"ipython\"\n",
    "n_days = 60\n"
   ]
  },
  {
   "cell_type": "code",
   "execution_count": 5,
   "metadata": {
    "execution": {
     "iopub.execute_input": "2020-11-15T01:19:24.385623Z",
     "iopub.status.busy": "2020-11-15T01:19:24.385046Z",
     "iopub.status.idle": "2020-11-15T01:19:24.389328Z",
     "shell.execute_reply": "2020-11-15T01:19:24.389862Z"
    },
    "papermill": {
     "duration": 0.038821,
     "end_time": "2020-11-15T01:19:24.390018",
     "exception": false,
     "start_time": "2020-11-15T01:19:24.351197",
     "status": "completed"
    },
    "tags": [
     "remove_cell"
    ]
   },
   "outputs": [
    {
     "data": {
      "application/papermill.record/text/plain": "'ipython'"
     },
     "metadata": {
      "scrapbook": {
       "mime_prefix": "application/papermill.record/",
       "name": "ipython_github_org"
      }
     },
     "output_type": "display_data"
    },
    {
     "data": {
      "application/papermill.record/text/plain": "'2020-09-16'"
     },
     "metadata": {
      "scrapbook": {
       "mime_prefix": "application/papermill.record/",
       "name": "ipython_start"
      }
     },
     "output_type": "display_data"
    },
    {
     "data": {
      "application/papermill.record/text/plain": "'2020-11-15'"
     },
     "metadata": {
      "scrapbook": {
       "mime_prefix": "application/papermill.record/",
       "name": "ipython_stop"
      }
     },
     "output_type": "display_data"
    }
   ],
   "source": [
    "############################################################\n",
    "# Variables\n",
    "stop = date.today()\n",
    "start = date.today() - relativedelta(days=n_days)\n",
    "\n",
    "# Strings for use in queries\n",
    "start_date = f\"{start:%Y-%m-%d}\"\n",
    "stop_date = f\"{stop:%Y-%m-%d}\"\n",
    "\n",
    "# Glue variables for use in markdown\n",
    "glue(f\"{github_org}_github_org\", github_org, display=False)\n",
    "glue(f\"{github_org}_start\", start_date, display=False)\n",
    "glue(f\"{github_org}_stop\", stop_date, display=False)"
   ]
  },
  {
   "cell_type": "code",
   "execution_count": 6,
   "metadata": {
    "execution": {
     "iopub.execute_input": "2020-11-15T01:19:24.457470Z",
     "iopub.status.busy": "2020-11-15T01:19:24.456947Z",
     "iopub.status.idle": "2020-11-15T01:19:38.588084Z",
     "shell.execute_reply": "2020-11-15T01:19:38.587612Z"
    },
    "papermill": {
     "duration": 14.167804,
     "end_time": "2020-11-15T01:19:38.588233",
     "exception": false,
     "start_time": "2020-11-15T01:19:24.420429",
     "status": "completed"
    },
    "tags": [
     "remove_cell"
    ]
   },
   "outputs": [
    {
     "name": "stdout",
     "output_type": "stream",
     "text": [
      "Running search query:\n",
      "user:ipython\n",
      "\n",
      "\n"
     ]
    },
    {
     "name": "stdout",
     "output_type": "stream",
     "text": [
      "Found 189 items, which will take 4 pages\n"
     ]
    },
    {
     "data": {
      "application/vnd.jupyter.widget-view+json": {
       "model_id": "53e741a821b34625adbb41b668600a8f",
       "version_major": 2,
       "version_minor": 0
      },
      "text/plain": [
       "IntProgress(value=0, description='Downloading:', max=4)"
      ]
     },
     "metadata": {},
     "output_type": "display_data"
    },
    {
     "name": "stdout",
     "output_type": "stream",
     "text": [
      "Found 119 items, which will take 3 pages\n"
     ]
    },
    {
     "data": {
      "application/vnd.jupyter.widget-view+json": {
       "model_id": "73b9068ffbfb4477929db57f7bb9d270",
       "version_major": 2,
       "version_minor": 0
      },
      "text/plain": [
       "IntProgress(value=0, description='Downloading:', max=3)"
      ]
     },
     "metadata": {},
     "output_type": "display_data"
    }
   ],
   "source": [
    "############################################################\n",
    "# Fetch the raw data and load data we need\n",
    "raw_data = ga.get_activity(github_org, start_date)\n",
    "bot_names = pd.read_csv('../bot_names.csv')['names'].tolist()\n",
    "data = raw_data.copy()\n",
    "\n",
    "# Prepare our data\n",
    "data[\"kind\"] = data[\"url\"].map(lambda a: \"issue\" if \"issues/\" in a else \"pr\")\n",
    "data[\"mergedBy\"] = data[\"mergedBy\"].map(lambda a: a[\"login\"] if not isinstance(a, (float, type(None))) else None)\n",
    "\n",
    "prs = data.query(\"kind == 'pr'\")\n",
    "issues = data.query(\"kind == 'issue'\")\n",
    "\n",
    "# Pull out the comments\n",
    "comments = []\n",
    "for _, irow in data.iterrows():\n",
    "    for icomment in irow['comments']['edges']:\n",
    "        icomment = icomment[\"node\"].copy()\n",
    "        icomment[\"author\"] = icomment[\"author\"][\"login\"] if icomment[\"author\"] else None\n",
    "        icomment[\"org\"] = irow[\"org\"]\n",
    "        icomment[\"repo\"] = irow[\"repo\"]\n",
    "        icomment[\"id\"] = irow[\"id\"]\n",
    "        comments.append(pd.Series(icomment))\n",
    "comments = pd.DataFrame(comments)\n",
    "\n",
    "# Clean up\n",
    "for idata in [prs, comments, issues]:\n",
    "    idata.query(\"author not in @bot_names\", inplace=True)\n",
    "    idata.drop_duplicates(subset=[\"url\"], inplace=True)\n",
    "\n",
    "# What are the top N repos, we will only plot these in the full data plots\n",
    "top_commented_repos = comments.groupby(\"repo\").count().sort_values(\"createdAt\", ascending=False)['createdAt']\n",
    "use_repos = top_commented_repos.head(top_n_repos).index.tolist()"
   ]
  },
  {
   "cell_type": "markdown",
   "metadata": {
    "papermill": {
     "duration": 0.032084,
     "end_time": "2020-11-15T01:19:38.657012",
     "exception": false,
     "start_time": "2020-11-15T01:19:38.624928",
     "status": "completed"
    },
    "tags": [
     "remove_cell"
    ]
   },
   "source": [
    "## Save the data to disk"
   ]
  },
  {
   "cell_type": "code",
   "execution_count": 7,
   "metadata": {
    "execution": {
     "iopub.execute_input": "2020-11-15T01:19:38.725988Z",
     "iopub.status.busy": "2020-11-15T01:19:38.725162Z",
     "iopub.status.idle": "2020-11-15T01:19:39.089149Z",
     "shell.execute_reply": "2020-11-15T01:19:39.088672Z"
    },
    "papermill": {
     "duration": 0.40063,
     "end_time": "2020-11-15T01:19:39.089404",
     "exception": false,
     "start_time": "2020-11-15T01:19:38.688774",
     "status": "completed"
    },
    "tags": [
     "remove_cell"
    ]
   },
   "outputs": [],
   "source": [
    "from pathlib import Path\n",
    "for name, idata in [(\"comments\", comments), (\"prs\", prs), (\"issues\", issues)]:\n",
    "    path_data = Path(f\"./{name}.csv\")\n",
    "    if path_data.exists():\n",
    "        idata = pd.read_csv(path_data).append(idata)\n",
    "    idata = idata.drop_duplicates(subset=[\"url\"])\n",
    "    idata.to_csv(path_data, index=None)"
   ]
  },
  {
   "cell_type": "markdown",
   "metadata": {
    "papermill": {
     "duration": 0.037921,
     "end_time": "2020-11-15T01:19:39.164548",
     "exception": false,
     "start_time": "2020-11-15T01:19:39.126627",
     "status": "completed"
    },
    "tags": [],
    "toc-hr-collapsed": false
   },
   "source": [
    "## Merged Pull requests\n",
    "\n",
    "Here's an analysis of **merged pull requests** across each of the repositories in the Jupyter\n",
    "ecosystem."
   ]
  },
  {
   "cell_type": "code",
   "execution_count": 8,
   "metadata": {
    "execution": {
     "iopub.execute_input": "2020-11-15T01:19:39.236600Z",
     "iopub.status.busy": "2020-11-15T01:19:39.236057Z",
     "iopub.status.idle": "2020-11-15T01:19:39.239094Z",
     "shell.execute_reply": "2020-11-15T01:19:39.239950Z"
    },
    "papermill": {
     "duration": 0.043743,
     "end_time": "2020-11-15T01:19:39.240109",
     "exception": false,
     "start_time": "2020-11-15T01:19:39.196366",
     "status": "completed"
    },
    "tags": [
     "remove_cell"
    ]
   },
   "outputs": [],
   "source": [
    "merged = prs.query('state == \"MERGED\" and closedAt > @start_date and closedAt < @stop_date')"
   ]
  },
  {
   "cell_type": "code",
   "execution_count": 9,
   "metadata": {
    "execution": {
     "iopub.execute_input": "2020-11-15T01:19:39.319127Z",
     "iopub.status.busy": "2020-11-15T01:19:39.316732Z",
     "iopub.status.idle": "2020-11-15T01:19:39.342913Z",
     "shell.execute_reply": "2020-11-15T01:19:39.343385Z"
    },
    "papermill": {
     "duration": 0.068274,
     "end_time": "2020-11-15T01:19:39.343556",
     "exception": false,
     "start_time": "2020-11-15T01:19:39.275282",
     "status": "completed"
    },
    "tags": [
     "hide_input"
    ]
   },
   "outputs": [
    {
     "data": {
      "text/html": [
       "\n",
       "<div id=\"altair-viz-b61481ad440141319c12fde0c82fdfc9\"></div>\n",
       "<script type=\"text/javascript\">\n",
       "  (function(spec, embedOpt){\n",
       "    let outputDiv = document.currentScript.previousElementSibling;\n",
       "    if (outputDiv.id !== \"altair-viz-b61481ad440141319c12fde0c82fdfc9\") {\n",
       "      outputDiv = document.getElementById(\"altair-viz-b61481ad440141319c12fde0c82fdfc9\");\n",
       "    }\n",
       "    const paths = {\n",
       "      \"vega\": \"https://cdn.jsdelivr.net/npm//vega@5?noext\",\n",
       "      \"vega-lib\": \"https://cdn.jsdelivr.net/npm//vega-lib?noext\",\n",
       "      \"vega-lite\": \"https://cdn.jsdelivr.net/npm//vega-lite@4.8.1?noext\",\n",
       "      \"vega-embed\": \"https://cdn.jsdelivr.net/npm//vega-embed@6?noext\",\n",
       "    };\n",
       "\n",
       "    function loadScript(lib) {\n",
       "      return new Promise(function(resolve, reject) {\n",
       "        var s = document.createElement('script');\n",
       "        s.src = paths[lib];\n",
       "        s.async = true;\n",
       "        s.onload = () => resolve(paths[lib]);\n",
       "        s.onerror = () => reject(`Error loading script: ${paths[lib]}`);\n",
       "        document.getElementsByTagName(\"head\")[0].appendChild(s);\n",
       "      });\n",
       "    }\n",
       "\n",
       "    function showError(err) {\n",
       "      outputDiv.innerHTML = `<div class=\"error\" style=\"color:red;\">${err}</div>`;\n",
       "      throw err;\n",
       "    }\n",
       "\n",
       "    function displayChart(vegaEmbed) {\n",
       "      vegaEmbed(outputDiv, spec, embedOpt)\n",
       "        .catch(err => showError(`Javascript Error: ${err.message}<br>This usually means there's a typo in your chart specification. See the javascript console for the full traceback.`));\n",
       "    }\n",
       "\n",
       "    if(typeof define === \"function\" && define.amd) {\n",
       "      requirejs.config({paths});\n",
       "      require([\"vega-embed\"], displayChart, err => showError(`Error loading script: ${err.message}`));\n",
       "    } else if (typeof vegaEmbed === \"function\") {\n",
       "      displayChart(vegaEmbed);\n",
       "    } else {\n",
       "      loadScript(\"vega\")\n",
       "        .then(() => loadScript(\"vega-lite\"))\n",
       "        .then(() => loadScript(\"vega-embed\"))\n",
       "        .catch(showError)\n",
       "        .then(() => displayChart(vegaEmbed));\n",
       "    }\n",
       "  })({\"config\": {\"axisLeft\": {\"labelFontSize\": 15}, \"axisBottom\": {\"labelFontSize\": 15}}, \"data\": {\"name\": \"data-af9236ed7ac3ab71fb94d50eeb121ac8\"}, \"mark\": \"bar\", \"encoding\": {\"color\": {\"type\": \"nominal\", \"field\": \"org\"}, \"x\": {\"type\": \"nominal\", \"field\": \"repo\", \"sort\": [\"ipython\", \"traitlets\", \"ipython-website\", \"ipykernel\", \"ipython-in-depth\"]}, \"y\": {\"type\": \"quantitative\", \"field\": \"author\"}}, \"title\": \"Merged PRs in the last 60 days\", \"$schema\": \"https://vega.github.io/schema/vega-lite/v4.8.1.json\", \"datasets\": {\"data-af9236ed7ac3ab71fb94d50eeb121ac8\": [{\"org\": \"ipython\", \"repo\": \"ipython\", \"author\": 65}, {\"org\": \"ipython\", \"repo\": \"traitlets\", \"author\": 6}, {\"org\": \"ipython\", \"repo\": \"ipython-website\", \"author\": 2}, {\"org\": \"ipython\", \"repo\": \"ipykernel\", \"author\": 1}, {\"org\": \"ipython\", \"repo\": \"ipython-in-depth\", \"author\": 1}]}}, {\"mode\": \"vega-lite\"});\n",
       "</script>"
      ],
      "text/plain": [
       "alt.Chart(...)"
      ]
     },
     "execution_count": 9,
     "metadata": {},
     "output_type": "execute_result"
    }
   ],
   "source": [
    "prs_by_repo = merged.groupby(['org', 'repo']).count()['author'].reset_index().sort_values(['org', 'author'], ascending=False)\n",
    "alt.Chart(data=prs_by_repo, title=f\"Merged PRs in the last {n_days} days\").mark_bar().encode(\n",
    "    x=alt.X('repo', sort=prs_by_repo['repo'].values.tolist()),\n",
    "    y='author',\n",
    "    color='org'\n",
    ")"
   ]
  },
  {
   "cell_type": "markdown",
   "metadata": {
    "papermill": {
     "duration": 0.040437,
     "end_time": "2020-11-15T01:19:39.419671",
     "exception": false,
     "start_time": "2020-11-15T01:19:39.379234",
     "status": "completed"
    },
    "tags": []
   },
   "source": [
    "### Authoring and merging stats by repository\n",
    "\n",
    "Let's see who has been doing most of the PR authoring and merging. The PR author is generally the\n",
    "person that implemented a change in the repository (code, documentation, etc). The PR merger is\n",
    "the person that \"pressed the green button\" and got the change into the main codebase."
   ]
  },
  {
   "cell_type": "code",
   "execution_count": 10,
   "metadata": {
    "execution": {
     "iopub.execute_input": "2020-11-15T01:19:39.518414Z",
     "iopub.status.busy": "2020-11-15T01:19:39.517717Z",
     "iopub.status.idle": "2020-11-15T01:19:39.520354Z",
     "shell.execute_reply": "2020-11-15T01:19:39.519792Z"
    },
    "papermill": {
     "duration": 0.063004,
     "end_time": "2020-11-15T01:19:39.520501",
     "exception": false,
     "start_time": "2020-11-15T01:19:39.457497",
     "status": "completed"
    },
    "tags": [
     "remove_cell"
    ]
   },
   "outputs": [],
   "source": [
    "# Prep our merging DF\n",
    "merged_by_repo = merged.groupby(['repo', 'author'], as_index=False).agg({'id': 'count', 'authorAssociation': 'first'}).rename(columns={'id': \"authored\", 'author': 'username'})\n",
    "closed_by_repo = merged.groupby(['repo', 'mergedBy']).count()['id'].reset_index().rename(columns={'id': \"closed\", \"mergedBy\": \"username\"})"
   ]
  },
  {
   "cell_type": "code",
   "execution_count": 11,
   "metadata": {
    "execution": {
     "iopub.execute_input": "2020-11-15T01:19:39.620104Z",
     "iopub.status.busy": "2020-11-15T01:19:39.615592Z",
     "iopub.status.idle": "2020-11-15T01:19:39.622595Z",
     "shell.execute_reply": "2020-11-15T01:19:39.623098Z"
    },
    "papermill": {
     "duration": 0.066487,
     "end_time": "2020-11-15T01:19:39.623247",
     "exception": false,
     "start_time": "2020-11-15T01:19:39.556760",
     "status": "completed"
    },
    "tags": [
     "hide_input"
    ]
   },
   "outputs": [
    {
     "data": {
      "text/html": [
       "\n",
       "<div id=\"altair-viz-c45d598e495f4a09b62a80a1e1501831\"></div>\n",
       "<script type=\"text/javascript\">\n",
       "  (function(spec, embedOpt){\n",
       "    let outputDiv = document.currentScript.previousElementSibling;\n",
       "    if (outputDiv.id !== \"altair-viz-c45d598e495f4a09b62a80a1e1501831\") {\n",
       "      outputDiv = document.getElementById(\"altair-viz-c45d598e495f4a09b62a80a1e1501831\");\n",
       "    }\n",
       "    const paths = {\n",
       "      \"vega\": \"https://cdn.jsdelivr.net/npm//vega@5?noext\",\n",
       "      \"vega-lib\": \"https://cdn.jsdelivr.net/npm//vega-lib?noext\",\n",
       "      \"vega-lite\": \"https://cdn.jsdelivr.net/npm//vega-lite@4.8.1?noext\",\n",
       "      \"vega-embed\": \"https://cdn.jsdelivr.net/npm//vega-embed@6?noext\",\n",
       "    };\n",
       "\n",
       "    function loadScript(lib) {\n",
       "      return new Promise(function(resolve, reject) {\n",
       "        var s = document.createElement('script');\n",
       "        s.src = paths[lib];\n",
       "        s.async = true;\n",
       "        s.onload = () => resolve(paths[lib]);\n",
       "        s.onerror = () => reject(`Error loading script: ${paths[lib]}`);\n",
       "        document.getElementsByTagName(\"head\")[0].appendChild(s);\n",
       "      });\n",
       "    }\n",
       "\n",
       "    function showError(err) {\n",
       "      outputDiv.innerHTML = `<div class=\"error\" style=\"color:red;\">${err}</div>`;\n",
       "      throw err;\n",
       "    }\n",
       "\n",
       "    function displayChart(vegaEmbed) {\n",
       "      vegaEmbed(outputDiv, spec, embedOpt)\n",
       "        .catch(err => showError(`Javascript Error: ${err.message}<br>This usually means there's a typo in your chart specification. See the javascript console for the full traceback.`));\n",
       "    }\n",
       "\n",
       "    if(typeof define === \"function\" && define.amd) {\n",
       "      requirejs.config({paths});\n",
       "      require([\"vega-embed\"], displayChart, err => showError(`Error loading script: ${err.message}`));\n",
       "    } else if (typeof vegaEmbed === \"function\") {\n",
       "      displayChart(vegaEmbed);\n",
       "    } else {\n",
       "      loadScript(\"vega\")\n",
       "        .then(() => loadScript(\"vega-lite\"))\n",
       "        .then(() => loadScript(\"vega-embed\"))\n",
       "        .catch(showError)\n",
       "        .then(() => displayChart(vegaEmbed));\n",
       "    }\n",
       "  })({\"config\": {\"axisLeft\": {\"labelFontSize\": 15}, \"axisBottom\": {\"labelFontSize\": 15}}, \"data\": {\"name\": \"data-4fd7f9a89fd10f032aff041cd01235f8\"}, \"mark\": \"bar\", \"encoding\": {\"color\": {\"type\": \"nominal\", \"field\": \"authorAssociation\", \"scale\": {\"domain\": [\"MEMBER\", \"CONTRIBUTOR\", \"COLLABORATOR\", \"NONE\"], \"range\": [\"rgb(211.82745098039214, 211.82745098039214, 211.82745098039214)\", \"rgb(166.98562091503268, 229.89803921568628, 166.98562091503268)\", \"rgb(96.37647058823529, 192.75294117647059, 96.37647058823529)\", \"rgb(0.0, 100.3921568627451, 0.0)\"]}}, \"x\": {\"type\": \"nominal\", \"field\": \"username\"}, \"y\": {\"type\": \"quantitative\", \"field\": \"authored\"}}, \"title\": \"PR authors for ipython in the last 60 days\", \"$schema\": \"https://vega.github.io/schema/vega-lite/v4.8.1.json\", \"datasets\": {\"data-4fd7f9a89fd10f032aff041cd01235f8\": [{\"username\": \"Carreau\", \"authored\": 15, \"authorAssociation\": \"MEMBER\"}, {\"username\": \"farisachugthai\", \"authored\": 6, \"authorAssociation\": \"CONTRIBUTOR\"}, {\"username\": \"rushabh-v\", \"authored\": 5, \"authorAssociation\": \"CONTRIBUTOR\"}, {\"username\": \"dswij\", \"authored\": 4, \"authorAssociation\": \"CONTRIBUTOR\"}, {\"username\": \"mskar\", \"authored\": 3, \"authorAssociation\": \"NONE\"}, {\"username\": \"impact27\", \"authored\": 3, \"authorAssociation\": \"CONTRIBUTOR\"}, {\"username\": \"minrk\", \"authored\": 3, \"authorAssociation\": \"MEMBER\"}, {\"username\": \"baogianghoangvu\", \"authored\": 2, \"authorAssociation\": \"CONTRIBUTOR\"}, {\"username\": \"szarroug3\", \"authored\": 2, \"authorAssociation\": \"NONE\"}, {\"username\": \"OdinTech3\", \"authored\": 2, \"authorAssociation\": \"CONTRIBUTOR\"}, {\"username\": \"deep-jkl\", \"authored\": 2, \"authorAssociation\": \"CONTRIBUTOR\"}, {\"username\": \"joyceerhl\", \"authored\": 1, \"authorAssociation\": \"CONTRIBUTOR\"}, {\"username\": \"jpavlav\", \"authored\": 1, \"authorAssociation\": \"CONTRIBUTOR\"}, {\"username\": \"Ankitsingh6299\", \"authored\": 1, \"authorAssociation\": \"CONTRIBUTOR\"}, {\"username\": \"maxnoe\", \"authored\": 1, \"authorAssociation\": \"CONTRIBUTOR\"}, {\"username\": \"reillysiemens\", \"authored\": 1, \"authorAssociation\": \"CONTRIBUTOR\"}, {\"username\": \"rmorshea\", \"authored\": 1, \"authorAssociation\": \"COLLABORATOR\"}, {\"username\": \"romulofff\", \"authored\": 1, \"authorAssociation\": \"CONTRIBUTOR\"}, {\"username\": \"scarlehoff\", \"authored\": 1, \"authorAssociation\": \"CONTRIBUTOR\"}, {\"username\": \"timqsh\", \"authored\": 1, \"authorAssociation\": \"CONTRIBUTOR\"}, {\"username\": \"xorigina1\", \"authored\": 1, \"authorAssociation\": \"CONTRIBUTOR\"}, {\"username\": \"jetpacktuxedo\", \"authored\": 1, \"authorAssociation\": \"CONTRIBUTOR\"}, {\"username\": \"facundobatista\", \"authored\": 1, \"authorAssociation\": \"CONTRIBUTOR\"}, {\"username\": \"hongshaoyang\", \"authored\": 1, \"authorAssociation\": \"CONTRIBUTOR\"}, {\"username\": \"hexxdump\", \"authored\": 1, \"authorAssociation\": \"CONTRIBUTOR\"}, {\"username\": \"digitalvirtuoso\", \"authored\": 1, \"authorAssociation\": \"CONTRIBUTOR\"}, {\"username\": \"barhenkro\", \"authored\": 1, \"authorAssociation\": \"CONTRIBUTOR\"}, {\"username\": \"augustogoulart\", \"authored\": 1, \"authorAssociation\": \"CONTRIBUTOR\"}, {\"username\": \"ashwinvis\", \"authored\": 1, \"authorAssociation\": \"CONTRIBUTOR\"}, {\"username\": \"alchzh\", \"authored\": 1, \"authorAssociation\": \"CONTRIBUTOR\"}, {\"username\": \"Sanjana-03\", \"authored\": 1, \"authorAssociation\": \"CONTRIBUTOR\"}, {\"username\": \"RoyNancy\", \"authored\": 1, \"authorAssociation\": \"CONTRIBUTOR\"}, {\"username\": \"NotWearingPants\", \"authored\": 1, \"authorAssociation\": \"CONTRIBUTOR\"}, {\"username\": \"MrMino\", \"authored\": 1, \"authorAssociation\": \"CONTRIBUTOR\"}, {\"username\": \"LeafyLi\", \"authored\": 1, \"authorAssociation\": \"CONTRIBUTOR\"}, {\"username\": \"Inception95\", \"authored\": 1, \"authorAssociation\": \"CONTRIBUTOR\"}, {\"username\": \"GabrielSimonetto\", \"authored\": 1, \"authorAssociation\": \"CONTRIBUTOR\"}, {\"username\": \"Daniel-Mietchen\", \"authored\": 1, \"authorAssociation\": \"CONTRIBUTOR\"}, {\"username\": \"zazezizozu\", \"authored\": 1, \"authorAssociation\": \"CONTRIBUTOR\"}]}}, {\"mode\": \"vega-lite\"});\n",
       "</script>"
      ],
      "text/plain": [
       "alt.Chart(...)"
      ]
     },
     "execution_count": 11,
     "metadata": {},
     "output_type": "execute_result"
    }
   ],
   "source": [
    "charts = []\n",
    "title = f\"PR authors for {github_org} in the last {n_days} days\"\n",
    "this_data = merged_by_repo.replace(np.nan, 0).groupby('username', as_index=False).agg({'authored': 'sum', 'authorAssociation': 'first'})\n",
    "this_data = this_data.sort_values('authored', ascending=False)\n",
    "ch = alt.Chart(data=this_data, title=title).mark_bar().encode(\n",
    "    x='username',\n",
    "    y='authored',\n",
    "    color=alt.Color('authorAssociation', scale=alt.Scale(domain=author_types, range=author_colors))\n",
    ")\n",
    "ch"
   ]
  },
  {
   "cell_type": "code",
   "execution_count": 12,
   "metadata": {
    "execution": {
     "iopub.execute_input": "2020-11-15T01:19:39.710225Z",
     "iopub.status.busy": "2020-11-15T01:19:39.704551Z",
     "iopub.status.idle": "2020-11-15T01:19:39.715513Z",
     "shell.execute_reply": "2020-11-15T01:19:39.715968Z"
    },
    "papermill": {
     "duration": 0.059098,
     "end_time": "2020-11-15T01:19:39.716115",
     "exception": false,
     "start_time": "2020-11-15T01:19:39.657017",
     "status": "completed"
    },
    "tags": [
     "hide_input"
    ]
   },
   "outputs": [
    {
     "data": {
      "text/html": [
       "\n",
       "<div id=\"altair-viz-4e0ebca73be54c84b49f8e31cb42cd57\"></div>\n",
       "<script type=\"text/javascript\">\n",
       "  (function(spec, embedOpt){\n",
       "    let outputDiv = document.currentScript.previousElementSibling;\n",
       "    if (outputDiv.id !== \"altair-viz-4e0ebca73be54c84b49f8e31cb42cd57\") {\n",
       "      outputDiv = document.getElementById(\"altair-viz-4e0ebca73be54c84b49f8e31cb42cd57\");\n",
       "    }\n",
       "    const paths = {\n",
       "      \"vega\": \"https://cdn.jsdelivr.net/npm//vega@5?noext\",\n",
       "      \"vega-lib\": \"https://cdn.jsdelivr.net/npm//vega-lib?noext\",\n",
       "      \"vega-lite\": \"https://cdn.jsdelivr.net/npm//vega-lite@4.8.1?noext\",\n",
       "      \"vega-embed\": \"https://cdn.jsdelivr.net/npm//vega-embed@6?noext\",\n",
       "    };\n",
       "\n",
       "    function loadScript(lib) {\n",
       "      return new Promise(function(resolve, reject) {\n",
       "        var s = document.createElement('script');\n",
       "        s.src = paths[lib];\n",
       "        s.async = true;\n",
       "        s.onload = () => resolve(paths[lib]);\n",
       "        s.onerror = () => reject(`Error loading script: ${paths[lib]}`);\n",
       "        document.getElementsByTagName(\"head\")[0].appendChild(s);\n",
       "      });\n",
       "    }\n",
       "\n",
       "    function showError(err) {\n",
       "      outputDiv.innerHTML = `<div class=\"error\" style=\"color:red;\">${err}</div>`;\n",
       "      throw err;\n",
       "    }\n",
       "\n",
       "    function displayChart(vegaEmbed) {\n",
       "      vegaEmbed(outputDiv, spec, embedOpt)\n",
       "        .catch(err => showError(`Javascript Error: ${err.message}<br>This usually means there's a typo in your chart specification. See the javascript console for the full traceback.`));\n",
       "    }\n",
       "\n",
       "    if(typeof define === \"function\" && define.amd) {\n",
       "      requirejs.config({paths});\n",
       "      require([\"vega-embed\"], displayChart, err => showError(`Error loading script: ${err.message}`));\n",
       "    } else if (typeof vegaEmbed === \"function\") {\n",
       "      displayChart(vegaEmbed);\n",
       "    } else {\n",
       "      loadScript(\"vega\")\n",
       "        .then(() => loadScript(\"vega-lite\"))\n",
       "        .then(() => loadScript(\"vega-embed\"))\n",
       "        .catch(showError)\n",
       "        .then(() => displayChart(vegaEmbed));\n",
       "    }\n",
       "  })({\"config\": {\"axisLeft\": {\"labelFontSize\": 15}, \"axisBottom\": {\"labelFontSize\": 15}}, \"data\": {\"name\": \"data-f4b9167397a80c17883a8f1e86ca4f78\"}, \"mark\": \"bar\", \"encoding\": {\"x\": {\"type\": \"nominal\", \"field\": \"username\"}, \"y\": {\"type\": \"quantitative\", \"field\": \"closed\"}}, \"title\": \"Merges for ipython in the last 60 days\", \"$schema\": \"https://vega.github.io/schema/vega-lite/v4.8.1.json\", \"datasets\": {\"data-f4b9167397a80c17883a8f1e86ca4f78\": [{\"repo\": \"ipykernel\", \"username\": \"Carreau\", \"closed\": 1}, {\"repo\": \"ipython\", \"username\": \"Carreau\", \"closed\": 65}, {\"repo\": \"ipython-in-depth\", \"username\": \"Carreau\", \"closed\": 1}, {\"repo\": \"ipython-website\", \"username\": \"Carreau\", \"closed\": 2}, {\"repo\": \"traitlets\", \"username\": \"Carreau\", \"closed\": 1}, {\"repo\": \"traitlets\", \"username\": \"minrk\", \"closed\": 5}]}}, {\"mode\": \"vega-lite\"});\n",
       "</script>"
      ],
      "text/plain": [
       "alt.Chart(...)"
      ]
     },
     "execution_count": 12,
     "metadata": {},
     "output_type": "execute_result"
    }
   ],
   "source": [
    "charts = []\n",
    "title = f\"Merges for {github_org} in the last {n_days} days\"\n",
    "ch = alt.Chart(data=closed_by_repo.replace(np.nan, 0), title=title).mark_bar().encode(\n",
    "    x='username',\n",
    "    y='closed',\n",
    ")\n",
    "ch"
   ]
  },
  {
   "cell_type": "markdown",
   "metadata": {
    "papermill": {
     "duration": 0.035645,
     "end_time": "2020-11-15T01:19:39.784912",
     "exception": false,
     "start_time": "2020-11-15T01:19:39.749267",
     "status": "completed"
    },
    "tags": []
   },
   "source": [
    "## Issues\n",
    "\n",
    "Issues are **conversations** that happen on our GitHub repositories. Here's an\n",
    "analysis of issues across the Jupyter organizations."
   ]
  },
  {
   "cell_type": "code",
   "execution_count": 13,
   "metadata": {
    "execution": {
     "iopub.execute_input": "2020-11-15T01:19:39.864949Z",
     "iopub.status.busy": "2020-11-15T01:19:39.864437Z",
     "iopub.status.idle": "2020-11-15T01:19:39.867259Z",
     "shell.execute_reply": "2020-11-15T01:19:39.866779Z"
    },
    "papermill": {
     "duration": 0.045382,
     "end_time": "2020-11-15T01:19:39.867389",
     "exception": false,
     "start_time": "2020-11-15T01:19:39.822007",
     "status": "completed"
    },
    "tags": [
     "remove_cell"
    ]
   },
   "outputs": [],
   "source": [
    "created = issues.query('state == \"OPEN\" and createdAt > @start_date and createdAt < @stop_date')\n",
    "closed = issues.query('state == \"CLOSED\" and closedAt > @start_date and closedAt < @stop_date')"
   ]
  },
  {
   "cell_type": "code",
   "execution_count": 14,
   "metadata": {
    "execution": {
     "iopub.execute_input": "2020-11-15T01:19:39.945238Z",
     "iopub.status.busy": "2020-11-15T01:19:39.944333Z",
     "iopub.status.idle": "2020-11-15T01:19:39.964668Z",
     "shell.execute_reply": "2020-11-15T01:19:39.965256Z"
    },
    "papermill": {
     "duration": 0.065655,
     "end_time": "2020-11-15T01:19:39.965460",
     "exception": false,
     "start_time": "2020-11-15T01:19:39.899805",
     "status": "completed"
    },
    "tags": [
     "hide_input"
    ]
   },
   "outputs": [
    {
     "data": {
      "text/html": [
       "\n",
       "<div id=\"altair-viz-65f86ee9d7274ceb99cbe3513cc1176c\"></div>\n",
       "<script type=\"text/javascript\">\n",
       "  (function(spec, embedOpt){\n",
       "    let outputDiv = document.currentScript.previousElementSibling;\n",
       "    if (outputDiv.id !== \"altair-viz-65f86ee9d7274ceb99cbe3513cc1176c\") {\n",
       "      outputDiv = document.getElementById(\"altair-viz-65f86ee9d7274ceb99cbe3513cc1176c\");\n",
       "    }\n",
       "    const paths = {\n",
       "      \"vega\": \"https://cdn.jsdelivr.net/npm//vega@5?noext\",\n",
       "      \"vega-lib\": \"https://cdn.jsdelivr.net/npm//vega-lib?noext\",\n",
       "      \"vega-lite\": \"https://cdn.jsdelivr.net/npm//vega-lite@4.8.1?noext\",\n",
       "      \"vega-embed\": \"https://cdn.jsdelivr.net/npm//vega-embed@6?noext\",\n",
       "    };\n",
       "\n",
       "    function loadScript(lib) {\n",
       "      return new Promise(function(resolve, reject) {\n",
       "        var s = document.createElement('script');\n",
       "        s.src = paths[lib];\n",
       "        s.async = true;\n",
       "        s.onload = () => resolve(paths[lib]);\n",
       "        s.onerror = () => reject(`Error loading script: ${paths[lib]}`);\n",
       "        document.getElementsByTagName(\"head\")[0].appendChild(s);\n",
       "      });\n",
       "    }\n",
       "\n",
       "    function showError(err) {\n",
       "      outputDiv.innerHTML = `<div class=\"error\" style=\"color:red;\">${err}</div>`;\n",
       "      throw err;\n",
       "    }\n",
       "\n",
       "    function displayChart(vegaEmbed) {\n",
       "      vegaEmbed(outputDiv, spec, embedOpt)\n",
       "        .catch(err => showError(`Javascript Error: ${err.message}<br>This usually means there's a typo in your chart specification. See the javascript console for the full traceback.`));\n",
       "    }\n",
       "\n",
       "    if(typeof define === \"function\" && define.amd) {\n",
       "      requirejs.config({paths});\n",
       "      require([\"vega-embed\"], displayChart, err => showError(`Error loading script: ${err.message}`));\n",
       "    } else if (typeof vegaEmbed === \"function\") {\n",
       "      displayChart(vegaEmbed);\n",
       "    } else {\n",
       "      loadScript(\"vega\")\n",
       "        .then(() => loadScript(\"vega-lite\"))\n",
       "        .then(() => loadScript(\"vega-embed\"))\n",
       "        .catch(showError)\n",
       "        .then(() => displayChart(vegaEmbed));\n",
       "    }\n",
       "  })({\"config\": {\"axisLeft\": {\"labelFontSize\": 15}, \"axisBottom\": {\"labelFontSize\": 15}}, \"data\": {\"name\": \"data-12fbf3b3140eb786c8e7bb3d5a479cca\"}, \"mark\": \"bar\", \"encoding\": {\"x\": {\"type\": \"nominal\", \"field\": \"repo\", \"sort\": [\"ipython\", \"ipykernel\", \"xkcd-font\", \"traitlets\", \"ipyparallel\", \"ipython_genutils\"]}, \"y\": {\"type\": \"quantitative\", \"field\": \"number\"}}, \"title\": \"Issues created in the last 60 days\", \"$schema\": \"https://vega.github.io/schema/vega-lite/v4.8.1.json\", \"datasets\": {\"data-12fbf3b3140eb786c8e7bb3d5a479cca\": [{\"org\": \"ipython\", \"repo\": \"ipykernel\", \"number\": 7, \"org/repo\": \"ipython/ipykernel\"}, {\"org\": \"ipython\", \"repo\": \"ipyparallel\", \"number\": 1, \"org/repo\": \"ipython/ipyparallel\"}, {\"org\": \"ipython\", \"repo\": \"ipython\", \"number\": 35, \"org/repo\": \"ipython/ipython\"}, {\"org\": \"ipython\", \"repo\": \"ipython_genutils\", \"number\": 1, \"org/repo\": \"ipython/ipython_genutils\"}, {\"org\": \"ipython\", \"repo\": \"traitlets\", \"number\": 2, \"org/repo\": \"ipython/traitlets\"}, {\"org\": \"ipython\", \"repo\": \"xkcd-font\", \"number\": 3, \"org/repo\": \"ipython/xkcd-font\"}]}}, {\"mode\": \"vega-lite\"});\n",
       "</script>"
      ],
      "text/plain": [
       "alt.Chart(...)"
      ]
     },
     "execution_count": 14,
     "metadata": {},
     "output_type": "execute_result"
    }
   ],
   "source": [
    "created_counts = created.groupby(['org', 'repo']).count()['number'].reset_index()\n",
    "created_counts['org/repo'] = created_counts.apply(lambda a: a['org'] + '/' + a['repo'], axis=1)\n",
    "sorted_vals = created_counts.sort_values(['org', 'number'], ascending=False)['repo'].values\n",
    "alt.Chart(data=created_counts, title=f\"Issues created in the last {n_days} days\").mark_bar().encode(\n",
    "    x=alt.X('repo', sort=alt.Sort(sorted_vals.tolist())),\n",
    "    y='number',\n",
    ")"
   ]
  },
  {
   "cell_type": "code",
   "execution_count": 15,
   "metadata": {
    "execution": {
     "iopub.execute_input": "2020-11-15T01:19:40.057926Z",
     "iopub.status.busy": "2020-11-15T01:19:40.057174Z",
     "iopub.status.idle": "2020-11-15T01:19:40.067217Z",
     "shell.execute_reply": "2020-11-15T01:19:40.067661Z"
    },
    "papermill": {
     "duration": 0.066561,
     "end_time": "2020-11-15T01:19:40.067813",
     "exception": false,
     "start_time": "2020-11-15T01:19:40.001252",
     "status": "completed"
    },
    "tags": [
     "hide_input"
    ]
   },
   "outputs": [
    {
     "data": {
      "text/html": [
       "\n",
       "<div id=\"altair-viz-c089755df74f4822a7e231f1fdf7e2b8\"></div>\n",
       "<script type=\"text/javascript\">\n",
       "  (function(spec, embedOpt){\n",
       "    let outputDiv = document.currentScript.previousElementSibling;\n",
       "    if (outputDiv.id !== \"altair-viz-c089755df74f4822a7e231f1fdf7e2b8\") {\n",
       "      outputDiv = document.getElementById(\"altair-viz-c089755df74f4822a7e231f1fdf7e2b8\");\n",
       "    }\n",
       "    const paths = {\n",
       "      \"vega\": \"https://cdn.jsdelivr.net/npm//vega@5?noext\",\n",
       "      \"vega-lib\": \"https://cdn.jsdelivr.net/npm//vega-lib?noext\",\n",
       "      \"vega-lite\": \"https://cdn.jsdelivr.net/npm//vega-lite@4.8.1?noext\",\n",
       "      \"vega-embed\": \"https://cdn.jsdelivr.net/npm//vega-embed@6?noext\",\n",
       "    };\n",
       "\n",
       "    function loadScript(lib) {\n",
       "      return new Promise(function(resolve, reject) {\n",
       "        var s = document.createElement('script');\n",
       "        s.src = paths[lib];\n",
       "        s.async = true;\n",
       "        s.onload = () => resolve(paths[lib]);\n",
       "        s.onerror = () => reject(`Error loading script: ${paths[lib]}`);\n",
       "        document.getElementsByTagName(\"head\")[0].appendChild(s);\n",
       "      });\n",
       "    }\n",
       "\n",
       "    function showError(err) {\n",
       "      outputDiv.innerHTML = `<div class=\"error\" style=\"color:red;\">${err}</div>`;\n",
       "      throw err;\n",
       "    }\n",
       "\n",
       "    function displayChart(vegaEmbed) {\n",
       "      vegaEmbed(outputDiv, spec, embedOpt)\n",
       "        .catch(err => showError(`Javascript Error: ${err.message}<br>This usually means there's a typo in your chart specification. See the javascript console for the full traceback.`));\n",
       "    }\n",
       "\n",
       "    if(typeof define === \"function\" && define.amd) {\n",
       "      requirejs.config({paths});\n",
       "      require([\"vega-embed\"], displayChart, err => showError(`Error loading script: ${err.message}`));\n",
       "    } else if (typeof vegaEmbed === \"function\") {\n",
       "      displayChart(vegaEmbed);\n",
       "    } else {\n",
       "      loadScript(\"vega\")\n",
       "        .then(() => loadScript(\"vega-lite\"))\n",
       "        .then(() => loadScript(\"vega-embed\"))\n",
       "        .catch(showError)\n",
       "        .then(() => displayChart(vegaEmbed));\n",
       "    }\n",
       "  })({\"config\": {\"axisLeft\": {\"labelFontSize\": 15}, \"axisBottom\": {\"labelFontSize\": 15}}, \"data\": {\"name\": \"data-4fc0c77896411ea957cf6e4becf2ead1\"}, \"mark\": \"bar\", \"encoding\": {\"x\": {\"type\": \"nominal\", \"field\": \"repo\", \"sort\": [\"ipython\", \"traitlets\", \"ipykernel\", \"ipyparallel\"]}, \"y\": {\"type\": \"quantitative\", \"field\": \"number\"}}, \"title\": \"Issues closed in the last 60 days\", \"$schema\": \"https://vega.github.io/schema/vega-lite/v4.8.1.json\", \"datasets\": {\"data-4fc0c77896411ea957cf6e4becf2ead1\": [{\"org\": \"ipython\", \"repo\": \"ipykernel\", \"number\": 2, \"org/repo\": \"ipython/ipykernel\"}, {\"org\": \"ipython\", \"repo\": \"ipyparallel\", \"number\": 2, \"org/repo\": \"ipython/ipyparallel\"}, {\"org\": \"ipython\", \"repo\": \"ipython\", \"number\": 9, \"org/repo\": \"ipython/ipython\"}, {\"org\": \"ipython\", \"repo\": \"traitlets\", \"number\": 5, \"org/repo\": \"ipython/traitlets\"}]}}, {\"mode\": \"vega-lite\"});\n",
       "</script>"
      ],
      "text/plain": [
       "alt.Chart(...)"
      ]
     },
     "execution_count": 15,
     "metadata": {},
     "output_type": "execute_result"
    }
   ],
   "source": [
    "closed_counts = closed.groupby(['org', 'repo']).count()['number'].reset_index()\n",
    "closed_counts['org/repo'] = closed_counts.apply(lambda a: a['org'] + '/' + a['repo'], axis=1)\n",
    "sorted_vals = closed_counts.sort_values(['number'], ascending=False)['repo'].values\n",
    "alt.Chart(data=closed_counts, title=f\"Issues closed in the last {n_days} days\").mark_bar().encode(\n",
    "    x=alt.X('repo', sort=alt.Sort(sorted_vals.tolist())),\n",
    "    y='number',\n",
    ")"
   ]
  },
  {
   "cell_type": "code",
   "execution_count": 16,
   "metadata": {
    "execution": {
     "iopub.execute_input": "2020-11-15T01:19:40.140692Z",
     "iopub.status.busy": "2020-11-15T01:19:40.140169Z",
     "iopub.status.idle": "2020-11-15T01:19:40.149445Z",
     "shell.execute_reply": "2020-11-15T01:19:40.150008Z"
    },
    "papermill": {
     "duration": 0.048912,
     "end_time": "2020-11-15T01:19:40.150154",
     "exception": false,
     "start_time": "2020-11-15T01:19:40.101242",
     "status": "completed"
    },
    "tags": [
     "remove_cell"
    ]
   },
   "outputs": [],
   "source": [
    "created_closed = pd.merge(created_counts.rename(columns={'number': 'created'}).drop(columns='org/repo'),\n",
    "                          closed_counts.rename(columns={'number': 'closed'}).drop(columns='org/repo'),\n",
    "                          on=['org', 'repo'], how='outer')\n",
    "\n",
    "created_closed = pd.melt(created_closed, id_vars=['org', 'repo'], var_name=\"kind\", value_name=\"count\").replace(np.nan, 0)"
   ]
  },
  {
   "cell_type": "code",
   "execution_count": 17,
   "metadata": {
    "execution": {
     "iopub.execute_input": "2020-11-15T01:19:40.222995Z",
     "iopub.status.busy": "2020-11-15T01:19:40.222460Z",
     "iopub.status.idle": "2020-11-15T01:19:40.246362Z",
     "shell.execute_reply": "2020-11-15T01:19:40.245920Z"
    },
    "papermill": {
     "duration": 0.061685,
     "end_time": "2020-11-15T01:19:40.246492",
     "exception": false,
     "start_time": "2020-11-15T01:19:40.184807",
     "status": "completed"
    },
    "tags": [
     "hide_input"
    ]
   },
   "outputs": [
    {
     "data": {
      "text/html": [
       "\n",
       "<div id=\"altair-viz-cf849d74e8b9469ba65f27cf5b312883\"></div>\n",
       "<script type=\"text/javascript\">\n",
       "  (function(spec, embedOpt){\n",
       "    let outputDiv = document.currentScript.previousElementSibling;\n",
       "    if (outputDiv.id !== \"altair-viz-cf849d74e8b9469ba65f27cf5b312883\") {\n",
       "      outputDiv = document.getElementById(\"altair-viz-cf849d74e8b9469ba65f27cf5b312883\");\n",
       "    }\n",
       "    const paths = {\n",
       "      \"vega\": \"https://cdn.jsdelivr.net/npm//vega@5?noext\",\n",
       "      \"vega-lib\": \"https://cdn.jsdelivr.net/npm//vega-lib?noext\",\n",
       "      \"vega-lite\": \"https://cdn.jsdelivr.net/npm//vega-lite@4.8.1?noext\",\n",
       "      \"vega-embed\": \"https://cdn.jsdelivr.net/npm//vega-embed@6?noext\",\n",
       "    };\n",
       "\n",
       "    function loadScript(lib) {\n",
       "      return new Promise(function(resolve, reject) {\n",
       "        var s = document.createElement('script');\n",
       "        s.src = paths[lib];\n",
       "        s.async = true;\n",
       "        s.onload = () => resolve(paths[lib]);\n",
       "        s.onerror = () => reject(`Error loading script: ${paths[lib]}`);\n",
       "        document.getElementsByTagName(\"head\")[0].appendChild(s);\n",
       "      });\n",
       "    }\n",
       "\n",
       "    function showError(err) {\n",
       "      outputDiv.innerHTML = `<div class=\"error\" style=\"color:red;\">${err}</div>`;\n",
       "      throw err;\n",
       "    }\n",
       "\n",
       "    function displayChart(vegaEmbed) {\n",
       "      vegaEmbed(outputDiv, spec, embedOpt)\n",
       "        .catch(err => showError(`Javascript Error: ${err.message}<br>This usually means there's a typo in your chart specification. See the javascript console for the full traceback.`));\n",
       "    }\n",
       "\n",
       "    if(typeof define === \"function\" && define.amd) {\n",
       "      requirejs.config({paths});\n",
       "      require([\"vega-embed\"], displayChart, err => showError(`Error loading script: ${err.message}`));\n",
       "    } else if (typeof vegaEmbed === \"function\") {\n",
       "      displayChart(vegaEmbed);\n",
       "    } else {\n",
       "      loadScript(\"vega\")\n",
       "        .then(() => loadScript(\"vega-lite\"))\n",
       "        .then(() => loadScript(\"vega-embed\"))\n",
       "        .catch(showError)\n",
       "        .then(() => displayChart(vegaEmbed));\n",
       "    }\n",
       "  })({\"config\": {\"axisLeft\": {\"labelFontSize\": 15}, \"axisBottom\": {\"labelFontSize\": 15}}, \"data\": {\"name\": \"data-7a0e6242d2550ad9179dd0c447ebe6e2\"}, \"mark\": \"bar\", \"encoding\": {\"color\": {\"type\": \"nominal\", \"field\": \"kind\"}, \"column\": {\"type\": \"nominal\", \"field\": \"repo\", \"header\": {\"labelFontSize\": 12, \"title\": \"Issue activity, last 60 days for ipython\", \"titleFontSize\": 15}}, \"x\": {\"type\": \"nominal\", \"axis\": {\"labelFontSize\": 15, \"title\": \"\"}, \"field\": \"kind\"}, \"y\": {\"type\": \"quantitative\", \"axis\": {\"labelFontSize\": 12, \"titleFontSize\": 15}, \"field\": \"count\"}}, \"width\": 120, \"$schema\": \"https://vega.github.io/schema/vega-lite/v4.8.1.json\", \"datasets\": {\"data-7a0e6242d2550ad9179dd0c447ebe6e2\": [{\"org\": \"ipython\", \"repo\": \"ipykernel\", \"kind\": \"created\", \"count\": 7.0}, {\"org\": \"ipython\", \"repo\": \"ipyparallel\", \"kind\": \"created\", \"count\": 1.0}, {\"org\": \"ipython\", \"repo\": \"ipython\", \"kind\": \"created\", \"count\": 35.0}, {\"org\": \"ipython\", \"repo\": \"ipython_genutils\", \"kind\": \"created\", \"count\": 1.0}, {\"org\": \"ipython\", \"repo\": \"traitlets\", \"kind\": \"created\", \"count\": 2.0}, {\"org\": \"ipython\", \"repo\": \"xkcd-font\", \"kind\": \"created\", \"count\": 3.0}, {\"org\": \"ipython\", \"repo\": \"ipykernel\", \"kind\": \"closed\", \"count\": 2.0}, {\"org\": \"ipython\", \"repo\": \"ipyparallel\", \"kind\": \"closed\", \"count\": 2.0}, {\"org\": \"ipython\", \"repo\": \"ipython\", \"kind\": \"closed\", \"count\": 9.0}, {\"org\": \"ipython\", \"repo\": \"ipython_genutils\", \"kind\": \"closed\", \"count\": 0.0}, {\"org\": \"ipython\", \"repo\": \"traitlets\", \"kind\": \"closed\", \"count\": 5.0}, {\"org\": \"ipython\", \"repo\": \"xkcd-font\", \"kind\": \"closed\", \"count\": 0.0}]}}, {\"mode\": \"vega-lite\"});\n",
       "</script>"
      ],
      "text/plain": [
       "alt.Chart(...)"
      ]
     },
     "execution_count": 17,
     "metadata": {},
     "output_type": "execute_result"
    }
   ],
   "source": [
    "charts = []\n",
    "# Pick the top 10 repositories\n",
    "top_repos = created_closed.groupby(['repo']).sum().sort_values(by='count', ascending=False).head(10).index\n",
    "ch = alt.Chart(created_closed.query('repo in @top_repos'), width=120).mark_bar().encode(\n",
    "    x=alt.X(\"kind\", axis=alt.Axis(labelFontSize=15, title=\"\")), \n",
    "    y=alt.Y('count', axis=alt.Axis(titleFontSize=15, labelFontSize=12)),\n",
    "    color='kind',\n",
    "    column=alt.Column(\"repo\", header=alt.Header(title=f\"Issue activity, last {n_days} days for {github_org}\", titleFontSize=15, labelFontSize=12))\n",
    ")\n",
    "ch"
   ]
  },
  {
   "cell_type": "code",
   "execution_count": 18,
   "metadata": {
    "execution": {
     "iopub.execute_input": "2020-11-15T01:19:40.328662Z",
     "iopub.status.busy": "2020-11-15T01:19:40.328114Z",
     "iopub.status.idle": "2020-11-15T01:19:40.329799Z",
     "shell.execute_reply": "2020-11-15T01:19:40.330213Z"
    },
    "papermill": {
     "duration": 0.046102,
     "end_time": "2020-11-15T01:19:40.330391",
     "exception": false,
     "start_time": "2020-11-15T01:19:40.284289",
     "status": "completed"
    },
    "tags": [
     "remove_cell"
    ]
   },
   "outputs": [],
   "source": [
    "# Set to datetime\n",
    "for kind in ['createdAt', 'closedAt']:\n",
    "    closed.loc[:, kind] = pd.to_datetime(closed[kind])\n",
    "    \n",
    "closed.loc[:, 'time_open'] = closed['closedAt'] - closed['createdAt']\n",
    "closed.loc[:, 'time_open'] = closed['time_open'].dt.total_seconds()"
   ]
  },
  {
   "cell_type": "code",
   "execution_count": 19,
   "metadata": {
    "execution": {
     "iopub.execute_input": "2020-11-15T01:19:40.488725Z",
     "iopub.status.busy": "2020-11-15T01:19:40.488175Z",
     "iopub.status.idle": "2020-11-15T01:19:40.494341Z",
     "shell.execute_reply": "2020-11-15T01:19:40.493830Z"
    },
    "papermill": {
     "duration": 0.127486,
     "end_time": "2020-11-15T01:19:40.494489",
     "exception": false,
     "start_time": "2020-11-15T01:19:40.367003",
     "status": "completed"
    },
    "tags": [
     "hide_input"
    ]
   },
   "outputs": [
    {
     "data": {
      "text/html": [
       "\n",
       "<div id=\"altair-viz-0de78509791046af93d9446255a5161a\"></div>\n",
       "<script type=\"text/javascript\">\n",
       "  (function(spec, embedOpt){\n",
       "    let outputDiv = document.currentScript.previousElementSibling;\n",
       "    if (outputDiv.id !== \"altair-viz-0de78509791046af93d9446255a5161a\") {\n",
       "      outputDiv = document.getElementById(\"altair-viz-0de78509791046af93d9446255a5161a\");\n",
       "    }\n",
       "    const paths = {\n",
       "      \"vega\": \"https://cdn.jsdelivr.net/npm//vega@5?noext\",\n",
       "      \"vega-lib\": \"https://cdn.jsdelivr.net/npm//vega-lib?noext\",\n",
       "      \"vega-lite\": \"https://cdn.jsdelivr.net/npm//vega-lite@4.8.1?noext\",\n",
       "      \"vega-embed\": \"https://cdn.jsdelivr.net/npm//vega-embed@6?noext\",\n",
       "    };\n",
       "\n",
       "    function loadScript(lib) {\n",
       "      return new Promise(function(resolve, reject) {\n",
       "        var s = document.createElement('script');\n",
       "        s.src = paths[lib];\n",
       "        s.async = true;\n",
       "        s.onload = () => resolve(paths[lib]);\n",
       "        s.onerror = () => reject(`Error loading script: ${paths[lib]}`);\n",
       "        document.getElementsByTagName(\"head\")[0].appendChild(s);\n",
       "      });\n",
       "    }\n",
       "\n",
       "    function showError(err) {\n",
       "      outputDiv.innerHTML = `<div class=\"error\" style=\"color:red;\">${err}</div>`;\n",
       "      throw err;\n",
       "    }\n",
       "\n",
       "    function displayChart(vegaEmbed) {\n",
       "      vegaEmbed(outputDiv, spec, embedOpt)\n",
       "        .catch(err => showError(`Javascript Error: ${err.message}<br>This usually means there's a typo in your chart specification. See the javascript console for the full traceback.`));\n",
       "    }\n",
       "\n",
       "    if(typeof define === \"function\" && define.amd) {\n",
       "      requirejs.config({paths});\n",
       "      require([\"vega-embed\"], displayChart, err => showError(`Error loading script: ${err.message}`));\n",
       "    } else if (typeof vegaEmbed === \"function\") {\n",
       "      displayChart(vegaEmbed);\n",
       "    } else {\n",
       "      loadScript(\"vega\")\n",
       "        .then(() => loadScript(\"vega-lite\"))\n",
       "        .then(() => loadScript(\"vega-embed\"))\n",
       "        .catch(showError)\n",
       "        .then(() => displayChart(vegaEmbed));\n",
       "    }\n",
       "  })({\"config\": {\"axisLeft\": {\"labelFontSize\": 15}, \"axisBottom\": {\"labelFontSize\": 15}}, \"data\": {\"name\": \"data-6536a42ee42e2d36f3a74320c4f36aa3\"}, \"mark\": \"bar\", \"encoding\": {\"x\": {\"type\": \"nominal\", \"field\": \"repo\", \"sort\": [\"ipyparallel\", \"ipykernel\", \"traitlets\", \"ipython\"]}, \"y\": {\"type\": \"quantitative\", \"field\": \"time_open\", \"title\": \"Median Days Open\"}}, \"title\": \"Time to close for issues closed in the last 60 days\", \"$schema\": \"https://vega.github.io/schema/vega-lite/v4.8.1.json\", \"datasets\": {\"data-6536a42ee42e2d36f3a74320c4f36aa3\": [{\"org\": \"ipython\", \"repo\": \"ipykernel\", \"time_open\": 89.22323495370371, \"org/repo\": \"ipython/ipykernel\"}, {\"org\": \"ipython\", \"repo\": \"ipyparallel\", \"time_open\": 218.0558912037037, \"org/repo\": \"ipython/ipyparallel\"}, {\"org\": \"ipython\", \"repo\": \"ipython\", \"time_open\": 2.7509722222222224, \"org/repo\": \"ipython/ipython\"}, {\"org\": \"ipython\", \"repo\": \"traitlets\", \"time_open\": 7.819375, \"org/repo\": \"ipython/traitlets\"}]}}, {\"mode\": \"vega-lite\"});\n",
       "</script>"
      ],
      "text/plain": [
       "alt.Chart(...)"
      ]
     },
     "execution_count": 19,
     "metadata": {},
     "output_type": "execute_result"
    }
   ],
   "source": [
    "time_open = closed.groupby(['org', 'repo']).agg({'time_open': 'median'}).reset_index()\n",
    "time_open['time_open'] = time_open['time_open'] / (60 * 60 * 24)\n",
    "time_open['org/repo'] = time_open.apply(lambda a: a['org'] + '/' + a['repo'], axis=1)\n",
    "sorted_vals = time_open.sort_values(['org', 'time_open'], ascending=False)['repo'].values\n",
    "alt.Chart(data=time_open, title=f\"Time to close for issues closed in the last {n_days} days\").mark_bar().encode(\n",
    "    x=alt.X('repo', sort=alt.Sort(sorted_vals.tolist())),\n",
    "    y=alt.Y('time_open', title=\"Median Days Open\"),\n",
    ")"
   ]
  },
  {
   "cell_type": "markdown",
   "metadata": {
    "papermill": {
     "duration": 0.034681,
     "end_time": "2020-11-15T01:19:40.564791",
     "exception": false,
     "start_time": "2020-11-15T01:19:40.530110",
     "status": "completed"
    },
    "tags": []
   },
   "source": [
    "## Most-upvoted issues"
   ]
  },
  {
   "cell_type": "code",
   "execution_count": 20,
   "metadata": {
    "execution": {
     "iopub.execute_input": "2020-11-15T01:19:40.668286Z",
     "iopub.status.busy": "2020-11-15T01:19:40.664467Z",
     "iopub.status.idle": "2020-11-15T01:19:40.671266Z",
     "shell.execute_reply": "2020-11-15T01:19:40.671701Z"
    },
    "papermill": {
     "duration": 0.065003,
     "end_time": "2020-11-15T01:19:40.671850",
     "exception": false,
     "start_time": "2020-11-15T01:19:40.606847",
     "status": "completed"
    },
    "tags": [
     "hide_input"
    ]
   },
   "outputs": [
    {
     "data": {
      "application/vnd.jupyter.widget-view+json": {
       "model_id": "d48d9661dd214d9ab45525b947a2108c",
       "version_major": 2,
       "version_minor": 0
      },
      "text/plain": [
       "HTML(value='<ul>\\n<li>(2) Cannot restart and run all cells in notebooks with %gui qt magic - ipykernel - <a hr…"
      ]
     },
     "metadata": {},
     "output_type": "display_data"
    }
   ],
   "source": [
    "thumbsup = data.query(\"state=='OPEN' and kind == 'issue'\").sort_values(\"thumbsup\", ascending=False).head(25)\n",
    "thumbsup = thumbsup[[\"title\", \"url\", \"number\", \"thumbsup\", \"repo\"]]\n",
    "\n",
    "text = []\n",
    "for ii, irow in thumbsup.iterrows():\n",
    "    itext = f\"- ({irow['thumbsup']}) {irow['title']} - {irow['repo']} - [#{irow['number']}]({irow['url']})\"\n",
    "    text.append(itext)\n",
    "text = '\\n'.join(text)\n",
    "HTML(markdown(text))"
   ]
  },
  {
   "cell_type": "markdown",
   "metadata": {
    "papermill": {
     "duration": 0.035443,
     "end_time": "2020-11-15T01:19:40.744446",
     "exception": false,
     "start_time": "2020-11-15T01:19:40.709003",
     "status": "completed"
    },
    "tags": []
   },
   "source": [
    "## Commenters across repositories\n",
    "\n",
    "These are commenters across all issues and pull requests in the last several days.\n",
    "These are colored by the commenter's association with the organization. For information\n",
    "about what these associations mean, [see this StackOverflow post](https://stackoverflow.com/a/28866914/1927102)."
   ]
  },
  {
   "cell_type": "code",
   "execution_count": 21,
   "metadata": {
    "execution": {
     "iopub.execute_input": "2020-11-15T01:19:40.824079Z",
     "iopub.status.busy": "2020-11-15T01:19:40.823500Z",
     "iopub.status.idle": "2020-11-15T01:19:40.831572Z",
     "shell.execute_reply": "2020-11-15T01:19:40.832057Z"
    },
    "papermill": {
     "duration": 0.0522,
     "end_time": "2020-11-15T01:19:40.832203",
     "exception": false,
     "start_time": "2020-11-15T01:19:40.780003",
     "status": "completed"
    },
    "tags": [
     "remove_cell"
    ]
   },
   "outputs": [],
   "source": [
    "commentors = (\n",
    "    comments\n",
    "    .query(\"createdAt > @start_date and createdAt < @stop_date\")\n",
    "    .groupby(['org', 'repo', 'author', 'authorAssociation'])\n",
    "    .count().rename(columns={'id': 'count'})['count']\n",
    "    .reset_index()\n",
    "    .sort_values(['org', 'count'], ascending=False)\n",
    ")"
   ]
  },
  {
   "cell_type": "code",
   "execution_count": 22,
   "metadata": {
    "execution": {
     "iopub.execute_input": "2020-11-15T01:19:40.923433Z",
     "iopub.status.busy": "2020-11-15T01:19:40.913933Z",
     "iopub.status.idle": "2020-11-15T01:19:40.935733Z",
     "shell.execute_reply": "2020-11-15T01:19:40.936220Z"
    },
    "papermill": {
     "duration": 0.067797,
     "end_time": "2020-11-15T01:19:40.936390",
     "exception": false,
     "start_time": "2020-11-15T01:19:40.868593",
     "status": "completed"
    },
    "tags": [
     "hide_input"
    ]
   },
   "outputs": [
    {
     "data": {
      "text/html": [
       "\n",
       "<div id=\"altair-viz-785a8a79860e4a009ba7547809a0c821\"></div>\n",
       "<script type=\"text/javascript\">\n",
       "  (function(spec, embedOpt){\n",
       "    let outputDiv = document.currentScript.previousElementSibling;\n",
       "    if (outputDiv.id !== \"altair-viz-785a8a79860e4a009ba7547809a0c821\") {\n",
       "      outputDiv = document.getElementById(\"altair-viz-785a8a79860e4a009ba7547809a0c821\");\n",
       "    }\n",
       "    const paths = {\n",
       "      \"vega\": \"https://cdn.jsdelivr.net/npm//vega@5?noext\",\n",
       "      \"vega-lib\": \"https://cdn.jsdelivr.net/npm//vega-lib?noext\",\n",
       "      \"vega-lite\": \"https://cdn.jsdelivr.net/npm//vega-lite@4.8.1?noext\",\n",
       "      \"vega-embed\": \"https://cdn.jsdelivr.net/npm//vega-embed@6?noext\",\n",
       "    };\n",
       "\n",
       "    function loadScript(lib) {\n",
       "      return new Promise(function(resolve, reject) {\n",
       "        var s = document.createElement('script');\n",
       "        s.src = paths[lib];\n",
       "        s.async = true;\n",
       "        s.onload = () => resolve(paths[lib]);\n",
       "        s.onerror = () => reject(`Error loading script: ${paths[lib]}`);\n",
       "        document.getElementsByTagName(\"head\")[0].appendChild(s);\n",
       "      });\n",
       "    }\n",
       "\n",
       "    function showError(err) {\n",
       "      outputDiv.innerHTML = `<div class=\"error\" style=\"color:red;\">${err}</div>`;\n",
       "      throw err;\n",
       "    }\n",
       "\n",
       "    function displayChart(vegaEmbed) {\n",
       "      vegaEmbed(outputDiv, spec, embedOpt)\n",
       "        .catch(err => showError(`Javascript Error: ${err.message}<br>This usually means there's a typo in your chart specification. See the javascript console for the full traceback.`));\n",
       "    }\n",
       "\n",
       "    if(typeof define === \"function\" && define.amd) {\n",
       "      requirejs.config({paths});\n",
       "      require([\"vega-embed\"], displayChart, err => showError(`Error loading script: ${err.message}`));\n",
       "    } else if (typeof vegaEmbed === \"function\") {\n",
       "      displayChart(vegaEmbed);\n",
       "    } else {\n",
       "      loadScript(\"vega\")\n",
       "        .then(() => loadScript(\"vega-lite\"))\n",
       "        .then(() => loadScript(\"vega-embed\"))\n",
       "        .catch(showError)\n",
       "        .then(() => displayChart(vegaEmbed));\n",
       "    }\n",
       "  })({\"config\": {\"axisLeft\": {\"labelFontSize\": 15}, \"axisBottom\": {\"labelFontSize\": 15}}, \"hconcat\": [{\"mark\": \"bar\", \"encoding\": {\"color\": {\"type\": \"nominal\", \"field\": \"authorAssociation\", \"scale\": {\"domain\": [\"MEMBER\", \"CONTRIBUTOR\", \"COLLABORATOR\", \"NONE\"], \"range\": [\"rgb(211.82745098039214, 211.82745098039214, 211.82745098039214)\", \"rgb(166.98562091503268, 229.89803921568628, 166.98562091503268)\", \"rgb(96.37647058823529, 192.75294117647059, 96.37647058823529)\", \"rgb(0.0, 100.3921568627451, 0.0)\"]}}, \"x\": {\"type\": \"nominal\", \"field\": \"author\"}, \"y\": {\"type\": \"quantitative\", \"field\": \"count\"}}, \"title\": \"Top 50 commentors for ipython in the last 60 days\"}], \"data\": {\"name\": \"data-cc5d26cc67f491a2e5bfd6b2c215a944\"}, \"$schema\": \"https://vega.github.io/schema/vega-lite/v4.8.1.json\", \"datasets\": {\"data-cc5d26cc67f491a2e5bfd6b2c215a944\": [{\"author\": \"Carreau\", \"count\": 82, \"authorAssociation\": \"MEMBER\"}, {\"author\": \"minrk\", \"count\": 11, \"authorAssociation\": \"MEMBER\"}, {\"author\": \"sumagnadas\", \"count\": 9, \"authorAssociation\": \"NONE\"}, {\"author\": \"jetpacktuxedo\", \"count\": 8, \"authorAssociation\": \"CONTRIBUTOR\"}, {\"author\": \"mskar\", \"count\": 8, \"authorAssociation\": \"NONE\"}, {\"author\": \"ashwinvis\", \"count\": 7, \"authorAssociation\": \"CONTRIBUTOR\"}, {\"author\": \"davbrito\", \"count\": 6, \"authorAssociation\": \"NONE\"}, {\"author\": \"farisachugthai\", \"count\": 6, \"authorAssociation\": \"CONTRIBUTOR\"}, {\"author\": \"OdinTech3\", \"count\": 5, \"authorAssociation\": \"CONTRIBUTOR\"}, {\"author\": \"blazespinnaker\", \"count\": 4, \"authorAssociation\": \"NONE\"}, {\"author\": \"girip11\", \"count\": 4, \"authorAssociation\": \"NONE\"}, {\"author\": \"dhirschfeld\", \"count\": 4, \"authorAssociation\": \"CONTRIBUTOR\"}, {\"author\": \"SylvainCorlay\", \"count\": 3, \"authorAssociation\": \"MEMBER\"}, {\"author\": \"rmorshea\", \"count\": 3, \"authorAssociation\": \"COLLABORATOR\"}, {\"author\": \"digitalvirtuoso\", \"count\": 3, \"authorAssociation\": \"CONTRIBUTOR\"}, {\"author\": \"jpavlav\", \"count\": 3, \"authorAssociation\": \"CONTRIBUTOR\"}, {\"author\": \"miguelcard\", \"count\": 3, \"authorAssociation\": \"NONE\"}, {\"author\": \"meeseeksdev\", \"count\": 2, \"authorAssociation\": \"CONTRIBUTOR\"}, {\"author\": \"zazezizozu\", \"count\": 2, \"authorAssociation\": \"NONE\"}, {\"author\": \"baogianghoangvu\", \"count\": 2, \"authorAssociation\": \"CONTRIBUTOR\"}, {\"author\": \"johentsch\", \"count\": 2, \"authorAssociation\": \"NONE\"}, {\"author\": \"scarlehoff\", \"count\": 2, \"authorAssociation\": \"CONTRIBUTOR\"}, {\"author\": \"MrMino\", \"count\": 2, \"authorAssociation\": \"CONTRIBUTOR\"}, {\"author\": \"szarroug3\", \"count\": 2, \"authorAssociation\": \"NONE\"}, {\"author\": \"terrdavis\", \"count\": 2, \"authorAssociation\": \"CONTRIBUTOR\"}, {\"author\": \"Creonalia\", \"count\": 2, \"authorAssociation\": \"NONE\"}, {\"author\": \"DrJackilD\", \"count\": 2, \"authorAssociation\": \"NONE\"}, {\"author\": \"mehaase\", \"count\": 1, \"authorAssociation\": \"CONTRIBUTOR\"}, {\"author\": \"ylive001\", \"count\": 1, \"authorAssociation\": \"NONE\"}, {\"author\": \"kugiyasan\", \"count\": 1, \"authorAssociation\": \"NONE\"}, {\"author\": \"martinRenou\", \"count\": 1, \"authorAssociation\": \"CONTRIBUTOR\"}, {\"author\": \"williamsmj\", \"count\": 1, \"authorAssociation\": \"NONE\"}, {\"author\": \"romulofff\", \"count\": 1, \"authorAssociation\": \"CONTRIBUTOR\"}, {\"author\": \"urianchang\", \"count\": 1, \"authorAssociation\": \"NONE\"}, {\"author\": \"sanjaymsh\", \"count\": 1, \"authorAssociation\": \"NONE\"}, {\"author\": \"slel\", \"count\": 1, \"authorAssociation\": \"CONTRIBUTOR\"}, {\"author\": \"njsmith\", \"count\": 1, \"authorAssociation\": \"CONTRIBUTOR\"}, {\"author\": \"rahulporuri\", \"count\": 1, \"authorAssociation\": \"CONTRIBUTOR\"}, {\"author\": \"timqsh\", \"count\": 1, \"authorAssociation\": \"CONTRIBUTOR\"}, {\"author\": \"Ankitsingh6299\", \"count\": 1, \"authorAssociation\": \"CONTRIBUTOR\"}, {\"author\": \"infokiller\", \"count\": 1, \"authorAssociation\": \"NONE\"}, {\"author\": \"huytrvan\", \"count\": 1, \"authorAssociation\": \"NONE\"}, {\"author\": \"ChiefsBestPal\", \"count\": 1, \"authorAssociation\": \"NONE\"}, {\"author\": \"Crypto-Spartan\", \"count\": 1, \"authorAssociation\": \"NONE\"}, {\"author\": \"GenevieveBuckley\", \"count\": 1, \"authorAssociation\": \"NONE\"}, {\"author\": \"IlnarSelimcan\", \"count\": 1, \"authorAssociation\": \"NONE\"}, {\"author\": \"Inception95\", \"count\": 1, \"authorAssociation\": \"CONTRIBUTOR\"}, {\"author\": \"JohanMabille\", \"count\": 1, \"authorAssociation\": \"NONE\"}, {\"author\": \"MSeal\", \"count\": 1, \"authorAssociation\": \"NONE\"}, {\"author\": \"Qwerty-1331\", \"count\": 1, \"authorAssociation\": \"NONE\"}]}}, {\"mode\": \"vega-lite\"});\n",
       "</script>"
      ],
      "text/plain": [
       "alt.HConcatChart(...)"
      ]
     },
     "execution_count": 22,
     "metadata": {},
     "output_type": "execute_result"
    }
   ],
   "source": [
    "n_plot = 50\n",
    "charts = []\n",
    "for ii, (iorg, idata) in enumerate(commentors.groupby(['org'])):\n",
    "    title = f\"Top {n_plot} commentors for {iorg} in the last {n_days} days\"\n",
    "    idata = idata.groupby('author', as_index=False).agg({'count': 'sum', 'authorAssociation': 'first'})\n",
    "    idata = idata.sort_values('count', ascending=False).head(n_plot)\n",
    "    ch = alt.Chart(data=idata.head(n_plot), title=title).mark_bar().encode(\n",
    "        x='author',\n",
    "        y='count',\n",
    "        color=alt.Color('authorAssociation', scale=alt.Scale(domain=author_types, range=author_colors))\n",
    "    )\n",
    "    charts.append(ch)\n",
    "alt.hconcat(*charts)"
   ]
  },
  {
   "cell_type": "markdown",
   "metadata": {
    "papermill": {
     "duration": 0.041534,
     "end_time": "2020-11-15T01:19:41.022352",
     "exception": false,
     "start_time": "2020-11-15T01:19:40.980818",
     "status": "completed"
    },
    "tags": []
   },
   "source": [
    "## First responders\n",
    "\n",
    "First responders are the first people to respond to a new issue in one of the repositories.\n",
    "The following plots show first responders for recently-created issues."
   ]
  },
  {
   "cell_type": "code",
   "execution_count": 23,
   "metadata": {
    "execution": {
     "iopub.execute_input": "2020-11-15T01:19:41.127724Z",
     "iopub.status.busy": "2020-11-15T01:19:41.127047Z",
     "iopub.status.idle": "2020-11-15T01:19:41.253927Z",
     "shell.execute_reply": "2020-11-15T01:19:41.253344Z"
    },
    "papermill": {
     "duration": 0.182331,
     "end_time": "2020-11-15T01:19:41.254164",
     "exception": false,
     "start_time": "2020-11-15T01:19:41.071833",
     "status": "completed"
    },
    "tags": [
     "remove_cell"
    ]
   },
   "outputs": [],
   "source": [
    "first_comments = []\n",
    "for (org, repo, issue_id), i_comments in comments.groupby(['org', 'repo', 'id']):\n",
    "    ix_min = pd.to_datetime(i_comments['createdAt']).idxmin()\n",
    "    first_comment = i_comments.loc[ix_min]\n",
    "    if isinstance(first_comment, pd.DataFrame):\n",
    "        first_comment = first_comment.iloc[0]\n",
    "    first_comments.append(first_comment)\n",
    "first_comments = pd.concat(first_comments, axis=1).T\n",
    "\n",
    "# Make up counts for viz\n",
    "first_responder_counts = first_comments.groupby(['org', 'author', 'authorAssociation'], as_index=False).\\\n",
    "    count().rename(columns={'id': 'n_first_responses'}).sort_values(['org', 'n_first_responses'], ascending=False)\n"
   ]
  },
  {
   "cell_type": "code",
   "execution_count": 24,
   "metadata": {
    "execution": {
     "iopub.execute_input": "2020-11-15T01:19:41.354488Z",
     "iopub.status.busy": "2020-11-15T01:19:41.353789Z",
     "iopub.status.idle": "2020-11-15T01:19:41.380231Z",
     "shell.execute_reply": "2020-11-15T01:19:41.380873Z"
    },
    "papermill": {
     "duration": 0.079413,
     "end_time": "2020-11-15T01:19:41.381100",
     "exception": false,
     "start_time": "2020-11-15T01:19:41.301687",
     "status": "completed"
    },
    "tags": [
     "hide_input"
    ]
   },
   "outputs": [
    {
     "data": {
      "text/html": [
       "\n",
       "<div id=\"altair-viz-abfa380c77454a5f9ff8fc54c50b2433\"></div>\n",
       "<script type=\"text/javascript\">\n",
       "  (function(spec, embedOpt){\n",
       "    let outputDiv = document.currentScript.previousElementSibling;\n",
       "    if (outputDiv.id !== \"altair-viz-abfa380c77454a5f9ff8fc54c50b2433\") {\n",
       "      outputDiv = document.getElementById(\"altair-viz-abfa380c77454a5f9ff8fc54c50b2433\");\n",
       "    }\n",
       "    const paths = {\n",
       "      \"vega\": \"https://cdn.jsdelivr.net/npm//vega@5?noext\",\n",
       "      \"vega-lib\": \"https://cdn.jsdelivr.net/npm//vega-lib?noext\",\n",
       "      \"vega-lite\": \"https://cdn.jsdelivr.net/npm//vega-lite@4.8.1?noext\",\n",
       "      \"vega-embed\": \"https://cdn.jsdelivr.net/npm//vega-embed@6?noext\",\n",
       "    };\n",
       "\n",
       "    function loadScript(lib) {\n",
       "      return new Promise(function(resolve, reject) {\n",
       "        var s = document.createElement('script');\n",
       "        s.src = paths[lib];\n",
       "        s.async = true;\n",
       "        s.onload = () => resolve(paths[lib]);\n",
       "        s.onerror = () => reject(`Error loading script: ${paths[lib]}`);\n",
       "        document.getElementsByTagName(\"head\")[0].appendChild(s);\n",
       "      });\n",
       "    }\n",
       "\n",
       "    function showError(err) {\n",
       "      outputDiv.innerHTML = `<div class=\"error\" style=\"color:red;\">${err}</div>`;\n",
       "      throw err;\n",
       "    }\n",
       "\n",
       "    function displayChart(vegaEmbed) {\n",
       "      vegaEmbed(outputDiv, spec, embedOpt)\n",
       "        .catch(err => showError(`Javascript Error: ${err.message}<br>This usually means there's a typo in your chart specification. See the javascript console for the full traceback.`));\n",
       "    }\n",
       "\n",
       "    if(typeof define === \"function\" && define.amd) {\n",
       "      requirejs.config({paths});\n",
       "      require([\"vega-embed\"], displayChart, err => showError(`Error loading script: ${err.message}`));\n",
       "    } else if (typeof vegaEmbed === \"function\") {\n",
       "      displayChart(vegaEmbed);\n",
       "    } else {\n",
       "      loadScript(\"vega\")\n",
       "        .then(() => loadScript(\"vega-lite\"))\n",
       "        .then(() => loadScript(\"vega-embed\"))\n",
       "        .catch(showError)\n",
       "        .then(() => displayChart(vegaEmbed));\n",
       "    }\n",
       "  })({\"config\": {\"axisLeft\": {\"labelFontSize\": 15}, \"axisBottom\": {\"labelFontSize\": 15}}, \"data\": {\"name\": \"data-2ce85c5234f2d9f958de7f0c95a16af9\"}, \"mark\": \"bar\", \"encoding\": {\"color\": {\"type\": \"nominal\", \"field\": \"authorAssociation\", \"scale\": {\"domain\": [\"MEMBER\", \"CONTRIBUTOR\", \"COLLABORATOR\", \"NONE\"], \"range\": [\"rgb(211.82745098039214, 211.82745098039214, 211.82745098039214)\", \"rgb(166.98562091503268, 229.89803921568628, 166.98562091503268)\", \"rgb(96.37647058823529, 192.75294117647059, 96.37647058823529)\", \"rgb(0.0, 100.3921568627451, 0.0)\"]}}, \"x\": {\"type\": \"nominal\", \"field\": \"author\"}, \"y\": {\"type\": \"quantitative\", \"field\": \"n_first_responses\"}}, \"title\": \"Top 50 first responders for ipython in the last 60 days\", \"$schema\": \"https://vega.github.io/schema/vega-lite/v4.8.1.json\", \"datasets\": {\"data-2ce85c5234f2d9f958de7f0c95a16af9\": [{\"author\": \"Carreau\", \"n_first_responses\": 52, \"authorAssociation\": \"MEMBER\"}, {\"author\": \"minrk\", \"n_first_responses\": 4, \"authorAssociation\": \"MEMBER\"}, {\"author\": \"jetpacktuxedo\", \"n_first_responses\": 4, \"authorAssociation\": \"CONTRIBUTOR\"}, {\"author\": \"farisachugthai\", \"n_first_responses\": 3, \"authorAssociation\": \"CONTRIBUTOR\"}, {\"author\": \"rmorshea\", \"n_first_responses\": 3, \"authorAssociation\": \"COLLABORATOR\"}, {\"author\": \"mskar\", \"n_first_responses\": 2, \"authorAssociation\": \"NONE\"}, {\"author\": \"OdinTech3\", \"n_first_responses\": 2, \"authorAssociation\": \"CONTRIBUTOR\"}, {\"author\": \"ashwinvis\", \"n_first_responses\": 2, \"authorAssociation\": \"CONTRIBUTOR\"}, {\"author\": \"szarroug3\", \"n_first_responses\": 2, \"authorAssociation\": \"NONE\"}, {\"author\": \"davbrito\", \"n_first_responses\": 2, \"authorAssociation\": \"NONE\"}, {\"author\": \"miguelcard\", \"n_first_responses\": 1, \"authorAssociation\": \"NONE\"}, {\"author\": \"yhiraki\", \"n_first_responses\": 1, \"authorAssociation\": \"NONE\"}, {\"author\": \"jnahmias\", \"n_first_responses\": 1, \"authorAssociation\": \"NONE\"}, {\"author\": \"williamsmj\", \"n_first_responses\": 1, \"authorAssociation\": \"NONE\"}, {\"author\": \"jpavlav\", \"n_first_responses\": 1, \"authorAssociation\": \"CONTRIBUTOR\"}, {\"author\": \"martinRenou\", \"n_first_responses\": 1, \"authorAssociation\": \"CONTRIBUTOR\"}, {\"author\": \"meeseeksdev\", \"n_first_responses\": 1, \"authorAssociation\": \"CONTRIBUTOR\"}, {\"author\": \"terrdavis\", \"n_first_responses\": 1, \"authorAssociation\": \"CONTRIBUTOR\"}, {\"author\": \"urianchang\", \"n_first_responses\": 1, \"authorAssociation\": \"NONE\"}, {\"author\": \"rahulporuri\", \"n_first_responses\": 1, \"authorAssociation\": \"CONTRIBUTOR\"}, {\"author\": \"huytrvan\", \"n_first_responses\": 1, \"authorAssociation\": \"NONE\"}, {\"author\": \"romulofff\", \"n_first_responses\": 1, \"authorAssociation\": \"CONTRIBUTOR\"}, {\"author\": \"scarlehoff\", \"n_first_responses\": 1, \"authorAssociation\": \"CONTRIBUTOR\"}, {\"author\": \"slel\", \"n_first_responses\": 1, \"authorAssociation\": \"CONTRIBUTOR\"}, {\"author\": \"sumagnadas\", \"n_first_responses\": 1, \"authorAssociation\": \"NONE\"}, {\"author\": \"infokiller\", \"n_first_responses\": 1, \"authorAssociation\": \"NONE\"}, {\"author\": \"ghostcodekc\", \"n_first_responses\": 1, \"authorAssociation\": \"NONE\"}, {\"author\": \"guybortnikov\", \"n_first_responses\": 1, \"authorAssociation\": \"NONE\"}, {\"author\": \"girip11\", \"n_first_responses\": 1, \"authorAssociation\": \"NONE\"}, {\"author\": \"Creonalia\", \"n_first_responses\": 1, \"authorAssociation\": \"NONE\"}, {\"author\": \"Crypto-Spartan\", \"n_first_responses\": 1, \"authorAssociation\": \"NONE\"}, {\"author\": \"DrJackilD\", \"n_first_responses\": 1, \"authorAssociation\": \"NONE\"}, {\"author\": \"GenevieveBuckley\", \"n_first_responses\": 1, \"authorAssociation\": \"NONE\"}, {\"author\": \"IlnarSelimcan\", \"n_first_responses\": 1, \"authorAssociation\": \"NONE\"}, {\"author\": \"Inception95\", \"n_first_responses\": 1, \"authorAssociation\": \"CONTRIBUTOR\"}, {\"author\": \"MrMino\", \"n_first_responses\": 1, \"authorAssociation\": \"CONTRIBUTOR\"}, {\"author\": \"Qwerty-1331\", \"n_first_responses\": 1, \"authorAssociation\": \"NONE\"}, {\"author\": \"SnarkBoojum\", \"n_first_responses\": 1, \"authorAssociation\": \"NONE\"}, {\"author\": \"baogianghoangvu\", \"n_first_responses\": 1, \"authorAssociation\": \"CONTRIBUTOR\"}, {\"author\": \"blazespinnaker\", \"n_first_responses\": 1, \"authorAssociation\": \"NONE\"}, {\"author\": \"ccordoba12\", \"n_first_responses\": 1, \"authorAssociation\": \"MEMBER\"}, {\"author\": \"deep-jkl\", \"n_first_responses\": 1, \"authorAssociation\": \"CONTRIBUTOR\"}, {\"author\": \"dhirschfeld\", \"n_first_responses\": 1, \"authorAssociation\": \"CONTRIBUTOR\"}, {\"author\": \"digitalvirtuoso\", \"n_first_responses\": 1, \"authorAssociation\": \"CONTRIBUTOR\"}, {\"author\": \"dummy-index\", \"n_first_responses\": 1, \"authorAssociation\": \"NONE\"}, {\"author\": \"edmenendez\", \"n_first_responses\": 1, \"authorAssociation\": \"NONE\"}, {\"author\": \"flying-sheep\", \"n_first_responses\": 1, \"authorAssociation\": \"CONTRIBUTOR\"}, {\"author\": \"ChiefsBestPal\", \"n_first_responses\": 1, \"authorAssociation\": \"NONE\"}, {\"author\": \"ylive001\", \"n_first_responses\": 1, \"authorAssociation\": \"NONE\"}]}}, {\"mode\": \"vega-lite\"});\n",
       "</script>"
      ],
      "text/plain": [
       "alt.Chart(...)"
      ]
     },
     "execution_count": 24,
     "metadata": {},
     "output_type": "execute_result"
    }
   ],
   "source": [
    "n_plot = 50\n",
    "\n",
    "title = f\"Top {n_plot} first responders for {github_org} in the last {n_days} days\"\n",
    "idata = first_responder_counts.groupby('author', as_index=False).agg({'n_first_responses': 'sum', 'authorAssociation': 'first'})\n",
    "idata = idata.sort_values('n_first_responses', ascending=False).head(n_plot)\n",
    "ch = alt.Chart(data=idata.head(n_plot), title=title).mark_bar().encode(\n",
    "    x='author',\n",
    "    y='n_first_responses',\n",
    "    color=alt.Color('authorAssociation', scale=alt.Scale(domain=author_types, range=author_colors))\n",
    ")\n",
    "ch"
   ]
  },
  {
   "cell_type": "markdown",
   "metadata": {
    "papermill": {
     "duration": 0.04933,
     "end_time": "2020-11-15T01:19:41.477896",
     "exception": false,
     "start_time": "2020-11-15T01:19:41.428566",
     "status": "completed"
    },
    "tags": []
   },
   "source": [
    "## Recent activity\n",
    "\n",
    "### A list of merged PRs by project\n",
    "\n",
    "Below is a tabbed readout of recently-merged PRs. Check out the title to get an idea for what they\n",
    "implemented, and be sure to thank the PR author for their hard work!"
   ]
  },
  {
   "cell_type": "code",
   "execution_count": 25,
   "metadata": {
    "execution": {
     "iopub.execute_input": "2020-11-15T01:19:41.583800Z",
     "iopub.status.busy": "2020-11-15T01:19:41.574042Z",
     "iopub.status.idle": "2020-11-15T01:19:41.706070Z",
     "shell.execute_reply": "2020-11-15T01:19:41.697350Z"
    },
    "papermill": {
     "duration": 0.185044,
     "end_time": "2020-11-15T01:19:41.706241",
     "exception": false,
     "start_time": "2020-11-15T01:19:41.521197",
     "status": "completed"
    },
    "tags": [
     "hide_input"
    ]
   },
   "outputs": [
    {
     "data": {
      "application/vnd.jupyter.widget-view+json": {
       "model_id": "ec6a083a7fb84b39aa822b90ff374a74",
       "version_major": 2,
       "version_minor": 0
      },
      "text/plain": [
       "Tab(children=(HTML(value='<h4>Closed PRs for repo: <a href=\"https://github.com/ipython/ipykernel\">ipython/ipyk…"
      ]
     },
     "metadata": {},
     "output_type": "display_data"
    }
   ],
   "source": [
    "tabs = widgets.Tab(children=[])\n",
    "\n",
    "for ii, ((org, repo), imerged) in enumerate(merged.query(\"repo in @use_repos\").groupby(['org', 'repo'])):\n",
    "    merged_by = {}\n",
    "    pr_by = {}\n",
    "    issue_md = []\n",
    "    issue_md.append(f\"#### Closed PRs for repo: [{org}/{repo}](https://github.com/{github_org}/{repo})\")\n",
    "    issue_md.append(\"\")\n",
    "    issue_md.append(f\"##### \")\n",
    "\n",
    "    for _, ipr in imerged.iterrows():\n",
    "        user_name = ipr['author']\n",
    "        user_url = author_url(user_name)\n",
    "        pr_number = ipr['number']\n",
    "        pr_html = ipr['url']\n",
    "        pr_title = ipr['title']\n",
    "        pr_closedby = ipr['mergedBy']\n",
    "        pr_closedby_url = f\"https://github.com/{pr_closedby}\"\n",
    "        if user_name not in pr_by:\n",
    "            pr_by[user_name] = 1\n",
    "        else:\n",
    "            pr_by[user_name] += 1\n",
    "\n",
    "        if pr_closedby not in merged_by:\n",
    "            merged_by[pr_closedby] = 1\n",
    "        else:\n",
    "            merged_by[pr_closedby] += 1\n",
    "        text = f\"* [(#{pr_number})]({pr_html}): _{pr_title}_ by **[@{user_name}]({user_url})** merged by **[@{pr_closedby}]({pr_closedby_url})**\"\n",
    "        issue_md.append(text)\n",
    "    \n",
    "    issue_md.append('')\n",
    "    markdown_html = markdown('\\n'.join(issue_md))\n",
    "\n",
    "    children = list(tabs.children)\n",
    "    children.append(HTML(markdown_html))\n",
    "    tabs.children = tuple(children)\n",
    "    tabs.set_title(ii, repo)\n",
    "tabs"
   ]
  },
  {
   "cell_type": "markdown",
   "metadata": {
    "papermill": {
     "duration": 0.052138,
     "end_time": "2020-11-15T01:19:41.808706",
     "exception": false,
     "start_time": "2020-11-15T01:19:41.756568",
     "status": "completed"
    },
    "tags": []
   },
   "source": [
    "### A list of recent issues\n",
    "\n",
    "Below is a list of issues with recent activity in each repository. If they seem of interest\n",
    "to you, click on their links and jump in to participate!"
   ]
  },
  {
   "cell_type": "code",
   "execution_count": 26,
   "metadata": {
    "execution": {
     "iopub.execute_input": "2020-11-15T01:19:41.919085Z",
     "iopub.status.busy": "2020-11-15T01:19:41.918412Z",
     "iopub.status.idle": "2020-11-15T01:19:41.925362Z",
     "shell.execute_reply": "2020-11-15T01:19:41.925894Z"
    },
    "papermill": {
     "duration": 0.066296,
     "end_time": "2020-11-15T01:19:41.926078",
     "exception": false,
     "start_time": "2020-11-15T01:19:41.859782",
     "status": "completed"
    },
    "tags": [
     "remove_cell"
    ]
   },
   "outputs": [],
   "source": [
    "# Add comment count data to issues and PRs\n",
    "comment_counts = (\n",
    "    comments\n",
    "    .query(\"createdAt > @start_date and createdAt < @stop_date\")\n",
    "    .groupby(['org', 'repo', 'id'])\n",
    "    .count().iloc[:, 0].to_frame()\n",
    ")\n",
    "comment_counts.columns = ['n_comments']\n",
    "comment_counts = comment_counts.reset_index()"
   ]
  },
  {
   "cell_type": "code",
   "execution_count": 27,
   "metadata": {
    "execution": {
     "iopub.execute_input": "2020-11-15T01:19:42.043789Z",
     "iopub.status.busy": "2020-11-15T01:19:42.043127Z",
     "iopub.status.idle": "2020-11-15T01:19:42.266604Z",
     "shell.execute_reply": "2020-11-15T01:19:42.244085Z"
    },
    "papermill": {
     "duration": 0.294383,
     "end_time": "2020-11-15T01:19:42.266757",
     "exception": false,
     "start_time": "2020-11-15T01:19:41.972374",
     "status": "completed"
    },
    "tags": [
     "hide_input"
    ],
    "toc-hr-collapsed": false
   },
   "outputs": [
    {
     "data": {
      "text/markdown": [
       "Here are the top 5 active issues in each repository in the last 60 days"
      ],
      "text/plain": [
       "<IPython.core.display.Markdown object>"
      ]
     },
     "metadata": {},
     "output_type": "display_data"
    },
    {
     "data": {
      "application/vnd.jupyter.widget-view+json": {
       "model_id": "4a053798636442aba89e483a4175f5f7",
       "version_major": 2,
       "version_minor": 0
      },
      "text/plain": [
       "Tab(children=(HTML(value='<h5><a href=\"https://github.com/ipython/ipykernel\">ipython/ipykernel</a></h5>\\n<ul>\\…"
      ]
     },
     "metadata": {},
     "output_type": "display_data"
    }
   ],
   "source": [
    "n_plot = 5\n",
    "tabs = widgets.Tab(children=[])\n",
    "\n",
    "for ii, (repo, i_issues) in enumerate(comment_counts.query(\"repo in @use_repos\").groupby('repo')):\n",
    "    \n",
    "    issue_md = []\n",
    "    issue_md.append(\"\")\n",
    "    issue_md.append(f\"##### [{github_org}/{repo}](https://github.com/{github_org}/{repo})\")\n",
    "\n",
    "    top_issues = i_issues.sort_values('n_comments', ascending=False).head(n_plot)\n",
    "    top_issue_list = pd.merge(issues, top_issues, left_on=['org', 'repo', 'id'], right_on=['org', 'repo', 'id'])\n",
    "    for _, issue in top_issue_list.sort_values('n_comments', ascending=False).head(n_plot).iterrows():\n",
    "        user_name = issue['author']\n",
    "        user_url = author_url(user_name)\n",
    "        issue_number = issue['number']\n",
    "        issue_html = issue['url']\n",
    "        issue_title = issue['title']\n",
    "\n",
    "        text = f\"* [(#{issue_number})]({issue_html}): _{issue_title}_ by **[@{user_name}]({user_url})**\"\n",
    "        issue_md.append(text)\n",
    "\n",
    "    issue_md.append('')\n",
    "    md_html = HTML(markdown('\\n'.join(issue_md)))\n",
    "\n",
    "    children = list(tabs.children)\n",
    "    children.append(HTML(markdown('\\n'.join(issue_md))))\n",
    "    tabs.children = tuple(children)\n",
    "    tabs.set_title(ii, repo)\n",
    "    \n",
    "display(Markdown(f\"Here are the top {n_plot} active issues in each repository in the last {n_days} days\"))\n",
    "display(tabs)"
   ]
  }
 ],
 "metadata": {
  "kernelspec": {
   "display_name": "Python 3",
   "language": "python",
   "name": "python3"
  },
  "language_info": {
   "codemirror_mode": {
    "name": "ipython",
    "version": 3
   },
   "file_extension": ".py",
   "mimetype": "text/x-python",
   "name": "python",
   "nbconvert_exporter": "python",
   "pygments_lexer": "ipython3",
   "version": "3.7.9"
  },
  "papermill": {
   "default_parameters": {},
   "duration": 20.692417,
   "end_time": "2020-11-15T01:19:42.717804",
   "environment_variables": {},
   "exception": null,
   "input_path": "./template.ipynb",
   "output_path": "book/ipython.ipynb",
   "parameters": {
    "github_org": "ipython",
    "n_days": 60
   },
   "start_time": "2020-11-15T01:19:22.025387",
   "version": "2.2.2"
  },
  "widgets": {
   "application/vnd.jupyter.widget-state+json": {
    "state": {
     "027107a4ad244ca3b6427487f6ab461d": {
      "model_module": "@jupyter-widgets/controls",
      "model_module_version": "1.5.0",
      "model_name": "HTMLModel",
      "state": {
       "_dom_classes": [],
       "_model_module": "@jupyter-widgets/controls",
       "_model_module_version": "1.5.0",
       "_model_name": "HTMLModel",
       "_view_count": null,
       "_view_module": "@jupyter-widgets/controls",
       "_view_module_version": "1.5.0",
       "_view_name": "HTMLView",
       "description": "",
       "description_tooltip": null,
       "layout": "IPY_MODEL_a22afcb7d0ed4f549195a91b12345527",
       "placeholder": "​",
       "style": "IPY_MODEL_0b9934ce740d494b8766129e32d63a54",
       "value": "<h5><a href=\"https://github.com/ipython/ipykernel\">ipython/ipykernel</a></h5>\n<ul>\n<li><a href=\"https://github.com/ipython/ipykernel/issues/548\">(#548)</a>: <em>ipykernel disallows jupyter user to create/attach to event loop</em> by <strong><a href=\"https://github.com/ddelange\">@ddelange</a></strong></li>\n<li><a href=\"https://github.com/ipython/ipykernel/issues/549\">(#549)</a>: <em>AttributeError: module 'pickle' has no attribute 'DEFAULT_PROTOCOL'</em> by <strong><a href=\"https://github.com/johentsch\">@johentsch</a></strong></li>\n<li><a href=\"https://github.com/ipython/ipykernel/issues/559\">(#559)</a>: <em>Cannot restart and run all cells in notebooks with %gui qt magic</em> by <strong><a href=\"https://github.com/GenevieveBuckley\">@GenevieveBuckley</a></strong></li>\n<li><a href=\"https://github.com/ipython/ipykernel/issues/558\">(#558)</a>: <em>javascript to python communication not working properly when \"Run All\" cells</em> by <strong><a href=\"https://github.com/Crypto-Spartan\">@Crypto-Spartan</a></strong></li>\n<li><a href=\"https://github.com/ipython/ipykernel/issues/555\">(#555)</a>: <em>Possibility of replacing tornado coroutines with native coroutines.</em> by <strong><a href=\"https://github.com/rahulporuri\">@rahulporuri</a></strong></li>\n</ul>"
      }
     },
     "05bc529651b147ab8de5a4f449271310": {
      "model_module": "@jupyter-widgets/controls",
      "model_module_version": "1.5.0",
      "model_name": "HTMLModel",
      "state": {
       "_dom_classes": [],
       "_model_module": "@jupyter-widgets/controls",
       "_model_module_version": "1.5.0",
       "_model_name": "HTMLModel",
       "_view_count": null,
       "_view_module": "@jupyter-widgets/controls",
       "_view_module_version": "1.5.0",
       "_view_name": "HTMLView",
       "description": "",
       "description_tooltip": null,
       "layout": "IPY_MODEL_d6c244fddde542708855bbef165a074d",
       "placeholder": "​",
       "style": "IPY_MODEL_252b58cc6ea64d2d8afd086a70787720",
       "value": "<h5><a href=\"https://github.com/ipython/ipython-website\">ipython/ipython-website</a></h5>"
      }
     },
     "090b61eee6c746acb64a96216504ee28": {
      "model_module": "@jupyter-widgets/controls",
      "model_module_version": "1.5.0",
      "model_name": "ProgressStyleModel",
      "state": {
       "_model_module": "@jupyter-widgets/controls",
       "_model_module_version": "1.5.0",
       "_model_name": "ProgressStyleModel",
       "_view_count": null,
       "_view_module": "@jupyter-widgets/base",
       "_view_module_version": "1.2.0",
       "_view_name": "StyleView",
       "bar_color": null,
       "description_width": ""
      }
     },
     "0a40eee4841d4c918dafd3eff2877d89": {
      "model_module": "@jupyter-widgets/controls",
      "model_module_version": "1.5.0",
      "model_name": "HTMLModel",
      "state": {
       "_dom_classes": [],
       "_model_module": "@jupyter-widgets/controls",
       "_model_module_version": "1.5.0",
       "_model_name": "HTMLModel",
       "_view_count": null,
       "_view_module": "@jupyter-widgets/controls",
       "_view_module_version": "1.5.0",
       "_view_name": "HTMLView",
       "description": "",
       "description_tooltip": null,
       "layout": "IPY_MODEL_11ffde5d9fa345c0adf874936c3b8901",
       "placeholder": "​",
       "style": "IPY_MODEL_5836ab29ded246f1b0119d334f8bd1e7",
       "value": "<h5><a href=\"https://github.com/ipython/xkcd-font\">ipython/xkcd-font</a></h5>\n<ul>\n<li><a href=\"https://github.com/ipython/xkcd-font/issues/33\">(#33)</a>: <em>Support for Tatar</em> by <strong><a href=\"https://github.com/ftyers\">@ftyers</a></strong></li>\n</ul>"
      }
     },
     "0b9934ce740d494b8766129e32d63a54": {
      "model_module": "@jupyter-widgets/controls",
      "model_module_version": "1.5.0",
      "model_name": "DescriptionStyleModel",
      "state": {
       "_model_module": "@jupyter-widgets/controls",
       "_model_module_version": "1.5.0",
       "_model_name": "DescriptionStyleModel",
       "_view_count": null,
       "_view_module": "@jupyter-widgets/base",
       "_view_module_version": "1.2.0",
       "_view_name": "StyleView",
       "description_width": ""
      }
     },
     "0baace6b81504d88aadeb62c5db29a31": {
      "model_module": "@jupyter-widgets/controls",
      "model_module_version": "1.5.0",
      "model_name": "DescriptionStyleModel",
      "state": {
       "_model_module": "@jupyter-widgets/controls",
       "_model_module_version": "1.5.0",
       "_model_name": "DescriptionStyleModel",
       "_view_count": null,
       "_view_module": "@jupyter-widgets/base",
       "_view_module_version": "1.2.0",
       "_view_name": "StyleView",
       "description_width": ""
      }
     },
     "11ffde5d9fa345c0adf874936c3b8901": {
      "model_module": "@jupyter-widgets/base",
      "model_module_version": "1.2.0",
      "model_name": "LayoutModel",
      "state": {
       "_model_module": "@jupyter-widgets/base",
       "_model_module_version": "1.2.0",
       "_model_name": "LayoutModel",
       "_view_count": null,
       "_view_module": "@jupyter-widgets/base",
       "_view_module_version": "1.2.0",
       "_view_name": "LayoutView",
       "align_content": null,
       "align_items": null,
       "align_self": null,
       "border": null,
       "bottom": null,
       "display": null,
       "flex": null,
       "flex_flow": null,
       "grid_area": null,
       "grid_auto_columns": null,
       "grid_auto_flow": null,
       "grid_auto_rows": null,
       "grid_column": null,
       "grid_gap": null,
       "grid_row": null,
       "grid_template_areas": null,
       "grid_template_columns": null,
       "grid_template_rows": null,
       "height": null,
       "justify_content": null,
       "justify_items": null,
       "left": null,
       "margin": null,
       "max_height": null,
       "max_width": null,
       "min_height": null,
       "min_width": null,
       "object_fit": null,
       "object_position": null,
       "order": null,
       "overflow": null,
       "overflow_x": null,
       "overflow_y": null,
       "padding": null,
       "right": null,
       "top": null,
       "visibility": null,
       "width": null
      }
     },
     "1c31fb4a9b91437c8788379ba03ed3e5": {
      "model_module": "@jupyter-widgets/controls",
      "model_module_version": "1.5.0",
      "model_name": "DescriptionStyleModel",
      "state": {
       "_model_module": "@jupyter-widgets/controls",
       "_model_module_version": "1.5.0",
       "_model_name": "DescriptionStyleModel",
       "_view_count": null,
       "_view_module": "@jupyter-widgets/base",
       "_view_module_version": "1.2.0",
       "_view_name": "StyleView",
       "description_width": ""
      }
     },
     "1ee815702a9545a19b8691101e4752a8": {
      "model_module": "@jupyter-widgets/controls",
      "model_module_version": "1.5.0",
      "model_name": "DescriptionStyleModel",
      "state": {
       "_model_module": "@jupyter-widgets/controls",
       "_model_module_version": "1.5.0",
       "_model_name": "DescriptionStyleModel",
       "_view_count": null,
       "_view_module": "@jupyter-widgets/base",
       "_view_module_version": "1.2.0",
       "_view_name": "StyleView",
       "description_width": ""
      }
     },
     "252b58cc6ea64d2d8afd086a70787720": {
      "model_module": "@jupyter-widgets/controls",
      "model_module_version": "1.5.0",
      "model_name": "DescriptionStyleModel",
      "state": {
       "_model_module": "@jupyter-widgets/controls",
       "_model_module_version": "1.5.0",
       "_model_name": "DescriptionStyleModel",
       "_view_count": null,
       "_view_module": "@jupyter-widgets/base",
       "_view_module_version": "1.2.0",
       "_view_name": "StyleView",
       "description_width": ""
      }
     },
     "284d24410bc74904bb27a084fb7ff5f0": {
      "model_module": "@jupyter-widgets/base",
      "model_module_version": "1.2.0",
      "model_name": "LayoutModel",
      "state": {
       "_model_module": "@jupyter-widgets/base",
       "_model_module_version": "1.2.0",
       "_model_name": "LayoutModel",
       "_view_count": null,
       "_view_module": "@jupyter-widgets/base",
       "_view_module_version": "1.2.0",
       "_view_name": "LayoutView",
       "align_content": null,
       "align_items": null,
       "align_self": null,
       "border": null,
       "bottom": null,
       "display": null,
       "flex": null,
       "flex_flow": null,
       "grid_area": null,
       "grid_auto_columns": null,
       "grid_auto_flow": null,
       "grid_auto_rows": null,
       "grid_column": null,
       "grid_gap": null,
       "grid_row": null,
       "grid_template_areas": null,
       "grid_template_columns": null,
       "grid_template_rows": null,
       "height": null,
       "justify_content": null,
       "justify_items": null,
       "left": null,
       "margin": null,
       "max_height": null,
       "max_width": null,
       "min_height": null,
       "min_width": null,
       "object_fit": null,
       "object_position": null,
       "order": null,
       "overflow": null,
       "overflow_x": null,
       "overflow_y": null,
       "padding": null,
       "right": null,
       "top": null,
       "visibility": null,
       "width": null
      }
     },
     "2afe61930c084d7998505c7e6a98bd58": {
      "model_module": "@jupyter-widgets/controls",
      "model_module_version": "1.5.0",
      "model_name": "DescriptionStyleModel",
      "state": {
       "_model_module": "@jupyter-widgets/controls",
       "_model_module_version": "1.5.0",
       "_model_name": "DescriptionStyleModel",
       "_view_count": null,
       "_view_module": "@jupyter-widgets/base",
       "_view_module_version": "1.2.0",
       "_view_name": "StyleView",
       "description_width": ""
      }
     },
     "3213f5627c854868a46ee46fb6de04d2": {
      "model_module": "@jupyter-widgets/base",
      "model_module_version": "1.2.0",
      "model_name": "LayoutModel",
      "state": {
       "_model_module": "@jupyter-widgets/base",
       "_model_module_version": "1.2.0",
       "_model_name": "LayoutModel",
       "_view_count": null,
       "_view_module": "@jupyter-widgets/base",
       "_view_module_version": "1.2.0",
       "_view_name": "LayoutView",
       "align_content": null,
       "align_items": null,
       "align_self": null,
       "border": null,
       "bottom": null,
       "display": null,
       "flex": null,
       "flex_flow": null,
       "grid_area": null,
       "grid_auto_columns": null,
       "grid_auto_flow": null,
       "grid_auto_rows": null,
       "grid_column": null,
       "grid_gap": null,
       "grid_row": null,
       "grid_template_areas": null,
       "grid_template_columns": null,
       "grid_template_rows": null,
       "height": null,
       "justify_content": null,
       "justify_items": null,
       "left": null,
       "margin": null,
       "max_height": null,
       "max_width": null,
       "min_height": null,
       "min_width": null,
       "object_fit": null,
       "object_position": null,
       "order": null,
       "overflow": null,
       "overflow_x": null,
       "overflow_y": null,
       "padding": null,
       "right": null,
       "top": null,
       "visibility": null,
       "width": null
      }
     },
     "3647b8f029184dd6b4ac12e4af9453cd": {
      "model_module": "@jupyter-widgets/controls",
      "model_module_version": "1.5.0",
      "model_name": "DescriptionStyleModel",
      "state": {
       "_model_module": "@jupyter-widgets/controls",
       "_model_module_version": "1.5.0",
       "_model_name": "DescriptionStyleModel",
       "_view_count": null,
       "_view_module": "@jupyter-widgets/base",
       "_view_module_version": "1.2.0",
       "_view_name": "StyleView",
       "description_width": ""
      }
     },
     "3afd95020d7c4aab8cb07421ce700921": {
      "model_module": "@jupyter-widgets/controls",
      "model_module_version": "1.5.0",
      "model_name": "HTMLModel",
      "state": {
       "_dom_classes": [],
       "_model_module": "@jupyter-widgets/controls",
       "_model_module_version": "1.5.0",
       "_model_name": "HTMLModel",
       "_view_count": null,
       "_view_module": "@jupyter-widgets/controls",
       "_view_module_version": "1.5.0",
       "_view_name": "HTMLView",
       "description": "",
       "description_tooltip": null,
       "layout": "IPY_MODEL_7c17c81b1239482c9ee02dacc90a8341",
       "placeholder": "​",
       "style": "IPY_MODEL_c9bc8ea690e54b32b1ce4e42584fda0d",
       "value": "<h4>Closed PRs for repo: <a href=\"https://github.com/ipython/traitlets\">ipython/traitlets</a></h4>\n<h5></h5>\n<ul>\n<li><a href=\"https://github.com/ipython/traitlets/pull/634\">(#634)</a>: <em>improve backward-compatibility for Container subclasses with default_value=None</em> by <strong><a href=\"https://github.com/minrk\">@minrk</a></strong> merged by <strong><a href=\"https://github.com/minrk\">@minrk</a></strong></li>\n<li><a href=\"https://github.com/ipython/traitlets/pull/633\">(#633)</a>: <em>Fix error configuring nested tuple</em> by <strong><a href=\"https://github.com/zazezizozu\">@zazezizozu</a></strong> merged by <strong><a href=\"https://github.com/minrk\">@minrk</a></strong></li>\n<li><a href=\"https://github.com/ipython/traitlets/pull/632\">(#632)</a>: <em>Fix aliases for values deeper in the hierarchy, fixes 631</em> by <strong><a href=\"https://github.com/maxnoe\">@maxnoe</a></strong> merged by <strong><a href=\"https://github.com/minrk\">@minrk</a></strong></li>\n<li><a href=\"https://github.com/ipython/traitlets/pull/630\">(#630)</a>: <em>handle default_value=None in Container traits</em> by <strong><a href=\"https://github.com/minrk\">@minrk</a></strong> merged by <strong><a href=\"https://github.com/minrk\">@minrk</a></strong></li>\n<li><a href=\"https://github.com/ipython/traitlets/pull/629\">(#629)</a>: <em>Fix deprecated from_string for Set, Tuple</em> by <strong><a href=\"https://github.com/minrk\">@minrk</a></strong> merged by <strong><a href=\"https://github.com/minrk\">@minrk</a></strong></li>\n<li><a href=\"https://github.com/ipython/traitlets/pull/623\">(#623)</a>: <em>closes: #622</em> by <strong><a href=\"https://github.com/rmorshea\">@rmorshea</a></strong> merged by <strong><a href=\"https://github.com/Carreau\">@Carreau</a></strong></li>\n</ul>"
      }
     },
     "3cbab4c703254fc3bbf589920bc0fda2": {
      "model_module": "@jupyter-widgets/controls",
      "model_module_version": "1.5.0",
      "model_name": "HTMLModel",
      "state": {
       "_dom_classes": [],
       "_model_module": "@jupyter-widgets/controls",
       "_model_module_version": "1.5.0",
       "_model_name": "HTMLModel",
       "_view_count": null,
       "_view_module": "@jupyter-widgets/controls",
       "_view_module_version": "1.5.0",
       "_view_name": "HTMLView",
       "description": "",
       "description_tooltip": null,
       "layout": "IPY_MODEL_dbee80d66e0d4856863b0ebc21b7c874",
       "placeholder": "​",
       "style": "IPY_MODEL_e411c59621234658a4c5b74e89622ebe",
       "value": "<h4>Closed PRs for repo: <a href=\"https://github.com/ipython/ipython-in-depth\">ipython/ipython-in-depth</a></h4>\n<h5></h5>\n<ul>\n<li><a href=\"https://github.com/ipython/ipython-in-depth/pull/71\">(#71)</a>: <em>SOme word should be capital</em> by <strong><a href=\"https://github.com/RoyNancy\">@RoyNancy</a></strong> merged by <strong><a href=\"https://github.com/Carreau\">@Carreau</a></strong></li>\n</ul>"
      }
     },
     "49abd7188ae74cdf9b3874d98ffec3a3": {
      "model_module": "@jupyter-widgets/base",
      "model_module_version": "1.2.0",
      "model_name": "LayoutModel",
      "state": {
       "_model_module": "@jupyter-widgets/base",
       "_model_module_version": "1.2.0",
       "_model_name": "LayoutModel",
       "_view_count": null,
       "_view_module": "@jupyter-widgets/base",
       "_view_module_version": "1.2.0",
       "_view_name": "LayoutView",
       "align_content": null,
       "align_items": null,
       "align_self": null,
       "border": null,
       "bottom": null,
       "display": null,
       "flex": null,
       "flex_flow": null,
       "grid_area": null,
       "grid_auto_columns": null,
       "grid_auto_flow": null,
       "grid_auto_rows": null,
       "grid_column": null,
       "grid_gap": null,
       "grid_row": null,
       "grid_template_areas": null,
       "grid_template_columns": null,
       "grid_template_rows": null,
       "height": null,
       "justify_content": null,
       "justify_items": null,
       "left": null,
       "margin": null,
       "max_height": null,
       "max_width": null,
       "min_height": null,
       "min_width": null,
       "object_fit": null,
       "object_position": null,
       "order": null,
       "overflow": null,
       "overflow_x": null,
       "overflow_y": null,
       "padding": null,
       "right": null,
       "top": null,
       "visibility": null,
       "width": null
      }
     },
     "4a053798636442aba89e483a4175f5f7": {
      "model_module": "@jupyter-widgets/controls",
      "model_module_version": "1.5.0",
      "model_name": "TabModel",
      "state": {
       "_dom_classes": [],
       "_model_module": "@jupyter-widgets/controls",
       "_model_module_version": "1.5.0",
       "_model_name": "TabModel",
       "_titles": {
        "0": "ipykernel",
        "1": "ipyparallel",
        "2": "ipython",
        "3": "ipython-in-depth",
        "4": "ipython-website",
        "5": "ipython_genutils",
        "6": "traitlets",
        "7": "xkcd-font"
       },
       "_view_count": null,
       "_view_module": "@jupyter-widgets/controls",
       "_view_module_version": "1.5.0",
       "_view_name": "TabView",
       "box_style": "",
       "children": [
        "IPY_MODEL_027107a4ad244ca3b6427487f6ab461d",
        "IPY_MODEL_99328b2600124814bf277cee20c36577",
        "IPY_MODEL_8a206222f3f444c3ac92f79139862d66",
        "IPY_MODEL_b029cc0bd4bb4b37907b117a42dc10fe",
        "IPY_MODEL_97e6a17dba014784b2b8d2336524d756",
        "IPY_MODEL_c8e464eeab544fd98f500577f3bf9a4b",
        "IPY_MODEL_a2b66e202c534d22a6a0b959ae86513f",
        "IPY_MODEL_0a40eee4841d4c918dafd3eff2877d89"
       ],
       "layout": "IPY_MODEL_4b079746b86f4e85851c282b371e4f9a",
       "selected_index": 0
      }
     },
     "4b079746b86f4e85851c282b371e4f9a": {
      "model_module": "@jupyter-widgets/base",
      "model_module_version": "1.2.0",
      "model_name": "LayoutModel",
      "state": {
       "_model_module": "@jupyter-widgets/base",
       "_model_module_version": "1.2.0",
       "_model_name": "LayoutModel",
       "_view_count": null,
       "_view_module": "@jupyter-widgets/base",
       "_view_module_version": "1.2.0",
       "_view_name": "LayoutView",
       "align_content": null,
       "align_items": null,
       "align_self": null,
       "border": null,
       "bottom": null,
       "display": null,
       "flex": null,
       "flex_flow": null,
       "grid_area": null,
       "grid_auto_columns": null,
       "grid_auto_flow": null,
       "grid_auto_rows": null,
       "grid_column": null,
       "grid_gap": null,
       "grid_row": null,
       "grid_template_areas": null,
       "grid_template_columns": null,
       "grid_template_rows": null,
       "height": null,
       "justify_content": null,
       "justify_items": null,
       "left": null,
       "margin": null,
       "max_height": null,
       "max_width": null,
       "min_height": null,
       "min_width": null,
       "object_fit": null,
       "object_position": null,
       "order": null,
       "overflow": null,
       "overflow_x": null,
       "overflow_y": null,
       "padding": null,
       "right": null,
       "top": null,
       "visibility": null,
       "width": null
      }
     },
     "4e00aa87d2f2478b97b8f9517633ce05": {
      "model_module": "@jupyter-widgets/controls",
      "model_module_version": "1.5.0",
      "model_name": "DescriptionStyleModel",
      "state": {
       "_model_module": "@jupyter-widgets/controls",
       "_model_module_version": "1.5.0",
       "_model_name": "DescriptionStyleModel",
       "_view_count": null,
       "_view_module": "@jupyter-widgets/base",
       "_view_module_version": "1.2.0",
       "_view_name": "StyleView",
       "description_width": ""
      }
     },
     "53e741a821b34625adbb41b668600a8f": {
      "model_module": "@jupyter-widgets/controls",
      "model_module_version": "1.5.0",
      "model_name": "IntProgressModel",
      "state": {
       "_dom_classes": [],
       "_model_module": "@jupyter-widgets/controls",
       "_model_module_version": "1.5.0",
       "_model_name": "IntProgressModel",
       "_view_count": null,
       "_view_module": "@jupyter-widgets/controls",
       "_view_module_version": "1.5.0",
       "_view_name": "ProgressView",
       "bar_style": "success",
       "description": "Downloading:",
       "description_tooltip": null,
       "layout": "IPY_MODEL_752008455cdd48ff8c896e67d3a07df4",
       "max": 4,
       "min": 0,
       "orientation": "horizontal",
       "style": "IPY_MODEL_daa2c3d660df451e96eef96b8fb4d3fc",
       "value": 4
      }
     },
     "5836ab29ded246f1b0119d334f8bd1e7": {
      "model_module": "@jupyter-widgets/controls",
      "model_module_version": "1.5.0",
      "model_name": "DescriptionStyleModel",
      "state": {
       "_model_module": "@jupyter-widgets/controls",
       "_model_module_version": "1.5.0",
       "_model_name": "DescriptionStyleModel",
       "_view_count": null,
       "_view_module": "@jupyter-widgets/base",
       "_view_module_version": "1.2.0",
       "_view_name": "StyleView",
       "description_width": ""
      }
     },
     "58541a227fe14d2fbbb009aa25ff21ba": {
      "model_module": "@jupyter-widgets/base",
      "model_module_version": "1.2.0",
      "model_name": "LayoutModel",
      "state": {
       "_model_module": "@jupyter-widgets/base",
       "_model_module_version": "1.2.0",
       "_model_name": "LayoutModel",
       "_view_count": null,
       "_view_module": "@jupyter-widgets/base",
       "_view_module_version": "1.2.0",
       "_view_name": "LayoutView",
       "align_content": null,
       "align_items": null,
       "align_self": null,
       "border": null,
       "bottom": null,
       "display": null,
       "flex": null,
       "flex_flow": null,
       "grid_area": null,
       "grid_auto_columns": null,
       "grid_auto_flow": null,
       "grid_auto_rows": null,
       "grid_column": null,
       "grid_gap": null,
       "grid_row": null,
       "grid_template_areas": null,
       "grid_template_columns": null,
       "grid_template_rows": null,
       "height": null,
       "justify_content": null,
       "justify_items": null,
       "left": null,
       "margin": null,
       "max_height": null,
       "max_width": null,
       "min_height": null,
       "min_width": null,
       "object_fit": null,
       "object_position": null,
       "order": null,
       "overflow": null,
       "overflow_x": null,
       "overflow_y": null,
       "padding": null,
       "right": null,
       "top": null,
       "visibility": null,
       "width": null
      }
     },
     "5d0cbecbfd614a19b8560f1ca4b9c0cc": {
      "model_module": "@jupyter-widgets/controls",
      "model_module_version": "1.5.0",
      "model_name": "HTMLModel",
      "state": {
       "_dom_classes": [],
       "_model_module": "@jupyter-widgets/controls",
       "_model_module_version": "1.5.0",
       "_model_name": "HTMLModel",
       "_view_count": null,
       "_view_module": "@jupyter-widgets/controls",
       "_view_module_version": "1.5.0",
       "_view_name": "HTMLView",
       "description": "",
       "description_tooltip": null,
       "layout": "IPY_MODEL_7c62e09db31349af9f6f1b44daa4e466",
       "placeholder": "​",
       "style": "IPY_MODEL_c7d25116dd904d3e95c1c23940a37b9b",
       "value": "<h5><a href=\"https://github.com/ipython/ipython-in-depth\">ipython/ipython-in-depth</a></h5>"
      }
     },
     "6645e673b1c445ff9ae5931d4a1d88be": {
      "model_module": "@jupyter-widgets/base",
      "model_module_version": "1.2.0",
      "model_name": "LayoutModel",
      "state": {
       "_model_module": "@jupyter-widgets/base",
       "_model_module_version": "1.2.0",
       "_model_name": "LayoutModel",
       "_view_count": null,
       "_view_module": "@jupyter-widgets/base",
       "_view_module_version": "1.2.0",
       "_view_name": "LayoutView",
       "align_content": null,
       "align_items": null,
       "align_self": null,
       "border": null,
       "bottom": null,
       "display": null,
       "flex": null,
       "flex_flow": null,
       "grid_area": null,
       "grid_auto_columns": null,
       "grid_auto_flow": null,
       "grid_auto_rows": null,
       "grid_column": null,
       "grid_gap": null,
       "grid_row": null,
       "grid_template_areas": null,
       "grid_template_columns": null,
       "grid_template_rows": null,
       "height": null,
       "justify_content": null,
       "justify_items": null,
       "left": null,
       "margin": null,
       "max_height": null,
       "max_width": null,
       "min_height": null,
       "min_width": null,
       "object_fit": null,
       "object_position": null,
       "order": null,
       "overflow": null,
       "overflow_x": null,
       "overflow_y": null,
       "padding": null,
       "right": null,
       "top": null,
       "visibility": null,
       "width": null
      }
     },
     "6af68801fb214deab865b14a9530ec94": {
      "model_module": "@jupyter-widgets/base",
      "model_module_version": "1.2.0",
      "model_name": "LayoutModel",
      "state": {
       "_model_module": "@jupyter-widgets/base",
       "_model_module_version": "1.2.0",
       "_model_name": "LayoutModel",
       "_view_count": null,
       "_view_module": "@jupyter-widgets/base",
       "_view_module_version": "1.2.0",
       "_view_name": "LayoutView",
       "align_content": null,
       "align_items": null,
       "align_self": null,
       "border": null,
       "bottom": null,
       "display": null,
       "flex": null,
       "flex_flow": null,
       "grid_area": null,
       "grid_auto_columns": null,
       "grid_auto_flow": null,
       "grid_auto_rows": null,
       "grid_column": null,
       "grid_gap": null,
       "grid_row": null,
       "grid_template_areas": null,
       "grid_template_columns": null,
       "grid_template_rows": null,
       "height": null,
       "justify_content": null,
       "justify_items": null,
       "left": null,
       "margin": null,
       "max_height": null,
       "max_width": null,
       "min_height": null,
       "min_width": null,
       "object_fit": null,
       "object_position": null,
       "order": null,
       "overflow": null,
       "overflow_x": null,
       "overflow_y": null,
       "padding": null,
       "right": null,
       "top": null,
       "visibility": null,
       "width": null
      }
     },
     "6e2f2ed82645418d9ba5eb761316be6f": {
      "model_module": "@jupyter-widgets/base",
      "model_module_version": "1.2.0",
      "model_name": "LayoutModel",
      "state": {
       "_model_module": "@jupyter-widgets/base",
       "_model_module_version": "1.2.0",
       "_model_name": "LayoutModel",
       "_view_count": null,
       "_view_module": "@jupyter-widgets/base",
       "_view_module_version": "1.2.0",
       "_view_name": "LayoutView",
       "align_content": null,
       "align_items": null,
       "align_self": null,
       "border": null,
       "bottom": null,
       "display": null,
       "flex": null,
       "flex_flow": null,
       "grid_area": null,
       "grid_auto_columns": null,
       "grid_auto_flow": null,
       "grid_auto_rows": null,
       "grid_column": null,
       "grid_gap": null,
       "grid_row": null,
       "grid_template_areas": null,
       "grid_template_columns": null,
       "grid_template_rows": null,
       "height": null,
       "justify_content": null,
       "justify_items": null,
       "left": null,
       "margin": null,
       "max_height": null,
       "max_width": null,
       "min_height": null,
       "min_width": null,
       "object_fit": null,
       "object_position": null,
       "order": null,
       "overflow": null,
       "overflow_x": null,
       "overflow_y": null,
       "padding": null,
       "right": null,
       "top": null,
       "visibility": null,
       "width": null
      }
     },
     "6ecd8bb9426e4d4e81ecd7a784a0777a": {
      "model_module": "@jupyter-widgets/controls",
      "model_module_version": "1.5.0",
      "model_name": "DescriptionStyleModel",
      "state": {
       "_model_module": "@jupyter-widgets/controls",
       "_model_module_version": "1.5.0",
       "_model_name": "DescriptionStyleModel",
       "_view_count": null,
       "_view_module": "@jupyter-widgets/base",
       "_view_module_version": "1.2.0",
       "_view_name": "StyleView",
       "description_width": ""
      }
     },
     "6f7652046649444296dd92b996603e14": {
      "model_module": "@jupyter-widgets/base",
      "model_module_version": "1.2.0",
      "model_name": "LayoutModel",
      "state": {
       "_model_module": "@jupyter-widgets/base",
       "_model_module_version": "1.2.0",
       "_model_name": "LayoutModel",
       "_view_count": null,
       "_view_module": "@jupyter-widgets/base",
       "_view_module_version": "1.2.0",
       "_view_name": "LayoutView",
       "align_content": null,
       "align_items": null,
       "align_self": null,
       "border": null,
       "bottom": null,
       "display": null,
       "flex": null,
       "flex_flow": null,
       "grid_area": null,
       "grid_auto_columns": null,
       "grid_auto_flow": null,
       "grid_auto_rows": null,
       "grid_column": null,
       "grid_gap": null,
       "grid_row": null,
       "grid_template_areas": null,
       "grid_template_columns": null,
       "grid_template_rows": null,
       "height": null,
       "justify_content": null,
       "justify_items": null,
       "left": null,
       "margin": null,
       "max_height": null,
       "max_width": null,
       "min_height": null,
       "min_width": null,
       "object_fit": null,
       "object_position": null,
       "order": null,
       "overflow": null,
       "overflow_x": null,
       "overflow_y": null,
       "padding": null,
       "right": null,
       "top": null,
       "visibility": null,
       "width": null
      }
     },
     "705936c56b1a4851b1a9f4e3d5ec099c": {
      "model_module": "@jupyter-widgets/base",
      "model_module_version": "1.2.0",
      "model_name": "LayoutModel",
      "state": {
       "_model_module": "@jupyter-widgets/base",
       "_model_module_version": "1.2.0",
       "_model_name": "LayoutModel",
       "_view_count": null,
       "_view_module": "@jupyter-widgets/base",
       "_view_module_version": "1.2.0",
       "_view_name": "LayoutView",
       "align_content": null,
       "align_items": null,
       "align_self": null,
       "border": null,
       "bottom": null,
       "display": null,
       "flex": null,
       "flex_flow": null,
       "grid_area": null,
       "grid_auto_columns": null,
       "grid_auto_flow": null,
       "grid_auto_rows": null,
       "grid_column": null,
       "grid_gap": null,
       "grid_row": null,
       "grid_template_areas": null,
       "grid_template_columns": null,
       "grid_template_rows": null,
       "height": null,
       "justify_content": null,
       "justify_items": null,
       "left": null,
       "margin": null,
       "max_height": null,
       "max_width": null,
       "min_height": null,
       "min_width": null,
       "object_fit": null,
       "object_position": null,
       "order": null,
       "overflow": null,
       "overflow_x": null,
       "overflow_y": null,
       "padding": null,
       "right": null,
       "top": null,
       "visibility": null,
       "width": null
      }
     },
     "73b9068ffbfb4477929db57f7bb9d270": {
      "model_module": "@jupyter-widgets/controls",
      "model_module_version": "1.5.0",
      "model_name": "IntProgressModel",
      "state": {
       "_dom_classes": [],
       "_model_module": "@jupyter-widgets/controls",
       "_model_module_version": "1.5.0",
       "_model_name": "IntProgressModel",
       "_view_count": null,
       "_view_module": "@jupyter-widgets/controls",
       "_view_module_version": "1.5.0",
       "_view_name": "ProgressView",
       "bar_style": "success",
       "description": "Downloading:",
       "description_tooltip": null,
       "layout": "IPY_MODEL_f3569288ad614dedabf6acb4a0003a07",
       "max": 3,
       "min": 0,
       "orientation": "horizontal",
       "style": "IPY_MODEL_090b61eee6c746acb64a96216504ee28",
       "value": 3
      }
     },
     "752008455cdd48ff8c896e67d3a07df4": {
      "model_module": "@jupyter-widgets/base",
      "model_module_version": "1.2.0",
      "model_name": "LayoutModel",
      "state": {
       "_model_module": "@jupyter-widgets/base",
       "_model_module_version": "1.2.0",
       "_model_name": "LayoutModel",
       "_view_count": null,
       "_view_module": "@jupyter-widgets/base",
       "_view_module_version": "1.2.0",
       "_view_name": "LayoutView",
       "align_content": null,
       "align_items": null,
       "align_self": null,
       "border": null,
       "bottom": null,
       "display": null,
       "flex": null,
       "flex_flow": null,
       "grid_area": null,
       "grid_auto_columns": null,
       "grid_auto_flow": null,
       "grid_auto_rows": null,
       "grid_column": null,
       "grid_gap": null,
       "grid_row": null,
       "grid_template_areas": null,
       "grid_template_columns": null,
       "grid_template_rows": null,
       "height": null,
       "justify_content": null,
       "justify_items": null,
       "left": null,
       "margin": null,
       "max_height": null,
       "max_width": null,
       "min_height": null,
       "min_width": null,
       "object_fit": null,
       "object_position": null,
       "order": null,
       "overflow": null,
       "overflow_x": null,
       "overflow_y": null,
       "padding": null,
       "right": null,
       "top": null,
       "visibility": null,
       "width": null
      }
     },
     "78757fddaa914314b33dc1a4e0617790": {
      "model_module": "@jupyter-widgets/controls",
      "model_module_version": "1.5.0",
      "model_name": "DescriptionStyleModel",
      "state": {
       "_model_module": "@jupyter-widgets/controls",
       "_model_module_version": "1.5.0",
       "_model_name": "DescriptionStyleModel",
       "_view_count": null,
       "_view_module": "@jupyter-widgets/base",
       "_view_module_version": "1.2.0",
       "_view_name": "StyleView",
       "description_width": ""
      }
     },
     "7c17c81b1239482c9ee02dacc90a8341": {
      "model_module": "@jupyter-widgets/base",
      "model_module_version": "1.2.0",
      "model_name": "LayoutModel",
      "state": {
       "_model_module": "@jupyter-widgets/base",
       "_model_module_version": "1.2.0",
       "_model_name": "LayoutModel",
       "_view_count": null,
       "_view_module": "@jupyter-widgets/base",
       "_view_module_version": "1.2.0",
       "_view_name": "LayoutView",
       "align_content": null,
       "align_items": null,
       "align_self": null,
       "border": null,
       "bottom": null,
       "display": null,
       "flex": null,
       "flex_flow": null,
       "grid_area": null,
       "grid_auto_columns": null,
       "grid_auto_flow": null,
       "grid_auto_rows": null,
       "grid_column": null,
       "grid_gap": null,
       "grid_row": null,
       "grid_template_areas": null,
       "grid_template_columns": null,
       "grid_template_rows": null,
       "height": null,
       "justify_content": null,
       "justify_items": null,
       "left": null,
       "margin": null,
       "max_height": null,
       "max_width": null,
       "min_height": null,
       "min_width": null,
       "object_fit": null,
       "object_position": null,
       "order": null,
       "overflow": null,
       "overflow_x": null,
       "overflow_y": null,
       "padding": null,
       "right": null,
       "top": null,
       "visibility": null,
       "width": null
      }
     },
     "7c62e09db31349af9f6f1b44daa4e466": {
      "model_module": "@jupyter-widgets/base",
      "model_module_version": "1.2.0",
      "model_name": "LayoutModel",
      "state": {
       "_model_module": "@jupyter-widgets/base",
       "_model_module_version": "1.2.0",
       "_model_name": "LayoutModel",
       "_view_count": null,
       "_view_module": "@jupyter-widgets/base",
       "_view_module_version": "1.2.0",
       "_view_name": "LayoutView",
       "align_content": null,
       "align_items": null,
       "align_self": null,
       "border": null,
       "bottom": null,
       "display": null,
       "flex": null,
       "flex_flow": null,
       "grid_area": null,
       "grid_auto_columns": null,
       "grid_auto_flow": null,
       "grid_auto_rows": null,
       "grid_column": null,
       "grid_gap": null,
       "grid_row": null,
       "grid_template_areas": null,
       "grid_template_columns": null,
       "grid_template_rows": null,
       "height": null,
       "justify_content": null,
       "justify_items": null,
       "left": null,
       "margin": null,
       "max_height": null,
       "max_width": null,
       "min_height": null,
       "min_width": null,
       "object_fit": null,
       "object_position": null,
       "order": null,
       "overflow": null,
       "overflow_x": null,
       "overflow_y": null,
       "padding": null,
       "right": null,
       "top": null,
       "visibility": null,
       "width": null
      }
     },
     "8a206222f3f444c3ac92f79139862d66": {
      "model_module": "@jupyter-widgets/controls",
      "model_module_version": "1.5.0",
      "model_name": "HTMLModel",
      "state": {
       "_dom_classes": [],
       "_model_module": "@jupyter-widgets/controls",
       "_model_module_version": "1.5.0",
       "_model_name": "HTMLModel",
       "_view_count": null,
       "_view_module": "@jupyter-widgets/controls",
       "_view_module_version": "1.5.0",
       "_view_name": "HTMLView",
       "description": "",
       "description_tooltip": null,
       "layout": "IPY_MODEL_be05624bb03841c79d71300f0a65ccfb",
       "placeholder": "​",
       "style": "IPY_MODEL_1c31fb4a9b91437c8788379ba03ed3e5",
       "value": "<h5><a href=\"https://github.com/ipython/ipython\">ipython/ipython</a></h5>\n<ul>\n<li><a href=\"https://github.com/ipython/ipython/issues/12651\">(#12651)</a>: <em>Problem with tests test_get_ipython_dir</em><em> when using pathlib_ by </em><em><a href=\"https://github.com/davbrito\">@davbrito</a></em>*</li>\n</ul>"
      }
     },
     "8a291177579548358b3d7e48a90ea5d4": {
      "model_module": "@jupyter-widgets/controls",
      "model_module_version": "1.5.0",
      "model_name": "HTMLModel",
      "state": {
       "_dom_classes": [],
       "_model_module": "@jupyter-widgets/controls",
       "_model_module_version": "1.5.0",
       "_model_name": "HTMLModel",
       "_view_count": null,
       "_view_module": "@jupyter-widgets/controls",
       "_view_module_version": "1.5.0",
       "_view_name": "HTMLView",
       "description": "",
       "description_tooltip": null,
       "layout": "IPY_MODEL_acbf0029c9704d808e5cabbef53be2bc",
       "placeholder": "​",
       "style": "IPY_MODEL_2afe61930c084d7998505c7e6a98bd58",
       "value": "<h5><a href=\"https://github.com/ipython/ipython\">ipython/ipython</a></h5>\n<ul>\n<li><a href=\"https://github.com/ipython/ipython/issues/12651\">(#12651)</a>: <em>Problem with tests test_get_ipython_dir</em><em> when using pathlib_ by </em><em><a href=\"https://github.com/davbrito\">@davbrito</a></em>*</li>\n</ul>"
      }
     },
     "8ca5a0f5d9024e738195a42421573d2c": {
      "model_module": "@jupyter-widgets/base",
      "model_module_version": "1.2.0",
      "model_name": "LayoutModel",
      "state": {
       "_model_module": "@jupyter-widgets/base",
       "_model_module_version": "1.2.0",
       "_model_name": "LayoutModel",
       "_view_count": null,
       "_view_module": "@jupyter-widgets/base",
       "_view_module_version": "1.2.0",
       "_view_name": "LayoutView",
       "align_content": null,
       "align_items": null,
       "align_self": null,
       "border": null,
       "bottom": null,
       "display": null,
       "flex": null,
       "flex_flow": null,
       "grid_area": null,
       "grid_auto_columns": null,
       "grid_auto_flow": null,
       "grid_auto_rows": null,
       "grid_column": null,
       "grid_gap": null,
       "grid_row": null,
       "grid_template_areas": null,
       "grid_template_columns": null,
       "grid_template_rows": null,
       "height": null,
       "justify_content": null,
       "justify_items": null,
       "left": null,
       "margin": null,
       "max_height": null,
       "max_width": null,
       "min_height": null,
       "min_width": null,
       "object_fit": null,
       "object_position": null,
       "order": null,
       "overflow": null,
       "overflow_x": null,
       "overflow_y": null,
       "padding": null,
       "right": null,
       "top": null,
       "visibility": null,
       "width": null
      }
     },
     "94ebc9633cd4422ca012dbcf88a109f1": {
      "model_module": "@jupyter-widgets/controls",
      "model_module_version": "1.5.0",
      "model_name": "DescriptionStyleModel",
      "state": {
       "_model_module": "@jupyter-widgets/controls",
       "_model_module_version": "1.5.0",
       "_model_name": "DescriptionStyleModel",
       "_view_count": null,
       "_view_module": "@jupyter-widgets/base",
       "_view_module_version": "1.2.0",
       "_view_name": "StyleView",
       "description_width": ""
      }
     },
     "97e6a17dba014784b2b8d2336524d756": {
      "model_module": "@jupyter-widgets/controls",
      "model_module_version": "1.5.0",
      "model_name": "HTMLModel",
      "state": {
       "_dom_classes": [],
       "_model_module": "@jupyter-widgets/controls",
       "_model_module_version": "1.5.0",
       "_model_name": "HTMLModel",
       "_view_count": null,
       "_view_module": "@jupyter-widgets/controls",
       "_view_module_version": "1.5.0",
       "_view_name": "HTMLView",
       "description": "",
       "description_tooltip": null,
       "layout": "IPY_MODEL_49abd7188ae74cdf9b3874d98ffec3a3",
       "placeholder": "​",
       "style": "IPY_MODEL_94ebc9633cd4422ca012dbcf88a109f1",
       "value": "<h5><a href=\"https://github.com/ipython/ipython-website\">ipython/ipython-website</a></h5>"
      }
     },
     "99328b2600124814bf277cee20c36577": {
      "model_module": "@jupyter-widgets/controls",
      "model_module_version": "1.5.0",
      "model_name": "HTMLModel",
      "state": {
       "_dom_classes": [],
       "_model_module": "@jupyter-widgets/controls",
       "_model_module_version": "1.5.0",
       "_model_name": "HTMLModel",
       "_view_count": null,
       "_view_module": "@jupyter-widgets/controls",
       "_view_module_version": "1.5.0",
       "_view_name": "HTMLView",
       "description": "",
       "description_tooltip": null,
       "layout": "IPY_MODEL_c920169e504b419dbb9e55c81a2e245a",
       "placeholder": "​",
       "style": "IPY_MODEL_3647b8f029184dd6b4ac12e4af9453cd",
       "value": "<h5><a href=\"https://github.com/ipython/ipyparallel\">ipython/ipyparallel</a></h5>\n<ul>\n<li><a href=\"https://github.com/ipython/ipyparallel/issues/427\">(#427)</a>: <em>AttributeError: 'module' object has no attribute '__version__'.  in numpy.py</em> by <strong><a href=\"https://github.com/ylive001\">@ylive001</a></strong></li>\n<li><a href=\"https://github.com/ipython/ipyparallel/issues/377\">(#377)</a>: <em>Installation path of data_files</em> by <strong><a href=\"https://github.com/marbre\">@marbre</a></strong></li>\n</ul>"
      }
     },
     "9e1d9a39095b48cd8efe3e05fad3bd04": {
      "model_module": "@jupyter-widgets/controls",
      "model_module_version": "1.5.0",
      "model_name": "HTMLModel",
      "state": {
       "_dom_classes": [],
       "_model_module": "@jupyter-widgets/controls",
       "_model_module_version": "1.5.0",
       "_model_name": "HTMLModel",
       "_view_count": null,
       "_view_module": "@jupyter-widgets/controls",
       "_view_module_version": "1.5.0",
       "_view_name": "HTMLView",
       "description": "",
       "description_tooltip": null,
       "layout": "IPY_MODEL_eb03c42d8b94402681109e735f78b1e8",
       "placeholder": "​",
       "style": "IPY_MODEL_6ecd8bb9426e4d4e81ecd7a784a0777a",
       "value": "<h5><a href=\"https://github.com/ipython/xkcd-font\">ipython/xkcd-font</a></h5>\n<ul>\n<li><a href=\"https://github.com/ipython/xkcd-font/issues/33\">(#33)</a>: <em>Support for Tatar</em> by <strong><a href=\"https://github.com/ftyers\">@ftyers</a></strong></li>\n</ul>"
      }
     },
     "a22afcb7d0ed4f549195a91b12345527": {
      "model_module": "@jupyter-widgets/base",
      "model_module_version": "1.2.0",
      "model_name": "LayoutModel",
      "state": {
       "_model_module": "@jupyter-widgets/base",
       "_model_module_version": "1.2.0",
       "_model_name": "LayoutModel",
       "_view_count": null,
       "_view_module": "@jupyter-widgets/base",
       "_view_module_version": "1.2.0",
       "_view_name": "LayoutView",
       "align_content": null,
       "align_items": null,
       "align_self": null,
       "border": null,
       "bottom": null,
       "display": null,
       "flex": null,
       "flex_flow": null,
       "grid_area": null,
       "grid_auto_columns": null,
       "grid_auto_flow": null,
       "grid_auto_rows": null,
       "grid_column": null,
       "grid_gap": null,
       "grid_row": null,
       "grid_template_areas": null,
       "grid_template_columns": null,
       "grid_template_rows": null,
       "height": null,
       "justify_content": null,
       "justify_items": null,
       "left": null,
       "margin": null,
       "max_height": null,
       "max_width": null,
       "min_height": null,
       "min_width": null,
       "object_fit": null,
       "object_position": null,
       "order": null,
       "overflow": null,
       "overflow_x": null,
       "overflow_y": null,
       "padding": null,
       "right": null,
       "top": null,
       "visibility": null,
       "width": null
      }
     },
     "a2b66e202c534d22a6a0b959ae86513f": {
      "model_module": "@jupyter-widgets/controls",
      "model_module_version": "1.5.0",
      "model_name": "HTMLModel",
      "state": {
       "_dom_classes": [],
       "_model_module": "@jupyter-widgets/controls",
       "_model_module_version": "1.5.0",
       "_model_name": "HTMLModel",
       "_view_count": null,
       "_view_module": "@jupyter-widgets/controls",
       "_view_module_version": "1.5.0",
       "_view_name": "HTMLView",
       "description": "",
       "description_tooltip": null,
       "layout": "IPY_MODEL_f3474404f4564379a056aceedd2ee21b",
       "placeholder": "​",
       "style": "IPY_MODEL_ab9bfbd7d91f4949b063b1e64e52d605",
       "value": "<h5><a href=\"https://github.com/ipython/traitlets\">ipython/traitlets</a></h5>\n<ul>\n<li><a href=\"https://github.com/ipython/traitlets/issues/628\">(#628)</a>: <em>traitlets does not work with python 3.6</em> by <strong><a href=\"https://github.com/didiercrunch\">@didiercrunch</a></strong></li>\n<li><a href=\"https://github.com/ipython/traitlets/issues/626\">(#626)</a>: <em>Tuple cannot have default_value=None</em> by <strong><a href=\"https://github.com/martinRenou\">@martinRenou</a></strong></li>\n<li><a href=\"https://github.com/ipython/traitlets/issues/625\">(#625)</a>: <em>Change to Set argv parsing behavior in 5.x?</em> by <strong><a href=\"https://github.com/MSeal\">@MSeal</a></strong></li>\n</ul>"
      }
     },
     "a40df0add26e4ecd85e752ae32bd3ab6": {
      "model_module": "@jupyter-widgets/controls",
      "model_module_version": "1.5.0",
      "model_name": "HTMLModel",
      "state": {
       "_dom_classes": [],
       "_model_module": "@jupyter-widgets/controls",
       "_model_module_version": "1.5.0",
       "_model_name": "HTMLModel",
       "_view_count": null,
       "_view_module": "@jupyter-widgets/controls",
       "_view_module_version": "1.5.0",
       "_view_name": "HTMLView",
       "description": "",
       "description_tooltip": null,
       "layout": "IPY_MODEL_705936c56b1a4851b1a9f4e3d5ec099c",
       "placeholder": "​",
       "style": "IPY_MODEL_e7c63a8ca0bc46bda943938310a8794c",
       "value": "<h5><a href=\"https://github.com/ipython/ipykernel\">ipython/ipykernel</a></h5>\n<ul>\n<li><a href=\"https://github.com/ipython/ipykernel/issues/548\">(#548)</a>: <em>ipykernel disallows jupyter user to create/attach to event loop</em> by <strong><a href=\"https://github.com/ddelange\">@ddelange</a></strong></li>\n<li><a href=\"https://github.com/ipython/ipykernel/issues/549\">(#549)</a>: <em>AttributeError: module 'pickle' has no attribute 'DEFAULT_PROTOCOL'</em> by <strong><a href=\"https://github.com/johentsch\">@johentsch</a></strong></li>\n<li><a href=\"https://github.com/ipython/ipykernel/issues/559\">(#559)</a>: <em>Cannot restart and run all cells in notebooks with %gui qt magic</em> by <strong><a href=\"https://github.com/GenevieveBuckley\">@GenevieveBuckley</a></strong></li>\n<li><a href=\"https://github.com/ipython/ipykernel/issues/558\">(#558)</a>: <em>javascript to python communication not working properly when \"Run All\" cells</em> by <strong><a href=\"https://github.com/Crypto-Spartan\">@Crypto-Spartan</a></strong></li>\n<li><a href=\"https://github.com/ipython/ipykernel/issues/555\">(#555)</a>: <em>Possibility of replacing tornado coroutines with native coroutines.</em> by <strong><a href=\"https://github.com/rahulporuri\">@rahulporuri</a></strong></li>\n</ul>"
      }
     },
     "a6c69d6ab01e46f59fd42ac0052e64c7": {
      "model_module": "@jupyter-widgets/controls",
      "model_module_version": "1.5.0",
      "model_name": "DescriptionStyleModel",
      "state": {
       "_model_module": "@jupyter-widgets/controls",
       "_model_module_version": "1.5.0",
       "_model_name": "DescriptionStyleModel",
       "_view_count": null,
       "_view_module": "@jupyter-widgets/base",
       "_view_module_version": "1.2.0",
       "_view_name": "StyleView",
       "description_width": ""
      }
     },
     "ab9bfbd7d91f4949b063b1e64e52d605": {
      "model_module": "@jupyter-widgets/controls",
      "model_module_version": "1.5.0",
      "model_name": "DescriptionStyleModel",
      "state": {
       "_model_module": "@jupyter-widgets/controls",
       "_model_module_version": "1.5.0",
       "_model_name": "DescriptionStyleModel",
       "_view_count": null,
       "_view_module": "@jupyter-widgets/base",
       "_view_module_version": "1.2.0",
       "_view_name": "StyleView",
       "description_width": ""
      }
     },
     "ac3440ed509343a09837ffb94c330f6f": {
      "model_module": "@jupyter-widgets/controls",
      "model_module_version": "1.5.0",
      "model_name": "HTMLModel",
      "state": {
       "_dom_classes": [],
       "_model_module": "@jupyter-widgets/controls",
       "_model_module_version": "1.5.0",
       "_model_name": "HTMLModel",
       "_view_count": null,
       "_view_module": "@jupyter-widgets/controls",
       "_view_module_version": "1.5.0",
       "_view_name": "HTMLView",
       "description": "",
       "description_tooltip": null,
       "layout": "IPY_MODEL_6f7652046649444296dd92b996603e14",
       "placeholder": "​",
       "style": "IPY_MODEL_78757fddaa914314b33dc1a4e0617790",
       "value": "<h4>Closed PRs for repo: <a href=\"https://github.com/ipython/ipython\">ipython/ipython</a></h4>\n<h5></h5>\n<ul>\n<li><a href=\"https://github.com/ipython/ipython/pull/12687\">(#12687)</a>: <em>Python3 compat layer cleanup</em> by <strong><a href=\"https://github.com/Carreau\">@Carreau</a></strong> merged by <strong><a href=\"https://github.com/Carreau\">@Carreau</a></strong></li>\n<li><a href=\"https://github.com/ipython/ipython/pull/12685\">(#12685)</a>: <em>Forgot import 12639, also lint this file with pyflakes</em> by <strong><a href=\"https://github.com/Carreau\">@Carreau</a></strong> merged by <strong><a href=\"https://github.com/Carreau\">@Carreau</a></strong></li>\n<li><a href=\"https://github.com/ipython/ipython/pull/12684\">(#12684)</a>: <em>DOC: Remove sphinxext errors</em> by <strong><a href=\"https://github.com/farisachugthai\">@farisachugthai</a></strong> merged by <strong><a href=\"https://github.com/Carreau\">@Carreau</a></strong></li>\n<li><a href=\"https://github.com/ipython/ipython/pull/12681\">(#12681)</a>: <em>Start working on whatsnew notes for 7.19.</em> by <strong><a href=\"https://github.com/Carreau\">@Carreau</a></strong> merged by <strong><a href=\"https://github.com/Carreau\">@Carreau</a></strong></li>\n<li><a href=\"https://github.com/ipython/ipython/pull/12680\">(#12680)</a>: <em>Use pathlib in utils/tempdir</em> by <strong><a href=\"https://github.com/deep-jkl\">@deep-jkl</a></strong> merged by <strong><a href=\"https://github.com/Carreau\">@Carreau</a></strong></li>\n<li><a href=\"https://github.com/ipython/ipython/pull/12678\">(#12678)</a>: <em>use pathlib in testing/plugin/ipdoctest.py</em> by <strong><a href=\"https://github.com/rushabh-v\">@rushabh-v</a></strong> merged by <strong><a href=\"https://github.com/Carreau\">@Carreau</a></strong></li>\n<li><a href=\"https://github.com/ipython/ipython/pull/12675\">(#12675)</a>: <em>use pathlib in <code>setup.py</code></em> by <strong><a href=\"https://github.com/baogianghoangvu\">@baogianghoangvu</a></strong> merged by <strong><a href=\"https://github.com/Carreau\">@Carreau</a></strong></li>\n<li><a href=\"https://github.com/ipython/ipython/pull/12674\">(#12674)</a>: <em><code>async_safe</code> cleanup</em> by <strong><a href=\"https://github.com/baogianghoangvu\">@baogianghoangvu</a></strong> merged by <strong><a href=\"https://github.com/Carreau\">@Carreau</a></strong></li>\n<li><a href=\"https://github.com/ipython/ipython/pull/12671\">(#12671)</a>: <em>Reduce travis testing.</em> by <strong><a href=\"https://github.com/Carreau\">@Carreau</a></strong> merged by <strong><a href=\"https://github.com/Carreau\">@Carreau</a></strong></li>\n<li><a href=\"https://github.com/ipython/ipython/pull/12668\">(#12668)</a>: <em>run mypy on github action</em> by <strong><a href=\"https://github.com/Carreau\">@Carreau</a></strong> merged by <strong><a href=\"https://github.com/Carreau\">@Carreau</a></strong></li>\n<li><a href=\"https://github.com/ipython/ipython/pull/12666\">(#12666)</a>: <em>remove yield test that are not support by pytest anymore</em> by <strong><a href=\"https://github.com/Carreau\">@Carreau</a></strong> merged by <strong><a href=\"https://github.com/Carreau\">@Carreau</a></strong></li>\n<li><a href=\"https://github.com/ipython/ipython/pull/12665\">(#12665)</a>: <em>use pathlib.Path in io.py</em> by <strong><a href=\"https://github.com/szarroug3\">@szarroug3</a></strong> merged by <strong><a href=\"https://github.com/Carreau\">@Carreau</a></strong></li>\n<li><a href=\"https://github.com/ipython/ipython/pull/12664\">(#12664)</a>: <em>use pathlib.Path in demo.py</em> by <strong><a href=\"https://github.com/szarroug3\">@szarroug3</a></strong> merged by <strong><a href=\"https://github.com/Carreau\">@Carreau</a></strong></li>\n<li><a href=\"https://github.com/ipython/ipython/pull/12663\">(#12663)</a>: <em>use pathlib in docs/autogen_config.py</em> by <strong><a href=\"https://github.com/rushabh-v\">@rushabh-v</a></strong> merged by <strong><a href=\"https://github.com/Carreau\">@Carreau</a></strong></li>\n<li><a href=\"https://github.com/ipython/ipython/pull/12659\">(#12659)</a>: <em>Fix settrace for recursive debugger</em> by <strong><a href=\"https://github.com/impact27\">@impact27</a></strong> merged by <strong><a href=\"https://github.com/Carreau\">@Carreau</a></strong></li>\n<li><a href=\"https://github.com/ipython/ipython/pull/12657\">(#12657)</a>: <em>use pathlib in docs/source/conf.py</em> by <strong><a href=\"https://github.com/rushabh-v\">@rushabh-v</a></strong> merged by <strong><a href=\"https://github.com/Carreau\">@Carreau</a></strong></li>\n<li><a href=\"https://github.com/ipython/ipython/pull/12656\">(#12656)</a>: <em>use pathlib in ipython-get-history.py</em> by <strong><a href=\"https://github.com/rushabh-v\">@rushabh-v</a></strong> merged by <strong><a href=\"https://github.com/Carreau\">@Carreau</a></strong></li>\n<li><a href=\"https://github.com/ipython/ipython/pull/12649\">(#12649)</a>: <em>Decrease testing using iptest, coverage using pytest.</em> by <strong><a href=\"https://github.com/Carreau\">@Carreau</a></strong> merged by <strong><a href=\"https://github.com/Carreau\">@Carreau</a></strong></li>\n<li><a href=\"https://github.com/ipython/ipython/pull/12647\">(#12647)</a>: <em>Remove darker now that it's on github actions.</em> by <strong><a href=\"https://github.com/Carreau\">@Carreau</a></strong> merged by <strong><a href=\"https://github.com/Carreau\">@Carreau</a></strong></li>\n<li><a href=\"https://github.com/ipython/ipython/pull/12646\">(#12646)</a>: <em>Test formatting on GHaction.</em> by <strong><a href=\"https://github.com/Carreau\">@Carreau</a></strong> merged by <strong><a href=\"https://github.com/Carreau\">@Carreau</a></strong></li>\n<li><a href=\"https://github.com/ipython/ipython/pull/12645\">(#12645)</a>: <em>Fix mistake where str is inserted into a list of Path.</em> by <strong><a href=\"https://github.com/Carreau\">@Carreau</a></strong> merged by <strong><a href=\"https://github.com/Carreau\">@Carreau</a></strong></li>\n<li><a href=\"https://github.com/ipython/ipython/pull/12644\">(#12644)</a>: <em>Update history.py to use pathlib</em> by <strong><a href=\"https://github.com/deep-jkl\">@deep-jkl</a></strong> merged by <strong><a href=\"https://github.com/Carreau\">@Carreau</a></strong></li>\n<li><a href=\"https://github.com/ipython/ipython/pull/12639\">(#12639)</a>: <em>Line-buffered output for %%magic scripts</em> by <strong><a href=\"https://github.com/jetpacktuxedo\">@jetpacktuxedo</a></strong> merged by <strong><a href=\"https://github.com/Carreau\">@Carreau</a></strong></li>\n<li><a href=\"https://github.com/ipython/ipython/pull/12638\">(#12638)</a>: <em>Fix TerminalInteractiveShell.true_color docs</em> by <strong><a href=\"https://github.com/reillysiemens\">@reillysiemens</a></strong> merged by <strong><a href=\"https://github.com/Carreau\">@Carreau</a></strong></li>\n<li><a href=\"https://github.com/ipython/ipython/pull/12637\">(#12637)</a>: _ Simplify assignment in test_async_helpers_ by <strong><a href=\"https://github.com/LeafyLi\">@LeafyLi</a></strong> merged by <strong><a href=\"https://github.com/Carreau\">@Carreau</a></strong></li>\n<li><a href=\"https://github.com/ipython/ipython/pull/12635\">(#12635)</a>: <em>Use pathlib instead of os.path on test_module_paths.py</em> by <strong><a href=\"https://github.com/dswij\">@dswij</a></strong> merged by <strong><a href=\"https://github.com/Carreau\">@Carreau</a></strong></li>\n<li><a href=\"https://github.com/ipython/ipython/pull/12634\">(#12634)</a>: <em>Replace os.path with pathlib on test_profile.py</em> by <strong><a href=\"https://github.com/dswij\">@dswij</a></strong> merged by <strong><a href=\"https://github.com/Carreau\">@Carreau</a></strong></li>\n<li><a href=\"https://github.com/ipython/ipython/pull/12633\">(#12633)</a>: <em>Use pathlib in docs/autogen_shortcuts.py</em> by <strong><a href=\"https://github.com/NotWearingPants\">@NotWearingPants</a></strong> merged by <strong><a href=\"https://github.com/Carreau\">@Carreau</a></strong></li>\n<li><a href=\"https://github.com/ipython/ipython/pull/12632\">(#12632)</a>: <em>removed old python2 cast_unicode</em> by <strong><a href=\"https://github.com/timqsh\">@timqsh</a></strong> merged by <strong><a href=\"https://github.com/Carreau\">@Carreau</a></strong></li>\n<li><a href=\"https://github.com/ipython/ipython/pull/12631\">(#12631)</a>: <em>Mark initial frame as not hidden.</em> by <strong><a href=\"https://github.com/Carreau\">@Carreau</a></strong> merged by <strong><a href=\"https://github.com/Carreau\">@Carreau</a></strong></li>\n<li><a href=\"https://github.com/ipython/ipython/pull/12630\">(#12630)</a>: <em>Adding Features Of IPython</em> by <strong><a href=\"https://github.com/Sanjana-03\">@Sanjana-03</a></strong> merged by <strong><a href=\"https://github.com/Carreau\">@Carreau</a></strong></li>\n<li><a href=\"https://github.com/ipython/ipython/pull/12628\">(#12628)</a>: <em>Change os.path functions to pathlib.Path functions in gh_api.py</em> by <strong><a href=\"https://github.com/hexxdump\">@hexxdump</a></strong> merged by <strong><a href=\"https://github.com/Carreau\">@Carreau</a></strong></li>\n<li><a href=\"https://github.com/ipython/ipython/pull/12627\">(#12627)</a>: <em>Don't call curframe.f_locals</em> by <strong><a href=\"https://github.com/impact27\">@impact27</a></strong> merged by <strong><a href=\"https://github.com/Carreau\">@Carreau</a></strong></li>\n<li><a href=\"https://github.com/ipython/ipython/pull/12625\">(#12625)</a>: <em>Don't register the same callback multiple times</em> by <strong><a href=\"https://github.com/impact27\">@impact27</a></strong> merged by <strong><a href=\"https://github.com/Carreau\">@Carreau</a></strong></li>\n<li><a href=\"https://github.com/ipython/ipython/pull/12623\">(#12623)</a>: <em>Cleanup: Remove distutils</em> by <strong><a href=\"https://github.com/farisachugthai\">@farisachugthai</a></strong> merged by <strong><a href=\"https://github.com/Carreau\">@Carreau</a></strong></li>\n<li><a href=\"https://github.com/ipython/ipython/pull/12619\">(#12619)</a>: <em>Use pathlib in magics module's execution.py</em> by <strong><a href=\"https://github.com/OdinTech3\">@OdinTech3</a></strong> merged by <strong><a href=\"https://github.com/Carreau\">@Carreau</a></strong></li>\n<li><a href=\"https://github.com/ipython/ipython/pull/12618\">(#12618)</a>: <em>Use pathlib in testing module's iptestcontroller.py</em> by <strong><a href=\"https://github.com/OdinTech3\">@OdinTech3</a></strong> merged by <strong><a href=\"https://github.com/Carreau\">@Carreau</a></strong></li>\n<li><a href=\"https://github.com/ipython/ipython/pull/12617\">(#12617)</a>: <em>skip test if ipykernel not there.</em> by <strong><a href=\"https://github.com/Carreau\">@Carreau</a></strong> merged by <strong><a href=\"https://github.com/Carreau\">@Carreau</a></strong></li>\n<li><a href=\"https://github.com/ipython/ipython/pull/12615\">(#12615)</a>: <em>Pathlib in core.magics</em> by <strong><a href=\"https://github.com/MrMino\">@MrMino</a></strong> merged by <strong><a href=\"https://github.com/Carreau\">@Carreau</a></strong></li>\n<li><a href=\"https://github.com/ipython/ipython/pull/12614\">(#12614)</a>: <em>Use pathlib in autogen_magics.py, autogen_config.py, and test_magic.py</em> by <strong><a href=\"https://github.com/joyceerhl\">@joyceerhl</a></strong> merged by <strong><a href=\"https://github.com/Carreau\">@Carreau</a></strong></li>\n<li><a href=\"https://github.com/ipython/ipython/pull/12612\">(#12612)</a>: <em>Use pathlib in packaging.py, and gen_latex_symbols.py</em> by <strong><a href=\"https://github.com/jpavlav\">@jpavlav</a></strong> merged by <strong><a href=\"https://github.com/Carreau\">@Carreau</a></strong></li>\n<li><a href=\"https://github.com/ipython/ipython/pull/12611\">(#12611)</a>: <em>Chaged tempfiles and tempdirs to be Path from Pathlib</em> by <strong><a href=\"https://github.com/barhenkro\">@barhenkro</a></strong> merged by <strong><a href=\"https://github.com/Carreau\">@Carreau</a></strong></li>\n<li><a href=\"https://github.com/ipython/ipython/pull/12609\">(#12609)</a>: <em>Fix to #12180 (display.Video failing with data=None)</em> by <strong><a href=\"https://github.com/scarlehoff\">@scarlehoff</a></strong> merged by <strong><a href=\"https://github.com/Carreau\">@Carreau</a></strong></li>\n<li><a href=\"https://github.com/ipython/ipython/pull/12608\">(#12608)</a>: <em>Use pathlib in latextools.py</em> by <strong><a href=\"https://github.com/romulofff\">@romulofff</a></strong> merged by <strong><a href=\"https://github.com/Carreau\">@Carreau</a></strong></li>\n<li><a href=\"https://github.com/ipython/ipython/pull/12607\">(#12607)</a>: <em>Redo PR #12601: Always display last frame when show tracebacks with h…</em> by <strong><a href=\"https://github.com/Carreau\">@Carreau</a></strong> merged by <strong><a href=\"https://github.com/Carreau\">@Carreau</a></strong></li>\n<li><a href=\"https://github.com/ipython/ipython/pull/12604\">(#12604)</a>: <em>Updated autogen_magics.py to Pathlib Path</em> by <strong><a href=\"https://github.com/digitalvirtuoso\">@digitalvirtuoso</a></strong> merged by <strong><a href=\"https://github.com/Carreau\">@Carreau</a></strong></li>\n<li><a href=\"https://github.com/ipython/ipython/pull/12603\">(#12603)</a>: <em>Enable emacs keybindings in vi insert mode (ebivim)</em> by <strong><a href=\"https://github.com/mskar\">@mskar</a></strong> merged by <strong><a href=\"https://github.com/Carreau\">@Carreau</a></strong></li>\n<li><a href=\"https://github.com/ipython/ipython/pull/12601\">(#12601)</a>: <em>Always display last frame when show tracebacks with hidden frames.</em> by <strong><a href=\"https://github.com/Carreau\">@Carreau</a></strong> merged by <strong><a href=\"https://github.com/Carreau\">@Carreau</a></strong></li>\n<li><a href=\"https://github.com/ipython/ipython/pull/12600\">(#12600)</a>: <em>copyedits to REDME.rst</em> by <strong><a href=\"https://github.com/Daniel-Mietchen\">@Daniel-Mietchen</a></strong> merged by <strong><a href=\"https://github.com/Carreau\">@Carreau</a></strong></li>\n<li><a href=\"https://github.com/ipython/ipython/pull/12592\">(#12592)</a>: <em>using pathlib on update_whatsnew.py</em> by <strong><a href=\"https://github.com/dswij\">@dswij</a></strong> merged by <strong><a href=\"https://github.com/Carreau\">@Carreau</a></strong></li>\n<li><a href=\"https://github.com/ipython/ipython/pull/12591\">(#12591)</a>: <em>use pathlib on test_deepreload.py</em> by <strong><a href=\"https://github.com/dswij\">@dswij</a></strong> merged by <strong><a href=\"https://github.com/Carreau\">@Carreau</a></strong></li>\n<li><a href=\"https://github.com/ipython/ipython/pull/12588\">(#12588)</a>: <em>Cursor shape changes with vi editing mode</em> by <strong><a href=\"https://github.com/mskar\">@mskar</a></strong> merged by <strong><a href=\"https://github.com/Carreau\">@Carreau</a></strong></li>\n<li><a href=\"https://github.com/ipython/ipython/pull/12587\">(#12587)</a>: <em>[Docs] Improve installing docs if on zsh</em> by <strong><a href=\"https://github.com/hongshaoyang\">@hongshaoyang</a></strong> merged by <strong><a href=\"https://github.com/Carreau\">@Carreau</a></strong></li>\n<li><a href=\"https://github.com/ipython/ipython/pull/12584\">(#12584)</a>: <em>Remove Release Notes Workflow</em> by <strong><a href=\"https://github.com/augustogoulart\">@augustogoulart</a></strong> merged by <strong><a href=\"https://github.com/Carreau\">@Carreau</a></strong></li>\n<li><a href=\"https://github.com/ipython/ipython/pull/12581\">(#12581)</a>: <em>BUG: Fix mypy error</em> by <strong><a href=\"https://github.com/farisachugthai\">@farisachugthai</a></strong> merged by <strong><a href=\"https://github.com/Carreau\">@Carreau</a></strong></li>\n<li><a href=\"https://github.com/ipython/ipython/pull/12580\">(#12580)</a>: <em>DOC: Define ipy directive as such in docs.</em> by <strong><a href=\"https://github.com/farisachugthai\">@farisachugthai</a></strong> merged by <strong><a href=\"https://github.com/Carreau\">@Carreau</a></strong></li>\n<li><a href=\"https://github.com/ipython/ipython/pull/12577\">(#12577)</a>: <em>Use pathlib in interactiveshell.py</em> by <strong><a href=\"https://github.com/ashwinvis\">@ashwinvis</a></strong> merged by <strong><a href=\"https://github.com/Carreau\">@Carreau</a></strong></li>\n<li><a href=\"https://github.com/ipython/ipython/pull/12574\">(#12574)</a>: <em>Fix broken link in documentation</em> by <strong><a href=\"https://github.com/farisachugthai\">@farisachugthai</a></strong> merged by <strong><a href=\"https://github.com/Carreau\">@Carreau</a></strong></li>\n<li><a href=\"https://github.com/ipython/ipython/pull/12570\">(#12570)</a>: <em>Enable autosuggestion from history</em> by <strong><a href=\"https://github.com/mskar\">@mskar</a></strong> merged by <strong><a href=\"https://github.com/Carreau\">@Carreau</a></strong></li>\n<li><a href=\"https://github.com/ipython/ipython/pull/12568\">(#12568)</a>: <em>Updated document</em> by <strong><a href=\"https://github.com/Ankitsingh6299\">@Ankitsingh6299</a></strong> merged by <strong><a href=\"https://github.com/Carreau\">@Carreau</a></strong></li>\n<li><a href=\"https://github.com/ipython/ipython/pull/12566\">(#12566)</a>: <em>Remove latex_paper_size, it's no longer recognized</em> by <strong><a href=\"https://github.com/farisachugthai\">@farisachugthai</a></strong> merged by <strong><a href=\"https://github.com/Carreau\">@Carreau</a></strong></li>\n<li><a href=\"https://github.com/ipython/ipython/pull/12560\">(#12560)</a>: <em>Small typo fix in pylab deprecation message</em> by <strong><a href=\"https://github.com/alchzh\">@alchzh</a></strong> merged by <strong><a href=\"https://github.com/Carreau\">@Carreau</a></strong></li>\n<li><a href=\"https://github.com/ipython/ipython/pull/12559\">(#12559)</a>: <em>use pathlib in <code>utils.openpy</code></em> by <strong><a href=\"https://github.com/rushabh-v\">@rushabh-v</a></strong> merged by <strong><a href=\"https://github.com/Carreau\">@Carreau</a></strong></li>\n<li><a href=\"https://github.com/ipython/ipython/pull/12557\">(#12557)</a>: <em>Use pathlib in page.py</em> by <strong><a href=\"https://github.com/Inception95\">@Inception95</a></strong> merged by <strong><a href=\"https://github.com/Carreau\">@Carreau</a></strong></li>\n<li><a href=\"https://github.com/ipython/ipython/pull/12548\">(#12548)</a>: <em>Introduce pathlib on init_virtualenv.</em> by <strong><a href=\"https://github.com/GabrielSimonetto\">@GabrielSimonetto</a></strong> merged by <strong><a href=\"https://github.com/Carreau\">@Carreau</a></strong></li>\n</ul>"
      }
     },
     "acbf0029c9704d808e5cabbef53be2bc": {
      "model_module": "@jupyter-widgets/base",
      "model_module_version": "1.2.0",
      "model_name": "LayoutModel",
      "state": {
       "_model_module": "@jupyter-widgets/base",
       "_model_module_version": "1.2.0",
       "_model_name": "LayoutModel",
       "_view_count": null,
       "_view_module": "@jupyter-widgets/base",
       "_view_module_version": "1.2.0",
       "_view_name": "LayoutView",
       "align_content": null,
       "align_items": null,
       "align_self": null,
       "border": null,
       "bottom": null,
       "display": null,
       "flex": null,
       "flex_flow": null,
       "grid_area": null,
       "grid_auto_columns": null,
       "grid_auto_flow": null,
       "grid_auto_rows": null,
       "grid_column": null,
       "grid_gap": null,
       "grid_row": null,
       "grid_template_areas": null,
       "grid_template_columns": null,
       "grid_template_rows": null,
       "height": null,
       "justify_content": null,
       "justify_items": null,
       "left": null,
       "margin": null,
       "max_height": null,
       "max_width": null,
       "min_height": null,
       "min_width": null,
       "object_fit": null,
       "object_position": null,
       "order": null,
       "overflow": null,
       "overflow_x": null,
       "overflow_y": null,
       "padding": null,
       "right": null,
       "top": null,
       "visibility": null,
       "width": null
      }
     },
     "afeb36e621d74da0ae374e084d4f1805": {
      "model_module": "@jupyter-widgets/controls",
      "model_module_version": "1.5.0",
      "model_name": "HTMLModel",
      "state": {
       "_dom_classes": [],
       "_model_module": "@jupyter-widgets/controls",
       "_model_module_version": "1.5.0",
       "_model_name": "HTMLModel",
       "_view_count": null,
       "_view_module": "@jupyter-widgets/controls",
       "_view_module_version": "1.5.0",
       "_view_name": "HTMLView",
       "description": "",
       "description_tooltip": null,
       "layout": "IPY_MODEL_58541a227fe14d2fbbb009aa25ff21ba",
       "placeholder": "​",
       "style": "IPY_MODEL_4e00aa87d2f2478b97b8f9517633ce05",
       "value": "<h4>Closed PRs for repo: <a href=\"https://github.com/ipython/ipykernel\">ipython/ipykernel</a></h4>\n<h5></h5>\n<ul>\n<li><a href=\"https://github.com/ipython/ipykernel/pull/551\">(#551)</a>: <em>Start testing on Python 3.9</em> by <strong><a href=\"https://github.com/Carreau\">@Carreau</a></strong> merged by <strong><a href=\"https://github.com/Carreau\">@Carreau</a></strong></li>\n</ul>"
      }
     },
     "b029cc0bd4bb4b37907b117a42dc10fe": {
      "model_module": "@jupyter-widgets/controls",
      "model_module_version": "1.5.0",
      "model_name": "HTMLModel",
      "state": {
       "_dom_classes": [],
       "_model_module": "@jupyter-widgets/controls",
       "_model_module_version": "1.5.0",
       "_model_name": "HTMLModel",
       "_view_count": null,
       "_view_module": "@jupyter-widgets/controls",
       "_view_module_version": "1.5.0",
       "_view_name": "HTMLView",
       "description": "",
       "description_tooltip": null,
       "layout": "IPY_MODEL_8ca5a0f5d9024e738195a42421573d2c",
       "placeholder": "​",
       "style": "IPY_MODEL_fce0959c7e9d42acaeefb9d124e36d9f",
       "value": "<h5><a href=\"https://github.com/ipython/ipython-in-depth\">ipython/ipython-in-depth</a></h5>"
      }
     },
     "b5593886c0084fceb723df33a6850d39": {
      "model_module": "@jupyter-widgets/controls",
      "model_module_version": "1.5.0",
      "model_name": "DescriptionStyleModel",
      "state": {
       "_model_module": "@jupyter-widgets/controls",
       "_model_module_version": "1.5.0",
       "_model_name": "DescriptionStyleModel",
       "_view_count": null,
       "_view_module": "@jupyter-widgets/base",
       "_view_module_version": "1.2.0",
       "_view_name": "StyleView",
       "description_width": ""
      }
     },
     "baa8371a8e6c453dbab3c29288ad2bd9": {
      "model_module": "@jupyter-widgets/controls",
      "model_module_version": "1.5.0",
      "model_name": "HTMLModel",
      "state": {
       "_dom_classes": [],
       "_model_module": "@jupyter-widgets/controls",
       "_model_module_version": "1.5.0",
       "_model_name": "HTMLModel",
       "_view_count": null,
       "_view_module": "@jupyter-widgets/controls",
       "_view_module_version": "1.5.0",
       "_view_name": "HTMLView",
       "description": "",
       "description_tooltip": null,
       "layout": "IPY_MODEL_bd4e0133f8ac449b955214a27166b20a",
       "placeholder": "​",
       "style": "IPY_MODEL_0baace6b81504d88aadeb62c5db29a31",
       "value": "<h4>Closed PRs for repo: <a href=\"https://github.com/ipython/ipython-website\">ipython/ipython-website</a></h4>\n<h5></h5>\n<ul>\n<li><a href=\"https://github.com/ipython/ipython-website/pull/154\">(#154)</a>: <em>Update README.md</em> by <strong><a href=\"https://github.com/xorigina1\">@xorigina1</a></strong> merged by <strong><a href=\"https://github.com/Carreau\">@Carreau</a></strong></li>\n<li><a href=\"https://github.com/ipython/ipython-website/pull/153\">(#153)</a>: <em>Typo fixed</em> by <strong><a href=\"https://github.com/facundobatista\">@facundobatista</a></strong> merged by <strong><a href=\"https://github.com/Carreau\">@Carreau</a></strong></li>\n</ul>"
      }
     },
     "bd4e0133f8ac449b955214a27166b20a": {
      "model_module": "@jupyter-widgets/base",
      "model_module_version": "1.2.0",
      "model_name": "LayoutModel",
      "state": {
       "_model_module": "@jupyter-widgets/base",
       "_model_module_version": "1.2.0",
       "_model_name": "LayoutModel",
       "_view_count": null,
       "_view_module": "@jupyter-widgets/base",
       "_view_module_version": "1.2.0",
       "_view_name": "LayoutView",
       "align_content": null,
       "align_items": null,
       "align_self": null,
       "border": null,
       "bottom": null,
       "display": null,
       "flex": null,
       "flex_flow": null,
       "grid_area": null,
       "grid_auto_columns": null,
       "grid_auto_flow": null,
       "grid_auto_rows": null,
       "grid_column": null,
       "grid_gap": null,
       "grid_row": null,
       "grid_template_areas": null,
       "grid_template_columns": null,
       "grid_template_rows": null,
       "height": null,
       "justify_content": null,
       "justify_items": null,
       "left": null,
       "margin": null,
       "max_height": null,
       "max_width": null,
       "min_height": null,
       "min_width": null,
       "object_fit": null,
       "object_position": null,
       "order": null,
       "overflow": null,
       "overflow_x": null,
       "overflow_y": null,
       "padding": null,
       "right": null,
       "top": null,
       "visibility": null,
       "width": null
      }
     },
     "be05624bb03841c79d71300f0a65ccfb": {
      "model_module": "@jupyter-widgets/base",
      "model_module_version": "1.2.0",
      "model_name": "LayoutModel",
      "state": {
       "_model_module": "@jupyter-widgets/base",
       "_model_module_version": "1.2.0",
       "_model_name": "LayoutModel",
       "_view_count": null,
       "_view_module": "@jupyter-widgets/base",
       "_view_module_version": "1.2.0",
       "_view_name": "LayoutView",
       "align_content": null,
       "align_items": null,
       "align_self": null,
       "border": null,
       "bottom": null,
       "display": null,
       "flex": null,
       "flex_flow": null,
       "grid_area": null,
       "grid_auto_columns": null,
       "grid_auto_flow": null,
       "grid_auto_rows": null,
       "grid_column": null,
       "grid_gap": null,
       "grid_row": null,
       "grid_template_areas": null,
       "grid_template_columns": null,
       "grid_template_rows": null,
       "height": null,
       "justify_content": null,
       "justify_items": null,
       "left": null,
       "margin": null,
       "max_height": null,
       "max_width": null,
       "min_height": null,
       "min_width": null,
       "object_fit": null,
       "object_position": null,
       "order": null,
       "overflow": null,
       "overflow_x": null,
       "overflow_y": null,
       "padding": null,
       "right": null,
       "top": null,
       "visibility": null,
       "width": null
      }
     },
     "bfb8299b7c1f41a0bbbe7398c4d8bc5a": {
      "model_module": "@jupyter-widgets/controls",
      "model_module_version": "1.5.0",
      "model_name": "HTMLModel",
      "state": {
       "_dom_classes": [],
       "_model_module": "@jupyter-widgets/controls",
       "_model_module_version": "1.5.0",
       "_model_name": "HTMLModel",
       "_view_count": null,
       "_view_module": "@jupyter-widgets/controls",
       "_view_module_version": "1.5.0",
       "_view_name": "HTMLView",
       "description": "",
       "description_tooltip": null,
       "layout": "IPY_MODEL_6e2f2ed82645418d9ba5eb761316be6f",
       "placeholder": "​",
       "style": "IPY_MODEL_a6c69d6ab01e46f59fd42ac0052e64c7",
       "value": "<h5><a href=\"https://github.com/ipython/ipython_genutils\">ipython/ipython_genutils</a></h5>\n<ul>\n<li><a href=\"https://github.com/ipython/ipython_genutils/issues/16\">(#16)</a>: <em>Travis-ci: AMD64 build is failing</em> by <strong><a href=\"https://github.com/sanjaymsh\">@sanjaymsh</a></strong></li>\n</ul>"
      }
     },
     "bfeaedb8094a490db3a35e0fcdfaa466": {
      "model_module": "@jupyter-widgets/controls",
      "model_module_version": "1.5.0",
      "model_name": "HTMLModel",
      "state": {
       "_dom_classes": [],
       "_model_module": "@jupyter-widgets/controls",
       "_model_module_version": "1.5.0",
       "_model_name": "HTMLModel",
       "_view_count": null,
       "_view_module": "@jupyter-widgets/controls",
       "_view_module_version": "1.5.0",
       "_view_name": "HTMLView",
       "description": "",
       "description_tooltip": null,
       "layout": "IPY_MODEL_6af68801fb214deab865b14a9530ec94",
       "placeholder": "​",
       "style": "IPY_MODEL_b5593886c0084fceb723df33a6850d39",
       "value": "<h5><a href=\"https://github.com/ipython/traitlets\">ipython/traitlets</a></h5>\n<ul>\n<li><a href=\"https://github.com/ipython/traitlets/issues/628\">(#628)</a>: <em>traitlets does not work with python 3.6</em> by <strong><a href=\"https://github.com/didiercrunch\">@didiercrunch</a></strong></li>\n<li><a href=\"https://github.com/ipython/traitlets/issues/626\">(#626)</a>: <em>Tuple cannot have default_value=None</em> by <strong><a href=\"https://github.com/martinRenou\">@martinRenou</a></strong></li>\n<li><a href=\"https://github.com/ipython/traitlets/issues/625\">(#625)</a>: <em>Change to Set argv parsing behavior in 5.x?</em> by <strong><a href=\"https://github.com/MSeal\">@MSeal</a></strong></li>\n</ul>"
      }
     },
     "c62a2732b8c944d7828a6dd902b8d9ab": {
      "model_module": "@jupyter-widgets/controls",
      "model_module_version": "1.5.0",
      "model_name": "DescriptionStyleModel",
      "state": {
       "_model_module": "@jupyter-widgets/controls",
       "_model_module_version": "1.5.0",
       "_model_name": "DescriptionStyleModel",
       "_view_count": null,
       "_view_module": "@jupyter-widgets/base",
       "_view_module_version": "1.2.0",
       "_view_name": "StyleView",
       "description_width": ""
      }
     },
     "c7d25116dd904d3e95c1c23940a37b9b": {
      "model_module": "@jupyter-widgets/controls",
      "model_module_version": "1.5.0",
      "model_name": "DescriptionStyleModel",
      "state": {
       "_model_module": "@jupyter-widgets/controls",
       "_model_module_version": "1.5.0",
       "_model_name": "DescriptionStyleModel",
       "_view_count": null,
       "_view_module": "@jupyter-widgets/base",
       "_view_module_version": "1.2.0",
       "_view_name": "StyleView",
       "description_width": ""
      }
     },
     "c85ed87c8d1543e5b533f10be5d18b3e": {
      "model_module": "@jupyter-widgets/controls",
      "model_module_version": "1.5.0",
      "model_name": "HTMLModel",
      "state": {
       "_dom_classes": [],
       "_model_module": "@jupyter-widgets/controls",
       "_model_module_version": "1.5.0",
       "_model_name": "HTMLModel",
       "_view_count": null,
       "_view_module": "@jupyter-widgets/controls",
       "_view_module_version": "1.5.0",
       "_view_name": "HTMLView",
       "description": "",
       "description_tooltip": null,
       "layout": "IPY_MODEL_3213f5627c854868a46ee46fb6de04d2",
       "placeholder": "​",
       "style": "IPY_MODEL_1ee815702a9545a19b8691101e4752a8",
       "value": "<h5><a href=\"https://github.com/ipython/ipyparallel\">ipython/ipyparallel</a></h5>\n<ul>\n<li><a href=\"https://github.com/ipython/ipyparallel/issues/427\">(#427)</a>: <em>AttributeError: 'module' object has no attribute '__version__'.  in numpy.py</em> by <strong><a href=\"https://github.com/ylive001\">@ylive001</a></strong></li>\n<li><a href=\"https://github.com/ipython/ipyparallel/issues/377\">(#377)</a>: <em>Installation path of data_files</em> by <strong><a href=\"https://github.com/marbre\">@marbre</a></strong></li>\n</ul>"
      }
     },
     "c8e464eeab544fd98f500577f3bf9a4b": {
      "model_module": "@jupyter-widgets/controls",
      "model_module_version": "1.5.0",
      "model_name": "HTMLModel",
      "state": {
       "_dom_classes": [],
       "_model_module": "@jupyter-widgets/controls",
       "_model_module_version": "1.5.0",
       "_model_name": "HTMLModel",
       "_view_count": null,
       "_view_module": "@jupyter-widgets/controls",
       "_view_module_version": "1.5.0",
       "_view_name": "HTMLView",
       "description": "",
       "description_tooltip": null,
       "layout": "IPY_MODEL_db95b67344984e548526259b92a1a638",
       "placeholder": "​",
       "style": "IPY_MODEL_c62a2732b8c944d7828a6dd902b8d9ab",
       "value": "<h5><a href=\"https://github.com/ipython/ipython_genutils\">ipython/ipython_genutils</a></h5>\n<ul>\n<li><a href=\"https://github.com/ipython/ipython_genutils/issues/16\">(#16)</a>: <em>Travis-ci: AMD64 build is failing</em> by <strong><a href=\"https://github.com/sanjaymsh\">@sanjaymsh</a></strong></li>\n</ul>"
      }
     },
     "c920169e504b419dbb9e55c81a2e245a": {
      "model_module": "@jupyter-widgets/base",
      "model_module_version": "1.2.0",
      "model_name": "LayoutModel",
      "state": {
       "_model_module": "@jupyter-widgets/base",
       "_model_module_version": "1.2.0",
       "_model_name": "LayoutModel",
       "_view_count": null,
       "_view_module": "@jupyter-widgets/base",
       "_view_module_version": "1.2.0",
       "_view_name": "LayoutView",
       "align_content": null,
       "align_items": null,
       "align_self": null,
       "border": null,
       "bottom": null,
       "display": null,
       "flex": null,
       "flex_flow": null,
       "grid_area": null,
       "grid_auto_columns": null,
       "grid_auto_flow": null,
       "grid_auto_rows": null,
       "grid_column": null,
       "grid_gap": null,
       "grid_row": null,
       "grid_template_areas": null,
       "grid_template_columns": null,
       "grid_template_rows": null,
       "height": null,
       "justify_content": null,
       "justify_items": null,
       "left": null,
       "margin": null,
       "max_height": null,
       "max_width": null,
       "min_height": null,
       "min_width": null,
       "object_fit": null,
       "object_position": null,
       "order": null,
       "overflow": null,
       "overflow_x": null,
       "overflow_y": null,
       "padding": null,
       "right": null,
       "top": null,
       "visibility": null,
       "width": null
      }
     },
     "c9bc8ea690e54b32b1ce4e42584fda0d": {
      "model_module": "@jupyter-widgets/controls",
      "model_module_version": "1.5.0",
      "model_name": "DescriptionStyleModel",
      "state": {
       "_model_module": "@jupyter-widgets/controls",
       "_model_module_version": "1.5.0",
       "_model_name": "DescriptionStyleModel",
       "_view_count": null,
       "_view_module": "@jupyter-widgets/base",
       "_view_module_version": "1.2.0",
       "_view_name": "StyleView",
       "description_width": ""
      }
     },
     "d48d9661dd214d9ab45525b947a2108c": {
      "model_module": "@jupyter-widgets/controls",
      "model_module_version": "1.5.0",
      "model_name": "HTMLModel",
      "state": {
       "_dom_classes": [],
       "_model_module": "@jupyter-widgets/controls",
       "_model_module_version": "1.5.0",
       "_model_name": "HTMLModel",
       "_view_count": null,
       "_view_module": "@jupyter-widgets/controls",
       "_view_module_version": "1.5.0",
       "_view_name": "HTMLView",
       "description": "",
       "description_tooltip": null,
       "layout": "IPY_MODEL_284d24410bc74904bb27a084fb7ff5f0",
       "placeholder": "​",
       "style": "IPY_MODEL_f103c19fb33c4517b1015535cdd632b1",
       "value": "<ul>\n<li>(2) Cannot restart and run all cells in notebooks with %gui qt magic - ipykernel - <a href=\"https://github.com/ipython/ipykernel/issues/559\">#559</a></li>\n<li>(2) Support for Tatar - xkcd-font - <a href=\"https://github.com/ipython/xkcd-font/issues/33\">#33</a></li>\n<li>(1) IPython 6.5 broken with python 3.8. Missing required field \"type_ignores\" - ipython - <a href=\"https://github.com/ipython/ipython/issues/12558\">#12558</a></li>\n<li>(1) ipykernel disallows jupyter user to create/attach to event loop - ipykernel - <a href=\"https://github.com/ipython/ipykernel/issues/548\">#548</a></li>\n<li>(0) <code>inputtransformer2.TransformerManager.check_complete</code> does not detect incomplete cell when used with line magics - ipython - <a href=\"https://github.com/ipython/ipython/issues/12706\">#12706</a></li>\n<li>(0) ipython shell in django 3.0 results in SynchronousOnlyOperation - ipython - <a href=\"https://github.com/ipython/ipython/issues/12593\">#12593</a></li>\n<li>(0) Missing imports in IPython/terminal/ptutils.py (NameError: name 'sys' is not defined) - ipython - <a href=\"https://github.com/ipython/ipython/issues/12643\">#12643</a></li>\n<li>(0) Possibility of replacing tornado coroutines with native coroutines. - ipykernel - <a href=\"https://github.com/ipython/ipykernel/issues/555\">#555</a></li>\n<li>(0) pytest seems to be the testrunner - not nose, as mentioned in README - ipykernel - <a href=\"https://github.com/ipython/ipykernel/issues/554\">#554</a></li>\n<li>(0) Running testsuite locally results in import errors - ipykernel - <a href=\"https://github.com/ipython/ipykernel/issues/553\">#553</a></li>\n<li>(0) Feature request: add option to consider scripts without .ipy suffix as valid IPython scripts - ipython - <a href=\"https://github.com/ipython/ipython/issues/12616\">#12616</a></li>\n<li>(0) USER_SITE doesn't existed cause kernel not include it in the path - ipython - <a href=\"https://github.com/ipython/ipython/issues/12613\">#12613</a></li>\n<li>(0) More deprecation warnings from jedi - ipython - <a href=\"https://github.com/ipython/ipython/issues/12597\">#12597</a></li>\n<li>(0) %%bash magic shows no intermediate output - ipython - <a href=\"https://github.com/ipython/ipython/issues/12595\">#12595</a></li>\n<li>(0) xkcd-Script: GSUB/GPOS problem - xkcd-font - <a href=\"https://github.com/ipython/xkcd-font/issues/34\">#34</a></li>\n<li>(0) IPython Crashes when Executing Command - ipython - <a href=\"https://github.com/ipython/ipython/issues/12590\">#12590</a></li>\n<li>(0) <code>SystemExit</code> not raised from argparse - ipython - <a href=\"https://github.com/ipython/ipython/issues/12652\">#12652</a></li>\n<li>(0) Type hint for tab completions - ipython - <a href=\"https://github.com/ipython/ipython/issues/12579\">#12579</a></li>\n<li>(0) Feature Request: Include parentheses when tab completing functions - ipython - <a href=\"https://github.com/ipython/ipython/issues/12575\">#12575</a></li>\n<li>(0) Delete key not working in certain shells and terminals - ipython - <a href=\"https://github.com/ipython/ipython/issues/12567\">#12567</a></li>\n<li>(0) <strong>tracebackhide</strong> Suggestion - ipython - <a href=\"https://github.com/ipython/ipython/issues/12565\">#12565</a></li>\n<li>(0) [TerminalIPythonApp] WARNING | Unrecognized alias: 'im', it will have no effect. - ipython - <a href=\"https://github.com/ipython/ipython/issues/12564\">#12564</a></li>\n<li>(0) BlockingIOError [Errno 35] under uvloop on MacOS - ipython - <a href=\"https://github.com/ipython/ipython/issues/12563\">#12563</a></li>\n<li>(0) ImportError: cannot import name 'Image' from 'IPython.display' - ipython - <a href=\"https://github.com/ipython/ipython/issues/12561\">#12561</a></li>\n<li>(0) Problem with tests test_get_ipython_dir_* when using pathlib - ipython - <a href=\"https://github.com/ipython/ipython/issues/12651\">#12651</a></li>\n</ul>"
      }
     },
     "d6c244fddde542708855bbef165a074d": {
      "model_module": "@jupyter-widgets/base",
      "model_module_version": "1.2.0",
      "model_name": "LayoutModel",
      "state": {
       "_model_module": "@jupyter-widgets/base",
       "_model_module_version": "1.2.0",
       "_model_name": "LayoutModel",
       "_view_count": null,
       "_view_module": "@jupyter-widgets/base",
       "_view_module_version": "1.2.0",
       "_view_name": "LayoutView",
       "align_content": null,
       "align_items": null,
       "align_self": null,
       "border": null,
       "bottom": null,
       "display": null,
       "flex": null,
       "flex_flow": null,
       "grid_area": null,
       "grid_auto_columns": null,
       "grid_auto_flow": null,
       "grid_auto_rows": null,
       "grid_column": null,
       "grid_gap": null,
       "grid_row": null,
       "grid_template_areas": null,
       "grid_template_columns": null,
       "grid_template_rows": null,
       "height": null,
       "justify_content": null,
       "justify_items": null,
       "left": null,
       "margin": null,
       "max_height": null,
       "max_width": null,
       "min_height": null,
       "min_width": null,
       "object_fit": null,
       "object_position": null,
       "order": null,
       "overflow": null,
       "overflow_x": null,
       "overflow_y": null,
       "padding": null,
       "right": null,
       "top": null,
       "visibility": null,
       "width": null
      }
     },
     "daa2c3d660df451e96eef96b8fb4d3fc": {
      "model_module": "@jupyter-widgets/controls",
      "model_module_version": "1.5.0",
      "model_name": "ProgressStyleModel",
      "state": {
       "_model_module": "@jupyter-widgets/controls",
       "_model_module_version": "1.5.0",
       "_model_name": "ProgressStyleModel",
       "_view_count": null,
       "_view_module": "@jupyter-widgets/base",
       "_view_module_version": "1.2.0",
       "_view_name": "StyleView",
       "bar_color": null,
       "description_width": ""
      }
     },
     "db95b67344984e548526259b92a1a638": {
      "model_module": "@jupyter-widgets/base",
      "model_module_version": "1.2.0",
      "model_name": "LayoutModel",
      "state": {
       "_model_module": "@jupyter-widgets/base",
       "_model_module_version": "1.2.0",
       "_model_name": "LayoutModel",
       "_view_count": null,
       "_view_module": "@jupyter-widgets/base",
       "_view_module_version": "1.2.0",
       "_view_name": "LayoutView",
       "align_content": null,
       "align_items": null,
       "align_self": null,
       "border": null,
       "bottom": null,
       "display": null,
       "flex": null,
       "flex_flow": null,
       "grid_area": null,
       "grid_auto_columns": null,
       "grid_auto_flow": null,
       "grid_auto_rows": null,
       "grid_column": null,
       "grid_gap": null,
       "grid_row": null,
       "grid_template_areas": null,
       "grid_template_columns": null,
       "grid_template_rows": null,
       "height": null,
       "justify_content": null,
       "justify_items": null,
       "left": null,
       "margin": null,
       "max_height": null,
       "max_width": null,
       "min_height": null,
       "min_width": null,
       "object_fit": null,
       "object_position": null,
       "order": null,
       "overflow": null,
       "overflow_x": null,
       "overflow_y": null,
       "padding": null,
       "right": null,
       "top": null,
       "visibility": null,
       "width": null
      }
     },
     "dbee80d66e0d4856863b0ebc21b7c874": {
      "model_module": "@jupyter-widgets/base",
      "model_module_version": "1.2.0",
      "model_name": "LayoutModel",
      "state": {
       "_model_module": "@jupyter-widgets/base",
       "_model_module_version": "1.2.0",
       "_model_name": "LayoutModel",
       "_view_count": null,
       "_view_module": "@jupyter-widgets/base",
       "_view_module_version": "1.2.0",
       "_view_name": "LayoutView",
       "align_content": null,
       "align_items": null,
       "align_self": null,
       "border": null,
       "bottom": null,
       "display": null,
       "flex": null,
       "flex_flow": null,
       "grid_area": null,
       "grid_auto_columns": null,
       "grid_auto_flow": null,
       "grid_auto_rows": null,
       "grid_column": null,
       "grid_gap": null,
       "grid_row": null,
       "grid_template_areas": null,
       "grid_template_columns": null,
       "grid_template_rows": null,
       "height": null,
       "justify_content": null,
       "justify_items": null,
       "left": null,
       "margin": null,
       "max_height": null,
       "max_width": null,
       "min_height": null,
       "min_width": null,
       "object_fit": null,
       "object_position": null,
       "order": null,
       "overflow": null,
       "overflow_x": null,
       "overflow_y": null,
       "padding": null,
       "right": null,
       "top": null,
       "visibility": null,
       "width": null
      }
     },
     "e411c59621234658a4c5b74e89622ebe": {
      "model_module": "@jupyter-widgets/controls",
      "model_module_version": "1.5.0",
      "model_name": "DescriptionStyleModel",
      "state": {
       "_model_module": "@jupyter-widgets/controls",
       "_model_module_version": "1.5.0",
       "_model_name": "DescriptionStyleModel",
       "_view_count": null,
       "_view_module": "@jupyter-widgets/base",
       "_view_module_version": "1.2.0",
       "_view_name": "StyleView",
       "description_width": ""
      }
     },
     "e7c63a8ca0bc46bda943938310a8794c": {
      "model_module": "@jupyter-widgets/controls",
      "model_module_version": "1.5.0",
      "model_name": "DescriptionStyleModel",
      "state": {
       "_model_module": "@jupyter-widgets/controls",
       "_model_module_version": "1.5.0",
       "_model_name": "DescriptionStyleModel",
       "_view_count": null,
       "_view_module": "@jupyter-widgets/base",
       "_view_module_version": "1.2.0",
       "_view_name": "StyleView",
       "description_width": ""
      }
     },
     "eb03c42d8b94402681109e735f78b1e8": {
      "model_module": "@jupyter-widgets/base",
      "model_module_version": "1.2.0",
      "model_name": "LayoutModel",
      "state": {
       "_model_module": "@jupyter-widgets/base",
       "_model_module_version": "1.2.0",
       "_model_name": "LayoutModel",
       "_view_count": null,
       "_view_module": "@jupyter-widgets/base",
       "_view_module_version": "1.2.0",
       "_view_name": "LayoutView",
       "align_content": null,
       "align_items": null,
       "align_self": null,
       "border": null,
       "bottom": null,
       "display": null,
       "flex": null,
       "flex_flow": null,
       "grid_area": null,
       "grid_auto_columns": null,
       "grid_auto_flow": null,
       "grid_auto_rows": null,
       "grid_column": null,
       "grid_gap": null,
       "grid_row": null,
       "grid_template_areas": null,
       "grid_template_columns": null,
       "grid_template_rows": null,
       "height": null,
       "justify_content": null,
       "justify_items": null,
       "left": null,
       "margin": null,
       "max_height": null,
       "max_width": null,
       "min_height": null,
       "min_width": null,
       "object_fit": null,
       "object_position": null,
       "order": null,
       "overflow": null,
       "overflow_x": null,
       "overflow_y": null,
       "padding": null,
       "right": null,
       "top": null,
       "visibility": null,
       "width": null
      }
     },
     "ec6a083a7fb84b39aa822b90ff374a74": {
      "model_module": "@jupyter-widgets/controls",
      "model_module_version": "1.5.0",
      "model_name": "TabModel",
      "state": {
       "_dom_classes": [],
       "_model_module": "@jupyter-widgets/controls",
       "_model_module_version": "1.5.0",
       "_model_name": "TabModel",
       "_titles": {
        "0": "ipykernel",
        "1": "ipython",
        "2": "ipython-in-depth",
        "3": "ipython-website",
        "4": "traitlets"
       },
       "_view_count": null,
       "_view_module": "@jupyter-widgets/controls",
       "_view_module_version": "1.5.0",
       "_view_name": "TabView",
       "box_style": "",
       "children": [
        "IPY_MODEL_afeb36e621d74da0ae374e084d4f1805",
        "IPY_MODEL_ac3440ed509343a09837ffb94c330f6f",
        "IPY_MODEL_3cbab4c703254fc3bbf589920bc0fda2",
        "IPY_MODEL_baa8371a8e6c453dbab3c29288ad2bd9",
        "IPY_MODEL_3afd95020d7c4aab8cb07421ce700921"
       ],
       "layout": "IPY_MODEL_6645e673b1c445ff9ae5931d4a1d88be",
       "selected_index": 0
      }
     },
     "f103c19fb33c4517b1015535cdd632b1": {
      "model_module": "@jupyter-widgets/controls",
      "model_module_version": "1.5.0",
      "model_name": "DescriptionStyleModel",
      "state": {
       "_model_module": "@jupyter-widgets/controls",
       "_model_module_version": "1.5.0",
       "_model_name": "DescriptionStyleModel",
       "_view_count": null,
       "_view_module": "@jupyter-widgets/base",
       "_view_module_version": "1.2.0",
       "_view_name": "StyleView",
       "description_width": ""
      }
     },
     "f3474404f4564379a056aceedd2ee21b": {
      "model_module": "@jupyter-widgets/base",
      "model_module_version": "1.2.0",
      "model_name": "LayoutModel",
      "state": {
       "_model_module": "@jupyter-widgets/base",
       "_model_module_version": "1.2.0",
       "_model_name": "LayoutModel",
       "_view_count": null,
       "_view_module": "@jupyter-widgets/base",
       "_view_module_version": "1.2.0",
       "_view_name": "LayoutView",
       "align_content": null,
       "align_items": null,
       "align_self": null,
       "border": null,
       "bottom": null,
       "display": null,
       "flex": null,
       "flex_flow": null,
       "grid_area": null,
       "grid_auto_columns": null,
       "grid_auto_flow": null,
       "grid_auto_rows": null,
       "grid_column": null,
       "grid_gap": null,
       "grid_row": null,
       "grid_template_areas": null,
       "grid_template_columns": null,
       "grid_template_rows": null,
       "height": null,
       "justify_content": null,
       "justify_items": null,
       "left": null,
       "margin": null,
       "max_height": null,
       "max_width": null,
       "min_height": null,
       "min_width": null,
       "object_fit": null,
       "object_position": null,
       "order": null,
       "overflow": null,
       "overflow_x": null,
       "overflow_y": null,
       "padding": null,
       "right": null,
       "top": null,
       "visibility": null,
       "width": null
      }
     },
     "f3569288ad614dedabf6acb4a0003a07": {
      "model_module": "@jupyter-widgets/base",
      "model_module_version": "1.2.0",
      "model_name": "LayoutModel",
      "state": {
       "_model_module": "@jupyter-widgets/base",
       "_model_module_version": "1.2.0",
       "_model_name": "LayoutModel",
       "_view_count": null,
       "_view_module": "@jupyter-widgets/base",
       "_view_module_version": "1.2.0",
       "_view_name": "LayoutView",
       "align_content": null,
       "align_items": null,
       "align_self": null,
       "border": null,
       "bottom": null,
       "display": null,
       "flex": null,
       "flex_flow": null,
       "grid_area": null,
       "grid_auto_columns": null,
       "grid_auto_flow": null,
       "grid_auto_rows": null,
       "grid_column": null,
       "grid_gap": null,
       "grid_row": null,
       "grid_template_areas": null,
       "grid_template_columns": null,
       "grid_template_rows": null,
       "height": null,
       "justify_content": null,
       "justify_items": null,
       "left": null,
       "margin": null,
       "max_height": null,
       "max_width": null,
       "min_height": null,
       "min_width": null,
       "object_fit": null,
       "object_position": null,
       "order": null,
       "overflow": null,
       "overflow_x": null,
       "overflow_y": null,
       "padding": null,
       "right": null,
       "top": null,
       "visibility": null,
       "width": null
      }
     },
     "fce0959c7e9d42acaeefb9d124e36d9f": {
      "model_module": "@jupyter-widgets/controls",
      "model_module_version": "1.5.0",
      "model_name": "DescriptionStyleModel",
      "state": {
       "_model_module": "@jupyter-widgets/controls",
       "_model_module_version": "1.5.0",
       "_model_name": "DescriptionStyleModel",
       "_view_count": null,
       "_view_module": "@jupyter-widgets/base",
       "_view_module_version": "1.2.0",
       "_view_name": "StyleView",
       "description_width": ""
      }
     }
    },
    "version_major": 2,
    "version_minor": 0
   }
  }
 },
 "nbformat": 4,
 "nbformat_minor": 4
}