{
 "cells": [
  {
   "cell_type": "markdown",
   "metadata": {
    "papermill": {
     "duration": 0.038109,
     "end_time": "2020-06-20T01:14:10.436218",
     "exception": false,
     "start_time": "2020-06-20T01:14:10.398109",
     "status": "completed"
    },
    "tags": []
   },
   "source": [
    "# {glue:text}`ipython_github_org`\n",
    "\n",
    "**Activity from {glue:}`ipython_start` to {glue:}`ipython_stop`**"
   ]
  },
  {
   "cell_type": "code",
   "execution_count": 1,
   "metadata": {
    "execution": {
     "iopub.execute_input": "2020-06-20T01:14:10.512025Z",
     "iopub.status.busy": "2020-06-20T01:14:10.511436Z",
     "iopub.status.idle": "2020-06-20T01:14:11.891509Z",
     "shell.execute_reply": "2020-06-20T01:14:11.890975Z"
    },
    "papermill": {
     "duration": 1.421074,
     "end_time": "2020-06-20T01:14:11.891623",
     "exception": false,
     "start_time": "2020-06-20T01:14:10.470549",
     "status": "completed"
    },
    "tags": [
     "remove_cell"
    ]
   },
   "outputs": [],
   "source": [
    "import github_activity as ga\n",
    "from datetime import date\n",
    "from dateutil.relativedelta import relativedelta\n",
    "from myst_nb import glue\n",
    "import seaborn as sns\n",
    "import pandas as pd\n",
    "import numpy as np\n",
    "import altair as alt\n",
    "from markdown import markdown\n",
    "from IPython.display import Markdown\n",
    "from ipywidgets.widgets import HTML, Tab\n",
    "from ipywidgets import widgets\n",
    "from datetime import timedelta\n",
    "from matplotlib import pyplot as plt\n",
    "import os.path as op\n",
    "\n",
    "from warnings import simplefilter\n",
    "simplefilter('ignore')"
   ]
  },
  {
   "cell_type": "code",
   "execution_count": 2,
   "metadata": {
    "execution": {
     "iopub.execute_input": "2020-06-20T01:14:11.968998Z",
     "iopub.status.busy": "2020-06-20T01:14:11.968417Z",
     "iopub.status.idle": "2020-06-20T01:14:11.970722Z",
     "shell.execute_reply": "2020-06-20T01:14:11.971260Z"
    },
    "papermill": {
     "duration": 0.045315,
     "end_time": "2020-06-20T01:14:11.971386",
     "exception": false,
     "start_time": "2020-06-20T01:14:11.926071",
     "status": "completed"
    },
    "tags": [
     "remove_cell"
    ]
   },
   "outputs": [],
   "source": [
    "# Altair config\n",
    "def author_url(author):\n",
    "    return f\"https://github.com/{author}\"\n",
    "\n",
    "def alt_theme():\n",
    "    return {\n",
    "        'config': {\n",
    "            'axisLeft': {\n",
    "                'labelFontSize': 15,\n",
    "            },\n",
    "            'axisBottom': {\n",
    "                'labelFontSize': 15,\n",
    "            },\n",
    "        }\n",
    "    }\n",
    "\n",
    "alt.themes.register('my_theme', alt_theme)\n",
    "alt.themes.enable(\"my_theme\")\n",
    "\n",
    "\n",
    "# Define colors we'll use for GitHub membership\n",
    "author_types = ['MEMBER', 'CONTRIBUTOR', 'COLLABORATOR', \"NONE\"]\n",
    "\n",
    "author_palette = np.array(sns.palettes.blend_palette([\"lightgrey\", \"lightgreen\", \"darkgreen\"], 4)) * 256\n",
    "author_colors = [\"rgb({}, {}, {})\".format(*color) for color in author_palette]\n",
    "author_color_dict = {key: val for key, val in zip(author_types, author_palette)}"
   ]
  },
  {
   "cell_type": "code",
   "execution_count": 3,
   "metadata": {
    "execution": {
     "iopub.execute_input": "2020-06-20T01:14:12.042332Z",
     "iopub.status.busy": "2020-06-20T01:14:12.041724Z",
     "iopub.status.idle": "2020-06-20T01:14:12.042978Z",
     "shell.execute_reply": "2020-06-20T01:14:12.043509Z"
    },
    "papermill": {
     "duration": 0.040225,
     "end_time": "2020-06-20T01:14:12.043639",
     "exception": false,
     "start_time": "2020-06-20T01:14:12.003414",
     "status": "completed"
    },
    "tags": [
     "parameters",
     "hide_input",
     "remove_cell"
    ]
   },
   "outputs": [],
   "source": [
    "github_org = \"jupyterhub\"\n",
    "top_n_repos = 15\n",
    "n_days = 10"
   ]
  },
  {
   "cell_type": "code",
   "execution_count": 4,
   "metadata": {
    "execution": {
     "iopub.execute_input": "2020-06-20T01:14:12.115867Z",
     "iopub.status.busy": "2020-06-20T01:14:12.115261Z",
     "iopub.status.idle": "2020-06-20T01:14:12.117742Z",
     "shell.execute_reply": "2020-06-20T01:14:12.117165Z"
    },
    "papermill": {
     "duration": 0.040087,
     "end_time": "2020-06-20T01:14:12.117841",
     "exception": false,
     "start_time": "2020-06-20T01:14:12.077754",
     "status": "completed"
    },
    "tags": [
     "injected-parameters",
     "remove-cell"
    ]
   },
   "outputs": [],
   "source": [
    "# Parameters\n",
    "github_org = \"ipython\"\n",
    "n_days = 60\n"
   ]
  },
  {
   "cell_type": "code",
   "execution_count": 5,
   "metadata": {
    "execution": {
     "iopub.execute_input": "2020-06-20T01:14:12.194042Z",
     "iopub.status.busy": "2020-06-20T01:14:12.193364Z",
     "iopub.status.idle": "2020-06-20T01:14:12.199854Z",
     "shell.execute_reply": "2020-06-20T01:14:12.199281Z"
    },
    "papermill": {
     "duration": 0.049667,
     "end_time": "2020-06-20T01:14:12.199953",
     "exception": false,
     "start_time": "2020-06-20T01:14:12.150286",
     "status": "completed"
    },
    "tags": [
     "remove_cell"
    ]
   },
   "outputs": [
    {
     "data": {
      "application/papermill.record/text/plain": "'ipython'"
     },
     "metadata": {
      "scrapbook": {
       "mime_prefix": "application/papermill.record/",
       "name": "ipython_github_org"
      }
     },
     "output_type": "display_data"
    },
    {
     "data": {
      "application/papermill.record/text/plain": "'2020-04-21'"
     },
     "metadata": {
      "scrapbook": {
       "mime_prefix": "application/papermill.record/",
       "name": "ipython_start"
      }
     },
     "output_type": "display_data"
    },
    {
     "data": {
      "application/papermill.record/text/plain": "'2020-06-20'"
     },
     "metadata": {
      "scrapbook": {
       "mime_prefix": "application/papermill.record/",
       "name": "ipython_stop"
      }
     },
     "output_type": "display_data"
    }
   ],
   "source": [
    "############################################################\n",
    "# Variables\n",
    "stop = date.today()\n",
    "start = date.today() - relativedelta(days=n_days)\n",
    "\n",
    "# Strings for use in queries\n",
    "start_date = f\"{start:%Y-%m-%d}\"\n",
    "stop_date = f\"{stop:%Y-%m-%d}\"\n",
    "\n",
    "# Glue variables for use in markdown\n",
    "glue(f\"{github_org}_github_org\", github_org, display=False)\n",
    "glue(f\"{github_org}_start\", start_date, display=False)\n",
    "glue(f\"{github_org}_stop\", stop_date, display=False)"
   ]
  },
  {
   "cell_type": "code",
   "execution_count": 6,
   "metadata": {
    "execution": {
     "iopub.execute_input": "2020-06-20T01:14:12.283211Z",
     "iopub.status.busy": "2020-06-20T01:14:12.282605Z",
     "iopub.status.idle": "2020-06-20T01:14:30.272407Z",
     "shell.execute_reply": "2020-06-20T01:14:30.270633Z"
    },
    "papermill": {
     "duration": 18.037113,
     "end_time": "2020-06-20T01:14:30.272585",
     "exception": false,
     "start_time": "2020-06-20T01:14:12.235472",
     "status": "completed"
    },
    "tags": [
     "remove_cell"
    ]
   },
   "outputs": [
    {
     "name": "stdout",
     "output_type": "stream",
     "text": [
      "Running search query:\n",
      "user:ipython\n",
      "\n",
      "\n"
     ]
    },
    {
     "name": "stdout",
     "output_type": "stream",
     "text": [
      "Found 201 items, which will take 5 pages\n"
     ]
    },
    {
     "data": {
      "application/vnd.jupyter.widget-view+json": {
       "model_id": "569b53d539e14ff9bd1e0fbb548a4efa",
       "version_major": 2,
       "version_minor": 0
      },
      "text/plain": [
       "IntProgress(value=0, description='Downloading:', max=5)"
      ]
     },
     "metadata": {},
     "output_type": "display_data"
    },
    {
     "name": "stdout",
     "output_type": "stream",
     "text": [
      "Found 207 items, which will take 5 pages\n"
     ]
    },
    {
     "data": {
      "application/vnd.jupyter.widget-view+json": {
       "model_id": "5d5403e5415942f48e75c6af9bfb897f",
       "version_major": 2,
       "version_minor": 0
      },
      "text/plain": [
       "IntProgress(value=0, description='Downloading:', max=5)"
      ]
     },
     "metadata": {},
     "output_type": "display_data"
    }
   ],
   "source": [
    "############################################################\n",
    "# Fetch the raw data and load data we need\n",
    "raw_data = ga.get_activity(github_org, start_date)\n",
    "bot_names = pd.read_csv('../bot_names.csv')['names'].tolist()\n",
    "data = raw_data.copy()\n",
    "\n",
    "# Prepare our data\n",
    "data[\"kind\"] = data[\"url\"].map(lambda a: \"issue\" if \"issues/\" in a else \"pr\")\n",
    "data[\"mergedBy\"] = data[\"mergedBy\"].map(lambda a: a[\"login\"] if not isinstance(a, (float, type(None))) else None)\n",
    "\n",
    "prs = data.query(\"kind == 'pr'\")\n",
    "issues = data.query(\"kind == 'issue'\")\n",
    "\n",
    "# Pull out the comments\n",
    "comments = []\n",
    "for _, irow in data.iterrows():\n",
    "    for icomment in irow['comments']['edges']:\n",
    "        icomment = icomment[\"node\"].copy()\n",
    "        icomment[\"author\"] = icomment[\"author\"][\"login\"] if icomment[\"author\"] else None\n",
    "        icomment[\"org\"] = irow[\"org\"]\n",
    "        icomment[\"repo\"] = irow[\"repo\"]\n",
    "        icomment[\"id\"] = irow[\"id\"]\n",
    "        comments.append(pd.Series(icomment))\n",
    "comments = pd.DataFrame(comments)\n",
    "\n",
    "# Clean up\n",
    "for idata in [prs, comments, issues]:\n",
    "    idata.query(\"author not in @bot_names\", inplace=True)\n",
    "    idata.drop_duplicates(subset=[\"url\"], inplace=True)\n",
    "\n",
    "# What are the top N repos, we will only plot these in the full data plots\n",
    "top_commented_repos = comments.groupby(\"repo\").count().sort_values(\"createdAt\", ascending=False)['createdAt']\n",
    "use_repos = top_commented_repos.head(top_n_repos).index.tolist()"
   ]
  },
  {
   "cell_type": "markdown",
   "metadata": {
    "papermill": {
     "duration": 0.042884,
     "end_time": "2020-06-20T01:14:30.354335",
     "exception": false,
     "start_time": "2020-06-20T01:14:30.311451",
     "status": "completed"
    },
    "tags": [
     "remove_cell"
    ]
   },
   "source": [
    "## Save the data to disk"
   ]
  },
  {
   "cell_type": "code",
   "execution_count": 7,
   "metadata": {
    "execution": {
     "iopub.execute_input": "2020-06-20T01:14:30.434503Z",
     "iopub.status.busy": "2020-06-20T01:14:30.433458Z",
     "iopub.status.idle": "2020-06-20T01:14:30.736957Z",
     "shell.execute_reply": "2020-06-20T01:14:30.735900Z"
    },
    "papermill": {
     "duration": 0.346122,
     "end_time": "2020-06-20T01:14:30.737127",
     "exception": false,
     "start_time": "2020-06-20T01:14:30.391005",
     "status": "completed"
    },
    "tags": [
     "remove_cell"
    ]
   },
   "outputs": [],
   "source": [
    "from pathlib import Path\n",
    "for name, idata in [(\"comments\", comments), (\"prs\", prs), (\"issues\", issues)]:\n",
    "    path_data = Path(f\"./{name}.csv\")\n",
    "    if path_data.exists():\n",
    "        idata = pd.read_csv(path_data).append(idata)\n",
    "    idata = idata.drop_duplicates(subset=[\"url\"])\n",
    "    idata.to_csv(path_data, index=None)"
   ]
  },
  {
   "cell_type": "markdown",
   "metadata": {
    "papermill": {
     "duration": 0.03968,
     "end_time": "2020-06-20T01:14:30.815618",
     "exception": false,
     "start_time": "2020-06-20T01:14:30.775938",
     "status": "completed"
    },
    "tags": [],
    "toc-hr-collapsed": false
   },
   "source": [
    "## Merged Pull requests\n",
    "\n",
    "Here's an analysis of **merged pull requests** across each of the repositories in the Jupyter\n",
    "ecosystem."
   ]
  },
  {
   "cell_type": "code",
   "execution_count": 8,
   "metadata": {
    "execution": {
     "iopub.execute_input": "2020-06-20T01:14:30.897371Z",
     "iopub.status.busy": "2020-06-20T01:14:30.896802Z",
     "iopub.status.idle": "2020-06-20T01:14:30.900258Z",
     "shell.execute_reply": "2020-06-20T01:14:30.900816Z"
    },
    "papermill": {
     "duration": 0.049544,
     "end_time": "2020-06-20T01:14:30.900962",
     "exception": false,
     "start_time": "2020-06-20T01:14:30.851418",
     "status": "completed"
    },
    "tags": [
     "remove_cell"
    ]
   },
   "outputs": [],
   "source": [
    "merged = prs.query('state == \"MERGED\" and closedAt > @start_date and closedAt < @stop_date')"
   ]
  },
  {
   "cell_type": "code",
   "execution_count": 9,
   "metadata": {
    "execution": {
     "iopub.execute_input": "2020-06-20T01:14:30.984858Z",
     "iopub.status.busy": "2020-06-20T01:14:30.984126Z",
     "iopub.status.idle": "2020-06-20T01:14:31.018236Z",
     "shell.execute_reply": "2020-06-20T01:14:31.019145Z"
    },
    "papermill": {
     "duration": 0.080458,
     "end_time": "2020-06-20T01:14:31.019337",
     "exception": false,
     "start_time": "2020-06-20T01:14:30.938879",
     "status": "completed"
    },
    "tags": [
     "hide_input"
    ]
   },
   "outputs": [
    {
     "data": {
      "text/html": [
       "\n",
       "<div id=\"altair-viz-80ac94f0573b4e47b45c70a47908edfb\"></div>\n",
       "<script type=\"text/javascript\">\n",
       "  (function(spec, embedOpt){\n",
       "    let outputDiv = document.currentScript.previousElementSibling;\n",
       "    if (outputDiv.id !== \"altair-viz-80ac94f0573b4e47b45c70a47908edfb\") {\n",
       "      outputDiv = document.getElementById(\"altair-viz-80ac94f0573b4e47b45c70a47908edfb\");\n",
       "    }\n",
       "    const paths = {\n",
       "      \"vega\": \"https://cdn.jsdelivr.net/npm//vega@5?noext\",\n",
       "      \"vega-lib\": \"https://cdn.jsdelivr.net/npm//vega-lib?noext\",\n",
       "      \"vega-lite\": \"https://cdn.jsdelivr.net/npm//vega-lite@4.8.1?noext\",\n",
       "      \"vega-embed\": \"https://cdn.jsdelivr.net/npm//vega-embed@6?noext\",\n",
       "    };\n",
       "\n",
       "    function loadScript(lib) {\n",
       "      return new Promise(function(resolve, reject) {\n",
       "        var s = document.createElement('script');\n",
       "        s.src = paths[lib];\n",
       "        s.async = true;\n",
       "        s.onload = () => resolve(paths[lib]);\n",
       "        s.onerror = () => reject(`Error loading script: ${paths[lib]}`);\n",
       "        document.getElementsByTagName(\"head\")[0].appendChild(s);\n",
       "      });\n",
       "    }\n",
       "\n",
       "    function showError(err) {\n",
       "      outputDiv.innerHTML = `<div class=\"error\" style=\"color:red;\">${err}</div>`;\n",
       "      throw err;\n",
       "    }\n",
       "\n",
       "    function displayChart(vegaEmbed) {\n",
       "      vegaEmbed(outputDiv, spec, embedOpt)\n",
       "        .catch(err => showError(`Javascript Error: ${err.message}<br>This usually means there's a typo in your chart specification. See the javascript console for the full traceback.`));\n",
       "    }\n",
       "\n",
       "    if(typeof define === \"function\" && define.amd) {\n",
       "      requirejs.config({paths});\n",
       "      require([\"vega-embed\"], displayChart, err => showError(`Error loading script: ${err.message}`));\n",
       "    } else if (typeof vegaEmbed === \"function\") {\n",
       "      displayChart(vegaEmbed);\n",
       "    } else {\n",
       "      loadScript(\"vega\")\n",
       "        .then(() => loadScript(\"vega-lite\"))\n",
       "        .then(() => loadScript(\"vega-embed\"))\n",
       "        .catch(showError)\n",
       "        .then(() => displayChart(vegaEmbed));\n",
       "    }\n",
       "  })({\"config\": {\"axisLeft\": {\"labelFontSize\": 15}, \"axisBottom\": {\"labelFontSize\": 15}}, \"data\": {\"name\": \"data-86d994b8f142ceb4af0f7ab4e088205d\"}, \"mark\": \"bar\", \"encoding\": {\"color\": {\"type\": \"nominal\", \"field\": \"org\"}, \"x\": {\"type\": \"nominal\", \"field\": \"repo\", \"sort\": [\"ipython\", \"traitlets\", \"ipykernel\", \"ipyparallel\", \"ipython-website\"]}, \"y\": {\"type\": \"quantitative\", \"field\": \"author\"}}, \"title\": \"Merged PRs in the last 60 days\", \"$schema\": \"https://vega.github.io/schema/vega-lite/v4.8.1.json\", \"datasets\": {\"data-86d994b8f142ceb4af0f7ab4e088205d\": [{\"org\": \"ipython\", \"repo\": \"ipython\", \"author\": 60}, {\"org\": \"ipython\", \"repo\": \"traitlets\", \"author\": 24}, {\"org\": \"ipython\", \"repo\": \"ipykernel\", \"author\": 8}, {\"org\": \"ipython\", \"repo\": \"ipyparallel\", \"author\": 8}, {\"org\": \"ipython\", \"repo\": \"ipython-website\", \"author\": 1}]}}, {\"mode\": \"vega-lite\"});\n",
       "</script>"
      ],
      "text/plain": [
       "alt.Chart(...)"
      ]
     },
     "execution_count": 9,
     "metadata": {},
     "output_type": "execute_result"
    }
   ],
   "source": [
    "prs_by_repo = merged.groupby(['org', 'repo']).count()['author'].reset_index().sort_values(['org', 'author'], ascending=False)\n",
    "alt.Chart(data=prs_by_repo, title=f\"Merged PRs in the last {n_days} days\").mark_bar().encode(\n",
    "    x=alt.X('repo', sort=prs_by_repo['repo'].values.tolist()),\n",
    "    y='author',\n",
    "    color='org'\n",
    ")"
   ]
  },
  {
   "cell_type": "markdown",
   "metadata": {
    "papermill": {
     "duration": 0.039195,
     "end_time": "2020-06-20T01:14:31.098869",
     "exception": false,
     "start_time": "2020-06-20T01:14:31.059674",
     "status": "completed"
    },
    "tags": []
   },
   "source": [
    "### Authoring and merging stats by repository\n",
    "\n",
    "Let's see who has been doing most of the PR authoring and merging. The PR author is generally the\n",
    "person that implemented a change in the repository (code, documentation, etc). The PR merger is\n",
    "the person that \"pressed the green button\" and got the change into the main codebase."
   ]
  },
  {
   "cell_type": "code",
   "execution_count": 10,
   "metadata": {
    "execution": {
     "iopub.execute_input": "2020-06-20T01:14:31.185801Z",
     "iopub.status.busy": "2020-06-20T01:14:31.185232Z",
     "iopub.status.idle": "2020-06-20T01:14:31.194420Z",
     "shell.execute_reply": "2020-06-20T01:14:31.193904Z"
    },
    "papermill": {
     "duration": 0.057953,
     "end_time": "2020-06-20T01:14:31.194527",
     "exception": false,
     "start_time": "2020-06-20T01:14:31.136574",
     "status": "completed"
    },
    "tags": [
     "remove_cell"
    ]
   },
   "outputs": [],
   "source": [
    "# Prep our merging DF\n",
    "merged_by_repo = merged.groupby(['repo', 'author'], as_index=False).agg({'id': 'count', 'authorAssociation': 'first'}).rename(columns={'id': \"authored\", 'author': 'username'})\n",
    "closed_by_repo = merged.groupby(['repo', 'mergedBy']).count()['id'].reset_index().rename(columns={'id': \"closed\", \"mergedBy\": \"username\"})"
   ]
  },
  {
   "cell_type": "code",
   "execution_count": 11,
   "metadata": {
    "execution": {
     "iopub.execute_input": "2020-06-20T01:14:31.279994Z",
     "iopub.status.busy": "2020-06-20T01:14:31.279418Z",
     "iopub.status.idle": "2020-06-20T01:14:31.308389Z",
     "shell.execute_reply": "2020-06-20T01:14:31.308962Z"
    },
    "papermill": {
     "duration": 0.075635,
     "end_time": "2020-06-20T01:14:31.309101",
     "exception": false,
     "start_time": "2020-06-20T01:14:31.233466",
     "status": "completed"
    },
    "tags": [
     "hide_input"
    ]
   },
   "outputs": [
    {
     "data": {
      "text/html": [
       "\n",
       "<div id=\"altair-viz-7954e8a18796427999e0bc81e79a7955\"></div>\n",
       "<script type=\"text/javascript\">\n",
       "  (function(spec, embedOpt){\n",
       "    let outputDiv = document.currentScript.previousElementSibling;\n",
       "    if (outputDiv.id !== \"altair-viz-7954e8a18796427999e0bc81e79a7955\") {\n",
       "      outputDiv = document.getElementById(\"altair-viz-7954e8a18796427999e0bc81e79a7955\");\n",
       "    }\n",
       "    const paths = {\n",
       "      \"vega\": \"https://cdn.jsdelivr.net/npm//vega@5?noext\",\n",
       "      \"vega-lib\": \"https://cdn.jsdelivr.net/npm//vega-lib?noext\",\n",
       "      \"vega-lite\": \"https://cdn.jsdelivr.net/npm//vega-lite@4.8.1?noext\",\n",
       "      \"vega-embed\": \"https://cdn.jsdelivr.net/npm//vega-embed@6?noext\",\n",
       "    };\n",
       "\n",
       "    function loadScript(lib) {\n",
       "      return new Promise(function(resolve, reject) {\n",
       "        var s = document.createElement('script');\n",
       "        s.src = paths[lib];\n",
       "        s.async = true;\n",
       "        s.onload = () => resolve(paths[lib]);\n",
       "        s.onerror = () => reject(`Error loading script: ${paths[lib]}`);\n",
       "        document.getElementsByTagName(\"head\")[0].appendChild(s);\n",
       "      });\n",
       "    }\n",
       "\n",
       "    function showError(err) {\n",
       "      outputDiv.innerHTML = `<div class=\"error\" style=\"color:red;\">${err}</div>`;\n",
       "      throw err;\n",
       "    }\n",
       "\n",
       "    function displayChart(vegaEmbed) {\n",
       "      vegaEmbed(outputDiv, spec, embedOpt)\n",
       "        .catch(err => showError(`Javascript Error: ${err.message}<br>This usually means there's a typo in your chart specification. See the javascript console for the full traceback.`));\n",
       "    }\n",
       "\n",
       "    if(typeof define === \"function\" && define.amd) {\n",
       "      requirejs.config({paths});\n",
       "      require([\"vega-embed\"], displayChart, err => showError(`Error loading script: ${err.message}`));\n",
       "    } else if (typeof vegaEmbed === \"function\") {\n",
       "      displayChart(vegaEmbed);\n",
       "    } else {\n",
       "      loadScript(\"vega\")\n",
       "        .then(() => loadScript(\"vega-lite\"))\n",
       "        .then(() => loadScript(\"vega-embed\"))\n",
       "        .catch(showError)\n",
       "        .then(() => displayChart(vegaEmbed));\n",
       "    }\n",
       "  })({\"config\": {\"axisLeft\": {\"labelFontSize\": 15}, \"axisBottom\": {\"labelFontSize\": 15}}, \"data\": {\"name\": \"data-90da6732c84fa8b07e32c6712304f03c\"}, \"mark\": \"bar\", \"encoding\": {\"color\": {\"type\": \"nominal\", \"field\": \"authorAssociation\", \"scale\": {\"domain\": [\"MEMBER\", \"CONTRIBUTOR\", \"COLLABORATOR\", \"NONE\"], \"range\": [\"rgb(211.82745098039214, 211.82745098039214, 211.82745098039214)\", \"rgb(166.98562091503268, 229.89803921568628, 166.98562091503268)\", \"rgb(96.37647058823529, 192.75294117647059, 96.37647058823529)\", \"rgb(0.0, 100.3921568627451, 0.0)\"]}}, \"x\": {\"type\": \"nominal\", \"field\": \"username\"}, \"y\": {\"type\": \"quantitative\", \"field\": \"authored\"}}, \"title\": \"PR authors for ipython in the last 60 days\", \"$schema\": \"https://vega.github.io/schema/vega-lite/v4.8.1.json\", \"datasets\": {\"data-90da6732c84fa8b07e32c6712304f03c\": [{\"username\": \"Carreau\", \"authored\": 45, \"authorAssociation\": \"MEMBER\"}, {\"username\": \"cool-RR\", \"authored\": 5, \"authorAssociation\": \"CONTRIBUTOR\"}, {\"username\": \"minrk\", \"authored\": 3, \"authorAssociation\": \"MEMBER\"}, {\"username\": \"itamarst\", \"authored\": 3, \"authorAssociation\": \"CONTRIBUTOR\"}, {\"username\": \"cclauss\", \"authored\": 3, \"authorAssociation\": \"CONTRIBUTOR\"}, {\"username\": \"dtrodrigues\", \"authored\": 2, \"authorAssociation\": \"NONE\"}, {\"username\": \"timkpaine\", \"authored\": 2, \"authorAssociation\": \"CONTRIBUTOR\"}, {\"username\": \"takluyver\", \"authored\": 2, \"authorAssociation\": \"MEMBER\"}, {\"username\": \"ssanderson\", \"authored\": 2, \"authorAssociation\": \"MEMBER\"}, {\"username\": \"impact27\", \"authored\": 2, \"authorAssociation\": \"CONTRIBUTOR\"}, {\"username\": \"ellert\", \"authored\": 2, \"authorAssociation\": \"CONTRIBUTOR\"}, {\"username\": \"tlambert03\", \"authored\": 2, \"authorAssociation\": \"CONTRIBUTOR\"}, {\"username\": \"dalthviz\", \"authored\": 2, \"authorAssociation\": \"CONTRIBUTOR\"}, {\"username\": \"davidbrochart\", \"authored\": 1, \"authorAssociation\": \"CONTRIBUTOR\"}, {\"username\": \"jasongrout\", \"authored\": 1, \"authorAssociation\": \"MEMBER\"}, {\"username\": \"TheHubbit\", \"authored\": 1, \"authorAssociation\": \"CONTRIBUTOR\"}, {\"username\": \"astromancer\", \"authored\": 1, \"authorAssociation\": \"CONTRIBUTOR\"}, {\"username\": \"bgerrity\", \"authored\": 1, \"authorAssociation\": \"CONTRIBUTOR\"}, {\"username\": \"pauldmccarthy\", \"authored\": 1, \"authorAssociation\": \"CONTRIBUTOR\"}, {\"username\": \"palewire\", \"authored\": 1, \"authorAssociation\": \"CONTRIBUTOR\"}, {\"username\": \"blakejgriffin\", \"authored\": 1, \"authorAssociation\": \"CONTRIBUTOR\"}, {\"username\": \"mehaase\", \"authored\": 1, \"authorAssociation\": \"CONTRIBUTOR\"}, {\"username\": \"martinRenou\", \"authored\": 1, \"authorAssociation\": \"CONTRIBUTOR\"}, {\"username\": \"marciomazza\", \"authored\": 1, \"authorAssociation\": \"CONTRIBUTOR\"}, {\"username\": \"lim4349\", \"authored\": 1, \"authorAssociation\": \"CONTRIBUTOR\"}, {\"username\": \"kinow\", \"authored\": 1, \"authorAssociation\": \"CONTRIBUTOR\"}, {\"username\": \"ivanov\", \"authored\": 1, \"authorAssociation\": \"MEMBER\"}, {\"username\": \"dgabriele\", \"authored\": 1, \"authorAssociation\": \"NONE\"}, {\"username\": \"blink1073\", \"authored\": 1, \"authorAssociation\": \"MEMBER\"}, {\"username\": \"btel\", \"authored\": 1, \"authorAssociation\": \"CONTRIBUTOR\"}, {\"username\": \"imba-tjd\", \"authored\": 1, \"authorAssociation\": \"CONTRIBUTOR\"}, {\"username\": \"gorogoroumaru\", \"authored\": 1, \"authorAssociation\": \"CONTRIBUTOR\"}, {\"username\": \"godlygeek\", \"authored\": 1, \"authorAssociation\": \"CONTRIBUTOR\"}, {\"username\": \"Inception95\", \"authored\": 1, \"authorAssociation\": \"CONTRIBUTOR\"}, {\"username\": \"eric-wieser\", \"authored\": 1, \"authorAssociation\": \"CONTRIBUTOR\"}, {\"username\": \"connerxyz\", \"authored\": 1, \"authorAssociation\": \"CONTRIBUTOR\"}, {\"username\": \"eaton-lab\", \"authored\": 1, \"authorAssociation\": \"CONTRIBUTOR\"}, {\"username\": \"eXaz\", \"authored\": 1, \"authorAssociation\": \"CONTRIBUTOR\"}, {\"username\": \"ftobia\", \"authored\": 1, \"authorAssociation\": \"CONTRIBUTOR\"}]}}, {\"mode\": \"vega-lite\"});\n",
       "</script>"
      ],
      "text/plain": [
       "alt.Chart(...)"
      ]
     },
     "execution_count": 11,
     "metadata": {},
     "output_type": "execute_result"
    }
   ],
   "source": [
    "charts = []\n",
    "title = f\"PR authors for {github_org} in the last {n_days} days\"\n",
    "this_data = merged_by_repo.replace(np.nan, 0).groupby('username', as_index=False).agg({'authored': 'sum', 'authorAssociation': 'first'})\n",
    "this_data = this_data.sort_values('authored', ascending=False)\n",
    "ch = alt.Chart(data=this_data, title=title).mark_bar().encode(\n",
    "    x='username',\n",
    "    y='authored',\n",
    "    color=alt.Color('authorAssociation', scale=alt.Scale(domain=author_types, range=author_colors))\n",
    ")\n",
    "ch"
   ]
  },
  {
   "cell_type": "code",
   "execution_count": 12,
   "metadata": {
    "execution": {
     "iopub.execute_input": "2020-06-20T01:14:31.409734Z",
     "iopub.status.busy": "2020-06-20T01:14:31.398557Z",
     "iopub.status.idle": "2020-06-20T01:14:31.417956Z",
     "shell.execute_reply": "2020-06-20T01:14:31.417325Z"
    },
    "papermill": {
     "duration": 0.069467,
     "end_time": "2020-06-20T01:14:31.418062",
     "exception": false,
     "start_time": "2020-06-20T01:14:31.348595",
     "status": "completed"
    },
    "tags": [
     "hide_input"
    ]
   },
   "outputs": [
    {
     "data": {
      "text/html": [
       "\n",
       "<div id=\"altair-viz-bf9819f646484e36a499ebaa6fd231b9\"></div>\n",
       "<script type=\"text/javascript\">\n",
       "  (function(spec, embedOpt){\n",
       "    let outputDiv = document.currentScript.previousElementSibling;\n",
       "    if (outputDiv.id !== \"altair-viz-bf9819f646484e36a499ebaa6fd231b9\") {\n",
       "      outputDiv = document.getElementById(\"altair-viz-bf9819f646484e36a499ebaa6fd231b9\");\n",
       "    }\n",
       "    const paths = {\n",
       "      \"vega\": \"https://cdn.jsdelivr.net/npm//vega@5?noext\",\n",
       "      \"vega-lib\": \"https://cdn.jsdelivr.net/npm//vega-lib?noext\",\n",
       "      \"vega-lite\": \"https://cdn.jsdelivr.net/npm//vega-lite@4.8.1?noext\",\n",
       "      \"vega-embed\": \"https://cdn.jsdelivr.net/npm//vega-embed@6?noext\",\n",
       "    };\n",
       "\n",
       "    function loadScript(lib) {\n",
       "      return new Promise(function(resolve, reject) {\n",
       "        var s = document.createElement('script');\n",
       "        s.src = paths[lib];\n",
       "        s.async = true;\n",
       "        s.onload = () => resolve(paths[lib]);\n",
       "        s.onerror = () => reject(`Error loading script: ${paths[lib]}`);\n",
       "        document.getElementsByTagName(\"head\")[0].appendChild(s);\n",
       "      });\n",
       "    }\n",
       "\n",
       "    function showError(err) {\n",
       "      outputDiv.innerHTML = `<div class=\"error\" style=\"color:red;\">${err}</div>`;\n",
       "      throw err;\n",
       "    }\n",
       "\n",
       "    function displayChart(vegaEmbed) {\n",
       "      vegaEmbed(outputDiv, spec, embedOpt)\n",
       "        .catch(err => showError(`Javascript Error: ${err.message}<br>This usually means there's a typo in your chart specification. See the javascript console for the full traceback.`));\n",
       "    }\n",
       "\n",
       "    if(typeof define === \"function\" && define.amd) {\n",
       "      requirejs.config({paths});\n",
       "      require([\"vega-embed\"], displayChart, err => showError(`Error loading script: ${err.message}`));\n",
       "    } else if (typeof vegaEmbed === \"function\") {\n",
       "      displayChart(vegaEmbed);\n",
       "    } else {\n",
       "      loadScript(\"vega\")\n",
       "        .then(() => loadScript(\"vega-lite\"))\n",
       "        .then(() => loadScript(\"vega-embed\"))\n",
       "        .catch(showError)\n",
       "        .then(() => displayChart(vegaEmbed));\n",
       "    }\n",
       "  })({\"config\": {\"axisLeft\": {\"labelFontSize\": 15}, \"axisBottom\": {\"labelFontSize\": 15}}, \"data\": {\"name\": \"data-39bc0fd2f9ef13663db5b977a1c7c104\"}, \"mark\": \"bar\", \"encoding\": {\"x\": {\"type\": \"nominal\", \"field\": \"username\"}, \"y\": {\"type\": \"quantitative\", \"field\": \"closed\"}}, \"title\": \"Merges for ipython in the last 60 days\", \"$schema\": \"https://vega.github.io/schema/vega-lite/v4.8.1.json\", \"datasets\": {\"data-39bc0fd2f9ef13663db5b977a1c7c104\": [{\"repo\": \"ipykernel\", \"username\": \"blink1073\", \"closed\": 8}, {\"repo\": \"ipyparallel\", \"username\": \"minrk\", \"closed\": 8}, {\"repo\": \"ipython\", \"username\": \"Carreau\", \"closed\": 59}, {\"repo\": \"ipython\", \"username\": \"ivanov\", \"closed\": 1}, {\"repo\": \"ipython-website\", \"username\": \"Carreau\", \"closed\": 1}, {\"repo\": \"traitlets\", \"username\": \"Carreau\", \"closed\": 19}, {\"repo\": \"traitlets\", \"username\": \"rmorshea\", \"closed\": 5}]}}, {\"mode\": \"vega-lite\"});\n",
       "</script>"
      ],
      "text/plain": [
       "alt.Chart(...)"
      ]
     },
     "execution_count": 12,
     "metadata": {},
     "output_type": "execute_result"
    }
   ],
   "source": [
    "charts = []\n",
    "title = f\"Merges for {github_org} in the last {n_days} days\"\n",
    "ch = alt.Chart(data=closed_by_repo.replace(np.nan, 0), title=title).mark_bar().encode(\n",
    "    x='username',\n",
    "    y='closed',\n",
    ")\n",
    "ch"
   ]
  },
  {
   "cell_type": "markdown",
   "metadata": {
    "papermill": {
     "duration": 0.04011,
     "end_time": "2020-06-20T01:14:31.497845",
     "exception": false,
     "start_time": "2020-06-20T01:14:31.457735",
     "status": "completed"
    },
    "tags": []
   },
   "source": [
    "## Issues\n",
    "\n",
    "Issues are **conversations** that happen on our GitHub repositories. Here's an\n",
    "analysis of issues across the Jupyter organizations."
   ]
  },
  {
   "cell_type": "code",
   "execution_count": 13,
   "metadata": {
    "execution": {
     "iopub.execute_input": "2020-06-20T01:14:31.595374Z",
     "iopub.status.busy": "2020-06-20T01:14:31.594699Z",
     "iopub.status.idle": "2020-06-20T01:14:31.597563Z",
     "shell.execute_reply": "2020-06-20T01:14:31.596959Z"
    },
    "papermill": {
     "duration": 0.061536,
     "end_time": "2020-06-20T01:14:31.597662",
     "exception": false,
     "start_time": "2020-06-20T01:14:31.536126",
     "status": "completed"
    },
    "tags": [
     "remove_cell"
    ]
   },
   "outputs": [],
   "source": [
    "created = issues.query('state == \"OPEN\" and createdAt > @start_date and createdAt < @stop_date')\n",
    "closed = issues.query('state == \"CLOSED\" and closedAt > @start_date and closedAt < @stop_date')"
   ]
  },
  {
   "cell_type": "code",
   "execution_count": 14,
   "metadata": {
    "execution": {
     "iopub.execute_input": "2020-06-20T01:14:31.685091Z",
     "iopub.status.busy": "2020-06-20T01:14:31.684532Z",
     "iopub.status.idle": "2020-06-20T01:14:31.708828Z",
     "shell.execute_reply": "2020-06-20T01:14:31.709573Z"
    },
    "papermill": {
     "duration": 0.07284,
     "end_time": "2020-06-20T01:14:31.709750",
     "exception": false,
     "start_time": "2020-06-20T01:14:31.636910",
     "status": "completed"
    },
    "tags": [
     "hide_input"
    ]
   },
   "outputs": [
    {
     "data": {
      "text/html": [
       "\n",
       "<div id=\"altair-viz-11f44bd531084705b2ee0ed4f288ed47\"></div>\n",
       "<script type=\"text/javascript\">\n",
       "  (function(spec, embedOpt){\n",
       "    let outputDiv = document.currentScript.previousElementSibling;\n",
       "    if (outputDiv.id !== \"altair-viz-11f44bd531084705b2ee0ed4f288ed47\") {\n",
       "      outputDiv = document.getElementById(\"altair-viz-11f44bd531084705b2ee0ed4f288ed47\");\n",
       "    }\n",
       "    const paths = {\n",
       "      \"vega\": \"https://cdn.jsdelivr.net/npm//vega@5?noext\",\n",
       "      \"vega-lib\": \"https://cdn.jsdelivr.net/npm//vega-lib?noext\",\n",
       "      \"vega-lite\": \"https://cdn.jsdelivr.net/npm//vega-lite@4.8.1?noext\",\n",
       "      \"vega-embed\": \"https://cdn.jsdelivr.net/npm//vega-embed@6?noext\",\n",
       "    };\n",
       "\n",
       "    function loadScript(lib) {\n",
       "      return new Promise(function(resolve, reject) {\n",
       "        var s = document.createElement('script');\n",
       "        s.src = paths[lib];\n",
       "        s.async = true;\n",
       "        s.onload = () => resolve(paths[lib]);\n",
       "        s.onerror = () => reject(`Error loading script: ${paths[lib]}`);\n",
       "        document.getElementsByTagName(\"head\")[0].appendChild(s);\n",
       "      });\n",
       "    }\n",
       "\n",
       "    function showError(err) {\n",
       "      outputDiv.innerHTML = `<div class=\"error\" style=\"color:red;\">${err}</div>`;\n",
       "      throw err;\n",
       "    }\n",
       "\n",
       "    function displayChart(vegaEmbed) {\n",
       "      vegaEmbed(outputDiv, spec, embedOpt)\n",
       "        .catch(err => showError(`Javascript Error: ${err.message}<br>This usually means there's a typo in your chart specification. See the javascript console for the full traceback.`));\n",
       "    }\n",
       "\n",
       "    if(typeof define === \"function\" && define.amd) {\n",
       "      requirejs.config({paths});\n",
       "      require([\"vega-embed\"], displayChart, err => showError(`Error loading script: ${err.message}`));\n",
       "    } else if (typeof vegaEmbed === \"function\") {\n",
       "      displayChart(vegaEmbed);\n",
       "    } else {\n",
       "      loadScript(\"vega\")\n",
       "        .then(() => loadScript(\"vega-lite\"))\n",
       "        .then(() => loadScript(\"vega-embed\"))\n",
       "        .catch(showError)\n",
       "        .then(() => displayChart(vegaEmbed));\n",
       "    }\n",
       "  })({\"config\": {\"axisLeft\": {\"labelFontSize\": 15}, \"axisBottom\": {\"labelFontSize\": 15}}, \"data\": {\"name\": \"data-7166c0d06bc317c0be2495fa369bffe0\"}, \"mark\": \"bar\", \"encoding\": {\"x\": {\"type\": \"nominal\", \"field\": \"repo\", \"sort\": [\"ipython\", \"ipykernel\", \"ipyparallel\", \"traitlets\", \"ipynb\", \"ipython_genutils\"]}, \"y\": {\"type\": \"quantitative\", \"field\": \"number\"}}, \"title\": \"Issues created in the last 60 days\", \"$schema\": \"https://vega.github.io/schema/vega-lite/v4.8.1.json\", \"datasets\": {\"data-7166c0d06bc317c0be2495fa369bffe0\": [{\"org\": \"ipython\", \"repo\": \"ipykernel\", \"number\": 7, \"org/repo\": \"ipython/ipykernel\"}, {\"org\": \"ipython\", \"repo\": \"ipynb\", \"number\": 2, \"org/repo\": \"ipython/ipynb\"}, {\"org\": \"ipython\", \"repo\": \"ipyparallel\", \"number\": 4, \"org/repo\": \"ipython/ipyparallel\"}, {\"org\": \"ipython\", \"repo\": \"ipython\", \"number\": 33, \"org/repo\": \"ipython/ipython\"}, {\"org\": \"ipython\", \"repo\": \"ipython_genutils\", \"number\": 1, \"org/repo\": \"ipython/ipython_genutils\"}, {\"org\": \"ipython\", \"repo\": \"traitlets\", \"number\": 4, \"org/repo\": \"ipython/traitlets\"}]}}, {\"mode\": \"vega-lite\"});\n",
       "</script>"
      ],
      "text/plain": [
       "alt.Chart(...)"
      ]
     },
     "execution_count": 14,
     "metadata": {},
     "output_type": "execute_result"
    }
   ],
   "source": [
    "created_counts = created.groupby(['org', 'repo']).count()['number'].reset_index()\n",
    "created_counts['org/repo'] = created_counts.apply(lambda a: a['org'] + '/' + a['repo'], axis=1)\n",
    "sorted_vals = created_counts.sort_values(['org', 'number'], ascending=False)['repo'].values\n",
    "alt.Chart(data=created_counts, title=f\"Issues created in the last {n_days} days\").mark_bar().encode(\n",
    "    x=alt.X('repo', sort=alt.Sort(sorted_vals.tolist())),\n",
    "    y='number',\n",
    ")"
   ]
  },
  {
   "cell_type": "code",
   "execution_count": 15,
   "metadata": {
    "execution": {
     "iopub.execute_input": "2020-06-20T01:14:31.900566Z",
     "iopub.status.busy": "2020-06-20T01:14:31.899541Z",
     "iopub.status.idle": "2020-06-20T01:14:31.902528Z",
     "shell.execute_reply": "2020-06-20T01:14:31.903110Z"
    },
    "papermill": {
     "duration": 0.152402,
     "end_time": "2020-06-20T01:14:31.903256",
     "exception": false,
     "start_time": "2020-06-20T01:14:31.750854",
     "status": "completed"
    },
    "tags": [
     "hide_input"
    ]
   },
   "outputs": [
    {
     "data": {
      "text/html": [
       "\n",
       "<div id=\"altair-viz-a2fa5603476c4c8dabd7030608b5b65e\"></div>\n",
       "<script type=\"text/javascript\">\n",
       "  (function(spec, embedOpt){\n",
       "    let outputDiv = document.currentScript.previousElementSibling;\n",
       "    if (outputDiv.id !== \"altair-viz-a2fa5603476c4c8dabd7030608b5b65e\") {\n",
       "      outputDiv = document.getElementById(\"altair-viz-a2fa5603476c4c8dabd7030608b5b65e\");\n",
       "    }\n",
       "    const paths = {\n",
       "      \"vega\": \"https://cdn.jsdelivr.net/npm//vega@5?noext\",\n",
       "      \"vega-lib\": \"https://cdn.jsdelivr.net/npm//vega-lib?noext\",\n",
       "      \"vega-lite\": \"https://cdn.jsdelivr.net/npm//vega-lite@4.8.1?noext\",\n",
       "      \"vega-embed\": \"https://cdn.jsdelivr.net/npm//vega-embed@6?noext\",\n",
       "    };\n",
       "\n",
       "    function loadScript(lib) {\n",
       "      return new Promise(function(resolve, reject) {\n",
       "        var s = document.createElement('script');\n",
       "        s.src = paths[lib];\n",
       "        s.async = true;\n",
       "        s.onload = () => resolve(paths[lib]);\n",
       "        s.onerror = () => reject(`Error loading script: ${paths[lib]}`);\n",
       "        document.getElementsByTagName(\"head\")[0].appendChild(s);\n",
       "      });\n",
       "    }\n",
       "\n",
       "    function showError(err) {\n",
       "      outputDiv.innerHTML = `<div class=\"error\" style=\"color:red;\">${err}</div>`;\n",
       "      throw err;\n",
       "    }\n",
       "\n",
       "    function displayChart(vegaEmbed) {\n",
       "      vegaEmbed(outputDiv, spec, embedOpt)\n",
       "        .catch(err => showError(`Javascript Error: ${err.message}<br>This usually means there's a typo in your chart specification. See the javascript console for the full traceback.`));\n",
       "    }\n",
       "\n",
       "    if(typeof define === \"function\" && define.amd) {\n",
       "      requirejs.config({paths});\n",
       "      require([\"vega-embed\"], displayChart, err => showError(`Error loading script: ${err.message}`));\n",
       "    } else if (typeof vegaEmbed === \"function\") {\n",
       "      displayChart(vegaEmbed);\n",
       "    } else {\n",
       "      loadScript(\"vega\")\n",
       "        .then(() => loadScript(\"vega-lite\"))\n",
       "        .then(() => loadScript(\"vega-embed\"))\n",
       "        .catch(showError)\n",
       "        .then(() => displayChart(vegaEmbed));\n",
       "    }\n",
       "  })({\"config\": {\"axisLeft\": {\"labelFontSize\": 15}, \"axisBottom\": {\"labelFontSize\": 15}}, \"data\": {\"name\": \"data-555b2ddf697342a3b5c72148578389bc\"}, \"mark\": \"bar\", \"encoding\": {\"x\": {\"type\": \"nominal\", \"field\": \"repo\", \"sort\": [\"ipython\", \"ipykernel\", \"ipyparallel\", \"traitlets\"]}, \"y\": {\"type\": \"quantitative\", \"field\": \"number\"}}, \"title\": \"Issues closed in the last 60 days\", \"$schema\": \"https://vega.github.io/schema/vega-lite/v4.8.1.json\", \"datasets\": {\"data-555b2ddf697342a3b5c72148578389bc\": [{\"org\": \"ipython\", \"repo\": \"ipykernel\", \"number\": 5, \"org/repo\": \"ipython/ipykernel\"}, {\"org\": \"ipython\", \"repo\": \"ipyparallel\", \"number\": 2, \"org/repo\": \"ipython/ipyparallel\"}, {\"org\": \"ipython\", \"repo\": \"ipython\", \"number\": 40, \"org/repo\": \"ipython/ipython\"}, {\"org\": \"ipython\", \"repo\": \"traitlets\", \"number\": 1, \"org/repo\": \"ipython/traitlets\"}]}}, {\"mode\": \"vega-lite\"});\n",
       "</script>"
      ],
      "text/plain": [
       "alt.Chart(...)"
      ]
     },
     "execution_count": 15,
     "metadata": {},
     "output_type": "execute_result"
    }
   ],
   "source": [
    "closed_counts = closed.groupby(['org', 'repo']).count()['number'].reset_index()\n",
    "closed_counts['org/repo'] = closed_counts.apply(lambda a: a['org'] + '/' + a['repo'], axis=1)\n",
    "sorted_vals = closed_counts.sort_values(['number'], ascending=False)['repo'].values\n",
    "alt.Chart(data=closed_counts, title=f\"Issues closed in the last {n_days} days\").mark_bar().encode(\n",
    "    x=alt.X('repo', sort=alt.Sort(sorted_vals.tolist())),\n",
    "    y='number',\n",
    ")"
   ]
  },
  {
   "cell_type": "code",
   "execution_count": 16,
   "metadata": {
    "execution": {
     "iopub.execute_input": "2020-06-20T01:14:32.002906Z",
     "iopub.status.busy": "2020-06-20T01:14:32.002241Z",
     "iopub.status.idle": "2020-06-20T01:14:32.004725Z",
     "shell.execute_reply": "2020-06-20T01:14:32.003945Z"
    },
    "papermill": {
     "duration": 0.0611,
     "end_time": "2020-06-20T01:14:32.004833",
     "exception": false,
     "start_time": "2020-06-20T01:14:31.943733",
     "status": "completed"
    },
    "tags": [
     "remove_cell"
    ]
   },
   "outputs": [],
   "source": [
    "created_closed = pd.merge(created_counts.rename(columns={'number': 'created'}).drop(columns='org/repo'),\n",
    "                          closed_counts.rename(columns={'number': 'closed'}).drop(columns='org/repo'),\n",
    "                          on=['org', 'repo'], how='outer')\n",
    "\n",
    "created_closed = pd.melt(created_closed, id_vars=['org', 'repo'], var_name=\"kind\", value_name=\"count\").replace(np.nan, 0)"
   ]
  },
  {
   "cell_type": "code",
   "execution_count": 17,
   "metadata": {
    "execution": {
     "iopub.execute_input": "2020-06-20T01:14:32.119044Z",
     "iopub.status.busy": "2020-06-20T01:14:32.106289Z",
     "iopub.status.idle": "2020-06-20T01:14:32.122354Z",
     "shell.execute_reply": "2020-06-20T01:14:32.121717Z"
    },
    "papermill": {
     "duration": 0.076667,
     "end_time": "2020-06-20T01:14:32.122462",
     "exception": false,
     "start_time": "2020-06-20T01:14:32.045795",
     "status": "completed"
    },
    "tags": [
     "hide_input"
    ]
   },
   "outputs": [
    {
     "data": {
      "text/html": [
       "\n",
       "<div id=\"altair-viz-0217ce882ed045aaa86ab936cdf97a00\"></div>\n",
       "<script type=\"text/javascript\">\n",
       "  (function(spec, embedOpt){\n",
       "    let outputDiv = document.currentScript.previousElementSibling;\n",
       "    if (outputDiv.id !== \"altair-viz-0217ce882ed045aaa86ab936cdf97a00\") {\n",
       "      outputDiv = document.getElementById(\"altair-viz-0217ce882ed045aaa86ab936cdf97a00\");\n",
       "    }\n",
       "    const paths = {\n",
       "      \"vega\": \"https://cdn.jsdelivr.net/npm//vega@5?noext\",\n",
       "      \"vega-lib\": \"https://cdn.jsdelivr.net/npm//vega-lib?noext\",\n",
       "      \"vega-lite\": \"https://cdn.jsdelivr.net/npm//vega-lite@4.8.1?noext\",\n",
       "      \"vega-embed\": \"https://cdn.jsdelivr.net/npm//vega-embed@6?noext\",\n",
       "    };\n",
       "\n",
       "    function loadScript(lib) {\n",
       "      return new Promise(function(resolve, reject) {\n",
       "        var s = document.createElement('script');\n",
       "        s.src = paths[lib];\n",
       "        s.async = true;\n",
       "        s.onload = () => resolve(paths[lib]);\n",
       "        s.onerror = () => reject(`Error loading script: ${paths[lib]}`);\n",
       "        document.getElementsByTagName(\"head\")[0].appendChild(s);\n",
       "      });\n",
       "    }\n",
       "\n",
       "    function showError(err) {\n",
       "      outputDiv.innerHTML = `<div class=\"error\" style=\"color:red;\">${err}</div>`;\n",
       "      throw err;\n",
       "    }\n",
       "\n",
       "    function displayChart(vegaEmbed) {\n",
       "      vegaEmbed(outputDiv, spec, embedOpt)\n",
       "        .catch(err => showError(`Javascript Error: ${err.message}<br>This usually means there's a typo in your chart specification. See the javascript console for the full traceback.`));\n",
       "    }\n",
       "\n",
       "    if(typeof define === \"function\" && define.amd) {\n",
       "      requirejs.config({paths});\n",
       "      require([\"vega-embed\"], displayChart, err => showError(`Error loading script: ${err.message}`));\n",
       "    } else if (typeof vegaEmbed === \"function\") {\n",
       "      displayChart(vegaEmbed);\n",
       "    } else {\n",
       "      loadScript(\"vega\")\n",
       "        .then(() => loadScript(\"vega-lite\"))\n",
       "        .then(() => loadScript(\"vega-embed\"))\n",
       "        .catch(showError)\n",
       "        .then(() => displayChart(vegaEmbed));\n",
       "    }\n",
       "  })({\"config\": {\"axisLeft\": {\"labelFontSize\": 15}, \"axisBottom\": {\"labelFontSize\": 15}}, \"data\": {\"name\": \"data-dea4d4922d1a60bc8221976faf57361c\"}, \"mark\": \"bar\", \"encoding\": {\"color\": {\"type\": \"nominal\", \"field\": \"kind\"}, \"column\": {\"type\": \"nominal\", \"field\": \"repo\", \"header\": {\"labelFontSize\": 12, \"title\": \"Issue activity, last 60 days for ipython\", \"titleFontSize\": 15}}, \"x\": {\"type\": \"nominal\", \"axis\": {\"labelFontSize\": 15, \"title\": \"\"}, \"field\": \"kind\"}, \"y\": {\"type\": \"quantitative\", \"axis\": {\"labelFontSize\": 12, \"titleFontSize\": 15}, \"field\": \"count\"}}, \"width\": 120, \"$schema\": \"https://vega.github.io/schema/vega-lite/v4.8.1.json\", \"datasets\": {\"data-dea4d4922d1a60bc8221976faf57361c\": [{\"org\": \"ipython\", \"repo\": \"ipykernel\", \"kind\": \"created\", \"count\": 7.0}, {\"org\": \"ipython\", \"repo\": \"ipynb\", \"kind\": \"created\", \"count\": 2.0}, {\"org\": \"ipython\", \"repo\": \"ipyparallel\", \"kind\": \"created\", \"count\": 4.0}, {\"org\": \"ipython\", \"repo\": \"ipython\", \"kind\": \"created\", \"count\": 33.0}, {\"org\": \"ipython\", \"repo\": \"ipython_genutils\", \"kind\": \"created\", \"count\": 1.0}, {\"org\": \"ipython\", \"repo\": \"traitlets\", \"kind\": \"created\", \"count\": 4.0}, {\"org\": \"ipython\", \"repo\": \"ipykernel\", \"kind\": \"closed\", \"count\": 5.0}, {\"org\": \"ipython\", \"repo\": \"ipynb\", \"kind\": \"closed\", \"count\": 0.0}, {\"org\": \"ipython\", \"repo\": \"ipyparallel\", \"kind\": \"closed\", \"count\": 2.0}, {\"org\": \"ipython\", \"repo\": \"ipython\", \"kind\": \"closed\", \"count\": 40.0}, {\"org\": \"ipython\", \"repo\": \"ipython_genutils\", \"kind\": \"closed\", \"count\": 0.0}, {\"org\": \"ipython\", \"repo\": \"traitlets\", \"kind\": \"closed\", \"count\": 1.0}]}}, {\"mode\": \"vega-lite\"});\n",
       "</script>"
      ],
      "text/plain": [
       "alt.Chart(...)"
      ]
     },
     "execution_count": 17,
     "metadata": {},
     "output_type": "execute_result"
    }
   ],
   "source": [
    "charts = []\n",
    "# Pick the top 10 repositories\n",
    "top_repos = created_closed.groupby(['repo']).sum().sort_values(by='count', ascending=False).head(10).index\n",
    "ch = alt.Chart(created_closed.query('repo in @top_repos'), width=120).mark_bar().encode(\n",
    "    x=alt.X(\"kind\", axis=alt.Axis(labelFontSize=15, title=\"\")), \n",
    "    y=alt.Y('count', axis=alt.Axis(titleFontSize=15, labelFontSize=12)),\n",
    "    color='kind',\n",
    "    column=alt.Column(\"repo\", header=alt.Header(title=f\"Issue activity, last {n_days} days for {github_org}\", titleFontSize=15, labelFontSize=12))\n",
    ")\n",
    "ch"
   ]
  },
  {
   "cell_type": "code",
   "execution_count": 18,
   "metadata": {
    "execution": {
     "iopub.execute_input": "2020-06-20T01:14:32.221768Z",
     "iopub.status.busy": "2020-06-20T01:14:32.221150Z",
     "iopub.status.idle": "2020-06-20T01:14:32.225027Z",
     "shell.execute_reply": "2020-06-20T01:14:32.225471Z"
    },
    "papermill": {
     "duration": 0.060821,
     "end_time": "2020-06-20T01:14:32.225613",
     "exception": false,
     "start_time": "2020-06-20T01:14:32.164792",
     "status": "completed"
    },
    "tags": [
     "remove_cell"
    ]
   },
   "outputs": [],
   "source": [
    "# Set to datetime\n",
    "for kind in ['createdAt', 'closedAt']:\n",
    "    closed.loc[:, kind] = pd.to_datetime(closed[kind])\n",
    "    \n",
    "closed.loc[:, 'time_open'] = closed['closedAt'] - closed['createdAt']\n",
    "closed.loc[:, 'time_open'] = closed['time_open'].dt.total_seconds()"
   ]
  },
  {
   "cell_type": "code",
   "execution_count": 19,
   "metadata": {
    "execution": {
     "iopub.execute_input": "2020-06-20T01:14:32.324207Z",
     "iopub.status.busy": "2020-06-20T01:14:32.317627Z",
     "iopub.status.idle": "2020-06-20T01:14:32.338231Z",
     "shell.execute_reply": "2020-06-20T01:14:32.338700Z"
    },
    "papermill": {
     "duration": 0.071681,
     "end_time": "2020-06-20T01:14:32.338842",
     "exception": false,
     "start_time": "2020-06-20T01:14:32.267161",
     "status": "completed"
    },
    "tags": [
     "hide_input"
    ]
   },
   "outputs": [
    {
     "data": {
      "text/html": [
       "\n",
       "<div id=\"altair-viz-d5b399639a0044288bd46a68d0a99ff0\"></div>\n",
       "<script type=\"text/javascript\">\n",
       "  (function(spec, embedOpt){\n",
       "    let outputDiv = document.currentScript.previousElementSibling;\n",
       "    if (outputDiv.id !== \"altair-viz-d5b399639a0044288bd46a68d0a99ff0\") {\n",
       "      outputDiv = document.getElementById(\"altair-viz-d5b399639a0044288bd46a68d0a99ff0\");\n",
       "    }\n",
       "    const paths = {\n",
       "      \"vega\": \"https://cdn.jsdelivr.net/npm//vega@5?noext\",\n",
       "      \"vega-lib\": \"https://cdn.jsdelivr.net/npm//vega-lib?noext\",\n",
       "      \"vega-lite\": \"https://cdn.jsdelivr.net/npm//vega-lite@4.8.1?noext\",\n",
       "      \"vega-embed\": \"https://cdn.jsdelivr.net/npm//vega-embed@6?noext\",\n",
       "    };\n",
       "\n",
       "    function loadScript(lib) {\n",
       "      return new Promise(function(resolve, reject) {\n",
       "        var s = document.createElement('script');\n",
       "        s.src = paths[lib];\n",
       "        s.async = true;\n",
       "        s.onload = () => resolve(paths[lib]);\n",
       "        s.onerror = () => reject(`Error loading script: ${paths[lib]}`);\n",
       "        document.getElementsByTagName(\"head\")[0].appendChild(s);\n",
       "      });\n",
       "    }\n",
       "\n",
       "    function showError(err) {\n",
       "      outputDiv.innerHTML = `<div class=\"error\" style=\"color:red;\">${err}</div>`;\n",
       "      throw err;\n",
       "    }\n",
       "\n",
       "    function displayChart(vegaEmbed) {\n",
       "      vegaEmbed(outputDiv, spec, embedOpt)\n",
       "        .catch(err => showError(`Javascript Error: ${err.message}<br>This usually means there's a typo in your chart specification. See the javascript console for the full traceback.`));\n",
       "    }\n",
       "\n",
       "    if(typeof define === \"function\" && define.amd) {\n",
       "      requirejs.config({paths});\n",
       "      require([\"vega-embed\"], displayChart, err => showError(`Error loading script: ${err.message}`));\n",
       "    } else if (typeof vegaEmbed === \"function\") {\n",
       "      displayChart(vegaEmbed);\n",
       "    } else {\n",
       "      loadScript(\"vega\")\n",
       "        .then(() => loadScript(\"vega-lite\"))\n",
       "        .then(() => loadScript(\"vega-embed\"))\n",
       "        .catch(showError)\n",
       "        .then(() => displayChart(vegaEmbed));\n",
       "    }\n",
       "  })({\"config\": {\"axisLeft\": {\"labelFontSize\": 15}, \"axisBottom\": {\"labelFontSize\": 15}}, \"data\": {\"name\": \"data-618c18d1775a3abb6dd9af2caea9c164\"}, \"mark\": \"bar\", \"encoding\": {\"x\": {\"type\": \"nominal\", \"field\": \"repo\", \"sort\": [\"ipyparallel\", \"ipython\", \"traitlets\", \"ipykernel\"]}, \"y\": {\"type\": \"quantitative\", \"field\": \"time_open\", \"title\": \"Median Days Open\"}}, \"title\": \"Time to close for issues closed in the last 60 days\", \"$schema\": \"https://vega.github.io/schema/vega-lite/v4.8.1.json\", \"datasets\": {\"data-618c18d1775a3abb6dd9af2caea9c164\": [{\"org\": \"ipython\", \"repo\": \"ipykernel\", \"time_open\": 0.13149305555555554, \"org/repo\": \"ipython/ipykernel\"}, {\"org\": \"ipython\", \"repo\": \"ipyparallel\", \"time_open\": 38.53061342592593, \"org/repo\": \"ipython/ipyparallel\"}, {\"org\": \"ipython\", \"repo\": \"ipython\", \"time_open\": 23.798935185185186, \"org/repo\": \"ipython/ipython\"}, {\"org\": \"ipython\", \"repo\": \"traitlets\", \"time_open\": 11.994305555555558, \"org/repo\": \"ipython/traitlets\"}]}}, {\"mode\": \"vega-lite\"});\n",
       "</script>"
      ],
      "text/plain": [
       "alt.Chart(...)"
      ]
     },
     "execution_count": 19,
     "metadata": {},
     "output_type": "execute_result"
    }
   ],
   "source": [
    "time_open = closed.groupby(['org', 'repo']).agg({'time_open': 'median'}).reset_index()\n",
    "time_open['time_open'] = time_open['time_open'] / (60 * 60 * 24)\n",
    "time_open['org/repo'] = time_open.apply(lambda a: a['org'] + '/' + a['repo'], axis=1)\n",
    "sorted_vals = time_open.sort_values(['org', 'time_open'], ascending=False)['repo'].values\n",
    "alt.Chart(data=time_open, title=f\"Time to close for issues closed in the last {n_days} days\").mark_bar().encode(\n",
    "    x=alt.X('repo', sort=alt.Sort(sorted_vals.tolist())),\n",
    "    y=alt.Y('time_open', title=\"Median Days Open\"),\n",
    ")"
   ]
  },
  {
   "cell_type": "markdown",
   "metadata": {
    "papermill": {
     "duration": 0.041012,
     "end_time": "2020-06-20T01:14:32.421477",
     "exception": false,
     "start_time": "2020-06-20T01:14:32.380465",
     "status": "completed"
    },
    "tags": []
   },
   "source": [
    "## Commenters across repositories\n",
    "\n",
    "These are commenters across all issues and pull requests in the last several days.\n",
    "These are colored by the commenter's association with the organization. For information\n",
    "about what these associations mean, [see this StackOverflow post](https://stackoverflow.com/a/28866914/1927102)."
   ]
  },
  {
   "cell_type": "code",
   "execution_count": 20,
   "metadata": {
    "execution": {
     "iopub.execute_input": "2020-06-20T01:14:32.514455Z",
     "iopub.status.busy": "2020-06-20T01:14:32.513678Z",
     "iopub.status.idle": "2020-06-20T01:14:32.524140Z",
     "shell.execute_reply": "2020-06-20T01:14:32.524606Z"
    },
    "papermill": {
     "duration": 0.061957,
     "end_time": "2020-06-20T01:14:32.524753",
     "exception": false,
     "start_time": "2020-06-20T01:14:32.462796",
     "status": "completed"
    },
    "tags": [
     "remove_cell"
    ]
   },
   "outputs": [],
   "source": [
    "commentors = (\n",
    "    comments\n",
    "    .query(\"createdAt > @start_date and createdAt < @stop_date\")\n",
    "    .groupby(['org', 'repo', 'author', 'authorAssociation'])\n",
    "    .count().rename(columns={'id': 'count'})['count']\n",
    "    .reset_index()\n",
    "    .sort_values(['org', 'count'], ascending=False)\n",
    ")"
   ]
  },
  {
   "cell_type": "code",
   "execution_count": 21,
   "metadata": {
    "execution": {
     "iopub.execute_input": "2020-06-20T01:14:32.621155Z",
     "iopub.status.busy": "2020-06-20T01:14:32.620420Z",
     "iopub.status.idle": "2020-06-20T01:14:32.647508Z",
     "shell.execute_reply": "2020-06-20T01:14:32.648381Z"
    },
    "papermill": {
     "duration": 0.081934,
     "end_time": "2020-06-20T01:14:32.648575",
     "exception": false,
     "start_time": "2020-06-20T01:14:32.566641",
     "status": "completed"
    },
    "tags": [
     "hide_input"
    ]
   },
   "outputs": [
    {
     "data": {
      "text/html": [
       "\n",
       "<div id=\"altair-viz-6ad12553831c46a7aca2b3d89c8c7e8c\"></div>\n",
       "<script type=\"text/javascript\">\n",
       "  (function(spec, embedOpt){\n",
       "    let outputDiv = document.currentScript.previousElementSibling;\n",
       "    if (outputDiv.id !== \"altair-viz-6ad12553831c46a7aca2b3d89c8c7e8c\") {\n",
       "      outputDiv = document.getElementById(\"altair-viz-6ad12553831c46a7aca2b3d89c8c7e8c\");\n",
       "    }\n",
       "    const paths = {\n",
       "      \"vega\": \"https://cdn.jsdelivr.net/npm//vega@5?noext\",\n",
       "      \"vega-lib\": \"https://cdn.jsdelivr.net/npm//vega-lib?noext\",\n",
       "      \"vega-lite\": \"https://cdn.jsdelivr.net/npm//vega-lite@4.8.1?noext\",\n",
       "      \"vega-embed\": \"https://cdn.jsdelivr.net/npm//vega-embed@6?noext\",\n",
       "    };\n",
       "\n",
       "    function loadScript(lib) {\n",
       "      return new Promise(function(resolve, reject) {\n",
       "        var s = document.createElement('script');\n",
       "        s.src = paths[lib];\n",
       "        s.async = true;\n",
       "        s.onload = () => resolve(paths[lib]);\n",
       "        s.onerror = () => reject(`Error loading script: ${paths[lib]}`);\n",
       "        document.getElementsByTagName(\"head\")[0].appendChild(s);\n",
       "      });\n",
       "    }\n",
       "\n",
       "    function showError(err) {\n",
       "      outputDiv.innerHTML = `<div class=\"error\" style=\"color:red;\">${err}</div>`;\n",
       "      throw err;\n",
       "    }\n",
       "\n",
       "    function displayChart(vegaEmbed) {\n",
       "      vegaEmbed(outputDiv, spec, embedOpt)\n",
       "        .catch(err => showError(`Javascript Error: ${err.message}<br>This usually means there's a typo in your chart specification. See the javascript console for the full traceback.`));\n",
       "    }\n",
       "\n",
       "    if(typeof define === \"function\" && define.amd) {\n",
       "      requirejs.config({paths});\n",
       "      require([\"vega-embed\"], displayChart, err => showError(`Error loading script: ${err.message}`));\n",
       "    } else if (typeof vegaEmbed === \"function\") {\n",
       "      displayChart(vegaEmbed);\n",
       "    } else {\n",
       "      loadScript(\"vega\")\n",
       "        .then(() => loadScript(\"vega-lite\"))\n",
       "        .then(() => loadScript(\"vega-embed\"))\n",
       "        .catch(showError)\n",
       "        .then(() => displayChart(vegaEmbed));\n",
       "    }\n",
       "  })({\"config\": {\"axisLeft\": {\"labelFontSize\": 15}, \"axisBottom\": {\"labelFontSize\": 15}}, \"hconcat\": [{\"mark\": \"bar\", \"encoding\": {\"color\": {\"type\": \"nominal\", \"field\": \"authorAssociation\", \"scale\": {\"domain\": [\"MEMBER\", \"CONTRIBUTOR\", \"COLLABORATOR\", \"NONE\"], \"range\": [\"rgb(211.82745098039214, 211.82745098039214, 211.82745098039214)\", \"rgb(166.98562091503268, 229.89803921568628, 166.98562091503268)\", \"rgb(96.37647058823529, 192.75294117647059, 96.37647058823529)\", \"rgb(0.0, 100.3921568627451, 0.0)\"]}}, \"x\": {\"type\": \"nominal\", \"field\": \"author\"}, \"y\": {\"type\": \"quantitative\", \"field\": \"count\"}}, \"title\": \"Top 50 commentors for ipython in the last 60 days\"}], \"data\": {\"name\": \"data-58513b659b2e385f2ffbfeac36ee81b2\"}, \"$schema\": \"https://vega.github.io/schema/vega-lite/v4.8.1.json\", \"datasets\": {\"data-58513b659b2e385f2ffbfeac36ee81b2\": [{\"author\": \"Carreau\", \"count\": 159, \"authorAssociation\": \"MEMBER\"}, {\"author\": \"meeseeksdev\", \"count\": 10, \"authorAssociation\": \"CONTRIBUTOR\"}, {\"author\": \"blink1073\", \"count\": 8, \"authorAssociation\": \"MEMBER\"}, {\"author\": \"tlambert03\", \"count\": 8, \"authorAssociation\": \"CONTRIBUTOR\"}, {\"author\": \"tacaswell\", \"count\": 8, \"authorAssociation\": \"CONTRIBUTOR\"}, {\"author\": \"itamarst\", \"count\": 8, \"authorAssociation\": \"CONTRIBUTOR\"}, {\"author\": \"mijiturka\", \"count\": 7, \"authorAssociation\": \"NONE\"}, {\"author\": \"cpbl\", \"count\": 7, \"authorAssociation\": \"NONE\"}, {\"author\": \"ssanderson\", \"count\": 6, \"authorAssociation\": \"MEMBER\"}, {\"author\": \"clemisch\", \"count\": 6, \"authorAssociation\": \"NONE\"}, {\"author\": \"impact27\", \"count\": 5, \"authorAssociation\": \"CONTRIBUTOR\"}, {\"author\": \"martinRenou\", \"count\": 5, \"authorAssociation\": \"CONTRIBUTOR\"}, {\"author\": \"palewire\", \"count\": 5, \"authorAssociation\": \"CONTRIBUTOR\"}, {\"author\": \"MSeal\", \"count\": 4, \"authorAssociation\": \"CONTRIBUTOR\"}, {\"author\": \"ivanov\", \"count\": 4, \"authorAssociation\": \"MEMBER\"}, {\"author\": \"kirankotari\", \"count\": 4, \"authorAssociation\": \"NONE\"}, {\"author\": \"cool-RR\", \"count\": 4, \"authorAssociation\": \"CONTRIBUTOR\"}, {\"author\": \"ccordoba12\", \"count\": 4, \"authorAssociation\": \"MEMBER\"}, {\"author\": \"minrk\", \"count\": 4, \"authorAssociation\": \"MEMBER\"}, {\"author\": \"scottfurry\", \"count\": 4, \"authorAssociation\": \"NONE\"}, {\"author\": \"frenzymadness\", \"count\": 3, \"authorAssociation\": \"CONTRIBUTOR\"}, {\"author\": \"mmcoello\", \"count\": 3, \"authorAssociation\": \"NONE\"}, {\"author\": \"nklever\", \"count\": 3, \"authorAssociation\": \"NONE\"}, {\"author\": \"rezaeir\", \"count\": 3, \"authorAssociation\": \"NONE\"}, {\"author\": \"rmorshea\", \"count\": 3, \"authorAssociation\": \"COLLABORATOR\"}, {\"author\": \"jluttine\", \"count\": 3, \"authorAssociation\": \"NONE\"}, {\"author\": \"OverLordGoldDragon\", \"count\": 2, \"authorAssociation\": \"NONE\"}, {\"author\": \"timkpaine\", \"count\": 2, \"authorAssociation\": \"CONTRIBUTOR\"}, {\"author\": \"veprbl\", \"count\": 2, \"authorAssociation\": \"NONE\"}, {\"author\": \"gsganden\", \"count\": 2, \"authorAssociation\": \"NONE\"}, {\"author\": \"vidartf\", \"count\": 2, \"authorAssociation\": \"CONTRIBUTOR\"}, {\"author\": \"Phillip-M-Feldman\", \"count\": 2, \"authorAssociation\": \"NONE\"}, {\"author\": \"TheHubbit\", \"count\": 2, \"authorAssociation\": \"CONTRIBUTOR\"}, {\"author\": \"bollwyvl\", \"count\": 2, \"authorAssociation\": \"CONTRIBUTOR\"}, {\"author\": \"choldgraf\", \"count\": 2, \"authorAssociation\": \"NONE\"}, {\"author\": \"ftobia\", \"count\": 1, \"authorAssociation\": \"CONTRIBUTOR\"}, {\"author\": \"shyuep\", \"count\": 1, \"authorAssociation\": \"NONE\"}, {\"author\": \"patricksnape\", \"count\": 1, \"authorAssociation\": \"CONTRIBUTOR\"}, {\"author\": \"bh2smith\", \"count\": 1, \"authorAssociation\": \"NONE\"}, {\"author\": \"antonio-rojas\", \"count\": 1, \"authorAssociation\": \"NONE\"}, {\"author\": \"sai-in\", \"count\": 1, \"authorAssociation\": \"NONE\"}, {\"author\": \"WaylonWalker\", \"count\": 1, \"authorAssociation\": \"NONE\"}, {\"author\": \"slel\", \"count\": 1, \"authorAssociation\": \"CONTRIBUTOR\"}, {\"author\": \"sk1p\", \"count\": 1, \"authorAssociation\": \"NONE\"}, {\"author\": \"nonhermitian\", \"count\": 1, \"authorAssociation\": \"NONE\"}, {\"author\": \"snail123815\", \"count\": 1, \"authorAssociation\": \"NONE\"}, {\"author\": \"TkRj\", \"count\": 1, \"authorAssociation\": \"NONE\"}, {\"author\": \"Erotemic\", \"count\": 1, \"authorAssociation\": \"NONE\"}, {\"author\": \"takluyver\", \"count\": 1, \"authorAssociation\": \"MEMBER\"}, {\"author\": \"terrdavis\", \"count\": 1, \"authorAssociation\": \"CONTRIBUTOR\"}]}}, {\"mode\": \"vega-lite\"});\n",
       "</script>"
      ],
      "text/plain": [
       "alt.HConcatChart(...)"
      ]
     },
     "execution_count": 21,
     "metadata": {},
     "output_type": "execute_result"
    }
   ],
   "source": [
    "n_plot = 50\n",
    "charts = []\n",
    "for ii, (iorg, idata) in enumerate(commentors.groupby(['org'])):\n",
    "    title = f\"Top {n_plot} commentors for {iorg} in the last {n_days} days\"\n",
    "    idata = idata.groupby('author', as_index=False).agg({'count': 'sum', 'authorAssociation': 'first'})\n",
    "    idata = idata.sort_values('count', ascending=False).head(n_plot)\n",
    "    ch = alt.Chart(data=idata.head(n_plot), title=title).mark_bar().encode(\n",
    "        x='author',\n",
    "        y='count',\n",
    "        color=alt.Color('authorAssociation', scale=alt.Scale(domain=author_types, range=author_colors))\n",
    "    )\n",
    "    charts.append(ch)\n",
    "alt.hconcat(*charts)"
   ]
  },
  {
   "cell_type": "markdown",
   "metadata": {
    "papermill": {
     "duration": 0.042125,
     "end_time": "2020-06-20T01:14:32.734666",
     "exception": false,
     "start_time": "2020-06-20T01:14:32.692541",
     "status": "completed"
    },
    "tags": []
   },
   "source": [
    "## First responders\n",
    "\n",
    "First responders are the first people to respond to a new issue in one of the repositories.\n",
    "The following plots show first responders for recently-created issues."
   ]
  },
  {
   "cell_type": "code",
   "execution_count": 22,
   "metadata": {
    "execution": {
     "iopub.execute_input": "2020-06-20T01:14:32.828407Z",
     "iopub.status.busy": "2020-06-20T01:14:32.827827Z",
     "iopub.status.idle": "2020-06-20T01:14:32.989336Z",
     "shell.execute_reply": "2020-06-20T01:14:32.989804Z"
    },
    "papermill": {
     "duration": 0.214262,
     "end_time": "2020-06-20T01:14:32.989951",
     "exception": false,
     "start_time": "2020-06-20T01:14:32.775689",
     "status": "completed"
    },
    "tags": [
     "remove_cell"
    ]
   },
   "outputs": [],
   "source": [
    "first_comments = []\n",
    "for (org, repo, issue_id), i_comments in comments.groupby(['org', 'repo', 'id']):\n",
    "    ix_min = pd.to_datetime(i_comments['createdAt']).idxmin()\n",
    "    first_comment = i_comments.loc[ix_min]\n",
    "    if isinstance(first_comment, pd.DataFrame):\n",
    "        first_comment = first_comment.iloc[0]\n",
    "    first_comments.append(first_comment)\n",
    "first_comments = pd.concat(first_comments, axis=1).T\n",
    "\n",
    "# Make up counts for viz\n",
    "first_responder_counts = first_comments.groupby(['org', 'author', 'authorAssociation'], as_index=False).\\\n",
    "    count().rename(columns={'id': 'n_first_responses'}).sort_values(['org', 'n_first_responses'], ascending=False)\n"
   ]
  },
  {
   "cell_type": "code",
   "execution_count": 23,
   "metadata": {
    "execution": {
     "iopub.execute_input": "2020-06-20T01:14:33.109261Z",
     "iopub.status.busy": "2020-06-20T01:14:33.095413Z",
     "iopub.status.idle": "2020-06-20T01:14:33.112606Z",
     "shell.execute_reply": "2020-06-20T01:14:33.112008Z"
    },
    "papermill": {
     "duration": 0.079795,
     "end_time": "2020-06-20T01:14:33.112711",
     "exception": false,
     "start_time": "2020-06-20T01:14:33.032916",
     "status": "completed"
    },
    "tags": [
     "hide_input"
    ]
   },
   "outputs": [
    {
     "data": {
      "text/html": [
       "\n",
       "<div id=\"altair-viz-5f20f83a21d049fda3248a05466f8f1d\"></div>\n",
       "<script type=\"text/javascript\">\n",
       "  (function(spec, embedOpt){\n",
       "    let outputDiv = document.currentScript.previousElementSibling;\n",
       "    if (outputDiv.id !== \"altair-viz-5f20f83a21d049fda3248a05466f8f1d\") {\n",
       "      outputDiv = document.getElementById(\"altair-viz-5f20f83a21d049fda3248a05466f8f1d\");\n",
       "    }\n",
       "    const paths = {\n",
       "      \"vega\": \"https://cdn.jsdelivr.net/npm//vega@5?noext\",\n",
       "      \"vega-lib\": \"https://cdn.jsdelivr.net/npm//vega-lib?noext\",\n",
       "      \"vega-lite\": \"https://cdn.jsdelivr.net/npm//vega-lite@4.8.1?noext\",\n",
       "      \"vega-embed\": \"https://cdn.jsdelivr.net/npm//vega-embed@6?noext\",\n",
       "    };\n",
       "\n",
       "    function loadScript(lib) {\n",
       "      return new Promise(function(resolve, reject) {\n",
       "        var s = document.createElement('script');\n",
       "        s.src = paths[lib];\n",
       "        s.async = true;\n",
       "        s.onload = () => resolve(paths[lib]);\n",
       "        s.onerror = () => reject(`Error loading script: ${paths[lib]}`);\n",
       "        document.getElementsByTagName(\"head\")[0].appendChild(s);\n",
       "      });\n",
       "    }\n",
       "\n",
       "    function showError(err) {\n",
       "      outputDiv.innerHTML = `<div class=\"error\" style=\"color:red;\">${err}</div>`;\n",
       "      throw err;\n",
       "    }\n",
       "\n",
       "    function displayChart(vegaEmbed) {\n",
       "      vegaEmbed(outputDiv, spec, embedOpt)\n",
       "        .catch(err => showError(`Javascript Error: ${err.message}<br>This usually means there's a typo in your chart specification. See the javascript console for the full traceback.`));\n",
       "    }\n",
       "\n",
       "    if(typeof define === \"function\" && define.amd) {\n",
       "      requirejs.config({paths});\n",
       "      require([\"vega-embed\"], displayChart, err => showError(`Error loading script: ${err.message}`));\n",
       "    } else if (typeof vegaEmbed === \"function\") {\n",
       "      displayChart(vegaEmbed);\n",
       "    } else {\n",
       "      loadScript(\"vega\")\n",
       "        .then(() => loadScript(\"vega-lite\"))\n",
       "        .then(() => loadScript(\"vega-embed\"))\n",
       "        .catch(showError)\n",
       "        .then(() => displayChart(vegaEmbed));\n",
       "    }\n",
       "  })({\"config\": {\"axisLeft\": {\"labelFontSize\": 15}, \"axisBottom\": {\"labelFontSize\": 15}}, \"data\": {\"name\": \"data-f972652fb793780202c417ad5a0ba503\"}, \"mark\": \"bar\", \"encoding\": {\"color\": {\"type\": \"nominal\", \"field\": \"authorAssociation\", \"scale\": {\"domain\": [\"MEMBER\", \"CONTRIBUTOR\", \"COLLABORATOR\", \"NONE\"], \"range\": [\"rgb(211.82745098039214, 211.82745098039214, 211.82745098039214)\", \"rgb(166.98562091503268, 229.89803921568628, 166.98562091503268)\", \"rgb(96.37647058823529, 192.75294117647059, 96.37647058823529)\", \"rgb(0.0, 100.3921568627451, 0.0)\"]}}, \"x\": {\"type\": \"nominal\", \"field\": \"author\"}, \"y\": {\"type\": \"quantitative\", \"field\": \"n_first_responses\"}}, \"title\": \"Top 50 first responders for ipython in the last 60 days\", \"$schema\": \"https://vega.github.io/schema/vega-lite/v4.8.1.json\", \"datasets\": {\"data-f972652fb793780202c417ad5a0ba503\": [{\"author\": \"Carreau\", \"n_first_responses\": 68, \"authorAssociation\": \"MEMBER\"}, {\"author\": \"rmorshea\", \"n_first_responses\": 9, \"authorAssociation\": \"COLLABORATOR\"}, {\"author\": \"minrk\", \"n_first_responses\": 9, \"authorAssociation\": \"MEMBER\"}, {\"author\": \"blink1073\", \"n_first_responses\": 5, \"authorAssociation\": \"MEMBER\"}, {\"author\": \"takluyver\", \"n_first_responses\": 3, \"authorAssociation\": \"MEMBER\"}, {\"author\": \"mijiturka\", \"n_first_responses\": 3, \"authorAssociation\": \"NONE\"}, {\"author\": \"tacaswell\", \"n_first_responses\": 3, \"authorAssociation\": \"CONTRIBUTOR\"}, {\"author\": \"ssanderson\", \"n_first_responses\": 3, \"authorAssociation\": \"MEMBER\"}, {\"author\": \"itamarst\", \"n_first_responses\": 3, \"authorAssociation\": \"CONTRIBUTOR\"}, {\"author\": \"ankostis\", \"n_first_responses\": 2, \"authorAssociation\": \"CONTRIBUTOR\"}, {\"author\": \"meeseeksdev\", \"n_first_responses\": 2, \"authorAssociation\": \"CONTRIBUTOR\"}, {\"author\": \"frenzymadness\", \"n_first_responses\": 2, \"authorAssociation\": \"CONTRIBUTOR\"}, {\"author\": \"kousikmitra\", \"n_first_responses\": 1, \"authorAssociation\": \"CONTRIBUTOR\"}, {\"author\": \"mail2chromium\", \"n_first_responses\": 1, \"authorAssociation\": \"NONE\"}, {\"author\": \"martinRenou\", \"n_first_responses\": 1, \"authorAssociation\": \"CONTRIBUTOR\"}, {\"author\": \"kirankotari\", \"n_first_responses\": 1, \"authorAssociation\": \"NONE\"}, {\"author\": \"matthewgdv\", \"n_first_responses\": 1, \"authorAssociation\": \"NONE\"}, {\"author\": \"palewire\", \"n_first_responses\": 1, \"authorAssociation\": \"CONTRIBUTOR\"}, {\"author\": \"nklever\", \"n_first_responses\": 1, \"authorAssociation\": \"NONE\"}, {\"author\": \"nonhermitian\", \"n_first_responses\": 1, \"authorAssociation\": \"NONE\"}, {\"author\": \"joshzwiebel\", \"n_first_responses\": 1, \"authorAssociation\": \"NONE\"}, {\"author\": \"shyuep\", \"n_first_responses\": 1, \"authorAssociation\": \"NONE\"}, {\"author\": \"takuya1981\", \"n_first_responses\": 1, \"authorAssociation\": \"CONTRIBUTOR\"}, {\"author\": \"techtonik\", \"n_first_responses\": 1, \"authorAssociation\": \"CONTRIBUTOR\"}, {\"author\": \"timkpaine\", \"n_first_responses\": 1, \"authorAssociation\": \"CONTRIBUTOR\"}, {\"author\": \"tlambert03\", \"n_first_responses\": 1, \"authorAssociation\": \"CONTRIBUTOR\"}, {\"author\": \"kinglionsz\", \"n_first_responses\": 1, \"authorAssociation\": \"NONE\"}, {\"author\": \"jf---\", \"n_first_responses\": 1, \"authorAssociation\": \"NONE\"}, {\"author\": \"jluttine\", \"n_first_responses\": 1, \"authorAssociation\": \"NONE\"}, {\"author\": \"dalthviz\", \"n_first_responses\": 1, \"authorAssociation\": \"CONTRIBUTOR\"}, {\"author\": \"Erotemic\", \"n_first_responses\": 1, \"authorAssociation\": \"NONE\"}, {\"author\": \"Eshan-Agarwal\", \"n_first_responses\": 1, \"authorAssociation\": \"NONE\"}, {\"author\": \"LucianaMarques\", \"n_first_responses\": 1, \"authorAssociation\": \"CONTRIBUTOR\"}, {\"author\": \"Madhu94\", \"n_first_responses\": 1, \"authorAssociation\": \"NONE\"}, {\"author\": \"basileMarchand\", \"n_first_responses\": 1, \"authorAssociation\": \"NONE\"}, {\"author\": \"ccordoba12\", \"n_first_responses\": 1, \"authorAssociation\": \"MEMBER\"}, {\"author\": \"choldgraf\", \"n_first_responses\": 1, \"authorAssociation\": \"NONE\"}, {\"author\": \"cool-RR\", \"n_first_responses\": 1, \"authorAssociation\": \"CONTRIBUTOR\"}, {\"author\": \"cphyc\", \"n_first_responses\": 1, \"authorAssociation\": \"NONE\"}, {\"author\": \"danolson1\", \"n_first_responses\": 1, \"authorAssociation\": \"NONE\"}, {\"author\": \"jhgee\", \"n_first_responses\": 1, \"authorAssociation\": \"NONE\"}, {\"author\": \"davidbrochart\", \"n_first_responses\": 1, \"authorAssociation\": \"CONTRIBUTOR\"}, {\"author\": \"dtrodrigues\", \"n_first_responses\": 1, \"authorAssociation\": \"NONE\"}, {\"author\": \"erind31\", \"n_first_responses\": 1, \"authorAssociation\": \"NONE\"}, {\"author\": \"ftobia\", \"n_first_responses\": 1, \"authorAssociation\": \"CONTRIBUTOR\"}, {\"author\": \"gsganden\", \"n_first_responses\": 1, \"authorAssociation\": \"NONE\"}, {\"author\": \"ivanov\", \"n_first_responses\": 1, \"authorAssociation\": \"MEMBER\"}, {\"author\": \"jamescooke\", \"n_first_responses\": 1, \"authorAssociation\": \"NONE\"}, {\"author\": \"jasongrout\", \"n_first_responses\": 1, \"authorAssociation\": \"MEMBER\"}, {\"author\": \"DKMDebugin\", \"n_first_responses\": 1, \"authorAssociation\": \"NONE\"}]}}, {\"mode\": \"vega-lite\"});\n",
       "</script>"
      ],
      "text/plain": [
       "alt.Chart(...)"
      ]
     },
     "execution_count": 23,
     "metadata": {},
     "output_type": "execute_result"
    }
   ],
   "source": [
    "n_plot = 50\n",
    "\n",
    "title = f\"Top {n_plot} first responders for {github_org} in the last {n_days} days\"\n",
    "idata = first_responder_counts.groupby('author', as_index=False).agg({'n_first_responses': 'sum', 'authorAssociation': 'first'})\n",
    "idata = idata.sort_values('n_first_responses', ascending=False).head(n_plot)\n",
    "ch = alt.Chart(data=idata.head(n_plot), title=title).mark_bar().encode(\n",
    "    x='author',\n",
    "    y='n_first_responses',\n",
    "    color=alt.Color('authorAssociation', scale=alt.Scale(domain=author_types, range=author_colors))\n",
    ")\n",
    "ch"
   ]
  },
  {
   "cell_type": "markdown",
   "metadata": {
    "papermill": {
     "duration": 0.042677,
     "end_time": "2020-06-20T01:14:33.199417",
     "exception": false,
     "start_time": "2020-06-20T01:14:33.156740",
     "status": "completed"
    },
    "tags": []
   },
   "source": [
    "## Recent activity\n",
    "\n",
    "### A list of merged PRs by project\n",
    "\n",
    "Below is a tabbed readout of recently-merged PRs. Check out the title to get an idea for what they\n",
    "implemented, and be sure to thank the PR author for their hard work!"
   ]
  },
  {
   "cell_type": "code",
   "execution_count": 24,
   "metadata": {
    "execution": {
     "iopub.execute_input": "2020-06-20T01:14:33.316353Z",
     "iopub.status.busy": "2020-06-20T01:14:33.308809Z",
     "iopub.status.idle": "2020-06-20T01:14:33.442797Z",
     "shell.execute_reply": "2020-06-20T01:14:33.443351Z"
    },
    "papermill": {
     "duration": 0.202084,
     "end_time": "2020-06-20T01:14:33.443487",
     "exception": false,
     "start_time": "2020-06-20T01:14:33.241403",
     "status": "completed"
    },
    "tags": [
     "hide_input"
    ]
   },
   "outputs": [
    {
     "data": {
      "application/vnd.jupyter.widget-view+json": {
       "model_id": "3106d3162b9e495bbe06cb48b7daeab7",
       "version_major": 2,
       "version_minor": 0
      },
      "text/plain": [
       "Tab(children=(HTML(value='<h4>Closed PRs for repo: <a href=\"https://github.com/ipython/ipykernel\">ipython/ipyk…"
      ]
     },
     "metadata": {},
     "output_type": "display_data"
    }
   ],
   "source": [
    "tabs = widgets.Tab(children=[])\n",
    "\n",
    "for ii, ((org, repo), imerged) in enumerate(merged.query(\"repo in @use_repos\").groupby(['org', 'repo'])):\n",
    "    merged_by = {}\n",
    "    pr_by = {}\n",
    "    issue_md = []\n",
    "    issue_md.append(f\"#### Closed PRs for repo: [{org}/{repo}](https://github.com/{github_org}/{repo})\")\n",
    "    issue_md.append(\"\")\n",
    "    issue_md.append(f\"##### \")\n",
    "\n",
    "    for _, ipr in imerged.iterrows():\n",
    "        user_name = ipr['author']\n",
    "        user_url = author_url(user_name)\n",
    "        pr_number = ipr['number']\n",
    "        pr_html = ipr['url']\n",
    "        pr_title = ipr['title']\n",
    "        pr_closedby = ipr['mergedBy']\n",
    "        pr_closedby_url = f\"https://github.com/{pr_closedby}\"\n",
    "        if user_name not in pr_by:\n",
    "            pr_by[user_name] = 1\n",
    "        else:\n",
    "            pr_by[user_name] += 1\n",
    "\n",
    "        if pr_closedby not in merged_by:\n",
    "            merged_by[pr_closedby] = 1\n",
    "        else:\n",
    "            merged_by[pr_closedby] += 1\n",
    "        text = f\"* [(#{pr_number})]({pr_html}): _{pr_title}_ by **[@{user_name}]({user_url})** merged by **[@{pr_closedby}]({pr_closedby_url})**\"\n",
    "        issue_md.append(text)\n",
    "    \n",
    "    issue_md.append('')\n",
    "    markdown_html = markdown('\\n'.join(issue_md))\n",
    "\n",
    "    children = list(tabs.children)\n",
    "    children.append(HTML(markdown_html))\n",
    "    tabs.children = tuple(children)\n",
    "    tabs.set_title(ii, repo)\n",
    "tabs"
   ]
  },
  {
   "cell_type": "markdown",
   "metadata": {
    "papermill": {
     "duration": 0.046848,
     "end_time": "2020-06-20T01:14:33.535237",
     "exception": false,
     "start_time": "2020-06-20T01:14:33.488389",
     "status": "completed"
    },
    "tags": []
   },
   "source": [
    "### A list of recent issues\n",
    "\n",
    "Below is a list of issues with recent activity in each repository. If they seem of interest\n",
    "to you, click on their links and jump in to participate!"
   ]
  },
  {
   "cell_type": "code",
   "execution_count": 25,
   "metadata": {
    "execution": {
     "iopub.execute_input": "2020-06-20T01:14:33.631893Z",
     "iopub.status.busy": "2020-06-20T01:14:33.631304Z",
     "iopub.status.idle": "2020-06-20T01:14:33.638259Z",
     "shell.execute_reply": "2020-06-20T01:14:33.638746Z"
    },
    "papermill": {
     "duration": 0.060041,
     "end_time": "2020-06-20T01:14:33.638890",
     "exception": false,
     "start_time": "2020-06-20T01:14:33.578849",
     "status": "completed"
    },
    "tags": [
     "remove_cell"
    ]
   },
   "outputs": [],
   "source": [
    "# Add comment count data to issues and PRs\n",
    "comment_counts = (\n",
    "    comments\n",
    "    .query(\"createdAt > @start_date and createdAt < @stop_date\")\n",
    "    .groupby(['org', 'repo', 'id'])\n",
    "    .count().iloc[:, 0].to_frame()\n",
    ")\n",
    "comment_counts.columns = ['n_comments']\n",
    "comment_counts = comment_counts.reset_index()"
   ]
  },
  {
   "cell_type": "code",
   "execution_count": 26,
   "metadata": {
    "execution": {
     "iopub.execute_input": "2020-06-20T01:14:33.740173Z",
     "iopub.status.busy": "2020-06-20T01:14:33.739478Z",
     "iopub.status.idle": "2020-06-20T01:14:33.866640Z",
     "shell.execute_reply": "2020-06-20T01:14:33.867531Z"
    },
    "papermill": {
     "duration": 0.184349,
     "end_time": "2020-06-20T01:14:33.867687",
     "exception": false,
     "start_time": "2020-06-20T01:14:33.683338",
     "status": "completed"
    },
    "tags": [
     "hide_input"
    ],
    "toc-hr-collapsed": false
   },
   "outputs": [
    {
     "data": {
      "text/markdown": [
       "Here are the top 5 active issues in each repository in the last 60 days"
      ],
      "text/plain": [
       "<IPython.core.display.Markdown object>"
      ]
     },
     "metadata": {},
     "output_type": "display_data"
    },
    {
     "data": {
      "application/vnd.jupyter.widget-view+json": {
       "model_id": "f164babeb1aa4d91a531f2185acc9009",
       "version_major": 2,
       "version_minor": 0
      },
      "text/plain": [
       "Tab(children=(HTML(value='<h5><a href=\"https://github.com/ipython/ipykernel\">ipython/ipykernel</a></h5>\\n<ul>\\…"
      ]
     },
     "metadata": {},
     "output_type": "display_data"
    }
   ],
   "source": [
    "n_plot = 5\n",
    "tabs = widgets.Tab(children=[])\n",
    "\n",
    "for ii, (repo, i_issues) in enumerate(comment_counts.query(\"repo in @use_repos\").groupby('repo')):\n",
    "    \n",
    "    issue_md = []\n",
    "    issue_md.append(\"\")\n",
    "    issue_md.append(f\"##### [{github_org}/{repo}](https://github.com/{github_org}/{repo})\")\n",
    "\n",
    "    top_issues = i_issues.sort_values('n_comments', ascending=False).head(n_plot)\n",
    "    top_issue_list = pd.merge(issues, top_issues, left_on=['org', 'repo', 'id'], right_on=['org', 'repo', 'id'])\n",
    "    for _, issue in top_issue_list.sort_values('n_comments', ascending=False).head(n_plot).iterrows():\n",
    "        user_name = issue['author']\n",
    "        user_url = author_url(user_name)\n",
    "        issue_number = issue['number']\n",
    "        issue_html = issue['url']\n",
    "        issue_title = issue['title']\n",
    "\n",
    "        text = f\"* [(#{issue_number})]({issue_html}): _{issue_title}_ by **[@{user_name}]({user_url})**\"\n",
    "        issue_md.append(text)\n",
    "\n",
    "    issue_md.append('')\n",
    "    md_html = HTML(markdown('\\n'.join(issue_md)))\n",
    "\n",
    "    children = list(tabs.children)\n",
    "    children.append(HTML(markdown('\\n'.join(issue_md))))\n",
    "    tabs.children = tuple(children)\n",
    "    tabs.set_title(ii, repo)\n",
    "    \n",
    "display(Markdown(f\"Here are the top {n_plot} active issues in each repository in the last {n_days} days\"))\n",
    "display(tabs)"
   ]
  }
 ],
 "metadata": {
  "kernelspec": {
   "display_name": "Python 3",
   "language": "python",
   "name": "python3"
  },
  "language_info": {
   "codemirror_mode": {
    "name": "ipython",
    "version": 3
   },
   "file_extension": ".py",
   "mimetype": "text/x-python",
   "name": "python",
   "nbconvert_exporter": "python",
   "pygments_lexer": "ipython3",
   "version": "3.7.7"
  },
  "papermill": {
   "duration": 24.990999,
   "end_time": "2020-06-20T01:14:34.527966",
   "environment_variables": {},
   "exception": null,
   "input_path": "./template.ipynb",
   "output_path": "book/ipython.ipynb",
   "parameters": {
    "github_org": "ipython",
    "n_days": 60
   },
   "start_time": "2020-06-20T01:14:09.536967",
   "version": "2.1.1"
  },
  "widgets": {
   "application/vnd.jupyter.widget-state+json": {
    "state": {
     "071aa923b62946b09f9cd3adf7368115": {
      "model_module": "@jupyter-widgets/controls",
      "model_module_version": "1.5.0",
      "model_name": "DescriptionStyleModel",
      "state": {
       "_model_module": "@jupyter-widgets/controls",
       "_model_module_version": "1.5.0",
       "_model_name": "DescriptionStyleModel",
       "_view_count": null,
       "_view_module": "@jupyter-widgets/base",
       "_view_module_version": "1.2.0",
       "_view_name": "StyleView",
       "description_width": ""
      }
     },
     "087c7498eab54c0b90e37127294891bb": {
      "model_module": "@jupyter-widgets/controls",
      "model_module_version": "1.5.0",
      "model_name": "DescriptionStyleModel",
      "state": {
       "_model_module": "@jupyter-widgets/controls",
       "_model_module_version": "1.5.0",
       "_model_name": "DescriptionStyleModel",
       "_view_count": null,
       "_view_module": "@jupyter-widgets/base",
       "_view_module_version": "1.2.0",
       "_view_name": "StyleView",
       "description_width": ""
      }
     },
     "0f4d0ea3550f4513a482de5b955742a2": {
      "model_module": "@jupyter-widgets/controls",
      "model_module_version": "1.5.0",
      "model_name": "HTMLModel",
      "state": {
       "_dom_classes": [],
       "_model_module": "@jupyter-widgets/controls",
       "_model_module_version": "1.5.0",
       "_model_name": "HTMLModel",
       "_view_count": null,
       "_view_module": "@jupyter-widgets/controls",
       "_view_module_version": "1.5.0",
       "_view_name": "HTMLView",
       "description": "",
       "description_tooltip": null,
       "layout": "IPY_MODEL_b529401a03124f62b840bb79f3474ac0",
       "placeholder": "​",
       "style": "IPY_MODEL_7d9bd1d2f0f04d009b0bd99620b2deb7",
       "value": "<h4>Closed PRs for repo: <a href=\"https://github.com/ipython/ipython-website\">ipython/ipython-website</a></h4>\n<h5></h5>\n<ul>\n<li><a href=\"https://github.com/ipython/ipython-website/pull/150\">(#150)</a>: <em>Remove Google Analytics</em> by <strong><a href=\"https://github.com/takluyver\">@takluyver</a></strong> merged by <strong><a href=\"https://github.com/Carreau\">@Carreau</a></strong></li>\n</ul>"
      }
     },
     "181f4816d05840ff877ba5bb64041221": {
      "model_module": "@jupyter-widgets/controls",
      "model_module_version": "1.5.0",
      "model_name": "DescriptionStyleModel",
      "state": {
       "_model_module": "@jupyter-widgets/controls",
       "_model_module_version": "1.5.0",
       "_model_name": "DescriptionStyleModel",
       "_view_count": null,
       "_view_module": "@jupyter-widgets/base",
       "_view_module_version": "1.2.0",
       "_view_name": "StyleView",
       "description_width": ""
      }
     },
     "1e073720e0e54a2d9bbc8fcdbeb684dc": {
      "model_module": "@jupyter-widgets/controls",
      "model_module_version": "1.5.0",
      "model_name": "DescriptionStyleModel",
      "state": {
       "_model_module": "@jupyter-widgets/controls",
       "_model_module_version": "1.5.0",
       "_model_name": "DescriptionStyleModel",
       "_view_count": null,
       "_view_module": "@jupyter-widgets/base",
       "_view_module_version": "1.2.0",
       "_view_name": "StyleView",
       "description_width": ""
      }
     },
     "2304d0dfd1384630ab59197fb4aa5508": {
      "model_module": "@jupyter-widgets/controls",
      "model_module_version": "1.5.0",
      "model_name": "DescriptionStyleModel",
      "state": {
       "_model_module": "@jupyter-widgets/controls",
       "_model_module_version": "1.5.0",
       "_model_name": "DescriptionStyleModel",
       "_view_count": null,
       "_view_module": "@jupyter-widgets/base",
       "_view_module_version": "1.2.0",
       "_view_name": "StyleView",
       "description_width": ""
      }
     },
     "28ccecab6ab34be0afd1898f7295e056": {
      "model_module": "@jupyter-widgets/base",
      "model_module_version": "1.2.0",
      "model_name": "LayoutModel",
      "state": {
       "_model_module": "@jupyter-widgets/base",
       "_model_module_version": "1.2.0",
       "_model_name": "LayoutModel",
       "_view_count": null,
       "_view_module": "@jupyter-widgets/base",
       "_view_module_version": "1.2.0",
       "_view_name": "LayoutView",
       "align_content": null,
       "align_items": null,
       "align_self": null,
       "border": null,
       "bottom": null,
       "display": null,
       "flex": null,
       "flex_flow": null,
       "grid_area": null,
       "grid_auto_columns": null,
       "grid_auto_flow": null,
       "grid_auto_rows": null,
       "grid_column": null,
       "grid_gap": null,
       "grid_row": null,
       "grid_template_areas": null,
       "grid_template_columns": null,
       "grid_template_rows": null,
       "height": null,
       "justify_content": null,
       "justify_items": null,
       "left": null,
       "margin": null,
       "max_height": null,
       "max_width": null,
       "min_height": null,
       "min_width": null,
       "object_fit": null,
       "object_position": null,
       "order": null,
       "overflow": null,
       "overflow_x": null,
       "overflow_y": null,
       "padding": null,
       "right": null,
       "top": null,
       "visibility": null,
       "width": null
      }
     },
     "2b46b36ff7404843bb6911c65c49f775": {
      "model_module": "@jupyter-widgets/controls",
      "model_module_version": "1.5.0",
      "model_name": "HTMLModel",
      "state": {
       "_dom_classes": [],
       "_model_module": "@jupyter-widgets/controls",
       "_model_module_version": "1.5.0",
       "_model_name": "HTMLModel",
       "_view_count": null,
       "_view_module": "@jupyter-widgets/controls",
       "_view_module_version": "1.5.0",
       "_view_name": "HTMLView",
       "description": "",
       "description_tooltip": null,
       "layout": "IPY_MODEL_b525d4f6fd394d44be98003efcd96ad5",
       "placeholder": "​",
       "style": "IPY_MODEL_d3cbe86a82d34befa619a1765fcf8111",
       "value": "<h4>Closed PRs for repo: <a href=\"https://github.com/ipython/ipython\">ipython/ipython</a></h4>\n<h5></h5>\n<ul>\n<li><a href=\"https://github.com/ipython/ipython/pull/12394\">(#12394)</a>: <em>Show make sure to flush hidden exception to screen.</em> by <strong><a href=\"https://github.com/Carreau\">@Carreau</a></strong> merged by <strong><a href=\"https://github.com/Carreau\">@Carreau</a></strong></li>\n<li><a href=\"https://github.com/ipython/ipython/pull/12393\">(#12393)</a>: <em>Manual backport of pr 12359 on 7.x</em> by <strong><a href=\"https://github.com/Carreau\">@Carreau</a></strong> merged by <strong><a href=\"https://github.com/Carreau\">@Carreau</a></strong></li>\n<li><a href=\"https://github.com/ipython/ipython/pull/12392\">(#12392)</a>: <em>[interactiveshell] add type annotation to run cell</em> by <strong><a href=\"https://github.com/bgerrity\">@bgerrity</a></strong> merged by <strong><a href=\"https://github.com/Carreau\">@Carreau</a></strong></li>\n<li><a href=\"https://github.com/ipython/ipython/pull/12389\">(#12389)</a>: <em>Minor: typos, grammar</em> by <strong><a href=\"https://github.com/ftobia\">@ftobia</a></strong> merged by <strong><a href=\"https://github.com/Carreau\">@Carreau</a></strong></li>\n<li><a href=\"https://github.com/ipython/ipython/pull/12384\">(#12384)</a>: <em>Fix glut-related error messages</em> by <strong><a href=\"https://github.com/cool-RR\">@cool-RR</a></strong> merged by <strong><a href=\"https://github.com/Carreau\">@Carreau</a></strong></li>\n<li><a href=\"https://github.com/ipython/ipython/pull/12383\">(#12383)</a>: <em>Fix exception causes all over the codebase</em> by <strong><a href=\"https://github.com/cool-RR\">@cool-RR</a></strong> merged by <strong><a href=\"https://github.com/Carreau\">@Carreau</a></strong></li>\n<li><a href=\"https://github.com/ipython/ipython/pull/12381\">(#12381)</a>: <em>Fix exception causes in 7 modules</em> by <strong><a href=\"https://github.com/cool-RR\">@cool-RR</a></strong> merged by <strong><a href=\"https://github.com/Carreau\">@Carreau</a></strong></li>\n<li><a href=\"https://github.com/ipython/ipython/pull/12380\">(#12380)</a>: <em>Update intro.rst</em> by <strong><a href=\"https://github.com/imba-tjd\">@imba-tjd</a></strong> merged by <strong><a href=\"https://github.com/Carreau\">@Carreau</a></strong></li>\n<li><a href=\"https://github.com/ipython/ipython/pull/12377\">(#12377)</a>: <em>Fix exception causes in debugger.py</em> by <strong><a href=\"https://github.com/cool-RR\">@cool-RR</a></strong> merged by <strong><a href=\"https://github.com/Carreau\">@Carreau</a></strong></li>\n<li><a href=\"https://github.com/ipython/ipython/pull/12375\">(#12375)</a>: <em>BF: wx inputhook</em> by <strong><a href=\"https://github.com/pauldmccarthy\">@pauldmccarthy</a></strong> merged by <strong><a href=\"https://github.com/Carreau\">@Carreau</a></strong></li>\n<li><a href=\"https://github.com/ipython/ipython/pull/12371\">(#12371)</a>: <em>test traitlets master</em> by <strong><a href=\"https://github.com/Carreau\">@Carreau</a></strong> merged by <strong><a href=\"https://github.com/Carreau\">@Carreau</a></strong></li>\n<li><a href=\"https://github.com/ipython/ipython/pull/12370\">(#12370)</a>: <em>Add comments to explain the lambda:</em> by <strong><a href=\"https://github.com/Carreau\">@Carreau</a></strong> merged by <strong><a href=\"https://github.com/Carreau\">@Carreau</a></strong></li>\n<li><a href=\"https://github.com/ipython/ipython/pull/12367\">(#12367)</a>: <em>PR: Add handling for malformed pathext env var (Windows)</em> by <strong><a href=\"https://github.com/dalthviz\">@dalthviz</a></strong> merged by <strong><a href=\"https://github.com/Carreau\">@Carreau</a></strong></li>\n<li><a href=\"https://github.com/ipython/ipython/pull/12362\">(#12362)</a>: <em>Migrate some tests to pytest only, and start removing yield-tests.</em> by <strong><a href=\"https://github.com/Carreau\">@Carreau</a></strong> merged by <strong><a href=\"https://github.com/Carreau\">@Carreau</a></strong></li>\n<li><a href=\"https://github.com/ipython/ipython/pull/12360\">(#12360)</a>: <em>use $SHELL in system_piped</em> by <strong><a href=\"https://github.com/minrk\">@minrk</a></strong> merged by <strong><a href=\"https://github.com/Carreau\">@Carreau</a></strong></li>\n<li><a href=\"https://github.com/ipython/ipython/pull/12359\">(#12359)</a>: _Implement understanding on __tracebackhide___ by <strong><a href=\"https://github.com/Carreau\">@Carreau</a></strong> merged by <strong><a href=\"https://github.com/Carreau\">@Carreau</a></strong></li>\n<li><a href=\"https://github.com/ipython/ipython/pull/12358\">(#12358)</a>: <em>Fix retaring process for twine.</em> by <strong><a href=\"https://github.com/Carreau\">@Carreau</a></strong> merged by <strong><a href=\"https://github.com/Carreau\">@Carreau</a></strong></li>\n<li><a href=\"https://github.com/ipython/ipython/pull/12356\">(#12356)</a>: <em>Backport PR #12301: Exceptions raised when executing notebooks via the e %run magic command</em> by <strong><a href=\"https://github.com/Carreau\">@Carreau</a></strong> merged by <strong><a href=\"https://github.com/Carreau\">@Carreau</a></strong></li>\n<li><a href=\"https://github.com/ipython/ipython/pull/12355\">(#12355)</a>: <em>Fix GUI inputhook for qt 5.15.0</em> by <strong><a href=\"https://github.com/tlambert03\">@tlambert03</a></strong> merged by <strong><a href=\"https://github.com/Carreau\">@Carreau</a></strong></li>\n<li><a href=\"https://github.com/ipython/ipython/pull/12354\">(#12354)</a>: <em>Docstats</em> by <strong><a href=\"https://github.com/Carreau\">@Carreau</a></strong> merged by <strong><a href=\"https://github.com/Carreau\">@Carreau</a></strong></li>\n<li><a href=\"https://github.com/ipython/ipython/pull/12352\">(#12352)</a>: <em>Update with forgotten 7.14 release notes.</em> by <strong><a href=\"https://github.com/Carreau\">@Carreau</a></strong> merged by <strong><a href=\"https://github.com/Carreau\">@Carreau</a></strong></li>\n<li><a href=\"https://github.com/ipython/ipython/pull/12347\">(#12347)</a>: <em>What's new in 7.15+ Reproducible build working</em> by <strong><a href=\"https://github.com/Carreau\">@Carreau</a></strong> merged by <strong><a href=\"https://github.com/Carreau\">@Carreau</a></strong></li>\n<li><a href=\"https://github.com/ipython/ipython/pull/12343\">(#12343)</a>: <em>rename deprected magic method -&gt; run_line_magic</em> by <strong><a href=\"https://github.com/btel\">@btel</a></strong> merged by <strong><a href=\"https://github.com/Carreau\">@Carreau</a></strong></li>\n<li><a href=\"https://github.com/ipython/ipython/pull/12342\">(#12342)</a>: <em>Fixed bug on windows where relative image path has wrong slashes</em> by <strong><a href=\"https://github.com/blakejgriffin\">@blakejgriffin</a></strong> merged by <strong><a href=\"https://github.com/Carreau\">@Carreau</a></strong></li>\n<li><a href=\"https://github.com/ipython/ipython/pull/12340\">(#12340)</a>: <em>docs typoes</em> by <strong><a href=\"https://github.com/Carreau\">@Carreau</a></strong> merged by <strong><a href=\"https://github.com/Carreau\">@Carreau</a></strong></li>\n<li><a href=\"https://github.com/ipython/ipython/pull/12339\">(#12339)</a>: <em>Add instruction to list the API changes.</em> by <strong><a href=\"https://github.com/Carreau\">@Carreau</a></strong> merged by <strong><a href=\"https://github.com/Carreau\">@Carreau</a></strong></li>\n<li><a href=\"https://github.com/ipython/ipython/pull/12336\">(#12336)</a>: <em>Fix auto formatting to be called only once.</em> by <strong><a href=\"https://github.com/Carreau\">@Carreau</a></strong> merged by <strong><a href=\"https://github.com/Carreau\">@Carreau</a></strong></li>\n<li><a href=\"https://github.com/ipython/ipython/pull/12335\">(#12335)</a>: <em>Better documentation for <code>space_for_menu</code>.</em> by <strong><a href=\"https://github.com/Carreau\">@Carreau</a></strong> merged by <strong><a href=\"https://github.com/Carreau\">@Carreau</a></strong></li>\n<li><a href=\"https://github.com/ipython/ipython/pull/12332\">(#12332)</a>: <em>DOC: Fix --matplotlib class name</em> by <strong><a href=\"https://github.com/godlygeek\">@godlygeek</a></strong> merged by <strong><a href=\"https://github.com/Carreau\">@Carreau</a></strong></li>\n<li><a href=\"https://github.com/ipython/ipython/pull/12330\">(#12330)</a>: <em>try to fix build on readthedocs</em> by <strong><a href=\"https://github.com/Carreau\">@Carreau</a></strong> merged by <strong><a href=\"https://github.com/Carreau\">@Carreau</a></strong></li>\n<li><a href=\"https://github.com/ipython/ipython/pull/12328\">(#12328)</a>: <em>document ipython and ipykernel global configuration</em> by <strong><a href=\"https://github.com/Carreau\">@Carreau</a></strong> merged by <strong><a href=\"https://github.com/Carreau\">@Carreau</a></strong></li>\n<li><a href=\"https://github.com/ipython/ipython/pull/12321\">(#12321)</a>: <em>Fix broken link in docs</em> by <strong><a href=\"https://github.com/marciomazza\">@marciomazza</a></strong> merged by <strong><a href=\"https://github.com/Carreau\">@Carreau</a></strong></li>\n<li><a href=\"https://github.com/ipython/ipython/pull/12319\">(#12319)</a>: <em>Remove deprecated and ignored travis.ci keys</em> by <strong><a href=\"https://github.com/Carreau\">@Carreau</a></strong> merged by <strong><a href=\"https://github.com/Carreau\">@Carreau</a></strong></li>\n<li><a href=\"https://github.com/ipython/ipython/pull/12317\">(#12317)</a>: <em>Update unicode ranges to fix test on nightly.</em> by <strong><a href=\"https://github.com/Carreau\">@Carreau</a></strong> merged by <strong><a href=\"https://github.com/Carreau\">@Carreau</a></strong></li>\n<li><a href=\"https://github.com/ipython/ipython/pull/12314\">(#12314)</a>: <em>Enable high DPI scaling in qt.py</em> by <strong><a href=\"https://github.com/tlambert03\">@tlambert03</a></strong> merged by <strong><a href=\"https://github.com/Carreau\">@Carreau</a></strong></li>\n<li><a href=\"https://github.com/ipython/ipython/pull/12311\">(#12311)</a>: <em>Remove dead code.</em> by <strong><a href=\"https://github.com/Carreau\">@Carreau</a></strong> merged by <strong><a href=\"https://github.com/Carreau\">@Carreau</a></strong></li>\n<li><a href=\"https://github.com/ipython/ipython/pull/12310\">(#12310)</a>: <em>Some more optional typing to make mypy happy</em> by <strong><a href=\"https://github.com/Carreau\">@Carreau</a></strong> merged by <strong><a href=\"https://github.com/Carreau\">@Carreau</a></strong></li>\n<li><a href=\"https://github.com/ipython/ipython/pull/12307\">(#12307)</a>: <em>Fix some test on python 3.9 (nightly).</em> by <strong><a href=\"https://github.com/Carreau\">@Carreau</a></strong> merged by <strong><a href=\"https://github.com/Carreau\">@Carreau</a></strong></li>\n<li><a href=\"https://github.com/ipython/ipython/pull/12305\">(#12305)</a>: <em>Fix ipython#11508: check if line_buffer is None</em> by <strong><a href=\"https://github.com/TheHubbit\">@TheHubbit</a></strong> merged by <strong><a href=\"https://github.com/Carreau\">@Carreau</a></strong></li>\n<li><a href=\"https://github.com/ipython/ipython/pull/12303\">(#12303)</a>: <em>Fix nightly parso error</em> by <strong><a href=\"https://github.com/Carreau\">@Carreau</a></strong> merged by <strong><a href=\"https://github.com/Carreau\">@Carreau</a></strong></li>\n<li><a href=\"https://github.com/ipython/ipython/pull/12301\">(#12301)</a>: <em>Exceptions raised when executing notebooks via the %run magic command</em> by <strong><a href=\"https://github.com/palewire\">@palewire</a></strong> merged by <strong><a href=\"https://github.com/Carreau\">@Carreau</a></strong></li>\n<li><a href=\"https://github.com/ipython/ipython/pull/12299\">(#12299)</a>: <em>PERF: Make unicode completions lazier.</em> by <strong><a href=\"https://github.com/ssanderson\">@ssanderson</a></strong> merged by <strong><a href=\"https://github.com/Carreau\">@Carreau</a></strong></li>\n<li><a href=\"https://github.com/ipython/ipython/pull/12298\">(#12298)</a>: <em>ENH: Add configuration for profiling completions.</em> by <strong><a href=\"https://github.com/ssanderson\">@ssanderson</a></strong> merged by <strong><a href=\"https://github.com/Carreau\">@Carreau</a></strong></li>\n<li><a href=\"https://github.com/ipython/ipython/pull/12296\">(#12296)</a>: <em>Delete 109-112 for removing external test</em> by <strong><a href=\"https://github.com/Inception95\">@Inception95</a></strong> merged by <strong><a href=\"https://github.com/Carreau\">@Carreau</a></strong></li>\n<li><a href=\"https://github.com/ipython/ipython/pull/12284\">(#12284)</a>: <em>Try to elide long completion  based on user input.</em> by <strong><a href=\"https://github.com/Carreau\">@Carreau</a></strong> merged by <strong><a href=\"https://github.com/Carreau\">@Carreau</a></strong></li>\n<li><a href=\"https://github.com/ipython/ipython/pull/12282\">(#12282)</a>: <em>Completer typing</em> by <strong><a href=\"https://github.com/Carreau\">@Carreau</a></strong> merged by <strong><a href=\"https://github.com/Carreau\">@Carreau</a></strong></li>\n<li><a href=\"https://github.com/ipython/ipython/pull/12280\">(#12280)</a>: <em>Unify API between completers.</em> by <strong><a href=\"https://github.com/Carreau\">@Carreau</a></strong> merged by <strong><a href=\"https://github.com/Carreau\">@Carreau</a></strong></li>\n<li><a href=\"https://github.com/ipython/ipython/pull/12277\">(#12277)</a>: <em>start using .git-blame-ignore-revs</em> by <strong><a href=\"https://github.com/ivanov\">@ivanov</a></strong> merged by <strong><a href=\"https://github.com/Carreau\">@Carreau</a></strong></li>\n<li><a href=\"https://github.com/ipython/ipython/pull/12276\">(#12276)</a>: <em>Second try to fix readthedocs on master.</em> by <strong><a href=\"https://github.com/Carreau\">@Carreau</a></strong> merged by <strong><a href=\"https://github.com/Carreau\">@Carreau</a></strong></li>\n<li><a href=\"https://github.com/ipython/ipython/pull/12274\">(#12274)</a>: <em>try to fix master docs on readthedocs.</em> by <strong><a href=\"https://github.com/Carreau\">@Carreau</a></strong> merged by <strong><a href=\"https://github.com/Carreau\">@Carreau</a></strong></li>\n<li><a href=\"https://github.com/ipython/ipython/pull/12272\">(#12272)</a>: <em>Update what's new for 7.14 release</em> by <strong><a href=\"https://github.com/Carreau\">@Carreau</a></strong> merged by <strong><a href=\"https://github.com/Carreau\">@Carreau</a></strong></li>\n<li><a href=\"https://github.com/ipython/ipython/pull/12271\">(#12271)</a>: <em>wahtsnew 5.10</em> by <strong><a href=\"https://github.com/Carreau\">@Carreau</a></strong> merged by <strong><a href=\"https://github.com/Carreau\">@Carreau</a></strong></li>\n<li><a href=\"https://github.com/ipython/ipython/pull/12261\">(#12261)</a>: <em>Do not exit if self.interact is True</em> by <strong><a href=\"https://github.com/impact27\">@impact27</a></strong> merged by <strong><a href=\"https://github.com/Carreau\">@Carreau</a></strong></li>\n<li><a href=\"https://github.com/ipython/ipython/pull/12259\">(#12259)</a>: <em>36plus cleanup</em> by <strong><a href=\"https://github.com/Carreau\">@Carreau</a></strong> merged by <strong><a href=\"https://github.com/ivanov\">@ivanov</a></strong></li>\n<li><a href=\"https://github.com/ipython/ipython/pull/12258\">(#12258)</a>: <em>Update instruction on git blame</em> by <strong><a href=\"https://github.com/Carreau\">@Carreau</a></strong> merged by <strong><a href=\"https://github.com/Carreau\">@Carreau</a></strong></li>\n<li><a href=\"https://github.com/ipython/ipython/pull/12256\">(#12256)</a>: <em>Keep trailing commas for tuple subclasses of length 1</em> by <strong><a href=\"https://github.com/eric-wieser\">@eric-wieser</a></strong> merged by <strong><a href=\"https://github.com/Carreau\">@Carreau</a></strong></li>\n<li><a href=\"https://github.com/ipython/ipython/pull/12255\">(#12255)</a>: <em>fix getting signatures in jedi 0.17</em> by <strong><a href=\"https://github.com/Carreau\">@Carreau</a></strong> merged by <strong><a href=\"https://github.com/Carreau\">@Carreau</a></strong></li>\n<li><a href=\"https://github.com/ipython/ipython/pull/12239\">(#12239)</a>: <em>Refactor display modules</em> by <strong><a href=\"https://github.com/martinRenou\">@martinRenou</a></strong> merged by <strong><a href=\"https://github.com/Carreau\">@Carreau</a></strong></li>\n<li><a href=\"https://github.com/ipython/ipython/pull/12227\">(#12227)</a>: <em>Fix DeprecationWarning on autocompletion with jedi 0.17.0</em> by <strong><a href=\"https://github.com/gorogoroumaru\">@gorogoroumaru</a></strong> merged by <strong><a href=\"https://github.com/Carreau\">@Carreau</a></strong></li>\n<li><a href=\"https://github.com/ipython/ipython/pull/12168\">(#12168)</a>: <em>Make IPython.core.debugger interruptible by KeyboardInterrupt</em> by <strong><a href=\"https://github.com/itamarst\">@itamarst</a></strong> merged by <strong><a href=\"https://github.com/Carreau\">@Carreau</a></strong></li>\n</ul>"
      }
     },
     "2ce12e13bbd342c49aae83e44748fea2": {
      "model_module": "@jupyter-widgets/controls",
      "model_module_version": "1.5.0",
      "model_name": "HTMLModel",
      "state": {
       "_dom_classes": [],
       "_model_module": "@jupyter-widgets/controls",
       "_model_module_version": "1.5.0",
       "_model_name": "HTMLModel",
       "_view_count": null,
       "_view_module": "@jupyter-widgets/controls",
       "_view_module_version": "1.5.0",
       "_view_name": "HTMLView",
       "description": "",
       "description_tooltip": null,
       "layout": "IPY_MODEL_28ccecab6ab34be0afd1898f7295e056",
       "placeholder": "​",
       "style": "IPY_MODEL_2304d0dfd1384630ab59197fb4aa5508",
       "value": "<h5><a href=\"https://github.com/ipython/ipython-website\">ipython/ipython-website</a></h5>"
      }
     },
     "3106d3162b9e495bbe06cb48b7daeab7": {
      "model_module": "@jupyter-widgets/controls",
      "model_module_version": "1.5.0",
      "model_name": "TabModel",
      "state": {
       "_dom_classes": [],
       "_model_module": "@jupyter-widgets/controls",
       "_model_module_version": "1.5.0",
       "_model_name": "TabModel",
       "_titles": {
        "0": "ipykernel",
        "1": "ipyparallel",
        "2": "ipython",
        "3": "ipython-website",
        "4": "traitlets"
       },
       "_view_count": null,
       "_view_module": "@jupyter-widgets/controls",
       "_view_module_version": "1.5.0",
       "_view_name": "TabView",
       "box_style": "",
       "children": [
        "IPY_MODEL_93b37df96b57400cb0d676261b24af6e",
        "IPY_MODEL_efaed4a4c0a0422f9968580b77708ac7",
        "IPY_MODEL_2b46b36ff7404843bb6911c65c49f775",
        "IPY_MODEL_0f4d0ea3550f4513a482de5b955742a2",
        "IPY_MODEL_4da98a1877ad4053b7000670d7dac3a1"
       ],
       "layout": "IPY_MODEL_c71ed81d6c7c462fbdec7280f6ba8859",
       "selected_index": 0
      }
     },
     "358c2f3ee1f64d5c9fe5170d75c1e6ee": {
      "model_module": "@jupyter-widgets/base",
      "model_module_version": "1.2.0",
      "model_name": "LayoutModel",
      "state": {
       "_model_module": "@jupyter-widgets/base",
       "_model_module_version": "1.2.0",
       "_model_name": "LayoutModel",
       "_view_count": null,
       "_view_module": "@jupyter-widgets/base",
       "_view_module_version": "1.2.0",
       "_view_name": "LayoutView",
       "align_content": null,
       "align_items": null,
       "align_self": null,
       "border": null,
       "bottom": null,
       "display": null,
       "flex": null,
       "flex_flow": null,
       "grid_area": null,
       "grid_auto_columns": null,
       "grid_auto_flow": null,
       "grid_auto_rows": null,
       "grid_column": null,
       "grid_gap": null,
       "grid_row": null,
       "grid_template_areas": null,
       "grid_template_columns": null,
       "grid_template_rows": null,
       "height": null,
       "justify_content": null,
       "justify_items": null,
       "left": null,
       "margin": null,
       "max_height": null,
       "max_width": null,
       "min_height": null,
       "min_width": null,
       "object_fit": null,
       "object_position": null,
       "order": null,
       "overflow": null,
       "overflow_x": null,
       "overflow_y": null,
       "padding": null,
       "right": null,
       "top": null,
       "visibility": null,
       "width": null
      }
     },
     "3971da0fa13a403894c24df33d5138ad": {
      "model_module": "@jupyter-widgets/controls",
      "model_module_version": "1.5.0",
      "model_name": "HTMLModel",
      "state": {
       "_dom_classes": [],
       "_model_module": "@jupyter-widgets/controls",
       "_model_module_version": "1.5.0",
       "_model_name": "HTMLModel",
       "_view_count": null,
       "_view_module": "@jupyter-widgets/controls",
       "_view_module_version": "1.5.0",
       "_view_name": "HTMLView",
       "description": "",
       "description_tooltip": null,
       "layout": "IPY_MODEL_9e2acc6d12f746cb88b358eb9028e30f",
       "placeholder": "​",
       "style": "IPY_MODEL_fd239d550bd645b0b78dfd15be5fbf5a",
       "value": "<h5><a href=\"https://github.com/ipython/ipython\">ipython/ipython</a></h5>\n<ul>\n<li><a href=\"https://github.com/ipython/ipython/issues/12348\">(#12348)</a>: <em>Debugger is flooded with QObject warnings if ipython is started with gui=qt5/4</em> by <strong><a href=\"https://github.com/clemisch\">@clemisch</a></strong></li>\n</ul>"
      }
     },
     "3b7396444d8344b59f521ca1e22ad062": {
      "model_module": "@jupyter-widgets/base",
      "model_module_version": "1.2.0",
      "model_name": "LayoutModel",
      "state": {
       "_model_module": "@jupyter-widgets/base",
       "_model_module_version": "1.2.0",
       "_model_name": "LayoutModel",
       "_view_count": null,
       "_view_module": "@jupyter-widgets/base",
       "_view_module_version": "1.2.0",
       "_view_name": "LayoutView",
       "align_content": null,
       "align_items": null,
       "align_self": null,
       "border": null,
       "bottom": null,
       "display": null,
       "flex": null,
       "flex_flow": null,
       "grid_area": null,
       "grid_auto_columns": null,
       "grid_auto_flow": null,
       "grid_auto_rows": null,
       "grid_column": null,
       "grid_gap": null,
       "grid_row": null,
       "grid_template_areas": null,
       "grid_template_columns": null,
       "grid_template_rows": null,
       "height": null,
       "justify_content": null,
       "justify_items": null,
       "left": null,
       "margin": null,
       "max_height": null,
       "max_width": null,
       "min_height": null,
       "min_width": null,
       "object_fit": null,
       "object_position": null,
       "order": null,
       "overflow": null,
       "overflow_x": null,
       "overflow_y": null,
       "padding": null,
       "right": null,
       "top": null,
       "visibility": null,
       "width": null
      }
     },
     "3de1dd497d554b9ab8ca8c613158d42a": {
      "model_module": "@jupyter-widgets/controls",
      "model_module_version": "1.5.0",
      "model_name": "HTMLModel",
      "state": {
       "_dom_classes": [],
       "_model_module": "@jupyter-widgets/controls",
       "_model_module_version": "1.5.0",
       "_model_name": "HTMLModel",
       "_view_count": null,
       "_view_module": "@jupyter-widgets/controls",
       "_view_module_version": "1.5.0",
       "_view_name": "HTMLView",
       "description": "",
       "description_tooltip": null,
       "layout": "IPY_MODEL_cff9f3e3d90f4ed18d713ad12005357b",
       "placeholder": "​",
       "style": "IPY_MODEL_071aa923b62946b09f9cd3adf7368115",
       "value": "<h5><a href=\"https://github.com/ipython/ipython-website\">ipython/ipython-website</a></h5>"
      }
     },
     "3e1d36d980e7490f865eb86d1dd8895d": {
      "model_module": "@jupyter-widgets/controls",
      "model_module_version": "1.5.0",
      "model_name": "HTMLModel",
      "state": {
       "_dom_classes": [],
       "_model_module": "@jupyter-widgets/controls",
       "_model_module_version": "1.5.0",
       "_model_name": "HTMLModel",
       "_view_count": null,
       "_view_module": "@jupyter-widgets/controls",
       "_view_module_version": "1.5.0",
       "_view_name": "HTMLView",
       "description": "",
       "description_tooltip": null,
       "layout": "IPY_MODEL_358c2f3ee1f64d5c9fe5170d75c1e6ee",
       "placeholder": "​",
       "style": "IPY_MODEL_46b418fb94dd4888b0510dd81b1b3c56",
       "value": "<h5><a href=\"https://github.com/ipython/ipython\">ipython/ipython</a></h5>\n<ul>\n<li><a href=\"https://github.com/ipython/ipython/issues/12348\">(#12348)</a>: <em>Debugger is flooded with QObject warnings if ipython is started with gui=qt5/4</em> by <strong><a href=\"https://github.com/clemisch\">@clemisch</a></strong></li>\n</ul>"
      }
     },
     "411d246a6ce8417b8dc65747c3a9ef2f": {
      "model_module": "@jupyter-widgets/controls",
      "model_module_version": "1.5.0",
      "model_name": "HTMLModel",
      "state": {
       "_dom_classes": [],
       "_model_module": "@jupyter-widgets/controls",
       "_model_module_version": "1.5.0",
       "_model_name": "HTMLModel",
       "_view_count": null,
       "_view_module": "@jupyter-widgets/controls",
       "_view_module_version": "1.5.0",
       "_view_name": "HTMLView",
       "description": "",
       "description_tooltip": null,
       "layout": "IPY_MODEL_d7b24a66370849cea492273d18e95753",
       "placeholder": "​",
       "style": "IPY_MODEL_8bae4dcce71e4e52859b613b0d38e7b9",
       "value": "<h5><a href=\"https://github.com/ipython/traitlets\">ipython/traitlets</a></h5>\n<ul>\n<li><a href=\"https://github.com/ipython/traitlets/issues/564\">(#564)</a>: <em>Downstream testing of 5.x/master</em> by <strong><a href=\"https://github.com/Carreau\">@Carreau</a></strong></li>\n<li><a href=\"https://github.com/ipython/traitlets/issues/557\">(#557)</a>: <em>The Dict value update cannot trigger any event</em> by <strong><a href=\"https://github.com/dou-du\">@dou-du</a></strong></li>\n<li><a href=\"https://github.com/ipython/traitlets/issues/554\">(#554)</a>: <em>Release including \"Callable\"</em> by <strong><a href=\"https://github.com/timkpaine\">@timkpaine</a></strong></li>\n</ul>"
      }
     },
     "46b418fb94dd4888b0510dd81b1b3c56": {
      "model_module": "@jupyter-widgets/controls",
      "model_module_version": "1.5.0",
      "model_name": "DescriptionStyleModel",
      "state": {
       "_model_module": "@jupyter-widgets/controls",
       "_model_module_version": "1.5.0",
       "_model_name": "DescriptionStyleModel",
       "_view_count": null,
       "_view_module": "@jupyter-widgets/base",
       "_view_module_version": "1.2.0",
       "_view_name": "StyleView",
       "description_width": ""
      }
     },
     "4da98a1877ad4053b7000670d7dac3a1": {
      "model_module": "@jupyter-widgets/controls",
      "model_module_version": "1.5.0",
      "model_name": "HTMLModel",
      "state": {
       "_dom_classes": [],
       "_model_module": "@jupyter-widgets/controls",
       "_model_module_version": "1.5.0",
       "_model_name": "HTMLModel",
       "_view_count": null,
       "_view_module": "@jupyter-widgets/controls",
       "_view_module_version": "1.5.0",
       "_view_name": "HTMLView",
       "description": "",
       "description_tooltip": null,
       "layout": "IPY_MODEL_ba7a918f76f344a4845fa041c409a877",
       "placeholder": "​",
       "style": "IPY_MODEL_1e073720e0e54a2d9bbc8fcdbeb684dc",
       "value": "<h4>Closed PRs for repo: <a href=\"https://github.com/ipython/traitlets\">ipython/traitlets</a></h4>\n<h5></h5>\n<ul>\n<li><a href=\"https://github.com/ipython/traitlets/pull/574\">(#574)</a>: <em>more version_info removal</em> by <strong><a href=\"https://github.com/Carreau\">@Carreau</a></strong> merged by <strong><a href=\"https://github.com/Carreau\">@Carreau</a></strong></li>\n<li><a href=\"https://github.com/ipython/traitlets/pull/573\">(#573)</a>: <em>Some removal of Python 2 compatibility (in particular six)</em> by <strong><a href=\"https://github.com/Carreau\">@Carreau</a></strong> merged by <strong><a href=\"https://github.com/Carreau\">@Carreau</a></strong></li>\n<li><a href=\"https://github.com/ipython/traitlets/pull/572\">(#572)</a>: <em>review a few more PRs.</em> by <strong><a href=\"https://github.com/Carreau\">@Carreau</a></strong> merged by <strong><a href=\"https://github.com/Carreau\">@Carreau</a></strong></li>\n<li><a href=\"https://github.com/ipython/traitlets/pull/571\">(#571)</a>: <em>remove PY2 compat + isort + pyupgrade + darker</em> by <strong><a href=\"https://github.com/Carreau\">@Carreau</a></strong> merged by <strong><a href=\"https://github.com/Carreau\">@Carreau</a></strong></li>\n<li><a href=\"https://github.com/ipython/traitlets/pull/570\">(#570)</a>: <em>review more PRs changelog and reorder</em> by <strong><a href=\"https://github.com/Carreau\">@Carreau</a></strong> merged by <strong><a href=\"https://github.com/Carreau\">@Carreau</a></strong></li>\n<li><a href=\"https://github.com/ipython/traitlets/pull/569\">(#569)</a>: <em>Follow nep 29, remove support for Python &lt; 3.7</em> by <strong><a href=\"https://github.com/Carreau\">@Carreau</a></strong> merged by <strong><a href=\"https://github.com/Carreau\">@Carreau</a></strong></li>\n<li><a href=\"https://github.com/ipython/traitlets/pull/568\">(#568)</a>: <em>Review and document a couple more 5.0 PRs.</em> by <strong><a href=\"https://github.com/Carreau\">@Carreau</a></strong> merged by <strong><a href=\"https://github.com/Carreau\">@Carreau</a></strong></li>\n<li><a href=\"https://github.com/ipython/traitlets/pull/567\">(#567)</a>: <em>fixup changelog</em> by <strong><a href=\"https://github.com/Carreau\">@Carreau</a></strong> merged by <strong><a href=\"https://github.com/Carreau\">@Carreau</a></strong></li>\n<li><a href=\"https://github.com/ipython/traitlets/pull/566\">(#566)</a>: <em>Changelog part 1</em> by <strong><a href=\"https://github.com/Carreau\">@Carreau</a></strong> merged by <strong><a href=\"https://github.com/Carreau\">@Carreau</a></strong></li>\n<li><a href=\"https://github.com/ipython/traitlets/pull/565\">(#565)</a>: <em>Fix doc formatting.</em> by <strong><a href=\"https://github.com/Carreau\">@Carreau</a></strong> merged by <strong><a href=\"https://github.com/Carreau\">@Carreau</a></strong></li>\n<li><a href=\"https://github.com/ipython/traitlets/pull/563\">(#563)</a>: <em>Stop testing traittypes which fails.</em> by <strong><a href=\"https://github.com/Carreau\">@Carreau</a></strong> merged by <strong><a href=\"https://github.com/Carreau\">@Carreau</a></strong></li>\n<li><a href=\"https://github.com/ipython/traitlets/pull/562\">(#562)</a>: <em>Travis CI: Fix Travis build configuration validation issues</em> by <strong><a href=\"https://github.com/cclauss\">@cclauss</a></strong> merged by <strong><a href=\"https://github.com/Carreau\">@Carreau</a></strong></li>\n<li><a href=\"https://github.com/ipython/traitlets/pull/561\">(#561)</a>: <em>Travis CI: Run tests on Python 3.8, not 3.7</em> by <strong><a href=\"https://github.com/cclauss\">@cclauss</a></strong> merged by <strong><a href=\"https://github.com/Carreau\">@Carreau</a></strong></li>\n<li><a href=\"https://github.com/ipython/traitlets/pull/559\">(#559)</a>: <em>Start testing on current Python versions.</em> by <strong><a href=\"https://github.com/Carreau\">@Carreau</a></strong> merged by <strong><a href=\"https://github.com/Carreau\">@Carreau</a></strong></li>\n<li><a href=\"https://github.com/ipython/traitlets/pull/556\">(#556)</a>: <em>add callable test for master</em> by <strong><a href=\"https://github.com/timkpaine\">@timkpaine</a></strong> merged by <strong><a href=\"https://github.com/rmorshea\">@rmorshea</a></strong></li>\n<li><a href=\"https://github.com/ipython/traitlets/pull/555\">(#555)</a>: <em>cherrypick #333 and #523 onto 4.3.x</em> by <strong><a href=\"https://github.com/timkpaine\">@timkpaine</a></strong> merged by <strong><a href=\"https://github.com/rmorshea\">@rmorshea</a></strong></li>\n<li><a href=\"https://github.com/ipython/traitlets/pull/552\">(#552)</a>: <em>updated python versions in ci</em> by <strong><a href=\"https://github.com/dtrodrigues\">@dtrodrigues</a></strong> merged by <strong><a href=\"https://github.com/rmorshea\">@rmorshea</a></strong></li>\n<li><a href=\"https://github.com/ipython/traitlets/pull/551\">(#551)</a>: <em>use == for integer comparison</em> by <strong><a href=\"https://github.com/dtrodrigues\">@dtrodrigues</a></strong> merged by <strong><a href=\"https://github.com/rmorshea\">@rmorshea</a></strong></li>\n<li><a href=\"https://github.com/ipython/traitlets/pull/550\">(#550)</a>: <em>Don't use \"is\" to compare integers in if-statement</em> by <strong><a href=\"https://github.com/dgabriele\">@dgabriele</a></strong> merged by <strong><a href=\"https://github.com/rmorshea\">@rmorshea</a></strong></li>\n<li><a href=\"https://github.com/ipython/traitlets/pull/547\">(#547)</a>: <em>Unpin Python 3.5 for docs</em> by <strong><a href=\"https://github.com/takluyver\">@takluyver</a></strong> merged by <strong><a href=\"https://github.com/Carreau\">@Carreau</a></strong></li>\n<li><a href=\"https://github.com/ipython/traitlets/pull/546\">(#546)</a>: <em>Export Bunch</em> by <strong><a href=\"https://github.com/jasongrout\">@jasongrout</a></strong> merged by <strong><a href=\"https://github.com/Carreau\">@Carreau</a></strong></li>\n<li><a href=\"https://github.com/ipython/traitlets/pull/545\">(#545)</a>: <em>Fix typo</em> by <strong><a href=\"https://github.com/davidbrochart\">@davidbrochart</a></strong> merged by <strong><a href=\"https://github.com/Carreau\">@Carreau</a></strong></li>\n<li><a href=\"https://github.com/ipython/traitlets/pull/543\">(#543)</a>: <em>Travis CI: Test the current versions of Python</em> by <strong><a href=\"https://github.com/cclauss\">@cclauss</a></strong> merged by <strong><a href=\"https://github.com/Carreau\">@Carreau</a></strong></li>\n<li><a href=\"https://github.com/ipython/traitlets/pull/531\">(#531)</a>: <em>Update myapp.py</em> by <strong><a href=\"https://github.com/connerxyz\">@connerxyz</a></strong> merged by <strong><a href=\"https://github.com/Carreau\">@Carreau</a></strong></li>\n</ul>"
      }
     },
     "569b53d539e14ff9bd1e0fbb548a4efa": {
      "model_module": "@jupyter-widgets/controls",
      "model_module_version": "1.5.0",
      "model_name": "IntProgressModel",
      "state": {
       "_dom_classes": [],
       "_model_module": "@jupyter-widgets/controls",
       "_model_module_version": "1.5.0",
       "_model_name": "IntProgressModel",
       "_view_count": null,
       "_view_module": "@jupyter-widgets/controls",
       "_view_module_version": "1.5.0",
       "_view_name": "ProgressView",
       "bar_style": "success",
       "description": "Downloading:",
       "description_tooltip": null,
       "layout": "IPY_MODEL_a577a6a8547c4984b993493b15311262",
       "max": 5,
       "min": 0,
       "orientation": "horizontal",
       "style": "IPY_MODEL_bfc01a3a4bce4d218bf7cc25d85662a9",
       "value": 5
      }
     },
     "59cbe6d3720e4f9e9fea6b2470e0a97d": {
      "model_module": "@jupyter-widgets/controls",
      "model_module_version": "1.5.0",
      "model_name": "HTMLModel",
      "state": {
       "_dom_classes": [],
       "_model_module": "@jupyter-widgets/controls",
       "_model_module_version": "1.5.0",
       "_model_name": "HTMLModel",
       "_view_count": null,
       "_view_module": "@jupyter-widgets/controls",
       "_view_module_version": "1.5.0",
       "_view_name": "HTMLView",
       "description": "",
       "description_tooltip": null,
       "layout": "IPY_MODEL_9f73ce2e62974d5ea843f27c821110ac",
       "placeholder": "​",
       "style": "IPY_MODEL_181f4816d05840ff877ba5bb64041221",
       "value": "<h5><a href=\"https://github.com/ipython/ipyparallel\">ipython/ipyparallel</a></h5>\n<ul>\n<li><a href=\"https://github.com/ipython/ipyparallel/issues/414\">(#414)</a>: <em>become_dask tries to connect to the wrong IP</em> by <strong><a href=\"https://github.com/sk1p\">@sk1p</a></strong></li>\n<li><a href=\"https://github.com/ipython/ipyparallel/issues/408\">(#408)</a>: <em>Repeated \"ipcontroller\" in filenames with cid in 6.2.5</em> by <strong><a href=\"https://github.com/gsganden\">@gsganden</a></strong></li>\n</ul>"
      }
     },
     "5b6eb4f04914479797a3b245e3f66b40": {
      "model_module": "@jupyter-widgets/controls",
      "model_module_version": "1.5.0",
      "model_name": "HTMLModel",
      "state": {
       "_dom_classes": [],
       "_model_module": "@jupyter-widgets/controls",
       "_model_module_version": "1.5.0",
       "_model_name": "HTMLModel",
       "_view_count": null,
       "_view_module": "@jupyter-widgets/controls",
       "_view_module_version": "1.5.0",
       "_view_name": "HTMLView",
       "description": "",
       "description_tooltip": null,
       "layout": "IPY_MODEL_6b816276c37642dfa7b4dac197877d9f",
       "placeholder": "​",
       "style": "IPY_MODEL_d24897f046b6418eb98b528e497644db",
       "value": "<h5><a href=\"https://github.com/ipython/traitlets\">ipython/traitlets</a></h5>\n<ul>\n<li><a href=\"https://github.com/ipython/traitlets/issues/564\">(#564)</a>: <em>Downstream testing of 5.x/master</em> by <strong><a href=\"https://github.com/Carreau\">@Carreau</a></strong></li>\n<li><a href=\"https://github.com/ipython/traitlets/issues/557\">(#557)</a>: <em>The Dict value update cannot trigger any event</em> by <strong><a href=\"https://github.com/dou-du\">@dou-du</a></strong></li>\n<li><a href=\"https://github.com/ipython/traitlets/issues/554\">(#554)</a>: <em>Release including \"Callable\"</em> by <strong><a href=\"https://github.com/timkpaine\">@timkpaine</a></strong></li>\n</ul>"
      }
     },
     "5d5403e5415942f48e75c6af9bfb897f": {
      "model_module": "@jupyter-widgets/controls",
      "model_module_version": "1.5.0",
      "model_name": "IntProgressModel",
      "state": {
       "_dom_classes": [],
       "_model_module": "@jupyter-widgets/controls",
       "_model_module_version": "1.5.0",
       "_model_name": "IntProgressModel",
       "_view_count": null,
       "_view_module": "@jupyter-widgets/controls",
       "_view_module_version": "1.5.0",
       "_view_name": "ProgressView",
       "bar_style": "success",
       "description": "Downloading:",
       "description_tooltip": null,
       "layout": "IPY_MODEL_6dd8be436b5849aaa11f640134eb3b9d",
       "max": 5,
       "min": 0,
       "orientation": "horizontal",
       "style": "IPY_MODEL_888a411cfbc8465eb0bade7b84dd5930",
       "value": 5
      }
     },
     "6b816276c37642dfa7b4dac197877d9f": {
      "model_module": "@jupyter-widgets/base",
      "model_module_version": "1.2.0",
      "model_name": "LayoutModel",
      "state": {
       "_model_module": "@jupyter-widgets/base",
       "_model_module_version": "1.2.0",
       "_model_name": "LayoutModel",
       "_view_count": null,
       "_view_module": "@jupyter-widgets/base",
       "_view_module_version": "1.2.0",
       "_view_name": "LayoutView",
       "align_content": null,
       "align_items": null,
       "align_self": null,
       "border": null,
       "bottom": null,
       "display": null,
       "flex": null,
       "flex_flow": null,
       "grid_area": null,
       "grid_auto_columns": null,
       "grid_auto_flow": null,
       "grid_auto_rows": null,
       "grid_column": null,
       "grid_gap": null,
       "grid_row": null,
       "grid_template_areas": null,
       "grid_template_columns": null,
       "grid_template_rows": null,
       "height": null,
       "justify_content": null,
       "justify_items": null,
       "left": null,
       "margin": null,
       "max_height": null,
       "max_width": null,
       "min_height": null,
       "min_width": null,
       "object_fit": null,
       "object_position": null,
       "order": null,
       "overflow": null,
       "overflow_x": null,
       "overflow_y": null,
       "padding": null,
       "right": null,
       "top": null,
       "visibility": null,
       "width": null
      }
     },
     "6dd8be436b5849aaa11f640134eb3b9d": {
      "model_module": "@jupyter-widgets/base",
      "model_module_version": "1.2.0",
      "model_name": "LayoutModel",
      "state": {
       "_model_module": "@jupyter-widgets/base",
       "_model_module_version": "1.2.0",
       "_model_name": "LayoutModel",
       "_view_count": null,
       "_view_module": "@jupyter-widgets/base",
       "_view_module_version": "1.2.0",
       "_view_name": "LayoutView",
       "align_content": null,
       "align_items": null,
       "align_self": null,
       "border": null,
       "bottom": null,
       "display": null,
       "flex": null,
       "flex_flow": null,
       "grid_area": null,
       "grid_auto_columns": null,
       "grid_auto_flow": null,
       "grid_auto_rows": null,
       "grid_column": null,
       "grid_gap": null,
       "grid_row": null,
       "grid_template_areas": null,
       "grid_template_columns": null,
       "grid_template_rows": null,
       "height": null,
       "justify_content": null,
       "justify_items": null,
       "left": null,
       "margin": null,
       "max_height": null,
       "max_width": null,
       "min_height": null,
       "min_width": null,
       "object_fit": null,
       "object_position": null,
       "order": null,
       "overflow": null,
       "overflow_x": null,
       "overflow_y": null,
       "padding": null,
       "right": null,
       "top": null,
       "visibility": null,
       "width": null
      }
     },
     "6e10cffa00e2434c87ddd838d8ac80f9": {
      "model_module": "@jupyter-widgets/controls",
      "model_module_version": "1.5.0",
      "model_name": "HTMLModel",
      "state": {
       "_dom_classes": [],
       "_model_module": "@jupyter-widgets/controls",
       "_model_module_version": "1.5.0",
       "_model_name": "HTMLModel",
       "_view_count": null,
       "_view_module": "@jupyter-widgets/controls",
       "_view_module_version": "1.5.0",
       "_view_name": "HTMLView",
       "description": "",
       "description_tooltip": null,
       "layout": "IPY_MODEL_be5b6e21facd4485b98e7915ad239776",
       "placeholder": "​",
       "style": "IPY_MODEL_7c104d12d2734b66a1a583afdd5974c7",
       "value": "<h5><a href=\"https://github.com/ipython/ipyparallel\">ipython/ipyparallel</a></h5>\n<ul>\n<li><a href=\"https://github.com/ipython/ipyparallel/issues/414\">(#414)</a>: <em>become_dask tries to connect to the wrong IP</em> by <strong><a href=\"https://github.com/sk1p\">@sk1p</a></strong></li>\n<li><a href=\"https://github.com/ipython/ipyparallel/issues/408\">(#408)</a>: <em>Repeated \"ipcontroller\" in filenames with cid in 6.2.5</em> by <strong><a href=\"https://github.com/gsganden\">@gsganden</a></strong></li>\n</ul>"
      }
     },
     "6f96166a25b44308aff87db1a48b0b8a": {
      "model_module": "@jupyter-widgets/controls",
      "model_module_version": "1.5.0",
      "model_name": "DescriptionStyleModel",
      "state": {
       "_model_module": "@jupyter-widgets/controls",
       "_model_module_version": "1.5.0",
       "_model_name": "DescriptionStyleModel",
       "_view_count": null,
       "_view_module": "@jupyter-widgets/base",
       "_view_module_version": "1.2.0",
       "_view_name": "StyleView",
       "description_width": ""
      }
     },
     "7c104d12d2734b66a1a583afdd5974c7": {
      "model_module": "@jupyter-widgets/controls",
      "model_module_version": "1.5.0",
      "model_name": "DescriptionStyleModel",
      "state": {
       "_model_module": "@jupyter-widgets/controls",
       "_model_module_version": "1.5.0",
       "_model_name": "DescriptionStyleModel",
       "_view_count": null,
       "_view_module": "@jupyter-widgets/base",
       "_view_module_version": "1.2.0",
       "_view_name": "StyleView",
       "description_width": ""
      }
     },
     "7d9bd1d2f0f04d009b0bd99620b2deb7": {
      "model_module": "@jupyter-widgets/controls",
      "model_module_version": "1.5.0",
      "model_name": "DescriptionStyleModel",
      "state": {
       "_model_module": "@jupyter-widgets/controls",
       "_model_module_version": "1.5.0",
       "_model_name": "DescriptionStyleModel",
       "_view_count": null,
       "_view_module": "@jupyter-widgets/base",
       "_view_module_version": "1.2.0",
       "_view_name": "StyleView",
       "description_width": ""
      }
     },
     "884dbd2845a542f181f27cd51569c49e": {
      "model_module": "@jupyter-widgets/base",
      "model_module_version": "1.2.0",
      "model_name": "LayoutModel",
      "state": {
       "_model_module": "@jupyter-widgets/base",
       "_model_module_version": "1.2.0",
       "_model_name": "LayoutModel",
       "_view_count": null,
       "_view_module": "@jupyter-widgets/base",
       "_view_module_version": "1.2.0",
       "_view_name": "LayoutView",
       "align_content": null,
       "align_items": null,
       "align_self": null,
       "border": null,
       "bottom": null,
       "display": null,
       "flex": null,
       "flex_flow": null,
       "grid_area": null,
       "grid_auto_columns": null,
       "grid_auto_flow": null,
       "grid_auto_rows": null,
       "grid_column": null,
       "grid_gap": null,
       "grid_row": null,
       "grid_template_areas": null,
       "grid_template_columns": null,
       "grid_template_rows": null,
       "height": null,
       "justify_content": null,
       "justify_items": null,
       "left": null,
       "margin": null,
       "max_height": null,
       "max_width": null,
       "min_height": null,
       "min_width": null,
       "object_fit": null,
       "object_position": null,
       "order": null,
       "overflow": null,
       "overflow_x": null,
       "overflow_y": null,
       "padding": null,
       "right": null,
       "top": null,
       "visibility": null,
       "width": null
      }
     },
     "888a411cfbc8465eb0bade7b84dd5930": {
      "model_module": "@jupyter-widgets/controls",
      "model_module_version": "1.5.0",
      "model_name": "ProgressStyleModel",
      "state": {
       "_model_module": "@jupyter-widgets/controls",
       "_model_module_version": "1.5.0",
       "_model_name": "ProgressStyleModel",
       "_view_count": null,
       "_view_module": "@jupyter-widgets/base",
       "_view_module_version": "1.2.0",
       "_view_name": "StyleView",
       "bar_color": null,
       "description_width": ""
      }
     },
     "8bae4dcce71e4e52859b613b0d38e7b9": {
      "model_module": "@jupyter-widgets/controls",
      "model_module_version": "1.5.0",
      "model_name": "DescriptionStyleModel",
      "state": {
       "_model_module": "@jupyter-widgets/controls",
       "_model_module_version": "1.5.0",
       "_model_name": "DescriptionStyleModel",
       "_view_count": null,
       "_view_module": "@jupyter-widgets/base",
       "_view_module_version": "1.2.0",
       "_view_name": "StyleView",
       "description_width": ""
      }
     },
     "93b37df96b57400cb0d676261b24af6e": {
      "model_module": "@jupyter-widgets/controls",
      "model_module_version": "1.5.0",
      "model_name": "HTMLModel",
      "state": {
       "_dom_classes": [],
       "_model_module": "@jupyter-widgets/controls",
       "_model_module_version": "1.5.0",
       "_model_name": "HTMLModel",
       "_view_count": null,
       "_view_module": "@jupyter-widgets/controls",
       "_view_module_version": "1.5.0",
       "_view_name": "HTMLView",
       "description": "",
       "description_tooltip": null,
       "layout": "IPY_MODEL_3b7396444d8344b59f521ca1e22ad062",
       "placeholder": "​",
       "style": "IPY_MODEL_d377132d0a554b84a21846a4967bc2a2",
       "value": "<h4>Closed PRs for repo: <a href=\"https://github.com/ipython/ipykernel\">ipython/ipykernel</a></h4>\n<h5></h5>\n<ul>\n<li><a href=\"https://github.com/ipython/ipykernel/pull/516\">(#516)</a>: <em>Fix exception causes in zmqshell.py</em> by <strong><a href=\"https://github.com/cool-RR\">@cool-RR</a></strong> merged by <strong><a href=\"https://github.com/blink1073\">@blink1073</a></strong></li>\n<li><a href=\"https://github.com/ipython/ipykernel/pull/511\">(#511)</a>: <em>Update changelog for 5.3</em> by <strong><a href=\"https://github.com/blink1073\">@blink1073</a></strong> merged by <strong><a href=\"https://github.com/blink1073\">@blink1073</a></strong></li>\n<li><a href=\"https://github.com/ipython/ipykernel/pull/509\">(#509)</a>: <em>fix ipython display imports</em> by <strong><a href=\"https://github.com/astromancer\">@astromancer</a></strong> merged by <strong><a href=\"https://github.com/blink1073\">@blink1073</a></strong></li>\n<li><a href=\"https://github.com/ipython/ipykernel/pull/507\">(#507)</a>: <em>PR: Skip test_unc_paths if OS is not Windows</em> by <strong><a href=\"https://github.com/dalthviz\">@dalthviz</a></strong> merged by <strong><a href=\"https://github.com/blink1073\">@blink1073</a></strong></li>\n<li><a href=\"https://github.com/ipython/ipykernel/pull/498\">(#498)</a>: <em>Allow interrupting input() on Windows, as part of effort to make pdb interruptible</em> by <strong><a href=\"https://github.com/itamarst\">@itamarst</a></strong> merged by <strong><a href=\"https://github.com/blink1073\">@blink1073</a></strong></li>\n<li><a href=\"https://github.com/ipython/ipykernel/pull/490\">(#490)</a>: <em>Make pdb on Windows interruptible</em> by <strong><a href=\"https://github.com/itamarst\">@itamarst</a></strong> merged by <strong><a href=\"https://github.com/blink1073\">@blink1073</a></strong></li>\n<li><a href=\"https://github.com/ipython/ipykernel/pull/479\">(#479)</a>: <em>Trio loop</em> by <strong><a href=\"https://github.com/mehaase\">@mehaase</a></strong> merged by <strong><a href=\"https://github.com/blink1073\">@blink1073</a></strong></li>\n<li><a href=\"https://github.com/ipython/ipykernel/pull/478\">(#478)</a>: <em>PR: Flush from process even without newline</em> by <strong><a href=\"https://github.com/impact27\">@impact27</a></strong> merged by <strong><a href=\"https://github.com/blink1073\">@blink1073</a></strong></li>\n</ul>"
      }
     },
     "9767a190e0404adeb040b85fb6850311": {
      "model_module": "@jupyter-widgets/base",
      "model_module_version": "1.2.0",
      "model_name": "LayoutModel",
      "state": {
       "_model_module": "@jupyter-widgets/base",
       "_model_module_version": "1.2.0",
       "_model_name": "LayoutModel",
       "_view_count": null,
       "_view_module": "@jupyter-widgets/base",
       "_view_module_version": "1.2.0",
       "_view_name": "LayoutView",
       "align_content": null,
       "align_items": null,
       "align_self": null,
       "border": null,
       "bottom": null,
       "display": null,
       "flex": null,
       "flex_flow": null,
       "grid_area": null,
       "grid_auto_columns": null,
       "grid_auto_flow": null,
       "grid_auto_rows": null,
       "grid_column": null,
       "grid_gap": null,
       "grid_row": null,
       "grid_template_areas": null,
       "grid_template_columns": null,
       "grid_template_rows": null,
       "height": null,
       "justify_content": null,
       "justify_items": null,
       "left": null,
       "margin": null,
       "max_height": null,
       "max_width": null,
       "min_height": null,
       "min_width": null,
       "object_fit": null,
       "object_position": null,
       "order": null,
       "overflow": null,
       "overflow_x": null,
       "overflow_y": null,
       "padding": null,
       "right": null,
       "top": null,
       "visibility": null,
       "width": null
      }
     },
     "9e2acc6d12f746cb88b358eb9028e30f": {
      "model_module": "@jupyter-widgets/base",
      "model_module_version": "1.2.0",
      "model_name": "LayoutModel",
      "state": {
       "_model_module": "@jupyter-widgets/base",
       "_model_module_version": "1.2.0",
       "_model_name": "LayoutModel",
       "_view_count": null,
       "_view_module": "@jupyter-widgets/base",
       "_view_module_version": "1.2.0",
       "_view_name": "LayoutView",
       "align_content": null,
       "align_items": null,
       "align_self": null,
       "border": null,
       "bottom": null,
       "display": null,
       "flex": null,
       "flex_flow": null,
       "grid_area": null,
       "grid_auto_columns": null,
       "grid_auto_flow": null,
       "grid_auto_rows": null,
       "grid_column": null,
       "grid_gap": null,
       "grid_row": null,
       "grid_template_areas": null,
       "grid_template_columns": null,
       "grid_template_rows": null,
       "height": null,
       "justify_content": null,
       "justify_items": null,
       "left": null,
       "margin": null,
       "max_height": null,
       "max_width": null,
       "min_height": null,
       "min_width": null,
       "object_fit": null,
       "object_position": null,
       "order": null,
       "overflow": null,
       "overflow_x": null,
       "overflow_y": null,
       "padding": null,
       "right": null,
       "top": null,
       "visibility": null,
       "width": null
      }
     },
     "9f73ce2e62974d5ea843f27c821110ac": {
      "model_module": "@jupyter-widgets/base",
      "model_module_version": "1.2.0",
      "model_name": "LayoutModel",
      "state": {
       "_model_module": "@jupyter-widgets/base",
       "_model_module_version": "1.2.0",
       "_model_name": "LayoutModel",
       "_view_count": null,
       "_view_module": "@jupyter-widgets/base",
       "_view_module_version": "1.2.0",
       "_view_name": "LayoutView",
       "align_content": null,
       "align_items": null,
       "align_self": null,
       "border": null,
       "bottom": null,
       "display": null,
       "flex": null,
       "flex_flow": null,
       "grid_area": null,
       "grid_auto_columns": null,
       "grid_auto_flow": null,
       "grid_auto_rows": null,
       "grid_column": null,
       "grid_gap": null,
       "grid_row": null,
       "grid_template_areas": null,
       "grid_template_columns": null,
       "grid_template_rows": null,
       "height": null,
       "justify_content": null,
       "justify_items": null,
       "left": null,
       "margin": null,
       "max_height": null,
       "max_width": null,
       "min_height": null,
       "min_width": null,
       "object_fit": null,
       "object_position": null,
       "order": null,
       "overflow": null,
       "overflow_x": null,
       "overflow_y": null,
       "padding": null,
       "right": null,
       "top": null,
       "visibility": null,
       "width": null
      }
     },
     "a577a6a8547c4984b993493b15311262": {
      "model_module": "@jupyter-widgets/base",
      "model_module_version": "1.2.0",
      "model_name": "LayoutModel",
      "state": {
       "_model_module": "@jupyter-widgets/base",
       "_model_module_version": "1.2.0",
       "_model_name": "LayoutModel",
       "_view_count": null,
       "_view_module": "@jupyter-widgets/base",
       "_view_module_version": "1.2.0",
       "_view_name": "LayoutView",
       "align_content": null,
       "align_items": null,
       "align_self": null,
       "border": null,
       "bottom": null,
       "display": null,
       "flex": null,
       "flex_flow": null,
       "grid_area": null,
       "grid_auto_columns": null,
       "grid_auto_flow": null,
       "grid_auto_rows": null,
       "grid_column": null,
       "grid_gap": null,
       "grid_row": null,
       "grid_template_areas": null,
       "grid_template_columns": null,
       "grid_template_rows": null,
       "height": null,
       "justify_content": null,
       "justify_items": null,
       "left": null,
       "margin": null,
       "max_height": null,
       "max_width": null,
       "min_height": null,
       "min_width": null,
       "object_fit": null,
       "object_position": null,
       "order": null,
       "overflow": null,
       "overflow_x": null,
       "overflow_y": null,
       "padding": null,
       "right": null,
       "top": null,
       "visibility": null,
       "width": null
      }
     },
     "b525d4f6fd394d44be98003efcd96ad5": {
      "model_module": "@jupyter-widgets/base",
      "model_module_version": "1.2.0",
      "model_name": "LayoutModel",
      "state": {
       "_model_module": "@jupyter-widgets/base",
       "_model_module_version": "1.2.0",
       "_model_name": "LayoutModel",
       "_view_count": null,
       "_view_module": "@jupyter-widgets/base",
       "_view_module_version": "1.2.0",
       "_view_name": "LayoutView",
       "align_content": null,
       "align_items": null,
       "align_self": null,
       "border": null,
       "bottom": null,
       "display": null,
       "flex": null,
       "flex_flow": null,
       "grid_area": null,
       "grid_auto_columns": null,
       "grid_auto_flow": null,
       "grid_auto_rows": null,
       "grid_column": null,
       "grid_gap": null,
       "grid_row": null,
       "grid_template_areas": null,
       "grid_template_columns": null,
       "grid_template_rows": null,
       "height": null,
       "justify_content": null,
       "justify_items": null,
       "left": null,
       "margin": null,
       "max_height": null,
       "max_width": null,
       "min_height": null,
       "min_width": null,
       "object_fit": null,
       "object_position": null,
       "order": null,
       "overflow": null,
       "overflow_x": null,
       "overflow_y": null,
       "padding": null,
       "right": null,
       "top": null,
       "visibility": null,
       "width": null
      }
     },
     "b529401a03124f62b840bb79f3474ac0": {
      "model_module": "@jupyter-widgets/base",
      "model_module_version": "1.2.0",
      "model_name": "LayoutModel",
      "state": {
       "_model_module": "@jupyter-widgets/base",
       "_model_module_version": "1.2.0",
       "_model_name": "LayoutModel",
       "_view_count": null,
       "_view_module": "@jupyter-widgets/base",
       "_view_module_version": "1.2.0",
       "_view_name": "LayoutView",
       "align_content": null,
       "align_items": null,
       "align_self": null,
       "border": null,
       "bottom": null,
       "display": null,
       "flex": null,
       "flex_flow": null,
       "grid_area": null,
       "grid_auto_columns": null,
       "grid_auto_flow": null,
       "grid_auto_rows": null,
       "grid_column": null,
       "grid_gap": null,
       "grid_row": null,
       "grid_template_areas": null,
       "grid_template_columns": null,
       "grid_template_rows": null,
       "height": null,
       "justify_content": null,
       "justify_items": null,
       "left": null,
       "margin": null,
       "max_height": null,
       "max_width": null,
       "min_height": null,
       "min_width": null,
       "object_fit": null,
       "object_position": null,
       "order": null,
       "overflow": null,
       "overflow_x": null,
       "overflow_y": null,
       "padding": null,
       "right": null,
       "top": null,
       "visibility": null,
       "width": null
      }
     },
     "b73efbb08c324b8da84264a7914e5896": {
      "model_module": "@jupyter-widgets/controls",
      "model_module_version": "1.5.0",
      "model_name": "HTMLModel",
      "state": {
       "_dom_classes": [],
       "_model_module": "@jupyter-widgets/controls",
       "_model_module_version": "1.5.0",
       "_model_name": "HTMLModel",
       "_view_count": null,
       "_view_module": "@jupyter-widgets/controls",
       "_view_module_version": "1.5.0",
       "_view_name": "HTMLView",
       "description": "",
       "description_tooltip": null,
       "layout": "IPY_MODEL_bc755f0a9aab4dea8c1ad85acba56faf",
       "placeholder": "​",
       "style": "IPY_MODEL_6f96166a25b44308aff87db1a48b0b8a",
       "value": "<h5><a href=\"https://github.com/ipython/ipykernel\">ipython/ipykernel</a></h5>\n<ul>\n<li><a href=\"https://github.com/ipython/ipykernel/issues/513\">(#513)</a>: <em>handling implicit prompt request in run time like colab</em> by <strong><a href=\"https://github.com/rezaeir\">@rezaeir</a></strong></li>\n<li><a href=\"https://github.com/ipython/ipykernel/issues/515\">(#515)</a>: <em>New release?</em> by <strong><a href=\"https://github.com/itamarst\">@itamarst</a></strong></li>\n</ul>"
      }
     },
     "ba7a918f76f344a4845fa041c409a877": {
      "model_module": "@jupyter-widgets/base",
      "model_module_version": "1.2.0",
      "model_name": "LayoutModel",
      "state": {
       "_model_module": "@jupyter-widgets/base",
       "_model_module_version": "1.2.0",
       "_model_name": "LayoutModel",
       "_view_count": null,
       "_view_module": "@jupyter-widgets/base",
       "_view_module_version": "1.2.0",
       "_view_name": "LayoutView",
       "align_content": null,
       "align_items": null,
       "align_self": null,
       "border": null,
       "bottom": null,
       "display": null,
       "flex": null,
       "flex_flow": null,
       "grid_area": null,
       "grid_auto_columns": null,
       "grid_auto_flow": null,
       "grid_auto_rows": null,
       "grid_column": null,
       "grid_gap": null,
       "grid_row": null,
       "grid_template_areas": null,
       "grid_template_columns": null,
       "grid_template_rows": null,
       "height": null,
       "justify_content": null,
       "justify_items": null,
       "left": null,
       "margin": null,
       "max_height": null,
       "max_width": null,
       "min_height": null,
       "min_width": null,
       "object_fit": null,
       "object_position": null,
       "order": null,
       "overflow": null,
       "overflow_x": null,
       "overflow_y": null,
       "padding": null,
       "right": null,
       "top": null,
       "visibility": null,
       "width": null
      }
     },
     "bc755f0a9aab4dea8c1ad85acba56faf": {
      "model_module": "@jupyter-widgets/base",
      "model_module_version": "1.2.0",
      "model_name": "LayoutModel",
      "state": {
       "_model_module": "@jupyter-widgets/base",
       "_model_module_version": "1.2.0",
       "_model_name": "LayoutModel",
       "_view_count": null,
       "_view_module": "@jupyter-widgets/base",
       "_view_module_version": "1.2.0",
       "_view_name": "LayoutView",
       "align_content": null,
       "align_items": null,
       "align_self": null,
       "border": null,
       "bottom": null,
       "display": null,
       "flex": null,
       "flex_flow": null,
       "grid_area": null,
       "grid_auto_columns": null,
       "grid_auto_flow": null,
       "grid_auto_rows": null,
       "grid_column": null,
       "grid_gap": null,
       "grid_row": null,
       "grid_template_areas": null,
       "grid_template_columns": null,
       "grid_template_rows": null,
       "height": null,
       "justify_content": null,
       "justify_items": null,
       "left": null,
       "margin": null,
       "max_height": null,
       "max_width": null,
       "min_height": null,
       "min_width": null,
       "object_fit": null,
       "object_position": null,
       "order": null,
       "overflow": null,
       "overflow_x": null,
       "overflow_y": null,
       "padding": null,
       "right": null,
       "top": null,
       "visibility": null,
       "width": null
      }
     },
     "bcbe49c2dc2448af88882e1c215bee31": {
      "model_module": "@jupyter-widgets/controls",
      "model_module_version": "1.5.0",
      "model_name": "DescriptionStyleModel",
      "state": {
       "_model_module": "@jupyter-widgets/controls",
       "_model_module_version": "1.5.0",
       "_model_name": "DescriptionStyleModel",
       "_view_count": null,
       "_view_module": "@jupyter-widgets/base",
       "_view_module_version": "1.2.0",
       "_view_name": "StyleView",
       "description_width": ""
      }
     },
     "be5b6e21facd4485b98e7915ad239776": {
      "model_module": "@jupyter-widgets/base",
      "model_module_version": "1.2.0",
      "model_name": "LayoutModel",
      "state": {
       "_model_module": "@jupyter-widgets/base",
       "_model_module_version": "1.2.0",
       "_model_name": "LayoutModel",
       "_view_count": null,
       "_view_module": "@jupyter-widgets/base",
       "_view_module_version": "1.2.0",
       "_view_name": "LayoutView",
       "align_content": null,
       "align_items": null,
       "align_self": null,
       "border": null,
       "bottom": null,
       "display": null,
       "flex": null,
       "flex_flow": null,
       "grid_area": null,
       "grid_auto_columns": null,
       "grid_auto_flow": null,
       "grid_auto_rows": null,
       "grid_column": null,
       "grid_gap": null,
       "grid_row": null,
       "grid_template_areas": null,
       "grid_template_columns": null,
       "grid_template_rows": null,
       "height": null,
       "justify_content": null,
       "justify_items": null,
       "left": null,
       "margin": null,
       "max_height": null,
       "max_width": null,
       "min_height": null,
       "min_width": null,
       "object_fit": null,
       "object_position": null,
       "order": null,
       "overflow": null,
       "overflow_x": null,
       "overflow_y": null,
       "padding": null,
       "right": null,
       "top": null,
       "visibility": null,
       "width": null
      }
     },
     "bfc01a3a4bce4d218bf7cc25d85662a9": {
      "model_module": "@jupyter-widgets/controls",
      "model_module_version": "1.5.0",
      "model_name": "ProgressStyleModel",
      "state": {
       "_model_module": "@jupyter-widgets/controls",
       "_model_module_version": "1.5.0",
       "_model_name": "ProgressStyleModel",
       "_view_count": null,
       "_view_module": "@jupyter-widgets/base",
       "_view_module_version": "1.2.0",
       "_view_name": "StyleView",
       "bar_color": null,
       "description_width": ""
      }
     },
     "c71ed81d6c7c462fbdec7280f6ba8859": {
      "model_module": "@jupyter-widgets/base",
      "model_module_version": "1.2.0",
      "model_name": "LayoutModel",
      "state": {
       "_model_module": "@jupyter-widgets/base",
       "_model_module_version": "1.2.0",
       "_model_name": "LayoutModel",
       "_view_count": null,
       "_view_module": "@jupyter-widgets/base",
       "_view_module_version": "1.2.0",
       "_view_name": "LayoutView",
       "align_content": null,
       "align_items": null,
       "align_self": null,
       "border": null,
       "bottom": null,
       "display": null,
       "flex": null,
       "flex_flow": null,
       "grid_area": null,
       "grid_auto_columns": null,
       "grid_auto_flow": null,
       "grid_auto_rows": null,
       "grid_column": null,
       "grid_gap": null,
       "grid_row": null,
       "grid_template_areas": null,
       "grid_template_columns": null,
       "grid_template_rows": null,
       "height": null,
       "justify_content": null,
       "justify_items": null,
       "left": null,
       "margin": null,
       "max_height": null,
       "max_width": null,
       "min_height": null,
       "min_width": null,
       "object_fit": null,
       "object_position": null,
       "order": null,
       "overflow": null,
       "overflow_x": null,
       "overflow_y": null,
       "padding": null,
       "right": null,
       "top": null,
       "visibility": null,
       "width": null
      }
     },
     "cff9f3e3d90f4ed18d713ad12005357b": {
      "model_module": "@jupyter-widgets/base",
      "model_module_version": "1.2.0",
      "model_name": "LayoutModel",
      "state": {
       "_model_module": "@jupyter-widgets/base",
       "_model_module_version": "1.2.0",
       "_model_name": "LayoutModel",
       "_view_count": null,
       "_view_module": "@jupyter-widgets/base",
       "_view_module_version": "1.2.0",
       "_view_name": "LayoutView",
       "align_content": null,
       "align_items": null,
       "align_self": null,
       "border": null,
       "bottom": null,
       "display": null,
       "flex": null,
       "flex_flow": null,
       "grid_area": null,
       "grid_auto_columns": null,
       "grid_auto_flow": null,
       "grid_auto_rows": null,
       "grid_column": null,
       "grid_gap": null,
       "grid_row": null,
       "grid_template_areas": null,
       "grid_template_columns": null,
       "grid_template_rows": null,
       "height": null,
       "justify_content": null,
       "justify_items": null,
       "left": null,
       "margin": null,
       "max_height": null,
       "max_width": null,
       "min_height": null,
       "min_width": null,
       "object_fit": null,
       "object_position": null,
       "order": null,
       "overflow": null,
       "overflow_x": null,
       "overflow_y": null,
       "padding": null,
       "right": null,
       "top": null,
       "visibility": null,
       "width": null
      }
     },
     "d24897f046b6418eb98b528e497644db": {
      "model_module": "@jupyter-widgets/controls",
      "model_module_version": "1.5.0",
      "model_name": "DescriptionStyleModel",
      "state": {
       "_model_module": "@jupyter-widgets/controls",
       "_model_module_version": "1.5.0",
       "_model_name": "DescriptionStyleModel",
       "_view_count": null,
       "_view_module": "@jupyter-widgets/base",
       "_view_module_version": "1.2.0",
       "_view_name": "StyleView",
       "description_width": ""
      }
     },
     "d377132d0a554b84a21846a4967bc2a2": {
      "model_module": "@jupyter-widgets/controls",
      "model_module_version": "1.5.0",
      "model_name": "DescriptionStyleModel",
      "state": {
       "_model_module": "@jupyter-widgets/controls",
       "_model_module_version": "1.5.0",
       "_model_name": "DescriptionStyleModel",
       "_view_count": null,
       "_view_module": "@jupyter-widgets/base",
       "_view_module_version": "1.2.0",
       "_view_name": "StyleView",
       "description_width": ""
      }
     },
     "d3cbe86a82d34befa619a1765fcf8111": {
      "model_module": "@jupyter-widgets/controls",
      "model_module_version": "1.5.0",
      "model_name": "DescriptionStyleModel",
      "state": {
       "_model_module": "@jupyter-widgets/controls",
       "_model_module_version": "1.5.0",
       "_model_name": "DescriptionStyleModel",
       "_view_count": null,
       "_view_module": "@jupyter-widgets/base",
       "_view_module_version": "1.2.0",
       "_view_name": "StyleView",
       "description_width": ""
      }
     },
     "d7b24a66370849cea492273d18e95753": {
      "model_module": "@jupyter-widgets/base",
      "model_module_version": "1.2.0",
      "model_name": "LayoutModel",
      "state": {
       "_model_module": "@jupyter-widgets/base",
       "_model_module_version": "1.2.0",
       "_model_name": "LayoutModel",
       "_view_count": null,
       "_view_module": "@jupyter-widgets/base",
       "_view_module_version": "1.2.0",
       "_view_name": "LayoutView",
       "align_content": null,
       "align_items": null,
       "align_self": null,
       "border": null,
       "bottom": null,
       "display": null,
       "flex": null,
       "flex_flow": null,
       "grid_area": null,
       "grid_auto_columns": null,
       "grid_auto_flow": null,
       "grid_auto_rows": null,
       "grid_column": null,
       "grid_gap": null,
       "grid_row": null,
       "grid_template_areas": null,
       "grid_template_columns": null,
       "grid_template_rows": null,
       "height": null,
       "justify_content": null,
       "justify_items": null,
       "left": null,
       "margin": null,
       "max_height": null,
       "max_width": null,
       "min_height": null,
       "min_width": null,
       "object_fit": null,
       "object_position": null,
       "order": null,
       "overflow": null,
       "overflow_x": null,
       "overflow_y": null,
       "padding": null,
       "right": null,
       "top": null,
       "visibility": null,
       "width": null
      }
     },
     "da221d707c984c57be38e17520bd5229": {
      "model_module": "@jupyter-widgets/base",
      "model_module_version": "1.2.0",
      "model_name": "LayoutModel",
      "state": {
       "_model_module": "@jupyter-widgets/base",
       "_model_module_version": "1.2.0",
       "_model_name": "LayoutModel",
       "_view_count": null,
       "_view_module": "@jupyter-widgets/base",
       "_view_module_version": "1.2.0",
       "_view_name": "LayoutView",
       "align_content": null,
       "align_items": null,
       "align_self": null,
       "border": null,
       "bottom": null,
       "display": null,
       "flex": null,
       "flex_flow": null,
       "grid_area": null,
       "grid_auto_columns": null,
       "grid_auto_flow": null,
       "grid_auto_rows": null,
       "grid_column": null,
       "grid_gap": null,
       "grid_row": null,
       "grid_template_areas": null,
       "grid_template_columns": null,
       "grid_template_rows": null,
       "height": null,
       "justify_content": null,
       "justify_items": null,
       "left": null,
       "margin": null,
       "max_height": null,
       "max_width": null,
       "min_height": null,
       "min_width": null,
       "object_fit": null,
       "object_position": null,
       "order": null,
       "overflow": null,
       "overflow_x": null,
       "overflow_y": null,
       "padding": null,
       "right": null,
       "top": null,
       "visibility": null,
       "width": null
      }
     },
     "e74a6da2870b4378924454d2adaeb701": {
      "model_module": "@jupyter-widgets/controls",
      "model_module_version": "1.5.0",
      "model_name": "HTMLModel",
      "state": {
       "_dom_classes": [],
       "_model_module": "@jupyter-widgets/controls",
       "_model_module_version": "1.5.0",
       "_model_name": "HTMLModel",
       "_view_count": null,
       "_view_module": "@jupyter-widgets/controls",
       "_view_module_version": "1.5.0",
       "_view_name": "HTMLView",
       "description": "",
       "description_tooltip": null,
       "layout": "IPY_MODEL_da221d707c984c57be38e17520bd5229",
       "placeholder": "​",
       "style": "IPY_MODEL_087c7498eab54c0b90e37127294891bb",
       "value": "<h5><a href=\"https://github.com/ipython/ipykernel\">ipython/ipykernel</a></h5>\n<ul>\n<li><a href=\"https://github.com/ipython/ipykernel/issues/513\">(#513)</a>: <em>handling implicit prompt request in run time like colab</em> by <strong><a href=\"https://github.com/rezaeir\">@rezaeir</a></strong></li>\n<li><a href=\"https://github.com/ipython/ipykernel/issues/515\">(#515)</a>: <em>New release?</em> by <strong><a href=\"https://github.com/itamarst\">@itamarst</a></strong></li>\n</ul>"
      }
     },
     "efaed4a4c0a0422f9968580b77708ac7": {
      "model_module": "@jupyter-widgets/controls",
      "model_module_version": "1.5.0",
      "model_name": "HTMLModel",
      "state": {
       "_dom_classes": [],
       "_model_module": "@jupyter-widgets/controls",
       "_model_module_version": "1.5.0",
       "_model_name": "HTMLModel",
       "_view_count": null,
       "_view_module": "@jupyter-widgets/controls",
       "_view_module_version": "1.5.0",
       "_view_name": "HTMLView",
       "description": "",
       "description_tooltip": null,
       "layout": "IPY_MODEL_884dbd2845a542f181f27cd51569c49e",
       "placeholder": "​",
       "style": "IPY_MODEL_bcbe49c2dc2448af88882e1c215bee31",
       "value": "<h4>Closed PRs for repo: <a href=\"https://github.com/ipython/ipyparallel\">ipython/ipyparallel</a></h4>\n<h5></h5>\n<ul>\n<li><a href=\"https://github.com/ipython/ipyparallel/pull/410\">(#410)</a>: <em>Merge pull request #410 from minrk/630</em> by <strong><a href=\"https://github.com/minrk\">@minrk</a></strong> merged by <strong><a href=\"https://github.com/minrk\">@minrk</a></strong></li>\n<li><a href=\"https://github.com/ipython/ipyparallel/pull/409\">(#409)</a>: <em>Merge pull request #409 from minrk/passthrough-joblib</em> by <strong><a href=\"https://github.com/minrk\">@minrk</a></strong> merged by <strong><a href=\"https://github.com/minrk\">@minrk</a></strong></li>\n<li><a href=\"https://github.com/ipython/ipyparallel/pull/407\">(#407)</a>: <em>Merge pull request #407 from eaton-lab/master</em> by <strong><a href=\"https://github.com/eaton-lab\">@eaton-lab</a></strong> merged by <strong><a href=\"https://github.com/minrk\">@minrk</a></strong></li>\n<li><a href=\"https://github.com/ipython/ipyparallel/pull/406\">(#406)</a>: <em>Modified  not-working attribute</em> by <strong><a href=\"https://github.com/lim4349\">@lim4349</a></strong> merged by <strong><a href=\"https://github.com/minrk\">@minrk</a></strong></li>\n<li><a href=\"https://github.com/ipython/ipyparallel/pull/405\">(#405)</a>: <em>Merge pull request #405 from ellert/clienttest-py38</em> by <strong><a href=\"https://github.com/ellert\">@ellert</a></strong> merged by <strong><a href=\"https://github.com/minrk\">@minrk</a></strong></li>\n<li><a href=\"https://github.com/ipython/ipyparallel/pull/400\">(#400)</a>: <em>Merge pull request #400 from ellert/print-helpful-errors</em> by <strong><a href=\"https://github.com/ellert\">@ellert</a></strong> merged by <strong><a href=\"https://github.com/minrk\">@minrk</a></strong></li>\n<li><a href=\"https://github.com/ipython/ipyparallel/pull/397\">(#397)</a>: <em>Merge pull request #397 from eXaz/master</em> by <strong><a href=\"https://github.com/eXaz\">@eXaz</a></strong> merged by <strong><a href=\"https://github.com/minrk\">@minrk</a></strong></li>\n<li><a href=\"https://github.com/ipython/ipyparallel/pull/388\">(#388)</a>: <em>Merge pull request #388 from kinow/patch-1</em> by <strong><a href=\"https://github.com/kinow\">@kinow</a></strong> merged by <strong><a href=\"https://github.com/minrk\">@minrk</a></strong></li>\n</ul>"
      }
     },
     "f164babeb1aa4d91a531f2185acc9009": {
      "model_module": "@jupyter-widgets/controls",
      "model_module_version": "1.5.0",
      "model_name": "TabModel",
      "state": {
       "_dom_classes": [],
       "_model_module": "@jupyter-widgets/controls",
       "_model_module_version": "1.5.0",
       "_model_name": "TabModel",
       "_titles": {
        "0": "ipykernel",
        "1": "ipyparallel",
        "2": "ipython",
        "3": "ipython-website",
        "4": "traitlets"
       },
       "_view_count": null,
       "_view_module": "@jupyter-widgets/controls",
       "_view_module_version": "1.5.0",
       "_view_name": "TabView",
       "box_style": "",
       "children": [
        "IPY_MODEL_e74a6da2870b4378924454d2adaeb701",
        "IPY_MODEL_59cbe6d3720e4f9e9fea6b2470e0a97d",
        "IPY_MODEL_3e1d36d980e7490f865eb86d1dd8895d",
        "IPY_MODEL_3de1dd497d554b9ab8ca8c613158d42a",
        "IPY_MODEL_5b6eb4f04914479797a3b245e3f66b40"
       ],
       "layout": "IPY_MODEL_9767a190e0404adeb040b85fb6850311",
       "selected_index": 0
      }
     },
     "fd239d550bd645b0b78dfd15be5fbf5a": {
      "model_module": "@jupyter-widgets/controls",
      "model_module_version": "1.5.0",
      "model_name": "DescriptionStyleModel",
      "state": {
       "_model_module": "@jupyter-widgets/controls",
       "_model_module_version": "1.5.0",
       "_model_name": "DescriptionStyleModel",
       "_view_count": null,
       "_view_module": "@jupyter-widgets/base",
       "_view_module_version": "1.2.0",
       "_view_name": "StyleView",
       "description_width": ""
      }
     }
    },
    "version_major": 2,
    "version_minor": 0
   }
  }
 },
 "nbformat": 4,
 "nbformat_minor": 4
}