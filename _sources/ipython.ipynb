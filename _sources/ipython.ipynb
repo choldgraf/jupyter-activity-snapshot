{
 "cells": [
  {
   "cell_type": "markdown",
   "id": "e81398f2",
   "metadata": {
    "papermill": {
     "duration": 0.040277,
     "end_time": "2021-11-07T01:34:10.968553",
     "exception": false,
     "start_time": "2021-11-07T01:34:10.928276",
     "status": "completed"
    },
    "tags": []
   },
   "source": [
    "# {glue:text}`ipython_github_org`\n",
    "\n",
    "**Activity from {glue:}`ipython_start` to {glue:}`ipython_stop`**"
   ]
  },
  {
   "cell_type": "code",
   "execution_count": 1,
   "id": "0f5f19dc",
   "metadata": {
    "execution": {
     "iopub.execute_input": "2021-11-07T01:34:11.056595Z",
     "iopub.status.busy": "2021-11-07T01:34:11.055959Z",
     "iopub.status.idle": "2021-11-07T01:34:12.571750Z",
     "shell.execute_reply": "2021-11-07T01:34:12.572287Z"
    },
    "papermill": {
     "duration": 1.561228,
     "end_time": "2021-11-07T01:34:12.572713",
     "exception": false,
     "start_time": "2021-11-07T01:34:11.011485",
     "status": "completed"
    },
    "tags": [
     "remove_cell"
    ]
   },
   "outputs": [],
   "source": [
    "from datetime import date\n",
    "from dateutil.relativedelta import relativedelta\n",
    "from myst_nb import glue\n",
    "import seaborn as sns\n",
    "import pandas as pd\n",
    "import numpy as np\n",
    "import altair as alt\n",
    "from markdown import markdown\n",
    "from IPython.display import Markdown\n",
    "from ipywidgets.widgets import HTML, Tab\n",
    "from ipywidgets import widgets\n",
    "from datetime import timedelta\n",
    "from matplotlib import pyplot as plt\n",
    "import os.path as op\n",
    "\n",
    "from warnings import simplefilter\n",
    "simplefilter('ignore')"
   ]
  },
  {
   "cell_type": "code",
   "execution_count": 2,
   "id": "8ce1cca7",
   "metadata": {
    "execution": {
     "iopub.execute_input": "2021-11-07T01:34:12.655148Z",
     "iopub.status.busy": "2021-11-07T01:34:12.654500Z",
     "iopub.status.idle": "2021-11-07T01:34:12.657583Z",
     "shell.execute_reply": "2021-11-07T01:34:12.658077Z"
    },
    "papermill": {
     "duration": 0.04862,
     "end_time": "2021-11-07T01:34:12.658240",
     "exception": false,
     "start_time": "2021-11-07T01:34:12.609620",
     "status": "completed"
    },
    "tags": [
     "remove_cell"
    ]
   },
   "outputs": [],
   "source": [
    "# Altair config\n",
    "def author_url(author):\n",
    "    return f\"https://github.com/{author}\"\n",
    "\n",
    "def alt_theme():\n",
    "    return {\n",
    "        'config': {\n",
    "            'axisLeft': {\n",
    "                'labelFontSize': 15,\n",
    "            },\n",
    "            'axisBottom': {\n",
    "                'labelFontSize': 15,\n",
    "            },\n",
    "        }\n",
    "    }\n",
    "\n",
    "alt.themes.register('my_theme', alt_theme)\n",
    "alt.themes.enable(\"my_theme\")\n",
    "\n",
    "\n",
    "# Define colors we'll use for GitHub membership\n",
    "author_types = ['MEMBER', 'CONTRIBUTOR', 'COLLABORATOR', \"NONE\"]\n",
    "\n",
    "author_palette = np.array(sns.palettes.blend_palette([\"lightgrey\", \"lightgreen\", \"darkgreen\"], 4)) * 256\n",
    "author_colors = [\"rgb({}, {}, {})\".format(*color) for color in author_palette]\n",
    "author_color_dict = {key: val for key, val in zip(author_types, author_palette)}"
   ]
  },
  {
   "cell_type": "code",
   "execution_count": 3,
   "id": "8975cc97",
   "metadata": {
    "execution": {
     "iopub.execute_input": "2021-11-07T01:34:12.737105Z",
     "iopub.status.busy": "2021-11-07T01:34:12.736403Z",
     "iopub.status.idle": "2021-11-07T01:34:12.738482Z",
     "shell.execute_reply": "2021-11-07T01:34:12.738999Z"
    },
    "papermill": {
     "duration": 0.044244,
     "end_time": "2021-11-07T01:34:12.739161",
     "exception": false,
     "start_time": "2021-11-07T01:34:12.694917",
     "status": "completed"
    },
    "tags": [
     "parameters",
     "hide_input",
     "remove_cell"
    ]
   },
   "outputs": [],
   "source": [
    "github_org = \"jupyterhub\"\n",
    "top_n_repos = 15\n",
    "n_days = 10"
   ]
  },
  {
   "cell_type": "code",
   "execution_count": 4,
   "id": "37aec990",
   "metadata": {
    "execution": {
     "iopub.execute_input": "2021-11-07T01:34:12.823492Z",
     "iopub.status.busy": "2021-11-07T01:34:12.822855Z",
     "iopub.status.idle": "2021-11-07T01:34:12.824790Z",
     "shell.execute_reply": "2021-11-07T01:34:12.825320Z"
    },
    "papermill": {
     "duration": 0.044322,
     "end_time": "2021-11-07T01:34:12.825488",
     "exception": false,
     "start_time": "2021-11-07T01:34:12.781166",
     "status": "completed"
    },
    "tags": [
     "injected-parameters",
     "remove-cell"
    ]
   },
   "outputs": [],
   "source": [
    "# Parameters\n",
    "github_org = \"ipython\"\n",
    "n_days = 90\n"
   ]
  },
  {
   "cell_type": "code",
   "execution_count": 5,
   "id": "4b0e9756",
   "metadata": {
    "execution": {
     "iopub.execute_input": "2021-11-07T01:34:12.907596Z",
     "iopub.status.busy": "2021-11-07T01:34:12.906915Z",
     "iopub.status.idle": "2021-11-07T01:34:12.913066Z",
     "shell.execute_reply": "2021-11-07T01:34:12.913747Z"
    },
    "papermill": {
     "duration": 0.05249,
     "end_time": "2021-11-07T01:34:12.913943",
     "exception": false,
     "start_time": "2021-11-07T01:34:12.861453",
     "status": "completed"
    },
    "tags": [
     "remove_cell"
    ]
   },
   "outputs": [
    {
     "data": {
      "application/papermill.record/text/plain": "'ipython'"
     },
     "metadata": {
      "scrapbook": {
       "mime_prefix": "application/papermill.record/",
       "name": "ipython_github_org"
      }
     },
     "output_type": "display_data"
    },
    {
     "data": {
      "application/papermill.record/text/plain": "'2021-08-09'"
     },
     "metadata": {
      "scrapbook": {
       "mime_prefix": "application/papermill.record/",
       "name": "ipython_start"
      }
     },
     "output_type": "display_data"
    },
    {
     "data": {
      "application/papermill.record/text/plain": "'2021-11-07'"
     },
     "metadata": {
      "scrapbook": {
       "mime_prefix": "application/papermill.record/",
       "name": "ipython_stop"
      }
     },
     "output_type": "display_data"
    }
   ],
   "source": [
    "############################################################\n",
    "# Variables\n",
    "stop = date.today()\n",
    "start = date.today() - relativedelta(days=n_days)\n",
    "\n",
    "# Strings for use in queries\n",
    "start_date = f\"{start:%Y-%m-%d}\"\n",
    "stop_date = f\"{stop:%Y-%m-%d}\"\n",
    "\n",
    "# Glue variables for use in markdown\n",
    "glue(f\"{github_org}_github_org\", github_org, display=False)\n",
    "glue(f\"{github_org}_start\", start_date, display=False)\n",
    "glue(f\"{github_org}_stop\", stop_date, display=False)"
   ]
  },
  {
   "cell_type": "markdown",
   "id": "27320073",
   "metadata": {
    "papermill": {
     "duration": 0.038076,
     "end_time": "2021-11-07T01:34:12.990367",
     "exception": false,
     "start_time": "2021-11-07T01:34:12.952291",
     "status": "completed"
    },
    "tags": []
   },
   "source": [
    "## Load data\n",
    "\n",
    "Load and clean up the data"
   ]
  },
  {
   "cell_type": "code",
   "execution_count": 6,
   "id": "505ac388",
   "metadata": {
    "execution": {
     "iopub.execute_input": "2021-11-07T01:34:13.068130Z",
     "iopub.status.busy": "2021-11-07T01:34:13.067499Z",
     "iopub.status.idle": "2021-11-07T01:34:13.200884Z",
     "shell.execute_reply": "2021-11-07T01:34:13.200315Z"
    },
    "papermill": {
     "duration": 0.172942,
     "end_time": "2021-11-07T01:34:13.201052",
     "exception": false,
     "start_time": "2021-11-07T01:34:13.028110",
     "status": "completed"
    },
    "tags": []
   },
   "outputs": [],
   "source": [
    "from pathlib import Path\n",
    "path_data = Path(\"../data\")\n",
    "comments = pd.read_csv(path_data.joinpath('comments.csv'), index_col=None).drop_duplicates()\n",
    "issues = pd.read_csv(path_data.joinpath('issues.csv'), index_col=None).drop_duplicates()\n",
    "prs = pd.read_csv(path_data.joinpath('prs.csv'), index_col=None).drop_duplicates()\n",
    "\n",
    "for idata in [comments, issues, prs]:\n",
    "    idata.query(\"org == @github_org\", inplace=True)"
   ]
  },
  {
   "cell_type": "code",
   "execution_count": 7,
   "id": "6e25bbd0",
   "metadata": {
    "execution": {
     "iopub.execute_input": "2021-11-07T01:34:13.283904Z",
     "iopub.status.busy": "2021-11-07T01:34:13.283306Z",
     "iopub.status.idle": "2021-11-07T01:34:13.287958Z",
     "shell.execute_reply": "2021-11-07T01:34:13.288569Z"
    },
    "papermill": {
     "duration": 0.047446,
     "end_time": "2021-11-07T01:34:13.288748",
     "exception": false,
     "start_time": "2021-11-07T01:34:13.241302",
     "status": "completed"
    },
    "tags": []
   },
   "outputs": [],
   "source": [
    "# What are the top N repos, we will only plot these in the full data plots\n",
    "top_commented_repos = comments.groupby(\"repo\").count().sort_values(\"createdAt\", ascending=False)['createdAt']\n",
    "use_repos = top_commented_repos.head(top_n_repos).index.tolist()"
   ]
  },
  {
   "cell_type": "markdown",
   "id": "a52edca4",
   "metadata": {
    "papermill": {
     "duration": 0.036122,
     "end_time": "2021-11-07T01:34:13.364002",
     "exception": false,
     "start_time": "2021-11-07T01:34:13.327880",
     "status": "completed"
    },
    "tags": [],
    "toc-hr-collapsed": false
   },
   "source": [
    "## Merged Pull requests\n",
    "\n",
    "Here's an analysis of **merged pull requests** across each of the repositories in the Jupyter\n",
    "ecosystem."
   ]
  },
  {
   "cell_type": "code",
   "execution_count": 8,
   "id": "ad231df6",
   "metadata": {
    "execution": {
     "iopub.execute_input": "2021-11-07T01:34:13.449949Z",
     "iopub.status.busy": "2021-11-07T01:34:13.449354Z",
     "iopub.status.idle": "2021-11-07T01:34:13.452461Z",
     "shell.execute_reply": "2021-11-07T01:34:13.453070Z"
    },
    "papermill": {
     "duration": 0.05034,
     "end_time": "2021-11-07T01:34:13.453234",
     "exception": false,
     "start_time": "2021-11-07T01:34:13.402894",
     "status": "completed"
    },
    "tags": [
     "remove_cell"
    ]
   },
   "outputs": [],
   "source": [
    "merged = prs.query('state == \"MERGED\" and closedAt > @start_date and closedAt < @stop_date')"
   ]
  },
  {
   "cell_type": "code",
   "execution_count": 9,
   "id": "7c1df5f9",
   "metadata": {
    "execution": {
     "iopub.execute_input": "2021-11-07T01:34:13.531415Z",
     "iopub.status.busy": "2021-11-07T01:34:13.530818Z",
     "iopub.status.idle": "2021-11-07T01:34:13.564137Z",
     "shell.execute_reply": "2021-11-07T01:34:13.563623Z"
    },
    "papermill": {
     "duration": 0.074179,
     "end_time": "2021-11-07T01:34:13.564280",
     "exception": false,
     "start_time": "2021-11-07T01:34:13.490101",
     "status": "completed"
    },
    "tags": [
     "hide_input"
    ]
   },
   "outputs": [
    {
     "data": {
      "text/html": [
       "\n",
       "<div id=\"altair-viz-af9e8cb63e0f4b238a1b8bee502aef1d\"></div>\n",
       "<script type=\"text/javascript\">\n",
       "  (function(spec, embedOpt){\n",
       "    let outputDiv = document.currentScript.previousElementSibling;\n",
       "    if (outputDiv.id !== \"altair-viz-af9e8cb63e0f4b238a1b8bee502aef1d\") {\n",
       "      outputDiv = document.getElementById(\"altair-viz-af9e8cb63e0f4b238a1b8bee502aef1d\");\n",
       "    }\n",
       "    const paths = {\n",
       "      \"vega\": \"https://cdn.jsdelivr.net/npm//vega@5?noext\",\n",
       "      \"vega-lib\": \"https://cdn.jsdelivr.net/npm//vega-lib?noext\",\n",
       "      \"vega-lite\": \"https://cdn.jsdelivr.net/npm//vega-lite@4.8.1?noext\",\n",
       "      \"vega-embed\": \"https://cdn.jsdelivr.net/npm//vega-embed@6?noext\",\n",
       "    };\n",
       "\n",
       "    function loadScript(lib) {\n",
       "      return new Promise(function(resolve, reject) {\n",
       "        var s = document.createElement('script');\n",
       "        s.src = paths[lib];\n",
       "        s.async = true;\n",
       "        s.onload = () => resolve(paths[lib]);\n",
       "        s.onerror = () => reject(`Error loading script: ${paths[lib]}`);\n",
       "        document.getElementsByTagName(\"head\")[0].appendChild(s);\n",
       "      });\n",
       "    }\n",
       "\n",
       "    function showError(err) {\n",
       "      outputDiv.innerHTML = `<div class=\"error\" style=\"color:red;\">${err}</div>`;\n",
       "      throw err;\n",
       "    }\n",
       "\n",
       "    function displayChart(vegaEmbed) {\n",
       "      vegaEmbed(outputDiv, spec, embedOpt)\n",
       "        .catch(err => showError(`Javascript Error: ${err.message}<br>This usually means there's a typo in your chart specification. See the javascript console for the full traceback.`));\n",
       "    }\n",
       "\n",
       "    if(typeof define === \"function\" && define.amd) {\n",
       "      requirejs.config({paths});\n",
       "      require([\"vega-embed\"], displayChart, err => showError(`Error loading script: ${err.message}`));\n",
       "    } else if (typeof vegaEmbed === \"function\") {\n",
       "      displayChart(vegaEmbed);\n",
       "    } else {\n",
       "      loadScript(\"vega\")\n",
       "        .then(() => loadScript(\"vega-lite\"))\n",
       "        .then(() => loadScript(\"vega-embed\"))\n",
       "        .catch(showError)\n",
       "        .then(() => displayChart(vegaEmbed));\n",
       "    }\n",
       "  })({\"config\": {\"axisLeft\": {\"labelFontSize\": 15}, \"axisBottom\": {\"labelFontSize\": 15}}, \"data\": {\"name\": \"data-0f8c8cac3fa7eee76412e701fdf1fda0\"}, \"mark\": \"bar\", \"encoding\": {\"color\": {\"type\": \"nominal\", \"field\": \"org\"}, \"x\": {\"type\": \"nominal\", \"field\": \"repo\", \"sort\": [\"ipython\", \"ipyparallel\", \"ipykernel\", \"traitlets\", \"ipython-in-depth\"]}, \"y\": {\"type\": \"quantitative\", \"field\": \"author\"}}, \"title\": \"Merged PRs in the last 90 days\", \"$schema\": \"https://vega.github.io/schema/vega-lite/v4.8.1.json\", \"datasets\": {\"data-0f8c8cac3fa7eee76412e701fdf1fda0\": [{\"org\": \"ipython\", \"repo\": \"ipython\", \"author\": 62}, {\"org\": \"ipython\", \"repo\": \"ipyparallel\", \"author\": 56}, {\"org\": \"ipython\", \"repo\": \"ipykernel\", \"author\": 34}, {\"org\": \"ipython\", \"repo\": \"traitlets\", \"author\": 9}, {\"org\": \"ipython\", \"repo\": \"ipython-in-depth\", \"author\": 1}]}}, {\"mode\": \"vega-lite\"});\n",
       "</script>"
      ],
      "text/plain": [
       "alt.Chart(...)"
      ]
     },
     "execution_count": 9,
     "metadata": {},
     "output_type": "execute_result"
    }
   ],
   "source": [
    "prs_by_repo = merged.groupby(['org', 'repo']).count()['author'].reset_index().sort_values(['org', 'author'], ascending=False)\n",
    "alt.Chart(data=prs_by_repo, title=f\"Merged PRs in the last {n_days} days\").mark_bar().encode(\n",
    "    x=alt.X('repo', sort=prs_by_repo['repo'].values.tolist()),\n",
    "    y='author',\n",
    "    color='org'\n",
    ")"
   ]
  },
  {
   "cell_type": "markdown",
   "id": "91423b25",
   "metadata": {
    "papermill": {
     "duration": 0.038043,
     "end_time": "2021-11-07T01:34:13.640884",
     "exception": false,
     "start_time": "2021-11-07T01:34:13.602841",
     "status": "completed"
    },
    "tags": []
   },
   "source": [
    "### Authoring and merging stats by repository\n",
    "\n",
    "Let's see who has been doing most of the PR authoring and merging. The PR author is generally the\n",
    "person that implemented a change in the repository (code, documentation, etc). The PR merger is\n",
    "the person that \"pressed the green button\" and got the change into the main codebase."
   ]
  },
  {
   "cell_type": "code",
   "execution_count": 10,
   "id": "9112a8cd",
   "metadata": {
    "execution": {
     "iopub.execute_input": "2021-11-07T01:34:13.719911Z",
     "iopub.status.busy": "2021-11-07T01:34:13.719303Z",
     "iopub.status.idle": "2021-11-07T01:34:13.735631Z",
     "shell.execute_reply": "2021-11-07T01:34:13.736093Z"
    },
    "papermill": {
     "duration": 0.057505,
     "end_time": "2021-11-07T01:34:13.736267",
     "exception": false,
     "start_time": "2021-11-07T01:34:13.678762",
     "status": "completed"
    },
    "tags": [
     "remove_cell"
    ]
   },
   "outputs": [],
   "source": [
    "# Prep our merging DF\n",
    "merged_by_repo = merged.groupby(['repo', 'author'], as_index=False).agg({'id': 'count', 'authorAssociation': 'first'}).rename(columns={'id': \"authored\", 'author': 'username'})\n",
    "closed_by_repo = merged.groupby(['repo', 'mergedBy']).count()['id'].reset_index().rename(columns={'id': \"closed\", \"mergedBy\": \"username\"})"
   ]
  },
  {
   "cell_type": "code",
   "execution_count": 11,
   "id": "7be25007",
   "metadata": {
    "execution": {
     "iopub.execute_input": "2021-11-07T01:34:13.828565Z",
     "iopub.status.busy": "2021-11-07T01:34:13.827907Z",
     "iopub.status.idle": "2021-11-07T01:34:13.844123Z",
     "shell.execute_reply": "2021-11-07T01:34:13.843556Z"
    },
    "papermill": {
     "duration": 0.068976,
     "end_time": "2021-11-07T01:34:13.844267",
     "exception": false,
     "start_time": "2021-11-07T01:34:13.775291",
     "status": "completed"
    },
    "tags": [
     "hide_input"
    ]
   },
   "outputs": [
    {
     "data": {
      "text/html": [
       "\n",
       "<div id=\"altair-viz-57da83db391a45e3972c744aabbf07c1\"></div>\n",
       "<script type=\"text/javascript\">\n",
       "  (function(spec, embedOpt){\n",
       "    let outputDiv = document.currentScript.previousElementSibling;\n",
       "    if (outputDiv.id !== \"altair-viz-57da83db391a45e3972c744aabbf07c1\") {\n",
       "      outputDiv = document.getElementById(\"altair-viz-57da83db391a45e3972c744aabbf07c1\");\n",
       "    }\n",
       "    const paths = {\n",
       "      \"vega\": \"https://cdn.jsdelivr.net/npm//vega@5?noext\",\n",
       "      \"vega-lib\": \"https://cdn.jsdelivr.net/npm//vega-lib?noext\",\n",
       "      \"vega-lite\": \"https://cdn.jsdelivr.net/npm//vega-lite@4.8.1?noext\",\n",
       "      \"vega-embed\": \"https://cdn.jsdelivr.net/npm//vega-embed@6?noext\",\n",
       "    };\n",
       "\n",
       "    function loadScript(lib) {\n",
       "      return new Promise(function(resolve, reject) {\n",
       "        var s = document.createElement('script');\n",
       "        s.src = paths[lib];\n",
       "        s.async = true;\n",
       "        s.onload = () => resolve(paths[lib]);\n",
       "        s.onerror = () => reject(`Error loading script: ${paths[lib]}`);\n",
       "        document.getElementsByTagName(\"head\")[0].appendChild(s);\n",
       "      });\n",
       "    }\n",
       "\n",
       "    function showError(err) {\n",
       "      outputDiv.innerHTML = `<div class=\"error\" style=\"color:red;\">${err}</div>`;\n",
       "      throw err;\n",
       "    }\n",
       "\n",
       "    function displayChart(vegaEmbed) {\n",
       "      vegaEmbed(outputDiv, spec, embedOpt)\n",
       "        .catch(err => showError(`Javascript Error: ${err.message}<br>This usually means there's a typo in your chart specification. See the javascript console for the full traceback.`));\n",
       "    }\n",
       "\n",
       "    if(typeof define === \"function\" && define.amd) {\n",
       "      requirejs.config({paths});\n",
       "      require([\"vega-embed\"], displayChart, err => showError(`Error loading script: ${err.message}`));\n",
       "    } else if (typeof vegaEmbed === \"function\") {\n",
       "      displayChart(vegaEmbed);\n",
       "    } else {\n",
       "      loadScript(\"vega\")\n",
       "        .then(() => loadScript(\"vega-lite\"))\n",
       "        .then(() => loadScript(\"vega-embed\"))\n",
       "        .catch(showError)\n",
       "        .then(() => displayChart(vegaEmbed));\n",
       "    }\n",
       "  })({\"config\": {\"axisLeft\": {\"labelFontSize\": 15}, \"axisBottom\": {\"labelFontSize\": 15}}, \"data\": {\"name\": \"data-d3158bdbc769cfc14be18cb097f20b55\"}, \"mark\": \"bar\", \"encoding\": {\"color\": {\"type\": \"nominal\", \"field\": \"authorAssociation\", \"scale\": {\"domain\": [\"MEMBER\", \"CONTRIBUTOR\", \"COLLABORATOR\", \"NONE\"], \"range\": [\"rgb(211.82745098039214, 211.82745098039214, 211.82745098039214)\", \"rgb(166.98562091503268, 229.89803921568628, 166.98562091503268)\", \"rgb(96.37647058823529, 192.75294117647059, 96.37647058823529)\", \"rgb(0.0, 100.3921568627451, 0.0)\"]}}, \"x\": {\"type\": \"nominal\", \"field\": \"username\"}, \"y\": {\"type\": \"quantitative\", \"field\": \"authored\"}}, \"title\": \"PR authors for ipython in the last 90 days\", \"$schema\": \"https://vega.github.io/schema/vega-lite/v4.8.1.json\", \"datasets\": {\"data-d3158bdbc769cfc14be18cb097f20b55\": [{\"username\": \"minrk\", \"authored\": 61, \"authorAssociation\": \"MEMBER\"}, {\"username\": \"Carreau\", \"authored\": 27, \"authorAssociation\": \"MEMBER\"}, {\"username\": \"blink1073\", \"authored\": 9, \"authorAssociation\": \"MEMBER\"}, {\"username\": \"Kojoley\", \"authored\": 8, \"authorAssociation\": \"COLLABORATOR\"}, {\"username\": \"MrMino\", \"authored\": 5, \"authorAssociation\": \"MEMBER\"}, {\"username\": \"martinRenou\", \"authored\": 4, \"authorAssociation\": \"CONTRIBUTOR\"}, {\"username\": \"tacaswell\", \"authored\": 3, \"authorAssociation\": \"CONTRIBUTOR\"}, {\"username\": \"madbird1304\", \"authored\": 3, \"authorAssociation\": \"CONTRIBUTOR\"}, {\"username\": \"davidbrochart\", \"authored\": 2, \"authorAssociation\": \"COLLABORATOR\"}, {\"username\": \"JohanMabille\", \"authored\": 2, \"authorAssociation\": \"CONTRIBUTOR\"}, {\"username\": \"takluyver\", \"authored\": 2, \"authorAssociation\": \"MEMBER\"}, {\"username\": \"afshin\", \"authored\": 2, \"authorAssociation\": \"MEMBER\"}, {\"username\": \"DimitriPapadopoulos\", \"authored\": 2, \"authorAssociation\": \"CONTRIBUTOR\"}, {\"username\": \"sgaist\", \"authored\": 2, \"authorAssociation\": \"CONTRIBUTOR\"}, {\"username\": \"matthewfeickert\", \"authored\": 1, \"authorAssociation\": \"CONTRIBUTOR\"}, {\"username\": \"meysam81\", \"authored\": 1, \"authorAssociation\": \"CONTRIBUTOR\"}, {\"username\": \"mgorny\", \"authored\": 1, \"authorAssociation\": \"CONTRIBUTOR\"}, {\"username\": \"stukowski\", \"authored\": 1, \"authorAssociation\": \"CONTRIBUTOR\"}, {\"username\": \"paw-lu\", \"authored\": 1, \"authorAssociation\": \"CONTRIBUTOR\"}, {\"username\": \"penguinolog\", \"authored\": 1, \"authorAssociation\": \"CONTRIBUTOR\"}, {\"username\": \"tomoboy\", \"authored\": 1, \"authorAssociation\": \"CONTRIBUTOR\"}, {\"username\": \"prius\", \"authored\": 1, \"authorAssociation\": \"NONE\"}, {\"username\": \"ltalirz\", \"authored\": 1, \"authorAssociation\": \"CONTRIBUTOR\"}, {\"username\": \"rayosborn\", \"authored\": 1, \"authorAssociation\": \"CONTRIBUTOR\"}, {\"username\": \"pijyoi\", \"authored\": 1, \"authorAssociation\": \"CONTRIBUTOR\"}, {\"username\": \"frenzymadness\", \"authored\": 1, \"authorAssociation\": \"CONTRIBUTOR\"}, {\"username\": \"kloczek\", \"authored\": 1, \"authorAssociation\": \"CONTRIBUTOR\"}, {\"username\": \"haobibo\", \"authored\": 1, \"authorAssociation\": \"CONTRIBUTOR\"}, {\"username\": \"MRCWirtz\", \"authored\": 1, \"authorAssociation\": \"CONTRIBUTOR\"}, {\"username\": \"Mithil467\", \"authored\": 1, \"authorAssociation\": \"CONTRIBUTOR\"}, {\"username\": \"NaelsonDouglas\", \"authored\": 1, \"authorAssociation\": \"CONTRIBUTOR\"}, {\"username\": \"QuLogic\", \"authored\": 1, \"authorAssociation\": \"CONTRIBUTOR\"}, {\"username\": \"WoLpH\", \"authored\": 1, \"authorAssociation\": \"CONTRIBUTOR\"}, {\"username\": \"adamchainz\", \"authored\": 1, \"authorAssociation\": \"CONTRIBUTOR\"}, {\"username\": \"blois\", \"authored\": 1, \"authorAssociation\": \"CONTRIBUTOR\"}, {\"username\": \"carlosperate\", \"authored\": 1, \"authorAssociation\": \"NONE\"}, {\"username\": \"daniel-shimon\", \"authored\": 1, \"authorAssociation\": \"CONTRIBUTOR\"}, {\"username\": \"djcomlab\", \"authored\": 1, \"authorAssociation\": \"CONTRIBUTOR\"}, {\"username\": \"ellert\", \"authored\": 1, \"authorAssociation\": \"CONTRIBUTOR\"}, {\"username\": \"emuccino\", \"authored\": 1, \"authorAssociation\": \"CONTRIBUTOR\"}, {\"username\": \"erihe251\", \"authored\": 1, \"authorAssociation\": \"CONTRIBUTOR\"}, {\"username\": \"fcollonval\", \"authored\": 1, \"authorAssociation\": \"CONTRIBUTOR\"}, {\"username\": \"gpotter2\", \"authored\": 1, \"authorAssociation\": \"CONTRIBUTOR\"}, {\"username\": \"yuji96\", \"authored\": 1, \"authorAssociation\": \"CONTRIBUTOR\"}]}}, {\"mode\": \"vega-lite\"});\n",
       "</script>"
      ],
      "text/plain": [
       "alt.Chart(...)"
      ]
     },
     "execution_count": 11,
     "metadata": {},
     "output_type": "execute_result"
    }
   ],
   "source": [
    "charts = []\n",
    "title = f\"PR authors for {github_org} in the last {n_days} days\"\n",
    "this_data = merged_by_repo.replace(np.nan, 0).groupby('username', as_index=False).agg({'authored': 'sum', 'authorAssociation': 'first'})\n",
    "this_data = this_data.sort_values('authored', ascending=False)\n",
    "ch = alt.Chart(data=this_data, title=title).mark_bar().encode(\n",
    "    x='username',\n",
    "    y='authored',\n",
    "    color=alt.Color('authorAssociation', scale=alt.Scale(domain=author_types, range=author_colors))\n",
    ")\n",
    "ch"
   ]
  },
  {
   "cell_type": "code",
   "execution_count": 12,
   "id": "6e692382",
   "metadata": {
    "execution": {
     "iopub.execute_input": "2021-11-07T01:34:13.938734Z",
     "iopub.status.busy": "2021-11-07T01:34:13.929527Z",
     "iopub.status.idle": "2021-11-07T01:34:13.942011Z",
     "shell.execute_reply": "2021-11-07T01:34:13.941497Z"
    },
    "papermill": {
     "duration": 0.059582,
     "end_time": "2021-11-07T01:34:13.942297",
     "exception": false,
     "start_time": "2021-11-07T01:34:13.882715",
     "status": "completed"
    },
    "tags": [
     "hide_input"
    ]
   },
   "outputs": [
    {
     "data": {
      "text/html": [
       "\n",
       "<div id=\"altair-viz-89e750a9bbcd47da97886e87f3011101\"></div>\n",
       "<script type=\"text/javascript\">\n",
       "  (function(spec, embedOpt){\n",
       "    let outputDiv = document.currentScript.previousElementSibling;\n",
       "    if (outputDiv.id !== \"altair-viz-89e750a9bbcd47da97886e87f3011101\") {\n",
       "      outputDiv = document.getElementById(\"altair-viz-89e750a9bbcd47da97886e87f3011101\");\n",
       "    }\n",
       "    const paths = {\n",
       "      \"vega\": \"https://cdn.jsdelivr.net/npm//vega@5?noext\",\n",
       "      \"vega-lib\": \"https://cdn.jsdelivr.net/npm//vega-lib?noext\",\n",
       "      \"vega-lite\": \"https://cdn.jsdelivr.net/npm//vega-lite@4.8.1?noext\",\n",
       "      \"vega-embed\": \"https://cdn.jsdelivr.net/npm//vega-embed@6?noext\",\n",
       "    };\n",
       "\n",
       "    function loadScript(lib) {\n",
       "      return new Promise(function(resolve, reject) {\n",
       "        var s = document.createElement('script');\n",
       "        s.src = paths[lib];\n",
       "        s.async = true;\n",
       "        s.onload = () => resolve(paths[lib]);\n",
       "        s.onerror = () => reject(`Error loading script: ${paths[lib]}`);\n",
       "        document.getElementsByTagName(\"head\")[0].appendChild(s);\n",
       "      });\n",
       "    }\n",
       "\n",
       "    function showError(err) {\n",
       "      outputDiv.innerHTML = `<div class=\"error\" style=\"color:red;\">${err}</div>`;\n",
       "      throw err;\n",
       "    }\n",
       "\n",
       "    function displayChart(vegaEmbed) {\n",
       "      vegaEmbed(outputDiv, spec, embedOpt)\n",
       "        .catch(err => showError(`Javascript Error: ${err.message}<br>This usually means there's a typo in your chart specification. See the javascript console for the full traceback.`));\n",
       "    }\n",
       "\n",
       "    if(typeof define === \"function\" && define.amd) {\n",
       "      requirejs.config({paths});\n",
       "      require([\"vega-embed\"], displayChart, err => showError(`Error loading script: ${err.message}`));\n",
       "    } else if (typeof vegaEmbed === \"function\") {\n",
       "      displayChart(vegaEmbed);\n",
       "    } else {\n",
       "      loadScript(\"vega\")\n",
       "        .then(() => loadScript(\"vega-lite\"))\n",
       "        .then(() => loadScript(\"vega-embed\"))\n",
       "        .catch(showError)\n",
       "        .then(() => displayChart(vegaEmbed));\n",
       "    }\n",
       "  })({\"config\": {\"axisLeft\": {\"labelFontSize\": 15}, \"axisBottom\": {\"labelFontSize\": 15}}, \"data\": {\"name\": \"data-185629c9e375a690005c1ccc349fdb66\"}, \"mark\": \"bar\", \"encoding\": {\"x\": {\"type\": \"nominal\", \"field\": \"username\"}, \"y\": {\"type\": \"quantitative\", \"field\": \"closed\"}}, \"title\": \"Merges for ipython in the last 90 days\", \"$schema\": \"https://vega.github.io/schema/vega-lite/v4.8.1.json\", \"datasets\": {\"data-185629c9e375a690005c1ccc349fdb66\": [{\"repo\": \"ipykernel\", \"username\": \"Carreau\", \"closed\": 1}, {\"repo\": \"ipykernel\", \"username\": \"blink1073\", \"closed\": 30}, {\"repo\": \"ipykernel\", \"username\": \"minrk\", \"closed\": 3}, {\"repo\": \"ipyparallel\", \"username\": \"minrk\", \"closed\": 56}, {\"repo\": \"ipython\", \"username\": \"Carreau\", \"closed\": 49}, {\"repo\": \"ipython\", \"username\": \"MrMino\", \"closed\": 12}, {\"repo\": \"ipython\", \"username\": \"minrk\", \"closed\": 1}, {\"repo\": \"ipython-in-depth\", \"username\": \"minrk\", \"closed\": 1}, {\"repo\": \"traitlets\", \"username\": \"Carreau\", \"closed\": 5}, {\"repo\": \"traitlets\", \"username\": \"minrk\", \"closed\": 4}]}}, {\"mode\": \"vega-lite\"});\n",
       "</script>"
      ],
      "text/plain": [
       "alt.Chart(...)"
      ]
     },
     "execution_count": 12,
     "metadata": {},
     "output_type": "execute_result"
    }
   ],
   "source": [
    "charts = []\n",
    "title = f\"Merges for {github_org} in the last {n_days} days\"\n",
    "ch = alt.Chart(data=closed_by_repo.replace(np.nan, 0), title=title).mark_bar().encode(\n",
    "    x='username',\n",
    "    y='closed',\n",
    ")\n",
    "ch"
   ]
  },
  {
   "cell_type": "markdown",
   "id": "a1da1e9f",
   "metadata": {
    "papermill": {
     "duration": 0.039507,
     "end_time": "2021-11-07T01:34:14.020924",
     "exception": false,
     "start_time": "2021-11-07T01:34:13.981417",
     "status": "completed"
    },
    "tags": []
   },
   "source": [
    "## Issues\n",
    "\n",
    "Issues are **conversations** that happen on our GitHub repositories. Here's an\n",
    "analysis of issues across the Jupyter organizations."
   ]
  },
  {
   "cell_type": "code",
   "execution_count": 13,
   "id": "78357688",
   "metadata": {
    "execution": {
     "iopub.execute_input": "2021-11-07T01:34:14.114585Z",
     "iopub.status.busy": "2021-11-07T01:34:14.113844Z",
     "iopub.status.idle": "2021-11-07T01:34:14.116674Z",
     "shell.execute_reply": "2021-11-07T01:34:14.116152Z"
    },
    "papermill": {
     "duration": 0.053691,
     "end_time": "2021-11-07T01:34:14.116824",
     "exception": false,
     "start_time": "2021-11-07T01:34:14.063133",
     "status": "completed"
    },
    "tags": [
     "remove_cell"
    ]
   },
   "outputs": [],
   "source": [
    "created = issues.query('state == \"OPEN\" and createdAt > @start_date and createdAt < @stop_date')\n",
    "closed = issues.query('state == \"CLOSED\" and closedAt > @start_date and closedAt < @stop_date')"
   ]
  },
  {
   "cell_type": "code",
   "execution_count": 14,
   "id": "627f9ddd",
   "metadata": {
    "execution": {
     "iopub.execute_input": "2021-11-07T01:34:14.229432Z",
     "iopub.status.busy": "2021-11-07T01:34:14.218702Z",
     "iopub.status.idle": "2021-11-07T01:34:14.232731Z",
     "shell.execute_reply": "2021-11-07T01:34:14.233291Z"
    },
    "papermill": {
     "duration": 0.074708,
     "end_time": "2021-11-07T01:34:14.233508",
     "exception": false,
     "start_time": "2021-11-07T01:34:14.158800",
     "status": "completed"
    },
    "tags": [
     "hide_input"
    ]
   },
   "outputs": [
    {
     "data": {
      "text/html": [
       "\n",
       "<div id=\"altair-viz-c8d37a278df84a17bba16f0a65a0bc4a\"></div>\n",
       "<script type=\"text/javascript\">\n",
       "  (function(spec, embedOpt){\n",
       "    let outputDiv = document.currentScript.previousElementSibling;\n",
       "    if (outputDiv.id !== \"altair-viz-c8d37a278df84a17bba16f0a65a0bc4a\") {\n",
       "      outputDiv = document.getElementById(\"altair-viz-c8d37a278df84a17bba16f0a65a0bc4a\");\n",
       "    }\n",
       "    const paths = {\n",
       "      \"vega\": \"https://cdn.jsdelivr.net/npm//vega@5?noext\",\n",
       "      \"vega-lib\": \"https://cdn.jsdelivr.net/npm//vega-lib?noext\",\n",
       "      \"vega-lite\": \"https://cdn.jsdelivr.net/npm//vega-lite@4.8.1?noext\",\n",
       "      \"vega-embed\": \"https://cdn.jsdelivr.net/npm//vega-embed@6?noext\",\n",
       "    };\n",
       "\n",
       "    function loadScript(lib) {\n",
       "      return new Promise(function(resolve, reject) {\n",
       "        var s = document.createElement('script');\n",
       "        s.src = paths[lib];\n",
       "        s.async = true;\n",
       "        s.onload = () => resolve(paths[lib]);\n",
       "        s.onerror = () => reject(`Error loading script: ${paths[lib]}`);\n",
       "        document.getElementsByTagName(\"head\")[0].appendChild(s);\n",
       "      });\n",
       "    }\n",
       "\n",
       "    function showError(err) {\n",
       "      outputDiv.innerHTML = `<div class=\"error\" style=\"color:red;\">${err}</div>`;\n",
       "      throw err;\n",
       "    }\n",
       "\n",
       "    function displayChart(vegaEmbed) {\n",
       "      vegaEmbed(outputDiv, spec, embedOpt)\n",
       "        .catch(err => showError(`Javascript Error: ${err.message}<br>This usually means there's a typo in your chart specification. See the javascript console for the full traceback.`));\n",
       "    }\n",
       "\n",
       "    if(typeof define === \"function\" && define.amd) {\n",
       "      requirejs.config({paths});\n",
       "      require([\"vega-embed\"], displayChart, err => showError(`Error loading script: ${err.message}`));\n",
       "    } else if (typeof vegaEmbed === \"function\") {\n",
       "      displayChart(vegaEmbed);\n",
       "    } else {\n",
       "      loadScript(\"vega\")\n",
       "        .then(() => loadScript(\"vega-lite\"))\n",
       "        .then(() => loadScript(\"vega-embed\"))\n",
       "        .catch(showError)\n",
       "        .then(() => displayChart(vegaEmbed));\n",
       "    }\n",
       "  })({\"config\": {\"axisLeft\": {\"labelFontSize\": 15}, \"axisBottom\": {\"labelFontSize\": 15}}, \"data\": {\"name\": \"data-8fb6a0e3506f6008aa8adab1de69ddff\"}, \"mark\": \"bar\", \"encoding\": {\"x\": {\"type\": \"nominal\", \"field\": \"repo\", \"sort\": [\"ipython\", \"ipykernel\", \"ipyparallel\", \"matplotlib-inline\", \"ipython-in-depth\", \"traitlets\", \"xkcd-font\"]}, \"y\": {\"type\": \"quantitative\", \"field\": \"number\"}}, \"title\": \"Issues created in the last 90 days\", \"$schema\": \"https://vega.github.io/schema/vega-lite/v4.8.1.json\", \"datasets\": {\"data-8fb6a0e3506f6008aa8adab1de69ddff\": [{\"org\": \"ipython\", \"repo\": \"ipykernel\", \"number\": 18, \"org/repo\": \"ipython/ipykernel\"}, {\"org\": \"ipython\", \"repo\": \"ipyparallel\", \"number\": 3, \"org/repo\": \"ipython/ipyparallel\"}, {\"org\": \"ipython\", \"repo\": \"ipython\", \"number\": 31, \"org/repo\": \"ipython/ipython\"}, {\"org\": \"ipython\", \"repo\": \"ipython-in-depth\", \"number\": 1, \"org/repo\": \"ipython/ipython-in-depth\"}, {\"org\": \"ipython\", \"repo\": \"matplotlib-inline\", \"number\": 3, \"org/repo\": \"ipython/matplotlib-inline\"}, {\"org\": \"ipython\", \"repo\": \"traitlets\", \"number\": 1, \"org/repo\": \"ipython/traitlets\"}, {\"org\": \"ipython\", \"repo\": \"xkcd-font\", \"number\": 1, \"org/repo\": \"ipython/xkcd-font\"}]}}, {\"mode\": \"vega-lite\"});\n",
       "</script>"
      ],
      "text/plain": [
       "alt.Chart(...)"
      ]
     },
     "execution_count": 14,
     "metadata": {},
     "output_type": "execute_result"
    }
   ],
   "source": [
    "created_counts = created.groupby(['org', 'repo']).count()['number'].reset_index()\n",
    "created_counts['org/repo'] = created_counts.apply(lambda a: a['org'] + '/' + a['repo'], axis=1)\n",
    "sorted_vals = created_counts.sort_values(['org', 'number'], ascending=False)['repo'].values\n",
    "alt.Chart(data=created_counts, title=f\"Issues created in the last {n_days} days\").mark_bar().encode(\n",
    "    x=alt.X('repo', sort=alt.Sort(sorted_vals.tolist())),\n",
    "    y='number',\n",
    ")"
   ]
  },
  {
   "cell_type": "code",
   "execution_count": 15,
   "id": "aaf85222",
   "metadata": {
    "execution": {
     "iopub.execute_input": "2021-11-07T01:34:14.328298Z",
     "iopub.status.busy": "2021-11-07T01:34:14.327672Z",
     "iopub.status.idle": "2021-11-07T01:34:14.350875Z",
     "shell.execute_reply": "2021-11-07T01:34:14.351365Z"
    },
    "papermill": {
     "duration": 0.073863,
     "end_time": "2021-11-07T01:34:14.351541",
     "exception": false,
     "start_time": "2021-11-07T01:34:14.277678",
     "status": "completed"
    },
    "tags": [
     "hide_input"
    ]
   },
   "outputs": [
    {
     "data": {
      "text/html": [
       "\n",
       "<div id=\"altair-viz-6270d2fc03bb4750b122c016b54ac49b\"></div>\n",
       "<script type=\"text/javascript\">\n",
       "  (function(spec, embedOpt){\n",
       "    let outputDiv = document.currentScript.previousElementSibling;\n",
       "    if (outputDiv.id !== \"altair-viz-6270d2fc03bb4750b122c016b54ac49b\") {\n",
       "      outputDiv = document.getElementById(\"altair-viz-6270d2fc03bb4750b122c016b54ac49b\");\n",
       "    }\n",
       "    const paths = {\n",
       "      \"vega\": \"https://cdn.jsdelivr.net/npm//vega@5?noext\",\n",
       "      \"vega-lib\": \"https://cdn.jsdelivr.net/npm//vega-lib?noext\",\n",
       "      \"vega-lite\": \"https://cdn.jsdelivr.net/npm//vega-lite@4.8.1?noext\",\n",
       "      \"vega-embed\": \"https://cdn.jsdelivr.net/npm//vega-embed@6?noext\",\n",
       "    };\n",
       "\n",
       "    function loadScript(lib) {\n",
       "      return new Promise(function(resolve, reject) {\n",
       "        var s = document.createElement('script');\n",
       "        s.src = paths[lib];\n",
       "        s.async = true;\n",
       "        s.onload = () => resolve(paths[lib]);\n",
       "        s.onerror = () => reject(`Error loading script: ${paths[lib]}`);\n",
       "        document.getElementsByTagName(\"head\")[0].appendChild(s);\n",
       "      });\n",
       "    }\n",
       "\n",
       "    function showError(err) {\n",
       "      outputDiv.innerHTML = `<div class=\"error\" style=\"color:red;\">${err}</div>`;\n",
       "      throw err;\n",
       "    }\n",
       "\n",
       "    function displayChart(vegaEmbed) {\n",
       "      vegaEmbed(outputDiv, spec, embedOpt)\n",
       "        .catch(err => showError(`Javascript Error: ${err.message}<br>This usually means there's a typo in your chart specification. See the javascript console for the full traceback.`));\n",
       "    }\n",
       "\n",
       "    if(typeof define === \"function\" && define.amd) {\n",
       "      requirejs.config({paths});\n",
       "      require([\"vega-embed\"], displayChart, err => showError(`Error loading script: ${err.message}`));\n",
       "    } else if (typeof vegaEmbed === \"function\") {\n",
       "      displayChart(vegaEmbed);\n",
       "    } else {\n",
       "      loadScript(\"vega\")\n",
       "        .then(() => loadScript(\"vega-lite\"))\n",
       "        .then(() => loadScript(\"vega-embed\"))\n",
       "        .catch(showError)\n",
       "        .then(() => displayChart(vegaEmbed));\n",
       "    }\n",
       "  })({\"config\": {\"axisLeft\": {\"labelFontSize\": 15}, \"axisBottom\": {\"labelFontSize\": 15}}, \"data\": {\"name\": \"data-6753f03dd2b9789b17131d3532c39ba8\"}, \"mark\": \"bar\", \"encoding\": {\"x\": {\"type\": \"nominal\", \"field\": \"repo\", \"sort\": [\"ipython\", \"ipyparallel\", \"ipykernel\", \"traitlets\", \"ipython-in-depth\", \"matplotlib-inline\"]}, \"y\": {\"type\": \"quantitative\", \"field\": \"number\"}}, \"title\": \"Issues closed in the last 90 days\", \"$schema\": \"https://vega.github.io/schema/vega-lite/v4.8.1.json\", \"datasets\": {\"data-6753f03dd2b9789b17131d3532c39ba8\": [{\"org\": \"ipython\", \"repo\": \"ipykernel\", \"number\": 10, \"org/repo\": \"ipython/ipykernel\"}, {\"org\": \"ipython\", \"repo\": \"ipyparallel\", \"number\": 30, \"org/repo\": \"ipython/ipyparallel\"}, {\"org\": \"ipython\", \"repo\": \"ipython\", \"number\": 36, \"org/repo\": \"ipython/ipython\"}, {\"org\": \"ipython\", \"repo\": \"ipython-in-depth\", \"number\": 3, \"org/repo\": \"ipython/ipython-in-depth\"}, {\"org\": \"ipython\", \"repo\": \"matplotlib-inline\", \"number\": 1, \"org/repo\": \"ipython/matplotlib-inline\"}, {\"org\": \"ipython\", \"repo\": \"traitlets\", \"number\": 6, \"org/repo\": \"ipython/traitlets\"}]}}, {\"mode\": \"vega-lite\"});\n",
       "</script>"
      ],
      "text/plain": [
       "alt.Chart(...)"
      ]
     },
     "execution_count": 15,
     "metadata": {},
     "output_type": "execute_result"
    }
   ],
   "source": [
    "closed_counts = closed.groupby(['org', 'repo']).count()['number'].reset_index()\n",
    "closed_counts['org/repo'] = closed_counts.apply(lambda a: a['org'] + '/' + a['repo'], axis=1)\n",
    "sorted_vals = closed_counts.sort_values(['number'], ascending=False)['repo'].values\n",
    "alt.Chart(data=closed_counts, title=f\"Issues closed in the last {n_days} days\").mark_bar().encode(\n",
    "    x=alt.X('repo', sort=alt.Sort(sorted_vals.tolist())),\n",
    "    y='number',\n",
    ")"
   ]
  },
  {
   "cell_type": "code",
   "execution_count": 16,
   "id": "7a2e24f9",
   "metadata": {
    "execution": {
     "iopub.execute_input": "2021-11-07T01:34:14.448108Z",
     "iopub.status.busy": "2021-11-07T01:34:14.447384Z",
     "iopub.status.idle": "2021-11-07T01:34:14.449975Z",
     "shell.execute_reply": "2021-11-07T01:34:14.450556Z"
    },
    "papermill": {
     "duration": 0.058128,
     "end_time": "2021-11-07T01:34:14.450719",
     "exception": false,
     "start_time": "2021-11-07T01:34:14.392591",
     "status": "completed"
    },
    "tags": [
     "remove_cell"
    ]
   },
   "outputs": [],
   "source": [
    "created_closed = pd.merge(created_counts.rename(columns={'number': 'created'}).drop(columns='org/repo'),\n",
    "                          closed_counts.rename(columns={'number': 'closed'}).drop(columns='org/repo'),\n",
    "                          on=['org', 'repo'], how='outer')\n",
    "\n",
    "created_closed = pd.melt(created_closed, id_vars=['org', 'repo'], var_name=\"kind\", value_name=\"count\").replace(np.nan, 0)"
   ]
  },
  {
   "cell_type": "code",
   "execution_count": 17,
   "id": "481c130f",
   "metadata": {
    "execution": {
     "iopub.execute_input": "2021-11-07T01:34:14.547464Z",
     "iopub.status.busy": "2021-11-07T01:34:14.546869Z",
     "iopub.status.idle": "2021-11-07T01:34:14.559264Z",
     "shell.execute_reply": "2021-11-07T01:34:14.558752Z"
    },
    "papermill": {
     "duration": 0.06934,
     "end_time": "2021-11-07T01:34:14.559402",
     "exception": false,
     "start_time": "2021-11-07T01:34:14.490062",
     "status": "completed"
    },
    "tags": [
     "hide_input"
    ]
   },
   "outputs": [
    {
     "data": {
      "text/html": [
       "\n",
       "<div id=\"altair-viz-384811f0cb6443f9bd34ff23eb737516\"></div>\n",
       "<script type=\"text/javascript\">\n",
       "  (function(spec, embedOpt){\n",
       "    let outputDiv = document.currentScript.previousElementSibling;\n",
       "    if (outputDiv.id !== \"altair-viz-384811f0cb6443f9bd34ff23eb737516\") {\n",
       "      outputDiv = document.getElementById(\"altair-viz-384811f0cb6443f9bd34ff23eb737516\");\n",
       "    }\n",
       "    const paths = {\n",
       "      \"vega\": \"https://cdn.jsdelivr.net/npm//vega@5?noext\",\n",
       "      \"vega-lib\": \"https://cdn.jsdelivr.net/npm//vega-lib?noext\",\n",
       "      \"vega-lite\": \"https://cdn.jsdelivr.net/npm//vega-lite@4.8.1?noext\",\n",
       "      \"vega-embed\": \"https://cdn.jsdelivr.net/npm//vega-embed@6?noext\",\n",
       "    };\n",
       "\n",
       "    function loadScript(lib) {\n",
       "      return new Promise(function(resolve, reject) {\n",
       "        var s = document.createElement('script');\n",
       "        s.src = paths[lib];\n",
       "        s.async = true;\n",
       "        s.onload = () => resolve(paths[lib]);\n",
       "        s.onerror = () => reject(`Error loading script: ${paths[lib]}`);\n",
       "        document.getElementsByTagName(\"head\")[0].appendChild(s);\n",
       "      });\n",
       "    }\n",
       "\n",
       "    function showError(err) {\n",
       "      outputDiv.innerHTML = `<div class=\"error\" style=\"color:red;\">${err}</div>`;\n",
       "      throw err;\n",
       "    }\n",
       "\n",
       "    function displayChart(vegaEmbed) {\n",
       "      vegaEmbed(outputDiv, spec, embedOpt)\n",
       "        .catch(err => showError(`Javascript Error: ${err.message}<br>This usually means there's a typo in your chart specification. See the javascript console for the full traceback.`));\n",
       "    }\n",
       "\n",
       "    if(typeof define === \"function\" && define.amd) {\n",
       "      requirejs.config({paths});\n",
       "      require([\"vega-embed\"], displayChart, err => showError(`Error loading script: ${err.message}`));\n",
       "    } else if (typeof vegaEmbed === \"function\") {\n",
       "      displayChart(vegaEmbed);\n",
       "    } else {\n",
       "      loadScript(\"vega\")\n",
       "        .then(() => loadScript(\"vega-lite\"))\n",
       "        .then(() => loadScript(\"vega-embed\"))\n",
       "        .catch(showError)\n",
       "        .then(() => displayChart(vegaEmbed));\n",
       "    }\n",
       "  })({\"config\": {\"axisLeft\": {\"labelFontSize\": 15}, \"axisBottom\": {\"labelFontSize\": 15}}, \"data\": {\"name\": \"data-fbd62d2553a3eb73e3323d6b9e6091be\"}, \"mark\": \"bar\", \"encoding\": {\"color\": {\"type\": \"nominal\", \"field\": \"kind\"}, \"column\": {\"type\": \"nominal\", \"field\": \"repo\", \"header\": {\"labelFontSize\": 12, \"title\": \"Issue activity, last 90 days for ipython\", \"titleFontSize\": 15}}, \"x\": {\"type\": \"nominal\", \"axis\": {\"labelFontSize\": 15, \"title\": \"\"}, \"field\": \"kind\"}, \"y\": {\"type\": \"quantitative\", \"axis\": {\"labelFontSize\": 12, \"titleFontSize\": 15}, \"field\": \"count\"}}, \"width\": 120, \"$schema\": \"https://vega.github.io/schema/vega-lite/v4.8.1.json\", \"datasets\": {\"data-fbd62d2553a3eb73e3323d6b9e6091be\": [{\"org\": \"ipython\", \"repo\": \"ipykernel\", \"kind\": \"created\", \"count\": 18.0}, {\"org\": \"ipython\", \"repo\": \"ipyparallel\", \"kind\": \"created\", \"count\": 3.0}, {\"org\": \"ipython\", \"repo\": \"ipython\", \"kind\": \"created\", \"count\": 31.0}, {\"org\": \"ipython\", \"repo\": \"ipython-in-depth\", \"kind\": \"created\", \"count\": 1.0}, {\"org\": \"ipython\", \"repo\": \"matplotlib-inline\", \"kind\": \"created\", \"count\": 3.0}, {\"org\": \"ipython\", \"repo\": \"traitlets\", \"kind\": \"created\", \"count\": 1.0}, {\"org\": \"ipython\", \"repo\": \"xkcd-font\", \"kind\": \"created\", \"count\": 1.0}, {\"org\": \"ipython\", \"repo\": \"ipykernel\", \"kind\": \"closed\", \"count\": 10.0}, {\"org\": \"ipython\", \"repo\": \"ipyparallel\", \"kind\": \"closed\", \"count\": 30.0}, {\"org\": \"ipython\", \"repo\": \"ipython\", \"kind\": \"closed\", \"count\": 36.0}, {\"org\": \"ipython\", \"repo\": \"ipython-in-depth\", \"kind\": \"closed\", \"count\": 3.0}, {\"org\": \"ipython\", \"repo\": \"matplotlib-inline\", \"kind\": \"closed\", \"count\": 1.0}, {\"org\": \"ipython\", \"repo\": \"traitlets\", \"kind\": \"closed\", \"count\": 6.0}, {\"org\": \"ipython\", \"repo\": \"xkcd-font\", \"kind\": \"closed\", \"count\": 0.0}]}}, {\"mode\": \"vega-lite\"});\n",
       "</script>"
      ],
      "text/plain": [
       "alt.Chart(...)"
      ]
     },
     "execution_count": 17,
     "metadata": {},
     "output_type": "execute_result"
    }
   ],
   "source": [
    "charts = []\n",
    "# Pick the top 10 repositories\n",
    "top_repos = created_closed.groupby(['repo']).sum().sort_values(by='count', ascending=False).head(10).index\n",
    "ch = alt.Chart(created_closed.query('repo in @top_repos'), width=120).mark_bar().encode(\n",
    "    x=alt.X(\"kind\", axis=alt.Axis(labelFontSize=15, title=\"\")), \n",
    "    y=alt.Y('count', axis=alt.Axis(titleFontSize=15, labelFontSize=12)),\n",
    "    color='kind',\n",
    "    column=alt.Column(\"repo\", header=alt.Header(title=f\"Issue activity, last {n_days} days for {github_org}\", titleFontSize=15, labelFontSize=12))\n",
    ")\n",
    "ch"
   ]
  },
  {
   "cell_type": "code",
   "execution_count": 18,
   "id": "e4660e4b",
   "metadata": {
    "execution": {
     "iopub.execute_input": "2021-11-07T01:34:14.648697Z",
     "iopub.status.busy": "2021-11-07T01:34:14.648034Z",
     "iopub.status.idle": "2021-11-07T01:34:14.652084Z",
     "shell.execute_reply": "2021-11-07T01:34:14.652687Z"
    },
    "papermill": {
     "duration": 0.052439,
     "end_time": "2021-11-07T01:34:14.652848",
     "exception": false,
     "start_time": "2021-11-07T01:34:14.600409",
     "status": "completed"
    },
    "tags": [
     "remove_cell"
    ]
   },
   "outputs": [],
   "source": [
    "# Set to datetime\n",
    "for kind in ['createdAt', 'closedAt']:\n",
    "    closed.loc[:, kind] = pd.to_datetime(closed[kind])\n",
    "    \n",
    "closed.loc[:, 'time_open'] = closed['closedAt'] - closed['createdAt']\n",
    "closed.loc[:, 'time_open'] = closed['time_open'].dt.total_seconds()"
   ]
  },
  {
   "cell_type": "code",
   "execution_count": 19,
   "id": "52fc852c",
   "metadata": {
    "execution": {
     "iopub.execute_input": "2021-11-07T01:34:14.757051Z",
     "iopub.status.busy": "2021-11-07T01:34:14.740958Z",
     "iopub.status.idle": "2021-11-07T01:34:14.759330Z",
     "shell.execute_reply": "2021-11-07T01:34:14.759872Z"
    },
    "papermill": {
     "duration": 0.067718,
     "end_time": "2021-11-07T01:34:14.760051",
     "exception": false,
     "start_time": "2021-11-07T01:34:14.692333",
     "status": "completed"
    },
    "tags": [
     "hide_input"
    ]
   },
   "outputs": [
    {
     "data": {
      "text/html": [
       "\n",
       "<div id=\"altair-viz-fcdca7babed14cc7bd5d59c763f51bf4\"></div>\n",
       "<script type=\"text/javascript\">\n",
       "  (function(spec, embedOpt){\n",
       "    let outputDiv = document.currentScript.previousElementSibling;\n",
       "    if (outputDiv.id !== \"altair-viz-fcdca7babed14cc7bd5d59c763f51bf4\") {\n",
       "      outputDiv = document.getElementById(\"altair-viz-fcdca7babed14cc7bd5d59c763f51bf4\");\n",
       "    }\n",
       "    const paths = {\n",
       "      \"vega\": \"https://cdn.jsdelivr.net/npm//vega@5?noext\",\n",
       "      \"vega-lib\": \"https://cdn.jsdelivr.net/npm//vega-lib?noext\",\n",
       "      \"vega-lite\": \"https://cdn.jsdelivr.net/npm//vega-lite@4.8.1?noext\",\n",
       "      \"vega-embed\": \"https://cdn.jsdelivr.net/npm//vega-embed@6?noext\",\n",
       "    };\n",
       "\n",
       "    function loadScript(lib) {\n",
       "      return new Promise(function(resolve, reject) {\n",
       "        var s = document.createElement('script');\n",
       "        s.src = paths[lib];\n",
       "        s.async = true;\n",
       "        s.onload = () => resolve(paths[lib]);\n",
       "        s.onerror = () => reject(`Error loading script: ${paths[lib]}`);\n",
       "        document.getElementsByTagName(\"head\")[0].appendChild(s);\n",
       "      });\n",
       "    }\n",
       "\n",
       "    function showError(err) {\n",
       "      outputDiv.innerHTML = `<div class=\"error\" style=\"color:red;\">${err}</div>`;\n",
       "      throw err;\n",
       "    }\n",
       "\n",
       "    function displayChart(vegaEmbed) {\n",
       "      vegaEmbed(outputDiv, spec, embedOpt)\n",
       "        .catch(err => showError(`Javascript Error: ${err.message}<br>This usually means there's a typo in your chart specification. See the javascript console for the full traceback.`));\n",
       "    }\n",
       "\n",
       "    if(typeof define === \"function\" && define.amd) {\n",
       "      requirejs.config({paths});\n",
       "      require([\"vega-embed\"], displayChart, err => showError(`Error loading script: ${err.message}`));\n",
       "    } else if (typeof vegaEmbed === \"function\") {\n",
       "      displayChart(vegaEmbed);\n",
       "    } else {\n",
       "      loadScript(\"vega\")\n",
       "        .then(() => loadScript(\"vega-lite\"))\n",
       "        .then(() => loadScript(\"vega-embed\"))\n",
       "        .catch(showError)\n",
       "        .then(() => displayChart(vegaEmbed));\n",
       "    }\n",
       "  })({\"config\": {\"axisLeft\": {\"labelFontSize\": 15}, \"axisBottom\": {\"labelFontSize\": 15}}, \"data\": {\"name\": \"data-a0013784b5ecfc79632ebc24cc844f59\"}, \"mark\": \"bar\", \"encoding\": {\"x\": {\"type\": \"nominal\", \"field\": \"repo\", \"sort\": [\"ipython-in-depth\", \"ipyparallel\", \"traitlets\", \"ipykernel\", \"ipython\", \"matplotlib-inline\"]}, \"y\": {\"type\": \"quantitative\", \"field\": \"time_open\", \"title\": \"Median Days Open\"}}, \"title\": \"Time to close for issues closed in the last 90 days\", \"$schema\": \"https://vega.github.io/schema/vega-lite/v4.8.1.json\", \"datasets\": {\"data-a0013784b5ecfc79632ebc24cc844f59\": [{\"org\": \"ipython\", \"repo\": \"ipykernel\", \"time_open\": 27.329461805555557, \"org/repo\": \"ipython/ipykernel\"}, {\"org\": \"ipython\", \"repo\": \"ipyparallel\", \"time_open\": 51.96684027777778, \"org/repo\": \"ipython/ipyparallel\"}, {\"org\": \"ipython\", \"repo\": \"ipython\", \"time_open\": 9.005173611111111, \"org/repo\": \"ipython/ipython\"}, {\"org\": \"ipython\", \"repo\": \"ipython-in-depth\", \"time_open\": 1086.5060185185184, \"org/repo\": \"ipython/ipython-in-depth\"}, {\"org\": \"ipython\", \"repo\": \"matplotlib-inline\", \"time_open\": 0.017453703703703704, \"org/repo\": \"ipython/matplotlib-inline\"}, {\"org\": \"ipython\", \"repo\": \"traitlets\", \"time_open\": 37.71703703703704, \"org/repo\": \"ipython/traitlets\"}]}}, {\"mode\": \"vega-lite\"});\n",
       "</script>"
      ],
      "text/plain": [
       "alt.Chart(...)"
      ]
     },
     "execution_count": 19,
     "metadata": {},
     "output_type": "execute_result"
    }
   ],
   "source": [
    "time_open = closed.groupby(['org', 'repo']).agg({'time_open': 'median'}).reset_index()\n",
    "time_open['time_open'] = time_open['time_open'] / (60 * 60 * 24)\n",
    "time_open['org/repo'] = time_open.apply(lambda a: a['org'] + '/' + a['repo'], axis=1)\n",
    "sorted_vals = time_open.sort_values(['org', 'time_open'], ascending=False)['repo'].values\n",
    "alt.Chart(data=time_open, title=f\"Time to close for issues closed in the last {n_days} days\").mark_bar().encode(\n",
    "    x=alt.X('repo', sort=alt.Sort(sorted_vals.tolist())),\n",
    "    y=alt.Y('time_open', title=\"Median Days Open\"),\n",
    ")"
   ]
  },
  {
   "cell_type": "markdown",
   "id": "d21abc83",
   "metadata": {
    "papermill": {
     "duration": 0.044996,
     "end_time": "2021-11-07T01:34:14.848119",
     "exception": false,
     "start_time": "2021-11-07T01:34:14.803123",
     "status": "completed"
    },
    "tags": []
   },
   "source": [
    "## Most-upvoted issues"
   ]
  },
  {
   "cell_type": "code",
   "execution_count": 20,
   "id": "91067a9a",
   "metadata": {
    "execution": {
     "iopub.execute_input": "2021-11-07T01:34:14.947700Z",
     "iopub.status.busy": "2021-11-07T01:34:14.942486Z",
     "iopub.status.idle": "2021-11-07T01:34:14.958081Z",
     "shell.execute_reply": "2021-11-07T01:34:14.958601Z"
    },
    "papermill": {
     "duration": 0.069267,
     "end_time": "2021-11-07T01:34:14.958774",
     "exception": false,
     "start_time": "2021-11-07T01:34:14.889507",
     "status": "completed"
    },
    "tags": [
     "hide_input"
    ]
   },
   "outputs": [
    {
     "data": {
      "application/vnd.jupyter.widget-view+json": {
       "model_id": "e08aaf9206e4484699c2ec778a8f69ec",
       "version_major": 2,
       "version_minor": 0
      },
      "text/plain": [
       "HTML(value='<ul>\\n<li>(4) Issues with pythreejs with 6.4.0 - ipykernel - <a href=\"https://github.com/ipython/i…"
      ]
     },
     "metadata": {},
     "output_type": "display_data"
    }
   ],
   "source": [
    "thumbsup = issues.sort_values(\"thumbsup\", ascending=False).head(25)\n",
    "thumbsup = thumbsup[[\"title\", \"url\", \"number\", \"thumbsup\", \"repo\"]]\n",
    "\n",
    "text = []\n",
    "for ii, irow in thumbsup.iterrows():\n",
    "    itext = f\"- ({irow['thumbsup']}) {irow['title']} - {irow['repo']} - [#{irow['number']}]({irow['url']})\"\n",
    "    text.append(itext)\n",
    "text = '\\n'.join(text)\n",
    "HTML(markdown(text))"
   ]
  },
  {
   "cell_type": "markdown",
   "id": "0f67c3d8",
   "metadata": {
    "papermill": {
     "duration": 0.041699,
     "end_time": "2021-11-07T01:34:15.044025",
     "exception": false,
     "start_time": "2021-11-07T01:34:15.002326",
     "status": "completed"
    },
    "tags": []
   },
   "source": [
    "## Commenters across repositories\n",
    "\n",
    "These are commenters across all issues and pull requests in the last several days.\n",
    "These are colored by the commenter's association with the organization. For information\n",
    "about what these associations mean, [see this StackOverflow post](https://stackoverflow.com/a/28866914/1927102)."
   ]
  },
  {
   "cell_type": "code",
   "execution_count": 21,
   "id": "afae7710",
   "metadata": {
    "execution": {
     "iopub.execute_input": "2021-11-07T01:34:15.135002Z",
     "iopub.status.busy": "2021-11-07T01:34:15.134234Z",
     "iopub.status.idle": "2021-11-07T01:34:15.145337Z",
     "shell.execute_reply": "2021-11-07T01:34:15.144819Z"
    },
    "papermill": {
     "duration": 0.059719,
     "end_time": "2021-11-07T01:34:15.145485",
     "exception": false,
     "start_time": "2021-11-07T01:34:15.085766",
     "status": "completed"
    },
    "tags": [
     "remove_cell"
    ]
   },
   "outputs": [],
   "source": [
    "commentors = (\n",
    "    comments\n",
    "    .query(\"createdAt > @start_date and createdAt < @stop_date\")\n",
    "    .groupby(['org', 'repo', 'author', 'authorAssociation'])\n",
    "    .count().rename(columns={'id': 'count'})['count']\n",
    "    .reset_index()\n",
    "    .sort_values(['org', 'count'], ascending=False)\n",
    ")"
   ]
  },
  {
   "cell_type": "code",
   "execution_count": 22,
   "id": "e820f9fa",
   "metadata": {
    "execution": {
     "iopub.execute_input": "2021-11-07T01:34:15.238883Z",
     "iopub.status.busy": "2021-11-07T01:34:15.238278Z",
     "iopub.status.idle": "2021-11-07T01:34:15.263829Z",
     "shell.execute_reply": "2021-11-07T01:34:15.263304Z"
    },
    "papermill": {
     "duration": 0.075077,
     "end_time": "2021-11-07T01:34:15.263976",
     "exception": false,
     "start_time": "2021-11-07T01:34:15.188899",
     "status": "completed"
    },
    "tags": [
     "hide_input"
    ]
   },
   "outputs": [
    {
     "data": {
      "text/html": [
       "\n",
       "<div id=\"altair-viz-596a155fe98346aabb44910a445ff39c\"></div>\n",
       "<script type=\"text/javascript\">\n",
       "  (function(spec, embedOpt){\n",
       "    let outputDiv = document.currentScript.previousElementSibling;\n",
       "    if (outputDiv.id !== \"altair-viz-596a155fe98346aabb44910a445ff39c\") {\n",
       "      outputDiv = document.getElementById(\"altair-viz-596a155fe98346aabb44910a445ff39c\");\n",
       "    }\n",
       "    const paths = {\n",
       "      \"vega\": \"https://cdn.jsdelivr.net/npm//vega@5?noext\",\n",
       "      \"vega-lib\": \"https://cdn.jsdelivr.net/npm//vega-lib?noext\",\n",
       "      \"vega-lite\": \"https://cdn.jsdelivr.net/npm//vega-lite@4.8.1?noext\",\n",
       "      \"vega-embed\": \"https://cdn.jsdelivr.net/npm//vega-embed@6?noext\",\n",
       "    };\n",
       "\n",
       "    function loadScript(lib) {\n",
       "      return new Promise(function(resolve, reject) {\n",
       "        var s = document.createElement('script');\n",
       "        s.src = paths[lib];\n",
       "        s.async = true;\n",
       "        s.onload = () => resolve(paths[lib]);\n",
       "        s.onerror = () => reject(`Error loading script: ${paths[lib]}`);\n",
       "        document.getElementsByTagName(\"head\")[0].appendChild(s);\n",
       "      });\n",
       "    }\n",
       "\n",
       "    function showError(err) {\n",
       "      outputDiv.innerHTML = `<div class=\"error\" style=\"color:red;\">${err}</div>`;\n",
       "      throw err;\n",
       "    }\n",
       "\n",
       "    function displayChart(vegaEmbed) {\n",
       "      vegaEmbed(outputDiv, spec, embedOpt)\n",
       "        .catch(err => showError(`Javascript Error: ${err.message}<br>This usually means there's a typo in your chart specification. See the javascript console for the full traceback.`));\n",
       "    }\n",
       "\n",
       "    if(typeof define === \"function\" && define.amd) {\n",
       "      requirejs.config({paths});\n",
       "      require([\"vega-embed\"], displayChart, err => showError(`Error loading script: ${err.message}`));\n",
       "    } else if (typeof vegaEmbed === \"function\") {\n",
       "      displayChart(vegaEmbed);\n",
       "    } else {\n",
       "      loadScript(\"vega\")\n",
       "        .then(() => loadScript(\"vega-lite\"))\n",
       "        .then(() => loadScript(\"vega-embed\"))\n",
       "        .catch(showError)\n",
       "        .then(() => displayChart(vegaEmbed));\n",
       "    }\n",
       "  })({\"config\": {\"axisLeft\": {\"labelFontSize\": 15}, \"axisBottom\": {\"labelFontSize\": 15}}, \"hconcat\": [{\"mark\": \"bar\", \"encoding\": {\"color\": {\"type\": \"nominal\", \"field\": \"authorAssociation\", \"scale\": {\"domain\": [\"MEMBER\", \"CONTRIBUTOR\", \"COLLABORATOR\", \"NONE\"], \"range\": [\"rgb(211.82745098039214, 211.82745098039214, 211.82745098039214)\", \"rgb(166.98562091503268, 229.89803921568628, 166.98562091503268)\", \"rgb(96.37647058823529, 192.75294117647059, 96.37647058823529)\", \"rgb(0.0, 100.3921568627451, 0.0)\"]}}, \"x\": {\"type\": \"nominal\", \"field\": \"author\"}, \"y\": {\"type\": \"quantitative\", \"field\": \"count\"}}, \"title\": \"Top 50 commentors for ipython in the last 90 days\"}], \"data\": {\"name\": \"data-81767485ebe6e611f5aad8bfd5787395\"}, \"$schema\": \"https://vega.github.io/schema/vega-lite/v4.8.1.json\", \"datasets\": {\"data-81767485ebe6e611f5aad8bfd5787395\": [{\"author\": \"Carreau\", \"count\": 118, \"authorAssociation\": \"MEMBER\"}, {\"author\": \"MrMino\", \"count\": 85, \"authorAssociation\": \"MEMBER\"}, {\"author\": \"minrk\", \"count\": 65, \"authorAssociation\": \"MEMBER\"}, {\"author\": \"blink1073\", \"count\": 16, \"authorAssociation\": \"MEMBER\"}, {\"author\": \"ccordoba12\", \"count\": 15, \"authorAssociation\": \"MEMBER\"}, {\"author\": \"martinRenou\", \"count\": 12, \"authorAssociation\": \"CONTRIBUTOR\"}, {\"author\": \"frenzymadness\", \"count\": 9, \"authorAssociation\": \"CONTRIBUTOR\"}, {\"author\": \"Kojoley\", \"count\": 8, \"authorAssociation\": \"COLLABORATOR\"}, {\"author\": \"kloczek\", \"count\": 7, \"authorAssociation\": \"NONE\"}, {\"author\": \"lukas-koschmieder\", \"count\": 7, \"authorAssociation\": \"NONE\"}, {\"author\": \"alexmojaki\", \"count\": 7, \"authorAssociation\": \"CONTRIBUTOR\"}, {\"author\": \"tacaswell\", \"count\": 6, \"authorAssociation\": \"CONTRIBUTOR\"}, {\"author\": \"agallenne\", \"count\": 6, \"authorAssociation\": \"NONE\"}, {\"author\": \"sivel\", \"count\": 5, \"authorAssociation\": \"NONE\"}, {\"author\": \"sgaist\", \"count\": 5, \"authorAssociation\": \"CONTRIBUTOR\"}, {\"author\": \"meeseeksdev\", \"count\": 5, \"authorAssociation\": \"CONTRIBUTOR\"}, {\"author\": \"fcollonval\", \"count\": 5, \"authorAssociation\": \"CONTRIBUTOR\"}, {\"author\": \"aplamada\", \"count\": 5, \"authorAssociation\": \"NONE\"}, {\"author\": \"madbird1304\", \"count\": 5, \"authorAssociation\": \"CONTRIBUTOR\"}, {\"author\": \"L0uisJ0shua\", \"count\": 4, \"authorAssociation\": \"NONE\"}, {\"author\": \"carlosperate\", \"count\": 4, \"authorAssociation\": \"NONE\"}, {\"author\": \"meysam81\", \"count\": 4, \"authorAssociation\": \"CONTRIBUTOR\"}, {\"author\": \"matthewfeickert\", \"count\": 4, \"authorAssociation\": \"CONTRIBUTOR\"}, {\"author\": \"takluyver\", \"count\": 4, \"authorAssociation\": \"MEMBER\"}, {\"author\": \"SylvainCorlay\", \"count\": 4, \"authorAssociation\": \"MEMBER\"}, {\"author\": \"bialix\", \"count\": 3, \"authorAssociation\": \"NONE\"}, {\"author\": \"davidbrochart\", \"count\": 3, \"authorAssociation\": \"COLLABORATOR\"}, {\"author\": \"jbedorf\", \"count\": 3, \"authorAssociation\": \"NONE\"}, {\"author\": \"hroncok\", \"count\": 3, \"authorAssociation\": \"CONTRIBUTOR\"}, {\"author\": \"GF-Huang\", \"count\": 3, \"authorAssociation\": \"NONE\"}, {\"author\": \"AaronWatters\", \"count\": 3, \"authorAssociation\": \"NONE\"}, {\"author\": \"kevin-bates\", \"count\": 3, \"authorAssociation\": \"NONE\"}, {\"author\": \"bennahugo\", \"count\": 3, \"authorAssociation\": \"NONE\"}, {\"author\": \"helloooideeeeea\", \"count\": 3, \"authorAssociation\": \"NONE\"}, {\"author\": \"aviamir\", \"count\": 3, \"authorAssociation\": \"NONE\"}, {\"author\": \"rayosborn\", \"count\": 3, \"authorAssociation\": \"CONTRIBUTOR\"}, {\"author\": \"JohanMabille\", \"count\": 3, \"authorAssociation\": \"CONTRIBUTOR\"}, {\"author\": \"prius\", \"count\": 3, \"authorAssociation\": \"NONE\"}, {\"author\": \"jtpio\", \"count\": 2, \"authorAssociation\": \"NONE\"}, {\"author\": \"rxhh\", \"count\": 2, \"authorAssociation\": \"NONE\"}, {\"author\": \"rmorshea\", \"count\": 2, \"authorAssociation\": \"COLLABORATOR\"}, {\"author\": \"ianh\", \"count\": 2, \"authorAssociation\": \"NONE\"}, {\"author\": \"jakirkham\", \"count\": 2, \"authorAssociation\": \"CONTRIBUTOR\"}, {\"author\": \"stonebig\", \"count\": 2, \"authorAssociation\": \"CONTRIBUTOR\"}, {\"author\": \"sylvain-bougnoux\", \"count\": 2, \"authorAssociation\": \"NONE\"}, {\"author\": \"pijyoi\", \"count\": 2, \"authorAssociation\": \"CONTRIBUTOR\"}, {\"author\": \"umairanis03\", \"count\": 2, \"authorAssociation\": \"NONE\"}, {\"author\": \"paw-lu\", \"count\": 2, \"authorAssociation\": \"CONTRIBUTOR\"}, {\"author\": \"mlucool\", \"count\": 2, \"authorAssociation\": \"NONE\"}, {\"author\": \"stukowski\", \"count\": 2, \"authorAssociation\": \"CONTRIBUTOR\"}]}}, {\"mode\": \"vega-lite\"});\n",
       "</script>"
      ],
      "text/plain": [
       "alt.HConcatChart(...)"
      ]
     },
     "execution_count": 22,
     "metadata": {},
     "output_type": "execute_result"
    }
   ],
   "source": [
    "n_plot = 50\n",
    "charts = []\n",
    "for ii, (iorg, idata) in enumerate(commentors.groupby(['org'])):\n",
    "    title = f\"Top {n_plot} commentors for {iorg} in the last {n_days} days\"\n",
    "    idata = idata.groupby('author', as_index=False).agg({'count': 'sum', 'authorAssociation': 'first'})\n",
    "    idata = idata.sort_values('count', ascending=False).head(n_plot)\n",
    "    ch = alt.Chart(data=idata.head(n_plot), title=title).mark_bar().encode(\n",
    "        x='author',\n",
    "        y='count',\n",
    "        color=alt.Color('authorAssociation', scale=alt.Scale(domain=author_types, range=author_colors))\n",
    "    )\n",
    "    charts.append(ch)\n",
    "alt.hconcat(*charts)"
   ]
  },
  {
   "cell_type": "markdown",
   "id": "1c6f1a57",
   "metadata": {
    "papermill": {
     "duration": 0.042526,
     "end_time": "2021-11-07T01:34:15.349425",
     "exception": false,
     "start_time": "2021-11-07T01:34:15.306899",
     "status": "completed"
    },
    "tags": []
   },
   "source": [
    "## First responders\n",
    "\n",
    "First responders are the first people to respond to a new issue in one of the repositories.\n",
    "The following plots show first responders for recently-created issues."
   ]
  },
  {
   "cell_type": "code",
   "execution_count": 23,
   "id": "796c55ff",
   "metadata": {
    "execution": {
     "iopub.execute_input": "2021-11-07T01:34:15.444981Z",
     "iopub.status.busy": "2021-11-07T01:34:15.444274Z",
     "iopub.status.idle": "2021-11-07T01:34:15.612266Z",
     "shell.execute_reply": "2021-11-07T01:34:15.612788Z"
    },
    "papermill": {
     "duration": 0.219145,
     "end_time": "2021-11-07T01:34:15.612988",
     "exception": false,
     "start_time": "2021-11-07T01:34:15.393843",
     "status": "completed"
    },
    "tags": [
     "remove_cell"
    ]
   },
   "outputs": [],
   "source": [
    "first_comments = []\n",
    "for (org, repo, issue_id), i_comments in comments.groupby(['org', 'repo', 'id']):\n",
    "    ix_min = pd.to_datetime(i_comments['createdAt']).idxmin()\n",
    "    first_comment = i_comments.loc[ix_min]\n",
    "    if isinstance(first_comment, pd.DataFrame):\n",
    "        first_comment = first_comment.iloc[0]\n",
    "    first_comments.append(first_comment)\n",
    "first_comments = pd.concat(first_comments, axis=1).T\n",
    "\n",
    "# Make up counts for viz\n",
    "first_responder_counts = first_comments.groupby(['org', 'author', 'authorAssociation'], as_index=False).\\\n",
    "    count().rename(columns={'id': 'n_first_responses'}).sort_values(['org', 'n_first_responses'], ascending=False)\n"
   ]
  },
  {
   "cell_type": "code",
   "execution_count": 24,
   "id": "4533ad28",
   "metadata": {
    "execution": {
     "iopub.execute_input": "2021-11-07T01:34:15.704744Z",
     "iopub.status.busy": "2021-11-07T01:34:15.704082Z",
     "iopub.status.idle": "2021-11-07T01:34:15.727215Z",
     "shell.execute_reply": "2021-11-07T01:34:15.726700Z"
    },
    "papermill": {
     "duration": 0.070486,
     "end_time": "2021-11-07T01:34:15.727355",
     "exception": false,
     "start_time": "2021-11-07T01:34:15.656869",
     "status": "completed"
    },
    "tags": [
     "hide_input"
    ]
   },
   "outputs": [
    {
     "data": {
      "text/html": [
       "\n",
       "<div id=\"altair-viz-507103819bb44dd995dd6370da1e2c85\"></div>\n",
       "<script type=\"text/javascript\">\n",
       "  (function(spec, embedOpt){\n",
       "    let outputDiv = document.currentScript.previousElementSibling;\n",
       "    if (outputDiv.id !== \"altair-viz-507103819bb44dd995dd6370da1e2c85\") {\n",
       "      outputDiv = document.getElementById(\"altair-viz-507103819bb44dd995dd6370da1e2c85\");\n",
       "    }\n",
       "    const paths = {\n",
       "      \"vega\": \"https://cdn.jsdelivr.net/npm//vega@5?noext\",\n",
       "      \"vega-lib\": \"https://cdn.jsdelivr.net/npm//vega-lib?noext\",\n",
       "      \"vega-lite\": \"https://cdn.jsdelivr.net/npm//vega-lite@4.8.1?noext\",\n",
       "      \"vega-embed\": \"https://cdn.jsdelivr.net/npm//vega-embed@6?noext\",\n",
       "    };\n",
       "\n",
       "    function loadScript(lib) {\n",
       "      return new Promise(function(resolve, reject) {\n",
       "        var s = document.createElement('script');\n",
       "        s.src = paths[lib];\n",
       "        s.async = true;\n",
       "        s.onload = () => resolve(paths[lib]);\n",
       "        s.onerror = () => reject(`Error loading script: ${paths[lib]}`);\n",
       "        document.getElementsByTagName(\"head\")[0].appendChild(s);\n",
       "      });\n",
       "    }\n",
       "\n",
       "    function showError(err) {\n",
       "      outputDiv.innerHTML = `<div class=\"error\" style=\"color:red;\">${err}</div>`;\n",
       "      throw err;\n",
       "    }\n",
       "\n",
       "    function displayChart(vegaEmbed) {\n",
       "      vegaEmbed(outputDiv, spec, embedOpt)\n",
       "        .catch(err => showError(`Javascript Error: ${err.message}<br>This usually means there's a typo in your chart specification. See the javascript console for the full traceback.`));\n",
       "    }\n",
       "\n",
       "    if(typeof define === \"function\" && define.amd) {\n",
       "      requirejs.config({paths});\n",
       "      require([\"vega-embed\"], displayChart, err => showError(`Error loading script: ${err.message}`));\n",
       "    } else if (typeof vegaEmbed === \"function\") {\n",
       "      displayChart(vegaEmbed);\n",
       "    } else {\n",
       "      loadScript(\"vega\")\n",
       "        .then(() => loadScript(\"vega-lite\"))\n",
       "        .then(() => loadScript(\"vega-embed\"))\n",
       "        .catch(showError)\n",
       "        .then(() => displayChart(vegaEmbed));\n",
       "    }\n",
       "  })({\"config\": {\"axisLeft\": {\"labelFontSize\": 15}, \"axisBottom\": {\"labelFontSize\": 15}}, \"data\": {\"name\": \"data-5daaf576c9ba42bbf7137959dc0443d2\"}, \"mark\": \"bar\", \"encoding\": {\"color\": {\"type\": \"nominal\", \"field\": \"authorAssociation\", \"scale\": {\"domain\": [\"MEMBER\", \"CONTRIBUTOR\", \"COLLABORATOR\", \"NONE\"], \"range\": [\"rgb(211.82745098039214, 211.82745098039214, 211.82745098039214)\", \"rgb(166.98562091503268, 229.89803921568628, 166.98562091503268)\", \"rgb(96.37647058823529, 192.75294117647059, 96.37647058823529)\", \"rgb(0.0, 100.3921568627451, 0.0)\"]}}, \"x\": {\"type\": \"nominal\", \"field\": \"author\"}, \"y\": {\"type\": \"quantitative\", \"field\": \"n_first_responses\"}}, \"title\": \"Top 50 first responders for ipython in the last 90 days\", \"$schema\": \"https://vega.github.io/schema/vega-lite/v4.8.1.json\", \"datasets\": {\"data-5daaf576c9ba42bbf7137959dc0443d2\": [{\"author\": \"Carreau\", \"n_first_responses\": 50, \"authorAssociation\": \"MEMBER\"}, {\"author\": \"MrMino\", \"n_first_responses\": 37, \"authorAssociation\": \"MEMBER\"}, {\"author\": \"minrk\", \"n_first_responses\": 34, \"authorAssociation\": \"MEMBER\"}, {\"author\": \"blink1073\", \"n_first_responses\": 7, \"authorAssociation\": \"MEMBER\"}, {\"author\": \"Kojoley\", \"n_first_responses\": 4, \"authorAssociation\": \"COLLABORATOR\"}, {\"author\": \"jakirkham\", \"n_first_responses\": 3, \"authorAssociation\": \"CONTRIBUTOR\"}, {\"author\": \"JohanMabille\", \"n_first_responses\": 3, \"authorAssociation\": \"CONTRIBUTOR\"}, {\"author\": \"takluyver\", \"n_first_responses\": 3, \"authorAssociation\": \"MEMBER\"}, {\"author\": \"martinRenou\", \"n_first_responses\": 3, \"authorAssociation\": \"COLLABORATOR\"}, {\"author\": \"fcollonval\", \"n_first_responses\": 3, \"authorAssociation\": \"CONTRIBUTOR\"}, {\"author\": \"alexmojaki\", \"n_first_responses\": 2, \"authorAssociation\": \"CONTRIBUTOR\"}, {\"author\": \"madbird1304\", \"n_first_responses\": 2, \"authorAssociation\": \"CONTRIBUTOR\"}, {\"author\": \"meysam81\", \"n_first_responses\": 2, \"authorAssociation\": \"CONTRIBUTOR\"}, {\"author\": \"rmorshea\", \"n_first_responses\": 2, \"authorAssociation\": \"COLLABORATOR\"}, {\"author\": \"A5rocks\", \"n_first_responses\": 2, \"authorAssociation\": \"NONE\"}, {\"author\": \"sivel\", \"n_first_responses\": 2, \"authorAssociation\": \"NONE\"}, {\"author\": \"tacaswell\", \"n_first_responses\": 2, \"authorAssociation\": \"CONTRIBUTOR\"}, {\"author\": \"rxhh\", \"n_first_responses\": 1, \"authorAssociation\": \"NONE\"}, {\"author\": \"stuartthomas25\", \"n_first_responses\": 1, \"authorAssociation\": \"NONE\"}, {\"author\": \"jtpio\", \"n_first_responses\": 1, \"authorAssociation\": \"NONE\"}, {\"author\": \"justineuro\", \"n_first_responses\": 1, \"authorAssociation\": \"NONE\"}, {\"author\": \"kloczek\", \"n_first_responses\": 1, \"authorAssociation\": \"NONE\"}, {\"author\": \"lukas-koschmieder\", \"n_first_responses\": 1, \"authorAssociation\": \"NONE\"}, {\"author\": \"tommydevitt\", \"n_first_responses\": 1, \"authorAssociation\": \"NONE\"}, {\"author\": \"matthewfeickert\", \"n_first_responses\": 1, \"authorAssociation\": \"CONTRIBUTOR\"}, {\"author\": \"jrabinow\", \"n_first_responses\": 1, \"authorAssociation\": \"NONE\"}, {\"author\": \"strawhat54\", \"n_first_responses\": 1, \"authorAssociation\": \"CONTRIBUTOR\"}, {\"author\": \"stonebig\", \"n_first_responses\": 1, \"authorAssociation\": \"CONTRIBUTOR\"}, {\"author\": \"nav1s\", \"n_first_responses\": 1, \"authorAssociation\": \"NONE\"}, {\"author\": \"opoplawski\", \"n_first_responses\": 1, \"authorAssociation\": \"NONE\"}, {\"author\": \"sgaist\", \"n_first_responses\": 1, \"authorAssociation\": \"CONTRIBUTOR\"}, {\"author\": \"russelljjarvis\", \"n_first_responses\": 1, \"authorAssociation\": \"CONTRIBUTOR\"}, {\"author\": \"gpotter2\", \"n_first_responses\": 1, \"authorAssociation\": \"CONTRIBUTOR\"}, {\"author\": \"jasongrout\", \"n_first_responses\": 1, \"authorAssociation\": \"MEMBER\"}, {\"author\": \"ianh\", \"n_first_responses\": 1, \"authorAssociation\": \"NONE\"}, {\"author\": \"DonJayamanne\", \"n_first_responses\": 1, \"authorAssociation\": \"NONE\"}, {\"author\": \"L0uisJ0shua\", \"n_first_responses\": 1, \"authorAssociation\": \"NONE\"}, {\"author\": \"MRCWirtz\", \"n_first_responses\": 1, \"authorAssociation\": \"CONTRIBUTOR\"}, {\"author\": \"ManPython\", \"n_first_responses\": 1, \"authorAssociation\": \"NONE\"}, {\"author\": \"Mithil467\", \"n_first_responses\": 1, \"authorAssociation\": \"CONTRIBUTOR\"}, {\"author\": \"QuLogic\", \"n_first_responses\": 1, \"authorAssociation\": \"CONTRIBUTOR\"}, {\"author\": \"SylvainCorlay\", \"n_first_responses\": 1, \"authorAssociation\": \"MEMBER\"}, {\"author\": \"WoLpH\", \"n_first_responses\": 1, \"authorAssociation\": \"CONTRIBUTOR\"}, {\"author\": \"bialix\", \"n_first_responses\": 1, \"authorAssociation\": \"NONE\"}, {\"author\": \"blackary\", \"n_first_responses\": 1, \"authorAssociation\": \"NONE\"}, {\"author\": \"bollwyvl\", \"n_first_responses\": 1, \"authorAssociation\": \"CONTRIBUTOR\"}, {\"author\": \"bucknerns\", \"n_first_responses\": 1, \"authorAssociation\": \"NONE\"}, {\"author\": \"ccordoba12\", \"n_first_responses\": 1, \"authorAssociation\": \"MEMBER\"}, {\"author\": \"ccw630\", \"n_first_responses\": 1, \"authorAssociation\": \"NONE\"}, {\"author\": \"costrouc\", \"n_first_responses\": 1, \"authorAssociation\": \"NONE\"}]}}, {\"mode\": \"vega-lite\"});\n",
       "</script>"
      ],
      "text/plain": [
       "alt.Chart(...)"
      ]
     },
     "execution_count": 24,
     "metadata": {},
     "output_type": "execute_result"
    }
   ],
   "source": [
    "n_plot = 50\n",
    "\n",
    "title = f\"Top {n_plot} first responders for {github_org} in the last {n_days} days\"\n",
    "idata = first_responder_counts.groupby('author', as_index=False).agg({'n_first_responses': 'sum', 'authorAssociation': 'first'})\n",
    "idata = idata.sort_values('n_first_responses', ascending=False).head(n_plot)\n",
    "ch = alt.Chart(data=idata.head(n_plot), title=title).mark_bar().encode(\n",
    "    x='author',\n",
    "    y='n_first_responses',\n",
    "    color=alt.Color('authorAssociation', scale=alt.Scale(domain=author_types, range=author_colors))\n",
    ")\n",
    "ch"
   ]
  },
  {
   "cell_type": "markdown",
   "id": "9280a2b4",
   "metadata": {
    "papermill": {
     "duration": 0.053061,
     "end_time": "2021-11-07T01:34:15.826401",
     "exception": false,
     "start_time": "2021-11-07T01:34:15.773340",
     "status": "completed"
    },
    "tags": []
   },
   "source": [
    "## Recent activity\n",
    "\n",
    "### A list of merged PRs by project\n",
    "\n",
    "Below is a tabbed readout of recently-merged PRs. Check out the title to get an idea for what they\n",
    "implemented, and be sure to thank the PR author for their hard work!"
   ]
  },
  {
   "cell_type": "code",
   "execution_count": 25,
   "id": "c387a471",
   "metadata": {
    "execution": {
     "iopub.execute_input": "2021-11-07T01:34:15.922972Z",
     "iopub.status.busy": "2021-11-07T01:34:15.922360Z",
     "iopub.status.idle": "2021-11-07T01:34:16.082039Z",
     "shell.execute_reply": "2021-11-07T01:34:16.081309Z"
    },
    "papermill": {
     "duration": 0.210911,
     "end_time": "2021-11-07T01:34:16.082197",
     "exception": false,
     "start_time": "2021-11-07T01:34:15.871286",
     "status": "completed"
    },
    "tags": [
     "hide_input"
    ]
   },
   "outputs": [
    {
     "data": {
      "application/vnd.jupyter.widget-view+json": {
       "model_id": "2dfa266cfbfd4250910cd08f9bc10902",
       "version_major": 2,
       "version_minor": 0
      },
      "text/plain": [
       "Tab(children=(HTML(value='<h4>Closed PRs for repo: <a href=\"https://github.com/ipython/ipykernel\">ipython/ipyk…"
      ]
     },
     "metadata": {},
     "output_type": "display_data"
    }
   ],
   "source": [
    "tabs = widgets.Tab(children=[])\n",
    "\n",
    "for ii, ((org, repo), imerged) in enumerate(merged.query(\"repo in @use_repos\").groupby(['org', 'repo'])):\n",
    "    merged_by = {}\n",
    "    pr_by = {}\n",
    "    issue_md = []\n",
    "    issue_md.append(f\"#### Closed PRs for repo: [{org}/{repo}](https://github.com/{github_org}/{repo})\")\n",
    "    issue_md.append(\"\")\n",
    "    issue_md.append(f\"##### \")\n",
    "\n",
    "    for _, ipr in imerged.iterrows():\n",
    "        user_name = ipr['author']\n",
    "        user_url = author_url(user_name)\n",
    "        pr_number = ipr['number']\n",
    "        pr_html = ipr['url']\n",
    "        pr_title = ipr['title']\n",
    "        pr_closedby = ipr['mergedBy']\n",
    "        pr_closedby_url = f\"https://github.com/{pr_closedby}\"\n",
    "        if user_name not in pr_by:\n",
    "            pr_by[user_name] = 1\n",
    "        else:\n",
    "            pr_by[user_name] += 1\n",
    "\n",
    "        if pr_closedby not in merged_by:\n",
    "            merged_by[pr_closedby] = 1\n",
    "        else:\n",
    "            merged_by[pr_closedby] += 1\n",
    "        text = f\"* [(#{pr_number})]({pr_html}): _{pr_title}_ by **[@{user_name}]({user_url})** merged by **[@{pr_closedby}]({pr_closedby_url})**\"\n",
    "        issue_md.append(text)\n",
    "    \n",
    "    issue_md.append('')\n",
    "    markdown_html = markdown('\\n'.join(issue_md))\n",
    "\n",
    "    children = list(tabs.children)\n",
    "    children.append(HTML(markdown_html))\n",
    "    tabs.children = tuple(children)\n",
    "    tabs.set_title(ii, repo)\n",
    "tabs"
   ]
  },
  {
   "cell_type": "markdown",
   "id": "b5228069",
   "metadata": {
    "papermill": {
     "duration": 0.044575,
     "end_time": "2021-11-07T01:34:16.172104",
     "exception": false,
     "start_time": "2021-11-07T01:34:16.127529",
     "status": "completed"
    },
    "tags": []
   },
   "source": [
    "### A list of recent issues\n",
    "\n",
    "Below is a list of issues with recent activity in each repository. If they seem of interest\n",
    "to you, click on their links and jump in to participate!"
   ]
  },
  {
   "cell_type": "code",
   "execution_count": 26,
   "id": "eaf787ec",
   "metadata": {
    "execution": {
     "iopub.execute_input": "2021-11-07T01:34:16.267078Z",
     "iopub.status.busy": "2021-11-07T01:34:16.266486Z",
     "iopub.status.idle": "2021-11-07T01:34:16.274925Z",
     "shell.execute_reply": "2021-11-07T01:34:16.274409Z"
    },
    "papermill": {
     "duration": 0.059351,
     "end_time": "2021-11-07T01:34:16.275068",
     "exception": false,
     "start_time": "2021-11-07T01:34:16.215717",
     "status": "completed"
    },
    "tags": [
     "remove_cell"
    ]
   },
   "outputs": [],
   "source": [
    "# Add comment count data to issues and PRs\n",
    "comment_counts = (\n",
    "    comments\n",
    "    .query(\"createdAt > @start_date and createdAt < @stop_date\")\n",
    "    .groupby(['org', 'repo', 'id'])\n",
    "    .count().iloc[:, 0].to_frame()\n",
    ")\n",
    "comment_counts.columns = ['n_comments']\n",
    "comment_counts = comment_counts.reset_index()"
   ]
  },
  {
   "cell_type": "code",
   "execution_count": 27,
   "id": "113d2ad6",
   "metadata": {
    "execution": {
     "iopub.execute_input": "2021-11-07T01:34:16.398062Z",
     "iopub.status.busy": "2021-11-07T01:34:16.380053Z",
     "iopub.status.idle": "2021-11-07T01:34:16.535371Z",
     "shell.execute_reply": "2021-11-07T01:34:16.521336Z"
    },
    "papermill": {
     "duration": 0.215972,
     "end_time": "2021-11-07T01:34:16.535526",
     "exception": false,
     "start_time": "2021-11-07T01:34:16.319554",
     "status": "completed"
    },
    "tags": [
     "hide_input"
    ],
    "toc-hr-collapsed": false
   },
   "outputs": [
    {
     "data": {
      "text/markdown": [
       "Here are the top 5 active issues in each repository in the last 90 days"
      ],
      "text/plain": [
       "<IPython.core.display.Markdown object>"
      ]
     },
     "metadata": {},
     "output_type": "display_data"
    },
    {
     "data": {
      "application/vnd.jupyter.widget-view+json": {
       "model_id": "fb6d68858eae4ce58d1f36122f2f3501",
       "version_major": 2,
       "version_minor": 0
      },
      "text/plain": [
       "Tab(children=(HTML(value='<h5><a href=\"https://github.com/ipython/ipykernel\">ipython/ipykernel</a></h5>\\n<ul>\\…"
      ]
     },
     "metadata": {},
     "output_type": "display_data"
    }
   ],
   "source": [
    "n_plot = 5\n",
    "tabs = widgets.Tab(children=[])\n",
    "\n",
    "for ii, (repo, i_issues) in enumerate(comment_counts.query(\"repo in @use_repos\").groupby('repo')):\n",
    "    \n",
    "    issue_md = []\n",
    "    issue_md.append(\"\")\n",
    "    issue_md.append(f\"##### [{github_org}/{repo}](https://github.com/{github_org}/{repo})\")\n",
    "\n",
    "    top_issues = i_issues.sort_values('n_comments', ascending=False).head(n_plot)\n",
    "    top_issue_list = pd.merge(issues, top_issues, left_on=['org', 'repo', 'id'], right_on=['org', 'repo', 'id'])\n",
    "    for _, issue in top_issue_list.sort_values('n_comments', ascending=False).head(n_plot).iterrows():\n",
    "        user_name = issue['author']\n",
    "        user_url = author_url(user_name)\n",
    "        issue_number = issue['number']\n",
    "        issue_html = issue['url']\n",
    "        issue_title = issue['title']\n",
    "\n",
    "        text = f\"* [(#{issue_number})]({issue_html}): _{issue_title}_ by **[@{user_name}]({user_url})**\"\n",
    "        issue_md.append(text)\n",
    "\n",
    "    issue_md.append('')\n",
    "    md_html = HTML(markdown('\\n'.join(issue_md)))\n",
    "\n",
    "    children = list(tabs.children)\n",
    "    children.append(HTML(markdown('\\n'.join(issue_md))))\n",
    "    tabs.children = tuple(children)\n",
    "    tabs.set_title(ii, repo)\n",
    "    \n",
    "display(Markdown(f\"Here are the top {n_plot} active issues in each repository in the last {n_days} days\"))\n",
    "display(tabs)"
   ]
  }
 ],
 "metadata": {
  "kernelspec": {
   "display_name": "Python 3 (ipykernel)",
   "language": "python",
   "name": "python3"
  },
  "language_info": {
   "codemirror_mode": {
    "name": "ipython",
    "version": 3
   },
   "file_extension": ".py",
   "mimetype": "text/x-python",
   "name": "python",
   "nbconvert_exporter": "python",
   "pygments_lexer": "ipython3",
   "version": "3.7.12"
  },
  "papermill": {
   "default_parameters": {},
   "duration": 6.918862,
   "end_time": "2021-11-07T01:34:16.994629",
   "environment_variables": {},
   "exception": null,
   "input_path": "./templates/org_report.ipynb",
   "output_path": "generated/book/ipython.ipynb",
   "parameters": {
    "github_org": "ipython",
    "n_days": 90
   },
   "start_time": "2021-11-07T01:34:10.075767",
   "version": "2.3.3"
  },
  "widgets": {
   "application/vnd.jupyter.widget-state+json": {
    "state": {
     "0aba5acf6dd349e6980f3a8b012e9a23": {
      "model_module": "@jupyter-widgets/controls",
      "model_module_version": "1.5.0",
      "model_name": "DescriptionStyleModel",
      "state": {
       "_model_module": "@jupyter-widgets/controls",
       "_model_module_version": "1.5.0",
       "_model_name": "DescriptionStyleModel",
       "_view_count": null,
       "_view_module": "@jupyter-widgets/base",
       "_view_module_version": "1.2.0",
       "_view_name": "StyleView",
       "description_width": ""
      }
     },
     "11c9573f146c49148479aa8b47f42fa2": {
      "model_module": "@jupyter-widgets/base",
      "model_module_version": "1.2.0",
      "model_name": "LayoutModel",
      "state": {
       "_model_module": "@jupyter-widgets/base",
       "_model_module_version": "1.2.0",
       "_model_name": "LayoutModel",
       "_view_count": null,
       "_view_module": "@jupyter-widgets/base",
       "_view_module_version": "1.2.0",
       "_view_name": "LayoutView",
       "align_content": null,
       "align_items": null,
       "align_self": null,
       "border": null,
       "bottom": null,
       "display": null,
       "flex": null,
       "flex_flow": null,
       "grid_area": null,
       "grid_auto_columns": null,
       "grid_auto_flow": null,
       "grid_auto_rows": null,
       "grid_column": null,
       "grid_gap": null,
       "grid_row": null,
       "grid_template_areas": null,
       "grid_template_columns": null,
       "grid_template_rows": null,
       "height": null,
       "justify_content": null,
       "justify_items": null,
       "left": null,
       "margin": null,
       "max_height": null,
       "max_width": null,
       "min_height": null,
       "min_width": null,
       "object_fit": null,
       "object_position": null,
       "order": null,
       "overflow": null,
       "overflow_x": null,
       "overflow_y": null,
       "padding": null,
       "right": null,
       "top": null,
       "visibility": null,
       "width": null
      }
     },
     "12ab6869e2a64255a3cea8fe448a788d": {
      "model_module": "@jupyter-widgets/controls",
      "model_module_version": "1.5.0",
      "model_name": "DescriptionStyleModel",
      "state": {
       "_model_module": "@jupyter-widgets/controls",
       "_model_module_version": "1.5.0",
       "_model_name": "DescriptionStyleModel",
       "_view_count": null,
       "_view_module": "@jupyter-widgets/base",
       "_view_module_version": "1.2.0",
       "_view_name": "StyleView",
       "description_width": ""
      }
     },
     "1c4898af38e942afb754a2bf11c64fd4": {
      "model_module": "@jupyter-widgets/controls",
      "model_module_version": "1.5.0",
      "model_name": "HTMLModel",
      "state": {
       "_dom_classes": [],
       "_model_module": "@jupyter-widgets/controls",
       "_model_module_version": "1.5.0",
       "_model_name": "HTMLModel",
       "_view_count": null,
       "_view_module": "@jupyter-widgets/controls",
       "_view_module_version": "1.5.0",
       "_view_name": "HTMLView",
       "description": "",
       "description_tooltip": null,
       "layout": "IPY_MODEL_5014bc2e98b841b9a5ae1d0c0cd26975",
       "placeholder": "​",
       "style": "IPY_MODEL_ec786e67ecf6496196d13be0fe727065",
       "value": "<h4>Closed PRs for repo: <a href=\"https://github.com/ipython/traitlets\">ipython/traitlets</a></h4>\n<h5></h5>\n<ul>\n<li><a href=\"https://github.com/ipython/traitlets/pull/683\">(#683)</a>: <em>Use codecov Github action v2</em> by <strong><a href=\"https://github.com/takluyver\">@takluyver</a></strong> merged by <strong><a href=\"https://github.com/Carreau\">@Carreau</a></strong></li>\n<li><a href=\"https://github.com/ipython/traitlets/pull/681\">(#681)</a>: <em>changelog for 5.1.1</em> by <strong><a href=\"https://github.com/minrk\">@minrk</a></strong> merged by <strong><a href=\"https://github.com/Carreau\">@Carreau</a></strong></li>\n<li><a href=\"https://github.com/ipython/traitlets/pull/680\">(#680)</a>: <em>publish releases from GHA</em> by <strong><a href=\"https://github.com/minrk\">@minrk</a></strong> merged by <strong><a href=\"https://github.com/minrk\">@minrk</a></strong></li>\n<li><a href=\"https://github.com/ipython/traitlets/pull/679\">(#679)</a>: <em>test on 3.10</em> by <strong><a href=\"https://github.com/minrk\">@minrk</a></strong> merged by <strong><a href=\"https://github.com/minrk\">@minrk</a></strong></li>\n<li><a href=\"https://github.com/ipython/traitlets/pull/678\">(#678)</a>: <em>FIX: account for changes in py310</em> by <strong><a href=\"https://github.com/tacaswell\">@tacaswell</a></strong> merged by <strong><a href=\"https://github.com/minrk\">@minrk</a></strong></li>\n<li><a href=\"https://github.com/ipython/traitlets/pull/675\">(#675)</a>: <em>Revert \"Fix string assertion for python3.10\"</em> by <strong><a href=\"https://github.com/mgorny\">@mgorny</a></strong> merged by <strong><a href=\"https://github.com/minrk\">@minrk</a></strong></li>\n<li><a href=\"https://github.com/ipython/traitlets/pull/674\">(#674)</a>: <em>update changelog</em> by <strong><a href=\"https://github.com/Carreau\">@Carreau</a></strong> merged by <strong><a href=\"https://github.com/Carreau\">@Carreau</a></strong></li>\n<li><a href=\"https://github.com/ipython/traitlets/pull/673\">(#673)</a>: <em>Remove most of the reminder of IPython_genutils</em> by <strong><a href=\"https://github.com/Carreau\">@Carreau</a></strong> merged by <strong><a href=\"https://github.com/Carreau\">@Carreau</a></strong></li>\n<li><a href=\"https://github.com/ipython/traitlets/pull/670\">(#670)</a>: <em>Fixes #668 ( passing a single element for a list on CLI)</em> by <strong><a href=\"https://github.com/Carreau\">@Carreau</a></strong> merged by <strong><a href=\"https://github.com/Carreau\">@Carreau</a></strong></li>\n</ul>"
      }
     },
     "222ffec885004e4bb87e91108d2b544e": {
      "model_module": "@jupyter-widgets/base",
      "model_module_version": "1.2.0",
      "model_name": "LayoutModel",
      "state": {
       "_model_module": "@jupyter-widgets/base",
       "_model_module_version": "1.2.0",
       "_model_name": "LayoutModel",
       "_view_count": null,
       "_view_module": "@jupyter-widgets/base",
       "_view_module_version": "1.2.0",
       "_view_name": "LayoutView",
       "align_content": null,
       "align_items": null,
       "align_self": null,
       "border": null,
       "bottom": null,
       "display": null,
       "flex": null,
       "flex_flow": null,
       "grid_area": null,
       "grid_auto_columns": null,
       "grid_auto_flow": null,
       "grid_auto_rows": null,
       "grid_column": null,
       "grid_gap": null,
       "grid_row": null,
       "grid_template_areas": null,
       "grid_template_columns": null,
       "grid_template_rows": null,
       "height": null,
       "justify_content": null,
       "justify_items": null,
       "left": null,
       "margin": null,
       "max_height": null,
       "max_width": null,
       "min_height": null,
       "min_width": null,
       "object_fit": null,
       "object_position": null,
       "order": null,
       "overflow": null,
       "overflow_x": null,
       "overflow_y": null,
       "padding": null,
       "right": null,
       "top": null,
       "visibility": null,
       "width": null
      }
     },
     "29363748c2b14725ad642e68ced1a90a": {
      "model_module": "@jupyter-widgets/controls",
      "model_module_version": "1.5.0",
      "model_name": "DescriptionStyleModel",
      "state": {
       "_model_module": "@jupyter-widgets/controls",
       "_model_module_version": "1.5.0",
       "_model_name": "DescriptionStyleModel",
       "_view_count": null,
       "_view_module": "@jupyter-widgets/base",
       "_view_module_version": "1.2.0",
       "_view_name": "StyleView",
       "description_width": ""
      }
     },
     "2a2cb406c6bd47ffad2a44b61cbbd19f": {
      "model_module": "@jupyter-widgets/controls",
      "model_module_version": "1.5.0",
      "model_name": "DescriptionStyleModel",
      "state": {
       "_model_module": "@jupyter-widgets/controls",
       "_model_module_version": "1.5.0",
       "_model_name": "DescriptionStyleModel",
       "_view_count": null,
       "_view_module": "@jupyter-widgets/base",
       "_view_module_version": "1.2.0",
       "_view_name": "StyleView",
       "description_width": ""
      }
     },
     "2d3ec10a56e1492cba42cca78f2335ff": {
      "model_module": "@jupyter-widgets/controls",
      "model_module_version": "1.5.0",
      "model_name": "HTMLModel",
      "state": {
       "_dom_classes": [],
       "_model_module": "@jupyter-widgets/controls",
       "_model_module_version": "1.5.0",
       "_model_name": "HTMLModel",
       "_view_count": null,
       "_view_module": "@jupyter-widgets/controls",
       "_view_module_version": "1.5.0",
       "_view_name": "HTMLView",
       "description": "",
       "description_tooltip": null,
       "layout": "IPY_MODEL_52523fcc902a4afd851bd2f8ae7ed544",
       "placeholder": "​",
       "style": "IPY_MODEL_a9f0d9661718413e8c4be6ba7763c64a",
       "value": "<h5><a href=\"https://github.com/ipython/ipython\">ipython/ipython</a></h5>\n<ul>\n<li><a href=\"https://github.com/ipython/ipython/issues/13136\">(#13136)</a>: <em>IPython Debugger: Skipping the decorator code</em> by <strong><a href=\"https://github.com/umairanis03\">@umairanis03</a></strong></li>\n<li><a href=\"https://github.com/ipython/ipython/issues/13197\">(#13197)</a>: <em>Different output results for Jupyter Notebook and other IDE for TensorFlow GPU</em> by <strong><a href=\"https://github.com/Vadim-Maklakov\">@Vadim-Maklakov</a></strong></li>\n<li><a href=\"https://github.com/ipython/ipython/issues/13109\">(#13109)</a>: <em>ipython/Matplotlib save button does not show popup dialog with ipython 7.26 on Mac with Qt5Agg backend</em> by <strong><a href=\"https://github.com/agallenne\">@agallenne</a></strong></li>\n<li><a href=\"https://github.com/ipython/ipython/issues/12831\">(#12831)</a>: <em>IPython crash when use showtraceback with exception_only=True</em> by <strong><a href=\"https://github.com/MiklosTacs\">@MiklosTacs</a></strong></li>\n</ul>"
      }
     },
     "2d49a74f45e246d580fc6760875307ab": {
      "model_module": "@jupyter-widgets/controls",
      "model_module_version": "1.5.0",
      "model_name": "HTMLModel",
      "state": {
       "_dom_classes": [],
       "_model_module": "@jupyter-widgets/controls",
       "_model_module_version": "1.5.0",
       "_model_name": "HTMLModel",
       "_view_count": null,
       "_view_module": "@jupyter-widgets/controls",
       "_view_module_version": "1.5.0",
       "_view_name": "HTMLView",
       "description": "",
       "description_tooltip": null,
       "layout": "IPY_MODEL_7bb9cfb7b1a1452c8f49bdb49c525adb",
       "placeholder": "​",
       "style": "IPY_MODEL_77f0e179d15649ce9b93fb8b04b3338c",
       "value": "<h5><a href=\"https://github.com/ipython/traitlets\">ipython/traitlets</a></h5>\n<ul>\n<li><a href=\"https://github.com/ipython/traitlets/issues/677\">(#677)</a>: <em>Traitlets in strict mode - fail on warnings and/or fail on missing config?</em> by <strong><a href=\"https://github.com/consideRatio\">@consideRatio</a></strong></li>\n<li><a href=\"https://github.com/ipython/traitlets/issues/676\">(#676)</a>: <em>TestUseEnum.test_assign_scoped_enum_value_name fails in 5.1.0</em> by <strong><a href=\"https://github.com/opoplawski\">@opoplawski</a></strong></li>\n</ul>"
      }
     },
     "2dfa266cfbfd4250910cd08f9bc10902": {
      "model_module": "@jupyter-widgets/controls",
      "model_module_version": "1.5.0",
      "model_name": "TabModel",
      "state": {
       "_dom_classes": [],
       "_model_module": "@jupyter-widgets/controls",
       "_model_module_version": "1.5.0",
       "_model_name": "TabModel",
       "_titles": {
        "0": "ipykernel",
        "1": "ipyparallel",
        "2": "ipython",
        "3": "ipython-in-depth",
        "4": "traitlets"
       },
       "_view_count": null,
       "_view_module": "@jupyter-widgets/controls",
       "_view_module_version": "1.5.0",
       "_view_name": "TabView",
       "box_style": "",
       "children": [
        "IPY_MODEL_3ab6ee5a530b47e0b93040d7a932042c",
        "IPY_MODEL_3ec8a3eec7ff404dae9975488f63f0e0",
        "IPY_MODEL_cdb5e94339de412582430e2794ea378a",
        "IPY_MODEL_b2c58336cb81472f90a61c5529ed5044",
        "IPY_MODEL_1c4898af38e942afb754a2bf11c64fd4"
       ],
       "layout": "IPY_MODEL_d44f161595c948d593c80c376132abda",
       "selected_index": 0
      }
     },
     "2f08f78909954bcca3a4f3fe5eb8218d": {
      "model_module": "@jupyter-widgets/base",
      "model_module_version": "1.2.0",
      "model_name": "LayoutModel",
      "state": {
       "_model_module": "@jupyter-widgets/base",
       "_model_module_version": "1.2.0",
       "_model_name": "LayoutModel",
       "_view_count": null,
       "_view_module": "@jupyter-widgets/base",
       "_view_module_version": "1.2.0",
       "_view_name": "LayoutView",
       "align_content": null,
       "align_items": null,
       "align_self": null,
       "border": null,
       "bottom": null,
       "display": null,
       "flex": null,
       "flex_flow": null,
       "grid_area": null,
       "grid_auto_columns": null,
       "grid_auto_flow": null,
       "grid_auto_rows": null,
       "grid_column": null,
       "grid_gap": null,
       "grid_row": null,
       "grid_template_areas": null,
       "grid_template_columns": null,
       "grid_template_rows": null,
       "height": null,
       "justify_content": null,
       "justify_items": null,
       "left": null,
       "margin": null,
       "max_height": null,
       "max_width": null,
       "min_height": null,
       "min_width": null,
       "object_fit": null,
       "object_position": null,
       "order": null,
       "overflow": null,
       "overflow_x": null,
       "overflow_y": null,
       "padding": null,
       "right": null,
       "top": null,
       "visibility": null,
       "width": null
      }
     },
     "2fbe2309e63343809ced999e7d37140d": {
      "model_module": "@jupyter-widgets/controls",
      "model_module_version": "1.5.0",
      "model_name": "DescriptionStyleModel",
      "state": {
       "_model_module": "@jupyter-widgets/controls",
       "_model_module_version": "1.5.0",
       "_model_name": "DescriptionStyleModel",
       "_view_count": null,
       "_view_module": "@jupyter-widgets/base",
       "_view_module_version": "1.2.0",
       "_view_name": "StyleView",
       "description_width": ""
      }
     },
     "315df39402a548b38c383c34911b5213": {
      "model_module": "@jupyter-widgets/base",
      "model_module_version": "1.2.0",
      "model_name": "LayoutModel",
      "state": {
       "_model_module": "@jupyter-widgets/base",
       "_model_module_version": "1.2.0",
       "_model_name": "LayoutModel",
       "_view_count": null,
       "_view_module": "@jupyter-widgets/base",
       "_view_module_version": "1.2.0",
       "_view_name": "LayoutView",
       "align_content": null,
       "align_items": null,
       "align_self": null,
       "border": null,
       "bottom": null,
       "display": null,
       "flex": null,
       "flex_flow": null,
       "grid_area": null,
       "grid_auto_columns": null,
       "grid_auto_flow": null,
       "grid_auto_rows": null,
       "grid_column": null,
       "grid_gap": null,
       "grid_row": null,
       "grid_template_areas": null,
       "grid_template_columns": null,
       "grid_template_rows": null,
       "height": null,
       "justify_content": null,
       "justify_items": null,
       "left": null,
       "margin": null,
       "max_height": null,
       "max_width": null,
       "min_height": null,
       "min_width": null,
       "object_fit": null,
       "object_position": null,
       "order": null,
       "overflow": null,
       "overflow_x": null,
       "overflow_y": null,
       "padding": null,
       "right": null,
       "top": null,
       "visibility": null,
       "width": null
      }
     },
     "33a329f4f3514388896d4834dce9cdbb": {
      "model_module": "@jupyter-widgets/base",
      "model_module_version": "1.2.0",
      "model_name": "LayoutModel",
      "state": {
       "_model_module": "@jupyter-widgets/base",
       "_model_module_version": "1.2.0",
       "_model_name": "LayoutModel",
       "_view_count": null,
       "_view_module": "@jupyter-widgets/base",
       "_view_module_version": "1.2.0",
       "_view_name": "LayoutView",
       "align_content": null,
       "align_items": null,
       "align_self": null,
       "border": null,
       "bottom": null,
       "display": null,
       "flex": null,
       "flex_flow": null,
       "grid_area": null,
       "grid_auto_columns": null,
       "grid_auto_flow": null,
       "grid_auto_rows": null,
       "grid_column": null,
       "grid_gap": null,
       "grid_row": null,
       "grid_template_areas": null,
       "grid_template_columns": null,
       "grid_template_rows": null,
       "height": null,
       "justify_content": null,
       "justify_items": null,
       "left": null,
       "margin": null,
       "max_height": null,
       "max_width": null,
       "min_height": null,
       "min_width": null,
       "object_fit": null,
       "object_position": null,
       "order": null,
       "overflow": null,
       "overflow_x": null,
       "overflow_y": null,
       "padding": null,
       "right": null,
       "top": null,
       "visibility": null,
       "width": null
      }
     },
     "33a6db78302d43e7b1c80c14090c14b0": {
      "model_module": "@jupyter-widgets/controls",
      "model_module_version": "1.5.0",
      "model_name": "DescriptionStyleModel",
      "state": {
       "_model_module": "@jupyter-widgets/controls",
       "_model_module_version": "1.5.0",
       "_model_name": "DescriptionStyleModel",
       "_view_count": null,
       "_view_module": "@jupyter-widgets/base",
       "_view_module_version": "1.2.0",
       "_view_name": "StyleView",
       "description_width": ""
      }
     },
     "37b53a8de1a64ae88658b0cac3a9df94": {
      "model_module": "@jupyter-widgets/controls",
      "model_module_version": "1.5.0",
      "model_name": "DescriptionStyleModel",
      "state": {
       "_model_module": "@jupyter-widgets/controls",
       "_model_module_version": "1.5.0",
       "_model_name": "DescriptionStyleModel",
       "_view_count": null,
       "_view_module": "@jupyter-widgets/base",
       "_view_module_version": "1.2.0",
       "_view_name": "StyleView",
       "description_width": ""
      }
     },
     "393ff38d779b498399755f66864faaab": {
      "model_module": "@jupyter-widgets/base",
      "model_module_version": "1.2.0",
      "model_name": "LayoutModel",
      "state": {
       "_model_module": "@jupyter-widgets/base",
       "_model_module_version": "1.2.0",
       "_model_name": "LayoutModel",
       "_view_count": null,
       "_view_module": "@jupyter-widgets/base",
       "_view_module_version": "1.2.0",
       "_view_name": "LayoutView",
       "align_content": null,
       "align_items": null,
       "align_self": null,
       "border": null,
       "bottom": null,
       "display": null,
       "flex": null,
       "flex_flow": null,
       "grid_area": null,
       "grid_auto_columns": null,
       "grid_auto_flow": null,
       "grid_auto_rows": null,
       "grid_column": null,
       "grid_gap": null,
       "grid_row": null,
       "grid_template_areas": null,
       "grid_template_columns": null,
       "grid_template_rows": null,
       "height": null,
       "justify_content": null,
       "justify_items": null,
       "left": null,
       "margin": null,
       "max_height": null,
       "max_width": null,
       "min_height": null,
       "min_width": null,
       "object_fit": null,
       "object_position": null,
       "order": null,
       "overflow": null,
       "overflow_x": null,
       "overflow_y": null,
       "padding": null,
       "right": null,
       "top": null,
       "visibility": null,
       "width": null
      }
     },
     "3ab6ee5a530b47e0b93040d7a932042c": {
      "model_module": "@jupyter-widgets/controls",
      "model_module_version": "1.5.0",
      "model_name": "HTMLModel",
      "state": {
       "_dom_classes": [],
       "_model_module": "@jupyter-widgets/controls",
       "_model_module_version": "1.5.0",
       "_model_name": "HTMLModel",
       "_view_count": null,
       "_view_module": "@jupyter-widgets/controls",
       "_view_module_version": "1.5.0",
       "_view_name": "HTMLView",
       "description": "",
       "description_tooltip": null,
       "layout": "IPY_MODEL_4313f2ff3486428097217c166aa9a959",
       "placeholder": "​",
       "style": "IPY_MODEL_6df55a464acf4309b244405da6193bab",
       "value": "<h4>Closed PRs for repo: <a href=\"https://github.com/ipython/ipykernel\">ipython/ipykernel</a></h4>\n<h5></h5>\n<ul>\n<li><a href=\"https://github.com/ipython/ipykernel/pull/794\">(#794)</a>: <em>Automated Changelog Entry for 6.5.0 on master</em> by <strong><a href=\"https://github.com/blink1073\">@blink1073</a></strong> merged by <strong><a href=\"https://github.com/blink1073\">@blink1073</a></strong></li>\n<li><a href=\"https://github.com/ipython/ipykernel/pull/793\">(#793)</a>: <em>Fix rich variables inspection</em> by <strong><a href=\"https://github.com/fcollonval\">@fcollonval</a></strong> merged by <strong><a href=\"https://github.com/blink1073\">@blink1073</a></strong></li>\n<li><a href=\"https://github.com/ipython/ipykernel/pull/792\">(#792)</a>: <em>Drop ipython_genutils requirement</em> by <strong><a href=\"https://github.com/penguinolog\">@penguinolog</a></strong> merged by <strong><a href=\"https://github.com/blink1073\">@blink1073</a></strong></li>\n<li><a href=\"https://github.com/ipython/ipykernel/pull/791\">(#791)</a>: <em>Do not call setQuitOnLastWindowClosed() on a QCoreApplication</em> by <strong><a href=\"https://github.com/stukowski\">@stukowski</a></strong> merged by <strong><a href=\"https://github.com/blink1073\">@blink1073</a></strong></li>\n<li><a href=\"https://github.com/ipython/ipykernel/pull/788\">(#788)</a>: <em>Automated Changelog Entry for 6.4.2 on master</em> by <strong><a href=\"https://github.com/blink1073\">@blink1073</a></strong> merged by <strong><a href=\"https://github.com/blink1073\">@blink1073</a></strong></li>\n<li><a href=\"https://github.com/ipython/ipykernel/pull/787\">(#787)</a>: <em>Enabled rich rendering of variables in the debugger</em> by <strong><a href=\"https://github.com/JohanMabille\">@JohanMabille</a></strong> merged by <strong><a href=\"https://github.com/blink1073\">@blink1073</a></strong></li>\n<li><a href=\"https://github.com/ipython/ipykernel/pull/783\">(#783)</a>: <em>Add python version classifiers</em> by <strong><a href=\"https://github.com/emuccino\">@emuccino</a></strong> merged by <strong><a href=\"https://github.com/blink1073\">@blink1073</a></strong></li>\n<li><a href=\"https://github.com/ipython/ipykernel/pull/781\">(#781)</a>: <em>Remove setting of the eventloop function in the InProcessKernel</em> by <strong><a href=\"https://github.com/rayosborn\">@rayosborn</a></strong> merged by <strong><a href=\"https://github.com/blink1073\">@blink1073</a></strong></li>\n<li><a href=\"https://github.com/ipython/ipykernel/pull/779\">(#779)</a>: <em>Add changelog entry for 5.5.6</em> by <strong><a href=\"https://github.com/blink1073\">@blink1073</a></strong> merged by <strong><a href=\"https://github.com/blink1073\">@blink1073</a></strong></li>\n<li><a href=\"https://github.com/ipython/ipykernel/pull/778\">(#778)</a>: <em>Add <code>ipython_genutils</code> dependency to 5.5.x branch.</em> by <strong><a href=\"https://github.com/carlosperate\">@carlosperate</a></strong> merged by <strong><a href=\"https://github.com/blink1073\">@blink1073</a></strong></li>\n<li><a href=\"https://github.com/ipython/ipykernel/pull/774\">(#774)</a>: <em>Automated Changelog Entry for 6.4.1 on master</em> by <strong><a href=\"https://github.com/blink1073\">@blink1073</a></strong> merged by <strong><a href=\"https://github.com/blink1073\">@blink1073</a></strong></li>\n<li><a href=\"https://github.com/ipython/ipykernel/pull/773\">(#773)</a>: <em>debugpy is now a build requirement</em> by <strong><a href=\"https://github.com/minrk\">@minrk</a></strong> merged by <strong><a href=\"https://github.com/blink1073\">@blink1073</a></strong></li>\n<li><a href=\"https://github.com/ipython/ipykernel/pull/769\">(#769)</a>: <em>Automated Changelog Entry for 6.4.0 on master</em> by <strong><a href=\"https://github.com/blink1073\">@blink1073</a></strong> merged by <strong><a href=\"https://github.com/blink1073\">@blink1073</a></strong></li>\n<li><a href=\"https://github.com/ipython/ipykernel/pull/767\">(#767)</a>: <em>Make ipykernel work without debugpy</em> by <strong><a href=\"https://github.com/frenzymadness\">@frenzymadness</a></strong> merged by <strong><a href=\"https://github.com/minrk\">@minrk</a></strong></li>\n<li><a href=\"https://github.com/ipython/ipykernel/pull/766\">(#766)</a>: <em>Don't assume kernels have loops.</em> by <strong><a href=\"https://github.com/Carreau\">@Carreau</a></strong> merged by <strong><a href=\"https://github.com/blink1073\">@blink1073</a></strong></li>\n<li><a href=\"https://github.com/ipython/ipykernel/pull/765\">(#765)</a>: <em>Fix undefined variable</em> by <strong><a href=\"https://github.com/martinRenou\">@martinRenou</a></strong> merged by <strong><a href=\"https://github.com/blink1073\">@blink1073</a></strong></li>\n<li><a href=\"https://github.com/ipython/ipykernel/pull/762\">(#762)</a>: <em>Stop using deprecated recv_multipart when using in-process socket.</em> by <strong><a href=\"https://github.com/Carreau\">@Carreau</a></strong> merged by <strong><a href=\"https://github.com/minrk\">@minrk</a></strong></li>\n<li><a href=\"https://github.com/ipython/ipykernel/pull/761\">(#761)</a>: <em>Update some warnings with instructions and version number.</em> by <strong><a href=\"https://github.com/Carreau\">@Carreau</a></strong> merged by <strong><a href=\"https://github.com/minrk\">@minrk</a></strong></li>\n<li><a href=\"https://github.com/ipython/ipykernel/pull/757\">(#757)</a>: <em>Automated Changelog Entry for 6.3.1 on master</em> by <strong><a href=\"https://github.com/blink1073\">@blink1073</a></strong> merged by <strong><a href=\"https://github.com/blink1073\">@blink1073</a></strong></li>\n<li><a href=\"https://github.com/ipython/ipykernel/pull/756\">(#756)</a>: <em>Add dependency on IPython genutils.</em> by <strong><a href=\"https://github.com/Carreau\">@Carreau</a></strong> merged by <strong><a href=\"https://github.com/blink1073\">@blink1073</a></strong></li>\n<li><a href=\"https://github.com/ipython/ipykernel/pull/754\">(#754)</a>: <em>Automated Changelog Entry for 6.3.0 on master</em> by <strong><a href=\"https://github.com/blink1073\">@blink1073</a></strong> merged by <strong><a href=\"https://github.com/blink1073\">@blink1073</a></strong></li>\n<li><a href=\"https://github.com/ipython/ipykernel/pull/753\">(#753)</a>: <em>Implemented deep variable inspection</em> by <strong><a href=\"https://github.com/JohanMabille\">@JohanMabille</a></strong> merged by <strong><a href=\"https://github.com/blink1073\">@blink1073</a></strong></li>\n<li><a href=\"https://github.com/ipython/ipykernel/pull/752\">(#752)</a>: <em>Add IPKernelApp.capture_fd_output config to disable FD-level capture</em> by <strong><a href=\"https://github.com/minrk\">@minrk</a></strong> merged by <strong><a href=\"https://github.com/blink1073\">@blink1073</a></strong></li>\n<li><a href=\"https://github.com/ipython/ipykernel/pull/750\">(#750)</a>: <em>Remove more nose test references</em> by <strong><a href=\"https://github.com/blink1073\">@blink1073</a></strong> merged by <strong><a href=\"https://github.com/Carreau\">@Carreau</a></strong></li>\n<li><a href=\"https://github.com/ipython/ipykernel/pull/748\">(#748)</a>: <em>Remove Nose skipIf in favor of pytest</em> by <strong><a href=\"https://github.com/Carreau\">@Carreau</a></strong> merged by <strong><a href=\"https://github.com/blink1073\">@blink1073</a></strong></li>\n<li><a href=\"https://github.com/ipython/ipykernel/pull/747\">(#747)</a>: <em>remove more nose</em> by <strong><a href=\"https://github.com/Carreau\">@Carreau</a></strong> merged by <strong><a href=\"https://github.com/blink1073\">@blink1073</a></strong></li>\n<li><a href=\"https://github.com/ipython/ipykernel/pull/745\">(#745)</a>: <em>Set up release helper plumbing</em> by <strong><a href=\"https://github.com/afshin\">@afshin</a></strong> merged by <strong><a href=\"https://github.com/blink1073\">@blink1073</a></strong></li>\n<li><a href=\"https://github.com/ipython/ipykernel/pull/743\">(#743)</a>: <em>Remove some more dependency on nose/iptest</em> by <strong><a href=\"https://github.com/Carreau\">@Carreau</a></strong> merged by <strong><a href=\"https://github.com/blink1073\">@blink1073</a></strong></li>\n<li><a href=\"https://github.com/ipython/ipykernel/pull/741\">(#741)</a>: <em>Add Support for Message Based Interrupt</em> by <strong><a href=\"https://github.com/afshin\">@afshin</a></strong> merged by <strong><a href=\"https://github.com/blink1073\">@blink1073</a></strong></li>\n<li><a href=\"https://github.com/ipython/ipykernel/pull/739\">(#739)</a>: <em>Update changelog for 6.1</em> by <strong><a href=\"https://github.com/blink1073\">@blink1073</a></strong> merged by <strong><a href=\"https://github.com/blink1073\">@blink1073</a></strong></li>\n<li><a href=\"https://github.com/ipython/ipykernel/pull/738\">(#738)</a>: <em>bump importlib-metadata limit for python&lt;3.8</em> by <strong><a href=\"https://github.com/ltalirz\">@ltalirz</a></strong> merged by <strong><a href=\"https://github.com/blink1073\">@blink1073</a></strong></li>\n<li><a href=\"https://github.com/ipython/ipykernel/pull/736\">(#736)</a>: <em>Remove block param from get_msg()</em> by <strong><a href=\"https://github.com/davidbrochart\">@davidbrochart</a></strong> merged by <strong><a href=\"https://github.com/blink1073\">@blink1073</a></strong></li>\n<li><a href=\"https://github.com/ipython/ipykernel/pull/708\">(#708)</a>: <em>Make json_clean a no-op for jupyter-client &gt;= 7</em> by <strong><a href=\"https://github.com/martinRenou\">@martinRenou</a></strong> merged by <strong><a href=\"https://github.com/blink1073\">@blink1073</a></strong></li>\n<li><a href=\"https://github.com/ipython/ipykernel/pull/635\">(#635)</a>: <em>Test downstream projects</em> by <strong><a href=\"https://github.com/davidbrochart\">@davidbrochart</a></strong> merged by <strong><a href=\"https://github.com/blink1073\">@blink1073</a></strong></li>\n</ul>"
      }
     },
     "3ec146d4e81c40e6994ed499a71fd07a": {
      "model_module": "@jupyter-widgets/base",
      "model_module_version": "1.2.0",
      "model_name": "LayoutModel",
      "state": {
       "_model_module": "@jupyter-widgets/base",
       "_model_module_version": "1.2.0",
       "_model_name": "LayoutModel",
       "_view_count": null,
       "_view_module": "@jupyter-widgets/base",
       "_view_module_version": "1.2.0",
       "_view_name": "LayoutView",
       "align_content": null,
       "align_items": null,
       "align_self": null,
       "border": null,
       "bottom": null,
       "display": null,
       "flex": null,
       "flex_flow": null,
       "grid_area": null,
       "grid_auto_columns": null,
       "grid_auto_flow": null,
       "grid_auto_rows": null,
       "grid_column": null,
       "grid_gap": null,
       "grid_row": null,
       "grid_template_areas": null,
       "grid_template_columns": null,
       "grid_template_rows": null,
       "height": null,
       "justify_content": null,
       "justify_items": null,
       "left": null,
       "margin": null,
       "max_height": null,
       "max_width": null,
       "min_height": null,
       "min_width": null,
       "object_fit": null,
       "object_position": null,
       "order": null,
       "overflow": null,
       "overflow_x": null,
       "overflow_y": null,
       "padding": null,
       "right": null,
       "top": null,
       "visibility": null,
       "width": null
      }
     },
     "3ec8a3eec7ff404dae9975488f63f0e0": {
      "model_module": "@jupyter-widgets/controls",
      "model_module_version": "1.5.0",
      "model_name": "HTMLModel",
      "state": {
       "_dom_classes": [],
       "_model_module": "@jupyter-widgets/controls",
       "_model_module_version": "1.5.0",
       "_model_name": "HTMLModel",
       "_view_count": null,
       "_view_module": "@jupyter-widgets/controls",
       "_view_module_version": "1.5.0",
       "_view_name": "HTMLView",
       "description": "",
       "description_tooltip": null,
       "layout": "IPY_MODEL_2f08f78909954bcca3a4f3fe5eb8218d",
       "placeholder": "​",
       "style": "IPY_MODEL_2a2cb406c6bd47ffad2a44b61cbbd19f",
       "value": "<h4>Closed PRs for repo: <a href=\"https://github.com/ipython/ipyparallel\">ipython/ipyparallel</a></h4>\n<h5></h5>\n<ul>\n<li><a href=\"https://github.com/ipython/ipyparallel/pull/624\">(#624)</a>: <em>changelog for 8.0</em> by <strong><a href=\"https://github.com/minrk\">@minrk</a></strong> merged by <strong><a href=\"https://github.com/minrk\">@minrk</a></strong></li>\n<li><a href=\"https://github.com/ipython/ipyparallel/pull/623\">(#623)</a>: <em>avoid walking ipython_dir if it doesn't exist</em> by <strong><a href=\"https://github.com/minrk\">@minrk</a></strong> merged by <strong><a href=\"https://github.com/minrk\">@minrk</a></strong></li>\n<li><a href=\"https://github.com/ipython/ipyparallel/pull/621\">(#621)</a>: <em>rework View.imap max_outstanding to consider scheduler, not consumer</em> by <strong><a href=\"https://github.com/minrk\">@minrk</a></strong> merged by <strong><a href=\"https://github.com/minrk\">@minrk</a></strong></li>\n<li><a href=\"https://github.com/ipython/ipyparallel/pull/620\">(#620)</a>: <em>use parallel_execute in autopx</em> by <strong><a href=\"https://github.com/minrk\">@minrk</a></strong> merged by <strong><a href=\"https://github.com/minrk\">@minrk</a></strong></li>\n<li><a href=\"https://github.com/ipython/ipyparallel/pull/618\">(#618)</a>: <em>add pyupgrade to pre-commit</em> by <strong><a href=\"https://github.com/minrk\">@minrk</a></strong> merged by <strong><a href=\"https://github.com/minrk\">@minrk</a></strong></li>\n<li><a href=\"https://github.com/ipython/ipyparallel/pull/616\">(#616)</a>: <em>stream_output: publish existing output before starting the stream</em> by <strong><a href=\"https://github.com/minrk\">@minrk</a></strong> merged by <strong><a href=\"https://github.com/minrk\">@minrk</a></strong></li>\n<li><a href=\"https://github.com/ipython/ipyparallel/pull/615\">(#615)</a>: <em>make sure MPIControllerLauncher is tested</em> by <strong><a href=\"https://github.com/minrk\">@minrk</a></strong> merged by <strong><a href=\"https://github.com/minrk\">@minrk</a></strong></li>\n<li><a href=\"https://github.com/ipython/ipyparallel/pull/613\">(#613)</a>: <em>More immediate feedback on partial errors</em> by <strong><a href=\"https://github.com/minrk\">@minrk</a></strong> merged by <strong><a href=\"https://github.com/minrk\">@minrk</a></strong></li>\n<li><a href=\"https://github.com/ipython/ipyparallel/pull/610\">(#610)</a>: <em>Updated copyright year from 2015 to 2021</em> by <strong><a href=\"https://github.com/WoLpH\">@WoLpH</a></strong> merged by <strong><a href=\"https://github.com/minrk\">@minrk</a></strong></li>\n<li><a href=\"https://github.com/ipython/ipyparallel/pull/609\">(#609)</a>: <em>debug cellpx_stream on Windows</em> by <strong><a href=\"https://github.com/minrk\">@minrk</a></strong> merged by <strong><a href=\"https://github.com/minrk\">@minrk</a></strong></li>\n<li><a href=\"https://github.com/ipython/ipyparallel/pull/608\">(#608)</a>: <em>Some convenience aliases and docs</em> by <strong><a href=\"https://github.com/minrk\">@minrk</a></strong> merged by <strong><a href=\"https://github.com/minrk\">@minrk</a></strong></li>\n<li><a href=\"https://github.com/ipython/ipyparallel/pull/606\">(#606)</a>: <em>CI: run slurm in docker-compose</em> by <strong><a href=\"https://github.com/minrk\">@minrk</a></strong> merged by <strong><a href=\"https://github.com/minrk\">@minrk</a></strong></li>\n<li><a href=\"https://github.com/ipython/ipyparallel/pull/605\">(#605)</a>: <em>batch launchers inherit full env by default</em> by <strong><a href=\"https://github.com/minrk\">@minrk</a></strong> merged by <strong><a href=\"https://github.com/minrk\">@minrk</a></strong></li>\n<li><a href=\"https://github.com/ipython/ipyparallel/pull/603\">(#603)</a>: <em>set output_file on batch launchers</em> by <strong><a href=\"https://github.com/minrk\">@minrk</a></strong> merged by <strong><a href=\"https://github.com/minrk\">@minrk</a></strong></li>\n<li><a href=\"https://github.com/ipython/ipyparallel/pull/601\">(#601)</a>: <em>support environment variables in launchers</em> by <strong><a href=\"https://github.com/minrk\">@minrk</a></strong> merged by <strong><a href=\"https://github.com/minrk\">@minrk</a></strong></li>\n<li><a href=\"https://github.com/ipython/ipyparallel/pull/600\">(#600)</a>: <em>changelog for 7.1</em> by <strong><a href=\"https://github.com/minrk\">@minrk</a></strong> merged by <strong><a href=\"https://github.com/minrk\">@minrk</a></strong></li>\n<li><a href=\"https://github.com/ipython/ipyparallel/pull/599\">(#599)</a>: <em>Fixes for loading cluster from files</em> by <strong><a href=\"https://github.com/minrk\">@minrk</a></strong> merged by <strong><a href=\"https://github.com/minrk\">@minrk</a></strong></li>\n<li><a href=\"https://github.com/ipython/ipyparallel/pull/598\">(#598)</a>: <em>set HWM=0 more thoroughly</em> by <strong><a href=\"https://github.com/minrk\">@minrk</a></strong> merged by <strong><a href=\"https://github.com/minrk\">@minrk</a></strong></li>\n<li><a href=\"https://github.com/ipython/ipyparallel/pull/596\">(#596)</a>: <em>Fixes and test coverage for coalescing broadcast views</em> by <strong><a href=\"https://github.com/minrk\">@minrk</a></strong> merged by <strong><a href=\"https://github.com/minrk\">@minrk</a></strong></li>\n<li><a href=\"https://github.com/ipython/ipyparallel/pull/595\">(#595)</a>: <em>cancel wait_for_engines if we notice that an engine unregisters or crashes</em> by <strong><a href=\"https://github.com/minrk\">@minrk</a></strong> merged by <strong><a href=\"https://github.com/minrk\">@minrk</a></strong></li>\n<li><a href=\"https://github.com/ipython/ipyparallel/pull/593\">(#593)</a>: _Add benchmarks code _ by <strong><a href=\"https://github.com/tomoboy\">@tomoboy</a></strong> merged by <strong><a href=\"https://github.com/minrk\">@minrk</a></strong></li>\n<li><a href=\"https://github.com/ipython/ipyparallel/pull/592\">(#592)</a>: <em>Handle carriage returns in outputs</em> by <strong><a href=\"https://github.com/minrk\">@minrk</a></strong> merged by <strong><a href=\"https://github.com/minrk\">@minrk</a></strong></li>\n<li><a href=\"https://github.com/ipython/ipyparallel/pull/590\">(#590)</a>: <em>handle possible race waiting for connection files</em> by <strong><a href=\"https://github.com/minrk\">@minrk</a></strong> merged by <strong><a href=\"https://github.com/minrk\">@minrk</a></strong></li>\n<li><a href=\"https://github.com/ipython/ipyparallel/pull/589\">(#589)</a>: <em>add single Cluster.start_and_connect</em> by <strong><a href=\"https://github.com/minrk\">@minrk</a></strong> merged by <strong><a href=\"https://github.com/minrk\">@minrk</a></strong></li>\n<li><a href=\"https://github.com/ipython/ipyparallel/pull/588\">(#588)</a>: <em>support widgets, progress in %px</em> by <strong><a href=\"https://github.com/minrk\">@minrk</a></strong> merged by <strong><a href=\"https://github.com/minrk\">@minrk</a></strong></li>\n<li><a href=\"https://github.com/ipython/ipyparallel/pull/586\">(#586)</a>: <em>Update jupyter-packaging to 0.10.6</em> by <strong><a href=\"https://github.com/ellert\">@ellert</a></strong> merged by <strong><a href=\"https://github.com/minrk\">@minrk</a></strong></li>\n<li><a href=\"https://github.com/ipython/ipyparallel/pull/583\">(#583)</a>: <em>define _max_workers on ViewExecutor</em> by <strong><a href=\"https://github.com/minrk\">@minrk</a></strong> merged by <strong><a href=\"https://github.com/minrk\">@minrk</a></strong></li>\n<li><a href=\"https://github.com/ipython/ipyparallel/pull/581\">(#581)</a>: <em>more docs updates for 7.0</em> by <strong><a href=\"https://github.com/minrk\">@minrk</a></strong> merged by <strong><a href=\"https://github.com/minrk\">@minrk</a></strong></li>\n<li><a href=\"https://github.com/ipython/ipyparallel/pull/580\">(#580)</a>: <em>add packaging to build dependencies</em> by <strong><a href=\"https://github.com/minrk\">@minrk</a></strong> merged by <strong><a href=\"https://github.com/minrk\">@minrk</a></strong></li>\n<li><a href=\"https://github.com/ipython/ipyparallel/pull/579\">(#579)</a>: <em>reinitialize logging in heartmonitor subprocess</em> by <strong><a href=\"https://github.com/minrk\">@minrk</a></strong> merged by <strong><a href=\"https://github.com/minrk\">@minrk</a></strong></li>\n<li><a href=\"https://github.com/ipython/ipyparallel/pull/577\">(#577)</a>: <em>bump jupyterlab/builder js dependency to 3.1.10</em> by <strong><a href=\"https://github.com/minrk\">@minrk</a></strong> merged by <strong><a href=\"https://github.com/minrk\">@minrk</a></strong></li>\n<li><a href=\"https://github.com/ipython/ipyparallel/pull/576\">(#576)</a>: <em>7.0.0b3</em> by <strong><a href=\"https://github.com/minrk\">@minrk</a></strong> merged by <strong><a href=\"https://github.com/minrk\">@minrk</a></strong></li>\n<li><a href=\"https://github.com/ipython/ipyparallel/pull/574\">(#574)</a>: <em>apply: allow f as keyword arg</em> by <strong><a href=\"https://github.com/minrk\">@minrk</a></strong> merged by <strong><a href=\"https://github.com/minrk\">@minrk</a></strong></li>\n<li><a href=\"https://github.com/ipython/ipyparallel/pull/572\">(#572)</a>: <em>Improve some Windows cleanup</em> by <strong><a href=\"https://github.com/minrk\">@minrk</a></strong> merged by <strong><a href=\"https://github.com/minrk\">@minrk</a></strong></li>\n<li><a href=\"https://github.com/ipython/ipyparallel/pull/571\">(#571)</a>: <em>add ipcluster clean and ipcluster stop --all</em> by <strong><a href=\"https://github.com/minrk\">@minrk</a></strong> merged by <strong><a href=\"https://github.com/minrk\">@minrk</a></strong></li>\n<li><a href=\"https://github.com/ipython/ipyparallel/pull/570\">(#570)</a>: <em>Run heart monitor in its own process</em> by <strong><a href=\"https://github.com/minrk\">@minrk</a></strong> merged by <strong><a href=\"https://github.com/minrk\">@minrk</a></strong></li>\n<li><a href=\"https://github.com/ipython/ipyparallel/pull/569\">(#569)</a>: <em>show mpiexec error output by default</em> by <strong><a href=\"https://github.com/minrk\">@minrk</a></strong> merged by <strong><a href=\"https://github.com/minrk\">@minrk</a></strong></li>\n<li><a href=\"https://github.com/ipython/ipyparallel/pull/568\">(#568)</a>: <em>stop engines and controllers concurrently</em> by <strong><a href=\"https://github.com/minrk\">@minrk</a></strong> merged by <strong><a href=\"https://github.com/minrk\">@minrk</a></strong></li>\n<li><a href=\"https://github.com/ipython/ipyparallel/pull/567\">(#567)</a>: <em>typo in NoSuchProcess exception class name</em> by <strong><a href=\"https://github.com/minrk\">@minrk</a></strong> merged by <strong><a href=\"https://github.com/minrk\">@minrk</a></strong></li>\n<li><a href=\"https://github.com/ipython/ipyparallel/pull/565\">(#565)</a>: <em>Rework port configuration</em> by <strong><a href=\"https://github.com/minrk\">@minrk</a></strong> merged by <strong><a href=\"https://github.com/minrk\">@minrk</a></strong></li>\n<li><a href=\"https://github.com/ipython/ipyparallel/pull/564\">(#564)</a>: <em>nbextension: ensure n is a number</em> by <strong><a href=\"https://github.com/minrk\">@minrk</a></strong> merged by <strong><a href=\"https://github.com/minrk\">@minrk</a></strong></li>\n<li><a href=\"https://github.com/ipython/ipyparallel/pull/561\">(#561)</a>: <em>use thread.join to wait for local process launchers</em> by <strong><a href=\"https://github.com/minrk\">@minrk</a></strong> merged by <strong><a href=\"https://github.com/minrk\">@minrk</a></strong></li>\n<li><a href=\"https://github.com/ipython/ipyparallel/pull/560\">(#560)</a>: <em>Demote 'sending output' log to debug-level</em> by <strong><a href=\"https://github.com/minrk\">@minrk</a></strong> merged by <strong><a href=\"https://github.com/minrk\">@minrk</a></strong></li>\n<li><a href=\"https://github.com/ipython/ipyparallel/pull/559\">(#559)</a>: <em>use vendored jupyter_packaging.setupbase</em> by <strong><a href=\"https://github.com/minrk\">@minrk</a></strong> merged by <strong><a href=\"https://github.com/minrk\">@minrk</a></strong></li>\n<li><a href=\"https://github.com/ipython/ipyparallel/pull/558\">(#558)</a>: <em>handle ipykernel 6 fd-level capture</em> by <strong><a href=\"https://github.com/minrk\">@minrk</a></strong> merged by <strong><a href=\"https://github.com/minrk\">@minrk</a></strong></li>\n<li><a href=\"https://github.com/ipython/ipyparallel/pull/557\">(#557)</a>: <em>remove use of ipython_genutils</em> by <strong><a href=\"https://github.com/minrk\">@minrk</a></strong> merged by <strong><a href=\"https://github.com/minrk\">@minrk</a></strong></li>\n<li><a href=\"https://github.com/ipython/ipyparallel/pull/555\">(#555)</a>: <em>Refresh docs</em> by <strong><a href=\"https://github.com/minrk\">@minrk</a></strong> merged by <strong><a href=\"https://github.com/minrk\">@minrk</a></strong></li>\n<li><a href=\"https://github.com/ipython/ipyparallel/pull/553\">(#553)</a>: <em>enable zmq CURVE security</em> by <strong><a href=\"https://github.com/minrk\">@minrk</a></strong> merged by <strong><a href=\"https://github.com/minrk\">@minrk</a></strong></li>\n<li><a href=\"https://github.com/ipython/ipyparallel/pull/551\">(#551)</a>: <em>add missing data_files for labextension</em> by <strong><a href=\"https://github.com/minrk\">@minrk</a></strong> merged by <strong><a href=\"https://github.com/minrk\">@minrk</a></strong></li>\n<li><a href=\"https://github.com/ipython/ipyparallel/pull/550\">(#550)</a>: <em>refresh labextension dependencies</em> by <strong><a href=\"https://github.com/minrk\">@minrk</a></strong> merged by <strong><a href=\"https://github.com/minrk\">@minrk</a></strong></li>\n<li><a href=\"https://github.com/ipython/ipyparallel/pull/549\">(#549)</a>: <em>Simpler default cluster / engine set ids</em> by <strong><a href=\"https://github.com/minrk\">@minrk</a></strong> merged by <strong><a href=\"https://github.com/minrk\">@minrk</a></strong></li>\n<li><a href=\"https://github.com/ipython/ipyparallel/pull/547\">(#547)</a>: <em>register launchers via entrypoints</em> by <strong><a href=\"https://github.com/minrk\">@minrk</a></strong> merged by <strong><a href=\"https://github.com/minrk\">@minrk</a></strong></li>\n<li><a href=\"https://github.com/ipython/ipyparallel/pull/546\">(#546)</a>: <em>more robust wait in test_cluster_manager_notice_stop</em> by <strong><a href=\"https://github.com/minrk\">@minrk</a></strong> merged by <strong><a href=\"https://github.com/minrk\">@minrk</a></strong></li>\n<li><a href=\"https://github.com/ipython/ipyparallel/pull/545\">(#545)</a>: <em>fix push/pull for cloudpickle</em> by <strong><a href=\"https://github.com/minrk\">@minrk</a></strong> merged by <strong><a href=\"https://github.com/minrk\">@minrk</a></strong></li>\n<li><a href=\"https://github.com/ipython/ipyparallel/pull/544\">(#544)</a>: <em>example doc visualizing an AsyncResult's timestamps</em> by <strong><a href=\"https://github.com/minrk\">@minrk</a></strong> merged by <strong><a href=\"https://github.com/minrk\">@minrk</a></strong></li>\n<li><a href=\"https://github.com/ipython/ipyparallel/pull/536\">(#536)</a>: <em>jupyterlab extension based on dask-labextension, new ClusterManager</em> by <strong><a href=\"https://github.com/minrk\">@minrk</a></strong> merged by <strong><a href=\"https://github.com/minrk\">@minrk</a></strong></li>\n</ul>"
      }
     },
     "4313f2ff3486428097217c166aa9a959": {
      "model_module": "@jupyter-widgets/base",
      "model_module_version": "1.2.0",
      "model_name": "LayoutModel",
      "state": {
       "_model_module": "@jupyter-widgets/base",
       "_model_module_version": "1.2.0",
       "_model_name": "LayoutModel",
       "_view_count": null,
       "_view_module": "@jupyter-widgets/base",
       "_view_module_version": "1.2.0",
       "_view_name": "LayoutView",
       "align_content": null,
       "align_items": null,
       "align_self": null,
       "border": null,
       "bottom": null,
       "display": null,
       "flex": null,
       "flex_flow": null,
       "grid_area": null,
       "grid_auto_columns": null,
       "grid_auto_flow": null,
       "grid_auto_rows": null,
       "grid_column": null,
       "grid_gap": null,
       "grid_row": null,
       "grid_template_areas": null,
       "grid_template_columns": null,
       "grid_template_rows": null,
       "height": null,
       "justify_content": null,
       "justify_items": null,
       "left": null,
       "margin": null,
       "max_height": null,
       "max_width": null,
       "min_height": null,
       "min_width": null,
       "object_fit": null,
       "object_position": null,
       "order": null,
       "overflow": null,
       "overflow_x": null,
       "overflow_y": null,
       "padding": null,
       "right": null,
       "top": null,
       "visibility": null,
       "width": null
      }
     },
     "44a678abb28744bfab8520c0e7228e3c": {
      "model_module": "@jupyter-widgets/controls",
      "model_module_version": "1.5.0",
      "model_name": "HTMLModel",
      "state": {
       "_dom_classes": [],
       "_model_module": "@jupyter-widgets/controls",
       "_model_module_version": "1.5.0",
       "_model_name": "HTMLModel",
       "_view_count": null,
       "_view_module": "@jupyter-widgets/controls",
       "_view_module_version": "1.5.0",
       "_view_name": "HTMLView",
       "description": "",
       "description_tooltip": null,
       "layout": "IPY_MODEL_222ffec885004e4bb87e91108d2b544e",
       "placeholder": "​",
       "style": "IPY_MODEL_0aba5acf6dd349e6980f3a8b012e9a23",
       "value": "<h5><a href=\"https://github.com/ipython/ipython-in-depth\">ipython/ipython-in-depth</a></h5>\n<ul>\n<li><a href=\"https://github.com/ipython/ipython-in-depth/issues/79\">(#79)</a>: <em>df2.iloc[2]</em> by <strong><a href=\"https://github.com/youvanrajgire\">@youvanrajgire</a></strong></li>\n<li><a href=\"https://github.com/ipython/ipython-in-depth/issues/56\">(#56)</a>: <em>spaces in file names and spaces in links lead to broken markdown links in tutorial</em> by <strong><a href=\"https://github.com/RobertHa\">@RobertHa</a></strong></li>\n<li><a href=\"https://github.com/ipython/ipython-in-depth/issues/55\">(#55)</a>: <em>Broken image links in ipython-in-depth/exercises/Parallel Computing/Overview of IPython.parallel.ipynb</em> by <strong><a href=\"https://github.com/alemorm\">@alemorm</a></strong></li>\n</ul>"
      }
     },
     "4b94241a0ab444e887ae396183b3a675": {
      "model_module": "@jupyter-widgets/base",
      "model_module_version": "1.2.0",
      "model_name": "LayoutModel",
      "state": {
       "_model_module": "@jupyter-widgets/base",
       "_model_module_version": "1.2.0",
       "_model_name": "LayoutModel",
       "_view_count": null,
       "_view_module": "@jupyter-widgets/base",
       "_view_module_version": "1.2.0",
       "_view_name": "LayoutView",
       "align_content": null,
       "align_items": null,
       "align_self": null,
       "border": null,
       "bottom": null,
       "display": null,
       "flex": null,
       "flex_flow": null,
       "grid_area": null,
       "grid_auto_columns": null,
       "grid_auto_flow": null,
       "grid_auto_rows": null,
       "grid_column": null,
       "grid_gap": null,
       "grid_row": null,
       "grid_template_areas": null,
       "grid_template_columns": null,
       "grid_template_rows": null,
       "height": null,
       "justify_content": null,
       "justify_items": null,
       "left": null,
       "margin": null,
       "max_height": null,
       "max_width": null,
       "min_height": null,
       "min_width": null,
       "object_fit": null,
       "object_position": null,
       "order": null,
       "overflow": null,
       "overflow_x": null,
       "overflow_y": null,
       "padding": null,
       "right": null,
       "top": null,
       "visibility": null,
       "width": null
      }
     },
     "4de355d7cf154ad5a2d5efb914ac631f": {
      "model_module": "@jupyter-widgets/base",
      "model_module_version": "1.2.0",
      "model_name": "LayoutModel",
      "state": {
       "_model_module": "@jupyter-widgets/base",
       "_model_module_version": "1.2.0",
       "_model_name": "LayoutModel",
       "_view_count": null,
       "_view_module": "@jupyter-widgets/base",
       "_view_module_version": "1.2.0",
       "_view_name": "LayoutView",
       "align_content": null,
       "align_items": null,
       "align_self": null,
       "border": null,
       "bottom": null,
       "display": null,
       "flex": null,
       "flex_flow": null,
       "grid_area": null,
       "grid_auto_columns": null,
       "grid_auto_flow": null,
       "grid_auto_rows": null,
       "grid_column": null,
       "grid_gap": null,
       "grid_row": null,
       "grid_template_areas": null,
       "grid_template_columns": null,
       "grid_template_rows": null,
       "height": null,
       "justify_content": null,
       "justify_items": null,
       "left": null,
       "margin": null,
       "max_height": null,
       "max_width": null,
       "min_height": null,
       "min_width": null,
       "object_fit": null,
       "object_position": null,
       "order": null,
       "overflow": null,
       "overflow_x": null,
       "overflow_y": null,
       "padding": null,
       "right": null,
       "top": null,
       "visibility": null,
       "width": null
      }
     },
     "5014bc2e98b841b9a5ae1d0c0cd26975": {
      "model_module": "@jupyter-widgets/base",
      "model_module_version": "1.2.0",
      "model_name": "LayoutModel",
      "state": {
       "_model_module": "@jupyter-widgets/base",
       "_model_module_version": "1.2.0",
       "_model_name": "LayoutModel",
       "_view_count": null,
       "_view_module": "@jupyter-widgets/base",
       "_view_module_version": "1.2.0",
       "_view_name": "LayoutView",
       "align_content": null,
       "align_items": null,
       "align_self": null,
       "border": null,
       "bottom": null,
       "display": null,
       "flex": null,
       "flex_flow": null,
       "grid_area": null,
       "grid_auto_columns": null,
       "grid_auto_flow": null,
       "grid_auto_rows": null,
       "grid_column": null,
       "grid_gap": null,
       "grid_row": null,
       "grid_template_areas": null,
       "grid_template_columns": null,
       "grid_template_rows": null,
       "height": null,
       "justify_content": null,
       "justify_items": null,
       "left": null,
       "margin": null,
       "max_height": null,
       "max_width": null,
       "min_height": null,
       "min_width": null,
       "object_fit": null,
       "object_position": null,
       "order": null,
       "overflow": null,
       "overflow_x": null,
       "overflow_y": null,
       "padding": null,
       "right": null,
       "top": null,
       "visibility": null,
       "width": null
      }
     },
     "50fa5a3cdf2d448ca86a0b56ff4a3cda": {
      "model_module": "@jupyter-widgets/controls",
      "model_module_version": "1.5.0",
      "model_name": "DescriptionStyleModel",
      "state": {
       "_model_module": "@jupyter-widgets/controls",
       "_model_module_version": "1.5.0",
       "_model_name": "DescriptionStyleModel",
       "_view_count": null,
       "_view_module": "@jupyter-widgets/base",
       "_view_module_version": "1.2.0",
       "_view_name": "StyleView",
       "description_width": ""
      }
     },
     "52523fcc902a4afd851bd2f8ae7ed544": {
      "model_module": "@jupyter-widgets/base",
      "model_module_version": "1.2.0",
      "model_name": "LayoutModel",
      "state": {
       "_model_module": "@jupyter-widgets/base",
       "_model_module_version": "1.2.0",
       "_model_name": "LayoutModel",
       "_view_count": null,
       "_view_module": "@jupyter-widgets/base",
       "_view_module_version": "1.2.0",
       "_view_name": "LayoutView",
       "align_content": null,
       "align_items": null,
       "align_self": null,
       "border": null,
       "bottom": null,
       "display": null,
       "flex": null,
       "flex_flow": null,
       "grid_area": null,
       "grid_auto_columns": null,
       "grid_auto_flow": null,
       "grid_auto_rows": null,
       "grid_column": null,
       "grid_gap": null,
       "grid_row": null,
       "grid_template_areas": null,
       "grid_template_columns": null,
       "grid_template_rows": null,
       "height": null,
       "justify_content": null,
       "justify_items": null,
       "left": null,
       "margin": null,
       "max_height": null,
       "max_width": null,
       "min_height": null,
       "min_width": null,
       "object_fit": null,
       "object_position": null,
       "order": null,
       "overflow": null,
       "overflow_x": null,
       "overflow_y": null,
       "padding": null,
       "right": null,
       "top": null,
       "visibility": null,
       "width": null
      }
     },
     "63c51eba951a4ec8a8b4f8c9bd877685": {
      "model_module": "@jupyter-widgets/controls",
      "model_module_version": "1.5.0",
      "model_name": "DescriptionStyleModel",
      "state": {
       "_model_module": "@jupyter-widgets/controls",
       "_model_module_version": "1.5.0",
       "_model_name": "DescriptionStyleModel",
       "_view_count": null,
       "_view_module": "@jupyter-widgets/base",
       "_view_module_version": "1.2.0",
       "_view_name": "StyleView",
       "description_width": ""
      }
     },
     "63f3ecc4bac24c468f7e844db944bdc2": {
      "model_module": "@jupyter-widgets/controls",
      "model_module_version": "1.5.0",
      "model_name": "HTMLModel",
      "state": {
       "_dom_classes": [],
       "_model_module": "@jupyter-widgets/controls",
       "_model_module_version": "1.5.0",
       "_model_name": "HTMLModel",
       "_view_count": null,
       "_view_module": "@jupyter-widgets/controls",
       "_view_module_version": "1.5.0",
       "_view_name": "HTMLView",
       "description": "",
       "description_tooltip": null,
       "layout": "IPY_MODEL_3ec146d4e81c40e6994ed499a71fd07a",
       "placeholder": "​",
       "style": "IPY_MODEL_12ab6869e2a64255a3cea8fe448a788d",
       "value": "<h5><a href=\"https://github.com/ipython/matplotlib-inline\">ipython/matplotlib-inline</a></h5>\n<ul>\n<li><a href=\"https://github.com/ipython/matplotlib-inline/issues/11\">(#11)</a>: <em>UnicodeDecodeError: 'utf-8' codec can't decode byte 0x89 in position 0: invalid start byte</em> by <strong><a href=\"https://github.com/justineuro\">@justineuro</a></strong></li>\n<li><a href=\"https://github.com/ipython/matplotlib-inline/issues/6\">(#6)</a>: <em>Question about pypi/matplotlib-inline pointing to a fork of this project.</em> by <strong><a href=\"https://github.com/crisbal\">@crisbal</a></strong></li>\n<li><a href=\"https://github.com/ipython/matplotlib-inline/issues/8\">(#8)</a>: <em>Add from <code>. import backend_inline</code> in <code>__init__.py</code> ?</em> by <strong><a href=\"https://github.com/Carreau\">@Carreau</a></strong></li>\n<li><a href=\"https://github.com/ipython/matplotlib-inline/issues/7\">(#7)</a>: <em>figure formatters not in this package</em> by <strong><a href=\"https://github.com/minrk\">@minrk</a></strong></li>\n</ul>"
      }
     },
     "684e0c60a3be457280ddd3e4c9e4c09f": {
      "model_module": "@jupyter-widgets/controls",
      "model_module_version": "1.5.0",
      "model_name": "DescriptionStyleModel",
      "state": {
       "_model_module": "@jupyter-widgets/controls",
       "_model_module_version": "1.5.0",
       "_model_name": "DescriptionStyleModel",
       "_view_count": null,
       "_view_module": "@jupyter-widgets/base",
       "_view_module_version": "1.2.0",
       "_view_name": "StyleView",
       "description_width": ""
      }
     },
     "6ada270ee87d4a9f99488e21635ca769": {
      "model_module": "@jupyter-widgets/controls",
      "model_module_version": "1.5.0",
      "model_name": "DescriptionStyleModel",
      "state": {
       "_model_module": "@jupyter-widgets/controls",
       "_model_module_version": "1.5.0",
       "_model_name": "DescriptionStyleModel",
       "_view_count": null,
       "_view_module": "@jupyter-widgets/base",
       "_view_module_version": "1.2.0",
       "_view_name": "StyleView",
       "description_width": ""
      }
     },
     "6c058f06e245498cbebf089fc2a09f00": {
      "model_module": "@jupyter-widgets/base",
      "model_module_version": "1.2.0",
      "model_name": "LayoutModel",
      "state": {
       "_model_module": "@jupyter-widgets/base",
       "_model_module_version": "1.2.0",
       "_model_name": "LayoutModel",
       "_view_count": null,
       "_view_module": "@jupyter-widgets/base",
       "_view_module_version": "1.2.0",
       "_view_name": "LayoutView",
       "align_content": null,
       "align_items": null,
       "align_self": null,
       "border": null,
       "bottom": null,
       "display": null,
       "flex": null,
       "flex_flow": null,
       "grid_area": null,
       "grid_auto_columns": null,
       "grid_auto_flow": null,
       "grid_auto_rows": null,
       "grid_column": null,
       "grid_gap": null,
       "grid_row": null,
       "grid_template_areas": null,
       "grid_template_columns": null,
       "grid_template_rows": null,
       "height": null,
       "justify_content": null,
       "justify_items": null,
       "left": null,
       "margin": null,
       "max_height": null,
       "max_width": null,
       "min_height": null,
       "min_width": null,
       "object_fit": null,
       "object_position": null,
       "order": null,
       "overflow": null,
       "overflow_x": null,
       "overflow_y": null,
       "padding": null,
       "right": null,
       "top": null,
       "visibility": null,
       "width": null
      }
     },
     "6df55a464acf4309b244405da6193bab": {
      "model_module": "@jupyter-widgets/controls",
      "model_module_version": "1.5.0",
      "model_name": "DescriptionStyleModel",
      "state": {
       "_model_module": "@jupyter-widgets/controls",
       "_model_module_version": "1.5.0",
       "_model_name": "DescriptionStyleModel",
       "_view_count": null,
       "_view_module": "@jupyter-widgets/base",
       "_view_module_version": "1.2.0",
       "_view_name": "StyleView",
       "description_width": ""
      }
     },
     "6e1b91a3fd8748c4a229514f12b325eb": {
      "model_module": "@jupyter-widgets/controls",
      "model_module_version": "1.5.0",
      "model_name": "DescriptionStyleModel",
      "state": {
       "_model_module": "@jupyter-widgets/controls",
       "_model_module_version": "1.5.0",
       "_model_name": "DescriptionStyleModel",
       "_view_count": null,
       "_view_module": "@jupyter-widgets/base",
       "_view_module_version": "1.2.0",
       "_view_name": "StyleView",
       "description_width": ""
      }
     },
     "71894efc4dee40598b890be271cead93": {
      "model_module": "@jupyter-widgets/controls",
      "model_module_version": "1.5.0",
      "model_name": "HTMLModel",
      "state": {
       "_dom_classes": [],
       "_model_module": "@jupyter-widgets/controls",
       "_model_module_version": "1.5.0",
       "_model_name": "HTMLModel",
       "_view_count": null,
       "_view_module": "@jupyter-widgets/controls",
       "_view_module_version": "1.5.0",
       "_view_name": "HTMLView",
       "description": "",
       "description_tooltip": null,
       "layout": "IPY_MODEL_4de355d7cf154ad5a2d5efb914ac631f",
       "placeholder": "​",
       "style": "IPY_MODEL_2fbe2309e63343809ced999e7d37140d",
       "value": "<h5><a href=\"https://github.com/ipython/traitlets\">ipython/traitlets</a></h5>\n<ul>\n<li><a href=\"https://github.com/ipython/traitlets/issues/677\">(#677)</a>: <em>Traitlets in strict mode - fail on warnings and/or fail on missing config?</em> by <strong><a href=\"https://github.com/consideRatio\">@consideRatio</a></strong></li>\n<li><a href=\"https://github.com/ipython/traitlets/issues/676\">(#676)</a>: <em>TestUseEnum.test_assign_scoped_enum_value_name fails in 5.1.0</em> by <strong><a href=\"https://github.com/opoplawski\">@opoplawski</a></strong></li>\n</ul>"
      }
     },
     "77f0e179d15649ce9b93fb8b04b3338c": {
      "model_module": "@jupyter-widgets/controls",
      "model_module_version": "1.5.0",
      "model_name": "DescriptionStyleModel",
      "state": {
       "_model_module": "@jupyter-widgets/controls",
       "_model_module_version": "1.5.0",
       "_model_name": "DescriptionStyleModel",
       "_view_count": null,
       "_view_module": "@jupyter-widgets/base",
       "_view_module_version": "1.2.0",
       "_view_name": "StyleView",
       "description_width": ""
      }
     },
     "7bb9cfb7b1a1452c8f49bdb49c525adb": {
      "model_module": "@jupyter-widgets/base",
      "model_module_version": "1.2.0",
      "model_name": "LayoutModel",
      "state": {
       "_model_module": "@jupyter-widgets/base",
       "_model_module_version": "1.2.0",
       "_model_name": "LayoutModel",
       "_view_count": null,
       "_view_module": "@jupyter-widgets/base",
       "_view_module_version": "1.2.0",
       "_view_name": "LayoutView",
       "align_content": null,
       "align_items": null,
       "align_self": null,
       "border": null,
       "bottom": null,
       "display": null,
       "flex": null,
       "flex_flow": null,
       "grid_area": null,
       "grid_auto_columns": null,
       "grid_auto_flow": null,
       "grid_auto_rows": null,
       "grid_column": null,
       "grid_gap": null,
       "grid_row": null,
       "grid_template_areas": null,
       "grid_template_columns": null,
       "grid_template_rows": null,
       "height": null,
       "justify_content": null,
       "justify_items": null,
       "left": null,
       "margin": null,
       "max_height": null,
       "max_width": null,
       "min_height": null,
       "min_width": null,
       "object_fit": null,
       "object_position": null,
       "order": null,
       "overflow": null,
       "overflow_x": null,
       "overflow_y": null,
       "padding": null,
       "right": null,
       "top": null,
       "visibility": null,
       "width": null
      }
     },
     "92f66876e4ea4d2e916ea9af0a6db207": {
      "model_module": "@jupyter-widgets/controls",
      "model_module_version": "1.5.0",
      "model_name": "HTMLModel",
      "state": {
       "_dom_classes": [],
       "_model_module": "@jupyter-widgets/controls",
       "_model_module_version": "1.5.0",
       "_model_name": "HTMLModel",
       "_view_count": null,
       "_view_module": "@jupyter-widgets/controls",
       "_view_module_version": "1.5.0",
       "_view_name": "HTMLView",
       "description": "",
       "description_tooltip": null,
       "layout": "IPY_MODEL_315df39402a548b38c383c34911b5213",
       "placeholder": "​",
       "style": "IPY_MODEL_37b53a8de1a64ae88658b0cac3a9df94",
       "value": "<h5><a href=\"https://github.com/ipython/ipykernel\">ipython/ipykernel</a></h5>\n<ul>\n<li><a href=\"https://github.com/ipython/ipykernel/issues/775\">(#775)</a>: _support for %gui qt6 _ by <strong><a href=\"https://github.com/daliagachc\">@daliagachc</a></strong></li>\n<li><a href=\"https://github.com/ipython/ipykernel/issues/712\">(#712)</a>: <em>Please make the dependency on debugpy optional</em> by <strong><a href=\"https://github.com/mgorny\">@mgorny</a></strong></li>\n<li><a href=\"https://github.com/ipython/ipykernel/issues/759\">(#759)</a>: <em><code>pip install ipykernel&lt;6</code> gives incomplete installation, since Traitlets 5.1 release</em> by <strong><a href=\"https://github.com/mdickinson\">@mdickinson</a></strong></li>\n</ul>"
      }
     },
     "93b3bfb89fb74904971e292ea783f2da": {
      "model_module": "@jupyter-widgets/controls",
      "model_module_version": "1.5.0",
      "model_name": "HTMLModel",
      "state": {
       "_dom_classes": [],
       "_model_module": "@jupyter-widgets/controls",
       "_model_module_version": "1.5.0",
       "_model_name": "HTMLModel",
       "_view_count": null,
       "_view_module": "@jupyter-widgets/controls",
       "_view_module_version": "1.5.0",
       "_view_name": "HTMLView",
       "description": "",
       "description_tooltip": null,
       "layout": "IPY_MODEL_c6288bc9397e44d395775ad6d74a5e9a",
       "placeholder": "​",
       "style": "IPY_MODEL_684e0c60a3be457280ddd3e4c9e4c09f",
       "value": "<h5><a href=\"https://github.com/ipython/ipython\">ipython/ipython</a></h5>\n<ul>\n<li><a href=\"https://github.com/ipython/ipython/issues/13136\">(#13136)</a>: <em>IPython Debugger: Skipping the decorator code</em> by <strong><a href=\"https://github.com/umairanis03\">@umairanis03</a></strong></li>\n<li><a href=\"https://github.com/ipython/ipython/issues/13197\">(#13197)</a>: <em>Different output results for Jupyter Notebook and other IDE for TensorFlow GPU</em> by <strong><a href=\"https://github.com/Vadim-Maklakov\">@Vadim-Maklakov</a></strong></li>\n<li><a href=\"https://github.com/ipython/ipython/issues/13109\">(#13109)</a>: <em>ipython/Matplotlib save button does not show popup dialog with ipython 7.26 on Mac with Qt5Agg backend</em> by <strong><a href=\"https://github.com/agallenne\">@agallenne</a></strong></li>\n<li><a href=\"https://github.com/ipython/ipython/issues/12831\">(#12831)</a>: <em>IPython crash when use showtraceback with exception_only=True</em> by <strong><a href=\"https://github.com/MiklosTacs\">@MiklosTacs</a></strong></li>\n</ul>"
      }
     },
     "a1ddef39e67f4706915225d374d9be75": {
      "model_module": "@jupyter-widgets/controls",
      "model_module_version": "1.5.0",
      "model_name": "DescriptionStyleModel",
      "state": {
       "_model_module": "@jupyter-widgets/controls",
       "_model_module_version": "1.5.0",
       "_model_name": "DescriptionStyleModel",
       "_view_count": null,
       "_view_module": "@jupyter-widgets/base",
       "_view_module_version": "1.2.0",
       "_view_name": "StyleView",
       "description_width": ""
      }
     },
     "a265c27f81e149539228d024a5d8281a": {
      "model_module": "@jupyter-widgets/controls",
      "model_module_version": "1.5.0",
      "model_name": "HTMLModel",
      "state": {
       "_dom_classes": [],
       "_model_module": "@jupyter-widgets/controls",
       "_model_module_version": "1.5.0",
       "_model_name": "HTMLModel",
       "_view_count": null,
       "_view_module": "@jupyter-widgets/controls",
       "_view_module_version": "1.5.0",
       "_view_name": "HTMLView",
       "description": "",
       "description_tooltip": null,
       "layout": "IPY_MODEL_6c058f06e245498cbebf089fc2a09f00",
       "placeholder": "​",
       "style": "IPY_MODEL_29363748c2b14725ad642e68ced1a90a",
       "value": "<h5><a href=\"https://github.com/ipython/ipyparallel\">ipython/ipyparallel</a></h5>\n<ul>\n<li><a href=\"https://github.com/ipython/ipyparallel/issues/619\">(#619)</a>: <em>PBSControllerLauncher: Unable to connect_client_sync()</em> by <strong><a href=\"https://github.com/lukas-koschmieder\">@lukas-koschmieder</a></strong></li>\n<li><a href=\"https://github.com/ipython/ipyparallel/issues/612\">(#612)</a>: <em><code>ViewExecutor</code> context manager (<code>with</code> statement)</em> by <strong><a href=\"https://github.com/aplamada\">@aplamada</a></strong></li>\n<li><a href=\"https://github.com/ipython/ipyparallel/issues/575\">(#575)</a>: <em>New release?</em> by <strong><a href=\"https://github.com/frenzymadness\">@frenzymadness</a></strong></li>\n</ul>"
      }
     },
     "a9f0d9661718413e8c4be6ba7763c64a": {
      "model_module": "@jupyter-widgets/controls",
      "model_module_version": "1.5.0",
      "model_name": "DescriptionStyleModel",
      "state": {
       "_model_module": "@jupyter-widgets/controls",
       "_model_module_version": "1.5.0",
       "_model_name": "DescriptionStyleModel",
       "_view_count": null,
       "_view_module": "@jupyter-widgets/base",
       "_view_module_version": "1.2.0",
       "_view_name": "StyleView",
       "description_width": ""
      }
     },
     "afa4ae09be2444e8806b41ddc91edc24": {
      "model_module": "@jupyter-widgets/controls",
      "model_module_version": "1.5.0",
      "model_name": "HTMLModel",
      "state": {
       "_dom_classes": [],
       "_model_module": "@jupyter-widgets/controls",
       "_model_module_version": "1.5.0",
       "_model_name": "HTMLModel",
       "_view_count": null,
       "_view_module": "@jupyter-widgets/controls",
       "_view_module_version": "1.5.0",
       "_view_name": "HTMLView",
       "description": "",
       "description_tooltip": null,
       "layout": "IPY_MODEL_e738ca84479c4fd1a3977cea27bb519d",
       "placeholder": "​",
       "style": "IPY_MODEL_33a6db78302d43e7b1c80c14090c14b0",
       "value": "<h5><a href=\"https://github.com/ipython/ipython-in-depth\">ipython/ipython-in-depth</a></h5>\n<ul>\n<li><a href=\"https://github.com/ipython/ipython-in-depth/issues/79\">(#79)</a>: <em>df2.iloc[2]</em> by <strong><a href=\"https://github.com/youvanrajgire\">@youvanrajgire</a></strong></li>\n<li><a href=\"https://github.com/ipython/ipython-in-depth/issues/56\">(#56)</a>: <em>spaces in file names and spaces in links lead to broken markdown links in tutorial</em> by <strong><a href=\"https://github.com/RobertHa\">@RobertHa</a></strong></li>\n<li><a href=\"https://github.com/ipython/ipython-in-depth/issues/55\">(#55)</a>: <em>Broken image links in ipython-in-depth/exercises/Parallel Computing/Overview of IPython.parallel.ipynb</em> by <strong><a href=\"https://github.com/alemorm\">@alemorm</a></strong></li>\n</ul>"
      }
     },
     "b2c58336cb81472f90a61c5529ed5044": {
      "model_module": "@jupyter-widgets/controls",
      "model_module_version": "1.5.0",
      "model_name": "HTMLModel",
      "state": {
       "_dom_classes": [],
       "_model_module": "@jupyter-widgets/controls",
       "_model_module_version": "1.5.0",
       "_model_name": "HTMLModel",
       "_view_count": null,
       "_view_module": "@jupyter-widgets/controls",
       "_view_module_version": "1.5.0",
       "_view_name": "HTMLView",
       "description": "",
       "description_tooltip": null,
       "layout": "IPY_MODEL_33a329f4f3514388896d4834dce9cdbb",
       "placeholder": "​",
       "style": "IPY_MODEL_a1ddef39e67f4706915225d374d9be75",
       "value": "<h4>Closed PRs for repo: <a href=\"https://github.com/ipython/ipython-in-depth\">ipython/ipython-in-depth</a></h4>\n<h5></h5>\n<ul>\n<li><a href=\"https://github.com/ipython/ipython-in-depth/pull/59\">(#59)</a>: <em>Fixes for #55 #56</em> by <strong><a href=\"https://github.com/djcomlab\">@djcomlab</a></strong> merged by <strong><a href=\"https://github.com/minrk\">@minrk</a></strong></li>\n</ul>"
      }
     },
     "bbc668c35f50426a84b17aa605493f84": {
      "model_module": "@jupyter-widgets/base",
      "model_module_version": "1.2.0",
      "model_name": "LayoutModel",
      "state": {
       "_model_module": "@jupyter-widgets/base",
       "_model_module_version": "1.2.0",
       "_model_name": "LayoutModel",
       "_view_count": null,
       "_view_module": "@jupyter-widgets/base",
       "_view_module_version": "1.2.0",
       "_view_name": "LayoutView",
       "align_content": null,
       "align_items": null,
       "align_self": null,
       "border": null,
       "bottom": null,
       "display": null,
       "flex": null,
       "flex_flow": null,
       "grid_area": null,
       "grid_auto_columns": null,
       "grid_auto_flow": null,
       "grid_auto_rows": null,
       "grid_column": null,
       "grid_gap": null,
       "grid_row": null,
       "grid_template_areas": null,
       "grid_template_columns": null,
       "grid_template_rows": null,
       "height": null,
       "justify_content": null,
       "justify_items": null,
       "left": null,
       "margin": null,
       "max_height": null,
       "max_width": null,
       "min_height": null,
       "min_width": null,
       "object_fit": null,
       "object_position": null,
       "order": null,
       "overflow": null,
       "overflow_x": null,
       "overflow_y": null,
       "padding": null,
       "right": null,
       "top": null,
       "visibility": null,
       "width": null
      }
     },
     "c56af82d1c6d4e94a2560ede67292279": {
      "model_module": "@jupyter-widgets/controls",
      "model_module_version": "1.5.0",
      "model_name": "HTMLModel",
      "state": {
       "_dom_classes": [],
       "_model_module": "@jupyter-widgets/controls",
       "_model_module_version": "1.5.0",
       "_model_name": "HTMLModel",
       "_view_count": null,
       "_view_module": "@jupyter-widgets/controls",
       "_view_module_version": "1.5.0",
       "_view_name": "HTMLView",
       "description": "",
       "description_tooltip": null,
       "layout": "IPY_MODEL_4b94241a0ab444e887ae396183b3a675",
       "placeholder": "​",
       "style": "IPY_MODEL_f67c7694fde8434690cda10339914de1",
       "value": "<h5><a href=\"https://github.com/ipython/ipyparallel\">ipython/ipyparallel</a></h5>\n<ul>\n<li><a href=\"https://github.com/ipython/ipyparallel/issues/619\">(#619)</a>: <em>PBSControllerLauncher: Unable to connect_client_sync()</em> by <strong><a href=\"https://github.com/lukas-koschmieder\">@lukas-koschmieder</a></strong></li>\n<li><a href=\"https://github.com/ipython/ipyparallel/issues/612\">(#612)</a>: <em><code>ViewExecutor</code> context manager (<code>with</code> statement)</em> by <strong><a href=\"https://github.com/aplamada\">@aplamada</a></strong></li>\n<li><a href=\"https://github.com/ipython/ipyparallel/issues/575\">(#575)</a>: <em>New release?</em> by <strong><a href=\"https://github.com/frenzymadness\">@frenzymadness</a></strong></li>\n</ul>"
      }
     },
     "c6288bc9397e44d395775ad6d74a5e9a": {
      "model_module": "@jupyter-widgets/base",
      "model_module_version": "1.2.0",
      "model_name": "LayoutModel",
      "state": {
       "_model_module": "@jupyter-widgets/base",
       "_model_module_version": "1.2.0",
       "_model_name": "LayoutModel",
       "_view_count": null,
       "_view_module": "@jupyter-widgets/base",
       "_view_module_version": "1.2.0",
       "_view_name": "LayoutView",
       "align_content": null,
       "align_items": null,
       "align_self": null,
       "border": null,
       "bottom": null,
       "display": null,
       "flex": null,
       "flex_flow": null,
       "grid_area": null,
       "grid_auto_columns": null,
       "grid_auto_flow": null,
       "grid_auto_rows": null,
       "grid_column": null,
       "grid_gap": null,
       "grid_row": null,
       "grid_template_areas": null,
       "grid_template_columns": null,
       "grid_template_rows": null,
       "height": null,
       "justify_content": null,
       "justify_items": null,
       "left": null,
       "margin": null,
       "max_height": null,
       "max_width": null,
       "min_height": null,
       "min_width": null,
       "object_fit": null,
       "object_position": null,
       "order": null,
       "overflow": null,
       "overflow_x": null,
       "overflow_y": null,
       "padding": null,
       "right": null,
       "top": null,
       "visibility": null,
       "width": null
      }
     },
     "cdb5e94339de412582430e2794ea378a": {
      "model_module": "@jupyter-widgets/controls",
      "model_module_version": "1.5.0",
      "model_name": "HTMLModel",
      "state": {
       "_dom_classes": [],
       "_model_module": "@jupyter-widgets/controls",
       "_model_module_version": "1.5.0",
       "_model_name": "HTMLModel",
       "_view_count": null,
       "_view_module": "@jupyter-widgets/controls",
       "_view_module_version": "1.5.0",
       "_view_name": "HTMLView",
       "description": "",
       "description_tooltip": null,
       "layout": "IPY_MODEL_393ff38d779b498399755f66864faaab",
       "placeholder": "​",
       "style": "IPY_MODEL_63c51eba951a4ec8a8b4f8c9bd877685",
       "value": "<h4>Closed PRs for repo: <a href=\"https://github.com/ipython/ipython\">ipython/ipython</a></h4>\n<h5></h5>\n<ul>\n<li><a href=\"https://github.com/ipython/ipython/pull/13242\">(#13242)</a>: <em>Remove unused _find_cmd</em> by <strong><a href=\"https://github.com/Kojoley\">@Kojoley</a></strong> merged by <strong><a href=\"https://github.com/Carreau\">@Carreau</a></strong></li>\n<li><a href=\"https://github.com/ipython/ipython/pull/13240\">(#13240)</a>: <em>test_completer tests resurrection</em> by <strong><a href=\"https://github.com/Kojoley\">@Kojoley</a></strong> merged by <strong><a href=\"https://github.com/Carreau\">@Carreau</a></strong></li>\n<li><a href=\"https://github.com/ipython/ipython/pull/13235\">(#13235)</a>: <em>Update what's of of older IPython (forgotten)</em> by <strong><a href=\"https://github.com/Carreau\">@Carreau</a></strong> merged by <strong><a href=\"https://github.com/Carreau\">@Carreau</a></strong></li>\n<li><a href=\"https://github.com/ipython/ipython/pull/13233\">(#13233)</a>: <em>Fix link and try to fix list.</em> by <strong><a href=\"https://github.com/Carreau\">@Carreau</a></strong> merged by <strong><a href=\"https://github.com/Carreau\">@Carreau</a></strong></li>\n<li><a href=\"https://github.com/ipython/ipython/pull/13231\">(#13231)</a>: <em>What's New 7.29</em> by <strong><a href=\"https://github.com/Carreau\">@Carreau</a></strong> merged by <strong><a href=\"https://github.com/Carreau\">@Carreau</a></strong></li>\n<li><a href=\"https://github.com/ipython/ipython/pull/13230\">(#13230)</a>: <em>Run Pytest tests on Appveyor</em> by <strong><a href=\"https://github.com/Kojoley\">@Kojoley</a></strong> merged by <strong><a href=\"https://github.com/Carreau\">@Carreau</a></strong></li>\n<li><a href=\"https://github.com/ipython/ipython/pull/13229\">(#13229)</a>: <em>Disable codecov for current patch</em> by <strong><a href=\"https://github.com/Carreau\">@Carreau</a></strong> merged by <strong><a href=\"https://github.com/Carreau\">@Carreau</a></strong></li>\n<li><a href=\"https://github.com/ipython/ipython/pull/13228\">(#13228)</a>: <em>Import <code>reload</code> from <code>importlib</code> instead of deprecated <code>imp</code></em> by <strong><a href=\"https://github.com/erihe251\">@erihe251</a></strong> merged by <strong><a href=\"https://github.com/Carreau\">@Carreau</a></strong></li>\n<li><a href=\"https://github.com/ipython/ipython/pull/13226\">(#13226)</a>: <em>CI: Collect coverage from GHA Pytest run</em> by <strong><a href=\"https://github.com/Kojoley\">@Kojoley</a></strong> merged by <strong><a href=\"https://github.com/Carreau\">@Carreau</a></strong></li>\n<li><a href=\"https://github.com/ipython/ipython/pull/13225\">(#13225)</a>: <em>Fix quick reference documentation for 'exec'</em> by <strong><a href=\"https://github.com/adamchainz\">@adamchainz</a></strong> merged by <strong><a href=\"https://github.com/Carreau\">@Carreau</a></strong></li>\n<li><a href=\"https://github.com/ipython/ipython/pull/13218\">(#13218)</a>: <em>Set InterruptiblePdb as the default debugger.</em> by <strong><a href=\"https://github.com/Carreau\">@Carreau</a></strong> merged by <strong><a href=\"https://github.com/Carreau\">@Carreau</a></strong></li>\n<li><a href=\"https://github.com/ipython/ipython/pull/13216\">(#13216)</a>: <em>CI: Upload coverage from Appveyor</em> by <strong><a href=\"https://github.com/Kojoley\">@Kojoley</a></strong> merged by <strong><a href=\"https://github.com/Carreau\">@Carreau</a></strong></li>\n<li><a href=\"https://github.com/ipython/ipython/pull/13215\">(#13215)</a>: <em>reformat previous commit</em> by <strong><a href=\"https://github.com/Carreau\">@Carreau</a></strong> merged by <strong><a href=\"https://github.com/Carreau\">@Carreau</a></strong></li>\n<li><a href=\"https://github.com/ipython/ipython/pull/13214\">(#13214)</a>: <em>ipexec: prevent output coloring under PyCharm</em> by <strong><a href=\"https://github.com/Kojoley\">@Kojoley</a></strong> merged by <strong><a href=\"https://github.com/Carreau\">@Carreau</a></strong></li>\n<li><a href=\"https://github.com/ipython/ipython/pull/13213\">(#13213)</a>: <em>Fix bunch of doctests</em> by <strong><a href=\"https://github.com/Kojoley\">@Kojoley</a></strong> merged by <strong><a href=\"https://github.com/Carreau\">@Carreau</a></strong></li>\n<li><a href=\"https://github.com/ipython/ipython/pull/13212\">(#13212)</a>: <em>removed a name shadowing pitfall</em> by <strong><a href=\"https://github.com/NaelsonDouglas\">@NaelsonDouglas</a></strong> merged by <strong><a href=\"https://github.com/Carreau\">@Carreau</a></strong></li>\n<li><a href=\"https://github.com/ipython/ipython/pull/13211\">(#13211)</a>: <em>Adhere to usage style when documenting save args</em> by <strong><a href=\"https://github.com/paw-lu\">@paw-lu</a></strong> merged by <strong><a href=\"https://github.com/Carreau\">@Carreau</a></strong></li>\n<li><a href=\"https://github.com/ipython/ipython/pull/13207\">(#13207)</a>: <em>Try to enable codecov status</em> by <strong><a href=\"https://github.com/Carreau\">@Carreau</a></strong> merged by <strong><a href=\"https://github.com/Carreau\">@Carreau</a></strong></li>\n<li><a href=\"https://github.com/ipython/ipython/pull/13206\">(#13206)</a>: <em>Nose cleanup first step</em> by <strong><a href=\"https://github.com/sgaist\">@sgaist</a></strong> merged by <strong><a href=\"https://github.com/Carreau\">@Carreau</a></strong></li>\n<li><a href=\"https://github.com/ipython/ipython/pull/13205\">(#13205)</a>: <em>Typos found by codespell</em> by <strong><a href=\"https://github.com/DimitriPapadopoulos\">@DimitriPapadopoulos</a></strong> merged by <strong><a href=\"https://github.com/Carreau\">@Carreau</a></strong></li>\n<li><a href=\"https://github.com/ipython/ipython/pull/13204\">(#13204)</a>: <em>Do not use mutables as default arguments</em> by <strong><a href=\"https://github.com/DimitriPapadopoulos\">@DimitriPapadopoulos</a></strong> merged by <strong><a href=\"https://github.com/Carreau\">@Carreau</a></strong></li>\n<li><a href=\"https://github.com/ipython/ipython/pull/13202\">(#13202)</a>: <em>Fix unintentional skipping of module level doctests</em> by <strong><a href=\"https://github.com/Kojoley\">@Kojoley</a></strong> merged by <strong><a href=\"https://github.com/Carreau\">@Carreau</a></strong></li>\n<li><a href=\"https://github.com/ipython/ipython/pull/13198\">(#13198)</a>: <em>match log message for profile by name and path</em> by <strong><a href=\"https://github.com/minrk\">@minrk</a></strong> merged by <strong><a href=\"https://github.com/Carreau\">@Carreau</a></strong></li>\n<li><a href=\"https://github.com/ipython/ipython/pull/13194\">(#13194)</a>: <em>feat: remove deprecated code &amp; files ⚰️</em> by <strong><a href=\"https://github.com/meysam81\">@meysam81</a></strong> merged by <strong><a href=\"https://github.com/Carreau\">@Carreau</a></strong></li>\n<li><a href=\"https://github.com/ipython/ipython/pull/13193\">(#13193)</a>: <em>Use codecov Github action v2</em> by <strong><a href=\"https://github.com/takluyver\">@takluyver</a></strong> merged by <strong><a href=\"https://github.com/Carreau\">@Carreau</a></strong></li>\n<li><a href=\"https://github.com/ipython/ipython/pull/13191\">(#13191)</a>: <em>Try to fix some of current failures.</em> by <strong><a href=\"https://github.com/Carreau\">@Carreau</a></strong> merged by <strong><a href=\"https://github.com/Carreau\">@Carreau</a></strong></li>\n<li><a href=\"https://github.com/ipython/ipython/pull/13187\">(#13187)</a>: <em>Fix wrong inspect.signature call</em> by <strong><a href=\"https://github.com/gpotter2\">@gpotter2</a></strong> merged by <strong><a href=\"https://github.com/Carreau\">@Carreau</a></strong></li>\n<li><a href=\"https://github.com/ipython/ipython/pull/13182\">(#13182)</a>: <em>ci: Simplify CI maintenance by combining Ubuntu and macOS workflows</em> by <strong><a href=\"https://github.com/matthewfeickert\">@matthewfeickert</a></strong> merged by <strong><a href=\"https://github.com/Carreau\">@Carreau</a></strong></li>\n<li><a href=\"https://github.com/ipython/ipython/pull/13181\">(#13181)</a>: <em>create ipython_dir if not exists</em> by <strong><a href=\"https://github.com/haobibo\">@haobibo</a></strong> merged by <strong><a href=\"https://github.com/Carreau\">@Carreau</a></strong></li>\n<li><a href=\"https://github.com/ipython/ipython/pull/13179\">(#13179)</a>: <em>Fix qtagg eventloop</em> by <strong><a href=\"https://github.com/tacaswell\">@tacaswell</a></strong> merged by <strong><a href=\"https://github.com/Carreau\">@Carreau</a></strong></li>\n<li><a href=\"https://github.com/ipython/ipython/pull/13175\">(#13175)</a>: <em>Expand and Fix PDB skip.</em> by <strong><a href=\"https://github.com/Carreau\">@Carreau</a></strong> merged by <strong><a href=\"https://github.com/Carreau\">@Carreau</a></strong></li>\n<li><a href=\"https://github.com/ipython/ipython/pull/13174\">(#13174)</a>: <em>Fix cpaste documentation</em> by <strong><a href=\"https://github.com/sgaist\">@sgaist</a></strong> merged by <strong><a href=\"https://github.com/Carreau\">@Carreau</a></strong></li>\n<li><a href=\"https://github.com/ipython/ipython/pull/13172\">(#13172)</a>: <em>use _exec wrapper for qt win32 inputhook</em> by <strong><a href=\"https://github.com/pijyoi\">@pijyoi</a></strong> merged by <strong><a href=\"https://github.com/Carreau\">@Carreau</a></strong></li>\n<li><a href=\"https://github.com/ipython/ipython/pull/13167\">(#13167)</a>: <em>Backport PR #13142: Pdbskip #13136</em> by <strong><a href=\"https://github.com/Carreau\">@Carreau</a></strong> merged by <strong><a href=\"https://github.com/Carreau\">@Carreau</a></strong></li>\n<li><a href=\"https://github.com/ipython/ipython/pull/13162\">(#13162)</a>: <em>print_figure return base64 str instead of bytes</em> by <strong><a href=\"https://github.com/minrk\">@minrk</a></strong> merged by <strong><a href=\"https://github.com/Carreau\">@Carreau</a></strong></li>\n<li><a href=\"https://github.com/ipython/ipython/pull/13158\">(#13158)</a>: <em>What's new 7.28</em> by <strong><a href=\"https://github.com/Carreau\">@Carreau</a></strong> merged by <strong><a href=\"https://github.com/Carreau\">@Carreau</a></strong></li>\n<li><a href=\"https://github.com/ipython/ipython/pull/13157\">(#13157)</a>: <em>Add history file to debugger</em> by <strong><a href=\"https://github.com/Carreau\">@Carreau</a></strong> merged by <strong><a href=\"https://github.com/minrk\">@minrk</a></strong></li>\n<li><a href=\"https://github.com/ipython/ipython/pull/13153\">(#13153)</a>: <em>Adapt to all sorts of drive names for cygwin</em> by <strong><a href=\"https://github.com/Mithil467\">@Mithil467</a></strong> merged by <strong><a href=\"https://github.com/MrMino\">@MrMino</a></strong></li>\n<li><a href=\"https://github.com/ipython/ipython/pull/13147\">(#13147)</a>: <em>Reword the YouTubeVideo autoplay WN</em> by <strong><a href=\"https://github.com/MrMino\">@MrMino</a></strong> merged by <strong><a href=\"https://github.com/MrMino\">@MrMino</a></strong></li>\n<li><a href=\"https://github.com/ipython/ipython/pull/13142\">(#13142)</a>: <em>Pdbskip #13136</em> by <strong><a href=\"https://github.com/Carreau\">@Carreau</a></strong> merged by <strong><a href=\"https://github.com/Carreau\">@Carreau</a></strong></li>\n<li><a href=\"https://github.com/ipython/ipython/pull/13140\">(#13140)</a>: <em>Use pathlib parent relationships to compare virtualenv directories</em> by <strong><a href=\"https://github.com/MrMino\">@MrMino</a></strong> merged by <strong><a href=\"https://github.com/MrMino\">@MrMino</a></strong></li>\n<li><a href=\"https://github.com/ipython/ipython/pull/13138\">(#13138)</a>: <em>Fix broken ipyparallel's refs</em> by <strong><a href=\"https://github.com/MrMino\">@MrMino</a></strong> merged by <strong><a href=\"https://github.com/MrMino\">@MrMino</a></strong></li>\n<li><a href=\"https://github.com/ipython/ipython/pull/13133\">(#13133)</a>: <em>enable autoplay in embed youtube player</em> by <strong><a href=\"https://github.com/yuji96\">@yuji96</a></strong> merged by <strong><a href=\"https://github.com/MrMino\">@MrMino</a></strong></li>\n<li><a href=\"https://github.com/ipython/ipython/pull/13125\">(#13125)</a>: <em>Improve formatting of %time documentation</em> by <strong><a href=\"https://github.com/MrMino\">@MrMino</a></strong> merged by <strong><a href=\"https://github.com/MrMino\">@MrMino</a></strong></li>\n<li><a href=\"https://github.com/ipython/ipython/pull/13118\">(#13118)</a>: <em>Fix formatting for the core.interactiveshell documentation</em> by <strong><a href=\"https://github.com/prius\">@prius</a></strong> merged by <strong><a href=\"https://github.com/MrMino\">@MrMino</a></strong></li>\n<li><a href=\"https://github.com/ipython/ipython/pull/13115\">(#13115)</a>: <em>nose2pytest migration batch 1</em> by <strong><a href=\"https://github.com/kloczek\">@kloczek</a></strong> merged by <strong><a href=\"https://github.com/MrMino\">@MrMino</a></strong></li>\n<li><a href=\"https://github.com/ipython/ipython/pull/13111\">(#13111)</a>: <em>7.27 what's new.</em> by <strong><a href=\"https://github.com/Carreau\">@Carreau</a></strong> merged by <strong><a href=\"https://github.com/Carreau\">@Carreau</a></strong></li>\n<li><a href=\"https://github.com/ipython/ipython/pull/13101\">(#13101)</a>: <em>Add input hooks for GTK4.</em> by <strong><a href=\"https://github.com/QuLogic\">@QuLogic</a></strong> merged by <strong><a href=\"https://github.com/Carreau\">@Carreau</a></strong></li>\n<li><a href=\"https://github.com/ipython/ipython/pull/13098\">(#13098)</a>: <em>Remove more nose idioms</em> by <strong><a href=\"https://github.com/Carreau\">@Carreau</a></strong> merged by <strong><a href=\"https://github.com/Carreau\">@Carreau</a></strong></li>\n<li><a href=\"https://github.com/ipython/ipython/pull/13097\">(#13097)</a>: <em>Protect against failure to show local data.</em> by <strong><a href=\"https://github.com/Carreau\">@Carreau</a></strong> merged by <strong><a href=\"https://github.com/Carreau\">@Carreau</a></strong></li>\n<li><a href=\"https://github.com/ipython/ipython/pull/13095\">(#13095)</a>: <em>Remove some nose</em> by <strong><a href=\"https://github.com/Carreau\">@Carreau</a></strong> merged by <strong><a href=\"https://github.com/Carreau\">@Carreau</a></strong></li>\n<li><a href=\"https://github.com/ipython/ipython/pull/13094\">(#13094)</a>: <em>Fix virtual environment user warning for lower case pathes</em> by <strong><a href=\"https://github.com/MRCWirtz\">@MRCWirtz</a></strong> merged by <strong><a href=\"https://github.com/MrMino\">@MrMino</a></strong></li>\n<li><a href=\"https://github.com/ipython/ipython/pull/13093\">(#13093)</a>: <em>Fix #13084</em> by <strong><a href=\"https://github.com/madbird1304\">@madbird1304</a></strong> merged by <strong><a href=\"https://github.com/MrMino\">@MrMino</a></strong></li>\n<li><a href=\"https://github.com/ipython/ipython/pull/13091\">(#13091)</a>: <em>Fix for issue #12897 (Changing to vi mode via config magic)</em> by <strong><a href=\"https://github.com/madbird1304\">@madbird1304</a></strong> merged by <strong><a href=\"https://github.com/Carreau\">@Carreau</a></strong></li>\n<li><a href=\"https://github.com/ipython/ipython/pull/13090\">(#13090)</a>: <em>Fix: <code>async with</code> doesn't allow newlines (ipython/ipython/issues/12975)</em> by <strong><a href=\"https://github.com/madbird1304\">@madbird1304</a></strong> merged by <strong><a href=\"https://github.com/Carreau\">@Carreau</a></strong></li>\n<li><a href=\"https://github.com/ipython/ipython/pull/13088\">(#13088)</a>: _Improve error tracebacks so that it shows the cell prompts [2] _ by <strong><a href=\"https://github.com/martinRenou\">@martinRenou</a></strong> merged by <strong><a href=\"https://github.com/MrMino\">@MrMino</a></strong></li>\n<li><a href=\"https://github.com/ipython/ipython/pull/13085\">(#13085)</a>: <em>ENH: add support for Qt6 input hooks</em> by <strong><a href=\"https://github.com/tacaswell\">@tacaswell</a></strong> merged by <strong><a href=\"https://github.com/Carreau\">@Carreau</a></strong></li>\n<li><a href=\"https://github.com/ipython/ipython/pull/13078\">(#13078)</a>: <em>Remove deprecated IPython.html module</em> by <strong><a href=\"https://github.com/MrMino\">@MrMino</a></strong> merged by <strong><a href=\"https://github.com/Carreau\">@Carreau</a></strong></li>\n<li><a href=\"https://github.com/ipython/ipython/pull/13076\">(#13076)</a>: <em>inherit base aliases / flags from traitlets.config.Application</em> by <strong><a href=\"https://github.com/minrk\">@minrk</a></strong> merged by <strong><a href=\"https://github.com/Carreau\">@Carreau</a></strong></li>\n<li><a href=\"https://github.com/ipython/ipython/pull/13069\">(#13069)</a>: <em>Exported submodules completion</em> by <strong><a href=\"https://github.com/daniel-shimon\">@daniel-shimon</a></strong> merged by <strong><a href=\"https://github.com/Carreau\">@Carreau</a></strong></li>\n<li><a href=\"https://github.com/ipython/ipython/pull/13043\">(#13043)</a>: <em>Improve error tracebacks so that it shows the cell prompts</em> by <strong><a href=\"https://github.com/martinRenou\">@martinRenou</a></strong> merged by <strong><a href=\"https://github.com/MrMino\">@MrMino</a></strong></li>\n<li><a href=\"https://github.com/ipython/ipython/pull/12864\">(#12864)</a>: <em>Allow specifying alt text for IPython.display.Image.</em> by <strong><a href=\"https://github.com/blois\">@blois</a></strong> merged by <strong><a href=\"https://github.com/Carreau\">@Carreau</a></strong></li>\n</ul>"
      }
     },
     "d0e946eb67de4c6fa9edc8ef8a90bb19": {
      "model_module": "@jupyter-widgets/base",
      "model_module_version": "1.2.0",
      "model_name": "LayoutModel",
      "state": {
       "_model_module": "@jupyter-widgets/base",
       "_model_module_version": "1.2.0",
       "_model_name": "LayoutModel",
       "_view_count": null,
       "_view_module": "@jupyter-widgets/base",
       "_view_module_version": "1.2.0",
       "_view_name": "LayoutView",
       "align_content": null,
       "align_items": null,
       "align_self": null,
       "border": null,
       "bottom": null,
       "display": null,
       "flex": null,
       "flex_flow": null,
       "grid_area": null,
       "grid_auto_columns": null,
       "grid_auto_flow": null,
       "grid_auto_rows": null,
       "grid_column": null,
       "grid_gap": null,
       "grid_row": null,
       "grid_template_areas": null,
       "grid_template_columns": null,
       "grid_template_rows": null,
       "height": null,
       "justify_content": null,
       "justify_items": null,
       "left": null,
       "margin": null,
       "max_height": null,
       "max_width": null,
       "min_height": null,
       "min_width": null,
       "object_fit": null,
       "object_position": null,
       "order": null,
       "overflow": null,
       "overflow_x": null,
       "overflow_y": null,
       "padding": null,
       "right": null,
       "top": null,
       "visibility": null,
       "width": null
      }
     },
     "d44f161595c948d593c80c376132abda": {
      "model_module": "@jupyter-widgets/base",
      "model_module_version": "1.2.0",
      "model_name": "LayoutModel",
      "state": {
       "_model_module": "@jupyter-widgets/base",
       "_model_module_version": "1.2.0",
       "_model_name": "LayoutModel",
       "_view_count": null,
       "_view_module": "@jupyter-widgets/base",
       "_view_module_version": "1.2.0",
       "_view_name": "LayoutView",
       "align_content": null,
       "align_items": null,
       "align_self": null,
       "border": null,
       "bottom": null,
       "display": null,
       "flex": null,
       "flex_flow": null,
       "grid_area": null,
       "grid_auto_columns": null,
       "grid_auto_flow": null,
       "grid_auto_rows": null,
       "grid_column": null,
       "grid_gap": null,
       "grid_row": null,
       "grid_template_areas": null,
       "grid_template_columns": null,
       "grid_template_rows": null,
       "height": null,
       "justify_content": null,
       "justify_items": null,
       "left": null,
       "margin": null,
       "max_height": null,
       "max_width": null,
       "min_height": null,
       "min_width": null,
       "object_fit": null,
       "object_position": null,
       "order": null,
       "overflow": null,
       "overflow_x": null,
       "overflow_y": null,
       "padding": null,
       "right": null,
       "top": null,
       "visibility": null,
       "width": null
      }
     },
     "dc6eb5defcaa4a40a950ead4288cc89b": {
      "model_module": "@jupyter-widgets/controls",
      "model_module_version": "1.5.0",
      "model_name": "HTMLModel",
      "state": {
       "_dom_classes": [],
       "_model_module": "@jupyter-widgets/controls",
       "_model_module_version": "1.5.0",
       "_model_name": "HTMLModel",
       "_view_count": null,
       "_view_module": "@jupyter-widgets/controls",
       "_view_module_version": "1.5.0",
       "_view_name": "HTMLView",
       "description": "",
       "description_tooltip": null,
       "layout": "IPY_MODEL_d0e946eb67de4c6fa9edc8ef8a90bb19",
       "placeholder": "​",
       "style": "IPY_MODEL_6e1b91a3fd8748c4a229514f12b325eb",
       "value": "<h5><a href=\"https://github.com/ipython/matplotlib-inline\">ipython/matplotlib-inline</a></h5>\n<ul>\n<li><a href=\"https://github.com/ipython/matplotlib-inline/issues/11\">(#11)</a>: <em>UnicodeDecodeError: 'utf-8' codec can't decode byte 0x89 in position 0: invalid start byte</em> by <strong><a href=\"https://github.com/justineuro\">@justineuro</a></strong></li>\n<li><a href=\"https://github.com/ipython/matplotlib-inline/issues/6\">(#6)</a>: <em>Question about pypi/matplotlib-inline pointing to a fork of this project.</em> by <strong><a href=\"https://github.com/crisbal\">@crisbal</a></strong></li>\n<li><a href=\"https://github.com/ipython/matplotlib-inline/issues/8\">(#8)</a>: <em>Add from <code>. import backend_inline</code> in <code>__init__.py</code> ?</em> by <strong><a href=\"https://github.com/Carreau\">@Carreau</a></strong></li>\n<li><a href=\"https://github.com/ipython/matplotlib-inline/issues/7\">(#7)</a>: <em>figure formatters not in this package</em> by <strong><a href=\"https://github.com/minrk\">@minrk</a></strong></li>\n</ul>"
      }
     },
     "e08aaf9206e4484699c2ec778a8f69ec": {
      "model_module": "@jupyter-widgets/controls",
      "model_module_version": "1.5.0",
      "model_name": "HTMLModel",
      "state": {
       "_dom_classes": [],
       "_model_module": "@jupyter-widgets/controls",
       "_model_module_version": "1.5.0",
       "_model_name": "HTMLModel",
       "_view_count": null,
       "_view_module": "@jupyter-widgets/controls",
       "_view_module_version": "1.5.0",
       "_view_name": "HTMLView",
       "description": "",
       "description_tooltip": null,
       "layout": "IPY_MODEL_bbc668c35f50426a84b17aa605493f84",
       "placeholder": "​",
       "style": "IPY_MODEL_50fa5a3cdf2d448ca86a0b56ff4a3cda",
       "value": "<ul>\n<li>(4) Issues with pythreejs with 6.4.0 - ipykernel - <a href=\"https://github.com/ipython/ipykernel/issues/771\">#771</a></li>\n<li>(3) Get rid of nose, and ref to IPython.testing. - ipykernel - <a href=\"https://github.com/ipython/ipykernel/issues/744\">#744</a></li>\n<li>(3) cannot connect to all started engines using PBS when n&gt;100 - ipyparallel - <a href=\"https://github.com/ipython/ipyparallel/issues/301\">#301</a></li>\n<li>(2) New output redirection in ipykernel 6.0 clutters notebooks - ipykernel - <a href=\"https://github.com/ipython/ipykernel/issues/737\">#737</a></li>\n<li>(2) %matplotlib inline doesn't work well with ipywidgets 6.0 interact - ipython - <a href=\"https://github.com/ipython/ipython/issues/10376\">#10376</a></li>\n<li>(1) %gui tk hangs notebook - ipykernel - <a href=\"https://github.com/ipython/ipykernel/issues/742\">#742</a></li>\n<li>(1) Please make the dependency on debugpy optional - ipykernel - <a href=\"https://github.com/ipython/ipykernel/issues/712\">#712</a></li>\n<li>(1) depend on jedi&lt;=0.17.2 for Python 3.6 - ipython - <a href=\"https://github.com/ipython/ipython/issues/13100\">#13100</a></li>\n<li>(1) Backticks aren't XKCD style - xkcd-font - <a href=\"https://github.com/ipython/xkcd-font/issues/38\">#38</a></li>\n<li>(1) 5.0.5: pytest warnings - traitlets - <a href=\"https://github.com/ipython/traitlets/issues/665\">#665</a></li>\n<li>(1) Numfocus Small Developper Grant to tackle removing nose and IPython 8.0 - ipython - <a href=\"https://github.com/ipython/ipython/issues/13108\">#13108</a></li>\n<li>(1) Call to process_one(wait=False) raises exception when there is nothing to process - ipykernel - <a href=\"https://github.com/ipython/ipykernel/issues/763\">#763</a></li>\n<li>(1) ipykernel 6.x breaks redirecting stdout - ipykernel - <a href=\"https://github.com/ipython/ipykernel/issues/795\">#795</a></li>\n<li>(1) ipykernel==6.3.1 incompatible with pycharm - ipykernel - <a href=\"https://github.com/ipython/ipykernel/issues/764\">#764</a></li>\n<li>(0) error using latest Ipyparallel version on Jupyter notebook - ipyparallel - <a href=\"https://github.com/ipython/ipyparallel/issues/563\">#563</a></li>\n<li>(0) IPython leaks local variables when an exception is thrown - ipython - <a href=\"https://github.com/ipython/ipython/issues/13103\">#13103</a></li>\n<li>(0) enable zmq curve security - ipyparallel - <a href=\"https://github.com/ipython/ipyparallel/issues/552\">#552</a></li>\n<li>(0) Error when upgrading to ipykernel 6 when using sphinx and jupyter-sphinx - ipykernel - <a href=\"https://github.com/ipython/ipykernel/issues/740\">#740</a></li>\n<li>(0) problem with %pylab - ipython - <a href=\"https://github.com/ipython/ipython/issues/13089\">#13089</a></li>\n<li>(0) highcharts is not a function in Ipython - ipython - <a href=\"https://github.com/ipython/ipython/issues/13117\">#13117</a></li>\n<li>(0) 6.2.0: ipykernel uses <code>nose</code> in test suite - ipykernel - <a href=\"https://github.com/ipython/ipykernel/issues/746\">#746</a></li>\n<li>(0) Release 5.1 - traitlets - <a href=\"https://github.com/ipython/traitlets/issues/671\">#671</a></li>\n<li>(0) ContextVar not preserved when cell contains <code>await</code> - ipykernel - <a href=\"https://github.com/ipython/ipykernel/issues/749\">#749</a></li>\n<li>(0) IndentationError can hide unmatched ')' - ipython - <a href=\"https://github.com/ipython/ipython/issues/13099\">#13099</a></li>\n<li>(0) tags naming. - ipykernel - <a href=\"https://github.com/ipython/ipykernel/issues/760\">#760</a></li>\n</ul>"
      }
     },
     "e738ca84479c4fd1a3977cea27bb519d": {
      "model_module": "@jupyter-widgets/base",
      "model_module_version": "1.2.0",
      "model_name": "LayoutModel",
      "state": {
       "_model_module": "@jupyter-widgets/base",
       "_model_module_version": "1.2.0",
       "_model_name": "LayoutModel",
       "_view_count": null,
       "_view_module": "@jupyter-widgets/base",
       "_view_module_version": "1.2.0",
       "_view_name": "LayoutView",
       "align_content": null,
       "align_items": null,
       "align_self": null,
       "border": null,
       "bottom": null,
       "display": null,
       "flex": null,
       "flex_flow": null,
       "grid_area": null,
       "grid_auto_columns": null,
       "grid_auto_flow": null,
       "grid_auto_rows": null,
       "grid_column": null,
       "grid_gap": null,
       "grid_row": null,
       "grid_template_areas": null,
       "grid_template_columns": null,
       "grid_template_rows": null,
       "height": null,
       "justify_content": null,
       "justify_items": null,
       "left": null,
       "margin": null,
       "max_height": null,
       "max_width": null,
       "min_height": null,
       "min_width": null,
       "object_fit": null,
       "object_position": null,
       "order": null,
       "overflow": null,
       "overflow_x": null,
       "overflow_y": null,
       "padding": null,
       "right": null,
       "top": null,
       "visibility": null,
       "width": null
      }
     },
     "ebd0ab67b0a34434baa2344c43257efc": {
      "model_module": "@jupyter-widgets/controls",
      "model_module_version": "1.5.0",
      "model_name": "HTMLModel",
      "state": {
       "_dom_classes": [],
       "_model_module": "@jupyter-widgets/controls",
       "_model_module_version": "1.5.0",
       "_model_name": "HTMLModel",
       "_view_count": null,
       "_view_module": "@jupyter-widgets/controls",
       "_view_module_version": "1.5.0",
       "_view_name": "HTMLView",
       "description": "",
       "description_tooltip": null,
       "layout": "IPY_MODEL_11c9573f146c49148479aa8b47f42fa2",
       "placeholder": "​",
       "style": "IPY_MODEL_6ada270ee87d4a9f99488e21635ca769",
       "value": "<h5><a href=\"https://github.com/ipython/ipykernel\">ipython/ipykernel</a></h5>\n<ul>\n<li><a href=\"https://github.com/ipython/ipykernel/issues/775\">(#775)</a>: _support for %gui qt6 _ by <strong><a href=\"https://github.com/daliagachc\">@daliagachc</a></strong></li>\n<li><a href=\"https://github.com/ipython/ipykernel/issues/712\">(#712)</a>: <em>Please make the dependency on debugpy optional</em> by <strong><a href=\"https://github.com/mgorny\">@mgorny</a></strong></li>\n<li><a href=\"https://github.com/ipython/ipykernel/issues/759\">(#759)</a>: <em><code>pip install ipykernel&lt;6</code> gives incomplete installation, since Traitlets 5.1 release</em> by <strong><a href=\"https://github.com/mdickinson\">@mdickinson</a></strong></li>\n</ul>"
      }
     },
     "ec786e67ecf6496196d13be0fe727065": {
      "model_module": "@jupyter-widgets/controls",
      "model_module_version": "1.5.0",
      "model_name": "DescriptionStyleModel",
      "state": {
       "_model_module": "@jupyter-widgets/controls",
       "_model_module_version": "1.5.0",
       "_model_name": "DescriptionStyleModel",
       "_view_count": null,
       "_view_module": "@jupyter-widgets/base",
       "_view_module_version": "1.2.0",
       "_view_name": "StyleView",
       "description_width": ""
      }
     },
     "ec907e33469a471b8ad524a893db5b47": {
      "model_module": "@jupyter-widgets/base",
      "model_module_version": "1.2.0",
      "model_name": "LayoutModel",
      "state": {
       "_model_module": "@jupyter-widgets/base",
       "_model_module_version": "1.2.0",
       "_model_name": "LayoutModel",
       "_view_count": null,
       "_view_module": "@jupyter-widgets/base",
       "_view_module_version": "1.2.0",
       "_view_name": "LayoutView",
       "align_content": null,
       "align_items": null,
       "align_self": null,
       "border": null,
       "bottom": null,
       "display": null,
       "flex": null,
       "flex_flow": null,
       "grid_area": null,
       "grid_auto_columns": null,
       "grid_auto_flow": null,
       "grid_auto_rows": null,
       "grid_column": null,
       "grid_gap": null,
       "grid_row": null,
       "grid_template_areas": null,
       "grid_template_columns": null,
       "grid_template_rows": null,
       "height": null,
       "justify_content": null,
       "justify_items": null,
       "left": null,
       "margin": null,
       "max_height": null,
       "max_width": null,
       "min_height": null,
       "min_width": null,
       "object_fit": null,
       "object_position": null,
       "order": null,
       "overflow": null,
       "overflow_x": null,
       "overflow_y": null,
       "padding": null,
       "right": null,
       "top": null,
       "visibility": null,
       "width": null
      }
     },
     "f67c7694fde8434690cda10339914de1": {
      "model_module": "@jupyter-widgets/controls",
      "model_module_version": "1.5.0",
      "model_name": "DescriptionStyleModel",
      "state": {
       "_model_module": "@jupyter-widgets/controls",
       "_model_module_version": "1.5.0",
       "_model_name": "DescriptionStyleModel",
       "_view_count": null,
       "_view_module": "@jupyter-widgets/base",
       "_view_module_version": "1.2.0",
       "_view_name": "StyleView",
       "description_width": ""
      }
     },
     "fb6d68858eae4ce58d1f36122f2f3501": {
      "model_module": "@jupyter-widgets/controls",
      "model_module_version": "1.5.0",
      "model_name": "TabModel",
      "state": {
       "_dom_classes": [],
       "_model_module": "@jupyter-widgets/controls",
       "_model_module_version": "1.5.0",
       "_model_name": "TabModel",
       "_titles": {
        "0": "ipykernel",
        "1": "ipyparallel",
        "2": "ipython",
        "3": "ipython-in-depth",
        "4": "matplotlib-inline",
        "5": "traitlets"
       },
       "_view_count": null,
       "_view_module": "@jupyter-widgets/controls",
       "_view_module_version": "1.5.0",
       "_view_name": "TabView",
       "box_style": "",
       "children": [
        "IPY_MODEL_ebd0ab67b0a34434baa2344c43257efc",
        "IPY_MODEL_c56af82d1c6d4e94a2560ede67292279",
        "IPY_MODEL_2d3ec10a56e1492cba42cca78f2335ff",
        "IPY_MODEL_44a678abb28744bfab8520c0e7228e3c",
        "IPY_MODEL_63f3ecc4bac24c468f7e844db944bdc2",
        "IPY_MODEL_2d49a74f45e246d580fc6760875307ab"
       ],
       "layout": "IPY_MODEL_ec907e33469a471b8ad524a893db5b47",
       "selected_index": 0
      }
     }
    },
    "version_major": 2,
    "version_minor": 0
   }
  }
 },
 "nbformat": 4,
 "nbformat_minor": 5
}