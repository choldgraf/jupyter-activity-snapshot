{
 "cells": [
  {
   "cell_type": "markdown",
   "metadata": {
    "papermill": {
     "duration": 0.034475,
     "end_time": "2020-07-07T01:12:00.350016",
     "exception": false,
     "start_time": "2020-07-07T01:12:00.315541",
     "status": "completed"
    },
    "tags": []
   },
   "source": [
    "# {glue:text}`ipython_github_org`\n",
    "\n",
    "**Activity from {glue:}`ipython_start` to {glue:}`ipython_stop`**"
   ]
  },
  {
   "cell_type": "code",
   "execution_count": 1,
   "metadata": {
    "execution": {
     "iopub.execute_input": "2020-07-07T01:12:00.425457Z",
     "iopub.status.busy": "2020-07-07T01:12:00.424855Z",
     "iopub.status.idle": "2020-07-07T01:12:01.939429Z",
     "shell.execute_reply": "2020-07-07T01:12:01.940002Z"
    },
    "papermill": {
     "duration": 1.555375,
     "end_time": "2020-07-07T01:12:01.940191",
     "exception": false,
     "start_time": "2020-07-07T01:12:00.384816",
     "status": "completed"
    },
    "tags": [
     "remove_cell"
    ]
   },
   "outputs": [],
   "source": [
    "import github_activity as ga\n",
    "from datetime import date\n",
    "from dateutil.relativedelta import relativedelta\n",
    "from myst_nb import glue\n",
    "import seaborn as sns\n",
    "import pandas as pd\n",
    "import numpy as np\n",
    "import altair as alt\n",
    "from markdown import markdown\n",
    "from IPython.display import Markdown\n",
    "from ipywidgets.widgets import HTML, Tab\n",
    "from ipywidgets import widgets\n",
    "from datetime import timedelta\n",
    "from matplotlib import pyplot as plt\n",
    "import os.path as op\n",
    "\n",
    "from warnings import simplefilter\n",
    "simplefilter('ignore')"
   ]
  },
  {
   "cell_type": "code",
   "execution_count": 2,
   "metadata": {
    "execution": {
     "iopub.execute_input": "2020-07-07T01:12:02.025837Z",
     "iopub.status.busy": "2020-07-07T01:12:02.025204Z",
     "iopub.status.idle": "2020-07-07T01:12:02.027556Z",
     "shell.execute_reply": "2020-07-07T01:12:02.027045Z"
    },
    "papermill": {
     "duration": 0.050434,
     "end_time": "2020-07-07T01:12:02.027667",
     "exception": false,
     "start_time": "2020-07-07T01:12:01.977233",
     "status": "completed"
    },
    "tags": [
     "remove_cell"
    ]
   },
   "outputs": [],
   "source": [
    "# Altair config\n",
    "def author_url(author):\n",
    "    return f\"https://github.com/{author}\"\n",
    "\n",
    "def alt_theme():\n",
    "    return {\n",
    "        'config': {\n",
    "            'axisLeft': {\n",
    "                'labelFontSize': 15,\n",
    "            },\n",
    "            'axisBottom': {\n",
    "                'labelFontSize': 15,\n",
    "            },\n",
    "        }\n",
    "    }\n",
    "\n",
    "alt.themes.register('my_theme', alt_theme)\n",
    "alt.themes.enable(\"my_theme\")\n",
    "\n",
    "\n",
    "# Define colors we'll use for GitHub membership\n",
    "author_types = ['MEMBER', 'CONTRIBUTOR', 'COLLABORATOR', \"NONE\"]\n",
    "\n",
    "author_palette = np.array(sns.palettes.blend_palette([\"lightgrey\", \"lightgreen\", \"darkgreen\"], 4)) * 256\n",
    "author_colors = [\"rgb({}, {}, {})\".format(*color) for color in author_palette]\n",
    "author_color_dict = {key: val for key, val in zip(author_types, author_palette)}"
   ]
  },
  {
   "cell_type": "code",
   "execution_count": 3,
   "metadata": {
    "execution": {
     "iopub.execute_input": "2020-07-07T01:12:02.102588Z",
     "iopub.status.busy": "2020-07-07T01:12:02.101901Z",
     "iopub.status.idle": "2020-07-07T01:12:02.103469Z",
     "shell.execute_reply": "2020-07-07T01:12:02.104124Z"
    },
    "papermill": {
     "duration": 0.041156,
     "end_time": "2020-07-07T01:12:02.104283",
     "exception": false,
     "start_time": "2020-07-07T01:12:02.063127",
     "status": "completed"
    },
    "tags": [
     "parameters",
     "hide_input",
     "remove_cell"
    ]
   },
   "outputs": [],
   "source": [
    "github_org = \"jupyterhub\"\n",
    "top_n_repos = 15\n",
    "n_days = 10"
   ]
  },
  {
   "cell_type": "code",
   "execution_count": 4,
   "metadata": {
    "execution": {
     "iopub.execute_input": "2020-07-07T01:12:02.179096Z",
     "iopub.status.busy": "2020-07-07T01:12:02.178442Z",
     "iopub.status.idle": "2020-07-07T01:12:02.181051Z",
     "shell.execute_reply": "2020-07-07T01:12:02.180526Z"
    },
    "papermill": {
     "duration": 0.041246,
     "end_time": "2020-07-07T01:12:02.181162",
     "exception": false,
     "start_time": "2020-07-07T01:12:02.139916",
     "status": "completed"
    },
    "tags": [
     "injected-parameters",
     "remove-cell"
    ]
   },
   "outputs": [],
   "source": [
    "# Parameters\n",
    "github_org = \"ipython\"\n",
    "n_days = 60\n"
   ]
  },
  {
   "cell_type": "code",
   "execution_count": 5,
   "metadata": {
    "execution": {
     "iopub.execute_input": "2020-07-07T01:12:02.256401Z",
     "iopub.status.busy": "2020-07-07T01:12:02.255766Z",
     "iopub.status.idle": "2020-07-07T01:12:02.260769Z",
     "shell.execute_reply": "2020-07-07T01:12:02.261366Z"
    },
    "papermill": {
     "duration": 0.047048,
     "end_time": "2020-07-07T01:12:02.261507",
     "exception": false,
     "start_time": "2020-07-07T01:12:02.214459",
     "status": "completed"
    },
    "tags": [
     "remove_cell"
    ]
   },
   "outputs": [
    {
     "data": {
      "application/papermill.record/text/plain": "'ipython'"
     },
     "metadata": {
      "scrapbook": {
       "mime_prefix": "application/papermill.record/",
       "name": "ipython_github_org"
      }
     },
     "output_type": "display_data"
    },
    {
     "data": {
      "application/papermill.record/text/plain": "'2020-05-08'"
     },
     "metadata": {
      "scrapbook": {
       "mime_prefix": "application/papermill.record/",
       "name": "ipython_start"
      }
     },
     "output_type": "display_data"
    },
    {
     "data": {
      "application/papermill.record/text/plain": "'2020-07-07'"
     },
     "metadata": {
      "scrapbook": {
       "mime_prefix": "application/papermill.record/",
       "name": "ipython_stop"
      }
     },
     "output_type": "display_data"
    }
   ],
   "source": [
    "############################################################\n",
    "# Variables\n",
    "stop = date.today()\n",
    "start = date.today() - relativedelta(days=n_days)\n",
    "\n",
    "# Strings for use in queries\n",
    "start_date = f\"{start:%Y-%m-%d}\"\n",
    "stop_date = f\"{stop:%Y-%m-%d}\"\n",
    "\n",
    "# Glue variables for use in markdown\n",
    "glue(f\"{github_org}_github_org\", github_org, display=False)\n",
    "glue(f\"{github_org}_start\", start_date, display=False)\n",
    "glue(f\"{github_org}_stop\", stop_date, display=False)"
   ]
  },
  {
   "cell_type": "code",
   "execution_count": 6,
   "metadata": {
    "execution": {
     "iopub.execute_input": "2020-07-07T01:12:02.351874Z",
     "iopub.status.busy": "2020-07-07T01:12:02.350801Z",
     "iopub.status.idle": "2020-07-07T01:12:18.260912Z",
     "shell.execute_reply": "2020-07-07T01:12:18.260235Z"
    },
    "papermill": {
     "duration": 15.959595,
     "end_time": "2020-07-07T01:12:18.261046",
     "exception": false,
     "start_time": "2020-07-07T01:12:02.301451",
     "status": "completed"
    },
    "tags": [
     "remove_cell"
    ]
   },
   "outputs": [
    {
     "name": "stdout",
     "output_type": "stream",
     "text": [
      "Running search query:\n",
      "user:ipython\n",
      "\n",
      "\n"
     ]
    },
    {
     "name": "stdout",
     "output_type": "stream",
     "text": [
      "Found 186 items, which will take 4 pages\n"
     ]
    },
    {
     "data": {
      "application/vnd.jupyter.widget-view+json": {
       "model_id": "dcc507c59429489fad7e95aece39e756",
       "version_major": 2,
       "version_minor": 0
      },
      "text/plain": [
       "IntProgress(value=0, description='Downloading:', max=4)"
      ]
     },
     "metadata": {},
     "output_type": "display_data"
    },
    {
     "name": "stdout",
     "output_type": "stream",
     "text": [
      "Found 189 items, which will take 4 pages\n"
     ]
    },
    {
     "data": {
      "application/vnd.jupyter.widget-view+json": {
       "model_id": "83641386bf9147c88b48e09a5f044994",
       "version_major": 2,
       "version_minor": 0
      },
      "text/plain": [
       "IntProgress(value=0, description='Downloading:', max=4)"
      ]
     },
     "metadata": {},
     "output_type": "display_data"
    }
   ],
   "source": [
    "############################################################\n",
    "# Fetch the raw data and load data we need\n",
    "raw_data = ga.get_activity(github_org, start_date)\n",
    "bot_names = pd.read_csv('../bot_names.csv')['names'].tolist()\n",
    "data = raw_data.copy()\n",
    "\n",
    "# Prepare our data\n",
    "data[\"kind\"] = data[\"url\"].map(lambda a: \"issue\" if \"issues/\" in a else \"pr\")\n",
    "data[\"mergedBy\"] = data[\"mergedBy\"].map(lambda a: a[\"login\"] if not isinstance(a, (float, type(None))) else None)\n",
    "\n",
    "prs = data.query(\"kind == 'pr'\")\n",
    "issues = data.query(\"kind == 'issue'\")\n",
    "\n",
    "# Pull out the comments\n",
    "comments = []\n",
    "for _, irow in data.iterrows():\n",
    "    for icomment in irow['comments']['edges']:\n",
    "        icomment = icomment[\"node\"].copy()\n",
    "        icomment[\"author\"] = icomment[\"author\"][\"login\"] if icomment[\"author\"] else None\n",
    "        icomment[\"org\"] = irow[\"org\"]\n",
    "        icomment[\"repo\"] = irow[\"repo\"]\n",
    "        icomment[\"id\"] = irow[\"id\"]\n",
    "        comments.append(pd.Series(icomment))\n",
    "comments = pd.DataFrame(comments)\n",
    "\n",
    "# Clean up\n",
    "for idata in [prs, comments, issues]:\n",
    "    idata.query(\"author not in @bot_names\", inplace=True)\n",
    "    idata.drop_duplicates(subset=[\"url\"], inplace=True)\n",
    "\n",
    "# What are the top N repos, we will only plot these in the full data plots\n",
    "top_commented_repos = comments.groupby(\"repo\").count().sort_values(\"createdAt\", ascending=False)['createdAt']\n",
    "use_repos = top_commented_repos.head(top_n_repos).index.tolist()"
   ]
  },
  {
   "cell_type": "markdown",
   "metadata": {
    "papermill": {
     "duration": 0.037442,
     "end_time": "2020-07-07T01:12:18.336591",
     "exception": false,
     "start_time": "2020-07-07T01:12:18.299149",
     "status": "completed"
    },
    "tags": [
     "remove_cell"
    ]
   },
   "source": [
    "## Save the data to disk"
   ]
  },
  {
   "cell_type": "code",
   "execution_count": 7,
   "metadata": {
    "execution": {
     "iopub.execute_input": "2020-07-07T01:12:18.416156Z",
     "iopub.status.busy": "2020-07-07T01:12:18.415559Z",
     "iopub.status.idle": "2020-07-07T01:12:18.759933Z",
     "shell.execute_reply": "2020-07-07T01:12:18.760573Z"
    },
    "papermill": {
     "duration": 0.387538,
     "end_time": "2020-07-07T01:12:18.760722",
     "exception": false,
     "start_time": "2020-07-07T01:12:18.373184",
     "status": "completed"
    },
    "tags": [
     "remove_cell"
    ]
   },
   "outputs": [],
   "source": [
    "from pathlib import Path\n",
    "for name, idata in [(\"comments\", comments), (\"prs\", prs), (\"issues\", issues)]:\n",
    "    path_data = Path(f\"./{name}.csv\")\n",
    "    if path_data.exists():\n",
    "        idata = pd.read_csv(path_data).append(idata)\n",
    "    idata = idata.drop_duplicates(subset=[\"url\"])\n",
    "    idata.to_csv(path_data, index=None)"
   ]
  },
  {
   "cell_type": "markdown",
   "metadata": {
    "papermill": {
     "duration": 0.036864,
     "end_time": "2020-07-07T01:12:18.835611",
     "exception": false,
     "start_time": "2020-07-07T01:12:18.798747",
     "status": "completed"
    },
    "tags": [],
    "toc-hr-collapsed": false
   },
   "source": [
    "## Merged Pull requests\n",
    "\n",
    "Here's an analysis of **merged pull requests** across each of the repositories in the Jupyter\n",
    "ecosystem."
   ]
  },
  {
   "cell_type": "code",
   "execution_count": 8,
   "metadata": {
    "execution": {
     "iopub.execute_input": "2020-07-07T01:12:18.918818Z",
     "iopub.status.busy": "2020-07-07T01:12:18.918232Z",
     "iopub.status.idle": "2020-07-07T01:12:18.922385Z",
     "shell.execute_reply": "2020-07-07T01:12:18.921773Z"
    },
    "papermill": {
     "duration": 0.049442,
     "end_time": "2020-07-07T01:12:18.922491",
     "exception": false,
     "start_time": "2020-07-07T01:12:18.873049",
     "status": "completed"
    },
    "tags": [
     "remove_cell"
    ]
   },
   "outputs": [],
   "source": [
    "merged = prs.query('state == \"MERGED\" and closedAt > @start_date and closedAt < @stop_date')"
   ]
  },
  {
   "cell_type": "code",
   "execution_count": 9,
   "metadata": {
    "execution": {
     "iopub.execute_input": "2020-07-07T01:12:19.005623Z",
     "iopub.status.busy": "2020-07-07T01:12:19.005036Z",
     "iopub.status.idle": "2020-07-07T01:12:19.041632Z",
     "shell.execute_reply": "2020-07-07T01:12:19.040449Z"
    },
    "papermill": {
     "duration": 0.080962,
     "end_time": "2020-07-07T01:12:19.041751",
     "exception": false,
     "start_time": "2020-07-07T01:12:18.960789",
     "status": "completed"
    },
    "tags": [
     "hide_input"
    ]
   },
   "outputs": [
    {
     "data": {
      "text/html": [
       "\n",
       "<div id=\"altair-viz-6f09564c626e40d8b600bda5185491b5\"></div>\n",
       "<script type=\"text/javascript\">\n",
       "  (function(spec, embedOpt){\n",
       "    let outputDiv = document.currentScript.previousElementSibling;\n",
       "    if (outputDiv.id !== \"altair-viz-6f09564c626e40d8b600bda5185491b5\") {\n",
       "      outputDiv = document.getElementById(\"altair-viz-6f09564c626e40d8b600bda5185491b5\");\n",
       "    }\n",
       "    const paths = {\n",
       "      \"vega\": \"https://cdn.jsdelivr.net/npm//vega@5?noext\",\n",
       "      \"vega-lib\": \"https://cdn.jsdelivr.net/npm//vega-lib?noext\",\n",
       "      \"vega-lite\": \"https://cdn.jsdelivr.net/npm//vega-lite@4.8.1?noext\",\n",
       "      \"vega-embed\": \"https://cdn.jsdelivr.net/npm//vega-embed@6?noext\",\n",
       "    };\n",
       "\n",
       "    function loadScript(lib) {\n",
       "      return new Promise(function(resolve, reject) {\n",
       "        var s = document.createElement('script');\n",
       "        s.src = paths[lib];\n",
       "        s.async = true;\n",
       "        s.onload = () => resolve(paths[lib]);\n",
       "        s.onerror = () => reject(`Error loading script: ${paths[lib]}`);\n",
       "        document.getElementsByTagName(\"head\")[0].appendChild(s);\n",
       "      });\n",
       "    }\n",
       "\n",
       "    function showError(err) {\n",
       "      outputDiv.innerHTML = `<div class=\"error\" style=\"color:red;\">${err}</div>`;\n",
       "      throw err;\n",
       "    }\n",
       "\n",
       "    function displayChart(vegaEmbed) {\n",
       "      vegaEmbed(outputDiv, spec, embedOpt)\n",
       "        .catch(err => showError(`Javascript Error: ${err.message}<br>This usually means there's a typo in your chart specification. See the javascript console for the full traceback.`));\n",
       "    }\n",
       "\n",
       "    if(typeof define === \"function\" && define.amd) {\n",
       "      requirejs.config({paths});\n",
       "      require([\"vega-embed\"], displayChart, err => showError(`Error loading script: ${err.message}`));\n",
       "    } else if (typeof vegaEmbed === \"function\") {\n",
       "      displayChart(vegaEmbed);\n",
       "    } else {\n",
       "      loadScript(\"vega\")\n",
       "        .then(() => loadScript(\"vega-lite\"))\n",
       "        .then(() => loadScript(\"vega-embed\"))\n",
       "        .catch(showError)\n",
       "        .then(() => displayChart(vegaEmbed));\n",
       "    }\n",
       "  })({\"config\": {\"axisLeft\": {\"labelFontSize\": 15}, \"axisBottom\": {\"labelFontSize\": 15}}, \"data\": {\"name\": \"data-9b32f71c7b2632c2001a6691134a01c5\"}, \"mark\": \"bar\", \"encoding\": {\"color\": {\"type\": \"nominal\", \"field\": \"org\"}, \"x\": {\"type\": \"nominal\", \"field\": \"repo\", \"sort\": [\"ipython\", \"traitlets\", \"ipykernel\"]}, \"y\": {\"type\": \"quantitative\", \"field\": \"author\"}}, \"title\": \"Merged PRs in the last 60 days\", \"$schema\": \"https://vega.github.io/schema/vega-lite/v4.8.1.json\", \"datasets\": {\"data-9b32f71c7b2632c2001a6691134a01c5\": [{\"org\": \"ipython\", \"repo\": \"ipython\", \"author\": 54}, {\"org\": \"ipython\", \"repo\": \"traitlets\", \"author\": 26}, {\"org\": \"ipython\", \"repo\": \"ipykernel\", \"author\": 9}]}}, {\"mode\": \"vega-lite\"});\n",
       "</script>"
      ],
      "text/plain": [
       "alt.Chart(...)"
      ]
     },
     "execution_count": 9,
     "metadata": {},
     "output_type": "execute_result"
    }
   ],
   "source": [
    "prs_by_repo = merged.groupby(['org', 'repo']).count()['author'].reset_index().sort_values(['org', 'author'], ascending=False)\n",
    "alt.Chart(data=prs_by_repo, title=f\"Merged PRs in the last {n_days} days\").mark_bar().encode(\n",
    "    x=alt.X('repo', sort=prs_by_repo['repo'].values.tolist()),\n",
    "    y='author',\n",
    "    color='org'\n",
    ")"
   ]
  },
  {
   "cell_type": "markdown",
   "metadata": {
    "papermill": {
     "duration": 0.043895,
     "end_time": "2020-07-07T01:12:19.124455",
     "exception": false,
     "start_time": "2020-07-07T01:12:19.080560",
     "status": "completed"
    },
    "tags": []
   },
   "source": [
    "### Authoring and merging stats by repository\n",
    "\n",
    "Let's see who has been doing most of the PR authoring and merging. The PR author is generally the\n",
    "person that implemented a change in the repository (code, documentation, etc). The PR merger is\n",
    "the person that \"pressed the green button\" and got the change into the main codebase."
   ]
  },
  {
   "cell_type": "code",
   "execution_count": 10,
   "metadata": {
    "execution": {
     "iopub.execute_input": "2020-07-07T01:12:19.221170Z",
     "iopub.status.busy": "2020-07-07T01:12:19.220542Z",
     "iopub.status.idle": "2020-07-07T01:12:19.222676Z",
     "shell.execute_reply": "2020-07-07T01:12:19.222075Z"
    },
    "papermill": {
     "duration": 0.058518,
     "end_time": "2020-07-07T01:12:19.222783",
     "exception": false,
     "start_time": "2020-07-07T01:12:19.164265",
     "status": "completed"
    },
    "tags": [
     "remove_cell"
    ]
   },
   "outputs": [],
   "source": [
    "# Prep our merging DF\n",
    "merged_by_repo = merged.groupby(['repo', 'author'], as_index=False).agg({'id': 'count', 'authorAssociation': 'first'}).rename(columns={'id': \"authored\", 'author': 'username'})\n",
    "closed_by_repo = merged.groupby(['repo', 'mergedBy']).count()['id'].reset_index().rename(columns={'id': \"closed\", \"mergedBy\": \"username\"})"
   ]
  },
  {
   "cell_type": "code",
   "execution_count": 11,
   "metadata": {
    "execution": {
     "iopub.execute_input": "2020-07-07T01:12:19.335389Z",
     "iopub.status.busy": "2020-07-07T01:12:19.327064Z",
     "iopub.status.idle": "2020-07-07T01:12:19.338643Z",
     "shell.execute_reply": "2020-07-07T01:12:19.338021Z"
    },
    "papermill": {
     "duration": 0.077021,
     "end_time": "2020-07-07T01:12:19.338750",
     "exception": false,
     "start_time": "2020-07-07T01:12:19.261729",
     "status": "completed"
    },
    "tags": [
     "hide_input"
    ]
   },
   "outputs": [
    {
     "data": {
      "text/html": [
       "\n",
       "<div id=\"altair-viz-d6297081e9424a9a925625f5f53fbb4d\"></div>\n",
       "<script type=\"text/javascript\">\n",
       "  (function(spec, embedOpt){\n",
       "    let outputDiv = document.currentScript.previousElementSibling;\n",
       "    if (outputDiv.id !== \"altair-viz-d6297081e9424a9a925625f5f53fbb4d\") {\n",
       "      outputDiv = document.getElementById(\"altair-viz-d6297081e9424a9a925625f5f53fbb4d\");\n",
       "    }\n",
       "    const paths = {\n",
       "      \"vega\": \"https://cdn.jsdelivr.net/npm//vega@5?noext\",\n",
       "      \"vega-lib\": \"https://cdn.jsdelivr.net/npm//vega-lib?noext\",\n",
       "      \"vega-lite\": \"https://cdn.jsdelivr.net/npm//vega-lite@4.8.1?noext\",\n",
       "      \"vega-embed\": \"https://cdn.jsdelivr.net/npm//vega-embed@6?noext\",\n",
       "    };\n",
       "\n",
       "    function loadScript(lib) {\n",
       "      return new Promise(function(resolve, reject) {\n",
       "        var s = document.createElement('script');\n",
       "        s.src = paths[lib];\n",
       "        s.async = true;\n",
       "        s.onload = () => resolve(paths[lib]);\n",
       "        s.onerror = () => reject(`Error loading script: ${paths[lib]}`);\n",
       "        document.getElementsByTagName(\"head\")[0].appendChild(s);\n",
       "      });\n",
       "    }\n",
       "\n",
       "    function showError(err) {\n",
       "      outputDiv.innerHTML = `<div class=\"error\" style=\"color:red;\">${err}</div>`;\n",
       "      throw err;\n",
       "    }\n",
       "\n",
       "    function displayChart(vegaEmbed) {\n",
       "      vegaEmbed(outputDiv, spec, embedOpt)\n",
       "        .catch(err => showError(`Javascript Error: ${err.message}<br>This usually means there's a typo in your chart specification. See the javascript console for the full traceback.`));\n",
       "    }\n",
       "\n",
       "    if(typeof define === \"function\" && define.amd) {\n",
       "      requirejs.config({paths});\n",
       "      require([\"vega-embed\"], displayChart, err => showError(`Error loading script: ${err.message}`));\n",
       "    } else if (typeof vegaEmbed === \"function\") {\n",
       "      displayChart(vegaEmbed);\n",
       "    } else {\n",
       "      loadScript(\"vega\")\n",
       "        .then(() => loadScript(\"vega-lite\"))\n",
       "        .then(() => loadScript(\"vega-embed\"))\n",
       "        .catch(showError)\n",
       "        .then(() => displayChart(vegaEmbed));\n",
       "    }\n",
       "  })({\"config\": {\"axisLeft\": {\"labelFontSize\": 15}, \"axisBottom\": {\"labelFontSize\": 15}}, \"data\": {\"name\": \"data-a4204c9b5d6e66ac02f01053bc95c155\"}, \"mark\": \"bar\", \"encoding\": {\"color\": {\"type\": \"nominal\", \"field\": \"authorAssociation\", \"scale\": {\"domain\": [\"MEMBER\", \"CONTRIBUTOR\", \"COLLABORATOR\", \"NONE\"], \"range\": [\"rgb(211.82745098039214, 211.82745098039214, 211.82745098039214)\", \"rgb(166.98562091503268, 229.89803921568628, 166.98562091503268)\", \"rgb(96.37647058823529, 192.75294117647059, 96.37647058823529)\", \"rgb(0.0, 100.3921568627451, 0.0)\"]}}, \"x\": {\"type\": \"nominal\", \"field\": \"username\"}, \"y\": {\"type\": \"quantitative\", \"field\": \"authored\"}}, \"title\": \"PR authors for ipython in the last 60 days\", \"$schema\": \"https://vega.github.io/schema/vega-lite/v4.8.1.json\", \"datasets\": {\"data-a4204c9b5d6e66ac02f01053bc95c155\": [{\"username\": \"Carreau\", \"authored\": 47, \"authorAssociation\": \"MEMBER\"}, {\"username\": \"cool-RR\", \"authored\": 5, \"authorAssociation\": \"CONTRIBUTOR\"}, {\"username\": \"cclauss\", \"authored\": 3, \"authorAssociation\": \"CONTRIBUTOR\"}, {\"username\": \"timkpaine\", \"authored\": 2, \"authorAssociation\": \"CONTRIBUTOR\"}, {\"username\": \"ssanderson\", \"authored\": 2, \"authorAssociation\": \"MEMBER\"}, {\"username\": \"itamarst\", \"authored\": 2, \"authorAssociation\": \"CONTRIBUTOR\"}, {\"username\": \"dalthviz\", \"authored\": 2, \"authorAssociation\": \"CONTRIBUTOR\"}, {\"username\": \"tlambert03\", \"authored\": 2, \"authorAssociation\": \"CONTRIBUTOR\"}, {\"username\": \"blink1073\", \"authored\": 1, \"authorAssociation\": \"MEMBER\"}, {\"username\": \"btel\", \"authored\": 1, \"authorAssociation\": \"CONTRIBUTOR\"}, {\"username\": \"JoaoFelipe\", \"authored\": 1, \"authorAssociation\": \"CONTRIBUTOR\"}, {\"username\": \"takluyver\", \"authored\": 1, \"authorAssociation\": \"MEMBER\"}, {\"username\": \"SylvainCorlay\", \"authored\": 1, \"authorAssociation\": \"MEMBER\"}, {\"username\": \"pauldmccarthy\", \"authored\": 1, \"authorAssociation\": \"CONTRIBUTOR\"}, {\"username\": \"palewire\", \"authored\": 1, \"authorAssociation\": \"CONTRIBUTOR\"}, {\"username\": \"minrk\", \"authored\": 1, \"authorAssociation\": \"MEMBER\"}, {\"username\": \"mehaase\", \"authored\": 1, \"authorAssociation\": \"CONTRIBUTOR\"}, {\"username\": \"marciomazza\", \"authored\": 1, \"authorAssociation\": \"CONTRIBUTOR\"}, {\"username\": \"kmaork\", \"authored\": 1, \"authorAssociation\": \"CONTRIBUTOR\"}, {\"username\": \"jasongrout\", \"authored\": 1, \"authorAssociation\": \"MEMBER\"}, {\"username\": \"TheHubbit\", \"authored\": 1, \"authorAssociation\": \"CONTRIBUTOR\"}, {\"username\": \"impact27\", \"authored\": 1, \"authorAssociation\": \"CONTRIBUTOR\"}, {\"username\": \"imba-tjd\", \"authored\": 1, \"authorAssociation\": \"CONTRIBUTOR\"}, {\"username\": \"godlygeek\", \"authored\": 1, \"authorAssociation\": \"CONTRIBUTOR\"}, {\"username\": \"Inception95\", \"authored\": 1, \"authorAssociation\": \"CONTRIBUTOR\"}, {\"username\": \"davidbrochart\", \"authored\": 1, \"authorAssociation\": \"CONTRIBUTOR\"}, {\"username\": \"astromancer\", \"authored\": 1, \"authorAssociation\": \"CONTRIBUTOR\"}, {\"username\": \"cphyc\", \"authored\": 1, \"authorAssociation\": \"CONTRIBUTOR\"}, {\"username\": \"bgerrity\", \"authored\": 1, \"authorAssociation\": \"CONTRIBUTOR\"}, {\"username\": \"connerxyz\", \"authored\": 1, \"authorAssociation\": \"CONTRIBUTOR\"}, {\"username\": \"blakejgriffin\", \"authored\": 1, \"authorAssociation\": \"CONTRIBUTOR\"}, {\"username\": \"ftobia\", \"authored\": 1, \"authorAssociation\": \"CONTRIBUTOR\"}]}}, {\"mode\": \"vega-lite\"});\n",
       "</script>"
      ],
      "text/plain": [
       "alt.Chart(...)"
      ]
     },
     "execution_count": 11,
     "metadata": {},
     "output_type": "execute_result"
    }
   ],
   "source": [
    "charts = []\n",
    "title = f\"PR authors for {github_org} in the last {n_days} days\"\n",
    "this_data = merged_by_repo.replace(np.nan, 0).groupby('username', as_index=False).agg({'authored': 'sum', 'authorAssociation': 'first'})\n",
    "this_data = this_data.sort_values('authored', ascending=False)\n",
    "ch = alt.Chart(data=this_data, title=title).mark_bar().encode(\n",
    "    x='username',\n",
    "    y='authored',\n",
    "    color=alt.Color('authorAssociation', scale=alt.Scale(domain=author_types, range=author_colors))\n",
    ")\n",
    "ch"
   ]
  },
  {
   "cell_type": "code",
   "execution_count": 12,
   "metadata": {
    "execution": {
     "iopub.execute_input": "2020-07-07T01:12:19.442226Z",
     "iopub.status.busy": "2020-07-07T01:12:19.430652Z",
     "iopub.status.idle": "2020-07-07T01:12:19.444736Z",
     "shell.execute_reply": "2020-07-07T01:12:19.445306Z"
    },
    "papermill": {
     "duration": 0.067497,
     "end_time": "2020-07-07T01:12:19.445526",
     "exception": false,
     "start_time": "2020-07-07T01:12:19.378029",
     "status": "completed"
    },
    "tags": [
     "hide_input"
    ]
   },
   "outputs": [
    {
     "data": {
      "text/html": [
       "\n",
       "<div id=\"altair-viz-09ba406314a74632aabebc2d7d994a84\"></div>\n",
       "<script type=\"text/javascript\">\n",
       "  (function(spec, embedOpt){\n",
       "    let outputDiv = document.currentScript.previousElementSibling;\n",
       "    if (outputDiv.id !== \"altair-viz-09ba406314a74632aabebc2d7d994a84\") {\n",
       "      outputDiv = document.getElementById(\"altair-viz-09ba406314a74632aabebc2d7d994a84\");\n",
       "    }\n",
       "    const paths = {\n",
       "      \"vega\": \"https://cdn.jsdelivr.net/npm//vega@5?noext\",\n",
       "      \"vega-lib\": \"https://cdn.jsdelivr.net/npm//vega-lib?noext\",\n",
       "      \"vega-lite\": \"https://cdn.jsdelivr.net/npm//vega-lite@4.8.1?noext\",\n",
       "      \"vega-embed\": \"https://cdn.jsdelivr.net/npm//vega-embed@6?noext\",\n",
       "    };\n",
       "\n",
       "    function loadScript(lib) {\n",
       "      return new Promise(function(resolve, reject) {\n",
       "        var s = document.createElement('script');\n",
       "        s.src = paths[lib];\n",
       "        s.async = true;\n",
       "        s.onload = () => resolve(paths[lib]);\n",
       "        s.onerror = () => reject(`Error loading script: ${paths[lib]}`);\n",
       "        document.getElementsByTagName(\"head\")[0].appendChild(s);\n",
       "      });\n",
       "    }\n",
       "\n",
       "    function showError(err) {\n",
       "      outputDiv.innerHTML = `<div class=\"error\" style=\"color:red;\">${err}</div>`;\n",
       "      throw err;\n",
       "    }\n",
       "\n",
       "    function displayChart(vegaEmbed) {\n",
       "      vegaEmbed(outputDiv, spec, embedOpt)\n",
       "        .catch(err => showError(`Javascript Error: ${err.message}<br>This usually means there's a typo in your chart specification. See the javascript console for the full traceback.`));\n",
       "    }\n",
       "\n",
       "    if(typeof define === \"function\" && define.amd) {\n",
       "      requirejs.config({paths});\n",
       "      require([\"vega-embed\"], displayChart, err => showError(`Error loading script: ${err.message}`));\n",
       "    } else if (typeof vegaEmbed === \"function\") {\n",
       "      displayChart(vegaEmbed);\n",
       "    } else {\n",
       "      loadScript(\"vega\")\n",
       "        .then(() => loadScript(\"vega-lite\"))\n",
       "        .then(() => loadScript(\"vega-embed\"))\n",
       "        .catch(showError)\n",
       "        .then(() => displayChart(vegaEmbed));\n",
       "    }\n",
       "  })({\"config\": {\"axisLeft\": {\"labelFontSize\": 15}, \"axisBottom\": {\"labelFontSize\": 15}}, \"data\": {\"name\": \"data-f94061ec208ac789b60f90f2fed0ce3d\"}, \"mark\": \"bar\", \"encoding\": {\"x\": {\"type\": \"nominal\", \"field\": \"username\"}, \"y\": {\"type\": \"quantitative\", \"field\": \"closed\"}}, \"title\": \"Merges for ipython in the last 60 days\", \"$schema\": \"https://vega.github.io/schema/vega-lite/v4.8.1.json\", \"datasets\": {\"data-f94061ec208ac789b60f90f2fed0ce3d\": [{\"repo\": \"ipykernel\", \"username\": \"blink1073\", \"closed\": 9}, {\"repo\": \"ipython\", \"username\": \"Carreau\", \"closed\": 54}, {\"repo\": \"traitlets\", \"username\": \"Carreau\", \"closed\": 23}, {\"repo\": \"traitlets\", \"username\": \"minrk\", \"closed\": 1}, {\"repo\": \"traitlets\", \"username\": \"rmorshea\", \"closed\": 2}]}}, {\"mode\": \"vega-lite\"});\n",
       "</script>"
      ],
      "text/plain": [
       "alt.Chart(...)"
      ]
     },
     "execution_count": 12,
     "metadata": {},
     "output_type": "execute_result"
    }
   ],
   "source": [
    "charts = []\n",
    "title = f\"Merges for {github_org} in the last {n_days} days\"\n",
    "ch = alt.Chart(data=closed_by_repo.replace(np.nan, 0), title=title).mark_bar().encode(\n",
    "    x='username',\n",
    "    y='closed',\n",
    ")\n",
    "ch"
   ]
  },
  {
   "cell_type": "markdown",
   "metadata": {
    "papermill": {
     "duration": 0.04237,
     "end_time": "2020-07-07T01:12:19.527716",
     "exception": false,
     "start_time": "2020-07-07T01:12:19.485346",
     "status": "completed"
    },
    "tags": []
   },
   "source": [
    "## Issues\n",
    "\n",
    "Issues are **conversations** that happen on our GitHub repositories. Here's an\n",
    "analysis of issues across the Jupyter organizations."
   ]
  },
  {
   "cell_type": "code",
   "execution_count": 13,
   "metadata": {
    "execution": {
     "iopub.execute_input": "2020-07-07T01:12:19.617930Z",
     "iopub.status.busy": "2020-07-07T01:12:19.617304Z",
     "iopub.status.idle": "2020-07-07T01:12:19.619202Z",
     "shell.execute_reply": "2020-07-07T01:12:19.619653Z"
    },
    "papermill": {
     "duration": 0.053755,
     "end_time": "2020-07-07T01:12:19.619802",
     "exception": false,
     "start_time": "2020-07-07T01:12:19.566047",
     "status": "completed"
    },
    "tags": [
     "remove_cell"
    ]
   },
   "outputs": [],
   "source": [
    "created = issues.query('state == \"OPEN\" and createdAt > @start_date and createdAt < @stop_date')\n",
    "closed = issues.query('state == \"CLOSED\" and closedAt > @start_date and closedAt < @stop_date')"
   ]
  },
  {
   "cell_type": "code",
   "execution_count": 14,
   "metadata": {
    "execution": {
     "iopub.execute_input": "2020-07-07T01:12:19.718094Z",
     "iopub.status.busy": "2020-07-07T01:12:19.708910Z",
     "iopub.status.idle": "2020-07-07T01:12:19.736225Z",
     "shell.execute_reply": "2020-07-07T01:12:19.736931Z"
    },
    "papermill": {
     "duration": 0.076381,
     "end_time": "2020-07-07T01:12:19.737093",
     "exception": false,
     "start_time": "2020-07-07T01:12:19.660712",
     "status": "completed"
    },
    "tags": [
     "hide_input"
    ]
   },
   "outputs": [
    {
     "data": {
      "text/html": [
       "\n",
       "<div id=\"altair-viz-eb31b39d318e424fa2e3e7db6c6a015c\"></div>\n",
       "<script type=\"text/javascript\">\n",
       "  (function(spec, embedOpt){\n",
       "    let outputDiv = document.currentScript.previousElementSibling;\n",
       "    if (outputDiv.id !== \"altair-viz-eb31b39d318e424fa2e3e7db6c6a015c\") {\n",
       "      outputDiv = document.getElementById(\"altair-viz-eb31b39d318e424fa2e3e7db6c6a015c\");\n",
       "    }\n",
       "    const paths = {\n",
       "      \"vega\": \"https://cdn.jsdelivr.net/npm//vega@5?noext\",\n",
       "      \"vega-lib\": \"https://cdn.jsdelivr.net/npm//vega-lib?noext\",\n",
       "      \"vega-lite\": \"https://cdn.jsdelivr.net/npm//vega-lite@4.8.1?noext\",\n",
       "      \"vega-embed\": \"https://cdn.jsdelivr.net/npm//vega-embed@6?noext\",\n",
       "    };\n",
       "\n",
       "    function loadScript(lib) {\n",
       "      return new Promise(function(resolve, reject) {\n",
       "        var s = document.createElement('script');\n",
       "        s.src = paths[lib];\n",
       "        s.async = true;\n",
       "        s.onload = () => resolve(paths[lib]);\n",
       "        s.onerror = () => reject(`Error loading script: ${paths[lib]}`);\n",
       "        document.getElementsByTagName(\"head\")[0].appendChild(s);\n",
       "      });\n",
       "    }\n",
       "\n",
       "    function showError(err) {\n",
       "      outputDiv.innerHTML = `<div class=\"error\" style=\"color:red;\">${err}</div>`;\n",
       "      throw err;\n",
       "    }\n",
       "\n",
       "    function displayChart(vegaEmbed) {\n",
       "      vegaEmbed(outputDiv, spec, embedOpt)\n",
       "        .catch(err => showError(`Javascript Error: ${err.message}<br>This usually means there's a typo in your chart specification. See the javascript console for the full traceback.`));\n",
       "    }\n",
       "\n",
       "    if(typeof define === \"function\" && define.amd) {\n",
       "      requirejs.config({paths});\n",
       "      require([\"vega-embed\"], displayChart, err => showError(`Error loading script: ${err.message}`));\n",
       "    } else if (typeof vegaEmbed === \"function\") {\n",
       "      displayChart(vegaEmbed);\n",
       "    } else {\n",
       "      loadScript(\"vega\")\n",
       "        .then(() => loadScript(\"vega-lite\"))\n",
       "        .then(() => loadScript(\"vega-embed\"))\n",
       "        .catch(showError)\n",
       "        .then(() => displayChart(vegaEmbed));\n",
       "    }\n",
       "  })({\"config\": {\"axisLeft\": {\"labelFontSize\": 15}, \"axisBottom\": {\"labelFontSize\": 15}}, \"data\": {\"name\": \"data-8b4237b97b8cb38fe23986e955fe1272\"}, \"mark\": \"bar\", \"encoding\": {\"x\": {\"type\": \"nominal\", \"field\": \"repo\", \"sort\": [\"ipython\", \"ipykernel\", \"ipyparallel\", \"traitlets\", \"ipynb\"]}, \"y\": {\"type\": \"quantitative\", \"field\": \"number\"}}, \"title\": \"Issues created in the last 60 days\", \"$schema\": \"https://vega.github.io/schema/vega-lite/v4.8.1.json\", \"datasets\": {\"data-8b4237b97b8cb38fe23986e955fe1272\": [{\"org\": \"ipython\", \"repo\": \"ipykernel\", \"number\": 6, \"org/repo\": \"ipython/ipykernel\"}, {\"org\": \"ipython\", \"repo\": \"ipynb\", \"number\": 1, \"org/repo\": \"ipython/ipynb\"}, {\"org\": \"ipython\", \"repo\": \"ipyparallel\", \"number\": 5, \"org/repo\": \"ipython/ipyparallel\"}, {\"org\": \"ipython\", \"repo\": \"ipython\", \"number\": 31, \"org/repo\": \"ipython/ipython\"}, {\"org\": \"ipython\", \"repo\": \"traitlets\", \"number\": 3, \"org/repo\": \"ipython/traitlets\"}]}}, {\"mode\": \"vega-lite\"});\n",
       "</script>"
      ],
      "text/plain": [
       "alt.Chart(...)"
      ]
     },
     "execution_count": 14,
     "metadata": {},
     "output_type": "execute_result"
    }
   ],
   "source": [
    "created_counts = created.groupby(['org', 'repo']).count()['number'].reset_index()\n",
    "created_counts['org/repo'] = created_counts.apply(lambda a: a['org'] + '/' + a['repo'], axis=1)\n",
    "sorted_vals = created_counts.sort_values(['org', 'number'], ascending=False)['repo'].values\n",
    "alt.Chart(data=created_counts, title=f\"Issues created in the last {n_days} days\").mark_bar().encode(\n",
    "    x=alt.X('repo', sort=alt.Sort(sorted_vals.tolist())),\n",
    "    y='number',\n",
    ")"
   ]
  },
  {
   "cell_type": "code",
   "execution_count": 15,
   "metadata": {
    "execution": {
     "iopub.execute_input": "2020-07-07T01:12:19.848065Z",
     "iopub.status.busy": "2020-07-07T01:12:19.847431Z",
     "iopub.status.idle": "2020-07-07T01:12:19.850360Z",
     "shell.execute_reply": "2020-07-07T01:12:19.850924Z"
    },
    "papermill": {
     "duration": 0.072914,
     "end_time": "2020-07-07T01:12:19.851062",
     "exception": false,
     "start_time": "2020-07-07T01:12:19.778148",
     "status": "completed"
    },
    "tags": [
     "hide_input"
    ]
   },
   "outputs": [
    {
     "data": {
      "text/html": [
       "\n",
       "<div id=\"altair-viz-2fea88e2aae3437c91a4aeed24cdfb3d\"></div>\n",
       "<script type=\"text/javascript\">\n",
       "  (function(spec, embedOpt){\n",
       "    let outputDiv = document.currentScript.previousElementSibling;\n",
       "    if (outputDiv.id !== \"altair-viz-2fea88e2aae3437c91a4aeed24cdfb3d\") {\n",
       "      outputDiv = document.getElementById(\"altair-viz-2fea88e2aae3437c91a4aeed24cdfb3d\");\n",
       "    }\n",
       "    const paths = {\n",
       "      \"vega\": \"https://cdn.jsdelivr.net/npm//vega@5?noext\",\n",
       "      \"vega-lib\": \"https://cdn.jsdelivr.net/npm//vega-lib?noext\",\n",
       "      \"vega-lite\": \"https://cdn.jsdelivr.net/npm//vega-lite@4.8.1?noext\",\n",
       "      \"vega-embed\": \"https://cdn.jsdelivr.net/npm//vega-embed@6?noext\",\n",
       "    };\n",
       "\n",
       "    function loadScript(lib) {\n",
       "      return new Promise(function(resolve, reject) {\n",
       "        var s = document.createElement('script');\n",
       "        s.src = paths[lib];\n",
       "        s.async = true;\n",
       "        s.onload = () => resolve(paths[lib]);\n",
       "        s.onerror = () => reject(`Error loading script: ${paths[lib]}`);\n",
       "        document.getElementsByTagName(\"head\")[0].appendChild(s);\n",
       "      });\n",
       "    }\n",
       "\n",
       "    function showError(err) {\n",
       "      outputDiv.innerHTML = `<div class=\"error\" style=\"color:red;\">${err}</div>`;\n",
       "      throw err;\n",
       "    }\n",
       "\n",
       "    function displayChart(vegaEmbed) {\n",
       "      vegaEmbed(outputDiv, spec, embedOpt)\n",
       "        .catch(err => showError(`Javascript Error: ${err.message}<br>This usually means there's a typo in your chart specification. See the javascript console for the full traceback.`));\n",
       "    }\n",
       "\n",
       "    if(typeof define === \"function\" && define.amd) {\n",
       "      requirejs.config({paths});\n",
       "      require([\"vega-embed\"], displayChart, err => showError(`Error loading script: ${err.message}`));\n",
       "    } else if (typeof vegaEmbed === \"function\") {\n",
       "      displayChart(vegaEmbed);\n",
       "    } else {\n",
       "      loadScript(\"vega\")\n",
       "        .then(() => loadScript(\"vega-lite\"))\n",
       "        .then(() => loadScript(\"vega-embed\"))\n",
       "        .catch(showError)\n",
       "        .then(() => displayChart(vegaEmbed));\n",
       "    }\n",
       "  })({\"config\": {\"axisLeft\": {\"labelFontSize\": 15}, \"axisBottom\": {\"labelFontSize\": 15}}, \"data\": {\"name\": \"data-ff359a4364208d7925ae215859734dcb\"}, \"mark\": \"bar\", \"encoding\": {\"x\": {\"type\": \"nominal\", \"field\": \"repo\", \"sort\": [\"ipython\", \"traitlets\", \"ipykernel\", \"ipyparallel\"]}, \"y\": {\"type\": \"quantitative\", \"field\": \"number\"}}, \"title\": \"Issues closed in the last 60 days\", \"$schema\": \"https://vega.github.io/schema/vega-lite/v4.8.1.json\", \"datasets\": {\"data-ff359a4364208d7925ae215859734dcb\": [{\"org\": \"ipython\", \"repo\": \"ipykernel\", \"number\": 5, \"org/repo\": \"ipython/ipykernel\"}, {\"org\": \"ipython\", \"repo\": \"ipyparallel\", \"number\": 1, \"org/repo\": \"ipython/ipyparallel\"}, {\"org\": \"ipython\", \"repo\": \"ipython\", \"number\": 35, \"org/repo\": \"ipython/ipython\"}, {\"org\": \"ipython\", \"repo\": \"traitlets\", \"number\": 6, \"org/repo\": \"ipython/traitlets\"}]}}, {\"mode\": \"vega-lite\"});\n",
       "</script>"
      ],
      "text/plain": [
       "alt.Chart(...)"
      ]
     },
     "execution_count": 15,
     "metadata": {},
     "output_type": "execute_result"
    }
   ],
   "source": [
    "closed_counts = closed.groupby(['org', 'repo']).count()['number'].reset_index()\n",
    "closed_counts['org/repo'] = closed_counts.apply(lambda a: a['org'] + '/' + a['repo'], axis=1)\n",
    "sorted_vals = closed_counts.sort_values(['number'], ascending=False)['repo'].values\n",
    "alt.Chart(data=closed_counts, title=f\"Issues closed in the last {n_days} days\").mark_bar().encode(\n",
    "    x=alt.X('repo', sort=alt.Sort(sorted_vals.tolist())),\n",
    "    y='number',\n",
    ")"
   ]
  },
  {
   "cell_type": "code",
   "execution_count": 16,
   "metadata": {
    "execution": {
     "iopub.execute_input": "2020-07-07T01:12:19.946875Z",
     "iopub.status.busy": "2020-07-07T01:12:19.946280Z",
     "iopub.status.idle": "2020-07-07T01:12:19.953434Z",
     "shell.execute_reply": "2020-07-07T01:12:19.952918Z"
    },
    "papermill": {
     "duration": 0.060122,
     "end_time": "2020-07-07T01:12:19.953544",
     "exception": false,
     "start_time": "2020-07-07T01:12:19.893422",
     "status": "completed"
    },
    "tags": [
     "remove_cell"
    ]
   },
   "outputs": [],
   "source": [
    "created_closed = pd.merge(created_counts.rename(columns={'number': 'created'}).drop(columns='org/repo'),\n",
    "                          closed_counts.rename(columns={'number': 'closed'}).drop(columns='org/repo'),\n",
    "                          on=['org', 'repo'], how='outer')\n",
    "\n",
    "created_closed = pd.melt(created_closed, id_vars=['org', 'repo'], var_name=\"kind\", value_name=\"count\").replace(np.nan, 0)"
   ]
  },
  {
   "cell_type": "code",
   "execution_count": 17,
   "metadata": {
    "execution": {
     "iopub.execute_input": "2020-07-07T01:12:20.070649Z",
     "iopub.status.busy": "2020-07-07T01:12:20.070037Z",
     "iopub.status.idle": "2020-07-07T01:12:20.072275Z",
     "shell.execute_reply": "2020-07-07T01:12:20.072870Z"
    },
    "papermill": {
     "duration": 0.075072,
     "end_time": "2020-07-07T01:12:20.073014",
     "exception": false,
     "start_time": "2020-07-07T01:12:19.997942",
     "status": "completed"
    },
    "tags": [
     "hide_input"
    ]
   },
   "outputs": [
    {
     "data": {
      "text/html": [
       "\n",
       "<div id=\"altair-viz-2e1702c9b2664e489e8903b8428cdb66\"></div>\n",
       "<script type=\"text/javascript\">\n",
       "  (function(spec, embedOpt){\n",
       "    let outputDiv = document.currentScript.previousElementSibling;\n",
       "    if (outputDiv.id !== \"altair-viz-2e1702c9b2664e489e8903b8428cdb66\") {\n",
       "      outputDiv = document.getElementById(\"altair-viz-2e1702c9b2664e489e8903b8428cdb66\");\n",
       "    }\n",
       "    const paths = {\n",
       "      \"vega\": \"https://cdn.jsdelivr.net/npm//vega@5?noext\",\n",
       "      \"vega-lib\": \"https://cdn.jsdelivr.net/npm//vega-lib?noext\",\n",
       "      \"vega-lite\": \"https://cdn.jsdelivr.net/npm//vega-lite@4.8.1?noext\",\n",
       "      \"vega-embed\": \"https://cdn.jsdelivr.net/npm//vega-embed@6?noext\",\n",
       "    };\n",
       "\n",
       "    function loadScript(lib) {\n",
       "      return new Promise(function(resolve, reject) {\n",
       "        var s = document.createElement('script');\n",
       "        s.src = paths[lib];\n",
       "        s.async = true;\n",
       "        s.onload = () => resolve(paths[lib]);\n",
       "        s.onerror = () => reject(`Error loading script: ${paths[lib]}`);\n",
       "        document.getElementsByTagName(\"head\")[0].appendChild(s);\n",
       "      });\n",
       "    }\n",
       "\n",
       "    function showError(err) {\n",
       "      outputDiv.innerHTML = `<div class=\"error\" style=\"color:red;\">${err}</div>`;\n",
       "      throw err;\n",
       "    }\n",
       "\n",
       "    function displayChart(vegaEmbed) {\n",
       "      vegaEmbed(outputDiv, spec, embedOpt)\n",
       "        .catch(err => showError(`Javascript Error: ${err.message}<br>This usually means there's a typo in your chart specification. See the javascript console for the full traceback.`));\n",
       "    }\n",
       "\n",
       "    if(typeof define === \"function\" && define.amd) {\n",
       "      requirejs.config({paths});\n",
       "      require([\"vega-embed\"], displayChart, err => showError(`Error loading script: ${err.message}`));\n",
       "    } else if (typeof vegaEmbed === \"function\") {\n",
       "      displayChart(vegaEmbed);\n",
       "    } else {\n",
       "      loadScript(\"vega\")\n",
       "        .then(() => loadScript(\"vega-lite\"))\n",
       "        .then(() => loadScript(\"vega-embed\"))\n",
       "        .catch(showError)\n",
       "        .then(() => displayChart(vegaEmbed));\n",
       "    }\n",
       "  })({\"config\": {\"axisLeft\": {\"labelFontSize\": 15}, \"axisBottom\": {\"labelFontSize\": 15}}, \"data\": {\"name\": \"data-1f81df68eec52c2e18990164152e7d39\"}, \"mark\": \"bar\", \"encoding\": {\"color\": {\"type\": \"nominal\", \"field\": \"kind\"}, \"column\": {\"type\": \"nominal\", \"field\": \"repo\", \"header\": {\"labelFontSize\": 12, \"title\": \"Issue activity, last 60 days for ipython\", \"titleFontSize\": 15}}, \"x\": {\"type\": \"nominal\", \"axis\": {\"labelFontSize\": 15, \"title\": \"\"}, \"field\": \"kind\"}, \"y\": {\"type\": \"quantitative\", \"axis\": {\"labelFontSize\": 12, \"titleFontSize\": 15}, \"field\": \"count\"}}, \"width\": 120, \"$schema\": \"https://vega.github.io/schema/vega-lite/v4.8.1.json\", \"datasets\": {\"data-1f81df68eec52c2e18990164152e7d39\": [{\"org\": \"ipython\", \"repo\": \"ipykernel\", \"kind\": \"created\", \"count\": 6.0}, {\"org\": \"ipython\", \"repo\": \"ipynb\", \"kind\": \"created\", \"count\": 1.0}, {\"org\": \"ipython\", \"repo\": \"ipyparallel\", \"kind\": \"created\", \"count\": 5.0}, {\"org\": \"ipython\", \"repo\": \"ipython\", \"kind\": \"created\", \"count\": 31.0}, {\"org\": \"ipython\", \"repo\": \"traitlets\", \"kind\": \"created\", \"count\": 3.0}, {\"org\": \"ipython\", \"repo\": \"ipykernel\", \"kind\": \"closed\", \"count\": 5.0}, {\"org\": \"ipython\", \"repo\": \"ipynb\", \"kind\": \"closed\", \"count\": 0.0}, {\"org\": \"ipython\", \"repo\": \"ipyparallel\", \"kind\": \"closed\", \"count\": 1.0}, {\"org\": \"ipython\", \"repo\": \"ipython\", \"kind\": \"closed\", \"count\": 35.0}, {\"org\": \"ipython\", \"repo\": \"traitlets\", \"kind\": \"closed\", \"count\": 6.0}]}}, {\"mode\": \"vega-lite\"});\n",
       "</script>"
      ],
      "text/plain": [
       "alt.Chart(...)"
      ]
     },
     "execution_count": 17,
     "metadata": {},
     "output_type": "execute_result"
    }
   ],
   "source": [
    "charts = []\n",
    "# Pick the top 10 repositories\n",
    "top_repos = created_closed.groupby(['repo']).sum().sort_values(by='count', ascending=False).head(10).index\n",
    "ch = alt.Chart(created_closed.query('repo in @top_repos'), width=120).mark_bar().encode(\n",
    "    x=alt.X(\"kind\", axis=alt.Axis(labelFontSize=15, title=\"\")), \n",
    "    y=alt.Y('count', axis=alt.Axis(titleFontSize=15, labelFontSize=12)),\n",
    "    color='kind',\n",
    "    column=alt.Column(\"repo\", header=alt.Header(title=f\"Issue activity, last {n_days} days for {github_org}\", titleFontSize=15, labelFontSize=12))\n",
    ")\n",
    "ch"
   ]
  },
  {
   "cell_type": "code",
   "execution_count": 18,
   "metadata": {
    "execution": {
     "iopub.execute_input": "2020-07-07T01:12:20.167724Z",
     "iopub.status.busy": "2020-07-07T01:12:20.167133Z",
     "iopub.status.idle": "2020-07-07T01:12:20.171548Z",
     "shell.execute_reply": "2020-07-07T01:12:20.172112Z"
    },
    "papermill": {
     "duration": 0.057503,
     "end_time": "2020-07-07T01:12:20.172254",
     "exception": false,
     "start_time": "2020-07-07T01:12:20.114751",
     "status": "completed"
    },
    "tags": [
     "remove_cell"
    ]
   },
   "outputs": [],
   "source": [
    "# Set to datetime\n",
    "for kind in ['createdAt', 'closedAt']:\n",
    "    closed.loc[:, kind] = pd.to_datetime(closed[kind])\n",
    "    \n",
    "closed.loc[:, 'time_open'] = closed['closedAt'] - closed['createdAt']\n",
    "closed.loc[:, 'time_open'] = closed['time_open'].dt.total_seconds()"
   ]
  },
  {
   "cell_type": "code",
   "execution_count": 19,
   "metadata": {
    "execution": {
     "iopub.execute_input": "2020-07-07T01:12:20.267909Z",
     "iopub.status.busy": "2020-07-07T01:12:20.267303Z",
     "iopub.status.idle": "2020-07-07T01:12:20.283275Z",
     "shell.execute_reply": "2020-07-07T01:12:20.283730Z"
    },
    "papermill": {
     "duration": 0.071434,
     "end_time": "2020-07-07T01:12:20.283881",
     "exception": false,
     "start_time": "2020-07-07T01:12:20.212447",
     "status": "completed"
    },
    "tags": [
     "hide_input"
    ]
   },
   "outputs": [
    {
     "data": {
      "text/html": [
       "\n",
       "<div id=\"altair-viz-f612db48918c4798b29e01f44f577fd3\"></div>\n",
       "<script type=\"text/javascript\">\n",
       "  (function(spec, embedOpt){\n",
       "    let outputDiv = document.currentScript.previousElementSibling;\n",
       "    if (outputDiv.id !== \"altair-viz-f612db48918c4798b29e01f44f577fd3\") {\n",
       "      outputDiv = document.getElementById(\"altair-viz-f612db48918c4798b29e01f44f577fd3\");\n",
       "    }\n",
       "    const paths = {\n",
       "      \"vega\": \"https://cdn.jsdelivr.net/npm//vega@5?noext\",\n",
       "      \"vega-lib\": \"https://cdn.jsdelivr.net/npm//vega-lib?noext\",\n",
       "      \"vega-lite\": \"https://cdn.jsdelivr.net/npm//vega-lite@4.8.1?noext\",\n",
       "      \"vega-embed\": \"https://cdn.jsdelivr.net/npm//vega-embed@6?noext\",\n",
       "    };\n",
       "\n",
       "    function loadScript(lib) {\n",
       "      return new Promise(function(resolve, reject) {\n",
       "        var s = document.createElement('script');\n",
       "        s.src = paths[lib];\n",
       "        s.async = true;\n",
       "        s.onload = () => resolve(paths[lib]);\n",
       "        s.onerror = () => reject(`Error loading script: ${paths[lib]}`);\n",
       "        document.getElementsByTagName(\"head\")[0].appendChild(s);\n",
       "      });\n",
       "    }\n",
       "\n",
       "    function showError(err) {\n",
       "      outputDiv.innerHTML = `<div class=\"error\" style=\"color:red;\">${err}</div>`;\n",
       "      throw err;\n",
       "    }\n",
       "\n",
       "    function displayChart(vegaEmbed) {\n",
       "      vegaEmbed(outputDiv, spec, embedOpt)\n",
       "        .catch(err => showError(`Javascript Error: ${err.message}<br>This usually means there's a typo in your chart specification. See the javascript console for the full traceback.`));\n",
       "    }\n",
       "\n",
       "    if(typeof define === \"function\" && define.amd) {\n",
       "      requirejs.config({paths});\n",
       "      require([\"vega-embed\"], displayChart, err => showError(`Error loading script: ${err.message}`));\n",
       "    } else if (typeof vegaEmbed === \"function\") {\n",
       "      displayChart(vegaEmbed);\n",
       "    } else {\n",
       "      loadScript(\"vega\")\n",
       "        .then(() => loadScript(\"vega-lite\"))\n",
       "        .then(() => loadScript(\"vega-embed\"))\n",
       "        .catch(showError)\n",
       "        .then(() => displayChart(vegaEmbed));\n",
       "    }\n",
       "  })({\"config\": {\"axisLeft\": {\"labelFontSize\": 15}, \"axisBottom\": {\"labelFontSize\": 15}}, \"data\": {\"name\": \"data-bc77dbed953e9d4213fec10740452b71\"}, \"mark\": \"bar\", \"encoding\": {\"x\": {\"type\": \"nominal\", \"field\": \"repo\", \"sort\": [\"ipyparallel\", \"ipython\", \"traitlets\", \"ipykernel\"]}, \"y\": {\"type\": \"quantitative\", \"field\": \"time_open\", \"title\": \"Median Days Open\"}}, \"title\": \"Time to close for issues closed in the last 60 days\", \"$schema\": \"https://vega.github.io/schema/vega-lite/v4.8.1.json\", \"datasets\": {\"data-bc77dbed953e9d4213fec10740452b71\": [{\"org\": \"ipython\", \"repo\": \"ipykernel\", \"time_open\": 0.13149305555555554, \"org/repo\": \"ipython/ipykernel\"}, {\"org\": \"ipython\", \"repo\": \"ipyparallel\", \"time_open\": 1762.1576041666667, \"org/repo\": \"ipython/ipyparallel\"}, {\"org\": \"ipython\", \"repo\": \"ipython\", \"time_open\": 21.336122685185185, \"org/repo\": \"ipython/ipython\"}, {\"org\": \"ipython\", \"repo\": \"traitlets\", \"time_open\": 9.131203703703704, \"org/repo\": \"ipython/traitlets\"}]}}, {\"mode\": \"vega-lite\"});\n",
       "</script>"
      ],
      "text/plain": [
       "alt.Chart(...)"
      ]
     },
     "execution_count": 19,
     "metadata": {},
     "output_type": "execute_result"
    }
   ],
   "source": [
    "time_open = closed.groupby(['org', 'repo']).agg({'time_open': 'median'}).reset_index()\n",
    "time_open['time_open'] = time_open['time_open'] / (60 * 60 * 24)\n",
    "time_open['org/repo'] = time_open.apply(lambda a: a['org'] + '/' + a['repo'], axis=1)\n",
    "sorted_vals = time_open.sort_values(['org', 'time_open'], ascending=False)['repo'].values\n",
    "alt.Chart(data=time_open, title=f\"Time to close for issues closed in the last {n_days} days\").mark_bar().encode(\n",
    "    x=alt.X('repo', sort=alt.Sort(sorted_vals.tolist())),\n",
    "    y=alt.Y('time_open', title=\"Median Days Open\"),\n",
    ")"
   ]
  },
  {
   "cell_type": "markdown",
   "metadata": {
    "papermill": {
     "duration": 0.041963,
     "end_time": "2020-07-07T01:12:20.368549",
     "exception": false,
     "start_time": "2020-07-07T01:12:20.326586",
     "status": "completed"
    },
    "tags": []
   },
   "source": [
    "## Commenters across repositories\n",
    "\n",
    "These are commenters across all issues and pull requests in the last several days.\n",
    "These are colored by the commenter's association with the organization. For information\n",
    "about what these associations mean, [see this StackOverflow post](https://stackoverflow.com/a/28866914/1927102)."
   ]
  },
  {
   "cell_type": "code",
   "execution_count": 20,
   "metadata": {
    "execution": {
     "iopub.execute_input": "2020-07-07T01:12:20.460686Z",
     "iopub.status.busy": "2020-07-07T01:12:20.460067Z",
     "iopub.status.idle": "2020-07-07T01:12:20.471366Z",
     "shell.execute_reply": "2020-07-07T01:12:20.470840Z"
    },
    "papermill": {
     "duration": 0.060916,
     "end_time": "2020-07-07T01:12:20.471476",
     "exception": false,
     "start_time": "2020-07-07T01:12:20.410560",
     "status": "completed"
    },
    "tags": [
     "remove_cell"
    ]
   },
   "outputs": [],
   "source": [
    "commentors = (\n",
    "    comments\n",
    "    .query(\"createdAt > @start_date and createdAt < @stop_date\")\n",
    "    .groupby(['org', 'repo', 'author', 'authorAssociation'])\n",
    "    .count().rename(columns={'id': 'count'})['count']\n",
    "    .reset_index()\n",
    "    .sort_values(['org', 'count'], ascending=False)\n",
    ")"
   ]
  },
  {
   "cell_type": "code",
   "execution_count": 21,
   "metadata": {
    "execution": {
     "iopub.execute_input": "2020-07-07T01:12:20.570722Z",
     "iopub.status.busy": "2020-07-07T01:12:20.569848Z",
     "iopub.status.idle": "2020-07-07T01:12:20.597321Z",
     "shell.execute_reply": "2020-07-07T01:12:20.598040Z"
    },
    "papermill": {
     "duration": 0.083529,
     "end_time": "2020-07-07T01:12:20.598191",
     "exception": false,
     "start_time": "2020-07-07T01:12:20.514662",
     "status": "completed"
    },
    "tags": [
     "hide_input"
    ]
   },
   "outputs": [
    {
     "data": {
      "text/html": [
       "\n",
       "<div id=\"altair-viz-84b7f3ad2972491b85375fecaecfcad8\"></div>\n",
       "<script type=\"text/javascript\">\n",
       "  (function(spec, embedOpt){\n",
       "    let outputDiv = document.currentScript.previousElementSibling;\n",
       "    if (outputDiv.id !== \"altair-viz-84b7f3ad2972491b85375fecaecfcad8\") {\n",
       "      outputDiv = document.getElementById(\"altair-viz-84b7f3ad2972491b85375fecaecfcad8\");\n",
       "    }\n",
       "    const paths = {\n",
       "      \"vega\": \"https://cdn.jsdelivr.net/npm//vega@5?noext\",\n",
       "      \"vega-lib\": \"https://cdn.jsdelivr.net/npm//vega-lib?noext\",\n",
       "      \"vega-lite\": \"https://cdn.jsdelivr.net/npm//vega-lite@4.8.1?noext\",\n",
       "      \"vega-embed\": \"https://cdn.jsdelivr.net/npm//vega-embed@6?noext\",\n",
       "    };\n",
       "\n",
       "    function loadScript(lib) {\n",
       "      return new Promise(function(resolve, reject) {\n",
       "        var s = document.createElement('script');\n",
       "        s.src = paths[lib];\n",
       "        s.async = true;\n",
       "        s.onload = () => resolve(paths[lib]);\n",
       "        s.onerror = () => reject(`Error loading script: ${paths[lib]}`);\n",
       "        document.getElementsByTagName(\"head\")[0].appendChild(s);\n",
       "      });\n",
       "    }\n",
       "\n",
       "    function showError(err) {\n",
       "      outputDiv.innerHTML = `<div class=\"error\" style=\"color:red;\">${err}</div>`;\n",
       "      throw err;\n",
       "    }\n",
       "\n",
       "    function displayChart(vegaEmbed) {\n",
       "      vegaEmbed(outputDiv, spec, embedOpt)\n",
       "        .catch(err => showError(`Javascript Error: ${err.message}<br>This usually means there's a typo in your chart specification. See the javascript console for the full traceback.`));\n",
       "    }\n",
       "\n",
       "    if(typeof define === \"function\" && define.amd) {\n",
       "      requirejs.config({paths});\n",
       "      require([\"vega-embed\"], displayChart, err => showError(`Error loading script: ${err.message}`));\n",
       "    } else if (typeof vegaEmbed === \"function\") {\n",
       "      displayChart(vegaEmbed);\n",
       "    } else {\n",
       "      loadScript(\"vega\")\n",
       "        .then(() => loadScript(\"vega-lite\"))\n",
       "        .then(() => loadScript(\"vega-embed\"))\n",
       "        .catch(showError)\n",
       "        .then(() => displayChart(vegaEmbed));\n",
       "    }\n",
       "  })({\"config\": {\"axisLeft\": {\"labelFontSize\": 15}, \"axisBottom\": {\"labelFontSize\": 15}}, \"hconcat\": [{\"mark\": \"bar\", \"encoding\": {\"color\": {\"type\": \"nominal\", \"field\": \"authorAssociation\", \"scale\": {\"domain\": [\"MEMBER\", \"CONTRIBUTOR\", \"COLLABORATOR\", \"NONE\"], \"range\": [\"rgb(211.82745098039214, 211.82745098039214, 211.82745098039214)\", \"rgb(166.98562091503268, 229.89803921568628, 166.98562091503268)\", \"rgb(96.37647058823529, 192.75294117647059, 96.37647058823529)\", \"rgb(0.0, 100.3921568627451, 0.0)\"]}}, \"x\": {\"type\": \"nominal\", \"field\": \"author\"}, \"y\": {\"type\": \"quantitative\", \"field\": \"count\"}}, \"title\": \"Top 50 commentors for ipython in the last 60 days\"}], \"data\": {\"name\": \"data-b30d20dd8edb99984242d4a85c7aa732\"}, \"$schema\": \"https://vega.github.io/schema/vega-lite/v4.8.1.json\", \"datasets\": {\"data-b30d20dd8edb99984242d4a85c7aa732\": [{\"author\": \"Carreau\", \"count\": 153, \"authorAssociation\": \"MEMBER\"}, {\"author\": \"rmorshea\", \"count\": 11, \"authorAssociation\": \"COLLABORATOR\"}, {\"author\": \"blink1073\", \"count\": 11, \"authorAssociation\": \"MEMBER\"}, {\"author\": \"tlambert03\", \"count\": 8, \"authorAssociation\": \"CONTRIBUTOR\"}, {\"author\": \"tacaswell\", \"count\": 7, \"authorAssociation\": \"CONTRIBUTOR\"}, {\"author\": \"cpbl\", \"count\": 7, \"authorAssociation\": \"NONE\"}, {\"author\": \"meeseeksdev\", \"count\": 7, \"authorAssociation\": \"CONTRIBUTOR\"}, {\"author\": \"mijiturka\", \"count\": 7, \"authorAssociation\": \"NONE\"}, {\"author\": \"ssanderson\", \"count\": 6, \"authorAssociation\": \"MEMBER\"}, {\"author\": \"rezaeir\", \"count\": 6, \"authorAssociation\": \"NONE\"}, {\"author\": \"clemisch\", \"count\": 6, \"authorAssociation\": \"NONE\"}, {\"author\": \"JoaoFelipe\", \"count\": 5, \"authorAssociation\": \"CONTRIBUTOR\"}, {\"author\": \"cool-RR\", \"count\": 5, \"authorAssociation\": \"CONTRIBUTOR\"}, {\"author\": \"itamarst\", \"count\": 5, \"authorAssociation\": \"CONTRIBUTOR\"}, {\"author\": \"impact27\", \"count\": 5, \"authorAssociation\": \"CONTRIBUTOR\"}, {\"author\": \"ccordoba12\", \"count\": 4, \"authorAssociation\": \"MEMBER\"}, {\"author\": \"palewire\", \"count\": 4, \"authorAssociation\": \"CONTRIBUTOR\"}, {\"author\": \"scottfurry\", \"count\": 4, \"authorAssociation\": \"NONE\"}, {\"author\": \"MSeal\", \"count\": 4, \"authorAssociation\": \"CONTRIBUTOR\"}, {\"author\": \"kirankotari\", \"count\": 4, \"authorAssociation\": \"NONE\"}, {\"author\": \"nklever\", \"count\": 3, \"authorAssociation\": \"NONE\"}, {\"author\": \"kmaork\", \"count\": 3, \"authorAssociation\": \"CONTRIBUTOR\"}, {\"author\": \"jluttine\", \"count\": 3, \"authorAssociation\": \"NONE\"}, {\"author\": \"minrk\", \"count\": 3, \"authorAssociation\": \"MEMBER\"}, {\"author\": \"jasongrout\", \"count\": 3, \"authorAssociation\": \"MEMBER\"}, {\"author\": \"bollwyvl\", \"count\": 2, \"authorAssociation\": \"CONTRIBUTOR\"}, {\"author\": \"choldgraf\", \"count\": 2, \"authorAssociation\": \"NONE\"}, {\"author\": \"vidartf\", \"count\": 2, \"authorAssociation\": \"CONTRIBUTOR\"}, {\"author\": \"veprbl\", \"count\": 2, \"authorAssociation\": \"NONE\"}, {\"author\": \"DavidJVitale\", \"count\": 2, \"authorAssociation\": \"NONE\"}, {\"author\": \"timkpaine\", \"count\": 2, \"authorAssociation\": \"CONTRIBUTOR\"}, {\"author\": \"OverLordGoldDragon\", \"count\": 2, \"authorAssociation\": \"NONE\"}, {\"author\": \"samuelsinayoko\", \"count\": 2, \"authorAssociation\": \"NONE\"}, {\"author\": \"SylvainCorlay\", \"count\": 2, \"authorAssociation\": \"MEMBER\"}, {\"author\": \"TheHubbit\", \"count\": 2, \"authorAssociation\": \"CONTRIBUTOR\"}, {\"author\": \"vityas\", \"count\": 2, \"authorAssociation\": \"NONE\"}, {\"author\": \"jhgee\", \"count\": 1, \"authorAssociation\": \"NONE\"}, {\"author\": \"jianmosier\", \"count\": 1, \"authorAssociation\": \"NONE\"}, {\"author\": \"fperez\", \"count\": 1, \"authorAssociation\": \"MEMBER\"}, {\"author\": \"frenzymadness\", \"count\": 1, \"authorAssociation\": \"CONTRIBUTOR\"}, {\"author\": \"ftobia\", \"count\": 1, \"authorAssociation\": \"CONTRIBUTOR\"}, {\"author\": \"hongyi-zhao\", \"count\": 1, \"authorAssociation\": \"NONE\"}, {\"author\": \"Isaacsh\", \"count\": 1, \"authorAssociation\": \"NONE\"}, {\"author\": \"dalthviz\", \"count\": 1, \"authorAssociation\": \"CONTRIBUTOR\"}, {\"author\": \"snail123815\", \"count\": 1, \"authorAssociation\": \"NONE\"}, {\"author\": \"sk1p\", \"count\": 1, \"authorAssociation\": \"NONE\"}, {\"author\": \"shyuep\", \"count\": 1, \"authorAssociation\": \"NONE\"}, {\"author\": \"Shellcat-Zero\", \"count\": 1, \"authorAssociation\": \"NONE\"}, {\"author\": \"dakoop\", \"count\": 1, \"authorAssociation\": \"NONE\"}, {\"author\": \"sai-in\", \"count\": 1, \"authorAssociation\": \"NONE\"}]}}, {\"mode\": \"vega-lite\"});\n",
       "</script>"
      ],
      "text/plain": [
       "alt.HConcatChart(...)"
      ]
     },
     "execution_count": 21,
     "metadata": {},
     "output_type": "execute_result"
    }
   ],
   "source": [
    "n_plot = 50\n",
    "charts = []\n",
    "for ii, (iorg, idata) in enumerate(commentors.groupby(['org'])):\n",
    "    title = f\"Top {n_plot} commentors for {iorg} in the last {n_days} days\"\n",
    "    idata = idata.groupby('author', as_index=False).agg({'count': 'sum', 'authorAssociation': 'first'})\n",
    "    idata = idata.sort_values('count', ascending=False).head(n_plot)\n",
    "    ch = alt.Chart(data=idata.head(n_plot), title=title).mark_bar().encode(\n",
    "        x='author',\n",
    "        y='count',\n",
    "        color=alt.Color('authorAssociation', scale=alt.Scale(domain=author_types, range=author_colors))\n",
    "    )\n",
    "    charts.append(ch)\n",
    "alt.hconcat(*charts)"
   ]
  },
  {
   "cell_type": "markdown",
   "metadata": {
    "papermill": {
     "duration": 0.044736,
     "end_time": "2020-07-07T01:12:20.687878",
     "exception": false,
     "start_time": "2020-07-07T01:12:20.643142",
     "status": "completed"
    },
    "tags": []
   },
   "source": [
    "## First responders\n",
    "\n",
    "First responders are the first people to respond to a new issue in one of the repositories.\n",
    "The following plots show first responders for recently-created issues."
   ]
  },
  {
   "cell_type": "code",
   "execution_count": 22,
   "metadata": {
    "execution": {
     "iopub.execute_input": "2020-07-07T01:12:20.780210Z",
     "iopub.status.busy": "2020-07-07T01:12:20.779578Z",
     "iopub.status.idle": "2020-07-07T01:12:21.024668Z",
     "shell.execute_reply": "2020-07-07T01:12:21.023841Z"
    },
    "papermill": {
     "duration": 0.294842,
     "end_time": "2020-07-07T01:12:21.024799",
     "exception": false,
     "start_time": "2020-07-07T01:12:20.729957",
     "status": "completed"
    },
    "tags": [
     "remove_cell"
    ]
   },
   "outputs": [],
   "source": [
    "first_comments = []\n",
    "for (org, repo, issue_id), i_comments in comments.groupby(['org', 'repo', 'id']):\n",
    "    ix_min = pd.to_datetime(i_comments['createdAt']).idxmin()\n",
    "    first_comment = i_comments.loc[ix_min]\n",
    "    if isinstance(first_comment, pd.DataFrame):\n",
    "        first_comment = first_comment.iloc[0]\n",
    "    first_comments.append(first_comment)\n",
    "first_comments = pd.concat(first_comments, axis=1).T\n",
    "\n",
    "# Make up counts for viz\n",
    "first_responder_counts = first_comments.groupby(['org', 'author', 'authorAssociation'], as_index=False).\\\n",
    "    count().rename(columns={'id': 'n_first_responses'}).sort_values(['org', 'n_first_responses'], ascending=False)\n"
   ]
  },
  {
   "cell_type": "code",
   "execution_count": 23,
   "metadata": {
    "execution": {
     "iopub.execute_input": "2020-07-07T01:12:21.140731Z",
     "iopub.status.busy": "2020-07-07T01:12:21.129180Z",
     "iopub.status.idle": "2020-07-07T01:12:21.152371Z",
     "shell.execute_reply": "2020-07-07T01:12:21.152962Z"
    },
    "papermill": {
     "duration": 0.07934,
     "end_time": "2020-07-07T01:12:21.153104",
     "exception": false,
     "start_time": "2020-07-07T01:12:21.073764",
     "status": "completed"
    },
    "tags": [
     "hide_input"
    ]
   },
   "outputs": [
    {
     "data": {
      "text/html": [
       "\n",
       "<div id=\"altair-viz-55db430ea73d49d0a47a8c49cf67511e\"></div>\n",
       "<script type=\"text/javascript\">\n",
       "  (function(spec, embedOpt){\n",
       "    let outputDiv = document.currentScript.previousElementSibling;\n",
       "    if (outputDiv.id !== \"altair-viz-55db430ea73d49d0a47a8c49cf67511e\") {\n",
       "      outputDiv = document.getElementById(\"altair-viz-55db430ea73d49d0a47a8c49cf67511e\");\n",
       "    }\n",
       "    const paths = {\n",
       "      \"vega\": \"https://cdn.jsdelivr.net/npm//vega@5?noext\",\n",
       "      \"vega-lib\": \"https://cdn.jsdelivr.net/npm//vega-lib?noext\",\n",
       "      \"vega-lite\": \"https://cdn.jsdelivr.net/npm//vega-lite@4.8.1?noext\",\n",
       "      \"vega-embed\": \"https://cdn.jsdelivr.net/npm//vega-embed@6?noext\",\n",
       "    };\n",
       "\n",
       "    function loadScript(lib) {\n",
       "      return new Promise(function(resolve, reject) {\n",
       "        var s = document.createElement('script');\n",
       "        s.src = paths[lib];\n",
       "        s.async = true;\n",
       "        s.onload = () => resolve(paths[lib]);\n",
       "        s.onerror = () => reject(`Error loading script: ${paths[lib]}`);\n",
       "        document.getElementsByTagName(\"head\")[0].appendChild(s);\n",
       "      });\n",
       "    }\n",
       "\n",
       "    function showError(err) {\n",
       "      outputDiv.innerHTML = `<div class=\"error\" style=\"color:red;\">${err}</div>`;\n",
       "      throw err;\n",
       "    }\n",
       "\n",
       "    function displayChart(vegaEmbed) {\n",
       "      vegaEmbed(outputDiv, spec, embedOpt)\n",
       "        .catch(err => showError(`Javascript Error: ${err.message}<br>This usually means there's a typo in your chart specification. See the javascript console for the full traceback.`));\n",
       "    }\n",
       "\n",
       "    if(typeof define === \"function\" && define.amd) {\n",
       "      requirejs.config({paths});\n",
       "      require([\"vega-embed\"], displayChart, err => showError(`Error loading script: ${err.message}`));\n",
       "    } else if (typeof vegaEmbed === \"function\") {\n",
       "      displayChart(vegaEmbed);\n",
       "    } else {\n",
       "      loadScript(\"vega\")\n",
       "        .then(() => loadScript(\"vega-lite\"))\n",
       "        .then(() => loadScript(\"vega-embed\"))\n",
       "        .catch(showError)\n",
       "        .then(() => displayChart(vegaEmbed));\n",
       "    }\n",
       "  })({\"config\": {\"axisLeft\": {\"labelFontSize\": 15}, \"axisBottom\": {\"labelFontSize\": 15}}, \"data\": {\"name\": \"data-f3de897ee103fe18d170fcb531d3ff3a\"}, \"mark\": \"bar\", \"encoding\": {\"color\": {\"type\": \"nominal\", \"field\": \"authorAssociation\", \"scale\": {\"domain\": [\"MEMBER\", \"CONTRIBUTOR\", \"COLLABORATOR\", \"NONE\"], \"range\": [\"rgb(211.82745098039214, 211.82745098039214, 211.82745098039214)\", \"rgb(166.98562091503268, 229.89803921568628, 166.98562091503268)\", \"rgb(96.37647058823529, 192.75294117647059, 96.37647058823529)\", \"rgb(0.0, 100.3921568627451, 0.0)\"]}}, \"x\": {\"type\": \"nominal\", \"field\": \"author\"}, \"y\": {\"type\": \"quantitative\", \"field\": \"n_first_responses\"}}, \"title\": \"Top 50 first responders for ipython in the last 60 days\", \"$schema\": \"https://vega.github.io/schema/vega-lite/v4.8.1.json\", \"datasets\": {\"data-f3de897ee103fe18d170fcb531d3ff3a\": [{\"author\": \"Carreau\", \"n_first_responses\": 64, \"authorAssociation\": \"MEMBER\"}, {\"author\": \"rmorshea\", \"n_first_responses\": 13, \"authorAssociation\": \"COLLABORATOR\"}, {\"author\": \"minrk\", \"n_first_responses\": 8, \"authorAssociation\": \"MEMBER\"}, {\"author\": \"blink1073\", \"n_first_responses\": 5, \"authorAssociation\": \"MEMBER\"}, {\"author\": \"tacaswell\", \"n_first_responses\": 3, \"authorAssociation\": \"CONTRIBUTOR\"}, {\"author\": \"mijiturka\", \"n_first_responses\": 3, \"authorAssociation\": \"NONE\"}, {\"author\": \"ssanderson\", \"n_first_responses\": 3, \"authorAssociation\": \"MEMBER\"}, {\"author\": \"ankostis\", \"n_first_responses\": 2, \"authorAssociation\": \"CONTRIBUTOR\"}, {\"author\": \"takluyver\", \"n_first_responses\": 2, \"authorAssociation\": \"MEMBER\"}, {\"author\": \"itamarst\", \"n_first_responses\": 2, \"authorAssociation\": \"CONTRIBUTOR\"}, {\"author\": \"JoaoFelipe\", \"n_first_responses\": 2, \"authorAssociation\": \"CONTRIBUTOR\"}, {\"author\": \"meeseeksdev\", \"n_first_responses\": 2, \"authorAssociation\": \"CONTRIBUTOR\"}, {\"author\": \"matthewgdv\", \"n_first_responses\": 1, \"authorAssociation\": \"NONE\"}, {\"author\": \"joshzwiebel\", \"n_first_responses\": 1, \"authorAssociation\": \"NONE\"}, {\"author\": \"jluttine\", \"n_first_responses\": 1, \"authorAssociation\": \"NONE\"}, {\"author\": \"kirankotari\", \"n_first_responses\": 1, \"authorAssociation\": \"NONE\"}, {\"author\": \"kousikmitra\", \"n_first_responses\": 1, \"authorAssociation\": \"CONTRIBUTOR\"}, {\"author\": \"mail2chromium\", \"n_first_responses\": 1, \"authorAssociation\": \"NONE\"}, {\"author\": \"nklever\", \"n_first_responses\": 1, \"authorAssociation\": \"NONE\"}, {\"author\": \"nardeas\", \"n_first_responses\": 1, \"authorAssociation\": \"NONE\"}, {\"author\": \"jhgee\", \"n_first_responses\": 1, \"authorAssociation\": \"NONE\"}, {\"author\": \"nonhermitian\", \"n_first_responses\": 1, \"authorAssociation\": \"NONE\"}, {\"author\": \"shyuep\", \"n_first_responses\": 1, \"authorAssociation\": \"NONE\"}, {\"author\": \"takuya1981\", \"n_first_responses\": 1, \"authorAssociation\": \"CONTRIBUTOR\"}, {\"author\": \"timkpaine\", \"n_first_responses\": 1, \"authorAssociation\": \"CONTRIBUTOR\"}, {\"author\": \"tlambert03\", \"n_first_responses\": 1, \"authorAssociation\": \"CONTRIBUTOR\"}, {\"author\": \"jianmosier\", \"n_first_responses\": 1, \"authorAssociation\": \"NONE\"}, {\"author\": \"jamescooke\", \"n_first_responses\": 1, \"authorAssociation\": \"NONE\"}, {\"author\": \"jf---\", \"n_first_responses\": 1, \"authorAssociation\": \"NONE\"}, {\"author\": \"cphyc\", \"n_first_responses\": 1, \"authorAssociation\": \"CONTRIBUTOR\"}, {\"author\": \"LucianaMarques\", \"n_first_responses\": 1, \"authorAssociation\": \"CONTRIBUTOR\"}, {\"author\": \"Madhu94\", \"n_first_responses\": 1, \"authorAssociation\": \"NONE\"}, {\"author\": \"Shellcat-Zero\", \"n_first_responses\": 1, \"authorAssociation\": \"NONE\"}, {\"author\": \"SylvainCorlay\", \"n_first_responses\": 1, \"authorAssociation\": \"MEMBER\"}, {\"author\": \"basileMarchand\", \"n_first_responses\": 1, \"authorAssociation\": \"NONE\"}, {\"author\": \"bradybus\", \"n_first_responses\": 1, \"authorAssociation\": \"NONE\"}, {\"author\": \"ccordoba12\", \"n_first_responses\": 1, \"authorAssociation\": \"MEMBER\"}, {\"author\": \"choldgraf\", \"n_first_responses\": 1, \"authorAssociation\": \"NONE\"}, {\"author\": \"cool-RR\", \"n_first_responses\": 1, \"authorAssociation\": \"CONTRIBUTOR\"}, {\"author\": \"da1910\", \"n_first_responses\": 1, \"authorAssociation\": \"NONE\"}, {\"author\": \"jasongrout\", \"n_first_responses\": 1, \"authorAssociation\": \"MEMBER\"}, {\"author\": \"dalthviz\", \"n_first_responses\": 1, \"authorAssociation\": \"CONTRIBUTOR\"}, {\"author\": \"danolson1\", \"n_first_responses\": 1, \"authorAssociation\": \"NONE\"}, {\"author\": \"davidbrochart\", \"n_first_responses\": 1, \"authorAssociation\": \"CONTRIBUTOR\"}, {\"author\": \"dtrodrigues\", \"n_first_responses\": 1, \"authorAssociation\": \"NONE\"}, {\"author\": \"erind31\", \"n_first_responses\": 1, \"authorAssociation\": \"NONE\"}, {\"author\": \"fperez\", \"n_first_responses\": 1, \"authorAssociation\": \"MEMBER\"}, {\"author\": \"frenzymadness\", \"n_first_responses\": 1, \"authorAssociation\": \"CONTRIBUTOR\"}, {\"author\": \"frmdstryr\", \"n_first_responses\": 1, \"authorAssociation\": \"CONTRIBUTOR\"}, {\"author\": \"ftobia\", \"n_first_responses\": 1, \"authorAssociation\": \"CONTRIBUTOR\"}]}}, {\"mode\": \"vega-lite\"});\n",
       "</script>"
      ],
      "text/plain": [
       "alt.Chart(...)"
      ]
     },
     "execution_count": 23,
     "metadata": {},
     "output_type": "execute_result"
    }
   ],
   "source": [
    "n_plot = 50\n",
    "\n",
    "title = f\"Top {n_plot} first responders for {github_org} in the last {n_days} days\"\n",
    "idata = first_responder_counts.groupby('author', as_index=False).agg({'n_first_responses': 'sum', 'authorAssociation': 'first'})\n",
    "idata = idata.sort_values('n_first_responses', ascending=False).head(n_plot)\n",
    "ch = alt.Chart(data=idata.head(n_plot), title=title).mark_bar().encode(\n",
    "    x='author',\n",
    "    y='n_first_responses',\n",
    "    color=alt.Color('authorAssociation', scale=alt.Scale(domain=author_types, range=author_colors))\n",
    ")\n",
    "ch"
   ]
  },
  {
   "cell_type": "markdown",
   "metadata": {
    "papermill": {
     "duration": 0.042838,
     "end_time": "2020-07-07T01:12:21.244403",
     "exception": false,
     "start_time": "2020-07-07T01:12:21.201565",
     "status": "completed"
    },
    "tags": []
   },
   "source": [
    "## Recent activity\n",
    "\n",
    "### A list of merged PRs by project\n",
    "\n",
    "Below is a tabbed readout of recently-merged PRs. Check out the title to get an idea for what they\n",
    "implemented, and be sure to thank the PR author for their hard work!"
   ]
  },
  {
   "cell_type": "code",
   "execution_count": 24,
   "metadata": {
    "execution": {
     "iopub.execute_input": "2020-07-07T01:12:21.345025Z",
     "iopub.status.busy": "2020-07-07T01:12:21.344401Z",
     "iopub.status.idle": "2020-07-07T01:12:21.458059Z",
     "shell.execute_reply": "2020-07-07T01:12:21.458635Z"
    },
    "papermill": {
     "duration": 0.170902,
     "end_time": "2020-07-07T01:12:21.458777",
     "exception": false,
     "start_time": "2020-07-07T01:12:21.287875",
     "status": "completed"
    },
    "tags": [
     "hide_input"
    ]
   },
   "outputs": [
    {
     "data": {
      "application/vnd.jupyter.widget-view+json": {
       "model_id": "6cb1592b13424d6ba68bd378c2ed81c4",
       "version_major": 2,
       "version_minor": 0
      },
      "text/plain": [
       "Tab(children=(HTML(value='<h4>Closed PRs for repo: <a href=\"https://github.com/ipython/ipykernel\">ipython/ipyk…"
      ]
     },
     "metadata": {},
     "output_type": "display_data"
    }
   ],
   "source": [
    "tabs = widgets.Tab(children=[])\n",
    "\n",
    "for ii, ((org, repo), imerged) in enumerate(merged.query(\"repo in @use_repos\").groupby(['org', 'repo'])):\n",
    "    merged_by = {}\n",
    "    pr_by = {}\n",
    "    issue_md = []\n",
    "    issue_md.append(f\"#### Closed PRs for repo: [{org}/{repo}](https://github.com/{github_org}/{repo})\")\n",
    "    issue_md.append(\"\")\n",
    "    issue_md.append(f\"##### \")\n",
    "\n",
    "    for _, ipr in imerged.iterrows():\n",
    "        user_name = ipr['author']\n",
    "        user_url = author_url(user_name)\n",
    "        pr_number = ipr['number']\n",
    "        pr_html = ipr['url']\n",
    "        pr_title = ipr['title']\n",
    "        pr_closedby = ipr['mergedBy']\n",
    "        pr_closedby_url = f\"https://github.com/{pr_closedby}\"\n",
    "        if user_name not in pr_by:\n",
    "            pr_by[user_name] = 1\n",
    "        else:\n",
    "            pr_by[user_name] += 1\n",
    "\n",
    "        if pr_closedby not in merged_by:\n",
    "            merged_by[pr_closedby] = 1\n",
    "        else:\n",
    "            merged_by[pr_closedby] += 1\n",
    "        text = f\"* [(#{pr_number})]({pr_html}): _{pr_title}_ by **[@{user_name}]({user_url})** merged by **[@{pr_closedby}]({pr_closedby_url})**\"\n",
    "        issue_md.append(text)\n",
    "    \n",
    "    issue_md.append('')\n",
    "    markdown_html = markdown('\\n'.join(issue_md))\n",
    "\n",
    "    children = list(tabs.children)\n",
    "    children.append(HTML(markdown_html))\n",
    "    tabs.children = tuple(children)\n",
    "    tabs.set_title(ii, repo)\n",
    "tabs"
   ]
  },
  {
   "cell_type": "markdown",
   "metadata": {
    "papermill": {
     "duration": 0.053154,
     "end_time": "2020-07-07T01:12:21.556537",
     "exception": false,
     "start_time": "2020-07-07T01:12:21.503383",
     "status": "completed"
    },
    "tags": []
   },
   "source": [
    "### A list of recent issues\n",
    "\n",
    "Below is a list of issues with recent activity in each repository. If they seem of interest\n",
    "to you, click on their links and jump in to participate!"
   ]
  },
  {
   "cell_type": "code",
   "execution_count": 25,
   "metadata": {
    "execution": {
     "iopub.execute_input": "2020-07-07T01:12:21.656270Z",
     "iopub.status.busy": "2020-07-07T01:12:21.655653Z",
     "iopub.status.idle": "2020-07-07T01:12:21.662930Z",
     "shell.execute_reply": "2020-07-07T01:12:21.662284Z"
    },
    "papermill": {
     "duration": 0.062487,
     "end_time": "2020-07-07T01:12:21.663041",
     "exception": false,
     "start_time": "2020-07-07T01:12:21.600554",
     "status": "completed"
    },
    "tags": [
     "remove_cell"
    ]
   },
   "outputs": [],
   "source": [
    "# Add comment count data to issues and PRs\n",
    "comment_counts = (\n",
    "    comments\n",
    "    .query(\"createdAt > @start_date and createdAt < @stop_date\")\n",
    "    .groupby(['org', 'repo', 'id'])\n",
    "    .count().iloc[:, 0].to_frame()\n",
    ")\n",
    "comment_counts.columns = ['n_comments']\n",
    "comment_counts = comment_counts.reset_index()"
   ]
  },
  {
   "cell_type": "code",
   "execution_count": 26,
   "metadata": {
    "execution": {
     "iopub.execute_input": "2020-07-07T01:12:21.767874Z",
     "iopub.status.busy": "2020-07-07T01:12:21.761297Z",
     "iopub.status.idle": "2020-07-07T01:12:21.876685Z",
     "shell.execute_reply": "2020-07-07T01:12:21.877264Z"
    },
    "papermill": {
     "duration": 0.168489,
     "end_time": "2020-07-07T01:12:21.877402",
     "exception": false,
     "start_time": "2020-07-07T01:12:21.708913",
     "status": "completed"
    },
    "tags": [
     "hide_input"
    ],
    "toc-hr-collapsed": false
   },
   "outputs": [
    {
     "data": {
      "text/markdown": [
       "Here are the top 5 active issues in each repository in the last 60 days"
      ],
      "text/plain": [
       "<IPython.core.display.Markdown object>"
      ]
     },
     "metadata": {},
     "output_type": "display_data"
    },
    {
     "data": {
      "application/vnd.jupyter.widget-view+json": {
       "model_id": "8c4254ce2e1c48ab9b038f69ed6fc701",
       "version_major": 2,
       "version_minor": 0
      },
      "text/plain": [
       "Tab(children=(HTML(value='<h5><a href=\"https://github.com/ipython/ipykernel\">ipython/ipykernel</a></h5>\\n<ul>\\…"
      ]
     },
     "metadata": {},
     "output_type": "display_data"
    }
   ],
   "source": [
    "n_plot = 5\n",
    "tabs = widgets.Tab(children=[])\n",
    "\n",
    "for ii, (repo, i_issues) in enumerate(comment_counts.query(\"repo in @use_repos\").groupby('repo')):\n",
    "    \n",
    "    issue_md = []\n",
    "    issue_md.append(\"\")\n",
    "    issue_md.append(f\"##### [{github_org}/{repo}](https://github.com/{github_org}/{repo})\")\n",
    "\n",
    "    top_issues = i_issues.sort_values('n_comments', ascending=False).head(n_plot)\n",
    "    top_issue_list = pd.merge(issues, top_issues, left_on=['org', 'repo', 'id'], right_on=['org', 'repo', 'id'])\n",
    "    for _, issue in top_issue_list.sort_values('n_comments', ascending=False).head(n_plot).iterrows():\n",
    "        user_name = issue['author']\n",
    "        user_url = author_url(user_name)\n",
    "        issue_number = issue['number']\n",
    "        issue_html = issue['url']\n",
    "        issue_title = issue['title']\n",
    "\n",
    "        text = f\"* [(#{issue_number})]({issue_html}): _{issue_title}_ by **[@{user_name}]({user_url})**\"\n",
    "        issue_md.append(text)\n",
    "\n",
    "    issue_md.append('')\n",
    "    md_html = HTML(markdown('\\n'.join(issue_md)))\n",
    "\n",
    "    children = list(tabs.children)\n",
    "    children.append(HTML(markdown('\\n'.join(issue_md))))\n",
    "    tabs.children = tuple(children)\n",
    "    tabs.set_title(ii, repo)\n",
    "    \n",
    "display(Markdown(f\"Here are the top {n_plot} active issues in each repository in the last {n_days} days\"))\n",
    "display(tabs)"
   ]
  }
 ],
 "metadata": {
  "kernelspec": {
   "display_name": "Python 3",
   "language": "python",
   "name": "python3"
  },
  "language_info": {
   "codemirror_mode": {
    "name": "ipython",
    "version": 3
   },
   "file_extension": ".py",
   "mimetype": "text/x-python",
   "name": "python",
   "nbconvert_exporter": "python",
   "pygments_lexer": "ipython3",
   "version": "3.7.7"
  },
  "papermill": {
   "duration": 22.940162,
   "end_time": "2020-07-07T01:12:22.535989",
   "environment_variables": {},
   "exception": null,
   "input_path": "./template.ipynb",
   "output_path": "book/ipython.ipynb",
   "parameters": {
    "github_org": "ipython",
    "n_days": 60
   },
   "start_time": "2020-07-07T01:11:59.595827",
   "version": "2.1.2"
  },
  "widgets": {
   "application/vnd.jupyter.widget-state+json": {
    "state": {
     "039fc1c792bc4a6fb1c7349df2a9c558": {
      "model_module": "@jupyter-widgets/base",
      "model_module_version": "1.2.0",
      "model_name": "LayoutModel",
      "state": {
       "_model_module": "@jupyter-widgets/base",
       "_model_module_version": "1.2.0",
       "_model_name": "LayoutModel",
       "_view_count": null,
       "_view_module": "@jupyter-widgets/base",
       "_view_module_version": "1.2.0",
       "_view_name": "LayoutView",
       "align_content": null,
       "align_items": null,
       "align_self": null,
       "border": null,
       "bottom": null,
       "display": null,
       "flex": null,
       "flex_flow": null,
       "grid_area": null,
       "grid_auto_columns": null,
       "grid_auto_flow": null,
       "grid_auto_rows": null,
       "grid_column": null,
       "grid_gap": null,
       "grid_row": null,
       "grid_template_areas": null,
       "grid_template_columns": null,
       "grid_template_rows": null,
       "height": null,
       "justify_content": null,
       "justify_items": null,
       "left": null,
       "margin": null,
       "max_height": null,
       "max_width": null,
       "min_height": null,
       "min_width": null,
       "object_fit": null,
       "object_position": null,
       "order": null,
       "overflow": null,
       "overflow_x": null,
       "overflow_y": null,
       "padding": null,
       "right": null,
       "top": null,
       "visibility": null,
       "width": null
      }
     },
     "0ef8e59b9911471cb919fe3c77e90d9e": {
      "model_module": "@jupyter-widgets/base",
      "model_module_version": "1.2.0",
      "model_name": "LayoutModel",
      "state": {
       "_model_module": "@jupyter-widgets/base",
       "_model_module_version": "1.2.0",
       "_model_name": "LayoutModel",
       "_view_count": null,
       "_view_module": "@jupyter-widgets/base",
       "_view_module_version": "1.2.0",
       "_view_name": "LayoutView",
       "align_content": null,
       "align_items": null,
       "align_self": null,
       "border": null,
       "bottom": null,
       "display": null,
       "flex": null,
       "flex_flow": null,
       "grid_area": null,
       "grid_auto_columns": null,
       "grid_auto_flow": null,
       "grid_auto_rows": null,
       "grid_column": null,
       "grid_gap": null,
       "grid_row": null,
       "grid_template_areas": null,
       "grid_template_columns": null,
       "grid_template_rows": null,
       "height": null,
       "justify_content": null,
       "justify_items": null,
       "left": null,
       "margin": null,
       "max_height": null,
       "max_width": null,
       "min_height": null,
       "min_width": null,
       "object_fit": null,
       "object_position": null,
       "order": null,
       "overflow": null,
       "overflow_x": null,
       "overflow_y": null,
       "padding": null,
       "right": null,
       "top": null,
       "visibility": null,
       "width": null
      }
     },
     "0f775cdaf271436cafc776f8c906a010": {
      "model_module": "@jupyter-widgets/controls",
      "model_module_version": "1.5.0",
      "model_name": "DescriptionStyleModel",
      "state": {
       "_model_module": "@jupyter-widgets/controls",
       "_model_module_version": "1.5.0",
       "_model_name": "DescriptionStyleModel",
       "_view_count": null,
       "_view_module": "@jupyter-widgets/base",
       "_view_module_version": "1.2.0",
       "_view_name": "StyleView",
       "description_width": ""
      }
     },
     "1c159dec2393471a989683bf2a56746a": {
      "model_module": "@jupyter-widgets/controls",
      "model_module_version": "1.5.0",
      "model_name": "HTMLModel",
      "state": {
       "_dom_classes": [],
       "_model_module": "@jupyter-widgets/controls",
       "_model_module_version": "1.5.0",
       "_model_name": "HTMLModel",
       "_view_count": null,
       "_view_module": "@jupyter-widgets/controls",
       "_view_module_version": "1.5.0",
       "_view_name": "HTMLView",
       "description": "",
       "description_tooltip": null,
       "layout": "IPY_MODEL_bad6a739c67c4e9cafcef36eb5f93bd2",
       "placeholder": "​",
       "style": "IPY_MODEL_bdcec45087df4297b20abbf8c84163a4",
       "value": "<h5><a href=\"https://github.com/ipython/ipython\">ipython/ipython</a></h5>\n<ul>\n<li><a href=\"https://github.com/ipython/ipython/issues/12348\">(#12348)</a>: <em>Debugger is flooded with QObject warnings if ipython is started with gui=qt5/4</em> by <strong><a href=\"https://github.com/clemisch\">@clemisch</a></strong></li>\n</ul>"
      }
     },
     "1d57b26cbefa4fac9d99a2ea874a0efa": {
      "model_module": "@jupyter-widgets/controls",
      "model_module_version": "1.5.0",
      "model_name": "HTMLModel",
      "state": {
       "_dom_classes": [],
       "_model_module": "@jupyter-widgets/controls",
       "_model_module_version": "1.5.0",
       "_model_name": "HTMLModel",
       "_view_count": null,
       "_view_module": "@jupyter-widgets/controls",
       "_view_module_version": "1.5.0",
       "_view_name": "HTMLView",
       "description": "",
       "description_tooltip": null,
       "layout": "IPY_MODEL_b60d23b8954e46c282617d0e5eff89de",
       "placeholder": "​",
       "style": "IPY_MODEL_6b684ff21d84485ba6b68cab0fbd5bcc",
       "value": "<h5><a href=\"https://github.com/ipython/ipykernel\">ipython/ipykernel</a></h5>\n<ul>\n<li><a href=\"https://github.com/ipython/ipykernel/issues/513\">(#513)</a>: <em>handling implicit prompt request in run time like colab</em> by <strong><a href=\"https://github.com/rezaeir\">@rezaeir</a></strong></li>\n<li><a href=\"https://github.com/ipython/ipykernel/issues/520\">(#520)</a>: <em>ZMQInteractiveShell does not run post_execute and post_run_cell events on async cells</em> by <strong><a href=\"https://github.com/JoaoFelipe\">@JoaoFelipe</a></strong></li>\n<li><a href=\"https://github.com/ipython/ipykernel/issues/515\">(#515)</a>: <em>New release?</em> by <strong><a href=\"https://github.com/itamarst\">@itamarst</a></strong></li>\n</ul>"
      }
     },
     "2d6ea1f9ab8f4236a2ac4fcb36327178": {
      "model_module": "@jupyter-widgets/controls",
      "model_module_version": "1.5.0",
      "model_name": "DescriptionStyleModel",
      "state": {
       "_model_module": "@jupyter-widgets/controls",
       "_model_module_version": "1.5.0",
       "_model_name": "DescriptionStyleModel",
       "_view_count": null,
       "_view_module": "@jupyter-widgets/base",
       "_view_module_version": "1.2.0",
       "_view_name": "StyleView",
       "description_width": ""
      }
     },
     "3169206982a94445a878b909ba9309a2": {
      "model_module": "@jupyter-widgets/controls",
      "model_module_version": "1.5.0",
      "model_name": "DescriptionStyleModel",
      "state": {
       "_model_module": "@jupyter-widgets/controls",
       "_model_module_version": "1.5.0",
       "_model_name": "DescriptionStyleModel",
       "_view_count": null,
       "_view_module": "@jupyter-widgets/base",
       "_view_module_version": "1.2.0",
       "_view_name": "StyleView",
       "description_width": ""
      }
     },
     "35a5114d817b4c74b5598314b6d7881f": {
      "model_module": "@jupyter-widgets/base",
      "model_module_version": "1.2.0",
      "model_name": "LayoutModel",
      "state": {
       "_model_module": "@jupyter-widgets/base",
       "_model_module_version": "1.2.0",
       "_model_name": "LayoutModel",
       "_view_count": null,
       "_view_module": "@jupyter-widgets/base",
       "_view_module_version": "1.2.0",
       "_view_name": "LayoutView",
       "align_content": null,
       "align_items": null,
       "align_self": null,
       "border": null,
       "bottom": null,
       "display": null,
       "flex": null,
       "flex_flow": null,
       "grid_area": null,
       "grid_auto_columns": null,
       "grid_auto_flow": null,
       "grid_auto_rows": null,
       "grid_column": null,
       "grid_gap": null,
       "grid_row": null,
       "grid_template_areas": null,
       "grid_template_columns": null,
       "grid_template_rows": null,
       "height": null,
       "justify_content": null,
       "justify_items": null,
       "left": null,
       "margin": null,
       "max_height": null,
       "max_width": null,
       "min_height": null,
       "min_width": null,
       "object_fit": null,
       "object_position": null,
       "order": null,
       "overflow": null,
       "overflow_x": null,
       "overflow_y": null,
       "padding": null,
       "right": null,
       "top": null,
       "visibility": null,
       "width": null
      }
     },
     "41844af245c94e8f81f8124ab606feba": {
      "model_module": "@jupyter-widgets/base",
      "model_module_version": "1.2.0",
      "model_name": "LayoutModel",
      "state": {
       "_model_module": "@jupyter-widgets/base",
       "_model_module_version": "1.2.0",
       "_model_name": "LayoutModel",
       "_view_count": null,
       "_view_module": "@jupyter-widgets/base",
       "_view_module_version": "1.2.0",
       "_view_name": "LayoutView",
       "align_content": null,
       "align_items": null,
       "align_self": null,
       "border": null,
       "bottom": null,
       "display": null,
       "flex": null,
       "flex_flow": null,
       "grid_area": null,
       "grid_auto_columns": null,
       "grid_auto_flow": null,
       "grid_auto_rows": null,
       "grid_column": null,
       "grid_gap": null,
       "grid_row": null,
       "grid_template_areas": null,
       "grid_template_columns": null,
       "grid_template_rows": null,
       "height": null,
       "justify_content": null,
       "justify_items": null,
       "left": null,
       "margin": null,
       "max_height": null,
       "max_width": null,
       "min_height": null,
       "min_width": null,
       "object_fit": null,
       "object_position": null,
       "order": null,
       "overflow": null,
       "overflow_x": null,
       "overflow_y": null,
       "padding": null,
       "right": null,
       "top": null,
       "visibility": null,
       "width": null
      }
     },
     "47924b92d86042998ae49444605721a2": {
      "model_module": "@jupyter-widgets/controls",
      "model_module_version": "1.5.0",
      "model_name": "DescriptionStyleModel",
      "state": {
       "_model_module": "@jupyter-widgets/controls",
       "_model_module_version": "1.5.0",
       "_model_name": "DescriptionStyleModel",
       "_view_count": null,
       "_view_module": "@jupyter-widgets/base",
       "_view_module_version": "1.2.0",
       "_view_name": "StyleView",
       "description_width": ""
      }
     },
     "5292b77614de488ebfb32bab32f559c1": {
      "model_module": "@jupyter-widgets/controls",
      "model_module_version": "1.5.0",
      "model_name": "HTMLModel",
      "state": {
       "_dom_classes": [],
       "_model_module": "@jupyter-widgets/controls",
       "_model_module_version": "1.5.0",
       "_model_name": "HTMLModel",
       "_view_count": null,
       "_view_module": "@jupyter-widgets/controls",
       "_view_module_version": "1.5.0",
       "_view_name": "HTMLView",
       "description": "",
       "description_tooltip": null,
       "layout": "IPY_MODEL_c000d2ad89b740e7b4efb376d42c35af",
       "placeholder": "​",
       "style": "IPY_MODEL_3169206982a94445a878b909ba9309a2",
       "value": "<h5><a href=\"https://github.com/ipython/traitlets\">ipython/traitlets</a></h5>\n<ul>\n<li><a href=\"https://github.com/ipython/traitlets/issues/564\">(#564)</a>: <em>Downstream testing of 5.x/master</em> by <strong><a href=\"https://github.com/Carreau\">@Carreau</a></strong></li>\n<li><a href=\"https://github.com/ipython/traitlets/issues/557\">(#557)</a>: <em>The Dict value update cannot trigger any event</em> by <strong><a href=\"https://github.com/dou-du\">@dou-du</a></strong></li>\n<li><a href=\"https://github.com/ipython/traitlets/issues/554\">(#554)</a>: <em>Release including \"Callable\"</em> by <strong><a href=\"https://github.com/timkpaine\">@timkpaine</a></strong></li>\n</ul>"
      }
     },
     "5e8ba22690b94889a1a9958f8d78f12c": {
      "model_module": "@jupyter-widgets/controls",
      "model_module_version": "1.5.0",
      "model_name": "DescriptionStyleModel",
      "state": {
       "_model_module": "@jupyter-widgets/controls",
       "_model_module_version": "1.5.0",
       "_model_name": "DescriptionStyleModel",
       "_view_count": null,
       "_view_module": "@jupyter-widgets/base",
       "_view_module_version": "1.2.0",
       "_view_name": "StyleView",
       "description_width": ""
      }
     },
     "6b684ff21d84485ba6b68cab0fbd5bcc": {
      "model_module": "@jupyter-widgets/controls",
      "model_module_version": "1.5.0",
      "model_name": "DescriptionStyleModel",
      "state": {
       "_model_module": "@jupyter-widgets/controls",
       "_model_module_version": "1.5.0",
       "_model_name": "DescriptionStyleModel",
       "_view_count": null,
       "_view_module": "@jupyter-widgets/base",
       "_view_module_version": "1.2.0",
       "_view_name": "StyleView",
       "description_width": ""
      }
     },
     "6cb1592b13424d6ba68bd378c2ed81c4": {
      "model_module": "@jupyter-widgets/controls",
      "model_module_version": "1.5.0",
      "model_name": "TabModel",
      "state": {
       "_dom_classes": [],
       "_model_module": "@jupyter-widgets/controls",
       "_model_module_version": "1.5.0",
       "_model_name": "TabModel",
       "_titles": {
        "0": "ipykernel",
        "1": "ipython",
        "2": "traitlets"
       },
       "_view_count": null,
       "_view_module": "@jupyter-widgets/controls",
       "_view_module_version": "1.5.0",
       "_view_name": "TabView",
       "box_style": "",
       "children": [
        "IPY_MODEL_bead28813ff641e88e64452b419c2a5c",
        "IPY_MODEL_918d7380b43c4d19802e1cd66e135a07",
        "IPY_MODEL_a3640b0cf3fd4779a77972afb13c6d27"
       ],
       "layout": "IPY_MODEL_9921e27eb01442959f0f5b9ad6054ef6",
       "selected_index": 0
      }
     },
     "6de8fa78e14d4d1ca08056e093e36b35": {
      "model_module": "@jupyter-widgets/controls",
      "model_module_version": "1.5.0",
      "model_name": "HTMLModel",
      "state": {
       "_dom_classes": [],
       "_model_module": "@jupyter-widgets/controls",
       "_model_module_version": "1.5.0",
       "_model_name": "HTMLModel",
       "_view_count": null,
       "_view_module": "@jupyter-widgets/controls",
       "_view_module_version": "1.5.0",
       "_view_name": "HTMLView",
       "description": "",
       "description_tooltip": null,
       "layout": "IPY_MODEL_a1d1898e2ee64cfe883d12a79ca846aa",
       "placeholder": "​",
       "style": "IPY_MODEL_47924b92d86042998ae49444605721a2",
       "value": "<h5><a href=\"https://github.com/ipython/ipyparallel\">ipython/ipyparallel</a></h5>\n<ul>\n<li><a href=\"https://github.com/ipython/ipyparallel/issues/414\">(#414)</a>: <em>become_dask tries to connect to the wrong IP</em> by <strong><a href=\"https://github.com/sk1p\">@sk1p</a></strong></li>\n<li><a href=\"https://github.com/ipython/ipyparallel/issues/416\">(#416)</a>: <em>Importing remote function decorators results in ModuleNotFoundError</em> by <strong><a href=\"https://github.com/Shellcat-Zero\">@Shellcat-Zero</a></strong></li>\n</ul>"
      }
     },
     "7064b1bf8b004ccd8847c7d85fe1ee8d": {
      "model_module": "@jupyter-widgets/controls",
      "model_module_version": "1.5.0",
      "model_name": "HTMLModel",
      "state": {
       "_dom_classes": [],
       "_model_module": "@jupyter-widgets/controls",
       "_model_module_version": "1.5.0",
       "_model_name": "HTMLModel",
       "_view_count": null,
       "_view_module": "@jupyter-widgets/controls",
       "_view_module_version": "1.5.0",
       "_view_name": "HTMLView",
       "description": "",
       "description_tooltip": null,
       "layout": "IPY_MODEL_b319c410ceb44f4d916a79a3cd53bc1f",
       "placeholder": "​",
       "style": "IPY_MODEL_0f775cdaf271436cafc776f8c906a010",
       "value": "<h5><a href=\"https://github.com/ipython/traitlets\">ipython/traitlets</a></h5>\n<ul>\n<li><a href=\"https://github.com/ipython/traitlets/issues/564\">(#564)</a>: <em>Downstream testing of 5.x/master</em> by <strong><a href=\"https://github.com/Carreau\">@Carreau</a></strong></li>\n<li><a href=\"https://github.com/ipython/traitlets/issues/557\">(#557)</a>: <em>The Dict value update cannot trigger any event</em> by <strong><a href=\"https://github.com/dou-du\">@dou-du</a></strong></li>\n<li><a href=\"https://github.com/ipython/traitlets/issues/554\">(#554)</a>: <em>Release including \"Callable\"</em> by <strong><a href=\"https://github.com/timkpaine\">@timkpaine</a></strong></li>\n</ul>"
      }
     },
     "7f7f2e43a318409db1666ce6e9b31583": {
      "model_module": "@jupyter-widgets/base",
      "model_module_version": "1.2.0",
      "model_name": "LayoutModel",
      "state": {
       "_model_module": "@jupyter-widgets/base",
       "_model_module_version": "1.2.0",
       "_model_name": "LayoutModel",
       "_view_count": null,
       "_view_module": "@jupyter-widgets/base",
       "_view_module_version": "1.2.0",
       "_view_name": "LayoutView",
       "align_content": null,
       "align_items": null,
       "align_self": null,
       "border": null,
       "bottom": null,
       "display": null,
       "flex": null,
       "flex_flow": null,
       "grid_area": null,
       "grid_auto_columns": null,
       "grid_auto_flow": null,
       "grid_auto_rows": null,
       "grid_column": null,
       "grid_gap": null,
       "grid_row": null,
       "grid_template_areas": null,
       "grid_template_columns": null,
       "grid_template_rows": null,
       "height": null,
       "justify_content": null,
       "justify_items": null,
       "left": null,
       "margin": null,
       "max_height": null,
       "max_width": null,
       "min_height": null,
       "min_width": null,
       "object_fit": null,
       "object_position": null,
       "order": null,
       "overflow": null,
       "overflow_x": null,
       "overflow_y": null,
       "padding": null,
       "right": null,
       "top": null,
       "visibility": null,
       "width": null
      }
     },
     "7fb65be8c5924f95abf981438c2627f9": {
      "model_module": "@jupyter-widgets/controls",
      "model_module_version": "1.5.0",
      "model_name": "DescriptionStyleModel",
      "state": {
       "_model_module": "@jupyter-widgets/controls",
       "_model_module_version": "1.5.0",
       "_model_name": "DescriptionStyleModel",
       "_view_count": null,
       "_view_module": "@jupyter-widgets/base",
       "_view_module_version": "1.2.0",
       "_view_name": "StyleView",
       "description_width": ""
      }
     },
     "83641386bf9147c88b48e09a5f044994": {
      "model_module": "@jupyter-widgets/controls",
      "model_module_version": "1.5.0",
      "model_name": "IntProgressModel",
      "state": {
       "_dom_classes": [],
       "_model_module": "@jupyter-widgets/controls",
       "_model_module_version": "1.5.0",
       "_model_name": "IntProgressModel",
       "_view_count": null,
       "_view_module": "@jupyter-widgets/controls",
       "_view_module_version": "1.5.0",
       "_view_name": "ProgressView",
       "bar_style": "success",
       "description": "Downloading:",
       "description_tooltip": null,
       "layout": "IPY_MODEL_7f7f2e43a318409db1666ce6e9b31583",
       "max": 4,
       "min": 0,
       "orientation": "horizontal",
       "style": "IPY_MODEL_a0976c9121c343e1bcae98f528c4baf6",
       "value": 4
      }
     },
     "83ade869bb274cc0bb5f4cca6e0f355d": {
      "model_module": "@jupyter-widgets/controls",
      "model_module_version": "1.5.0",
      "model_name": "HTMLModel",
      "state": {
       "_dom_classes": [],
       "_model_module": "@jupyter-widgets/controls",
       "_model_module_version": "1.5.0",
       "_model_name": "HTMLModel",
       "_view_count": null,
       "_view_module": "@jupyter-widgets/controls",
       "_view_module_version": "1.5.0",
       "_view_name": "HTMLView",
       "description": "",
       "description_tooltip": null,
       "layout": "IPY_MODEL_88c5dc97780e4637b99db3ce92bdab19",
       "placeholder": "​",
       "style": "IPY_MODEL_5e8ba22690b94889a1a9958f8d78f12c",
       "value": "<h5><a href=\"https://github.com/ipython/ipykernel\">ipython/ipykernel</a></h5>\n<ul>\n<li><a href=\"https://github.com/ipython/ipykernel/issues/513\">(#513)</a>: <em>handling implicit prompt request in run time like colab</em> by <strong><a href=\"https://github.com/rezaeir\">@rezaeir</a></strong></li>\n<li><a href=\"https://github.com/ipython/ipykernel/issues/520\">(#520)</a>: <em>ZMQInteractiveShell does not run post_execute and post_run_cell events on async cells</em> by <strong><a href=\"https://github.com/JoaoFelipe\">@JoaoFelipe</a></strong></li>\n<li><a href=\"https://github.com/ipython/ipykernel/issues/515\">(#515)</a>: <em>New release?</em> by <strong><a href=\"https://github.com/itamarst\">@itamarst</a></strong></li>\n</ul>"
      }
     },
     "83bff5e6b3cc4ff9b015069225750e67": {
      "model_module": "@jupyter-widgets/controls",
      "model_module_version": "1.5.0",
      "model_name": "DescriptionStyleModel",
      "state": {
       "_model_module": "@jupyter-widgets/controls",
       "_model_module_version": "1.5.0",
       "_model_name": "DescriptionStyleModel",
       "_view_count": null,
       "_view_module": "@jupyter-widgets/base",
       "_view_module_version": "1.2.0",
       "_view_name": "StyleView",
       "description_width": ""
      }
     },
     "88b87ce77d34418ea6b9e524caa042ec": {
      "model_module": "@jupyter-widgets/controls",
      "model_module_version": "1.5.0",
      "model_name": "ProgressStyleModel",
      "state": {
       "_model_module": "@jupyter-widgets/controls",
       "_model_module_version": "1.5.0",
       "_model_name": "ProgressStyleModel",
       "_view_count": null,
       "_view_module": "@jupyter-widgets/base",
       "_view_module_version": "1.2.0",
       "_view_name": "StyleView",
       "bar_color": null,
       "description_width": ""
      }
     },
     "88c5dc97780e4637b99db3ce92bdab19": {
      "model_module": "@jupyter-widgets/base",
      "model_module_version": "1.2.0",
      "model_name": "LayoutModel",
      "state": {
       "_model_module": "@jupyter-widgets/base",
       "_model_module_version": "1.2.0",
       "_model_name": "LayoutModel",
       "_view_count": null,
       "_view_module": "@jupyter-widgets/base",
       "_view_module_version": "1.2.0",
       "_view_name": "LayoutView",
       "align_content": null,
       "align_items": null,
       "align_self": null,
       "border": null,
       "bottom": null,
       "display": null,
       "flex": null,
       "flex_flow": null,
       "grid_area": null,
       "grid_auto_columns": null,
       "grid_auto_flow": null,
       "grid_auto_rows": null,
       "grid_column": null,
       "grid_gap": null,
       "grid_row": null,
       "grid_template_areas": null,
       "grid_template_columns": null,
       "grid_template_rows": null,
       "height": null,
       "justify_content": null,
       "justify_items": null,
       "left": null,
       "margin": null,
       "max_height": null,
       "max_width": null,
       "min_height": null,
       "min_width": null,
       "object_fit": null,
       "object_position": null,
       "order": null,
       "overflow": null,
       "overflow_x": null,
       "overflow_y": null,
       "padding": null,
       "right": null,
       "top": null,
       "visibility": null,
       "width": null
      }
     },
     "8c4254ce2e1c48ab9b038f69ed6fc701": {
      "model_module": "@jupyter-widgets/controls",
      "model_module_version": "1.5.0",
      "model_name": "TabModel",
      "state": {
       "_dom_classes": [],
       "_model_module": "@jupyter-widgets/controls",
       "_model_module_version": "1.5.0",
       "_model_name": "TabModel",
       "_titles": {
        "0": "ipykernel",
        "1": "ipyparallel",
        "2": "ipython",
        "3": "traitlets"
       },
       "_view_count": null,
       "_view_module": "@jupyter-widgets/controls",
       "_view_module_version": "1.5.0",
       "_view_name": "TabView",
       "box_style": "",
       "children": [
        "IPY_MODEL_83ade869bb274cc0bb5f4cca6e0f355d",
        "IPY_MODEL_6de8fa78e14d4d1ca08056e093e36b35",
        "IPY_MODEL_1c159dec2393471a989683bf2a56746a",
        "IPY_MODEL_7064b1bf8b004ccd8847c7d85fe1ee8d"
       ],
       "layout": "IPY_MODEL_41844af245c94e8f81f8124ab606feba",
       "selected_index": 0
      }
     },
     "918d7380b43c4d19802e1cd66e135a07": {
      "model_module": "@jupyter-widgets/controls",
      "model_module_version": "1.5.0",
      "model_name": "HTMLModel",
      "state": {
       "_dom_classes": [],
       "_model_module": "@jupyter-widgets/controls",
       "_model_module_version": "1.5.0",
       "_model_name": "HTMLModel",
       "_view_count": null,
       "_view_module": "@jupyter-widgets/controls",
       "_view_module_version": "1.5.0",
       "_view_name": "HTMLView",
       "description": "",
       "description_tooltip": null,
       "layout": "IPY_MODEL_039fc1c792bc4a6fb1c7349df2a9c558",
       "placeholder": "​",
       "style": "IPY_MODEL_a6d4ed933e8043e9a98ac305c359d2e8",
       "value": "<h4>Closed PRs for repo: <a href=\"https://github.com/ipython/ipython\">ipython/ipython</a></h4>\n<h5></h5>\n<ul>\n<li><a href=\"https://github.com/ipython/ipython/pull/12417\">(#12417)</a>: <em>Test Python 3.6</em> by <strong><a href=\"https://github.com/SylvainCorlay\">@SylvainCorlay</a></strong> merged by <strong><a href=\"https://github.com/Carreau\">@Carreau</a></strong></li>\n<li><a href=\"https://github.com/ipython/ipython/pull/12413\">(#12413)</a>: <em>catch unrecoverable error</em> by <strong><a href=\"https://github.com/Carreau\">@Carreau</a></strong> merged by <strong><a href=\"https://github.com/Carreau\">@Carreau</a></strong></li>\n<li><a href=\"https://github.com/ipython/ipython/pull/12410\">(#12410)</a>: <em>NEP 29 stop support for 3.6</em> by <strong><a href=\"https://github.com/Carreau\">@Carreau</a></strong> merged by <strong><a href=\"https://github.com/Carreau\">@Carreau</a></strong></li>\n<li><a href=\"https://github.com/ipython/ipython/pull/12407\">(#12407)</a>: <em>Allow passing extra options to TerminalPdb.pt_init</em> by <strong><a href=\"https://github.com/kmaork\">@kmaork</a></strong> merged by <strong><a href=\"https://github.com/Carreau\">@Carreau</a></strong></li>\n<li><a href=\"https://github.com/ipython/ipython/pull/12406\">(#12406)</a>: <em>fix conda build/ tar permissions.</em> by <strong><a href=\"https://github.com/Carreau\">@Carreau</a></strong> merged by <strong><a href=\"https://github.com/Carreau\">@Carreau</a></strong></li>\n<li><a href=\"https://github.com/ipython/ipython/pull/12404\">(#12404)</a>: <em>Update what's new for 7.16</em> by <strong><a href=\"https://github.com/Carreau\">@Carreau</a></strong> merged by <strong><a href=\"https://github.com/Carreau\">@Carreau</a></strong></li>\n<li><a href=\"https://github.com/ipython/ipython/pull/12402\">(#12402)</a>: <em>update what's new</em> by <strong><a href=\"https://github.com/Carreau\">@Carreau</a></strong> merged by <strong><a href=\"https://github.com/Carreau\">@Carreau</a></strong></li>\n<li><a href=\"https://github.com/ipython/ipython/pull/12395\">(#12395)</a>: <em>[Feature] tuple completion</em> by <strong><a href=\"https://github.com/cphyc\">@cphyc</a></strong> merged by <strong><a href=\"https://github.com/Carreau\">@Carreau</a></strong></li>\n<li><a href=\"https://github.com/ipython/ipython/pull/12394\">(#12394)</a>: <em>Show make sure to flush hidden exception to screen.</em> by <strong><a href=\"https://github.com/Carreau\">@Carreau</a></strong> merged by <strong><a href=\"https://github.com/Carreau\">@Carreau</a></strong></li>\n<li><a href=\"https://github.com/ipython/ipython/pull/12393\">(#12393)</a>: <em>Manual backport of pr 12359 on 7.x</em> by <strong><a href=\"https://github.com/Carreau\">@Carreau</a></strong> merged by <strong><a href=\"https://github.com/Carreau\">@Carreau</a></strong></li>\n<li><a href=\"https://github.com/ipython/ipython/pull/12392\">(#12392)</a>: <em>[interactiveshell] add type annotation to run cell</em> by <strong><a href=\"https://github.com/bgerrity\">@bgerrity</a></strong> merged by <strong><a href=\"https://github.com/Carreau\">@Carreau</a></strong></li>\n<li><a href=\"https://github.com/ipython/ipython/pull/12389\">(#12389)</a>: <em>Minor: typos, grammar</em> by <strong><a href=\"https://github.com/ftobia\">@ftobia</a></strong> merged by <strong><a href=\"https://github.com/Carreau\">@Carreau</a></strong></li>\n<li><a href=\"https://github.com/ipython/ipython/pull/12384\">(#12384)</a>: <em>Fix glut-related error messages</em> by <strong><a href=\"https://github.com/cool-RR\">@cool-RR</a></strong> merged by <strong><a href=\"https://github.com/Carreau\">@Carreau</a></strong></li>\n<li><a href=\"https://github.com/ipython/ipython/pull/12383\">(#12383)</a>: <em>Fix exception causes all over the codebase</em> by <strong><a href=\"https://github.com/cool-RR\">@cool-RR</a></strong> merged by <strong><a href=\"https://github.com/Carreau\">@Carreau</a></strong></li>\n<li><a href=\"https://github.com/ipython/ipython/pull/12381\">(#12381)</a>: <em>Fix exception causes in 7 modules</em> by <strong><a href=\"https://github.com/cool-RR\">@cool-RR</a></strong> merged by <strong><a href=\"https://github.com/Carreau\">@Carreau</a></strong></li>\n<li><a href=\"https://github.com/ipython/ipython/pull/12380\">(#12380)</a>: <em>Update intro.rst</em> by <strong><a href=\"https://github.com/imba-tjd\">@imba-tjd</a></strong> merged by <strong><a href=\"https://github.com/Carreau\">@Carreau</a></strong></li>\n<li><a href=\"https://github.com/ipython/ipython/pull/12377\">(#12377)</a>: <em>Fix exception causes in debugger.py</em> by <strong><a href=\"https://github.com/cool-RR\">@cool-RR</a></strong> merged by <strong><a href=\"https://github.com/Carreau\">@Carreau</a></strong></li>\n<li><a href=\"https://github.com/ipython/ipython/pull/12375\">(#12375)</a>: <em>BF: wx inputhook</em> by <strong><a href=\"https://github.com/pauldmccarthy\">@pauldmccarthy</a></strong> merged by <strong><a href=\"https://github.com/Carreau\">@Carreau</a></strong></li>\n<li><a href=\"https://github.com/ipython/ipython/pull/12371\">(#12371)</a>: <em>test traitlets master</em> by <strong><a href=\"https://github.com/Carreau\">@Carreau</a></strong> merged by <strong><a href=\"https://github.com/Carreau\">@Carreau</a></strong></li>\n<li><a href=\"https://github.com/ipython/ipython/pull/12370\">(#12370)</a>: <em>Add comments to explain the lambda:</em> by <strong><a href=\"https://github.com/Carreau\">@Carreau</a></strong> merged by <strong><a href=\"https://github.com/Carreau\">@Carreau</a></strong></li>\n<li><a href=\"https://github.com/ipython/ipython/pull/12367\">(#12367)</a>: <em>PR: Add handling for malformed pathext env var (Windows)</em> by <strong><a href=\"https://github.com/dalthviz\">@dalthviz</a></strong> merged by <strong><a href=\"https://github.com/Carreau\">@Carreau</a></strong></li>\n<li><a href=\"https://github.com/ipython/ipython/pull/12362\">(#12362)</a>: <em>Migrate some tests to pytest only, and start removing yield-tests.</em> by <strong><a href=\"https://github.com/Carreau\">@Carreau</a></strong> merged by <strong><a href=\"https://github.com/Carreau\">@Carreau</a></strong></li>\n<li><a href=\"https://github.com/ipython/ipython/pull/12360\">(#12360)</a>: <em>use $SHELL in system_piped</em> by <strong><a href=\"https://github.com/minrk\">@minrk</a></strong> merged by <strong><a href=\"https://github.com/Carreau\">@Carreau</a></strong></li>\n<li><a href=\"https://github.com/ipython/ipython/pull/12359\">(#12359)</a>: _Implement understanding on __tracebackhide___ by <strong><a href=\"https://github.com/Carreau\">@Carreau</a></strong> merged by <strong><a href=\"https://github.com/Carreau\">@Carreau</a></strong></li>\n<li><a href=\"https://github.com/ipython/ipython/pull/12358\">(#12358)</a>: <em>Fix retaring process for twine.</em> by <strong><a href=\"https://github.com/Carreau\">@Carreau</a></strong> merged by <strong><a href=\"https://github.com/Carreau\">@Carreau</a></strong></li>\n<li><a href=\"https://github.com/ipython/ipython/pull/12356\">(#12356)</a>: <em>Backport PR #12301: Exceptions raised when executing notebooks via the e %run magic command</em> by <strong><a href=\"https://github.com/Carreau\">@Carreau</a></strong> merged by <strong><a href=\"https://github.com/Carreau\">@Carreau</a></strong></li>\n<li><a href=\"https://github.com/ipython/ipython/pull/12355\">(#12355)</a>: <em>Fix GUI inputhook for qt 5.15.0</em> by <strong><a href=\"https://github.com/tlambert03\">@tlambert03</a></strong> merged by <strong><a href=\"https://github.com/Carreau\">@Carreau</a></strong></li>\n<li><a href=\"https://github.com/ipython/ipython/pull/12354\">(#12354)</a>: <em>Docstats</em> by <strong><a href=\"https://github.com/Carreau\">@Carreau</a></strong> merged by <strong><a href=\"https://github.com/Carreau\">@Carreau</a></strong></li>\n<li><a href=\"https://github.com/ipython/ipython/pull/12352\">(#12352)</a>: <em>Update with forgotten 7.14 release notes.</em> by <strong><a href=\"https://github.com/Carreau\">@Carreau</a></strong> merged by <strong><a href=\"https://github.com/Carreau\">@Carreau</a></strong></li>\n<li><a href=\"https://github.com/ipython/ipython/pull/12347\">(#12347)</a>: <em>What's new in 7.15+ Reproducible build working</em> by <strong><a href=\"https://github.com/Carreau\">@Carreau</a></strong> merged by <strong><a href=\"https://github.com/Carreau\">@Carreau</a></strong></li>\n<li><a href=\"https://github.com/ipython/ipython/pull/12343\">(#12343)</a>: <em>rename deprected magic method -&gt; run_line_magic</em> by <strong><a href=\"https://github.com/btel\">@btel</a></strong> merged by <strong><a href=\"https://github.com/Carreau\">@Carreau</a></strong></li>\n<li><a href=\"https://github.com/ipython/ipython/pull/12342\">(#12342)</a>: <em>Fixed bug on windows where relative image path has wrong slashes</em> by <strong><a href=\"https://github.com/blakejgriffin\">@blakejgriffin</a></strong> merged by <strong><a href=\"https://github.com/Carreau\">@Carreau</a></strong></li>\n<li><a href=\"https://github.com/ipython/ipython/pull/12340\">(#12340)</a>: <em>docs typoes</em> by <strong><a href=\"https://github.com/Carreau\">@Carreau</a></strong> merged by <strong><a href=\"https://github.com/Carreau\">@Carreau</a></strong></li>\n<li><a href=\"https://github.com/ipython/ipython/pull/12339\">(#12339)</a>: <em>Add instruction to list the API changes.</em> by <strong><a href=\"https://github.com/Carreau\">@Carreau</a></strong> merged by <strong><a href=\"https://github.com/Carreau\">@Carreau</a></strong></li>\n<li><a href=\"https://github.com/ipython/ipython/pull/12336\">(#12336)</a>: <em>Fix auto formatting to be called only once.</em> by <strong><a href=\"https://github.com/Carreau\">@Carreau</a></strong> merged by <strong><a href=\"https://github.com/Carreau\">@Carreau</a></strong></li>\n<li><a href=\"https://github.com/ipython/ipython/pull/12335\">(#12335)</a>: <em>Better documentation for <code>space_for_menu</code>.</em> by <strong><a href=\"https://github.com/Carreau\">@Carreau</a></strong> merged by <strong><a href=\"https://github.com/Carreau\">@Carreau</a></strong></li>\n<li><a href=\"https://github.com/ipython/ipython/pull/12332\">(#12332)</a>: <em>DOC: Fix --matplotlib class name</em> by <strong><a href=\"https://github.com/godlygeek\">@godlygeek</a></strong> merged by <strong><a href=\"https://github.com/Carreau\">@Carreau</a></strong></li>\n<li><a href=\"https://github.com/ipython/ipython/pull/12330\">(#12330)</a>: <em>try to fix build on readthedocs</em> by <strong><a href=\"https://github.com/Carreau\">@Carreau</a></strong> merged by <strong><a href=\"https://github.com/Carreau\">@Carreau</a></strong></li>\n<li><a href=\"https://github.com/ipython/ipython/pull/12328\">(#12328)</a>: <em>document ipython and ipykernel global configuration</em> by <strong><a href=\"https://github.com/Carreau\">@Carreau</a></strong> merged by <strong><a href=\"https://github.com/Carreau\">@Carreau</a></strong></li>\n<li><a href=\"https://github.com/ipython/ipython/pull/12321\">(#12321)</a>: <em>Fix broken link in docs</em> by <strong><a href=\"https://github.com/marciomazza\">@marciomazza</a></strong> merged by <strong><a href=\"https://github.com/Carreau\">@Carreau</a></strong></li>\n<li><a href=\"https://github.com/ipython/ipython/pull/12319\">(#12319)</a>: <em>Remove deprecated and ignored travis.ci keys</em> by <strong><a href=\"https://github.com/Carreau\">@Carreau</a></strong> merged by <strong><a href=\"https://github.com/Carreau\">@Carreau</a></strong></li>\n<li><a href=\"https://github.com/ipython/ipython/pull/12317\">(#12317)</a>: <em>Update unicode ranges to fix test on nightly.</em> by <strong><a href=\"https://github.com/Carreau\">@Carreau</a></strong> merged by <strong><a href=\"https://github.com/Carreau\">@Carreau</a></strong></li>\n<li><a href=\"https://github.com/ipython/ipython/pull/12314\">(#12314)</a>: <em>Enable high DPI scaling in qt.py</em> by <strong><a href=\"https://github.com/tlambert03\">@tlambert03</a></strong> merged by <strong><a href=\"https://github.com/Carreau\">@Carreau</a></strong></li>\n<li><a href=\"https://github.com/ipython/ipython/pull/12311\">(#12311)</a>: <em>Remove dead code.</em> by <strong><a href=\"https://github.com/Carreau\">@Carreau</a></strong> merged by <strong><a href=\"https://github.com/Carreau\">@Carreau</a></strong></li>\n<li><a href=\"https://github.com/ipython/ipython/pull/12310\">(#12310)</a>: <em>Some more optional typing to make mypy happy</em> by <strong><a href=\"https://github.com/Carreau\">@Carreau</a></strong> merged by <strong><a href=\"https://github.com/Carreau\">@Carreau</a></strong></li>\n<li><a href=\"https://github.com/ipython/ipython/pull/12307\">(#12307)</a>: <em>Fix some test on python 3.9 (nightly).</em> by <strong><a href=\"https://github.com/Carreau\">@Carreau</a></strong> merged by <strong><a href=\"https://github.com/Carreau\">@Carreau</a></strong></li>\n<li><a href=\"https://github.com/ipython/ipython/pull/12305\">(#12305)</a>: <em>Fix ipython#11508: check if line_buffer is None</em> by <strong><a href=\"https://github.com/TheHubbit\">@TheHubbit</a></strong> merged by <strong><a href=\"https://github.com/Carreau\">@Carreau</a></strong></li>\n<li><a href=\"https://github.com/ipython/ipython/pull/12303\">(#12303)</a>: <em>Fix nightly parso error</em> by <strong><a href=\"https://github.com/Carreau\">@Carreau</a></strong> merged by <strong><a href=\"https://github.com/Carreau\">@Carreau</a></strong></li>\n<li><a href=\"https://github.com/ipython/ipython/pull/12301\">(#12301)</a>: <em>Exceptions raised when executing notebooks via the %run magic command</em> by <strong><a href=\"https://github.com/palewire\">@palewire</a></strong> merged by <strong><a href=\"https://github.com/Carreau\">@Carreau</a></strong></li>\n<li><a href=\"https://github.com/ipython/ipython/pull/12299\">(#12299)</a>: <em>PERF: Make unicode completions lazier.</em> by <strong><a href=\"https://github.com/ssanderson\">@ssanderson</a></strong> merged by <strong><a href=\"https://github.com/Carreau\">@Carreau</a></strong></li>\n<li><a href=\"https://github.com/ipython/ipython/pull/12298\">(#12298)</a>: <em>ENH: Add configuration for profiling completions.</em> by <strong><a href=\"https://github.com/ssanderson\">@ssanderson</a></strong> merged by <strong><a href=\"https://github.com/Carreau\">@Carreau</a></strong></li>\n<li><a href=\"https://github.com/ipython/ipython/pull/12296\">(#12296)</a>: <em>Delete 109-112 for removing external test</em> by <strong><a href=\"https://github.com/Inception95\">@Inception95</a></strong> merged by <strong><a href=\"https://github.com/Carreau\">@Carreau</a></strong></li>\n<li><a href=\"https://github.com/ipython/ipython/pull/12284\">(#12284)</a>: <em>Try to elide long completion  based on user input.</em> by <strong><a href=\"https://github.com/Carreau\">@Carreau</a></strong> merged by <strong><a href=\"https://github.com/Carreau\">@Carreau</a></strong></li>\n<li><a href=\"https://github.com/ipython/ipython/pull/12282\">(#12282)</a>: <em>Completer typing</em> by <strong><a href=\"https://github.com/Carreau\">@Carreau</a></strong> merged by <strong><a href=\"https://github.com/Carreau\">@Carreau</a></strong></li>\n</ul>"
      }
     },
     "9921e27eb01442959f0f5b9ad6054ef6": {
      "model_module": "@jupyter-widgets/base",
      "model_module_version": "1.2.0",
      "model_name": "LayoutModel",
      "state": {
       "_model_module": "@jupyter-widgets/base",
       "_model_module_version": "1.2.0",
       "_model_name": "LayoutModel",
       "_view_count": null,
       "_view_module": "@jupyter-widgets/base",
       "_view_module_version": "1.2.0",
       "_view_name": "LayoutView",
       "align_content": null,
       "align_items": null,
       "align_self": null,
       "border": null,
       "bottom": null,
       "display": null,
       "flex": null,
       "flex_flow": null,
       "grid_area": null,
       "grid_auto_columns": null,
       "grid_auto_flow": null,
       "grid_auto_rows": null,
       "grid_column": null,
       "grid_gap": null,
       "grid_row": null,
       "grid_template_areas": null,
       "grid_template_columns": null,
       "grid_template_rows": null,
       "height": null,
       "justify_content": null,
       "justify_items": null,
       "left": null,
       "margin": null,
       "max_height": null,
       "max_width": null,
       "min_height": null,
       "min_width": null,
       "object_fit": null,
       "object_position": null,
       "order": null,
       "overflow": null,
       "overflow_x": null,
       "overflow_y": null,
       "padding": null,
       "right": null,
       "top": null,
       "visibility": null,
       "width": null
      }
     },
     "a0976c9121c343e1bcae98f528c4baf6": {
      "model_module": "@jupyter-widgets/controls",
      "model_module_version": "1.5.0",
      "model_name": "ProgressStyleModel",
      "state": {
       "_model_module": "@jupyter-widgets/controls",
       "_model_module_version": "1.5.0",
       "_model_name": "ProgressStyleModel",
       "_view_count": null,
       "_view_module": "@jupyter-widgets/base",
       "_view_module_version": "1.2.0",
       "_view_name": "StyleView",
       "bar_color": null,
       "description_width": ""
      }
     },
     "a1d1898e2ee64cfe883d12a79ca846aa": {
      "model_module": "@jupyter-widgets/base",
      "model_module_version": "1.2.0",
      "model_name": "LayoutModel",
      "state": {
       "_model_module": "@jupyter-widgets/base",
       "_model_module_version": "1.2.0",
       "_model_name": "LayoutModel",
       "_view_count": null,
       "_view_module": "@jupyter-widgets/base",
       "_view_module_version": "1.2.0",
       "_view_name": "LayoutView",
       "align_content": null,
       "align_items": null,
       "align_self": null,
       "border": null,
       "bottom": null,
       "display": null,
       "flex": null,
       "flex_flow": null,
       "grid_area": null,
       "grid_auto_columns": null,
       "grid_auto_flow": null,
       "grid_auto_rows": null,
       "grid_column": null,
       "grid_gap": null,
       "grid_row": null,
       "grid_template_areas": null,
       "grid_template_columns": null,
       "grid_template_rows": null,
       "height": null,
       "justify_content": null,
       "justify_items": null,
       "left": null,
       "margin": null,
       "max_height": null,
       "max_width": null,
       "min_height": null,
       "min_width": null,
       "object_fit": null,
       "object_position": null,
       "order": null,
       "overflow": null,
       "overflow_x": null,
       "overflow_y": null,
       "padding": null,
       "right": null,
       "top": null,
       "visibility": null,
       "width": null
      }
     },
     "a3640b0cf3fd4779a77972afb13c6d27": {
      "model_module": "@jupyter-widgets/controls",
      "model_module_version": "1.5.0",
      "model_name": "HTMLModel",
      "state": {
       "_dom_classes": [],
       "_model_module": "@jupyter-widgets/controls",
       "_model_module_version": "1.5.0",
       "_model_name": "HTMLModel",
       "_view_count": null,
       "_view_module": "@jupyter-widgets/controls",
       "_view_module_version": "1.5.0",
       "_view_name": "HTMLView",
       "description": "",
       "description_tooltip": null,
       "layout": "IPY_MODEL_0ef8e59b9911471cb919fe3c77e90d9e",
       "placeholder": "​",
       "style": "IPY_MODEL_ddb5a44566f644db8ccce2f6a26bf1fc",
       "value": "<h4>Closed PRs for repo: <a href=\"https://github.com/ipython/traitlets\">ipython/traitlets</a></h4>\n<h5></h5>\n<ul>\n<li><a href=\"https://github.com/ipython/traitlets/pull/578\">(#578)</a>: <em>add stats file</em> by <strong><a href=\"https://github.com/Carreau\">@Carreau</a></strong> merged by <strong><a href=\"https://github.com/Carreau\">@Carreau</a></strong></li>\n<li><a href=\"https://github.com/ipython/traitlets/pull/577\">(#577)</a>: <em>More  Python 2 compat cleanup.</em> by <strong><a href=\"https://github.com/Carreau\">@Carreau</a></strong> merged by <strong><a href=\"https://github.com/Carreau\">@Carreau</a></strong></li>\n<li><a href=\"https://github.com/ipython/traitlets/pull/576\">(#576)</a>: <em>more removal of Python 2 specificity</em> by <strong><a href=\"https://github.com/Carreau\">@Carreau</a></strong> merged by <strong><a href=\"https://github.com/Carreau\">@Carreau</a></strong></li>\n<li><a href=\"https://github.com/ipython/traitlets/pull/575\">(#575)</a>: <em>finish first pass on whats new</em> by <strong><a href=\"https://github.com/Carreau\">@Carreau</a></strong> merged by <strong><a href=\"https://github.com/Carreau\">@Carreau</a></strong></li>\n<li><a href=\"https://github.com/ipython/traitlets/pull/574\">(#574)</a>: <em>more version_info removal</em> by <strong><a href=\"https://github.com/Carreau\">@Carreau</a></strong> merged by <strong><a href=\"https://github.com/Carreau\">@Carreau</a></strong></li>\n<li><a href=\"https://github.com/ipython/traitlets/pull/573\">(#573)</a>: <em>Some removal of Python 2 compatibility (in particular six)</em> by <strong><a href=\"https://github.com/Carreau\">@Carreau</a></strong> merged by <strong><a href=\"https://github.com/Carreau\">@Carreau</a></strong></li>\n<li><a href=\"https://github.com/ipython/traitlets/pull/572\">(#572)</a>: <em>review a few more PRs.</em> by <strong><a href=\"https://github.com/Carreau\">@Carreau</a></strong> merged by <strong><a href=\"https://github.com/Carreau\">@Carreau</a></strong></li>\n<li><a href=\"https://github.com/ipython/traitlets/pull/571\">(#571)</a>: <em>remove PY2 compat + isort + pyupgrade + darker</em> by <strong><a href=\"https://github.com/Carreau\">@Carreau</a></strong> merged by <strong><a href=\"https://github.com/Carreau\">@Carreau</a></strong></li>\n<li><a href=\"https://github.com/ipython/traitlets/pull/570\">(#570)</a>: <em>review more PRs changelog and reorder</em> by <strong><a href=\"https://github.com/Carreau\">@Carreau</a></strong> merged by <strong><a href=\"https://github.com/Carreau\">@Carreau</a></strong></li>\n<li><a href=\"https://github.com/ipython/traitlets/pull/569\">(#569)</a>: <em>Follow nep 29, remove support for Python &lt; 3.7</em> by <strong><a href=\"https://github.com/Carreau\">@Carreau</a></strong> merged by <strong><a href=\"https://github.com/Carreau\">@Carreau</a></strong></li>\n<li><a href=\"https://github.com/ipython/traitlets/pull/568\">(#568)</a>: <em>Review and document a couple more 5.0 PRs.</em> by <strong><a href=\"https://github.com/Carreau\">@Carreau</a></strong> merged by <strong><a href=\"https://github.com/Carreau\">@Carreau</a></strong></li>\n<li><a href=\"https://github.com/ipython/traitlets/pull/567\">(#567)</a>: <em>fixup changelog</em> by <strong><a href=\"https://github.com/Carreau\">@Carreau</a></strong> merged by <strong><a href=\"https://github.com/Carreau\">@Carreau</a></strong></li>\n<li><a href=\"https://github.com/ipython/traitlets/pull/566\">(#566)</a>: <em>Changelog part 1</em> by <strong><a href=\"https://github.com/Carreau\">@Carreau</a></strong> merged by <strong><a href=\"https://github.com/Carreau\">@Carreau</a></strong></li>\n<li><a href=\"https://github.com/ipython/traitlets/pull/565\">(#565)</a>: <em>Fix doc formatting.</em> by <strong><a href=\"https://github.com/Carreau\">@Carreau</a></strong> merged by <strong><a href=\"https://github.com/Carreau\">@Carreau</a></strong></li>\n<li><a href=\"https://github.com/ipython/traitlets/pull/563\">(#563)</a>: <em>Stop testing traittypes which fails.</em> by <strong><a href=\"https://github.com/Carreau\">@Carreau</a></strong> merged by <strong><a href=\"https://github.com/Carreau\">@Carreau</a></strong></li>\n<li><a href=\"https://github.com/ipython/traitlets/pull/562\">(#562)</a>: <em>Travis CI: Fix Travis build configuration validation issues</em> by <strong><a href=\"https://github.com/cclauss\">@cclauss</a></strong> merged by <strong><a href=\"https://github.com/Carreau\">@Carreau</a></strong></li>\n<li><a href=\"https://github.com/ipython/traitlets/pull/561\">(#561)</a>: <em>Travis CI: Run tests on Python 3.8, not 3.7</em> by <strong><a href=\"https://github.com/cclauss\">@cclauss</a></strong> merged by <strong><a href=\"https://github.com/Carreau\">@Carreau</a></strong></li>\n<li><a href=\"https://github.com/ipython/traitlets/pull/559\">(#559)</a>: <em>Start testing on current Python versions.</em> by <strong><a href=\"https://github.com/Carreau\">@Carreau</a></strong> merged by <strong><a href=\"https://github.com/Carreau\">@Carreau</a></strong></li>\n<li><a href=\"https://github.com/ipython/traitlets/pull/558\">(#558)</a>: <em>Allow compounding of Lazy traitlets across configuration files.</em> by <strong><a href=\"https://github.com/Carreau\">@Carreau</a></strong> merged by <strong><a href=\"https://github.com/minrk\">@minrk</a></strong></li>\n<li><a href=\"https://github.com/ipython/traitlets/pull/556\">(#556)</a>: <em>add callable test for master</em> by <strong><a href=\"https://github.com/timkpaine\">@timkpaine</a></strong> merged by <strong><a href=\"https://github.com/rmorshea\">@rmorshea</a></strong></li>\n<li><a href=\"https://github.com/ipython/traitlets/pull/555\">(#555)</a>: <em>cherrypick #333 and #523 onto 4.3.x</em> by <strong><a href=\"https://github.com/timkpaine\">@timkpaine</a></strong> merged by <strong><a href=\"https://github.com/rmorshea\">@rmorshea</a></strong></li>\n<li><a href=\"https://github.com/ipython/traitlets/pull/547\">(#547)</a>: <em>Unpin Python 3.5 for docs</em> by <strong><a href=\"https://github.com/takluyver\">@takluyver</a></strong> merged by <strong><a href=\"https://github.com/Carreau\">@Carreau</a></strong></li>\n<li><a href=\"https://github.com/ipython/traitlets/pull/546\">(#546)</a>: <em>Export Bunch</em> by <strong><a href=\"https://github.com/jasongrout\">@jasongrout</a></strong> merged by <strong><a href=\"https://github.com/Carreau\">@Carreau</a></strong></li>\n<li><a href=\"https://github.com/ipython/traitlets/pull/545\">(#545)</a>: <em>Fix typo</em> by <strong><a href=\"https://github.com/davidbrochart\">@davidbrochart</a></strong> merged by <strong><a href=\"https://github.com/Carreau\">@Carreau</a></strong></li>\n<li><a href=\"https://github.com/ipython/traitlets/pull/543\">(#543)</a>: <em>Travis CI: Test the current versions of Python</em> by <strong><a href=\"https://github.com/cclauss\">@cclauss</a></strong> merged by <strong><a href=\"https://github.com/Carreau\">@Carreau</a></strong></li>\n<li><a href=\"https://github.com/ipython/traitlets/pull/531\">(#531)</a>: <em>Update myapp.py</em> by <strong><a href=\"https://github.com/connerxyz\">@connerxyz</a></strong> merged by <strong><a href=\"https://github.com/Carreau\">@Carreau</a></strong></li>\n</ul>"
      }
     },
     "a64ea07b02a64016ac7c61385aefe049": {
      "model_module": "@jupyter-widgets/controls",
      "model_module_version": "1.5.0",
      "model_name": "HTMLModel",
      "state": {
       "_dom_classes": [],
       "_model_module": "@jupyter-widgets/controls",
       "_model_module_version": "1.5.0",
       "_model_name": "HTMLModel",
       "_view_count": null,
       "_view_module": "@jupyter-widgets/controls",
       "_view_module_version": "1.5.0",
       "_view_name": "HTMLView",
       "description": "",
       "description_tooltip": null,
       "layout": "IPY_MODEL_35a5114d817b4c74b5598314b6d7881f",
       "placeholder": "​",
       "style": "IPY_MODEL_7fb65be8c5924f95abf981438c2627f9",
       "value": "<h5><a href=\"https://github.com/ipython/ipyparallel\">ipython/ipyparallel</a></h5>\n<ul>\n<li><a href=\"https://github.com/ipython/ipyparallel/issues/414\">(#414)</a>: <em>become_dask tries to connect to the wrong IP</em> by <strong><a href=\"https://github.com/sk1p\">@sk1p</a></strong></li>\n<li><a href=\"https://github.com/ipython/ipyparallel/issues/416\">(#416)</a>: <em>Importing remote function decorators results in ModuleNotFoundError</em> by <strong><a href=\"https://github.com/Shellcat-Zero\">@Shellcat-Zero</a></strong></li>\n</ul>"
      }
     },
     "a6d4ed933e8043e9a98ac305c359d2e8": {
      "model_module": "@jupyter-widgets/controls",
      "model_module_version": "1.5.0",
      "model_name": "DescriptionStyleModel",
      "state": {
       "_model_module": "@jupyter-widgets/controls",
       "_model_module_version": "1.5.0",
       "_model_name": "DescriptionStyleModel",
       "_view_count": null,
       "_view_module": "@jupyter-widgets/base",
       "_view_module_version": "1.2.0",
       "_view_name": "StyleView",
       "description_width": ""
      }
     },
     "b319c410ceb44f4d916a79a3cd53bc1f": {
      "model_module": "@jupyter-widgets/base",
      "model_module_version": "1.2.0",
      "model_name": "LayoutModel",
      "state": {
       "_model_module": "@jupyter-widgets/base",
       "_model_module_version": "1.2.0",
       "_model_name": "LayoutModel",
       "_view_count": null,
       "_view_module": "@jupyter-widgets/base",
       "_view_module_version": "1.2.0",
       "_view_name": "LayoutView",
       "align_content": null,
       "align_items": null,
       "align_self": null,
       "border": null,
       "bottom": null,
       "display": null,
       "flex": null,
       "flex_flow": null,
       "grid_area": null,
       "grid_auto_columns": null,
       "grid_auto_flow": null,
       "grid_auto_rows": null,
       "grid_column": null,
       "grid_gap": null,
       "grid_row": null,
       "grid_template_areas": null,
       "grid_template_columns": null,
       "grid_template_rows": null,
       "height": null,
       "justify_content": null,
       "justify_items": null,
       "left": null,
       "margin": null,
       "max_height": null,
       "max_width": null,
       "min_height": null,
       "min_width": null,
       "object_fit": null,
       "object_position": null,
       "order": null,
       "overflow": null,
       "overflow_x": null,
       "overflow_y": null,
       "padding": null,
       "right": null,
       "top": null,
       "visibility": null,
       "width": null
      }
     },
     "b60d23b8954e46c282617d0e5eff89de": {
      "model_module": "@jupyter-widgets/base",
      "model_module_version": "1.2.0",
      "model_name": "LayoutModel",
      "state": {
       "_model_module": "@jupyter-widgets/base",
       "_model_module_version": "1.2.0",
       "_model_name": "LayoutModel",
       "_view_count": null,
       "_view_module": "@jupyter-widgets/base",
       "_view_module_version": "1.2.0",
       "_view_name": "LayoutView",
       "align_content": null,
       "align_items": null,
       "align_self": null,
       "border": null,
       "bottom": null,
       "display": null,
       "flex": null,
       "flex_flow": null,
       "grid_area": null,
       "grid_auto_columns": null,
       "grid_auto_flow": null,
       "grid_auto_rows": null,
       "grid_column": null,
       "grid_gap": null,
       "grid_row": null,
       "grid_template_areas": null,
       "grid_template_columns": null,
       "grid_template_rows": null,
       "height": null,
       "justify_content": null,
       "justify_items": null,
       "left": null,
       "margin": null,
       "max_height": null,
       "max_width": null,
       "min_height": null,
       "min_width": null,
       "object_fit": null,
       "object_position": null,
       "order": null,
       "overflow": null,
       "overflow_x": null,
       "overflow_y": null,
       "padding": null,
       "right": null,
       "top": null,
       "visibility": null,
       "width": null
      }
     },
     "bad6a739c67c4e9cafcef36eb5f93bd2": {
      "model_module": "@jupyter-widgets/base",
      "model_module_version": "1.2.0",
      "model_name": "LayoutModel",
      "state": {
       "_model_module": "@jupyter-widgets/base",
       "_model_module_version": "1.2.0",
       "_model_name": "LayoutModel",
       "_view_count": null,
       "_view_module": "@jupyter-widgets/base",
       "_view_module_version": "1.2.0",
       "_view_name": "LayoutView",
       "align_content": null,
       "align_items": null,
       "align_self": null,
       "border": null,
       "bottom": null,
       "display": null,
       "flex": null,
       "flex_flow": null,
       "grid_area": null,
       "grid_auto_columns": null,
       "grid_auto_flow": null,
       "grid_auto_rows": null,
       "grid_column": null,
       "grid_gap": null,
       "grid_row": null,
       "grid_template_areas": null,
       "grid_template_columns": null,
       "grid_template_rows": null,
       "height": null,
       "justify_content": null,
       "justify_items": null,
       "left": null,
       "margin": null,
       "max_height": null,
       "max_width": null,
       "min_height": null,
       "min_width": null,
       "object_fit": null,
       "object_position": null,
       "order": null,
       "overflow": null,
       "overflow_x": null,
       "overflow_y": null,
       "padding": null,
       "right": null,
       "top": null,
       "visibility": null,
       "width": null
      }
     },
     "bdcec45087df4297b20abbf8c84163a4": {
      "model_module": "@jupyter-widgets/controls",
      "model_module_version": "1.5.0",
      "model_name": "DescriptionStyleModel",
      "state": {
       "_model_module": "@jupyter-widgets/controls",
       "_model_module_version": "1.5.0",
       "_model_name": "DescriptionStyleModel",
       "_view_count": null,
       "_view_module": "@jupyter-widgets/base",
       "_view_module_version": "1.2.0",
       "_view_name": "StyleView",
       "description_width": ""
      }
     },
     "bead28813ff641e88e64452b419c2a5c": {
      "model_module": "@jupyter-widgets/controls",
      "model_module_version": "1.5.0",
      "model_name": "HTMLModel",
      "state": {
       "_dom_classes": [],
       "_model_module": "@jupyter-widgets/controls",
       "_model_module_version": "1.5.0",
       "_model_name": "HTMLModel",
       "_view_count": null,
       "_view_module": "@jupyter-widgets/controls",
       "_view_module_version": "1.5.0",
       "_view_name": "HTMLView",
       "description": "",
       "description_tooltip": null,
       "layout": "IPY_MODEL_ef279d51fd574d638c4451ef12890b44",
       "placeholder": "​",
       "style": "IPY_MODEL_83bff5e6b3cc4ff9b015069225750e67",
       "value": "<h4>Closed PRs for repo: <a href=\"https://github.com/ipython/ipykernel\">ipython/ipykernel</a></h4>\n<h5></h5>\n<ul>\n<li><a href=\"https://github.com/ipython/ipykernel/pull/521\">(#521)</a>: <em>fix #520: run post_execute and post_run_cell on async cells</em> by <strong><a href=\"https://github.com/JoaoFelipe\">@JoaoFelipe</a></strong> merged by <strong><a href=\"https://github.com/blink1073\">@blink1073</a></strong></li>\n<li><a href=\"https://github.com/ipython/ipykernel/pull/516\">(#516)</a>: <em>Fix exception causes in zmqshell.py</em> by <strong><a href=\"https://github.com/cool-RR\">@cool-RR</a></strong> merged by <strong><a href=\"https://github.com/blink1073\">@blink1073</a></strong></li>\n<li><a href=\"https://github.com/ipython/ipykernel/pull/511\">(#511)</a>: <em>Update changelog for 5.3</em> by <strong><a href=\"https://github.com/blink1073\">@blink1073</a></strong> merged by <strong><a href=\"https://github.com/blink1073\">@blink1073</a></strong></li>\n<li><a href=\"https://github.com/ipython/ipykernel/pull/509\">(#509)</a>: <em>fix ipython display imports</em> by <strong><a href=\"https://github.com/astromancer\">@astromancer</a></strong> merged by <strong><a href=\"https://github.com/blink1073\">@blink1073</a></strong></li>\n<li><a href=\"https://github.com/ipython/ipykernel/pull/507\">(#507)</a>: <em>PR: Skip test_unc_paths if OS is not Windows</em> by <strong><a href=\"https://github.com/dalthviz\">@dalthviz</a></strong> merged by <strong><a href=\"https://github.com/blink1073\">@blink1073</a></strong></li>\n<li><a href=\"https://github.com/ipython/ipykernel/pull/498\">(#498)</a>: <em>Allow interrupting input() on Windows, as part of effort to make pdb interruptible</em> by <strong><a href=\"https://github.com/itamarst\">@itamarst</a></strong> merged by <strong><a href=\"https://github.com/blink1073\">@blink1073</a></strong></li>\n<li><a href=\"https://github.com/ipython/ipykernel/pull/490\">(#490)</a>: <em>Make pdb on Windows interruptible</em> by <strong><a href=\"https://github.com/itamarst\">@itamarst</a></strong> merged by <strong><a href=\"https://github.com/blink1073\">@blink1073</a></strong></li>\n<li><a href=\"https://github.com/ipython/ipykernel/pull/479\">(#479)</a>: <em>Trio loop</em> by <strong><a href=\"https://github.com/mehaase\">@mehaase</a></strong> merged by <strong><a href=\"https://github.com/blink1073\">@blink1073</a></strong></li>\n<li><a href=\"https://github.com/ipython/ipykernel/pull/478\">(#478)</a>: <em>PR: Flush from process even without newline</em> by <strong><a href=\"https://github.com/impact27\">@impact27</a></strong> merged by <strong><a href=\"https://github.com/blink1073\">@blink1073</a></strong></li>\n</ul>"
      }
     },
     "c000d2ad89b740e7b4efb376d42c35af": {
      "model_module": "@jupyter-widgets/base",
      "model_module_version": "1.2.0",
      "model_name": "LayoutModel",
      "state": {
       "_model_module": "@jupyter-widgets/base",
       "_model_module_version": "1.2.0",
       "_model_name": "LayoutModel",
       "_view_count": null,
       "_view_module": "@jupyter-widgets/base",
       "_view_module_version": "1.2.0",
       "_view_name": "LayoutView",
       "align_content": null,
       "align_items": null,
       "align_self": null,
       "border": null,
       "bottom": null,
       "display": null,
       "flex": null,
       "flex_flow": null,
       "grid_area": null,
       "grid_auto_columns": null,
       "grid_auto_flow": null,
       "grid_auto_rows": null,
       "grid_column": null,
       "grid_gap": null,
       "grid_row": null,
       "grid_template_areas": null,
       "grid_template_columns": null,
       "grid_template_rows": null,
       "height": null,
       "justify_content": null,
       "justify_items": null,
       "left": null,
       "margin": null,
       "max_height": null,
       "max_width": null,
       "min_height": null,
       "min_width": null,
       "object_fit": null,
       "object_position": null,
       "order": null,
       "overflow": null,
       "overflow_x": null,
       "overflow_y": null,
       "padding": null,
       "right": null,
       "top": null,
       "visibility": null,
       "width": null
      }
     },
     "cdfd7d52acde419b91167bfbb95dbcb3": {
      "model_module": "@jupyter-widgets/controls",
      "model_module_version": "1.5.0",
      "model_name": "HTMLModel",
      "state": {
       "_dom_classes": [],
       "_model_module": "@jupyter-widgets/controls",
       "_model_module_version": "1.5.0",
       "_model_name": "HTMLModel",
       "_view_count": null,
       "_view_module": "@jupyter-widgets/controls",
       "_view_module_version": "1.5.0",
       "_view_name": "HTMLView",
       "description": "",
       "description_tooltip": null,
       "layout": "IPY_MODEL_e3cf1ea51b614eb1af2b633b0ef7a6f3",
       "placeholder": "​",
       "style": "IPY_MODEL_2d6ea1f9ab8f4236a2ac4fcb36327178",
       "value": "<h5><a href=\"https://github.com/ipython/ipython\">ipython/ipython</a></h5>\n<ul>\n<li><a href=\"https://github.com/ipython/ipython/issues/12348\">(#12348)</a>: <em>Debugger is flooded with QObject warnings if ipython is started with gui=qt5/4</em> by <strong><a href=\"https://github.com/clemisch\">@clemisch</a></strong></li>\n</ul>"
      }
     },
     "dcc507c59429489fad7e95aece39e756": {
      "model_module": "@jupyter-widgets/controls",
      "model_module_version": "1.5.0",
      "model_name": "IntProgressModel",
      "state": {
       "_dom_classes": [],
       "_model_module": "@jupyter-widgets/controls",
       "_model_module_version": "1.5.0",
       "_model_name": "IntProgressModel",
       "_view_count": null,
       "_view_module": "@jupyter-widgets/controls",
       "_view_module_version": "1.5.0",
       "_view_name": "ProgressView",
       "bar_style": "success",
       "description": "Downloading:",
       "description_tooltip": null,
       "layout": "IPY_MODEL_ec87a950d4d44463a14d9c1991f75e5d",
       "max": 4,
       "min": 0,
       "orientation": "horizontal",
       "style": "IPY_MODEL_88b87ce77d34418ea6b9e524caa042ec",
       "value": 4
      }
     },
     "ddb5a44566f644db8ccce2f6a26bf1fc": {
      "model_module": "@jupyter-widgets/controls",
      "model_module_version": "1.5.0",
      "model_name": "DescriptionStyleModel",
      "state": {
       "_model_module": "@jupyter-widgets/controls",
       "_model_module_version": "1.5.0",
       "_model_name": "DescriptionStyleModel",
       "_view_count": null,
       "_view_module": "@jupyter-widgets/base",
       "_view_module_version": "1.2.0",
       "_view_name": "StyleView",
       "description_width": ""
      }
     },
     "e3cf1ea51b614eb1af2b633b0ef7a6f3": {
      "model_module": "@jupyter-widgets/base",
      "model_module_version": "1.2.0",
      "model_name": "LayoutModel",
      "state": {
       "_model_module": "@jupyter-widgets/base",
       "_model_module_version": "1.2.0",
       "_model_name": "LayoutModel",
       "_view_count": null,
       "_view_module": "@jupyter-widgets/base",
       "_view_module_version": "1.2.0",
       "_view_name": "LayoutView",
       "align_content": null,
       "align_items": null,
       "align_self": null,
       "border": null,
       "bottom": null,
       "display": null,
       "flex": null,
       "flex_flow": null,
       "grid_area": null,
       "grid_auto_columns": null,
       "grid_auto_flow": null,
       "grid_auto_rows": null,
       "grid_column": null,
       "grid_gap": null,
       "grid_row": null,
       "grid_template_areas": null,
       "grid_template_columns": null,
       "grid_template_rows": null,
       "height": null,
       "justify_content": null,
       "justify_items": null,
       "left": null,
       "margin": null,
       "max_height": null,
       "max_width": null,
       "min_height": null,
       "min_width": null,
       "object_fit": null,
       "object_position": null,
       "order": null,
       "overflow": null,
       "overflow_x": null,
       "overflow_y": null,
       "padding": null,
       "right": null,
       "top": null,
       "visibility": null,
       "width": null
      }
     },
     "ec87a950d4d44463a14d9c1991f75e5d": {
      "model_module": "@jupyter-widgets/base",
      "model_module_version": "1.2.0",
      "model_name": "LayoutModel",
      "state": {
       "_model_module": "@jupyter-widgets/base",
       "_model_module_version": "1.2.0",
       "_model_name": "LayoutModel",
       "_view_count": null,
       "_view_module": "@jupyter-widgets/base",
       "_view_module_version": "1.2.0",
       "_view_name": "LayoutView",
       "align_content": null,
       "align_items": null,
       "align_self": null,
       "border": null,
       "bottom": null,
       "display": null,
       "flex": null,
       "flex_flow": null,
       "grid_area": null,
       "grid_auto_columns": null,
       "grid_auto_flow": null,
       "grid_auto_rows": null,
       "grid_column": null,
       "grid_gap": null,
       "grid_row": null,
       "grid_template_areas": null,
       "grid_template_columns": null,
       "grid_template_rows": null,
       "height": null,
       "justify_content": null,
       "justify_items": null,
       "left": null,
       "margin": null,
       "max_height": null,
       "max_width": null,
       "min_height": null,
       "min_width": null,
       "object_fit": null,
       "object_position": null,
       "order": null,
       "overflow": null,
       "overflow_x": null,
       "overflow_y": null,
       "padding": null,
       "right": null,
       "top": null,
       "visibility": null,
       "width": null
      }
     },
     "ef279d51fd574d638c4451ef12890b44": {
      "model_module": "@jupyter-widgets/base",
      "model_module_version": "1.2.0",
      "model_name": "LayoutModel",
      "state": {
       "_model_module": "@jupyter-widgets/base",
       "_model_module_version": "1.2.0",
       "_model_name": "LayoutModel",
       "_view_count": null,
       "_view_module": "@jupyter-widgets/base",
       "_view_module_version": "1.2.0",
       "_view_name": "LayoutView",
       "align_content": null,
       "align_items": null,
       "align_self": null,
       "border": null,
       "bottom": null,
       "display": null,
       "flex": null,
       "flex_flow": null,
       "grid_area": null,
       "grid_auto_columns": null,
       "grid_auto_flow": null,
       "grid_auto_rows": null,
       "grid_column": null,
       "grid_gap": null,
       "grid_row": null,
       "grid_template_areas": null,
       "grid_template_columns": null,
       "grid_template_rows": null,
       "height": null,
       "justify_content": null,
       "justify_items": null,
       "left": null,
       "margin": null,
       "max_height": null,
       "max_width": null,
       "min_height": null,
       "min_width": null,
       "object_fit": null,
       "object_position": null,
       "order": null,
       "overflow": null,
       "overflow_x": null,
       "overflow_y": null,
       "padding": null,
       "right": null,
       "top": null,
       "visibility": null,
       "width": null
      }
     }
    },
    "version_major": 2,
    "version_minor": 0
   }
  }
 },
 "nbformat": 4,
 "nbformat_minor": 4
}