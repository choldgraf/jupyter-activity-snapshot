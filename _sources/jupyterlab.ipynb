{
 "cells": [
  {
   "cell_type": "markdown",
   "id": "e83d9c7b",
   "metadata": {
    "papermill": {
     "duration": 0.015434,
     "end_time": "2025-05-14T01:30:35.929132",
     "exception": false,
     "start_time": "2025-05-14T01:30:35.913698",
     "status": "completed"
    },
    "tags": []
   },
   "source": [
    "# {glue:text}`jupyterlab_github_org`\n",
    "\n",
    "**Activity from {glue:}`jupyterlab_start` to {glue:}`jupyterlab_stop`**"
   ]
  },
  {
   "cell_type": "code",
   "execution_count": 1,
   "id": "3a9717ea",
   "metadata": {
    "editable": true,
    "execution": {
     "iopub.execute_input": "2025-05-14T01:30:35.959241Z",
     "iopub.status.busy": "2025-05-14T01:30:35.959038Z",
     "iopub.status.idle": "2025-05-14T01:30:36.779244Z",
     "shell.execute_reply": "2025-05-14T01:30:36.778590Z"
    },
    "papermill": {
     "duration": 0.836727,
     "end_time": "2025-05-14T01:30:36.780546",
     "exception": false,
     "start_time": "2025-05-14T01:30:35.943819",
     "status": "completed"
    },
    "slideshow": {
     "slide_type": ""
    },
    "tags": [
     "remove_cell"
    ]
   },
   "outputs": [],
   "source": [
    "from datetime import date\n",
    "from dateutil.relativedelta import relativedelta\n",
    "from myst_nb import glue\n",
    "import seaborn as sns\n",
    "import pandas as pd\n",
    "import numpy as np\n",
    "import altair as alt\n",
    "from markdown import markdown\n",
    "from IPython.display import Markdown\n",
    "from ipywidgets.widgets import HTML, Tab\n",
    "from ipywidgets import widgets\n",
    "from datetime import timedelta\n",
    "from matplotlib import pyplot as plt\n",
    "import os.path as op\n",
    "from json import loads\n",
    "\n",
    "from warnings import simplefilter\n",
    "simplefilter('ignore')\n",
    "pd.set_option('display.max_columns', None) # 'None' means show all"
   ]
  },
  {
   "cell_type": "code",
   "execution_count": 2,
   "id": "249f6e3a",
   "metadata": {
    "editable": true,
    "execution": {
     "iopub.execute_input": "2025-05-14T01:30:36.811007Z",
     "iopub.status.busy": "2025-05-14T01:30:36.810740Z",
     "iopub.status.idle": "2025-05-14T01:30:36.817279Z",
     "shell.execute_reply": "2025-05-14T01:30:36.816761Z"
    },
    "papermill": {
     "duration": 0.022761,
     "end_time": "2025-05-14T01:30:36.818288",
     "exception": false,
     "start_time": "2025-05-14T01:30:36.795527",
     "status": "completed"
    },
    "slideshow": {
     "slide_type": ""
    },
    "tags": [
     "remove_cell"
    ]
   },
   "outputs": [],
   "source": [
    "# Altair config\n",
    "def author_url(author):\n",
    "    return f\"https://github.com/{author}\"\n",
    "\n",
    "def alt_theme():\n",
    "    return {\n",
    "        'config': {\n",
    "            'axisLeft': {\n",
    "                'labelFontSize': 15,\n",
    "            },\n",
    "            'axisBottom': {\n",
    "                'labelFontSize': 15,\n",
    "            },\n",
    "        }\n",
    "    }\n",
    "\n",
    "alt.themes.register('my_theme', alt_theme)\n",
    "alt.themes.enable(\"my_theme\")\n",
    "\n",
    "\n",
    "# Define colors we'll use for GitHub membership\n",
    "author_types = ['MEMBER', 'CONTRIBUTOR', 'COLLABORATOR', \"NONE\"]\n",
    "\n",
    "author_palette = np.array(sns.palettes.blend_palette([\"lightgrey\", \"lightgreen\", \"darkgreen\"], 4)) * 256\n",
    "author_colors = [\"rgb({}, {}, {})\".format(*color) for color in author_palette]\n",
    "author_color_dict = {key: val for key, val in zip(author_types, author_palette)}"
   ]
  },
  {
   "cell_type": "code",
   "execution_count": 3,
   "id": "1b21bc1d",
   "metadata": {
    "editable": true,
    "execution": {
     "iopub.execute_input": "2025-05-14T01:30:36.847187Z",
     "iopub.status.busy": "2025-05-14T01:30:36.846689Z",
     "iopub.status.idle": "2025-05-14T01:30:36.849799Z",
     "shell.execute_reply": "2025-05-14T01:30:36.849245Z"
    },
    "papermill": {
     "duration": 0.018646,
     "end_time": "2025-05-14T01:30:36.850760",
     "exception": false,
     "start_time": "2025-05-14T01:30:36.832114",
     "status": "completed"
    },
    "slideshow": {
     "slide_type": ""
    },
    "tags": [
     "parameters",
     "hide_input",
     "remove_cell"
    ]
   },
   "outputs": [],
   "source": [
    "github_org = \"jupyterhub\"\n",
    "top_n_repos = 15\n",
    "n_days = 90"
   ]
  },
  {
   "cell_type": "code",
   "execution_count": 4,
   "id": "009773fb",
   "metadata": {
    "execution": {
     "iopub.execute_input": "2025-05-14T01:30:36.879561Z",
     "iopub.status.busy": "2025-05-14T01:30:36.879204Z",
     "iopub.status.idle": "2025-05-14T01:30:36.882150Z",
     "shell.execute_reply": "2025-05-14T01:30:36.881498Z"
    },
    "papermill": {
     "duration": 0.018417,
     "end_time": "2025-05-14T01:30:36.883105",
     "exception": false,
     "start_time": "2025-05-14T01:30:36.864688",
     "status": "completed"
    },
    "tags": [
     "injected-parameters",
     "remove-cell"
    ]
   },
   "outputs": [],
   "source": [
    "# Parameters\n",
    "github_org = \"jupyterlab\"\n",
    "n_days = 90\n"
   ]
  },
  {
   "cell_type": "code",
   "execution_count": 5,
   "id": "f974efac",
   "metadata": {
    "editable": true,
    "execution": {
     "iopub.execute_input": "2025-05-14T01:30:36.913204Z",
     "iopub.status.busy": "2025-05-14T01:30:36.913008Z",
     "iopub.status.idle": "2025-05-14T01:30:36.934844Z",
     "shell.execute_reply": "2025-05-14T01:30:36.934197Z"
    },
    "papermill": {
     "duration": 0.038194,
     "end_time": "2025-05-14T01:30:36.935837",
     "exception": false,
     "start_time": "2025-05-14T01:30:36.897643",
     "status": "completed"
    },
    "slideshow": {
     "slide_type": ""
    },
    "tags": [
     "remove_cell"
    ]
   },
   "outputs": [
    {
     "data": {
      "application/papermill.record/text/plain": "'jupyterlab'"
     },
     "metadata": {
      "scrapbook": {
       "mime_prefix": "application/papermill.record/",
       "name": "jupyterlab_github_org"
      }
     },
     "output_type": "display_data"
    },
    {
     "data": {
      "application/papermill.record/text/plain": "'2025-02-13'"
     },
     "metadata": {
      "scrapbook": {
       "mime_prefix": "application/papermill.record/",
       "name": "jupyterlab_start"
      }
     },
     "output_type": "display_data"
    },
    {
     "data": {
      "application/papermill.record/text/plain": "'2025-05-14'"
     },
     "metadata": {
      "scrapbook": {
       "mime_prefix": "application/papermill.record/",
       "name": "jupyterlab_stop"
      }
     },
     "output_type": "display_data"
    }
   ],
   "source": [
    "############################################################\n",
    "# Variables\n",
    "stop = date.today()\n",
    "start = date.today() - relativedelta(days=n_days)\n",
    "\n",
    "# Strings for use in queries\n",
    "start_date = f\"{start:%Y-%m-%d}\"\n",
    "stop_date = f\"{stop:%Y-%m-%d}\"\n",
    "\n",
    "# Glue variables for use in markdown\n",
    "glue(f\"{github_org}_github_org\", github_org, display=False)\n",
    "glue(f\"{github_org}_start\", start_date, display=False)\n",
    "glue(f\"{github_org}_stop\", stop_date, display=False)"
   ]
  },
  {
   "cell_type": "markdown",
   "id": "8bfefb63",
   "metadata": {
    "editable": true,
    "papermill": {
     "duration": 0.014247,
     "end_time": "2025-05-14T01:30:36.964321",
     "exception": false,
     "start_time": "2025-05-14T01:30:36.950074",
     "status": "completed"
    },
    "slideshow": {
     "slide_type": ""
    },
    "tags": []
   },
   "source": [
    "## Load data\n",
    "\n",
    "Load and clean up the data"
   ]
  },
  {
   "cell_type": "code",
   "execution_count": 6,
   "id": "9a8b084b",
   "metadata": {
    "editable": true,
    "execution": {
     "iopub.execute_input": "2025-05-14T01:30:36.993606Z",
     "iopub.status.busy": "2025-05-14T01:30:36.993408Z",
     "iopub.status.idle": "2025-05-14T01:30:36.997747Z",
     "shell.execute_reply": "2025-05-14T01:30:36.997196Z"
    },
    "papermill": {
     "duration": 0.020161,
     "end_time": "2025-05-14T01:30:36.998769",
     "exception": false,
     "start_time": "2025-05-14T01:30:36.978608",
     "status": "completed"
    },
    "slideshow": {
     "slide_type": ""
    },
    "tags": [
     "remove_cell"
    ]
   },
   "outputs": [],
   "source": [
    "from pathlib import Path\n",
    "import sqlite3\n",
    "path_data = Path(\"../data\")\n",
    "path_data = list(path_data.rglob(f\"*{github_org}.db\"))[0]\n",
    "\n",
    "def df_from_sql(query, db):\n",
    "    con = sqlite3.connect(db)\n",
    "    return pd.read_sql(query, con)\n",
    "    con.close()"
   ]
  },
  {
   "cell_type": "code",
   "execution_count": 7,
   "id": "2f3673a8",
   "metadata": {
    "editable": true,
    "execution": {
     "iopub.execute_input": "2025-05-14T01:30:37.029800Z",
     "iopub.status.busy": "2025-05-14T01:30:37.029403Z",
     "iopub.status.idle": "2025-05-14T01:30:37.801212Z",
     "shell.execute_reply": "2025-05-14T01:30:37.800480Z"
    },
    "papermill": {
     "duration": 0.788556,
     "end_time": "2025-05-14T01:30:37.802533",
     "exception": false,
     "start_time": "2025-05-14T01:30:37.013977",
     "status": "completed"
    },
    "scrolled": true,
    "slideshow": {
     "slide_type": ""
    },
    "tags": [
     "remove_cell"
    ]
   },
   "outputs": [
    {
     "name": "stdout",
     "output_type": "stream",
     "text": [
      "Loading from ../data/0e94c4215e649a3f19cab0230e5b1092-jupyterlab.db\n"
     ]
    }
   ],
   "source": [
    "print(f\"Loading from {path_data}\")\n",
    "repos = df_from_sql(\"SELECT * FROM repos\", path_data)\n",
    "users = df_from_sql(\"SELECT * FROM users\", path_data)\n",
    "issues = df_from_sql(\"SELECT * FROM issues\", path_data)\n",
    "comments = df_from_sql(\"SELECT * FROM issue_comments\", path_data)\n",
    "\n",
    "# Merge repository information into issues\n",
    "def merge_repo_into_df(df, kind):\n",
    "    df = pd.merge(df, users[[\"id\", \"login\"]], left_on=\"user\", right_on=\"id\", suffixes=(\"_issue\", \"_user\"), how=\"inner\")\n",
    "    df = pd.merge(df, repos[[\"id\", \"full_name\", \"name\"]], left_on=\"repo\", right_on=\"id\", suffixes=(\"_issue\", \"_repo\"), how=\"inner\")\n",
    "    df[\"org\"] = df[\"full_name\"].map(lambda a: a.split('/')[0])\n",
    "    df[\"repo\"] = df[\"full_name\"].map(lambda a: a.split('/')[1])\n",
    "    df[\"url\"] = \"https://github.com/\" + df[\"org\"] + \"/\" + df[\"repo\"] + f\"/{kind}/\" + df[\"number\"].astype(str)\n",
    "    return df\n",
    "issues = merge_repo_into_df(issues, kind=\"issues\")\n",
    "\n",
    "# Pull out the Pull Requests from Issues\n",
    "prs = issues.loc[~issues[\"pull_request\"].isna()]\n",
    "def identify_merger(closedby):\n",
    "    if not closedby:\n",
    "        return None\n",
    "    try:\n",
    "        cb = loads(closedby)\n",
    "    except:\n",
    "        print(closedby)\n",
    "    return cb[\"login\"]\n",
    "prs[\"merged_by\"] = prs[\"closed_by\"].map(identify_merger)\n",
    "\n",
    "# These issues now _remove_ the PRs\n",
    "issues = issues.loc[issues[\"pull_request\"].isna()]\n",
    "\n",
    "# Add reactions data\n",
    "def count_positive(a):\n",
    "    a = loads(a)\n",
    "    return a[\"+1\"] + a[\"hooray\"] + a[\"heart\"]\n",
    "issues[\"positive\"] = issues[\"reactions\"].map(count_positive)\n",
    "\n",
    "# Drop comments if there is no associated issue\n",
    "comments = comments.dropna(subset=[\"issue\"])\n",
    "comments[\"issue\"] = comments.loc[:, \"issue\"].astype(int)\n",
    "\n",
    "# Add repository information to comments\n",
    "comments = pd.merge(comments, issues[[\"id_issue\", \"full_name\", \"org\", \"repo\"]], left_on=\"issue\", right_on=\"id_issue\", how=\"inner\", suffixes=(\"_comment\", \"_issue\"))\n",
    "\n",
    "# Merge user data into comments\n",
    "comments = pd.merge(comments, users[[\"id\", \"login\"]], left_on=\"user\", right_on=\"id\", suffixes=(\"_comment\", \"_user\"), how=\"inner\")"
   ]
  },
  {
   "cell_type": "code",
   "execution_count": 8,
   "id": "7eddd087",
   "metadata": {
    "editable": true,
    "execution": {
     "iopub.execute_input": "2025-05-14T01:30:37.837538Z",
     "iopub.status.busy": "2025-05-14T01:30:37.836982Z",
     "iopub.status.idle": "2025-05-14T01:30:37.923345Z",
     "shell.execute_reply": "2025-05-14T01:30:37.922580Z"
    },
    "papermill": {
     "duration": 0.107267,
     "end_time": "2025-05-14T01:30:37.925039",
     "exception": false,
     "start_time": "2025-05-14T01:30:37.817772",
     "status": "completed"
    },
    "slideshow": {
     "slide_type": ""
    },
    "tags": [
     "remove_cell"
    ]
   },
   "outputs": [],
   "source": [
    "# Convert columns to datetime\n",
    "datetime_columns = [\"created_at\", \"closed_at\"]\n",
    "for df in [comments, issues, prs]:\n",
    "    for col in datetime_columns:\n",
    "        if col in df:\n",
    "            df[col] = pd.to_datetime(df[col])\n",
    "            # Strip timezone information so we can run simpler queries\n",
    "            df[col] = df[col].dt.tz_localize(None)"
   ]
  },
  {
   "cell_type": "code",
   "execution_count": 9,
   "id": "b6b7aee6",
   "metadata": {
    "editable": true,
    "execution": {
     "iopub.execute_input": "2025-05-14T01:30:37.956653Z",
     "iopub.status.busy": "2025-05-14T01:30:37.956272Z",
     "iopub.status.idle": "2025-05-14T01:30:37.976978Z",
     "shell.execute_reply": "2025-05-14T01:30:37.976272Z"
    },
    "papermill": {
     "duration": 0.037894,
     "end_time": "2025-05-14T01:30:37.978230",
     "exception": false,
     "start_time": "2025-05-14T01:30:37.940336",
     "status": "completed"
    },
    "slideshow": {
     "slide_type": ""
    },
    "tags": [
     "remove_cell"
    ]
   },
   "outputs": [],
   "source": [
    "# What are the top N repos, we will only plot these in the full data plots\n",
    "top_commented_repos = comments.groupby(\"repo\").count().sort_values(\"created_at\", ascending=False)['created_at']\n",
    "use_repos = top_commented_repos.head(top_n_repos).index.tolist()"
   ]
  },
  {
   "cell_type": "markdown",
   "id": "c950f52e",
   "metadata": {
    "editable": true,
    "papermill": {
     "duration": 0.014552,
     "end_time": "2025-05-14T01:30:38.007308",
     "exception": false,
     "start_time": "2025-05-14T01:30:37.992756",
     "status": "completed"
    },
    "slideshow": {
     "slide_type": ""
    },
    "tags": [],
    "toc-hr-collapsed": false
   },
   "source": [
    "## Merged Pull requests\n",
    "\n",
    "Here's an analysis of **merged pull requests** across each of the repositories in the Jupyter\n",
    "ecosystem."
   ]
  },
  {
   "cell_type": "code",
   "execution_count": 10,
   "id": "3e569126",
   "metadata": {
    "editable": true,
    "execution": {
     "iopub.execute_input": "2025-05-14T01:30:38.037171Z",
     "iopub.status.busy": "2025-05-14T01:30:38.036968Z",
     "iopub.status.idle": "2025-05-14T01:30:38.049140Z",
     "shell.execute_reply": "2025-05-14T01:30:38.048617Z"
    },
    "papermill": {
     "duration": 0.028348,
     "end_time": "2025-05-14T01:30:38.050108",
     "exception": false,
     "start_time": "2025-05-14T01:30:38.021760",
     "status": "completed"
    },
    "slideshow": {
     "slide_type": ""
    },
    "tags": [
     "remove_cell"
    ]
   },
   "outputs": [],
   "source": [
    "merged = prs.query('state == \"closed\" and closed_at > @start_date and closed_at < @stop_date')"
   ]
  },
  {
   "cell_type": "code",
   "execution_count": 11,
   "id": "619b079f",
   "metadata": {
    "editable": true,
    "execution": {
     "iopub.execute_input": "2025-05-14T01:30:38.081213Z",
     "iopub.status.busy": "2025-05-14T01:30:38.080816Z",
     "iopub.status.idle": "2025-05-14T01:30:38.120563Z",
     "shell.execute_reply": "2025-05-14T01:30:38.119946Z"
    },
    "papermill": {
     "duration": 0.056498,
     "end_time": "2025-05-14T01:30:38.121603",
     "exception": false,
     "start_time": "2025-05-14T01:30:38.065105",
     "status": "completed"
    },
    "slideshow": {
     "slide_type": ""
    },
    "tags": [
     "hide_input"
    ]
   },
   "outputs": [
    {
     "data": {
      "text/html": [
       "\n",
       "<style>\n",
       "  #altair-viz-e080c8c13b8b43d0ae564d5c474106ef.vega-embed {\n",
       "    width: 100%;\n",
       "    display: flex;\n",
       "  }\n",
       "\n",
       "  #altair-viz-e080c8c13b8b43d0ae564d5c474106ef.vega-embed details,\n",
       "  #altair-viz-e080c8c13b8b43d0ae564d5c474106ef.vega-embed details summary {\n",
       "    position: relative;\n",
       "  }\n",
       "</style>\n",
       "<div id=\"altair-viz-e080c8c13b8b43d0ae564d5c474106ef\"></div>\n",
       "<script type=\"text/javascript\">\n",
       "  var VEGA_DEBUG = (typeof VEGA_DEBUG == \"undefined\") ? {} : VEGA_DEBUG;\n",
       "  (function(spec, embedOpt){\n",
       "    let outputDiv = document.currentScript.previousElementSibling;\n",
       "    if (outputDiv.id !== \"altair-viz-e080c8c13b8b43d0ae564d5c474106ef\") {\n",
       "      outputDiv = document.getElementById(\"altair-viz-e080c8c13b8b43d0ae564d5c474106ef\");\n",
       "    }\n",
       "\n",
       "    const paths = {\n",
       "      \"vega\": \"https://cdn.jsdelivr.net/npm/vega@5?noext\",\n",
       "      \"vega-lib\": \"https://cdn.jsdelivr.net/npm/vega-lib?noext\",\n",
       "      \"vega-lite\": \"https://cdn.jsdelivr.net/npm/vega-lite@5.20.1?noext\",\n",
       "      \"vega-embed\": \"https://cdn.jsdelivr.net/npm/vega-embed@6?noext\",\n",
       "    };\n",
       "\n",
       "    function maybeLoadScript(lib, version) {\n",
       "      var key = `${lib.replace(\"-\", \"\")}_version`;\n",
       "      return (VEGA_DEBUG[key] == version) ?\n",
       "        Promise.resolve(paths[lib]) :\n",
       "        new Promise(function(resolve, reject) {\n",
       "          var s = document.createElement('script');\n",
       "          document.getElementsByTagName(\"head\")[0].appendChild(s);\n",
       "          s.async = true;\n",
       "          s.onload = () => {\n",
       "            VEGA_DEBUG[key] = version;\n",
       "            return resolve(paths[lib]);\n",
       "          };\n",
       "          s.onerror = () => reject(`Error loading script: ${paths[lib]}`);\n",
       "          s.src = paths[lib];\n",
       "        });\n",
       "    }\n",
       "\n",
       "    function showError(err) {\n",
       "      outputDiv.innerHTML = `<div class=\"error\" style=\"color:red;\">${err}</div>`;\n",
       "      throw err;\n",
       "    }\n",
       "\n",
       "    function displayChart(vegaEmbed) {\n",
       "      vegaEmbed(outputDiv, spec, embedOpt)\n",
       "        .catch(err => showError(`Javascript Error: ${err.message}<br>This usually means there's a typo in your chart specification. See the javascript console for the full traceback.`));\n",
       "    }\n",
       "\n",
       "    if(typeof define === \"function\" && define.amd) {\n",
       "      requirejs.config({paths});\n",
       "      let deps = [\"vega-embed\"];\n",
       "      require(deps, displayChart, err => showError(`Error loading script: ${err.message}`));\n",
       "    } else {\n",
       "      maybeLoadScript(\"vega\", \"5\")\n",
       "        .then(() => maybeLoadScript(\"vega-lite\", \"5.20.1\"))\n",
       "        .then(() => maybeLoadScript(\"vega-embed\", \"6\"))\n",
       "        .catch(showError)\n",
       "        .then(() => displayChart(vegaEmbed));\n",
       "    }\n",
       "  })({\"config\": {\"axisLeft\": {\"labelFontSize\": 15}, \"axisBottom\": {\"labelFontSize\": 15}}, \"data\": {\"name\": \"data-c2daba485c636281097d0b99e9ca1987\"}, \"mark\": {\"type\": \"bar\"}, \"encoding\": {\"color\": {\"field\": \"org\", \"type\": \"nominal\"}, \"x\": {\"field\": \"repo\", \"sort\": [\"jupyterlab\", \"jupyter-ai\", \"jupyter-chat\", \"language-packs\", \"jupyter-collaboration\", \"lumino\", \"jupyterlab-git\", \"maintainer-tools\", \"jupyterlab_server\", \"extension-examples\", \"extension-template\", \"jupyter-builder\", \".github\", \"frontends-team-compass\", \"jupyter-renderers\", \"jupyterlab-desktop\"], \"type\": \"nominal\"}, \"y\": {\"field\": \"login\", \"type\": \"quantitative\"}}, \"title\": \"Merged PRs in the last 90 days\", \"$schema\": \"https://vega.github.io/schema/vega-lite/v5.20.1.json\", \"datasets\": {\"data-c2daba485c636281097d0b99e9ca1987\": [{\"org\": \"jupyterlab\", \"repo\": \"jupyterlab\", \"login\": 163}, {\"org\": \"jupyterlab\", \"repo\": \"jupyter-ai\", \"login\": 44}, {\"org\": \"jupyterlab\", \"repo\": \"jupyter-chat\", \"login\": 25}, {\"org\": \"jupyterlab\", \"repo\": \"language-packs\", \"login\": 23}, {\"org\": \"jupyterlab\", \"repo\": \"jupyter-collaboration\", \"login\": 19}, {\"org\": \"jupyterlab\", \"repo\": \"lumino\", \"login\": 14}, {\"org\": \"jupyterlab\", \"repo\": \"jupyterlab-git\", \"login\": 4}, {\"org\": \"jupyterlab\", \"repo\": \"maintainer-tools\", \"login\": 4}, {\"org\": \"jupyterlab\", \"repo\": \"jupyterlab_server\", \"login\": 3}, {\"org\": \"jupyterlab\", \"repo\": \"extension-examples\", \"login\": 2}, {\"org\": \"jupyterlab\", \"repo\": \"extension-template\", \"login\": 2}, {\"org\": \"jupyterlab\", \"repo\": \"jupyter-builder\", \"login\": 2}, {\"org\": \"jupyterlab\", \"repo\": \".github\", \"login\": 1}, {\"org\": \"jupyterlab\", \"repo\": \"frontends-team-compass\", \"login\": 1}, {\"org\": \"jupyterlab\", \"repo\": \"jupyter-renderers\", \"login\": 1}, {\"org\": \"jupyterlab\", \"repo\": \"jupyterlab-desktop\", \"login\": 1}]}}, {\"mode\": \"vega-lite\"});\n",
       "</script>"
      ],
      "text/plain": [
       "alt.Chart(...)"
      ]
     },
     "execution_count": 11,
     "metadata": {},
     "output_type": "execute_result"
    }
   ],
   "source": [
    "prs_by_repo = merged.groupby(['org', 'repo']).count()['login'].reset_index().sort_values(['org', 'login'], ascending=False)\n",
    "alt.Chart(data=prs_by_repo, title=f\"Merged PRs in the last {n_days} days\").mark_bar().encode(\n",
    "    x=alt.X('repo', sort=prs_by_repo['repo'].values.tolist()),\n",
    "    y='login',\n",
    "    color='org'\n",
    ")"
   ]
  },
  {
   "cell_type": "markdown",
   "id": "18020e71",
   "metadata": {
    "editable": true,
    "papermill": {
     "duration": 0.014667,
     "end_time": "2025-05-14T01:30:38.151061",
     "exception": false,
     "start_time": "2025-05-14T01:30:38.136394",
     "status": "completed"
    },
    "slideshow": {
     "slide_type": ""
    },
    "tags": []
   },
   "source": [
    "### Authoring and merging stats by repository\n",
    "\n",
    "Let's see who has been doing most of the PR authoring and merging. The PR author is generally the\n",
    "person that implemented a change in the repository (code, documentation, etc). The PR merger is\n",
    "the person that \"pressed the green button\" and got the change into the main codebase."
   ]
  },
  {
   "cell_type": "code",
   "execution_count": 12,
   "id": "bd75d6b7",
   "metadata": {
    "editable": true,
    "execution": {
     "iopub.execute_input": "2025-05-14T01:30:38.189476Z",
     "iopub.status.busy": "2025-05-14T01:30:38.188964Z",
     "iopub.status.idle": "2025-05-14T01:30:38.200614Z",
     "shell.execute_reply": "2025-05-14T01:30:38.199936Z"
    },
    "papermill": {
     "duration": 0.035166,
     "end_time": "2025-05-14T01:30:38.201980",
     "exception": false,
     "start_time": "2025-05-14T01:30:38.166814",
     "status": "completed"
    },
    "slideshow": {
     "slide_type": ""
    },
    "tags": [
     "remove_cell"
    ]
   },
   "outputs": [],
   "source": [
    "# Prep our merging DF\n",
    "merged_by_repo = merged.groupby(['repo', 'login'], as_index=False).agg({'id': 'count', 'author_association': 'first'}).rename(columns={'id': \"authored\", 'login': 'username'})\n",
    "closed_by_repo = merged.groupby(['name', 'merged_by']).count()['id_issue'].reset_index().rename(columns={'id_issue': \"closed\", \"merged_by\": \"username\"})"
   ]
  },
  {
   "cell_type": "code",
   "execution_count": 13,
   "id": "dae10504",
   "metadata": {
    "editable": true,
    "execution": {
     "iopub.execute_input": "2025-05-14T01:30:38.242866Z",
     "iopub.status.busy": "2025-05-14T01:30:38.242351Z",
     "iopub.status.idle": "2025-05-14T01:30:38.265847Z",
     "shell.execute_reply": "2025-05-14T01:30:38.265239Z"
    },
    "papermill": {
     "duration": 0.043953,
     "end_time": "2025-05-14T01:30:38.266904",
     "exception": false,
     "start_time": "2025-05-14T01:30:38.222951",
     "status": "completed"
    },
    "slideshow": {
     "slide_type": ""
    },
    "tags": [
     "hide_input"
    ]
   },
   "outputs": [
    {
     "data": {
      "text/html": [
       "\n",
       "<style>\n",
       "  #altair-viz-d71faa52883b430c9185a58e2fea4439.vega-embed {\n",
       "    width: 100%;\n",
       "    display: flex;\n",
       "  }\n",
       "\n",
       "  #altair-viz-d71faa52883b430c9185a58e2fea4439.vega-embed details,\n",
       "  #altair-viz-d71faa52883b430c9185a58e2fea4439.vega-embed details summary {\n",
       "    position: relative;\n",
       "  }\n",
       "</style>\n",
       "<div id=\"altair-viz-d71faa52883b430c9185a58e2fea4439\"></div>\n",
       "<script type=\"text/javascript\">\n",
       "  var VEGA_DEBUG = (typeof VEGA_DEBUG == \"undefined\") ? {} : VEGA_DEBUG;\n",
       "  (function(spec, embedOpt){\n",
       "    let outputDiv = document.currentScript.previousElementSibling;\n",
       "    if (outputDiv.id !== \"altair-viz-d71faa52883b430c9185a58e2fea4439\") {\n",
       "      outputDiv = document.getElementById(\"altair-viz-d71faa52883b430c9185a58e2fea4439\");\n",
       "    }\n",
       "\n",
       "    const paths = {\n",
       "      \"vega\": \"https://cdn.jsdelivr.net/npm/vega@5?noext\",\n",
       "      \"vega-lib\": \"https://cdn.jsdelivr.net/npm/vega-lib?noext\",\n",
       "      \"vega-lite\": \"https://cdn.jsdelivr.net/npm/vega-lite@5.20.1?noext\",\n",
       "      \"vega-embed\": \"https://cdn.jsdelivr.net/npm/vega-embed@6?noext\",\n",
       "    };\n",
       "\n",
       "    function maybeLoadScript(lib, version) {\n",
       "      var key = `${lib.replace(\"-\", \"\")}_version`;\n",
       "      return (VEGA_DEBUG[key] == version) ?\n",
       "        Promise.resolve(paths[lib]) :\n",
       "        new Promise(function(resolve, reject) {\n",
       "          var s = document.createElement('script');\n",
       "          document.getElementsByTagName(\"head\")[0].appendChild(s);\n",
       "          s.async = true;\n",
       "          s.onload = () => {\n",
       "            VEGA_DEBUG[key] = version;\n",
       "            return resolve(paths[lib]);\n",
       "          };\n",
       "          s.onerror = () => reject(`Error loading script: ${paths[lib]}`);\n",
       "          s.src = paths[lib];\n",
       "        });\n",
       "    }\n",
       "\n",
       "    function showError(err) {\n",
       "      outputDiv.innerHTML = `<div class=\"error\" style=\"color:red;\">${err}</div>`;\n",
       "      throw err;\n",
       "    }\n",
       "\n",
       "    function displayChart(vegaEmbed) {\n",
       "      vegaEmbed(outputDiv, spec, embedOpt)\n",
       "        .catch(err => showError(`Javascript Error: ${err.message}<br>This usually means there's a typo in your chart specification. See the javascript console for the full traceback.`));\n",
       "    }\n",
       "\n",
       "    if(typeof define === \"function\" && define.amd) {\n",
       "      requirejs.config({paths});\n",
       "      let deps = [\"vega-embed\"];\n",
       "      require(deps, displayChart, err => showError(`Error loading script: ${err.message}`));\n",
       "    } else {\n",
       "      maybeLoadScript(\"vega\", \"5\")\n",
       "        .then(() => maybeLoadScript(\"vega-lite\", \"5.20.1\"))\n",
       "        .then(() => maybeLoadScript(\"vega-embed\", \"6\"))\n",
       "        .catch(showError)\n",
       "        .then(() => displayChart(vegaEmbed));\n",
       "    }\n",
       "  })({\"config\": {\"axisLeft\": {\"labelFontSize\": 15}, \"axisBottom\": {\"labelFontSize\": 15}}, \"data\": {\"name\": \"data-f20f3e7e83b9b578acd3badab140f3aa\"}, \"mark\": {\"type\": \"bar\"}, \"encoding\": {\"color\": {\"field\": \"author_association\", \"scale\": {\"domain\": [\"MEMBER\", \"CONTRIBUTOR\", \"COLLABORATOR\", \"NONE\"], \"range\": [\"rgb(211.82745098039214, 211.82745098039214, 211.82745098039214)\", \"rgb(166.98562091503268, 229.89803921568628, 166.98562091503268)\", \"rgb(96.37647058823529, 192.75294117647059, 96.37647058823529)\", \"rgb(0.0, 100.3921568627451, 0.0)\"]}, \"type\": \"nominal\"}, \"x\": {\"field\": \"username\", \"type\": \"nominal\"}, \"y\": {\"field\": \"authored\", \"type\": \"quantitative\"}}, \"title\": \"PR authors for jupyterlab in the last 90 days\", \"$schema\": \"https://vega.github.io/schema/vega-lite/v5.20.1.json\", \"datasets\": {\"data-f20f3e7e83b9b578acd3badab140f3aa\": [{\"username\": \"jtpio\", \"authored\": 43, \"author_association\": \"MEMBER\"}, {\"username\": \"meeseeksmachine\", \"authored\": 41, \"author_association\": \"CONTRIBUTOR\"}, {\"username\": \"dependabot[bot]\", \"authored\": 32, \"author_association\": \"CONTRIBUTOR\"}, {\"username\": \"krassowski\", \"authored\": 31, \"author_association\": \"MEMBER\"}, {\"username\": \"github-actions[bot]\", \"authored\": 22, \"author_association\": \"CONTRIBUTOR\"}, {\"username\": \"brichet\", \"authored\": 21, \"author_association\": \"MEMBER\"}, {\"username\": \"dlqqq\", \"authored\": 13, \"author_association\": \"MEMBER\"}, {\"username\": \"Darshan808\", \"authored\": 13, \"author_association\": \"MEMBER\"}, {\"username\": \"srdas\", \"authored\": 12, \"author_association\": \"COLLABORATOR\"}, {\"username\": \"fcollonval\", \"authored\": 10, \"author_association\": \"MEMBER\"}, {\"username\": \"andrii-i\", \"authored\": 4, \"author_association\": \"MEMBER\"}, {\"username\": \"davidbrochart\", \"authored\": 4, \"author_association\": \"MEMBER\"}, {\"username\": \"hxrshxz\", \"authored\": 4, \"author_association\": \"CONTRIBUTOR\"}, {\"username\": \"keerthi-swarna\", \"authored\": 4, \"author_association\": \"COLLABORATOR\"}, {\"username\": \"MUFFANUJ\", \"authored\": 4, \"author_association\": \"CONTRIBUTOR\"}, {\"username\": \"pre-commit-ci[bot]\", \"authored\": 3, \"author_association\": \"CONTRIBUTOR\"}, {\"username\": \"itsmevichu\", \"authored\": 3, \"author_association\": \"MEMBER\"}, {\"username\": \"nkn2022\", \"authored\": 3, \"author_association\": \"CONTRIBUTOR\"}, {\"username\": \"afshin\", \"authored\": 3, \"author_association\": \"MEMBER\"}, {\"username\": \"minrk\", \"authored\": 2, \"author_association\": \"MEMBER\"}, {\"username\": \"SHRISHTISHUKLA-0\", \"authored\": 2, \"author_association\": \"NONE\"}, {\"username\": \"Princekumarofficial\", \"authored\": 2, \"author_association\": \"CONTRIBUTOR\"}, {\"username\": \"martinRenou\", \"authored\": 2, \"author_association\": \"MEMBER\"}, {\"username\": \"cmarmo\", \"authored\": 1, \"author_association\": \"CONTRIBUTOR\"}, {\"username\": \"bnavigator\", \"authored\": 1, \"author_association\": \"CONTRIBUTOR\"}, {\"username\": \"bollwyvl\", \"authored\": 1, \"author_association\": \"MEMBER\"}, {\"username\": \"adityamali\", \"authored\": 1, \"author_association\": \"NONE\"}, {\"username\": \"YvesNDIKURIYO-2022\", \"authored\": 1, \"author_association\": \"NONE\"}, {\"username\": \"Zsailer\", \"authored\": 1, \"author_association\": \"MEMBER\"}, {\"username\": \"allison-truhlar\", \"authored\": 1, \"author_association\": \"CONTRIBUTOR\"}, {\"username\": \"SatyajitRedekar\", \"authored\": 1, \"author_association\": \"CONTRIBUTOR\"}, {\"username\": \"Rishab87\", \"authored\": 1, \"author_association\": \"CONTRIBUTOR\"}, {\"username\": \"SylvainCorlay\", \"authored\": 1, \"author_association\": \"MEMBER\"}, {\"username\": \"Kcato1\", \"authored\": 1, \"author_association\": \"FIRST_TIMER\"}, {\"username\": \"3coins\", \"authored\": 1, \"author_association\": \"MEMBER\"}, {\"username\": \"DenisaCG\", \"authored\": 1, \"author_association\": \"MEMBER\"}, {\"username\": \"Guillermovasco\", \"authored\": 1, \"author_association\": \"FIRST_TIMER\"}, {\"username\": \"achhina\", \"authored\": 1, \"author_association\": \"CONTRIBUTOR\"}, {\"username\": \"jhgoebbert\", \"authored\": 1, \"author_association\": \"NONE\"}, {\"username\": \"jesuino\", \"authored\": 1, \"author_association\": \"CONTRIBUTOR\"}, {\"username\": \"hiCXK\", \"authored\": 1, \"author_association\": \"NONE\"}, {\"username\": \"iisakkirotko\", \"authored\": 1, \"author_association\": \"CONTRIBUTOR\"}, {\"username\": \"dnlzrgz\", \"authored\": 1, \"author_association\": \"CONTRIBUTOR\"}, {\"username\": \"dotnetautor\", \"authored\": 1, \"author_association\": \"CONTRIBUTOR\"}, {\"username\": \"francoculaciati\", \"authored\": 1, \"author_association\": \"FIRST_TIME_CONTRIBUTOR\"}, {\"username\": \"ghost\", \"authored\": 1, \"author_association\": \"NONE\"}, {\"username\": \"peytondmurray\", \"authored\": 1, \"author_association\": \"CONTRIBUTOR\"}, {\"username\": \"pdarshane\", \"authored\": 1, \"author_association\": \"CONTRIBUTOR\"}, {\"username\": \"rsaditya01\", \"authored\": 1, \"author_association\": \"CONTRIBUTOR\"}, {\"username\": \"simonw\", \"authored\": 1, \"author_association\": \"NONE\"}, {\"username\": \"trungleduc\", \"authored\": 1, \"author_association\": \"MEMBER\"}, {\"username\": \"vidartf\", \"authored\": 1, \"author_association\": \"MEMBER\"}, {\"username\": \"yacchin1205\", \"authored\": 1, \"author_association\": \"CONTRIBUTOR\"}, {\"username\": \"yukiiii04\", \"authored\": 1, \"author_association\": \"CONTRIBUTOR\"}]}}, {\"mode\": \"vega-lite\"});\n",
       "</script>"
      ],
      "text/plain": [
       "alt.Chart(...)"
      ]
     },
     "execution_count": 13,
     "metadata": {},
     "output_type": "execute_result"
    }
   ],
   "source": [
    "charts = []\n",
    "title = f\"PR authors for {github_org} in the last {n_days} days\"\n",
    "this_data = merged_by_repo.replace(np.nan, 0).groupby('username', as_index=False).agg({'authored': 'sum', 'author_association': 'first'})\n",
    "this_data = this_data.sort_values('authored', ascending=False)\n",
    "ch = alt.Chart(data=this_data, title=title).mark_bar().encode(\n",
    "    x='username',\n",
    "    y='authored',\n",
    "    color=alt.Color('author_association', scale=alt.Scale(domain=author_types, range=author_colors))\n",
    ")\n",
    "ch"
   ]
  },
  {
   "cell_type": "code",
   "execution_count": 14,
   "id": "51f48ffa",
   "metadata": {
    "editable": true,
    "execution": {
     "iopub.execute_input": "2025-05-14T01:30:38.299357Z",
     "iopub.status.busy": "2025-05-14T01:30:38.299155Z",
     "iopub.status.idle": "2025-05-14T01:30:38.317104Z",
     "shell.execute_reply": "2025-05-14T01:30:38.316540Z"
    },
    "papermill": {
     "duration": 0.035645,
     "end_time": "2025-05-14T01:30:38.318145",
     "exception": false,
     "start_time": "2025-05-14T01:30:38.282500",
     "status": "completed"
    },
    "slideshow": {
     "slide_type": ""
    },
    "tags": [
     "hide_input"
    ]
   },
   "outputs": [
    {
     "data": {
      "text/html": [
       "\n",
       "<style>\n",
       "  #altair-viz-a7cd799c213d4797a302e14a29851ddd.vega-embed {\n",
       "    width: 100%;\n",
       "    display: flex;\n",
       "  }\n",
       "\n",
       "  #altair-viz-a7cd799c213d4797a302e14a29851ddd.vega-embed details,\n",
       "  #altair-viz-a7cd799c213d4797a302e14a29851ddd.vega-embed details summary {\n",
       "    position: relative;\n",
       "  }\n",
       "</style>\n",
       "<div id=\"altair-viz-a7cd799c213d4797a302e14a29851ddd\"></div>\n",
       "<script type=\"text/javascript\">\n",
       "  var VEGA_DEBUG = (typeof VEGA_DEBUG == \"undefined\") ? {} : VEGA_DEBUG;\n",
       "  (function(spec, embedOpt){\n",
       "    let outputDiv = document.currentScript.previousElementSibling;\n",
       "    if (outputDiv.id !== \"altair-viz-a7cd799c213d4797a302e14a29851ddd\") {\n",
       "      outputDiv = document.getElementById(\"altair-viz-a7cd799c213d4797a302e14a29851ddd\");\n",
       "    }\n",
       "\n",
       "    const paths = {\n",
       "      \"vega\": \"https://cdn.jsdelivr.net/npm/vega@5?noext\",\n",
       "      \"vega-lib\": \"https://cdn.jsdelivr.net/npm/vega-lib?noext\",\n",
       "      \"vega-lite\": \"https://cdn.jsdelivr.net/npm/vega-lite@5.20.1?noext\",\n",
       "      \"vega-embed\": \"https://cdn.jsdelivr.net/npm/vega-embed@6?noext\",\n",
       "    };\n",
       "\n",
       "    function maybeLoadScript(lib, version) {\n",
       "      var key = `${lib.replace(\"-\", \"\")}_version`;\n",
       "      return (VEGA_DEBUG[key] == version) ?\n",
       "        Promise.resolve(paths[lib]) :\n",
       "        new Promise(function(resolve, reject) {\n",
       "          var s = document.createElement('script');\n",
       "          document.getElementsByTagName(\"head\")[0].appendChild(s);\n",
       "          s.async = true;\n",
       "          s.onload = () => {\n",
       "            VEGA_DEBUG[key] = version;\n",
       "            return resolve(paths[lib]);\n",
       "          };\n",
       "          s.onerror = () => reject(`Error loading script: ${paths[lib]}`);\n",
       "          s.src = paths[lib];\n",
       "        });\n",
       "    }\n",
       "\n",
       "    function showError(err) {\n",
       "      outputDiv.innerHTML = `<div class=\"error\" style=\"color:red;\">${err}</div>`;\n",
       "      throw err;\n",
       "    }\n",
       "\n",
       "    function displayChart(vegaEmbed) {\n",
       "      vegaEmbed(outputDiv, spec, embedOpt)\n",
       "        .catch(err => showError(`Javascript Error: ${err.message}<br>This usually means there's a typo in your chart specification. See the javascript console for the full traceback.`));\n",
       "    }\n",
       "\n",
       "    if(typeof define === \"function\" && define.amd) {\n",
       "      requirejs.config({paths});\n",
       "      let deps = [\"vega-embed\"];\n",
       "      require(deps, displayChart, err => showError(`Error loading script: ${err.message}`));\n",
       "    } else {\n",
       "      maybeLoadScript(\"vega\", \"5\")\n",
       "        .then(() => maybeLoadScript(\"vega-lite\", \"5.20.1\"))\n",
       "        .then(() => maybeLoadScript(\"vega-embed\", \"6\"))\n",
       "        .catch(showError)\n",
       "        .then(() => displayChart(vegaEmbed));\n",
       "    }\n",
       "  })({\"config\": {\"axisLeft\": {\"labelFontSize\": 15}, \"axisBottom\": {\"labelFontSize\": 15}}, \"data\": {\"name\": \"data-59c8e135d401d765f7ae3d4b44bff5ba\"}, \"mark\": {\"type\": \"bar\"}, \"encoding\": {\"x\": {\"field\": \"username\", \"type\": \"nominal\"}, \"y\": {\"field\": \"closed\", \"type\": \"quantitative\"}}, \"title\": \"Users that have merged PRs for jupyterlab in the last 90 days\", \"$schema\": \"https://vega.github.io/schema/vega-lite/v5.20.1.json\", \"datasets\": {\"data-59c8e135d401d765f7ae3d4b44bff5ba\": [{\"name\": \".github\", \"username\": \"jtpio\", \"closed\": 1}, {\"name\": \"extension-examples\", \"username\": \"fcollonval\", \"closed\": 1}, {\"name\": \"extension-examples\", \"username\": \"krassowski\", \"closed\": 1}, {\"name\": \"extension-template\", \"username\": \"fcollonval\", \"closed\": 1}, {\"name\": \"extension-template\", \"username\": \"krassowski\", \"closed\": 1}, {\"name\": \"frontends-team-compass\", \"username\": \"jtpio\", \"closed\": 1}, {\"name\": \"jupyter-ai\", \"username\": \"brichet\", \"closed\": 1}, {\"name\": \"jupyter-ai\", \"username\": \"dlqqq\", \"closed\": 24}, {\"name\": \"jupyter-ai\", \"username\": \"francoculaciati\", \"closed\": 1}, {\"name\": \"jupyter-ai\", \"username\": \"srdas\", \"closed\": 18}, {\"name\": \"jupyter-builder\", \"username\": \"fcollonval\", \"closed\": 2}, {\"name\": \"jupyter-chat\", \"username\": \"andrii-i\", \"closed\": 2}, {\"name\": \"jupyter-chat\", \"username\": \"brichet\", \"closed\": 18}, {\"name\": \"jupyter-chat\", \"username\": \"dlqqq\", \"closed\": 2}, {\"name\": \"jupyter-chat\", \"username\": \"jtpio\", \"closed\": 3}, {\"name\": \"jupyter-collaboration\", \"username\": \"andrii-i\", \"closed\": 1}, {\"name\": \"jupyter-collaboration\", \"username\": \"brichet\", \"closed\": 1}, {\"name\": \"jupyter-collaboration\", \"username\": \"davidbrochart\", \"closed\": 3}, {\"name\": \"jupyter-collaboration\", \"username\": \"krassowski\", \"closed\": 14}, {\"name\": \"jupyter-renderers\", \"username\": \"fcollonval\", \"closed\": 1}, {\"name\": \"jupyterlab\", \"username\": \"Zsailer\", \"closed\": 1}, {\"name\": \"jupyterlab\", \"username\": \"adityamali\", \"closed\": 1}, {\"name\": \"jupyterlab\", \"username\": \"afshin\", \"closed\": 2}, {\"name\": \"jupyterlab\", \"username\": \"davidbrochart\", \"closed\": 1}, {\"name\": \"jupyterlab\", \"username\": \"hxrshxz\", \"closed\": 2}, {\"name\": \"jupyterlab\", \"username\": \"jtpio\", \"closed\": 36}, {\"name\": \"jupyterlab\", \"username\": \"krassowski\", \"closed\": 119}, {\"name\": \"jupyterlab\", \"username\": \"simonw\", \"closed\": 1}, {\"name\": \"jupyterlab-desktop\", \"username\": \"krassowski\", \"closed\": 1}, {\"name\": \"jupyterlab-git\", \"username\": \"fcollonval\", \"closed\": 2}, {\"name\": \"jupyterlab-git\", \"username\": \"krassowski\", \"closed\": 2}, {\"name\": \"jupyterlab_server\", \"username\": \"fcollonval\", \"closed\": 1}, {\"name\": \"jupyterlab_server\", \"username\": \"krassowski\", \"closed\": 2}, {\"name\": \"language-packs\", \"username\": \"fcollonval\", \"closed\": 23}, {\"name\": \"lumino\", \"username\": \"afshin\", \"closed\": 2}, {\"name\": \"lumino\", \"username\": \"fcollonval\", \"closed\": 5}, {\"name\": \"lumino\", \"username\": \"jtpio\", \"closed\": 2}, {\"name\": \"lumino\", \"username\": \"krassowski\", \"closed\": 5}, {\"name\": \"maintainer-tools\", \"username\": \"danyeaw\", \"closed\": 1}, {\"name\": \"maintainer-tools\", \"username\": \"fcollonval\", \"closed\": 2}, {\"name\": \"maintainer-tools\", \"username\": \"jtpio\", \"closed\": 1}]}}, {\"mode\": \"vega-lite\"});\n",
       "</script>"
      ],
      "text/plain": [
       "alt.Chart(...)"
      ]
     },
     "execution_count": 14,
     "metadata": {},
     "output_type": "execute_result"
    }
   ],
   "source": [
    "charts = []\n",
    "title = f\"Users that have merged PRs for {github_org} in the last {n_days} days\"\n",
    "ch = alt.Chart(data=closed_by_repo.replace(np.nan, 0), title=title).mark_bar().encode(\n",
    "    x='username',\n",
    "    y='closed',\n",
    ")\n",
    "ch"
   ]
  },
  {
   "cell_type": "markdown",
   "id": "45cb99bb",
   "metadata": {
    "editable": true,
    "papermill": {
     "duration": 0.015067,
     "end_time": "2025-05-14T01:30:38.348361",
     "exception": false,
     "start_time": "2025-05-14T01:30:38.333294",
     "status": "completed"
    },
    "slideshow": {
     "slide_type": ""
    },
    "tags": []
   },
   "source": [
    "## Issues\n",
    "\n",
    "Issues are **conversations** that happen on our GitHub repositories. Here's an\n",
    "analysis of issues across the Jupyter organizations."
   ]
  },
  {
   "cell_type": "code",
   "execution_count": 15,
   "id": "0d231f5a",
   "metadata": {
    "editable": true,
    "execution": {
     "iopub.execute_input": "2025-05-14T01:30:38.379322Z",
     "iopub.status.busy": "2025-05-14T01:30:38.379124Z",
     "iopub.status.idle": "2025-05-14T01:30:38.398012Z",
     "shell.execute_reply": "2025-05-14T01:30:38.397449Z"
    },
    "papermill": {
     "duration": 0.035494,
     "end_time": "2025-05-14T01:30:38.398973",
     "exception": false,
     "start_time": "2025-05-14T01:30:38.363479",
     "status": "completed"
    },
    "slideshow": {
     "slide_type": ""
    },
    "tags": [
     "remove_cell"
    ]
   },
   "outputs": [],
   "source": [
    "created = issues.query('state == \"open\" and created_at > @start_date and created_at < @stop_date')\n",
    "closed = issues.query('state == \"closed\" and closed_at > @start_date and closed_at < @stop_date')"
   ]
  },
  {
   "cell_type": "code",
   "execution_count": 16,
   "id": "e5477796",
   "metadata": {
    "editable": true,
    "execution": {
     "iopub.execute_input": "2025-05-14T01:30:38.431444Z",
     "iopub.status.busy": "2025-05-14T01:30:38.431246Z",
     "iopub.status.idle": "2025-05-14T01:30:38.453112Z",
     "shell.execute_reply": "2025-05-14T01:30:38.452552Z"
    },
    "papermill": {
     "duration": 0.039519,
     "end_time": "2025-05-14T01:30:38.454106",
     "exception": false,
     "start_time": "2025-05-14T01:30:38.414587",
     "status": "completed"
    },
    "slideshow": {
     "slide_type": ""
    },
    "tags": [
     "hide_input"
    ]
   },
   "outputs": [
    {
     "data": {
      "text/html": [
       "\n",
       "<style>\n",
       "  #altair-viz-1a53a49927514c0a850bae74d7413284.vega-embed {\n",
       "    width: 100%;\n",
       "    display: flex;\n",
       "  }\n",
       "\n",
       "  #altair-viz-1a53a49927514c0a850bae74d7413284.vega-embed details,\n",
       "  #altair-viz-1a53a49927514c0a850bae74d7413284.vega-embed details summary {\n",
       "    position: relative;\n",
       "  }\n",
       "</style>\n",
       "<div id=\"altair-viz-1a53a49927514c0a850bae74d7413284\"></div>\n",
       "<script type=\"text/javascript\">\n",
       "  var VEGA_DEBUG = (typeof VEGA_DEBUG == \"undefined\") ? {} : VEGA_DEBUG;\n",
       "  (function(spec, embedOpt){\n",
       "    let outputDiv = document.currentScript.previousElementSibling;\n",
       "    if (outputDiv.id !== \"altair-viz-1a53a49927514c0a850bae74d7413284\") {\n",
       "      outputDiv = document.getElementById(\"altair-viz-1a53a49927514c0a850bae74d7413284\");\n",
       "    }\n",
       "\n",
       "    const paths = {\n",
       "      \"vega\": \"https://cdn.jsdelivr.net/npm/vega@5?noext\",\n",
       "      \"vega-lib\": \"https://cdn.jsdelivr.net/npm/vega-lib?noext\",\n",
       "      \"vega-lite\": \"https://cdn.jsdelivr.net/npm/vega-lite@5.20.1?noext\",\n",
       "      \"vega-embed\": \"https://cdn.jsdelivr.net/npm/vega-embed@6?noext\",\n",
       "    };\n",
       "\n",
       "    function maybeLoadScript(lib, version) {\n",
       "      var key = `${lib.replace(\"-\", \"\")}_version`;\n",
       "      return (VEGA_DEBUG[key] == version) ?\n",
       "        Promise.resolve(paths[lib]) :\n",
       "        new Promise(function(resolve, reject) {\n",
       "          var s = document.createElement('script');\n",
       "          document.getElementsByTagName(\"head\")[0].appendChild(s);\n",
       "          s.async = true;\n",
       "          s.onload = () => {\n",
       "            VEGA_DEBUG[key] = version;\n",
       "            return resolve(paths[lib]);\n",
       "          };\n",
       "          s.onerror = () => reject(`Error loading script: ${paths[lib]}`);\n",
       "          s.src = paths[lib];\n",
       "        });\n",
       "    }\n",
       "\n",
       "    function showError(err) {\n",
       "      outputDiv.innerHTML = `<div class=\"error\" style=\"color:red;\">${err}</div>`;\n",
       "      throw err;\n",
       "    }\n",
       "\n",
       "    function displayChart(vegaEmbed) {\n",
       "      vegaEmbed(outputDiv, spec, embedOpt)\n",
       "        .catch(err => showError(`Javascript Error: ${err.message}<br>This usually means there's a typo in your chart specification. See the javascript console for the full traceback.`));\n",
       "    }\n",
       "\n",
       "    if(typeof define === \"function\" && define.amd) {\n",
       "      requirejs.config({paths});\n",
       "      let deps = [\"vega-embed\"];\n",
       "      require(deps, displayChart, err => showError(`Error loading script: ${err.message}`));\n",
       "    } else {\n",
       "      maybeLoadScript(\"vega\", \"5\")\n",
       "        .then(() => maybeLoadScript(\"vega-lite\", \"5.20.1\"))\n",
       "        .then(() => maybeLoadScript(\"vega-embed\", \"6\"))\n",
       "        .catch(showError)\n",
       "        .then(() => displayChart(vegaEmbed));\n",
       "    }\n",
       "  })({\"config\": {\"axisLeft\": {\"labelFontSize\": 15}, \"axisBottom\": {\"labelFontSize\": 15}}, \"data\": {\"name\": \"data-b3ced350b95cc9a6d3be685446ae0fc5\"}, \"mark\": {\"type\": \"bar\"}, \"encoding\": {\"x\": {\"field\": \"repo\", \"sort\": [\"jupyterlab\", \"jupyter-ai\", \"jupyter-chat\", \"jupyter-collaboration\", \"jupyterlab-desktop\", \"jupyterlab-git\", \"lumino\", \"extension-template\", \"extension-examples\", \"frontends-team-compass\", \"jupyterlab_server\"], \"type\": \"nominal\"}, \"y\": {\"field\": \"number\", \"type\": \"quantitative\"}}, \"title\": \"Issues created in the last 90 days\", \"$schema\": \"https://vega.github.io/schema/vega-lite/v5.20.1.json\", \"datasets\": {\"data-b3ced350b95cc9a6d3be685446ae0fc5\": [{\"org\": \"jupyterlab\", \"repo\": \"extension-examples\", \"number\": 1, \"org/repo\": \"jupyterlab/extension-examples\"}, {\"org\": \"jupyterlab\", \"repo\": \"extension-template\", \"number\": 2, \"org/repo\": \"jupyterlab/extension-template\"}, {\"org\": \"jupyterlab\", \"repo\": \"frontends-team-compass\", \"number\": 1, \"org/repo\": \"jupyterlab/frontends-team-compass\"}, {\"org\": \"jupyterlab\", \"repo\": \"jupyter-ai\", \"number\": 24, \"org/repo\": \"jupyterlab/jupyter-ai\"}, {\"org\": \"jupyterlab\", \"repo\": \"jupyter-chat\", \"number\": 18, \"org/repo\": \"jupyterlab/jupyter-chat\"}, {\"org\": \"jupyterlab\", \"repo\": \"jupyter-collaboration\", \"number\": 6, \"org/repo\": \"jupyterlab/jupyter-collaboration\"}, {\"org\": \"jupyterlab\", \"repo\": \"jupyterlab\", \"number\": 63, \"org/repo\": \"jupyterlab/jupyterlab\"}, {\"org\": \"jupyterlab\", \"repo\": \"jupyterlab-desktop\", \"number\": 6, \"org/repo\": \"jupyterlab/jupyterlab-desktop\"}, {\"org\": \"jupyterlab\", \"repo\": \"jupyterlab-git\", \"number\": 4, \"org/repo\": \"jupyterlab/jupyterlab-git\"}, {\"org\": \"jupyterlab\", \"repo\": \"jupyterlab_server\", \"number\": 1, \"org/repo\": \"jupyterlab/jupyterlab_server\"}, {\"org\": \"jupyterlab\", \"repo\": \"lumino\", \"number\": 3, \"org/repo\": \"jupyterlab/lumino\"}]}}, {\"mode\": \"vega-lite\"});\n",
       "</script>"
      ],
      "text/plain": [
       "alt.Chart(...)"
      ]
     },
     "execution_count": 16,
     "metadata": {},
     "output_type": "execute_result"
    }
   ],
   "source": [
    "created_counts = created.groupby(['org', 'repo']).count()['number'].reset_index()\n",
    "created_counts['org/repo'] = created_counts.apply(lambda a: a['org'] + '/' + a['repo'], axis=1)\n",
    "sorted_vals = created_counts.sort_values(['org', 'number'], ascending=False)['repo'].values\n",
    "alt.Chart(data=created_counts, title=f\"Issues created in the last {n_days} days\").mark_bar().encode(\n",
    "    x=alt.X('repo', sort=alt.Sort(sorted_vals.tolist())),\n",
    "    y='number',\n",
    ")"
   ]
  },
  {
   "cell_type": "code",
   "execution_count": 17,
   "id": "1ac3ce39",
   "metadata": {
    "editable": true,
    "execution": {
     "iopub.execute_input": "2025-05-14T01:30:38.485870Z",
     "iopub.status.busy": "2025-05-14T01:30:38.485653Z",
     "iopub.status.idle": "2025-05-14T01:30:38.507161Z",
     "shell.execute_reply": "2025-05-14T01:30:38.506598Z"
    },
    "papermill": {
     "duration": 0.038816,
     "end_time": "2025-05-14T01:30:38.508175",
     "exception": false,
     "start_time": "2025-05-14T01:30:38.469359",
     "status": "completed"
    },
    "slideshow": {
     "slide_type": ""
    },
    "tags": [
     "hide_input"
    ]
   },
   "outputs": [
    {
     "data": {
      "text/html": [
       "\n",
       "<style>\n",
       "  #altair-viz-ae872a091d284804892260d9ba01982e.vega-embed {\n",
       "    width: 100%;\n",
       "    display: flex;\n",
       "  }\n",
       "\n",
       "  #altair-viz-ae872a091d284804892260d9ba01982e.vega-embed details,\n",
       "  #altair-viz-ae872a091d284804892260d9ba01982e.vega-embed details summary {\n",
       "    position: relative;\n",
       "  }\n",
       "</style>\n",
       "<div id=\"altair-viz-ae872a091d284804892260d9ba01982e\"></div>\n",
       "<script type=\"text/javascript\">\n",
       "  var VEGA_DEBUG = (typeof VEGA_DEBUG == \"undefined\") ? {} : VEGA_DEBUG;\n",
       "  (function(spec, embedOpt){\n",
       "    let outputDiv = document.currentScript.previousElementSibling;\n",
       "    if (outputDiv.id !== \"altair-viz-ae872a091d284804892260d9ba01982e\") {\n",
       "      outputDiv = document.getElementById(\"altair-viz-ae872a091d284804892260d9ba01982e\");\n",
       "    }\n",
       "\n",
       "    const paths = {\n",
       "      \"vega\": \"https://cdn.jsdelivr.net/npm/vega@5?noext\",\n",
       "      \"vega-lib\": \"https://cdn.jsdelivr.net/npm/vega-lib?noext\",\n",
       "      \"vega-lite\": \"https://cdn.jsdelivr.net/npm/vega-lite@5.20.1?noext\",\n",
       "      \"vega-embed\": \"https://cdn.jsdelivr.net/npm/vega-embed@6?noext\",\n",
       "    };\n",
       "\n",
       "    function maybeLoadScript(lib, version) {\n",
       "      var key = `${lib.replace(\"-\", \"\")}_version`;\n",
       "      return (VEGA_DEBUG[key] == version) ?\n",
       "        Promise.resolve(paths[lib]) :\n",
       "        new Promise(function(resolve, reject) {\n",
       "          var s = document.createElement('script');\n",
       "          document.getElementsByTagName(\"head\")[0].appendChild(s);\n",
       "          s.async = true;\n",
       "          s.onload = () => {\n",
       "            VEGA_DEBUG[key] = version;\n",
       "            return resolve(paths[lib]);\n",
       "          };\n",
       "          s.onerror = () => reject(`Error loading script: ${paths[lib]}`);\n",
       "          s.src = paths[lib];\n",
       "        });\n",
       "    }\n",
       "\n",
       "    function showError(err) {\n",
       "      outputDiv.innerHTML = `<div class=\"error\" style=\"color:red;\">${err}</div>`;\n",
       "      throw err;\n",
       "    }\n",
       "\n",
       "    function displayChart(vegaEmbed) {\n",
       "      vegaEmbed(outputDiv, spec, embedOpt)\n",
       "        .catch(err => showError(`Javascript Error: ${err.message}<br>This usually means there's a typo in your chart specification. See the javascript console for the full traceback.`));\n",
       "    }\n",
       "\n",
       "    if(typeof define === \"function\" && define.amd) {\n",
       "      requirejs.config({paths});\n",
       "      let deps = [\"vega-embed\"];\n",
       "      require(deps, displayChart, err => showError(`Error loading script: ${err.message}`));\n",
       "    } else {\n",
       "      maybeLoadScript(\"vega\", \"5\")\n",
       "        .then(() => maybeLoadScript(\"vega-lite\", \"5.20.1\"))\n",
       "        .then(() => maybeLoadScript(\"vega-embed\", \"6\"))\n",
       "        .catch(showError)\n",
       "        .then(() => displayChart(vegaEmbed));\n",
       "    }\n",
       "  })({\"config\": {\"axisLeft\": {\"labelFontSize\": 15}, \"axisBottom\": {\"labelFontSize\": 15}}, \"data\": {\"name\": \"data-7446ff654c7d92a8ce70f2f4636f8e7d\"}, \"mark\": {\"type\": \"bar\"}, \"encoding\": {\"x\": {\"field\": \"repo\", \"sort\": [\"jupyterlab\", \"jupyter-ai\", \"jupyter-chat\", \"jupyter-collaboration\", \"jupyterlab_pygments\", \"maintainer-tools\", \"extension-template\", \"lumino\", \"frontends-team-compass\", \"jupyterlab-desktop\", \"jupyterlab-git\"], \"type\": \"nominal\"}, \"y\": {\"field\": \"number\", \"type\": \"quantitative\"}}, \"title\": \"Issues closed in the last 90 days\", \"$schema\": \"https://vega.github.io/schema/vega-lite/v5.20.1.json\", \"datasets\": {\"data-7446ff654c7d92a8ce70f2f4636f8e7d\": [{\"org\": \"jupyterlab\", \"repo\": \"extension-template\", \"number\": 2, \"org/repo\": \"jupyterlab/extension-template\"}, {\"org\": \"jupyterlab\", \"repo\": \"frontends-team-compass\", \"number\": 1, \"org/repo\": \"jupyterlab/frontends-team-compass\"}, {\"org\": \"jupyterlab\", \"repo\": \"jupyter-ai\", \"number\": 44, \"org/repo\": \"jupyterlab/jupyter-ai\"}, {\"org\": \"jupyterlab\", \"repo\": \"jupyter-chat\", \"number\": 16, \"org/repo\": \"jupyterlab/jupyter-chat\"}, {\"org\": \"jupyterlab\", \"repo\": \"jupyter-collaboration\", \"number\": 8, \"org/repo\": \"jupyterlab/jupyter-collaboration\"}, {\"org\": \"jupyterlab\", \"repo\": \"jupyterlab\", \"number\": 96, \"org/repo\": \"jupyterlab/jupyterlab\"}, {\"org\": \"jupyterlab\", \"repo\": \"jupyterlab-desktop\", \"number\": 1, \"org/repo\": \"jupyterlab/jupyterlab-desktop\"}, {\"org\": \"jupyterlab\", \"repo\": \"jupyterlab-git\", \"number\": 1, \"org/repo\": \"jupyterlab/jupyterlab-git\"}, {\"org\": \"jupyterlab\", \"repo\": \"jupyterlab_pygments\", \"number\": 4, \"org/repo\": \"jupyterlab/jupyterlab_pygments\"}, {\"org\": \"jupyterlab\", \"repo\": \"lumino\", \"number\": 2, \"org/repo\": \"jupyterlab/lumino\"}, {\"org\": \"jupyterlab\", \"repo\": \"maintainer-tools\", \"number\": 4, \"org/repo\": \"jupyterlab/maintainer-tools\"}]}}, {\"mode\": \"vega-lite\"});\n",
       "</script>"
      ],
      "text/plain": [
       "alt.Chart(...)"
      ]
     },
     "execution_count": 17,
     "metadata": {},
     "output_type": "execute_result"
    }
   ],
   "source": [
    "closed_counts = closed.groupby(['org', 'repo']).count()['number'].reset_index()\n",
    "closed_counts['org/repo'] = closed_counts.apply(lambda a: a['org'] + '/' + a['repo'], axis=1)\n",
    "sorted_vals = closed_counts.sort_values(['number'], ascending=False)['repo'].values\n",
    "alt.Chart(data=closed_counts, title=f\"Issues closed in the last {n_days} days\").mark_bar().encode(\n",
    "    x=alt.X('repo', sort=alt.Sort(sorted_vals.tolist())),\n",
    "    y='number',\n",
    ")"
   ]
  },
  {
   "cell_type": "code",
   "execution_count": 18,
   "id": "8969c7d3",
   "metadata": {
    "editable": true,
    "execution": {
     "iopub.execute_input": "2025-05-14T01:30:38.541209Z",
     "iopub.status.busy": "2025-05-14T01:30:38.541016Z",
     "iopub.status.idle": "2025-05-14T01:30:38.551019Z",
     "shell.execute_reply": "2025-05-14T01:30:38.550337Z"
    },
    "papermill": {
     "duration": 0.027873,
     "end_time": "2025-05-14T01:30:38.552107",
     "exception": false,
     "start_time": "2025-05-14T01:30:38.524234",
     "status": "completed"
    },
    "slideshow": {
     "slide_type": ""
    },
    "tags": [
     "remove_cell"
    ]
   },
   "outputs": [],
   "source": [
    "created_closed = pd.merge(created_counts.rename(columns={'number': 'created'}).drop(columns='org/repo'),\n",
    "                          closed_counts.rename(columns={'number': 'closed'}).drop(columns='org/repo'),\n",
    "                          on=['org', 'repo'], how='outer')\n",
    "\n",
    "created_closed = pd.melt(created_closed, id_vars=['org', 'repo'], var_name=\"kind\", value_name=\"count\").replace(np.nan, 0)"
   ]
  },
  {
   "cell_type": "code",
   "execution_count": 19,
   "id": "720c4194",
   "metadata": {
    "editable": true,
    "execution": {
     "iopub.execute_input": "2025-05-14T01:30:38.584084Z",
     "iopub.status.busy": "2025-05-14T01:30:38.583722Z",
     "iopub.status.idle": "2025-05-14T01:30:38.606271Z",
     "shell.execute_reply": "2025-05-14T01:30:38.605621Z"
    },
    "papermill": {
     "duration": 0.039769,
     "end_time": "2025-05-14T01:30:38.607375",
     "exception": false,
     "start_time": "2025-05-14T01:30:38.567606",
     "status": "completed"
    },
    "scrolled": true,
    "slideshow": {
     "slide_type": ""
    },
    "tags": [
     "hide_input"
    ]
   },
   "outputs": [
    {
     "data": {
      "text/html": [
       "\n",
       "<style>\n",
       "  #altair-viz-8da07d186fc644df8b3bbce2aed81bc7.vega-embed {\n",
       "    width: 100%;\n",
       "    display: flex;\n",
       "  }\n",
       "\n",
       "  #altair-viz-8da07d186fc644df8b3bbce2aed81bc7.vega-embed details,\n",
       "  #altair-viz-8da07d186fc644df8b3bbce2aed81bc7.vega-embed details summary {\n",
       "    position: relative;\n",
       "  }\n",
       "</style>\n",
       "<div id=\"altair-viz-8da07d186fc644df8b3bbce2aed81bc7\"></div>\n",
       "<script type=\"text/javascript\">\n",
       "  var VEGA_DEBUG = (typeof VEGA_DEBUG == \"undefined\") ? {} : VEGA_DEBUG;\n",
       "  (function(spec, embedOpt){\n",
       "    let outputDiv = document.currentScript.previousElementSibling;\n",
       "    if (outputDiv.id !== \"altair-viz-8da07d186fc644df8b3bbce2aed81bc7\") {\n",
       "      outputDiv = document.getElementById(\"altair-viz-8da07d186fc644df8b3bbce2aed81bc7\");\n",
       "    }\n",
       "\n",
       "    const paths = {\n",
       "      \"vega\": \"https://cdn.jsdelivr.net/npm/vega@5?noext\",\n",
       "      \"vega-lib\": \"https://cdn.jsdelivr.net/npm/vega-lib?noext\",\n",
       "      \"vega-lite\": \"https://cdn.jsdelivr.net/npm/vega-lite@5.20.1?noext\",\n",
       "      \"vega-embed\": \"https://cdn.jsdelivr.net/npm/vega-embed@6?noext\",\n",
       "    };\n",
       "\n",
       "    function maybeLoadScript(lib, version) {\n",
       "      var key = `${lib.replace(\"-\", \"\")}_version`;\n",
       "      return (VEGA_DEBUG[key] == version) ?\n",
       "        Promise.resolve(paths[lib]) :\n",
       "        new Promise(function(resolve, reject) {\n",
       "          var s = document.createElement('script');\n",
       "          document.getElementsByTagName(\"head\")[0].appendChild(s);\n",
       "          s.async = true;\n",
       "          s.onload = () => {\n",
       "            VEGA_DEBUG[key] = version;\n",
       "            return resolve(paths[lib]);\n",
       "          };\n",
       "          s.onerror = () => reject(`Error loading script: ${paths[lib]}`);\n",
       "          s.src = paths[lib];\n",
       "        });\n",
       "    }\n",
       "\n",
       "    function showError(err) {\n",
       "      outputDiv.innerHTML = `<div class=\"error\" style=\"color:red;\">${err}</div>`;\n",
       "      throw err;\n",
       "    }\n",
       "\n",
       "    function displayChart(vegaEmbed) {\n",
       "      vegaEmbed(outputDiv, spec, embedOpt)\n",
       "        .catch(err => showError(`Javascript Error: ${err.message}<br>This usually means there's a typo in your chart specification. See the javascript console for the full traceback.`));\n",
       "    }\n",
       "\n",
       "    if(typeof define === \"function\" && define.amd) {\n",
       "      requirejs.config({paths});\n",
       "      let deps = [\"vega-embed\"];\n",
       "      require(deps, displayChart, err => showError(`Error loading script: ${err.message}`));\n",
       "    } else {\n",
       "      maybeLoadScript(\"vega\", \"5\")\n",
       "        .then(() => maybeLoadScript(\"vega-lite\", \"5.20.1\"))\n",
       "        .then(() => maybeLoadScript(\"vega-embed\", \"6\"))\n",
       "        .catch(showError)\n",
       "        .then(() => displayChart(vegaEmbed));\n",
       "    }\n",
       "  })({\"config\": {\"axisLeft\": {\"labelFontSize\": 15}, \"axisBottom\": {\"labelFontSize\": 15}}, \"data\": {\"name\": \"data-221c87af64cfdca52b136aa5795027cf\"}, \"mark\": {\"type\": \"bar\"}, \"encoding\": {\"color\": {\"field\": \"kind\", \"type\": \"nominal\"}, \"column\": {\"field\": \"repo\", \"header\": {\"labelFontSize\": 12, \"title\": \"Issue activity, last 90 days for jupyterlab\", \"titleFontSize\": 15}, \"type\": \"nominal\"}, \"x\": {\"axis\": {\"labelFontSize\": 15, \"title\": \"\"}, \"field\": \"kind\", \"type\": \"nominal\"}, \"y\": {\"axis\": {\"labelFontSize\": 12, \"titleFontSize\": 15}, \"field\": \"count\", \"type\": \"quantitative\"}}, \"width\": 120, \"$schema\": \"https://vega.github.io/schema/vega-lite/v5.20.1.json\", \"datasets\": {\"data-221c87af64cfdca52b136aa5795027cf\": [{\"org\": \"jupyterlab\", \"repo\": \"extension-template\", \"kind\": \"created\", \"count\": 2.0}, {\"org\": \"jupyterlab\", \"repo\": \"jupyter-ai\", \"kind\": \"created\", \"count\": 24.0}, {\"org\": \"jupyterlab\", \"repo\": \"jupyter-chat\", \"kind\": \"created\", \"count\": 18.0}, {\"org\": \"jupyterlab\", \"repo\": \"jupyter-collaboration\", \"kind\": \"created\", \"count\": 6.0}, {\"org\": \"jupyterlab\", \"repo\": \"jupyterlab\", \"kind\": \"created\", \"count\": 63.0}, {\"org\": \"jupyterlab\", \"repo\": \"jupyterlab-desktop\", \"kind\": \"created\", \"count\": 6.0}, {\"org\": \"jupyterlab\", \"repo\": \"jupyterlab-git\", \"kind\": \"created\", \"count\": 4.0}, {\"org\": \"jupyterlab\", \"repo\": \"jupyterlab_pygments\", \"kind\": \"created\", \"count\": 0.0}, {\"org\": \"jupyterlab\", \"repo\": \"lumino\", \"kind\": \"created\", \"count\": 3.0}, {\"org\": \"jupyterlab\", \"repo\": \"maintainer-tools\", \"kind\": \"created\", \"count\": 0.0}, {\"org\": \"jupyterlab\", \"repo\": \"extension-template\", \"kind\": \"closed\", \"count\": 2.0}, {\"org\": \"jupyterlab\", \"repo\": \"jupyter-ai\", \"kind\": \"closed\", \"count\": 44.0}, {\"org\": \"jupyterlab\", \"repo\": \"jupyter-chat\", \"kind\": \"closed\", \"count\": 16.0}, {\"org\": \"jupyterlab\", \"repo\": \"jupyter-collaboration\", \"kind\": \"closed\", \"count\": 8.0}, {\"org\": \"jupyterlab\", \"repo\": \"jupyterlab\", \"kind\": \"closed\", \"count\": 96.0}, {\"org\": \"jupyterlab\", \"repo\": \"jupyterlab-desktop\", \"kind\": \"closed\", \"count\": 1.0}, {\"org\": \"jupyterlab\", \"repo\": \"jupyterlab-git\", \"kind\": \"closed\", \"count\": 1.0}, {\"org\": \"jupyterlab\", \"repo\": \"jupyterlab_pygments\", \"kind\": \"closed\", \"count\": 4.0}, {\"org\": \"jupyterlab\", \"repo\": \"lumino\", \"kind\": \"closed\", \"count\": 2.0}, {\"org\": \"jupyterlab\", \"repo\": \"maintainer-tools\", \"kind\": \"closed\", \"count\": 4.0}]}}, {\"mode\": \"vega-lite\"});\n",
       "</script>"
      ],
      "text/plain": [
       "alt.Chart(...)"
      ]
     },
     "execution_count": 19,
     "metadata": {},
     "output_type": "execute_result"
    }
   ],
   "source": [
    "charts = []\n",
    "# Pick the top 10 repositories\n",
    "top_repos = created_closed.groupby(['repo']).sum().sort_values(by='count', ascending=False).head(10).index\n",
    "ch = alt.Chart(created_closed.query('repo in @top_repos'), width=120).mark_bar().encode(\n",
    "    x=alt.X(\"kind\", axis=alt.Axis(labelFontSize=15, title=\"\")), \n",
    "    y=alt.Y('count', axis=alt.Axis(titleFontSize=15, labelFontSize=12)),\n",
    "    color='kind',\n",
    "    column=alt.Column(\"repo\", header=alt.Header(title=f\"Issue activity, last {n_days} days for {github_org}\", titleFontSize=15, labelFontSize=12))\n",
    ")\n",
    "ch"
   ]
  },
  {
   "cell_type": "code",
   "execution_count": 20,
   "id": "3882ddd5",
   "metadata": {
    "editable": true,
    "execution": {
     "iopub.execute_input": "2025-05-14T01:30:38.639945Z",
     "iopub.status.busy": "2025-05-14T01:30:38.639555Z",
     "iopub.status.idle": "2025-05-14T01:30:38.646842Z",
     "shell.execute_reply": "2025-05-14T01:30:38.646178Z"
    },
    "papermill": {
     "duration": 0.024701,
     "end_time": "2025-05-14T01:30:38.647868",
     "exception": false,
     "start_time": "2025-05-14T01:30:38.623167",
     "status": "completed"
    },
    "slideshow": {
     "slide_type": ""
    },
    "tags": [
     "remove_cell"
    ]
   },
   "outputs": [],
   "source": [
    "# Set to datetime\n",
    "for kind in ['created_at', 'closed_at']:\n",
    "    closed.loc[:, kind] = pd.to_datetime(closed[kind])\n",
    "    \n",
    "closed.loc[:, 'time_open'] = closed['closed_at'] - closed['created_at']\n",
    "closed.loc[:, 'time_open'] = closed['time_open'].dt.total_seconds()"
   ]
  },
  {
   "cell_type": "code",
   "execution_count": 21,
   "id": "c2c5c5f8",
   "metadata": {
    "editable": true,
    "execution": {
     "iopub.execute_input": "2025-05-14T01:30:38.681370Z",
     "iopub.status.busy": "2025-05-14T01:30:38.681173Z",
     "iopub.status.idle": "2025-05-14T01:30:38.699834Z",
     "shell.execute_reply": "2025-05-14T01:30:38.699149Z"
    },
    "papermill": {
     "duration": 0.036623,
     "end_time": "2025-05-14T01:30:38.700848",
     "exception": false,
     "start_time": "2025-05-14T01:30:38.664225",
     "status": "completed"
    },
    "slideshow": {
     "slide_type": ""
    },
    "tags": [
     "hide_input"
    ]
   },
   "outputs": [
    {
     "data": {
      "text/html": [
       "\n",
       "<style>\n",
       "  #altair-viz-76ce72b686ac415f9e51ebeda398ec36.vega-embed {\n",
       "    width: 100%;\n",
       "    display: flex;\n",
       "  }\n",
       "\n",
       "  #altair-viz-76ce72b686ac415f9e51ebeda398ec36.vega-embed details,\n",
       "  #altair-viz-76ce72b686ac415f9e51ebeda398ec36.vega-embed details summary {\n",
       "    position: relative;\n",
       "  }\n",
       "</style>\n",
       "<div id=\"altair-viz-76ce72b686ac415f9e51ebeda398ec36\"></div>\n",
       "<script type=\"text/javascript\">\n",
       "  var VEGA_DEBUG = (typeof VEGA_DEBUG == \"undefined\") ? {} : VEGA_DEBUG;\n",
       "  (function(spec, embedOpt){\n",
       "    let outputDiv = document.currentScript.previousElementSibling;\n",
       "    if (outputDiv.id !== \"altair-viz-76ce72b686ac415f9e51ebeda398ec36\") {\n",
       "      outputDiv = document.getElementById(\"altair-viz-76ce72b686ac415f9e51ebeda398ec36\");\n",
       "    }\n",
       "\n",
       "    const paths = {\n",
       "      \"vega\": \"https://cdn.jsdelivr.net/npm/vega@5?noext\",\n",
       "      \"vega-lib\": \"https://cdn.jsdelivr.net/npm/vega-lib?noext\",\n",
       "      \"vega-lite\": \"https://cdn.jsdelivr.net/npm/vega-lite@5.20.1?noext\",\n",
       "      \"vega-embed\": \"https://cdn.jsdelivr.net/npm/vega-embed@6?noext\",\n",
       "    };\n",
       "\n",
       "    function maybeLoadScript(lib, version) {\n",
       "      var key = `${lib.replace(\"-\", \"\")}_version`;\n",
       "      return (VEGA_DEBUG[key] == version) ?\n",
       "        Promise.resolve(paths[lib]) :\n",
       "        new Promise(function(resolve, reject) {\n",
       "          var s = document.createElement('script');\n",
       "          document.getElementsByTagName(\"head\")[0].appendChild(s);\n",
       "          s.async = true;\n",
       "          s.onload = () => {\n",
       "            VEGA_DEBUG[key] = version;\n",
       "            return resolve(paths[lib]);\n",
       "          };\n",
       "          s.onerror = () => reject(`Error loading script: ${paths[lib]}`);\n",
       "          s.src = paths[lib];\n",
       "        });\n",
       "    }\n",
       "\n",
       "    function showError(err) {\n",
       "      outputDiv.innerHTML = `<div class=\"error\" style=\"color:red;\">${err}</div>`;\n",
       "      throw err;\n",
       "    }\n",
       "\n",
       "    function displayChart(vegaEmbed) {\n",
       "      vegaEmbed(outputDiv, spec, embedOpt)\n",
       "        .catch(err => showError(`Javascript Error: ${err.message}<br>This usually means there's a typo in your chart specification. See the javascript console for the full traceback.`));\n",
       "    }\n",
       "\n",
       "    if(typeof define === \"function\" && define.amd) {\n",
       "      requirejs.config({paths});\n",
       "      let deps = [\"vega-embed\"];\n",
       "      require(deps, displayChart, err => showError(`Error loading script: ${err.message}`));\n",
       "    } else {\n",
       "      maybeLoadScript(\"vega\", \"5\")\n",
       "        .then(() => maybeLoadScript(\"vega-lite\", \"5.20.1\"))\n",
       "        .then(() => maybeLoadScript(\"vega-embed\", \"6\"))\n",
       "        .catch(showError)\n",
       "        .then(() => displayChart(vegaEmbed));\n",
       "    }\n",
       "  })({\"config\": {\"axisLeft\": {\"labelFontSize\": 15}, \"axisBottom\": {\"labelFontSize\": 15}}, \"data\": {\"name\": \"data-b8901ffa1913507db388276cc7a14c8f\"}, \"mark\": {\"type\": \"bar\"}, \"encoding\": {\"x\": {\"field\": \"repo\", \"sort\": [\"maintainer-tools\", \"jupyter-ai\", \"jupyter-chat\", \"jupyterlab\", \"jupyterlab-desktop\", \"lumino\", \"jupyter-collaboration\", \"extension-template\", \"jupyterlab_pygments\", \"frontends-team-compass\", \"jupyterlab-git\"], \"type\": \"nominal\"}, \"y\": {\"field\": \"time_open\", \"title\": \"Median Days Open\", \"type\": \"quantitative\"}}, \"title\": \"Time to close for issues closed in the last 90 days\", \"$schema\": \"https://vega.github.io/schema/vega-lite/v5.20.1.json\", \"datasets\": {\"data-b8901ffa1913507db388276cc7a14c8f\": [{\"org\": \"jupyterlab\", \"repo\": \"extension-template\", \"time_open\": 7.614774305555556, \"org/repo\": \"jupyterlab/extension-template\"}, {\"org\": \"jupyterlab\", \"repo\": \"frontends-team-compass\", \"time_open\": 0.00568287037037037, \"org/repo\": \"jupyterlab/frontends-team-compass\"}, {\"org\": \"jupyterlab\", \"repo\": \"jupyter-ai\", \"time_open\": 61.75816550925926, \"org/repo\": \"jupyterlab/jupyter-ai\"}, {\"org\": \"jupyterlab\", \"repo\": \"jupyter-chat\", \"time_open\": 26.823761574074073, \"org/repo\": \"jupyterlab/jupyter-chat\"}, {\"org\": \"jupyterlab\", \"repo\": \"jupyter-collaboration\", \"time_open\": 8.86011574074074, \"org/repo\": \"jupyterlab/jupyter-collaboration\"}, {\"org\": \"jupyterlab\", \"repo\": \"jupyterlab\", \"time_open\": 16.206857638888888, \"org/repo\": \"jupyterlab/jupyterlab\"}, {\"org\": \"jupyterlab\", \"repo\": \"jupyterlab-desktop\", \"time_open\": 15.044201388888888, \"org/repo\": \"jupyterlab/jupyterlab-desktop\"}, {\"org\": \"jupyterlab\", \"repo\": \"jupyterlab-git\", \"time_open\": 0.0005671296296296297, \"org/repo\": \"jupyterlab/jupyterlab-git\"}, {\"org\": \"jupyterlab\", \"repo\": \"jupyterlab_pygments\", \"time_open\": 0.22354166666666667, \"org/repo\": \"jupyterlab/jupyterlab_pygments\"}, {\"org\": \"jupyterlab\", \"repo\": \"lumino\", \"time_open\": 14.997633101851852, \"org/repo\": \"jupyterlab/lumino\"}, {\"org\": \"jupyterlab\", \"repo\": \"maintainer-tools\", \"time_open\": 448.97394675925926, \"org/repo\": \"jupyterlab/maintainer-tools\"}]}}, {\"mode\": \"vega-lite\"});\n",
       "</script>"
      ],
      "text/plain": [
       "alt.Chart(...)"
      ]
     },
     "execution_count": 21,
     "metadata": {},
     "output_type": "execute_result"
    }
   ],
   "source": [
    "time_open = closed.groupby(['org', 'repo']).agg({'time_open': 'median'}).reset_index()\n",
    "time_open['time_open'] = time_open['time_open'] / (60 * 60 * 24)\n",
    "time_open['org/repo'] = time_open.apply(lambda a: a['org'] + '/' + a['repo'], axis=1)\n",
    "sorted_vals = time_open.sort_values(['org', 'time_open'], ascending=False)['repo'].values\n",
    "alt.Chart(data=time_open, title=f\"Time to close for issues closed in the last {n_days} days\").mark_bar().encode(\n",
    "    x=alt.X('repo', sort=alt.Sort(sorted_vals.tolist())),\n",
    "    y=alt.Y('time_open', title=\"Median Days Open\"),\n",
    ")"
   ]
  },
  {
   "cell_type": "markdown",
   "id": "ef3c766a",
   "metadata": {
    "editable": true,
    "papermill": {
     "duration": 0.015853,
     "end_time": "2025-05-14T01:30:38.732729",
     "exception": false,
     "start_time": "2025-05-14T01:30:38.716876",
     "status": "completed"
    },
    "slideshow": {
     "slide_type": ""
    },
    "tags": []
   },
   "source": [
    "## Most-upvoted issues"
   ]
  },
  {
   "cell_type": "code",
   "execution_count": 22,
   "id": "33206bd4",
   "metadata": {
    "editable": true,
    "execution": {
     "iopub.execute_input": "2025-05-14T01:30:38.765338Z",
     "iopub.status.busy": "2025-05-14T01:30:38.765157Z",
     "iopub.status.idle": "2025-05-14T01:30:38.790870Z",
     "shell.execute_reply": "2025-05-14T01:30:38.790203Z"
    },
    "papermill": {
     "duration": 0.043271,
     "end_time": "2025-05-14T01:30:38.791917",
     "exception": false,
     "start_time": "2025-05-14T01:30:38.748646",
     "status": "completed"
    },
    "slideshow": {
     "slide_type": ""
    },
    "tags": [
     "hide_input"
    ]
   },
   "outputs": [
    {
     "data": {
      "application/vnd.jupyter.widget-view+json": {
       "model_id": "af4f3153005542f09a4826bc505908f3",
       "version_major": 2,
       "version_minor": 0
      },
      "text/plain": [
       "HTML(value='<ul>\\n<li>(117) Implement variable inspector for kernels - jupyterlab - <a href=\"https://github.co…"
      ]
     },
     "execution_count": 22,
     "metadata": {},
     "output_type": "execute_result"
    }
   ],
   "source": [
    "thumbsup = issues.query(\"state == 'open'\").sort_values(\"positive\", ascending=False).head(25)\n",
    "thumbsup = thumbsup[[\"title\", \"url\", \"number\", \"positive\", \"repo\"]]\n",
    "\n",
    "text = []\n",
    "for ii, irow in thumbsup.iterrows():\n",
    "    itext = f\"- ({irow['positive']}) {irow['title']} - {irow['repo']} - [#{irow['number']}]({irow['url']})\"\n",
    "    text.append(itext)\n",
    "text = '\\n'.join(text)\n",
    "HTML(markdown(text))"
   ]
  },
  {
   "cell_type": "markdown",
   "id": "0cfab4a3",
   "metadata": {
    "editable": true,
    "papermill": {
     "duration": 0.016954,
     "end_time": "2025-05-14T01:30:38.825934",
     "exception": false,
     "start_time": "2025-05-14T01:30:38.808980",
     "status": "completed"
    },
    "slideshow": {
     "slide_type": ""
    },
    "tags": []
   },
   "source": [
    "## Commenters across repositories\n",
    "\n",
    "These are commenters across all issues and pull requests in the last several days.\n",
    "These are colored by the commenter's association with the organization. For information\n",
    "about what these associations mean, [see this StackOverflow post](https://stackoverflow.com/a/28866914/1927102)."
   ]
  },
  {
   "cell_type": "code",
   "execution_count": 23,
   "id": "ee03fd4b",
   "metadata": {
    "editable": true,
    "execution": {
     "iopub.execute_input": "2025-05-14T01:30:38.859247Z",
     "iopub.status.busy": "2025-05-14T01:30:38.859050Z",
     "iopub.status.idle": "2025-05-14T01:30:38.871024Z",
     "shell.execute_reply": "2025-05-14T01:30:38.870492Z"
    },
    "papermill": {
     "duration": 0.029723,
     "end_time": "2025-05-14T01:30:38.872084",
     "exception": false,
     "start_time": "2025-05-14T01:30:38.842361",
     "status": "completed"
    },
    "slideshow": {
     "slide_type": ""
    },
    "tags": [
     "remove_cell"
    ]
   },
   "outputs": [],
   "source": [
    "commentors = (\n",
    "    comments\n",
    "    .query(\"created_at > @start_date and created_at < @stop_date\")\n",
    "    .groupby(['org', 'repo', 'login', 'author_association'])\n",
    "    .count().rename(columns={'id_issue': 'count'})['count']\n",
    "    .reset_index()\n",
    "    .sort_values(['org', 'count'], ascending=False)\n",
    ")"
   ]
  },
  {
   "cell_type": "code",
   "execution_count": 24,
   "id": "3937e064",
   "metadata": {
    "editable": true,
    "execution": {
     "iopub.execute_input": "2025-05-14T01:30:38.905775Z",
     "iopub.status.busy": "2025-05-14T01:30:38.905353Z",
     "iopub.status.idle": "2025-05-14T01:30:38.929864Z",
     "shell.execute_reply": "2025-05-14T01:30:38.929340Z"
    },
    "papermill": {
     "duration": 0.042566,
     "end_time": "2025-05-14T01:30:38.930932",
     "exception": false,
     "start_time": "2025-05-14T01:30:38.888366",
     "status": "completed"
    },
    "slideshow": {
     "slide_type": ""
    },
    "tags": [
     "hide_input"
    ]
   },
   "outputs": [
    {
     "data": {
      "text/html": [
       "\n",
       "<style>\n",
       "  #altair-viz-fe72baef559d43de8ff1587bbe59572d.vega-embed {\n",
       "    width: 100%;\n",
       "    display: flex;\n",
       "  }\n",
       "\n",
       "  #altair-viz-fe72baef559d43de8ff1587bbe59572d.vega-embed details,\n",
       "  #altair-viz-fe72baef559d43de8ff1587bbe59572d.vega-embed details summary {\n",
       "    position: relative;\n",
       "  }\n",
       "</style>\n",
       "<div id=\"altair-viz-fe72baef559d43de8ff1587bbe59572d\"></div>\n",
       "<script type=\"text/javascript\">\n",
       "  var VEGA_DEBUG = (typeof VEGA_DEBUG == \"undefined\") ? {} : VEGA_DEBUG;\n",
       "  (function(spec, embedOpt){\n",
       "    let outputDiv = document.currentScript.previousElementSibling;\n",
       "    if (outputDiv.id !== \"altair-viz-fe72baef559d43de8ff1587bbe59572d\") {\n",
       "      outputDiv = document.getElementById(\"altair-viz-fe72baef559d43de8ff1587bbe59572d\");\n",
       "    }\n",
       "\n",
       "    const paths = {\n",
       "      \"vega\": \"https://cdn.jsdelivr.net/npm/vega@5?noext\",\n",
       "      \"vega-lib\": \"https://cdn.jsdelivr.net/npm/vega-lib?noext\",\n",
       "      \"vega-lite\": \"https://cdn.jsdelivr.net/npm/vega-lite@5.20.1?noext\",\n",
       "      \"vega-embed\": \"https://cdn.jsdelivr.net/npm/vega-embed@6?noext\",\n",
       "    };\n",
       "\n",
       "    function maybeLoadScript(lib, version) {\n",
       "      var key = `${lib.replace(\"-\", \"\")}_version`;\n",
       "      return (VEGA_DEBUG[key] == version) ?\n",
       "        Promise.resolve(paths[lib]) :\n",
       "        new Promise(function(resolve, reject) {\n",
       "          var s = document.createElement('script');\n",
       "          document.getElementsByTagName(\"head\")[0].appendChild(s);\n",
       "          s.async = true;\n",
       "          s.onload = () => {\n",
       "            VEGA_DEBUG[key] = version;\n",
       "            return resolve(paths[lib]);\n",
       "          };\n",
       "          s.onerror = () => reject(`Error loading script: ${paths[lib]}`);\n",
       "          s.src = paths[lib];\n",
       "        });\n",
       "    }\n",
       "\n",
       "    function showError(err) {\n",
       "      outputDiv.innerHTML = `<div class=\"error\" style=\"color:red;\">${err}</div>`;\n",
       "      throw err;\n",
       "    }\n",
       "\n",
       "    function displayChart(vegaEmbed) {\n",
       "      vegaEmbed(outputDiv, spec, embedOpt)\n",
       "        .catch(err => showError(`Javascript Error: ${err.message}<br>This usually means there's a typo in your chart specification. See the javascript console for the full traceback.`));\n",
       "    }\n",
       "\n",
       "    if(typeof define === \"function\" && define.amd) {\n",
       "      requirejs.config({paths});\n",
       "      let deps = [\"vega-embed\"];\n",
       "      require(deps, displayChart, err => showError(`Error loading script: ${err.message}`));\n",
       "    } else {\n",
       "      maybeLoadScript(\"vega\", \"5\")\n",
       "        .then(() => maybeLoadScript(\"vega-lite\", \"5.20.1\"))\n",
       "        .then(() => maybeLoadScript(\"vega-embed\", \"6\"))\n",
       "        .catch(showError)\n",
       "        .then(() => displayChart(vegaEmbed));\n",
       "    }\n",
       "  })({\"config\": {\"axisLeft\": {\"labelFontSize\": 15}, \"axisBottom\": {\"labelFontSize\": 15}}, \"hconcat\": [{\"mark\": {\"type\": \"bar\"}, \"encoding\": {\"color\": {\"field\": \"author_association\", \"scale\": {\"domain\": [\"MEMBER\", \"CONTRIBUTOR\", \"COLLABORATOR\", \"NONE\"], \"range\": [\"rgb(211.82745098039214, 211.82745098039214, 211.82745098039214)\", \"rgb(166.98562091503268, 229.89803921568628, 166.98562091503268)\", \"rgb(96.37647058823529, 192.75294117647059, 96.37647058823529)\", \"rgb(0.0, 100.3921568627451, 0.0)\"]}, \"type\": \"nominal\"}, \"x\": {\"field\": \"login\", \"type\": \"nominal\"}, \"y\": {\"field\": \"count\", \"type\": \"quantitative\"}}, \"title\": \"Top 50 commentors for ('jupyterlab',) in the last 90 days\"}], \"data\": {\"name\": \"data-3f6e5fc7f3caa811ab9a1c55cec62d70\"}, \"$schema\": \"https://vega.github.io/schema/vega-lite/v5.20.1.json\", \"datasets\": {\"data-3f6e5fc7f3caa811ab9a1c55cec62d70\": [{\"login\": \"lewisl\", \"count\": 4, \"author_association\": \"NONE\"}, {\"login\": \"jiridanek\", \"count\": 4, \"author_association\": \"NONE\"}, {\"login\": \"RRosio\", \"count\": 3, \"author_association\": \"MEMBER\"}, {\"login\": \"andrii-i\", \"count\": 3, \"author_association\": \"MEMBER\"}, {\"login\": \"ctcjab\", \"count\": 2, \"author_association\": \"NONE\"}, {\"login\": \"danyeaw\", \"count\": 2, \"author_association\": \"MEMBER\"}, {\"login\": \"mbektas\", \"count\": 2, \"author_association\": \"MEMBER\"}, {\"login\": \"mreisbeck2\", \"count\": 2, \"author_association\": \"NONE\"}, {\"login\": \"krassowski\", \"count\": 2, \"author_association\": \"MEMBER\"}, {\"login\": \"kburchfiel\", \"count\": 2, \"author_association\": \"NONE\"}, {\"login\": \"BigFlagBurito\", \"count\": 2, \"author_association\": \"NONE\"}, {\"login\": \"Ahri-man\", \"count\": 2, \"author_association\": \"NONE\"}, {\"login\": \"beniroquai\", \"count\": 1, \"author_association\": \"NONE\"}, {\"login\": \"bertini97\", \"count\": 1, \"author_association\": \"NONE\"}, {\"login\": \"afshin\", \"count\": 1, \"author_association\": \"MEMBER\"}, {\"login\": \"applutan\", \"count\": 1, \"author_association\": \"NONE\"}, {\"login\": \"RaphaelPorcherot\", \"count\": 1, \"author_association\": \"NONE\"}, {\"login\": \"Carreau\", \"count\": 1, \"author_association\": \"MEMBER\"}, {\"login\": \"jtpio\", \"count\": 1, \"author_association\": \"MEMBER\"}, {\"login\": \"jesuino\", \"count\": 1, \"author_association\": \"NONE\"}, {\"login\": \"kundeng\", \"count\": 1, \"author_association\": \"NONE\"}, {\"login\": \"dogganon\", \"count\": 1, \"author_association\": \"NONE\"}, {\"login\": \"mateMathieu\", \"count\": 1, \"author_association\": \"NONE\"}, {\"login\": \"lucaslrodri\", \"count\": 1, \"author_association\": \"NONE\"}, {\"login\": \"maxwacker\", \"count\": 1, \"author_association\": \"NONE\"}, {\"login\": \"oscar6echo\", \"count\": 1, \"author_association\": \"NONE\"}, {\"login\": \"rvalenzuelar\", \"count\": 1, \"author_association\": \"NONE\"}, {\"login\": \"shmIuser44\", \"count\": 1, \"author_association\": \"NONE\"}]}}, {\"mode\": \"vega-lite\"});\n",
       "</script>"
      ],
      "text/plain": [
       "alt.HConcatChart(...)"
      ]
     },
     "execution_count": 24,
     "metadata": {},
     "output_type": "execute_result"
    }
   ],
   "source": [
    "n_plot = 50\n",
    "charts = []\n",
    "for ii, (iorg, idata) in enumerate(commentors.groupby(['org'])):\n",
    "    title = f\"Top {n_plot} commentors for {iorg} in the last {n_days} days\"\n",
    "    idata = idata.groupby('login', as_index=False).agg({'count': 'sum', 'author_association': 'first'})\n",
    "    idata = idata.sort_values('count', ascending=False).head(n_plot)\n",
    "    ch = alt.Chart(data=idata.head(n_plot), title=title).mark_bar().encode(\n",
    "        x='login',\n",
    "        y='count',\n",
    "        color=alt.Color('author_association', scale=alt.Scale(domain=author_types, range=author_colors))\n",
    "    )\n",
    "    charts.append(ch)\n",
    "alt.hconcat(*charts)"
   ]
  },
  {
   "cell_type": "markdown",
   "id": "c839888d",
   "metadata": {
    "editable": true,
    "papermill": {
     "duration": 0.0169,
     "end_time": "2025-05-14T01:30:38.964906",
     "exception": false,
     "start_time": "2025-05-14T01:30:38.948006",
     "status": "completed"
    },
    "slideshow": {
     "slide_type": ""
    },
    "tags": []
   },
   "source": [
    "## First responders\n",
    "\n",
    "First responders are the first people to respond to a new issue in one of the repositories.\n",
    "The following plots show first responders for recently-created issues."
   ]
  },
  {
   "cell_type": "code",
   "execution_count": 25,
   "id": "ac95b7d9",
   "metadata": {
    "editable": true,
    "execution": {
     "iopub.execute_input": "2025-05-14T01:30:38.998827Z",
     "iopub.status.busy": "2025-05-14T01:30:38.998389Z",
     "iopub.status.idle": "2025-05-14T01:30:39.017634Z",
     "shell.execute_reply": "2025-05-14T01:30:39.016974Z"
    },
    "papermill": {
     "duration": 0.037528,
     "end_time": "2025-05-14T01:30:39.018894",
     "exception": false,
     "start_time": "2025-05-14T01:30:38.981366",
     "status": "completed"
    },
    "slideshow": {
     "slide_type": ""
    },
    "tags": [
     "remove_cell"
    ]
   },
   "outputs": [],
   "source": [
    "first_comments = []\n",
    "latest_comments = comments.query(\"created_at > @start_date\")\n",
    "for (org, repo, issue_id), i_comments in latest_comments.groupby(['org', 'repo', 'id_issue']):\n",
    "    ix_min = pd.to_datetime(i_comments['created_at']).idxmin()\n",
    "    first_comment = i_comments.loc[ix_min]\n",
    "    if isinstance(first_comment, pd.DataFrame):\n",
    "        first_comment = first_comment.iloc[0]\n",
    "    first_comments.append(first_comment)\n",
    "first_comments = pd.concat(first_comments, axis=1).T\n",
    "\n",
    "# Make up counts for viz\n",
    "first_responder_counts = first_comments.groupby(['org', 'login', 'author_association'], as_index=False).\\\n",
    "    count().rename(columns={'id_issue': 'n_first_responses'}).sort_values(['org', 'n_first_responses'], ascending=False)\n"
   ]
  },
  {
   "cell_type": "code",
   "execution_count": 26,
   "id": "4c15ad88",
   "metadata": {
    "editable": true,
    "execution": {
     "iopub.execute_input": "2025-05-14T01:30:39.052566Z",
     "iopub.status.busy": "2025-05-14T01:30:39.052372Z",
     "iopub.status.idle": "2025-05-14T01:30:39.074367Z",
     "shell.execute_reply": "2025-05-14T01:30:39.073821Z"
    },
    "papermill": {
     "duration": 0.03994,
     "end_time": "2025-05-14T01:30:39.075317",
     "exception": false,
     "start_time": "2025-05-14T01:30:39.035377",
     "status": "completed"
    },
    "slideshow": {
     "slide_type": ""
    },
    "tags": [
     "hide_input"
    ]
   },
   "outputs": [
    {
     "data": {
      "text/html": [
       "\n",
       "<style>\n",
       "  #altair-viz-528ed1527aed4d0982cdd039c570d12b.vega-embed {\n",
       "    width: 100%;\n",
       "    display: flex;\n",
       "  }\n",
       "\n",
       "  #altair-viz-528ed1527aed4d0982cdd039c570d12b.vega-embed details,\n",
       "  #altair-viz-528ed1527aed4d0982cdd039c570d12b.vega-embed details summary {\n",
       "    position: relative;\n",
       "  }\n",
       "</style>\n",
       "<div id=\"altair-viz-528ed1527aed4d0982cdd039c570d12b\"></div>\n",
       "<script type=\"text/javascript\">\n",
       "  var VEGA_DEBUG = (typeof VEGA_DEBUG == \"undefined\") ? {} : VEGA_DEBUG;\n",
       "  (function(spec, embedOpt){\n",
       "    let outputDiv = document.currentScript.previousElementSibling;\n",
       "    if (outputDiv.id !== \"altair-viz-528ed1527aed4d0982cdd039c570d12b\") {\n",
       "      outputDiv = document.getElementById(\"altair-viz-528ed1527aed4d0982cdd039c570d12b\");\n",
       "    }\n",
       "\n",
       "    const paths = {\n",
       "      \"vega\": \"https://cdn.jsdelivr.net/npm/vega@5?noext\",\n",
       "      \"vega-lib\": \"https://cdn.jsdelivr.net/npm/vega-lib?noext\",\n",
       "      \"vega-lite\": \"https://cdn.jsdelivr.net/npm/vega-lite@5.20.1?noext\",\n",
       "      \"vega-embed\": \"https://cdn.jsdelivr.net/npm/vega-embed@6?noext\",\n",
       "    };\n",
       "\n",
       "    function maybeLoadScript(lib, version) {\n",
       "      var key = `${lib.replace(\"-\", \"\")}_version`;\n",
       "      return (VEGA_DEBUG[key] == version) ?\n",
       "        Promise.resolve(paths[lib]) :\n",
       "        new Promise(function(resolve, reject) {\n",
       "          var s = document.createElement('script');\n",
       "          document.getElementsByTagName(\"head\")[0].appendChild(s);\n",
       "          s.async = true;\n",
       "          s.onload = () => {\n",
       "            VEGA_DEBUG[key] = version;\n",
       "            return resolve(paths[lib]);\n",
       "          };\n",
       "          s.onerror = () => reject(`Error loading script: ${paths[lib]}`);\n",
       "          s.src = paths[lib];\n",
       "        });\n",
       "    }\n",
       "\n",
       "    function showError(err) {\n",
       "      outputDiv.innerHTML = `<div class=\"error\" style=\"color:red;\">${err}</div>`;\n",
       "      throw err;\n",
       "    }\n",
       "\n",
       "    function displayChart(vegaEmbed) {\n",
       "      vegaEmbed(outputDiv, spec, embedOpt)\n",
       "        .catch(err => showError(`Javascript Error: ${err.message}<br>This usually means there's a typo in your chart specification. See the javascript console for the full traceback.`));\n",
       "    }\n",
       "\n",
       "    if(typeof define === \"function\" && define.amd) {\n",
       "      requirejs.config({paths});\n",
       "      let deps = [\"vega-embed\"];\n",
       "      require(deps, displayChart, err => showError(`Error loading script: ${err.message}`));\n",
       "    } else {\n",
       "      maybeLoadScript(\"vega\", \"5\")\n",
       "        .then(() => maybeLoadScript(\"vega-lite\", \"5.20.1\"))\n",
       "        .then(() => maybeLoadScript(\"vega-embed\", \"6\"))\n",
       "        .catch(showError)\n",
       "        .then(() => displayChart(vegaEmbed));\n",
       "    }\n",
       "  })({\"config\": {\"axisLeft\": {\"labelFontSize\": 15}, \"axisBottom\": {\"labelFontSize\": 15}}, \"data\": {\"name\": \"data-50ed0018187828cc17c39424ac6366cb\"}, \"mark\": {\"type\": \"bar\"}, \"encoding\": {\"color\": {\"field\": \"author_association\", \"scale\": {\"domain\": [\"MEMBER\", \"CONTRIBUTOR\", \"COLLABORATOR\", \"NONE\"], \"range\": [\"rgb(211.82745098039214, 211.82745098039214, 211.82745098039214)\", \"rgb(166.98562091503268, 229.89803921568628, 166.98562091503268)\", \"rgb(96.37647058823529, 192.75294117647059, 96.37647058823529)\", \"rgb(0.0, 100.3921568627451, 0.0)\"]}, \"type\": \"nominal\"}, \"x\": {\"field\": \"login\", \"type\": \"nominal\"}, \"y\": {\"field\": \"n_first_responses\", \"type\": \"quantitative\"}}, \"title\": \"Top 50 first responders for jupyterlab in the last 90 days\", \"$schema\": \"https://vega.github.io/schema/vega-lite/v5.20.1.json\", \"datasets\": {\"data-50ed0018187828cc17c39424ac6366cb\": [{\"login\": \"andrii-i\", \"n_first_responses\": 2, \"author_association\": \"MEMBER\"}, {\"login\": \"BigFlagBurito\", \"n_first_responses\": 1, \"author_association\": \"NONE\"}, {\"login\": \"RRosio\", \"n_first_responses\": 1, \"author_association\": \"MEMBER\"}, {\"login\": \"RaphaelPorcherot\", \"n_first_responses\": 1, \"author_association\": \"NONE\"}, {\"login\": \"beniroquai\", \"n_first_responses\": 1, \"author_association\": \"NONE\"}, {\"login\": \"bertini97\", \"n_first_responses\": 1, \"author_association\": \"NONE\"}, {\"login\": \"jesuino\", \"n_first_responses\": 1, \"author_association\": \"NONE\"}, {\"login\": \"jtpio\", \"n_first_responses\": 1, \"author_association\": \"MEMBER\"}, {\"login\": \"kburchfiel\", \"n_first_responses\": 1, \"author_association\": \"NONE\"}, {\"login\": \"kundeng\", \"n_first_responses\": 1, \"author_association\": \"NONE\"}, {\"login\": \"lucaslrodri\", \"n_first_responses\": 1, \"author_association\": \"NONE\"}, {\"login\": \"mateMathieu\", \"n_first_responses\": 1, \"author_association\": \"NONE\"}, {\"login\": \"maxwacker\", \"n_first_responses\": 1, \"author_association\": \"NONE\"}, {\"login\": \"mreisbeck2\", \"n_first_responses\": 1, \"author_association\": \"NONE\"}, {\"login\": \"oscar6echo\", \"n_first_responses\": 1, \"author_association\": \"NONE\"}, {\"login\": \"rvalenzuelar\", \"n_first_responses\": 1, \"author_association\": \"NONE\"}]}}, {\"mode\": \"vega-lite\"});\n",
       "</script>"
      ],
      "text/plain": [
       "alt.Chart(...)"
      ]
     },
     "execution_count": 26,
     "metadata": {},
     "output_type": "execute_result"
    }
   ],
   "source": [
    "n_plot = 50\n",
    "\n",
    "title = f\"Top {n_plot} first responders for {github_org} in the last {n_days} days\"\n",
    "idata = first_responder_counts.groupby('login', as_index=False).agg({'n_first_responses': 'sum', 'author_association': 'first'})\n",
    "idata = idata.sort_values('n_first_responses', ascending=False).head(n_plot)\n",
    "ch = alt.Chart(data=idata.head(n_plot), title=title).mark_bar().encode(\n",
    "    x='login',\n",
    "    y='n_first_responses',\n",
    "    color=alt.Color('author_association', scale=alt.Scale(domain=author_types, range=author_colors))\n",
    ")\n",
    "ch"
   ]
  },
  {
   "cell_type": "markdown",
   "id": "df753346",
   "metadata": {
    "editable": true,
    "papermill": {
     "duration": 0.017766,
     "end_time": "2025-05-14T01:30:39.110371",
     "exception": false,
     "start_time": "2025-05-14T01:30:39.092605",
     "status": "completed"
    },
    "slideshow": {
     "slide_type": ""
    },
    "tags": []
   },
   "source": [
    "## Recent activity\n",
    "\n",
    "### A list of merged PRs by project\n",
    "\n",
    "Below is a tabbed readout of recently-merged PRs. Check out the title to get an idea for what they\n",
    "implemented, and be sure to thank the PR author for their hard work!"
   ]
  },
  {
   "cell_type": "code",
   "execution_count": 27,
   "id": "4057764e",
   "metadata": {
    "editable": true,
    "execution": {
     "iopub.execute_input": "2025-05-14T01:30:39.144655Z",
     "iopub.status.busy": "2025-05-14T01:30:39.144285Z",
     "iopub.status.idle": "2025-05-14T01:30:39.257143Z",
     "shell.execute_reply": "2025-05-14T01:30:39.256468Z"
    },
    "papermill": {
     "duration": 0.132714,
     "end_time": "2025-05-14T01:30:39.259738",
     "exception": false,
     "start_time": "2025-05-14T01:30:39.127024",
     "status": "completed"
    },
    "slideshow": {
     "slide_type": ""
    },
    "tags": [
     "hide_input"
    ]
   },
   "outputs": [
    {
     "data": {
      "application/vnd.jupyter.widget-view+json": {
       "model_id": "a633f003da364d52876c20adbb5168ea",
       "version_major": 2,
       "version_minor": 0
      },
      "text/plain": [
       "Tab(children=(HTML(value='<h4>Closed PRs for repo: <a href=\"https://github.com/jupyterlab/jupyter-renderers\">j…"
      ]
     },
     "execution_count": 27,
     "metadata": {},
     "output_type": "execute_result"
    }
   ],
   "source": [
    "tabs = widgets.Tab(children=[])\n",
    "\n",
    "for ii, ((org, repo), imerged) in enumerate(merged.query(\"repo in @use_repos\").groupby(['org', 'repo'])):\n",
    "    merged_by = {}\n",
    "    pr_by = {}\n",
    "    issue_md = []\n",
    "    issue_md.append(f\"#### Closed PRs for repo: [{org}/{repo}](https://github.com/{github_org}/{repo})\")\n",
    "    issue_md.append(\"\")\n",
    "    issue_md.append(f\"##### \")\n",
    "\n",
    "    for _, ipr in imerged.iterrows():\n",
    "        user_name = ipr['login']\n",
    "        user_url = author_url(user_name)\n",
    "        pr_number = ipr['number']\n",
    "        pr_html = ipr['url']\n",
    "        pr_title = ipr['title']\n",
    "        pr_closedby = ipr['merged_by']\n",
    "        pr_closedby_url = f\"https://github.com/{pr_closedby}\"\n",
    "        if user_name not in pr_by:\n",
    "            pr_by[user_name] = 1\n",
    "        else:\n",
    "            pr_by[user_name] += 1\n",
    "\n",
    "        if pr_closedby not in merged_by:\n",
    "            merged_by[pr_closedby] = 1\n",
    "        else:\n",
    "            merged_by[pr_closedby] += 1\n",
    "        text = f\"* [(#{pr_number})]({pr_html}): _{pr_title}_ by **[@{user_name}]({user_url})** merged by **[@{pr_closedby}]({pr_closedby_url})**\"\n",
    "        issue_md.append(text)\n",
    "    \n",
    "    issue_md.append('')\n",
    "    markdown_html = markdown('\\n'.join(issue_md))\n",
    "\n",
    "    children = list(tabs.children)\n",
    "    children.append(HTML(markdown_html))\n",
    "    tabs.children = tuple(children)\n",
    "    tabs.set_title(ii, repo)\n",
    "tabs"
   ]
  },
  {
   "cell_type": "markdown",
   "id": "c0c0ef62",
   "metadata": {
    "editable": true,
    "papermill": {
     "duration": 0.016888,
     "end_time": "2025-05-14T01:30:39.293528",
     "exception": false,
     "start_time": "2025-05-14T01:30:39.276640",
     "status": "completed"
    },
    "slideshow": {
     "slide_type": ""
    },
    "tags": []
   },
   "source": [
    "### A list of recent issues\n",
    "\n",
    "Below is a list of issues with recent activity in each repository. If they seem of interest\n",
    "to you, click on their links and jump in to participate!"
   ]
  },
  {
   "cell_type": "code",
   "execution_count": 28,
   "id": "a896b3f5",
   "metadata": {
    "editable": true,
    "execution": {
     "iopub.execute_input": "2025-05-14T01:30:39.329387Z",
     "iopub.status.busy": "2025-05-14T01:30:39.328991Z",
     "iopub.status.idle": "2025-05-14T01:30:39.339117Z",
     "shell.execute_reply": "2025-05-14T01:30:39.338458Z"
    },
    "papermill": {
     "duration": 0.029132,
     "end_time": "2025-05-14T01:30:39.340114",
     "exception": false,
     "start_time": "2025-05-14T01:30:39.310982",
     "status": "completed"
    },
    "slideshow": {
     "slide_type": ""
    },
    "tags": [
     "remove_cell"
    ]
   },
   "outputs": [],
   "source": [
    "# Add comment count data to issues and PRs\n",
    "comment_counts = (\n",
    "    comments\n",
    "    .query(\"created_at > @start_date and created_at < @stop_date\")\n",
    "    .groupby(['org', 'repo', 'id_issue'])\n",
    "    .count().iloc[:, 0].to_frame()\n",
    ")\n",
    "comment_counts.columns = ['n_comments']\n",
    "comment_counts = comment_counts.reset_index()"
   ]
  },
  {
   "cell_type": "code",
   "execution_count": 29,
   "id": "e99a5bf0",
   "metadata": {
    "editable": true,
    "execution": {
     "iopub.execute_input": "2025-05-14T01:30:39.374646Z",
     "iopub.status.busy": "2025-05-14T01:30:39.374227Z",
     "iopub.status.idle": "2025-05-14T01:30:39.421932Z",
     "shell.execute_reply": "2025-05-14T01:30:39.421254Z"
    },
    "papermill": {
     "duration": 0.066151,
     "end_time": "2025-05-14T01:30:39.422973",
     "exception": false,
     "start_time": "2025-05-14T01:30:39.356822",
     "status": "completed"
    },
    "slideshow": {
     "slide_type": ""
    },
    "tags": [
     "hide_input"
    ],
    "toc-hr-collapsed": false
   },
   "outputs": [
    {
     "data": {
      "text/markdown": [
       "Here are the top 5 active issues in each repository in the last 90 days"
      ],
      "text/plain": [
       "<IPython.core.display.Markdown object>"
      ]
     },
     "metadata": {},
     "output_type": "display_data"
    },
    {
     "data": {
      "application/vnd.jupyter.widget-view+json": {
       "model_id": "d6744cc126664c05ba8477bfe4b121da",
       "version_major": 2,
       "version_minor": 0
      },
      "text/plain": [
       "Tab(children=(HTML(value='<h5><a href=\"https://github.com/jupyterlab/jupyterlab-desktop\">jupyterlab/jupyterlab…"
      ]
     },
     "metadata": {},
     "output_type": "display_data"
    }
   ],
   "source": [
    "n_plot = 5\n",
    "tabs = widgets.Tab(children=[])\n",
    "\n",
    "for ii, (repo, i_issues) in enumerate(comment_counts.query(\"repo in @use_repos\").groupby('repo')):\n",
    "    \n",
    "    issue_md = []\n",
    "    issue_md.append(\"\")\n",
    "    issue_md.append(f\"##### [{github_org}/{repo}](https://github.com/{github_org}/{repo})\")\n",
    "\n",
    "    top_issues = i_issues.sort_values('n_comments', ascending=False).head(n_plot)\n",
    "    top_issue_list = pd.merge(issues, top_issues, left_on=['org', 'repo', 'id_issue'], right_on=['org', 'repo', 'id_issue'])\n",
    "    for _, issue in top_issue_list.sort_values('n_comments', ascending=False).head(n_plot).iterrows():\n",
    "        user_name = issue['login']\n",
    "        user_url = author_url(user_name)\n",
    "        issue_number = issue['number']\n",
    "        issue_html = issue['url']\n",
    "        issue_title = issue['title']\n",
    "\n",
    "        text = f\"* [(#{issue_number})]({issue_html}): _{issue_title}_ by **[@{user_name}]({user_url})**\"\n",
    "        issue_md.append(text)\n",
    "\n",
    "    issue_md.append('')\n",
    "    md_html = HTML(markdown('\\n'.join(issue_md)))\n",
    "\n",
    "    children = list(tabs.children)\n",
    "    children.append(HTML(markdown('\\n'.join(issue_md))))\n",
    "    tabs.children = tuple(children)\n",
    "    tabs.set_title(ii, repo)\n",
    "    \n",
    "display(Markdown(f\"Here are the top {n_plot} active issues in each repository in the last {n_days} days\"))\n",
    "display(tabs)"
   ]
  }
 ],
 "metadata": {
  "kernelspec": {
   "display_name": "Python 3 (ipykernel)",
   "language": "python",
   "name": "python3"
  },
  "language_info": {
   "codemirror_mode": {
    "name": "ipython",
    "version": 3
   },
   "file_extension": ".py",
   "mimetype": "text/x-python",
   "name": "python",
   "nbconvert_exporter": "python",
   "pygments_lexer": "ipython3",
   "version": "3.9.22"
  },
  "papermill": {
   "default_parameters": {},
   "duration": 4.69767,
   "end_time": "2025-05-14T01:30:39.757827",
   "environment_variables": {},
   "exception": null,
   "input_path": "./templates/org_report.ipynb",
   "output_path": "generated/book/jupyterlab.ipynb",
   "parameters": {
    "github_org": "jupyterlab",
    "n_days": 90
   },
   "start_time": "2025-05-14T01:30:35.060157",
   "version": "2.6.0"
  },
  "widgets": {
   "application/vnd.jupyter.widget-state+json": {
    "state": {
     "004fb0bd2bba4095a06178340a256661": {
      "model_module": "@jupyter-widgets/controls",
      "model_module_version": "2.0.0",
      "model_name": "HTMLStyleModel",
      "state": {
       "_model_module": "@jupyter-widgets/controls",
       "_model_module_version": "2.0.0",
       "_model_name": "HTMLStyleModel",
       "_view_count": null,
       "_view_module": "@jupyter-widgets/base",
       "_view_module_version": "2.0.0",
       "_view_name": "StyleView",
       "background": null,
       "description_width": "",
       "font_size": null,
       "text_color": null
      }
     },
     "00d63d5763d145fab0212fa7ccc0765d": {
      "model_module": "@jupyter-widgets/base",
      "model_module_version": "2.0.0",
      "model_name": "LayoutModel",
      "state": {
       "_model_module": "@jupyter-widgets/base",
       "_model_module_version": "2.0.0",
       "_model_name": "LayoutModel",
       "_view_count": null,
       "_view_module": "@jupyter-widgets/base",
       "_view_module_version": "2.0.0",
       "_view_name": "LayoutView",
       "align_content": null,
       "align_items": null,
       "align_self": null,
       "border_bottom": null,
       "border_left": null,
       "border_right": null,
       "border_top": null,
       "bottom": null,
       "display": null,
       "flex": null,
       "flex_flow": null,
       "grid_area": null,
       "grid_auto_columns": null,
       "grid_auto_flow": null,
       "grid_auto_rows": null,
       "grid_column": null,
       "grid_gap": null,
       "grid_row": null,
       "grid_template_areas": null,
       "grid_template_columns": null,
       "grid_template_rows": null,
       "height": null,
       "justify_content": null,
       "justify_items": null,
       "left": null,
       "margin": null,
       "max_height": null,
       "max_width": null,
       "min_height": null,
       "min_width": null,
       "object_fit": null,
       "object_position": null,
       "order": null,
       "overflow": null,
       "padding": null,
       "right": null,
       "top": null,
       "visibility": null,
       "width": null
      }
     },
     "0d938329dcaa47cfae660776d2273fc6": {
      "model_module": "@jupyter-widgets/controls",
      "model_module_version": "2.0.0",
      "model_name": "HTMLModel",
      "state": {
       "_dom_classes": [],
       "_model_module": "@jupyter-widgets/controls",
       "_model_module_version": "2.0.0",
       "_model_name": "HTMLModel",
       "_view_count": null,
       "_view_module": "@jupyter-widgets/controls",
       "_view_module_version": "2.0.0",
       "_view_name": "HTMLView",
       "description": "",
       "description_allow_html": false,
       "layout": "IPY_MODEL_355c099267924dea9017cae30f487f52",
       "placeholder": "​",
       "style": "IPY_MODEL_ff1f8d0c257540f79b1160cf34cc6af2",
       "tabbable": null,
       "tooltip": null,
       "value": "<h5><a href=\"https://github.com/jupyterlab/jupyterlab-git\">jupyterlab/jupyterlab-git</a></h5>\n<ul>\n<li><a href=\"https://github.com/jupyterlab/jupyterlab-git/issues/1342\">(#1342)</a>: <em>Cloning from new host via ssh causes spurious error rather than prompting for confirmation and succeeding</em> by <strong><a href=\"https://github.com/ctcjab\">@ctcjab</a></strong></li>\n</ul>"
      }
     },
     "1e80d852350447eaa4992b78809409fa": {
      "model_module": "@jupyter-widgets/controls",
      "model_module_version": "2.0.0",
      "model_name": "HTMLStyleModel",
      "state": {
       "_model_module": "@jupyter-widgets/controls",
       "_model_module_version": "2.0.0",
       "_model_name": "HTMLStyleModel",
       "_view_count": null,
       "_view_module": "@jupyter-widgets/base",
       "_view_module_version": "2.0.0",
       "_view_name": "StyleView",
       "background": null,
       "description_width": "",
       "font_size": null,
       "text_color": null
      }
     },
     "20a26e60d7844960a2a12c4d6e069a1b": {
      "model_module": "@jupyter-widgets/base",
      "model_module_version": "2.0.0",
      "model_name": "LayoutModel",
      "state": {
       "_model_module": "@jupyter-widgets/base",
       "_model_module_version": "2.0.0",
       "_model_name": "LayoutModel",
       "_view_count": null,
       "_view_module": "@jupyter-widgets/base",
       "_view_module_version": "2.0.0",
       "_view_name": "LayoutView",
       "align_content": null,
       "align_items": null,
       "align_self": null,
       "border_bottom": null,
       "border_left": null,
       "border_right": null,
       "border_top": null,
       "bottom": null,
       "display": null,
       "flex": null,
       "flex_flow": null,
       "grid_area": null,
       "grid_auto_columns": null,
       "grid_auto_flow": null,
       "grid_auto_rows": null,
       "grid_column": null,
       "grid_gap": null,
       "grid_row": null,
       "grid_template_areas": null,
       "grid_template_columns": null,
       "grid_template_rows": null,
       "height": null,
       "justify_content": null,
       "justify_items": null,
       "left": null,
       "margin": null,
       "max_height": null,
       "max_width": null,
       "min_height": null,
       "min_width": null,
       "object_fit": null,
       "object_position": null,
       "order": null,
       "overflow": null,
       "padding": null,
       "right": null,
       "top": null,
       "visibility": null,
       "width": null
      }
     },
     "2500e6be3a8d47308edbaac1c4277151": {
      "model_module": "@jupyter-widgets/controls",
      "model_module_version": "2.0.0",
      "model_name": "HTMLModel",
      "state": {
       "_dom_classes": [],
       "_model_module": "@jupyter-widgets/controls",
       "_model_module_version": "2.0.0",
       "_model_name": "HTMLModel",
       "_view_count": null,
       "_view_module": "@jupyter-widgets/controls",
       "_view_module_version": "2.0.0",
       "_view_name": "HTMLView",
       "description": "",
       "description_allow_html": false,
       "layout": "IPY_MODEL_7042b5be5c1847fcb41169538aaff9ff",
       "placeholder": "​",
       "style": "IPY_MODEL_c7f1ccd2235a4e4db604f4f6ce09d9f3",
       "tabbable": null,
       "tooltip": null,
       "value": "<h5><a href=\"https://github.com/jupyterlab/jupyterlab-latex\">jupyterlab/jupyterlab-latex</a></h5>\n<ul>\n<li><a href=\"https://github.com/jupyterlab/jupyterlab-latex/issues/249\">(#249)</a>: <em>MY ENTIRE HOME DIRECTORY WAS OBLITERATED BECAUSE OF THIS EXTENSION!! UNBELIEVABLE!!!</em> by <strong><a href=\"https://github.com/dogganon\">@dogganon</a></strong></li>\n<li><a href=\"https://github.com/jupyterlab/jupyterlab-latex/issues/153\">(#153)</a>: <em>Suggestion: tab replace commands with unicode math symbols</em> by <strong><a href=\"https://github.com/gjvnq\">@gjvnq</a></strong></li>\n</ul>"
      }
     },
     "2ab211ca889c486db6492187581961ea": {
      "model_module": "@jupyter-widgets/controls",
      "model_module_version": "2.0.0",
      "model_name": "HTMLStyleModel",
      "state": {
       "_model_module": "@jupyter-widgets/controls",
       "_model_module_version": "2.0.0",
       "_model_name": "HTMLStyleModel",
       "_view_count": null,
       "_view_module": "@jupyter-widgets/base",
       "_view_module_version": "2.0.0",
       "_view_name": "StyleView",
       "background": null,
       "description_width": "",
       "font_size": null,
       "text_color": null
      }
     },
     "2e994509e48a4b53918c3080892c0a07": {
      "model_module": "@jupyter-widgets/controls",
      "model_module_version": "2.0.0",
      "model_name": "HTMLModel",
      "state": {
       "_dom_classes": [],
       "_model_module": "@jupyter-widgets/controls",
       "_model_module_version": "2.0.0",
       "_model_name": "HTMLModel",
       "_view_count": null,
       "_view_module": "@jupyter-widgets/controls",
       "_view_module_version": "2.0.0",
       "_view_name": "HTMLView",
       "description": "",
       "description_allow_html": false,
       "layout": "IPY_MODEL_e398185db01c49afaf978723a4b9ff3a",
       "placeholder": "​",
       "style": "IPY_MODEL_876082655a0e4fdda41fd4fa614c98ef",
       "tabbable": null,
       "tooltip": null,
       "value": "<h4>Closed PRs for repo: <a href=\"https://github.com/jupyterlab/jupyterlab-desktop\">jupyterlab/jupyterlab-desktop</a></h4>\n<h5></h5>\n<ul>\n<li><a href=\"https://github.com/jupyterlab/jupyterlab-desktop/issues/889\">(#889)</a>: <em>Create DataScienceEcoystem</em> by <strong><a href=\"https://github.com/Guillermovasco\">@Guillermovasco</a></strong> merged by <strong><a href=\"https://github.com/krassowski\">@krassowski</a></strong></li>\n</ul>"
      }
     },
     "355c099267924dea9017cae30f487f52": {
      "model_module": "@jupyter-widgets/base",
      "model_module_version": "2.0.0",
      "model_name": "LayoutModel",
      "state": {
       "_model_module": "@jupyter-widgets/base",
       "_model_module_version": "2.0.0",
       "_model_name": "LayoutModel",
       "_view_count": null,
       "_view_module": "@jupyter-widgets/base",
       "_view_module_version": "2.0.0",
       "_view_name": "LayoutView",
       "align_content": null,
       "align_items": null,
       "align_self": null,
       "border_bottom": null,
       "border_left": null,
       "border_right": null,
       "border_top": null,
       "bottom": null,
       "display": null,
       "flex": null,
       "flex_flow": null,
       "grid_area": null,
       "grid_auto_columns": null,
       "grid_auto_flow": null,
       "grid_auto_rows": null,
       "grid_column": null,
       "grid_gap": null,
       "grid_row": null,
       "grid_template_areas": null,
       "grid_template_columns": null,
       "grid_template_rows": null,
       "height": null,
       "justify_content": null,
       "justify_items": null,
       "left": null,
       "margin": null,
       "max_height": null,
       "max_width": null,
       "min_height": null,
       "min_width": null,
       "object_fit": null,
       "object_position": null,
       "order": null,
       "overflow": null,
       "padding": null,
       "right": null,
       "top": null,
       "visibility": null,
       "width": null
      }
     },
     "3bbb85cc3017472dad6d5caa03c54c02": {
      "model_module": "@jupyter-widgets/base",
      "model_module_version": "2.0.0",
      "model_name": "LayoutModel",
      "state": {
       "_model_module": "@jupyter-widgets/base",
       "_model_module_version": "2.0.0",
       "_model_name": "LayoutModel",
       "_view_count": null,
       "_view_module": "@jupyter-widgets/base",
       "_view_module_version": "2.0.0",
       "_view_name": "LayoutView",
       "align_content": null,
       "align_items": null,
       "align_self": null,
       "border_bottom": null,
       "border_left": null,
       "border_right": null,
       "border_top": null,
       "bottom": null,
       "display": null,
       "flex": null,
       "flex_flow": null,
       "grid_area": null,
       "grid_auto_columns": null,
       "grid_auto_flow": null,
       "grid_auto_rows": null,
       "grid_column": null,
       "grid_gap": null,
       "grid_row": null,
       "grid_template_areas": null,
       "grid_template_columns": null,
       "grid_template_rows": null,
       "height": null,
       "justify_content": null,
       "justify_items": null,
       "left": null,
       "margin": null,
       "max_height": null,
       "max_width": null,
       "min_height": null,
       "min_width": null,
       "object_fit": null,
       "object_position": null,
       "order": null,
       "overflow": null,
       "padding": null,
       "right": null,
       "top": null,
       "visibility": null,
       "width": null
      }
     },
     "44b1c017bf4347c89e1331baf1826715": {
      "model_module": "@jupyter-widgets/controls",
      "model_module_version": "2.0.0",
      "model_name": "HTMLStyleModel",
      "state": {
       "_model_module": "@jupyter-widgets/controls",
       "_model_module_version": "2.0.0",
       "_model_name": "HTMLStyleModel",
       "_view_count": null,
       "_view_module": "@jupyter-widgets/base",
       "_view_module_version": "2.0.0",
       "_view_name": "StyleView",
       "background": null,
       "description_width": "",
       "font_size": null,
       "text_color": null
      }
     },
     "4730879c85ae4944b87a0408ba91bae7": {
      "model_module": "@jupyter-widgets/controls",
      "model_module_version": "2.0.0",
      "model_name": "HTMLStyleModel",
      "state": {
       "_model_module": "@jupyter-widgets/controls",
       "_model_module_version": "2.0.0",
       "_model_name": "HTMLStyleModel",
       "_view_count": null,
       "_view_module": "@jupyter-widgets/base",
       "_view_module_version": "2.0.0",
       "_view_name": "StyleView",
       "background": null,
       "description_width": "",
       "font_size": null,
       "text_color": null
      }
     },
     "4fb49a6872674bebbeca62de5f671565": {
      "model_module": "@jupyter-widgets/controls",
      "model_module_version": "2.0.0",
      "model_name": "HTMLModel",
      "state": {
       "_dom_classes": [],
       "_model_module": "@jupyter-widgets/controls",
       "_model_module_version": "2.0.0",
       "_model_name": "HTMLModel",
       "_view_count": null,
       "_view_module": "@jupyter-widgets/controls",
       "_view_module_version": "2.0.0",
       "_view_name": "HTMLView",
       "description": "",
       "description_allow_html": false,
       "layout": "IPY_MODEL_9cd9b1cd7b8647c79f934346c7463df4",
       "placeholder": "​",
       "style": "IPY_MODEL_ae51d2bf49b341f2bde63f205c7c877b",
       "tabbable": null,
       "tooltip": null,
       "value": "<h4>Closed PRs for repo: <a href=\"https://github.com/jupyterlab/jupyterlab-git\">jupyterlab/jupyterlab-git</a></h4>\n<h5></h5>\n<ul>\n<li><a href=\"https://github.com/jupyterlab/jupyterlab-git/issues/1395\">(#1395)</a>: <em>Bump serialize-javascript from 6.0.1 to 6.0.2</em> by <strong><a href=\"https://github.com/dependabot[bot]\">@dependabot[bot]</a></strong> merged by <strong><a href=\"https://github.com/fcollonval\">@fcollonval</a></strong></li>\n<li><a href=\"https://github.com/jupyterlab/jupyterlab-git/issues/1396\">(#1396)</a>: <em>Bump vega from 5.23.0 to 5.31.0 in /ui-tests</em> by <strong><a href=\"https://github.com/dependabot[bot]\">@dependabot[bot]</a></strong> merged by <strong><a href=\"https://github.com/fcollonval\">@fcollonval</a></strong></li>\n<li><a href=\"https://github.com/jupyterlab/jupyterlab-git/issues/1398\">(#1398)</a>: <em>Create devcontainer.json</em> by <strong><a href=\"https://github.com/Kcato1\">@Kcato1</a></strong> merged by <strong><a href=\"https://github.com/krassowski\">@krassowski</a></strong></li>\n<li><a href=\"https://github.com/jupyterlab/jupyterlab-git/issues/1399\">(#1399)</a>: <em>Bump vega from 5.31.0 to 5.33.0 in /ui-tests</em> by <strong><a href=\"https://github.com/dependabot[bot]\">@dependabot[bot]</a></strong> merged by <strong><a href=\"https://github.com/krassowski\">@krassowski</a></strong></li>\n</ul>"
      }
     },
     "5005285a7c6b4e128a19250caea09f81": {
      "model_module": "@jupyter-widgets/base",
      "model_module_version": "2.0.0",
      "model_name": "LayoutModel",
      "state": {
       "_model_module": "@jupyter-widgets/base",
       "_model_module_version": "2.0.0",
       "_model_name": "LayoutModel",
       "_view_count": null,
       "_view_module": "@jupyter-widgets/base",
       "_view_module_version": "2.0.0",
       "_view_name": "LayoutView",
       "align_content": null,
       "align_items": null,
       "align_self": null,
       "border_bottom": null,
       "border_left": null,
       "border_right": null,
       "border_top": null,
       "bottom": null,
       "display": null,
       "flex": null,
       "flex_flow": null,
       "grid_area": null,
       "grid_auto_columns": null,
       "grid_auto_flow": null,
       "grid_auto_rows": null,
       "grid_column": null,
       "grid_gap": null,
       "grid_row": null,
       "grid_template_areas": null,
       "grid_template_columns": null,
       "grid_template_rows": null,
       "height": null,
       "justify_content": null,
       "justify_items": null,
       "left": null,
       "margin": null,
       "max_height": null,
       "max_width": null,
       "min_height": null,
       "min_width": null,
       "object_fit": null,
       "object_position": null,
       "order": null,
       "overflow": null,
       "padding": null,
       "right": null,
       "top": null,
       "visibility": null,
       "width": null
      }
     },
     "511baf5e6d174b439923cf28439cd953": {
      "model_module": "@jupyter-widgets/controls",
      "model_module_version": "2.0.0",
      "model_name": "HTMLStyleModel",
      "state": {
       "_model_module": "@jupyter-widgets/controls",
       "_model_module_version": "2.0.0",
       "_model_name": "HTMLStyleModel",
       "_view_count": null,
       "_view_module": "@jupyter-widgets/base",
       "_view_module_version": "2.0.0",
       "_view_name": "StyleView",
       "background": null,
       "description_width": "",
       "font_size": null,
       "text_color": null
      }
     },
     "5e2d84c4ad9444c2a85d294f1efd3e69": {
      "model_module": "@jupyter-widgets/base",
      "model_module_version": "2.0.0",
      "model_name": "LayoutModel",
      "state": {
       "_model_module": "@jupyter-widgets/base",
       "_model_module_version": "2.0.0",
       "_model_name": "LayoutModel",
       "_view_count": null,
       "_view_module": "@jupyter-widgets/base",
       "_view_module_version": "2.0.0",
       "_view_name": "LayoutView",
       "align_content": null,
       "align_items": null,
       "align_self": null,
       "border_bottom": null,
       "border_left": null,
       "border_right": null,
       "border_top": null,
       "bottom": null,
       "display": null,
       "flex": null,
       "flex_flow": null,
       "grid_area": null,
       "grid_auto_columns": null,
       "grid_auto_flow": null,
       "grid_auto_rows": null,
       "grid_column": null,
       "grid_gap": null,
       "grid_row": null,
       "grid_template_areas": null,
       "grid_template_columns": null,
       "grid_template_rows": null,
       "height": null,
       "justify_content": null,
       "justify_items": null,
       "left": null,
       "margin": null,
       "max_height": null,
       "max_width": null,
       "min_height": null,
       "min_width": null,
       "object_fit": null,
       "object_position": null,
       "order": null,
       "overflow": null,
       "padding": null,
       "right": null,
       "top": null,
       "visibility": null,
       "width": null
      }
     },
     "64c9d2d579274db0b5a0de460e571ec9": {
      "model_module": "@jupyter-widgets/controls",
      "model_module_version": "2.0.0",
      "model_name": "HTMLStyleModel",
      "state": {
       "_model_module": "@jupyter-widgets/controls",
       "_model_module_version": "2.0.0",
       "_model_name": "HTMLStyleModel",
       "_view_count": null,
       "_view_module": "@jupyter-widgets/base",
       "_view_module_version": "2.0.0",
       "_view_name": "StyleView",
       "background": null,
       "description_width": "",
       "font_size": null,
       "text_color": null
      }
     },
     "7042b5be5c1847fcb41169538aaff9ff": {
      "model_module": "@jupyter-widgets/base",
      "model_module_version": "2.0.0",
      "model_name": "LayoutModel",
      "state": {
       "_model_module": "@jupyter-widgets/base",
       "_model_module_version": "2.0.0",
       "_model_name": "LayoutModel",
       "_view_count": null,
       "_view_module": "@jupyter-widgets/base",
       "_view_module_version": "2.0.0",
       "_view_name": "LayoutView",
       "align_content": null,
       "align_items": null,
       "align_self": null,
       "border_bottom": null,
       "border_left": null,
       "border_right": null,
       "border_top": null,
       "bottom": null,
       "display": null,
       "flex": null,
       "flex_flow": null,
       "grid_area": null,
       "grid_auto_columns": null,
       "grid_auto_flow": null,
       "grid_auto_rows": null,
       "grid_column": null,
       "grid_gap": null,
       "grid_row": null,
       "grid_template_areas": null,
       "grid_template_columns": null,
       "grid_template_rows": null,
       "height": null,
       "justify_content": null,
       "justify_items": null,
       "left": null,
       "margin": null,
       "max_height": null,
       "max_width": null,
       "min_height": null,
       "min_width": null,
       "object_fit": null,
       "object_position": null,
       "order": null,
       "overflow": null,
       "padding": null,
       "right": null,
       "top": null,
       "visibility": null,
       "width": null
      }
     },
     "8053ec78b51848d48edac6adfda04232": {
      "model_module": "@jupyter-widgets/base",
      "model_module_version": "2.0.0",
      "model_name": "LayoutModel",
      "state": {
       "_model_module": "@jupyter-widgets/base",
       "_model_module_version": "2.0.0",
       "_model_name": "LayoutModel",
       "_view_count": null,
       "_view_module": "@jupyter-widgets/base",
       "_view_module_version": "2.0.0",
       "_view_name": "LayoutView",
       "align_content": null,
       "align_items": null,
       "align_self": null,
       "border_bottom": null,
       "border_left": null,
       "border_right": null,
       "border_top": null,
       "bottom": null,
       "display": null,
       "flex": null,
       "flex_flow": null,
       "grid_area": null,
       "grid_auto_columns": null,
       "grid_auto_flow": null,
       "grid_auto_rows": null,
       "grid_column": null,
       "grid_gap": null,
       "grid_row": null,
       "grid_template_areas": null,
       "grid_template_columns": null,
       "grid_template_rows": null,
       "height": null,
       "justify_content": null,
       "justify_items": null,
       "left": null,
       "margin": null,
       "max_height": null,
       "max_width": null,
       "min_height": null,
       "min_width": null,
       "object_fit": null,
       "object_position": null,
       "order": null,
       "overflow": null,
       "padding": null,
       "right": null,
       "top": null,
       "visibility": null,
       "width": null
      }
     },
     "856fd416789b45888988a8f6df638a8c": {
      "model_module": "@jupyter-widgets/base",
      "model_module_version": "2.0.0",
      "model_name": "LayoutModel",
      "state": {
       "_model_module": "@jupyter-widgets/base",
       "_model_module_version": "2.0.0",
       "_model_name": "LayoutModel",
       "_view_count": null,
       "_view_module": "@jupyter-widgets/base",
       "_view_module_version": "2.0.0",
       "_view_name": "LayoutView",
       "align_content": null,
       "align_items": null,
       "align_self": null,
       "border_bottom": null,
       "border_left": null,
       "border_right": null,
       "border_top": null,
       "bottom": null,
       "display": null,
       "flex": null,
       "flex_flow": null,
       "grid_area": null,
       "grid_auto_columns": null,
       "grid_auto_flow": null,
       "grid_auto_rows": null,
       "grid_column": null,
       "grid_gap": null,
       "grid_row": null,
       "grid_template_areas": null,
       "grid_template_columns": null,
       "grid_template_rows": null,
       "height": null,
       "justify_content": null,
       "justify_items": null,
       "left": null,
       "margin": null,
       "max_height": null,
       "max_width": null,
       "min_height": null,
       "min_width": null,
       "object_fit": null,
       "object_position": null,
       "order": null,
       "overflow": null,
       "padding": null,
       "right": null,
       "top": null,
       "visibility": null,
       "width": null
      }
     },
     "876082655a0e4fdda41fd4fa614c98ef": {
      "model_module": "@jupyter-widgets/controls",
      "model_module_version": "2.0.0",
      "model_name": "HTMLStyleModel",
      "state": {
       "_model_module": "@jupyter-widgets/controls",
       "_model_module_version": "2.0.0",
       "_model_name": "HTMLStyleModel",
       "_view_count": null,
       "_view_module": "@jupyter-widgets/base",
       "_view_module_version": "2.0.0",
       "_view_name": "StyleView",
       "background": null,
       "description_width": "",
       "font_size": null,
       "text_color": null
      }
     },
     "908f5189829a4ecbab25810af71ec20c": {
      "model_module": "@jupyter-widgets/controls",
      "model_module_version": "2.0.0",
      "model_name": "HTMLStyleModel",
      "state": {
       "_model_module": "@jupyter-widgets/controls",
       "_model_module_version": "2.0.0",
       "_model_name": "HTMLStyleModel",
       "_view_count": null,
       "_view_module": "@jupyter-widgets/base",
       "_view_module_version": "2.0.0",
       "_view_name": "StyleView",
       "background": null,
       "description_width": "",
       "font_size": null,
       "text_color": null
      }
     },
     "93c48ba23e054cfb8c7d74d614c11ef8": {
      "model_module": "@jupyter-widgets/controls",
      "model_module_version": "2.0.0",
      "model_name": "HTMLModel",
      "state": {
       "_dom_classes": [],
       "_model_module": "@jupyter-widgets/controls",
       "_model_module_version": "2.0.0",
       "_model_name": "HTMLModel",
       "_view_count": null,
       "_view_module": "@jupyter-widgets/controls",
       "_view_module_version": "2.0.0",
       "_view_name": "HTMLView",
       "description": "",
       "description_allow_html": false,
       "layout": "IPY_MODEL_3bbb85cc3017472dad6d5caa03c54c02",
       "placeholder": "​",
       "style": "IPY_MODEL_64c9d2d579274db0b5a0de460e571ec9",
       "tabbable": null,
       "tooltip": null,
       "value": "<h5><a href=\"https://github.com/jupyterlab/jupyterlab-git\">jupyterlab/jupyterlab-git</a></h5>\n<ul>\n<li><a href=\"https://github.com/jupyterlab/jupyterlab-git/issues/1342\">(#1342)</a>: <em>Cloning from new host via ssh causes spurious error rather than prompting for confirmation and succeeding</em> by <strong><a href=\"https://github.com/ctcjab\">@ctcjab</a></strong></li>\n</ul>"
      }
     },
     "99c750ebab9c4d5292cff94162ed62ca": {
      "model_module": "@jupyter-widgets/controls",
      "model_module_version": "2.0.0",
      "model_name": "HTMLModel",
      "state": {
       "_dom_classes": [],
       "_model_module": "@jupyter-widgets/controls",
       "_model_module_version": "2.0.0",
       "_model_name": "HTMLModel",
       "_view_count": null,
       "_view_module": "@jupyter-widgets/controls",
       "_view_module_version": "2.0.0",
       "_view_name": "HTMLView",
       "description": "",
       "description_allow_html": false,
       "layout": "IPY_MODEL_856fd416789b45888988a8f6df638a8c",
       "placeholder": "​",
       "style": "IPY_MODEL_004fb0bd2bba4095a06178340a256661",
       "tabbable": null,
       "tooltip": null,
       "value": "<h4>Closed PRs for repo: <a href=\"https://github.com/jupyterlab/jupyterlab\">jupyterlab/jupyterlab</a></h4>\n<h5></h5>\n<ul>\n<li><a href=\"https://github.com/jupyterlab/jupyterlab/issues/16141\">(#16141)</a>: <em>Make the default drive in the Contents Service configurable</em> by <strong><a href=\"https://github.com/Zsailer\">@Zsailer</a></strong> merged by <strong><a href=\"https://github.com/Zsailer\">@Zsailer</a></strong></li>\n<li><a href=\"https://github.com/jupyterlab/jupyterlab/issues/16213\">(#16213)</a>: <em>Fix for unable to lock any extension</em> by <strong><a href=\"https://github.com/itsmevichu\">@itsmevichu</a></strong> merged by <strong><a href=\"https://github.com/krassowski\">@krassowski</a></strong></li>\n<li><a href=\"https://github.com/jupyterlab/jupyterlab/issues/16770\">(#16770)</a>: <em>Update to enable block comments in python and other languages that do…</em> by <strong><a href=\"https://github.com/adityamali\">@adityamali</a></strong> merged by <strong><a href=\"https://github.com/adityamali\">@adityamali</a></strong></li>\n<li><a href=\"https://github.com/jupyterlab/jupyterlab/issues/16794\">(#16794)</a>: <em>Allow customizing the <code>ServiceManager</code> with plugins</em> by <strong><a href=\"https://github.com/jtpio\">@jtpio</a></strong> merged by <strong><a href=\"https://github.com/krassowski\">@krassowski</a></strong></li>\n<li><a href=\"https://github.com/jupyterlab/jupyterlab/issues/17152\">(#17152)</a>: <em>Use more formal wording in docs: <code>repo</code> → <code>repository</code></em> by <strong><a href=\"https://github.com/pdarshane\">@pdarshane</a></strong> merged by <strong><a href=\"https://github.com/krassowski\">@krassowski</a></strong></li>\n<li><a href=\"https://github.com/jupyterlab/jupyterlab/issues/17155\">(#17155)</a>: <em>Fix: Corrected ARIA Labels on MainAreaWidget.ts to show Context-Specific Content</em> by <strong><a href=\"https://github.com/hxrshxz\">@hxrshxz</a></strong> merged by <strong><a href=\"https://github.com/hxrshxz\">@hxrshxz</a></strong></li>\n<li><a href=\"https://github.com/jupyterlab/jupyterlab/issues/17160\">(#17160)</a>: <em>Ensure search highlight is applied to Python builtin keywords</em> by <strong><a href=\"https://github.com/hxrshxz\">@hxrshxz</a></strong> merged by <strong><a href=\"https://github.com/krassowski\">@krassowski</a></strong></li>\n<li><a href=\"https://github.com/jupyterlab/jupyterlab/issues/17162\">(#17162)</a>: <em>Heuristic for cell height now considers preferred text output types</em> by <strong><a href=\"https://github.com/hxrshxz\">@hxrshxz</a></strong> merged by <strong><a href=\"https://github.com/hxrshxz\">@hxrshxz</a></strong></li>\n<li><a href=\"https://github.com/jupyterlab/jupyterlab/issues/17187\">(#17187)</a>: <em>Fix misaligned SVG icon in \"Add Tag\" button</em> by <strong><a href=\"https://github.com/MUFFANUJ\">@MUFFANUJ</a></strong> merged by <strong><a href=\"https://github.com/krassowski\">@krassowski</a></strong></li>\n<li><a href=\"https://github.com/jupyterlab/jupyterlab/issues/17193\">(#17193)</a>: <em>Dialog box removed</em> by <strong><a href=\"https://github.com/hxrshxz\">@hxrshxz</a></strong> merged by <strong><a href=\"https://github.com/krassowski\">@krassowski</a></strong></li>\n<li><a href=\"https://github.com/jupyterlab/jupyterlab/issues/17194\">(#17194)</a>: <em>Fix for issue preventing cell metadata removal</em> by <strong><a href=\"https://github.com/itsmevichu\">@itsmevichu</a></strong> merged by <strong><a href=\"https://github.com/krassowski\">@krassowski</a></strong></li>\n<li><a href=\"https://github.com/jupyterlab/jupyterlab/issues/17210\">(#17210)</a>: <em>Fix browser tab name updates when started in single-document mode</em> by <strong><a href=\"https://github.com/Darshan808\">@Darshan808</a></strong> merged by <strong><a href=\"https://github.com/krassowski\">@krassowski</a></strong></li>\n<li><a href=\"https://github.com/jupyterlab/jupyterlab/issues/17217\">(#17217)</a>: <em>Improve UX for \"Rename on First Save\" Dialog</em> by <strong><a href=\"https://github.com/MUFFANUJ\">@MUFFANUJ</a></strong> merged by <strong><a href=\"https://github.com/krassowski\">@krassowski</a></strong></li>\n<li><a href=\"https://github.com/jupyterlab/jupyterlab/issues/17219\">(#17219)</a>: <em>Updated mock packages to use hatch-jupyter-builder</em> by <strong><a href=\"https://github.com/Rishab87\">@Rishab87</a></strong> merged by <strong><a href=\"https://github.com/krassowski\">@krassowski</a></strong></li>\n<li><a href=\"https://github.com/jupyterlab/jupyterlab/issues/17244\">(#17244)</a>: <em>Allow <code>&lt;GroupItem&gt;</code> to filter out <code>null</code> children and accept any <code>ReactNode</code></em> by <strong><a href=\"https://github.com/MUFFANUJ\">@MUFFANUJ</a></strong> merged by <strong><a href=\"https://github.com/krassowski\">@krassowski</a></strong></li>\n<li><a href=\"https://github.com/jupyterlab/jupyterlab/issues/17256\">(#17256)</a>: <em>Add (opt-in) workspace selector, show workspace name in the title</em> by <strong><a href=\"https://github.com/Darshan808\">@Darshan808</a></strong> merged by <strong><a href=\"https://github.com/krassowski\">@krassowski</a></strong></li>\n<li><a href=\"https://github.com/jupyterlab/jupyterlab/issues/17261\">(#17261)</a>: <em>Reuse DOM and keep selection on streaming stdout/stderr</em> by <strong><a href=\"https://github.com/krassowski\">@krassowski</a></strong> merged by <strong><a href=\"https://github.com/krassowski\">@krassowski</a></strong></li>\n<li><a href=\"https://github.com/jupyterlab/jupyterlab/issues/17266\">(#17266)</a>: <em>Fix order of extensions in PyPI Extension Manager</em> by <strong><a href=\"https://github.com/Princekumarofficial\">@Princekumarofficial</a></strong> merged by <strong><a href=\"https://github.com/krassowski\">@krassowski</a></strong></li>\n<li><a href=\"https://github.com/jupyterlab/jupyterlab/issues/17279\">(#17279)</a>: <em>Add FAQ item about repeated key press events on OS X</em> by <strong><a href=\"https://github.com/jtpio\">@jtpio</a></strong> merged by <strong><a href=\"https://github.com/jtpio\">@jtpio</a></strong></li>\n<li><a href=\"https://github.com/jupyterlab/jupyterlab/issues/17289\">(#17289)</a>: <em>Fix missing checks for author comment association for docs</em> by <strong><a href=\"https://github.com/krassowski\">@krassowski</a></strong> merged by <strong><a href=\"https://github.com/jtpio\">@jtpio</a></strong></li>\n<li><a href=\"https://github.com/jupyterlab/jupyterlab/issues/17290\">(#17290)</a>: <em>Backport PR #17289 on branch 4.3.x (Fix missing checks for author comment association for docs)</em> by <strong><a href=\"https://github.com/meeseeksmachine\">@meeseeksmachine</a></strong> merged by <strong><a href=\"https://github.com/krassowski\">@krassowski</a></strong></li>\n<li><a href=\"https://github.com/jupyterlab/jupyterlab/issues/17291\">(#17291)</a>: <em>Disable new <code>ctrl</code> + <code>m</code> toggle focus binding, enable configuring it via Keyboard Shortcuts</em> by <strong><a href=\"https://github.com/krassowski\">@krassowski</a></strong> merged by <strong><a href=\"https://github.com/jtpio\">@jtpio</a></strong></li>\n<li><a href=\"https://github.com/jupyterlab/jupyterlab/issues/17294\">(#17294)</a>: <em>Clean up references to <code>jupyter-packaging</code></em> by <strong><a href=\"https://github.com/jtpio\">@jtpio</a></strong> merged by <strong><a href=\"https://github.com/krassowski\">@krassowski</a></strong></li>\n<li><a href=\"https://github.com/jupyterlab/jupyterlab/issues/17295\">(#17295)</a>: <em>Bump vega from 5.24.0 to 5.26.0</em> by <strong><a href=\"https://github.com/dependabot[bot]\">@dependabot[bot]</a></strong> merged by <strong><a href=\"https://github.com/krassowski\">@krassowski</a></strong></li>\n<li><a href=\"https://github.com/jupyterlab/jupyterlab/issues/17297\">(#17297)</a>: <em>Backport PR #17160 on branch 4.3.x (Ensure search highlight is applied to Python builtin keywords)</em> by <strong><a href=\"https://github.com/meeseeksmachine\">@meeseeksmachine</a></strong> merged by <strong><a href=\"https://github.com/krassowski\">@krassowski</a></strong></li>\n<li><a href=\"https://github.com/jupyterlab/jupyterlab/issues/17298\">(#17298)</a>: <em>Updated enabling logic for run-all-below button on Notebook Panel</em> by <strong><a href=\"https://github.com/rsaditya01\">@rsaditya01</a></strong> merged by <strong><a href=\"https://github.com/krassowski\">@krassowski</a></strong></li>\n<li><a href=\"https://github.com/jupyterlab/jupyterlab/issues/17304\">(#17304)</a>: <em>Bump vega from 5.24.0 to 5.31.0 in /jupyterlab/staging</em> by <strong><a href=\"https://github.com/dependabot[bot]\">@dependabot[bot]</a></strong> merged by <strong><a href=\"https://github.com/krassowski\">@krassowski</a></strong></li>\n<li><a href=\"https://github.com/jupyterlab/jupyterlab/issues/17305\">(#17305)</a>: <em>Bump dompurify from 3.2.3 to 3.2.4</em> by <strong><a href=\"https://github.com/dependabot[bot]\">@dependabot[bot]</a></strong> merged by <strong><a href=\"https://github.com/krassowski\">@krassowski</a></strong></li>\n<li><a href=\"https://github.com/jupyterlab/jupyterlab/issues/17308\">(#17308)</a>: <em>Backport PR #17305 on branch 4.3.x (Bump dompurify to 3.2.4)</em> by <strong><a href=\"https://github.com/krassowski\">@krassowski</a></strong> merged by <strong><a href=\"https://github.com/krassowski\">@krassowski</a></strong></li>\n<li><a href=\"https://github.com/jupyterlab/jupyterlab/issues/17309\">(#17309)</a>: <em>Backport PR #17305 on branch 4.2.x (Bump dompurify to 3.2.4)</em> by <strong><a href=\"https://github.com/krassowski\">@krassowski</a></strong> merged by <strong><a href=\"https://github.com/krassowski\">@krassowski</a></strong></li>\n<li><a href=\"https://github.com/jupyterlab/jupyterlab/issues/17312\">(#17312)</a>: <em>Bump vega-selections from 5.4.1 to 5.5.0 in /jupyterlab/staging</em> by <strong><a href=\"https://github.com/dependabot[bot]\">@dependabot[bot]</a></strong> merged by <strong><a href=\"https://github.com/krassowski\">@krassowski</a></strong></li>\n<li><a href=\"https://github.com/jupyterlab/jupyterlab/issues/17313\">(#17313)</a>: <em>Backport PR #17295 on branch 4.2.x (Bump vega from 5.24.0 to 5.26.0)</em> by <strong><a href=\"https://github.com/meeseeksmachine\">@meeseeksmachine</a></strong> merged by <strong><a href=\"https://github.com/krassowski\">@krassowski</a></strong></li>\n<li><a href=\"https://github.com/jupyterlab/jupyterlab/issues/17314\">(#17314)</a>: <em>Backport PR #17295 on branch 4.3.x (Bump vega from 5.24.0 to 5.26.0)</em> by <strong><a href=\"https://github.com/meeseeksmachine\">@meeseeksmachine</a></strong> merged by <strong><a href=\"https://github.com/krassowski\">@krassowski</a></strong></li>\n<li><a href=\"https://github.com/jupyterlab/jupyterlab/issues/17319\">(#17319)</a>: <em>Bump <code>semver</code> and <code>tough-cookie</code> to non-vulnerable versions</em> by <strong><a href=\"https://github.com/dlqqq\">@dlqqq</a></strong> merged by <strong><a href=\"https://github.com/krassowski\">@krassowski</a></strong></li>\n<li><a href=\"https://github.com/jupyterlab/jupyterlab/issues/17322\">(#17322)</a>: <em>Fix handling of a <code>null</code> banner in the code console</em> by <strong><a href=\"https://github.com/jtpio\">@jtpio</a></strong> merged by <strong><a href=\"https://github.com/krassowski\">@krassowski</a></strong></li>\n<li><a href=\"https://github.com/jupyterlab/jupyterlab/issues/17323\">(#17323)</a>: <em>Fix typo in LSP console message on kernel change</em> by <strong><a href=\"https://github.com/iisakkirotko\">@iisakkirotko</a></strong> merged by <strong><a href=\"https://github.com/krassowski\">@krassowski</a></strong></li>\n<li><a href=\"https://github.com/jupyterlab/jupyterlab/issues/17325\">(#17325)</a>: <em>Provide <code>ITranslatorConnector</code> via a separate plugin</em> by <strong><a href=\"https://github.com/jtpio\">@jtpio</a></strong> merged by <strong><a href=\"https://github.com/krassowski\">@krassowski</a></strong></li>\n<li><a href=\"https://github.com/jupyterlab/jupyterlab/issues/17326\">(#17326)</a>: <em>Backport PR #17319 on branch 4.3.x (Bump semver and tough-cookie to non-vulnerable versions)</em> by <strong><a href=\"https://github.com/dlqqq\">@dlqqq</a></strong> merged by <strong><a href=\"https://github.com/krassowski\">@krassowski</a></strong></li>\n<li><a href=\"https://github.com/jupyterlab/jupyterlab/issues/17327\">(#17327)</a>: <em>Provide <code>ISettingsConnector</code> via a separate plugin</em> by <strong><a href=\"https://github.com/jtpio\">@jtpio</a></strong> merged by <strong><a href=\"https://github.com/krassowski\">@krassowski</a></strong></li>\n<li><a href=\"https://github.com/jupyterlab/jupyterlab/issues/17328\">(#17328)</a>: <em>Normalize translator plugin ids</em> by <strong><a href=\"https://github.com/jtpio\">@jtpio</a></strong> merged by <strong><a href=\"https://github.com/krassowski\">@krassowski</a></strong></li>\n<li><a href=\"https://github.com/jupyterlab/jupyterlab/issues/17329\">(#17329)</a>: <em>Use <code>ITranslationConnector</code> to fetch the translations</em> by <strong><a href=\"https://github.com/jtpio\">@jtpio</a></strong> merged by <strong><a href=\"https://github.com/jtpio\">@jtpio</a></strong></li>\n<li><a href=\"https://github.com/jupyterlab/jupyterlab/issues/17330\">(#17330)</a>: <em>Backport PR #17194 on branch 4.3.x (Fix for issue preventing cell metadata removal)</em> by <strong><a href=\"https://github.com/meeseeksmachine\">@meeseeksmachine</a></strong> merged by <strong><a href=\"https://github.com/krassowski\">@krassowski</a></strong></li>\n<li><a href=\"https://github.com/jupyterlab/jupyterlab/issues/17332\">(#17332)</a>: <em>Fix heading levels in extension migration guide</em> by <strong><a href=\"https://github.com/krassowski\">@krassowski</a></strong> merged by <strong><a href=\"https://github.com/jtpio\">@jtpio</a></strong></li>\n<li><a href=\"https://github.com/jupyterlab/jupyterlab/issues/17334\">(#17334)</a>: <em>Backport PR #16787 on branch 4.2.x (Replace link to accessiblity project with a link to accessiblity issues)</em> by <strong><a href=\"https://github.com/meeseeksmachine\">@meeseeksmachine</a></strong> merged by <strong><a href=\"https://github.com/krassowski\">@krassowski</a></strong></li>\n<li><a href=\"https://github.com/jupyterlab/jupyterlab/issues/17336\">(#17336)</a>: <em>Clarify documentation on bot privileges for updating snapshots</em> by <strong><a href=\"https://github.com/Princekumarofficial\">@Princekumarofficial</a></strong> merged by <strong><a href=\"https://github.com/krassowski\">@krassowski</a></strong></li>\n<li><a href=\"https://github.com/jupyterlab/jupyterlab/issues/17337\">(#17337)</a>: <em>Fix HTML lang attribute</em> by <strong><a href=\"https://github.com/fcollonval\">@fcollonval</a></strong> merged by <strong><a href=\"https://github.com/krassowski\">@krassowski</a></strong></li>\n<li><a href=\"https://github.com/jupyterlab/jupyterlab/issues/17338\">(#17338)</a>: <em>Enforce plugin name convention and rename noncompliant plugins</em> by <strong><a href=\"https://github.com/jtpio\">@jtpio</a></strong> merged by <strong><a href=\"https://github.com/krassowski\">@krassowski</a></strong></li>\n<li><a href=\"https://github.com/jupyterlab/jupyterlab/issues/17339\">(#17339)</a>: <em>Improve scrolling edge cases</em> by <strong><a href=\"https://github.com/krassowski\">@krassowski</a></strong> merged by <strong><a href=\"https://github.com/krassowski\">@krassowski</a></strong></li>\n<li><a href=\"https://github.com/jupyterlab/jupyterlab/issues/17341\">(#17341)</a>: <em>Backport PR #17319 on branch 4.2.x (Bump semver and tough-cookie to non-vulnerable versions)</em> by <strong><a href=\"https://github.com/dlqqq\">@dlqqq</a></strong> merged by <strong><a href=\"https://github.com/krassowski\">@krassowski</a></strong></li>\n<li><a href=\"https://github.com/jupyterlab/jupyterlab/issues/17343\">(#17343)</a>: <em>Fix checkbox alignment in dialog using <code>display: flex</code></em> by <strong><a href=\"https://github.com/SatyajitRedekar\">@SatyajitRedekar</a></strong> merged by <strong><a href=\"https://github.com/krassowski\">@krassowski</a></strong></li>\n<li><a href=\"https://github.com/jupyterlab/jupyterlab/issues/17345\">(#17345)</a>: <em>Expose <code>ConfigSectionManager</code> via a plugin</em> by <strong><a href=\"https://github.com/jtpio\">@jtpio</a></strong> merged by <strong><a href=\"https://github.com/krassowski\">@krassowski</a></strong></li>\n<li><a href=\"https://github.com/jupyterlab/jupyterlab/issues/17346\">(#17346)</a>: <em>Backport PR #17336 on branch 4.3.x (Clarify documentation on bot privileges for updating snapshots)</em> by <strong><a href=\"https://github.com/meeseeksmachine\">@meeseeksmachine</a></strong> merged by <strong><a href=\"https://github.com/jtpio\">@jtpio</a></strong></li>\n<li><a href=\"https://github.com/jupyterlab/jupyterlab/issues/17348\">(#17348)</a>: <em>Add <code>IKernelAPIClient</code> and <code>ISessionAPIClient</code> as options for <code>Kernel.IManager</code> and <code>Session.IManager</code></em> by <strong><a href=\"https://github.com/jtpio\">@jtpio</a></strong> merged by <strong><a href=\"https://github.com/krassowski\">@krassowski</a></strong></li>\n<li><a href=\"https://github.com/jupyterlab/jupyterlab/issues/17350\">(#17350)</a>: <em>Add widget ID arg to semantic command invocations</em> by <strong><a href=\"https://github.com/afshin\">@afshin</a></strong> merged by <strong><a href=\"https://github.com/afshin\">@afshin</a></strong></li>\n<li><a href=\"https://github.com/jupyterlab/jupyterlab/issues/17352\">(#17352)</a>: <em>Add a setting to disable the context menu</em> by <strong><a href=\"https://github.com/afshin\">@afshin</a></strong> merged by <strong><a href=\"https://github.com/krassowski\">@krassowski</a></strong></li>\n<li><a href=\"https://github.com/jupyterlab/jupyterlab/issues/17353\">(#17353)</a>: <em>Bump the actions group with 2 updates</em> by <strong><a href=\"https://github.com/dependabot[bot]\">@dependabot[bot]</a></strong> merged by <strong><a href=\"https://github.com/jtpio\">@jtpio</a></strong></li>\n<li><a href=\"https://github.com/jupyterlab/jupyterlab/issues/17357\">(#17357)</a>: <em>Backport PR #17298 on branch 4.3.x (Updated enabling logic for run-all-below button on Notebook Panel)</em> by <strong><a href=\"https://github.com/meeseeksmachine\">@meeseeksmachine</a></strong> merged by <strong><a href=\"https://github.com/jtpio\">@jtpio</a></strong></li>\n<li><a href=\"https://github.com/jupyterlab/jupyterlab/issues/17359\">(#17359)</a>: <em>Use \"Move to Trash\" over \"Delete\" when contents manager's <code>delete_to_trash</code> is <code>True</code></em> by <strong><a href=\"https://github.com/jesuino\">@jesuino</a></strong> merged by <strong><a href=\"https://github.com/krassowski\">@krassowski</a></strong></li>\n<li><a href=\"https://github.com/jupyterlab/jupyterlab/issues/17360\">(#17360)</a>: <em>[pre-commit.ci] pre-commit autoupdate</em> by <strong><a href=\"https://github.com/pre-commit-ci[bot]\">@pre-commit-ci[bot]</a></strong> merged by <strong><a href=\"https://github.com/jtpio\">@jtpio</a></strong></li>\n<li><a href=\"https://github.com/jupyterlab/jupyterlab/issues/17361\">(#17361)</a>: <em>Move the licenses plugin to <code>apputils-extension</code></em> by <strong><a href=\"https://github.com/jtpio\">@jtpio</a></strong> merged by <strong><a href=\"https://github.com/krassowski\">@krassowski</a></strong></li>\n<li><a href=\"https://github.com/jupyterlab/jupyterlab/issues/17363\">(#17363)</a>: <em>If subshells are supported by the kernel, send comm messages to subshells</em> by <strong><a href=\"https://github.com/martinRenou\">@martinRenou</a></strong> merged by <strong><a href=\"https://github.com/krassowski\">@krassowski</a></strong></li>\n<li><a href=\"https://github.com/jupyterlab/jupyterlab/issues/17364\">(#17364)</a>: <em>Sort the list of plugins and tokens in the documentation</em> by <strong><a href=\"https://github.com/jtpio\">@jtpio</a></strong> merged by <strong><a href=\"https://github.com/krassowski\">@krassowski</a></strong></li>\n<li><a href=\"https://github.com/jupyterlab/jupyterlab/issues/17367\">(#17367)</a>: <em>Require <code>JupyterLab.IInfo</code> for the plugin manager plugin</em> by <strong><a href=\"https://github.com/jtpio\">@jtpio</a></strong> merged by <strong><a href=\"https://github.com/jtpio\">@jtpio</a></strong></li>\n<li><a href=\"https://github.com/jupyterlab/jupyterlab/issues/17368\">(#17368)</a>: <em>User-facing changelog for 4.4</em> by <strong><a href=\"https://github.com/krassowski\">@krassowski</a></strong> merged by <strong><a href=\"https://github.com/jtpio\">@jtpio</a></strong></li>\n<li><a href=\"https://github.com/jupyterlab/jupyterlab/issues/17369\">(#17369)</a>: <em>Fix cell output stream if previous chunk did not end in new line</em> by <strong><a href=\"https://github.com/davidbrochart\">@davidbrochart</a></strong> merged by <strong><a href=\"https://github.com/krassowski\">@krassowski</a></strong></li>\n<li><a href=\"https://github.com/jupyterlab/jupyterlab/issues/17371\">(#17371)</a>: <em>Fix rendering URLs as linked in errors</em> by <strong><a href=\"https://github.com/afshin\">@afshin</a></strong> merged by <strong><a href=\"https://github.com/krassowski\">@krassowski</a></strong></li>\n<li><a href=\"https://github.com/jupyterlab/jupyterlab/issues/17372\">(#17372)</a>: <em>Update to Playwright 1.51.0</em> by <strong><a href=\"https://github.com/jtpio\">@jtpio</a></strong> merged by <strong><a href=\"https://github.com/jtpio\">@jtpio</a></strong></li>\n<li><a href=\"https://github.com/jupyterlab/jupyterlab/issues/17376\">(#17376)</a>: <em>Add pip as a dependency</em> by <strong><a href=\"https://github.com/simonw\">@simonw</a></strong> merged by <strong><a href=\"https://github.com/simonw\">@simonw</a></strong></li>\n<li><a href=\"https://github.com/jupyterlab/jupyterlab/issues/17379\">(#17379)</a>: <em>Update the copyright year to 2025</em> by <strong><a href=\"https://github.com/jtpio\">@jtpio</a></strong> merged by <strong><a href=\"https://github.com/krassowski\">@krassowski</a></strong></li>\n<li><a href=\"https://github.com/jupyterlab/jupyterlab/issues/17380\">(#17380)</a>: <em>Bump axios from 1.7.4 to 1.8.2</em> by <strong><a href=\"https://github.com/dependabot[bot]\">@dependabot[bot]</a></strong> merged by <strong><a href=\"https://github.com/jtpio\">@jtpio</a></strong></li>\n<li><a href=\"https://github.com/jupyterlab/jupyterlab/issues/17383\">(#17383)</a>: <em>[4.3.x] Update reference snapshots</em> by <strong><a href=\"https://github.com/jtpio\">@jtpio</a></strong> merged by <strong><a href=\"https://github.com/jtpio\">@jtpio</a></strong></li>\n<li><a href=\"https://github.com/jupyterlab/jupyterlab/issues/17384\">(#17384)</a>: <em>Bump @babel/runtime from 7.21.0 to 7.26.10 in /jupyterlab/staging</em> by <strong><a href=\"https://github.com/dependabot[bot]\">@dependabot[bot]</a></strong> merged by <strong><a href=\"https://github.com/jtpio\">@jtpio</a></strong></li>\n<li><a href=\"https://github.com/jupyterlab/jupyterlab/issues/17385\">(#17385)</a>: <em>Bump @babel/helpers from 7.21.0 to 7.26.10</em> by <strong><a href=\"https://github.com/dependabot[bot]\">@dependabot[bot]</a></strong> merged by <strong><a href=\"https://github.com/krassowski\">@krassowski</a></strong></li>\n<li><a href=\"https://github.com/jupyterlab/jupyterlab/issues/17387\">(#17387)</a>: <em>Bump nanoid from 3.3.7 to 3.3.9 in /jupyterlab/tests/mock_packages/test_no_hyphens</em> by <strong><a href=\"https://github.com/dependabot[bot]\">@dependabot[bot]</a></strong> merged by <strong><a href=\"https://github.com/krassowski\">@krassowski</a></strong></li>\n<li><a href=\"https://github.com/jupyterlab/jupyterlab/issues/17391\">(#17391)</a>: <em>Backport PR #17369 on branch 4.3.x (Fix cell output stream if previous chunk did not end in new line)</em> by <strong><a href=\"https://github.com/meeseeksmachine\">@meeseeksmachine</a></strong> merged by <strong><a href=\"https://github.com/krassowski\">@krassowski</a></strong></li>\n<li><a href=\"https://github.com/jupyterlab/jupyterlab/issues/17392\">(#17392)</a>: <em>Update changelog links, add new code console screenshot</em> by <strong><a href=\"https://github.com/jtpio\">@jtpio</a></strong> merged by <strong><a href=\"https://github.com/jtpio\">@jtpio</a></strong></li>\n<li><a href=\"https://github.com/jupyterlab/jupyterlab/issues/17395\">(#17395)</a>: <em>Add <code>IKernelSpecAPICLient</code> and <code>ITerminalAPIClient</code>, fix definitions of interfaces</em> by <strong><a href=\"https://github.com/jtpio\">@jtpio</a></strong> merged by <strong><a href=\"https://github.com/krassowski\">@krassowski</a></strong></li>\n<li><a href=\"https://github.com/jupyterlab/jupyterlab/issues/17396\">(#17396)</a>: <em>Update to mermaid 11.6.0, marked 15.0.7</em> by <strong><a href=\"https://github.com/bollwyvl\">@bollwyvl</a></strong> merged by <strong><a href=\"https://github.com/krassowski\">@krassowski</a></strong></li>\n<li><a href=\"https://github.com/jupyterlab/jupyterlab/issues/17397\">(#17397)</a>: <em>Fix definition of the <code>ILicensesClient</code> interface</em> by <strong><a href=\"https://github.com/jtpio\">@jtpio</a></strong> merged by <strong><a href=\"https://github.com/krassowski\">@krassowski</a></strong></li>\n<li><a href=\"https://github.com/jupyterlab/jupyterlab/issues/17398\">(#17398)</a>: <em>Remove workflow using <code>tj-actions/changed-files</code></em> by <strong><a href=\"https://github.com/jtpio\">@jtpio</a></strong> merged by <strong><a href=\"https://github.com/jtpio\">@jtpio</a></strong></li>\n<li><a href=\"https://github.com/jupyterlab/jupyterlab/issues/17399\">(#17399)</a>: <em>Remove workflow using <code>tj-actions/changed-files</code></em> by <strong><a href=\"https://github.com/jtpio\">@jtpio</a></strong> merged by <strong><a href=\"https://github.com/jtpio\">@jtpio</a></strong></li>\n<li><a href=\"https://github.com/jupyterlab/jupyterlab/issues/17400\">(#17400)</a>: <em>Remove workflow using <code>tj-actions/changed-files</code></em> by <strong><a href=\"https://github.com/jtpio\">@jtpio</a></strong> merged by <strong><a href=\"https://github.com/jtpio\">@jtpio</a></strong></li>\n<li><a href=\"https://github.com/jupyterlab/jupyterlab/issues/17401\">(#17401)</a>: <em>Remove workflow using <code>tj-actions/changed-files</code></em> by <strong><a href=\"https://github.com/jtpio\">@jtpio</a></strong> merged by <strong><a href=\"https://github.com/jtpio\">@jtpio</a></strong></li>\n<li><a href=\"https://github.com/jupyterlab/jupyterlab/issues/17402\">(#17402)</a>: <em>Remove workflow using <code>tj-actions/changed-files</code></em> by <strong><a href=\"https://github.com/jtpio\">@jtpio</a></strong> merged by <strong><a href=\"https://github.com/jtpio\">@jtpio</a></strong></li>\n<li><a href=\"https://github.com/jupyterlab/jupyterlab/issues/17404\">(#17404)</a>: <em>Backport PR #17371 on branch 4.3.x (Fix rendering URLs as linked in errors)</em> by <strong><a href=\"https://github.com/meeseeksmachine\">@meeseeksmachine</a></strong> merged by <strong><a href=\"https://github.com/krassowski\">@krassowski</a></strong></li>\n<li><a href=\"https://github.com/jupyterlab/jupyterlab/issues/17405\">(#17405)</a>: <em>Fix handling of the CSV viewer theme</em> by <strong><a href=\"https://github.com/jtpio\">@jtpio</a></strong> merged by <strong><a href=\"https://github.com/krassowski\">@krassowski</a></strong></li>\n<li><a href=\"https://github.com/jupyterlab/jupyterlab/issues/17408\">(#17408)</a>: <em>Allow <code>grid</code> and <code>flexbox</code> style attributes during Markdown/HTML sanitization</em> by <strong><a href=\"https://github.com/dotnetautor\">@dotnetautor</a></strong> merged by <strong><a href=\"https://github.com/krassowski\">@krassowski</a></strong></li>\n<li><a href=\"https://github.com/jupyterlab/jupyterlab/issues/17413\">(#17413)</a>: <em>More specific selector for \"Copy Output to Clipboard\"</em> by <strong><a href=\"https://github.com/jtpio\">@jtpio</a></strong> merged by <strong><a href=\"https://github.com/krassowski\">@krassowski</a></strong></li>\n<li><a href=\"https://github.com/jupyterlab/jupyterlab/issues/17414\">(#17414)</a>: <em>Fix types in translation package, remove usages of <code>any</code></em> by <strong><a href=\"https://github.com/krassowski\">@krassowski</a></strong> merged by <strong><a href=\"https://github.com/krassowski\">@krassowski</a></strong></li>\n<li><a href=\"https://github.com/jupyterlab/jupyterlab/issues/17415\">(#17415)</a>: <em>Create \"Kernels\" section, split statusbar settings</em> by <strong><a href=\"https://github.com/krassowski\">@krassowski</a></strong> merged by <strong><a href=\"https://github.com/krassowski\">@krassowski</a></strong></li>\n<li><a href=\"https://github.com/jupyterlab/jupyterlab/issues/17416\">(#17416)</a>: <em>Create Joey</em> by <strong><a href=\"https://github.com/ghost\">@ghost</a></strong> merged by <strong><a href=\"https://github.com/krassowski\">@krassowski</a></strong></li>\n<li><a href=\"https://github.com/jupyterlab/jupyterlab/issues/17418\">(#17418)</a>: <em>Backport PR #17413 on branch 4.3.x (More specific selector for \"Copy Output to Clipboard\")</em> by <strong><a href=\"https://github.com/meeseeksmachine\">@meeseeksmachine</a></strong> merged by <strong><a href=\"https://github.com/krassowski\">@krassowski</a></strong></li>\n<li><a href=\"https://github.com/jupyterlab/jupyterlab/issues/17421\">(#17421)</a>: <em>Fix for filebrowser tooltip rendering the kernel info repeatedly</em> by <strong><a href=\"https://github.com/itsmevichu\">@itsmevichu</a></strong> merged by <strong><a href=\"https://github.com/krassowski\">@krassowski</a></strong></li>\n<li><a href=\"https://github.com/jupyterlab/jupyterlab/issues/17429\">(#17429)</a>: <em>Fix document search matching text within unsupported SVG tags</em> by <strong><a href=\"https://github.com/achhina\">@achhina</a></strong> merged by <strong><a href=\"https://github.com/krassowski\">@krassowski</a></strong></li>\n<li><a href=\"https://github.com/jupyterlab/jupyterlab/issues/17430\">(#17430)</a>: <em>Make <code>ILabShell</code> optional in the logconsole extension</em> by <strong><a href=\"https://github.com/jtpio\">@jtpio</a></strong> merged by <strong><a href=\"https://github.com/krassowski\">@krassowski</a></strong></li>\n<li><a href=\"https://github.com/jupyterlab/jupyterlab/issues/17432\">(#17432)</a>: <em>fix: packages/docmanager/package.json to reduce vulnerabilities</em> by <strong><a href=\"https://github.com/YvesNDIKURIYO-2022\">@YvesNDIKURIYO-2022</a></strong> merged by <strong><a href=\"https://github.com/krassowski\">@krassowski</a></strong></li>\n<li><a href=\"https://github.com/jupyterlab/jupyterlab/issues/17436\">(#17436)</a>: <em>Bump vega from 5.31.0 to 5.32.0</em> by <strong><a href=\"https://github.com/dependabot[bot]\">@dependabot[bot]</a></strong> merged by <strong><a href=\"https://github.com/krassowski\">@krassowski</a></strong></li>\n<li><a href=\"https://github.com/jupyterlab/jupyterlab/issues/17437\">(#17437)</a>: <em>Fix usage of <code>ITerminalAPIClient</code> in <code>TerminalConnection</code></em> by <strong><a href=\"https://github.com/jtpio\">@jtpio</a></strong> merged by <strong><a href=\"https://github.com/jtpio\">@jtpio</a></strong></li>\n<li><a href=\"https://github.com/jupyterlab/jupyterlab/issues/17438\">(#17438)</a>: <em>Fix visual indication for drag and drop in editor</em> by <strong><a href=\"https://github.com/MUFFANUJ\">@MUFFANUJ</a></strong> merged by <strong><a href=\"https://github.com/krassowski\">@krassowski</a></strong></li>\n<li><a href=\"https://github.com/jupyterlab/jupyterlab/issues/17440\">(#17440)</a>: <em>Fix read-only indicator not showing in RTC docprovider</em> by <strong><a href=\"https://github.com/Darshan808\">@Darshan808</a></strong> merged by <strong><a href=\"https://github.com/krassowski\">@krassowski</a></strong></li>\n<li><a href=\"https://github.com/jupyterlab/jupyterlab/issues/17441\">(#17441)</a>: <em>Add distinct accessible aria label for each toolbar</em> by <strong><a href=\"https://github.com/nkn2022\">@nkn2022</a></strong> merged by <strong><a href=\"https://github.com/krassowski\">@krassowski</a></strong></li>\n<li><a href=\"https://github.com/jupyterlab/jupyterlab/issues/17442\">(#17442)</a>: <em>Fix CommandPalette gets re-rendered even if hidden</em> by <strong><a href=\"https://github.com/fcollonval\">@fcollonval</a></strong> merged by <strong><a href=\"https://github.com/krassowski\">@krassowski</a></strong></li>\n<li><a href=\"https://github.com/jupyterlab/jupyterlab/issues/17443\">(#17443)</a>: <em>Bump vega from 5.31.0 to 5.33.0 in /jupyterlab/staging</em> by <strong><a href=\"https://github.com/dependabot[bot]\">@dependabot[bot]</a></strong> merged by <strong><a href=\"https://github.com/krassowski\">@krassowski</a></strong></li>\n<li><a href=\"https://github.com/jupyterlab/jupyterlab/issues/17444\">(#17444)</a>: <em>Do not try to prettier <code>.mypy_cache</code></em> by <strong><a href=\"https://github.com/krassowski\">@krassowski</a></strong> merged by <strong><a href=\"https://github.com/jtpio\">@jtpio</a></strong></li>\n<li><a href=\"https://github.com/jupyterlab/jupyterlab/issues/17445\">(#17445)</a>: <em>Use the system clipboard for copying and pasting cells</em> by <strong><a href=\"https://github.com/yacchin1205\">@yacchin1205</a></strong> merged by <strong><a href=\"https://github.com/krassowski\">@krassowski</a></strong></li>\n<li><a href=\"https://github.com/jupyterlab/jupyterlab/issues/17448\">(#17448)</a>: <em>Bump nanoid from 3.3.7 to 3.3.11 in /jupyterlab/tests/mock_packages/test-hyphens-underscore</em> by <strong><a href=\"https://github.com/dependabot[bot]\">@dependabot[bot]</a></strong> merged by <strong><a href=\"https://github.com/krassowski\">@krassowski</a></strong></li>\n<li><a href=\"https://github.com/jupyterlab/jupyterlab/issues/17453\">(#17453)</a>: <em>Remove dependencies for Python &lt; 3.9</em> by <strong><a href=\"https://github.com/bnavigator\">@bnavigator</a></strong> merged by <strong><a href=\"https://github.com/jtpio\">@jtpio</a></strong></li>\n<li><a href=\"https://github.com/jupyterlab/jupyterlab/issues/17454\">(#17454)</a>: <em>[pre-commit.ci] pre-commit autoupdate</em> by <strong><a href=\"https://github.com/pre-commit-ci[bot]\">@pre-commit-ci[bot]</a></strong> merged by <strong><a href=\"https://github.com/jtpio\">@jtpio</a></strong></li>\n<li><a href=\"https://github.com/jupyterlab/jupyterlab/issues/17457\">(#17457)</a>: <em>Fix <code>@jupyterlab/services</code> import</em> by <strong><a href=\"https://github.com/jtpio\">@jtpio</a></strong> merged by <strong><a href=\"https://github.com/krassowski\">@krassowski</a></strong></li>\n<li><a href=\"https://github.com/jupyterlab/jupyterlab/issues/17463\">(#17463)</a>: <em>Backport PR #17429 on branch 4.3.x (Fix document search matching text within unsupported SVG tags)</em> by <strong><a href=\"https://github.com/meeseeksmachine\">@meeseeksmachine</a></strong> merged by <strong><a href=\"https://github.com/krassowski\">@krassowski</a></strong></li>\n<li><a href=\"https://github.com/jupyterlab/jupyterlab/issues/17466\">(#17466)</a>: <em>Fix incorrect modifications in collaborative save events</em> by <strong><a href=\"https://github.com/Darshan808\">@Darshan808</a></strong> merged by <strong><a href=\"https://github.com/krassowski\">@krassowski</a></strong></li>\n<li><a href=\"https://github.com/jupyterlab/jupyterlab/issues/17468\">(#17468)</a>: <em>Backport PR #17466 on branch 4.3.x (Fix incorrect modifications in collaborative save events)</em> by <strong><a href=\"https://github.com/meeseeksmachine\">@meeseeksmachine</a></strong> merged by <strong><a href=\"https://github.com/krassowski\">@krassowski</a></strong></li>\n<li><a href=\"https://github.com/jupyterlab/jupyterlab/issues/17469\">(#17469)</a>: <em>Follow changes to stream outputs</em> by <strong><a href=\"https://github.com/davidbrochart\">@davidbrochart</a></strong> merged by <strong><a href=\"https://github.com/krassowski\">@krassowski</a></strong></li>\n<li><a href=\"https://github.com/jupyterlab/jupyterlab/issues/17472\">(#17472)</a>: <em>Add <code>aria-hidden</code> to icons (<code>&lt;svg&gt;</code> elements) which do not have a <code>title</code></em> by <strong><a href=\"https://github.com/nkn2022\">@nkn2022</a></strong> merged by <strong><a href=\"https://github.com/krassowski\">@krassowski</a></strong></li>\n<li><a href=\"https://github.com/jupyterlab/jupyterlab/issues/17475\">(#17475)</a>: <em>Fix handling of the single click navigation</em> by <strong><a href=\"https://github.com/jtpio\">@jtpio</a></strong> merged by <strong><a href=\"https://github.com/afshin\">@afshin</a></strong></li>\n<li><a href=\"https://github.com/jupyterlab/jupyterlab/issues/17476\">(#17476)</a>: <em>Reorder <code>extra_labextensions_path</code> to favor defaults</em> by <strong><a href=\"https://github.com/peytondmurray\">@peytondmurray</a></strong> merged by <strong><a href=\"https://github.com/krassowski\">@krassowski</a></strong></li>\n<li><a href=\"https://github.com/jupyterlab/jupyterlab/issues/17477\">(#17477)</a>: <em>Fix token extraction for incomplete paths</em> by <strong><a href=\"https://github.com/DenisaCG\">@DenisaCG</a></strong> merged by <strong><a href=\"https://github.com/krassowski\">@krassowski</a></strong></li>\n<li><a href=\"https://github.com/jupyterlab/jupyterlab/issues/17481\">(#17481)</a>: <em>Add test for stream outputs</em> by <strong><a href=\"https://github.com/davidbrochart\">@davidbrochart</a></strong> merged by <strong><a href=\"https://github.com/davidbrochart\">@davidbrochart</a></strong></li>\n<li><a href=\"https://github.com/jupyterlab/jupyterlab/issues/17482\">(#17482)</a>: <em>Add an optional <code>exportAs</code> method to <code>NbConvert.IManager</code></em> by <strong><a href=\"https://github.com/jtpio\">@jtpio</a></strong> merged by <strong><a href=\"https://github.com/krassowski\">@krassowski</a></strong></li>\n<li><a href=\"https://github.com/jupyterlab/jupyterlab/issues/17483\">(#17483)</a>: <em>Update to Playwright 1.52.0</em> by <strong><a href=\"https://github.com/jtpio\">@jtpio</a></strong> merged by <strong><a href=\"https://github.com/jtpio\">@jtpio</a></strong></li>\n<li><a href=\"https://github.com/jupyterlab/jupyterlab/issues/17486\">(#17486)</a>: <em>Fix undo/redo in cells created in <code>none</code> windowing mode</em> by <strong><a href=\"https://github.com/krassowski\">@krassowski</a></strong> merged by <strong><a href=\"https://github.com/jtpio\">@jtpio</a></strong></li>\n<li><a href=\"https://github.com/jupyterlab/jupyterlab/issues/17487\">(#17487)</a>: <em>Add new CSS rule for expanding linked output to 100% height</em> by <strong><a href=\"https://github.com/SylvainCorlay\">@SylvainCorlay</a></strong> merged by <strong><a href=\"https://github.com/krassowski\">@krassowski</a></strong></li>\n<li><a href=\"https://github.com/jupyterlab/jupyterlab/issues/17491\">(#17491)</a>: <em>Bump @babel/runtime from 7.21.0 to 7.27.0</em> by <strong><a href=\"https://github.com/dependabot[bot]\">@dependabot[bot]</a></strong> merged by <strong><a href=\"https://github.com/krassowski\">@krassowski</a></strong></li>\n<li><a href=\"https://github.com/jupyterlab/jupyterlab/issues/17492\">(#17492)</a>: <em>Backport PR #17486 on branch 4.3.x (Fix undo/redo in cells created in none windowing mode)</em> by <strong><a href=\"https://github.com/krassowski\">@krassowski</a></strong> merged by <strong><a href=\"https://github.com/krassowski\">@krassowski</a></strong></li>\n<li><a href=\"https://github.com/jupyterlab/jupyterlab/issues/17494\">(#17494)</a>: <em>Bump webpack from 5.91.0 to 5.99.6 in /jupyterlab/tests/mock_packages/test_no_hyphens</em> by <strong><a href=\"https://github.com/dependabot[bot]\">@dependabot[bot]</a></strong> merged by <strong><a href=\"https://github.com/krassowski\">@krassowski</a></strong></li>\n<li><a href=\"https://github.com/jupyterlab/jupyterlab/issues/17495\">(#17495)</a>: <em>Bump webpack from 5.91.0 to 5.99.6 in /jupyterlab/tests/mock_packages/test-hyphens-underscore</em> by <strong><a href=\"https://github.com/dependabot[bot]\">@dependabot[bot]</a></strong> merged by <strong><a href=\"https://github.com/krassowski\">@krassowski</a></strong></li>\n<li><a href=\"https://github.com/jupyterlab/jupyterlab/issues/17499\">(#17499)</a>: <em>Bump ws from 8.16.0 to 8.18.1 in /jupyterlab/tests/mock_packages/test_no_hyphens</em> by <strong><a href=\"https://github.com/dependabot[bot]\">@dependabot[bot]</a></strong> merged by <strong><a href=\"https://github.com/krassowski\">@krassowski</a></strong></li>\n<li><a href=\"https://github.com/jupyterlab/jupyterlab/issues/17500\">(#17500)</a>: <em>Bump ws from 8.16.0 to 8.18.1 in /jupyterlab/tests/mock_packages/test-hyphens-underscore</em> by <strong><a href=\"https://github.com/dependabot[bot]\">@dependabot[bot]</a></strong> merged by <strong><a href=\"https://github.com/krassowski\">@krassowski</a></strong></li>\n<li><a href=\"https://github.com/jupyterlab/jupyterlab/issues/17502\">(#17502)</a>: <em>Bump tough-cookie from 4.1.2 to 4.1.4</em> by <strong><a href=\"https://github.com/dependabot[bot]\">@dependabot[bot]</a></strong> merged by <strong><a href=\"https://github.com/krassowski\">@krassowski</a></strong></li>\n<li><a href=\"https://github.com/jupyterlab/jupyterlab/issues/17503\">(#17503)</a>: <em>Backport PR #17502 on branch 4.4.x (Bump tough-cookie from 4.1.2 to 4.1.4)</em> by <strong><a href=\"https://github.com/meeseeksmachine\">@meeseeksmachine</a></strong> merged by <strong><a href=\"https://github.com/krassowski\">@krassowski</a></strong></li>\n<li><a href=\"https://github.com/jupyterlab/jupyterlab/issues/17505\">(#17505)</a>: <em>Add new entry to Postmortems in <code>RELEASE.md</code></em> by <strong><a href=\"https://github.com/jtpio\">@jtpio</a></strong> merged by <strong><a href=\"https://github.com/krassowski\">@krassowski</a></strong></li>\n<li><a href=\"https://github.com/jupyterlab/jupyterlab/issues/17511\">(#17511)</a>: <em>Fix editing shortcuts on Safari (allow shortcut edit button to receive focus)</em> by <strong><a href=\"https://github.com/minrk\">@minrk</a></strong> merged by <strong><a href=\"https://github.com/krassowski\">@krassowski</a></strong></li>\n<li><a href=\"https://github.com/jupyterlab/jupyterlab/issues/17512\">(#17512)</a>: <em>Backport PR #17511 on branch 4.3.x (Fix editing shortcuts on Safari (allow shortcut edit button to receive focus))</em> by <strong><a href=\"https://github.com/meeseeksmachine\">@meeseeksmachine</a></strong> merged by <strong><a href=\"https://github.com/jtpio\">@jtpio</a></strong></li>\n<li><a href=\"https://github.com/jupyterlab/jupyterlab/issues/17513\">(#17513)</a>: <em>Backport PR #17511 on branch 4.4.x (Fix editing shortcuts on Safari (allow shortcut edit button to receive focus))</em> by <strong><a href=\"https://github.com/meeseeksmachine\">@meeseeksmachine</a></strong> merged by <strong><a href=\"https://github.com/krassowski\">@krassowski</a></strong></li>\n<li><a href=\"https://github.com/jupyterlab/jupyterlab/issues/17519\">(#17519)</a>: <em>Update lower bound for <code>setuptools</code></em> by <strong><a href=\"https://github.com/jtpio\">@jtpio</a></strong> merged by <strong><a href=\"https://github.com/jtpio\">@jtpio</a></strong></li>\n<li><a href=\"https://github.com/jupyterlab/jupyterlab/issues/17520\">(#17520)</a>: <em>Backport PR #17219 on branch 4.3.x (Updated mock packages to use hatch-jupyter-builder)</em> by <strong><a href=\"https://github.com/meeseeksmachine\">@meeseeksmachine</a></strong> merged by <strong><a href=\"https://github.com/krassowski\">@krassowski</a></strong></li>\n<li><a href=\"https://github.com/jupyterlab/jupyterlab/issues/17522\">(#17522)</a>: <em>[4.3.x] Drop 3.8 from the testing matrix</em> by <strong><a href=\"https://github.com/jtpio\">@jtpio</a></strong> merged by <strong><a href=\"https://github.com/jtpio\">@jtpio</a></strong></li>\n<li><a href=\"https://github.com/jupyterlab/jupyterlab/issues/17523\">(#17523)</a>: <em>Backport PR #17472 on branch 4.4.x (Add <code>aria-hidden</code> to icons (<code>&lt;svg&gt;</code> elements) which do not have a <code>title</code>)</em> by <strong><a href=\"https://github.com/meeseeksmachine\">@meeseeksmachine</a></strong> merged by <strong><a href=\"https://github.com/krassowski\">@krassowski</a></strong></li>\n<li><a href=\"https://github.com/jupyterlab/jupyterlab/issues/17525\">(#17525)</a>: <em>Update lumino to <code>v2025.4.30</code> to pull menu aria fix</em> by <strong><a href=\"https://github.com/krassowski\">@krassowski</a></strong> merged by <strong><a href=\"https://github.com/krassowski\">@krassowski</a></strong></li>\n<li><a href=\"https://github.com/jupyterlab/jupyterlab/issues/17526\">(#17526)</a>: <em>Upgrade CodeMirror packages to latest</em> by <strong><a href=\"https://github.com/krassowski\">@krassowski</a></strong> merged by <strong><a href=\"https://github.com/krassowski\">@krassowski</a></strong></li>\n<li><a href=\"https://github.com/jupyterlab/jupyterlab/issues/17527\">(#17527)</a>: <em>Fix incorrect ARIA labels in the <code>MainAreaWidget</code></em> by <strong><a href=\"https://github.com/dnlzrgz\">@dnlzrgz</a></strong> merged by <strong><a href=\"https://github.com/krassowski\">@krassowski</a></strong></li>\n<li><a href=\"https://github.com/jupyterlab/jupyterlab/issues/17528\">(#17528)</a>: <em>Fix rendering of long cell editors in windowed notebook</em> by <strong><a href=\"https://github.com/krassowski\">@krassowski</a></strong> merged by <strong><a href=\"https://github.com/krassowski\">@krassowski</a></strong></li>\n<li><a href=\"https://github.com/jupyterlab/jupyterlab/issues/17529\">(#17529)</a>: <em>Bump actions/create-github-app-token from 1 to 2 in the actions group</em> by <strong><a href=\"https://github.com/dependabot[bot]\">@dependabot[bot]</a></strong> merged by <strong><a href=\"https://github.com/krassowski\">@krassowski</a></strong></li>\n<li><a href=\"https://github.com/jupyterlab/jupyterlab/issues/17531\">(#17531)</a>: <em>Backport PR #17528 on branch 4.4.x (Fix rendering of long cell editors in windowed notebook)</em> by <strong><a href=\"https://github.com/meeseeksmachine\">@meeseeksmachine</a></strong> merged by <strong><a href=\"https://github.com/krassowski\">@krassowski</a></strong></li>\n<li><a href=\"https://github.com/jupyterlab/jupyterlab/issues/17532\">(#17532)</a>: <em>Update widget flag on attaching cell to viewport</em> by <strong><a href=\"https://github.com/trungleduc\">@trungleduc</a></strong> merged by <strong><a href=\"https://github.com/krassowski\">@krassowski</a></strong></li>\n<li><a href=\"https://github.com/jupyterlab/jupyterlab/issues/17533\">(#17533)</a>: <em>Backport PR #17525 on branch 4.4.x (Update lumino to <code>v2025.4.30</code> to pull menu aria fix)</em> by <strong><a href=\"https://github.com/meeseeksmachine\">@meeseeksmachine</a></strong> merged by <strong><a href=\"https://github.com/krassowski\">@krassowski</a></strong></li>\n<li><a href=\"https://github.com/jupyterlab/jupyterlab/issues/17534\">(#17534)</a>: <em>Backport PR #17532 on branch 4.4.x (Update widget flag on attaching cell to viewport)</em> by <strong><a href=\"https://github.com/meeseeksmachine\">@meeseeksmachine</a></strong> merged by <strong><a href=\"https://github.com/krassowski\">@krassowski</a></strong></li>\n<li><a href=\"https://github.com/jupyterlab/jupyterlab/issues/17535\">(#17535)</a>: <em>Backport PR #17526 on branch 4.4.x (Upgrade CodeMirror packages to latest)</em> by <strong><a href=\"https://github.com/meeseeksmachine\">@meeseeksmachine</a></strong> merged by <strong><a href=\"https://github.com/krassowski\">@krassowski</a></strong></li>\n<li><a href=\"https://github.com/jupyterlab/jupyterlab/issues/17536\">(#17536)</a>: <em>Reconfigure 4.3.x branch (4.4.x is new stable)</em> by <strong><a href=\"https://github.com/krassowski\">@krassowski</a></strong> merged by <strong><a href=\"https://github.com/jtpio\">@jtpio</a></strong></li>\n<li><a href=\"https://github.com/jupyterlab/jupyterlab/issues/17537\">(#17537)</a>: <em>Reconfigure 4.4.x branch</em> by <strong><a href=\"https://github.com/krassowski\">@krassowski</a></strong> merged by <strong><a href=\"https://github.com/jtpio\">@jtpio</a></strong></li>\n<li><a href=\"https://github.com/jupyterlab/jupyterlab/issues/17540\">(#17540)</a>: <em>Fix Settings Editor incorrectly resetting values to default in filtered view</em> by <strong><a href=\"https://github.com/yukiiii04\">@yukiiii04</a></strong> merged by <strong><a href=\"https://github.com/krassowski\">@krassowski</a></strong></li>\n<li><a href=\"https://github.com/jupyterlab/jupyterlab/issues/17543\">(#17543)</a>: <em>[pre-commit.ci] pre-commit autoupdate</em> by <strong><a href=\"https://github.com/pre-commit-ci[bot]\">@pre-commit-ci[bot]</a></strong> merged by <strong><a href=\"https://github.com/krassowski\">@krassowski</a></strong></li>\n<li><a href=\"https://github.com/jupyterlab/jupyterlab/issues/17544\">(#17544)</a>: <em>Temporarily ignore links to github.com</em> by <strong><a href=\"https://github.com/krassowski\">@krassowski</a></strong> merged by <strong><a href=\"https://github.com/jtpio\">@jtpio</a></strong></li>\n<li><a href=\"https://github.com/jupyterlab/jupyterlab/issues/17545\">(#17545)</a>: <em>Backport PR #17540 on branch 4.3.x (Fix Settings Editor incorrectly resetting values to default in filtered view)</em> by <strong><a href=\"https://github.com/meeseeksmachine\">@meeseeksmachine</a></strong> merged by <strong><a href=\"https://github.com/krassowski\">@krassowski</a></strong></li>\n<li><a href=\"https://github.com/jupyterlab/jupyterlab/issues/17546\">(#17546)</a>: <em>Backport PR #17540 on branch 4.4.x (Fix Settings Editor incorrectly resetting values to default in filtered view)</em> by <strong><a href=\"https://github.com/meeseeksmachine\">@meeseeksmachine</a></strong> merged by <strong><a href=\"https://github.com/krassowski\">@krassowski</a></strong></li>\n<li><a href=\"https://github.com/jupyterlab/jupyterlab/issues/17547\">(#17547)</a>: <em>Add a setting to configure the default log level for the Log Console</em> by <strong><a href=\"https://github.com/jtpio\">@jtpio</a></strong> merged by <strong><a href=\"https://github.com/krassowski\">@krassowski</a></strong></li>\n<li><a href=\"https://github.com/jupyterlab/jupyterlab/issues/17550\">(#17550)</a>: <em><code>fileeditor-extension</code>: fix handling of launcher, commands and menu entries on <code>specsChanged</code></em> by <strong><a href=\"https://github.com/jtpio\">@jtpio</a></strong> merged by <strong><a href=\"https://github.com/jtpio\">@jtpio</a></strong></li>\n<li><a href=\"https://github.com/jupyterlab/jupyterlab/issues/17551\">(#17551)</a>: <em>Backport PR #17544 on branch 4.3.x (Temporarily ignore links to github.com)</em> by <strong><a href=\"https://github.com/meeseeksmachine\">@meeseeksmachine</a></strong> merged by <strong><a href=\"https://github.com/krassowski\">@krassowski</a></strong></li>\n<li><a href=\"https://github.com/jupyterlab/jupyterlab/issues/17552\">(#17552)</a>: <em>Backport PR #17544 on branch 4.4.x (Temporarily ignore links to github.com)</em> by <strong><a href=\"https://github.com/meeseeksmachine\">@meeseeksmachine</a></strong> merged by <strong><a href=\"https://github.com/jtpio\">@jtpio</a></strong></li>\n<li><a href=\"https://github.com/jupyterlab/jupyterlab/issues/17553\">(#17553)</a>: <em>Backport PR #17550 on branch 4.4.x (<code>fileeditor-extension</code>: fix handling of launcher, commands and menu entries on <code>specsChanged</code>)</em> by <strong><a href=\"https://github.com/meeseeksmachine\">@meeseeksmachine</a></strong> merged by <strong><a href=\"https://github.com/krassowski\">@krassowski</a></strong></li>\n<li><a href=\"https://github.com/jupyterlab/jupyterlab/issues/17555\">(#17555)</a>: <em>Pin <code>snowballstemmer</code> to <code>&lt;3.0.0</code></em> by <strong><a href=\"https://github.com/krassowski\">@krassowski</a></strong> merged by <strong><a href=\"https://github.com/krassowski\">@krassowski</a></strong></li>\n<li><a href=\"https://github.com/jupyterlab/jupyterlab/issues/17559\">(#17559)</a>: <em>Use hatch to get the version</em> by <strong><a href=\"https://github.com/krassowski\">@krassowski</a></strong> merged by <strong><a href=\"https://github.com/jtpio\">@jtpio</a></strong></li>\n<li><a href=\"https://github.com/jupyterlab/jupyterlab/issues/17561\">(#17561)</a>: <em>Backport PR #17559 on branch 4.4.x (Use hatch to get the version)</em> by <strong><a href=\"https://github.com/meeseeksmachine\">@meeseeksmachine</a></strong> merged by <strong><a href=\"https://github.com/krassowski\">@krassowski</a></strong></li>\n</ul>"
      }
     },
     "9cd9b1cd7b8647c79f934346c7463df4": {
      "model_module": "@jupyter-widgets/base",
      "model_module_version": "2.0.0",
      "model_name": "LayoutModel",
      "state": {
       "_model_module": "@jupyter-widgets/base",
       "_model_module_version": "2.0.0",
       "_model_name": "LayoutModel",
       "_view_count": null,
       "_view_module": "@jupyter-widgets/base",
       "_view_module_version": "2.0.0",
       "_view_name": "LayoutView",
       "align_content": null,
       "align_items": null,
       "align_self": null,
       "border_bottom": null,
       "border_left": null,
       "border_right": null,
       "border_top": null,
       "bottom": null,
       "display": null,
       "flex": null,
       "flex_flow": null,
       "grid_area": null,
       "grid_auto_columns": null,
       "grid_auto_flow": null,
       "grid_auto_rows": null,
       "grid_column": null,
       "grid_gap": null,
       "grid_row": null,
       "grid_template_areas": null,
       "grid_template_columns": null,
       "grid_template_rows": null,
       "height": null,
       "justify_content": null,
       "justify_items": null,
       "left": null,
       "margin": null,
       "max_height": null,
       "max_width": null,
       "min_height": null,
       "min_width": null,
       "object_fit": null,
       "object_position": null,
       "order": null,
       "overflow": null,
       "padding": null,
       "right": null,
       "top": null,
       "visibility": null,
       "width": null
      }
     },
     "a0170f66e3f749e6a1e355d8200f26e4": {
      "model_module": "@jupyter-widgets/controls",
      "model_module_version": "2.0.0",
      "model_name": "HTMLModel",
      "state": {
       "_dom_classes": [],
       "_model_module": "@jupyter-widgets/controls",
       "_model_module_version": "2.0.0",
       "_model_name": "HTMLModel",
       "_view_count": null,
       "_view_module": "@jupyter-widgets/controls",
       "_view_module_version": "2.0.0",
       "_view_name": "HTMLView",
       "description": "",
       "description_allow_html": false,
       "layout": "IPY_MODEL_5e2d84c4ad9444c2a85d294f1efd3e69",
       "placeholder": "​",
       "style": "IPY_MODEL_1e80d852350447eaa4992b78809409fa",
       "tabbable": null,
       "tooltip": null,
       "value": "<h4>Closed PRs for repo: <a href=\"https://github.com/jupyterlab/jupyterlab_server\">jupyterlab/jupyterlab_server</a></h4>\n<h5></h5>\n<ul>\n<li><a href=\"https://github.com/jupyterlab/jupyterlab_server/issues/465\">(#465)</a>: <em>Fixed import issue for _camelCase in handlers.py</em> by <strong><a href=\"https://github.com/SHRISHTISHUKLA-0\">@SHRISHTISHUKLA-0</a></strong> merged by <strong><a href=\"https://github.com/krassowski\">@krassowski</a></strong></li>\n<li><a href=\"https://github.com/jupyterlab/jupyterlab_server/issues/466\">(#466)</a>: <em>Fix- resolved pr issues and improved jupyterlab server handlers</em> by <strong><a href=\"https://github.com/SHRISHTISHUKLA-0\">@SHRISHTISHUKLA-0</a></strong> merged by <strong><a href=\"https://github.com/krassowski\">@krassowski</a></strong></li>\n<li><a href=\"https://github.com/jupyterlab/jupyterlab_server/issues/467\">(#467)</a>: <em>Align default language</em> by <strong><a href=\"https://github.com/fcollonval\">@fcollonval</a></strong> merged by <strong><a href=\"https://github.com/fcollonval\">@fcollonval</a></strong></li>\n</ul>"
      }
     },
     "a633f003da364d52876c20adbb5168ea": {
      "model_module": "@jupyter-widgets/controls",
      "model_module_version": "2.0.0",
      "model_name": "TabModel",
      "state": {
       "_dom_classes": [],
       "_model_module": "@jupyter-widgets/controls",
       "_model_module_version": "2.0.0",
       "_model_name": "TabModel",
       "_view_count": null,
       "_view_module": "@jupyter-widgets/controls",
       "_view_module_version": "2.0.0",
       "_view_name": "TabView",
       "box_style": "",
       "children": [
        "IPY_MODEL_aba2c1b511094eb39ef0e6e1ba7a9297",
        "IPY_MODEL_99c750ebab9c4d5292cff94162ed62ca",
        "IPY_MODEL_2e994509e48a4b53918c3080892c0a07",
        "IPY_MODEL_4fb49a6872674bebbeca62de5f671565",
        "IPY_MODEL_a0170f66e3f749e6a1e355d8200f26e4"
       ],
       "layout": "IPY_MODEL_00d63d5763d145fab0212fa7ccc0765d",
       "selected_index": 0,
       "tabbable": null,
       "titles": [
        "jupyter-renderers",
        "jupyterlab",
        "jupyterlab-desktop",
        "jupyterlab-git",
        "jupyterlab_server"
       ],
       "tooltip": null
      }
     },
     "ab4177c3805548e8b51890653019d699": {
      "model_module": "@jupyter-widgets/controls",
      "model_module_version": "2.0.0",
      "model_name": "HTMLModel",
      "state": {
       "_dom_classes": [],
       "_model_module": "@jupyter-widgets/controls",
       "_model_module_version": "2.0.0",
       "_model_name": "HTMLModel",
       "_view_count": null,
       "_view_module": "@jupyter-widgets/controls",
       "_view_module_version": "2.0.0",
       "_view_name": "HTMLView",
       "description": "",
       "description_allow_html": false,
       "layout": "IPY_MODEL_baed9d477db346c0893d091e1adedac1",
       "placeholder": "​",
       "style": "IPY_MODEL_44b1c017bf4347c89e1331baf1826715",
       "tabbable": null,
       "tooltip": null,
       "value": "<h5><a href=\"https://github.com/jupyterlab/jupyterlab-desktop\">jupyterlab/jupyterlab-desktop</a></h5>\n<ul>\n<li><a href=\"https://github.com/jupyterlab/jupyterlab-desktop/issues/890\">(#890)</a>: <em>Should we archive this project?</em> by <strong><a href=\"https://github.com/krassowski\">@krassowski</a></strong></li>\n<li><a href=\"https://github.com/jupyterlab/jupyterlab-desktop/issues/888\">(#888)</a>: <em>[macOS] App CLI is not executable Error: EACCES: permission denied</em> by <strong><a href=\"https://github.com/lewisl\">@lewisl</a></strong></li>\n<li><a href=\"https://github.com/jupyterlab/jupyterlab-desktop/issues/885\">(#885)</a>: <em>bug when commenting out code ( see vid )</em> by <strong><a href=\"https://github.com/mreisbeck2\">@mreisbeck2</a></strong></li>\n<li><a href=\"https://github.com/jupyterlab/jupyterlab-desktop/issues/891\">(#891)</a>: <em>Improve documentation for running alternative kernels</em> by <strong><a href=\"https://github.com/Ahri-man\">@Ahri-man</a></strong></li>\n<li><a href=\"https://github.com/jupyterlab/jupyterlab-desktop/issues/892\">(#892)</a>: <em>installation issue macOS(arm64)</em> by <strong><a href=\"https://github.com/shmIuser44\">@shmIuser44</a></strong></li>\n</ul>"
      }
     },
     "aba2c1b511094eb39ef0e6e1ba7a9297": {
      "model_module": "@jupyter-widgets/controls",
      "model_module_version": "2.0.0",
      "model_name": "HTMLModel",
      "state": {
       "_dom_classes": [],
       "_model_module": "@jupyter-widgets/controls",
       "_model_module_version": "2.0.0",
       "_model_name": "HTMLModel",
       "_view_count": null,
       "_view_module": "@jupyter-widgets/controls",
       "_view_module_version": "2.0.0",
       "_view_name": "HTMLView",
       "description": "",
       "description_allow_html": false,
       "layout": "IPY_MODEL_5005285a7c6b4e128a19250caea09f81",
       "placeholder": "​",
       "style": "IPY_MODEL_2ab211ca889c486db6492187581961ea",
       "tabbable": null,
       "tooltip": null,
       "value": "<h4>Closed PRs for repo: <a href=\"https://github.com/jupyterlab/jupyter-renderers\">jupyterlab/jupyter-renderers</a></h4>\n<h5></h5>\n<ul>\n<li><a href=\"https://github.com/jupyterlab/jupyter-renderers/issues/326\">(#326)</a>: <em>Bump serialize-javascript from 6.0.1 to 6.0.2</em> by <strong><a href=\"https://github.com/dependabot[bot]\">@dependabot[bot]</a></strong> merged by <strong><a href=\"https://github.com/fcollonval\">@fcollonval</a></strong></li>\n</ul>"
      }
     },
     "ae51d2bf49b341f2bde63f205c7c877b": {
      "model_module": "@jupyter-widgets/controls",
      "model_module_version": "2.0.0",
      "model_name": "HTMLStyleModel",
      "state": {
       "_model_module": "@jupyter-widgets/controls",
       "_model_module_version": "2.0.0",
       "_model_name": "HTMLStyleModel",
       "_view_count": null,
       "_view_module": "@jupyter-widgets/base",
       "_view_module_version": "2.0.0",
       "_view_name": "StyleView",
       "background": null,
       "description_width": "",
       "font_size": null,
       "text_color": null
      }
     },
     "aeca2d27a5e044a2bfa50acfc2fe12fd": {
      "model_module": "@jupyter-widgets/base",
      "model_module_version": "2.0.0",
      "model_name": "LayoutModel",
      "state": {
       "_model_module": "@jupyter-widgets/base",
       "_model_module_version": "2.0.0",
       "_model_name": "LayoutModel",
       "_view_count": null,
       "_view_module": "@jupyter-widgets/base",
       "_view_module_version": "2.0.0",
       "_view_name": "LayoutView",
       "align_content": null,
       "align_items": null,
       "align_self": null,
       "border_bottom": null,
       "border_left": null,
       "border_right": null,
       "border_top": null,
       "bottom": null,
       "display": null,
       "flex": null,
       "flex_flow": null,
       "grid_area": null,
       "grid_auto_columns": null,
       "grid_auto_flow": null,
       "grid_auto_rows": null,
       "grid_column": null,
       "grid_gap": null,
       "grid_row": null,
       "grid_template_areas": null,
       "grid_template_columns": null,
       "grid_template_rows": null,
       "height": null,
       "justify_content": null,
       "justify_items": null,
       "left": null,
       "margin": null,
       "max_height": null,
       "max_width": null,
       "min_height": null,
       "min_width": null,
       "object_fit": null,
       "object_position": null,
       "order": null,
       "overflow": null,
       "padding": null,
       "right": null,
       "top": null,
       "visibility": null,
       "width": null
      }
     },
     "af4f3153005542f09a4826bc505908f3": {
      "model_module": "@jupyter-widgets/controls",
      "model_module_version": "2.0.0",
      "model_name": "HTMLModel",
      "state": {
       "_dom_classes": [],
       "_model_module": "@jupyter-widgets/controls",
       "_model_module_version": "2.0.0",
       "_model_name": "HTMLModel",
       "_view_count": null,
       "_view_module": "@jupyter-widgets/controls",
       "_view_module_version": "2.0.0",
       "_view_name": "HTMLView",
       "description": "",
       "description_allow_html": false,
       "layout": "IPY_MODEL_8053ec78b51848d48edac6adfda04232",
       "placeholder": "​",
       "style": "IPY_MODEL_4730879c85ae4944b87a0408ba91bae7",
       "tabbable": null,
       "tooltip": null,
       "value": "<ul>\n<li>(117) Implement variable inspector for kernels - jupyterlab - <a href=\"https://github.com/jupyterlab/jupyterlab/issues/443\">#443</a></li>\n<li>(57) allowing copy/paste in right click menu in notebook - jupyterlab - <a href=\"https://github.com/jupyterlab/jupyterlab/issues/3224\">#3224</a></li>\n<li>(52) Switching to a big notebook in a tab is slow - jupyterlab - <a href=\"https://github.com/jupyterlab/jupyterlab/issues/4292\">#4292</a></li>\n<li>(46) Remove a cell from evaluation queue - jupyterlab - <a href=\"https://github.com/jupyterlab/jupyterlab/issues/7825\">#7825</a></li>\n<li>(45) Is any way to highlight the selected word - jupyterlab - <a href=\"https://github.com/jupyterlab/jupyterlab/issues/6112\">#6112</a></li>\n<li>(34) Add a linter to the editor - jupyterlab - <a href=\"https://github.com/jupyterlab/jupyterlab/issues/1278\">#1278</a></li>\n<li>(33) Skip H1 headers - jupyterlab-toc - <a href=\"https://github.com/jupyterlab/jupyterlab-toc/issues/66\">#66</a></li>\n<li>(33) Syntax highlighting for SQL cell magic - jupyterlab - <a href=\"https://github.com/jupyterlab/jupyterlab/issues/3869\">#3869</a></li>\n<li>(32) Feedback from a Jupyter notebook fanatic comming to Jupyter lab  - jupyterlab - <a href=\"https://github.com/jupyterlab/jupyterlab/issues/2972\">#2972</a></li>\n<li>(32) Open existing Notebook without kernel - jupyterlab - <a href=\"https://github.com/jupyterlab/jupyterlab/issues/4040\">#4040</a></li>\n<li>(30) themes from jupyter-themes - jupyterlab - <a href=\"https://github.com/jupyterlab/jupyterlab/issues/3844\">#3844</a></li>\n<li>(30) Feature request:  Emacs keybindings for notebook - jupyterlab - <a href=\"https://github.com/jupyterlab/jupyterlab/issues/3885\">#3885</a></li>\n<li>(30) Adding an option to disable file download on Jupyterlab - jupyterlab - <a href=\"https://github.com/jupyterlab/jupyterlab/issues/5274\">#5274</a></li>\n<li>(28) WIP/Discussion: Tree view for file browser - jupyterlab - <a href=\"https://github.com/jupyterlab/jupyterlab/issues/5526\">#5526</a></li>\n<li>(28) Show RAM usage of kernels - jupyterlab - <a href=\"https://github.com/jupyterlab/jupyterlab/issues/4012\">#4012</a></li>\n<li>(27) Trailing whitespace in editor - jupyterlab - <a href=\"https://github.com/jupyterlab/jupyterlab/issues/3904\">#3904</a></li>\n<li>(24) JupyterLab vision for the next few years - frontends-team-compass - <a href=\"https://github.com/jupyterlab/frontends-team-compass/issues/80\">#80</a></li>\n<li>(23) Open a notebook from JupyterLab terminal - jupyterlab - <a href=\"https://github.com/jupyterlab/jupyterlab/issues/5056\">#5056</a></li>\n<li>(23) Typing single or double quote when text is selected erases the text - jupyterlab - <a href=\"https://github.com/jupyterlab/jupyterlab/issues/9897\">#9897</a></li>\n<li>(22) Changing Browser Tab Title for JupyterLab - jupyterlab - <a href=\"https://github.com/jupyterlab/jupyterlab/issues/4422\">#4422</a></li>\n<li>(21) Failure to start jupyter lab --- IndexError: pop from an empty deque  - jupyterlab - <a href=\"https://github.com/jupyterlab/jupyterlab/issues/11934\">#11934</a></li>\n<li>(20) Improve user experience in Launcher - jupyterlab - <a href=\"https://github.com/jupyterlab/jupyterlab/issues/3795\">#3795</a></li>\n<li>(20) Code formatter - jupyterlab - <a href=\"https://github.com/jupyterlab/jupyterlab/issues/4521\">#4521</a></li>\n<li>(19) File Save Error: Failed to fetch - jupyterlab - <a href=\"https://github.com/jupyterlab/jupyterlab/issues/3964\">#3964</a></li>\n<li>(19) Inline Whiteboard - jupyterlab - <a href=\"https://github.com/jupyterlab/jupyterlab/issues/9194\">#9194</a></li>\n</ul>"
      }
     },
     "b8c3b2bae02143279db530096083dd36": {
      "model_module": "@jupyter-widgets/controls",
      "model_module_version": "2.0.0",
      "model_name": "HTMLModel",
      "state": {
       "_dom_classes": [],
       "_model_module": "@jupyter-widgets/controls",
       "_model_module_version": "2.0.0",
       "_model_name": "HTMLModel",
       "_view_count": null,
       "_view_module": "@jupyter-widgets/controls",
       "_view_module_version": "2.0.0",
       "_view_name": "HTMLView",
       "description": "",
       "description_allow_html": false,
       "layout": "IPY_MODEL_aeca2d27a5e044a2bfa50acfc2fe12fd",
       "placeholder": "​",
       "style": "IPY_MODEL_908f5189829a4ecbab25810af71ec20c",
       "tabbable": null,
       "tooltip": null,
       "value": "<h5><a href=\"https://github.com/jupyterlab/jupyterlab-desktop\">jupyterlab/jupyterlab-desktop</a></h5>\n<ul>\n<li><a href=\"https://github.com/jupyterlab/jupyterlab-desktop/issues/890\">(#890)</a>: <em>Should we archive this project?</em> by <strong><a href=\"https://github.com/krassowski\">@krassowski</a></strong></li>\n<li><a href=\"https://github.com/jupyterlab/jupyterlab-desktop/issues/888\">(#888)</a>: <em>[macOS] App CLI is not executable Error: EACCES: permission denied</em> by <strong><a href=\"https://github.com/lewisl\">@lewisl</a></strong></li>\n<li><a href=\"https://github.com/jupyterlab/jupyterlab-desktop/issues/885\">(#885)</a>: <em>bug when commenting out code ( see vid )</em> by <strong><a href=\"https://github.com/mreisbeck2\">@mreisbeck2</a></strong></li>\n<li><a href=\"https://github.com/jupyterlab/jupyterlab-desktop/issues/891\">(#891)</a>: <em>Improve documentation for running alternative kernels</em> by <strong><a href=\"https://github.com/Ahri-man\">@Ahri-man</a></strong></li>\n<li><a href=\"https://github.com/jupyterlab/jupyterlab-desktop/issues/892\">(#892)</a>: <em>installation issue macOS(arm64)</em> by <strong><a href=\"https://github.com/shmIuser44\">@shmIuser44</a></strong></li>\n</ul>"
      }
     },
     "baed9d477db346c0893d091e1adedac1": {
      "model_module": "@jupyter-widgets/base",
      "model_module_version": "2.0.0",
      "model_name": "LayoutModel",
      "state": {
       "_model_module": "@jupyter-widgets/base",
       "_model_module_version": "2.0.0",
       "_model_name": "LayoutModel",
       "_view_count": null,
       "_view_module": "@jupyter-widgets/base",
       "_view_module_version": "2.0.0",
       "_view_name": "LayoutView",
       "align_content": null,
       "align_items": null,
       "align_self": null,
       "border_bottom": null,
       "border_left": null,
       "border_right": null,
       "border_top": null,
       "bottom": null,
       "display": null,
       "flex": null,
       "flex_flow": null,
       "grid_area": null,
       "grid_auto_columns": null,
       "grid_auto_flow": null,
       "grid_auto_rows": null,
       "grid_column": null,
       "grid_gap": null,
       "grid_row": null,
       "grid_template_areas": null,
       "grid_template_columns": null,
       "grid_template_rows": null,
       "height": null,
       "justify_content": null,
       "justify_items": null,
       "left": null,
       "margin": null,
       "max_height": null,
       "max_width": null,
       "min_height": null,
       "min_width": null,
       "object_fit": null,
       "object_position": null,
       "order": null,
       "overflow": null,
       "padding": null,
       "right": null,
       "top": null,
       "visibility": null,
       "width": null
      }
     },
     "c7f1ccd2235a4e4db604f4f6ce09d9f3": {
      "model_module": "@jupyter-widgets/controls",
      "model_module_version": "2.0.0",
      "model_name": "HTMLStyleModel",
      "state": {
       "_model_module": "@jupyter-widgets/controls",
       "_model_module_version": "2.0.0",
       "_model_name": "HTMLStyleModel",
       "_view_count": null,
       "_view_module": "@jupyter-widgets/base",
       "_view_module_version": "2.0.0",
       "_view_name": "StyleView",
       "background": null,
       "description_width": "",
       "font_size": null,
       "text_color": null
      }
     },
     "d6744cc126664c05ba8477bfe4b121da": {
      "model_module": "@jupyter-widgets/controls",
      "model_module_version": "2.0.0",
      "model_name": "TabModel",
      "state": {
       "_dom_classes": [],
       "_model_module": "@jupyter-widgets/controls",
       "_model_module_version": "2.0.0",
       "_model_name": "TabModel",
       "_view_count": null,
       "_view_module": "@jupyter-widgets/controls",
       "_view_module_version": "2.0.0",
       "_view_name": "TabView",
       "box_style": "",
       "children": [
        "IPY_MODEL_b8c3b2bae02143279db530096083dd36",
        "IPY_MODEL_0d938329dcaa47cfae660776d2273fc6",
        "IPY_MODEL_2500e6be3a8d47308edbaac1c4277151"
       ],
       "layout": "IPY_MODEL_ef1297b291f14f3fb1b3371a2b7900ae",
       "selected_index": 0,
       "tabbable": null,
       "titles": [
        "jupyterlab-desktop",
        "jupyterlab-git",
        "jupyterlab-latex"
       ],
       "tooltip": null
      }
     },
     "e398185db01c49afaf978723a4b9ff3a": {
      "model_module": "@jupyter-widgets/base",
      "model_module_version": "2.0.0",
      "model_name": "LayoutModel",
      "state": {
       "_model_module": "@jupyter-widgets/base",
       "_model_module_version": "2.0.0",
       "_model_name": "LayoutModel",
       "_view_count": null,
       "_view_module": "@jupyter-widgets/base",
       "_view_module_version": "2.0.0",
       "_view_name": "LayoutView",
       "align_content": null,
       "align_items": null,
       "align_self": null,
       "border_bottom": null,
       "border_left": null,
       "border_right": null,
       "border_top": null,
       "bottom": null,
       "display": null,
       "flex": null,
       "flex_flow": null,
       "grid_area": null,
       "grid_auto_columns": null,
       "grid_auto_flow": null,
       "grid_auto_rows": null,
       "grid_column": null,
       "grid_gap": null,
       "grid_row": null,
       "grid_template_areas": null,
       "grid_template_columns": null,
       "grid_template_rows": null,
       "height": null,
       "justify_content": null,
       "justify_items": null,
       "left": null,
       "margin": null,
       "max_height": null,
       "max_width": null,
       "min_height": null,
       "min_width": null,
       "object_fit": null,
       "object_position": null,
       "order": null,
       "overflow": null,
       "padding": null,
       "right": null,
       "top": null,
       "visibility": null,
       "width": null
      }
     },
     "e57de29fac754a31a9ae24855e52aecb": {
      "model_module": "@jupyter-widgets/controls",
      "model_module_version": "2.0.0",
      "model_name": "HTMLModel",
      "state": {
       "_dom_classes": [],
       "_model_module": "@jupyter-widgets/controls",
       "_model_module_version": "2.0.0",
       "_model_name": "HTMLModel",
       "_view_count": null,
       "_view_module": "@jupyter-widgets/controls",
       "_view_module_version": "2.0.0",
       "_view_name": "HTMLView",
       "description": "",
       "description_allow_html": false,
       "layout": "IPY_MODEL_20a26e60d7844960a2a12c4d6e069a1b",
       "placeholder": "​",
       "style": "IPY_MODEL_511baf5e6d174b439923cf28439cd953",
       "tabbable": null,
       "tooltip": null,
       "value": "<h5><a href=\"https://github.com/jupyterlab/jupyterlab-latex\">jupyterlab/jupyterlab-latex</a></h5>\n<ul>\n<li><a href=\"https://github.com/jupyterlab/jupyterlab-latex/issues/249\">(#249)</a>: <em>MY ENTIRE HOME DIRECTORY WAS OBLITERATED BECAUSE OF THIS EXTENSION!! UNBELIEVABLE!!!</em> by <strong><a href=\"https://github.com/dogganon\">@dogganon</a></strong></li>\n<li><a href=\"https://github.com/jupyterlab/jupyterlab-latex/issues/153\">(#153)</a>: <em>Suggestion: tab replace commands with unicode math symbols</em> by <strong><a href=\"https://github.com/gjvnq\">@gjvnq</a></strong></li>\n</ul>"
      }
     },
     "ef1297b291f14f3fb1b3371a2b7900ae": {
      "model_module": "@jupyter-widgets/base",
      "model_module_version": "2.0.0",
      "model_name": "LayoutModel",
      "state": {
       "_model_module": "@jupyter-widgets/base",
       "_model_module_version": "2.0.0",
       "_model_name": "LayoutModel",
       "_view_count": null,
       "_view_module": "@jupyter-widgets/base",
       "_view_module_version": "2.0.0",
       "_view_name": "LayoutView",
       "align_content": null,
       "align_items": null,
       "align_self": null,
       "border_bottom": null,
       "border_left": null,
       "border_right": null,
       "border_top": null,
       "bottom": null,
       "display": null,
       "flex": null,
       "flex_flow": null,
       "grid_area": null,
       "grid_auto_columns": null,
       "grid_auto_flow": null,
       "grid_auto_rows": null,
       "grid_column": null,
       "grid_gap": null,
       "grid_row": null,
       "grid_template_areas": null,
       "grid_template_columns": null,
       "grid_template_rows": null,
       "height": null,
       "justify_content": null,
       "justify_items": null,
       "left": null,
       "margin": null,
       "max_height": null,
       "max_width": null,
       "min_height": null,
       "min_width": null,
       "object_fit": null,
       "object_position": null,
       "order": null,
       "overflow": null,
       "padding": null,
       "right": null,
       "top": null,
       "visibility": null,
       "width": null
      }
     },
     "ff1f8d0c257540f79b1160cf34cc6af2": {
      "model_module": "@jupyter-widgets/controls",
      "model_module_version": "2.0.0",
      "model_name": "HTMLStyleModel",
      "state": {
       "_model_module": "@jupyter-widgets/controls",
       "_model_module_version": "2.0.0",
       "_model_name": "HTMLStyleModel",
       "_view_count": null,
       "_view_module": "@jupyter-widgets/base",
       "_view_module_version": "2.0.0",
       "_view_name": "StyleView",
       "background": null,
       "description_width": "",
       "font_size": null,
       "text_color": null
      }
     }
    },
    "version_major": 2,
    "version_minor": 0
   }
  }
 },
 "nbformat": 4,
 "nbformat_minor": 5
}