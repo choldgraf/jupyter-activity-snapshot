{
 "cells": [
  {
   "cell_type": "markdown",
   "id": "39a21fba",
   "metadata": {
    "papermill": {
     "duration": 0.015344,
     "end_time": "2025-05-16T01:30:49.156825",
     "exception": false,
     "start_time": "2025-05-16T01:30:49.141481",
     "status": "completed"
    },
    "tags": []
   },
   "source": [
    "# {glue:text}`jupyterlab_github_org`\n",
    "\n",
    "**Activity from {glue:}`jupyterlab_start` to {glue:}`jupyterlab_stop`**"
   ]
  },
  {
   "cell_type": "code",
   "execution_count": 1,
   "id": "14b0e14b",
   "metadata": {
    "editable": true,
    "execution": {
     "iopub.execute_input": "2025-05-16T01:30:49.186966Z",
     "iopub.status.busy": "2025-05-16T01:30:49.186550Z",
     "iopub.status.idle": "2025-05-16T01:30:50.053948Z",
     "shell.execute_reply": "2025-05-16T01:30:50.053256Z"
    },
    "papermill": {
     "duration": 0.883863,
     "end_time": "2025-05-16T01:30:50.055349",
     "exception": false,
     "start_time": "2025-05-16T01:30:49.171486",
     "status": "completed"
    },
    "slideshow": {
     "slide_type": ""
    },
    "tags": [
     "remove_cell"
    ]
   },
   "outputs": [],
   "source": [
    "from datetime import date\n",
    "from dateutil.relativedelta import relativedelta\n",
    "from myst_nb import glue\n",
    "import seaborn as sns\n",
    "import pandas as pd\n",
    "import numpy as np\n",
    "import altair as alt\n",
    "from markdown import markdown\n",
    "from IPython.display import Markdown\n",
    "from ipywidgets.widgets import HTML, Tab\n",
    "from ipywidgets import widgets\n",
    "from datetime import timedelta\n",
    "from matplotlib import pyplot as plt\n",
    "import os.path as op\n",
    "from json import loads\n",
    "\n",
    "from warnings import simplefilter\n",
    "simplefilter('ignore')\n",
    "pd.set_option('display.max_columns', None) # 'None' means show all"
   ]
  },
  {
   "cell_type": "code",
   "execution_count": 2,
   "id": "be1d56dd",
   "metadata": {
    "editable": true,
    "execution": {
     "iopub.execute_input": "2025-05-16T01:30:50.087192Z",
     "iopub.status.busy": "2025-05-16T01:30:50.086685Z",
     "iopub.status.idle": "2025-05-16T01:30:50.093623Z",
     "shell.execute_reply": "2025-05-16T01:30:50.092994Z"
    },
    "papermill": {
     "duration": 0.024062,
     "end_time": "2025-05-16T01:30:50.094661",
     "exception": false,
     "start_time": "2025-05-16T01:30:50.070599",
     "status": "completed"
    },
    "slideshow": {
     "slide_type": ""
    },
    "tags": [
     "remove_cell"
    ]
   },
   "outputs": [],
   "source": [
    "# Altair config\n",
    "def author_url(author):\n",
    "    return f\"https://github.com/{author}\"\n",
    "\n",
    "def alt_theme():\n",
    "    return {\n",
    "        'config': {\n",
    "            'axisLeft': {\n",
    "                'labelFontSize': 15,\n",
    "            },\n",
    "            'axisBottom': {\n",
    "                'labelFontSize': 15,\n",
    "            },\n",
    "        }\n",
    "    }\n",
    "\n",
    "alt.themes.register('my_theme', alt_theme)\n",
    "alt.themes.enable(\"my_theme\")\n",
    "\n",
    "\n",
    "# Define colors we'll use for GitHub membership\n",
    "author_types = ['MEMBER', 'CONTRIBUTOR', 'COLLABORATOR', \"NONE\"]\n",
    "\n",
    "author_palette = np.array(sns.palettes.blend_palette([\"lightgrey\", \"lightgreen\", \"darkgreen\"], 4)) * 256\n",
    "author_colors = [\"rgb({}, {}, {})\".format(*color) for color in author_palette]\n",
    "author_color_dict = {key: val for key, val in zip(author_types, author_palette)}"
   ]
  },
  {
   "cell_type": "code",
   "execution_count": 3,
   "id": "7d189158",
   "metadata": {
    "editable": true,
    "execution": {
     "iopub.execute_input": "2025-05-16T01:30:50.123551Z",
     "iopub.status.busy": "2025-05-16T01:30:50.123080Z",
     "iopub.status.idle": "2025-05-16T01:30:50.126094Z",
     "shell.execute_reply": "2025-05-16T01:30:50.125558Z"
    },
    "papermill": {
     "duration": 0.01854,
     "end_time": "2025-05-16T01:30:50.127125",
     "exception": false,
     "start_time": "2025-05-16T01:30:50.108585",
     "status": "completed"
    },
    "slideshow": {
     "slide_type": ""
    },
    "tags": [
     "parameters",
     "hide_input",
     "remove_cell"
    ]
   },
   "outputs": [],
   "source": [
    "github_org = \"jupyterhub\"\n",
    "top_n_repos = 15\n",
    "n_days = 90"
   ]
  },
  {
   "cell_type": "code",
   "execution_count": 4,
   "id": "6d73573a",
   "metadata": {
    "execution": {
     "iopub.execute_input": "2025-05-16T01:30:50.155963Z",
     "iopub.status.busy": "2025-05-16T01:30:50.155774Z",
     "iopub.status.idle": "2025-05-16T01:30:50.158874Z",
     "shell.execute_reply": "2025-05-16T01:30:50.158297Z"
    },
    "papermill": {
     "duration": 0.018853,
     "end_time": "2025-05-16T01:30:50.159912",
     "exception": false,
     "start_time": "2025-05-16T01:30:50.141059",
     "status": "completed"
    },
    "tags": [
     "injected-parameters",
     "remove-cell"
    ]
   },
   "outputs": [],
   "source": [
    "# Parameters\n",
    "github_org = \"jupyterlab\"\n",
    "n_days = 90\n"
   ]
  },
  {
   "cell_type": "code",
   "execution_count": 5,
   "id": "a8a6825b",
   "metadata": {
    "editable": true,
    "execution": {
     "iopub.execute_input": "2025-05-16T01:30:50.190048Z",
     "iopub.status.busy": "2025-05-16T01:30:50.189682Z",
     "iopub.status.idle": "2025-05-16T01:30:50.212004Z",
     "shell.execute_reply": "2025-05-16T01:30:50.211443Z"
    },
    "papermill": {
     "duration": 0.038602,
     "end_time": "2025-05-16T01:30:50.213048",
     "exception": false,
     "start_time": "2025-05-16T01:30:50.174446",
     "status": "completed"
    },
    "slideshow": {
     "slide_type": ""
    },
    "tags": [
     "remove_cell"
    ]
   },
   "outputs": [
    {
     "data": {
      "application/papermill.record/text/plain": "'jupyterlab'"
     },
     "metadata": {
      "scrapbook": {
       "mime_prefix": "application/papermill.record/",
       "name": "jupyterlab_github_org"
      }
     },
     "output_type": "display_data"
    },
    {
     "data": {
      "application/papermill.record/text/plain": "'2025-02-15'"
     },
     "metadata": {
      "scrapbook": {
       "mime_prefix": "application/papermill.record/",
       "name": "jupyterlab_start"
      }
     },
     "output_type": "display_data"
    },
    {
     "data": {
      "application/papermill.record/text/plain": "'2025-05-16'"
     },
     "metadata": {
      "scrapbook": {
       "mime_prefix": "application/papermill.record/",
       "name": "jupyterlab_stop"
      }
     },
     "output_type": "display_data"
    }
   ],
   "source": [
    "############################################################\n",
    "# Variables\n",
    "stop = date.today()\n",
    "start = date.today() - relativedelta(days=n_days)\n",
    "\n",
    "# Strings for use in queries\n",
    "start_date = f\"{start:%Y-%m-%d}\"\n",
    "stop_date = f\"{stop:%Y-%m-%d}\"\n",
    "\n",
    "# Glue variables for use in markdown\n",
    "glue(f\"{github_org}_github_org\", github_org, display=False)\n",
    "glue(f\"{github_org}_start\", start_date, display=False)\n",
    "glue(f\"{github_org}_stop\", stop_date, display=False)"
   ]
  },
  {
   "cell_type": "markdown",
   "id": "58402f17",
   "metadata": {
    "editable": true,
    "papermill": {
     "duration": 0.01423,
     "end_time": "2025-05-16T01:30:50.241608",
     "exception": false,
     "start_time": "2025-05-16T01:30:50.227378",
     "status": "completed"
    },
    "slideshow": {
     "slide_type": ""
    },
    "tags": []
   },
   "source": [
    "## Load data\n",
    "\n",
    "Load and clean up the data"
   ]
  },
  {
   "cell_type": "code",
   "execution_count": 6,
   "id": "c136d0b6",
   "metadata": {
    "editable": true,
    "execution": {
     "iopub.execute_input": "2025-05-16T01:30:50.271099Z",
     "iopub.status.busy": "2025-05-16T01:30:50.270720Z",
     "iopub.status.idle": "2025-05-16T01:30:50.274979Z",
     "shell.execute_reply": "2025-05-16T01:30:50.274440Z"
    },
    "papermill": {
     "duration": 0.020228,
     "end_time": "2025-05-16T01:30:50.276035",
     "exception": false,
     "start_time": "2025-05-16T01:30:50.255807",
     "status": "completed"
    },
    "slideshow": {
     "slide_type": ""
    },
    "tags": [
     "remove_cell"
    ]
   },
   "outputs": [],
   "source": [
    "from pathlib import Path\n",
    "import sqlite3\n",
    "path_data = Path(\"../data\")\n",
    "path_data = list(path_data.rglob(f\"*{github_org}.db\"))[0]\n",
    "\n",
    "def df_from_sql(query, db):\n",
    "    con = sqlite3.connect(db)\n",
    "    return pd.read_sql(query, con)\n",
    "    con.close()"
   ]
  },
  {
   "cell_type": "code",
   "execution_count": 7,
   "id": "79f61147",
   "metadata": {
    "editable": true,
    "execution": {
     "iopub.execute_input": "2025-05-16T01:30:50.307289Z",
     "iopub.status.busy": "2025-05-16T01:30:50.306906Z",
     "iopub.status.idle": "2025-05-16T01:30:51.117895Z",
     "shell.execute_reply": "2025-05-16T01:30:51.117114Z"
    },
    "papermill": {
     "duration": 0.82878,
     "end_time": "2025-05-16T01:30:51.119566",
     "exception": false,
     "start_time": "2025-05-16T01:30:50.290786",
     "status": "completed"
    },
    "scrolled": true,
    "slideshow": {
     "slide_type": ""
    },
    "tags": [
     "remove_cell"
    ]
   },
   "outputs": [
    {
     "name": "stdout",
     "output_type": "stream",
     "text": [
      "Loading from ../data/0e94c4215e649a3f19cab0230e5b1092-jupyterlab.db\n"
     ]
    }
   ],
   "source": [
    "print(f\"Loading from {path_data}\")\n",
    "repos = df_from_sql(\"SELECT * FROM repos\", path_data)\n",
    "users = df_from_sql(\"SELECT * FROM users\", path_data)\n",
    "issues = df_from_sql(\"SELECT * FROM issues\", path_data)\n",
    "comments = df_from_sql(\"SELECT * FROM issue_comments\", path_data)\n",
    "\n",
    "# Merge repository information into issues\n",
    "def merge_repo_into_df(df, kind):\n",
    "    df = pd.merge(df, users[[\"id\", \"login\"]], left_on=\"user\", right_on=\"id\", suffixes=(\"_issue\", \"_user\"), how=\"inner\")\n",
    "    df = pd.merge(df, repos[[\"id\", \"full_name\", \"name\"]], left_on=\"repo\", right_on=\"id\", suffixes=(\"_issue\", \"_repo\"), how=\"inner\")\n",
    "    df[\"org\"] = df[\"full_name\"].map(lambda a: a.split('/')[0])\n",
    "    df[\"repo\"] = df[\"full_name\"].map(lambda a: a.split('/')[1])\n",
    "    df[\"url\"] = \"https://github.com/\" + df[\"org\"] + \"/\" + df[\"repo\"] + f\"/{kind}/\" + df[\"number\"].astype(str)\n",
    "    return df\n",
    "issues = merge_repo_into_df(issues, kind=\"issues\")\n",
    "\n",
    "# Pull out the Pull Requests from Issues\n",
    "prs = issues.loc[~issues[\"pull_request\"].isna()]\n",
    "def identify_merger(closedby):\n",
    "    if not closedby:\n",
    "        return None\n",
    "    try:\n",
    "        cb = loads(closedby)\n",
    "    except:\n",
    "        print(closedby)\n",
    "    return cb[\"login\"]\n",
    "prs[\"merged_by\"] = prs[\"closed_by\"].map(identify_merger)\n",
    "\n",
    "# These issues now _remove_ the PRs\n",
    "issues = issues.loc[issues[\"pull_request\"].isna()]\n",
    "\n",
    "# Add reactions data\n",
    "def count_positive(a):\n",
    "    a = loads(a)\n",
    "    return a[\"+1\"] + a[\"hooray\"] + a[\"heart\"]\n",
    "issues[\"positive\"] = issues[\"reactions\"].map(count_positive)\n",
    "\n",
    "# Drop comments if there is no associated issue\n",
    "comments = comments.dropna(subset=[\"issue\"])\n",
    "comments[\"issue\"] = comments.loc[:, \"issue\"].astype(int)\n",
    "\n",
    "# Add repository information to comments\n",
    "comments = pd.merge(comments, issues[[\"id_issue\", \"full_name\", \"org\", \"repo\"]], left_on=\"issue\", right_on=\"id_issue\", how=\"inner\", suffixes=(\"_comment\", \"_issue\"))\n",
    "\n",
    "# Merge user data into comments\n",
    "comments = pd.merge(comments, users[[\"id\", \"login\"]], left_on=\"user\", right_on=\"id\", suffixes=(\"_comment\", \"_user\"), how=\"inner\")"
   ]
  },
  {
   "cell_type": "code",
   "execution_count": 8,
   "id": "821451a9",
   "metadata": {
    "editable": true,
    "execution": {
     "iopub.execute_input": "2025-05-16T01:30:51.150458Z",
     "iopub.status.busy": "2025-05-16T01:30:51.150212Z",
     "iopub.status.idle": "2025-05-16T01:30:51.240242Z",
     "shell.execute_reply": "2025-05-16T01:30:51.239556Z"
    },
    "papermill": {
     "duration": 0.106575,
     "end_time": "2025-05-16T01:30:51.241442",
     "exception": false,
     "start_time": "2025-05-16T01:30:51.134867",
     "status": "completed"
    },
    "slideshow": {
     "slide_type": ""
    },
    "tags": [
     "remove_cell"
    ]
   },
   "outputs": [],
   "source": [
    "# Convert columns to datetime\n",
    "datetime_columns = [\"created_at\", \"closed_at\"]\n",
    "for df in [comments, issues, prs]:\n",
    "    for col in datetime_columns:\n",
    "        if col in df:\n",
    "            df[col] = pd.to_datetime(df[col])\n",
    "            # Strip timezone information so we can run simpler queries\n",
    "            df[col] = df[col].dt.tz_localize(None)"
   ]
  },
  {
   "cell_type": "code",
   "execution_count": 9,
   "id": "f8f9a8b6",
   "metadata": {
    "editable": true,
    "execution": {
     "iopub.execute_input": "2025-05-16T01:30:51.272712Z",
     "iopub.status.busy": "2025-05-16T01:30:51.272491Z",
     "iopub.status.idle": "2025-05-16T01:30:51.295079Z",
     "shell.execute_reply": "2025-05-16T01:30:51.294532Z"
    },
    "papermill": {
     "duration": 0.039641,
     "end_time": "2025-05-16T01:30:51.296114",
     "exception": false,
     "start_time": "2025-05-16T01:30:51.256473",
     "status": "completed"
    },
    "slideshow": {
     "slide_type": ""
    },
    "tags": [
     "remove_cell"
    ]
   },
   "outputs": [],
   "source": [
    "# What are the top N repos, we will only plot these in the full data plots\n",
    "top_commented_repos = comments.groupby(\"repo\").count().sort_values(\"created_at\", ascending=False)['created_at']\n",
    "use_repos = top_commented_repos.head(top_n_repos).index.tolist()"
   ]
  },
  {
   "cell_type": "markdown",
   "id": "9bdf9f14",
   "metadata": {
    "editable": true,
    "papermill": {
     "duration": 0.014485,
     "end_time": "2025-05-16T01:30:51.325252",
     "exception": false,
     "start_time": "2025-05-16T01:30:51.310767",
     "status": "completed"
    },
    "slideshow": {
     "slide_type": ""
    },
    "tags": [],
    "toc-hr-collapsed": false
   },
   "source": [
    "## Merged Pull requests\n",
    "\n",
    "Here's an analysis of **merged pull requests** across each of the repositories in the Jupyter\n",
    "ecosystem."
   ]
  },
  {
   "cell_type": "code",
   "execution_count": 10,
   "id": "d91d032a",
   "metadata": {
    "editable": true,
    "execution": {
     "iopub.execute_input": "2025-05-16T01:30:51.355231Z",
     "iopub.status.busy": "2025-05-16T01:30:51.355036Z",
     "iopub.status.idle": "2025-05-16T01:30:51.367429Z",
     "shell.execute_reply": "2025-05-16T01:30:51.366916Z"
    },
    "papermill": {
     "duration": 0.028595,
     "end_time": "2025-05-16T01:30:51.368541",
     "exception": false,
     "start_time": "2025-05-16T01:30:51.339946",
     "status": "completed"
    },
    "slideshow": {
     "slide_type": ""
    },
    "tags": [
     "remove_cell"
    ]
   },
   "outputs": [],
   "source": [
    "merged = prs.query('state == \"closed\" and closed_at > @start_date and closed_at < @stop_date')"
   ]
  },
  {
   "cell_type": "code",
   "execution_count": 11,
   "id": "c26df04d",
   "metadata": {
    "editable": true,
    "execution": {
     "iopub.execute_input": "2025-05-16T01:30:51.399674Z",
     "iopub.status.busy": "2025-05-16T01:30:51.399452Z",
     "iopub.status.idle": "2025-05-16T01:30:51.438613Z",
     "shell.execute_reply": "2025-05-16T01:30:51.437942Z"
    },
    "papermill": {
     "duration": 0.056233,
     "end_time": "2025-05-16T01:30:51.439782",
     "exception": false,
     "start_time": "2025-05-16T01:30:51.383549",
     "status": "completed"
    },
    "slideshow": {
     "slide_type": ""
    },
    "tags": [
     "hide_input"
    ]
   },
   "outputs": [
    {
     "data": {
      "text/html": [
       "\n",
       "<style>\n",
       "  #altair-viz-7452863a04bd48228c126c2ab1fde822.vega-embed {\n",
       "    width: 100%;\n",
       "    display: flex;\n",
       "  }\n",
       "\n",
       "  #altair-viz-7452863a04bd48228c126c2ab1fde822.vega-embed details,\n",
       "  #altair-viz-7452863a04bd48228c126c2ab1fde822.vega-embed details summary {\n",
       "    position: relative;\n",
       "  }\n",
       "</style>\n",
       "<div id=\"altair-viz-7452863a04bd48228c126c2ab1fde822\"></div>\n",
       "<script type=\"text/javascript\">\n",
       "  var VEGA_DEBUG = (typeof VEGA_DEBUG == \"undefined\") ? {} : VEGA_DEBUG;\n",
       "  (function(spec, embedOpt){\n",
       "    let outputDiv = document.currentScript.previousElementSibling;\n",
       "    if (outputDiv.id !== \"altair-viz-7452863a04bd48228c126c2ab1fde822\") {\n",
       "      outputDiv = document.getElementById(\"altair-viz-7452863a04bd48228c126c2ab1fde822\");\n",
       "    }\n",
       "\n",
       "    const paths = {\n",
       "      \"vega\": \"https://cdn.jsdelivr.net/npm/vega@5?noext\",\n",
       "      \"vega-lib\": \"https://cdn.jsdelivr.net/npm/vega-lib?noext\",\n",
       "      \"vega-lite\": \"https://cdn.jsdelivr.net/npm/vega-lite@5.20.1?noext\",\n",
       "      \"vega-embed\": \"https://cdn.jsdelivr.net/npm/vega-embed@6?noext\",\n",
       "    };\n",
       "\n",
       "    function maybeLoadScript(lib, version) {\n",
       "      var key = `${lib.replace(\"-\", \"\")}_version`;\n",
       "      return (VEGA_DEBUG[key] == version) ?\n",
       "        Promise.resolve(paths[lib]) :\n",
       "        new Promise(function(resolve, reject) {\n",
       "          var s = document.createElement('script');\n",
       "          document.getElementsByTagName(\"head\")[0].appendChild(s);\n",
       "          s.async = true;\n",
       "          s.onload = () => {\n",
       "            VEGA_DEBUG[key] = version;\n",
       "            return resolve(paths[lib]);\n",
       "          };\n",
       "          s.onerror = () => reject(`Error loading script: ${paths[lib]}`);\n",
       "          s.src = paths[lib];\n",
       "        });\n",
       "    }\n",
       "\n",
       "    function showError(err) {\n",
       "      outputDiv.innerHTML = `<div class=\"error\" style=\"color:red;\">${err}</div>`;\n",
       "      throw err;\n",
       "    }\n",
       "\n",
       "    function displayChart(vegaEmbed) {\n",
       "      vegaEmbed(outputDiv, spec, embedOpt)\n",
       "        .catch(err => showError(`Javascript Error: ${err.message}<br>This usually means there's a typo in your chart specification. See the javascript console for the full traceback.`));\n",
       "    }\n",
       "\n",
       "    if(typeof define === \"function\" && define.amd) {\n",
       "      requirejs.config({paths});\n",
       "      let deps = [\"vega-embed\"];\n",
       "      require(deps, displayChart, err => showError(`Error loading script: ${err.message}`));\n",
       "    } else {\n",
       "      maybeLoadScript(\"vega\", \"5\")\n",
       "        .then(() => maybeLoadScript(\"vega-lite\", \"5.20.1\"))\n",
       "        .then(() => maybeLoadScript(\"vega-embed\", \"6\"))\n",
       "        .catch(showError)\n",
       "        .then(() => displayChart(vegaEmbed));\n",
       "    }\n",
       "  })({\"config\": {\"axisLeft\": {\"labelFontSize\": 15}, \"axisBottom\": {\"labelFontSize\": 15}}, \"data\": {\"name\": \"data-ed416332d39d94bd44f0e1026165d342\"}, \"mark\": {\"type\": \"bar\"}, \"encoding\": {\"color\": {\"field\": \"org\", \"type\": \"nominal\"}, \"x\": {\"field\": \"repo\", \"sort\": [\"jupyterlab\", \"jupyter-ai\", \"jupyter-chat\", \"language-packs\", \"jupyter-collaboration\", \"lumino\", \"jupyterlab-git\", \"maintainer-tools\", \"extension-examples\", \"extension-template\", \"jupyter-builder\", \".github\", \"frontends-team-compass\", \"jupyter-renderers\", \"jupyterlab-desktop\", \"jupyterlab_server\"], \"type\": \"nominal\"}, \"y\": {\"field\": \"login\", \"type\": \"quantitative\"}}, \"title\": \"Merged PRs in the last 90 days\", \"$schema\": \"https://vega.github.io/schema/vega-lite/v5.20.1.json\", \"datasets\": {\"data-ed416332d39d94bd44f0e1026165d342\": [{\"org\": \"jupyterlab\", \"repo\": \"jupyterlab\", \"login\": 152}, {\"org\": \"jupyterlab\", \"repo\": \"jupyter-ai\", \"login\": 44}, {\"org\": \"jupyterlab\", \"repo\": \"jupyter-chat\", \"login\": 25}, {\"org\": \"jupyterlab\", \"repo\": \"language-packs\", \"login\": 23}, {\"org\": \"jupyterlab\", \"repo\": \"jupyter-collaboration\", \"login\": 19}, {\"org\": \"jupyterlab\", \"repo\": \"lumino\", \"login\": 14}, {\"org\": \"jupyterlab\", \"repo\": \"jupyterlab-git\", \"login\": 4}, {\"org\": \"jupyterlab\", \"repo\": \"maintainer-tools\", \"login\": 4}, {\"org\": \"jupyterlab\", \"repo\": \"extension-examples\", \"login\": 2}, {\"org\": \"jupyterlab\", \"repo\": \"extension-template\", \"login\": 2}, {\"org\": \"jupyterlab\", \"repo\": \"jupyter-builder\", \"login\": 2}, {\"org\": \"jupyterlab\", \"repo\": \".github\", \"login\": 1}, {\"org\": \"jupyterlab\", \"repo\": \"frontends-team-compass\", \"login\": 1}, {\"org\": \"jupyterlab\", \"repo\": \"jupyter-renderers\", \"login\": 1}, {\"org\": \"jupyterlab\", \"repo\": \"jupyterlab-desktop\", \"login\": 1}, {\"org\": \"jupyterlab\", \"repo\": \"jupyterlab_server\", \"login\": 1}]}}, {\"mode\": \"vega-lite\"});\n",
       "</script>"
      ],
      "text/plain": [
       "alt.Chart(...)"
      ]
     },
     "execution_count": 11,
     "metadata": {},
     "output_type": "execute_result"
    }
   ],
   "source": [
    "prs_by_repo = merged.groupby(['org', 'repo']).count()['login'].reset_index().sort_values(['org', 'login'], ascending=False)\n",
    "alt.Chart(data=prs_by_repo, title=f\"Merged PRs in the last {n_days} days\").mark_bar().encode(\n",
    "    x=alt.X('repo', sort=prs_by_repo['repo'].values.tolist()),\n",
    "    y='login',\n",
    "    color='org'\n",
    ")"
   ]
  },
  {
   "cell_type": "markdown",
   "id": "d6f07101",
   "metadata": {
    "editable": true,
    "papermill": {
     "duration": 0.01466,
     "end_time": "2025-05-16T01:30:51.469260",
     "exception": false,
     "start_time": "2025-05-16T01:30:51.454600",
     "status": "completed"
    },
    "slideshow": {
     "slide_type": ""
    },
    "tags": []
   },
   "source": [
    "### Authoring and merging stats by repository\n",
    "\n",
    "Let's see who has been doing most of the PR authoring and merging. The PR author is generally the\n",
    "person that implemented a change in the repository (code, documentation, etc). The PR merger is\n",
    "the person that \"pressed the green button\" and got the change into the main codebase."
   ]
  },
  {
   "cell_type": "code",
   "execution_count": 12,
   "id": "cefada09",
   "metadata": {
    "editable": true,
    "execution": {
     "iopub.execute_input": "2025-05-16T01:30:51.500601Z",
     "iopub.status.busy": "2025-05-16T01:30:51.500397Z",
     "iopub.status.idle": "2025-05-16T01:30:51.510715Z",
     "shell.execute_reply": "2025-05-16T01:30:51.510189Z"
    },
    "papermill": {
     "duration": 0.027306,
     "end_time": "2025-05-16T01:30:51.511796",
     "exception": false,
     "start_time": "2025-05-16T01:30:51.484490",
     "status": "completed"
    },
    "slideshow": {
     "slide_type": ""
    },
    "tags": [
     "remove_cell"
    ]
   },
   "outputs": [],
   "source": [
    "# Prep our merging DF\n",
    "merged_by_repo = merged.groupby(['repo', 'login'], as_index=False).agg({'id': 'count', 'author_association': 'first'}).rename(columns={'id': \"authored\", 'login': 'username'})\n",
    "closed_by_repo = merged.groupby(['name', 'merged_by']).count()['id_issue'].reset_index().rename(columns={'id_issue': \"closed\", \"merged_by\": \"username\"})"
   ]
  },
  {
   "cell_type": "code",
   "execution_count": 13,
   "id": "c6429238",
   "metadata": {
    "editable": true,
    "execution": {
     "iopub.execute_input": "2025-05-16T01:30:51.542188Z",
     "iopub.status.busy": "2025-05-16T01:30:51.541758Z",
     "iopub.status.idle": "2025-05-16T01:30:51.564720Z",
     "shell.execute_reply": "2025-05-16T01:30:51.564069Z"
    },
    "papermill": {
     "duration": 0.039174,
     "end_time": "2025-05-16T01:30:51.565761",
     "exception": false,
     "start_time": "2025-05-16T01:30:51.526587",
     "status": "completed"
    },
    "slideshow": {
     "slide_type": ""
    },
    "tags": [
     "hide_input"
    ]
   },
   "outputs": [
    {
     "data": {
      "text/html": [
       "\n",
       "<style>\n",
       "  #altair-viz-c59994d53c9e4350837c853baf2c8b90.vega-embed {\n",
       "    width: 100%;\n",
       "    display: flex;\n",
       "  }\n",
       "\n",
       "  #altair-viz-c59994d53c9e4350837c853baf2c8b90.vega-embed details,\n",
       "  #altair-viz-c59994d53c9e4350837c853baf2c8b90.vega-embed details summary {\n",
       "    position: relative;\n",
       "  }\n",
       "</style>\n",
       "<div id=\"altair-viz-c59994d53c9e4350837c853baf2c8b90\"></div>\n",
       "<script type=\"text/javascript\">\n",
       "  var VEGA_DEBUG = (typeof VEGA_DEBUG == \"undefined\") ? {} : VEGA_DEBUG;\n",
       "  (function(spec, embedOpt){\n",
       "    let outputDiv = document.currentScript.previousElementSibling;\n",
       "    if (outputDiv.id !== \"altair-viz-c59994d53c9e4350837c853baf2c8b90\") {\n",
       "      outputDiv = document.getElementById(\"altair-viz-c59994d53c9e4350837c853baf2c8b90\");\n",
       "    }\n",
       "\n",
       "    const paths = {\n",
       "      \"vega\": \"https://cdn.jsdelivr.net/npm/vega@5?noext\",\n",
       "      \"vega-lib\": \"https://cdn.jsdelivr.net/npm/vega-lib?noext\",\n",
       "      \"vega-lite\": \"https://cdn.jsdelivr.net/npm/vega-lite@5.20.1?noext\",\n",
       "      \"vega-embed\": \"https://cdn.jsdelivr.net/npm/vega-embed@6?noext\",\n",
       "    };\n",
       "\n",
       "    function maybeLoadScript(lib, version) {\n",
       "      var key = `${lib.replace(\"-\", \"\")}_version`;\n",
       "      return (VEGA_DEBUG[key] == version) ?\n",
       "        Promise.resolve(paths[lib]) :\n",
       "        new Promise(function(resolve, reject) {\n",
       "          var s = document.createElement('script');\n",
       "          document.getElementsByTagName(\"head\")[0].appendChild(s);\n",
       "          s.async = true;\n",
       "          s.onload = () => {\n",
       "            VEGA_DEBUG[key] = version;\n",
       "            return resolve(paths[lib]);\n",
       "          };\n",
       "          s.onerror = () => reject(`Error loading script: ${paths[lib]}`);\n",
       "          s.src = paths[lib];\n",
       "        });\n",
       "    }\n",
       "\n",
       "    function showError(err) {\n",
       "      outputDiv.innerHTML = `<div class=\"error\" style=\"color:red;\">${err}</div>`;\n",
       "      throw err;\n",
       "    }\n",
       "\n",
       "    function displayChart(vegaEmbed) {\n",
       "      vegaEmbed(outputDiv, spec, embedOpt)\n",
       "        .catch(err => showError(`Javascript Error: ${err.message}<br>This usually means there's a typo in your chart specification. See the javascript console for the full traceback.`));\n",
       "    }\n",
       "\n",
       "    if(typeof define === \"function\" && define.amd) {\n",
       "      requirejs.config({paths});\n",
       "      let deps = [\"vega-embed\"];\n",
       "      require(deps, displayChart, err => showError(`Error loading script: ${err.message}`));\n",
       "    } else {\n",
       "      maybeLoadScript(\"vega\", \"5\")\n",
       "        .then(() => maybeLoadScript(\"vega-lite\", \"5.20.1\"))\n",
       "        .then(() => maybeLoadScript(\"vega-embed\", \"6\"))\n",
       "        .catch(showError)\n",
       "        .then(() => displayChart(vegaEmbed));\n",
       "    }\n",
       "  })({\"config\": {\"axisLeft\": {\"labelFontSize\": 15}, \"axisBottom\": {\"labelFontSize\": 15}}, \"data\": {\"name\": \"data-ab45e92ccdc0d4dbfc22f167e74aeaf0\"}, \"mark\": {\"type\": \"bar\"}, \"encoding\": {\"color\": {\"field\": \"author_association\", \"scale\": {\"domain\": [\"MEMBER\", \"CONTRIBUTOR\", \"COLLABORATOR\", \"NONE\"], \"range\": [\"rgb(211.82745098039214, 211.82745098039214, 211.82745098039214)\", \"rgb(166.98562091503268, 229.89803921568628, 166.98562091503268)\", \"rgb(96.37647058823529, 192.75294117647059, 96.37647058823529)\", \"rgb(0.0, 100.3921568627451, 0.0)\"]}, \"type\": \"nominal\"}, \"x\": {\"field\": \"username\", \"type\": \"nominal\"}, \"y\": {\"field\": \"authored\", \"type\": \"quantitative\"}}, \"title\": \"PR authors for jupyterlab in the last 90 days\", \"$schema\": \"https://vega.github.io/schema/vega-lite/v5.20.1.json\", \"datasets\": {\"data-ab45e92ccdc0d4dbfc22f167e74aeaf0\": [{\"username\": \"jtpio\", \"authored\": 41, \"author_association\": \"MEMBER\"}, {\"username\": \"meeseeksmachine\", \"authored\": 40, \"author_association\": \"CONTRIBUTOR\"}, {\"username\": \"dependabot[bot]\", \"authored\": 32, \"author_association\": \"CONTRIBUTOR\"}, {\"username\": \"krassowski\", \"authored\": 30, \"author_association\": \"MEMBER\"}, {\"username\": \"github-actions[bot]\", \"authored\": 22, \"author_association\": \"CONTRIBUTOR\"}, {\"username\": \"brichet\", \"authored\": 21, \"author_association\": \"MEMBER\"}, {\"username\": \"dlqqq\", \"authored\": 13, \"author_association\": \"MEMBER\"}, {\"username\": \"Darshan808\", \"authored\": 13, \"author_association\": \"MEMBER\"}, {\"username\": \"srdas\", \"authored\": 12, \"author_association\": \"COLLABORATOR\"}, {\"username\": \"fcollonval\", \"authored\": 10, \"author_association\": \"MEMBER\"}, {\"username\": \"andrii-i\", \"authored\": 4, \"author_association\": \"MEMBER\"}, {\"username\": \"davidbrochart\", \"authored\": 4, \"author_association\": \"MEMBER\"}, {\"username\": \"keerthi-swarna\", \"authored\": 4, \"author_association\": \"COLLABORATOR\"}, {\"username\": \"afshin\", \"authored\": 3, \"author_association\": \"MEMBER\"}, {\"username\": \"pre-commit-ci[bot]\", \"authored\": 3, \"author_association\": \"CONTRIBUTOR\"}, {\"username\": \"nkn2022\", \"authored\": 3, \"author_association\": \"CONTRIBUTOR\"}, {\"username\": \"itsmevichu\", \"authored\": 3, \"author_association\": \"MEMBER\"}, {\"username\": \"Princekumarofficial\", \"authored\": 2, \"author_association\": \"CONTRIBUTOR\"}, {\"username\": \"MUFFANUJ\", \"authored\": 2, \"author_association\": \"CONTRIBUTOR\"}, {\"username\": \"martinRenou\", \"authored\": 2, \"author_association\": \"MEMBER\"}, {\"username\": \"hxrshxz\", \"authored\": 2, \"author_association\": \"CONTRIBUTOR\"}, {\"username\": \"minrk\", \"authored\": 2, \"author_association\": \"MEMBER\"}, {\"username\": \"bollwyvl\", \"authored\": 1, \"author_association\": \"MEMBER\"}, {\"username\": \"bnavigator\", \"authored\": 1, \"author_association\": \"CONTRIBUTOR\"}, {\"username\": \"adityamali\", \"authored\": 1, \"author_association\": \"NONE\"}, {\"username\": \"allison-truhlar\", \"authored\": 1, \"author_association\": \"CONTRIBUTOR\"}, {\"username\": \"DenisaCG\", \"authored\": 1, \"author_association\": \"MEMBER\"}, {\"username\": \"Guillermovasco\", \"authored\": 1, \"author_association\": \"FIRST_TIMER\"}, {\"username\": \"Kcato1\", \"authored\": 1, \"author_association\": \"FIRST_TIMER\"}, {\"username\": \"3coins\", \"authored\": 1, \"author_association\": \"MEMBER\"}, {\"username\": \"achhina\", \"authored\": 1, \"author_association\": \"CONTRIBUTOR\"}, {\"username\": \"SatyajitRedekar\", \"authored\": 1, \"author_association\": \"CONTRIBUTOR\"}, {\"username\": \"SylvainCorlay\", \"authored\": 1, \"author_association\": \"MEMBER\"}, {\"username\": \"YvesNDIKURIYO-2022\", \"authored\": 1, \"author_association\": \"NONE\"}, {\"username\": \"jhgoebbert\", \"authored\": 1, \"author_association\": \"NONE\"}, {\"username\": \"jesuino\", \"authored\": 1, \"author_association\": \"CONTRIBUTOR\"}, {\"username\": \"iisakkirotko\", \"authored\": 1, \"author_association\": \"CONTRIBUTOR\"}, {\"username\": \"hiCXK\", \"authored\": 1, \"author_association\": \"NONE\"}, {\"username\": \"ghost\", \"authored\": 1, \"author_association\": \"NONE\"}, {\"username\": \"dnlzrgz\", \"authored\": 1, \"author_association\": \"CONTRIBUTOR\"}, {\"username\": \"dotnetautor\", \"authored\": 1, \"author_association\": \"CONTRIBUTOR\"}, {\"username\": \"francoculaciati\", \"authored\": 1, \"author_association\": \"FIRST_TIME_CONTRIBUTOR\"}, {\"username\": \"cmarmo\", \"authored\": 1, \"author_association\": \"CONTRIBUTOR\"}, {\"username\": \"peytondmurray\", \"authored\": 1, \"author_association\": \"CONTRIBUTOR\"}, {\"username\": \"rsaditya01\", \"authored\": 1, \"author_association\": \"CONTRIBUTOR\"}, {\"username\": \"simonw\", \"authored\": 1, \"author_association\": \"NONE\"}, {\"username\": \"trungleduc\", \"authored\": 1, \"author_association\": \"MEMBER\"}, {\"username\": \"vidartf\", \"authored\": 1, \"author_association\": \"MEMBER\"}, {\"username\": \"yacchin1205\", \"authored\": 1, \"author_association\": \"CONTRIBUTOR\"}, {\"username\": \"yukiiii04\", \"authored\": 1, \"author_association\": \"CONTRIBUTOR\"}]}}, {\"mode\": \"vega-lite\"});\n",
       "</script>"
      ],
      "text/plain": [
       "alt.Chart(...)"
      ]
     },
     "execution_count": 13,
     "metadata": {},
     "output_type": "execute_result"
    }
   ],
   "source": [
    "charts = []\n",
    "title = f\"PR authors for {github_org} in the last {n_days} days\"\n",
    "this_data = merged_by_repo.replace(np.nan, 0).groupby('username', as_index=False).agg({'authored': 'sum', 'author_association': 'first'})\n",
    "this_data = this_data.sort_values('authored', ascending=False)\n",
    "ch = alt.Chart(data=this_data, title=title).mark_bar().encode(\n",
    "    x='username',\n",
    "    y='authored',\n",
    "    color=alt.Color('author_association', scale=alt.Scale(domain=author_types, range=author_colors))\n",
    ")\n",
    "ch"
   ]
  },
  {
   "cell_type": "code",
   "execution_count": 14,
   "id": "b964bf76",
   "metadata": {
    "editable": true,
    "execution": {
     "iopub.execute_input": "2025-05-16T01:30:51.596857Z",
     "iopub.status.busy": "2025-05-16T01:30:51.596447Z",
     "iopub.status.idle": "2025-05-16T01:30:51.613939Z",
     "shell.execute_reply": "2025-05-16T01:30:51.613392Z"
    },
    "papermill": {
     "duration": 0.034115,
     "end_time": "2025-05-16T01:30:51.614963",
     "exception": false,
     "start_time": "2025-05-16T01:30:51.580848",
     "status": "completed"
    },
    "slideshow": {
     "slide_type": ""
    },
    "tags": [
     "hide_input"
    ]
   },
   "outputs": [
    {
     "data": {
      "text/html": [
       "\n",
       "<style>\n",
       "  #altair-viz-a643dd2f651642f9a120458d27f3ee6e.vega-embed {\n",
       "    width: 100%;\n",
       "    display: flex;\n",
       "  }\n",
       "\n",
       "  #altair-viz-a643dd2f651642f9a120458d27f3ee6e.vega-embed details,\n",
       "  #altair-viz-a643dd2f651642f9a120458d27f3ee6e.vega-embed details summary {\n",
       "    position: relative;\n",
       "  }\n",
       "</style>\n",
       "<div id=\"altair-viz-a643dd2f651642f9a120458d27f3ee6e\"></div>\n",
       "<script type=\"text/javascript\">\n",
       "  var VEGA_DEBUG = (typeof VEGA_DEBUG == \"undefined\") ? {} : VEGA_DEBUG;\n",
       "  (function(spec, embedOpt){\n",
       "    let outputDiv = document.currentScript.previousElementSibling;\n",
       "    if (outputDiv.id !== \"altair-viz-a643dd2f651642f9a120458d27f3ee6e\") {\n",
       "      outputDiv = document.getElementById(\"altair-viz-a643dd2f651642f9a120458d27f3ee6e\");\n",
       "    }\n",
       "\n",
       "    const paths = {\n",
       "      \"vega\": \"https://cdn.jsdelivr.net/npm/vega@5?noext\",\n",
       "      \"vega-lib\": \"https://cdn.jsdelivr.net/npm/vega-lib?noext\",\n",
       "      \"vega-lite\": \"https://cdn.jsdelivr.net/npm/vega-lite@5.20.1?noext\",\n",
       "      \"vega-embed\": \"https://cdn.jsdelivr.net/npm/vega-embed@6?noext\",\n",
       "    };\n",
       "\n",
       "    function maybeLoadScript(lib, version) {\n",
       "      var key = `${lib.replace(\"-\", \"\")}_version`;\n",
       "      return (VEGA_DEBUG[key] == version) ?\n",
       "        Promise.resolve(paths[lib]) :\n",
       "        new Promise(function(resolve, reject) {\n",
       "          var s = document.createElement('script');\n",
       "          document.getElementsByTagName(\"head\")[0].appendChild(s);\n",
       "          s.async = true;\n",
       "          s.onload = () => {\n",
       "            VEGA_DEBUG[key] = version;\n",
       "            return resolve(paths[lib]);\n",
       "          };\n",
       "          s.onerror = () => reject(`Error loading script: ${paths[lib]}`);\n",
       "          s.src = paths[lib];\n",
       "        });\n",
       "    }\n",
       "\n",
       "    function showError(err) {\n",
       "      outputDiv.innerHTML = `<div class=\"error\" style=\"color:red;\">${err}</div>`;\n",
       "      throw err;\n",
       "    }\n",
       "\n",
       "    function displayChart(vegaEmbed) {\n",
       "      vegaEmbed(outputDiv, spec, embedOpt)\n",
       "        .catch(err => showError(`Javascript Error: ${err.message}<br>This usually means there's a typo in your chart specification. See the javascript console for the full traceback.`));\n",
       "    }\n",
       "\n",
       "    if(typeof define === \"function\" && define.amd) {\n",
       "      requirejs.config({paths});\n",
       "      let deps = [\"vega-embed\"];\n",
       "      require(deps, displayChart, err => showError(`Error loading script: ${err.message}`));\n",
       "    } else {\n",
       "      maybeLoadScript(\"vega\", \"5\")\n",
       "        .then(() => maybeLoadScript(\"vega-lite\", \"5.20.1\"))\n",
       "        .then(() => maybeLoadScript(\"vega-embed\", \"6\"))\n",
       "        .catch(showError)\n",
       "        .then(() => displayChart(vegaEmbed));\n",
       "    }\n",
       "  })({\"config\": {\"axisLeft\": {\"labelFontSize\": 15}, \"axisBottom\": {\"labelFontSize\": 15}}, \"data\": {\"name\": \"data-ef31b492890ab3bc7d5e0630158b5597\"}, \"mark\": {\"type\": \"bar\"}, \"encoding\": {\"x\": {\"field\": \"username\", \"type\": \"nominal\"}, \"y\": {\"field\": \"closed\", \"type\": \"quantitative\"}}, \"title\": \"Users that have merged PRs for jupyterlab in the last 90 days\", \"$schema\": \"https://vega.github.io/schema/vega-lite/v5.20.1.json\", \"datasets\": {\"data-ef31b492890ab3bc7d5e0630158b5597\": [{\"name\": \".github\", \"username\": \"jtpio\", \"closed\": 1}, {\"name\": \"extension-examples\", \"username\": \"fcollonval\", \"closed\": 1}, {\"name\": \"extension-examples\", \"username\": \"krassowski\", \"closed\": 1}, {\"name\": \"extension-template\", \"username\": \"fcollonval\", \"closed\": 1}, {\"name\": \"extension-template\", \"username\": \"krassowski\", \"closed\": 1}, {\"name\": \"frontends-team-compass\", \"username\": \"jtpio\", \"closed\": 1}, {\"name\": \"jupyter-ai\", \"username\": \"brichet\", \"closed\": 1}, {\"name\": \"jupyter-ai\", \"username\": \"dlqqq\", \"closed\": 24}, {\"name\": \"jupyter-ai\", \"username\": \"francoculaciati\", \"closed\": 1}, {\"name\": \"jupyter-ai\", \"username\": \"srdas\", \"closed\": 18}, {\"name\": \"jupyter-builder\", \"username\": \"fcollonval\", \"closed\": 2}, {\"name\": \"jupyter-chat\", \"username\": \"andrii-i\", \"closed\": 2}, {\"name\": \"jupyter-chat\", \"username\": \"brichet\", \"closed\": 18}, {\"name\": \"jupyter-chat\", \"username\": \"dlqqq\", \"closed\": 2}, {\"name\": \"jupyter-chat\", \"username\": \"jtpio\", \"closed\": 3}, {\"name\": \"jupyter-collaboration\", \"username\": \"andrii-i\", \"closed\": 1}, {\"name\": \"jupyter-collaboration\", \"username\": \"brichet\", \"closed\": 1}, {\"name\": \"jupyter-collaboration\", \"username\": \"davidbrochart\", \"closed\": 3}, {\"name\": \"jupyter-collaboration\", \"username\": \"krassowski\", \"closed\": 14}, {\"name\": \"jupyter-renderers\", \"username\": \"fcollonval\", \"closed\": 1}, {\"name\": \"jupyterlab\", \"username\": \"adityamali\", \"closed\": 1}, {\"name\": \"jupyterlab\", \"username\": \"afshin\", \"closed\": 2}, {\"name\": \"jupyterlab\", \"username\": \"davidbrochart\", \"closed\": 1}, {\"name\": \"jupyterlab\", \"username\": \"hxrshxz\", \"closed\": 2}, {\"name\": \"jupyterlab\", \"username\": \"jtpio\", \"closed\": 34}, {\"name\": \"jupyterlab\", \"username\": \"krassowski\", \"closed\": 111}, {\"name\": \"jupyterlab\", \"username\": \"simonw\", \"closed\": 1}, {\"name\": \"jupyterlab-desktop\", \"username\": \"krassowski\", \"closed\": 1}, {\"name\": \"jupyterlab-git\", \"username\": \"fcollonval\", \"closed\": 2}, {\"name\": \"jupyterlab-git\", \"username\": \"krassowski\", \"closed\": 2}, {\"name\": \"jupyterlab_server\", \"username\": \"fcollonval\", \"closed\": 1}, {\"name\": \"language-packs\", \"username\": \"fcollonval\", \"closed\": 23}, {\"name\": \"lumino\", \"username\": \"afshin\", \"closed\": 2}, {\"name\": \"lumino\", \"username\": \"fcollonval\", \"closed\": 5}, {\"name\": \"lumino\", \"username\": \"jtpio\", \"closed\": 2}, {\"name\": \"lumino\", \"username\": \"krassowski\", \"closed\": 5}, {\"name\": \"maintainer-tools\", \"username\": \"danyeaw\", \"closed\": 1}, {\"name\": \"maintainer-tools\", \"username\": \"fcollonval\", \"closed\": 2}, {\"name\": \"maintainer-tools\", \"username\": \"jtpio\", \"closed\": 1}]}}, {\"mode\": \"vega-lite\"});\n",
       "</script>"
      ],
      "text/plain": [
       "alt.Chart(...)"
      ]
     },
     "execution_count": 14,
     "metadata": {},
     "output_type": "execute_result"
    }
   ],
   "source": [
    "charts = []\n",
    "title = f\"Users that have merged PRs for {github_org} in the last {n_days} days\"\n",
    "ch = alt.Chart(data=closed_by_repo.replace(np.nan, 0), title=title).mark_bar().encode(\n",
    "    x='username',\n",
    "    y='closed',\n",
    ")\n",
    "ch"
   ]
  },
  {
   "cell_type": "markdown",
   "id": "2359e572",
   "metadata": {
    "editable": true,
    "papermill": {
     "duration": 0.016501,
     "end_time": "2025-05-16T01:30:51.647038",
     "exception": false,
     "start_time": "2025-05-16T01:30:51.630537",
     "status": "completed"
    },
    "slideshow": {
     "slide_type": ""
    },
    "tags": []
   },
   "source": [
    "## Issues\n",
    "\n",
    "Issues are **conversations** that happen on our GitHub repositories. Here's an\n",
    "analysis of issues across the Jupyter organizations."
   ]
  },
  {
   "cell_type": "code",
   "execution_count": 15,
   "id": "be002413",
   "metadata": {
    "editable": true,
    "execution": {
     "iopub.execute_input": "2025-05-16T01:30:51.678120Z",
     "iopub.status.busy": "2025-05-16T01:30:51.677722Z",
     "iopub.status.idle": "2025-05-16T01:30:51.697244Z",
     "shell.execute_reply": "2025-05-16T01:30:51.696755Z"
    },
    "papermill": {
     "duration": 0.036143,
     "end_time": "2025-05-16T01:30:51.698270",
     "exception": false,
     "start_time": "2025-05-16T01:30:51.662127",
     "status": "completed"
    },
    "slideshow": {
     "slide_type": ""
    },
    "tags": [
     "remove_cell"
    ]
   },
   "outputs": [],
   "source": [
    "created = issues.query('state == \"open\" and created_at > @start_date and created_at < @stop_date')\n",
    "closed = issues.query('state == \"closed\" and closed_at > @start_date and closed_at < @stop_date')"
   ]
  },
  {
   "cell_type": "code",
   "execution_count": 16,
   "id": "8283559d",
   "metadata": {
    "editable": true,
    "execution": {
     "iopub.execute_input": "2025-05-16T01:30:51.729678Z",
     "iopub.status.busy": "2025-05-16T01:30:51.729416Z",
     "iopub.status.idle": "2025-05-16T01:30:51.751696Z",
     "shell.execute_reply": "2025-05-16T01:30:51.751039Z"
    },
    "papermill": {
     "duration": 0.039492,
     "end_time": "2025-05-16T01:30:51.752849",
     "exception": false,
     "start_time": "2025-05-16T01:30:51.713357",
     "status": "completed"
    },
    "slideshow": {
     "slide_type": ""
    },
    "tags": [
     "hide_input"
    ]
   },
   "outputs": [
    {
     "data": {
      "text/html": [
       "\n",
       "<style>\n",
       "  #altair-viz-f3d1b49fd8a346b7931d755a5839932c.vega-embed {\n",
       "    width: 100%;\n",
       "    display: flex;\n",
       "  }\n",
       "\n",
       "  #altair-viz-f3d1b49fd8a346b7931d755a5839932c.vega-embed details,\n",
       "  #altair-viz-f3d1b49fd8a346b7931d755a5839932c.vega-embed details summary {\n",
       "    position: relative;\n",
       "  }\n",
       "</style>\n",
       "<div id=\"altair-viz-f3d1b49fd8a346b7931d755a5839932c\"></div>\n",
       "<script type=\"text/javascript\">\n",
       "  var VEGA_DEBUG = (typeof VEGA_DEBUG == \"undefined\") ? {} : VEGA_DEBUG;\n",
       "  (function(spec, embedOpt){\n",
       "    let outputDiv = document.currentScript.previousElementSibling;\n",
       "    if (outputDiv.id !== \"altair-viz-f3d1b49fd8a346b7931d755a5839932c\") {\n",
       "      outputDiv = document.getElementById(\"altair-viz-f3d1b49fd8a346b7931d755a5839932c\");\n",
       "    }\n",
       "\n",
       "    const paths = {\n",
       "      \"vega\": \"https://cdn.jsdelivr.net/npm/vega@5?noext\",\n",
       "      \"vega-lib\": \"https://cdn.jsdelivr.net/npm/vega-lib?noext\",\n",
       "      \"vega-lite\": \"https://cdn.jsdelivr.net/npm/vega-lite@5.20.1?noext\",\n",
       "      \"vega-embed\": \"https://cdn.jsdelivr.net/npm/vega-embed@6?noext\",\n",
       "    };\n",
       "\n",
       "    function maybeLoadScript(lib, version) {\n",
       "      var key = `${lib.replace(\"-\", \"\")}_version`;\n",
       "      return (VEGA_DEBUG[key] == version) ?\n",
       "        Promise.resolve(paths[lib]) :\n",
       "        new Promise(function(resolve, reject) {\n",
       "          var s = document.createElement('script');\n",
       "          document.getElementsByTagName(\"head\")[0].appendChild(s);\n",
       "          s.async = true;\n",
       "          s.onload = () => {\n",
       "            VEGA_DEBUG[key] = version;\n",
       "            return resolve(paths[lib]);\n",
       "          };\n",
       "          s.onerror = () => reject(`Error loading script: ${paths[lib]}`);\n",
       "          s.src = paths[lib];\n",
       "        });\n",
       "    }\n",
       "\n",
       "    function showError(err) {\n",
       "      outputDiv.innerHTML = `<div class=\"error\" style=\"color:red;\">${err}</div>`;\n",
       "      throw err;\n",
       "    }\n",
       "\n",
       "    function displayChart(vegaEmbed) {\n",
       "      vegaEmbed(outputDiv, spec, embedOpt)\n",
       "        .catch(err => showError(`Javascript Error: ${err.message}<br>This usually means there's a typo in your chart specification. See the javascript console for the full traceback.`));\n",
       "    }\n",
       "\n",
       "    if(typeof define === \"function\" && define.amd) {\n",
       "      requirejs.config({paths});\n",
       "      let deps = [\"vega-embed\"];\n",
       "      require(deps, displayChart, err => showError(`Error loading script: ${err.message}`));\n",
       "    } else {\n",
       "      maybeLoadScript(\"vega\", \"5\")\n",
       "        .then(() => maybeLoadScript(\"vega-lite\", \"5.20.1\"))\n",
       "        .then(() => maybeLoadScript(\"vega-embed\", \"6\"))\n",
       "        .catch(showError)\n",
       "        .then(() => displayChart(vegaEmbed));\n",
       "    }\n",
       "  })({\"config\": {\"axisLeft\": {\"labelFontSize\": 15}, \"axisBottom\": {\"labelFontSize\": 15}}, \"data\": {\"name\": \"data-45485a3f35698156e168369194ce90df\"}, \"mark\": {\"type\": \"bar\"}, \"encoding\": {\"x\": {\"field\": \"repo\", \"sort\": [\"jupyterlab\", \"jupyter-ai\", \"jupyter-chat\", \"jupyter-collaboration\", \"jupyterlab-desktop\", \"jupyterlab-git\", \"lumino\", \"extension-template\", \"extension-examples\", \"frontends-team-compass\", \"jupyterlab_server\"], \"type\": \"nominal\"}, \"y\": {\"field\": \"number\", \"type\": \"quantitative\"}}, \"title\": \"Issues created in the last 90 days\", \"$schema\": \"https://vega.github.io/schema/vega-lite/v5.20.1.json\", \"datasets\": {\"data-45485a3f35698156e168369194ce90df\": [{\"org\": \"jupyterlab\", \"repo\": \"extension-examples\", \"number\": 1, \"org/repo\": \"jupyterlab/extension-examples\"}, {\"org\": \"jupyterlab\", \"repo\": \"extension-template\", \"number\": 2, \"org/repo\": \"jupyterlab/extension-template\"}, {\"org\": \"jupyterlab\", \"repo\": \"frontends-team-compass\", \"number\": 1, \"org/repo\": \"jupyterlab/frontends-team-compass\"}, {\"org\": \"jupyterlab\", \"repo\": \"jupyter-ai\", \"number\": 23, \"org/repo\": \"jupyterlab/jupyter-ai\"}, {\"org\": \"jupyterlab\", \"repo\": \"jupyter-chat\", \"number\": 14, \"org/repo\": \"jupyterlab/jupyter-chat\"}, {\"org\": \"jupyterlab\", \"repo\": \"jupyter-collaboration\", \"number\": 6, \"org/repo\": \"jupyterlab/jupyter-collaboration\"}, {\"org\": \"jupyterlab\", \"repo\": \"jupyterlab\", \"number\": 62, \"org/repo\": \"jupyterlab/jupyterlab\"}, {\"org\": \"jupyterlab\", \"repo\": \"jupyterlab-desktop\", \"number\": 6, \"org/repo\": \"jupyterlab/jupyterlab-desktop\"}, {\"org\": \"jupyterlab\", \"repo\": \"jupyterlab-git\", \"number\": 4, \"org/repo\": \"jupyterlab/jupyterlab-git\"}, {\"org\": \"jupyterlab\", \"repo\": \"jupyterlab_server\", \"number\": 1, \"org/repo\": \"jupyterlab/jupyterlab_server\"}, {\"org\": \"jupyterlab\", \"repo\": \"lumino\", \"number\": 3, \"org/repo\": \"jupyterlab/lumino\"}]}}, {\"mode\": \"vega-lite\"});\n",
       "</script>"
      ],
      "text/plain": [
       "alt.Chart(...)"
      ]
     },
     "execution_count": 16,
     "metadata": {},
     "output_type": "execute_result"
    }
   ],
   "source": [
    "created_counts = created.groupby(['org', 'repo']).count()['number'].reset_index()\n",
    "created_counts['org/repo'] = created_counts.apply(lambda a: a['org'] + '/' + a['repo'], axis=1)\n",
    "sorted_vals = created_counts.sort_values(['org', 'number'], ascending=False)['repo'].values\n",
    "alt.Chart(data=created_counts, title=f\"Issues created in the last {n_days} days\").mark_bar().encode(\n",
    "    x=alt.X('repo', sort=alt.Sort(sorted_vals.tolist())),\n",
    "    y='number',\n",
    ")"
   ]
  },
  {
   "cell_type": "code",
   "execution_count": 17,
   "id": "4fa2388e",
   "metadata": {
    "editable": true,
    "execution": {
     "iopub.execute_input": "2025-05-16T01:30:51.785464Z",
     "iopub.status.busy": "2025-05-16T01:30:51.785278Z",
     "iopub.status.idle": "2025-05-16T01:30:51.806257Z",
     "shell.execute_reply": "2025-05-16T01:30:51.805591Z"
    },
    "papermill": {
     "duration": 0.038626,
     "end_time": "2025-05-16T01:30:51.807406",
     "exception": false,
     "start_time": "2025-05-16T01:30:51.768780",
     "status": "completed"
    },
    "slideshow": {
     "slide_type": ""
    },
    "tags": [
     "hide_input"
    ]
   },
   "outputs": [
    {
     "data": {
      "text/html": [
       "\n",
       "<style>\n",
       "  #altair-viz-29610ef43a7a43c686134335ecc0de36.vega-embed {\n",
       "    width: 100%;\n",
       "    display: flex;\n",
       "  }\n",
       "\n",
       "  #altair-viz-29610ef43a7a43c686134335ecc0de36.vega-embed details,\n",
       "  #altair-viz-29610ef43a7a43c686134335ecc0de36.vega-embed details summary {\n",
       "    position: relative;\n",
       "  }\n",
       "</style>\n",
       "<div id=\"altair-viz-29610ef43a7a43c686134335ecc0de36\"></div>\n",
       "<script type=\"text/javascript\">\n",
       "  var VEGA_DEBUG = (typeof VEGA_DEBUG == \"undefined\") ? {} : VEGA_DEBUG;\n",
       "  (function(spec, embedOpt){\n",
       "    let outputDiv = document.currentScript.previousElementSibling;\n",
       "    if (outputDiv.id !== \"altair-viz-29610ef43a7a43c686134335ecc0de36\") {\n",
       "      outputDiv = document.getElementById(\"altair-viz-29610ef43a7a43c686134335ecc0de36\");\n",
       "    }\n",
       "\n",
       "    const paths = {\n",
       "      \"vega\": \"https://cdn.jsdelivr.net/npm/vega@5?noext\",\n",
       "      \"vega-lib\": \"https://cdn.jsdelivr.net/npm/vega-lib?noext\",\n",
       "      \"vega-lite\": \"https://cdn.jsdelivr.net/npm/vega-lite@5.20.1?noext\",\n",
       "      \"vega-embed\": \"https://cdn.jsdelivr.net/npm/vega-embed@6?noext\",\n",
       "    };\n",
       "\n",
       "    function maybeLoadScript(lib, version) {\n",
       "      var key = `${lib.replace(\"-\", \"\")}_version`;\n",
       "      return (VEGA_DEBUG[key] == version) ?\n",
       "        Promise.resolve(paths[lib]) :\n",
       "        new Promise(function(resolve, reject) {\n",
       "          var s = document.createElement('script');\n",
       "          document.getElementsByTagName(\"head\")[0].appendChild(s);\n",
       "          s.async = true;\n",
       "          s.onload = () => {\n",
       "            VEGA_DEBUG[key] = version;\n",
       "            return resolve(paths[lib]);\n",
       "          };\n",
       "          s.onerror = () => reject(`Error loading script: ${paths[lib]}`);\n",
       "          s.src = paths[lib];\n",
       "        });\n",
       "    }\n",
       "\n",
       "    function showError(err) {\n",
       "      outputDiv.innerHTML = `<div class=\"error\" style=\"color:red;\">${err}</div>`;\n",
       "      throw err;\n",
       "    }\n",
       "\n",
       "    function displayChart(vegaEmbed) {\n",
       "      vegaEmbed(outputDiv, spec, embedOpt)\n",
       "        .catch(err => showError(`Javascript Error: ${err.message}<br>This usually means there's a typo in your chart specification. See the javascript console for the full traceback.`));\n",
       "    }\n",
       "\n",
       "    if(typeof define === \"function\" && define.amd) {\n",
       "      requirejs.config({paths});\n",
       "      let deps = [\"vega-embed\"];\n",
       "      require(deps, displayChart, err => showError(`Error loading script: ${err.message}`));\n",
       "    } else {\n",
       "      maybeLoadScript(\"vega\", \"5\")\n",
       "        .then(() => maybeLoadScript(\"vega-lite\", \"5.20.1\"))\n",
       "        .then(() => maybeLoadScript(\"vega-embed\", \"6\"))\n",
       "        .catch(showError)\n",
       "        .then(() => displayChart(vegaEmbed));\n",
       "    }\n",
       "  })({\"config\": {\"axisLeft\": {\"labelFontSize\": 15}, \"axisBottom\": {\"labelFontSize\": 15}}, \"data\": {\"name\": \"data-6baec9aeca05822dadcb8697a871103f\"}, \"mark\": {\"type\": \"bar\"}, \"encoding\": {\"x\": {\"field\": \"repo\", \"sort\": [\"jupyterlab\", \"jupyter-ai\", \"jupyter-chat\", \"jupyter-collaboration\", \"jupyterlab_pygments\", \"maintainer-tools\", \"extension-template\", \"lumino\", \"frontends-team-compass\", \"jupyterlab-desktop\", \"jupyterlab-git\"], \"type\": \"nominal\"}, \"y\": {\"field\": \"number\", \"type\": \"quantitative\"}}, \"title\": \"Issues closed in the last 90 days\", \"$schema\": \"https://vega.github.io/schema/vega-lite/v5.20.1.json\", \"datasets\": {\"data-6baec9aeca05822dadcb8697a871103f\": [{\"org\": \"jupyterlab\", \"repo\": \"extension-template\", \"number\": 2, \"org/repo\": \"jupyterlab/extension-template\"}, {\"org\": \"jupyterlab\", \"repo\": \"frontends-team-compass\", \"number\": 1, \"org/repo\": \"jupyterlab/frontends-team-compass\"}, {\"org\": \"jupyterlab\", \"repo\": \"jupyter-ai\", \"number\": 43, \"org/repo\": \"jupyterlab/jupyter-ai\"}, {\"org\": \"jupyterlab\", \"repo\": \"jupyter-chat\", \"number\": 16, \"org/repo\": \"jupyterlab/jupyter-chat\"}, {\"org\": \"jupyterlab\", \"repo\": \"jupyter-collaboration\", \"number\": 8, \"org/repo\": \"jupyterlab/jupyter-collaboration\"}, {\"org\": \"jupyterlab\", \"repo\": \"jupyterlab\", \"number\": 91, \"org/repo\": \"jupyterlab/jupyterlab\"}, {\"org\": \"jupyterlab\", \"repo\": \"jupyterlab-desktop\", \"number\": 1, \"org/repo\": \"jupyterlab/jupyterlab-desktop\"}, {\"org\": \"jupyterlab\", \"repo\": \"jupyterlab-git\", \"number\": 1, \"org/repo\": \"jupyterlab/jupyterlab-git\"}, {\"org\": \"jupyterlab\", \"repo\": \"jupyterlab_pygments\", \"number\": 4, \"org/repo\": \"jupyterlab/jupyterlab_pygments\"}, {\"org\": \"jupyterlab\", \"repo\": \"lumino\", \"number\": 2, \"org/repo\": \"jupyterlab/lumino\"}, {\"org\": \"jupyterlab\", \"repo\": \"maintainer-tools\", \"number\": 4, \"org/repo\": \"jupyterlab/maintainer-tools\"}]}}, {\"mode\": \"vega-lite\"});\n",
       "</script>"
      ],
      "text/plain": [
       "alt.Chart(...)"
      ]
     },
     "execution_count": 17,
     "metadata": {},
     "output_type": "execute_result"
    }
   ],
   "source": [
    "closed_counts = closed.groupby(['org', 'repo']).count()['number'].reset_index()\n",
    "closed_counts['org/repo'] = closed_counts.apply(lambda a: a['org'] + '/' + a['repo'], axis=1)\n",
    "sorted_vals = closed_counts.sort_values(['number'], ascending=False)['repo'].values\n",
    "alt.Chart(data=closed_counts, title=f\"Issues closed in the last {n_days} days\").mark_bar().encode(\n",
    "    x=alt.X('repo', sort=alt.Sort(sorted_vals.tolist())),\n",
    "    y='number',\n",
    ")"
   ]
  },
  {
   "cell_type": "code",
   "execution_count": 18,
   "id": "3c636bcc",
   "metadata": {
    "editable": true,
    "execution": {
     "iopub.execute_input": "2025-05-16T01:30:51.839551Z",
     "iopub.status.busy": "2025-05-16T01:30:51.839079Z",
     "iopub.status.idle": "2025-05-16T01:30:51.848446Z",
     "shell.execute_reply": "2025-05-16T01:30:51.847923Z"
    },
    "papermill": {
     "duration": 0.026459,
     "end_time": "2025-05-16T01:30:51.849469",
     "exception": false,
     "start_time": "2025-05-16T01:30:51.823010",
     "status": "completed"
    },
    "slideshow": {
     "slide_type": ""
    },
    "tags": [
     "remove_cell"
    ]
   },
   "outputs": [],
   "source": [
    "created_closed = pd.merge(created_counts.rename(columns={'number': 'created'}).drop(columns='org/repo'),\n",
    "                          closed_counts.rename(columns={'number': 'closed'}).drop(columns='org/repo'),\n",
    "                          on=['org', 'repo'], how='outer')\n",
    "\n",
    "created_closed = pd.melt(created_closed, id_vars=['org', 'repo'], var_name=\"kind\", value_name=\"count\").replace(np.nan, 0)"
   ]
  },
  {
   "cell_type": "code",
   "execution_count": 19,
   "id": "0f1297c2",
   "metadata": {
    "editable": true,
    "execution": {
     "iopub.execute_input": "2025-05-16T01:30:51.881578Z",
     "iopub.status.busy": "2025-05-16T01:30:51.881159Z",
     "iopub.status.idle": "2025-05-16T01:30:51.903989Z",
     "shell.execute_reply": "2025-05-16T01:30:51.903427Z"
    },
    "papermill": {
     "duration": 0.040048,
     "end_time": "2025-05-16T01:30:51.905029",
     "exception": false,
     "start_time": "2025-05-16T01:30:51.864981",
     "status": "completed"
    },
    "scrolled": true,
    "slideshow": {
     "slide_type": ""
    },
    "tags": [
     "hide_input"
    ]
   },
   "outputs": [
    {
     "data": {
      "text/html": [
       "\n",
       "<style>\n",
       "  #altair-viz-ccf37e9358d44bbda58db57a93078400.vega-embed {\n",
       "    width: 100%;\n",
       "    display: flex;\n",
       "  }\n",
       "\n",
       "  #altair-viz-ccf37e9358d44bbda58db57a93078400.vega-embed details,\n",
       "  #altair-viz-ccf37e9358d44bbda58db57a93078400.vega-embed details summary {\n",
       "    position: relative;\n",
       "  }\n",
       "</style>\n",
       "<div id=\"altair-viz-ccf37e9358d44bbda58db57a93078400\"></div>\n",
       "<script type=\"text/javascript\">\n",
       "  var VEGA_DEBUG = (typeof VEGA_DEBUG == \"undefined\") ? {} : VEGA_DEBUG;\n",
       "  (function(spec, embedOpt){\n",
       "    let outputDiv = document.currentScript.previousElementSibling;\n",
       "    if (outputDiv.id !== \"altair-viz-ccf37e9358d44bbda58db57a93078400\") {\n",
       "      outputDiv = document.getElementById(\"altair-viz-ccf37e9358d44bbda58db57a93078400\");\n",
       "    }\n",
       "\n",
       "    const paths = {\n",
       "      \"vega\": \"https://cdn.jsdelivr.net/npm/vega@5?noext\",\n",
       "      \"vega-lib\": \"https://cdn.jsdelivr.net/npm/vega-lib?noext\",\n",
       "      \"vega-lite\": \"https://cdn.jsdelivr.net/npm/vega-lite@5.20.1?noext\",\n",
       "      \"vega-embed\": \"https://cdn.jsdelivr.net/npm/vega-embed@6?noext\",\n",
       "    };\n",
       "\n",
       "    function maybeLoadScript(lib, version) {\n",
       "      var key = `${lib.replace(\"-\", \"\")}_version`;\n",
       "      return (VEGA_DEBUG[key] == version) ?\n",
       "        Promise.resolve(paths[lib]) :\n",
       "        new Promise(function(resolve, reject) {\n",
       "          var s = document.createElement('script');\n",
       "          document.getElementsByTagName(\"head\")[0].appendChild(s);\n",
       "          s.async = true;\n",
       "          s.onload = () => {\n",
       "            VEGA_DEBUG[key] = version;\n",
       "            return resolve(paths[lib]);\n",
       "          };\n",
       "          s.onerror = () => reject(`Error loading script: ${paths[lib]}`);\n",
       "          s.src = paths[lib];\n",
       "        });\n",
       "    }\n",
       "\n",
       "    function showError(err) {\n",
       "      outputDiv.innerHTML = `<div class=\"error\" style=\"color:red;\">${err}</div>`;\n",
       "      throw err;\n",
       "    }\n",
       "\n",
       "    function displayChart(vegaEmbed) {\n",
       "      vegaEmbed(outputDiv, spec, embedOpt)\n",
       "        .catch(err => showError(`Javascript Error: ${err.message}<br>This usually means there's a typo in your chart specification. See the javascript console for the full traceback.`));\n",
       "    }\n",
       "\n",
       "    if(typeof define === \"function\" && define.amd) {\n",
       "      requirejs.config({paths});\n",
       "      let deps = [\"vega-embed\"];\n",
       "      require(deps, displayChart, err => showError(`Error loading script: ${err.message}`));\n",
       "    } else {\n",
       "      maybeLoadScript(\"vega\", \"5\")\n",
       "        .then(() => maybeLoadScript(\"vega-lite\", \"5.20.1\"))\n",
       "        .then(() => maybeLoadScript(\"vega-embed\", \"6\"))\n",
       "        .catch(showError)\n",
       "        .then(() => displayChart(vegaEmbed));\n",
       "    }\n",
       "  })({\"config\": {\"axisLeft\": {\"labelFontSize\": 15}, \"axisBottom\": {\"labelFontSize\": 15}}, \"data\": {\"name\": \"data-20ed45991eafad7ea7cf1feee1c3110e\"}, \"mark\": {\"type\": \"bar\"}, \"encoding\": {\"color\": {\"field\": \"kind\", \"type\": \"nominal\"}, \"column\": {\"field\": \"repo\", \"header\": {\"labelFontSize\": 12, \"title\": \"Issue activity, last 90 days for jupyterlab\", \"titleFontSize\": 15}, \"type\": \"nominal\"}, \"x\": {\"axis\": {\"labelFontSize\": 15, \"title\": \"\"}, \"field\": \"kind\", \"type\": \"nominal\"}, \"y\": {\"axis\": {\"labelFontSize\": 12, \"titleFontSize\": 15}, \"field\": \"count\", \"type\": \"quantitative\"}}, \"width\": 120, \"$schema\": \"https://vega.github.io/schema/vega-lite/v5.20.1.json\", \"datasets\": {\"data-20ed45991eafad7ea7cf1feee1c3110e\": [{\"org\": \"jupyterlab\", \"repo\": \"extension-template\", \"kind\": \"created\", \"count\": 2.0}, {\"org\": \"jupyterlab\", \"repo\": \"jupyter-ai\", \"kind\": \"created\", \"count\": 23.0}, {\"org\": \"jupyterlab\", \"repo\": \"jupyter-chat\", \"kind\": \"created\", \"count\": 14.0}, {\"org\": \"jupyterlab\", \"repo\": \"jupyter-collaboration\", \"kind\": \"created\", \"count\": 6.0}, {\"org\": \"jupyterlab\", \"repo\": \"jupyterlab\", \"kind\": \"created\", \"count\": 62.0}, {\"org\": \"jupyterlab\", \"repo\": \"jupyterlab-desktop\", \"kind\": \"created\", \"count\": 6.0}, {\"org\": \"jupyterlab\", \"repo\": \"jupyterlab-git\", \"kind\": \"created\", \"count\": 4.0}, {\"org\": \"jupyterlab\", \"repo\": \"jupyterlab_pygments\", \"kind\": \"created\", \"count\": 0.0}, {\"org\": \"jupyterlab\", \"repo\": \"lumino\", \"kind\": \"created\", \"count\": 3.0}, {\"org\": \"jupyterlab\", \"repo\": \"maintainer-tools\", \"kind\": \"created\", \"count\": 0.0}, {\"org\": \"jupyterlab\", \"repo\": \"extension-template\", \"kind\": \"closed\", \"count\": 2.0}, {\"org\": \"jupyterlab\", \"repo\": \"jupyter-ai\", \"kind\": \"closed\", \"count\": 43.0}, {\"org\": \"jupyterlab\", \"repo\": \"jupyter-chat\", \"kind\": \"closed\", \"count\": 16.0}, {\"org\": \"jupyterlab\", \"repo\": \"jupyter-collaboration\", \"kind\": \"closed\", \"count\": 8.0}, {\"org\": \"jupyterlab\", \"repo\": \"jupyterlab\", \"kind\": \"closed\", \"count\": 91.0}, {\"org\": \"jupyterlab\", \"repo\": \"jupyterlab-desktop\", \"kind\": \"closed\", \"count\": 1.0}, {\"org\": \"jupyterlab\", \"repo\": \"jupyterlab-git\", \"kind\": \"closed\", \"count\": 1.0}, {\"org\": \"jupyterlab\", \"repo\": \"jupyterlab_pygments\", \"kind\": \"closed\", \"count\": 4.0}, {\"org\": \"jupyterlab\", \"repo\": \"lumino\", \"kind\": \"closed\", \"count\": 2.0}, {\"org\": \"jupyterlab\", \"repo\": \"maintainer-tools\", \"kind\": \"closed\", \"count\": 4.0}]}}, {\"mode\": \"vega-lite\"});\n",
       "</script>"
      ],
      "text/plain": [
       "alt.Chart(...)"
      ]
     },
     "execution_count": 19,
     "metadata": {},
     "output_type": "execute_result"
    }
   ],
   "source": [
    "charts = []\n",
    "# Pick the top 10 repositories\n",
    "top_repos = created_closed.groupby(['repo']).sum().sort_values(by='count', ascending=False).head(10).index\n",
    "ch = alt.Chart(created_closed.query('repo in @top_repos'), width=120).mark_bar().encode(\n",
    "    x=alt.X(\"kind\", axis=alt.Axis(labelFontSize=15, title=\"\")), \n",
    "    y=alt.Y('count', axis=alt.Axis(titleFontSize=15, labelFontSize=12)),\n",
    "    color='kind',\n",
    "    column=alt.Column(\"repo\", header=alt.Header(title=f\"Issue activity, last {n_days} days for {github_org}\", titleFontSize=15, labelFontSize=12))\n",
    ")\n",
    "ch"
   ]
  },
  {
   "cell_type": "code",
   "execution_count": 20,
   "id": "11fe77a5",
   "metadata": {
    "editable": true,
    "execution": {
     "iopub.execute_input": "2025-05-16T01:30:51.939035Z",
     "iopub.status.busy": "2025-05-16T01:30:51.938567Z",
     "iopub.status.idle": "2025-05-16T01:30:51.945943Z",
     "shell.execute_reply": "2025-05-16T01:30:51.945271Z"
    },
    "papermill": {
     "duration": 0.02565,
     "end_time": "2025-05-16T01:30:51.947060",
     "exception": false,
     "start_time": "2025-05-16T01:30:51.921410",
     "status": "completed"
    },
    "slideshow": {
     "slide_type": ""
    },
    "tags": [
     "remove_cell"
    ]
   },
   "outputs": [],
   "source": [
    "# Set to datetime\n",
    "for kind in ['created_at', 'closed_at']:\n",
    "    closed.loc[:, kind] = pd.to_datetime(closed[kind])\n",
    "    \n",
    "closed.loc[:, 'time_open'] = closed['closed_at'] - closed['created_at']\n",
    "closed.loc[:, 'time_open'] = closed['time_open'].dt.total_seconds()"
   ]
  },
  {
   "cell_type": "code",
   "execution_count": 21,
   "id": "ecaafc52",
   "metadata": {
    "editable": true,
    "execution": {
     "iopub.execute_input": "2025-05-16T01:30:51.979456Z",
     "iopub.status.busy": "2025-05-16T01:30:51.979082Z",
     "iopub.status.idle": "2025-05-16T01:30:51.997693Z",
     "shell.execute_reply": "2025-05-16T01:30:51.997035Z"
    },
    "papermill": {
     "duration": 0.03613,
     "end_time": "2025-05-16T01:30:51.998837",
     "exception": false,
     "start_time": "2025-05-16T01:30:51.962707",
     "status": "completed"
    },
    "slideshow": {
     "slide_type": ""
    },
    "tags": [
     "hide_input"
    ]
   },
   "outputs": [
    {
     "data": {
      "text/html": [
       "\n",
       "<style>\n",
       "  #altair-viz-85789a7477ad4b7ead56b01005275ffe.vega-embed {\n",
       "    width: 100%;\n",
       "    display: flex;\n",
       "  }\n",
       "\n",
       "  #altair-viz-85789a7477ad4b7ead56b01005275ffe.vega-embed details,\n",
       "  #altair-viz-85789a7477ad4b7ead56b01005275ffe.vega-embed details summary {\n",
       "    position: relative;\n",
       "  }\n",
       "</style>\n",
       "<div id=\"altair-viz-85789a7477ad4b7ead56b01005275ffe\"></div>\n",
       "<script type=\"text/javascript\">\n",
       "  var VEGA_DEBUG = (typeof VEGA_DEBUG == \"undefined\") ? {} : VEGA_DEBUG;\n",
       "  (function(spec, embedOpt){\n",
       "    let outputDiv = document.currentScript.previousElementSibling;\n",
       "    if (outputDiv.id !== \"altair-viz-85789a7477ad4b7ead56b01005275ffe\") {\n",
       "      outputDiv = document.getElementById(\"altair-viz-85789a7477ad4b7ead56b01005275ffe\");\n",
       "    }\n",
       "\n",
       "    const paths = {\n",
       "      \"vega\": \"https://cdn.jsdelivr.net/npm/vega@5?noext\",\n",
       "      \"vega-lib\": \"https://cdn.jsdelivr.net/npm/vega-lib?noext\",\n",
       "      \"vega-lite\": \"https://cdn.jsdelivr.net/npm/vega-lite@5.20.1?noext\",\n",
       "      \"vega-embed\": \"https://cdn.jsdelivr.net/npm/vega-embed@6?noext\",\n",
       "    };\n",
       "\n",
       "    function maybeLoadScript(lib, version) {\n",
       "      var key = `${lib.replace(\"-\", \"\")}_version`;\n",
       "      return (VEGA_DEBUG[key] == version) ?\n",
       "        Promise.resolve(paths[lib]) :\n",
       "        new Promise(function(resolve, reject) {\n",
       "          var s = document.createElement('script');\n",
       "          document.getElementsByTagName(\"head\")[0].appendChild(s);\n",
       "          s.async = true;\n",
       "          s.onload = () => {\n",
       "            VEGA_DEBUG[key] = version;\n",
       "            return resolve(paths[lib]);\n",
       "          };\n",
       "          s.onerror = () => reject(`Error loading script: ${paths[lib]}`);\n",
       "          s.src = paths[lib];\n",
       "        });\n",
       "    }\n",
       "\n",
       "    function showError(err) {\n",
       "      outputDiv.innerHTML = `<div class=\"error\" style=\"color:red;\">${err}</div>`;\n",
       "      throw err;\n",
       "    }\n",
       "\n",
       "    function displayChart(vegaEmbed) {\n",
       "      vegaEmbed(outputDiv, spec, embedOpt)\n",
       "        .catch(err => showError(`Javascript Error: ${err.message}<br>This usually means there's a typo in your chart specification. See the javascript console for the full traceback.`));\n",
       "    }\n",
       "\n",
       "    if(typeof define === \"function\" && define.amd) {\n",
       "      requirejs.config({paths});\n",
       "      let deps = [\"vega-embed\"];\n",
       "      require(deps, displayChart, err => showError(`Error loading script: ${err.message}`));\n",
       "    } else {\n",
       "      maybeLoadScript(\"vega\", \"5\")\n",
       "        .then(() => maybeLoadScript(\"vega-lite\", \"5.20.1\"))\n",
       "        .then(() => maybeLoadScript(\"vega-embed\", \"6\"))\n",
       "        .catch(showError)\n",
       "        .then(() => displayChart(vegaEmbed));\n",
       "    }\n",
       "  })({\"config\": {\"axisLeft\": {\"labelFontSize\": 15}, \"axisBottom\": {\"labelFontSize\": 15}}, \"data\": {\"name\": \"data-45c2b29bed22ee748fda794b53bbbe7c\"}, \"mark\": {\"type\": \"bar\"}, \"encoding\": {\"x\": {\"field\": \"repo\", \"sort\": [\"maintainer-tools\", \"jupyter-ai\", \"jupyter-chat\", \"jupyterlab-desktop\", \"lumino\", \"jupyterlab\", \"jupyter-collaboration\", \"extension-template\", \"jupyterlab_pygments\", \"frontends-team-compass\", \"jupyterlab-git\"], \"type\": \"nominal\"}, \"y\": {\"field\": \"time_open\", \"title\": \"Median Days Open\", \"type\": \"quantitative\"}}, \"title\": \"Time to close for issues closed in the last 90 days\", \"$schema\": \"https://vega.github.io/schema/vega-lite/v5.20.1.json\", \"datasets\": {\"data-45c2b29bed22ee748fda794b53bbbe7c\": [{\"org\": \"jupyterlab\", \"repo\": \"extension-template\", \"time_open\": 7.614774305555556, \"org/repo\": \"jupyterlab/extension-template\"}, {\"org\": \"jupyterlab\", \"repo\": \"frontends-team-compass\", \"time_open\": 0.00568287037037037, \"org/repo\": \"jupyterlab/frontends-team-compass\"}, {\"org\": \"jupyterlab\", \"repo\": \"jupyter-ai\", \"time_open\": 48.5009375, \"org/repo\": \"jupyterlab/jupyter-ai\"}, {\"org\": \"jupyterlab\", \"repo\": \"jupyter-chat\", \"time_open\": 26.823761574074073, \"org/repo\": \"jupyterlab/jupyter-chat\"}, {\"org\": \"jupyterlab\", \"repo\": \"jupyter-collaboration\", \"time_open\": 8.86011574074074, \"org/repo\": \"jupyterlab/jupyter-collaboration\"}, {\"org\": \"jupyterlab\", \"repo\": \"jupyterlab\", \"time_open\": 13.038043981481481, \"org/repo\": \"jupyterlab/jupyterlab\"}, {\"org\": \"jupyterlab\", \"repo\": \"jupyterlab-desktop\", \"time_open\": 15.044201388888888, \"org/repo\": \"jupyterlab/jupyterlab-desktop\"}, {\"org\": \"jupyterlab\", \"repo\": \"jupyterlab-git\", \"time_open\": 0.0005671296296296297, \"org/repo\": \"jupyterlab/jupyterlab-git\"}, {\"org\": \"jupyterlab\", \"repo\": \"jupyterlab_pygments\", \"time_open\": 0.22354166666666667, \"org/repo\": \"jupyterlab/jupyterlab_pygments\"}, {\"org\": \"jupyterlab\", \"repo\": \"lumino\", \"time_open\": 14.997633101851852, \"org/repo\": \"jupyterlab/lumino\"}, {\"org\": \"jupyterlab\", \"repo\": \"maintainer-tools\", \"time_open\": 448.97394675925926, \"org/repo\": \"jupyterlab/maintainer-tools\"}]}}, {\"mode\": \"vega-lite\"});\n",
       "</script>"
      ],
      "text/plain": [
       "alt.Chart(...)"
      ]
     },
     "execution_count": 21,
     "metadata": {},
     "output_type": "execute_result"
    }
   ],
   "source": [
    "time_open = closed.groupby(['org', 'repo']).agg({'time_open': 'median'}).reset_index()\n",
    "time_open['time_open'] = time_open['time_open'] / (60 * 60 * 24)\n",
    "time_open['org/repo'] = time_open.apply(lambda a: a['org'] + '/' + a['repo'], axis=1)\n",
    "sorted_vals = time_open.sort_values(['org', 'time_open'], ascending=False)['repo'].values\n",
    "alt.Chart(data=time_open, title=f\"Time to close for issues closed in the last {n_days} days\").mark_bar().encode(\n",
    "    x=alt.X('repo', sort=alt.Sort(sorted_vals.tolist())),\n",
    "    y=alt.Y('time_open', title=\"Median Days Open\"),\n",
    ")"
   ]
  },
  {
   "cell_type": "markdown",
   "id": "5eed228c",
   "metadata": {
    "editable": true,
    "papermill": {
     "duration": 0.015726,
     "end_time": "2025-05-16T01:30:52.030444",
     "exception": false,
     "start_time": "2025-05-16T01:30:52.014718",
     "status": "completed"
    },
    "slideshow": {
     "slide_type": ""
    },
    "tags": []
   },
   "source": [
    "## Most-upvoted issues"
   ]
  },
  {
   "cell_type": "code",
   "execution_count": 22,
   "id": "f1fb2ac5",
   "metadata": {
    "editable": true,
    "execution": {
     "iopub.execute_input": "2025-05-16T01:30:52.065893Z",
     "iopub.status.busy": "2025-05-16T01:30:52.065508Z",
     "iopub.status.idle": "2025-05-16T01:30:52.091153Z",
     "shell.execute_reply": "2025-05-16T01:30:52.090557Z"
    },
    "papermill": {
     "duration": 0.045251,
     "end_time": "2025-05-16T01:30:52.092204",
     "exception": false,
     "start_time": "2025-05-16T01:30:52.046953",
     "status": "completed"
    },
    "slideshow": {
     "slide_type": ""
    },
    "tags": [
     "hide_input"
    ]
   },
   "outputs": [
    {
     "data": {
      "application/vnd.jupyter.widget-view+json": {
       "model_id": "bc2947c230e1493c9d6ba0e86b7295a6",
       "version_major": 2,
       "version_minor": 0
      },
      "text/plain": [
       "HTML(value='<ul>\\n<li>(117) Implement variable inspector for kernels - jupyterlab - <a href=\"https://github.co…"
      ]
     },
     "execution_count": 22,
     "metadata": {},
     "output_type": "execute_result"
    }
   ],
   "source": [
    "thumbsup = issues.query(\"state == 'open'\").sort_values(\"positive\", ascending=False).head(25)\n",
    "thumbsup = thumbsup[[\"title\", \"url\", \"number\", \"positive\", \"repo\"]]\n",
    "\n",
    "text = []\n",
    "for ii, irow in thumbsup.iterrows():\n",
    "    itext = f\"- ({irow['positive']}) {irow['title']} - {irow['repo']} - [#{irow['number']}]({irow['url']})\"\n",
    "    text.append(itext)\n",
    "text = '\\n'.join(text)\n",
    "HTML(markdown(text))"
   ]
  },
  {
   "cell_type": "markdown",
   "id": "34696e8f",
   "metadata": {
    "editable": true,
    "papermill": {
     "duration": 0.016212,
     "end_time": "2025-05-16T01:30:52.124684",
     "exception": false,
     "start_time": "2025-05-16T01:30:52.108472",
     "status": "completed"
    },
    "slideshow": {
     "slide_type": ""
    },
    "tags": []
   },
   "source": [
    "## Commenters across repositories\n",
    "\n",
    "These are commenters across all issues and pull requests in the last several days.\n",
    "These are colored by the commenter's association with the organization. For information\n",
    "about what these associations mean, [see this StackOverflow post](https://stackoverflow.com/a/28866914/1927102)."
   ]
  },
  {
   "cell_type": "code",
   "execution_count": 23,
   "id": "cff1e286",
   "metadata": {
    "editable": true,
    "execution": {
     "iopub.execute_input": "2025-05-16T01:30:52.158151Z",
     "iopub.status.busy": "2025-05-16T01:30:52.157701Z",
     "iopub.status.idle": "2025-05-16T01:30:52.169293Z",
     "shell.execute_reply": "2025-05-16T01:30:52.168793Z"
    },
    "papermill": {
     "duration": 0.029416,
     "end_time": "2025-05-16T01:30:52.170290",
     "exception": false,
     "start_time": "2025-05-16T01:30:52.140874",
     "status": "completed"
    },
    "slideshow": {
     "slide_type": ""
    },
    "tags": [
     "remove_cell"
    ]
   },
   "outputs": [],
   "source": [
    "commentors = (\n",
    "    comments\n",
    "    .query(\"created_at > @start_date and created_at < @stop_date\")\n",
    "    .groupby(['org', 'repo', 'login', 'author_association'])\n",
    "    .count().rename(columns={'id_issue': 'count'})['count']\n",
    "    .reset_index()\n",
    "    .sort_values(['org', 'count'], ascending=False)\n",
    ")"
   ]
  },
  {
   "cell_type": "code",
   "execution_count": 24,
   "id": "fd6fb1fb",
   "metadata": {
    "editable": true,
    "execution": {
     "iopub.execute_input": "2025-05-16T01:30:52.204698Z",
     "iopub.status.busy": "2025-05-16T01:30:52.204473Z",
     "iopub.status.idle": "2025-05-16T01:30:52.229897Z",
     "shell.execute_reply": "2025-05-16T01:30:52.229360Z"
    },
    "papermill": {
     "duration": 0.043894,
     "end_time": "2025-05-16T01:30:52.230935",
     "exception": false,
     "start_time": "2025-05-16T01:30:52.187041",
     "status": "completed"
    },
    "slideshow": {
     "slide_type": ""
    },
    "tags": [
     "hide_input"
    ]
   },
   "outputs": [
    {
     "data": {
      "text/html": [
       "\n",
       "<style>\n",
       "  #altair-viz-81b60cb4fd394839ba222eb3ac4b30b0.vega-embed {\n",
       "    width: 100%;\n",
       "    display: flex;\n",
       "  }\n",
       "\n",
       "  #altair-viz-81b60cb4fd394839ba222eb3ac4b30b0.vega-embed details,\n",
       "  #altair-viz-81b60cb4fd394839ba222eb3ac4b30b0.vega-embed details summary {\n",
       "    position: relative;\n",
       "  }\n",
       "</style>\n",
       "<div id=\"altair-viz-81b60cb4fd394839ba222eb3ac4b30b0\"></div>\n",
       "<script type=\"text/javascript\">\n",
       "  var VEGA_DEBUG = (typeof VEGA_DEBUG == \"undefined\") ? {} : VEGA_DEBUG;\n",
       "  (function(spec, embedOpt){\n",
       "    let outputDiv = document.currentScript.previousElementSibling;\n",
       "    if (outputDiv.id !== \"altair-viz-81b60cb4fd394839ba222eb3ac4b30b0\") {\n",
       "      outputDiv = document.getElementById(\"altair-viz-81b60cb4fd394839ba222eb3ac4b30b0\");\n",
       "    }\n",
       "\n",
       "    const paths = {\n",
       "      \"vega\": \"https://cdn.jsdelivr.net/npm/vega@5?noext\",\n",
       "      \"vega-lib\": \"https://cdn.jsdelivr.net/npm/vega-lib?noext\",\n",
       "      \"vega-lite\": \"https://cdn.jsdelivr.net/npm/vega-lite@5.20.1?noext\",\n",
       "      \"vega-embed\": \"https://cdn.jsdelivr.net/npm/vega-embed@6?noext\",\n",
       "    };\n",
       "\n",
       "    function maybeLoadScript(lib, version) {\n",
       "      var key = `${lib.replace(\"-\", \"\")}_version`;\n",
       "      return (VEGA_DEBUG[key] == version) ?\n",
       "        Promise.resolve(paths[lib]) :\n",
       "        new Promise(function(resolve, reject) {\n",
       "          var s = document.createElement('script');\n",
       "          document.getElementsByTagName(\"head\")[0].appendChild(s);\n",
       "          s.async = true;\n",
       "          s.onload = () => {\n",
       "            VEGA_DEBUG[key] = version;\n",
       "            return resolve(paths[lib]);\n",
       "          };\n",
       "          s.onerror = () => reject(`Error loading script: ${paths[lib]}`);\n",
       "          s.src = paths[lib];\n",
       "        });\n",
       "    }\n",
       "\n",
       "    function showError(err) {\n",
       "      outputDiv.innerHTML = `<div class=\"error\" style=\"color:red;\">${err}</div>`;\n",
       "      throw err;\n",
       "    }\n",
       "\n",
       "    function displayChart(vegaEmbed) {\n",
       "      vegaEmbed(outputDiv, spec, embedOpt)\n",
       "        .catch(err => showError(`Javascript Error: ${err.message}<br>This usually means there's a typo in your chart specification. See the javascript console for the full traceback.`));\n",
       "    }\n",
       "\n",
       "    if(typeof define === \"function\" && define.amd) {\n",
       "      requirejs.config({paths});\n",
       "      let deps = [\"vega-embed\"];\n",
       "      require(deps, displayChart, err => showError(`Error loading script: ${err.message}`));\n",
       "    } else {\n",
       "      maybeLoadScript(\"vega\", \"5\")\n",
       "        .then(() => maybeLoadScript(\"vega-lite\", \"5.20.1\"))\n",
       "        .then(() => maybeLoadScript(\"vega-embed\", \"6\"))\n",
       "        .catch(showError)\n",
       "        .then(() => displayChart(vegaEmbed));\n",
       "    }\n",
       "  })({\"config\": {\"axisLeft\": {\"labelFontSize\": 15}, \"axisBottom\": {\"labelFontSize\": 15}}, \"hconcat\": [{\"mark\": {\"type\": \"bar\"}, \"encoding\": {\"color\": {\"field\": \"author_association\", \"scale\": {\"domain\": [\"MEMBER\", \"CONTRIBUTOR\", \"COLLABORATOR\", \"NONE\"], \"range\": [\"rgb(211.82745098039214, 211.82745098039214, 211.82745098039214)\", \"rgb(166.98562091503268, 229.89803921568628, 166.98562091503268)\", \"rgb(96.37647058823529, 192.75294117647059, 96.37647058823529)\", \"rgb(0.0, 100.3921568627451, 0.0)\"]}, \"type\": \"nominal\"}, \"x\": {\"field\": \"login\", \"type\": \"nominal\"}, \"y\": {\"field\": \"count\", \"type\": \"quantitative\"}}, \"title\": \"Top 50 commentors for ('jupyterlab',) in the last 90 days\"}], \"data\": {\"name\": \"data-68d0e6cfe6e8ae961ee464585d8bef36\"}, \"$schema\": \"https://vega.github.io/schema/vega-lite/v5.20.1.json\", \"datasets\": {\"data-68d0e6cfe6e8ae961ee464585d8bef36\": [{\"login\": \"andrii-i\", \"count\": 11, \"author_association\": \"MEMBER\"}, {\"login\": \"danyeaw\", \"count\": 10, \"author_association\": \"MEMBER\"}, {\"login\": \"jtpio\", \"count\": 8, \"author_association\": \"MEMBER\"}, {\"login\": \"RRosio\", \"count\": 6, \"author_association\": \"MEMBER\"}, {\"login\": \"krassowski\", \"count\": 4, \"author_association\": \"MEMBER\"}, {\"login\": \"jiridanek\", \"count\": 4, \"author_association\": \"NONE\"}, {\"login\": \"lewisl\", \"count\": 4, \"author_association\": \"NONE\"}, {\"login\": \"BigFlagBurito\", \"count\": 2, \"author_association\": \"NONE\"}, {\"login\": \"mbektas\", \"count\": 2, \"author_association\": \"MEMBER\"}, {\"login\": \"mreisbeck2\", \"count\": 2, \"author_association\": \"NONE\"}, {\"login\": \"kburchfiel\", \"count\": 2, \"author_association\": \"NONE\"}, {\"login\": \"ctcjab\", \"count\": 2, \"author_association\": \"NONE\"}, {\"login\": \"Ahri-man\", \"count\": 2, \"author_association\": \"NONE\"}, {\"login\": \"afshin\", \"count\": 1, \"author_association\": \"MEMBER\"}, {\"login\": \"Carreau\", \"count\": 1, \"author_association\": \"MEMBER\"}, {\"login\": \"jasongrout\", \"count\": 1, \"author_association\": \"MEMBER\"}, {\"login\": \"dogganon\", \"count\": 1, \"author_association\": \"NONE\"}, {\"login\": \"beniroquai\", \"count\": 1, \"author_association\": \"NONE\"}, {\"login\": \"bertini97\", \"count\": 1, \"author_association\": \"NONE\"}, {\"login\": \"applutan\", \"count\": 1, \"author_association\": \"NONE\"}, {\"login\": \"aolney\", \"count\": 1, \"author_association\": \"NONE\"}, {\"login\": \"RaphaelPorcherot\", \"count\": 1, \"author_association\": \"NONE\"}, {\"login\": \"jesuino\", \"count\": 1, \"author_association\": \"NONE\"}, {\"login\": \"lucaslrodri\", \"count\": 1, \"author_association\": \"NONE\"}, {\"login\": \"kundeng\", \"count\": 1, \"author_association\": \"NONE\"}, {\"login\": \"maxwacker\", \"count\": 1, \"author_association\": \"NONE\"}, {\"login\": \"mateMathieu\", \"count\": 1, \"author_association\": \"NONE\"}, {\"login\": \"oscar6echo\", \"count\": 1, \"author_association\": \"NONE\"}, {\"login\": \"rvalenzuelar\", \"count\": 1, \"author_association\": \"NONE\"}, {\"login\": \"shmIuser44\", \"count\": 1, \"author_association\": \"NONE\"}, {\"login\": \"williamstein\", \"count\": 1, \"author_association\": \"NONE\"}]}}, {\"mode\": \"vega-lite\"});\n",
       "</script>"
      ],
      "text/plain": [
       "alt.HConcatChart(...)"
      ]
     },
     "execution_count": 24,
     "metadata": {},
     "output_type": "execute_result"
    }
   ],
   "source": [
    "n_plot = 50\n",
    "charts = []\n",
    "for ii, (iorg, idata) in enumerate(commentors.groupby(['org'])):\n",
    "    title = f\"Top {n_plot} commentors for {iorg} in the last {n_days} days\"\n",
    "    idata = idata.groupby('login', as_index=False).agg({'count': 'sum', 'author_association': 'first'})\n",
    "    idata = idata.sort_values('count', ascending=False).head(n_plot)\n",
    "    ch = alt.Chart(data=idata.head(n_plot), title=title).mark_bar().encode(\n",
    "        x='login',\n",
    "        y='count',\n",
    "        color=alt.Color('author_association', scale=alt.Scale(domain=author_types, range=author_colors))\n",
    "    )\n",
    "    charts.append(ch)\n",
    "alt.hconcat(*charts)"
   ]
  },
  {
   "cell_type": "markdown",
   "id": "d1d80f73",
   "metadata": {
    "editable": true,
    "papermill": {
     "duration": 0.016299,
     "end_time": "2025-05-16T01:30:52.263581",
     "exception": false,
     "start_time": "2025-05-16T01:30:52.247282",
     "status": "completed"
    },
    "slideshow": {
     "slide_type": ""
    },
    "tags": []
   },
   "source": [
    "## First responders\n",
    "\n",
    "First responders are the first people to respond to a new issue in one of the repositories.\n",
    "The following plots show first responders for recently-created issues."
   ]
  },
  {
   "cell_type": "code",
   "execution_count": 25,
   "id": "eab198b7",
   "metadata": {
    "editable": true,
    "execution": {
     "iopub.execute_input": "2025-05-16T01:30:52.297458Z",
     "iopub.status.busy": "2025-05-16T01:30:52.297090Z",
     "iopub.status.idle": "2025-05-16T01:30:52.317975Z",
     "shell.execute_reply": "2025-05-16T01:30:52.317323Z"
    },
    "papermill": {
     "duration": 0.039028,
     "end_time": "2025-05-16T01:30:52.319114",
     "exception": false,
     "start_time": "2025-05-16T01:30:52.280086",
     "status": "completed"
    },
    "slideshow": {
     "slide_type": ""
    },
    "tags": [
     "remove_cell"
    ]
   },
   "outputs": [],
   "source": [
    "first_comments = []\n",
    "latest_comments = comments.query(\"created_at > @start_date\")\n",
    "for (org, repo, issue_id), i_comments in latest_comments.groupby(['org', 'repo', 'id_issue']):\n",
    "    ix_min = pd.to_datetime(i_comments['created_at']).idxmin()\n",
    "    first_comment = i_comments.loc[ix_min]\n",
    "    if isinstance(first_comment, pd.DataFrame):\n",
    "        first_comment = first_comment.iloc[0]\n",
    "    first_comments.append(first_comment)\n",
    "first_comments = pd.concat(first_comments, axis=1).T\n",
    "\n",
    "# Make up counts for viz\n",
    "first_responder_counts = first_comments.groupby(['org', 'login', 'author_association'], as_index=False).\\\n",
    "    count().rename(columns={'id_issue': 'n_first_responses'}).sort_values(['org', 'n_first_responses'], ascending=False)\n"
   ]
  },
  {
   "cell_type": "code",
   "execution_count": 26,
   "id": "7ae03f1c",
   "metadata": {
    "editable": true,
    "execution": {
     "iopub.execute_input": "2025-05-16T01:30:52.354513Z",
     "iopub.status.busy": "2025-05-16T01:30:52.354146Z",
     "iopub.status.idle": "2025-05-16T01:30:52.376746Z",
     "shell.execute_reply": "2025-05-16T01:30:52.376082Z"
    },
    "papermill": {
     "duration": 0.041785,
     "end_time": "2025-05-16T01:30:52.377902",
     "exception": false,
     "start_time": "2025-05-16T01:30:52.336117",
     "status": "completed"
    },
    "slideshow": {
     "slide_type": ""
    },
    "tags": [
     "hide_input"
    ]
   },
   "outputs": [
    {
     "data": {
      "text/html": [
       "\n",
       "<style>\n",
       "  #altair-viz-6961fcef904a4bb5be0e3569354e3e26.vega-embed {\n",
       "    width: 100%;\n",
       "    display: flex;\n",
       "  }\n",
       "\n",
       "  #altair-viz-6961fcef904a4bb5be0e3569354e3e26.vega-embed details,\n",
       "  #altair-viz-6961fcef904a4bb5be0e3569354e3e26.vega-embed details summary {\n",
       "    position: relative;\n",
       "  }\n",
       "</style>\n",
       "<div id=\"altair-viz-6961fcef904a4bb5be0e3569354e3e26\"></div>\n",
       "<script type=\"text/javascript\">\n",
       "  var VEGA_DEBUG = (typeof VEGA_DEBUG == \"undefined\") ? {} : VEGA_DEBUG;\n",
       "  (function(spec, embedOpt){\n",
       "    let outputDiv = document.currentScript.previousElementSibling;\n",
       "    if (outputDiv.id !== \"altair-viz-6961fcef904a4bb5be0e3569354e3e26\") {\n",
       "      outputDiv = document.getElementById(\"altair-viz-6961fcef904a4bb5be0e3569354e3e26\");\n",
       "    }\n",
       "\n",
       "    const paths = {\n",
       "      \"vega\": \"https://cdn.jsdelivr.net/npm/vega@5?noext\",\n",
       "      \"vega-lib\": \"https://cdn.jsdelivr.net/npm/vega-lib?noext\",\n",
       "      \"vega-lite\": \"https://cdn.jsdelivr.net/npm/vega-lite@5.20.1?noext\",\n",
       "      \"vega-embed\": \"https://cdn.jsdelivr.net/npm/vega-embed@6?noext\",\n",
       "    };\n",
       "\n",
       "    function maybeLoadScript(lib, version) {\n",
       "      var key = `${lib.replace(\"-\", \"\")}_version`;\n",
       "      return (VEGA_DEBUG[key] == version) ?\n",
       "        Promise.resolve(paths[lib]) :\n",
       "        new Promise(function(resolve, reject) {\n",
       "          var s = document.createElement('script');\n",
       "          document.getElementsByTagName(\"head\")[0].appendChild(s);\n",
       "          s.async = true;\n",
       "          s.onload = () => {\n",
       "            VEGA_DEBUG[key] = version;\n",
       "            return resolve(paths[lib]);\n",
       "          };\n",
       "          s.onerror = () => reject(`Error loading script: ${paths[lib]}`);\n",
       "          s.src = paths[lib];\n",
       "        });\n",
       "    }\n",
       "\n",
       "    function showError(err) {\n",
       "      outputDiv.innerHTML = `<div class=\"error\" style=\"color:red;\">${err}</div>`;\n",
       "      throw err;\n",
       "    }\n",
       "\n",
       "    function displayChart(vegaEmbed) {\n",
       "      vegaEmbed(outputDiv, spec, embedOpt)\n",
       "        .catch(err => showError(`Javascript Error: ${err.message}<br>This usually means there's a typo in your chart specification. See the javascript console for the full traceback.`));\n",
       "    }\n",
       "\n",
       "    if(typeof define === \"function\" && define.amd) {\n",
       "      requirejs.config({paths});\n",
       "      let deps = [\"vega-embed\"];\n",
       "      require(deps, displayChart, err => showError(`Error loading script: ${err.message}`));\n",
       "    } else {\n",
       "      maybeLoadScript(\"vega\", \"5\")\n",
       "        .then(() => maybeLoadScript(\"vega-lite\", \"5.20.1\"))\n",
       "        .then(() => maybeLoadScript(\"vega-embed\", \"6\"))\n",
       "        .catch(showError)\n",
       "        .then(() => displayChart(vegaEmbed));\n",
       "    }\n",
       "  })({\"config\": {\"axisLeft\": {\"labelFontSize\": 15}, \"axisBottom\": {\"labelFontSize\": 15}}, \"data\": {\"name\": \"data-f53c3db8c208121eb2a7343e3b9a9375\"}, \"mark\": {\"type\": \"bar\"}, \"encoding\": {\"color\": {\"field\": \"author_association\", \"scale\": {\"domain\": [\"MEMBER\", \"CONTRIBUTOR\", \"COLLABORATOR\", \"NONE\"], \"range\": [\"rgb(211.82745098039214, 211.82745098039214, 211.82745098039214)\", \"rgb(166.98562091503268, 229.89803921568628, 166.98562091503268)\", \"rgb(96.37647058823529, 192.75294117647059, 96.37647058823529)\", \"rgb(0.0, 100.3921568627451, 0.0)\"]}, \"type\": \"nominal\"}, \"x\": {\"field\": \"login\", \"type\": \"nominal\"}, \"y\": {\"field\": \"n_first_responses\", \"type\": \"quantitative\"}}, \"title\": \"Top 50 first responders for jupyterlab in the last 90 days\", \"$schema\": \"https://vega.github.io/schema/vega-lite/v5.20.1.json\", \"datasets\": {\"data-f53c3db8c208121eb2a7343e3b9a9375\": [{\"login\": \"andrii-i\", \"n_first_responses\": 4, \"author_association\": \"MEMBER\"}, {\"login\": \"jtpio\", \"n_first_responses\": 2, \"author_association\": \"MEMBER\"}, {\"login\": \"RRosio\", \"n_first_responses\": 1, \"author_association\": \"MEMBER\"}, {\"login\": \"BigFlagBurito\", \"n_first_responses\": 1, \"author_association\": \"NONE\"}, {\"login\": \"aolney\", \"n_first_responses\": 1, \"author_association\": \"NONE\"}, {\"login\": \"RaphaelPorcherot\", \"n_first_responses\": 1, \"author_association\": \"NONE\"}, {\"login\": \"beniroquai\", \"n_first_responses\": 1, \"author_association\": \"NONE\"}, {\"login\": \"bertini97\", \"n_first_responses\": 1, \"author_association\": \"NONE\"}, {\"login\": \"jesuino\", \"n_first_responses\": 1, \"author_association\": \"NONE\"}, {\"login\": \"kburchfiel\", \"n_first_responses\": 1, \"author_association\": \"NONE\"}, {\"login\": \"krassowski\", \"n_first_responses\": 1, \"author_association\": \"MEMBER\"}, {\"login\": \"kundeng\", \"n_first_responses\": 1, \"author_association\": \"NONE\"}, {\"login\": \"lucaslrodri\", \"n_first_responses\": 1, \"author_association\": \"NONE\"}, {\"login\": \"mateMathieu\", \"n_first_responses\": 1, \"author_association\": \"NONE\"}, {\"login\": \"maxwacker\", \"n_first_responses\": 1, \"author_association\": \"NONE\"}, {\"login\": \"mreisbeck2\", \"n_first_responses\": 1, \"author_association\": \"NONE\"}, {\"login\": \"oscar6echo\", \"n_first_responses\": 1, \"author_association\": \"NONE\"}, {\"login\": \"rvalenzuelar\", \"n_first_responses\": 1, \"author_association\": \"NONE\"}]}}, {\"mode\": \"vega-lite\"});\n",
       "</script>"
      ],
      "text/plain": [
       "alt.Chart(...)"
      ]
     },
     "execution_count": 26,
     "metadata": {},
     "output_type": "execute_result"
    }
   ],
   "source": [
    "n_plot = 50\n",
    "\n",
    "title = f\"Top {n_plot} first responders for {github_org} in the last {n_days} days\"\n",
    "idata = first_responder_counts.groupby('login', as_index=False).agg({'n_first_responses': 'sum', 'author_association': 'first'})\n",
    "idata = idata.sort_values('n_first_responses', ascending=False).head(n_plot)\n",
    "ch = alt.Chart(data=idata.head(n_plot), title=title).mark_bar().encode(\n",
    "    x='login',\n",
    "    y='n_first_responses',\n",
    "    color=alt.Color('author_association', scale=alt.Scale(domain=author_types, range=author_colors))\n",
    ")\n",
    "ch"
   ]
  },
  {
   "cell_type": "markdown",
   "id": "fb6f0500",
   "metadata": {
    "editable": true,
    "papermill": {
     "duration": 0.016485,
     "end_time": "2025-05-16T01:30:52.410986",
     "exception": false,
     "start_time": "2025-05-16T01:30:52.394501",
     "status": "completed"
    },
    "slideshow": {
     "slide_type": ""
    },
    "tags": []
   },
   "source": [
    "## Recent activity\n",
    "\n",
    "### A list of merged PRs by project\n",
    "\n",
    "Below is a tabbed readout of recently-merged PRs. Check out the title to get an idea for what they\n",
    "implemented, and be sure to thank the PR author for their hard work!"
   ]
  },
  {
   "cell_type": "code",
   "execution_count": 27,
   "id": "99cc918d",
   "metadata": {
    "editable": true,
    "execution": {
     "iopub.execute_input": "2025-05-16T01:30:52.445181Z",
     "iopub.status.busy": "2025-05-16T01:30:52.444962Z",
     "iopub.status.idle": "2025-05-16T01:30:52.570022Z",
     "shell.execute_reply": "2025-05-16T01:30:52.569400Z"
    },
    "papermill": {
     "duration": 0.146517,
     "end_time": "2025-05-16T01:30:52.574132",
     "exception": false,
     "start_time": "2025-05-16T01:30:52.427615",
     "status": "completed"
    },
    "slideshow": {
     "slide_type": ""
    },
    "tags": [
     "hide_input"
    ]
   },
   "outputs": [
    {
     "data": {
      "application/vnd.jupyter.widget-view+json": {
       "model_id": "e4bf2303598e4131b70dd4fe76f942a6",
       "version_major": 2,
       "version_minor": 0
      },
      "text/plain": [
       "Tab(children=(HTML(value='<h4>Closed PRs for repo: <a href=\"https://github.com/jupyterlab/extension-examples\">…"
      ]
     },
     "execution_count": 27,
     "metadata": {},
     "output_type": "execute_result"
    }
   ],
   "source": [
    "tabs = widgets.Tab(children=[])\n",
    "\n",
    "for ii, ((org, repo), imerged) in enumerate(merged.query(\"repo in @use_repos\").groupby(['org', 'repo'])):\n",
    "    merged_by = {}\n",
    "    pr_by = {}\n",
    "    issue_md = []\n",
    "    issue_md.append(f\"#### Closed PRs for repo: [{org}/{repo}](https://github.com/{github_org}/{repo})\")\n",
    "    issue_md.append(\"\")\n",
    "    issue_md.append(f\"##### \")\n",
    "\n",
    "    for _, ipr in imerged.iterrows():\n",
    "        user_name = ipr['login']\n",
    "        user_url = author_url(user_name)\n",
    "        pr_number = ipr['number']\n",
    "        pr_html = ipr['url']\n",
    "        pr_title = ipr['title']\n",
    "        pr_closedby = ipr['merged_by']\n",
    "        pr_closedby_url = f\"https://github.com/{pr_closedby}\"\n",
    "        if user_name not in pr_by:\n",
    "            pr_by[user_name] = 1\n",
    "        else:\n",
    "            pr_by[user_name] += 1\n",
    "\n",
    "        if pr_closedby not in merged_by:\n",
    "            merged_by[pr_closedby] = 1\n",
    "        else:\n",
    "            merged_by[pr_closedby] += 1\n",
    "        text = f\"* [(#{pr_number})]({pr_html}): _{pr_title}_ by **[@{user_name}]({user_url})** merged by **[@{pr_closedby}]({pr_closedby_url})**\"\n",
    "        issue_md.append(text)\n",
    "    \n",
    "    issue_md.append('')\n",
    "    markdown_html = markdown('\\n'.join(issue_md))\n",
    "\n",
    "    children = list(tabs.children)\n",
    "    children.append(HTML(markdown_html))\n",
    "    tabs.children = tuple(children)\n",
    "    tabs.set_title(ii, repo)\n",
    "tabs"
   ]
  },
  {
   "cell_type": "markdown",
   "id": "6311e081",
   "metadata": {
    "editable": true,
    "papermill": {
     "duration": 0.017256,
     "end_time": "2025-05-16T01:30:52.608981",
     "exception": false,
     "start_time": "2025-05-16T01:30:52.591725",
     "status": "completed"
    },
    "slideshow": {
     "slide_type": ""
    },
    "tags": []
   },
   "source": [
    "### A list of recent issues\n",
    "\n",
    "Below is a list of issues with recent activity in each repository. If they seem of interest\n",
    "to you, click on their links and jump in to participate!"
   ]
  },
  {
   "cell_type": "code",
   "execution_count": 28,
   "id": "47efdcfc",
   "metadata": {
    "editable": true,
    "execution": {
     "iopub.execute_input": "2025-05-16T01:30:52.643434Z",
     "iopub.status.busy": "2025-05-16T01:30:52.643242Z",
     "iopub.status.idle": "2025-05-16T01:30:52.653420Z",
     "shell.execute_reply": "2025-05-16T01:30:52.652923Z"
    },
    "papermill": {
     "duration": 0.028585,
     "end_time": "2025-05-16T01:30:52.654476",
     "exception": false,
     "start_time": "2025-05-16T01:30:52.625891",
     "status": "completed"
    },
    "slideshow": {
     "slide_type": ""
    },
    "tags": [
     "remove_cell"
    ]
   },
   "outputs": [],
   "source": [
    "# Add comment count data to issues and PRs\n",
    "comment_counts = (\n",
    "    comments\n",
    "    .query(\"created_at > @start_date and created_at < @stop_date\")\n",
    "    .groupby(['org', 'repo', 'id_issue'])\n",
    "    .count().iloc[:, 0].to_frame()\n",
    ")\n",
    "comment_counts.columns = ['n_comments']\n",
    "comment_counts = comment_counts.reset_index()"
   ]
  },
  {
   "cell_type": "code",
   "execution_count": 29,
   "id": "7bf92902",
   "metadata": {
    "editable": true,
    "execution": {
     "iopub.execute_input": "2025-05-16T01:30:52.689078Z",
     "iopub.status.busy": "2025-05-16T01:30:52.688700Z",
     "iopub.status.idle": "2025-05-16T01:30:52.759287Z",
     "shell.execute_reply": "2025-05-16T01:30:52.758734Z"
    },
    "papermill": {
     "duration": 0.089045,
     "end_time": "2025-05-16T01:30:52.760362",
     "exception": false,
     "start_time": "2025-05-16T01:30:52.671317",
     "status": "completed"
    },
    "slideshow": {
     "slide_type": ""
    },
    "tags": [
     "hide_input"
    ],
    "toc-hr-collapsed": false
   },
   "outputs": [
    {
     "data": {
      "text/markdown": [
       "Here are the top 5 active issues in each repository in the last 90 days"
      ],
      "text/plain": [
       "<IPython.core.display.Markdown object>"
      ]
     },
     "metadata": {},
     "output_type": "display_data"
    },
    {
     "data": {
      "application/vnd.jupyter.widget-view+json": {
       "model_id": "cdbb0e1193c845b0abaf964d0c200767",
       "version_major": 2,
       "version_minor": 0
      },
      "text/plain": [
       "Tab(children=(HTML(value='<h5><a href=\"https://github.com/jupyterlab/extension-examples\">jupyterlab/extension-…"
      ]
     },
     "metadata": {},
     "output_type": "display_data"
    }
   ],
   "source": [
    "n_plot = 5\n",
    "tabs = widgets.Tab(children=[])\n",
    "\n",
    "for ii, (repo, i_issues) in enumerate(comment_counts.query(\"repo in @use_repos\").groupby('repo')):\n",
    "    \n",
    "    issue_md = []\n",
    "    issue_md.append(\"\")\n",
    "    issue_md.append(f\"##### [{github_org}/{repo}](https://github.com/{github_org}/{repo})\")\n",
    "\n",
    "    top_issues = i_issues.sort_values('n_comments', ascending=False).head(n_plot)\n",
    "    top_issue_list = pd.merge(issues, top_issues, left_on=['org', 'repo', 'id_issue'], right_on=['org', 'repo', 'id_issue'])\n",
    "    for _, issue in top_issue_list.sort_values('n_comments', ascending=False).head(n_plot).iterrows():\n",
    "        user_name = issue['login']\n",
    "        user_url = author_url(user_name)\n",
    "        issue_number = issue['number']\n",
    "        issue_html = issue['url']\n",
    "        issue_title = issue['title']\n",
    "\n",
    "        text = f\"* [(#{issue_number})]({issue_html}): _{issue_title}_ by **[@{user_name}]({user_url})**\"\n",
    "        issue_md.append(text)\n",
    "\n",
    "    issue_md.append('')\n",
    "    md_html = HTML(markdown('\\n'.join(issue_md)))\n",
    "\n",
    "    children = list(tabs.children)\n",
    "    children.append(HTML(markdown('\\n'.join(issue_md))))\n",
    "    tabs.children = tuple(children)\n",
    "    tabs.set_title(ii, repo)\n",
    "    \n",
    "display(Markdown(f\"Here are the top {n_plot} active issues in each repository in the last {n_days} days\"))\n",
    "display(tabs)"
   ]
  }
 ],
 "metadata": {
  "kernelspec": {
   "display_name": "Python 3 (ipykernel)",
   "language": "python",
   "name": "python3"
  },
  "language_info": {
   "codemirror_mode": {
    "name": "ipython",
    "version": 3
   },
   "file_extension": ".py",
   "mimetype": "text/x-python",
   "name": "python",
   "nbconvert_exporter": "python",
   "pygments_lexer": "ipython3",
   "version": "3.9.22"
  },
  "papermill": {
   "default_parameters": {},
   "duration": 4.808459,
   "end_time": "2025-05-16T01:30:53.095429",
   "environment_variables": {},
   "exception": null,
   "input_path": "./templates/org_report.ipynb",
   "output_path": "generated/book/jupyterlab.ipynb",
   "parameters": {
    "github_org": "jupyterlab",
    "n_days": 90
   },
   "start_time": "2025-05-16T01:30:48.286970",
   "version": "2.6.0"
  },
  "widgets": {
   "application/vnd.jupyter.widget-state+json": {
    "state": {
     "0ca06de8f0aa467585d7b8496bf857af": {
      "model_module": "@jupyter-widgets/controls",
      "model_module_version": "2.0.0",
      "model_name": "HTMLModel",
      "state": {
       "_dom_classes": [],
       "_model_module": "@jupyter-widgets/controls",
       "_model_module_version": "2.0.0",
       "_model_name": "HTMLModel",
       "_view_count": null,
       "_view_module": "@jupyter-widgets/controls",
       "_view_module_version": "2.0.0",
       "_view_name": "HTMLView",
       "description": "",
       "description_allow_html": false,
       "layout": "IPY_MODEL_28548e1b302f417a9db6595a208a1f75",
       "placeholder": "​",
       "style": "IPY_MODEL_38f5c3125bbe488c82a5fa8f4794a2d9",
       "tabbable": null,
       "tooltip": null,
       "value": "<h4>Closed PRs for repo: <a href=\"https://github.com/jupyterlab/frontends-team-compass\">jupyterlab/frontends-team-compass</a></h4>\n<h5></h5>\n<ul>\n<li><a href=\"https://github.com/jupyterlab/frontends-team-compass/issues/276\">(#276)</a>: <em>Update SSC representative</em> by <strong><a href=\"https://github.com/jtpio\">@jtpio</a></strong> merged by <strong><a href=\"https://github.com/jtpio\">@jtpio</a></strong></li>\n</ul>"
      }
     },
     "15289bf4ba114e648baaba77f75921e1": {
      "model_module": "@jupyter-widgets/base",
      "model_module_version": "2.0.0",
      "model_name": "LayoutModel",
      "state": {
       "_model_module": "@jupyter-widgets/base",
       "_model_module_version": "2.0.0",
       "_model_name": "LayoutModel",
       "_view_count": null,
       "_view_module": "@jupyter-widgets/base",
       "_view_module_version": "2.0.0",
       "_view_name": "LayoutView",
       "align_content": null,
       "align_items": null,
       "align_self": null,
       "border_bottom": null,
       "border_left": null,
       "border_right": null,
       "border_top": null,
       "bottom": null,
       "display": null,
       "flex": null,
       "flex_flow": null,
       "grid_area": null,
       "grid_auto_columns": null,
       "grid_auto_flow": null,
       "grid_auto_rows": null,
       "grid_column": null,
       "grid_gap": null,
       "grid_row": null,
       "grid_template_areas": null,
       "grid_template_columns": null,
       "grid_template_rows": null,
       "height": null,
       "justify_content": null,
       "justify_items": null,
       "left": null,
       "margin": null,
       "max_height": null,
       "max_width": null,
       "min_height": null,
       "min_width": null,
       "object_fit": null,
       "object_position": null,
       "order": null,
       "overflow": null,
       "padding": null,
       "right": null,
       "top": null,
       "visibility": null,
       "width": null
      }
     },
     "174b97d4a62b49fd82f98722209921df": {
      "model_module": "@jupyter-widgets/controls",
      "model_module_version": "2.0.0",
      "model_name": "HTMLStyleModel",
      "state": {
       "_model_module": "@jupyter-widgets/controls",
       "_model_module_version": "2.0.0",
       "_model_name": "HTMLStyleModel",
       "_view_count": null,
       "_view_module": "@jupyter-widgets/base",
       "_view_module_version": "2.0.0",
       "_view_name": "StyleView",
       "background": null,
       "description_width": "",
       "font_size": null,
       "text_color": null
      }
     },
     "1caab0f0ded94a07b5716aa925f5d330": {
      "model_module": "@jupyter-widgets/base",
      "model_module_version": "2.0.0",
      "model_name": "LayoutModel",
      "state": {
       "_model_module": "@jupyter-widgets/base",
       "_model_module_version": "2.0.0",
       "_model_name": "LayoutModel",
       "_view_count": null,
       "_view_module": "@jupyter-widgets/base",
       "_view_module_version": "2.0.0",
       "_view_name": "LayoutView",
       "align_content": null,
       "align_items": null,
       "align_self": null,
       "border_bottom": null,
       "border_left": null,
       "border_right": null,
       "border_top": null,
       "bottom": null,
       "display": null,
       "flex": null,
       "flex_flow": null,
       "grid_area": null,
       "grid_auto_columns": null,
       "grid_auto_flow": null,
       "grid_auto_rows": null,
       "grid_column": null,
       "grid_gap": null,
       "grid_row": null,
       "grid_template_areas": null,
       "grid_template_columns": null,
       "grid_template_rows": null,
       "height": null,
       "justify_content": null,
       "justify_items": null,
       "left": null,
       "margin": null,
       "max_height": null,
       "max_width": null,
       "min_height": null,
       "min_width": null,
       "object_fit": null,
       "object_position": null,
       "order": null,
       "overflow": null,
       "padding": null,
       "right": null,
       "top": null,
       "visibility": null,
       "width": null
      }
     },
     "1d32089a134c4ba7b23ef8166fb8316f": {
      "model_module": "@jupyter-widgets/controls",
      "model_module_version": "2.0.0",
      "model_name": "HTMLModel",
      "state": {
       "_dom_classes": [],
       "_model_module": "@jupyter-widgets/controls",
       "_model_module_version": "2.0.0",
       "_model_name": "HTMLModel",
       "_view_count": null,
       "_view_module": "@jupyter-widgets/controls",
       "_view_module_version": "2.0.0",
       "_view_name": "HTMLView",
       "description": "",
       "description_allow_html": false,
       "layout": "IPY_MODEL_6da8883d97184d1faa157d2656adfd62",
       "placeholder": "​",
       "style": "IPY_MODEL_1d7106cb23544deea7a18e950ef5b8f1",
       "tabbable": null,
       "tooltip": null,
       "value": "<h4>Closed PRs for repo: <a href=\"https://github.com/jupyterlab/lumino\">jupyterlab/lumino</a></h4>\n<h5></h5>\n<ul>\n<li><a href=\"https://github.com/jupyterlab/lumino/issues/739\">(#739)</a>: <em>Bump koa from 2.15.3 to 2.15.4</em> by <strong><a href=\"https://github.com/dependabot[bot]\">@dependabot[bot]</a></strong> merged by <strong><a href=\"https://github.com/fcollonval\">@fcollonval</a></strong></li>\n<li><a href=\"https://github.com/jupyterlab/lumino/issues/741\">(#741)</a>: <em>Add links to the examples and documentation contribution instructions</em> by <strong><a href=\"https://github.com/cmarmo\">@cmarmo</a></strong> merged by <strong><a href=\"https://github.com/krassowski\">@krassowski</a></strong></li>\n<li><a href=\"https://github.com/jupyterlab/lumino/issues/742\">(#742)</a>: <em>Bump the actions group with 2 updates</em> by <strong><a href=\"https://github.com/dependabot[bot]\">@dependabot[bot]</a></strong> merged by <strong><a href=\"https://github.com/fcollonval\">@fcollonval</a></strong></li>\n<li><a href=\"https://github.com/jupyterlab/lumino/issues/743\">(#743)</a>: <em>\"npm run\" -&gt; yarn</em> by <strong><a href=\"https://github.com/vidartf\">@vidartf</a></strong> merged by <strong><a href=\"https://github.com/fcollonval\">@fcollonval</a></strong></li>\n<li><a href=\"https://github.com/jupyterlab/lumino/issues/745\">(#745)</a>: <em>Forbid .only and .skip on CI</em> by <strong><a href=\"https://github.com/fcollonval\">@fcollonval</a></strong> merged by <strong><a href=\"https://github.com/krassowski\">@krassowski</a></strong></li>\n<li><a href=\"https://github.com/jupyterlab/lumino/issues/746\">(#746)</a>: <em>Don't refresh if palette is within a hidden branch</em> by <strong><a href=\"https://github.com/fcollonval\">@fcollonval</a></strong> merged by <strong><a href=\"https://github.com/fcollonval\">@fcollonval</a></strong></li>\n<li><a href=\"https://github.com/jupyterlab/lumino/issues/747\">(#747)</a>: <em>Remove use of <code>tj-actions/changed-files</code></em> by <strong><a href=\"https://github.com/jtpio\">@jtpio</a></strong> merged by <strong><a href=\"https://github.com/jtpio\">@jtpio</a></strong></li>\n<li><a href=\"https://github.com/jupyterlab/lumino/issues/748\">(#748)</a>: <em>Bump axios from 1.7.7 to 1.8.3</em> by <strong><a href=\"https://github.com/dependabot[bot]\">@dependabot[bot]</a></strong> merged by <strong><a href=\"https://github.com/jtpio\">@jtpio</a></strong></li>\n<li><a href=\"https://github.com/jupyterlab/lumino/issues/751\">(#751)</a>: <em>Update versions</em> by <strong><a href=\"https://github.com/fcollonval\">@fcollonval</a></strong> merged by <strong><a href=\"https://github.com/fcollonval\">@fcollonval</a></strong></li>\n<li><a href=\"https://github.com/jupyterlab/lumino/issues/752\">(#752)</a>: <em>Bump koa from 2.15.4 to 2.16.1</em> by <strong><a href=\"https://github.com/dependabot[bot]\">@dependabot[bot]</a></strong> merged by <strong><a href=\"https://github.com/krassowski\">@krassowski</a></strong></li>\n<li><a href=\"https://github.com/jupyterlab/lumino/issues/753\">(#753)</a>: <em>Improve accessibility for menu items with toggle state</em> by <strong><a href=\"https://github.com/nkn2022\">@nkn2022</a></strong> merged by <strong><a href=\"https://github.com/krassowski\">@krassowski</a></strong></li>\n<li><a href=\"https://github.com/jupyterlab/lumino/issues/754\">(#754)</a>: <em>Run workflows that were pinned to no-longer supported <code>ubuntu-20.04</code> on <code>ubuntu-latest</code></em> by <strong><a href=\"https://github.com/krassowski\">@krassowski</a></strong> merged by <strong><a href=\"https://github.com/krassowski\">@krassowski</a></strong></li>\n<li><a href=\"https://github.com/jupyterlab/lumino/issues/757\">(#757)</a>: <em>Fix test status badge</em> by <strong><a href=\"https://github.com/krassowski\">@krassowski</a></strong> merged by <strong><a href=\"https://github.com/afshin\">@afshin</a></strong></li>\n<li><a href=\"https://github.com/jupyterlab/lumino/issues/758\">(#758)</a>: <em>Bump versions for v2025.4.30</em> by <strong><a href=\"https://github.com/krassowski\">@krassowski</a></strong> merged by <strong><a href=\"https://github.com/afshin\">@afshin</a></strong></li>\n</ul>"
      }
     },
     "1d7106cb23544deea7a18e950ef5b8f1": {
      "model_module": "@jupyter-widgets/controls",
      "model_module_version": "2.0.0",
      "model_name": "HTMLStyleModel",
      "state": {
       "_model_module": "@jupyter-widgets/controls",
       "_model_module_version": "2.0.0",
       "_model_name": "HTMLStyleModel",
       "_view_count": null,
       "_view_module": "@jupyter-widgets/base",
       "_view_module_version": "2.0.0",
       "_view_name": "StyleView",
       "background": null,
       "description_width": "",
       "font_size": null,
       "text_color": null
      }
     },
     "21e78cbea52048dfb752adb83fbe1ca0": {
      "model_module": "@jupyter-widgets/controls",
      "model_module_version": "2.0.0",
      "model_name": "HTMLStyleModel",
      "state": {
       "_model_module": "@jupyter-widgets/controls",
       "_model_module_version": "2.0.0",
       "_model_name": "HTMLStyleModel",
       "_view_count": null,
       "_view_module": "@jupyter-widgets/base",
       "_view_module_version": "2.0.0",
       "_view_name": "StyleView",
       "background": null,
       "description_width": "",
       "font_size": null,
       "text_color": null
      }
     },
     "23839b1d2526417ea16e642048231b91": {
      "model_module": "@jupyter-widgets/base",
      "model_module_version": "2.0.0",
      "model_name": "LayoutModel",
      "state": {
       "_model_module": "@jupyter-widgets/base",
       "_model_module_version": "2.0.0",
       "_model_name": "LayoutModel",
       "_view_count": null,
       "_view_module": "@jupyter-widgets/base",
       "_view_module_version": "2.0.0",
       "_view_name": "LayoutView",
       "align_content": null,
       "align_items": null,
       "align_self": null,
       "border_bottom": null,
       "border_left": null,
       "border_right": null,
       "border_top": null,
       "bottom": null,
       "display": null,
       "flex": null,
       "flex_flow": null,
       "grid_area": null,
       "grid_auto_columns": null,
       "grid_auto_flow": null,
       "grid_auto_rows": null,
       "grid_column": null,
       "grid_gap": null,
       "grid_row": null,
       "grid_template_areas": null,
       "grid_template_columns": null,
       "grid_template_rows": null,
       "height": null,
       "justify_content": null,
       "justify_items": null,
       "left": null,
       "margin": null,
       "max_height": null,
       "max_width": null,
       "min_height": null,
       "min_width": null,
       "object_fit": null,
       "object_position": null,
       "order": null,
       "overflow": null,
       "padding": null,
       "right": null,
       "top": null,
       "visibility": null,
       "width": null
      }
     },
     "26354492837c4d558ab46546e0e5a926": {
      "model_module": "@jupyter-widgets/controls",
      "model_module_version": "2.0.0",
      "model_name": "HTMLModel",
      "state": {
       "_dom_classes": [],
       "_model_module": "@jupyter-widgets/controls",
       "_model_module_version": "2.0.0",
       "_model_name": "HTMLModel",
       "_view_count": null,
       "_view_module": "@jupyter-widgets/controls",
       "_view_module_version": "2.0.0",
       "_view_name": "HTMLView",
       "description": "",
       "description_allow_html": false,
       "layout": "IPY_MODEL_475dc143542f4172bbc1f34f0cd43da5",
       "placeholder": "​",
       "style": "IPY_MODEL_4620230eee56444b936a6d629fee5198",
       "tabbable": null,
       "tooltip": null,
       "value": "<h5><a href=\"https://github.com/jupyterlab/jupyterlab-desktop\">jupyterlab/jupyterlab-desktop</a></h5>\n<ul>\n<li><a href=\"https://github.com/jupyterlab/jupyterlab-desktop/issues/890\">(#890)</a>: <em>Should we archive this project?</em> by <strong><a href=\"https://github.com/krassowski\">@krassowski</a></strong></li>\n<li><a href=\"https://github.com/jupyterlab/jupyterlab-desktop/issues/888\">(#888)</a>: <em>[macOS] App CLI is not executable Error: EACCES: permission denied</em> by <strong><a href=\"https://github.com/lewisl\">@lewisl</a></strong></li>\n<li><a href=\"https://github.com/jupyterlab/jupyterlab-desktop/issues/885\">(#885)</a>: <em>bug when commenting out code ( see vid )</em> by <strong><a href=\"https://github.com/mreisbeck2\">@mreisbeck2</a></strong></li>\n<li><a href=\"https://github.com/jupyterlab/jupyterlab-desktop/issues/891\">(#891)</a>: <em>Improve documentation for running alternative kernels</em> by <strong><a href=\"https://github.com/Ahri-man\">@Ahri-man</a></strong></li>\n<li><a href=\"https://github.com/jupyterlab/jupyterlab-desktop/issues/892\">(#892)</a>: <em>installation issue macOS(arm64)</em> by <strong><a href=\"https://github.com/shmIuser44\">@shmIuser44</a></strong></li>\n</ul>"
      }
     },
     "28548e1b302f417a9db6595a208a1f75": {
      "model_module": "@jupyter-widgets/base",
      "model_module_version": "2.0.0",
      "model_name": "LayoutModel",
      "state": {
       "_model_module": "@jupyter-widgets/base",
       "_model_module_version": "2.0.0",
       "_model_name": "LayoutModel",
       "_view_count": null,
       "_view_module": "@jupyter-widgets/base",
       "_view_module_version": "2.0.0",
       "_view_name": "LayoutView",
       "align_content": null,
       "align_items": null,
       "align_self": null,
       "border_bottom": null,
       "border_left": null,
       "border_right": null,
       "border_top": null,
       "bottom": null,
       "display": null,
       "flex": null,
       "flex_flow": null,
       "grid_area": null,
       "grid_auto_columns": null,
       "grid_auto_flow": null,
       "grid_auto_rows": null,
       "grid_column": null,
       "grid_gap": null,
       "grid_row": null,
       "grid_template_areas": null,
       "grid_template_columns": null,
       "grid_template_rows": null,
       "height": null,
       "justify_content": null,
       "justify_items": null,
       "left": null,
       "margin": null,
       "max_height": null,
       "max_width": null,
       "min_height": null,
       "min_width": null,
       "object_fit": null,
       "object_position": null,
       "order": null,
       "overflow": null,
       "padding": null,
       "right": null,
       "top": null,
       "visibility": null,
       "width": null
      }
     },
     "2a745c749dc74a3aa6d8d65e73807555": {
      "model_module": "@jupyter-widgets/controls",
      "model_module_version": "2.0.0",
      "model_name": "HTMLModel",
      "state": {
       "_dom_classes": [],
       "_model_module": "@jupyter-widgets/controls",
       "_model_module_version": "2.0.0",
       "_model_name": "HTMLModel",
       "_view_count": null,
       "_view_module": "@jupyter-widgets/controls",
       "_view_module_version": "2.0.0",
       "_view_name": "HTMLView",
       "description": "",
       "description_allow_html": false,
       "layout": "IPY_MODEL_5c9aabdb912748779957f2757699f6a0",
       "placeholder": "​",
       "style": "IPY_MODEL_bb17ce4119e44affac89252ef459b127",
       "tabbable": null,
       "tooltip": null,
       "value": "<h4>Closed PRs for repo: <a href=\"https://github.com/jupyterlab/jupyterlab-desktop\">jupyterlab/jupyterlab-desktop</a></h4>\n<h5></h5>\n<ul>\n<li><a href=\"https://github.com/jupyterlab/jupyterlab-desktop/issues/889\">(#889)</a>: <em>Create DataScienceEcoystem</em> by <strong><a href=\"https://github.com/Guillermovasco\">@Guillermovasco</a></strong> merged by <strong><a href=\"https://github.com/krassowski\">@krassowski</a></strong></li>\n</ul>"
      }
     },
     "2ae4f4191f504449b5dc3a6f551924c4": {
      "model_module": "@jupyter-widgets/base",
      "model_module_version": "2.0.0",
      "model_name": "LayoutModel",
      "state": {
       "_model_module": "@jupyter-widgets/base",
       "_model_module_version": "2.0.0",
       "_model_name": "LayoutModel",
       "_view_count": null,
       "_view_module": "@jupyter-widgets/base",
       "_view_module_version": "2.0.0",
       "_view_name": "LayoutView",
       "align_content": null,
       "align_items": null,
       "align_self": null,
       "border_bottom": null,
       "border_left": null,
       "border_right": null,
       "border_top": null,
       "bottom": null,
       "display": null,
       "flex": null,
       "flex_flow": null,
       "grid_area": null,
       "grid_auto_columns": null,
       "grid_auto_flow": null,
       "grid_auto_rows": null,
       "grid_column": null,
       "grid_gap": null,
       "grid_row": null,
       "grid_template_areas": null,
       "grid_template_columns": null,
       "grid_template_rows": null,
       "height": null,
       "justify_content": null,
       "justify_items": null,
       "left": null,
       "margin": null,
       "max_height": null,
       "max_width": null,
       "min_height": null,
       "min_width": null,
       "object_fit": null,
       "object_position": null,
       "order": null,
       "overflow": null,
       "padding": null,
       "right": null,
       "top": null,
       "visibility": null,
       "width": null
      }
     },
     "2bf28de05372475da068e6dcff14545e": {
      "model_module": "@jupyter-widgets/controls",
      "model_module_version": "2.0.0",
      "model_name": "HTMLStyleModel",
      "state": {
       "_model_module": "@jupyter-widgets/controls",
       "_model_module_version": "2.0.0",
       "_model_name": "HTMLStyleModel",
       "_view_count": null,
       "_view_module": "@jupyter-widgets/base",
       "_view_module_version": "2.0.0",
       "_view_name": "StyleView",
       "background": null,
       "description_width": "",
       "font_size": null,
       "text_color": null
      }
     },
     "3740dff80377443694c8c7d04750f4cb": {
      "model_module": "@jupyter-widgets/base",
      "model_module_version": "2.0.0",
      "model_name": "LayoutModel",
      "state": {
       "_model_module": "@jupyter-widgets/base",
       "_model_module_version": "2.0.0",
       "_model_name": "LayoutModel",
       "_view_count": null,
       "_view_module": "@jupyter-widgets/base",
       "_view_module_version": "2.0.0",
       "_view_name": "LayoutView",
       "align_content": null,
       "align_items": null,
       "align_self": null,
       "border_bottom": null,
       "border_left": null,
       "border_right": null,
       "border_top": null,
       "bottom": null,
       "display": null,
       "flex": null,
       "flex_flow": null,
       "grid_area": null,
       "grid_auto_columns": null,
       "grid_auto_flow": null,
       "grid_auto_rows": null,
       "grid_column": null,
       "grid_gap": null,
       "grid_row": null,
       "grid_template_areas": null,
       "grid_template_columns": null,
       "grid_template_rows": null,
       "height": null,
       "justify_content": null,
       "justify_items": null,
       "left": null,
       "margin": null,
       "max_height": null,
       "max_width": null,
       "min_height": null,
       "min_width": null,
       "object_fit": null,
       "object_position": null,
       "order": null,
       "overflow": null,
       "padding": null,
       "right": null,
       "top": null,
       "visibility": null,
       "width": null
      }
     },
     "3865f1c4c25b48c9aea7c1e0f83e8059": {
      "model_module": "@jupyter-widgets/base",
      "model_module_version": "2.0.0",
      "model_name": "LayoutModel",
      "state": {
       "_model_module": "@jupyter-widgets/base",
       "_model_module_version": "2.0.0",
       "_model_name": "LayoutModel",
       "_view_count": null,
       "_view_module": "@jupyter-widgets/base",
       "_view_module_version": "2.0.0",
       "_view_name": "LayoutView",
       "align_content": null,
       "align_items": null,
       "align_self": null,
       "border_bottom": null,
       "border_left": null,
       "border_right": null,
       "border_top": null,
       "bottom": null,
       "display": null,
       "flex": null,
       "flex_flow": null,
       "grid_area": null,
       "grid_auto_columns": null,
       "grid_auto_flow": null,
       "grid_auto_rows": null,
       "grid_column": null,
       "grid_gap": null,
       "grid_row": null,
       "grid_template_areas": null,
       "grid_template_columns": null,
       "grid_template_rows": null,
       "height": null,
       "justify_content": null,
       "justify_items": null,
       "left": null,
       "margin": null,
       "max_height": null,
       "max_width": null,
       "min_height": null,
       "min_width": null,
       "object_fit": null,
       "object_position": null,
       "order": null,
       "overflow": null,
       "padding": null,
       "right": null,
       "top": null,
       "visibility": null,
       "width": null
      }
     },
     "38f5c3125bbe488c82a5fa8f4794a2d9": {
      "model_module": "@jupyter-widgets/controls",
      "model_module_version": "2.0.0",
      "model_name": "HTMLStyleModel",
      "state": {
       "_model_module": "@jupyter-widgets/controls",
       "_model_module_version": "2.0.0",
       "_model_name": "HTMLStyleModel",
       "_view_count": null,
       "_view_module": "@jupyter-widgets/base",
       "_view_module_version": "2.0.0",
       "_view_name": "StyleView",
       "background": null,
       "description_width": "",
       "font_size": null,
       "text_color": null
      }
     },
     "39b7e61abb144c7ab6035b997bb7cc5e": {
      "model_module": "@jupyter-widgets/controls",
      "model_module_version": "2.0.0",
      "model_name": "HTMLModel",
      "state": {
       "_dom_classes": [],
       "_model_module": "@jupyter-widgets/controls",
       "_model_module_version": "2.0.0",
       "_model_name": "HTMLModel",
       "_view_count": null,
       "_view_module": "@jupyter-widgets/controls",
       "_view_module_version": "2.0.0",
       "_view_name": "HTMLView",
       "description": "",
       "description_allow_html": false,
       "layout": "IPY_MODEL_15289bf4ba114e648baaba77f75921e1",
       "placeholder": "​",
       "style": "IPY_MODEL_a8ab06a1b783466380396ddd00557e62",
       "tabbable": null,
       "tooltip": null,
       "value": "<h5><a href=\"https://github.com/jupyterlab/jupyterlab-git\">jupyterlab/jupyterlab-git</a></h5>\n<ul>\n<li><a href=\"https://github.com/jupyterlab/jupyterlab-git/issues/1342\">(#1342)</a>: <em>Cloning from new host via ssh causes spurious error rather than prompting for confirmation and succeeding</em> by <strong><a href=\"https://github.com/ctcjab\">@ctcjab</a></strong></li>\n</ul>"
      }
     },
     "3c715bc039c24b578290f8fba5f8fd32": {
      "model_module": "@jupyter-widgets/controls",
      "model_module_version": "2.0.0",
      "model_name": "HTMLStyleModel",
      "state": {
       "_model_module": "@jupyter-widgets/controls",
       "_model_module_version": "2.0.0",
       "_model_name": "HTMLStyleModel",
       "_view_count": null,
       "_view_module": "@jupyter-widgets/base",
       "_view_module_version": "2.0.0",
       "_view_name": "StyleView",
       "background": null,
       "description_width": "",
       "font_size": null,
       "text_color": null
      }
     },
     "4197c7cb971d43fea06d24449b314e3a": {
      "model_module": "@jupyter-widgets/controls",
      "model_module_version": "2.0.0",
      "model_name": "HTMLStyleModel",
      "state": {
       "_model_module": "@jupyter-widgets/controls",
       "_model_module_version": "2.0.0",
       "_model_name": "HTMLStyleModel",
       "_view_count": null,
       "_view_module": "@jupyter-widgets/base",
       "_view_module_version": "2.0.0",
       "_view_name": "StyleView",
       "background": null,
       "description_width": "",
       "font_size": null,
       "text_color": null
      }
     },
     "42e044f9c5d741748114cbddde926427": {
      "model_module": "@jupyter-widgets/base",
      "model_module_version": "2.0.0",
      "model_name": "LayoutModel",
      "state": {
       "_model_module": "@jupyter-widgets/base",
       "_model_module_version": "2.0.0",
       "_model_name": "LayoutModel",
       "_view_count": null,
       "_view_module": "@jupyter-widgets/base",
       "_view_module_version": "2.0.0",
       "_view_name": "LayoutView",
       "align_content": null,
       "align_items": null,
       "align_self": null,
       "border_bottom": null,
       "border_left": null,
       "border_right": null,
       "border_top": null,
       "bottom": null,
       "display": null,
       "flex": null,
       "flex_flow": null,
       "grid_area": null,
       "grid_auto_columns": null,
       "grid_auto_flow": null,
       "grid_auto_rows": null,
       "grid_column": null,
       "grid_gap": null,
       "grid_row": null,
       "grid_template_areas": null,
       "grid_template_columns": null,
       "grid_template_rows": null,
       "height": null,
       "justify_content": null,
       "justify_items": null,
       "left": null,
       "margin": null,
       "max_height": null,
       "max_width": null,
       "min_height": null,
       "min_width": null,
       "object_fit": null,
       "object_position": null,
       "order": null,
       "overflow": null,
       "padding": null,
       "right": null,
       "top": null,
       "visibility": null,
       "width": null
      }
     },
     "4620230eee56444b936a6d629fee5198": {
      "model_module": "@jupyter-widgets/controls",
      "model_module_version": "2.0.0",
      "model_name": "HTMLStyleModel",
      "state": {
       "_model_module": "@jupyter-widgets/controls",
       "_model_module_version": "2.0.0",
       "_model_name": "HTMLStyleModel",
       "_view_count": null,
       "_view_module": "@jupyter-widgets/base",
       "_view_module_version": "2.0.0",
       "_view_name": "StyleView",
       "background": null,
       "description_width": "",
       "font_size": null,
       "text_color": null
      }
     },
     "4635672355484144aea45a840aff9853": {
      "model_module": "@jupyter-widgets/controls",
      "model_module_version": "2.0.0",
      "model_name": "HTMLModel",
      "state": {
       "_dom_classes": [],
       "_model_module": "@jupyter-widgets/controls",
       "_model_module_version": "2.0.0",
       "_model_name": "HTMLModel",
       "_view_count": null,
       "_view_module": "@jupyter-widgets/controls",
       "_view_module_version": "2.0.0",
       "_view_name": "HTMLView",
       "description": "",
       "description_allow_html": false,
       "layout": "IPY_MODEL_548939b9af07415289d082dea34b16d6",
       "placeholder": "​",
       "style": "IPY_MODEL_3c715bc039c24b578290f8fba5f8fd32",
       "tabbable": null,
       "tooltip": null,
       "value": "<h5><a href=\"https://github.com/jupyterlab/jupyterlab-latex\">jupyterlab/jupyterlab-latex</a></h5>\n<ul>\n<li><a href=\"https://github.com/jupyterlab/jupyterlab-latex/issues/249\">(#249)</a>: <em>MY ENTIRE HOME DIRECTORY WAS OBLITERATED BECAUSE OF THIS EXTENSION!! UNBELIEVABLE!!!</em> by <strong><a href=\"https://github.com/dogganon\">@dogganon</a></strong></li>\n<li><a href=\"https://github.com/jupyterlab/jupyterlab-latex/issues/153\">(#153)</a>: <em>Suggestion: tab replace commands with unicode math symbols</em> by <strong><a href=\"https://github.com/gjvnq\">@gjvnq</a></strong></li>\n</ul>"
      }
     },
     "475dc143542f4172bbc1f34f0cd43da5": {
      "model_module": "@jupyter-widgets/base",
      "model_module_version": "2.0.0",
      "model_name": "LayoutModel",
      "state": {
       "_model_module": "@jupyter-widgets/base",
       "_model_module_version": "2.0.0",
       "_model_name": "LayoutModel",
       "_view_count": null,
       "_view_module": "@jupyter-widgets/base",
       "_view_module_version": "2.0.0",
       "_view_name": "LayoutView",
       "align_content": null,
       "align_items": null,
       "align_self": null,
       "border_bottom": null,
       "border_left": null,
       "border_right": null,
       "border_top": null,
       "bottom": null,
       "display": null,
       "flex": null,
       "flex_flow": null,
       "grid_area": null,
       "grid_auto_columns": null,
       "grid_auto_flow": null,
       "grid_auto_rows": null,
       "grid_column": null,
       "grid_gap": null,
       "grid_row": null,
       "grid_template_areas": null,
       "grid_template_columns": null,
       "grid_template_rows": null,
       "height": null,
       "justify_content": null,
       "justify_items": null,
       "left": null,
       "margin": null,
       "max_height": null,
       "max_width": null,
       "min_height": null,
       "min_width": null,
       "object_fit": null,
       "object_position": null,
       "order": null,
       "overflow": null,
       "padding": null,
       "right": null,
       "top": null,
       "visibility": null,
       "width": null
      }
     },
     "548939b9af07415289d082dea34b16d6": {
      "model_module": "@jupyter-widgets/base",
      "model_module_version": "2.0.0",
      "model_name": "LayoutModel",
      "state": {
       "_model_module": "@jupyter-widgets/base",
       "_model_module_version": "2.0.0",
       "_model_name": "LayoutModel",
       "_view_count": null,
       "_view_module": "@jupyter-widgets/base",
       "_view_module_version": "2.0.0",
       "_view_name": "LayoutView",
       "align_content": null,
       "align_items": null,
       "align_self": null,
       "border_bottom": null,
       "border_left": null,
       "border_right": null,
       "border_top": null,
       "bottom": null,
       "display": null,
       "flex": null,
       "flex_flow": null,
       "grid_area": null,
       "grid_auto_columns": null,
       "grid_auto_flow": null,
       "grid_auto_rows": null,
       "grid_column": null,
       "grid_gap": null,
       "grid_row": null,
       "grid_template_areas": null,
       "grid_template_columns": null,
       "grid_template_rows": null,
       "height": null,
       "justify_content": null,
       "justify_items": null,
       "left": null,
       "margin": null,
       "max_height": null,
       "max_width": null,
       "min_height": null,
       "min_width": null,
       "object_fit": null,
       "object_position": null,
       "order": null,
       "overflow": null,
       "padding": null,
       "right": null,
       "top": null,
       "visibility": null,
       "width": null
      }
     },
     "58988bad844247698955f1616fbdb1c1": {
      "model_module": "@jupyter-widgets/controls",
      "model_module_version": "2.0.0",
      "model_name": "HTMLModel",
      "state": {
       "_dom_classes": [],
       "_model_module": "@jupyter-widgets/controls",
       "_model_module_version": "2.0.0",
       "_model_name": "HTMLModel",
       "_view_count": null,
       "_view_module": "@jupyter-widgets/controls",
       "_view_module_version": "2.0.0",
       "_view_name": "HTMLView",
       "description": "",
       "description_allow_html": false,
       "layout": "IPY_MODEL_f6b1cf69388446a581faf34fcbc8c46a",
       "placeholder": "​",
       "style": "IPY_MODEL_ff8fbd4d49ca43429938790d51e701ed",
       "tabbable": null,
       "tooltip": null,
       "value": "<h5><a href=\"https://github.com/jupyterlab/extension-examples\">jupyterlab/extension-examples</a></h5>\n<ul>\n<li><a href=\"https://github.com/jupyterlab/extension-examples/issues/261\">(#261)</a>: _ python -m pip install -e  error_ by <strong><a href=\"https://github.com/ryan-latest\">@ryan-latest</a></strong></li>\n</ul>"
      }
     },
     "597d873e2af54e14b4aa77f5e9e86430": {
      "model_module": "@jupyter-widgets/controls",
      "model_module_version": "2.0.0",
      "model_name": "HTMLModel",
      "state": {
       "_dom_classes": [],
       "_model_module": "@jupyter-widgets/controls",
       "_model_module_version": "2.0.0",
       "_model_name": "HTMLModel",
       "_view_count": null,
       "_view_module": "@jupyter-widgets/controls",
       "_view_module_version": "2.0.0",
       "_view_name": "HTMLView",
       "description": "",
       "description_allow_html": false,
       "layout": "IPY_MODEL_a9d4f501bf984b069e3e1df112ccd505",
       "placeholder": "​",
       "style": "IPY_MODEL_a6caded4a4a5448f94a5b70e4abf591e",
       "tabbable": null,
       "tooltip": null,
       "value": "<h5><a href=\"https://github.com/jupyterlab/jupyterlab-latex\">jupyterlab/jupyterlab-latex</a></h5>\n<ul>\n<li><a href=\"https://github.com/jupyterlab/jupyterlab-latex/issues/249\">(#249)</a>: <em>MY ENTIRE HOME DIRECTORY WAS OBLITERATED BECAUSE OF THIS EXTENSION!! UNBELIEVABLE!!!</em> by <strong><a href=\"https://github.com/dogganon\">@dogganon</a></strong></li>\n<li><a href=\"https://github.com/jupyterlab/jupyterlab-latex/issues/153\">(#153)</a>: <em>Suggestion: tab replace commands with unicode math symbols</em> by <strong><a href=\"https://github.com/gjvnq\">@gjvnq</a></strong></li>\n</ul>"
      }
     },
     "5c9aabdb912748779957f2757699f6a0": {
      "model_module": "@jupyter-widgets/base",
      "model_module_version": "2.0.0",
      "model_name": "LayoutModel",
      "state": {
       "_model_module": "@jupyter-widgets/base",
       "_model_module_version": "2.0.0",
       "_model_name": "LayoutModel",
       "_view_count": null,
       "_view_module": "@jupyter-widgets/base",
       "_view_module_version": "2.0.0",
       "_view_name": "LayoutView",
       "align_content": null,
       "align_items": null,
       "align_self": null,
       "border_bottom": null,
       "border_left": null,
       "border_right": null,
       "border_top": null,
       "bottom": null,
       "display": null,
       "flex": null,
       "flex_flow": null,
       "grid_area": null,
       "grid_auto_columns": null,
       "grid_auto_flow": null,
       "grid_auto_rows": null,
       "grid_column": null,
       "grid_gap": null,
       "grid_row": null,
       "grid_template_areas": null,
       "grid_template_columns": null,
       "grid_template_rows": null,
       "height": null,
       "justify_content": null,
       "justify_items": null,
       "left": null,
       "margin": null,
       "max_height": null,
       "max_width": null,
       "min_height": null,
       "min_width": null,
       "object_fit": null,
       "object_position": null,
       "order": null,
       "overflow": null,
       "padding": null,
       "right": null,
       "top": null,
       "visibility": null,
       "width": null
      }
     },
     "5cf59db07b3a413ca1fab7ba1313142a": {
      "model_module": "@jupyter-widgets/controls",
      "model_module_version": "2.0.0",
      "model_name": "HTMLModel",
      "state": {
       "_dom_classes": [],
       "_model_module": "@jupyter-widgets/controls",
       "_model_module_version": "2.0.0",
       "_model_name": "HTMLModel",
       "_view_count": null,
       "_view_module": "@jupyter-widgets/controls",
       "_view_module_version": "2.0.0",
       "_view_name": "HTMLView",
       "description": "",
       "description_allow_html": false,
       "layout": "IPY_MODEL_1caab0f0ded94a07b5716aa925f5d330",
       "placeholder": "​",
       "style": "IPY_MODEL_fd138a8e0792413f93fe23682cd46b10",
       "tabbable": null,
       "tooltip": null,
       "value": "<h5><a href=\"https://github.com/jupyterlab/frontends-team-compass\">jupyterlab/frontends-team-compass</a></h5>\n<ul>\n<li><a href=\"https://github.com/jupyterlab/frontends-team-compass/issues/266\">(#266)</a>: <em>Weekly Team Meetings: Jan–Jun 2025</em> by <strong><a href=\"https://github.com/jtpio\">@jtpio</a></strong></li>\n<li><a href=\"https://github.com/jupyterlab/frontends-team-compass/issues/268\">(#268)</a>: <em>Weekly Triage meetings: Jan–Dec 2025</em> by <strong><a href=\"https://github.com/RRosio\">@RRosio</a></strong></li>\n<li><a href=\"https://github.com/jupyterlab/frontends-team-compass/issues/275\">(#275)</a>: <em>JupyterLab 4.4 bug bash proposal for March 26 Jupyter Frontends call</em> by <strong><a href=\"https://github.com/andrii-i\">@andrii-i</a></strong></li>\n</ul>"
      }
     },
     "6019dd63ffce4cd08a9d3a8d2d2ab1bc": {
      "model_module": "@jupyter-widgets/controls",
      "model_module_version": "2.0.0",
      "model_name": "HTMLStyleModel",
      "state": {
       "_model_module": "@jupyter-widgets/controls",
       "_model_module_version": "2.0.0",
       "_model_name": "HTMLStyleModel",
       "_view_count": null,
       "_view_module": "@jupyter-widgets/base",
       "_view_module_version": "2.0.0",
       "_view_name": "StyleView",
       "background": null,
       "description_width": "",
       "font_size": null,
       "text_color": null
      }
     },
     "67cb667b0b264d3288c08eeaf457c429": {
      "model_module": "@jupyter-widgets/base",
      "model_module_version": "2.0.0",
      "model_name": "LayoutModel",
      "state": {
       "_model_module": "@jupyter-widgets/base",
       "_model_module_version": "2.0.0",
       "_model_name": "LayoutModel",
       "_view_count": null,
       "_view_module": "@jupyter-widgets/base",
       "_view_module_version": "2.0.0",
       "_view_name": "LayoutView",
       "align_content": null,
       "align_items": null,
       "align_self": null,
       "border_bottom": null,
       "border_left": null,
       "border_right": null,
       "border_top": null,
       "bottom": null,
       "display": null,
       "flex": null,
       "flex_flow": null,
       "grid_area": null,
       "grid_auto_columns": null,
       "grid_auto_flow": null,
       "grid_auto_rows": null,
       "grid_column": null,
       "grid_gap": null,
       "grid_row": null,
       "grid_template_areas": null,
       "grid_template_columns": null,
       "grid_template_rows": null,
       "height": null,
       "justify_content": null,
       "justify_items": null,
       "left": null,
       "margin": null,
       "max_height": null,
       "max_width": null,
       "min_height": null,
       "min_width": null,
       "object_fit": null,
       "object_position": null,
       "order": null,
       "overflow": null,
       "padding": null,
       "right": null,
       "top": null,
       "visibility": null,
       "width": null
      }
     },
     "6da8883d97184d1faa157d2656adfd62": {
      "model_module": "@jupyter-widgets/base",
      "model_module_version": "2.0.0",
      "model_name": "LayoutModel",
      "state": {
       "_model_module": "@jupyter-widgets/base",
       "_model_module_version": "2.0.0",
       "_model_name": "LayoutModel",
       "_view_count": null,
       "_view_module": "@jupyter-widgets/base",
       "_view_module_version": "2.0.0",
       "_view_name": "LayoutView",
       "align_content": null,
       "align_items": null,
       "align_self": null,
       "border_bottom": null,
       "border_left": null,
       "border_right": null,
       "border_top": null,
       "bottom": null,
       "display": null,
       "flex": null,
       "flex_flow": null,
       "grid_area": null,
       "grid_auto_columns": null,
       "grid_auto_flow": null,
       "grid_auto_rows": null,
       "grid_column": null,
       "grid_gap": null,
       "grid_row": null,
       "grid_template_areas": null,
       "grid_template_columns": null,
       "grid_template_rows": null,
       "height": null,
       "justify_content": null,
       "justify_items": null,
       "left": null,
       "margin": null,
       "max_height": null,
       "max_width": null,
       "min_height": null,
       "min_width": null,
       "object_fit": null,
       "object_position": null,
       "order": null,
       "overflow": null,
       "padding": null,
       "right": null,
       "top": null,
       "visibility": null,
       "width": null
      }
     },
     "72b58f8946c247ac859ef5a2c500d93c": {
      "model_module": "@jupyter-widgets/base",
      "model_module_version": "2.0.0",
      "model_name": "LayoutModel",
      "state": {
       "_model_module": "@jupyter-widgets/base",
       "_model_module_version": "2.0.0",
       "_model_name": "LayoutModel",
       "_view_count": null,
       "_view_module": "@jupyter-widgets/base",
       "_view_module_version": "2.0.0",
       "_view_name": "LayoutView",
       "align_content": null,
       "align_items": null,
       "align_self": null,
       "border_bottom": null,
       "border_left": null,
       "border_right": null,
       "border_top": null,
       "bottom": null,
       "display": null,
       "flex": null,
       "flex_flow": null,
       "grid_area": null,
       "grid_auto_columns": null,
       "grid_auto_flow": null,
       "grid_auto_rows": null,
       "grid_column": null,
       "grid_gap": null,
       "grid_row": null,
       "grid_template_areas": null,
       "grid_template_columns": null,
       "grid_template_rows": null,
       "height": null,
       "justify_content": null,
       "justify_items": null,
       "left": null,
       "margin": null,
       "max_height": null,
       "max_width": null,
       "min_height": null,
       "min_width": null,
       "object_fit": null,
       "object_position": null,
       "order": null,
       "overflow": null,
       "padding": null,
       "right": null,
       "top": null,
       "visibility": null,
       "width": null
      }
     },
     "81a277337030468f97bd0dcd4a95b25a": {
      "model_module": "@jupyter-widgets/controls",
      "model_module_version": "2.0.0",
      "model_name": "HTMLModel",
      "state": {
       "_dom_classes": [],
       "_model_module": "@jupyter-widgets/controls",
       "_model_module_version": "2.0.0",
       "_model_name": "HTMLModel",
       "_view_count": null,
       "_view_module": "@jupyter-widgets/controls",
       "_view_module_version": "2.0.0",
       "_view_name": "HTMLView",
       "description": "",
       "description_allow_html": false,
       "layout": "IPY_MODEL_67cb667b0b264d3288c08eeaf457c429",
       "placeholder": "​",
       "style": "IPY_MODEL_febb45a68c8d412cad77f2e7abf8dea6",
       "tabbable": null,
       "tooltip": null,
       "value": "<h4>Closed PRs for repo: <a href=\"https://github.com/jupyterlab/jupyterlab_server\">jupyterlab/jupyterlab_server</a></h4>\n<h5></h5>\n<ul>\n<li><a href=\"https://github.com/jupyterlab/jupyterlab_server/issues/467\">(#467)</a>: <em>Align default language</em> by <strong><a href=\"https://github.com/fcollonval\">@fcollonval</a></strong> merged by <strong><a href=\"https://github.com/fcollonval\">@fcollonval</a></strong></li>\n</ul>"
      }
     },
     "89798e3840b1464e884d290710e0c752": {
      "model_module": "@jupyter-widgets/controls",
      "model_module_version": "2.0.0",
      "model_name": "HTMLModel",
      "state": {
       "_dom_classes": [],
       "_model_module": "@jupyter-widgets/controls",
       "_model_module_version": "2.0.0",
       "_model_name": "HTMLModel",
       "_view_count": null,
       "_view_module": "@jupyter-widgets/controls",
       "_view_module_version": "2.0.0",
       "_view_name": "HTMLView",
       "description": "",
       "description_allow_html": false,
       "layout": "IPY_MODEL_42e044f9c5d741748114cbddde926427",
       "placeholder": "​",
       "style": "IPY_MODEL_4197c7cb971d43fea06d24449b314e3a",
       "tabbable": null,
       "tooltip": null,
       "value": "<h5><a href=\"https://github.com/jupyterlab/jupyterlab-desktop\">jupyterlab/jupyterlab-desktop</a></h5>\n<ul>\n<li><a href=\"https://github.com/jupyterlab/jupyterlab-desktop/issues/890\">(#890)</a>: <em>Should we archive this project?</em> by <strong><a href=\"https://github.com/krassowski\">@krassowski</a></strong></li>\n<li><a href=\"https://github.com/jupyterlab/jupyterlab-desktop/issues/888\">(#888)</a>: <em>[macOS] App CLI is not executable Error: EACCES: permission denied</em> by <strong><a href=\"https://github.com/lewisl\">@lewisl</a></strong></li>\n<li><a href=\"https://github.com/jupyterlab/jupyterlab-desktop/issues/885\">(#885)</a>: <em>bug when commenting out code ( see vid )</em> by <strong><a href=\"https://github.com/mreisbeck2\">@mreisbeck2</a></strong></li>\n<li><a href=\"https://github.com/jupyterlab/jupyterlab-desktop/issues/891\">(#891)</a>: <em>Improve documentation for running alternative kernels</em> by <strong><a href=\"https://github.com/Ahri-man\">@Ahri-man</a></strong></li>\n<li><a href=\"https://github.com/jupyterlab/jupyterlab-desktop/issues/892\">(#892)</a>: <em>installation issue macOS(arm64)</em> by <strong><a href=\"https://github.com/shmIuser44\">@shmIuser44</a></strong></li>\n</ul>"
      }
     },
     "a6caded4a4a5448f94a5b70e4abf591e": {
      "model_module": "@jupyter-widgets/controls",
      "model_module_version": "2.0.0",
      "model_name": "HTMLStyleModel",
      "state": {
       "_model_module": "@jupyter-widgets/controls",
       "_model_module_version": "2.0.0",
       "_model_name": "HTMLStyleModel",
       "_view_count": null,
       "_view_module": "@jupyter-widgets/base",
       "_view_module_version": "2.0.0",
       "_view_name": "StyleView",
       "background": null,
       "description_width": "",
       "font_size": null,
       "text_color": null
      }
     },
     "a8ab06a1b783466380396ddd00557e62": {
      "model_module": "@jupyter-widgets/controls",
      "model_module_version": "2.0.0",
      "model_name": "HTMLStyleModel",
      "state": {
       "_model_module": "@jupyter-widgets/controls",
       "_model_module_version": "2.0.0",
       "_model_name": "HTMLStyleModel",
       "_view_count": null,
       "_view_module": "@jupyter-widgets/base",
       "_view_module_version": "2.0.0",
       "_view_name": "StyleView",
       "background": null,
       "description_width": "",
       "font_size": null,
       "text_color": null
      }
     },
     "a9d4f501bf984b069e3e1df112ccd505": {
      "model_module": "@jupyter-widgets/base",
      "model_module_version": "2.0.0",
      "model_name": "LayoutModel",
      "state": {
       "_model_module": "@jupyter-widgets/base",
       "_model_module_version": "2.0.0",
       "_model_name": "LayoutModel",
       "_view_count": null,
       "_view_module": "@jupyter-widgets/base",
       "_view_module_version": "2.0.0",
       "_view_name": "LayoutView",
       "align_content": null,
       "align_items": null,
       "align_self": null,
       "border_bottom": null,
       "border_left": null,
       "border_right": null,
       "border_top": null,
       "bottom": null,
       "display": null,
       "flex": null,
       "flex_flow": null,
       "grid_area": null,
       "grid_auto_columns": null,
       "grid_auto_flow": null,
       "grid_auto_rows": null,
       "grid_column": null,
       "grid_gap": null,
       "grid_row": null,
       "grid_template_areas": null,
       "grid_template_columns": null,
       "grid_template_rows": null,
       "height": null,
       "justify_content": null,
       "justify_items": null,
       "left": null,
       "margin": null,
       "max_height": null,
       "max_width": null,
       "min_height": null,
       "min_width": null,
       "object_fit": null,
       "object_position": null,
       "order": null,
       "overflow": null,
       "padding": null,
       "right": null,
       "top": null,
       "visibility": null,
       "width": null
      }
     },
     "af3255e0601c453cab7cf9dc674bfc46": {
      "model_module": "@jupyter-widgets/controls",
      "model_module_version": "2.0.0",
      "model_name": "HTMLStyleModel",
      "state": {
       "_model_module": "@jupyter-widgets/controls",
       "_model_module_version": "2.0.0",
       "_model_name": "HTMLStyleModel",
       "_view_count": null,
       "_view_module": "@jupyter-widgets/base",
       "_view_module_version": "2.0.0",
       "_view_name": "StyleView",
       "background": null,
       "description_width": "",
       "font_size": null,
       "text_color": null
      }
     },
     "ba3dca6f5cfa4be4a48569728d6c40de": {
      "model_module": "@jupyter-widgets/controls",
      "model_module_version": "2.0.0",
      "model_name": "HTMLModel",
      "state": {
       "_dom_classes": [],
       "_model_module": "@jupyter-widgets/controls",
       "_model_module_version": "2.0.0",
       "_model_name": "HTMLModel",
       "_view_count": null,
       "_view_module": "@jupyter-widgets/controls",
       "_view_module_version": "2.0.0",
       "_view_name": "HTMLView",
       "description": "",
       "description_allow_html": false,
       "layout": "IPY_MODEL_2ae4f4191f504449b5dc3a6f551924c4",
       "placeholder": "​",
       "style": "IPY_MODEL_af3255e0601c453cab7cf9dc674bfc46",
       "tabbable": null,
       "tooltip": null,
       "value": "<h4>Closed PRs for repo: <a href=\"https://github.com/jupyterlab/extension-examples\">jupyterlab/extension-examples</a></h4>\n<h5></h5>\n<ul>\n<li><a href=\"https://github.com/jupyterlab/extension-examples/issues/277\">(#277)</a>: <em>Update main README and hello-world README</em> by <strong><a href=\"https://github.com/allison-truhlar\">@allison-truhlar</a></strong> merged by <strong><a href=\"https://github.com/fcollonval\">@fcollonval</a></strong></li>\n<li><a href=\"https://github.com/jupyterlab/extension-examples/issues/280\">(#280)</a>: <em>Bump GitHub Actions to fix CI</em> by <strong><a href=\"https://github.com/jtpio\">@jtpio</a></strong> merged by <strong><a href=\"https://github.com/krassowski\">@krassowski</a></strong></li>\n</ul>"
      }
     },
     "bb17ce4119e44affac89252ef459b127": {
      "model_module": "@jupyter-widgets/controls",
      "model_module_version": "2.0.0",
      "model_name": "HTMLStyleModel",
      "state": {
       "_model_module": "@jupyter-widgets/controls",
       "_model_module_version": "2.0.0",
       "_model_name": "HTMLStyleModel",
       "_view_count": null,
       "_view_module": "@jupyter-widgets/base",
       "_view_module_version": "2.0.0",
       "_view_name": "StyleView",
       "background": null,
       "description_width": "",
       "font_size": null,
       "text_color": null
      }
     },
     "bc2947c230e1493c9d6ba0e86b7295a6": {
      "model_module": "@jupyter-widgets/controls",
      "model_module_version": "2.0.0",
      "model_name": "HTMLModel",
      "state": {
       "_dom_classes": [],
       "_model_module": "@jupyter-widgets/controls",
       "_model_module_version": "2.0.0",
       "_model_name": "HTMLModel",
       "_view_count": null,
       "_view_module": "@jupyter-widgets/controls",
       "_view_module_version": "2.0.0",
       "_view_name": "HTMLView",
       "description": "",
       "description_allow_html": false,
       "layout": "IPY_MODEL_ebb55343abae425ebb669f21d1cd24dd",
       "placeholder": "​",
       "style": "IPY_MODEL_21e78cbea52048dfb752adb83fbe1ca0",
       "tabbable": null,
       "tooltip": null,
       "value": "<ul>\n<li>(117) Implement variable inspector for kernels - jupyterlab - <a href=\"https://github.com/jupyterlab/jupyterlab/issues/443\">#443</a></li>\n<li>(57) allowing copy/paste in right click menu in notebook - jupyterlab - <a href=\"https://github.com/jupyterlab/jupyterlab/issues/3224\">#3224</a></li>\n<li>(52) Switching to a big notebook in a tab is slow - jupyterlab - <a href=\"https://github.com/jupyterlab/jupyterlab/issues/4292\">#4292</a></li>\n<li>(46) Remove a cell from evaluation queue - jupyterlab - <a href=\"https://github.com/jupyterlab/jupyterlab/issues/7825\">#7825</a></li>\n<li>(45) Is any way to highlight the selected word - jupyterlab - <a href=\"https://github.com/jupyterlab/jupyterlab/issues/6112\">#6112</a></li>\n<li>(34) Add a linter to the editor - jupyterlab - <a href=\"https://github.com/jupyterlab/jupyterlab/issues/1278\">#1278</a></li>\n<li>(33) Syntax highlighting for SQL cell magic - jupyterlab - <a href=\"https://github.com/jupyterlab/jupyterlab/issues/3869\">#3869</a></li>\n<li>(33) Skip H1 headers - jupyterlab-toc - <a href=\"https://github.com/jupyterlab/jupyterlab-toc/issues/66\">#66</a></li>\n<li>(32) Open existing Notebook without kernel - jupyterlab - <a href=\"https://github.com/jupyterlab/jupyterlab/issues/4040\">#4040</a></li>\n<li>(32) Feedback from a Jupyter notebook fanatic comming to Jupyter lab  - jupyterlab - <a href=\"https://github.com/jupyterlab/jupyterlab/issues/2972\">#2972</a></li>\n<li>(30) Adding an option to disable file download on Jupyterlab - jupyterlab - <a href=\"https://github.com/jupyterlab/jupyterlab/issues/5274\">#5274</a></li>\n<li>(30) Feature request:  Emacs keybindings for notebook - jupyterlab - <a href=\"https://github.com/jupyterlab/jupyterlab/issues/3885\">#3885</a></li>\n<li>(30) themes from jupyter-themes - jupyterlab - <a href=\"https://github.com/jupyterlab/jupyterlab/issues/3844\">#3844</a></li>\n<li>(28) Show RAM usage of kernels - jupyterlab - <a href=\"https://github.com/jupyterlab/jupyterlab/issues/4012\">#4012</a></li>\n<li>(28) WIP/Discussion: Tree view for file browser - jupyterlab - <a href=\"https://github.com/jupyterlab/jupyterlab/issues/5526\">#5526</a></li>\n<li>(27) Trailing whitespace in editor - jupyterlab - <a href=\"https://github.com/jupyterlab/jupyterlab/issues/3904\">#3904</a></li>\n<li>(24) JupyterLab vision for the next few years - frontends-team-compass - <a href=\"https://github.com/jupyterlab/frontends-team-compass/issues/80\">#80</a></li>\n<li>(23) Open a notebook from JupyterLab terminal - jupyterlab - <a href=\"https://github.com/jupyterlab/jupyterlab/issues/5056\">#5056</a></li>\n<li>(23) Typing single or double quote when text is selected erases the text - jupyterlab - <a href=\"https://github.com/jupyterlab/jupyterlab/issues/9897\">#9897</a></li>\n<li>(22) Changing Browser Tab Title for JupyterLab - jupyterlab - <a href=\"https://github.com/jupyterlab/jupyterlab/issues/4422\">#4422</a></li>\n<li>(21) Failure to start jupyter lab --- IndexError: pop from an empty deque  - jupyterlab - <a href=\"https://github.com/jupyterlab/jupyterlab/issues/11934\">#11934</a></li>\n<li>(20) Code formatter - jupyterlab - <a href=\"https://github.com/jupyterlab/jupyterlab/issues/4521\">#4521</a></li>\n<li>(20) Improve user experience in Launcher - jupyterlab - <a href=\"https://github.com/jupyterlab/jupyterlab/issues/3795\">#3795</a></li>\n<li>(19) Renaming Console and Terminal sessions - jupyterlab - <a href=\"https://github.com/jupyterlab/jupyterlab/issues/4393\">#4393</a></li>\n<li>(19) Inline Whiteboard - jupyterlab - <a href=\"https://github.com/jupyterlab/jupyterlab/issues/9194\">#9194</a></li>\n</ul>"
      }
     },
     "c0ab8491192e4f5db0b1315b6888f8f2": {
      "model_module": "@jupyter-widgets/controls",
      "model_module_version": "2.0.0",
      "model_name": "HTMLStyleModel",
      "state": {
       "_model_module": "@jupyter-widgets/controls",
       "_model_module_version": "2.0.0",
       "_model_name": "HTMLStyleModel",
       "_view_count": null,
       "_view_module": "@jupyter-widgets/base",
       "_view_module_version": "2.0.0",
       "_view_name": "StyleView",
       "background": null,
       "description_width": "",
       "font_size": null,
       "text_color": null
      }
     },
     "c6cbcd9a633349b699927db1b7cddbc3": {
      "model_module": "@jupyter-widgets/base",
      "model_module_version": "2.0.0",
      "model_name": "LayoutModel",
      "state": {
       "_model_module": "@jupyter-widgets/base",
       "_model_module_version": "2.0.0",
       "_model_name": "LayoutModel",
       "_view_count": null,
       "_view_module": "@jupyter-widgets/base",
       "_view_module_version": "2.0.0",
       "_view_name": "LayoutView",
       "align_content": null,
       "align_items": null,
       "align_self": null,
       "border_bottom": null,
       "border_left": null,
       "border_right": null,
       "border_top": null,
       "bottom": null,
       "display": null,
       "flex": null,
       "flex_flow": null,
       "grid_area": null,
       "grid_auto_columns": null,
       "grid_auto_flow": null,
       "grid_auto_rows": null,
       "grid_column": null,
       "grid_gap": null,
       "grid_row": null,
       "grid_template_areas": null,
       "grid_template_columns": null,
       "grid_template_rows": null,
       "height": null,
       "justify_content": null,
       "justify_items": null,
       "left": null,
       "margin": null,
       "max_height": null,
       "max_width": null,
       "min_height": null,
       "min_width": null,
       "object_fit": null,
       "object_position": null,
       "order": null,
       "overflow": null,
       "padding": null,
       "right": null,
       "top": null,
       "visibility": null,
       "width": null
      }
     },
     "c716c757c2f54436a130dc69b1be224e": {
      "model_module": "@jupyter-widgets/controls",
      "model_module_version": "2.0.0",
      "model_name": "HTMLModel",
      "state": {
       "_dom_classes": [],
       "_model_module": "@jupyter-widgets/controls",
       "_model_module_version": "2.0.0",
       "_model_name": "HTMLModel",
       "_view_count": null,
       "_view_module": "@jupyter-widgets/controls",
       "_view_module_version": "2.0.0",
       "_view_name": "HTMLView",
       "description": "",
       "description_allow_html": false,
       "layout": "IPY_MODEL_ef15c260947b4b38b69a531a6ca19ecb",
       "placeholder": "​",
       "style": "IPY_MODEL_ea9aba612ea14b9b8226125d3d415b83",
       "tabbable": null,
       "tooltip": null,
       "value": "<h5><a href=\"https://github.com/jupyterlab/extension-examples\">jupyterlab/extension-examples</a></h5>\n<ul>\n<li><a href=\"https://github.com/jupyterlab/extension-examples/issues/261\">(#261)</a>: _ python -m pip install -e  error_ by <strong><a href=\"https://github.com/ryan-latest\">@ryan-latest</a></strong></li>\n</ul>"
      }
     },
     "c9323ab8f89a4c4cb2be53743c2be11c": {
      "model_module": "@jupyter-widgets/controls",
      "model_module_version": "2.0.0",
      "model_name": "HTMLModel",
      "state": {
       "_dom_classes": [],
       "_model_module": "@jupyter-widgets/controls",
       "_model_module_version": "2.0.0",
       "_model_name": "HTMLModel",
       "_view_count": null,
       "_view_module": "@jupyter-widgets/controls",
       "_view_module_version": "2.0.0",
       "_view_name": "HTMLView",
       "description": "",
       "description_allow_html": false,
       "layout": "IPY_MODEL_23839b1d2526417ea16e642048231b91",
       "placeholder": "​",
       "style": "IPY_MODEL_174b97d4a62b49fd82f98722209921df",
       "tabbable": null,
       "tooltip": null,
       "value": "<h4>Closed PRs for repo: <a href=\"https://github.com/jupyterlab/jupyterlab\">jupyterlab/jupyterlab</a></h4>\n<h5></h5>\n<ul>\n<li><a href=\"https://github.com/jupyterlab/jupyterlab/issues/16213\">(#16213)</a>: <em>Fix for unable to lock any extension</em> by <strong><a href=\"https://github.com/itsmevichu\">@itsmevichu</a></strong> merged by <strong><a href=\"https://github.com/krassowski\">@krassowski</a></strong></li>\n<li><a href=\"https://github.com/jupyterlab/jupyterlab/issues/16770\">(#16770)</a>: <em>Update to enable block comments in python and other languages that do…</em> by <strong><a href=\"https://github.com/adityamali\">@adityamali</a></strong> merged by <strong><a href=\"https://github.com/adityamali\">@adityamali</a></strong></li>\n<li><a href=\"https://github.com/jupyterlab/jupyterlab/issues/16794\">(#16794)</a>: <em>Allow customizing the <code>ServiceManager</code> with plugins</em> by <strong><a href=\"https://github.com/jtpio\">@jtpio</a></strong> merged by <strong><a href=\"https://github.com/krassowski\">@krassowski</a></strong></li>\n<li><a href=\"https://github.com/jupyterlab/jupyterlab/issues/17155\">(#17155)</a>: <em>Fix: Corrected ARIA Labels on MainAreaWidget.ts to show Context-Specific Content</em> by <strong><a href=\"https://github.com/hxrshxz\">@hxrshxz</a></strong> merged by <strong><a href=\"https://github.com/hxrshxz\">@hxrshxz</a></strong></li>\n<li><a href=\"https://github.com/jupyterlab/jupyterlab/issues/17162\">(#17162)</a>: <em>Heuristic for cell height now considers preferred text output types</em> by <strong><a href=\"https://github.com/hxrshxz\">@hxrshxz</a></strong> merged by <strong><a href=\"https://github.com/hxrshxz\">@hxrshxz</a></strong></li>\n<li><a href=\"https://github.com/jupyterlab/jupyterlab/issues/17194\">(#17194)</a>: <em>Fix for issue preventing cell metadata removal</em> by <strong><a href=\"https://github.com/itsmevichu\">@itsmevichu</a></strong> merged by <strong><a href=\"https://github.com/krassowski\">@krassowski</a></strong></li>\n<li><a href=\"https://github.com/jupyterlab/jupyterlab/issues/17210\">(#17210)</a>: <em>Fix browser tab name updates when started in single-document mode</em> by <strong><a href=\"https://github.com/Darshan808\">@Darshan808</a></strong> merged by <strong><a href=\"https://github.com/krassowski\">@krassowski</a></strong></li>\n<li><a href=\"https://github.com/jupyterlab/jupyterlab/issues/17217\">(#17217)</a>: <em>Improve UX for \"Rename on First Save\" Dialog</em> by <strong><a href=\"https://github.com/MUFFANUJ\">@MUFFANUJ</a></strong> merged by <strong><a href=\"https://github.com/krassowski\">@krassowski</a></strong></li>\n<li><a href=\"https://github.com/jupyterlab/jupyterlab/issues/17256\">(#17256)</a>: <em>Add (opt-in) workspace selector, show workspace name in the title</em> by <strong><a href=\"https://github.com/Darshan808\">@Darshan808</a></strong> merged by <strong><a href=\"https://github.com/krassowski\">@krassowski</a></strong></li>\n<li><a href=\"https://github.com/jupyterlab/jupyterlab/issues/17261\">(#17261)</a>: <em>Reuse DOM and keep selection on streaming stdout/stderr</em> by <strong><a href=\"https://github.com/krassowski\">@krassowski</a></strong> merged by <strong><a href=\"https://github.com/krassowski\">@krassowski</a></strong></li>\n<li><a href=\"https://github.com/jupyterlab/jupyterlab/issues/17266\">(#17266)</a>: <em>Fix order of extensions in PyPI Extension Manager</em> by <strong><a href=\"https://github.com/Princekumarofficial\">@Princekumarofficial</a></strong> merged by <strong><a href=\"https://github.com/krassowski\">@krassowski</a></strong></li>\n<li><a href=\"https://github.com/jupyterlab/jupyterlab/issues/17291\">(#17291)</a>: <em>Disable new <code>ctrl</code> + <code>m</code> toggle focus binding, enable configuring it via Keyboard Shortcuts</em> by <strong><a href=\"https://github.com/krassowski\">@krassowski</a></strong> merged by <strong><a href=\"https://github.com/jtpio\">@jtpio</a></strong></li>\n<li><a href=\"https://github.com/jupyterlab/jupyterlab/issues/17295\">(#17295)</a>: <em>Bump vega from 5.24.0 to 5.26.0</em> by <strong><a href=\"https://github.com/dependabot[bot]\">@dependabot[bot]</a></strong> merged by <strong><a href=\"https://github.com/krassowski\">@krassowski</a></strong></li>\n<li><a href=\"https://github.com/jupyterlab/jupyterlab/issues/17297\">(#17297)</a>: <em>Backport PR #17160 on branch 4.3.x (Ensure search highlight is applied to Python builtin keywords)</em> by <strong><a href=\"https://github.com/meeseeksmachine\">@meeseeksmachine</a></strong> merged by <strong><a href=\"https://github.com/krassowski\">@krassowski</a></strong></li>\n<li><a href=\"https://github.com/jupyterlab/jupyterlab/issues/17298\">(#17298)</a>: <em>Updated enabling logic for run-all-below button on Notebook Panel</em> by <strong><a href=\"https://github.com/rsaditya01\">@rsaditya01</a></strong> merged by <strong><a href=\"https://github.com/krassowski\">@krassowski</a></strong></li>\n<li><a href=\"https://github.com/jupyterlab/jupyterlab/issues/17304\">(#17304)</a>: <em>Bump vega from 5.24.0 to 5.31.0 in /jupyterlab/staging</em> by <strong><a href=\"https://github.com/dependabot[bot]\">@dependabot[bot]</a></strong> merged by <strong><a href=\"https://github.com/krassowski\">@krassowski</a></strong></li>\n<li><a href=\"https://github.com/jupyterlab/jupyterlab/issues/17305\">(#17305)</a>: <em>Bump dompurify from 3.2.3 to 3.2.4</em> by <strong><a href=\"https://github.com/dependabot[bot]\">@dependabot[bot]</a></strong> merged by <strong><a href=\"https://github.com/krassowski\">@krassowski</a></strong></li>\n<li><a href=\"https://github.com/jupyterlab/jupyterlab/issues/17308\">(#17308)</a>: <em>Backport PR #17305 on branch 4.3.x (Bump dompurify to 3.2.4)</em> by <strong><a href=\"https://github.com/krassowski\">@krassowski</a></strong> merged by <strong><a href=\"https://github.com/krassowski\">@krassowski</a></strong></li>\n<li><a href=\"https://github.com/jupyterlab/jupyterlab/issues/17309\">(#17309)</a>: <em>Backport PR #17305 on branch 4.2.x (Bump dompurify to 3.2.4)</em> by <strong><a href=\"https://github.com/krassowski\">@krassowski</a></strong> merged by <strong><a href=\"https://github.com/krassowski\">@krassowski</a></strong></li>\n<li><a href=\"https://github.com/jupyterlab/jupyterlab/issues/17312\">(#17312)</a>: <em>Bump vega-selections from 5.4.1 to 5.5.0 in /jupyterlab/staging</em> by <strong><a href=\"https://github.com/dependabot[bot]\">@dependabot[bot]</a></strong> merged by <strong><a href=\"https://github.com/krassowski\">@krassowski</a></strong></li>\n<li><a href=\"https://github.com/jupyterlab/jupyterlab/issues/17313\">(#17313)</a>: <em>Backport PR #17295 on branch 4.2.x (Bump vega from 5.24.0 to 5.26.0)</em> by <strong><a href=\"https://github.com/meeseeksmachine\">@meeseeksmachine</a></strong> merged by <strong><a href=\"https://github.com/krassowski\">@krassowski</a></strong></li>\n<li><a href=\"https://github.com/jupyterlab/jupyterlab/issues/17314\">(#17314)</a>: <em>Backport PR #17295 on branch 4.3.x (Bump vega from 5.24.0 to 5.26.0)</em> by <strong><a href=\"https://github.com/meeseeksmachine\">@meeseeksmachine</a></strong> merged by <strong><a href=\"https://github.com/krassowski\">@krassowski</a></strong></li>\n<li><a href=\"https://github.com/jupyterlab/jupyterlab/issues/17319\">(#17319)</a>: <em>Bump <code>semver</code> and <code>tough-cookie</code> to non-vulnerable versions</em> by <strong><a href=\"https://github.com/dlqqq\">@dlqqq</a></strong> merged by <strong><a href=\"https://github.com/krassowski\">@krassowski</a></strong></li>\n<li><a href=\"https://github.com/jupyterlab/jupyterlab/issues/17322\">(#17322)</a>: <em>Fix handling of a <code>null</code> banner in the code console</em> by <strong><a href=\"https://github.com/jtpio\">@jtpio</a></strong> merged by <strong><a href=\"https://github.com/krassowski\">@krassowski</a></strong></li>\n<li><a href=\"https://github.com/jupyterlab/jupyterlab/issues/17323\">(#17323)</a>: <em>Fix typo in LSP console message on kernel change</em> by <strong><a href=\"https://github.com/iisakkirotko\">@iisakkirotko</a></strong> merged by <strong><a href=\"https://github.com/krassowski\">@krassowski</a></strong></li>\n<li><a href=\"https://github.com/jupyterlab/jupyterlab/issues/17325\">(#17325)</a>: <em>Provide <code>ITranslatorConnector</code> via a separate plugin</em> by <strong><a href=\"https://github.com/jtpio\">@jtpio</a></strong> merged by <strong><a href=\"https://github.com/krassowski\">@krassowski</a></strong></li>\n<li><a href=\"https://github.com/jupyterlab/jupyterlab/issues/17326\">(#17326)</a>: <em>Backport PR #17319 on branch 4.3.x (Bump semver and tough-cookie to non-vulnerable versions)</em> by <strong><a href=\"https://github.com/dlqqq\">@dlqqq</a></strong> merged by <strong><a href=\"https://github.com/krassowski\">@krassowski</a></strong></li>\n<li><a href=\"https://github.com/jupyterlab/jupyterlab/issues/17327\">(#17327)</a>: <em>Provide <code>ISettingsConnector</code> via a separate plugin</em> by <strong><a href=\"https://github.com/jtpio\">@jtpio</a></strong> merged by <strong><a href=\"https://github.com/krassowski\">@krassowski</a></strong></li>\n<li><a href=\"https://github.com/jupyterlab/jupyterlab/issues/17328\">(#17328)</a>: <em>Normalize translator plugin ids</em> by <strong><a href=\"https://github.com/jtpio\">@jtpio</a></strong> merged by <strong><a href=\"https://github.com/krassowski\">@krassowski</a></strong></li>\n<li><a href=\"https://github.com/jupyterlab/jupyterlab/issues/17329\">(#17329)</a>: <em>Use <code>ITranslationConnector</code> to fetch the translations</em> by <strong><a href=\"https://github.com/jtpio\">@jtpio</a></strong> merged by <strong><a href=\"https://github.com/jtpio\">@jtpio</a></strong></li>\n<li><a href=\"https://github.com/jupyterlab/jupyterlab/issues/17330\">(#17330)</a>: <em>Backport PR #17194 on branch 4.3.x (Fix for issue preventing cell metadata removal)</em> by <strong><a href=\"https://github.com/meeseeksmachine\">@meeseeksmachine</a></strong> merged by <strong><a href=\"https://github.com/krassowski\">@krassowski</a></strong></li>\n<li><a href=\"https://github.com/jupyterlab/jupyterlab/issues/17332\">(#17332)</a>: <em>Fix heading levels in extension migration guide</em> by <strong><a href=\"https://github.com/krassowski\">@krassowski</a></strong> merged by <strong><a href=\"https://github.com/jtpio\">@jtpio</a></strong></li>\n<li><a href=\"https://github.com/jupyterlab/jupyterlab/issues/17334\">(#17334)</a>: <em>Backport PR #16787 on branch 4.2.x (Replace link to accessiblity project with a link to accessiblity issues)</em> by <strong><a href=\"https://github.com/meeseeksmachine\">@meeseeksmachine</a></strong> merged by <strong><a href=\"https://github.com/krassowski\">@krassowski</a></strong></li>\n<li><a href=\"https://github.com/jupyterlab/jupyterlab/issues/17336\">(#17336)</a>: <em>Clarify documentation on bot privileges for updating snapshots</em> by <strong><a href=\"https://github.com/Princekumarofficial\">@Princekumarofficial</a></strong> merged by <strong><a href=\"https://github.com/krassowski\">@krassowski</a></strong></li>\n<li><a href=\"https://github.com/jupyterlab/jupyterlab/issues/17337\">(#17337)</a>: <em>Fix HTML lang attribute</em> by <strong><a href=\"https://github.com/fcollonval\">@fcollonval</a></strong> merged by <strong><a href=\"https://github.com/krassowski\">@krassowski</a></strong></li>\n<li><a href=\"https://github.com/jupyterlab/jupyterlab/issues/17338\">(#17338)</a>: <em>Enforce plugin name convention and rename noncompliant plugins</em> by <strong><a href=\"https://github.com/jtpio\">@jtpio</a></strong> merged by <strong><a href=\"https://github.com/krassowski\">@krassowski</a></strong></li>\n<li><a href=\"https://github.com/jupyterlab/jupyterlab/issues/17339\">(#17339)</a>: <em>Improve scrolling edge cases</em> by <strong><a href=\"https://github.com/krassowski\">@krassowski</a></strong> merged by <strong><a href=\"https://github.com/krassowski\">@krassowski</a></strong></li>\n<li><a href=\"https://github.com/jupyterlab/jupyterlab/issues/17341\">(#17341)</a>: <em>Backport PR #17319 on branch 4.2.x (Bump semver and tough-cookie to non-vulnerable versions)</em> by <strong><a href=\"https://github.com/dlqqq\">@dlqqq</a></strong> merged by <strong><a href=\"https://github.com/krassowski\">@krassowski</a></strong></li>\n<li><a href=\"https://github.com/jupyterlab/jupyterlab/issues/17343\">(#17343)</a>: <em>Fix checkbox alignment in dialog using <code>display: flex</code></em> by <strong><a href=\"https://github.com/SatyajitRedekar\">@SatyajitRedekar</a></strong> merged by <strong><a href=\"https://github.com/krassowski\">@krassowski</a></strong></li>\n<li><a href=\"https://github.com/jupyterlab/jupyterlab/issues/17345\">(#17345)</a>: <em>Expose <code>ConfigSectionManager</code> via a plugin</em> by <strong><a href=\"https://github.com/jtpio\">@jtpio</a></strong> merged by <strong><a href=\"https://github.com/krassowski\">@krassowski</a></strong></li>\n<li><a href=\"https://github.com/jupyterlab/jupyterlab/issues/17346\">(#17346)</a>: <em>Backport PR #17336 on branch 4.3.x (Clarify documentation on bot privileges for updating snapshots)</em> by <strong><a href=\"https://github.com/meeseeksmachine\">@meeseeksmachine</a></strong> merged by <strong><a href=\"https://github.com/jtpio\">@jtpio</a></strong></li>\n<li><a href=\"https://github.com/jupyterlab/jupyterlab/issues/17348\">(#17348)</a>: <em>Add <code>IKernelAPIClient</code> and <code>ISessionAPIClient</code> as options for <code>Kernel.IManager</code> and <code>Session.IManager</code></em> by <strong><a href=\"https://github.com/jtpio\">@jtpio</a></strong> merged by <strong><a href=\"https://github.com/krassowski\">@krassowski</a></strong></li>\n<li><a href=\"https://github.com/jupyterlab/jupyterlab/issues/17350\">(#17350)</a>: <em>Add widget ID arg to semantic command invocations</em> by <strong><a href=\"https://github.com/afshin\">@afshin</a></strong> merged by <strong><a href=\"https://github.com/afshin\">@afshin</a></strong></li>\n<li><a href=\"https://github.com/jupyterlab/jupyterlab/issues/17352\">(#17352)</a>: <em>Add a setting to disable the context menu</em> by <strong><a href=\"https://github.com/afshin\">@afshin</a></strong> merged by <strong><a href=\"https://github.com/krassowski\">@krassowski</a></strong></li>\n<li><a href=\"https://github.com/jupyterlab/jupyterlab/issues/17353\">(#17353)</a>: <em>Bump the actions group with 2 updates</em> by <strong><a href=\"https://github.com/dependabot[bot]\">@dependabot[bot]</a></strong> merged by <strong><a href=\"https://github.com/jtpio\">@jtpio</a></strong></li>\n<li><a href=\"https://github.com/jupyterlab/jupyterlab/issues/17357\">(#17357)</a>: <em>Backport PR #17298 on branch 4.3.x (Updated enabling logic for run-all-below button on Notebook Panel)</em> by <strong><a href=\"https://github.com/meeseeksmachine\">@meeseeksmachine</a></strong> merged by <strong><a href=\"https://github.com/jtpio\">@jtpio</a></strong></li>\n<li><a href=\"https://github.com/jupyterlab/jupyterlab/issues/17359\">(#17359)</a>: <em>Use \"Move to Trash\" over \"Delete\" when contents manager's <code>delete_to_trash</code> is <code>True</code></em> by <strong><a href=\"https://github.com/jesuino\">@jesuino</a></strong> merged by <strong><a href=\"https://github.com/krassowski\">@krassowski</a></strong></li>\n<li><a href=\"https://github.com/jupyterlab/jupyterlab/issues/17360\">(#17360)</a>: <em>[pre-commit.ci] pre-commit autoupdate</em> by <strong><a href=\"https://github.com/pre-commit-ci[bot]\">@pre-commit-ci[bot]</a></strong> merged by <strong><a href=\"https://github.com/jtpio\">@jtpio</a></strong></li>\n<li><a href=\"https://github.com/jupyterlab/jupyterlab/issues/17361\">(#17361)</a>: <em>Move the licenses plugin to <code>apputils-extension</code></em> by <strong><a href=\"https://github.com/jtpio\">@jtpio</a></strong> merged by <strong><a href=\"https://github.com/krassowski\">@krassowski</a></strong></li>\n<li><a href=\"https://github.com/jupyterlab/jupyterlab/issues/17363\">(#17363)</a>: <em>If subshells are supported by the kernel, send comm messages to subshells</em> by <strong><a href=\"https://github.com/martinRenou\">@martinRenou</a></strong> merged by <strong><a href=\"https://github.com/krassowski\">@krassowski</a></strong></li>\n<li><a href=\"https://github.com/jupyterlab/jupyterlab/issues/17364\">(#17364)</a>: <em>Sort the list of plugins and tokens in the documentation</em> by <strong><a href=\"https://github.com/jtpio\">@jtpio</a></strong> merged by <strong><a href=\"https://github.com/krassowski\">@krassowski</a></strong></li>\n<li><a href=\"https://github.com/jupyterlab/jupyterlab/issues/17367\">(#17367)</a>: <em>Require <code>JupyterLab.IInfo</code> for the plugin manager plugin</em> by <strong><a href=\"https://github.com/jtpio\">@jtpio</a></strong> merged by <strong><a href=\"https://github.com/jtpio\">@jtpio</a></strong></li>\n<li><a href=\"https://github.com/jupyterlab/jupyterlab/issues/17368\">(#17368)</a>: <em>User-facing changelog for 4.4</em> by <strong><a href=\"https://github.com/krassowski\">@krassowski</a></strong> merged by <strong><a href=\"https://github.com/jtpio\">@jtpio</a></strong></li>\n<li><a href=\"https://github.com/jupyterlab/jupyterlab/issues/17369\">(#17369)</a>: <em>Fix cell output stream if previous chunk did not end in new line</em> by <strong><a href=\"https://github.com/davidbrochart\">@davidbrochart</a></strong> merged by <strong><a href=\"https://github.com/krassowski\">@krassowski</a></strong></li>\n<li><a href=\"https://github.com/jupyterlab/jupyterlab/issues/17371\">(#17371)</a>: <em>Fix rendering URLs as linked in errors</em> by <strong><a href=\"https://github.com/afshin\">@afshin</a></strong> merged by <strong><a href=\"https://github.com/krassowski\">@krassowski</a></strong></li>\n<li><a href=\"https://github.com/jupyterlab/jupyterlab/issues/17372\">(#17372)</a>: <em>Update to Playwright 1.51.0</em> by <strong><a href=\"https://github.com/jtpio\">@jtpio</a></strong> merged by <strong><a href=\"https://github.com/jtpio\">@jtpio</a></strong></li>\n<li><a href=\"https://github.com/jupyterlab/jupyterlab/issues/17376\">(#17376)</a>: <em>Add pip as a dependency</em> by <strong><a href=\"https://github.com/simonw\">@simonw</a></strong> merged by <strong><a href=\"https://github.com/simonw\">@simonw</a></strong></li>\n<li><a href=\"https://github.com/jupyterlab/jupyterlab/issues/17379\">(#17379)</a>: <em>Update the copyright year to 2025</em> by <strong><a href=\"https://github.com/jtpio\">@jtpio</a></strong> merged by <strong><a href=\"https://github.com/krassowski\">@krassowski</a></strong></li>\n<li><a href=\"https://github.com/jupyterlab/jupyterlab/issues/17380\">(#17380)</a>: <em>Bump axios from 1.7.4 to 1.8.2</em> by <strong><a href=\"https://github.com/dependabot[bot]\">@dependabot[bot]</a></strong> merged by <strong><a href=\"https://github.com/jtpio\">@jtpio</a></strong></li>\n<li><a href=\"https://github.com/jupyterlab/jupyterlab/issues/17383\">(#17383)</a>: <em>[4.3.x] Update reference snapshots</em> by <strong><a href=\"https://github.com/jtpio\">@jtpio</a></strong> merged by <strong><a href=\"https://github.com/jtpio\">@jtpio</a></strong></li>\n<li><a href=\"https://github.com/jupyterlab/jupyterlab/issues/17384\">(#17384)</a>: <em>Bump @babel/runtime from 7.21.0 to 7.26.10 in /jupyterlab/staging</em> by <strong><a href=\"https://github.com/dependabot[bot]\">@dependabot[bot]</a></strong> merged by <strong><a href=\"https://github.com/jtpio\">@jtpio</a></strong></li>\n<li><a href=\"https://github.com/jupyterlab/jupyterlab/issues/17385\">(#17385)</a>: <em>Bump @babel/helpers from 7.21.0 to 7.26.10</em> by <strong><a href=\"https://github.com/dependabot[bot]\">@dependabot[bot]</a></strong> merged by <strong><a href=\"https://github.com/krassowski\">@krassowski</a></strong></li>\n<li><a href=\"https://github.com/jupyterlab/jupyterlab/issues/17387\">(#17387)</a>: <em>Bump nanoid from 3.3.7 to 3.3.9 in /jupyterlab/tests/mock_packages/test_no_hyphens</em> by <strong><a href=\"https://github.com/dependabot[bot]\">@dependabot[bot]</a></strong> merged by <strong><a href=\"https://github.com/krassowski\">@krassowski</a></strong></li>\n<li><a href=\"https://github.com/jupyterlab/jupyterlab/issues/17391\">(#17391)</a>: <em>Backport PR #17369 on branch 4.3.x (Fix cell output stream if previous chunk did not end in new line)</em> by <strong><a href=\"https://github.com/meeseeksmachine\">@meeseeksmachine</a></strong> merged by <strong><a href=\"https://github.com/krassowski\">@krassowski</a></strong></li>\n<li><a href=\"https://github.com/jupyterlab/jupyterlab/issues/17392\">(#17392)</a>: <em>Update changelog links, add new code console screenshot</em> by <strong><a href=\"https://github.com/jtpio\">@jtpio</a></strong> merged by <strong><a href=\"https://github.com/jtpio\">@jtpio</a></strong></li>\n<li><a href=\"https://github.com/jupyterlab/jupyterlab/issues/17395\">(#17395)</a>: <em>Add <code>IKernelSpecAPICLient</code> and <code>ITerminalAPIClient</code>, fix definitions of interfaces</em> by <strong><a href=\"https://github.com/jtpio\">@jtpio</a></strong> merged by <strong><a href=\"https://github.com/krassowski\">@krassowski</a></strong></li>\n<li><a href=\"https://github.com/jupyterlab/jupyterlab/issues/17396\">(#17396)</a>: <em>Update to mermaid 11.6.0, marked 15.0.7</em> by <strong><a href=\"https://github.com/bollwyvl\">@bollwyvl</a></strong> merged by <strong><a href=\"https://github.com/krassowski\">@krassowski</a></strong></li>\n<li><a href=\"https://github.com/jupyterlab/jupyterlab/issues/17397\">(#17397)</a>: <em>Fix definition of the <code>ILicensesClient</code> interface</em> by <strong><a href=\"https://github.com/jtpio\">@jtpio</a></strong> merged by <strong><a href=\"https://github.com/krassowski\">@krassowski</a></strong></li>\n<li><a href=\"https://github.com/jupyterlab/jupyterlab/issues/17398\">(#17398)</a>: <em>Remove workflow using <code>tj-actions/changed-files</code></em> by <strong><a href=\"https://github.com/jtpio\">@jtpio</a></strong> merged by <strong><a href=\"https://github.com/jtpio\">@jtpio</a></strong></li>\n<li><a href=\"https://github.com/jupyterlab/jupyterlab/issues/17399\">(#17399)</a>: <em>Remove workflow using <code>tj-actions/changed-files</code></em> by <strong><a href=\"https://github.com/jtpio\">@jtpio</a></strong> merged by <strong><a href=\"https://github.com/jtpio\">@jtpio</a></strong></li>\n<li><a href=\"https://github.com/jupyterlab/jupyterlab/issues/17400\">(#17400)</a>: <em>Remove workflow using <code>tj-actions/changed-files</code></em> by <strong><a href=\"https://github.com/jtpio\">@jtpio</a></strong> merged by <strong><a href=\"https://github.com/jtpio\">@jtpio</a></strong></li>\n<li><a href=\"https://github.com/jupyterlab/jupyterlab/issues/17401\">(#17401)</a>: <em>Remove workflow using <code>tj-actions/changed-files</code></em> by <strong><a href=\"https://github.com/jtpio\">@jtpio</a></strong> merged by <strong><a href=\"https://github.com/jtpio\">@jtpio</a></strong></li>\n<li><a href=\"https://github.com/jupyterlab/jupyterlab/issues/17402\">(#17402)</a>: <em>Remove workflow using <code>tj-actions/changed-files</code></em> by <strong><a href=\"https://github.com/jtpio\">@jtpio</a></strong> merged by <strong><a href=\"https://github.com/jtpio\">@jtpio</a></strong></li>\n<li><a href=\"https://github.com/jupyterlab/jupyterlab/issues/17404\">(#17404)</a>: <em>Backport PR #17371 on branch 4.3.x (Fix rendering URLs as linked in errors)</em> by <strong><a href=\"https://github.com/meeseeksmachine\">@meeseeksmachine</a></strong> merged by <strong><a href=\"https://github.com/krassowski\">@krassowski</a></strong></li>\n<li><a href=\"https://github.com/jupyterlab/jupyterlab/issues/17405\">(#17405)</a>: <em>Fix handling of the CSV viewer theme</em> by <strong><a href=\"https://github.com/jtpio\">@jtpio</a></strong> merged by <strong><a href=\"https://github.com/krassowski\">@krassowski</a></strong></li>\n<li><a href=\"https://github.com/jupyterlab/jupyterlab/issues/17408\">(#17408)</a>: <em>Allow <code>grid</code> and <code>flexbox</code> style attributes during Markdown/HTML sanitization</em> by <strong><a href=\"https://github.com/dotnetautor\">@dotnetautor</a></strong> merged by <strong><a href=\"https://github.com/krassowski\">@krassowski</a></strong></li>\n<li><a href=\"https://github.com/jupyterlab/jupyterlab/issues/17413\">(#17413)</a>: <em>More specific selector for \"Copy Output to Clipboard\"</em> by <strong><a href=\"https://github.com/jtpio\">@jtpio</a></strong> merged by <strong><a href=\"https://github.com/krassowski\">@krassowski</a></strong></li>\n<li><a href=\"https://github.com/jupyterlab/jupyterlab/issues/17414\">(#17414)</a>: <em>Fix types in translation package, remove usages of <code>any</code></em> by <strong><a href=\"https://github.com/krassowski\">@krassowski</a></strong> merged by <strong><a href=\"https://github.com/krassowski\">@krassowski</a></strong></li>\n<li><a href=\"https://github.com/jupyterlab/jupyterlab/issues/17415\">(#17415)</a>: <em>Create \"Kernels\" section, split statusbar settings</em> by <strong><a href=\"https://github.com/krassowski\">@krassowski</a></strong> merged by <strong><a href=\"https://github.com/krassowski\">@krassowski</a></strong></li>\n<li><a href=\"https://github.com/jupyterlab/jupyterlab/issues/17416\">(#17416)</a>: <em>Create Joey</em> by <strong><a href=\"https://github.com/ghost\">@ghost</a></strong> merged by <strong><a href=\"https://github.com/krassowski\">@krassowski</a></strong></li>\n<li><a href=\"https://github.com/jupyterlab/jupyterlab/issues/17418\">(#17418)</a>: <em>Backport PR #17413 on branch 4.3.x (More specific selector for \"Copy Output to Clipboard\")</em> by <strong><a href=\"https://github.com/meeseeksmachine\">@meeseeksmachine</a></strong> merged by <strong><a href=\"https://github.com/krassowski\">@krassowski</a></strong></li>\n<li><a href=\"https://github.com/jupyterlab/jupyterlab/issues/17421\">(#17421)</a>: <em>Fix for filebrowser tooltip rendering the kernel info repeatedly</em> by <strong><a href=\"https://github.com/itsmevichu\">@itsmevichu</a></strong> merged by <strong><a href=\"https://github.com/krassowski\">@krassowski</a></strong></li>\n<li><a href=\"https://github.com/jupyterlab/jupyterlab/issues/17429\">(#17429)</a>: <em>Fix document search matching text within unsupported SVG tags</em> by <strong><a href=\"https://github.com/achhina\">@achhina</a></strong> merged by <strong><a href=\"https://github.com/krassowski\">@krassowski</a></strong></li>\n<li><a href=\"https://github.com/jupyterlab/jupyterlab/issues/17430\">(#17430)</a>: <em>Make <code>ILabShell</code> optional in the logconsole extension</em> by <strong><a href=\"https://github.com/jtpio\">@jtpio</a></strong> merged by <strong><a href=\"https://github.com/krassowski\">@krassowski</a></strong></li>\n<li><a href=\"https://github.com/jupyterlab/jupyterlab/issues/17432\">(#17432)</a>: <em>fix: packages/docmanager/package.json to reduce vulnerabilities</em> by <strong><a href=\"https://github.com/YvesNDIKURIYO-2022\">@YvesNDIKURIYO-2022</a></strong> merged by <strong><a href=\"https://github.com/krassowski\">@krassowski</a></strong></li>\n<li><a href=\"https://github.com/jupyterlab/jupyterlab/issues/17436\">(#17436)</a>: <em>Bump vega from 5.31.0 to 5.32.0</em> by <strong><a href=\"https://github.com/dependabot[bot]\">@dependabot[bot]</a></strong> merged by <strong><a href=\"https://github.com/krassowski\">@krassowski</a></strong></li>\n<li><a href=\"https://github.com/jupyterlab/jupyterlab/issues/17437\">(#17437)</a>: <em>Fix usage of <code>ITerminalAPIClient</code> in <code>TerminalConnection</code></em> by <strong><a href=\"https://github.com/jtpio\">@jtpio</a></strong> merged by <strong><a href=\"https://github.com/jtpio\">@jtpio</a></strong></li>\n<li><a href=\"https://github.com/jupyterlab/jupyterlab/issues/17438\">(#17438)</a>: <em>Fix visual indication for drag and drop in editor</em> by <strong><a href=\"https://github.com/MUFFANUJ\">@MUFFANUJ</a></strong> merged by <strong><a href=\"https://github.com/krassowski\">@krassowski</a></strong></li>\n<li><a href=\"https://github.com/jupyterlab/jupyterlab/issues/17440\">(#17440)</a>: <em>Fix read-only indicator not showing in RTC docprovider</em> by <strong><a href=\"https://github.com/Darshan808\">@Darshan808</a></strong> merged by <strong><a href=\"https://github.com/krassowski\">@krassowski</a></strong></li>\n<li><a href=\"https://github.com/jupyterlab/jupyterlab/issues/17441\">(#17441)</a>: <em>Add distinct accessible aria label for each toolbar</em> by <strong><a href=\"https://github.com/nkn2022\">@nkn2022</a></strong> merged by <strong><a href=\"https://github.com/krassowski\">@krassowski</a></strong></li>\n<li><a href=\"https://github.com/jupyterlab/jupyterlab/issues/17442\">(#17442)</a>: <em>Fix CommandPalette gets re-rendered even if hidden</em> by <strong><a href=\"https://github.com/fcollonval\">@fcollonval</a></strong> merged by <strong><a href=\"https://github.com/krassowski\">@krassowski</a></strong></li>\n<li><a href=\"https://github.com/jupyterlab/jupyterlab/issues/17443\">(#17443)</a>: <em>Bump vega from 5.31.0 to 5.33.0 in /jupyterlab/staging</em> by <strong><a href=\"https://github.com/dependabot[bot]\">@dependabot[bot]</a></strong> merged by <strong><a href=\"https://github.com/krassowski\">@krassowski</a></strong></li>\n<li><a href=\"https://github.com/jupyterlab/jupyterlab/issues/17444\">(#17444)</a>: <em>Do not try to prettier <code>.mypy_cache</code></em> by <strong><a href=\"https://github.com/krassowski\">@krassowski</a></strong> merged by <strong><a href=\"https://github.com/jtpio\">@jtpio</a></strong></li>\n<li><a href=\"https://github.com/jupyterlab/jupyterlab/issues/17445\">(#17445)</a>: <em>Use the system clipboard for copying and pasting cells</em> by <strong><a href=\"https://github.com/yacchin1205\">@yacchin1205</a></strong> merged by <strong><a href=\"https://github.com/krassowski\">@krassowski</a></strong></li>\n<li><a href=\"https://github.com/jupyterlab/jupyterlab/issues/17448\">(#17448)</a>: <em>Bump nanoid from 3.3.7 to 3.3.11 in /jupyterlab/tests/mock_packages/test-hyphens-underscore</em> by <strong><a href=\"https://github.com/dependabot[bot]\">@dependabot[bot]</a></strong> merged by <strong><a href=\"https://github.com/krassowski\">@krassowski</a></strong></li>\n<li><a href=\"https://github.com/jupyterlab/jupyterlab/issues/17453\">(#17453)</a>: <em>Remove dependencies for Python &lt; 3.9</em> by <strong><a href=\"https://github.com/bnavigator\">@bnavigator</a></strong> merged by <strong><a href=\"https://github.com/jtpio\">@jtpio</a></strong></li>\n<li><a href=\"https://github.com/jupyterlab/jupyterlab/issues/17454\">(#17454)</a>: <em>[pre-commit.ci] pre-commit autoupdate</em> by <strong><a href=\"https://github.com/pre-commit-ci[bot]\">@pre-commit-ci[bot]</a></strong> merged by <strong><a href=\"https://github.com/jtpio\">@jtpio</a></strong></li>\n<li><a href=\"https://github.com/jupyterlab/jupyterlab/issues/17457\">(#17457)</a>: <em>Fix <code>@jupyterlab/services</code> import</em> by <strong><a href=\"https://github.com/jtpio\">@jtpio</a></strong> merged by <strong><a href=\"https://github.com/krassowski\">@krassowski</a></strong></li>\n<li><a href=\"https://github.com/jupyterlab/jupyterlab/issues/17463\">(#17463)</a>: <em>Backport PR #17429 on branch 4.3.x (Fix document search matching text within unsupported SVG tags)</em> by <strong><a href=\"https://github.com/meeseeksmachine\">@meeseeksmachine</a></strong> merged by <strong><a href=\"https://github.com/krassowski\">@krassowski</a></strong></li>\n<li><a href=\"https://github.com/jupyterlab/jupyterlab/issues/17466\">(#17466)</a>: <em>Fix incorrect modifications in collaborative save events</em> by <strong><a href=\"https://github.com/Darshan808\">@Darshan808</a></strong> merged by <strong><a href=\"https://github.com/krassowski\">@krassowski</a></strong></li>\n<li><a href=\"https://github.com/jupyterlab/jupyterlab/issues/17468\">(#17468)</a>: <em>Backport PR #17466 on branch 4.3.x (Fix incorrect modifications in collaborative save events)</em> by <strong><a href=\"https://github.com/meeseeksmachine\">@meeseeksmachine</a></strong> merged by <strong><a href=\"https://github.com/krassowski\">@krassowski</a></strong></li>\n<li><a href=\"https://github.com/jupyterlab/jupyterlab/issues/17469\">(#17469)</a>: <em>Follow changes to stream outputs</em> by <strong><a href=\"https://github.com/davidbrochart\">@davidbrochart</a></strong> merged by <strong><a href=\"https://github.com/krassowski\">@krassowski</a></strong></li>\n<li><a href=\"https://github.com/jupyterlab/jupyterlab/issues/17472\">(#17472)</a>: <em>Add <code>aria-hidden</code> to icons (<code>&lt;svg&gt;</code> elements) which do not have a <code>title</code></em> by <strong><a href=\"https://github.com/nkn2022\">@nkn2022</a></strong> merged by <strong><a href=\"https://github.com/krassowski\">@krassowski</a></strong></li>\n<li><a href=\"https://github.com/jupyterlab/jupyterlab/issues/17475\">(#17475)</a>: <em>Fix handling of the single click navigation</em> by <strong><a href=\"https://github.com/jtpio\">@jtpio</a></strong> merged by <strong><a href=\"https://github.com/afshin\">@afshin</a></strong></li>\n<li><a href=\"https://github.com/jupyterlab/jupyterlab/issues/17476\">(#17476)</a>: <em>Reorder <code>extra_labextensions_path</code> to favor defaults</em> by <strong><a href=\"https://github.com/peytondmurray\">@peytondmurray</a></strong> merged by <strong><a href=\"https://github.com/krassowski\">@krassowski</a></strong></li>\n<li><a href=\"https://github.com/jupyterlab/jupyterlab/issues/17477\">(#17477)</a>: <em>Fix token extraction for incomplete paths</em> by <strong><a href=\"https://github.com/DenisaCG\">@DenisaCG</a></strong> merged by <strong><a href=\"https://github.com/krassowski\">@krassowski</a></strong></li>\n<li><a href=\"https://github.com/jupyterlab/jupyterlab/issues/17481\">(#17481)</a>: <em>Add test for stream outputs</em> by <strong><a href=\"https://github.com/davidbrochart\">@davidbrochart</a></strong> merged by <strong><a href=\"https://github.com/davidbrochart\">@davidbrochart</a></strong></li>\n<li><a href=\"https://github.com/jupyterlab/jupyterlab/issues/17482\">(#17482)</a>: <em>Add an optional <code>exportAs</code> method to <code>NbConvert.IManager</code></em> by <strong><a href=\"https://github.com/jtpio\">@jtpio</a></strong> merged by <strong><a href=\"https://github.com/krassowski\">@krassowski</a></strong></li>\n<li><a href=\"https://github.com/jupyterlab/jupyterlab/issues/17483\">(#17483)</a>: <em>Update to Playwright 1.52.0</em> by <strong><a href=\"https://github.com/jtpio\">@jtpio</a></strong> merged by <strong><a href=\"https://github.com/jtpio\">@jtpio</a></strong></li>\n<li><a href=\"https://github.com/jupyterlab/jupyterlab/issues/17486\">(#17486)</a>: <em>Fix undo/redo in cells created in <code>none</code> windowing mode</em> by <strong><a href=\"https://github.com/krassowski\">@krassowski</a></strong> merged by <strong><a href=\"https://github.com/jtpio\">@jtpio</a></strong></li>\n<li><a href=\"https://github.com/jupyterlab/jupyterlab/issues/17487\">(#17487)</a>: <em>Add new CSS rule for expanding linked output to 100% height</em> by <strong><a href=\"https://github.com/SylvainCorlay\">@SylvainCorlay</a></strong> merged by <strong><a href=\"https://github.com/krassowski\">@krassowski</a></strong></li>\n<li><a href=\"https://github.com/jupyterlab/jupyterlab/issues/17491\">(#17491)</a>: <em>Bump @babel/runtime from 7.21.0 to 7.27.0</em> by <strong><a href=\"https://github.com/dependabot[bot]\">@dependabot[bot]</a></strong> merged by <strong><a href=\"https://github.com/krassowski\">@krassowski</a></strong></li>\n<li><a href=\"https://github.com/jupyterlab/jupyterlab/issues/17492\">(#17492)</a>: <em>Backport PR #17486 on branch 4.3.x (Fix undo/redo in cells created in none windowing mode)</em> by <strong><a href=\"https://github.com/krassowski\">@krassowski</a></strong> merged by <strong><a href=\"https://github.com/krassowski\">@krassowski</a></strong></li>\n<li><a href=\"https://github.com/jupyterlab/jupyterlab/issues/17494\">(#17494)</a>: <em>Bump webpack from 5.91.0 to 5.99.6 in /jupyterlab/tests/mock_packages/test_no_hyphens</em> by <strong><a href=\"https://github.com/dependabot[bot]\">@dependabot[bot]</a></strong> merged by <strong><a href=\"https://github.com/krassowski\">@krassowski</a></strong></li>\n<li><a href=\"https://github.com/jupyterlab/jupyterlab/issues/17495\">(#17495)</a>: <em>Bump webpack from 5.91.0 to 5.99.6 in /jupyterlab/tests/mock_packages/test-hyphens-underscore</em> by <strong><a href=\"https://github.com/dependabot[bot]\">@dependabot[bot]</a></strong> merged by <strong><a href=\"https://github.com/krassowski\">@krassowski</a></strong></li>\n<li><a href=\"https://github.com/jupyterlab/jupyterlab/issues/17499\">(#17499)</a>: <em>Bump ws from 8.16.0 to 8.18.1 in /jupyterlab/tests/mock_packages/test_no_hyphens</em> by <strong><a href=\"https://github.com/dependabot[bot]\">@dependabot[bot]</a></strong> merged by <strong><a href=\"https://github.com/krassowski\">@krassowski</a></strong></li>\n<li><a href=\"https://github.com/jupyterlab/jupyterlab/issues/17500\">(#17500)</a>: <em>Bump ws from 8.16.0 to 8.18.1 in /jupyterlab/tests/mock_packages/test-hyphens-underscore</em> by <strong><a href=\"https://github.com/dependabot[bot]\">@dependabot[bot]</a></strong> merged by <strong><a href=\"https://github.com/krassowski\">@krassowski</a></strong></li>\n<li><a href=\"https://github.com/jupyterlab/jupyterlab/issues/17502\">(#17502)</a>: <em>Bump tough-cookie from 4.1.2 to 4.1.4</em> by <strong><a href=\"https://github.com/dependabot[bot]\">@dependabot[bot]</a></strong> merged by <strong><a href=\"https://github.com/krassowski\">@krassowski</a></strong></li>\n<li><a href=\"https://github.com/jupyterlab/jupyterlab/issues/17503\">(#17503)</a>: <em>Backport PR #17502 on branch 4.4.x (Bump tough-cookie from 4.1.2 to 4.1.4)</em> by <strong><a href=\"https://github.com/meeseeksmachine\">@meeseeksmachine</a></strong> merged by <strong><a href=\"https://github.com/krassowski\">@krassowski</a></strong></li>\n<li><a href=\"https://github.com/jupyterlab/jupyterlab/issues/17505\">(#17505)</a>: <em>Add new entry to Postmortems in <code>RELEASE.md</code></em> by <strong><a href=\"https://github.com/jtpio\">@jtpio</a></strong> merged by <strong><a href=\"https://github.com/krassowski\">@krassowski</a></strong></li>\n<li><a href=\"https://github.com/jupyterlab/jupyterlab/issues/17511\">(#17511)</a>: <em>Fix editing shortcuts on Safari (allow shortcut edit button to receive focus)</em> by <strong><a href=\"https://github.com/minrk\">@minrk</a></strong> merged by <strong><a href=\"https://github.com/krassowski\">@krassowski</a></strong></li>\n<li><a href=\"https://github.com/jupyterlab/jupyterlab/issues/17512\">(#17512)</a>: <em>Backport PR #17511 on branch 4.3.x (Fix editing shortcuts on Safari (allow shortcut edit button to receive focus))</em> by <strong><a href=\"https://github.com/meeseeksmachine\">@meeseeksmachine</a></strong> merged by <strong><a href=\"https://github.com/jtpio\">@jtpio</a></strong></li>\n<li><a href=\"https://github.com/jupyterlab/jupyterlab/issues/17513\">(#17513)</a>: <em>Backport PR #17511 on branch 4.4.x (Fix editing shortcuts on Safari (allow shortcut edit button to receive focus))</em> by <strong><a href=\"https://github.com/meeseeksmachine\">@meeseeksmachine</a></strong> merged by <strong><a href=\"https://github.com/krassowski\">@krassowski</a></strong></li>\n<li><a href=\"https://github.com/jupyterlab/jupyterlab/issues/17519\">(#17519)</a>: <em>Update lower bound for <code>setuptools</code></em> by <strong><a href=\"https://github.com/jtpio\">@jtpio</a></strong> merged by <strong><a href=\"https://github.com/jtpio\">@jtpio</a></strong></li>\n<li><a href=\"https://github.com/jupyterlab/jupyterlab/issues/17520\">(#17520)</a>: <em>Backport PR #17219 on branch 4.3.x (Updated mock packages to use hatch-jupyter-builder)</em> by <strong><a href=\"https://github.com/meeseeksmachine\">@meeseeksmachine</a></strong> merged by <strong><a href=\"https://github.com/krassowski\">@krassowski</a></strong></li>\n<li><a href=\"https://github.com/jupyterlab/jupyterlab/issues/17522\">(#17522)</a>: <em>[4.3.x] Drop 3.8 from the testing matrix</em> by <strong><a href=\"https://github.com/jtpio\">@jtpio</a></strong> merged by <strong><a href=\"https://github.com/jtpio\">@jtpio</a></strong></li>\n<li><a href=\"https://github.com/jupyterlab/jupyterlab/issues/17523\">(#17523)</a>: <em>Backport PR #17472 on branch 4.4.x (Add <code>aria-hidden</code> to icons (<code>&lt;svg&gt;</code> elements) which do not have a <code>title</code>)</em> by <strong><a href=\"https://github.com/meeseeksmachine\">@meeseeksmachine</a></strong> merged by <strong><a href=\"https://github.com/krassowski\">@krassowski</a></strong></li>\n<li><a href=\"https://github.com/jupyterlab/jupyterlab/issues/17525\">(#17525)</a>: <em>Update lumino to <code>v2025.4.30</code> to pull menu aria fix</em> by <strong><a href=\"https://github.com/krassowski\">@krassowski</a></strong> merged by <strong><a href=\"https://github.com/krassowski\">@krassowski</a></strong></li>\n<li><a href=\"https://github.com/jupyterlab/jupyterlab/issues/17526\">(#17526)</a>: <em>Upgrade CodeMirror packages to latest</em> by <strong><a href=\"https://github.com/krassowski\">@krassowski</a></strong> merged by <strong><a href=\"https://github.com/krassowski\">@krassowski</a></strong></li>\n<li><a href=\"https://github.com/jupyterlab/jupyterlab/issues/17527\">(#17527)</a>: <em>Fix incorrect ARIA labels in the <code>MainAreaWidget</code></em> by <strong><a href=\"https://github.com/dnlzrgz\">@dnlzrgz</a></strong> merged by <strong><a href=\"https://github.com/krassowski\">@krassowski</a></strong></li>\n<li><a href=\"https://github.com/jupyterlab/jupyterlab/issues/17528\">(#17528)</a>: <em>Fix rendering of long cell editors in windowed notebook</em> by <strong><a href=\"https://github.com/krassowski\">@krassowski</a></strong> merged by <strong><a href=\"https://github.com/krassowski\">@krassowski</a></strong></li>\n<li><a href=\"https://github.com/jupyterlab/jupyterlab/issues/17529\">(#17529)</a>: <em>Bump actions/create-github-app-token from 1 to 2 in the actions group</em> by <strong><a href=\"https://github.com/dependabot[bot]\">@dependabot[bot]</a></strong> merged by <strong><a href=\"https://github.com/krassowski\">@krassowski</a></strong></li>\n<li><a href=\"https://github.com/jupyterlab/jupyterlab/issues/17531\">(#17531)</a>: <em>Backport PR #17528 on branch 4.4.x (Fix rendering of long cell editors in windowed notebook)</em> by <strong><a href=\"https://github.com/meeseeksmachine\">@meeseeksmachine</a></strong> merged by <strong><a href=\"https://github.com/krassowski\">@krassowski</a></strong></li>\n<li><a href=\"https://github.com/jupyterlab/jupyterlab/issues/17532\">(#17532)</a>: <em>Update widget flag on attaching cell to viewport</em> by <strong><a href=\"https://github.com/trungleduc\">@trungleduc</a></strong> merged by <strong><a href=\"https://github.com/krassowski\">@krassowski</a></strong></li>\n<li><a href=\"https://github.com/jupyterlab/jupyterlab/issues/17533\">(#17533)</a>: <em>Backport PR #17525 on branch 4.4.x (Update lumino to <code>v2025.4.30</code> to pull menu aria fix)</em> by <strong><a href=\"https://github.com/meeseeksmachine\">@meeseeksmachine</a></strong> merged by <strong><a href=\"https://github.com/krassowski\">@krassowski</a></strong></li>\n<li><a href=\"https://github.com/jupyterlab/jupyterlab/issues/17534\">(#17534)</a>: <em>Backport PR #17532 on branch 4.4.x (Update widget flag on attaching cell to viewport)</em> by <strong><a href=\"https://github.com/meeseeksmachine\">@meeseeksmachine</a></strong> merged by <strong><a href=\"https://github.com/krassowski\">@krassowski</a></strong></li>\n<li><a href=\"https://github.com/jupyterlab/jupyterlab/issues/17535\">(#17535)</a>: <em>Backport PR #17526 on branch 4.4.x (Upgrade CodeMirror packages to latest)</em> by <strong><a href=\"https://github.com/meeseeksmachine\">@meeseeksmachine</a></strong> merged by <strong><a href=\"https://github.com/krassowski\">@krassowski</a></strong></li>\n<li><a href=\"https://github.com/jupyterlab/jupyterlab/issues/17536\">(#17536)</a>: <em>Reconfigure 4.3.x branch (4.4.x is new stable)</em> by <strong><a href=\"https://github.com/krassowski\">@krassowski</a></strong> merged by <strong><a href=\"https://github.com/jtpio\">@jtpio</a></strong></li>\n<li><a href=\"https://github.com/jupyterlab/jupyterlab/issues/17537\">(#17537)</a>: <em>Reconfigure 4.4.x branch</em> by <strong><a href=\"https://github.com/krassowski\">@krassowski</a></strong> merged by <strong><a href=\"https://github.com/jtpio\">@jtpio</a></strong></li>\n<li><a href=\"https://github.com/jupyterlab/jupyterlab/issues/17540\">(#17540)</a>: <em>Fix Settings Editor incorrectly resetting values to default in filtered view</em> by <strong><a href=\"https://github.com/yukiiii04\">@yukiiii04</a></strong> merged by <strong><a href=\"https://github.com/krassowski\">@krassowski</a></strong></li>\n<li><a href=\"https://github.com/jupyterlab/jupyterlab/issues/17543\">(#17543)</a>: <em>[pre-commit.ci] pre-commit autoupdate</em> by <strong><a href=\"https://github.com/pre-commit-ci[bot]\">@pre-commit-ci[bot]</a></strong> merged by <strong><a href=\"https://github.com/krassowski\">@krassowski</a></strong></li>\n<li><a href=\"https://github.com/jupyterlab/jupyterlab/issues/17544\">(#17544)</a>: <em>Temporarily ignore links to github.com</em> by <strong><a href=\"https://github.com/krassowski\">@krassowski</a></strong> merged by <strong><a href=\"https://github.com/jtpio\">@jtpio</a></strong></li>\n<li><a href=\"https://github.com/jupyterlab/jupyterlab/issues/17545\">(#17545)</a>: <em>Backport PR #17540 on branch 4.3.x (Fix Settings Editor incorrectly resetting values to default in filtered view)</em> by <strong><a href=\"https://github.com/meeseeksmachine\">@meeseeksmachine</a></strong> merged by <strong><a href=\"https://github.com/krassowski\">@krassowski</a></strong></li>\n<li><a href=\"https://github.com/jupyterlab/jupyterlab/issues/17546\">(#17546)</a>: <em>Backport PR #17540 on branch 4.4.x (Fix Settings Editor incorrectly resetting values to default in filtered view)</em> by <strong><a href=\"https://github.com/meeseeksmachine\">@meeseeksmachine</a></strong> merged by <strong><a href=\"https://github.com/krassowski\">@krassowski</a></strong></li>\n<li><a href=\"https://github.com/jupyterlab/jupyterlab/issues/17547\">(#17547)</a>: <em>Add a setting to configure the default log level for the Log Console</em> by <strong><a href=\"https://github.com/jtpio\">@jtpio</a></strong> merged by <strong><a href=\"https://github.com/krassowski\">@krassowski</a></strong></li>\n<li><a href=\"https://github.com/jupyterlab/jupyterlab/issues/17550\">(#17550)</a>: <em><code>fileeditor-extension</code>: fix handling of launcher, commands and menu entries on <code>specsChanged</code></em> by <strong><a href=\"https://github.com/jtpio\">@jtpio</a></strong> merged by <strong><a href=\"https://github.com/jtpio\">@jtpio</a></strong></li>\n<li><a href=\"https://github.com/jupyterlab/jupyterlab/issues/17551\">(#17551)</a>: <em>Backport PR #17544 on branch 4.3.x (Temporarily ignore links to github.com)</em> by <strong><a href=\"https://github.com/meeseeksmachine\">@meeseeksmachine</a></strong> merged by <strong><a href=\"https://github.com/krassowski\">@krassowski</a></strong></li>\n<li><a href=\"https://github.com/jupyterlab/jupyterlab/issues/17552\">(#17552)</a>: <em>Backport PR #17544 on branch 4.4.x (Temporarily ignore links to github.com)</em> by <strong><a href=\"https://github.com/meeseeksmachine\">@meeseeksmachine</a></strong> merged by <strong><a href=\"https://github.com/jtpio\">@jtpio</a></strong></li>\n<li><a href=\"https://github.com/jupyterlab/jupyterlab/issues/17553\">(#17553)</a>: <em>Backport PR #17550 on branch 4.4.x (<code>fileeditor-extension</code>: fix handling of launcher, commands and menu entries on <code>specsChanged</code>)</em> by <strong><a href=\"https://github.com/meeseeksmachine\">@meeseeksmachine</a></strong> merged by <strong><a href=\"https://github.com/krassowski\">@krassowski</a></strong></li>\n<li><a href=\"https://github.com/jupyterlab/jupyterlab/issues/17555\">(#17555)</a>: <em>Pin <code>snowballstemmer</code> to <code>&lt;3.0.0</code></em> by <strong><a href=\"https://github.com/krassowski\">@krassowski</a></strong> merged by <strong><a href=\"https://github.com/krassowski\">@krassowski</a></strong></li>\n<li><a href=\"https://github.com/jupyterlab/jupyterlab/issues/17559\">(#17559)</a>: <em>Use hatch to get the version</em> by <strong><a href=\"https://github.com/krassowski\">@krassowski</a></strong> merged by <strong><a href=\"https://github.com/jtpio\">@jtpio</a></strong></li>\n<li><a href=\"https://github.com/jupyterlab/jupyterlab/issues/17561\">(#17561)</a>: <em>Backport PR #17559 on branch 4.4.x (Use hatch to get the version)</em> by <strong><a href=\"https://github.com/meeseeksmachine\">@meeseeksmachine</a></strong> merged by <strong><a href=\"https://github.com/krassowski\">@krassowski</a></strong></li>\n</ul>"
      }
     },
     "cdbb0e1193c845b0abaf964d0c200767": {
      "model_module": "@jupyter-widgets/controls",
      "model_module_version": "2.0.0",
      "model_name": "TabModel",
      "state": {
       "_dom_classes": [],
       "_model_module": "@jupyter-widgets/controls",
       "_model_module_version": "2.0.0",
       "_model_name": "TabModel",
       "_view_count": null,
       "_view_module": "@jupyter-widgets/controls",
       "_view_module_version": "2.0.0",
       "_view_name": "TabView",
       "box_style": "",
       "children": [
        "IPY_MODEL_c716c757c2f54436a130dc69b1be224e",
        "IPY_MODEL_e49b476f1af742519284f47572af13b6",
        "IPY_MODEL_26354492837c4d558ab46546e0e5a926",
        "IPY_MODEL_db9ca1b55c2b4cc1a62986e63bde5d96",
        "IPY_MODEL_597d873e2af54e14b4aa77f5e9e86430"
       ],
       "layout": "IPY_MODEL_fa18c278b9e74a72abdea8d689374071",
       "selected_index": 0,
       "tabbable": null,
       "titles": [
        "extension-examples",
        "frontends-team-compass",
        "jupyterlab-desktop",
        "jupyterlab-git",
        "jupyterlab-latex"
       ],
       "tooltip": null
      }
     },
     "d5efb2a8bdd94c188789fd22ca54c3c8": {
      "model_module": "@jupyter-widgets/controls",
      "model_module_version": "2.0.0",
      "model_name": "HTMLModel",
      "state": {
       "_dom_classes": [],
       "_model_module": "@jupyter-widgets/controls",
       "_model_module_version": "2.0.0",
       "_model_name": "HTMLModel",
       "_view_count": null,
       "_view_module": "@jupyter-widgets/controls",
       "_view_module_version": "2.0.0",
       "_view_name": "HTMLView",
       "description": "",
       "description_allow_html": false,
       "layout": "IPY_MODEL_e72ad2ed7f5e4af59a72fff144dc837e",
       "placeholder": "​",
       "style": "IPY_MODEL_ebf290945f6041808ec04db7cfc8f316",
       "tabbable": null,
       "tooltip": null,
       "value": "<h4>Closed PRs for repo: <a href=\"https://github.com/jupyterlab/jupyterlab-git\">jupyterlab/jupyterlab-git</a></h4>\n<h5></h5>\n<ul>\n<li><a href=\"https://github.com/jupyterlab/jupyterlab-git/issues/1395\">(#1395)</a>: <em>Bump serialize-javascript from 6.0.1 to 6.0.2</em> by <strong><a href=\"https://github.com/dependabot[bot]\">@dependabot[bot]</a></strong> merged by <strong><a href=\"https://github.com/fcollonval\">@fcollonval</a></strong></li>\n<li><a href=\"https://github.com/jupyterlab/jupyterlab-git/issues/1396\">(#1396)</a>: <em>Bump vega from 5.23.0 to 5.31.0 in /ui-tests</em> by <strong><a href=\"https://github.com/dependabot[bot]\">@dependabot[bot]</a></strong> merged by <strong><a href=\"https://github.com/fcollonval\">@fcollonval</a></strong></li>\n<li><a href=\"https://github.com/jupyterlab/jupyterlab-git/issues/1398\">(#1398)</a>: <em>Create devcontainer.json</em> by <strong><a href=\"https://github.com/Kcato1\">@Kcato1</a></strong> merged by <strong><a href=\"https://github.com/krassowski\">@krassowski</a></strong></li>\n<li><a href=\"https://github.com/jupyterlab/jupyterlab-git/issues/1399\">(#1399)</a>: <em>Bump vega from 5.31.0 to 5.33.0 in /ui-tests</em> by <strong><a href=\"https://github.com/dependabot[bot]\">@dependabot[bot]</a></strong> merged by <strong><a href=\"https://github.com/krassowski\">@krassowski</a></strong></li>\n</ul>"
      }
     },
     "db9ca1b55c2b4cc1a62986e63bde5d96": {
      "model_module": "@jupyter-widgets/controls",
      "model_module_version": "2.0.0",
      "model_name": "HTMLModel",
      "state": {
       "_dom_classes": [],
       "_model_module": "@jupyter-widgets/controls",
       "_model_module_version": "2.0.0",
       "_model_name": "HTMLModel",
       "_view_count": null,
       "_view_module": "@jupyter-widgets/controls",
       "_view_module_version": "2.0.0",
       "_view_name": "HTMLView",
       "description": "",
       "description_allow_html": false,
       "layout": "IPY_MODEL_3740dff80377443694c8c7d04750f4cb",
       "placeholder": "​",
       "style": "IPY_MODEL_2bf28de05372475da068e6dcff14545e",
       "tabbable": null,
       "tooltip": null,
       "value": "<h5><a href=\"https://github.com/jupyterlab/jupyterlab-git\">jupyterlab/jupyterlab-git</a></h5>\n<ul>\n<li><a href=\"https://github.com/jupyterlab/jupyterlab-git/issues/1342\">(#1342)</a>: <em>Cloning from new host via ssh causes spurious error rather than prompting for confirmation and succeeding</em> by <strong><a href=\"https://github.com/ctcjab\">@ctcjab</a></strong></li>\n</ul>"
      }
     },
     "e49b476f1af742519284f47572af13b6": {
      "model_module": "@jupyter-widgets/controls",
      "model_module_version": "2.0.0",
      "model_name": "HTMLModel",
      "state": {
       "_dom_classes": [],
       "_model_module": "@jupyter-widgets/controls",
       "_model_module_version": "2.0.0",
       "_model_name": "HTMLModel",
       "_view_count": null,
       "_view_module": "@jupyter-widgets/controls",
       "_view_module_version": "2.0.0",
       "_view_name": "HTMLView",
       "description": "",
       "description_allow_html": false,
       "layout": "IPY_MODEL_3865f1c4c25b48c9aea7c1e0f83e8059",
       "placeholder": "​",
       "style": "IPY_MODEL_6019dd63ffce4cd08a9d3a8d2d2ab1bc",
       "tabbable": null,
       "tooltip": null,
       "value": "<h5><a href=\"https://github.com/jupyterlab/frontends-team-compass\">jupyterlab/frontends-team-compass</a></h5>\n<ul>\n<li><a href=\"https://github.com/jupyterlab/frontends-team-compass/issues/266\">(#266)</a>: <em>Weekly Team Meetings: Jan–Jun 2025</em> by <strong><a href=\"https://github.com/jtpio\">@jtpio</a></strong></li>\n<li><a href=\"https://github.com/jupyterlab/frontends-team-compass/issues/268\">(#268)</a>: <em>Weekly Triage meetings: Jan–Dec 2025</em> by <strong><a href=\"https://github.com/RRosio\">@RRosio</a></strong></li>\n<li><a href=\"https://github.com/jupyterlab/frontends-team-compass/issues/275\">(#275)</a>: <em>JupyterLab 4.4 bug bash proposal for March 26 Jupyter Frontends call</em> by <strong><a href=\"https://github.com/andrii-i\">@andrii-i</a></strong></li>\n</ul>"
      }
     },
     "e4bf2303598e4131b70dd4fe76f942a6": {
      "model_module": "@jupyter-widgets/controls",
      "model_module_version": "2.0.0",
      "model_name": "TabModel",
      "state": {
       "_dom_classes": [],
       "_model_module": "@jupyter-widgets/controls",
       "_model_module_version": "2.0.0",
       "_model_name": "TabModel",
       "_view_count": null,
       "_view_module": "@jupyter-widgets/controls",
       "_view_module_version": "2.0.0",
       "_view_name": "TabView",
       "box_style": "",
       "children": [
        "IPY_MODEL_ba3dca6f5cfa4be4a48569728d6c40de",
        "IPY_MODEL_0ca06de8f0aa467585d7b8496bf857af",
        "IPY_MODEL_f539810fb9b545fe803ff5cb8b26da8a",
        "IPY_MODEL_c9323ab8f89a4c4cb2be53743c2be11c",
        "IPY_MODEL_2a745c749dc74a3aa6d8d65e73807555",
        "IPY_MODEL_d5efb2a8bdd94c188789fd22ca54c3c8",
        "IPY_MODEL_81a277337030468f97bd0dcd4a95b25a",
        "IPY_MODEL_1d32089a134c4ba7b23ef8166fb8316f"
       ],
       "layout": "IPY_MODEL_72b58f8946c247ac859ef5a2c500d93c",
       "selected_index": 0,
       "tabbable": null,
       "titles": [
        "extension-examples",
        "frontends-team-compass",
        "jupyter-renderers",
        "jupyterlab",
        "jupyterlab-desktop",
        "jupyterlab-git",
        "jupyterlab_server",
        "lumino"
       ],
       "tooltip": null
      }
     },
     "e72ad2ed7f5e4af59a72fff144dc837e": {
      "model_module": "@jupyter-widgets/base",
      "model_module_version": "2.0.0",
      "model_name": "LayoutModel",
      "state": {
       "_model_module": "@jupyter-widgets/base",
       "_model_module_version": "2.0.0",
       "_model_name": "LayoutModel",
       "_view_count": null,
       "_view_module": "@jupyter-widgets/base",
       "_view_module_version": "2.0.0",
       "_view_name": "LayoutView",
       "align_content": null,
       "align_items": null,
       "align_self": null,
       "border_bottom": null,
       "border_left": null,
       "border_right": null,
       "border_top": null,
       "bottom": null,
       "display": null,
       "flex": null,
       "flex_flow": null,
       "grid_area": null,
       "grid_auto_columns": null,
       "grid_auto_flow": null,
       "grid_auto_rows": null,
       "grid_column": null,
       "grid_gap": null,
       "grid_row": null,
       "grid_template_areas": null,
       "grid_template_columns": null,
       "grid_template_rows": null,
       "height": null,
       "justify_content": null,
       "justify_items": null,
       "left": null,
       "margin": null,
       "max_height": null,
       "max_width": null,
       "min_height": null,
       "min_width": null,
       "object_fit": null,
       "object_position": null,
       "order": null,
       "overflow": null,
       "padding": null,
       "right": null,
       "top": null,
       "visibility": null,
       "width": null
      }
     },
     "ea9aba612ea14b9b8226125d3d415b83": {
      "model_module": "@jupyter-widgets/controls",
      "model_module_version": "2.0.0",
      "model_name": "HTMLStyleModel",
      "state": {
       "_model_module": "@jupyter-widgets/controls",
       "_model_module_version": "2.0.0",
       "_model_name": "HTMLStyleModel",
       "_view_count": null,
       "_view_module": "@jupyter-widgets/base",
       "_view_module_version": "2.0.0",
       "_view_name": "StyleView",
       "background": null,
       "description_width": "",
       "font_size": null,
       "text_color": null
      }
     },
     "ebb55343abae425ebb669f21d1cd24dd": {
      "model_module": "@jupyter-widgets/base",
      "model_module_version": "2.0.0",
      "model_name": "LayoutModel",
      "state": {
       "_model_module": "@jupyter-widgets/base",
       "_model_module_version": "2.0.0",
       "_model_name": "LayoutModel",
       "_view_count": null,
       "_view_module": "@jupyter-widgets/base",
       "_view_module_version": "2.0.0",
       "_view_name": "LayoutView",
       "align_content": null,
       "align_items": null,
       "align_self": null,
       "border_bottom": null,
       "border_left": null,
       "border_right": null,
       "border_top": null,
       "bottom": null,
       "display": null,
       "flex": null,
       "flex_flow": null,
       "grid_area": null,
       "grid_auto_columns": null,
       "grid_auto_flow": null,
       "grid_auto_rows": null,
       "grid_column": null,
       "grid_gap": null,
       "grid_row": null,
       "grid_template_areas": null,
       "grid_template_columns": null,
       "grid_template_rows": null,
       "height": null,
       "justify_content": null,
       "justify_items": null,
       "left": null,
       "margin": null,
       "max_height": null,
       "max_width": null,
       "min_height": null,
       "min_width": null,
       "object_fit": null,
       "object_position": null,
       "order": null,
       "overflow": null,
       "padding": null,
       "right": null,
       "top": null,
       "visibility": null,
       "width": null
      }
     },
     "ebf290945f6041808ec04db7cfc8f316": {
      "model_module": "@jupyter-widgets/controls",
      "model_module_version": "2.0.0",
      "model_name": "HTMLStyleModel",
      "state": {
       "_model_module": "@jupyter-widgets/controls",
       "_model_module_version": "2.0.0",
       "_model_name": "HTMLStyleModel",
       "_view_count": null,
       "_view_module": "@jupyter-widgets/base",
       "_view_module_version": "2.0.0",
       "_view_name": "StyleView",
       "background": null,
       "description_width": "",
       "font_size": null,
       "text_color": null
      }
     },
     "ef15c260947b4b38b69a531a6ca19ecb": {
      "model_module": "@jupyter-widgets/base",
      "model_module_version": "2.0.0",
      "model_name": "LayoutModel",
      "state": {
       "_model_module": "@jupyter-widgets/base",
       "_model_module_version": "2.0.0",
       "_model_name": "LayoutModel",
       "_view_count": null,
       "_view_module": "@jupyter-widgets/base",
       "_view_module_version": "2.0.0",
       "_view_name": "LayoutView",
       "align_content": null,
       "align_items": null,
       "align_self": null,
       "border_bottom": null,
       "border_left": null,
       "border_right": null,
       "border_top": null,
       "bottom": null,
       "display": null,
       "flex": null,
       "flex_flow": null,
       "grid_area": null,
       "grid_auto_columns": null,
       "grid_auto_flow": null,
       "grid_auto_rows": null,
       "grid_column": null,
       "grid_gap": null,
       "grid_row": null,
       "grid_template_areas": null,
       "grid_template_columns": null,
       "grid_template_rows": null,
       "height": null,
       "justify_content": null,
       "justify_items": null,
       "left": null,
       "margin": null,
       "max_height": null,
       "max_width": null,
       "min_height": null,
       "min_width": null,
       "object_fit": null,
       "object_position": null,
       "order": null,
       "overflow": null,
       "padding": null,
       "right": null,
       "top": null,
       "visibility": null,
       "width": null
      }
     },
     "f539810fb9b545fe803ff5cb8b26da8a": {
      "model_module": "@jupyter-widgets/controls",
      "model_module_version": "2.0.0",
      "model_name": "HTMLModel",
      "state": {
       "_dom_classes": [],
       "_model_module": "@jupyter-widgets/controls",
       "_model_module_version": "2.0.0",
       "_model_name": "HTMLModel",
       "_view_count": null,
       "_view_module": "@jupyter-widgets/controls",
       "_view_module_version": "2.0.0",
       "_view_name": "HTMLView",
       "description": "",
       "description_allow_html": false,
       "layout": "IPY_MODEL_c6cbcd9a633349b699927db1b7cddbc3",
       "placeholder": "​",
       "style": "IPY_MODEL_c0ab8491192e4f5db0b1315b6888f8f2",
       "tabbable": null,
       "tooltip": null,
       "value": "<h4>Closed PRs for repo: <a href=\"https://github.com/jupyterlab/jupyter-renderers\">jupyterlab/jupyter-renderers</a></h4>\n<h5></h5>\n<ul>\n<li><a href=\"https://github.com/jupyterlab/jupyter-renderers/issues/326\">(#326)</a>: <em>Bump serialize-javascript from 6.0.1 to 6.0.2</em> by <strong><a href=\"https://github.com/dependabot[bot]\">@dependabot[bot]</a></strong> merged by <strong><a href=\"https://github.com/fcollonval\">@fcollonval</a></strong></li>\n</ul>"
      }
     },
     "f6b1cf69388446a581faf34fcbc8c46a": {
      "model_module": "@jupyter-widgets/base",
      "model_module_version": "2.0.0",
      "model_name": "LayoutModel",
      "state": {
       "_model_module": "@jupyter-widgets/base",
       "_model_module_version": "2.0.0",
       "_model_name": "LayoutModel",
       "_view_count": null,
       "_view_module": "@jupyter-widgets/base",
       "_view_module_version": "2.0.0",
       "_view_name": "LayoutView",
       "align_content": null,
       "align_items": null,
       "align_self": null,
       "border_bottom": null,
       "border_left": null,
       "border_right": null,
       "border_top": null,
       "bottom": null,
       "display": null,
       "flex": null,
       "flex_flow": null,
       "grid_area": null,
       "grid_auto_columns": null,
       "grid_auto_flow": null,
       "grid_auto_rows": null,
       "grid_column": null,
       "grid_gap": null,
       "grid_row": null,
       "grid_template_areas": null,
       "grid_template_columns": null,
       "grid_template_rows": null,
       "height": null,
       "justify_content": null,
       "justify_items": null,
       "left": null,
       "margin": null,
       "max_height": null,
       "max_width": null,
       "min_height": null,
       "min_width": null,
       "object_fit": null,
       "object_position": null,
       "order": null,
       "overflow": null,
       "padding": null,
       "right": null,
       "top": null,
       "visibility": null,
       "width": null
      }
     },
     "fa18c278b9e74a72abdea8d689374071": {
      "model_module": "@jupyter-widgets/base",
      "model_module_version": "2.0.0",
      "model_name": "LayoutModel",
      "state": {
       "_model_module": "@jupyter-widgets/base",
       "_model_module_version": "2.0.0",
       "_model_name": "LayoutModel",
       "_view_count": null,
       "_view_module": "@jupyter-widgets/base",
       "_view_module_version": "2.0.0",
       "_view_name": "LayoutView",
       "align_content": null,
       "align_items": null,
       "align_self": null,
       "border_bottom": null,
       "border_left": null,
       "border_right": null,
       "border_top": null,
       "bottom": null,
       "display": null,
       "flex": null,
       "flex_flow": null,
       "grid_area": null,
       "grid_auto_columns": null,
       "grid_auto_flow": null,
       "grid_auto_rows": null,
       "grid_column": null,
       "grid_gap": null,
       "grid_row": null,
       "grid_template_areas": null,
       "grid_template_columns": null,
       "grid_template_rows": null,
       "height": null,
       "justify_content": null,
       "justify_items": null,
       "left": null,
       "margin": null,
       "max_height": null,
       "max_width": null,
       "min_height": null,
       "min_width": null,
       "object_fit": null,
       "object_position": null,
       "order": null,
       "overflow": null,
       "padding": null,
       "right": null,
       "top": null,
       "visibility": null,
       "width": null
      }
     },
     "fd138a8e0792413f93fe23682cd46b10": {
      "model_module": "@jupyter-widgets/controls",
      "model_module_version": "2.0.0",
      "model_name": "HTMLStyleModel",
      "state": {
       "_model_module": "@jupyter-widgets/controls",
       "_model_module_version": "2.0.0",
       "_model_name": "HTMLStyleModel",
       "_view_count": null,
       "_view_module": "@jupyter-widgets/base",
       "_view_module_version": "2.0.0",
       "_view_name": "StyleView",
       "background": null,
       "description_width": "",
       "font_size": null,
       "text_color": null
      }
     },
     "febb45a68c8d412cad77f2e7abf8dea6": {
      "model_module": "@jupyter-widgets/controls",
      "model_module_version": "2.0.0",
      "model_name": "HTMLStyleModel",
      "state": {
       "_model_module": "@jupyter-widgets/controls",
       "_model_module_version": "2.0.0",
       "_model_name": "HTMLStyleModel",
       "_view_count": null,
       "_view_module": "@jupyter-widgets/base",
       "_view_module_version": "2.0.0",
       "_view_name": "StyleView",
       "background": null,
       "description_width": "",
       "font_size": null,
       "text_color": null
      }
     },
     "ff8fbd4d49ca43429938790d51e701ed": {
      "model_module": "@jupyter-widgets/controls",
      "model_module_version": "2.0.0",
      "model_name": "HTMLStyleModel",
      "state": {
       "_model_module": "@jupyter-widgets/controls",
       "_model_module_version": "2.0.0",
       "_model_name": "HTMLStyleModel",
       "_view_count": null,
       "_view_module": "@jupyter-widgets/base",
       "_view_module_version": "2.0.0",
       "_view_name": "StyleView",
       "background": null,
       "description_width": "",
       "font_size": null,
       "text_color": null
      }
     }
    },
    "version_major": 2,
    "version_minor": 0
   }
  }
 },
 "nbformat": 4,
 "nbformat_minor": 5
}