{
 "cells": [
  {
   "cell_type": "markdown",
   "id": "94c8baa7",
   "metadata": {
    "papermill": {
     "duration": 0.015489,
     "end_time": "2025-05-22T01:30:34.747520",
     "exception": false,
     "start_time": "2025-05-22T01:30:34.732031",
     "status": "completed"
    },
    "tags": []
   },
   "source": [
    "# {glue:text}`jupyterlab_github_org`\n",
    "\n",
    "**Activity from {glue:}`jupyterlab_start` to {glue:}`jupyterlab_stop`**"
   ]
  },
  {
   "cell_type": "code",
   "execution_count": 1,
   "id": "1f8c129c",
   "metadata": {
    "editable": true,
    "execution": {
     "iopub.execute_input": "2025-05-22T01:30:34.778240Z",
     "iopub.status.busy": "2025-05-22T01:30:34.777722Z",
     "iopub.status.idle": "2025-05-22T01:30:35.590853Z",
     "shell.execute_reply": "2025-05-22T01:30:35.590177Z"
    },
    "papermill": {
     "duration": 0.829864,
     "end_time": "2025-05-22T01:30:35.592236",
     "exception": false,
     "start_time": "2025-05-22T01:30:34.762372",
     "status": "completed"
    },
    "slideshow": {
     "slide_type": ""
    },
    "tags": [
     "remove_cell"
    ]
   },
   "outputs": [],
   "source": [
    "from datetime import date\n",
    "from dateutil.relativedelta import relativedelta\n",
    "from myst_nb import glue\n",
    "import seaborn as sns\n",
    "import pandas as pd\n",
    "import numpy as np\n",
    "import altair as alt\n",
    "from markdown import markdown\n",
    "from IPython.display import Markdown\n",
    "from ipywidgets.widgets import HTML, Tab\n",
    "from ipywidgets import widgets\n",
    "from datetime import timedelta\n",
    "from matplotlib import pyplot as plt\n",
    "import os.path as op\n",
    "from json import loads\n",
    "\n",
    "from warnings import simplefilter\n",
    "simplefilter('ignore')\n",
    "pd.set_option('display.max_columns', None) # 'None' means show all"
   ]
  },
  {
   "cell_type": "code",
   "execution_count": 2,
   "id": "a27a2307",
   "metadata": {
    "editable": true,
    "execution": {
     "iopub.execute_input": "2025-05-22T01:30:35.623082Z",
     "iopub.status.busy": "2025-05-22T01:30:35.622618Z",
     "iopub.status.idle": "2025-05-22T01:30:35.629571Z",
     "shell.execute_reply": "2025-05-22T01:30:35.628932Z"
    },
    "papermill": {
     "duration": 0.023366,
     "end_time": "2025-05-22T01:30:35.630665",
     "exception": false,
     "start_time": "2025-05-22T01:30:35.607299",
     "status": "completed"
    },
    "slideshow": {
     "slide_type": ""
    },
    "tags": [
     "remove_cell"
    ]
   },
   "outputs": [],
   "source": [
    "# Altair config\n",
    "def author_url(author):\n",
    "    return f\"https://github.com/{author}\"\n",
    "\n",
    "def alt_theme():\n",
    "    return {\n",
    "        'config': {\n",
    "            'axisLeft': {\n",
    "                'labelFontSize': 15,\n",
    "            },\n",
    "            'axisBottom': {\n",
    "                'labelFontSize': 15,\n",
    "            },\n",
    "        }\n",
    "    }\n",
    "\n",
    "alt.themes.register('my_theme', alt_theme)\n",
    "alt.themes.enable(\"my_theme\")\n",
    "\n",
    "\n",
    "# Define colors we'll use for GitHub membership\n",
    "author_types = ['MEMBER', 'CONTRIBUTOR', 'COLLABORATOR', \"NONE\"]\n",
    "\n",
    "author_palette = np.array(sns.palettes.blend_palette([\"lightgrey\", \"lightgreen\", \"darkgreen\"], 4)) * 256\n",
    "author_colors = [\"rgb({}, {}, {})\".format(*color) for color in author_palette]\n",
    "author_color_dict = {key: val for key, val in zip(author_types, author_palette)}"
   ]
  },
  {
   "cell_type": "code",
   "execution_count": 3,
   "id": "037ce60b",
   "metadata": {
    "editable": true,
    "execution": {
     "iopub.execute_input": "2025-05-22T01:30:35.659818Z",
     "iopub.status.busy": "2025-05-22T01:30:35.659398Z",
     "iopub.status.idle": "2025-05-22T01:30:35.662230Z",
     "shell.execute_reply": "2025-05-22T01:30:35.661716Z"
    },
    "papermill": {
     "duration": 0.018537,
     "end_time": "2025-05-22T01:30:35.663210",
     "exception": false,
     "start_time": "2025-05-22T01:30:35.644673",
     "status": "completed"
    },
    "slideshow": {
     "slide_type": ""
    },
    "tags": [
     "parameters",
     "hide_input",
     "remove_cell"
    ]
   },
   "outputs": [],
   "source": [
    "github_org = \"jupyterhub\"\n",
    "top_n_repos = 15\n",
    "n_days = 90"
   ]
  },
  {
   "cell_type": "code",
   "execution_count": 4,
   "id": "5b046c1b",
   "metadata": {
    "execution": {
     "iopub.execute_input": "2025-05-22T01:30:35.691732Z",
     "iopub.status.busy": "2025-05-22T01:30:35.691517Z",
     "iopub.status.idle": "2025-05-22T01:30:35.694474Z",
     "shell.execute_reply": "2025-05-22T01:30:35.693916Z"
    },
    "papermill": {
     "duration": 0.018517,
     "end_time": "2025-05-22T01:30:35.695494",
     "exception": false,
     "start_time": "2025-05-22T01:30:35.676977",
     "status": "completed"
    },
    "tags": [
     "injected-parameters",
     "remove-cell"
    ]
   },
   "outputs": [],
   "source": [
    "# Parameters\n",
    "github_org = \"jupyterlab\"\n",
    "n_days = 90\n"
   ]
  },
  {
   "cell_type": "code",
   "execution_count": 5,
   "id": "b1b8e8b6",
   "metadata": {
    "editable": true,
    "execution": {
     "iopub.execute_input": "2025-05-22T01:30:35.725366Z",
     "iopub.status.busy": "2025-05-22T01:30:35.725172Z",
     "iopub.status.idle": "2025-05-22T01:30:35.746951Z",
     "shell.execute_reply": "2025-05-22T01:30:35.746306Z"
    },
    "papermill": {
     "duration": 0.038179,
     "end_time": "2025-05-22T01:30:35.748061",
     "exception": false,
     "start_time": "2025-05-22T01:30:35.709882",
     "status": "completed"
    },
    "slideshow": {
     "slide_type": ""
    },
    "tags": [
     "remove_cell"
    ]
   },
   "outputs": [
    {
     "data": {
      "application/papermill.record/text/plain": "'jupyterlab'"
     },
     "metadata": {
      "scrapbook": {
       "mime_prefix": "application/papermill.record/",
       "name": "jupyterlab_github_org"
      }
     },
     "output_type": "display_data"
    },
    {
     "data": {
      "application/papermill.record/text/plain": "'2025-02-21'"
     },
     "metadata": {
      "scrapbook": {
       "mime_prefix": "application/papermill.record/",
       "name": "jupyterlab_start"
      }
     },
     "output_type": "display_data"
    },
    {
     "data": {
      "application/papermill.record/text/plain": "'2025-05-22'"
     },
     "metadata": {
      "scrapbook": {
       "mime_prefix": "application/papermill.record/",
       "name": "jupyterlab_stop"
      }
     },
     "output_type": "display_data"
    }
   ],
   "source": [
    "############################################################\n",
    "# Variables\n",
    "stop = date.today()\n",
    "start = date.today() - relativedelta(days=n_days)\n",
    "\n",
    "# Strings for use in queries\n",
    "start_date = f\"{start:%Y-%m-%d}\"\n",
    "stop_date = f\"{stop:%Y-%m-%d}\"\n",
    "\n",
    "# Glue variables for use in markdown\n",
    "glue(f\"{github_org}_github_org\", github_org, display=False)\n",
    "glue(f\"{github_org}_start\", start_date, display=False)\n",
    "glue(f\"{github_org}_stop\", stop_date, display=False)"
   ]
  },
  {
   "cell_type": "markdown",
   "id": "1150288f",
   "metadata": {
    "editable": true,
    "papermill": {
     "duration": 0.014446,
     "end_time": "2025-05-22T01:30:35.776909",
     "exception": false,
     "start_time": "2025-05-22T01:30:35.762463",
     "status": "completed"
    },
    "slideshow": {
     "slide_type": ""
    },
    "tags": []
   },
   "source": [
    "## Load data\n",
    "\n",
    "Load and clean up the data"
   ]
  },
  {
   "cell_type": "code",
   "execution_count": 6,
   "id": "793da837",
   "metadata": {
    "editable": true,
    "execution": {
     "iopub.execute_input": "2025-05-22T01:30:35.807016Z",
     "iopub.status.busy": "2025-05-22T01:30:35.806497Z",
     "iopub.status.idle": "2025-05-22T01:30:35.810858Z",
     "shell.execute_reply": "2025-05-22T01:30:35.810218Z"
    },
    "papermill": {
     "duration": 0.020572,
     "end_time": "2025-05-22T01:30:35.811861",
     "exception": false,
     "start_time": "2025-05-22T01:30:35.791289",
     "status": "completed"
    },
    "slideshow": {
     "slide_type": ""
    },
    "tags": [
     "remove_cell"
    ]
   },
   "outputs": [],
   "source": [
    "from pathlib import Path\n",
    "import sqlite3\n",
    "path_data = Path(\"../data\")\n",
    "path_data = list(path_data.rglob(f\"*{github_org}.db\"))[0]\n",
    "\n",
    "def df_from_sql(query, db):\n",
    "    con = sqlite3.connect(db)\n",
    "    return pd.read_sql(query, con)\n",
    "    con.close()"
   ]
  },
  {
   "cell_type": "code",
   "execution_count": 7,
   "id": "c872f366",
   "metadata": {
    "editable": true,
    "execution": {
     "iopub.execute_input": "2025-05-22T01:30:35.842809Z",
     "iopub.status.busy": "2025-05-22T01:30:35.842501Z",
     "iopub.status.idle": "2025-05-22T01:30:36.679281Z",
     "shell.execute_reply": "2025-05-22T01:30:36.678496Z"
    },
    "papermill": {
     "duration": 0.854046,
     "end_time": "2025-05-22T01:30:36.680793",
     "exception": false,
     "start_time": "2025-05-22T01:30:35.826747",
     "status": "completed"
    },
    "scrolled": true,
    "slideshow": {
     "slide_type": ""
    },
    "tags": [
     "remove_cell"
    ]
   },
   "outputs": [
    {
     "name": "stdout",
     "output_type": "stream",
     "text": [
      "Loading from ../data/0e94c4215e649a3f19cab0230e5b1092-jupyterlab.db\n"
     ]
    }
   ],
   "source": [
    "print(f\"Loading from {path_data}\")\n",
    "repos = df_from_sql(\"SELECT * FROM repos\", path_data)\n",
    "users = df_from_sql(\"SELECT * FROM users\", path_data)\n",
    "issues = df_from_sql(\"SELECT * FROM issues\", path_data)\n",
    "comments = df_from_sql(\"SELECT * FROM issue_comments\", path_data)\n",
    "\n",
    "# Merge repository information into issues\n",
    "def merge_repo_into_df(df, kind):\n",
    "    df = pd.merge(df, users[[\"id\", \"login\"]], left_on=\"user\", right_on=\"id\", suffixes=(\"_issue\", \"_user\"), how=\"inner\")\n",
    "    df = pd.merge(df, repos[[\"id\", \"full_name\", \"name\"]], left_on=\"repo\", right_on=\"id\", suffixes=(\"_issue\", \"_repo\"), how=\"inner\")\n",
    "    df[\"org\"] = df[\"full_name\"].map(lambda a: a.split('/')[0])\n",
    "    df[\"repo\"] = df[\"full_name\"].map(lambda a: a.split('/')[1])\n",
    "    df[\"url\"] = \"https://github.com/\" + df[\"org\"] + \"/\" + df[\"repo\"] + f\"/{kind}/\" + df[\"number\"].astype(str)\n",
    "    return df\n",
    "issues = merge_repo_into_df(issues, kind=\"issues\")\n",
    "\n",
    "# Pull out the Pull Requests from Issues\n",
    "prs = issues.loc[~issues[\"pull_request\"].isna()]\n",
    "def identify_merger(closedby):\n",
    "    if not closedby:\n",
    "        return None\n",
    "    try:\n",
    "        cb = loads(closedby)\n",
    "    except:\n",
    "        print(closedby)\n",
    "    return cb[\"login\"]\n",
    "prs[\"merged_by\"] = prs[\"closed_by\"].map(identify_merger)\n",
    "\n",
    "# These issues now _remove_ the PRs\n",
    "issues = issues.loc[issues[\"pull_request\"].isna()]\n",
    "\n",
    "# Add reactions data\n",
    "def count_positive(a):\n",
    "    a = loads(a)\n",
    "    return a[\"+1\"] + a[\"hooray\"] + a[\"heart\"]\n",
    "issues[\"positive\"] = issues[\"reactions\"].map(count_positive)\n",
    "\n",
    "# Drop comments if there is no associated issue\n",
    "comments = comments.dropna(subset=[\"issue\"])\n",
    "comments[\"issue\"] = comments.loc[:, \"issue\"].astype(int)\n",
    "\n",
    "# Add repository information to comments\n",
    "comments = pd.merge(comments, issues[[\"id_issue\", \"full_name\", \"org\", \"repo\"]], left_on=\"issue\", right_on=\"id_issue\", how=\"inner\", suffixes=(\"_comment\", \"_issue\"))\n",
    "\n",
    "# Merge user data into comments\n",
    "comments = pd.merge(comments, users[[\"id\", \"login\"]], left_on=\"user\", right_on=\"id\", suffixes=(\"_comment\", \"_user\"), how=\"inner\")"
   ]
  },
  {
   "cell_type": "code",
   "execution_count": 8,
   "id": "a55d4aac",
   "metadata": {
    "editable": true,
    "execution": {
     "iopub.execute_input": "2025-05-22T01:30:36.711747Z",
     "iopub.status.busy": "2025-05-22T01:30:36.711304Z",
     "iopub.status.idle": "2025-05-22T01:30:36.803579Z",
     "shell.execute_reply": "2025-05-22T01:30:36.802912Z"
    },
    "papermill": {
     "duration": 0.108992,
     "end_time": "2025-05-22T01:30:36.804829",
     "exception": false,
     "start_time": "2025-05-22T01:30:36.695837",
     "status": "completed"
    },
    "slideshow": {
     "slide_type": ""
    },
    "tags": [
     "remove_cell"
    ]
   },
   "outputs": [],
   "source": [
    "# Convert columns to datetime\n",
    "datetime_columns = [\"created_at\", \"closed_at\"]\n",
    "for df in [comments, issues, prs]:\n",
    "    for col in datetime_columns:\n",
    "        if col in df:\n",
    "            df[col] = pd.to_datetime(df[col])\n",
    "            # Strip timezone information so we can run simpler queries\n",
    "            df[col] = df[col].dt.tz_localize(None)"
   ]
  },
  {
   "cell_type": "code",
   "execution_count": 9,
   "id": "05ae985d",
   "metadata": {
    "editable": true,
    "execution": {
     "iopub.execute_input": "2025-05-22T01:30:36.836817Z",
     "iopub.status.busy": "2025-05-22T01:30:36.836493Z",
     "iopub.status.idle": "2025-05-22T01:30:36.862971Z",
     "shell.execute_reply": "2025-05-22T01:30:36.862452Z"
    },
    "papermill": {
     "duration": 0.043918,
     "end_time": "2025-05-22T01:30:36.864078",
     "exception": false,
     "start_time": "2025-05-22T01:30:36.820160",
     "status": "completed"
    },
    "slideshow": {
     "slide_type": ""
    },
    "tags": [
     "remove_cell"
    ]
   },
   "outputs": [],
   "source": [
    "# What are the top N repos, we will only plot these in the full data plots\n",
    "top_commented_repos = comments.groupby(\"repo\").count().sort_values(\"created_at\", ascending=False)['created_at']\n",
    "use_repos = top_commented_repos.head(top_n_repos).index.tolist()"
   ]
  },
  {
   "cell_type": "markdown",
   "id": "e7f4edbc",
   "metadata": {
    "editable": true,
    "papermill": {
     "duration": 0.015154,
     "end_time": "2025-05-22T01:30:36.894040",
     "exception": false,
     "start_time": "2025-05-22T01:30:36.878886",
     "status": "completed"
    },
    "slideshow": {
     "slide_type": ""
    },
    "tags": [],
    "toc-hr-collapsed": false
   },
   "source": [
    "## Merged Pull requests\n",
    "\n",
    "Here's an analysis of **merged pull requests** across each of the repositories in the Jupyter\n",
    "ecosystem."
   ]
  },
  {
   "cell_type": "code",
   "execution_count": 10,
   "id": "de16e05c",
   "metadata": {
    "editable": true,
    "execution": {
     "iopub.execute_input": "2025-05-22T01:30:36.924380Z",
     "iopub.status.busy": "2025-05-22T01:30:36.924166Z",
     "iopub.status.idle": "2025-05-22T01:30:36.936242Z",
     "shell.execute_reply": "2025-05-22T01:30:36.935729Z"
    },
    "papermill": {
     "duration": 0.028682,
     "end_time": "2025-05-22T01:30:36.937346",
     "exception": false,
     "start_time": "2025-05-22T01:30:36.908664",
     "status": "completed"
    },
    "slideshow": {
     "slide_type": ""
    },
    "tags": [
     "remove_cell"
    ]
   },
   "outputs": [],
   "source": [
    "merged = prs.query('state == \"closed\" and closed_at > @start_date and closed_at < @stop_date')"
   ]
  },
  {
   "cell_type": "code",
   "execution_count": 11,
   "id": "63182f3a",
   "metadata": {
    "editable": true,
    "execution": {
     "iopub.execute_input": "2025-05-22T01:30:36.968794Z",
     "iopub.status.busy": "2025-05-22T01:30:36.968383Z",
     "iopub.status.idle": "2025-05-22T01:30:37.007138Z",
     "shell.execute_reply": "2025-05-22T01:30:37.006560Z"
    },
    "papermill": {
     "duration": 0.055829,
     "end_time": "2025-05-22T01:30:37.008215",
     "exception": false,
     "start_time": "2025-05-22T01:30:36.952386",
     "status": "completed"
    },
    "slideshow": {
     "slide_type": ""
    },
    "tags": [
     "hide_input"
    ]
   },
   "outputs": [
    {
     "data": {
      "text/html": [
       "\n",
       "<style>\n",
       "  #altair-viz-15182b52622947478d0e60ebd96ea266.vega-embed {\n",
       "    width: 100%;\n",
       "    display: flex;\n",
       "  }\n",
       "\n",
       "  #altair-viz-15182b52622947478d0e60ebd96ea266.vega-embed details,\n",
       "  #altair-viz-15182b52622947478d0e60ebd96ea266.vega-embed details summary {\n",
       "    position: relative;\n",
       "  }\n",
       "</style>\n",
       "<div id=\"altair-viz-15182b52622947478d0e60ebd96ea266\"></div>\n",
       "<script type=\"text/javascript\">\n",
       "  var VEGA_DEBUG = (typeof VEGA_DEBUG == \"undefined\") ? {} : VEGA_DEBUG;\n",
       "  (function(spec, embedOpt){\n",
       "    let outputDiv = document.currentScript.previousElementSibling;\n",
       "    if (outputDiv.id !== \"altair-viz-15182b52622947478d0e60ebd96ea266\") {\n",
       "      outputDiv = document.getElementById(\"altair-viz-15182b52622947478d0e60ebd96ea266\");\n",
       "    }\n",
       "\n",
       "    const paths = {\n",
       "      \"vega\": \"https://cdn.jsdelivr.net/npm/vega@5?noext\",\n",
       "      \"vega-lib\": \"https://cdn.jsdelivr.net/npm/vega-lib?noext\",\n",
       "      \"vega-lite\": \"https://cdn.jsdelivr.net/npm/vega-lite@5.20.1?noext\",\n",
       "      \"vega-embed\": \"https://cdn.jsdelivr.net/npm/vega-embed@6?noext\",\n",
       "    };\n",
       "\n",
       "    function maybeLoadScript(lib, version) {\n",
       "      var key = `${lib.replace(\"-\", \"\")}_version`;\n",
       "      return (VEGA_DEBUG[key] == version) ?\n",
       "        Promise.resolve(paths[lib]) :\n",
       "        new Promise(function(resolve, reject) {\n",
       "          var s = document.createElement('script');\n",
       "          document.getElementsByTagName(\"head\")[0].appendChild(s);\n",
       "          s.async = true;\n",
       "          s.onload = () => {\n",
       "            VEGA_DEBUG[key] = version;\n",
       "            return resolve(paths[lib]);\n",
       "          };\n",
       "          s.onerror = () => reject(`Error loading script: ${paths[lib]}`);\n",
       "          s.src = paths[lib];\n",
       "        });\n",
       "    }\n",
       "\n",
       "    function showError(err) {\n",
       "      outputDiv.innerHTML = `<div class=\"error\" style=\"color:red;\">${err}</div>`;\n",
       "      throw err;\n",
       "    }\n",
       "\n",
       "    function displayChart(vegaEmbed) {\n",
       "      vegaEmbed(outputDiv, spec, embedOpt)\n",
       "        .catch(err => showError(`Javascript Error: ${err.message}<br>This usually means there's a typo in your chart specification. See the javascript console for the full traceback.`));\n",
       "    }\n",
       "\n",
       "    if(typeof define === \"function\" && define.amd) {\n",
       "      requirejs.config({paths});\n",
       "      let deps = [\"vega-embed\"];\n",
       "      require(deps, displayChart, err => showError(`Error loading script: ${err.message}`));\n",
       "    } else {\n",
       "      maybeLoadScript(\"vega\", \"5\")\n",
       "        .then(() => maybeLoadScript(\"vega-lite\", \"5.20.1\"))\n",
       "        .then(() => maybeLoadScript(\"vega-embed\", \"6\"))\n",
       "        .catch(showError)\n",
       "        .then(() => displayChart(vegaEmbed));\n",
       "    }\n",
       "  })({\"config\": {\"axisLeft\": {\"labelFontSize\": 15}, \"axisBottom\": {\"labelFontSize\": 15}}, \"data\": {\"name\": \"data-90c9978a4b6d94dd01297dfa79d662df\"}, \"mark\": {\"type\": \"bar\"}, \"encoding\": {\"color\": {\"field\": \"org\", \"type\": \"nominal\"}, \"x\": {\"field\": \"repo\", \"sort\": [\"jupyterlab\", \"jupyter-ai\", \"language-packs\", \"jupyter-chat\", \"jupyter-collaboration\", \"lumino\", \"jupyterlab-git\", \"maintainer-tools\", \"jupyter-builder\", \"extension-template\", \"frontends-team-compass\", \"jupyterlab-desktop\", \"jupyterlab_server\"], \"type\": \"nominal\"}, \"y\": {\"field\": \"login\", \"type\": \"quantitative\"}}, \"title\": \"Merged PRs in the last 90 days\", \"$schema\": \"https://vega.github.io/schema/vega-lite/v5.20.1.json\", \"datasets\": {\"data-90c9978a4b6d94dd01297dfa79d662df\": [{\"org\": \"jupyterlab\", \"repo\": \"jupyterlab\", \"login\": 143}, {\"org\": \"jupyterlab\", \"repo\": \"jupyter-ai\", \"login\": 46}, {\"org\": \"jupyterlab\", \"repo\": \"language-packs\", \"login\": 24}, {\"org\": \"jupyterlab\", \"repo\": \"jupyter-chat\", \"login\": 23}, {\"org\": \"jupyterlab\", \"repo\": \"jupyter-collaboration\", \"login\": 18}, {\"org\": \"jupyterlab\", \"repo\": \"lumino\", \"login\": 13}, {\"org\": \"jupyterlab\", \"repo\": \"jupyterlab-git\", \"login\": 4}, {\"org\": \"jupyterlab\", \"repo\": \"maintainer-tools\", \"login\": 4}, {\"org\": \"jupyterlab\", \"repo\": \"jupyter-builder\", \"login\": 2}, {\"org\": \"jupyterlab\", \"repo\": \"extension-template\", \"login\": 1}, {\"org\": \"jupyterlab\", \"repo\": \"frontends-team-compass\", \"login\": 1}, {\"org\": \"jupyterlab\", \"repo\": \"jupyterlab-desktop\", \"login\": 1}, {\"org\": \"jupyterlab\", \"repo\": \"jupyterlab_server\", \"login\": 1}]}}, {\"mode\": \"vega-lite\"});\n",
       "</script>"
      ],
      "text/plain": [
       "alt.Chart(...)"
      ]
     },
     "execution_count": 11,
     "metadata": {},
     "output_type": "execute_result"
    }
   ],
   "source": [
    "prs_by_repo = merged.groupby(['org', 'repo']).count()['login'].reset_index().sort_values(['org', 'login'], ascending=False)\n",
    "alt.Chart(data=prs_by_repo, title=f\"Merged PRs in the last {n_days} days\").mark_bar().encode(\n",
    "    x=alt.X('repo', sort=prs_by_repo['repo'].values.tolist()),\n",
    "    y='login',\n",
    "    color='org'\n",
    ")"
   ]
  },
  {
   "cell_type": "markdown",
   "id": "d539b7fe",
   "metadata": {
    "editable": true,
    "papermill": {
     "duration": 0.014866,
     "end_time": "2025-05-22T01:30:37.037766",
     "exception": false,
     "start_time": "2025-05-22T01:30:37.022900",
     "status": "completed"
    },
    "slideshow": {
     "slide_type": ""
    },
    "tags": []
   },
   "source": [
    "### Authoring and merging stats by repository\n",
    "\n",
    "Let's see who has been doing most of the PR authoring and merging. The PR author is generally the\n",
    "person that implemented a change in the repository (code, documentation, etc). The PR merger is\n",
    "the person that \"pressed the green button\" and got the change into the main codebase."
   ]
  },
  {
   "cell_type": "code",
   "execution_count": 12,
   "id": "e2273259",
   "metadata": {
    "editable": true,
    "execution": {
     "iopub.execute_input": "2025-05-22T01:30:37.069743Z",
     "iopub.status.busy": "2025-05-22T01:30:37.069369Z",
     "iopub.status.idle": "2025-05-22T01:30:37.079029Z",
     "shell.execute_reply": "2025-05-22T01:30:37.078484Z"
    },
    "papermill": {
     "duration": 0.027069,
     "end_time": "2025-05-22T01:30:37.080072",
     "exception": false,
     "start_time": "2025-05-22T01:30:37.053003",
     "status": "completed"
    },
    "slideshow": {
     "slide_type": ""
    },
    "tags": [
     "remove_cell"
    ]
   },
   "outputs": [],
   "source": [
    "# Prep our merging DF\n",
    "merged_by_repo = merged.groupby(['repo', 'login'], as_index=False).agg({'id': 'count', 'author_association': 'first'}).rename(columns={'id': \"authored\", 'login': 'username'})\n",
    "closed_by_repo = merged.groupby(['name', 'merged_by']).count()['id_issue'].reset_index().rename(columns={'id_issue': \"closed\", \"merged_by\": \"username\"})"
   ]
  },
  {
   "cell_type": "code",
   "execution_count": 13,
   "id": "a57f6547",
   "metadata": {
    "editable": true,
    "execution": {
     "iopub.execute_input": "2025-05-22T01:30:37.110763Z",
     "iopub.status.busy": "2025-05-22T01:30:37.110255Z",
     "iopub.status.idle": "2025-05-22T01:30:37.132559Z",
     "shell.execute_reply": "2025-05-22T01:30:37.131928Z"
    },
    "papermill": {
     "duration": 0.03869,
     "end_time": "2025-05-22T01:30:37.133538",
     "exception": false,
     "start_time": "2025-05-22T01:30:37.094848",
     "status": "completed"
    },
    "slideshow": {
     "slide_type": ""
    },
    "tags": [
     "hide_input"
    ]
   },
   "outputs": [
    {
     "data": {
      "text/html": [
       "\n",
       "<style>\n",
       "  #altair-viz-6d98da21d2ae428ea99ae3d2cbc379dd.vega-embed {\n",
       "    width: 100%;\n",
       "    display: flex;\n",
       "  }\n",
       "\n",
       "  #altair-viz-6d98da21d2ae428ea99ae3d2cbc379dd.vega-embed details,\n",
       "  #altair-viz-6d98da21d2ae428ea99ae3d2cbc379dd.vega-embed details summary {\n",
       "    position: relative;\n",
       "  }\n",
       "</style>\n",
       "<div id=\"altair-viz-6d98da21d2ae428ea99ae3d2cbc379dd\"></div>\n",
       "<script type=\"text/javascript\">\n",
       "  var VEGA_DEBUG = (typeof VEGA_DEBUG == \"undefined\") ? {} : VEGA_DEBUG;\n",
       "  (function(spec, embedOpt){\n",
       "    let outputDiv = document.currentScript.previousElementSibling;\n",
       "    if (outputDiv.id !== \"altair-viz-6d98da21d2ae428ea99ae3d2cbc379dd\") {\n",
       "      outputDiv = document.getElementById(\"altair-viz-6d98da21d2ae428ea99ae3d2cbc379dd\");\n",
       "    }\n",
       "\n",
       "    const paths = {\n",
       "      \"vega\": \"https://cdn.jsdelivr.net/npm/vega@5?noext\",\n",
       "      \"vega-lib\": \"https://cdn.jsdelivr.net/npm/vega-lib?noext\",\n",
       "      \"vega-lite\": \"https://cdn.jsdelivr.net/npm/vega-lite@5.20.1?noext\",\n",
       "      \"vega-embed\": \"https://cdn.jsdelivr.net/npm/vega-embed@6?noext\",\n",
       "    };\n",
       "\n",
       "    function maybeLoadScript(lib, version) {\n",
       "      var key = `${lib.replace(\"-\", \"\")}_version`;\n",
       "      return (VEGA_DEBUG[key] == version) ?\n",
       "        Promise.resolve(paths[lib]) :\n",
       "        new Promise(function(resolve, reject) {\n",
       "          var s = document.createElement('script');\n",
       "          document.getElementsByTagName(\"head\")[0].appendChild(s);\n",
       "          s.async = true;\n",
       "          s.onload = () => {\n",
       "            VEGA_DEBUG[key] = version;\n",
       "            return resolve(paths[lib]);\n",
       "          };\n",
       "          s.onerror = () => reject(`Error loading script: ${paths[lib]}`);\n",
       "          s.src = paths[lib];\n",
       "        });\n",
       "    }\n",
       "\n",
       "    function showError(err) {\n",
       "      outputDiv.innerHTML = `<div class=\"error\" style=\"color:red;\">${err}</div>`;\n",
       "      throw err;\n",
       "    }\n",
       "\n",
       "    function displayChart(vegaEmbed) {\n",
       "      vegaEmbed(outputDiv, spec, embedOpt)\n",
       "        .catch(err => showError(`Javascript Error: ${err.message}<br>This usually means there's a typo in your chart specification. See the javascript console for the full traceback.`));\n",
       "    }\n",
       "\n",
       "    if(typeof define === \"function\" && define.amd) {\n",
       "      requirejs.config({paths});\n",
       "      let deps = [\"vega-embed\"];\n",
       "      require(deps, displayChart, err => showError(`Error loading script: ${err.message}`));\n",
       "    } else {\n",
       "      maybeLoadScript(\"vega\", \"5\")\n",
       "        .then(() => maybeLoadScript(\"vega-lite\", \"5.20.1\"))\n",
       "        .then(() => maybeLoadScript(\"vega-embed\", \"6\"))\n",
       "        .catch(showError)\n",
       "        .then(() => displayChart(vegaEmbed));\n",
       "    }\n",
       "  })({\"config\": {\"axisLeft\": {\"labelFontSize\": 15}, \"axisBottom\": {\"labelFontSize\": 15}}, \"data\": {\"name\": \"data-23d10a6938b74aaa986d4e49b3e72891\"}, \"mark\": {\"type\": \"bar\"}, \"encoding\": {\"color\": {\"field\": \"author_association\", \"scale\": {\"domain\": [\"MEMBER\", \"CONTRIBUTOR\", \"COLLABORATOR\", \"NONE\"], \"range\": [\"rgb(211.82745098039214, 211.82745098039214, 211.82745098039214)\", \"rgb(166.98562091503268, 229.89803921568628, 166.98562091503268)\", \"rgb(96.37647058823529, 192.75294117647059, 96.37647058823529)\", \"rgb(0.0, 100.3921568627451, 0.0)\"]}, \"type\": \"nominal\"}, \"x\": {\"field\": \"username\", \"type\": \"nominal\"}, \"y\": {\"field\": \"authored\", \"type\": \"quantitative\"}}, \"title\": \"PR authors for jupyterlab in the last 90 days\", \"$schema\": \"https://vega.github.io/schema/vega-lite/v5.20.1.json\", \"datasets\": {\"data-23d10a6938b74aaa986d4e49b3e72891\": [{\"username\": \"meeseeksmachine\", \"authored\": 41, \"author_association\": \"CONTRIBUTOR\"}, {\"username\": \"jtpio\", \"authored\": 38, \"author_association\": \"MEMBER\"}, {\"username\": \"krassowski\", \"authored\": 28, \"author_association\": \"MEMBER\"}, {\"username\": \"dependabot[bot]\", \"authored\": 26, \"author_association\": \"CONTRIBUTOR\"}, {\"username\": \"github-actions[bot]\", \"authored\": 23, \"author_association\": \"CONTRIBUTOR\"}, {\"username\": \"brichet\", \"authored\": 20, \"author_association\": \"MEMBER\"}, {\"username\": \"dlqqq\", \"authored\": 15, \"author_association\": \"MEMBER\"}, {\"username\": \"Darshan808\", \"authored\": 13, \"author_association\": \"MEMBER\"}, {\"username\": \"srdas\", \"authored\": 12, \"author_association\": \"COLLABORATOR\"}, {\"username\": \"fcollonval\", \"authored\": 9, \"author_association\": \"MEMBER\"}, {\"username\": \"davidbrochart\", \"authored\": 4, \"author_association\": \"MEMBER\"}, {\"username\": \"afshin\", \"authored\": 3, \"author_association\": \"MEMBER\"}, {\"username\": \"andrii-i\", \"authored\": 3, \"author_association\": \"MEMBER\"}, {\"username\": \"pre-commit-ci[bot]\", \"authored\": 3, \"author_association\": \"CONTRIBUTOR\"}, {\"username\": \"nkn2022\", \"authored\": 3, \"author_association\": \"CONTRIBUTOR\"}, {\"username\": \"minrk\", \"authored\": 2, \"author_association\": \"MEMBER\"}, {\"username\": \"MUFFANUJ\", \"authored\": 2, \"author_association\": \"CONTRIBUTOR\"}, {\"username\": \"itsmevichu\", \"authored\": 2, \"author_association\": \"MEMBER\"}, {\"username\": \"martinRenou\", \"authored\": 2, \"author_association\": \"MEMBER\"}, {\"username\": \"hxrshxz\", \"authored\": 2, \"author_association\": \"CONTRIBUTOR\"}, {\"username\": \"keerthi-swarna\", \"authored\": 2, \"author_association\": \"COLLABORATOR\"}, {\"username\": \"cmarmo\", \"authored\": 1, \"author_association\": \"CONTRIBUTOR\"}, {\"username\": \"bollwyvl\", \"authored\": 1, \"author_association\": \"MEMBER\"}, {\"username\": \"bnavigator\", \"authored\": 1, \"author_association\": \"CONTRIBUTOR\"}, {\"username\": \"YvesNDIKURIYO-2022\", \"authored\": 1, \"author_association\": \"NONE\"}, {\"username\": \"DenisaCG\", \"authored\": 1, \"author_association\": \"MEMBER\"}, {\"username\": \"Guillermovasco\", \"authored\": 1, \"author_association\": \"FIRST_TIMER\"}, {\"username\": \"Kcato1\", \"authored\": 1, \"author_association\": \"FIRST_TIMER\"}, {\"username\": \"3coins\", \"authored\": 1, \"author_association\": \"MEMBER\"}, {\"username\": \"achhina\", \"authored\": 1, \"author_association\": \"CONTRIBUTOR\"}, {\"username\": \"Princekumarofficial\", \"authored\": 1, \"author_association\": \"CONTRIBUTOR\"}, {\"username\": \"SatyajitRedekar\", \"authored\": 1, \"author_association\": \"CONTRIBUTOR\"}, {\"username\": \"SylvainCorlay\", \"authored\": 1, \"author_association\": \"MEMBER\"}, {\"username\": \"jesuino\", \"authored\": 1, \"author_association\": \"CONTRIBUTOR\"}, {\"username\": \"jhgoebbert\", \"authored\": 1, \"author_association\": \"NONE\"}, {\"username\": \"hiCXK\", \"authored\": 1, \"author_association\": \"NONE\"}, {\"username\": \"iisakkirotko\", \"authored\": 1, \"author_association\": \"CONTRIBUTOR\"}, {\"username\": \"dotnetautor\", \"authored\": 1, \"author_association\": \"CONTRIBUTOR\"}, {\"username\": \"dnlzrgz\", \"authored\": 1, \"author_association\": \"CONTRIBUTOR\"}, {\"username\": \"ghost\", \"authored\": 1, \"author_association\": \"NONE\"}, {\"username\": \"mahendrapaipuri\", \"authored\": 1, \"author_association\": \"CONTRIBUTOR\"}, {\"username\": \"peytondmurray\", \"authored\": 1, \"author_association\": \"CONTRIBUTOR\"}, {\"username\": \"rominf\", \"authored\": 1, \"author_association\": \"CONTRIBUTOR\"}, {\"username\": \"rsaditya01\", \"authored\": 1, \"author_association\": \"CONTRIBUTOR\"}, {\"username\": \"simonw\", \"authored\": 1, \"author_association\": \"NONE\"}, {\"username\": \"trungleduc\", \"authored\": 1, \"author_association\": \"MEMBER\"}, {\"username\": \"vidartf\", \"authored\": 1, \"author_association\": \"MEMBER\"}, {\"username\": \"yacchin1205\", \"authored\": 1, \"author_association\": \"CONTRIBUTOR\"}, {\"username\": \"yukiiii04\", \"authored\": 1, \"author_association\": \"CONTRIBUTOR\"}]}}, {\"mode\": \"vega-lite\"});\n",
       "</script>"
      ],
      "text/plain": [
       "alt.Chart(...)"
      ]
     },
     "execution_count": 13,
     "metadata": {},
     "output_type": "execute_result"
    }
   ],
   "source": [
    "charts = []\n",
    "title = f\"PR authors for {github_org} in the last {n_days} days\"\n",
    "this_data = merged_by_repo.replace(np.nan, 0).groupby('username', as_index=False).agg({'authored': 'sum', 'author_association': 'first'})\n",
    "this_data = this_data.sort_values('authored', ascending=False)\n",
    "ch = alt.Chart(data=this_data, title=title).mark_bar().encode(\n",
    "    x='username',\n",
    "    y='authored',\n",
    "    color=alt.Color('author_association', scale=alt.Scale(domain=author_types, range=author_colors))\n",
    ")\n",
    "ch"
   ]
  },
  {
   "cell_type": "code",
   "execution_count": 14,
   "id": "e21fff4b",
   "metadata": {
    "editable": true,
    "execution": {
     "iopub.execute_input": "2025-05-22T01:30:37.164597Z",
     "iopub.status.busy": "2025-05-22T01:30:37.164178Z",
     "iopub.status.idle": "2025-05-22T01:30:37.181325Z",
     "shell.execute_reply": "2025-05-22T01:30:37.180668Z"
    },
    "papermill": {
     "duration": 0.033873,
     "end_time": "2025-05-22T01:30:37.182385",
     "exception": false,
     "start_time": "2025-05-22T01:30:37.148512",
     "status": "completed"
    },
    "slideshow": {
     "slide_type": ""
    },
    "tags": [
     "hide_input"
    ]
   },
   "outputs": [
    {
     "data": {
      "text/html": [
       "\n",
       "<style>\n",
       "  #altair-viz-422e1672cd4242f38f8e3619eca3ccee.vega-embed {\n",
       "    width: 100%;\n",
       "    display: flex;\n",
       "  }\n",
       "\n",
       "  #altair-viz-422e1672cd4242f38f8e3619eca3ccee.vega-embed details,\n",
       "  #altair-viz-422e1672cd4242f38f8e3619eca3ccee.vega-embed details summary {\n",
       "    position: relative;\n",
       "  }\n",
       "</style>\n",
       "<div id=\"altair-viz-422e1672cd4242f38f8e3619eca3ccee\"></div>\n",
       "<script type=\"text/javascript\">\n",
       "  var VEGA_DEBUG = (typeof VEGA_DEBUG == \"undefined\") ? {} : VEGA_DEBUG;\n",
       "  (function(spec, embedOpt){\n",
       "    let outputDiv = document.currentScript.previousElementSibling;\n",
       "    if (outputDiv.id !== \"altair-viz-422e1672cd4242f38f8e3619eca3ccee\") {\n",
       "      outputDiv = document.getElementById(\"altair-viz-422e1672cd4242f38f8e3619eca3ccee\");\n",
       "    }\n",
       "\n",
       "    const paths = {\n",
       "      \"vega\": \"https://cdn.jsdelivr.net/npm/vega@5?noext\",\n",
       "      \"vega-lib\": \"https://cdn.jsdelivr.net/npm/vega-lib?noext\",\n",
       "      \"vega-lite\": \"https://cdn.jsdelivr.net/npm/vega-lite@5.20.1?noext\",\n",
       "      \"vega-embed\": \"https://cdn.jsdelivr.net/npm/vega-embed@6?noext\",\n",
       "    };\n",
       "\n",
       "    function maybeLoadScript(lib, version) {\n",
       "      var key = `${lib.replace(\"-\", \"\")}_version`;\n",
       "      return (VEGA_DEBUG[key] == version) ?\n",
       "        Promise.resolve(paths[lib]) :\n",
       "        new Promise(function(resolve, reject) {\n",
       "          var s = document.createElement('script');\n",
       "          document.getElementsByTagName(\"head\")[0].appendChild(s);\n",
       "          s.async = true;\n",
       "          s.onload = () => {\n",
       "            VEGA_DEBUG[key] = version;\n",
       "            return resolve(paths[lib]);\n",
       "          };\n",
       "          s.onerror = () => reject(`Error loading script: ${paths[lib]}`);\n",
       "          s.src = paths[lib];\n",
       "        });\n",
       "    }\n",
       "\n",
       "    function showError(err) {\n",
       "      outputDiv.innerHTML = `<div class=\"error\" style=\"color:red;\">${err}</div>`;\n",
       "      throw err;\n",
       "    }\n",
       "\n",
       "    function displayChart(vegaEmbed) {\n",
       "      vegaEmbed(outputDiv, spec, embedOpt)\n",
       "        .catch(err => showError(`Javascript Error: ${err.message}<br>This usually means there's a typo in your chart specification. See the javascript console for the full traceback.`));\n",
       "    }\n",
       "\n",
       "    if(typeof define === \"function\" && define.amd) {\n",
       "      requirejs.config({paths});\n",
       "      let deps = [\"vega-embed\"];\n",
       "      require(deps, displayChart, err => showError(`Error loading script: ${err.message}`));\n",
       "    } else {\n",
       "      maybeLoadScript(\"vega\", \"5\")\n",
       "        .then(() => maybeLoadScript(\"vega-lite\", \"5.20.1\"))\n",
       "        .then(() => maybeLoadScript(\"vega-embed\", \"6\"))\n",
       "        .catch(showError)\n",
       "        .then(() => displayChart(vegaEmbed));\n",
       "    }\n",
       "  })({\"config\": {\"axisLeft\": {\"labelFontSize\": 15}, \"axisBottom\": {\"labelFontSize\": 15}}, \"data\": {\"name\": \"data-3c54106aa9fdde375591a886b2632b2e\"}, \"mark\": {\"type\": \"bar\"}, \"encoding\": {\"x\": {\"field\": \"username\", \"type\": \"nominal\"}, \"y\": {\"field\": \"closed\", \"type\": \"quantitative\"}}, \"title\": \"Users that have merged PRs for jupyterlab in the last 90 days\", \"$schema\": \"https://vega.github.io/schema/vega-lite/v5.20.1.json\", \"datasets\": {\"data-3c54106aa9fdde375591a886b2632b2e\": [{\"name\": \"extension-template\", \"username\": \"krassowski\", \"closed\": 1}, {\"name\": \"frontends-team-compass\", \"username\": \"jtpio\", \"closed\": 1}, {\"name\": \"jupyter-ai\", \"username\": \"brichet\", \"closed\": 1}, {\"name\": \"jupyter-ai\", \"username\": \"dlqqq\", \"closed\": 27}, {\"name\": \"jupyter-ai\", \"username\": \"srdas\", \"closed\": 18}, {\"name\": \"jupyter-builder\", \"username\": \"fcollonval\", \"closed\": 2}, {\"name\": \"jupyter-chat\", \"username\": \"andrii-i\", \"closed\": 2}, {\"name\": \"jupyter-chat\", \"username\": \"brichet\", \"closed\": 16}, {\"name\": \"jupyter-chat\", \"username\": \"dlqqq\", \"closed\": 2}, {\"name\": \"jupyter-chat\", \"username\": \"jtpio\", \"closed\": 3}, {\"name\": \"jupyter-collaboration\", \"username\": \"brichet\", \"closed\": 1}, {\"name\": \"jupyter-collaboration\", \"username\": \"davidbrochart\", \"closed\": 3}, {\"name\": \"jupyter-collaboration\", \"username\": \"krassowski\", \"closed\": 14}, {\"name\": \"jupyterlab\", \"username\": \"afshin\", \"closed\": 2}, {\"name\": \"jupyterlab\", \"username\": \"davidbrochart\", \"closed\": 1}, {\"name\": \"jupyterlab\", \"username\": \"hxrshxz\", \"closed\": 2}, {\"name\": \"jupyterlab\", \"username\": \"jtpio\", \"closed\": 34}, {\"name\": \"jupyterlab\", \"username\": \"krassowski\", \"closed\": 103}, {\"name\": \"jupyterlab\", \"username\": \"simonw\", \"closed\": 1}, {\"name\": \"jupyterlab-desktop\", \"username\": \"krassowski\", \"closed\": 1}, {\"name\": \"jupyterlab-git\", \"username\": \"fcollonval\", \"closed\": 2}, {\"name\": \"jupyterlab-git\", \"username\": \"krassowski\", \"closed\": 2}, {\"name\": \"jupyterlab_server\", \"username\": \"fcollonval\", \"closed\": 1}, {\"name\": \"language-packs\", \"username\": \"fcollonval\", \"closed\": 24}, {\"name\": \"lumino\", \"username\": \"afshin\", \"closed\": 2}, {\"name\": \"lumino\", \"username\": \"fcollonval\", \"closed\": 4}, {\"name\": \"lumino\", \"username\": \"jtpio\", \"closed\": 2}, {\"name\": \"lumino\", \"username\": \"krassowski\", \"closed\": 5}, {\"name\": \"maintainer-tools\", \"username\": \"danyeaw\", \"closed\": 1}, {\"name\": \"maintainer-tools\", \"username\": \"fcollonval\", \"closed\": 2}, {\"name\": \"maintainer-tools\", \"username\": \"jtpio\", \"closed\": 1}]}}, {\"mode\": \"vega-lite\"});\n",
       "</script>"
      ],
      "text/plain": [
       "alt.Chart(...)"
      ]
     },
     "execution_count": 14,
     "metadata": {},
     "output_type": "execute_result"
    }
   ],
   "source": [
    "charts = []\n",
    "title = f\"Users that have merged PRs for {github_org} in the last {n_days} days\"\n",
    "ch = alt.Chart(data=closed_by_repo.replace(np.nan, 0), title=title).mark_bar().encode(\n",
    "    x='username',\n",
    "    y='closed',\n",
    ")\n",
    "ch"
   ]
  },
  {
   "cell_type": "markdown",
   "id": "a18dff7b",
   "metadata": {
    "editable": true,
    "papermill": {
     "duration": 0.016009,
     "end_time": "2025-05-22T01:30:37.214295",
     "exception": false,
     "start_time": "2025-05-22T01:30:37.198286",
     "status": "completed"
    },
    "slideshow": {
     "slide_type": ""
    },
    "tags": []
   },
   "source": [
    "## Issues\n",
    "\n",
    "Issues are **conversations** that happen on our GitHub repositories. Here's an\n",
    "analysis of issues across the Jupyter organizations."
   ]
  },
  {
   "cell_type": "code",
   "execution_count": 15,
   "id": "07c31677",
   "metadata": {
    "editable": true,
    "execution": {
     "iopub.execute_input": "2025-05-22T01:30:37.245547Z",
     "iopub.status.busy": "2025-05-22T01:30:37.245349Z",
     "iopub.status.idle": "2025-05-22T01:30:37.264128Z",
     "shell.execute_reply": "2025-05-22T01:30:37.263447Z"
    },
    "papermill": {
     "duration": 0.035821,
     "end_time": "2025-05-22T01:30:37.265236",
     "exception": false,
     "start_time": "2025-05-22T01:30:37.229415",
     "status": "completed"
    },
    "slideshow": {
     "slide_type": ""
    },
    "tags": [
     "remove_cell"
    ]
   },
   "outputs": [],
   "source": [
    "created = issues.query('state == \"open\" and created_at > @start_date and created_at < @stop_date')\n",
    "closed = issues.query('state == \"closed\" and closed_at > @start_date and closed_at < @stop_date')"
   ]
  },
  {
   "cell_type": "code",
   "execution_count": 16,
   "id": "33da0c92",
   "metadata": {
    "editable": true,
    "execution": {
     "iopub.execute_input": "2025-05-22T01:30:37.296547Z",
     "iopub.status.busy": "2025-05-22T01:30:37.296361Z",
     "iopub.status.idle": "2025-05-22T01:30:37.317965Z",
     "shell.execute_reply": "2025-05-22T01:30:37.317398Z"
    },
    "papermill": {
     "duration": 0.038567,
     "end_time": "2025-05-22T01:30:37.319026",
     "exception": false,
     "start_time": "2025-05-22T01:30:37.280459",
     "status": "completed"
    },
    "slideshow": {
     "slide_type": ""
    },
    "tags": [
     "hide_input"
    ]
   },
   "outputs": [
    {
     "data": {
      "text/html": [
       "\n",
       "<style>\n",
       "  #altair-viz-9d5909345c3c46249425285ef4c42f32.vega-embed {\n",
       "    width: 100%;\n",
       "    display: flex;\n",
       "  }\n",
       "\n",
       "  #altair-viz-9d5909345c3c46249425285ef4c42f32.vega-embed details,\n",
       "  #altair-viz-9d5909345c3c46249425285ef4c42f32.vega-embed details summary {\n",
       "    position: relative;\n",
       "  }\n",
       "</style>\n",
       "<div id=\"altair-viz-9d5909345c3c46249425285ef4c42f32\"></div>\n",
       "<script type=\"text/javascript\">\n",
       "  var VEGA_DEBUG = (typeof VEGA_DEBUG == \"undefined\") ? {} : VEGA_DEBUG;\n",
       "  (function(spec, embedOpt){\n",
       "    let outputDiv = document.currentScript.previousElementSibling;\n",
       "    if (outputDiv.id !== \"altair-viz-9d5909345c3c46249425285ef4c42f32\") {\n",
       "      outputDiv = document.getElementById(\"altair-viz-9d5909345c3c46249425285ef4c42f32\");\n",
       "    }\n",
       "\n",
       "    const paths = {\n",
       "      \"vega\": \"https://cdn.jsdelivr.net/npm/vega@5?noext\",\n",
       "      \"vega-lib\": \"https://cdn.jsdelivr.net/npm/vega-lib?noext\",\n",
       "      \"vega-lite\": \"https://cdn.jsdelivr.net/npm/vega-lite@5.20.1?noext\",\n",
       "      \"vega-embed\": \"https://cdn.jsdelivr.net/npm/vega-embed@6?noext\",\n",
       "    };\n",
       "\n",
       "    function maybeLoadScript(lib, version) {\n",
       "      var key = `${lib.replace(\"-\", \"\")}_version`;\n",
       "      return (VEGA_DEBUG[key] == version) ?\n",
       "        Promise.resolve(paths[lib]) :\n",
       "        new Promise(function(resolve, reject) {\n",
       "          var s = document.createElement('script');\n",
       "          document.getElementsByTagName(\"head\")[0].appendChild(s);\n",
       "          s.async = true;\n",
       "          s.onload = () => {\n",
       "            VEGA_DEBUG[key] = version;\n",
       "            return resolve(paths[lib]);\n",
       "          };\n",
       "          s.onerror = () => reject(`Error loading script: ${paths[lib]}`);\n",
       "          s.src = paths[lib];\n",
       "        });\n",
       "    }\n",
       "\n",
       "    function showError(err) {\n",
       "      outputDiv.innerHTML = `<div class=\"error\" style=\"color:red;\">${err}</div>`;\n",
       "      throw err;\n",
       "    }\n",
       "\n",
       "    function displayChart(vegaEmbed) {\n",
       "      vegaEmbed(outputDiv, spec, embedOpt)\n",
       "        .catch(err => showError(`Javascript Error: ${err.message}<br>This usually means there's a typo in your chart specification. See the javascript console for the full traceback.`));\n",
       "    }\n",
       "\n",
       "    if(typeof define === \"function\" && define.amd) {\n",
       "      requirejs.config({paths});\n",
       "      let deps = [\"vega-embed\"];\n",
       "      require(deps, displayChart, err => showError(`Error loading script: ${err.message}`));\n",
       "    } else {\n",
       "      maybeLoadScript(\"vega\", \"5\")\n",
       "        .then(() => maybeLoadScript(\"vega-lite\", \"5.20.1\"))\n",
       "        .then(() => maybeLoadScript(\"vega-embed\", \"6\"))\n",
       "        .catch(showError)\n",
       "        .then(() => displayChart(vegaEmbed));\n",
       "    }\n",
       "  })({\"config\": {\"axisLeft\": {\"labelFontSize\": 15}, \"axisBottom\": {\"labelFontSize\": 15}}, \"data\": {\"name\": \"data-f4784e5f6b82ad3efe5261286c10dc8b\"}, \"mark\": {\"type\": \"bar\"}, \"encoding\": {\"x\": {\"field\": \"repo\", \"sort\": [\"jupyterlab\", \"jupyter-ai\", \"jupyter-chat\", \"jupyter-collaboration\", \"jupyterlab-desktop\", \"jupyterlab-git\", \"lumino\", \"extension-template\", \"extension-examples\", \"frontends-team-compass\", \"jupyterlab_server\", \"language-packs\"], \"type\": \"nominal\"}, \"y\": {\"field\": \"number\", \"type\": \"quantitative\"}}, \"title\": \"Issues created in the last 90 days\", \"$schema\": \"https://vega.github.io/schema/vega-lite/v5.20.1.json\", \"datasets\": {\"data-f4784e5f6b82ad3efe5261286c10dc8b\": [{\"org\": \"jupyterlab\", \"repo\": \"extension-examples\", \"number\": 1, \"org/repo\": \"jupyterlab/extension-examples\"}, {\"org\": \"jupyterlab\", \"repo\": \"extension-template\", \"number\": 2, \"org/repo\": \"jupyterlab/extension-template\"}, {\"org\": \"jupyterlab\", \"repo\": \"frontends-team-compass\", \"number\": 1, \"org/repo\": \"jupyterlab/frontends-team-compass\"}, {\"org\": \"jupyterlab\", \"repo\": \"jupyter-ai\", \"number\": 23, \"org/repo\": \"jupyterlab/jupyter-ai\"}, {\"org\": \"jupyterlab\", \"repo\": \"jupyter-chat\", \"number\": 8, \"org/repo\": \"jupyterlab/jupyter-chat\"}, {\"org\": \"jupyterlab\", \"repo\": \"jupyter-collaboration\", \"number\": 7, \"org/repo\": \"jupyterlab/jupyter-collaboration\"}, {\"org\": \"jupyterlab\", \"repo\": \"jupyterlab\", \"number\": 62, \"org/repo\": \"jupyterlab/jupyterlab\"}, {\"org\": \"jupyterlab\", \"repo\": \"jupyterlab-desktop\", \"number\": 5, \"org/repo\": \"jupyterlab/jupyterlab-desktop\"}, {\"org\": \"jupyterlab\", \"repo\": \"jupyterlab-git\", \"number\": 5, \"org/repo\": \"jupyterlab/jupyterlab-git\"}, {\"org\": \"jupyterlab\", \"repo\": \"jupyterlab_server\", \"number\": 1, \"org/repo\": \"jupyterlab/jupyterlab_server\"}, {\"org\": \"jupyterlab\", \"repo\": \"language-packs\", \"number\": 1, \"org/repo\": \"jupyterlab/language-packs\"}, {\"org\": \"jupyterlab\", \"repo\": \"lumino\", \"number\": 3, \"org/repo\": \"jupyterlab/lumino\"}]}}, {\"mode\": \"vega-lite\"});\n",
       "</script>"
      ],
      "text/plain": [
       "alt.Chart(...)"
      ]
     },
     "execution_count": 16,
     "metadata": {},
     "output_type": "execute_result"
    }
   ],
   "source": [
    "created_counts = created.groupby(['org', 'repo']).count()['number'].reset_index()\n",
    "created_counts['org/repo'] = created_counts.apply(lambda a: a['org'] + '/' + a['repo'], axis=1)\n",
    "sorted_vals = created_counts.sort_values(['org', 'number'], ascending=False)['repo'].values\n",
    "alt.Chart(data=created_counts, title=f\"Issues created in the last {n_days} days\").mark_bar().encode(\n",
    "    x=alt.X('repo', sort=alt.Sort(sorted_vals.tolist())),\n",
    "    y='number',\n",
    ")"
   ]
  },
  {
   "cell_type": "code",
   "execution_count": 17,
   "id": "a703e4a6",
   "metadata": {
    "editable": true,
    "execution": {
     "iopub.execute_input": "2025-05-22T01:30:37.352426Z",
     "iopub.status.busy": "2025-05-22T01:30:37.352044Z",
     "iopub.status.idle": "2025-05-22T01:30:37.372449Z",
     "shell.execute_reply": "2025-05-22T01:30:37.371906Z"
    },
    "papermill": {
     "duration": 0.038631,
     "end_time": "2025-05-22T01:30:37.373470",
     "exception": false,
     "start_time": "2025-05-22T01:30:37.334839",
     "status": "completed"
    },
    "slideshow": {
     "slide_type": ""
    },
    "tags": [
     "hide_input"
    ]
   },
   "outputs": [
    {
     "data": {
      "text/html": [
       "\n",
       "<style>\n",
       "  #altair-viz-810cfab1addc4f3eba425f3062ce076c.vega-embed {\n",
       "    width: 100%;\n",
       "    display: flex;\n",
       "  }\n",
       "\n",
       "  #altair-viz-810cfab1addc4f3eba425f3062ce076c.vega-embed details,\n",
       "  #altair-viz-810cfab1addc4f3eba425f3062ce076c.vega-embed details summary {\n",
       "    position: relative;\n",
       "  }\n",
       "</style>\n",
       "<div id=\"altair-viz-810cfab1addc4f3eba425f3062ce076c\"></div>\n",
       "<script type=\"text/javascript\">\n",
       "  var VEGA_DEBUG = (typeof VEGA_DEBUG == \"undefined\") ? {} : VEGA_DEBUG;\n",
       "  (function(spec, embedOpt){\n",
       "    let outputDiv = document.currentScript.previousElementSibling;\n",
       "    if (outputDiv.id !== \"altair-viz-810cfab1addc4f3eba425f3062ce076c\") {\n",
       "      outputDiv = document.getElementById(\"altair-viz-810cfab1addc4f3eba425f3062ce076c\");\n",
       "    }\n",
       "\n",
       "    const paths = {\n",
       "      \"vega\": \"https://cdn.jsdelivr.net/npm/vega@5?noext\",\n",
       "      \"vega-lib\": \"https://cdn.jsdelivr.net/npm/vega-lib?noext\",\n",
       "      \"vega-lite\": \"https://cdn.jsdelivr.net/npm/vega-lite@5.20.1?noext\",\n",
       "      \"vega-embed\": \"https://cdn.jsdelivr.net/npm/vega-embed@6?noext\",\n",
       "    };\n",
       "\n",
       "    function maybeLoadScript(lib, version) {\n",
       "      var key = `${lib.replace(\"-\", \"\")}_version`;\n",
       "      return (VEGA_DEBUG[key] == version) ?\n",
       "        Promise.resolve(paths[lib]) :\n",
       "        new Promise(function(resolve, reject) {\n",
       "          var s = document.createElement('script');\n",
       "          document.getElementsByTagName(\"head\")[0].appendChild(s);\n",
       "          s.async = true;\n",
       "          s.onload = () => {\n",
       "            VEGA_DEBUG[key] = version;\n",
       "            return resolve(paths[lib]);\n",
       "          };\n",
       "          s.onerror = () => reject(`Error loading script: ${paths[lib]}`);\n",
       "          s.src = paths[lib];\n",
       "        });\n",
       "    }\n",
       "\n",
       "    function showError(err) {\n",
       "      outputDiv.innerHTML = `<div class=\"error\" style=\"color:red;\">${err}</div>`;\n",
       "      throw err;\n",
       "    }\n",
       "\n",
       "    function displayChart(vegaEmbed) {\n",
       "      vegaEmbed(outputDiv, spec, embedOpt)\n",
       "        .catch(err => showError(`Javascript Error: ${err.message}<br>This usually means there's a typo in your chart specification. See the javascript console for the full traceback.`));\n",
       "    }\n",
       "\n",
       "    if(typeof define === \"function\" && define.amd) {\n",
       "      requirejs.config({paths});\n",
       "      let deps = [\"vega-embed\"];\n",
       "      require(deps, displayChart, err => showError(`Error loading script: ${err.message}`));\n",
       "    } else {\n",
       "      maybeLoadScript(\"vega\", \"5\")\n",
       "        .then(() => maybeLoadScript(\"vega-lite\", \"5.20.1\"))\n",
       "        .then(() => maybeLoadScript(\"vega-embed\", \"6\"))\n",
       "        .catch(showError)\n",
       "        .then(() => displayChart(vegaEmbed));\n",
       "    }\n",
       "  })({\"config\": {\"axisLeft\": {\"labelFontSize\": 15}, \"axisBottom\": {\"labelFontSize\": 15}}, \"data\": {\"name\": \"data-145528ef2ca5ee93ad3ed16ab84279b5\"}, \"mark\": {\"type\": \"bar\"}, \"encoding\": {\"x\": {\"field\": \"repo\", \"sort\": [\"jupyterlab\", \"jupyter-ai\", \"jupyter-chat\", \"jupyter-collaboration\", \"jupyterlab_pygments\", \"maintainer-tools\", \"jupyterlab-desktop\", \"lumino\", \"extension-template\", \"frontends-team-compass\", \"jupyterlab-git\"], \"type\": \"nominal\"}, \"y\": {\"field\": \"number\", \"type\": \"quantitative\"}}, \"title\": \"Issues closed in the last 90 days\", \"$schema\": \"https://vega.github.io/schema/vega-lite/v5.20.1.json\", \"datasets\": {\"data-145528ef2ca5ee93ad3ed16ab84279b5\": [{\"org\": \"jupyterlab\", \"repo\": \"extension-template\", \"number\": 1, \"org/repo\": \"jupyterlab/extension-template\"}, {\"org\": \"jupyterlab\", \"repo\": \"frontends-team-compass\", \"number\": 1, \"org/repo\": \"jupyterlab/frontends-team-compass\"}, {\"org\": \"jupyterlab\", \"repo\": \"jupyter-ai\", \"number\": 45, \"org/repo\": \"jupyterlab/jupyter-ai\"}, {\"org\": \"jupyterlab\", \"repo\": \"jupyter-chat\", \"number\": 14, \"org/repo\": \"jupyterlab/jupyter-chat\"}, {\"org\": \"jupyterlab\", \"repo\": \"jupyter-collaboration\", \"number\": 8, \"org/repo\": \"jupyterlab/jupyter-collaboration\"}, {\"org\": \"jupyterlab\", \"repo\": \"jupyterlab\", \"number\": 84, \"org/repo\": \"jupyterlab/jupyterlab\"}, {\"org\": \"jupyterlab\", \"repo\": \"jupyterlab-desktop\", \"number\": 2, \"org/repo\": \"jupyterlab/jupyterlab-desktop\"}, {\"org\": \"jupyterlab\", \"repo\": \"jupyterlab-git\", \"number\": 1, \"org/repo\": \"jupyterlab/jupyterlab-git\"}, {\"org\": \"jupyterlab\", \"repo\": \"jupyterlab_pygments\", \"number\": 4, \"org/repo\": \"jupyterlab/jupyterlab_pygments\"}, {\"org\": \"jupyterlab\", \"repo\": \"lumino\", \"number\": 2, \"org/repo\": \"jupyterlab/lumino\"}, {\"org\": \"jupyterlab\", \"repo\": \"maintainer-tools\", \"number\": 4, \"org/repo\": \"jupyterlab/maintainer-tools\"}]}}, {\"mode\": \"vega-lite\"});\n",
       "</script>"
      ],
      "text/plain": [
       "alt.Chart(...)"
      ]
     },
     "execution_count": 17,
     "metadata": {},
     "output_type": "execute_result"
    }
   ],
   "source": [
    "closed_counts = closed.groupby(['org', 'repo']).count()['number'].reset_index()\n",
    "closed_counts['org/repo'] = closed_counts.apply(lambda a: a['org'] + '/' + a['repo'], axis=1)\n",
    "sorted_vals = closed_counts.sort_values(['number'], ascending=False)['repo'].values\n",
    "alt.Chart(data=closed_counts, title=f\"Issues closed in the last {n_days} days\").mark_bar().encode(\n",
    "    x=alt.X('repo', sort=alt.Sort(sorted_vals.tolist())),\n",
    "    y='number',\n",
    ")"
   ]
  },
  {
   "cell_type": "code",
   "execution_count": 18,
   "id": "3304af96",
   "metadata": {
    "editable": true,
    "execution": {
     "iopub.execute_input": "2025-05-22T01:30:37.405498Z",
     "iopub.status.busy": "2025-05-22T01:30:37.405114Z",
     "iopub.status.idle": "2025-05-22T01:30:37.414649Z",
     "shell.execute_reply": "2025-05-22T01:30:37.414101Z"
    },
    "papermill": {
     "duration": 0.026671,
     "end_time": "2025-05-22T01:30:37.415679",
     "exception": false,
     "start_time": "2025-05-22T01:30:37.389008",
     "status": "completed"
    },
    "slideshow": {
     "slide_type": ""
    },
    "tags": [
     "remove_cell"
    ]
   },
   "outputs": [],
   "source": [
    "created_closed = pd.merge(created_counts.rename(columns={'number': 'created'}).drop(columns='org/repo'),\n",
    "                          closed_counts.rename(columns={'number': 'closed'}).drop(columns='org/repo'),\n",
    "                          on=['org', 'repo'], how='outer')\n",
    "\n",
    "created_closed = pd.melt(created_closed, id_vars=['org', 'repo'], var_name=\"kind\", value_name=\"count\").replace(np.nan, 0)"
   ]
  },
  {
   "cell_type": "code",
   "execution_count": 19,
   "id": "08e06303",
   "metadata": {
    "editable": true,
    "execution": {
     "iopub.execute_input": "2025-05-22T01:30:37.447913Z",
     "iopub.status.busy": "2025-05-22T01:30:37.447522Z",
     "iopub.status.idle": "2025-05-22T01:30:37.470267Z",
     "shell.execute_reply": "2025-05-22T01:30:37.469717Z"
    },
    "papermill": {
     "duration": 0.040056,
     "end_time": "2025-05-22T01:30:37.471266",
     "exception": false,
     "start_time": "2025-05-22T01:30:37.431210",
     "status": "completed"
    },
    "scrolled": true,
    "slideshow": {
     "slide_type": ""
    },
    "tags": [
     "hide_input"
    ]
   },
   "outputs": [
    {
     "data": {
      "text/html": [
       "\n",
       "<style>\n",
       "  #altair-viz-fa7c9c81182647039fd43d877787ce9b.vega-embed {\n",
       "    width: 100%;\n",
       "    display: flex;\n",
       "  }\n",
       "\n",
       "  #altair-viz-fa7c9c81182647039fd43d877787ce9b.vega-embed details,\n",
       "  #altair-viz-fa7c9c81182647039fd43d877787ce9b.vega-embed details summary {\n",
       "    position: relative;\n",
       "  }\n",
       "</style>\n",
       "<div id=\"altair-viz-fa7c9c81182647039fd43d877787ce9b\"></div>\n",
       "<script type=\"text/javascript\">\n",
       "  var VEGA_DEBUG = (typeof VEGA_DEBUG == \"undefined\") ? {} : VEGA_DEBUG;\n",
       "  (function(spec, embedOpt){\n",
       "    let outputDiv = document.currentScript.previousElementSibling;\n",
       "    if (outputDiv.id !== \"altair-viz-fa7c9c81182647039fd43d877787ce9b\") {\n",
       "      outputDiv = document.getElementById(\"altair-viz-fa7c9c81182647039fd43d877787ce9b\");\n",
       "    }\n",
       "\n",
       "    const paths = {\n",
       "      \"vega\": \"https://cdn.jsdelivr.net/npm/vega@5?noext\",\n",
       "      \"vega-lib\": \"https://cdn.jsdelivr.net/npm/vega-lib?noext\",\n",
       "      \"vega-lite\": \"https://cdn.jsdelivr.net/npm/vega-lite@5.20.1?noext\",\n",
       "      \"vega-embed\": \"https://cdn.jsdelivr.net/npm/vega-embed@6?noext\",\n",
       "    };\n",
       "\n",
       "    function maybeLoadScript(lib, version) {\n",
       "      var key = `${lib.replace(\"-\", \"\")}_version`;\n",
       "      return (VEGA_DEBUG[key] == version) ?\n",
       "        Promise.resolve(paths[lib]) :\n",
       "        new Promise(function(resolve, reject) {\n",
       "          var s = document.createElement('script');\n",
       "          document.getElementsByTagName(\"head\")[0].appendChild(s);\n",
       "          s.async = true;\n",
       "          s.onload = () => {\n",
       "            VEGA_DEBUG[key] = version;\n",
       "            return resolve(paths[lib]);\n",
       "          };\n",
       "          s.onerror = () => reject(`Error loading script: ${paths[lib]}`);\n",
       "          s.src = paths[lib];\n",
       "        });\n",
       "    }\n",
       "\n",
       "    function showError(err) {\n",
       "      outputDiv.innerHTML = `<div class=\"error\" style=\"color:red;\">${err}</div>`;\n",
       "      throw err;\n",
       "    }\n",
       "\n",
       "    function displayChart(vegaEmbed) {\n",
       "      vegaEmbed(outputDiv, spec, embedOpt)\n",
       "        .catch(err => showError(`Javascript Error: ${err.message}<br>This usually means there's a typo in your chart specification. See the javascript console for the full traceback.`));\n",
       "    }\n",
       "\n",
       "    if(typeof define === \"function\" && define.amd) {\n",
       "      requirejs.config({paths});\n",
       "      let deps = [\"vega-embed\"];\n",
       "      require(deps, displayChart, err => showError(`Error loading script: ${err.message}`));\n",
       "    } else {\n",
       "      maybeLoadScript(\"vega\", \"5\")\n",
       "        .then(() => maybeLoadScript(\"vega-lite\", \"5.20.1\"))\n",
       "        .then(() => maybeLoadScript(\"vega-embed\", \"6\"))\n",
       "        .catch(showError)\n",
       "        .then(() => displayChart(vegaEmbed));\n",
       "    }\n",
       "  })({\"config\": {\"axisLeft\": {\"labelFontSize\": 15}, \"axisBottom\": {\"labelFontSize\": 15}}, \"data\": {\"name\": \"data-7f64624f1c13ee201a95078315c272a3\"}, \"mark\": {\"type\": \"bar\"}, \"encoding\": {\"color\": {\"field\": \"kind\", \"type\": \"nominal\"}, \"column\": {\"field\": \"repo\", \"header\": {\"labelFontSize\": 12, \"title\": \"Issue activity, last 90 days for jupyterlab\", \"titleFontSize\": 15}, \"type\": \"nominal\"}, \"x\": {\"axis\": {\"labelFontSize\": 15, \"title\": \"\"}, \"field\": \"kind\", \"type\": \"nominal\"}, \"y\": {\"axis\": {\"labelFontSize\": 12, \"titleFontSize\": 15}, \"field\": \"count\", \"type\": \"quantitative\"}}, \"width\": 120, \"$schema\": \"https://vega.github.io/schema/vega-lite/v5.20.1.json\", \"datasets\": {\"data-7f64624f1c13ee201a95078315c272a3\": [{\"org\": \"jupyterlab\", \"repo\": \"extension-template\", \"kind\": \"created\", \"count\": 2.0}, {\"org\": \"jupyterlab\", \"repo\": \"jupyter-ai\", \"kind\": \"created\", \"count\": 23.0}, {\"org\": \"jupyterlab\", \"repo\": \"jupyter-chat\", \"kind\": \"created\", \"count\": 8.0}, {\"org\": \"jupyterlab\", \"repo\": \"jupyter-collaboration\", \"kind\": \"created\", \"count\": 7.0}, {\"org\": \"jupyterlab\", \"repo\": \"jupyterlab\", \"kind\": \"created\", \"count\": 62.0}, {\"org\": \"jupyterlab\", \"repo\": \"jupyterlab-desktop\", \"kind\": \"created\", \"count\": 5.0}, {\"org\": \"jupyterlab\", \"repo\": \"jupyterlab-git\", \"kind\": \"created\", \"count\": 5.0}, {\"org\": \"jupyterlab\", \"repo\": \"jupyterlab_pygments\", \"kind\": \"created\", \"count\": 0.0}, {\"org\": \"jupyterlab\", \"repo\": \"lumino\", \"kind\": \"created\", \"count\": 3.0}, {\"org\": \"jupyterlab\", \"repo\": \"maintainer-tools\", \"kind\": \"created\", \"count\": 0.0}, {\"org\": \"jupyterlab\", \"repo\": \"extension-template\", \"kind\": \"closed\", \"count\": 1.0}, {\"org\": \"jupyterlab\", \"repo\": \"jupyter-ai\", \"kind\": \"closed\", \"count\": 45.0}, {\"org\": \"jupyterlab\", \"repo\": \"jupyter-chat\", \"kind\": \"closed\", \"count\": 14.0}, {\"org\": \"jupyterlab\", \"repo\": \"jupyter-collaboration\", \"kind\": \"closed\", \"count\": 8.0}, {\"org\": \"jupyterlab\", \"repo\": \"jupyterlab\", \"kind\": \"closed\", \"count\": 84.0}, {\"org\": \"jupyterlab\", \"repo\": \"jupyterlab-desktop\", \"kind\": \"closed\", \"count\": 2.0}, {\"org\": \"jupyterlab\", \"repo\": \"jupyterlab-git\", \"kind\": \"closed\", \"count\": 1.0}, {\"org\": \"jupyterlab\", \"repo\": \"jupyterlab_pygments\", \"kind\": \"closed\", \"count\": 4.0}, {\"org\": \"jupyterlab\", \"repo\": \"lumino\", \"kind\": \"closed\", \"count\": 2.0}, {\"org\": \"jupyterlab\", \"repo\": \"maintainer-tools\", \"kind\": \"closed\", \"count\": 4.0}]}}, {\"mode\": \"vega-lite\"});\n",
       "</script>"
      ],
      "text/plain": [
       "alt.Chart(...)"
      ]
     },
     "execution_count": 19,
     "metadata": {},
     "output_type": "execute_result"
    }
   ],
   "source": [
    "charts = []\n",
    "# Pick the top 10 repositories\n",
    "top_repos = created_closed.groupby(['repo']).sum().sort_values(by='count', ascending=False).head(10).index\n",
    "ch = alt.Chart(created_closed.query('repo in @top_repos'), width=120).mark_bar().encode(\n",
    "    x=alt.X(\"kind\", axis=alt.Axis(labelFontSize=15, title=\"\")), \n",
    "    y=alt.Y('count', axis=alt.Axis(titleFontSize=15, labelFontSize=12)),\n",
    "    color='kind',\n",
    "    column=alt.Column(\"repo\", header=alt.Header(title=f\"Issue activity, last {n_days} days for {github_org}\", titleFontSize=15, labelFontSize=12))\n",
    ")\n",
    "ch"
   ]
  },
  {
   "cell_type": "code",
   "execution_count": 20,
   "id": "479520c6",
   "metadata": {
    "editable": true,
    "execution": {
     "iopub.execute_input": "2025-05-22T01:30:37.504992Z",
     "iopub.status.busy": "2025-05-22T01:30:37.504593Z",
     "iopub.status.idle": "2025-05-22T01:30:37.511971Z",
     "shell.execute_reply": "2025-05-22T01:30:37.511401Z"
    },
    "papermill": {
     "duration": 0.025567,
     "end_time": "2025-05-22T01:30:37.513035",
     "exception": false,
     "start_time": "2025-05-22T01:30:37.487468",
     "status": "completed"
    },
    "slideshow": {
     "slide_type": ""
    },
    "tags": [
     "remove_cell"
    ]
   },
   "outputs": [],
   "source": [
    "# Set to datetime\n",
    "for kind in ['created_at', 'closed_at']:\n",
    "    closed.loc[:, kind] = pd.to_datetime(closed[kind])\n",
    "    \n",
    "closed.loc[:, 'time_open'] = closed['closed_at'] - closed['created_at']\n",
    "closed.loc[:, 'time_open'] = closed['time_open'].dt.total_seconds()"
   ]
  },
  {
   "cell_type": "code",
   "execution_count": 21,
   "id": "46a47a53",
   "metadata": {
    "editable": true,
    "execution": {
     "iopub.execute_input": "2025-05-22T01:30:37.545425Z",
     "iopub.status.busy": "2025-05-22T01:30:37.545242Z",
     "iopub.status.idle": "2025-05-22T01:30:37.563569Z",
     "shell.execute_reply": "2025-05-22T01:30:37.563064Z"
    },
    "papermill": {
     "duration": 0.035593,
     "end_time": "2025-05-22T01:30:37.564586",
     "exception": false,
     "start_time": "2025-05-22T01:30:37.528993",
     "status": "completed"
    },
    "slideshow": {
     "slide_type": ""
    },
    "tags": [
     "hide_input"
    ]
   },
   "outputs": [
    {
     "data": {
      "text/html": [
       "\n",
       "<style>\n",
       "  #altair-viz-2bbdffc8488240e2b14fa1fee2493068.vega-embed {\n",
       "    width: 100%;\n",
       "    display: flex;\n",
       "  }\n",
       "\n",
       "  #altair-viz-2bbdffc8488240e2b14fa1fee2493068.vega-embed details,\n",
       "  #altair-viz-2bbdffc8488240e2b14fa1fee2493068.vega-embed details summary {\n",
       "    position: relative;\n",
       "  }\n",
       "</style>\n",
       "<div id=\"altair-viz-2bbdffc8488240e2b14fa1fee2493068\"></div>\n",
       "<script type=\"text/javascript\">\n",
       "  var VEGA_DEBUG = (typeof VEGA_DEBUG == \"undefined\") ? {} : VEGA_DEBUG;\n",
       "  (function(spec, embedOpt){\n",
       "    let outputDiv = document.currentScript.previousElementSibling;\n",
       "    if (outputDiv.id !== \"altair-viz-2bbdffc8488240e2b14fa1fee2493068\") {\n",
       "      outputDiv = document.getElementById(\"altair-viz-2bbdffc8488240e2b14fa1fee2493068\");\n",
       "    }\n",
       "\n",
       "    const paths = {\n",
       "      \"vega\": \"https://cdn.jsdelivr.net/npm/vega@5?noext\",\n",
       "      \"vega-lib\": \"https://cdn.jsdelivr.net/npm/vega-lib?noext\",\n",
       "      \"vega-lite\": \"https://cdn.jsdelivr.net/npm/vega-lite@5.20.1?noext\",\n",
       "      \"vega-embed\": \"https://cdn.jsdelivr.net/npm/vega-embed@6?noext\",\n",
       "    };\n",
       "\n",
       "    function maybeLoadScript(lib, version) {\n",
       "      var key = `${lib.replace(\"-\", \"\")}_version`;\n",
       "      return (VEGA_DEBUG[key] == version) ?\n",
       "        Promise.resolve(paths[lib]) :\n",
       "        new Promise(function(resolve, reject) {\n",
       "          var s = document.createElement('script');\n",
       "          document.getElementsByTagName(\"head\")[0].appendChild(s);\n",
       "          s.async = true;\n",
       "          s.onload = () => {\n",
       "            VEGA_DEBUG[key] = version;\n",
       "            return resolve(paths[lib]);\n",
       "          };\n",
       "          s.onerror = () => reject(`Error loading script: ${paths[lib]}`);\n",
       "          s.src = paths[lib];\n",
       "        });\n",
       "    }\n",
       "\n",
       "    function showError(err) {\n",
       "      outputDiv.innerHTML = `<div class=\"error\" style=\"color:red;\">${err}</div>`;\n",
       "      throw err;\n",
       "    }\n",
       "\n",
       "    function displayChart(vegaEmbed) {\n",
       "      vegaEmbed(outputDiv, spec, embedOpt)\n",
       "        .catch(err => showError(`Javascript Error: ${err.message}<br>This usually means there's a typo in your chart specification. See the javascript console for the full traceback.`));\n",
       "    }\n",
       "\n",
       "    if(typeof define === \"function\" && define.amd) {\n",
       "      requirejs.config({paths});\n",
       "      let deps = [\"vega-embed\"];\n",
       "      require(deps, displayChart, err => showError(`Error loading script: ${err.message}`));\n",
       "    } else {\n",
       "      maybeLoadScript(\"vega\", \"5\")\n",
       "        .then(() => maybeLoadScript(\"vega-lite\", \"5.20.1\"))\n",
       "        .then(() => maybeLoadScript(\"vega-embed\", \"6\"))\n",
       "        .catch(showError)\n",
       "        .then(() => displayChart(vegaEmbed));\n",
       "    }\n",
       "  })({\"config\": {\"axisLeft\": {\"labelFontSize\": 15}, \"axisBottom\": {\"labelFontSize\": 15}}, \"data\": {\"name\": \"data-fa9a2400ecbb97bfd229a7cd6aa836a0\"}, \"mark\": {\"type\": \"bar\"}, \"encoding\": {\"x\": {\"field\": \"repo\", \"sort\": [\"maintainer-tools\", \"jupyter-ai\", \"jupyter-chat\", \"lumino\", \"jupyterlab\", \"jupyterlab-desktop\", \"jupyter-collaboration\", \"extension-template\", \"jupyterlab_pygments\", \"frontends-team-compass\", \"jupyterlab-git\"], \"type\": \"nominal\"}, \"y\": {\"field\": \"time_open\", \"title\": \"Median Days Open\", \"type\": \"quantitative\"}}, \"title\": \"Time to close for issues closed in the last 90 days\", \"$schema\": \"https://vega.github.io/schema/vega-lite/v5.20.1.json\", \"datasets\": {\"data-fa9a2400ecbb97bfd229a7cd6aa836a0\": [{\"org\": \"jupyterlab\", \"repo\": \"extension-template\", \"time_open\": 6.079317129629629, \"org/repo\": \"jupyterlab/extension-template\"}, {\"org\": \"jupyterlab\", \"repo\": \"frontends-team-compass\", \"time_open\": 0.00568287037037037, \"org/repo\": \"jupyterlab/frontends-team-compass\"}, {\"org\": \"jupyterlab\", \"repo\": \"jupyter-ai\", \"time_open\": 42.389386574074074, \"org/repo\": \"jupyterlab/jupyter-ai\"}, {\"org\": \"jupyterlab\", \"repo\": \"jupyter-chat\", \"time_open\": 18.43629050925926, \"org/repo\": \"jupyterlab/jupyter-chat\"}, {\"org\": \"jupyterlab\", \"repo\": \"jupyter-collaboration\", \"time_open\": 8.86011574074074, \"org/repo\": \"jupyterlab/jupyter-collaboration\"}, {\"org\": \"jupyterlab\", \"repo\": \"jupyterlab\", \"time_open\": 12.597442129629629, \"org/repo\": \"jupyterlab/jupyterlab\"}, {\"org\": \"jupyterlab\", \"repo\": \"jupyterlab-desktop\", \"time_open\": 11.991921296296296, \"org/repo\": \"jupyterlab/jupyterlab-desktop\"}, {\"org\": \"jupyterlab\", \"repo\": \"jupyterlab-git\", \"time_open\": 0.0005671296296296297, \"org/repo\": \"jupyterlab/jupyterlab-git\"}, {\"org\": \"jupyterlab\", \"repo\": \"jupyterlab_pygments\", \"time_open\": 0.22354166666666667, \"org/repo\": \"jupyterlab/jupyterlab_pygments\"}, {\"org\": \"jupyterlab\", \"repo\": \"lumino\", \"time_open\": 14.997633101851852, \"org/repo\": \"jupyterlab/lumino\"}, {\"org\": \"jupyterlab\", \"repo\": \"maintainer-tools\", \"time_open\": 448.97394675925926, \"org/repo\": \"jupyterlab/maintainer-tools\"}]}}, {\"mode\": \"vega-lite\"});\n",
       "</script>"
      ],
      "text/plain": [
       "alt.Chart(...)"
      ]
     },
     "execution_count": 21,
     "metadata": {},
     "output_type": "execute_result"
    }
   ],
   "source": [
    "time_open = closed.groupby(['org', 'repo']).agg({'time_open': 'median'}).reset_index()\n",
    "time_open['time_open'] = time_open['time_open'] / (60 * 60 * 24)\n",
    "time_open['org/repo'] = time_open.apply(lambda a: a['org'] + '/' + a['repo'], axis=1)\n",
    "sorted_vals = time_open.sort_values(['org', 'time_open'], ascending=False)['repo'].values\n",
    "alt.Chart(data=time_open, title=f\"Time to close for issues closed in the last {n_days} days\").mark_bar().encode(\n",
    "    x=alt.X('repo', sort=alt.Sort(sorted_vals.tolist())),\n",
    "    y=alt.Y('time_open', title=\"Median Days Open\"),\n",
    ")"
   ]
  },
  {
   "cell_type": "markdown",
   "id": "543949d8",
   "metadata": {
    "editable": true,
    "papermill": {
     "duration": 0.015959,
     "end_time": "2025-05-22T01:30:37.596480",
     "exception": false,
     "start_time": "2025-05-22T01:30:37.580521",
     "status": "completed"
    },
    "slideshow": {
     "slide_type": ""
    },
    "tags": []
   },
   "source": [
    "## Most-upvoted issues"
   ]
  },
  {
   "cell_type": "code",
   "execution_count": 22,
   "id": "b98193ad",
   "metadata": {
    "editable": true,
    "execution": {
     "iopub.execute_input": "2025-05-22T01:30:37.630803Z",
     "iopub.status.busy": "2025-05-22T01:30:37.630417Z",
     "iopub.status.idle": "2025-05-22T01:30:37.655084Z",
     "shell.execute_reply": "2025-05-22T01:30:37.654492Z"
    },
    "papermill": {
     "duration": 0.043127,
     "end_time": "2025-05-22T01:30:37.656115",
     "exception": false,
     "start_time": "2025-05-22T01:30:37.612988",
     "status": "completed"
    },
    "slideshow": {
     "slide_type": ""
    },
    "tags": [
     "hide_input"
    ]
   },
   "outputs": [
    {
     "data": {
      "application/vnd.jupyter.widget-view+json": {
       "model_id": "cd482ba7614b4d60986c3587b996bb9b",
       "version_major": 2,
       "version_minor": 0
      },
      "text/plain": [
       "HTML(value='<ul>\\n<li>(117) Implement variable inspector for kernels - jupyterlab - <a href=\"https://github.co…"
      ]
     },
     "execution_count": 22,
     "metadata": {},
     "output_type": "execute_result"
    }
   ],
   "source": [
    "thumbsup = issues.query(\"state == 'open'\").sort_values(\"positive\", ascending=False).head(25)\n",
    "thumbsup = thumbsup[[\"title\", \"url\", \"number\", \"positive\", \"repo\"]]\n",
    "\n",
    "text = []\n",
    "for ii, irow in thumbsup.iterrows():\n",
    "    itext = f\"- ({irow['positive']}) {irow['title']} - {irow['repo']} - [#{irow['number']}]({irow['url']})\"\n",
    "    text.append(itext)\n",
    "text = '\\n'.join(text)\n",
    "HTML(markdown(text))"
   ]
  },
  {
   "cell_type": "markdown",
   "id": "c2c88c2e",
   "metadata": {
    "editable": true,
    "papermill": {
     "duration": 0.016395,
     "end_time": "2025-05-22T01:30:37.689069",
     "exception": false,
     "start_time": "2025-05-22T01:30:37.672674",
     "status": "completed"
    },
    "slideshow": {
     "slide_type": ""
    },
    "tags": []
   },
   "source": [
    "## Commenters across repositories\n",
    "\n",
    "These are commenters across all issues and pull requests in the last several days.\n",
    "These are colored by the commenter's association with the organization. For information\n",
    "about what these associations mean, [see this StackOverflow post](https://stackoverflow.com/a/28866914/1927102)."
   ]
  },
  {
   "cell_type": "code",
   "execution_count": 23,
   "id": "a58cfaa5",
   "metadata": {
    "editable": true,
    "execution": {
     "iopub.execute_input": "2025-05-22T01:30:37.722403Z",
     "iopub.status.busy": "2025-05-22T01:30:37.722215Z",
     "iopub.status.idle": "2025-05-22T01:30:37.733976Z",
     "shell.execute_reply": "2025-05-22T01:30:37.733422Z"
    },
    "papermill": {
     "duration": 0.029666,
     "end_time": "2025-05-22T01:30:37.734946",
     "exception": false,
     "start_time": "2025-05-22T01:30:37.705280",
     "status": "completed"
    },
    "slideshow": {
     "slide_type": ""
    },
    "tags": [
     "remove_cell"
    ]
   },
   "outputs": [],
   "source": [
    "commentors = (\n",
    "    comments\n",
    "    .query(\"created_at > @start_date and created_at < @stop_date\")\n",
    "    .groupby(['org', 'repo', 'login', 'author_association'])\n",
    "    .count().rename(columns={'id_issue': 'count'})['count']\n",
    "    .reset_index()\n",
    "    .sort_values(['org', 'count'], ascending=False)\n",
    ")"
   ]
  },
  {
   "cell_type": "code",
   "execution_count": 24,
   "id": "4b885b6e",
   "metadata": {
    "editable": true,
    "execution": {
     "iopub.execute_input": "2025-05-22T01:30:37.770268Z",
     "iopub.status.busy": "2025-05-22T01:30:37.769882Z",
     "iopub.status.idle": "2025-05-22T01:30:37.794672Z",
     "shell.execute_reply": "2025-05-22T01:30:37.794145Z"
    },
    "papermill": {
     "duration": 0.043972,
     "end_time": "2025-05-22T01:30:37.795745",
     "exception": false,
     "start_time": "2025-05-22T01:30:37.751773",
     "status": "completed"
    },
    "slideshow": {
     "slide_type": ""
    },
    "tags": [
     "hide_input"
    ]
   },
   "outputs": [
    {
     "data": {
      "text/html": [
       "\n",
       "<style>\n",
       "  #altair-viz-f8c07c49d0764987bd8b311ffdcc4228.vega-embed {\n",
       "    width: 100%;\n",
       "    display: flex;\n",
       "  }\n",
       "\n",
       "  #altair-viz-f8c07c49d0764987bd8b311ffdcc4228.vega-embed details,\n",
       "  #altair-viz-f8c07c49d0764987bd8b311ffdcc4228.vega-embed details summary {\n",
       "    position: relative;\n",
       "  }\n",
       "</style>\n",
       "<div id=\"altair-viz-f8c07c49d0764987bd8b311ffdcc4228\"></div>\n",
       "<script type=\"text/javascript\">\n",
       "  var VEGA_DEBUG = (typeof VEGA_DEBUG == \"undefined\") ? {} : VEGA_DEBUG;\n",
       "  (function(spec, embedOpt){\n",
       "    let outputDiv = document.currentScript.previousElementSibling;\n",
       "    if (outputDiv.id !== \"altair-viz-f8c07c49d0764987bd8b311ffdcc4228\") {\n",
       "      outputDiv = document.getElementById(\"altair-viz-f8c07c49d0764987bd8b311ffdcc4228\");\n",
       "    }\n",
       "\n",
       "    const paths = {\n",
       "      \"vega\": \"https://cdn.jsdelivr.net/npm/vega@5?noext\",\n",
       "      \"vega-lib\": \"https://cdn.jsdelivr.net/npm/vega-lib?noext\",\n",
       "      \"vega-lite\": \"https://cdn.jsdelivr.net/npm/vega-lite@5.20.1?noext\",\n",
       "      \"vega-embed\": \"https://cdn.jsdelivr.net/npm/vega-embed@6?noext\",\n",
       "    };\n",
       "\n",
       "    function maybeLoadScript(lib, version) {\n",
       "      var key = `${lib.replace(\"-\", \"\")}_version`;\n",
       "      return (VEGA_DEBUG[key] == version) ?\n",
       "        Promise.resolve(paths[lib]) :\n",
       "        new Promise(function(resolve, reject) {\n",
       "          var s = document.createElement('script');\n",
       "          document.getElementsByTagName(\"head\")[0].appendChild(s);\n",
       "          s.async = true;\n",
       "          s.onload = () => {\n",
       "            VEGA_DEBUG[key] = version;\n",
       "            return resolve(paths[lib]);\n",
       "          };\n",
       "          s.onerror = () => reject(`Error loading script: ${paths[lib]}`);\n",
       "          s.src = paths[lib];\n",
       "        });\n",
       "    }\n",
       "\n",
       "    function showError(err) {\n",
       "      outputDiv.innerHTML = `<div class=\"error\" style=\"color:red;\">${err}</div>`;\n",
       "      throw err;\n",
       "    }\n",
       "\n",
       "    function displayChart(vegaEmbed) {\n",
       "      vegaEmbed(outputDiv, spec, embedOpt)\n",
       "        .catch(err => showError(`Javascript Error: ${err.message}<br>This usually means there's a typo in your chart specification. See the javascript console for the full traceback.`));\n",
       "    }\n",
       "\n",
       "    if(typeof define === \"function\" && define.amd) {\n",
       "      requirejs.config({paths});\n",
       "      let deps = [\"vega-embed\"];\n",
       "      require(deps, displayChart, err => showError(`Error loading script: ${err.message}`));\n",
       "    } else {\n",
       "      maybeLoadScript(\"vega\", \"5\")\n",
       "        .then(() => maybeLoadScript(\"vega-lite\", \"5.20.1\"))\n",
       "        .then(() => maybeLoadScript(\"vega-embed\", \"6\"))\n",
       "        .catch(showError)\n",
       "        .then(() => displayChart(vegaEmbed));\n",
       "    }\n",
       "  })({\"config\": {\"axisLeft\": {\"labelFontSize\": 15}, \"axisBottom\": {\"labelFontSize\": 15}}, \"hconcat\": [{\"mark\": {\"type\": \"bar\"}, \"encoding\": {\"color\": {\"field\": \"author_association\", \"scale\": {\"domain\": [\"MEMBER\", \"CONTRIBUTOR\", \"COLLABORATOR\", \"NONE\"], \"range\": [\"rgb(211.82745098039214, 211.82745098039214, 211.82745098039214)\", \"rgb(166.98562091503268, 229.89803921568628, 166.98562091503268)\", \"rgb(96.37647058823529, 192.75294117647059, 96.37647058823529)\", \"rgb(0.0, 100.3921568627451, 0.0)\"]}, \"type\": \"nominal\"}, \"x\": {\"field\": \"login\", \"type\": \"nominal\"}, \"y\": {\"field\": \"count\", \"type\": \"quantitative\"}}, \"title\": \"Top 50 commentors for ('jupyterlab',) in the last 90 days\"}], \"data\": {\"name\": \"data-eceba322ebb0a893ec823f62ff78f1e7\"}, \"$schema\": \"https://vega.github.io/schema/vega-lite/v5.20.1.json\", \"datasets\": {\"data-eceba322ebb0a893ec823f62ff78f1e7\": [{\"login\": \"dlqqq\", \"count\": 73, \"author_association\": \"MEMBER\"}, {\"login\": \"krassowski\", \"count\": 37, \"author_association\": \"MEMBER\"}, {\"login\": \"brichet\", \"count\": 21, \"author_association\": \"MEMBER\"}, {\"login\": \"srdas\", \"count\": 18, \"author_association\": \"COLLABORATOR\"}, {\"login\": \"andrii-i\", \"count\": 14, \"author_association\": \"MEMBER\"}, {\"login\": \"jtpio\", \"count\": 12, \"author_association\": \"MEMBER\"}, {\"login\": \"danyeaw\", \"count\": 10, \"author_association\": \"MEMBER\"}, {\"login\": \"jochym\", \"count\": 9, \"author_association\": \"NONE\"}, {\"login\": \"RRosio\", \"count\": 9, \"author_association\": \"MEMBER\"}, {\"login\": \"gogakoreli\", \"count\": 7, \"author_association\": \"NONE\"}, {\"login\": \"wkvolkman\", \"count\": 7, \"author_association\": \"NONE\"}, {\"login\": \"nwalters512\", \"count\": 7, \"author_association\": \"NONE\"}, {\"login\": \"davidbrochart\", \"count\": 6, \"author_association\": \"MEMBER\"}, {\"login\": \"fcollonval\", \"count\": 6, \"author_association\": \"MEMBER\"}, {\"login\": \"rickmcgeer\", \"count\": 5, \"author_association\": \"NONE\"}, {\"login\": \"Zsailer\", \"count\": 5, \"author_association\": \"MEMBER\"}, {\"login\": \"Christhian16\", \"count\": 4, \"author_association\": \"NONE\"}, {\"login\": \"lewisl\", \"count\": 4, \"author_association\": \"NONE\"}, {\"login\": \"Sieboldianus\", \"count\": 4, \"author_association\": \"NONE\"}, {\"login\": \"johnnyxwan\", \"count\": 4, \"author_association\": \"NONE\"}, {\"login\": \"jiridanek\", \"count\": 4, \"author_association\": \"NONE\"}, {\"login\": \"VicaYang\", \"count\": 3, \"author_association\": \"NONE\"}, {\"login\": \"skabbit\", \"count\": 3, \"author_association\": \"NONE\"}, {\"login\": \"parulnith\", \"count\": 3, \"author_association\": \"NONE\"}, {\"login\": \"cboettig\", \"count\": 3, \"author_association\": \"NONE\"}, {\"login\": \"fperez\", \"count\": 3, \"author_association\": \"MEMBER\"}, {\"login\": \"mbektas\", \"count\": 2, \"author_association\": \"MEMBER\"}, {\"login\": \"perllaghu\", \"count\": 2, \"author_association\": \"NONE\"}, {\"login\": \"kburchfiel\", \"count\": 2, \"author_association\": \"NONE\"}, {\"login\": \"Ahri-man\", \"count\": 2, \"author_association\": \"NONE\"}, {\"login\": \"BigFlagBurito\", \"count\": 2, \"author_association\": \"NONE\"}, {\"login\": \"Hyrla\", \"count\": 2, \"author_association\": \"NONE\"}, {\"login\": \"Darshan808\", \"count\": 2, \"author_association\": \"MEMBER\"}, {\"login\": \"dzambuto\", \"count\": 2, \"author_association\": \"NONE\"}, {\"login\": \"easp\", \"count\": 2, \"author_association\": \"NONE\"}, {\"login\": \"agron2017\", \"count\": 2, \"author_association\": \"NONE\"}, {\"login\": \"mreisbeck2\", \"count\": 2, \"author_association\": \"NONE\"}, {\"login\": \"wenmin-wu\", \"count\": 2, \"author_association\": \"NONE\"}, {\"login\": \"ctcjab\", \"count\": 2, \"author_association\": \"NONE\"}, {\"login\": \"antonstor\", \"count\": 2, \"author_association\": \"NONE\"}, {\"login\": \"ANANTH999\", \"count\": 1, \"author_association\": \"NONE\"}, {\"login\": \"RaphaelPorcherot\", \"count\": 1, \"author_association\": \"NONE\"}, {\"login\": \"Carreau\", \"count\": 1, \"author_association\": \"MEMBER\"}, {\"login\": \"jesuino\", \"count\": 1, \"author_association\": \"NONE\"}, {\"login\": \"jasongrout\", \"count\": 1, \"author_association\": \"MEMBER\"}, {\"login\": \"donghokimm\", \"count\": 1, \"author_association\": \"NONE\"}, {\"login\": \"dogganon\", \"count\": 1, \"author_association\": \"NONE\"}, {\"login\": \"ellisonbg\", \"count\": 1, \"author_association\": \"MEMBER\"}, {\"login\": \"eazuman\", \"count\": 1, \"author_association\": \"NONE\"}, {\"login\": \"acgeospatial\", \"count\": 1, \"author_association\": \"NONE\"}]}}, {\"mode\": \"vega-lite\"});\n",
       "</script>"
      ],
      "text/plain": [
       "alt.HConcatChart(...)"
      ]
     },
     "execution_count": 24,
     "metadata": {},
     "output_type": "execute_result"
    }
   ],
   "source": [
    "n_plot = 50\n",
    "charts = []\n",
    "for ii, (iorg, idata) in enumerate(commentors.groupby(['org'])):\n",
    "    title = f\"Top {n_plot} commentors for {iorg} in the last {n_days} days\"\n",
    "    idata = idata.groupby('login', as_index=False).agg({'count': 'sum', 'author_association': 'first'})\n",
    "    idata = idata.sort_values('count', ascending=False).head(n_plot)\n",
    "    ch = alt.Chart(data=idata.head(n_plot), title=title).mark_bar().encode(\n",
    "        x='login',\n",
    "        y='count',\n",
    "        color=alt.Color('author_association', scale=alt.Scale(domain=author_types, range=author_colors))\n",
    "    )\n",
    "    charts.append(ch)\n",
    "alt.hconcat(*charts)"
   ]
  },
  {
   "cell_type": "markdown",
   "id": "c6894813",
   "metadata": {
    "editable": true,
    "papermill": {
     "duration": 0.016598,
     "end_time": "2025-05-22T01:30:37.828797",
     "exception": false,
     "start_time": "2025-05-22T01:30:37.812199",
     "status": "completed"
    },
    "slideshow": {
     "slide_type": ""
    },
    "tags": []
   },
   "source": [
    "## First responders\n",
    "\n",
    "First responders are the first people to respond to a new issue in one of the repositories.\n",
    "The following plots show first responders for recently-created issues."
   ]
  },
  {
   "cell_type": "code",
   "execution_count": 25,
   "id": "ae830de6",
   "metadata": {
    "editable": true,
    "execution": {
     "iopub.execute_input": "2025-05-22T01:30:37.862982Z",
     "iopub.status.busy": "2025-05-22T01:30:37.862546Z",
     "iopub.status.idle": "2025-05-22T01:30:37.913252Z",
     "shell.execute_reply": "2025-05-22T01:30:37.912571Z"
    },
    "papermill": {
     "duration": 0.068983,
     "end_time": "2025-05-22T01:30:37.914282",
     "exception": false,
     "start_time": "2025-05-22T01:30:37.845299",
     "status": "completed"
    },
    "slideshow": {
     "slide_type": ""
    },
    "tags": [
     "remove_cell"
    ]
   },
   "outputs": [],
   "source": [
    "first_comments = []\n",
    "latest_comments = comments.query(\"created_at > @start_date\")\n",
    "for (org, repo, issue_id), i_comments in latest_comments.groupby(['org', 'repo', 'id_issue']):\n",
    "    ix_min = pd.to_datetime(i_comments['created_at']).idxmin()\n",
    "    first_comment = i_comments.loc[ix_min]\n",
    "    if isinstance(first_comment, pd.DataFrame):\n",
    "        first_comment = first_comment.iloc[0]\n",
    "    first_comments.append(first_comment)\n",
    "first_comments = pd.concat(first_comments, axis=1).T\n",
    "\n",
    "# Make up counts for viz\n",
    "first_responder_counts = first_comments.groupby(['org', 'login', 'author_association'], as_index=False).\\\n",
    "    count().rename(columns={'id_issue': 'n_first_responses'}).sort_values(['org', 'n_first_responses'], ascending=False)\n"
   ]
  },
  {
   "cell_type": "code",
   "execution_count": 26,
   "id": "6d17bfb0",
   "metadata": {
    "editable": true,
    "execution": {
     "iopub.execute_input": "2025-05-22T01:30:37.950007Z",
     "iopub.status.busy": "2025-05-22T01:30:37.949609Z",
     "iopub.status.idle": "2025-05-22T01:30:37.971984Z",
     "shell.execute_reply": "2025-05-22T01:30:37.971426Z"
    },
    "papermill": {
     "duration": 0.041477,
     "end_time": "2025-05-22T01:30:37.972985",
     "exception": false,
     "start_time": "2025-05-22T01:30:37.931508",
     "status": "completed"
    },
    "slideshow": {
     "slide_type": ""
    },
    "tags": [
     "hide_input"
    ]
   },
   "outputs": [
    {
     "data": {
      "text/html": [
       "\n",
       "<style>\n",
       "  #altair-viz-6f85226901354036a8dc5c831736ca97.vega-embed {\n",
       "    width: 100%;\n",
       "    display: flex;\n",
       "  }\n",
       "\n",
       "  #altair-viz-6f85226901354036a8dc5c831736ca97.vega-embed details,\n",
       "  #altair-viz-6f85226901354036a8dc5c831736ca97.vega-embed details summary {\n",
       "    position: relative;\n",
       "  }\n",
       "</style>\n",
       "<div id=\"altair-viz-6f85226901354036a8dc5c831736ca97\"></div>\n",
       "<script type=\"text/javascript\">\n",
       "  var VEGA_DEBUG = (typeof VEGA_DEBUG == \"undefined\") ? {} : VEGA_DEBUG;\n",
       "  (function(spec, embedOpt){\n",
       "    let outputDiv = document.currentScript.previousElementSibling;\n",
       "    if (outputDiv.id !== \"altair-viz-6f85226901354036a8dc5c831736ca97\") {\n",
       "      outputDiv = document.getElementById(\"altair-viz-6f85226901354036a8dc5c831736ca97\");\n",
       "    }\n",
       "\n",
       "    const paths = {\n",
       "      \"vega\": \"https://cdn.jsdelivr.net/npm/vega@5?noext\",\n",
       "      \"vega-lib\": \"https://cdn.jsdelivr.net/npm/vega-lib?noext\",\n",
       "      \"vega-lite\": \"https://cdn.jsdelivr.net/npm/vega-lite@5.20.1?noext\",\n",
       "      \"vega-embed\": \"https://cdn.jsdelivr.net/npm/vega-embed@6?noext\",\n",
       "    };\n",
       "\n",
       "    function maybeLoadScript(lib, version) {\n",
       "      var key = `${lib.replace(\"-\", \"\")}_version`;\n",
       "      return (VEGA_DEBUG[key] == version) ?\n",
       "        Promise.resolve(paths[lib]) :\n",
       "        new Promise(function(resolve, reject) {\n",
       "          var s = document.createElement('script');\n",
       "          document.getElementsByTagName(\"head\")[0].appendChild(s);\n",
       "          s.async = true;\n",
       "          s.onload = () => {\n",
       "            VEGA_DEBUG[key] = version;\n",
       "            return resolve(paths[lib]);\n",
       "          };\n",
       "          s.onerror = () => reject(`Error loading script: ${paths[lib]}`);\n",
       "          s.src = paths[lib];\n",
       "        });\n",
       "    }\n",
       "\n",
       "    function showError(err) {\n",
       "      outputDiv.innerHTML = `<div class=\"error\" style=\"color:red;\">${err}</div>`;\n",
       "      throw err;\n",
       "    }\n",
       "\n",
       "    function displayChart(vegaEmbed) {\n",
       "      vegaEmbed(outputDiv, spec, embedOpt)\n",
       "        .catch(err => showError(`Javascript Error: ${err.message}<br>This usually means there's a typo in your chart specification. See the javascript console for the full traceback.`));\n",
       "    }\n",
       "\n",
       "    if(typeof define === \"function\" && define.amd) {\n",
       "      requirejs.config({paths});\n",
       "      let deps = [\"vega-embed\"];\n",
       "      require(deps, displayChart, err => showError(`Error loading script: ${err.message}`));\n",
       "    } else {\n",
       "      maybeLoadScript(\"vega\", \"5\")\n",
       "        .then(() => maybeLoadScript(\"vega-lite\", \"5.20.1\"))\n",
       "        .then(() => maybeLoadScript(\"vega-embed\", \"6\"))\n",
       "        .catch(showError)\n",
       "        .then(() => displayChart(vegaEmbed));\n",
       "    }\n",
       "  })({\"config\": {\"axisLeft\": {\"labelFontSize\": 15}, \"axisBottom\": {\"labelFontSize\": 15}}, \"data\": {\"name\": \"data-aef9b05576a4853a336e9cf1d9551573\"}, \"mark\": {\"type\": \"bar\"}, \"encoding\": {\"color\": {\"field\": \"author_association\", \"scale\": {\"domain\": [\"MEMBER\", \"CONTRIBUTOR\", \"COLLABORATOR\", \"NONE\"], \"range\": [\"rgb(211.82745098039214, 211.82745098039214, 211.82745098039214)\", \"rgb(166.98562091503268, 229.89803921568628, 166.98562091503268)\", \"rgb(96.37647058823529, 192.75294117647059, 96.37647058823529)\", \"rgb(0.0, 100.3921568627451, 0.0)\"]}, \"type\": \"nominal\"}, \"x\": {\"field\": \"login\", \"type\": \"nominal\"}, \"y\": {\"field\": \"n_first_responses\", \"type\": \"quantitative\"}}, \"title\": \"Top 50 first responders for jupyterlab in the last 90 days\", \"$schema\": \"https://vega.github.io/schema/vega-lite/v5.20.1.json\", \"datasets\": {\"data-aef9b05576a4853a336e9cf1d9551573\": [{\"login\": \"dlqqq\", \"n_first_responses\": 32, \"author_association\": \"MEMBER\"}, {\"login\": \"krassowski\", \"n_first_responses\": 13, \"author_association\": \"MEMBER\"}, {\"login\": \"brichet\", \"n_first_responses\": 11, \"author_association\": \"MEMBER\"}, {\"login\": \"fcollonval\", \"n_first_responses\": 4, \"author_association\": \"MEMBER\"}, {\"login\": \"jtpio\", \"n_first_responses\": 4, \"author_association\": \"MEMBER\"}, {\"login\": \"jochym\", \"n_first_responses\": 3, \"author_association\": \"NONE\"}, {\"login\": \"andrii-i\", \"n_first_responses\": 3, \"author_association\": \"MEMBER\"}, {\"login\": \"Zsailer\", \"n_first_responses\": 3, \"author_association\": \"MEMBER\"}, {\"login\": \"antonstor\", \"n_first_responses\": 2, \"author_association\": \"NONE\"}, {\"login\": \"RRosio\", \"n_first_responses\": 2, \"author_association\": \"MEMBER\"}, {\"login\": \"wkvolkman\", \"n_first_responses\": 2, \"author_association\": \"NONE\"}, {\"login\": \"acgeospatial\", \"n_first_responses\": 1, \"author_association\": \"NONE\"}, {\"login\": \"aolney\", \"n_first_responses\": 1, \"author_association\": \"NONE\"}, {\"login\": \"VicaYang\", \"n_first_responses\": 1, \"author_association\": \"NONE\"}, {\"login\": \"ANANTH999\", \"n_first_responses\": 1, \"author_association\": \"NONE\"}, {\"login\": \"BigFlagBurito\", \"n_first_responses\": 1, \"author_association\": \"NONE\"}, {\"login\": \"RaphaelPorcherot\", \"n_first_responses\": 1, \"author_association\": \"NONE\"}, {\"login\": \"berceanu\", \"n_first_responses\": 1, \"author_association\": \"NONE\"}, {\"login\": \"ellisonbg\", \"n_first_responses\": 1, \"author_association\": \"MEMBER\"}, {\"login\": \"easp\", \"n_first_responses\": 1, \"author_association\": \"NONE\"}, {\"login\": \"dzambuto\", \"n_first_responses\": 1, \"author_association\": \"NONE\"}, {\"login\": \"bertini97\", \"n_first_responses\": 1, \"author_association\": \"NONE\"}, {\"login\": \"jesuino\", \"n_first_responses\": 1, \"author_association\": \"NONE\"}, {\"login\": \"fperez\", \"n_first_responses\": 1, \"author_association\": \"MEMBER\"}, {\"login\": \"johnnyxwan\", \"n_first_responses\": 1, \"author_association\": \"NONE\"}, {\"login\": \"beniroquai\", \"n_first_responses\": 1, \"author_association\": \"NONE\"}, {\"login\": \"kburchfiel\", \"n_first_responses\": 1, \"author_association\": \"NONE\"}, {\"login\": \"kundeng\", \"n_first_responses\": 1, \"author_association\": \"NONE\"}, {\"login\": \"manics\", \"n_first_responses\": 1, \"author_association\": \"NONE\"}, {\"login\": \"lucaslrodri\", \"n_first_responses\": 1, \"author_association\": \"NONE\"}, {\"login\": \"maxwacker\", \"n_first_responses\": 1, \"author_association\": \"NONE\"}, {\"login\": \"michaelchia\", \"n_first_responses\": 1, \"author_association\": \"COLLABORATOR\"}, {\"login\": \"mreisbeck2\", \"n_first_responses\": 1, \"author_association\": \"NONE\"}, {\"login\": \"mateMathieu\", \"n_first_responses\": 1, \"author_association\": \"NONE\"}, {\"login\": \"nwalters512\", \"n_first_responses\": 1, \"author_association\": \"NONE\"}, {\"login\": \"oscar6echo\", \"n_first_responses\": 1, \"author_association\": \"NONE\"}, {\"login\": \"rootsmusic\", \"n_first_responses\": 1, \"author_association\": \"NONE\"}, {\"login\": \"perllaghu\", \"n_first_responses\": 1, \"author_association\": \"NONE\"}, {\"login\": \"rvalenzuelar\", \"n_first_responses\": 1, \"author_association\": \"NONE\"}, {\"login\": \"srdas\", \"n_first_responses\": 1, \"author_association\": \"COLLABORATOR\"}, {\"login\": \"twiecki\", \"n_first_responses\": 1, \"author_association\": \"NONE\"}, {\"login\": \"wenmin-wu\", \"n_first_responses\": 1, \"author_association\": \"NONE\"}]}}, {\"mode\": \"vega-lite\"});\n",
       "</script>"
      ],
      "text/plain": [
       "alt.Chart(...)"
      ]
     },
     "execution_count": 26,
     "metadata": {},
     "output_type": "execute_result"
    }
   ],
   "source": [
    "n_plot = 50\n",
    "\n",
    "title = f\"Top {n_plot} first responders for {github_org} in the last {n_days} days\"\n",
    "idata = first_responder_counts.groupby('login', as_index=False).agg({'n_first_responses': 'sum', 'author_association': 'first'})\n",
    "idata = idata.sort_values('n_first_responses', ascending=False).head(n_plot)\n",
    "ch = alt.Chart(data=idata.head(n_plot), title=title).mark_bar().encode(\n",
    "    x='login',\n",
    "    y='n_first_responses',\n",
    "    color=alt.Color('author_association', scale=alt.Scale(domain=author_types, range=author_colors))\n",
    ")\n",
    "ch"
   ]
  },
  {
   "cell_type": "markdown",
   "id": "508cd37f",
   "metadata": {
    "editable": true,
    "papermill": {
     "duration": 0.019184,
     "end_time": "2025-05-22T01:30:38.008925",
     "exception": false,
     "start_time": "2025-05-22T01:30:37.989741",
     "status": "completed"
    },
    "slideshow": {
     "slide_type": ""
    },
    "tags": []
   },
   "source": [
    "## Recent activity\n",
    "\n",
    "### A list of merged PRs by project\n",
    "\n",
    "Below is a tabbed readout of recently-merged PRs. Check out the title to get an idea for what they\n",
    "implemented, and be sure to thank the PR author for their hard work!"
   ]
  },
  {
   "cell_type": "code",
   "execution_count": 27,
   "id": "ff1756c2",
   "metadata": {
    "editable": true,
    "execution": {
     "iopub.execute_input": "2025-05-22T01:30:38.043552Z",
     "iopub.status.busy": "2025-05-22T01:30:38.043322Z",
     "iopub.status.idle": "2025-05-22T01:30:38.185560Z",
     "shell.execute_reply": "2025-05-22T01:30:38.184888Z"
    },
    "papermill": {
     "duration": 0.164278,
     "end_time": "2025-05-22T01:30:38.190042",
     "exception": false,
     "start_time": "2025-05-22T01:30:38.025764",
     "status": "completed"
    },
    "slideshow": {
     "slide_type": ""
    },
    "tags": [
     "hide_input"
    ]
   },
   "outputs": [
    {
     "data": {
      "application/vnd.jupyter.widget-view+json": {
       "model_id": "dd75c9e1fbd74761a24358dfbc51af8b",
       "version_major": 2,
       "version_minor": 0
      },
      "text/plain": [
       "Tab(children=(HTML(value='<h4>Closed PRs for repo: <a href=\"https://github.com/jupyterlab/frontends-team-compa…"
      ]
     },
     "execution_count": 27,
     "metadata": {},
     "output_type": "execute_result"
    }
   ],
   "source": [
    "tabs = widgets.Tab(children=[])\n",
    "\n",
    "for ii, ((org, repo), imerged) in enumerate(merged.query(\"repo in @use_repos\").groupby(['org', 'repo'])):\n",
    "    merged_by = {}\n",
    "    pr_by = {}\n",
    "    issue_md = []\n",
    "    issue_md.append(f\"#### Closed PRs for repo: [{org}/{repo}](https://github.com/{github_org}/{repo})\")\n",
    "    issue_md.append(\"\")\n",
    "    issue_md.append(f\"##### \")\n",
    "\n",
    "    for _, ipr in imerged.iterrows():\n",
    "        user_name = ipr['login']\n",
    "        user_url = author_url(user_name)\n",
    "        pr_number = ipr['number']\n",
    "        pr_html = ipr['url']\n",
    "        pr_title = ipr['title']\n",
    "        pr_closedby = ipr['merged_by']\n",
    "        pr_closedby_url = f\"https://github.com/{pr_closedby}\"\n",
    "        if user_name not in pr_by:\n",
    "            pr_by[user_name] = 1\n",
    "        else:\n",
    "            pr_by[user_name] += 1\n",
    "\n",
    "        if pr_closedby not in merged_by:\n",
    "            merged_by[pr_closedby] = 1\n",
    "        else:\n",
    "            merged_by[pr_closedby] += 1\n",
    "        text = f\"* [(#{pr_number})]({pr_html}): _{pr_title}_ by **[@{user_name}]({user_url})** merged by **[@{pr_closedby}]({pr_closedby_url})**\"\n",
    "        issue_md.append(text)\n",
    "    \n",
    "    issue_md.append('')\n",
    "    markdown_html = markdown('\\n'.join(issue_md))\n",
    "\n",
    "    children = list(tabs.children)\n",
    "    children.append(HTML(markdown_html))\n",
    "    tabs.children = tuple(children)\n",
    "    tabs.set_title(ii, repo)\n",
    "tabs"
   ]
  },
  {
   "cell_type": "markdown",
   "id": "7effaafd",
   "metadata": {
    "editable": true,
    "papermill": {
     "duration": 0.017637,
     "end_time": "2025-05-22T01:30:38.225216",
     "exception": false,
     "start_time": "2025-05-22T01:30:38.207579",
     "status": "completed"
    },
    "slideshow": {
     "slide_type": ""
    },
    "tags": []
   },
   "source": [
    "### A list of recent issues\n",
    "\n",
    "Below is a list of issues with recent activity in each repository. If they seem of interest\n",
    "to you, click on their links and jump in to participate!"
   ]
  },
  {
   "cell_type": "code",
   "execution_count": 28,
   "id": "b083ad9d",
   "metadata": {
    "editable": true,
    "execution": {
     "iopub.execute_input": "2025-05-22T01:30:38.260539Z",
     "iopub.status.busy": "2025-05-22T01:30:38.260050Z",
     "iopub.status.idle": "2025-05-22T01:30:38.270584Z",
     "shell.execute_reply": "2025-05-22T01:30:38.269950Z"
    },
    "papermill": {
     "duration": 0.029391,
     "end_time": "2025-05-22T01:30:38.271832",
     "exception": false,
     "start_time": "2025-05-22T01:30:38.242441",
     "status": "completed"
    },
    "slideshow": {
     "slide_type": ""
    },
    "tags": [
     "remove_cell"
    ]
   },
   "outputs": [],
   "source": [
    "# Add comment count data to issues and PRs\n",
    "comment_counts = (\n",
    "    comments\n",
    "    .query(\"created_at > @start_date and created_at < @stop_date\")\n",
    "    .groupby(['org', 'repo', 'id_issue'])\n",
    "    .count().iloc[:, 0].to_frame()\n",
    ")\n",
    "comment_counts.columns = ['n_comments']\n",
    "comment_counts = comment_counts.reset_index()"
   ]
  },
  {
   "cell_type": "code",
   "execution_count": 29,
   "id": "e0ffdf9d",
   "metadata": {
    "editable": true,
    "execution": {
     "iopub.execute_input": "2025-05-22T01:30:38.306457Z",
     "iopub.status.busy": "2025-05-22T01:30:38.306074Z",
     "iopub.status.idle": "2025-05-22T01:30:38.416446Z",
     "shell.execute_reply": "2025-05-22T01:30:38.415780Z"
    },
    "papermill": {
     "duration": 0.12921,
     "end_time": "2025-05-22T01:30:38.417707",
     "exception": false,
     "start_time": "2025-05-22T01:30:38.288497",
     "status": "completed"
    },
    "slideshow": {
     "slide_type": ""
    },
    "tags": [
     "hide_input"
    ],
    "toc-hr-collapsed": false
   },
   "outputs": [
    {
     "data": {
      "text/markdown": [
       "Here are the top 5 active issues in each repository in the last 90 days"
      ],
      "text/plain": [
       "<IPython.core.display.Markdown object>"
      ]
     },
     "metadata": {},
     "output_type": "display_data"
    },
    {
     "data": {
      "application/vnd.jupyter.widget-view+json": {
       "model_id": "5148e8d38c994c168efc017cfa374875",
       "version_major": 2,
       "version_minor": 0
      },
      "text/plain": [
       "Tab(children=(HTML(value='<h5><a href=\"https://github.com/jupyterlab/extension-examples\">jupyterlab/extension-…"
      ]
     },
     "metadata": {},
     "output_type": "display_data"
    }
   ],
   "source": [
    "n_plot = 5\n",
    "tabs = widgets.Tab(children=[])\n",
    "\n",
    "for ii, (repo, i_issues) in enumerate(comment_counts.query(\"repo in @use_repos\").groupby('repo')):\n",
    "    \n",
    "    issue_md = []\n",
    "    issue_md.append(\"\")\n",
    "    issue_md.append(f\"##### [{github_org}/{repo}](https://github.com/{github_org}/{repo})\")\n",
    "\n",
    "    top_issues = i_issues.sort_values('n_comments', ascending=False).head(n_plot)\n",
    "    top_issue_list = pd.merge(issues, top_issues, left_on=['org', 'repo', 'id_issue'], right_on=['org', 'repo', 'id_issue'])\n",
    "    for _, issue in top_issue_list.sort_values('n_comments', ascending=False).head(n_plot).iterrows():\n",
    "        user_name = issue['login']\n",
    "        user_url = author_url(user_name)\n",
    "        issue_number = issue['number']\n",
    "        issue_html = issue['url']\n",
    "        issue_title = issue['title']\n",
    "\n",
    "        text = f\"* [(#{issue_number})]({issue_html}): _{issue_title}_ by **[@{user_name}]({user_url})**\"\n",
    "        issue_md.append(text)\n",
    "\n",
    "    issue_md.append('')\n",
    "    md_html = HTML(markdown('\\n'.join(issue_md)))\n",
    "\n",
    "    children = list(tabs.children)\n",
    "    children.append(HTML(markdown('\\n'.join(issue_md))))\n",
    "    tabs.children = tuple(children)\n",
    "    tabs.set_title(ii, repo)\n",
    "    \n",
    "display(Markdown(f\"Here are the top {n_plot} active issues in each repository in the last {n_days} days\"))\n",
    "display(tabs)"
   ]
  }
 ],
 "metadata": {
  "kernelspec": {
   "display_name": "Python 3 (ipykernel)",
   "language": "python",
   "name": "python3"
  },
  "language_info": {
   "codemirror_mode": {
    "name": "ipython",
    "version": 3
   },
   "file_extension": ".py",
   "mimetype": "text/x-python",
   "name": "python",
   "nbconvert_exporter": "python",
   "pygments_lexer": "ipython3",
   "version": "3.9.22"
  },
  "papermill": {
   "default_parameters": {},
   "duration": 4.873489,
   "end_time": "2025-05-22T01:30:38.752991",
   "environment_variables": {},
   "exception": null,
   "input_path": "./templates/org_report.ipynb",
   "output_path": "generated/book/jupyterlab.ipynb",
   "parameters": {
    "github_org": "jupyterlab",
    "n_days": 90
   },
   "start_time": "2025-05-22T01:30:33.879502",
   "version": "2.6.0"
  },
  "widgets": {
   "application/vnd.jupyter.widget-state+json": {
    "state": {
     "03cd21f0644a4979bfc82f398c5a518b": {
      "model_module": "@jupyter-widgets/controls",
      "model_module_version": "2.0.0",
      "model_name": "HTMLModel",
      "state": {
       "_dom_classes": [],
       "_model_module": "@jupyter-widgets/controls",
       "_model_module_version": "2.0.0",
       "_model_name": "HTMLModel",
       "_view_count": null,
       "_view_module": "@jupyter-widgets/controls",
       "_view_module_version": "2.0.0",
       "_view_name": "HTMLView",
       "description": "",
       "description_allow_html": false,
       "layout": "IPY_MODEL_bdac408b4a88403d80168c96d61fc935",
       "placeholder": "​",
       "style": "IPY_MODEL_a6a1b3f6a5cd49df99418be530dc771c",
       "tabbable": null,
       "tooltip": null,
       "value": "<h5><a href=\"https://github.com/jupyterlab/jupyter-ai\">jupyterlab/jupyter-ai</a></h5>\n<ul>\n<li><a href=\"https://github.com/jupyterlab/jupyter-ai/issues/1259\">(#1259)</a>: <em>Bug?: Can't copy response to clipboard</em> by <strong><a href=\"https://github.com/wkvolkman\">@wkvolkman</a></strong></li>\n<li><a href=\"https://github.com/jupyterlab/jupyter-ai/issues/1291\">(#1291)</a>: <em>Unable to load Q chat using amazon-sagemaker-jupyter-ai-q-developer and Jupyter AI 2.31.0</em> by <strong><a href=\"https://github.com/sdharani91\">@sdharani91</a></strong></li>\n<li><a href=\"https://github.com/jupyterlab/jupyter-ai/issues/1261\">(#1261)</a>: <em>Bug: Model field inputs are coupled in Settings UI</em> by <strong><a href=\"https://github.com/VicaYang\">@VicaYang</a></strong></li>\n<li><a href=\"https://github.com/jupyterlab/jupyter-ai/issues/1293\">(#1293)</a>: <em>[v3] Various chat handler and usability issues in the current <code>jupyterlab-chat</code></em> by <strong><a href=\"https://github.com/srdas\">@srdas</a></strong></li>\n<li><a href=\"https://github.com/jupyterlab/jupyter-ai/issues/1308\">(#1308)</a>: <em>Error on chat openai with litellm api for self hosted llm</em> by <strong><a href=\"https://github.com/Christhian16\">@Christhian16</a></strong></li>\n</ul>"
      }
     },
     "09a5c45bce03403e912297e121448888": {
      "model_module": "@jupyter-widgets/base",
      "model_module_version": "2.0.0",
      "model_name": "LayoutModel",
      "state": {
       "_model_module": "@jupyter-widgets/base",
       "_model_module_version": "2.0.0",
       "_model_name": "LayoutModel",
       "_view_count": null,
       "_view_module": "@jupyter-widgets/base",
       "_view_module_version": "2.0.0",
       "_view_name": "LayoutView",
       "align_content": null,
       "align_items": null,
       "align_self": null,
       "border_bottom": null,
       "border_left": null,
       "border_right": null,
       "border_top": null,
       "bottom": null,
       "display": null,
       "flex": null,
       "flex_flow": null,
       "grid_area": null,
       "grid_auto_columns": null,
       "grid_auto_flow": null,
       "grid_auto_rows": null,
       "grid_column": null,
       "grid_gap": null,
       "grid_row": null,
       "grid_template_areas": null,
       "grid_template_columns": null,
       "grid_template_rows": null,
       "height": null,
       "justify_content": null,
       "justify_items": null,
       "left": null,
       "margin": null,
       "max_height": null,
       "max_width": null,
       "min_height": null,
       "min_width": null,
       "object_fit": null,
       "object_position": null,
       "order": null,
       "overflow": null,
       "padding": null,
       "right": null,
       "top": null,
       "visibility": null,
       "width": null
      }
     },
     "0a40cb53d2c444f0a27d00d0ed90f849": {
      "model_module": "@jupyter-widgets/controls",
      "model_module_version": "2.0.0",
      "model_name": "HTMLStyleModel",
      "state": {
       "_model_module": "@jupyter-widgets/controls",
       "_model_module_version": "2.0.0",
       "_model_name": "HTMLStyleModel",
       "_view_count": null,
       "_view_module": "@jupyter-widgets/base",
       "_view_module_version": "2.0.0",
       "_view_name": "StyleView",
       "background": null,
       "description_width": "",
       "font_size": null,
       "text_color": null
      }
     },
     "0b41e3d6f11b42ab8cb961d073a1b135": {
      "model_module": "@jupyter-widgets/controls",
      "model_module_version": "2.0.0",
      "model_name": "HTMLModel",
      "state": {
       "_dom_classes": [],
       "_model_module": "@jupyter-widgets/controls",
       "_model_module_version": "2.0.0",
       "_model_name": "HTMLModel",
       "_view_count": null,
       "_view_module": "@jupyter-widgets/controls",
       "_view_module_version": "2.0.0",
       "_view_name": "HTMLView",
       "description": "",
       "description_allow_html": false,
       "layout": "IPY_MODEL_f86233ac36e14c2ea6ff2560ceb8d788",
       "placeholder": "​",
       "style": "IPY_MODEL_2ce4f184cfc34971a18f27f4383f63b5",
       "tabbable": null,
       "tooltip": null,
       "value": "<h5><a href=\"https://github.com/jupyterlab/jupyterlab-desktop\">jupyterlab/jupyterlab-desktop</a></h5>\n<ul>\n<li><a href=\"https://github.com/jupyterlab/jupyterlab-desktop/issues/890\">(#890)</a>: <em>Should we archive this project?</em> by <strong><a href=\"https://github.com/krassowski\">@krassowski</a></strong></li>\n<li><a href=\"https://github.com/jupyterlab/jupyterlab-desktop/issues/888\">(#888)</a>: <em>[macOS] App CLI is not executable Error: EACCES: permission denied</em> by <strong><a href=\"https://github.com/lewisl\">@lewisl</a></strong></li>\n<li><a href=\"https://github.com/jupyterlab/jupyterlab-desktop/issues/885\">(#885)</a>: <em>bug when commenting out code ( see vid )</em> by <strong><a href=\"https://github.com/mreisbeck2\">@mreisbeck2</a></strong></li>\n<li><a href=\"https://github.com/jupyterlab/jupyterlab-desktop/issues/891\">(#891)</a>: <em>Improve documentation for running alternative kernels</em> by <strong><a href=\"https://github.com/Ahri-man\">@Ahri-man</a></strong></li>\n<li><a href=\"https://github.com/jupyterlab/jupyterlab-desktop/issues/894\">(#894)</a>: <em>disappearing code from the window (refresh sometimes helps)</em> by <strong><a href=\"https://github.com/aakhmetz\">@aakhmetz</a></strong></li>\n</ul>"
      }
     },
     "0bac7332a1a64d4cbaa70ecdeedbe21d": {
      "model_module": "@jupyter-widgets/controls",
      "model_module_version": "2.0.0",
      "model_name": "HTMLModel",
      "state": {
       "_dom_classes": [],
       "_model_module": "@jupyter-widgets/controls",
       "_model_module_version": "2.0.0",
       "_model_name": "HTMLModel",
       "_view_count": null,
       "_view_module": "@jupyter-widgets/controls",
       "_view_module_version": "2.0.0",
       "_view_name": "HTMLView",
       "description": "",
       "description_allow_html": false,
       "layout": "IPY_MODEL_85c9ae2c1d1846898194e5b044376c53",
       "placeholder": "​",
       "style": "IPY_MODEL_c9237f000bab4064b82ecf7b1d291c56",
       "tabbable": null,
       "tooltip": null,
       "value": "<h5><a href=\"https://github.com/jupyterlab/jupyterlab-latex\">jupyterlab/jupyterlab-latex</a></h5>\n<ul>\n<li><a href=\"https://github.com/jupyterlab/jupyterlab-latex/issues/249\">(#249)</a>: <em>MY ENTIRE HOME DIRECTORY WAS OBLITERATED BECAUSE OF THIS EXTENSION!! UNBELIEVABLE!!!</em> by <strong><a href=\"https://github.com/dogganon\">@dogganon</a></strong></li>\n<li><a href=\"https://github.com/jupyterlab/jupyterlab-latex/issues/153\">(#153)</a>: <em>Suggestion: tab replace commands with unicode math symbols</em> by <strong><a href=\"https://github.com/gjvnq\">@gjvnq</a></strong></li>\n</ul>"
      }
     },
     "104c69a9369c44abb2d4a1e5f0462946": {
      "model_module": "@jupyter-widgets/base",
      "model_module_version": "2.0.0",
      "model_name": "LayoutModel",
      "state": {
       "_model_module": "@jupyter-widgets/base",
       "_model_module_version": "2.0.0",
       "_model_name": "LayoutModel",
       "_view_count": null,
       "_view_module": "@jupyter-widgets/base",
       "_view_module_version": "2.0.0",
       "_view_name": "LayoutView",
       "align_content": null,
       "align_items": null,
       "align_self": null,
       "border_bottom": null,
       "border_left": null,
       "border_right": null,
       "border_top": null,
       "bottom": null,
       "display": null,
       "flex": null,
       "flex_flow": null,
       "grid_area": null,
       "grid_auto_columns": null,
       "grid_auto_flow": null,
       "grid_auto_rows": null,
       "grid_column": null,
       "grid_gap": null,
       "grid_row": null,
       "grid_template_areas": null,
       "grid_template_columns": null,
       "grid_template_rows": null,
       "height": null,
       "justify_content": null,
       "justify_items": null,
       "left": null,
       "margin": null,
       "max_height": null,
       "max_width": null,
       "min_height": null,
       "min_width": null,
       "object_fit": null,
       "object_position": null,
       "order": null,
       "overflow": null,
       "padding": null,
       "right": null,
       "top": null,
       "visibility": null,
       "width": null
      }
     },
     "148bc05d1e0b4aacb61d364856edecce": {
      "model_module": "@jupyter-widgets/controls",
      "model_module_version": "2.0.0",
      "model_name": "HTMLModel",
      "state": {
       "_dom_classes": [],
       "_model_module": "@jupyter-widgets/controls",
       "_model_module_version": "2.0.0",
       "_model_name": "HTMLModel",
       "_view_count": null,
       "_view_module": "@jupyter-widgets/controls",
       "_view_module_version": "2.0.0",
       "_view_name": "HTMLView",
       "description": "",
       "description_allow_html": false,
       "layout": "IPY_MODEL_b0e48b50a2344bdfa25fac2d355a56da",
       "placeholder": "​",
       "style": "IPY_MODEL_2505b4ba823d4dd38b994fd08d536f11",
       "tabbable": null,
       "tooltip": null,
       "value": "<h5><a href=\"https://github.com/jupyterlab/jupyter-ai\">jupyterlab/jupyter-ai</a></h5>\n<ul>\n<li><a href=\"https://github.com/jupyterlab/jupyter-ai/issues/1259\">(#1259)</a>: <em>Bug?: Can't copy response to clipboard</em> by <strong><a href=\"https://github.com/wkvolkman\">@wkvolkman</a></strong></li>\n<li><a href=\"https://github.com/jupyterlab/jupyter-ai/issues/1291\">(#1291)</a>: <em>Unable to load Q chat using amazon-sagemaker-jupyter-ai-q-developer and Jupyter AI 2.31.0</em> by <strong><a href=\"https://github.com/sdharani91\">@sdharani91</a></strong></li>\n<li><a href=\"https://github.com/jupyterlab/jupyter-ai/issues/1261\">(#1261)</a>: <em>Bug: Model field inputs are coupled in Settings UI</em> by <strong><a href=\"https://github.com/VicaYang\">@VicaYang</a></strong></li>\n<li><a href=\"https://github.com/jupyterlab/jupyter-ai/issues/1293\">(#1293)</a>: <em>[v3] Various chat handler and usability issues in the current <code>jupyterlab-chat</code></em> by <strong><a href=\"https://github.com/srdas\">@srdas</a></strong></li>\n<li><a href=\"https://github.com/jupyterlab/jupyter-ai/issues/1308\">(#1308)</a>: <em>Error on chat openai with litellm api for self hosted llm</em> by <strong><a href=\"https://github.com/Christhian16\">@Christhian16</a></strong></li>\n</ul>"
      }
     },
     "195c6b6f75b245b28f66dae14047d64d": {
      "model_module": "@jupyter-widgets/base",
      "model_module_version": "2.0.0",
      "model_name": "LayoutModel",
      "state": {
       "_model_module": "@jupyter-widgets/base",
       "_model_module_version": "2.0.0",
       "_model_name": "LayoutModel",
       "_view_count": null,
       "_view_module": "@jupyter-widgets/base",
       "_view_module_version": "2.0.0",
       "_view_name": "LayoutView",
       "align_content": null,
       "align_items": null,
       "align_self": null,
       "border_bottom": null,
       "border_left": null,
       "border_right": null,
       "border_top": null,
       "bottom": null,
       "display": null,
       "flex": null,
       "flex_flow": null,
       "grid_area": null,
       "grid_auto_columns": null,
       "grid_auto_flow": null,
       "grid_auto_rows": null,
       "grid_column": null,
       "grid_gap": null,
       "grid_row": null,
       "grid_template_areas": null,
       "grid_template_columns": null,
       "grid_template_rows": null,
       "height": null,
       "justify_content": null,
       "justify_items": null,
       "left": null,
       "margin": null,
       "max_height": null,
       "max_width": null,
       "min_height": null,
       "min_width": null,
       "object_fit": null,
       "object_position": null,
       "order": null,
       "overflow": null,
       "padding": null,
       "right": null,
       "top": null,
       "visibility": null,
       "width": null
      }
     },
     "1ca64f079e914299a9e8b1759ba61f01": {
      "model_module": "@jupyter-widgets/base",
      "model_module_version": "2.0.0",
      "model_name": "LayoutModel",
      "state": {
       "_model_module": "@jupyter-widgets/base",
       "_model_module_version": "2.0.0",
       "_model_name": "LayoutModel",
       "_view_count": null,
       "_view_module": "@jupyter-widgets/base",
       "_view_module_version": "2.0.0",
       "_view_name": "LayoutView",
       "align_content": null,
       "align_items": null,
       "align_self": null,
       "border_bottom": null,
       "border_left": null,
       "border_right": null,
       "border_top": null,
       "bottom": null,
       "display": null,
       "flex": null,
       "flex_flow": null,
       "grid_area": null,
       "grid_auto_columns": null,
       "grid_auto_flow": null,
       "grid_auto_rows": null,
       "grid_column": null,
       "grid_gap": null,
       "grid_row": null,
       "grid_template_areas": null,
       "grid_template_columns": null,
       "grid_template_rows": null,
       "height": null,
       "justify_content": null,
       "justify_items": null,
       "left": null,
       "margin": null,
       "max_height": null,
       "max_width": null,
       "min_height": null,
       "min_width": null,
       "object_fit": null,
       "object_position": null,
       "order": null,
       "overflow": null,
       "padding": null,
       "right": null,
       "top": null,
       "visibility": null,
       "width": null
      }
     },
     "1dd07e5e80f148c5bb58b20cf01bae6e": {
      "model_module": "@jupyter-widgets/controls",
      "model_module_version": "2.0.0",
      "model_name": "HTMLStyleModel",
      "state": {
       "_model_module": "@jupyter-widgets/controls",
       "_model_module_version": "2.0.0",
       "_model_name": "HTMLStyleModel",
       "_view_count": null,
       "_view_module": "@jupyter-widgets/base",
       "_view_module_version": "2.0.0",
       "_view_name": "StyleView",
       "background": null,
       "description_width": "",
       "font_size": null,
       "text_color": null
      }
     },
     "2505b4ba823d4dd38b994fd08d536f11": {
      "model_module": "@jupyter-widgets/controls",
      "model_module_version": "2.0.0",
      "model_name": "HTMLStyleModel",
      "state": {
       "_model_module": "@jupyter-widgets/controls",
       "_model_module_version": "2.0.0",
       "_model_name": "HTMLStyleModel",
       "_view_count": null,
       "_view_module": "@jupyter-widgets/base",
       "_view_module_version": "2.0.0",
       "_view_name": "StyleView",
       "background": null,
       "description_width": "",
       "font_size": null,
       "text_color": null
      }
     },
     "28850244f9a44c4f85d626e6f0172730": {
      "model_module": "@jupyter-widgets/base",
      "model_module_version": "2.0.0",
      "model_name": "LayoutModel",
      "state": {
       "_model_module": "@jupyter-widgets/base",
       "_model_module_version": "2.0.0",
       "_model_name": "LayoutModel",
       "_view_count": null,
       "_view_module": "@jupyter-widgets/base",
       "_view_module_version": "2.0.0",
       "_view_name": "LayoutView",
       "align_content": null,
       "align_items": null,
       "align_self": null,
       "border_bottom": null,
       "border_left": null,
       "border_right": null,
       "border_top": null,
       "bottom": null,
       "display": null,
       "flex": null,
       "flex_flow": null,
       "grid_area": null,
       "grid_auto_columns": null,
       "grid_auto_flow": null,
       "grid_auto_rows": null,
       "grid_column": null,
       "grid_gap": null,
       "grid_row": null,
       "grid_template_areas": null,
       "grid_template_columns": null,
       "grid_template_rows": null,
       "height": null,
       "justify_content": null,
       "justify_items": null,
       "left": null,
       "margin": null,
       "max_height": null,
       "max_width": null,
       "min_height": null,
       "min_width": null,
       "object_fit": null,
       "object_position": null,
       "order": null,
       "overflow": null,
       "padding": null,
       "right": null,
       "top": null,
       "visibility": null,
       "width": null
      }
     },
     "2ce4f184cfc34971a18f27f4383f63b5": {
      "model_module": "@jupyter-widgets/controls",
      "model_module_version": "2.0.0",
      "model_name": "HTMLStyleModel",
      "state": {
       "_model_module": "@jupyter-widgets/controls",
       "_model_module_version": "2.0.0",
       "_model_name": "HTMLStyleModel",
       "_view_count": null,
       "_view_module": "@jupyter-widgets/base",
       "_view_module_version": "2.0.0",
       "_view_name": "StyleView",
       "background": null,
       "description_width": "",
       "font_size": null,
       "text_color": null
      }
     },
     "3177baa3d794445594ff10a27f283514": {
      "model_module": "@jupyter-widgets/controls",
      "model_module_version": "2.0.0",
      "model_name": "HTMLModel",
      "state": {
       "_dom_classes": [],
       "_model_module": "@jupyter-widgets/controls",
       "_model_module_version": "2.0.0",
       "_model_name": "HTMLModel",
       "_view_count": null,
       "_view_module": "@jupyter-widgets/controls",
       "_view_module_version": "2.0.0",
       "_view_name": "HTMLView",
       "description": "",
       "description_allow_html": false,
       "layout": "IPY_MODEL_a59c7c74539a40c4ac439481b9c46577",
       "placeholder": "​",
       "style": "IPY_MODEL_a2641221f5dd4b1390e6aa67cd6cb417",
       "tabbable": null,
       "tooltip": null,
       "value": "<h5><a href=\"https://github.com/jupyterlab/jupyterlab-desktop\">jupyterlab/jupyterlab-desktop</a></h5>\n<ul>\n<li><a href=\"https://github.com/jupyterlab/jupyterlab-desktop/issues/890\">(#890)</a>: <em>Should we archive this project?</em> by <strong><a href=\"https://github.com/krassowski\">@krassowski</a></strong></li>\n<li><a href=\"https://github.com/jupyterlab/jupyterlab-desktop/issues/888\">(#888)</a>: <em>[macOS] App CLI is not executable Error: EACCES: permission denied</em> by <strong><a href=\"https://github.com/lewisl\">@lewisl</a></strong></li>\n<li><a href=\"https://github.com/jupyterlab/jupyterlab-desktop/issues/885\">(#885)</a>: <em>bug when commenting out code ( see vid )</em> by <strong><a href=\"https://github.com/mreisbeck2\">@mreisbeck2</a></strong></li>\n<li><a href=\"https://github.com/jupyterlab/jupyterlab-desktop/issues/891\">(#891)</a>: <em>Improve documentation for running alternative kernels</em> by <strong><a href=\"https://github.com/Ahri-man\">@Ahri-man</a></strong></li>\n<li><a href=\"https://github.com/jupyterlab/jupyterlab-desktop/issues/894\">(#894)</a>: <em>disappearing code from the window (refresh sometimes helps)</em> by <strong><a href=\"https://github.com/aakhmetz\">@aakhmetz</a></strong></li>\n</ul>"
      }
     },
     "33c57e97602d48f482df51c3ea470f80": {
      "model_module": "@jupyter-widgets/base",
      "model_module_version": "2.0.0",
      "model_name": "LayoutModel",
      "state": {
       "_model_module": "@jupyter-widgets/base",
       "_model_module_version": "2.0.0",
       "_model_name": "LayoutModel",
       "_view_count": null,
       "_view_module": "@jupyter-widgets/base",
       "_view_module_version": "2.0.0",
       "_view_name": "LayoutView",
       "align_content": null,
       "align_items": null,
       "align_self": null,
       "border_bottom": null,
       "border_left": null,
       "border_right": null,
       "border_top": null,
       "bottom": null,
       "display": null,
       "flex": null,
       "flex_flow": null,
       "grid_area": null,
       "grid_auto_columns": null,
       "grid_auto_flow": null,
       "grid_auto_rows": null,
       "grid_column": null,
       "grid_gap": null,
       "grid_row": null,
       "grid_template_areas": null,
       "grid_template_columns": null,
       "grid_template_rows": null,
       "height": null,
       "justify_content": null,
       "justify_items": null,
       "left": null,
       "margin": null,
       "max_height": null,
       "max_width": null,
       "min_height": null,
       "min_width": null,
       "object_fit": null,
       "object_position": null,
       "order": null,
       "overflow": null,
       "padding": null,
       "right": null,
       "top": null,
       "visibility": null,
       "width": null
      }
     },
     "39849e4f1e314a6585bc571f9b153fdc": {
      "model_module": "@jupyter-widgets/controls",
      "model_module_version": "2.0.0",
      "model_name": "HTMLStyleModel",
      "state": {
       "_model_module": "@jupyter-widgets/controls",
       "_model_module_version": "2.0.0",
       "_model_name": "HTMLStyleModel",
       "_view_count": null,
       "_view_module": "@jupyter-widgets/base",
       "_view_module_version": "2.0.0",
       "_view_name": "StyleView",
       "background": null,
       "description_width": "",
       "font_size": null,
       "text_color": null
      }
     },
     "3b64bc684f2843de971e43905cc7229a": {
      "model_module": "@jupyter-widgets/controls",
      "model_module_version": "2.0.0",
      "model_name": "HTMLModel",
      "state": {
       "_dom_classes": [],
       "_model_module": "@jupyter-widgets/controls",
       "_model_module_version": "2.0.0",
       "_model_name": "HTMLModel",
       "_view_count": null,
       "_view_module": "@jupyter-widgets/controls",
       "_view_module_version": "2.0.0",
       "_view_name": "HTMLView",
       "description": "",
       "description_allow_html": false,
       "layout": "IPY_MODEL_3d1271ece3ee4ca6bf4c0900d7bf2bfc",
       "placeholder": "​",
       "style": "IPY_MODEL_fb063dfca8f24a39904a476ab4263661",
       "tabbable": null,
       "tooltip": null,
       "value": "<h4>Closed PRs for repo: <a href=\"https://github.com/jupyterlab/frontends-team-compass\">jupyterlab/frontends-team-compass</a></h4>\n<h5></h5>\n<ul>\n<li><a href=\"https://github.com/jupyterlab/frontends-team-compass/issues/276\">(#276)</a>: <em>Update SSC representative</em> by <strong><a href=\"https://github.com/jtpio\">@jtpio</a></strong> merged by <strong><a href=\"https://github.com/jtpio\">@jtpio</a></strong></li>\n</ul>"
      }
     },
     "3d1271ece3ee4ca6bf4c0900d7bf2bfc": {
      "model_module": "@jupyter-widgets/base",
      "model_module_version": "2.0.0",
      "model_name": "LayoutModel",
      "state": {
       "_model_module": "@jupyter-widgets/base",
       "_model_module_version": "2.0.0",
       "_model_name": "LayoutModel",
       "_view_count": null,
       "_view_module": "@jupyter-widgets/base",
       "_view_module_version": "2.0.0",
       "_view_name": "LayoutView",
       "align_content": null,
       "align_items": null,
       "align_self": null,
       "border_bottom": null,
       "border_left": null,
       "border_right": null,
       "border_top": null,
       "bottom": null,
       "display": null,
       "flex": null,
       "flex_flow": null,
       "grid_area": null,
       "grid_auto_columns": null,
       "grid_auto_flow": null,
       "grid_auto_rows": null,
       "grid_column": null,
       "grid_gap": null,
       "grid_row": null,
       "grid_template_areas": null,
       "grid_template_columns": null,
       "grid_template_rows": null,
       "height": null,
       "justify_content": null,
       "justify_items": null,
       "left": null,
       "margin": null,
       "max_height": null,
       "max_width": null,
       "min_height": null,
       "min_width": null,
       "object_fit": null,
       "object_position": null,
       "order": null,
       "overflow": null,
       "padding": null,
       "right": null,
       "top": null,
       "visibility": null,
       "width": null
      }
     },
     "43972071eb47420b9b859999e84e89ae": {
      "model_module": "@jupyter-widgets/controls",
      "model_module_version": "2.0.0",
      "model_name": "HTMLModel",
      "state": {
       "_dom_classes": [],
       "_model_module": "@jupyter-widgets/controls",
       "_model_module_version": "2.0.0",
       "_model_name": "HTMLModel",
       "_view_count": null,
       "_view_module": "@jupyter-widgets/controls",
       "_view_module_version": "2.0.0",
       "_view_name": "HTMLView",
       "description": "",
       "description_allow_html": false,
       "layout": "IPY_MODEL_93052b180e314665b1bc3fb24ae946eb",
       "placeholder": "​",
       "style": "IPY_MODEL_43e5b453ca8a4ddaadfadbf11e752f64",
       "tabbable": null,
       "tooltip": null,
       "value": "<h5><a href=\"https://github.com/jupyterlab/frontends-team-compass\">jupyterlab/frontends-team-compass</a></h5>\n<ul>\n<li><a href=\"https://github.com/jupyterlab/frontends-team-compass/issues/266\">(#266)</a>: <em>Weekly Team Meetings: Jan–Jun 2025</em> by <strong><a href=\"https://github.com/jtpio\">@jtpio</a></strong></li>\n<li><a href=\"https://github.com/jupyterlab/frontends-team-compass/issues/268\">(#268)</a>: <em>Weekly Triage meetings: Jan–Dec 2025</em> by <strong><a href=\"https://github.com/RRosio\">@RRosio</a></strong></li>\n<li><a href=\"https://github.com/jupyterlab/frontends-team-compass/issues/275\">(#275)</a>: <em>JupyterLab 4.4 bug bash proposal for March 26 Jupyter Frontends call</em> by <strong><a href=\"https://github.com/andrii-i\">@andrii-i</a></strong></li>\n</ul>"
      }
     },
     "43e5b453ca8a4ddaadfadbf11e752f64": {
      "model_module": "@jupyter-widgets/controls",
      "model_module_version": "2.0.0",
      "model_name": "HTMLStyleModel",
      "state": {
       "_model_module": "@jupyter-widgets/controls",
       "_model_module_version": "2.0.0",
       "_model_name": "HTMLStyleModel",
       "_view_count": null,
       "_view_module": "@jupyter-widgets/base",
       "_view_module_version": "2.0.0",
       "_view_name": "StyleView",
       "background": null,
       "description_width": "",
       "font_size": null,
       "text_color": null
      }
     },
     "4b6d4dfed0d34d80be10705dddc05e68": {
      "model_module": "@jupyter-widgets/controls",
      "model_module_version": "2.0.0",
      "model_name": "HTMLModel",
      "state": {
       "_dom_classes": [],
       "_model_module": "@jupyter-widgets/controls",
       "_model_module_version": "2.0.0",
       "_model_name": "HTMLModel",
       "_view_count": null,
       "_view_module": "@jupyter-widgets/controls",
       "_view_module_version": "2.0.0",
       "_view_name": "HTMLView",
       "description": "",
       "description_allow_html": false,
       "layout": "IPY_MODEL_28850244f9a44c4f85d626e6f0172730",
       "placeholder": "​",
       "style": "IPY_MODEL_70cc6a315099475298cab05616de1f02",
       "tabbable": null,
       "tooltip": null,
       "value": "<h4>Closed PRs for repo: <a href=\"https://github.com/jupyterlab/jupyterlab-desktop\">jupyterlab/jupyterlab-desktop</a></h4>\n<h5></h5>\n<ul>\n<li><a href=\"https://github.com/jupyterlab/jupyterlab-desktop/issues/889\">(#889)</a>: <em>Create DataScienceEcoystem</em> by <strong><a href=\"https://github.com/Guillermovasco\">@Guillermovasco</a></strong> merged by <strong><a href=\"https://github.com/krassowski\">@krassowski</a></strong></li>\n</ul>"
      }
     },
     "5148e8d38c994c168efc017cfa374875": {
      "model_module": "@jupyter-widgets/controls",
      "model_module_version": "2.0.0",
      "model_name": "TabModel",
      "state": {
       "_dom_classes": [],
       "_model_module": "@jupyter-widgets/controls",
       "_model_module_version": "2.0.0",
       "_model_name": "TabModel",
       "_view_count": null,
       "_view_module": "@jupyter-widgets/controls",
       "_view_module_version": "2.0.0",
       "_view_name": "TabView",
       "box_style": "",
       "children": [
        "IPY_MODEL_b3bb20d7cd0c4392a66354b8728a557e",
        "IPY_MODEL_8d3c94d32a8a48cebccee654e11ad0a0",
        "IPY_MODEL_03cd21f0644a4979bfc82f398c5a518b",
        "IPY_MODEL_d4c36cac0f1a470caf1c779eceaf3360",
        "IPY_MODEL_0b41e3d6f11b42ab8cb961d073a1b135",
        "IPY_MODEL_65b866de5cc248c98986aad3f3f26b7e",
        "IPY_MODEL_9e658fda04f9452b9c40db595c6509ca",
        "IPY_MODEL_a94fde7ffb85472f9f5980ec947c3c84"
       ],
       "layout": "IPY_MODEL_104c69a9369c44abb2d4a1e5f0462946",
       "selected_index": 0,
       "tabbable": null,
       "titles": [
        "extension-examples",
        "frontends-team-compass",
        "jupyter-ai",
        "jupyter-collaboration",
        "jupyterlab-desktop",
        "jupyterlab-git",
        "jupyterlab-latex",
        "lumino"
       ],
       "tooltip": null
      }
     },
     "531c4b77ef4444c696180b8d9c4708d9": {
      "model_module": "@jupyter-widgets/controls",
      "model_module_version": "2.0.0",
      "model_name": "HTMLStyleModel",
      "state": {
       "_model_module": "@jupyter-widgets/controls",
       "_model_module_version": "2.0.0",
       "_model_name": "HTMLStyleModel",
       "_view_count": null,
       "_view_module": "@jupyter-widgets/base",
       "_view_module_version": "2.0.0",
       "_view_name": "StyleView",
       "background": null,
       "description_width": "",
       "font_size": null,
       "text_color": null
      }
     },
     "58ddb98ee2a345ddb6c543c56e658cc2": {
      "model_module": "@jupyter-widgets/controls",
      "model_module_version": "2.0.0",
      "model_name": "HTMLModel",
      "state": {
       "_dom_classes": [],
       "_model_module": "@jupyter-widgets/controls",
       "_model_module_version": "2.0.0",
       "_model_name": "HTMLModel",
       "_view_count": null,
       "_view_module": "@jupyter-widgets/controls",
       "_view_module_version": "2.0.0",
       "_view_name": "HTMLView",
       "description": "",
       "description_allow_html": false,
       "layout": "IPY_MODEL_8082f036162b4eb7ac27ec895a3917d5",
       "placeholder": "​",
       "style": "IPY_MODEL_ddb46e7dd328455d81fb909f9f91778f",
       "tabbable": null,
       "tooltip": null,
       "value": "<h4>Closed PRs for repo: <a href=\"https://github.com/jupyterlab/jupyterlab\">jupyterlab/jupyterlab</a></h4>\n<h5></h5>\n<ul>\n<li><a href=\"https://github.com/jupyterlab/jupyterlab/issues/17155\">(#17155)</a>: <em>Fix: Corrected ARIA Labels on MainAreaWidget.ts to show Context-Specific Content</em> by <strong><a href=\"https://github.com/hxrshxz\">@hxrshxz</a></strong> merged by <strong><a href=\"https://github.com/hxrshxz\">@hxrshxz</a></strong></li>\n<li><a href=\"https://github.com/jupyterlab/jupyterlab/issues/17162\">(#17162)</a>: <em>Heuristic for cell height now considers preferred text output types</em> by <strong><a href=\"https://github.com/hxrshxz\">@hxrshxz</a></strong> merged by <strong><a href=\"https://github.com/hxrshxz\">@hxrshxz</a></strong></li>\n<li><a href=\"https://github.com/jupyterlab/jupyterlab/issues/17194\">(#17194)</a>: <em>Fix for issue preventing cell metadata removal</em> by <strong><a href=\"https://github.com/itsmevichu\">@itsmevichu</a></strong> merged by <strong><a href=\"https://github.com/krassowski\">@krassowski</a></strong></li>\n<li><a href=\"https://github.com/jupyterlab/jupyterlab/issues/17210\">(#17210)</a>: <em>Fix browser tab name updates when started in single-document mode</em> by <strong><a href=\"https://github.com/Darshan808\">@Darshan808</a></strong> merged by <strong><a href=\"https://github.com/krassowski\">@krassowski</a></strong></li>\n<li><a href=\"https://github.com/jupyterlab/jupyterlab/issues/17217\">(#17217)</a>: <em>Improve UX for \"Rename on First Save\" Dialog</em> by <strong><a href=\"https://github.com/MUFFANUJ\">@MUFFANUJ</a></strong> merged by <strong><a href=\"https://github.com/krassowski\">@krassowski</a></strong></li>\n<li><a href=\"https://github.com/jupyterlab/jupyterlab/issues/17298\">(#17298)</a>: <em>Updated enabling logic for run-all-below button on Notebook Panel</em> by <strong><a href=\"https://github.com/rsaditya01\">@rsaditya01</a></strong> merged by <strong><a href=\"https://github.com/krassowski\">@krassowski</a></strong></li>\n<li><a href=\"https://github.com/jupyterlab/jupyterlab/issues/17308\">(#17308)</a>: <em>Backport PR #17305 on branch 4.3.x (Bump dompurify to 3.2.4)</em> by <strong><a href=\"https://github.com/krassowski\">@krassowski</a></strong> merged by <strong><a href=\"https://github.com/krassowski\">@krassowski</a></strong></li>\n<li><a href=\"https://github.com/jupyterlab/jupyterlab/issues/17309\">(#17309)</a>: <em>Backport PR #17305 on branch 4.2.x (Bump dompurify to 3.2.4)</em> by <strong><a href=\"https://github.com/krassowski\">@krassowski</a></strong> merged by <strong><a href=\"https://github.com/krassowski\">@krassowski</a></strong></li>\n<li><a href=\"https://github.com/jupyterlab/jupyterlab/issues/17313\">(#17313)</a>: <em>Backport PR #17295 on branch 4.2.x (Bump vega from 5.24.0 to 5.26.0)</em> by <strong><a href=\"https://github.com/meeseeksmachine\">@meeseeksmachine</a></strong> merged by <strong><a href=\"https://github.com/krassowski\">@krassowski</a></strong></li>\n<li><a href=\"https://github.com/jupyterlab/jupyterlab/issues/17314\">(#17314)</a>: <em>Backport PR #17295 on branch 4.3.x (Bump vega from 5.24.0 to 5.26.0)</em> by <strong><a href=\"https://github.com/meeseeksmachine\">@meeseeksmachine</a></strong> merged by <strong><a href=\"https://github.com/krassowski\">@krassowski</a></strong></li>\n<li><a href=\"https://github.com/jupyterlab/jupyterlab/issues/17319\">(#17319)</a>: <em>Bump <code>semver</code> and <code>tough-cookie</code> to non-vulnerable versions</em> by <strong><a href=\"https://github.com/dlqqq\">@dlqqq</a></strong> merged by <strong><a href=\"https://github.com/krassowski\">@krassowski</a></strong></li>\n<li><a href=\"https://github.com/jupyterlab/jupyterlab/issues/17322\">(#17322)</a>: <em>Fix handling of a <code>null</code> banner in the code console</em> by <strong><a href=\"https://github.com/jtpio\">@jtpio</a></strong> merged by <strong><a href=\"https://github.com/krassowski\">@krassowski</a></strong></li>\n<li><a href=\"https://github.com/jupyterlab/jupyterlab/issues/17323\">(#17323)</a>: <em>Fix typo in LSP console message on kernel change</em> by <strong><a href=\"https://github.com/iisakkirotko\">@iisakkirotko</a></strong> merged by <strong><a href=\"https://github.com/krassowski\">@krassowski</a></strong></li>\n<li><a href=\"https://github.com/jupyterlab/jupyterlab/issues/17325\">(#17325)</a>: <em>Provide <code>ITranslatorConnector</code> via a separate plugin</em> by <strong><a href=\"https://github.com/jtpio\">@jtpio</a></strong> merged by <strong><a href=\"https://github.com/krassowski\">@krassowski</a></strong></li>\n<li><a href=\"https://github.com/jupyterlab/jupyterlab/issues/17326\">(#17326)</a>: <em>Backport PR #17319 on branch 4.3.x (Bump semver and tough-cookie to non-vulnerable versions)</em> by <strong><a href=\"https://github.com/dlqqq\">@dlqqq</a></strong> merged by <strong><a href=\"https://github.com/krassowski\">@krassowski</a></strong></li>\n<li><a href=\"https://github.com/jupyterlab/jupyterlab/issues/17327\">(#17327)</a>: <em>Provide <code>ISettingsConnector</code> via a separate plugin</em> by <strong><a href=\"https://github.com/jtpio\">@jtpio</a></strong> merged by <strong><a href=\"https://github.com/krassowski\">@krassowski</a></strong></li>\n<li><a href=\"https://github.com/jupyterlab/jupyterlab/issues/17328\">(#17328)</a>: <em>Normalize translator plugin ids</em> by <strong><a href=\"https://github.com/jtpio\">@jtpio</a></strong> merged by <strong><a href=\"https://github.com/krassowski\">@krassowski</a></strong></li>\n<li><a href=\"https://github.com/jupyterlab/jupyterlab/issues/17329\">(#17329)</a>: <em>Use <code>ITranslationConnector</code> to fetch the translations</em> by <strong><a href=\"https://github.com/jtpio\">@jtpio</a></strong> merged by <strong><a href=\"https://github.com/jtpio\">@jtpio</a></strong></li>\n<li><a href=\"https://github.com/jupyterlab/jupyterlab/issues/17330\">(#17330)</a>: <em>Backport PR #17194 on branch 4.3.x (Fix for issue preventing cell metadata removal)</em> by <strong><a href=\"https://github.com/meeseeksmachine\">@meeseeksmachine</a></strong> merged by <strong><a href=\"https://github.com/krassowski\">@krassowski</a></strong></li>\n<li><a href=\"https://github.com/jupyterlab/jupyterlab/issues/17332\">(#17332)</a>: <em>Fix heading levels in extension migration guide</em> by <strong><a href=\"https://github.com/krassowski\">@krassowski</a></strong> merged by <strong><a href=\"https://github.com/jtpio\">@jtpio</a></strong></li>\n<li><a href=\"https://github.com/jupyterlab/jupyterlab/issues/17334\">(#17334)</a>: <em>Backport PR #16787 on branch 4.2.x (Replace link to accessiblity project with a link to accessiblity issues)</em> by <strong><a href=\"https://github.com/meeseeksmachine\">@meeseeksmachine</a></strong> merged by <strong><a href=\"https://github.com/krassowski\">@krassowski</a></strong></li>\n<li><a href=\"https://github.com/jupyterlab/jupyterlab/issues/17336\">(#17336)</a>: <em>Clarify documentation on bot privileges for updating snapshots</em> by <strong><a href=\"https://github.com/Princekumarofficial\">@Princekumarofficial</a></strong> merged by <strong><a href=\"https://github.com/krassowski\">@krassowski</a></strong></li>\n<li><a href=\"https://github.com/jupyterlab/jupyterlab/issues/17337\">(#17337)</a>: <em>Fix HTML lang attribute</em> by <strong><a href=\"https://github.com/fcollonval\">@fcollonval</a></strong> merged by <strong><a href=\"https://github.com/krassowski\">@krassowski</a></strong></li>\n<li><a href=\"https://github.com/jupyterlab/jupyterlab/issues/17338\">(#17338)</a>: <em>Enforce plugin name convention and rename noncompliant plugins</em> by <strong><a href=\"https://github.com/jtpio\">@jtpio</a></strong> merged by <strong><a href=\"https://github.com/krassowski\">@krassowski</a></strong></li>\n<li><a href=\"https://github.com/jupyterlab/jupyterlab/issues/17339\">(#17339)</a>: <em>Improve scrolling edge cases</em> by <strong><a href=\"https://github.com/krassowski\">@krassowski</a></strong> merged by <strong><a href=\"https://github.com/krassowski\">@krassowski</a></strong></li>\n<li><a href=\"https://github.com/jupyterlab/jupyterlab/issues/17341\">(#17341)</a>: <em>Backport PR #17319 on branch 4.2.x (Bump semver and tough-cookie to non-vulnerable versions)</em> by <strong><a href=\"https://github.com/dlqqq\">@dlqqq</a></strong> merged by <strong><a href=\"https://github.com/krassowski\">@krassowski</a></strong></li>\n<li><a href=\"https://github.com/jupyterlab/jupyterlab/issues/17343\">(#17343)</a>: <em>Fix checkbox alignment in dialog using <code>display: flex</code></em> by <strong><a href=\"https://github.com/SatyajitRedekar\">@SatyajitRedekar</a></strong> merged by <strong><a href=\"https://github.com/krassowski\">@krassowski</a></strong></li>\n<li><a href=\"https://github.com/jupyterlab/jupyterlab/issues/17345\">(#17345)</a>: <em>Expose <code>ConfigSectionManager</code> via a plugin</em> by <strong><a href=\"https://github.com/jtpio\">@jtpio</a></strong> merged by <strong><a href=\"https://github.com/krassowski\">@krassowski</a></strong></li>\n<li><a href=\"https://github.com/jupyterlab/jupyterlab/issues/17346\">(#17346)</a>: <em>Backport PR #17336 on branch 4.3.x (Clarify documentation on bot privileges for updating snapshots)</em> by <strong><a href=\"https://github.com/meeseeksmachine\">@meeseeksmachine</a></strong> merged by <strong><a href=\"https://github.com/jtpio\">@jtpio</a></strong></li>\n<li><a href=\"https://github.com/jupyterlab/jupyterlab/issues/17348\">(#17348)</a>: <em>Add <code>IKernelAPIClient</code> and <code>ISessionAPIClient</code> as options for <code>Kernel.IManager</code> and <code>Session.IManager</code></em> by <strong><a href=\"https://github.com/jtpio\">@jtpio</a></strong> merged by <strong><a href=\"https://github.com/krassowski\">@krassowski</a></strong></li>\n<li><a href=\"https://github.com/jupyterlab/jupyterlab/issues/17350\">(#17350)</a>: <em>Add widget ID arg to semantic command invocations</em> by <strong><a href=\"https://github.com/afshin\">@afshin</a></strong> merged by <strong><a href=\"https://github.com/afshin\">@afshin</a></strong></li>\n<li><a href=\"https://github.com/jupyterlab/jupyterlab/issues/17352\">(#17352)</a>: <em>Add a setting to disable the context menu</em> by <strong><a href=\"https://github.com/afshin\">@afshin</a></strong> merged by <strong><a href=\"https://github.com/krassowski\">@krassowski</a></strong></li>\n<li><a href=\"https://github.com/jupyterlab/jupyterlab/issues/17353\">(#17353)</a>: <em>Bump the actions group with 2 updates</em> by <strong><a href=\"https://github.com/dependabot[bot]\">@dependabot[bot]</a></strong> merged by <strong><a href=\"https://github.com/jtpio\">@jtpio</a></strong></li>\n<li><a href=\"https://github.com/jupyterlab/jupyterlab/issues/17357\">(#17357)</a>: <em>Backport PR #17298 on branch 4.3.x (Updated enabling logic for run-all-below button on Notebook Panel)</em> by <strong><a href=\"https://github.com/meeseeksmachine\">@meeseeksmachine</a></strong> merged by <strong><a href=\"https://github.com/jtpio\">@jtpio</a></strong></li>\n<li><a href=\"https://github.com/jupyterlab/jupyterlab/issues/17359\">(#17359)</a>: <em>Use \"Move to Trash\" over \"Delete\" when contents manager's <code>delete_to_trash</code> is <code>True</code></em> by <strong><a href=\"https://github.com/jesuino\">@jesuino</a></strong> merged by <strong><a href=\"https://github.com/krassowski\">@krassowski</a></strong></li>\n<li><a href=\"https://github.com/jupyterlab/jupyterlab/issues/17360\">(#17360)</a>: <em>[pre-commit.ci] pre-commit autoupdate</em> by <strong><a href=\"https://github.com/pre-commit-ci[bot]\">@pre-commit-ci[bot]</a></strong> merged by <strong><a href=\"https://github.com/jtpio\">@jtpio</a></strong></li>\n<li><a href=\"https://github.com/jupyterlab/jupyterlab/issues/17361\">(#17361)</a>: <em>Move the licenses plugin to <code>apputils-extension</code></em> by <strong><a href=\"https://github.com/jtpio\">@jtpio</a></strong> merged by <strong><a href=\"https://github.com/krassowski\">@krassowski</a></strong></li>\n<li><a href=\"https://github.com/jupyterlab/jupyterlab/issues/17363\">(#17363)</a>: <em>If subshells are supported by the kernel, send comm messages to subshells</em> by <strong><a href=\"https://github.com/martinRenou\">@martinRenou</a></strong> merged by <strong><a href=\"https://github.com/krassowski\">@krassowski</a></strong></li>\n<li><a href=\"https://github.com/jupyterlab/jupyterlab/issues/17364\">(#17364)</a>: <em>Sort the list of plugins and tokens in the documentation</em> by <strong><a href=\"https://github.com/jtpio\">@jtpio</a></strong> merged by <strong><a href=\"https://github.com/krassowski\">@krassowski</a></strong></li>\n<li><a href=\"https://github.com/jupyterlab/jupyterlab/issues/17367\">(#17367)</a>: <em>Require <code>JupyterLab.IInfo</code> for the plugin manager plugin</em> by <strong><a href=\"https://github.com/jtpio\">@jtpio</a></strong> merged by <strong><a href=\"https://github.com/jtpio\">@jtpio</a></strong></li>\n<li><a href=\"https://github.com/jupyterlab/jupyterlab/issues/17368\">(#17368)</a>: <em>User-facing changelog for 4.4</em> by <strong><a href=\"https://github.com/krassowski\">@krassowski</a></strong> merged by <strong><a href=\"https://github.com/jtpio\">@jtpio</a></strong></li>\n<li><a href=\"https://github.com/jupyterlab/jupyterlab/issues/17369\">(#17369)</a>: <em>Fix cell output stream if previous chunk did not end in new line</em> by <strong><a href=\"https://github.com/davidbrochart\">@davidbrochart</a></strong> merged by <strong><a href=\"https://github.com/krassowski\">@krassowski</a></strong></li>\n<li><a href=\"https://github.com/jupyterlab/jupyterlab/issues/17371\">(#17371)</a>: <em>Fix rendering URLs as linked in errors</em> by <strong><a href=\"https://github.com/afshin\">@afshin</a></strong> merged by <strong><a href=\"https://github.com/krassowski\">@krassowski</a></strong></li>\n<li><a href=\"https://github.com/jupyterlab/jupyterlab/issues/17372\">(#17372)</a>: <em>Update to Playwright 1.51.0</em> by <strong><a href=\"https://github.com/jtpio\">@jtpio</a></strong> merged by <strong><a href=\"https://github.com/jtpio\">@jtpio</a></strong></li>\n<li><a href=\"https://github.com/jupyterlab/jupyterlab/issues/17376\">(#17376)</a>: <em>Add pip as a dependency</em> by <strong><a href=\"https://github.com/simonw\">@simonw</a></strong> merged by <strong><a href=\"https://github.com/simonw\">@simonw</a></strong></li>\n<li><a href=\"https://github.com/jupyterlab/jupyterlab/issues/17379\">(#17379)</a>: <em>Update the copyright year to 2025</em> by <strong><a href=\"https://github.com/jtpio\">@jtpio</a></strong> merged by <strong><a href=\"https://github.com/krassowski\">@krassowski</a></strong></li>\n<li><a href=\"https://github.com/jupyterlab/jupyterlab/issues/17380\">(#17380)</a>: <em>Bump axios from 1.7.4 to 1.8.2</em> by <strong><a href=\"https://github.com/dependabot[bot]\">@dependabot[bot]</a></strong> merged by <strong><a href=\"https://github.com/jtpio\">@jtpio</a></strong></li>\n<li><a href=\"https://github.com/jupyterlab/jupyterlab/issues/17383\">(#17383)</a>: <em>[4.3.x] Update reference snapshots</em> by <strong><a href=\"https://github.com/jtpio\">@jtpio</a></strong> merged by <strong><a href=\"https://github.com/jtpio\">@jtpio</a></strong></li>\n<li><a href=\"https://github.com/jupyterlab/jupyterlab/issues/17384\">(#17384)</a>: <em>Bump @babel/runtime from 7.21.0 to 7.26.10 in /jupyterlab/staging</em> by <strong><a href=\"https://github.com/dependabot[bot]\">@dependabot[bot]</a></strong> merged by <strong><a href=\"https://github.com/jtpio\">@jtpio</a></strong></li>\n<li><a href=\"https://github.com/jupyterlab/jupyterlab/issues/17385\">(#17385)</a>: <em>Bump @babel/helpers from 7.21.0 to 7.26.10</em> by <strong><a href=\"https://github.com/dependabot[bot]\">@dependabot[bot]</a></strong> merged by <strong><a href=\"https://github.com/krassowski\">@krassowski</a></strong></li>\n<li><a href=\"https://github.com/jupyterlab/jupyterlab/issues/17387\">(#17387)</a>: <em>Bump nanoid from 3.3.7 to 3.3.9 in /jupyterlab/tests/mock_packages/test_no_hyphens</em> by <strong><a href=\"https://github.com/dependabot[bot]\">@dependabot[bot]</a></strong> merged by <strong><a href=\"https://github.com/krassowski\">@krassowski</a></strong></li>\n<li><a href=\"https://github.com/jupyterlab/jupyterlab/issues/17391\">(#17391)</a>: <em>Backport PR #17369 on branch 4.3.x (Fix cell output stream if previous chunk did not end in new line)</em> by <strong><a href=\"https://github.com/meeseeksmachine\">@meeseeksmachine</a></strong> merged by <strong><a href=\"https://github.com/krassowski\">@krassowski</a></strong></li>\n<li><a href=\"https://github.com/jupyterlab/jupyterlab/issues/17392\">(#17392)</a>: <em>Update changelog links, add new code console screenshot</em> by <strong><a href=\"https://github.com/jtpio\">@jtpio</a></strong> merged by <strong><a href=\"https://github.com/jtpio\">@jtpio</a></strong></li>\n<li><a href=\"https://github.com/jupyterlab/jupyterlab/issues/17395\">(#17395)</a>: <em>Add <code>IKernelSpecAPICLient</code> and <code>ITerminalAPIClient</code>, fix definitions of interfaces</em> by <strong><a href=\"https://github.com/jtpio\">@jtpio</a></strong> merged by <strong><a href=\"https://github.com/krassowski\">@krassowski</a></strong></li>\n<li><a href=\"https://github.com/jupyterlab/jupyterlab/issues/17396\">(#17396)</a>: <em>Update to mermaid 11.6.0, marked 15.0.7</em> by <strong><a href=\"https://github.com/bollwyvl\">@bollwyvl</a></strong> merged by <strong><a href=\"https://github.com/krassowski\">@krassowski</a></strong></li>\n<li><a href=\"https://github.com/jupyterlab/jupyterlab/issues/17397\">(#17397)</a>: <em>Fix definition of the <code>ILicensesClient</code> interface</em> by <strong><a href=\"https://github.com/jtpio\">@jtpio</a></strong> merged by <strong><a href=\"https://github.com/krassowski\">@krassowski</a></strong></li>\n<li><a href=\"https://github.com/jupyterlab/jupyterlab/issues/17398\">(#17398)</a>: <em>Remove workflow using <code>tj-actions/changed-files</code></em> by <strong><a href=\"https://github.com/jtpio\">@jtpio</a></strong> merged by <strong><a href=\"https://github.com/jtpio\">@jtpio</a></strong></li>\n<li><a href=\"https://github.com/jupyterlab/jupyterlab/issues/17399\">(#17399)</a>: <em>Remove workflow using <code>tj-actions/changed-files</code></em> by <strong><a href=\"https://github.com/jtpio\">@jtpio</a></strong> merged by <strong><a href=\"https://github.com/jtpio\">@jtpio</a></strong></li>\n<li><a href=\"https://github.com/jupyterlab/jupyterlab/issues/17400\">(#17400)</a>: <em>Remove workflow using <code>tj-actions/changed-files</code></em> by <strong><a href=\"https://github.com/jtpio\">@jtpio</a></strong> merged by <strong><a href=\"https://github.com/jtpio\">@jtpio</a></strong></li>\n<li><a href=\"https://github.com/jupyterlab/jupyterlab/issues/17401\">(#17401)</a>: <em>Remove workflow using <code>tj-actions/changed-files</code></em> by <strong><a href=\"https://github.com/jtpio\">@jtpio</a></strong> merged by <strong><a href=\"https://github.com/jtpio\">@jtpio</a></strong></li>\n<li><a href=\"https://github.com/jupyterlab/jupyterlab/issues/17402\">(#17402)</a>: <em>Remove workflow using <code>tj-actions/changed-files</code></em> by <strong><a href=\"https://github.com/jtpio\">@jtpio</a></strong> merged by <strong><a href=\"https://github.com/jtpio\">@jtpio</a></strong></li>\n<li><a href=\"https://github.com/jupyterlab/jupyterlab/issues/17404\">(#17404)</a>: <em>Backport PR #17371 on branch 4.3.x (Fix rendering URLs as linked in errors)</em> by <strong><a href=\"https://github.com/meeseeksmachine\">@meeseeksmachine</a></strong> merged by <strong><a href=\"https://github.com/krassowski\">@krassowski</a></strong></li>\n<li><a href=\"https://github.com/jupyterlab/jupyterlab/issues/17405\">(#17405)</a>: <em>Fix handling of the CSV viewer theme</em> by <strong><a href=\"https://github.com/jtpio\">@jtpio</a></strong> merged by <strong><a href=\"https://github.com/krassowski\">@krassowski</a></strong></li>\n<li><a href=\"https://github.com/jupyterlab/jupyterlab/issues/17408\">(#17408)</a>: <em>Allow <code>grid</code> and <code>flexbox</code> style attributes during Markdown/HTML sanitization</em> by <strong><a href=\"https://github.com/dotnetautor\">@dotnetautor</a></strong> merged by <strong><a href=\"https://github.com/krassowski\">@krassowski</a></strong></li>\n<li><a href=\"https://github.com/jupyterlab/jupyterlab/issues/17413\">(#17413)</a>: <em>More specific selector for \"Copy Output to Clipboard\"</em> by <strong><a href=\"https://github.com/jtpio\">@jtpio</a></strong> merged by <strong><a href=\"https://github.com/krassowski\">@krassowski</a></strong></li>\n<li><a href=\"https://github.com/jupyterlab/jupyterlab/issues/17414\">(#17414)</a>: <em>Fix types in translation package, remove usages of <code>any</code></em> by <strong><a href=\"https://github.com/krassowski\">@krassowski</a></strong> merged by <strong><a href=\"https://github.com/krassowski\">@krassowski</a></strong></li>\n<li><a href=\"https://github.com/jupyterlab/jupyterlab/issues/17415\">(#17415)</a>: <em>Create \"Kernels\" section, split statusbar settings</em> by <strong><a href=\"https://github.com/krassowski\">@krassowski</a></strong> merged by <strong><a href=\"https://github.com/krassowski\">@krassowski</a></strong></li>\n<li><a href=\"https://github.com/jupyterlab/jupyterlab/issues/17416\">(#17416)</a>: <em>Create Joey</em> by <strong><a href=\"https://github.com/ghost\">@ghost</a></strong> merged by <strong><a href=\"https://github.com/krassowski\">@krassowski</a></strong></li>\n<li><a href=\"https://github.com/jupyterlab/jupyterlab/issues/17418\">(#17418)</a>: <em>Backport PR #17413 on branch 4.3.x (More specific selector for \"Copy Output to Clipboard\")</em> by <strong><a href=\"https://github.com/meeseeksmachine\">@meeseeksmachine</a></strong> merged by <strong><a href=\"https://github.com/krassowski\">@krassowski</a></strong></li>\n<li><a href=\"https://github.com/jupyterlab/jupyterlab/issues/17421\">(#17421)</a>: <em>Fix for filebrowser tooltip rendering the kernel info repeatedly</em> by <strong><a href=\"https://github.com/itsmevichu\">@itsmevichu</a></strong> merged by <strong><a href=\"https://github.com/krassowski\">@krassowski</a></strong></li>\n<li><a href=\"https://github.com/jupyterlab/jupyterlab/issues/17429\">(#17429)</a>: <em>Fix document search matching text within unsupported SVG tags</em> by <strong><a href=\"https://github.com/achhina\">@achhina</a></strong> merged by <strong><a href=\"https://github.com/krassowski\">@krassowski</a></strong></li>\n<li><a href=\"https://github.com/jupyterlab/jupyterlab/issues/17430\">(#17430)</a>: <em>Make <code>ILabShell</code> optional in the logconsole extension</em> by <strong><a href=\"https://github.com/jtpio\">@jtpio</a></strong> merged by <strong><a href=\"https://github.com/krassowski\">@krassowski</a></strong></li>\n<li><a href=\"https://github.com/jupyterlab/jupyterlab/issues/17432\">(#17432)</a>: <em>fix: packages/docmanager/package.json to reduce vulnerabilities</em> by <strong><a href=\"https://github.com/YvesNDIKURIYO-2022\">@YvesNDIKURIYO-2022</a></strong> merged by <strong><a href=\"https://github.com/krassowski\">@krassowski</a></strong></li>\n<li><a href=\"https://github.com/jupyterlab/jupyterlab/issues/17436\">(#17436)</a>: <em>Bump vega from 5.31.0 to 5.32.0</em> by <strong><a href=\"https://github.com/dependabot[bot]\">@dependabot[bot]</a></strong> merged by <strong><a href=\"https://github.com/krassowski\">@krassowski</a></strong></li>\n<li><a href=\"https://github.com/jupyterlab/jupyterlab/issues/17437\">(#17437)</a>: <em>Fix usage of <code>ITerminalAPIClient</code> in <code>TerminalConnection</code></em> by <strong><a href=\"https://github.com/jtpio\">@jtpio</a></strong> merged by <strong><a href=\"https://github.com/jtpio\">@jtpio</a></strong></li>\n<li><a href=\"https://github.com/jupyterlab/jupyterlab/issues/17438\">(#17438)</a>: <em>Fix visual indication for drag and drop in editor</em> by <strong><a href=\"https://github.com/MUFFANUJ\">@MUFFANUJ</a></strong> merged by <strong><a href=\"https://github.com/krassowski\">@krassowski</a></strong></li>\n<li><a href=\"https://github.com/jupyterlab/jupyterlab/issues/17440\">(#17440)</a>: <em>Fix read-only indicator not showing in RTC docprovider</em> by <strong><a href=\"https://github.com/Darshan808\">@Darshan808</a></strong> merged by <strong><a href=\"https://github.com/krassowski\">@krassowski</a></strong></li>\n<li><a href=\"https://github.com/jupyterlab/jupyterlab/issues/17441\">(#17441)</a>: <em>Add distinct accessible aria label for each toolbar</em> by <strong><a href=\"https://github.com/nkn2022\">@nkn2022</a></strong> merged by <strong><a href=\"https://github.com/krassowski\">@krassowski</a></strong></li>\n<li><a href=\"https://github.com/jupyterlab/jupyterlab/issues/17442\">(#17442)</a>: <em>Fix CommandPalette gets re-rendered even if hidden</em> by <strong><a href=\"https://github.com/fcollonval\">@fcollonval</a></strong> merged by <strong><a href=\"https://github.com/krassowski\">@krassowski</a></strong></li>\n<li><a href=\"https://github.com/jupyterlab/jupyterlab/issues/17443\">(#17443)</a>: <em>Bump vega from 5.31.0 to 5.33.0 in /jupyterlab/staging</em> by <strong><a href=\"https://github.com/dependabot[bot]\">@dependabot[bot]</a></strong> merged by <strong><a href=\"https://github.com/krassowski\">@krassowski</a></strong></li>\n<li><a href=\"https://github.com/jupyterlab/jupyterlab/issues/17444\">(#17444)</a>: <em>Do not try to prettier <code>.mypy_cache</code></em> by <strong><a href=\"https://github.com/krassowski\">@krassowski</a></strong> merged by <strong><a href=\"https://github.com/jtpio\">@jtpio</a></strong></li>\n<li><a href=\"https://github.com/jupyterlab/jupyterlab/issues/17445\">(#17445)</a>: <em>Use the system clipboard for copying and pasting cells</em> by <strong><a href=\"https://github.com/yacchin1205\">@yacchin1205</a></strong> merged by <strong><a href=\"https://github.com/krassowski\">@krassowski</a></strong></li>\n<li><a href=\"https://github.com/jupyterlab/jupyterlab/issues/17448\">(#17448)</a>: <em>Bump nanoid from 3.3.7 to 3.3.11 in /jupyterlab/tests/mock_packages/test-hyphens-underscore</em> by <strong><a href=\"https://github.com/dependabot[bot]\">@dependabot[bot]</a></strong> merged by <strong><a href=\"https://github.com/krassowski\">@krassowski</a></strong></li>\n<li><a href=\"https://github.com/jupyterlab/jupyterlab/issues/17453\">(#17453)</a>: <em>Remove dependencies for Python &lt; 3.9</em> by <strong><a href=\"https://github.com/bnavigator\">@bnavigator</a></strong> merged by <strong><a href=\"https://github.com/jtpio\">@jtpio</a></strong></li>\n<li><a href=\"https://github.com/jupyterlab/jupyterlab/issues/17454\">(#17454)</a>: <em>[pre-commit.ci] pre-commit autoupdate</em> by <strong><a href=\"https://github.com/pre-commit-ci[bot]\">@pre-commit-ci[bot]</a></strong> merged by <strong><a href=\"https://github.com/jtpio\">@jtpio</a></strong></li>\n<li><a href=\"https://github.com/jupyterlab/jupyterlab/issues/17457\">(#17457)</a>: <em>Fix <code>@jupyterlab/services</code> import</em> by <strong><a href=\"https://github.com/jtpio\">@jtpio</a></strong> merged by <strong><a href=\"https://github.com/krassowski\">@krassowski</a></strong></li>\n<li><a href=\"https://github.com/jupyterlab/jupyterlab/issues/17463\">(#17463)</a>: <em>Backport PR #17429 on branch 4.3.x (Fix document search matching text within unsupported SVG tags)</em> by <strong><a href=\"https://github.com/meeseeksmachine\">@meeseeksmachine</a></strong> merged by <strong><a href=\"https://github.com/krassowski\">@krassowski</a></strong></li>\n<li><a href=\"https://github.com/jupyterlab/jupyterlab/issues/17466\">(#17466)</a>: <em>Fix incorrect modifications in collaborative save events</em> by <strong><a href=\"https://github.com/Darshan808\">@Darshan808</a></strong> merged by <strong><a href=\"https://github.com/krassowski\">@krassowski</a></strong></li>\n<li><a href=\"https://github.com/jupyterlab/jupyterlab/issues/17468\">(#17468)</a>: <em>Backport PR #17466 on branch 4.3.x (Fix incorrect modifications in collaborative save events)</em> by <strong><a href=\"https://github.com/meeseeksmachine\">@meeseeksmachine</a></strong> merged by <strong><a href=\"https://github.com/krassowski\">@krassowski</a></strong></li>\n<li><a href=\"https://github.com/jupyterlab/jupyterlab/issues/17469\">(#17469)</a>: <em>Follow changes to stream outputs</em> by <strong><a href=\"https://github.com/davidbrochart\">@davidbrochart</a></strong> merged by <strong><a href=\"https://github.com/krassowski\">@krassowski</a></strong></li>\n<li><a href=\"https://github.com/jupyterlab/jupyterlab/issues/17472\">(#17472)</a>: <em>Add <code>aria-hidden</code> to icons (<code>&lt;svg&gt;</code> elements) which do not have a <code>title</code></em> by <strong><a href=\"https://github.com/nkn2022\">@nkn2022</a></strong> merged by <strong><a href=\"https://github.com/krassowski\">@krassowski</a></strong></li>\n<li><a href=\"https://github.com/jupyterlab/jupyterlab/issues/17475\">(#17475)</a>: <em>Fix handling of the single click navigation</em> by <strong><a href=\"https://github.com/jtpio\">@jtpio</a></strong> merged by <strong><a href=\"https://github.com/afshin\">@afshin</a></strong></li>\n<li><a href=\"https://github.com/jupyterlab/jupyterlab/issues/17476\">(#17476)</a>: <em>Reorder <code>extra_labextensions_path</code> to favor defaults</em> by <strong><a href=\"https://github.com/peytondmurray\">@peytondmurray</a></strong> merged by <strong><a href=\"https://github.com/krassowski\">@krassowski</a></strong></li>\n<li><a href=\"https://github.com/jupyterlab/jupyterlab/issues/17477\">(#17477)</a>: <em>Fix token extraction for incomplete paths</em> by <strong><a href=\"https://github.com/DenisaCG\">@DenisaCG</a></strong> merged by <strong><a href=\"https://github.com/krassowski\">@krassowski</a></strong></li>\n<li><a href=\"https://github.com/jupyterlab/jupyterlab/issues/17481\">(#17481)</a>: <em>Add test for stream outputs</em> by <strong><a href=\"https://github.com/davidbrochart\">@davidbrochart</a></strong> merged by <strong><a href=\"https://github.com/davidbrochart\">@davidbrochart</a></strong></li>\n<li><a href=\"https://github.com/jupyterlab/jupyterlab/issues/17482\">(#17482)</a>: <em>Add an optional <code>exportAs</code> method to <code>NbConvert.IManager</code></em> by <strong><a href=\"https://github.com/jtpio\">@jtpio</a></strong> merged by <strong><a href=\"https://github.com/krassowski\">@krassowski</a></strong></li>\n<li><a href=\"https://github.com/jupyterlab/jupyterlab/issues/17483\">(#17483)</a>: <em>Update to Playwright 1.52.0</em> by <strong><a href=\"https://github.com/jtpio\">@jtpio</a></strong> merged by <strong><a href=\"https://github.com/jtpio\">@jtpio</a></strong></li>\n<li><a href=\"https://github.com/jupyterlab/jupyterlab/issues/17486\">(#17486)</a>: <em>Fix undo/redo in cells created in <code>none</code> windowing mode</em> by <strong><a href=\"https://github.com/krassowski\">@krassowski</a></strong> merged by <strong><a href=\"https://github.com/jtpio\">@jtpio</a></strong></li>\n<li><a href=\"https://github.com/jupyterlab/jupyterlab/issues/17487\">(#17487)</a>: <em>Add new CSS rule for expanding linked output to 100% height</em> by <strong><a href=\"https://github.com/SylvainCorlay\">@SylvainCorlay</a></strong> merged by <strong><a href=\"https://github.com/krassowski\">@krassowski</a></strong></li>\n<li><a href=\"https://github.com/jupyterlab/jupyterlab/issues/17491\">(#17491)</a>: <em>Bump @babel/runtime from 7.21.0 to 7.27.0</em> by <strong><a href=\"https://github.com/dependabot[bot]\">@dependabot[bot]</a></strong> merged by <strong><a href=\"https://github.com/krassowski\">@krassowski</a></strong></li>\n<li><a href=\"https://github.com/jupyterlab/jupyterlab/issues/17492\">(#17492)</a>: <em>Backport PR #17486 on branch 4.3.x (Fix undo/redo in cells created in none windowing mode)</em> by <strong><a href=\"https://github.com/krassowski\">@krassowski</a></strong> merged by <strong><a href=\"https://github.com/krassowski\">@krassowski</a></strong></li>\n<li><a href=\"https://github.com/jupyterlab/jupyterlab/issues/17494\">(#17494)</a>: <em>Bump webpack from 5.91.0 to 5.99.6 in /jupyterlab/tests/mock_packages/test_no_hyphens</em> by <strong><a href=\"https://github.com/dependabot[bot]\">@dependabot[bot]</a></strong> merged by <strong><a href=\"https://github.com/krassowski\">@krassowski</a></strong></li>\n<li><a href=\"https://github.com/jupyterlab/jupyterlab/issues/17495\">(#17495)</a>: <em>Bump webpack from 5.91.0 to 5.99.6 in /jupyterlab/tests/mock_packages/test-hyphens-underscore</em> by <strong><a href=\"https://github.com/dependabot[bot]\">@dependabot[bot]</a></strong> merged by <strong><a href=\"https://github.com/krassowski\">@krassowski</a></strong></li>\n<li><a href=\"https://github.com/jupyterlab/jupyterlab/issues/17499\">(#17499)</a>: <em>Bump ws from 8.16.0 to 8.18.1 in /jupyterlab/tests/mock_packages/test_no_hyphens</em> by <strong><a href=\"https://github.com/dependabot[bot]\">@dependabot[bot]</a></strong> merged by <strong><a href=\"https://github.com/krassowski\">@krassowski</a></strong></li>\n<li><a href=\"https://github.com/jupyterlab/jupyterlab/issues/17500\">(#17500)</a>: <em>Bump ws from 8.16.0 to 8.18.1 in /jupyterlab/tests/mock_packages/test-hyphens-underscore</em> by <strong><a href=\"https://github.com/dependabot[bot]\">@dependabot[bot]</a></strong> merged by <strong><a href=\"https://github.com/krassowski\">@krassowski</a></strong></li>\n<li><a href=\"https://github.com/jupyterlab/jupyterlab/issues/17502\">(#17502)</a>: <em>Bump tough-cookie from 4.1.2 to 4.1.4</em> by <strong><a href=\"https://github.com/dependabot[bot]\">@dependabot[bot]</a></strong> merged by <strong><a href=\"https://github.com/krassowski\">@krassowski</a></strong></li>\n<li><a href=\"https://github.com/jupyterlab/jupyterlab/issues/17503\">(#17503)</a>: <em>Backport PR #17502 on branch 4.4.x (Bump tough-cookie from 4.1.2 to 4.1.4)</em> by <strong><a href=\"https://github.com/meeseeksmachine\">@meeseeksmachine</a></strong> merged by <strong><a href=\"https://github.com/krassowski\">@krassowski</a></strong></li>\n<li><a href=\"https://github.com/jupyterlab/jupyterlab/issues/17505\">(#17505)</a>: <em>Add new entry to Postmortems in <code>RELEASE.md</code></em> by <strong><a href=\"https://github.com/jtpio\">@jtpio</a></strong> merged by <strong><a href=\"https://github.com/krassowski\">@krassowski</a></strong></li>\n<li><a href=\"https://github.com/jupyterlab/jupyterlab/issues/17511\">(#17511)</a>: <em>Fix editing shortcuts on Safari (allow shortcut edit button to receive focus)</em> by <strong><a href=\"https://github.com/minrk\">@minrk</a></strong> merged by <strong><a href=\"https://github.com/krassowski\">@krassowski</a></strong></li>\n<li><a href=\"https://github.com/jupyterlab/jupyterlab/issues/17512\">(#17512)</a>: <em>Backport PR #17511 on branch 4.3.x (Fix editing shortcuts on Safari (allow shortcut edit button to receive focus))</em> by <strong><a href=\"https://github.com/meeseeksmachine\">@meeseeksmachine</a></strong> merged by <strong><a href=\"https://github.com/jtpio\">@jtpio</a></strong></li>\n<li><a href=\"https://github.com/jupyterlab/jupyterlab/issues/17513\">(#17513)</a>: <em>Backport PR #17511 on branch 4.4.x (Fix editing shortcuts on Safari (allow shortcut edit button to receive focus))</em> by <strong><a href=\"https://github.com/meeseeksmachine\">@meeseeksmachine</a></strong> merged by <strong><a href=\"https://github.com/krassowski\">@krassowski</a></strong></li>\n<li><a href=\"https://github.com/jupyterlab/jupyterlab/issues/17519\">(#17519)</a>: <em>Update lower bound for <code>setuptools</code></em> by <strong><a href=\"https://github.com/jtpio\">@jtpio</a></strong> merged by <strong><a href=\"https://github.com/jtpio\">@jtpio</a></strong></li>\n<li><a href=\"https://github.com/jupyterlab/jupyterlab/issues/17520\">(#17520)</a>: <em>Backport PR #17219 on branch 4.3.x (Updated mock packages to use hatch-jupyter-builder)</em> by <strong><a href=\"https://github.com/meeseeksmachine\">@meeseeksmachine</a></strong> merged by <strong><a href=\"https://github.com/krassowski\">@krassowski</a></strong></li>\n<li><a href=\"https://github.com/jupyterlab/jupyterlab/issues/17522\">(#17522)</a>: <em>[4.3.x] Drop 3.8 from the testing matrix</em> by <strong><a href=\"https://github.com/jtpio\">@jtpio</a></strong> merged by <strong><a href=\"https://github.com/jtpio\">@jtpio</a></strong></li>\n<li><a href=\"https://github.com/jupyterlab/jupyterlab/issues/17523\">(#17523)</a>: <em>Backport PR #17472 on branch 4.4.x (Add <code>aria-hidden</code> to icons (<code>&lt;svg&gt;</code> elements) which do not have a <code>title</code>)</em> by <strong><a href=\"https://github.com/meeseeksmachine\">@meeseeksmachine</a></strong> merged by <strong><a href=\"https://github.com/krassowski\">@krassowski</a></strong></li>\n<li><a href=\"https://github.com/jupyterlab/jupyterlab/issues/17525\">(#17525)</a>: <em>Update lumino to <code>v2025.4.30</code> to pull menu aria fix</em> by <strong><a href=\"https://github.com/krassowski\">@krassowski</a></strong> merged by <strong><a href=\"https://github.com/krassowski\">@krassowski</a></strong></li>\n<li><a href=\"https://github.com/jupyterlab/jupyterlab/issues/17526\">(#17526)</a>: <em>Upgrade CodeMirror packages to latest</em> by <strong><a href=\"https://github.com/krassowski\">@krassowski</a></strong> merged by <strong><a href=\"https://github.com/krassowski\">@krassowski</a></strong></li>\n<li><a href=\"https://github.com/jupyterlab/jupyterlab/issues/17527\">(#17527)</a>: <em>Fix incorrect ARIA labels in the <code>MainAreaWidget</code></em> by <strong><a href=\"https://github.com/dnlzrgz\">@dnlzrgz</a></strong> merged by <strong><a href=\"https://github.com/krassowski\">@krassowski</a></strong></li>\n<li><a href=\"https://github.com/jupyterlab/jupyterlab/issues/17528\">(#17528)</a>: <em>Fix rendering of long cell editors in windowed notebook</em> by <strong><a href=\"https://github.com/krassowski\">@krassowski</a></strong> merged by <strong><a href=\"https://github.com/krassowski\">@krassowski</a></strong></li>\n<li><a href=\"https://github.com/jupyterlab/jupyterlab/issues/17529\">(#17529)</a>: <em>Bump actions/create-github-app-token from 1 to 2 in the actions group</em> by <strong><a href=\"https://github.com/dependabot[bot]\">@dependabot[bot]</a></strong> merged by <strong><a href=\"https://github.com/krassowski\">@krassowski</a></strong></li>\n<li><a href=\"https://github.com/jupyterlab/jupyterlab/issues/17531\">(#17531)</a>: <em>Backport PR #17528 on branch 4.4.x (Fix rendering of long cell editors in windowed notebook)</em> by <strong><a href=\"https://github.com/meeseeksmachine\">@meeseeksmachine</a></strong> merged by <strong><a href=\"https://github.com/krassowski\">@krassowski</a></strong></li>\n<li><a href=\"https://github.com/jupyterlab/jupyterlab/issues/17532\">(#17532)</a>: <em>Update widget flag on attaching cell to viewport</em> by <strong><a href=\"https://github.com/trungleduc\">@trungleduc</a></strong> merged by <strong><a href=\"https://github.com/krassowski\">@krassowski</a></strong></li>\n<li><a href=\"https://github.com/jupyterlab/jupyterlab/issues/17533\">(#17533)</a>: <em>Backport PR #17525 on branch 4.4.x (Update lumino to <code>v2025.4.30</code> to pull menu aria fix)</em> by <strong><a href=\"https://github.com/meeseeksmachine\">@meeseeksmachine</a></strong> merged by <strong><a href=\"https://github.com/krassowski\">@krassowski</a></strong></li>\n<li><a href=\"https://github.com/jupyterlab/jupyterlab/issues/17534\">(#17534)</a>: <em>Backport PR #17532 on branch 4.4.x (Update widget flag on attaching cell to viewport)</em> by <strong><a href=\"https://github.com/meeseeksmachine\">@meeseeksmachine</a></strong> merged by <strong><a href=\"https://github.com/krassowski\">@krassowski</a></strong></li>\n<li><a href=\"https://github.com/jupyterlab/jupyterlab/issues/17535\">(#17535)</a>: <em>Backport PR #17526 on branch 4.4.x (Upgrade CodeMirror packages to latest)</em> by <strong><a href=\"https://github.com/meeseeksmachine\">@meeseeksmachine</a></strong> merged by <strong><a href=\"https://github.com/krassowski\">@krassowski</a></strong></li>\n<li><a href=\"https://github.com/jupyterlab/jupyterlab/issues/17536\">(#17536)</a>: <em>Reconfigure 4.3.x branch (4.4.x is new stable)</em> by <strong><a href=\"https://github.com/krassowski\">@krassowski</a></strong> merged by <strong><a href=\"https://github.com/jtpio\">@jtpio</a></strong></li>\n<li><a href=\"https://github.com/jupyterlab/jupyterlab/issues/17537\">(#17537)</a>: <em>Reconfigure 4.4.x branch</em> by <strong><a href=\"https://github.com/krassowski\">@krassowski</a></strong> merged by <strong><a href=\"https://github.com/jtpio\">@jtpio</a></strong></li>\n<li><a href=\"https://github.com/jupyterlab/jupyterlab/issues/17540\">(#17540)</a>: <em>Fix Settings Editor incorrectly resetting values to default in filtered view</em> by <strong><a href=\"https://github.com/yukiiii04\">@yukiiii04</a></strong> merged by <strong><a href=\"https://github.com/krassowski\">@krassowski</a></strong></li>\n<li><a href=\"https://github.com/jupyterlab/jupyterlab/issues/17543\">(#17543)</a>: <em>[pre-commit.ci] pre-commit autoupdate</em> by <strong><a href=\"https://github.com/pre-commit-ci[bot]\">@pre-commit-ci[bot]</a></strong> merged by <strong><a href=\"https://github.com/krassowski\">@krassowski</a></strong></li>\n<li><a href=\"https://github.com/jupyterlab/jupyterlab/issues/17544\">(#17544)</a>: <em>Temporarily ignore links to github.com</em> by <strong><a href=\"https://github.com/krassowski\">@krassowski</a></strong> merged by <strong><a href=\"https://github.com/jtpio\">@jtpio</a></strong></li>\n<li><a href=\"https://github.com/jupyterlab/jupyterlab/issues/17545\">(#17545)</a>: <em>Backport PR #17540 on branch 4.3.x (Fix Settings Editor incorrectly resetting values to default in filtered view)</em> by <strong><a href=\"https://github.com/meeseeksmachine\">@meeseeksmachine</a></strong> merged by <strong><a href=\"https://github.com/krassowski\">@krassowski</a></strong></li>\n<li><a href=\"https://github.com/jupyterlab/jupyterlab/issues/17546\">(#17546)</a>: <em>Backport PR #17540 on branch 4.4.x (Fix Settings Editor incorrectly resetting values to default in filtered view)</em> by <strong><a href=\"https://github.com/meeseeksmachine\">@meeseeksmachine</a></strong> merged by <strong><a href=\"https://github.com/krassowski\">@krassowski</a></strong></li>\n<li><a href=\"https://github.com/jupyterlab/jupyterlab/issues/17547\">(#17547)</a>: <em>Add a setting to configure the default log level for the Log Console</em> by <strong><a href=\"https://github.com/jtpio\">@jtpio</a></strong> merged by <strong><a href=\"https://github.com/krassowski\">@krassowski</a></strong></li>\n<li><a href=\"https://github.com/jupyterlab/jupyterlab/issues/17550\">(#17550)</a>: <em><code>fileeditor-extension</code>: fix handling of launcher, commands and menu entries on <code>specsChanged</code></em> by <strong><a href=\"https://github.com/jtpio\">@jtpio</a></strong> merged by <strong><a href=\"https://github.com/jtpio\">@jtpio</a></strong></li>\n<li><a href=\"https://github.com/jupyterlab/jupyterlab/issues/17551\">(#17551)</a>: <em>Backport PR #17544 on branch 4.3.x (Temporarily ignore links to github.com)</em> by <strong><a href=\"https://github.com/meeseeksmachine\">@meeseeksmachine</a></strong> merged by <strong><a href=\"https://github.com/krassowski\">@krassowski</a></strong></li>\n<li><a href=\"https://github.com/jupyterlab/jupyterlab/issues/17552\">(#17552)</a>: <em>Backport PR #17544 on branch 4.4.x (Temporarily ignore links to github.com)</em> by <strong><a href=\"https://github.com/meeseeksmachine\">@meeseeksmachine</a></strong> merged by <strong><a href=\"https://github.com/jtpio\">@jtpio</a></strong></li>\n<li><a href=\"https://github.com/jupyterlab/jupyterlab/issues/17553\">(#17553)</a>: <em>Backport PR #17550 on branch 4.4.x (<code>fileeditor-extension</code>: fix handling of launcher, commands and menu entries on <code>specsChanged</code>)</em> by <strong><a href=\"https://github.com/meeseeksmachine\">@meeseeksmachine</a></strong> merged by <strong><a href=\"https://github.com/krassowski\">@krassowski</a></strong></li>\n<li><a href=\"https://github.com/jupyterlab/jupyterlab/issues/17555\">(#17555)</a>: <em>Pin <code>snowballstemmer</code> to <code>&lt;3.0.0</code></em> by <strong><a href=\"https://github.com/krassowski\">@krassowski</a></strong> merged by <strong><a href=\"https://github.com/krassowski\">@krassowski</a></strong></li>\n<li><a href=\"https://github.com/jupyterlab/jupyterlab/issues/17559\">(#17559)</a>: <em>Use hatch to get the version</em> by <strong><a href=\"https://github.com/krassowski\">@krassowski</a></strong> merged by <strong><a href=\"https://github.com/jtpio\">@jtpio</a></strong></li>\n<li><a href=\"https://github.com/jupyterlab/jupyterlab/issues/17561\">(#17561)</a>: <em>Backport PR #17559 on branch 4.4.x (Use hatch to get the version)</em> by <strong><a href=\"https://github.com/meeseeksmachine\">@meeseeksmachine</a></strong> merged by <strong><a href=\"https://github.com/krassowski\">@krassowski</a></strong></li>\n<li><a href=\"https://github.com/jupyterlab/jupyterlab/issues/17565\">(#17565)</a>: <em>Fix stdin input triggering cell re-execution on Shift+Enter</em> by <strong><a href=\"https://github.com/Darshan808\">@Darshan808</a></strong> merged by <strong><a href=\"https://github.com/krassowski\">@krassowski</a></strong></li>\n<li><a href=\"https://github.com/jupyterlab/jupyterlab/issues/17567\">(#17567)</a>: <em>Add <code>standby</code> callback to lumino polls</em> by <strong><a href=\"https://github.com/mahendrapaipuri\">@mahendrapaipuri</a></strong> merged by <strong><a href=\"https://github.com/jtpio\">@jtpio</a></strong></li>\n<li><a href=\"https://github.com/jupyterlab/jupyterlab/issues/17581\">(#17581)</a>: <em>Backport PR #17567 on branch 4.4.x (Add <code>standby</code> callback to lumino polls)</em> by <strong><a href=\"https://github.com/meeseeksmachine\">@meeseeksmachine</a></strong> merged by <strong><a href=\"https://github.com/krassowski\">@krassowski</a></strong></li>\n</ul>"
      }
     },
     "5bfe38526fb54047bc305a021f252f07": {
      "model_module": "@jupyter-widgets/base",
      "model_module_version": "2.0.0",
      "model_name": "LayoutModel",
      "state": {
       "_model_module": "@jupyter-widgets/base",
       "_model_module_version": "2.0.0",
       "_model_name": "LayoutModel",
       "_view_count": null,
       "_view_module": "@jupyter-widgets/base",
       "_view_module_version": "2.0.0",
       "_view_name": "LayoutView",
       "align_content": null,
       "align_items": null,
       "align_self": null,
       "border_bottom": null,
       "border_left": null,
       "border_right": null,
       "border_top": null,
       "bottom": null,
       "display": null,
       "flex": null,
       "flex_flow": null,
       "grid_area": null,
       "grid_auto_columns": null,
       "grid_auto_flow": null,
       "grid_auto_rows": null,
       "grid_column": null,
       "grid_gap": null,
       "grid_row": null,
       "grid_template_areas": null,
       "grid_template_columns": null,
       "grid_template_rows": null,
       "height": null,
       "justify_content": null,
       "justify_items": null,
       "left": null,
       "margin": null,
       "max_height": null,
       "max_width": null,
       "min_height": null,
       "min_width": null,
       "object_fit": null,
       "object_position": null,
       "order": null,
       "overflow": null,
       "padding": null,
       "right": null,
       "top": null,
       "visibility": null,
       "width": null
      }
     },
     "618774bca7ad463a9d0df7774ded437f": {
      "model_module": "@jupyter-widgets/controls",
      "model_module_version": "2.0.0",
      "model_name": "HTMLModel",
      "state": {
       "_dom_classes": [],
       "_model_module": "@jupyter-widgets/controls",
       "_model_module_version": "2.0.0",
       "_model_name": "HTMLModel",
       "_view_count": null,
       "_view_module": "@jupyter-widgets/controls",
       "_view_module_version": "2.0.0",
       "_view_name": "HTMLView",
       "description": "",
       "description_allow_html": false,
       "layout": "IPY_MODEL_febd6a82b83d4695837cd6a2cd001f67",
       "placeholder": "​",
       "style": "IPY_MODEL_fb56274264134577962687c291c8db27",
       "tabbable": null,
       "tooltip": null,
       "value": "<h5><a href=\"https://github.com/jupyterlab/jupyterlab-git\">jupyterlab/jupyterlab-git</a></h5>\n<ul>\n<li><a href=\"https://github.com/jupyterlab/jupyterlab-git/issues/1342\">(#1342)</a>: <em>Cloning from new host via ssh causes spurious error rather than prompting for confirmation and succeeding</em> by <strong><a href=\"https://github.com/ctcjab\">@ctcjab</a></strong></li>\n<li><a href=\"https://github.com/jupyterlab/jupyterlab-git/issues/1406\">(#1406)</a>: <em>Create a new branch after closing an empty repository fails</em> by <strong><a href=\"https://github.com/jtpio\">@jtpio</a></strong></li>\n</ul>"
      }
     },
     "65b866de5cc248c98986aad3f3f26b7e": {
      "model_module": "@jupyter-widgets/controls",
      "model_module_version": "2.0.0",
      "model_name": "HTMLModel",
      "state": {
       "_dom_classes": [],
       "_model_module": "@jupyter-widgets/controls",
       "_model_module_version": "2.0.0",
       "_model_name": "HTMLModel",
       "_view_count": null,
       "_view_module": "@jupyter-widgets/controls",
       "_view_module_version": "2.0.0",
       "_view_name": "HTMLView",
       "description": "",
       "description_allow_html": false,
       "layout": "IPY_MODEL_33c57e97602d48f482df51c3ea470f80",
       "placeholder": "​",
       "style": "IPY_MODEL_0a40cb53d2c444f0a27d00d0ed90f849",
       "tabbable": null,
       "tooltip": null,
       "value": "<h5><a href=\"https://github.com/jupyterlab/jupyterlab-git\">jupyterlab/jupyterlab-git</a></h5>\n<ul>\n<li><a href=\"https://github.com/jupyterlab/jupyterlab-git/issues/1342\">(#1342)</a>: <em>Cloning from new host via ssh causes spurious error rather than prompting for confirmation and succeeding</em> by <strong><a href=\"https://github.com/ctcjab\">@ctcjab</a></strong></li>\n<li><a href=\"https://github.com/jupyterlab/jupyterlab-git/issues/1406\">(#1406)</a>: <em>Create a new branch after closing an empty repository fails</em> by <strong><a href=\"https://github.com/jtpio\">@jtpio</a></strong></li>\n</ul>"
      }
     },
     "6dc78088d46a4522a53a96ae284ea75e": {
      "model_module": "@jupyter-widgets/controls",
      "model_module_version": "2.0.0",
      "model_name": "HTMLStyleModel",
      "state": {
       "_model_module": "@jupyter-widgets/controls",
       "_model_module_version": "2.0.0",
       "_model_name": "HTMLStyleModel",
       "_view_count": null,
       "_view_module": "@jupyter-widgets/base",
       "_view_module_version": "2.0.0",
       "_view_name": "StyleView",
       "background": null,
       "description_width": "",
       "font_size": null,
       "text_color": null
      }
     },
     "70cc6a315099475298cab05616de1f02": {
      "model_module": "@jupyter-widgets/controls",
      "model_module_version": "2.0.0",
      "model_name": "HTMLStyleModel",
      "state": {
       "_model_module": "@jupyter-widgets/controls",
       "_model_module_version": "2.0.0",
       "_model_name": "HTMLStyleModel",
       "_view_count": null,
       "_view_module": "@jupyter-widgets/base",
       "_view_module_version": "2.0.0",
       "_view_name": "StyleView",
       "background": null,
       "description_width": "",
       "font_size": null,
       "text_color": null
      }
     },
     "7bd44e7adf36424d8207f2f549705c00": {
      "model_module": "@jupyter-widgets/controls",
      "model_module_version": "2.0.0",
      "model_name": "HTMLStyleModel",
      "state": {
       "_model_module": "@jupyter-widgets/controls",
       "_model_module_version": "2.0.0",
       "_model_name": "HTMLStyleModel",
       "_view_count": null,
       "_view_module": "@jupyter-widgets/base",
       "_view_module_version": "2.0.0",
       "_view_name": "StyleView",
       "background": null,
       "description_width": "",
       "font_size": null,
       "text_color": null
      }
     },
     "7ca1ccaa9f7048cc83ba21b09e289eb0": {
      "model_module": "@jupyter-widgets/controls",
      "model_module_version": "2.0.0",
      "model_name": "HTMLStyleModel",
      "state": {
       "_model_module": "@jupyter-widgets/controls",
       "_model_module_version": "2.0.0",
       "_model_name": "HTMLStyleModel",
       "_view_count": null,
       "_view_module": "@jupyter-widgets/base",
       "_view_module_version": "2.0.0",
       "_view_name": "StyleView",
       "background": null,
       "description_width": "",
       "font_size": null,
       "text_color": null
      }
     },
     "7e6927cd22434e5b8058b23da480915a": {
      "model_module": "@jupyter-widgets/base",
      "model_module_version": "2.0.0",
      "model_name": "LayoutModel",
      "state": {
       "_model_module": "@jupyter-widgets/base",
       "_model_module_version": "2.0.0",
       "_model_name": "LayoutModel",
       "_view_count": null,
       "_view_module": "@jupyter-widgets/base",
       "_view_module_version": "2.0.0",
       "_view_name": "LayoutView",
       "align_content": null,
       "align_items": null,
       "align_self": null,
       "border_bottom": null,
       "border_left": null,
       "border_right": null,
       "border_top": null,
       "bottom": null,
       "display": null,
       "flex": null,
       "flex_flow": null,
       "grid_area": null,
       "grid_auto_columns": null,
       "grid_auto_flow": null,
       "grid_auto_rows": null,
       "grid_column": null,
       "grid_gap": null,
       "grid_row": null,
       "grid_template_areas": null,
       "grid_template_columns": null,
       "grid_template_rows": null,
       "height": null,
       "justify_content": null,
       "justify_items": null,
       "left": null,
       "margin": null,
       "max_height": null,
       "max_width": null,
       "min_height": null,
       "min_width": null,
       "object_fit": null,
       "object_position": null,
       "order": null,
       "overflow": null,
       "padding": null,
       "right": null,
       "top": null,
       "visibility": null,
       "width": null
      }
     },
     "7efdd76c153540efb4e1c794378dbe4a": {
      "model_module": "@jupyter-widgets/base",
      "model_module_version": "2.0.0",
      "model_name": "LayoutModel",
      "state": {
       "_model_module": "@jupyter-widgets/base",
       "_model_module_version": "2.0.0",
       "_model_name": "LayoutModel",
       "_view_count": null,
       "_view_module": "@jupyter-widgets/base",
       "_view_module_version": "2.0.0",
       "_view_name": "LayoutView",
       "align_content": null,
       "align_items": null,
       "align_self": null,
       "border_bottom": null,
       "border_left": null,
       "border_right": null,
       "border_top": null,
       "bottom": null,
       "display": null,
       "flex": null,
       "flex_flow": null,
       "grid_area": null,
       "grid_auto_columns": null,
       "grid_auto_flow": null,
       "grid_auto_rows": null,
       "grid_column": null,
       "grid_gap": null,
       "grid_row": null,
       "grid_template_areas": null,
       "grid_template_columns": null,
       "grid_template_rows": null,
       "height": null,
       "justify_content": null,
       "justify_items": null,
       "left": null,
       "margin": null,
       "max_height": null,
       "max_width": null,
       "min_height": null,
       "min_width": null,
       "object_fit": null,
       "object_position": null,
       "order": null,
       "overflow": null,
       "padding": null,
       "right": null,
       "top": null,
       "visibility": null,
       "width": null
      }
     },
     "8082f036162b4eb7ac27ec895a3917d5": {
      "model_module": "@jupyter-widgets/base",
      "model_module_version": "2.0.0",
      "model_name": "LayoutModel",
      "state": {
       "_model_module": "@jupyter-widgets/base",
       "_model_module_version": "2.0.0",
       "_model_name": "LayoutModel",
       "_view_count": null,
       "_view_module": "@jupyter-widgets/base",
       "_view_module_version": "2.0.0",
       "_view_name": "LayoutView",
       "align_content": null,
       "align_items": null,
       "align_self": null,
       "border_bottom": null,
       "border_left": null,
       "border_right": null,
       "border_top": null,
       "bottom": null,
       "display": null,
       "flex": null,
       "flex_flow": null,
       "grid_area": null,
       "grid_auto_columns": null,
       "grid_auto_flow": null,
       "grid_auto_rows": null,
       "grid_column": null,
       "grid_gap": null,
       "grid_row": null,
       "grid_template_areas": null,
       "grid_template_columns": null,
       "grid_template_rows": null,
       "height": null,
       "justify_content": null,
       "justify_items": null,
       "left": null,
       "margin": null,
       "max_height": null,
       "max_width": null,
       "min_height": null,
       "min_width": null,
       "object_fit": null,
       "object_position": null,
       "order": null,
       "overflow": null,
       "padding": null,
       "right": null,
       "top": null,
       "visibility": null,
       "width": null
      }
     },
     "80e665292ae14f678bd7114a164b9add": {
      "model_module": "@jupyter-widgets/controls",
      "model_module_version": "2.0.0",
      "model_name": "HTMLModel",
      "state": {
       "_dom_classes": [],
       "_model_module": "@jupyter-widgets/controls",
       "_model_module_version": "2.0.0",
       "_model_name": "HTMLModel",
       "_view_count": null,
       "_view_module": "@jupyter-widgets/controls",
       "_view_module_version": "2.0.0",
       "_view_name": "HTMLView",
       "description": "",
       "description_allow_html": false,
       "layout": "IPY_MODEL_5bfe38526fb54047bc305a021f252f07",
       "placeholder": "​",
       "style": "IPY_MODEL_89136345294449ecb73bb83c6eecb0e7",
       "tabbable": null,
       "tooltip": null,
       "value": "<h4>Closed PRs for repo: <a href=\"https://github.com/jupyterlab/jupyter-collaboration\">jupyterlab/jupyter-collaboration</a></h4>\n<h5></h5>\n<ul>\n<li><a href=\"https://github.com/jupyterlab/jupyter-collaboration/issues/451\">(#451)</a>: <em>Backport PR #427 on branch 3.x (Fix collaborators panel breaking on opening files without known extension)</em> by <strong><a href=\"https://github.com/meeseeksmachine\">@meeseeksmachine</a></strong> merged by <strong><a href=\"https://github.com/krassowski\">@krassowski</a></strong></li>\n<li><a href=\"https://github.com/jupyterlab/jupyter-collaboration/issues/453\">(#453)</a>: <em>Bump min required <code>jupyter_events</code> version to 0.11</em> by <strong><a href=\"https://github.com/krassowski\">@krassowski</a></strong> merged by <strong><a href=\"https://github.com/krassowski\">@krassowski</a></strong></li>\n<li><a href=\"https://github.com/jupyterlab/jupyter-collaboration/issues/454\">(#454)</a>: <em>Backport PR #453 on branch 3.x (Bump min required <code>jupyter_events</code> version to 0.11)</em> by <strong><a href=\"https://github.com/meeseeksmachine\">@meeseeksmachine</a></strong> merged by <strong><a href=\"https://github.com/davidbrochart\">@davidbrochart</a></strong></li>\n<li><a href=\"https://github.com/jupyterlab/jupyter-collaboration/issues/456\">(#456)</a>: <em>Handle the error raised when closing a collaborative document</em> by <strong><a href=\"https://github.com/brichet\">@brichet</a></strong> merged by <strong><a href=\"https://github.com/brichet\">@brichet</a></strong></li>\n<li><a href=\"https://github.com/jupyterlab/jupyter-collaboration/issues/457\">(#457)</a>: <em>Skip saving non-writable files</em> by <strong><a href=\"https://github.com/Darshan808\">@Darshan808</a></strong> merged by <strong><a href=\"https://github.com/krassowski\">@krassowski</a></strong></li>\n<li><a href=\"https://github.com/jupyterlab/jupyter-collaboration/issues/458\">(#458)</a>: <em>Bump to jupyterlab v4.4.0</em> by <strong><a href=\"https://github.com/davidbrochart\">@davidbrochart</a></strong> merged by <strong><a href=\"https://github.com/krassowski\">@krassowski</a></strong></li>\n<li><a href=\"https://github.com/jupyterlab/jupyter-collaboration/issues/459\">(#459)</a>: <em>3.x: Fix pinnings</em> by <strong><a href=\"https://github.com/martinRenou\">@martinRenou</a></strong> merged by <strong><a href=\"https://github.com/davidbrochart\">@davidbrochart</a></strong></li>\n<li><a href=\"https://github.com/jupyterlab/jupyter-collaboration/issues/461\">(#461)</a>: <em>Fix version pins in bump script</em> by <strong><a href=\"https://github.com/brichet\">@brichet</a></strong> merged by <strong><a href=\"https://github.com/krassowski\">@krassowski</a></strong></li>\n<li><a href=\"https://github.com/jupyterlab/jupyter-collaboration/issues/463\">(#463)</a>: <em>Fix jupyterlab dependency dropped by the version bump script</em> by <strong><a href=\"https://github.com/krassowski\">@krassowski</a></strong> merged by <strong><a href=\"https://github.com/krassowski\">@krassowski</a></strong></li>\n<li><a href=\"https://github.com/jupyterlab/jupyter-collaboration/issues/465\">(#465)</a>: <em>Fix empty collaborators list when file without icon is opened</em> by <strong><a href=\"https://github.com/krassowski\">@krassowski</a></strong> merged by <strong><a href=\"https://github.com/krassowski\">@krassowski</a></strong></li>\n<li><a href=\"https://github.com/jupyterlab/jupyter-collaboration/issues/466\">(#466)</a>: <em>Debugging CI failures</em> by <strong><a href=\"https://github.com/krassowski\">@krassowski</a></strong> merged by <strong><a href=\"https://github.com/krassowski\">@krassowski</a></strong></li>\n<li><a href=\"https://github.com/jupyterlab/jupyter-collaboration/issues/467\">(#467)</a>: <em>Update the pre-commit action to v3.0.1</em> by <strong><a href=\"https://github.com/brichet\">@brichet</a></strong> merged by <strong><a href=\"https://github.com/krassowski\">@krassowski</a></strong></li>\n<li><a href=\"https://github.com/jupyterlab/jupyter-collaboration/issues/468\">(#468)</a>: <em>Backport PR #461 on branch main (Fix version pins in bump script)</em> by <strong><a href=\"https://github.com/meeseeksmachine\">@meeseeksmachine</a></strong> merged by <strong><a href=\"https://github.com/krassowski\">@krassowski</a></strong></li>\n<li><a href=\"https://github.com/jupyterlab/jupyter-collaboration/issues/471\">(#471)</a>: <em>Fix \"Edit on GitHub\" link in documentation</em> by <strong><a href=\"https://github.com/Darshan808\">@Darshan808</a></strong> merged by <strong><a href=\"https://github.com/krassowski\">@krassowski</a></strong></li>\n<li><a href=\"https://github.com/jupyterlab/jupyter-collaboration/issues/472\">(#472)</a>: <em>Reset dirty state only when the file is saved</em> by <strong><a href=\"https://github.com/Darshan808\">@Darshan808</a></strong> merged by <strong><a href=\"https://github.com/krassowski\">@krassowski</a></strong></li>\n<li><a href=\"https://github.com/jupyterlab/jupyter-collaboration/issues/475\">(#475)</a>: <em>Fix cleanup logic and suppress repetitive error logs</em> by <strong><a href=\"https://github.com/Darshan808\">@Darshan808</a></strong> merged by <strong><a href=\"https://github.com/krassowski\">@krassowski</a></strong></li>\n<li><a href=\"https://github.com/jupyterlab/jupyter-collaboration/issues/476\">(#476)</a>: <em>Force analysis of <code>pycrdt_websocket</code> imports, fix types</em> by <strong><a href=\"https://github.com/krassowski\">@krassowski</a></strong> merged by <strong><a href=\"https://github.com/krassowski\">@krassowski</a></strong></li>\n<li><a href=\"https://github.com/jupyterlab/jupyter-collaboration/issues/478\">(#478)</a>: <em>Remove suspected unused code</em> by <strong><a href=\"https://github.com/krassowski\">@krassowski</a></strong> merged by <strong><a href=\"https://github.com/davidbrochart\">@davidbrochart</a></strong></li>\n</ul>"
      }
     },
     "8158bef9694a48fd89244d543412975b": {
      "model_module": "@jupyter-widgets/base",
      "model_module_version": "2.0.0",
      "model_name": "LayoutModel",
      "state": {
       "_model_module": "@jupyter-widgets/base",
       "_model_module_version": "2.0.0",
       "_model_name": "LayoutModel",
       "_view_count": null,
       "_view_module": "@jupyter-widgets/base",
       "_view_module_version": "2.0.0",
       "_view_name": "LayoutView",
       "align_content": null,
       "align_items": null,
       "align_self": null,
       "border_bottom": null,
       "border_left": null,
       "border_right": null,
       "border_top": null,
       "bottom": null,
       "display": null,
       "flex": null,
       "flex_flow": null,
       "grid_area": null,
       "grid_auto_columns": null,
       "grid_auto_flow": null,
       "grid_auto_rows": null,
       "grid_column": null,
       "grid_gap": null,
       "grid_row": null,
       "grid_template_areas": null,
       "grid_template_columns": null,
       "grid_template_rows": null,
       "height": null,
       "justify_content": null,
       "justify_items": null,
       "left": null,
       "margin": null,
       "max_height": null,
       "max_width": null,
       "min_height": null,
       "min_width": null,
       "object_fit": null,
       "object_position": null,
       "order": null,
       "overflow": null,
       "padding": null,
       "right": null,
       "top": null,
       "visibility": null,
       "width": null
      }
     },
     "82996d60835f488e935725c0448511e5": {
      "model_module": "@jupyter-widgets/base",
      "model_module_version": "2.0.0",
      "model_name": "LayoutModel",
      "state": {
       "_model_module": "@jupyter-widgets/base",
       "_model_module_version": "2.0.0",
       "_model_name": "LayoutModel",
       "_view_count": null,
       "_view_module": "@jupyter-widgets/base",
       "_view_module_version": "2.0.0",
       "_view_name": "LayoutView",
       "align_content": null,
       "align_items": null,
       "align_self": null,
       "border_bottom": null,
       "border_left": null,
       "border_right": null,
       "border_top": null,
       "bottom": null,
       "display": null,
       "flex": null,
       "flex_flow": null,
       "grid_area": null,
       "grid_auto_columns": null,
       "grid_auto_flow": null,
       "grid_auto_rows": null,
       "grid_column": null,
       "grid_gap": null,
       "grid_row": null,
       "grid_template_areas": null,
       "grid_template_columns": null,
       "grid_template_rows": null,
       "height": null,
       "justify_content": null,
       "justify_items": null,
       "left": null,
       "margin": null,
       "max_height": null,
       "max_width": null,
       "min_height": null,
       "min_width": null,
       "object_fit": null,
       "object_position": null,
       "order": null,
       "overflow": null,
       "padding": null,
       "right": null,
       "top": null,
       "visibility": null,
       "width": null
      }
     },
     "85c476601ee2466fbba6f45074ed3ab5": {
      "model_module": "@jupyter-widgets/controls",
      "model_module_version": "2.0.0",
      "model_name": "HTMLStyleModel",
      "state": {
       "_model_module": "@jupyter-widgets/controls",
       "_model_module_version": "2.0.0",
       "_model_name": "HTMLStyleModel",
       "_view_count": null,
       "_view_module": "@jupyter-widgets/base",
       "_view_module_version": "2.0.0",
       "_view_name": "StyleView",
       "background": null,
       "description_width": "",
       "font_size": null,
       "text_color": null
      }
     },
     "85c9ae2c1d1846898194e5b044376c53": {
      "model_module": "@jupyter-widgets/base",
      "model_module_version": "2.0.0",
      "model_name": "LayoutModel",
      "state": {
       "_model_module": "@jupyter-widgets/base",
       "_model_module_version": "2.0.0",
       "_model_name": "LayoutModel",
       "_view_count": null,
       "_view_module": "@jupyter-widgets/base",
       "_view_module_version": "2.0.0",
       "_view_name": "LayoutView",
       "align_content": null,
       "align_items": null,
       "align_self": null,
       "border_bottom": null,
       "border_left": null,
       "border_right": null,
       "border_top": null,
       "bottom": null,
       "display": null,
       "flex": null,
       "flex_flow": null,
       "grid_area": null,
       "grid_auto_columns": null,
       "grid_auto_flow": null,
       "grid_auto_rows": null,
       "grid_column": null,
       "grid_gap": null,
       "grid_row": null,
       "grid_template_areas": null,
       "grid_template_columns": null,
       "grid_template_rows": null,
       "height": null,
       "justify_content": null,
       "justify_items": null,
       "left": null,
       "margin": null,
       "max_height": null,
       "max_width": null,
       "min_height": null,
       "min_width": null,
       "object_fit": null,
       "object_position": null,
       "order": null,
       "overflow": null,
       "padding": null,
       "right": null,
       "top": null,
       "visibility": null,
       "width": null
      }
     },
     "89136345294449ecb73bb83c6eecb0e7": {
      "model_module": "@jupyter-widgets/controls",
      "model_module_version": "2.0.0",
      "model_name": "HTMLStyleModel",
      "state": {
       "_model_module": "@jupyter-widgets/controls",
       "_model_module_version": "2.0.0",
       "_model_name": "HTMLStyleModel",
       "_view_count": null,
       "_view_module": "@jupyter-widgets/base",
       "_view_module_version": "2.0.0",
       "_view_name": "StyleView",
       "background": null,
       "description_width": "",
       "font_size": null,
       "text_color": null
      }
     },
     "89f4fb8986e242ef98bc0a834f45f979": {
      "model_module": "@jupyter-widgets/base",
      "model_module_version": "2.0.0",
      "model_name": "LayoutModel",
      "state": {
       "_model_module": "@jupyter-widgets/base",
       "_model_module_version": "2.0.0",
       "_model_name": "LayoutModel",
       "_view_count": null,
       "_view_module": "@jupyter-widgets/base",
       "_view_module_version": "2.0.0",
       "_view_name": "LayoutView",
       "align_content": null,
       "align_items": null,
       "align_self": null,
       "border_bottom": null,
       "border_left": null,
       "border_right": null,
       "border_top": null,
       "bottom": null,
       "display": null,
       "flex": null,
       "flex_flow": null,
       "grid_area": null,
       "grid_auto_columns": null,
       "grid_auto_flow": null,
       "grid_auto_rows": null,
       "grid_column": null,
       "grid_gap": null,
       "grid_row": null,
       "grid_template_areas": null,
       "grid_template_columns": null,
       "grid_template_rows": null,
       "height": null,
       "justify_content": null,
       "justify_items": null,
       "left": null,
       "margin": null,
       "max_height": null,
       "max_width": null,
       "min_height": null,
       "min_width": null,
       "object_fit": null,
       "object_position": null,
       "order": null,
       "overflow": null,
       "padding": null,
       "right": null,
       "top": null,
       "visibility": null,
       "width": null
      }
     },
     "8d3c94d32a8a48cebccee654e11ad0a0": {
      "model_module": "@jupyter-widgets/controls",
      "model_module_version": "2.0.0",
      "model_name": "HTMLModel",
      "state": {
       "_dom_classes": [],
       "_model_module": "@jupyter-widgets/controls",
       "_model_module_version": "2.0.0",
       "_model_name": "HTMLModel",
       "_view_count": null,
       "_view_module": "@jupyter-widgets/controls",
       "_view_module_version": "2.0.0",
       "_view_name": "HTMLView",
       "description": "",
       "description_allow_html": false,
       "layout": "IPY_MODEL_7efdd76c153540efb4e1c794378dbe4a",
       "placeholder": "​",
       "style": "IPY_MODEL_6dc78088d46a4522a53a96ae284ea75e",
       "tabbable": null,
       "tooltip": null,
       "value": "<h5><a href=\"https://github.com/jupyterlab/frontends-team-compass\">jupyterlab/frontends-team-compass</a></h5>\n<ul>\n<li><a href=\"https://github.com/jupyterlab/frontends-team-compass/issues/266\">(#266)</a>: <em>Weekly Team Meetings: Jan–Jun 2025</em> by <strong><a href=\"https://github.com/jtpio\">@jtpio</a></strong></li>\n<li><a href=\"https://github.com/jupyterlab/frontends-team-compass/issues/268\">(#268)</a>: <em>Weekly Triage meetings: Jan–Dec 2025</em> by <strong><a href=\"https://github.com/RRosio\">@RRosio</a></strong></li>\n<li><a href=\"https://github.com/jupyterlab/frontends-team-compass/issues/275\">(#275)</a>: <em>JupyterLab 4.4 bug bash proposal for March 26 Jupyter Frontends call</em> by <strong><a href=\"https://github.com/andrii-i\">@andrii-i</a></strong></li>\n</ul>"
      }
     },
     "8ee02f496f794a3b98415cb2de910652": {
      "model_module": "@jupyter-widgets/controls",
      "model_module_version": "2.0.0",
      "model_name": "HTMLModel",
      "state": {
       "_dom_classes": [],
       "_model_module": "@jupyter-widgets/controls",
       "_model_module_version": "2.0.0",
       "_model_name": "HTMLModel",
       "_view_count": null,
       "_view_module": "@jupyter-widgets/controls",
       "_view_module_version": "2.0.0",
       "_view_name": "HTMLView",
       "description": "",
       "description_allow_html": false,
       "layout": "IPY_MODEL_ecdfb0d59e1c4aab8b52caa00dfd7842",
       "placeholder": "​",
       "style": "IPY_MODEL_531c4b77ef4444c696180b8d9c4708d9",
       "tabbable": null,
       "tooltip": null,
       "value": "<h5><a href=\"https://github.com/jupyterlab/lumino\">jupyterlab/lumino</a></h5>\n<ul>\n<li><a href=\"https://github.com/jupyterlab/lumino/issues/744\">(#744)</a>: <em>CommandPalette reacts to notifyCommandChanged even when hidden</em> by <strong><a href=\"https://github.com/fcollonval\">@fcollonval</a></strong></li>\n<li><a href=\"https://github.com/jupyterlab/lumino/issues/740\">(#740)</a>: <em>Add link to examples from API Layout documentation</em> by <strong><a href=\"https://github.com/cmarmo\">@cmarmo</a></strong></li>\n<li><a href=\"https://github.com/jupyterlab/lumino/issues/749\">(#749)</a>: <em>Reinstate the API changes check in the workflow</em> by <strong><a href=\"https://github.com/jtpio\">@jtpio</a></strong></li>\n</ul>"
      }
     },
     "93052b180e314665b1bc3fb24ae946eb": {
      "model_module": "@jupyter-widgets/base",
      "model_module_version": "2.0.0",
      "model_name": "LayoutModel",
      "state": {
       "_model_module": "@jupyter-widgets/base",
       "_model_module_version": "2.0.0",
       "_model_name": "LayoutModel",
       "_view_count": null,
       "_view_module": "@jupyter-widgets/base",
       "_view_module_version": "2.0.0",
       "_view_name": "LayoutView",
       "align_content": null,
       "align_items": null,
       "align_self": null,
       "border_bottom": null,
       "border_left": null,
       "border_right": null,
       "border_top": null,
       "bottom": null,
       "display": null,
       "flex": null,
       "flex_flow": null,
       "grid_area": null,
       "grid_auto_columns": null,
       "grid_auto_flow": null,
       "grid_auto_rows": null,
       "grid_column": null,
       "grid_gap": null,
       "grid_row": null,
       "grid_template_areas": null,
       "grid_template_columns": null,
       "grid_template_rows": null,
       "height": null,
       "justify_content": null,
       "justify_items": null,
       "left": null,
       "margin": null,
       "max_height": null,
       "max_width": null,
       "min_height": null,
       "min_width": null,
       "object_fit": null,
       "object_position": null,
       "order": null,
       "overflow": null,
       "padding": null,
       "right": null,
       "top": null,
       "visibility": null,
       "width": null
      }
     },
     "97e04196d08a4b32970028f8eca4fe99": {
      "model_module": "@jupyter-widgets/controls",
      "model_module_version": "2.0.0",
      "model_name": "HTMLStyleModel",
      "state": {
       "_model_module": "@jupyter-widgets/controls",
       "_model_module_version": "2.0.0",
       "_model_name": "HTMLStyleModel",
       "_view_count": null,
       "_view_module": "@jupyter-widgets/base",
       "_view_module_version": "2.0.0",
       "_view_name": "StyleView",
       "background": null,
       "description_width": "",
       "font_size": null,
       "text_color": null
      }
     },
     "9d71b86d23064c9eae20592b85fa9508": {
      "model_module": "@jupyter-widgets/controls",
      "model_module_version": "2.0.0",
      "model_name": "HTMLModel",
      "state": {
       "_dom_classes": [],
       "_model_module": "@jupyter-widgets/controls",
       "_model_module_version": "2.0.0",
       "_model_name": "HTMLModel",
       "_view_count": null,
       "_view_module": "@jupyter-widgets/controls",
       "_view_module_version": "2.0.0",
       "_view_name": "HTMLView",
       "description": "",
       "description_allow_html": false,
       "layout": "IPY_MODEL_7e6927cd22434e5b8058b23da480915a",
       "placeholder": "​",
       "style": "IPY_MODEL_1dd07e5e80f148c5bb58b20cf01bae6e",
       "tabbable": null,
       "tooltip": null,
       "value": "<h4>Closed PRs for repo: <a href=\"https://github.com/jupyterlab/lumino\">jupyterlab/lumino</a></h4>\n<h5></h5>\n<ul>\n<li><a href=\"https://github.com/jupyterlab/lumino/issues/741\">(#741)</a>: <em>Add links to the examples and documentation contribution instructions</em> by <strong><a href=\"https://github.com/cmarmo\">@cmarmo</a></strong> merged by <strong><a href=\"https://github.com/krassowski\">@krassowski</a></strong></li>\n<li><a href=\"https://github.com/jupyterlab/lumino/issues/742\">(#742)</a>: <em>Bump the actions group with 2 updates</em> by <strong><a href=\"https://github.com/dependabot[bot]\">@dependabot[bot]</a></strong> merged by <strong><a href=\"https://github.com/fcollonval\">@fcollonval</a></strong></li>\n<li><a href=\"https://github.com/jupyterlab/lumino/issues/743\">(#743)</a>: <em>\"npm run\" -&gt; yarn</em> by <strong><a href=\"https://github.com/vidartf\">@vidartf</a></strong> merged by <strong><a href=\"https://github.com/fcollonval\">@fcollonval</a></strong></li>\n<li><a href=\"https://github.com/jupyterlab/lumino/issues/745\">(#745)</a>: <em>Forbid .only and .skip on CI</em> by <strong><a href=\"https://github.com/fcollonval\">@fcollonval</a></strong> merged by <strong><a href=\"https://github.com/krassowski\">@krassowski</a></strong></li>\n<li><a href=\"https://github.com/jupyterlab/lumino/issues/746\">(#746)</a>: <em>Don't refresh if palette is within a hidden branch</em> by <strong><a href=\"https://github.com/fcollonval\">@fcollonval</a></strong> merged by <strong><a href=\"https://github.com/fcollonval\">@fcollonval</a></strong></li>\n<li><a href=\"https://github.com/jupyterlab/lumino/issues/747\">(#747)</a>: <em>Remove use of <code>tj-actions/changed-files</code></em> by <strong><a href=\"https://github.com/jtpio\">@jtpio</a></strong> merged by <strong><a href=\"https://github.com/jtpio\">@jtpio</a></strong></li>\n<li><a href=\"https://github.com/jupyterlab/lumino/issues/748\">(#748)</a>: <em>Bump axios from 1.7.7 to 1.8.3</em> by <strong><a href=\"https://github.com/dependabot[bot]\">@dependabot[bot]</a></strong> merged by <strong><a href=\"https://github.com/jtpio\">@jtpio</a></strong></li>\n<li><a href=\"https://github.com/jupyterlab/lumino/issues/751\">(#751)</a>: <em>Update versions</em> by <strong><a href=\"https://github.com/fcollonval\">@fcollonval</a></strong> merged by <strong><a href=\"https://github.com/fcollonval\">@fcollonval</a></strong></li>\n<li><a href=\"https://github.com/jupyterlab/lumino/issues/752\">(#752)</a>: <em>Bump koa from 2.15.4 to 2.16.1</em> by <strong><a href=\"https://github.com/dependabot[bot]\">@dependabot[bot]</a></strong> merged by <strong><a href=\"https://github.com/krassowski\">@krassowski</a></strong></li>\n<li><a href=\"https://github.com/jupyterlab/lumino/issues/753\">(#753)</a>: <em>Improve accessibility for menu items with toggle state</em> by <strong><a href=\"https://github.com/nkn2022\">@nkn2022</a></strong> merged by <strong><a href=\"https://github.com/krassowski\">@krassowski</a></strong></li>\n<li><a href=\"https://github.com/jupyterlab/lumino/issues/754\">(#754)</a>: <em>Run workflows that were pinned to no-longer supported <code>ubuntu-20.04</code> on <code>ubuntu-latest</code></em> by <strong><a href=\"https://github.com/krassowski\">@krassowski</a></strong> merged by <strong><a href=\"https://github.com/krassowski\">@krassowski</a></strong></li>\n<li><a href=\"https://github.com/jupyterlab/lumino/issues/757\">(#757)</a>: <em>Fix test status badge</em> by <strong><a href=\"https://github.com/krassowski\">@krassowski</a></strong> merged by <strong><a href=\"https://github.com/afshin\">@afshin</a></strong></li>\n<li><a href=\"https://github.com/jupyterlab/lumino/issues/758\">(#758)</a>: <em>Bump versions for v2025.4.30</em> by <strong><a href=\"https://github.com/krassowski\">@krassowski</a></strong> merged by <strong><a href=\"https://github.com/afshin\">@afshin</a></strong></li>\n</ul>"
      }
     },
     "9e658fda04f9452b9c40db595c6509ca": {
      "model_module": "@jupyter-widgets/controls",
      "model_module_version": "2.0.0",
      "model_name": "HTMLModel",
      "state": {
       "_dom_classes": [],
       "_model_module": "@jupyter-widgets/controls",
       "_model_module_version": "2.0.0",
       "_model_name": "HTMLModel",
       "_view_count": null,
       "_view_module": "@jupyter-widgets/controls",
       "_view_module_version": "2.0.0",
       "_view_name": "HTMLView",
       "description": "",
       "description_allow_html": false,
       "layout": "IPY_MODEL_ebd52017d54548619d0c65161cf1e5af",
       "placeholder": "​",
       "style": "IPY_MODEL_af642a08f1ac49079acfc0af906de941",
       "tabbable": null,
       "tooltip": null,
       "value": "<h5><a href=\"https://github.com/jupyterlab/jupyterlab-latex\">jupyterlab/jupyterlab-latex</a></h5>\n<ul>\n<li><a href=\"https://github.com/jupyterlab/jupyterlab-latex/issues/249\">(#249)</a>: <em>MY ENTIRE HOME DIRECTORY WAS OBLITERATED BECAUSE OF THIS EXTENSION!! UNBELIEVABLE!!!</em> by <strong><a href=\"https://github.com/dogganon\">@dogganon</a></strong></li>\n<li><a href=\"https://github.com/jupyterlab/jupyterlab-latex/issues/153\">(#153)</a>: <em>Suggestion: tab replace commands with unicode math symbols</em> by <strong><a href=\"https://github.com/gjvnq\">@gjvnq</a></strong></li>\n</ul>"
      }
     },
     "a2641221f5dd4b1390e6aa67cd6cb417": {
      "model_module": "@jupyter-widgets/controls",
      "model_module_version": "2.0.0",
      "model_name": "HTMLStyleModel",
      "state": {
       "_model_module": "@jupyter-widgets/controls",
       "_model_module_version": "2.0.0",
       "_model_name": "HTMLStyleModel",
       "_view_count": null,
       "_view_module": "@jupyter-widgets/base",
       "_view_module_version": "2.0.0",
       "_view_name": "StyleView",
       "background": null,
       "description_width": "",
       "font_size": null,
       "text_color": null
      }
     },
     "a59c7c74539a40c4ac439481b9c46577": {
      "model_module": "@jupyter-widgets/base",
      "model_module_version": "2.0.0",
      "model_name": "LayoutModel",
      "state": {
       "_model_module": "@jupyter-widgets/base",
       "_model_module_version": "2.0.0",
       "_model_name": "LayoutModel",
       "_view_count": null,
       "_view_module": "@jupyter-widgets/base",
       "_view_module_version": "2.0.0",
       "_view_name": "LayoutView",
       "align_content": null,
       "align_items": null,
       "align_self": null,
       "border_bottom": null,
       "border_left": null,
       "border_right": null,
       "border_top": null,
       "bottom": null,
       "display": null,
       "flex": null,
       "flex_flow": null,
       "grid_area": null,
       "grid_auto_columns": null,
       "grid_auto_flow": null,
       "grid_auto_rows": null,
       "grid_column": null,
       "grid_gap": null,
       "grid_row": null,
       "grid_template_areas": null,
       "grid_template_columns": null,
       "grid_template_rows": null,
       "height": null,
       "justify_content": null,
       "justify_items": null,
       "left": null,
       "margin": null,
       "max_height": null,
       "max_width": null,
       "min_height": null,
       "min_width": null,
       "object_fit": null,
       "object_position": null,
       "order": null,
       "overflow": null,
       "padding": null,
       "right": null,
       "top": null,
       "visibility": null,
       "width": null
      }
     },
     "a6a1b3f6a5cd49df99418be530dc771c": {
      "model_module": "@jupyter-widgets/controls",
      "model_module_version": "2.0.0",
      "model_name": "HTMLStyleModel",
      "state": {
       "_model_module": "@jupyter-widgets/controls",
       "_model_module_version": "2.0.0",
       "_model_name": "HTMLStyleModel",
       "_view_count": null,
       "_view_module": "@jupyter-widgets/base",
       "_view_module_version": "2.0.0",
       "_view_name": "StyleView",
       "background": null,
       "description_width": "",
       "font_size": null,
       "text_color": null
      }
     },
     "a94fde7ffb85472f9f5980ec947c3c84": {
      "model_module": "@jupyter-widgets/controls",
      "model_module_version": "2.0.0",
      "model_name": "HTMLModel",
      "state": {
       "_dom_classes": [],
       "_model_module": "@jupyter-widgets/controls",
       "_model_module_version": "2.0.0",
       "_model_name": "HTMLModel",
       "_view_count": null,
       "_view_module": "@jupyter-widgets/controls",
       "_view_module_version": "2.0.0",
       "_view_name": "HTMLView",
       "description": "",
       "description_allow_html": false,
       "layout": "IPY_MODEL_d734908a41ac4384b5e72167c1907ee8",
       "placeholder": "​",
       "style": "IPY_MODEL_97e04196d08a4b32970028f8eca4fe99",
       "tabbable": null,
       "tooltip": null,
       "value": "<h5><a href=\"https://github.com/jupyterlab/lumino\">jupyterlab/lumino</a></h5>\n<ul>\n<li><a href=\"https://github.com/jupyterlab/lumino/issues/744\">(#744)</a>: <em>CommandPalette reacts to notifyCommandChanged even when hidden</em> by <strong><a href=\"https://github.com/fcollonval\">@fcollonval</a></strong></li>\n<li><a href=\"https://github.com/jupyterlab/lumino/issues/740\">(#740)</a>: <em>Add link to examples from API Layout documentation</em> by <strong><a href=\"https://github.com/cmarmo\">@cmarmo</a></strong></li>\n<li><a href=\"https://github.com/jupyterlab/lumino/issues/749\">(#749)</a>: <em>Reinstate the API changes check in the workflow</em> by <strong><a href=\"https://github.com/jtpio\">@jtpio</a></strong></li>\n</ul>"
      }
     },
     "af642a08f1ac49079acfc0af906de941": {
      "model_module": "@jupyter-widgets/controls",
      "model_module_version": "2.0.0",
      "model_name": "HTMLStyleModel",
      "state": {
       "_model_module": "@jupyter-widgets/controls",
       "_model_module_version": "2.0.0",
       "_model_name": "HTMLStyleModel",
       "_view_count": null,
       "_view_module": "@jupyter-widgets/base",
       "_view_module_version": "2.0.0",
       "_view_name": "StyleView",
       "background": null,
       "description_width": "",
       "font_size": null,
       "text_color": null
      }
     },
     "afe7735a8b8a472d9322615ade4d4826": {
      "model_module": "@jupyter-widgets/controls",
      "model_module_version": "2.0.0",
      "model_name": "HTMLModel",
      "state": {
       "_dom_classes": [],
       "_model_module": "@jupyter-widgets/controls",
       "_model_module_version": "2.0.0",
       "_model_name": "HTMLModel",
       "_view_count": null,
       "_view_module": "@jupyter-widgets/controls",
       "_view_module_version": "2.0.0",
       "_view_name": "HTMLView",
       "description": "",
       "description_allow_html": false,
       "layout": "IPY_MODEL_195c6b6f75b245b28f66dae14047d64d",
       "placeholder": "​",
       "style": "IPY_MODEL_85c476601ee2466fbba6f45074ed3ab5",
       "tabbable": null,
       "tooltip": null,
       "value": "<h5><a href=\"https://github.com/jupyterlab/extension-examples\">jupyterlab/extension-examples</a></h5>\n<ul>\n<li><a href=\"https://github.com/jupyterlab/extension-examples/issues/261\">(#261)</a>: _ python -m pip install -e  error_ by <strong><a href=\"https://github.com/ryan-latest\">@ryan-latest</a></strong></li>\n</ul>"
      }
     },
     "b0e48b50a2344bdfa25fac2d355a56da": {
      "model_module": "@jupyter-widgets/base",
      "model_module_version": "2.0.0",
      "model_name": "LayoutModel",
      "state": {
       "_model_module": "@jupyter-widgets/base",
       "_model_module_version": "2.0.0",
       "_model_name": "LayoutModel",
       "_view_count": null,
       "_view_module": "@jupyter-widgets/base",
       "_view_module_version": "2.0.0",
       "_view_name": "LayoutView",
       "align_content": null,
       "align_items": null,
       "align_self": null,
       "border_bottom": null,
       "border_left": null,
       "border_right": null,
       "border_top": null,
       "bottom": null,
       "display": null,
       "flex": null,
       "flex_flow": null,
       "grid_area": null,
       "grid_auto_columns": null,
       "grid_auto_flow": null,
       "grid_auto_rows": null,
       "grid_column": null,
       "grid_gap": null,
       "grid_row": null,
       "grid_template_areas": null,
       "grid_template_columns": null,
       "grid_template_rows": null,
       "height": null,
       "justify_content": null,
       "justify_items": null,
       "left": null,
       "margin": null,
       "max_height": null,
       "max_width": null,
       "min_height": null,
       "min_width": null,
       "object_fit": null,
       "object_position": null,
       "order": null,
       "overflow": null,
       "padding": null,
       "right": null,
       "top": null,
       "visibility": null,
       "width": null
      }
     },
     "b24e71c28e5e45c8a33c0ec4955371f9": {
      "model_module": "@jupyter-widgets/controls",
      "model_module_version": "2.0.0",
      "model_name": "HTMLModel",
      "state": {
       "_dom_classes": [],
       "_model_module": "@jupyter-widgets/controls",
       "_model_module_version": "2.0.0",
       "_model_name": "HTMLModel",
       "_view_count": null,
       "_view_module": "@jupyter-widgets/controls",
       "_view_module_version": "2.0.0",
       "_view_name": "HTMLView",
       "description": "",
       "description_allow_html": false,
       "layout": "IPY_MODEL_e68050dec49e4ebdac17ef83e298c607",
       "placeholder": "​",
       "style": "IPY_MODEL_7ca1ccaa9f7048cc83ba21b09e289eb0",
       "tabbable": null,
       "tooltip": null,
       "value": "<h4>Closed PRs for repo: <a href=\"https://github.com/jupyterlab/jupyterlab-git\">jupyterlab/jupyterlab-git</a></h4>\n<h5></h5>\n<ul>\n<li><a href=\"https://github.com/jupyterlab/jupyterlab-git/issues/1395\">(#1395)</a>: <em>Bump serialize-javascript from 6.0.1 to 6.0.2</em> by <strong><a href=\"https://github.com/dependabot[bot]\">@dependabot[bot]</a></strong> merged by <strong><a href=\"https://github.com/fcollonval\">@fcollonval</a></strong></li>\n<li><a href=\"https://github.com/jupyterlab/jupyterlab-git/issues/1396\">(#1396)</a>: <em>Bump vega from 5.23.0 to 5.31.0 in /ui-tests</em> by <strong><a href=\"https://github.com/dependabot[bot]\">@dependabot[bot]</a></strong> merged by <strong><a href=\"https://github.com/fcollonval\">@fcollonval</a></strong></li>\n<li><a href=\"https://github.com/jupyterlab/jupyterlab-git/issues/1398\">(#1398)</a>: <em>Create devcontainer.json</em> by <strong><a href=\"https://github.com/Kcato1\">@Kcato1</a></strong> merged by <strong><a href=\"https://github.com/krassowski\">@krassowski</a></strong></li>\n<li><a href=\"https://github.com/jupyterlab/jupyterlab-git/issues/1399\">(#1399)</a>: <em>Bump vega from 5.31.0 to 5.33.0 in /ui-tests</em> by <strong><a href=\"https://github.com/dependabot[bot]\">@dependabot[bot]</a></strong> merged by <strong><a href=\"https://github.com/krassowski\">@krassowski</a></strong></li>\n</ul>"
      }
     },
     "b3bb20d7cd0c4392a66354b8728a557e": {
      "model_module": "@jupyter-widgets/controls",
      "model_module_version": "2.0.0",
      "model_name": "HTMLModel",
      "state": {
       "_dom_classes": [],
       "_model_module": "@jupyter-widgets/controls",
       "_model_module_version": "2.0.0",
       "_model_name": "HTMLModel",
       "_view_count": null,
       "_view_module": "@jupyter-widgets/controls",
       "_view_module_version": "2.0.0",
       "_view_name": "HTMLView",
       "description": "",
       "description_allow_html": false,
       "layout": "IPY_MODEL_09a5c45bce03403e912297e121448888",
       "placeholder": "​",
       "style": "IPY_MODEL_f741a0c21dfa4bafa9f3ade67f2c81c5",
       "tabbable": null,
       "tooltip": null,
       "value": "<h5><a href=\"https://github.com/jupyterlab/extension-examples\">jupyterlab/extension-examples</a></h5>\n<ul>\n<li><a href=\"https://github.com/jupyterlab/extension-examples/issues/261\">(#261)</a>: _ python -m pip install -e  error_ by <strong><a href=\"https://github.com/ryan-latest\">@ryan-latest</a></strong></li>\n</ul>"
      }
     },
     "bdac408b4a88403d80168c96d61fc935": {
      "model_module": "@jupyter-widgets/base",
      "model_module_version": "2.0.0",
      "model_name": "LayoutModel",
      "state": {
       "_model_module": "@jupyter-widgets/base",
       "_model_module_version": "2.0.0",
       "_model_name": "LayoutModel",
       "_view_count": null,
       "_view_module": "@jupyter-widgets/base",
       "_view_module_version": "2.0.0",
       "_view_name": "LayoutView",
       "align_content": null,
       "align_items": null,
       "align_self": null,
       "border_bottom": null,
       "border_left": null,
       "border_right": null,
       "border_top": null,
       "bottom": null,
       "display": null,
       "flex": null,
       "flex_flow": null,
       "grid_area": null,
       "grid_auto_columns": null,
       "grid_auto_flow": null,
       "grid_auto_rows": null,
       "grid_column": null,
       "grid_gap": null,
       "grid_row": null,
       "grid_template_areas": null,
       "grid_template_columns": null,
       "grid_template_rows": null,
       "height": null,
       "justify_content": null,
       "justify_items": null,
       "left": null,
       "margin": null,
       "max_height": null,
       "max_width": null,
       "min_height": null,
       "min_width": null,
       "object_fit": null,
       "object_position": null,
       "order": null,
       "overflow": null,
       "padding": null,
       "right": null,
       "top": null,
       "visibility": null,
       "width": null
      }
     },
     "c1b1874621cd4105a2275f46aa790e21": {
      "model_module": "@jupyter-widgets/controls",
      "model_module_version": "2.0.0",
      "model_name": "HTMLStyleModel",
      "state": {
       "_model_module": "@jupyter-widgets/controls",
       "_model_module_version": "2.0.0",
       "_model_name": "HTMLStyleModel",
       "_view_count": null,
       "_view_module": "@jupyter-widgets/base",
       "_view_module_version": "2.0.0",
       "_view_name": "StyleView",
       "background": null,
       "description_width": "",
       "font_size": null,
       "text_color": null
      }
     },
     "c48fbd9c40924cb58295636bf1cdaf33": {
      "model_module": "@jupyter-widgets/controls",
      "model_module_version": "2.0.0",
      "model_name": "HTMLStyleModel",
      "state": {
       "_model_module": "@jupyter-widgets/controls",
       "_model_module_version": "2.0.0",
       "_model_name": "HTMLStyleModel",
       "_view_count": null,
       "_view_module": "@jupyter-widgets/base",
       "_view_module_version": "2.0.0",
       "_view_name": "StyleView",
       "background": null,
       "description_width": "",
       "font_size": null,
       "text_color": null
      }
     },
     "c9237f000bab4064b82ecf7b1d291c56": {
      "model_module": "@jupyter-widgets/controls",
      "model_module_version": "2.0.0",
      "model_name": "HTMLStyleModel",
      "state": {
       "_model_module": "@jupyter-widgets/controls",
       "_model_module_version": "2.0.0",
       "_model_name": "HTMLStyleModel",
       "_view_count": null,
       "_view_module": "@jupyter-widgets/base",
       "_view_module_version": "2.0.0",
       "_view_name": "StyleView",
       "background": null,
       "description_width": "",
       "font_size": null,
       "text_color": null
      }
     },
     "cd482ba7614b4d60986c3587b996bb9b": {
      "model_module": "@jupyter-widgets/controls",
      "model_module_version": "2.0.0",
      "model_name": "HTMLModel",
      "state": {
       "_dom_classes": [],
       "_model_module": "@jupyter-widgets/controls",
       "_model_module_version": "2.0.0",
       "_model_name": "HTMLModel",
       "_view_count": null,
       "_view_module": "@jupyter-widgets/controls",
       "_view_module_version": "2.0.0",
       "_view_name": "HTMLView",
       "description": "",
       "description_allow_html": false,
       "layout": "IPY_MODEL_82996d60835f488e935725c0448511e5",
       "placeholder": "​",
       "style": "IPY_MODEL_7bd44e7adf36424d8207f2f549705c00",
       "tabbable": null,
       "tooltip": null,
       "value": "<ul>\n<li>(117) Implement variable inspector for kernels - jupyterlab - <a href=\"https://github.com/jupyterlab/jupyterlab/issues/443\">#443</a></li>\n<li>(57) allowing copy/paste in right click menu in notebook - jupyterlab - <a href=\"https://github.com/jupyterlab/jupyterlab/issues/3224\">#3224</a></li>\n<li>(52) Switching to a big notebook in a tab is slow - jupyterlab - <a href=\"https://github.com/jupyterlab/jupyterlab/issues/4292\">#4292</a></li>\n<li>(47) Remove a cell from evaluation queue - jupyterlab - <a href=\"https://github.com/jupyterlab/jupyterlab/issues/7825\">#7825</a></li>\n<li>(45) Is any way to highlight the selected word - jupyterlab - <a href=\"https://github.com/jupyterlab/jupyterlab/issues/6112\">#6112</a></li>\n<li>(34) Add a linter to the editor - jupyterlab - <a href=\"https://github.com/jupyterlab/jupyterlab/issues/1278\">#1278</a></li>\n<li>(33) Syntax highlighting for SQL cell magic - jupyterlab - <a href=\"https://github.com/jupyterlab/jupyterlab/issues/3869\">#3869</a></li>\n<li>(33) Skip H1 headers - jupyterlab-toc - <a href=\"https://github.com/jupyterlab/jupyterlab-toc/issues/66\">#66</a></li>\n<li>(32) Feedback from a Jupyter notebook fanatic comming to Jupyter lab  - jupyterlab - <a href=\"https://github.com/jupyterlab/jupyterlab/issues/2972\">#2972</a></li>\n<li>(32) Open existing Notebook without kernel - jupyterlab - <a href=\"https://github.com/jupyterlab/jupyterlab/issues/4040\">#4040</a></li>\n<li>(30) Adding an option to disable file download on Jupyterlab - jupyterlab - <a href=\"https://github.com/jupyterlab/jupyterlab/issues/5274\">#5274</a></li>\n<li>(30) Feature request:  Emacs keybindings for notebook - jupyterlab - <a href=\"https://github.com/jupyterlab/jupyterlab/issues/3885\">#3885</a></li>\n<li>(30) themes from jupyter-themes - jupyterlab - <a href=\"https://github.com/jupyterlab/jupyterlab/issues/3844\">#3844</a></li>\n<li>(28) WIP/Discussion: Tree view for file browser - jupyterlab - <a href=\"https://github.com/jupyterlab/jupyterlab/issues/5526\">#5526</a></li>\n<li>(28) Show RAM usage of kernels - jupyterlab - <a href=\"https://github.com/jupyterlab/jupyterlab/issues/4012\">#4012</a></li>\n<li>(27) Trailing whitespace in editor - jupyterlab - <a href=\"https://github.com/jupyterlab/jupyterlab/issues/3904\">#3904</a></li>\n<li>(24) JupyterLab vision for the next few years - frontends-team-compass - <a href=\"https://github.com/jupyterlab/frontends-team-compass/issues/80\">#80</a></li>\n<li>(23) Typing single or double quote when text is selected erases the text - jupyterlab - <a href=\"https://github.com/jupyterlab/jupyterlab/issues/9897\">#9897</a></li>\n<li>(23) Open a notebook from JupyterLab terminal - jupyterlab - <a href=\"https://github.com/jupyterlab/jupyterlab/issues/5056\">#5056</a></li>\n<li>(22) Changing Browser Tab Title for JupyterLab - jupyterlab - <a href=\"https://github.com/jupyterlab/jupyterlab/issues/4422\">#4422</a></li>\n<li>(21) Failure to start jupyter lab --- IndexError: pop from an empty deque  - jupyterlab - <a href=\"https://github.com/jupyterlab/jupyterlab/issues/11934\">#11934</a></li>\n<li>(20) Code formatter - jupyterlab - <a href=\"https://github.com/jupyterlab/jupyterlab/issues/4521\">#4521</a></li>\n<li>(20) Improve user experience in Launcher - jupyterlab - <a href=\"https://github.com/jupyterlab/jupyterlab/issues/3795\">#3795</a></li>\n<li>(19) Renaming Console and Terminal sessions - jupyterlab - <a href=\"https://github.com/jupyterlab/jupyterlab/issues/4393\">#4393</a></li>\n<li>(19) File Save Error: Failed to fetch - jupyterlab - <a href=\"https://github.com/jupyterlab/jupyterlab/issues/3964\">#3964</a></li>\n</ul>"
      }
     },
     "d4c36cac0f1a470caf1c779eceaf3360": {
      "model_module": "@jupyter-widgets/controls",
      "model_module_version": "2.0.0",
      "model_name": "HTMLModel",
      "state": {
       "_dom_classes": [],
       "_model_module": "@jupyter-widgets/controls",
       "_model_module_version": "2.0.0",
       "_model_name": "HTMLModel",
       "_view_count": null,
       "_view_module": "@jupyter-widgets/controls",
       "_view_module_version": "2.0.0",
       "_view_name": "HTMLView",
       "description": "",
       "description_allow_html": false,
       "layout": "IPY_MODEL_89f4fb8986e242ef98bc0a834f45f979",
       "placeholder": "​",
       "style": "IPY_MODEL_c1b1874621cd4105a2275f46aa790e21",
       "tabbable": null,
       "tooltip": null,
       "value": "<h5><a href=\"https://github.com/jupyterlab/jupyter-collaboration\">jupyterlab/jupyter-collaboration</a></h5>\n<ul>\n<li><a href=\"https://github.com/jupyterlab/jupyter-collaboration/issues/462\">(#462)</a>: <em>Installing <code>jupyter-collaboration</code> breaks notebook editor</em> by <strong><a href=\"https://github.com/nwalters512\">@nwalters512</a></strong></li>\n<li><a href=\"https://github.com/jupyterlab/jupyter-collaboration/issues/450\">(#450)</a>: <em>Empty collaborators list when file without icon is opened.</em> by <strong><a href=\"https://github.com/jochym\">@jochym</a></strong></li>\n<li><a href=\"https://github.com/jupyterlab/jupyter-collaboration/issues/430\">(#430)</a>: <em>Make the use of <code>YStore</code> configurable</em> by <strong><a href=\"https://github.com/dlqqq\">@dlqqq</a></strong></li>\n<li><a href=\"https://github.com/jupyterlab/jupyter-collaboration/issues/473\">(#473)</a>: <em>Jupyterlab 4.4.0 and Jupyter-collaboration 4.0.1: Collaborating users list populated, but no live edits visible</em> by <strong><a href=\"https://github.com/Sieboldianus\">@Sieboldianus</a></strong></li>\n<li><a href=\"https://github.com/jupyterlab/jupyter-collaboration/issues/477\">(#477)</a>: <em>Investigate unused (?) code for chat message propagation</em> by <strong><a href=\"https://github.com/krassowski\">@krassowski</a></strong></li>\n</ul>"
      }
     },
     "d734908a41ac4384b5e72167c1907ee8": {
      "model_module": "@jupyter-widgets/base",
      "model_module_version": "2.0.0",
      "model_name": "LayoutModel",
      "state": {
       "_model_module": "@jupyter-widgets/base",
       "_model_module_version": "2.0.0",
       "_model_name": "LayoutModel",
       "_view_count": null,
       "_view_module": "@jupyter-widgets/base",
       "_view_module_version": "2.0.0",
       "_view_name": "LayoutView",
       "align_content": null,
       "align_items": null,
       "align_self": null,
       "border_bottom": null,
       "border_left": null,
       "border_right": null,
       "border_top": null,
       "bottom": null,
       "display": null,
       "flex": null,
       "flex_flow": null,
       "grid_area": null,
       "grid_auto_columns": null,
       "grid_auto_flow": null,
       "grid_auto_rows": null,
       "grid_column": null,
       "grid_gap": null,
       "grid_row": null,
       "grid_template_areas": null,
       "grid_template_columns": null,
       "grid_template_rows": null,
       "height": null,
       "justify_content": null,
       "justify_items": null,
       "left": null,
       "margin": null,
       "max_height": null,
       "max_width": null,
       "min_height": null,
       "min_width": null,
       "object_fit": null,
       "object_position": null,
       "order": null,
       "overflow": null,
       "padding": null,
       "right": null,
       "top": null,
       "visibility": null,
       "width": null
      }
     },
     "d913ddbf3a004fb5bb6580d5ed3f0a90": {
      "model_module": "@jupyter-widgets/controls",
      "model_module_version": "2.0.0",
      "model_name": "HTMLModel",
      "state": {
       "_dom_classes": [],
       "_model_module": "@jupyter-widgets/controls",
       "_model_module_version": "2.0.0",
       "_model_name": "HTMLModel",
       "_view_count": null,
       "_view_module": "@jupyter-widgets/controls",
       "_view_module_version": "2.0.0",
       "_view_name": "HTMLView",
       "description": "",
       "description_allow_html": false,
       "layout": "IPY_MODEL_eee34b304cbe4150964502e18ad9eeaf",
       "placeholder": "​",
       "style": "IPY_MODEL_c48fbd9c40924cb58295636bf1cdaf33",
       "tabbable": null,
       "tooltip": null,
       "value": "<h4>Closed PRs for repo: <a href=\"https://github.com/jupyterlab/jupyter-ai\">jupyterlab/jupyter-ai</a></h4>\n<h5></h5>\n<ul>\n<li><a href=\"https://github.com/jupyterlab/jupyter-ai/issues/327\">(#327)</a>: <em>replace c.ServerApp.root_dir by environment variable</em> by <strong><a href=\"https://github.com/jhgoebbert\">@jhgoebbert</a></strong> merged by <strong><a href=\"https://github.com/dlqqq\">@dlqqq</a></strong></li>\n<li><a href=\"https://github.com/jupyterlab/jupyter-ai/issues/441\">(#441)</a>: <em>Add option to delete config to buildErrorWidget</em> by <strong><a href=\"https://github.com/andrii-i\">@andrii-i</a></strong> merged by <strong><a href=\"https://github.com/dlqqq\">@dlqqq</a></strong></li>\n<li><a href=\"https://github.com/jupyterlab/jupyter-ai/issues/442\">(#442)</a>: <em>Improve LearnChatHandler</em> by <strong><a href=\"https://github.com/dlqqq\">@dlqqq</a></strong> merged by <strong><a href=\"https://github.com/dlqqq\">@dlqqq</a></strong></li>\n<li><a href=\"https://github.com/jupyterlab/jupyter-ai/issues/544\">(#544)</a>: <em>WIP: Gather shared Python dependencies</em> by <strong><a href=\"https://github.com/dlqqq\">@dlqqq</a></strong> merged by <strong><a href=\"https://github.com/dlqqq\">@dlqqq</a></strong></li>\n<li><a href=\"https://github.com/jupyterlab/jupyter-ai/issues/745\">(#745)</a>: <em>Keep version of magics package consistent in future releases</em> by <strong><a href=\"https://github.com/dlqqq\">@dlqqq</a></strong> merged by <strong><a href=\"https://github.com/dlqqq\">@dlqqq</a></strong></li>\n<li><a href=\"https://github.com/jupyterlab/jupyter-ai/issues/1002\">(#1002)</a>: <em>Fix inline completion bug, add test cases</em> by <strong><a href=\"https://github.com/hiCXK\">@hiCXK</a></strong> merged by <strong><a href=\"https://github.com/dlqqq\">@dlqqq</a></strong></li>\n<li><a href=\"https://github.com/jupyterlab/jupyter-ai/issues/1248\">(#1248)</a>: <em>Simplifying the OpenAI provider to use multiple model providers</em> by <strong><a href=\"https://github.com/srdas\">@srdas</a></strong> merged by <strong><a href=\"https://github.com/srdas\">@srdas</a></strong></li>\n<li><a href=\"https://github.com/jupyterlab/jupyter-ai/issues/1249\">(#1249)</a>: <em>Make Native Chat Handlers Overridable via Entry Points</em> by <strong><a href=\"https://github.com/Darshan808\">@Darshan808</a></strong> merged by <strong><a href=\"https://github.com/dlqqq\">@dlqqq</a></strong></li>\n<li><a href=\"https://github.com/jupyterlab/jupyter-ai/issues/1257\">(#1257)</a>: <em>Refactor Chat Handlers to Simplify Initialization</em> by <strong><a href=\"https://github.com/Darshan808\">@Darshan808</a></strong> merged by <strong><a href=\"https://github.com/dlqqq\">@dlqqq</a></strong></li>\n<li><a href=\"https://github.com/jupyterlab/jupyter-ai/issues/1264\">(#1264)</a>: <em>Allow embedding model fields, fix coupled model fields, add custom OpenAI provider</em> by <strong><a href=\"https://github.com/srdas\">@srdas</a></strong> merged by <strong><a href=\"https://github.com/srdas\">@srdas</a></strong></li>\n<li><a href=\"https://github.com/jupyterlab/jupyter-ai/issues/1266\">(#1266)</a>: <em>Backport PR #1257 on branch 2.x (Refactor Chat Handlers to Simplify Initialization)</em> by <strong><a href=\"https://github.com/Darshan808\">@Darshan808</a></strong> merged by <strong><a href=\"https://github.com/dlqqq\">@dlqqq</a></strong></li>\n<li><a href=\"https://github.com/jupyterlab/jupyter-ai/issues/1268\">(#1268)</a>: <em>Allow chat handlers to be initialized in any order</em> by <strong><a href=\"https://github.com/Darshan808\">@Darshan808</a></strong> merged by <strong><a href=\"https://github.com/dlqqq\">@dlqqq</a></strong></li>\n<li><a href=\"https://github.com/jupyterlab/jupyter-ai/issues/1269\">(#1269)</a>: <em>Backport PR #1268 on branch 2.x (Allow chat handlers to be initialized in any order)</em> by <strong><a href=\"https://github.com/meeseeksmachine\">@meeseeksmachine</a></strong> merged by <strong><a href=\"https://github.com/srdas\">@srdas</a></strong></li>\n<li><a href=\"https://github.com/jupyterlab/jupyter-ai/issues/1272\">(#1272)</a>: <em>Correct minimum versions in dependency version ranges</em> by <strong><a href=\"https://github.com/dlqqq\">@dlqqq</a></strong> merged by <strong><a href=\"https://github.com/dlqqq\">@dlqqq</a></strong></li>\n<li><a href=\"https://github.com/jupyterlab/jupyter-ai/issues/1274\">(#1274)</a>: <em>Backport PR #1249 on branch 2.x (Make Native Chat Handlers Overridable via Entry Points)</em> by <strong><a href=\"https://github.com/Darshan808\">@Darshan808</a></strong> merged by <strong><a href=\"https://github.com/dlqqq\">@dlqqq</a></strong></li>\n<li><a href=\"https://github.com/jupyterlab/jupyter-ai/issues/1275\">(#1275)</a>: <em>Backport PR #1272 on branch 2.x (Correct minimum versions in dependency version ranges)</em> by <strong><a href=\"https://github.com/meeseeksmachine\">@meeseeksmachine</a></strong> merged by <strong><a href=\"https://github.com/dlqqq\">@dlqqq</a></strong></li>\n<li><a href=\"https://github.com/jupyterlab/jupyter-ai/issues/1280\">(#1280)</a>: <em>Ensure magics package version is consistent in future releases</em> by <strong><a href=\"https://github.com/dlqqq\">@dlqqq</a></strong> merged by <strong><a href=\"https://github.com/dlqqq\">@dlqqq</a></strong></li>\n<li><a href=\"https://github.com/jupyterlab/jupyter-ai/issues/1282\">(#1282)</a>: <em>Backport PR #1264 on branch 2.x (Allow embedding model fields, fix coupled model fields, add custom OpenAI provider)</em> by <strong><a href=\"https://github.com/meeseeksmachine\">@meeseeksmachine</a></strong> merged by <strong><a href=\"https://github.com/srdas\">@srdas</a></strong></li>\n<li><a href=\"https://github.com/jupyterlab/jupyter-ai/issues/1284\">(#1284)</a>: <em>Backport PR #1280 on branch 2.x (Ensure magics package version is consistent in future releases)</em> by <strong><a href=\"https://github.com/meeseeksmachine\">@meeseeksmachine</a></strong> merged by <strong><a href=\"https://github.com/dlqqq\">@dlqqq</a></strong></li>\n<li><a href=\"https://github.com/jupyterlab/jupyter-ai/issues/1285\">(#1285)</a>: _Update <code>learn.py</code> to catch missing vector index on startup and print logging notice _ by <strong><a href=\"https://github.com/srdas\">@srdas</a></strong> merged by <strong><a href=\"https://github.com/srdas\">@srdas</a></strong></li>\n<li><a href=\"https://github.com/jupyterlab/jupyter-ai/issues/1286\">(#1286)</a>: <em>Update learn.py to catch missing vector index on startup and print logging notice in 2.x</em> by <strong><a href=\"https://github.com/srdas\">@srdas</a></strong> merged by <strong><a href=\"https://github.com/srdas\">@srdas</a></strong></li>\n<li><a href=\"https://github.com/jupyterlab/jupyter-ai/issues/1287\">(#1287)</a>: <em>Remove error log emitted when FAISS file is absent</em> by <strong><a href=\"https://github.com/srdas\">@srdas</a></strong> merged by <strong><a href=\"https://github.com/srdas\">@srdas</a></strong></li>\n<li><a href=\"https://github.com/jupyterlab/jupyter-ai/issues/1288\">(#1288)</a>: <em>Added help text fields for embedding providers in the AI Setting page</em> by <strong><a href=\"https://github.com/srdas\">@srdas</a></strong> merged by <strong><a href=\"https://github.com/srdas\">@srdas</a></strong></li>\n<li><a href=\"https://github.com/jupyterlab/jupyter-ai/issues/1289\">(#1289)</a>: <em>Backport PR #1287 on branch 2.x (Remove error log emitted when FAISS file is absent)</em> by <strong><a href=\"https://github.com/meeseeksmachine\">@meeseeksmachine</a></strong> merged by <strong><a href=\"https://github.com/srdas\">@srdas</a></strong></li>\n<li><a href=\"https://github.com/jupyterlab/jupyter-ai/issues/1290\">(#1290)</a>: <em>[v3] Upgrade to jupyterlab-chat v0.8, restore context command completions</em> by <strong><a href=\"https://github.com/dlqqq\">@dlqqq</a></strong> merged by <strong><a href=\"https://github.com/dlqqq\">@dlqqq</a></strong></li>\n<li><a href=\"https://github.com/jupyterlab/jupyter-ai/issues/1292\">(#1292)</a>: <em>Backport PR #1288 on branch 2.x (Added help text fields for embedding providers in the AI Setting page)</em> by <strong><a href=\"https://github.com/meeseeksmachine\">@meeseeksmachine</a></strong> merged by <strong><a href=\"https://github.com/srdas\">@srdas</a></strong></li>\n<li><a href=\"https://github.com/jupyterlab/jupyter-ai/issues/1294\">(#1294)</a>: <em>Migrate old config schemas, fix v2.31.0 regression</em> by <strong><a href=\"https://github.com/dlqqq\">@dlqqq</a></strong> merged by <strong><a href=\"https://github.com/dlqqq\">@dlqqq</a></strong></li>\n<li><a href=\"https://github.com/jupyterlab/jupyter-ai/issues/1295\">(#1295)</a>: <em>Backport PR #1294 on branch 2.x (Migrate old config schemas, fix v2.31.0 regression)</em> by <strong><a href=\"https://github.com/meeseeksmachine\">@meeseeksmachine</a></strong> merged by <strong><a href=\"https://github.com/dlqqq\">@dlqqq</a></strong></li>\n<li><a href=\"https://github.com/jupyterlab/jupyter-ai/issues/1298\">(#1298)</a>: <em>Pass <code>model_parameters</code> trait to embedding &amp; completion models</em> by <strong><a href=\"https://github.com/srdas\">@srdas</a></strong> merged by <strong><a href=\"https://github.com/srdas\">@srdas</a></strong></li>\n<li><a href=\"https://github.com/jupyterlab/jupyter-ai/issues/1302\">(#1302)</a>: <em>Backport PR #1298 on branch 2.x (Pass <code>model_parameters</code> trait to embedding &amp; completion models)</em> by <strong><a href=\"https://github.com/meeseeksmachine\">@meeseeksmachine</a></strong> merged by <strong><a href=\"https://github.com/dlqqq\">@dlqqq</a></strong></li>\n<li><a href=\"https://github.com/jupyterlab/jupyter-ai/issues/1303\">(#1303)</a>: <em>Add <code>default_completions_model</code> trait</em> by <strong><a href=\"https://github.com/srdas\">@srdas</a></strong> merged by <strong><a href=\"https://github.com/srdas\">@srdas</a></strong></li>\n<li><a href=\"https://github.com/jupyterlab/jupyter-ai/issues/1306\">(#1306)</a>: <em>Backport PR #1303 on branch 2.x (Add <code>default_completions_model</code> trait)</em> by <strong><a href=\"https://github.com/srdas\">@srdas</a></strong> merged by <strong><a href=\"https://github.com/srdas\">@srdas</a></strong></li>\n<li><a href=\"https://github.com/jupyterlab/jupyter-ai/issues/1309\">(#1309)</a>: <em>Open the AI settings in a side panel in Notebook application</em> by <strong><a href=\"https://github.com/brichet\">@brichet</a></strong> merged by <strong><a href=\"https://github.com/brichet\">@brichet</a></strong></li>\n<li><a href=\"https://github.com/jupyterlab/jupyter-ai/issues/1318\">(#1318)</a>: <em>Update documentation to show usage with OpenRouter API and URL</em> by <strong><a href=\"https://github.com/srdas\">@srdas</a></strong> merged by <strong><a href=\"https://github.com/srdas\">@srdas</a></strong></li>\n<li><a href=\"https://github.com/jupyterlab/jupyter-ai/issues/1319\">(#1319)</a>: <em>Backport PR #1318 on branch 2.x (Update documentation to show usage with OpenRouter API and URL)</em> by <strong><a href=\"https://github.com/meeseeksmachine\">@meeseeksmachine</a></strong> merged by <strong><a href=\"https://github.com/srdas\">@srdas</a></strong></li>\n<li><a href=\"https://github.com/jupyterlab/jupyter-ai/issues/1321\">(#1321)</a>: <em>[2.x] Expand edge case handling in ConfigManager</em> by <strong><a href=\"https://github.com/dlqqq\">@dlqqq</a></strong> merged by <strong><a href=\"https://github.com/dlqqq\">@dlqqq</a></strong></li>\n<li><a href=\"https://github.com/jupyterlab/jupyter-ai/issues/1322\">(#1322)</a>: <em>[3.x] Expand edge case handling in ConfigManager</em> by <strong><a href=\"https://github.com/dlqqq\">@dlqqq</a></strong> merged by <strong><a href=\"https://github.com/dlqqq\">@dlqqq</a></strong></li>\n<li><a href=\"https://github.com/jupyterlab/jupyter-ai/issues/1324\">(#1324)</a>: <em>Introduce AI persona framework</em> by <strong><a href=\"https://github.com/dlqqq\">@dlqqq</a></strong> merged by <strong><a href=\"https://github.com/dlqqq\">@dlqqq</a></strong></li>\n<li><a href=\"https://github.com/jupyterlab/jupyter-ai/issues/1325\">(#1325)</a>: <em>Added new <code>gpt-4.1</code> models</em> by <strong><a href=\"https://github.com/srdas\">@srdas</a></strong> merged by <strong><a href=\"https://github.com/srdas\">@srdas</a></strong></li>\n<li><a href=\"https://github.com/jupyterlab/jupyter-ai/issues/1329\">(#1329)</a>: <em>Add <code>pyupgrade --py39-plus</code> and <code>autoflake</code> to <code>pre-commit</code> config</em> by <strong><a href=\"https://github.com/rominf\">@rominf</a></strong> merged by <strong><a href=\"https://github.com/dlqqq\">@dlqqq</a></strong></li>\n<li><a href=\"https://github.com/jupyterlab/jupyter-ai/issues/1330\">(#1330)</a>: <em>Handle missing field in config.json on version upgrade</em> by <strong><a href=\"https://github.com/srdas\">@srdas</a></strong> merged by <strong><a href=\"https://github.com/srdas\">@srdas</a></strong></li>\n<li><a href=\"https://github.com/jupyterlab/jupyter-ai/issues/1331\">(#1331)</a>: <em>Backport PR #1330 on branch 2.x (Handle missing field in config.json on version upgrade)</em> by <strong><a href=\"https://github.com/meeseeksmachine\">@meeseeksmachine</a></strong> merged by <strong><a href=\"https://github.com/srdas\">@srdas</a></strong></li>\n<li><a href=\"https://github.com/jupyterlab/jupyter-ai/issues/1333\">(#1333)</a>: <em>Added a local identity provider.</em> by <strong><a href=\"https://github.com/3coins\">@3coins</a></strong> merged by <strong><a href=\"https://github.com/dlqqq\">@dlqqq</a></strong></li>\n<li><a href=\"https://github.com/jupyterlab/jupyter-ai/issues/1334\">(#1334)</a>: <em>Backport PR #1333 on branch 2.x (Added a local identity provider.)</em> by <strong><a href=\"https://github.com/meeseeksmachine\">@meeseeksmachine</a></strong> merged by <strong><a href=\"https://github.com/dlqqq\">@dlqqq</a></strong></li>\n<li><a href=\"https://github.com/jupyterlab/jupyter-ai/issues/1340\">(#1340)</a>: <em>Revert \"Introduce AI persona framework (#1324)\"</em> by <strong><a href=\"https://github.com/dlqqq\">@dlqqq</a></strong> merged by <strong><a href=\"https://github.com/dlqqq\">@dlqqq</a></strong></li>\n<li><a href=\"https://github.com/jupyterlab/jupyter-ai/issues/1341\">(#1341)</a>: <em>Introduce AI persona framework</em> by <strong><a href=\"https://github.com/dlqqq\">@dlqqq</a></strong> merged by <strong><a href=\"https://github.com/dlqqq\">@dlqqq</a></strong></li>\n</ul>"
      }
     },
     "dd75c9e1fbd74761a24358dfbc51af8b": {
      "model_module": "@jupyter-widgets/controls",
      "model_module_version": "2.0.0",
      "model_name": "TabModel",
      "state": {
       "_dom_classes": [],
       "_model_module": "@jupyter-widgets/controls",
       "_model_module_version": "2.0.0",
       "_model_name": "TabModel",
       "_view_count": null,
       "_view_module": "@jupyter-widgets/controls",
       "_view_module_version": "2.0.0",
       "_view_name": "TabView",
       "box_style": "",
       "children": [
        "IPY_MODEL_3b64bc684f2843de971e43905cc7229a",
        "IPY_MODEL_d913ddbf3a004fb5bb6580d5ed3f0a90",
        "IPY_MODEL_80e665292ae14f678bd7114a164b9add",
        "IPY_MODEL_58ddb98ee2a345ddb6c543c56e658cc2",
        "IPY_MODEL_4b6d4dfed0d34d80be10705dddc05e68",
        "IPY_MODEL_b24e71c28e5e45c8a33c0ec4955371f9",
        "IPY_MODEL_9d71b86d23064c9eae20592b85fa9508"
       ],
       "layout": "IPY_MODEL_8158bef9694a48fd89244d543412975b",
       "selected_index": 0,
       "tabbable": null,
       "titles": [
        "frontends-team-compass",
        "jupyter-ai",
        "jupyter-collaboration",
        "jupyterlab",
        "jupyterlab-desktop",
        "jupyterlab-git",
        "lumino"
       ],
       "tooltip": null
      }
     },
     "ddb46e7dd328455d81fb909f9f91778f": {
      "model_module": "@jupyter-widgets/controls",
      "model_module_version": "2.0.0",
      "model_name": "HTMLStyleModel",
      "state": {
       "_model_module": "@jupyter-widgets/controls",
       "_model_module_version": "2.0.0",
       "_model_name": "HTMLStyleModel",
       "_view_count": null,
       "_view_module": "@jupyter-widgets/base",
       "_view_module_version": "2.0.0",
       "_view_name": "StyleView",
       "background": null,
       "description_width": "",
       "font_size": null,
       "text_color": null
      }
     },
     "e379aa00fd184269a40d82528ce7cdfb": {
      "model_module": "@jupyter-widgets/controls",
      "model_module_version": "2.0.0",
      "model_name": "HTMLModel",
      "state": {
       "_dom_classes": [],
       "_model_module": "@jupyter-widgets/controls",
       "_model_module_version": "2.0.0",
       "_model_name": "HTMLModel",
       "_view_count": null,
       "_view_module": "@jupyter-widgets/controls",
       "_view_module_version": "2.0.0",
       "_view_name": "HTMLView",
       "description": "",
       "description_allow_html": false,
       "layout": "IPY_MODEL_1ca64f079e914299a9e8b1759ba61f01",
       "placeholder": "​",
       "style": "IPY_MODEL_39849e4f1e314a6585bc571f9b153fdc",
       "tabbable": null,
       "tooltip": null,
       "value": "<h5><a href=\"https://github.com/jupyterlab/jupyter-collaboration\">jupyterlab/jupyter-collaboration</a></h5>\n<ul>\n<li><a href=\"https://github.com/jupyterlab/jupyter-collaboration/issues/462\">(#462)</a>: <em>Installing <code>jupyter-collaboration</code> breaks notebook editor</em> by <strong><a href=\"https://github.com/nwalters512\">@nwalters512</a></strong></li>\n<li><a href=\"https://github.com/jupyterlab/jupyter-collaboration/issues/450\">(#450)</a>: <em>Empty collaborators list when file without icon is opened.</em> by <strong><a href=\"https://github.com/jochym\">@jochym</a></strong></li>\n<li><a href=\"https://github.com/jupyterlab/jupyter-collaboration/issues/430\">(#430)</a>: <em>Make the use of <code>YStore</code> configurable</em> by <strong><a href=\"https://github.com/dlqqq\">@dlqqq</a></strong></li>\n<li><a href=\"https://github.com/jupyterlab/jupyter-collaboration/issues/473\">(#473)</a>: <em>Jupyterlab 4.4.0 and Jupyter-collaboration 4.0.1: Collaborating users list populated, but no live edits visible</em> by <strong><a href=\"https://github.com/Sieboldianus\">@Sieboldianus</a></strong></li>\n<li><a href=\"https://github.com/jupyterlab/jupyter-collaboration/issues/477\">(#477)</a>: <em>Investigate unused (?) code for chat message propagation</em> by <strong><a href=\"https://github.com/krassowski\">@krassowski</a></strong></li>\n</ul>"
      }
     },
     "e68050dec49e4ebdac17ef83e298c607": {
      "model_module": "@jupyter-widgets/base",
      "model_module_version": "2.0.0",
      "model_name": "LayoutModel",
      "state": {
       "_model_module": "@jupyter-widgets/base",
       "_model_module_version": "2.0.0",
       "_model_name": "LayoutModel",
       "_view_count": null,
       "_view_module": "@jupyter-widgets/base",
       "_view_module_version": "2.0.0",
       "_view_name": "LayoutView",
       "align_content": null,
       "align_items": null,
       "align_self": null,
       "border_bottom": null,
       "border_left": null,
       "border_right": null,
       "border_top": null,
       "bottom": null,
       "display": null,
       "flex": null,
       "flex_flow": null,
       "grid_area": null,
       "grid_auto_columns": null,
       "grid_auto_flow": null,
       "grid_auto_rows": null,
       "grid_column": null,
       "grid_gap": null,
       "grid_row": null,
       "grid_template_areas": null,
       "grid_template_columns": null,
       "grid_template_rows": null,
       "height": null,
       "justify_content": null,
       "justify_items": null,
       "left": null,
       "margin": null,
       "max_height": null,
       "max_width": null,
       "min_height": null,
       "min_width": null,
       "object_fit": null,
       "object_position": null,
       "order": null,
       "overflow": null,
       "padding": null,
       "right": null,
       "top": null,
       "visibility": null,
       "width": null
      }
     },
     "ebd52017d54548619d0c65161cf1e5af": {
      "model_module": "@jupyter-widgets/base",
      "model_module_version": "2.0.0",
      "model_name": "LayoutModel",
      "state": {
       "_model_module": "@jupyter-widgets/base",
       "_model_module_version": "2.0.0",
       "_model_name": "LayoutModel",
       "_view_count": null,
       "_view_module": "@jupyter-widgets/base",
       "_view_module_version": "2.0.0",
       "_view_name": "LayoutView",
       "align_content": null,
       "align_items": null,
       "align_self": null,
       "border_bottom": null,
       "border_left": null,
       "border_right": null,
       "border_top": null,
       "bottom": null,
       "display": null,
       "flex": null,
       "flex_flow": null,
       "grid_area": null,
       "grid_auto_columns": null,
       "grid_auto_flow": null,
       "grid_auto_rows": null,
       "grid_column": null,
       "grid_gap": null,
       "grid_row": null,
       "grid_template_areas": null,
       "grid_template_columns": null,
       "grid_template_rows": null,
       "height": null,
       "justify_content": null,
       "justify_items": null,
       "left": null,
       "margin": null,
       "max_height": null,
       "max_width": null,
       "min_height": null,
       "min_width": null,
       "object_fit": null,
       "object_position": null,
       "order": null,
       "overflow": null,
       "padding": null,
       "right": null,
       "top": null,
       "visibility": null,
       "width": null
      }
     },
     "ecdfb0d59e1c4aab8b52caa00dfd7842": {
      "model_module": "@jupyter-widgets/base",
      "model_module_version": "2.0.0",
      "model_name": "LayoutModel",
      "state": {
       "_model_module": "@jupyter-widgets/base",
       "_model_module_version": "2.0.0",
       "_model_name": "LayoutModel",
       "_view_count": null,
       "_view_module": "@jupyter-widgets/base",
       "_view_module_version": "2.0.0",
       "_view_name": "LayoutView",
       "align_content": null,
       "align_items": null,
       "align_self": null,
       "border_bottom": null,
       "border_left": null,
       "border_right": null,
       "border_top": null,
       "bottom": null,
       "display": null,
       "flex": null,
       "flex_flow": null,
       "grid_area": null,
       "grid_auto_columns": null,
       "grid_auto_flow": null,
       "grid_auto_rows": null,
       "grid_column": null,
       "grid_gap": null,
       "grid_row": null,
       "grid_template_areas": null,
       "grid_template_columns": null,
       "grid_template_rows": null,
       "height": null,
       "justify_content": null,
       "justify_items": null,
       "left": null,
       "margin": null,
       "max_height": null,
       "max_width": null,
       "min_height": null,
       "min_width": null,
       "object_fit": null,
       "object_position": null,
       "order": null,
       "overflow": null,
       "padding": null,
       "right": null,
       "top": null,
       "visibility": null,
       "width": null
      }
     },
     "eee34b304cbe4150964502e18ad9eeaf": {
      "model_module": "@jupyter-widgets/base",
      "model_module_version": "2.0.0",
      "model_name": "LayoutModel",
      "state": {
       "_model_module": "@jupyter-widgets/base",
       "_model_module_version": "2.0.0",
       "_model_name": "LayoutModel",
       "_view_count": null,
       "_view_module": "@jupyter-widgets/base",
       "_view_module_version": "2.0.0",
       "_view_name": "LayoutView",
       "align_content": null,
       "align_items": null,
       "align_self": null,
       "border_bottom": null,
       "border_left": null,
       "border_right": null,
       "border_top": null,
       "bottom": null,
       "display": null,
       "flex": null,
       "flex_flow": null,
       "grid_area": null,
       "grid_auto_columns": null,
       "grid_auto_flow": null,
       "grid_auto_rows": null,
       "grid_column": null,
       "grid_gap": null,
       "grid_row": null,
       "grid_template_areas": null,
       "grid_template_columns": null,
       "grid_template_rows": null,
       "height": null,
       "justify_content": null,
       "justify_items": null,
       "left": null,
       "margin": null,
       "max_height": null,
       "max_width": null,
       "min_height": null,
       "min_width": null,
       "object_fit": null,
       "object_position": null,
       "order": null,
       "overflow": null,
       "padding": null,
       "right": null,
       "top": null,
       "visibility": null,
       "width": null
      }
     },
     "f741a0c21dfa4bafa9f3ade67f2c81c5": {
      "model_module": "@jupyter-widgets/controls",
      "model_module_version": "2.0.0",
      "model_name": "HTMLStyleModel",
      "state": {
       "_model_module": "@jupyter-widgets/controls",
       "_model_module_version": "2.0.0",
       "_model_name": "HTMLStyleModel",
       "_view_count": null,
       "_view_module": "@jupyter-widgets/base",
       "_view_module_version": "2.0.0",
       "_view_name": "StyleView",
       "background": null,
       "description_width": "",
       "font_size": null,
       "text_color": null
      }
     },
     "f86233ac36e14c2ea6ff2560ceb8d788": {
      "model_module": "@jupyter-widgets/base",
      "model_module_version": "2.0.0",
      "model_name": "LayoutModel",
      "state": {
       "_model_module": "@jupyter-widgets/base",
       "_model_module_version": "2.0.0",
       "_model_name": "LayoutModel",
       "_view_count": null,
       "_view_module": "@jupyter-widgets/base",
       "_view_module_version": "2.0.0",
       "_view_name": "LayoutView",
       "align_content": null,
       "align_items": null,
       "align_self": null,
       "border_bottom": null,
       "border_left": null,
       "border_right": null,
       "border_top": null,
       "bottom": null,
       "display": null,
       "flex": null,
       "flex_flow": null,
       "grid_area": null,
       "grid_auto_columns": null,
       "grid_auto_flow": null,
       "grid_auto_rows": null,
       "grid_column": null,
       "grid_gap": null,
       "grid_row": null,
       "grid_template_areas": null,
       "grid_template_columns": null,
       "grid_template_rows": null,
       "height": null,
       "justify_content": null,
       "justify_items": null,
       "left": null,
       "margin": null,
       "max_height": null,
       "max_width": null,
       "min_height": null,
       "min_width": null,
       "object_fit": null,
       "object_position": null,
       "order": null,
       "overflow": null,
       "padding": null,
       "right": null,
       "top": null,
       "visibility": null,
       "width": null
      }
     },
     "fb063dfca8f24a39904a476ab4263661": {
      "model_module": "@jupyter-widgets/controls",
      "model_module_version": "2.0.0",
      "model_name": "HTMLStyleModel",
      "state": {
       "_model_module": "@jupyter-widgets/controls",
       "_model_module_version": "2.0.0",
       "_model_name": "HTMLStyleModel",
       "_view_count": null,
       "_view_module": "@jupyter-widgets/base",
       "_view_module_version": "2.0.0",
       "_view_name": "StyleView",
       "background": null,
       "description_width": "",
       "font_size": null,
       "text_color": null
      }
     },
     "fb56274264134577962687c291c8db27": {
      "model_module": "@jupyter-widgets/controls",
      "model_module_version": "2.0.0",
      "model_name": "HTMLStyleModel",
      "state": {
       "_model_module": "@jupyter-widgets/controls",
       "_model_module_version": "2.0.0",
       "_model_name": "HTMLStyleModel",
       "_view_count": null,
       "_view_module": "@jupyter-widgets/base",
       "_view_module_version": "2.0.0",
       "_view_name": "StyleView",
       "background": null,
       "description_width": "",
       "font_size": null,
       "text_color": null
      }
     },
     "febd6a82b83d4695837cd6a2cd001f67": {
      "model_module": "@jupyter-widgets/base",
      "model_module_version": "2.0.0",
      "model_name": "LayoutModel",
      "state": {
       "_model_module": "@jupyter-widgets/base",
       "_model_module_version": "2.0.0",
       "_model_name": "LayoutModel",
       "_view_count": null,
       "_view_module": "@jupyter-widgets/base",
       "_view_module_version": "2.0.0",
       "_view_name": "LayoutView",
       "align_content": null,
       "align_items": null,
       "align_self": null,
       "border_bottom": null,
       "border_left": null,
       "border_right": null,
       "border_top": null,
       "bottom": null,
       "display": null,
       "flex": null,
       "flex_flow": null,
       "grid_area": null,
       "grid_auto_columns": null,
       "grid_auto_flow": null,
       "grid_auto_rows": null,
       "grid_column": null,
       "grid_gap": null,
       "grid_row": null,
       "grid_template_areas": null,
       "grid_template_columns": null,
       "grid_template_rows": null,
       "height": null,
       "justify_content": null,
       "justify_items": null,
       "left": null,
       "margin": null,
       "max_height": null,
       "max_width": null,
       "min_height": null,
       "min_width": null,
       "object_fit": null,
       "object_position": null,
       "order": null,
       "overflow": null,
       "padding": null,
       "right": null,
       "top": null,
       "visibility": null,
       "width": null
      }
     }
    },
    "version_major": 2,
    "version_minor": 0
   }
  }
 },
 "nbformat": 4,
 "nbformat_minor": 5
}