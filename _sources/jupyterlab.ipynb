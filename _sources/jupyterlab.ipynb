{
 "cells": [
  {
   "cell_type": "markdown",
   "id": "85eb9901",
   "metadata": {
    "papermill": {
     "duration": 0.015443,
     "end_time": "2025-05-21T01:30:45.290179",
     "exception": false,
     "start_time": "2025-05-21T01:30:45.274736",
     "status": "completed"
    },
    "tags": []
   },
   "source": [
    "# {glue:text}`jupyterlab_github_org`\n",
    "\n",
    "**Activity from {glue:}`jupyterlab_start` to {glue:}`jupyterlab_stop`**"
   ]
  },
  {
   "cell_type": "code",
   "execution_count": 1,
   "id": "c8a63ac1",
   "metadata": {
    "editable": true,
    "execution": {
     "iopub.execute_input": "2025-05-21T01:30:45.321511Z",
     "iopub.status.busy": "2025-05-21T01:30:45.320949Z",
     "iopub.status.idle": "2025-05-21T01:30:46.176947Z",
     "shell.execute_reply": "2025-05-21T01:30:46.176250Z"
    },
    "papermill": {
     "duration": 0.873248,
     "end_time": "2025-05-21T01:30:46.178336",
     "exception": false,
     "start_time": "2025-05-21T01:30:45.305088",
     "status": "completed"
    },
    "slideshow": {
     "slide_type": ""
    },
    "tags": [
     "remove_cell"
    ]
   },
   "outputs": [],
   "source": [
    "from datetime import date\n",
    "from dateutil.relativedelta import relativedelta\n",
    "from myst_nb import glue\n",
    "import seaborn as sns\n",
    "import pandas as pd\n",
    "import numpy as np\n",
    "import altair as alt\n",
    "from markdown import markdown\n",
    "from IPython.display import Markdown\n",
    "from ipywidgets.widgets import HTML, Tab\n",
    "from ipywidgets import widgets\n",
    "from datetime import timedelta\n",
    "from matplotlib import pyplot as plt\n",
    "import os.path as op\n",
    "from json import loads\n",
    "\n",
    "from warnings import simplefilter\n",
    "simplefilter('ignore')\n",
    "pd.set_option('display.max_columns', None) # 'None' means show all"
   ]
  },
  {
   "cell_type": "code",
   "execution_count": 2,
   "id": "2055c21f",
   "metadata": {
    "editable": true,
    "execution": {
     "iopub.execute_input": "2025-05-21T01:30:46.210535Z",
     "iopub.status.busy": "2025-05-21T01:30:46.209882Z",
     "iopub.status.idle": "2025-05-21T01:30:46.217730Z",
     "shell.execute_reply": "2025-05-21T01:30:46.217112Z"
    },
    "papermill": {
     "duration": 0.025316,
     "end_time": "2025-05-21T01:30:46.218827",
     "exception": false,
     "start_time": "2025-05-21T01:30:46.193511",
     "status": "completed"
    },
    "slideshow": {
     "slide_type": ""
    },
    "tags": [
     "remove_cell"
    ]
   },
   "outputs": [],
   "source": [
    "# Altair config\n",
    "def author_url(author):\n",
    "    return f\"https://github.com/{author}\"\n",
    "\n",
    "def alt_theme():\n",
    "    return {\n",
    "        'config': {\n",
    "            'axisLeft': {\n",
    "                'labelFontSize': 15,\n",
    "            },\n",
    "            'axisBottom': {\n",
    "                'labelFontSize': 15,\n",
    "            },\n",
    "        }\n",
    "    }\n",
    "\n",
    "alt.themes.register('my_theme', alt_theme)\n",
    "alt.themes.enable(\"my_theme\")\n",
    "\n",
    "\n",
    "# Define colors we'll use for GitHub membership\n",
    "author_types = ['MEMBER', 'CONTRIBUTOR', 'COLLABORATOR', \"NONE\"]\n",
    "\n",
    "author_palette = np.array(sns.palettes.blend_palette([\"lightgrey\", \"lightgreen\", \"darkgreen\"], 4)) * 256\n",
    "author_colors = [\"rgb({}, {}, {})\".format(*color) for color in author_palette]\n",
    "author_color_dict = {key: val for key, val in zip(author_types, author_palette)}"
   ]
  },
  {
   "cell_type": "code",
   "execution_count": 3,
   "id": "faf941aa",
   "metadata": {
    "editable": true,
    "execution": {
     "iopub.execute_input": "2025-05-21T01:30:46.249020Z",
     "iopub.status.busy": "2025-05-21T01:30:46.248450Z",
     "iopub.status.idle": "2025-05-21T01:30:46.251899Z",
     "shell.execute_reply": "2025-05-21T01:30:46.251225Z"
    },
    "papermill": {
     "duration": 0.01958,
     "end_time": "2025-05-21T01:30:46.253023",
     "exception": false,
     "start_time": "2025-05-21T01:30:46.233443",
     "status": "completed"
    },
    "slideshow": {
     "slide_type": ""
    },
    "tags": [
     "parameters",
     "hide_input",
     "remove_cell"
    ]
   },
   "outputs": [],
   "source": [
    "github_org = \"jupyterhub\"\n",
    "top_n_repos = 15\n",
    "n_days = 90"
   ]
  },
  {
   "cell_type": "code",
   "execution_count": 4,
   "id": "010a6744",
   "metadata": {
    "execution": {
     "iopub.execute_input": "2025-05-21T01:30:46.282008Z",
     "iopub.status.busy": "2025-05-21T01:30:46.281779Z",
     "iopub.status.idle": "2025-05-21T01:30:46.284807Z",
     "shell.execute_reply": "2025-05-21T01:30:46.284253Z"
    },
    "papermill": {
     "duration": 0.018754,
     "end_time": "2025-05-21T01:30:46.285846",
     "exception": false,
     "start_time": "2025-05-21T01:30:46.267092",
     "status": "completed"
    },
    "tags": [
     "injected-parameters",
     "remove-cell"
    ]
   },
   "outputs": [],
   "source": [
    "# Parameters\n",
    "github_org = \"jupyterlab\"\n",
    "n_days = 90\n"
   ]
  },
  {
   "cell_type": "code",
   "execution_count": 5,
   "id": "6b2d9948",
   "metadata": {
    "editable": true,
    "execution": {
     "iopub.execute_input": "2025-05-21T01:30:46.316936Z",
     "iopub.status.busy": "2025-05-21T01:30:46.316656Z",
     "iopub.status.idle": "2025-05-21T01:30:46.339375Z",
     "shell.execute_reply": "2025-05-21T01:30:46.338826Z"
    },
    "papermill": {
     "duration": 0.039973,
     "end_time": "2025-05-21T01:30:46.340521",
     "exception": false,
     "start_time": "2025-05-21T01:30:46.300548",
     "status": "completed"
    },
    "slideshow": {
     "slide_type": ""
    },
    "tags": [
     "remove_cell"
    ]
   },
   "outputs": [
    {
     "data": {
      "application/papermill.record/text/plain": "'jupyterlab'"
     },
     "metadata": {
      "scrapbook": {
       "mime_prefix": "application/papermill.record/",
       "name": "jupyterlab_github_org"
      }
     },
     "output_type": "display_data"
    },
    {
     "data": {
      "application/papermill.record/text/plain": "'2025-02-20'"
     },
     "metadata": {
      "scrapbook": {
       "mime_prefix": "application/papermill.record/",
       "name": "jupyterlab_start"
      }
     },
     "output_type": "display_data"
    },
    {
     "data": {
      "application/papermill.record/text/plain": "'2025-05-21'"
     },
     "metadata": {
      "scrapbook": {
       "mime_prefix": "application/papermill.record/",
       "name": "jupyterlab_stop"
      }
     },
     "output_type": "display_data"
    }
   ],
   "source": [
    "############################################################\n",
    "# Variables\n",
    "stop = date.today()\n",
    "start = date.today() - relativedelta(days=n_days)\n",
    "\n",
    "# Strings for use in queries\n",
    "start_date = f\"{start:%Y-%m-%d}\"\n",
    "stop_date = f\"{stop:%Y-%m-%d}\"\n",
    "\n",
    "# Glue variables for use in markdown\n",
    "glue(f\"{github_org}_github_org\", github_org, display=False)\n",
    "glue(f\"{github_org}_start\", start_date, display=False)\n",
    "glue(f\"{github_org}_stop\", stop_date, display=False)"
   ]
  },
  {
   "cell_type": "markdown",
   "id": "a9dc55e2",
   "metadata": {
    "editable": true,
    "papermill": {
     "duration": 0.014423,
     "end_time": "2025-05-21T01:30:46.369936",
     "exception": false,
     "start_time": "2025-05-21T01:30:46.355513",
     "status": "completed"
    },
    "slideshow": {
     "slide_type": ""
    },
    "tags": []
   },
   "source": [
    "## Load data\n",
    "\n",
    "Load and clean up the data"
   ]
  },
  {
   "cell_type": "code",
   "execution_count": 6,
   "id": "4867b5ae",
   "metadata": {
    "editable": true,
    "execution": {
     "iopub.execute_input": "2025-05-21T01:30:46.400116Z",
     "iopub.status.busy": "2025-05-21T01:30:46.399856Z",
     "iopub.status.idle": "2025-05-21T01:30:46.404601Z",
     "shell.execute_reply": "2025-05-21T01:30:46.403947Z"
    },
    "papermill": {
     "duration": 0.021193,
     "end_time": "2025-05-21T01:30:46.405642",
     "exception": false,
     "start_time": "2025-05-21T01:30:46.384449",
     "status": "completed"
    },
    "slideshow": {
     "slide_type": ""
    },
    "tags": [
     "remove_cell"
    ]
   },
   "outputs": [],
   "source": [
    "from pathlib import Path\n",
    "import sqlite3\n",
    "path_data = Path(\"../data\")\n",
    "path_data = list(path_data.rglob(f\"*{github_org}.db\"))[0]\n",
    "\n",
    "def df_from_sql(query, db):\n",
    "    con = sqlite3.connect(db)\n",
    "    return pd.read_sql(query, con)\n",
    "    con.close()"
   ]
  },
  {
   "cell_type": "code",
   "execution_count": 7,
   "id": "1009d981",
   "metadata": {
    "editable": true,
    "execution": {
     "iopub.execute_input": "2025-05-21T01:30:46.437564Z",
     "iopub.status.busy": "2025-05-21T01:30:46.437112Z",
     "iopub.status.idle": "2025-05-21T01:30:47.298370Z",
     "shell.execute_reply": "2025-05-21T01:30:47.297686Z"
    },
    "papermill": {
     "duration": 0.878872,
     "end_time": "2025-05-21T01:30:47.299711",
     "exception": false,
     "start_time": "2025-05-21T01:30:46.420839",
     "status": "completed"
    },
    "scrolled": true,
    "slideshow": {
     "slide_type": ""
    },
    "tags": [
     "remove_cell"
    ]
   },
   "outputs": [
    {
     "name": "stdout",
     "output_type": "stream",
     "text": [
      "Loading from ../data/0e94c4215e649a3f19cab0230e5b1092-jupyterlab.db\n"
     ]
    }
   ],
   "source": [
    "print(f\"Loading from {path_data}\")\n",
    "repos = df_from_sql(\"SELECT * FROM repos\", path_data)\n",
    "users = df_from_sql(\"SELECT * FROM users\", path_data)\n",
    "issues = df_from_sql(\"SELECT * FROM issues\", path_data)\n",
    "comments = df_from_sql(\"SELECT * FROM issue_comments\", path_data)\n",
    "\n",
    "# Merge repository information into issues\n",
    "def merge_repo_into_df(df, kind):\n",
    "    df = pd.merge(df, users[[\"id\", \"login\"]], left_on=\"user\", right_on=\"id\", suffixes=(\"_issue\", \"_user\"), how=\"inner\")\n",
    "    df = pd.merge(df, repos[[\"id\", \"full_name\", \"name\"]], left_on=\"repo\", right_on=\"id\", suffixes=(\"_issue\", \"_repo\"), how=\"inner\")\n",
    "    df[\"org\"] = df[\"full_name\"].map(lambda a: a.split('/')[0])\n",
    "    df[\"repo\"] = df[\"full_name\"].map(lambda a: a.split('/')[1])\n",
    "    df[\"url\"] = \"https://github.com/\" + df[\"org\"] + \"/\" + df[\"repo\"] + f\"/{kind}/\" + df[\"number\"].astype(str)\n",
    "    return df\n",
    "issues = merge_repo_into_df(issues, kind=\"issues\")\n",
    "\n",
    "# Pull out the Pull Requests from Issues\n",
    "prs = issues.loc[~issues[\"pull_request\"].isna()]\n",
    "def identify_merger(closedby):\n",
    "    if not closedby:\n",
    "        return None\n",
    "    try:\n",
    "        cb = loads(closedby)\n",
    "    except:\n",
    "        print(closedby)\n",
    "    return cb[\"login\"]\n",
    "prs[\"merged_by\"] = prs[\"closed_by\"].map(identify_merger)\n",
    "\n",
    "# These issues now _remove_ the PRs\n",
    "issues = issues.loc[issues[\"pull_request\"].isna()]\n",
    "\n",
    "# Add reactions data\n",
    "def count_positive(a):\n",
    "    a = loads(a)\n",
    "    return a[\"+1\"] + a[\"hooray\"] + a[\"heart\"]\n",
    "issues[\"positive\"] = issues[\"reactions\"].map(count_positive)\n",
    "\n",
    "# Drop comments if there is no associated issue\n",
    "comments = comments.dropna(subset=[\"issue\"])\n",
    "comments[\"issue\"] = comments.loc[:, \"issue\"].astype(int)\n",
    "\n",
    "# Add repository information to comments\n",
    "comments = pd.merge(comments, issues[[\"id_issue\", \"full_name\", \"org\", \"repo\"]], left_on=\"issue\", right_on=\"id_issue\", how=\"inner\", suffixes=(\"_comment\", \"_issue\"))\n",
    "\n",
    "# Merge user data into comments\n",
    "comments = pd.merge(comments, users[[\"id\", \"login\"]], left_on=\"user\", right_on=\"id\", suffixes=(\"_comment\", \"_user\"), how=\"inner\")"
   ]
  },
  {
   "cell_type": "code",
   "execution_count": 8,
   "id": "c58ef867",
   "metadata": {
    "editable": true,
    "execution": {
     "iopub.execute_input": "2025-05-21T01:30:47.330810Z",
     "iopub.status.busy": "2025-05-21T01:30:47.330520Z",
     "iopub.status.idle": "2025-05-21T01:30:47.427624Z",
     "shell.execute_reply": "2025-05-21T01:30:47.426957Z"
    },
    "papermill": {
     "duration": 0.113981,
     "end_time": "2025-05-21T01:30:47.428958",
     "exception": false,
     "start_time": "2025-05-21T01:30:47.314977",
     "status": "completed"
    },
    "slideshow": {
     "slide_type": ""
    },
    "tags": [
     "remove_cell"
    ]
   },
   "outputs": [],
   "source": [
    "# Convert columns to datetime\n",
    "datetime_columns = [\"created_at\", \"closed_at\"]\n",
    "for df in [comments, issues, prs]:\n",
    "    for col in datetime_columns:\n",
    "        if col in df:\n",
    "            df[col] = pd.to_datetime(df[col])\n",
    "            # Strip timezone information so we can run simpler queries\n",
    "            df[col] = df[col].dt.tz_localize(None)"
   ]
  },
  {
   "cell_type": "code",
   "execution_count": 9,
   "id": "2a4ffeba",
   "metadata": {
    "editable": true,
    "execution": {
     "iopub.execute_input": "2025-05-21T01:30:47.461557Z",
     "iopub.status.busy": "2025-05-21T01:30:47.461077Z",
     "iopub.status.idle": "2025-05-21T01:30:47.488631Z",
     "shell.execute_reply": "2025-05-21T01:30:47.487993Z"
    },
    "papermill": {
     "duration": 0.04524,
     "end_time": "2025-05-21T01:30:47.489908",
     "exception": false,
     "start_time": "2025-05-21T01:30:47.444668",
     "status": "completed"
    },
    "slideshow": {
     "slide_type": ""
    },
    "tags": [
     "remove_cell"
    ]
   },
   "outputs": [],
   "source": [
    "# What are the top N repos, we will only plot these in the full data plots\n",
    "top_commented_repos = comments.groupby(\"repo\").count().sort_values(\"created_at\", ascending=False)['created_at']\n",
    "use_repos = top_commented_repos.head(top_n_repos).index.tolist()"
   ]
  },
  {
   "cell_type": "markdown",
   "id": "987c9c81",
   "metadata": {
    "editable": true,
    "papermill": {
     "duration": 0.014784,
     "end_time": "2025-05-21T01:30:47.519825",
     "exception": false,
     "start_time": "2025-05-21T01:30:47.505041",
     "status": "completed"
    },
    "slideshow": {
     "slide_type": ""
    },
    "tags": [],
    "toc-hr-collapsed": false
   },
   "source": [
    "## Merged Pull requests\n",
    "\n",
    "Here's an analysis of **merged pull requests** across each of the repositories in the Jupyter\n",
    "ecosystem."
   ]
  },
  {
   "cell_type": "code",
   "execution_count": 10,
   "id": "3dbe71d9",
   "metadata": {
    "editable": true,
    "execution": {
     "iopub.execute_input": "2025-05-21T01:30:47.550417Z",
     "iopub.status.busy": "2025-05-21T01:30:47.550150Z",
     "iopub.status.idle": "2025-05-21T01:30:47.563555Z",
     "shell.execute_reply": "2025-05-21T01:30:47.563035Z"
    },
    "papermill": {
     "duration": 0.030072,
     "end_time": "2025-05-21T01:30:47.564590",
     "exception": false,
     "start_time": "2025-05-21T01:30:47.534518",
     "status": "completed"
    },
    "slideshow": {
     "slide_type": ""
    },
    "tags": [
     "remove_cell"
    ]
   },
   "outputs": [],
   "source": [
    "merged = prs.query('state == \"closed\" and closed_at > @start_date and closed_at < @stop_date')"
   ]
  },
  {
   "cell_type": "code",
   "execution_count": 11,
   "id": "618d25e0",
   "metadata": {
    "editable": true,
    "execution": {
     "iopub.execute_input": "2025-05-21T01:30:47.596753Z",
     "iopub.status.busy": "2025-05-21T01:30:47.596112Z",
     "iopub.status.idle": "2025-05-21T01:30:47.636920Z",
     "shell.execute_reply": "2025-05-21T01:30:47.636216Z"
    },
    "papermill": {
     "duration": 0.058324,
     "end_time": "2025-05-21T01:30:47.638140",
     "exception": false,
     "start_time": "2025-05-21T01:30:47.579816",
     "status": "completed"
    },
    "slideshow": {
     "slide_type": ""
    },
    "tags": [
     "hide_input"
    ]
   },
   "outputs": [
    {
     "data": {
      "text/html": [
       "\n",
       "<style>\n",
       "  #altair-viz-5a11f966ce5f4668b1762e33b1416f6f.vega-embed {\n",
       "    width: 100%;\n",
       "    display: flex;\n",
       "  }\n",
       "\n",
       "  #altair-viz-5a11f966ce5f4668b1762e33b1416f6f.vega-embed details,\n",
       "  #altair-viz-5a11f966ce5f4668b1762e33b1416f6f.vega-embed details summary {\n",
       "    position: relative;\n",
       "  }\n",
       "</style>\n",
       "<div id=\"altair-viz-5a11f966ce5f4668b1762e33b1416f6f\"></div>\n",
       "<script type=\"text/javascript\">\n",
       "  var VEGA_DEBUG = (typeof VEGA_DEBUG == \"undefined\") ? {} : VEGA_DEBUG;\n",
       "  (function(spec, embedOpt){\n",
       "    let outputDiv = document.currentScript.previousElementSibling;\n",
       "    if (outputDiv.id !== \"altair-viz-5a11f966ce5f4668b1762e33b1416f6f\") {\n",
       "      outputDiv = document.getElementById(\"altair-viz-5a11f966ce5f4668b1762e33b1416f6f\");\n",
       "    }\n",
       "\n",
       "    const paths = {\n",
       "      \"vega\": \"https://cdn.jsdelivr.net/npm/vega@5?noext\",\n",
       "      \"vega-lib\": \"https://cdn.jsdelivr.net/npm/vega-lib?noext\",\n",
       "      \"vega-lite\": \"https://cdn.jsdelivr.net/npm/vega-lite@5.20.1?noext\",\n",
       "      \"vega-embed\": \"https://cdn.jsdelivr.net/npm/vega-embed@6?noext\",\n",
       "    };\n",
       "\n",
       "    function maybeLoadScript(lib, version) {\n",
       "      var key = `${lib.replace(\"-\", \"\")}_version`;\n",
       "      return (VEGA_DEBUG[key] == version) ?\n",
       "        Promise.resolve(paths[lib]) :\n",
       "        new Promise(function(resolve, reject) {\n",
       "          var s = document.createElement('script');\n",
       "          document.getElementsByTagName(\"head\")[0].appendChild(s);\n",
       "          s.async = true;\n",
       "          s.onload = () => {\n",
       "            VEGA_DEBUG[key] = version;\n",
       "            return resolve(paths[lib]);\n",
       "          };\n",
       "          s.onerror = () => reject(`Error loading script: ${paths[lib]}`);\n",
       "          s.src = paths[lib];\n",
       "        });\n",
       "    }\n",
       "\n",
       "    function showError(err) {\n",
       "      outputDiv.innerHTML = `<div class=\"error\" style=\"color:red;\">${err}</div>`;\n",
       "      throw err;\n",
       "    }\n",
       "\n",
       "    function displayChart(vegaEmbed) {\n",
       "      vegaEmbed(outputDiv, spec, embedOpt)\n",
       "        .catch(err => showError(`Javascript Error: ${err.message}<br>This usually means there's a typo in your chart specification. See the javascript console for the full traceback.`));\n",
       "    }\n",
       "\n",
       "    if(typeof define === \"function\" && define.amd) {\n",
       "      requirejs.config({paths});\n",
       "      let deps = [\"vega-embed\"];\n",
       "      require(deps, displayChart, err => showError(`Error loading script: ${err.message}`));\n",
       "    } else {\n",
       "      maybeLoadScript(\"vega\", \"5\")\n",
       "        .then(() => maybeLoadScript(\"vega-lite\", \"5.20.1\"))\n",
       "        .then(() => maybeLoadScript(\"vega-embed\", \"6\"))\n",
       "        .catch(showError)\n",
       "        .then(() => displayChart(vegaEmbed));\n",
       "    }\n",
       "  })({\"config\": {\"axisLeft\": {\"labelFontSize\": 15}, \"axisBottom\": {\"labelFontSize\": 15}}, \"data\": {\"name\": \"data-0e6507de01cc552299845621002ec5a4\"}, \"mark\": {\"type\": \"bar\"}, \"encoding\": {\"color\": {\"field\": \"org\", \"type\": \"nominal\"}, \"x\": {\"field\": \"repo\", \"sort\": [\"jupyterlab\", \"jupyter-ai\", \"language-packs\", \"jupyter-chat\", \"jupyter-collaboration\", \"lumino\", \"jupyterlab-git\", \"maintainer-tools\", \"jupyter-builder\", \"extension-template\", \"frontends-team-compass\", \"jupyter-renderers\", \"jupyterlab-desktop\", \"jupyterlab_server\"], \"type\": \"nominal\"}, \"y\": {\"field\": \"login\", \"type\": \"quantitative\"}}, \"title\": \"Merged PRs in the last 90 days\", \"$schema\": \"https://vega.github.io/schema/vega-lite/v5.20.1.json\", \"datasets\": {\"data-0e6507de01cc552299845621002ec5a4\": [{\"org\": \"jupyterlab\", \"repo\": \"jupyterlab\", \"login\": 143}, {\"org\": \"jupyterlab\", \"repo\": \"jupyter-ai\", \"login\": 47}, {\"org\": \"jupyterlab\", \"repo\": \"language-packs\", \"login\": 24}, {\"org\": \"jupyterlab\", \"repo\": \"jupyter-chat\", \"login\": 23}, {\"org\": \"jupyterlab\", \"repo\": \"jupyter-collaboration\", \"login\": 18}, {\"org\": \"jupyterlab\", \"repo\": \"lumino\", \"login\": 13}, {\"org\": \"jupyterlab\", \"repo\": \"jupyterlab-git\", \"login\": 4}, {\"org\": \"jupyterlab\", \"repo\": \"maintainer-tools\", \"login\": 4}, {\"org\": \"jupyterlab\", \"repo\": \"jupyter-builder\", \"login\": 2}, {\"org\": \"jupyterlab\", \"repo\": \"extension-template\", \"login\": 1}, {\"org\": \"jupyterlab\", \"repo\": \"frontends-team-compass\", \"login\": 1}, {\"org\": \"jupyterlab\", \"repo\": \"jupyter-renderers\", \"login\": 1}, {\"org\": \"jupyterlab\", \"repo\": \"jupyterlab-desktop\", \"login\": 1}, {\"org\": \"jupyterlab\", \"repo\": \"jupyterlab_server\", \"login\": 1}]}}, {\"mode\": \"vega-lite\"});\n",
       "</script>"
      ],
      "text/plain": [
       "alt.Chart(...)"
      ]
     },
     "execution_count": 11,
     "metadata": {},
     "output_type": "execute_result"
    }
   ],
   "source": [
    "prs_by_repo = merged.groupby(['org', 'repo']).count()['login'].reset_index().sort_values(['org', 'login'], ascending=False)\n",
    "alt.Chart(data=prs_by_repo, title=f\"Merged PRs in the last {n_days} days\").mark_bar().encode(\n",
    "    x=alt.X('repo', sort=prs_by_repo['repo'].values.tolist()),\n",
    "    y='login',\n",
    "    color='org'\n",
    ")"
   ]
  },
  {
   "cell_type": "markdown",
   "id": "63677eaf",
   "metadata": {
    "editable": true,
    "papermill": {
     "duration": 0.014904,
     "end_time": "2025-05-21T01:30:47.668258",
     "exception": false,
     "start_time": "2025-05-21T01:30:47.653354",
     "status": "completed"
    },
    "slideshow": {
     "slide_type": ""
    },
    "tags": []
   },
   "source": [
    "### Authoring and merging stats by repository\n",
    "\n",
    "Let's see who has been doing most of the PR authoring and merging. The PR author is generally the\n",
    "person that implemented a change in the repository (code, documentation, etc). The PR merger is\n",
    "the person that \"pressed the green button\" and got the change into the main codebase."
   ]
  },
  {
   "cell_type": "code",
   "execution_count": 12,
   "id": "61526f4e",
   "metadata": {
    "editable": true,
    "execution": {
     "iopub.execute_input": "2025-05-21T01:30:47.701528Z",
     "iopub.status.busy": "2025-05-21T01:30:47.700942Z",
     "iopub.status.idle": "2025-05-21T01:30:47.712115Z",
     "shell.execute_reply": "2025-05-21T01:30:47.711514Z"
    },
    "papermill": {
     "duration": 0.02948,
     "end_time": "2025-05-21T01:30:47.713312",
     "exception": false,
     "start_time": "2025-05-21T01:30:47.683832",
     "status": "completed"
    },
    "slideshow": {
     "slide_type": ""
    },
    "tags": [
     "remove_cell"
    ]
   },
   "outputs": [],
   "source": [
    "# Prep our merging DF\n",
    "merged_by_repo = merged.groupby(['repo', 'login'], as_index=False).agg({'id': 'count', 'author_association': 'first'}).rename(columns={'id': \"authored\", 'login': 'username'})\n",
    "closed_by_repo = merged.groupby(['name', 'merged_by']).count()['id_issue'].reset_index().rename(columns={'id_issue': \"closed\", \"merged_by\": \"username\"})"
   ]
  },
  {
   "cell_type": "code",
   "execution_count": 13,
   "id": "e7ab31c9",
   "metadata": {
    "editable": true,
    "execution": {
     "iopub.execute_input": "2025-05-21T01:30:47.745426Z",
     "iopub.status.busy": "2025-05-21T01:30:47.744763Z",
     "iopub.status.idle": "2025-05-21T01:30:47.770274Z",
     "shell.execute_reply": "2025-05-21T01:30:47.769600Z"
    },
    "papermill": {
     "duration": 0.04273,
     "end_time": "2025-05-21T01:30:47.771380",
     "exception": false,
     "start_time": "2025-05-21T01:30:47.728650",
     "status": "completed"
    },
    "slideshow": {
     "slide_type": ""
    },
    "tags": [
     "hide_input"
    ]
   },
   "outputs": [
    {
     "data": {
      "text/html": [
       "\n",
       "<style>\n",
       "  #altair-viz-f4fbac33c25349be9dc5c839d7d7a1ef.vega-embed {\n",
       "    width: 100%;\n",
       "    display: flex;\n",
       "  }\n",
       "\n",
       "  #altair-viz-f4fbac33c25349be9dc5c839d7d7a1ef.vega-embed details,\n",
       "  #altair-viz-f4fbac33c25349be9dc5c839d7d7a1ef.vega-embed details summary {\n",
       "    position: relative;\n",
       "  }\n",
       "</style>\n",
       "<div id=\"altair-viz-f4fbac33c25349be9dc5c839d7d7a1ef\"></div>\n",
       "<script type=\"text/javascript\">\n",
       "  var VEGA_DEBUG = (typeof VEGA_DEBUG == \"undefined\") ? {} : VEGA_DEBUG;\n",
       "  (function(spec, embedOpt){\n",
       "    let outputDiv = document.currentScript.previousElementSibling;\n",
       "    if (outputDiv.id !== \"altair-viz-f4fbac33c25349be9dc5c839d7d7a1ef\") {\n",
       "      outputDiv = document.getElementById(\"altair-viz-f4fbac33c25349be9dc5c839d7d7a1ef\");\n",
       "    }\n",
       "\n",
       "    const paths = {\n",
       "      \"vega\": \"https://cdn.jsdelivr.net/npm/vega@5?noext\",\n",
       "      \"vega-lib\": \"https://cdn.jsdelivr.net/npm/vega-lib?noext\",\n",
       "      \"vega-lite\": \"https://cdn.jsdelivr.net/npm/vega-lite@5.20.1?noext\",\n",
       "      \"vega-embed\": \"https://cdn.jsdelivr.net/npm/vega-embed@6?noext\",\n",
       "    };\n",
       "\n",
       "    function maybeLoadScript(lib, version) {\n",
       "      var key = `${lib.replace(\"-\", \"\")}_version`;\n",
       "      return (VEGA_DEBUG[key] == version) ?\n",
       "        Promise.resolve(paths[lib]) :\n",
       "        new Promise(function(resolve, reject) {\n",
       "          var s = document.createElement('script');\n",
       "          document.getElementsByTagName(\"head\")[0].appendChild(s);\n",
       "          s.async = true;\n",
       "          s.onload = () => {\n",
       "            VEGA_DEBUG[key] = version;\n",
       "            return resolve(paths[lib]);\n",
       "          };\n",
       "          s.onerror = () => reject(`Error loading script: ${paths[lib]}`);\n",
       "          s.src = paths[lib];\n",
       "        });\n",
       "    }\n",
       "\n",
       "    function showError(err) {\n",
       "      outputDiv.innerHTML = `<div class=\"error\" style=\"color:red;\">${err}</div>`;\n",
       "      throw err;\n",
       "    }\n",
       "\n",
       "    function displayChart(vegaEmbed) {\n",
       "      vegaEmbed(outputDiv, spec, embedOpt)\n",
       "        .catch(err => showError(`Javascript Error: ${err.message}<br>This usually means there's a typo in your chart specification. See the javascript console for the full traceback.`));\n",
       "    }\n",
       "\n",
       "    if(typeof define === \"function\" && define.amd) {\n",
       "      requirejs.config({paths});\n",
       "      let deps = [\"vega-embed\"];\n",
       "      require(deps, displayChart, err => showError(`Error loading script: ${err.message}`));\n",
       "    } else {\n",
       "      maybeLoadScript(\"vega\", \"5\")\n",
       "        .then(() => maybeLoadScript(\"vega-lite\", \"5.20.1\"))\n",
       "        .then(() => maybeLoadScript(\"vega-embed\", \"6\"))\n",
       "        .catch(showError)\n",
       "        .then(() => displayChart(vegaEmbed));\n",
       "    }\n",
       "  })({\"config\": {\"axisLeft\": {\"labelFontSize\": 15}, \"axisBottom\": {\"labelFontSize\": 15}}, \"data\": {\"name\": \"data-8ba2db128e1958f45b5d4fbb1e93199f\"}, \"mark\": {\"type\": \"bar\"}, \"encoding\": {\"color\": {\"field\": \"author_association\", \"scale\": {\"domain\": [\"MEMBER\", \"CONTRIBUTOR\", \"COLLABORATOR\", \"NONE\"], \"range\": [\"rgb(211.82745098039214, 211.82745098039214, 211.82745098039214)\", \"rgb(166.98562091503268, 229.89803921568628, 166.98562091503268)\", \"rgb(96.37647058823529, 192.75294117647059, 96.37647058823529)\", \"rgb(0.0, 100.3921568627451, 0.0)\"]}, \"type\": \"nominal\"}, \"x\": {\"field\": \"username\", \"type\": \"nominal\"}, \"y\": {\"field\": \"authored\", \"type\": \"quantitative\"}}, \"title\": \"PR authors for jupyterlab in the last 90 days\", \"$schema\": \"https://vega.github.io/schema/vega-lite/v5.20.1.json\", \"datasets\": {\"data-8ba2db128e1958f45b5d4fbb1e93199f\": [{\"username\": \"meeseeksmachine\", \"authored\": 40, \"author_association\": \"CONTRIBUTOR\"}, {\"username\": \"jtpio\", \"authored\": 38, \"author_association\": \"MEMBER\"}, {\"username\": \"krassowski\", \"authored\": 28, \"author_association\": \"MEMBER\"}, {\"username\": \"dependabot[bot]\", \"authored\": 27, \"author_association\": \"CONTRIBUTOR\"}, {\"username\": \"github-actions[bot]\", \"authored\": 23, \"author_association\": \"CONTRIBUTOR\"}, {\"username\": \"brichet\", \"authored\": 20, \"author_association\": \"MEMBER\"}, {\"username\": \"dlqqq\", \"authored\": 14, \"author_association\": \"MEMBER\"}, {\"username\": \"Darshan808\", \"authored\": 12, \"author_association\": \"MEMBER\"}, {\"username\": \"srdas\", \"authored\": 12, \"author_association\": \"COLLABORATOR\"}, {\"username\": \"fcollonval\", \"authored\": 9, \"author_association\": \"MEMBER\"}, {\"username\": \"keerthi-swarna\", \"authored\": 4, \"author_association\": \"COLLABORATOR\"}, {\"username\": \"davidbrochart\", \"authored\": 4, \"author_association\": \"MEMBER\"}, {\"username\": \"andrii-i\", \"authored\": 3, \"author_association\": \"MEMBER\"}, {\"username\": \"pre-commit-ci[bot]\", \"authored\": 3, \"author_association\": \"CONTRIBUTOR\"}, {\"username\": \"nkn2022\", \"authored\": 3, \"author_association\": \"CONTRIBUTOR\"}, {\"username\": \"afshin\", \"authored\": 3, \"author_association\": \"MEMBER\"}, {\"username\": \"itsmevichu\", \"authored\": 3, \"author_association\": \"MEMBER\"}, {\"username\": \"Princekumarofficial\", \"authored\": 2, \"author_association\": \"CONTRIBUTOR\"}, {\"username\": \"minrk\", \"authored\": 2, \"author_association\": \"MEMBER\"}, {\"username\": \"martinRenou\", \"authored\": 2, \"author_association\": \"MEMBER\"}, {\"username\": \"MUFFANUJ\", \"authored\": 2, \"author_association\": \"CONTRIBUTOR\"}, {\"username\": \"hxrshxz\", \"authored\": 2, \"author_association\": \"CONTRIBUTOR\"}, {\"username\": \"cmarmo\", \"authored\": 1, \"author_association\": \"CONTRIBUTOR\"}, {\"username\": \"bnavigator\", \"authored\": 1, \"author_association\": \"CONTRIBUTOR\"}, {\"username\": \"bollwyvl\", \"authored\": 1, \"author_association\": \"MEMBER\"}, {\"username\": \"DenisaCG\", \"authored\": 1, \"author_association\": \"MEMBER\"}, {\"username\": \"Kcato1\", \"authored\": 1, \"author_association\": \"FIRST_TIMER\"}, {\"username\": \"3coins\", \"authored\": 1, \"author_association\": \"MEMBER\"}, {\"username\": \"YvesNDIKURIYO-2022\", \"authored\": 1, \"author_association\": \"NONE\"}, {\"username\": \"achhina\", \"authored\": 1, \"author_association\": \"CONTRIBUTOR\"}, {\"username\": \"Guillermovasco\", \"authored\": 1, \"author_association\": \"FIRST_TIMER\"}, {\"username\": \"SatyajitRedekar\", \"authored\": 1, \"author_association\": \"CONTRIBUTOR\"}, {\"username\": \"SylvainCorlay\", \"authored\": 1, \"author_association\": \"MEMBER\"}, {\"username\": \"jhgoebbert\", \"authored\": 1, \"author_association\": \"NONE\"}, {\"username\": \"jesuino\", \"authored\": 1, \"author_association\": \"CONTRIBUTOR\"}, {\"username\": \"hiCXK\", \"authored\": 1, \"author_association\": \"NONE\"}, {\"username\": \"iisakkirotko\", \"authored\": 1, \"author_association\": \"CONTRIBUTOR\"}, {\"username\": \"dnlzrgz\", \"authored\": 1, \"author_association\": \"CONTRIBUTOR\"}, {\"username\": \"dotnetautor\", \"authored\": 1, \"author_association\": \"CONTRIBUTOR\"}, {\"username\": \"francoculaciati\", \"authored\": 1, \"author_association\": \"FIRST_TIME_CONTRIBUTOR\"}, {\"username\": \"ghost\", \"authored\": 1, \"author_association\": \"NONE\"}, {\"username\": \"peytondmurray\", \"authored\": 1, \"author_association\": \"CONTRIBUTOR\"}, {\"username\": \"mahendrapaipuri\", \"authored\": 1, \"author_association\": \"CONTRIBUTOR\"}, {\"username\": \"rsaditya01\", \"authored\": 1, \"author_association\": \"CONTRIBUTOR\"}, {\"username\": \"simonw\", \"authored\": 1, \"author_association\": \"NONE\"}, {\"username\": \"trungleduc\", \"authored\": 1, \"author_association\": \"MEMBER\"}, {\"username\": \"vidartf\", \"authored\": 1, \"author_association\": \"MEMBER\"}, {\"username\": \"yacchin1205\", \"authored\": 1, \"author_association\": \"CONTRIBUTOR\"}, {\"username\": \"yukiiii04\", \"authored\": 1, \"author_association\": \"CONTRIBUTOR\"}]}}, {\"mode\": \"vega-lite\"});\n",
       "</script>"
      ],
      "text/plain": [
       "alt.Chart(...)"
      ]
     },
     "execution_count": 13,
     "metadata": {},
     "output_type": "execute_result"
    }
   ],
   "source": [
    "charts = []\n",
    "title = f\"PR authors for {github_org} in the last {n_days} days\"\n",
    "this_data = merged_by_repo.replace(np.nan, 0).groupby('username', as_index=False).agg({'authored': 'sum', 'author_association': 'first'})\n",
    "this_data = this_data.sort_values('authored', ascending=False)\n",
    "ch = alt.Chart(data=this_data, title=title).mark_bar().encode(\n",
    "    x='username',\n",
    "    y='authored',\n",
    "    color=alt.Color('author_association', scale=alt.Scale(domain=author_types, range=author_colors))\n",
    ")\n",
    "ch"
   ]
  },
  {
   "cell_type": "code",
   "execution_count": 14,
   "id": "757165da",
   "metadata": {
    "editable": true,
    "execution": {
     "iopub.execute_input": "2025-05-21T01:30:47.804802Z",
     "iopub.status.busy": "2025-05-21T01:30:47.804525Z",
     "iopub.status.idle": "2025-05-21T01:30:47.823776Z",
     "shell.execute_reply": "2025-05-21T01:30:47.823103Z"
    },
    "papermill": {
     "duration": 0.037243,
     "end_time": "2025-05-21T01:30:47.824877",
     "exception": false,
     "start_time": "2025-05-21T01:30:47.787634",
     "status": "completed"
    },
    "slideshow": {
     "slide_type": ""
    },
    "tags": [
     "hide_input"
    ]
   },
   "outputs": [
    {
     "data": {
      "text/html": [
       "\n",
       "<style>\n",
       "  #altair-viz-bc297fd71ba040d2bd690f8dd1d53d96.vega-embed {\n",
       "    width: 100%;\n",
       "    display: flex;\n",
       "  }\n",
       "\n",
       "  #altair-viz-bc297fd71ba040d2bd690f8dd1d53d96.vega-embed details,\n",
       "  #altair-viz-bc297fd71ba040d2bd690f8dd1d53d96.vega-embed details summary {\n",
       "    position: relative;\n",
       "  }\n",
       "</style>\n",
       "<div id=\"altair-viz-bc297fd71ba040d2bd690f8dd1d53d96\"></div>\n",
       "<script type=\"text/javascript\">\n",
       "  var VEGA_DEBUG = (typeof VEGA_DEBUG == \"undefined\") ? {} : VEGA_DEBUG;\n",
       "  (function(spec, embedOpt){\n",
       "    let outputDiv = document.currentScript.previousElementSibling;\n",
       "    if (outputDiv.id !== \"altair-viz-bc297fd71ba040d2bd690f8dd1d53d96\") {\n",
       "      outputDiv = document.getElementById(\"altair-viz-bc297fd71ba040d2bd690f8dd1d53d96\");\n",
       "    }\n",
       "\n",
       "    const paths = {\n",
       "      \"vega\": \"https://cdn.jsdelivr.net/npm/vega@5?noext\",\n",
       "      \"vega-lib\": \"https://cdn.jsdelivr.net/npm/vega-lib?noext\",\n",
       "      \"vega-lite\": \"https://cdn.jsdelivr.net/npm/vega-lite@5.20.1?noext\",\n",
       "      \"vega-embed\": \"https://cdn.jsdelivr.net/npm/vega-embed@6?noext\",\n",
       "    };\n",
       "\n",
       "    function maybeLoadScript(lib, version) {\n",
       "      var key = `${lib.replace(\"-\", \"\")}_version`;\n",
       "      return (VEGA_DEBUG[key] == version) ?\n",
       "        Promise.resolve(paths[lib]) :\n",
       "        new Promise(function(resolve, reject) {\n",
       "          var s = document.createElement('script');\n",
       "          document.getElementsByTagName(\"head\")[0].appendChild(s);\n",
       "          s.async = true;\n",
       "          s.onload = () => {\n",
       "            VEGA_DEBUG[key] = version;\n",
       "            return resolve(paths[lib]);\n",
       "          };\n",
       "          s.onerror = () => reject(`Error loading script: ${paths[lib]}`);\n",
       "          s.src = paths[lib];\n",
       "        });\n",
       "    }\n",
       "\n",
       "    function showError(err) {\n",
       "      outputDiv.innerHTML = `<div class=\"error\" style=\"color:red;\">${err}</div>`;\n",
       "      throw err;\n",
       "    }\n",
       "\n",
       "    function displayChart(vegaEmbed) {\n",
       "      vegaEmbed(outputDiv, spec, embedOpt)\n",
       "        .catch(err => showError(`Javascript Error: ${err.message}<br>This usually means there's a typo in your chart specification. See the javascript console for the full traceback.`));\n",
       "    }\n",
       "\n",
       "    if(typeof define === \"function\" && define.amd) {\n",
       "      requirejs.config({paths});\n",
       "      let deps = [\"vega-embed\"];\n",
       "      require(deps, displayChart, err => showError(`Error loading script: ${err.message}`));\n",
       "    } else {\n",
       "      maybeLoadScript(\"vega\", \"5\")\n",
       "        .then(() => maybeLoadScript(\"vega-lite\", \"5.20.1\"))\n",
       "        .then(() => maybeLoadScript(\"vega-embed\", \"6\"))\n",
       "        .catch(showError)\n",
       "        .then(() => displayChart(vegaEmbed));\n",
       "    }\n",
       "  })({\"config\": {\"axisLeft\": {\"labelFontSize\": 15}, \"axisBottom\": {\"labelFontSize\": 15}}, \"data\": {\"name\": \"data-f555f60a89d4420c6ae6ffc9dfa9ffea\"}, \"mark\": {\"type\": \"bar\"}, \"encoding\": {\"x\": {\"field\": \"username\", \"type\": \"nominal\"}, \"y\": {\"field\": \"closed\", \"type\": \"quantitative\"}}, \"title\": \"Users that have merged PRs for jupyterlab in the last 90 days\", \"$schema\": \"https://vega.github.io/schema/vega-lite/v5.20.1.json\", \"datasets\": {\"data-f555f60a89d4420c6ae6ffc9dfa9ffea\": [{\"name\": \"extension-template\", \"username\": \"krassowski\", \"closed\": 1}, {\"name\": \"frontends-team-compass\", \"username\": \"jtpio\", \"closed\": 1}, {\"name\": \"jupyter-ai\", \"username\": \"brichet\", \"closed\": 1}, {\"name\": \"jupyter-ai\", \"username\": \"dlqqq\", \"closed\": 27}, {\"name\": \"jupyter-ai\", \"username\": \"francoculaciati\", \"closed\": 1}, {\"name\": \"jupyter-ai\", \"username\": \"srdas\", \"closed\": 18}, {\"name\": \"jupyter-builder\", \"username\": \"fcollonval\", \"closed\": 2}, {\"name\": \"jupyter-chat\", \"username\": \"andrii-i\", \"closed\": 2}, {\"name\": \"jupyter-chat\", \"username\": \"brichet\", \"closed\": 16}, {\"name\": \"jupyter-chat\", \"username\": \"dlqqq\", \"closed\": 2}, {\"name\": \"jupyter-chat\", \"username\": \"jtpio\", \"closed\": 3}, {\"name\": \"jupyter-collaboration\", \"username\": \"brichet\", \"closed\": 1}, {\"name\": \"jupyter-collaboration\", \"username\": \"davidbrochart\", \"closed\": 3}, {\"name\": \"jupyter-collaboration\", \"username\": \"krassowski\", \"closed\": 14}, {\"name\": \"jupyter-renderers\", \"username\": \"fcollonval\", \"closed\": 1}, {\"name\": \"jupyterlab\", \"username\": \"afshin\", \"closed\": 2}, {\"name\": \"jupyterlab\", \"username\": \"davidbrochart\", \"closed\": 1}, {\"name\": \"jupyterlab\", \"username\": \"hxrshxz\", \"closed\": 2}, {\"name\": \"jupyterlab\", \"username\": \"jtpio\", \"closed\": 34}, {\"name\": \"jupyterlab\", \"username\": \"krassowski\", \"closed\": 103}, {\"name\": \"jupyterlab\", \"username\": \"simonw\", \"closed\": 1}, {\"name\": \"jupyterlab-desktop\", \"username\": \"krassowski\", \"closed\": 1}, {\"name\": \"jupyterlab-git\", \"username\": \"fcollonval\", \"closed\": 2}, {\"name\": \"jupyterlab-git\", \"username\": \"krassowski\", \"closed\": 2}, {\"name\": \"jupyterlab_server\", \"username\": \"fcollonval\", \"closed\": 1}, {\"name\": \"language-packs\", \"username\": \"fcollonval\", \"closed\": 24}, {\"name\": \"lumino\", \"username\": \"afshin\", \"closed\": 2}, {\"name\": \"lumino\", \"username\": \"fcollonval\", \"closed\": 4}, {\"name\": \"lumino\", \"username\": \"jtpio\", \"closed\": 2}, {\"name\": \"lumino\", \"username\": \"krassowski\", \"closed\": 5}, {\"name\": \"maintainer-tools\", \"username\": \"danyeaw\", \"closed\": 1}, {\"name\": \"maintainer-tools\", \"username\": \"fcollonval\", \"closed\": 2}, {\"name\": \"maintainer-tools\", \"username\": \"jtpio\", \"closed\": 1}]}}, {\"mode\": \"vega-lite\"});\n",
       "</script>"
      ],
      "text/plain": [
       "alt.Chart(...)"
      ]
     },
     "execution_count": 14,
     "metadata": {},
     "output_type": "execute_result"
    }
   ],
   "source": [
    "charts = []\n",
    "title = f\"Users that have merged PRs for {github_org} in the last {n_days} days\"\n",
    "ch = alt.Chart(data=closed_by_repo.replace(np.nan, 0), title=title).mark_bar().encode(\n",
    "    x='username',\n",
    "    y='closed',\n",
    ")\n",
    "ch"
   ]
  },
  {
   "cell_type": "markdown",
   "id": "3cdc1691",
   "metadata": {
    "editable": true,
    "papermill": {
     "duration": 0.015178,
     "end_time": "2025-05-21T01:30:47.855326",
     "exception": false,
     "start_time": "2025-05-21T01:30:47.840148",
     "status": "completed"
    },
    "slideshow": {
     "slide_type": ""
    },
    "tags": []
   },
   "source": [
    "## Issues\n",
    "\n",
    "Issues are **conversations** that happen on our GitHub repositories. Here's an\n",
    "analysis of issues across the Jupyter organizations."
   ]
  },
  {
   "cell_type": "code",
   "execution_count": 15,
   "id": "77f0852c",
   "metadata": {
    "editable": true,
    "execution": {
     "iopub.execute_input": "2025-05-21T01:30:47.887013Z",
     "iopub.status.busy": "2025-05-21T01:30:47.886447Z",
     "iopub.status.idle": "2025-05-21T01:30:47.906270Z",
     "shell.execute_reply": "2025-05-21T01:30:47.905585Z"
    },
    "papermill": {
     "duration": 0.037037,
     "end_time": "2025-05-21T01:30:47.907531",
     "exception": false,
     "start_time": "2025-05-21T01:30:47.870494",
     "status": "completed"
    },
    "slideshow": {
     "slide_type": ""
    },
    "tags": [
     "remove_cell"
    ]
   },
   "outputs": [],
   "source": [
    "created = issues.query('state == \"open\" and created_at > @start_date and created_at < @stop_date')\n",
    "closed = issues.query('state == \"closed\" and closed_at > @start_date and closed_at < @stop_date')"
   ]
  },
  {
   "cell_type": "code",
   "execution_count": 16,
   "id": "d3117dd3",
   "metadata": {
    "editable": true,
    "execution": {
     "iopub.execute_input": "2025-05-21T01:30:47.940761Z",
     "iopub.status.busy": "2025-05-21T01:30:47.940481Z",
     "iopub.status.idle": "2025-05-21T01:30:47.964593Z",
     "shell.execute_reply": "2025-05-21T01:30:47.963994Z"
    },
    "papermill": {
     "duration": 0.042139,
     "end_time": "2025-05-21T01:30:47.965737",
     "exception": false,
     "start_time": "2025-05-21T01:30:47.923598",
     "status": "completed"
    },
    "slideshow": {
     "slide_type": ""
    },
    "tags": [
     "hide_input"
    ]
   },
   "outputs": [
    {
     "data": {
      "text/html": [
       "\n",
       "<style>\n",
       "  #altair-viz-09aeb74074ea4321bb6e65c5fe5c4e7a.vega-embed {\n",
       "    width: 100%;\n",
       "    display: flex;\n",
       "  }\n",
       "\n",
       "  #altair-viz-09aeb74074ea4321bb6e65c5fe5c4e7a.vega-embed details,\n",
       "  #altair-viz-09aeb74074ea4321bb6e65c5fe5c4e7a.vega-embed details summary {\n",
       "    position: relative;\n",
       "  }\n",
       "</style>\n",
       "<div id=\"altair-viz-09aeb74074ea4321bb6e65c5fe5c4e7a\"></div>\n",
       "<script type=\"text/javascript\">\n",
       "  var VEGA_DEBUG = (typeof VEGA_DEBUG == \"undefined\") ? {} : VEGA_DEBUG;\n",
       "  (function(spec, embedOpt){\n",
       "    let outputDiv = document.currentScript.previousElementSibling;\n",
       "    if (outputDiv.id !== \"altair-viz-09aeb74074ea4321bb6e65c5fe5c4e7a\") {\n",
       "      outputDiv = document.getElementById(\"altair-viz-09aeb74074ea4321bb6e65c5fe5c4e7a\");\n",
       "    }\n",
       "\n",
       "    const paths = {\n",
       "      \"vega\": \"https://cdn.jsdelivr.net/npm/vega@5?noext\",\n",
       "      \"vega-lib\": \"https://cdn.jsdelivr.net/npm/vega-lib?noext\",\n",
       "      \"vega-lite\": \"https://cdn.jsdelivr.net/npm/vega-lite@5.20.1?noext\",\n",
       "      \"vega-embed\": \"https://cdn.jsdelivr.net/npm/vega-embed@6?noext\",\n",
       "    };\n",
       "\n",
       "    function maybeLoadScript(lib, version) {\n",
       "      var key = `${lib.replace(\"-\", \"\")}_version`;\n",
       "      return (VEGA_DEBUG[key] == version) ?\n",
       "        Promise.resolve(paths[lib]) :\n",
       "        new Promise(function(resolve, reject) {\n",
       "          var s = document.createElement('script');\n",
       "          document.getElementsByTagName(\"head\")[0].appendChild(s);\n",
       "          s.async = true;\n",
       "          s.onload = () => {\n",
       "            VEGA_DEBUG[key] = version;\n",
       "            return resolve(paths[lib]);\n",
       "          };\n",
       "          s.onerror = () => reject(`Error loading script: ${paths[lib]}`);\n",
       "          s.src = paths[lib];\n",
       "        });\n",
       "    }\n",
       "\n",
       "    function showError(err) {\n",
       "      outputDiv.innerHTML = `<div class=\"error\" style=\"color:red;\">${err}</div>`;\n",
       "      throw err;\n",
       "    }\n",
       "\n",
       "    function displayChart(vegaEmbed) {\n",
       "      vegaEmbed(outputDiv, spec, embedOpt)\n",
       "        .catch(err => showError(`Javascript Error: ${err.message}<br>This usually means there's a typo in your chart specification. See the javascript console for the full traceback.`));\n",
       "    }\n",
       "\n",
       "    if(typeof define === \"function\" && define.amd) {\n",
       "      requirejs.config({paths});\n",
       "      let deps = [\"vega-embed\"];\n",
       "      require(deps, displayChart, err => showError(`Error loading script: ${err.message}`));\n",
       "    } else {\n",
       "      maybeLoadScript(\"vega\", \"5\")\n",
       "        .then(() => maybeLoadScript(\"vega-lite\", \"5.20.1\"))\n",
       "        .then(() => maybeLoadScript(\"vega-embed\", \"6\"))\n",
       "        .catch(showError)\n",
       "        .then(() => displayChart(vegaEmbed));\n",
       "    }\n",
       "  })({\"config\": {\"axisLeft\": {\"labelFontSize\": 15}, \"axisBottom\": {\"labelFontSize\": 15}}, \"data\": {\"name\": \"data-c3ca351f86f9d83f30811cf1868284db\"}, \"mark\": {\"type\": \"bar\"}, \"encoding\": {\"x\": {\"field\": \"repo\", \"sort\": [\"jupyterlab\", \"jupyter-ai\", \"jupyter-collaboration\", \"jupyter-chat\", \"jupyterlab-desktop\", \"jupyterlab-git\", \"lumino\", \"extension-template\", \"extension-examples\", \"frontends-team-compass\", \"jupyterlab_server\", \"language-packs\"], \"type\": \"nominal\"}, \"y\": {\"field\": \"number\", \"type\": \"quantitative\"}}, \"title\": \"Issues created in the last 90 days\", \"$schema\": \"https://vega.github.io/schema/vega-lite/v5.20.1.json\", \"datasets\": {\"data-c3ca351f86f9d83f30811cf1868284db\": [{\"org\": \"jupyterlab\", \"repo\": \"extension-examples\", \"number\": 1, \"org/repo\": \"jupyterlab/extension-examples\"}, {\"org\": \"jupyterlab\", \"repo\": \"extension-template\", \"number\": 2, \"org/repo\": \"jupyterlab/extension-template\"}, {\"org\": \"jupyterlab\", \"repo\": \"frontends-team-compass\", \"number\": 1, \"org/repo\": \"jupyterlab/frontends-team-compass\"}, {\"org\": \"jupyterlab\", \"repo\": \"jupyter-ai\", \"number\": 24, \"org/repo\": \"jupyterlab/jupyter-ai\"}, {\"org\": \"jupyterlab\", \"repo\": \"jupyter-chat\", \"number\": 6, \"org/repo\": \"jupyterlab/jupyter-chat\"}, {\"org\": \"jupyterlab\", \"repo\": \"jupyter-collaboration\", \"number\": 7, \"org/repo\": \"jupyterlab/jupyter-collaboration\"}, {\"org\": \"jupyterlab\", \"repo\": \"jupyterlab\", \"number\": 66, \"org/repo\": \"jupyterlab/jupyterlab\"}, {\"org\": \"jupyterlab\", \"repo\": \"jupyterlab-desktop\", \"number\": 6, \"org/repo\": \"jupyterlab/jupyterlab-desktop\"}, {\"org\": \"jupyterlab\", \"repo\": \"jupyterlab-git\", \"number\": 5, \"org/repo\": \"jupyterlab/jupyterlab-git\"}, {\"org\": \"jupyterlab\", \"repo\": \"jupyterlab_server\", \"number\": 1, \"org/repo\": \"jupyterlab/jupyterlab_server\"}, {\"org\": \"jupyterlab\", \"repo\": \"language-packs\", \"number\": 1, \"org/repo\": \"jupyterlab/language-packs\"}, {\"org\": \"jupyterlab\", \"repo\": \"lumino\", \"number\": 3, \"org/repo\": \"jupyterlab/lumino\"}]}}, {\"mode\": \"vega-lite\"});\n",
       "</script>"
      ],
      "text/plain": [
       "alt.Chart(...)"
      ]
     },
     "execution_count": 16,
     "metadata": {},
     "output_type": "execute_result"
    }
   ],
   "source": [
    "created_counts = created.groupby(['org', 'repo']).count()['number'].reset_index()\n",
    "created_counts['org/repo'] = created_counts.apply(lambda a: a['org'] + '/' + a['repo'], axis=1)\n",
    "sorted_vals = created_counts.sort_values(['org', 'number'], ascending=False)['repo'].values\n",
    "alt.Chart(data=created_counts, title=f\"Issues created in the last {n_days} days\").mark_bar().encode(\n",
    "    x=alt.X('repo', sort=alt.Sort(sorted_vals.tolist())),\n",
    "    y='number',\n",
    ")"
   ]
  },
  {
   "cell_type": "code",
   "execution_count": 17,
   "id": "3e48aa5d",
   "metadata": {
    "editable": true,
    "execution": {
     "iopub.execute_input": "2025-05-21T01:30:47.997662Z",
     "iopub.status.busy": "2025-05-21T01:30:47.997153Z",
     "iopub.status.idle": "2025-05-21T01:30:48.018817Z",
     "shell.execute_reply": "2025-05-21T01:30:48.018137Z"
    },
    "papermill": {
     "duration": 0.038691,
     "end_time": "2025-05-21T01:30:48.020019",
     "exception": false,
     "start_time": "2025-05-21T01:30:47.981328",
     "status": "completed"
    },
    "slideshow": {
     "slide_type": ""
    },
    "tags": [
     "hide_input"
    ]
   },
   "outputs": [
    {
     "data": {
      "text/html": [
       "\n",
       "<style>\n",
       "  #altair-viz-c327607709b743089af8a99ac2bc923e.vega-embed {\n",
       "    width: 100%;\n",
       "    display: flex;\n",
       "  }\n",
       "\n",
       "  #altair-viz-c327607709b743089af8a99ac2bc923e.vega-embed details,\n",
       "  #altair-viz-c327607709b743089af8a99ac2bc923e.vega-embed details summary {\n",
       "    position: relative;\n",
       "  }\n",
       "</style>\n",
       "<div id=\"altair-viz-c327607709b743089af8a99ac2bc923e\"></div>\n",
       "<script type=\"text/javascript\">\n",
       "  var VEGA_DEBUG = (typeof VEGA_DEBUG == \"undefined\") ? {} : VEGA_DEBUG;\n",
       "  (function(spec, embedOpt){\n",
       "    let outputDiv = document.currentScript.previousElementSibling;\n",
       "    if (outputDiv.id !== \"altair-viz-c327607709b743089af8a99ac2bc923e\") {\n",
       "      outputDiv = document.getElementById(\"altair-viz-c327607709b743089af8a99ac2bc923e\");\n",
       "    }\n",
       "\n",
       "    const paths = {\n",
       "      \"vega\": \"https://cdn.jsdelivr.net/npm/vega@5?noext\",\n",
       "      \"vega-lib\": \"https://cdn.jsdelivr.net/npm/vega-lib?noext\",\n",
       "      \"vega-lite\": \"https://cdn.jsdelivr.net/npm/vega-lite@5.20.1?noext\",\n",
       "      \"vega-embed\": \"https://cdn.jsdelivr.net/npm/vega-embed@6?noext\",\n",
       "    };\n",
       "\n",
       "    function maybeLoadScript(lib, version) {\n",
       "      var key = `${lib.replace(\"-\", \"\")}_version`;\n",
       "      return (VEGA_DEBUG[key] == version) ?\n",
       "        Promise.resolve(paths[lib]) :\n",
       "        new Promise(function(resolve, reject) {\n",
       "          var s = document.createElement('script');\n",
       "          document.getElementsByTagName(\"head\")[0].appendChild(s);\n",
       "          s.async = true;\n",
       "          s.onload = () => {\n",
       "            VEGA_DEBUG[key] = version;\n",
       "            return resolve(paths[lib]);\n",
       "          };\n",
       "          s.onerror = () => reject(`Error loading script: ${paths[lib]}`);\n",
       "          s.src = paths[lib];\n",
       "        });\n",
       "    }\n",
       "\n",
       "    function showError(err) {\n",
       "      outputDiv.innerHTML = `<div class=\"error\" style=\"color:red;\">${err}</div>`;\n",
       "      throw err;\n",
       "    }\n",
       "\n",
       "    function displayChart(vegaEmbed) {\n",
       "      vegaEmbed(outputDiv, spec, embedOpt)\n",
       "        .catch(err => showError(`Javascript Error: ${err.message}<br>This usually means there's a typo in your chart specification. See the javascript console for the full traceback.`));\n",
       "    }\n",
       "\n",
       "    if(typeof define === \"function\" && define.amd) {\n",
       "      requirejs.config({paths});\n",
       "      let deps = [\"vega-embed\"];\n",
       "      require(deps, displayChart, err => showError(`Error loading script: ${err.message}`));\n",
       "    } else {\n",
       "      maybeLoadScript(\"vega\", \"5\")\n",
       "        .then(() => maybeLoadScript(\"vega-lite\", \"5.20.1\"))\n",
       "        .then(() => maybeLoadScript(\"vega-embed\", \"6\"))\n",
       "        .catch(showError)\n",
       "        .then(() => displayChart(vegaEmbed));\n",
       "    }\n",
       "  })({\"config\": {\"axisLeft\": {\"labelFontSize\": 15}, \"axisBottom\": {\"labelFontSize\": 15}}, \"data\": {\"name\": \"data-666085dd8e5d52bf7b13eb889384ce54\"}, \"mark\": {\"type\": \"bar\"}, \"encoding\": {\"x\": {\"field\": \"repo\", \"sort\": [\"jupyterlab\", \"jupyter-ai\", \"jupyter-chat\", \"jupyter-collaboration\", \"jupyterlab_pygments\", \"maintainer-tools\", \"lumino\", \"frontends-team-compass\", \"extension-template\", \"jupyterlab-desktop\", \"jupyterlab-git\"], \"type\": \"nominal\"}, \"y\": {\"field\": \"number\", \"type\": \"quantitative\"}}, \"title\": \"Issues closed in the last 90 days\", \"$schema\": \"https://vega.github.io/schema/vega-lite/v5.20.1.json\", \"datasets\": {\"data-666085dd8e5d52bf7b13eb889384ce54\": [{\"org\": \"jupyterlab\", \"repo\": \"extension-template\", \"number\": 1, \"org/repo\": \"jupyterlab/extension-template\"}, {\"org\": \"jupyterlab\", \"repo\": \"frontends-team-compass\", \"number\": 1, \"org/repo\": \"jupyterlab/frontends-team-compass\"}, {\"org\": \"jupyterlab\", \"repo\": \"jupyter-ai\", \"number\": 44, \"org/repo\": \"jupyterlab/jupyter-ai\"}, {\"org\": \"jupyterlab\", \"repo\": \"jupyter-chat\", \"number\": 14, \"org/repo\": \"jupyterlab/jupyter-chat\"}, {\"org\": \"jupyterlab\", \"repo\": \"jupyter-collaboration\", \"number\": 8, \"org/repo\": \"jupyterlab/jupyter-collaboration\"}, {\"org\": \"jupyterlab\", \"repo\": \"jupyterlab\", \"number\": 83, \"org/repo\": \"jupyterlab/jupyterlab\"}, {\"org\": \"jupyterlab\", \"repo\": \"jupyterlab-desktop\", \"number\": 1, \"org/repo\": \"jupyterlab/jupyterlab-desktop\"}, {\"org\": \"jupyterlab\", \"repo\": \"jupyterlab-git\", \"number\": 1, \"org/repo\": \"jupyterlab/jupyterlab-git\"}, {\"org\": \"jupyterlab\", \"repo\": \"jupyterlab_pygments\", \"number\": 4, \"org/repo\": \"jupyterlab/jupyterlab_pygments\"}, {\"org\": \"jupyterlab\", \"repo\": \"lumino\", \"number\": 2, \"org/repo\": \"jupyterlab/lumino\"}, {\"org\": \"jupyterlab\", \"repo\": \"maintainer-tools\", \"number\": 4, \"org/repo\": \"jupyterlab/maintainer-tools\"}]}}, {\"mode\": \"vega-lite\"});\n",
       "</script>"
      ],
      "text/plain": [
       "alt.Chart(...)"
      ]
     },
     "execution_count": 17,
     "metadata": {},
     "output_type": "execute_result"
    }
   ],
   "source": [
    "closed_counts = closed.groupby(['org', 'repo']).count()['number'].reset_index()\n",
    "closed_counts['org/repo'] = closed_counts.apply(lambda a: a['org'] + '/' + a['repo'], axis=1)\n",
    "sorted_vals = closed_counts.sort_values(['number'], ascending=False)['repo'].values\n",
    "alt.Chart(data=closed_counts, title=f\"Issues closed in the last {n_days} days\").mark_bar().encode(\n",
    "    x=alt.X('repo', sort=alt.Sort(sorted_vals.tolist())),\n",
    "    y='number',\n",
    ")"
   ]
  },
  {
   "cell_type": "code",
   "execution_count": 18,
   "id": "e319cb96",
   "metadata": {
    "editable": true,
    "execution": {
     "iopub.execute_input": "2025-05-21T01:30:48.055488Z",
     "iopub.status.busy": "2025-05-21T01:30:48.054770Z",
     "iopub.status.idle": "2025-05-21T01:30:48.065613Z",
     "shell.execute_reply": "2025-05-21T01:30:48.065024Z"
    },
    "papermill": {
     "duration": 0.030216,
     "end_time": "2025-05-21T01:30:48.066659",
     "exception": false,
     "start_time": "2025-05-21T01:30:48.036443",
     "status": "completed"
    },
    "slideshow": {
     "slide_type": ""
    },
    "tags": [
     "remove_cell"
    ]
   },
   "outputs": [],
   "source": [
    "created_closed = pd.merge(created_counts.rename(columns={'number': 'created'}).drop(columns='org/repo'),\n",
    "                          closed_counts.rename(columns={'number': 'closed'}).drop(columns='org/repo'),\n",
    "                          on=['org', 'repo'], how='outer')\n",
    "\n",
    "created_closed = pd.melt(created_closed, id_vars=['org', 'repo'], var_name=\"kind\", value_name=\"count\").replace(np.nan, 0)"
   ]
  },
  {
   "cell_type": "code",
   "execution_count": 19,
   "id": "f224e4f5",
   "metadata": {
    "editable": true,
    "execution": {
     "iopub.execute_input": "2025-05-21T01:30:48.100498Z",
     "iopub.status.busy": "2025-05-21T01:30:48.100017Z",
     "iopub.status.idle": "2025-05-21T01:30:48.125616Z",
     "shell.execute_reply": "2025-05-21T01:30:48.124996Z"
    },
    "papermill": {
     "duration": 0.044047,
     "end_time": "2025-05-21T01:30:48.126802",
     "exception": false,
     "start_time": "2025-05-21T01:30:48.082755",
     "status": "completed"
    },
    "scrolled": true,
    "slideshow": {
     "slide_type": ""
    },
    "tags": [
     "hide_input"
    ]
   },
   "outputs": [
    {
     "data": {
      "text/html": [
       "\n",
       "<style>\n",
       "  #altair-viz-00976d1c18b549449480cc00e3a19519.vega-embed {\n",
       "    width: 100%;\n",
       "    display: flex;\n",
       "  }\n",
       "\n",
       "  #altair-viz-00976d1c18b549449480cc00e3a19519.vega-embed details,\n",
       "  #altair-viz-00976d1c18b549449480cc00e3a19519.vega-embed details summary {\n",
       "    position: relative;\n",
       "  }\n",
       "</style>\n",
       "<div id=\"altair-viz-00976d1c18b549449480cc00e3a19519\"></div>\n",
       "<script type=\"text/javascript\">\n",
       "  var VEGA_DEBUG = (typeof VEGA_DEBUG == \"undefined\") ? {} : VEGA_DEBUG;\n",
       "  (function(spec, embedOpt){\n",
       "    let outputDiv = document.currentScript.previousElementSibling;\n",
       "    if (outputDiv.id !== \"altair-viz-00976d1c18b549449480cc00e3a19519\") {\n",
       "      outputDiv = document.getElementById(\"altair-viz-00976d1c18b549449480cc00e3a19519\");\n",
       "    }\n",
       "\n",
       "    const paths = {\n",
       "      \"vega\": \"https://cdn.jsdelivr.net/npm/vega@5?noext\",\n",
       "      \"vega-lib\": \"https://cdn.jsdelivr.net/npm/vega-lib?noext\",\n",
       "      \"vega-lite\": \"https://cdn.jsdelivr.net/npm/vega-lite@5.20.1?noext\",\n",
       "      \"vega-embed\": \"https://cdn.jsdelivr.net/npm/vega-embed@6?noext\",\n",
       "    };\n",
       "\n",
       "    function maybeLoadScript(lib, version) {\n",
       "      var key = `${lib.replace(\"-\", \"\")}_version`;\n",
       "      return (VEGA_DEBUG[key] == version) ?\n",
       "        Promise.resolve(paths[lib]) :\n",
       "        new Promise(function(resolve, reject) {\n",
       "          var s = document.createElement('script');\n",
       "          document.getElementsByTagName(\"head\")[0].appendChild(s);\n",
       "          s.async = true;\n",
       "          s.onload = () => {\n",
       "            VEGA_DEBUG[key] = version;\n",
       "            return resolve(paths[lib]);\n",
       "          };\n",
       "          s.onerror = () => reject(`Error loading script: ${paths[lib]}`);\n",
       "          s.src = paths[lib];\n",
       "        });\n",
       "    }\n",
       "\n",
       "    function showError(err) {\n",
       "      outputDiv.innerHTML = `<div class=\"error\" style=\"color:red;\">${err}</div>`;\n",
       "      throw err;\n",
       "    }\n",
       "\n",
       "    function displayChart(vegaEmbed) {\n",
       "      vegaEmbed(outputDiv, spec, embedOpt)\n",
       "        .catch(err => showError(`Javascript Error: ${err.message}<br>This usually means there's a typo in your chart specification. See the javascript console for the full traceback.`));\n",
       "    }\n",
       "\n",
       "    if(typeof define === \"function\" && define.amd) {\n",
       "      requirejs.config({paths});\n",
       "      let deps = [\"vega-embed\"];\n",
       "      require(deps, displayChart, err => showError(`Error loading script: ${err.message}`));\n",
       "    } else {\n",
       "      maybeLoadScript(\"vega\", \"5\")\n",
       "        .then(() => maybeLoadScript(\"vega-lite\", \"5.20.1\"))\n",
       "        .then(() => maybeLoadScript(\"vega-embed\", \"6\"))\n",
       "        .catch(showError)\n",
       "        .then(() => displayChart(vegaEmbed));\n",
       "    }\n",
       "  })({\"config\": {\"axisLeft\": {\"labelFontSize\": 15}, \"axisBottom\": {\"labelFontSize\": 15}}, \"data\": {\"name\": \"data-1837e4e4c218fc915f845bca7a87b8a1\"}, \"mark\": {\"type\": \"bar\"}, \"encoding\": {\"color\": {\"field\": \"kind\", \"type\": \"nominal\"}, \"column\": {\"field\": \"repo\", \"header\": {\"labelFontSize\": 12, \"title\": \"Issue activity, last 90 days for jupyterlab\", \"titleFontSize\": 15}, \"type\": \"nominal\"}, \"x\": {\"axis\": {\"labelFontSize\": 15, \"title\": \"\"}, \"field\": \"kind\", \"type\": \"nominal\"}, \"y\": {\"axis\": {\"labelFontSize\": 12, \"titleFontSize\": 15}, \"field\": \"count\", \"type\": \"quantitative\"}}, \"width\": 120, \"$schema\": \"https://vega.github.io/schema/vega-lite/v5.20.1.json\", \"datasets\": {\"data-1837e4e4c218fc915f845bca7a87b8a1\": [{\"org\": \"jupyterlab\", \"repo\": \"extension-template\", \"kind\": \"created\", \"count\": 2.0}, {\"org\": \"jupyterlab\", \"repo\": \"jupyter-ai\", \"kind\": \"created\", \"count\": 24.0}, {\"org\": \"jupyterlab\", \"repo\": \"jupyter-chat\", \"kind\": \"created\", \"count\": 6.0}, {\"org\": \"jupyterlab\", \"repo\": \"jupyter-collaboration\", \"kind\": \"created\", \"count\": 7.0}, {\"org\": \"jupyterlab\", \"repo\": \"jupyterlab\", \"kind\": \"created\", \"count\": 66.0}, {\"org\": \"jupyterlab\", \"repo\": \"jupyterlab-desktop\", \"kind\": \"created\", \"count\": 6.0}, {\"org\": \"jupyterlab\", \"repo\": \"jupyterlab-git\", \"kind\": \"created\", \"count\": 5.0}, {\"org\": \"jupyterlab\", \"repo\": \"jupyterlab_pygments\", \"kind\": \"created\", \"count\": 0.0}, {\"org\": \"jupyterlab\", \"repo\": \"lumino\", \"kind\": \"created\", \"count\": 3.0}, {\"org\": \"jupyterlab\", \"repo\": \"maintainer-tools\", \"kind\": \"created\", \"count\": 0.0}, {\"org\": \"jupyterlab\", \"repo\": \"extension-template\", \"kind\": \"closed\", \"count\": 1.0}, {\"org\": \"jupyterlab\", \"repo\": \"jupyter-ai\", \"kind\": \"closed\", \"count\": 44.0}, {\"org\": \"jupyterlab\", \"repo\": \"jupyter-chat\", \"kind\": \"closed\", \"count\": 14.0}, {\"org\": \"jupyterlab\", \"repo\": \"jupyter-collaboration\", \"kind\": \"closed\", \"count\": 8.0}, {\"org\": \"jupyterlab\", \"repo\": \"jupyterlab\", \"kind\": \"closed\", \"count\": 83.0}, {\"org\": \"jupyterlab\", \"repo\": \"jupyterlab-desktop\", \"kind\": \"closed\", \"count\": 1.0}, {\"org\": \"jupyterlab\", \"repo\": \"jupyterlab-git\", \"kind\": \"closed\", \"count\": 1.0}, {\"org\": \"jupyterlab\", \"repo\": \"jupyterlab_pygments\", \"kind\": \"closed\", \"count\": 4.0}, {\"org\": \"jupyterlab\", \"repo\": \"lumino\", \"kind\": \"closed\", \"count\": 2.0}, {\"org\": \"jupyterlab\", \"repo\": \"maintainer-tools\", \"kind\": \"closed\", \"count\": 4.0}]}}, {\"mode\": \"vega-lite\"});\n",
       "</script>"
      ],
      "text/plain": [
       "alt.Chart(...)"
      ]
     },
     "execution_count": 19,
     "metadata": {},
     "output_type": "execute_result"
    }
   ],
   "source": [
    "charts = []\n",
    "# Pick the top 10 repositories\n",
    "top_repos = created_closed.groupby(['repo']).sum().sort_values(by='count', ascending=False).head(10).index\n",
    "ch = alt.Chart(created_closed.query('repo in @top_repos'), width=120).mark_bar().encode(\n",
    "    x=alt.X(\"kind\", axis=alt.Axis(labelFontSize=15, title=\"\")), \n",
    "    y=alt.Y('count', axis=alt.Axis(titleFontSize=15, labelFontSize=12)),\n",
    "    color='kind',\n",
    "    column=alt.Column(\"repo\", header=alt.Header(title=f\"Issue activity, last {n_days} days for {github_org}\", titleFontSize=15, labelFontSize=12))\n",
    ")\n",
    "ch"
   ]
  },
  {
   "cell_type": "code",
   "execution_count": 20,
   "id": "b62b30b1",
   "metadata": {
    "editable": true,
    "execution": {
     "iopub.execute_input": "2025-05-21T01:30:48.161863Z",
     "iopub.status.busy": "2025-05-21T01:30:48.161577Z",
     "iopub.status.idle": "2025-05-21T01:30:48.169969Z",
     "shell.execute_reply": "2025-05-21T01:30:48.169286Z"
    },
    "papermill": {
     "duration": 0.027092,
     "end_time": "2025-05-21T01:30:48.171047",
     "exception": false,
     "start_time": "2025-05-21T01:30:48.143955",
     "status": "completed"
    },
    "slideshow": {
     "slide_type": ""
    },
    "tags": [
     "remove_cell"
    ]
   },
   "outputs": [],
   "source": [
    "# Set to datetime\n",
    "for kind in ['created_at', 'closed_at']:\n",
    "    closed.loc[:, kind] = pd.to_datetime(closed[kind])\n",
    "    \n",
    "closed.loc[:, 'time_open'] = closed['closed_at'] - closed['created_at']\n",
    "closed.loc[:, 'time_open'] = closed['time_open'].dt.total_seconds()"
   ]
  },
  {
   "cell_type": "code",
   "execution_count": 21,
   "id": "64361436",
   "metadata": {
    "editable": true,
    "execution": {
     "iopub.execute_input": "2025-05-21T01:30:48.204376Z",
     "iopub.status.busy": "2025-05-21T01:30:48.204135Z",
     "iopub.status.idle": "2025-05-21T01:30:48.224174Z",
     "shell.execute_reply": "2025-05-21T01:30:48.223492Z"
    },
    "papermill": {
     "duration": 0.038167,
     "end_time": "2025-05-21T01:30:48.225364",
     "exception": false,
     "start_time": "2025-05-21T01:30:48.187197",
     "status": "completed"
    },
    "slideshow": {
     "slide_type": ""
    },
    "tags": [
     "hide_input"
    ]
   },
   "outputs": [
    {
     "data": {
      "text/html": [
       "\n",
       "<style>\n",
       "  #altair-viz-59a34b39a8634a37b0044fbaabdb0374.vega-embed {\n",
       "    width: 100%;\n",
       "    display: flex;\n",
       "  }\n",
       "\n",
       "  #altair-viz-59a34b39a8634a37b0044fbaabdb0374.vega-embed details,\n",
       "  #altair-viz-59a34b39a8634a37b0044fbaabdb0374.vega-embed details summary {\n",
       "    position: relative;\n",
       "  }\n",
       "</style>\n",
       "<div id=\"altair-viz-59a34b39a8634a37b0044fbaabdb0374\"></div>\n",
       "<script type=\"text/javascript\">\n",
       "  var VEGA_DEBUG = (typeof VEGA_DEBUG == \"undefined\") ? {} : VEGA_DEBUG;\n",
       "  (function(spec, embedOpt){\n",
       "    let outputDiv = document.currentScript.previousElementSibling;\n",
       "    if (outputDiv.id !== \"altair-viz-59a34b39a8634a37b0044fbaabdb0374\") {\n",
       "      outputDiv = document.getElementById(\"altair-viz-59a34b39a8634a37b0044fbaabdb0374\");\n",
       "    }\n",
       "\n",
       "    const paths = {\n",
       "      \"vega\": \"https://cdn.jsdelivr.net/npm/vega@5?noext\",\n",
       "      \"vega-lib\": \"https://cdn.jsdelivr.net/npm/vega-lib?noext\",\n",
       "      \"vega-lite\": \"https://cdn.jsdelivr.net/npm/vega-lite@5.20.1?noext\",\n",
       "      \"vega-embed\": \"https://cdn.jsdelivr.net/npm/vega-embed@6?noext\",\n",
       "    };\n",
       "\n",
       "    function maybeLoadScript(lib, version) {\n",
       "      var key = `${lib.replace(\"-\", \"\")}_version`;\n",
       "      return (VEGA_DEBUG[key] == version) ?\n",
       "        Promise.resolve(paths[lib]) :\n",
       "        new Promise(function(resolve, reject) {\n",
       "          var s = document.createElement('script');\n",
       "          document.getElementsByTagName(\"head\")[0].appendChild(s);\n",
       "          s.async = true;\n",
       "          s.onload = () => {\n",
       "            VEGA_DEBUG[key] = version;\n",
       "            return resolve(paths[lib]);\n",
       "          };\n",
       "          s.onerror = () => reject(`Error loading script: ${paths[lib]}`);\n",
       "          s.src = paths[lib];\n",
       "        });\n",
       "    }\n",
       "\n",
       "    function showError(err) {\n",
       "      outputDiv.innerHTML = `<div class=\"error\" style=\"color:red;\">${err}</div>`;\n",
       "      throw err;\n",
       "    }\n",
       "\n",
       "    function displayChart(vegaEmbed) {\n",
       "      vegaEmbed(outputDiv, spec, embedOpt)\n",
       "        .catch(err => showError(`Javascript Error: ${err.message}<br>This usually means there's a typo in your chart specification. See the javascript console for the full traceback.`));\n",
       "    }\n",
       "\n",
       "    if(typeof define === \"function\" && define.amd) {\n",
       "      requirejs.config({paths});\n",
       "      let deps = [\"vega-embed\"];\n",
       "      require(deps, displayChart, err => showError(`Error loading script: ${err.message}`));\n",
       "    } else {\n",
       "      maybeLoadScript(\"vega\", \"5\")\n",
       "        .then(() => maybeLoadScript(\"vega-lite\", \"5.20.1\"))\n",
       "        .then(() => maybeLoadScript(\"vega-embed\", \"6\"))\n",
       "        .catch(showError)\n",
       "        .then(() => displayChart(vegaEmbed));\n",
       "    }\n",
       "  })({\"config\": {\"axisLeft\": {\"labelFontSize\": 15}, \"axisBottom\": {\"labelFontSize\": 15}}, \"data\": {\"name\": \"data-b4dfb4194349e78306cce227a107b3a3\"}, \"mark\": {\"type\": \"bar\"}, \"encoding\": {\"x\": {\"field\": \"repo\", \"sort\": [\"maintainer-tools\", \"jupyter-ai\", \"jupyter-chat\", \"jupyterlab-desktop\", \"lumino\", \"jupyterlab\", \"jupyter-collaboration\", \"extension-template\", \"jupyterlab_pygments\", \"frontends-team-compass\", \"jupyterlab-git\"], \"type\": \"nominal\"}, \"y\": {\"field\": \"time_open\", \"title\": \"Median Days Open\", \"type\": \"quantitative\"}}, \"title\": \"Time to close for issues closed in the last 90 days\", \"$schema\": \"https://vega.github.io/schema/vega-lite/v5.20.1.json\", \"datasets\": {\"data-b4dfb4194349e78306cce227a107b3a3\": [{\"org\": \"jupyterlab\", \"repo\": \"extension-template\", \"time_open\": 6.079317129629629, \"org/repo\": \"jupyterlab/extension-template\"}, {\"org\": \"jupyterlab\", \"repo\": \"frontends-team-compass\", \"time_open\": 0.00568287037037037, \"org/repo\": \"jupyterlab/frontends-team-compass\"}, {\"org\": \"jupyterlab\", \"repo\": \"jupyter-ai\", \"time_open\": 61.75816550925926, \"org/repo\": \"jupyterlab/jupyter-ai\"}, {\"org\": \"jupyterlab\", \"repo\": \"jupyter-chat\", \"time_open\": 18.43629050925926, \"org/repo\": \"jupyterlab/jupyter-chat\"}, {\"org\": \"jupyterlab\", \"repo\": \"jupyter-collaboration\", \"time_open\": 8.86011574074074, \"org/repo\": \"jupyterlab/jupyter-collaboration\"}, {\"org\": \"jupyterlab\", \"repo\": \"jupyterlab\", \"time_open\": 13.94880787037037, \"org/repo\": \"jupyterlab/jupyterlab\"}, {\"org\": \"jupyterlab\", \"repo\": \"jupyterlab-desktop\", \"time_open\": 15.044201388888888, \"org/repo\": \"jupyterlab/jupyterlab-desktop\"}, {\"org\": \"jupyterlab\", \"repo\": \"jupyterlab-git\", \"time_open\": 0.0005671296296296297, \"org/repo\": \"jupyterlab/jupyterlab-git\"}, {\"org\": \"jupyterlab\", \"repo\": \"jupyterlab_pygments\", \"time_open\": 0.22354166666666667, \"org/repo\": \"jupyterlab/jupyterlab_pygments\"}, {\"org\": \"jupyterlab\", \"repo\": \"lumino\", \"time_open\": 14.997633101851852, \"org/repo\": \"jupyterlab/lumino\"}, {\"org\": \"jupyterlab\", \"repo\": \"maintainer-tools\", \"time_open\": 448.97394675925926, \"org/repo\": \"jupyterlab/maintainer-tools\"}]}}, {\"mode\": \"vega-lite\"});\n",
       "</script>"
      ],
      "text/plain": [
       "alt.Chart(...)"
      ]
     },
     "execution_count": 21,
     "metadata": {},
     "output_type": "execute_result"
    }
   ],
   "source": [
    "time_open = closed.groupby(['org', 'repo']).agg({'time_open': 'median'}).reset_index()\n",
    "time_open['time_open'] = time_open['time_open'] / (60 * 60 * 24)\n",
    "time_open['org/repo'] = time_open.apply(lambda a: a['org'] + '/' + a['repo'], axis=1)\n",
    "sorted_vals = time_open.sort_values(['org', 'time_open'], ascending=False)['repo'].values\n",
    "alt.Chart(data=time_open, title=f\"Time to close for issues closed in the last {n_days} days\").mark_bar().encode(\n",
    "    x=alt.X('repo', sort=alt.Sort(sorted_vals.tolist())),\n",
    "    y=alt.Y('time_open', title=\"Median Days Open\"),\n",
    ")"
   ]
  },
  {
   "cell_type": "markdown",
   "id": "a437a900",
   "metadata": {
    "editable": true,
    "papermill": {
     "duration": 0.016184,
     "end_time": "2025-05-21T01:30:48.258053",
     "exception": false,
     "start_time": "2025-05-21T01:30:48.241869",
     "status": "completed"
    },
    "slideshow": {
     "slide_type": ""
    },
    "tags": []
   },
   "source": [
    "## Most-upvoted issues"
   ]
  },
  {
   "cell_type": "code",
   "execution_count": 22,
   "id": "2daed43c",
   "metadata": {
    "editable": true,
    "execution": {
     "iopub.execute_input": "2025-05-21T01:30:48.293443Z",
     "iopub.status.busy": "2025-05-21T01:30:48.292968Z",
     "iopub.status.idle": "2025-05-21T01:30:48.319764Z",
     "shell.execute_reply": "2025-05-21T01:30:48.319074Z"
    },
    "papermill": {
     "duration": 0.046026,
     "end_time": "2025-05-21T01:30:48.320842",
     "exception": false,
     "start_time": "2025-05-21T01:30:48.274816",
     "status": "completed"
    },
    "slideshow": {
     "slide_type": ""
    },
    "tags": [
     "hide_input"
    ]
   },
   "outputs": [
    {
     "data": {
      "application/vnd.jupyter.widget-view+json": {
       "model_id": "f232eb92d7f04f119757b9ab2c703201",
       "version_major": 2,
       "version_minor": 0
      },
      "text/plain": [
       "HTML(value='<ul>\\n<li>(117) Implement variable inspector for kernels - jupyterlab - <a href=\"https://github.co…"
      ]
     },
     "execution_count": 22,
     "metadata": {},
     "output_type": "execute_result"
    }
   ],
   "source": [
    "thumbsup = issues.query(\"state == 'open'\").sort_values(\"positive\", ascending=False).head(25)\n",
    "thumbsup = thumbsup[[\"title\", \"url\", \"number\", \"positive\", \"repo\"]]\n",
    "\n",
    "text = []\n",
    "for ii, irow in thumbsup.iterrows():\n",
    "    itext = f\"- ({irow['positive']}) {irow['title']} - {irow['repo']} - [#{irow['number']}]({irow['url']})\"\n",
    "    text.append(itext)\n",
    "text = '\\n'.join(text)\n",
    "HTML(markdown(text))"
   ]
  },
  {
   "cell_type": "markdown",
   "id": "503df5d1",
   "metadata": {
    "editable": true,
    "papermill": {
     "duration": 0.016507,
     "end_time": "2025-05-21T01:30:48.354365",
     "exception": false,
     "start_time": "2025-05-21T01:30:48.337858",
     "status": "completed"
    },
    "slideshow": {
     "slide_type": ""
    },
    "tags": []
   },
   "source": [
    "## Commenters across repositories\n",
    "\n",
    "These are commenters across all issues and pull requests in the last several days.\n",
    "These are colored by the commenter's association with the organization. For information\n",
    "about what these associations mean, [see this StackOverflow post](https://stackoverflow.com/a/28866914/1927102)."
   ]
  },
  {
   "cell_type": "code",
   "execution_count": 23,
   "id": "50ad1b12",
   "metadata": {
    "editable": true,
    "execution": {
     "iopub.execute_input": "2025-05-21T01:30:48.388535Z",
     "iopub.status.busy": "2025-05-21T01:30:48.388076Z",
     "iopub.status.idle": "2025-05-21T01:30:48.401014Z",
     "shell.execute_reply": "2025-05-21T01:30:48.400455Z"
    },
    "papermill": {
     "duration": 0.031304,
     "end_time": "2025-05-21T01:30:48.402164",
     "exception": false,
     "start_time": "2025-05-21T01:30:48.370860",
     "status": "completed"
    },
    "slideshow": {
     "slide_type": ""
    },
    "tags": [
     "remove_cell"
    ]
   },
   "outputs": [],
   "source": [
    "commentors = (\n",
    "    comments\n",
    "    .query(\"created_at > @start_date and created_at < @stop_date\")\n",
    "    .groupby(['org', 'repo', 'login', 'author_association'])\n",
    "    .count().rename(columns={'id_issue': 'count'})['count']\n",
    "    .reset_index()\n",
    "    .sort_values(['org', 'count'], ascending=False)\n",
    ")"
   ]
  },
  {
   "cell_type": "code",
   "execution_count": 24,
   "id": "f1fd0bdb",
   "metadata": {
    "editable": true,
    "execution": {
     "iopub.execute_input": "2025-05-21T01:30:48.438095Z",
     "iopub.status.busy": "2025-05-21T01:30:48.437822Z",
     "iopub.status.idle": "2025-05-21T01:30:48.464529Z",
     "shell.execute_reply": "2025-05-21T01:30:48.463928Z"
    },
    "papermill": {
     "duration": 0.046154,
     "end_time": "2025-05-21T01:30:48.465638",
     "exception": false,
     "start_time": "2025-05-21T01:30:48.419484",
     "status": "completed"
    },
    "slideshow": {
     "slide_type": ""
    },
    "tags": [
     "hide_input"
    ]
   },
   "outputs": [
    {
     "data": {
      "text/html": [
       "\n",
       "<style>\n",
       "  #altair-viz-33c2b4b6369e45cd9800546918a90e74.vega-embed {\n",
       "    width: 100%;\n",
       "    display: flex;\n",
       "  }\n",
       "\n",
       "  #altair-viz-33c2b4b6369e45cd9800546918a90e74.vega-embed details,\n",
       "  #altair-viz-33c2b4b6369e45cd9800546918a90e74.vega-embed details summary {\n",
       "    position: relative;\n",
       "  }\n",
       "</style>\n",
       "<div id=\"altair-viz-33c2b4b6369e45cd9800546918a90e74\"></div>\n",
       "<script type=\"text/javascript\">\n",
       "  var VEGA_DEBUG = (typeof VEGA_DEBUG == \"undefined\") ? {} : VEGA_DEBUG;\n",
       "  (function(spec, embedOpt){\n",
       "    let outputDiv = document.currentScript.previousElementSibling;\n",
       "    if (outputDiv.id !== \"altair-viz-33c2b4b6369e45cd9800546918a90e74\") {\n",
       "      outputDiv = document.getElementById(\"altair-viz-33c2b4b6369e45cd9800546918a90e74\");\n",
       "    }\n",
       "\n",
       "    const paths = {\n",
       "      \"vega\": \"https://cdn.jsdelivr.net/npm/vega@5?noext\",\n",
       "      \"vega-lib\": \"https://cdn.jsdelivr.net/npm/vega-lib?noext\",\n",
       "      \"vega-lite\": \"https://cdn.jsdelivr.net/npm/vega-lite@5.20.1?noext\",\n",
       "      \"vega-embed\": \"https://cdn.jsdelivr.net/npm/vega-embed@6?noext\",\n",
       "    };\n",
       "\n",
       "    function maybeLoadScript(lib, version) {\n",
       "      var key = `${lib.replace(\"-\", \"\")}_version`;\n",
       "      return (VEGA_DEBUG[key] == version) ?\n",
       "        Promise.resolve(paths[lib]) :\n",
       "        new Promise(function(resolve, reject) {\n",
       "          var s = document.createElement('script');\n",
       "          document.getElementsByTagName(\"head\")[0].appendChild(s);\n",
       "          s.async = true;\n",
       "          s.onload = () => {\n",
       "            VEGA_DEBUG[key] = version;\n",
       "            return resolve(paths[lib]);\n",
       "          };\n",
       "          s.onerror = () => reject(`Error loading script: ${paths[lib]}`);\n",
       "          s.src = paths[lib];\n",
       "        });\n",
       "    }\n",
       "\n",
       "    function showError(err) {\n",
       "      outputDiv.innerHTML = `<div class=\"error\" style=\"color:red;\">${err}</div>`;\n",
       "      throw err;\n",
       "    }\n",
       "\n",
       "    function displayChart(vegaEmbed) {\n",
       "      vegaEmbed(outputDiv, spec, embedOpt)\n",
       "        .catch(err => showError(`Javascript Error: ${err.message}<br>This usually means there's a typo in your chart specification. See the javascript console for the full traceback.`));\n",
       "    }\n",
       "\n",
       "    if(typeof define === \"function\" && define.amd) {\n",
       "      requirejs.config({paths});\n",
       "      let deps = [\"vega-embed\"];\n",
       "      require(deps, displayChart, err => showError(`Error loading script: ${err.message}`));\n",
       "    } else {\n",
       "      maybeLoadScript(\"vega\", \"5\")\n",
       "        .then(() => maybeLoadScript(\"vega-lite\", \"5.20.1\"))\n",
       "        .then(() => maybeLoadScript(\"vega-embed\", \"6\"))\n",
       "        .catch(showError)\n",
       "        .then(() => displayChart(vegaEmbed));\n",
       "    }\n",
       "  })({\"config\": {\"axisLeft\": {\"labelFontSize\": 15}, \"axisBottom\": {\"labelFontSize\": 15}}, \"hconcat\": [{\"mark\": {\"type\": \"bar\"}, \"encoding\": {\"color\": {\"field\": \"author_association\", \"scale\": {\"domain\": [\"MEMBER\", \"CONTRIBUTOR\", \"COLLABORATOR\", \"NONE\"], \"range\": [\"rgb(211.82745098039214, 211.82745098039214, 211.82745098039214)\", \"rgb(166.98562091503268, 229.89803921568628, 166.98562091503268)\", \"rgb(96.37647058823529, 192.75294117647059, 96.37647058823529)\", \"rgb(0.0, 100.3921568627451, 0.0)\"]}, \"type\": \"nominal\"}, \"x\": {\"field\": \"login\", \"type\": \"nominal\"}, \"y\": {\"field\": \"count\", \"type\": \"quantitative\"}}, \"title\": \"Top 50 commentors for ('jupyterlab',) in the last 90 days\"}], \"data\": {\"name\": \"data-8d922ab5cb5cdf0acfb8ede0ae8e81a9\"}, \"$schema\": \"https://vega.github.io/schema/vega-lite/v5.20.1.json\", \"datasets\": {\"data-8d922ab5cb5cdf0acfb8ede0ae8e81a9\": [{\"login\": \"dlqqq\", \"count\": 73, \"author_association\": \"MEMBER\"}, {\"login\": \"krassowski\", \"count\": 40, \"author_association\": \"MEMBER\"}, {\"login\": \"brichet\", \"count\": 21, \"author_association\": \"MEMBER\"}, {\"login\": \"srdas\", \"count\": 21, \"author_association\": \"COLLABORATOR\"}, {\"login\": \"andrii-i\", \"count\": 14, \"author_association\": \"MEMBER\"}, {\"login\": \"jtpio\", \"count\": 12, \"author_association\": \"MEMBER\"}, {\"login\": \"danyeaw\", \"count\": 10, \"author_association\": \"MEMBER\"}, {\"login\": \"jochym\", \"count\": 9, \"author_association\": \"NONE\"}, {\"login\": \"RRosio\", \"count\": 9, \"author_association\": \"MEMBER\"}, {\"login\": \"nwalters512\", \"count\": 7, \"author_association\": \"NONE\"}, {\"login\": \"wkvolkman\", \"count\": 7, \"author_association\": \"NONE\"}, {\"login\": \"gogakoreli\", \"count\": 7, \"author_association\": \"NONE\"}, {\"login\": \"davidbrochart\", \"count\": 6, \"author_association\": \"MEMBER\"}, {\"login\": \"fcollonval\", \"count\": 6, \"author_association\": \"MEMBER\"}, {\"login\": \"rickmcgeer\", \"count\": 5, \"author_association\": \"NONE\"}, {\"login\": \"Zsailer\", \"count\": 5, \"author_association\": \"MEMBER\"}, {\"login\": \"johnnyxwan\", \"count\": 4, \"author_association\": \"NONE\"}, {\"login\": \"Sieboldianus\", \"count\": 4, \"author_association\": \"NONE\"}, {\"login\": \"Christhian16\", \"count\": 4, \"author_association\": \"NONE\"}, {\"login\": \"lewisl\", \"count\": 4, \"author_association\": \"NONE\"}, {\"login\": \"jiridanek\", \"count\": 4, \"author_association\": \"NONE\"}, {\"login\": \"fperez\", \"count\": 3, \"author_association\": \"MEMBER\"}, {\"login\": \"cboettig\", \"count\": 3, \"author_association\": \"NONE\"}, {\"login\": \"skabbit\", \"count\": 3, \"author_association\": \"NONE\"}, {\"login\": \"rootsmusic\", \"count\": 3, \"author_association\": \"NONE\"}, {\"login\": \"VicaYang\", \"count\": 3, \"author_association\": \"NONE\"}, {\"login\": \"parulnith\", \"count\": 3, \"author_association\": \"NONE\"}, {\"login\": \"wenmin-wu\", \"count\": 2, \"author_association\": \"NONE\"}, {\"login\": \"mbektas\", \"count\": 2, \"author_association\": \"MEMBER\"}, {\"login\": \"mreisbeck2\", \"count\": 2, \"author_association\": \"NONE\"}, {\"login\": \"BigFlagBurito\", \"count\": 2, \"author_association\": \"NONE\"}, {\"login\": \"Hyrla\", \"count\": 2, \"author_association\": \"NONE\"}, {\"login\": \"Ahri-man\", \"count\": 2, \"author_association\": \"NONE\"}, {\"login\": \"Darshan808\", \"count\": 2, \"author_association\": \"MEMBER\"}, {\"login\": \"dzambuto\", \"count\": 2, \"author_association\": \"NONE\"}, {\"login\": \"easp\", \"count\": 2, \"author_association\": \"NONE\"}, {\"login\": \"kburchfiel\", \"count\": 2, \"author_association\": \"NONE\"}, {\"login\": \"perllaghu\", \"count\": 2, \"author_association\": \"NONE\"}, {\"login\": \"uhaotian\", \"count\": 2, \"author_association\": \"NONE\"}, {\"login\": \"ctcjab\", \"count\": 2, \"author_association\": \"NONE\"}, {\"login\": \"antonstor\", \"count\": 2, \"author_association\": \"NONE\"}, {\"login\": \"agron2017\", \"count\": 2, \"author_association\": \"NONE\"}, {\"login\": \"RaphaelPorcherot\", \"count\": 1, \"author_association\": \"NONE\"}, {\"login\": \"Carreau\", \"count\": 1, \"author_association\": \"MEMBER\"}, {\"login\": \"ANANTH999\", \"count\": 1, \"author_association\": \"NONE\"}, {\"login\": \"jesuino\", \"count\": 1, \"author_association\": \"NONE\"}, {\"login\": \"donghokimm\", \"count\": 1, \"author_association\": \"NONE\"}, {\"login\": \"dogganon\", \"count\": 1, \"author_association\": \"NONE\"}, {\"login\": \"ellisonbg\", \"count\": 1, \"author_association\": \"MEMBER\"}, {\"login\": \"eazuman\", \"count\": 1, \"author_association\": \"NONE\"}]}}, {\"mode\": \"vega-lite\"});\n",
       "</script>"
      ],
      "text/plain": [
       "alt.HConcatChart(...)"
      ]
     },
     "execution_count": 24,
     "metadata": {},
     "output_type": "execute_result"
    }
   ],
   "source": [
    "n_plot = 50\n",
    "charts = []\n",
    "for ii, (iorg, idata) in enumerate(commentors.groupby(['org'])):\n",
    "    title = f\"Top {n_plot} commentors for {iorg} in the last {n_days} days\"\n",
    "    idata = idata.groupby('login', as_index=False).agg({'count': 'sum', 'author_association': 'first'})\n",
    "    idata = idata.sort_values('count', ascending=False).head(n_plot)\n",
    "    ch = alt.Chart(data=idata.head(n_plot), title=title).mark_bar().encode(\n",
    "        x='login',\n",
    "        y='count',\n",
    "        color=alt.Color('author_association', scale=alt.Scale(domain=author_types, range=author_colors))\n",
    "    )\n",
    "    charts.append(ch)\n",
    "alt.hconcat(*charts)"
   ]
  },
  {
   "cell_type": "markdown",
   "id": "a38d4641",
   "metadata": {
    "editable": true,
    "papermill": {
     "duration": 0.016719,
     "end_time": "2025-05-21T01:30:48.499567",
     "exception": false,
     "start_time": "2025-05-21T01:30:48.482848",
     "status": "completed"
    },
    "slideshow": {
     "slide_type": ""
    },
    "tags": []
   },
   "source": [
    "## First responders\n",
    "\n",
    "First responders are the first people to respond to a new issue in one of the repositories.\n",
    "The following plots show first responders for recently-created issues."
   ]
  },
  {
   "cell_type": "code",
   "execution_count": 25,
   "id": "cc8cb4e6",
   "metadata": {
    "editable": true,
    "execution": {
     "iopub.execute_input": "2025-05-21T01:30:48.534151Z",
     "iopub.status.busy": "2025-05-21T01:30:48.533556Z",
     "iopub.status.idle": "2025-05-21T01:30:48.587349Z",
     "shell.execute_reply": "2025-05-21T01:30:48.586783Z"
    },
    "papermill": {
     "duration": 0.072509,
     "end_time": "2025-05-21T01:30:48.588644",
     "exception": false,
     "start_time": "2025-05-21T01:30:48.516135",
     "status": "completed"
    },
    "slideshow": {
     "slide_type": ""
    },
    "tags": [
     "remove_cell"
    ]
   },
   "outputs": [],
   "source": [
    "first_comments = []\n",
    "latest_comments = comments.query(\"created_at > @start_date\")\n",
    "for (org, repo, issue_id), i_comments in latest_comments.groupby(['org', 'repo', 'id_issue']):\n",
    "    ix_min = pd.to_datetime(i_comments['created_at']).idxmin()\n",
    "    first_comment = i_comments.loc[ix_min]\n",
    "    if isinstance(first_comment, pd.DataFrame):\n",
    "        first_comment = first_comment.iloc[0]\n",
    "    first_comments.append(first_comment)\n",
    "first_comments = pd.concat(first_comments, axis=1).T\n",
    "\n",
    "# Make up counts for viz\n",
    "first_responder_counts = first_comments.groupby(['org', 'login', 'author_association'], as_index=False).\\\n",
    "    count().rename(columns={'id_issue': 'n_first_responses'}).sort_values(['org', 'n_first_responses'], ascending=False)\n"
   ]
  },
  {
   "cell_type": "code",
   "execution_count": 26,
   "id": "20899a5e",
   "metadata": {
    "editable": true,
    "execution": {
     "iopub.execute_input": "2025-05-21T01:30:48.625098Z",
     "iopub.status.busy": "2025-05-21T01:30:48.624837Z",
     "iopub.status.idle": "2025-05-21T01:30:48.650059Z",
     "shell.execute_reply": "2025-05-21T01:30:48.649415Z"
    },
    "papermill": {
     "duration": 0.044435,
     "end_time": "2025-05-21T01:30:48.651181",
     "exception": false,
     "start_time": "2025-05-21T01:30:48.606746",
     "status": "completed"
    },
    "slideshow": {
     "slide_type": ""
    },
    "tags": [
     "hide_input"
    ]
   },
   "outputs": [
    {
     "data": {
      "text/html": [
       "\n",
       "<style>\n",
       "  #altair-viz-d6f580c339b54839a8c0bde5e8959d96.vega-embed {\n",
       "    width: 100%;\n",
       "    display: flex;\n",
       "  }\n",
       "\n",
       "  #altair-viz-d6f580c339b54839a8c0bde5e8959d96.vega-embed details,\n",
       "  #altair-viz-d6f580c339b54839a8c0bde5e8959d96.vega-embed details summary {\n",
       "    position: relative;\n",
       "  }\n",
       "</style>\n",
       "<div id=\"altair-viz-d6f580c339b54839a8c0bde5e8959d96\"></div>\n",
       "<script type=\"text/javascript\">\n",
       "  var VEGA_DEBUG = (typeof VEGA_DEBUG == \"undefined\") ? {} : VEGA_DEBUG;\n",
       "  (function(spec, embedOpt){\n",
       "    let outputDiv = document.currentScript.previousElementSibling;\n",
       "    if (outputDiv.id !== \"altair-viz-d6f580c339b54839a8c0bde5e8959d96\") {\n",
       "      outputDiv = document.getElementById(\"altair-viz-d6f580c339b54839a8c0bde5e8959d96\");\n",
       "    }\n",
       "\n",
       "    const paths = {\n",
       "      \"vega\": \"https://cdn.jsdelivr.net/npm/vega@5?noext\",\n",
       "      \"vega-lib\": \"https://cdn.jsdelivr.net/npm/vega-lib?noext\",\n",
       "      \"vega-lite\": \"https://cdn.jsdelivr.net/npm/vega-lite@5.20.1?noext\",\n",
       "      \"vega-embed\": \"https://cdn.jsdelivr.net/npm/vega-embed@6?noext\",\n",
       "    };\n",
       "\n",
       "    function maybeLoadScript(lib, version) {\n",
       "      var key = `${lib.replace(\"-\", \"\")}_version`;\n",
       "      return (VEGA_DEBUG[key] == version) ?\n",
       "        Promise.resolve(paths[lib]) :\n",
       "        new Promise(function(resolve, reject) {\n",
       "          var s = document.createElement('script');\n",
       "          document.getElementsByTagName(\"head\")[0].appendChild(s);\n",
       "          s.async = true;\n",
       "          s.onload = () => {\n",
       "            VEGA_DEBUG[key] = version;\n",
       "            return resolve(paths[lib]);\n",
       "          };\n",
       "          s.onerror = () => reject(`Error loading script: ${paths[lib]}`);\n",
       "          s.src = paths[lib];\n",
       "        });\n",
       "    }\n",
       "\n",
       "    function showError(err) {\n",
       "      outputDiv.innerHTML = `<div class=\"error\" style=\"color:red;\">${err}</div>`;\n",
       "      throw err;\n",
       "    }\n",
       "\n",
       "    function displayChart(vegaEmbed) {\n",
       "      vegaEmbed(outputDiv, spec, embedOpt)\n",
       "        .catch(err => showError(`Javascript Error: ${err.message}<br>This usually means there's a typo in your chart specification. See the javascript console for the full traceback.`));\n",
       "    }\n",
       "\n",
       "    if(typeof define === \"function\" && define.amd) {\n",
       "      requirejs.config({paths});\n",
       "      let deps = [\"vega-embed\"];\n",
       "      require(deps, displayChart, err => showError(`Error loading script: ${err.message}`));\n",
       "    } else {\n",
       "      maybeLoadScript(\"vega\", \"5\")\n",
       "        .then(() => maybeLoadScript(\"vega-lite\", \"5.20.1\"))\n",
       "        .then(() => maybeLoadScript(\"vega-embed\", \"6\"))\n",
       "        .catch(showError)\n",
       "        .then(() => displayChart(vegaEmbed));\n",
       "    }\n",
       "  })({\"config\": {\"axisLeft\": {\"labelFontSize\": 15}, \"axisBottom\": {\"labelFontSize\": 15}}, \"data\": {\"name\": \"data-0fb5265597ff3acdc83ee0e0cc95def5\"}, \"mark\": {\"type\": \"bar\"}, \"encoding\": {\"color\": {\"field\": \"author_association\", \"scale\": {\"domain\": [\"MEMBER\", \"CONTRIBUTOR\", \"COLLABORATOR\", \"NONE\"], \"range\": [\"rgb(211.82745098039214, 211.82745098039214, 211.82745098039214)\", \"rgb(166.98562091503268, 229.89803921568628, 166.98562091503268)\", \"rgb(96.37647058823529, 192.75294117647059, 96.37647058823529)\", \"rgb(0.0, 100.3921568627451, 0.0)\"]}, \"type\": \"nominal\"}, \"x\": {\"field\": \"login\", \"type\": \"nominal\"}, \"y\": {\"field\": \"n_first_responses\", \"type\": \"quantitative\"}}, \"title\": \"Top 50 first responders for jupyterlab in the last 90 days\", \"$schema\": \"https://vega.github.io/schema/vega-lite/v5.20.1.json\", \"datasets\": {\"data-0fb5265597ff3acdc83ee0e0cc95def5\": [{\"login\": \"dlqqq\", \"n_first_responses\": 32, \"author_association\": \"MEMBER\"}, {\"login\": \"krassowski\", \"n_first_responses\": 14, \"author_association\": \"MEMBER\"}, {\"login\": \"brichet\", \"n_first_responses\": 11, \"author_association\": \"MEMBER\"}, {\"login\": \"jtpio\", \"n_first_responses\": 4, \"author_association\": \"MEMBER\"}, {\"login\": \"fcollonval\", \"n_first_responses\": 4, \"author_association\": \"MEMBER\"}, {\"login\": \"Zsailer\", \"n_first_responses\": 3, \"author_association\": \"MEMBER\"}, {\"login\": \"andrii-i\", \"n_first_responses\": 3, \"author_association\": \"MEMBER\"}, {\"login\": \"jochym\", \"n_first_responses\": 3, \"author_association\": \"NONE\"}, {\"login\": \"RRosio\", \"n_first_responses\": 2, \"author_association\": \"MEMBER\"}, {\"login\": \"wkvolkman\", \"n_first_responses\": 2, \"author_association\": \"NONE\"}, {\"login\": \"antonstor\", \"n_first_responses\": 2, \"author_association\": \"NONE\"}, {\"login\": \"srdas\", \"n_first_responses\": 2, \"author_association\": \"COLLABORATOR\"}, {\"login\": \"acgeospatial\", \"n_first_responses\": 1, \"author_association\": \"NONE\"}, {\"login\": \"ANANTH999\", \"n_first_responses\": 1, \"author_association\": \"NONE\"}, {\"login\": \"BigFlagBurito\", \"n_first_responses\": 1, \"author_association\": \"NONE\"}, {\"login\": \"RaphaelPorcherot\", \"n_first_responses\": 1, \"author_association\": \"NONE\"}, {\"login\": \"VicaYang\", \"n_first_responses\": 1, \"author_association\": \"NONE\"}, {\"login\": \"easp\", \"n_first_responses\": 1, \"author_association\": \"NONE\"}, {\"login\": \"dzambuto\", \"n_first_responses\": 1, \"author_association\": \"NONE\"}, {\"login\": \"berceanu\", \"n_first_responses\": 1, \"author_association\": \"NONE\"}, {\"login\": \"ellisonbg\", \"n_first_responses\": 1, \"author_association\": \"MEMBER\"}, {\"login\": \"jesuino\", \"n_first_responses\": 1, \"author_association\": \"NONE\"}, {\"login\": \"bertini97\", \"n_first_responses\": 1, \"author_association\": \"NONE\"}, {\"login\": \"aolney\", \"n_first_responses\": 1, \"author_association\": \"NONE\"}, {\"login\": \"beniroquai\", \"n_first_responses\": 1, \"author_association\": \"NONE\"}, {\"login\": \"kburchfiel\", \"n_first_responses\": 1, \"author_association\": \"NONE\"}, {\"login\": \"johnnyxwan\", \"n_first_responses\": 1, \"author_association\": \"NONE\"}, {\"login\": \"fperez\", \"n_first_responses\": 1, \"author_association\": \"MEMBER\"}, {\"login\": \"kundeng\", \"n_first_responses\": 1, \"author_association\": \"NONE\"}, {\"login\": \"mateMathieu\", \"n_first_responses\": 1, \"author_association\": \"NONE\"}, {\"login\": \"maxwacker\", \"n_first_responses\": 1, \"author_association\": \"NONE\"}, {\"login\": \"lucaslrodri\", \"n_first_responses\": 1, \"author_association\": \"NONE\"}, {\"login\": \"manics\", \"n_first_responses\": 1, \"author_association\": \"NONE\"}, {\"login\": \"mreisbeck2\", \"n_first_responses\": 1, \"author_association\": \"NONE\"}, {\"login\": \"michaelchia\", \"n_first_responses\": 1, \"author_association\": \"COLLABORATOR\"}, {\"login\": \"nwalters512\", \"n_first_responses\": 1, \"author_association\": \"NONE\"}, {\"login\": \"oscar6echo\", \"n_first_responses\": 1, \"author_association\": \"NONE\"}, {\"login\": \"rvalenzuelar\", \"n_first_responses\": 1, \"author_association\": \"NONE\"}, {\"login\": \"perllaghu\", \"n_first_responses\": 1, \"author_association\": \"NONE\"}, {\"login\": \"twiecki\", \"n_first_responses\": 1, \"author_association\": \"NONE\"}, {\"login\": \"wenmin-wu\", \"n_first_responses\": 1, \"author_association\": \"NONE\"}]}}, {\"mode\": \"vega-lite\"});\n",
       "</script>"
      ],
      "text/plain": [
       "alt.Chart(...)"
      ]
     },
     "execution_count": 26,
     "metadata": {},
     "output_type": "execute_result"
    }
   ],
   "source": [
    "n_plot = 50\n",
    "\n",
    "title = f\"Top {n_plot} first responders for {github_org} in the last {n_days} days\"\n",
    "idata = first_responder_counts.groupby('login', as_index=False).agg({'n_first_responses': 'sum', 'author_association': 'first'})\n",
    "idata = idata.sort_values('n_first_responses', ascending=False).head(n_plot)\n",
    "ch = alt.Chart(data=idata.head(n_plot), title=title).mark_bar().encode(\n",
    "    x='login',\n",
    "    y='n_first_responses',\n",
    "    color=alt.Color('author_association', scale=alt.Scale(domain=author_types, range=author_colors))\n",
    ")\n",
    "ch"
   ]
  },
  {
   "cell_type": "markdown",
   "id": "cbd35197",
   "metadata": {
    "editable": true,
    "papermill": {
     "duration": 0.01706,
     "end_time": "2025-05-21T01:30:48.685819",
     "exception": false,
     "start_time": "2025-05-21T01:30:48.668759",
     "status": "completed"
    },
    "slideshow": {
     "slide_type": ""
    },
    "tags": []
   },
   "source": [
    "## Recent activity\n",
    "\n",
    "### A list of merged PRs by project\n",
    "\n",
    "Below is a tabbed readout of recently-merged PRs. Check out the title to get an idea for what they\n",
    "implemented, and be sure to thank the PR author for their hard work!"
   ]
  },
  {
   "cell_type": "code",
   "execution_count": 27,
   "id": "00c18e79",
   "metadata": {
    "editable": true,
    "execution": {
     "iopub.execute_input": "2025-05-21T01:30:48.720649Z",
     "iopub.status.busy": "2025-05-21T01:30:48.720380Z",
     "iopub.status.idle": "2025-05-21T01:30:48.870047Z",
     "shell.execute_reply": "2025-05-21T01:30:48.869158Z"
    },
    "papermill": {
     "duration": 0.173576,
     "end_time": "2025-05-21T01:30:48.876267",
     "exception": false,
     "start_time": "2025-05-21T01:30:48.702691",
     "status": "completed"
    },
    "slideshow": {
     "slide_type": ""
    },
    "tags": [
     "hide_input"
    ]
   },
   "outputs": [
    {
     "data": {
      "application/vnd.jupyter.widget-view+json": {
       "model_id": "21ad84db2b3240719284e80eadde7c34",
       "version_major": 2,
       "version_minor": 0
      },
      "text/plain": [
       "Tab(children=(HTML(value='<h4>Closed PRs for repo: <a href=\"https://github.com/jupyterlab/frontends-team-compa…"
      ]
     },
     "execution_count": 27,
     "metadata": {},
     "output_type": "execute_result"
    }
   ],
   "source": [
    "tabs = widgets.Tab(children=[])\n",
    "\n",
    "for ii, ((org, repo), imerged) in enumerate(merged.query(\"repo in @use_repos\").groupby(['org', 'repo'])):\n",
    "    merged_by = {}\n",
    "    pr_by = {}\n",
    "    issue_md = []\n",
    "    issue_md.append(f\"#### Closed PRs for repo: [{org}/{repo}](https://github.com/{github_org}/{repo})\")\n",
    "    issue_md.append(\"\")\n",
    "    issue_md.append(f\"##### \")\n",
    "\n",
    "    for _, ipr in imerged.iterrows():\n",
    "        user_name = ipr['login']\n",
    "        user_url = author_url(user_name)\n",
    "        pr_number = ipr['number']\n",
    "        pr_html = ipr['url']\n",
    "        pr_title = ipr['title']\n",
    "        pr_closedby = ipr['merged_by']\n",
    "        pr_closedby_url = f\"https://github.com/{pr_closedby}\"\n",
    "        if user_name not in pr_by:\n",
    "            pr_by[user_name] = 1\n",
    "        else:\n",
    "            pr_by[user_name] += 1\n",
    "\n",
    "        if pr_closedby not in merged_by:\n",
    "            merged_by[pr_closedby] = 1\n",
    "        else:\n",
    "            merged_by[pr_closedby] += 1\n",
    "        text = f\"* [(#{pr_number})]({pr_html}): _{pr_title}_ by **[@{user_name}]({user_url})** merged by **[@{pr_closedby}]({pr_closedby_url})**\"\n",
    "        issue_md.append(text)\n",
    "    \n",
    "    issue_md.append('')\n",
    "    markdown_html = markdown('\\n'.join(issue_md))\n",
    "\n",
    "    children = list(tabs.children)\n",
    "    children.append(HTML(markdown_html))\n",
    "    tabs.children = tuple(children)\n",
    "    tabs.set_title(ii, repo)\n",
    "tabs"
   ]
  },
  {
   "cell_type": "markdown",
   "id": "f89f54b9",
   "metadata": {
    "editable": true,
    "papermill": {
     "duration": 0.01776,
     "end_time": "2025-05-21T01:30:48.912152",
     "exception": false,
     "start_time": "2025-05-21T01:30:48.894392",
     "status": "completed"
    },
    "slideshow": {
     "slide_type": ""
    },
    "tags": []
   },
   "source": [
    "### A list of recent issues\n",
    "\n",
    "Below is a list of issues with recent activity in each repository. If they seem of interest\n",
    "to you, click on their links and jump in to participate!"
   ]
  },
  {
   "cell_type": "code",
   "execution_count": 28,
   "id": "e7b11503",
   "metadata": {
    "editable": true,
    "execution": {
     "iopub.execute_input": "2025-05-21T01:30:48.947431Z",
     "iopub.status.busy": "2025-05-21T01:30:48.947153Z",
     "iopub.status.idle": "2025-05-21T01:30:48.958911Z",
     "shell.execute_reply": "2025-05-21T01:30:48.958360Z"
    },
    "papermill": {
     "duration": 0.031083,
     "end_time": "2025-05-21T01:30:48.960198",
     "exception": false,
     "start_time": "2025-05-21T01:30:48.929115",
     "status": "completed"
    },
    "slideshow": {
     "slide_type": ""
    },
    "tags": [
     "remove_cell"
    ]
   },
   "outputs": [],
   "source": [
    "# Add comment count data to issues and PRs\n",
    "comment_counts = (\n",
    "    comments\n",
    "    .query(\"created_at > @start_date and created_at < @stop_date\")\n",
    "    .groupby(['org', 'repo', 'id_issue'])\n",
    "    .count().iloc[:, 0].to_frame()\n",
    ")\n",
    "comment_counts.columns = ['n_comments']\n",
    "comment_counts = comment_counts.reset_index()"
   ]
  },
  {
   "cell_type": "code",
   "execution_count": 29,
   "id": "4a0a49e4",
   "metadata": {
    "editable": true,
    "execution": {
     "iopub.execute_input": "2025-05-21T01:30:48.996570Z",
     "iopub.status.busy": "2025-05-21T01:30:48.996080Z",
     "iopub.status.idle": "2025-05-21T01:30:49.109137Z",
     "shell.execute_reply": "2025-05-21T01:30:49.108545Z"
    },
    "papermill": {
     "duration": 0.132441,
     "end_time": "2025-05-21T01:30:49.110276",
     "exception": false,
     "start_time": "2025-05-21T01:30:48.977835",
     "status": "completed"
    },
    "slideshow": {
     "slide_type": ""
    },
    "tags": [
     "hide_input"
    ],
    "toc-hr-collapsed": false
   },
   "outputs": [
    {
     "data": {
      "text/markdown": [
       "Here are the top 5 active issues in each repository in the last 90 days"
      ],
      "text/plain": [
       "<IPython.core.display.Markdown object>"
      ]
     },
     "metadata": {},
     "output_type": "display_data"
    },
    {
     "data": {
      "application/vnd.jupyter.widget-view+json": {
       "model_id": "0f1423c85bde47ceab86f49c087a9ce8",
       "version_major": 2,
       "version_minor": 0
      },
      "text/plain": [
       "Tab(children=(HTML(value='<h5><a href=\"https://github.com/jupyterlab/extension-examples\">jupyterlab/extension-…"
      ]
     },
     "metadata": {},
     "output_type": "display_data"
    }
   ],
   "source": [
    "n_plot = 5\n",
    "tabs = widgets.Tab(children=[])\n",
    "\n",
    "for ii, (repo, i_issues) in enumerate(comment_counts.query(\"repo in @use_repos\").groupby('repo')):\n",
    "    \n",
    "    issue_md = []\n",
    "    issue_md.append(\"\")\n",
    "    issue_md.append(f\"##### [{github_org}/{repo}](https://github.com/{github_org}/{repo})\")\n",
    "\n",
    "    top_issues = i_issues.sort_values('n_comments', ascending=False).head(n_plot)\n",
    "    top_issue_list = pd.merge(issues, top_issues, left_on=['org', 'repo', 'id_issue'], right_on=['org', 'repo', 'id_issue'])\n",
    "    for _, issue in top_issue_list.sort_values('n_comments', ascending=False).head(n_plot).iterrows():\n",
    "        user_name = issue['login']\n",
    "        user_url = author_url(user_name)\n",
    "        issue_number = issue['number']\n",
    "        issue_html = issue['url']\n",
    "        issue_title = issue['title']\n",
    "\n",
    "        text = f\"* [(#{issue_number})]({issue_html}): _{issue_title}_ by **[@{user_name}]({user_url})**\"\n",
    "        issue_md.append(text)\n",
    "\n",
    "    issue_md.append('')\n",
    "    md_html = HTML(markdown('\\n'.join(issue_md)))\n",
    "\n",
    "    children = list(tabs.children)\n",
    "    children.append(HTML(markdown('\\n'.join(issue_md))))\n",
    "    tabs.children = tuple(children)\n",
    "    tabs.set_title(ii, repo)\n",
    "    \n",
    "display(Markdown(f\"Here are the top {n_plot} active issues in each repository in the last {n_days} days\"))\n",
    "display(tabs)"
   ]
  }
 ],
 "metadata": {
  "kernelspec": {
   "display_name": "Python 3 (ipykernel)",
   "language": "python",
   "name": "python3"
  },
  "language_info": {
   "codemirror_mode": {
    "name": "ipython",
    "version": 3
   },
   "file_extension": ".py",
   "mimetype": "text/x-python",
   "name": "python",
   "nbconvert_exporter": "python",
   "pygments_lexer": "ipython3",
   "version": "3.9.22"
  },
  "papermill": {
   "default_parameters": {},
   "duration": 4.985443,
   "end_time": "2025-05-21T01:30:49.547343",
   "environment_variables": {},
   "exception": null,
   "input_path": "./templates/org_report.ipynb",
   "output_path": "generated/book/jupyterlab.ipynb",
   "parameters": {
    "github_org": "jupyterlab",
    "n_days": 90
   },
   "start_time": "2025-05-21T01:30:44.561900",
   "version": "2.6.0"
  },
  "widgets": {
   "application/vnd.jupyter.widget-state+json": {
    "state": {
     "0048c0ad40dd495f81168d70241b6dbd": {
      "model_module": "@jupyter-widgets/base",
      "model_module_version": "2.0.0",
      "model_name": "LayoutModel",
      "state": {
       "_model_module": "@jupyter-widgets/base",
       "_model_module_version": "2.0.0",
       "_model_name": "LayoutModel",
       "_view_count": null,
       "_view_module": "@jupyter-widgets/base",
       "_view_module_version": "2.0.0",
       "_view_name": "LayoutView",
       "align_content": null,
       "align_items": null,
       "align_self": null,
       "border_bottom": null,
       "border_left": null,
       "border_right": null,
       "border_top": null,
       "bottom": null,
       "display": null,
       "flex": null,
       "flex_flow": null,
       "grid_area": null,
       "grid_auto_columns": null,
       "grid_auto_flow": null,
       "grid_auto_rows": null,
       "grid_column": null,
       "grid_gap": null,
       "grid_row": null,
       "grid_template_areas": null,
       "grid_template_columns": null,
       "grid_template_rows": null,
       "height": null,
       "justify_content": null,
       "justify_items": null,
       "left": null,
       "margin": null,
       "max_height": null,
       "max_width": null,
       "min_height": null,
       "min_width": null,
       "object_fit": null,
       "object_position": null,
       "order": null,
       "overflow": null,
       "padding": null,
       "right": null,
       "top": null,
       "visibility": null,
       "width": null
      }
     },
     "03aae45b57c8406cb6a182875ba1f2db": {
      "model_module": "@jupyter-widgets/controls",
      "model_module_version": "2.0.0",
      "model_name": "HTMLStyleModel",
      "state": {
       "_model_module": "@jupyter-widgets/controls",
       "_model_module_version": "2.0.0",
       "_model_name": "HTMLStyleModel",
       "_view_count": null,
       "_view_module": "@jupyter-widgets/base",
       "_view_module_version": "2.0.0",
       "_view_name": "StyleView",
       "background": null,
       "description_width": "",
       "font_size": null,
       "text_color": null
      }
     },
     "0a328816404144699790a23ae498f4b1": {
      "model_module": "@jupyter-widgets/base",
      "model_module_version": "2.0.0",
      "model_name": "LayoutModel",
      "state": {
       "_model_module": "@jupyter-widgets/base",
       "_model_module_version": "2.0.0",
       "_model_name": "LayoutModel",
       "_view_count": null,
       "_view_module": "@jupyter-widgets/base",
       "_view_module_version": "2.0.0",
       "_view_name": "LayoutView",
       "align_content": null,
       "align_items": null,
       "align_self": null,
       "border_bottom": null,
       "border_left": null,
       "border_right": null,
       "border_top": null,
       "bottom": null,
       "display": null,
       "flex": null,
       "flex_flow": null,
       "grid_area": null,
       "grid_auto_columns": null,
       "grid_auto_flow": null,
       "grid_auto_rows": null,
       "grid_column": null,
       "grid_gap": null,
       "grid_row": null,
       "grid_template_areas": null,
       "grid_template_columns": null,
       "grid_template_rows": null,
       "height": null,
       "justify_content": null,
       "justify_items": null,
       "left": null,
       "margin": null,
       "max_height": null,
       "max_width": null,
       "min_height": null,
       "min_width": null,
       "object_fit": null,
       "object_position": null,
       "order": null,
       "overflow": null,
       "padding": null,
       "right": null,
       "top": null,
       "visibility": null,
       "width": null
      }
     },
     "0f1423c85bde47ceab86f49c087a9ce8": {
      "model_module": "@jupyter-widgets/controls",
      "model_module_version": "2.0.0",
      "model_name": "TabModel",
      "state": {
       "_dom_classes": [],
       "_model_module": "@jupyter-widgets/controls",
       "_model_module_version": "2.0.0",
       "_model_name": "TabModel",
       "_view_count": null,
       "_view_module": "@jupyter-widgets/controls",
       "_view_module_version": "2.0.0",
       "_view_name": "TabView",
       "box_style": "",
       "children": [
        "IPY_MODEL_5d0c71266bf24b5286c2e172ccdd6972",
        "IPY_MODEL_8777b29fb8154d2e8feebf5afbafc3a4",
        "IPY_MODEL_18443c9776884501abbf900839622788",
        "IPY_MODEL_9b2f499a6bc545c29e094434f7f95068",
        "IPY_MODEL_f7d62c2dd71443a6b571584d653ba9e9",
        "IPY_MODEL_107dbb29bd8949a3b4d8f144e8d6f923",
        "IPY_MODEL_2902c063e1b64b6fa0fed1419d94d948",
        "IPY_MODEL_6dfc50b6035340209409e2cfda18dc50"
       ],
       "layout": "IPY_MODEL_3f861c1cc7f049bd91846e50a67388ee",
       "selected_index": 0,
       "tabbable": null,
       "titles": [
        "extension-examples",
        "frontends-team-compass",
        "jupyter-ai",
        "jupyter-collaboration",
        "jupyterlab-desktop",
        "jupyterlab-git",
        "jupyterlab-latex",
        "lumino"
       ],
       "tooltip": null
      }
     },
     "107dbb29bd8949a3b4d8f144e8d6f923": {
      "model_module": "@jupyter-widgets/controls",
      "model_module_version": "2.0.0",
      "model_name": "HTMLModel",
      "state": {
       "_dom_classes": [],
       "_model_module": "@jupyter-widgets/controls",
       "_model_module_version": "2.0.0",
       "_model_name": "HTMLModel",
       "_view_count": null,
       "_view_module": "@jupyter-widgets/controls",
       "_view_module_version": "2.0.0",
       "_view_name": "HTMLView",
       "description": "",
       "description_allow_html": false,
       "layout": "IPY_MODEL_a3da9319676b4f07a98b0ebbee951e9f",
       "placeholder": "​",
       "style": "IPY_MODEL_663259f42d304cfa94e5a5b59647adad",
       "tabbable": null,
       "tooltip": null,
       "value": "<h5><a href=\"https://github.com/jupyterlab/jupyterlab-git\">jupyterlab/jupyterlab-git</a></h5>\n<ul>\n<li><a href=\"https://github.com/jupyterlab/jupyterlab-git/issues/1342\">(#1342)</a>: <em>Cloning from new host via ssh causes spurious error rather than prompting for confirmation and succeeding</em> by <strong><a href=\"https://github.com/ctcjab\">@ctcjab</a></strong></li>\n<li><a href=\"https://github.com/jupyterlab/jupyterlab-git/issues/1406\">(#1406)</a>: <em>Create a new branch after closing an empty repository fails</em> by <strong><a href=\"https://github.com/jtpio\">@jtpio</a></strong></li>\n</ul>"
      }
     },
     "122754a6124c45d49892be4d2effcabd": {
      "model_module": "@jupyter-widgets/controls",
      "model_module_version": "2.0.0",
      "model_name": "HTMLStyleModel",
      "state": {
       "_model_module": "@jupyter-widgets/controls",
       "_model_module_version": "2.0.0",
       "_model_name": "HTMLStyleModel",
       "_view_count": null,
       "_view_module": "@jupyter-widgets/base",
       "_view_module_version": "2.0.0",
       "_view_name": "StyleView",
       "background": null,
       "description_width": "",
       "font_size": null,
       "text_color": null
      }
     },
     "12ae507d13c14e4dbfa6ee02a725c7c0": {
      "model_module": "@jupyter-widgets/controls",
      "model_module_version": "2.0.0",
      "model_name": "HTMLStyleModel",
      "state": {
       "_model_module": "@jupyter-widgets/controls",
       "_model_module_version": "2.0.0",
       "_model_name": "HTMLStyleModel",
       "_view_count": null,
       "_view_module": "@jupyter-widgets/base",
       "_view_module_version": "2.0.0",
       "_view_name": "StyleView",
       "background": null,
       "description_width": "",
       "font_size": null,
       "text_color": null
      }
     },
     "18443c9776884501abbf900839622788": {
      "model_module": "@jupyter-widgets/controls",
      "model_module_version": "2.0.0",
      "model_name": "HTMLModel",
      "state": {
       "_dom_classes": [],
       "_model_module": "@jupyter-widgets/controls",
       "_model_module_version": "2.0.0",
       "_model_name": "HTMLModel",
       "_view_count": null,
       "_view_module": "@jupyter-widgets/controls",
       "_view_module_version": "2.0.0",
       "_view_name": "HTMLView",
       "description": "",
       "description_allow_html": false,
       "layout": "IPY_MODEL_baeb57bfa33746fe8153d0026807831e",
       "placeholder": "​",
       "style": "IPY_MODEL_47815dbe8fdb4ca6a940bf23ba113e36",
       "tabbable": null,
       "tooltip": null,
       "value": "<h5><a href=\"https://github.com/jupyterlab/jupyter-ai\">jupyterlab/jupyter-ai</a></h5>\n<ul>\n<li><a href=\"https://github.com/jupyterlab/jupyter-ai/issues/1259\">(#1259)</a>: <em>Bug?: Can't copy response to clipboard</em> by <strong><a href=\"https://github.com/wkvolkman\">@wkvolkman</a></strong></li>\n<li><a href=\"https://github.com/jupyterlab/jupyter-ai/issues/1291\">(#1291)</a>: <em>Unable to load Q chat using amazon-sagemaker-jupyter-ai-q-developer and Jupyter AI 2.31.0</em> by <strong><a href=\"https://github.com/sdharani91\">@sdharani91</a></strong></li>\n<li><a href=\"https://github.com/jupyterlab/jupyter-ai/issues/1261\">(#1261)</a>: <em>Bug: Model field inputs are coupled in Settings UI</em> by <strong><a href=\"https://github.com/VicaYang\">@VicaYang</a></strong></li>\n<li><a href=\"https://github.com/jupyterlab/jupyter-ai/issues/1293\">(#1293)</a>: <em>[v3] Various chat handler and usability issues in the current <code>jupyterlab-chat</code></em> by <strong><a href=\"https://github.com/srdas\">@srdas</a></strong></li>\n<li><a href=\"https://github.com/jupyterlab/jupyter-ai/issues/1244\">(#1244)</a>: <em>support VS Code's Jupyter extension</em> by <strong><a href=\"https://github.com/rootsmusic\">@rootsmusic</a></strong></li>\n</ul>"
      }
     },
     "18fb8f7fc2f843219f225e5ee3364a14": {
      "model_module": "@jupyter-widgets/base",
      "model_module_version": "2.0.0",
      "model_name": "LayoutModel",
      "state": {
       "_model_module": "@jupyter-widgets/base",
       "_model_module_version": "2.0.0",
       "_model_name": "LayoutModel",
       "_view_count": null,
       "_view_module": "@jupyter-widgets/base",
       "_view_module_version": "2.0.0",
       "_view_name": "LayoutView",
       "align_content": null,
       "align_items": null,
       "align_self": null,
       "border_bottom": null,
       "border_left": null,
       "border_right": null,
       "border_top": null,
       "bottom": null,
       "display": null,
       "flex": null,
       "flex_flow": null,
       "grid_area": null,
       "grid_auto_columns": null,
       "grid_auto_flow": null,
       "grid_auto_rows": null,
       "grid_column": null,
       "grid_gap": null,
       "grid_row": null,
       "grid_template_areas": null,
       "grid_template_columns": null,
       "grid_template_rows": null,
       "height": null,
       "justify_content": null,
       "justify_items": null,
       "left": null,
       "margin": null,
       "max_height": null,
       "max_width": null,
       "min_height": null,
       "min_width": null,
       "object_fit": null,
       "object_position": null,
       "order": null,
       "overflow": null,
       "padding": null,
       "right": null,
       "top": null,
       "visibility": null,
       "width": null
      }
     },
     "1901e4f8e3774f07bd3368c86e68168d": {
      "model_module": "@jupyter-widgets/controls",
      "model_module_version": "2.0.0",
      "model_name": "HTMLStyleModel",
      "state": {
       "_model_module": "@jupyter-widgets/controls",
       "_model_module_version": "2.0.0",
       "_model_name": "HTMLStyleModel",
       "_view_count": null,
       "_view_module": "@jupyter-widgets/base",
       "_view_module_version": "2.0.0",
       "_view_name": "StyleView",
       "background": null,
       "description_width": "",
       "font_size": null,
       "text_color": null
      }
     },
     "1b7216f5a34c405c827656aabc4a5f8b": {
      "model_module": "@jupyter-widgets/controls",
      "model_module_version": "2.0.0",
      "model_name": "HTMLStyleModel",
      "state": {
       "_model_module": "@jupyter-widgets/controls",
       "_model_module_version": "2.0.0",
       "_model_name": "HTMLStyleModel",
       "_view_count": null,
       "_view_module": "@jupyter-widgets/base",
       "_view_module_version": "2.0.0",
       "_view_name": "StyleView",
       "background": null,
       "description_width": "",
       "font_size": null,
       "text_color": null
      }
     },
     "1da8def2cda94ccd9f1ae2055fe1a504": {
      "model_module": "@jupyter-widgets/controls",
      "model_module_version": "2.0.0",
      "model_name": "HTMLModel",
      "state": {
       "_dom_classes": [],
       "_model_module": "@jupyter-widgets/controls",
       "_model_module_version": "2.0.0",
       "_model_name": "HTMLModel",
       "_view_count": null,
       "_view_module": "@jupyter-widgets/controls",
       "_view_module_version": "2.0.0",
       "_view_name": "HTMLView",
       "description": "",
       "description_allow_html": false,
       "layout": "IPY_MODEL_4f040ca8ccbb45ed8f741a61941de342",
       "placeholder": "​",
       "style": "IPY_MODEL_1901e4f8e3774f07bd3368c86e68168d",
       "tabbable": null,
       "tooltip": null,
       "value": "<h4>Closed PRs for repo: <a href=\"https://github.com/jupyterlab/jupyterlab-desktop\">jupyterlab/jupyterlab-desktop</a></h4>\n<h5></h5>\n<ul>\n<li><a href=\"https://github.com/jupyterlab/jupyterlab-desktop/issues/889\">(#889)</a>: <em>Create DataScienceEcoystem</em> by <strong><a href=\"https://github.com/Guillermovasco\">@Guillermovasco</a></strong> merged by <strong><a href=\"https://github.com/krassowski\">@krassowski</a></strong></li>\n</ul>"
      }
     },
     "21ad84db2b3240719284e80eadde7c34": {
      "model_module": "@jupyter-widgets/controls",
      "model_module_version": "2.0.0",
      "model_name": "TabModel",
      "state": {
       "_dom_classes": [],
       "_model_module": "@jupyter-widgets/controls",
       "_model_module_version": "2.0.0",
       "_model_name": "TabModel",
       "_view_count": null,
       "_view_module": "@jupyter-widgets/controls",
       "_view_module_version": "2.0.0",
       "_view_name": "TabView",
       "box_style": "",
       "children": [
        "IPY_MODEL_34a7d932c6d44cf0ae5db7816780c842",
        "IPY_MODEL_46916aa692b24c76bd110799c63c94e7",
        "IPY_MODEL_78aa04354c04497fa22fd4766e143be0",
        "IPY_MODEL_2e8ec96611344af0ac414e894c12d441",
        "IPY_MODEL_ec4e1c965e964bbc87b0b26c0f73dfce",
        "IPY_MODEL_1da8def2cda94ccd9f1ae2055fe1a504",
        "IPY_MODEL_36b3ccc83f684150b2427457ab851640",
        "IPY_MODEL_a0c15a56ddca418fad1b62e2183f89f1"
       ],
       "layout": "IPY_MODEL_5aae4698d5f14e5090263560d40cf494",
       "selected_index": 0,
       "tabbable": null,
       "titles": [
        "frontends-team-compass",
        "jupyter-ai",
        "jupyter-collaboration",
        "jupyter-renderers",
        "jupyterlab",
        "jupyterlab-desktop",
        "jupyterlab-git",
        "lumino"
       ],
       "tooltip": null
      }
     },
     "2902c063e1b64b6fa0fed1419d94d948": {
      "model_module": "@jupyter-widgets/controls",
      "model_module_version": "2.0.0",
      "model_name": "HTMLModel",
      "state": {
       "_dom_classes": [],
       "_model_module": "@jupyter-widgets/controls",
       "_model_module_version": "2.0.0",
       "_model_name": "HTMLModel",
       "_view_count": null,
       "_view_module": "@jupyter-widgets/controls",
       "_view_module_version": "2.0.0",
       "_view_name": "HTMLView",
       "description": "",
       "description_allow_html": false,
       "layout": "IPY_MODEL_0048c0ad40dd495f81168d70241b6dbd",
       "placeholder": "​",
       "style": "IPY_MODEL_03aae45b57c8406cb6a182875ba1f2db",
       "tabbable": null,
       "tooltip": null,
       "value": "<h5><a href=\"https://github.com/jupyterlab/jupyterlab-latex\">jupyterlab/jupyterlab-latex</a></h5>\n<ul>\n<li><a href=\"https://github.com/jupyterlab/jupyterlab-latex/issues/249\">(#249)</a>: <em>MY ENTIRE HOME DIRECTORY WAS OBLITERATED BECAUSE OF THIS EXTENSION!! UNBELIEVABLE!!!</em> by <strong><a href=\"https://github.com/dogganon\">@dogganon</a></strong></li>\n<li><a href=\"https://github.com/jupyterlab/jupyterlab-latex/issues/153\">(#153)</a>: <em>Suggestion: tab replace commands with unicode math symbols</em> by <strong><a href=\"https://github.com/gjvnq\">@gjvnq</a></strong></li>\n</ul>"
      }
     },
     "2e8ec96611344af0ac414e894c12d441": {
      "model_module": "@jupyter-widgets/controls",
      "model_module_version": "2.0.0",
      "model_name": "HTMLModel",
      "state": {
       "_dom_classes": [],
       "_model_module": "@jupyter-widgets/controls",
       "_model_module_version": "2.0.0",
       "_model_name": "HTMLModel",
       "_view_count": null,
       "_view_module": "@jupyter-widgets/controls",
       "_view_module_version": "2.0.0",
       "_view_name": "HTMLView",
       "description": "",
       "description_allow_html": false,
       "layout": "IPY_MODEL_fa21829044e442db87812ff176a4aa5f",
       "placeholder": "​",
       "style": "IPY_MODEL_f5fb3a8e5e704b409dd39d5f6e3e5de0",
       "tabbable": null,
       "tooltip": null,
       "value": "<h4>Closed PRs for repo: <a href=\"https://github.com/jupyterlab/jupyter-renderers\">jupyterlab/jupyter-renderers</a></h4>\n<h5></h5>\n<ul>\n<li><a href=\"https://github.com/jupyterlab/jupyter-renderers/issues/326\">(#326)</a>: <em>Bump serialize-javascript from 6.0.1 to 6.0.2</em> by <strong><a href=\"https://github.com/dependabot[bot]\">@dependabot[bot]</a></strong> merged by <strong><a href=\"https://github.com/fcollonval\">@fcollonval</a></strong></li>\n</ul>"
      }
     },
     "34a7d932c6d44cf0ae5db7816780c842": {
      "model_module": "@jupyter-widgets/controls",
      "model_module_version": "2.0.0",
      "model_name": "HTMLModel",
      "state": {
       "_dom_classes": [],
       "_model_module": "@jupyter-widgets/controls",
       "_model_module_version": "2.0.0",
       "_model_name": "HTMLModel",
       "_view_count": null,
       "_view_module": "@jupyter-widgets/controls",
       "_view_module_version": "2.0.0",
       "_view_name": "HTMLView",
       "description": "",
       "description_allow_html": false,
       "layout": "IPY_MODEL_5aaee60e632043d0b896ae6a003307e4",
       "placeholder": "​",
       "style": "IPY_MODEL_e47e5e9f5f1d42b9b7610c689f506510",
       "tabbable": null,
       "tooltip": null,
       "value": "<h4>Closed PRs for repo: <a href=\"https://github.com/jupyterlab/frontends-team-compass\">jupyterlab/frontends-team-compass</a></h4>\n<h5></h5>\n<ul>\n<li><a href=\"https://github.com/jupyterlab/frontends-team-compass/issues/276\">(#276)</a>: <em>Update SSC representative</em> by <strong><a href=\"https://github.com/jtpio\">@jtpio</a></strong> merged by <strong><a href=\"https://github.com/jtpio\">@jtpio</a></strong></li>\n</ul>"
      }
     },
     "36b3ccc83f684150b2427457ab851640": {
      "model_module": "@jupyter-widgets/controls",
      "model_module_version": "2.0.0",
      "model_name": "HTMLModel",
      "state": {
       "_dom_classes": [],
       "_model_module": "@jupyter-widgets/controls",
       "_model_module_version": "2.0.0",
       "_model_name": "HTMLModel",
       "_view_count": null,
       "_view_module": "@jupyter-widgets/controls",
       "_view_module_version": "2.0.0",
       "_view_name": "HTMLView",
       "description": "",
       "description_allow_html": false,
       "layout": "IPY_MODEL_a93c90e2e4aa4445bdcb58e0ebc9b2dc",
       "placeholder": "​",
       "style": "IPY_MODEL_589e9a4ea63d4992801dc683bfe53136",
       "tabbable": null,
       "tooltip": null,
       "value": "<h4>Closed PRs for repo: <a href=\"https://github.com/jupyterlab/jupyterlab-git\">jupyterlab/jupyterlab-git</a></h4>\n<h5></h5>\n<ul>\n<li><a href=\"https://github.com/jupyterlab/jupyterlab-git/issues/1395\">(#1395)</a>: <em>Bump serialize-javascript from 6.0.1 to 6.0.2</em> by <strong><a href=\"https://github.com/dependabot[bot]\">@dependabot[bot]</a></strong> merged by <strong><a href=\"https://github.com/fcollonval\">@fcollonval</a></strong></li>\n<li><a href=\"https://github.com/jupyterlab/jupyterlab-git/issues/1396\">(#1396)</a>: <em>Bump vega from 5.23.0 to 5.31.0 in /ui-tests</em> by <strong><a href=\"https://github.com/dependabot[bot]\">@dependabot[bot]</a></strong> merged by <strong><a href=\"https://github.com/fcollonval\">@fcollonval</a></strong></li>\n<li><a href=\"https://github.com/jupyterlab/jupyterlab-git/issues/1398\">(#1398)</a>: <em>Create devcontainer.json</em> by <strong><a href=\"https://github.com/Kcato1\">@Kcato1</a></strong> merged by <strong><a href=\"https://github.com/krassowski\">@krassowski</a></strong></li>\n<li><a href=\"https://github.com/jupyterlab/jupyterlab-git/issues/1399\">(#1399)</a>: <em>Bump vega from 5.31.0 to 5.33.0 in /ui-tests</em> by <strong><a href=\"https://github.com/dependabot[bot]\">@dependabot[bot]</a></strong> merged by <strong><a href=\"https://github.com/krassowski\">@krassowski</a></strong></li>\n</ul>"
      }
     },
     "3f861c1cc7f049bd91846e50a67388ee": {
      "model_module": "@jupyter-widgets/base",
      "model_module_version": "2.0.0",
      "model_name": "LayoutModel",
      "state": {
       "_model_module": "@jupyter-widgets/base",
       "_model_module_version": "2.0.0",
       "_model_name": "LayoutModel",
       "_view_count": null,
       "_view_module": "@jupyter-widgets/base",
       "_view_module_version": "2.0.0",
       "_view_name": "LayoutView",
       "align_content": null,
       "align_items": null,
       "align_self": null,
       "border_bottom": null,
       "border_left": null,
       "border_right": null,
       "border_top": null,
       "bottom": null,
       "display": null,
       "flex": null,
       "flex_flow": null,
       "grid_area": null,
       "grid_auto_columns": null,
       "grid_auto_flow": null,
       "grid_auto_rows": null,
       "grid_column": null,
       "grid_gap": null,
       "grid_row": null,
       "grid_template_areas": null,
       "grid_template_columns": null,
       "grid_template_rows": null,
       "height": null,
       "justify_content": null,
       "justify_items": null,
       "left": null,
       "margin": null,
       "max_height": null,
       "max_width": null,
       "min_height": null,
       "min_width": null,
       "object_fit": null,
       "object_position": null,
       "order": null,
       "overflow": null,
       "padding": null,
       "right": null,
       "top": null,
       "visibility": null,
       "width": null
      }
     },
     "42a6ae280201476ebbb475e66ae1d7ee": {
      "model_module": "@jupyter-widgets/controls",
      "model_module_version": "2.0.0",
      "model_name": "HTMLStyleModel",
      "state": {
       "_model_module": "@jupyter-widgets/controls",
       "_model_module_version": "2.0.0",
       "_model_name": "HTMLStyleModel",
       "_view_count": null,
       "_view_module": "@jupyter-widgets/base",
       "_view_module_version": "2.0.0",
       "_view_name": "StyleView",
       "background": null,
       "description_width": "",
       "font_size": null,
       "text_color": null
      }
     },
     "432ca13fe6984a6b8e79e221cc3897d7": {
      "model_module": "@jupyter-widgets/controls",
      "model_module_version": "2.0.0",
      "model_name": "HTMLStyleModel",
      "state": {
       "_model_module": "@jupyter-widgets/controls",
       "_model_module_version": "2.0.0",
       "_model_name": "HTMLStyleModel",
       "_view_count": null,
       "_view_module": "@jupyter-widgets/base",
       "_view_module_version": "2.0.0",
       "_view_name": "StyleView",
       "background": null,
       "description_width": "",
       "font_size": null,
       "text_color": null
      }
     },
     "46916aa692b24c76bd110799c63c94e7": {
      "model_module": "@jupyter-widgets/controls",
      "model_module_version": "2.0.0",
      "model_name": "HTMLModel",
      "state": {
       "_dom_classes": [],
       "_model_module": "@jupyter-widgets/controls",
       "_model_module_version": "2.0.0",
       "_model_name": "HTMLModel",
       "_view_count": null,
       "_view_module": "@jupyter-widgets/controls",
       "_view_module_version": "2.0.0",
       "_view_name": "HTMLView",
       "description": "",
       "description_allow_html": false,
       "layout": "IPY_MODEL_5a4fe1097b1841399596f54cdda05b48",
       "placeholder": "​",
       "style": "IPY_MODEL_1b7216f5a34c405c827656aabc4a5f8b",
       "tabbable": null,
       "tooltip": null,
       "value": "<h4>Closed PRs for repo: <a href=\"https://github.com/jupyterlab/jupyter-ai\">jupyterlab/jupyter-ai</a></h4>\n<h5></h5>\n<ul>\n<li><a href=\"https://github.com/jupyterlab/jupyter-ai/issues/327\">(#327)</a>: <em>replace c.ServerApp.root_dir by environment variable</em> by <strong><a href=\"https://github.com/jhgoebbert\">@jhgoebbert</a></strong> merged by <strong><a href=\"https://github.com/dlqqq\">@dlqqq</a></strong></li>\n<li><a href=\"https://github.com/jupyterlab/jupyter-ai/issues/441\">(#441)</a>: <em>Add option to delete config to buildErrorWidget</em> by <strong><a href=\"https://github.com/andrii-i\">@andrii-i</a></strong> merged by <strong><a href=\"https://github.com/dlqqq\">@dlqqq</a></strong></li>\n<li><a href=\"https://github.com/jupyterlab/jupyter-ai/issues/442\">(#442)</a>: <em>Improve LearnChatHandler</em> by <strong><a href=\"https://github.com/dlqqq\">@dlqqq</a></strong> merged by <strong><a href=\"https://github.com/dlqqq\">@dlqqq</a></strong></li>\n<li><a href=\"https://github.com/jupyterlab/jupyter-ai/issues/544\">(#544)</a>: <em>WIP: Gather shared Python dependencies</em> by <strong><a href=\"https://github.com/dlqqq\">@dlqqq</a></strong> merged by <strong><a href=\"https://github.com/dlqqq\">@dlqqq</a></strong></li>\n<li><a href=\"https://github.com/jupyterlab/jupyter-ai/issues/745\">(#745)</a>: <em>Keep version of magics package consistent in future releases</em> by <strong><a href=\"https://github.com/dlqqq\">@dlqqq</a></strong> merged by <strong><a href=\"https://github.com/dlqqq\">@dlqqq</a></strong></li>\n<li><a href=\"https://github.com/jupyterlab/jupyter-ai/issues/1002\">(#1002)</a>: <em>Fix inline completion bug, add test cases</em> by <strong><a href=\"https://github.com/hiCXK\">@hiCXK</a></strong> merged by <strong><a href=\"https://github.com/dlqqq\">@dlqqq</a></strong></li>\n<li><a href=\"https://github.com/jupyterlab/jupyter-ai/issues/1243\">(#1243)</a>: <em>Intial demo - ai list markdown table</em> by <strong><a href=\"https://github.com/keerthi-swarna\">@keerthi-swarna</a></strong> merged by <strong><a href=\"https://github.com/dlqqq\">@dlqqq</a></strong></li>\n<li><a href=\"https://github.com/jupyterlab/jupyter-ai/issues/1248\">(#1248)</a>: <em>Simplifying the OpenAI provider to use multiple model providers</em> by <strong><a href=\"https://github.com/srdas\">@srdas</a></strong> merged by <strong><a href=\"https://github.com/srdas\">@srdas</a></strong></li>\n<li><a href=\"https://github.com/jupyterlab/jupyter-ai/issues/1249\">(#1249)</a>: <em>Make Native Chat Handlers Overridable via Entry Points</em> by <strong><a href=\"https://github.com/Darshan808\">@Darshan808</a></strong> merged by <strong><a href=\"https://github.com/dlqqq\">@dlqqq</a></strong></li>\n<li><a href=\"https://github.com/jupyterlab/jupyter-ai/issues/1254\">(#1254)</a>: <em>Fix: Enable up and down arrow keys in chat input</em> by <strong><a href=\"https://github.com/keerthi-swarna\">@keerthi-swarna</a></strong> merged by <strong><a href=\"https://github.com/dlqqq\">@dlqqq</a></strong></li>\n<li><a href=\"https://github.com/jupyterlab/jupyter-ai/issues/1255\">(#1255)</a>: <em>Fix magic command prompt interpolation</em> by <strong><a href=\"https://github.com/francoculaciati\">@francoculaciati</a></strong> merged by <strong><a href=\"https://github.com/francoculaciati\">@francoculaciati</a></strong></li>\n<li><a href=\"https://github.com/jupyterlab/jupyter-ai/issues/1257\">(#1257)</a>: <em>Refactor Chat Handlers to Simplify Initialization</em> by <strong><a href=\"https://github.com/Darshan808\">@Darshan808</a></strong> merged by <strong><a href=\"https://github.com/dlqqq\">@dlqqq</a></strong></li>\n<li><a href=\"https://github.com/jupyterlab/jupyter-ai/issues/1264\">(#1264)</a>: <em>Allow embedding model fields, fix coupled model fields, add custom OpenAI provider</em> by <strong><a href=\"https://github.com/srdas\">@srdas</a></strong> merged by <strong><a href=\"https://github.com/srdas\">@srdas</a></strong></li>\n<li><a href=\"https://github.com/jupyterlab/jupyter-ai/issues/1266\">(#1266)</a>: <em>Backport PR #1257 on branch 2.x (Refactor Chat Handlers to Simplify Initialization)</em> by <strong><a href=\"https://github.com/Darshan808\">@Darshan808</a></strong> merged by <strong><a href=\"https://github.com/dlqqq\">@dlqqq</a></strong></li>\n<li><a href=\"https://github.com/jupyterlab/jupyter-ai/issues/1268\">(#1268)</a>: <em>Allow chat handlers to be initialized in any order</em> by <strong><a href=\"https://github.com/Darshan808\">@Darshan808</a></strong> merged by <strong><a href=\"https://github.com/dlqqq\">@dlqqq</a></strong></li>\n<li><a href=\"https://github.com/jupyterlab/jupyter-ai/issues/1269\">(#1269)</a>: <em>Backport PR #1268 on branch 2.x (Allow chat handlers to be initialized in any order)</em> by <strong><a href=\"https://github.com/meeseeksmachine\">@meeseeksmachine</a></strong> merged by <strong><a href=\"https://github.com/srdas\">@srdas</a></strong></li>\n<li><a href=\"https://github.com/jupyterlab/jupyter-ai/issues/1272\">(#1272)</a>: <em>Correct minimum versions in dependency version ranges</em> by <strong><a href=\"https://github.com/dlqqq\">@dlqqq</a></strong> merged by <strong><a href=\"https://github.com/dlqqq\">@dlqqq</a></strong></li>\n<li><a href=\"https://github.com/jupyterlab/jupyter-ai/issues/1274\">(#1274)</a>: <em>Backport PR #1249 on branch 2.x (Make Native Chat Handlers Overridable via Entry Points)</em> by <strong><a href=\"https://github.com/Darshan808\">@Darshan808</a></strong> merged by <strong><a href=\"https://github.com/dlqqq\">@dlqqq</a></strong></li>\n<li><a href=\"https://github.com/jupyterlab/jupyter-ai/issues/1275\">(#1275)</a>: <em>Backport PR #1272 on branch 2.x (Correct minimum versions in dependency version ranges)</em> by <strong><a href=\"https://github.com/meeseeksmachine\">@meeseeksmachine</a></strong> merged by <strong><a href=\"https://github.com/dlqqq\">@dlqqq</a></strong></li>\n<li><a href=\"https://github.com/jupyterlab/jupyter-ai/issues/1280\">(#1280)</a>: <em>Ensure magics package version is consistent in future releases</em> by <strong><a href=\"https://github.com/dlqqq\">@dlqqq</a></strong> merged by <strong><a href=\"https://github.com/dlqqq\">@dlqqq</a></strong></li>\n<li><a href=\"https://github.com/jupyterlab/jupyter-ai/issues/1282\">(#1282)</a>: <em>Backport PR #1264 on branch 2.x (Allow embedding model fields, fix coupled model fields, add custom OpenAI provider)</em> by <strong><a href=\"https://github.com/meeseeksmachine\">@meeseeksmachine</a></strong> merged by <strong><a href=\"https://github.com/srdas\">@srdas</a></strong></li>\n<li><a href=\"https://github.com/jupyterlab/jupyter-ai/issues/1284\">(#1284)</a>: <em>Backport PR #1280 on branch 2.x (Ensure magics package version is consistent in future releases)</em> by <strong><a href=\"https://github.com/meeseeksmachine\">@meeseeksmachine</a></strong> merged by <strong><a href=\"https://github.com/dlqqq\">@dlqqq</a></strong></li>\n<li><a href=\"https://github.com/jupyterlab/jupyter-ai/issues/1285\">(#1285)</a>: _Update <code>learn.py</code> to catch missing vector index on startup and print logging notice _ by <strong><a href=\"https://github.com/srdas\">@srdas</a></strong> merged by <strong><a href=\"https://github.com/srdas\">@srdas</a></strong></li>\n<li><a href=\"https://github.com/jupyterlab/jupyter-ai/issues/1286\">(#1286)</a>: <em>Update learn.py to catch missing vector index on startup and print logging notice in 2.x</em> by <strong><a href=\"https://github.com/srdas\">@srdas</a></strong> merged by <strong><a href=\"https://github.com/srdas\">@srdas</a></strong></li>\n<li><a href=\"https://github.com/jupyterlab/jupyter-ai/issues/1287\">(#1287)</a>: <em>Remove error log emitted when FAISS file is absent</em> by <strong><a href=\"https://github.com/srdas\">@srdas</a></strong> merged by <strong><a href=\"https://github.com/srdas\">@srdas</a></strong></li>\n<li><a href=\"https://github.com/jupyterlab/jupyter-ai/issues/1288\">(#1288)</a>: <em>Added help text fields for embedding providers in the AI Setting page</em> by <strong><a href=\"https://github.com/srdas\">@srdas</a></strong> merged by <strong><a href=\"https://github.com/srdas\">@srdas</a></strong></li>\n<li><a href=\"https://github.com/jupyterlab/jupyter-ai/issues/1289\">(#1289)</a>: <em>Backport PR #1287 on branch 2.x (Remove error log emitted when FAISS file is absent)</em> by <strong><a href=\"https://github.com/meeseeksmachine\">@meeseeksmachine</a></strong> merged by <strong><a href=\"https://github.com/srdas\">@srdas</a></strong></li>\n<li><a href=\"https://github.com/jupyterlab/jupyter-ai/issues/1290\">(#1290)</a>: <em>[v3] Upgrade to jupyterlab-chat v0.8, restore context command completions</em> by <strong><a href=\"https://github.com/dlqqq\">@dlqqq</a></strong> merged by <strong><a href=\"https://github.com/dlqqq\">@dlqqq</a></strong></li>\n<li><a href=\"https://github.com/jupyterlab/jupyter-ai/issues/1292\">(#1292)</a>: <em>Backport PR #1288 on branch 2.x (Added help text fields for embedding providers in the AI Setting page)</em> by <strong><a href=\"https://github.com/meeseeksmachine\">@meeseeksmachine</a></strong> merged by <strong><a href=\"https://github.com/srdas\">@srdas</a></strong></li>\n<li><a href=\"https://github.com/jupyterlab/jupyter-ai/issues/1294\">(#1294)</a>: <em>Migrate old config schemas, fix v2.31.0 regression</em> by <strong><a href=\"https://github.com/dlqqq\">@dlqqq</a></strong> merged by <strong><a href=\"https://github.com/dlqqq\">@dlqqq</a></strong></li>\n<li><a href=\"https://github.com/jupyterlab/jupyter-ai/issues/1295\">(#1295)</a>: <em>Backport PR #1294 on branch 2.x (Migrate old config schemas, fix v2.31.0 regression)</em> by <strong><a href=\"https://github.com/meeseeksmachine\">@meeseeksmachine</a></strong> merged by <strong><a href=\"https://github.com/dlqqq\">@dlqqq</a></strong></li>\n<li><a href=\"https://github.com/jupyterlab/jupyter-ai/issues/1298\">(#1298)</a>: <em>Pass <code>model_parameters</code> trait to embedding &amp; completion models</em> by <strong><a href=\"https://github.com/srdas\">@srdas</a></strong> merged by <strong><a href=\"https://github.com/srdas\">@srdas</a></strong></li>\n<li><a href=\"https://github.com/jupyterlab/jupyter-ai/issues/1302\">(#1302)</a>: <em>Backport PR #1298 on branch 2.x (Pass <code>model_parameters</code> trait to embedding &amp; completion models)</em> by <strong><a href=\"https://github.com/meeseeksmachine\">@meeseeksmachine</a></strong> merged by <strong><a href=\"https://github.com/dlqqq\">@dlqqq</a></strong></li>\n<li><a href=\"https://github.com/jupyterlab/jupyter-ai/issues/1303\">(#1303)</a>: <em>Add <code>default_completions_model</code> trait</em> by <strong><a href=\"https://github.com/srdas\">@srdas</a></strong> merged by <strong><a href=\"https://github.com/srdas\">@srdas</a></strong></li>\n<li><a href=\"https://github.com/jupyterlab/jupyter-ai/issues/1306\">(#1306)</a>: <em>Backport PR #1303 on branch 2.x (Add <code>default_completions_model</code> trait)</em> by <strong><a href=\"https://github.com/srdas\">@srdas</a></strong> merged by <strong><a href=\"https://github.com/srdas\">@srdas</a></strong></li>\n<li><a href=\"https://github.com/jupyterlab/jupyter-ai/issues/1309\">(#1309)</a>: <em>Open the AI settings in a side panel in Notebook application</em> by <strong><a href=\"https://github.com/brichet\">@brichet</a></strong> merged by <strong><a href=\"https://github.com/brichet\">@brichet</a></strong></li>\n<li><a href=\"https://github.com/jupyterlab/jupyter-ai/issues/1318\">(#1318)</a>: <em>Update documentation to show usage with OpenRouter API and URL</em> by <strong><a href=\"https://github.com/srdas\">@srdas</a></strong> merged by <strong><a href=\"https://github.com/srdas\">@srdas</a></strong></li>\n<li><a href=\"https://github.com/jupyterlab/jupyter-ai/issues/1319\">(#1319)</a>: <em>Backport PR #1318 on branch 2.x (Update documentation to show usage with OpenRouter API and URL)</em> by <strong><a href=\"https://github.com/meeseeksmachine\">@meeseeksmachine</a></strong> merged by <strong><a href=\"https://github.com/srdas\">@srdas</a></strong></li>\n<li><a href=\"https://github.com/jupyterlab/jupyter-ai/issues/1321\">(#1321)</a>: <em>[2.x] Expand edge case handling in ConfigManager</em> by <strong><a href=\"https://github.com/dlqqq\">@dlqqq</a></strong> merged by <strong><a href=\"https://github.com/dlqqq\">@dlqqq</a></strong></li>\n<li><a href=\"https://github.com/jupyterlab/jupyter-ai/issues/1322\">(#1322)</a>: <em>[3.x] Expand edge case handling in ConfigManager</em> by <strong><a href=\"https://github.com/dlqqq\">@dlqqq</a></strong> merged by <strong><a href=\"https://github.com/dlqqq\">@dlqqq</a></strong></li>\n<li><a href=\"https://github.com/jupyterlab/jupyter-ai/issues/1324\">(#1324)</a>: <em>Introduce AI persona framework</em> by <strong><a href=\"https://github.com/dlqqq\">@dlqqq</a></strong> merged by <strong><a href=\"https://github.com/dlqqq\">@dlqqq</a></strong></li>\n<li><a href=\"https://github.com/jupyterlab/jupyter-ai/issues/1325\">(#1325)</a>: <em>Added new <code>gpt-4.1</code> models</em> by <strong><a href=\"https://github.com/srdas\">@srdas</a></strong> merged by <strong><a href=\"https://github.com/srdas\">@srdas</a></strong></li>\n<li><a href=\"https://github.com/jupyterlab/jupyter-ai/issues/1330\">(#1330)</a>: <em>Handle missing field in config.json on version upgrade</em> by <strong><a href=\"https://github.com/srdas\">@srdas</a></strong> merged by <strong><a href=\"https://github.com/srdas\">@srdas</a></strong></li>\n<li><a href=\"https://github.com/jupyterlab/jupyter-ai/issues/1331\">(#1331)</a>: <em>Backport PR #1330 on branch 2.x (Handle missing field in config.json on version upgrade)</em> by <strong><a href=\"https://github.com/meeseeksmachine\">@meeseeksmachine</a></strong> merged by <strong><a href=\"https://github.com/srdas\">@srdas</a></strong></li>\n<li><a href=\"https://github.com/jupyterlab/jupyter-ai/issues/1333\">(#1333)</a>: <em>Added a local identity provider.</em> by <strong><a href=\"https://github.com/3coins\">@3coins</a></strong> merged by <strong><a href=\"https://github.com/dlqqq\">@dlqqq</a></strong></li>\n<li><a href=\"https://github.com/jupyterlab/jupyter-ai/issues/1334\">(#1334)</a>: <em>Backport PR #1333 on branch 2.x (Added a local identity provider.)</em> by <strong><a href=\"https://github.com/meeseeksmachine\">@meeseeksmachine</a></strong> merged by <strong><a href=\"https://github.com/dlqqq\">@dlqqq</a></strong></li>\n<li><a href=\"https://github.com/jupyterlab/jupyter-ai/issues/1340\">(#1340)</a>: <em>Revert \"Introduce AI persona framework (#1324)\"</em> by <strong><a href=\"https://github.com/dlqqq\">@dlqqq</a></strong> merged by <strong><a href=\"https://github.com/dlqqq\">@dlqqq</a></strong></li>\n</ul>"
      }
     },
     "47815dbe8fdb4ca6a940bf23ba113e36": {
      "model_module": "@jupyter-widgets/controls",
      "model_module_version": "2.0.0",
      "model_name": "HTMLStyleModel",
      "state": {
       "_model_module": "@jupyter-widgets/controls",
       "_model_module_version": "2.0.0",
       "_model_name": "HTMLStyleModel",
       "_view_count": null,
       "_view_module": "@jupyter-widgets/base",
       "_view_module_version": "2.0.0",
       "_view_name": "StyleView",
       "background": null,
       "description_width": "",
       "font_size": null,
       "text_color": null
      }
     },
     "4c4dd3d13bd6416f9e203167f772439b": {
      "model_module": "@jupyter-widgets/controls",
      "model_module_version": "2.0.0",
      "model_name": "HTMLModel",
      "state": {
       "_dom_classes": [],
       "_model_module": "@jupyter-widgets/controls",
       "_model_module_version": "2.0.0",
       "_model_name": "HTMLModel",
       "_view_count": null,
       "_view_module": "@jupyter-widgets/controls",
       "_view_module_version": "2.0.0",
       "_view_name": "HTMLView",
       "description": "",
       "description_allow_html": false,
       "layout": "IPY_MODEL_db1b598b444546019fcc1d2ffce15310",
       "placeholder": "​",
       "style": "IPY_MODEL_7516556da62b4647b8275ca20be366b3",
       "tabbable": null,
       "tooltip": null,
       "value": "<h5><a href=\"https://github.com/jupyterlab/jupyterlab-latex\">jupyterlab/jupyterlab-latex</a></h5>\n<ul>\n<li><a href=\"https://github.com/jupyterlab/jupyterlab-latex/issues/249\">(#249)</a>: <em>MY ENTIRE HOME DIRECTORY WAS OBLITERATED BECAUSE OF THIS EXTENSION!! UNBELIEVABLE!!!</em> by <strong><a href=\"https://github.com/dogganon\">@dogganon</a></strong></li>\n<li><a href=\"https://github.com/jupyterlab/jupyterlab-latex/issues/153\">(#153)</a>: <em>Suggestion: tab replace commands with unicode math symbols</em> by <strong><a href=\"https://github.com/gjvnq\">@gjvnq</a></strong></li>\n</ul>"
      }
     },
     "4f040ca8ccbb45ed8f741a61941de342": {
      "model_module": "@jupyter-widgets/base",
      "model_module_version": "2.0.0",
      "model_name": "LayoutModel",
      "state": {
       "_model_module": "@jupyter-widgets/base",
       "_model_module_version": "2.0.0",
       "_model_name": "LayoutModel",
       "_view_count": null,
       "_view_module": "@jupyter-widgets/base",
       "_view_module_version": "2.0.0",
       "_view_name": "LayoutView",
       "align_content": null,
       "align_items": null,
       "align_self": null,
       "border_bottom": null,
       "border_left": null,
       "border_right": null,
       "border_top": null,
       "bottom": null,
       "display": null,
       "flex": null,
       "flex_flow": null,
       "grid_area": null,
       "grid_auto_columns": null,
       "grid_auto_flow": null,
       "grid_auto_rows": null,
       "grid_column": null,
       "grid_gap": null,
       "grid_row": null,
       "grid_template_areas": null,
       "grid_template_columns": null,
       "grid_template_rows": null,
       "height": null,
       "justify_content": null,
       "justify_items": null,
       "left": null,
       "margin": null,
       "max_height": null,
       "max_width": null,
       "min_height": null,
       "min_width": null,
       "object_fit": null,
       "object_position": null,
       "order": null,
       "overflow": null,
       "padding": null,
       "right": null,
       "top": null,
       "visibility": null,
       "width": null
      }
     },
     "52dd5ee452fc48d7ac4af88a5d7a456d": {
      "model_module": "@jupyter-widgets/base",
      "model_module_version": "2.0.0",
      "model_name": "LayoutModel",
      "state": {
       "_model_module": "@jupyter-widgets/base",
       "_model_module_version": "2.0.0",
       "_model_name": "LayoutModel",
       "_view_count": null,
       "_view_module": "@jupyter-widgets/base",
       "_view_module_version": "2.0.0",
       "_view_name": "LayoutView",
       "align_content": null,
       "align_items": null,
       "align_self": null,
       "border_bottom": null,
       "border_left": null,
       "border_right": null,
       "border_top": null,
       "bottom": null,
       "display": null,
       "flex": null,
       "flex_flow": null,
       "grid_area": null,
       "grid_auto_columns": null,
       "grid_auto_flow": null,
       "grid_auto_rows": null,
       "grid_column": null,
       "grid_gap": null,
       "grid_row": null,
       "grid_template_areas": null,
       "grid_template_columns": null,
       "grid_template_rows": null,
       "height": null,
       "justify_content": null,
       "justify_items": null,
       "left": null,
       "margin": null,
       "max_height": null,
       "max_width": null,
       "min_height": null,
       "min_width": null,
       "object_fit": null,
       "object_position": null,
       "order": null,
       "overflow": null,
       "padding": null,
       "right": null,
       "top": null,
       "visibility": null,
       "width": null
      }
     },
     "589e9a4ea63d4992801dc683bfe53136": {
      "model_module": "@jupyter-widgets/controls",
      "model_module_version": "2.0.0",
      "model_name": "HTMLStyleModel",
      "state": {
       "_model_module": "@jupyter-widgets/controls",
       "_model_module_version": "2.0.0",
       "_model_name": "HTMLStyleModel",
       "_view_count": null,
       "_view_module": "@jupyter-widgets/base",
       "_view_module_version": "2.0.0",
       "_view_name": "StyleView",
       "background": null,
       "description_width": "",
       "font_size": null,
       "text_color": null
      }
     },
     "5a4fe1097b1841399596f54cdda05b48": {
      "model_module": "@jupyter-widgets/base",
      "model_module_version": "2.0.0",
      "model_name": "LayoutModel",
      "state": {
       "_model_module": "@jupyter-widgets/base",
       "_model_module_version": "2.0.0",
       "_model_name": "LayoutModel",
       "_view_count": null,
       "_view_module": "@jupyter-widgets/base",
       "_view_module_version": "2.0.0",
       "_view_name": "LayoutView",
       "align_content": null,
       "align_items": null,
       "align_self": null,
       "border_bottom": null,
       "border_left": null,
       "border_right": null,
       "border_top": null,
       "bottom": null,
       "display": null,
       "flex": null,
       "flex_flow": null,
       "grid_area": null,
       "grid_auto_columns": null,
       "grid_auto_flow": null,
       "grid_auto_rows": null,
       "grid_column": null,
       "grid_gap": null,
       "grid_row": null,
       "grid_template_areas": null,
       "grid_template_columns": null,
       "grid_template_rows": null,
       "height": null,
       "justify_content": null,
       "justify_items": null,
       "left": null,
       "margin": null,
       "max_height": null,
       "max_width": null,
       "min_height": null,
       "min_width": null,
       "object_fit": null,
       "object_position": null,
       "order": null,
       "overflow": null,
       "padding": null,
       "right": null,
       "top": null,
       "visibility": null,
       "width": null
      }
     },
     "5aae4698d5f14e5090263560d40cf494": {
      "model_module": "@jupyter-widgets/base",
      "model_module_version": "2.0.0",
      "model_name": "LayoutModel",
      "state": {
       "_model_module": "@jupyter-widgets/base",
       "_model_module_version": "2.0.0",
       "_model_name": "LayoutModel",
       "_view_count": null,
       "_view_module": "@jupyter-widgets/base",
       "_view_module_version": "2.0.0",
       "_view_name": "LayoutView",
       "align_content": null,
       "align_items": null,
       "align_self": null,
       "border_bottom": null,
       "border_left": null,
       "border_right": null,
       "border_top": null,
       "bottom": null,
       "display": null,
       "flex": null,
       "flex_flow": null,
       "grid_area": null,
       "grid_auto_columns": null,
       "grid_auto_flow": null,
       "grid_auto_rows": null,
       "grid_column": null,
       "grid_gap": null,
       "grid_row": null,
       "grid_template_areas": null,
       "grid_template_columns": null,
       "grid_template_rows": null,
       "height": null,
       "justify_content": null,
       "justify_items": null,
       "left": null,
       "margin": null,
       "max_height": null,
       "max_width": null,
       "min_height": null,
       "min_width": null,
       "object_fit": null,
       "object_position": null,
       "order": null,
       "overflow": null,
       "padding": null,
       "right": null,
       "top": null,
       "visibility": null,
       "width": null
      }
     },
     "5aaee60e632043d0b896ae6a003307e4": {
      "model_module": "@jupyter-widgets/base",
      "model_module_version": "2.0.0",
      "model_name": "LayoutModel",
      "state": {
       "_model_module": "@jupyter-widgets/base",
       "_model_module_version": "2.0.0",
       "_model_name": "LayoutModel",
       "_view_count": null,
       "_view_module": "@jupyter-widgets/base",
       "_view_module_version": "2.0.0",
       "_view_name": "LayoutView",
       "align_content": null,
       "align_items": null,
       "align_self": null,
       "border_bottom": null,
       "border_left": null,
       "border_right": null,
       "border_top": null,
       "bottom": null,
       "display": null,
       "flex": null,
       "flex_flow": null,
       "grid_area": null,
       "grid_auto_columns": null,
       "grid_auto_flow": null,
       "grid_auto_rows": null,
       "grid_column": null,
       "grid_gap": null,
       "grid_row": null,
       "grid_template_areas": null,
       "grid_template_columns": null,
       "grid_template_rows": null,
       "height": null,
       "justify_content": null,
       "justify_items": null,
       "left": null,
       "margin": null,
       "max_height": null,
       "max_width": null,
       "min_height": null,
       "min_width": null,
       "object_fit": null,
       "object_position": null,
       "order": null,
       "overflow": null,
       "padding": null,
       "right": null,
       "top": null,
       "visibility": null,
       "width": null
      }
     },
     "5ad9150c85d44a469d829a592760abf3": {
      "model_module": "@jupyter-widgets/controls",
      "model_module_version": "2.0.0",
      "model_name": "HTMLModel",
      "state": {
       "_dom_classes": [],
       "_model_module": "@jupyter-widgets/controls",
       "_model_module_version": "2.0.0",
       "_model_name": "HTMLModel",
       "_view_count": null,
       "_view_module": "@jupyter-widgets/controls",
       "_view_module_version": "2.0.0",
       "_view_name": "HTMLView",
       "description": "",
       "description_allow_html": false,
       "layout": "IPY_MODEL_90462cecba994050adfe7eafcf45fa2b",
       "placeholder": "​",
       "style": "IPY_MODEL_6aafb058c4c74d0ab2afb4178da3a72e",
       "tabbable": null,
       "tooltip": null,
       "value": "<h5><a href=\"https://github.com/jupyterlab/jupyterlab-desktop\">jupyterlab/jupyterlab-desktop</a></h5>\n<ul>\n<li><a href=\"https://github.com/jupyterlab/jupyterlab-desktop/issues/890\">(#890)</a>: <em>Should we archive this project?</em> by <strong><a href=\"https://github.com/krassowski\">@krassowski</a></strong></li>\n<li><a href=\"https://github.com/jupyterlab/jupyterlab-desktop/issues/888\">(#888)</a>: <em>[macOS] App CLI is not executable Error: EACCES: permission denied</em> by <strong><a href=\"https://github.com/lewisl\">@lewisl</a></strong></li>\n<li><a href=\"https://github.com/jupyterlab/jupyterlab-desktop/issues/885\">(#885)</a>: <em>bug when commenting out code ( see vid )</em> by <strong><a href=\"https://github.com/mreisbeck2\">@mreisbeck2</a></strong></li>\n<li><a href=\"https://github.com/jupyterlab/jupyterlab-desktop/issues/891\">(#891)</a>: <em>Improve documentation for running alternative kernels</em> by <strong><a href=\"https://github.com/Ahri-man\">@Ahri-man</a></strong></li>\n<li><a href=\"https://github.com/jupyterlab/jupyterlab-desktop/issues/892\">(#892)</a>: <em>installation issue macOS(arm64)</em> by <strong><a href=\"https://github.com/shmIuser44\">@shmIuser44</a></strong></li>\n</ul>"
      }
     },
     "5d0c71266bf24b5286c2e172ccdd6972": {
      "model_module": "@jupyter-widgets/controls",
      "model_module_version": "2.0.0",
      "model_name": "HTMLModel",
      "state": {
       "_dom_classes": [],
       "_model_module": "@jupyter-widgets/controls",
       "_model_module_version": "2.0.0",
       "_model_name": "HTMLModel",
       "_view_count": null,
       "_view_module": "@jupyter-widgets/controls",
       "_view_module_version": "2.0.0",
       "_view_name": "HTMLView",
       "description": "",
       "description_allow_html": false,
       "layout": "IPY_MODEL_b988435d9a4c42d1bf8abccc89cb516c",
       "placeholder": "​",
       "style": "IPY_MODEL_d9e6113347a34d0482ba4ef04688f8aa",
       "tabbable": null,
       "tooltip": null,
       "value": "<h5><a href=\"https://github.com/jupyterlab/extension-examples\">jupyterlab/extension-examples</a></h5>\n<ul>\n<li><a href=\"https://github.com/jupyterlab/extension-examples/issues/261\">(#261)</a>: _ python -m pip install -e  error_ by <strong><a href=\"https://github.com/ryan-latest\">@ryan-latest</a></strong></li>\n</ul>"
      }
     },
     "60f622d68a894a7b9700c88f9c884d59": {
      "model_module": "@jupyter-widgets/base",
      "model_module_version": "2.0.0",
      "model_name": "LayoutModel",
      "state": {
       "_model_module": "@jupyter-widgets/base",
       "_model_module_version": "2.0.0",
       "_model_name": "LayoutModel",
       "_view_count": null,
       "_view_module": "@jupyter-widgets/base",
       "_view_module_version": "2.0.0",
       "_view_name": "LayoutView",
       "align_content": null,
       "align_items": null,
       "align_self": null,
       "border_bottom": null,
       "border_left": null,
       "border_right": null,
       "border_top": null,
       "bottom": null,
       "display": null,
       "flex": null,
       "flex_flow": null,
       "grid_area": null,
       "grid_auto_columns": null,
       "grid_auto_flow": null,
       "grid_auto_rows": null,
       "grid_column": null,
       "grid_gap": null,
       "grid_row": null,
       "grid_template_areas": null,
       "grid_template_columns": null,
       "grid_template_rows": null,
       "height": null,
       "justify_content": null,
       "justify_items": null,
       "left": null,
       "margin": null,
       "max_height": null,
       "max_width": null,
       "min_height": null,
       "min_width": null,
       "object_fit": null,
       "object_position": null,
       "order": null,
       "overflow": null,
       "padding": null,
       "right": null,
       "top": null,
       "visibility": null,
       "width": null
      }
     },
     "61d5aedcfea4462aa89f5496f26909dc": {
      "model_module": "@jupyter-widgets/controls",
      "model_module_version": "2.0.0",
      "model_name": "HTMLStyleModel",
      "state": {
       "_model_module": "@jupyter-widgets/controls",
       "_model_module_version": "2.0.0",
       "_model_name": "HTMLStyleModel",
       "_view_count": null,
       "_view_module": "@jupyter-widgets/base",
       "_view_module_version": "2.0.0",
       "_view_name": "StyleView",
       "background": null,
       "description_width": "",
       "font_size": null,
       "text_color": null
      }
     },
     "651313813b3e4ce0a8acda1997cf1071": {
      "model_module": "@jupyter-widgets/base",
      "model_module_version": "2.0.0",
      "model_name": "LayoutModel",
      "state": {
       "_model_module": "@jupyter-widgets/base",
       "_model_module_version": "2.0.0",
       "_model_name": "LayoutModel",
       "_view_count": null,
       "_view_module": "@jupyter-widgets/base",
       "_view_module_version": "2.0.0",
       "_view_name": "LayoutView",
       "align_content": null,
       "align_items": null,
       "align_self": null,
       "border_bottom": null,
       "border_left": null,
       "border_right": null,
       "border_top": null,
       "bottom": null,
       "display": null,
       "flex": null,
       "flex_flow": null,
       "grid_area": null,
       "grid_auto_columns": null,
       "grid_auto_flow": null,
       "grid_auto_rows": null,
       "grid_column": null,
       "grid_gap": null,
       "grid_row": null,
       "grid_template_areas": null,
       "grid_template_columns": null,
       "grid_template_rows": null,
       "height": null,
       "justify_content": null,
       "justify_items": null,
       "left": null,
       "margin": null,
       "max_height": null,
       "max_width": null,
       "min_height": null,
       "min_width": null,
       "object_fit": null,
       "object_position": null,
       "order": null,
       "overflow": null,
       "padding": null,
       "right": null,
       "top": null,
       "visibility": null,
       "width": null
      }
     },
     "663259f42d304cfa94e5a5b59647adad": {
      "model_module": "@jupyter-widgets/controls",
      "model_module_version": "2.0.0",
      "model_name": "HTMLStyleModel",
      "state": {
       "_model_module": "@jupyter-widgets/controls",
       "_model_module_version": "2.0.0",
       "_model_name": "HTMLStyleModel",
       "_view_count": null,
       "_view_module": "@jupyter-widgets/base",
       "_view_module_version": "2.0.0",
       "_view_name": "StyleView",
       "background": null,
       "description_width": "",
       "font_size": null,
       "text_color": null
      }
     },
     "6aafb058c4c74d0ab2afb4178da3a72e": {
      "model_module": "@jupyter-widgets/controls",
      "model_module_version": "2.0.0",
      "model_name": "HTMLStyleModel",
      "state": {
       "_model_module": "@jupyter-widgets/controls",
       "_model_module_version": "2.0.0",
       "_model_name": "HTMLStyleModel",
       "_view_count": null,
       "_view_module": "@jupyter-widgets/base",
       "_view_module_version": "2.0.0",
       "_view_name": "StyleView",
       "background": null,
       "description_width": "",
       "font_size": null,
       "text_color": null
      }
     },
     "6dfc50b6035340209409e2cfda18dc50": {
      "model_module": "@jupyter-widgets/controls",
      "model_module_version": "2.0.0",
      "model_name": "HTMLModel",
      "state": {
       "_dom_classes": [],
       "_model_module": "@jupyter-widgets/controls",
       "_model_module_version": "2.0.0",
       "_model_name": "HTMLModel",
       "_view_count": null,
       "_view_module": "@jupyter-widgets/controls",
       "_view_module_version": "2.0.0",
       "_view_name": "HTMLView",
       "description": "",
       "description_allow_html": false,
       "layout": "IPY_MODEL_83d2b9fbf2234069ab3105c2c0795265",
       "placeholder": "​",
       "style": "IPY_MODEL_e95187ae4bde4ed99e3be6762ebe1f2f",
       "tabbable": null,
       "tooltip": null,
       "value": "<h5><a href=\"https://github.com/jupyterlab/lumino\">jupyterlab/lumino</a></h5>\n<ul>\n<li><a href=\"https://github.com/jupyterlab/lumino/issues/744\">(#744)</a>: <em>CommandPalette reacts to notifyCommandChanged even when hidden</em> by <strong><a href=\"https://github.com/fcollonval\">@fcollonval</a></strong></li>\n<li><a href=\"https://github.com/jupyterlab/lumino/issues/740\">(#740)</a>: <em>Add link to examples from API Layout documentation</em> by <strong><a href=\"https://github.com/cmarmo\">@cmarmo</a></strong></li>\n<li><a href=\"https://github.com/jupyterlab/lumino/issues/749\">(#749)</a>: <em>Reinstate the API changes check in the workflow</em> by <strong><a href=\"https://github.com/jtpio\">@jtpio</a></strong></li>\n</ul>"
      }
     },
     "71ce28921720494abf2f79d1b03dac6f": {
      "model_module": "@jupyter-widgets/controls",
      "model_module_version": "2.0.0",
      "model_name": "HTMLStyleModel",
      "state": {
       "_model_module": "@jupyter-widgets/controls",
       "_model_module_version": "2.0.0",
       "_model_name": "HTMLStyleModel",
       "_view_count": null,
       "_view_module": "@jupyter-widgets/base",
       "_view_module_version": "2.0.0",
       "_view_name": "StyleView",
       "background": null,
       "description_width": "",
       "font_size": null,
       "text_color": null
      }
     },
     "7516556da62b4647b8275ca20be366b3": {
      "model_module": "@jupyter-widgets/controls",
      "model_module_version": "2.0.0",
      "model_name": "HTMLStyleModel",
      "state": {
       "_model_module": "@jupyter-widgets/controls",
       "_model_module_version": "2.0.0",
       "_model_name": "HTMLStyleModel",
       "_view_count": null,
       "_view_module": "@jupyter-widgets/base",
       "_view_module_version": "2.0.0",
       "_view_name": "StyleView",
       "background": null,
       "description_width": "",
       "font_size": null,
       "text_color": null
      }
     },
     "767832afef9948c4a3cb53a6b9f30a2d": {
      "model_module": "@jupyter-widgets/controls",
      "model_module_version": "2.0.0",
      "model_name": "HTMLStyleModel",
      "state": {
       "_model_module": "@jupyter-widgets/controls",
       "_model_module_version": "2.0.0",
       "_model_name": "HTMLStyleModel",
       "_view_count": null,
       "_view_module": "@jupyter-widgets/base",
       "_view_module_version": "2.0.0",
       "_view_name": "StyleView",
       "background": null,
       "description_width": "",
       "font_size": null,
       "text_color": null
      }
     },
     "78aa04354c04497fa22fd4766e143be0": {
      "model_module": "@jupyter-widgets/controls",
      "model_module_version": "2.0.0",
      "model_name": "HTMLModel",
      "state": {
       "_dom_classes": [],
       "_model_module": "@jupyter-widgets/controls",
       "_model_module_version": "2.0.0",
       "_model_name": "HTMLModel",
       "_view_count": null,
       "_view_module": "@jupyter-widgets/controls",
       "_view_module_version": "2.0.0",
       "_view_name": "HTMLView",
       "description": "",
       "description_allow_html": false,
       "layout": "IPY_MODEL_60f622d68a894a7b9700c88f9c884d59",
       "placeholder": "​",
       "style": "IPY_MODEL_9d203f206d3648cdbc856b2bd3fe6b8d",
       "tabbable": null,
       "tooltip": null,
       "value": "<h4>Closed PRs for repo: <a href=\"https://github.com/jupyterlab/jupyter-collaboration\">jupyterlab/jupyter-collaboration</a></h4>\n<h5></h5>\n<ul>\n<li><a href=\"https://github.com/jupyterlab/jupyter-collaboration/issues/451\">(#451)</a>: <em>Backport PR #427 on branch 3.x (Fix collaborators panel breaking on opening files without known extension)</em> by <strong><a href=\"https://github.com/meeseeksmachine\">@meeseeksmachine</a></strong> merged by <strong><a href=\"https://github.com/krassowski\">@krassowski</a></strong></li>\n<li><a href=\"https://github.com/jupyterlab/jupyter-collaboration/issues/453\">(#453)</a>: <em>Bump min required <code>jupyter_events</code> version to 0.11</em> by <strong><a href=\"https://github.com/krassowski\">@krassowski</a></strong> merged by <strong><a href=\"https://github.com/krassowski\">@krassowski</a></strong></li>\n<li><a href=\"https://github.com/jupyterlab/jupyter-collaboration/issues/454\">(#454)</a>: <em>Backport PR #453 on branch 3.x (Bump min required <code>jupyter_events</code> version to 0.11)</em> by <strong><a href=\"https://github.com/meeseeksmachine\">@meeseeksmachine</a></strong> merged by <strong><a href=\"https://github.com/davidbrochart\">@davidbrochart</a></strong></li>\n<li><a href=\"https://github.com/jupyterlab/jupyter-collaboration/issues/456\">(#456)</a>: <em>Handle the error raised when closing a collaborative document</em> by <strong><a href=\"https://github.com/brichet\">@brichet</a></strong> merged by <strong><a href=\"https://github.com/brichet\">@brichet</a></strong></li>\n<li><a href=\"https://github.com/jupyterlab/jupyter-collaboration/issues/457\">(#457)</a>: <em>Skip saving non-writable files</em> by <strong><a href=\"https://github.com/Darshan808\">@Darshan808</a></strong> merged by <strong><a href=\"https://github.com/krassowski\">@krassowski</a></strong></li>\n<li><a href=\"https://github.com/jupyterlab/jupyter-collaboration/issues/458\">(#458)</a>: <em>Bump to jupyterlab v4.4.0</em> by <strong><a href=\"https://github.com/davidbrochart\">@davidbrochart</a></strong> merged by <strong><a href=\"https://github.com/krassowski\">@krassowski</a></strong></li>\n<li><a href=\"https://github.com/jupyterlab/jupyter-collaboration/issues/459\">(#459)</a>: <em>3.x: Fix pinnings</em> by <strong><a href=\"https://github.com/martinRenou\">@martinRenou</a></strong> merged by <strong><a href=\"https://github.com/davidbrochart\">@davidbrochart</a></strong></li>\n<li><a href=\"https://github.com/jupyterlab/jupyter-collaboration/issues/461\">(#461)</a>: <em>Fix version pins in bump script</em> by <strong><a href=\"https://github.com/brichet\">@brichet</a></strong> merged by <strong><a href=\"https://github.com/krassowski\">@krassowski</a></strong></li>\n<li><a href=\"https://github.com/jupyterlab/jupyter-collaboration/issues/463\">(#463)</a>: <em>Fix jupyterlab dependency dropped by the version bump script</em> by <strong><a href=\"https://github.com/krassowski\">@krassowski</a></strong> merged by <strong><a href=\"https://github.com/krassowski\">@krassowski</a></strong></li>\n<li><a href=\"https://github.com/jupyterlab/jupyter-collaboration/issues/465\">(#465)</a>: <em>Fix empty collaborators list when file without icon is opened</em> by <strong><a href=\"https://github.com/krassowski\">@krassowski</a></strong> merged by <strong><a href=\"https://github.com/krassowski\">@krassowski</a></strong></li>\n<li><a href=\"https://github.com/jupyterlab/jupyter-collaboration/issues/466\">(#466)</a>: <em>Debugging CI failures</em> by <strong><a href=\"https://github.com/krassowski\">@krassowski</a></strong> merged by <strong><a href=\"https://github.com/krassowski\">@krassowski</a></strong></li>\n<li><a href=\"https://github.com/jupyterlab/jupyter-collaboration/issues/467\">(#467)</a>: <em>Update the pre-commit action to v3.0.1</em> by <strong><a href=\"https://github.com/brichet\">@brichet</a></strong> merged by <strong><a href=\"https://github.com/krassowski\">@krassowski</a></strong></li>\n<li><a href=\"https://github.com/jupyterlab/jupyter-collaboration/issues/468\">(#468)</a>: <em>Backport PR #461 on branch main (Fix version pins in bump script)</em> by <strong><a href=\"https://github.com/meeseeksmachine\">@meeseeksmachine</a></strong> merged by <strong><a href=\"https://github.com/krassowski\">@krassowski</a></strong></li>\n<li><a href=\"https://github.com/jupyterlab/jupyter-collaboration/issues/471\">(#471)</a>: <em>Fix \"Edit on GitHub\" link in documentation</em> by <strong><a href=\"https://github.com/Darshan808\">@Darshan808</a></strong> merged by <strong><a href=\"https://github.com/krassowski\">@krassowski</a></strong></li>\n<li><a href=\"https://github.com/jupyterlab/jupyter-collaboration/issues/472\">(#472)</a>: <em>Reset dirty state only when the file is saved</em> by <strong><a href=\"https://github.com/Darshan808\">@Darshan808</a></strong> merged by <strong><a href=\"https://github.com/krassowski\">@krassowski</a></strong></li>\n<li><a href=\"https://github.com/jupyterlab/jupyter-collaboration/issues/475\">(#475)</a>: <em>Fix cleanup logic and suppress repetitive error logs</em> by <strong><a href=\"https://github.com/Darshan808\">@Darshan808</a></strong> merged by <strong><a href=\"https://github.com/krassowski\">@krassowski</a></strong></li>\n<li><a href=\"https://github.com/jupyterlab/jupyter-collaboration/issues/476\">(#476)</a>: <em>Force analysis of <code>pycrdt_websocket</code> imports, fix types</em> by <strong><a href=\"https://github.com/krassowski\">@krassowski</a></strong> merged by <strong><a href=\"https://github.com/krassowski\">@krassowski</a></strong></li>\n<li><a href=\"https://github.com/jupyterlab/jupyter-collaboration/issues/478\">(#478)</a>: <em>Remove suspected unused code</em> by <strong><a href=\"https://github.com/krassowski\">@krassowski</a></strong> merged by <strong><a href=\"https://github.com/davidbrochart\">@davidbrochart</a></strong></li>\n</ul>"
      }
     },
     "7efb092cf4194b99b121910cd1e0b3dd": {
      "model_module": "@jupyter-widgets/controls",
      "model_module_version": "2.0.0",
      "model_name": "HTMLModel",
      "state": {
       "_dom_classes": [],
       "_model_module": "@jupyter-widgets/controls",
       "_model_module_version": "2.0.0",
       "_model_name": "HTMLModel",
       "_view_count": null,
       "_view_module": "@jupyter-widgets/controls",
       "_view_module_version": "2.0.0",
       "_view_name": "HTMLView",
       "description": "",
       "description_allow_html": false,
       "layout": "IPY_MODEL_0a328816404144699790a23ae498f4b1",
       "placeholder": "​",
       "style": "IPY_MODEL_a12e9da183a34fc49f0ace74909b871b",
       "tabbable": null,
       "tooltip": null,
       "value": "<h5><a href=\"https://github.com/jupyterlab/frontends-team-compass\">jupyterlab/frontends-team-compass</a></h5>\n<ul>\n<li><a href=\"https://github.com/jupyterlab/frontends-team-compass/issues/266\">(#266)</a>: <em>Weekly Team Meetings: Jan–Jun 2025</em> by <strong><a href=\"https://github.com/jtpio\">@jtpio</a></strong></li>\n<li><a href=\"https://github.com/jupyterlab/frontends-team-compass/issues/268\">(#268)</a>: <em>Weekly Triage meetings: Jan–Dec 2025</em> by <strong><a href=\"https://github.com/RRosio\">@RRosio</a></strong></li>\n<li><a href=\"https://github.com/jupyterlab/frontends-team-compass/issues/275\">(#275)</a>: <em>JupyterLab 4.4 bug bash proposal for March 26 Jupyter Frontends call</em> by <strong><a href=\"https://github.com/andrii-i\">@andrii-i</a></strong></li>\n</ul>"
      }
     },
     "83d2b9fbf2234069ab3105c2c0795265": {
      "model_module": "@jupyter-widgets/base",
      "model_module_version": "2.0.0",
      "model_name": "LayoutModel",
      "state": {
       "_model_module": "@jupyter-widgets/base",
       "_model_module_version": "2.0.0",
       "_model_name": "LayoutModel",
       "_view_count": null,
       "_view_module": "@jupyter-widgets/base",
       "_view_module_version": "2.0.0",
       "_view_name": "LayoutView",
       "align_content": null,
       "align_items": null,
       "align_self": null,
       "border_bottom": null,
       "border_left": null,
       "border_right": null,
       "border_top": null,
       "bottom": null,
       "display": null,
       "flex": null,
       "flex_flow": null,
       "grid_area": null,
       "grid_auto_columns": null,
       "grid_auto_flow": null,
       "grid_auto_rows": null,
       "grid_column": null,
       "grid_gap": null,
       "grid_row": null,
       "grid_template_areas": null,
       "grid_template_columns": null,
       "grid_template_rows": null,
       "height": null,
       "justify_content": null,
       "justify_items": null,
       "left": null,
       "margin": null,
       "max_height": null,
       "max_width": null,
       "min_height": null,
       "min_width": null,
       "object_fit": null,
       "object_position": null,
       "order": null,
       "overflow": null,
       "padding": null,
       "right": null,
       "top": null,
       "visibility": null,
       "width": null
      }
     },
     "8535a0a00b0c4e3c8fe7af648754cc82": {
      "model_module": "@jupyter-widgets/base",
      "model_module_version": "2.0.0",
      "model_name": "LayoutModel",
      "state": {
       "_model_module": "@jupyter-widgets/base",
       "_model_module_version": "2.0.0",
       "_model_name": "LayoutModel",
       "_view_count": null,
       "_view_module": "@jupyter-widgets/base",
       "_view_module_version": "2.0.0",
       "_view_name": "LayoutView",
       "align_content": null,
       "align_items": null,
       "align_self": null,
       "border_bottom": null,
       "border_left": null,
       "border_right": null,
       "border_top": null,
       "bottom": null,
       "display": null,
       "flex": null,
       "flex_flow": null,
       "grid_area": null,
       "grid_auto_columns": null,
       "grid_auto_flow": null,
       "grid_auto_rows": null,
       "grid_column": null,
       "grid_gap": null,
       "grid_row": null,
       "grid_template_areas": null,
       "grid_template_columns": null,
       "grid_template_rows": null,
       "height": null,
       "justify_content": null,
       "justify_items": null,
       "left": null,
       "margin": null,
       "max_height": null,
       "max_width": null,
       "min_height": null,
       "min_width": null,
       "object_fit": null,
       "object_position": null,
       "order": null,
       "overflow": null,
       "padding": null,
       "right": null,
       "top": null,
       "visibility": null,
       "width": null
      }
     },
     "8777b29fb8154d2e8feebf5afbafc3a4": {
      "model_module": "@jupyter-widgets/controls",
      "model_module_version": "2.0.0",
      "model_name": "HTMLModel",
      "state": {
       "_dom_classes": [],
       "_model_module": "@jupyter-widgets/controls",
       "_model_module_version": "2.0.0",
       "_model_name": "HTMLModel",
       "_view_count": null,
       "_view_module": "@jupyter-widgets/controls",
       "_view_module_version": "2.0.0",
       "_view_name": "HTMLView",
       "description": "",
       "description_allow_html": false,
       "layout": "IPY_MODEL_a000406866ff4b26b2d007339514eddc",
       "placeholder": "​",
       "style": "IPY_MODEL_89872ebf896a4826b47a64778f24756b",
       "tabbable": null,
       "tooltip": null,
       "value": "<h5><a href=\"https://github.com/jupyterlab/frontends-team-compass\">jupyterlab/frontends-team-compass</a></h5>\n<ul>\n<li><a href=\"https://github.com/jupyterlab/frontends-team-compass/issues/266\">(#266)</a>: <em>Weekly Team Meetings: Jan–Jun 2025</em> by <strong><a href=\"https://github.com/jtpio\">@jtpio</a></strong></li>\n<li><a href=\"https://github.com/jupyterlab/frontends-team-compass/issues/268\">(#268)</a>: <em>Weekly Triage meetings: Jan–Dec 2025</em> by <strong><a href=\"https://github.com/RRosio\">@RRosio</a></strong></li>\n<li><a href=\"https://github.com/jupyterlab/frontends-team-compass/issues/275\">(#275)</a>: <em>JupyterLab 4.4 bug bash proposal for March 26 Jupyter Frontends call</em> by <strong><a href=\"https://github.com/andrii-i\">@andrii-i</a></strong></li>\n</ul>"
      }
     },
     "89872ebf896a4826b47a64778f24756b": {
      "model_module": "@jupyter-widgets/controls",
      "model_module_version": "2.0.0",
      "model_name": "HTMLStyleModel",
      "state": {
       "_model_module": "@jupyter-widgets/controls",
       "_model_module_version": "2.0.0",
       "_model_name": "HTMLStyleModel",
       "_view_count": null,
       "_view_module": "@jupyter-widgets/base",
       "_view_module_version": "2.0.0",
       "_view_name": "StyleView",
       "background": null,
       "description_width": "",
       "font_size": null,
       "text_color": null
      }
     },
     "8ab6f28e5bb04044ba15be40e9038ef9": {
      "model_module": "@jupyter-widgets/controls",
      "model_module_version": "2.0.0",
      "model_name": "HTMLModel",
      "state": {
       "_dom_classes": [],
       "_model_module": "@jupyter-widgets/controls",
       "_model_module_version": "2.0.0",
       "_model_name": "HTMLModel",
       "_view_count": null,
       "_view_module": "@jupyter-widgets/controls",
       "_view_module_version": "2.0.0",
       "_view_name": "HTMLView",
       "description": "",
       "description_allow_html": false,
       "layout": "IPY_MODEL_d3a8efca047242feb3ecc8c7bea5e3da",
       "placeholder": "​",
       "style": "IPY_MODEL_61d5aedcfea4462aa89f5496f26909dc",
       "tabbable": null,
       "tooltip": null,
       "value": "<h5><a href=\"https://github.com/jupyterlab/jupyter-ai\">jupyterlab/jupyter-ai</a></h5>\n<ul>\n<li><a href=\"https://github.com/jupyterlab/jupyter-ai/issues/1259\">(#1259)</a>: <em>Bug?: Can't copy response to clipboard</em> by <strong><a href=\"https://github.com/wkvolkman\">@wkvolkman</a></strong></li>\n<li><a href=\"https://github.com/jupyterlab/jupyter-ai/issues/1291\">(#1291)</a>: <em>Unable to load Q chat using amazon-sagemaker-jupyter-ai-q-developer and Jupyter AI 2.31.0</em> by <strong><a href=\"https://github.com/sdharani91\">@sdharani91</a></strong></li>\n<li><a href=\"https://github.com/jupyterlab/jupyter-ai/issues/1261\">(#1261)</a>: <em>Bug: Model field inputs are coupled in Settings UI</em> by <strong><a href=\"https://github.com/VicaYang\">@VicaYang</a></strong></li>\n<li><a href=\"https://github.com/jupyterlab/jupyter-ai/issues/1293\">(#1293)</a>: <em>[v3] Various chat handler and usability issues in the current <code>jupyterlab-chat</code></em> by <strong><a href=\"https://github.com/srdas\">@srdas</a></strong></li>\n<li><a href=\"https://github.com/jupyterlab/jupyter-ai/issues/1244\">(#1244)</a>: <em>support VS Code's Jupyter extension</em> by <strong><a href=\"https://github.com/rootsmusic\">@rootsmusic</a></strong></li>\n</ul>"
      }
     },
     "90462cecba994050adfe7eafcf45fa2b": {
      "model_module": "@jupyter-widgets/base",
      "model_module_version": "2.0.0",
      "model_name": "LayoutModel",
      "state": {
       "_model_module": "@jupyter-widgets/base",
       "_model_module_version": "2.0.0",
       "_model_name": "LayoutModel",
       "_view_count": null,
       "_view_module": "@jupyter-widgets/base",
       "_view_module_version": "2.0.0",
       "_view_name": "LayoutView",
       "align_content": null,
       "align_items": null,
       "align_self": null,
       "border_bottom": null,
       "border_left": null,
       "border_right": null,
       "border_top": null,
       "bottom": null,
       "display": null,
       "flex": null,
       "flex_flow": null,
       "grid_area": null,
       "grid_auto_columns": null,
       "grid_auto_flow": null,
       "grid_auto_rows": null,
       "grid_column": null,
       "grid_gap": null,
       "grid_row": null,
       "grid_template_areas": null,
       "grid_template_columns": null,
       "grid_template_rows": null,
       "height": null,
       "justify_content": null,
       "justify_items": null,
       "left": null,
       "margin": null,
       "max_height": null,
       "max_width": null,
       "min_height": null,
       "min_width": null,
       "object_fit": null,
       "object_position": null,
       "order": null,
       "overflow": null,
       "padding": null,
       "right": null,
       "top": null,
       "visibility": null,
       "width": null
      }
     },
     "9b2f499a6bc545c29e094434f7f95068": {
      "model_module": "@jupyter-widgets/controls",
      "model_module_version": "2.0.0",
      "model_name": "HTMLModel",
      "state": {
       "_dom_classes": [],
       "_model_module": "@jupyter-widgets/controls",
       "_model_module_version": "2.0.0",
       "_model_name": "HTMLModel",
       "_view_count": null,
       "_view_module": "@jupyter-widgets/controls",
       "_view_module_version": "2.0.0",
       "_view_name": "HTMLView",
       "description": "",
       "description_allow_html": false,
       "layout": "IPY_MODEL_ed540610e7dc43569f0999f182900b3a",
       "placeholder": "​",
       "style": "IPY_MODEL_42a6ae280201476ebbb475e66ae1d7ee",
       "tabbable": null,
       "tooltip": null,
       "value": "<h5><a href=\"https://github.com/jupyterlab/jupyter-collaboration\">jupyterlab/jupyter-collaboration</a></h5>\n<ul>\n<li><a href=\"https://github.com/jupyterlab/jupyter-collaboration/issues/462\">(#462)</a>: <em>Installing <code>jupyter-collaboration</code> breaks notebook editor</em> by <strong><a href=\"https://github.com/nwalters512\">@nwalters512</a></strong></li>\n<li><a href=\"https://github.com/jupyterlab/jupyter-collaboration/issues/450\">(#450)</a>: <em>Empty collaborators list when file without icon is opened.</em> by <strong><a href=\"https://github.com/jochym\">@jochym</a></strong></li>\n<li><a href=\"https://github.com/jupyterlab/jupyter-collaboration/issues/430\">(#430)</a>: <em>Make the use of <code>YStore</code> configurable</em> by <strong><a href=\"https://github.com/dlqqq\">@dlqqq</a></strong></li>\n<li><a href=\"https://github.com/jupyterlab/jupyter-collaboration/issues/473\">(#473)</a>: <em>Jupyterlab 4.4.0 and Jupyter-collaboration 4.0.1: Collaborating users list populated, but no live edits visible</em> by <strong><a href=\"https://github.com/Sieboldianus\">@Sieboldianus</a></strong></li>\n<li><a href=\"https://github.com/jupyterlab/jupyter-collaboration/issues/477\">(#477)</a>: <em>Investigate unused (?) code for chat message propagation</em> by <strong><a href=\"https://github.com/krassowski\">@krassowski</a></strong></li>\n</ul>"
      }
     },
     "9d203f206d3648cdbc856b2bd3fe6b8d": {
      "model_module": "@jupyter-widgets/controls",
      "model_module_version": "2.0.0",
      "model_name": "HTMLStyleModel",
      "state": {
       "_model_module": "@jupyter-widgets/controls",
       "_model_module_version": "2.0.0",
       "_model_name": "HTMLStyleModel",
       "_view_count": null,
       "_view_module": "@jupyter-widgets/base",
       "_view_module_version": "2.0.0",
       "_view_name": "StyleView",
       "background": null,
       "description_width": "",
       "font_size": null,
       "text_color": null
      }
     },
     "a000406866ff4b26b2d007339514eddc": {
      "model_module": "@jupyter-widgets/base",
      "model_module_version": "2.0.0",
      "model_name": "LayoutModel",
      "state": {
       "_model_module": "@jupyter-widgets/base",
       "_model_module_version": "2.0.0",
       "_model_name": "LayoutModel",
       "_view_count": null,
       "_view_module": "@jupyter-widgets/base",
       "_view_module_version": "2.0.0",
       "_view_name": "LayoutView",
       "align_content": null,
       "align_items": null,
       "align_self": null,
       "border_bottom": null,
       "border_left": null,
       "border_right": null,
       "border_top": null,
       "bottom": null,
       "display": null,
       "flex": null,
       "flex_flow": null,
       "grid_area": null,
       "grid_auto_columns": null,
       "grid_auto_flow": null,
       "grid_auto_rows": null,
       "grid_column": null,
       "grid_gap": null,
       "grid_row": null,
       "grid_template_areas": null,
       "grid_template_columns": null,
       "grid_template_rows": null,
       "height": null,
       "justify_content": null,
       "justify_items": null,
       "left": null,
       "margin": null,
       "max_height": null,
       "max_width": null,
       "min_height": null,
       "min_width": null,
       "object_fit": null,
       "object_position": null,
       "order": null,
       "overflow": null,
       "padding": null,
       "right": null,
       "top": null,
       "visibility": null,
       "width": null
      }
     },
     "a0c15a56ddca418fad1b62e2183f89f1": {
      "model_module": "@jupyter-widgets/controls",
      "model_module_version": "2.0.0",
      "model_name": "HTMLModel",
      "state": {
       "_dom_classes": [],
       "_model_module": "@jupyter-widgets/controls",
       "_model_module_version": "2.0.0",
       "_model_name": "HTMLModel",
       "_view_count": null,
       "_view_module": "@jupyter-widgets/controls",
       "_view_module_version": "2.0.0",
       "_view_name": "HTMLView",
       "description": "",
       "description_allow_html": false,
       "layout": "IPY_MODEL_8535a0a00b0c4e3c8fe7af648754cc82",
       "placeholder": "​",
       "style": "IPY_MODEL_e2fb673519c2473fa405ac10cff477f0",
       "tabbable": null,
       "tooltip": null,
       "value": "<h4>Closed PRs for repo: <a href=\"https://github.com/jupyterlab/lumino\">jupyterlab/lumino</a></h4>\n<h5></h5>\n<ul>\n<li><a href=\"https://github.com/jupyterlab/lumino/issues/741\">(#741)</a>: <em>Add links to the examples and documentation contribution instructions</em> by <strong><a href=\"https://github.com/cmarmo\">@cmarmo</a></strong> merged by <strong><a href=\"https://github.com/krassowski\">@krassowski</a></strong></li>\n<li><a href=\"https://github.com/jupyterlab/lumino/issues/742\">(#742)</a>: <em>Bump the actions group with 2 updates</em> by <strong><a href=\"https://github.com/dependabot[bot]\">@dependabot[bot]</a></strong> merged by <strong><a href=\"https://github.com/fcollonval\">@fcollonval</a></strong></li>\n<li><a href=\"https://github.com/jupyterlab/lumino/issues/743\">(#743)</a>: <em>\"npm run\" -&gt; yarn</em> by <strong><a href=\"https://github.com/vidartf\">@vidartf</a></strong> merged by <strong><a href=\"https://github.com/fcollonval\">@fcollonval</a></strong></li>\n<li><a href=\"https://github.com/jupyterlab/lumino/issues/745\">(#745)</a>: <em>Forbid .only and .skip on CI</em> by <strong><a href=\"https://github.com/fcollonval\">@fcollonval</a></strong> merged by <strong><a href=\"https://github.com/krassowski\">@krassowski</a></strong></li>\n<li><a href=\"https://github.com/jupyterlab/lumino/issues/746\">(#746)</a>: <em>Don't refresh if palette is within a hidden branch</em> by <strong><a href=\"https://github.com/fcollonval\">@fcollonval</a></strong> merged by <strong><a href=\"https://github.com/fcollonval\">@fcollonval</a></strong></li>\n<li><a href=\"https://github.com/jupyterlab/lumino/issues/747\">(#747)</a>: <em>Remove use of <code>tj-actions/changed-files</code></em> by <strong><a href=\"https://github.com/jtpio\">@jtpio</a></strong> merged by <strong><a href=\"https://github.com/jtpio\">@jtpio</a></strong></li>\n<li><a href=\"https://github.com/jupyterlab/lumino/issues/748\">(#748)</a>: <em>Bump axios from 1.7.7 to 1.8.3</em> by <strong><a href=\"https://github.com/dependabot[bot]\">@dependabot[bot]</a></strong> merged by <strong><a href=\"https://github.com/jtpio\">@jtpio</a></strong></li>\n<li><a href=\"https://github.com/jupyterlab/lumino/issues/751\">(#751)</a>: <em>Update versions</em> by <strong><a href=\"https://github.com/fcollonval\">@fcollonval</a></strong> merged by <strong><a href=\"https://github.com/fcollonval\">@fcollonval</a></strong></li>\n<li><a href=\"https://github.com/jupyterlab/lumino/issues/752\">(#752)</a>: <em>Bump koa from 2.15.4 to 2.16.1</em> by <strong><a href=\"https://github.com/dependabot[bot]\">@dependabot[bot]</a></strong> merged by <strong><a href=\"https://github.com/krassowski\">@krassowski</a></strong></li>\n<li><a href=\"https://github.com/jupyterlab/lumino/issues/753\">(#753)</a>: <em>Improve accessibility for menu items with toggle state</em> by <strong><a href=\"https://github.com/nkn2022\">@nkn2022</a></strong> merged by <strong><a href=\"https://github.com/krassowski\">@krassowski</a></strong></li>\n<li><a href=\"https://github.com/jupyterlab/lumino/issues/754\">(#754)</a>: <em>Run workflows that were pinned to no-longer supported <code>ubuntu-20.04</code> on <code>ubuntu-latest</code></em> by <strong><a href=\"https://github.com/krassowski\">@krassowski</a></strong> merged by <strong><a href=\"https://github.com/krassowski\">@krassowski</a></strong></li>\n<li><a href=\"https://github.com/jupyterlab/lumino/issues/757\">(#757)</a>: <em>Fix test status badge</em> by <strong><a href=\"https://github.com/krassowski\">@krassowski</a></strong> merged by <strong><a href=\"https://github.com/afshin\">@afshin</a></strong></li>\n<li><a href=\"https://github.com/jupyterlab/lumino/issues/758\">(#758)</a>: <em>Bump versions for v2025.4.30</em> by <strong><a href=\"https://github.com/krassowski\">@krassowski</a></strong> merged by <strong><a href=\"https://github.com/afshin\">@afshin</a></strong></li>\n</ul>"
      }
     },
     "a12e9da183a34fc49f0ace74909b871b": {
      "model_module": "@jupyter-widgets/controls",
      "model_module_version": "2.0.0",
      "model_name": "HTMLStyleModel",
      "state": {
       "_model_module": "@jupyter-widgets/controls",
       "_model_module_version": "2.0.0",
       "_model_name": "HTMLStyleModel",
       "_view_count": null,
       "_view_module": "@jupyter-widgets/base",
       "_view_module_version": "2.0.0",
       "_view_name": "StyleView",
       "background": null,
       "description_width": "",
       "font_size": null,
       "text_color": null
      }
     },
     "a1f22c498a974340aac6b2287b62afce": {
      "model_module": "@jupyter-widgets/base",
      "model_module_version": "2.0.0",
      "model_name": "LayoutModel",
      "state": {
       "_model_module": "@jupyter-widgets/base",
       "_model_module_version": "2.0.0",
       "_model_name": "LayoutModel",
       "_view_count": null,
       "_view_module": "@jupyter-widgets/base",
       "_view_module_version": "2.0.0",
       "_view_name": "LayoutView",
       "align_content": null,
       "align_items": null,
       "align_self": null,
       "border_bottom": null,
       "border_left": null,
       "border_right": null,
       "border_top": null,
       "bottom": null,
       "display": null,
       "flex": null,
       "flex_flow": null,
       "grid_area": null,
       "grid_auto_columns": null,
       "grid_auto_flow": null,
       "grid_auto_rows": null,
       "grid_column": null,
       "grid_gap": null,
       "grid_row": null,
       "grid_template_areas": null,
       "grid_template_columns": null,
       "grid_template_rows": null,
       "height": null,
       "justify_content": null,
       "justify_items": null,
       "left": null,
       "margin": null,
       "max_height": null,
       "max_width": null,
       "min_height": null,
       "min_width": null,
       "object_fit": null,
       "object_position": null,
       "order": null,
       "overflow": null,
       "padding": null,
       "right": null,
       "top": null,
       "visibility": null,
       "width": null
      }
     },
     "a3da9319676b4f07a98b0ebbee951e9f": {
      "model_module": "@jupyter-widgets/base",
      "model_module_version": "2.0.0",
      "model_name": "LayoutModel",
      "state": {
       "_model_module": "@jupyter-widgets/base",
       "_model_module_version": "2.0.0",
       "_model_name": "LayoutModel",
       "_view_count": null,
       "_view_module": "@jupyter-widgets/base",
       "_view_module_version": "2.0.0",
       "_view_name": "LayoutView",
       "align_content": null,
       "align_items": null,
       "align_self": null,
       "border_bottom": null,
       "border_left": null,
       "border_right": null,
       "border_top": null,
       "bottom": null,
       "display": null,
       "flex": null,
       "flex_flow": null,
       "grid_area": null,
       "grid_auto_columns": null,
       "grid_auto_flow": null,
       "grid_auto_rows": null,
       "grid_column": null,
       "grid_gap": null,
       "grid_row": null,
       "grid_template_areas": null,
       "grid_template_columns": null,
       "grid_template_rows": null,
       "height": null,
       "justify_content": null,
       "justify_items": null,
       "left": null,
       "margin": null,
       "max_height": null,
       "max_width": null,
       "min_height": null,
       "min_width": null,
       "object_fit": null,
       "object_position": null,
       "order": null,
       "overflow": null,
       "padding": null,
       "right": null,
       "top": null,
       "visibility": null,
       "width": null
      }
     },
     "a427e041a66141b2b1958bcdcc652e5f": {
      "model_module": "@jupyter-widgets/base",
      "model_module_version": "2.0.0",
      "model_name": "LayoutModel",
      "state": {
       "_model_module": "@jupyter-widgets/base",
       "_model_module_version": "2.0.0",
       "_model_name": "LayoutModel",
       "_view_count": null,
       "_view_module": "@jupyter-widgets/base",
       "_view_module_version": "2.0.0",
       "_view_name": "LayoutView",
       "align_content": null,
       "align_items": null,
       "align_self": null,
       "border_bottom": null,
       "border_left": null,
       "border_right": null,
       "border_top": null,
       "bottom": null,
       "display": null,
       "flex": null,
       "flex_flow": null,
       "grid_area": null,
       "grid_auto_columns": null,
       "grid_auto_flow": null,
       "grid_auto_rows": null,
       "grid_column": null,
       "grid_gap": null,
       "grid_row": null,
       "grid_template_areas": null,
       "grid_template_columns": null,
       "grid_template_rows": null,
       "height": null,
       "justify_content": null,
       "justify_items": null,
       "left": null,
       "margin": null,
       "max_height": null,
       "max_width": null,
       "min_height": null,
       "min_width": null,
       "object_fit": null,
       "object_position": null,
       "order": null,
       "overflow": null,
       "padding": null,
       "right": null,
       "top": null,
       "visibility": null,
       "width": null
      }
     },
     "a93c90e2e4aa4445bdcb58e0ebc9b2dc": {
      "model_module": "@jupyter-widgets/base",
      "model_module_version": "2.0.0",
      "model_name": "LayoutModel",
      "state": {
       "_model_module": "@jupyter-widgets/base",
       "_model_module_version": "2.0.0",
       "_model_name": "LayoutModel",
       "_view_count": null,
       "_view_module": "@jupyter-widgets/base",
       "_view_module_version": "2.0.0",
       "_view_name": "LayoutView",
       "align_content": null,
       "align_items": null,
       "align_self": null,
       "border_bottom": null,
       "border_left": null,
       "border_right": null,
       "border_top": null,
       "bottom": null,
       "display": null,
       "flex": null,
       "flex_flow": null,
       "grid_area": null,
       "grid_auto_columns": null,
       "grid_auto_flow": null,
       "grid_auto_rows": null,
       "grid_column": null,
       "grid_gap": null,
       "grid_row": null,
       "grid_template_areas": null,
       "grid_template_columns": null,
       "grid_template_rows": null,
       "height": null,
       "justify_content": null,
       "justify_items": null,
       "left": null,
       "margin": null,
       "max_height": null,
       "max_width": null,
       "min_height": null,
       "min_width": null,
       "object_fit": null,
       "object_position": null,
       "order": null,
       "overflow": null,
       "padding": null,
       "right": null,
       "top": null,
       "visibility": null,
       "width": null
      }
     },
     "ab53cdd59005427d98dc0867b9be1c0c": {
      "model_module": "@jupyter-widgets/controls",
      "model_module_version": "2.0.0",
      "model_name": "HTMLModel",
      "state": {
       "_dom_classes": [],
       "_model_module": "@jupyter-widgets/controls",
       "_model_module_version": "2.0.0",
       "_model_name": "HTMLModel",
       "_view_count": null,
       "_view_module": "@jupyter-widgets/controls",
       "_view_module_version": "2.0.0",
       "_view_name": "HTMLView",
       "description": "",
       "description_allow_html": false,
       "layout": "IPY_MODEL_a427e041a66141b2b1958bcdcc652e5f",
       "placeholder": "​",
       "style": "IPY_MODEL_71ce28921720494abf2f79d1b03dac6f",
       "tabbable": null,
       "tooltip": null,
       "value": "<h5><a href=\"https://github.com/jupyterlab/jupyterlab-git\">jupyterlab/jupyterlab-git</a></h5>\n<ul>\n<li><a href=\"https://github.com/jupyterlab/jupyterlab-git/issues/1342\">(#1342)</a>: <em>Cloning from new host via ssh causes spurious error rather than prompting for confirmation and succeeding</em> by <strong><a href=\"https://github.com/ctcjab\">@ctcjab</a></strong></li>\n<li><a href=\"https://github.com/jupyterlab/jupyterlab-git/issues/1406\">(#1406)</a>: <em>Create a new branch after closing an empty repository fails</em> by <strong><a href=\"https://github.com/jtpio\">@jtpio</a></strong></li>\n</ul>"
      }
     },
     "ab56d665c2e94f9da93539824cc9bb7d": {
      "model_module": "@jupyter-widgets/base",
      "model_module_version": "2.0.0",
      "model_name": "LayoutModel",
      "state": {
       "_model_module": "@jupyter-widgets/base",
       "_model_module_version": "2.0.0",
       "_model_name": "LayoutModel",
       "_view_count": null,
       "_view_module": "@jupyter-widgets/base",
       "_view_module_version": "2.0.0",
       "_view_name": "LayoutView",
       "align_content": null,
       "align_items": null,
       "align_self": null,
       "border_bottom": null,
       "border_left": null,
       "border_right": null,
       "border_top": null,
       "bottom": null,
       "display": null,
       "flex": null,
       "flex_flow": null,
       "grid_area": null,
       "grid_auto_columns": null,
       "grid_auto_flow": null,
       "grid_auto_rows": null,
       "grid_column": null,
       "grid_gap": null,
       "grid_row": null,
       "grid_template_areas": null,
       "grid_template_columns": null,
       "grid_template_rows": null,
       "height": null,
       "justify_content": null,
       "justify_items": null,
       "left": null,
       "margin": null,
       "max_height": null,
       "max_width": null,
       "min_height": null,
       "min_width": null,
       "object_fit": null,
       "object_position": null,
       "order": null,
       "overflow": null,
       "padding": null,
       "right": null,
       "top": null,
       "visibility": null,
       "width": null
      }
     },
     "b988435d9a4c42d1bf8abccc89cb516c": {
      "model_module": "@jupyter-widgets/base",
      "model_module_version": "2.0.0",
      "model_name": "LayoutModel",
      "state": {
       "_model_module": "@jupyter-widgets/base",
       "_model_module_version": "2.0.0",
       "_model_name": "LayoutModel",
       "_view_count": null,
       "_view_module": "@jupyter-widgets/base",
       "_view_module_version": "2.0.0",
       "_view_name": "LayoutView",
       "align_content": null,
       "align_items": null,
       "align_self": null,
       "border_bottom": null,
       "border_left": null,
       "border_right": null,
       "border_top": null,
       "bottom": null,
       "display": null,
       "flex": null,
       "flex_flow": null,
       "grid_area": null,
       "grid_auto_columns": null,
       "grid_auto_flow": null,
       "grid_auto_rows": null,
       "grid_column": null,
       "grid_gap": null,
       "grid_row": null,
       "grid_template_areas": null,
       "grid_template_columns": null,
       "grid_template_rows": null,
       "height": null,
       "justify_content": null,
       "justify_items": null,
       "left": null,
       "margin": null,
       "max_height": null,
       "max_width": null,
       "min_height": null,
       "min_width": null,
       "object_fit": null,
       "object_position": null,
       "order": null,
       "overflow": null,
       "padding": null,
       "right": null,
       "top": null,
       "visibility": null,
       "width": null
      }
     },
     "baeb57bfa33746fe8153d0026807831e": {
      "model_module": "@jupyter-widgets/base",
      "model_module_version": "2.0.0",
      "model_name": "LayoutModel",
      "state": {
       "_model_module": "@jupyter-widgets/base",
       "_model_module_version": "2.0.0",
       "_model_name": "LayoutModel",
       "_view_count": null,
       "_view_module": "@jupyter-widgets/base",
       "_view_module_version": "2.0.0",
       "_view_name": "LayoutView",
       "align_content": null,
       "align_items": null,
       "align_self": null,
       "border_bottom": null,
       "border_left": null,
       "border_right": null,
       "border_top": null,
       "bottom": null,
       "display": null,
       "flex": null,
       "flex_flow": null,
       "grid_area": null,
       "grid_auto_columns": null,
       "grid_auto_flow": null,
       "grid_auto_rows": null,
       "grid_column": null,
       "grid_gap": null,
       "grid_row": null,
       "grid_template_areas": null,
       "grid_template_columns": null,
       "grid_template_rows": null,
       "height": null,
       "justify_content": null,
       "justify_items": null,
       "left": null,
       "margin": null,
       "max_height": null,
       "max_width": null,
       "min_height": null,
       "min_width": null,
       "object_fit": null,
       "object_position": null,
       "order": null,
       "overflow": null,
       "padding": null,
       "right": null,
       "top": null,
       "visibility": null,
       "width": null
      }
     },
     "bb4b459279d04d56b0ee65bdb1a898d3": {
      "model_module": "@jupyter-widgets/controls",
      "model_module_version": "2.0.0",
      "model_name": "HTMLStyleModel",
      "state": {
       "_model_module": "@jupyter-widgets/controls",
       "_model_module_version": "2.0.0",
       "_model_name": "HTMLStyleModel",
       "_view_count": null,
       "_view_module": "@jupyter-widgets/base",
       "_view_module_version": "2.0.0",
       "_view_name": "StyleView",
       "background": null,
       "description_width": "",
       "font_size": null,
       "text_color": null
      }
     },
     "bca0ef7b613343e6a74276da438b04b5": {
      "model_module": "@jupyter-widgets/base",
      "model_module_version": "2.0.0",
      "model_name": "LayoutModel",
      "state": {
       "_model_module": "@jupyter-widgets/base",
       "_model_module_version": "2.0.0",
       "_model_name": "LayoutModel",
       "_view_count": null,
       "_view_module": "@jupyter-widgets/base",
       "_view_module_version": "2.0.0",
       "_view_name": "LayoutView",
       "align_content": null,
       "align_items": null,
       "align_self": null,
       "border_bottom": null,
       "border_left": null,
       "border_right": null,
       "border_top": null,
       "bottom": null,
       "display": null,
       "flex": null,
       "flex_flow": null,
       "grid_area": null,
       "grid_auto_columns": null,
       "grid_auto_flow": null,
       "grid_auto_rows": null,
       "grid_column": null,
       "grid_gap": null,
       "grid_row": null,
       "grid_template_areas": null,
       "grid_template_columns": null,
       "grid_template_rows": null,
       "height": null,
       "justify_content": null,
       "justify_items": null,
       "left": null,
       "margin": null,
       "max_height": null,
       "max_width": null,
       "min_height": null,
       "min_width": null,
       "object_fit": null,
       "object_position": null,
       "order": null,
       "overflow": null,
       "padding": null,
       "right": null,
       "top": null,
       "visibility": null,
       "width": null
      }
     },
     "d3a8efca047242feb3ecc8c7bea5e3da": {
      "model_module": "@jupyter-widgets/base",
      "model_module_version": "2.0.0",
      "model_name": "LayoutModel",
      "state": {
       "_model_module": "@jupyter-widgets/base",
       "_model_module_version": "2.0.0",
       "_model_name": "LayoutModel",
       "_view_count": null,
       "_view_module": "@jupyter-widgets/base",
       "_view_module_version": "2.0.0",
       "_view_name": "LayoutView",
       "align_content": null,
       "align_items": null,
       "align_self": null,
       "border_bottom": null,
       "border_left": null,
       "border_right": null,
       "border_top": null,
       "bottom": null,
       "display": null,
       "flex": null,
       "flex_flow": null,
       "grid_area": null,
       "grid_auto_columns": null,
       "grid_auto_flow": null,
       "grid_auto_rows": null,
       "grid_column": null,
       "grid_gap": null,
       "grid_row": null,
       "grid_template_areas": null,
       "grid_template_columns": null,
       "grid_template_rows": null,
       "height": null,
       "justify_content": null,
       "justify_items": null,
       "left": null,
       "margin": null,
       "max_height": null,
       "max_width": null,
       "min_height": null,
       "min_width": null,
       "object_fit": null,
       "object_position": null,
       "order": null,
       "overflow": null,
       "padding": null,
       "right": null,
       "top": null,
       "visibility": null,
       "width": null
      }
     },
     "d9e6113347a34d0482ba4ef04688f8aa": {
      "model_module": "@jupyter-widgets/controls",
      "model_module_version": "2.0.0",
      "model_name": "HTMLStyleModel",
      "state": {
       "_model_module": "@jupyter-widgets/controls",
       "_model_module_version": "2.0.0",
       "_model_name": "HTMLStyleModel",
       "_view_count": null,
       "_view_module": "@jupyter-widgets/base",
       "_view_module_version": "2.0.0",
       "_view_name": "StyleView",
       "background": null,
       "description_width": "",
       "font_size": null,
       "text_color": null
      }
     },
     "db1b598b444546019fcc1d2ffce15310": {
      "model_module": "@jupyter-widgets/base",
      "model_module_version": "2.0.0",
      "model_name": "LayoutModel",
      "state": {
       "_model_module": "@jupyter-widgets/base",
       "_model_module_version": "2.0.0",
       "_model_name": "LayoutModel",
       "_view_count": null,
       "_view_module": "@jupyter-widgets/base",
       "_view_module_version": "2.0.0",
       "_view_name": "LayoutView",
       "align_content": null,
       "align_items": null,
       "align_self": null,
       "border_bottom": null,
       "border_left": null,
       "border_right": null,
       "border_top": null,
       "bottom": null,
       "display": null,
       "flex": null,
       "flex_flow": null,
       "grid_area": null,
       "grid_auto_columns": null,
       "grid_auto_flow": null,
       "grid_auto_rows": null,
       "grid_column": null,
       "grid_gap": null,
       "grid_row": null,
       "grid_template_areas": null,
       "grid_template_columns": null,
       "grid_template_rows": null,
       "height": null,
       "justify_content": null,
       "justify_items": null,
       "left": null,
       "margin": null,
       "max_height": null,
       "max_width": null,
       "min_height": null,
       "min_width": null,
       "object_fit": null,
       "object_position": null,
       "order": null,
       "overflow": null,
       "padding": null,
       "right": null,
       "top": null,
       "visibility": null,
       "width": null
      }
     },
     "e2fb673519c2473fa405ac10cff477f0": {
      "model_module": "@jupyter-widgets/controls",
      "model_module_version": "2.0.0",
      "model_name": "HTMLStyleModel",
      "state": {
       "_model_module": "@jupyter-widgets/controls",
       "_model_module_version": "2.0.0",
       "_model_name": "HTMLStyleModel",
       "_view_count": null,
       "_view_module": "@jupyter-widgets/base",
       "_view_module_version": "2.0.0",
       "_view_name": "StyleView",
       "background": null,
       "description_width": "",
       "font_size": null,
       "text_color": null
      }
     },
     "e47e5e9f5f1d42b9b7610c689f506510": {
      "model_module": "@jupyter-widgets/controls",
      "model_module_version": "2.0.0",
      "model_name": "HTMLStyleModel",
      "state": {
       "_model_module": "@jupyter-widgets/controls",
       "_model_module_version": "2.0.0",
       "_model_name": "HTMLStyleModel",
       "_view_count": null,
       "_view_module": "@jupyter-widgets/base",
       "_view_module_version": "2.0.0",
       "_view_name": "StyleView",
       "background": null,
       "description_width": "",
       "font_size": null,
       "text_color": null
      }
     },
     "e7e63883e781461e906665d6d2b61aa0": {
      "model_module": "@jupyter-widgets/controls",
      "model_module_version": "2.0.0",
      "model_name": "HTMLModel",
      "state": {
       "_dom_classes": [],
       "_model_module": "@jupyter-widgets/controls",
       "_model_module_version": "2.0.0",
       "_model_name": "HTMLModel",
       "_view_count": null,
       "_view_module": "@jupyter-widgets/controls",
       "_view_module_version": "2.0.0",
       "_view_name": "HTMLView",
       "description": "",
       "description_allow_html": false,
       "layout": "IPY_MODEL_52dd5ee452fc48d7ac4af88a5d7a456d",
       "placeholder": "​",
       "style": "IPY_MODEL_12ae507d13c14e4dbfa6ee02a725c7c0",
       "tabbable": null,
       "tooltip": null,
       "value": "<h5><a href=\"https://github.com/jupyterlab/lumino\">jupyterlab/lumino</a></h5>\n<ul>\n<li><a href=\"https://github.com/jupyterlab/lumino/issues/744\">(#744)</a>: <em>CommandPalette reacts to notifyCommandChanged even when hidden</em> by <strong><a href=\"https://github.com/fcollonval\">@fcollonval</a></strong></li>\n<li><a href=\"https://github.com/jupyterlab/lumino/issues/740\">(#740)</a>: <em>Add link to examples from API Layout documentation</em> by <strong><a href=\"https://github.com/cmarmo\">@cmarmo</a></strong></li>\n<li><a href=\"https://github.com/jupyterlab/lumino/issues/749\">(#749)</a>: <em>Reinstate the API changes check in the workflow</em> by <strong><a href=\"https://github.com/jtpio\">@jtpio</a></strong></li>\n</ul>"
      }
     },
     "e95187ae4bde4ed99e3be6762ebe1f2f": {
      "model_module": "@jupyter-widgets/controls",
      "model_module_version": "2.0.0",
      "model_name": "HTMLStyleModel",
      "state": {
       "_model_module": "@jupyter-widgets/controls",
       "_model_module_version": "2.0.0",
       "_model_name": "HTMLStyleModel",
       "_view_count": null,
       "_view_module": "@jupyter-widgets/base",
       "_view_module_version": "2.0.0",
       "_view_name": "StyleView",
       "background": null,
       "description_width": "",
       "font_size": null,
       "text_color": null
      }
     },
     "ec4e1c965e964bbc87b0b26c0f73dfce": {
      "model_module": "@jupyter-widgets/controls",
      "model_module_version": "2.0.0",
      "model_name": "HTMLModel",
      "state": {
       "_dom_classes": [],
       "_model_module": "@jupyter-widgets/controls",
       "_model_module_version": "2.0.0",
       "_model_name": "HTMLModel",
       "_view_count": null,
       "_view_module": "@jupyter-widgets/controls",
       "_view_module_version": "2.0.0",
       "_view_name": "HTMLView",
       "description": "",
       "description_allow_html": false,
       "layout": "IPY_MODEL_651313813b3e4ce0a8acda1997cf1071",
       "placeholder": "​",
       "style": "IPY_MODEL_767832afef9948c4a3cb53a6b9f30a2d",
       "tabbable": null,
       "tooltip": null,
       "value": "<h4>Closed PRs for repo: <a href=\"https://github.com/jupyterlab/jupyterlab\">jupyterlab/jupyterlab</a></h4>\n<h5></h5>\n<ul>\n<li><a href=\"https://github.com/jupyterlab/jupyterlab/issues/16213\">(#16213)</a>: <em>Fix for unable to lock any extension</em> by <strong><a href=\"https://github.com/itsmevichu\">@itsmevichu</a></strong> merged by <strong><a href=\"https://github.com/krassowski\">@krassowski</a></strong></li>\n<li><a href=\"https://github.com/jupyterlab/jupyterlab/issues/17155\">(#17155)</a>: <em>Fix: Corrected ARIA Labels on MainAreaWidget.ts to show Context-Specific Content</em> by <strong><a href=\"https://github.com/hxrshxz\">@hxrshxz</a></strong> merged by <strong><a href=\"https://github.com/hxrshxz\">@hxrshxz</a></strong></li>\n<li><a href=\"https://github.com/jupyterlab/jupyterlab/issues/17162\">(#17162)</a>: <em>Heuristic for cell height now considers preferred text output types</em> by <strong><a href=\"https://github.com/hxrshxz\">@hxrshxz</a></strong> merged by <strong><a href=\"https://github.com/hxrshxz\">@hxrshxz</a></strong></li>\n<li><a href=\"https://github.com/jupyterlab/jupyterlab/issues/17194\">(#17194)</a>: <em>Fix for issue preventing cell metadata removal</em> by <strong><a href=\"https://github.com/itsmevichu\">@itsmevichu</a></strong> merged by <strong><a href=\"https://github.com/krassowski\">@krassowski</a></strong></li>\n<li><a href=\"https://github.com/jupyterlab/jupyterlab/issues/17210\">(#17210)</a>: <em>Fix browser tab name updates when started in single-document mode</em> by <strong><a href=\"https://github.com/Darshan808\">@Darshan808</a></strong> merged by <strong><a href=\"https://github.com/krassowski\">@krassowski</a></strong></li>\n<li><a href=\"https://github.com/jupyterlab/jupyterlab/issues/17217\">(#17217)</a>: <em>Improve UX for \"Rename on First Save\" Dialog</em> by <strong><a href=\"https://github.com/MUFFANUJ\">@MUFFANUJ</a></strong> merged by <strong><a href=\"https://github.com/krassowski\">@krassowski</a></strong></li>\n<li><a href=\"https://github.com/jupyterlab/jupyterlab/issues/17266\">(#17266)</a>: <em>Fix order of extensions in PyPI Extension Manager</em> by <strong><a href=\"https://github.com/Princekumarofficial\">@Princekumarofficial</a></strong> merged by <strong><a href=\"https://github.com/krassowski\">@krassowski</a></strong></li>\n<li><a href=\"https://github.com/jupyterlab/jupyterlab/issues/17298\">(#17298)</a>: <em>Updated enabling logic for run-all-below button on Notebook Panel</em> by <strong><a href=\"https://github.com/rsaditya01\">@rsaditya01</a></strong> merged by <strong><a href=\"https://github.com/krassowski\">@krassowski</a></strong></li>\n<li><a href=\"https://github.com/jupyterlab/jupyterlab/issues/17308\">(#17308)</a>: <em>Backport PR #17305 on branch 4.3.x (Bump dompurify to 3.2.4)</em> by <strong><a href=\"https://github.com/krassowski\">@krassowski</a></strong> merged by <strong><a href=\"https://github.com/krassowski\">@krassowski</a></strong></li>\n<li><a href=\"https://github.com/jupyterlab/jupyterlab/issues/17309\">(#17309)</a>: <em>Backport PR #17305 on branch 4.2.x (Bump dompurify to 3.2.4)</em> by <strong><a href=\"https://github.com/krassowski\">@krassowski</a></strong> merged by <strong><a href=\"https://github.com/krassowski\">@krassowski</a></strong></li>\n<li><a href=\"https://github.com/jupyterlab/jupyterlab/issues/17313\">(#17313)</a>: <em>Backport PR #17295 on branch 4.2.x (Bump vega from 5.24.0 to 5.26.0)</em> by <strong><a href=\"https://github.com/meeseeksmachine\">@meeseeksmachine</a></strong> merged by <strong><a href=\"https://github.com/krassowski\">@krassowski</a></strong></li>\n<li><a href=\"https://github.com/jupyterlab/jupyterlab/issues/17314\">(#17314)</a>: <em>Backport PR #17295 on branch 4.3.x (Bump vega from 5.24.0 to 5.26.0)</em> by <strong><a href=\"https://github.com/meeseeksmachine\">@meeseeksmachine</a></strong> merged by <strong><a href=\"https://github.com/krassowski\">@krassowski</a></strong></li>\n<li><a href=\"https://github.com/jupyterlab/jupyterlab/issues/17319\">(#17319)</a>: <em>Bump <code>semver</code> and <code>tough-cookie</code> to non-vulnerable versions</em> by <strong><a href=\"https://github.com/dlqqq\">@dlqqq</a></strong> merged by <strong><a href=\"https://github.com/krassowski\">@krassowski</a></strong></li>\n<li><a href=\"https://github.com/jupyterlab/jupyterlab/issues/17322\">(#17322)</a>: <em>Fix handling of a <code>null</code> banner in the code console</em> by <strong><a href=\"https://github.com/jtpio\">@jtpio</a></strong> merged by <strong><a href=\"https://github.com/krassowski\">@krassowski</a></strong></li>\n<li><a href=\"https://github.com/jupyterlab/jupyterlab/issues/17323\">(#17323)</a>: <em>Fix typo in LSP console message on kernel change</em> by <strong><a href=\"https://github.com/iisakkirotko\">@iisakkirotko</a></strong> merged by <strong><a href=\"https://github.com/krassowski\">@krassowski</a></strong></li>\n<li><a href=\"https://github.com/jupyterlab/jupyterlab/issues/17325\">(#17325)</a>: <em>Provide <code>ITranslatorConnector</code> via a separate plugin</em> by <strong><a href=\"https://github.com/jtpio\">@jtpio</a></strong> merged by <strong><a href=\"https://github.com/krassowski\">@krassowski</a></strong></li>\n<li><a href=\"https://github.com/jupyterlab/jupyterlab/issues/17326\">(#17326)</a>: <em>Backport PR #17319 on branch 4.3.x (Bump semver and tough-cookie to non-vulnerable versions)</em> by <strong><a href=\"https://github.com/dlqqq\">@dlqqq</a></strong> merged by <strong><a href=\"https://github.com/krassowski\">@krassowski</a></strong></li>\n<li><a href=\"https://github.com/jupyterlab/jupyterlab/issues/17327\">(#17327)</a>: <em>Provide <code>ISettingsConnector</code> via a separate plugin</em> by <strong><a href=\"https://github.com/jtpio\">@jtpio</a></strong> merged by <strong><a href=\"https://github.com/krassowski\">@krassowski</a></strong></li>\n<li><a href=\"https://github.com/jupyterlab/jupyterlab/issues/17328\">(#17328)</a>: <em>Normalize translator plugin ids</em> by <strong><a href=\"https://github.com/jtpio\">@jtpio</a></strong> merged by <strong><a href=\"https://github.com/krassowski\">@krassowski</a></strong></li>\n<li><a href=\"https://github.com/jupyterlab/jupyterlab/issues/17329\">(#17329)</a>: <em>Use <code>ITranslationConnector</code> to fetch the translations</em> by <strong><a href=\"https://github.com/jtpio\">@jtpio</a></strong> merged by <strong><a href=\"https://github.com/jtpio\">@jtpio</a></strong></li>\n<li><a href=\"https://github.com/jupyterlab/jupyterlab/issues/17330\">(#17330)</a>: <em>Backport PR #17194 on branch 4.3.x (Fix for issue preventing cell metadata removal)</em> by <strong><a href=\"https://github.com/meeseeksmachine\">@meeseeksmachine</a></strong> merged by <strong><a href=\"https://github.com/krassowski\">@krassowski</a></strong></li>\n<li><a href=\"https://github.com/jupyterlab/jupyterlab/issues/17332\">(#17332)</a>: <em>Fix heading levels in extension migration guide</em> by <strong><a href=\"https://github.com/krassowski\">@krassowski</a></strong> merged by <strong><a href=\"https://github.com/jtpio\">@jtpio</a></strong></li>\n<li><a href=\"https://github.com/jupyterlab/jupyterlab/issues/17334\">(#17334)</a>: <em>Backport PR #16787 on branch 4.2.x (Replace link to accessiblity project with a link to accessiblity issues)</em> by <strong><a href=\"https://github.com/meeseeksmachine\">@meeseeksmachine</a></strong> merged by <strong><a href=\"https://github.com/krassowski\">@krassowski</a></strong></li>\n<li><a href=\"https://github.com/jupyterlab/jupyterlab/issues/17336\">(#17336)</a>: <em>Clarify documentation on bot privileges for updating snapshots</em> by <strong><a href=\"https://github.com/Princekumarofficial\">@Princekumarofficial</a></strong> merged by <strong><a href=\"https://github.com/krassowski\">@krassowski</a></strong></li>\n<li><a href=\"https://github.com/jupyterlab/jupyterlab/issues/17337\">(#17337)</a>: <em>Fix HTML lang attribute</em> by <strong><a href=\"https://github.com/fcollonval\">@fcollonval</a></strong> merged by <strong><a href=\"https://github.com/krassowski\">@krassowski</a></strong></li>\n<li><a href=\"https://github.com/jupyterlab/jupyterlab/issues/17338\">(#17338)</a>: <em>Enforce plugin name convention and rename noncompliant plugins</em> by <strong><a href=\"https://github.com/jtpio\">@jtpio</a></strong> merged by <strong><a href=\"https://github.com/krassowski\">@krassowski</a></strong></li>\n<li><a href=\"https://github.com/jupyterlab/jupyterlab/issues/17339\">(#17339)</a>: <em>Improve scrolling edge cases</em> by <strong><a href=\"https://github.com/krassowski\">@krassowski</a></strong> merged by <strong><a href=\"https://github.com/krassowski\">@krassowski</a></strong></li>\n<li><a href=\"https://github.com/jupyterlab/jupyterlab/issues/17341\">(#17341)</a>: <em>Backport PR #17319 on branch 4.2.x (Bump semver and tough-cookie to non-vulnerable versions)</em> by <strong><a href=\"https://github.com/dlqqq\">@dlqqq</a></strong> merged by <strong><a href=\"https://github.com/krassowski\">@krassowski</a></strong></li>\n<li><a href=\"https://github.com/jupyterlab/jupyterlab/issues/17343\">(#17343)</a>: <em>Fix checkbox alignment in dialog using <code>display: flex</code></em> by <strong><a href=\"https://github.com/SatyajitRedekar\">@SatyajitRedekar</a></strong> merged by <strong><a href=\"https://github.com/krassowski\">@krassowski</a></strong></li>\n<li><a href=\"https://github.com/jupyterlab/jupyterlab/issues/17345\">(#17345)</a>: <em>Expose <code>ConfigSectionManager</code> via a plugin</em> by <strong><a href=\"https://github.com/jtpio\">@jtpio</a></strong> merged by <strong><a href=\"https://github.com/krassowski\">@krassowski</a></strong></li>\n<li><a href=\"https://github.com/jupyterlab/jupyterlab/issues/17346\">(#17346)</a>: <em>Backport PR #17336 on branch 4.3.x (Clarify documentation on bot privileges for updating snapshots)</em> by <strong><a href=\"https://github.com/meeseeksmachine\">@meeseeksmachine</a></strong> merged by <strong><a href=\"https://github.com/jtpio\">@jtpio</a></strong></li>\n<li><a href=\"https://github.com/jupyterlab/jupyterlab/issues/17348\">(#17348)</a>: <em>Add <code>IKernelAPIClient</code> and <code>ISessionAPIClient</code> as options for <code>Kernel.IManager</code> and <code>Session.IManager</code></em> by <strong><a href=\"https://github.com/jtpio\">@jtpio</a></strong> merged by <strong><a href=\"https://github.com/krassowski\">@krassowski</a></strong></li>\n<li><a href=\"https://github.com/jupyterlab/jupyterlab/issues/17350\">(#17350)</a>: <em>Add widget ID arg to semantic command invocations</em> by <strong><a href=\"https://github.com/afshin\">@afshin</a></strong> merged by <strong><a href=\"https://github.com/afshin\">@afshin</a></strong></li>\n<li><a href=\"https://github.com/jupyterlab/jupyterlab/issues/17352\">(#17352)</a>: <em>Add a setting to disable the context menu</em> by <strong><a href=\"https://github.com/afshin\">@afshin</a></strong> merged by <strong><a href=\"https://github.com/krassowski\">@krassowski</a></strong></li>\n<li><a href=\"https://github.com/jupyterlab/jupyterlab/issues/17353\">(#17353)</a>: <em>Bump the actions group with 2 updates</em> by <strong><a href=\"https://github.com/dependabot[bot]\">@dependabot[bot]</a></strong> merged by <strong><a href=\"https://github.com/jtpio\">@jtpio</a></strong></li>\n<li><a href=\"https://github.com/jupyterlab/jupyterlab/issues/17357\">(#17357)</a>: <em>Backport PR #17298 on branch 4.3.x (Updated enabling logic for run-all-below button on Notebook Panel)</em> by <strong><a href=\"https://github.com/meeseeksmachine\">@meeseeksmachine</a></strong> merged by <strong><a href=\"https://github.com/jtpio\">@jtpio</a></strong></li>\n<li><a href=\"https://github.com/jupyterlab/jupyterlab/issues/17359\">(#17359)</a>: <em>Use \"Move to Trash\" over \"Delete\" when contents manager's <code>delete_to_trash</code> is <code>True</code></em> by <strong><a href=\"https://github.com/jesuino\">@jesuino</a></strong> merged by <strong><a href=\"https://github.com/krassowski\">@krassowski</a></strong></li>\n<li><a href=\"https://github.com/jupyterlab/jupyterlab/issues/17360\">(#17360)</a>: <em>[pre-commit.ci] pre-commit autoupdate</em> by <strong><a href=\"https://github.com/pre-commit-ci[bot]\">@pre-commit-ci[bot]</a></strong> merged by <strong><a href=\"https://github.com/jtpio\">@jtpio</a></strong></li>\n<li><a href=\"https://github.com/jupyterlab/jupyterlab/issues/17361\">(#17361)</a>: <em>Move the licenses plugin to <code>apputils-extension</code></em> by <strong><a href=\"https://github.com/jtpio\">@jtpio</a></strong> merged by <strong><a href=\"https://github.com/krassowski\">@krassowski</a></strong></li>\n<li><a href=\"https://github.com/jupyterlab/jupyterlab/issues/17363\">(#17363)</a>: <em>If subshells are supported by the kernel, send comm messages to subshells</em> by <strong><a href=\"https://github.com/martinRenou\">@martinRenou</a></strong> merged by <strong><a href=\"https://github.com/krassowski\">@krassowski</a></strong></li>\n<li><a href=\"https://github.com/jupyterlab/jupyterlab/issues/17364\">(#17364)</a>: <em>Sort the list of plugins and tokens in the documentation</em> by <strong><a href=\"https://github.com/jtpio\">@jtpio</a></strong> merged by <strong><a href=\"https://github.com/krassowski\">@krassowski</a></strong></li>\n<li><a href=\"https://github.com/jupyterlab/jupyterlab/issues/17367\">(#17367)</a>: <em>Require <code>JupyterLab.IInfo</code> for the plugin manager plugin</em> by <strong><a href=\"https://github.com/jtpio\">@jtpio</a></strong> merged by <strong><a href=\"https://github.com/jtpio\">@jtpio</a></strong></li>\n<li><a href=\"https://github.com/jupyterlab/jupyterlab/issues/17368\">(#17368)</a>: <em>User-facing changelog for 4.4</em> by <strong><a href=\"https://github.com/krassowski\">@krassowski</a></strong> merged by <strong><a href=\"https://github.com/jtpio\">@jtpio</a></strong></li>\n<li><a href=\"https://github.com/jupyterlab/jupyterlab/issues/17369\">(#17369)</a>: <em>Fix cell output stream if previous chunk did not end in new line</em> by <strong><a href=\"https://github.com/davidbrochart\">@davidbrochart</a></strong> merged by <strong><a href=\"https://github.com/krassowski\">@krassowski</a></strong></li>\n<li><a href=\"https://github.com/jupyterlab/jupyterlab/issues/17371\">(#17371)</a>: <em>Fix rendering URLs as linked in errors</em> by <strong><a href=\"https://github.com/afshin\">@afshin</a></strong> merged by <strong><a href=\"https://github.com/krassowski\">@krassowski</a></strong></li>\n<li><a href=\"https://github.com/jupyterlab/jupyterlab/issues/17372\">(#17372)</a>: <em>Update to Playwright 1.51.0</em> by <strong><a href=\"https://github.com/jtpio\">@jtpio</a></strong> merged by <strong><a href=\"https://github.com/jtpio\">@jtpio</a></strong></li>\n<li><a href=\"https://github.com/jupyterlab/jupyterlab/issues/17376\">(#17376)</a>: <em>Add pip as a dependency</em> by <strong><a href=\"https://github.com/simonw\">@simonw</a></strong> merged by <strong><a href=\"https://github.com/simonw\">@simonw</a></strong></li>\n<li><a href=\"https://github.com/jupyterlab/jupyterlab/issues/17379\">(#17379)</a>: <em>Update the copyright year to 2025</em> by <strong><a href=\"https://github.com/jtpio\">@jtpio</a></strong> merged by <strong><a href=\"https://github.com/krassowski\">@krassowski</a></strong></li>\n<li><a href=\"https://github.com/jupyterlab/jupyterlab/issues/17380\">(#17380)</a>: <em>Bump axios from 1.7.4 to 1.8.2</em> by <strong><a href=\"https://github.com/dependabot[bot]\">@dependabot[bot]</a></strong> merged by <strong><a href=\"https://github.com/jtpio\">@jtpio</a></strong></li>\n<li><a href=\"https://github.com/jupyterlab/jupyterlab/issues/17383\">(#17383)</a>: <em>[4.3.x] Update reference snapshots</em> by <strong><a href=\"https://github.com/jtpio\">@jtpio</a></strong> merged by <strong><a href=\"https://github.com/jtpio\">@jtpio</a></strong></li>\n<li><a href=\"https://github.com/jupyterlab/jupyterlab/issues/17384\">(#17384)</a>: <em>Bump @babel/runtime from 7.21.0 to 7.26.10 in /jupyterlab/staging</em> by <strong><a href=\"https://github.com/dependabot[bot]\">@dependabot[bot]</a></strong> merged by <strong><a href=\"https://github.com/jtpio\">@jtpio</a></strong></li>\n<li><a href=\"https://github.com/jupyterlab/jupyterlab/issues/17385\">(#17385)</a>: <em>Bump @babel/helpers from 7.21.0 to 7.26.10</em> by <strong><a href=\"https://github.com/dependabot[bot]\">@dependabot[bot]</a></strong> merged by <strong><a href=\"https://github.com/krassowski\">@krassowski</a></strong></li>\n<li><a href=\"https://github.com/jupyterlab/jupyterlab/issues/17387\">(#17387)</a>: <em>Bump nanoid from 3.3.7 to 3.3.9 in /jupyterlab/tests/mock_packages/test_no_hyphens</em> by <strong><a href=\"https://github.com/dependabot[bot]\">@dependabot[bot]</a></strong> merged by <strong><a href=\"https://github.com/krassowski\">@krassowski</a></strong></li>\n<li><a href=\"https://github.com/jupyterlab/jupyterlab/issues/17391\">(#17391)</a>: <em>Backport PR #17369 on branch 4.3.x (Fix cell output stream if previous chunk did not end in new line)</em> by <strong><a href=\"https://github.com/meeseeksmachine\">@meeseeksmachine</a></strong> merged by <strong><a href=\"https://github.com/krassowski\">@krassowski</a></strong></li>\n<li><a href=\"https://github.com/jupyterlab/jupyterlab/issues/17392\">(#17392)</a>: <em>Update changelog links, add new code console screenshot</em> by <strong><a href=\"https://github.com/jtpio\">@jtpio</a></strong> merged by <strong><a href=\"https://github.com/jtpio\">@jtpio</a></strong></li>\n<li><a href=\"https://github.com/jupyterlab/jupyterlab/issues/17395\">(#17395)</a>: <em>Add <code>IKernelSpecAPICLient</code> and <code>ITerminalAPIClient</code>, fix definitions of interfaces</em> by <strong><a href=\"https://github.com/jtpio\">@jtpio</a></strong> merged by <strong><a href=\"https://github.com/krassowski\">@krassowski</a></strong></li>\n<li><a href=\"https://github.com/jupyterlab/jupyterlab/issues/17396\">(#17396)</a>: <em>Update to mermaid 11.6.0, marked 15.0.7</em> by <strong><a href=\"https://github.com/bollwyvl\">@bollwyvl</a></strong> merged by <strong><a href=\"https://github.com/krassowski\">@krassowski</a></strong></li>\n<li><a href=\"https://github.com/jupyterlab/jupyterlab/issues/17397\">(#17397)</a>: <em>Fix definition of the <code>ILicensesClient</code> interface</em> by <strong><a href=\"https://github.com/jtpio\">@jtpio</a></strong> merged by <strong><a href=\"https://github.com/krassowski\">@krassowski</a></strong></li>\n<li><a href=\"https://github.com/jupyterlab/jupyterlab/issues/17398\">(#17398)</a>: <em>Remove workflow using <code>tj-actions/changed-files</code></em> by <strong><a href=\"https://github.com/jtpio\">@jtpio</a></strong> merged by <strong><a href=\"https://github.com/jtpio\">@jtpio</a></strong></li>\n<li><a href=\"https://github.com/jupyterlab/jupyterlab/issues/17399\">(#17399)</a>: <em>Remove workflow using <code>tj-actions/changed-files</code></em> by <strong><a href=\"https://github.com/jtpio\">@jtpio</a></strong> merged by <strong><a href=\"https://github.com/jtpio\">@jtpio</a></strong></li>\n<li><a href=\"https://github.com/jupyterlab/jupyterlab/issues/17400\">(#17400)</a>: <em>Remove workflow using <code>tj-actions/changed-files</code></em> by <strong><a href=\"https://github.com/jtpio\">@jtpio</a></strong> merged by <strong><a href=\"https://github.com/jtpio\">@jtpio</a></strong></li>\n<li><a href=\"https://github.com/jupyterlab/jupyterlab/issues/17401\">(#17401)</a>: <em>Remove workflow using <code>tj-actions/changed-files</code></em> by <strong><a href=\"https://github.com/jtpio\">@jtpio</a></strong> merged by <strong><a href=\"https://github.com/jtpio\">@jtpio</a></strong></li>\n<li><a href=\"https://github.com/jupyterlab/jupyterlab/issues/17402\">(#17402)</a>: <em>Remove workflow using <code>tj-actions/changed-files</code></em> by <strong><a href=\"https://github.com/jtpio\">@jtpio</a></strong> merged by <strong><a href=\"https://github.com/jtpio\">@jtpio</a></strong></li>\n<li><a href=\"https://github.com/jupyterlab/jupyterlab/issues/17404\">(#17404)</a>: <em>Backport PR #17371 on branch 4.3.x (Fix rendering URLs as linked in errors)</em> by <strong><a href=\"https://github.com/meeseeksmachine\">@meeseeksmachine</a></strong> merged by <strong><a href=\"https://github.com/krassowski\">@krassowski</a></strong></li>\n<li><a href=\"https://github.com/jupyterlab/jupyterlab/issues/17405\">(#17405)</a>: <em>Fix handling of the CSV viewer theme</em> by <strong><a href=\"https://github.com/jtpio\">@jtpio</a></strong> merged by <strong><a href=\"https://github.com/krassowski\">@krassowski</a></strong></li>\n<li><a href=\"https://github.com/jupyterlab/jupyterlab/issues/17408\">(#17408)</a>: <em>Allow <code>grid</code> and <code>flexbox</code> style attributes during Markdown/HTML sanitization</em> by <strong><a href=\"https://github.com/dotnetautor\">@dotnetautor</a></strong> merged by <strong><a href=\"https://github.com/krassowski\">@krassowski</a></strong></li>\n<li><a href=\"https://github.com/jupyterlab/jupyterlab/issues/17413\">(#17413)</a>: <em>More specific selector for \"Copy Output to Clipboard\"</em> by <strong><a href=\"https://github.com/jtpio\">@jtpio</a></strong> merged by <strong><a href=\"https://github.com/krassowski\">@krassowski</a></strong></li>\n<li><a href=\"https://github.com/jupyterlab/jupyterlab/issues/17414\">(#17414)</a>: <em>Fix types in translation package, remove usages of <code>any</code></em> by <strong><a href=\"https://github.com/krassowski\">@krassowski</a></strong> merged by <strong><a href=\"https://github.com/krassowski\">@krassowski</a></strong></li>\n<li><a href=\"https://github.com/jupyterlab/jupyterlab/issues/17415\">(#17415)</a>: <em>Create \"Kernels\" section, split statusbar settings</em> by <strong><a href=\"https://github.com/krassowski\">@krassowski</a></strong> merged by <strong><a href=\"https://github.com/krassowski\">@krassowski</a></strong></li>\n<li><a href=\"https://github.com/jupyterlab/jupyterlab/issues/17416\">(#17416)</a>: <em>Create Joey</em> by <strong><a href=\"https://github.com/ghost\">@ghost</a></strong> merged by <strong><a href=\"https://github.com/krassowski\">@krassowski</a></strong></li>\n<li><a href=\"https://github.com/jupyterlab/jupyterlab/issues/17418\">(#17418)</a>: <em>Backport PR #17413 on branch 4.3.x (More specific selector for \"Copy Output to Clipboard\")</em> by <strong><a href=\"https://github.com/meeseeksmachine\">@meeseeksmachine</a></strong> merged by <strong><a href=\"https://github.com/krassowski\">@krassowski</a></strong></li>\n<li><a href=\"https://github.com/jupyterlab/jupyterlab/issues/17421\">(#17421)</a>: <em>Fix for filebrowser tooltip rendering the kernel info repeatedly</em> by <strong><a href=\"https://github.com/itsmevichu\">@itsmevichu</a></strong> merged by <strong><a href=\"https://github.com/krassowski\">@krassowski</a></strong></li>\n<li><a href=\"https://github.com/jupyterlab/jupyterlab/issues/17429\">(#17429)</a>: <em>Fix document search matching text within unsupported SVG tags</em> by <strong><a href=\"https://github.com/achhina\">@achhina</a></strong> merged by <strong><a href=\"https://github.com/krassowski\">@krassowski</a></strong></li>\n<li><a href=\"https://github.com/jupyterlab/jupyterlab/issues/17430\">(#17430)</a>: <em>Make <code>ILabShell</code> optional in the logconsole extension</em> by <strong><a href=\"https://github.com/jtpio\">@jtpio</a></strong> merged by <strong><a href=\"https://github.com/krassowski\">@krassowski</a></strong></li>\n<li><a href=\"https://github.com/jupyterlab/jupyterlab/issues/17432\">(#17432)</a>: <em>fix: packages/docmanager/package.json to reduce vulnerabilities</em> by <strong><a href=\"https://github.com/YvesNDIKURIYO-2022\">@YvesNDIKURIYO-2022</a></strong> merged by <strong><a href=\"https://github.com/krassowski\">@krassowski</a></strong></li>\n<li><a href=\"https://github.com/jupyterlab/jupyterlab/issues/17436\">(#17436)</a>: <em>Bump vega from 5.31.0 to 5.32.0</em> by <strong><a href=\"https://github.com/dependabot[bot]\">@dependabot[bot]</a></strong> merged by <strong><a href=\"https://github.com/krassowski\">@krassowski</a></strong></li>\n<li><a href=\"https://github.com/jupyterlab/jupyterlab/issues/17437\">(#17437)</a>: <em>Fix usage of <code>ITerminalAPIClient</code> in <code>TerminalConnection</code></em> by <strong><a href=\"https://github.com/jtpio\">@jtpio</a></strong> merged by <strong><a href=\"https://github.com/jtpio\">@jtpio</a></strong></li>\n<li><a href=\"https://github.com/jupyterlab/jupyterlab/issues/17438\">(#17438)</a>: <em>Fix visual indication for drag and drop in editor</em> by <strong><a href=\"https://github.com/MUFFANUJ\">@MUFFANUJ</a></strong> merged by <strong><a href=\"https://github.com/krassowski\">@krassowski</a></strong></li>\n<li><a href=\"https://github.com/jupyterlab/jupyterlab/issues/17440\">(#17440)</a>: <em>Fix read-only indicator not showing in RTC docprovider</em> by <strong><a href=\"https://github.com/Darshan808\">@Darshan808</a></strong> merged by <strong><a href=\"https://github.com/krassowski\">@krassowski</a></strong></li>\n<li><a href=\"https://github.com/jupyterlab/jupyterlab/issues/17441\">(#17441)</a>: <em>Add distinct accessible aria label for each toolbar</em> by <strong><a href=\"https://github.com/nkn2022\">@nkn2022</a></strong> merged by <strong><a href=\"https://github.com/krassowski\">@krassowski</a></strong></li>\n<li><a href=\"https://github.com/jupyterlab/jupyterlab/issues/17442\">(#17442)</a>: <em>Fix CommandPalette gets re-rendered even if hidden</em> by <strong><a href=\"https://github.com/fcollonval\">@fcollonval</a></strong> merged by <strong><a href=\"https://github.com/krassowski\">@krassowski</a></strong></li>\n<li><a href=\"https://github.com/jupyterlab/jupyterlab/issues/17443\">(#17443)</a>: <em>Bump vega from 5.31.0 to 5.33.0 in /jupyterlab/staging</em> by <strong><a href=\"https://github.com/dependabot[bot]\">@dependabot[bot]</a></strong> merged by <strong><a href=\"https://github.com/krassowski\">@krassowski</a></strong></li>\n<li><a href=\"https://github.com/jupyterlab/jupyterlab/issues/17444\">(#17444)</a>: <em>Do not try to prettier <code>.mypy_cache</code></em> by <strong><a href=\"https://github.com/krassowski\">@krassowski</a></strong> merged by <strong><a href=\"https://github.com/jtpio\">@jtpio</a></strong></li>\n<li><a href=\"https://github.com/jupyterlab/jupyterlab/issues/17445\">(#17445)</a>: <em>Use the system clipboard for copying and pasting cells</em> by <strong><a href=\"https://github.com/yacchin1205\">@yacchin1205</a></strong> merged by <strong><a href=\"https://github.com/krassowski\">@krassowski</a></strong></li>\n<li><a href=\"https://github.com/jupyterlab/jupyterlab/issues/17448\">(#17448)</a>: <em>Bump nanoid from 3.3.7 to 3.3.11 in /jupyterlab/tests/mock_packages/test-hyphens-underscore</em> by <strong><a href=\"https://github.com/dependabot[bot]\">@dependabot[bot]</a></strong> merged by <strong><a href=\"https://github.com/krassowski\">@krassowski</a></strong></li>\n<li><a href=\"https://github.com/jupyterlab/jupyterlab/issues/17453\">(#17453)</a>: <em>Remove dependencies for Python &lt; 3.9</em> by <strong><a href=\"https://github.com/bnavigator\">@bnavigator</a></strong> merged by <strong><a href=\"https://github.com/jtpio\">@jtpio</a></strong></li>\n<li><a href=\"https://github.com/jupyterlab/jupyterlab/issues/17454\">(#17454)</a>: <em>[pre-commit.ci] pre-commit autoupdate</em> by <strong><a href=\"https://github.com/pre-commit-ci[bot]\">@pre-commit-ci[bot]</a></strong> merged by <strong><a href=\"https://github.com/jtpio\">@jtpio</a></strong></li>\n<li><a href=\"https://github.com/jupyterlab/jupyterlab/issues/17457\">(#17457)</a>: <em>Fix <code>@jupyterlab/services</code> import</em> by <strong><a href=\"https://github.com/jtpio\">@jtpio</a></strong> merged by <strong><a href=\"https://github.com/krassowski\">@krassowski</a></strong></li>\n<li><a href=\"https://github.com/jupyterlab/jupyterlab/issues/17463\">(#17463)</a>: <em>Backport PR #17429 on branch 4.3.x (Fix document search matching text within unsupported SVG tags)</em> by <strong><a href=\"https://github.com/meeseeksmachine\">@meeseeksmachine</a></strong> merged by <strong><a href=\"https://github.com/krassowski\">@krassowski</a></strong></li>\n<li><a href=\"https://github.com/jupyterlab/jupyterlab/issues/17466\">(#17466)</a>: <em>Fix incorrect modifications in collaborative save events</em> by <strong><a href=\"https://github.com/Darshan808\">@Darshan808</a></strong> merged by <strong><a href=\"https://github.com/krassowski\">@krassowski</a></strong></li>\n<li><a href=\"https://github.com/jupyterlab/jupyterlab/issues/17468\">(#17468)</a>: <em>Backport PR #17466 on branch 4.3.x (Fix incorrect modifications in collaborative save events)</em> by <strong><a href=\"https://github.com/meeseeksmachine\">@meeseeksmachine</a></strong> merged by <strong><a href=\"https://github.com/krassowski\">@krassowski</a></strong></li>\n<li><a href=\"https://github.com/jupyterlab/jupyterlab/issues/17469\">(#17469)</a>: <em>Follow changes to stream outputs</em> by <strong><a href=\"https://github.com/davidbrochart\">@davidbrochart</a></strong> merged by <strong><a href=\"https://github.com/krassowski\">@krassowski</a></strong></li>\n<li><a href=\"https://github.com/jupyterlab/jupyterlab/issues/17472\">(#17472)</a>: <em>Add <code>aria-hidden</code> to icons (<code>&lt;svg&gt;</code> elements) which do not have a <code>title</code></em> by <strong><a href=\"https://github.com/nkn2022\">@nkn2022</a></strong> merged by <strong><a href=\"https://github.com/krassowski\">@krassowski</a></strong></li>\n<li><a href=\"https://github.com/jupyterlab/jupyterlab/issues/17475\">(#17475)</a>: <em>Fix handling of the single click navigation</em> by <strong><a href=\"https://github.com/jtpio\">@jtpio</a></strong> merged by <strong><a href=\"https://github.com/afshin\">@afshin</a></strong></li>\n<li><a href=\"https://github.com/jupyterlab/jupyterlab/issues/17476\">(#17476)</a>: <em>Reorder <code>extra_labextensions_path</code> to favor defaults</em> by <strong><a href=\"https://github.com/peytondmurray\">@peytondmurray</a></strong> merged by <strong><a href=\"https://github.com/krassowski\">@krassowski</a></strong></li>\n<li><a href=\"https://github.com/jupyterlab/jupyterlab/issues/17477\">(#17477)</a>: <em>Fix token extraction for incomplete paths</em> by <strong><a href=\"https://github.com/DenisaCG\">@DenisaCG</a></strong> merged by <strong><a href=\"https://github.com/krassowski\">@krassowski</a></strong></li>\n<li><a href=\"https://github.com/jupyterlab/jupyterlab/issues/17481\">(#17481)</a>: <em>Add test for stream outputs</em> by <strong><a href=\"https://github.com/davidbrochart\">@davidbrochart</a></strong> merged by <strong><a href=\"https://github.com/davidbrochart\">@davidbrochart</a></strong></li>\n<li><a href=\"https://github.com/jupyterlab/jupyterlab/issues/17482\">(#17482)</a>: <em>Add an optional <code>exportAs</code> method to <code>NbConvert.IManager</code></em> by <strong><a href=\"https://github.com/jtpio\">@jtpio</a></strong> merged by <strong><a href=\"https://github.com/krassowski\">@krassowski</a></strong></li>\n<li><a href=\"https://github.com/jupyterlab/jupyterlab/issues/17483\">(#17483)</a>: <em>Update to Playwright 1.52.0</em> by <strong><a href=\"https://github.com/jtpio\">@jtpio</a></strong> merged by <strong><a href=\"https://github.com/jtpio\">@jtpio</a></strong></li>\n<li><a href=\"https://github.com/jupyterlab/jupyterlab/issues/17486\">(#17486)</a>: <em>Fix undo/redo in cells created in <code>none</code> windowing mode</em> by <strong><a href=\"https://github.com/krassowski\">@krassowski</a></strong> merged by <strong><a href=\"https://github.com/jtpio\">@jtpio</a></strong></li>\n<li><a href=\"https://github.com/jupyterlab/jupyterlab/issues/17487\">(#17487)</a>: <em>Add new CSS rule for expanding linked output to 100% height</em> by <strong><a href=\"https://github.com/SylvainCorlay\">@SylvainCorlay</a></strong> merged by <strong><a href=\"https://github.com/krassowski\">@krassowski</a></strong></li>\n<li><a href=\"https://github.com/jupyterlab/jupyterlab/issues/17491\">(#17491)</a>: <em>Bump @babel/runtime from 7.21.0 to 7.27.0</em> by <strong><a href=\"https://github.com/dependabot[bot]\">@dependabot[bot]</a></strong> merged by <strong><a href=\"https://github.com/krassowski\">@krassowski</a></strong></li>\n<li><a href=\"https://github.com/jupyterlab/jupyterlab/issues/17492\">(#17492)</a>: <em>Backport PR #17486 on branch 4.3.x (Fix undo/redo in cells created in none windowing mode)</em> by <strong><a href=\"https://github.com/krassowski\">@krassowski</a></strong> merged by <strong><a href=\"https://github.com/krassowski\">@krassowski</a></strong></li>\n<li><a href=\"https://github.com/jupyterlab/jupyterlab/issues/17494\">(#17494)</a>: <em>Bump webpack from 5.91.0 to 5.99.6 in /jupyterlab/tests/mock_packages/test_no_hyphens</em> by <strong><a href=\"https://github.com/dependabot[bot]\">@dependabot[bot]</a></strong> merged by <strong><a href=\"https://github.com/krassowski\">@krassowski</a></strong></li>\n<li><a href=\"https://github.com/jupyterlab/jupyterlab/issues/17495\">(#17495)</a>: <em>Bump webpack from 5.91.0 to 5.99.6 in /jupyterlab/tests/mock_packages/test-hyphens-underscore</em> by <strong><a href=\"https://github.com/dependabot[bot]\">@dependabot[bot]</a></strong> merged by <strong><a href=\"https://github.com/krassowski\">@krassowski</a></strong></li>\n<li><a href=\"https://github.com/jupyterlab/jupyterlab/issues/17499\">(#17499)</a>: <em>Bump ws from 8.16.0 to 8.18.1 in /jupyterlab/tests/mock_packages/test_no_hyphens</em> by <strong><a href=\"https://github.com/dependabot[bot]\">@dependabot[bot]</a></strong> merged by <strong><a href=\"https://github.com/krassowski\">@krassowski</a></strong></li>\n<li><a href=\"https://github.com/jupyterlab/jupyterlab/issues/17500\">(#17500)</a>: <em>Bump ws from 8.16.0 to 8.18.1 in /jupyterlab/tests/mock_packages/test-hyphens-underscore</em> by <strong><a href=\"https://github.com/dependabot[bot]\">@dependabot[bot]</a></strong> merged by <strong><a href=\"https://github.com/krassowski\">@krassowski</a></strong></li>\n<li><a href=\"https://github.com/jupyterlab/jupyterlab/issues/17502\">(#17502)</a>: <em>Bump tough-cookie from 4.1.2 to 4.1.4</em> by <strong><a href=\"https://github.com/dependabot[bot]\">@dependabot[bot]</a></strong> merged by <strong><a href=\"https://github.com/krassowski\">@krassowski</a></strong></li>\n<li><a href=\"https://github.com/jupyterlab/jupyterlab/issues/17503\">(#17503)</a>: <em>Backport PR #17502 on branch 4.4.x (Bump tough-cookie from 4.1.2 to 4.1.4)</em> by <strong><a href=\"https://github.com/meeseeksmachine\">@meeseeksmachine</a></strong> merged by <strong><a href=\"https://github.com/krassowski\">@krassowski</a></strong></li>\n<li><a href=\"https://github.com/jupyterlab/jupyterlab/issues/17505\">(#17505)</a>: <em>Add new entry to Postmortems in <code>RELEASE.md</code></em> by <strong><a href=\"https://github.com/jtpio\">@jtpio</a></strong> merged by <strong><a href=\"https://github.com/krassowski\">@krassowski</a></strong></li>\n<li><a href=\"https://github.com/jupyterlab/jupyterlab/issues/17511\">(#17511)</a>: <em>Fix editing shortcuts on Safari (allow shortcut edit button to receive focus)</em> by <strong><a href=\"https://github.com/minrk\">@minrk</a></strong> merged by <strong><a href=\"https://github.com/krassowski\">@krassowski</a></strong></li>\n<li><a href=\"https://github.com/jupyterlab/jupyterlab/issues/17512\">(#17512)</a>: <em>Backport PR #17511 on branch 4.3.x (Fix editing shortcuts on Safari (allow shortcut edit button to receive focus))</em> by <strong><a href=\"https://github.com/meeseeksmachine\">@meeseeksmachine</a></strong> merged by <strong><a href=\"https://github.com/jtpio\">@jtpio</a></strong></li>\n<li><a href=\"https://github.com/jupyterlab/jupyterlab/issues/17513\">(#17513)</a>: <em>Backport PR #17511 on branch 4.4.x (Fix editing shortcuts on Safari (allow shortcut edit button to receive focus))</em> by <strong><a href=\"https://github.com/meeseeksmachine\">@meeseeksmachine</a></strong> merged by <strong><a href=\"https://github.com/krassowski\">@krassowski</a></strong></li>\n<li><a href=\"https://github.com/jupyterlab/jupyterlab/issues/17519\">(#17519)</a>: <em>Update lower bound for <code>setuptools</code></em> by <strong><a href=\"https://github.com/jtpio\">@jtpio</a></strong> merged by <strong><a href=\"https://github.com/jtpio\">@jtpio</a></strong></li>\n<li><a href=\"https://github.com/jupyterlab/jupyterlab/issues/17520\">(#17520)</a>: <em>Backport PR #17219 on branch 4.3.x (Updated mock packages to use hatch-jupyter-builder)</em> by <strong><a href=\"https://github.com/meeseeksmachine\">@meeseeksmachine</a></strong> merged by <strong><a href=\"https://github.com/krassowski\">@krassowski</a></strong></li>\n<li><a href=\"https://github.com/jupyterlab/jupyterlab/issues/17522\">(#17522)</a>: <em>[4.3.x] Drop 3.8 from the testing matrix</em> by <strong><a href=\"https://github.com/jtpio\">@jtpio</a></strong> merged by <strong><a href=\"https://github.com/jtpio\">@jtpio</a></strong></li>\n<li><a href=\"https://github.com/jupyterlab/jupyterlab/issues/17523\">(#17523)</a>: <em>Backport PR #17472 on branch 4.4.x (Add <code>aria-hidden</code> to icons (<code>&lt;svg&gt;</code> elements) which do not have a <code>title</code>)</em> by <strong><a href=\"https://github.com/meeseeksmachine\">@meeseeksmachine</a></strong> merged by <strong><a href=\"https://github.com/krassowski\">@krassowski</a></strong></li>\n<li><a href=\"https://github.com/jupyterlab/jupyterlab/issues/17525\">(#17525)</a>: <em>Update lumino to <code>v2025.4.30</code> to pull menu aria fix</em> by <strong><a href=\"https://github.com/krassowski\">@krassowski</a></strong> merged by <strong><a href=\"https://github.com/krassowski\">@krassowski</a></strong></li>\n<li><a href=\"https://github.com/jupyterlab/jupyterlab/issues/17526\">(#17526)</a>: <em>Upgrade CodeMirror packages to latest</em> by <strong><a href=\"https://github.com/krassowski\">@krassowski</a></strong> merged by <strong><a href=\"https://github.com/krassowski\">@krassowski</a></strong></li>\n<li><a href=\"https://github.com/jupyterlab/jupyterlab/issues/17527\">(#17527)</a>: <em>Fix incorrect ARIA labels in the <code>MainAreaWidget</code></em> by <strong><a href=\"https://github.com/dnlzrgz\">@dnlzrgz</a></strong> merged by <strong><a href=\"https://github.com/krassowski\">@krassowski</a></strong></li>\n<li><a href=\"https://github.com/jupyterlab/jupyterlab/issues/17528\">(#17528)</a>: <em>Fix rendering of long cell editors in windowed notebook</em> by <strong><a href=\"https://github.com/krassowski\">@krassowski</a></strong> merged by <strong><a href=\"https://github.com/krassowski\">@krassowski</a></strong></li>\n<li><a href=\"https://github.com/jupyterlab/jupyterlab/issues/17529\">(#17529)</a>: <em>Bump actions/create-github-app-token from 1 to 2 in the actions group</em> by <strong><a href=\"https://github.com/dependabot[bot]\">@dependabot[bot]</a></strong> merged by <strong><a href=\"https://github.com/krassowski\">@krassowski</a></strong></li>\n<li><a href=\"https://github.com/jupyterlab/jupyterlab/issues/17531\">(#17531)</a>: <em>Backport PR #17528 on branch 4.4.x (Fix rendering of long cell editors in windowed notebook)</em> by <strong><a href=\"https://github.com/meeseeksmachine\">@meeseeksmachine</a></strong> merged by <strong><a href=\"https://github.com/krassowski\">@krassowski</a></strong></li>\n<li><a href=\"https://github.com/jupyterlab/jupyterlab/issues/17532\">(#17532)</a>: <em>Update widget flag on attaching cell to viewport</em> by <strong><a href=\"https://github.com/trungleduc\">@trungleduc</a></strong> merged by <strong><a href=\"https://github.com/krassowski\">@krassowski</a></strong></li>\n<li><a href=\"https://github.com/jupyterlab/jupyterlab/issues/17533\">(#17533)</a>: <em>Backport PR #17525 on branch 4.4.x (Update lumino to <code>v2025.4.30</code> to pull menu aria fix)</em> by <strong><a href=\"https://github.com/meeseeksmachine\">@meeseeksmachine</a></strong> merged by <strong><a href=\"https://github.com/krassowski\">@krassowski</a></strong></li>\n<li><a href=\"https://github.com/jupyterlab/jupyterlab/issues/17534\">(#17534)</a>: <em>Backport PR #17532 on branch 4.4.x (Update widget flag on attaching cell to viewport)</em> by <strong><a href=\"https://github.com/meeseeksmachine\">@meeseeksmachine</a></strong> merged by <strong><a href=\"https://github.com/krassowski\">@krassowski</a></strong></li>\n<li><a href=\"https://github.com/jupyterlab/jupyterlab/issues/17535\">(#17535)</a>: <em>Backport PR #17526 on branch 4.4.x (Upgrade CodeMirror packages to latest)</em> by <strong><a href=\"https://github.com/meeseeksmachine\">@meeseeksmachine</a></strong> merged by <strong><a href=\"https://github.com/krassowski\">@krassowski</a></strong></li>\n<li><a href=\"https://github.com/jupyterlab/jupyterlab/issues/17536\">(#17536)</a>: <em>Reconfigure 4.3.x branch (4.4.x is new stable)</em> by <strong><a href=\"https://github.com/krassowski\">@krassowski</a></strong> merged by <strong><a href=\"https://github.com/jtpio\">@jtpio</a></strong></li>\n<li><a href=\"https://github.com/jupyterlab/jupyterlab/issues/17537\">(#17537)</a>: <em>Reconfigure 4.4.x branch</em> by <strong><a href=\"https://github.com/krassowski\">@krassowski</a></strong> merged by <strong><a href=\"https://github.com/jtpio\">@jtpio</a></strong></li>\n<li><a href=\"https://github.com/jupyterlab/jupyterlab/issues/17540\">(#17540)</a>: <em>Fix Settings Editor incorrectly resetting values to default in filtered view</em> by <strong><a href=\"https://github.com/yukiiii04\">@yukiiii04</a></strong> merged by <strong><a href=\"https://github.com/krassowski\">@krassowski</a></strong></li>\n<li><a href=\"https://github.com/jupyterlab/jupyterlab/issues/17543\">(#17543)</a>: <em>[pre-commit.ci] pre-commit autoupdate</em> by <strong><a href=\"https://github.com/pre-commit-ci[bot]\">@pre-commit-ci[bot]</a></strong> merged by <strong><a href=\"https://github.com/krassowski\">@krassowski</a></strong></li>\n<li><a href=\"https://github.com/jupyterlab/jupyterlab/issues/17544\">(#17544)</a>: <em>Temporarily ignore links to github.com</em> by <strong><a href=\"https://github.com/krassowski\">@krassowski</a></strong> merged by <strong><a href=\"https://github.com/jtpio\">@jtpio</a></strong></li>\n<li><a href=\"https://github.com/jupyterlab/jupyterlab/issues/17545\">(#17545)</a>: <em>Backport PR #17540 on branch 4.3.x (Fix Settings Editor incorrectly resetting values to default in filtered view)</em> by <strong><a href=\"https://github.com/meeseeksmachine\">@meeseeksmachine</a></strong> merged by <strong><a href=\"https://github.com/krassowski\">@krassowski</a></strong></li>\n<li><a href=\"https://github.com/jupyterlab/jupyterlab/issues/17546\">(#17546)</a>: <em>Backport PR #17540 on branch 4.4.x (Fix Settings Editor incorrectly resetting values to default in filtered view)</em> by <strong><a href=\"https://github.com/meeseeksmachine\">@meeseeksmachine</a></strong> merged by <strong><a href=\"https://github.com/krassowski\">@krassowski</a></strong></li>\n<li><a href=\"https://github.com/jupyterlab/jupyterlab/issues/17547\">(#17547)</a>: <em>Add a setting to configure the default log level for the Log Console</em> by <strong><a href=\"https://github.com/jtpio\">@jtpio</a></strong> merged by <strong><a href=\"https://github.com/krassowski\">@krassowski</a></strong></li>\n<li><a href=\"https://github.com/jupyterlab/jupyterlab/issues/17550\">(#17550)</a>: <em><code>fileeditor-extension</code>: fix handling of launcher, commands and menu entries on <code>specsChanged</code></em> by <strong><a href=\"https://github.com/jtpio\">@jtpio</a></strong> merged by <strong><a href=\"https://github.com/jtpio\">@jtpio</a></strong></li>\n<li><a href=\"https://github.com/jupyterlab/jupyterlab/issues/17551\">(#17551)</a>: <em>Backport PR #17544 on branch 4.3.x (Temporarily ignore links to github.com)</em> by <strong><a href=\"https://github.com/meeseeksmachine\">@meeseeksmachine</a></strong> merged by <strong><a href=\"https://github.com/krassowski\">@krassowski</a></strong></li>\n<li><a href=\"https://github.com/jupyterlab/jupyterlab/issues/17552\">(#17552)</a>: <em>Backport PR #17544 on branch 4.4.x (Temporarily ignore links to github.com)</em> by <strong><a href=\"https://github.com/meeseeksmachine\">@meeseeksmachine</a></strong> merged by <strong><a href=\"https://github.com/jtpio\">@jtpio</a></strong></li>\n<li><a href=\"https://github.com/jupyterlab/jupyterlab/issues/17553\">(#17553)</a>: <em>Backport PR #17550 on branch 4.4.x (<code>fileeditor-extension</code>: fix handling of launcher, commands and menu entries on <code>specsChanged</code>)</em> by <strong><a href=\"https://github.com/meeseeksmachine\">@meeseeksmachine</a></strong> merged by <strong><a href=\"https://github.com/krassowski\">@krassowski</a></strong></li>\n<li><a href=\"https://github.com/jupyterlab/jupyterlab/issues/17555\">(#17555)</a>: <em>Pin <code>snowballstemmer</code> to <code>&lt;3.0.0</code></em> by <strong><a href=\"https://github.com/krassowski\">@krassowski</a></strong> merged by <strong><a href=\"https://github.com/krassowski\">@krassowski</a></strong></li>\n<li><a href=\"https://github.com/jupyterlab/jupyterlab/issues/17559\">(#17559)</a>: <em>Use hatch to get the version</em> by <strong><a href=\"https://github.com/krassowski\">@krassowski</a></strong> merged by <strong><a href=\"https://github.com/jtpio\">@jtpio</a></strong></li>\n<li><a href=\"https://github.com/jupyterlab/jupyterlab/issues/17561\">(#17561)</a>: <em>Backport PR #17559 on branch 4.4.x (Use hatch to get the version)</em> by <strong><a href=\"https://github.com/meeseeksmachine\">@meeseeksmachine</a></strong> merged by <strong><a href=\"https://github.com/krassowski\">@krassowski</a></strong></li>\n<li><a href=\"https://github.com/jupyterlab/jupyterlab/issues/17567\">(#17567)</a>: <em>Add <code>standby</code> callback to lumino polls</em> by <strong><a href=\"https://github.com/mahendrapaipuri\">@mahendrapaipuri</a></strong> merged by <strong><a href=\"https://github.com/jtpio\">@jtpio</a></strong></li>\n</ul>"
      }
     },
     "ed540610e7dc43569f0999f182900b3a": {
      "model_module": "@jupyter-widgets/base",
      "model_module_version": "2.0.0",
      "model_name": "LayoutModel",
      "state": {
       "_model_module": "@jupyter-widgets/base",
       "_model_module_version": "2.0.0",
       "_model_name": "LayoutModel",
       "_view_count": null,
       "_view_module": "@jupyter-widgets/base",
       "_view_module_version": "2.0.0",
       "_view_name": "LayoutView",
       "align_content": null,
       "align_items": null,
       "align_self": null,
       "border_bottom": null,
       "border_left": null,
       "border_right": null,
       "border_top": null,
       "bottom": null,
       "display": null,
       "flex": null,
       "flex_flow": null,
       "grid_area": null,
       "grid_auto_columns": null,
       "grid_auto_flow": null,
       "grid_auto_rows": null,
       "grid_column": null,
       "grid_gap": null,
       "grid_row": null,
       "grid_template_areas": null,
       "grid_template_columns": null,
       "grid_template_rows": null,
       "height": null,
       "justify_content": null,
       "justify_items": null,
       "left": null,
       "margin": null,
       "max_height": null,
       "max_width": null,
       "min_height": null,
       "min_width": null,
       "object_fit": null,
       "object_position": null,
       "order": null,
       "overflow": null,
       "padding": null,
       "right": null,
       "top": null,
       "visibility": null,
       "width": null
      }
     },
     "f016b06297584f9bb4aa44ed9bbe67b8": {
      "model_module": "@jupyter-widgets/controls",
      "model_module_version": "2.0.0",
      "model_name": "HTMLModel",
      "state": {
       "_dom_classes": [],
       "_model_module": "@jupyter-widgets/controls",
       "_model_module_version": "2.0.0",
       "_model_name": "HTMLModel",
       "_view_count": null,
       "_view_module": "@jupyter-widgets/controls",
       "_view_module_version": "2.0.0",
       "_view_name": "HTMLView",
       "description": "",
       "description_allow_html": false,
       "layout": "IPY_MODEL_bca0ef7b613343e6a74276da438b04b5",
       "placeholder": "​",
       "style": "IPY_MODEL_122754a6124c45d49892be4d2effcabd",
       "tabbable": null,
       "tooltip": null,
       "value": "<h5><a href=\"https://github.com/jupyterlab/jupyter-collaboration\">jupyterlab/jupyter-collaboration</a></h5>\n<ul>\n<li><a href=\"https://github.com/jupyterlab/jupyter-collaboration/issues/462\">(#462)</a>: <em>Installing <code>jupyter-collaboration</code> breaks notebook editor</em> by <strong><a href=\"https://github.com/nwalters512\">@nwalters512</a></strong></li>\n<li><a href=\"https://github.com/jupyterlab/jupyter-collaboration/issues/450\">(#450)</a>: <em>Empty collaborators list when file without icon is opened.</em> by <strong><a href=\"https://github.com/jochym\">@jochym</a></strong></li>\n<li><a href=\"https://github.com/jupyterlab/jupyter-collaboration/issues/430\">(#430)</a>: <em>Make the use of <code>YStore</code> configurable</em> by <strong><a href=\"https://github.com/dlqqq\">@dlqqq</a></strong></li>\n<li><a href=\"https://github.com/jupyterlab/jupyter-collaboration/issues/473\">(#473)</a>: <em>Jupyterlab 4.4.0 and Jupyter-collaboration 4.0.1: Collaborating users list populated, but no live edits visible</em> by <strong><a href=\"https://github.com/Sieboldianus\">@Sieboldianus</a></strong></li>\n<li><a href=\"https://github.com/jupyterlab/jupyter-collaboration/issues/477\">(#477)</a>: <em>Investigate unused (?) code for chat message propagation</em> by <strong><a href=\"https://github.com/krassowski\">@krassowski</a></strong></li>\n</ul>"
      }
     },
     "f232eb92d7f04f119757b9ab2c703201": {
      "model_module": "@jupyter-widgets/controls",
      "model_module_version": "2.0.0",
      "model_name": "HTMLModel",
      "state": {
       "_dom_classes": [],
       "_model_module": "@jupyter-widgets/controls",
       "_model_module_version": "2.0.0",
       "_model_name": "HTMLModel",
       "_view_count": null,
       "_view_module": "@jupyter-widgets/controls",
       "_view_module_version": "2.0.0",
       "_view_name": "HTMLView",
       "description": "",
       "description_allow_html": false,
       "layout": "IPY_MODEL_a1f22c498a974340aac6b2287b62afce",
       "placeholder": "​",
       "style": "IPY_MODEL_432ca13fe6984a6b8e79e221cc3897d7",
       "tabbable": null,
       "tooltip": null,
       "value": "<ul>\n<li>(117) Implement variable inspector for kernels - jupyterlab - <a href=\"https://github.com/jupyterlab/jupyterlab/issues/443\">#443</a></li>\n<li>(57) allowing copy/paste in right click menu in notebook - jupyterlab - <a href=\"https://github.com/jupyterlab/jupyterlab/issues/3224\">#3224</a></li>\n<li>(52) Switching to a big notebook in a tab is slow - jupyterlab - <a href=\"https://github.com/jupyterlab/jupyterlab/issues/4292\">#4292</a></li>\n<li>(46) Remove a cell from evaluation queue - jupyterlab - <a href=\"https://github.com/jupyterlab/jupyterlab/issues/7825\">#7825</a></li>\n<li>(45) Is any way to highlight the selected word - jupyterlab - <a href=\"https://github.com/jupyterlab/jupyterlab/issues/6112\">#6112</a></li>\n<li>(34) Add a linter to the editor - jupyterlab - <a href=\"https://github.com/jupyterlab/jupyterlab/issues/1278\">#1278</a></li>\n<li>(33) Syntax highlighting for SQL cell magic - jupyterlab - <a href=\"https://github.com/jupyterlab/jupyterlab/issues/3869\">#3869</a></li>\n<li>(33) Skip H1 headers - jupyterlab-toc - <a href=\"https://github.com/jupyterlab/jupyterlab-toc/issues/66\">#66</a></li>\n<li>(32) Feedback from a Jupyter notebook fanatic comming to Jupyter lab  - jupyterlab - <a href=\"https://github.com/jupyterlab/jupyterlab/issues/2972\">#2972</a></li>\n<li>(32) Open existing Notebook without kernel - jupyterlab - <a href=\"https://github.com/jupyterlab/jupyterlab/issues/4040\">#4040</a></li>\n<li>(30) Adding an option to disable file download on Jupyterlab - jupyterlab - <a href=\"https://github.com/jupyterlab/jupyterlab/issues/5274\">#5274</a></li>\n<li>(30) themes from jupyter-themes - jupyterlab - <a href=\"https://github.com/jupyterlab/jupyterlab/issues/3844\">#3844</a></li>\n<li>(30) Feature request:  Emacs keybindings for notebook - jupyterlab - <a href=\"https://github.com/jupyterlab/jupyterlab/issues/3885\">#3885</a></li>\n<li>(28) Show RAM usage of kernels - jupyterlab - <a href=\"https://github.com/jupyterlab/jupyterlab/issues/4012\">#4012</a></li>\n<li>(28) WIP/Discussion: Tree view for file browser - jupyterlab - <a href=\"https://github.com/jupyterlab/jupyterlab/issues/5526\">#5526</a></li>\n<li>(27) Trailing whitespace in editor - jupyterlab - <a href=\"https://github.com/jupyterlab/jupyterlab/issues/3904\">#3904</a></li>\n<li>(24) JupyterLab vision for the next few years - frontends-team-compass - <a href=\"https://github.com/jupyterlab/frontends-team-compass/issues/80\">#80</a></li>\n<li>(23) Typing single or double quote when text is selected erases the text - jupyterlab - <a href=\"https://github.com/jupyterlab/jupyterlab/issues/9897\">#9897</a></li>\n<li>(23) Open a notebook from JupyterLab terminal - jupyterlab - <a href=\"https://github.com/jupyterlab/jupyterlab/issues/5056\">#5056</a></li>\n<li>(22) Changing Browser Tab Title for JupyterLab - jupyterlab - <a href=\"https://github.com/jupyterlab/jupyterlab/issues/4422\">#4422</a></li>\n<li>(21) Failure to start jupyter lab --- IndexError: pop from an empty deque  - jupyterlab - <a href=\"https://github.com/jupyterlab/jupyterlab/issues/11934\">#11934</a></li>\n<li>(20) Code formatter - jupyterlab - <a href=\"https://github.com/jupyterlab/jupyterlab/issues/4521\">#4521</a></li>\n<li>(20) Improve user experience in Launcher - jupyterlab - <a href=\"https://github.com/jupyterlab/jupyterlab/issues/3795\">#3795</a></li>\n<li>(19) Inline Whiteboard - jupyterlab - <a href=\"https://github.com/jupyterlab/jupyterlab/issues/9194\">#9194</a></li>\n<li>(19) Wishlist: provide a toggle to prevent the creation of .ipynb_checkpoints - jupyterlab - <a href=\"https://github.com/jupyterlab/jupyterlab/issues/11826\">#11826</a></li>\n</ul>"
      }
     },
     "f4b8dbbf6d7e477fba4bcef4f4148690": {
      "model_module": "@jupyter-widgets/controls",
      "model_module_version": "2.0.0",
      "model_name": "HTMLModel",
      "state": {
       "_dom_classes": [],
       "_model_module": "@jupyter-widgets/controls",
       "_model_module_version": "2.0.0",
       "_model_name": "HTMLModel",
       "_view_count": null,
       "_view_module": "@jupyter-widgets/controls",
       "_view_module_version": "2.0.0",
       "_view_name": "HTMLView",
       "description": "",
       "description_allow_html": false,
       "layout": "IPY_MODEL_ab56d665c2e94f9da93539824cc9bb7d",
       "placeholder": "​",
       "style": "IPY_MODEL_bb4b459279d04d56b0ee65bdb1a898d3",
       "tabbable": null,
       "tooltip": null,
       "value": "<h5><a href=\"https://github.com/jupyterlab/extension-examples\">jupyterlab/extension-examples</a></h5>\n<ul>\n<li><a href=\"https://github.com/jupyterlab/extension-examples/issues/261\">(#261)</a>: _ python -m pip install -e  error_ by <strong><a href=\"https://github.com/ryan-latest\">@ryan-latest</a></strong></li>\n</ul>"
      }
     },
     "f5fb3a8e5e704b409dd39d5f6e3e5de0": {
      "model_module": "@jupyter-widgets/controls",
      "model_module_version": "2.0.0",
      "model_name": "HTMLStyleModel",
      "state": {
       "_model_module": "@jupyter-widgets/controls",
       "_model_module_version": "2.0.0",
       "_model_name": "HTMLStyleModel",
       "_view_count": null,
       "_view_module": "@jupyter-widgets/base",
       "_view_module_version": "2.0.0",
       "_view_name": "StyleView",
       "background": null,
       "description_width": "",
       "font_size": null,
       "text_color": null
      }
     },
     "f60c65ce68ec4d658595f05b11b57b3f": {
      "model_module": "@jupyter-widgets/controls",
      "model_module_version": "2.0.0",
      "model_name": "HTMLStyleModel",
      "state": {
       "_model_module": "@jupyter-widgets/controls",
       "_model_module_version": "2.0.0",
       "_model_name": "HTMLStyleModel",
       "_view_count": null,
       "_view_module": "@jupyter-widgets/base",
       "_view_module_version": "2.0.0",
       "_view_name": "StyleView",
       "background": null,
       "description_width": "",
       "font_size": null,
       "text_color": null
      }
     },
     "f7d62c2dd71443a6b571584d653ba9e9": {
      "model_module": "@jupyter-widgets/controls",
      "model_module_version": "2.0.0",
      "model_name": "HTMLModel",
      "state": {
       "_dom_classes": [],
       "_model_module": "@jupyter-widgets/controls",
       "_model_module_version": "2.0.0",
       "_model_name": "HTMLModel",
       "_view_count": null,
       "_view_module": "@jupyter-widgets/controls",
       "_view_module_version": "2.0.0",
       "_view_name": "HTMLView",
       "description": "",
       "description_allow_html": false,
       "layout": "IPY_MODEL_18fb8f7fc2f843219f225e5ee3364a14",
       "placeholder": "​",
       "style": "IPY_MODEL_f60c65ce68ec4d658595f05b11b57b3f",
       "tabbable": null,
       "tooltip": null,
       "value": "<h5><a href=\"https://github.com/jupyterlab/jupyterlab-desktop\">jupyterlab/jupyterlab-desktop</a></h5>\n<ul>\n<li><a href=\"https://github.com/jupyterlab/jupyterlab-desktop/issues/890\">(#890)</a>: <em>Should we archive this project?</em> by <strong><a href=\"https://github.com/krassowski\">@krassowski</a></strong></li>\n<li><a href=\"https://github.com/jupyterlab/jupyterlab-desktop/issues/888\">(#888)</a>: <em>[macOS] App CLI is not executable Error: EACCES: permission denied</em> by <strong><a href=\"https://github.com/lewisl\">@lewisl</a></strong></li>\n<li><a href=\"https://github.com/jupyterlab/jupyterlab-desktop/issues/885\">(#885)</a>: <em>bug when commenting out code ( see vid )</em> by <strong><a href=\"https://github.com/mreisbeck2\">@mreisbeck2</a></strong></li>\n<li><a href=\"https://github.com/jupyterlab/jupyterlab-desktop/issues/891\">(#891)</a>: <em>Improve documentation for running alternative kernels</em> by <strong><a href=\"https://github.com/Ahri-man\">@Ahri-man</a></strong></li>\n<li><a href=\"https://github.com/jupyterlab/jupyterlab-desktop/issues/892\">(#892)</a>: <em>installation issue macOS(arm64)</em> by <strong><a href=\"https://github.com/shmIuser44\">@shmIuser44</a></strong></li>\n</ul>"
      }
     },
     "fa21829044e442db87812ff176a4aa5f": {
      "model_module": "@jupyter-widgets/base",
      "model_module_version": "2.0.0",
      "model_name": "LayoutModel",
      "state": {
       "_model_module": "@jupyter-widgets/base",
       "_model_module_version": "2.0.0",
       "_model_name": "LayoutModel",
       "_view_count": null,
       "_view_module": "@jupyter-widgets/base",
       "_view_module_version": "2.0.0",
       "_view_name": "LayoutView",
       "align_content": null,
       "align_items": null,
       "align_self": null,
       "border_bottom": null,
       "border_left": null,
       "border_right": null,
       "border_top": null,
       "bottom": null,
       "display": null,
       "flex": null,
       "flex_flow": null,
       "grid_area": null,
       "grid_auto_columns": null,
       "grid_auto_flow": null,
       "grid_auto_rows": null,
       "grid_column": null,
       "grid_gap": null,
       "grid_row": null,
       "grid_template_areas": null,
       "grid_template_columns": null,
       "grid_template_rows": null,
       "height": null,
       "justify_content": null,
       "justify_items": null,
       "left": null,
       "margin": null,
       "max_height": null,
       "max_width": null,
       "min_height": null,
       "min_width": null,
       "object_fit": null,
       "object_position": null,
       "order": null,
       "overflow": null,
       "padding": null,
       "right": null,
       "top": null,
       "visibility": null,
       "width": null
      }
     }
    },
    "version_major": 2,
    "version_minor": 0
   }
  }
 },
 "nbformat": 4,
 "nbformat_minor": 5
}