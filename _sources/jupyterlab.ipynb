{
 "cells": [
  {
   "cell_type": "markdown",
   "id": "c9d929d8",
   "metadata": {
    "papermill": {
     "duration": 0.01625,
     "end_time": "2025-05-12T16:41:35.094755",
     "exception": false,
     "start_time": "2025-05-12T16:41:35.078505",
     "status": "completed"
    },
    "tags": []
   },
   "source": [
    "# {glue:text}`jupyterlab_github_org`\n",
    "\n",
    "**Activity from {glue:}`jupyterlab_start` to {glue:}`jupyterlab_stop`**"
   ]
  },
  {
   "cell_type": "code",
   "execution_count": 1,
   "id": "7597a09d",
   "metadata": {
    "editable": true,
    "execution": {
     "iopub.execute_input": "2025-05-12T16:41:35.125747Z",
     "iopub.status.busy": "2025-05-12T16:41:35.125462Z",
     "iopub.status.idle": "2025-05-12T16:41:35.973560Z",
     "shell.execute_reply": "2025-05-12T16:41:35.972862Z"
    },
    "papermill": {
     "duration": 0.865237,
     "end_time": "2025-05-12T16:41:35.974995",
     "exception": false,
     "start_time": "2025-05-12T16:41:35.109758",
     "status": "completed"
    },
    "slideshow": {
     "slide_type": ""
    },
    "tags": [
     "remove_cell"
    ]
   },
   "outputs": [],
   "source": [
    "from datetime import date\n",
    "from dateutil.relativedelta import relativedelta\n",
    "from myst_nb import glue\n",
    "import seaborn as sns\n",
    "import pandas as pd\n",
    "import numpy as np\n",
    "import altair as alt\n",
    "from markdown import markdown\n",
    "from IPython.display import Markdown\n",
    "from ipywidgets.widgets import HTML, Tab\n",
    "from ipywidgets import widgets\n",
    "from datetime import timedelta\n",
    "from matplotlib import pyplot as plt\n",
    "import os.path as op\n",
    "from json import loads\n",
    "\n",
    "from warnings import simplefilter\n",
    "simplefilter('ignore')\n",
    "pd.set_option('display.max_columns', None) # 'None' means show all"
   ]
  },
  {
   "cell_type": "code",
   "execution_count": 2,
   "id": "b0bcf565",
   "metadata": {
    "editable": true,
    "execution": {
     "iopub.execute_input": "2025-05-12T16:41:36.007734Z",
     "iopub.status.busy": "2025-05-12T16:41:36.007166Z",
     "iopub.status.idle": "2025-05-12T16:41:36.014768Z",
     "shell.execute_reply": "2025-05-12T16:41:36.014160Z"
    },
    "papermill": {
     "duration": 0.025462,
     "end_time": "2025-05-12T16:41:36.015907",
     "exception": false,
     "start_time": "2025-05-12T16:41:35.990445",
     "status": "completed"
    },
    "slideshow": {
     "slide_type": ""
    },
    "tags": [
     "remove_cell"
    ]
   },
   "outputs": [],
   "source": [
    "# Altair config\n",
    "def author_url(author):\n",
    "    return f\"https://github.com/{author}\"\n",
    "\n",
    "def alt_theme():\n",
    "    return {\n",
    "        'config': {\n",
    "            'axisLeft': {\n",
    "                'labelFontSize': 15,\n",
    "            },\n",
    "            'axisBottom': {\n",
    "                'labelFontSize': 15,\n",
    "            },\n",
    "        }\n",
    "    }\n",
    "\n",
    "alt.themes.register('my_theme', alt_theme)\n",
    "alt.themes.enable(\"my_theme\")\n",
    "\n",
    "\n",
    "# Define colors we'll use for GitHub membership\n",
    "author_types = ['MEMBER', 'CONTRIBUTOR', 'COLLABORATOR', \"NONE\"]\n",
    "\n",
    "author_palette = np.array(sns.palettes.blend_palette([\"lightgrey\", \"lightgreen\", \"darkgreen\"], 4)) * 256\n",
    "author_colors = [\"rgb({}, {}, {})\".format(*color) for color in author_palette]\n",
    "author_color_dict = {key: val for key, val in zip(author_types, author_palette)}"
   ]
  },
  {
   "cell_type": "code",
   "execution_count": 3,
   "id": "b3fe8828",
   "metadata": {
    "editable": true,
    "execution": {
     "iopub.execute_input": "2025-05-12T16:41:36.046363Z",
     "iopub.status.busy": "2025-05-12T16:41:36.046073Z",
     "iopub.status.idle": "2025-05-12T16:41:36.049316Z",
     "shell.execute_reply": "2025-05-12T16:41:36.048766Z"
    },
    "papermill": {
     "duration": 0.019814,
     "end_time": "2025-05-12T16:41:36.050362",
     "exception": false,
     "start_time": "2025-05-12T16:41:36.030548",
     "status": "completed"
    },
    "slideshow": {
     "slide_type": ""
    },
    "tags": [
     "parameters",
     "hide_input",
     "remove_cell"
    ]
   },
   "outputs": [],
   "source": [
    "github_org = \"jupyterhub\"\n",
    "top_n_repos = 15\n",
    "n_days = 90"
   ]
  },
  {
   "cell_type": "code",
   "execution_count": 4,
   "id": "f2e1310c",
   "metadata": {
    "execution": {
     "iopub.execute_input": "2025-05-12T16:41:36.080798Z",
     "iopub.status.busy": "2025-05-12T16:41:36.080309Z",
     "iopub.status.idle": "2025-05-12T16:41:36.083533Z",
     "shell.execute_reply": "2025-05-12T16:41:36.082984Z"
    },
    "papermill": {
     "duration": 0.019687,
     "end_time": "2025-05-12T16:41:36.084595",
     "exception": false,
     "start_time": "2025-05-12T16:41:36.064908",
     "status": "completed"
    },
    "tags": [
     "injected-parameters",
     "remove-cell"
    ]
   },
   "outputs": [],
   "source": [
    "# Parameters\n",
    "github_org = \"jupyterlab\"\n",
    "n_days = 90\n"
   ]
  },
  {
   "cell_type": "code",
   "execution_count": 5,
   "id": "8be465c6",
   "metadata": {
    "editable": true,
    "execution": {
     "iopub.execute_input": "2025-05-12T16:41:36.116592Z",
     "iopub.status.busy": "2025-05-12T16:41:36.116139Z",
     "iopub.status.idle": "2025-05-12T16:41:36.139503Z",
     "shell.execute_reply": "2025-05-12T16:41:36.138905Z"
    },
    "papermill": {
     "duration": 0.040788,
     "end_time": "2025-05-12T16:41:36.140638",
     "exception": false,
     "start_time": "2025-05-12T16:41:36.099850",
     "status": "completed"
    },
    "slideshow": {
     "slide_type": ""
    },
    "tags": [
     "remove_cell"
    ]
   },
   "outputs": [
    {
     "data": {
      "application/papermill.record/text/plain": "'jupyterlab'"
     },
     "metadata": {
      "scrapbook": {
       "mime_prefix": "application/papermill.record/",
       "name": "jupyterlab_github_org"
      }
     },
     "output_type": "display_data"
    },
    {
     "data": {
      "application/papermill.record/text/plain": "'2025-02-11'"
     },
     "metadata": {
      "scrapbook": {
       "mime_prefix": "application/papermill.record/",
       "name": "jupyterlab_start"
      }
     },
     "output_type": "display_data"
    },
    {
     "data": {
      "application/papermill.record/text/plain": "'2025-05-12'"
     },
     "metadata": {
      "scrapbook": {
       "mime_prefix": "application/papermill.record/",
       "name": "jupyterlab_stop"
      }
     },
     "output_type": "display_data"
    }
   ],
   "source": [
    "############################################################\n",
    "# Variables\n",
    "stop = date.today()\n",
    "start = date.today() - relativedelta(days=n_days)\n",
    "\n",
    "# Strings for use in queries\n",
    "start_date = f\"{start:%Y-%m-%d}\"\n",
    "stop_date = f\"{stop:%Y-%m-%d}\"\n",
    "\n",
    "# Glue variables for use in markdown\n",
    "glue(f\"{github_org}_github_org\", github_org, display=False)\n",
    "glue(f\"{github_org}_start\", start_date, display=False)\n",
    "glue(f\"{github_org}_stop\", stop_date, display=False)"
   ]
  },
  {
   "cell_type": "markdown",
   "id": "2a74558c",
   "metadata": {
    "editable": true,
    "papermill": {
     "duration": 0.014796,
     "end_time": "2025-05-12T16:41:36.170509",
     "exception": false,
     "start_time": "2025-05-12T16:41:36.155713",
     "status": "completed"
    },
    "slideshow": {
     "slide_type": ""
    },
    "tags": []
   },
   "source": [
    "## Load data\n",
    "\n",
    "Load and clean up the data"
   ]
  },
  {
   "cell_type": "code",
   "execution_count": 6,
   "id": "85b1461e",
   "metadata": {
    "editable": true,
    "execution": {
     "iopub.execute_input": "2025-05-12T16:41:36.201821Z",
     "iopub.status.busy": "2025-05-12T16:41:36.201307Z",
     "iopub.status.idle": "2025-05-12T16:41:36.206116Z",
     "shell.execute_reply": "2025-05-12T16:41:36.205515Z"
    },
    "papermill": {
     "duration": 0.021842,
     "end_time": "2025-05-12T16:41:36.207230",
     "exception": false,
     "start_time": "2025-05-12T16:41:36.185388",
     "status": "completed"
    },
    "slideshow": {
     "slide_type": ""
    },
    "tags": [
     "remove_cell"
    ]
   },
   "outputs": [],
   "source": [
    "from pathlib import Path\n",
    "import sqlite3\n",
    "path_data = Path(\"../data\")\n",
    "path_data = list(path_data.rglob(f\"*{github_org}.db\"))[0]\n",
    "\n",
    "def df_from_sql(query, db):\n",
    "    con = sqlite3.connect(db)\n",
    "    return pd.read_sql(query, con)\n",
    "    con.close()"
   ]
  },
  {
   "cell_type": "code",
   "execution_count": 7,
   "id": "6ea3b1f8",
   "metadata": {
    "editable": true,
    "execution": {
     "iopub.execute_input": "2025-05-12T16:41:36.240708Z",
     "iopub.status.busy": "2025-05-12T16:41:36.240186Z",
     "iopub.status.idle": "2025-05-12T16:41:37.062981Z",
     "shell.execute_reply": "2025-05-12T16:41:37.062285Z"
    },
    "papermill": {
     "duration": 0.841243,
     "end_time": "2025-05-12T16:41:37.064391",
     "exception": false,
     "start_time": "2025-05-12T16:41:36.223148",
     "status": "completed"
    },
    "scrolled": true,
    "slideshow": {
     "slide_type": ""
    },
    "tags": [
     "remove_cell"
    ]
   },
   "outputs": [
    {
     "name": "stdout",
     "output_type": "stream",
     "text": [
      "Loading from ../data/0e94c4215e649a3f19cab0230e5b1092-jupyterlab.db\n"
     ]
    }
   ],
   "source": [
    "print(f\"Loading from {path_data}\")\n",
    "repos = df_from_sql(\"SELECT * FROM repos\", path_data)\n",
    "users = df_from_sql(\"SELECT * FROM users\", path_data)\n",
    "issues = df_from_sql(\"SELECT * FROM issues\", path_data)\n",
    "comments = df_from_sql(\"SELECT * FROM issue_comments\", path_data)\n",
    "\n",
    "# Merge repository information into issues\n",
    "def merge_repo_into_df(df, kind):\n",
    "    df = pd.merge(df, users[[\"id\", \"login\"]], left_on=\"user\", right_on=\"id\", suffixes=(\"_issue\", \"_user\"), how=\"inner\")\n",
    "    df = pd.merge(df, repos[[\"id\", \"full_name\", \"name\"]], left_on=\"repo\", right_on=\"id\", suffixes=(\"_issue\", \"_repo\"), how=\"inner\")\n",
    "    df[\"org\"] = df[\"full_name\"].map(lambda a: a.split('/')[0])\n",
    "    df[\"repo\"] = df[\"full_name\"].map(lambda a: a.split('/')[1])\n",
    "    df[\"url\"] = \"https://github.com/\" + df[\"org\"] + \"/\" + df[\"repo\"] + f\"/{kind}/\" + df[\"number\"].astype(str)\n",
    "    return df\n",
    "issues = merge_repo_into_df(issues, kind=\"issues\")\n",
    "\n",
    "# Pull out the Pull Requests from Issues\n",
    "prs = issues.loc[~issues[\"pull_request\"].isna()]\n",
    "def identify_merger(closedby):\n",
    "    if not closedby:\n",
    "        return None\n",
    "    try:\n",
    "        cb = loads(closedby)\n",
    "    except:\n",
    "        print(closedby)\n",
    "    return cb[\"login\"]\n",
    "prs[\"merged_by\"] = prs[\"closed_by\"].map(identify_merger)\n",
    "\n",
    "# These issues now _remove_ the PRs\n",
    "issues = issues.loc[issues[\"pull_request\"].isna()]\n",
    "\n",
    "# Add reactions data\n",
    "def count_positive(a):\n",
    "    a = loads(a)\n",
    "    return a[\"+1\"] + a[\"hooray\"] + a[\"heart\"]\n",
    "issues[\"positive\"] = issues[\"reactions\"].map(count_positive)\n",
    "\n",
    "# Drop comments if there is no associated issue\n",
    "comments = comments.dropna(subset=[\"issue\"])\n",
    "comments[\"issue\"] = comments.loc[:, \"issue\"].astype(int)\n",
    "\n",
    "# Add repository information to comments\n",
    "comments = pd.merge(comments, issues[[\"id_issue\", \"full_name\", \"org\", \"repo\"]], left_on=\"issue\", right_on=\"id_issue\", how=\"inner\", suffixes=(\"_comment\", \"_issue\"))\n",
    "\n",
    "# Merge user data into comments\n",
    "comments = pd.merge(comments, users[[\"id\", \"login\"]], left_on=\"user\", right_on=\"id\", suffixes=(\"_comment\", \"_user\"), how=\"inner\")"
   ]
  },
  {
   "cell_type": "code",
   "execution_count": 8,
   "id": "d6878408",
   "metadata": {
    "editable": true,
    "execution": {
     "iopub.execute_input": "2025-05-12T16:41:37.096408Z",
     "iopub.status.busy": "2025-05-12T16:41:37.096123Z",
     "iopub.status.idle": "2025-05-12T16:41:37.188391Z",
     "shell.execute_reply": "2025-05-12T16:41:37.187704Z"
    },
    "papermill": {
     "duration": 0.109902,
     "end_time": "2025-05-12T16:41:37.189818",
     "exception": false,
     "start_time": "2025-05-12T16:41:37.079916",
     "status": "completed"
    },
    "slideshow": {
     "slide_type": ""
    },
    "tags": [
     "remove_cell"
    ]
   },
   "outputs": [],
   "source": [
    "# Convert columns to datetime\n",
    "datetime_columns = [\"created_at\", \"closed_at\"]\n",
    "for df in [comments, issues, prs]:\n",
    "    for col in datetime_columns:\n",
    "        if col in df:\n",
    "            df[col] = pd.to_datetime(df[col])\n",
    "            # Strip timezone information so we can run simpler queries\n",
    "            df[col] = df[col].dt.tz_localize(None)"
   ]
  },
  {
   "cell_type": "code",
   "execution_count": 9,
   "id": "70579f6d",
   "metadata": {
    "editable": true,
    "execution": {
     "iopub.execute_input": "2025-05-12T16:41:37.223864Z",
     "iopub.status.busy": "2025-05-12T16:41:37.223304Z",
     "iopub.status.idle": "2025-05-12T16:41:37.246861Z",
     "shell.execute_reply": "2025-05-12T16:41:37.246056Z"
    },
    "papermill": {
     "duration": 0.042134,
     "end_time": "2025-05-12T16:41:37.248220",
     "exception": false,
     "start_time": "2025-05-12T16:41:37.206086",
     "status": "completed"
    },
    "slideshow": {
     "slide_type": ""
    },
    "tags": [
     "remove_cell"
    ]
   },
   "outputs": [],
   "source": [
    "# What are the top N repos, we will only plot these in the full data plots\n",
    "top_commented_repos = comments.groupby(\"repo\").count().sort_values(\"created_at\", ascending=False)['created_at']\n",
    "use_repos = top_commented_repos.head(top_n_repos).index.tolist()"
   ]
  },
  {
   "cell_type": "markdown",
   "id": "2d5741d6",
   "metadata": {
    "editable": true,
    "papermill": {
     "duration": 0.015122,
     "end_time": "2025-05-12T16:41:37.278716",
     "exception": false,
     "start_time": "2025-05-12T16:41:37.263594",
     "status": "completed"
    },
    "slideshow": {
     "slide_type": ""
    },
    "tags": [],
    "toc-hr-collapsed": false
   },
   "source": [
    "## Merged Pull requests\n",
    "\n",
    "Here's an analysis of **merged pull requests** across each of the repositories in the Jupyter\n",
    "ecosystem."
   ]
  },
  {
   "cell_type": "code",
   "execution_count": 10,
   "id": "4c262506",
   "metadata": {
    "editable": true,
    "execution": {
     "iopub.execute_input": "2025-05-12T16:41:37.310379Z",
     "iopub.status.busy": "2025-05-12T16:41:37.309617Z",
     "iopub.status.idle": "2025-05-12T16:41:37.323513Z",
     "shell.execute_reply": "2025-05-12T16:41:37.322750Z"
    },
    "papermill": {
     "duration": 0.031052,
     "end_time": "2025-05-12T16:41:37.324762",
     "exception": false,
     "start_time": "2025-05-12T16:41:37.293710",
     "status": "completed"
    },
    "slideshow": {
     "slide_type": ""
    },
    "tags": [
     "remove_cell"
    ]
   },
   "outputs": [],
   "source": [
    "merged = prs.query('state == \"closed\" and closed_at > @start_date and closed_at < @stop_date')"
   ]
  },
  {
   "cell_type": "code",
   "execution_count": 11,
   "id": "bef9cc42",
   "metadata": {
    "editable": true,
    "execution": {
     "iopub.execute_input": "2025-05-12T16:41:37.357367Z",
     "iopub.status.busy": "2025-05-12T16:41:37.357105Z",
     "iopub.status.idle": "2025-05-12T16:41:37.398858Z",
     "shell.execute_reply": "2025-05-12T16:41:37.398148Z"
    },
    "papermill": {
     "duration": 0.059305,
     "end_time": "2025-05-12T16:41:37.400094",
     "exception": false,
     "start_time": "2025-05-12T16:41:37.340789",
     "status": "completed"
    },
    "slideshow": {
     "slide_type": ""
    },
    "tags": [
     "hide_input"
    ]
   },
   "outputs": [
    {
     "data": {
      "text/html": [
       "\n",
       "<style>\n",
       "  #altair-viz-7f19936029c244c7b8c0b6ed5f5f5b71.vega-embed {\n",
       "    width: 100%;\n",
       "    display: flex;\n",
       "  }\n",
       "\n",
       "  #altair-viz-7f19936029c244c7b8c0b6ed5f5f5b71.vega-embed details,\n",
       "  #altair-viz-7f19936029c244c7b8c0b6ed5f5f5b71.vega-embed details summary {\n",
       "    position: relative;\n",
       "  }\n",
       "</style>\n",
       "<div id=\"altair-viz-7f19936029c244c7b8c0b6ed5f5f5b71\"></div>\n",
       "<script type=\"text/javascript\">\n",
       "  var VEGA_DEBUG = (typeof VEGA_DEBUG == \"undefined\") ? {} : VEGA_DEBUG;\n",
       "  (function(spec, embedOpt){\n",
       "    let outputDiv = document.currentScript.previousElementSibling;\n",
       "    if (outputDiv.id !== \"altair-viz-7f19936029c244c7b8c0b6ed5f5f5b71\") {\n",
       "      outputDiv = document.getElementById(\"altair-viz-7f19936029c244c7b8c0b6ed5f5f5b71\");\n",
       "    }\n",
       "\n",
       "    const paths = {\n",
       "      \"vega\": \"https://cdn.jsdelivr.net/npm/vega@5?noext\",\n",
       "      \"vega-lib\": \"https://cdn.jsdelivr.net/npm/vega-lib?noext\",\n",
       "      \"vega-lite\": \"https://cdn.jsdelivr.net/npm/vega-lite@5.20.1?noext\",\n",
       "      \"vega-embed\": \"https://cdn.jsdelivr.net/npm/vega-embed@6?noext\",\n",
       "    };\n",
       "\n",
       "    function maybeLoadScript(lib, version) {\n",
       "      var key = `${lib.replace(\"-\", \"\")}_version`;\n",
       "      return (VEGA_DEBUG[key] == version) ?\n",
       "        Promise.resolve(paths[lib]) :\n",
       "        new Promise(function(resolve, reject) {\n",
       "          var s = document.createElement('script');\n",
       "          document.getElementsByTagName(\"head\")[0].appendChild(s);\n",
       "          s.async = true;\n",
       "          s.onload = () => {\n",
       "            VEGA_DEBUG[key] = version;\n",
       "            return resolve(paths[lib]);\n",
       "          };\n",
       "          s.onerror = () => reject(`Error loading script: ${paths[lib]}`);\n",
       "          s.src = paths[lib];\n",
       "        });\n",
       "    }\n",
       "\n",
       "    function showError(err) {\n",
       "      outputDiv.innerHTML = `<div class=\"error\" style=\"color:red;\">${err}</div>`;\n",
       "      throw err;\n",
       "    }\n",
       "\n",
       "    function displayChart(vegaEmbed) {\n",
       "      vegaEmbed(outputDiv, spec, embedOpt)\n",
       "        .catch(err => showError(`Javascript Error: ${err.message}<br>This usually means there's a typo in your chart specification. See the javascript console for the full traceback.`));\n",
       "    }\n",
       "\n",
       "    if(typeof define === \"function\" && define.amd) {\n",
       "      requirejs.config({paths});\n",
       "      let deps = [\"vega-embed\"];\n",
       "      require(deps, displayChart, err => showError(`Error loading script: ${err.message}`));\n",
       "    } else {\n",
       "      maybeLoadScript(\"vega\", \"5\")\n",
       "        .then(() => maybeLoadScript(\"vega-lite\", \"5.20.1\"))\n",
       "        .then(() => maybeLoadScript(\"vega-embed\", \"6\"))\n",
       "        .catch(showError)\n",
       "        .then(() => displayChart(vegaEmbed));\n",
       "    }\n",
       "  })({\"config\": {\"axisLeft\": {\"labelFontSize\": 15}, \"axisBottom\": {\"labelFontSize\": 15}}, \"data\": {\"name\": \"data-5222e637700728f8cba6e6be532670cd\"}, \"mark\": {\"type\": \"bar\"}, \"encoding\": {\"color\": {\"field\": \"org\", \"type\": \"nominal\"}, \"x\": {\"field\": \"repo\", \"sort\": [\"jupyterlab\", \"jupyter-ai\", \"jupyter-chat\", \"jupyter-collaboration\", \"language-packs\", \"lumino\", \"jupyterlab-git\", \"maintainer-tools\", \"jupyterlab_server\", \"extension-examples\", \"extension-template\", \"jupyter-builder\", \"jupyterlab-demo\", \".github\", \"frontends-team-compass\", \"jupyter-renderers\", \"jupyterlab-desktop\"], \"type\": \"nominal\"}, \"y\": {\"field\": \"login\", \"type\": \"quantitative\"}}, \"title\": \"Merged PRs in the last 90 days\", \"$schema\": \"https://vega.github.io/schema/vega-lite/v5.20.1.json\", \"datasets\": {\"data-5222e637700728f8cba6e6be532670cd\": [{\"org\": \"jupyterlab\", \"repo\": \"jupyterlab\", \"login\": 165}, {\"org\": \"jupyterlab\", \"repo\": \"jupyter-ai\", \"login\": 46}, {\"org\": \"jupyterlab\", \"repo\": \"jupyter-chat\", \"login\": 27}, {\"org\": \"jupyterlab\", \"repo\": \"jupyter-collaboration\", \"login\": 25}, {\"org\": \"jupyterlab\", \"repo\": \"language-packs\", \"login\": 25}, {\"org\": \"jupyterlab\", \"repo\": \"lumino\", \"login\": 14}, {\"org\": \"jupyterlab\", \"repo\": \"jupyterlab-git\", \"login\": 4}, {\"org\": \"jupyterlab\", \"repo\": \"maintainer-tools\", \"login\": 4}, {\"org\": \"jupyterlab\", \"repo\": \"jupyterlab_server\", \"login\": 3}, {\"org\": \"jupyterlab\", \"repo\": \"extension-examples\", \"login\": 2}, {\"org\": \"jupyterlab\", \"repo\": \"extension-template\", \"login\": 2}, {\"org\": \"jupyterlab\", \"repo\": \"jupyter-builder\", \"login\": 2}, {\"org\": \"jupyterlab\", \"repo\": \"jupyterlab-demo\", \"login\": 2}, {\"org\": \"jupyterlab\", \"repo\": \".github\", \"login\": 1}, {\"org\": \"jupyterlab\", \"repo\": \"frontends-team-compass\", \"login\": 1}, {\"org\": \"jupyterlab\", \"repo\": \"jupyter-renderers\", \"login\": 1}, {\"org\": \"jupyterlab\", \"repo\": \"jupyterlab-desktop\", \"login\": 1}]}}, {\"mode\": \"vega-lite\"});\n",
       "</script>"
      ],
      "text/plain": [
       "alt.Chart(...)"
      ]
     },
     "execution_count": 11,
     "metadata": {},
     "output_type": "execute_result"
    }
   ],
   "source": [
    "prs_by_repo = merged.groupby(['org', 'repo']).count()['login'].reset_index().sort_values(['org', 'login'], ascending=False)\n",
    "alt.Chart(data=prs_by_repo, title=f\"Merged PRs in the last {n_days} days\").mark_bar().encode(\n",
    "    x=alt.X('repo', sort=prs_by_repo['repo'].values.tolist()),\n",
    "    y='login',\n",
    "    color='org'\n",
    ")"
   ]
  },
  {
   "cell_type": "markdown",
   "id": "6b6c82d8",
   "metadata": {
    "editable": true,
    "papermill": {
     "duration": 0.015571,
     "end_time": "2025-05-12T16:41:37.431310",
     "exception": false,
     "start_time": "2025-05-12T16:41:37.415739",
     "status": "completed"
    },
    "slideshow": {
     "slide_type": ""
    },
    "tags": []
   },
   "source": [
    "### Authoring and merging stats by repository\n",
    "\n",
    "Let's see who has been doing most of the PR authoring and merging. The PR author is generally the\n",
    "person that implemented a change in the repository (code, documentation, etc). The PR merger is\n",
    "the person that \"pressed the green button\" and got the change into the main codebase."
   ]
  },
  {
   "cell_type": "code",
   "execution_count": 12,
   "id": "dbc6a991",
   "metadata": {
    "editable": true,
    "execution": {
     "iopub.execute_input": "2025-05-12T16:41:37.464150Z",
     "iopub.status.busy": "2025-05-12T16:41:37.463560Z",
     "iopub.status.idle": "2025-05-12T16:41:37.474515Z",
     "shell.execute_reply": "2025-05-12T16:41:37.473989Z"
    },
    "papermill": {
     "duration": 0.028546,
     "end_time": "2025-05-12T16:41:37.475538",
     "exception": false,
     "start_time": "2025-05-12T16:41:37.446992",
     "status": "completed"
    },
    "slideshow": {
     "slide_type": ""
    },
    "tags": [
     "remove_cell"
    ]
   },
   "outputs": [],
   "source": [
    "# Prep our merging DF\n",
    "merged_by_repo = merged.groupby(['repo', 'login'], as_index=False).agg({'id': 'count', 'author_association': 'first'}).rename(columns={'id': \"authored\", 'login': 'username'})\n",
    "closed_by_repo = merged.groupby(['name', 'merged_by']).count()['id_issue'].reset_index().rename(columns={'id_issue': \"closed\", \"merged_by\": \"username\"})"
   ]
  },
  {
   "cell_type": "code",
   "execution_count": 13,
   "id": "60fa34ce",
   "metadata": {
    "editable": true,
    "execution": {
     "iopub.execute_input": "2025-05-12T16:41:37.506658Z",
     "iopub.status.busy": "2025-05-12T16:41:37.506363Z",
     "iopub.status.idle": "2025-05-12T16:41:37.531594Z",
     "shell.execute_reply": "2025-05-12T16:41:37.530908Z"
    },
    "papermill": {
     "duration": 0.042136,
     "end_time": "2025-05-12T16:41:37.532724",
     "exception": false,
     "start_time": "2025-05-12T16:41:37.490588",
     "status": "completed"
    },
    "slideshow": {
     "slide_type": ""
    },
    "tags": [
     "hide_input"
    ]
   },
   "outputs": [
    {
     "data": {
      "text/html": [
       "\n",
       "<style>\n",
       "  #altair-viz-bc01cbdd164a41c59abac9db0b36f1dc.vega-embed {\n",
       "    width: 100%;\n",
       "    display: flex;\n",
       "  }\n",
       "\n",
       "  #altair-viz-bc01cbdd164a41c59abac9db0b36f1dc.vega-embed details,\n",
       "  #altair-viz-bc01cbdd164a41c59abac9db0b36f1dc.vega-embed details summary {\n",
       "    position: relative;\n",
       "  }\n",
       "</style>\n",
       "<div id=\"altair-viz-bc01cbdd164a41c59abac9db0b36f1dc\"></div>\n",
       "<script type=\"text/javascript\">\n",
       "  var VEGA_DEBUG = (typeof VEGA_DEBUG == \"undefined\") ? {} : VEGA_DEBUG;\n",
       "  (function(spec, embedOpt){\n",
       "    let outputDiv = document.currentScript.previousElementSibling;\n",
       "    if (outputDiv.id !== \"altair-viz-bc01cbdd164a41c59abac9db0b36f1dc\") {\n",
       "      outputDiv = document.getElementById(\"altair-viz-bc01cbdd164a41c59abac9db0b36f1dc\");\n",
       "    }\n",
       "\n",
       "    const paths = {\n",
       "      \"vega\": \"https://cdn.jsdelivr.net/npm/vega@5?noext\",\n",
       "      \"vega-lib\": \"https://cdn.jsdelivr.net/npm/vega-lib?noext\",\n",
       "      \"vega-lite\": \"https://cdn.jsdelivr.net/npm/vega-lite@5.20.1?noext\",\n",
       "      \"vega-embed\": \"https://cdn.jsdelivr.net/npm/vega-embed@6?noext\",\n",
       "    };\n",
       "\n",
       "    function maybeLoadScript(lib, version) {\n",
       "      var key = `${lib.replace(\"-\", \"\")}_version`;\n",
       "      return (VEGA_DEBUG[key] == version) ?\n",
       "        Promise.resolve(paths[lib]) :\n",
       "        new Promise(function(resolve, reject) {\n",
       "          var s = document.createElement('script');\n",
       "          document.getElementsByTagName(\"head\")[0].appendChild(s);\n",
       "          s.async = true;\n",
       "          s.onload = () => {\n",
       "            VEGA_DEBUG[key] = version;\n",
       "            return resolve(paths[lib]);\n",
       "          };\n",
       "          s.onerror = () => reject(`Error loading script: ${paths[lib]}`);\n",
       "          s.src = paths[lib];\n",
       "        });\n",
       "    }\n",
       "\n",
       "    function showError(err) {\n",
       "      outputDiv.innerHTML = `<div class=\"error\" style=\"color:red;\">${err}</div>`;\n",
       "      throw err;\n",
       "    }\n",
       "\n",
       "    function displayChart(vegaEmbed) {\n",
       "      vegaEmbed(outputDiv, spec, embedOpt)\n",
       "        .catch(err => showError(`Javascript Error: ${err.message}<br>This usually means there's a typo in your chart specification. See the javascript console for the full traceback.`));\n",
       "    }\n",
       "\n",
       "    if(typeof define === \"function\" && define.amd) {\n",
       "      requirejs.config({paths});\n",
       "      let deps = [\"vega-embed\"];\n",
       "      require(deps, displayChart, err => showError(`Error loading script: ${err.message}`));\n",
       "    } else {\n",
       "      maybeLoadScript(\"vega\", \"5\")\n",
       "        .then(() => maybeLoadScript(\"vega-lite\", \"5.20.1\"))\n",
       "        .then(() => maybeLoadScript(\"vega-embed\", \"6\"))\n",
       "        .catch(showError)\n",
       "        .then(() => displayChart(vegaEmbed));\n",
       "    }\n",
       "  })({\"config\": {\"axisLeft\": {\"labelFontSize\": 15}, \"axisBottom\": {\"labelFontSize\": 15}}, \"data\": {\"name\": \"data-ab6886b96fa4d4bc5288e1c8729293fb\"}, \"mark\": {\"type\": \"bar\"}, \"encoding\": {\"color\": {\"field\": \"author_association\", \"scale\": {\"domain\": [\"MEMBER\", \"CONTRIBUTOR\", \"COLLABORATOR\", \"NONE\"], \"range\": [\"rgb(211.82745098039214, 211.82745098039214, 211.82745098039214)\", \"rgb(166.98562091503268, 229.89803921568628, 166.98562091503268)\", \"rgb(96.37647058823529, 192.75294117647059, 96.37647058823529)\", \"rgb(0.0, 100.3921568627451, 0.0)\"]}, \"type\": \"nominal\"}, \"x\": {\"field\": \"username\", \"type\": \"nominal\"}, \"y\": {\"field\": \"authored\", \"type\": \"quantitative\"}}, \"title\": \"PR authors for jupyterlab in the last 90 days\", \"$schema\": \"https://vega.github.io/schema/vega-lite/v5.20.1.json\", \"datasets\": {\"data-ab6886b96fa4d4bc5288e1c8729293fb\": [{\"username\": \"jtpio\", \"authored\": 46, \"author_association\": \"MEMBER\"}, {\"username\": \"meeseeksmachine\", \"authored\": 44, \"author_association\": \"CONTRIBUTOR\"}, {\"username\": \"dependabot[bot]\", \"authored\": 33, \"author_association\": \"CONTRIBUTOR\"}, {\"username\": \"krassowski\", \"authored\": 31, \"author_association\": \"MEMBER\"}, {\"username\": \"brichet\", \"authored\": 25, \"author_association\": \"MEMBER\"}, {\"username\": \"github-actions[bot]\", \"authored\": 24, \"author_association\": \"CONTRIBUTOR\"}, {\"username\": \"dlqqq\", \"authored\": 13, \"author_association\": \"MEMBER\"}, {\"username\": \"Darshan808\", \"authored\": 13, \"author_association\": \"MEMBER\"}, {\"username\": \"srdas\", \"authored\": 12, \"author_association\": \"COLLABORATOR\"}, {\"username\": \"fcollonval\", \"authored\": 10, \"author_association\": \"MEMBER\"}, {\"username\": \"andrii-i\", \"authored\": 5, \"author_association\": \"MEMBER\"}, {\"username\": \"MUFFANUJ\", \"authored\": 4, \"author_association\": \"CONTRIBUTOR\"}, {\"username\": \"davidbrochart\", \"authored\": 4, \"author_association\": \"MEMBER\"}, {\"username\": \"keerthi-swarna\", \"authored\": 4, \"author_association\": \"COLLABORATOR\"}, {\"username\": \"hxrshxz\", \"authored\": 4, \"author_association\": \"CONTRIBUTOR\"}, {\"username\": \"pre-commit-ci[bot]\", \"authored\": 3, \"author_association\": \"CONTRIBUTOR\"}, {\"username\": \"nkn2022\", \"authored\": 3, \"author_association\": \"CONTRIBUTOR\"}, {\"username\": \"afshin\", \"authored\": 3, \"author_association\": \"MEMBER\"}, {\"username\": \"itsmevichu\", \"authored\": 3, \"author_association\": \"MEMBER\"}, {\"username\": \"minrk\", \"authored\": 2, \"author_association\": \"MEMBER\"}, {\"username\": \"Princekumarofficial\", \"authored\": 2, \"author_association\": \"CONTRIBUTOR\"}, {\"username\": \"martinRenou\", \"authored\": 2, \"author_association\": \"MEMBER\"}, {\"username\": \"SHRISHTISHUKLA-0\", \"authored\": 2, \"author_association\": \"NONE\"}, {\"username\": \"Guillermovasco\", \"authored\": 1, \"author_association\": \"FIRST_TIMER\"}, {\"username\": \"cmarmo\", \"authored\": 1, \"author_association\": \"CONTRIBUTOR\"}, {\"username\": \"bollwyvl\", \"authored\": 1, \"author_association\": \"MEMBER\"}, {\"username\": \"allison-truhlar\", \"authored\": 1, \"author_association\": \"CONTRIBUTOR\"}, {\"username\": \"bnavigator\", \"authored\": 1, \"author_association\": \"CONTRIBUTOR\"}, {\"username\": \"YvesNDIKURIYO-2022\", \"authored\": 1, \"author_association\": \"NONE\"}, {\"username\": \"Zsailer\", \"authored\": 1, \"author_association\": \"MEMBER\"}, {\"username\": \"achhina\", \"authored\": 1, \"author_association\": \"CONTRIBUTOR\"}, {\"username\": \"adityamali\", \"authored\": 1, \"author_association\": \"NONE\"}, {\"username\": \"SylvainCorlay\", \"authored\": 1, \"author_association\": \"MEMBER\"}, {\"username\": \"SatyajitRedekar\", \"authored\": 1, \"author_association\": \"CONTRIBUTOR\"}, {\"username\": \"Rishab87\", \"authored\": 1, \"author_association\": \"CONTRIBUTOR\"}, {\"username\": \"3coins\", \"authored\": 1, \"author_association\": \"MEMBER\"}, {\"username\": \"DenisaCG\", \"authored\": 1, \"author_association\": \"MEMBER\"}, {\"username\": \"Adam-D-Lewis\", \"authored\": 1, \"author_association\": \"CONTRIBUTOR\"}, {\"username\": \"Kcato1\", \"authored\": 1, \"author_association\": \"FIRST_TIMER\"}, {\"username\": \"ghost\", \"authored\": 1, \"author_association\": \"NONE\"}, {\"username\": \"jesuino\", \"authored\": 1, \"author_association\": \"CONTRIBUTOR\"}, {\"username\": \"jhgoebbert\", \"authored\": 1, \"author_association\": \"NONE\"}, {\"username\": \"hiCXK\", \"authored\": 1, \"author_association\": \"NONE\"}, {\"username\": \"iisakkirotko\", \"authored\": 1, \"author_association\": \"CONTRIBUTOR\"}, {\"username\": \"dotnetautor\", \"authored\": 1, \"author_association\": \"CONTRIBUTOR\"}, {\"username\": \"dnlzrgz\", \"authored\": 1, \"author_association\": \"CONTRIBUTOR\"}, {\"username\": \"francoculaciati\", \"authored\": 1, \"author_association\": \"FIRST_TIME_CONTRIBUTOR\"}, {\"username\": \"pdarshane\", \"authored\": 1, \"author_association\": \"CONTRIBUTOR\"}, {\"username\": \"peytondmurray\", \"authored\": 1, \"author_association\": \"CONTRIBUTOR\"}, {\"username\": \"rsaditya01\", \"authored\": 1, \"author_association\": \"CONTRIBUTOR\"}, {\"username\": \"simonw\", \"authored\": 1, \"author_association\": \"NONE\"}, {\"username\": \"trungleduc\", \"authored\": 1, \"author_association\": \"MEMBER\"}, {\"username\": \"vidartf\", \"authored\": 1, \"author_association\": \"MEMBER\"}, {\"username\": \"yacchin1205\", \"authored\": 1, \"author_association\": \"CONTRIBUTOR\"}, {\"username\": \"yukiiii04\", \"authored\": 1, \"author_association\": \"CONTRIBUTOR\"}, {\"username\": \"yuvipanda\", \"authored\": 1, \"author_association\": \"CONTRIBUTOR\"}]}}, {\"mode\": \"vega-lite\"});\n",
       "</script>"
      ],
      "text/plain": [
       "alt.Chart(...)"
      ]
     },
     "execution_count": 13,
     "metadata": {},
     "output_type": "execute_result"
    }
   ],
   "source": [
    "charts = []\n",
    "title = f\"PR authors for {github_org} in the last {n_days} days\"\n",
    "this_data = merged_by_repo.replace(np.nan, 0).groupby('username', as_index=False).agg({'authored': 'sum', 'author_association': 'first'})\n",
    "this_data = this_data.sort_values('authored', ascending=False)\n",
    "ch = alt.Chart(data=this_data, title=title).mark_bar().encode(\n",
    "    x='username',\n",
    "    y='authored',\n",
    "    color=alt.Color('author_association', scale=alt.Scale(domain=author_types, range=author_colors))\n",
    ")\n",
    "ch"
   ]
  },
  {
   "cell_type": "code",
   "execution_count": 14,
   "id": "ddaec232",
   "metadata": {
    "editable": true,
    "execution": {
     "iopub.execute_input": "2025-05-12T16:41:37.567327Z",
     "iopub.status.busy": "2025-05-12T16:41:37.566823Z",
     "iopub.status.idle": "2025-05-12T16:41:37.586089Z",
     "shell.execute_reply": "2025-05-12T16:41:37.585456Z"
    },
    "papermill": {
     "duration": 0.037712,
     "end_time": "2025-05-12T16:41:37.587178",
     "exception": false,
     "start_time": "2025-05-12T16:41:37.549466",
     "status": "completed"
    },
    "slideshow": {
     "slide_type": ""
    },
    "tags": [
     "hide_input"
    ]
   },
   "outputs": [
    {
     "data": {
      "text/html": [
       "\n",
       "<style>\n",
       "  #altair-viz-7949d5adc3dd4437abd041a60306e701.vega-embed {\n",
       "    width: 100%;\n",
       "    display: flex;\n",
       "  }\n",
       "\n",
       "  #altair-viz-7949d5adc3dd4437abd041a60306e701.vega-embed details,\n",
       "  #altair-viz-7949d5adc3dd4437abd041a60306e701.vega-embed details summary {\n",
       "    position: relative;\n",
       "  }\n",
       "</style>\n",
       "<div id=\"altair-viz-7949d5adc3dd4437abd041a60306e701\"></div>\n",
       "<script type=\"text/javascript\">\n",
       "  var VEGA_DEBUG = (typeof VEGA_DEBUG == \"undefined\") ? {} : VEGA_DEBUG;\n",
       "  (function(spec, embedOpt){\n",
       "    let outputDiv = document.currentScript.previousElementSibling;\n",
       "    if (outputDiv.id !== \"altair-viz-7949d5adc3dd4437abd041a60306e701\") {\n",
       "      outputDiv = document.getElementById(\"altair-viz-7949d5adc3dd4437abd041a60306e701\");\n",
       "    }\n",
       "\n",
       "    const paths = {\n",
       "      \"vega\": \"https://cdn.jsdelivr.net/npm/vega@5?noext\",\n",
       "      \"vega-lib\": \"https://cdn.jsdelivr.net/npm/vega-lib?noext\",\n",
       "      \"vega-lite\": \"https://cdn.jsdelivr.net/npm/vega-lite@5.20.1?noext\",\n",
       "      \"vega-embed\": \"https://cdn.jsdelivr.net/npm/vega-embed@6?noext\",\n",
       "    };\n",
       "\n",
       "    function maybeLoadScript(lib, version) {\n",
       "      var key = `${lib.replace(\"-\", \"\")}_version`;\n",
       "      return (VEGA_DEBUG[key] == version) ?\n",
       "        Promise.resolve(paths[lib]) :\n",
       "        new Promise(function(resolve, reject) {\n",
       "          var s = document.createElement('script');\n",
       "          document.getElementsByTagName(\"head\")[0].appendChild(s);\n",
       "          s.async = true;\n",
       "          s.onload = () => {\n",
       "            VEGA_DEBUG[key] = version;\n",
       "            return resolve(paths[lib]);\n",
       "          };\n",
       "          s.onerror = () => reject(`Error loading script: ${paths[lib]}`);\n",
       "          s.src = paths[lib];\n",
       "        });\n",
       "    }\n",
       "\n",
       "    function showError(err) {\n",
       "      outputDiv.innerHTML = `<div class=\"error\" style=\"color:red;\">${err}</div>`;\n",
       "      throw err;\n",
       "    }\n",
       "\n",
       "    function displayChart(vegaEmbed) {\n",
       "      vegaEmbed(outputDiv, spec, embedOpt)\n",
       "        .catch(err => showError(`Javascript Error: ${err.message}<br>This usually means there's a typo in your chart specification. See the javascript console for the full traceback.`));\n",
       "    }\n",
       "\n",
       "    if(typeof define === \"function\" && define.amd) {\n",
       "      requirejs.config({paths});\n",
       "      let deps = [\"vega-embed\"];\n",
       "      require(deps, displayChart, err => showError(`Error loading script: ${err.message}`));\n",
       "    } else {\n",
       "      maybeLoadScript(\"vega\", \"5\")\n",
       "        .then(() => maybeLoadScript(\"vega-lite\", \"5.20.1\"))\n",
       "        .then(() => maybeLoadScript(\"vega-embed\", \"6\"))\n",
       "        .catch(showError)\n",
       "        .then(() => displayChart(vegaEmbed));\n",
       "    }\n",
       "  })({\"config\": {\"axisLeft\": {\"labelFontSize\": 15}, \"axisBottom\": {\"labelFontSize\": 15}}, \"data\": {\"name\": \"data-28ab478a6f4a1773e92377be0e8563f7\"}, \"mark\": {\"type\": \"bar\"}, \"encoding\": {\"x\": {\"field\": \"username\", \"type\": \"nominal\"}, \"y\": {\"field\": \"closed\", \"type\": \"quantitative\"}}, \"title\": \"Users that have merged PRs for jupyterlab in the last 90 days\", \"$schema\": \"https://vega.github.io/schema/vega-lite/v5.20.1.json\", \"datasets\": {\"data-28ab478a6f4a1773e92377be0e8563f7\": [{\"name\": \".github\", \"username\": \"jtpio\", \"closed\": 1}, {\"name\": \"extension-examples\", \"username\": \"fcollonval\", \"closed\": 1}, {\"name\": \"extension-examples\", \"username\": \"krassowski\", \"closed\": 1}, {\"name\": \"extension-template\", \"username\": \"fcollonval\", \"closed\": 1}, {\"name\": \"extension-template\", \"username\": \"krassowski\", \"closed\": 1}, {\"name\": \"frontends-team-compass\", \"username\": \"jtpio\", \"closed\": 1}, {\"name\": \"jupyter-ai\", \"username\": \"SylvainCorlay\", \"closed\": 1}, {\"name\": \"jupyter-ai\", \"username\": \"brichet\", \"closed\": 1}, {\"name\": \"jupyter-ai\", \"username\": \"dlqqq\", \"closed\": 25}, {\"name\": \"jupyter-ai\", \"username\": \"francoculaciati\", \"closed\": 1}, {\"name\": \"jupyter-ai\", \"username\": \"srdas\", \"closed\": 18}, {\"name\": \"jupyter-builder\", \"username\": \"fcollonval\", \"closed\": 2}, {\"name\": \"jupyter-chat\", \"username\": \"andrii-i\", \"closed\": 2}, {\"name\": \"jupyter-chat\", \"username\": \"brichet\", \"closed\": 19}, {\"name\": \"jupyter-chat\", \"username\": \"dlqqq\", \"closed\": 2}, {\"name\": \"jupyter-chat\", \"username\": \"jtpio\", \"closed\": 4}, {\"name\": \"jupyter-collaboration\", \"username\": \"andrii-i\", \"closed\": 2}, {\"name\": \"jupyter-collaboration\", \"username\": \"brichet\", \"closed\": 3}, {\"name\": \"jupyter-collaboration\", \"username\": \"davidbrochart\", \"closed\": 6}, {\"name\": \"jupyter-collaboration\", \"username\": \"krassowski\", \"closed\": 14}, {\"name\": \"jupyter-renderers\", \"username\": \"fcollonval\", \"closed\": 1}, {\"name\": \"jupyterlab\", \"username\": \"Zsailer\", \"closed\": 1}, {\"name\": \"jupyterlab\", \"username\": \"adityamali\", \"closed\": 1}, {\"name\": \"jupyterlab\", \"username\": \"afshin\", \"closed\": 2}, {\"name\": \"jupyterlab\", \"username\": \"davidbrochart\", \"closed\": 1}, {\"name\": \"jupyterlab\", \"username\": \"fcollonval\", \"closed\": 1}, {\"name\": \"jupyterlab\", \"username\": \"hxrshxz\", \"closed\": 2}, {\"name\": \"jupyterlab\", \"username\": \"jtpio\", \"closed\": 38}, {\"name\": \"jupyterlab\", \"username\": \"krassowski\", \"closed\": 118}, {\"name\": \"jupyterlab\", \"username\": \"simonw\", \"closed\": 1}, {\"name\": \"jupyterlab-demo\", \"username\": \"krassowski\", \"closed\": 2}, {\"name\": \"jupyterlab-desktop\", \"username\": \"krassowski\", \"closed\": 1}, {\"name\": \"jupyterlab-git\", \"username\": \"fcollonval\", \"closed\": 2}, {\"name\": \"jupyterlab-git\", \"username\": \"krassowski\", \"closed\": 2}, {\"name\": \"jupyterlab_server\", \"username\": \"fcollonval\", \"closed\": 1}, {\"name\": \"jupyterlab_server\", \"username\": \"krassowski\", \"closed\": 2}, {\"name\": \"language-packs\", \"username\": \"fcollonval\", \"closed\": 23}, {\"name\": \"language-packs\", \"username\": \"krassowski\", \"closed\": 2}, {\"name\": \"lumino\", \"username\": \"afshin\", \"closed\": 2}, {\"name\": \"lumino\", \"username\": \"fcollonval\", \"closed\": 5}, {\"name\": \"lumino\", \"username\": \"jtpio\", \"closed\": 2}, {\"name\": \"lumino\", \"username\": \"krassowski\", \"closed\": 5}, {\"name\": \"maintainer-tools\", \"username\": \"danyeaw\", \"closed\": 1}, {\"name\": \"maintainer-tools\", \"username\": \"fcollonval\", \"closed\": 2}, {\"name\": \"maintainer-tools\", \"username\": \"jtpio\", \"closed\": 1}]}}, {\"mode\": \"vega-lite\"});\n",
       "</script>"
      ],
      "text/plain": [
       "alt.Chart(...)"
      ]
     },
     "execution_count": 14,
     "metadata": {},
     "output_type": "execute_result"
    }
   ],
   "source": [
    "charts = []\n",
    "title = f\"Users that have merged PRs for {github_org} in the last {n_days} days\"\n",
    "ch = alt.Chart(data=closed_by_repo.replace(np.nan, 0), title=title).mark_bar().encode(\n",
    "    x='username',\n",
    "    y='closed',\n",
    ")\n",
    "ch"
   ]
  },
  {
   "cell_type": "markdown",
   "id": "81eb74da",
   "metadata": {
    "editable": true,
    "papermill": {
     "duration": 0.015302,
     "end_time": "2025-05-12T16:41:37.617974",
     "exception": false,
     "start_time": "2025-05-12T16:41:37.602672",
     "status": "completed"
    },
    "slideshow": {
     "slide_type": ""
    },
    "tags": []
   },
   "source": [
    "## Issues\n",
    "\n",
    "Issues are **conversations** that happen on our GitHub repositories. Here's an\n",
    "analysis of issues across the Jupyter organizations."
   ]
  },
  {
   "cell_type": "code",
   "execution_count": 15,
   "id": "97d34a38",
   "metadata": {
    "editable": true,
    "execution": {
     "iopub.execute_input": "2025-05-12T16:41:37.649933Z",
     "iopub.status.busy": "2025-05-12T16:41:37.649454Z",
     "iopub.status.idle": "2025-05-12T16:41:37.669514Z",
     "shell.execute_reply": "2025-05-12T16:41:37.668933Z"
    },
    "papermill": {
     "duration": 0.037352,
     "end_time": "2025-05-12T16:41:37.670667",
     "exception": false,
     "start_time": "2025-05-12T16:41:37.633315",
     "status": "completed"
    },
    "slideshow": {
     "slide_type": ""
    },
    "tags": [
     "remove_cell"
    ]
   },
   "outputs": [],
   "source": [
    "created = issues.query('state == \"open\" and created_at > @start_date and created_at < @stop_date')\n",
    "closed = issues.query('state == \"closed\" and closed_at > @start_date and closed_at < @stop_date')"
   ]
  },
  {
   "cell_type": "code",
   "execution_count": 16,
   "id": "2511fef2",
   "metadata": {
    "editable": true,
    "execution": {
     "iopub.execute_input": "2025-05-12T16:41:37.704432Z",
     "iopub.status.busy": "2025-05-12T16:41:37.703887Z",
     "iopub.status.idle": "2025-05-12T16:41:37.728206Z",
     "shell.execute_reply": "2025-05-12T16:41:37.727520Z"
    },
    "papermill": {
     "duration": 0.042383,
     "end_time": "2025-05-12T16:41:37.729318",
     "exception": false,
     "start_time": "2025-05-12T16:41:37.686935",
     "status": "completed"
    },
    "slideshow": {
     "slide_type": ""
    },
    "tags": [
     "hide_input"
    ]
   },
   "outputs": [
    {
     "data": {
      "text/html": [
       "\n",
       "<style>\n",
       "  #altair-viz-68fa398d0bf94a57b2a58b0329e31c3a.vega-embed {\n",
       "    width: 100%;\n",
       "    display: flex;\n",
       "  }\n",
       "\n",
       "  #altair-viz-68fa398d0bf94a57b2a58b0329e31c3a.vega-embed details,\n",
       "  #altair-viz-68fa398d0bf94a57b2a58b0329e31c3a.vega-embed details summary {\n",
       "    position: relative;\n",
       "  }\n",
       "</style>\n",
       "<div id=\"altair-viz-68fa398d0bf94a57b2a58b0329e31c3a\"></div>\n",
       "<script type=\"text/javascript\">\n",
       "  var VEGA_DEBUG = (typeof VEGA_DEBUG == \"undefined\") ? {} : VEGA_DEBUG;\n",
       "  (function(spec, embedOpt){\n",
       "    let outputDiv = document.currentScript.previousElementSibling;\n",
       "    if (outputDiv.id !== \"altair-viz-68fa398d0bf94a57b2a58b0329e31c3a\") {\n",
       "      outputDiv = document.getElementById(\"altair-viz-68fa398d0bf94a57b2a58b0329e31c3a\");\n",
       "    }\n",
       "\n",
       "    const paths = {\n",
       "      \"vega\": \"https://cdn.jsdelivr.net/npm/vega@5?noext\",\n",
       "      \"vega-lib\": \"https://cdn.jsdelivr.net/npm/vega-lib?noext\",\n",
       "      \"vega-lite\": \"https://cdn.jsdelivr.net/npm/vega-lite@5.20.1?noext\",\n",
       "      \"vega-embed\": \"https://cdn.jsdelivr.net/npm/vega-embed@6?noext\",\n",
       "    };\n",
       "\n",
       "    function maybeLoadScript(lib, version) {\n",
       "      var key = `${lib.replace(\"-\", \"\")}_version`;\n",
       "      return (VEGA_DEBUG[key] == version) ?\n",
       "        Promise.resolve(paths[lib]) :\n",
       "        new Promise(function(resolve, reject) {\n",
       "          var s = document.createElement('script');\n",
       "          document.getElementsByTagName(\"head\")[0].appendChild(s);\n",
       "          s.async = true;\n",
       "          s.onload = () => {\n",
       "            VEGA_DEBUG[key] = version;\n",
       "            return resolve(paths[lib]);\n",
       "          };\n",
       "          s.onerror = () => reject(`Error loading script: ${paths[lib]}`);\n",
       "          s.src = paths[lib];\n",
       "        });\n",
       "    }\n",
       "\n",
       "    function showError(err) {\n",
       "      outputDiv.innerHTML = `<div class=\"error\" style=\"color:red;\">${err}</div>`;\n",
       "      throw err;\n",
       "    }\n",
       "\n",
       "    function displayChart(vegaEmbed) {\n",
       "      vegaEmbed(outputDiv, spec, embedOpt)\n",
       "        .catch(err => showError(`Javascript Error: ${err.message}<br>This usually means there's a typo in your chart specification. See the javascript console for the full traceback.`));\n",
       "    }\n",
       "\n",
       "    if(typeof define === \"function\" && define.amd) {\n",
       "      requirejs.config({paths});\n",
       "      let deps = [\"vega-embed\"];\n",
       "      require(deps, displayChart, err => showError(`Error loading script: ${err.message}`));\n",
       "    } else {\n",
       "      maybeLoadScript(\"vega\", \"5\")\n",
       "        .then(() => maybeLoadScript(\"vega-lite\", \"5.20.1\"))\n",
       "        .then(() => maybeLoadScript(\"vega-embed\", \"6\"))\n",
       "        .catch(showError)\n",
       "        .then(() => displayChart(vegaEmbed));\n",
       "    }\n",
       "  })({\"config\": {\"axisLeft\": {\"labelFontSize\": 15}, \"axisBottom\": {\"labelFontSize\": 15}}, \"data\": {\"name\": \"data-abfc16ed9f259dbee1fbe40301a9fbbc\"}, \"mark\": {\"type\": \"bar\"}, \"encoding\": {\"x\": {\"field\": \"repo\", \"sort\": [\"jupyterlab\", \"jupyter-ai\", \"jupyter-chat\", \"jupyter-collaboration\", \"jupyterlab-desktop\", \"jupyterlab-git\", \"lumino\", \"extension-template\", \"extension-examples\", \"frontends-team-compass\", \"jupyterlab_server\"], \"type\": \"nominal\"}, \"y\": {\"field\": \"number\", \"type\": \"quantitative\"}}, \"title\": \"Issues created in the last 90 days\", \"$schema\": \"https://vega.github.io/schema/vega-lite/v5.20.1.json\", \"datasets\": {\"data-abfc16ed9f259dbee1fbe40301a9fbbc\": [{\"org\": \"jupyterlab\", \"repo\": \"extension-examples\", \"number\": 1, \"org/repo\": \"jupyterlab/extension-examples\"}, {\"org\": \"jupyterlab\", \"repo\": \"extension-template\", \"number\": 2, \"org/repo\": \"jupyterlab/extension-template\"}, {\"org\": \"jupyterlab\", \"repo\": \"frontends-team-compass\", \"number\": 1, \"org/repo\": \"jupyterlab/frontends-team-compass\"}, {\"org\": \"jupyterlab\", \"repo\": \"jupyter-ai\", \"number\": 24, \"org/repo\": \"jupyterlab/jupyter-ai\"}, {\"org\": \"jupyterlab\", \"repo\": \"jupyter-chat\", \"number\": 18, \"org/repo\": \"jupyterlab/jupyter-chat\"}, {\"org\": \"jupyterlab\", \"repo\": \"jupyter-collaboration\", \"number\": 6, \"org/repo\": \"jupyterlab/jupyter-collaboration\"}, {\"org\": \"jupyterlab\", \"repo\": \"jupyterlab\", \"number\": 64, \"org/repo\": \"jupyterlab/jupyterlab\"}, {\"org\": \"jupyterlab\", \"repo\": \"jupyterlab-desktop\", \"number\": 5, \"org/repo\": \"jupyterlab/jupyterlab-desktop\"}, {\"org\": \"jupyterlab\", \"repo\": \"jupyterlab-git\", \"number\": 4, \"org/repo\": \"jupyterlab/jupyterlab-git\"}, {\"org\": \"jupyterlab\", \"repo\": \"jupyterlab_server\", \"number\": 1, \"org/repo\": \"jupyterlab/jupyterlab_server\"}, {\"org\": \"jupyterlab\", \"repo\": \"lumino\", \"number\": 3, \"org/repo\": \"jupyterlab/lumino\"}]}}, {\"mode\": \"vega-lite\"});\n",
       "</script>"
      ],
      "text/plain": [
       "alt.Chart(...)"
      ]
     },
     "execution_count": 16,
     "metadata": {},
     "output_type": "execute_result"
    }
   ],
   "source": [
    "created_counts = created.groupby(['org', 'repo']).count()['number'].reset_index()\n",
    "created_counts['org/repo'] = created_counts.apply(lambda a: a['org'] + '/' + a['repo'], axis=1)\n",
    "sorted_vals = created_counts.sort_values(['org', 'number'], ascending=False)['repo'].values\n",
    "alt.Chart(data=created_counts, title=f\"Issues created in the last {n_days} days\").mark_bar().encode(\n",
    "    x=alt.X('repo', sort=alt.Sort(sorted_vals.tolist())),\n",
    "    y='number',\n",
    ")"
   ]
  },
  {
   "cell_type": "code",
   "execution_count": 17,
   "id": "e83cde65",
   "metadata": {
    "editable": true,
    "execution": {
     "iopub.execute_input": "2025-05-12T16:41:37.761119Z",
     "iopub.status.busy": "2025-05-12T16:41:37.760878Z",
     "iopub.status.idle": "2025-05-12T16:41:37.783795Z",
     "shell.execute_reply": "2025-05-12T16:41:37.783103Z"
    },
    "papermill": {
     "duration": 0.040029,
     "end_time": "2025-05-12T16:41:37.784886",
     "exception": false,
     "start_time": "2025-05-12T16:41:37.744857",
     "status": "completed"
    },
    "slideshow": {
     "slide_type": ""
    },
    "tags": [
     "hide_input"
    ]
   },
   "outputs": [
    {
     "data": {
      "text/html": [
       "\n",
       "<style>\n",
       "  #altair-viz-1a6578d097664fa182f589a4f1e4cf0f.vega-embed {\n",
       "    width: 100%;\n",
       "    display: flex;\n",
       "  }\n",
       "\n",
       "  #altair-viz-1a6578d097664fa182f589a4f1e4cf0f.vega-embed details,\n",
       "  #altair-viz-1a6578d097664fa182f589a4f1e4cf0f.vega-embed details summary {\n",
       "    position: relative;\n",
       "  }\n",
       "</style>\n",
       "<div id=\"altair-viz-1a6578d097664fa182f589a4f1e4cf0f\"></div>\n",
       "<script type=\"text/javascript\">\n",
       "  var VEGA_DEBUG = (typeof VEGA_DEBUG == \"undefined\") ? {} : VEGA_DEBUG;\n",
       "  (function(spec, embedOpt){\n",
       "    let outputDiv = document.currentScript.previousElementSibling;\n",
       "    if (outputDiv.id !== \"altair-viz-1a6578d097664fa182f589a4f1e4cf0f\") {\n",
       "      outputDiv = document.getElementById(\"altair-viz-1a6578d097664fa182f589a4f1e4cf0f\");\n",
       "    }\n",
       "\n",
       "    const paths = {\n",
       "      \"vega\": \"https://cdn.jsdelivr.net/npm/vega@5?noext\",\n",
       "      \"vega-lib\": \"https://cdn.jsdelivr.net/npm/vega-lib?noext\",\n",
       "      \"vega-lite\": \"https://cdn.jsdelivr.net/npm/vega-lite@5.20.1?noext\",\n",
       "      \"vega-embed\": \"https://cdn.jsdelivr.net/npm/vega-embed@6?noext\",\n",
       "    };\n",
       "\n",
       "    function maybeLoadScript(lib, version) {\n",
       "      var key = `${lib.replace(\"-\", \"\")}_version`;\n",
       "      return (VEGA_DEBUG[key] == version) ?\n",
       "        Promise.resolve(paths[lib]) :\n",
       "        new Promise(function(resolve, reject) {\n",
       "          var s = document.createElement('script');\n",
       "          document.getElementsByTagName(\"head\")[0].appendChild(s);\n",
       "          s.async = true;\n",
       "          s.onload = () => {\n",
       "            VEGA_DEBUG[key] = version;\n",
       "            return resolve(paths[lib]);\n",
       "          };\n",
       "          s.onerror = () => reject(`Error loading script: ${paths[lib]}`);\n",
       "          s.src = paths[lib];\n",
       "        });\n",
       "    }\n",
       "\n",
       "    function showError(err) {\n",
       "      outputDiv.innerHTML = `<div class=\"error\" style=\"color:red;\">${err}</div>`;\n",
       "      throw err;\n",
       "    }\n",
       "\n",
       "    function displayChart(vegaEmbed) {\n",
       "      vegaEmbed(outputDiv, spec, embedOpt)\n",
       "        .catch(err => showError(`Javascript Error: ${err.message}<br>This usually means there's a typo in your chart specification. See the javascript console for the full traceback.`));\n",
       "    }\n",
       "\n",
       "    if(typeof define === \"function\" && define.amd) {\n",
       "      requirejs.config({paths});\n",
       "      let deps = [\"vega-embed\"];\n",
       "      require(deps, displayChart, err => showError(`Error loading script: ${err.message}`));\n",
       "    } else {\n",
       "      maybeLoadScript(\"vega\", \"5\")\n",
       "        .then(() => maybeLoadScript(\"vega-lite\", \"5.20.1\"))\n",
       "        .then(() => maybeLoadScript(\"vega-embed\", \"6\"))\n",
       "        .catch(showError)\n",
       "        .then(() => displayChart(vegaEmbed));\n",
       "    }\n",
       "  })({\"config\": {\"axisLeft\": {\"labelFontSize\": 15}, \"axisBottom\": {\"labelFontSize\": 15}}, \"data\": {\"name\": \"data-0378f9c4a29d0859e4eb2b202d22daa6\"}, \"mark\": {\"type\": \"bar\"}, \"encoding\": {\"x\": {\"field\": \"repo\", \"sort\": [\"jupyterlab\", \"jupyter-ai\", \"jupyter-chat\", \"jupyter-collaboration\", \"maintainer-tools\", \"jupyterlab_pygments\", \"extension-template\", \"frontends-team-compass\", \"jupyterlab-git\", \"jupyterlab-demo\", \"lumino\", \"jupyterlab-desktop\"], \"type\": \"nominal\"}, \"y\": {\"field\": \"number\", \"type\": \"quantitative\"}}, \"title\": \"Issues closed in the last 90 days\", \"$schema\": \"https://vega.github.io/schema/vega-lite/v5.20.1.json\", \"datasets\": {\"data-0378f9c4a29d0859e4eb2b202d22daa6\": [{\"org\": \"jupyterlab\", \"repo\": \"extension-template\", \"number\": 2, \"org/repo\": \"jupyterlab/extension-template\"}, {\"org\": \"jupyterlab\", \"repo\": \"frontends-team-compass\", \"number\": 2, \"org/repo\": \"jupyterlab/frontends-team-compass\"}, {\"org\": \"jupyterlab\", \"repo\": \"jupyter-ai\", \"number\": 44, \"org/repo\": \"jupyterlab/jupyter-ai\"}, {\"org\": \"jupyterlab\", \"repo\": \"jupyter-chat\", \"number\": 18, \"org/repo\": \"jupyterlab/jupyter-chat\"}, {\"org\": \"jupyterlab\", \"repo\": \"jupyter-collaboration\", \"number\": 9, \"org/repo\": \"jupyterlab/jupyter-collaboration\"}, {\"org\": \"jupyterlab\", \"repo\": \"jupyterlab\", \"number\": 100, \"org/repo\": \"jupyterlab/jupyterlab\"}, {\"org\": \"jupyterlab\", \"repo\": \"jupyterlab-demo\", \"number\": 2, \"org/repo\": \"jupyterlab/jupyterlab-demo\"}, {\"org\": \"jupyterlab\", \"repo\": \"jupyterlab-desktop\", \"number\": 1, \"org/repo\": \"jupyterlab/jupyterlab-desktop\"}, {\"org\": \"jupyterlab\", \"repo\": \"jupyterlab-git\", \"number\": 2, \"org/repo\": \"jupyterlab/jupyterlab-git\"}, {\"org\": \"jupyterlab\", \"repo\": \"jupyterlab_pygments\", \"number\": 4, \"org/repo\": \"jupyterlab/jupyterlab_pygments\"}, {\"org\": \"jupyterlab\", \"repo\": \"lumino\", \"number\": 2, \"org/repo\": \"jupyterlab/lumino\"}, {\"org\": \"jupyterlab\", \"repo\": \"maintainer-tools\", \"number\": 4, \"org/repo\": \"jupyterlab/maintainer-tools\"}]}}, {\"mode\": \"vega-lite\"});\n",
       "</script>"
      ],
      "text/plain": [
       "alt.Chart(...)"
      ]
     },
     "execution_count": 17,
     "metadata": {},
     "output_type": "execute_result"
    }
   ],
   "source": [
    "closed_counts = closed.groupby(['org', 'repo']).count()['number'].reset_index()\n",
    "closed_counts['org/repo'] = closed_counts.apply(lambda a: a['org'] + '/' + a['repo'], axis=1)\n",
    "sorted_vals = closed_counts.sort_values(['number'], ascending=False)['repo'].values\n",
    "alt.Chart(data=closed_counts, title=f\"Issues closed in the last {n_days} days\").mark_bar().encode(\n",
    "    x=alt.X('repo', sort=alt.Sort(sorted_vals.tolist())),\n",
    "    y='number',\n",
    ")"
   ]
  },
  {
   "cell_type": "code",
   "execution_count": 18,
   "id": "4d622c97",
   "metadata": {
    "editable": true,
    "execution": {
     "iopub.execute_input": "2025-05-12T16:41:37.818730Z",
     "iopub.status.busy": "2025-05-12T16:41:37.818501Z",
     "iopub.status.idle": "2025-05-12T16:41:37.828993Z",
     "shell.execute_reply": "2025-05-12T16:41:37.828432Z"
    },
    "papermill": {
     "duration": 0.028652,
     "end_time": "2025-05-12T16:41:37.830010",
     "exception": false,
     "start_time": "2025-05-12T16:41:37.801358",
     "status": "completed"
    },
    "slideshow": {
     "slide_type": ""
    },
    "tags": [
     "remove_cell"
    ]
   },
   "outputs": [],
   "source": [
    "created_closed = pd.merge(created_counts.rename(columns={'number': 'created'}).drop(columns='org/repo'),\n",
    "                          closed_counts.rename(columns={'number': 'closed'}).drop(columns='org/repo'),\n",
    "                          on=['org', 'repo'], how='outer')\n",
    "\n",
    "created_closed = pd.melt(created_closed, id_vars=['org', 'repo'], var_name=\"kind\", value_name=\"count\").replace(np.nan, 0)"
   ]
  },
  {
   "cell_type": "code",
   "execution_count": 19,
   "id": "96df1c3f",
   "metadata": {
    "editable": true,
    "execution": {
     "iopub.execute_input": "2025-05-12T16:41:37.862994Z",
     "iopub.status.busy": "2025-05-12T16:41:37.862547Z",
     "iopub.status.idle": "2025-05-12T16:41:37.887319Z",
     "shell.execute_reply": "2025-05-12T16:41:37.886616Z"
    },
    "papermill": {
     "duration": 0.042386,
     "end_time": "2025-05-12T16:41:37.888440",
     "exception": false,
     "start_time": "2025-05-12T16:41:37.846054",
     "status": "completed"
    },
    "scrolled": true,
    "slideshow": {
     "slide_type": ""
    },
    "tags": [
     "hide_input"
    ]
   },
   "outputs": [
    {
     "data": {
      "text/html": [
       "\n",
       "<style>\n",
       "  #altair-viz-7955211104dd4cfcb001419a838a514f.vega-embed {\n",
       "    width: 100%;\n",
       "    display: flex;\n",
       "  }\n",
       "\n",
       "  #altair-viz-7955211104dd4cfcb001419a838a514f.vega-embed details,\n",
       "  #altair-viz-7955211104dd4cfcb001419a838a514f.vega-embed details summary {\n",
       "    position: relative;\n",
       "  }\n",
       "</style>\n",
       "<div id=\"altair-viz-7955211104dd4cfcb001419a838a514f\"></div>\n",
       "<script type=\"text/javascript\">\n",
       "  var VEGA_DEBUG = (typeof VEGA_DEBUG == \"undefined\") ? {} : VEGA_DEBUG;\n",
       "  (function(spec, embedOpt){\n",
       "    let outputDiv = document.currentScript.previousElementSibling;\n",
       "    if (outputDiv.id !== \"altair-viz-7955211104dd4cfcb001419a838a514f\") {\n",
       "      outputDiv = document.getElementById(\"altair-viz-7955211104dd4cfcb001419a838a514f\");\n",
       "    }\n",
       "\n",
       "    const paths = {\n",
       "      \"vega\": \"https://cdn.jsdelivr.net/npm/vega@5?noext\",\n",
       "      \"vega-lib\": \"https://cdn.jsdelivr.net/npm/vega-lib?noext\",\n",
       "      \"vega-lite\": \"https://cdn.jsdelivr.net/npm/vega-lite@5.20.1?noext\",\n",
       "      \"vega-embed\": \"https://cdn.jsdelivr.net/npm/vega-embed@6?noext\",\n",
       "    };\n",
       "\n",
       "    function maybeLoadScript(lib, version) {\n",
       "      var key = `${lib.replace(\"-\", \"\")}_version`;\n",
       "      return (VEGA_DEBUG[key] == version) ?\n",
       "        Promise.resolve(paths[lib]) :\n",
       "        new Promise(function(resolve, reject) {\n",
       "          var s = document.createElement('script');\n",
       "          document.getElementsByTagName(\"head\")[0].appendChild(s);\n",
       "          s.async = true;\n",
       "          s.onload = () => {\n",
       "            VEGA_DEBUG[key] = version;\n",
       "            return resolve(paths[lib]);\n",
       "          };\n",
       "          s.onerror = () => reject(`Error loading script: ${paths[lib]}`);\n",
       "          s.src = paths[lib];\n",
       "        });\n",
       "    }\n",
       "\n",
       "    function showError(err) {\n",
       "      outputDiv.innerHTML = `<div class=\"error\" style=\"color:red;\">${err}</div>`;\n",
       "      throw err;\n",
       "    }\n",
       "\n",
       "    function displayChart(vegaEmbed) {\n",
       "      vegaEmbed(outputDiv, spec, embedOpt)\n",
       "        .catch(err => showError(`Javascript Error: ${err.message}<br>This usually means there's a typo in your chart specification. See the javascript console for the full traceback.`));\n",
       "    }\n",
       "\n",
       "    if(typeof define === \"function\" && define.amd) {\n",
       "      requirejs.config({paths});\n",
       "      let deps = [\"vega-embed\"];\n",
       "      require(deps, displayChart, err => showError(`Error loading script: ${err.message}`));\n",
       "    } else {\n",
       "      maybeLoadScript(\"vega\", \"5\")\n",
       "        .then(() => maybeLoadScript(\"vega-lite\", \"5.20.1\"))\n",
       "        .then(() => maybeLoadScript(\"vega-embed\", \"6\"))\n",
       "        .catch(showError)\n",
       "        .then(() => displayChart(vegaEmbed));\n",
       "    }\n",
       "  })({\"config\": {\"axisLeft\": {\"labelFontSize\": 15}, \"axisBottom\": {\"labelFontSize\": 15}}, \"data\": {\"name\": \"data-35564a4d69cafdf583e07e9c1b4c130d\"}, \"mark\": {\"type\": \"bar\"}, \"encoding\": {\"color\": {\"field\": \"kind\", \"type\": \"nominal\"}, \"column\": {\"field\": \"repo\", \"header\": {\"labelFontSize\": 12, \"title\": \"Issue activity, last 90 days for jupyterlab\", \"titleFontSize\": 15}, \"type\": \"nominal\"}, \"x\": {\"axis\": {\"labelFontSize\": 15, \"title\": \"\"}, \"field\": \"kind\", \"type\": \"nominal\"}, \"y\": {\"axis\": {\"labelFontSize\": 12, \"titleFontSize\": 15}, \"field\": \"count\", \"type\": \"quantitative\"}}, \"width\": 120, \"$schema\": \"https://vega.github.io/schema/vega-lite/v5.20.1.json\", \"datasets\": {\"data-35564a4d69cafdf583e07e9c1b4c130d\": [{\"org\": \"jupyterlab\", \"repo\": \"extension-template\", \"kind\": \"created\", \"count\": 2.0}, {\"org\": \"jupyterlab\", \"repo\": \"jupyter-ai\", \"kind\": \"created\", \"count\": 24.0}, {\"org\": \"jupyterlab\", \"repo\": \"jupyter-chat\", \"kind\": \"created\", \"count\": 18.0}, {\"org\": \"jupyterlab\", \"repo\": \"jupyter-collaboration\", \"kind\": \"created\", \"count\": 6.0}, {\"org\": \"jupyterlab\", \"repo\": \"jupyterlab\", \"kind\": \"created\", \"count\": 64.0}, {\"org\": \"jupyterlab\", \"repo\": \"jupyterlab-desktop\", \"kind\": \"created\", \"count\": 5.0}, {\"org\": \"jupyterlab\", \"repo\": \"jupyterlab-git\", \"kind\": \"created\", \"count\": 4.0}, {\"org\": \"jupyterlab\", \"repo\": \"jupyterlab_pygments\", \"kind\": \"created\", \"count\": 0.0}, {\"org\": \"jupyterlab\", \"repo\": \"lumino\", \"kind\": \"created\", \"count\": 3.0}, {\"org\": \"jupyterlab\", \"repo\": \"maintainer-tools\", \"kind\": \"created\", \"count\": 0.0}, {\"org\": \"jupyterlab\", \"repo\": \"extension-template\", \"kind\": \"closed\", \"count\": 2.0}, {\"org\": \"jupyterlab\", \"repo\": \"jupyter-ai\", \"kind\": \"closed\", \"count\": 44.0}, {\"org\": \"jupyterlab\", \"repo\": \"jupyter-chat\", \"kind\": \"closed\", \"count\": 18.0}, {\"org\": \"jupyterlab\", \"repo\": \"jupyter-collaboration\", \"kind\": \"closed\", \"count\": 9.0}, {\"org\": \"jupyterlab\", \"repo\": \"jupyterlab\", \"kind\": \"closed\", \"count\": 100.0}, {\"org\": \"jupyterlab\", \"repo\": \"jupyterlab-desktop\", \"kind\": \"closed\", \"count\": 1.0}, {\"org\": \"jupyterlab\", \"repo\": \"jupyterlab-git\", \"kind\": \"closed\", \"count\": 2.0}, {\"org\": \"jupyterlab\", \"repo\": \"jupyterlab_pygments\", \"kind\": \"closed\", \"count\": 4.0}, {\"org\": \"jupyterlab\", \"repo\": \"lumino\", \"kind\": \"closed\", \"count\": 2.0}, {\"org\": \"jupyterlab\", \"repo\": \"maintainer-tools\", \"kind\": \"closed\", \"count\": 4.0}]}}, {\"mode\": \"vega-lite\"});\n",
       "</script>"
      ],
      "text/plain": [
       "alt.Chart(...)"
      ]
     },
     "execution_count": 19,
     "metadata": {},
     "output_type": "execute_result"
    }
   ],
   "source": [
    "charts = []\n",
    "# Pick the top 10 repositories\n",
    "top_repos = created_closed.groupby(['repo']).sum().sort_values(by='count', ascending=False).head(10).index\n",
    "ch = alt.Chart(created_closed.query('repo in @top_repos'), width=120).mark_bar().encode(\n",
    "    x=alt.X(\"kind\", axis=alt.Axis(labelFontSize=15, title=\"\")), \n",
    "    y=alt.Y('count', axis=alt.Axis(titleFontSize=15, labelFontSize=12)),\n",
    "    color='kind',\n",
    "    column=alt.Column(\"repo\", header=alt.Header(title=f\"Issue activity, last {n_days} days for {github_org}\", titleFontSize=15, labelFontSize=12))\n",
    ")\n",
    "ch"
   ]
  },
  {
   "cell_type": "code",
   "execution_count": 20,
   "id": "0adc75f1",
   "metadata": {
    "editable": true,
    "execution": {
     "iopub.execute_input": "2025-05-12T16:41:37.923683Z",
     "iopub.status.busy": "2025-05-12T16:41:37.923092Z",
     "iopub.status.idle": "2025-05-12T16:41:37.931474Z",
     "shell.execute_reply": "2025-05-12T16:41:37.930767Z"
    },
    "papermill": {
     "duration": 0.027111,
     "end_time": "2025-05-12T16:41:37.932578",
     "exception": false,
     "start_time": "2025-05-12T16:41:37.905467",
     "status": "completed"
    },
    "slideshow": {
     "slide_type": ""
    },
    "tags": [
     "remove_cell"
    ]
   },
   "outputs": [],
   "source": [
    "# Set to datetime\n",
    "for kind in ['created_at', 'closed_at']:\n",
    "    closed.loc[:, kind] = pd.to_datetime(closed[kind])\n",
    "    \n",
    "closed.loc[:, 'time_open'] = closed['closed_at'] - closed['created_at']\n",
    "closed.loc[:, 'time_open'] = closed['time_open'].dt.total_seconds()"
   ]
  },
  {
   "cell_type": "code",
   "execution_count": 21,
   "id": "b117f378",
   "metadata": {
    "editable": true,
    "execution": {
     "iopub.execute_input": "2025-05-12T16:41:37.965939Z",
     "iopub.status.busy": "2025-05-12T16:41:37.965523Z",
     "iopub.status.idle": "2025-05-12T16:41:37.985560Z",
     "shell.execute_reply": "2025-05-12T16:41:37.984900Z"
    },
    "papermill": {
     "duration": 0.038046,
     "end_time": "2025-05-12T16:41:37.986726",
     "exception": false,
     "start_time": "2025-05-12T16:41:37.948680",
     "status": "completed"
    },
    "slideshow": {
     "slide_type": ""
    },
    "tags": [
     "hide_input"
    ]
   },
   "outputs": [
    {
     "data": {
      "text/html": [
       "\n",
       "<style>\n",
       "  #altair-viz-088cd80f9f8342be90e76bcd635647b6.vega-embed {\n",
       "    width: 100%;\n",
       "    display: flex;\n",
       "  }\n",
       "\n",
       "  #altair-viz-088cd80f9f8342be90e76bcd635647b6.vega-embed details,\n",
       "  #altair-viz-088cd80f9f8342be90e76bcd635647b6.vega-embed details summary {\n",
       "    position: relative;\n",
       "  }\n",
       "</style>\n",
       "<div id=\"altair-viz-088cd80f9f8342be90e76bcd635647b6\"></div>\n",
       "<script type=\"text/javascript\">\n",
       "  var VEGA_DEBUG = (typeof VEGA_DEBUG == \"undefined\") ? {} : VEGA_DEBUG;\n",
       "  (function(spec, embedOpt){\n",
       "    let outputDiv = document.currentScript.previousElementSibling;\n",
       "    if (outputDiv.id !== \"altair-viz-088cd80f9f8342be90e76bcd635647b6\") {\n",
       "      outputDiv = document.getElementById(\"altair-viz-088cd80f9f8342be90e76bcd635647b6\");\n",
       "    }\n",
       "\n",
       "    const paths = {\n",
       "      \"vega\": \"https://cdn.jsdelivr.net/npm/vega@5?noext\",\n",
       "      \"vega-lib\": \"https://cdn.jsdelivr.net/npm/vega-lib?noext\",\n",
       "      \"vega-lite\": \"https://cdn.jsdelivr.net/npm/vega-lite@5.20.1?noext\",\n",
       "      \"vega-embed\": \"https://cdn.jsdelivr.net/npm/vega-embed@6?noext\",\n",
       "    };\n",
       "\n",
       "    function maybeLoadScript(lib, version) {\n",
       "      var key = `${lib.replace(\"-\", \"\")}_version`;\n",
       "      return (VEGA_DEBUG[key] == version) ?\n",
       "        Promise.resolve(paths[lib]) :\n",
       "        new Promise(function(resolve, reject) {\n",
       "          var s = document.createElement('script');\n",
       "          document.getElementsByTagName(\"head\")[0].appendChild(s);\n",
       "          s.async = true;\n",
       "          s.onload = () => {\n",
       "            VEGA_DEBUG[key] = version;\n",
       "            return resolve(paths[lib]);\n",
       "          };\n",
       "          s.onerror = () => reject(`Error loading script: ${paths[lib]}`);\n",
       "          s.src = paths[lib];\n",
       "        });\n",
       "    }\n",
       "\n",
       "    function showError(err) {\n",
       "      outputDiv.innerHTML = `<div class=\"error\" style=\"color:red;\">${err}</div>`;\n",
       "      throw err;\n",
       "    }\n",
       "\n",
       "    function displayChart(vegaEmbed) {\n",
       "      vegaEmbed(outputDiv, spec, embedOpt)\n",
       "        .catch(err => showError(`Javascript Error: ${err.message}<br>This usually means there's a typo in your chart specification. See the javascript console for the full traceback.`));\n",
       "    }\n",
       "\n",
       "    if(typeof define === \"function\" && define.amd) {\n",
       "      requirejs.config({paths});\n",
       "      let deps = [\"vega-embed\"];\n",
       "      require(deps, displayChart, err => showError(`Error loading script: ${err.message}`));\n",
       "    } else {\n",
       "      maybeLoadScript(\"vega\", \"5\")\n",
       "        .then(() => maybeLoadScript(\"vega-lite\", \"5.20.1\"))\n",
       "        .then(() => maybeLoadScript(\"vega-embed\", \"6\"))\n",
       "        .catch(showError)\n",
       "        .then(() => displayChart(vegaEmbed));\n",
       "    }\n",
       "  })({\"config\": {\"axisLeft\": {\"labelFontSize\": 15}, \"axisBottom\": {\"labelFontSize\": 15}}, \"data\": {\"name\": \"data-edc90e638816417bf71d75c174cc06b2\"}, \"mark\": {\"type\": \"bar\"}, \"encoding\": {\"x\": {\"field\": \"repo\", \"sort\": [\"maintainer-tools\", \"jupyterlab-demo\", \"jupyter-ai\", \"jupyterlab-git\", \"jupyterlab\", \"jupyter-chat\", \"jupyterlab-desktop\", \"lumino\", \"jupyter-collaboration\", \"extension-template\", \"frontends-team-compass\", \"jupyterlab_pygments\"], \"type\": \"nominal\"}, \"y\": {\"field\": \"time_open\", \"title\": \"Median Days Open\", \"type\": \"quantitative\"}}, \"title\": \"Time to close for issues closed in the last 90 days\", \"$schema\": \"https://vega.github.io/schema/vega-lite/v5.20.1.json\", \"datasets\": {\"data-edc90e638816417bf71d75c174cc06b2\": [{\"org\": \"jupyterlab\", \"repo\": \"extension-template\", \"time_open\": 7.614774305555556, \"org/repo\": \"jupyterlab/extension-template\"}, {\"org\": \"jupyterlab\", \"repo\": \"frontends-team-compass\", \"time_open\": 3.323605324074074, \"org/repo\": \"jupyterlab/frontends-team-compass\"}, {\"org\": \"jupyterlab\", \"repo\": \"jupyter-ai\", \"time_open\": 61.75816550925926, \"org/repo\": \"jupyterlab/jupyter-ai\"}, {\"org\": \"jupyterlab\", \"repo\": \"jupyter-chat\", \"time_open\": 19.112939814814816, \"org/repo\": \"jupyterlab/jupyter-chat\"}, {\"org\": \"jupyterlab\", \"repo\": \"jupyter-collaboration\", \"time_open\": 14.836273148148148, \"org/repo\": \"jupyterlab/jupyter-collaboration\"}, {\"org\": \"jupyterlab\", \"repo\": \"jupyterlab\", \"time_open\": 21.417372685185185, \"org/repo\": \"jupyterlab/jupyterlab\"}, {\"org\": \"jupyterlab\", \"repo\": \"jupyterlab-demo\", \"time_open\": 89.78174189814816, \"org/repo\": \"jupyterlab/jupyterlab-demo\"}, {\"org\": \"jupyterlab\", \"repo\": \"jupyterlab-desktop\", \"time_open\": 15.044201388888888, \"org/repo\": \"jupyterlab/jupyterlab-desktop\"}, {\"org\": \"jupyterlab\", \"repo\": \"jupyterlab-git\", \"time_open\": 61.65173611111111, \"org/repo\": \"jupyterlab/jupyterlab-git\"}, {\"org\": \"jupyterlab\", \"repo\": \"jupyterlab_pygments\", \"time_open\": 0.22354166666666667, \"org/repo\": \"jupyterlab/jupyterlab_pygments\"}, {\"org\": \"jupyterlab\", \"repo\": \"lumino\", \"time_open\": 14.997633101851852, \"org/repo\": \"jupyterlab/lumino\"}, {\"org\": \"jupyterlab\", \"repo\": \"maintainer-tools\", \"time_open\": 448.97394675925926, \"org/repo\": \"jupyterlab/maintainer-tools\"}]}}, {\"mode\": \"vega-lite\"});\n",
       "</script>"
      ],
      "text/plain": [
       "alt.Chart(...)"
      ]
     },
     "execution_count": 21,
     "metadata": {},
     "output_type": "execute_result"
    }
   ],
   "source": [
    "time_open = closed.groupby(['org', 'repo']).agg({'time_open': 'median'}).reset_index()\n",
    "time_open['time_open'] = time_open['time_open'] / (60 * 60 * 24)\n",
    "time_open['org/repo'] = time_open.apply(lambda a: a['org'] + '/' + a['repo'], axis=1)\n",
    "sorted_vals = time_open.sort_values(['org', 'time_open'], ascending=False)['repo'].values\n",
    "alt.Chart(data=time_open, title=f\"Time to close for issues closed in the last {n_days} days\").mark_bar().encode(\n",
    "    x=alt.X('repo', sort=alt.Sort(sorted_vals.tolist())),\n",
    "    y=alt.Y('time_open', title=\"Median Days Open\"),\n",
    ")"
   ]
  },
  {
   "cell_type": "markdown",
   "id": "a804b205",
   "metadata": {
    "editable": true,
    "papermill": {
     "duration": 0.016426,
     "end_time": "2025-05-12T16:41:38.019934",
     "exception": false,
     "start_time": "2025-05-12T16:41:38.003508",
     "status": "completed"
    },
    "slideshow": {
     "slide_type": ""
    },
    "tags": []
   },
   "source": [
    "## Most-upvoted issues"
   ]
  },
  {
   "cell_type": "code",
   "execution_count": 22,
   "id": "fe4e77ea",
   "metadata": {
    "editable": true,
    "execution": {
     "iopub.execute_input": "2025-05-12T16:41:38.055335Z",
     "iopub.status.busy": "2025-05-12T16:41:38.054639Z",
     "iopub.status.idle": "2025-05-12T16:41:38.081382Z",
     "shell.execute_reply": "2025-05-12T16:41:38.080677Z"
    },
    "papermill": {
     "duration": 0.045626,
     "end_time": "2025-05-12T16:41:38.082464",
     "exception": false,
     "start_time": "2025-05-12T16:41:38.036838",
     "status": "completed"
    },
    "slideshow": {
     "slide_type": ""
    },
    "tags": [
     "hide_input"
    ]
   },
   "outputs": [
    {
     "data": {
      "application/vnd.jupyter.widget-view+json": {
       "model_id": "ff228986dc2841c68fd76e26aa3368a6",
       "version_major": 2,
       "version_minor": 0
      },
      "text/plain": [
       "HTML(value='<ul>\\n<li>(117) Implement variable inspector for kernels - jupyterlab - <a href=\"https://github.co…"
      ]
     },
     "execution_count": 22,
     "metadata": {},
     "output_type": "execute_result"
    }
   ],
   "source": [
    "thumbsup = issues.query(\"state == 'open'\").sort_values(\"positive\", ascending=False).head(25)\n",
    "thumbsup = thumbsup[[\"title\", \"url\", \"number\", \"positive\", \"repo\"]]\n",
    "\n",
    "text = []\n",
    "for ii, irow in thumbsup.iterrows():\n",
    "    itext = f\"- ({irow['positive']}) {irow['title']} - {irow['repo']} - [#{irow['number']}]({irow['url']})\"\n",
    "    text.append(itext)\n",
    "text = '\\n'.join(text)\n",
    "HTML(markdown(text))"
   ]
  },
  {
   "cell_type": "markdown",
   "id": "ffbb7ff3",
   "metadata": {
    "editable": true,
    "papermill": {
     "duration": 0.016592,
     "end_time": "2025-05-12T16:41:38.115911",
     "exception": false,
     "start_time": "2025-05-12T16:41:38.099319",
     "status": "completed"
    },
    "slideshow": {
     "slide_type": ""
    },
    "tags": []
   },
   "source": [
    "## Commenters across repositories\n",
    "\n",
    "These are commenters across all issues and pull requests in the last several days.\n",
    "These are colored by the commenter's association with the organization. For information\n",
    "about what these associations mean, [see this StackOverflow post](https://stackoverflow.com/a/28866914/1927102)."
   ]
  },
  {
   "cell_type": "code",
   "execution_count": 23,
   "id": "2fb1af8c",
   "metadata": {
    "editable": true,
    "execution": {
     "iopub.execute_input": "2025-05-12T16:41:38.150456Z",
     "iopub.status.busy": "2025-05-12T16:41:38.149986Z",
     "iopub.status.idle": "2025-05-12T16:41:38.162773Z",
     "shell.execute_reply": "2025-05-12T16:41:38.162062Z"
    },
    "papermill": {
     "duration": 0.031616,
     "end_time": "2025-05-12T16:41:38.164080",
     "exception": false,
     "start_time": "2025-05-12T16:41:38.132464",
     "status": "completed"
    },
    "slideshow": {
     "slide_type": ""
    },
    "tags": [
     "remove_cell"
    ]
   },
   "outputs": [],
   "source": [
    "commentors = (\n",
    "    comments\n",
    "    .query(\"created_at > @start_date and created_at < @stop_date\")\n",
    "    .groupby(['org', 'repo', 'login', 'author_association'])\n",
    "    .count().rename(columns={'id_issue': 'count'})['count']\n",
    "    .reset_index()\n",
    "    .sort_values(['org', 'count'], ascending=False)\n",
    ")"
   ]
  },
  {
   "cell_type": "code",
   "execution_count": 24,
   "id": "9218bb67",
   "metadata": {
    "editable": true,
    "execution": {
     "iopub.execute_input": "2025-05-12T16:41:38.199621Z",
     "iopub.status.busy": "2025-05-12T16:41:38.199129Z",
     "iopub.status.idle": "2025-05-12T16:41:38.226225Z",
     "shell.execute_reply": "2025-05-12T16:41:38.225481Z"
    },
    "papermill": {
     "duration": 0.045966,
     "end_time": "2025-05-12T16:41:38.227352",
     "exception": false,
     "start_time": "2025-05-12T16:41:38.181386",
     "status": "completed"
    },
    "slideshow": {
     "slide_type": ""
    },
    "tags": [
     "hide_input"
    ]
   },
   "outputs": [
    {
     "data": {
      "text/html": [
       "\n",
       "<style>\n",
       "  #altair-viz-5f9228312b914ea489107c8a1cd94118.vega-embed {\n",
       "    width: 100%;\n",
       "    display: flex;\n",
       "  }\n",
       "\n",
       "  #altair-viz-5f9228312b914ea489107c8a1cd94118.vega-embed details,\n",
       "  #altair-viz-5f9228312b914ea489107c8a1cd94118.vega-embed details summary {\n",
       "    position: relative;\n",
       "  }\n",
       "</style>\n",
       "<div id=\"altair-viz-5f9228312b914ea489107c8a1cd94118\"></div>\n",
       "<script type=\"text/javascript\">\n",
       "  var VEGA_DEBUG = (typeof VEGA_DEBUG == \"undefined\") ? {} : VEGA_DEBUG;\n",
       "  (function(spec, embedOpt){\n",
       "    let outputDiv = document.currentScript.previousElementSibling;\n",
       "    if (outputDiv.id !== \"altair-viz-5f9228312b914ea489107c8a1cd94118\") {\n",
       "      outputDiv = document.getElementById(\"altair-viz-5f9228312b914ea489107c8a1cd94118\");\n",
       "    }\n",
       "\n",
       "    const paths = {\n",
       "      \"vega\": \"https://cdn.jsdelivr.net/npm/vega@5?noext\",\n",
       "      \"vega-lib\": \"https://cdn.jsdelivr.net/npm/vega-lib?noext\",\n",
       "      \"vega-lite\": \"https://cdn.jsdelivr.net/npm/vega-lite@5.20.1?noext\",\n",
       "      \"vega-embed\": \"https://cdn.jsdelivr.net/npm/vega-embed@6?noext\",\n",
       "    };\n",
       "\n",
       "    function maybeLoadScript(lib, version) {\n",
       "      var key = `${lib.replace(\"-\", \"\")}_version`;\n",
       "      return (VEGA_DEBUG[key] == version) ?\n",
       "        Promise.resolve(paths[lib]) :\n",
       "        new Promise(function(resolve, reject) {\n",
       "          var s = document.createElement('script');\n",
       "          document.getElementsByTagName(\"head\")[0].appendChild(s);\n",
       "          s.async = true;\n",
       "          s.onload = () => {\n",
       "            VEGA_DEBUG[key] = version;\n",
       "            return resolve(paths[lib]);\n",
       "          };\n",
       "          s.onerror = () => reject(`Error loading script: ${paths[lib]}`);\n",
       "          s.src = paths[lib];\n",
       "        });\n",
       "    }\n",
       "\n",
       "    function showError(err) {\n",
       "      outputDiv.innerHTML = `<div class=\"error\" style=\"color:red;\">${err}</div>`;\n",
       "      throw err;\n",
       "    }\n",
       "\n",
       "    function displayChart(vegaEmbed) {\n",
       "      vegaEmbed(outputDiv, spec, embedOpt)\n",
       "        .catch(err => showError(`Javascript Error: ${err.message}<br>This usually means there's a typo in your chart specification. See the javascript console for the full traceback.`));\n",
       "    }\n",
       "\n",
       "    if(typeof define === \"function\" && define.amd) {\n",
       "      requirejs.config({paths});\n",
       "      let deps = [\"vega-embed\"];\n",
       "      require(deps, displayChart, err => showError(`Error loading script: ${err.message}`));\n",
       "    } else {\n",
       "      maybeLoadScript(\"vega\", \"5\")\n",
       "        .then(() => maybeLoadScript(\"vega-lite\", \"5.20.1\"))\n",
       "        .then(() => maybeLoadScript(\"vega-embed\", \"6\"))\n",
       "        .catch(showError)\n",
       "        .then(() => displayChart(vegaEmbed));\n",
       "    }\n",
       "  })({\"config\": {\"axisLeft\": {\"labelFontSize\": 15}, \"axisBottom\": {\"labelFontSize\": 15}}, \"hconcat\": [{\"mark\": {\"type\": \"bar\"}, \"encoding\": {\"color\": {\"field\": \"author_association\", \"scale\": {\"domain\": [\"MEMBER\", \"CONTRIBUTOR\", \"COLLABORATOR\", \"NONE\"], \"range\": [\"rgb(211.82745098039214, 211.82745098039214, 211.82745098039214)\", \"rgb(166.98562091503268, 229.89803921568628, 166.98562091503268)\", \"rgb(96.37647058823529, 192.75294117647059, 96.37647058823529)\", \"rgb(0.0, 100.3921568627451, 0.0)\"]}, \"type\": \"nominal\"}, \"x\": {\"field\": \"login\", \"type\": \"nominal\"}, \"y\": {\"field\": \"count\", \"type\": \"quantitative\"}}, \"title\": \"Top 50 commentors for ('jupyterlab',) in the last 90 days\"}], \"data\": {\"name\": \"data-25a38ba0476ff501ed54981faa37857b\"}, \"$schema\": \"https://vega.github.io/schema/vega-lite/v5.20.1.json\", \"datasets\": {\"data-25a38ba0476ff501ed54981faa37857b\": [{\"login\": \"krassowski\", \"count\": 4, \"author_association\": \"MEMBER\"}, {\"login\": \"jiridanek\", \"count\": 4, \"author_association\": \"NONE\"}, {\"login\": \"rootsmusic\", \"count\": 4, \"author_association\": \"NONE\"}, {\"login\": \"lewisl\", \"count\": 4, \"author_association\": \"NONE\"}, {\"login\": \"RRosio\", \"count\": 3, \"author_association\": \"MEMBER\"}, {\"login\": \"jtpio\", \"count\": 3, \"author_association\": \"MEMBER\"}, {\"login\": \"mbektas\", \"count\": 2, \"author_association\": \"MEMBER\"}, {\"login\": \"mreisbeck2\", \"count\": 2, \"author_association\": \"NONE\"}, {\"login\": \"kburchfiel\", \"count\": 2, \"author_association\": \"NONE\"}, {\"login\": \"Ahri-man\", \"count\": 2, \"author_association\": \"NONE\"}, {\"login\": \"BigFlagBurito\", \"count\": 2, \"author_association\": \"NONE\"}, {\"login\": \"danyeaw\", \"count\": 2, \"author_association\": \"MEMBER\"}, {\"login\": \"ctcjab\", \"count\": 2, \"author_association\": \"NONE\"}, {\"login\": \"andrii-i\", \"count\": 2, \"author_association\": \"MEMBER\"}, {\"login\": \"jesuino\", \"count\": 1, \"author_association\": \"NONE\"}, {\"login\": \"dogganon\", \"count\": 1, \"author_association\": \"NONE\"}, {\"login\": \"beniroquai\", \"count\": 1, \"author_association\": \"NONE\"}, {\"login\": \"bertini97\", \"count\": 1, \"author_association\": \"NONE\"}, {\"login\": \"applutan\", \"count\": 1, \"author_association\": \"NONE\"}, {\"login\": \"Carreau\", \"count\": 1, \"author_association\": \"MEMBER\"}, {\"login\": \"RaphaelPorcherot\", \"count\": 1, \"author_association\": \"NONE\"}, {\"login\": \"afshin\", \"count\": 1, \"author_association\": \"MEMBER\"}, {\"login\": \"lucaslrodri\", \"count\": 1, \"author_association\": \"NONE\"}, {\"login\": \"kundeng\", \"count\": 1, \"author_association\": \"NONE\"}, {\"login\": \"jimgoo\", \"count\": 1, \"author_association\": \"NONE\"}, {\"login\": \"maxwacker\", \"count\": 1, \"author_association\": \"NONE\"}, {\"login\": \"mateMathieu\", \"count\": 1, \"author_association\": \"NONE\"}, {\"login\": \"oscar6echo\", \"count\": 1, \"author_association\": \"NONE\"}, {\"login\": \"rvalenzuelar\", \"count\": 1, \"author_association\": \"NONE\"}, {\"login\": \"shmIuser44\", \"count\": 1, \"author_association\": \"NONE\"}]}}, {\"mode\": \"vega-lite\"});\n",
       "</script>"
      ],
      "text/plain": [
       "alt.HConcatChart(...)"
      ]
     },
     "execution_count": 24,
     "metadata": {},
     "output_type": "execute_result"
    }
   ],
   "source": [
    "n_plot = 50\n",
    "charts = []\n",
    "for ii, (iorg, idata) in enumerate(commentors.groupby(['org'])):\n",
    "    title = f\"Top {n_plot} commentors for {iorg} in the last {n_days} days\"\n",
    "    idata = idata.groupby('login', as_index=False).agg({'count': 'sum', 'author_association': 'first'})\n",
    "    idata = idata.sort_values('count', ascending=False).head(n_plot)\n",
    "    ch = alt.Chart(data=idata.head(n_plot), title=title).mark_bar().encode(\n",
    "        x='login',\n",
    "        y='count',\n",
    "        color=alt.Color('author_association', scale=alt.Scale(domain=author_types, range=author_colors))\n",
    "    )\n",
    "    charts.append(ch)\n",
    "alt.hconcat(*charts)"
   ]
  },
  {
   "cell_type": "markdown",
   "id": "7f7d86a6",
   "metadata": {
    "editable": true,
    "papermill": {
     "duration": 0.016557,
     "end_time": "2025-05-12T16:41:38.260916",
     "exception": false,
     "start_time": "2025-05-12T16:41:38.244359",
     "status": "completed"
    },
    "slideshow": {
     "slide_type": ""
    },
    "tags": []
   },
   "source": [
    "## First responders\n",
    "\n",
    "First responders are the first people to respond to a new issue in one of the repositories.\n",
    "The following plots show first responders for recently-created issues."
   ]
  },
  {
   "cell_type": "code",
   "execution_count": 25,
   "id": "39d05749",
   "metadata": {
    "editable": true,
    "execution": {
     "iopub.execute_input": "2025-05-12T16:41:38.295866Z",
     "iopub.status.busy": "2025-05-12T16:41:38.295286Z",
     "iopub.status.idle": "2025-05-12T16:41:38.316674Z",
     "shell.execute_reply": "2025-05-12T16:41:38.315933Z"
    },
    "papermill": {
     "duration": 0.040513,
     "end_time": "2025-05-12T16:41:38.317982",
     "exception": false,
     "start_time": "2025-05-12T16:41:38.277469",
     "status": "completed"
    },
    "slideshow": {
     "slide_type": ""
    },
    "tags": [
     "remove_cell"
    ]
   },
   "outputs": [],
   "source": [
    "first_comments = []\n",
    "latest_comments = comments.query(\"created_at > @start_date\")\n",
    "for (org, repo, issue_id), i_comments in latest_comments.groupby(['org', 'repo', 'id_issue']):\n",
    "    ix_min = pd.to_datetime(i_comments['created_at']).idxmin()\n",
    "    first_comment = i_comments.loc[ix_min]\n",
    "    if isinstance(first_comment, pd.DataFrame):\n",
    "        first_comment = first_comment.iloc[0]\n",
    "    first_comments.append(first_comment)\n",
    "first_comments = pd.concat(first_comments, axis=1).T\n",
    "\n",
    "# Make up counts for viz\n",
    "first_responder_counts = first_comments.groupby(['org', 'login', 'author_association'], as_index=False).\\\n",
    "    count().rename(columns={'id_issue': 'n_first_responses'}).sort_values(['org', 'n_first_responses'], ascending=False)\n"
   ]
  },
  {
   "cell_type": "code",
   "execution_count": 26,
   "id": "60434f27",
   "metadata": {
    "editable": true,
    "execution": {
     "iopub.execute_input": "2025-05-12T16:41:38.355166Z",
     "iopub.status.busy": "2025-05-12T16:41:38.354557Z",
     "iopub.status.idle": "2025-05-12T16:41:38.378900Z",
     "shell.execute_reply": "2025-05-12T16:41:38.378234Z"
    },
    "papermill": {
     "duration": 0.044038,
     "end_time": "2025-05-12T16:41:38.379935",
     "exception": false,
     "start_time": "2025-05-12T16:41:38.335897",
     "status": "completed"
    },
    "slideshow": {
     "slide_type": ""
    },
    "tags": [
     "hide_input"
    ]
   },
   "outputs": [
    {
     "data": {
      "text/html": [
       "\n",
       "<style>\n",
       "  #altair-viz-7c30b20d791a4e0d8e859ffc0de6347c.vega-embed {\n",
       "    width: 100%;\n",
       "    display: flex;\n",
       "  }\n",
       "\n",
       "  #altair-viz-7c30b20d791a4e0d8e859ffc0de6347c.vega-embed details,\n",
       "  #altair-viz-7c30b20d791a4e0d8e859ffc0de6347c.vega-embed details summary {\n",
       "    position: relative;\n",
       "  }\n",
       "</style>\n",
       "<div id=\"altair-viz-7c30b20d791a4e0d8e859ffc0de6347c\"></div>\n",
       "<script type=\"text/javascript\">\n",
       "  var VEGA_DEBUG = (typeof VEGA_DEBUG == \"undefined\") ? {} : VEGA_DEBUG;\n",
       "  (function(spec, embedOpt){\n",
       "    let outputDiv = document.currentScript.previousElementSibling;\n",
       "    if (outputDiv.id !== \"altair-viz-7c30b20d791a4e0d8e859ffc0de6347c\") {\n",
       "      outputDiv = document.getElementById(\"altair-viz-7c30b20d791a4e0d8e859ffc0de6347c\");\n",
       "    }\n",
       "\n",
       "    const paths = {\n",
       "      \"vega\": \"https://cdn.jsdelivr.net/npm/vega@5?noext\",\n",
       "      \"vega-lib\": \"https://cdn.jsdelivr.net/npm/vega-lib?noext\",\n",
       "      \"vega-lite\": \"https://cdn.jsdelivr.net/npm/vega-lite@5.20.1?noext\",\n",
       "      \"vega-embed\": \"https://cdn.jsdelivr.net/npm/vega-embed@6?noext\",\n",
       "    };\n",
       "\n",
       "    function maybeLoadScript(lib, version) {\n",
       "      var key = `${lib.replace(\"-\", \"\")}_version`;\n",
       "      return (VEGA_DEBUG[key] == version) ?\n",
       "        Promise.resolve(paths[lib]) :\n",
       "        new Promise(function(resolve, reject) {\n",
       "          var s = document.createElement('script');\n",
       "          document.getElementsByTagName(\"head\")[0].appendChild(s);\n",
       "          s.async = true;\n",
       "          s.onload = () => {\n",
       "            VEGA_DEBUG[key] = version;\n",
       "            return resolve(paths[lib]);\n",
       "          };\n",
       "          s.onerror = () => reject(`Error loading script: ${paths[lib]}`);\n",
       "          s.src = paths[lib];\n",
       "        });\n",
       "    }\n",
       "\n",
       "    function showError(err) {\n",
       "      outputDiv.innerHTML = `<div class=\"error\" style=\"color:red;\">${err}</div>`;\n",
       "      throw err;\n",
       "    }\n",
       "\n",
       "    function displayChart(vegaEmbed) {\n",
       "      vegaEmbed(outputDiv, spec, embedOpt)\n",
       "        .catch(err => showError(`Javascript Error: ${err.message}<br>This usually means there's a typo in your chart specification. See the javascript console for the full traceback.`));\n",
       "    }\n",
       "\n",
       "    if(typeof define === \"function\" && define.amd) {\n",
       "      requirejs.config({paths});\n",
       "      let deps = [\"vega-embed\"];\n",
       "      require(deps, displayChart, err => showError(`Error loading script: ${err.message}`));\n",
       "    } else {\n",
       "      maybeLoadScript(\"vega\", \"5\")\n",
       "        .then(() => maybeLoadScript(\"vega-lite\", \"5.20.1\"))\n",
       "        .then(() => maybeLoadScript(\"vega-embed\", \"6\"))\n",
       "        .catch(showError)\n",
       "        .then(() => displayChart(vegaEmbed));\n",
       "    }\n",
       "  })({\"config\": {\"axisLeft\": {\"labelFontSize\": 15}, \"axisBottom\": {\"labelFontSize\": 15}}, \"data\": {\"name\": \"data-bf432dfe5b650e7af60115f0bebbe319\"}, \"mark\": {\"type\": \"bar\"}, \"encoding\": {\"color\": {\"field\": \"author_association\", \"scale\": {\"domain\": [\"MEMBER\", \"CONTRIBUTOR\", \"COLLABORATOR\", \"NONE\"], \"range\": [\"rgb(211.82745098039214, 211.82745098039214, 211.82745098039214)\", \"rgb(166.98562091503268, 229.89803921568628, 166.98562091503268)\", \"rgb(96.37647058823529, 192.75294117647059, 96.37647058823529)\", \"rgb(0.0, 100.3921568627451, 0.0)\"]}, \"type\": \"nominal\"}, \"x\": {\"field\": \"login\", \"type\": \"nominal\"}, \"y\": {\"field\": \"n_first_responses\", \"type\": \"quantitative\"}}, \"title\": \"Top 50 first responders for jupyterlab in the last 90 days\", \"$schema\": \"https://vega.github.io/schema/vega-lite/v5.20.1.json\", \"datasets\": {\"data-bf432dfe5b650e7af60115f0bebbe319\": [{\"login\": \"jtpio\", \"n_first_responses\": 2, \"author_association\": \"MEMBER\"}, {\"login\": \"BigFlagBurito\", \"n_first_responses\": 1, \"author_association\": \"NONE\"}, {\"login\": \"RRosio\", \"n_first_responses\": 1, \"author_association\": \"MEMBER\"}, {\"login\": \"RaphaelPorcherot\", \"n_first_responses\": 1, \"author_association\": \"NONE\"}, {\"login\": \"beniroquai\", \"n_first_responses\": 1, \"author_association\": \"NONE\"}, {\"login\": \"andrii-i\", \"n_first_responses\": 1, \"author_association\": \"MEMBER\"}, {\"login\": \"bertini97\", \"n_first_responses\": 1, \"author_association\": \"NONE\"}, {\"login\": \"jesuino\", \"n_first_responses\": 1, \"author_association\": \"NONE\"}, {\"login\": \"jimgoo\", \"n_first_responses\": 1, \"author_association\": \"NONE\"}, {\"login\": \"kburchfiel\", \"n_first_responses\": 1, \"author_association\": \"NONE\"}, {\"login\": \"kundeng\", \"n_first_responses\": 1, \"author_association\": \"NONE\"}, {\"login\": \"lucaslrodri\", \"n_first_responses\": 1, \"author_association\": \"NONE\"}, {\"login\": \"mateMathieu\", \"n_first_responses\": 1, \"author_association\": \"NONE\"}, {\"login\": \"maxwacker\", \"n_first_responses\": 1, \"author_association\": \"NONE\"}, {\"login\": \"mreisbeck2\", \"n_first_responses\": 1, \"author_association\": \"NONE\"}, {\"login\": \"oscar6echo\", \"n_first_responses\": 1, \"author_association\": \"NONE\"}, {\"login\": \"rootsmusic\", \"n_first_responses\": 1, \"author_association\": \"NONE\"}, {\"login\": \"rvalenzuelar\", \"n_first_responses\": 1, \"author_association\": \"NONE\"}]}}, {\"mode\": \"vega-lite\"});\n",
       "</script>"
      ],
      "text/plain": [
       "alt.Chart(...)"
      ]
     },
     "execution_count": 26,
     "metadata": {},
     "output_type": "execute_result"
    }
   ],
   "source": [
    "n_plot = 50\n",
    "\n",
    "title = f\"Top {n_plot} first responders for {github_org} in the last {n_days} days\"\n",
    "idata = first_responder_counts.groupby('login', as_index=False).agg({'n_first_responses': 'sum', 'author_association': 'first'})\n",
    "idata = idata.sort_values('n_first_responses', ascending=False).head(n_plot)\n",
    "ch = alt.Chart(data=idata.head(n_plot), title=title).mark_bar().encode(\n",
    "    x='login',\n",
    "    y='n_first_responses',\n",
    "    color=alt.Color('author_association', scale=alt.Scale(domain=author_types, range=author_colors))\n",
    ")\n",
    "ch"
   ]
  },
  {
   "cell_type": "markdown",
   "id": "3a4e2e86",
   "metadata": {
    "editable": true,
    "papermill": {
     "duration": 0.016663,
     "end_time": "2025-05-12T16:41:38.413615",
     "exception": false,
     "start_time": "2025-05-12T16:41:38.396952",
     "status": "completed"
    },
    "slideshow": {
     "slide_type": ""
    },
    "tags": []
   },
   "source": [
    "## Recent activity\n",
    "\n",
    "### A list of merged PRs by project\n",
    "\n",
    "Below is a tabbed readout of recently-merged PRs. Check out the title to get an idea for what they\n",
    "implemented, and be sure to thank the PR author for their hard work!"
   ]
  },
  {
   "cell_type": "code",
   "execution_count": 27,
   "id": "50bd94f6",
   "metadata": {
    "editable": true,
    "execution": {
     "iopub.execute_input": "2025-05-12T16:41:38.448055Z",
     "iopub.status.busy": "2025-05-12T16:41:38.447547Z",
     "iopub.status.idle": "2025-05-12T16:41:38.567678Z",
     "shell.execute_reply": "2025-05-12T16:41:38.567003Z"
    },
    "papermill": {
     "duration": 0.141509,
     "end_time": "2025-05-12T16:41:38.571769",
     "exception": false,
     "start_time": "2025-05-12T16:41:38.430260",
     "status": "completed"
    },
    "slideshow": {
     "slide_type": ""
    },
    "tags": [
     "hide_input"
    ]
   },
   "outputs": [
    {
     "data": {
      "application/vnd.jupyter.widget-view+json": {
       "model_id": "f3281e8765e84804afc4a1c1d6bc9fcf",
       "version_major": 2,
       "version_minor": 0
      },
      "text/plain": [
       "Tab(children=(HTML(value='<h4>Closed PRs for repo: <a href=\"https://github.com/jupyterlab/jupyter-renderers\">j…"
      ]
     },
     "execution_count": 27,
     "metadata": {},
     "output_type": "execute_result"
    }
   ],
   "source": [
    "tabs = widgets.Tab(children=[])\n",
    "\n",
    "for ii, ((org, repo), imerged) in enumerate(merged.query(\"repo in @use_repos\").groupby(['org', 'repo'])):\n",
    "    merged_by = {}\n",
    "    pr_by = {}\n",
    "    issue_md = []\n",
    "    issue_md.append(f\"#### Closed PRs for repo: [{org}/{repo}](https://github.com/{github_org}/{repo})\")\n",
    "    issue_md.append(\"\")\n",
    "    issue_md.append(f\"##### \")\n",
    "\n",
    "    for _, ipr in imerged.iterrows():\n",
    "        user_name = ipr['login']\n",
    "        user_url = author_url(user_name)\n",
    "        pr_number = ipr['number']\n",
    "        pr_html = ipr['url']\n",
    "        pr_title = ipr['title']\n",
    "        pr_closedby = ipr['merged_by']\n",
    "        pr_closedby_url = f\"https://github.com/{pr_closedby}\"\n",
    "        if user_name not in pr_by:\n",
    "            pr_by[user_name] = 1\n",
    "        else:\n",
    "            pr_by[user_name] += 1\n",
    "\n",
    "        if pr_closedby not in merged_by:\n",
    "            merged_by[pr_closedby] = 1\n",
    "        else:\n",
    "            merged_by[pr_closedby] += 1\n",
    "        text = f\"* [(#{pr_number})]({pr_html}): _{pr_title}_ by **[@{user_name}]({user_url})** merged by **[@{pr_closedby}]({pr_closedby_url})**\"\n",
    "        issue_md.append(text)\n",
    "    \n",
    "    issue_md.append('')\n",
    "    markdown_html = markdown('\\n'.join(issue_md))\n",
    "\n",
    "    children = list(tabs.children)\n",
    "    children.append(HTML(markdown_html))\n",
    "    tabs.children = tuple(children)\n",
    "    tabs.set_title(ii, repo)\n",
    "tabs"
   ]
  },
  {
   "cell_type": "markdown",
   "id": "9820b2b5",
   "metadata": {
    "editable": true,
    "papermill": {
     "duration": 0.017621,
     "end_time": "2025-05-12T16:41:38.607362",
     "exception": false,
     "start_time": "2025-05-12T16:41:38.589741",
     "status": "completed"
    },
    "slideshow": {
     "slide_type": ""
    },
    "tags": []
   },
   "source": [
    "### A list of recent issues\n",
    "\n",
    "Below is a list of issues with recent activity in each repository. If they seem of interest\n",
    "to you, click on their links and jump in to participate!"
   ]
  },
  {
   "cell_type": "code",
   "execution_count": 28,
   "id": "a4c77f71",
   "metadata": {
    "editable": true,
    "execution": {
     "iopub.execute_input": "2025-05-12T16:41:38.642622Z",
     "iopub.status.busy": "2025-05-12T16:41:38.642138Z",
     "iopub.status.idle": "2025-05-12T16:41:38.653246Z",
     "shell.execute_reply": "2025-05-12T16:41:38.652661Z"
    },
    "papermill": {
     "duration": 0.030033,
     "end_time": "2025-05-12T16:41:38.654326",
     "exception": false,
     "start_time": "2025-05-12T16:41:38.624293",
     "status": "completed"
    },
    "slideshow": {
     "slide_type": ""
    },
    "tags": [
     "remove_cell"
    ]
   },
   "outputs": [],
   "source": [
    "# Add comment count data to issues and PRs\n",
    "comment_counts = (\n",
    "    comments\n",
    "    .query(\"created_at > @start_date and created_at < @stop_date\")\n",
    "    .groupby(['org', 'repo', 'id_issue'])\n",
    "    .count().iloc[:, 0].to_frame()\n",
    ")\n",
    "comment_counts.columns = ['n_comments']\n",
    "comment_counts = comment_counts.reset_index()"
   ]
  },
  {
   "cell_type": "code",
   "execution_count": 29,
   "id": "5b4cbfa0",
   "metadata": {
    "editable": true,
    "execution": {
     "iopub.execute_input": "2025-05-12T16:41:38.689732Z",
     "iopub.status.busy": "2025-05-12T16:41:38.689356Z",
     "iopub.status.idle": "2025-05-12T16:41:38.750731Z",
     "shell.execute_reply": "2025-05-12T16:41:38.750151Z"
    },
    "papermill": {
     "duration": 0.080343,
     "end_time": "2025-05-12T16:41:38.751792",
     "exception": false,
     "start_time": "2025-05-12T16:41:38.671449",
     "status": "completed"
    },
    "slideshow": {
     "slide_type": ""
    },
    "tags": [
     "hide_input"
    ],
    "toc-hr-collapsed": false
   },
   "outputs": [
    {
     "data": {
      "text/markdown": [
       "Here are the top 5 active issues in each repository in the last 90 days"
      ],
      "text/plain": [
       "<IPython.core.display.Markdown object>"
      ]
     },
     "metadata": {},
     "output_type": "display_data"
    },
    {
     "data": {
      "application/vnd.jupyter.widget-view+json": {
       "model_id": "ef8729a0e07a45958b0930dfd40cb586",
       "version_major": 2,
       "version_minor": 0
      },
      "text/plain": [
       "Tab(children=(HTML(value='<h5><a href=\"https://github.com/jupyterlab/jupyterlab-demo\">jupyterlab/jupyterlab-de…"
      ]
     },
     "metadata": {},
     "output_type": "display_data"
    }
   ],
   "source": [
    "n_plot = 5\n",
    "tabs = widgets.Tab(children=[])\n",
    "\n",
    "for ii, (repo, i_issues) in enumerate(comment_counts.query(\"repo in @use_repos\").groupby('repo')):\n",
    "    \n",
    "    issue_md = []\n",
    "    issue_md.append(\"\")\n",
    "    issue_md.append(f\"##### [{github_org}/{repo}](https://github.com/{github_org}/{repo})\")\n",
    "\n",
    "    top_issues = i_issues.sort_values('n_comments', ascending=False).head(n_plot)\n",
    "    top_issue_list = pd.merge(issues, top_issues, left_on=['org', 'repo', 'id_issue'], right_on=['org', 'repo', 'id_issue'])\n",
    "    for _, issue in top_issue_list.sort_values('n_comments', ascending=False).head(n_plot).iterrows():\n",
    "        user_name = issue['login']\n",
    "        user_url = author_url(user_name)\n",
    "        issue_number = issue['number']\n",
    "        issue_html = issue['url']\n",
    "        issue_title = issue['title']\n",
    "\n",
    "        text = f\"* [(#{issue_number})]({issue_html}): _{issue_title}_ by **[@{user_name}]({user_url})**\"\n",
    "        issue_md.append(text)\n",
    "\n",
    "    issue_md.append('')\n",
    "    md_html = HTML(markdown('\\n'.join(issue_md)))\n",
    "\n",
    "    children = list(tabs.children)\n",
    "    children.append(HTML(markdown('\\n'.join(issue_md))))\n",
    "    tabs.children = tuple(children)\n",
    "    tabs.set_title(ii, repo)\n",
    "    \n",
    "display(Markdown(f\"Here are the top {n_plot} active issues in each repository in the last {n_days} days\"))\n",
    "display(tabs)"
   ]
  }
 ],
 "metadata": {
  "kernelspec": {
   "display_name": "Python 3 (ipykernel)",
   "language": "python",
   "name": "python3"
  },
  "language_info": {
   "codemirror_mode": {
    "name": "ipython",
    "version": 3
   },
   "file_extension": ".py",
   "mimetype": "text/x-python",
   "name": "python",
   "nbconvert_exporter": "python",
   "pygments_lexer": "ipython3",
   "version": "3.9.22"
  },
  "papermill": {
   "default_parameters": {},
   "duration": 4.808553,
   "end_time": "2025-05-12T16:41:39.188827",
   "environment_variables": {},
   "exception": null,
   "input_path": "./templates/org_report.ipynb",
   "output_path": "generated/book/jupyterlab.ipynb",
   "parameters": {
    "github_org": "jupyterlab",
    "n_days": 90
   },
   "start_time": "2025-05-12T16:41:34.380274",
   "version": "2.6.0"
  },
  "widgets": {
   "application/vnd.jupyter.widget-state+json": {
    "state": {
     "04f78357cd4c49239f4c1938e07f6604": {
      "model_module": "@jupyter-widgets/controls",
      "model_module_version": "2.0.0",
      "model_name": "HTMLModel",
      "state": {
       "_dom_classes": [],
       "_model_module": "@jupyter-widgets/controls",
       "_model_module_version": "2.0.0",
       "_model_name": "HTMLModel",
       "_view_count": null,
       "_view_module": "@jupyter-widgets/controls",
       "_view_module_version": "2.0.0",
       "_view_name": "HTMLView",
       "description": "",
       "description_allow_html": false,
       "layout": "IPY_MODEL_ca91711514b34ee08e3b6134ee0c1341",
       "placeholder": "​",
       "style": "IPY_MODEL_6f25f2ff99304948b23b7580c465d5de",
       "tabbable": null,
       "tooltip": null,
       "value": "<h4>Closed PRs for repo: <a href=\"https://github.com/jupyterlab/jupyterlab\">jupyterlab/jupyterlab</a></h4>\n<h5></h5>\n<ul>\n<li><a href=\"https://github.com/jupyterlab/jupyterlab/issues/16141\">(#16141)</a>: <em>Make the default drive in the Contents Service configurable</em> by <strong><a href=\"https://github.com/Zsailer\">@Zsailer</a></strong> merged by <strong><a href=\"https://github.com/Zsailer\">@Zsailer</a></strong></li>\n<li><a href=\"https://github.com/jupyterlab/jupyterlab/issues/16213\">(#16213)</a>: <em>Fix for unable to lock any extension</em> by <strong><a href=\"https://github.com/itsmevichu\">@itsmevichu</a></strong> merged by <strong><a href=\"https://github.com/krassowski\">@krassowski</a></strong></li>\n<li><a href=\"https://github.com/jupyterlab/jupyterlab/issues/16770\">(#16770)</a>: <em>Update to enable block comments in python and other languages that do…</em> by <strong><a href=\"https://github.com/adityamali\">@adityamali</a></strong> merged by <strong><a href=\"https://github.com/adityamali\">@adityamali</a></strong></li>\n<li><a href=\"https://github.com/jupyterlab/jupyterlab/issues/16794\">(#16794)</a>: <em>Allow customizing the <code>ServiceManager</code> with plugins</em> by <strong><a href=\"https://github.com/jtpio\">@jtpio</a></strong> merged by <strong><a href=\"https://github.com/krassowski\">@krassowski</a></strong></li>\n<li><a href=\"https://github.com/jupyterlab/jupyterlab/issues/16848\">(#16848)</a>: <em>Add more descriptive labels for fetching Jupyter news options</em> by <strong><a href=\"https://github.com/Adam-D-Lewis\">@Adam-D-Lewis</a></strong> merged by <strong><a href=\"https://github.com/jtpio\">@jtpio</a></strong></li>\n<li><a href=\"https://github.com/jupyterlab/jupyterlab/issues/17152\">(#17152)</a>: <em>Use more formal wording in docs: <code>repo</code> → <code>repository</code></em> by <strong><a href=\"https://github.com/pdarshane\">@pdarshane</a></strong> merged by <strong><a href=\"https://github.com/krassowski\">@krassowski</a></strong></li>\n<li><a href=\"https://github.com/jupyterlab/jupyterlab/issues/17155\">(#17155)</a>: <em>Fix: Corrected ARIA Labels on MainAreaWidget.ts to show Context-Specific Content</em> by <strong><a href=\"https://github.com/hxrshxz\">@hxrshxz</a></strong> merged by <strong><a href=\"https://github.com/hxrshxz\">@hxrshxz</a></strong></li>\n<li><a href=\"https://github.com/jupyterlab/jupyterlab/issues/17160\">(#17160)</a>: <em>Ensure search highlight is applied to Python builtin keywords</em> by <strong><a href=\"https://github.com/hxrshxz\">@hxrshxz</a></strong> merged by <strong><a href=\"https://github.com/krassowski\">@krassowski</a></strong></li>\n<li><a href=\"https://github.com/jupyterlab/jupyterlab/issues/17162\">(#17162)</a>: <em>Heuristic for cell height now considers preferred text output types</em> by <strong><a href=\"https://github.com/hxrshxz\">@hxrshxz</a></strong> merged by <strong><a href=\"https://github.com/hxrshxz\">@hxrshxz</a></strong></li>\n<li><a href=\"https://github.com/jupyterlab/jupyterlab/issues/17187\">(#17187)</a>: <em>Fix misaligned SVG icon in \"Add Tag\" button</em> by <strong><a href=\"https://github.com/MUFFANUJ\">@MUFFANUJ</a></strong> merged by <strong><a href=\"https://github.com/krassowski\">@krassowski</a></strong></li>\n<li><a href=\"https://github.com/jupyterlab/jupyterlab/issues/17193\">(#17193)</a>: <em>Dialog box removed</em> by <strong><a href=\"https://github.com/hxrshxz\">@hxrshxz</a></strong> merged by <strong><a href=\"https://github.com/krassowski\">@krassowski</a></strong></li>\n<li><a href=\"https://github.com/jupyterlab/jupyterlab/issues/17194\">(#17194)</a>: <em>Fix for issue preventing cell metadata removal</em> by <strong><a href=\"https://github.com/itsmevichu\">@itsmevichu</a></strong> merged by <strong><a href=\"https://github.com/krassowski\">@krassowski</a></strong></li>\n<li><a href=\"https://github.com/jupyterlab/jupyterlab/issues/17210\">(#17210)</a>: <em>Fix browser tab name updates when started in single-document mode</em> by <strong><a href=\"https://github.com/Darshan808\">@Darshan808</a></strong> merged by <strong><a href=\"https://github.com/krassowski\">@krassowski</a></strong></li>\n<li><a href=\"https://github.com/jupyterlab/jupyterlab/issues/17217\">(#17217)</a>: <em>Improve UX for \"Rename on First Save\" Dialog</em> by <strong><a href=\"https://github.com/MUFFANUJ\">@MUFFANUJ</a></strong> merged by <strong><a href=\"https://github.com/krassowski\">@krassowski</a></strong></li>\n<li><a href=\"https://github.com/jupyterlab/jupyterlab/issues/17219\">(#17219)</a>: <em>Updated mock packages to use hatch-jupyter-builder</em> by <strong><a href=\"https://github.com/Rishab87\">@Rishab87</a></strong> merged by <strong><a href=\"https://github.com/krassowski\">@krassowski</a></strong></li>\n<li><a href=\"https://github.com/jupyterlab/jupyterlab/issues/17244\">(#17244)</a>: <em>Allow <code>&lt;GroupItem&gt;</code> to filter out <code>null</code> children and accept any <code>ReactNode</code></em> by <strong><a href=\"https://github.com/MUFFANUJ\">@MUFFANUJ</a></strong> merged by <strong><a href=\"https://github.com/krassowski\">@krassowski</a></strong></li>\n<li><a href=\"https://github.com/jupyterlab/jupyterlab/issues/17256\">(#17256)</a>: <em>Add (opt-in) workspace selector, show workspace name in the title</em> by <strong><a href=\"https://github.com/Darshan808\">@Darshan808</a></strong> merged by <strong><a href=\"https://github.com/krassowski\">@krassowski</a></strong></li>\n<li><a href=\"https://github.com/jupyterlab/jupyterlab/issues/17261\">(#17261)</a>: <em>Reuse DOM and keep selection on streaming stdout/stderr</em> by <strong><a href=\"https://github.com/krassowski\">@krassowski</a></strong> merged by <strong><a href=\"https://github.com/krassowski\">@krassowski</a></strong></li>\n<li><a href=\"https://github.com/jupyterlab/jupyterlab/issues/17266\">(#17266)</a>: <em>Fix order of extensions in PyPI Extension Manager</em> by <strong><a href=\"https://github.com/Princekumarofficial\">@Princekumarofficial</a></strong> merged by <strong><a href=\"https://github.com/krassowski\">@krassowski</a></strong></li>\n<li><a href=\"https://github.com/jupyterlab/jupyterlab/issues/17271\">(#17271)</a>: <em>Update to TypeScript 5.5</em> by <strong><a href=\"https://github.com/jtpio\">@jtpio</a></strong> merged by <strong><a href=\"https://github.com/krassowski\">@krassowski</a></strong></li>\n<li><a href=\"https://github.com/jupyterlab/jupyterlab/issues/17278\">(#17278)</a>: <em>Add item about nightly releases to the FAQ</em> by <strong><a href=\"https://github.com/jtpio\">@jtpio</a></strong> merged by <strong><a href=\"https://github.com/jtpio\">@jtpio</a></strong></li>\n<li><a href=\"https://github.com/jupyterlab/jupyterlab/issues/17279\">(#17279)</a>: <em>Add FAQ item about repeated key press events on OS X</em> by <strong><a href=\"https://github.com/jtpio\">@jtpio</a></strong> merged by <strong><a href=\"https://github.com/jtpio\">@jtpio</a></strong></li>\n<li><a href=\"https://github.com/jupyterlab/jupyterlab/issues/17282\">(#17282)</a>: <em>Bump serialize-javascript from 6.0.1 to 6.0.2 in /jupyterlab/staging</em> by <strong><a href=\"https://github.com/dependabot[bot]\">@dependabot[bot]</a></strong> merged by <strong><a href=\"https://github.com/fcollonval\">@fcollonval</a></strong></li>\n<li><a href=\"https://github.com/jupyterlab/jupyterlab/issues/17283\">(#17283)</a>: <em>Fix CI failures caused by changes in <code>jupyterlab-demo</code></em> by <strong><a href=\"https://github.com/krassowski\">@krassowski</a></strong> merged by <strong><a href=\"https://github.com/jtpio\">@jtpio</a></strong></li>\n<li><a href=\"https://github.com/jupyterlab/jupyterlab/issues/17289\">(#17289)</a>: <em>Fix missing checks for author comment association for docs</em> by <strong><a href=\"https://github.com/krassowski\">@krassowski</a></strong> merged by <strong><a href=\"https://github.com/jtpio\">@jtpio</a></strong></li>\n<li><a href=\"https://github.com/jupyterlab/jupyterlab/issues/17290\">(#17290)</a>: <em>Backport PR #17289 on branch 4.3.x (Fix missing checks for author comment association for docs)</em> by <strong><a href=\"https://github.com/meeseeksmachine\">@meeseeksmachine</a></strong> merged by <strong><a href=\"https://github.com/krassowski\">@krassowski</a></strong></li>\n<li><a href=\"https://github.com/jupyterlab/jupyterlab/issues/17291\">(#17291)</a>: <em>Disable new <code>ctrl</code> + <code>m</code> toggle focus binding, enable configuring it via Keyboard Shortcuts</em> by <strong><a href=\"https://github.com/krassowski\">@krassowski</a></strong> merged by <strong><a href=\"https://github.com/jtpio\">@jtpio</a></strong></li>\n<li><a href=\"https://github.com/jupyterlab/jupyterlab/issues/17294\">(#17294)</a>: <em>Clean up references to <code>jupyter-packaging</code></em> by <strong><a href=\"https://github.com/jtpio\">@jtpio</a></strong> merged by <strong><a href=\"https://github.com/krassowski\">@krassowski</a></strong></li>\n<li><a href=\"https://github.com/jupyterlab/jupyterlab/issues/17295\">(#17295)</a>: <em>Bump vega from 5.24.0 to 5.26.0</em> by <strong><a href=\"https://github.com/dependabot[bot]\">@dependabot[bot]</a></strong> merged by <strong><a href=\"https://github.com/krassowski\">@krassowski</a></strong></li>\n<li><a href=\"https://github.com/jupyterlab/jupyterlab/issues/17297\">(#17297)</a>: <em>Backport PR #17160 on branch 4.3.x (Ensure search highlight is applied to Python builtin keywords)</em> by <strong><a href=\"https://github.com/meeseeksmachine\">@meeseeksmachine</a></strong> merged by <strong><a href=\"https://github.com/krassowski\">@krassowski</a></strong></li>\n<li><a href=\"https://github.com/jupyterlab/jupyterlab/issues/17298\">(#17298)</a>: <em>Updated enabling logic for run-all-below button on Notebook Panel</em> by <strong><a href=\"https://github.com/rsaditya01\">@rsaditya01</a></strong> merged by <strong><a href=\"https://github.com/krassowski\">@krassowski</a></strong></li>\n<li><a href=\"https://github.com/jupyterlab/jupyterlab/issues/17304\">(#17304)</a>: <em>Bump vega from 5.24.0 to 5.31.0 in /jupyterlab/staging</em> by <strong><a href=\"https://github.com/dependabot[bot]\">@dependabot[bot]</a></strong> merged by <strong><a href=\"https://github.com/krassowski\">@krassowski</a></strong></li>\n<li><a href=\"https://github.com/jupyterlab/jupyterlab/issues/17305\">(#17305)</a>: <em>Bump dompurify from 3.2.3 to 3.2.4</em> by <strong><a href=\"https://github.com/dependabot[bot]\">@dependabot[bot]</a></strong> merged by <strong><a href=\"https://github.com/krassowski\">@krassowski</a></strong></li>\n<li><a href=\"https://github.com/jupyterlab/jupyterlab/issues/17308\">(#17308)</a>: <em>Backport PR #17305 on branch 4.3.x (Bump dompurify to 3.2.4)</em> by <strong><a href=\"https://github.com/krassowski\">@krassowski</a></strong> merged by <strong><a href=\"https://github.com/krassowski\">@krassowski</a></strong></li>\n<li><a href=\"https://github.com/jupyterlab/jupyterlab/issues/17309\">(#17309)</a>: <em>Backport PR #17305 on branch 4.2.x (Bump dompurify to 3.2.4)</em> by <strong><a href=\"https://github.com/krassowski\">@krassowski</a></strong> merged by <strong><a href=\"https://github.com/krassowski\">@krassowski</a></strong></li>\n<li><a href=\"https://github.com/jupyterlab/jupyterlab/issues/17312\">(#17312)</a>: <em>Bump vega-selections from 5.4.1 to 5.5.0 in /jupyterlab/staging</em> by <strong><a href=\"https://github.com/dependabot[bot]\">@dependabot[bot]</a></strong> merged by <strong><a href=\"https://github.com/krassowski\">@krassowski</a></strong></li>\n<li><a href=\"https://github.com/jupyterlab/jupyterlab/issues/17313\">(#17313)</a>: <em>Backport PR #17295 on branch 4.2.x (Bump vega from 5.24.0 to 5.26.0)</em> by <strong><a href=\"https://github.com/meeseeksmachine\">@meeseeksmachine</a></strong> merged by <strong><a href=\"https://github.com/krassowski\">@krassowski</a></strong></li>\n<li><a href=\"https://github.com/jupyterlab/jupyterlab/issues/17314\">(#17314)</a>: <em>Backport PR #17295 on branch 4.3.x (Bump vega from 5.24.0 to 5.26.0)</em> by <strong><a href=\"https://github.com/meeseeksmachine\">@meeseeksmachine</a></strong> merged by <strong><a href=\"https://github.com/krassowski\">@krassowski</a></strong></li>\n<li><a href=\"https://github.com/jupyterlab/jupyterlab/issues/17319\">(#17319)</a>: <em>Bump <code>semver</code> and <code>tough-cookie</code> to non-vulnerable versions</em> by <strong><a href=\"https://github.com/dlqqq\">@dlqqq</a></strong> merged by <strong><a href=\"https://github.com/krassowski\">@krassowski</a></strong></li>\n<li><a href=\"https://github.com/jupyterlab/jupyterlab/issues/17322\">(#17322)</a>: <em>Fix handling of a <code>null</code> banner in the code console</em> by <strong><a href=\"https://github.com/jtpio\">@jtpio</a></strong> merged by <strong><a href=\"https://github.com/krassowski\">@krassowski</a></strong></li>\n<li><a href=\"https://github.com/jupyterlab/jupyterlab/issues/17323\">(#17323)</a>: <em>Fix typo in LSP console message on kernel change</em> by <strong><a href=\"https://github.com/iisakkirotko\">@iisakkirotko</a></strong> merged by <strong><a href=\"https://github.com/krassowski\">@krassowski</a></strong></li>\n<li><a href=\"https://github.com/jupyterlab/jupyterlab/issues/17325\">(#17325)</a>: <em>Provide <code>ITranslatorConnector</code> via a separate plugin</em> by <strong><a href=\"https://github.com/jtpio\">@jtpio</a></strong> merged by <strong><a href=\"https://github.com/krassowski\">@krassowski</a></strong></li>\n<li><a href=\"https://github.com/jupyterlab/jupyterlab/issues/17326\">(#17326)</a>: <em>Backport PR #17319 on branch 4.3.x (Bump semver and tough-cookie to non-vulnerable versions)</em> by <strong><a href=\"https://github.com/dlqqq\">@dlqqq</a></strong> merged by <strong><a href=\"https://github.com/krassowski\">@krassowski</a></strong></li>\n<li><a href=\"https://github.com/jupyterlab/jupyterlab/issues/17327\">(#17327)</a>: <em>Provide <code>ISettingsConnector</code> via a separate plugin</em> by <strong><a href=\"https://github.com/jtpio\">@jtpio</a></strong> merged by <strong><a href=\"https://github.com/krassowski\">@krassowski</a></strong></li>\n<li><a href=\"https://github.com/jupyterlab/jupyterlab/issues/17328\">(#17328)</a>: <em>Normalize translator plugin ids</em> by <strong><a href=\"https://github.com/jtpio\">@jtpio</a></strong> merged by <strong><a href=\"https://github.com/krassowski\">@krassowski</a></strong></li>\n<li><a href=\"https://github.com/jupyterlab/jupyterlab/issues/17329\">(#17329)</a>: <em>Use <code>ITranslationConnector</code> to fetch the translations</em> by <strong><a href=\"https://github.com/jtpio\">@jtpio</a></strong> merged by <strong><a href=\"https://github.com/jtpio\">@jtpio</a></strong></li>\n<li><a href=\"https://github.com/jupyterlab/jupyterlab/issues/17330\">(#17330)</a>: <em>Backport PR #17194 on branch 4.3.x (Fix for issue preventing cell metadata removal)</em> by <strong><a href=\"https://github.com/meeseeksmachine\">@meeseeksmachine</a></strong> merged by <strong><a href=\"https://github.com/krassowski\">@krassowski</a></strong></li>\n<li><a href=\"https://github.com/jupyterlab/jupyterlab/issues/17332\">(#17332)</a>: <em>Fix heading levels in extension migration guide</em> by <strong><a href=\"https://github.com/krassowski\">@krassowski</a></strong> merged by <strong><a href=\"https://github.com/jtpio\">@jtpio</a></strong></li>\n<li><a href=\"https://github.com/jupyterlab/jupyterlab/issues/17334\">(#17334)</a>: <em>Backport PR #16787 on branch 4.2.x (Replace link to accessiblity project with a link to accessiblity issues)</em> by <strong><a href=\"https://github.com/meeseeksmachine\">@meeseeksmachine</a></strong> merged by <strong><a href=\"https://github.com/krassowski\">@krassowski</a></strong></li>\n<li><a href=\"https://github.com/jupyterlab/jupyterlab/issues/17336\">(#17336)</a>: <em>Clarify documentation on bot privileges for updating snapshots</em> by <strong><a href=\"https://github.com/Princekumarofficial\">@Princekumarofficial</a></strong> merged by <strong><a href=\"https://github.com/krassowski\">@krassowski</a></strong></li>\n<li><a href=\"https://github.com/jupyterlab/jupyterlab/issues/17337\">(#17337)</a>: <em>Fix HTML lang attribute</em> by <strong><a href=\"https://github.com/fcollonval\">@fcollonval</a></strong> merged by <strong><a href=\"https://github.com/krassowski\">@krassowski</a></strong></li>\n<li><a href=\"https://github.com/jupyterlab/jupyterlab/issues/17338\">(#17338)</a>: <em>Enforce plugin name convention and rename noncompliant plugins</em> by <strong><a href=\"https://github.com/jtpio\">@jtpio</a></strong> merged by <strong><a href=\"https://github.com/krassowski\">@krassowski</a></strong></li>\n<li><a href=\"https://github.com/jupyterlab/jupyterlab/issues/17339\">(#17339)</a>: <em>Improve scrolling edge cases</em> by <strong><a href=\"https://github.com/krassowski\">@krassowski</a></strong> merged by <strong><a href=\"https://github.com/krassowski\">@krassowski</a></strong></li>\n<li><a href=\"https://github.com/jupyterlab/jupyterlab/issues/17341\">(#17341)</a>: <em>Backport PR #17319 on branch 4.2.x (Bump semver and tough-cookie to non-vulnerable versions)</em> by <strong><a href=\"https://github.com/dlqqq\">@dlqqq</a></strong> merged by <strong><a href=\"https://github.com/krassowski\">@krassowski</a></strong></li>\n<li><a href=\"https://github.com/jupyterlab/jupyterlab/issues/17343\">(#17343)</a>: <em>Fix checkbox alignment in dialog using <code>display: flex</code></em> by <strong><a href=\"https://github.com/SatyajitRedekar\">@SatyajitRedekar</a></strong> merged by <strong><a href=\"https://github.com/krassowski\">@krassowski</a></strong></li>\n<li><a href=\"https://github.com/jupyterlab/jupyterlab/issues/17345\">(#17345)</a>: <em>Expose <code>ConfigSectionManager</code> via a plugin</em> by <strong><a href=\"https://github.com/jtpio\">@jtpio</a></strong> merged by <strong><a href=\"https://github.com/krassowski\">@krassowski</a></strong></li>\n<li><a href=\"https://github.com/jupyterlab/jupyterlab/issues/17346\">(#17346)</a>: <em>Backport PR #17336 on branch 4.3.x (Clarify documentation on bot privileges for updating snapshots)</em> by <strong><a href=\"https://github.com/meeseeksmachine\">@meeseeksmachine</a></strong> merged by <strong><a href=\"https://github.com/jtpio\">@jtpio</a></strong></li>\n<li><a href=\"https://github.com/jupyterlab/jupyterlab/issues/17348\">(#17348)</a>: <em>Add <code>IKernelAPIClient</code> and <code>ISessionAPIClient</code> as options for <code>Kernel.IManager</code> and <code>Session.IManager</code></em> by <strong><a href=\"https://github.com/jtpio\">@jtpio</a></strong> merged by <strong><a href=\"https://github.com/krassowski\">@krassowski</a></strong></li>\n<li><a href=\"https://github.com/jupyterlab/jupyterlab/issues/17350\">(#17350)</a>: <em>Add widget ID arg to semantic command invocations</em> by <strong><a href=\"https://github.com/afshin\">@afshin</a></strong> merged by <strong><a href=\"https://github.com/afshin\">@afshin</a></strong></li>\n<li><a href=\"https://github.com/jupyterlab/jupyterlab/issues/17352\">(#17352)</a>: <em>Add a setting to disable the context menu</em> by <strong><a href=\"https://github.com/afshin\">@afshin</a></strong> merged by <strong><a href=\"https://github.com/krassowski\">@krassowski</a></strong></li>\n<li><a href=\"https://github.com/jupyterlab/jupyterlab/issues/17353\">(#17353)</a>: <em>Bump the actions group with 2 updates</em> by <strong><a href=\"https://github.com/dependabot[bot]\">@dependabot[bot]</a></strong> merged by <strong><a href=\"https://github.com/jtpio\">@jtpio</a></strong></li>\n<li><a href=\"https://github.com/jupyterlab/jupyterlab/issues/17357\">(#17357)</a>: <em>Backport PR #17298 on branch 4.3.x (Updated enabling logic for run-all-below button on Notebook Panel)</em> by <strong><a href=\"https://github.com/meeseeksmachine\">@meeseeksmachine</a></strong> merged by <strong><a href=\"https://github.com/jtpio\">@jtpio</a></strong></li>\n<li><a href=\"https://github.com/jupyterlab/jupyterlab/issues/17359\">(#17359)</a>: <em>Use \"Move to Trash\" over \"Delete\" when contents manager's <code>delete_to_trash</code> is <code>True</code></em> by <strong><a href=\"https://github.com/jesuino\">@jesuino</a></strong> merged by <strong><a href=\"https://github.com/krassowski\">@krassowski</a></strong></li>\n<li><a href=\"https://github.com/jupyterlab/jupyterlab/issues/17360\">(#17360)</a>: <em>[pre-commit.ci] pre-commit autoupdate</em> by <strong><a href=\"https://github.com/pre-commit-ci[bot]\">@pre-commit-ci[bot]</a></strong> merged by <strong><a href=\"https://github.com/jtpio\">@jtpio</a></strong></li>\n<li><a href=\"https://github.com/jupyterlab/jupyterlab/issues/17361\">(#17361)</a>: <em>Move the licenses plugin to <code>apputils-extension</code></em> by <strong><a href=\"https://github.com/jtpio\">@jtpio</a></strong> merged by <strong><a href=\"https://github.com/krassowski\">@krassowski</a></strong></li>\n<li><a href=\"https://github.com/jupyterlab/jupyterlab/issues/17363\">(#17363)</a>: <em>If subshells are supported by the kernel, send comm messages to subshells</em> by <strong><a href=\"https://github.com/martinRenou\">@martinRenou</a></strong> merged by <strong><a href=\"https://github.com/krassowski\">@krassowski</a></strong></li>\n<li><a href=\"https://github.com/jupyterlab/jupyterlab/issues/17364\">(#17364)</a>: <em>Sort the list of plugins and tokens in the documentation</em> by <strong><a href=\"https://github.com/jtpio\">@jtpio</a></strong> merged by <strong><a href=\"https://github.com/krassowski\">@krassowski</a></strong></li>\n<li><a href=\"https://github.com/jupyterlab/jupyterlab/issues/17367\">(#17367)</a>: <em>Require <code>JupyterLab.IInfo</code> for the plugin manager plugin</em> by <strong><a href=\"https://github.com/jtpio\">@jtpio</a></strong> merged by <strong><a href=\"https://github.com/jtpio\">@jtpio</a></strong></li>\n<li><a href=\"https://github.com/jupyterlab/jupyterlab/issues/17368\">(#17368)</a>: <em>User-facing changelog for 4.4</em> by <strong><a href=\"https://github.com/krassowski\">@krassowski</a></strong> merged by <strong><a href=\"https://github.com/jtpio\">@jtpio</a></strong></li>\n<li><a href=\"https://github.com/jupyterlab/jupyterlab/issues/17369\">(#17369)</a>: <em>Fix cell output stream if previous chunk did not end in new line</em> by <strong><a href=\"https://github.com/davidbrochart\">@davidbrochart</a></strong> merged by <strong><a href=\"https://github.com/krassowski\">@krassowski</a></strong></li>\n<li><a href=\"https://github.com/jupyterlab/jupyterlab/issues/17371\">(#17371)</a>: <em>Fix rendering URLs as linked in errors</em> by <strong><a href=\"https://github.com/afshin\">@afshin</a></strong> merged by <strong><a href=\"https://github.com/krassowski\">@krassowski</a></strong></li>\n<li><a href=\"https://github.com/jupyterlab/jupyterlab/issues/17372\">(#17372)</a>: <em>Update to Playwright 1.51.0</em> by <strong><a href=\"https://github.com/jtpio\">@jtpio</a></strong> merged by <strong><a href=\"https://github.com/jtpio\">@jtpio</a></strong></li>\n<li><a href=\"https://github.com/jupyterlab/jupyterlab/issues/17376\">(#17376)</a>: <em>Add pip as a dependency</em> by <strong><a href=\"https://github.com/simonw\">@simonw</a></strong> merged by <strong><a href=\"https://github.com/simonw\">@simonw</a></strong></li>\n<li><a href=\"https://github.com/jupyterlab/jupyterlab/issues/17379\">(#17379)</a>: <em>Update the copyright year to 2025</em> by <strong><a href=\"https://github.com/jtpio\">@jtpio</a></strong> merged by <strong><a href=\"https://github.com/krassowski\">@krassowski</a></strong></li>\n<li><a href=\"https://github.com/jupyterlab/jupyterlab/issues/17380\">(#17380)</a>: <em>Bump axios from 1.7.4 to 1.8.2</em> by <strong><a href=\"https://github.com/dependabot[bot]\">@dependabot[bot]</a></strong> merged by <strong><a href=\"https://github.com/jtpio\">@jtpio</a></strong></li>\n<li><a href=\"https://github.com/jupyterlab/jupyterlab/issues/17383\">(#17383)</a>: <em>[4.3.x] Update reference snapshots</em> by <strong><a href=\"https://github.com/jtpio\">@jtpio</a></strong> merged by <strong><a href=\"https://github.com/jtpio\">@jtpio</a></strong></li>\n<li><a href=\"https://github.com/jupyterlab/jupyterlab/issues/17384\">(#17384)</a>: <em>Bump @babel/runtime from 7.21.0 to 7.26.10 in /jupyterlab/staging</em> by <strong><a href=\"https://github.com/dependabot[bot]\">@dependabot[bot]</a></strong> merged by <strong><a href=\"https://github.com/jtpio\">@jtpio</a></strong></li>\n<li><a href=\"https://github.com/jupyterlab/jupyterlab/issues/17385\">(#17385)</a>: <em>Bump @babel/helpers from 7.21.0 to 7.26.10</em> by <strong><a href=\"https://github.com/dependabot[bot]\">@dependabot[bot]</a></strong> merged by <strong><a href=\"https://github.com/krassowski\">@krassowski</a></strong></li>\n<li><a href=\"https://github.com/jupyterlab/jupyterlab/issues/17387\">(#17387)</a>: <em>Bump nanoid from 3.3.7 to 3.3.9 in /jupyterlab/tests/mock_packages/test_no_hyphens</em> by <strong><a href=\"https://github.com/dependabot[bot]\">@dependabot[bot]</a></strong> merged by <strong><a href=\"https://github.com/krassowski\">@krassowski</a></strong></li>\n<li><a href=\"https://github.com/jupyterlab/jupyterlab/issues/17391\">(#17391)</a>: <em>Backport PR #17369 on branch 4.3.x (Fix cell output stream if previous chunk did not end in new line)</em> by <strong><a href=\"https://github.com/meeseeksmachine\">@meeseeksmachine</a></strong> merged by <strong><a href=\"https://github.com/krassowski\">@krassowski</a></strong></li>\n<li><a href=\"https://github.com/jupyterlab/jupyterlab/issues/17392\">(#17392)</a>: <em>Update changelog links, add new code console screenshot</em> by <strong><a href=\"https://github.com/jtpio\">@jtpio</a></strong> merged by <strong><a href=\"https://github.com/jtpio\">@jtpio</a></strong></li>\n<li><a href=\"https://github.com/jupyterlab/jupyterlab/issues/17395\">(#17395)</a>: <em>Add <code>IKernelSpecAPICLient</code> and <code>ITerminalAPIClient</code>, fix definitions of interfaces</em> by <strong><a href=\"https://github.com/jtpio\">@jtpio</a></strong> merged by <strong><a href=\"https://github.com/krassowski\">@krassowski</a></strong></li>\n<li><a href=\"https://github.com/jupyterlab/jupyterlab/issues/17396\">(#17396)</a>: <em>Update to mermaid 11.6.0, marked 15.0.7</em> by <strong><a href=\"https://github.com/bollwyvl\">@bollwyvl</a></strong> merged by <strong><a href=\"https://github.com/krassowski\">@krassowski</a></strong></li>\n<li><a href=\"https://github.com/jupyterlab/jupyterlab/issues/17397\">(#17397)</a>: <em>Fix definition of the <code>ILicensesClient</code> interface</em> by <strong><a href=\"https://github.com/jtpio\">@jtpio</a></strong> merged by <strong><a href=\"https://github.com/krassowski\">@krassowski</a></strong></li>\n<li><a href=\"https://github.com/jupyterlab/jupyterlab/issues/17398\">(#17398)</a>: <em>Remove workflow using <code>tj-actions/changed-files</code></em> by <strong><a href=\"https://github.com/jtpio\">@jtpio</a></strong> merged by <strong><a href=\"https://github.com/jtpio\">@jtpio</a></strong></li>\n<li><a href=\"https://github.com/jupyterlab/jupyterlab/issues/17399\">(#17399)</a>: <em>Remove workflow using <code>tj-actions/changed-files</code></em> by <strong><a href=\"https://github.com/jtpio\">@jtpio</a></strong> merged by <strong><a href=\"https://github.com/jtpio\">@jtpio</a></strong></li>\n<li><a href=\"https://github.com/jupyterlab/jupyterlab/issues/17400\">(#17400)</a>: <em>Remove workflow using <code>tj-actions/changed-files</code></em> by <strong><a href=\"https://github.com/jtpio\">@jtpio</a></strong> merged by <strong><a href=\"https://github.com/jtpio\">@jtpio</a></strong></li>\n<li><a href=\"https://github.com/jupyterlab/jupyterlab/issues/17401\">(#17401)</a>: <em>Remove workflow using <code>tj-actions/changed-files</code></em> by <strong><a href=\"https://github.com/jtpio\">@jtpio</a></strong> merged by <strong><a href=\"https://github.com/jtpio\">@jtpio</a></strong></li>\n<li><a href=\"https://github.com/jupyterlab/jupyterlab/issues/17402\">(#17402)</a>: <em>Remove workflow using <code>tj-actions/changed-files</code></em> by <strong><a href=\"https://github.com/jtpio\">@jtpio</a></strong> merged by <strong><a href=\"https://github.com/jtpio\">@jtpio</a></strong></li>\n<li><a href=\"https://github.com/jupyterlab/jupyterlab/issues/17404\">(#17404)</a>: <em>Backport PR #17371 on branch 4.3.x (Fix rendering URLs as linked in errors)</em> by <strong><a href=\"https://github.com/meeseeksmachine\">@meeseeksmachine</a></strong> merged by <strong><a href=\"https://github.com/krassowski\">@krassowski</a></strong></li>\n<li><a href=\"https://github.com/jupyterlab/jupyterlab/issues/17405\">(#17405)</a>: <em>Fix handling of the CSV viewer theme</em> by <strong><a href=\"https://github.com/jtpio\">@jtpio</a></strong> merged by <strong><a href=\"https://github.com/krassowski\">@krassowski</a></strong></li>\n<li><a href=\"https://github.com/jupyterlab/jupyterlab/issues/17408\">(#17408)</a>: <em>Allow <code>grid</code> and <code>flexbox</code> style attributes during Markdown/HTML sanitization</em> by <strong><a href=\"https://github.com/dotnetautor\">@dotnetautor</a></strong> merged by <strong><a href=\"https://github.com/krassowski\">@krassowski</a></strong></li>\n<li><a href=\"https://github.com/jupyterlab/jupyterlab/issues/17413\">(#17413)</a>: <em>More specific selector for \"Copy Output to Clipboard\"</em> by <strong><a href=\"https://github.com/jtpio\">@jtpio</a></strong> merged by <strong><a href=\"https://github.com/krassowski\">@krassowski</a></strong></li>\n<li><a href=\"https://github.com/jupyterlab/jupyterlab/issues/17414\">(#17414)</a>: <em>Fix types in translation package, remove usages of <code>any</code></em> by <strong><a href=\"https://github.com/krassowski\">@krassowski</a></strong> merged by <strong><a href=\"https://github.com/krassowski\">@krassowski</a></strong></li>\n<li><a href=\"https://github.com/jupyterlab/jupyterlab/issues/17415\">(#17415)</a>: <em>Create \"Kernels\" section, split statusbar settings</em> by <strong><a href=\"https://github.com/krassowski\">@krassowski</a></strong> merged by <strong><a href=\"https://github.com/krassowski\">@krassowski</a></strong></li>\n<li><a href=\"https://github.com/jupyterlab/jupyterlab/issues/17416\">(#17416)</a>: <em>Create Joey</em> by <strong><a href=\"https://github.com/ghost\">@ghost</a></strong> merged by <strong><a href=\"https://github.com/krassowski\">@krassowski</a></strong></li>\n<li><a href=\"https://github.com/jupyterlab/jupyterlab/issues/17418\">(#17418)</a>: <em>Backport PR #17413 on branch 4.3.x (More specific selector for \"Copy Output to Clipboard\")</em> by <strong><a href=\"https://github.com/meeseeksmachine\">@meeseeksmachine</a></strong> merged by <strong><a href=\"https://github.com/krassowski\">@krassowski</a></strong></li>\n<li><a href=\"https://github.com/jupyterlab/jupyterlab/issues/17421\">(#17421)</a>: <em>Fix for filebrowser tooltip rendering the kernel info repeatedly</em> by <strong><a href=\"https://github.com/itsmevichu\">@itsmevichu</a></strong> merged by <strong><a href=\"https://github.com/krassowski\">@krassowski</a></strong></li>\n<li><a href=\"https://github.com/jupyterlab/jupyterlab/issues/17429\">(#17429)</a>: <em>Fix document search matching text within unsupported SVG tags</em> by <strong><a href=\"https://github.com/achhina\">@achhina</a></strong> merged by <strong><a href=\"https://github.com/krassowski\">@krassowski</a></strong></li>\n<li><a href=\"https://github.com/jupyterlab/jupyterlab/issues/17430\">(#17430)</a>: <em>Make <code>ILabShell</code> optional in the logconsole extension</em> by <strong><a href=\"https://github.com/jtpio\">@jtpio</a></strong> merged by <strong><a href=\"https://github.com/krassowski\">@krassowski</a></strong></li>\n<li><a href=\"https://github.com/jupyterlab/jupyterlab/issues/17432\">(#17432)</a>: <em>fix: packages/docmanager/package.json to reduce vulnerabilities</em> by <strong><a href=\"https://github.com/YvesNDIKURIYO-2022\">@YvesNDIKURIYO-2022</a></strong> merged by <strong><a href=\"https://github.com/krassowski\">@krassowski</a></strong></li>\n<li><a href=\"https://github.com/jupyterlab/jupyterlab/issues/17436\">(#17436)</a>: <em>Bump vega from 5.31.0 to 5.32.0</em> by <strong><a href=\"https://github.com/dependabot[bot]\">@dependabot[bot]</a></strong> merged by <strong><a href=\"https://github.com/krassowski\">@krassowski</a></strong></li>\n<li><a href=\"https://github.com/jupyterlab/jupyterlab/issues/17437\">(#17437)</a>: <em>Fix usage of <code>ITerminalAPIClient</code> in <code>TerminalConnection</code></em> by <strong><a href=\"https://github.com/jtpio\">@jtpio</a></strong> merged by <strong><a href=\"https://github.com/jtpio\">@jtpio</a></strong></li>\n<li><a href=\"https://github.com/jupyterlab/jupyterlab/issues/17438\">(#17438)</a>: <em>Fix visual indication for drag and drop in editor</em> by <strong><a href=\"https://github.com/MUFFANUJ\">@MUFFANUJ</a></strong> merged by <strong><a href=\"https://github.com/krassowski\">@krassowski</a></strong></li>\n<li><a href=\"https://github.com/jupyterlab/jupyterlab/issues/17440\">(#17440)</a>: <em>Fix read-only indicator not showing in RTC docprovider</em> by <strong><a href=\"https://github.com/Darshan808\">@Darshan808</a></strong> merged by <strong><a href=\"https://github.com/krassowski\">@krassowski</a></strong></li>\n<li><a href=\"https://github.com/jupyterlab/jupyterlab/issues/17441\">(#17441)</a>: <em>Add distinct accessible aria label for each toolbar</em> by <strong><a href=\"https://github.com/nkn2022\">@nkn2022</a></strong> merged by <strong><a href=\"https://github.com/krassowski\">@krassowski</a></strong></li>\n<li><a href=\"https://github.com/jupyterlab/jupyterlab/issues/17442\">(#17442)</a>: <em>Fix CommandPalette gets re-rendered even if hidden</em> by <strong><a href=\"https://github.com/fcollonval\">@fcollonval</a></strong> merged by <strong><a href=\"https://github.com/krassowski\">@krassowski</a></strong></li>\n<li><a href=\"https://github.com/jupyterlab/jupyterlab/issues/17443\">(#17443)</a>: <em>Bump vega from 5.31.0 to 5.33.0 in /jupyterlab/staging</em> by <strong><a href=\"https://github.com/dependabot[bot]\">@dependabot[bot]</a></strong> merged by <strong><a href=\"https://github.com/krassowski\">@krassowski</a></strong></li>\n<li><a href=\"https://github.com/jupyterlab/jupyterlab/issues/17444\">(#17444)</a>: <em>Do not try to prettier <code>.mypy_cache</code></em> by <strong><a href=\"https://github.com/krassowski\">@krassowski</a></strong> merged by <strong><a href=\"https://github.com/jtpio\">@jtpio</a></strong></li>\n<li><a href=\"https://github.com/jupyterlab/jupyterlab/issues/17445\">(#17445)</a>: <em>Use the system clipboard for copying and pasting cells</em> by <strong><a href=\"https://github.com/yacchin1205\">@yacchin1205</a></strong> merged by <strong><a href=\"https://github.com/krassowski\">@krassowski</a></strong></li>\n<li><a href=\"https://github.com/jupyterlab/jupyterlab/issues/17448\">(#17448)</a>: <em>Bump nanoid from 3.3.7 to 3.3.11 in /jupyterlab/tests/mock_packages/test-hyphens-underscore</em> by <strong><a href=\"https://github.com/dependabot[bot]\">@dependabot[bot]</a></strong> merged by <strong><a href=\"https://github.com/krassowski\">@krassowski</a></strong></li>\n<li><a href=\"https://github.com/jupyterlab/jupyterlab/issues/17453\">(#17453)</a>: <em>Remove dependencies for Python &lt; 3.9</em> by <strong><a href=\"https://github.com/bnavigator\">@bnavigator</a></strong> merged by <strong><a href=\"https://github.com/jtpio\">@jtpio</a></strong></li>\n<li><a href=\"https://github.com/jupyterlab/jupyterlab/issues/17454\">(#17454)</a>: <em>[pre-commit.ci] pre-commit autoupdate</em> by <strong><a href=\"https://github.com/pre-commit-ci[bot]\">@pre-commit-ci[bot]</a></strong> merged by <strong><a href=\"https://github.com/jtpio\">@jtpio</a></strong></li>\n<li><a href=\"https://github.com/jupyterlab/jupyterlab/issues/17457\">(#17457)</a>: <em>Fix <code>@jupyterlab/services</code> import</em> by <strong><a href=\"https://github.com/jtpio\">@jtpio</a></strong> merged by <strong><a href=\"https://github.com/krassowski\">@krassowski</a></strong></li>\n<li><a href=\"https://github.com/jupyterlab/jupyterlab/issues/17463\">(#17463)</a>: <em>Backport PR #17429 on branch 4.3.x (Fix document search matching text within unsupported SVG tags)</em> by <strong><a href=\"https://github.com/meeseeksmachine\">@meeseeksmachine</a></strong> merged by <strong><a href=\"https://github.com/krassowski\">@krassowski</a></strong></li>\n<li><a href=\"https://github.com/jupyterlab/jupyterlab/issues/17466\">(#17466)</a>: <em>Fix incorrect modifications in collaborative save events</em> by <strong><a href=\"https://github.com/Darshan808\">@Darshan808</a></strong> merged by <strong><a href=\"https://github.com/krassowski\">@krassowski</a></strong></li>\n<li><a href=\"https://github.com/jupyterlab/jupyterlab/issues/17468\">(#17468)</a>: <em>Backport PR #17466 on branch 4.3.x (Fix incorrect modifications in collaborative save events)</em> by <strong><a href=\"https://github.com/meeseeksmachine\">@meeseeksmachine</a></strong> merged by <strong><a href=\"https://github.com/krassowski\">@krassowski</a></strong></li>\n<li><a href=\"https://github.com/jupyterlab/jupyterlab/issues/17469\">(#17469)</a>: <em>Follow changes to stream outputs</em> by <strong><a href=\"https://github.com/davidbrochart\">@davidbrochart</a></strong> merged by <strong><a href=\"https://github.com/krassowski\">@krassowski</a></strong></li>\n<li><a href=\"https://github.com/jupyterlab/jupyterlab/issues/17472\">(#17472)</a>: <em>Add <code>aria-hidden</code> to icons (<code>&lt;svg&gt;</code> elements) which do not have a <code>title</code></em> by <strong><a href=\"https://github.com/nkn2022\">@nkn2022</a></strong> merged by <strong><a href=\"https://github.com/krassowski\">@krassowski</a></strong></li>\n<li><a href=\"https://github.com/jupyterlab/jupyterlab/issues/17475\">(#17475)</a>: <em>Fix handling of the single click navigation</em> by <strong><a href=\"https://github.com/jtpio\">@jtpio</a></strong> merged by <strong><a href=\"https://github.com/afshin\">@afshin</a></strong></li>\n<li><a href=\"https://github.com/jupyterlab/jupyterlab/issues/17476\">(#17476)</a>: <em>Reorder <code>extra_labextensions_path</code> to favor defaults</em> by <strong><a href=\"https://github.com/peytondmurray\">@peytondmurray</a></strong> merged by <strong><a href=\"https://github.com/krassowski\">@krassowski</a></strong></li>\n<li><a href=\"https://github.com/jupyterlab/jupyterlab/issues/17477\">(#17477)</a>: <em>Fix token extraction for incomplete paths</em> by <strong><a href=\"https://github.com/DenisaCG\">@DenisaCG</a></strong> merged by <strong><a href=\"https://github.com/krassowski\">@krassowski</a></strong></li>\n<li><a href=\"https://github.com/jupyterlab/jupyterlab/issues/17481\">(#17481)</a>: <em>Add test for stream outputs</em> by <strong><a href=\"https://github.com/davidbrochart\">@davidbrochart</a></strong> merged by <strong><a href=\"https://github.com/davidbrochart\">@davidbrochart</a></strong></li>\n<li><a href=\"https://github.com/jupyterlab/jupyterlab/issues/17482\">(#17482)</a>: <em>Add an optional <code>exportAs</code> method to <code>NbConvert.IManager</code></em> by <strong><a href=\"https://github.com/jtpio\">@jtpio</a></strong> merged by <strong><a href=\"https://github.com/krassowski\">@krassowski</a></strong></li>\n<li><a href=\"https://github.com/jupyterlab/jupyterlab/issues/17483\">(#17483)</a>: <em>Update to Playwright 1.52.0</em> by <strong><a href=\"https://github.com/jtpio\">@jtpio</a></strong> merged by <strong><a href=\"https://github.com/jtpio\">@jtpio</a></strong></li>\n<li><a href=\"https://github.com/jupyterlab/jupyterlab/issues/17486\">(#17486)</a>: <em>Fix undo/redo in cells created in <code>none</code> windowing mode</em> by <strong><a href=\"https://github.com/krassowski\">@krassowski</a></strong> merged by <strong><a href=\"https://github.com/jtpio\">@jtpio</a></strong></li>\n<li><a href=\"https://github.com/jupyterlab/jupyterlab/issues/17487\">(#17487)</a>: <em>Add new CSS rule for expanding linked output to 100% height</em> by <strong><a href=\"https://github.com/SylvainCorlay\">@SylvainCorlay</a></strong> merged by <strong><a href=\"https://github.com/krassowski\">@krassowski</a></strong></li>\n<li><a href=\"https://github.com/jupyterlab/jupyterlab/issues/17491\">(#17491)</a>: <em>Bump @babel/runtime from 7.21.0 to 7.27.0</em> by <strong><a href=\"https://github.com/dependabot[bot]\">@dependabot[bot]</a></strong> merged by <strong><a href=\"https://github.com/krassowski\">@krassowski</a></strong></li>\n<li><a href=\"https://github.com/jupyterlab/jupyterlab/issues/17492\">(#17492)</a>: <em>Backport PR #17486 on branch 4.3.x (Fix undo/redo in cells created in none windowing mode)</em> by <strong><a href=\"https://github.com/krassowski\">@krassowski</a></strong> merged by <strong><a href=\"https://github.com/krassowski\">@krassowski</a></strong></li>\n<li><a href=\"https://github.com/jupyterlab/jupyterlab/issues/17494\">(#17494)</a>: <em>Bump webpack from 5.91.0 to 5.99.6 in /jupyterlab/tests/mock_packages/test_no_hyphens</em> by <strong><a href=\"https://github.com/dependabot[bot]\">@dependabot[bot]</a></strong> merged by <strong><a href=\"https://github.com/krassowski\">@krassowski</a></strong></li>\n<li><a href=\"https://github.com/jupyterlab/jupyterlab/issues/17495\">(#17495)</a>: <em>Bump webpack from 5.91.0 to 5.99.6 in /jupyterlab/tests/mock_packages/test-hyphens-underscore</em> by <strong><a href=\"https://github.com/dependabot[bot]\">@dependabot[bot]</a></strong> merged by <strong><a href=\"https://github.com/krassowski\">@krassowski</a></strong></li>\n<li><a href=\"https://github.com/jupyterlab/jupyterlab/issues/17499\">(#17499)</a>: <em>Bump ws from 8.16.0 to 8.18.1 in /jupyterlab/tests/mock_packages/test_no_hyphens</em> by <strong><a href=\"https://github.com/dependabot[bot]\">@dependabot[bot]</a></strong> merged by <strong><a href=\"https://github.com/krassowski\">@krassowski</a></strong></li>\n<li><a href=\"https://github.com/jupyterlab/jupyterlab/issues/17500\">(#17500)</a>: <em>Bump ws from 8.16.0 to 8.18.1 in /jupyterlab/tests/mock_packages/test-hyphens-underscore</em> by <strong><a href=\"https://github.com/dependabot[bot]\">@dependabot[bot]</a></strong> merged by <strong><a href=\"https://github.com/krassowski\">@krassowski</a></strong></li>\n<li><a href=\"https://github.com/jupyterlab/jupyterlab/issues/17502\">(#17502)</a>: <em>Bump tough-cookie from 4.1.2 to 4.1.4</em> by <strong><a href=\"https://github.com/dependabot[bot]\">@dependabot[bot]</a></strong> merged by <strong><a href=\"https://github.com/krassowski\">@krassowski</a></strong></li>\n<li><a href=\"https://github.com/jupyterlab/jupyterlab/issues/17503\">(#17503)</a>: <em>Backport PR #17502 on branch 4.4.x (Bump tough-cookie from 4.1.2 to 4.1.4)</em> by <strong><a href=\"https://github.com/meeseeksmachine\">@meeseeksmachine</a></strong> merged by <strong><a href=\"https://github.com/krassowski\">@krassowski</a></strong></li>\n<li><a href=\"https://github.com/jupyterlab/jupyterlab/issues/17505\">(#17505)</a>: <em>Add new entry to Postmortems in <code>RELEASE.md</code></em> by <strong><a href=\"https://github.com/jtpio\">@jtpio</a></strong> merged by <strong><a href=\"https://github.com/krassowski\">@krassowski</a></strong></li>\n<li><a href=\"https://github.com/jupyterlab/jupyterlab/issues/17511\">(#17511)</a>: <em>Fix editing shortcuts on Safari (allow shortcut edit button to receive focus)</em> by <strong><a href=\"https://github.com/minrk\">@minrk</a></strong> merged by <strong><a href=\"https://github.com/krassowski\">@krassowski</a></strong></li>\n<li><a href=\"https://github.com/jupyterlab/jupyterlab/issues/17512\">(#17512)</a>: <em>Backport PR #17511 on branch 4.3.x (Fix editing shortcuts on Safari (allow shortcut edit button to receive focus))</em> by <strong><a href=\"https://github.com/meeseeksmachine\">@meeseeksmachine</a></strong> merged by <strong><a href=\"https://github.com/jtpio\">@jtpio</a></strong></li>\n<li><a href=\"https://github.com/jupyterlab/jupyterlab/issues/17513\">(#17513)</a>: <em>Backport PR #17511 on branch 4.4.x (Fix editing shortcuts on Safari (allow shortcut edit button to receive focus))</em> by <strong><a href=\"https://github.com/meeseeksmachine\">@meeseeksmachine</a></strong> merged by <strong><a href=\"https://github.com/krassowski\">@krassowski</a></strong></li>\n<li><a href=\"https://github.com/jupyterlab/jupyterlab/issues/17519\">(#17519)</a>: <em>Update lower bound for <code>setuptools</code></em> by <strong><a href=\"https://github.com/jtpio\">@jtpio</a></strong> merged by <strong><a href=\"https://github.com/jtpio\">@jtpio</a></strong></li>\n<li><a href=\"https://github.com/jupyterlab/jupyterlab/issues/17520\">(#17520)</a>: <em>Backport PR #17219 on branch 4.3.x (Updated mock packages to use hatch-jupyter-builder)</em> by <strong><a href=\"https://github.com/meeseeksmachine\">@meeseeksmachine</a></strong> merged by <strong><a href=\"https://github.com/krassowski\">@krassowski</a></strong></li>\n<li><a href=\"https://github.com/jupyterlab/jupyterlab/issues/17522\">(#17522)</a>: <em>[4.3.x] Drop 3.8 from the testing matrix</em> by <strong><a href=\"https://github.com/jtpio\">@jtpio</a></strong> merged by <strong><a href=\"https://github.com/jtpio\">@jtpio</a></strong></li>\n<li><a href=\"https://github.com/jupyterlab/jupyterlab/issues/17523\">(#17523)</a>: <em>Backport PR #17472 on branch 4.4.x (Add <code>aria-hidden</code> to icons (<code>&lt;svg&gt;</code> elements) which do not have a <code>title</code>)</em> by <strong><a href=\"https://github.com/meeseeksmachine\">@meeseeksmachine</a></strong> merged by <strong><a href=\"https://github.com/krassowski\">@krassowski</a></strong></li>\n<li><a href=\"https://github.com/jupyterlab/jupyterlab/issues/17525\">(#17525)</a>: <em>Update lumino to <code>v2025.4.30</code> to pull menu aria fix</em> by <strong><a href=\"https://github.com/krassowski\">@krassowski</a></strong> merged by <strong><a href=\"https://github.com/krassowski\">@krassowski</a></strong></li>\n<li><a href=\"https://github.com/jupyterlab/jupyterlab/issues/17526\">(#17526)</a>: <em>Upgrade CodeMirror packages to latest</em> by <strong><a href=\"https://github.com/krassowski\">@krassowski</a></strong> merged by <strong><a href=\"https://github.com/krassowski\">@krassowski</a></strong></li>\n<li><a href=\"https://github.com/jupyterlab/jupyterlab/issues/17527\">(#17527)</a>: <em>Fix incorrect ARIA labels in the <code>MainAreaWidget</code></em> by <strong><a href=\"https://github.com/dnlzrgz\">@dnlzrgz</a></strong> merged by <strong><a href=\"https://github.com/krassowski\">@krassowski</a></strong></li>\n<li><a href=\"https://github.com/jupyterlab/jupyterlab/issues/17528\">(#17528)</a>: <em>Fix rendering of long cell editors in windowed notebook</em> by <strong><a href=\"https://github.com/krassowski\">@krassowski</a></strong> merged by <strong><a href=\"https://github.com/krassowski\">@krassowski</a></strong></li>\n<li><a href=\"https://github.com/jupyterlab/jupyterlab/issues/17529\">(#17529)</a>: <em>Bump actions/create-github-app-token from 1 to 2 in the actions group</em> by <strong><a href=\"https://github.com/dependabot[bot]\">@dependabot[bot]</a></strong> merged by <strong><a href=\"https://github.com/krassowski\">@krassowski</a></strong></li>\n<li><a href=\"https://github.com/jupyterlab/jupyterlab/issues/17531\">(#17531)</a>: <em>Backport PR #17528 on branch 4.4.x (Fix rendering of long cell editors in windowed notebook)</em> by <strong><a href=\"https://github.com/meeseeksmachine\">@meeseeksmachine</a></strong> merged by <strong><a href=\"https://github.com/krassowski\">@krassowski</a></strong></li>\n<li><a href=\"https://github.com/jupyterlab/jupyterlab/issues/17532\">(#17532)</a>: <em>Update widget flag on attaching cell to viewport</em> by <strong><a href=\"https://github.com/trungleduc\">@trungleduc</a></strong> merged by <strong><a href=\"https://github.com/krassowski\">@krassowski</a></strong></li>\n<li><a href=\"https://github.com/jupyterlab/jupyterlab/issues/17533\">(#17533)</a>: <em>Backport PR #17525 on branch 4.4.x (Update lumino to <code>v2025.4.30</code> to pull menu aria fix)</em> by <strong><a href=\"https://github.com/meeseeksmachine\">@meeseeksmachine</a></strong> merged by <strong><a href=\"https://github.com/krassowski\">@krassowski</a></strong></li>\n<li><a href=\"https://github.com/jupyterlab/jupyterlab/issues/17534\">(#17534)</a>: <em>Backport PR #17532 on branch 4.4.x (Update widget flag on attaching cell to viewport)</em> by <strong><a href=\"https://github.com/meeseeksmachine\">@meeseeksmachine</a></strong> merged by <strong><a href=\"https://github.com/krassowski\">@krassowski</a></strong></li>\n<li><a href=\"https://github.com/jupyterlab/jupyterlab/issues/17535\">(#17535)</a>: <em>Backport PR #17526 on branch 4.4.x (Upgrade CodeMirror packages to latest)</em> by <strong><a href=\"https://github.com/meeseeksmachine\">@meeseeksmachine</a></strong> merged by <strong><a href=\"https://github.com/krassowski\">@krassowski</a></strong></li>\n<li><a href=\"https://github.com/jupyterlab/jupyterlab/issues/17536\">(#17536)</a>: <em>Reconfigure 4.3.x branch (4.4.x is new stable)</em> by <strong><a href=\"https://github.com/krassowski\">@krassowski</a></strong> merged by <strong><a href=\"https://github.com/jtpio\">@jtpio</a></strong></li>\n<li><a href=\"https://github.com/jupyterlab/jupyterlab/issues/17537\">(#17537)</a>: <em>Reconfigure 4.4.x branch</em> by <strong><a href=\"https://github.com/krassowski\">@krassowski</a></strong> merged by <strong><a href=\"https://github.com/jtpio\">@jtpio</a></strong></li>\n<li><a href=\"https://github.com/jupyterlab/jupyterlab/issues/17540\">(#17540)</a>: <em>Fix Settings Editor incorrectly resetting values to default in filtered view</em> by <strong><a href=\"https://github.com/yukiiii04\">@yukiiii04</a></strong> merged by <strong><a href=\"https://github.com/krassowski\">@krassowski</a></strong></li>\n<li><a href=\"https://github.com/jupyterlab/jupyterlab/issues/17543\">(#17543)</a>: <em>[pre-commit.ci] pre-commit autoupdate</em> by <strong><a href=\"https://github.com/pre-commit-ci[bot]\">@pre-commit-ci[bot]</a></strong> merged by <strong><a href=\"https://github.com/krassowski\">@krassowski</a></strong></li>\n<li><a href=\"https://github.com/jupyterlab/jupyterlab/issues/17544\">(#17544)</a>: <em>Temporarily ignore links to github.com</em> by <strong><a href=\"https://github.com/krassowski\">@krassowski</a></strong> merged by <strong><a href=\"https://github.com/jtpio\">@jtpio</a></strong></li>\n<li><a href=\"https://github.com/jupyterlab/jupyterlab/issues/17545\">(#17545)</a>: <em>Backport PR #17540 on branch 4.3.x (Fix Settings Editor incorrectly resetting values to default in filtered view)</em> by <strong><a href=\"https://github.com/meeseeksmachine\">@meeseeksmachine</a></strong> merged by <strong><a href=\"https://github.com/krassowski\">@krassowski</a></strong></li>\n<li><a href=\"https://github.com/jupyterlab/jupyterlab/issues/17546\">(#17546)</a>: <em>Backport PR #17540 on branch 4.4.x (Fix Settings Editor incorrectly resetting values to default in filtered view)</em> by <strong><a href=\"https://github.com/meeseeksmachine\">@meeseeksmachine</a></strong> merged by <strong><a href=\"https://github.com/krassowski\">@krassowski</a></strong></li>\n<li><a href=\"https://github.com/jupyterlab/jupyterlab/issues/17550\">(#17550)</a>: <em><code>fileeditor-extension</code>: fix handling of launcher, commands and menu entries on <code>specsChanged</code></em> by <strong><a href=\"https://github.com/jtpio\">@jtpio</a></strong> merged by <strong><a href=\"https://github.com/jtpio\">@jtpio</a></strong></li>\n<li><a href=\"https://github.com/jupyterlab/jupyterlab/issues/17551\">(#17551)</a>: <em>Backport PR #17544 on branch 4.3.x (Temporarily ignore links to github.com)</em> by <strong><a href=\"https://github.com/meeseeksmachine\">@meeseeksmachine</a></strong> merged by <strong><a href=\"https://github.com/krassowski\">@krassowski</a></strong></li>\n<li><a href=\"https://github.com/jupyterlab/jupyterlab/issues/17552\">(#17552)</a>: <em>Backport PR #17544 on branch 4.4.x (Temporarily ignore links to github.com)</em> by <strong><a href=\"https://github.com/meeseeksmachine\">@meeseeksmachine</a></strong> merged by <strong><a href=\"https://github.com/jtpio\">@jtpio</a></strong></li>\n<li><a href=\"https://github.com/jupyterlab/jupyterlab/issues/17553\">(#17553)</a>: <em>Backport PR #17550 on branch 4.4.x (<code>fileeditor-extension</code>: fix handling of launcher, commands and menu entries on <code>specsChanged</code>)</em> by <strong><a href=\"https://github.com/meeseeksmachine\">@meeseeksmachine</a></strong> merged by <strong><a href=\"https://github.com/krassowski\">@krassowski</a></strong></li>\n<li><a href=\"https://github.com/jupyterlab/jupyterlab/issues/17555\">(#17555)</a>: <em>Pin <code>snowballstemmer</code> to <code>&lt;3.0.0</code></em> by <strong><a href=\"https://github.com/krassowski\">@krassowski</a></strong> merged by <strong><a href=\"https://github.com/krassowski\">@krassowski</a></strong></li>\n</ul>"
      }
     },
     "09485b5d808c4a4eb8812d55d054e18a": {
      "model_module": "@jupyter-widgets/base",
      "model_module_version": "2.0.0",
      "model_name": "LayoutModel",
      "state": {
       "_model_module": "@jupyter-widgets/base",
       "_model_module_version": "2.0.0",
       "_model_name": "LayoutModel",
       "_view_count": null,
       "_view_module": "@jupyter-widgets/base",
       "_view_module_version": "2.0.0",
       "_view_name": "LayoutView",
       "align_content": null,
       "align_items": null,
       "align_self": null,
       "border_bottom": null,
       "border_left": null,
       "border_right": null,
       "border_top": null,
       "bottom": null,
       "display": null,
       "flex": null,
       "flex_flow": null,
       "grid_area": null,
       "grid_auto_columns": null,
       "grid_auto_flow": null,
       "grid_auto_rows": null,
       "grid_column": null,
       "grid_gap": null,
       "grid_row": null,
       "grid_template_areas": null,
       "grid_template_columns": null,
       "grid_template_rows": null,
       "height": null,
       "justify_content": null,
       "justify_items": null,
       "left": null,
       "margin": null,
       "max_height": null,
       "max_width": null,
       "min_height": null,
       "min_width": null,
       "object_fit": null,
       "object_position": null,
       "order": null,
       "overflow": null,
       "padding": null,
       "right": null,
       "top": null,
       "visibility": null,
       "width": null
      }
     },
     "10b00cf0afb94b929a468f0f9a96ecfe": {
      "model_module": "@jupyter-widgets/controls",
      "model_module_version": "2.0.0",
      "model_name": "HTMLStyleModel",
      "state": {
       "_model_module": "@jupyter-widgets/controls",
       "_model_module_version": "2.0.0",
       "_model_name": "HTMLStyleModel",
       "_view_count": null,
       "_view_module": "@jupyter-widgets/base",
       "_view_module_version": "2.0.0",
       "_view_name": "StyleView",
       "background": null,
       "description_width": "",
       "font_size": null,
       "text_color": null
      }
     },
     "15000ef9f94743f599fa2f6c9178f254": {
      "model_module": "@jupyter-widgets/controls",
      "model_module_version": "2.0.0",
      "model_name": "HTMLStyleModel",
      "state": {
       "_model_module": "@jupyter-widgets/controls",
       "_model_module_version": "2.0.0",
       "_model_name": "HTMLStyleModel",
       "_view_count": null,
       "_view_module": "@jupyter-widgets/base",
       "_view_module_version": "2.0.0",
       "_view_name": "StyleView",
       "background": null,
       "description_width": "",
       "font_size": null,
       "text_color": null
      }
     },
     "198f76b22413428ab9a1081c1f1f2268": {
      "model_module": "@jupyter-widgets/base",
      "model_module_version": "2.0.0",
      "model_name": "LayoutModel",
      "state": {
       "_model_module": "@jupyter-widgets/base",
       "_model_module_version": "2.0.0",
       "_model_name": "LayoutModel",
       "_view_count": null,
       "_view_module": "@jupyter-widgets/base",
       "_view_module_version": "2.0.0",
       "_view_name": "LayoutView",
       "align_content": null,
       "align_items": null,
       "align_self": null,
       "border_bottom": null,
       "border_left": null,
       "border_right": null,
       "border_top": null,
       "bottom": null,
       "display": null,
       "flex": null,
       "flex_flow": null,
       "grid_area": null,
       "grid_auto_columns": null,
       "grid_auto_flow": null,
       "grid_auto_rows": null,
       "grid_column": null,
       "grid_gap": null,
       "grid_row": null,
       "grid_template_areas": null,
       "grid_template_columns": null,
       "grid_template_rows": null,
       "height": null,
       "justify_content": null,
       "justify_items": null,
       "left": null,
       "margin": null,
       "max_height": null,
       "max_width": null,
       "min_height": null,
       "min_width": null,
       "object_fit": null,
       "object_position": null,
       "order": null,
       "overflow": null,
       "padding": null,
       "right": null,
       "top": null,
       "visibility": null,
       "width": null
      }
     },
     "1dd37ec66c5e44248e90870c5a38f517": {
      "model_module": "@jupyter-widgets/base",
      "model_module_version": "2.0.0",
      "model_name": "LayoutModel",
      "state": {
       "_model_module": "@jupyter-widgets/base",
       "_model_module_version": "2.0.0",
       "_model_name": "LayoutModel",
       "_view_count": null,
       "_view_module": "@jupyter-widgets/base",
       "_view_module_version": "2.0.0",
       "_view_name": "LayoutView",
       "align_content": null,
       "align_items": null,
       "align_self": null,
       "border_bottom": null,
       "border_left": null,
       "border_right": null,
       "border_top": null,
       "bottom": null,
       "display": null,
       "flex": null,
       "flex_flow": null,
       "grid_area": null,
       "grid_auto_columns": null,
       "grid_auto_flow": null,
       "grid_auto_rows": null,
       "grid_column": null,
       "grid_gap": null,
       "grid_row": null,
       "grid_template_areas": null,
       "grid_template_columns": null,
       "grid_template_rows": null,
       "height": null,
       "justify_content": null,
       "justify_items": null,
       "left": null,
       "margin": null,
       "max_height": null,
       "max_width": null,
       "min_height": null,
       "min_width": null,
       "object_fit": null,
       "object_position": null,
       "order": null,
       "overflow": null,
       "padding": null,
       "right": null,
       "top": null,
       "visibility": null,
       "width": null
      }
     },
     "1ef24cd6fe8b4734b9cec6f757d33a54": {
      "model_module": "@jupyter-widgets/controls",
      "model_module_version": "2.0.0",
      "model_name": "HTMLModel",
      "state": {
       "_dom_classes": [],
       "_model_module": "@jupyter-widgets/controls",
       "_model_module_version": "2.0.0",
       "_model_name": "HTMLModel",
       "_view_count": null,
       "_view_module": "@jupyter-widgets/controls",
       "_view_module_version": "2.0.0",
       "_view_name": "HTMLView",
       "description": "",
       "description_allow_html": false,
       "layout": "IPY_MODEL_1dd37ec66c5e44248e90870c5a38f517",
       "placeholder": "​",
       "style": "IPY_MODEL_f7fa36fefd7e4aa8bef58d6b9c45892d",
       "tabbable": null,
       "tooltip": null,
       "value": "<h5><a href=\"https://github.com/jupyterlab/jupyterlab-demo\">jupyterlab/jupyterlab-demo</a></h5>\n<ul>\n<li><a href=\"https://github.com/jupyterlab/jupyterlab-demo/issues/145\">(#145)</a>: <em>Broken demo on Binder</em> by <strong><a href=\"https://github.com/jtpio\">@jtpio</a></strong></li>\n</ul>"
      }
     },
     "280fbb477bfe42e889d50c9f99b06d0b": {
      "model_module": "@jupyter-widgets/controls",
      "model_module_version": "2.0.0",
      "model_name": "HTMLModel",
      "state": {
       "_dom_classes": [],
       "_model_module": "@jupyter-widgets/controls",
       "_model_module_version": "2.0.0",
       "_model_name": "HTMLModel",
       "_view_count": null,
       "_view_module": "@jupyter-widgets/controls",
       "_view_module_version": "2.0.0",
       "_view_name": "HTMLView",
       "description": "",
       "description_allow_html": false,
       "layout": "IPY_MODEL_09485b5d808c4a4eb8812d55d054e18a",
       "placeholder": "​",
       "style": "IPY_MODEL_e3f0dd201968439d954d95cfd0ef82be",
       "tabbable": null,
       "tooltip": null,
       "value": "<h5><a href=\"https://github.com/jupyterlab/jupyterlab-git\">jupyterlab/jupyterlab-git</a></h5>\n<ul>\n<li><a href=\"https://github.com/jupyterlab/jupyterlab-git/issues/1342\">(#1342)</a>: <em>Cloning from new host via ssh causes spurious error rather than prompting for confirmation and succeeding</em> by <strong><a href=\"https://github.com/ctcjab\">@ctcjab</a></strong></li>\n<li><a href=\"https://github.com/jupyterlab/jupyterlab-git/issues/1355\">(#1355)</a>: <em>Handle multiple repos and/or git modules</em> by <strong><a href=\"https://github.com/jtpio\">@jtpio</a></strong></li>\n</ul>"
      }
     },
     "331df95c4906401f85aa8a63d9a417d2": {
      "model_module": "@jupyter-widgets/controls",
      "model_module_version": "2.0.0",
      "model_name": "HTMLStyleModel",
      "state": {
       "_model_module": "@jupyter-widgets/controls",
       "_model_module_version": "2.0.0",
       "_model_name": "HTMLStyleModel",
       "_view_count": null,
       "_view_module": "@jupyter-widgets/base",
       "_view_module_version": "2.0.0",
       "_view_name": "StyleView",
       "background": null,
       "description_width": "",
       "font_size": null,
       "text_color": null
      }
     },
     "3dfa44c982844cbd953e9d96128129d1": {
      "model_module": "@jupyter-widgets/base",
      "model_module_version": "2.0.0",
      "model_name": "LayoutModel",
      "state": {
       "_model_module": "@jupyter-widgets/base",
       "_model_module_version": "2.0.0",
       "_model_name": "LayoutModel",
       "_view_count": null,
       "_view_module": "@jupyter-widgets/base",
       "_view_module_version": "2.0.0",
       "_view_name": "LayoutView",
       "align_content": null,
       "align_items": null,
       "align_self": null,
       "border_bottom": null,
       "border_left": null,
       "border_right": null,
       "border_top": null,
       "bottom": null,
       "display": null,
       "flex": null,
       "flex_flow": null,
       "grid_area": null,
       "grid_auto_columns": null,
       "grid_auto_flow": null,
       "grid_auto_rows": null,
       "grid_column": null,
       "grid_gap": null,
       "grid_row": null,
       "grid_template_areas": null,
       "grid_template_columns": null,
       "grid_template_rows": null,
       "height": null,
       "justify_content": null,
       "justify_items": null,
       "left": null,
       "margin": null,
       "max_height": null,
       "max_width": null,
       "min_height": null,
       "min_width": null,
       "object_fit": null,
       "object_position": null,
       "order": null,
       "overflow": null,
       "padding": null,
       "right": null,
       "top": null,
       "visibility": null,
       "width": null
      }
     },
     "3ed39650edb94e14b180d0c1ea9e06bc": {
      "model_module": "@jupyter-widgets/base",
      "model_module_version": "2.0.0",
      "model_name": "LayoutModel",
      "state": {
       "_model_module": "@jupyter-widgets/base",
       "_model_module_version": "2.0.0",
       "_model_name": "LayoutModel",
       "_view_count": null,
       "_view_module": "@jupyter-widgets/base",
       "_view_module_version": "2.0.0",
       "_view_name": "LayoutView",
       "align_content": null,
       "align_items": null,
       "align_self": null,
       "border_bottom": null,
       "border_left": null,
       "border_right": null,
       "border_top": null,
       "bottom": null,
       "display": null,
       "flex": null,
       "flex_flow": null,
       "grid_area": null,
       "grid_auto_columns": null,
       "grid_auto_flow": null,
       "grid_auto_rows": null,
       "grid_column": null,
       "grid_gap": null,
       "grid_row": null,
       "grid_template_areas": null,
       "grid_template_columns": null,
       "grid_template_rows": null,
       "height": null,
       "justify_content": null,
       "justify_items": null,
       "left": null,
       "margin": null,
       "max_height": null,
       "max_width": null,
       "min_height": null,
       "min_width": null,
       "object_fit": null,
       "object_position": null,
       "order": null,
       "overflow": null,
       "padding": null,
       "right": null,
       "top": null,
       "visibility": null,
       "width": null
      }
     },
     "405a5b488ba64e2b98a99994a3fc829d": {
      "model_module": "@jupyter-widgets/controls",
      "model_module_version": "2.0.0",
      "model_name": "HTMLStyleModel",
      "state": {
       "_model_module": "@jupyter-widgets/controls",
       "_model_module_version": "2.0.0",
       "_model_name": "HTMLStyleModel",
       "_view_count": null,
       "_view_module": "@jupyter-widgets/base",
       "_view_module_version": "2.0.0",
       "_view_name": "StyleView",
       "background": null,
       "description_width": "",
       "font_size": null,
       "text_color": null
      }
     },
     "49345e2c2ba64798abada488d23d88fe": {
      "model_module": "@jupyter-widgets/base",
      "model_module_version": "2.0.0",
      "model_name": "LayoutModel",
      "state": {
       "_model_module": "@jupyter-widgets/base",
       "_model_module_version": "2.0.0",
       "_model_name": "LayoutModel",
       "_view_count": null,
       "_view_module": "@jupyter-widgets/base",
       "_view_module_version": "2.0.0",
       "_view_name": "LayoutView",
       "align_content": null,
       "align_items": null,
       "align_self": null,
       "border_bottom": null,
       "border_left": null,
       "border_right": null,
       "border_top": null,
       "bottom": null,
       "display": null,
       "flex": null,
       "flex_flow": null,
       "grid_area": null,
       "grid_auto_columns": null,
       "grid_auto_flow": null,
       "grid_auto_rows": null,
       "grid_column": null,
       "grid_gap": null,
       "grid_row": null,
       "grid_template_areas": null,
       "grid_template_columns": null,
       "grid_template_rows": null,
       "height": null,
       "justify_content": null,
       "justify_items": null,
       "left": null,
       "margin": null,
       "max_height": null,
       "max_width": null,
       "min_height": null,
       "min_width": null,
       "object_fit": null,
       "object_position": null,
       "order": null,
       "overflow": null,
       "padding": null,
       "right": null,
       "top": null,
       "visibility": null,
       "width": null
      }
     },
     "4b387be661a7415982825dc31e7d7a16": {
      "model_module": "@jupyter-widgets/base",
      "model_module_version": "2.0.0",
      "model_name": "LayoutModel",
      "state": {
       "_model_module": "@jupyter-widgets/base",
       "_model_module_version": "2.0.0",
       "_model_name": "LayoutModel",
       "_view_count": null,
       "_view_module": "@jupyter-widgets/base",
       "_view_module_version": "2.0.0",
       "_view_name": "LayoutView",
       "align_content": null,
       "align_items": null,
       "align_self": null,
       "border_bottom": null,
       "border_left": null,
       "border_right": null,
       "border_top": null,
       "bottom": null,
       "display": null,
       "flex": null,
       "flex_flow": null,
       "grid_area": null,
       "grid_auto_columns": null,
       "grid_auto_flow": null,
       "grid_auto_rows": null,
       "grid_column": null,
       "grid_gap": null,
       "grid_row": null,
       "grid_template_areas": null,
       "grid_template_columns": null,
       "grid_template_rows": null,
       "height": null,
       "justify_content": null,
       "justify_items": null,
       "left": null,
       "margin": null,
       "max_height": null,
       "max_width": null,
       "min_height": null,
       "min_width": null,
       "object_fit": null,
       "object_position": null,
       "order": null,
       "overflow": null,
       "padding": null,
       "right": null,
       "top": null,
       "visibility": null,
       "width": null
      }
     },
     "4b46fe5d046b4cf49677268b7e0c6650": {
      "model_module": "@jupyter-widgets/base",
      "model_module_version": "2.0.0",
      "model_name": "LayoutModel",
      "state": {
       "_model_module": "@jupyter-widgets/base",
       "_model_module_version": "2.0.0",
       "_model_name": "LayoutModel",
       "_view_count": null,
       "_view_module": "@jupyter-widgets/base",
       "_view_module_version": "2.0.0",
       "_view_name": "LayoutView",
       "align_content": null,
       "align_items": null,
       "align_self": null,
       "border_bottom": null,
       "border_left": null,
       "border_right": null,
       "border_top": null,
       "bottom": null,
       "display": null,
       "flex": null,
       "flex_flow": null,
       "grid_area": null,
       "grid_auto_columns": null,
       "grid_auto_flow": null,
       "grid_auto_rows": null,
       "grid_column": null,
       "grid_gap": null,
       "grid_row": null,
       "grid_template_areas": null,
       "grid_template_columns": null,
       "grid_template_rows": null,
       "height": null,
       "justify_content": null,
       "justify_items": null,
       "left": null,
       "margin": null,
       "max_height": null,
       "max_width": null,
       "min_height": null,
       "min_width": null,
       "object_fit": null,
       "object_position": null,
       "order": null,
       "overflow": null,
       "padding": null,
       "right": null,
       "top": null,
       "visibility": null,
       "width": null
      }
     },
     "4c687ec20fab46d0898278e75c41a6e0": {
      "model_module": "@jupyter-widgets/controls",
      "model_module_version": "2.0.0",
      "model_name": "HTMLStyleModel",
      "state": {
       "_model_module": "@jupyter-widgets/controls",
       "_model_module_version": "2.0.0",
       "_model_name": "HTMLStyleModel",
       "_view_count": null,
       "_view_module": "@jupyter-widgets/base",
       "_view_module_version": "2.0.0",
       "_view_name": "StyleView",
       "background": null,
       "description_width": "",
       "font_size": null,
       "text_color": null
      }
     },
     "4c7d7c9a0e7644ab9e9588edc582cd5a": {
      "model_module": "@jupyter-widgets/base",
      "model_module_version": "2.0.0",
      "model_name": "LayoutModel",
      "state": {
       "_model_module": "@jupyter-widgets/base",
       "_model_module_version": "2.0.0",
       "_model_name": "LayoutModel",
       "_view_count": null,
       "_view_module": "@jupyter-widgets/base",
       "_view_module_version": "2.0.0",
       "_view_name": "LayoutView",
       "align_content": null,
       "align_items": null,
       "align_self": null,
       "border_bottom": null,
       "border_left": null,
       "border_right": null,
       "border_top": null,
       "bottom": null,
       "display": null,
       "flex": null,
       "flex_flow": null,
       "grid_area": null,
       "grid_auto_columns": null,
       "grid_auto_flow": null,
       "grid_auto_rows": null,
       "grid_column": null,
       "grid_gap": null,
       "grid_row": null,
       "grid_template_areas": null,
       "grid_template_columns": null,
       "grid_template_rows": null,
       "height": null,
       "justify_content": null,
       "justify_items": null,
       "left": null,
       "margin": null,
       "max_height": null,
       "max_width": null,
       "min_height": null,
       "min_width": null,
       "object_fit": null,
       "object_position": null,
       "order": null,
       "overflow": null,
       "padding": null,
       "right": null,
       "top": null,
       "visibility": null,
       "width": null
      }
     },
     "51ff568647c044039edb19e243531271": {
      "model_module": "@jupyter-widgets/controls",
      "model_module_version": "2.0.0",
      "model_name": "HTMLModel",
      "state": {
       "_dom_classes": [],
       "_model_module": "@jupyter-widgets/controls",
       "_model_module_version": "2.0.0",
       "_model_name": "HTMLModel",
       "_view_count": null,
       "_view_module": "@jupyter-widgets/controls",
       "_view_module_version": "2.0.0",
       "_view_name": "HTMLView",
       "description": "",
       "description_allow_html": false,
       "layout": "IPY_MODEL_4b387be661a7415982825dc31e7d7a16",
       "placeholder": "​",
       "style": "IPY_MODEL_d254725a0f114a13bb51ebf83e6ef72e",
       "tabbable": null,
       "tooltip": null,
       "value": "<h4>Closed PRs for repo: <a href=\"https://github.com/jupyterlab/jupyterlab-git\">jupyterlab/jupyterlab-git</a></h4>\n<h5></h5>\n<ul>\n<li><a href=\"https://github.com/jupyterlab/jupyterlab-git/issues/1395\">(#1395)</a>: <em>Bump serialize-javascript from 6.0.1 to 6.0.2</em> by <strong><a href=\"https://github.com/dependabot[bot]\">@dependabot[bot]</a></strong> merged by <strong><a href=\"https://github.com/fcollonval\">@fcollonval</a></strong></li>\n<li><a href=\"https://github.com/jupyterlab/jupyterlab-git/issues/1396\">(#1396)</a>: <em>Bump vega from 5.23.0 to 5.31.0 in /ui-tests</em> by <strong><a href=\"https://github.com/dependabot[bot]\">@dependabot[bot]</a></strong> merged by <strong><a href=\"https://github.com/fcollonval\">@fcollonval</a></strong></li>\n<li><a href=\"https://github.com/jupyterlab/jupyterlab-git/issues/1398\">(#1398)</a>: <em>Create devcontainer.json</em> by <strong><a href=\"https://github.com/Kcato1\">@Kcato1</a></strong> merged by <strong><a href=\"https://github.com/krassowski\">@krassowski</a></strong></li>\n<li><a href=\"https://github.com/jupyterlab/jupyterlab-git/issues/1399\">(#1399)</a>: <em>Bump vega from 5.31.0 to 5.33.0 in /ui-tests</em> by <strong><a href=\"https://github.com/dependabot[bot]\">@dependabot[bot]</a></strong> merged by <strong><a href=\"https://github.com/krassowski\">@krassowski</a></strong></li>\n</ul>"
      }
     },
     "5c4b1c471707438581a7e2ca835ed0e8": {
      "model_module": "@jupyter-widgets/controls",
      "model_module_version": "2.0.0",
      "model_name": "HTMLStyleModel",
      "state": {
       "_model_module": "@jupyter-widgets/controls",
       "_model_module_version": "2.0.0",
       "_model_name": "HTMLStyleModel",
       "_view_count": null,
       "_view_module": "@jupyter-widgets/base",
       "_view_module_version": "2.0.0",
       "_view_name": "StyleView",
       "background": null,
       "description_width": "",
       "font_size": null,
       "text_color": null
      }
     },
     "5e6d95dd08cc4d2896b8e1d9249e2c77": {
      "model_module": "@jupyter-widgets/base",
      "model_module_version": "2.0.0",
      "model_name": "LayoutModel",
      "state": {
       "_model_module": "@jupyter-widgets/base",
       "_model_module_version": "2.0.0",
       "_model_name": "LayoutModel",
       "_view_count": null,
       "_view_module": "@jupyter-widgets/base",
       "_view_module_version": "2.0.0",
       "_view_name": "LayoutView",
       "align_content": null,
       "align_items": null,
       "align_self": null,
       "border_bottom": null,
       "border_left": null,
       "border_right": null,
       "border_top": null,
       "bottom": null,
       "display": null,
       "flex": null,
       "flex_flow": null,
       "grid_area": null,
       "grid_auto_columns": null,
       "grid_auto_flow": null,
       "grid_auto_rows": null,
       "grid_column": null,
       "grid_gap": null,
       "grid_row": null,
       "grid_template_areas": null,
       "grid_template_columns": null,
       "grid_template_rows": null,
       "height": null,
       "justify_content": null,
       "justify_items": null,
       "left": null,
       "margin": null,
       "max_height": null,
       "max_width": null,
       "min_height": null,
       "min_width": null,
       "object_fit": null,
       "object_position": null,
       "order": null,
       "overflow": null,
       "padding": null,
       "right": null,
       "top": null,
       "visibility": null,
       "width": null
      }
     },
     "6f25f2ff99304948b23b7580c465d5de": {
      "model_module": "@jupyter-widgets/controls",
      "model_module_version": "2.0.0",
      "model_name": "HTMLStyleModel",
      "state": {
       "_model_module": "@jupyter-widgets/controls",
       "_model_module_version": "2.0.0",
       "_model_name": "HTMLStyleModel",
       "_view_count": null,
       "_view_module": "@jupyter-widgets/base",
       "_view_module_version": "2.0.0",
       "_view_name": "StyleView",
       "background": null,
       "description_width": "",
       "font_size": null,
       "text_color": null
      }
     },
     "7caf2293508c44b0b7c443df75230901": {
      "model_module": "@jupyter-widgets/controls",
      "model_module_version": "2.0.0",
      "model_name": "HTMLStyleModel",
      "state": {
       "_model_module": "@jupyter-widgets/controls",
       "_model_module_version": "2.0.0",
       "_model_name": "HTMLStyleModel",
       "_view_count": null,
       "_view_module": "@jupyter-widgets/base",
       "_view_module_version": "2.0.0",
       "_view_name": "StyleView",
       "background": null,
       "description_width": "",
       "font_size": null,
       "text_color": null
      }
     },
     "83bbddd5dffa45b58108cb4cbf746d09": {
      "model_module": "@jupyter-widgets/controls",
      "model_module_version": "2.0.0",
      "model_name": "HTMLModel",
      "state": {
       "_dom_classes": [],
       "_model_module": "@jupyter-widgets/controls",
       "_model_module_version": "2.0.0",
       "_model_name": "HTMLModel",
       "_view_count": null,
       "_view_module": "@jupyter-widgets/controls",
       "_view_module_version": "2.0.0",
       "_view_name": "HTMLView",
       "description": "",
       "description_allow_html": false,
       "layout": "IPY_MODEL_4b46fe5d046b4cf49677268b7e0c6650",
       "placeholder": "​",
       "style": "IPY_MODEL_bc829a5798f94288bc4e1298d356f703",
       "tabbable": null,
       "tooltip": null,
       "value": "<h5><a href=\"https://github.com/jupyterlab/jupyterlab-git\">jupyterlab/jupyterlab-git</a></h5>\n<ul>\n<li><a href=\"https://github.com/jupyterlab/jupyterlab-git/issues/1342\">(#1342)</a>: <em>Cloning from new host via ssh causes spurious error rather than prompting for confirmation and succeeding</em> by <strong><a href=\"https://github.com/ctcjab\">@ctcjab</a></strong></li>\n<li><a href=\"https://github.com/jupyterlab/jupyterlab-git/issues/1355\">(#1355)</a>: <em>Handle multiple repos and/or git modules</em> by <strong><a href=\"https://github.com/jtpio\">@jtpio</a></strong></li>\n</ul>"
      }
     },
     "83fb4d05ecb442f8b8fe181e4e01c4da": {
      "model_module": "@jupyter-widgets/base",
      "model_module_version": "2.0.0",
      "model_name": "LayoutModel",
      "state": {
       "_model_module": "@jupyter-widgets/base",
       "_model_module_version": "2.0.0",
       "_model_name": "LayoutModel",
       "_view_count": null,
       "_view_module": "@jupyter-widgets/base",
       "_view_module_version": "2.0.0",
       "_view_name": "LayoutView",
       "align_content": null,
       "align_items": null,
       "align_self": null,
       "border_bottom": null,
       "border_left": null,
       "border_right": null,
       "border_top": null,
       "bottom": null,
       "display": null,
       "flex": null,
       "flex_flow": null,
       "grid_area": null,
       "grid_auto_columns": null,
       "grid_auto_flow": null,
       "grid_auto_rows": null,
       "grid_column": null,
       "grid_gap": null,
       "grid_row": null,
       "grid_template_areas": null,
       "grid_template_columns": null,
       "grid_template_rows": null,
       "height": null,
       "justify_content": null,
       "justify_items": null,
       "left": null,
       "margin": null,
       "max_height": null,
       "max_width": null,
       "min_height": null,
       "min_width": null,
       "object_fit": null,
       "object_position": null,
       "order": null,
       "overflow": null,
       "padding": null,
       "right": null,
       "top": null,
       "visibility": null,
       "width": null
      }
     },
     "8bdf7942705e4f8f80fea7fa0fc3b036": {
      "model_module": "@jupyter-widgets/controls",
      "model_module_version": "2.0.0",
      "model_name": "HTMLModel",
      "state": {
       "_dom_classes": [],
       "_model_module": "@jupyter-widgets/controls",
       "_model_module_version": "2.0.0",
       "_model_name": "HTMLModel",
       "_view_count": null,
       "_view_module": "@jupyter-widgets/controls",
       "_view_module_version": "2.0.0",
       "_view_name": "HTMLView",
       "description": "",
       "description_allow_html": false,
       "layout": "IPY_MODEL_cc93a8e17a8e4584bd25fbd60b67bd8b",
       "placeholder": "​",
       "style": "IPY_MODEL_4c687ec20fab46d0898278e75c41a6e0",
       "tabbable": null,
       "tooltip": null,
       "value": "<h5><a href=\"https://github.com/jupyterlab/jupyterlab-demo\">jupyterlab/jupyterlab-demo</a></h5>\n<ul>\n<li><a href=\"https://github.com/jupyterlab/jupyterlab-demo/issues/145\">(#145)</a>: <em>Broken demo on Binder</em> by <strong><a href=\"https://github.com/jtpio\">@jtpio</a></strong></li>\n</ul>"
      }
     },
     "a224e91fb32a450cb50531be02f697d3": {
      "model_module": "@jupyter-widgets/controls",
      "model_module_version": "2.0.0",
      "model_name": "HTMLStyleModel",
      "state": {
       "_model_module": "@jupyter-widgets/controls",
       "_model_module_version": "2.0.0",
       "_model_name": "HTMLStyleModel",
       "_view_count": null,
       "_view_module": "@jupyter-widgets/base",
       "_view_module_version": "2.0.0",
       "_view_name": "StyleView",
       "background": null,
       "description_width": "",
       "font_size": null,
       "text_color": null
      }
     },
     "a87e93147fce40af87fb10377b03d4a7": {
      "model_module": "@jupyter-widgets/controls",
      "model_module_version": "2.0.0",
      "model_name": "HTMLModel",
      "state": {
       "_dom_classes": [],
       "_model_module": "@jupyter-widgets/controls",
       "_model_module_version": "2.0.0",
       "_model_name": "HTMLModel",
       "_view_count": null,
       "_view_module": "@jupyter-widgets/controls",
       "_view_module_version": "2.0.0",
       "_view_name": "HTMLView",
       "description": "",
       "description_allow_html": false,
       "layout": "IPY_MODEL_3dfa44c982844cbd953e9d96128129d1",
       "placeholder": "​",
       "style": "IPY_MODEL_5c4b1c471707438581a7e2ca835ed0e8",
       "tabbable": null,
       "tooltip": null,
       "value": "<h4>Closed PRs for repo: <a href=\"https://github.com/jupyterlab/jupyterlab-desktop\">jupyterlab/jupyterlab-desktop</a></h4>\n<h5></h5>\n<ul>\n<li><a href=\"https://github.com/jupyterlab/jupyterlab-desktop/issues/889\">(#889)</a>: <em>Create DataScienceEcoystem</em> by <strong><a href=\"https://github.com/Guillermovasco\">@Guillermovasco</a></strong> merged by <strong><a href=\"https://github.com/krassowski\">@krassowski</a></strong></li>\n</ul>"
      }
     },
     "bc829a5798f94288bc4e1298d356f703": {
      "model_module": "@jupyter-widgets/controls",
      "model_module_version": "2.0.0",
      "model_name": "HTMLStyleModel",
      "state": {
       "_model_module": "@jupyter-widgets/controls",
       "_model_module_version": "2.0.0",
       "_model_name": "HTMLStyleModel",
       "_view_count": null,
       "_view_module": "@jupyter-widgets/base",
       "_view_module_version": "2.0.0",
       "_view_name": "StyleView",
       "background": null,
       "description_width": "",
       "font_size": null,
       "text_color": null
      }
     },
     "c12753623f844f138e6521b3d19e9ea4": {
      "model_module": "@jupyter-widgets/base",
      "model_module_version": "2.0.0",
      "model_name": "LayoutModel",
      "state": {
       "_model_module": "@jupyter-widgets/base",
       "_model_module_version": "2.0.0",
       "_model_name": "LayoutModel",
       "_view_count": null,
       "_view_module": "@jupyter-widgets/base",
       "_view_module_version": "2.0.0",
       "_view_name": "LayoutView",
       "align_content": null,
       "align_items": null,
       "align_self": null,
       "border_bottom": null,
       "border_left": null,
       "border_right": null,
       "border_top": null,
       "bottom": null,
       "display": null,
       "flex": null,
       "flex_flow": null,
       "grid_area": null,
       "grid_auto_columns": null,
       "grid_auto_flow": null,
       "grid_auto_rows": null,
       "grid_column": null,
       "grid_gap": null,
       "grid_row": null,
       "grid_template_areas": null,
       "grid_template_columns": null,
       "grid_template_rows": null,
       "height": null,
       "justify_content": null,
       "justify_items": null,
       "left": null,
       "margin": null,
       "max_height": null,
       "max_width": null,
       "min_height": null,
       "min_width": null,
       "object_fit": null,
       "object_position": null,
       "order": null,
       "overflow": null,
       "padding": null,
       "right": null,
       "top": null,
       "visibility": null,
       "width": null
      }
     },
     "c45cd52d785144f9ae5c2707dce4b0c4": {
      "model_module": "@jupyter-widgets/controls",
      "model_module_version": "2.0.0",
      "model_name": "HTMLModel",
      "state": {
       "_dom_classes": [],
       "_model_module": "@jupyter-widgets/controls",
       "_model_module_version": "2.0.0",
       "_model_name": "HTMLModel",
       "_view_count": null,
       "_view_module": "@jupyter-widgets/controls",
       "_view_module_version": "2.0.0",
       "_view_name": "HTMLView",
       "description": "",
       "description_allow_html": false,
       "layout": "IPY_MODEL_3ed39650edb94e14b180d0c1ea9e06bc",
       "placeholder": "​",
       "style": "IPY_MODEL_331df95c4906401f85aa8a63d9a417d2",
       "tabbable": null,
       "tooltip": null,
       "value": "<h4>Closed PRs for repo: <a href=\"https://github.com/jupyterlab/jupyterlab_server\">jupyterlab/jupyterlab_server</a></h4>\n<h5></h5>\n<ul>\n<li><a href=\"https://github.com/jupyterlab/jupyterlab_server/issues/465\">(#465)</a>: <em>Fixed import issue for _camelCase in handlers.py</em> by <strong><a href=\"https://github.com/SHRISHTISHUKLA-0\">@SHRISHTISHUKLA-0</a></strong> merged by <strong><a href=\"https://github.com/krassowski\">@krassowski</a></strong></li>\n<li><a href=\"https://github.com/jupyterlab/jupyterlab_server/issues/466\">(#466)</a>: <em>Fix- resolved pr issues and improved jupyterlab server handlers</em> by <strong><a href=\"https://github.com/SHRISHTISHUKLA-0\">@SHRISHTISHUKLA-0</a></strong> merged by <strong><a href=\"https://github.com/krassowski\">@krassowski</a></strong></li>\n<li><a href=\"https://github.com/jupyterlab/jupyterlab_server/issues/467\">(#467)</a>: <em>Align default language</em> by <strong><a href=\"https://github.com/fcollonval\">@fcollonval</a></strong> merged by <strong><a href=\"https://github.com/fcollonval\">@fcollonval</a></strong></li>\n</ul>"
      }
     },
     "c4857ee57cbf40d4a42fcccab91d224e": {
      "model_module": "@jupyter-widgets/controls",
      "model_module_version": "2.0.0",
      "model_name": "HTMLModel",
      "state": {
       "_dom_classes": [],
       "_model_module": "@jupyter-widgets/controls",
       "_model_module_version": "2.0.0",
       "_model_name": "HTMLModel",
       "_view_count": null,
       "_view_module": "@jupyter-widgets/controls",
       "_view_module_version": "2.0.0",
       "_view_name": "HTMLView",
       "description": "",
       "description_allow_html": false,
       "layout": "IPY_MODEL_c8d26767f61c461c84e56405995863c3",
       "placeholder": "​",
       "style": "IPY_MODEL_f1fd479cd002434291a08fe9a7584786",
       "tabbable": null,
       "tooltip": null,
       "value": "<h5><a href=\"https://github.com/jupyterlab/jupyterlab-latex\">jupyterlab/jupyterlab-latex</a></h5>\n<ul>\n<li><a href=\"https://github.com/jupyterlab/jupyterlab-latex/issues/249\">(#249)</a>: <em>MY ENTIRE HOME DIRECTORY WAS OBLITERATED BECAUSE OF THIS EXTENSION!! UNBELIEVABLE!!!</em> by <strong><a href=\"https://github.com/dogganon\">@dogganon</a></strong></li>\n<li><a href=\"https://github.com/jupyterlab/jupyterlab-latex/issues/153\">(#153)</a>: <em>Suggestion: tab replace commands with unicode math symbols</em> by <strong><a href=\"https://github.com/gjvnq\">@gjvnq</a></strong></li>\n</ul>"
      }
     },
     "c8d26767f61c461c84e56405995863c3": {
      "model_module": "@jupyter-widgets/base",
      "model_module_version": "2.0.0",
      "model_name": "LayoutModel",
      "state": {
       "_model_module": "@jupyter-widgets/base",
       "_model_module_version": "2.0.0",
       "_model_name": "LayoutModel",
       "_view_count": null,
       "_view_module": "@jupyter-widgets/base",
       "_view_module_version": "2.0.0",
       "_view_name": "LayoutView",
       "align_content": null,
       "align_items": null,
       "align_self": null,
       "border_bottom": null,
       "border_left": null,
       "border_right": null,
       "border_top": null,
       "bottom": null,
       "display": null,
       "flex": null,
       "flex_flow": null,
       "grid_area": null,
       "grid_auto_columns": null,
       "grid_auto_flow": null,
       "grid_auto_rows": null,
       "grid_column": null,
       "grid_gap": null,
       "grid_row": null,
       "grid_template_areas": null,
       "grid_template_columns": null,
       "grid_template_rows": null,
       "height": null,
       "justify_content": null,
       "justify_items": null,
       "left": null,
       "margin": null,
       "max_height": null,
       "max_width": null,
       "min_height": null,
       "min_width": null,
       "object_fit": null,
       "object_position": null,
       "order": null,
       "overflow": null,
       "padding": null,
       "right": null,
       "top": null,
       "visibility": null,
       "width": null
      }
     },
     "ca91711514b34ee08e3b6134ee0c1341": {
      "model_module": "@jupyter-widgets/base",
      "model_module_version": "2.0.0",
      "model_name": "LayoutModel",
      "state": {
       "_model_module": "@jupyter-widgets/base",
       "_model_module_version": "2.0.0",
       "_model_name": "LayoutModel",
       "_view_count": null,
       "_view_module": "@jupyter-widgets/base",
       "_view_module_version": "2.0.0",
       "_view_name": "LayoutView",
       "align_content": null,
       "align_items": null,
       "align_self": null,
       "border_bottom": null,
       "border_left": null,
       "border_right": null,
       "border_top": null,
       "bottom": null,
       "display": null,
       "flex": null,
       "flex_flow": null,
       "grid_area": null,
       "grid_auto_columns": null,
       "grid_auto_flow": null,
       "grid_auto_rows": null,
       "grid_column": null,
       "grid_gap": null,
       "grid_row": null,
       "grid_template_areas": null,
       "grid_template_columns": null,
       "grid_template_rows": null,
       "height": null,
       "justify_content": null,
       "justify_items": null,
       "left": null,
       "margin": null,
       "max_height": null,
       "max_width": null,
       "min_height": null,
       "min_width": null,
       "object_fit": null,
       "object_position": null,
       "order": null,
       "overflow": null,
       "padding": null,
       "right": null,
       "top": null,
       "visibility": null,
       "width": null
      }
     },
     "cc93a8e17a8e4584bd25fbd60b67bd8b": {
      "model_module": "@jupyter-widgets/base",
      "model_module_version": "2.0.0",
      "model_name": "LayoutModel",
      "state": {
       "_model_module": "@jupyter-widgets/base",
       "_model_module_version": "2.0.0",
       "_model_name": "LayoutModel",
       "_view_count": null,
       "_view_module": "@jupyter-widgets/base",
       "_view_module_version": "2.0.0",
       "_view_name": "LayoutView",
       "align_content": null,
       "align_items": null,
       "align_self": null,
       "border_bottom": null,
       "border_left": null,
       "border_right": null,
       "border_top": null,
       "bottom": null,
       "display": null,
       "flex": null,
       "flex_flow": null,
       "grid_area": null,
       "grid_auto_columns": null,
       "grid_auto_flow": null,
       "grid_auto_rows": null,
       "grid_column": null,
       "grid_gap": null,
       "grid_row": null,
       "grid_template_areas": null,
       "grid_template_columns": null,
       "grid_template_rows": null,
       "height": null,
       "justify_content": null,
       "justify_items": null,
       "left": null,
       "margin": null,
       "max_height": null,
       "max_width": null,
       "min_height": null,
       "min_width": null,
       "object_fit": null,
       "object_position": null,
       "order": null,
       "overflow": null,
       "padding": null,
       "right": null,
       "top": null,
       "visibility": null,
       "width": null
      }
     },
     "d254725a0f114a13bb51ebf83e6ef72e": {
      "model_module": "@jupyter-widgets/controls",
      "model_module_version": "2.0.0",
      "model_name": "HTMLStyleModel",
      "state": {
       "_model_module": "@jupyter-widgets/controls",
       "_model_module_version": "2.0.0",
       "_model_name": "HTMLStyleModel",
       "_view_count": null,
       "_view_module": "@jupyter-widgets/base",
       "_view_module_version": "2.0.0",
       "_view_name": "StyleView",
       "background": null,
       "description_width": "",
       "font_size": null,
       "text_color": null
      }
     },
     "d34151a1d1974e9a95f1e19d66640cd4": {
      "model_module": "@jupyter-widgets/controls",
      "model_module_version": "2.0.0",
      "model_name": "HTMLModel",
      "state": {
       "_dom_classes": [],
       "_model_module": "@jupyter-widgets/controls",
       "_model_module_version": "2.0.0",
       "_model_name": "HTMLModel",
       "_view_count": null,
       "_view_module": "@jupyter-widgets/controls",
       "_view_module_version": "2.0.0",
       "_view_name": "HTMLView",
       "description": "",
       "description_allow_html": false,
       "layout": "IPY_MODEL_5e6d95dd08cc4d2896b8e1d9249e2c77",
       "placeholder": "​",
       "style": "IPY_MODEL_15000ef9f94743f599fa2f6c9178f254",
       "tabbable": null,
       "tooltip": null,
       "value": "<h5><a href=\"https://github.com/jupyterlab/jupyterlab-latex\">jupyterlab/jupyterlab-latex</a></h5>\n<ul>\n<li><a href=\"https://github.com/jupyterlab/jupyterlab-latex/issues/249\">(#249)</a>: <em>MY ENTIRE HOME DIRECTORY WAS OBLITERATED BECAUSE OF THIS EXTENSION!! UNBELIEVABLE!!!</em> by <strong><a href=\"https://github.com/dogganon\">@dogganon</a></strong></li>\n<li><a href=\"https://github.com/jupyterlab/jupyterlab-latex/issues/153\">(#153)</a>: <em>Suggestion: tab replace commands with unicode math symbols</em> by <strong><a href=\"https://github.com/gjvnq\">@gjvnq</a></strong></li>\n</ul>"
      }
     },
     "e2c266cd6825433680a14e1cc9b8dfdd": {
      "model_module": "@jupyter-widgets/controls",
      "model_module_version": "2.0.0",
      "model_name": "HTMLStyleModel",
      "state": {
       "_model_module": "@jupyter-widgets/controls",
       "_model_module_version": "2.0.0",
       "_model_name": "HTMLStyleModel",
       "_view_count": null,
       "_view_module": "@jupyter-widgets/base",
       "_view_module_version": "2.0.0",
       "_view_name": "StyleView",
       "background": null,
       "description_width": "",
       "font_size": null,
       "text_color": null
      }
     },
     "e3f0dd201968439d954d95cfd0ef82be": {
      "model_module": "@jupyter-widgets/controls",
      "model_module_version": "2.0.0",
      "model_name": "HTMLStyleModel",
      "state": {
       "_model_module": "@jupyter-widgets/controls",
       "_model_module_version": "2.0.0",
       "_model_name": "HTMLStyleModel",
       "_view_count": null,
       "_view_module": "@jupyter-widgets/base",
       "_view_module_version": "2.0.0",
       "_view_name": "StyleView",
       "background": null,
       "description_width": "",
       "font_size": null,
       "text_color": null
      }
     },
     "e569d4cc477646c98bb44924f8b172b7": {
      "model_module": "@jupyter-widgets/base",
      "model_module_version": "2.0.0",
      "model_name": "LayoutModel",
      "state": {
       "_model_module": "@jupyter-widgets/base",
       "_model_module_version": "2.0.0",
       "_model_name": "LayoutModel",
       "_view_count": null,
       "_view_module": "@jupyter-widgets/base",
       "_view_module_version": "2.0.0",
       "_view_name": "LayoutView",
       "align_content": null,
       "align_items": null,
       "align_self": null,
       "border_bottom": null,
       "border_left": null,
       "border_right": null,
       "border_top": null,
       "bottom": null,
       "display": null,
       "flex": null,
       "flex_flow": null,
       "grid_area": null,
       "grid_auto_columns": null,
       "grid_auto_flow": null,
       "grid_auto_rows": null,
       "grid_column": null,
       "grid_gap": null,
       "grid_row": null,
       "grid_template_areas": null,
       "grid_template_columns": null,
       "grid_template_rows": null,
       "height": null,
       "justify_content": null,
       "justify_items": null,
       "left": null,
       "margin": null,
       "max_height": null,
       "max_width": null,
       "min_height": null,
       "min_width": null,
       "object_fit": null,
       "object_position": null,
       "order": null,
       "overflow": null,
       "padding": null,
       "right": null,
       "top": null,
       "visibility": null,
       "width": null
      }
     },
     "ec434425ca674d9b8b813c1464fdcde3": {
      "model_module": "@jupyter-widgets/controls",
      "model_module_version": "2.0.0",
      "model_name": "HTMLModel",
      "state": {
       "_dom_classes": [],
       "_model_module": "@jupyter-widgets/controls",
       "_model_module_version": "2.0.0",
       "_model_name": "HTMLModel",
       "_view_count": null,
       "_view_module": "@jupyter-widgets/controls",
       "_view_module_version": "2.0.0",
       "_view_name": "HTMLView",
       "description": "",
       "description_allow_html": false,
       "layout": "IPY_MODEL_c12753623f844f138e6521b3d19e9ea4",
       "placeholder": "​",
       "style": "IPY_MODEL_405a5b488ba64e2b98a99994a3fc829d",
       "tabbable": null,
       "tooltip": null,
       "value": "<h4>Closed PRs for repo: <a href=\"https://github.com/jupyterlab/jupyter-renderers\">jupyterlab/jupyter-renderers</a></h4>\n<h5></h5>\n<ul>\n<li><a href=\"https://github.com/jupyterlab/jupyter-renderers/issues/326\">(#326)</a>: <em>Bump serialize-javascript from 6.0.1 to 6.0.2</em> by <strong><a href=\"https://github.com/dependabot[bot]\">@dependabot[bot]</a></strong> merged by <strong><a href=\"https://github.com/fcollonval\">@fcollonval</a></strong></li>\n</ul>"
      }
     },
     "ec4a78a5f6744233ad2a4f8d43bfa221": {
      "model_module": "@jupyter-widgets/base",
      "model_module_version": "2.0.0",
      "model_name": "LayoutModel",
      "state": {
       "_model_module": "@jupyter-widgets/base",
       "_model_module_version": "2.0.0",
       "_model_name": "LayoutModel",
       "_view_count": null,
       "_view_module": "@jupyter-widgets/base",
       "_view_module_version": "2.0.0",
       "_view_name": "LayoutView",
       "align_content": null,
       "align_items": null,
       "align_self": null,
       "border_bottom": null,
       "border_left": null,
       "border_right": null,
       "border_top": null,
       "bottom": null,
       "display": null,
       "flex": null,
       "flex_flow": null,
       "grid_area": null,
       "grid_auto_columns": null,
       "grid_auto_flow": null,
       "grid_auto_rows": null,
       "grid_column": null,
       "grid_gap": null,
       "grid_row": null,
       "grid_template_areas": null,
       "grid_template_columns": null,
       "grid_template_rows": null,
       "height": null,
       "justify_content": null,
       "justify_items": null,
       "left": null,
       "margin": null,
       "max_height": null,
       "max_width": null,
       "min_height": null,
       "min_width": null,
       "object_fit": null,
       "object_position": null,
       "order": null,
       "overflow": null,
       "padding": null,
       "right": null,
       "top": null,
       "visibility": null,
       "width": null
      }
     },
     "ef8729a0e07a45958b0930dfd40cb586": {
      "model_module": "@jupyter-widgets/controls",
      "model_module_version": "2.0.0",
      "model_name": "TabModel",
      "state": {
       "_dom_classes": [],
       "_model_module": "@jupyter-widgets/controls",
       "_model_module_version": "2.0.0",
       "_model_name": "TabModel",
       "_view_count": null,
       "_view_module": "@jupyter-widgets/controls",
       "_view_module_version": "2.0.0",
       "_view_name": "TabView",
       "box_style": "",
       "children": [
        "IPY_MODEL_1ef24cd6fe8b4734b9cec6f757d33a54",
        "IPY_MODEL_f3c66147735e4ad59526fb648a7eeb99",
        "IPY_MODEL_280fbb477bfe42e889d50c9f99b06d0b",
        "IPY_MODEL_d34151a1d1974e9a95f1e19d66640cd4"
       ],
       "layout": "IPY_MODEL_ec4a78a5f6744233ad2a4f8d43bfa221",
       "selected_index": 0,
       "tabbable": null,
       "titles": [
        "jupyterlab-demo",
        "jupyterlab-desktop",
        "jupyterlab-git",
        "jupyterlab-latex"
       ],
       "tooltip": null
      }
     },
     "f1fd479cd002434291a08fe9a7584786": {
      "model_module": "@jupyter-widgets/controls",
      "model_module_version": "2.0.0",
      "model_name": "HTMLStyleModel",
      "state": {
       "_model_module": "@jupyter-widgets/controls",
       "_model_module_version": "2.0.0",
       "_model_name": "HTMLStyleModel",
       "_view_count": null,
       "_view_module": "@jupyter-widgets/base",
       "_view_module_version": "2.0.0",
       "_view_name": "StyleView",
       "background": null,
       "description_width": "",
       "font_size": null,
       "text_color": null
      }
     },
     "f3281e8765e84804afc4a1c1d6bc9fcf": {
      "model_module": "@jupyter-widgets/controls",
      "model_module_version": "2.0.0",
      "model_name": "TabModel",
      "state": {
       "_dom_classes": [],
       "_model_module": "@jupyter-widgets/controls",
       "_model_module_version": "2.0.0",
       "_model_name": "TabModel",
       "_view_count": null,
       "_view_module": "@jupyter-widgets/controls",
       "_view_module_version": "2.0.0",
       "_view_name": "TabView",
       "box_style": "",
       "children": [
        "IPY_MODEL_ec434425ca674d9b8b813c1464fdcde3",
        "IPY_MODEL_04f78357cd4c49239f4c1938e07f6604",
        "IPY_MODEL_fb095759f07643ec94b5b1909e70c5c7",
        "IPY_MODEL_a87e93147fce40af87fb10377b03d4a7",
        "IPY_MODEL_51ff568647c044039edb19e243531271",
        "IPY_MODEL_c45cd52d785144f9ae5c2707dce4b0c4"
       ],
       "layout": "IPY_MODEL_e569d4cc477646c98bb44924f8b172b7",
       "selected_index": 0,
       "tabbable": null,
       "titles": [
        "jupyter-renderers",
        "jupyterlab",
        "jupyterlab-demo",
        "jupyterlab-desktop",
        "jupyterlab-git",
        "jupyterlab_server"
       ],
       "tooltip": null
      }
     },
     "f3c66147735e4ad59526fb648a7eeb99": {
      "model_module": "@jupyter-widgets/controls",
      "model_module_version": "2.0.0",
      "model_name": "HTMLModel",
      "state": {
       "_dom_classes": [],
       "_model_module": "@jupyter-widgets/controls",
       "_model_module_version": "2.0.0",
       "_model_name": "HTMLModel",
       "_view_count": null,
       "_view_module": "@jupyter-widgets/controls",
       "_view_module_version": "2.0.0",
       "_view_name": "HTMLView",
       "description": "",
       "description_allow_html": false,
       "layout": "IPY_MODEL_83fb4d05ecb442f8b8fe181e4e01c4da",
       "placeholder": "​",
       "style": "IPY_MODEL_10b00cf0afb94b929a468f0f9a96ecfe",
       "tabbable": null,
       "tooltip": null,
       "value": "<h5><a href=\"https://github.com/jupyterlab/jupyterlab-desktop\">jupyterlab/jupyterlab-desktop</a></h5>\n<ul>\n<li><a href=\"https://github.com/jupyterlab/jupyterlab-desktop/issues/890\">(#890)</a>: <em>Should we archive this project?</em> by <strong><a href=\"https://github.com/krassowski\">@krassowski</a></strong></li>\n<li><a href=\"https://github.com/jupyterlab/jupyterlab-desktop/issues/888\">(#888)</a>: <em>[macOS] App CLI is not executable Error: EACCES: permission denied</em> by <strong><a href=\"https://github.com/lewisl\">@lewisl</a></strong></li>\n<li><a href=\"https://github.com/jupyterlab/jupyterlab-desktop/issues/885\">(#885)</a>: <em>bug when commenting out code ( see vid )</em> by <strong><a href=\"https://github.com/mreisbeck2\">@mreisbeck2</a></strong></li>\n<li><a href=\"https://github.com/jupyterlab/jupyterlab-desktop/issues/891\">(#891)</a>: <em>Improve documentation for running alternative kernels</em> by <strong><a href=\"https://github.com/Ahri-man\">@Ahri-man</a></strong></li>\n<li><a href=\"https://github.com/jupyterlab/jupyterlab-desktop/issues/892\">(#892)</a>: <em>installation issue macOS(arm64)</em> by <strong><a href=\"https://github.com/shmIuser44\">@shmIuser44</a></strong></li>\n</ul>"
      }
     },
     "f7fa36fefd7e4aa8bef58d6b9c45892d": {
      "model_module": "@jupyter-widgets/controls",
      "model_module_version": "2.0.0",
      "model_name": "HTMLStyleModel",
      "state": {
       "_model_module": "@jupyter-widgets/controls",
       "_model_module_version": "2.0.0",
       "_model_name": "HTMLStyleModel",
       "_view_count": null,
       "_view_module": "@jupyter-widgets/base",
       "_view_module_version": "2.0.0",
       "_view_name": "StyleView",
       "background": null,
       "description_width": "",
       "font_size": null,
       "text_color": null
      }
     },
     "f923080187c64b9ca51cb27ce7329eb4": {
      "model_module": "@jupyter-widgets/controls",
      "model_module_version": "2.0.0",
      "model_name": "HTMLModel",
      "state": {
       "_dom_classes": [],
       "_model_module": "@jupyter-widgets/controls",
       "_model_module_version": "2.0.0",
       "_model_name": "HTMLModel",
       "_view_count": null,
       "_view_module": "@jupyter-widgets/controls",
       "_view_module_version": "2.0.0",
       "_view_name": "HTMLView",
       "description": "",
       "description_allow_html": false,
       "layout": "IPY_MODEL_49345e2c2ba64798abada488d23d88fe",
       "placeholder": "​",
       "style": "IPY_MODEL_7caf2293508c44b0b7c443df75230901",
       "tabbable": null,
       "tooltip": null,
       "value": "<h5><a href=\"https://github.com/jupyterlab/jupyterlab-desktop\">jupyterlab/jupyterlab-desktop</a></h5>\n<ul>\n<li><a href=\"https://github.com/jupyterlab/jupyterlab-desktop/issues/890\">(#890)</a>: <em>Should we archive this project?</em> by <strong><a href=\"https://github.com/krassowski\">@krassowski</a></strong></li>\n<li><a href=\"https://github.com/jupyterlab/jupyterlab-desktop/issues/888\">(#888)</a>: <em>[macOS] App CLI is not executable Error: EACCES: permission denied</em> by <strong><a href=\"https://github.com/lewisl\">@lewisl</a></strong></li>\n<li><a href=\"https://github.com/jupyterlab/jupyterlab-desktop/issues/885\">(#885)</a>: <em>bug when commenting out code ( see vid )</em> by <strong><a href=\"https://github.com/mreisbeck2\">@mreisbeck2</a></strong></li>\n<li><a href=\"https://github.com/jupyterlab/jupyterlab-desktop/issues/891\">(#891)</a>: <em>Improve documentation for running alternative kernels</em> by <strong><a href=\"https://github.com/Ahri-man\">@Ahri-man</a></strong></li>\n<li><a href=\"https://github.com/jupyterlab/jupyterlab-desktop/issues/892\">(#892)</a>: <em>installation issue macOS(arm64)</em> by <strong><a href=\"https://github.com/shmIuser44\">@shmIuser44</a></strong></li>\n</ul>"
      }
     },
     "fb095759f07643ec94b5b1909e70c5c7": {
      "model_module": "@jupyter-widgets/controls",
      "model_module_version": "2.0.0",
      "model_name": "HTMLModel",
      "state": {
       "_dom_classes": [],
       "_model_module": "@jupyter-widgets/controls",
       "_model_module_version": "2.0.0",
       "_model_name": "HTMLModel",
       "_view_count": null,
       "_view_module": "@jupyter-widgets/controls",
       "_view_module_version": "2.0.0",
       "_view_name": "HTMLView",
       "description": "",
       "description_allow_html": false,
       "layout": "IPY_MODEL_198f76b22413428ab9a1081c1f1f2268",
       "placeholder": "​",
       "style": "IPY_MODEL_a224e91fb32a450cb50531be02f697d3",
       "tabbable": null,
       "tooltip": null,
       "value": "<h4>Closed PRs for repo: <a href=\"https://github.com/jupyterlab/jupyterlab-demo\">jupyterlab/jupyterlab-demo</a></h4>\n<h5></h5>\n<ul>\n<li><a href=\"https://github.com/jupyterlab/jupyterlab-demo/issues/139\">(#139)</a>: <em>Switch to <code>mamba-org/setup-micromamba</code></em> by <strong><a href=\"https://github.com/jtpio\">@jtpio</a></strong> merged by <strong><a href=\"https://github.com/krassowski\">@krassowski</a></strong></li>\n<li><a href=\"https://github.com/jupyterlab/jupyterlab-demo/issues/148\">(#148)</a>: <em>Simplify CI, fix mybinder.org build, bump python (and other) versions</em> by <strong><a href=\"https://github.com/yuvipanda\">@yuvipanda</a></strong> merged by <strong><a href=\"https://github.com/krassowski\">@krassowski</a></strong></li>\n</ul>"
      }
     },
     "ff228986dc2841c68fd76e26aa3368a6": {
      "model_module": "@jupyter-widgets/controls",
      "model_module_version": "2.0.0",
      "model_name": "HTMLModel",
      "state": {
       "_dom_classes": [],
       "_model_module": "@jupyter-widgets/controls",
       "_model_module_version": "2.0.0",
       "_model_name": "HTMLModel",
       "_view_count": null,
       "_view_module": "@jupyter-widgets/controls",
       "_view_module_version": "2.0.0",
       "_view_name": "HTMLView",
       "description": "",
       "description_allow_html": false,
       "layout": "IPY_MODEL_4c7d7c9a0e7644ab9e9588edc582cd5a",
       "placeholder": "​",
       "style": "IPY_MODEL_e2c266cd6825433680a14e1cc9b8dfdd",
       "tabbable": null,
       "tooltip": null,
       "value": "<ul>\n<li>(117) Implement variable inspector for kernels - jupyterlab - <a href=\"https://github.com/jupyterlab/jupyterlab/issues/443\">#443</a></li>\n<li>(57) allowing copy/paste in right click menu in notebook - jupyterlab - <a href=\"https://github.com/jupyterlab/jupyterlab/issues/3224\">#3224</a></li>\n<li>(52) Switching to a big notebook in a tab is slow - jupyterlab - <a href=\"https://github.com/jupyterlab/jupyterlab/issues/4292\">#4292</a></li>\n<li>(46) Remove a cell from evaluation queue - jupyterlab - <a href=\"https://github.com/jupyterlab/jupyterlab/issues/7825\">#7825</a></li>\n<li>(45) Is any way to highlight the selected word - jupyterlab - <a href=\"https://github.com/jupyterlab/jupyterlab/issues/6112\">#6112</a></li>\n<li>(34) Add a linter to the editor - jupyterlab - <a href=\"https://github.com/jupyterlab/jupyterlab/issues/1278\">#1278</a></li>\n<li>(33) Syntax highlighting for SQL cell magic - jupyterlab - <a href=\"https://github.com/jupyterlab/jupyterlab/issues/3869\">#3869</a></li>\n<li>(33) Skip H1 headers - jupyterlab-toc - <a href=\"https://github.com/jupyterlab/jupyterlab-toc/issues/66\">#66</a></li>\n<li>(32) Feedback from a Jupyter notebook fanatic comming to Jupyter lab  - jupyterlab - <a href=\"https://github.com/jupyterlab/jupyterlab/issues/2972\">#2972</a></li>\n<li>(32) Open existing Notebook without kernel - jupyterlab - <a href=\"https://github.com/jupyterlab/jupyterlab/issues/4040\">#4040</a></li>\n<li>(30) Adding an option to disable file download on Jupyterlab - jupyterlab - <a href=\"https://github.com/jupyterlab/jupyterlab/issues/5274\">#5274</a></li>\n<li>(30) Feature request:  Emacs keybindings for notebook - jupyterlab - <a href=\"https://github.com/jupyterlab/jupyterlab/issues/3885\">#3885</a></li>\n<li>(30) themes from jupyter-themes - jupyterlab - <a href=\"https://github.com/jupyterlab/jupyterlab/issues/3844\">#3844</a></li>\n<li>(28) WIP/Discussion: Tree view for file browser - jupyterlab - <a href=\"https://github.com/jupyterlab/jupyterlab/issues/5526\">#5526</a></li>\n<li>(28) Show RAM usage of kernels - jupyterlab - <a href=\"https://github.com/jupyterlab/jupyterlab/issues/4012\">#4012</a></li>\n<li>(27) Trailing whitespace in editor - jupyterlab - <a href=\"https://github.com/jupyterlab/jupyterlab/issues/3904\">#3904</a></li>\n<li>(24) JupyterLab vision for the next few years - frontends-team-compass - <a href=\"https://github.com/jupyterlab/frontends-team-compass/issues/80\">#80</a></li>\n<li>(23) Typing single or double quote when text is selected erases the text - jupyterlab - <a href=\"https://github.com/jupyterlab/jupyterlab/issues/9897\">#9897</a></li>\n<li>(23) Open a notebook from JupyterLab terminal - jupyterlab - <a href=\"https://github.com/jupyterlab/jupyterlab/issues/5056\">#5056</a></li>\n<li>(22) Changing Browser Tab Title for JupyterLab - jupyterlab - <a href=\"https://github.com/jupyterlab/jupyterlab/issues/4422\">#4422</a></li>\n<li>(21) Failure to start jupyter lab --- IndexError: pop from an empty deque  - jupyterlab - <a href=\"https://github.com/jupyterlab/jupyterlab/issues/11934\">#11934</a></li>\n<li>(20) Improve user experience in Launcher - jupyterlab - <a href=\"https://github.com/jupyterlab/jupyterlab/issues/3795\">#3795</a></li>\n<li>(20) Code formatter - jupyterlab - <a href=\"https://github.com/jupyterlab/jupyterlab/issues/4521\">#4521</a></li>\n<li>(19) File Save Error: Failed to fetch - jupyterlab - <a href=\"https://github.com/jupyterlab/jupyterlab/issues/3964\">#3964</a></li>\n<li>(19) Inline Whiteboard - jupyterlab - <a href=\"https://github.com/jupyterlab/jupyterlab/issues/9194\">#9194</a></li>\n</ul>"
      }
     }
    },
    "version_major": 2,
    "version_minor": 0
   }
  }
 },
 "nbformat": 4,
 "nbformat_minor": 5
}