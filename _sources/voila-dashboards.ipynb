{
 "cells": [
  {
   "cell_type": "markdown",
   "id": "38bbf9ca",
   "metadata": {
    "papermill": {
     "duration": 0.040207,
     "end_time": "2021-11-06T01:32:50.142153",
     "exception": false,
     "start_time": "2021-11-06T01:32:50.101946",
     "status": "completed"
    },
    "tags": []
   },
   "source": [
    "# {glue:text}`voila-dashboards_github_org`\n",
    "\n",
    "**Activity from {glue:}`voila-dashboards_start` to {glue:}`voila-dashboards_stop`**"
   ]
  },
  {
   "cell_type": "code",
   "execution_count": 1,
   "id": "116623f3",
   "metadata": {
    "execution": {
     "iopub.execute_input": "2021-11-06T01:32:50.227577Z",
     "iopub.status.busy": "2021-11-06T01:32:50.226997Z",
     "iopub.status.idle": "2021-11-06T01:32:51.689605Z",
     "shell.execute_reply": "2021-11-06T01:32:51.688905Z"
    },
    "papermill": {
     "duration": 1.510669,
     "end_time": "2021-11-06T01:32:51.689803",
     "exception": false,
     "start_time": "2021-11-06T01:32:50.179134",
     "status": "completed"
    },
    "tags": [
     "remove_cell"
    ]
   },
   "outputs": [],
   "source": [
    "from datetime import date\n",
    "from dateutil.relativedelta import relativedelta\n",
    "from myst_nb import glue\n",
    "import seaborn as sns\n",
    "import pandas as pd\n",
    "import numpy as np\n",
    "import altair as alt\n",
    "from markdown import markdown\n",
    "from IPython.display import Markdown\n",
    "from ipywidgets.widgets import HTML, Tab\n",
    "from ipywidgets import widgets\n",
    "from datetime import timedelta\n",
    "from matplotlib import pyplot as plt\n",
    "import os.path as op\n",
    "\n",
    "from warnings import simplefilter\n",
    "simplefilter('ignore')"
   ]
  },
  {
   "cell_type": "code",
   "execution_count": 2,
   "id": "d482bc8c",
   "metadata": {
    "execution": {
     "iopub.execute_input": "2021-11-06T01:32:51.768722Z",
     "iopub.status.busy": "2021-11-06T01:32:51.768200Z",
     "iopub.status.idle": "2021-11-06T01:32:51.770006Z",
     "shell.execute_reply": "2021-11-06T01:32:51.769627Z"
    },
    "papermill": {
     "duration": 0.041907,
     "end_time": "2021-11-06T01:32:51.770112",
     "exception": false,
     "start_time": "2021-11-06T01:32:51.728205",
     "status": "completed"
    },
    "tags": [
     "remove_cell"
    ]
   },
   "outputs": [],
   "source": [
    "# Altair config\n",
    "def author_url(author):\n",
    "    return f\"https://github.com/{author}\"\n",
    "\n",
    "def alt_theme():\n",
    "    return {\n",
    "        'config': {\n",
    "            'axisLeft': {\n",
    "                'labelFontSize': 15,\n",
    "            },\n",
    "            'axisBottom': {\n",
    "                'labelFontSize': 15,\n",
    "            },\n",
    "        }\n",
    "    }\n",
    "\n",
    "alt.themes.register('my_theme', alt_theme)\n",
    "alt.themes.enable(\"my_theme\")\n",
    "\n",
    "\n",
    "# Define colors we'll use for GitHub membership\n",
    "author_types = ['MEMBER', 'CONTRIBUTOR', 'COLLABORATOR', \"NONE\"]\n",
    "\n",
    "author_palette = np.array(sns.palettes.blend_palette([\"lightgrey\", \"lightgreen\", \"darkgreen\"], 4)) * 256\n",
    "author_colors = [\"rgb({}, {}, {})\".format(*color) for color in author_palette]\n",
    "author_color_dict = {key: val for key, val in zip(author_types, author_palette)}"
   ]
  },
  {
   "cell_type": "code",
   "execution_count": 3,
   "id": "d71e9f29",
   "metadata": {
    "execution": {
     "iopub.execute_input": "2021-11-06T01:32:51.841048Z",
     "iopub.status.busy": "2021-11-06T01:32:51.840561Z",
     "iopub.status.idle": "2021-11-06T01:32:51.842616Z",
     "shell.execute_reply": "2021-11-06T01:32:51.842018Z"
    },
    "papermill": {
     "duration": 0.040027,
     "end_time": "2021-11-06T01:32:51.842756",
     "exception": false,
     "start_time": "2021-11-06T01:32:51.802729",
     "status": "completed"
    },
    "tags": [
     "parameters",
     "hide_input",
     "remove_cell"
    ]
   },
   "outputs": [],
   "source": [
    "github_org = \"jupyterhub\"\n",
    "top_n_repos = 15\n",
    "n_days = 10"
   ]
  },
  {
   "cell_type": "code",
   "execution_count": 4,
   "id": "0f445f46",
   "metadata": {
    "execution": {
     "iopub.execute_input": "2021-11-06T01:32:51.913189Z",
     "iopub.status.busy": "2021-11-06T01:32:51.912632Z",
     "iopub.status.idle": "2021-11-06T01:32:51.914685Z",
     "shell.execute_reply": "2021-11-06T01:32:51.914294Z"
    },
    "papermill": {
     "duration": 0.039896,
     "end_time": "2021-11-06T01:32:51.914803",
     "exception": false,
     "start_time": "2021-11-06T01:32:51.874907",
     "status": "completed"
    },
    "tags": [
     "injected-parameters",
     "remove-cell"
    ]
   },
   "outputs": [],
   "source": [
    "# Parameters\n",
    "github_org = \"voila-dashboards\"\n",
    "n_days = 90\n"
   ]
  },
  {
   "cell_type": "code",
   "execution_count": 5,
   "id": "ea2ad15f",
   "metadata": {
    "execution": {
     "iopub.execute_input": "2021-11-06T01:32:51.993003Z",
     "iopub.status.busy": "2021-11-06T01:32:51.992499Z",
     "iopub.status.idle": "2021-11-06T01:32:51.997300Z",
     "shell.execute_reply": "2021-11-06T01:32:51.997852Z"
    },
    "papermill": {
     "duration": 0.049272,
     "end_time": "2021-11-06T01:32:51.998027",
     "exception": false,
     "start_time": "2021-11-06T01:32:51.948755",
     "status": "completed"
    },
    "tags": [
     "remove_cell"
    ]
   },
   "outputs": [
    {
     "data": {
      "application/papermill.record/text/plain": "'voila-dashboards'"
     },
     "metadata": {
      "scrapbook": {
       "mime_prefix": "application/papermill.record/",
       "name": "voila-dashboards_github_org"
      }
     },
     "output_type": "display_data"
    },
    {
     "data": {
      "application/papermill.record/text/plain": "'2021-08-08'"
     },
     "metadata": {
      "scrapbook": {
       "mime_prefix": "application/papermill.record/",
       "name": "voila-dashboards_start"
      }
     },
     "output_type": "display_data"
    },
    {
     "data": {
      "application/papermill.record/text/plain": "'2021-11-06'"
     },
     "metadata": {
      "scrapbook": {
       "mime_prefix": "application/papermill.record/",
       "name": "voila-dashboards_stop"
      }
     },
     "output_type": "display_data"
    }
   ],
   "source": [
    "############################################################\n",
    "# Variables\n",
    "stop = date.today()\n",
    "start = date.today() - relativedelta(days=n_days)\n",
    "\n",
    "# Strings for use in queries\n",
    "start_date = f\"{start:%Y-%m-%d}\"\n",
    "stop_date = f\"{stop:%Y-%m-%d}\"\n",
    "\n",
    "# Glue variables for use in markdown\n",
    "glue(f\"{github_org}_github_org\", github_org, display=False)\n",
    "glue(f\"{github_org}_start\", start_date, display=False)\n",
    "glue(f\"{github_org}_stop\", stop_date, display=False)"
   ]
  },
  {
   "cell_type": "markdown",
   "id": "3df53743",
   "metadata": {
    "papermill": {
     "duration": 0.035118,
     "end_time": "2021-11-06T01:32:52.069272",
     "exception": false,
     "start_time": "2021-11-06T01:32:52.034154",
     "status": "completed"
    },
    "tags": []
   },
   "source": [
    "## Load data\n",
    "\n",
    "Load and clean up the data"
   ]
  },
  {
   "cell_type": "code",
   "execution_count": 6,
   "id": "e11c6582",
   "metadata": {
    "execution": {
     "iopub.execute_input": "2021-11-06T01:32:52.142929Z",
     "iopub.status.busy": "2021-11-06T01:32:52.142376Z",
     "iopub.status.idle": "2021-11-06T01:32:52.273173Z",
     "shell.execute_reply": "2021-11-06T01:32:52.272580Z"
    },
    "papermill": {
     "duration": 0.172427,
     "end_time": "2021-11-06T01:32:52.273340",
     "exception": false,
     "start_time": "2021-11-06T01:32:52.100913",
     "status": "completed"
    },
    "tags": []
   },
   "outputs": [],
   "source": [
    "from pathlib import Path\n",
    "path_data = Path(\"../data\")\n",
    "comments = pd.read_csv(path_data.joinpath('comments.csv'), index_col=None).drop_duplicates()\n",
    "issues = pd.read_csv(path_data.joinpath('issues.csv'), index_col=None).drop_duplicates()\n",
    "prs = pd.read_csv(path_data.joinpath('prs.csv'), index_col=None).drop_duplicates()\n",
    "\n",
    "for idata in [comments, issues, prs]:\n",
    "    idata.query(\"org == @github_org\", inplace=True)"
   ]
  },
  {
   "cell_type": "code",
   "execution_count": 7,
   "id": "1a9e0c0d",
   "metadata": {
    "execution": {
     "iopub.execute_input": "2021-11-06T01:32:52.348790Z",
     "iopub.status.busy": "2021-11-06T01:32:52.348350Z",
     "iopub.status.idle": "2021-11-06T01:32:52.351758Z",
     "shell.execute_reply": "2021-11-06T01:32:52.351331Z"
    },
    "papermill": {
     "duration": 0.043337,
     "end_time": "2021-11-06T01:32:52.351882",
     "exception": false,
     "start_time": "2021-11-06T01:32:52.308545",
     "status": "completed"
    },
    "tags": []
   },
   "outputs": [],
   "source": [
    "# What are the top N repos, we will only plot these in the full data plots\n",
    "top_commented_repos = comments.groupby(\"repo\").count().sort_values(\"createdAt\", ascending=False)['createdAt']\n",
    "use_repos = top_commented_repos.head(top_n_repos).index.tolist()"
   ]
  },
  {
   "cell_type": "markdown",
   "id": "884045ff",
   "metadata": {
    "papermill": {
     "duration": 0.036717,
     "end_time": "2021-11-06T01:32:52.422949",
     "exception": false,
     "start_time": "2021-11-06T01:32:52.386232",
     "status": "completed"
    },
    "tags": [],
    "toc-hr-collapsed": false
   },
   "source": [
    "## Merged Pull requests\n",
    "\n",
    "Here's an analysis of **merged pull requests** across each of the repositories in the Jupyter\n",
    "ecosystem."
   ]
  },
  {
   "cell_type": "code",
   "execution_count": 8,
   "id": "a7fe43fe",
   "metadata": {
    "execution": {
     "iopub.execute_input": "2021-11-06T01:32:52.501785Z",
     "iopub.status.busy": "2021-11-06T01:32:52.500891Z",
     "iopub.status.idle": "2021-11-06T01:32:52.510063Z",
     "shell.execute_reply": "2021-11-06T01:32:52.509637Z"
    },
    "papermill": {
     "duration": 0.049381,
     "end_time": "2021-11-06T01:32:52.510231",
     "exception": false,
     "start_time": "2021-11-06T01:32:52.460850",
     "status": "completed"
    },
    "tags": [
     "remove_cell"
    ]
   },
   "outputs": [],
   "source": [
    "merged = prs.query('state == \"MERGED\" and closedAt > @start_date and closedAt < @stop_date')"
   ]
  },
  {
   "cell_type": "code",
   "execution_count": 9,
   "id": "82a8b9ff",
   "metadata": {
    "execution": {
     "iopub.execute_input": "2021-11-06T01:32:52.578898Z",
     "iopub.status.busy": "2021-11-06T01:32:52.578336Z",
     "iopub.status.idle": "2021-11-06T01:32:52.610673Z",
     "shell.execute_reply": "2021-11-06T01:32:52.611120Z"
    },
    "papermill": {
     "duration": 0.068165,
     "end_time": "2021-11-06T01:32:52.611285",
     "exception": false,
     "start_time": "2021-11-06T01:32:52.543120",
     "status": "completed"
    },
    "tags": [
     "hide_input"
    ]
   },
   "outputs": [
    {
     "data": {
      "text/html": [
       "\n",
       "<div id=\"altair-viz-645a8a184bcd43c58e2acb0ad86c6ced\"></div>\n",
       "<script type=\"text/javascript\">\n",
       "  (function(spec, embedOpt){\n",
       "    let outputDiv = document.currentScript.previousElementSibling;\n",
       "    if (outputDiv.id !== \"altair-viz-645a8a184bcd43c58e2acb0ad86c6ced\") {\n",
       "      outputDiv = document.getElementById(\"altair-viz-645a8a184bcd43c58e2acb0ad86c6ced\");\n",
       "    }\n",
       "    const paths = {\n",
       "      \"vega\": \"https://cdn.jsdelivr.net/npm//vega@5?noext\",\n",
       "      \"vega-lib\": \"https://cdn.jsdelivr.net/npm//vega-lib?noext\",\n",
       "      \"vega-lite\": \"https://cdn.jsdelivr.net/npm//vega-lite@4.8.1?noext\",\n",
       "      \"vega-embed\": \"https://cdn.jsdelivr.net/npm//vega-embed@6?noext\",\n",
       "    };\n",
       "\n",
       "    function loadScript(lib) {\n",
       "      return new Promise(function(resolve, reject) {\n",
       "        var s = document.createElement('script');\n",
       "        s.src = paths[lib];\n",
       "        s.async = true;\n",
       "        s.onload = () => resolve(paths[lib]);\n",
       "        s.onerror = () => reject(`Error loading script: ${paths[lib]}`);\n",
       "        document.getElementsByTagName(\"head\")[0].appendChild(s);\n",
       "      });\n",
       "    }\n",
       "\n",
       "    function showError(err) {\n",
       "      outputDiv.innerHTML = `<div class=\"error\" style=\"color:red;\">${err}</div>`;\n",
       "      throw err;\n",
       "    }\n",
       "\n",
       "    function displayChart(vegaEmbed) {\n",
       "      vegaEmbed(outputDiv, spec, embedOpt)\n",
       "        .catch(err => showError(`Javascript Error: ${err.message}<br>This usually means there's a typo in your chart specification. See the javascript console for the full traceback.`));\n",
       "    }\n",
       "\n",
       "    if(typeof define === \"function\" && define.amd) {\n",
       "      requirejs.config({paths});\n",
       "      require([\"vega-embed\"], displayChart, err => showError(`Error loading script: ${err.message}`));\n",
       "    } else if (typeof vegaEmbed === \"function\") {\n",
       "      displayChart(vegaEmbed);\n",
       "    } else {\n",
       "      loadScript(\"vega\")\n",
       "        .then(() => loadScript(\"vega-lite\"))\n",
       "        .then(() => loadScript(\"vega-embed\"))\n",
       "        .catch(showError)\n",
       "        .then(() => displayChart(vegaEmbed));\n",
       "    }\n",
       "  })({\"config\": {\"axisLeft\": {\"labelFontSize\": 15}, \"axisBottom\": {\"labelFontSize\": 15}}, \"data\": {\"name\": \"data-9a0f98f831696efd886b3188e9ee3e19\"}, \"mark\": \"bar\", \"encoding\": {\"color\": {\"type\": \"nominal\", \"field\": \"org\"}, \"x\": {\"type\": \"nominal\", \"field\": \"repo\", \"sort\": [\"voila\", \"voila-gridstack\"]}, \"y\": {\"type\": \"quantitative\", \"field\": \"author\"}}, \"title\": \"Merged PRs in the last 90 days\", \"$schema\": \"https://vega.github.io/schema/vega-lite/v4.8.1.json\", \"datasets\": {\"data-9a0f98f831696efd886b3188e9ee3e19\": [{\"org\": \"voila-dashboards\", \"repo\": \"voila\", \"author\": 58}, {\"org\": \"voila-dashboards\", \"repo\": \"voila-gridstack\", \"author\": 6}]}}, {\"mode\": \"vega-lite\"});\n",
       "</script>"
      ],
      "text/plain": [
       "alt.Chart(...)"
      ]
     },
     "execution_count": 9,
     "metadata": {},
     "output_type": "execute_result"
    }
   ],
   "source": [
    "prs_by_repo = merged.groupby(['org', 'repo']).count()['author'].reset_index().sort_values(['org', 'author'], ascending=False)\n",
    "alt.Chart(data=prs_by_repo, title=f\"Merged PRs in the last {n_days} days\").mark_bar().encode(\n",
    "    x=alt.X('repo', sort=prs_by_repo['repo'].values.tolist()),\n",
    "    y='author',\n",
    "    color='org'\n",
    ")"
   ]
  },
  {
   "cell_type": "markdown",
   "id": "57459da6",
   "metadata": {
    "papermill": {
     "duration": 0.034899,
     "end_time": "2021-11-06T01:32:52.683107",
     "exception": false,
     "start_time": "2021-11-06T01:32:52.648208",
     "status": "completed"
    },
    "tags": []
   },
   "source": [
    "### Authoring and merging stats by repository\n",
    "\n",
    "Let's see who has been doing most of the PR authoring and merging. The PR author is generally the\n",
    "person that implemented a change in the repository (code, documentation, etc). The PR merger is\n",
    "the person that \"pressed the green button\" and got the change into the main codebase."
   ]
  },
  {
   "cell_type": "code",
   "execution_count": 10,
   "id": "ca1e4423",
   "metadata": {
    "execution": {
     "iopub.execute_input": "2021-11-06T01:32:52.767419Z",
     "iopub.status.busy": "2021-11-06T01:32:52.766352Z",
     "iopub.status.idle": "2021-11-06T01:32:52.772412Z",
     "shell.execute_reply": "2021-11-06T01:32:52.772755Z"
    },
    "papermill": {
     "duration": 0.054143,
     "end_time": "2021-11-06T01:32:52.772883",
     "exception": false,
     "start_time": "2021-11-06T01:32:52.718740",
     "status": "completed"
    },
    "tags": [
     "remove_cell"
    ]
   },
   "outputs": [],
   "source": [
    "# Prep our merging DF\n",
    "merged_by_repo = merged.groupby(['repo', 'author'], as_index=False).agg({'id': 'count', 'authorAssociation': 'first'}).rename(columns={'id': \"authored\", 'author': 'username'})\n",
    "closed_by_repo = merged.groupby(['repo', 'mergedBy']).count()['id'].reset_index().rename(columns={'id': \"closed\", \"mergedBy\": \"username\"})"
   ]
  },
  {
   "cell_type": "code",
   "execution_count": 11,
   "id": "3cb3ca55",
   "metadata": {
    "execution": {
     "iopub.execute_input": "2021-11-06T01:32:52.859278Z",
     "iopub.status.busy": "2021-11-06T01:32:52.858783Z",
     "iopub.status.idle": "2021-11-06T01:32:52.877152Z",
     "shell.execute_reply": "2021-11-06T01:32:52.877666Z"
    },
    "papermill": {
     "duration": 0.068814,
     "end_time": "2021-11-06T01:32:52.877860",
     "exception": false,
     "start_time": "2021-11-06T01:32:52.809046",
     "status": "completed"
    },
    "tags": [
     "hide_input"
    ]
   },
   "outputs": [
    {
     "data": {
      "text/html": [
       "\n",
       "<div id=\"altair-viz-c64729b531434af690aab538f2127a3c\"></div>\n",
       "<script type=\"text/javascript\">\n",
       "  (function(spec, embedOpt){\n",
       "    let outputDiv = document.currentScript.previousElementSibling;\n",
       "    if (outputDiv.id !== \"altair-viz-c64729b531434af690aab538f2127a3c\") {\n",
       "      outputDiv = document.getElementById(\"altair-viz-c64729b531434af690aab538f2127a3c\");\n",
       "    }\n",
       "    const paths = {\n",
       "      \"vega\": \"https://cdn.jsdelivr.net/npm//vega@5?noext\",\n",
       "      \"vega-lib\": \"https://cdn.jsdelivr.net/npm//vega-lib?noext\",\n",
       "      \"vega-lite\": \"https://cdn.jsdelivr.net/npm//vega-lite@4.8.1?noext\",\n",
       "      \"vega-embed\": \"https://cdn.jsdelivr.net/npm//vega-embed@6?noext\",\n",
       "    };\n",
       "\n",
       "    function loadScript(lib) {\n",
       "      return new Promise(function(resolve, reject) {\n",
       "        var s = document.createElement('script');\n",
       "        s.src = paths[lib];\n",
       "        s.async = true;\n",
       "        s.onload = () => resolve(paths[lib]);\n",
       "        s.onerror = () => reject(`Error loading script: ${paths[lib]}`);\n",
       "        document.getElementsByTagName(\"head\")[0].appendChild(s);\n",
       "      });\n",
       "    }\n",
       "\n",
       "    function showError(err) {\n",
       "      outputDiv.innerHTML = `<div class=\"error\" style=\"color:red;\">${err}</div>`;\n",
       "      throw err;\n",
       "    }\n",
       "\n",
       "    function displayChart(vegaEmbed) {\n",
       "      vegaEmbed(outputDiv, spec, embedOpt)\n",
       "        .catch(err => showError(`Javascript Error: ${err.message}<br>This usually means there's a typo in your chart specification. See the javascript console for the full traceback.`));\n",
       "    }\n",
       "\n",
       "    if(typeof define === \"function\" && define.amd) {\n",
       "      requirejs.config({paths});\n",
       "      require([\"vega-embed\"], displayChart, err => showError(`Error loading script: ${err.message}`));\n",
       "    } else if (typeof vegaEmbed === \"function\") {\n",
       "      displayChart(vegaEmbed);\n",
       "    } else {\n",
       "      loadScript(\"vega\")\n",
       "        .then(() => loadScript(\"vega-lite\"))\n",
       "        .then(() => loadScript(\"vega-embed\"))\n",
       "        .catch(showError)\n",
       "        .then(() => displayChart(vegaEmbed));\n",
       "    }\n",
       "  })({\"config\": {\"axisLeft\": {\"labelFontSize\": 15}, \"axisBottom\": {\"labelFontSize\": 15}}, \"data\": {\"name\": \"data-45a43d7fcb6de3962db01123d35ef67b\"}, \"mark\": \"bar\", \"encoding\": {\"color\": {\"type\": \"nominal\", \"field\": \"authorAssociation\", \"scale\": {\"domain\": [\"MEMBER\", \"CONTRIBUTOR\", \"COLLABORATOR\", \"NONE\"], \"range\": [\"rgb(211.82745098039214, 211.82745098039214, 211.82745098039214)\", \"rgb(166.98562091503268, 229.89803921568628, 166.98562091503268)\", \"rgb(96.37647058823529, 192.75294117647059, 96.37647058823529)\", \"rgb(0.0, 100.3921568627451, 0.0)\"]}}, \"x\": {\"type\": \"nominal\", \"field\": \"username\"}, \"y\": {\"type\": \"quantitative\", \"field\": \"authored\"}}, \"title\": \"PR authors for voila-dashboards in the last 90 days\", \"$schema\": \"https://vega.github.io/schema/vega-lite/v4.8.1.json\", \"datasets\": {\"data-45a43d7fcb6de3962db01123d35ef67b\": [{\"username\": \"jtpio\", \"authored\": 32, \"authorAssociation\": \"MEMBER\"}, {\"username\": \"trungleduc\", \"authored\": 15, \"authorAssociation\": \"CONTRIBUTOR\"}, {\"username\": \"hbcarlos\", \"authored\": 4, \"authorAssociation\": \"MEMBER\"}, {\"username\": \"SylvainCorlay\", \"authored\": 2, \"authorAssociation\": \"MEMBER\"}, {\"username\": \"davidbrochart\", \"authored\": 2, \"authorAssociation\": \"MEMBER\"}, {\"username\": \"martinRenou\", \"authored\": 2, \"authorAssociation\": \"MEMBER\"}, {\"username\": \"Elijah-Watson\", \"authored\": 1, \"authorAssociation\": \"NONE\"}, {\"username\": \"RhnSharma\", \"authored\": 1, \"authorAssociation\": \"CONTRIBUTOR\"}, {\"username\": \"StanczakDominik\", \"authored\": 1, \"authorAssociation\": \"CONTRIBUTOR\"}, {\"username\": \"adament\", \"authored\": 1, \"authorAssociation\": \"CONTRIBUTOR\"}, {\"username\": \"giswqs\", \"authored\": 1, \"authorAssociation\": \"CONTRIBUTOR\"}, {\"username\": \"julian-west\", \"authored\": 1, \"authorAssociation\": \"NONE\"}, {\"username\": \"mariobuikhuizen\", \"authored\": 1, \"authorAssociation\": \"MEMBER\"}]}}, {\"mode\": \"vega-lite\"});\n",
       "</script>"
      ],
      "text/plain": [
       "alt.Chart(...)"
      ]
     },
     "execution_count": 11,
     "metadata": {},
     "output_type": "execute_result"
    }
   ],
   "source": [
    "charts = []\n",
    "title = f\"PR authors for {github_org} in the last {n_days} days\"\n",
    "this_data = merged_by_repo.replace(np.nan, 0).groupby('username', as_index=False).agg({'authored': 'sum', 'authorAssociation': 'first'})\n",
    "this_data = this_data.sort_values('authored', ascending=False)\n",
    "ch = alt.Chart(data=this_data, title=title).mark_bar().encode(\n",
    "    x='username',\n",
    "    y='authored',\n",
    "    color=alt.Color('authorAssociation', scale=alt.Scale(domain=author_types, range=author_colors))\n",
    ")\n",
    "ch"
   ]
  },
  {
   "cell_type": "code",
   "execution_count": 12,
   "id": "8ed4fd8b",
   "metadata": {
    "execution": {
     "iopub.execute_input": "2021-11-06T01:32:52.970339Z",
     "iopub.status.busy": "2021-11-06T01:32:52.969609Z",
     "iopub.status.idle": "2021-11-06T01:32:52.971813Z",
     "shell.execute_reply": "2021-11-06T01:32:52.972195Z"
    },
    "papermill": {
     "duration": 0.057415,
     "end_time": "2021-11-06T01:32:52.972336",
     "exception": false,
     "start_time": "2021-11-06T01:32:52.914921",
     "status": "completed"
    },
    "tags": [
     "hide_input"
    ]
   },
   "outputs": [
    {
     "data": {
      "text/html": [
       "\n",
       "<div id=\"altair-viz-f1366b2c2a454882af5b23705005ce00\"></div>\n",
       "<script type=\"text/javascript\">\n",
       "  (function(spec, embedOpt){\n",
       "    let outputDiv = document.currentScript.previousElementSibling;\n",
       "    if (outputDiv.id !== \"altair-viz-f1366b2c2a454882af5b23705005ce00\") {\n",
       "      outputDiv = document.getElementById(\"altair-viz-f1366b2c2a454882af5b23705005ce00\");\n",
       "    }\n",
       "    const paths = {\n",
       "      \"vega\": \"https://cdn.jsdelivr.net/npm//vega@5?noext\",\n",
       "      \"vega-lib\": \"https://cdn.jsdelivr.net/npm//vega-lib?noext\",\n",
       "      \"vega-lite\": \"https://cdn.jsdelivr.net/npm//vega-lite@4.8.1?noext\",\n",
       "      \"vega-embed\": \"https://cdn.jsdelivr.net/npm//vega-embed@6?noext\",\n",
       "    };\n",
       "\n",
       "    function loadScript(lib) {\n",
       "      return new Promise(function(resolve, reject) {\n",
       "        var s = document.createElement('script');\n",
       "        s.src = paths[lib];\n",
       "        s.async = true;\n",
       "        s.onload = () => resolve(paths[lib]);\n",
       "        s.onerror = () => reject(`Error loading script: ${paths[lib]}`);\n",
       "        document.getElementsByTagName(\"head\")[0].appendChild(s);\n",
       "      });\n",
       "    }\n",
       "\n",
       "    function showError(err) {\n",
       "      outputDiv.innerHTML = `<div class=\"error\" style=\"color:red;\">${err}</div>`;\n",
       "      throw err;\n",
       "    }\n",
       "\n",
       "    function displayChart(vegaEmbed) {\n",
       "      vegaEmbed(outputDiv, spec, embedOpt)\n",
       "        .catch(err => showError(`Javascript Error: ${err.message}<br>This usually means there's a typo in your chart specification. See the javascript console for the full traceback.`));\n",
       "    }\n",
       "\n",
       "    if(typeof define === \"function\" && define.amd) {\n",
       "      requirejs.config({paths});\n",
       "      require([\"vega-embed\"], displayChart, err => showError(`Error loading script: ${err.message}`));\n",
       "    } else if (typeof vegaEmbed === \"function\") {\n",
       "      displayChart(vegaEmbed);\n",
       "    } else {\n",
       "      loadScript(\"vega\")\n",
       "        .then(() => loadScript(\"vega-lite\"))\n",
       "        .then(() => loadScript(\"vega-embed\"))\n",
       "        .catch(showError)\n",
       "        .then(() => displayChart(vegaEmbed));\n",
       "    }\n",
       "  })({\"config\": {\"axisLeft\": {\"labelFontSize\": 15}, \"axisBottom\": {\"labelFontSize\": 15}}, \"data\": {\"name\": \"data-2a088ee8446843a9a0e3cda1b48819a2\"}, \"mark\": \"bar\", \"encoding\": {\"x\": {\"type\": \"nominal\", \"field\": \"username\"}, \"y\": {\"type\": \"quantitative\", \"field\": \"closed\"}}, \"title\": \"Merges for voila-dashboards in the last 90 days\", \"$schema\": \"https://vega.github.io/schema/vega-lite/v4.8.1.json\", \"datasets\": {\"data-2a088ee8446843a9a0e3cda1b48819a2\": [{\"repo\": \"voila\", \"username\": \"SylvainCorlay\", \"closed\": 3}, {\"repo\": \"voila\", \"username\": \"jtpio\", \"closed\": 43}, {\"repo\": \"voila\", \"username\": \"martinRenou\", \"closed\": 2}, {\"repo\": \"voila\", \"username\": \"trungleduc\", \"closed\": 10}, {\"repo\": \"voila-gridstack\", \"username\": \"hbcarlos\", \"closed\": 3}, {\"repo\": \"voila-gridstack\", \"username\": \"jtpio\", \"closed\": 3}]}}, {\"mode\": \"vega-lite\"});\n",
       "</script>"
      ],
      "text/plain": [
       "alt.Chart(...)"
      ]
     },
     "execution_count": 12,
     "metadata": {},
     "output_type": "execute_result"
    }
   ],
   "source": [
    "charts = []\n",
    "title = f\"Merges for {github_org} in the last {n_days} days\"\n",
    "ch = alt.Chart(data=closed_by_repo.replace(np.nan, 0), title=title).mark_bar().encode(\n",
    "    x='username',\n",
    "    y='closed',\n",
    ")\n",
    "ch"
   ]
  },
  {
   "cell_type": "markdown",
   "id": "8121ae92",
   "metadata": {
    "papermill": {
     "duration": 0.03687,
     "end_time": "2021-11-06T01:32:53.045449",
     "exception": false,
     "start_time": "2021-11-06T01:32:53.008579",
     "status": "completed"
    },
    "tags": []
   },
   "source": [
    "## Issues\n",
    "\n",
    "Issues are **conversations** that happen on our GitHub repositories. Here's an\n",
    "analysis of issues across the Jupyter organizations."
   ]
  },
  {
   "cell_type": "code",
   "execution_count": 13,
   "id": "83ab61a2",
   "metadata": {
    "execution": {
     "iopub.execute_input": "2021-11-06T01:32:53.130092Z",
     "iopub.status.busy": "2021-11-06T01:32:53.129576Z",
     "iopub.status.idle": "2021-11-06T01:32:53.130803Z",
     "shell.execute_reply": "2021-11-06T01:32:53.131499Z"
    },
    "papermill": {
     "duration": 0.047738,
     "end_time": "2021-11-06T01:32:53.131678",
     "exception": false,
     "start_time": "2021-11-06T01:32:53.083940",
     "status": "completed"
    },
    "tags": [
     "remove_cell"
    ]
   },
   "outputs": [],
   "source": [
    "created = issues.query('state == \"OPEN\" and createdAt > @start_date and createdAt < @stop_date')\n",
    "closed = issues.query('state == \"CLOSED\" and closedAt > @start_date and closedAt < @stop_date')"
   ]
  },
  {
   "cell_type": "code",
   "execution_count": 14,
   "id": "b11a4deb",
   "metadata": {
    "execution": {
     "iopub.execute_input": "2021-11-06T01:32:53.214635Z",
     "iopub.status.busy": "2021-11-06T01:32:53.214136Z",
     "iopub.status.idle": "2021-11-06T01:32:53.234799Z",
     "shell.execute_reply": "2021-11-06T01:32:53.235423Z"
    },
    "papermill": {
     "duration": 0.06775,
     "end_time": "2021-11-06T01:32:53.235631",
     "exception": false,
     "start_time": "2021-11-06T01:32:53.167881",
     "status": "completed"
    },
    "tags": [
     "hide_input"
    ]
   },
   "outputs": [
    {
     "data": {
      "text/html": [
       "\n",
       "<div id=\"altair-viz-35c4585ee9ff48a183f22ce161aa31d4\"></div>\n",
       "<script type=\"text/javascript\">\n",
       "  (function(spec, embedOpt){\n",
       "    let outputDiv = document.currentScript.previousElementSibling;\n",
       "    if (outputDiv.id !== \"altair-viz-35c4585ee9ff48a183f22ce161aa31d4\") {\n",
       "      outputDiv = document.getElementById(\"altair-viz-35c4585ee9ff48a183f22ce161aa31d4\");\n",
       "    }\n",
       "    const paths = {\n",
       "      \"vega\": \"https://cdn.jsdelivr.net/npm//vega@5?noext\",\n",
       "      \"vega-lib\": \"https://cdn.jsdelivr.net/npm//vega-lib?noext\",\n",
       "      \"vega-lite\": \"https://cdn.jsdelivr.net/npm//vega-lite@4.8.1?noext\",\n",
       "      \"vega-embed\": \"https://cdn.jsdelivr.net/npm//vega-embed@6?noext\",\n",
       "    };\n",
       "\n",
       "    function loadScript(lib) {\n",
       "      return new Promise(function(resolve, reject) {\n",
       "        var s = document.createElement('script');\n",
       "        s.src = paths[lib];\n",
       "        s.async = true;\n",
       "        s.onload = () => resolve(paths[lib]);\n",
       "        s.onerror = () => reject(`Error loading script: ${paths[lib]}`);\n",
       "        document.getElementsByTagName(\"head\")[0].appendChild(s);\n",
       "      });\n",
       "    }\n",
       "\n",
       "    function showError(err) {\n",
       "      outputDiv.innerHTML = `<div class=\"error\" style=\"color:red;\">${err}</div>`;\n",
       "      throw err;\n",
       "    }\n",
       "\n",
       "    function displayChart(vegaEmbed) {\n",
       "      vegaEmbed(outputDiv, spec, embedOpt)\n",
       "        .catch(err => showError(`Javascript Error: ${err.message}<br>This usually means there's a typo in your chart specification. See the javascript console for the full traceback.`));\n",
       "    }\n",
       "\n",
       "    if(typeof define === \"function\" && define.amd) {\n",
       "      requirejs.config({paths});\n",
       "      require([\"vega-embed\"], displayChart, err => showError(`Error loading script: ${err.message}`));\n",
       "    } else if (typeof vegaEmbed === \"function\") {\n",
       "      displayChart(vegaEmbed);\n",
       "    } else {\n",
       "      loadScript(\"vega\")\n",
       "        .then(() => loadScript(\"vega-lite\"))\n",
       "        .then(() => loadScript(\"vega-embed\"))\n",
       "        .catch(showError)\n",
       "        .then(() => displayChart(vegaEmbed));\n",
       "    }\n",
       "  })({\"config\": {\"axisLeft\": {\"labelFontSize\": 15}, \"axisBottom\": {\"labelFontSize\": 15}}, \"data\": {\"name\": \"data-382ef633621a39b44ebbd16a0c2ef7ad\"}, \"mark\": \"bar\", \"encoding\": {\"x\": {\"type\": \"nominal\", \"field\": \"repo\", \"sort\": [\"voila\", \"voila-vuetify\", \"hotpot_km\", \"voila-reveal\"]}, \"y\": {\"type\": \"quantitative\", \"field\": \"number\"}}, \"title\": \"Issues created in the last 90 days\", \"$schema\": \"https://vega.github.io/schema/vega-lite/v4.8.1.json\", \"datasets\": {\"data-382ef633621a39b44ebbd16a0c2ef7ad\": [{\"org\": \"voila-dashboards\", \"repo\": \"hotpot_km\", \"number\": 1, \"org/repo\": \"voila-dashboards/hotpot_km\"}, {\"org\": \"voila-dashboards\", \"repo\": \"voila\", \"number\": 14, \"org/repo\": \"voila-dashboards/voila\"}, {\"org\": \"voila-dashboards\", \"repo\": \"voila-reveal\", \"number\": 1, \"org/repo\": \"voila-dashboards/voila-reveal\"}, {\"org\": \"voila-dashboards\", \"repo\": \"voila-vuetify\", \"number\": 4, \"org/repo\": \"voila-dashboards/voila-vuetify\"}]}}, {\"mode\": \"vega-lite\"});\n",
       "</script>"
      ],
      "text/plain": [
       "alt.Chart(...)"
      ]
     },
     "execution_count": 14,
     "metadata": {},
     "output_type": "execute_result"
    }
   ],
   "source": [
    "created_counts = created.groupby(['org', 'repo']).count()['number'].reset_index()\n",
    "created_counts['org/repo'] = created_counts.apply(lambda a: a['org'] + '/' + a['repo'], axis=1)\n",
    "sorted_vals = created_counts.sort_values(['org', 'number'], ascending=False)['repo'].values\n",
    "alt.Chart(data=created_counts, title=f\"Issues created in the last {n_days} days\").mark_bar().encode(\n",
    "    x=alt.X('repo', sort=alt.Sort(sorted_vals.tolist())),\n",
    "    y='number',\n",
    ")"
   ]
  },
  {
   "cell_type": "code",
   "execution_count": 15,
   "id": "11e9fc15",
   "metadata": {
    "execution": {
     "iopub.execute_input": "2021-11-06T01:32:53.323434Z",
     "iopub.status.busy": "2021-11-06T01:32:53.317993Z",
     "iopub.status.idle": "2021-11-06T01:32:53.340922Z",
     "shell.execute_reply": "2021-11-06T01:32:53.340358Z"
    },
    "papermill": {
     "duration": 0.06662,
     "end_time": "2021-11-06T01:32:53.341078",
     "exception": false,
     "start_time": "2021-11-06T01:32:53.274458",
     "status": "completed"
    },
    "tags": [
     "hide_input"
    ]
   },
   "outputs": [
    {
     "data": {
      "text/html": [
       "\n",
       "<div id=\"altair-viz-829d68867cd94ecbaa3cd13054856d2f\"></div>\n",
       "<script type=\"text/javascript\">\n",
       "  (function(spec, embedOpt){\n",
       "    let outputDiv = document.currentScript.previousElementSibling;\n",
       "    if (outputDiv.id !== \"altair-viz-829d68867cd94ecbaa3cd13054856d2f\") {\n",
       "      outputDiv = document.getElementById(\"altair-viz-829d68867cd94ecbaa3cd13054856d2f\");\n",
       "    }\n",
       "    const paths = {\n",
       "      \"vega\": \"https://cdn.jsdelivr.net/npm//vega@5?noext\",\n",
       "      \"vega-lib\": \"https://cdn.jsdelivr.net/npm//vega-lib?noext\",\n",
       "      \"vega-lite\": \"https://cdn.jsdelivr.net/npm//vega-lite@4.8.1?noext\",\n",
       "      \"vega-embed\": \"https://cdn.jsdelivr.net/npm//vega-embed@6?noext\",\n",
       "    };\n",
       "\n",
       "    function loadScript(lib) {\n",
       "      return new Promise(function(resolve, reject) {\n",
       "        var s = document.createElement('script');\n",
       "        s.src = paths[lib];\n",
       "        s.async = true;\n",
       "        s.onload = () => resolve(paths[lib]);\n",
       "        s.onerror = () => reject(`Error loading script: ${paths[lib]}`);\n",
       "        document.getElementsByTagName(\"head\")[0].appendChild(s);\n",
       "      });\n",
       "    }\n",
       "\n",
       "    function showError(err) {\n",
       "      outputDiv.innerHTML = `<div class=\"error\" style=\"color:red;\">${err}</div>`;\n",
       "      throw err;\n",
       "    }\n",
       "\n",
       "    function displayChart(vegaEmbed) {\n",
       "      vegaEmbed(outputDiv, spec, embedOpt)\n",
       "        .catch(err => showError(`Javascript Error: ${err.message}<br>This usually means there's a typo in your chart specification. See the javascript console for the full traceback.`));\n",
       "    }\n",
       "\n",
       "    if(typeof define === \"function\" && define.amd) {\n",
       "      requirejs.config({paths});\n",
       "      require([\"vega-embed\"], displayChart, err => showError(`Error loading script: ${err.message}`));\n",
       "    } else if (typeof vegaEmbed === \"function\") {\n",
       "      displayChart(vegaEmbed);\n",
       "    } else {\n",
       "      loadScript(\"vega\")\n",
       "        .then(() => loadScript(\"vega-lite\"))\n",
       "        .then(() => loadScript(\"vega-embed\"))\n",
       "        .catch(showError)\n",
       "        .then(() => displayChart(vegaEmbed));\n",
       "    }\n",
       "  })({\"config\": {\"axisLeft\": {\"labelFontSize\": 15}, \"axisBottom\": {\"labelFontSize\": 15}}, \"data\": {\"name\": \"data-2f5cb459fe4730c9b986bb4360c74270\"}, \"mark\": \"bar\", \"encoding\": {\"x\": {\"type\": \"nominal\", \"field\": \"repo\", \"sort\": [\"voila\", \"voila-gridstack\", \"voila-vuetify\", \"voila-reveal\"]}, \"y\": {\"type\": \"quantitative\", \"field\": \"number\"}}, \"title\": \"Issues closed in the last 90 days\", \"$schema\": \"https://vega.github.io/schema/vega-lite/v4.8.1.json\", \"datasets\": {\"data-2f5cb459fe4730c9b986bb4360c74270\": [{\"org\": \"voila-dashboards\", \"repo\": \"voila\", \"number\": 23, \"org/repo\": \"voila-dashboards/voila\"}, {\"org\": \"voila-dashboards\", \"repo\": \"voila-gridstack\", \"number\": 9, \"org/repo\": \"voila-dashboards/voila-gridstack\"}, {\"org\": \"voila-dashboards\", \"repo\": \"voila-reveal\", \"number\": 1, \"org/repo\": \"voila-dashboards/voila-reveal\"}, {\"org\": \"voila-dashboards\", \"repo\": \"voila-vuetify\", \"number\": 2, \"org/repo\": \"voila-dashboards/voila-vuetify\"}]}}, {\"mode\": \"vega-lite\"});\n",
       "</script>"
      ],
      "text/plain": [
       "alt.Chart(...)"
      ]
     },
     "execution_count": 15,
     "metadata": {},
     "output_type": "execute_result"
    }
   ],
   "source": [
    "closed_counts = closed.groupby(['org', 'repo']).count()['number'].reset_index()\n",
    "closed_counts['org/repo'] = closed_counts.apply(lambda a: a['org'] + '/' + a['repo'], axis=1)\n",
    "sorted_vals = closed_counts.sort_values(['number'], ascending=False)['repo'].values\n",
    "alt.Chart(data=closed_counts, title=f\"Issues closed in the last {n_days} days\").mark_bar().encode(\n",
    "    x=alt.X('repo', sort=alt.Sort(sorted_vals.tolist())),\n",
    "    y='number',\n",
    ")"
   ]
  },
  {
   "cell_type": "code",
   "execution_count": 16,
   "id": "07f61011",
   "metadata": {
    "execution": {
     "iopub.execute_input": "2021-11-06T01:32:53.427240Z",
     "iopub.status.busy": "2021-11-06T01:32:53.426648Z",
     "iopub.status.idle": "2021-11-06T01:32:53.433996Z",
     "shell.execute_reply": "2021-11-06T01:32:53.433419Z"
    },
    "papermill": {
     "duration": 0.05612,
     "end_time": "2021-11-06T01:32:53.434107",
     "exception": false,
     "start_time": "2021-11-06T01:32:53.377987",
     "status": "completed"
    },
    "tags": [
     "remove_cell"
    ]
   },
   "outputs": [],
   "source": [
    "created_closed = pd.merge(created_counts.rename(columns={'number': 'created'}).drop(columns='org/repo'),\n",
    "                          closed_counts.rename(columns={'number': 'closed'}).drop(columns='org/repo'),\n",
    "                          on=['org', 'repo'], how='outer')\n",
    "\n",
    "created_closed = pd.melt(created_closed, id_vars=['org', 'repo'], var_name=\"kind\", value_name=\"count\").replace(np.nan, 0)"
   ]
  },
  {
   "cell_type": "code",
   "execution_count": 17,
   "id": "b0a58413",
   "metadata": {
    "execution": {
     "iopub.execute_input": "2021-11-06T01:32:53.533214Z",
     "iopub.status.busy": "2021-11-06T01:32:53.532575Z",
     "iopub.status.idle": "2021-11-06T01:32:53.534773Z",
     "shell.execute_reply": "2021-11-06T01:32:53.535303Z"
    },
    "papermill": {
     "duration": 0.064559,
     "end_time": "2021-11-06T01:32:53.535469",
     "exception": false,
     "start_time": "2021-11-06T01:32:53.470910",
     "status": "completed"
    },
    "tags": [
     "hide_input"
    ]
   },
   "outputs": [
    {
     "data": {
      "text/html": [
       "\n",
       "<div id=\"altair-viz-73a0fa6b53c740d896a8f47ec45a89ff\"></div>\n",
       "<script type=\"text/javascript\">\n",
       "  (function(spec, embedOpt){\n",
       "    let outputDiv = document.currentScript.previousElementSibling;\n",
       "    if (outputDiv.id !== \"altair-viz-73a0fa6b53c740d896a8f47ec45a89ff\") {\n",
       "      outputDiv = document.getElementById(\"altair-viz-73a0fa6b53c740d896a8f47ec45a89ff\");\n",
       "    }\n",
       "    const paths = {\n",
       "      \"vega\": \"https://cdn.jsdelivr.net/npm//vega@5?noext\",\n",
       "      \"vega-lib\": \"https://cdn.jsdelivr.net/npm//vega-lib?noext\",\n",
       "      \"vega-lite\": \"https://cdn.jsdelivr.net/npm//vega-lite@4.8.1?noext\",\n",
       "      \"vega-embed\": \"https://cdn.jsdelivr.net/npm//vega-embed@6?noext\",\n",
       "    };\n",
       "\n",
       "    function loadScript(lib) {\n",
       "      return new Promise(function(resolve, reject) {\n",
       "        var s = document.createElement('script');\n",
       "        s.src = paths[lib];\n",
       "        s.async = true;\n",
       "        s.onload = () => resolve(paths[lib]);\n",
       "        s.onerror = () => reject(`Error loading script: ${paths[lib]}`);\n",
       "        document.getElementsByTagName(\"head\")[0].appendChild(s);\n",
       "      });\n",
       "    }\n",
       "\n",
       "    function showError(err) {\n",
       "      outputDiv.innerHTML = `<div class=\"error\" style=\"color:red;\">${err}</div>`;\n",
       "      throw err;\n",
       "    }\n",
       "\n",
       "    function displayChart(vegaEmbed) {\n",
       "      vegaEmbed(outputDiv, spec, embedOpt)\n",
       "        .catch(err => showError(`Javascript Error: ${err.message}<br>This usually means there's a typo in your chart specification. See the javascript console for the full traceback.`));\n",
       "    }\n",
       "\n",
       "    if(typeof define === \"function\" && define.amd) {\n",
       "      requirejs.config({paths});\n",
       "      require([\"vega-embed\"], displayChart, err => showError(`Error loading script: ${err.message}`));\n",
       "    } else if (typeof vegaEmbed === \"function\") {\n",
       "      displayChart(vegaEmbed);\n",
       "    } else {\n",
       "      loadScript(\"vega\")\n",
       "        .then(() => loadScript(\"vega-lite\"))\n",
       "        .then(() => loadScript(\"vega-embed\"))\n",
       "        .catch(showError)\n",
       "        .then(() => displayChart(vegaEmbed));\n",
       "    }\n",
       "  })({\"config\": {\"axisLeft\": {\"labelFontSize\": 15}, \"axisBottom\": {\"labelFontSize\": 15}}, \"data\": {\"name\": \"data-cefd18fbc826daa317c3b9f5ae7fd04d\"}, \"mark\": \"bar\", \"encoding\": {\"color\": {\"type\": \"nominal\", \"field\": \"kind\"}, \"column\": {\"type\": \"nominal\", \"field\": \"repo\", \"header\": {\"labelFontSize\": 12, \"title\": \"Issue activity, last 90 days for voila-dashboards\", \"titleFontSize\": 15}}, \"x\": {\"type\": \"nominal\", \"axis\": {\"labelFontSize\": 15, \"title\": \"\"}, \"field\": \"kind\"}, \"y\": {\"type\": \"quantitative\", \"axis\": {\"labelFontSize\": 12, \"titleFontSize\": 15}, \"field\": \"count\"}}, \"width\": 120, \"$schema\": \"https://vega.github.io/schema/vega-lite/v4.8.1.json\", \"datasets\": {\"data-cefd18fbc826daa317c3b9f5ae7fd04d\": [{\"org\": \"voila-dashboards\", \"repo\": \"hotpot_km\", \"kind\": \"created\", \"count\": 1.0}, {\"org\": \"voila-dashboards\", \"repo\": \"voila\", \"kind\": \"created\", \"count\": 14.0}, {\"org\": \"voila-dashboards\", \"repo\": \"voila-reveal\", \"kind\": \"created\", \"count\": 1.0}, {\"org\": \"voila-dashboards\", \"repo\": \"voila-vuetify\", \"kind\": \"created\", \"count\": 4.0}, {\"org\": \"voila-dashboards\", \"repo\": \"voila-gridstack\", \"kind\": \"created\", \"count\": 0.0}, {\"org\": \"voila-dashboards\", \"repo\": \"hotpot_km\", \"kind\": \"closed\", \"count\": 0.0}, {\"org\": \"voila-dashboards\", \"repo\": \"voila\", \"kind\": \"closed\", \"count\": 23.0}, {\"org\": \"voila-dashboards\", \"repo\": \"voila-reveal\", \"kind\": \"closed\", \"count\": 1.0}, {\"org\": \"voila-dashboards\", \"repo\": \"voila-vuetify\", \"kind\": \"closed\", \"count\": 2.0}, {\"org\": \"voila-dashboards\", \"repo\": \"voila-gridstack\", \"kind\": \"closed\", \"count\": 9.0}]}}, {\"mode\": \"vega-lite\"});\n",
       "</script>"
      ],
      "text/plain": [
       "alt.Chart(...)"
      ]
     },
     "execution_count": 17,
     "metadata": {},
     "output_type": "execute_result"
    }
   ],
   "source": [
    "charts = []\n",
    "# Pick the top 10 repositories\n",
    "top_repos = created_closed.groupby(['repo']).sum().sort_values(by='count', ascending=False).head(10).index\n",
    "ch = alt.Chart(created_closed.query('repo in @top_repos'), width=120).mark_bar().encode(\n",
    "    x=alt.X(\"kind\", axis=alt.Axis(labelFontSize=15, title=\"\")), \n",
    "    y=alt.Y('count', axis=alt.Axis(titleFontSize=15, labelFontSize=12)),\n",
    "    color='kind',\n",
    "    column=alt.Column(\"repo\", header=alt.Header(title=f\"Issue activity, last {n_days} days for {github_org}\", titleFontSize=15, labelFontSize=12))\n",
    ")\n",
    "ch"
   ]
  },
  {
   "cell_type": "code",
   "execution_count": 18,
   "id": "3f4a0e8d",
   "metadata": {
    "execution": {
     "iopub.execute_input": "2021-11-06T01:32:53.622304Z",
     "iopub.status.busy": "2021-11-06T01:32:53.621713Z",
     "iopub.status.idle": "2021-11-06T01:32:53.624045Z",
     "shell.execute_reply": "2021-11-06T01:32:53.623539Z"
    },
    "papermill": {
     "duration": 0.051687,
     "end_time": "2021-11-06T01:32:53.624198",
     "exception": false,
     "start_time": "2021-11-06T01:32:53.572511",
     "status": "completed"
    },
    "tags": [
     "remove_cell"
    ]
   },
   "outputs": [],
   "source": [
    "# Set to datetime\n",
    "for kind in ['createdAt', 'closedAt']:\n",
    "    closed.loc[:, kind] = pd.to_datetime(closed[kind])\n",
    "    \n",
    "closed.loc[:, 'time_open'] = closed['closedAt'] - closed['createdAt']\n",
    "closed.loc[:, 'time_open'] = closed['time_open'].dt.total_seconds()"
   ]
  },
  {
   "cell_type": "code",
   "execution_count": 19,
   "id": "39fcf0ba",
   "metadata": {
    "execution": {
     "iopub.execute_input": "2021-11-06T01:32:53.724233Z",
     "iopub.status.busy": "2021-11-06T01:32:53.723611Z",
     "iopub.status.idle": "2021-11-06T01:32:53.727028Z",
     "shell.execute_reply": "2021-11-06T01:32:53.726507Z"
    },
    "papermill": {
     "duration": 0.066014,
     "end_time": "2021-11-06T01:32:53.727174",
     "exception": false,
     "start_time": "2021-11-06T01:32:53.661160",
     "status": "completed"
    },
    "tags": [
     "hide_input"
    ]
   },
   "outputs": [
    {
     "data": {
      "text/html": [
       "\n",
       "<div id=\"altair-viz-c19368dddf39450e8510cddc18054c74\"></div>\n",
       "<script type=\"text/javascript\">\n",
       "  (function(spec, embedOpt){\n",
       "    let outputDiv = document.currentScript.previousElementSibling;\n",
       "    if (outputDiv.id !== \"altair-viz-c19368dddf39450e8510cddc18054c74\") {\n",
       "      outputDiv = document.getElementById(\"altair-viz-c19368dddf39450e8510cddc18054c74\");\n",
       "    }\n",
       "    const paths = {\n",
       "      \"vega\": \"https://cdn.jsdelivr.net/npm//vega@5?noext\",\n",
       "      \"vega-lib\": \"https://cdn.jsdelivr.net/npm//vega-lib?noext\",\n",
       "      \"vega-lite\": \"https://cdn.jsdelivr.net/npm//vega-lite@4.8.1?noext\",\n",
       "      \"vega-embed\": \"https://cdn.jsdelivr.net/npm//vega-embed@6?noext\",\n",
       "    };\n",
       "\n",
       "    function loadScript(lib) {\n",
       "      return new Promise(function(resolve, reject) {\n",
       "        var s = document.createElement('script');\n",
       "        s.src = paths[lib];\n",
       "        s.async = true;\n",
       "        s.onload = () => resolve(paths[lib]);\n",
       "        s.onerror = () => reject(`Error loading script: ${paths[lib]}`);\n",
       "        document.getElementsByTagName(\"head\")[0].appendChild(s);\n",
       "      });\n",
       "    }\n",
       "\n",
       "    function showError(err) {\n",
       "      outputDiv.innerHTML = `<div class=\"error\" style=\"color:red;\">${err}</div>`;\n",
       "      throw err;\n",
       "    }\n",
       "\n",
       "    function displayChart(vegaEmbed) {\n",
       "      vegaEmbed(outputDiv, spec, embedOpt)\n",
       "        .catch(err => showError(`Javascript Error: ${err.message}<br>This usually means there's a typo in your chart specification. See the javascript console for the full traceback.`));\n",
       "    }\n",
       "\n",
       "    if(typeof define === \"function\" && define.amd) {\n",
       "      requirejs.config({paths});\n",
       "      require([\"vega-embed\"], displayChart, err => showError(`Error loading script: ${err.message}`));\n",
       "    } else if (typeof vegaEmbed === \"function\") {\n",
       "      displayChart(vegaEmbed);\n",
       "    } else {\n",
       "      loadScript(\"vega\")\n",
       "        .then(() => loadScript(\"vega-lite\"))\n",
       "        .then(() => loadScript(\"vega-embed\"))\n",
       "        .catch(showError)\n",
       "        .then(() => displayChart(vegaEmbed));\n",
       "    }\n",
       "  })({\"config\": {\"axisLeft\": {\"labelFontSize\": 15}, \"axisBottom\": {\"labelFontSize\": 15}}, \"data\": {\"name\": \"data-b960259f7c835472efaa131d486e7a60\"}, \"mark\": \"bar\", \"encoding\": {\"x\": {\"type\": \"nominal\", \"field\": \"repo\", \"sort\": [\"voila-reveal\", \"voila-gridstack\", \"voila-vuetify\", \"voila\"]}, \"y\": {\"type\": \"quantitative\", \"field\": \"time_open\", \"title\": \"Median Days Open\"}}, \"title\": \"Time to close for issues closed in the last 90 days\", \"$schema\": \"https://vega.github.io/schema/vega-lite/v4.8.1.json\", \"datasets\": {\"data-b960259f7c835472efaa131d486e7a60\": [{\"org\": \"voila-dashboards\", \"repo\": \"voila\", \"time_open\": 4.129930555555555, \"org/repo\": \"voila-dashboards/voila\"}, {\"org\": \"voila-dashboards\", \"repo\": \"voila-gridstack\", \"time_open\": 48.08366898148149, \"org/repo\": \"voila-dashboards/voila-gridstack\"}, {\"org\": \"voila-dashboards\", \"repo\": \"voila-reveal\", \"time_open\": 63.15613425925926, \"org/repo\": \"voila-dashboards/voila-reveal\"}, {\"org\": \"voila-dashboards\", \"repo\": \"voila-vuetify\", \"time_open\": 6.170966435185186, \"org/repo\": \"voila-dashboards/voila-vuetify\"}]}}, {\"mode\": \"vega-lite\"});\n",
       "</script>"
      ],
      "text/plain": [
       "alt.Chart(...)"
      ]
     },
     "execution_count": 19,
     "metadata": {},
     "output_type": "execute_result"
    }
   ],
   "source": [
    "time_open = closed.groupby(['org', 'repo']).agg({'time_open': 'median'}).reset_index()\n",
    "time_open['time_open'] = time_open['time_open'] / (60 * 60 * 24)\n",
    "time_open['org/repo'] = time_open.apply(lambda a: a['org'] + '/' + a['repo'], axis=1)\n",
    "sorted_vals = time_open.sort_values(['org', 'time_open'], ascending=False)['repo'].values\n",
    "alt.Chart(data=time_open, title=f\"Time to close for issues closed in the last {n_days} days\").mark_bar().encode(\n",
    "    x=alt.X('repo', sort=alt.Sort(sorted_vals.tolist())),\n",
    "    y=alt.Y('time_open', title=\"Median Days Open\"),\n",
    ")"
   ]
  },
  {
   "cell_type": "markdown",
   "id": "0b3edc2f",
   "metadata": {
    "papermill": {
     "duration": 0.042361,
     "end_time": "2021-11-06T01:32:53.812803",
     "exception": false,
     "start_time": "2021-11-06T01:32:53.770442",
     "status": "completed"
    },
    "tags": []
   },
   "source": [
    "## Most-upvoted issues"
   ]
  },
  {
   "cell_type": "code",
   "execution_count": 20,
   "id": "74c14282",
   "metadata": {
    "execution": {
     "iopub.execute_input": "2021-11-06T01:32:53.899107Z",
     "iopub.status.busy": "2021-11-06T01:32:53.898359Z",
     "iopub.status.idle": "2021-11-06T01:32:53.923973Z",
     "shell.execute_reply": "2021-11-06T01:32:53.924533Z"
    },
    "papermill": {
     "duration": 0.07095,
     "end_time": "2021-11-06T01:32:53.924737",
     "exception": false,
     "start_time": "2021-11-06T01:32:53.853787",
     "status": "completed"
    },
    "tags": [
     "hide_input"
    ]
   },
   "outputs": [
    {
     "data": {
      "application/vnd.jupyter.widget-view+json": {
       "model_id": "bcef7140208e432b997a6d61f2c4f870",
       "version_major": 2,
       "version_minor": 0
      },
      "text/plain": [
       "HTML(value='<ul>\\n<li>(6) Voila process is leaking threads - voila - <a href=\"https://github.com/voila-dashboa…"
      ]
     },
     "metadata": {},
     "output_type": "display_data"
    }
   ],
   "source": [
    "thumbsup = issues.sort_values(\"thumbsup\", ascending=False).head(25)\n",
    "thumbsup = thumbsup[[\"title\", \"url\", \"number\", \"thumbsup\", \"repo\"]]\n",
    "\n",
    "text = []\n",
    "for ii, irow in thumbsup.iterrows():\n",
    "    itext = f\"- ({irow['thumbsup']}) {irow['title']} - {irow['repo']} - [#{irow['number']}]({irow['url']})\"\n",
    "    text.append(itext)\n",
    "text = '\\n'.join(text)\n",
    "HTML(markdown(text))"
   ]
  },
  {
   "cell_type": "markdown",
   "id": "fb3c7ea0",
   "metadata": {
    "papermill": {
     "duration": 0.043104,
     "end_time": "2021-11-06T01:32:54.012495",
     "exception": false,
     "start_time": "2021-11-06T01:32:53.969391",
     "status": "completed"
    },
    "tags": []
   },
   "source": [
    "## Commenters across repositories\n",
    "\n",
    "These are commenters across all issues and pull requests in the last several days.\n",
    "These are colored by the commenter's association with the organization. For information\n",
    "about what these associations mean, [see this StackOverflow post](https://stackoverflow.com/a/28866914/1927102)."
   ]
  },
  {
   "cell_type": "code",
   "execution_count": 21,
   "id": "a9d3fae7",
   "metadata": {
    "execution": {
     "iopub.execute_input": "2021-11-06T01:32:54.106776Z",
     "iopub.status.busy": "2021-11-06T01:32:54.105664Z",
     "iopub.status.idle": "2021-11-06T01:32:54.115650Z",
     "shell.execute_reply": "2021-11-06T01:32:54.115126Z"
    },
    "papermill": {
     "duration": 0.06148,
     "end_time": "2021-11-06T01:32:54.115801",
     "exception": false,
     "start_time": "2021-11-06T01:32:54.054321",
     "status": "completed"
    },
    "tags": [
     "remove_cell"
    ]
   },
   "outputs": [],
   "source": [
    "commentors = (\n",
    "    comments\n",
    "    .query(\"createdAt > @start_date and createdAt < @stop_date\")\n",
    "    .groupby(['org', 'repo', 'author', 'authorAssociation'])\n",
    "    .count().rename(columns={'id': 'count'})['count']\n",
    "    .reset_index()\n",
    "    .sort_values(['org', 'count'], ascending=False)\n",
    ")"
   ]
  },
  {
   "cell_type": "code",
   "execution_count": 22,
   "id": "eae1a84a",
   "metadata": {
    "execution": {
     "iopub.execute_input": "2021-11-06T01:32:54.229556Z",
     "iopub.status.busy": "2021-11-06T01:32:54.216880Z",
     "iopub.status.idle": "2021-11-06T01:32:54.232998Z",
     "shell.execute_reply": "2021-11-06T01:32:54.232263Z"
    },
    "papermill": {
     "duration": 0.072827,
     "end_time": "2021-11-06T01:32:54.233149",
     "exception": false,
     "start_time": "2021-11-06T01:32:54.160322",
     "status": "completed"
    },
    "tags": [
     "hide_input"
    ]
   },
   "outputs": [
    {
     "data": {
      "text/html": [
       "\n",
       "<div id=\"altair-viz-623b0497ca6b42969890da90e564aa14\"></div>\n",
       "<script type=\"text/javascript\">\n",
       "  (function(spec, embedOpt){\n",
       "    let outputDiv = document.currentScript.previousElementSibling;\n",
       "    if (outputDiv.id !== \"altair-viz-623b0497ca6b42969890da90e564aa14\") {\n",
       "      outputDiv = document.getElementById(\"altair-viz-623b0497ca6b42969890da90e564aa14\");\n",
       "    }\n",
       "    const paths = {\n",
       "      \"vega\": \"https://cdn.jsdelivr.net/npm//vega@5?noext\",\n",
       "      \"vega-lib\": \"https://cdn.jsdelivr.net/npm//vega-lib?noext\",\n",
       "      \"vega-lite\": \"https://cdn.jsdelivr.net/npm//vega-lite@4.8.1?noext\",\n",
       "      \"vega-embed\": \"https://cdn.jsdelivr.net/npm//vega-embed@6?noext\",\n",
       "    };\n",
       "\n",
       "    function loadScript(lib) {\n",
       "      return new Promise(function(resolve, reject) {\n",
       "        var s = document.createElement('script');\n",
       "        s.src = paths[lib];\n",
       "        s.async = true;\n",
       "        s.onload = () => resolve(paths[lib]);\n",
       "        s.onerror = () => reject(`Error loading script: ${paths[lib]}`);\n",
       "        document.getElementsByTagName(\"head\")[0].appendChild(s);\n",
       "      });\n",
       "    }\n",
       "\n",
       "    function showError(err) {\n",
       "      outputDiv.innerHTML = `<div class=\"error\" style=\"color:red;\">${err}</div>`;\n",
       "      throw err;\n",
       "    }\n",
       "\n",
       "    function displayChart(vegaEmbed) {\n",
       "      vegaEmbed(outputDiv, spec, embedOpt)\n",
       "        .catch(err => showError(`Javascript Error: ${err.message}<br>This usually means there's a typo in your chart specification. See the javascript console for the full traceback.`));\n",
       "    }\n",
       "\n",
       "    if(typeof define === \"function\" && define.amd) {\n",
       "      requirejs.config({paths});\n",
       "      require([\"vega-embed\"], displayChart, err => showError(`Error loading script: ${err.message}`));\n",
       "    } else if (typeof vegaEmbed === \"function\") {\n",
       "      displayChart(vegaEmbed);\n",
       "    } else {\n",
       "      loadScript(\"vega\")\n",
       "        .then(() => loadScript(\"vega-lite\"))\n",
       "        .then(() => loadScript(\"vega-embed\"))\n",
       "        .catch(showError)\n",
       "        .then(() => displayChart(vegaEmbed));\n",
       "    }\n",
       "  })({\"config\": {\"axisLeft\": {\"labelFontSize\": 15}, \"axisBottom\": {\"labelFontSize\": 15}}, \"hconcat\": [{\"mark\": \"bar\", \"encoding\": {\"color\": {\"type\": \"nominal\", \"field\": \"authorAssociation\", \"scale\": {\"domain\": [\"MEMBER\", \"CONTRIBUTOR\", \"COLLABORATOR\", \"NONE\"], \"range\": [\"rgb(211.82745098039214, 211.82745098039214, 211.82745098039214)\", \"rgb(166.98562091503268, 229.89803921568628, 166.98562091503268)\", \"rgb(96.37647058823529, 192.75294117647059, 96.37647058823529)\", \"rgb(0.0, 100.3921568627451, 0.0)\"]}}, \"x\": {\"type\": \"nominal\", \"field\": \"author\"}, \"y\": {\"type\": \"quantitative\", \"field\": \"count\"}}, \"title\": \"Top 50 commentors for voila-dashboards in the last 90 days\"}], \"data\": {\"name\": \"data-5b6989bd4712fe833ae63cfd4306cdb4\"}, \"$schema\": \"https://vega.github.io/schema/vega-lite/v4.8.1.json\", \"datasets\": {\"data-5b6989bd4712fe833ae63cfd4306cdb4\": [{\"author\": \"jtpio\", \"count\": 148, \"authorAssociation\": \"MEMBER\"}, {\"author\": \"trungleduc\", \"count\": 71, \"authorAssociation\": \"CONTRIBUTOR\"}, {\"author\": \"hbcarlos\", \"count\": 19, \"authorAssociation\": \"MEMBER\"}, {\"author\": \"davidbrochart\", \"count\": 14, \"authorAssociation\": \"MEMBER\"}, {\"author\": \"martinRenou\", \"count\": 13, \"authorAssociation\": \"MEMBER\"}, {\"author\": \"julian-west\", \"count\": 7, \"authorAssociation\": \"NONE\"}, {\"author\": \"SylvainCorlay\", \"count\": 7, \"authorAssociation\": \"MEMBER\"}, {\"author\": \"mariobuikhuizen\", \"count\": 7, \"authorAssociation\": \"MEMBER\"}, {\"author\": \"maartenbreddels\", \"count\": 6, \"authorAssociation\": \"MEMBER\"}, {\"author\": \"etienne-monier\", \"count\": 5, \"authorAssociation\": \"NONE\"}, {\"author\": \"dou-du\", \"count\": 4, \"authorAssociation\": \"NONE\"}, {\"author\": \"gunstonej\", \"count\": 4, \"authorAssociation\": \"NONE\"}, {\"author\": \"agoose77\", \"count\": 4, \"authorAssociation\": \"NONE\"}, {\"author\": \"ibdafna\", \"count\": 4, \"authorAssociation\": \"NONE\"}, {\"author\": \"bdklahn\", \"count\": 3, \"authorAssociation\": \"NONE\"}, {\"author\": \"marscher\", \"count\": 2, \"authorAssociation\": \"NONE\"}, {\"author\": \"choldgraf\", \"count\": 2, \"authorAssociation\": \"CONTRIBUTOR\"}, {\"author\": \"joseberlines\", \"count\": 2, \"authorAssociation\": \"NONE\"}, {\"author\": \"guimillet\", \"count\": 2, \"authorAssociation\": \"NONE\"}, {\"author\": \"majidaldo\", \"count\": 1, \"authorAssociation\": \"NONE\"}, {\"author\": \"Archemedes\", \"count\": 1, \"authorAssociation\": \"NONE\"}, {\"author\": \"josselex\", \"count\": 1, \"authorAssociation\": \"NONE\"}, {\"author\": \"RhnSharma\", \"count\": 1, \"authorAssociation\": \"CONTRIBUTOR\"}, {\"author\": \"giovannipizzi\", \"count\": 1, \"authorAssociation\": \"NONE\"}, {\"author\": \"gbrault\", \"count\": 1, \"authorAssociation\": \"NONE\"}, {\"author\": \"fperez\", \"count\": 1, \"authorAssociation\": \"NONE\"}, {\"author\": \"devmcp\", \"count\": 1, \"authorAssociation\": \"NONE\"}, {\"author\": \"brichet\", \"count\": 1, \"authorAssociation\": \"NONE\"}, {\"author\": \"vidartf\", \"count\": 1, \"authorAssociation\": \"CONTRIBUTOR\"}]}}, {\"mode\": \"vega-lite\"});\n",
       "</script>"
      ],
      "text/plain": [
       "alt.HConcatChart(...)"
      ]
     },
     "execution_count": 22,
     "metadata": {},
     "output_type": "execute_result"
    }
   ],
   "source": [
    "n_plot = 50\n",
    "charts = []\n",
    "for ii, (iorg, idata) in enumerate(commentors.groupby(['org'])):\n",
    "    title = f\"Top {n_plot} commentors for {iorg} in the last {n_days} days\"\n",
    "    idata = idata.groupby('author', as_index=False).agg({'count': 'sum', 'authorAssociation': 'first'})\n",
    "    idata = idata.sort_values('count', ascending=False).head(n_plot)\n",
    "    ch = alt.Chart(data=idata.head(n_plot), title=title).mark_bar().encode(\n",
    "        x='author',\n",
    "        y='count',\n",
    "        color=alt.Color('authorAssociation', scale=alt.Scale(domain=author_types, range=author_colors))\n",
    "    )\n",
    "    charts.append(ch)\n",
    "alt.hconcat(*charts)"
   ]
  },
  {
   "cell_type": "markdown",
   "id": "9e039c63",
   "metadata": {
    "papermill": {
     "duration": 0.040643,
     "end_time": "2021-11-06T01:32:54.314332",
     "exception": false,
     "start_time": "2021-11-06T01:32:54.273689",
     "status": "completed"
    },
    "tags": []
   },
   "source": [
    "## First responders\n",
    "\n",
    "First responders are the first people to respond to a new issue in one of the repositories.\n",
    "The following plots show first responders for recently-created issues."
   ]
  },
  {
   "cell_type": "code",
   "execution_count": 23,
   "id": "6f57ad4b",
   "metadata": {
    "execution": {
     "iopub.execute_input": "2021-11-06T01:32:54.404201Z",
     "iopub.status.busy": "2021-11-06T01:32:54.403144Z",
     "iopub.status.idle": "2021-11-06T01:32:54.475803Z",
     "shell.execute_reply": "2021-11-06T01:32:54.474955Z"
    },
    "papermill": {
     "duration": 0.121257,
     "end_time": "2021-11-06T01:32:54.476029",
     "exception": false,
     "start_time": "2021-11-06T01:32:54.354772",
     "status": "completed"
    },
    "tags": [
     "remove_cell"
    ]
   },
   "outputs": [],
   "source": [
    "first_comments = []\n",
    "for (org, repo, issue_id), i_comments in comments.groupby(['org', 'repo', 'id']):\n",
    "    ix_min = pd.to_datetime(i_comments['createdAt']).idxmin()\n",
    "    first_comment = i_comments.loc[ix_min]\n",
    "    if isinstance(first_comment, pd.DataFrame):\n",
    "        first_comment = first_comment.iloc[0]\n",
    "    first_comments.append(first_comment)\n",
    "first_comments = pd.concat(first_comments, axis=1).T\n",
    "\n",
    "# Make up counts for viz\n",
    "first_responder_counts = first_comments.groupby(['org', 'author', 'authorAssociation'], as_index=False).\\\n",
    "    count().rename(columns={'id': 'n_first_responses'}).sort_values(['org', 'n_first_responses'], ascending=False)\n"
   ]
  },
  {
   "cell_type": "code",
   "execution_count": 24,
   "id": "81659f61",
   "metadata": {
    "execution": {
     "iopub.execute_input": "2021-11-06T01:32:54.588688Z",
     "iopub.status.busy": "2021-11-06T01:32:54.581134Z",
     "iopub.status.idle": "2021-11-06T01:32:54.591953Z",
     "shell.execute_reply": "2021-11-06T01:32:54.591455Z"
    },
    "papermill": {
     "duration": 0.071267,
     "end_time": "2021-11-06T01:32:54.592106",
     "exception": false,
     "start_time": "2021-11-06T01:32:54.520839",
     "status": "completed"
    },
    "tags": [
     "hide_input"
    ]
   },
   "outputs": [
    {
     "data": {
      "text/html": [
       "\n",
       "<div id=\"altair-viz-6bfc84ec936f48d28d45541514bcc10b\"></div>\n",
       "<script type=\"text/javascript\">\n",
       "  (function(spec, embedOpt){\n",
       "    let outputDiv = document.currentScript.previousElementSibling;\n",
       "    if (outputDiv.id !== \"altair-viz-6bfc84ec936f48d28d45541514bcc10b\") {\n",
       "      outputDiv = document.getElementById(\"altair-viz-6bfc84ec936f48d28d45541514bcc10b\");\n",
       "    }\n",
       "    const paths = {\n",
       "      \"vega\": \"https://cdn.jsdelivr.net/npm//vega@5?noext\",\n",
       "      \"vega-lib\": \"https://cdn.jsdelivr.net/npm//vega-lib?noext\",\n",
       "      \"vega-lite\": \"https://cdn.jsdelivr.net/npm//vega-lite@4.8.1?noext\",\n",
       "      \"vega-embed\": \"https://cdn.jsdelivr.net/npm//vega-embed@6?noext\",\n",
       "    };\n",
       "\n",
       "    function loadScript(lib) {\n",
       "      return new Promise(function(resolve, reject) {\n",
       "        var s = document.createElement('script');\n",
       "        s.src = paths[lib];\n",
       "        s.async = true;\n",
       "        s.onload = () => resolve(paths[lib]);\n",
       "        s.onerror = () => reject(`Error loading script: ${paths[lib]}`);\n",
       "        document.getElementsByTagName(\"head\")[0].appendChild(s);\n",
       "      });\n",
       "    }\n",
       "\n",
       "    function showError(err) {\n",
       "      outputDiv.innerHTML = `<div class=\"error\" style=\"color:red;\">${err}</div>`;\n",
       "      throw err;\n",
       "    }\n",
       "\n",
       "    function displayChart(vegaEmbed) {\n",
       "      vegaEmbed(outputDiv, spec, embedOpt)\n",
       "        .catch(err => showError(`Javascript Error: ${err.message}<br>This usually means there's a typo in your chart specification. See the javascript console for the full traceback.`));\n",
       "    }\n",
       "\n",
       "    if(typeof define === \"function\" && define.amd) {\n",
       "      requirejs.config({paths});\n",
       "      require([\"vega-embed\"], displayChart, err => showError(`Error loading script: ${err.message}`));\n",
       "    } else if (typeof vegaEmbed === \"function\") {\n",
       "      displayChart(vegaEmbed);\n",
       "    } else {\n",
       "      loadScript(\"vega\")\n",
       "        .then(() => loadScript(\"vega-lite\"))\n",
       "        .then(() => loadScript(\"vega-embed\"))\n",
       "        .catch(showError)\n",
       "        .then(() => displayChart(vegaEmbed));\n",
       "    }\n",
       "  })({\"config\": {\"axisLeft\": {\"labelFontSize\": 15}, \"axisBottom\": {\"labelFontSize\": 15}}, \"data\": {\"name\": \"data-b0f75eb79cb3257ec078ba60b80b75ab\"}, \"mark\": \"bar\", \"encoding\": {\"color\": {\"type\": \"nominal\", \"field\": \"authorAssociation\", \"scale\": {\"domain\": [\"MEMBER\", \"CONTRIBUTOR\", \"COLLABORATOR\", \"NONE\"], \"range\": [\"rgb(211.82745098039214, 211.82745098039214, 211.82745098039214)\", \"rgb(166.98562091503268, 229.89803921568628, 166.98562091503268)\", \"rgb(96.37647058823529, 192.75294117647059, 96.37647058823529)\", \"rgb(0.0, 100.3921568627451, 0.0)\"]}}, \"x\": {\"type\": \"nominal\", \"field\": \"author\"}, \"y\": {\"type\": \"quantitative\", \"field\": \"n_first_responses\"}}, \"title\": \"Top 50 first responders for voila-dashboards in the last 90 days\", \"$schema\": \"https://vega.github.io/schema/vega-lite/v4.8.1.json\", \"datasets\": {\"data-b0f75eb79cb3257ec078ba60b80b75ab\": [{\"author\": \"jtpio\", \"n_first_responses\": 54, \"authorAssociation\": \"MEMBER\"}, {\"author\": \"trungleduc\", \"n_first_responses\": 19, \"authorAssociation\": \"CONTRIBUTOR\"}, {\"author\": \"hbcarlos\", \"n_first_responses\": 6, \"authorAssociation\": \"MEMBER\"}, {\"author\": \"SylvainCorlay\", \"n_first_responses\": 3, \"authorAssociation\": \"MEMBER\"}, {\"author\": \"etienne-monier\", \"n_first_responses\": 3, \"authorAssociation\": \"NONE\"}, {\"author\": \"martinRenou\", \"n_first_responses\": 3, \"authorAssociation\": \"MEMBER\"}, {\"author\": \"RhnSharma\", \"n_first_responses\": 1, \"authorAssociation\": \"CONTRIBUTOR\"}, {\"author\": \"agoose77\", \"n_first_responses\": 1, \"authorAssociation\": \"NONE\"}, {\"author\": \"davidbrochart\", \"n_first_responses\": 1, \"authorAssociation\": \"MEMBER\"}, {\"author\": \"devmcp\", \"n_first_responses\": 1, \"authorAssociation\": \"NONE\"}, {\"author\": \"guimillet\", \"n_first_responses\": 1, \"authorAssociation\": \"NONE\"}, {\"author\": \"majidaldo\", \"n_first_responses\": 1, \"authorAssociation\": \"NONE\"}, {\"author\": \"mariobuikhuizen\", \"n_first_responses\": 1, \"authorAssociation\": \"MEMBER\"}, {\"author\": \"nariyar\", \"n_first_responses\": 1, \"authorAssociation\": \"NONE\"}, {\"author\": \"roman-kouzmenko\", \"n_first_responses\": 1, \"authorAssociation\": \"NONE\"}]}}, {\"mode\": \"vega-lite\"});\n",
       "</script>"
      ],
      "text/plain": [
       "alt.Chart(...)"
      ]
     },
     "execution_count": 24,
     "metadata": {},
     "output_type": "execute_result"
    }
   ],
   "source": [
    "n_plot = 50\n",
    "\n",
    "title = f\"Top {n_plot} first responders for {github_org} in the last {n_days} days\"\n",
    "idata = first_responder_counts.groupby('author', as_index=False).agg({'n_first_responses': 'sum', 'authorAssociation': 'first'})\n",
    "idata = idata.sort_values('n_first_responses', ascending=False).head(n_plot)\n",
    "ch = alt.Chart(data=idata.head(n_plot), title=title).mark_bar().encode(\n",
    "    x='author',\n",
    "    y='n_first_responses',\n",
    "    color=alt.Color('authorAssociation', scale=alt.Scale(domain=author_types, range=author_colors))\n",
    ")\n",
    "ch"
   ]
  },
  {
   "cell_type": "markdown",
   "id": "c1dc9f5c",
   "metadata": {
    "papermill": {
     "duration": 0.04124,
     "end_time": "2021-11-06T01:32:54.677106",
     "exception": false,
     "start_time": "2021-11-06T01:32:54.635866",
     "status": "completed"
    },
    "tags": []
   },
   "source": [
    "## Recent activity\n",
    "\n",
    "### A list of merged PRs by project\n",
    "\n",
    "Below is a tabbed readout of recently-merged PRs. Check out the title to get an idea for what they\n",
    "implemented, and be sure to thank the PR author for their hard work!"
   ]
  },
  {
   "cell_type": "code",
   "execution_count": 25,
   "id": "7f16dc39",
   "metadata": {
    "execution": {
     "iopub.execute_input": "2021-11-06T01:32:54.793899Z",
     "iopub.status.busy": "2021-11-06T01:32:54.780631Z",
     "iopub.status.idle": "2021-11-06T01:32:54.850437Z",
     "shell.execute_reply": "2021-11-06T01:32:54.849231Z"
    },
    "papermill": {
     "duration": 0.131793,
     "end_time": "2021-11-06T01:32:54.850571",
     "exception": false,
     "start_time": "2021-11-06T01:32:54.718778",
     "status": "completed"
    },
    "tags": [
     "hide_input"
    ]
   },
   "outputs": [
    {
     "data": {
      "application/vnd.jupyter.widget-view+json": {
       "model_id": "09ddbde787a34894817774211fffd578",
       "version_major": 2,
       "version_minor": 0
      },
      "text/plain": [
       "Tab(children=(HTML(value='<h4>Closed PRs for repo: <a href=\"https://github.com/voila-dashboards/voila\">voila-d…"
      ]
     },
     "metadata": {},
     "output_type": "display_data"
    }
   ],
   "source": [
    "tabs = widgets.Tab(children=[])\n",
    "\n",
    "for ii, ((org, repo), imerged) in enumerate(merged.query(\"repo in @use_repos\").groupby(['org', 'repo'])):\n",
    "    merged_by = {}\n",
    "    pr_by = {}\n",
    "    issue_md = []\n",
    "    issue_md.append(f\"#### Closed PRs for repo: [{org}/{repo}](https://github.com/{github_org}/{repo})\")\n",
    "    issue_md.append(\"\")\n",
    "    issue_md.append(f\"##### \")\n",
    "\n",
    "    for _, ipr in imerged.iterrows():\n",
    "        user_name = ipr['author']\n",
    "        user_url = author_url(user_name)\n",
    "        pr_number = ipr['number']\n",
    "        pr_html = ipr['url']\n",
    "        pr_title = ipr['title']\n",
    "        pr_closedby = ipr['mergedBy']\n",
    "        pr_closedby_url = f\"https://github.com/{pr_closedby}\"\n",
    "        if user_name not in pr_by:\n",
    "            pr_by[user_name] = 1\n",
    "        else:\n",
    "            pr_by[user_name] += 1\n",
    "\n",
    "        if pr_closedby not in merged_by:\n",
    "            merged_by[pr_closedby] = 1\n",
    "        else:\n",
    "            merged_by[pr_closedby] += 1\n",
    "        text = f\"* [(#{pr_number})]({pr_html}): _{pr_title}_ by **[@{user_name}]({user_url})** merged by **[@{pr_closedby}]({pr_closedby_url})**\"\n",
    "        issue_md.append(text)\n",
    "    \n",
    "    issue_md.append('')\n",
    "    markdown_html = markdown('\\n'.join(issue_md))\n",
    "\n",
    "    children = list(tabs.children)\n",
    "    children.append(HTML(markdown_html))\n",
    "    tabs.children = tuple(children)\n",
    "    tabs.set_title(ii, repo)\n",
    "tabs"
   ]
  },
  {
   "cell_type": "markdown",
   "id": "b1c51751",
   "metadata": {
    "papermill": {
     "duration": 0.046045,
     "end_time": "2021-11-06T01:32:54.940826",
     "exception": false,
     "start_time": "2021-11-06T01:32:54.894781",
     "status": "completed"
    },
    "tags": []
   },
   "source": [
    "### A list of recent issues\n",
    "\n",
    "Below is a list of issues with recent activity in each repository. If they seem of interest\n",
    "to you, click on their links and jump in to participate!"
   ]
  },
  {
   "cell_type": "code",
   "execution_count": 26,
   "id": "9ae5fdeb",
   "metadata": {
    "execution": {
     "iopub.execute_input": "2021-11-06T01:32:55.036811Z",
     "iopub.status.busy": "2021-11-06T01:32:55.032127Z",
     "iopub.status.idle": "2021-11-06T01:32:55.039006Z",
     "shell.execute_reply": "2021-11-06T01:32:55.039580Z"
    },
    "papermill": {
     "duration": 0.055497,
     "end_time": "2021-11-06T01:32:55.039757",
     "exception": false,
     "start_time": "2021-11-06T01:32:54.984260",
     "status": "completed"
    },
    "tags": [
     "remove_cell"
    ]
   },
   "outputs": [],
   "source": [
    "# Add comment count data to issues and PRs\n",
    "comment_counts = (\n",
    "    comments\n",
    "    .query(\"createdAt > @start_date and createdAt < @stop_date\")\n",
    "    .groupby(['org', 'repo', 'id'])\n",
    "    .count().iloc[:, 0].to_frame()\n",
    ")\n",
    "comment_counts.columns = ['n_comments']\n",
    "comment_counts = comment_counts.reset_index()"
   ]
  },
  {
   "cell_type": "code",
   "execution_count": 27,
   "id": "f126f974",
   "metadata": {
    "execution": {
     "iopub.execute_input": "2021-11-06T01:32:55.139562Z",
     "iopub.status.busy": "2021-11-06T01:32:55.128858Z",
     "iopub.status.idle": "2021-11-06T01:32:55.232837Z",
     "shell.execute_reply": "2021-11-06T01:32:55.223935Z"
    },
    "papermill": {
     "duration": 0.152661,
     "end_time": "2021-11-06T01:32:55.232954",
     "exception": false,
     "start_time": "2021-11-06T01:32:55.080293",
     "status": "completed"
    },
    "tags": [
     "hide_input"
    ],
    "toc-hr-collapsed": false
   },
   "outputs": [
    {
     "data": {
      "text/markdown": [
       "Here are the top 5 active issues in each repository in the last 90 days"
      ],
      "text/plain": [
       "<IPython.core.display.Markdown object>"
      ]
     },
     "metadata": {},
     "output_type": "display_data"
    },
    {
     "data": {
      "application/vnd.jupyter.widget-view+json": {
       "model_id": "43036814088244d6a4087e5a591e7ab3",
       "version_major": 2,
       "version_minor": 0
      },
      "text/plain": [
       "Tab(children=(HTML(value='<h5><a href=\"https://github.com/voila-dashboards/voila\">voila-dashboards/voila</a></…"
      ]
     },
     "metadata": {},
     "output_type": "display_data"
    }
   ],
   "source": [
    "n_plot = 5\n",
    "tabs = widgets.Tab(children=[])\n",
    "\n",
    "for ii, (repo, i_issues) in enumerate(comment_counts.query(\"repo in @use_repos\").groupby('repo')):\n",
    "    \n",
    "    issue_md = []\n",
    "    issue_md.append(\"\")\n",
    "    issue_md.append(f\"##### [{github_org}/{repo}](https://github.com/{github_org}/{repo})\")\n",
    "\n",
    "    top_issues = i_issues.sort_values('n_comments', ascending=False).head(n_plot)\n",
    "    top_issue_list = pd.merge(issues, top_issues, left_on=['org', 'repo', 'id'], right_on=['org', 'repo', 'id'])\n",
    "    for _, issue in top_issue_list.sort_values('n_comments', ascending=False).head(n_plot).iterrows():\n",
    "        user_name = issue['author']\n",
    "        user_url = author_url(user_name)\n",
    "        issue_number = issue['number']\n",
    "        issue_html = issue['url']\n",
    "        issue_title = issue['title']\n",
    "\n",
    "        text = f\"* [(#{issue_number})]({issue_html}): _{issue_title}_ by **[@{user_name}]({user_url})**\"\n",
    "        issue_md.append(text)\n",
    "\n",
    "    issue_md.append('')\n",
    "    md_html = HTML(markdown('\\n'.join(issue_md)))\n",
    "\n",
    "    children = list(tabs.children)\n",
    "    children.append(HTML(markdown('\\n'.join(issue_md))))\n",
    "    tabs.children = tuple(children)\n",
    "    tabs.set_title(ii, repo)\n",
    "    \n",
    "display(Markdown(f\"Here are the top {n_plot} active issues in each repository in the last {n_days} days\"))\n",
    "display(tabs)"
   ]
  }
 ],
 "metadata": {
  "kernelspec": {
   "display_name": "Python 3 (ipykernel)",
   "language": "python",
   "name": "python3"
  },
  "language_info": {
   "codemirror_mode": {
    "name": "ipython",
    "version": 3
   },
   "file_extension": ".py",
   "mimetype": "text/x-python",
   "name": "python",
   "nbconvert_exporter": "python",
   "pygments_lexer": "ipython3",
   "version": "3.7.12"
  },
  "papermill": {
   "default_parameters": {},
   "duration": 6.444875,
   "end_time": "2021-11-06T01:32:55.689574",
   "environment_variables": {},
   "exception": null,
   "input_path": "./templates/org_report.ipynb",
   "output_path": "generated/book/voila-dashboards.ipynb",
   "parameters": {
    "github_org": "voila-dashboards",
    "n_days": 90
   },
   "start_time": "2021-11-06T01:32:49.244699",
   "version": "2.3.3"
  },
  "widgets": {
   "application/vnd.jupyter.widget-state+json": {
    "state": {
     "09ddbde787a34894817774211fffd578": {
      "model_module": "@jupyter-widgets/controls",
      "model_module_version": "1.5.0",
      "model_name": "TabModel",
      "state": {
       "_dom_classes": [],
       "_model_module": "@jupyter-widgets/controls",
       "_model_module_version": "1.5.0",
       "_model_name": "TabModel",
       "_titles": {
        "0": "voila",
        "1": "voila-gridstack"
       },
       "_view_count": null,
       "_view_module": "@jupyter-widgets/controls",
       "_view_module_version": "1.5.0",
       "_view_name": "TabView",
       "box_style": "",
       "children": [
        "IPY_MODEL_128c52e7c36d4636839c41c6bc904dfc",
        "IPY_MODEL_49d555cb57234473a3add27af3bc31d9"
       ],
       "layout": "IPY_MODEL_e5c1821ea5654f8689cbdbfa2e584844",
       "selected_index": 0
      }
     },
     "0ae6cd2d70c147f0bd9774b052c8402c": {
      "model_module": "@jupyter-widgets/controls",
      "model_module_version": "1.5.0",
      "model_name": "HTMLModel",
      "state": {
       "_dom_classes": [],
       "_model_module": "@jupyter-widgets/controls",
       "_model_module_version": "1.5.0",
       "_model_name": "HTMLModel",
       "_view_count": null,
       "_view_module": "@jupyter-widgets/controls",
       "_view_module_version": "1.5.0",
       "_view_name": "HTMLView",
       "description": "",
       "description_tooltip": null,
       "layout": "IPY_MODEL_93bdf4b9d26d47299fb67efdc7454f14",
       "placeholder": "​",
       "style": "IPY_MODEL_92b49682de324a2b9e8c4c42080d00ff",
       "value": "<h5><a href=\"https://github.com/voila-dashboards/voila-vuetify\">voila-dashboards/voila-vuetify</a></h5>\n<ul>\n<li><a href=\"https://github.com/voila-dashboards/voila-vuetify/issues/49\">(#49)</a>: <em>Loading widgets fails if the component template is in a separated file</em> by <strong><a href=\"https://github.com/etienne-monier\">@etienne-monier</a></strong></li>\n<li><a href=\"https://github.com/voila-dashboards/voila-vuetify/issues/53\">(#53)</a>: <em>MDI dependency</em> by <strong><a href=\"https://github.com/guimillet\">@guimillet</a></strong></li>\n<li><a href=\"https://github.com/voila-dashboards/voila-vuetify/issues/48\">(#48)</a>: <em>I can't fill in the base template</em> by <strong><a href=\"https://github.com/etienne-monier\">@etienne-monier</a></strong></li>\n<li><a href=\"https://github.com/voila-dashboards/voila-vuetify/issues/52\">(#52)</a>: <em>Run vue in development mode to use dev tools</em> by <strong><a href=\"https://github.com/etienne-monier\">@etienne-monier</a></strong></li>\n<li><a href=\"https://github.com/voila-dashboards/voila-vuetify/issues/50\">(#50)</a>: <em>ManyWidgets.ipynb mount_id</em> by <strong><a href=\"https://github.com/guimillet\">@guimillet</a></strong></li>\n</ul>"
      }
     },
     "11a22744874d4b18904ea45277127721": {
      "model_module": "@jupyter-widgets/controls",
      "model_module_version": "1.5.0",
      "model_name": "DescriptionStyleModel",
      "state": {
       "_model_module": "@jupyter-widgets/controls",
       "_model_module_version": "1.5.0",
       "_model_name": "DescriptionStyleModel",
       "_view_count": null,
       "_view_module": "@jupyter-widgets/base",
       "_view_module_version": "1.2.0",
       "_view_name": "StyleView",
       "description_width": ""
      }
     },
     "128c52e7c36d4636839c41c6bc904dfc": {
      "model_module": "@jupyter-widgets/controls",
      "model_module_version": "1.5.0",
      "model_name": "HTMLModel",
      "state": {
       "_dom_classes": [],
       "_model_module": "@jupyter-widgets/controls",
       "_model_module_version": "1.5.0",
       "_model_name": "HTMLModel",
       "_view_count": null,
       "_view_module": "@jupyter-widgets/controls",
       "_view_module_version": "1.5.0",
       "_view_name": "HTMLView",
       "description": "",
       "description_tooltip": null,
       "layout": "IPY_MODEL_c8af8e0662a34d59876620a9b78233b8",
       "placeholder": "​",
       "style": "IPY_MODEL_7e6a5081b07e44c6b70c0b92f10a8559",
       "value": "<h4>Closed PRs for repo: <a href=\"https://github.com/voila-dashboards/voila\">voila-dashboards/voila</a></h4>\n<h5></h5>\n<ul>\n<li><a href=\"https://github.com/voila-dashboards/voila/pull/1022\">(#1022)</a>: <em>Update Galata</em> by <strong><a href=\"https://github.com/jtpio\">@jtpio</a></strong> merged by <strong><a href=\"https://github.com/trungleduc\">@trungleduc</a></strong></li>\n<li><a href=\"https://github.com/voila-dashboards/voila/pull/1018\">(#1018)</a>: <em>Automated Changelog Entry for 0.3.0b0 on main</em> by <strong><a href=\"https://github.com/trungleduc\">@trungleduc</a></strong> merged by <strong><a href=\"https://github.com/trungleduc\">@trungleduc</a></strong></li>\n<li><a href=\"https://github.com/voila-dashboards/voila/pull/1015\">(#1015)</a>: <em>Update docs for testing</em> by <strong><a href=\"https://github.com/davidbrochart\">@davidbrochart</a></strong> merged by <strong><a href=\"https://github.com/trungleduc\">@trungleduc</a></strong></li>\n<li><a href=\"https://github.com/voila-dashboards/voila/pull/1014\">(#1014)</a>: <em>Fix failed tests on CI</em> by <strong><a href=\"https://github.com/trungleduc\">@trungleduc</a></strong> merged by <strong><a href=\"https://github.com/jtpio\">@jtpio</a></strong></li>\n<li><a href=\"https://github.com/voila-dashboards/voila/pull/1013\">(#1013)</a>: _Enable tests on <code>Windows</code> _ by <strong><a href=\"https://github.com/trungleduc\">@trungleduc</a></strong> merged by <strong><a href=\"https://github.com/martinRenou\">@martinRenou</a></strong></li>\n<li><a href=\"https://github.com/voila-dashboards/voila/pull/1012\">(#1012)</a>: <em>Fix installation instructions</em> by <strong><a href=\"https://github.com/davidbrochart\">@davidbrochart</a></strong> merged by <strong><a href=\"https://github.com/trungleduc\">@trungleduc</a></strong></li>\n<li><a href=\"https://github.com/voila-dashboards/voila/pull/1007\">(#1007)</a>: <em>Pass version spec as a GitHub Actions input</em> by <strong><a href=\"https://github.com/jtpio\">@jtpio</a></strong> merged by <strong><a href=\"https://github.com/trungleduc\">@trungleduc</a></strong></li>\n<li><a href=\"https://github.com/voila-dashboards/voila/pull/1004\">(#1004)</a>: <em>[0.2.x] Run Check Release workflow for <code>0.2.x</code></em> by <strong><a href=\"https://github.com/jtpio\">@jtpio</a></strong> merged by <strong><a href=\"https://github.com/jtpio\">@jtpio</a></strong></li>\n<li><a href=\"https://github.com/voila-dashboards/voila/pull/1002\">(#1002)</a>: <em>Add next to the bump script</em> by <strong><a href=\"https://github.com/jtpio\">@jtpio</a></strong> merged by <strong><a href=\"https://github.com/trungleduc\">@trungleduc</a></strong></li>\n<li><a href=\"https://github.com/voila-dashboards/voila/pull/1001\">(#1001)</a>: <em>Automated Changelog Entry for 0.3.0a2 on main</em> by <strong><a href=\"https://github.com/trungleduc\">@trungleduc</a></strong> merged by <strong><a href=\"https://github.com/trungleduc\">@trungleduc</a></strong></li>\n<li><a href=\"https://github.com/voila-dashboards/voila/pull/1000\">(#1000)</a>: <em>Add a separate line for <code>jupyter server extension enable</code> in README</em> by <strong><a href=\"https://github.com/StanczakDominik\">@StanczakDominik</a></strong> merged by <strong><a href=\"https://github.com/jtpio\">@jtpio</a></strong></li>\n<li><a href=\"https://github.com/voila-dashboards/voila/pull/999\">(#999)</a>: <em>Add support  for query variables in preheat kernel mode</em> by <strong><a href=\"https://github.com/trungleduc\">@trungleduc</a></strong> merged by <strong><a href=\"https://github.com/SylvainCorlay\">@SylvainCorlay</a></strong></li>\n<li><a href=\"https://github.com/voila-dashboards/voila/pull/998\">(#998)</a>: <em>Automated Changelog Entry for 0.3.0a1 on main</em> by <strong><a href=\"https://github.com/jtpio\">@jtpio</a></strong> merged by <strong><a href=\"https://github.com/jtpio\">@jtpio</a></strong></li>\n<li><a href=\"https://github.com/voila-dashboards/voila/pull/996\">(#996)</a>: <em>Simplify tests for preheat kernel mode</em> by <strong><a href=\"https://github.com/trungleduc\">@trungleduc</a></strong> merged by <strong><a href=\"https://github.com/jtpio\">@jtpio</a></strong></li>\n<li><a href=\"https://github.com/voila-dashboards/voila/pull/995\">(#995)</a>: <em>Bot skips Binder badge comment</em> by <strong><a href=\"https://github.com/trungleduc\">@trungleduc</a></strong> merged by <strong><a href=\"https://github.com/jtpio\">@jtpio</a></strong></li>\n<li><a href=\"https://github.com/voila-dashboards/voila/pull/993\">(#993)</a>: <em>Fix wrong base_url</em> by <strong><a href=\"https://github.com/trungleduc\">@trungleduc</a></strong> merged by <strong><a href=\"https://github.com/jtpio\">@jtpio</a></strong></li>\n<li><a href=\"https://github.com/voila-dashboards/voila/pull/990\">(#990)</a>: <em>Automated Changelog Entry for 0.3.0a0 on main</em> by <strong><a href=\"https://github.com/jtpio\">@jtpio</a></strong> merged by <strong><a href=\"https://github.com/jtpio\">@jtpio</a></strong></li>\n<li><a href=\"https://github.com/voila-dashboards/voila/pull/988\">(#988)</a>: <em>Automated Changelog Entry for 0.2.16 on main</em> by <strong><a href=\"https://github.com/jtpio\">@jtpio</a></strong> merged by <strong><a href=\"https://github.com/jtpio\">@jtpio</a></strong></li>\n<li><a href=\"https://github.com/voila-dashboards/voila/pull/987\">(#987)</a>: <em>Pin openssl to v1.1.1l</em> by <strong><a href=\"https://github.com/trungleduc\">@trungleduc</a></strong> merged by <strong><a href=\"https://github.com/jtpio\">@jtpio</a></strong></li>\n<li><a href=\"https://github.com/voila-dashboards/voila/pull/983\">(#983)</a>: <em>Fix <code>post</code> function in log template</em> by <strong><a href=\"https://github.com/trungleduc\">@trungleduc</a></strong> merged by <strong><a href=\"https://github.com/jtpio\">@jtpio</a></strong></li>\n<li><a href=\"https://github.com/voila-dashboards/voila/pull/982\">(#982)</a>: <em>Fix example code in <code>basics.ipynb</code></em> by <strong><a href=\"https://github.com/jtpio\">@jtpio</a></strong> merged by <strong><a href=\"https://github.com/jtpio\">@jtpio</a></strong></li>\n<li><a href=\"https://github.com/voila-dashboards/voila/pull/981\">(#981)</a>: <em>0.2.15 Release fixes</em> by <strong><a href=\"https://github.com/jtpio\">@jtpio</a></strong> merged by <strong><a href=\"https://github.com/jtpio\">@jtpio</a></strong></li>\n<li><a href=\"https://github.com/voila-dashboards/voila/pull/980\">(#980)</a>: <em>Update to nbconvert 6.2</em> by <strong><a href=\"https://github.com/SylvainCorlay\">@SylvainCorlay</a></strong> merged by <strong><a href=\"https://github.com/SylvainCorlay\">@SylvainCorlay</a></strong></li>\n<li><a href=\"https://github.com/voila-dashboards/voila/pull/978\">(#978)</a>: <em>Update reference screenshot for ipympl notebook</em> by <strong><a href=\"https://github.com/trungleduc\">@trungleduc</a></strong> merged by <strong><a href=\"https://github.com/jtpio\">@jtpio</a></strong></li>\n<li><a href=\"https://github.com/voila-dashboards/voila/pull/972\">(#972)</a>: _ Use <code>sendBeacon</code> to send kernel shutdown request._ by <strong><a href=\"https://github.com/trungleduc\">@trungleduc</a></strong> merged by <strong><a href=\"https://github.com/jtpio\">@jtpio</a></strong></li>\n<li><a href=\"https://github.com/voila-dashboards/voila/pull/970\">(#970)</a>: <em>Automated Changelog Entry for 0.2.14 on main</em> by <strong><a href=\"https://github.com/jtpio\">@jtpio</a></strong> merged by <strong><a href=\"https://github.com/jtpio\">@jtpio</a></strong></li>\n<li><a href=\"https://github.com/voila-dashboards/voila/pull/969\">(#969)</a>: <em>Cleanup executor resources after execution</em> by <strong><a href=\"https://github.com/martinRenou\">@martinRenou</a></strong> merged by <strong><a href=\"https://github.com/jtpio\">@jtpio</a></strong></li>\n<li><a href=\"https://github.com/voila-dashboards/voila/pull/968\">(#968)</a>: <em>Rename to <code>main</code></em> by <strong><a href=\"https://github.com/jtpio\">@jtpio</a></strong> merged by <strong><a href=\"https://github.com/jtpio\">@jtpio</a></strong></li>\n<li><a href=\"https://github.com/voila-dashboards/voila/pull/966\">(#966)</a>: <em>Update release instructions to recommend using the releaser</em> by <strong><a href=\"https://github.com/jtpio\">@jtpio</a></strong> merged by <strong><a href=\"https://github.com/jtpio\">@jtpio</a></strong></li>\n<li><a href=\"https://github.com/voila-dashboards/voila/pull/965\">(#965)</a>: <em>Automated Changelog Entry for 0.2.13 on master</em> by <strong><a href=\"https://github.com/jtpio\">@jtpio</a></strong> merged by <strong><a href=\"https://github.com/jtpio\">@jtpio</a></strong></li>\n<li><a href=\"https://github.com/voila-dashboards/voila/pull/964\">(#964)</a>: <em>Upload the distributions built by the releaser</em> by <strong><a href=\"https://github.com/jtpio\">@jtpio</a></strong> merged by <strong><a href=\"https://github.com/jtpio\">@jtpio</a></strong></li>\n<li><a href=\"https://github.com/voila-dashboards/voila/pull/963\">(#963)</a>: <em>Make <code>INotebookTracker</code> optional</em> by <strong><a href=\"https://github.com/jtpio\">@jtpio</a></strong> merged by <strong><a href=\"https://github.com/jtpio\">@jtpio</a></strong></li>\n<li><a href=\"https://github.com/voila-dashboards/voila/pull/962\">(#962)</a>: <em>Add UI test and benchmark report</em> by <strong><a href=\"https://github.com/trungleduc\">@trungleduc</a></strong> merged by <strong><a href=\"https://github.com/jtpio\">@jtpio</a></strong></li>\n<li><a href=\"https://github.com/voila-dashboards/voila/pull/960\">(#960)</a>: <em>Clean up bump version script</em> by <strong><a href=\"https://github.com/jtpio\">@jtpio</a></strong> merged by <strong><a href=\"https://github.com/jtpio\">@jtpio</a></strong></li>\n<li><a href=\"https://github.com/voila-dashboards/voila/pull/959\">(#959)</a>: <em>Default to clean all for the preview extension</em> by <strong><a href=\"https://github.com/jtpio\">@jtpio</a></strong> merged by <strong><a href=\"https://github.com/jtpio\">@jtpio</a></strong></li>\n<li><a href=\"https://github.com/voila-dashboards/voila/pull/957\">(#957)</a>: <em>Minor release fixes</em> by <strong><a href=\"https://github.com/jtpio\">@jtpio</a></strong> merged by <strong><a href=\"https://github.com/jtpio\">@jtpio</a></strong></li>\n<li><a href=\"https://github.com/voila-dashboards/voila/pull/956\">(#956)</a>: <em>Automated Changelog Entry for 0.2.12 on master</em> by <strong><a href=\"https://github.com/jtpio\">@jtpio</a></strong> merged by <strong><a href=\"https://github.com/jtpio\">@jtpio</a></strong></li>\n<li><a href=\"https://github.com/voila-dashboards/voila/pull/954\">(#954)</a>: <em>Add a script to bump the version</em> by <strong><a href=\"https://github.com/jtpio\">@jtpio</a></strong> merged by <strong><a href=\"https://github.com/jtpio\">@jtpio</a></strong></li>\n<li><a href=\"https://github.com/voila-dashboards/voila/pull/953\">(#953)</a>: <em>Allow for Jupyter Client 7</em> by <strong><a href=\"https://github.com/jtpio\">@jtpio</a></strong> merged by <strong><a href=\"https://github.com/trungleduc\">@trungleduc</a></strong></li>\n<li><a href=\"https://github.com/voila-dashboards/voila/pull/952\">(#952)</a>: <em>Update to lerna 4</em> by <strong><a href=\"https://github.com/jtpio\">@jtpio</a></strong> merged by <strong><a href=\"https://github.com/jtpio\">@jtpio</a></strong></li>\n<li><a href=\"https://github.com/voila-dashboards/voila/pull/951\">(#951)</a>: <em>Add <code>allow-popups</code> and <code>allow-modals</code> to the preview sandbox</em> by <strong><a href=\"https://github.com/jtpio\">@jtpio</a></strong> merged by <strong><a href=\"https://github.com/jtpio\">@jtpio</a></strong></li>\n<li><a href=\"https://github.com/voila-dashboards/voila/pull/949\">(#949)</a>: <em>Add Binder on PR workflow</em> by <strong><a href=\"https://github.com/jtpio\">@jtpio</a></strong> merged by <strong><a href=\"https://github.com/jtpio\">@jtpio</a></strong></li>\n<li><a href=\"https://github.com/voila-dashboards/voila/pull/946\">(#946)</a>: <em>Update the UI Tests setup</em> by <strong><a href=\"https://github.com/jtpio\">@jtpio</a></strong> merged by <strong><a href=\"https://github.com/jtpio\">@jtpio</a></strong></li>\n<li><a href=\"https://github.com/voila-dashboards/voila/pull/944\">(#944)</a>: <em>add JupyterLab trove classifiers</em> by <strong><a href=\"https://github.com/RhnSharma\">@RhnSharma</a></strong> merged by <strong><a href=\"https://github.com/jtpio\">@jtpio</a></strong></li>\n<li><a href=\"https://github.com/voila-dashboards/voila/pull/943\">(#943)</a>: <em>Update to Jupyter Packaging 0.10</em> by <strong><a href=\"https://github.com/jtpio\">@jtpio</a></strong> merged by <strong><a href=\"https://github.com/jtpio\">@jtpio</a></strong></li>\n<li><a href=\"https://github.com/voila-dashboards/voila/pull/939\">(#939)</a>: <em>Add changelog entry for 0.2.11</em> by <strong><a href=\"https://github.com/jtpio\">@jtpio</a></strong> merged by <strong><a href=\"https://github.com/jtpio\">@jtpio</a></strong></li>\n<li><a href=\"https://github.com/voila-dashboards/voila/pull/936\">(#936)</a>: <em>Add pooling heated kernels and pre-rendered notebook</em> by <strong><a href=\"https://github.com/trungleduc\">@trungleduc</a></strong> merged by <strong><a href=\"https://github.com/SylvainCorlay\">@SylvainCorlay</a></strong></li>\n<li><a href=\"https://github.com/voila-dashboards/voila/pull/935\">(#935)</a>: <em>Handle the case when one widget model fails to be created</em> by <strong><a href=\"https://github.com/martinRenou\">@martinRenou</a></strong> merged by <strong><a href=\"https://github.com/jtpio\">@jtpio</a></strong></li>\n<li><a href=\"https://github.com/voila-dashboards/voila/pull/934\">(#934)</a>: <em>Improve Galata tests, update the reference screenshot</em> by <strong><a href=\"https://github.com/jtpio\">@jtpio</a></strong> merged by <strong><a href=\"https://github.com/jtpio\">@jtpio</a></strong></li>\n<li><a href=\"https://github.com/voila-dashboards/voila/pull/933\">(#933)</a>: <em>Update @jupyterlab/services dependency to version 6.1.8</em> by <strong><a href=\"https://github.com/julian-west\">@julian-west</a></strong> merged by <strong><a href=\"https://github.com/jtpio\">@jtpio</a></strong></li>\n<li><a href=\"https://github.com/voila-dashboards/voila/pull/932\">(#932)</a>: <em>Add reveal template to core</em> by <strong><a href=\"https://github.com/SylvainCorlay\">@SylvainCorlay</a></strong> merged by <strong><a href=\"https://github.com/trungleduc\">@trungleduc</a></strong></li>\n<li><a href=\"https://github.com/voila-dashboards/voila/pull/931\">(#931)</a>: <em>Render Javascript output</em> by <strong><a href=\"https://github.com/trungleduc\">@trungleduc</a></strong> merged by <strong><a href=\"https://github.com/jtpio\">@jtpio</a></strong></li>\n<li><a href=\"https://github.com/voila-dashboards/voila/pull/928\">(#928)</a>: <em>Fixed typos</em> by <strong><a href=\"https://github.com/giswqs\">@giswqs</a></strong> merged by <strong><a href=\"https://github.com/jtpio\">@jtpio</a></strong></li>\n<li><a href=\"https://github.com/voila-dashboards/voila/pull/926\">(#926)</a>: <em>Obey ip argument and only bind to given address.</em> by <strong><a href=\"https://github.com/adament\">@adament</a></strong> merged by <strong><a href=\"https://github.com/trungleduc\">@trungleduc</a></strong></li>\n<li><a href=\"https://github.com/voila-dashboards/voila/pull/925\">(#925)</a>: <em>Update deploy.rst</em> by <strong><a href=\"https://github.com/Elijah-Watson\">@Elijah-Watson</a></strong> merged by <strong><a href=\"https://github.com/jtpio\">@jtpio</a></strong></li>\n<li><a href=\"https://github.com/voila-dashboards/voila/pull/922\">(#922)</a>: <em>http_header_envs option to include http headers as an env var (following CGI standards)</em> by <strong><a href=\"https://github.com/mariobuikhuizen\">@mariobuikhuizen</a></strong> merged by <strong><a href=\"https://github.com/jtpio\">@jtpio</a></strong></li>\n<li><a href=\"https://github.com/voila-dashboards/voila/pull/913\">(#913)</a>: <em>Add check-release step on CI</em> by <strong><a href=\"https://github.com/jtpio\">@jtpio</a></strong> merged by <strong><a href=\"https://github.com/jtpio\">@jtpio</a></strong></li>\n<li><a href=\"https://github.com/voila-dashboards/voila/pull/612\">(#612)</a>: <em>Send kernel shutdown request manually on beforeunload</em> by <strong><a href=\"https://github.com/jtpio\">@jtpio</a></strong> merged by <strong><a href=\"https://github.com/martinRenou\">@martinRenou</a></strong></li>\n</ul>"
      }
     },
     "1f73e5a4e625425696bf8642073121df": {
      "model_module": "@jupyter-widgets/controls",
      "model_module_version": "1.5.0",
      "model_name": "DescriptionStyleModel",
      "state": {
       "_model_module": "@jupyter-widgets/controls",
       "_model_module_version": "1.5.0",
       "_model_name": "DescriptionStyleModel",
       "_view_count": null,
       "_view_module": "@jupyter-widgets/base",
       "_view_module_version": "1.2.0",
       "_view_name": "StyleView",
       "description_width": ""
      }
     },
     "2043bb2c5a9f4f7c99b7789a10c1595c": {
      "model_module": "@jupyter-widgets/controls",
      "model_module_version": "1.5.0",
      "model_name": "HTMLModel",
      "state": {
       "_dom_classes": [],
       "_model_module": "@jupyter-widgets/controls",
       "_model_module_version": "1.5.0",
       "_model_name": "HTMLModel",
       "_view_count": null,
       "_view_module": "@jupyter-widgets/controls",
       "_view_module_version": "1.5.0",
       "_view_name": "HTMLView",
       "description": "",
       "description_tooltip": null,
       "layout": "IPY_MODEL_b6144646afe143a2866e04746880982b",
       "placeholder": "​",
       "style": "IPY_MODEL_dfb8f1cb849043d393a3c983eb3e9ad8",
       "value": "<h5><a href=\"https://github.com/voila-dashboards/voila\">voila-dashboards/voila</a></h5>\n<ul>\n<li><a href=\"https://github.com/voila-dashboards/voila/issues/929\">(#929)</a>: _Performance: Approximately 3 second delay between code completion and ipywidgets rendering in browser _ by <strong><a href=\"https://github.com/julian-west\">@julian-west</a></strong></li>\n<li><a href=\"https://github.com/voila-dashboards/voila/issues/896\">(#896)</a>: <em>Voila process is leaking threads</em> by <strong><a href=\"https://github.com/roman-kouzmenko\">@roman-kouzmenko</a></strong></li>\n<li><a href=\"https://github.com/voila-dashboards/voila/issues/991\">(#991)</a>: <em>0.3.0 Release Plan</em> by <strong><a href=\"https://github.com/jtpio\">@jtpio</a></strong></li>\n</ul>"
      }
     },
     "317d11345abb402baeb6d3851e22a3af": {
      "model_module": "@jupyter-widgets/controls",
      "model_module_version": "1.5.0",
      "model_name": "HTMLModel",
      "state": {
       "_dom_classes": [],
       "_model_module": "@jupyter-widgets/controls",
       "_model_module_version": "1.5.0",
       "_model_name": "HTMLModel",
       "_view_count": null,
       "_view_module": "@jupyter-widgets/controls",
       "_view_module_version": "1.5.0",
       "_view_name": "HTMLView",
       "description": "",
       "description_tooltip": null,
       "layout": "IPY_MODEL_b8a17872e4eb49edaf2497d6427dc872",
       "placeholder": "​",
       "style": "IPY_MODEL_31d06e8c2cd0411693b8782910843275",
       "value": "<h5><a href=\"https://github.com/voila-dashboards/voila\">voila-dashboards/voila</a></h5>\n<ul>\n<li><a href=\"https://github.com/voila-dashboards/voila/issues/929\">(#929)</a>: _Performance: Approximately 3 second delay between code completion and ipywidgets rendering in browser _ by <strong><a href=\"https://github.com/julian-west\">@julian-west</a></strong></li>\n<li><a href=\"https://github.com/voila-dashboards/voila/issues/896\">(#896)</a>: <em>Voila process is leaking threads</em> by <strong><a href=\"https://github.com/roman-kouzmenko\">@roman-kouzmenko</a></strong></li>\n<li><a href=\"https://github.com/voila-dashboards/voila/issues/991\">(#991)</a>: <em>0.3.0 Release Plan</em> by <strong><a href=\"https://github.com/jtpio\">@jtpio</a></strong></li>\n</ul>"
      }
     },
     "31d06e8c2cd0411693b8782910843275": {
      "model_module": "@jupyter-widgets/controls",
      "model_module_version": "1.5.0",
      "model_name": "DescriptionStyleModel",
      "state": {
       "_model_module": "@jupyter-widgets/controls",
       "_model_module_version": "1.5.0",
       "_model_name": "DescriptionStyleModel",
       "_view_count": null,
       "_view_module": "@jupyter-widgets/base",
       "_view_module_version": "1.2.0",
       "_view_name": "StyleView",
       "description_width": ""
      }
     },
     "348aea9afa3d416ca5e5b59b759f28a7": {
      "model_module": "@jupyter-widgets/base",
      "model_module_version": "1.2.0",
      "model_name": "LayoutModel",
      "state": {
       "_model_module": "@jupyter-widgets/base",
       "_model_module_version": "1.2.0",
       "_model_name": "LayoutModel",
       "_view_count": null,
       "_view_module": "@jupyter-widgets/base",
       "_view_module_version": "1.2.0",
       "_view_name": "LayoutView",
       "align_content": null,
       "align_items": null,
       "align_self": null,
       "border": null,
       "bottom": null,
       "display": null,
       "flex": null,
       "flex_flow": null,
       "grid_area": null,
       "grid_auto_columns": null,
       "grid_auto_flow": null,
       "grid_auto_rows": null,
       "grid_column": null,
       "grid_gap": null,
       "grid_row": null,
       "grid_template_areas": null,
       "grid_template_columns": null,
       "grid_template_rows": null,
       "height": null,
       "justify_content": null,
       "justify_items": null,
       "left": null,
       "margin": null,
       "max_height": null,
       "max_width": null,
       "min_height": null,
       "min_width": null,
       "object_fit": null,
       "object_position": null,
       "order": null,
       "overflow": null,
       "overflow_x": null,
       "overflow_y": null,
       "padding": null,
       "right": null,
       "top": null,
       "visibility": null,
       "width": null
      }
     },
     "35f1a8c78868473ba934f8fea3798522": {
      "model_module": "@jupyter-widgets/base",
      "model_module_version": "1.2.0",
      "model_name": "LayoutModel",
      "state": {
       "_model_module": "@jupyter-widgets/base",
       "_model_module_version": "1.2.0",
       "_model_name": "LayoutModel",
       "_view_count": null,
       "_view_module": "@jupyter-widgets/base",
       "_view_module_version": "1.2.0",
       "_view_name": "LayoutView",
       "align_content": null,
       "align_items": null,
       "align_self": null,
       "border": null,
       "bottom": null,
       "display": null,
       "flex": null,
       "flex_flow": null,
       "grid_area": null,
       "grid_auto_columns": null,
       "grid_auto_flow": null,
       "grid_auto_rows": null,
       "grid_column": null,
       "grid_gap": null,
       "grid_row": null,
       "grid_template_areas": null,
       "grid_template_columns": null,
       "grid_template_rows": null,
       "height": null,
       "justify_content": null,
       "justify_items": null,
       "left": null,
       "margin": null,
       "max_height": null,
       "max_width": null,
       "min_height": null,
       "min_width": null,
       "object_fit": null,
       "object_position": null,
       "order": null,
       "overflow": null,
       "overflow_x": null,
       "overflow_y": null,
       "padding": null,
       "right": null,
       "top": null,
       "visibility": null,
       "width": null
      }
     },
     "3a3fd51ee991498f83bbe66560f2849c": {
      "model_module": "@jupyter-widgets/controls",
      "model_module_version": "1.5.0",
      "model_name": "DescriptionStyleModel",
      "state": {
       "_model_module": "@jupyter-widgets/controls",
       "_model_module_version": "1.5.0",
       "_model_name": "DescriptionStyleModel",
       "_view_count": null,
       "_view_module": "@jupyter-widgets/base",
       "_view_module_version": "1.2.0",
       "_view_name": "StyleView",
       "description_width": ""
      }
     },
     "43036814088244d6a4087e5a591e7ab3": {
      "model_module": "@jupyter-widgets/controls",
      "model_module_version": "1.5.0",
      "model_name": "TabModel",
      "state": {
       "_dom_classes": [],
       "_model_module": "@jupyter-widgets/controls",
       "_model_module_version": "1.5.0",
       "_model_name": "TabModel",
       "_titles": {
        "0": "voila",
        "1": "voila-gridstack",
        "2": "voila-reveal",
        "3": "voila-vuetify"
       },
       "_view_count": null,
       "_view_module": "@jupyter-widgets/controls",
       "_view_module_version": "1.5.0",
       "_view_name": "TabView",
       "box_style": "",
       "children": [
        "IPY_MODEL_2043bb2c5a9f4f7c99b7789a10c1595c",
        "IPY_MODEL_875eafbc91c24195b5ac7a343862ee3f",
        "IPY_MODEL_f78a86d62c574c5fa036606bb78cc8ff",
        "IPY_MODEL_6735e9da816f482391d62a50db99102c"
       ],
       "layout": "IPY_MODEL_35f1a8c78868473ba934f8fea3798522",
       "selected_index": 0
      }
     },
     "49d555cb57234473a3add27af3bc31d9": {
      "model_module": "@jupyter-widgets/controls",
      "model_module_version": "1.5.0",
      "model_name": "HTMLModel",
      "state": {
       "_dom_classes": [],
       "_model_module": "@jupyter-widgets/controls",
       "_model_module_version": "1.5.0",
       "_model_name": "HTMLModel",
       "_view_count": null,
       "_view_module": "@jupyter-widgets/controls",
       "_view_module_version": "1.5.0",
       "_view_name": "HTMLView",
       "description": "",
       "description_tooltip": null,
       "layout": "IPY_MODEL_348aea9afa3d416ca5e5b59b759f28a7",
       "placeholder": "​",
       "style": "IPY_MODEL_1f73e5a4e625425696bf8642073121df",
       "value": "<h4>Closed PRs for repo: <a href=\"https://github.com/voila-dashboards/voila-gridstack\">voila-dashboards/voila-gridstack</a></h4>\n<h5></h5>\n<ul>\n<li><a href=\"https://github.com/voila-dashboards/voila-gridstack/pull/154\">(#154)</a>: <em>Automated Changelog Entry for 0.3.0a0 on main</em> by <strong><a href=\"https://github.com/hbcarlos\">@hbcarlos</a></strong> merged by <strong><a href=\"https://github.com/hbcarlos\">@hbcarlos</a></strong></li>\n<li><a href=\"https://github.com/voila-dashboards/voila-gridstack/pull/152\">(#152)</a>: <em>Rename master to main</em> by <strong><a href=\"https://github.com/jtpio\">@jtpio</a></strong> merged by <strong><a href=\"https://github.com/hbcarlos\">@hbcarlos</a></strong></li>\n<li><a href=\"https://github.com/voila-dashboards/voila-gridstack/pull/151\">(#151)</a>: <em>Small clean up and solves #150</em> by <strong><a href=\"https://github.com/hbcarlos\">@hbcarlos</a></strong> merged by <strong><a href=\"https://github.com/jtpio\">@jtpio</a></strong></li>\n<li><a href=\"https://github.com/voila-dashboards/voila-gridstack/pull/148\">(#148)</a>: <em>Add releaser config</em> by <strong><a href=\"https://github.com/jtpio\">@jtpio</a></strong> merged by <strong><a href=\"https://github.com/hbcarlos\">@hbcarlos</a></strong></li>\n<li><a href=\"https://github.com/voila-dashboards/voila-gridstack/pull/145\">(#145)</a>: <em>Update to jupyter-packaging v0.10</em> by <strong><a href=\"https://github.com/hbcarlos\">@hbcarlos</a></strong> merged by <strong><a href=\"https://github.com/jtpio\">@jtpio</a></strong></li>\n<li><a href=\"https://github.com/voila-dashboards/voila-gridstack/pull/142\">(#142)</a>: <em>Update to JupyterLab v3.1 and support RTC</em> by <strong><a href=\"https://github.com/hbcarlos\">@hbcarlos</a></strong> merged by <strong><a href=\"https://github.com/jtpio\">@jtpio</a></strong></li>\n</ul>"
      }
     },
     "4dd5977737224adea72ce96c82cbbb95": {
      "model_module": "@jupyter-widgets/base",
      "model_module_version": "1.2.0",
      "model_name": "LayoutModel",
      "state": {
       "_model_module": "@jupyter-widgets/base",
       "_model_module_version": "1.2.0",
       "_model_name": "LayoutModel",
       "_view_count": null,
       "_view_module": "@jupyter-widgets/base",
       "_view_module_version": "1.2.0",
       "_view_name": "LayoutView",
       "align_content": null,
       "align_items": null,
       "align_self": null,
       "border": null,
       "bottom": null,
       "display": null,
       "flex": null,
       "flex_flow": null,
       "grid_area": null,
       "grid_auto_columns": null,
       "grid_auto_flow": null,
       "grid_auto_rows": null,
       "grid_column": null,
       "grid_gap": null,
       "grid_row": null,
       "grid_template_areas": null,
       "grid_template_columns": null,
       "grid_template_rows": null,
       "height": null,
       "justify_content": null,
       "justify_items": null,
       "left": null,
       "margin": null,
       "max_height": null,
       "max_width": null,
       "min_height": null,
       "min_width": null,
       "object_fit": null,
       "object_position": null,
       "order": null,
       "overflow": null,
       "overflow_x": null,
       "overflow_y": null,
       "padding": null,
       "right": null,
       "top": null,
       "visibility": null,
       "width": null
      }
     },
     "5a9b5fafc75945bb823ae94125da1333": {
      "model_module": "@jupyter-widgets/base",
      "model_module_version": "1.2.0",
      "model_name": "LayoutModel",
      "state": {
       "_model_module": "@jupyter-widgets/base",
       "_model_module_version": "1.2.0",
       "_model_name": "LayoutModel",
       "_view_count": null,
       "_view_module": "@jupyter-widgets/base",
       "_view_module_version": "1.2.0",
       "_view_name": "LayoutView",
       "align_content": null,
       "align_items": null,
       "align_self": null,
       "border": null,
       "bottom": null,
       "display": null,
       "flex": null,
       "flex_flow": null,
       "grid_area": null,
       "grid_auto_columns": null,
       "grid_auto_flow": null,
       "grid_auto_rows": null,
       "grid_column": null,
       "grid_gap": null,
       "grid_row": null,
       "grid_template_areas": null,
       "grid_template_columns": null,
       "grid_template_rows": null,
       "height": null,
       "justify_content": null,
       "justify_items": null,
       "left": null,
       "margin": null,
       "max_height": null,
       "max_width": null,
       "min_height": null,
       "min_width": null,
       "object_fit": null,
       "object_position": null,
       "order": null,
       "overflow": null,
       "overflow_x": null,
       "overflow_y": null,
       "padding": null,
       "right": null,
       "top": null,
       "visibility": null,
       "width": null
      }
     },
     "5c400dbe92bf460eb4e90f61dd043364": {
      "model_module": "@jupyter-widgets/base",
      "model_module_version": "1.2.0",
      "model_name": "LayoutModel",
      "state": {
       "_model_module": "@jupyter-widgets/base",
       "_model_module_version": "1.2.0",
       "_model_name": "LayoutModel",
       "_view_count": null,
       "_view_module": "@jupyter-widgets/base",
       "_view_module_version": "1.2.0",
       "_view_name": "LayoutView",
       "align_content": null,
       "align_items": null,
       "align_self": null,
       "border": null,
       "bottom": null,
       "display": null,
       "flex": null,
       "flex_flow": null,
       "grid_area": null,
       "grid_auto_columns": null,
       "grid_auto_flow": null,
       "grid_auto_rows": null,
       "grid_column": null,
       "grid_gap": null,
       "grid_row": null,
       "grid_template_areas": null,
       "grid_template_columns": null,
       "grid_template_rows": null,
       "height": null,
       "justify_content": null,
       "justify_items": null,
       "left": null,
       "margin": null,
       "max_height": null,
       "max_width": null,
       "min_height": null,
       "min_width": null,
       "object_fit": null,
       "object_position": null,
       "order": null,
       "overflow": null,
       "overflow_x": null,
       "overflow_y": null,
       "padding": null,
       "right": null,
       "top": null,
       "visibility": null,
       "width": null
      }
     },
     "651c478f29bc400b8f4b41b8016d1051": {
      "model_module": "@jupyter-widgets/base",
      "model_module_version": "1.2.0",
      "model_name": "LayoutModel",
      "state": {
       "_model_module": "@jupyter-widgets/base",
       "_model_module_version": "1.2.0",
       "_model_name": "LayoutModel",
       "_view_count": null,
       "_view_module": "@jupyter-widgets/base",
       "_view_module_version": "1.2.0",
       "_view_name": "LayoutView",
       "align_content": null,
       "align_items": null,
       "align_self": null,
       "border": null,
       "bottom": null,
       "display": null,
       "flex": null,
       "flex_flow": null,
       "grid_area": null,
       "grid_auto_columns": null,
       "grid_auto_flow": null,
       "grid_auto_rows": null,
       "grid_column": null,
       "grid_gap": null,
       "grid_row": null,
       "grid_template_areas": null,
       "grid_template_columns": null,
       "grid_template_rows": null,
       "height": null,
       "justify_content": null,
       "justify_items": null,
       "left": null,
       "margin": null,
       "max_height": null,
       "max_width": null,
       "min_height": null,
       "min_width": null,
       "object_fit": null,
       "object_position": null,
       "order": null,
       "overflow": null,
       "overflow_x": null,
       "overflow_y": null,
       "padding": null,
       "right": null,
       "top": null,
       "visibility": null,
       "width": null
      }
     },
     "664363bb27e5430483b8f6e30daf7e51": {
      "model_module": "@jupyter-widgets/base",
      "model_module_version": "1.2.0",
      "model_name": "LayoutModel",
      "state": {
       "_model_module": "@jupyter-widgets/base",
       "_model_module_version": "1.2.0",
       "_model_name": "LayoutModel",
       "_view_count": null,
       "_view_module": "@jupyter-widgets/base",
       "_view_module_version": "1.2.0",
       "_view_name": "LayoutView",
       "align_content": null,
       "align_items": null,
       "align_self": null,
       "border": null,
       "bottom": null,
       "display": null,
       "flex": null,
       "flex_flow": null,
       "grid_area": null,
       "grid_auto_columns": null,
       "grid_auto_flow": null,
       "grid_auto_rows": null,
       "grid_column": null,
       "grid_gap": null,
       "grid_row": null,
       "grid_template_areas": null,
       "grid_template_columns": null,
       "grid_template_rows": null,
       "height": null,
       "justify_content": null,
       "justify_items": null,
       "left": null,
       "margin": null,
       "max_height": null,
       "max_width": null,
       "min_height": null,
       "min_width": null,
       "object_fit": null,
       "object_position": null,
       "order": null,
       "overflow": null,
       "overflow_x": null,
       "overflow_y": null,
       "padding": null,
       "right": null,
       "top": null,
       "visibility": null,
       "width": null
      }
     },
     "6735e9da816f482391d62a50db99102c": {
      "model_module": "@jupyter-widgets/controls",
      "model_module_version": "1.5.0",
      "model_name": "HTMLModel",
      "state": {
       "_dom_classes": [],
       "_model_module": "@jupyter-widgets/controls",
       "_model_module_version": "1.5.0",
       "_model_name": "HTMLModel",
       "_view_count": null,
       "_view_module": "@jupyter-widgets/controls",
       "_view_module_version": "1.5.0",
       "_view_name": "HTMLView",
       "description": "",
       "description_tooltip": null,
       "layout": "IPY_MODEL_fde2a2cf44374d6e95eaa790cbdc3884",
       "placeholder": "​",
       "style": "IPY_MODEL_d474d2f83d0644c8b9c7f54dc387fce2",
       "value": "<h5><a href=\"https://github.com/voila-dashboards/voila-vuetify\">voila-dashboards/voila-vuetify</a></h5>\n<ul>\n<li><a href=\"https://github.com/voila-dashboards/voila-vuetify/issues/49\">(#49)</a>: <em>Loading widgets fails if the component template is in a separated file</em> by <strong><a href=\"https://github.com/etienne-monier\">@etienne-monier</a></strong></li>\n<li><a href=\"https://github.com/voila-dashboards/voila-vuetify/issues/53\">(#53)</a>: <em>MDI dependency</em> by <strong><a href=\"https://github.com/guimillet\">@guimillet</a></strong></li>\n<li><a href=\"https://github.com/voila-dashboards/voila-vuetify/issues/48\">(#48)</a>: <em>I can't fill in the base template</em> by <strong><a href=\"https://github.com/etienne-monier\">@etienne-monier</a></strong></li>\n<li><a href=\"https://github.com/voila-dashboards/voila-vuetify/issues/52\">(#52)</a>: <em>Run vue in development mode to use dev tools</em> by <strong><a href=\"https://github.com/etienne-monier\">@etienne-monier</a></strong></li>\n<li><a href=\"https://github.com/voila-dashboards/voila-vuetify/issues/50\">(#50)</a>: <em>ManyWidgets.ipynb mount_id</em> by <strong><a href=\"https://github.com/guimillet\">@guimillet</a></strong></li>\n</ul>"
      }
     },
     "7e6a5081b07e44c6b70c0b92f10a8559": {
      "model_module": "@jupyter-widgets/controls",
      "model_module_version": "1.5.0",
      "model_name": "DescriptionStyleModel",
      "state": {
       "_model_module": "@jupyter-widgets/controls",
       "_model_module_version": "1.5.0",
       "_model_name": "DescriptionStyleModel",
       "_view_count": null,
       "_view_module": "@jupyter-widgets/base",
       "_view_module_version": "1.2.0",
       "_view_name": "StyleView",
       "description_width": ""
      }
     },
     "8386cd47e0a14200826161751e9dbf43": {
      "model_module": "@jupyter-widgets/controls",
      "model_module_version": "1.5.0",
      "model_name": "DescriptionStyleModel",
      "state": {
       "_model_module": "@jupyter-widgets/controls",
       "_model_module_version": "1.5.0",
       "_model_name": "DescriptionStyleModel",
       "_view_count": null,
       "_view_module": "@jupyter-widgets/base",
       "_view_module_version": "1.2.0",
       "_view_name": "StyleView",
       "description_width": ""
      }
     },
     "83acffadcddc4040956587d56e123308": {
      "model_module": "@jupyter-widgets/controls",
      "model_module_version": "1.5.0",
      "model_name": "DescriptionStyleModel",
      "state": {
       "_model_module": "@jupyter-widgets/controls",
       "_model_module_version": "1.5.0",
       "_model_name": "DescriptionStyleModel",
       "_view_count": null,
       "_view_module": "@jupyter-widgets/base",
       "_view_module_version": "1.2.0",
       "_view_name": "StyleView",
       "description_width": ""
      }
     },
     "875eafbc91c24195b5ac7a343862ee3f": {
      "model_module": "@jupyter-widgets/controls",
      "model_module_version": "1.5.0",
      "model_name": "HTMLModel",
      "state": {
       "_dom_classes": [],
       "_model_module": "@jupyter-widgets/controls",
       "_model_module_version": "1.5.0",
       "_model_name": "HTMLModel",
       "_view_count": null,
       "_view_module": "@jupyter-widgets/controls",
       "_view_module_version": "1.5.0",
       "_view_name": "HTMLView",
       "description": "",
       "description_tooltip": null,
       "layout": "IPY_MODEL_4dd5977737224adea72ce96c82cbbb95",
       "placeholder": "​",
       "style": "IPY_MODEL_8386cd47e0a14200826161751e9dbf43",
       "value": "<h5><a href=\"https://github.com/voila-dashboards/voila-gridstack\">voila-dashboards/voila-gridstack</a></h5>\n<ul>\n<li><a href=\"https://github.com/voila-dashboards/voila-gridstack/issues/150\">(#150)</a>: <em>Can't drag cell directly to lower parts of scrolled down grid.</em> by <strong><a href=\"https://github.com/bdklahn\">@bdklahn</a></strong></li>\n<li><a href=\"https://github.com/voila-dashboards/voila-gridstack/issues/146\">(#146)</a>: <em>Release 0.3.0</em> by <strong><a href=\"https://github.com/jtpio\">@jtpio</a></strong></li>\n</ul>"
      }
     },
     "92b49682de324a2b9e8c4c42080d00ff": {
      "model_module": "@jupyter-widgets/controls",
      "model_module_version": "1.5.0",
      "model_name": "DescriptionStyleModel",
      "state": {
       "_model_module": "@jupyter-widgets/controls",
       "_model_module_version": "1.5.0",
       "_model_name": "DescriptionStyleModel",
       "_view_count": null,
       "_view_module": "@jupyter-widgets/base",
       "_view_module_version": "1.2.0",
       "_view_name": "StyleView",
       "description_width": ""
      }
     },
     "93bdf4b9d26d47299fb67efdc7454f14": {
      "model_module": "@jupyter-widgets/base",
      "model_module_version": "1.2.0",
      "model_name": "LayoutModel",
      "state": {
       "_model_module": "@jupyter-widgets/base",
       "_model_module_version": "1.2.0",
       "_model_name": "LayoutModel",
       "_view_count": null,
       "_view_module": "@jupyter-widgets/base",
       "_view_module_version": "1.2.0",
       "_view_name": "LayoutView",
       "align_content": null,
       "align_items": null,
       "align_self": null,
       "border": null,
       "bottom": null,
       "display": null,
       "flex": null,
       "flex_flow": null,
       "grid_area": null,
       "grid_auto_columns": null,
       "grid_auto_flow": null,
       "grid_auto_rows": null,
       "grid_column": null,
       "grid_gap": null,
       "grid_row": null,
       "grid_template_areas": null,
       "grid_template_columns": null,
       "grid_template_rows": null,
       "height": null,
       "justify_content": null,
       "justify_items": null,
       "left": null,
       "margin": null,
       "max_height": null,
       "max_width": null,
       "min_height": null,
       "min_width": null,
       "object_fit": null,
       "object_position": null,
       "order": null,
       "overflow": null,
       "overflow_x": null,
       "overflow_y": null,
       "padding": null,
       "right": null,
       "top": null,
       "visibility": null,
       "width": null
      }
     },
     "958d52e7bd494c4f9f7c299a216dda08": {
      "model_module": "@jupyter-widgets/controls",
      "model_module_version": "1.5.0",
      "model_name": "HTMLModel",
      "state": {
       "_dom_classes": [],
       "_model_module": "@jupyter-widgets/controls",
       "_model_module_version": "1.5.0",
       "_model_name": "HTMLModel",
       "_view_count": null,
       "_view_module": "@jupyter-widgets/controls",
       "_view_module_version": "1.5.0",
       "_view_name": "HTMLView",
       "description": "",
       "description_tooltip": null,
       "layout": "IPY_MODEL_664363bb27e5430483b8f6e30daf7e51",
       "placeholder": "​",
       "style": "IPY_MODEL_11a22744874d4b18904ea45277127721",
       "value": "<h5><a href=\"https://github.com/voila-dashboards/voila-reveal\">voila-dashboards/voila-reveal</a></h5>\n<ul>\n<li><a href=\"https://github.com/voila-dashboards/voila-reveal/issues/22\">(#22)</a>: <em>Move voila-reveal to core voila</em> by <strong><a href=\"https://github.com/SylvainCorlay\">@SylvainCorlay</a></strong></li>\n</ul>"
      }
     },
     "b6144646afe143a2866e04746880982b": {
      "model_module": "@jupyter-widgets/base",
      "model_module_version": "1.2.0",
      "model_name": "LayoutModel",
      "state": {
       "_model_module": "@jupyter-widgets/base",
       "_model_module_version": "1.2.0",
       "_model_name": "LayoutModel",
       "_view_count": null,
       "_view_module": "@jupyter-widgets/base",
       "_view_module_version": "1.2.0",
       "_view_name": "LayoutView",
       "align_content": null,
       "align_items": null,
       "align_self": null,
       "border": null,
       "bottom": null,
       "display": null,
       "flex": null,
       "flex_flow": null,
       "grid_area": null,
       "grid_auto_columns": null,
       "grid_auto_flow": null,
       "grid_auto_rows": null,
       "grid_column": null,
       "grid_gap": null,
       "grid_row": null,
       "grid_template_areas": null,
       "grid_template_columns": null,
       "grid_template_rows": null,
       "height": null,
       "justify_content": null,
       "justify_items": null,
       "left": null,
       "margin": null,
       "max_height": null,
       "max_width": null,
       "min_height": null,
       "min_width": null,
       "object_fit": null,
       "object_position": null,
       "order": null,
       "overflow": null,
       "overflow_x": null,
       "overflow_y": null,
       "padding": null,
       "right": null,
       "top": null,
       "visibility": null,
       "width": null
      }
     },
     "b8a17872e4eb49edaf2497d6427dc872": {
      "model_module": "@jupyter-widgets/base",
      "model_module_version": "1.2.0",
      "model_name": "LayoutModel",
      "state": {
       "_model_module": "@jupyter-widgets/base",
       "_model_module_version": "1.2.0",
       "_model_name": "LayoutModel",
       "_view_count": null,
       "_view_module": "@jupyter-widgets/base",
       "_view_module_version": "1.2.0",
       "_view_name": "LayoutView",
       "align_content": null,
       "align_items": null,
       "align_self": null,
       "border": null,
       "bottom": null,
       "display": null,
       "flex": null,
       "flex_flow": null,
       "grid_area": null,
       "grid_auto_columns": null,
       "grid_auto_flow": null,
       "grid_auto_rows": null,
       "grid_column": null,
       "grid_gap": null,
       "grid_row": null,
       "grid_template_areas": null,
       "grid_template_columns": null,
       "grid_template_rows": null,
       "height": null,
       "justify_content": null,
       "justify_items": null,
       "left": null,
       "margin": null,
       "max_height": null,
       "max_width": null,
       "min_height": null,
       "min_width": null,
       "object_fit": null,
       "object_position": null,
       "order": null,
       "overflow": null,
       "overflow_x": null,
       "overflow_y": null,
       "padding": null,
       "right": null,
       "top": null,
       "visibility": null,
       "width": null
      }
     },
     "bcef7140208e432b997a6d61f2c4f870": {
      "model_module": "@jupyter-widgets/controls",
      "model_module_version": "1.5.0",
      "model_name": "HTMLModel",
      "state": {
       "_dom_classes": [],
       "_model_module": "@jupyter-widgets/controls",
       "_model_module_version": "1.5.0",
       "_model_name": "HTMLModel",
       "_view_count": null,
       "_view_module": "@jupyter-widgets/controls",
       "_view_module_version": "1.5.0",
       "_view_name": "HTMLView",
       "description": "",
       "description_tooltip": null,
       "layout": "IPY_MODEL_5c400dbe92bf460eb4e90f61dd043364",
       "placeholder": "​",
       "style": "IPY_MODEL_3a3fd51ee991498f83bbe66560f2849c",
       "value": "<ul>\n<li>(6) Voila process is leaking threads - voila - <a href=\"https://github.com/voila-dashboards/voila/issues/896\">#896</a></li>\n<li>(1) Switch to <code>voila</code> as a Jupyter Server <code>ExtensionApp</code> - voila - <a href=\"https://github.com/voila-dashboards/voila/issues/955\">#955</a></li>\n<li>(1) Stability: File Descriptor hog leading to container resource exhaustion - voila - <a href=\"https://github.com/voila-dashboards/voila/issues/942\">#942</a></li>\n<li>(0) Visual Regression test for the <code>voila-reveal</code> template - voila - <a href=\"https://github.com/voila-dashboards/voila/issues/1020\">#1020</a></li>\n<li>(0) Update to the latest <code>jupyter-packaging</code> - voila-gridstack - <a href=\"https://github.com/voila-dashboards/voila-gridstack/issues/144\">#144</a></li>\n<li>(0) Rename <code>master</code> to <code>main</code> - voila - <a href=\"https://github.com/voila-dashboards/voila/issues/958\">#958</a></li>\n<li>(0) JupyterLab session wedged when Voilà pane opened - voila - <a href=\"https://github.com/voila-dashboards/voila/issues/950\">#950</a></li>\n<li>(0) Add more UI tests - voila - <a href=\"https://github.com/voila-dashboards/voila/issues/948\">#948</a></li>\n<li>(0) Widgets not rendering with xeus-python kernel. - voila - <a href=\"https://github.com/voila-dashboards/voila/issues/947\">#947</a></li>\n<li>(0) ipysheet==0.5.0 not rendering in Voila==0.2.11 in jupyterlab&gt;3 - voila - <a href=\"https://github.com/voila-dashboards/voila/issues/945\">#945</a></li>\n<li>(0) Update to Jupyter Client 7 - voila - <a href=\"https://github.com/voila-dashboards/voila/issues/941\">#941</a></li>\n<li>(0) UI Tests: Update to the new Galata setup - voila - <a href=\"https://github.com/voila-dashboards/voila/issues/940\">#940</a></li>\n<li>(0) Add the JupyterLab trove classifiers - voila - <a href=\"https://github.com/voila-dashboards/voila/issues/938\">#938</a></li>\n<li>(0) Update to the latest Jupyter Packaging - voila - <a href=\"https://github.com/voila-dashboards/voila/issues/937\">#937</a></li>\n<li>(0) Clean up following #142 - voila-gridstack - <a href=\"https://github.com/voila-dashboards/voila-gridstack/issues/143\">#143</a></li>\n<li>(0) change the kernelspec from the url - voila - <a href=\"https://github.com/voila-dashboards/voila/issues/967\">#967</a></li>\n<li>(0) Move voila-reveal to core voila - voila-reveal - <a href=\"https://github.com/voila-dashboards/voila-reveal/issues/22\">#22</a></li>\n<li>(0) <code>ipydatagrid</code> context menu opens in wrong position when rendered in voila - voila - <a href=\"https://github.com/voila-dashboards/voila/issues/930\">#930</a></li>\n<li>(0) Performance: Approximately 3 second delay between code completion and ipywidgets rendering in browser  - voila - <a href=\"https://github.com/voila-dashboards/voila/issues/929\">#929</a></li>\n<li>(0) GridStack interferes with ability to drag elements in perspective widget - voila-gridstack - <a href=\"https://github.com/voila-dashboards/voila-gridstack/issues/139\">#139</a></li>\n<li>(0) Error displaying widgets in Gridstack editor in Jupyter Lab - voila-gridstack - <a href=\"https://github.com/voila-dashboards/voila-gridstack/issues/138\">#138</a></li>\n<li>(0) Uncaught ReferenceError: IPython is not defined - voila - <a href=\"https://github.com/voila-dashboards/voila/issues/903\">#903</a></li>\n<li>(0) Create a 0.2.x branch - voila - <a href=\"https://github.com/voila-dashboards/voila/issues/871\">#871</a></li>\n<li>(0) Move scrollbars from cell output to gridstack item - voila-gridstack - <a href=\"https://github.com/voila-dashboards/voila-gridstack/issues/113\">#113</a></li>\n<li>(0) Automate releases - voila - <a href=\"https://github.com/voila-dashboards/voila/issues/805\">#805</a></li>\n</ul>"
      }
     },
     "c2151a38f20e413a9bbb563081cc07f7": {
      "model_module": "@jupyter-widgets/controls",
      "model_module_version": "1.5.0",
      "model_name": "DescriptionStyleModel",
      "state": {
       "_model_module": "@jupyter-widgets/controls",
       "_model_module_version": "1.5.0",
       "_model_name": "DescriptionStyleModel",
       "_view_count": null,
       "_view_module": "@jupyter-widgets/base",
       "_view_module_version": "1.2.0",
       "_view_name": "StyleView",
       "description_width": ""
      }
     },
     "c8af8e0662a34d59876620a9b78233b8": {
      "model_module": "@jupyter-widgets/base",
      "model_module_version": "1.2.0",
      "model_name": "LayoutModel",
      "state": {
       "_model_module": "@jupyter-widgets/base",
       "_model_module_version": "1.2.0",
       "_model_name": "LayoutModel",
       "_view_count": null,
       "_view_module": "@jupyter-widgets/base",
       "_view_module_version": "1.2.0",
       "_view_name": "LayoutView",
       "align_content": null,
       "align_items": null,
       "align_self": null,
       "border": null,
       "bottom": null,
       "display": null,
       "flex": null,
       "flex_flow": null,
       "grid_area": null,
       "grid_auto_columns": null,
       "grid_auto_flow": null,
       "grid_auto_rows": null,
       "grid_column": null,
       "grid_gap": null,
       "grid_row": null,
       "grid_template_areas": null,
       "grid_template_columns": null,
       "grid_template_rows": null,
       "height": null,
       "justify_content": null,
       "justify_items": null,
       "left": null,
       "margin": null,
       "max_height": null,
       "max_width": null,
       "min_height": null,
       "min_width": null,
       "object_fit": null,
       "object_position": null,
       "order": null,
       "overflow": null,
       "overflow_x": null,
       "overflow_y": null,
       "padding": null,
       "right": null,
       "top": null,
       "visibility": null,
       "width": null
      }
     },
     "d474d2f83d0644c8b9c7f54dc387fce2": {
      "model_module": "@jupyter-widgets/controls",
      "model_module_version": "1.5.0",
      "model_name": "DescriptionStyleModel",
      "state": {
       "_model_module": "@jupyter-widgets/controls",
       "_model_module_version": "1.5.0",
       "_model_name": "DescriptionStyleModel",
       "_view_count": null,
       "_view_module": "@jupyter-widgets/base",
       "_view_module_version": "1.2.0",
       "_view_name": "StyleView",
       "description_width": ""
      }
     },
     "dfb8f1cb849043d393a3c983eb3e9ad8": {
      "model_module": "@jupyter-widgets/controls",
      "model_module_version": "1.5.0",
      "model_name": "DescriptionStyleModel",
      "state": {
       "_model_module": "@jupyter-widgets/controls",
       "_model_module_version": "1.5.0",
       "_model_name": "DescriptionStyleModel",
       "_view_count": null,
       "_view_module": "@jupyter-widgets/base",
       "_view_module_version": "1.2.0",
       "_view_name": "StyleView",
       "description_width": ""
      }
     },
     "e4442f77784140618200145fba406aee": {
      "model_module": "@jupyter-widgets/controls",
      "model_module_version": "1.5.0",
      "model_name": "HTMLModel",
      "state": {
       "_dom_classes": [],
       "_model_module": "@jupyter-widgets/controls",
       "_model_module_version": "1.5.0",
       "_model_name": "HTMLModel",
       "_view_count": null,
       "_view_module": "@jupyter-widgets/controls",
       "_view_module_version": "1.5.0",
       "_view_name": "HTMLView",
       "description": "",
       "description_tooltip": null,
       "layout": "IPY_MODEL_651c478f29bc400b8f4b41b8016d1051",
       "placeholder": "​",
       "style": "IPY_MODEL_c2151a38f20e413a9bbb563081cc07f7",
       "value": "<h5><a href=\"https://github.com/voila-dashboards/voila-gridstack\">voila-dashboards/voila-gridstack</a></h5>\n<ul>\n<li><a href=\"https://github.com/voila-dashboards/voila-gridstack/issues/150\">(#150)</a>: <em>Can't drag cell directly to lower parts of scrolled down grid.</em> by <strong><a href=\"https://github.com/bdklahn\">@bdklahn</a></strong></li>\n<li><a href=\"https://github.com/voila-dashboards/voila-gridstack/issues/146\">(#146)</a>: <em>Release 0.3.0</em> by <strong><a href=\"https://github.com/jtpio\">@jtpio</a></strong></li>\n</ul>"
      }
     },
     "e5c1821ea5654f8689cbdbfa2e584844": {
      "model_module": "@jupyter-widgets/base",
      "model_module_version": "1.2.0",
      "model_name": "LayoutModel",
      "state": {
       "_model_module": "@jupyter-widgets/base",
       "_model_module_version": "1.2.0",
       "_model_name": "LayoutModel",
       "_view_count": null,
       "_view_module": "@jupyter-widgets/base",
       "_view_module_version": "1.2.0",
       "_view_name": "LayoutView",
       "align_content": null,
       "align_items": null,
       "align_self": null,
       "border": null,
       "bottom": null,
       "display": null,
       "flex": null,
       "flex_flow": null,
       "grid_area": null,
       "grid_auto_columns": null,
       "grid_auto_flow": null,
       "grid_auto_rows": null,
       "grid_column": null,
       "grid_gap": null,
       "grid_row": null,
       "grid_template_areas": null,
       "grid_template_columns": null,
       "grid_template_rows": null,
       "height": null,
       "justify_content": null,
       "justify_items": null,
       "left": null,
       "margin": null,
       "max_height": null,
       "max_width": null,
       "min_height": null,
       "min_width": null,
       "object_fit": null,
       "object_position": null,
       "order": null,
       "overflow": null,
       "overflow_x": null,
       "overflow_y": null,
       "padding": null,
       "right": null,
       "top": null,
       "visibility": null,
       "width": null
      }
     },
     "f78a86d62c574c5fa036606bb78cc8ff": {
      "model_module": "@jupyter-widgets/controls",
      "model_module_version": "1.5.0",
      "model_name": "HTMLModel",
      "state": {
       "_dom_classes": [],
       "_model_module": "@jupyter-widgets/controls",
       "_model_module_version": "1.5.0",
       "_model_name": "HTMLModel",
       "_view_count": null,
       "_view_module": "@jupyter-widgets/controls",
       "_view_module_version": "1.5.0",
       "_view_name": "HTMLView",
       "description": "",
       "description_tooltip": null,
       "layout": "IPY_MODEL_5a9b5fafc75945bb823ae94125da1333",
       "placeholder": "​",
       "style": "IPY_MODEL_83acffadcddc4040956587d56e123308",
       "value": "<h5><a href=\"https://github.com/voila-dashboards/voila-reveal\">voila-dashboards/voila-reveal</a></h5>\n<ul>\n<li><a href=\"https://github.com/voila-dashboards/voila-reveal/issues/22\">(#22)</a>: <em>Move voila-reveal to core voila</em> by <strong><a href=\"https://github.com/SylvainCorlay\">@SylvainCorlay</a></strong></li>\n</ul>"
      }
     },
     "fde2a2cf44374d6e95eaa790cbdc3884": {
      "model_module": "@jupyter-widgets/base",
      "model_module_version": "1.2.0",
      "model_name": "LayoutModel",
      "state": {
       "_model_module": "@jupyter-widgets/base",
       "_model_module_version": "1.2.0",
       "_model_name": "LayoutModel",
       "_view_count": null,
       "_view_module": "@jupyter-widgets/base",
       "_view_module_version": "1.2.0",
       "_view_name": "LayoutView",
       "align_content": null,
       "align_items": null,
       "align_self": null,
       "border": null,
       "bottom": null,
       "display": null,
       "flex": null,
       "flex_flow": null,
       "grid_area": null,
       "grid_auto_columns": null,
       "grid_auto_flow": null,
       "grid_auto_rows": null,
       "grid_column": null,
       "grid_gap": null,
       "grid_row": null,
       "grid_template_areas": null,
       "grid_template_columns": null,
       "grid_template_rows": null,
       "height": null,
       "justify_content": null,
       "justify_items": null,
       "left": null,
       "margin": null,
       "max_height": null,
       "max_width": null,
       "min_height": null,
       "min_width": null,
       "object_fit": null,
       "object_position": null,
       "order": null,
       "overflow": null,
       "overflow_x": null,
       "overflow_y": null,
       "padding": null,
       "right": null,
       "top": null,
       "visibility": null,
       "width": null
      }
     }
    },
    "version_major": 2,
    "version_minor": 0
   }
  }
 },
 "nbformat": 4,
 "nbformat_minor": 5
}