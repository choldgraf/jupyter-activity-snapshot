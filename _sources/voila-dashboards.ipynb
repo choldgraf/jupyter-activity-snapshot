{
 "cells": [
  {
   "cell_type": "markdown",
   "metadata": {
    "papermill": {
     "duration": 0.032618,
     "end_time": "2020-07-14T01:13:19.855774",
     "exception": false,
     "start_time": "2020-07-14T01:13:19.823156",
     "status": "completed"
    },
    "tags": []
   },
   "source": [
    "# {glue:text}`voila-dashboards_github_org`\n",
    "\n",
    "**Activity from {glue:}`voila-dashboards_start` to {glue:}`voila-dashboards_stop`**"
   ]
  },
  {
   "cell_type": "code",
   "execution_count": 1,
   "metadata": {
    "execution": {
     "iopub.execute_input": "2020-07-14T01:13:19.928673Z",
     "iopub.status.busy": "2020-07-14T01:13:19.928115Z",
     "iopub.status.idle": "2020-07-14T01:13:21.345750Z",
     "shell.execute_reply": "2020-07-14T01:13:21.346505Z"
    },
    "papermill": {
     "duration": 1.459391,
     "end_time": "2020-07-14T01:13:21.346831",
     "exception": false,
     "start_time": "2020-07-14T01:13:19.887440",
     "status": "completed"
    },
    "tags": [
     "remove_cell"
    ]
   },
   "outputs": [],
   "source": [
    "import github_activity as ga\n",
    "from datetime import date\n",
    "from dateutil.relativedelta import relativedelta\n",
    "from myst_nb import glue\n",
    "import seaborn as sns\n",
    "import pandas as pd\n",
    "import numpy as np\n",
    "import altair as alt\n",
    "from markdown import markdown\n",
    "from IPython.display import Markdown\n",
    "from ipywidgets.widgets import HTML, Tab\n",
    "from ipywidgets import widgets\n",
    "from datetime import timedelta\n",
    "from matplotlib import pyplot as plt\n",
    "import os.path as op\n",
    "\n",
    "from warnings import simplefilter\n",
    "simplefilter('ignore')"
   ]
  },
  {
   "cell_type": "code",
   "execution_count": 2,
   "metadata": {
    "execution": {
     "iopub.execute_input": "2020-07-14T01:13:21.422498Z",
     "iopub.status.busy": "2020-07-14T01:13:21.421814Z",
     "iopub.status.idle": "2020-07-14T01:13:21.426835Z",
     "shell.execute_reply": "2020-07-14T01:13:21.426403Z"
    },
    "papermill": {
     "duration": 0.044395,
     "end_time": "2020-07-14T01:13:21.426939",
     "exception": false,
     "start_time": "2020-07-14T01:13:21.382544",
     "status": "completed"
    },
    "tags": [
     "remove_cell"
    ]
   },
   "outputs": [],
   "source": [
    "# Altair config\n",
    "def author_url(author):\n",
    "    return f\"https://github.com/{author}\"\n",
    "\n",
    "def alt_theme():\n",
    "    return {\n",
    "        'config': {\n",
    "            'axisLeft': {\n",
    "                'labelFontSize': 15,\n",
    "            },\n",
    "            'axisBottom': {\n",
    "                'labelFontSize': 15,\n",
    "            },\n",
    "        }\n",
    "    }\n",
    "\n",
    "alt.themes.register('my_theme', alt_theme)\n",
    "alt.themes.enable(\"my_theme\")\n",
    "\n",
    "\n",
    "# Define colors we'll use for GitHub membership\n",
    "author_types = ['MEMBER', 'CONTRIBUTOR', 'COLLABORATOR', \"NONE\"]\n",
    "\n",
    "author_palette = np.array(sns.palettes.blend_palette([\"lightgrey\", \"lightgreen\", \"darkgreen\"], 4)) * 256\n",
    "author_colors = [\"rgb({}, {}, {})\".format(*color) for color in author_palette]\n",
    "author_color_dict = {key: val for key, val in zip(author_types, author_palette)}"
   ]
  },
  {
   "cell_type": "code",
   "execution_count": 3,
   "metadata": {
    "execution": {
     "iopub.execute_input": "2020-07-14T01:13:21.492537Z",
     "iopub.status.busy": "2020-07-14T01:13:21.491947Z",
     "iopub.status.idle": "2020-07-14T01:13:21.494297Z",
     "shell.execute_reply": "2020-07-14T01:13:21.493784Z"
    },
    "papermill": {
     "duration": 0.036803,
     "end_time": "2020-07-14T01:13:21.494399",
     "exception": false,
     "start_time": "2020-07-14T01:13:21.457596",
     "status": "completed"
    },
    "tags": [
     "parameters",
     "hide_input",
     "remove_cell"
    ]
   },
   "outputs": [],
   "source": [
    "github_org = \"jupyterhub\"\n",
    "top_n_repos = 15\n",
    "n_days = 10"
   ]
  },
  {
   "cell_type": "code",
   "execution_count": 4,
   "metadata": {
    "execution": {
     "iopub.execute_input": "2020-07-14T01:13:21.557552Z",
     "iopub.status.busy": "2020-07-14T01:13:21.557061Z",
     "iopub.status.idle": "2020-07-14T01:13:21.559393Z",
     "shell.execute_reply": "2020-07-14T01:13:21.558882Z"
    },
    "papermill": {
     "duration": 0.034402,
     "end_time": "2020-07-14T01:13:21.559492",
     "exception": false,
     "start_time": "2020-07-14T01:13:21.525090",
     "status": "completed"
    },
    "tags": [
     "injected-parameters",
     "remove-cell"
    ]
   },
   "outputs": [],
   "source": [
    "# Parameters\n",
    "github_org = \"voila-dashboards\"\n",
    "n_days = 60\n"
   ]
  },
  {
   "cell_type": "code",
   "execution_count": 5,
   "metadata": {
    "execution": {
     "iopub.execute_input": "2020-07-14T01:13:21.624346Z",
     "iopub.status.busy": "2020-07-14T01:13:21.623813Z",
     "iopub.status.idle": "2020-07-14T01:13:21.629507Z",
     "shell.execute_reply": "2020-07-14T01:13:21.628732Z"
    },
    "papermill": {
     "duration": 0.042235,
     "end_time": "2020-07-14T01:13:21.629641",
     "exception": false,
     "start_time": "2020-07-14T01:13:21.587406",
     "status": "completed"
    },
    "tags": [
     "remove_cell"
    ]
   },
   "outputs": [
    {
     "data": {
      "application/papermill.record/text/plain": "'voila-dashboards'"
     },
     "metadata": {
      "scrapbook": {
       "mime_prefix": "application/papermill.record/",
       "name": "voila-dashboards_github_org"
      }
     },
     "output_type": "display_data"
    },
    {
     "data": {
      "application/papermill.record/text/plain": "'2020-05-15'"
     },
     "metadata": {
      "scrapbook": {
       "mime_prefix": "application/papermill.record/",
       "name": "voila-dashboards_start"
      }
     },
     "output_type": "display_data"
    },
    {
     "data": {
      "application/papermill.record/text/plain": "'2020-07-14'"
     },
     "metadata": {
      "scrapbook": {
       "mime_prefix": "application/papermill.record/",
       "name": "voila-dashboards_stop"
      }
     },
     "output_type": "display_data"
    }
   ],
   "source": [
    "############################################################\n",
    "# Variables\n",
    "stop = date.today()\n",
    "start = date.today() - relativedelta(days=n_days)\n",
    "\n",
    "# Strings for use in queries\n",
    "start_date = f\"{start:%Y-%m-%d}\"\n",
    "stop_date = f\"{stop:%Y-%m-%d}\"\n",
    "\n",
    "# Glue variables for use in markdown\n",
    "glue(f\"{github_org}_github_org\", github_org, display=False)\n",
    "glue(f\"{github_org}_start\", start_date, display=False)\n",
    "glue(f\"{github_org}_stop\", stop_date, display=False)"
   ]
  },
  {
   "cell_type": "code",
   "execution_count": 6,
   "metadata": {
    "execution": {
     "iopub.execute_input": "2020-07-14T01:13:21.699727Z",
     "iopub.status.busy": "2020-07-14T01:13:21.699084Z",
     "iopub.status.idle": "2020-07-14T01:13:27.386362Z",
     "shell.execute_reply": "2020-07-14T01:13:27.385899Z"
    },
    "papermill": {
     "duration": 5.725716,
     "end_time": "2020-07-14T01:13:27.386487",
     "exception": false,
     "start_time": "2020-07-14T01:13:21.660771",
     "status": "completed"
    },
    "tags": [
     "remove_cell"
    ]
   },
   "outputs": [
    {
     "name": "stdout",
     "output_type": "stream",
     "text": [
      "Running search query:\n",
      "user:voila-dashboards\n",
      "\n",
      "\n"
     ]
    },
    {
     "name": "stdout",
     "output_type": "stream",
     "text": [
      "Found 73 items, which will take 2 pages\n"
     ]
    },
    {
     "data": {
      "application/vnd.jupyter.widget-view+json": {
       "model_id": "01168aea951d4c35821aaff993b70886",
       "version_major": 2,
       "version_minor": 0
      },
      "text/plain": [
       "IntProgress(value=0, description='Downloading:', max=2)"
      ]
     },
     "metadata": {},
     "output_type": "display_data"
    },
    {
     "name": "stdout",
     "output_type": "stream",
     "text": [
      "Found 49 items, which will take 1 pages\n"
     ]
    }
   ],
   "source": [
    "############################################################\n",
    "# Fetch the raw data and load data we need\n",
    "raw_data = ga.get_activity(github_org, start_date)\n",
    "bot_names = pd.read_csv('../bot_names.csv')['names'].tolist()\n",
    "data = raw_data.copy()\n",
    "\n",
    "# Prepare our data\n",
    "data[\"kind\"] = data[\"url\"].map(lambda a: \"issue\" if \"issues/\" in a else \"pr\")\n",
    "data[\"mergedBy\"] = data[\"mergedBy\"].map(lambda a: a[\"login\"] if not isinstance(a, (float, type(None))) else None)\n",
    "\n",
    "prs = data.query(\"kind == 'pr'\")\n",
    "issues = data.query(\"kind == 'issue'\")\n",
    "\n",
    "# Pull out the comments\n",
    "comments = []\n",
    "for _, irow in data.iterrows():\n",
    "    for icomment in irow['comments']['edges']:\n",
    "        icomment = icomment[\"node\"].copy()\n",
    "        icomment[\"author\"] = icomment[\"author\"][\"login\"] if icomment[\"author\"] else None\n",
    "        icomment[\"org\"] = irow[\"org\"]\n",
    "        icomment[\"repo\"] = irow[\"repo\"]\n",
    "        icomment[\"id\"] = irow[\"id\"]\n",
    "        comments.append(pd.Series(icomment))\n",
    "comments = pd.DataFrame(comments)\n",
    "\n",
    "# Clean up\n",
    "for idata in [prs, comments, issues]:\n",
    "    idata.query(\"author not in @bot_names\", inplace=True)\n",
    "    idata.drop_duplicates(subset=[\"url\"], inplace=True)\n",
    "\n",
    "# What are the top N repos, we will only plot these in the full data plots\n",
    "top_commented_repos = comments.groupby(\"repo\").count().sort_values(\"createdAt\", ascending=False)['createdAt']\n",
    "use_repos = top_commented_repos.head(top_n_repos).index.tolist()"
   ]
  },
  {
   "cell_type": "markdown",
   "metadata": {
    "papermill": {
     "duration": 0.033213,
     "end_time": "2020-07-14T01:13:27.457618",
     "exception": false,
     "start_time": "2020-07-14T01:13:27.424405",
     "status": "completed"
    },
    "tags": [
     "remove_cell"
    ]
   },
   "source": [
    "## Save the data to disk"
   ]
  },
  {
   "cell_type": "code",
   "execution_count": 7,
   "metadata": {
    "execution": {
     "iopub.execute_input": "2020-07-14T01:13:27.525128Z",
     "iopub.status.busy": "2020-07-14T01:13:27.524634Z",
     "iopub.status.idle": "2020-07-14T01:13:27.841646Z",
     "shell.execute_reply": "2020-07-14T01:13:27.841179Z"
    },
    "papermill": {
     "duration": 0.352702,
     "end_time": "2020-07-14T01:13:27.841769",
     "exception": false,
     "start_time": "2020-07-14T01:13:27.489067",
     "status": "completed"
    },
    "tags": [
     "remove_cell"
    ]
   },
   "outputs": [],
   "source": [
    "from pathlib import Path\n",
    "for name, idata in [(\"comments\", comments), (\"prs\", prs), (\"issues\", issues)]:\n",
    "    path_data = Path(f\"./{name}.csv\")\n",
    "    if path_data.exists():\n",
    "        idata = pd.read_csv(path_data).append(idata)\n",
    "    idata = idata.drop_duplicates(subset=[\"url\"])\n",
    "    idata.to_csv(path_data, index=None)"
   ]
  },
  {
   "cell_type": "markdown",
   "metadata": {
    "papermill": {
     "duration": 0.030942,
     "end_time": "2020-07-14T01:13:27.906043",
     "exception": false,
     "start_time": "2020-07-14T01:13:27.875101",
     "status": "completed"
    },
    "tags": [],
    "toc-hr-collapsed": false
   },
   "source": [
    "## Merged Pull requests\n",
    "\n",
    "Here's an analysis of **merged pull requests** across each of the repositories in the Jupyter\n",
    "ecosystem."
   ]
  },
  {
   "cell_type": "code",
   "execution_count": 8,
   "metadata": {
    "execution": {
     "iopub.execute_input": "2020-07-14T01:13:27.983446Z",
     "iopub.status.busy": "2020-07-14T01:13:27.982776Z",
     "iopub.status.idle": "2020-07-14T01:13:27.986789Z",
     "shell.execute_reply": "2020-07-14T01:13:27.987317Z"
    },
    "papermill": {
     "duration": 0.045668,
     "end_time": "2020-07-14T01:13:27.987456",
     "exception": false,
     "start_time": "2020-07-14T01:13:27.941788",
     "status": "completed"
    },
    "tags": [
     "remove_cell"
    ]
   },
   "outputs": [],
   "source": [
    "merged = prs.query('state == \"MERGED\" and closedAt > @start_date and closedAt < @stop_date')"
   ]
  },
  {
   "cell_type": "code",
   "execution_count": 9,
   "metadata": {
    "execution": {
     "iopub.execute_input": "2020-07-14T01:13:28.079865Z",
     "iopub.status.busy": "2020-07-14T01:13:28.070555Z",
     "iopub.status.idle": "2020-07-14T01:13:28.096503Z",
     "shell.execute_reply": "2020-07-14T01:13:28.097046Z"
    },
    "papermill": {
     "duration": 0.069854,
     "end_time": "2020-07-14T01:13:28.097195",
     "exception": false,
     "start_time": "2020-07-14T01:13:28.027341",
     "status": "completed"
    },
    "tags": [
     "hide_input"
    ]
   },
   "outputs": [
    {
     "data": {
      "text/html": [
       "\n",
       "<div id=\"altair-viz-ede38c92fcda496a9e7a42e5d75c97c2\"></div>\n",
       "<script type=\"text/javascript\">\n",
       "  (function(spec, embedOpt){\n",
       "    let outputDiv = document.currentScript.previousElementSibling;\n",
       "    if (outputDiv.id !== \"altair-viz-ede38c92fcda496a9e7a42e5d75c97c2\") {\n",
       "      outputDiv = document.getElementById(\"altair-viz-ede38c92fcda496a9e7a42e5d75c97c2\");\n",
       "    }\n",
       "    const paths = {\n",
       "      \"vega\": \"https://cdn.jsdelivr.net/npm//vega@5?noext\",\n",
       "      \"vega-lib\": \"https://cdn.jsdelivr.net/npm//vega-lib?noext\",\n",
       "      \"vega-lite\": \"https://cdn.jsdelivr.net/npm//vega-lite@4.8.1?noext\",\n",
       "      \"vega-embed\": \"https://cdn.jsdelivr.net/npm//vega-embed@6?noext\",\n",
       "    };\n",
       "\n",
       "    function loadScript(lib) {\n",
       "      return new Promise(function(resolve, reject) {\n",
       "        var s = document.createElement('script');\n",
       "        s.src = paths[lib];\n",
       "        s.async = true;\n",
       "        s.onload = () => resolve(paths[lib]);\n",
       "        s.onerror = () => reject(`Error loading script: ${paths[lib]}`);\n",
       "        document.getElementsByTagName(\"head\")[0].appendChild(s);\n",
       "      });\n",
       "    }\n",
       "\n",
       "    function showError(err) {\n",
       "      outputDiv.innerHTML = `<div class=\"error\" style=\"color:red;\">${err}</div>`;\n",
       "      throw err;\n",
       "    }\n",
       "\n",
       "    function displayChart(vegaEmbed) {\n",
       "      vegaEmbed(outputDiv, spec, embedOpt)\n",
       "        .catch(err => showError(`Javascript Error: ${err.message}<br>This usually means there's a typo in your chart specification. See the javascript console for the full traceback.`));\n",
       "    }\n",
       "\n",
       "    if(typeof define === \"function\" && define.amd) {\n",
       "      requirejs.config({paths});\n",
       "      require([\"vega-embed\"], displayChart, err => showError(`Error loading script: ${err.message}`));\n",
       "    } else if (typeof vegaEmbed === \"function\") {\n",
       "      displayChart(vegaEmbed);\n",
       "    } else {\n",
       "      loadScript(\"vega\")\n",
       "        .then(() => loadScript(\"vega-lite\"))\n",
       "        .then(() => loadScript(\"vega-embed\"))\n",
       "        .catch(showError)\n",
       "        .then(() => displayChart(vegaEmbed));\n",
       "    }\n",
       "  })({\"config\": {\"axisLeft\": {\"labelFontSize\": 15}, \"axisBottom\": {\"labelFontSize\": 15}}, \"data\": {\"name\": \"data-b2a49304ce4cd0f28377097435ed8c50\"}, \"mark\": \"bar\", \"encoding\": {\"color\": {\"type\": \"nominal\", \"field\": \"org\"}, \"x\": {\"type\": \"nominal\", \"field\": \"repo\", \"sort\": [\"voila\", \"voila-gridstack\", \"voila-material\", \"voila-dashboards.github.io\"]}, \"y\": {\"type\": \"quantitative\", \"field\": \"author\"}}, \"title\": \"Merged PRs in the last 60 days\", \"$schema\": \"https://vega.github.io/schema/vega-lite/v4.8.1.json\", \"datasets\": {\"data-b2a49304ce4cd0f28377097435ed8c50\": [{\"org\": \"voila-dashboards\", \"repo\": \"voila\", \"author\": 15}, {\"org\": \"voila-dashboards\", \"repo\": \"voila-gridstack\", \"author\": 5}, {\"org\": \"voila-dashboards\", \"repo\": \"voila-material\", \"author\": 4}, {\"org\": \"voila-dashboards\", \"repo\": \"voila-dashboards.github.io\", \"author\": 2}]}}, {\"mode\": \"vega-lite\"});\n",
       "</script>"
      ],
      "text/plain": [
       "alt.Chart(...)"
      ]
     },
     "execution_count": 9,
     "metadata": {},
     "output_type": "execute_result"
    }
   ],
   "source": [
    "prs_by_repo = merged.groupby(['org', 'repo']).count()['author'].reset_index().sort_values(['org', 'author'], ascending=False)\n",
    "alt.Chart(data=prs_by_repo, title=f\"Merged PRs in the last {n_days} days\").mark_bar().encode(\n",
    "    x=alt.X('repo', sort=prs_by_repo['repo'].values.tolist()),\n",
    "    y='author',\n",
    "    color='org'\n",
    ")"
   ]
  },
  {
   "cell_type": "markdown",
   "metadata": {
    "papermill": {
     "duration": 0.032576,
     "end_time": "2020-07-14T01:13:28.163074",
     "exception": false,
     "start_time": "2020-07-14T01:13:28.130498",
     "status": "completed"
    },
    "tags": []
   },
   "source": [
    "### Authoring and merging stats by repository\n",
    "\n",
    "Let's see who has been doing most of the PR authoring and merging. The PR author is generally the\n",
    "person that implemented a change in the repository (code, documentation, etc). The PR merger is\n",
    "the person that \"pressed the green button\" and got the change into the main codebase."
   ]
  },
  {
   "cell_type": "code",
   "execution_count": 10,
   "metadata": {
    "execution": {
     "iopub.execute_input": "2020-07-14T01:13:28.252113Z",
     "iopub.status.busy": "2020-07-14T01:13:28.242053Z",
     "iopub.status.idle": "2020-07-14T01:13:28.254491Z",
     "shell.execute_reply": "2020-07-14T01:13:28.253983Z"
    },
    "papermill": {
     "duration": 0.058335,
     "end_time": "2020-07-14T01:13:28.254597",
     "exception": false,
     "start_time": "2020-07-14T01:13:28.196262",
     "status": "completed"
    },
    "tags": [
     "remove_cell"
    ]
   },
   "outputs": [],
   "source": [
    "# Prep our merging DF\n",
    "merged_by_repo = merged.groupby(['repo', 'author'], as_index=False).agg({'id': 'count', 'authorAssociation': 'first'}).rename(columns={'id': \"authored\", 'author': 'username'})\n",
    "closed_by_repo = merged.groupby(['repo', 'mergedBy']).count()['id'].reset_index().rename(columns={'id': \"closed\", \"mergedBy\": \"username\"})"
   ]
  },
  {
   "cell_type": "code",
   "execution_count": 11,
   "metadata": {
    "execution": {
     "iopub.execute_input": "2020-07-14T01:13:28.349107Z",
     "iopub.status.busy": "2020-07-14T01:13:28.337404Z",
     "iopub.status.idle": "2020-07-14T01:13:28.355956Z",
     "shell.execute_reply": "2020-07-14T01:13:28.356394Z"
    },
    "papermill": {
     "duration": 0.067857,
     "end_time": "2020-07-14T01:13:28.356546",
     "exception": false,
     "start_time": "2020-07-14T01:13:28.288689",
     "status": "completed"
    },
    "tags": [
     "hide_input"
    ]
   },
   "outputs": [
    {
     "data": {
      "text/html": [
       "\n",
       "<div id=\"altair-viz-182503bebd0d4f3b9ef755b7a3cda17d\"></div>\n",
       "<script type=\"text/javascript\">\n",
       "  (function(spec, embedOpt){\n",
       "    let outputDiv = document.currentScript.previousElementSibling;\n",
       "    if (outputDiv.id !== \"altair-viz-182503bebd0d4f3b9ef755b7a3cda17d\") {\n",
       "      outputDiv = document.getElementById(\"altair-viz-182503bebd0d4f3b9ef755b7a3cda17d\");\n",
       "    }\n",
       "    const paths = {\n",
       "      \"vega\": \"https://cdn.jsdelivr.net/npm//vega@5?noext\",\n",
       "      \"vega-lib\": \"https://cdn.jsdelivr.net/npm//vega-lib?noext\",\n",
       "      \"vega-lite\": \"https://cdn.jsdelivr.net/npm//vega-lite@4.8.1?noext\",\n",
       "      \"vega-embed\": \"https://cdn.jsdelivr.net/npm//vega-embed@6?noext\",\n",
       "    };\n",
       "\n",
       "    function loadScript(lib) {\n",
       "      return new Promise(function(resolve, reject) {\n",
       "        var s = document.createElement('script');\n",
       "        s.src = paths[lib];\n",
       "        s.async = true;\n",
       "        s.onload = () => resolve(paths[lib]);\n",
       "        s.onerror = () => reject(`Error loading script: ${paths[lib]}`);\n",
       "        document.getElementsByTagName(\"head\")[0].appendChild(s);\n",
       "      });\n",
       "    }\n",
       "\n",
       "    function showError(err) {\n",
       "      outputDiv.innerHTML = `<div class=\"error\" style=\"color:red;\">${err}</div>`;\n",
       "      throw err;\n",
       "    }\n",
       "\n",
       "    function displayChart(vegaEmbed) {\n",
       "      vegaEmbed(outputDiv, spec, embedOpt)\n",
       "        .catch(err => showError(`Javascript Error: ${err.message}<br>This usually means there's a typo in your chart specification. See the javascript console for the full traceback.`));\n",
       "    }\n",
       "\n",
       "    if(typeof define === \"function\" && define.amd) {\n",
       "      requirejs.config({paths});\n",
       "      require([\"vega-embed\"], displayChart, err => showError(`Error loading script: ${err.message}`));\n",
       "    } else if (typeof vegaEmbed === \"function\") {\n",
       "      displayChart(vegaEmbed);\n",
       "    } else {\n",
       "      loadScript(\"vega\")\n",
       "        .then(() => loadScript(\"vega-lite\"))\n",
       "        .then(() => loadScript(\"vega-embed\"))\n",
       "        .catch(showError)\n",
       "        .then(() => displayChart(vegaEmbed));\n",
       "    }\n",
       "  })({\"config\": {\"axisLeft\": {\"labelFontSize\": 15}, \"axisBottom\": {\"labelFontSize\": 15}}, \"data\": {\"name\": \"data-0dfaa2e6efc08d623c1c7d467e6570ce\"}, \"mark\": \"bar\", \"encoding\": {\"color\": {\"type\": \"nominal\", \"field\": \"authorAssociation\", \"scale\": {\"domain\": [\"MEMBER\", \"CONTRIBUTOR\", \"COLLABORATOR\", \"NONE\"], \"range\": [\"rgb(211.82745098039214, 211.82745098039214, 211.82745098039214)\", \"rgb(166.98562091503268, 229.89803921568628, 166.98562091503268)\", \"rgb(96.37647058823529, 192.75294117647059, 96.37647058823529)\", \"rgb(0.0, 100.3921568627451, 0.0)\"]}}, \"x\": {\"type\": \"nominal\", \"field\": \"username\"}, \"y\": {\"type\": \"quantitative\", \"field\": \"authored\"}}, \"title\": \"PR authors for voila-dashboards in the last 60 days\", \"$schema\": \"https://vega.github.io/schema/vega-lite/v4.8.1.json\", \"datasets\": {\"data-0dfaa2e6efc08d623c1c7d467e6570ce\": [{\"username\": \"SylvainCorlay\", \"authored\": 6, \"authorAssociation\": \"MEMBER\"}, {\"username\": \"maartenbreddels\", \"authored\": 4, \"authorAssociation\": \"MEMBER\"}, {\"username\": \"martinRenou\", \"authored\": 4, \"authorAssociation\": \"MEMBER\"}, {\"username\": \"jtpio\", \"authored\": 3, \"authorAssociation\": \"MEMBER\"}, {\"username\": \"davidbrochart\", \"authored\": 2, \"authorAssociation\": \"MEMBER\"}, {\"username\": \"madhur-tandon\", \"authored\": 2, \"authorAssociation\": \"CONTRIBUTOR\"}, {\"username\": \"mariobuikhuizen\", \"authored\": 2, \"authorAssociation\": \"MEMBER\"}, {\"username\": \"brichet\", \"authored\": 1, \"authorAssociation\": \"CONTRIBUTOR\"}, {\"username\": \"dependabot\", \"authored\": 1, \"authorAssociation\": \"CONTRIBUTOR\"}, {\"username\": \"timkpaine\", \"authored\": 1, \"authorAssociation\": \"MEMBER\"}]}}, {\"mode\": \"vega-lite\"});\n",
       "</script>"
      ],
      "text/plain": [
       "alt.Chart(...)"
      ]
     },
     "execution_count": 11,
     "metadata": {},
     "output_type": "execute_result"
    }
   ],
   "source": [
    "charts = []\n",
    "title = f\"PR authors for {github_org} in the last {n_days} days\"\n",
    "this_data = merged_by_repo.replace(np.nan, 0).groupby('username', as_index=False).agg({'authored': 'sum', 'authorAssociation': 'first'})\n",
    "this_data = this_data.sort_values('authored', ascending=False)\n",
    "ch = alt.Chart(data=this_data, title=title).mark_bar().encode(\n",
    "    x='username',\n",
    "    y='authored',\n",
    "    color=alt.Color('authorAssociation', scale=alt.Scale(domain=author_types, range=author_colors))\n",
    ")\n",
    "ch"
   ]
  },
  {
   "cell_type": "code",
   "execution_count": 12,
   "metadata": {
    "execution": {
     "iopub.execute_input": "2020-07-14T01:13:28.457553Z",
     "iopub.status.busy": "2020-07-14T01:13:28.456824Z",
     "iopub.status.idle": "2020-07-14T01:13:28.467498Z",
     "shell.execute_reply": "2020-07-14T01:13:28.466960Z"
    },
    "papermill": {
     "duration": 0.073819,
     "end_time": "2020-07-14T01:13:28.467613",
     "exception": false,
     "start_time": "2020-07-14T01:13:28.393794",
     "status": "completed"
    },
    "tags": [
     "hide_input"
    ]
   },
   "outputs": [
    {
     "data": {
      "text/html": [
       "\n",
       "<div id=\"altair-viz-89cf799123524702bc067513b4654cb7\"></div>\n",
       "<script type=\"text/javascript\">\n",
       "  (function(spec, embedOpt){\n",
       "    let outputDiv = document.currentScript.previousElementSibling;\n",
       "    if (outputDiv.id !== \"altair-viz-89cf799123524702bc067513b4654cb7\") {\n",
       "      outputDiv = document.getElementById(\"altair-viz-89cf799123524702bc067513b4654cb7\");\n",
       "    }\n",
       "    const paths = {\n",
       "      \"vega\": \"https://cdn.jsdelivr.net/npm//vega@5?noext\",\n",
       "      \"vega-lib\": \"https://cdn.jsdelivr.net/npm//vega-lib?noext\",\n",
       "      \"vega-lite\": \"https://cdn.jsdelivr.net/npm//vega-lite@4.8.1?noext\",\n",
       "      \"vega-embed\": \"https://cdn.jsdelivr.net/npm//vega-embed@6?noext\",\n",
       "    };\n",
       "\n",
       "    function loadScript(lib) {\n",
       "      return new Promise(function(resolve, reject) {\n",
       "        var s = document.createElement('script');\n",
       "        s.src = paths[lib];\n",
       "        s.async = true;\n",
       "        s.onload = () => resolve(paths[lib]);\n",
       "        s.onerror = () => reject(`Error loading script: ${paths[lib]}`);\n",
       "        document.getElementsByTagName(\"head\")[0].appendChild(s);\n",
       "      });\n",
       "    }\n",
       "\n",
       "    function showError(err) {\n",
       "      outputDiv.innerHTML = `<div class=\"error\" style=\"color:red;\">${err}</div>`;\n",
       "      throw err;\n",
       "    }\n",
       "\n",
       "    function displayChart(vegaEmbed) {\n",
       "      vegaEmbed(outputDiv, spec, embedOpt)\n",
       "        .catch(err => showError(`Javascript Error: ${err.message}<br>This usually means there's a typo in your chart specification. See the javascript console for the full traceback.`));\n",
       "    }\n",
       "\n",
       "    if(typeof define === \"function\" && define.amd) {\n",
       "      requirejs.config({paths});\n",
       "      require([\"vega-embed\"], displayChart, err => showError(`Error loading script: ${err.message}`));\n",
       "    } else if (typeof vegaEmbed === \"function\") {\n",
       "      displayChart(vegaEmbed);\n",
       "    } else {\n",
       "      loadScript(\"vega\")\n",
       "        .then(() => loadScript(\"vega-lite\"))\n",
       "        .then(() => loadScript(\"vega-embed\"))\n",
       "        .catch(showError)\n",
       "        .then(() => displayChart(vegaEmbed));\n",
       "    }\n",
       "  })({\"config\": {\"axisLeft\": {\"labelFontSize\": 15}, \"axisBottom\": {\"labelFontSize\": 15}}, \"data\": {\"name\": \"data-81388177c6af991c2d524fbd1c768f4a\"}, \"mark\": \"bar\", \"encoding\": {\"x\": {\"type\": \"nominal\", \"field\": \"username\"}, \"y\": {\"type\": \"quantitative\", \"field\": \"closed\"}}, \"title\": \"Merges for voila-dashboards in the last 60 days\", \"$schema\": \"https://vega.github.io/schema/vega-lite/v4.8.1.json\", \"datasets\": {\"data-81388177c6af991c2d524fbd1c768f4a\": [{\"repo\": \"voila\", \"username\": \"SylvainCorlay\", \"closed\": 13}, {\"repo\": \"voila\", \"username\": \"maartenbreddels\", \"closed\": 1}, {\"repo\": \"voila\", \"username\": \"martinRenou\", \"closed\": 1}, {\"repo\": \"voila-dashboards.github.io\", \"username\": \"SylvainCorlay\", \"closed\": 1}, {\"repo\": \"voila-dashboards.github.io\", \"username\": \"jtpio\", \"closed\": 1}, {\"repo\": \"voila-gridstack\", \"username\": \"SylvainCorlay\", \"closed\": 5}, {\"repo\": \"voila-material\", \"username\": \"martinRenou\", \"closed\": 4}]}}, {\"mode\": \"vega-lite\"});\n",
       "</script>"
      ],
      "text/plain": [
       "alt.Chart(...)"
      ]
     },
     "execution_count": 12,
     "metadata": {},
     "output_type": "execute_result"
    }
   ],
   "source": [
    "charts = []\n",
    "title = f\"Merges for {github_org} in the last {n_days} days\"\n",
    "ch = alt.Chart(data=closed_by_repo.replace(np.nan, 0), title=title).mark_bar().encode(\n",
    "    x='username',\n",
    "    y='closed',\n",
    ")\n",
    "ch"
   ]
  },
  {
   "cell_type": "markdown",
   "metadata": {
    "papermill": {
     "duration": 0.034397,
     "end_time": "2020-07-14T01:13:28.542654",
     "exception": false,
     "start_time": "2020-07-14T01:13:28.508257",
     "status": "completed"
    },
    "tags": []
   },
   "source": [
    "## Issues\n",
    "\n",
    "Issues are **conversations** that happen on our GitHub repositories. Here's an\n",
    "analysis of issues across the Jupyter organizations."
   ]
  },
  {
   "cell_type": "code",
   "execution_count": 13,
   "metadata": {
    "execution": {
     "iopub.execute_input": "2020-07-14T01:13:28.626964Z",
     "iopub.status.busy": "2020-07-14T01:13:28.626437Z",
     "iopub.status.idle": "2020-07-14T01:13:28.628144Z",
     "shell.execute_reply": "2020-07-14T01:13:28.628701Z"
    },
    "papermill": {
     "duration": 0.052169,
     "end_time": "2020-07-14T01:13:28.628854",
     "exception": false,
     "start_time": "2020-07-14T01:13:28.576685",
     "status": "completed"
    },
    "tags": [
     "remove_cell"
    ]
   },
   "outputs": [],
   "source": [
    "created = issues.query('state == \"OPEN\" and createdAt > @start_date and createdAt < @stop_date')\n",
    "closed = issues.query('state == \"CLOSED\" and closedAt > @start_date and closedAt < @stop_date')"
   ]
  },
  {
   "cell_type": "code",
   "execution_count": 14,
   "metadata": {
    "execution": {
     "iopub.execute_input": "2020-07-14T01:13:28.720745Z",
     "iopub.status.busy": "2020-07-14T01:13:28.710531Z",
     "iopub.status.idle": "2020-07-14T01:13:28.731688Z",
     "shell.execute_reply": "2020-07-14T01:13:28.732194Z"
    },
    "papermill": {
     "duration": 0.067959,
     "end_time": "2020-07-14T01:13:28.732316",
     "exception": false,
     "start_time": "2020-07-14T01:13:28.664357",
     "status": "completed"
    },
    "tags": [
     "hide_input"
    ]
   },
   "outputs": [
    {
     "data": {
      "text/html": [
       "\n",
       "<div id=\"altair-viz-75818c6557fa450193bc2b953666dd40\"></div>\n",
       "<script type=\"text/javascript\">\n",
       "  (function(spec, embedOpt){\n",
       "    let outputDiv = document.currentScript.previousElementSibling;\n",
       "    if (outputDiv.id !== \"altair-viz-75818c6557fa450193bc2b953666dd40\") {\n",
       "      outputDiv = document.getElementById(\"altair-viz-75818c6557fa450193bc2b953666dd40\");\n",
       "    }\n",
       "    const paths = {\n",
       "      \"vega\": \"https://cdn.jsdelivr.net/npm//vega@5?noext\",\n",
       "      \"vega-lib\": \"https://cdn.jsdelivr.net/npm//vega-lib?noext\",\n",
       "      \"vega-lite\": \"https://cdn.jsdelivr.net/npm//vega-lite@4.8.1?noext\",\n",
       "      \"vega-embed\": \"https://cdn.jsdelivr.net/npm//vega-embed@6?noext\",\n",
       "    };\n",
       "\n",
       "    function loadScript(lib) {\n",
       "      return new Promise(function(resolve, reject) {\n",
       "        var s = document.createElement('script');\n",
       "        s.src = paths[lib];\n",
       "        s.async = true;\n",
       "        s.onload = () => resolve(paths[lib]);\n",
       "        s.onerror = () => reject(`Error loading script: ${paths[lib]}`);\n",
       "        document.getElementsByTagName(\"head\")[0].appendChild(s);\n",
       "      });\n",
       "    }\n",
       "\n",
       "    function showError(err) {\n",
       "      outputDiv.innerHTML = `<div class=\"error\" style=\"color:red;\">${err}</div>`;\n",
       "      throw err;\n",
       "    }\n",
       "\n",
       "    function displayChart(vegaEmbed) {\n",
       "      vegaEmbed(outputDiv, spec, embedOpt)\n",
       "        .catch(err => showError(`Javascript Error: ${err.message}<br>This usually means there's a typo in your chart specification. See the javascript console for the full traceback.`));\n",
       "    }\n",
       "\n",
       "    if(typeof define === \"function\" && define.amd) {\n",
       "      requirejs.config({paths});\n",
       "      require([\"vega-embed\"], displayChart, err => showError(`Error loading script: ${err.message}`));\n",
       "    } else if (typeof vegaEmbed === \"function\") {\n",
       "      displayChart(vegaEmbed);\n",
       "    } else {\n",
       "      loadScript(\"vega\")\n",
       "        .then(() => loadScript(\"vega-lite\"))\n",
       "        .then(() => loadScript(\"vega-embed\"))\n",
       "        .catch(showError)\n",
       "        .then(() => displayChart(vegaEmbed));\n",
       "    }\n",
       "  })({\"config\": {\"axisLeft\": {\"labelFontSize\": 15}, \"axisBottom\": {\"labelFontSize\": 15}}, \"data\": {\"name\": \"data-aa1851edf11a5354e63afa432ebdbc69\"}, \"mark\": \"bar\", \"encoding\": {\"x\": {\"type\": \"nominal\", \"field\": \"repo\", \"sort\": [\"voila\", \"tljh-voila-gallery\", \"voila-material\", \"voila-vuetify\", \"voila-gridstack\", \"voila-reveal\"]}, \"y\": {\"type\": \"quantitative\", \"field\": \"number\"}}, \"title\": \"Issues created in the last 60 days\", \"$schema\": \"https://vega.github.io/schema/vega-lite/v4.8.1.json\", \"datasets\": {\"data-aa1851edf11a5354e63afa432ebdbc69\": [{\"org\": \"voila-dashboards\", \"repo\": \"tljh-voila-gallery\", \"number\": 4, \"org/repo\": \"voila-dashboards/tljh-voila-gallery\"}, {\"org\": \"voila-dashboards\", \"repo\": \"voila\", \"number\": 27, \"org/repo\": \"voila-dashboards/voila\"}, {\"org\": \"voila-dashboards\", \"repo\": \"voila-gridstack\", \"number\": 1, \"org/repo\": \"voila-dashboards/voila-gridstack\"}, {\"org\": \"voila-dashboards\", \"repo\": \"voila-material\", \"number\": 2, \"org/repo\": \"voila-dashboards/voila-material\"}, {\"org\": \"voila-dashboards\", \"repo\": \"voila-reveal\", \"number\": 1, \"org/repo\": \"voila-dashboards/voila-reveal\"}, {\"org\": \"voila-dashboards\", \"repo\": \"voila-vuetify\", \"number\": 2, \"org/repo\": \"voila-dashboards/voila-vuetify\"}]}}, {\"mode\": \"vega-lite\"});\n",
       "</script>"
      ],
      "text/plain": [
       "alt.Chart(...)"
      ]
     },
     "execution_count": 14,
     "metadata": {},
     "output_type": "execute_result"
    }
   ],
   "source": [
    "created_counts = created.groupby(['org', 'repo']).count()['number'].reset_index()\n",
    "created_counts['org/repo'] = created_counts.apply(lambda a: a['org'] + '/' + a['repo'], axis=1)\n",
    "sorted_vals = created_counts.sort_values(['org', 'number'], ascending=False)['repo'].values\n",
    "alt.Chart(data=created_counts, title=f\"Issues created in the last {n_days} days\").mark_bar().encode(\n",
    "    x=alt.X('repo', sort=alt.Sort(sorted_vals.tolist())),\n",
    "    y='number',\n",
    ")"
   ]
  },
  {
   "cell_type": "code",
   "execution_count": 15,
   "metadata": {
    "execution": {
     "iopub.execute_input": "2020-07-14T01:13:28.831547Z",
     "iopub.status.busy": "2020-07-14T01:13:28.830986Z",
     "iopub.status.idle": "2020-07-14T01:13:28.833200Z",
     "shell.execute_reply": "2020-07-14T01:13:28.833721Z"
    },
    "papermill": {
     "duration": 0.063105,
     "end_time": "2020-07-14T01:13:28.833860",
     "exception": false,
     "start_time": "2020-07-14T01:13:28.770755",
     "status": "completed"
    },
    "tags": [
     "hide_input"
    ]
   },
   "outputs": [
    {
     "data": {
      "text/html": [
       "\n",
       "<div id=\"altair-viz-d1adc1f9de384f6b9b6f1aa948746ac6\"></div>\n",
       "<script type=\"text/javascript\">\n",
       "  (function(spec, embedOpt){\n",
       "    let outputDiv = document.currentScript.previousElementSibling;\n",
       "    if (outputDiv.id !== \"altair-viz-d1adc1f9de384f6b9b6f1aa948746ac6\") {\n",
       "      outputDiv = document.getElementById(\"altair-viz-d1adc1f9de384f6b9b6f1aa948746ac6\");\n",
       "    }\n",
       "    const paths = {\n",
       "      \"vega\": \"https://cdn.jsdelivr.net/npm//vega@5?noext\",\n",
       "      \"vega-lib\": \"https://cdn.jsdelivr.net/npm//vega-lib?noext\",\n",
       "      \"vega-lite\": \"https://cdn.jsdelivr.net/npm//vega-lite@4.8.1?noext\",\n",
       "      \"vega-embed\": \"https://cdn.jsdelivr.net/npm//vega-embed@6?noext\",\n",
       "    };\n",
       "\n",
       "    function loadScript(lib) {\n",
       "      return new Promise(function(resolve, reject) {\n",
       "        var s = document.createElement('script');\n",
       "        s.src = paths[lib];\n",
       "        s.async = true;\n",
       "        s.onload = () => resolve(paths[lib]);\n",
       "        s.onerror = () => reject(`Error loading script: ${paths[lib]}`);\n",
       "        document.getElementsByTagName(\"head\")[0].appendChild(s);\n",
       "      });\n",
       "    }\n",
       "\n",
       "    function showError(err) {\n",
       "      outputDiv.innerHTML = `<div class=\"error\" style=\"color:red;\">${err}</div>`;\n",
       "      throw err;\n",
       "    }\n",
       "\n",
       "    function displayChart(vegaEmbed) {\n",
       "      vegaEmbed(outputDiv, spec, embedOpt)\n",
       "        .catch(err => showError(`Javascript Error: ${err.message}<br>This usually means there's a typo in your chart specification. See the javascript console for the full traceback.`));\n",
       "    }\n",
       "\n",
       "    if(typeof define === \"function\" && define.amd) {\n",
       "      requirejs.config({paths});\n",
       "      require([\"vega-embed\"], displayChart, err => showError(`Error loading script: ${err.message}`));\n",
       "    } else if (typeof vegaEmbed === \"function\") {\n",
       "      displayChart(vegaEmbed);\n",
       "    } else {\n",
       "      loadScript(\"vega\")\n",
       "        .then(() => loadScript(\"vega-lite\"))\n",
       "        .then(() => loadScript(\"vega-embed\"))\n",
       "        .catch(showError)\n",
       "        .then(() => displayChart(vegaEmbed));\n",
       "    }\n",
       "  })({\"config\": {\"axisLeft\": {\"labelFontSize\": 15}, \"axisBottom\": {\"labelFontSize\": 15}}, \"data\": {\"name\": \"data-78ccee56178c70b3cfb874eab8cfd34b\"}, \"mark\": \"bar\", \"encoding\": {\"x\": {\"type\": \"nominal\", \"field\": \"repo\", \"sort\": [\"voila\", \"voila-dashboards.github.io\", \"voila-gridstack\", \"voila-material\", \"voila-vuetify\"]}, \"y\": {\"type\": \"quantitative\", \"field\": \"number\"}}, \"title\": \"Issues closed in the last 60 days\", \"$schema\": \"https://vega.github.io/schema/vega-lite/v4.8.1.json\", \"datasets\": {\"data-78ccee56178c70b3cfb874eab8cfd34b\": [{\"org\": \"voila-dashboards\", \"repo\": \"voila\", \"number\": 13, \"org/repo\": \"voila-dashboards/voila\"}, {\"org\": \"voila-dashboards\", \"repo\": \"voila-dashboards.github.io\", \"number\": 1, \"org/repo\": \"voila-dashboards/voila-dashboards.github.io\"}, {\"org\": \"voila-dashboards\", \"repo\": \"voila-gridstack\", \"number\": 1, \"org/repo\": \"voila-dashboards/voila-gridstack\"}, {\"org\": \"voila-dashboards\", \"repo\": \"voila-material\", \"number\": 1, \"org/repo\": \"voila-dashboards/voila-material\"}, {\"org\": \"voila-dashboards\", \"repo\": \"voila-vuetify\", \"number\": 1, \"org/repo\": \"voila-dashboards/voila-vuetify\"}]}}, {\"mode\": \"vega-lite\"});\n",
       "</script>"
      ],
      "text/plain": [
       "alt.Chart(...)"
      ]
     },
     "execution_count": 15,
     "metadata": {},
     "output_type": "execute_result"
    }
   ],
   "source": [
    "closed_counts = closed.groupby(['org', 'repo']).count()['number'].reset_index()\n",
    "closed_counts['org/repo'] = closed_counts.apply(lambda a: a['org'] + '/' + a['repo'], axis=1)\n",
    "sorted_vals = closed_counts.sort_values(['number'], ascending=False)['repo'].values\n",
    "alt.Chart(data=closed_counts, title=f\"Issues closed in the last {n_days} days\").mark_bar().encode(\n",
    "    x=alt.X('repo', sort=alt.Sort(sorted_vals.tolist())),\n",
    "    y='number',\n",
    ")"
   ]
  },
  {
   "cell_type": "code",
   "execution_count": 16,
   "metadata": {
    "execution": {
     "iopub.execute_input": "2020-07-14T01:13:28.917154Z",
     "iopub.status.busy": "2020-07-14T01:13:28.916514Z",
     "iopub.status.idle": "2020-07-14T01:13:28.931060Z",
     "shell.execute_reply": "2020-07-14T01:13:28.930396Z"
    },
    "papermill": {
     "duration": 0.060896,
     "end_time": "2020-07-14T01:13:28.931213",
     "exception": false,
     "start_time": "2020-07-14T01:13:28.870317",
     "status": "completed"
    },
    "tags": [
     "remove_cell"
    ]
   },
   "outputs": [],
   "source": [
    "created_closed = pd.merge(created_counts.rename(columns={'number': 'created'}).drop(columns='org/repo'),\n",
    "                          closed_counts.rename(columns={'number': 'closed'}).drop(columns='org/repo'),\n",
    "                          on=['org', 'repo'], how='outer')\n",
    "\n",
    "created_closed = pd.melt(created_closed, id_vars=['org', 'repo'], var_name=\"kind\", value_name=\"count\").replace(np.nan, 0)"
   ]
  },
  {
   "cell_type": "code",
   "execution_count": 17,
   "metadata": {
    "execution": {
     "iopub.execute_input": "2020-07-14T01:13:29.045532Z",
     "iopub.status.busy": "2020-07-14T01:13:29.044891Z",
     "iopub.status.idle": "2020-07-14T01:13:29.048565Z",
     "shell.execute_reply": "2020-07-14T01:13:29.047781Z"
    },
    "papermill": {
     "duration": 0.075026,
     "end_time": "2020-07-14T01:13:29.048721",
     "exception": false,
     "start_time": "2020-07-14T01:13:28.973695",
     "status": "completed"
    },
    "tags": [
     "hide_input"
    ]
   },
   "outputs": [
    {
     "data": {
      "text/html": [
       "\n",
       "<div id=\"altair-viz-b92635841d29466aa15ff49c24bddefc\"></div>\n",
       "<script type=\"text/javascript\">\n",
       "  (function(spec, embedOpt){\n",
       "    let outputDiv = document.currentScript.previousElementSibling;\n",
       "    if (outputDiv.id !== \"altair-viz-b92635841d29466aa15ff49c24bddefc\") {\n",
       "      outputDiv = document.getElementById(\"altair-viz-b92635841d29466aa15ff49c24bddefc\");\n",
       "    }\n",
       "    const paths = {\n",
       "      \"vega\": \"https://cdn.jsdelivr.net/npm//vega@5?noext\",\n",
       "      \"vega-lib\": \"https://cdn.jsdelivr.net/npm//vega-lib?noext\",\n",
       "      \"vega-lite\": \"https://cdn.jsdelivr.net/npm//vega-lite@4.8.1?noext\",\n",
       "      \"vega-embed\": \"https://cdn.jsdelivr.net/npm//vega-embed@6?noext\",\n",
       "    };\n",
       "\n",
       "    function loadScript(lib) {\n",
       "      return new Promise(function(resolve, reject) {\n",
       "        var s = document.createElement('script');\n",
       "        s.src = paths[lib];\n",
       "        s.async = true;\n",
       "        s.onload = () => resolve(paths[lib]);\n",
       "        s.onerror = () => reject(`Error loading script: ${paths[lib]}`);\n",
       "        document.getElementsByTagName(\"head\")[0].appendChild(s);\n",
       "      });\n",
       "    }\n",
       "\n",
       "    function showError(err) {\n",
       "      outputDiv.innerHTML = `<div class=\"error\" style=\"color:red;\">${err}</div>`;\n",
       "      throw err;\n",
       "    }\n",
       "\n",
       "    function displayChart(vegaEmbed) {\n",
       "      vegaEmbed(outputDiv, spec, embedOpt)\n",
       "        .catch(err => showError(`Javascript Error: ${err.message}<br>This usually means there's a typo in your chart specification. See the javascript console for the full traceback.`));\n",
       "    }\n",
       "\n",
       "    if(typeof define === \"function\" && define.amd) {\n",
       "      requirejs.config({paths});\n",
       "      require([\"vega-embed\"], displayChart, err => showError(`Error loading script: ${err.message}`));\n",
       "    } else if (typeof vegaEmbed === \"function\") {\n",
       "      displayChart(vegaEmbed);\n",
       "    } else {\n",
       "      loadScript(\"vega\")\n",
       "        .then(() => loadScript(\"vega-lite\"))\n",
       "        .then(() => loadScript(\"vega-embed\"))\n",
       "        .catch(showError)\n",
       "        .then(() => displayChart(vegaEmbed));\n",
       "    }\n",
       "  })({\"config\": {\"axisLeft\": {\"labelFontSize\": 15}, \"axisBottom\": {\"labelFontSize\": 15}}, \"data\": {\"name\": \"data-2105f6ed40f1100c36bf5c1cd62e54aa\"}, \"mark\": \"bar\", \"encoding\": {\"color\": {\"type\": \"nominal\", \"field\": \"kind\"}, \"column\": {\"type\": \"nominal\", \"field\": \"repo\", \"header\": {\"labelFontSize\": 12, \"title\": \"Issue activity, last 60 days for voila-dashboards\", \"titleFontSize\": 15}}, \"x\": {\"type\": \"nominal\", \"axis\": {\"labelFontSize\": 15, \"title\": \"\"}, \"field\": \"kind\"}, \"y\": {\"type\": \"quantitative\", \"axis\": {\"labelFontSize\": 12, \"titleFontSize\": 15}, \"field\": \"count\"}}, \"width\": 120, \"$schema\": \"https://vega.github.io/schema/vega-lite/v4.8.1.json\", \"datasets\": {\"data-2105f6ed40f1100c36bf5c1cd62e54aa\": [{\"org\": \"voila-dashboards\", \"repo\": \"tljh-voila-gallery\", \"kind\": \"created\", \"count\": 4.0}, {\"org\": \"voila-dashboards\", \"repo\": \"voila\", \"kind\": \"created\", \"count\": 27.0}, {\"org\": \"voila-dashboards\", \"repo\": \"voila-gridstack\", \"kind\": \"created\", \"count\": 1.0}, {\"org\": \"voila-dashboards\", \"repo\": \"voila-material\", \"kind\": \"created\", \"count\": 2.0}, {\"org\": \"voila-dashboards\", \"repo\": \"voila-reveal\", \"kind\": \"created\", \"count\": 1.0}, {\"org\": \"voila-dashboards\", \"repo\": \"voila-vuetify\", \"kind\": \"created\", \"count\": 2.0}, {\"org\": \"voila-dashboards\", \"repo\": \"voila-dashboards.github.io\", \"kind\": \"created\", \"count\": 0.0}, {\"org\": \"voila-dashboards\", \"repo\": \"tljh-voila-gallery\", \"kind\": \"closed\", \"count\": 0.0}, {\"org\": \"voila-dashboards\", \"repo\": \"voila\", \"kind\": \"closed\", \"count\": 13.0}, {\"org\": \"voila-dashboards\", \"repo\": \"voila-gridstack\", \"kind\": \"closed\", \"count\": 1.0}, {\"org\": \"voila-dashboards\", \"repo\": \"voila-material\", \"kind\": \"closed\", \"count\": 1.0}, {\"org\": \"voila-dashboards\", \"repo\": \"voila-reveal\", \"kind\": \"closed\", \"count\": 0.0}, {\"org\": \"voila-dashboards\", \"repo\": \"voila-vuetify\", \"kind\": \"closed\", \"count\": 1.0}, {\"org\": \"voila-dashboards\", \"repo\": \"voila-dashboards.github.io\", \"kind\": \"closed\", \"count\": 1.0}]}}, {\"mode\": \"vega-lite\"});\n",
       "</script>"
      ],
      "text/plain": [
       "alt.Chart(...)"
      ]
     },
     "execution_count": 17,
     "metadata": {},
     "output_type": "execute_result"
    }
   ],
   "source": [
    "charts = []\n",
    "# Pick the top 10 repositories\n",
    "top_repos = created_closed.groupby(['repo']).sum().sort_values(by='count', ascending=False).head(10).index\n",
    "ch = alt.Chart(created_closed.query('repo in @top_repos'), width=120).mark_bar().encode(\n",
    "    x=alt.X(\"kind\", axis=alt.Axis(labelFontSize=15, title=\"\")), \n",
    "    y=alt.Y('count', axis=alt.Axis(titleFontSize=15, labelFontSize=12)),\n",
    "    color='kind',\n",
    "    column=alt.Column(\"repo\", header=alt.Header(title=f\"Issue activity, last {n_days} days for {github_org}\", titleFontSize=15, labelFontSize=12))\n",
    ")\n",
    "ch"
   ]
  },
  {
   "cell_type": "code",
   "execution_count": 18,
   "metadata": {
    "execution": {
     "iopub.execute_input": "2020-07-14T01:13:29.139739Z",
     "iopub.status.busy": "2020-07-14T01:13:29.139210Z",
     "iopub.status.idle": "2020-07-14T01:13:29.141066Z",
     "shell.execute_reply": "2020-07-14T01:13:29.141684Z"
    },
    "papermill": {
     "duration": 0.051324,
     "end_time": "2020-07-14T01:13:29.141871",
     "exception": false,
     "start_time": "2020-07-14T01:13:29.090547",
     "status": "completed"
    },
    "tags": [
     "remove_cell"
    ]
   },
   "outputs": [],
   "source": [
    "# Set to datetime\n",
    "for kind in ['createdAt', 'closedAt']:\n",
    "    closed.loc[:, kind] = pd.to_datetime(closed[kind])\n",
    "    \n",
    "closed.loc[:, 'time_open'] = closed['closedAt'] - closed['createdAt']\n",
    "closed.loc[:, 'time_open'] = closed['time_open'].dt.total_seconds()"
   ]
  },
  {
   "cell_type": "code",
   "execution_count": 19,
   "metadata": {
    "execution": {
     "iopub.execute_input": "2020-07-14T01:13:29.242981Z",
     "iopub.status.busy": "2020-07-14T01:13:29.242445Z",
     "iopub.status.idle": "2020-07-14T01:13:29.245197Z",
     "shell.execute_reply": "2020-07-14T01:13:29.245709Z"
    },
    "papermill": {
     "duration": 0.066644,
     "end_time": "2020-07-14T01:13:29.245842",
     "exception": false,
     "start_time": "2020-07-14T01:13:29.179198",
     "status": "completed"
    },
    "tags": [
     "hide_input"
    ]
   },
   "outputs": [
    {
     "data": {
      "text/html": [
       "\n",
       "<div id=\"altair-viz-b6e944868bd34300870dad498058e037\"></div>\n",
       "<script type=\"text/javascript\">\n",
       "  (function(spec, embedOpt){\n",
       "    let outputDiv = document.currentScript.previousElementSibling;\n",
       "    if (outputDiv.id !== \"altair-viz-b6e944868bd34300870dad498058e037\") {\n",
       "      outputDiv = document.getElementById(\"altair-viz-b6e944868bd34300870dad498058e037\");\n",
       "    }\n",
       "    const paths = {\n",
       "      \"vega\": \"https://cdn.jsdelivr.net/npm//vega@5?noext\",\n",
       "      \"vega-lib\": \"https://cdn.jsdelivr.net/npm//vega-lib?noext\",\n",
       "      \"vega-lite\": \"https://cdn.jsdelivr.net/npm//vega-lite@4.8.1?noext\",\n",
       "      \"vega-embed\": \"https://cdn.jsdelivr.net/npm//vega-embed@6?noext\",\n",
       "    };\n",
       "\n",
       "    function loadScript(lib) {\n",
       "      return new Promise(function(resolve, reject) {\n",
       "        var s = document.createElement('script');\n",
       "        s.src = paths[lib];\n",
       "        s.async = true;\n",
       "        s.onload = () => resolve(paths[lib]);\n",
       "        s.onerror = () => reject(`Error loading script: ${paths[lib]}`);\n",
       "        document.getElementsByTagName(\"head\")[0].appendChild(s);\n",
       "      });\n",
       "    }\n",
       "\n",
       "    function showError(err) {\n",
       "      outputDiv.innerHTML = `<div class=\"error\" style=\"color:red;\">${err}</div>`;\n",
       "      throw err;\n",
       "    }\n",
       "\n",
       "    function displayChart(vegaEmbed) {\n",
       "      vegaEmbed(outputDiv, spec, embedOpt)\n",
       "        .catch(err => showError(`Javascript Error: ${err.message}<br>This usually means there's a typo in your chart specification. See the javascript console for the full traceback.`));\n",
       "    }\n",
       "\n",
       "    if(typeof define === \"function\" && define.amd) {\n",
       "      requirejs.config({paths});\n",
       "      require([\"vega-embed\"], displayChart, err => showError(`Error loading script: ${err.message}`));\n",
       "    } else if (typeof vegaEmbed === \"function\") {\n",
       "      displayChart(vegaEmbed);\n",
       "    } else {\n",
       "      loadScript(\"vega\")\n",
       "        .then(() => loadScript(\"vega-lite\"))\n",
       "        .then(() => loadScript(\"vega-embed\"))\n",
       "        .catch(showError)\n",
       "        .then(() => displayChart(vegaEmbed));\n",
       "    }\n",
       "  })({\"config\": {\"axisLeft\": {\"labelFontSize\": 15}, \"axisBottom\": {\"labelFontSize\": 15}}, \"data\": {\"name\": \"data-fe99d63590bd1ed1c4bef47f05375d42\"}, \"mark\": \"bar\", \"encoding\": {\"x\": {\"type\": \"nominal\", \"field\": \"repo\", \"sort\": [\"voila-dashboards.github.io\", \"voila-gridstack\", \"voila-vuetify\", \"voila\", \"voila-material\"]}, \"y\": {\"type\": \"quantitative\", \"field\": \"time_open\", \"title\": \"Median Days Open\"}}, \"title\": \"Time to close for issues closed in the last 60 days\", \"$schema\": \"https://vega.github.io/schema/vega-lite/v4.8.1.json\", \"datasets\": {\"data-fe99d63590bd1ed1c4bef47f05375d42\": [{\"org\": \"voila-dashboards\", \"repo\": \"voila\", \"time_open\": 5.256342592592593, \"org/repo\": \"voila-dashboards/voila\"}, {\"org\": \"voila-dashboards\", \"repo\": \"voila-dashboards.github.io\", \"time_open\": 174.97236111111113, \"org/repo\": \"voila-dashboards/voila-dashboards.github.io\"}, {\"org\": \"voila-dashboards\", \"repo\": \"voila-gridstack\", \"time_open\": 105.25831018518518, \"org/repo\": \"voila-dashboards/voila-gridstack\"}, {\"org\": \"voila-dashboards\", \"repo\": \"voila-material\", \"time_open\": 0.23756944444444444, \"org/repo\": \"voila-dashboards/voila-material\"}, {\"org\": \"voila-dashboards\", \"repo\": \"voila-vuetify\", \"time_open\": 10.699525462962963, \"org/repo\": \"voila-dashboards/voila-vuetify\"}]}}, {\"mode\": \"vega-lite\"});\n",
       "</script>"
      ],
      "text/plain": [
       "alt.Chart(...)"
      ]
     },
     "execution_count": 19,
     "metadata": {},
     "output_type": "execute_result"
    }
   ],
   "source": [
    "time_open = closed.groupby(['org', 'repo']).agg({'time_open': 'median'}).reset_index()\n",
    "time_open['time_open'] = time_open['time_open'] / (60 * 60 * 24)\n",
    "time_open['org/repo'] = time_open.apply(lambda a: a['org'] + '/' + a['repo'], axis=1)\n",
    "sorted_vals = time_open.sort_values(['org', 'time_open'], ascending=False)['repo'].values\n",
    "alt.Chart(data=time_open, title=f\"Time to close for issues closed in the last {n_days} days\").mark_bar().encode(\n",
    "    x=alt.X('repo', sort=alt.Sort(sorted_vals.tolist())),\n",
    "    y=alt.Y('time_open', title=\"Median Days Open\"),\n",
    ")"
   ]
  },
  {
   "cell_type": "markdown",
   "metadata": {
    "papermill": {
     "duration": 0.041965,
     "end_time": "2020-07-14T01:13:29.330620",
     "exception": false,
     "start_time": "2020-07-14T01:13:29.288655",
     "status": "completed"
    },
    "tags": []
   },
   "source": [
    "## Commenters across repositories\n",
    "\n",
    "These are commenters across all issues and pull requests in the last several days.\n",
    "These are colored by the commenter's association with the organization. For information\n",
    "about what these associations mean, [see this StackOverflow post](https://stackoverflow.com/a/28866914/1927102)."
   ]
  },
  {
   "cell_type": "code",
   "execution_count": 20,
   "metadata": {
    "execution": {
     "iopub.execute_input": "2020-07-14T01:13:29.428392Z",
     "iopub.status.busy": "2020-07-14T01:13:29.419499Z",
     "iopub.status.idle": "2020-07-14T01:13:29.430756Z",
     "shell.execute_reply": "2020-07-14T01:13:29.430234Z"
    },
    "papermill": {
     "duration": 0.061944,
     "end_time": "2020-07-14T01:13:29.430877",
     "exception": false,
     "start_time": "2020-07-14T01:13:29.368933",
     "status": "completed"
    },
    "tags": [
     "remove_cell"
    ]
   },
   "outputs": [],
   "source": [
    "commentors = (\n",
    "    comments\n",
    "    .query(\"createdAt > @start_date and createdAt < @stop_date\")\n",
    "    .groupby(['org', 'repo', 'author', 'authorAssociation'])\n",
    "    .count().rename(columns={'id': 'count'})['count']\n",
    "    .reset_index()\n",
    "    .sort_values(['org', 'count'], ascending=False)\n",
    ")"
   ]
  },
  {
   "cell_type": "code",
   "execution_count": 21,
   "metadata": {
    "execution": {
     "iopub.execute_input": "2020-07-14T01:13:29.542754Z",
     "iopub.status.busy": "2020-07-14T01:13:29.542240Z",
     "iopub.status.idle": "2020-07-14T01:13:29.544607Z",
     "shell.execute_reply": "2020-07-14T01:13:29.545084Z"
    },
    "papermill": {
     "duration": 0.079185,
     "end_time": "2020-07-14T01:13:29.545209",
     "exception": false,
     "start_time": "2020-07-14T01:13:29.466024",
     "status": "completed"
    },
    "tags": [
     "hide_input"
    ]
   },
   "outputs": [
    {
     "data": {
      "text/html": [
       "\n",
       "<div id=\"altair-viz-fa7a85d35cb74030ac1dc33df73a41e9\"></div>\n",
       "<script type=\"text/javascript\">\n",
       "  (function(spec, embedOpt){\n",
       "    let outputDiv = document.currentScript.previousElementSibling;\n",
       "    if (outputDiv.id !== \"altair-viz-fa7a85d35cb74030ac1dc33df73a41e9\") {\n",
       "      outputDiv = document.getElementById(\"altair-viz-fa7a85d35cb74030ac1dc33df73a41e9\");\n",
       "    }\n",
       "    const paths = {\n",
       "      \"vega\": \"https://cdn.jsdelivr.net/npm//vega@5?noext\",\n",
       "      \"vega-lib\": \"https://cdn.jsdelivr.net/npm//vega-lib?noext\",\n",
       "      \"vega-lite\": \"https://cdn.jsdelivr.net/npm//vega-lite@4.8.1?noext\",\n",
       "      \"vega-embed\": \"https://cdn.jsdelivr.net/npm//vega-embed@6?noext\",\n",
       "    };\n",
       "\n",
       "    function loadScript(lib) {\n",
       "      return new Promise(function(resolve, reject) {\n",
       "        var s = document.createElement('script');\n",
       "        s.src = paths[lib];\n",
       "        s.async = true;\n",
       "        s.onload = () => resolve(paths[lib]);\n",
       "        s.onerror = () => reject(`Error loading script: ${paths[lib]}`);\n",
       "        document.getElementsByTagName(\"head\")[0].appendChild(s);\n",
       "      });\n",
       "    }\n",
       "\n",
       "    function showError(err) {\n",
       "      outputDiv.innerHTML = `<div class=\"error\" style=\"color:red;\">${err}</div>`;\n",
       "      throw err;\n",
       "    }\n",
       "\n",
       "    function displayChart(vegaEmbed) {\n",
       "      vegaEmbed(outputDiv, spec, embedOpt)\n",
       "        .catch(err => showError(`Javascript Error: ${err.message}<br>This usually means there's a typo in your chart specification. See the javascript console for the full traceback.`));\n",
       "    }\n",
       "\n",
       "    if(typeof define === \"function\" && define.amd) {\n",
       "      requirejs.config({paths});\n",
       "      require([\"vega-embed\"], displayChart, err => showError(`Error loading script: ${err.message}`));\n",
       "    } else if (typeof vegaEmbed === \"function\") {\n",
       "      displayChart(vegaEmbed);\n",
       "    } else {\n",
       "      loadScript(\"vega\")\n",
       "        .then(() => loadScript(\"vega-lite\"))\n",
       "        .then(() => loadScript(\"vega-embed\"))\n",
       "        .catch(showError)\n",
       "        .then(() => displayChart(vegaEmbed));\n",
       "    }\n",
       "  })({\"config\": {\"axisLeft\": {\"labelFontSize\": 15}, \"axisBottom\": {\"labelFontSize\": 15}}, \"hconcat\": [{\"mark\": \"bar\", \"encoding\": {\"color\": {\"type\": \"nominal\", \"field\": \"authorAssociation\", \"scale\": {\"domain\": [\"MEMBER\", \"CONTRIBUTOR\", \"COLLABORATOR\", \"NONE\"], \"range\": [\"rgb(211.82745098039214, 211.82745098039214, 211.82745098039214)\", \"rgb(166.98562091503268, 229.89803921568628, 166.98562091503268)\", \"rgb(96.37647058823529, 192.75294117647059, 96.37647058823529)\", \"rgb(0.0, 100.3921568627451, 0.0)\"]}}, \"x\": {\"type\": \"nominal\", \"field\": \"author\"}, \"y\": {\"type\": \"quantitative\", \"field\": \"count\"}}, \"title\": \"Top 50 commentors for voila-dashboards in the last 60 days\"}], \"data\": {\"name\": \"data-306553635f33d77a7d047610656ed458\"}, \"$schema\": \"https://vega.github.io/schema/vega-lite/v4.8.1.json\", \"datasets\": {\"data-306553635f33d77a7d047610656ed458\": [{\"author\": \"jtpio\", \"count\": 47, \"authorAssociation\": \"MEMBER\"}, {\"author\": \"SylvainCorlay\", \"count\": 33, \"authorAssociation\": \"MEMBER\"}, {\"author\": \"martinRenou\", \"count\": 23, \"authorAssociation\": \"MEMBER\"}, {\"author\": \"maartenbreddels\", \"count\": 19, \"authorAssociation\": \"MEMBER\"}, {\"author\": \"gbrault\", \"count\": 16, \"authorAssociation\": \"NONE\"}, {\"author\": \"prachi-tripathi\", \"count\": 10, \"authorAssociation\": \"NONE\"}, {\"author\": \"davidbrochart\", \"count\": 8, \"authorAssociation\": \"MEMBER\"}, {\"author\": \"vidartf\", \"count\": 7, \"authorAssociation\": \"CONTRIBUTOR\"}, {\"author\": \"madhur-tandon\", \"count\": 7, \"authorAssociation\": \"CONTRIBUTOR\"}, {\"author\": \"zerline\", \"count\": 7, \"authorAssociation\": \"NONE\"}, {\"author\": \"dmadeka\", \"count\": 6, \"authorAssociation\": \"NONE\"}, {\"author\": \"timkpaine\", \"count\": 5, \"authorAssociation\": \"MEMBER\"}, {\"author\": \"tobyX\", \"count\": 5, \"authorAssociation\": \"NONE\"}, {\"author\": \"eromoe\", \"count\": 4, \"authorAssociation\": \"NONE\"}, {\"author\": \"fleimgruber\", \"count\": 4, \"authorAssociation\": \"NONE\"}, {\"author\": \"tomnewg\", \"count\": 4, \"authorAssociation\": \"NONE\"}, {\"author\": \"anxhelahyseni\", \"count\": 3, \"authorAssociation\": \"NONE\"}, {\"author\": \"brichet\", \"count\": 2, \"authorAssociation\": \"CONTRIBUTOR\"}, {\"author\": \"cailiang9\", \"count\": 2, \"authorAssociation\": \"NONE\"}, {\"author\": \"marketneutral\", \"count\": 2, \"authorAssociation\": \"NONE\"}, {\"author\": \"sackh\", \"count\": 1, \"authorAssociation\": \"NONE\"}, {\"author\": \"ned2\", \"count\": 1, \"authorAssociation\": \"NONE\"}, {\"author\": \"omontue\", \"count\": 1, \"authorAssociation\": \"NONE\"}, {\"author\": \"DougRzz\", \"count\": 1, \"authorAssociation\": \"NONE\"}, {\"author\": \"luiztauffer\", \"count\": 1, \"authorAssociation\": \"NONE\"}, {\"author\": \"Freestackmejai\", \"count\": 1, \"authorAssociation\": \"NONE\"}, {\"author\": \"artemisart\", \"count\": 1, \"authorAssociation\": \"NONE\"}, {\"author\": \"afonit\", \"count\": 1, \"authorAssociation\": \"NONE\"}, {\"author\": \"TristanK27\", \"count\": 1, \"authorAssociation\": \"NONE\"}, {\"author\": \"JuanCab\", \"count\": 1, \"authorAssociation\": \"NONE\"}, {\"author\": \"French-Kriss\", \"count\": 1, \"authorAssociation\": \"NONE\"}, {\"author\": \"ishan42d\", \"count\": 1, \"authorAssociation\": \"NONE\"}]}}, {\"mode\": \"vega-lite\"});\n",
       "</script>"
      ],
      "text/plain": [
       "alt.HConcatChart(...)"
      ]
     },
     "execution_count": 21,
     "metadata": {},
     "output_type": "execute_result"
    }
   ],
   "source": [
    "n_plot = 50\n",
    "charts = []\n",
    "for ii, (iorg, idata) in enumerate(commentors.groupby(['org'])):\n",
    "    title = f\"Top {n_plot} commentors for {iorg} in the last {n_days} days\"\n",
    "    idata = idata.groupby('author', as_index=False).agg({'count': 'sum', 'authorAssociation': 'first'})\n",
    "    idata = idata.sort_values('count', ascending=False).head(n_plot)\n",
    "    ch = alt.Chart(data=idata.head(n_plot), title=title).mark_bar().encode(\n",
    "        x='author',\n",
    "        y='count',\n",
    "        color=alt.Color('authorAssociation', scale=alt.Scale(domain=author_types, range=author_colors))\n",
    "    )\n",
    "    charts.append(ch)\n",
    "alt.hconcat(*charts)"
   ]
  },
  {
   "cell_type": "markdown",
   "metadata": {
    "papermill": {
     "duration": 0.038912,
     "end_time": "2020-07-14T01:13:29.621275",
     "exception": false,
     "start_time": "2020-07-14T01:13:29.582363",
     "status": "completed"
    },
    "tags": []
   },
   "source": [
    "## First responders\n",
    "\n",
    "First responders are the first people to respond to a new issue in one of the repositories.\n",
    "The following plots show first responders for recently-created issues."
   ]
  },
  {
   "cell_type": "code",
   "execution_count": 22,
   "metadata": {
    "execution": {
     "iopub.execute_input": "2020-07-14T01:13:29.710497Z",
     "iopub.status.busy": "2020-07-14T01:13:29.709862Z",
     "iopub.status.idle": "2020-07-14T01:13:29.799656Z",
     "shell.execute_reply": "2020-07-14T01:13:29.799019Z"
    },
    "papermill": {
     "duration": 0.138626,
     "end_time": "2020-07-14T01:13:29.799782",
     "exception": false,
     "start_time": "2020-07-14T01:13:29.661156",
     "status": "completed"
    },
    "tags": [
     "remove_cell"
    ]
   },
   "outputs": [],
   "source": [
    "first_comments = []\n",
    "for (org, repo, issue_id), i_comments in comments.groupby(['org', 'repo', 'id']):\n",
    "    ix_min = pd.to_datetime(i_comments['createdAt']).idxmin()\n",
    "    first_comment = i_comments.loc[ix_min]\n",
    "    if isinstance(first_comment, pd.DataFrame):\n",
    "        first_comment = first_comment.iloc[0]\n",
    "    first_comments.append(first_comment)\n",
    "first_comments = pd.concat(first_comments, axis=1).T\n",
    "\n",
    "# Make up counts for viz\n",
    "first_responder_counts = first_comments.groupby(['org', 'author', 'authorAssociation'], as_index=False).\\\n",
    "    count().rename(columns={'id': 'n_first_responses'}).sort_values(['org', 'n_first_responses'], ascending=False)\n"
   ]
  },
  {
   "cell_type": "code",
   "execution_count": 23,
   "metadata": {
    "execution": {
     "iopub.execute_input": "2020-07-14T01:13:29.912649Z",
     "iopub.status.busy": "2020-07-14T01:13:29.911907Z",
     "iopub.status.idle": "2020-07-14T01:13:29.932649Z",
     "shell.execute_reply": "2020-07-14T01:13:29.932037Z"
    },
    "papermill": {
     "duration": 0.089175,
     "end_time": "2020-07-14T01:13:29.932777",
     "exception": false,
     "start_time": "2020-07-14T01:13:29.843602",
     "status": "completed"
    },
    "tags": [
     "hide_input"
    ]
   },
   "outputs": [
    {
     "data": {
      "text/html": [
       "\n",
       "<div id=\"altair-viz-f7128082712f49ca8f04ab51033e4266\"></div>\n",
       "<script type=\"text/javascript\">\n",
       "  (function(spec, embedOpt){\n",
       "    let outputDiv = document.currentScript.previousElementSibling;\n",
       "    if (outputDiv.id !== \"altair-viz-f7128082712f49ca8f04ab51033e4266\") {\n",
       "      outputDiv = document.getElementById(\"altair-viz-f7128082712f49ca8f04ab51033e4266\");\n",
       "    }\n",
       "    const paths = {\n",
       "      \"vega\": \"https://cdn.jsdelivr.net/npm//vega@5?noext\",\n",
       "      \"vega-lib\": \"https://cdn.jsdelivr.net/npm//vega-lib?noext\",\n",
       "      \"vega-lite\": \"https://cdn.jsdelivr.net/npm//vega-lite@4.8.1?noext\",\n",
       "      \"vega-embed\": \"https://cdn.jsdelivr.net/npm//vega-embed@6?noext\",\n",
       "    };\n",
       "\n",
       "    function loadScript(lib) {\n",
       "      return new Promise(function(resolve, reject) {\n",
       "        var s = document.createElement('script');\n",
       "        s.src = paths[lib];\n",
       "        s.async = true;\n",
       "        s.onload = () => resolve(paths[lib]);\n",
       "        s.onerror = () => reject(`Error loading script: ${paths[lib]}`);\n",
       "        document.getElementsByTagName(\"head\")[0].appendChild(s);\n",
       "      });\n",
       "    }\n",
       "\n",
       "    function showError(err) {\n",
       "      outputDiv.innerHTML = `<div class=\"error\" style=\"color:red;\">${err}</div>`;\n",
       "      throw err;\n",
       "    }\n",
       "\n",
       "    function displayChart(vegaEmbed) {\n",
       "      vegaEmbed(outputDiv, spec, embedOpt)\n",
       "        .catch(err => showError(`Javascript Error: ${err.message}<br>This usually means there's a typo in your chart specification. See the javascript console for the full traceback.`));\n",
       "    }\n",
       "\n",
       "    if(typeof define === \"function\" && define.amd) {\n",
       "      requirejs.config({paths});\n",
       "      require([\"vega-embed\"], displayChart, err => showError(`Error loading script: ${err.message}`));\n",
       "    } else if (typeof vegaEmbed === \"function\") {\n",
       "      displayChart(vegaEmbed);\n",
       "    } else {\n",
       "      loadScript(\"vega\")\n",
       "        .then(() => loadScript(\"vega-lite\"))\n",
       "        .then(() => loadScript(\"vega-embed\"))\n",
       "        .catch(showError)\n",
       "        .then(() => displayChart(vegaEmbed));\n",
       "    }\n",
       "  })({\"config\": {\"axisLeft\": {\"labelFontSize\": 15}, \"axisBottom\": {\"labelFontSize\": 15}}, \"data\": {\"name\": \"data-55d19b0e3a9d549f73196ebe9d924d0f\"}, \"mark\": \"bar\", \"encoding\": {\"color\": {\"type\": \"nominal\", \"field\": \"authorAssociation\", \"scale\": {\"domain\": [\"MEMBER\", \"CONTRIBUTOR\", \"COLLABORATOR\", \"NONE\"], \"range\": [\"rgb(211.82745098039214, 211.82745098039214, 211.82745098039214)\", \"rgb(166.98562091503268, 229.89803921568628, 166.98562091503268)\", \"rgb(96.37647058823529, 192.75294117647059, 96.37647058823529)\", \"rgb(0.0, 100.3921568627451, 0.0)\"]}}, \"x\": {\"type\": \"nominal\", \"field\": \"author\"}, \"y\": {\"type\": \"quantitative\", \"field\": \"n_first_responses\"}}, \"title\": \"Top 50 first responders for voila-dashboards in the last 60 days\", \"$schema\": \"https://vega.github.io/schema/vega-lite/v4.8.1.json\", \"datasets\": {\"data-55d19b0e3a9d549f73196ebe9d924d0f\": [{\"author\": \"SylvainCorlay\", \"n_first_responses\": 18, \"authorAssociation\": \"MEMBER\"}, {\"author\": \"jtpio\", \"n_first_responses\": 11, \"authorAssociation\": \"MEMBER\"}, {\"author\": \"maartenbreddels\", \"n_first_responses\": 8, \"authorAssociation\": \"MEMBER\"}, {\"author\": \"timkpaine\", \"n_first_responses\": 3, \"authorAssociation\": \"MEMBER\"}, {\"author\": \"davidbrochart\", \"n_first_responses\": 3, \"authorAssociation\": \"MEMBER\"}, {\"author\": \"martinRenou\", \"n_first_responses\": 3, \"authorAssociation\": \"MEMBER\"}, {\"author\": \"mariobuikhuizen\", \"n_first_responses\": 2, \"authorAssociation\": \"MEMBER\"}, {\"author\": \"vidartf\", \"n_first_responses\": 2, \"authorAssociation\": \"CONTRIBUTOR\"}, {\"author\": \"tobyX\", \"n_first_responses\": 1, \"authorAssociation\": \"NONE\"}, {\"author\": \"stefanmeili\", \"n_first_responses\": 1, \"authorAssociation\": \"NONE\"}, {\"author\": \"ned2\", \"n_first_responses\": 1, \"authorAssociation\": \"NONE\"}, {\"author\": \"Freestackmejai\", \"n_first_responses\": 1, \"authorAssociation\": \"NONE\"}, {\"author\": \"madhur-tandon\", \"n_first_responses\": 1, \"authorAssociation\": \"CONTRIBUTOR\"}, {\"author\": \"gbrault\", \"n_first_responses\": 1, \"authorAssociation\": \"NONE\"}, {\"author\": \"eromoe\", \"n_first_responses\": 1, \"authorAssociation\": \"NONE\"}, {\"author\": \"choldgraf\", \"n_first_responses\": 1, \"authorAssociation\": \"CONTRIBUTOR\"}, {\"author\": \"cailiang9\", \"n_first_responses\": 1, \"authorAssociation\": \"NONE\"}, {\"author\": \"afonit\", \"n_first_responses\": 1, \"authorAssociation\": \"NONE\"}, {\"author\": \"zerline\", \"n_first_responses\": 1, \"authorAssociation\": \"NONE\"}]}}, {\"mode\": \"vega-lite\"});\n",
       "</script>"
      ],
      "text/plain": [
       "alt.Chart(...)"
      ]
     },
     "execution_count": 23,
     "metadata": {},
     "output_type": "execute_result"
    }
   ],
   "source": [
    "n_plot = 50\n",
    "\n",
    "title = f\"Top {n_plot} first responders for {github_org} in the last {n_days} days\"\n",
    "idata = first_responder_counts.groupby('author', as_index=False).agg({'n_first_responses': 'sum', 'authorAssociation': 'first'})\n",
    "idata = idata.sort_values('n_first_responses', ascending=False).head(n_plot)\n",
    "ch = alt.Chart(data=idata.head(n_plot), title=title).mark_bar().encode(\n",
    "    x='author',\n",
    "    y='n_first_responses',\n",
    "    color=alt.Color('authorAssociation', scale=alt.Scale(domain=author_types, range=author_colors))\n",
    ")\n",
    "ch"
   ]
  },
  {
   "cell_type": "markdown",
   "metadata": {
    "papermill": {
     "duration": 0.050603,
     "end_time": "2020-07-14T01:13:30.026745",
     "exception": false,
     "start_time": "2020-07-14T01:13:29.976142",
     "status": "completed"
    },
    "tags": []
   },
   "source": [
    "## Recent activity\n",
    "\n",
    "### A list of merged PRs by project\n",
    "\n",
    "Below is a tabbed readout of recently-merged PRs. Check out the title to get an idea for what they\n",
    "implemented, and be sure to thank the PR author for their hard work!"
   ]
  },
  {
   "cell_type": "code",
   "execution_count": 24,
   "metadata": {
    "execution": {
     "iopub.execute_input": "2020-07-14T01:13:30.131487Z",
     "iopub.status.busy": "2020-07-14T01:13:30.120128Z",
     "iopub.status.idle": "2020-07-14T01:13:30.201784Z",
     "shell.execute_reply": "2020-07-14T01:13:30.202332Z"
    },
    "papermill": {
     "duration": 0.132913,
     "end_time": "2020-07-14T01:13:30.202498",
     "exception": false,
     "start_time": "2020-07-14T01:13:30.069585",
     "status": "completed"
    },
    "tags": [
     "hide_input"
    ]
   },
   "outputs": [
    {
     "data": {
      "application/vnd.jupyter.widget-view+json": {
       "model_id": "563010c9f42c44df80353b798a2199fd",
       "version_major": 2,
       "version_minor": 0
      },
      "text/plain": [
       "Tab(children=(HTML(value='<h4>Closed PRs for repo: <a href=\"https://github.com/voila-dashboards/voila\">voila-d…"
      ]
     },
     "metadata": {},
     "output_type": "display_data"
    }
   ],
   "source": [
    "tabs = widgets.Tab(children=[])\n",
    "\n",
    "for ii, ((org, repo), imerged) in enumerate(merged.query(\"repo in @use_repos\").groupby(['org', 'repo'])):\n",
    "    merged_by = {}\n",
    "    pr_by = {}\n",
    "    issue_md = []\n",
    "    issue_md.append(f\"#### Closed PRs for repo: [{org}/{repo}](https://github.com/{github_org}/{repo})\")\n",
    "    issue_md.append(\"\")\n",
    "    issue_md.append(f\"##### \")\n",
    "\n",
    "    for _, ipr in imerged.iterrows():\n",
    "        user_name = ipr['author']\n",
    "        user_url = author_url(user_name)\n",
    "        pr_number = ipr['number']\n",
    "        pr_html = ipr['url']\n",
    "        pr_title = ipr['title']\n",
    "        pr_closedby = ipr['mergedBy']\n",
    "        pr_closedby_url = f\"https://github.com/{pr_closedby}\"\n",
    "        if user_name not in pr_by:\n",
    "            pr_by[user_name] = 1\n",
    "        else:\n",
    "            pr_by[user_name] += 1\n",
    "\n",
    "        if pr_closedby not in merged_by:\n",
    "            merged_by[pr_closedby] = 1\n",
    "        else:\n",
    "            merged_by[pr_closedby] += 1\n",
    "        text = f\"* [(#{pr_number})]({pr_html}): _{pr_title}_ by **[@{user_name}]({user_url})** merged by **[@{pr_closedby}]({pr_closedby_url})**\"\n",
    "        issue_md.append(text)\n",
    "    \n",
    "    issue_md.append('')\n",
    "    markdown_html = markdown('\\n'.join(issue_md))\n",
    "\n",
    "    children = list(tabs.children)\n",
    "    children.append(HTML(markdown_html))\n",
    "    tabs.children = tuple(children)\n",
    "    tabs.set_title(ii, repo)\n",
    "tabs"
   ]
  },
  {
   "cell_type": "markdown",
   "metadata": {
    "papermill": {
     "duration": 0.04817,
     "end_time": "2020-07-14T01:13:30.297778",
     "exception": false,
     "start_time": "2020-07-14T01:13:30.249608",
     "status": "completed"
    },
    "tags": []
   },
   "source": [
    "### A list of recent issues\n",
    "\n",
    "Below is a list of issues with recent activity in each repository. If they seem of interest\n",
    "to you, click on their links and jump in to participate!"
   ]
  },
  {
   "cell_type": "code",
   "execution_count": 25,
   "metadata": {
    "execution": {
     "iopub.execute_input": "2020-07-14T01:13:30.406828Z",
     "iopub.status.busy": "2020-07-14T01:13:30.406286Z",
     "iopub.status.idle": "2020-07-14T01:13:30.409918Z",
     "shell.execute_reply": "2020-07-14T01:13:30.410496Z"
    },
    "papermill": {
     "duration": 0.063154,
     "end_time": "2020-07-14T01:13:30.410657",
     "exception": false,
     "start_time": "2020-07-14T01:13:30.347503",
     "status": "completed"
    },
    "tags": [
     "remove_cell"
    ]
   },
   "outputs": [],
   "source": [
    "# Add comment count data to issues and PRs\n",
    "comment_counts = (\n",
    "    comments\n",
    "    .query(\"createdAt > @start_date and createdAt < @stop_date\")\n",
    "    .groupby(['org', 'repo', 'id'])\n",
    "    .count().iloc[:, 0].to_frame()\n",
    ")\n",
    "comment_counts.columns = ['n_comments']\n",
    "comment_counts = comment_counts.reset_index()"
   ]
  },
  {
   "cell_type": "code",
   "execution_count": 26,
   "metadata": {
    "execution": {
     "iopub.execute_input": "2020-07-14T01:13:30.515112Z",
     "iopub.status.busy": "2020-07-14T01:13:30.514530Z",
     "iopub.status.idle": "2020-07-14T01:13:30.690434Z",
     "shell.execute_reply": "2020-07-14T01:13:30.690935Z"
    },
    "papermill": {
     "duration": 0.240037,
     "end_time": "2020-07-14T01:13:30.691082",
     "exception": false,
     "start_time": "2020-07-14T01:13:30.451045",
     "status": "completed"
    },
    "tags": [
     "hide_input"
    ],
    "toc-hr-collapsed": false
   },
   "outputs": [
    {
     "data": {
      "text/markdown": [
       "Here are the top 5 active issues in each repository in the last 60 days"
      ],
      "text/plain": [
       "<IPython.core.display.Markdown object>"
      ]
     },
     "metadata": {},
     "output_type": "display_data"
    },
    {
     "data": {
      "application/vnd.jupyter.widget-view+json": {
       "model_id": "f0d3b30d2cf14b52806ec268962df8dc",
       "version_major": 2,
       "version_minor": 0
      },
      "text/plain": [
       "Tab(children=(HTML(value='<h5><a href=\"https://github.com/voila-dashboards/tljh-voila-gallery\">voila-dashboard…"
      ]
     },
     "metadata": {},
     "output_type": "display_data"
    }
   ],
   "source": [
    "n_plot = 5\n",
    "tabs = widgets.Tab(children=[])\n",
    "\n",
    "for ii, (repo, i_issues) in enumerate(comment_counts.query(\"repo in @use_repos\").groupby('repo')):\n",
    "    \n",
    "    issue_md = []\n",
    "    issue_md.append(\"\")\n",
    "    issue_md.append(f\"##### [{github_org}/{repo}](https://github.com/{github_org}/{repo})\")\n",
    "\n",
    "    top_issues = i_issues.sort_values('n_comments', ascending=False).head(n_plot)\n",
    "    top_issue_list = pd.merge(issues, top_issues, left_on=['org', 'repo', 'id'], right_on=['org', 'repo', 'id'])\n",
    "    for _, issue in top_issue_list.sort_values('n_comments', ascending=False).head(n_plot).iterrows():\n",
    "        user_name = issue['author']\n",
    "        user_url = author_url(user_name)\n",
    "        issue_number = issue['number']\n",
    "        issue_html = issue['url']\n",
    "        issue_title = issue['title']\n",
    "\n",
    "        text = f\"* [(#{issue_number})]({issue_html}): _{issue_title}_ by **[@{user_name}]({user_url})**\"\n",
    "        issue_md.append(text)\n",
    "\n",
    "    issue_md.append('')\n",
    "    md_html = HTML(markdown('\\n'.join(issue_md)))\n",
    "\n",
    "    children = list(tabs.children)\n",
    "    children.append(HTML(markdown('\\n'.join(issue_md))))\n",
    "    tabs.children = tuple(children)\n",
    "    tabs.set_title(ii, repo)\n",
    "    \n",
    "display(Markdown(f\"Here are the top {n_plot} active issues in each repository in the last {n_days} days\"))\n",
    "display(tabs)"
   ]
  }
 ],
 "metadata": {
  "kernelspec": {
   "display_name": "Python 3",
   "language": "python",
   "name": "python3"
  },
  "language_info": {
   "codemirror_mode": {
    "name": "ipython",
    "version": 3
   },
   "file_extension": ".py",
   "mimetype": "text/x-python",
   "name": "python",
   "nbconvert_exporter": "python",
   "pygments_lexer": "ipython3",
   "version": "3.7.8"
  },
  "papermill": {
   "duration": 13.0857,
   "end_time": "2020-07-14T01:13:32.219197",
   "environment_variables": {},
   "exception": null,
   "input_path": "./template.ipynb",
   "output_path": "book/voila-dashboards.ipynb",
   "parameters": {
    "github_org": "voila-dashboards",
    "n_days": 60
   },
   "start_time": "2020-07-14T01:13:19.133497",
   "version": "2.1.2"
  },
  "widgets": {
   "application/vnd.jupyter.widget-state+json": {
    "state": {
     "01168aea951d4c35821aaff993b70886": {
      "model_module": "@jupyter-widgets/controls",
      "model_module_version": "1.5.0",
      "model_name": "IntProgressModel",
      "state": {
       "_dom_classes": [],
       "_model_module": "@jupyter-widgets/controls",
       "_model_module_version": "1.5.0",
       "_model_name": "IntProgressModel",
       "_view_count": null,
       "_view_module": "@jupyter-widgets/controls",
       "_view_module_version": "1.5.0",
       "_view_name": "ProgressView",
       "bar_style": "success",
       "description": "Downloading:",
       "description_tooltip": null,
       "layout": "IPY_MODEL_349ab8a6dae948b58f21babdc03d46f3",
       "max": 2,
       "min": 0,
       "orientation": "horizontal",
       "style": "IPY_MODEL_a9e03933ee12495ca487e0011c51d727",
       "value": 2
      }
     },
     "027f58f178c647e1be49b6ac5e2c6a83": {
      "model_module": "@jupyter-widgets/base",
      "model_module_version": "1.2.0",
      "model_name": "LayoutModel",
      "state": {
       "_model_module": "@jupyter-widgets/base",
       "_model_module_version": "1.2.0",
       "_model_name": "LayoutModel",
       "_view_count": null,
       "_view_module": "@jupyter-widgets/base",
       "_view_module_version": "1.2.0",
       "_view_name": "LayoutView",
       "align_content": null,
       "align_items": null,
       "align_self": null,
       "border": null,
       "bottom": null,
       "display": null,
       "flex": null,
       "flex_flow": null,
       "grid_area": null,
       "grid_auto_columns": null,
       "grid_auto_flow": null,
       "grid_auto_rows": null,
       "grid_column": null,
       "grid_gap": null,
       "grid_row": null,
       "grid_template_areas": null,
       "grid_template_columns": null,
       "grid_template_rows": null,
       "height": null,
       "justify_content": null,
       "justify_items": null,
       "left": null,
       "margin": null,
       "max_height": null,
       "max_width": null,
       "min_height": null,
       "min_width": null,
       "object_fit": null,
       "object_position": null,
       "order": null,
       "overflow": null,
       "overflow_x": null,
       "overflow_y": null,
       "padding": null,
       "right": null,
       "top": null,
       "visibility": null,
       "width": null
      }
     },
     "028f590d0b894b42af6a620e481cc823": {
      "model_module": "@jupyter-widgets/controls",
      "model_module_version": "1.5.0",
      "model_name": "HTMLModel",
      "state": {
       "_dom_classes": [],
       "_model_module": "@jupyter-widgets/controls",
       "_model_module_version": "1.5.0",
       "_model_name": "HTMLModel",
       "_view_count": null,
       "_view_module": "@jupyter-widgets/controls",
       "_view_module_version": "1.5.0",
       "_view_name": "HTMLView",
       "description": "",
       "description_tooltip": null,
       "layout": "IPY_MODEL_7a00f9e963224fa692fc4cda764c0f21",
       "placeholder": "​",
       "style": "IPY_MODEL_08522a06c07a47cba2f81b693ec3fa8b",
       "value": "<h5><a href=\"https://github.com/voila-dashboards/voila-vuetify\">voila-dashboards/voila-vuetify</a></h5>\n<ul>\n<li><a href=\"https://github.com/voila-dashboards/voila-vuetify/issues/36\">(#36)</a>: <em>Failed to work with plotly</em> by <strong><a href=\"https://github.com/eromoe\">@eromoe</a></strong></li>\n</ul>"
      }
     },
     "060daca00ee14f9399e55fb9736f4487": {
      "model_module": "@jupyter-widgets/base",
      "model_module_version": "1.2.0",
      "model_name": "LayoutModel",
      "state": {
       "_model_module": "@jupyter-widgets/base",
       "_model_module_version": "1.2.0",
       "_model_name": "LayoutModel",
       "_view_count": null,
       "_view_module": "@jupyter-widgets/base",
       "_view_module_version": "1.2.0",
       "_view_name": "LayoutView",
       "align_content": null,
       "align_items": null,
       "align_self": null,
       "border": null,
       "bottom": null,
       "display": null,
       "flex": null,
       "flex_flow": null,
       "grid_area": null,
       "grid_auto_columns": null,
       "grid_auto_flow": null,
       "grid_auto_rows": null,
       "grid_column": null,
       "grid_gap": null,
       "grid_row": null,
       "grid_template_areas": null,
       "grid_template_columns": null,
       "grid_template_rows": null,
       "height": null,
       "justify_content": null,
       "justify_items": null,
       "left": null,
       "margin": null,
       "max_height": null,
       "max_width": null,
       "min_height": null,
       "min_width": null,
       "object_fit": null,
       "object_position": null,
       "order": null,
       "overflow": null,
       "overflow_x": null,
       "overflow_y": null,
       "padding": null,
       "right": null,
       "top": null,
       "visibility": null,
       "width": null
      }
     },
     "08522a06c07a47cba2f81b693ec3fa8b": {
      "model_module": "@jupyter-widgets/controls",
      "model_module_version": "1.5.0",
      "model_name": "DescriptionStyleModel",
      "state": {
       "_model_module": "@jupyter-widgets/controls",
       "_model_module_version": "1.5.0",
       "_model_name": "DescriptionStyleModel",
       "_view_count": null,
       "_view_module": "@jupyter-widgets/base",
       "_view_module_version": "1.2.0",
       "_view_name": "StyleView",
       "description_width": ""
      }
     },
     "08b8ef6fe0aa42ffb9245164ed4b49da": {
      "model_module": "@jupyter-widgets/controls",
      "model_module_version": "1.5.0",
      "model_name": "DescriptionStyleModel",
      "state": {
       "_model_module": "@jupyter-widgets/controls",
       "_model_module_version": "1.5.0",
       "_model_name": "DescriptionStyleModel",
       "_view_count": null,
       "_view_module": "@jupyter-widgets/base",
       "_view_module_version": "1.2.0",
       "_view_name": "StyleView",
       "description_width": ""
      }
     },
     "0d9b42325f4947549d5dddffe2a4b81d": {
      "model_module": "@jupyter-widgets/base",
      "model_module_version": "1.2.0",
      "model_name": "LayoutModel",
      "state": {
       "_model_module": "@jupyter-widgets/base",
       "_model_module_version": "1.2.0",
       "_model_name": "LayoutModel",
       "_view_count": null,
       "_view_module": "@jupyter-widgets/base",
       "_view_module_version": "1.2.0",
       "_view_name": "LayoutView",
       "align_content": null,
       "align_items": null,
       "align_self": null,
       "border": null,
       "bottom": null,
       "display": null,
       "flex": null,
       "flex_flow": null,
       "grid_area": null,
       "grid_auto_columns": null,
       "grid_auto_flow": null,
       "grid_auto_rows": null,
       "grid_column": null,
       "grid_gap": null,
       "grid_row": null,
       "grid_template_areas": null,
       "grid_template_columns": null,
       "grid_template_rows": null,
       "height": null,
       "justify_content": null,
       "justify_items": null,
       "left": null,
       "margin": null,
       "max_height": null,
       "max_width": null,
       "min_height": null,
       "min_width": null,
       "object_fit": null,
       "object_position": null,
       "order": null,
       "overflow": null,
       "overflow_x": null,
       "overflow_y": null,
       "padding": null,
       "right": null,
       "top": null,
       "visibility": null,
       "width": null
      }
     },
     "15fc36f4b2904cec8e9bd2f69f37d41a": {
      "model_module": "@jupyter-widgets/base",
      "model_module_version": "1.2.0",
      "model_name": "LayoutModel",
      "state": {
       "_model_module": "@jupyter-widgets/base",
       "_model_module_version": "1.2.0",
       "_model_name": "LayoutModel",
       "_view_count": null,
       "_view_module": "@jupyter-widgets/base",
       "_view_module_version": "1.2.0",
       "_view_name": "LayoutView",
       "align_content": null,
       "align_items": null,
       "align_self": null,
       "border": null,
       "bottom": null,
       "display": null,
       "flex": null,
       "flex_flow": null,
       "grid_area": null,
       "grid_auto_columns": null,
       "grid_auto_flow": null,
       "grid_auto_rows": null,
       "grid_column": null,
       "grid_gap": null,
       "grid_row": null,
       "grid_template_areas": null,
       "grid_template_columns": null,
       "grid_template_rows": null,
       "height": null,
       "justify_content": null,
       "justify_items": null,
       "left": null,
       "margin": null,
       "max_height": null,
       "max_width": null,
       "min_height": null,
       "min_width": null,
       "object_fit": null,
       "object_position": null,
       "order": null,
       "overflow": null,
       "overflow_x": null,
       "overflow_y": null,
       "padding": null,
       "right": null,
       "top": null,
       "visibility": null,
       "width": null
      }
     },
     "197996fcfdbc41e691cc24f064172455": {
      "model_module": "@jupyter-widgets/base",
      "model_module_version": "1.2.0",
      "model_name": "LayoutModel",
      "state": {
       "_model_module": "@jupyter-widgets/base",
       "_model_module_version": "1.2.0",
       "_model_name": "LayoutModel",
       "_view_count": null,
       "_view_module": "@jupyter-widgets/base",
       "_view_module_version": "1.2.0",
       "_view_name": "LayoutView",
       "align_content": null,
       "align_items": null,
       "align_self": null,
       "border": null,
       "bottom": null,
       "display": null,
       "flex": null,
       "flex_flow": null,
       "grid_area": null,
       "grid_auto_columns": null,
       "grid_auto_flow": null,
       "grid_auto_rows": null,
       "grid_column": null,
       "grid_gap": null,
       "grid_row": null,
       "grid_template_areas": null,
       "grid_template_columns": null,
       "grid_template_rows": null,
       "height": null,
       "justify_content": null,
       "justify_items": null,
       "left": null,
       "margin": null,
       "max_height": null,
       "max_width": null,
       "min_height": null,
       "min_width": null,
       "object_fit": null,
       "object_position": null,
       "order": null,
       "overflow": null,
       "overflow_x": null,
       "overflow_y": null,
       "padding": null,
       "right": null,
       "top": null,
       "visibility": null,
       "width": null
      }
     },
     "1aa45e55701f4134aee06e41530e39e6": {
      "model_module": "@jupyter-widgets/controls",
      "model_module_version": "1.5.0",
      "model_name": "DescriptionStyleModel",
      "state": {
       "_model_module": "@jupyter-widgets/controls",
       "_model_module_version": "1.5.0",
       "_model_name": "DescriptionStyleModel",
       "_view_count": null,
       "_view_module": "@jupyter-widgets/base",
       "_view_module_version": "1.2.0",
       "_view_name": "StyleView",
       "description_width": ""
      }
     },
     "1cbf322cdca64cb99fd61c96149b1faa": {
      "model_module": "@jupyter-widgets/base",
      "model_module_version": "1.2.0",
      "model_name": "LayoutModel",
      "state": {
       "_model_module": "@jupyter-widgets/base",
       "_model_module_version": "1.2.0",
       "_model_name": "LayoutModel",
       "_view_count": null,
       "_view_module": "@jupyter-widgets/base",
       "_view_module_version": "1.2.0",
       "_view_name": "LayoutView",
       "align_content": null,
       "align_items": null,
       "align_self": null,
       "border": null,
       "bottom": null,
       "display": null,
       "flex": null,
       "flex_flow": null,
       "grid_area": null,
       "grid_auto_columns": null,
       "grid_auto_flow": null,
       "grid_auto_rows": null,
       "grid_column": null,
       "grid_gap": null,
       "grid_row": null,
       "grid_template_areas": null,
       "grid_template_columns": null,
       "grid_template_rows": null,
       "height": null,
       "justify_content": null,
       "justify_items": null,
       "left": null,
       "margin": null,
       "max_height": null,
       "max_width": null,
       "min_height": null,
       "min_width": null,
       "object_fit": null,
       "object_position": null,
       "order": null,
       "overflow": null,
       "overflow_x": null,
       "overflow_y": null,
       "padding": null,
       "right": null,
       "top": null,
       "visibility": null,
       "width": null
      }
     },
     "25dbdc498f4149cc953e8bbef4ce0430": {
      "model_module": "@jupyter-widgets/controls",
      "model_module_version": "1.5.0",
      "model_name": "HTMLModel",
      "state": {
       "_dom_classes": [],
       "_model_module": "@jupyter-widgets/controls",
       "_model_module_version": "1.5.0",
       "_model_name": "HTMLModel",
       "_view_count": null,
       "_view_module": "@jupyter-widgets/controls",
       "_view_module_version": "1.5.0",
       "_view_name": "HTMLView",
       "description": "",
       "description_tooltip": null,
       "layout": "IPY_MODEL_4d2232ac7c9549e5b29e70bf75b9aadc",
       "placeholder": "​",
       "style": "IPY_MODEL_c9fce014fef4473c9b7e1c61917f3d6e",
       "value": "<h4>Closed PRs for repo: <a href=\"https://github.com/voila-dashboards/voila-material\">voila-dashboards/voila-material</a></h4>\n<h5></h5>\n<ul>\n<li><a href=\"https://github.com/voila-dashboards/voila-material/pull/17\">(#17)</a>: <em>Binder: Use latest release instead of master</em> by <strong><a href=\"https://github.com/martinRenou\">@martinRenou</a></strong> merged by <strong><a href=\"https://github.com/martinRenou\">@martinRenou</a></strong></li>\n<li><a href=\"https://github.com/voila-dashboards/voila-material/pull/15\">(#15)</a>: <em>Move images</em> by <strong><a href=\"https://github.com/martinRenou\">@martinRenou</a></strong> merged by <strong><a href=\"https://github.com/martinRenou\">@martinRenou</a></strong></li>\n<li><a href=\"https://github.com/voila-dashboards/voila-material/pull/13\">(#13)</a>: <em>Workarounds for the Select/Dropdown/RadioButtons widgets</em> by <strong><a href=\"https://github.com/martinRenou\">@martinRenou</a></strong> merged by <strong><a href=\"https://github.com/martinRenou\">@martinRenou</a></strong></li>\n<li><a href=\"https://github.com/voila-dashboards/voila-material/pull/8\">(#8)</a>: <em>convert to nbconvert and voila compatible template</em> by <strong><a href=\"https://github.com/maartenbreddels\">@maartenbreddels</a></strong> merged by <strong><a href=\"https://github.com/martinRenou\">@martinRenou</a></strong></li>\n</ul>"
      }
     },
     "27b18634180142eb816068b369285cf7": {
      "model_module": "@jupyter-widgets/controls",
      "model_module_version": "1.5.0",
      "model_name": "HTMLModel",
      "state": {
       "_dom_classes": [],
       "_model_module": "@jupyter-widgets/controls",
       "_model_module_version": "1.5.0",
       "_model_name": "HTMLModel",
       "_view_count": null,
       "_view_module": "@jupyter-widgets/controls",
       "_view_module_version": "1.5.0",
       "_view_name": "HTMLView",
       "description": "",
       "description_tooltip": null,
       "layout": "IPY_MODEL_0d9b42325f4947549d5dddffe2a4b81d",
       "placeholder": "​",
       "style": "IPY_MODEL_29c70b677d5b46f4aeb337d7fe23f686",
       "value": "<h5><a href=\"https://github.com/voila-dashboards/voila\">voila-dashboards/voila</a></h5>\n<ul>\n<li><a href=\"https://github.com/voila-dashboards/voila/issues/627\">(#627)</a>: <em>Custom Widget results are not shown on voila dashboard.</em> by <strong><a href=\"https://github.com/sackh\">@sackh</a></strong></li>\n<li><a href=\"https://github.com/voila-dashboards/voila/issues/603\">(#603)</a>: <em>Voila drop down widget not working</em> by <strong><a href=\"https://github.com/prachi-tripathi\">@prachi-tripathi</a></strong></li>\n<li><a href=\"https://github.com/voila-dashboards/voila/issues/607\">(#607)</a>: <em>Sage combinat widgets &amp; voila</em> by <strong><a href=\"https://github.com/zerline\">@zerline</a></strong></li>\n<li><a href=\"https://github.com/voila-dashboards/voila/issues/615\">(#615)</a>: <em>Widgets not defined</em> by <strong><a href=\"https://github.com/dmadeka\">@dmadeka</a></strong></li>\n</ul>"
      }
     },
     "29c70b677d5b46f4aeb337d7fe23f686": {
      "model_module": "@jupyter-widgets/controls",
      "model_module_version": "1.5.0",
      "model_name": "DescriptionStyleModel",
      "state": {
       "_model_module": "@jupyter-widgets/controls",
       "_model_module_version": "1.5.0",
       "_model_name": "DescriptionStyleModel",
       "_view_count": null,
       "_view_module": "@jupyter-widgets/base",
       "_view_module_version": "1.2.0",
       "_view_name": "StyleView",
       "description_width": ""
      }
     },
     "2ce1e35a96ec423e9b463a852139189a": {
      "model_module": "@jupyter-widgets/base",
      "model_module_version": "1.2.0",
      "model_name": "LayoutModel",
      "state": {
       "_model_module": "@jupyter-widgets/base",
       "_model_module_version": "1.2.0",
       "_model_name": "LayoutModel",
       "_view_count": null,
       "_view_module": "@jupyter-widgets/base",
       "_view_module_version": "1.2.0",
       "_view_name": "LayoutView",
       "align_content": null,
       "align_items": null,
       "align_self": null,
       "border": null,
       "bottom": null,
       "display": null,
       "flex": null,
       "flex_flow": null,
       "grid_area": null,
       "grid_auto_columns": null,
       "grid_auto_flow": null,
       "grid_auto_rows": null,
       "grid_column": null,
       "grid_gap": null,
       "grid_row": null,
       "grid_template_areas": null,
       "grid_template_columns": null,
       "grid_template_rows": null,
       "height": null,
       "justify_content": null,
       "justify_items": null,
       "left": null,
       "margin": null,
       "max_height": null,
       "max_width": null,
       "min_height": null,
       "min_width": null,
       "object_fit": null,
       "object_position": null,
       "order": null,
       "overflow": null,
       "overflow_x": null,
       "overflow_y": null,
       "padding": null,
       "right": null,
       "top": null,
       "visibility": null,
       "width": null
      }
     },
     "349ab8a6dae948b58f21babdc03d46f3": {
      "model_module": "@jupyter-widgets/base",
      "model_module_version": "1.2.0",
      "model_name": "LayoutModel",
      "state": {
       "_model_module": "@jupyter-widgets/base",
       "_model_module_version": "1.2.0",
       "_model_name": "LayoutModel",
       "_view_count": null,
       "_view_module": "@jupyter-widgets/base",
       "_view_module_version": "1.2.0",
       "_view_name": "LayoutView",
       "align_content": null,
       "align_items": null,
       "align_self": null,
       "border": null,
       "bottom": null,
       "display": null,
       "flex": null,
       "flex_flow": null,
       "grid_area": null,
       "grid_auto_columns": null,
       "grid_auto_flow": null,
       "grid_auto_rows": null,
       "grid_column": null,
       "grid_gap": null,
       "grid_row": null,
       "grid_template_areas": null,
       "grid_template_columns": null,
       "grid_template_rows": null,
       "height": null,
       "justify_content": null,
       "justify_items": null,
       "left": null,
       "margin": null,
       "max_height": null,
       "max_width": null,
       "min_height": null,
       "min_width": null,
       "object_fit": null,
       "object_position": null,
       "order": null,
       "overflow": null,
       "overflow_x": null,
       "overflow_y": null,
       "padding": null,
       "right": null,
       "top": null,
       "visibility": null,
       "width": null
      }
     },
     "35af63dcf6d748f9adb5c52b8bd9a8cb": {
      "model_module": "@jupyter-widgets/controls",
      "model_module_version": "1.5.0",
      "model_name": "HTMLModel",
      "state": {
       "_dom_classes": [],
       "_model_module": "@jupyter-widgets/controls",
       "_model_module_version": "1.5.0",
       "_model_name": "HTMLModel",
       "_view_count": null,
       "_view_module": "@jupyter-widgets/controls",
       "_view_module_version": "1.5.0",
       "_view_name": "HTMLView",
       "description": "",
       "description_tooltip": null,
       "layout": "IPY_MODEL_961a5e17686d4251b651fa6be9164fa0",
       "placeholder": "​",
       "style": "IPY_MODEL_3c641a1ee1a14942acbb09b1c0ab245a",
       "value": "<h5><a href=\"https://github.com/voila-dashboards/voila-material\">voila-dashboards/voila-material</a></h5>\n<ul>\n<li><a href=\"https://github.com/voila-dashboards/voila-material/issues/18\">(#18)</a>: <em>Creating of buttons in callback doesn't work</em> by <strong><a href=\"https://github.com/tobyX\">@tobyX</a></strong></li>\n<li><a href=\"https://github.com/voila-dashboards/voila-material/issues/12\">(#12)</a>: <em>Ipywidgets not rendered</em> by <strong><a href=\"https://github.com/French-Kriss\">@French-Kriss</a></strong></li>\n</ul>"
      }
     },
     "3c641a1ee1a14942acbb09b1c0ab245a": {
      "model_module": "@jupyter-widgets/controls",
      "model_module_version": "1.5.0",
      "model_name": "DescriptionStyleModel",
      "state": {
       "_model_module": "@jupyter-widgets/controls",
       "_model_module_version": "1.5.0",
       "_model_name": "DescriptionStyleModel",
       "_view_count": null,
       "_view_module": "@jupyter-widgets/base",
       "_view_module_version": "1.2.0",
       "_view_name": "StyleView",
       "description_width": ""
      }
     },
     "44d3158348b74666a79a54aca2e90b3a": {
      "model_module": "@jupyter-widgets/base",
      "model_module_version": "1.2.0",
      "model_name": "LayoutModel",
      "state": {
       "_model_module": "@jupyter-widgets/base",
       "_model_module_version": "1.2.0",
       "_model_name": "LayoutModel",
       "_view_count": null,
       "_view_module": "@jupyter-widgets/base",
       "_view_module_version": "1.2.0",
       "_view_name": "LayoutView",
       "align_content": null,
       "align_items": null,
       "align_self": null,
       "border": null,
       "bottom": null,
       "display": null,
       "flex": null,
       "flex_flow": null,
       "grid_area": null,
       "grid_auto_columns": null,
       "grid_auto_flow": null,
       "grid_auto_rows": null,
       "grid_column": null,
       "grid_gap": null,
       "grid_row": null,
       "grid_template_areas": null,
       "grid_template_columns": null,
       "grid_template_rows": null,
       "height": null,
       "justify_content": null,
       "justify_items": null,
       "left": null,
       "margin": null,
       "max_height": null,
       "max_width": null,
       "min_height": null,
       "min_width": null,
       "object_fit": null,
       "object_position": null,
       "order": null,
       "overflow": null,
       "overflow_x": null,
       "overflow_y": null,
       "padding": null,
       "right": null,
       "top": null,
       "visibility": null,
       "width": null
      }
     },
     "462954fa2fc54248a3993bc22592cac9": {
      "model_module": "@jupyter-widgets/controls",
      "model_module_version": "1.5.0",
      "model_name": "HTMLModel",
      "state": {
       "_dom_classes": [],
       "_model_module": "@jupyter-widgets/controls",
       "_model_module_version": "1.5.0",
       "_model_name": "HTMLModel",
       "_view_count": null,
       "_view_module": "@jupyter-widgets/controls",
       "_view_module_version": "1.5.0",
       "_view_name": "HTMLView",
       "description": "",
       "description_tooltip": null,
       "layout": "IPY_MODEL_ddc56a6451594f2da2eaaaa5f951fd98",
       "placeholder": "​",
       "style": "IPY_MODEL_ba84f3c43aa940b086ea5e6103367311",
       "value": "<h5><a href=\"https://github.com/voila-dashboards/voila-reveal\">voila-dashboards/voila-reveal</a></h5>\n<ul>\n<li><a href=\"https://github.com/voila-dashboards/voila-reveal/issues/7\">(#7)</a>: <em>Document mechanism for how to change slide type</em> by <strong><a href=\"https://github.com/ned2\">@ned2</a></strong></li>\n</ul>"
      }
     },
     "4d2232ac7c9549e5b29e70bf75b9aadc": {
      "model_module": "@jupyter-widgets/base",
      "model_module_version": "1.2.0",
      "model_name": "LayoutModel",
      "state": {
       "_model_module": "@jupyter-widgets/base",
       "_model_module_version": "1.2.0",
       "_model_name": "LayoutModel",
       "_view_count": null,
       "_view_module": "@jupyter-widgets/base",
       "_view_module_version": "1.2.0",
       "_view_name": "LayoutView",
       "align_content": null,
       "align_items": null,
       "align_self": null,
       "border": null,
       "bottom": null,
       "display": null,
       "flex": null,
       "flex_flow": null,
       "grid_area": null,
       "grid_auto_columns": null,
       "grid_auto_flow": null,
       "grid_auto_rows": null,
       "grid_column": null,
       "grid_gap": null,
       "grid_row": null,
       "grid_template_areas": null,
       "grid_template_columns": null,
       "grid_template_rows": null,
       "height": null,
       "justify_content": null,
       "justify_items": null,
       "left": null,
       "margin": null,
       "max_height": null,
       "max_width": null,
       "min_height": null,
       "min_width": null,
       "object_fit": null,
       "object_position": null,
       "order": null,
       "overflow": null,
       "overflow_x": null,
       "overflow_y": null,
       "padding": null,
       "right": null,
       "top": null,
       "visibility": null,
       "width": null
      }
     },
     "5482d190585e4e6d9e21a12ca75275cf": {
      "model_module": "@jupyter-widgets/controls",
      "model_module_version": "1.5.0",
      "model_name": "HTMLModel",
      "state": {
       "_dom_classes": [],
       "_model_module": "@jupyter-widgets/controls",
       "_model_module_version": "1.5.0",
       "_model_name": "HTMLModel",
       "_view_count": null,
       "_view_module": "@jupyter-widgets/controls",
       "_view_module_version": "1.5.0",
       "_view_name": "HTMLView",
       "description": "",
       "description_tooltip": null,
       "layout": "IPY_MODEL_197996fcfdbc41e691cc24f064172455",
       "placeholder": "​",
       "style": "IPY_MODEL_c7450a473a214157b0d5fd0493fd14db",
       "value": "<h5><a href=\"https://github.com/voila-dashboards/voila\">voila-dashboards/voila</a></h5>\n<ul>\n<li><a href=\"https://github.com/voila-dashboards/voila/issues/627\">(#627)</a>: <em>Custom Widget results are not shown on voila dashboard.</em> by <strong><a href=\"https://github.com/sackh\">@sackh</a></strong></li>\n<li><a href=\"https://github.com/voila-dashboards/voila/issues/603\">(#603)</a>: <em>Voila drop down widget not working</em> by <strong><a href=\"https://github.com/prachi-tripathi\">@prachi-tripathi</a></strong></li>\n<li><a href=\"https://github.com/voila-dashboards/voila/issues/607\">(#607)</a>: <em>Sage combinat widgets &amp; voila</em> by <strong><a href=\"https://github.com/zerline\">@zerline</a></strong></li>\n<li><a href=\"https://github.com/voila-dashboards/voila/issues/615\">(#615)</a>: <em>Widgets not defined</em> by <strong><a href=\"https://github.com/dmadeka\">@dmadeka</a></strong></li>\n</ul>"
      }
     },
     "563010c9f42c44df80353b798a2199fd": {
      "model_module": "@jupyter-widgets/controls",
      "model_module_version": "1.5.0",
      "model_name": "TabModel",
      "state": {
       "_dom_classes": [],
       "_model_module": "@jupyter-widgets/controls",
       "_model_module_version": "1.5.0",
       "_model_name": "TabModel",
       "_titles": {
        "0": "voila",
        "1": "voila-dashboards.github.io",
        "2": "voila-gridstack",
        "3": "voila-material"
       },
       "_view_count": null,
       "_view_module": "@jupyter-widgets/controls",
       "_view_module_version": "1.5.0",
       "_view_name": "TabView",
       "box_style": "",
       "children": [
        "IPY_MODEL_7694bd972c0a45468ceeee694bc25526",
        "IPY_MODEL_e4e82b8d7c8b4cafa2b4c55a6e795902",
        "IPY_MODEL_bd51be4e215c433bae9b8de7be8ba809",
        "IPY_MODEL_25dbdc498f4149cc953e8bbef4ce0430"
       ],
       "layout": "IPY_MODEL_bcf13ea1ed5749808c3104dc91ac55a5",
       "selected_index": 0
      }
     },
     "58779ace1be346399b8c40ff1c969288": {
      "model_module": "@jupyter-widgets/base",
      "model_module_version": "1.2.0",
      "model_name": "LayoutModel",
      "state": {
       "_model_module": "@jupyter-widgets/base",
       "_model_module_version": "1.2.0",
       "_model_name": "LayoutModel",
       "_view_count": null,
       "_view_module": "@jupyter-widgets/base",
       "_view_module_version": "1.2.0",
       "_view_name": "LayoutView",
       "align_content": null,
       "align_items": null,
       "align_self": null,
       "border": null,
       "bottom": null,
       "display": null,
       "flex": null,
       "flex_flow": null,
       "grid_area": null,
       "grid_auto_columns": null,
       "grid_auto_flow": null,
       "grid_auto_rows": null,
       "grid_column": null,
       "grid_gap": null,
       "grid_row": null,
       "grid_template_areas": null,
       "grid_template_columns": null,
       "grid_template_rows": null,
       "height": null,
       "justify_content": null,
       "justify_items": null,
       "left": null,
       "margin": null,
       "max_height": null,
       "max_width": null,
       "min_height": null,
       "min_width": null,
       "object_fit": null,
       "object_position": null,
       "order": null,
       "overflow": null,
       "overflow_x": null,
       "overflow_y": null,
       "padding": null,
       "right": null,
       "top": null,
       "visibility": null,
       "width": null
      }
     },
     "64a65bb181a34b64bc87f8202233e49d": {
      "model_module": "@jupyter-widgets/controls",
      "model_module_version": "1.5.0",
      "model_name": "HTMLModel",
      "state": {
       "_dom_classes": [],
       "_model_module": "@jupyter-widgets/controls",
       "_model_module_version": "1.5.0",
       "_model_name": "HTMLModel",
       "_view_count": null,
       "_view_module": "@jupyter-widgets/controls",
       "_view_module_version": "1.5.0",
       "_view_name": "HTMLView",
       "description": "",
       "description_tooltip": null,
       "layout": "IPY_MODEL_44d3158348b74666a79a54aca2e90b3a",
       "placeholder": "​",
       "style": "IPY_MODEL_abeac19dfa114b9394e0b5f32d44373e",
       "value": "<h5><a href=\"https://github.com/voila-dashboards/voila-dashboards.github.io\">voila-dashboards/voila-dashboards.github.io</a></h5>\n<ul>\n<li><a href=\"https://github.com/voila-dashboards/voila-dashboards.github.io/issues/14\">(#14)</a>: <em>Move to a bi-weekly schedule?</em> by <strong><a href=\"https://github.com/jtpio\">@jtpio</a></strong></li>\n</ul>"
      }
     },
     "6977826ba5284f88bda0e94ef18927b4": {
      "model_module": "@jupyter-widgets/base",
      "model_module_version": "1.2.0",
      "model_name": "LayoutModel",
      "state": {
       "_model_module": "@jupyter-widgets/base",
       "_model_module_version": "1.2.0",
       "_model_name": "LayoutModel",
       "_view_count": null,
       "_view_module": "@jupyter-widgets/base",
       "_view_module_version": "1.2.0",
       "_view_name": "LayoutView",
       "align_content": null,
       "align_items": null,
       "align_self": null,
       "border": null,
       "bottom": null,
       "display": null,
       "flex": null,
       "flex_flow": null,
       "grid_area": null,
       "grid_auto_columns": null,
       "grid_auto_flow": null,
       "grid_auto_rows": null,
       "grid_column": null,
       "grid_gap": null,
       "grid_row": null,
       "grid_template_areas": null,
       "grid_template_columns": null,
       "grid_template_rows": null,
       "height": null,
       "justify_content": null,
       "justify_items": null,
       "left": null,
       "margin": null,
       "max_height": null,
       "max_width": null,
       "min_height": null,
       "min_width": null,
       "object_fit": null,
       "object_position": null,
       "order": null,
       "overflow": null,
       "overflow_x": null,
       "overflow_y": null,
       "padding": null,
       "right": null,
       "top": null,
       "visibility": null,
       "width": null
      }
     },
     "74aa211679ce42e9abe18ab9837591a5": {
      "model_module": "@jupyter-widgets/controls",
      "model_module_version": "1.5.0",
      "model_name": "DescriptionStyleModel",
      "state": {
       "_model_module": "@jupyter-widgets/controls",
       "_model_module_version": "1.5.0",
       "_model_name": "DescriptionStyleModel",
       "_view_count": null,
       "_view_module": "@jupyter-widgets/base",
       "_view_module_version": "1.2.0",
       "_view_name": "StyleView",
       "description_width": ""
      }
     },
     "7694bd972c0a45468ceeee694bc25526": {
      "model_module": "@jupyter-widgets/controls",
      "model_module_version": "1.5.0",
      "model_name": "HTMLModel",
      "state": {
       "_dom_classes": [],
       "_model_module": "@jupyter-widgets/controls",
       "_model_module_version": "1.5.0",
       "_model_name": "HTMLModel",
       "_view_count": null,
       "_view_module": "@jupyter-widgets/controls",
       "_view_module_version": "1.5.0",
       "_view_name": "HTMLView",
       "description": "",
       "description_tooltip": null,
       "layout": "IPY_MODEL_6977826ba5284f88bda0e94ef18927b4",
       "placeholder": "​",
       "style": "IPY_MODEL_e605684bcd364a95b53a8c3fd2c54a98",
       "value": "<h4>Closed PRs for repo: <a href=\"https://github.com/voila-dashboards/voila\">voila-dashboards/voila</a></h4>\n<h5></h5>\n<ul>\n<li><a href=\"https://github.com/voila-dashboards/voila/pull/639\">(#639)</a>: <em>Remove Voilà CSS preprocessor</em> by <strong><a href=\"https://github.com/SylvainCorlay\">@SylvainCorlay</a></strong> merged by <strong><a href=\"https://github.com/SylvainCorlay\">@SylvainCorlay</a></strong></li>\n<li><a href=\"https://github.com/voila-dashboards/voila/pull/633\">(#633)</a>: <em>Update nbclient to stable release</em> by <strong><a href=\"https://github.com/SylvainCorlay\">@SylvainCorlay</a></strong> merged by <strong><a href=\"https://github.com/SylvainCorlay\">@SylvainCorlay</a></strong></li>\n<li><a href=\"https://github.com/voila-dashboards/voila/pull/622\">(#622)</a>: <em>Remove Python2-specific things</em> by <strong><a href=\"https://github.com/SylvainCorlay\">@SylvainCorlay</a></strong> merged by <strong><a href=\"https://github.com/SylvainCorlay\">@SylvainCorlay</a></strong></li>\n<li><a href=\"https://github.com/voila-dashboards/voila/pull/621\">(#621)</a>: <em>refactor: move output widget to nbclient</em> by <strong><a href=\"https://github.com/maartenbreddels\">@maartenbreddels</a></strong> merged by <strong><a href=\"https://github.com/SylvainCorlay\">@SylvainCorlay</a></strong></li>\n<li><a href=\"https://github.com/voila-dashboards/voila/pull/610\">(#610)</a>: <em>Don't return resources</em> by <strong><a href=\"https://github.com/davidbrochart\">@davidbrochart</a></strong> merged by <strong><a href=\"https://github.com/maartenbreddels\">@maartenbreddels</a></strong></li>\n<li><a href=\"https://github.com/voila-dashboards/voila/pull/608\">(#608)</a>: <em>Update js/package-lock.json</em> by <strong><a href=\"https://github.com/jtpio\">@jtpio</a></strong> merged by <strong><a href=\"https://github.com/SylvainCorlay\">@SylvainCorlay</a></strong></li>\n<li><a href=\"https://github.com/voila-dashboards/voila/pull/602\">(#602)</a>: <em>Update xeus-cling and xleaflet</em> by <strong><a href=\"https://github.com/SylvainCorlay\">@SylvainCorlay</a></strong> merged by <strong><a href=\"https://github.com/SylvainCorlay\">@SylvainCorlay</a></strong></li>\n<li><a href=\"https://github.com/voila-dashboards/voila/pull/599\">(#599)</a>: <em>Fix enabling of server extension with classic notebook</em> by <strong><a href=\"https://github.com/SylvainCorlay\">@SylvainCorlay</a></strong> merged by <strong><a href=\"https://github.com/SylvainCorlay\">@SylvainCorlay</a></strong></li>\n<li><a href=\"https://github.com/voila-dashboards/voila/pull/597\">(#597)</a>: <em>Use async_start_new_kernel_client from nbclient</em> by <strong><a href=\"https://github.com/davidbrochart\">@davidbrochart</a></strong> merged by <strong><a href=\"https://github.com/SylvainCorlay\">@SylvainCorlay</a></strong></li>\n<li><a href=\"https://github.com/voila-dashboards/voila/pull/593\">(#593)</a>: <em>feat: convert preview to a document widget extension</em> by <strong><a href=\"https://github.com/mariobuikhuizen\">@mariobuikhuizen</a></strong> merged by <strong><a href=\"https://github.com/SylvainCorlay\">@SylvainCorlay</a></strong></li>\n<li><a href=\"https://github.com/voila-dashboards/voila/pull/573\">(#573)</a>: <em>Simplify actions and use mamba</em> by <strong><a href=\"https://github.com/martinRenou\">@martinRenou</a></strong> merged by <strong><a href=\"https://github.com/martinRenou\">@martinRenou</a></strong></li>\n<li><a href=\"https://github.com/voila-dashboards/voila/pull/558\">(#558)</a>: <em>Bump acorn from 6.1.1 to 6.4.1 in /js</em> by <strong><a href=\"https://github.com/dependabot\">@dependabot</a></strong> merged by <strong><a href=\"https://github.com/SylvainCorlay\">@SylvainCorlay</a></strong></li>\n<li><a href=\"https://github.com/voila-dashboards/voila/pull/557\">(#557)</a>: <em>Update links to jupyter-xeus and voila-dashboards orgs</em> by <strong><a href=\"https://github.com/jtpio\">@jtpio</a></strong> merged by <strong><a href=\"https://github.com/SylvainCorlay\">@SylvainCorlay</a></strong></li>\n<li><a href=\"https://github.com/voila-dashboards/voila/pull/481\">(#481)</a>: <em>fixes #468 - bugfixes for libraries that use other phosphor libs present in JupyterLab</em> by <strong><a href=\"https://github.com/timkpaine\">@timkpaine</a></strong> merged by <strong><a href=\"https://github.com/SylvainCorlay\">@SylvainCorlay</a></strong></li>\n<li><a href=\"https://github.com/voila-dashboards/voila/pull/208\">(#208)</a>: <em>Refactor template system</em> by <strong><a href=\"https://github.com/maartenbreddels\">@maartenbreddels</a></strong> merged by <strong><a href=\"https://github.com/SylvainCorlay\">@SylvainCorlay</a></strong></li>\n</ul>"
      }
     },
     "7a00f9e963224fa692fc4cda764c0f21": {
      "model_module": "@jupyter-widgets/base",
      "model_module_version": "1.2.0",
      "model_name": "LayoutModel",
      "state": {
       "_model_module": "@jupyter-widgets/base",
       "_model_module_version": "1.2.0",
       "_model_name": "LayoutModel",
       "_view_count": null,
       "_view_module": "@jupyter-widgets/base",
       "_view_module_version": "1.2.0",
       "_view_name": "LayoutView",
       "align_content": null,
       "align_items": null,
       "align_self": null,
       "border": null,
       "bottom": null,
       "display": null,
       "flex": null,
       "flex_flow": null,
       "grid_area": null,
       "grid_auto_columns": null,
       "grid_auto_flow": null,
       "grid_auto_rows": null,
       "grid_column": null,
       "grid_gap": null,
       "grid_row": null,
       "grid_template_areas": null,
       "grid_template_columns": null,
       "grid_template_rows": null,
       "height": null,
       "justify_content": null,
       "justify_items": null,
       "left": null,
       "margin": null,
       "max_height": null,
       "max_width": null,
       "min_height": null,
       "min_width": null,
       "object_fit": null,
       "object_position": null,
       "order": null,
       "overflow": null,
       "overflow_x": null,
       "overflow_y": null,
       "padding": null,
       "right": null,
       "top": null,
       "visibility": null,
       "width": null
      }
     },
     "7b4ddceea9a54577bf4a354446189111": {
      "model_module": "@jupyter-widgets/controls",
      "model_module_version": "1.5.0",
      "model_name": "DescriptionStyleModel",
      "state": {
       "_model_module": "@jupyter-widgets/controls",
       "_model_module_version": "1.5.0",
       "_model_name": "DescriptionStyleModel",
       "_view_count": null,
       "_view_module": "@jupyter-widgets/base",
       "_view_module_version": "1.2.0",
       "_view_name": "StyleView",
       "description_width": ""
      }
     },
     "92ddea255d844d16ac830232f4b1150a": {
      "model_module": "@jupyter-widgets/controls",
      "model_module_version": "1.5.0",
      "model_name": "HTMLModel",
      "state": {
       "_dom_classes": [],
       "_model_module": "@jupyter-widgets/controls",
       "_model_module_version": "1.5.0",
       "_model_name": "HTMLModel",
       "_view_count": null,
       "_view_module": "@jupyter-widgets/controls",
       "_view_module_version": "1.5.0",
       "_view_name": "HTMLView",
       "description": "",
       "description_tooltip": null,
       "layout": "IPY_MODEL_d1f021ad3b094c69b641d6098a49ff7d",
       "placeholder": "​",
       "style": "IPY_MODEL_74aa211679ce42e9abe18ab9837591a5",
       "value": "<h5><a href=\"https://github.com/voila-dashboards/voila-gridstack\">voila-dashboards/voila-gridstack</a></h5>"
      }
     },
     "93c067d26dd24023951cc90050ebf5b1": {
      "model_module": "@jupyter-widgets/controls",
      "model_module_version": "1.5.0",
      "model_name": "DescriptionStyleModel",
      "state": {
       "_model_module": "@jupyter-widgets/controls",
       "_model_module_version": "1.5.0",
       "_model_name": "DescriptionStyleModel",
       "_view_count": null,
       "_view_module": "@jupyter-widgets/base",
       "_view_module_version": "1.2.0",
       "_view_name": "StyleView",
       "description_width": ""
      }
     },
     "946c375be7cb47ee83fc7424942ebdda": {
      "model_module": "@jupyter-widgets/controls",
      "model_module_version": "1.5.0",
      "model_name": "HTMLModel",
      "state": {
       "_dom_classes": [],
       "_model_module": "@jupyter-widgets/controls",
       "_model_module_version": "1.5.0",
       "_model_name": "HTMLModel",
       "_view_count": null,
       "_view_module": "@jupyter-widgets/controls",
       "_view_module_version": "1.5.0",
       "_view_name": "HTMLView",
       "description": "",
       "description_tooltip": null,
       "layout": "IPY_MODEL_a371ed066b534ccfab371df8ad3ee28f",
       "placeholder": "​",
       "style": "IPY_MODEL_f28f0b4a523c47ff8f600779a968e189",
       "value": "<h5><a href=\"https://github.com/voila-dashboards/voila-reveal\">voila-dashboards/voila-reveal</a></h5>\n<ul>\n<li><a href=\"https://github.com/voila-dashboards/voila-reveal/issues/7\">(#7)</a>: <em>Document mechanism for how to change slide type</em> by <strong><a href=\"https://github.com/ned2\">@ned2</a></strong></li>\n</ul>"
      }
     },
     "961a5e17686d4251b651fa6be9164fa0": {
      "model_module": "@jupyter-widgets/base",
      "model_module_version": "1.2.0",
      "model_name": "LayoutModel",
      "state": {
       "_model_module": "@jupyter-widgets/base",
       "_model_module_version": "1.2.0",
       "_model_name": "LayoutModel",
       "_view_count": null,
       "_view_module": "@jupyter-widgets/base",
       "_view_module_version": "1.2.0",
       "_view_name": "LayoutView",
       "align_content": null,
       "align_items": null,
       "align_self": null,
       "border": null,
       "bottom": null,
       "display": null,
       "flex": null,
       "flex_flow": null,
       "grid_area": null,
       "grid_auto_columns": null,
       "grid_auto_flow": null,
       "grid_auto_rows": null,
       "grid_column": null,
       "grid_gap": null,
       "grid_row": null,
       "grid_template_areas": null,
       "grid_template_columns": null,
       "grid_template_rows": null,
       "height": null,
       "justify_content": null,
       "justify_items": null,
       "left": null,
       "margin": null,
       "max_height": null,
       "max_width": null,
       "min_height": null,
       "min_width": null,
       "object_fit": null,
       "object_position": null,
       "order": null,
       "overflow": null,
       "overflow_x": null,
       "overflow_y": null,
       "padding": null,
       "right": null,
       "top": null,
       "visibility": null,
       "width": null
      }
     },
     "96e7e005e53845cda0d948cd43cbdfb2": {
      "model_module": "@jupyter-widgets/controls",
      "model_module_version": "1.5.0",
      "model_name": "ProgressStyleModel",
      "state": {
       "_model_module": "@jupyter-widgets/controls",
       "_model_module_version": "1.5.0",
       "_model_name": "ProgressStyleModel",
       "_view_count": null,
       "_view_module": "@jupyter-widgets/base",
       "_view_module_version": "1.2.0",
       "_view_name": "StyleView",
       "bar_color": null,
       "description_width": ""
      }
     },
     "a371ed066b534ccfab371df8ad3ee28f": {
      "model_module": "@jupyter-widgets/base",
      "model_module_version": "1.2.0",
      "model_name": "LayoutModel",
      "state": {
       "_model_module": "@jupyter-widgets/base",
       "_model_module_version": "1.2.0",
       "_model_name": "LayoutModel",
       "_view_count": null,
       "_view_module": "@jupyter-widgets/base",
       "_view_module_version": "1.2.0",
       "_view_name": "LayoutView",
       "align_content": null,
       "align_items": null,
       "align_self": null,
       "border": null,
       "bottom": null,
       "display": null,
       "flex": null,
       "flex_flow": null,
       "grid_area": null,
       "grid_auto_columns": null,
       "grid_auto_flow": null,
       "grid_auto_rows": null,
       "grid_column": null,
       "grid_gap": null,
       "grid_row": null,
       "grid_template_areas": null,
       "grid_template_columns": null,
       "grid_template_rows": null,
       "height": null,
       "justify_content": null,
       "justify_items": null,
       "left": null,
       "margin": null,
       "max_height": null,
       "max_width": null,
       "min_height": null,
       "min_width": null,
       "object_fit": null,
       "object_position": null,
       "order": null,
       "overflow": null,
       "overflow_x": null,
       "overflow_y": null,
       "padding": null,
       "right": null,
       "top": null,
       "visibility": null,
       "width": null
      }
     },
     "a4eaf0a3e9ef4cba9ee47d0a20c8a99d": {
      "model_module": "@jupyter-widgets/controls",
      "model_module_version": "1.5.0",
      "model_name": "HTMLModel",
      "state": {
       "_dom_classes": [],
       "_model_module": "@jupyter-widgets/controls",
       "_model_module_version": "1.5.0",
       "_model_name": "HTMLModel",
       "_view_count": null,
       "_view_module": "@jupyter-widgets/controls",
       "_view_module_version": "1.5.0",
       "_view_name": "HTMLView",
       "description": "",
       "description_tooltip": null,
       "layout": "IPY_MODEL_2ce1e35a96ec423e9b463a852139189a",
       "placeholder": "​",
       "style": "IPY_MODEL_ad279a9a2c074c40860a128f88d15ad6",
       "value": "<h5><a href=\"https://github.com/voila-dashboards/tljh-voila-gallery\">voila-dashboards/tljh-voila-gallery</a></h5>"
      }
     },
     "a5f5441e75114e33acdb9a959eca4268": {
      "model_module": "@jupyter-widgets/base",
      "model_module_version": "1.2.0",
      "model_name": "LayoutModel",
      "state": {
       "_model_module": "@jupyter-widgets/base",
       "_model_module_version": "1.2.0",
       "_model_name": "LayoutModel",
       "_view_count": null,
       "_view_module": "@jupyter-widgets/base",
       "_view_module_version": "1.2.0",
       "_view_name": "LayoutView",
       "align_content": null,
       "align_items": null,
       "align_self": null,
       "border": null,
       "bottom": null,
       "display": null,
       "flex": null,
       "flex_flow": null,
       "grid_area": null,
       "grid_auto_columns": null,
       "grid_auto_flow": null,
       "grid_auto_rows": null,
       "grid_column": null,
       "grid_gap": null,
       "grid_row": null,
       "grid_template_areas": null,
       "grid_template_columns": null,
       "grid_template_rows": null,
       "height": null,
       "justify_content": null,
       "justify_items": null,
       "left": null,
       "margin": null,
       "max_height": null,
       "max_width": null,
       "min_height": null,
       "min_width": null,
       "object_fit": null,
       "object_position": null,
       "order": null,
       "overflow": null,
       "overflow_x": null,
       "overflow_y": null,
       "padding": null,
       "right": null,
       "top": null,
       "visibility": null,
       "width": null
      }
     },
     "a7970c4e0db44d4db60b59af0edeb23d": {
      "model_module": "@jupyter-widgets/controls",
      "model_module_version": "1.5.0",
      "model_name": "HTMLModel",
      "state": {
       "_dom_classes": [],
       "_model_module": "@jupyter-widgets/controls",
       "_model_module_version": "1.5.0",
       "_model_name": "HTMLModel",
       "_view_count": null,
       "_view_module": "@jupyter-widgets/controls",
       "_view_module_version": "1.5.0",
       "_view_name": "HTMLView",
       "description": "",
       "description_tooltip": null,
       "layout": "IPY_MODEL_d5adad54985545c0b62c230dda8333b6",
       "placeholder": "​",
       "style": "IPY_MODEL_7b4ddceea9a54577bf4a354446189111",
       "value": "<h5><a href=\"https://github.com/voila-dashboards/voila-dashboards.github.io\">voila-dashboards/voila-dashboards.github.io</a></h5>\n<ul>\n<li><a href=\"https://github.com/voila-dashboards/voila-dashboards.github.io/issues/14\">(#14)</a>: <em>Move to a bi-weekly schedule?</em> by <strong><a href=\"https://github.com/jtpio\">@jtpio</a></strong></li>\n</ul>"
      }
     },
     "a9e03933ee12495ca487e0011c51d727": {
      "model_module": "@jupyter-widgets/controls",
      "model_module_version": "1.5.0",
      "model_name": "ProgressStyleModel",
      "state": {
       "_model_module": "@jupyter-widgets/controls",
       "_model_module_version": "1.5.0",
       "_model_name": "ProgressStyleModel",
       "_view_count": null,
       "_view_module": "@jupyter-widgets/base",
       "_view_module_version": "1.2.0",
       "_view_name": "StyleView",
       "bar_color": null,
       "description_width": ""
      }
     },
     "aad1f5d8f20f4c18a73ef7c11ae204df": {
      "model_module": "@jupyter-widgets/base",
      "model_module_version": "1.2.0",
      "model_name": "LayoutModel",
      "state": {
       "_model_module": "@jupyter-widgets/base",
       "_model_module_version": "1.2.0",
       "_model_name": "LayoutModel",
       "_view_count": null,
       "_view_module": "@jupyter-widgets/base",
       "_view_module_version": "1.2.0",
       "_view_name": "LayoutView",
       "align_content": null,
       "align_items": null,
       "align_self": null,
       "border": null,
       "bottom": null,
       "display": null,
       "flex": null,
       "flex_flow": null,
       "grid_area": null,
       "grid_auto_columns": null,
       "grid_auto_flow": null,
       "grid_auto_rows": null,
       "grid_column": null,
       "grid_gap": null,
       "grid_row": null,
       "grid_template_areas": null,
       "grid_template_columns": null,
       "grid_template_rows": null,
       "height": null,
       "justify_content": null,
       "justify_items": null,
       "left": null,
       "margin": null,
       "max_height": null,
       "max_width": null,
       "min_height": null,
       "min_width": null,
       "object_fit": null,
       "object_position": null,
       "order": null,
       "overflow": null,
       "overflow_x": null,
       "overflow_y": null,
       "padding": null,
       "right": null,
       "top": null,
       "visibility": null,
       "width": null
      }
     },
     "aba812b4d8d3448280d5afe57a1f7fba": {
      "model_module": "@jupyter-widgets/controls",
      "model_module_version": "1.5.0",
      "model_name": "IntProgressModel",
      "state": {
       "_dom_classes": [],
       "_model_module": "@jupyter-widgets/controls",
       "_model_module_version": "1.5.0",
       "_model_name": "IntProgressModel",
       "_view_count": null,
       "_view_module": "@jupyter-widgets/controls",
       "_view_module_version": "1.5.0",
       "_view_name": "ProgressView",
       "bar_style": "success",
       "description": "Downloading:",
       "description_tooltip": null,
       "layout": "IPY_MODEL_f0a01f29b5514d04a782c98bfad87458",
       "max": 1,
       "min": 0,
       "orientation": "horizontal",
       "style": "IPY_MODEL_96e7e005e53845cda0d948cd43cbdfb2",
       "value": 1
      }
     },
     "abeac19dfa114b9394e0b5f32d44373e": {
      "model_module": "@jupyter-widgets/controls",
      "model_module_version": "1.5.0",
      "model_name": "DescriptionStyleModel",
      "state": {
       "_model_module": "@jupyter-widgets/controls",
       "_model_module_version": "1.5.0",
       "_model_name": "DescriptionStyleModel",
       "_view_count": null,
       "_view_module": "@jupyter-widgets/base",
       "_view_module_version": "1.2.0",
       "_view_name": "StyleView",
       "description_width": ""
      }
     },
     "ad279a9a2c074c40860a128f88d15ad6": {
      "model_module": "@jupyter-widgets/controls",
      "model_module_version": "1.5.0",
      "model_name": "DescriptionStyleModel",
      "state": {
       "_model_module": "@jupyter-widgets/controls",
       "_model_module_version": "1.5.0",
       "_model_name": "DescriptionStyleModel",
       "_view_count": null,
       "_view_module": "@jupyter-widgets/base",
       "_view_module_version": "1.2.0",
       "_view_name": "StyleView",
       "description_width": ""
      }
     },
     "b765bad0c85941baaa3c5386279d3061": {
      "model_module": "@jupyter-widgets/controls",
      "model_module_version": "1.5.0",
      "model_name": "DescriptionStyleModel",
      "state": {
       "_model_module": "@jupyter-widgets/controls",
       "_model_module_version": "1.5.0",
       "_model_name": "DescriptionStyleModel",
       "_view_count": null,
       "_view_module": "@jupyter-widgets/base",
       "_view_module_version": "1.2.0",
       "_view_name": "StyleView",
       "description_width": ""
      }
     },
     "ba84f3c43aa940b086ea5e6103367311": {
      "model_module": "@jupyter-widgets/controls",
      "model_module_version": "1.5.0",
      "model_name": "DescriptionStyleModel",
      "state": {
       "_model_module": "@jupyter-widgets/controls",
       "_model_module_version": "1.5.0",
       "_model_name": "DescriptionStyleModel",
       "_view_count": null,
       "_view_module": "@jupyter-widgets/base",
       "_view_module_version": "1.2.0",
       "_view_name": "StyleView",
       "description_width": ""
      }
     },
     "bcf13ea1ed5749808c3104dc91ac55a5": {
      "model_module": "@jupyter-widgets/base",
      "model_module_version": "1.2.0",
      "model_name": "LayoutModel",
      "state": {
       "_model_module": "@jupyter-widgets/base",
       "_model_module_version": "1.2.0",
       "_model_name": "LayoutModel",
       "_view_count": null,
       "_view_module": "@jupyter-widgets/base",
       "_view_module_version": "1.2.0",
       "_view_name": "LayoutView",
       "align_content": null,
       "align_items": null,
       "align_self": null,
       "border": null,
       "bottom": null,
       "display": null,
       "flex": null,
       "flex_flow": null,
       "grid_area": null,
       "grid_auto_columns": null,
       "grid_auto_flow": null,
       "grid_auto_rows": null,
       "grid_column": null,
       "grid_gap": null,
       "grid_row": null,
       "grid_template_areas": null,
       "grid_template_columns": null,
       "grid_template_rows": null,
       "height": null,
       "justify_content": null,
       "justify_items": null,
       "left": null,
       "margin": null,
       "max_height": null,
       "max_width": null,
       "min_height": null,
       "min_width": null,
       "object_fit": null,
       "object_position": null,
       "order": null,
       "overflow": null,
       "overflow_x": null,
       "overflow_y": null,
       "padding": null,
       "right": null,
       "top": null,
       "visibility": null,
       "width": null
      }
     },
     "bd51be4e215c433bae9b8de7be8ba809": {
      "model_module": "@jupyter-widgets/controls",
      "model_module_version": "1.5.0",
      "model_name": "HTMLModel",
      "state": {
       "_dom_classes": [],
       "_model_module": "@jupyter-widgets/controls",
       "_model_module_version": "1.5.0",
       "_model_name": "HTMLModel",
       "_view_count": null,
       "_view_module": "@jupyter-widgets/controls",
       "_view_module_version": "1.5.0",
       "_view_name": "HTMLView",
       "description": "",
       "description_tooltip": null,
       "layout": "IPY_MODEL_027f58f178c647e1be49b6ac5e2c6a83",
       "placeholder": "​",
       "style": "IPY_MODEL_08b8ef6fe0aa42ffb9245164ed4b49da",
       "value": "<h4>Closed PRs for repo: <a href=\"https://github.com/voila-dashboards/voila-gridstack\">voila-dashboards/voila-gridstack</a></h4>\n<h5></h5>\n<ul>\n<li><a href=\"https://github.com/voila-dashboards/voila-gridstack/pull/43\">(#43)</a>: <em>Fix overlap for Drag Handle</em> by <strong><a href=\"https://github.com/madhur-tandon\">@madhur-tandon</a></strong> merged by <strong><a href=\"https://github.com/SylvainCorlay\">@SylvainCorlay</a></strong></li>\n<li><a href=\"https://github.com/voila-dashboards/voila-gridstack/pull/42\">(#42)</a>: <em>Fix CSS to make UI more appealing</em> by <strong><a href=\"https://github.com/madhur-tandon\">@madhur-tandon</a></strong> merged by <strong><a href=\"https://github.com/SylvainCorlay\">@SylvainCorlay</a></strong></li>\n<li><a href=\"https://github.com/voila-dashboards/voila-gridstack/pull/41\">(#41)</a>: <em>Refactor template take3</em> by <strong><a href=\"https://github.com/maartenbreddels\">@maartenbreddels</a></strong> merged by <strong><a href=\"https://github.com/SylvainCorlay\">@SylvainCorlay</a></strong></li>\n<li><a href=\"https://github.com/voila-dashboards/voila-gridstack/pull/38\">(#38)</a>: <em>jupyter extension for grid persistence</em> by <strong><a href=\"https://github.com/brichet\">@brichet</a></strong> merged by <strong><a href=\"https://github.com/SylvainCorlay\">@SylvainCorlay</a></strong></li>\n<li><a href=\"https://github.com/voila-dashboards/voila-gridstack/pull/37\">(#37)</a>: <em>feat: make inspection of the config possible</em> by <strong><a href=\"https://github.com/mariobuikhuizen\">@mariobuikhuizen</a></strong> merged by <strong><a href=\"https://github.com/SylvainCorlay\">@SylvainCorlay</a></strong></li>\n</ul>"
      }
     },
     "c7450a473a214157b0d5fd0493fd14db": {
      "model_module": "@jupyter-widgets/controls",
      "model_module_version": "1.5.0",
      "model_name": "DescriptionStyleModel",
      "state": {
       "_model_module": "@jupyter-widgets/controls",
       "_model_module_version": "1.5.0",
       "_model_name": "DescriptionStyleModel",
       "_view_count": null,
       "_view_module": "@jupyter-widgets/base",
       "_view_module_version": "1.2.0",
       "_view_name": "StyleView",
       "description_width": ""
      }
     },
     "c9d9510859014c71bd77da8a6e33a4f9": {
      "model_module": "@jupyter-widgets/controls",
      "model_module_version": "1.5.0",
      "model_name": "HTMLModel",
      "state": {
       "_dom_classes": [],
       "_model_module": "@jupyter-widgets/controls",
       "_model_module_version": "1.5.0",
       "_model_name": "HTMLModel",
       "_view_count": null,
       "_view_module": "@jupyter-widgets/controls",
       "_view_module_version": "1.5.0",
       "_view_name": "HTMLView",
       "description": "",
       "description_tooltip": null,
       "layout": "IPY_MODEL_a5f5441e75114e33acdb9a959eca4268",
       "placeholder": "​",
       "style": "IPY_MODEL_d67a00d4513e4e61b196facb9b74a9b7",
       "value": "<h5><a href=\"https://github.com/voila-dashboards/voila-gridstack\">voila-dashboards/voila-gridstack</a></h5>"
      }
     },
     "c9e014082b6349d6b95d3b5962320bf2": {
      "model_module": "@jupyter-widgets/controls",
      "model_module_version": "1.5.0",
      "model_name": "HTMLModel",
      "state": {
       "_dom_classes": [],
       "_model_module": "@jupyter-widgets/controls",
       "_model_module_version": "1.5.0",
       "_model_name": "HTMLModel",
       "_view_count": null,
       "_view_module": "@jupyter-widgets/controls",
       "_view_module_version": "1.5.0",
       "_view_name": "HTMLView",
       "description": "",
       "description_tooltip": null,
       "layout": "IPY_MODEL_060daca00ee14f9399e55fb9736f4487",
       "placeholder": "​",
       "style": "IPY_MODEL_93c067d26dd24023951cc90050ebf5b1",
       "value": "<h5><a href=\"https://github.com/voila-dashboards/voila-material\">voila-dashboards/voila-material</a></h5>\n<ul>\n<li><a href=\"https://github.com/voila-dashboards/voila-material/issues/18\">(#18)</a>: <em>Creating of buttons in callback doesn't work</em> by <strong><a href=\"https://github.com/tobyX\">@tobyX</a></strong></li>\n<li><a href=\"https://github.com/voila-dashboards/voila-material/issues/12\">(#12)</a>: <em>Ipywidgets not rendered</em> by <strong><a href=\"https://github.com/French-Kriss\">@French-Kriss</a></strong></li>\n</ul>"
      }
     },
     "c9fce014fef4473c9b7e1c61917f3d6e": {
      "model_module": "@jupyter-widgets/controls",
      "model_module_version": "1.5.0",
      "model_name": "DescriptionStyleModel",
      "state": {
       "_model_module": "@jupyter-widgets/controls",
       "_model_module_version": "1.5.0",
       "_model_name": "DescriptionStyleModel",
       "_view_count": null,
       "_view_module": "@jupyter-widgets/base",
       "_view_module_version": "1.2.0",
       "_view_name": "StyleView",
       "description_width": ""
      }
     },
     "cfb35ce3ad31468a92238fb0c22dbd5a": {
      "model_module": "@jupyter-widgets/controls",
      "model_module_version": "1.5.0",
      "model_name": "HTMLModel",
      "state": {
       "_dom_classes": [],
       "_model_module": "@jupyter-widgets/controls",
       "_model_module_version": "1.5.0",
       "_model_name": "HTMLModel",
       "_view_count": null,
       "_view_module": "@jupyter-widgets/controls",
       "_view_module_version": "1.5.0",
       "_view_name": "HTMLView",
       "description": "",
       "description_tooltip": null,
       "layout": "IPY_MODEL_1cbf322cdca64cb99fd61c96149b1faa",
       "placeholder": "​",
       "style": "IPY_MODEL_d60bd0efcce14c549dc7bac1fa62593b",
       "value": "<h5><a href=\"https://github.com/voila-dashboards/tljh-voila-gallery\">voila-dashboards/tljh-voila-gallery</a></h5>"
      }
     },
     "d1f021ad3b094c69b641d6098a49ff7d": {
      "model_module": "@jupyter-widgets/base",
      "model_module_version": "1.2.0",
      "model_name": "LayoutModel",
      "state": {
       "_model_module": "@jupyter-widgets/base",
       "_model_module_version": "1.2.0",
       "_model_name": "LayoutModel",
       "_view_count": null,
       "_view_module": "@jupyter-widgets/base",
       "_view_module_version": "1.2.0",
       "_view_name": "LayoutView",
       "align_content": null,
       "align_items": null,
       "align_self": null,
       "border": null,
       "bottom": null,
       "display": null,
       "flex": null,
       "flex_flow": null,
       "grid_area": null,
       "grid_auto_columns": null,
       "grid_auto_flow": null,
       "grid_auto_rows": null,
       "grid_column": null,
       "grid_gap": null,
       "grid_row": null,
       "grid_template_areas": null,
       "grid_template_columns": null,
       "grid_template_rows": null,
       "height": null,
       "justify_content": null,
       "justify_items": null,
       "left": null,
       "margin": null,
       "max_height": null,
       "max_width": null,
       "min_height": null,
       "min_width": null,
       "object_fit": null,
       "object_position": null,
       "order": null,
       "overflow": null,
       "overflow_x": null,
       "overflow_y": null,
       "padding": null,
       "right": null,
       "top": null,
       "visibility": null,
       "width": null
      }
     },
     "d5adad54985545c0b62c230dda8333b6": {
      "model_module": "@jupyter-widgets/base",
      "model_module_version": "1.2.0",
      "model_name": "LayoutModel",
      "state": {
       "_model_module": "@jupyter-widgets/base",
       "_model_module_version": "1.2.0",
       "_model_name": "LayoutModel",
       "_view_count": null,
       "_view_module": "@jupyter-widgets/base",
       "_view_module_version": "1.2.0",
       "_view_name": "LayoutView",
       "align_content": null,
       "align_items": null,
       "align_self": null,
       "border": null,
       "bottom": null,
       "display": null,
       "flex": null,
       "flex_flow": null,
       "grid_area": null,
       "grid_auto_columns": null,
       "grid_auto_flow": null,
       "grid_auto_rows": null,
       "grid_column": null,
       "grid_gap": null,
       "grid_row": null,
       "grid_template_areas": null,
       "grid_template_columns": null,
       "grid_template_rows": null,
       "height": null,
       "justify_content": null,
       "justify_items": null,
       "left": null,
       "margin": null,
       "max_height": null,
       "max_width": null,
       "min_height": null,
       "min_width": null,
       "object_fit": null,
       "object_position": null,
       "order": null,
       "overflow": null,
       "overflow_x": null,
       "overflow_y": null,
       "padding": null,
       "right": null,
       "top": null,
       "visibility": null,
       "width": null
      }
     },
     "d60bd0efcce14c549dc7bac1fa62593b": {
      "model_module": "@jupyter-widgets/controls",
      "model_module_version": "1.5.0",
      "model_name": "DescriptionStyleModel",
      "state": {
       "_model_module": "@jupyter-widgets/controls",
       "_model_module_version": "1.5.0",
       "_model_name": "DescriptionStyleModel",
       "_view_count": null,
       "_view_module": "@jupyter-widgets/base",
       "_view_module_version": "1.2.0",
       "_view_name": "StyleView",
       "description_width": ""
      }
     },
     "d67a00d4513e4e61b196facb9b74a9b7": {
      "model_module": "@jupyter-widgets/controls",
      "model_module_version": "1.5.0",
      "model_name": "DescriptionStyleModel",
      "state": {
       "_model_module": "@jupyter-widgets/controls",
       "_model_module_version": "1.5.0",
       "_model_name": "DescriptionStyleModel",
       "_view_count": null,
       "_view_module": "@jupyter-widgets/base",
       "_view_module_version": "1.2.0",
       "_view_name": "StyleView",
       "description_width": ""
      }
     },
     "ddc56a6451594f2da2eaaaa5f951fd98": {
      "model_module": "@jupyter-widgets/base",
      "model_module_version": "1.2.0",
      "model_name": "LayoutModel",
      "state": {
       "_model_module": "@jupyter-widgets/base",
       "_model_module_version": "1.2.0",
       "_model_name": "LayoutModel",
       "_view_count": null,
       "_view_module": "@jupyter-widgets/base",
       "_view_module_version": "1.2.0",
       "_view_name": "LayoutView",
       "align_content": null,
       "align_items": null,
       "align_self": null,
       "border": null,
       "bottom": null,
       "display": null,
       "flex": null,
       "flex_flow": null,
       "grid_area": null,
       "grid_auto_columns": null,
       "grid_auto_flow": null,
       "grid_auto_rows": null,
       "grid_column": null,
       "grid_gap": null,
       "grid_row": null,
       "grid_template_areas": null,
       "grid_template_columns": null,
       "grid_template_rows": null,
       "height": null,
       "justify_content": null,
       "justify_items": null,
       "left": null,
       "margin": null,
       "max_height": null,
       "max_width": null,
       "min_height": null,
       "min_width": null,
       "object_fit": null,
       "object_position": null,
       "order": null,
       "overflow": null,
       "overflow_x": null,
       "overflow_y": null,
       "padding": null,
       "right": null,
       "top": null,
       "visibility": null,
       "width": null
      }
     },
     "e4e82b8d7c8b4cafa2b4c55a6e795902": {
      "model_module": "@jupyter-widgets/controls",
      "model_module_version": "1.5.0",
      "model_name": "HTMLModel",
      "state": {
       "_dom_classes": [],
       "_model_module": "@jupyter-widgets/controls",
       "_model_module_version": "1.5.0",
       "_model_name": "HTMLModel",
       "_view_count": null,
       "_view_module": "@jupyter-widgets/controls",
       "_view_module_version": "1.5.0",
       "_view_name": "HTMLView",
       "description": "",
       "description_tooltip": null,
       "layout": "IPY_MODEL_15fc36f4b2904cec8e9bd2f69f37d41a",
       "placeholder": "​",
       "style": "IPY_MODEL_1aa45e55701f4134aee06e41530e39e6",
       "value": "<h4>Closed PRs for repo: <a href=\"https://github.com/voila-dashboards/voila-dashboards.github.io\">voila-dashboards/voila-dashboards.github.io</a></h4>\n<h5></h5>\n<ul>\n<li><a href=\"https://github.com/voila-dashboards/voila-dashboards.github.io/pull/18\">(#18)</a>: <em>Add meeting minutes - 2020-07-13</em> by <strong><a href=\"https://github.com/jtpio\">@jtpio</a></strong> merged by <strong><a href=\"https://github.com/jtpio\">@jtpio</a></strong></li>\n<li><a href=\"https://github.com/voila-dashboards/voila-dashboards.github.io/pull/17\">(#17)</a>: <em>2020-05-18 minutes</em> by <strong><a href=\"https://github.com/SylvainCorlay\">@SylvainCorlay</a></strong> merged by <strong><a href=\"https://github.com/SylvainCorlay\">@SylvainCorlay</a></strong></li>\n</ul>"
      }
     },
     "e605684bcd364a95b53a8c3fd2c54a98": {
      "model_module": "@jupyter-widgets/controls",
      "model_module_version": "1.5.0",
      "model_name": "DescriptionStyleModel",
      "state": {
       "_model_module": "@jupyter-widgets/controls",
       "_model_module_version": "1.5.0",
       "_model_name": "DescriptionStyleModel",
       "_view_count": null,
       "_view_module": "@jupyter-widgets/base",
       "_view_module_version": "1.2.0",
       "_view_name": "StyleView",
       "description_width": ""
      }
     },
     "f0a01f29b5514d04a782c98bfad87458": {
      "model_module": "@jupyter-widgets/base",
      "model_module_version": "1.2.0",
      "model_name": "LayoutModel",
      "state": {
       "_model_module": "@jupyter-widgets/base",
       "_model_module_version": "1.2.0",
       "_model_name": "LayoutModel",
       "_view_count": null,
       "_view_module": "@jupyter-widgets/base",
       "_view_module_version": "1.2.0",
       "_view_name": "LayoutView",
       "align_content": null,
       "align_items": null,
       "align_self": null,
       "border": null,
       "bottom": null,
       "display": null,
       "flex": null,
       "flex_flow": null,
       "grid_area": null,
       "grid_auto_columns": null,
       "grid_auto_flow": null,
       "grid_auto_rows": null,
       "grid_column": null,
       "grid_gap": null,
       "grid_row": null,
       "grid_template_areas": null,
       "grid_template_columns": null,
       "grid_template_rows": null,
       "height": null,
       "justify_content": null,
       "justify_items": null,
       "left": null,
       "margin": null,
       "max_height": null,
       "max_width": null,
       "min_height": null,
       "min_width": null,
       "object_fit": null,
       "object_position": null,
       "order": null,
       "overflow": null,
       "overflow_x": null,
       "overflow_y": null,
       "padding": null,
       "right": null,
       "top": null,
       "visibility": null,
       "width": null
      }
     },
     "f0c0796506fb472ab73e47457b38c463": {
      "model_module": "@jupyter-widgets/controls",
      "model_module_version": "1.5.0",
      "model_name": "HTMLModel",
      "state": {
       "_dom_classes": [],
       "_model_module": "@jupyter-widgets/controls",
       "_model_module_version": "1.5.0",
       "_model_name": "HTMLModel",
       "_view_count": null,
       "_view_module": "@jupyter-widgets/controls",
       "_view_module_version": "1.5.0",
       "_view_name": "HTMLView",
       "description": "",
       "description_tooltip": null,
       "layout": "IPY_MODEL_58779ace1be346399b8c40ff1c969288",
       "placeholder": "​",
       "style": "IPY_MODEL_b765bad0c85941baaa3c5386279d3061",
       "value": "<h5><a href=\"https://github.com/voila-dashboards/voila-vuetify\">voila-dashboards/voila-vuetify</a></h5>\n<ul>\n<li><a href=\"https://github.com/voila-dashboards/voila-vuetify/issues/36\">(#36)</a>: <em>Failed to work with plotly</em> by <strong><a href=\"https://github.com/eromoe\">@eromoe</a></strong></li>\n</ul>"
      }
     },
     "f0d3b30d2cf14b52806ec268962df8dc": {
      "model_module": "@jupyter-widgets/controls",
      "model_module_version": "1.5.0",
      "model_name": "TabModel",
      "state": {
       "_dom_classes": [],
       "_model_module": "@jupyter-widgets/controls",
       "_model_module_version": "1.5.0",
       "_model_name": "TabModel",
       "_titles": {
        "0": "tljh-voila-gallery",
        "1": "voila",
        "2": "voila-dashboards.github.io",
        "3": "voila-gridstack",
        "4": "voila-material",
        "5": "voila-reveal",
        "6": "voila-vuetify"
       },
       "_view_count": null,
       "_view_module": "@jupyter-widgets/controls",
       "_view_module_version": "1.5.0",
       "_view_name": "TabView",
       "box_style": "",
       "children": [
        "IPY_MODEL_a4eaf0a3e9ef4cba9ee47d0a20c8a99d",
        "IPY_MODEL_27b18634180142eb816068b369285cf7",
        "IPY_MODEL_a7970c4e0db44d4db60b59af0edeb23d",
        "IPY_MODEL_c9d9510859014c71bd77da8a6e33a4f9",
        "IPY_MODEL_c9e014082b6349d6b95d3b5962320bf2",
        "IPY_MODEL_946c375be7cb47ee83fc7424942ebdda",
        "IPY_MODEL_028f590d0b894b42af6a620e481cc823"
       ],
       "layout": "IPY_MODEL_aad1f5d8f20f4c18a73ef7c11ae204df",
       "selected_index": 0
      }
     },
     "f28f0b4a523c47ff8f600779a968e189": {
      "model_module": "@jupyter-widgets/controls",
      "model_module_version": "1.5.0",
      "model_name": "DescriptionStyleModel",
      "state": {
       "_model_module": "@jupyter-widgets/controls",
       "_model_module_version": "1.5.0",
       "_model_name": "DescriptionStyleModel",
       "_view_count": null,
       "_view_module": "@jupyter-widgets/base",
       "_view_module_version": "1.2.0",
       "_view_name": "StyleView",
       "description_width": ""
      }
     }
    },
    "version_major": 2,
    "version_minor": 0
   }
  }
 },
 "nbformat": 4,
 "nbformat_minor": 4
}