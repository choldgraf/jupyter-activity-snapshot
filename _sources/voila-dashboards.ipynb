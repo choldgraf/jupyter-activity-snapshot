{
 "cells": [
  {
   "cell_type": "markdown",
   "metadata": {
    "papermill": {
     "duration": 0.035791,
     "end_time": "2020-08-09T01:14:13.618777",
     "exception": false,
     "start_time": "2020-08-09T01:14:13.582986",
     "status": "completed"
    },
    "tags": []
   },
   "source": [
    "# {glue:text}`voila-dashboards_github_org`\n",
    "\n",
    "**Activity from {glue:}`voila-dashboards_start` to {glue:}`voila-dashboards_stop`**"
   ]
  },
  {
   "cell_type": "code",
   "execution_count": 1,
   "metadata": {
    "execution": {
     "iopub.execute_input": "2020-08-09T01:14:13.696035Z",
     "iopub.status.busy": "2020-08-09T01:14:13.695410Z",
     "iopub.status.idle": "2020-08-09T01:14:15.175641Z",
     "shell.execute_reply": "2020-08-09T01:14:15.175050Z"
    },
    "papermill": {
     "duration": 1.520957,
     "end_time": "2020-08-09T01:14:15.175808",
     "exception": false,
     "start_time": "2020-08-09T01:14:13.654851",
     "status": "completed"
    },
    "tags": [
     "remove_cell"
    ]
   },
   "outputs": [],
   "source": [
    "import github_activity as ga\n",
    "from datetime import date\n",
    "from dateutil.relativedelta import relativedelta\n",
    "from myst_nb import glue\n",
    "import seaborn as sns\n",
    "import pandas as pd\n",
    "import numpy as np\n",
    "import altair as alt\n",
    "from markdown import markdown\n",
    "from IPython.display import Markdown\n",
    "from ipywidgets.widgets import HTML, Tab\n",
    "from ipywidgets import widgets\n",
    "from datetime import timedelta\n",
    "from matplotlib import pyplot as plt\n",
    "import os.path as op\n",
    "\n",
    "from warnings import simplefilter\n",
    "simplefilter('ignore')"
   ]
  },
  {
   "cell_type": "code",
   "execution_count": 2,
   "metadata": {
    "execution": {
     "iopub.execute_input": "2020-08-09T01:14:15.260041Z",
     "iopub.status.busy": "2020-08-09T01:14:15.259409Z",
     "iopub.status.idle": "2020-08-09T01:14:15.261610Z",
     "shell.execute_reply": "2020-08-09T01:14:15.262215Z"
    },
    "papermill": {
     "duration": 0.048743,
     "end_time": "2020-08-09T01:14:15.262367",
     "exception": false,
     "start_time": "2020-08-09T01:14:15.213624",
     "status": "completed"
    },
    "tags": [
     "remove_cell"
    ]
   },
   "outputs": [],
   "source": [
    "# Altair config\n",
    "def author_url(author):\n",
    "    return f\"https://github.com/{author}\"\n",
    "\n",
    "def alt_theme():\n",
    "    return {\n",
    "        'config': {\n",
    "            'axisLeft': {\n",
    "                'labelFontSize': 15,\n",
    "            },\n",
    "            'axisBottom': {\n",
    "                'labelFontSize': 15,\n",
    "            },\n",
    "        }\n",
    "    }\n",
    "\n",
    "alt.themes.register('my_theme', alt_theme)\n",
    "alt.themes.enable(\"my_theme\")\n",
    "\n",
    "\n",
    "# Define colors we'll use for GitHub membership\n",
    "author_types = ['MEMBER', 'CONTRIBUTOR', 'COLLABORATOR', \"NONE\"]\n",
    "\n",
    "author_palette = np.array(sns.palettes.blend_palette([\"lightgrey\", \"lightgreen\", \"darkgreen\"], 4)) * 256\n",
    "author_colors = [\"rgb({}, {}, {})\".format(*color) for color in author_palette]\n",
    "author_color_dict = {key: val for key, val in zip(author_types, author_palette)}"
   ]
  },
  {
   "cell_type": "code",
   "execution_count": 3,
   "metadata": {
    "execution": {
     "iopub.execute_input": "2020-08-09T01:14:15.332012Z",
     "iopub.status.busy": "2020-08-09T01:14:15.331382Z",
     "iopub.status.idle": "2020-08-09T01:14:15.334214Z",
     "shell.execute_reply": "2020-08-09T01:14:15.333576Z"
    },
    "papermill": {
     "duration": 0.039102,
     "end_time": "2020-08-09T01:14:15.334343",
     "exception": false,
     "start_time": "2020-08-09T01:14:15.295241",
     "status": "completed"
    },
    "tags": [
     "parameters",
     "hide_input",
     "remove_cell"
    ]
   },
   "outputs": [],
   "source": [
    "github_org = \"jupyterhub\"\n",
    "top_n_repos = 15\n",
    "n_days = 10"
   ]
  },
  {
   "cell_type": "code",
   "execution_count": 4,
   "metadata": {
    "execution": {
     "iopub.execute_input": "2020-08-09T01:14:15.406776Z",
     "iopub.status.busy": "2020-08-09T01:14:15.406135Z",
     "iopub.status.idle": "2020-08-09T01:14:15.407968Z",
     "shell.execute_reply": "2020-08-09T01:14:15.408574Z"
    },
    "papermill": {
     "duration": 0.039794,
     "end_time": "2020-08-09T01:14:15.408724",
     "exception": false,
     "start_time": "2020-08-09T01:14:15.368930",
     "status": "completed"
    },
    "tags": [
     "injected-parameters",
     "remove-cell"
    ]
   },
   "outputs": [],
   "source": [
    "# Parameters\n",
    "github_org = \"voila-dashboards\"\n",
    "n_days = 60\n"
   ]
  },
  {
   "cell_type": "code",
   "execution_count": 5,
   "metadata": {
    "execution": {
     "iopub.execute_input": "2020-08-09T01:14:15.481750Z",
     "iopub.status.busy": "2020-08-09T01:14:15.481132Z",
     "iopub.status.idle": "2020-08-09T01:14:15.487382Z",
     "shell.execute_reply": "2020-08-09T01:14:15.486753Z"
    },
    "papermill": {
     "duration": 0.045234,
     "end_time": "2020-08-09T01:14:15.487511",
     "exception": false,
     "start_time": "2020-08-09T01:14:15.442277",
     "status": "completed"
    },
    "tags": [
     "remove_cell"
    ]
   },
   "outputs": [
    {
     "data": {
      "application/papermill.record/text/plain": "'voila-dashboards'"
     },
     "metadata": {
      "scrapbook": {
       "mime_prefix": "application/papermill.record/",
       "name": "voila-dashboards_github_org"
      }
     },
     "output_type": "display_data"
    },
    {
     "data": {
      "application/papermill.record/text/plain": "'2020-06-10'"
     },
     "metadata": {
      "scrapbook": {
       "mime_prefix": "application/papermill.record/",
       "name": "voila-dashboards_start"
      }
     },
     "output_type": "display_data"
    },
    {
     "data": {
      "application/papermill.record/text/plain": "'2020-08-09'"
     },
     "metadata": {
      "scrapbook": {
       "mime_prefix": "application/papermill.record/",
       "name": "voila-dashboards_stop"
      }
     },
     "output_type": "display_data"
    }
   ],
   "source": [
    "############################################################\n",
    "# Variables\n",
    "stop = date.today()\n",
    "start = date.today() - relativedelta(days=n_days)\n",
    "\n",
    "# Strings for use in queries\n",
    "start_date = f\"{start:%Y-%m-%d}\"\n",
    "stop_date = f\"{stop:%Y-%m-%d}\"\n",
    "\n",
    "# Glue variables for use in markdown\n",
    "glue(f\"{github_org}_github_org\", github_org, display=False)\n",
    "glue(f\"{github_org}_start\", start_date, display=False)\n",
    "glue(f\"{github_org}_stop\", stop_date, display=False)"
   ]
  },
  {
   "cell_type": "code",
   "execution_count": 6,
   "metadata": {
    "execution": {
     "iopub.execute_input": "2020-08-09T01:14:15.562212Z",
     "iopub.status.busy": "2020-08-09T01:14:15.561578Z",
     "iopub.status.idle": "2020-08-09T01:14:19.914913Z",
     "shell.execute_reply": "2020-08-09T01:14:19.915859Z"
    },
    "papermill": {
     "duration": 4.392365,
     "end_time": "2020-08-09T01:14:19.916045",
     "exception": false,
     "start_time": "2020-08-09T01:14:15.523680",
     "status": "completed"
    },
    "tags": [
     "remove_cell"
    ]
   },
   "outputs": [
    {
     "name": "stdout",
     "output_type": "stream",
     "text": [
      "Running search query:\n",
      "user:voila-dashboards\n",
      "\n",
      "\n"
     ]
    },
    {
     "name": "stdout",
     "output_type": "stream",
     "text": [
      "Found 52 items, which will take 2 pages\n"
     ]
    },
    {
     "data": {
      "application/vnd.jupyter.widget-view+json": {
       "model_id": "fe066a63eb74484c8a608b2062d94160",
       "version_major": 2,
       "version_minor": 0
      },
      "text/plain": [
       "IntProgress(value=0, description='Downloading:', max=2)"
      ]
     },
     "metadata": {},
     "output_type": "display_data"
    },
    {
     "name": "stdout",
     "output_type": "stream",
     "text": [
      "Found 31 items, which will take 1 pages\n"
     ]
    }
   ],
   "source": [
    "############################################################\n",
    "# Fetch the raw data and load data we need\n",
    "raw_data = ga.get_activity(github_org, start_date)\n",
    "bot_names = pd.read_csv('../bot_names.csv')['names'].tolist()\n",
    "data = raw_data.copy()\n",
    "\n",
    "# Prepare our data\n",
    "data[\"kind\"] = data[\"url\"].map(lambda a: \"issue\" if \"issues/\" in a else \"pr\")\n",
    "data[\"mergedBy\"] = data[\"mergedBy\"].map(lambda a: a[\"login\"] if not isinstance(a, (float, type(None))) else None)\n",
    "\n",
    "prs = data.query(\"kind == 'pr'\")\n",
    "issues = data.query(\"kind == 'issue'\")\n",
    "\n",
    "# Pull out the comments\n",
    "comments = []\n",
    "for _, irow in data.iterrows():\n",
    "    for icomment in irow['comments']['edges']:\n",
    "        icomment = icomment[\"node\"].copy()\n",
    "        icomment[\"author\"] = icomment[\"author\"][\"login\"] if icomment[\"author\"] else None\n",
    "        icomment[\"org\"] = irow[\"org\"]\n",
    "        icomment[\"repo\"] = irow[\"repo\"]\n",
    "        icomment[\"id\"] = irow[\"id\"]\n",
    "        comments.append(pd.Series(icomment))\n",
    "comments = pd.DataFrame(comments)\n",
    "\n",
    "# Clean up\n",
    "for idata in [prs, comments, issues]:\n",
    "    idata.query(\"author not in @bot_names\", inplace=True)\n",
    "    idata.drop_duplicates(subset=[\"url\"], inplace=True)\n",
    "\n",
    "# What are the top N repos, we will only plot these in the full data plots\n",
    "top_commented_repos = comments.groupby(\"repo\").count().sort_values(\"createdAt\", ascending=False)['createdAt']\n",
    "use_repos = top_commented_repos.head(top_n_repos).index.tolist()"
   ]
  },
  {
   "cell_type": "markdown",
   "metadata": {
    "papermill": {
     "duration": 0.041189,
     "end_time": "2020-08-09T01:14:19.996726",
     "exception": false,
     "start_time": "2020-08-09T01:14:19.955537",
     "status": "completed"
    },
    "tags": [
     "remove_cell"
    ]
   },
   "source": [
    "## Save the data to disk"
   ]
  },
  {
   "cell_type": "code",
   "execution_count": 7,
   "metadata": {
    "execution": {
     "iopub.execute_input": "2020-08-09T01:14:20.074049Z",
     "iopub.status.busy": "2020-08-09T01:14:20.073264Z",
     "iopub.status.idle": "2020-08-09T01:14:20.483392Z",
     "shell.execute_reply": "2020-08-09T01:14:20.482711Z"
    },
    "papermill": {
     "duration": 0.450988,
     "end_time": "2020-08-09T01:14:20.483541",
     "exception": false,
     "start_time": "2020-08-09T01:14:20.032553",
     "status": "completed"
    },
    "tags": [
     "remove_cell"
    ]
   },
   "outputs": [],
   "source": [
    "from pathlib import Path\n",
    "for name, idata in [(\"comments\", comments), (\"prs\", prs), (\"issues\", issues)]:\n",
    "    path_data = Path(f\"./{name}.csv\")\n",
    "    if path_data.exists():\n",
    "        idata = pd.read_csv(path_data).append(idata)\n",
    "    idata = idata.drop_duplicates(subset=[\"url\"])\n",
    "    idata.to_csv(path_data, index=None)"
   ]
  },
  {
   "cell_type": "markdown",
   "metadata": {
    "papermill": {
     "duration": 0.037517,
     "end_time": "2020-08-09T01:14:20.560687",
     "exception": false,
     "start_time": "2020-08-09T01:14:20.523170",
     "status": "completed"
    },
    "tags": [],
    "toc-hr-collapsed": false
   },
   "source": [
    "## Merged Pull requests\n",
    "\n",
    "Here's an analysis of **merged pull requests** across each of the repositories in the Jupyter\n",
    "ecosystem."
   ]
  },
  {
   "cell_type": "code",
   "execution_count": 8,
   "metadata": {
    "execution": {
     "iopub.execute_input": "2020-08-09T01:14:20.641669Z",
     "iopub.status.busy": "2020-08-09T01:14:20.641064Z",
     "iopub.status.idle": "2020-08-09T01:14:20.644198Z",
     "shell.execute_reply": "2020-08-09T01:14:20.644687Z"
    },
    "papermill": {
     "duration": 0.047748,
     "end_time": "2020-08-09T01:14:20.644845",
     "exception": false,
     "start_time": "2020-08-09T01:14:20.597097",
     "status": "completed"
    },
    "tags": [
     "remove_cell"
    ]
   },
   "outputs": [],
   "source": [
    "merged = prs.query('state == \"MERGED\" and closedAt > @start_date and closedAt < @stop_date')"
   ]
  },
  {
   "cell_type": "code",
   "execution_count": 9,
   "metadata": {
    "execution": {
     "iopub.execute_input": "2020-08-09T01:14:20.741141Z",
     "iopub.status.busy": "2020-08-09T01:14:20.731740Z",
     "iopub.status.idle": "2020-08-09T01:14:20.757163Z",
     "shell.execute_reply": "2020-08-09T01:14:20.757777Z"
    },
    "papermill": {
     "duration": 0.074911,
     "end_time": "2020-08-09T01:14:20.757943",
     "exception": false,
     "start_time": "2020-08-09T01:14:20.683032",
     "status": "completed"
    },
    "tags": [
     "hide_input"
    ]
   },
   "outputs": [
    {
     "data": {
      "text/html": [
       "\n",
       "<div id=\"altair-viz-ea5ae66434714208a99a8a129a78995f\"></div>\n",
       "<script type=\"text/javascript\">\n",
       "  (function(spec, embedOpt){\n",
       "    let outputDiv = document.currentScript.previousElementSibling;\n",
       "    if (outputDiv.id !== \"altair-viz-ea5ae66434714208a99a8a129a78995f\") {\n",
       "      outputDiv = document.getElementById(\"altair-viz-ea5ae66434714208a99a8a129a78995f\");\n",
       "    }\n",
       "    const paths = {\n",
       "      \"vega\": \"https://cdn.jsdelivr.net/npm//vega@5?noext\",\n",
       "      \"vega-lib\": \"https://cdn.jsdelivr.net/npm//vega-lib?noext\",\n",
       "      \"vega-lite\": \"https://cdn.jsdelivr.net/npm//vega-lite@4.8.1?noext\",\n",
       "      \"vega-embed\": \"https://cdn.jsdelivr.net/npm//vega-embed@6?noext\",\n",
       "    };\n",
       "\n",
       "    function loadScript(lib) {\n",
       "      return new Promise(function(resolve, reject) {\n",
       "        var s = document.createElement('script');\n",
       "        s.src = paths[lib];\n",
       "        s.async = true;\n",
       "        s.onload = () => resolve(paths[lib]);\n",
       "        s.onerror = () => reject(`Error loading script: ${paths[lib]}`);\n",
       "        document.getElementsByTagName(\"head\")[0].appendChild(s);\n",
       "      });\n",
       "    }\n",
       "\n",
       "    function showError(err) {\n",
       "      outputDiv.innerHTML = `<div class=\"error\" style=\"color:red;\">${err}</div>`;\n",
       "      throw err;\n",
       "    }\n",
       "\n",
       "    function displayChart(vegaEmbed) {\n",
       "      vegaEmbed(outputDiv, spec, embedOpt)\n",
       "        .catch(err => showError(`Javascript Error: ${err.message}<br>This usually means there's a typo in your chart specification. See the javascript console for the full traceback.`));\n",
       "    }\n",
       "\n",
       "    if(typeof define === \"function\" && define.amd) {\n",
       "      requirejs.config({paths});\n",
       "      require([\"vega-embed\"], displayChart, err => showError(`Error loading script: ${err.message}`));\n",
       "    } else if (typeof vegaEmbed === \"function\") {\n",
       "      displayChart(vegaEmbed);\n",
       "    } else {\n",
       "      loadScript(\"vega\")\n",
       "        .then(() => loadScript(\"vega-lite\"))\n",
       "        .then(() => loadScript(\"vega-embed\"))\n",
       "        .catch(showError)\n",
       "        .then(() => displayChart(vegaEmbed));\n",
       "    }\n",
       "  })({\"config\": {\"axisLeft\": {\"labelFontSize\": 15}, \"axisBottom\": {\"labelFontSize\": 15}}, \"data\": {\"name\": \"data-663be42c3c70e4d5aa782739b554faec\"}, \"mark\": \"bar\", \"encoding\": {\"color\": {\"type\": \"nominal\", \"field\": \"org\"}, \"x\": {\"type\": \"nominal\", \"field\": \"repo\", \"sort\": [\"voila\", \"voila-gridstack\", \"voila-material\", \"voila-dashboards.github.io\"]}, \"y\": {\"type\": \"quantitative\", \"field\": \"author\"}}, \"title\": \"Merged PRs in the last 60 days\", \"$schema\": \"https://vega.github.io/schema/vega-lite/v4.8.1.json\", \"datasets\": {\"data-663be42c3c70e4d5aa782739b554faec\": [{\"org\": \"voila-dashboards\", \"repo\": \"voila\", \"author\": 13}, {\"org\": \"voila-dashboards\", \"repo\": \"voila-gridstack\", \"author\": 2}, {\"org\": \"voila-dashboards\", \"repo\": \"voila-material\", \"author\": 2}, {\"org\": \"voila-dashboards\", \"repo\": \"voila-dashboards.github.io\", \"author\": 1}]}}, {\"mode\": \"vega-lite\"});\n",
       "</script>"
      ],
      "text/plain": [
       "alt.Chart(...)"
      ]
     },
     "execution_count": 9,
     "metadata": {},
     "output_type": "execute_result"
    }
   ],
   "source": [
    "prs_by_repo = merged.groupby(['org', 'repo']).count()['author'].reset_index().sort_values(['org', 'author'], ascending=False)\n",
    "alt.Chart(data=prs_by_repo, title=f\"Merged PRs in the last {n_days} days\").mark_bar().encode(\n",
    "    x=alt.X('repo', sort=prs_by_repo['repo'].values.tolist()),\n",
    "    y='author',\n",
    "    color='org'\n",
    ")"
   ]
  },
  {
   "cell_type": "markdown",
   "metadata": {
    "papermill": {
     "duration": 0.038671,
     "end_time": "2020-08-09T01:14:20.836418",
     "exception": false,
     "start_time": "2020-08-09T01:14:20.797747",
     "status": "completed"
    },
    "tags": []
   },
   "source": [
    "### Authoring and merging stats by repository\n",
    "\n",
    "Let's see who has been doing most of the PR authoring and merging. The PR author is generally the\n",
    "person that implemented a change in the repository (code, documentation, etc). The PR merger is\n",
    "the person that \"pressed the green button\" and got the change into the main codebase."
   ]
  },
  {
   "cell_type": "code",
   "execution_count": 10,
   "metadata": {
    "execution": {
     "iopub.execute_input": "2020-08-09T01:14:20.925073Z",
     "iopub.status.busy": "2020-08-09T01:14:20.924457Z",
     "iopub.status.idle": "2020-08-09T01:14:20.928048Z",
     "shell.execute_reply": "2020-08-09T01:14:20.928664Z"
    },
    "papermill": {
     "duration": 0.054842,
     "end_time": "2020-08-09T01:14:20.928818",
     "exception": false,
     "start_time": "2020-08-09T01:14:20.873976",
     "status": "completed"
    },
    "tags": [
     "remove_cell"
    ]
   },
   "outputs": [],
   "source": [
    "# Prep our merging DF\n",
    "merged_by_repo = merged.groupby(['repo', 'author'], as_index=False).agg({'id': 'count', 'authorAssociation': 'first'}).rename(columns={'id': \"authored\", 'author': 'username'})\n",
    "closed_by_repo = merged.groupby(['repo', 'mergedBy']).count()['id'].reset_index().rename(columns={'id': \"closed\", \"mergedBy\": \"username\"})"
   ]
  },
  {
   "cell_type": "code",
   "execution_count": 11,
   "metadata": {
    "execution": {
     "iopub.execute_input": "2020-08-09T01:14:21.033168Z",
     "iopub.status.busy": "2020-08-09T01:14:21.032553Z",
     "iopub.status.idle": "2020-08-09T01:14:21.035752Z",
     "shell.execute_reply": "2020-08-09T01:14:21.036404Z"
    },
    "papermill": {
     "duration": 0.069164,
     "end_time": "2020-08-09T01:14:21.036556",
     "exception": false,
     "start_time": "2020-08-09T01:14:20.967392",
     "status": "completed"
    },
    "tags": [
     "hide_input"
    ]
   },
   "outputs": [
    {
     "data": {
      "text/html": [
       "\n",
       "<div id=\"altair-viz-81f175962b674b1bb9e15f21355f7b8a\"></div>\n",
       "<script type=\"text/javascript\">\n",
       "  (function(spec, embedOpt){\n",
       "    let outputDiv = document.currentScript.previousElementSibling;\n",
       "    if (outputDiv.id !== \"altair-viz-81f175962b674b1bb9e15f21355f7b8a\") {\n",
       "      outputDiv = document.getElementById(\"altair-viz-81f175962b674b1bb9e15f21355f7b8a\");\n",
       "    }\n",
       "    const paths = {\n",
       "      \"vega\": \"https://cdn.jsdelivr.net/npm//vega@5?noext\",\n",
       "      \"vega-lib\": \"https://cdn.jsdelivr.net/npm//vega-lib?noext\",\n",
       "      \"vega-lite\": \"https://cdn.jsdelivr.net/npm//vega-lite@4.8.1?noext\",\n",
       "      \"vega-embed\": \"https://cdn.jsdelivr.net/npm//vega-embed@6?noext\",\n",
       "    };\n",
       "\n",
       "    function loadScript(lib) {\n",
       "      return new Promise(function(resolve, reject) {\n",
       "        var s = document.createElement('script');\n",
       "        s.src = paths[lib];\n",
       "        s.async = true;\n",
       "        s.onload = () => resolve(paths[lib]);\n",
       "        s.onerror = () => reject(`Error loading script: ${paths[lib]}`);\n",
       "        document.getElementsByTagName(\"head\")[0].appendChild(s);\n",
       "      });\n",
       "    }\n",
       "\n",
       "    function showError(err) {\n",
       "      outputDiv.innerHTML = `<div class=\"error\" style=\"color:red;\">${err}</div>`;\n",
       "      throw err;\n",
       "    }\n",
       "\n",
       "    function displayChart(vegaEmbed) {\n",
       "      vegaEmbed(outputDiv, spec, embedOpt)\n",
       "        .catch(err => showError(`Javascript Error: ${err.message}<br>This usually means there's a typo in your chart specification. See the javascript console for the full traceback.`));\n",
       "    }\n",
       "\n",
       "    if(typeof define === \"function\" && define.amd) {\n",
       "      requirejs.config({paths});\n",
       "      require([\"vega-embed\"], displayChart, err => showError(`Error loading script: ${err.message}`));\n",
       "    } else if (typeof vegaEmbed === \"function\") {\n",
       "      displayChart(vegaEmbed);\n",
       "    } else {\n",
       "      loadScript(\"vega\")\n",
       "        .then(() => loadScript(\"vega-lite\"))\n",
       "        .then(() => loadScript(\"vega-embed\"))\n",
       "        .catch(showError)\n",
       "        .then(() => displayChart(vegaEmbed));\n",
       "    }\n",
       "  })({\"config\": {\"axisLeft\": {\"labelFontSize\": 15}, \"axisBottom\": {\"labelFontSize\": 15}}, \"data\": {\"name\": \"data-b281b22730e328ef9f96f111d2759890\"}, \"mark\": \"bar\", \"encoding\": {\"color\": {\"type\": \"nominal\", \"field\": \"authorAssociation\", \"scale\": {\"domain\": [\"MEMBER\", \"CONTRIBUTOR\", \"COLLABORATOR\", \"NONE\"], \"range\": [\"rgb(211.82745098039214, 211.82745098039214, 211.82745098039214)\", \"rgb(166.98562091503268, 229.89803921568628, 166.98562091503268)\", \"rgb(96.37647058823529, 192.75294117647059, 96.37647058823529)\", \"rgb(0.0, 100.3921568627451, 0.0)\"]}}, \"x\": {\"type\": \"nominal\", \"field\": \"username\"}, \"y\": {\"type\": \"quantitative\", \"field\": \"authored\"}}, \"title\": \"PR authors for voila-dashboards in the last 60 days\", \"$schema\": \"https://vega.github.io/schema/vega-lite/v4.8.1.json\", \"datasets\": {\"data-b281b22730e328ef9f96f111d2759890\": [{\"username\": \"SylvainCorlay\", \"authored\": 3, \"authorAssociation\": \"MEMBER\"}, {\"username\": \"dependabot\", \"authored\": 3, \"authorAssociation\": \"CONTRIBUTOR\"}, {\"username\": \"martinRenou\", \"authored\": 3, \"authorAssociation\": \"MEMBER\"}, {\"username\": \"jtpio\", \"authored\": 2, \"authorAssociation\": \"MEMBER\"}, {\"username\": \"maartenbreddels\", \"authored\": 2, \"authorAssociation\": \"MEMBER\"}, {\"username\": \"madhur-tandon\", \"authored\": 2, \"authorAssociation\": \"CONTRIBUTOR\"}, {\"username\": \"danlester\", \"authored\": 1, \"authorAssociation\": \"CONTRIBUTOR\"}, {\"username\": \"davidbrochart\", \"authored\": 1, \"authorAssociation\": \"MEMBER\"}, {\"username\": \"mourarthur\", \"authored\": 1, \"authorAssociation\": \"CONTRIBUTOR\"}]}}, {\"mode\": \"vega-lite\"});\n",
       "</script>"
      ],
      "text/plain": [
       "alt.Chart(...)"
      ]
     },
     "execution_count": 11,
     "metadata": {},
     "output_type": "execute_result"
    }
   ],
   "source": [
    "charts = []\n",
    "title = f\"PR authors for {github_org} in the last {n_days} days\"\n",
    "this_data = merged_by_repo.replace(np.nan, 0).groupby('username', as_index=False).agg({'authored': 'sum', 'authorAssociation': 'first'})\n",
    "this_data = this_data.sort_values('authored', ascending=False)\n",
    "ch = alt.Chart(data=this_data, title=title).mark_bar().encode(\n",
    "    x='username',\n",
    "    y='authored',\n",
    "    color=alt.Color('authorAssociation', scale=alt.Scale(domain=author_types, range=author_colors))\n",
    ")\n",
    "ch"
   ]
  },
  {
   "cell_type": "code",
   "execution_count": 12,
   "metadata": {
    "execution": {
     "iopub.execute_input": "2020-08-09T01:14:21.133031Z",
     "iopub.status.busy": "2020-08-09T01:14:21.123040Z",
     "iopub.status.idle": "2020-08-09T01:14:21.135876Z",
     "shell.execute_reply": "2020-08-09T01:14:21.136484Z"
    },
    "papermill": {
     "duration": 0.060992,
     "end_time": "2020-08-09T01:14:21.136637",
     "exception": false,
     "start_time": "2020-08-09T01:14:21.075645",
     "status": "completed"
    },
    "tags": [
     "hide_input"
    ]
   },
   "outputs": [
    {
     "data": {
      "text/html": [
       "\n",
       "<div id=\"altair-viz-1e96755690bd463483763aa72081f1c3\"></div>\n",
       "<script type=\"text/javascript\">\n",
       "  (function(spec, embedOpt){\n",
       "    let outputDiv = document.currentScript.previousElementSibling;\n",
       "    if (outputDiv.id !== \"altair-viz-1e96755690bd463483763aa72081f1c3\") {\n",
       "      outputDiv = document.getElementById(\"altair-viz-1e96755690bd463483763aa72081f1c3\");\n",
       "    }\n",
       "    const paths = {\n",
       "      \"vega\": \"https://cdn.jsdelivr.net/npm//vega@5?noext\",\n",
       "      \"vega-lib\": \"https://cdn.jsdelivr.net/npm//vega-lib?noext\",\n",
       "      \"vega-lite\": \"https://cdn.jsdelivr.net/npm//vega-lite@4.8.1?noext\",\n",
       "      \"vega-embed\": \"https://cdn.jsdelivr.net/npm//vega-embed@6?noext\",\n",
       "    };\n",
       "\n",
       "    function loadScript(lib) {\n",
       "      return new Promise(function(resolve, reject) {\n",
       "        var s = document.createElement('script');\n",
       "        s.src = paths[lib];\n",
       "        s.async = true;\n",
       "        s.onload = () => resolve(paths[lib]);\n",
       "        s.onerror = () => reject(`Error loading script: ${paths[lib]}`);\n",
       "        document.getElementsByTagName(\"head\")[0].appendChild(s);\n",
       "      });\n",
       "    }\n",
       "\n",
       "    function showError(err) {\n",
       "      outputDiv.innerHTML = `<div class=\"error\" style=\"color:red;\">${err}</div>`;\n",
       "      throw err;\n",
       "    }\n",
       "\n",
       "    function displayChart(vegaEmbed) {\n",
       "      vegaEmbed(outputDiv, spec, embedOpt)\n",
       "        .catch(err => showError(`Javascript Error: ${err.message}<br>This usually means there's a typo in your chart specification. See the javascript console for the full traceback.`));\n",
       "    }\n",
       "\n",
       "    if(typeof define === \"function\" && define.amd) {\n",
       "      requirejs.config({paths});\n",
       "      require([\"vega-embed\"], displayChart, err => showError(`Error loading script: ${err.message}`));\n",
       "    } else if (typeof vegaEmbed === \"function\") {\n",
       "      displayChart(vegaEmbed);\n",
       "    } else {\n",
       "      loadScript(\"vega\")\n",
       "        .then(() => loadScript(\"vega-lite\"))\n",
       "        .then(() => loadScript(\"vega-embed\"))\n",
       "        .catch(showError)\n",
       "        .then(() => displayChart(vegaEmbed));\n",
       "    }\n",
       "  })({\"config\": {\"axisLeft\": {\"labelFontSize\": 15}, \"axisBottom\": {\"labelFontSize\": 15}}, \"data\": {\"name\": \"data-fa3236a37e11644dcc939dfe39865482\"}, \"mark\": \"bar\", \"encoding\": {\"x\": {\"type\": \"nominal\", \"field\": \"username\"}, \"y\": {\"type\": \"quantitative\", \"field\": \"closed\"}}, \"title\": \"Merges for voila-dashboards in the last 60 days\", \"$schema\": \"https://vega.github.io/schema/vega-lite/v4.8.1.json\", \"datasets\": {\"data-fa3236a37e11644dcc939dfe39865482\": [{\"repo\": \"voila\", \"username\": \"SylvainCorlay\", \"closed\": 5}, {\"repo\": \"voila\", \"username\": \"jtpio\", \"closed\": 3}, {\"repo\": \"voila\", \"username\": \"maartenbreddels\", \"closed\": 2}, {\"repo\": \"voila\", \"username\": \"martinRenou\", \"closed\": 3}, {\"repo\": \"voila-dashboards.github.io\", \"username\": \"jtpio\", \"closed\": 1}, {\"repo\": \"voila-gridstack\", \"username\": \"SylvainCorlay\", \"closed\": 2}, {\"repo\": \"voila-material\", \"username\": \"martinRenou\", \"closed\": 2}]}}, {\"mode\": \"vega-lite\"});\n",
       "</script>"
      ],
      "text/plain": [
       "alt.Chart(...)"
      ]
     },
     "execution_count": 12,
     "metadata": {},
     "output_type": "execute_result"
    }
   ],
   "source": [
    "charts = []\n",
    "title = f\"Merges for {github_org} in the last {n_days} days\"\n",
    "ch = alt.Chart(data=closed_by_repo.replace(np.nan, 0), title=title).mark_bar().encode(\n",
    "    x='username',\n",
    "    y='closed',\n",
    ")\n",
    "ch"
   ]
  },
  {
   "cell_type": "markdown",
   "metadata": {
    "papermill": {
     "duration": 0.038658,
     "end_time": "2020-08-09T01:14:21.215636",
     "exception": false,
     "start_time": "2020-08-09T01:14:21.176978",
     "status": "completed"
    },
    "tags": []
   },
   "source": [
    "## Issues\n",
    "\n",
    "Issues are **conversations** that happen on our GitHub repositories. Here's an\n",
    "analysis of issues across the Jupyter organizations."
   ]
  },
  {
   "cell_type": "code",
   "execution_count": 13,
   "metadata": {
    "execution": {
     "iopub.execute_input": "2020-08-09T01:14:21.305157Z",
     "iopub.status.busy": "2020-08-09T01:14:21.304109Z",
     "iopub.status.idle": "2020-08-09T01:14:21.306606Z",
     "shell.execute_reply": "2020-08-09T01:14:21.307627Z"
    },
    "papermill": {
     "duration": 0.053566,
     "end_time": "2020-08-09T01:14:21.307790",
     "exception": false,
     "start_time": "2020-08-09T01:14:21.254224",
     "status": "completed"
    },
    "tags": [
     "remove_cell"
    ]
   },
   "outputs": [],
   "source": [
    "created = issues.query('state == \"OPEN\" and createdAt > @start_date and createdAt < @stop_date')\n",
    "closed = issues.query('state == \"CLOSED\" and closedAt > @start_date and closedAt < @stop_date')"
   ]
  },
  {
   "cell_type": "code",
   "execution_count": 14,
   "metadata": {
    "execution": {
     "iopub.execute_input": "2020-08-09T01:14:21.396258Z",
     "iopub.status.busy": "2020-08-09T01:14:21.395169Z",
     "iopub.status.idle": "2020-08-09T01:14:21.416642Z",
     "shell.execute_reply": "2020-08-09T01:14:21.417241Z"
    },
    "papermill": {
     "duration": 0.069646,
     "end_time": "2020-08-09T01:14:21.417394",
     "exception": false,
     "start_time": "2020-08-09T01:14:21.347748",
     "status": "completed"
    },
    "tags": [
     "hide_input"
    ]
   },
   "outputs": [
    {
     "data": {
      "text/html": [
       "\n",
       "<div id=\"altair-viz-0a96e332713f4bce844a0e5a477484ca\"></div>\n",
       "<script type=\"text/javascript\">\n",
       "  (function(spec, embedOpt){\n",
       "    let outputDiv = document.currentScript.previousElementSibling;\n",
       "    if (outputDiv.id !== \"altair-viz-0a96e332713f4bce844a0e5a477484ca\") {\n",
       "      outputDiv = document.getElementById(\"altair-viz-0a96e332713f4bce844a0e5a477484ca\");\n",
       "    }\n",
       "    const paths = {\n",
       "      \"vega\": \"https://cdn.jsdelivr.net/npm//vega@5?noext\",\n",
       "      \"vega-lib\": \"https://cdn.jsdelivr.net/npm//vega-lib?noext\",\n",
       "      \"vega-lite\": \"https://cdn.jsdelivr.net/npm//vega-lite@4.8.1?noext\",\n",
       "      \"vega-embed\": \"https://cdn.jsdelivr.net/npm//vega-embed@6?noext\",\n",
       "    };\n",
       "\n",
       "    function loadScript(lib) {\n",
       "      return new Promise(function(resolve, reject) {\n",
       "        var s = document.createElement('script');\n",
       "        s.src = paths[lib];\n",
       "        s.async = true;\n",
       "        s.onload = () => resolve(paths[lib]);\n",
       "        s.onerror = () => reject(`Error loading script: ${paths[lib]}`);\n",
       "        document.getElementsByTagName(\"head\")[0].appendChild(s);\n",
       "      });\n",
       "    }\n",
       "\n",
       "    function showError(err) {\n",
       "      outputDiv.innerHTML = `<div class=\"error\" style=\"color:red;\">${err}</div>`;\n",
       "      throw err;\n",
       "    }\n",
       "\n",
       "    function displayChart(vegaEmbed) {\n",
       "      vegaEmbed(outputDiv, spec, embedOpt)\n",
       "        .catch(err => showError(`Javascript Error: ${err.message}<br>This usually means there's a typo in your chart specification. See the javascript console for the full traceback.`));\n",
       "    }\n",
       "\n",
       "    if(typeof define === \"function\" && define.amd) {\n",
       "      requirejs.config({paths});\n",
       "      require([\"vega-embed\"], displayChart, err => showError(`Error loading script: ${err.message}`));\n",
       "    } else if (typeof vegaEmbed === \"function\") {\n",
       "      displayChart(vegaEmbed);\n",
       "    } else {\n",
       "      loadScript(\"vega\")\n",
       "        .then(() => loadScript(\"vega-lite\"))\n",
       "        .then(() => loadScript(\"vega-embed\"))\n",
       "        .catch(showError)\n",
       "        .then(() => displayChart(vegaEmbed));\n",
       "    }\n",
       "  })({\"config\": {\"axisLeft\": {\"labelFontSize\": 15}, \"axisBottom\": {\"labelFontSize\": 15}}, \"data\": {\"name\": \"data-b0aca18181367b4099edf7e308a199d0\"}, \"mark\": \"bar\", \"encoding\": {\"x\": {\"type\": \"nominal\", \"field\": \"repo\", \"sort\": [\"voila\", \"tljh-voila-gallery\", \"voila-material\"]}, \"y\": {\"type\": \"quantitative\", \"field\": \"number\"}}, \"title\": \"Issues created in the last 60 days\", \"$schema\": \"https://vega.github.io/schema/vega-lite/v4.8.1.json\", \"datasets\": {\"data-b0aca18181367b4099edf7e308a199d0\": [{\"org\": \"voila-dashboards\", \"repo\": \"tljh-voila-gallery\", \"number\": 4, \"org/repo\": \"voila-dashboards/tljh-voila-gallery\"}, {\"org\": \"voila-dashboards\", \"repo\": \"voila\", \"number\": 19, \"org/repo\": \"voila-dashboards/voila\"}, {\"org\": \"voila-dashboards\", \"repo\": \"voila-material\", \"number\": 1, \"org/repo\": \"voila-dashboards/voila-material\"}]}}, {\"mode\": \"vega-lite\"});\n",
       "</script>"
      ],
      "text/plain": [
       "alt.Chart(...)"
      ]
     },
     "execution_count": 14,
     "metadata": {},
     "output_type": "execute_result"
    }
   ],
   "source": [
    "created_counts = created.groupby(['org', 'repo']).count()['number'].reset_index()\n",
    "created_counts['org/repo'] = created_counts.apply(lambda a: a['org'] + '/' + a['repo'], axis=1)\n",
    "sorted_vals = created_counts.sort_values(['org', 'number'], ascending=False)['repo'].values\n",
    "alt.Chart(data=created_counts, title=f\"Issues created in the last {n_days} days\").mark_bar().encode(\n",
    "    x=alt.X('repo', sort=alt.Sort(sorted_vals.tolist())),\n",
    "    y='number',\n",
    ")"
   ]
  },
  {
   "cell_type": "code",
   "execution_count": 15,
   "metadata": {
    "execution": {
     "iopub.execute_input": "2020-08-09T01:14:21.523865Z",
     "iopub.status.busy": "2020-08-09T01:14:21.523261Z",
     "iopub.status.idle": "2020-08-09T01:14:21.526061Z",
     "shell.execute_reply": "2020-08-09T01:14:21.526680Z"
    },
    "papermill": {
     "duration": 0.068772,
     "end_time": "2020-08-09T01:14:21.526831",
     "exception": false,
     "start_time": "2020-08-09T01:14:21.458059",
     "status": "completed"
    },
    "tags": [
     "hide_input"
    ]
   },
   "outputs": [
    {
     "data": {
      "text/html": [
       "\n",
       "<div id=\"altair-viz-f15a3297c3ac41ff98e6a5819f90a851\"></div>\n",
       "<script type=\"text/javascript\">\n",
       "  (function(spec, embedOpt){\n",
       "    let outputDiv = document.currentScript.previousElementSibling;\n",
       "    if (outputDiv.id !== \"altair-viz-f15a3297c3ac41ff98e6a5819f90a851\") {\n",
       "      outputDiv = document.getElementById(\"altair-viz-f15a3297c3ac41ff98e6a5819f90a851\");\n",
       "    }\n",
       "    const paths = {\n",
       "      \"vega\": \"https://cdn.jsdelivr.net/npm//vega@5?noext\",\n",
       "      \"vega-lib\": \"https://cdn.jsdelivr.net/npm//vega-lib?noext\",\n",
       "      \"vega-lite\": \"https://cdn.jsdelivr.net/npm//vega-lite@4.8.1?noext\",\n",
       "      \"vega-embed\": \"https://cdn.jsdelivr.net/npm//vega-embed@6?noext\",\n",
       "    };\n",
       "\n",
       "    function loadScript(lib) {\n",
       "      return new Promise(function(resolve, reject) {\n",
       "        var s = document.createElement('script');\n",
       "        s.src = paths[lib];\n",
       "        s.async = true;\n",
       "        s.onload = () => resolve(paths[lib]);\n",
       "        s.onerror = () => reject(`Error loading script: ${paths[lib]}`);\n",
       "        document.getElementsByTagName(\"head\")[0].appendChild(s);\n",
       "      });\n",
       "    }\n",
       "\n",
       "    function showError(err) {\n",
       "      outputDiv.innerHTML = `<div class=\"error\" style=\"color:red;\">${err}</div>`;\n",
       "      throw err;\n",
       "    }\n",
       "\n",
       "    function displayChart(vegaEmbed) {\n",
       "      vegaEmbed(outputDiv, spec, embedOpt)\n",
       "        .catch(err => showError(`Javascript Error: ${err.message}<br>This usually means there's a typo in your chart specification. See the javascript console for the full traceback.`));\n",
       "    }\n",
       "\n",
       "    if(typeof define === \"function\" && define.amd) {\n",
       "      requirejs.config({paths});\n",
       "      require([\"vega-embed\"], displayChart, err => showError(`Error loading script: ${err.message}`));\n",
       "    } else if (typeof vegaEmbed === \"function\") {\n",
       "      displayChart(vegaEmbed);\n",
       "    } else {\n",
       "      loadScript(\"vega\")\n",
       "        .then(() => loadScript(\"vega-lite\"))\n",
       "        .then(() => loadScript(\"vega-embed\"))\n",
       "        .catch(showError)\n",
       "        .then(() => displayChart(vegaEmbed));\n",
       "    }\n",
       "  })({\"config\": {\"axisLeft\": {\"labelFontSize\": 15}, \"axisBottom\": {\"labelFontSize\": 15}}, \"data\": {\"name\": \"data-0c0d1d73dacebf56d3d16902df08e808\"}, \"mark\": \"bar\", \"encoding\": {\"x\": {\"type\": \"nominal\", \"field\": \"repo\", \"sort\": [\"voila\", \"voila-dashboards.github.io\"]}, \"y\": {\"type\": \"quantitative\", \"field\": \"number\"}}, \"title\": \"Issues closed in the last 60 days\", \"$schema\": \"https://vega.github.io/schema/vega-lite/v4.8.1.json\", \"datasets\": {\"data-0c0d1d73dacebf56d3d16902df08e808\": [{\"org\": \"voila-dashboards\", \"repo\": \"voila\", \"number\": 10, \"org/repo\": \"voila-dashboards/voila\"}, {\"org\": \"voila-dashboards\", \"repo\": \"voila-dashboards.github.io\", \"number\": 1, \"org/repo\": \"voila-dashboards/voila-dashboards.github.io\"}]}}, {\"mode\": \"vega-lite\"});\n",
       "</script>"
      ],
      "text/plain": [
       "alt.Chart(...)"
      ]
     },
     "execution_count": 15,
     "metadata": {},
     "output_type": "execute_result"
    }
   ],
   "source": [
    "closed_counts = closed.groupby(['org', 'repo']).count()['number'].reset_index()\n",
    "closed_counts['org/repo'] = closed_counts.apply(lambda a: a['org'] + '/' + a['repo'], axis=1)\n",
    "sorted_vals = closed_counts.sort_values(['number'], ascending=False)['repo'].values\n",
    "alt.Chart(data=closed_counts, title=f\"Issues closed in the last {n_days} days\").mark_bar().encode(\n",
    "    x=alt.X('repo', sort=alt.Sort(sorted_vals.tolist())),\n",
    "    y='number',\n",
    ")"
   ]
  },
  {
   "cell_type": "code",
   "execution_count": 16,
   "metadata": {
    "execution": {
     "iopub.execute_input": "2020-08-09T01:14:21.623811Z",
     "iopub.status.busy": "2020-08-09T01:14:21.623209Z",
     "iopub.status.idle": "2020-08-09T01:14:21.624711Z",
     "shell.execute_reply": "2020-08-09T01:14:21.625304Z"
    },
    "papermill": {
     "duration": 0.058183,
     "end_time": "2020-08-09T01:14:21.625451",
     "exception": false,
     "start_time": "2020-08-09T01:14:21.567268",
     "status": "completed"
    },
    "tags": [
     "remove_cell"
    ]
   },
   "outputs": [],
   "source": [
    "created_closed = pd.merge(created_counts.rename(columns={'number': 'created'}).drop(columns='org/repo'),\n",
    "                          closed_counts.rename(columns={'number': 'closed'}).drop(columns='org/repo'),\n",
    "                          on=['org', 'repo'], how='outer')\n",
    "\n",
    "created_closed = pd.melt(created_closed, id_vars=['org', 'repo'], var_name=\"kind\", value_name=\"count\").replace(np.nan, 0)"
   ]
  },
  {
   "cell_type": "code",
   "execution_count": 17,
   "metadata": {
    "execution": {
     "iopub.execute_input": "2020-08-09T01:14:21.734851Z",
     "iopub.status.busy": "2020-08-09T01:14:21.734213Z",
     "iopub.status.idle": "2020-08-09T01:14:21.737508Z",
     "shell.execute_reply": "2020-08-09T01:14:21.736888Z"
    },
    "papermill": {
     "duration": 0.072354,
     "end_time": "2020-08-09T01:14:21.737641",
     "exception": false,
     "start_time": "2020-08-09T01:14:21.665287",
     "status": "completed"
    },
    "tags": [
     "hide_input"
    ]
   },
   "outputs": [
    {
     "data": {
      "text/html": [
       "\n",
       "<div id=\"altair-viz-41b4e3d3e68241e3b5a4dc3e0d2abbc7\"></div>\n",
       "<script type=\"text/javascript\">\n",
       "  (function(spec, embedOpt){\n",
       "    let outputDiv = document.currentScript.previousElementSibling;\n",
       "    if (outputDiv.id !== \"altair-viz-41b4e3d3e68241e3b5a4dc3e0d2abbc7\") {\n",
       "      outputDiv = document.getElementById(\"altair-viz-41b4e3d3e68241e3b5a4dc3e0d2abbc7\");\n",
       "    }\n",
       "    const paths = {\n",
       "      \"vega\": \"https://cdn.jsdelivr.net/npm//vega@5?noext\",\n",
       "      \"vega-lib\": \"https://cdn.jsdelivr.net/npm//vega-lib?noext\",\n",
       "      \"vega-lite\": \"https://cdn.jsdelivr.net/npm//vega-lite@4.8.1?noext\",\n",
       "      \"vega-embed\": \"https://cdn.jsdelivr.net/npm//vega-embed@6?noext\",\n",
       "    };\n",
       "\n",
       "    function loadScript(lib) {\n",
       "      return new Promise(function(resolve, reject) {\n",
       "        var s = document.createElement('script');\n",
       "        s.src = paths[lib];\n",
       "        s.async = true;\n",
       "        s.onload = () => resolve(paths[lib]);\n",
       "        s.onerror = () => reject(`Error loading script: ${paths[lib]}`);\n",
       "        document.getElementsByTagName(\"head\")[0].appendChild(s);\n",
       "      });\n",
       "    }\n",
       "\n",
       "    function showError(err) {\n",
       "      outputDiv.innerHTML = `<div class=\"error\" style=\"color:red;\">${err}</div>`;\n",
       "      throw err;\n",
       "    }\n",
       "\n",
       "    function displayChart(vegaEmbed) {\n",
       "      vegaEmbed(outputDiv, spec, embedOpt)\n",
       "        .catch(err => showError(`Javascript Error: ${err.message}<br>This usually means there's a typo in your chart specification. See the javascript console for the full traceback.`));\n",
       "    }\n",
       "\n",
       "    if(typeof define === \"function\" && define.amd) {\n",
       "      requirejs.config({paths});\n",
       "      require([\"vega-embed\"], displayChart, err => showError(`Error loading script: ${err.message}`));\n",
       "    } else if (typeof vegaEmbed === \"function\") {\n",
       "      displayChart(vegaEmbed);\n",
       "    } else {\n",
       "      loadScript(\"vega\")\n",
       "        .then(() => loadScript(\"vega-lite\"))\n",
       "        .then(() => loadScript(\"vega-embed\"))\n",
       "        .catch(showError)\n",
       "        .then(() => displayChart(vegaEmbed));\n",
       "    }\n",
       "  })({\"config\": {\"axisLeft\": {\"labelFontSize\": 15}, \"axisBottom\": {\"labelFontSize\": 15}}, \"data\": {\"name\": \"data-fd511a3fb88eb9879992f68a732b8ab7\"}, \"mark\": \"bar\", \"encoding\": {\"color\": {\"type\": \"nominal\", \"field\": \"kind\"}, \"column\": {\"type\": \"nominal\", \"field\": \"repo\", \"header\": {\"labelFontSize\": 12, \"title\": \"Issue activity, last 60 days for voila-dashboards\", \"titleFontSize\": 15}}, \"x\": {\"type\": \"nominal\", \"axis\": {\"labelFontSize\": 15, \"title\": \"\"}, \"field\": \"kind\"}, \"y\": {\"type\": \"quantitative\", \"axis\": {\"labelFontSize\": 12, \"titleFontSize\": 15}, \"field\": \"count\"}}, \"width\": 120, \"$schema\": \"https://vega.github.io/schema/vega-lite/v4.8.1.json\", \"datasets\": {\"data-fd511a3fb88eb9879992f68a732b8ab7\": [{\"org\": \"voila-dashboards\", \"repo\": \"tljh-voila-gallery\", \"kind\": \"created\", \"count\": 4.0}, {\"org\": \"voila-dashboards\", \"repo\": \"voila\", \"kind\": \"created\", \"count\": 19.0}, {\"org\": \"voila-dashboards\", \"repo\": \"voila-material\", \"kind\": \"created\", \"count\": 1.0}, {\"org\": \"voila-dashboards\", \"repo\": \"voila-dashboards.github.io\", \"kind\": \"created\", \"count\": 0.0}, {\"org\": \"voila-dashboards\", \"repo\": \"tljh-voila-gallery\", \"kind\": \"closed\", \"count\": 0.0}, {\"org\": \"voila-dashboards\", \"repo\": \"voila\", \"kind\": \"closed\", \"count\": 10.0}, {\"org\": \"voila-dashboards\", \"repo\": \"voila-material\", \"kind\": \"closed\", \"count\": 0.0}, {\"org\": \"voila-dashboards\", \"repo\": \"voila-dashboards.github.io\", \"kind\": \"closed\", \"count\": 1.0}]}}, {\"mode\": \"vega-lite\"});\n",
       "</script>"
      ],
      "text/plain": [
       "alt.Chart(...)"
      ]
     },
     "execution_count": 17,
     "metadata": {},
     "output_type": "execute_result"
    }
   ],
   "source": [
    "charts = []\n",
    "# Pick the top 10 repositories\n",
    "top_repos = created_closed.groupby(['repo']).sum().sort_values(by='count', ascending=False).head(10).index\n",
    "ch = alt.Chart(created_closed.query('repo in @top_repos'), width=120).mark_bar().encode(\n",
    "    x=alt.X(\"kind\", axis=alt.Axis(labelFontSize=15, title=\"\")), \n",
    "    y=alt.Y('count', axis=alt.Axis(titleFontSize=15, labelFontSize=12)),\n",
    "    color='kind',\n",
    "    column=alt.Column(\"repo\", header=alt.Header(title=f\"Issue activity, last {n_days} days for {github_org}\", titleFontSize=15, labelFontSize=12))\n",
    ")\n",
    "ch"
   ]
  },
  {
   "cell_type": "code",
   "execution_count": 18,
   "metadata": {
    "execution": {
     "iopub.execute_input": "2020-08-09T01:14:21.833911Z",
     "iopub.status.busy": "2020-08-09T01:14:21.833246Z",
     "iopub.status.idle": "2020-08-09T01:14:21.835029Z",
     "shell.execute_reply": "2020-08-09T01:14:21.835688Z"
    },
    "papermill": {
     "duration": 0.056828,
     "end_time": "2020-08-09T01:14:21.835839",
     "exception": false,
     "start_time": "2020-08-09T01:14:21.779011",
     "status": "completed"
    },
    "tags": [
     "remove_cell"
    ]
   },
   "outputs": [],
   "source": [
    "# Set to datetime\n",
    "for kind in ['createdAt', 'closedAt']:\n",
    "    closed.loc[:, kind] = pd.to_datetime(closed[kind])\n",
    "    \n",
    "closed.loc[:, 'time_open'] = closed['closedAt'] - closed['createdAt']\n",
    "closed.loc[:, 'time_open'] = closed['time_open'].dt.total_seconds()"
   ]
  },
  {
   "cell_type": "code",
   "execution_count": 19,
   "metadata": {
    "execution": {
     "iopub.execute_input": "2020-08-09T01:14:21.942310Z",
     "iopub.status.busy": "2020-08-09T01:14:21.941592Z",
     "iopub.status.idle": "2020-08-09T01:14:21.944422Z",
     "shell.execute_reply": "2020-08-09T01:14:21.944921Z"
    },
    "papermill": {
     "duration": 0.068307,
     "end_time": "2020-08-09T01:14:21.945084",
     "exception": false,
     "start_time": "2020-08-09T01:14:21.876777",
     "status": "completed"
    },
    "tags": [
     "hide_input"
    ]
   },
   "outputs": [
    {
     "data": {
      "text/html": [
       "\n",
       "<div id=\"altair-viz-cb33e3cf17d34d35a07c4622c55a8455\"></div>\n",
       "<script type=\"text/javascript\">\n",
       "  (function(spec, embedOpt){\n",
       "    let outputDiv = document.currentScript.previousElementSibling;\n",
       "    if (outputDiv.id !== \"altair-viz-cb33e3cf17d34d35a07c4622c55a8455\") {\n",
       "      outputDiv = document.getElementById(\"altair-viz-cb33e3cf17d34d35a07c4622c55a8455\");\n",
       "    }\n",
       "    const paths = {\n",
       "      \"vega\": \"https://cdn.jsdelivr.net/npm//vega@5?noext\",\n",
       "      \"vega-lib\": \"https://cdn.jsdelivr.net/npm//vega-lib?noext\",\n",
       "      \"vega-lite\": \"https://cdn.jsdelivr.net/npm//vega-lite@4.8.1?noext\",\n",
       "      \"vega-embed\": \"https://cdn.jsdelivr.net/npm//vega-embed@6?noext\",\n",
       "    };\n",
       "\n",
       "    function loadScript(lib) {\n",
       "      return new Promise(function(resolve, reject) {\n",
       "        var s = document.createElement('script');\n",
       "        s.src = paths[lib];\n",
       "        s.async = true;\n",
       "        s.onload = () => resolve(paths[lib]);\n",
       "        s.onerror = () => reject(`Error loading script: ${paths[lib]}`);\n",
       "        document.getElementsByTagName(\"head\")[0].appendChild(s);\n",
       "      });\n",
       "    }\n",
       "\n",
       "    function showError(err) {\n",
       "      outputDiv.innerHTML = `<div class=\"error\" style=\"color:red;\">${err}</div>`;\n",
       "      throw err;\n",
       "    }\n",
       "\n",
       "    function displayChart(vegaEmbed) {\n",
       "      vegaEmbed(outputDiv, spec, embedOpt)\n",
       "        .catch(err => showError(`Javascript Error: ${err.message}<br>This usually means there's a typo in your chart specification. See the javascript console for the full traceback.`));\n",
       "    }\n",
       "\n",
       "    if(typeof define === \"function\" && define.amd) {\n",
       "      requirejs.config({paths});\n",
       "      require([\"vega-embed\"], displayChart, err => showError(`Error loading script: ${err.message}`));\n",
       "    } else if (typeof vegaEmbed === \"function\") {\n",
       "      displayChart(vegaEmbed);\n",
       "    } else {\n",
       "      loadScript(\"vega\")\n",
       "        .then(() => loadScript(\"vega-lite\"))\n",
       "        .then(() => loadScript(\"vega-embed\"))\n",
       "        .catch(showError)\n",
       "        .then(() => displayChart(vegaEmbed));\n",
       "    }\n",
       "  })({\"config\": {\"axisLeft\": {\"labelFontSize\": 15}, \"axisBottom\": {\"labelFontSize\": 15}}, \"data\": {\"name\": \"data-ce0ecd75ca93d4aaed29eb302b79ae92\"}, \"mark\": \"bar\", \"encoding\": {\"x\": {\"type\": \"nominal\", \"field\": \"repo\", \"sort\": [\"voila-dashboards.github.io\", \"voila\"]}, \"y\": {\"type\": \"quantitative\", \"field\": \"time_open\", \"title\": \"Median Days Open\"}}, \"title\": \"Time to close for issues closed in the last 60 days\", \"$schema\": \"https://vega.github.io/schema/vega-lite/v4.8.1.json\", \"datasets\": {\"data-ce0ecd75ca93d4aaed29eb302b79ae92\": [{\"org\": \"voila-dashboards\", \"repo\": \"voila\", \"time_open\": 1.282326388888889, \"org/repo\": \"voila-dashboards/voila\"}, {\"org\": \"voila-dashboards\", \"repo\": \"voila-dashboards.github.io\", \"time_open\": 174.97236111111113, \"org/repo\": \"voila-dashboards/voila-dashboards.github.io\"}]}}, {\"mode\": \"vega-lite\"});\n",
       "</script>"
      ],
      "text/plain": [
       "alt.Chart(...)"
      ]
     },
     "execution_count": 19,
     "metadata": {},
     "output_type": "execute_result"
    }
   ],
   "source": [
    "time_open = closed.groupby(['org', 'repo']).agg({'time_open': 'median'}).reset_index()\n",
    "time_open['time_open'] = time_open['time_open'] / (60 * 60 * 24)\n",
    "time_open['org/repo'] = time_open.apply(lambda a: a['org'] + '/' + a['repo'], axis=1)\n",
    "sorted_vals = time_open.sort_values(['org', 'time_open'], ascending=False)['repo'].values\n",
    "alt.Chart(data=time_open, title=f\"Time to close for issues closed in the last {n_days} days\").mark_bar().encode(\n",
    "    x=alt.X('repo', sort=alt.Sort(sorted_vals.tolist())),\n",
    "    y=alt.Y('time_open', title=\"Median Days Open\"),\n",
    ")"
   ]
  },
  {
   "cell_type": "markdown",
   "metadata": {
    "papermill": {
     "duration": 0.041713,
     "end_time": "2020-08-09T01:14:22.029702",
     "exception": false,
     "start_time": "2020-08-09T01:14:21.987989",
     "status": "completed"
    },
    "tags": []
   },
   "source": [
    "## Commenters across repositories\n",
    "\n",
    "These are commenters across all issues and pull requests in the last several days.\n",
    "These are colored by the commenter's association with the organization. For information\n",
    "about what these associations mean, [see this StackOverflow post](https://stackoverflow.com/a/28866914/1927102)."
   ]
  },
  {
   "cell_type": "code",
   "execution_count": 20,
   "metadata": {
    "execution": {
     "iopub.execute_input": "2020-08-09T01:14:22.126412Z",
     "iopub.status.busy": "2020-08-09T01:14:22.120239Z",
     "iopub.status.idle": "2020-08-09T01:14:22.128558Z",
     "shell.execute_reply": "2020-08-09T01:14:22.129168Z"
    },
    "papermill": {
     "duration": 0.058347,
     "end_time": "2020-08-09T01:14:22.129325",
     "exception": false,
     "start_time": "2020-08-09T01:14:22.070978",
     "status": "completed"
    },
    "tags": [
     "remove_cell"
    ]
   },
   "outputs": [],
   "source": [
    "commentors = (\n",
    "    comments\n",
    "    .query(\"createdAt > @start_date and createdAt < @stop_date\")\n",
    "    .groupby(['org', 'repo', 'author', 'authorAssociation'])\n",
    "    .count().rename(columns={'id': 'count'})['count']\n",
    "    .reset_index()\n",
    "    .sort_values(['org', 'count'], ascending=False)\n",
    ")"
   ]
  },
  {
   "cell_type": "code",
   "execution_count": 21,
   "metadata": {
    "execution": {
     "iopub.execute_input": "2020-08-09T01:14:22.224790Z",
     "iopub.status.busy": "2020-08-09T01:14:22.224168Z",
     "iopub.status.idle": "2020-08-09T01:14:22.246463Z",
     "shell.execute_reply": "2020-08-09T01:14:22.245834Z"
    },
    "papermill": {
     "duration": 0.074675,
     "end_time": "2020-08-09T01:14:22.246596",
     "exception": false,
     "start_time": "2020-08-09T01:14:22.171921",
     "status": "completed"
    },
    "tags": [
     "hide_input"
    ]
   },
   "outputs": [
    {
     "data": {
      "text/html": [
       "\n",
       "<div id=\"altair-viz-c30a6a940a5d481da14a427bc863f636\"></div>\n",
       "<script type=\"text/javascript\">\n",
       "  (function(spec, embedOpt){\n",
       "    let outputDiv = document.currentScript.previousElementSibling;\n",
       "    if (outputDiv.id !== \"altair-viz-c30a6a940a5d481da14a427bc863f636\") {\n",
       "      outputDiv = document.getElementById(\"altair-viz-c30a6a940a5d481da14a427bc863f636\");\n",
       "    }\n",
       "    const paths = {\n",
       "      \"vega\": \"https://cdn.jsdelivr.net/npm//vega@5?noext\",\n",
       "      \"vega-lib\": \"https://cdn.jsdelivr.net/npm//vega-lib?noext\",\n",
       "      \"vega-lite\": \"https://cdn.jsdelivr.net/npm//vega-lite@4.8.1?noext\",\n",
       "      \"vega-embed\": \"https://cdn.jsdelivr.net/npm//vega-embed@6?noext\",\n",
       "    };\n",
       "\n",
       "    function loadScript(lib) {\n",
       "      return new Promise(function(resolve, reject) {\n",
       "        var s = document.createElement('script');\n",
       "        s.src = paths[lib];\n",
       "        s.async = true;\n",
       "        s.onload = () => resolve(paths[lib]);\n",
       "        s.onerror = () => reject(`Error loading script: ${paths[lib]}`);\n",
       "        document.getElementsByTagName(\"head\")[0].appendChild(s);\n",
       "      });\n",
       "    }\n",
       "\n",
       "    function showError(err) {\n",
       "      outputDiv.innerHTML = `<div class=\"error\" style=\"color:red;\">${err}</div>`;\n",
       "      throw err;\n",
       "    }\n",
       "\n",
       "    function displayChart(vegaEmbed) {\n",
       "      vegaEmbed(outputDiv, spec, embedOpt)\n",
       "        .catch(err => showError(`Javascript Error: ${err.message}<br>This usually means there's a typo in your chart specification. See the javascript console for the full traceback.`));\n",
       "    }\n",
       "\n",
       "    if(typeof define === \"function\" && define.amd) {\n",
       "      requirejs.config({paths});\n",
       "      require([\"vega-embed\"], displayChart, err => showError(`Error loading script: ${err.message}`));\n",
       "    } else if (typeof vegaEmbed === \"function\") {\n",
       "      displayChart(vegaEmbed);\n",
       "    } else {\n",
       "      loadScript(\"vega\")\n",
       "        .then(() => loadScript(\"vega-lite\"))\n",
       "        .then(() => loadScript(\"vega-embed\"))\n",
       "        .catch(showError)\n",
       "        .then(() => displayChart(vegaEmbed));\n",
       "    }\n",
       "  })({\"config\": {\"axisLeft\": {\"labelFontSize\": 15}, \"axisBottom\": {\"labelFontSize\": 15}}, \"hconcat\": [{\"mark\": \"bar\", \"encoding\": {\"color\": {\"type\": \"nominal\", \"field\": \"authorAssociation\", \"scale\": {\"domain\": [\"MEMBER\", \"CONTRIBUTOR\", \"COLLABORATOR\", \"NONE\"], \"range\": [\"rgb(211.82745098039214, 211.82745098039214, 211.82745098039214)\", \"rgb(166.98562091503268, 229.89803921568628, 166.98562091503268)\", \"rgb(96.37647058823529, 192.75294117647059, 96.37647058823529)\", \"rgb(0.0, 100.3921568627451, 0.0)\"]}}, \"x\": {\"type\": \"nominal\", \"field\": \"author\"}, \"y\": {\"type\": \"quantitative\", \"field\": \"count\"}}, \"title\": \"Top 50 commentors for voila-dashboards in the last 60 days\"}], \"data\": {\"name\": \"data-4e8453d1e25a25076bfab2c7c4ad8c4c\"}, \"$schema\": \"https://vega.github.io/schema/vega-lite/v4.8.1.json\", \"datasets\": {\"data-4e8453d1e25a25076bfab2c7c4ad8c4c\": [{\"author\": \"jtpio\", \"count\": 39, \"authorAssociation\": \"MEMBER\"}, {\"author\": \"maartenbreddels\", \"count\": 24, \"authorAssociation\": \"MEMBER\"}, {\"author\": \"martinRenou\", \"count\": 18, \"authorAssociation\": \"MEMBER\"}, {\"author\": \"gbrault\", \"count\": 16, \"authorAssociation\": \"NONE\"}, {\"author\": \"madhur-tandon\", \"count\": 8, \"authorAssociation\": \"CONTRIBUTOR\"}, {\"author\": \"SylvainCorlay\", \"count\": 8, \"authorAssociation\": \"MEMBER\"}, {\"author\": \"tobyX\", \"count\": 6, \"authorAssociation\": \"NONE\"}, {\"author\": \"tomnewg\", \"count\": 5, \"authorAssociation\": \"NONE\"}, {\"author\": \"joseberlines\", \"count\": 4, \"authorAssociation\": \"NONE\"}, {\"author\": \"atharvahans1\", \"count\": 4, \"authorAssociation\": \"NONE\"}, {\"author\": \"marketneutral\", \"count\": 3, \"authorAssociation\": \"NONE\"}, {\"author\": \"anxhelahyseni\", \"count\": 3, \"authorAssociation\": \"NONE\"}, {\"author\": \"timkpaine\", \"count\": 3, \"authorAssociation\": \"MEMBER\"}, {\"author\": \"DougRzz\", \"count\": 3, \"authorAssociation\": \"NONE\"}, {\"author\": \"vidartf\", \"count\": 2, \"authorAssociation\": \"CONTRIBUTOR\"}, {\"author\": \"cailiang9\", \"count\": 2, \"authorAssociation\": \"NONE\"}, {\"author\": \"Noah-Huppert\", \"count\": 2, \"authorAssociation\": \"NONE\"}, {\"author\": \"davidbrochart\", \"count\": 2, \"authorAssociation\": \"MEMBER\"}, {\"author\": \"sackh\", \"count\": 1, \"authorAssociation\": \"NONE\"}, {\"author\": \"mgmarino\", \"count\": 1, \"authorAssociation\": \"NONE\"}, {\"author\": \"ArindamHalder7\", \"count\": 1, \"authorAssociation\": \"NONE\"}, {\"author\": \"kevin-bates\", \"count\": 1, \"authorAssociation\": \"NONE\"}, {\"author\": \"ishan42d\", \"count\": 1, \"authorAssociation\": \"NONE\"}, {\"author\": \"danlester\", \"count\": 1, \"authorAssociation\": \"CONTRIBUTOR\"}, {\"author\": \"afonit\", \"count\": 1, \"authorAssociation\": \"NONE\"}, {\"author\": \"adriaan\", \"count\": 1, \"authorAssociation\": \"NONE\"}, {\"author\": \"jeffyjefflabs\", \"count\": 1, \"authorAssociation\": \"CONTRIBUTOR\"}]}}, {\"mode\": \"vega-lite\"});\n",
       "</script>"
      ],
      "text/plain": [
       "alt.HConcatChart(...)"
      ]
     },
     "execution_count": 21,
     "metadata": {},
     "output_type": "execute_result"
    }
   ],
   "source": [
    "n_plot = 50\n",
    "charts = []\n",
    "for ii, (iorg, idata) in enumerate(commentors.groupby(['org'])):\n",
    "    title = f\"Top {n_plot} commentors for {iorg} in the last {n_days} days\"\n",
    "    idata = idata.groupby('author', as_index=False).agg({'count': 'sum', 'authorAssociation': 'first'})\n",
    "    idata = idata.sort_values('count', ascending=False).head(n_plot)\n",
    "    ch = alt.Chart(data=idata.head(n_plot), title=title).mark_bar().encode(\n",
    "        x='author',\n",
    "        y='count',\n",
    "        color=alt.Color('authorAssociation', scale=alt.Scale(domain=author_types, range=author_colors))\n",
    "    )\n",
    "    charts.append(ch)\n",
    "alt.hconcat(*charts)"
   ]
  },
  {
   "cell_type": "markdown",
   "metadata": {
    "papermill": {
     "duration": 0.04282,
     "end_time": "2020-08-09T01:14:22.332700",
     "exception": false,
     "start_time": "2020-08-09T01:14:22.289880",
     "status": "completed"
    },
    "tags": []
   },
   "source": [
    "## First responders\n",
    "\n",
    "First responders are the first people to respond to a new issue in one of the repositories.\n",
    "The following plots show first responders for recently-created issues."
   ]
  },
  {
   "cell_type": "code",
   "execution_count": 22,
   "metadata": {
    "execution": {
     "iopub.execute_input": "2020-08-09T01:14:22.424023Z",
     "iopub.status.busy": "2020-08-09T01:14:22.423408Z",
     "iopub.status.idle": "2020-08-09T01:14:22.475199Z",
     "shell.execute_reply": "2020-08-09T01:14:22.474545Z"
    },
    "papermill": {
     "duration": 0.09928,
     "end_time": "2020-08-09T01:14:22.475332",
     "exception": false,
     "start_time": "2020-08-09T01:14:22.376052",
     "status": "completed"
    },
    "tags": [
     "remove_cell"
    ]
   },
   "outputs": [],
   "source": [
    "first_comments = []\n",
    "for (org, repo, issue_id), i_comments in comments.groupby(['org', 'repo', 'id']):\n",
    "    ix_min = pd.to_datetime(i_comments['createdAt']).idxmin()\n",
    "    first_comment = i_comments.loc[ix_min]\n",
    "    if isinstance(first_comment, pd.DataFrame):\n",
    "        first_comment = first_comment.iloc[0]\n",
    "    first_comments.append(first_comment)\n",
    "first_comments = pd.concat(first_comments, axis=1).T\n",
    "\n",
    "# Make up counts for viz\n",
    "first_responder_counts = first_comments.groupby(['org', 'author', 'authorAssociation'], as_index=False).\\\n",
    "    count().rename(columns={'id': 'n_first_responses'}).sort_values(['org', 'n_first_responses'], ascending=False)\n"
   ]
  },
  {
   "cell_type": "code",
   "execution_count": 23,
   "metadata": {
    "execution": {
     "iopub.execute_input": "2020-08-09T01:14:22.588933Z",
     "iopub.status.busy": "2020-08-09T01:14:22.569908Z",
     "iopub.status.idle": "2020-08-09T01:14:22.591334Z",
     "shell.execute_reply": "2020-08-09T01:14:22.591939Z"
    },
    "papermill": {
     "duration": 0.073815,
     "end_time": "2020-08-09T01:14:22.592089",
     "exception": false,
     "start_time": "2020-08-09T01:14:22.518274",
     "status": "completed"
    },
    "tags": [
     "hide_input"
    ]
   },
   "outputs": [
    {
     "data": {
      "text/html": [
       "\n",
       "<div id=\"altair-viz-2a16103b73d74be6aadb78844c045402\"></div>\n",
       "<script type=\"text/javascript\">\n",
       "  (function(spec, embedOpt){\n",
       "    let outputDiv = document.currentScript.previousElementSibling;\n",
       "    if (outputDiv.id !== \"altair-viz-2a16103b73d74be6aadb78844c045402\") {\n",
       "      outputDiv = document.getElementById(\"altair-viz-2a16103b73d74be6aadb78844c045402\");\n",
       "    }\n",
       "    const paths = {\n",
       "      \"vega\": \"https://cdn.jsdelivr.net/npm//vega@5?noext\",\n",
       "      \"vega-lib\": \"https://cdn.jsdelivr.net/npm//vega-lib?noext\",\n",
       "      \"vega-lite\": \"https://cdn.jsdelivr.net/npm//vega-lite@4.8.1?noext\",\n",
       "      \"vega-embed\": \"https://cdn.jsdelivr.net/npm//vega-embed@6?noext\",\n",
       "    };\n",
       "\n",
       "    function loadScript(lib) {\n",
       "      return new Promise(function(resolve, reject) {\n",
       "        var s = document.createElement('script');\n",
       "        s.src = paths[lib];\n",
       "        s.async = true;\n",
       "        s.onload = () => resolve(paths[lib]);\n",
       "        s.onerror = () => reject(`Error loading script: ${paths[lib]}`);\n",
       "        document.getElementsByTagName(\"head\")[0].appendChild(s);\n",
       "      });\n",
       "    }\n",
       "\n",
       "    function showError(err) {\n",
       "      outputDiv.innerHTML = `<div class=\"error\" style=\"color:red;\">${err}</div>`;\n",
       "      throw err;\n",
       "    }\n",
       "\n",
       "    function displayChart(vegaEmbed) {\n",
       "      vegaEmbed(outputDiv, spec, embedOpt)\n",
       "        .catch(err => showError(`Javascript Error: ${err.message}<br>This usually means there's a typo in your chart specification. See the javascript console for the full traceback.`));\n",
       "    }\n",
       "\n",
       "    if(typeof define === \"function\" && define.amd) {\n",
       "      requirejs.config({paths});\n",
       "      require([\"vega-embed\"], displayChart, err => showError(`Error loading script: ${err.message}`));\n",
       "    } else if (typeof vegaEmbed === \"function\") {\n",
       "      displayChart(vegaEmbed);\n",
       "    } else {\n",
       "      loadScript(\"vega\")\n",
       "        .then(() => loadScript(\"vega-lite\"))\n",
       "        .then(() => loadScript(\"vega-embed\"))\n",
       "        .catch(showError)\n",
       "        .then(() => displayChart(vegaEmbed));\n",
       "    }\n",
       "  })({\"config\": {\"axisLeft\": {\"labelFontSize\": 15}, \"axisBottom\": {\"labelFontSize\": 15}}, \"data\": {\"name\": \"data-749e517f118702e96dafd8c048c73962\"}, \"mark\": \"bar\", \"encoding\": {\"color\": {\"type\": \"nominal\", \"field\": \"authorAssociation\", \"scale\": {\"domain\": [\"MEMBER\", \"CONTRIBUTOR\", \"COLLABORATOR\", \"NONE\"], \"range\": [\"rgb(211.82745098039214, 211.82745098039214, 211.82745098039214)\", \"rgb(166.98562091503268, 229.89803921568628, 166.98562091503268)\", \"rgb(96.37647058823529, 192.75294117647059, 96.37647058823529)\", \"rgb(0.0, 100.3921568627451, 0.0)\"]}}, \"x\": {\"type\": \"nominal\", \"field\": \"author\"}, \"y\": {\"type\": \"quantitative\", \"field\": \"n_first_responses\"}}, \"title\": \"Top 50 first responders for voila-dashboards in the last 60 days\", \"$schema\": \"https://vega.github.io/schema/vega-lite/v4.8.1.json\", \"datasets\": {\"data-749e517f118702e96dafd8c048c73962\": [{\"author\": \"jtpio\", \"n_first_responses\": 9, \"authorAssociation\": \"MEMBER\"}, {\"author\": \"maartenbreddels\", \"n_first_responses\": 9, \"authorAssociation\": \"MEMBER\"}, {\"author\": \"SylvainCorlay\", \"n_first_responses\": 7, \"authorAssociation\": \"MEMBER\"}, {\"author\": \"martinRenou\", \"n_first_responses\": 4, \"authorAssociation\": \"MEMBER\"}, {\"author\": \"davidbrochart\", \"n_first_responses\": 2, \"authorAssociation\": \"MEMBER\"}, {\"author\": \"timkpaine\", \"n_first_responses\": 2, \"authorAssociation\": \"MEMBER\"}, {\"author\": \"ArindamHalder7\", \"n_first_responses\": 1, \"authorAssociation\": \"NONE\"}, {\"author\": \"Noah-Huppert\", \"n_first_responses\": 1, \"authorAssociation\": \"NONE\"}, {\"author\": \"afonit\", \"n_first_responses\": 1, \"authorAssociation\": \"NONE\"}, {\"author\": \"cailiang9\", \"n_first_responses\": 1, \"authorAssociation\": \"NONE\"}, {\"author\": \"gbrault\", \"n_first_responses\": 1, \"authorAssociation\": \"NONE\"}, {\"author\": \"joseberlines\", \"n_first_responses\": 1, \"authorAssociation\": \"NONE\"}, {\"author\": \"madhur-tandon\", \"n_first_responses\": 1, \"authorAssociation\": \"CONTRIBUTOR\"}, {\"author\": \"stefanmeili\", \"n_first_responses\": 1, \"authorAssociation\": \"NONE\"}, {\"author\": \"tobyX\", \"n_first_responses\": 1, \"authorAssociation\": \"NONE\"}, {\"author\": \"vidartf\", \"n_first_responses\": 1, \"authorAssociation\": \"NONE\"}]}}, {\"mode\": \"vega-lite\"});\n",
       "</script>"
      ],
      "text/plain": [
       "alt.Chart(...)"
      ]
     },
     "execution_count": 23,
     "metadata": {},
     "output_type": "execute_result"
    }
   ],
   "source": [
    "n_plot = 50\n",
    "\n",
    "title = f\"Top {n_plot} first responders for {github_org} in the last {n_days} days\"\n",
    "idata = first_responder_counts.groupby('author', as_index=False).agg({'n_first_responses': 'sum', 'authorAssociation': 'first'})\n",
    "idata = idata.sort_values('n_first_responses', ascending=False).head(n_plot)\n",
    "ch = alt.Chart(data=idata.head(n_plot), title=title).mark_bar().encode(\n",
    "    x='author',\n",
    "    y='n_first_responses',\n",
    "    color=alt.Color('authorAssociation', scale=alt.Scale(domain=author_types, range=author_colors))\n",
    ")\n",
    "ch"
   ]
  },
  {
   "cell_type": "markdown",
   "metadata": {
    "papermill": {
     "duration": 0.042798,
     "end_time": "2020-08-09T01:14:22.678355",
     "exception": false,
     "start_time": "2020-08-09T01:14:22.635557",
     "status": "completed"
    },
    "tags": []
   },
   "source": [
    "## Recent activity\n",
    "\n",
    "### A list of merged PRs by project\n",
    "\n",
    "Below is a tabbed readout of recently-merged PRs. Check out the title to get an idea for what they\n",
    "implemented, and be sure to thank the PR author for their hard work!"
   ]
  },
  {
   "cell_type": "code",
   "execution_count": 24,
   "metadata": {
    "execution": {
     "iopub.execute_input": "2020-08-09T01:14:22.774592Z",
     "iopub.status.busy": "2020-08-09T01:14:22.773694Z",
     "iopub.status.idle": "2020-08-09T01:14:22.840993Z",
     "shell.execute_reply": "2020-08-09T01:14:22.841590Z"
    },
    "papermill": {
     "duration": 0.119927,
     "end_time": "2020-08-09T01:14:22.841754",
     "exception": false,
     "start_time": "2020-08-09T01:14:22.721827",
     "status": "completed"
    },
    "tags": [
     "hide_input"
    ]
   },
   "outputs": [
    {
     "data": {
      "application/vnd.jupyter.widget-view+json": {
       "model_id": "56435ec83b5c4ea58eb2a1b547da56c4",
       "version_major": 2,
       "version_minor": 0
      },
      "text/plain": [
       "Tab(children=(HTML(value='<h4>Closed PRs for repo: <a href=\"https://github.com/voila-dashboards/voila\">voila-d…"
      ]
     },
     "metadata": {},
     "output_type": "display_data"
    }
   ],
   "source": [
    "tabs = widgets.Tab(children=[])\n",
    "\n",
    "for ii, ((org, repo), imerged) in enumerate(merged.query(\"repo in @use_repos\").groupby(['org', 'repo'])):\n",
    "    merged_by = {}\n",
    "    pr_by = {}\n",
    "    issue_md = []\n",
    "    issue_md.append(f\"#### Closed PRs for repo: [{org}/{repo}](https://github.com/{github_org}/{repo})\")\n",
    "    issue_md.append(\"\")\n",
    "    issue_md.append(f\"##### \")\n",
    "\n",
    "    for _, ipr in imerged.iterrows():\n",
    "        user_name = ipr['author']\n",
    "        user_url = author_url(user_name)\n",
    "        pr_number = ipr['number']\n",
    "        pr_html = ipr['url']\n",
    "        pr_title = ipr['title']\n",
    "        pr_closedby = ipr['mergedBy']\n",
    "        pr_closedby_url = f\"https://github.com/{pr_closedby}\"\n",
    "        if user_name not in pr_by:\n",
    "            pr_by[user_name] = 1\n",
    "        else:\n",
    "            pr_by[user_name] += 1\n",
    "\n",
    "        if pr_closedby not in merged_by:\n",
    "            merged_by[pr_closedby] = 1\n",
    "        else:\n",
    "            merged_by[pr_closedby] += 1\n",
    "        text = f\"* [(#{pr_number})]({pr_html}): _{pr_title}_ by **[@{user_name}]({user_url})** merged by **[@{pr_closedby}]({pr_closedby_url})**\"\n",
    "        issue_md.append(text)\n",
    "    \n",
    "    issue_md.append('')\n",
    "    markdown_html = markdown('\\n'.join(issue_md))\n",
    "\n",
    "    children = list(tabs.children)\n",
    "    children.append(HTML(markdown_html))\n",
    "    tabs.children = tuple(children)\n",
    "    tabs.set_title(ii, repo)\n",
    "tabs"
   ]
  },
  {
   "cell_type": "markdown",
   "metadata": {
    "papermill": {
     "duration": 0.049407,
     "end_time": "2020-08-09T01:14:22.936997",
     "exception": false,
     "start_time": "2020-08-09T01:14:22.887590",
     "status": "completed"
    },
    "tags": []
   },
   "source": [
    "### A list of recent issues\n",
    "\n",
    "Below is a list of issues with recent activity in each repository. If they seem of interest\n",
    "to you, click on their links and jump in to participate!"
   ]
  },
  {
   "cell_type": "code",
   "execution_count": 25,
   "metadata": {
    "execution": {
     "iopub.execute_input": "2020-08-09T01:14:23.046332Z",
     "iopub.status.busy": "2020-08-09T01:14:23.045722Z",
     "iopub.status.idle": "2020-08-09T01:14:23.053277Z",
     "shell.execute_reply": "2020-08-09T01:14:23.052754Z"
    },
    "papermill": {
     "duration": 0.060278,
     "end_time": "2020-08-09T01:14:23.053415",
     "exception": false,
     "start_time": "2020-08-09T01:14:22.993137",
     "status": "completed"
    },
    "tags": [
     "remove_cell"
    ]
   },
   "outputs": [],
   "source": [
    "# Add comment count data to issues and PRs\n",
    "comment_counts = (\n",
    "    comments\n",
    "    .query(\"createdAt > @start_date and createdAt < @stop_date\")\n",
    "    .groupby(['org', 'repo', 'id'])\n",
    "    .count().iloc[:, 0].to_frame()\n",
    ")\n",
    "comment_counts.columns = ['n_comments']\n",
    "comment_counts = comment_counts.reset_index()"
   ]
  },
  {
   "cell_type": "code",
   "execution_count": 26,
   "metadata": {
    "execution": {
     "iopub.execute_input": "2020-08-09T01:14:23.153234Z",
     "iopub.status.busy": "2020-08-09T01:14:23.152518Z",
     "iopub.status.idle": "2020-08-09T01:14:23.267182Z",
     "shell.execute_reply": "2020-08-09T01:14:23.267792Z"
    },
    "papermill": {
     "duration": 0.169557,
     "end_time": "2020-08-09T01:14:23.267971",
     "exception": false,
     "start_time": "2020-08-09T01:14:23.098414",
     "status": "completed"
    },
    "tags": [
     "hide_input"
    ],
    "toc-hr-collapsed": false
   },
   "outputs": [
    {
     "data": {
      "text/markdown": [
       "Here are the top 5 active issues in each repository in the last 60 days"
      ],
      "text/plain": [
       "<IPython.core.display.Markdown object>"
      ]
     },
     "metadata": {},
     "output_type": "display_data"
    },
    {
     "data": {
      "application/vnd.jupyter.widget-view+json": {
       "model_id": "c4175bca047b4bcaab734b0c8aa84477",
       "version_major": 2,
       "version_minor": 0
      },
      "text/plain": [
       "Tab(children=(HTML(value='<h5><a href=\"https://github.com/voila-dashboards/tljh-voila-gallery\">voila-dashboard…"
      ]
     },
     "metadata": {},
     "output_type": "display_data"
    }
   ],
   "source": [
    "n_plot = 5\n",
    "tabs = widgets.Tab(children=[])\n",
    "\n",
    "for ii, (repo, i_issues) in enumerate(comment_counts.query(\"repo in @use_repos\").groupby('repo')):\n",
    "    \n",
    "    issue_md = []\n",
    "    issue_md.append(\"\")\n",
    "    issue_md.append(f\"##### [{github_org}/{repo}](https://github.com/{github_org}/{repo})\")\n",
    "\n",
    "    top_issues = i_issues.sort_values('n_comments', ascending=False).head(n_plot)\n",
    "    top_issue_list = pd.merge(issues, top_issues, left_on=['org', 'repo', 'id'], right_on=['org', 'repo', 'id'])\n",
    "    for _, issue in top_issue_list.sort_values('n_comments', ascending=False).head(n_plot).iterrows():\n",
    "        user_name = issue['author']\n",
    "        user_url = author_url(user_name)\n",
    "        issue_number = issue['number']\n",
    "        issue_html = issue['url']\n",
    "        issue_title = issue['title']\n",
    "\n",
    "        text = f\"* [(#{issue_number})]({issue_html}): _{issue_title}_ by **[@{user_name}]({user_url})**\"\n",
    "        issue_md.append(text)\n",
    "\n",
    "    issue_md.append('')\n",
    "    md_html = HTML(markdown('\\n'.join(issue_md)))\n",
    "\n",
    "    children = list(tabs.children)\n",
    "    children.append(HTML(markdown('\\n'.join(issue_md))))\n",
    "    tabs.children = tuple(children)\n",
    "    tabs.set_title(ii, repo)\n",
    "    \n",
    "display(Markdown(f\"Here are the top {n_plot} active issues in each repository in the last {n_days} days\"))\n",
    "display(tabs)"
   ]
  }
 ],
 "metadata": {
  "kernelspec": {
   "display_name": "Python 3",
   "language": "python",
   "name": "python3"
  },
  "language_info": {
   "codemirror_mode": {
    "name": "ipython",
    "version": 3
   },
   "file_extension": ".py",
   "mimetype": "text/x-python",
   "name": "python",
   "nbconvert_exporter": "python",
   "pygments_lexer": "ipython3",
   "version": "3.7.8"
  },
  "papermill": {
   "duration": 10.932592,
   "end_time": "2020-08-09T01:14:23.827684",
   "environment_variables": {},
   "exception": null,
   "input_path": "./template.ipynb",
   "output_path": "book/voila-dashboards.ipynb",
   "parameters": {
    "github_org": "voila-dashboards",
    "n_days": 60
   },
   "start_time": "2020-08-09T01:14:12.895092",
   "version": "2.1.2"
  },
  "widgets": {
   "application/vnd.jupyter.widget-state+json": {
    "state": {
     "009106d41b564f99916940d0af216edf": {
      "model_module": "@jupyter-widgets/controls",
      "model_module_version": "1.5.0",
      "model_name": "HTMLModel",
      "state": {
       "_dom_classes": [],
       "_model_module": "@jupyter-widgets/controls",
       "_model_module_version": "1.5.0",
       "_model_name": "HTMLModel",
       "_view_count": null,
       "_view_module": "@jupyter-widgets/controls",
       "_view_module_version": "1.5.0",
       "_view_name": "HTMLView",
       "description": "",
       "description_tooltip": null,
       "layout": "IPY_MODEL_bd74a2abf29146ef9edadbdfe4d7f58e",
       "placeholder": "​",
       "style": "IPY_MODEL_640bbf010ad24259872555ed0041b9ac",
       "value": "<h4>Closed PRs for repo: <a href=\"https://github.com/voila-dashboards/voila-gridstack\">voila-dashboards/voila-gridstack</a></h4>\n<h5></h5>\n<ul>\n<li><a href=\"https://github.com/voila-dashboards/voila-gridstack/pull/44\">(#44)</a>: <em>Replace Default Handle Icons</em> by <strong><a href=\"https://github.com/madhur-tandon\">@madhur-tandon</a></strong> merged by <strong><a href=\"https://github.com/SylvainCorlay\">@SylvainCorlay</a></strong></li>\n<li><a href=\"https://github.com/voila-dashboards/voila-gridstack/pull/43\">(#43)</a>: <em>Fix overlap for Drag Handle</em> by <strong><a href=\"https://github.com/madhur-tandon\">@madhur-tandon</a></strong> merged by <strong><a href=\"https://github.com/SylvainCorlay\">@SylvainCorlay</a></strong></li>\n</ul>"
      }
     },
     "023825449c35485fa17028d81bb277ac": {
      "model_module": "@jupyter-widgets/controls",
      "model_module_version": "1.5.0",
      "model_name": "HTMLModel",
      "state": {
       "_dom_classes": [],
       "_model_module": "@jupyter-widgets/controls",
       "_model_module_version": "1.5.0",
       "_model_name": "HTMLModel",
       "_view_count": null,
       "_view_module": "@jupyter-widgets/controls",
       "_view_module_version": "1.5.0",
       "_view_name": "HTMLView",
       "description": "",
       "description_tooltip": null,
       "layout": "IPY_MODEL_5dda869b64e94087b79ebf6295666b47",
       "placeholder": "​",
       "style": "IPY_MODEL_9813797a7bf94b5cb0a0b431a7f2f8eb",
       "value": "<h5><a href=\"https://github.com/voila-dashboards/voila\">voila-dashboards/voila</a></h5>\n<ul>\n<li><a href=\"https://github.com/voila-dashboards/voila/issues/627\">(#627)</a>: <em>Custom Widget results are not shown on voila dashboard.</em> by <strong><a href=\"https://github.com/sackh\">@sackh</a></strong></li>\n<li><a href=\"https://github.com/voila-dashboards/voila/issues/648\">(#648)</a>: <em>Unable to see pymc3 progressbar running in Voila-dashboard view</em> by <strong><a href=\"https://github.com/atharvahans1\">@atharvahans1</a></strong></li>\n<li><a href=\"https://github.com/voila-dashboards/voila/issues/641\">(#641)</a>: <em>Voila on Heroku - error connecting to mongodb</em> by <strong><a href=\"https://github.com/tomnewg\">@tomnewg</a></strong></li>\n</ul>"
      }
     },
     "0dc173a198e641b0b67831d921a4abdd": {
      "model_module": "@jupyter-widgets/base",
      "model_module_version": "1.2.0",
      "model_name": "LayoutModel",
      "state": {
       "_model_module": "@jupyter-widgets/base",
       "_model_module_version": "1.2.0",
       "_model_name": "LayoutModel",
       "_view_count": null,
       "_view_module": "@jupyter-widgets/base",
       "_view_module_version": "1.2.0",
       "_view_name": "LayoutView",
       "align_content": null,
       "align_items": null,
       "align_self": null,
       "border": null,
       "bottom": null,
       "display": null,
       "flex": null,
       "flex_flow": null,
       "grid_area": null,
       "grid_auto_columns": null,
       "grid_auto_flow": null,
       "grid_auto_rows": null,
       "grid_column": null,
       "grid_gap": null,
       "grid_row": null,
       "grid_template_areas": null,
       "grid_template_columns": null,
       "grid_template_rows": null,
       "height": null,
       "justify_content": null,
       "justify_items": null,
       "left": null,
       "margin": null,
       "max_height": null,
       "max_width": null,
       "min_height": null,
       "min_width": null,
       "object_fit": null,
       "object_position": null,
       "order": null,
       "overflow": null,
       "overflow_x": null,
       "overflow_y": null,
       "padding": null,
       "right": null,
       "top": null,
       "visibility": null,
       "width": null
      }
     },
     "10b1865f681f48658c133caf5b4aad1e": {
      "model_module": "@jupyter-widgets/controls",
      "model_module_version": "1.5.0",
      "model_name": "DescriptionStyleModel",
      "state": {
       "_model_module": "@jupyter-widgets/controls",
       "_model_module_version": "1.5.0",
       "_model_name": "DescriptionStyleModel",
       "_view_count": null,
       "_view_module": "@jupyter-widgets/base",
       "_view_module_version": "1.2.0",
       "_view_name": "StyleView",
       "description_width": ""
      }
     },
     "12ffd43cfe674c279a99a57c6b0ca5c5": {
      "model_module": "@jupyter-widgets/controls",
      "model_module_version": "1.5.0",
      "model_name": "HTMLModel",
      "state": {
       "_dom_classes": [],
       "_model_module": "@jupyter-widgets/controls",
       "_model_module_version": "1.5.0",
       "_model_name": "HTMLModel",
       "_view_count": null,
       "_view_module": "@jupyter-widgets/controls",
       "_view_module_version": "1.5.0",
       "_view_name": "HTMLView",
       "description": "",
       "description_tooltip": null,
       "layout": "IPY_MODEL_ef4af8eecf9949e6945ae83ef4363484",
       "placeholder": "​",
       "style": "IPY_MODEL_516d0dd6d9b8452c8460793eb2a22512",
       "value": "<h5><a href=\"https://github.com/voila-dashboards/voila-gridstack\">voila-dashboards/voila-gridstack</a></h5>"
      }
     },
     "14d87122fa93487b8f9c808b4581ddd2": {
      "model_module": "@jupyter-widgets/base",
      "model_module_version": "1.2.0",
      "model_name": "LayoutModel",
      "state": {
       "_model_module": "@jupyter-widgets/base",
       "_model_module_version": "1.2.0",
       "_model_name": "LayoutModel",
       "_view_count": null,
       "_view_module": "@jupyter-widgets/base",
       "_view_module_version": "1.2.0",
       "_view_name": "LayoutView",
       "align_content": null,
       "align_items": null,
       "align_self": null,
       "border": null,
       "bottom": null,
       "display": null,
       "flex": null,
       "flex_flow": null,
       "grid_area": null,
       "grid_auto_columns": null,
       "grid_auto_flow": null,
       "grid_auto_rows": null,
       "grid_column": null,
       "grid_gap": null,
       "grid_row": null,
       "grid_template_areas": null,
       "grid_template_columns": null,
       "grid_template_rows": null,
       "height": null,
       "justify_content": null,
       "justify_items": null,
       "left": null,
       "margin": null,
       "max_height": null,
       "max_width": null,
       "min_height": null,
       "min_width": null,
       "object_fit": null,
       "object_position": null,
       "order": null,
       "overflow": null,
       "overflow_x": null,
       "overflow_y": null,
       "padding": null,
       "right": null,
       "top": null,
       "visibility": null,
       "width": null
      }
     },
     "15af7f3e7a124b1d83e16f3ff2a9b3c9": {
      "model_module": "@jupyter-widgets/controls",
      "model_module_version": "1.5.0",
      "model_name": "HTMLModel",
      "state": {
       "_dom_classes": [],
       "_model_module": "@jupyter-widgets/controls",
       "_model_module_version": "1.5.0",
       "_model_name": "HTMLModel",
       "_view_count": null,
       "_view_module": "@jupyter-widgets/controls",
       "_view_module_version": "1.5.0",
       "_view_name": "HTMLView",
       "description": "",
       "description_tooltip": null,
       "layout": "IPY_MODEL_acacff67cca64b8da194db14e26efa05",
       "placeholder": "​",
       "style": "IPY_MODEL_8c978abb2aff44f09a7152be8bad8a21",
       "value": "<h5><a href=\"https://github.com/voila-dashboards/voila-gridstack\">voila-dashboards/voila-gridstack</a></h5>"
      }
     },
     "24796cfee7ff4d26951464c86479822c": {
      "model_module": "@jupyter-widgets/controls",
      "model_module_version": "1.5.0",
      "model_name": "DescriptionStyleModel",
      "state": {
       "_model_module": "@jupyter-widgets/controls",
       "_model_module_version": "1.5.0",
       "_model_name": "DescriptionStyleModel",
       "_view_count": null,
       "_view_module": "@jupyter-widgets/base",
       "_view_module_version": "1.2.0",
       "_view_name": "StyleView",
       "description_width": ""
      }
     },
     "26151b86b570458898974503c24c4206": {
      "model_module": "@jupyter-widgets/controls",
      "model_module_version": "1.5.0",
      "model_name": "HTMLModel",
      "state": {
       "_dom_classes": [],
       "_model_module": "@jupyter-widgets/controls",
       "_model_module_version": "1.5.0",
       "_model_name": "HTMLModel",
       "_view_count": null,
       "_view_module": "@jupyter-widgets/controls",
       "_view_module_version": "1.5.0",
       "_view_name": "HTMLView",
       "description": "",
       "description_tooltip": null,
       "layout": "IPY_MODEL_a943ca7b029e4c68ba1e4fe39995b62f",
       "placeholder": "​",
       "style": "IPY_MODEL_24796cfee7ff4d26951464c86479822c",
       "value": "<h4>Closed PRs for repo: <a href=\"https://github.com/voila-dashboards/voila-material\">voila-dashboards/voila-material</a></h4>\n<h5></h5>\n<ul>\n<li><a href=\"https://github.com/voila-dashboards/voila-material/pull/17\">(#17)</a>: <em>Binder: Use latest release instead of master</em> by <strong><a href=\"https://github.com/martinRenou\">@martinRenou</a></strong> merged by <strong><a href=\"https://github.com/martinRenou\">@martinRenou</a></strong></li>\n<li><a href=\"https://github.com/voila-dashboards/voila-material/pull/8\">(#8)</a>: <em>convert to nbconvert and voila compatible template</em> by <strong><a href=\"https://github.com/maartenbreddels\">@maartenbreddels</a></strong> merged by <strong><a href=\"https://github.com/martinRenou\">@martinRenou</a></strong></li>\n</ul>"
      }
     },
     "26160639e2384a2181b7f42c719c999d": {
      "model_module": "@jupyter-widgets/controls",
      "model_module_version": "1.5.0",
      "model_name": "DescriptionStyleModel",
      "state": {
       "_model_module": "@jupyter-widgets/controls",
       "_model_module_version": "1.5.0",
       "_model_name": "DescriptionStyleModel",
       "_view_count": null,
       "_view_module": "@jupyter-widgets/base",
       "_view_module_version": "1.2.0",
       "_view_name": "StyleView",
       "description_width": ""
      }
     },
     "2c1d5eeb087a4c52835e0599d51a2632": {
      "model_module": "@jupyter-widgets/controls",
      "model_module_version": "1.5.0",
      "model_name": "DescriptionStyleModel",
      "state": {
       "_model_module": "@jupyter-widgets/controls",
       "_model_module_version": "1.5.0",
       "_model_name": "DescriptionStyleModel",
       "_view_count": null,
       "_view_module": "@jupyter-widgets/base",
       "_view_module_version": "1.2.0",
       "_view_name": "StyleView",
       "description_width": ""
      }
     },
     "2e85e170ac034ae49fdf41b613a95510": {
      "model_module": "@jupyter-widgets/base",
      "model_module_version": "1.2.0",
      "model_name": "LayoutModel",
      "state": {
       "_model_module": "@jupyter-widgets/base",
       "_model_module_version": "1.2.0",
       "_model_name": "LayoutModel",
       "_view_count": null,
       "_view_module": "@jupyter-widgets/base",
       "_view_module_version": "1.2.0",
       "_view_name": "LayoutView",
       "align_content": null,
       "align_items": null,
       "align_self": null,
       "border": null,
       "bottom": null,
       "display": null,
       "flex": null,
       "flex_flow": null,
       "grid_area": null,
       "grid_auto_columns": null,
       "grid_auto_flow": null,
       "grid_auto_rows": null,
       "grid_column": null,
       "grid_gap": null,
       "grid_row": null,
       "grid_template_areas": null,
       "grid_template_columns": null,
       "grid_template_rows": null,
       "height": null,
       "justify_content": null,
       "justify_items": null,
       "left": null,
       "margin": null,
       "max_height": null,
       "max_width": null,
       "min_height": null,
       "min_width": null,
       "object_fit": null,
       "object_position": null,
       "order": null,
       "overflow": null,
       "overflow_x": null,
       "overflow_y": null,
       "padding": null,
       "right": null,
       "top": null,
       "visibility": null,
       "width": null
      }
     },
     "39ef85b6af8a4eb396824bbedac8e600": {
      "model_module": "@jupyter-widgets/controls",
      "model_module_version": "1.5.0",
      "model_name": "ProgressStyleModel",
      "state": {
       "_model_module": "@jupyter-widgets/controls",
       "_model_module_version": "1.5.0",
       "_model_name": "ProgressStyleModel",
       "_view_count": null,
       "_view_module": "@jupyter-widgets/base",
       "_view_module_version": "1.2.0",
       "_view_name": "StyleView",
       "bar_color": null,
       "description_width": ""
      }
     },
     "3b70b1eaffcb4a3d9851e416e567a612": {
      "model_module": "@jupyter-widgets/base",
      "model_module_version": "1.2.0",
      "model_name": "LayoutModel",
      "state": {
       "_model_module": "@jupyter-widgets/base",
       "_model_module_version": "1.2.0",
       "_model_name": "LayoutModel",
       "_view_count": null,
       "_view_module": "@jupyter-widgets/base",
       "_view_module_version": "1.2.0",
       "_view_name": "LayoutView",
       "align_content": null,
       "align_items": null,
       "align_self": null,
       "border": null,
       "bottom": null,
       "display": null,
       "flex": null,
       "flex_flow": null,
       "grid_area": null,
       "grid_auto_columns": null,
       "grid_auto_flow": null,
       "grid_auto_rows": null,
       "grid_column": null,
       "grid_gap": null,
       "grid_row": null,
       "grid_template_areas": null,
       "grid_template_columns": null,
       "grid_template_rows": null,
       "height": null,
       "justify_content": null,
       "justify_items": null,
       "left": null,
       "margin": null,
       "max_height": null,
       "max_width": null,
       "min_height": null,
       "min_width": null,
       "object_fit": null,
       "object_position": null,
       "order": null,
       "overflow": null,
       "overflow_x": null,
       "overflow_y": null,
       "padding": null,
       "right": null,
       "top": null,
       "visibility": null,
       "width": null
      }
     },
     "4232509f384c474caf9b4d3e3419b44b": {
      "model_module": "@jupyter-widgets/controls",
      "model_module_version": "1.5.0",
      "model_name": "DescriptionStyleModel",
      "state": {
       "_model_module": "@jupyter-widgets/controls",
       "_model_module_version": "1.5.0",
       "_model_name": "DescriptionStyleModel",
       "_view_count": null,
       "_view_module": "@jupyter-widgets/base",
       "_view_module_version": "1.2.0",
       "_view_name": "StyleView",
       "description_width": ""
      }
     },
     "490bbbb9add148a2866849a4e20d1149": {
      "model_module": "@jupyter-widgets/controls",
      "model_module_version": "1.5.0",
      "model_name": "DescriptionStyleModel",
      "state": {
       "_model_module": "@jupyter-widgets/controls",
       "_model_module_version": "1.5.0",
       "_model_name": "DescriptionStyleModel",
       "_view_count": null,
       "_view_module": "@jupyter-widgets/base",
       "_view_module_version": "1.2.0",
       "_view_name": "StyleView",
       "description_width": ""
      }
     },
     "49c20b5634a74ddd9af5d1bb47f7ac0b": {
      "model_module": "@jupyter-widgets/base",
      "model_module_version": "1.2.0",
      "model_name": "LayoutModel",
      "state": {
       "_model_module": "@jupyter-widgets/base",
       "_model_module_version": "1.2.0",
       "_model_name": "LayoutModel",
       "_view_count": null,
       "_view_module": "@jupyter-widgets/base",
       "_view_module_version": "1.2.0",
       "_view_name": "LayoutView",
       "align_content": null,
       "align_items": null,
       "align_self": null,
       "border": null,
       "bottom": null,
       "display": null,
       "flex": null,
       "flex_flow": null,
       "grid_area": null,
       "grid_auto_columns": null,
       "grid_auto_flow": null,
       "grid_auto_rows": null,
       "grid_column": null,
       "grid_gap": null,
       "grid_row": null,
       "grid_template_areas": null,
       "grid_template_columns": null,
       "grid_template_rows": null,
       "height": null,
       "justify_content": null,
       "justify_items": null,
       "left": null,
       "margin": null,
       "max_height": null,
       "max_width": null,
       "min_height": null,
       "min_width": null,
       "object_fit": null,
       "object_position": null,
       "order": null,
       "overflow": null,
       "overflow_x": null,
       "overflow_y": null,
       "padding": null,
       "right": null,
       "top": null,
       "visibility": null,
       "width": null
      }
     },
     "49d09c6195314ab3a1ddbda190e6284e": {
      "model_module": "@jupyter-widgets/controls",
      "model_module_version": "1.5.0",
      "model_name": "ProgressStyleModel",
      "state": {
       "_model_module": "@jupyter-widgets/controls",
       "_model_module_version": "1.5.0",
       "_model_name": "ProgressStyleModel",
       "_view_count": null,
       "_view_module": "@jupyter-widgets/base",
       "_view_module_version": "1.2.0",
       "_view_name": "StyleView",
       "bar_color": null,
       "description_width": ""
      }
     },
     "516d0dd6d9b8452c8460793eb2a22512": {
      "model_module": "@jupyter-widgets/controls",
      "model_module_version": "1.5.0",
      "model_name": "DescriptionStyleModel",
      "state": {
       "_model_module": "@jupyter-widgets/controls",
       "_model_module_version": "1.5.0",
       "_model_name": "DescriptionStyleModel",
       "_view_count": null,
       "_view_module": "@jupyter-widgets/base",
       "_view_module_version": "1.2.0",
       "_view_name": "StyleView",
       "description_width": ""
      }
     },
     "54260ea08350469eb06c227d9c450b7b": {
      "model_module": "@jupyter-widgets/controls",
      "model_module_version": "1.5.0",
      "model_name": "IntProgressModel",
      "state": {
       "_dom_classes": [],
       "_model_module": "@jupyter-widgets/controls",
       "_model_module_version": "1.5.0",
       "_model_name": "IntProgressModel",
       "_view_count": null,
       "_view_module": "@jupyter-widgets/controls",
       "_view_module_version": "1.5.0",
       "_view_name": "ProgressView",
       "bar_style": "success",
       "description": "Downloading:",
       "description_tooltip": null,
       "layout": "IPY_MODEL_9f3812b0486746caa6c5824a41eeda94",
       "max": 1,
       "min": 0,
       "orientation": "horizontal",
       "style": "IPY_MODEL_39ef85b6af8a4eb396824bbedac8e600",
       "value": 1
      }
     },
     "546bea6af3d048a2a62ff9e6874b6832": {
      "model_module": "@jupyter-widgets/base",
      "model_module_version": "1.2.0",
      "model_name": "LayoutModel",
      "state": {
       "_model_module": "@jupyter-widgets/base",
       "_model_module_version": "1.2.0",
       "_model_name": "LayoutModel",
       "_view_count": null,
       "_view_module": "@jupyter-widgets/base",
       "_view_module_version": "1.2.0",
       "_view_name": "LayoutView",
       "align_content": null,
       "align_items": null,
       "align_self": null,
       "border": null,
       "bottom": null,
       "display": null,
       "flex": null,
       "flex_flow": null,
       "grid_area": null,
       "grid_auto_columns": null,
       "grid_auto_flow": null,
       "grid_auto_rows": null,
       "grid_column": null,
       "grid_gap": null,
       "grid_row": null,
       "grid_template_areas": null,
       "grid_template_columns": null,
       "grid_template_rows": null,
       "height": null,
       "justify_content": null,
       "justify_items": null,
       "left": null,
       "margin": null,
       "max_height": null,
       "max_width": null,
       "min_height": null,
       "min_width": null,
       "object_fit": null,
       "object_position": null,
       "order": null,
       "overflow": null,
       "overflow_x": null,
       "overflow_y": null,
       "padding": null,
       "right": null,
       "top": null,
       "visibility": null,
       "width": null
      }
     },
     "56435ec83b5c4ea58eb2a1b547da56c4": {
      "model_module": "@jupyter-widgets/controls",
      "model_module_version": "1.5.0",
      "model_name": "TabModel",
      "state": {
       "_dom_classes": [],
       "_model_module": "@jupyter-widgets/controls",
       "_model_module_version": "1.5.0",
       "_model_name": "TabModel",
       "_titles": {
        "0": "voila",
        "1": "voila-dashboards.github.io",
        "2": "voila-gridstack",
        "3": "voila-material"
       },
       "_view_count": null,
       "_view_module": "@jupyter-widgets/controls",
       "_view_module_version": "1.5.0",
       "_view_name": "TabView",
       "box_style": "",
       "children": [
        "IPY_MODEL_fbbe2c22184a492d8aaef9a3cf4e1203",
        "IPY_MODEL_ac6413b1ee1e4821bf48875a5f7599d6",
        "IPY_MODEL_009106d41b564f99916940d0af216edf",
        "IPY_MODEL_26151b86b570458898974503c24c4206"
       ],
       "layout": "IPY_MODEL_f2ba6665ca7c4daea15fb49e06fc8697",
       "selected_index": 0
      }
     },
     "5dda869b64e94087b79ebf6295666b47": {
      "model_module": "@jupyter-widgets/base",
      "model_module_version": "1.2.0",
      "model_name": "LayoutModel",
      "state": {
       "_model_module": "@jupyter-widgets/base",
       "_model_module_version": "1.2.0",
       "_model_name": "LayoutModel",
       "_view_count": null,
       "_view_module": "@jupyter-widgets/base",
       "_view_module_version": "1.2.0",
       "_view_name": "LayoutView",
       "align_content": null,
       "align_items": null,
       "align_self": null,
       "border": null,
       "bottom": null,
       "display": null,
       "flex": null,
       "flex_flow": null,
       "grid_area": null,
       "grid_auto_columns": null,
       "grid_auto_flow": null,
       "grid_auto_rows": null,
       "grid_column": null,
       "grid_gap": null,
       "grid_row": null,
       "grid_template_areas": null,
       "grid_template_columns": null,
       "grid_template_rows": null,
       "height": null,
       "justify_content": null,
       "justify_items": null,
       "left": null,
       "margin": null,
       "max_height": null,
       "max_width": null,
       "min_height": null,
       "min_width": null,
       "object_fit": null,
       "object_position": null,
       "order": null,
       "overflow": null,
       "overflow_x": null,
       "overflow_y": null,
       "padding": null,
       "right": null,
       "top": null,
       "visibility": null,
       "width": null
      }
     },
     "640bbf010ad24259872555ed0041b9ac": {
      "model_module": "@jupyter-widgets/controls",
      "model_module_version": "1.5.0",
      "model_name": "DescriptionStyleModel",
      "state": {
       "_model_module": "@jupyter-widgets/controls",
       "_model_module_version": "1.5.0",
       "_model_name": "DescriptionStyleModel",
       "_view_count": null,
       "_view_module": "@jupyter-widgets/base",
       "_view_module_version": "1.2.0",
       "_view_name": "StyleView",
       "description_width": ""
      }
     },
     "785d48c8bd434657ad7a3f1d622f2cbc": {
      "model_module": "@jupyter-widgets/controls",
      "model_module_version": "1.5.0",
      "model_name": "DescriptionStyleModel",
      "state": {
       "_model_module": "@jupyter-widgets/controls",
       "_model_module_version": "1.5.0",
       "_model_name": "DescriptionStyleModel",
       "_view_count": null,
       "_view_module": "@jupyter-widgets/base",
       "_view_module_version": "1.2.0",
       "_view_name": "StyleView",
       "description_width": ""
      }
     },
     "7be245f81c6c42d3ae2cdf904d6cda34": {
      "model_module": "@jupyter-widgets/base",
      "model_module_version": "1.2.0",
      "model_name": "LayoutModel",
      "state": {
       "_model_module": "@jupyter-widgets/base",
       "_model_module_version": "1.2.0",
       "_model_name": "LayoutModel",
       "_view_count": null,
       "_view_module": "@jupyter-widgets/base",
       "_view_module_version": "1.2.0",
       "_view_name": "LayoutView",
       "align_content": null,
       "align_items": null,
       "align_self": null,
       "border": null,
       "bottom": null,
       "display": null,
       "flex": null,
       "flex_flow": null,
       "grid_area": null,
       "grid_auto_columns": null,
       "grid_auto_flow": null,
       "grid_auto_rows": null,
       "grid_column": null,
       "grid_gap": null,
       "grid_row": null,
       "grid_template_areas": null,
       "grid_template_columns": null,
       "grid_template_rows": null,
       "height": null,
       "justify_content": null,
       "justify_items": null,
       "left": null,
       "margin": null,
       "max_height": null,
       "max_width": null,
       "min_height": null,
       "min_width": null,
       "object_fit": null,
       "object_position": null,
       "order": null,
       "overflow": null,
       "overflow_x": null,
       "overflow_y": null,
       "padding": null,
       "right": null,
       "top": null,
       "visibility": null,
       "width": null
      }
     },
     "8c978abb2aff44f09a7152be8bad8a21": {
      "model_module": "@jupyter-widgets/controls",
      "model_module_version": "1.5.0",
      "model_name": "DescriptionStyleModel",
      "state": {
       "_model_module": "@jupyter-widgets/controls",
       "_model_module_version": "1.5.0",
       "_model_name": "DescriptionStyleModel",
       "_view_count": null,
       "_view_module": "@jupyter-widgets/base",
       "_view_module_version": "1.2.0",
       "_view_name": "StyleView",
       "description_width": ""
      }
     },
     "8f6b14a02d6c4371b7d8338f490f6ecc": {
      "model_module": "@jupyter-widgets/base",
      "model_module_version": "1.2.0",
      "model_name": "LayoutModel",
      "state": {
       "_model_module": "@jupyter-widgets/base",
       "_model_module_version": "1.2.0",
       "_model_name": "LayoutModel",
       "_view_count": null,
       "_view_module": "@jupyter-widgets/base",
       "_view_module_version": "1.2.0",
       "_view_name": "LayoutView",
       "align_content": null,
       "align_items": null,
       "align_self": null,
       "border": null,
       "bottom": null,
       "display": null,
       "flex": null,
       "flex_flow": null,
       "grid_area": null,
       "grid_auto_columns": null,
       "grid_auto_flow": null,
       "grid_auto_rows": null,
       "grid_column": null,
       "grid_gap": null,
       "grid_row": null,
       "grid_template_areas": null,
       "grid_template_columns": null,
       "grid_template_rows": null,
       "height": null,
       "justify_content": null,
       "justify_items": null,
       "left": null,
       "margin": null,
       "max_height": null,
       "max_width": null,
       "min_height": null,
       "min_width": null,
       "object_fit": null,
       "object_position": null,
       "order": null,
       "overflow": null,
       "overflow_x": null,
       "overflow_y": null,
       "padding": null,
       "right": null,
       "top": null,
       "visibility": null,
       "width": null
      }
     },
     "9148a8d9ebb849c594e94b6dabf1588c": {
      "model_module": "@jupyter-widgets/controls",
      "model_module_version": "1.5.0",
      "model_name": "HTMLModel",
      "state": {
       "_dom_classes": [],
       "_model_module": "@jupyter-widgets/controls",
       "_model_module_version": "1.5.0",
       "_model_name": "HTMLModel",
       "_view_count": null,
       "_view_module": "@jupyter-widgets/controls",
       "_view_module_version": "1.5.0",
       "_view_name": "HTMLView",
       "description": "",
       "description_tooltip": null,
       "layout": "IPY_MODEL_c05e475263564eaa876c3f6ab7c0dc9c",
       "placeholder": "​",
       "style": "IPY_MODEL_490bbbb9add148a2866849a4e20d1149",
       "value": "<h5><a href=\"https://github.com/voila-dashboards/voila-material\">voila-dashboards/voila-material</a></h5>\n<ul>\n<li><a href=\"https://github.com/voila-dashboards/voila-material/issues/18\">(#18)</a>: <em>Creating of buttons in callback doesn't work</em> by <strong><a href=\"https://github.com/tobyX\">@tobyX</a></strong></li>\n</ul>"
      }
     },
     "9813797a7bf94b5cb0a0b431a7f2f8eb": {
      "model_module": "@jupyter-widgets/controls",
      "model_module_version": "1.5.0",
      "model_name": "DescriptionStyleModel",
      "state": {
       "_model_module": "@jupyter-widgets/controls",
       "_model_module_version": "1.5.0",
       "_model_name": "DescriptionStyleModel",
       "_view_count": null,
       "_view_module": "@jupyter-widgets/base",
       "_view_module_version": "1.2.0",
       "_view_name": "StyleView",
       "description_width": ""
      }
     },
     "9966b59f72a64f529b892c78db5e5a4e": {
      "model_module": "@jupyter-widgets/controls",
      "model_module_version": "1.5.0",
      "model_name": "HTMLModel",
      "state": {
       "_dom_classes": [],
       "_model_module": "@jupyter-widgets/controls",
       "_model_module_version": "1.5.0",
       "_model_name": "HTMLModel",
       "_view_count": null,
       "_view_module": "@jupyter-widgets/controls",
       "_view_module_version": "1.5.0",
       "_view_name": "HTMLView",
       "description": "",
       "description_tooltip": null,
       "layout": "IPY_MODEL_8f6b14a02d6c4371b7d8338f490f6ecc",
       "placeholder": "​",
       "style": "IPY_MODEL_785d48c8bd434657ad7a3f1d622f2cbc",
       "value": "<h5><a href=\"https://github.com/voila-dashboards/tljh-voila-gallery\">voila-dashboards/tljh-voila-gallery</a></h5>\n<ul>\n<li><a href=\"https://github.com/voila-dashboards/tljh-voila-gallery/issues/90\">(#90)</a>: _Adding authentication _ by <strong><a href=\"https://github.com/tomnewg\">@tomnewg</a></strong></li>\n</ul>"
      }
     },
     "9f3812b0486746caa6c5824a41eeda94": {
      "model_module": "@jupyter-widgets/base",
      "model_module_version": "1.2.0",
      "model_name": "LayoutModel",
      "state": {
       "_model_module": "@jupyter-widgets/base",
       "_model_module_version": "1.2.0",
       "_model_name": "LayoutModel",
       "_view_count": null,
       "_view_module": "@jupyter-widgets/base",
       "_view_module_version": "1.2.0",
       "_view_name": "LayoutView",
       "align_content": null,
       "align_items": null,
       "align_self": null,
       "border": null,
       "bottom": null,
       "display": null,
       "flex": null,
       "flex_flow": null,
       "grid_area": null,
       "grid_auto_columns": null,
       "grid_auto_flow": null,
       "grid_auto_rows": null,
       "grid_column": null,
       "grid_gap": null,
       "grid_row": null,
       "grid_template_areas": null,
       "grid_template_columns": null,
       "grid_template_rows": null,
       "height": null,
       "justify_content": null,
       "justify_items": null,
       "left": null,
       "margin": null,
       "max_height": null,
       "max_width": null,
       "min_height": null,
       "min_width": null,
       "object_fit": null,
       "object_position": null,
       "order": null,
       "overflow": null,
       "overflow_x": null,
       "overflow_y": null,
       "padding": null,
       "right": null,
       "top": null,
       "visibility": null,
       "width": null
      }
     },
     "a1eca0d5c26b4f4286eb753b5e0e9e45": {
      "model_module": "@jupyter-widgets/controls",
      "model_module_version": "1.5.0",
      "model_name": "DescriptionStyleModel",
      "state": {
       "_model_module": "@jupyter-widgets/controls",
       "_model_module_version": "1.5.0",
       "_model_name": "DescriptionStyleModel",
       "_view_count": null,
       "_view_module": "@jupyter-widgets/base",
       "_view_module_version": "1.2.0",
       "_view_name": "StyleView",
       "description_width": ""
      }
     },
     "a2053f725ae740c4ac64bb6263bc46b9": {
      "model_module": "@jupyter-widgets/base",
      "model_module_version": "1.2.0",
      "model_name": "LayoutModel",
      "state": {
       "_model_module": "@jupyter-widgets/base",
       "_model_module_version": "1.2.0",
       "_model_name": "LayoutModel",
       "_view_count": null,
       "_view_module": "@jupyter-widgets/base",
       "_view_module_version": "1.2.0",
       "_view_name": "LayoutView",
       "align_content": null,
       "align_items": null,
       "align_self": null,
       "border": null,
       "bottom": null,
       "display": null,
       "flex": null,
       "flex_flow": null,
       "grid_area": null,
       "grid_auto_columns": null,
       "grid_auto_flow": null,
       "grid_auto_rows": null,
       "grid_column": null,
       "grid_gap": null,
       "grid_row": null,
       "grid_template_areas": null,
       "grid_template_columns": null,
       "grid_template_rows": null,
       "height": null,
       "justify_content": null,
       "justify_items": null,
       "left": null,
       "margin": null,
       "max_height": null,
       "max_width": null,
       "min_height": null,
       "min_width": null,
       "object_fit": null,
       "object_position": null,
       "order": null,
       "overflow": null,
       "overflow_x": null,
       "overflow_y": null,
       "padding": null,
       "right": null,
       "top": null,
       "visibility": null,
       "width": null
      }
     },
     "a670d4b553ef4c7d8008a7f0da0e4a19": {
      "model_module": "@jupyter-widgets/controls",
      "model_module_version": "1.5.0",
      "model_name": "HTMLModel",
      "state": {
       "_dom_classes": [],
       "_model_module": "@jupyter-widgets/controls",
       "_model_module_version": "1.5.0",
       "_model_name": "HTMLModel",
       "_view_count": null,
       "_view_module": "@jupyter-widgets/controls",
       "_view_module_version": "1.5.0",
       "_view_name": "HTMLView",
       "description": "",
       "description_tooltip": null,
       "layout": "IPY_MODEL_14d87122fa93487b8f9c808b4581ddd2",
       "placeholder": "​",
       "style": "IPY_MODEL_b13ce6bec4264e7490e35626b76cb6d9",
       "value": "<h5><a href=\"https://github.com/voila-dashboards/voila-dashboards.github.io\">voila-dashboards/voila-dashboards.github.io</a></h5>\n<ul>\n<li><a href=\"https://github.com/voila-dashboards/voila-dashboards.github.io/issues/14\">(#14)</a>: <em>Move to a bi-weekly schedule?</em> by <strong><a href=\"https://github.com/jtpio\">@jtpio</a></strong></li>\n</ul>"
      }
     },
     "a943ca7b029e4c68ba1e4fe39995b62f": {
      "model_module": "@jupyter-widgets/base",
      "model_module_version": "1.2.0",
      "model_name": "LayoutModel",
      "state": {
       "_model_module": "@jupyter-widgets/base",
       "_model_module_version": "1.2.0",
       "_model_name": "LayoutModel",
       "_view_count": null,
       "_view_module": "@jupyter-widgets/base",
       "_view_module_version": "1.2.0",
       "_view_name": "LayoutView",
       "align_content": null,
       "align_items": null,
       "align_self": null,
       "border": null,
       "bottom": null,
       "display": null,
       "flex": null,
       "flex_flow": null,
       "grid_area": null,
       "grid_auto_columns": null,
       "grid_auto_flow": null,
       "grid_auto_rows": null,
       "grid_column": null,
       "grid_gap": null,
       "grid_row": null,
       "grid_template_areas": null,
       "grid_template_columns": null,
       "grid_template_rows": null,
       "height": null,
       "justify_content": null,
       "justify_items": null,
       "left": null,
       "margin": null,
       "max_height": null,
       "max_width": null,
       "min_height": null,
       "min_width": null,
       "object_fit": null,
       "object_position": null,
       "order": null,
       "overflow": null,
       "overflow_x": null,
       "overflow_y": null,
       "padding": null,
       "right": null,
       "top": null,
       "visibility": null,
       "width": null
      }
     },
     "ac6413b1ee1e4821bf48875a5f7599d6": {
      "model_module": "@jupyter-widgets/controls",
      "model_module_version": "1.5.0",
      "model_name": "HTMLModel",
      "state": {
       "_dom_classes": [],
       "_model_module": "@jupyter-widgets/controls",
       "_model_module_version": "1.5.0",
       "_model_name": "HTMLModel",
       "_view_count": null,
       "_view_module": "@jupyter-widgets/controls",
       "_view_module_version": "1.5.0",
       "_view_name": "HTMLView",
       "description": "",
       "description_tooltip": null,
       "layout": "IPY_MODEL_49c20b5634a74ddd9af5d1bb47f7ac0b",
       "placeholder": "​",
       "style": "IPY_MODEL_10b1865f681f48658c133caf5b4aad1e",
       "value": "<h4>Closed PRs for repo: <a href=\"https://github.com/voila-dashboards/voila-dashboards.github.io\">voila-dashboards/voila-dashboards.github.io</a></h4>\n<h5></h5>\n<ul>\n<li><a href=\"https://github.com/voila-dashboards/voila-dashboards.github.io/pull/18\">(#18)</a>: <em>Add meeting minutes - 2020-07-13</em> by <strong><a href=\"https://github.com/jtpio\">@jtpio</a></strong> merged by <strong><a href=\"https://github.com/jtpio\">@jtpio</a></strong></li>\n</ul>"
      }
     },
     "acacff67cca64b8da194db14e26efa05": {
      "model_module": "@jupyter-widgets/base",
      "model_module_version": "1.2.0",
      "model_name": "LayoutModel",
      "state": {
       "_model_module": "@jupyter-widgets/base",
       "_model_module_version": "1.2.0",
       "_model_name": "LayoutModel",
       "_view_count": null,
       "_view_module": "@jupyter-widgets/base",
       "_view_module_version": "1.2.0",
       "_view_name": "LayoutView",
       "align_content": null,
       "align_items": null,
       "align_self": null,
       "border": null,
       "bottom": null,
       "display": null,
       "flex": null,
       "flex_flow": null,
       "grid_area": null,
       "grid_auto_columns": null,
       "grid_auto_flow": null,
       "grid_auto_rows": null,
       "grid_column": null,
       "grid_gap": null,
       "grid_row": null,
       "grid_template_areas": null,
       "grid_template_columns": null,
       "grid_template_rows": null,
       "height": null,
       "justify_content": null,
       "justify_items": null,
       "left": null,
       "margin": null,
       "max_height": null,
       "max_width": null,
       "min_height": null,
       "min_width": null,
       "object_fit": null,
       "object_position": null,
       "order": null,
       "overflow": null,
       "overflow_x": null,
       "overflow_y": null,
       "padding": null,
       "right": null,
       "top": null,
       "visibility": null,
       "width": null
      }
     },
     "b13ce6bec4264e7490e35626b76cb6d9": {
      "model_module": "@jupyter-widgets/controls",
      "model_module_version": "1.5.0",
      "model_name": "DescriptionStyleModel",
      "state": {
       "_model_module": "@jupyter-widgets/controls",
       "_model_module_version": "1.5.0",
       "_model_name": "DescriptionStyleModel",
       "_view_count": null,
       "_view_module": "@jupyter-widgets/base",
       "_view_module_version": "1.2.0",
       "_view_name": "StyleView",
       "description_width": ""
      }
     },
     "bd74a2abf29146ef9edadbdfe4d7f58e": {
      "model_module": "@jupyter-widgets/base",
      "model_module_version": "1.2.0",
      "model_name": "LayoutModel",
      "state": {
       "_model_module": "@jupyter-widgets/base",
       "_model_module_version": "1.2.0",
       "_model_name": "LayoutModel",
       "_view_count": null,
       "_view_module": "@jupyter-widgets/base",
       "_view_module_version": "1.2.0",
       "_view_name": "LayoutView",
       "align_content": null,
       "align_items": null,
       "align_self": null,
       "border": null,
       "bottom": null,
       "display": null,
       "flex": null,
       "flex_flow": null,
       "grid_area": null,
       "grid_auto_columns": null,
       "grid_auto_flow": null,
       "grid_auto_rows": null,
       "grid_column": null,
       "grid_gap": null,
       "grid_row": null,
       "grid_template_areas": null,
       "grid_template_columns": null,
       "grid_template_rows": null,
       "height": null,
       "justify_content": null,
       "justify_items": null,
       "left": null,
       "margin": null,
       "max_height": null,
       "max_width": null,
       "min_height": null,
       "min_width": null,
       "object_fit": null,
       "object_position": null,
       "order": null,
       "overflow": null,
       "overflow_x": null,
       "overflow_y": null,
       "padding": null,
       "right": null,
       "top": null,
       "visibility": null,
       "width": null
      }
     },
     "c05e475263564eaa876c3f6ab7c0dc9c": {
      "model_module": "@jupyter-widgets/base",
      "model_module_version": "1.2.0",
      "model_name": "LayoutModel",
      "state": {
       "_model_module": "@jupyter-widgets/base",
       "_model_module_version": "1.2.0",
       "_model_name": "LayoutModel",
       "_view_count": null,
       "_view_module": "@jupyter-widgets/base",
       "_view_module_version": "1.2.0",
       "_view_name": "LayoutView",
       "align_content": null,
       "align_items": null,
       "align_self": null,
       "border": null,
       "bottom": null,
       "display": null,
       "flex": null,
       "flex_flow": null,
       "grid_area": null,
       "grid_auto_columns": null,
       "grid_auto_flow": null,
       "grid_auto_rows": null,
       "grid_column": null,
       "grid_gap": null,
       "grid_row": null,
       "grid_template_areas": null,
       "grid_template_columns": null,
       "grid_template_rows": null,
       "height": null,
       "justify_content": null,
       "justify_items": null,
       "left": null,
       "margin": null,
       "max_height": null,
       "max_width": null,
       "min_height": null,
       "min_width": null,
       "object_fit": null,
       "object_position": null,
       "order": null,
       "overflow": null,
       "overflow_x": null,
       "overflow_y": null,
       "padding": null,
       "right": null,
       "top": null,
       "visibility": null,
       "width": null
      }
     },
     "c4175bca047b4bcaab734b0c8aa84477": {
      "model_module": "@jupyter-widgets/controls",
      "model_module_version": "1.5.0",
      "model_name": "TabModel",
      "state": {
       "_dom_classes": [],
       "_model_module": "@jupyter-widgets/controls",
       "_model_module_version": "1.5.0",
       "_model_name": "TabModel",
       "_titles": {
        "0": "tljh-voila-gallery",
        "1": "voila",
        "2": "voila-dashboards.github.io",
        "3": "voila-gridstack",
        "4": "voila-material"
       },
       "_view_count": null,
       "_view_module": "@jupyter-widgets/controls",
       "_view_module_version": "1.5.0",
       "_view_name": "TabView",
       "box_style": "",
       "children": [
        "IPY_MODEL_9966b59f72a64f529b892c78db5e5a4e",
        "IPY_MODEL_023825449c35485fa17028d81bb277ac",
        "IPY_MODEL_a670d4b553ef4c7d8008a7f0da0e4a19",
        "IPY_MODEL_15af7f3e7a124b1d83e16f3ff2a9b3c9",
        "IPY_MODEL_fbdd9e6ca8dc46898999a5f608f51781"
       ],
       "layout": "IPY_MODEL_2e85e170ac034ae49fdf41b613a95510",
       "selected_index": 0
      }
     },
     "e0b434238979483a994d896add2e1cd3": {
      "model_module": "@jupyter-widgets/controls",
      "model_module_version": "1.5.0",
      "model_name": "HTMLModel",
      "state": {
       "_dom_classes": [],
       "_model_module": "@jupyter-widgets/controls",
       "_model_module_version": "1.5.0",
       "_model_name": "HTMLModel",
       "_view_count": null,
       "_view_module": "@jupyter-widgets/controls",
       "_view_module_version": "1.5.0",
       "_view_name": "HTMLView",
       "description": "",
       "description_tooltip": null,
       "layout": "IPY_MODEL_546bea6af3d048a2a62ff9e6874b6832",
       "placeholder": "​",
       "style": "IPY_MODEL_26160639e2384a2181b7f42c719c999d",
       "value": "<h5><a href=\"https://github.com/voila-dashboards/tljh-voila-gallery\">voila-dashboards/tljh-voila-gallery</a></h5>\n<ul>\n<li><a href=\"https://github.com/voila-dashboards/tljh-voila-gallery/issues/90\">(#90)</a>: _Adding authentication _ by <strong><a href=\"https://github.com/tomnewg\">@tomnewg</a></strong></li>\n</ul>"
      }
     },
     "e171b0e67e634485b8d869bab93505a9": {
      "model_module": "@jupyter-widgets/controls",
      "model_module_version": "1.5.0",
      "model_name": "HTMLModel",
      "state": {
       "_dom_classes": [],
       "_model_module": "@jupyter-widgets/controls",
       "_model_module_version": "1.5.0",
       "_model_name": "HTMLModel",
       "_view_count": null,
       "_view_module": "@jupyter-widgets/controls",
       "_view_module_version": "1.5.0",
       "_view_name": "HTMLView",
       "description": "",
       "description_tooltip": null,
       "layout": "IPY_MODEL_a2053f725ae740c4ac64bb6263bc46b9",
       "placeholder": "​",
       "style": "IPY_MODEL_fa5ca192d756487fa5f8a974c95c8dc2",
       "value": "<h5><a href=\"https://github.com/voila-dashboards/voila-dashboards.github.io\">voila-dashboards/voila-dashboards.github.io</a></h5>\n<ul>\n<li><a href=\"https://github.com/voila-dashboards/voila-dashboards.github.io/issues/14\">(#14)</a>: <em>Move to a bi-weekly schedule?</em> by <strong><a href=\"https://github.com/jtpio\">@jtpio</a></strong></li>\n</ul>"
      }
     },
     "e51423b126dd42d8afe99f64d9062dfe": {
      "model_module": "@jupyter-widgets/controls",
      "model_module_version": "1.5.0",
      "model_name": "HTMLModel",
      "state": {
       "_dom_classes": [],
       "_model_module": "@jupyter-widgets/controls",
       "_model_module_version": "1.5.0",
       "_model_name": "HTMLModel",
       "_view_count": null,
       "_view_module": "@jupyter-widgets/controls",
       "_view_module_version": "1.5.0",
       "_view_name": "HTMLView",
       "description": "",
       "description_tooltip": null,
       "layout": "IPY_MODEL_e6e63b4133f94d3cafb92b5886eba1d4",
       "placeholder": "​",
       "style": "IPY_MODEL_2c1d5eeb087a4c52835e0599d51a2632",
       "value": "<h5><a href=\"https://github.com/voila-dashboards/voila\">voila-dashboards/voila</a></h5>\n<ul>\n<li><a href=\"https://github.com/voila-dashboards/voila/issues/627\">(#627)</a>: <em>Custom Widget results are not shown on voila dashboard.</em> by <strong><a href=\"https://github.com/sackh\">@sackh</a></strong></li>\n<li><a href=\"https://github.com/voila-dashboards/voila/issues/648\">(#648)</a>: <em>Unable to see pymc3 progressbar running in Voila-dashboard view</em> by <strong><a href=\"https://github.com/atharvahans1\">@atharvahans1</a></strong></li>\n<li><a href=\"https://github.com/voila-dashboards/voila/issues/641\">(#641)</a>: <em>Voila on Heroku - error connecting to mongodb</em> by <strong><a href=\"https://github.com/tomnewg\">@tomnewg</a></strong></li>\n</ul>"
      }
     },
     "e6e63b4133f94d3cafb92b5886eba1d4": {
      "model_module": "@jupyter-widgets/base",
      "model_module_version": "1.2.0",
      "model_name": "LayoutModel",
      "state": {
       "_model_module": "@jupyter-widgets/base",
       "_model_module_version": "1.2.0",
       "_model_name": "LayoutModel",
       "_view_count": null,
       "_view_module": "@jupyter-widgets/base",
       "_view_module_version": "1.2.0",
       "_view_name": "LayoutView",
       "align_content": null,
       "align_items": null,
       "align_self": null,
       "border": null,
       "bottom": null,
       "display": null,
       "flex": null,
       "flex_flow": null,
       "grid_area": null,
       "grid_auto_columns": null,
       "grid_auto_flow": null,
       "grid_auto_rows": null,
       "grid_column": null,
       "grid_gap": null,
       "grid_row": null,
       "grid_template_areas": null,
       "grid_template_columns": null,
       "grid_template_rows": null,
       "height": null,
       "justify_content": null,
       "justify_items": null,
       "left": null,
       "margin": null,
       "max_height": null,
       "max_width": null,
       "min_height": null,
       "min_width": null,
       "object_fit": null,
       "object_position": null,
       "order": null,
       "overflow": null,
       "overflow_x": null,
       "overflow_y": null,
       "padding": null,
       "right": null,
       "top": null,
       "visibility": null,
       "width": null
      }
     },
     "ef4af8eecf9949e6945ae83ef4363484": {
      "model_module": "@jupyter-widgets/base",
      "model_module_version": "1.2.0",
      "model_name": "LayoutModel",
      "state": {
       "_model_module": "@jupyter-widgets/base",
       "_model_module_version": "1.2.0",
       "_model_name": "LayoutModel",
       "_view_count": null,
       "_view_module": "@jupyter-widgets/base",
       "_view_module_version": "1.2.0",
       "_view_name": "LayoutView",
       "align_content": null,
       "align_items": null,
       "align_self": null,
       "border": null,
       "bottom": null,
       "display": null,
       "flex": null,
       "flex_flow": null,
       "grid_area": null,
       "grid_auto_columns": null,
       "grid_auto_flow": null,
       "grid_auto_rows": null,
       "grid_column": null,
       "grid_gap": null,
       "grid_row": null,
       "grid_template_areas": null,
       "grid_template_columns": null,
       "grid_template_rows": null,
       "height": null,
       "justify_content": null,
       "justify_items": null,
       "left": null,
       "margin": null,
       "max_height": null,
       "max_width": null,
       "min_height": null,
       "min_width": null,
       "object_fit": null,
       "object_position": null,
       "order": null,
       "overflow": null,
       "overflow_x": null,
       "overflow_y": null,
       "padding": null,
       "right": null,
       "top": null,
       "visibility": null,
       "width": null
      }
     },
     "f2ba6665ca7c4daea15fb49e06fc8697": {
      "model_module": "@jupyter-widgets/base",
      "model_module_version": "1.2.0",
      "model_name": "LayoutModel",
      "state": {
       "_model_module": "@jupyter-widgets/base",
       "_model_module_version": "1.2.0",
       "_model_name": "LayoutModel",
       "_view_count": null,
       "_view_module": "@jupyter-widgets/base",
       "_view_module_version": "1.2.0",
       "_view_name": "LayoutView",
       "align_content": null,
       "align_items": null,
       "align_self": null,
       "border": null,
       "bottom": null,
       "display": null,
       "flex": null,
       "flex_flow": null,
       "grid_area": null,
       "grid_auto_columns": null,
       "grid_auto_flow": null,
       "grid_auto_rows": null,
       "grid_column": null,
       "grid_gap": null,
       "grid_row": null,
       "grid_template_areas": null,
       "grid_template_columns": null,
       "grid_template_rows": null,
       "height": null,
       "justify_content": null,
       "justify_items": null,
       "left": null,
       "margin": null,
       "max_height": null,
       "max_width": null,
       "min_height": null,
       "min_width": null,
       "object_fit": null,
       "object_position": null,
       "order": null,
       "overflow": null,
       "overflow_x": null,
       "overflow_y": null,
       "padding": null,
       "right": null,
       "top": null,
       "visibility": null,
       "width": null
      }
     },
     "fa5ca192d756487fa5f8a974c95c8dc2": {
      "model_module": "@jupyter-widgets/controls",
      "model_module_version": "1.5.0",
      "model_name": "DescriptionStyleModel",
      "state": {
       "_model_module": "@jupyter-widgets/controls",
       "_model_module_version": "1.5.0",
       "_model_name": "DescriptionStyleModel",
       "_view_count": null,
       "_view_module": "@jupyter-widgets/base",
       "_view_module_version": "1.2.0",
       "_view_name": "StyleView",
       "description_width": ""
      }
     },
     "fbbe2c22184a492d8aaef9a3cf4e1203": {
      "model_module": "@jupyter-widgets/controls",
      "model_module_version": "1.5.0",
      "model_name": "HTMLModel",
      "state": {
       "_dom_classes": [],
       "_model_module": "@jupyter-widgets/controls",
       "_model_module_version": "1.5.0",
       "_model_name": "HTMLModel",
       "_view_count": null,
       "_view_module": "@jupyter-widgets/controls",
       "_view_module_version": "1.5.0",
       "_view_name": "HTMLView",
       "description": "",
       "description_tooltip": null,
       "layout": "IPY_MODEL_0dc173a198e641b0b67831d921a4abdd",
       "placeholder": "​",
       "style": "IPY_MODEL_4232509f384c474caf9b4d3e3419b44b",
       "value": "<h4>Closed PRs for repo: <a href=\"https://github.com/voila-dashboards/voila\">voila-dashboards/voila</a></h4>\n<h5></h5>\n<ul>\n<li><a href=\"https://github.com/voila-dashboards/voila/pull/666\">(#666)</a>: <em>Bump elliptic from 6.4.1 to 6.5.3 in /js</em> by <strong><a href=\"https://github.com/dependabot\">@dependabot</a></strong> merged by <strong><a href=\"https://github.com/maartenbreddels\">@maartenbreddels</a></strong></li>\n<li><a href=\"https://github.com/voila-dashboards/voila/pull/662\">(#662)</a>: <em>Fixup classic template</em> by <strong><a href=\"https://github.com/SylvainCorlay\">@SylvainCorlay</a></strong> merged by <strong><a href=\"https://github.com/SylvainCorlay\">@SylvainCorlay</a></strong></li>\n<li><a href=\"https://github.com/voila-dashboards/voila/pull/656\">(#656)</a>: <em>Fix #624 - Broken link in docs</em> by <strong><a href=\"https://github.com/mourarthur\">@mourarthur</a></strong> merged by <strong><a href=\"https://github.com/SylvainCorlay\">@SylvainCorlay</a></strong></li>\n<li><a href=\"https://github.com/voila-dashboards/voila/pull/655\">(#655)</a>: <em>Add docs for the theme option</em> by <strong><a href=\"https://github.com/martinRenou\">@martinRenou</a></strong> merged by <strong><a href=\"https://github.com/jtpio\">@jtpio</a></strong></li>\n<li><a href=\"https://github.com/voila-dashboards/voila/pull/653\">(#653)</a>: <em>Bump lodash from 4.17.15 to 4.17.19 in /packages/jupyterlab-voila</em> by <strong><a href=\"https://github.com/dependabot\">@dependabot</a></strong> merged by <strong><a href=\"https://github.com/martinRenou\">@martinRenou</a></strong></li>\n<li><a href=\"https://github.com/voila-dashboards/voila/pull/652\">(#652)</a>: <em>Bump lodash from 4.17.15 to 4.17.19 in /js</em> by <strong><a href=\"https://github.com/dependabot\">@dependabot</a></strong> merged by <strong><a href=\"https://github.com/martinRenou\">@martinRenou</a></strong></li>\n<li><a href=\"https://github.com/voila-dashboards/voila/pull/650\">(#650)</a>: <em>Remove extra <code>&gt;</code> in the customizing docs</em> by <strong><a href=\"https://github.com/jtpio\">@jtpio</a></strong> merged by <strong><a href=\"https://github.com/jtpio\">@jtpio</a></strong></li>\n<li><a href=\"https://github.com/voila-dashboards/voila/pull/643\">(#643)</a>: <em>fix: use template_paths instead of old template_path</em> by <strong><a href=\"https://github.com/maartenbreddels\">@maartenbreddels</a></strong> merged by <strong><a href=\"https://github.com/maartenbreddels\">@maartenbreddels</a></strong></li>\n<li><a href=\"https://github.com/voila-dashboards/voila/pull/639\">(#639)</a>: <em>Remove Voilà CSS preprocessor</em> by <strong><a href=\"https://github.com/SylvainCorlay\">@SylvainCorlay</a></strong> merged by <strong><a href=\"https://github.com/SylvainCorlay\">@SylvainCorlay</a></strong></li>\n<li><a href=\"https://github.com/voila-dashboards/voila/pull/636\">(#636)</a>: <em>Spacing and other formatting to docs, avoids build warnings</em> by <strong><a href=\"https://github.com/danlester\">@danlester</a></strong> merged by <strong><a href=\"https://github.com/jtpio\">@jtpio</a></strong></li>\n<li><a href=\"https://github.com/voila-dashboards/voila/pull/633\">(#633)</a>: <em>Update nbclient to stable release</em> by <strong><a href=\"https://github.com/SylvainCorlay\">@SylvainCorlay</a></strong> merged by <strong><a href=\"https://github.com/SylvainCorlay\">@SylvainCorlay</a></strong></li>\n<li><a href=\"https://github.com/voila-dashboards/voila/pull/597\">(#597)</a>: <em>Use async_start_new_kernel_client from nbclient</em> by <strong><a href=\"https://github.com/davidbrochart\">@davidbrochart</a></strong> merged by <strong><a href=\"https://github.com/SylvainCorlay\">@SylvainCorlay</a></strong></li>\n<li><a href=\"https://github.com/voila-dashboards/voila/pull/573\">(#573)</a>: <em>Simplify actions and use mamba</em> by <strong><a href=\"https://github.com/martinRenou\">@martinRenou</a></strong> merged by <strong><a href=\"https://github.com/martinRenou\">@martinRenou</a></strong></li>\n</ul>"
      }
     },
     "fbdd9e6ca8dc46898999a5f608f51781": {
      "model_module": "@jupyter-widgets/controls",
      "model_module_version": "1.5.0",
      "model_name": "HTMLModel",
      "state": {
       "_dom_classes": [],
       "_model_module": "@jupyter-widgets/controls",
       "_model_module_version": "1.5.0",
       "_model_name": "HTMLModel",
       "_view_count": null,
       "_view_module": "@jupyter-widgets/controls",
       "_view_module_version": "1.5.0",
       "_view_name": "HTMLView",
       "description": "",
       "description_tooltip": null,
       "layout": "IPY_MODEL_7be245f81c6c42d3ae2cdf904d6cda34",
       "placeholder": "​",
       "style": "IPY_MODEL_a1eca0d5c26b4f4286eb753b5e0e9e45",
       "value": "<h5><a href=\"https://github.com/voila-dashboards/voila-material\">voila-dashboards/voila-material</a></h5>\n<ul>\n<li><a href=\"https://github.com/voila-dashboards/voila-material/issues/18\">(#18)</a>: <em>Creating of buttons in callback doesn't work</em> by <strong><a href=\"https://github.com/tobyX\">@tobyX</a></strong></li>\n</ul>"
      }
     },
     "fe066a63eb74484c8a608b2062d94160": {
      "model_module": "@jupyter-widgets/controls",
      "model_module_version": "1.5.0",
      "model_name": "IntProgressModel",
      "state": {
       "_dom_classes": [],
       "_model_module": "@jupyter-widgets/controls",
       "_model_module_version": "1.5.0",
       "_model_name": "IntProgressModel",
       "_view_count": null,
       "_view_module": "@jupyter-widgets/controls",
       "_view_module_version": "1.5.0",
       "_view_name": "ProgressView",
       "bar_style": "success",
       "description": "Downloading:",
       "description_tooltip": null,
       "layout": "IPY_MODEL_3b70b1eaffcb4a3d9851e416e567a612",
       "max": 2,
       "min": 0,
       "orientation": "horizontal",
       "style": "IPY_MODEL_49d09c6195314ab3a1ddbda190e6284e",
       "value": 2
      }
     }
    },
    "version_major": 2,
    "version_minor": 0
   }
  }
 },
 "nbformat": 4,
 "nbformat_minor": 4
}