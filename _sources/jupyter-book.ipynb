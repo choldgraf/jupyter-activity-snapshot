{
 "cells": [
  {
   "cell_type": "markdown",
   "id": "b13c24a8",
   "metadata": {
    "papermill": {
     "duration": 0.015507,
     "end_time": "2025-05-19T01:30:51.934901",
     "exception": false,
     "start_time": "2025-05-19T01:30:51.919394",
     "status": "completed"
    },
    "tags": []
   },
   "source": [
    "# {glue:text}`jupyter-book_github_org`\n",
    "\n",
    "**Activity from {glue:}`jupyter-book_start` to {glue:}`jupyter-book_stop`**"
   ]
  },
  {
   "cell_type": "code",
   "execution_count": 1,
   "id": "d5149853",
   "metadata": {
    "editable": true,
    "execution": {
     "iopub.execute_input": "2025-05-19T01:30:51.966657Z",
     "iopub.status.busy": "2025-05-19T01:30:51.966380Z",
     "iopub.status.idle": "2025-05-19T01:30:53.860619Z",
     "shell.execute_reply": "2025-05-19T01:30:53.859890Z"
    },
    "papermill": {
     "duration": 1.912076,
     "end_time": "2025-05-19T01:30:53.862015",
     "exception": false,
     "start_time": "2025-05-19T01:30:51.949939",
     "status": "completed"
    },
    "slideshow": {
     "slide_type": ""
    },
    "tags": [
     "remove_cell"
    ]
   },
   "outputs": [],
   "source": [
    "from datetime import date\n",
    "from dateutil.relativedelta import relativedelta\n",
    "from myst_nb import glue\n",
    "import seaborn as sns\n",
    "import pandas as pd\n",
    "import numpy as np\n",
    "import altair as alt\n",
    "from markdown import markdown\n",
    "from IPython.display import Markdown\n",
    "from ipywidgets.widgets import HTML, Tab\n",
    "from ipywidgets import widgets\n",
    "from datetime import timedelta\n",
    "from matplotlib import pyplot as plt\n",
    "import os.path as op\n",
    "from json import loads\n",
    "\n",
    "from warnings import simplefilter\n",
    "simplefilter('ignore')\n",
    "pd.set_option('display.max_columns', None) # 'None' means show all"
   ]
  },
  {
   "cell_type": "code",
   "execution_count": 2,
   "id": "0a559db3",
   "metadata": {
    "editable": true,
    "execution": {
     "iopub.execute_input": "2025-05-19T01:30:53.894265Z",
     "iopub.status.busy": "2025-05-19T01:30:53.893543Z",
     "iopub.status.idle": "2025-05-19T01:30:53.900577Z",
     "shell.execute_reply": "2025-05-19T01:30:53.899892Z"
    },
    "papermill": {
     "duration": 0.02425,
     "end_time": "2025-05-19T01:30:53.901613",
     "exception": false,
     "start_time": "2025-05-19T01:30:53.877363",
     "status": "completed"
    },
    "slideshow": {
     "slide_type": ""
    },
    "tags": [
     "remove_cell"
    ]
   },
   "outputs": [],
   "source": [
    "# Altair config\n",
    "def author_url(author):\n",
    "    return f\"https://github.com/{author}\"\n",
    "\n",
    "def alt_theme():\n",
    "    return {\n",
    "        'config': {\n",
    "            'axisLeft': {\n",
    "                'labelFontSize': 15,\n",
    "            },\n",
    "            'axisBottom': {\n",
    "                'labelFontSize': 15,\n",
    "            },\n",
    "        }\n",
    "    }\n",
    "\n",
    "alt.themes.register('my_theme', alt_theme)\n",
    "alt.themes.enable(\"my_theme\")\n",
    "\n",
    "\n",
    "# Define colors we'll use for GitHub membership\n",
    "author_types = ['MEMBER', 'CONTRIBUTOR', 'COLLABORATOR', \"NONE\"]\n",
    "\n",
    "author_palette = np.array(sns.palettes.blend_palette([\"lightgrey\", \"lightgreen\", \"darkgreen\"], 4)) * 256\n",
    "author_colors = [\"rgb({}, {}, {})\".format(*color) for color in author_palette]\n",
    "author_color_dict = {key: val for key, val in zip(author_types, author_palette)}"
   ]
  },
  {
   "cell_type": "code",
   "execution_count": 3,
   "id": "7cbb0dd2",
   "metadata": {
    "editable": true,
    "execution": {
     "iopub.execute_input": "2025-05-19T01:30:53.931881Z",
     "iopub.status.busy": "2025-05-19T01:30:53.931223Z",
     "iopub.status.idle": "2025-05-19T01:30:53.934715Z",
     "shell.execute_reply": "2025-05-19T01:30:53.934174Z"
    },
    "papermill": {
     "duration": 0.019832,
     "end_time": "2025-05-19T01:30:53.935707",
     "exception": false,
     "start_time": "2025-05-19T01:30:53.915875",
     "status": "completed"
    },
    "slideshow": {
     "slide_type": ""
    },
    "tags": [
     "parameters",
     "hide_input",
     "remove_cell"
    ]
   },
   "outputs": [],
   "source": [
    "github_org = \"jupyterhub\"\n",
    "top_n_repos = 15\n",
    "n_days = 90"
   ]
  },
  {
   "cell_type": "code",
   "execution_count": 4,
   "id": "5286d2c3",
   "metadata": {
    "execution": {
     "iopub.execute_input": "2025-05-19T01:30:53.966021Z",
     "iopub.status.busy": "2025-05-19T01:30:53.965432Z",
     "iopub.status.idle": "2025-05-19T01:30:53.968814Z",
     "shell.execute_reply": "2025-05-19T01:30:53.968152Z"
    },
    "papermill": {
     "duration": 0.019815,
     "end_time": "2025-05-19T01:30:53.969931",
     "exception": false,
     "start_time": "2025-05-19T01:30:53.950116",
     "status": "completed"
    },
    "tags": [
     "injected-parameters",
     "remove-cell"
    ]
   },
   "outputs": [],
   "source": [
    "# Parameters\n",
    "github_org = \"jupyter-book\"\n",
    "n_days = 90\n"
   ]
  },
  {
   "cell_type": "code",
   "execution_count": 5,
   "id": "87b59f6d",
   "metadata": {
    "editable": true,
    "execution": {
     "iopub.execute_input": "2025-05-19T01:30:54.000252Z",
     "iopub.status.busy": "2025-05-19T01:30:53.999845Z",
     "iopub.status.idle": "2025-05-19T01:30:54.086577Z",
     "shell.execute_reply": "2025-05-19T01:30:54.085895Z"
    },
    "papermill": {
     "duration": 0.103109,
     "end_time": "2025-05-19T01:30:54.087660",
     "exception": false,
     "start_time": "2025-05-19T01:30:53.984551",
     "status": "completed"
    },
    "slideshow": {
     "slide_type": ""
    },
    "tags": [
     "remove_cell"
    ]
   },
   "outputs": [
    {
     "data": {
      "application/papermill.record/text/plain": "'jupyter-book'"
     },
     "metadata": {
      "scrapbook": {
       "mime_prefix": "application/papermill.record/",
       "name": "jupyter-book_github_org"
      }
     },
     "output_type": "display_data"
    },
    {
     "data": {
      "application/papermill.record/text/plain": "'2025-02-18'"
     },
     "metadata": {
      "scrapbook": {
       "mime_prefix": "application/papermill.record/",
       "name": "jupyter-book_start"
      }
     },
     "output_type": "display_data"
    },
    {
     "data": {
      "application/papermill.record/text/plain": "'2025-05-19'"
     },
     "metadata": {
      "scrapbook": {
       "mime_prefix": "application/papermill.record/",
       "name": "jupyter-book_stop"
      }
     },
     "output_type": "display_data"
    }
   ],
   "source": [
    "############################################################\n",
    "# Variables\n",
    "stop = date.today()\n",
    "start = date.today() - relativedelta(days=n_days)\n",
    "\n",
    "# Strings for use in queries\n",
    "start_date = f\"{start:%Y-%m-%d}\"\n",
    "stop_date = f\"{stop:%Y-%m-%d}\"\n",
    "\n",
    "# Glue variables for use in markdown\n",
    "glue(f\"{github_org}_github_org\", github_org, display=False)\n",
    "glue(f\"{github_org}_start\", start_date, display=False)\n",
    "glue(f\"{github_org}_stop\", stop_date, display=False)"
   ]
  },
  {
   "cell_type": "markdown",
   "id": "dbc53622",
   "metadata": {
    "editable": true,
    "papermill": {
     "duration": 0.014499,
     "end_time": "2025-05-19T01:30:54.117058",
     "exception": false,
     "start_time": "2025-05-19T01:30:54.102559",
     "status": "completed"
    },
    "slideshow": {
     "slide_type": ""
    },
    "tags": []
   },
   "source": [
    "## Load data\n",
    "\n",
    "Load and clean up the data"
   ]
  },
  {
   "cell_type": "code",
   "execution_count": 6,
   "id": "52784702",
   "metadata": {
    "editable": true,
    "execution": {
     "iopub.execute_input": "2025-05-19T01:30:54.150093Z",
     "iopub.status.busy": "2025-05-19T01:30:54.149629Z",
     "iopub.status.idle": "2025-05-19T01:30:54.154374Z",
     "shell.execute_reply": "2025-05-19T01:30:54.153819Z"
    },
    "papermill": {
     "duration": 0.022721,
     "end_time": "2025-05-19T01:30:54.155318",
     "exception": false,
     "start_time": "2025-05-19T01:30:54.132597",
     "status": "completed"
    },
    "slideshow": {
     "slide_type": ""
    },
    "tags": [
     "remove_cell"
    ]
   },
   "outputs": [],
   "source": [
    "from pathlib import Path\n",
    "import sqlite3\n",
    "path_data = Path(\"../data\")\n",
    "path_data = list(path_data.rglob(f\"*{github_org}.db\"))[0]\n",
    "\n",
    "def df_from_sql(query, db):\n",
    "    con = sqlite3.connect(db)\n",
    "    return pd.read_sql(query, con)\n",
    "    con.close()"
   ]
  },
  {
   "cell_type": "code",
   "execution_count": 7,
   "id": "7e1ff942",
   "metadata": {
    "editable": true,
    "execution": {
     "iopub.execute_input": "2025-05-19T01:30:54.185552Z",
     "iopub.status.busy": "2025-05-19T01:30:54.185125Z",
     "iopub.status.idle": "2025-05-19T01:30:54.386610Z",
     "shell.execute_reply": "2025-05-19T01:30:54.385873Z"
    },
    "papermill": {
     "duration": 0.218076,
     "end_time": "2025-05-19T01:30:54.387790",
     "exception": false,
     "start_time": "2025-05-19T01:30:54.169714",
     "status": "completed"
    },
    "scrolled": true,
    "slideshow": {
     "slide_type": ""
    },
    "tags": [
     "remove_cell"
    ]
   },
   "outputs": [
    {
     "name": "stdout",
     "output_type": "stream",
     "text": [
      "Loading from ../data/612f67cbff44837826a10e815fa2f115-jupyter-book.db\n"
     ]
    }
   ],
   "source": [
    "print(f\"Loading from {path_data}\")\n",
    "repos = df_from_sql(\"SELECT * FROM repos\", path_data)\n",
    "users = df_from_sql(\"SELECT * FROM users\", path_data)\n",
    "issues = df_from_sql(\"SELECT * FROM issues\", path_data)\n",
    "comments = df_from_sql(\"SELECT * FROM issue_comments\", path_data)\n",
    "\n",
    "# Merge repository information into issues\n",
    "def merge_repo_into_df(df, kind):\n",
    "    df = pd.merge(df, users[[\"id\", \"login\"]], left_on=\"user\", right_on=\"id\", suffixes=(\"_issue\", \"_user\"), how=\"inner\")\n",
    "    df = pd.merge(df, repos[[\"id\", \"full_name\", \"name\"]], left_on=\"repo\", right_on=\"id\", suffixes=(\"_issue\", \"_repo\"), how=\"inner\")\n",
    "    df[\"org\"] = df[\"full_name\"].map(lambda a: a.split('/')[0])\n",
    "    df[\"repo\"] = df[\"full_name\"].map(lambda a: a.split('/')[1])\n",
    "    df[\"url\"] = \"https://github.com/\" + df[\"org\"] + \"/\" + df[\"repo\"] + f\"/{kind}/\" + df[\"number\"].astype(str)\n",
    "    return df\n",
    "issues = merge_repo_into_df(issues, kind=\"issues\")\n",
    "\n",
    "# Pull out the Pull Requests from Issues\n",
    "prs = issues.loc[~issues[\"pull_request\"].isna()]\n",
    "def identify_merger(closedby):\n",
    "    if not closedby:\n",
    "        return None\n",
    "    try:\n",
    "        cb = loads(closedby)\n",
    "    except:\n",
    "        print(closedby)\n",
    "    return cb[\"login\"]\n",
    "prs[\"merged_by\"] = prs[\"closed_by\"].map(identify_merger)\n",
    "\n",
    "# These issues now _remove_ the PRs\n",
    "issues = issues.loc[issues[\"pull_request\"].isna()]\n",
    "\n",
    "# Add reactions data\n",
    "def count_positive(a):\n",
    "    a = loads(a)\n",
    "    return a[\"+1\"] + a[\"hooray\"] + a[\"heart\"]\n",
    "issues[\"positive\"] = issues[\"reactions\"].map(count_positive)\n",
    "\n",
    "# Drop comments if there is no associated issue\n",
    "comments = comments.dropna(subset=[\"issue\"])\n",
    "comments[\"issue\"] = comments.loc[:, \"issue\"].astype(int)\n",
    "\n",
    "# Add repository information to comments\n",
    "comments = pd.merge(comments, issues[[\"id_issue\", \"full_name\", \"org\", \"repo\"]], left_on=\"issue\", right_on=\"id_issue\", how=\"inner\", suffixes=(\"_comment\", \"_issue\"))\n",
    "\n",
    "# Merge user data into comments\n",
    "comments = pd.merge(comments, users[[\"id\", \"login\"]], left_on=\"user\", right_on=\"id\", suffixes=(\"_comment\", \"_user\"), how=\"inner\")"
   ]
  },
  {
   "cell_type": "code",
   "execution_count": 8,
   "id": "048ed42f",
   "metadata": {
    "editable": true,
    "execution": {
     "iopub.execute_input": "2025-05-19T01:30:54.420231Z",
     "iopub.status.busy": "2025-05-19T01:30:54.419785Z",
     "iopub.status.idle": "2025-05-19T01:30:54.451752Z",
     "shell.execute_reply": "2025-05-19T01:30:54.451060Z"
    },
    "papermill": {
     "duration": 0.049329,
     "end_time": "2025-05-19T01:30:54.452899",
     "exception": false,
     "start_time": "2025-05-19T01:30:54.403570",
     "status": "completed"
    },
    "slideshow": {
     "slide_type": ""
    },
    "tags": [
     "remove_cell"
    ]
   },
   "outputs": [],
   "source": [
    "# Convert columns to datetime\n",
    "datetime_columns = [\"created_at\", \"closed_at\"]\n",
    "for df in [comments, issues, prs]:\n",
    "    for col in datetime_columns:\n",
    "        if col in df:\n",
    "            df[col] = pd.to_datetime(df[col])\n",
    "            # Strip timezone information so we can run simpler queries\n",
    "            df[col] = df[col].dt.tz_localize(None)"
   ]
  },
  {
   "cell_type": "code",
   "execution_count": 9,
   "id": "3b810d62",
   "metadata": {
    "editable": true,
    "execution": {
     "iopub.execute_input": "2025-05-19T01:30:54.483410Z",
     "iopub.status.busy": "2025-05-19T01:30:54.482963Z",
     "iopub.status.idle": "2025-05-19T01:30:54.494995Z",
     "shell.execute_reply": "2025-05-19T01:30:54.494444Z"
    },
    "papermill": {
     "duration": 0.028452,
     "end_time": "2025-05-19T01:30:54.496143",
     "exception": false,
     "start_time": "2025-05-19T01:30:54.467691",
     "status": "completed"
    },
    "slideshow": {
     "slide_type": ""
    },
    "tags": [
     "remove_cell"
    ]
   },
   "outputs": [],
   "source": [
    "# What are the top N repos, we will only plot these in the full data plots\n",
    "top_commented_repos = comments.groupby(\"repo\").count().sort_values(\"created_at\", ascending=False)['created_at']\n",
    "use_repos = top_commented_repos.head(top_n_repos).index.tolist()"
   ]
  },
  {
   "cell_type": "markdown",
   "id": "58789e51",
   "metadata": {
    "editable": true,
    "papermill": {
     "duration": 0.016099,
     "end_time": "2025-05-19T01:30:54.528613",
     "exception": false,
     "start_time": "2025-05-19T01:30:54.512514",
     "status": "completed"
    },
    "slideshow": {
     "slide_type": ""
    },
    "tags": [],
    "toc-hr-collapsed": false
   },
   "source": [
    "## Merged Pull requests\n",
    "\n",
    "Here's an analysis of **merged pull requests** across each of the repositories in the Jupyter\n",
    "ecosystem."
   ]
  },
  {
   "cell_type": "code",
   "execution_count": 10,
   "id": "6faa5219",
   "metadata": {
    "editable": true,
    "execution": {
     "iopub.execute_input": "2025-05-19T01:30:54.560161Z",
     "iopub.status.busy": "2025-05-19T01:30:54.559526Z",
     "iopub.status.idle": "2025-05-19T01:30:54.570989Z",
     "shell.execute_reply": "2025-05-19T01:30:54.570488Z"
    },
    "papermill": {
     "duration": 0.028344,
     "end_time": "2025-05-19T01:30:54.572031",
     "exception": false,
     "start_time": "2025-05-19T01:30:54.543687",
     "status": "completed"
    },
    "slideshow": {
     "slide_type": ""
    },
    "tags": [
     "remove_cell"
    ]
   },
   "outputs": [],
   "source": [
    "merged = prs.query('state == \"closed\" and closed_at > @start_date and closed_at < @stop_date')"
   ]
  },
  {
   "cell_type": "code",
   "execution_count": 11,
   "id": "7c2e787c",
   "metadata": {
    "editable": true,
    "execution": {
     "iopub.execute_input": "2025-05-19T01:30:54.602809Z",
     "iopub.status.busy": "2025-05-19T01:30:54.602230Z",
     "iopub.status.idle": "2025-05-19T01:30:54.641360Z",
     "shell.execute_reply": "2025-05-19T01:30:54.640791Z"
    },
    "papermill": {
     "duration": 0.055656,
     "end_time": "2025-05-19T01:30:54.642375",
     "exception": false,
     "start_time": "2025-05-19T01:30:54.586719",
     "status": "completed"
    },
    "slideshow": {
     "slide_type": ""
    },
    "tags": [
     "hide_input"
    ]
   },
   "outputs": [
    {
     "data": {
      "text/html": [
       "\n",
       "<style>\n",
       "  #altair-viz-5ad45f66d9024f5684df520ac2d07150.vega-embed {\n",
       "    width: 100%;\n",
       "    display: flex;\n",
       "  }\n",
       "\n",
       "  #altair-viz-5ad45f66d9024f5684df520ac2d07150.vega-embed details,\n",
       "  #altair-viz-5ad45f66d9024f5684df520ac2d07150.vega-embed details summary {\n",
       "    position: relative;\n",
       "  }\n",
       "</style>\n",
       "<div id=\"altair-viz-5ad45f66d9024f5684df520ac2d07150\"></div>\n",
       "<script type=\"text/javascript\">\n",
       "  var VEGA_DEBUG = (typeof VEGA_DEBUG == \"undefined\") ? {} : VEGA_DEBUG;\n",
       "  (function(spec, embedOpt){\n",
       "    let outputDiv = document.currentScript.previousElementSibling;\n",
       "    if (outputDiv.id !== \"altair-viz-5ad45f66d9024f5684df520ac2d07150\") {\n",
       "      outputDiv = document.getElementById(\"altair-viz-5ad45f66d9024f5684df520ac2d07150\");\n",
       "    }\n",
       "\n",
       "    const paths = {\n",
       "      \"vega\": \"https://cdn.jsdelivr.net/npm/vega@5?noext\",\n",
       "      \"vega-lib\": \"https://cdn.jsdelivr.net/npm/vega-lib?noext\",\n",
       "      \"vega-lite\": \"https://cdn.jsdelivr.net/npm/vega-lite@5.20.1?noext\",\n",
       "      \"vega-embed\": \"https://cdn.jsdelivr.net/npm/vega-embed@6?noext\",\n",
       "    };\n",
       "\n",
       "    function maybeLoadScript(lib, version) {\n",
       "      var key = `${lib.replace(\"-\", \"\")}_version`;\n",
       "      return (VEGA_DEBUG[key] == version) ?\n",
       "        Promise.resolve(paths[lib]) :\n",
       "        new Promise(function(resolve, reject) {\n",
       "          var s = document.createElement('script');\n",
       "          document.getElementsByTagName(\"head\")[0].appendChild(s);\n",
       "          s.async = true;\n",
       "          s.onload = () => {\n",
       "            VEGA_DEBUG[key] = version;\n",
       "            return resolve(paths[lib]);\n",
       "          };\n",
       "          s.onerror = () => reject(`Error loading script: ${paths[lib]}`);\n",
       "          s.src = paths[lib];\n",
       "        });\n",
       "    }\n",
       "\n",
       "    function showError(err) {\n",
       "      outputDiv.innerHTML = `<div class=\"error\" style=\"color:red;\">${err}</div>`;\n",
       "      throw err;\n",
       "    }\n",
       "\n",
       "    function displayChart(vegaEmbed) {\n",
       "      vegaEmbed(outputDiv, spec, embedOpt)\n",
       "        .catch(err => showError(`Javascript Error: ${err.message}<br>This usually means there's a typo in your chart specification. See the javascript console for the full traceback.`));\n",
       "    }\n",
       "\n",
       "    if(typeof define === \"function\" && define.amd) {\n",
       "      requirejs.config({paths});\n",
       "      let deps = [\"vega-embed\"];\n",
       "      require(deps, displayChart, err => showError(`Error loading script: ${err.message}`));\n",
       "    } else {\n",
       "      maybeLoadScript(\"vega\", \"5\")\n",
       "        .then(() => maybeLoadScript(\"vega-lite\", \"5.20.1\"))\n",
       "        .then(() => maybeLoadScript(\"vega-embed\", \"6\"))\n",
       "        .catch(showError)\n",
       "        .then(() => displayChart(vegaEmbed));\n",
       "    }\n",
       "  })({\"config\": {\"axisLeft\": {\"labelFontSize\": 15}, \"axisBottom\": {\"labelFontSize\": 15}}, \"data\": {\"name\": \"data-104ae29c962844cb067dadeb8cb3fffa\"}, \"mark\": {\"type\": \"bar\"}, \"encoding\": {\"color\": {\"field\": \"org\", \"type\": \"nominal\"}, \"x\": {\"field\": \"repo\", \"sort\": [\"mystmd\", \"myst-theme\", \"jupyter-book\", \"mystmd.org\", \"team-compass\", \"blog\", \"myst-enhancement-proposals\", \"myst-spec\", \"thebe\"], \"type\": \"nominal\"}, \"y\": {\"field\": \"login\", \"type\": \"quantitative\"}}, \"title\": \"Merged PRs in the last 90 days\", \"$schema\": \"https://vega.github.io/schema/vega-lite/v5.20.1.json\", \"datasets\": {\"data-104ae29c962844cb067dadeb8cb3fffa\": [{\"org\": \"jupyter-book\", \"repo\": \"mystmd\", \"login\": 51}, {\"org\": \"jupyter-book\", \"repo\": \"myst-theme\", \"login\": 33}, {\"org\": \"jupyter-book\", \"repo\": \"jupyter-book\", \"login\": 13}, {\"org\": \"jupyter-book\", \"repo\": \"mystmd.org\", \"login\": 6}, {\"org\": \"jupyter-book\", \"repo\": \"team-compass\", \"login\": 6}, {\"org\": \"jupyter-book\", \"repo\": \"blog\", \"login\": 4}, {\"org\": \"jupyter-book\", \"repo\": \"myst-enhancement-proposals\", \"login\": 1}, {\"org\": \"jupyter-book\", \"repo\": \"myst-spec\", \"login\": 1}, {\"org\": \"jupyter-book\", \"repo\": \"thebe\", \"login\": 1}]}}, {\"mode\": \"vega-lite\"});\n",
       "</script>"
      ],
      "text/plain": [
       "alt.Chart(...)"
      ]
     },
     "execution_count": 11,
     "metadata": {},
     "output_type": "execute_result"
    }
   ],
   "source": [
    "prs_by_repo = merged.groupby(['org', 'repo']).count()['login'].reset_index().sort_values(['org', 'login'], ascending=False)\n",
    "alt.Chart(data=prs_by_repo, title=f\"Merged PRs in the last {n_days} days\").mark_bar().encode(\n",
    "    x=alt.X('repo', sort=prs_by_repo['repo'].values.tolist()),\n",
    "    y='login',\n",
    "    color='org'\n",
    ")"
   ]
  },
  {
   "cell_type": "markdown",
   "id": "5685778c",
   "metadata": {
    "editable": true,
    "papermill": {
     "duration": 0.015711,
     "end_time": "2025-05-19T01:30:54.673803",
     "exception": false,
     "start_time": "2025-05-19T01:30:54.658092",
     "status": "completed"
    },
    "slideshow": {
     "slide_type": ""
    },
    "tags": []
   },
   "source": [
    "### Authoring and merging stats by repository\n",
    "\n",
    "Let's see who has been doing most of the PR authoring and merging. The PR author is generally the\n",
    "person that implemented a change in the repository (code, documentation, etc). The PR merger is\n",
    "the person that \"pressed the green button\" and got the change into the main codebase."
   ]
  },
  {
   "cell_type": "code",
   "execution_count": 12,
   "id": "4a3ca66f",
   "metadata": {
    "editable": true,
    "execution": {
     "iopub.execute_input": "2025-05-19T01:30:54.704957Z",
     "iopub.status.busy": "2025-05-19T01:30:54.704323Z",
     "iopub.status.idle": "2025-05-19T01:30:54.715197Z",
     "shell.execute_reply": "2025-05-19T01:30:54.714644Z"
    },
    "papermill": {
     "duration": 0.027633,
     "end_time": "2025-05-19T01:30:54.716276",
     "exception": false,
     "start_time": "2025-05-19T01:30:54.688643",
     "status": "completed"
    },
    "slideshow": {
     "slide_type": ""
    },
    "tags": [
     "remove_cell"
    ]
   },
   "outputs": [],
   "source": [
    "# Prep our merging DF\n",
    "merged_by_repo = merged.groupby(['repo', 'login'], as_index=False).agg({'id': 'count', 'author_association': 'first'}).rename(columns={'id': \"authored\", 'login': 'username'})\n",
    "closed_by_repo = merged.groupby(['name', 'merged_by']).count()['id_issue'].reset_index().rename(columns={'id_issue': \"closed\", \"merged_by\": \"username\"})"
   ]
  },
  {
   "cell_type": "code",
   "execution_count": 13,
   "id": "94add97b",
   "metadata": {
    "editable": true,
    "execution": {
     "iopub.execute_input": "2025-05-19T01:30:54.747253Z",
     "iopub.status.busy": "2025-05-19T01:30:54.747001Z",
     "iopub.status.idle": "2025-05-19T01:30:54.771453Z",
     "shell.execute_reply": "2025-05-19T01:30:54.770867Z"
    },
    "papermill": {
     "duration": 0.041202,
     "end_time": "2025-05-19T01:30:54.772453",
     "exception": false,
     "start_time": "2025-05-19T01:30:54.731251",
     "status": "completed"
    },
    "slideshow": {
     "slide_type": ""
    },
    "tags": [
     "hide_input"
    ]
   },
   "outputs": [
    {
     "data": {
      "text/html": [
       "\n",
       "<style>\n",
       "  #altair-viz-e080eca7d7cf4b528cd98808606b7355.vega-embed {\n",
       "    width: 100%;\n",
       "    display: flex;\n",
       "  }\n",
       "\n",
       "  #altair-viz-e080eca7d7cf4b528cd98808606b7355.vega-embed details,\n",
       "  #altair-viz-e080eca7d7cf4b528cd98808606b7355.vega-embed details summary {\n",
       "    position: relative;\n",
       "  }\n",
       "</style>\n",
       "<div id=\"altair-viz-e080eca7d7cf4b528cd98808606b7355\"></div>\n",
       "<script type=\"text/javascript\">\n",
       "  var VEGA_DEBUG = (typeof VEGA_DEBUG == \"undefined\") ? {} : VEGA_DEBUG;\n",
       "  (function(spec, embedOpt){\n",
       "    let outputDiv = document.currentScript.previousElementSibling;\n",
       "    if (outputDiv.id !== \"altair-viz-e080eca7d7cf4b528cd98808606b7355\") {\n",
       "      outputDiv = document.getElementById(\"altair-viz-e080eca7d7cf4b528cd98808606b7355\");\n",
       "    }\n",
       "\n",
       "    const paths = {\n",
       "      \"vega\": \"https://cdn.jsdelivr.net/npm/vega@5?noext\",\n",
       "      \"vega-lib\": \"https://cdn.jsdelivr.net/npm/vega-lib?noext\",\n",
       "      \"vega-lite\": \"https://cdn.jsdelivr.net/npm/vega-lite@5.20.1?noext\",\n",
       "      \"vega-embed\": \"https://cdn.jsdelivr.net/npm/vega-embed@6?noext\",\n",
       "    };\n",
       "\n",
       "    function maybeLoadScript(lib, version) {\n",
       "      var key = `${lib.replace(\"-\", \"\")}_version`;\n",
       "      return (VEGA_DEBUG[key] == version) ?\n",
       "        Promise.resolve(paths[lib]) :\n",
       "        new Promise(function(resolve, reject) {\n",
       "          var s = document.createElement('script');\n",
       "          document.getElementsByTagName(\"head\")[0].appendChild(s);\n",
       "          s.async = true;\n",
       "          s.onload = () => {\n",
       "            VEGA_DEBUG[key] = version;\n",
       "            return resolve(paths[lib]);\n",
       "          };\n",
       "          s.onerror = () => reject(`Error loading script: ${paths[lib]}`);\n",
       "          s.src = paths[lib];\n",
       "        });\n",
       "    }\n",
       "\n",
       "    function showError(err) {\n",
       "      outputDiv.innerHTML = `<div class=\"error\" style=\"color:red;\">${err}</div>`;\n",
       "      throw err;\n",
       "    }\n",
       "\n",
       "    function displayChart(vegaEmbed) {\n",
       "      vegaEmbed(outputDiv, spec, embedOpt)\n",
       "        .catch(err => showError(`Javascript Error: ${err.message}<br>This usually means there's a typo in your chart specification. See the javascript console for the full traceback.`));\n",
       "    }\n",
       "\n",
       "    if(typeof define === \"function\" && define.amd) {\n",
       "      requirejs.config({paths});\n",
       "      let deps = [\"vega-embed\"];\n",
       "      require(deps, displayChart, err => showError(`Error loading script: ${err.message}`));\n",
       "    } else {\n",
       "      maybeLoadScript(\"vega\", \"5\")\n",
       "        .then(() => maybeLoadScript(\"vega-lite\", \"5.20.1\"))\n",
       "        .then(() => maybeLoadScript(\"vega-embed\", \"6\"))\n",
       "        .catch(showError)\n",
       "        .then(() => displayChart(vegaEmbed));\n",
       "    }\n",
       "  })({\"config\": {\"axisLeft\": {\"labelFontSize\": 15}, \"axisBottom\": {\"labelFontSize\": 15}}, \"data\": {\"name\": \"data-121c1a0309afd4f66f4ad825f9d3d972\"}, \"mark\": {\"type\": \"bar\"}, \"encoding\": {\"color\": {\"field\": \"author_association\", \"scale\": {\"domain\": [\"MEMBER\", \"CONTRIBUTOR\", \"COLLABORATOR\", \"NONE\"], \"range\": [\"rgb(211.82745098039214, 211.82745098039214, 211.82745098039214)\", \"rgb(166.98562091503268, 229.89803921568628, 166.98562091503268)\", \"rgb(96.37647058823529, 192.75294117647059, 96.37647058823529)\", \"rgb(0.0, 100.3921568627451, 0.0)\"]}, \"type\": \"nominal\"}, \"x\": {\"field\": \"username\", \"type\": \"nominal\"}, \"y\": {\"field\": \"authored\", \"type\": \"quantitative\"}}, \"title\": \"PR authors for jupyter-book in the last 90 days\", \"$schema\": \"https://vega.github.io/schema/vega-lite/v5.20.1.json\", \"datasets\": {\"data-121c1a0309afd4f66f4ad825f9d3d972\": [{\"username\": \"agoose77\", \"authored\": 50, \"author_association\": \"MEMBER\"}, {\"username\": \"choldgraf\", \"authored\": 20, \"author_association\": \"MEMBER\"}, {\"username\": \"rowanc1\", \"authored\": 12, \"author_association\": \"MEMBER\"}, {\"username\": \"github-actions[bot]\", \"authored\": 9, \"author_association\": \"CONTRIBUTOR\"}, {\"username\": \"stefanv\", \"authored\": 5, \"author_association\": \"COLLABORATOR\"}, {\"username\": \"fwkoch\", \"authored\": 4, \"author_association\": \"MEMBER\"}, {\"username\": \"stevejpurves\", \"authored\": 3, \"author_association\": \"MEMBER\"}, {\"username\": \"JimMadge\", \"authored\": 3, \"author_association\": \"NONE\"}, {\"username\": \"FernandoBasso\", \"authored\": 1, \"author_association\": \"CONTRIBUTOR\"}, {\"username\": \"StefanRR\", \"authored\": 1, \"author_association\": \"CONTRIBUTOR\"}, {\"username\": \"fperez\", \"authored\": 1, \"author_association\": \"CONTRIBUTOR\"}, {\"username\": \"da5nsy\", \"authored\": 1, \"author_association\": \"CONTRIBUTOR\"}, {\"username\": \"bsipocz\", \"authored\": 1, \"author_association\": \"CONTRIBUTOR\"}, {\"username\": \"alanrice\", \"authored\": 1, \"author_association\": \"CONTRIBUTOR\"}, {\"username\": \"RHammond2\", \"authored\": 1, \"author_association\": \"NONE\"}, {\"username\": \"kne42\", \"authored\": 1, \"author_association\": \"CONTRIBUTOR\"}, {\"username\": \"nmielec\", \"authored\": 1, \"author_association\": \"CONTRIBUTOR\"}, {\"username\": \"parmentelat\", \"authored\": 1, \"author_association\": \"CONTRIBUTOR\"}]}}, {\"mode\": \"vega-lite\"});\n",
       "</script>"
      ],
      "text/plain": [
       "alt.Chart(...)"
      ]
     },
     "execution_count": 13,
     "metadata": {},
     "output_type": "execute_result"
    }
   ],
   "source": [
    "charts = []\n",
    "title = f\"PR authors for {github_org} in the last {n_days} days\"\n",
    "this_data = merged_by_repo.replace(np.nan, 0).groupby('username', as_index=False).agg({'authored': 'sum', 'author_association': 'first'})\n",
    "this_data = this_data.sort_values('authored', ascending=False)\n",
    "ch = alt.Chart(data=this_data, title=title).mark_bar().encode(\n",
    "    x='username',\n",
    "    y='authored',\n",
    "    color=alt.Color('author_association', scale=alt.Scale(domain=author_types, range=author_colors))\n",
    ")\n",
    "ch"
   ]
  },
  {
   "cell_type": "code",
   "execution_count": 14,
   "id": "60094f9d",
   "metadata": {
    "editable": true,
    "execution": {
     "iopub.execute_input": "2025-05-19T01:30:54.805810Z",
     "iopub.status.busy": "2025-05-19T01:30:54.805304Z",
     "iopub.status.idle": "2025-05-19T01:30:54.824440Z",
     "shell.execute_reply": "2025-05-19T01:30:54.823870Z"
    },
    "papermill": {
     "duration": 0.037353,
     "end_time": "2025-05-19T01:30:54.825546",
     "exception": false,
     "start_time": "2025-05-19T01:30:54.788193",
     "status": "completed"
    },
    "slideshow": {
     "slide_type": ""
    },
    "tags": [
     "hide_input"
    ]
   },
   "outputs": [
    {
     "data": {
      "text/html": [
       "\n",
       "<style>\n",
       "  #altair-viz-002c45860ced477689f843321e209f16.vega-embed {\n",
       "    width: 100%;\n",
       "    display: flex;\n",
       "  }\n",
       "\n",
       "  #altair-viz-002c45860ced477689f843321e209f16.vega-embed details,\n",
       "  #altair-viz-002c45860ced477689f843321e209f16.vega-embed details summary {\n",
       "    position: relative;\n",
       "  }\n",
       "</style>\n",
       "<div id=\"altair-viz-002c45860ced477689f843321e209f16\"></div>\n",
       "<script type=\"text/javascript\">\n",
       "  var VEGA_DEBUG = (typeof VEGA_DEBUG == \"undefined\") ? {} : VEGA_DEBUG;\n",
       "  (function(spec, embedOpt){\n",
       "    let outputDiv = document.currentScript.previousElementSibling;\n",
       "    if (outputDiv.id !== \"altair-viz-002c45860ced477689f843321e209f16\") {\n",
       "      outputDiv = document.getElementById(\"altair-viz-002c45860ced477689f843321e209f16\");\n",
       "    }\n",
       "\n",
       "    const paths = {\n",
       "      \"vega\": \"https://cdn.jsdelivr.net/npm/vega@5?noext\",\n",
       "      \"vega-lib\": \"https://cdn.jsdelivr.net/npm/vega-lib?noext\",\n",
       "      \"vega-lite\": \"https://cdn.jsdelivr.net/npm/vega-lite@5.20.1?noext\",\n",
       "      \"vega-embed\": \"https://cdn.jsdelivr.net/npm/vega-embed@6?noext\",\n",
       "    };\n",
       "\n",
       "    function maybeLoadScript(lib, version) {\n",
       "      var key = `${lib.replace(\"-\", \"\")}_version`;\n",
       "      return (VEGA_DEBUG[key] == version) ?\n",
       "        Promise.resolve(paths[lib]) :\n",
       "        new Promise(function(resolve, reject) {\n",
       "          var s = document.createElement('script');\n",
       "          document.getElementsByTagName(\"head\")[0].appendChild(s);\n",
       "          s.async = true;\n",
       "          s.onload = () => {\n",
       "            VEGA_DEBUG[key] = version;\n",
       "            return resolve(paths[lib]);\n",
       "          };\n",
       "          s.onerror = () => reject(`Error loading script: ${paths[lib]}`);\n",
       "          s.src = paths[lib];\n",
       "        });\n",
       "    }\n",
       "\n",
       "    function showError(err) {\n",
       "      outputDiv.innerHTML = `<div class=\"error\" style=\"color:red;\">${err}</div>`;\n",
       "      throw err;\n",
       "    }\n",
       "\n",
       "    function displayChart(vegaEmbed) {\n",
       "      vegaEmbed(outputDiv, spec, embedOpt)\n",
       "        .catch(err => showError(`Javascript Error: ${err.message}<br>This usually means there's a typo in your chart specification. See the javascript console for the full traceback.`));\n",
       "    }\n",
       "\n",
       "    if(typeof define === \"function\" && define.amd) {\n",
       "      requirejs.config({paths});\n",
       "      let deps = [\"vega-embed\"];\n",
       "      require(deps, displayChart, err => showError(`Error loading script: ${err.message}`));\n",
       "    } else {\n",
       "      maybeLoadScript(\"vega\", \"5\")\n",
       "        .then(() => maybeLoadScript(\"vega-lite\", \"5.20.1\"))\n",
       "        .then(() => maybeLoadScript(\"vega-embed\", \"6\"))\n",
       "        .catch(showError)\n",
       "        .then(() => displayChart(vegaEmbed));\n",
       "    }\n",
       "  })({\"config\": {\"axisLeft\": {\"labelFontSize\": 15}, \"axisBottom\": {\"labelFontSize\": 15}}, \"data\": {\"name\": \"data-c9e91ac255218e448d9e0f024cc49a83\"}, \"mark\": {\"type\": \"bar\"}, \"encoding\": {\"x\": {\"field\": \"username\", \"type\": \"nominal\"}, \"y\": {\"field\": \"closed\", \"type\": \"quantitative\"}}, \"title\": \"Users that have merged PRs for jupyter-book in the last 90 days\", \"$schema\": \"https://vega.github.io/schema/vega-lite/v5.20.1.json\", \"datasets\": {\"data-c9e91ac255218e448d9e0f024cc49a83\": [{\"name\": \"blog\", \"username\": \"agoose77\", \"closed\": 3}, {\"name\": \"blog\", \"username\": \"choldgraf\", \"closed\": 1}, {\"name\": \"jupyter-book\", \"username\": \"agoose77\", \"closed\": 12}, {\"name\": \"jupyter-book\", \"username\": \"choldgraf\", \"closed\": 1}, {\"name\": \"myst-enhancement-proposals\", \"username\": \"agoose77\", \"closed\": 1}, {\"name\": \"myst-spec\", \"username\": \"choldgraf\", \"closed\": 1}, {\"name\": \"myst-theme\", \"username\": \"agoose77\", \"closed\": 12}, {\"name\": \"myst-theme\", \"username\": \"choldgraf\", \"closed\": 1}, {\"name\": \"myst-theme\", \"username\": \"rowanc1\", \"closed\": 17}, {\"name\": \"myst-theme\", \"username\": \"stevejpurves\", \"closed\": 3}, {\"name\": \"mystmd\", \"username\": \"agoose77\", \"closed\": 13}, {\"name\": \"mystmd\", \"username\": \"choldgraf\", \"closed\": 13}, {\"name\": \"mystmd\", \"username\": \"fwkoch\", \"closed\": 4}, {\"name\": \"mystmd\", \"username\": \"rowanc1\", \"closed\": 19}, {\"name\": \"mystmd\", \"username\": \"stefanv\", \"closed\": 1}, {\"name\": \"mystmd\", \"username\": \"stevejpurves\", \"closed\": 1}, {\"name\": \"mystmd.org\", \"username\": \"agoose77\", \"closed\": 3}, {\"name\": \"mystmd.org\", \"username\": \"choldgraf\", \"closed\": 2}, {\"name\": \"mystmd.org\", \"username\": \"rowanc1\", \"closed\": 1}, {\"name\": \"team-compass\", \"username\": \"agoose77\", \"closed\": 1}, {\"name\": \"team-compass\", \"username\": \"choldgraf\", \"closed\": 5}, {\"name\": \"thebe\", \"username\": \"choldgraf\", \"closed\": 1}]}}, {\"mode\": \"vega-lite\"});\n",
       "</script>"
      ],
      "text/plain": [
       "alt.Chart(...)"
      ]
     },
     "execution_count": 14,
     "metadata": {},
     "output_type": "execute_result"
    }
   ],
   "source": [
    "charts = []\n",
    "title = f\"Users that have merged PRs for {github_org} in the last {n_days} days\"\n",
    "ch = alt.Chart(data=closed_by_repo.replace(np.nan, 0), title=title).mark_bar().encode(\n",
    "    x='username',\n",
    "    y='closed',\n",
    ")\n",
    "ch"
   ]
  },
  {
   "cell_type": "markdown",
   "id": "8776891d",
   "metadata": {
    "editable": true,
    "papermill": {
     "duration": 0.015452,
     "end_time": "2025-05-19T01:30:54.856591",
     "exception": false,
     "start_time": "2025-05-19T01:30:54.841139",
     "status": "completed"
    },
    "slideshow": {
     "slide_type": ""
    },
    "tags": []
   },
   "source": [
    "## Issues\n",
    "\n",
    "Issues are **conversations** that happen on our GitHub repositories. Here's an\n",
    "analysis of issues across the Jupyter organizations."
   ]
  },
  {
   "cell_type": "code",
   "execution_count": 15,
   "id": "783b84ff",
   "metadata": {
    "editable": true,
    "execution": {
     "iopub.execute_input": "2025-05-19T01:30:54.889500Z",
     "iopub.status.busy": "2025-05-19T01:30:54.889021Z",
     "iopub.status.idle": "2025-05-19T01:30:54.906569Z",
     "shell.execute_reply": "2025-05-19T01:30:54.905991Z"
    },
    "papermill": {
     "duration": 0.035631,
     "end_time": "2025-05-19T01:30:54.907761",
     "exception": false,
     "start_time": "2025-05-19T01:30:54.872130",
     "status": "completed"
    },
    "slideshow": {
     "slide_type": ""
    },
    "tags": [
     "remove_cell"
    ]
   },
   "outputs": [],
   "source": [
    "created = issues.query('state == \"open\" and created_at > @start_date and created_at < @stop_date')\n",
    "closed = issues.query('state == \"closed\" and closed_at > @start_date and closed_at < @stop_date')"
   ]
  },
  {
   "cell_type": "code",
   "execution_count": 16,
   "id": "29a5491e",
   "metadata": {
    "editable": true,
    "execution": {
     "iopub.execute_input": "2025-05-19T01:30:54.941235Z",
     "iopub.status.busy": "2025-05-19T01:30:54.940969Z",
     "iopub.status.idle": "2025-05-19T01:30:54.964720Z",
     "shell.execute_reply": "2025-05-19T01:30:54.964105Z"
    },
    "papermill": {
     "duration": 0.041807,
     "end_time": "2025-05-19T01:30:54.965870",
     "exception": false,
     "start_time": "2025-05-19T01:30:54.924063",
     "status": "completed"
    },
    "slideshow": {
     "slide_type": ""
    },
    "tags": [
     "hide_input"
    ]
   },
   "outputs": [
    {
     "data": {
      "text/html": [
       "\n",
       "<style>\n",
       "  #altair-viz-33f534b7ab1f421faf9e513e9dbb9497.vega-embed {\n",
       "    width: 100%;\n",
       "    display: flex;\n",
       "  }\n",
       "\n",
       "  #altair-viz-33f534b7ab1f421faf9e513e9dbb9497.vega-embed details,\n",
       "  #altair-viz-33f534b7ab1f421faf9e513e9dbb9497.vega-embed details summary {\n",
       "    position: relative;\n",
       "  }\n",
       "</style>\n",
       "<div id=\"altair-viz-33f534b7ab1f421faf9e513e9dbb9497\"></div>\n",
       "<script type=\"text/javascript\">\n",
       "  var VEGA_DEBUG = (typeof VEGA_DEBUG == \"undefined\") ? {} : VEGA_DEBUG;\n",
       "  (function(spec, embedOpt){\n",
       "    let outputDiv = document.currentScript.previousElementSibling;\n",
       "    if (outputDiv.id !== \"altair-viz-33f534b7ab1f421faf9e513e9dbb9497\") {\n",
       "      outputDiv = document.getElementById(\"altair-viz-33f534b7ab1f421faf9e513e9dbb9497\");\n",
       "    }\n",
       "\n",
       "    const paths = {\n",
       "      \"vega\": \"https://cdn.jsdelivr.net/npm/vega@5?noext\",\n",
       "      \"vega-lib\": \"https://cdn.jsdelivr.net/npm/vega-lib?noext\",\n",
       "      \"vega-lite\": \"https://cdn.jsdelivr.net/npm/vega-lite@5.20.1?noext\",\n",
       "      \"vega-embed\": \"https://cdn.jsdelivr.net/npm/vega-embed@6?noext\",\n",
       "    };\n",
       "\n",
       "    function maybeLoadScript(lib, version) {\n",
       "      var key = `${lib.replace(\"-\", \"\")}_version`;\n",
       "      return (VEGA_DEBUG[key] == version) ?\n",
       "        Promise.resolve(paths[lib]) :\n",
       "        new Promise(function(resolve, reject) {\n",
       "          var s = document.createElement('script');\n",
       "          document.getElementsByTagName(\"head\")[0].appendChild(s);\n",
       "          s.async = true;\n",
       "          s.onload = () => {\n",
       "            VEGA_DEBUG[key] = version;\n",
       "            return resolve(paths[lib]);\n",
       "          };\n",
       "          s.onerror = () => reject(`Error loading script: ${paths[lib]}`);\n",
       "          s.src = paths[lib];\n",
       "        });\n",
       "    }\n",
       "\n",
       "    function showError(err) {\n",
       "      outputDiv.innerHTML = `<div class=\"error\" style=\"color:red;\">${err}</div>`;\n",
       "      throw err;\n",
       "    }\n",
       "\n",
       "    function displayChart(vegaEmbed) {\n",
       "      vegaEmbed(outputDiv, spec, embedOpt)\n",
       "        .catch(err => showError(`Javascript Error: ${err.message}<br>This usually means there's a typo in your chart specification. See the javascript console for the full traceback.`));\n",
       "    }\n",
       "\n",
       "    if(typeof define === \"function\" && define.amd) {\n",
       "      requirejs.config({paths});\n",
       "      let deps = [\"vega-embed\"];\n",
       "      require(deps, displayChart, err => showError(`Error loading script: ${err.message}`));\n",
       "    } else {\n",
       "      maybeLoadScript(\"vega\", \"5\")\n",
       "        .then(() => maybeLoadScript(\"vega-lite\", \"5.20.1\"))\n",
       "        .then(() => maybeLoadScript(\"vega-embed\", \"6\"))\n",
       "        .catch(showError)\n",
       "        .then(() => displayChart(vegaEmbed));\n",
       "    }\n",
       "  })({\"config\": {\"axisLeft\": {\"labelFontSize\": 15}, \"axisBottom\": {\"labelFontSize\": 15}}, \"data\": {\"name\": \"data-033f7987e2ce2b7485fba40820e014c4\"}, \"mark\": {\"type\": \"bar\"}, \"encoding\": {\"x\": {\"field\": \"repo\", \"sort\": [\"mystmd\", \"jupyter-book\", \"myst-theme\", \"team-compass\", \"jupyterlab-myst\", \"thebe\", \"mystmd.org\"], \"type\": \"nominal\"}, \"y\": {\"field\": \"number\", \"type\": \"quantitative\"}}, \"title\": \"Issues created in the last 90 days\", \"$schema\": \"https://vega.github.io/schema/vega-lite/v5.20.1.json\", \"datasets\": {\"data-033f7987e2ce2b7485fba40820e014c4\": [{\"org\": \"jupyter-book\", \"repo\": \"jupyter-book\", \"number\": 14, \"org/repo\": \"jupyter-book/jupyter-book\"}, {\"org\": \"jupyter-book\", \"repo\": \"jupyterlab-myst\", \"number\": 7, \"org/repo\": \"jupyter-book/jupyterlab-myst\"}, {\"org\": \"jupyter-book\", \"repo\": \"myst-theme\", \"number\": 11, \"org/repo\": \"jupyter-book/myst-theme\"}, {\"org\": \"jupyter-book\", \"repo\": \"mystmd\", \"number\": 65, \"org/repo\": \"jupyter-book/mystmd\"}, {\"org\": \"jupyter-book\", \"repo\": \"mystmd.org\", \"number\": 1, \"org/repo\": \"jupyter-book/mystmd.org\"}, {\"org\": \"jupyter-book\", \"repo\": \"team-compass\", \"number\": 8, \"org/repo\": \"jupyter-book/team-compass\"}, {\"org\": \"jupyter-book\", \"repo\": \"thebe\", \"number\": 2, \"org/repo\": \"jupyter-book/thebe\"}]}}, {\"mode\": \"vega-lite\"});\n",
       "</script>"
      ],
      "text/plain": [
       "alt.Chart(...)"
      ]
     },
     "execution_count": 16,
     "metadata": {},
     "output_type": "execute_result"
    }
   ],
   "source": [
    "created_counts = created.groupby(['org', 'repo']).count()['number'].reset_index()\n",
    "created_counts['org/repo'] = created_counts.apply(lambda a: a['org'] + '/' + a['repo'], axis=1)\n",
    "sorted_vals = created_counts.sort_values(['org', 'number'], ascending=False)['repo'].values\n",
    "alt.Chart(data=created_counts, title=f\"Issues created in the last {n_days} days\").mark_bar().encode(\n",
    "    x=alt.X('repo', sort=alt.Sort(sorted_vals.tolist())),\n",
    "    y='number',\n",
    ")"
   ]
  },
  {
   "cell_type": "code",
   "execution_count": 17,
   "id": "7fa2769d",
   "metadata": {
    "editable": true,
    "execution": {
     "iopub.execute_input": "2025-05-19T01:30:54.998926Z",
     "iopub.status.busy": "2025-05-19T01:30:54.998458Z",
     "iopub.status.idle": "2025-05-19T01:30:55.021853Z",
     "shell.execute_reply": "2025-05-19T01:30:55.021154Z"
    },
    "papermill": {
     "duration": 0.041201,
     "end_time": "2025-05-19T01:30:55.023012",
     "exception": false,
     "start_time": "2025-05-19T01:30:54.981811",
     "status": "completed"
    },
    "slideshow": {
     "slide_type": ""
    },
    "tags": [
     "hide_input"
    ]
   },
   "outputs": [
    {
     "data": {
      "text/html": [
       "\n",
       "<style>\n",
       "  #altair-viz-b524a90ad7f64e67a6b512af97e4a758.vega-embed {\n",
       "    width: 100%;\n",
       "    display: flex;\n",
       "  }\n",
       "\n",
       "  #altair-viz-b524a90ad7f64e67a6b512af97e4a758.vega-embed details,\n",
       "  #altair-viz-b524a90ad7f64e67a6b512af97e4a758.vega-embed details summary {\n",
       "    position: relative;\n",
       "  }\n",
       "</style>\n",
       "<div id=\"altair-viz-b524a90ad7f64e67a6b512af97e4a758\"></div>\n",
       "<script type=\"text/javascript\">\n",
       "  var VEGA_DEBUG = (typeof VEGA_DEBUG == \"undefined\") ? {} : VEGA_DEBUG;\n",
       "  (function(spec, embedOpt){\n",
       "    let outputDiv = document.currentScript.previousElementSibling;\n",
       "    if (outputDiv.id !== \"altair-viz-b524a90ad7f64e67a6b512af97e4a758\") {\n",
       "      outputDiv = document.getElementById(\"altair-viz-b524a90ad7f64e67a6b512af97e4a758\");\n",
       "    }\n",
       "\n",
       "    const paths = {\n",
       "      \"vega\": \"https://cdn.jsdelivr.net/npm/vega@5?noext\",\n",
       "      \"vega-lib\": \"https://cdn.jsdelivr.net/npm/vega-lib?noext\",\n",
       "      \"vega-lite\": \"https://cdn.jsdelivr.net/npm/vega-lite@5.20.1?noext\",\n",
       "      \"vega-embed\": \"https://cdn.jsdelivr.net/npm/vega-embed@6?noext\",\n",
       "    };\n",
       "\n",
       "    function maybeLoadScript(lib, version) {\n",
       "      var key = `${lib.replace(\"-\", \"\")}_version`;\n",
       "      return (VEGA_DEBUG[key] == version) ?\n",
       "        Promise.resolve(paths[lib]) :\n",
       "        new Promise(function(resolve, reject) {\n",
       "          var s = document.createElement('script');\n",
       "          document.getElementsByTagName(\"head\")[0].appendChild(s);\n",
       "          s.async = true;\n",
       "          s.onload = () => {\n",
       "            VEGA_DEBUG[key] = version;\n",
       "            return resolve(paths[lib]);\n",
       "          };\n",
       "          s.onerror = () => reject(`Error loading script: ${paths[lib]}`);\n",
       "          s.src = paths[lib];\n",
       "        });\n",
       "    }\n",
       "\n",
       "    function showError(err) {\n",
       "      outputDiv.innerHTML = `<div class=\"error\" style=\"color:red;\">${err}</div>`;\n",
       "      throw err;\n",
       "    }\n",
       "\n",
       "    function displayChart(vegaEmbed) {\n",
       "      vegaEmbed(outputDiv, spec, embedOpt)\n",
       "        .catch(err => showError(`Javascript Error: ${err.message}<br>This usually means there's a typo in your chart specification. See the javascript console for the full traceback.`));\n",
       "    }\n",
       "\n",
       "    if(typeof define === \"function\" && define.amd) {\n",
       "      requirejs.config({paths});\n",
       "      let deps = [\"vega-embed\"];\n",
       "      require(deps, displayChart, err => showError(`Error loading script: ${err.message}`));\n",
       "    } else {\n",
       "      maybeLoadScript(\"vega\", \"5\")\n",
       "        .then(() => maybeLoadScript(\"vega-lite\", \"5.20.1\"))\n",
       "        .then(() => maybeLoadScript(\"vega-embed\", \"6\"))\n",
       "        .catch(showError)\n",
       "        .then(() => displayChart(vegaEmbed));\n",
       "    }\n",
       "  })({\"config\": {\"axisLeft\": {\"labelFontSize\": 15}, \"axisBottom\": {\"labelFontSize\": 15}}, \"data\": {\"name\": \"data-b1faf6108771a6b77c305e0fb60e8eab\"}, \"mark\": {\"type\": \"bar\"}, \"encoding\": {\"x\": {\"field\": \"repo\", \"sort\": [\"mystmd\", \"jupyter-book\", \"myst-theme\", \"mystmd.org\", \"team-compass\", \"jupyterlab-myst\"], \"type\": \"nominal\"}, \"y\": {\"field\": \"number\", \"type\": \"quantitative\"}}, \"title\": \"Issues closed in the last 90 days\", \"$schema\": \"https://vega.github.io/schema/vega-lite/v5.20.1.json\", \"datasets\": {\"data-b1faf6108771a6b77c305e0fb60e8eab\": [{\"org\": \"jupyter-book\", \"repo\": \"jupyter-book\", \"number\": 6, \"org/repo\": \"jupyter-book/jupyter-book\"}, {\"org\": \"jupyter-book\", \"repo\": \"jupyterlab-myst\", \"number\": 1, \"org/repo\": \"jupyter-book/jupyterlab-myst\"}, {\"org\": \"jupyter-book\", \"repo\": \"myst-theme\", \"number\": 6, \"org/repo\": \"jupyter-book/myst-theme\"}, {\"org\": \"jupyter-book\", \"repo\": \"mystmd\", \"number\": 26, \"org/repo\": \"jupyter-book/mystmd\"}, {\"org\": \"jupyter-book\", \"repo\": \"mystmd.org\", \"number\": 2, \"org/repo\": \"jupyter-book/mystmd.org\"}, {\"org\": \"jupyter-book\", \"repo\": \"team-compass\", \"number\": 2, \"org/repo\": \"jupyter-book/team-compass\"}]}}, {\"mode\": \"vega-lite\"});\n",
       "</script>"
      ],
      "text/plain": [
       "alt.Chart(...)"
      ]
     },
     "execution_count": 17,
     "metadata": {},
     "output_type": "execute_result"
    }
   ],
   "source": [
    "closed_counts = closed.groupby(['org', 'repo']).count()['number'].reset_index()\n",
    "closed_counts['org/repo'] = closed_counts.apply(lambda a: a['org'] + '/' + a['repo'], axis=1)\n",
    "sorted_vals = closed_counts.sort_values(['number'], ascending=False)['repo'].values\n",
    "alt.Chart(data=closed_counts, title=f\"Issues closed in the last {n_days} days\").mark_bar().encode(\n",
    "    x=alt.X('repo', sort=alt.Sort(sorted_vals.tolist())),\n",
    "    y='number',\n",
    ")"
   ]
  },
  {
   "cell_type": "code",
   "execution_count": 18,
   "id": "e41e54ae",
   "metadata": {
    "editable": true,
    "execution": {
     "iopub.execute_input": "2025-05-19T01:30:55.057517Z",
     "iopub.status.busy": "2025-05-19T01:30:55.057078Z",
     "iopub.status.idle": "2025-05-19T01:30:55.067207Z",
     "shell.execute_reply": "2025-05-19T01:30:55.066504Z"
    },
    "papermill": {
     "duration": 0.028419,
     "end_time": "2025-05-19T01:30:55.068290",
     "exception": false,
     "start_time": "2025-05-19T01:30:55.039871",
     "status": "completed"
    },
    "slideshow": {
     "slide_type": ""
    },
    "tags": [
     "remove_cell"
    ]
   },
   "outputs": [],
   "source": [
    "created_closed = pd.merge(created_counts.rename(columns={'number': 'created'}).drop(columns='org/repo'),\n",
    "                          closed_counts.rename(columns={'number': 'closed'}).drop(columns='org/repo'),\n",
    "                          on=['org', 'repo'], how='outer')\n",
    "\n",
    "created_closed = pd.melt(created_closed, id_vars=['org', 'repo'], var_name=\"kind\", value_name=\"count\").replace(np.nan, 0)"
   ]
  },
  {
   "cell_type": "code",
   "execution_count": 19,
   "id": "d15f52e9",
   "metadata": {
    "editable": true,
    "execution": {
     "iopub.execute_input": "2025-05-19T01:30:55.101245Z",
     "iopub.status.busy": "2025-05-19T01:30:55.100784Z",
     "iopub.status.idle": "2025-05-19T01:30:55.125206Z",
     "shell.execute_reply": "2025-05-19T01:30:55.124526Z"
    },
    "papermill": {
     "duration": 0.04194,
     "end_time": "2025-05-19T01:30:55.126238",
     "exception": false,
     "start_time": "2025-05-19T01:30:55.084298",
     "status": "completed"
    },
    "scrolled": true,
    "slideshow": {
     "slide_type": ""
    },
    "tags": [
     "hide_input"
    ]
   },
   "outputs": [
    {
     "data": {
      "text/html": [
       "\n",
       "<style>\n",
       "  #altair-viz-ea236e6d673d4aa49f2da60818c08899.vega-embed {\n",
       "    width: 100%;\n",
       "    display: flex;\n",
       "  }\n",
       "\n",
       "  #altair-viz-ea236e6d673d4aa49f2da60818c08899.vega-embed details,\n",
       "  #altair-viz-ea236e6d673d4aa49f2da60818c08899.vega-embed details summary {\n",
       "    position: relative;\n",
       "  }\n",
       "</style>\n",
       "<div id=\"altair-viz-ea236e6d673d4aa49f2da60818c08899\"></div>\n",
       "<script type=\"text/javascript\">\n",
       "  var VEGA_DEBUG = (typeof VEGA_DEBUG == \"undefined\") ? {} : VEGA_DEBUG;\n",
       "  (function(spec, embedOpt){\n",
       "    let outputDiv = document.currentScript.previousElementSibling;\n",
       "    if (outputDiv.id !== \"altair-viz-ea236e6d673d4aa49f2da60818c08899\") {\n",
       "      outputDiv = document.getElementById(\"altair-viz-ea236e6d673d4aa49f2da60818c08899\");\n",
       "    }\n",
       "\n",
       "    const paths = {\n",
       "      \"vega\": \"https://cdn.jsdelivr.net/npm/vega@5?noext\",\n",
       "      \"vega-lib\": \"https://cdn.jsdelivr.net/npm/vega-lib?noext\",\n",
       "      \"vega-lite\": \"https://cdn.jsdelivr.net/npm/vega-lite@5.20.1?noext\",\n",
       "      \"vega-embed\": \"https://cdn.jsdelivr.net/npm/vega-embed@6?noext\",\n",
       "    };\n",
       "\n",
       "    function maybeLoadScript(lib, version) {\n",
       "      var key = `${lib.replace(\"-\", \"\")}_version`;\n",
       "      return (VEGA_DEBUG[key] == version) ?\n",
       "        Promise.resolve(paths[lib]) :\n",
       "        new Promise(function(resolve, reject) {\n",
       "          var s = document.createElement('script');\n",
       "          document.getElementsByTagName(\"head\")[0].appendChild(s);\n",
       "          s.async = true;\n",
       "          s.onload = () => {\n",
       "            VEGA_DEBUG[key] = version;\n",
       "            return resolve(paths[lib]);\n",
       "          };\n",
       "          s.onerror = () => reject(`Error loading script: ${paths[lib]}`);\n",
       "          s.src = paths[lib];\n",
       "        });\n",
       "    }\n",
       "\n",
       "    function showError(err) {\n",
       "      outputDiv.innerHTML = `<div class=\"error\" style=\"color:red;\">${err}</div>`;\n",
       "      throw err;\n",
       "    }\n",
       "\n",
       "    function displayChart(vegaEmbed) {\n",
       "      vegaEmbed(outputDiv, spec, embedOpt)\n",
       "        .catch(err => showError(`Javascript Error: ${err.message}<br>This usually means there's a typo in your chart specification. See the javascript console for the full traceback.`));\n",
       "    }\n",
       "\n",
       "    if(typeof define === \"function\" && define.amd) {\n",
       "      requirejs.config({paths});\n",
       "      let deps = [\"vega-embed\"];\n",
       "      require(deps, displayChart, err => showError(`Error loading script: ${err.message}`));\n",
       "    } else {\n",
       "      maybeLoadScript(\"vega\", \"5\")\n",
       "        .then(() => maybeLoadScript(\"vega-lite\", \"5.20.1\"))\n",
       "        .then(() => maybeLoadScript(\"vega-embed\", \"6\"))\n",
       "        .catch(showError)\n",
       "        .then(() => displayChart(vegaEmbed));\n",
       "    }\n",
       "  })({\"config\": {\"axisLeft\": {\"labelFontSize\": 15}, \"axisBottom\": {\"labelFontSize\": 15}}, \"data\": {\"name\": \"data-83101001b4ac23812a64401bf9ea556a\"}, \"mark\": {\"type\": \"bar\"}, \"encoding\": {\"color\": {\"field\": \"kind\", \"type\": \"nominal\"}, \"column\": {\"field\": \"repo\", \"header\": {\"labelFontSize\": 12, \"title\": \"Issue activity, last 90 days for jupyter-book\", \"titleFontSize\": 15}, \"type\": \"nominal\"}, \"x\": {\"axis\": {\"labelFontSize\": 15, \"title\": \"\"}, \"field\": \"kind\", \"type\": \"nominal\"}, \"y\": {\"axis\": {\"labelFontSize\": 12, \"titleFontSize\": 15}, \"field\": \"count\", \"type\": \"quantitative\"}}, \"width\": 120, \"$schema\": \"https://vega.github.io/schema/vega-lite/v5.20.1.json\", \"datasets\": {\"data-83101001b4ac23812a64401bf9ea556a\": [{\"org\": \"jupyter-book\", \"repo\": \"jupyter-book\", \"kind\": \"created\", \"count\": 14.0}, {\"org\": \"jupyter-book\", \"repo\": \"jupyterlab-myst\", \"kind\": \"created\", \"count\": 7.0}, {\"org\": \"jupyter-book\", \"repo\": \"myst-theme\", \"kind\": \"created\", \"count\": 11.0}, {\"org\": \"jupyter-book\", \"repo\": \"mystmd\", \"kind\": \"created\", \"count\": 65.0}, {\"org\": \"jupyter-book\", \"repo\": \"mystmd.org\", \"kind\": \"created\", \"count\": 1.0}, {\"org\": \"jupyter-book\", \"repo\": \"team-compass\", \"kind\": \"created\", \"count\": 8.0}, {\"org\": \"jupyter-book\", \"repo\": \"thebe\", \"kind\": \"created\", \"count\": 2.0}, {\"org\": \"jupyter-book\", \"repo\": \"jupyter-book\", \"kind\": \"closed\", \"count\": 6.0}, {\"org\": \"jupyter-book\", \"repo\": \"jupyterlab-myst\", \"kind\": \"closed\", \"count\": 1.0}, {\"org\": \"jupyter-book\", \"repo\": \"myst-theme\", \"kind\": \"closed\", \"count\": 6.0}, {\"org\": \"jupyter-book\", \"repo\": \"mystmd\", \"kind\": \"closed\", \"count\": 26.0}, {\"org\": \"jupyter-book\", \"repo\": \"mystmd.org\", \"kind\": \"closed\", \"count\": 2.0}, {\"org\": \"jupyter-book\", \"repo\": \"team-compass\", \"kind\": \"closed\", \"count\": 2.0}, {\"org\": \"jupyter-book\", \"repo\": \"thebe\", \"kind\": \"closed\", \"count\": 0.0}]}}, {\"mode\": \"vega-lite\"});\n",
       "</script>"
      ],
      "text/plain": [
       "alt.Chart(...)"
      ]
     },
     "execution_count": 19,
     "metadata": {},
     "output_type": "execute_result"
    }
   ],
   "source": [
    "charts = []\n",
    "# Pick the top 10 repositories\n",
    "top_repos = created_closed.groupby(['repo']).sum().sort_values(by='count', ascending=False).head(10).index\n",
    "ch = alt.Chart(created_closed.query('repo in @top_repos'), width=120).mark_bar().encode(\n",
    "    x=alt.X(\"kind\", axis=alt.Axis(labelFontSize=15, title=\"\")), \n",
    "    y=alt.Y('count', axis=alt.Axis(titleFontSize=15, labelFontSize=12)),\n",
    "    color='kind',\n",
    "    column=alt.Column(\"repo\", header=alt.Header(title=f\"Issue activity, last {n_days} days for {github_org}\", titleFontSize=15, labelFontSize=12))\n",
    ")\n",
    "ch"
   ]
  },
  {
   "cell_type": "code",
   "execution_count": 20,
   "id": "c912285c",
   "metadata": {
    "editable": true,
    "execution": {
     "iopub.execute_input": "2025-05-19T01:30:55.161042Z",
     "iopub.status.busy": "2025-05-19T01:30:55.160446Z",
     "iopub.status.idle": "2025-05-19T01:30:55.167572Z",
     "shell.execute_reply": "2025-05-19T01:30:55.167004Z"
    },
    "papermill": {
     "duration": 0.025682,
     "end_time": "2025-05-19T01:30:55.168670",
     "exception": false,
     "start_time": "2025-05-19T01:30:55.142988",
     "status": "completed"
    },
    "slideshow": {
     "slide_type": ""
    },
    "tags": [
     "remove_cell"
    ]
   },
   "outputs": [],
   "source": [
    "# Set to datetime\n",
    "for kind in ['created_at', 'closed_at']:\n",
    "    closed.loc[:, kind] = pd.to_datetime(closed[kind])\n",
    "    \n",
    "closed.loc[:, 'time_open'] = closed['closed_at'] - closed['created_at']\n",
    "closed.loc[:, 'time_open'] = closed['time_open'].dt.total_seconds()"
   ]
  },
  {
   "cell_type": "code",
   "execution_count": 21,
   "id": "d04bc942",
   "metadata": {
    "editable": true,
    "execution": {
     "iopub.execute_input": "2025-05-19T01:30:55.201901Z",
     "iopub.status.busy": "2025-05-19T01:30:55.201243Z",
     "iopub.status.idle": "2025-05-19T01:30:55.221487Z",
     "shell.execute_reply": "2025-05-19T01:30:55.220822Z"
    },
    "papermill": {
     "duration": 0.038234,
     "end_time": "2025-05-19T01:30:55.222649",
     "exception": false,
     "start_time": "2025-05-19T01:30:55.184415",
     "status": "completed"
    },
    "slideshow": {
     "slide_type": ""
    },
    "tags": [
     "hide_input"
    ]
   },
   "outputs": [
    {
     "data": {
      "text/html": [
       "\n",
       "<style>\n",
       "  #altair-viz-96fa0f56d8644a928a2d928c7b1f30f3.vega-embed {\n",
       "    width: 100%;\n",
       "    display: flex;\n",
       "  }\n",
       "\n",
       "  #altair-viz-96fa0f56d8644a928a2d928c7b1f30f3.vega-embed details,\n",
       "  #altair-viz-96fa0f56d8644a928a2d928c7b1f30f3.vega-embed details summary {\n",
       "    position: relative;\n",
       "  }\n",
       "</style>\n",
       "<div id=\"altair-viz-96fa0f56d8644a928a2d928c7b1f30f3\"></div>\n",
       "<script type=\"text/javascript\">\n",
       "  var VEGA_DEBUG = (typeof VEGA_DEBUG == \"undefined\") ? {} : VEGA_DEBUG;\n",
       "  (function(spec, embedOpt){\n",
       "    let outputDiv = document.currentScript.previousElementSibling;\n",
       "    if (outputDiv.id !== \"altair-viz-96fa0f56d8644a928a2d928c7b1f30f3\") {\n",
       "      outputDiv = document.getElementById(\"altair-viz-96fa0f56d8644a928a2d928c7b1f30f3\");\n",
       "    }\n",
       "\n",
       "    const paths = {\n",
       "      \"vega\": \"https://cdn.jsdelivr.net/npm/vega@5?noext\",\n",
       "      \"vega-lib\": \"https://cdn.jsdelivr.net/npm/vega-lib?noext\",\n",
       "      \"vega-lite\": \"https://cdn.jsdelivr.net/npm/vega-lite@5.20.1?noext\",\n",
       "      \"vega-embed\": \"https://cdn.jsdelivr.net/npm/vega-embed@6?noext\",\n",
       "    };\n",
       "\n",
       "    function maybeLoadScript(lib, version) {\n",
       "      var key = `${lib.replace(\"-\", \"\")}_version`;\n",
       "      return (VEGA_DEBUG[key] == version) ?\n",
       "        Promise.resolve(paths[lib]) :\n",
       "        new Promise(function(resolve, reject) {\n",
       "          var s = document.createElement('script');\n",
       "          document.getElementsByTagName(\"head\")[0].appendChild(s);\n",
       "          s.async = true;\n",
       "          s.onload = () => {\n",
       "            VEGA_DEBUG[key] = version;\n",
       "            return resolve(paths[lib]);\n",
       "          };\n",
       "          s.onerror = () => reject(`Error loading script: ${paths[lib]}`);\n",
       "          s.src = paths[lib];\n",
       "        });\n",
       "    }\n",
       "\n",
       "    function showError(err) {\n",
       "      outputDiv.innerHTML = `<div class=\"error\" style=\"color:red;\">${err}</div>`;\n",
       "      throw err;\n",
       "    }\n",
       "\n",
       "    function displayChart(vegaEmbed) {\n",
       "      vegaEmbed(outputDiv, spec, embedOpt)\n",
       "        .catch(err => showError(`Javascript Error: ${err.message}<br>This usually means there's a typo in your chart specification. See the javascript console for the full traceback.`));\n",
       "    }\n",
       "\n",
       "    if(typeof define === \"function\" && define.amd) {\n",
       "      requirejs.config({paths});\n",
       "      let deps = [\"vega-embed\"];\n",
       "      require(deps, displayChart, err => showError(`Error loading script: ${err.message}`));\n",
       "    } else {\n",
       "      maybeLoadScript(\"vega\", \"5\")\n",
       "        .then(() => maybeLoadScript(\"vega-lite\", \"5.20.1\"))\n",
       "        .then(() => maybeLoadScript(\"vega-embed\", \"6\"))\n",
       "        .catch(showError)\n",
       "        .then(() => displayChart(vegaEmbed));\n",
       "    }\n",
       "  })({\"config\": {\"axisLeft\": {\"labelFontSize\": 15}, \"axisBottom\": {\"labelFontSize\": 15}}, \"data\": {\"name\": \"data-4dd5b610dc99878b9ecf054f6644a249\"}, \"mark\": {\"type\": \"bar\"}, \"encoding\": {\"x\": {\"field\": \"repo\", \"sort\": [\"myst-theme\", \"team-compass\", \"jupyterlab-myst\", \"jupyter-book\", \"mystmd.org\", \"mystmd\"], \"type\": \"nominal\"}, \"y\": {\"field\": \"time_open\", \"title\": \"Median Days Open\", \"type\": \"quantitative\"}}, \"title\": \"Time to close for issues closed in the last 90 days\", \"$schema\": \"https://vega.github.io/schema/vega-lite/v5.20.1.json\", \"datasets\": {\"data-4dd5b610dc99878b9ecf054f6644a249\": [{\"org\": \"jupyter-book\", \"repo\": \"jupyter-book\", \"time_open\": 13.86008101851852, \"org/repo\": \"jupyter-book/jupyter-book\"}, {\"org\": \"jupyter-book\", \"repo\": \"jupyterlab-myst\", \"time_open\": 42.556412037037035, \"org/repo\": \"jupyter-book/jupyterlab-myst\"}, {\"org\": \"jupyter-book\", \"repo\": \"myst-theme\", \"time_open\": 158.4247164351852, \"org/repo\": \"jupyter-book/myst-theme\"}, {\"org\": \"jupyter-book\", \"repo\": \"mystmd\", \"time_open\": 1.4885590277777778, \"org/repo\": \"jupyter-book/mystmd\"}, {\"org\": \"jupyter-book\", \"repo\": \"mystmd.org\", \"time_open\": 7.516956018518519, \"org/repo\": \"jupyter-book/mystmd.org\"}, {\"org\": \"jupyter-book\", \"repo\": \"team-compass\", \"time_open\": 118.50491319444444, \"org/repo\": \"jupyter-book/team-compass\"}]}}, {\"mode\": \"vega-lite\"});\n",
       "</script>"
      ],
      "text/plain": [
       "alt.Chart(...)"
      ]
     },
     "execution_count": 21,
     "metadata": {},
     "output_type": "execute_result"
    }
   ],
   "source": [
    "time_open = closed.groupby(['org', 'repo']).agg({'time_open': 'median'}).reset_index()\n",
    "time_open['time_open'] = time_open['time_open'] / (60 * 60 * 24)\n",
    "time_open['org/repo'] = time_open.apply(lambda a: a['org'] + '/' + a['repo'], axis=1)\n",
    "sorted_vals = time_open.sort_values(['org', 'time_open'], ascending=False)['repo'].values\n",
    "alt.Chart(data=time_open, title=f\"Time to close for issues closed in the last {n_days} days\").mark_bar().encode(\n",
    "    x=alt.X('repo', sort=alt.Sort(sorted_vals.tolist())),\n",
    "    y=alt.Y('time_open', title=\"Median Days Open\"),\n",
    ")"
   ]
  },
  {
   "cell_type": "markdown",
   "id": "eff3d5e6",
   "metadata": {
    "editable": true,
    "papermill": {
     "duration": 0.015844,
     "end_time": "2025-05-19T01:30:55.254396",
     "exception": false,
     "start_time": "2025-05-19T01:30:55.238552",
     "status": "completed"
    },
    "slideshow": {
     "slide_type": ""
    },
    "tags": []
   },
   "source": [
    "## Most-upvoted issues"
   ]
  },
  {
   "cell_type": "code",
   "execution_count": 22,
   "id": "34cd7e04",
   "metadata": {
    "editable": true,
    "execution": {
     "iopub.execute_input": "2025-05-19T01:30:55.288727Z",
     "iopub.status.busy": "2025-05-19T01:30:55.288054Z",
     "iopub.status.idle": "2025-05-19T01:30:55.311350Z",
     "shell.execute_reply": "2025-05-19T01:30:55.310718Z"
    },
    "papermill": {
     "duration": 0.041667,
     "end_time": "2025-05-19T01:30:55.312448",
     "exception": false,
     "start_time": "2025-05-19T01:30:55.270781",
     "status": "completed"
    },
    "slideshow": {
     "slide_type": ""
    },
    "tags": [
     "hide_input"
    ]
   },
   "outputs": [
    {
     "data": {
      "application/vnd.jupyter.widget-view+json": {
       "model_id": "24fc36c49b774080a7312e19e636b88e",
       "version_major": 2,
       "version_minor": 0
      },
      "text/plain": [
       "HTML(value='<ul>\\n<li>(35) Support for RISE slides - jupyter-book - <a href=\"https://github.com/jupyter-book/j…"
      ]
     },
     "execution_count": 22,
     "metadata": {},
     "output_type": "execute_result"
    }
   ],
   "source": [
    "thumbsup = issues.query(\"state == 'open'\").sort_values(\"positive\", ascending=False).head(25)\n",
    "thumbsup = thumbsup[[\"title\", \"url\", \"number\", \"positive\", \"repo\"]]\n",
    "\n",
    "text = []\n",
    "for ii, irow in thumbsup.iterrows():\n",
    "    itext = f\"- ({irow['positive']}) {irow['title']} - {irow['repo']} - [#{irow['number']}]({irow['url']})\"\n",
    "    text.append(itext)\n",
    "text = '\\n'.join(text)\n",
    "HTML(markdown(text))"
   ]
  },
  {
   "cell_type": "markdown",
   "id": "0af16310",
   "metadata": {
    "editable": true,
    "papermill": {
     "duration": 0.016375,
     "end_time": "2025-05-19T01:30:55.345391",
     "exception": false,
     "start_time": "2025-05-19T01:30:55.329016",
     "status": "completed"
    },
    "slideshow": {
     "slide_type": ""
    },
    "tags": []
   },
   "source": [
    "## Commenters across repositories\n",
    "\n",
    "These are commenters across all issues and pull requests in the last several days.\n",
    "These are colored by the commenter's association with the organization. For information\n",
    "about what these associations mean, [see this StackOverflow post](https://stackoverflow.com/a/28866914/1927102)."
   ]
  },
  {
   "cell_type": "code",
   "execution_count": 23,
   "id": "f6c39326",
   "metadata": {
    "editable": true,
    "execution": {
     "iopub.execute_input": "2025-05-19T01:30:55.379624Z",
     "iopub.status.busy": "2025-05-19T01:30:55.379123Z",
     "iopub.status.idle": "2025-05-19T01:30:55.392000Z",
     "shell.execute_reply": "2025-05-19T01:30:55.391484Z"
    },
    "papermill": {
     "duration": 0.031515,
     "end_time": "2025-05-19T01:30:55.393087",
     "exception": false,
     "start_time": "2025-05-19T01:30:55.361572",
     "status": "completed"
    },
    "slideshow": {
     "slide_type": ""
    },
    "tags": [
     "remove_cell"
    ]
   },
   "outputs": [],
   "source": [
    "commentors = (\n",
    "    comments\n",
    "    .query(\"created_at > @start_date and created_at < @stop_date\")\n",
    "    .groupby(['org', 'repo', 'login', 'author_association'])\n",
    "    .count().rename(columns={'id_issue': 'count'})['count']\n",
    "    .reset_index()\n",
    "    .sort_values(['org', 'count'], ascending=False)\n",
    ")"
   ]
  },
  {
   "cell_type": "code",
   "execution_count": 24,
   "id": "08acdd42",
   "metadata": {
    "editable": true,
    "execution": {
     "iopub.execute_input": "2025-05-19T01:30:55.428693Z",
     "iopub.status.busy": "2025-05-19T01:30:55.428200Z",
     "iopub.status.idle": "2025-05-19T01:30:55.454030Z",
     "shell.execute_reply": "2025-05-19T01:30:55.453382Z"
    },
    "papermill": {
     "duration": 0.04503,
     "end_time": "2025-05-19T01:30:55.455114",
     "exception": false,
     "start_time": "2025-05-19T01:30:55.410084",
     "status": "completed"
    },
    "slideshow": {
     "slide_type": ""
    },
    "tags": [
     "hide_input"
    ]
   },
   "outputs": [
    {
     "data": {
      "text/html": [
       "\n",
       "<style>\n",
       "  #altair-viz-23e1a2858ef44e3f82b3f18b5a32846b.vega-embed {\n",
       "    width: 100%;\n",
       "    display: flex;\n",
       "  }\n",
       "\n",
       "  #altair-viz-23e1a2858ef44e3f82b3f18b5a32846b.vega-embed details,\n",
       "  #altair-viz-23e1a2858ef44e3f82b3f18b5a32846b.vega-embed details summary {\n",
       "    position: relative;\n",
       "  }\n",
       "</style>\n",
       "<div id=\"altair-viz-23e1a2858ef44e3f82b3f18b5a32846b\"></div>\n",
       "<script type=\"text/javascript\">\n",
       "  var VEGA_DEBUG = (typeof VEGA_DEBUG == \"undefined\") ? {} : VEGA_DEBUG;\n",
       "  (function(spec, embedOpt){\n",
       "    let outputDiv = document.currentScript.previousElementSibling;\n",
       "    if (outputDiv.id !== \"altair-viz-23e1a2858ef44e3f82b3f18b5a32846b\") {\n",
       "      outputDiv = document.getElementById(\"altair-viz-23e1a2858ef44e3f82b3f18b5a32846b\");\n",
       "    }\n",
       "\n",
       "    const paths = {\n",
       "      \"vega\": \"https://cdn.jsdelivr.net/npm/vega@5?noext\",\n",
       "      \"vega-lib\": \"https://cdn.jsdelivr.net/npm/vega-lib?noext\",\n",
       "      \"vega-lite\": \"https://cdn.jsdelivr.net/npm/vega-lite@5.20.1?noext\",\n",
       "      \"vega-embed\": \"https://cdn.jsdelivr.net/npm/vega-embed@6?noext\",\n",
       "    };\n",
       "\n",
       "    function maybeLoadScript(lib, version) {\n",
       "      var key = `${lib.replace(\"-\", \"\")}_version`;\n",
       "      return (VEGA_DEBUG[key] == version) ?\n",
       "        Promise.resolve(paths[lib]) :\n",
       "        new Promise(function(resolve, reject) {\n",
       "          var s = document.createElement('script');\n",
       "          document.getElementsByTagName(\"head\")[0].appendChild(s);\n",
       "          s.async = true;\n",
       "          s.onload = () => {\n",
       "            VEGA_DEBUG[key] = version;\n",
       "            return resolve(paths[lib]);\n",
       "          };\n",
       "          s.onerror = () => reject(`Error loading script: ${paths[lib]}`);\n",
       "          s.src = paths[lib];\n",
       "        });\n",
       "    }\n",
       "\n",
       "    function showError(err) {\n",
       "      outputDiv.innerHTML = `<div class=\"error\" style=\"color:red;\">${err}</div>`;\n",
       "      throw err;\n",
       "    }\n",
       "\n",
       "    function displayChart(vegaEmbed) {\n",
       "      vegaEmbed(outputDiv, spec, embedOpt)\n",
       "        .catch(err => showError(`Javascript Error: ${err.message}<br>This usually means there's a typo in your chart specification. See the javascript console for the full traceback.`));\n",
       "    }\n",
       "\n",
       "    if(typeof define === \"function\" && define.amd) {\n",
       "      requirejs.config({paths});\n",
       "      let deps = [\"vega-embed\"];\n",
       "      require(deps, displayChart, err => showError(`Error loading script: ${err.message}`));\n",
       "    } else {\n",
       "      maybeLoadScript(\"vega\", \"5\")\n",
       "        .then(() => maybeLoadScript(\"vega-lite\", \"5.20.1\"))\n",
       "        .then(() => maybeLoadScript(\"vega-embed\", \"6\"))\n",
       "        .catch(showError)\n",
       "        .then(() => displayChart(vegaEmbed));\n",
       "    }\n",
       "  })({\"config\": {\"axisLeft\": {\"labelFontSize\": 15}, \"axisBottom\": {\"labelFontSize\": 15}}, \"hconcat\": [{\"mark\": {\"type\": \"bar\"}, \"encoding\": {\"color\": {\"field\": \"author_association\", \"scale\": {\"domain\": [\"MEMBER\", \"CONTRIBUTOR\", \"COLLABORATOR\", \"NONE\"], \"range\": [\"rgb(211.82745098039214, 211.82745098039214, 211.82745098039214)\", \"rgb(166.98562091503268, 229.89803921568628, 166.98562091503268)\", \"rgb(96.37647058823529, 192.75294117647059, 96.37647058823529)\", \"rgb(0.0, 100.3921568627451, 0.0)\"]}, \"type\": \"nominal\"}, \"x\": {\"field\": \"login\", \"type\": \"nominal\"}, \"y\": {\"field\": \"count\", \"type\": \"quantitative\"}}, \"title\": \"Top 50 commentors for ('jupyter-book',) in the last 90 days\"}], \"data\": {\"name\": \"data-d68c125026d5da2141e85a91bc0863ab\"}, \"$schema\": \"https://vega.github.io/schema/vega-lite/v5.20.1.json\", \"datasets\": {\"data-d68c125026d5da2141e85a91bc0863ab\": [{\"login\": \"agoose77\", \"count\": 57, \"author_association\": \"MEMBER\"}, {\"login\": \"rowanc1\", \"count\": 51, \"author_association\": \"MEMBER\"}, {\"login\": \"choldgraf\", \"count\": 48, \"author_association\": \"MEMBER\"}, {\"login\": \"da5nsy\", \"count\": 17, \"author_association\": \"NONE\"}, {\"login\": \"fperez\", \"count\": 12, \"author_association\": \"CONTRIBUTOR\"}, {\"login\": \"parmentelat\", \"count\": 12, \"author_association\": \"CONTRIBUTOR\"}, {\"login\": \"paugier\", \"count\": 12, \"author_association\": \"NONE\"}, {\"login\": \"stevejpurves\", \"count\": 10, \"author_association\": \"MEMBER\"}, {\"login\": \"fwkoch\", \"count\": 10, \"author_association\": \"MEMBER\"}, {\"login\": \"mfisher87\", \"count\": 9, \"author_association\": \"NONE\"}, {\"login\": \"krassowski\", \"count\": 9, \"author_association\": \"NONE\"}, {\"login\": \"JimMadge\", \"count\": 9, \"author_association\": \"CONTRIBUTOR\"}, {\"login\": \"stefanv\", \"count\": 6, \"author_association\": \"COLLABORATOR\"}, {\"login\": \"acocac\", \"count\": 6, \"author_association\": \"NONE\"}, {\"login\": \"FreekPols\", \"count\": 5, \"author_association\": \"NONE\"}, {\"login\": \"ryanlovett\", \"count\": 5, \"author_association\": \"NONE\"}, {\"login\": \"felimomo\", \"count\": 4, \"author_association\": \"NONE\"}, {\"login\": \"paulskrzypczyk\", \"count\": 4, \"author_association\": \"NONE\"}, {\"login\": \"michaelaye\", \"count\": 4, \"author_association\": \"NONE\"}, {\"login\": \"jan-david-fischbach\", \"count\": 3, \"author_association\": \"CONTRIBUTOR\"}, {\"login\": \"reyman\", \"count\": 3, \"author_association\": \"NONE\"}, {\"login\": \"mstoll1602\", \"count\": 3, \"author_association\": \"NONE\"}, {\"login\": \"mmcky\", \"count\": 3, \"author_association\": \"CONTRIBUTOR\"}, {\"login\": \"vangeest\", \"count\": 3, \"author_association\": \"NONE\"}, {\"login\": \"nthiery\", \"count\": 3, \"author_association\": \"CONTRIBUTOR\"}, {\"login\": \"andrader\", \"count\": 2, \"author_association\": \"NONE\"}, {\"login\": \"dengzeyu\", \"count\": 2, \"author_association\": \"NONE\"}, {\"login\": \"Joseph-Hui\", \"count\": 2, \"author_association\": \"NONE\"}, {\"login\": \"Joecstarr\", \"count\": 2, \"author_association\": \"NONE\"}, {\"login\": \"ulthiel\", \"count\": 2, \"author_association\": \"NONE\"}, {\"login\": \"itcarroll\", \"count\": 2, \"author_association\": \"NONE\"}, {\"login\": \"manimaransudha\", \"count\": 2, \"author_association\": \"NONE\"}, {\"login\": \"microcoder\", \"count\": 2, \"author_association\": \"NONE\"}, {\"login\": \"holmrenser\", \"count\": 1, \"author_association\": \"NONE\"}, {\"login\": \"hadesto\", \"count\": 1, \"author_association\": \"NONE\"}, {\"login\": \"denis-bz\", \"count\": 1, \"author_association\": \"NONE\"}, {\"login\": \"arm61\", \"count\": 1, \"author_association\": \"NONE\"}, {\"login\": \"atharvaaalok\", \"count\": 1, \"author_association\": \"NONE\"}, {\"login\": \"cpraveen\", \"count\": 1, \"author_association\": \"NONE\"}, {\"login\": \"Gijsreyn\", \"count\": 1, \"author_association\": \"NONE\"}, {\"login\": \"AllanChain\", \"count\": 1, \"author_association\": \"NONE\"}, {\"login\": \"MimoHasPurpose\", \"count\": 1, \"author_association\": \"NONE\"}, {\"login\": \"KirstieJane\", \"count\": 1, \"author_association\": \"NONE\"}, {\"login\": \"Paul-Aime\", \"count\": 1, \"author_association\": \"NONE\"}, {\"login\": \"StefanRR\", \"count\": 1, \"author_association\": \"CONTRIBUTOR\"}, {\"login\": \"TheLittleRock\", \"count\": 1, \"author_association\": \"NONE\"}, {\"login\": \"afeld\", \"count\": 1, \"author_association\": \"NONE\"}, {\"login\": \"Arielle-Bennett\", \"count\": 1, \"author_association\": \"NONE\"}, {\"login\": \"ELind77\", \"count\": 1, \"author_association\": \"NONE\"}, {\"login\": \"glaebhoerl\", \"count\": 1, \"author_association\": \"NONE\"}]}}, {\"mode\": \"vega-lite\"});\n",
       "</script>"
      ],
      "text/plain": [
       "alt.HConcatChart(...)"
      ]
     },
     "execution_count": 24,
     "metadata": {},
     "output_type": "execute_result"
    }
   ],
   "source": [
    "n_plot = 50\n",
    "charts = []\n",
    "for ii, (iorg, idata) in enumerate(commentors.groupby(['org'])):\n",
    "    title = f\"Top {n_plot} commentors for {iorg} in the last {n_days} days\"\n",
    "    idata = idata.groupby('login', as_index=False).agg({'count': 'sum', 'author_association': 'first'})\n",
    "    idata = idata.sort_values('count', ascending=False).head(n_plot)\n",
    "    ch = alt.Chart(data=idata.head(n_plot), title=title).mark_bar().encode(\n",
    "        x='login',\n",
    "        y='count',\n",
    "        color=alt.Color('author_association', scale=alt.Scale(domain=author_types, range=author_colors))\n",
    "    )\n",
    "    charts.append(ch)\n",
    "alt.hconcat(*charts)"
   ]
  },
  {
   "cell_type": "markdown",
   "id": "e19405f4",
   "metadata": {
    "editable": true,
    "papermill": {
     "duration": 0.016501,
     "end_time": "2025-05-19T01:30:55.488068",
     "exception": false,
     "start_time": "2025-05-19T01:30:55.471567",
     "status": "completed"
    },
    "slideshow": {
     "slide_type": ""
    },
    "tags": []
   },
   "source": [
    "## First responders\n",
    "\n",
    "First responders are the first people to respond to a new issue in one of the repositories.\n",
    "The following plots show first responders for recently-created issues."
   ]
  },
  {
   "cell_type": "code",
   "execution_count": 25,
   "id": "f2552a35",
   "metadata": {
    "editable": true,
    "execution": {
     "iopub.execute_input": "2025-05-19T01:30:55.522188Z",
     "iopub.status.busy": "2025-05-19T01:30:55.521764Z",
     "iopub.status.idle": "2025-05-19T01:30:55.580442Z",
     "shell.execute_reply": "2025-05-19T01:30:55.579888Z"
    },
    "papermill": {
     "duration": 0.077033,
     "end_time": "2025-05-19T01:30:55.581582",
     "exception": false,
     "start_time": "2025-05-19T01:30:55.504549",
     "status": "completed"
    },
    "slideshow": {
     "slide_type": ""
    },
    "tags": [
     "remove_cell"
    ]
   },
   "outputs": [],
   "source": [
    "first_comments = []\n",
    "latest_comments = comments.query(\"created_at > @start_date\")\n",
    "for (org, repo, issue_id), i_comments in latest_comments.groupby(['org', 'repo', 'id_issue']):\n",
    "    ix_min = pd.to_datetime(i_comments['created_at']).idxmin()\n",
    "    first_comment = i_comments.loc[ix_min]\n",
    "    if isinstance(first_comment, pd.DataFrame):\n",
    "        first_comment = first_comment.iloc[0]\n",
    "    first_comments.append(first_comment)\n",
    "first_comments = pd.concat(first_comments, axis=1).T\n",
    "\n",
    "# Make up counts for viz\n",
    "first_responder_counts = first_comments.groupby(['org', 'login', 'author_association'], as_index=False).\\\n",
    "    count().rename(columns={'id_issue': 'n_first_responses'}).sort_values(['org', 'n_first_responses'], ascending=False)\n"
   ]
  },
  {
   "cell_type": "code",
   "execution_count": 26,
   "id": "22c1ee6f",
   "metadata": {
    "editable": true,
    "execution": {
     "iopub.execute_input": "2025-05-19T01:30:55.618205Z",
     "iopub.status.busy": "2025-05-19T01:30:55.617609Z",
     "iopub.status.idle": "2025-05-19T01:30:55.644372Z",
     "shell.execute_reply": "2025-05-19T01:30:55.643758Z"
    },
    "papermill": {
     "duration": 0.046426,
     "end_time": "2025-05-19T01:30:55.645513",
     "exception": false,
     "start_time": "2025-05-19T01:30:55.599087",
     "status": "completed"
    },
    "slideshow": {
     "slide_type": ""
    },
    "tags": [
     "hide_input"
    ]
   },
   "outputs": [
    {
     "data": {
      "text/html": [
       "\n",
       "<style>\n",
       "  #altair-viz-44690556b0264bb58580c7245d0ff0ff.vega-embed {\n",
       "    width: 100%;\n",
       "    display: flex;\n",
       "  }\n",
       "\n",
       "  #altair-viz-44690556b0264bb58580c7245d0ff0ff.vega-embed details,\n",
       "  #altair-viz-44690556b0264bb58580c7245d0ff0ff.vega-embed details summary {\n",
       "    position: relative;\n",
       "  }\n",
       "</style>\n",
       "<div id=\"altair-viz-44690556b0264bb58580c7245d0ff0ff\"></div>\n",
       "<script type=\"text/javascript\">\n",
       "  var VEGA_DEBUG = (typeof VEGA_DEBUG == \"undefined\") ? {} : VEGA_DEBUG;\n",
       "  (function(spec, embedOpt){\n",
       "    let outputDiv = document.currentScript.previousElementSibling;\n",
       "    if (outputDiv.id !== \"altair-viz-44690556b0264bb58580c7245d0ff0ff\") {\n",
       "      outputDiv = document.getElementById(\"altair-viz-44690556b0264bb58580c7245d0ff0ff\");\n",
       "    }\n",
       "\n",
       "    const paths = {\n",
       "      \"vega\": \"https://cdn.jsdelivr.net/npm/vega@5?noext\",\n",
       "      \"vega-lib\": \"https://cdn.jsdelivr.net/npm/vega-lib?noext\",\n",
       "      \"vega-lite\": \"https://cdn.jsdelivr.net/npm/vega-lite@5.20.1?noext\",\n",
       "      \"vega-embed\": \"https://cdn.jsdelivr.net/npm/vega-embed@6?noext\",\n",
       "    };\n",
       "\n",
       "    function maybeLoadScript(lib, version) {\n",
       "      var key = `${lib.replace(\"-\", \"\")}_version`;\n",
       "      return (VEGA_DEBUG[key] == version) ?\n",
       "        Promise.resolve(paths[lib]) :\n",
       "        new Promise(function(resolve, reject) {\n",
       "          var s = document.createElement('script');\n",
       "          document.getElementsByTagName(\"head\")[0].appendChild(s);\n",
       "          s.async = true;\n",
       "          s.onload = () => {\n",
       "            VEGA_DEBUG[key] = version;\n",
       "            return resolve(paths[lib]);\n",
       "          };\n",
       "          s.onerror = () => reject(`Error loading script: ${paths[lib]}`);\n",
       "          s.src = paths[lib];\n",
       "        });\n",
       "    }\n",
       "\n",
       "    function showError(err) {\n",
       "      outputDiv.innerHTML = `<div class=\"error\" style=\"color:red;\">${err}</div>`;\n",
       "      throw err;\n",
       "    }\n",
       "\n",
       "    function displayChart(vegaEmbed) {\n",
       "      vegaEmbed(outputDiv, spec, embedOpt)\n",
       "        .catch(err => showError(`Javascript Error: ${err.message}<br>This usually means there's a typo in your chart specification. See the javascript console for the full traceback.`));\n",
       "    }\n",
       "\n",
       "    if(typeof define === \"function\" && define.amd) {\n",
       "      requirejs.config({paths});\n",
       "      let deps = [\"vega-embed\"];\n",
       "      require(deps, displayChart, err => showError(`Error loading script: ${err.message}`));\n",
       "    } else {\n",
       "      maybeLoadScript(\"vega\", \"5\")\n",
       "        .then(() => maybeLoadScript(\"vega-lite\", \"5.20.1\"))\n",
       "        .then(() => maybeLoadScript(\"vega-embed\", \"6\"))\n",
       "        .catch(showError)\n",
       "        .then(() => displayChart(vegaEmbed));\n",
       "    }\n",
       "  })({\"config\": {\"axisLeft\": {\"labelFontSize\": 15}, \"axisBottom\": {\"labelFontSize\": 15}}, \"data\": {\"name\": \"data-dcb80c44f26c81b428864e90878bb95d\"}, \"mark\": {\"type\": \"bar\"}, \"encoding\": {\"color\": {\"field\": \"author_association\", \"scale\": {\"domain\": [\"MEMBER\", \"CONTRIBUTOR\", \"COLLABORATOR\", \"NONE\"], \"range\": [\"rgb(211.82745098039214, 211.82745098039214, 211.82745098039214)\", \"rgb(166.98562091503268, 229.89803921568628, 166.98562091503268)\", \"rgb(96.37647058823529, 192.75294117647059, 96.37647058823529)\", \"rgb(0.0, 100.3921568627451, 0.0)\"]}, \"type\": \"nominal\"}, \"x\": {\"field\": \"login\", \"type\": \"nominal\"}, \"y\": {\"field\": \"n_first_responses\", \"type\": \"quantitative\"}}, \"title\": \"Top 50 first responders for jupyter-book in the last 90 days\", \"$schema\": \"https://vega.github.io/schema/vega-lite/v5.20.1.json\", \"datasets\": {\"data-dcb80c44f26c81b428864e90878bb95d\": [{\"login\": \"agoose77\", \"n_first_responses\": 23, \"author_association\": \"MEMBER\"}, {\"login\": \"rowanc1\", \"n_first_responses\": 22, \"author_association\": \"MEMBER\"}, {\"login\": \"choldgraf\", \"n_first_responses\": 15, \"author_association\": \"MEMBER\"}, {\"login\": \"fperez\", \"n_first_responses\": 6, \"author_association\": \"CONTRIBUTOR\"}, {\"login\": \"fwkoch\", \"n_first_responses\": 5, \"author_association\": \"MEMBER\"}, {\"login\": \"FreekPols\", \"n_first_responses\": 4, \"author_association\": \"NONE\"}, {\"login\": \"parmentelat\", \"n_first_responses\": 4, \"author_association\": \"CONTRIBUTOR\"}, {\"login\": \"da5nsy\", \"n_first_responses\": 4, \"author_association\": \"NONE\"}, {\"login\": \"stevejpurves\", \"n_first_responses\": 3, \"author_association\": \"MEMBER\"}, {\"login\": \"krassowski\", \"n_first_responses\": 2, \"author_association\": \"NONE\"}, {\"login\": \"JimMadge\", \"n_first_responses\": 2, \"author_association\": \"CONTRIBUTOR\"}, {\"login\": \"Joseph-Hui\", \"n_first_responses\": 2, \"author_association\": \"NONE\"}, {\"login\": \"mfisher87\", \"n_first_responses\": 2, \"author_association\": \"NONE\"}, {\"login\": \"ulthiel\", \"n_first_responses\": 2, \"author_association\": \"NONE\"}, {\"login\": \"michaelaye\", \"n_first_responses\": 2, \"author_association\": \"NONE\"}, {\"login\": \"andrader\", \"n_first_responses\": 1, \"author_association\": \"NONE\"}, {\"login\": \"TheLittleRock\", \"n_first_responses\": 1, \"author_association\": \"NONE\"}, {\"login\": \"Paul-Aime\", \"n_first_responses\": 1, \"author_association\": \"NONE\"}, {\"login\": \"StefanRR\", \"n_first_responses\": 1, \"author_association\": \"CONTRIBUTOR\"}, {\"login\": \"MimoHasPurpose\", \"n_first_responses\": 1, \"author_association\": \"NONE\"}, {\"login\": \"Joecstarr\", \"n_first_responses\": 1, \"author_association\": \"NONE\"}, {\"login\": \"Gijsreyn\", \"n_first_responses\": 1, \"author_association\": \"NONE\"}, {\"login\": \"afeld\", \"n_first_responses\": 1, \"author_association\": \"NONE\"}, {\"login\": \"acocac\", \"n_first_responses\": 1, \"author_association\": \"NONE\"}, {\"login\": \"hadesto\", \"n_first_responses\": 1, \"author_association\": \"NONE\"}, {\"login\": \"glaebhoerl\", \"n_first_responses\": 1, \"author_association\": \"NONE\"}, {\"login\": \"felimomo\", \"n_first_responses\": 1, \"author_association\": \"NONE\"}, {\"login\": \"giswqs\", \"n_first_responses\": 1, \"author_association\": \"NONE\"}, {\"login\": \"arm61\", \"n_first_responses\": 1, \"author_association\": \"NONE\"}, {\"login\": \"kburchfiel\", \"n_first_responses\": 1, \"author_association\": \"NONE\"}, {\"login\": \"juhuebner\", \"n_first_responses\": 1, \"author_association\": \"NONE\"}, {\"login\": \"joelmiller\", \"n_first_responses\": 1, \"author_association\": \"NONE\"}, {\"login\": \"jmelo11\", \"n_first_responses\": 1, \"author_association\": \"NONE\"}, {\"login\": \"holmrenser\", \"n_first_responses\": 1, \"author_association\": \"NONE\"}, {\"login\": \"jan-david-fischbach\", \"n_first_responses\": 1, \"author_association\": \"CONTRIBUTOR\"}, {\"login\": \"mmcky\", \"n_first_responses\": 1, \"author_association\": \"NONE\"}, {\"login\": \"mforbes\", \"n_first_responses\": 1, \"author_association\": \"NONE\"}, {\"login\": \"paulskrzypczyk\", \"n_first_responses\": 1, \"author_association\": \"NONE\"}, {\"login\": \"paugier\", \"n_first_responses\": 1, \"author_association\": \"NONE\"}, {\"login\": \"ntluong95\", \"n_first_responses\": 1, \"author_association\": \"NONE\"}, {\"login\": \"romanlutz\", \"n_first_responses\": 1, \"author_association\": \"NONE\"}, {\"login\": \"simbilod\", \"n_first_responses\": 1, \"author_association\": \"NONE\"}, {\"login\": \"ryanlovett\", \"n_first_responses\": 1, \"author_association\": \"NONE\"}, {\"login\": \"stefanv\", \"n_first_responses\": 1, \"author_association\": \"NONE\"}, {\"login\": \"unsektor\", \"n_first_responses\": 1, \"author_association\": \"NONE\"}]}}, {\"mode\": \"vega-lite\"});\n",
       "</script>"
      ],
      "text/plain": [
       "alt.Chart(...)"
      ]
     },
     "execution_count": 26,
     "metadata": {},
     "output_type": "execute_result"
    }
   ],
   "source": [
    "n_plot = 50\n",
    "\n",
    "title = f\"Top {n_plot} first responders for {github_org} in the last {n_days} days\"\n",
    "idata = first_responder_counts.groupby('login', as_index=False).agg({'n_first_responses': 'sum', 'author_association': 'first'})\n",
    "idata = idata.sort_values('n_first_responses', ascending=False).head(n_plot)\n",
    "ch = alt.Chart(data=idata.head(n_plot), title=title).mark_bar().encode(\n",
    "    x='login',\n",
    "    y='n_first_responses',\n",
    "    color=alt.Color('author_association', scale=alt.Scale(domain=author_types, range=author_colors))\n",
    ")\n",
    "ch"
   ]
  },
  {
   "cell_type": "markdown",
   "id": "ef835c77",
   "metadata": {
    "editable": true,
    "papermill": {
     "duration": 0.016556,
     "end_time": "2025-05-19T01:30:55.679331",
     "exception": false,
     "start_time": "2025-05-19T01:30:55.662775",
     "status": "completed"
    },
    "slideshow": {
     "slide_type": ""
    },
    "tags": []
   },
   "source": [
    "## Recent activity\n",
    "\n",
    "### A list of merged PRs by project\n",
    "\n",
    "Below is a tabbed readout of recently-merged PRs. Check out the title to get an idea for what they\n",
    "implemented, and be sure to thank the PR author for their hard work!"
   ]
  },
  {
   "cell_type": "code",
   "execution_count": 27,
   "id": "e1b7be11",
   "metadata": {
    "editable": true,
    "execution": {
     "iopub.execute_input": "2025-05-19T01:30:55.714407Z",
     "iopub.status.busy": "2025-05-19T01:30:55.713888Z",
     "iopub.status.idle": "2025-05-19T01:30:55.809368Z",
     "shell.execute_reply": "2025-05-19T01:30:55.808654Z"
    },
    "papermill": {
     "duration": 0.119786,
     "end_time": "2025-05-19T01:30:55.815819",
     "exception": false,
     "start_time": "2025-05-19T01:30:55.696033",
     "status": "completed"
    },
    "slideshow": {
     "slide_type": ""
    },
    "tags": [
     "hide_input"
    ]
   },
   "outputs": [
    {
     "data": {
      "application/vnd.jupyter.widget-view+json": {
       "model_id": "18b1763aa8364151b057130760008e02",
       "version_major": 2,
       "version_minor": 0
      },
      "text/plain": [
       "Tab(children=(HTML(value='<h4>Closed PRs for repo: <a href=\"https://github.com/jupyter-book/jupyter-book\">jupy…"
      ]
     },
     "execution_count": 27,
     "metadata": {},
     "output_type": "execute_result"
    }
   ],
   "source": [
    "tabs = widgets.Tab(children=[])\n",
    "\n",
    "for ii, ((org, repo), imerged) in enumerate(merged.query(\"repo in @use_repos\").groupby(['org', 'repo'])):\n",
    "    merged_by = {}\n",
    "    pr_by = {}\n",
    "    issue_md = []\n",
    "    issue_md.append(f\"#### Closed PRs for repo: [{org}/{repo}](https://github.com/{github_org}/{repo})\")\n",
    "    issue_md.append(\"\")\n",
    "    issue_md.append(f\"##### \")\n",
    "\n",
    "    for _, ipr in imerged.iterrows():\n",
    "        user_name = ipr['login']\n",
    "        user_url = author_url(user_name)\n",
    "        pr_number = ipr['number']\n",
    "        pr_html = ipr['url']\n",
    "        pr_title = ipr['title']\n",
    "        pr_closedby = ipr['merged_by']\n",
    "        pr_closedby_url = f\"https://github.com/{pr_closedby}\"\n",
    "        if user_name not in pr_by:\n",
    "            pr_by[user_name] = 1\n",
    "        else:\n",
    "            pr_by[user_name] += 1\n",
    "\n",
    "        if pr_closedby not in merged_by:\n",
    "            merged_by[pr_closedby] = 1\n",
    "        else:\n",
    "            merged_by[pr_closedby] += 1\n",
    "        text = f\"* [(#{pr_number})]({pr_html}): _{pr_title}_ by **[@{user_name}]({user_url})** merged by **[@{pr_closedby}]({pr_closedby_url})**\"\n",
    "        issue_md.append(text)\n",
    "    \n",
    "    issue_md.append('')\n",
    "    markdown_html = markdown('\\n'.join(issue_md))\n",
    "\n",
    "    children = list(tabs.children)\n",
    "    children.append(HTML(markdown_html))\n",
    "    tabs.children = tuple(children)\n",
    "    tabs.set_title(ii, repo)\n",
    "tabs"
   ]
  },
  {
   "cell_type": "markdown",
   "id": "4a54cb60",
   "metadata": {
    "editable": true,
    "papermill": {
     "duration": 0.017775,
     "end_time": "2025-05-19T01:30:55.851747",
     "exception": false,
     "start_time": "2025-05-19T01:30:55.833972",
     "status": "completed"
    },
    "slideshow": {
     "slide_type": ""
    },
    "tags": []
   },
   "source": [
    "### A list of recent issues\n",
    "\n",
    "Below is a list of issues with recent activity in each repository. If they seem of interest\n",
    "to you, click on their links and jump in to participate!"
   ]
  },
  {
   "cell_type": "code",
   "execution_count": 28,
   "id": "0be34e93",
   "metadata": {
    "editable": true,
    "execution": {
     "iopub.execute_input": "2025-05-19T01:30:55.887448Z",
     "iopub.status.busy": "2025-05-19T01:30:55.886945Z",
     "iopub.status.idle": "2025-05-19T01:30:55.898701Z",
     "shell.execute_reply": "2025-05-19T01:30:55.898139Z"
    },
    "papermill": {
     "duration": 0.030932,
     "end_time": "2025-05-19T01:30:55.899737",
     "exception": false,
     "start_time": "2025-05-19T01:30:55.868805",
     "status": "completed"
    },
    "slideshow": {
     "slide_type": ""
    },
    "tags": [
     "remove_cell"
    ]
   },
   "outputs": [],
   "source": [
    "# Add comment count data to issues and PRs\n",
    "comment_counts = (\n",
    "    comments\n",
    "    .query(\"created_at > @start_date and created_at < @stop_date\")\n",
    "    .groupby(['org', 'repo', 'id_issue'])\n",
    "    .count().iloc[:, 0].to_frame()\n",
    ")\n",
    "comment_counts.columns = ['n_comments']\n",
    "comment_counts = comment_counts.reset_index()"
   ]
  },
  {
   "cell_type": "code",
   "execution_count": 29,
   "id": "44ade199",
   "metadata": {
    "editable": true,
    "execution": {
     "iopub.execute_input": "2025-05-19T01:30:55.934393Z",
     "iopub.status.busy": "2025-05-19T01:30:55.934165Z",
     "iopub.status.idle": "2025-05-19T01:30:56.037052Z",
     "shell.execute_reply": "2025-05-19T01:30:56.036370Z"
    },
    "papermill": {
     "duration": 0.121555,
     "end_time": "2025-05-19T01:30:56.038122",
     "exception": false,
     "start_time": "2025-05-19T01:30:55.916567",
     "status": "completed"
    },
    "slideshow": {
     "slide_type": ""
    },
    "tags": [
     "hide_input"
    ],
    "toc-hr-collapsed": false
   },
   "outputs": [
    {
     "data": {
      "text/markdown": [
       "Here are the top 5 active issues in each repository in the last 90 days"
      ],
      "text/plain": [
       "<IPython.core.display.Markdown object>"
      ]
     },
     "metadata": {},
     "output_type": "display_data"
    },
    {
     "data": {
      "application/vnd.jupyter.widget-view+json": {
       "model_id": "99cbe421785c43e29cff098f139f57ec",
       "version_major": 2,
       "version_minor": 0
      },
      "text/plain": [
       "Tab(children=(HTML(value='<h5><a href=\"https://github.com/jupyter-book/jupyter-book\">jupyter-book/jupyter-book…"
      ]
     },
     "metadata": {},
     "output_type": "display_data"
    }
   ],
   "source": [
    "n_plot = 5\n",
    "tabs = widgets.Tab(children=[])\n",
    "\n",
    "for ii, (repo, i_issues) in enumerate(comment_counts.query(\"repo in @use_repos\").groupby('repo')):\n",
    "    \n",
    "    issue_md = []\n",
    "    issue_md.append(\"\")\n",
    "    issue_md.append(f\"##### [{github_org}/{repo}](https://github.com/{github_org}/{repo})\")\n",
    "\n",
    "    top_issues = i_issues.sort_values('n_comments', ascending=False).head(n_plot)\n",
    "    top_issue_list = pd.merge(issues, top_issues, left_on=['org', 'repo', 'id_issue'], right_on=['org', 'repo', 'id_issue'])\n",
    "    for _, issue in top_issue_list.sort_values('n_comments', ascending=False).head(n_plot).iterrows():\n",
    "        user_name = issue['login']\n",
    "        user_url = author_url(user_name)\n",
    "        issue_number = issue['number']\n",
    "        issue_html = issue['url']\n",
    "        issue_title = issue['title']\n",
    "\n",
    "        text = f\"* [(#{issue_number})]({issue_html}): _{issue_title}_ by **[@{user_name}]({user_url})**\"\n",
    "        issue_md.append(text)\n",
    "\n",
    "    issue_md.append('')\n",
    "    md_html = HTML(markdown('\\n'.join(issue_md)))\n",
    "\n",
    "    children = list(tabs.children)\n",
    "    children.append(HTML(markdown('\\n'.join(issue_md))))\n",
    "    tabs.children = tuple(children)\n",
    "    tabs.set_title(ii, repo)\n",
    "    \n",
    "display(Markdown(f\"Here are the top {n_plot} active issues in each repository in the last {n_days} days\"))\n",
    "display(tabs)"
   ]
  }
 ],
 "metadata": {
  "kernelspec": {
   "display_name": "Python 3 (ipykernel)",
   "language": "python",
   "name": "python3"
  },
  "language_info": {
   "codemirror_mode": {
    "name": "ipython",
    "version": 3
   },
   "file_extension": ".py",
   "mimetype": "text/x-python",
   "name": "python",
   "nbconvert_exporter": "python",
   "pygments_lexer": "ipython3",
   "version": "3.9.22"
  },
  "papermill": {
   "default_parameters": {},
   "duration": 5.168505,
   "end_time": "2025-05-19T01:30:56.374441",
   "environment_variables": {},
   "exception": null,
   "input_path": "./templates/org_report.ipynb",
   "output_path": "generated/book/jupyter-book.ipynb",
   "parameters": {
    "github_org": "jupyter-book",
    "n_days": 90
   },
   "start_time": "2025-05-19T01:30:51.205936",
   "version": "2.6.0"
  },
  "widgets": {
   "application/vnd.jupyter.widget-state+json": {
    "state": {
     "008b0c58f3b6407fbbd7eccfb596cdd9": {
      "model_module": "@jupyter-widgets/controls",
      "model_module_version": "2.0.0",
      "model_name": "HTMLStyleModel",
      "state": {
       "_model_module": "@jupyter-widgets/controls",
       "_model_module_version": "2.0.0",
       "_model_name": "HTMLStyleModel",
       "_view_count": null,
       "_view_module": "@jupyter-widgets/base",
       "_view_module_version": "2.0.0",
       "_view_name": "StyleView",
       "background": null,
       "description_width": "",
       "font_size": null,
       "text_color": null
      }
     },
     "02bc0b4f06d34895beb47f93fb47e2bd": {
      "model_module": "@jupyter-widgets/controls",
      "model_module_version": "2.0.0",
      "model_name": "HTMLModel",
      "state": {
       "_dom_classes": [],
       "_model_module": "@jupyter-widgets/controls",
       "_model_module_version": "2.0.0",
       "_model_name": "HTMLModel",
       "_view_count": null,
       "_view_module": "@jupyter-widgets/controls",
       "_view_module_version": "2.0.0",
       "_view_name": "HTMLView",
       "description": "",
       "description_allow_html": false,
       "layout": "IPY_MODEL_4575054fbb7a4badb98f249adbe280ca",
       "placeholder": "​",
       "style": "IPY_MODEL_94428d2bba574cef85b8430bbad1198c",
       "tabbable": null,
       "tooltip": null,
       "value": "<h5><a href=\"https://github.com/jupyter-book/myst-enhancement-proposals\">jupyter-book/myst-enhancement-proposals</a></h5>\n<ul>\n<li><a href=\"https://github.com/jupyter-book/myst-enhancement-proposals/issues/30\">(#30)</a>: <em>[MEP process] Define separate proposal and implementation stages</em> by <strong><a href=\"https://github.com/mmcky\">@mmcky</a></strong></li>\n</ul>"
      }
     },
     "039adf951d6d4332931bd072a009e68d": {
      "model_module": "@jupyter-widgets/base",
      "model_module_version": "2.0.0",
      "model_name": "LayoutModel",
      "state": {
       "_model_module": "@jupyter-widgets/base",
       "_model_module_version": "2.0.0",
       "_model_name": "LayoutModel",
       "_view_count": null,
       "_view_module": "@jupyter-widgets/base",
       "_view_module_version": "2.0.0",
       "_view_name": "LayoutView",
       "align_content": null,
       "align_items": null,
       "align_self": null,
       "border_bottom": null,
       "border_left": null,
       "border_right": null,
       "border_top": null,
       "bottom": null,
       "display": null,
       "flex": null,
       "flex_flow": null,
       "grid_area": null,
       "grid_auto_columns": null,
       "grid_auto_flow": null,
       "grid_auto_rows": null,
       "grid_column": null,
       "grid_gap": null,
       "grid_row": null,
       "grid_template_areas": null,
       "grid_template_columns": null,
       "grid_template_rows": null,
       "height": null,
       "justify_content": null,
       "justify_items": null,
       "left": null,
       "margin": null,
       "max_height": null,
       "max_width": null,
       "min_height": null,
       "min_width": null,
       "object_fit": null,
       "object_position": null,
       "order": null,
       "overflow": null,
       "padding": null,
       "right": null,
       "top": null,
       "visibility": null,
       "width": null
      }
     },
     "041ebc10282a4913ac7b8d51862f5f3d": {
      "model_module": "@jupyter-widgets/controls",
      "model_module_version": "2.0.0",
      "model_name": "HTMLStyleModel",
      "state": {
       "_model_module": "@jupyter-widgets/controls",
       "_model_module_version": "2.0.0",
       "_model_name": "HTMLStyleModel",
       "_view_count": null,
       "_view_module": "@jupyter-widgets/base",
       "_view_module_version": "2.0.0",
       "_view_name": "StyleView",
       "background": null,
       "description_width": "",
       "font_size": null,
       "text_color": null
      }
     },
     "08377014927b436c993e87a85d6e70ac": {
      "model_module": "@jupyter-widgets/base",
      "model_module_version": "2.0.0",
      "model_name": "LayoutModel",
      "state": {
       "_model_module": "@jupyter-widgets/base",
       "_model_module_version": "2.0.0",
       "_model_name": "LayoutModel",
       "_view_count": null,
       "_view_module": "@jupyter-widgets/base",
       "_view_module_version": "2.0.0",
       "_view_name": "LayoutView",
       "align_content": null,
       "align_items": null,
       "align_self": null,
       "border_bottom": null,
       "border_left": null,
       "border_right": null,
       "border_top": null,
       "bottom": null,
       "display": null,
       "flex": null,
       "flex_flow": null,
       "grid_area": null,
       "grid_auto_columns": null,
       "grid_auto_flow": null,
       "grid_auto_rows": null,
       "grid_column": null,
       "grid_gap": null,
       "grid_row": null,
       "grid_template_areas": null,
       "grid_template_columns": null,
       "grid_template_rows": null,
       "height": null,
       "justify_content": null,
       "justify_items": null,
       "left": null,
       "margin": null,
       "max_height": null,
       "max_width": null,
       "min_height": null,
       "min_width": null,
       "object_fit": null,
       "object_position": null,
       "order": null,
       "overflow": null,
       "padding": null,
       "right": null,
       "top": null,
       "visibility": null,
       "width": null
      }
     },
     "10413be150af4975b2e14b12e7fb4150": {
      "model_module": "@jupyter-widgets/controls",
      "model_module_version": "2.0.0",
      "model_name": "HTMLStyleModel",
      "state": {
       "_model_module": "@jupyter-widgets/controls",
       "_model_module_version": "2.0.0",
       "_model_name": "HTMLStyleModel",
       "_view_count": null,
       "_view_module": "@jupyter-widgets/base",
       "_view_module_version": "2.0.0",
       "_view_name": "StyleView",
       "background": null,
       "description_width": "",
       "font_size": null,
       "text_color": null
      }
     },
     "10bb1270ddb544249da1069aa1e10cd7": {
      "model_module": "@jupyter-widgets/base",
      "model_module_version": "2.0.0",
      "model_name": "LayoutModel",
      "state": {
       "_model_module": "@jupyter-widgets/base",
       "_model_module_version": "2.0.0",
       "_model_name": "LayoutModel",
       "_view_count": null,
       "_view_module": "@jupyter-widgets/base",
       "_view_module_version": "2.0.0",
       "_view_name": "LayoutView",
       "align_content": null,
       "align_items": null,
       "align_self": null,
       "border_bottom": null,
       "border_left": null,
       "border_right": null,
       "border_top": null,
       "bottom": null,
       "display": null,
       "flex": null,
       "flex_flow": null,
       "grid_area": null,
       "grid_auto_columns": null,
       "grid_auto_flow": null,
       "grid_auto_rows": null,
       "grid_column": null,
       "grid_gap": null,
       "grid_row": null,
       "grid_template_areas": null,
       "grid_template_columns": null,
       "grid_template_rows": null,
       "height": null,
       "justify_content": null,
       "justify_items": null,
       "left": null,
       "margin": null,
       "max_height": null,
       "max_width": null,
       "min_height": null,
       "min_width": null,
       "object_fit": null,
       "object_position": null,
       "order": null,
       "overflow": null,
       "padding": null,
       "right": null,
       "top": null,
       "visibility": null,
       "width": null
      }
     },
     "135683244cc9448f9eec24470eaa8389": {
      "model_module": "@jupyter-widgets/controls",
      "model_module_version": "2.0.0",
      "model_name": "HTMLStyleModel",
      "state": {
       "_model_module": "@jupyter-widgets/controls",
       "_model_module_version": "2.0.0",
       "_model_name": "HTMLStyleModel",
       "_view_count": null,
       "_view_module": "@jupyter-widgets/base",
       "_view_module_version": "2.0.0",
       "_view_name": "StyleView",
       "background": null,
       "description_width": "",
       "font_size": null,
       "text_color": null
      }
     },
     "18b1763aa8364151b057130760008e02": {
      "model_module": "@jupyter-widgets/controls",
      "model_module_version": "2.0.0",
      "model_name": "TabModel",
      "state": {
       "_dom_classes": [],
       "_model_module": "@jupyter-widgets/controls",
       "_model_module_version": "2.0.0",
       "_model_name": "TabModel",
       "_view_count": null,
       "_view_module": "@jupyter-widgets/controls",
       "_view_module_version": "2.0.0",
       "_view_name": "TabView",
       "box_style": "",
       "children": [
        "IPY_MODEL_3a58e1b7fe3f478ea92ceb9cda6dd9fb",
        "IPY_MODEL_ceb60d7d5cdc4d5d921c2775a44d5c41",
        "IPY_MODEL_2f4757addc2f4a45a1516d2f90666fd3",
        "IPY_MODEL_d0737ef2d4ba460d964800d30e5c26f0",
        "IPY_MODEL_e7451e025a8346e484250a152e5b692e",
        "IPY_MODEL_4cd3a7bff1b74cd38c6598d092d745e4",
        "IPY_MODEL_83bc7f57472c4d04b57592dbb4495a05",
        "IPY_MODEL_1ab04e3b6d304c0291489dff4fdcfb57"
       ],
       "layout": "IPY_MODEL_41c6f4c2a9a44fdd8be4123dc769767b",
       "selected_index": 0,
       "tabbable": null,
       "titles": [
        "jupyter-book",
        "myst-enhancement-proposals",
        "myst-spec",
        "myst-theme",
        "mystmd",
        "mystmd.org",
        "team-compass",
        "thebe"
       ],
       "tooltip": null
      }
     },
     "1a101656706f410f8011e52020ccfa3b": {
      "model_module": "@jupyter-widgets/controls",
      "model_module_version": "2.0.0",
      "model_name": "HTMLModel",
      "state": {
       "_dom_classes": [],
       "_model_module": "@jupyter-widgets/controls",
       "_model_module_version": "2.0.0",
       "_model_name": "HTMLModel",
       "_view_count": null,
       "_view_module": "@jupyter-widgets/controls",
       "_view_module_version": "2.0.0",
       "_view_name": "HTMLView",
       "description": "",
       "description_allow_html": false,
       "layout": "IPY_MODEL_82ba8fb6c22d47f88aecf3897a7173c2",
       "placeholder": "​",
       "style": "IPY_MODEL_dbecb52b4d8b4e97bb8f9b23fd1c8157",
       "tabbable": null,
       "tooltip": null,
       "value": "<h5><a href=\"https://github.com/jupyter-book/jupyterlab-myst\">jupyter-book/jupyterlab-myst</a></h5>\n<ul>\n<li><a href=\"https://github.com/jupyter-book/jupyterlab-myst/issues/243\">(#243)</a>: <em>Scrolling over notebook got unexpected jump backs</em> by <strong><a href=\"https://github.com/AllanChain\">@AllanChain</a></strong></li>\n<li><a href=\"https://github.com/jupyter-book/jupyterlab-myst/issues/257\">(#257)</a>: <em>Dancing Page</em> by <strong><a href=\"https://github.com/microcoder\">@microcoder</a></strong></li>\n<li><a href=\"https://github.com/jupyter-book/jupyterlab-myst/issues/248\">(#248)</a>: <em>Do Not highlight links</em> by <strong><a href=\"https://github.com/microcoder\">@microcoder</a></strong></li>\n<li><a href=\"https://github.com/jupyter-book/jupyterlab-myst/issues/175\">(#175)</a>: <em><code>eval</code> role not working as expected</em> by <strong><a href=\"https://github.com/rkansal47\">@rkansal47</a></strong></li>\n<li><a href=\"https://github.com/jupyter-book/jupyterlab-myst/issues/250\">(#250)</a>: <em>Scrolling is stucking on the page</em> by <strong><a href=\"https://github.com/microcoder\">@microcoder</a></strong></li>\n</ul>"
      }
     },
     "1ab04e3b6d304c0291489dff4fdcfb57": {
      "model_module": "@jupyter-widgets/controls",
      "model_module_version": "2.0.0",
      "model_name": "HTMLModel",
      "state": {
       "_dom_classes": [],
       "_model_module": "@jupyter-widgets/controls",
       "_model_module_version": "2.0.0",
       "_model_name": "HTMLModel",
       "_view_count": null,
       "_view_module": "@jupyter-widgets/controls",
       "_view_module_version": "2.0.0",
       "_view_name": "HTMLView",
       "description": "",
       "description_allow_html": false,
       "layout": "IPY_MODEL_039adf951d6d4332931bd072a009e68d",
       "placeholder": "​",
       "style": "IPY_MODEL_d53a570e742440e6a9c09ee7c842581f",
       "tabbable": null,
       "tooltip": null,
       "value": "<h4>Closed PRs for repo: <a href=\"https://github.com/jupyter-book/thebe\">jupyter-book/thebe</a></h4>\n<h5></h5>\n<ul>\n<li><a href=\"https://github.com/jupyter-book/thebe/issues/792\">(#792)</a>: <em>[doc] Update executablebooks to jupyter-book github org</em> by <strong><a href=\"https://github.com/choldgraf\">@choldgraf</a></strong> merged by <strong><a href=\"https://github.com/choldgraf\">@choldgraf</a></strong></li>\n</ul>"
      }
     },
     "21e0cd00fcbc4ae29f8e4f9c06972e94": {
      "model_module": "@jupyter-widgets/base",
      "model_module_version": "2.0.0",
      "model_name": "LayoutModel",
      "state": {
       "_model_module": "@jupyter-widgets/base",
       "_model_module_version": "2.0.0",
       "_model_name": "LayoutModel",
       "_view_count": null,
       "_view_module": "@jupyter-widgets/base",
       "_view_module_version": "2.0.0",
       "_view_name": "LayoutView",
       "align_content": null,
       "align_items": null,
       "align_self": null,
       "border_bottom": null,
       "border_left": null,
       "border_right": null,
       "border_top": null,
       "bottom": null,
       "display": null,
       "flex": null,
       "flex_flow": null,
       "grid_area": null,
       "grid_auto_columns": null,
       "grid_auto_flow": null,
       "grid_auto_rows": null,
       "grid_column": null,
       "grid_gap": null,
       "grid_row": null,
       "grid_template_areas": null,
       "grid_template_columns": null,
       "grid_template_rows": null,
       "height": null,
       "justify_content": null,
       "justify_items": null,
       "left": null,
       "margin": null,
       "max_height": null,
       "max_width": null,
       "min_height": null,
       "min_width": null,
       "object_fit": null,
       "object_position": null,
       "order": null,
       "overflow": null,
       "padding": null,
       "right": null,
       "top": null,
       "visibility": null,
       "width": null
      }
     },
     "24fc36c49b774080a7312e19e636b88e": {
      "model_module": "@jupyter-widgets/controls",
      "model_module_version": "2.0.0",
      "model_name": "HTMLModel",
      "state": {
       "_dom_classes": [],
       "_model_module": "@jupyter-widgets/controls",
       "_model_module_version": "2.0.0",
       "_model_name": "HTMLModel",
       "_view_count": null,
       "_view_module": "@jupyter-widgets/controls",
       "_view_module_version": "2.0.0",
       "_view_name": "HTMLView",
       "description": "",
       "description_allow_html": false,
       "layout": "IPY_MODEL_21e0cd00fcbc4ae29f8e4f9c06972e94",
       "placeholder": "​",
       "style": "IPY_MODEL_bce40ca89b0a48abadb7ad85060ad243",
       "tabbable": null,
       "tooltip": null,
       "value": "<ul>\n<li>(35) Support for RISE slides - jupyter-book - <a href=\"https://github.com/jupyter-book/jupyter-book/issues/792\">#792</a></li>\n<li>(34) Allow margin notes to have references in the text and hide them by default on mobile - jupyter-book - <a href=\"https://github.com/jupyter-book/jupyter-book/issues/598\">#598</a></li>\n<li>(32) Support blogs - jupyter-book - <a href=\"https://github.com/jupyter-book/jupyter-book/issues/900\">#900</a></li>\n<li>(28) Add support for multiple themes / theming - jupyter-book - <a href=\"https://github.com/jupyter-book/jupyter-book/issues/262\">#262</a></li>\n<li>(26) Support for executing notebooks in parallel during JupyterBook Build - jupyter-book - <a href=\"https://github.com/jupyter-book/jupyter-book/issues/1735\">#1735</a></li>\n<li>(22) Tag to skip cell execution - jupyter-book - <a href=\"https://github.com/jupyter-book/jupyter-book/issues/833\">#833</a></li>\n<li>(22) Author, year citations - jupyter-book - <a href=\"https://github.com/jupyter-book/jupyter-book/issues/1090\">#1090</a></li>\n<li>(19) Export a single HTML file with all assets included - jupyter-book - <a href=\"https://github.com/jupyter-book/jupyter-book/issues/1046\">#1046</a></li>\n<li>(17) Adding directives for \"question and answer\" blocks - jupyter-book - <a href=\"https://github.com/jupyter-book/jupyter-book/issues/536\">#536</a></li>\n<li>(15) Allow setting all inputs as hidden by default - jupyter-book - <a href=\"https://github.com/jupyter-book/jupyter-book/issues/666\">#666</a></li>\n<li>(14) Run code client-side with JupyterLite - jupyter-book - <a href=\"https://github.com/jupyter-book/jupyter-book/issues/1344\">#1344</a></li>\n<li>(12) Tables and figures produced by code cells are not numbered and tables don't have captions - jupyter-book - <a href=\"https://github.com/jupyter-book/jupyter-book/issues/1247\">#1247</a></li>\n<li>(12) Nest code-cells inside of admonitions and block-level syntax in myst notebooks - jupyter-book - <a href=\"https://github.com/jupyter-book/jupyter-book/issues/1178\">#1178</a></li>\n<li>(12) v0.13 has broken utterances - jupyter-book - <a href=\"https://github.com/jupyter-book/jupyter-book/issues/1762\">#1762</a></li>\n<li>(10) Full width option? - jupyter-book - <a href=\"https://github.com/jupyter-book/jupyter-book/issues/1904\">#1904</a></li>\n<li>(10) Thebe integration: Modify sources - mystmd - <a href=\"https://github.com/jupyter-book/mystmd/issues/443\">#443</a></li>\n<li>(10) Versioning support - jupyter-book - <a href=\"https://github.com/jupyter-book/jupyter-book/issues/683\">#683</a></li>\n<li>(9) Generating a PDF of an entire Jupyter Book - jupyter-book - <a href=\"https://github.com/jupyter-book/jupyter-book/issues/1106\">#1106</a></li>\n<li>(9) Add support for translations / internationalization / localization of page elements - mystmd - <a href=\"https://github.com/jupyter-book/mystmd/issues/166\">#166</a></li>\n<li>(9) Add an author to pages - jupyter-book - <a href=\"https://github.com/jupyter-book/jupyter-book/issues/1098\">#1098</a></li>\n<li>(8) problems rendering to pdf: \"skip to main content\" overlaying over text - jupyter-book - <a href=\"https://github.com/jupyter-book/jupyter-book/issues/2045\">#2045</a></li>\n<li>(8) [ENH] Add Tufte style - jupyter-book - <a href=\"https://github.com/jupyter-book/jupyter-book/issues/255\">#255</a></li>\n<li>(8) Tracking: Numpy Tutorials - mystmd - <a href=\"https://github.com/jupyter-book/mystmd/issues/1270\">#1270</a></li>\n<li>(7) Adding the bibliography block changes layout of the page - jupyter-book - <a href=\"https://github.com/jupyter-book/jupyter-book/issues/2026\">#2026</a></li>\n<li>(7) Scrolling over notebook got unexpected jump backs - jupyterlab-myst - <a href=\"https://github.com/jupyter-book/jupyterlab-myst/issues/243\">#243</a></li>\n</ul>"
      }
     },
     "26404b642a564d5f8c38d1d446f7afe7": {
      "model_module": "@jupyter-widgets/base",
      "model_module_version": "2.0.0",
      "model_name": "LayoutModel",
      "state": {
       "_model_module": "@jupyter-widgets/base",
       "_model_module_version": "2.0.0",
       "_model_name": "LayoutModel",
       "_view_count": null,
       "_view_module": "@jupyter-widgets/base",
       "_view_module_version": "2.0.0",
       "_view_name": "LayoutView",
       "align_content": null,
       "align_items": null,
       "align_self": null,
       "border_bottom": null,
       "border_left": null,
       "border_right": null,
       "border_top": null,
       "bottom": null,
       "display": null,
       "flex": null,
       "flex_flow": null,
       "grid_area": null,
       "grid_auto_columns": null,
       "grid_auto_flow": null,
       "grid_auto_rows": null,
       "grid_column": null,
       "grid_gap": null,
       "grid_row": null,
       "grid_template_areas": null,
       "grid_template_columns": null,
       "grid_template_rows": null,
       "height": null,
       "justify_content": null,
       "justify_items": null,
       "left": null,
       "margin": null,
       "max_height": null,
       "max_width": null,
       "min_height": null,
       "min_width": null,
       "object_fit": null,
       "object_position": null,
       "order": null,
       "overflow": null,
       "padding": null,
       "right": null,
       "top": null,
       "visibility": null,
       "width": null
      }
     },
     "2d5aa9a4e96d485da0ee91011dd83345": {
      "model_module": "@jupyter-widgets/controls",
      "model_module_version": "2.0.0",
      "model_name": "HTMLModel",
      "state": {
       "_dom_classes": [],
       "_model_module": "@jupyter-widgets/controls",
       "_model_module_version": "2.0.0",
       "_model_name": "HTMLModel",
       "_view_count": null,
       "_view_module": "@jupyter-widgets/controls",
       "_view_module_version": "2.0.0",
       "_view_name": "HTMLView",
       "description": "",
       "description_allow_html": false,
       "layout": "IPY_MODEL_f198d19137cb4c0e87940981a30f9dba",
       "placeholder": "​",
       "style": "IPY_MODEL_fdfac89090714e51a8571bbb33bc4d5e",
       "tabbable": null,
       "tooltip": null,
       "value": "<h5><a href=\"https://github.com/jupyter-book/mystmd.org\">jupyter-book/mystmd.org</a></h5>\n<ul>\n<li><a href=\"https://github.com/jupyter-book/mystmd.org/issues/22\">(#22)</a>: <em>Update dependencies after adding button-role</em> by <strong><a href=\"https://github.com/jnywong\">@jnywong</a></strong></li>\n<li><a href=\"https://github.com/jupyter-book/mystmd.org/issues/25\">(#25)</a>: <em>We must re-authenticate with Rowan's Vercel project</em> by <strong><a href=\"https://github.com/choldgraf\">@choldgraf</a></strong></li>\n<li><a href=\"https://github.com/jupyter-book/mystmd.org/issues/26\">(#26)</a>: <em>Document our Vercel deployment and share access to the steering council</em> by <strong><a href=\"https://github.com/choldgraf\">@choldgraf</a></strong></li>\n</ul>"
      }
     },
     "2f4757addc2f4a45a1516d2f90666fd3": {
      "model_module": "@jupyter-widgets/controls",
      "model_module_version": "2.0.0",
      "model_name": "HTMLModel",
      "state": {
       "_dom_classes": [],
       "_model_module": "@jupyter-widgets/controls",
       "_model_module_version": "2.0.0",
       "_model_name": "HTMLModel",
       "_view_count": null,
       "_view_module": "@jupyter-widgets/controls",
       "_view_module_version": "2.0.0",
       "_view_name": "HTMLView",
       "description": "",
       "description_allow_html": false,
       "layout": "IPY_MODEL_aa3dd4a2fb994e29948af09bb4c6c116",
       "placeholder": "​",
       "style": "IPY_MODEL_f985b6b1ea4b4585a86ca8d85c5d7baa",
       "tabbable": null,
       "tooltip": null,
       "value": "<h4>Closed PRs for repo: <a href=\"https://github.com/jupyter-book/myst-spec\">jupyter-book/myst-spec</a></h4>\n<h5></h5>\n<ul>\n<li><a href=\"https://github.com/jupyter-book/myst-spec/issues/70\">(#70)</a>: <em>Update Executablebooks links to Jupyter-Book org</em> by <strong><a href=\"https://github.com/choldgraf\">@choldgraf</a></strong> merged by <strong><a href=\"https://github.com/choldgraf\">@choldgraf</a></strong></li>\n</ul>"
      }
     },
     "3130e80bd57c40d7947aa1801094a5df": {
      "model_module": "@jupyter-widgets/base",
      "model_module_version": "2.0.0",
      "model_name": "LayoutModel",
      "state": {
       "_model_module": "@jupyter-widgets/base",
       "_model_module_version": "2.0.0",
       "_model_name": "LayoutModel",
       "_view_count": null,
       "_view_module": "@jupyter-widgets/base",
       "_view_module_version": "2.0.0",
       "_view_name": "LayoutView",
       "align_content": null,
       "align_items": null,
       "align_self": null,
       "border_bottom": null,
       "border_left": null,
       "border_right": null,
       "border_top": null,
       "bottom": null,
       "display": null,
       "flex": null,
       "flex_flow": null,
       "grid_area": null,
       "grid_auto_columns": null,
       "grid_auto_flow": null,
       "grid_auto_rows": null,
       "grid_column": null,
       "grid_gap": null,
       "grid_row": null,
       "grid_template_areas": null,
       "grid_template_columns": null,
       "grid_template_rows": null,
       "height": null,
       "justify_content": null,
       "justify_items": null,
       "left": null,
       "margin": null,
       "max_height": null,
       "max_width": null,
       "min_height": null,
       "min_width": null,
       "object_fit": null,
       "object_position": null,
       "order": null,
       "overflow": null,
       "padding": null,
       "right": null,
       "top": null,
       "visibility": null,
       "width": null
      }
     },
     "3a58e1b7fe3f478ea92ceb9cda6dd9fb": {
      "model_module": "@jupyter-widgets/controls",
      "model_module_version": "2.0.0",
      "model_name": "HTMLModel",
      "state": {
       "_dom_classes": [],
       "_model_module": "@jupyter-widgets/controls",
       "_model_module_version": "2.0.0",
       "_model_name": "HTMLModel",
       "_view_count": null,
       "_view_module": "@jupyter-widgets/controls",
       "_view_module_version": "2.0.0",
       "_view_name": "HTMLView",
       "description": "",
       "description_allow_html": false,
       "layout": "IPY_MODEL_f86bd5435e464d6196f438373119f9b2",
       "placeholder": "​",
       "style": "IPY_MODEL_9af80d1673ea46b3844e886a456bd1de",
       "tabbable": null,
       "tooltip": null,
       "value": "<h4>Closed PRs for repo: <a href=\"https://github.com/jupyter-book/jupyter-book\">jupyter-book/jupyter-book</a></h4>\n<h5></h5>\n<ul>\n<li><a href=\"https://github.com/jupyter-book/jupyter-book/issues/2319\">(#2319)</a>: <em>DOC: Update GH Pages Publishing Guidance</em> by <strong><a href=\"https://github.com/RHammond2\">@RHammond2</a></strong> merged by <strong><a href=\"https://github.com/agoose77\">@agoose77</a></strong></li>\n<li><a href=\"https://github.com/jupyter-book/jupyter-book/issues/2324\">(#2324)</a>: <em>⬆️ Bump <code>myst-cli</code> version</em> by <strong><a href=\"https://github.com/agoose77\">@agoose77</a></strong> merged by <strong><a href=\"https://github.com/agoose77\">@agoose77</a></strong></li>\n<li><a href=\"https://github.com/jupyter-book/jupyter-book/issues/2325\">(#2325)</a>: <em>🕰️ Fix deploy action versions</em> by <strong><a href=\"https://github.com/agoose77\">@agoose77</a></strong> merged by <strong><a href=\"https://github.com/agoose77\">@agoose77</a></strong></li>\n<li><a href=\"https://github.com/jupyter-book/jupyter-book/issues/2326\">(#2326)</a>: <em>📝 Drop reference to execution workaround, as it does not work</em> by <strong><a href=\"https://github.com/agoose77\">@agoose77</a></strong> merged by <strong><a href=\"https://github.com/agoose77\">@agoose77</a></strong></li>\n<li><a href=\"https://github.com/jupyter-book/jupyter-book/issues/2327\">(#2327)</a>: <em>MAINT: prepare for new release</em> by <strong><a href=\"https://github.com/agoose77\">@agoose77</a></strong> merged by <strong><a href=\"https://github.com/agoose77\">@agoose77</a></strong></li>\n<li><a href=\"https://github.com/jupyter-book/jupyter-book/issues/2329\">(#2329)</a>: <em>FIX: use 'main' for branch name</em> by <strong><a href=\"https://github.com/agoose77\">@agoose77</a></strong> merged by <strong><a href=\"https://github.com/agoose77\">@agoose77</a></strong></li>\n<li><a href=\"https://github.com/jupyter-book/jupyter-book/issues/2330\">(#2330)</a>: <em>DOCS: fix RTD configuration</em> by <strong><a href=\"https://github.com/agoose77\">@agoose77</a></strong> merged by <strong><a href=\"https://github.com/agoose77\">@agoose77</a></strong></li>\n<li><a href=\"https://github.com/jupyter-book/jupyter-book/issues/2331\">(#2331)</a>: <em>Updated github action</em> by <strong><a href=\"https://github.com/StefanRR\">@StefanRR</a></strong> merged by <strong><a href=\"https://github.com/agoose77\">@agoose77</a></strong></li>\n<li><a href=\"https://github.com/jupyter-book/jupyter-book/issues/2332\">(#2332)</a>: <em>DOCS: update gh-pages guidance</em> by <strong><a href=\"https://github.com/agoose77\">@agoose77</a></strong> merged by <strong><a href=\"https://github.com/agoose77\">@agoose77</a></strong></li>\n<li><a href=\"https://github.com/jupyter-book/jupyter-book/issues/2335\">(#2335)</a>: <em>🔼 Bump myst-cli version</em> by <strong><a href=\"https://github.com/JimMadge\">@JimMadge</a></strong> merged by <strong><a href=\"https://github.com/agoose77\">@agoose77</a></strong></li>\n<li><a href=\"https://github.com/jupyter-book/jupyter-book/issues/2336\">(#2336)</a>: <em>✏️ Add note about pre-release availability</em> by <strong><a href=\"https://github.com/agoose77\">@agoose77</a></strong> merged by <strong><a href=\"https://github.com/agoose77\">@agoose77</a></strong></li>\n<li><a href=\"https://github.com/jupyter-book/jupyter-book/issues/2342\">(#2342)</a>: <em>🔼 Bump <code>myst-cli</code> version for release</em> by <strong><a href=\"https://github.com/agoose77\">@agoose77</a></strong> merged by <strong><a href=\"https://github.com/agoose77\">@agoose77</a></strong></li>\n<li><a href=\"https://github.com/jupyter-book/jupyter-book/issues/2348\">(#2348)</a>: <em>DOC: minor fixes</em> by <strong><a href=\"https://github.com/bsipocz\">@bsipocz</a></strong> merged by <strong><a href=\"https://github.com/choldgraf\">@choldgraf</a></strong></li>\n</ul>"
      }
     },
     "414e4652cba5499a9d1de30aabbd79d4": {
      "model_module": "@jupyter-widgets/controls",
      "model_module_version": "2.0.0",
      "model_name": "HTMLStyleModel",
      "state": {
       "_model_module": "@jupyter-widgets/controls",
       "_model_module_version": "2.0.0",
       "_model_name": "HTMLStyleModel",
       "_view_count": null,
       "_view_module": "@jupyter-widgets/base",
       "_view_module_version": "2.0.0",
       "_view_name": "StyleView",
       "background": null,
       "description_width": "",
       "font_size": null,
       "text_color": null
      }
     },
     "41b287999d554246bcf5e2504a2dca6d": {
      "model_module": "@jupyter-widgets/base",
      "model_module_version": "2.0.0",
      "model_name": "LayoutModel",
      "state": {
       "_model_module": "@jupyter-widgets/base",
       "_model_module_version": "2.0.0",
       "_model_name": "LayoutModel",
       "_view_count": null,
       "_view_module": "@jupyter-widgets/base",
       "_view_module_version": "2.0.0",
       "_view_name": "LayoutView",
       "align_content": null,
       "align_items": null,
       "align_self": null,
       "border_bottom": null,
       "border_left": null,
       "border_right": null,
       "border_top": null,
       "bottom": null,
       "display": null,
       "flex": null,
       "flex_flow": null,
       "grid_area": null,
       "grid_auto_columns": null,
       "grid_auto_flow": null,
       "grid_auto_rows": null,
       "grid_column": null,
       "grid_gap": null,
       "grid_row": null,
       "grid_template_areas": null,
       "grid_template_columns": null,
       "grid_template_rows": null,
       "height": null,
       "justify_content": null,
       "justify_items": null,
       "left": null,
       "margin": null,
       "max_height": null,
       "max_width": null,
       "min_height": null,
       "min_width": null,
       "object_fit": null,
       "object_position": null,
       "order": null,
       "overflow": null,
       "padding": null,
       "right": null,
       "top": null,
       "visibility": null,
       "width": null
      }
     },
     "41c6f4c2a9a44fdd8be4123dc769767b": {
      "model_module": "@jupyter-widgets/base",
      "model_module_version": "2.0.0",
      "model_name": "LayoutModel",
      "state": {
       "_model_module": "@jupyter-widgets/base",
       "_model_module_version": "2.0.0",
       "_model_name": "LayoutModel",
       "_view_count": null,
       "_view_module": "@jupyter-widgets/base",
       "_view_module_version": "2.0.0",
       "_view_name": "LayoutView",
       "align_content": null,
       "align_items": null,
       "align_self": null,
       "border_bottom": null,
       "border_left": null,
       "border_right": null,
       "border_top": null,
       "bottom": null,
       "display": null,
       "flex": null,
       "flex_flow": null,
       "grid_area": null,
       "grid_auto_columns": null,
       "grid_auto_flow": null,
       "grid_auto_rows": null,
       "grid_column": null,
       "grid_gap": null,
       "grid_row": null,
       "grid_template_areas": null,
       "grid_template_columns": null,
       "grid_template_rows": null,
       "height": null,
       "justify_content": null,
       "justify_items": null,
       "left": null,
       "margin": null,
       "max_height": null,
       "max_width": null,
       "min_height": null,
       "min_width": null,
       "object_fit": null,
       "object_position": null,
       "order": null,
       "overflow": null,
       "padding": null,
       "right": null,
       "top": null,
       "visibility": null,
       "width": null
      }
     },
     "441af5b9b0c144cbadbb715fd8121eba": {
      "model_module": "@jupyter-widgets/controls",
      "model_module_version": "2.0.0",
      "model_name": "HTMLStyleModel",
      "state": {
       "_model_module": "@jupyter-widgets/controls",
       "_model_module_version": "2.0.0",
       "_model_name": "HTMLStyleModel",
       "_view_count": null,
       "_view_module": "@jupyter-widgets/base",
       "_view_module_version": "2.0.0",
       "_view_name": "StyleView",
       "background": null,
       "description_width": "",
       "font_size": null,
       "text_color": null
      }
     },
     "4501a5363710416f833890ab9cebaf79": {
      "model_module": "@jupyter-widgets/controls",
      "model_module_version": "2.0.0",
      "model_name": "HTMLModel",
      "state": {
       "_dom_classes": [],
       "_model_module": "@jupyter-widgets/controls",
       "_model_module_version": "2.0.0",
       "_model_name": "HTMLModel",
       "_view_count": null,
       "_view_module": "@jupyter-widgets/controls",
       "_view_module_version": "2.0.0",
       "_view_name": "HTMLView",
       "description": "",
       "description_allow_html": false,
       "layout": "IPY_MODEL_de6416fe2a484ff28391ca1932777f92",
       "placeholder": "​",
       "style": "IPY_MODEL_a17218f9cf314ab88bb413e9d334ba02",
       "tabbable": null,
       "tooltip": null,
       "value": "<h5><a href=\"https://github.com/jupyter-book/jupyter-book\">jupyter-book/jupyter-book</a></h5>\n<ul>\n<li><a href=\"https://github.com/jupyter-book/jupyter-book/issues/2340\">(#2340)</a>: <em>Milestone: Jupyter Book announcement at SciPy 2025</em> by <strong><a href=\"https://github.com/choldgraf\">@choldgraf</a></strong></li>\n<li><a href=\"https://github.com/jupyter-book/jupyter-book/issues/2311\">(#2311)</a>: <em>[Bug]: Couldn't push it to github pages using github workflow</em> by <strong><a href=\"https://github.com/prateekshukla1108\">@prateekshukla1108</a></strong></li>\n<li><a href=\"https://github.com/jupyter-book/jupyter-book/issues/2051\">(#2051)</a>: <em>is there a way to have a collapsible/dropdown admonition start opened ?</em> by <strong><a href=\"https://github.com/parmentelat\">@parmentelat</a></strong></li>\n<li><a href=\"https://github.com/jupyter-book/jupyter-book/issues/2347\">(#2347)</a>: <em>Nbody startpoints on a circle,  Verlet</em> by <strong><a href=\"https://github.com/denis-bz\">@denis-bz</a></strong></li>\n<li><a href=\"https://github.com/jupyter-book/jupyter-book/issues/793\">(#793)</a>: <em>Inserting subfigures with Myst-Markdown that render in book</em> by <strong><a href=\"https://github.com/broncio123\">@broncio123</a></strong></li>\n</ul>"
      }
     },
     "4575054fbb7a4badb98f249adbe280ca": {
      "model_module": "@jupyter-widgets/base",
      "model_module_version": "2.0.0",
      "model_name": "LayoutModel",
      "state": {
       "_model_module": "@jupyter-widgets/base",
       "_model_module_version": "2.0.0",
       "_model_name": "LayoutModel",
       "_view_count": null,
       "_view_module": "@jupyter-widgets/base",
       "_view_module_version": "2.0.0",
       "_view_name": "LayoutView",
       "align_content": null,
       "align_items": null,
       "align_self": null,
       "border_bottom": null,
       "border_left": null,
       "border_right": null,
       "border_top": null,
       "bottom": null,
       "display": null,
       "flex": null,
       "flex_flow": null,
       "grid_area": null,
       "grid_auto_columns": null,
       "grid_auto_flow": null,
       "grid_auto_rows": null,
       "grid_column": null,
       "grid_gap": null,
       "grid_row": null,
       "grid_template_areas": null,
       "grid_template_columns": null,
       "grid_template_rows": null,
       "height": null,
       "justify_content": null,
       "justify_items": null,
       "left": null,
       "margin": null,
       "max_height": null,
       "max_width": null,
       "min_height": null,
       "min_width": null,
       "object_fit": null,
       "object_position": null,
       "order": null,
       "overflow": null,
       "padding": null,
       "right": null,
       "top": null,
       "visibility": null,
       "width": null
      }
     },
     "460269f036364439939b2b9cf351c8be": {
      "model_module": "@jupyter-widgets/controls",
      "model_module_version": "2.0.0",
      "model_name": "HTMLStyleModel",
      "state": {
       "_model_module": "@jupyter-widgets/controls",
       "_model_module_version": "2.0.0",
       "_model_name": "HTMLStyleModel",
       "_view_count": null,
       "_view_module": "@jupyter-widgets/base",
       "_view_module_version": "2.0.0",
       "_view_name": "StyleView",
       "background": null,
       "description_width": "",
       "font_size": null,
       "text_color": null
      }
     },
     "4b6169df494744dcb8083e99c0ea9110": {
      "model_module": "@jupyter-widgets/controls",
      "model_module_version": "2.0.0",
      "model_name": "HTMLModel",
      "state": {
       "_dom_classes": [],
       "_model_module": "@jupyter-widgets/controls",
       "_model_module_version": "2.0.0",
       "_model_name": "HTMLModel",
       "_view_count": null,
       "_view_module": "@jupyter-widgets/controls",
       "_view_module_version": "2.0.0",
       "_view_name": "HTMLView",
       "description": "",
       "description_allow_html": false,
       "layout": "IPY_MODEL_a55cedbe28fa4b8fbcf2bdaf3e970db3",
       "placeholder": "​",
       "style": "IPY_MODEL_460269f036364439939b2b9cf351c8be",
       "tabbable": null,
       "tooltip": null,
       "value": "<h5><a href=\"https://github.com/jupyter-book/myst-theme\">jupyter-book/myst-theme</a></h5>\n<ul>\n<li><a href=\"https://github.com/jupyter-book/myst-theme/issues/527\">(#527)</a>: <em>Support Bokeh Plots</em> by <strong><a href=\"https://github.com/acocac\">@acocac</a></strong></li>\n<li><a href=\"https://github.com/jupyter-book/myst-theme/issues/437\">(#437)</a>: _Allow authors to link custom JavaScript scripts to their pages by adding HTML manually or via configuration _ by <strong><a href=\"https://github.com/choldgraf\">@choldgraf</a></strong></li>\n<li><a href=\"https://github.com/jupyter-book/myst-theme/issues/567\">(#567)</a>: <em>Move colour choices to theme variables</em> by <strong><a href=\"https://github.com/agoose77\">@agoose77</a></strong></li>\n<li><a href=\"https://github.com/jupyter-book/myst-theme/issues/342\">(#342)</a>: <em>HTML served with <code>&lt;img src=http://localhost:3100&gt; even with</code>HOST=10.0.0.1 myst start --keep-host`</em> by <strong><a href=\"https://github.com/drewlio\">@drewlio</a></strong></li>\n<li><a href=\"https://github.com/jupyter-book/myst-theme/issues/513\">(#513)</a>: <em>Support return navigation for footnotes on mobile</em> by <strong><a href=\"https://github.com/agoose77\">@agoose77</a></strong></li>\n</ul>"
      }
     },
     "4bd847c9ddfe4e4a862af9e2a950e6bc": {
      "model_module": "@jupyter-widgets/controls",
      "model_module_version": "2.0.0",
      "model_name": "HTMLModel",
      "state": {
       "_dom_classes": [],
       "_model_module": "@jupyter-widgets/controls",
       "_model_module_version": "2.0.0",
       "_model_name": "HTMLModel",
       "_view_count": null,
       "_view_module": "@jupyter-widgets/controls",
       "_view_module_version": "2.0.0",
       "_view_name": "HTMLView",
       "description": "",
       "description_allow_html": false,
       "layout": "IPY_MODEL_bf4238a1afde486191ed61cd15682cd3",
       "placeholder": "​",
       "style": "IPY_MODEL_041ebc10282a4913ac7b8d51862f5f3d",
       "tabbable": null,
       "tooltip": null,
       "value": "<h5><a href=\"https://github.com/jupyter-book/jupyterlab-myst\">jupyter-book/jupyterlab-myst</a></h5>\n<ul>\n<li><a href=\"https://github.com/jupyter-book/jupyterlab-myst/issues/243\">(#243)</a>: <em>Scrolling over notebook got unexpected jump backs</em> by <strong><a href=\"https://github.com/AllanChain\">@AllanChain</a></strong></li>\n<li><a href=\"https://github.com/jupyter-book/jupyterlab-myst/issues/257\">(#257)</a>: <em>Dancing Page</em> by <strong><a href=\"https://github.com/microcoder\">@microcoder</a></strong></li>\n<li><a href=\"https://github.com/jupyter-book/jupyterlab-myst/issues/248\">(#248)</a>: <em>Do Not highlight links</em> by <strong><a href=\"https://github.com/microcoder\">@microcoder</a></strong></li>\n<li><a href=\"https://github.com/jupyter-book/jupyterlab-myst/issues/175\">(#175)</a>: <em><code>eval</code> role not working as expected</em> by <strong><a href=\"https://github.com/rkansal47\">@rkansal47</a></strong></li>\n<li><a href=\"https://github.com/jupyter-book/jupyterlab-myst/issues/250\">(#250)</a>: <em>Scrolling is stucking on the page</em> by <strong><a href=\"https://github.com/microcoder\">@microcoder</a></strong></li>\n</ul>"
      }
     },
     "4cd3a7bff1b74cd38c6598d092d745e4": {
      "model_module": "@jupyter-widgets/controls",
      "model_module_version": "2.0.0",
      "model_name": "HTMLModel",
      "state": {
       "_dom_classes": [],
       "_model_module": "@jupyter-widgets/controls",
       "_model_module_version": "2.0.0",
       "_model_name": "HTMLModel",
       "_view_count": null,
       "_view_module": "@jupyter-widgets/controls",
       "_view_module_version": "2.0.0",
       "_view_name": "HTMLView",
       "description": "",
       "description_allow_html": false,
       "layout": "IPY_MODEL_f40c7445b4f84acebd956395aabf6311",
       "placeholder": "​",
       "style": "IPY_MODEL_7cacd7c64b35411ea7b3ebf3b3809ee6",
       "tabbable": null,
       "tooltip": null,
       "value": "<h4>Closed PRs for repo: <a href=\"https://github.com/jupyter-book/mystmd.org\">jupyter-book/mystmd.org</a></h4>\n<h5></h5>\n<ul>\n<li><a href=\"https://github.com/jupyter-book/mystmd.org/issues/23\">(#23)</a>: <em>👪 Pass <code>root.children</code> to tree renderer</em> by <strong><a href=\"https://github.com/agoose77\">@agoose77</a></strong> merged by <strong><a href=\"https://github.com/agoose77\">@agoose77</a></strong></li>\n<li><a href=\"https://github.com/jupyter-book/mystmd.org/issues/24\">(#24)</a>: <em>📸 Use picsum instead of unsplash</em> by <strong><a href=\"https://github.com/agoose77\">@agoose77</a></strong> merged by <strong><a href=\"https://github.com/agoose77\">@agoose77</a></strong></li>\n<li><a href=\"https://github.com/jupyter-book/mystmd.org/issues/27\">(#27)</a>: <em>Add workflow dispatch option to vercel deployment</em> by <strong><a href=\"https://github.com/choldgraf\">@choldgraf</a></strong> merged by <strong><a href=\"https://github.com/choldgraf\">@choldgraf</a></strong></li>\n<li><a href=\"https://github.com/jupyter-book/mystmd.org/issues/28\">(#28)</a>: <em>📖 Point to the mystmd documentation guide in our README</em> by <strong><a href=\"https://github.com/choldgraf\">@choldgraf</a></strong> merged by <strong><a href=\"https://github.com/rowanc1\">@rowanc1</a></strong></li>\n<li><a href=\"https://github.com/jupyter-book/mystmd.org/issues/29\">(#29)</a>: <em>🔗 Don't include <code>?url</code> in sandbox copy button link</em> by <strong><a href=\"https://github.com/agoose77\">@agoose77</a></strong> merged by <strong><a href=\"https://github.com/agoose77\">@agoose77</a></strong></li>\n<li><a href=\"https://github.com/jupyter-book/mystmd.org/issues/30\">(#30)</a>: <em>Update a few links from Executablebooks to Jupyter Book</em> by <strong><a href=\"https://github.com/choldgraf\">@choldgraf</a></strong> merged by <strong><a href=\"https://github.com/choldgraf\">@choldgraf</a></strong></li>\n</ul>"
      }
     },
     "4d0fdd1bd4d24adc814b6afef6dbf0ff": {
      "model_module": "@jupyter-widgets/controls",
      "model_module_version": "2.0.0",
      "model_name": "HTMLModel",
      "state": {
       "_dom_classes": [],
       "_model_module": "@jupyter-widgets/controls",
       "_model_module_version": "2.0.0",
       "_model_name": "HTMLModel",
       "_view_count": null,
       "_view_module": "@jupyter-widgets/controls",
       "_view_module_version": "2.0.0",
       "_view_name": "HTMLView",
       "description": "",
       "description_allow_html": false,
       "layout": "IPY_MODEL_e88a33b668904e4e943d2b3a91f62f88",
       "placeholder": "​",
       "style": "IPY_MODEL_008b0c58f3b6407fbbd7eccfb596cdd9",
       "tabbable": null,
       "tooltip": null,
       "value": "<h5><a href=\"https://github.com/jupyter-book/jupyter-book\">jupyter-book/jupyter-book</a></h5>\n<ul>\n<li><a href=\"https://github.com/jupyter-book/jupyter-book/issues/2340\">(#2340)</a>: <em>Milestone: Jupyter Book announcement at SciPy 2025</em> by <strong><a href=\"https://github.com/choldgraf\">@choldgraf</a></strong></li>\n<li><a href=\"https://github.com/jupyter-book/jupyter-book/issues/2311\">(#2311)</a>: <em>[Bug]: Couldn't push it to github pages using github workflow</em> by <strong><a href=\"https://github.com/prateekshukla1108\">@prateekshukla1108</a></strong></li>\n<li><a href=\"https://github.com/jupyter-book/jupyter-book/issues/2051\">(#2051)</a>: <em>is there a way to have a collapsible/dropdown admonition start opened ?</em> by <strong><a href=\"https://github.com/parmentelat\">@parmentelat</a></strong></li>\n<li><a href=\"https://github.com/jupyter-book/jupyter-book/issues/2347\">(#2347)</a>: <em>Nbody startpoints on a circle,  Verlet</em> by <strong><a href=\"https://github.com/denis-bz\">@denis-bz</a></strong></li>\n<li><a href=\"https://github.com/jupyter-book/jupyter-book/issues/793\">(#793)</a>: <em>Inserting subfigures with Myst-Markdown that render in book</em> by <strong><a href=\"https://github.com/broncio123\">@broncio123</a></strong></li>\n</ul>"
      }
     },
     "671bde70a6244f7bbe7532ec61667a0b": {
      "model_module": "@jupyter-widgets/controls",
      "model_module_version": "2.0.0",
      "model_name": "HTMLStyleModel",
      "state": {
       "_model_module": "@jupyter-widgets/controls",
       "_model_module_version": "2.0.0",
       "_model_name": "HTMLStyleModel",
       "_view_count": null,
       "_view_module": "@jupyter-widgets/base",
       "_view_module_version": "2.0.0",
       "_view_name": "StyleView",
       "background": null,
       "description_width": "",
       "font_size": null,
       "text_color": null
      }
     },
     "78d7ebb8ef734faa9975324877450b7b": {
      "model_module": "@jupyter-widgets/controls",
      "model_module_version": "2.0.0",
      "model_name": "HTMLModel",
      "state": {
       "_dom_classes": [],
       "_model_module": "@jupyter-widgets/controls",
       "_model_module_version": "2.0.0",
       "_model_name": "HTMLModel",
       "_view_count": null,
       "_view_module": "@jupyter-widgets/controls",
       "_view_module_version": "2.0.0",
       "_view_name": "HTMLView",
       "description": "",
       "description_allow_html": false,
       "layout": "IPY_MODEL_10bb1270ddb544249da1069aa1e10cd7",
       "placeholder": "​",
       "style": "IPY_MODEL_414e4652cba5499a9d1de30aabbd79d4",
       "tabbable": null,
       "tooltip": null,
       "value": "<h5><a href=\"https://github.com/jupyter-book/mystmd.org\">jupyter-book/mystmd.org</a></h5>\n<ul>\n<li><a href=\"https://github.com/jupyter-book/mystmd.org/issues/22\">(#22)</a>: <em>Update dependencies after adding button-role</em> by <strong><a href=\"https://github.com/jnywong\">@jnywong</a></strong></li>\n<li><a href=\"https://github.com/jupyter-book/mystmd.org/issues/25\">(#25)</a>: <em>We must re-authenticate with Rowan's Vercel project</em> by <strong><a href=\"https://github.com/choldgraf\">@choldgraf</a></strong></li>\n<li><a href=\"https://github.com/jupyter-book/mystmd.org/issues/26\">(#26)</a>: <em>Document our Vercel deployment and share access to the steering council</em> by <strong><a href=\"https://github.com/choldgraf\">@choldgraf</a></strong></li>\n</ul>"
      }
     },
     "7a04234263e846e89f0dde6cf47883d3": {
      "model_module": "@jupyter-widgets/controls",
      "model_module_version": "2.0.0",
      "model_name": "HTMLStyleModel",
      "state": {
       "_model_module": "@jupyter-widgets/controls",
       "_model_module_version": "2.0.0",
       "_model_name": "HTMLStyleModel",
       "_view_count": null,
       "_view_module": "@jupyter-widgets/base",
       "_view_module_version": "2.0.0",
       "_view_name": "StyleView",
       "background": null,
       "description_width": "",
       "font_size": null,
       "text_color": null
      }
     },
     "7b3bee8177414bb69524d022946cf82b": {
      "model_module": "@jupyter-widgets/base",
      "model_module_version": "2.0.0",
      "model_name": "LayoutModel",
      "state": {
       "_model_module": "@jupyter-widgets/base",
       "_model_module_version": "2.0.0",
       "_model_name": "LayoutModel",
       "_view_count": null,
       "_view_module": "@jupyter-widgets/base",
       "_view_module_version": "2.0.0",
       "_view_name": "LayoutView",
       "align_content": null,
       "align_items": null,
       "align_self": null,
       "border_bottom": null,
       "border_left": null,
       "border_right": null,
       "border_top": null,
       "bottom": null,
       "display": null,
       "flex": null,
       "flex_flow": null,
       "grid_area": null,
       "grid_auto_columns": null,
       "grid_auto_flow": null,
       "grid_auto_rows": null,
       "grid_column": null,
       "grid_gap": null,
       "grid_row": null,
       "grid_template_areas": null,
       "grid_template_columns": null,
       "grid_template_rows": null,
       "height": null,
       "justify_content": null,
       "justify_items": null,
       "left": null,
       "margin": null,
       "max_height": null,
       "max_width": null,
       "min_height": null,
       "min_width": null,
       "object_fit": null,
       "object_position": null,
       "order": null,
       "overflow": null,
       "padding": null,
       "right": null,
       "top": null,
       "visibility": null,
       "width": null
      }
     },
     "7ba09cca25aa4f01a7f44a2dc64458f8": {
      "model_module": "@jupyter-widgets/controls",
      "model_module_version": "2.0.0",
      "model_name": "HTMLModel",
      "state": {
       "_dom_classes": [],
       "_model_module": "@jupyter-widgets/controls",
       "_model_module_version": "2.0.0",
       "_model_name": "HTMLModel",
       "_view_count": null,
       "_view_module": "@jupyter-widgets/controls",
       "_view_module_version": "2.0.0",
       "_view_name": "HTMLView",
       "description": "",
       "description_allow_html": false,
       "layout": "IPY_MODEL_7b3bee8177414bb69524d022946cf82b",
       "placeholder": "​",
       "style": "IPY_MODEL_a93693d74b014c9b9010b1153892a7c5",
       "tabbable": null,
       "tooltip": null,
       "value": "<h5><a href=\"https://github.com/jupyter-book/mystmd\">jupyter-book/mystmd</a></h5>\n<ul>\n<li><a href=\"https://github.com/jupyter-book/mystmd/issues/1336\">(#1336)</a>: <em>Tracking: Turing Way</em> by <strong><a href=\"https://github.com/rowanc1\">@rowanc1</a></strong></li>\n<li><a href=\"https://github.com/jupyter-book/mystmd/issues/189\">(#189)</a>: <em>Audit of Features missing in JupyterBook</em> by <strong><a href=\"https://github.com/rowanc1\">@rowanc1</a></strong></li>\n<li><a href=\"https://github.com/jupyter-book/mystmd/issues/302\">(#302)</a>: <em>Support running MyST previews / running a myst server on JupyterHub</em> by <strong><a href=\"https://github.com/fperez\">@fperez</a></strong></li>\n<li><a href=\"https://github.com/jupyter-book/mystmd/issues/1879\">(#1879)</a>: <em>Support multi-language content and pages with translations</em> by <strong><a href=\"https://github.com/choldgraf\">@choldgraf</a></strong></li>\n<li><a href=\"https://github.com/jupyter-book/mystmd/issues/1967\">(#1967)</a>: <em>Ability to build only one file without considering other .md files + no warning about missing myst.yml</em> by <strong><a href=\"https://github.com/paugier\">@paugier</a></strong></li>\n</ul>"
      }
     },
     "7cacd7c64b35411ea7b3ebf3b3809ee6": {
      "model_module": "@jupyter-widgets/controls",
      "model_module_version": "2.0.0",
      "model_name": "HTMLStyleModel",
      "state": {
       "_model_module": "@jupyter-widgets/controls",
       "_model_module_version": "2.0.0",
       "_model_name": "HTMLStyleModel",
       "_view_count": null,
       "_view_module": "@jupyter-widgets/base",
       "_view_module_version": "2.0.0",
       "_view_name": "StyleView",
       "background": null,
       "description_width": "",
       "font_size": null,
       "text_color": null
      }
     },
     "7e39646c7572400db42598af54d9f95c": {
      "model_module": "@jupyter-widgets/base",
      "model_module_version": "2.0.0",
      "model_name": "LayoutModel",
      "state": {
       "_model_module": "@jupyter-widgets/base",
       "_model_module_version": "2.0.0",
       "_model_name": "LayoutModel",
       "_view_count": null,
       "_view_module": "@jupyter-widgets/base",
       "_view_module_version": "2.0.0",
       "_view_name": "LayoutView",
       "align_content": null,
       "align_items": null,
       "align_self": null,
       "border_bottom": null,
       "border_left": null,
       "border_right": null,
       "border_top": null,
       "bottom": null,
       "display": null,
       "flex": null,
       "flex_flow": null,
       "grid_area": null,
       "grid_auto_columns": null,
       "grid_auto_flow": null,
       "grid_auto_rows": null,
       "grid_column": null,
       "grid_gap": null,
       "grid_row": null,
       "grid_template_areas": null,
       "grid_template_columns": null,
       "grid_template_rows": null,
       "height": null,
       "justify_content": null,
       "justify_items": null,
       "left": null,
       "margin": null,
       "max_height": null,
       "max_width": null,
       "min_height": null,
       "min_width": null,
       "object_fit": null,
       "object_position": null,
       "order": null,
       "overflow": null,
       "padding": null,
       "right": null,
       "top": null,
       "visibility": null,
       "width": null
      }
     },
     "808aa06c7fb64b88964b4810335bc5a6": {
      "model_module": "@jupyter-widgets/controls",
      "model_module_version": "2.0.0",
      "model_name": "HTMLModel",
      "state": {
       "_dom_classes": [],
       "_model_module": "@jupyter-widgets/controls",
       "_model_module_version": "2.0.0",
       "_model_name": "HTMLModel",
       "_view_count": null,
       "_view_module": "@jupyter-widgets/controls",
       "_view_module_version": "2.0.0",
       "_view_name": "HTMLView",
       "description": "",
       "description_allow_html": false,
       "layout": "IPY_MODEL_7e39646c7572400db42598af54d9f95c",
       "placeholder": "​",
       "style": "IPY_MODEL_e09c5faacbf54a6bb21bda9174c2debc",
       "tabbable": null,
       "tooltip": null,
       "value": "<h5><a href=\"https://github.com/jupyter-book/mystmd\">jupyter-book/mystmd</a></h5>\n<ul>\n<li><a href=\"https://github.com/jupyter-book/mystmd/issues/1336\">(#1336)</a>: <em>Tracking: Turing Way</em> by <strong><a href=\"https://github.com/rowanc1\">@rowanc1</a></strong></li>\n<li><a href=\"https://github.com/jupyter-book/mystmd/issues/189\">(#189)</a>: <em>Audit of Features missing in JupyterBook</em> by <strong><a href=\"https://github.com/rowanc1\">@rowanc1</a></strong></li>\n<li><a href=\"https://github.com/jupyter-book/mystmd/issues/302\">(#302)</a>: <em>Support running MyST previews / running a myst server on JupyterHub</em> by <strong><a href=\"https://github.com/fperez\">@fperez</a></strong></li>\n<li><a href=\"https://github.com/jupyter-book/mystmd/issues/1879\">(#1879)</a>: <em>Support multi-language content and pages with translations</em> by <strong><a href=\"https://github.com/choldgraf\">@choldgraf</a></strong></li>\n<li><a href=\"https://github.com/jupyter-book/mystmd/issues/1967\">(#1967)</a>: <em>Ability to build only one file without considering other .md files + no warning about missing myst.yml</em> by <strong><a href=\"https://github.com/paugier\">@paugier</a></strong></li>\n</ul>"
      }
     },
     "82826ed74e244889ac9fae3af0b30eeb": {
      "model_module": "@jupyter-widgets/controls",
      "model_module_version": "2.0.0",
      "model_name": "HTMLModel",
      "state": {
       "_dom_classes": [],
       "_model_module": "@jupyter-widgets/controls",
       "_model_module_version": "2.0.0",
       "_model_name": "HTMLModel",
       "_view_count": null,
       "_view_module": "@jupyter-widgets/controls",
       "_view_module_version": "2.0.0",
       "_view_name": "HTMLView",
       "description": "",
       "description_allow_html": false,
       "layout": "IPY_MODEL_26404b642a564d5f8c38d1d446f7afe7",
       "placeholder": "​",
       "style": "IPY_MODEL_10413be150af4975b2e14b12e7fb4150",
       "tabbable": null,
       "tooltip": null,
       "value": "<h5><a href=\"https://github.com/jupyter-book/team-compass\">jupyter-book/team-compass</a></h5>\n<ul>\n<li><a href=\"https://github.com/jupyter-book/team-compass/issues/20\">(#20)</a>: <em>Run publicly accessible team meetings</em> by <strong><a href=\"https://github.com/choldgraf\">@choldgraf</a></strong></li>\n<li><a href=\"https://github.com/jupyter-book/team-compass/issues/26\">(#26)</a>: <em>Encourage \"experience reports\" from users</em> by <strong><a href=\"https://github.com/mfisher87\">@mfisher87</a></strong></li>\n<li><a href=\"https://github.com/jupyter-book/team-compass/issues/24\">(#24)</a>: <em>Move our DNS owner from squarespace to Jupyter's CloudFlare</em> by <strong><a href=\"https://github.com/choldgraf\">@choldgraf</a></strong></li>\n<li><a href=\"https://github.com/jupyter-book/team-compass/issues/12\">(#12)</a>: <em>Switch references to executablebooks to instead point to jupyterbook</em> by <strong><a href=\"https://github.com/choldgraf\">@choldgraf</a></strong></li>\n<li><a href=\"https://github.com/jupyter-book/team-compass/issues/25\">(#25)</a>: <em>Make our documentation deployment infrastructure available to all jupyter book team members</em> by <strong><a href=\"https://github.com/choldgraf\">@choldgraf</a></strong></li>\n</ul>"
      }
     },
     "82ba8fb6c22d47f88aecf3897a7173c2": {
      "model_module": "@jupyter-widgets/base",
      "model_module_version": "2.0.0",
      "model_name": "LayoutModel",
      "state": {
       "_model_module": "@jupyter-widgets/base",
       "_model_module_version": "2.0.0",
       "_model_name": "LayoutModel",
       "_view_count": null,
       "_view_module": "@jupyter-widgets/base",
       "_view_module_version": "2.0.0",
       "_view_name": "LayoutView",
       "align_content": null,
       "align_items": null,
       "align_self": null,
       "border_bottom": null,
       "border_left": null,
       "border_right": null,
       "border_top": null,
       "bottom": null,
       "display": null,
       "flex": null,
       "flex_flow": null,
       "grid_area": null,
       "grid_auto_columns": null,
       "grid_auto_flow": null,
       "grid_auto_rows": null,
       "grid_column": null,
       "grid_gap": null,
       "grid_row": null,
       "grid_template_areas": null,
       "grid_template_columns": null,
       "grid_template_rows": null,
       "height": null,
       "justify_content": null,
       "justify_items": null,
       "left": null,
       "margin": null,
       "max_height": null,
       "max_width": null,
       "min_height": null,
       "min_width": null,
       "object_fit": null,
       "object_position": null,
       "order": null,
       "overflow": null,
       "padding": null,
       "right": null,
       "top": null,
       "visibility": null,
       "width": null
      }
     },
     "83408f948e9e42bcb4f7fc8422411f45": {
      "model_module": "@jupyter-widgets/controls",
      "model_module_version": "2.0.0",
      "model_name": "HTMLStyleModel",
      "state": {
       "_model_module": "@jupyter-widgets/controls",
       "_model_module_version": "2.0.0",
       "_model_name": "HTMLStyleModel",
       "_view_count": null,
       "_view_module": "@jupyter-widgets/base",
       "_view_module_version": "2.0.0",
       "_view_name": "StyleView",
       "background": null,
       "description_width": "",
       "font_size": null,
       "text_color": null
      }
     },
     "83bc7f57472c4d04b57592dbb4495a05": {
      "model_module": "@jupyter-widgets/controls",
      "model_module_version": "2.0.0",
      "model_name": "HTMLModel",
      "state": {
       "_dom_classes": [],
       "_model_module": "@jupyter-widgets/controls",
       "_model_module_version": "2.0.0",
       "_model_name": "HTMLModel",
       "_view_count": null,
       "_view_module": "@jupyter-widgets/controls",
       "_view_module_version": "2.0.0",
       "_view_name": "HTMLView",
       "description": "",
       "description_allow_html": false,
       "layout": "IPY_MODEL_08377014927b436c993e87a85d6e70ac",
       "placeholder": "​",
       "style": "IPY_MODEL_7a04234263e846e89f0dde6cf47883d3",
       "tabbable": null,
       "tooltip": null,
       "value": "<h4>Closed PRs for repo: <a href=\"https://github.com/jupyter-book/team-compass\">jupyter-book/team-compass</a></h4>\n<h5></h5>\n<ul>\n<li><a href=\"https://github.com/jupyter-book/team-compass/issues/15\">(#15)</a>: <em>🧹 Drop images (now referenced from <code>meta</code>)</em> by <strong><a href=\"https://github.com/agoose77\">@agoose77</a></strong> merged by <strong><a href=\"https://github.com/choldgraf\">@choldgraf</a></strong></li>\n<li><a href=\"https://github.com/jupyter-book/team-compass/issues/18\">(#18)</a>: <em>Adding light decision making process</em> by <strong><a href=\"https://github.com/choldgraf\">@choldgraf</a></strong> merged by <strong><a href=\"https://github.com/choldgraf\">@choldgraf</a></strong></li>\n<li><a href=\"https://github.com/jupyter-book/team-compass/issues/22\">(#22)</a>: <em>📝Add small note about sentence-casing</em> by <strong><a href=\"https://github.com/agoose77\">@agoose77</a></strong> merged by <strong><a href=\"https://github.com/choldgraf\">@choldgraf</a></strong></li>\n<li><a href=\"https://github.com/jupyter-book/team-compass/issues/23\">(#23)</a>: <em>🗓️ Add meeting schedule</em> by <strong><a href=\"https://github.com/agoose77\">@agoose77</a></strong> merged by <strong><a href=\"https://github.com/agoose77\">@agoose77</a></strong></li>\n<li><a href=\"https://github.com/jupyter-book/team-compass/issues/29\">(#29)</a>: <em>Add more prominent contributor information</em> by <strong><a href=\"https://github.com/choldgraf\">@choldgraf</a></strong> merged by <strong><a href=\"https://github.com/choldgraf\">@choldgraf</a></strong></li>\n<li><a href=\"https://github.com/jupyter-book/team-compass/issues/30\">(#30)</a>: <em>Clarify where the compass live site is hosted</em> by <strong><a href=\"https://github.com/choldgraf\">@choldgraf</a></strong> merged by <strong><a href=\"https://github.com/choldgraf\">@choldgraf</a></strong></li>\n</ul>"
      }
     },
     "85f48bb8451846a2810527c636bfaef2": {
      "model_module": "@jupyter-widgets/base",
      "model_module_version": "2.0.0",
      "model_name": "LayoutModel",
      "state": {
       "_model_module": "@jupyter-widgets/base",
       "_model_module_version": "2.0.0",
       "_model_name": "LayoutModel",
       "_view_count": null,
       "_view_module": "@jupyter-widgets/base",
       "_view_module_version": "2.0.0",
       "_view_name": "LayoutView",
       "align_content": null,
       "align_items": null,
       "align_self": null,
       "border_bottom": null,
       "border_left": null,
       "border_right": null,
       "border_top": null,
       "bottom": null,
       "display": null,
       "flex": null,
       "flex_flow": null,
       "grid_area": null,
       "grid_auto_columns": null,
       "grid_auto_flow": null,
       "grid_auto_rows": null,
       "grid_column": null,
       "grid_gap": null,
       "grid_row": null,
       "grid_template_areas": null,
       "grid_template_columns": null,
       "grid_template_rows": null,
       "height": null,
       "justify_content": null,
       "justify_items": null,
       "left": null,
       "margin": null,
       "max_height": null,
       "max_width": null,
       "min_height": null,
       "min_width": null,
       "object_fit": null,
       "object_position": null,
       "order": null,
       "overflow": null,
       "padding": null,
       "right": null,
       "top": null,
       "visibility": null,
       "width": null
      }
     },
     "94428d2bba574cef85b8430bbad1198c": {
      "model_module": "@jupyter-widgets/controls",
      "model_module_version": "2.0.0",
      "model_name": "HTMLStyleModel",
      "state": {
       "_model_module": "@jupyter-widgets/controls",
       "_model_module_version": "2.0.0",
       "_model_name": "HTMLStyleModel",
       "_view_count": null,
       "_view_module": "@jupyter-widgets/base",
       "_view_module_version": "2.0.0",
       "_view_name": "StyleView",
       "background": null,
       "description_width": "",
       "font_size": null,
       "text_color": null
      }
     },
     "99cbe421785c43e29cff098f139f57ec": {
      "model_module": "@jupyter-widgets/controls",
      "model_module_version": "2.0.0",
      "model_name": "TabModel",
      "state": {
       "_dom_classes": [],
       "_model_module": "@jupyter-widgets/controls",
       "_model_module_version": "2.0.0",
       "_model_name": "TabModel",
       "_view_count": null,
       "_view_module": "@jupyter-widgets/controls",
       "_view_module_version": "2.0.0",
       "_view_name": "TabView",
       "box_style": "",
       "children": [
        "IPY_MODEL_4501a5363710416f833890ab9cebaf79",
        "IPY_MODEL_1a101656706f410f8011e52020ccfa3b",
        "IPY_MODEL_02bc0b4f06d34895beb47f93fb47e2bd",
        "IPY_MODEL_4b6169df494744dcb8083e99c0ea9110",
        "IPY_MODEL_7ba09cca25aa4f01a7f44a2dc64458f8",
        "IPY_MODEL_78d7ebb8ef734faa9975324877450b7b",
        "IPY_MODEL_a922f17056a74a58995fe0388906a66b",
        "IPY_MODEL_f54e58a81b7d48a687c95043050b39e0"
       ],
       "layout": "IPY_MODEL_d8c93b377e954f26be29ce63c5984df1",
       "selected_index": 0,
       "tabbable": null,
       "titles": [
        "jupyter-book",
        "jupyterlab-myst",
        "myst-enhancement-proposals",
        "myst-theme",
        "mystmd",
        "mystmd.org",
        "team-compass",
        "thebe"
       ],
       "tooltip": null
      }
     },
     "9af80d1673ea46b3844e886a456bd1de": {
      "model_module": "@jupyter-widgets/controls",
      "model_module_version": "2.0.0",
      "model_name": "HTMLStyleModel",
      "state": {
       "_model_module": "@jupyter-widgets/controls",
       "_model_module_version": "2.0.0",
       "_model_name": "HTMLStyleModel",
       "_view_count": null,
       "_view_module": "@jupyter-widgets/base",
       "_view_module_version": "2.0.0",
       "_view_name": "StyleView",
       "background": null,
       "description_width": "",
       "font_size": null,
       "text_color": null
      }
     },
     "a09cb409d7af40ab9de6552247d76e76": {
      "model_module": "@jupyter-widgets/base",
      "model_module_version": "2.0.0",
      "model_name": "LayoutModel",
      "state": {
       "_model_module": "@jupyter-widgets/base",
       "_model_module_version": "2.0.0",
       "_model_name": "LayoutModel",
       "_view_count": null,
       "_view_module": "@jupyter-widgets/base",
       "_view_module_version": "2.0.0",
       "_view_name": "LayoutView",
       "align_content": null,
       "align_items": null,
       "align_self": null,
       "border_bottom": null,
       "border_left": null,
       "border_right": null,
       "border_top": null,
       "bottom": null,
       "display": null,
       "flex": null,
       "flex_flow": null,
       "grid_area": null,
       "grid_auto_columns": null,
       "grid_auto_flow": null,
       "grid_auto_rows": null,
       "grid_column": null,
       "grid_gap": null,
       "grid_row": null,
       "grid_template_areas": null,
       "grid_template_columns": null,
       "grid_template_rows": null,
       "height": null,
       "justify_content": null,
       "justify_items": null,
       "left": null,
       "margin": null,
       "max_height": null,
       "max_width": null,
       "min_height": null,
       "min_width": null,
       "object_fit": null,
       "object_position": null,
       "order": null,
       "overflow": null,
       "padding": null,
       "right": null,
       "top": null,
       "visibility": null,
       "width": null
      }
     },
     "a17218f9cf314ab88bb413e9d334ba02": {
      "model_module": "@jupyter-widgets/controls",
      "model_module_version": "2.0.0",
      "model_name": "HTMLStyleModel",
      "state": {
       "_model_module": "@jupyter-widgets/controls",
       "_model_module_version": "2.0.0",
       "_model_name": "HTMLStyleModel",
       "_view_count": null,
       "_view_module": "@jupyter-widgets/base",
       "_view_module_version": "2.0.0",
       "_view_name": "StyleView",
       "background": null,
       "description_width": "",
       "font_size": null,
       "text_color": null
      }
     },
     "a48045b4c8e0410fb517656252ba5944": {
      "model_module": "@jupyter-widgets/controls",
      "model_module_version": "2.0.0",
      "model_name": "HTMLStyleModel",
      "state": {
       "_model_module": "@jupyter-widgets/controls",
       "_model_module_version": "2.0.0",
       "_model_name": "HTMLStyleModel",
       "_view_count": null,
       "_view_module": "@jupyter-widgets/base",
       "_view_module_version": "2.0.0",
       "_view_name": "StyleView",
       "background": null,
       "description_width": "",
       "font_size": null,
       "text_color": null
      }
     },
     "a4e77c2b2af74665a3660818bb98719f": {
      "model_module": "@jupyter-widgets/base",
      "model_module_version": "2.0.0",
      "model_name": "LayoutModel",
      "state": {
       "_model_module": "@jupyter-widgets/base",
       "_model_module_version": "2.0.0",
       "_model_name": "LayoutModel",
       "_view_count": null,
       "_view_module": "@jupyter-widgets/base",
       "_view_module_version": "2.0.0",
       "_view_name": "LayoutView",
       "align_content": null,
       "align_items": null,
       "align_self": null,
       "border_bottom": null,
       "border_left": null,
       "border_right": null,
       "border_top": null,
       "bottom": null,
       "display": null,
       "flex": null,
       "flex_flow": null,
       "grid_area": null,
       "grid_auto_columns": null,
       "grid_auto_flow": null,
       "grid_auto_rows": null,
       "grid_column": null,
       "grid_gap": null,
       "grid_row": null,
       "grid_template_areas": null,
       "grid_template_columns": null,
       "grid_template_rows": null,
       "height": null,
       "justify_content": null,
       "justify_items": null,
       "left": null,
       "margin": null,
       "max_height": null,
       "max_width": null,
       "min_height": null,
       "min_width": null,
       "object_fit": null,
       "object_position": null,
       "order": null,
       "overflow": null,
       "padding": null,
       "right": null,
       "top": null,
       "visibility": null,
       "width": null
      }
     },
     "a55cedbe28fa4b8fbcf2bdaf3e970db3": {
      "model_module": "@jupyter-widgets/base",
      "model_module_version": "2.0.0",
      "model_name": "LayoutModel",
      "state": {
       "_model_module": "@jupyter-widgets/base",
       "_model_module_version": "2.0.0",
       "_model_name": "LayoutModel",
       "_view_count": null,
       "_view_module": "@jupyter-widgets/base",
       "_view_module_version": "2.0.0",
       "_view_name": "LayoutView",
       "align_content": null,
       "align_items": null,
       "align_self": null,
       "border_bottom": null,
       "border_left": null,
       "border_right": null,
       "border_top": null,
       "bottom": null,
       "display": null,
       "flex": null,
       "flex_flow": null,
       "grid_area": null,
       "grid_auto_columns": null,
       "grid_auto_flow": null,
       "grid_auto_rows": null,
       "grid_column": null,
       "grid_gap": null,
       "grid_row": null,
       "grid_template_areas": null,
       "grid_template_columns": null,
       "grid_template_rows": null,
       "height": null,
       "justify_content": null,
       "justify_items": null,
       "left": null,
       "margin": null,
       "max_height": null,
       "max_width": null,
       "min_height": null,
       "min_width": null,
       "object_fit": null,
       "object_position": null,
       "order": null,
       "overflow": null,
       "padding": null,
       "right": null,
       "top": null,
       "visibility": null,
       "width": null
      }
     },
     "a6a3b0f2cb304cbc9587d495c301bbf3": {
      "model_module": "@jupyter-widgets/controls",
      "model_module_version": "2.0.0",
      "model_name": "HTMLStyleModel",
      "state": {
       "_model_module": "@jupyter-widgets/controls",
       "_model_module_version": "2.0.0",
       "_model_name": "HTMLStyleModel",
       "_view_count": null,
       "_view_module": "@jupyter-widgets/base",
       "_view_module_version": "2.0.0",
       "_view_name": "StyleView",
       "background": null,
       "description_width": "",
       "font_size": null,
       "text_color": null
      }
     },
     "a922f17056a74a58995fe0388906a66b": {
      "model_module": "@jupyter-widgets/controls",
      "model_module_version": "2.0.0",
      "model_name": "HTMLModel",
      "state": {
       "_dom_classes": [],
       "_model_module": "@jupyter-widgets/controls",
       "_model_module_version": "2.0.0",
       "_model_name": "HTMLModel",
       "_view_count": null,
       "_view_module": "@jupyter-widgets/controls",
       "_view_module_version": "2.0.0",
       "_view_name": "HTMLView",
       "description": "",
       "description_allow_html": false,
       "layout": "IPY_MODEL_f5c474bbfd494e9aa12b524c7a90aca1",
       "placeholder": "​",
       "style": "IPY_MODEL_441af5b9b0c144cbadbb715fd8121eba",
       "tabbable": null,
       "tooltip": null,
       "value": "<h5><a href=\"https://github.com/jupyter-book/team-compass\">jupyter-book/team-compass</a></h5>\n<ul>\n<li><a href=\"https://github.com/jupyter-book/team-compass/issues/20\">(#20)</a>: <em>Run publicly accessible team meetings</em> by <strong><a href=\"https://github.com/choldgraf\">@choldgraf</a></strong></li>\n<li><a href=\"https://github.com/jupyter-book/team-compass/issues/26\">(#26)</a>: <em>Encourage \"experience reports\" from users</em> by <strong><a href=\"https://github.com/mfisher87\">@mfisher87</a></strong></li>\n<li><a href=\"https://github.com/jupyter-book/team-compass/issues/24\">(#24)</a>: <em>Move our DNS owner from squarespace to Jupyter's CloudFlare</em> by <strong><a href=\"https://github.com/choldgraf\">@choldgraf</a></strong></li>\n<li><a href=\"https://github.com/jupyter-book/team-compass/issues/12\">(#12)</a>: <em>Switch references to executablebooks to instead point to jupyterbook</em> by <strong><a href=\"https://github.com/choldgraf\">@choldgraf</a></strong></li>\n<li><a href=\"https://github.com/jupyter-book/team-compass/issues/25\">(#25)</a>: <em>Make our documentation deployment infrastructure available to all jupyter book team members</em> by <strong><a href=\"https://github.com/choldgraf\">@choldgraf</a></strong></li>\n</ul>"
      }
     },
     "a93693d74b014c9b9010b1153892a7c5": {
      "model_module": "@jupyter-widgets/controls",
      "model_module_version": "2.0.0",
      "model_name": "HTMLStyleModel",
      "state": {
       "_model_module": "@jupyter-widgets/controls",
       "_model_module_version": "2.0.0",
       "_model_name": "HTMLStyleModel",
       "_view_count": null,
       "_view_module": "@jupyter-widgets/base",
       "_view_module_version": "2.0.0",
       "_view_name": "StyleView",
       "background": null,
       "description_width": "",
       "font_size": null,
       "text_color": null
      }
     },
     "aa3dd4a2fb994e29948af09bb4c6c116": {
      "model_module": "@jupyter-widgets/base",
      "model_module_version": "2.0.0",
      "model_name": "LayoutModel",
      "state": {
       "_model_module": "@jupyter-widgets/base",
       "_model_module_version": "2.0.0",
       "_model_name": "LayoutModel",
       "_view_count": null,
       "_view_module": "@jupyter-widgets/base",
       "_view_module_version": "2.0.0",
       "_view_name": "LayoutView",
       "align_content": null,
       "align_items": null,
       "align_self": null,
       "border_bottom": null,
       "border_left": null,
       "border_right": null,
       "border_top": null,
       "bottom": null,
       "display": null,
       "flex": null,
       "flex_flow": null,
       "grid_area": null,
       "grid_auto_columns": null,
       "grid_auto_flow": null,
       "grid_auto_rows": null,
       "grid_column": null,
       "grid_gap": null,
       "grid_row": null,
       "grid_template_areas": null,
       "grid_template_columns": null,
       "grid_template_rows": null,
       "height": null,
       "justify_content": null,
       "justify_items": null,
       "left": null,
       "margin": null,
       "max_height": null,
       "max_width": null,
       "min_height": null,
       "min_width": null,
       "object_fit": null,
       "object_position": null,
       "order": null,
       "overflow": null,
       "padding": null,
       "right": null,
       "top": null,
       "visibility": null,
       "width": null
      }
     },
     "bce40ca89b0a48abadb7ad85060ad243": {
      "model_module": "@jupyter-widgets/controls",
      "model_module_version": "2.0.0",
      "model_name": "HTMLStyleModel",
      "state": {
       "_model_module": "@jupyter-widgets/controls",
       "_model_module_version": "2.0.0",
       "_model_name": "HTMLStyleModel",
       "_view_count": null,
       "_view_module": "@jupyter-widgets/base",
       "_view_module_version": "2.0.0",
       "_view_name": "StyleView",
       "background": null,
       "description_width": "",
       "font_size": null,
       "text_color": null
      }
     },
     "bf4238a1afde486191ed61cd15682cd3": {
      "model_module": "@jupyter-widgets/base",
      "model_module_version": "2.0.0",
      "model_name": "LayoutModel",
      "state": {
       "_model_module": "@jupyter-widgets/base",
       "_model_module_version": "2.0.0",
       "_model_name": "LayoutModel",
       "_view_count": null,
       "_view_module": "@jupyter-widgets/base",
       "_view_module_version": "2.0.0",
       "_view_name": "LayoutView",
       "align_content": null,
       "align_items": null,
       "align_self": null,
       "border_bottom": null,
       "border_left": null,
       "border_right": null,
       "border_top": null,
       "bottom": null,
       "display": null,
       "flex": null,
       "flex_flow": null,
       "grid_area": null,
       "grid_auto_columns": null,
       "grid_auto_flow": null,
       "grid_auto_rows": null,
       "grid_column": null,
       "grid_gap": null,
       "grid_row": null,
       "grid_template_areas": null,
       "grid_template_columns": null,
       "grid_template_rows": null,
       "height": null,
       "justify_content": null,
       "justify_items": null,
       "left": null,
       "margin": null,
       "max_height": null,
       "max_width": null,
       "min_height": null,
       "min_width": null,
       "object_fit": null,
       "object_position": null,
       "order": null,
       "overflow": null,
       "padding": null,
       "right": null,
       "top": null,
       "visibility": null,
       "width": null
      }
     },
     "ceb60d7d5cdc4d5d921c2775a44d5c41": {
      "model_module": "@jupyter-widgets/controls",
      "model_module_version": "2.0.0",
      "model_name": "HTMLModel",
      "state": {
       "_dom_classes": [],
       "_model_module": "@jupyter-widgets/controls",
       "_model_module_version": "2.0.0",
       "_model_name": "HTMLModel",
       "_view_count": null,
       "_view_module": "@jupyter-widgets/controls",
       "_view_module_version": "2.0.0",
       "_view_name": "HTMLView",
       "description": "",
       "description_allow_html": false,
       "layout": "IPY_MODEL_f26805b5c22441b2b511c65c13b1d669",
       "placeholder": "​",
       "style": "IPY_MODEL_83408f948e9e42bcb4f7fc8422411f45",
       "tabbable": null,
       "tooltip": null,
       "value": "<h4>Closed PRs for repo: <a href=\"https://github.com/jupyter-book/myst-enhancement-proposals\">jupyter-book/myst-enhancement-proposals</a></h4>\n<h5></h5>\n<ul>\n<li><a href=\"https://github.com/jupyter-book/myst-enhancement-proposals/issues/31\">(#31)</a>: <em>Add a light PR template for MEPs</em> by <strong><a href=\"https://github.com/choldgraf\">@choldgraf</a></strong> merged by <strong><a href=\"https://github.com/agoose77\">@agoose77</a></strong></li>\n</ul>"
      }
     },
     "cf0e2c2d9a9445f48cb8efaa024cddb3": {
      "model_module": "@jupyter-widgets/controls",
      "model_module_version": "2.0.0",
      "model_name": "HTMLModel",
      "state": {
       "_dom_classes": [],
       "_model_module": "@jupyter-widgets/controls",
       "_model_module_version": "2.0.0",
       "_model_name": "HTMLModel",
       "_view_count": null,
       "_view_module": "@jupyter-widgets/controls",
       "_view_module_version": "2.0.0",
       "_view_name": "HTMLView",
       "description": "",
       "description_allow_html": false,
       "layout": "IPY_MODEL_a09cb409d7af40ab9de6552247d76e76",
       "placeholder": "​",
       "style": "IPY_MODEL_135683244cc9448f9eec24470eaa8389",
       "tabbable": null,
       "tooltip": null,
       "value": "<h5><a href=\"https://github.com/jupyter-book/thebe\">jupyter-book/thebe</a></h5>\n<ul>\n<li><a href=\"https://github.com/jupyter-book/thebe/issues/791\">(#791)</a>: <em>Update to JupyterLite 0.6.0</em> by <strong><a href=\"https://github.com/jtpio\">@jtpio</a></strong></li>\n</ul>"
      }
     },
     "d0737ef2d4ba460d964800d30e5c26f0": {
      "model_module": "@jupyter-widgets/controls",
      "model_module_version": "2.0.0",
      "model_name": "HTMLModel",
      "state": {
       "_dom_classes": [],
       "_model_module": "@jupyter-widgets/controls",
       "_model_module_version": "2.0.0",
       "_model_name": "HTMLModel",
       "_view_count": null,
       "_view_module": "@jupyter-widgets/controls",
       "_view_module_version": "2.0.0",
       "_view_name": "HTMLView",
       "description": "",
       "description_allow_html": false,
       "layout": "IPY_MODEL_d2d0f46f279543d1bbbe97357967afea",
       "placeholder": "​",
       "style": "IPY_MODEL_f0fc29dcffc045d29eeca0caf8643ff7",
       "tabbable": null,
       "tooltip": null,
       "value": "<h4>Closed PRs for repo: <a href=\"https://github.com/jupyter-book/myst-theme\">jupyter-book/myst-theme</a></h4>\n<h5></h5>\n<ul>\n<li><a href=\"https://github.com/jupyter-book/myst-theme/issues/528\">(#528)</a>: <em>🚀 Add <code>awesomebar</code>-like UX to launch button</em> by <strong><a href=\"https://github.com/agoose77\">@agoose77</a></strong> merged by <strong><a href=\"https://github.com/rowanc1\">@rowanc1</a></strong></li>\n<li><a href=\"https://github.com/jupyter-book/myst-theme/issues/531\">(#531)</a>: <em>🛫 Add landing page blocks to book theme</em> by <strong><a href=\"https://github.com/agoose77\">@agoose77</a></strong> merged by <strong><a href=\"https://github.com/rowanc1\">@rowanc1</a></strong></li>\n<li><a href=\"https://github.com/jupyter-book/myst-theme/issues/536\">(#536)</a>: <em>🧱 Drop <code>ContentBlocks</code> and move functionality to <code>MyST</code></em> by <strong><a href=\"https://github.com/agoose77\">@agoose77</a></strong> merged by <strong><a href=\"https://github.com/rowanc1\">@rowanc1</a></strong></li>\n<li><a href=\"https://github.com/jupyter-book/myst-theme/issues/538\">(#538)</a>: <em>〰️ Remove underline from <code>a.button</code></em> by <strong><a href=\"https://github.com/agoose77\">@agoose77</a></strong> merged by <strong><a href=\"https://github.com/agoose77\">@agoose77</a></strong></li>\n<li><a href=\"https://github.com/jupyter-book/myst-theme/issues/539\">(#539)</a>: <em>Version Packages</em> by <strong><a href=\"https://github.com/github-actions[bot]\">@github-actions[bot]</a></strong> merged by <strong><a href=\"https://github.com/rowanc1\">@rowanc1</a></strong></li>\n<li><a href=\"https://github.com/jupyter-book/myst-theme/issues/540\">(#540)</a>: <em>💇 Add support for user stylesheets</em> by <strong><a href=\"https://github.com/agoose77\">@agoose77</a></strong> merged by <strong><a href=\"https://github.com/rowanc1\">@rowanc1</a></strong></li>\n<li><a href=\"https://github.com/jupyter-book/myst-theme/issues/541\">(#541)</a>: <em>ℹ️ Add note about JupyterHub requirements to launch bar</em> by <strong><a href=\"https://github.com/agoose77\">@agoose77</a></strong> merged by <strong><a href=\"https://github.com/agoose77\">@agoose77</a></strong></li>\n<li><a href=\"https://github.com/jupyter-book/myst-theme/issues/542\">(#542)</a>: <em>🛫 Add landing page blocks to book theme</em> by <strong><a href=\"https://github.com/rowanc1\">@rowanc1</a></strong> merged by <strong><a href=\"https://github.com/agoose77\">@agoose77</a></strong></li>\n<li><a href=\"https://github.com/jupyter-book/myst-theme/issues/543\">(#543)</a>: <em>🚀 myst@v1.3.24</em> by <strong><a href=\"https://github.com/rowanc1\">@rowanc1</a></strong> merged by <strong><a href=\"https://github.com/rowanc1\">@rowanc1</a></strong></li>\n<li><a href=\"https://github.com/jupyter-book/myst-theme/issues/544\">(#544)</a>: <em>holoviews support: fix output path fetching</em> by <strong><a href=\"https://github.com/stevejpurves\">@stevejpurves</a></strong> merged by <strong><a href=\"https://github.com/stevejpurves\">@stevejpurves</a></strong></li>\n<li><a href=\"https://github.com/jupyter-book/myst-theme/issues/546\">(#546)</a>: <em>🧱 Only apply grid system to outer <code>&lt;MyST&gt;</code> component</em> by <strong><a href=\"https://github.com/agoose77\">@agoose77</a></strong> merged by <strong><a href=\"https://github.com/rowanc1\">@rowanc1</a></strong></li>\n<li><a href=\"https://github.com/jupyter-book/myst-theme/issues/547\">(#547)</a>: <em>🪜 Use <code>BlockDepth</code> provider to scope grid layout to top-level blocks</em> by <strong><a href=\"https://github.com/agoose77\">@agoose77</a></strong> merged by <strong><a href=\"https://github.com/rowanc1\">@rowanc1</a></strong></li>\n<li><a href=\"https://github.com/jupyter-book/myst-theme/issues/548\">(#548)</a>: <em>🧱 Simplify Blocks (remove grid-system)</em> by <strong><a href=\"https://github.com/rowanc1\">@rowanc1</a></strong> merged by <strong><a href=\"https://github.com/rowanc1\">@rowanc1</a></strong></li>\n<li><a href=\"https://github.com/jupyter-book/myst-theme/issues/549\">(#549)</a>: <em>Version Packages</em> by <strong><a href=\"https://github.com/github-actions[bot]\">@github-actions[bot]</a></strong> merged by <strong><a href=\"https://github.com/rowanc1\">@rowanc1</a></strong></li>\n<li><a href=\"https://github.com/jupyter-book/myst-theme/issues/550\">(#550)</a>: <em>🧹 Clean up links to EB &amp; unify READMEs for packages</em> by <strong><a href=\"https://github.com/agoose77\">@agoose77</a></strong> merged by <strong><a href=\"https://github.com/agoose77\">@agoose77</a></strong></li>\n<li><a href=\"https://github.com/jupyter-book/myst-theme/issues/551\">(#551)</a>: <em>Version Packages</em> by <strong><a href=\"https://github.com/github-actions[bot]\">@github-actions[bot]</a></strong> merged by <strong><a href=\"https://github.com/rowanc1\">@rowanc1</a></strong></li>\n<li><a href=\"https://github.com/jupyter-book/myst-theme/issues/552\">(#552)</a>: <em>🧹 remove console.log</em> by <strong><a href=\"https://github.com/stevejpurves\">@stevejpurves</a></strong> merged by <strong><a href=\"https://github.com/stevejpurves\">@stevejpurves</a></strong></li>\n<li><a href=\"https://github.com/jupyter-book/myst-theme/issues/554\">(#554)</a>: <em>🎩 Fix landing-page block class lookup</em> by <strong><a href=\"https://github.com/agoose77\">@agoose77</a></strong> merged by <strong><a href=\"https://github.com/agoose77\">@agoose77</a></strong></li>\n<li><a href=\"https://github.com/jupyter-book/myst-theme/issues/555\">(#555)</a>: <em>Version Packages</em> by <strong><a href=\"https://github.com/github-actions[bot]\">@github-actions[bot]</a></strong> merged by <strong><a href=\"https://github.com/rowanc1\">@rowanc1</a></strong></li>\n<li><a href=\"https://github.com/jupyter-book/myst-theme/issues/556\">(#556)</a>: <em>🌲 Add <code>root</code> renderer</em> by <strong><a href=\"https://github.com/agoose77\">@agoose77</a></strong> merged by <strong><a href=\"https://github.com/rowanc1\">@rowanc1</a></strong></li>\n<li><a href=\"https://github.com/jupyter-book/myst-theme/issues/557\">(#557)</a>: <em>🐛 Ensure CSS has baseURL directly</em> by <strong><a href=\"https://github.com/rowanc1\">@rowanc1</a></strong> merged by <strong><a href=\"https://github.com/rowanc1\">@rowanc1</a></strong></li>\n<li><a href=\"https://github.com/jupyter-book/myst-theme/issues/559\">(#559)</a>: <em>♹ Small types improvements</em> by <strong><a href=\"https://github.com/rowanc1\">@rowanc1</a></strong> merged by <strong><a href=\"https://github.com/rowanc1\">@rowanc1</a></strong></li>\n<li><a href=\"https://github.com/jupyter-book/myst-theme/issues/560\">(#560)</a>: <em>🖥️ Add deploy workflow to CI</em> by <strong><a href=\"https://github.com/agoose77\">@agoose77</a></strong> merged by <strong><a href=\"https://github.com/agoose77\">@agoose77</a></strong></li>\n<li><a href=\"https://github.com/jupyter-book/myst-theme/issues/561\">(#561)</a>: <em>🛠️ Delete theme's built assets before build</em> by <strong><a href=\"https://github.com/agoose77\">@agoose77</a></strong> merged by <strong><a href=\"https://github.com/rowanc1\">@rowanc1</a></strong></li>\n<li><a href=\"https://github.com/jupyter-book/myst-theme/issues/562\">(#562)</a>: <em>✏️ Fix metadata for template URL</em> by <strong><a href=\"https://github.com/agoose77\">@agoose77</a></strong> merged by <strong><a href=\"https://github.com/rowanc1\">@rowanc1</a></strong></li>\n<li><a href=\"https://github.com/jupyter-book/myst-theme/issues/563\">(#563)</a>: <em>🥂 Merge deploy and release workflows</em> by <strong><a href=\"https://github.com/agoose77\">@agoose77</a></strong> merged by <strong><a href=\"https://github.com/agoose77\">@agoose77</a></strong></li>\n<li><a href=\"https://github.com/jupyter-book/myst-theme/issues/568\">(#568)</a>: <em>❄️ Add nix dev-shell flake</em> by <strong><a href=\"https://github.com/agoose77\">@agoose77</a></strong> merged by <strong><a href=\"https://github.com/agoose77\">@agoose77</a></strong></li>\n<li><a href=\"https://github.com/jupyter-book/myst-theme/issues/570\">(#570)</a>: <em>🎓 Add support for <code>button</code> in <code>cite</code> nodes</em> by <strong><a href=\"https://github.com/agoose77\">@agoose77</a></strong> merged by <strong><a href=\"https://github.com/stevejpurves\">@stevejpurves</a></strong></li>\n<li><a href=\"https://github.com/jupyter-book/myst-theme/issues/573\">(#573)</a>: <em>➿ Enable flex-wrap in landing-page links</em> by <strong><a href=\"https://github.com/agoose77\">@agoose77</a></strong> merged by <strong><a href=\"https://github.com/agoose77\">@agoose77</a></strong></li>\n<li><a href=\"https://github.com/jupyter-book/myst-theme/issues/574\">(#574)</a>: <em>Version Packages</em> by <strong><a href=\"https://github.com/github-actions[bot]\">@github-actions[bot]</a></strong> merged by <strong><a href=\"https://github.com/choldgraf\">@choldgraf</a></strong></li>\n<li><a href=\"https://github.com/jupyter-book/myst-theme/issues/576\">(#576)</a>: <em>🖼️ Fix layout of <code>justified</code> landing blocks</em> by <strong><a href=\"https://github.com/agoose77\">@agoose77</a></strong> merged by <strong><a href=\"https://github.com/agoose77\">@agoose77</a></strong></li>\n<li><a href=\"https://github.com/jupyter-book/myst-theme/issues/577\">(#577)</a>: <em>✍️ Feat: add edit button</em> by <strong><a href=\"https://github.com/kne42\">@kne42</a></strong> merged by <strong><a href=\"https://github.com/agoose77\">@agoose77</a></strong></li>\n<li><a href=\"https://github.com/jupyter-book/myst-theme/issues/578\">(#578)</a>: <em>📜 Drop submodule references in contributing</em> by <strong><a href=\"https://github.com/agoose77\">@agoose77</a></strong> merged by <strong><a href=\"https://github.com/agoose77\">@agoose77</a></strong></li>\n</ul>"
      }
     },
     "d2d0f46f279543d1bbbe97357967afea": {
      "model_module": "@jupyter-widgets/base",
      "model_module_version": "2.0.0",
      "model_name": "LayoutModel",
      "state": {
       "_model_module": "@jupyter-widgets/base",
       "_model_module_version": "2.0.0",
       "_model_name": "LayoutModel",
       "_view_count": null,
       "_view_module": "@jupyter-widgets/base",
       "_view_module_version": "2.0.0",
       "_view_name": "LayoutView",
       "align_content": null,
       "align_items": null,
       "align_self": null,
       "border_bottom": null,
       "border_left": null,
       "border_right": null,
       "border_top": null,
       "bottom": null,
       "display": null,
       "flex": null,
       "flex_flow": null,
       "grid_area": null,
       "grid_auto_columns": null,
       "grid_auto_flow": null,
       "grid_auto_rows": null,
       "grid_column": null,
       "grid_gap": null,
       "grid_row": null,
       "grid_template_areas": null,
       "grid_template_columns": null,
       "grid_template_rows": null,
       "height": null,
       "justify_content": null,
       "justify_items": null,
       "left": null,
       "margin": null,
       "max_height": null,
       "max_width": null,
       "min_height": null,
       "min_width": null,
       "object_fit": null,
       "object_position": null,
       "order": null,
       "overflow": null,
       "padding": null,
       "right": null,
       "top": null,
       "visibility": null,
       "width": null
      }
     },
     "d53a570e742440e6a9c09ee7c842581f": {
      "model_module": "@jupyter-widgets/controls",
      "model_module_version": "2.0.0",
      "model_name": "HTMLStyleModel",
      "state": {
       "_model_module": "@jupyter-widgets/controls",
       "_model_module_version": "2.0.0",
       "_model_name": "HTMLStyleModel",
       "_view_count": null,
       "_view_module": "@jupyter-widgets/base",
       "_view_module_version": "2.0.0",
       "_view_name": "StyleView",
       "background": null,
       "description_width": "",
       "font_size": null,
       "text_color": null
      }
     },
     "d8c93b377e954f26be29ce63c5984df1": {
      "model_module": "@jupyter-widgets/base",
      "model_module_version": "2.0.0",
      "model_name": "LayoutModel",
      "state": {
       "_model_module": "@jupyter-widgets/base",
       "_model_module_version": "2.0.0",
       "_model_name": "LayoutModel",
       "_view_count": null,
       "_view_module": "@jupyter-widgets/base",
       "_view_module_version": "2.0.0",
       "_view_name": "LayoutView",
       "align_content": null,
       "align_items": null,
       "align_self": null,
       "border_bottom": null,
       "border_left": null,
       "border_right": null,
       "border_top": null,
       "bottom": null,
       "display": null,
       "flex": null,
       "flex_flow": null,
       "grid_area": null,
       "grid_auto_columns": null,
       "grid_auto_flow": null,
       "grid_auto_rows": null,
       "grid_column": null,
       "grid_gap": null,
       "grid_row": null,
       "grid_template_areas": null,
       "grid_template_columns": null,
       "grid_template_rows": null,
       "height": null,
       "justify_content": null,
       "justify_items": null,
       "left": null,
       "margin": null,
       "max_height": null,
       "max_width": null,
       "min_height": null,
       "min_width": null,
       "object_fit": null,
       "object_position": null,
       "order": null,
       "overflow": null,
       "padding": null,
       "right": null,
       "top": null,
       "visibility": null,
       "width": null
      }
     },
     "dbecb52b4d8b4e97bb8f9b23fd1c8157": {
      "model_module": "@jupyter-widgets/controls",
      "model_module_version": "2.0.0",
      "model_name": "HTMLStyleModel",
      "state": {
       "_model_module": "@jupyter-widgets/controls",
       "_model_module_version": "2.0.0",
       "_model_name": "HTMLStyleModel",
       "_view_count": null,
       "_view_module": "@jupyter-widgets/base",
       "_view_module_version": "2.0.0",
       "_view_name": "StyleView",
       "background": null,
       "description_width": "",
       "font_size": null,
       "text_color": null
      }
     },
     "de6416fe2a484ff28391ca1932777f92": {
      "model_module": "@jupyter-widgets/base",
      "model_module_version": "2.0.0",
      "model_name": "LayoutModel",
      "state": {
       "_model_module": "@jupyter-widgets/base",
       "_model_module_version": "2.0.0",
       "_model_name": "LayoutModel",
       "_view_count": null,
       "_view_module": "@jupyter-widgets/base",
       "_view_module_version": "2.0.0",
       "_view_name": "LayoutView",
       "align_content": null,
       "align_items": null,
       "align_self": null,
       "border_bottom": null,
       "border_left": null,
       "border_right": null,
       "border_top": null,
       "bottom": null,
       "display": null,
       "flex": null,
       "flex_flow": null,
       "grid_area": null,
       "grid_auto_columns": null,
       "grid_auto_flow": null,
       "grid_auto_rows": null,
       "grid_column": null,
       "grid_gap": null,
       "grid_row": null,
       "grid_template_areas": null,
       "grid_template_columns": null,
       "grid_template_rows": null,
       "height": null,
       "justify_content": null,
       "justify_items": null,
       "left": null,
       "margin": null,
       "max_height": null,
       "max_width": null,
       "min_height": null,
       "min_width": null,
       "object_fit": null,
       "object_position": null,
       "order": null,
       "overflow": null,
       "padding": null,
       "right": null,
       "top": null,
       "visibility": null,
       "width": null
      }
     },
     "e09c5faacbf54a6bb21bda9174c2debc": {
      "model_module": "@jupyter-widgets/controls",
      "model_module_version": "2.0.0",
      "model_name": "HTMLStyleModel",
      "state": {
       "_model_module": "@jupyter-widgets/controls",
       "_model_module_version": "2.0.0",
       "_model_name": "HTMLStyleModel",
       "_view_count": null,
       "_view_module": "@jupyter-widgets/base",
       "_view_module_version": "2.0.0",
       "_view_name": "StyleView",
       "background": null,
       "description_width": "",
       "font_size": null,
       "text_color": null
      }
     },
     "e7451e025a8346e484250a152e5b692e": {
      "model_module": "@jupyter-widgets/controls",
      "model_module_version": "2.0.0",
      "model_name": "HTMLModel",
      "state": {
       "_dom_classes": [],
       "_model_module": "@jupyter-widgets/controls",
       "_model_module_version": "2.0.0",
       "_model_name": "HTMLModel",
       "_view_count": null,
       "_view_module": "@jupyter-widgets/controls",
       "_view_module_version": "2.0.0",
       "_view_name": "HTMLView",
       "description": "",
       "description_allow_html": false,
       "layout": "IPY_MODEL_41b287999d554246bcf5e2504a2dca6d",
       "placeholder": "​",
       "style": "IPY_MODEL_a48045b4c8e0410fb517656252ba5944",
       "tabbable": null,
       "tooltip": null,
       "value": "<h4>Closed PRs for repo: <a href=\"https://github.com/jupyter-book/mystmd\">jupyter-book/mystmd</a></h4>\n<h5></h5>\n<ul>\n<li><a href=\"https://github.com/jupyter-book/mystmd/issues/1822\">(#1822)</a>: <em>🧮 Add inline options to roles and directives</em> by <strong><a href=\"https://github.com/rowanc1\">@rowanc1</a></strong> merged by <strong><a href=\"https://github.com/rowanc1\">@rowanc1</a></strong></li>\n<li><a href=\"https://github.com/jupyter-book/mystmd/issues/1826\">(#1826)</a>: <em>✨ New table of contents directive</em> by <strong><a href=\"https://github.com/fwkoch\">@fwkoch</a></strong> merged by <strong><a href=\"https://github.com/rowanc1\">@rowanc1</a></strong></li>\n<li><a href=\"https://github.com/jupyter-book/mystmd/issues/1836\">(#1836)</a>: <em>🚀 Release</em> by <strong><a href=\"https://github.com/github-actions[bot]\">@github-actions[bot]</a></strong> merged by <strong><a href=\"https://github.com/rowanc1\">@rowanc1</a></strong></li>\n<li><a href=\"https://github.com/jupyter-book/mystmd/issues/1864\">(#1864)</a>: <em>🛫 Add documentation for Landing Pages</em> by <strong><a href=\"https://github.com/agoose77\">@agoose77</a></strong> merged by <strong><a href=\"https://github.com/rowanc1\">@rowanc1</a></strong></li>\n<li><a href=\"https://github.com/jupyter-book/mystmd/issues/1867\">(#1867)</a>: _ 📂 Set <code>site.options.folders: true</code> for JB upgrades_ by <strong><a href=\"https://github.com/agoose77\">@agoose77</a></strong> merged by <strong><a href=\"https://github.com/agoose77\">@agoose77</a></strong></li>\n<li><a href=\"https://github.com/jupyter-book/mystmd/issues/1872\">(#1872)</a>: <em>Handle unsupported options for include directive</em> by <strong><a href=\"https://github.com/JimMadge\">@JimMadge</a></strong> merged by <strong><a href=\"https://github.com/agoose77\">@agoose77</a></strong></li>\n<li><a href=\"https://github.com/jupyter-book/mystmd/issues/1873\">(#1873)</a>: <em>💇 Add documentation on <code>site.options.style</code></em> by <strong><a href=\"https://github.com/agoose77\">@agoose77</a></strong> merged by <strong><a href=\"https://github.com/rowanc1\">@rowanc1</a></strong></li>\n<li><a href=\"https://github.com/jupyter-book/mystmd/issues/1881\">(#1881)</a>: <em>✏️ Use <code>myst</code> directive with <code>proof</code> option definitions</em> by <strong><a href=\"https://github.com/agoose77\">@agoose77</a></strong> merged by <strong><a href=\"https://github.com/rowanc1\">@rowanc1</a></strong></li>\n<li><a href=\"https://github.com/jupyter-book/mystmd/issues/1888\">(#1888)</a>: <em>📖 Adds note on Windows builds to Contribution guide</em> by <strong><a href=\"https://github.com/nmielec\">@nmielec</a></strong> merged by <strong><a href=\"https://github.com/rowanc1\">@rowanc1</a></strong></li>\n<li><a href=\"https://github.com/jupyter-book/mystmd/issues/1890\">(#1890)</a>: <em>📦 Update to <code>doi-utils</code> v2.0.5</em> by <strong><a href=\"https://github.com/rowanc1\">@rowanc1</a></strong> merged by <strong><a href=\"https://github.com/rowanc1\">@rowanc1</a></strong></li>\n<li><a href=\"https://github.com/jupyter-book/mystmd/issues/1891\">(#1891)</a>: <em>🚀 Release</em> by <strong><a href=\"https://github.com/github-actions[bot]\">@github-actions[bot]</a></strong> merged by <strong><a href=\"https://github.com/rowanc1\">@rowanc1</a></strong></li>\n<li><a href=\"https://github.com/jupyter-book/mystmd/issues/1894\">(#1894)</a>: <em>🐝 Fix missing class in landing-pages</em> by <strong><a href=\"https://github.com/agoose77\">@agoose77</a></strong> merged by <strong><a href=\"https://github.com/agoose77\">@agoose77</a></strong></li>\n<li><a href=\"https://github.com/jupyter-book/mystmd/issues/1895\">(#1895)</a>: <em>🚀 Update the <code>SPEC_VERSION</code> for <code>block.class</code></em> by <strong><a href=\"https://github.com/rowanc1\">@rowanc1</a></strong> merged by <strong><a href=\"https://github.com/rowanc1\">@rowanc1</a></strong></li>\n<li><a href=\"https://github.com/jupyter-book/mystmd/issues/1896\">(#1896)</a>: <em>🚀 Release</em> by <strong><a href=\"https://github.com/github-actions[bot]\">@github-actions[bot]</a></strong> merged by <strong><a href=\"https://github.com/rowanc1\">@rowanc1</a></strong></li>\n<li><a href=\"https://github.com/jupyter-book/mystmd/issues/1897\">(#1897)</a>: <em>📦 Bump <code>nbtx</code> 0.4.0</em> by <strong><a href=\"https://github.com/fwkoch\">@fwkoch</a></strong> merged by <strong><a href=\"https://github.com/rowanc1\">@rowanc1</a></strong></li>\n<li><a href=\"https://github.com/jupyter-book/mystmd/issues/1898\">(#1898)</a>: <em>🤔 Bump nbtx</em> by <strong><a href=\"https://github.com/fwkoch\">@fwkoch</a></strong> merged by <strong><a href=\"https://github.com/fwkoch\">@fwkoch</a></strong></li>\n<li><a href=\"https://github.com/jupyter-book/mystmd/issues/1901\">(#1901)</a>: <em>🐛 Ensure CSS has baseURL directly</em> by <strong><a href=\"https://github.com/rowanc1\">@rowanc1</a></strong> merged by <strong><a href=\"https://github.com/rowanc1\">@rowanc1</a></strong></li>\n<li><a href=\"https://github.com/jupyter-book/mystmd/issues/1906\">(#1906)</a>: <em>Restructure developer guide and add architecture overview</em> by <strong><a href=\"https://github.com/stefanv\">@stefanv</a></strong> merged by <strong><a href=\"https://github.com/choldgraf\">@choldgraf</a></strong></li>\n<li><a href=\"https://github.com/jupyter-book/mystmd/issues/1914\">(#1914)</a>: <em>⌨️ Add command line argument to <code>myst start</code> for selecting template</em> by <strong><a href=\"https://github.com/stefanv\">@stefanv</a></strong> merged by <strong><a href=\"https://github.com/rowanc1\">@rowanc1</a></strong></li>\n<li><a href=\"https://github.com/jupyter-book/mystmd/issues/1919\">(#1919)</a>: <em>✅ Add husky and lint-staged to help devs fix code before pushing</em> by <strong><a href=\"https://github.com/stefanv\">@stefanv</a></strong> merged by <strong><a href=\"https://github.com/choldgraf\">@choldgraf</a></strong></li>\n<li><a href=\"https://github.com/jupyter-book/mystmd/issues/1930\">(#1930)</a>: <em>Clarify BASE_URL instructions in GH action for custom domains.</em> by <strong><a href=\"https://github.com/fperez\">@fperez</a></strong> merged by <strong><a href=\"https://github.com/agoose77\">@agoose77</a></strong></li>\n<li><a href=\"https://github.com/jupyter-book/mystmd/issues/1936\">(#1936)</a>: <em>✍️ Escape backticks in <code>init --gh-pages</code> template</em> by <strong><a href=\"https://github.com/agoose77\">@agoose77</a></strong> merged by <strong><a href=\"https://github.com/agoose77\">@agoose77</a></strong></li>\n<li><a href=\"https://github.com/jupyter-book/mystmd/issues/1938\">(#1938)</a>: <em>📝 Add missing changeset</em> by <strong><a href=\"https://github.com/agoose77\">@agoose77</a></strong> merged by <strong><a href=\"https://github.com/agoose77\">@agoose77</a></strong></li>\n<li><a href=\"https://github.com/jupyter-book/mystmd/issues/1939\">(#1939)</a>: <em>Add footnote about links to md files not in ToC</em> by <strong><a href=\"https://github.com/JimMadge\">@JimMadge</a></strong> merged by <strong><a href=\"https://github.com/agoose77\">@agoose77</a></strong></li>\n<li><a href=\"https://github.com/jupyter-book/mystmd/issues/1941\">(#1941)</a>: <em>Update the documentation on installing with Typst</em> by <strong><a href=\"https://github.com/choldgraf\">@choldgraf</a></strong> merged by <strong><a href=\"https://github.com/agoose77\">@agoose77</a></strong></li>\n<li><a href=\"https://github.com/jupyter-book/mystmd/issues/1942\">(#1942)</a>: <em>🪄 Improve error handling during cross reference resolution</em> by <strong><a href=\"https://github.com/agoose77\">@agoose77</a></strong> merged by <strong><a href=\"https://github.com/agoose77\">@agoose77</a></strong></li>\n<li><a href=\"https://github.com/jupyter-book/mystmd/issues/1943\">(#1943)</a>: <em>🏷️ Remove default label from <code>inlineExpression</code> node</em> by <strong><a href=\"https://github.com/agoose77\">@agoose77</a></strong> merged by <strong><a href=\"https://github.com/agoose77\">@agoose77</a></strong></li>\n<li><a href=\"https://github.com/jupyter-book/mystmd/issues/1944\">(#1944)</a>: <em>🐛 Fix missing references in <code>docx</code> export</em> by <strong><a href=\"https://github.com/alanrice\">@alanrice</a></strong> merged by <strong><a href=\"https://github.com/agoose77\">@agoose77</a></strong></li>\n<li><a href=\"https://github.com/jupyter-book/mystmd/issues/1945\">(#1945)</a>: <em>👨🏻‍🔧 fix check link transform for cards</em> by <strong><a href=\"https://github.com/stevejpurves\">@stevejpurves</a></strong> merged by <strong><a href=\"https://github.com/stevejpurves\">@stevejpurves</a></strong></li>\n<li><a href=\"https://github.com/jupyter-book/mystmd/issues/1949\">(#1949)</a>: <em>🔙 Move execution transform earlier in mdast pipeline</em> by <strong><a href=\"https://github.com/agoose77\">@agoose77</a></strong> merged by <strong><a href=\"https://github.com/agoose77\">@agoose77</a></strong></li>\n<li><a href=\"https://github.com/jupyter-book/mystmd/issues/1950\">(#1950)</a>: <em>Add a high-level overview of MyST components</em> by <strong><a href=\"https://github.com/choldgraf\">@choldgraf</a></strong> merged by <strong><a href=\"https://github.com/choldgraf\">@choldgraf</a></strong></li>\n<li><a href=\"https://github.com/jupyter-book/mystmd/issues/1951\">(#1951)</a>: <em>✋ netlify: only rebuild docs when they were modified</em> by <strong><a href=\"https://github.com/stefanv\">@stefanv</a></strong> merged by <strong><a href=\"https://github.com/choldgraf\">@choldgraf</a></strong></li>\n<li><a href=\"https://github.com/jupyter-book/mystmd/issues/1955\">(#1955)</a>: <em>📖 Document how to export MyST Markdown</em> by <strong><a href=\"https://github.com/choldgraf\">@choldgraf</a></strong> merged by <strong><a href=\"https://github.com/rowanc1\">@rowanc1</a></strong></li>\n<li><a href=\"https://github.com/jupyter-book/mystmd/issues/1958\">(#1958)</a>: <em>Update documentation about our documentation infrastructure at mystmd.org</em> by <strong><a href=\"https://github.com/choldgraf\">@choldgraf</a></strong> merged by <strong><a href=\"https://github.com/choldgraf\">@choldgraf</a></strong></li>\n<li><a href=\"https://github.com/jupyter-book/mystmd/issues/1966\">(#1966)</a>: <em>📦 Improve docs on PDF exports for downloads</em> by <strong><a href=\"https://github.com/agoose77\">@agoose77</a></strong> merged by <strong><a href=\"https://github.com/choldgraf\">@choldgraf</a></strong></li>\n<li><a href=\"https://github.com/jupyter-book/mystmd/issues/1969\">(#1969)</a>: <em>Add a brief guide to choosing between <code>.md</code> and <code>.ipynb</code></em> by <strong><a href=\"https://github.com/choldgraf\">@choldgraf</a></strong> merged by <strong><a href=\"https://github.com/agoose77\">@agoose77</a></strong></li>\n<li><a href=\"https://github.com/jupyter-book/mystmd/issues/1980\">(#1980)</a>: <em>; Semicolon escape in typst</em> by <strong><a href=\"https://github.com/rowanc1\">@rowanc1</a></strong> merged by <strong><a href=\"https://github.com/rowanc1\">@rowanc1</a></strong></li>\n<li><a href=\"https://github.com/jupyter-book/mystmd/issues/1987\">(#1987)</a>: <em>🦋 Add bluesky social links</em> by <strong><a href=\"https://github.com/rowanc1\">@rowanc1</a></strong> merged by <strong><a href=\"https://github.com/rowanc1\">@rowanc1</a></strong></li>\n<li><a href=\"https://github.com/jupyter-book/mystmd/issues/1992\">(#1992)</a>: <em>DOCS: Clarify and cross-link code cell output suppression</em> by <strong><a href=\"https://github.com/choldgraf\">@choldgraf</a></strong> merged by <strong><a href=\"https://github.com/choldgraf\">@choldgraf</a></strong></li>\n<li><a href=\"https://github.com/jupyter-book/mystmd/issues/1993\">(#1993)</a>: <em>🕵️‍♀️ Expose hidden attribute in TOC nodes</em> by <strong><a href=\"https://github.com/parmentelat\">@parmentelat</a></strong> merged by <strong><a href=\"https://github.com/fwkoch\">@fwkoch</a></strong></li>\n<li><a href=\"https://github.com/jupyter-book/mystmd/issues/1995\">(#1995)</a>: <em>🐛 <code>--pdf</code> --&gt; <code>--tex</code></em> by <strong><a href=\"https://github.com/rowanc1\">@rowanc1</a></strong> merged by <strong><a href=\"https://github.com/rowanc1\">@rowanc1</a></strong></li>\n<li><a href=\"https://github.com/jupyter-book/mystmd/issues/1997\">(#1997)</a>: <em>📖 Add guidelines for publishing a release to GitHub</em> by <strong><a href=\"https://github.com/choldgraf\">@choldgraf</a></strong> merged by <strong><a href=\"https://github.com/choldgraf\">@choldgraf</a></strong></li>\n<li><a href=\"https://github.com/jupyter-book/mystmd/issues/1998\">(#1998)</a>: <em>📖 Document light dark elements with CSS classes</em> by <strong><a href=\"https://github.com/choldgraf\">@choldgraf</a></strong> merged by <strong><a href=\"https://github.com/choldgraf\">@choldgraf</a></strong></li>\n<li><a href=\"https://github.com/jupyter-book/mystmd/issues/2010\">(#2010)</a>: <em>Fix typo in md-vs-ipynb.md</em> by <strong><a href=\"https://github.com/choldgraf\">@choldgraf</a></strong> merged by <strong><a href=\"https://github.com/rowanc1\">@rowanc1</a></strong></li>\n<li><a href=\"https://github.com/jupyter-book/mystmd/issues/2011\">(#2011)</a>: <em>Remove extra error block</em> by <strong><a href=\"https://github.com/stefanv\">@stefanv</a></strong> merged by <strong><a href=\"https://github.com/choldgraf\">@choldgraf</a></strong></li>\n<li><a href=\"https://github.com/jupyter-book/mystmd/issues/2012\">(#2012)</a>: <em>Explain more MyST concepts, developer docs, and export docs</em> by <strong><a href=\"https://github.com/choldgraf\">@choldgraf</a></strong> merged by <strong><a href=\"https://github.com/stefanv\">@stefanv</a></strong></li>\n<li><a href=\"https://github.com/jupyter-book/mystmd/issues/2015\">(#2015)</a>: <em>🚀 Release</em> by <strong><a href=\"https://github.com/github-actions[bot]\">@github-actions[bot]</a></strong> merged by <strong><a href=\"https://github.com/fwkoch\">@fwkoch</a></strong></li>\n<li><a href=\"https://github.com/jupyter-book/mystmd/issues/2016\">(#2016)</a>: _ Update links to example of landing pages_ by <strong><a href=\"https://github.com/agoose77\">@agoose77</a></strong> merged by <strong><a href=\"https://github.com/choldgraf\">@choldgraf</a></strong></li>\n<li><a href=\"https://github.com/jupyter-book/mystmd/issues/2023\">(#2023)</a>: <em>📦 Bump tex-to-typst@0.0.16</em> by <strong><a href=\"https://github.com/fwkoch\">@fwkoch</a></strong> merged by <strong><a href=\"https://github.com/fwkoch\">@fwkoch</a></strong></li>\n<li><a href=\"https://github.com/jupyter-book/mystmd/issues/2025\">(#2025)</a>: <em>Document site.folders option</em> by <strong><a href=\"https://github.com/FernandoBasso\">@FernandoBasso</a></strong> merged by <strong><a href=\"https://github.com/choldgraf\">@choldgraf</a></strong></li>\n<li><a href=\"https://github.com/jupyter-book/mystmd/issues/2026\">(#2026)</a>: <em>Document CORS tip</em> by <strong><a href=\"https://github.com/choldgraf\">@choldgraf</a></strong> merged by <strong><a href=\"https://github.com/choldgraf\">@choldgraf</a></strong></li>\n</ul>"
      }
     },
     "e88a33b668904e4e943d2b3a91f62f88": {
      "model_module": "@jupyter-widgets/base",
      "model_module_version": "2.0.0",
      "model_name": "LayoutModel",
      "state": {
       "_model_module": "@jupyter-widgets/base",
       "_model_module_version": "2.0.0",
       "_model_name": "LayoutModel",
       "_view_count": null,
       "_view_module": "@jupyter-widgets/base",
       "_view_module_version": "2.0.0",
       "_view_name": "LayoutView",
       "align_content": null,
       "align_items": null,
       "align_self": null,
       "border_bottom": null,
       "border_left": null,
       "border_right": null,
       "border_top": null,
       "bottom": null,
       "display": null,
       "flex": null,
       "flex_flow": null,
       "grid_area": null,
       "grid_auto_columns": null,
       "grid_auto_flow": null,
       "grid_auto_rows": null,
       "grid_column": null,
       "grid_gap": null,
       "grid_row": null,
       "grid_template_areas": null,
       "grid_template_columns": null,
       "grid_template_rows": null,
       "height": null,
       "justify_content": null,
       "justify_items": null,
       "left": null,
       "margin": null,
       "max_height": null,
       "max_width": null,
       "min_height": null,
       "min_width": null,
       "object_fit": null,
       "object_position": null,
       "order": null,
       "overflow": null,
       "padding": null,
       "right": null,
       "top": null,
       "visibility": null,
       "width": null
      }
     },
     "f0fc29dcffc045d29eeca0caf8643ff7": {
      "model_module": "@jupyter-widgets/controls",
      "model_module_version": "2.0.0",
      "model_name": "HTMLStyleModel",
      "state": {
       "_model_module": "@jupyter-widgets/controls",
       "_model_module_version": "2.0.0",
       "_model_name": "HTMLStyleModel",
       "_view_count": null,
       "_view_module": "@jupyter-widgets/base",
       "_view_module_version": "2.0.0",
       "_view_name": "StyleView",
       "background": null,
       "description_width": "",
       "font_size": null,
       "text_color": null
      }
     },
     "f198d19137cb4c0e87940981a30f9dba": {
      "model_module": "@jupyter-widgets/base",
      "model_module_version": "2.0.0",
      "model_name": "LayoutModel",
      "state": {
       "_model_module": "@jupyter-widgets/base",
       "_model_module_version": "2.0.0",
       "_model_name": "LayoutModel",
       "_view_count": null,
       "_view_module": "@jupyter-widgets/base",
       "_view_module_version": "2.0.0",
       "_view_name": "LayoutView",
       "align_content": null,
       "align_items": null,
       "align_self": null,
       "border_bottom": null,
       "border_left": null,
       "border_right": null,
       "border_top": null,
       "bottom": null,
       "display": null,
       "flex": null,
       "flex_flow": null,
       "grid_area": null,
       "grid_auto_columns": null,
       "grid_auto_flow": null,
       "grid_auto_rows": null,
       "grid_column": null,
       "grid_gap": null,
       "grid_row": null,
       "grid_template_areas": null,
       "grid_template_columns": null,
       "grid_template_rows": null,
       "height": null,
       "justify_content": null,
       "justify_items": null,
       "left": null,
       "margin": null,
       "max_height": null,
       "max_width": null,
       "min_height": null,
       "min_width": null,
       "object_fit": null,
       "object_position": null,
       "order": null,
       "overflow": null,
       "padding": null,
       "right": null,
       "top": null,
       "visibility": null,
       "width": null
      }
     },
     "f1cd570f351445aa977494c82f1cbbe2": {
      "model_module": "@jupyter-widgets/controls",
      "model_module_version": "2.0.0",
      "model_name": "HTMLStyleModel",
      "state": {
       "_model_module": "@jupyter-widgets/controls",
       "_model_module_version": "2.0.0",
       "_model_name": "HTMLStyleModel",
       "_view_count": null,
       "_view_module": "@jupyter-widgets/base",
       "_view_module_version": "2.0.0",
       "_view_name": "StyleView",
       "background": null,
       "description_width": "",
       "font_size": null,
       "text_color": null
      }
     },
     "f26805b5c22441b2b511c65c13b1d669": {
      "model_module": "@jupyter-widgets/base",
      "model_module_version": "2.0.0",
      "model_name": "LayoutModel",
      "state": {
       "_model_module": "@jupyter-widgets/base",
       "_model_module_version": "2.0.0",
       "_model_name": "LayoutModel",
       "_view_count": null,
       "_view_module": "@jupyter-widgets/base",
       "_view_module_version": "2.0.0",
       "_view_name": "LayoutView",
       "align_content": null,
       "align_items": null,
       "align_self": null,
       "border_bottom": null,
       "border_left": null,
       "border_right": null,
       "border_top": null,
       "bottom": null,
       "display": null,
       "flex": null,
       "flex_flow": null,
       "grid_area": null,
       "grid_auto_columns": null,
       "grid_auto_flow": null,
       "grid_auto_rows": null,
       "grid_column": null,
       "grid_gap": null,
       "grid_row": null,
       "grid_template_areas": null,
       "grid_template_columns": null,
       "grid_template_rows": null,
       "height": null,
       "justify_content": null,
       "justify_items": null,
       "left": null,
       "margin": null,
       "max_height": null,
       "max_width": null,
       "min_height": null,
       "min_width": null,
       "object_fit": null,
       "object_position": null,
       "order": null,
       "overflow": null,
       "padding": null,
       "right": null,
       "top": null,
       "visibility": null,
       "width": null
      }
     },
     "f40c7445b4f84acebd956395aabf6311": {
      "model_module": "@jupyter-widgets/base",
      "model_module_version": "2.0.0",
      "model_name": "LayoutModel",
      "state": {
       "_model_module": "@jupyter-widgets/base",
       "_model_module_version": "2.0.0",
       "_model_name": "LayoutModel",
       "_view_count": null,
       "_view_module": "@jupyter-widgets/base",
       "_view_module_version": "2.0.0",
       "_view_name": "LayoutView",
       "align_content": null,
       "align_items": null,
       "align_self": null,
       "border_bottom": null,
       "border_left": null,
       "border_right": null,
       "border_top": null,
       "bottom": null,
       "display": null,
       "flex": null,
       "flex_flow": null,
       "grid_area": null,
       "grid_auto_columns": null,
       "grid_auto_flow": null,
       "grid_auto_rows": null,
       "grid_column": null,
       "grid_gap": null,
       "grid_row": null,
       "grid_template_areas": null,
       "grid_template_columns": null,
       "grid_template_rows": null,
       "height": null,
       "justify_content": null,
       "justify_items": null,
       "left": null,
       "margin": null,
       "max_height": null,
       "max_width": null,
       "min_height": null,
       "min_width": null,
       "object_fit": null,
       "object_position": null,
       "order": null,
       "overflow": null,
       "padding": null,
       "right": null,
       "top": null,
       "visibility": null,
       "width": null
      }
     },
     "f54e58a81b7d48a687c95043050b39e0": {
      "model_module": "@jupyter-widgets/controls",
      "model_module_version": "2.0.0",
      "model_name": "HTMLModel",
      "state": {
       "_dom_classes": [],
       "_model_module": "@jupyter-widgets/controls",
       "_model_module_version": "2.0.0",
       "_model_name": "HTMLModel",
       "_view_count": null,
       "_view_module": "@jupyter-widgets/controls",
       "_view_module_version": "2.0.0",
       "_view_name": "HTMLView",
       "description": "",
       "description_allow_html": false,
       "layout": "IPY_MODEL_a4e77c2b2af74665a3660818bb98719f",
       "placeholder": "​",
       "style": "IPY_MODEL_a6a3b0f2cb304cbc9587d495c301bbf3",
       "tabbable": null,
       "tooltip": null,
       "value": "<h5><a href=\"https://github.com/jupyter-book/thebe\">jupyter-book/thebe</a></h5>\n<ul>\n<li><a href=\"https://github.com/jupyter-book/thebe/issues/791\">(#791)</a>: <em>Update to JupyterLite 0.6.0</em> by <strong><a href=\"https://github.com/jtpio\">@jtpio</a></strong></li>\n</ul>"
      }
     },
     "f5c474bbfd494e9aa12b524c7a90aca1": {
      "model_module": "@jupyter-widgets/base",
      "model_module_version": "2.0.0",
      "model_name": "LayoutModel",
      "state": {
       "_model_module": "@jupyter-widgets/base",
       "_model_module_version": "2.0.0",
       "_model_name": "LayoutModel",
       "_view_count": null,
       "_view_module": "@jupyter-widgets/base",
       "_view_module_version": "2.0.0",
       "_view_name": "LayoutView",
       "align_content": null,
       "align_items": null,
       "align_self": null,
       "border_bottom": null,
       "border_left": null,
       "border_right": null,
       "border_top": null,
       "bottom": null,
       "display": null,
       "flex": null,
       "flex_flow": null,
       "grid_area": null,
       "grid_auto_columns": null,
       "grid_auto_flow": null,
       "grid_auto_rows": null,
       "grid_column": null,
       "grid_gap": null,
       "grid_row": null,
       "grid_template_areas": null,
       "grid_template_columns": null,
       "grid_template_rows": null,
       "height": null,
       "justify_content": null,
       "justify_items": null,
       "left": null,
       "margin": null,
       "max_height": null,
       "max_width": null,
       "min_height": null,
       "min_width": null,
       "object_fit": null,
       "object_position": null,
       "order": null,
       "overflow": null,
       "padding": null,
       "right": null,
       "top": null,
       "visibility": null,
       "width": null
      }
     },
     "f696009bf62c40df9d1eeae3e3e53c79": {
      "model_module": "@jupyter-widgets/controls",
      "model_module_version": "2.0.0",
      "model_name": "HTMLModel",
      "state": {
       "_dom_classes": [],
       "_model_module": "@jupyter-widgets/controls",
       "_model_module_version": "2.0.0",
       "_model_name": "HTMLModel",
       "_view_count": null,
       "_view_module": "@jupyter-widgets/controls",
       "_view_module_version": "2.0.0",
       "_view_name": "HTMLView",
       "description": "",
       "description_allow_html": false,
       "layout": "IPY_MODEL_85f48bb8451846a2810527c636bfaef2",
       "placeholder": "​",
       "style": "IPY_MODEL_f1cd570f351445aa977494c82f1cbbe2",
       "tabbable": null,
       "tooltip": null,
       "value": "<h5><a href=\"https://github.com/jupyter-book/myst-theme\">jupyter-book/myst-theme</a></h5>\n<ul>\n<li><a href=\"https://github.com/jupyter-book/myst-theme/issues/527\">(#527)</a>: <em>Support Bokeh Plots</em> by <strong><a href=\"https://github.com/acocac\">@acocac</a></strong></li>\n<li><a href=\"https://github.com/jupyter-book/myst-theme/issues/437\">(#437)</a>: _Allow authors to link custom JavaScript scripts to their pages by adding HTML manually or via configuration _ by <strong><a href=\"https://github.com/choldgraf\">@choldgraf</a></strong></li>\n<li><a href=\"https://github.com/jupyter-book/myst-theme/issues/567\">(#567)</a>: <em>Move colour choices to theme variables</em> by <strong><a href=\"https://github.com/agoose77\">@agoose77</a></strong></li>\n<li><a href=\"https://github.com/jupyter-book/myst-theme/issues/342\">(#342)</a>: <em>HTML served with <code>&lt;img src=http://localhost:3100&gt; even with</code>HOST=10.0.0.1 myst start --keep-host`</em> by <strong><a href=\"https://github.com/drewlio\">@drewlio</a></strong></li>\n<li><a href=\"https://github.com/jupyter-book/myst-theme/issues/513\">(#513)</a>: <em>Support return navigation for footnotes on mobile</em> by <strong><a href=\"https://github.com/agoose77\">@agoose77</a></strong></li>\n</ul>"
      }
     },
     "f86bd5435e464d6196f438373119f9b2": {
      "model_module": "@jupyter-widgets/base",
      "model_module_version": "2.0.0",
      "model_name": "LayoutModel",
      "state": {
       "_model_module": "@jupyter-widgets/base",
       "_model_module_version": "2.0.0",
       "_model_name": "LayoutModel",
       "_view_count": null,
       "_view_module": "@jupyter-widgets/base",
       "_view_module_version": "2.0.0",
       "_view_name": "LayoutView",
       "align_content": null,
       "align_items": null,
       "align_self": null,
       "border_bottom": null,
       "border_left": null,
       "border_right": null,
       "border_top": null,
       "bottom": null,
       "display": null,
       "flex": null,
       "flex_flow": null,
       "grid_area": null,
       "grid_auto_columns": null,
       "grid_auto_flow": null,
       "grid_auto_rows": null,
       "grid_column": null,
       "grid_gap": null,
       "grid_row": null,
       "grid_template_areas": null,
       "grid_template_columns": null,
       "grid_template_rows": null,
       "height": null,
       "justify_content": null,
       "justify_items": null,
       "left": null,
       "margin": null,
       "max_height": null,
       "max_width": null,
       "min_height": null,
       "min_width": null,
       "object_fit": null,
       "object_position": null,
       "order": null,
       "overflow": null,
       "padding": null,
       "right": null,
       "top": null,
       "visibility": null,
       "width": null
      }
     },
     "f985b6b1ea4b4585a86ca8d85c5d7baa": {
      "model_module": "@jupyter-widgets/controls",
      "model_module_version": "2.0.0",
      "model_name": "HTMLStyleModel",
      "state": {
       "_model_module": "@jupyter-widgets/controls",
       "_model_module_version": "2.0.0",
       "_model_name": "HTMLStyleModel",
       "_view_count": null,
       "_view_module": "@jupyter-widgets/base",
       "_view_module_version": "2.0.0",
       "_view_name": "StyleView",
       "background": null,
       "description_width": "",
       "font_size": null,
       "text_color": null
      }
     },
     "fdfac89090714e51a8571bbb33bc4d5e": {
      "model_module": "@jupyter-widgets/controls",
      "model_module_version": "2.0.0",
      "model_name": "HTMLStyleModel",
      "state": {
       "_model_module": "@jupyter-widgets/controls",
       "_model_module_version": "2.0.0",
       "_model_name": "HTMLStyleModel",
       "_view_count": null,
       "_view_module": "@jupyter-widgets/base",
       "_view_module_version": "2.0.0",
       "_view_name": "StyleView",
       "background": null,
       "description_width": "",
       "font_size": null,
       "text_color": null
      }
     },
     "fea06bf94f6849d0b3cb9a0b978d0551": {
      "model_module": "@jupyter-widgets/controls",
      "model_module_version": "2.0.0",
      "model_name": "HTMLModel",
      "state": {
       "_dom_classes": [],
       "_model_module": "@jupyter-widgets/controls",
       "_model_module_version": "2.0.0",
       "_model_name": "HTMLModel",
       "_view_count": null,
       "_view_module": "@jupyter-widgets/controls",
       "_view_module_version": "2.0.0",
       "_view_name": "HTMLView",
       "description": "",
       "description_allow_html": false,
       "layout": "IPY_MODEL_3130e80bd57c40d7947aa1801094a5df",
       "placeholder": "​",
       "style": "IPY_MODEL_671bde70a6244f7bbe7532ec61667a0b",
       "tabbable": null,
       "tooltip": null,
       "value": "<h5><a href=\"https://github.com/jupyter-book/myst-enhancement-proposals\">jupyter-book/myst-enhancement-proposals</a></h5>\n<ul>\n<li><a href=\"https://github.com/jupyter-book/myst-enhancement-proposals/issues/30\">(#30)</a>: <em>[MEP process] Define separate proposal and implementation stages</em> by <strong><a href=\"https://github.com/mmcky\">@mmcky</a></strong></li>\n</ul>"
      }
     }
    },
    "version_major": 2,
    "version_minor": 0
   }
  }
 },
 "nbformat": 4,
 "nbformat_minor": 5
}