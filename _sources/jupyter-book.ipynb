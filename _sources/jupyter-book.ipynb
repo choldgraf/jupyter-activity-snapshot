{
 "cells": [
  {
   "cell_type": "markdown",
   "id": "55cd6136",
   "metadata": {
    "papermill": {
     "duration": 0.015851,
     "end_time": "2025-05-12T16:41:30.336783",
     "exception": false,
     "start_time": "2025-05-12T16:41:30.320932",
     "status": "completed"
    },
    "tags": []
   },
   "source": [
    "# {glue:text}`jupyter-book_github_org`\n",
    "\n",
    "**Activity from {glue:}`jupyter-book_start` to {glue:}`jupyter-book_stop`**"
   ]
  },
  {
   "cell_type": "code",
   "execution_count": 1,
   "id": "7eccef2d",
   "metadata": {
    "editable": true,
    "execution": {
     "iopub.execute_input": "2025-05-12T16:41:30.368625Z",
     "iopub.status.busy": "2025-05-12T16:41:30.368357Z",
     "iopub.status.idle": "2025-05-12T16:41:31.618980Z",
     "shell.execute_reply": "2025-05-12T16:41:31.618268Z"
    },
    "papermill": {
     "duration": 1.268301,
     "end_time": "2025-05-12T16:41:31.620430",
     "exception": false,
     "start_time": "2025-05-12T16:41:30.352129",
     "status": "completed"
    },
    "slideshow": {
     "slide_type": ""
    },
    "tags": [
     "remove_cell"
    ]
   },
   "outputs": [],
   "source": [
    "from datetime import date\n",
    "from dateutil.relativedelta import relativedelta\n",
    "from myst_nb import glue\n",
    "import seaborn as sns\n",
    "import pandas as pd\n",
    "import numpy as np\n",
    "import altair as alt\n",
    "from markdown import markdown\n",
    "from IPython.display import Markdown\n",
    "from ipywidgets.widgets import HTML, Tab\n",
    "from ipywidgets import widgets\n",
    "from datetime import timedelta\n",
    "from matplotlib import pyplot as plt\n",
    "import os.path as op\n",
    "from json import loads\n",
    "\n",
    "from warnings import simplefilter\n",
    "simplefilter('ignore')\n",
    "pd.set_option('display.max_columns', None) # 'None' means show all"
   ]
  },
  {
   "cell_type": "code",
   "execution_count": 2,
   "id": "8dc6a62d",
   "metadata": {
    "editable": true,
    "execution": {
     "iopub.execute_input": "2025-05-12T16:41:31.653367Z",
     "iopub.status.busy": "2025-05-12T16:41:31.652714Z",
     "iopub.status.idle": "2025-05-12T16:41:31.659791Z",
     "shell.execute_reply": "2025-05-12T16:41:31.659220Z"
    },
    "papermill": {
     "duration": 0.024985,
     "end_time": "2025-05-12T16:41:31.660810",
     "exception": false,
     "start_time": "2025-05-12T16:41:31.635825",
     "status": "completed"
    },
    "slideshow": {
     "slide_type": ""
    },
    "tags": [
     "remove_cell"
    ]
   },
   "outputs": [],
   "source": [
    "# Altair config\n",
    "def author_url(author):\n",
    "    return f\"https://github.com/{author}\"\n",
    "\n",
    "def alt_theme():\n",
    "    return {\n",
    "        'config': {\n",
    "            'axisLeft': {\n",
    "                'labelFontSize': 15,\n",
    "            },\n",
    "            'axisBottom': {\n",
    "                'labelFontSize': 15,\n",
    "            },\n",
    "        }\n",
    "    }\n",
    "\n",
    "alt.themes.register('my_theme', alt_theme)\n",
    "alt.themes.enable(\"my_theme\")\n",
    "\n",
    "\n",
    "# Define colors we'll use for GitHub membership\n",
    "author_types = ['MEMBER', 'CONTRIBUTOR', 'COLLABORATOR', \"NONE\"]\n",
    "\n",
    "author_palette = np.array(sns.palettes.blend_palette([\"lightgrey\", \"lightgreen\", \"darkgreen\"], 4)) * 256\n",
    "author_colors = [\"rgb({}, {}, {})\".format(*color) for color in author_palette]\n",
    "author_color_dict = {key: val for key, val in zip(author_types, author_palette)}"
   ]
  },
  {
   "cell_type": "code",
   "execution_count": 3,
   "id": "a08d4cd7",
   "metadata": {
    "editable": true,
    "execution": {
     "iopub.execute_input": "2025-05-12T16:41:31.691765Z",
     "iopub.status.busy": "2025-05-12T16:41:31.691142Z",
     "iopub.status.idle": "2025-05-12T16:41:31.694644Z",
     "shell.execute_reply": "2025-05-12T16:41:31.694104Z"
    },
    "papermill": {
     "duration": 0.020094,
     "end_time": "2025-05-12T16:41:31.695746",
     "exception": false,
     "start_time": "2025-05-12T16:41:31.675652",
     "status": "completed"
    },
    "slideshow": {
     "slide_type": ""
    },
    "tags": [
     "parameters",
     "hide_input",
     "remove_cell"
    ]
   },
   "outputs": [],
   "source": [
    "github_org = \"jupyterhub\"\n",
    "top_n_repos = 15\n",
    "n_days = 90"
   ]
  },
  {
   "cell_type": "code",
   "execution_count": 4,
   "id": "6a702bb4",
   "metadata": {
    "execution": {
     "iopub.execute_input": "2025-05-12T16:41:31.727139Z",
     "iopub.status.busy": "2025-05-12T16:41:31.726517Z",
     "iopub.status.idle": "2025-05-12T16:41:31.729999Z",
     "shell.execute_reply": "2025-05-12T16:41:31.729352Z"
    },
    "papermill": {
     "duration": 0.020197,
     "end_time": "2025-05-12T16:41:31.731086",
     "exception": false,
     "start_time": "2025-05-12T16:41:31.710889",
     "status": "completed"
    },
    "tags": [
     "injected-parameters",
     "remove-cell"
    ]
   },
   "outputs": [],
   "source": [
    "# Parameters\n",
    "github_org = \"jupyter-book\"\n",
    "n_days = 90\n"
   ]
  },
  {
   "cell_type": "code",
   "execution_count": 5,
   "id": "859c5801",
   "metadata": {
    "editable": true,
    "execution": {
     "iopub.execute_input": "2025-05-12T16:41:31.763860Z",
     "iopub.status.busy": "2025-05-12T16:41:31.763198Z",
     "iopub.status.idle": "2025-05-12T16:41:31.848067Z",
     "shell.execute_reply": "2025-05-12T16:41:31.847386Z"
    },
    "papermill": {
     "duration": 0.102398,
     "end_time": "2025-05-12T16:41:31.849235",
     "exception": false,
     "start_time": "2025-05-12T16:41:31.746837",
     "status": "completed"
    },
    "slideshow": {
     "slide_type": ""
    },
    "tags": [
     "remove_cell"
    ]
   },
   "outputs": [
    {
     "data": {
      "application/papermill.record/text/plain": "'jupyter-book'"
     },
     "metadata": {
      "scrapbook": {
       "mime_prefix": "application/papermill.record/",
       "name": "jupyter-book_github_org"
      }
     },
     "output_type": "display_data"
    },
    {
     "data": {
      "application/papermill.record/text/plain": "'2025-02-11'"
     },
     "metadata": {
      "scrapbook": {
       "mime_prefix": "application/papermill.record/",
       "name": "jupyter-book_start"
      }
     },
     "output_type": "display_data"
    },
    {
     "data": {
      "application/papermill.record/text/plain": "'2025-05-12'"
     },
     "metadata": {
      "scrapbook": {
       "mime_prefix": "application/papermill.record/",
       "name": "jupyter-book_stop"
      }
     },
     "output_type": "display_data"
    }
   ],
   "source": [
    "############################################################\n",
    "# Variables\n",
    "stop = date.today()\n",
    "start = date.today() - relativedelta(days=n_days)\n",
    "\n",
    "# Strings for use in queries\n",
    "start_date = f\"{start:%Y-%m-%d}\"\n",
    "stop_date = f\"{stop:%Y-%m-%d}\"\n",
    "\n",
    "# Glue variables for use in markdown\n",
    "glue(f\"{github_org}_github_org\", github_org, display=False)\n",
    "glue(f\"{github_org}_start\", start_date, display=False)\n",
    "glue(f\"{github_org}_stop\", stop_date, display=False)"
   ]
  },
  {
   "cell_type": "markdown",
   "id": "84915130",
   "metadata": {
    "editable": true,
    "papermill": {
     "duration": 0.01529,
     "end_time": "2025-05-12T16:41:31.879820",
     "exception": false,
     "start_time": "2025-05-12T16:41:31.864530",
     "status": "completed"
    },
    "slideshow": {
     "slide_type": ""
    },
    "tags": []
   },
   "source": [
    "## Load data\n",
    "\n",
    "Load and clean up the data"
   ]
  },
  {
   "cell_type": "code",
   "execution_count": 6,
   "id": "b0fd5583",
   "metadata": {
    "editable": true,
    "execution": {
     "iopub.execute_input": "2025-05-12T16:41:31.912769Z",
     "iopub.status.busy": "2025-05-12T16:41:31.912484Z",
     "iopub.status.idle": "2025-05-12T16:41:31.917443Z",
     "shell.execute_reply": "2025-05-12T16:41:31.916822Z"
    },
    "papermill": {
     "duration": 0.022868,
     "end_time": "2025-05-12T16:41:31.918590",
     "exception": false,
     "start_time": "2025-05-12T16:41:31.895722",
     "status": "completed"
    },
    "slideshow": {
     "slide_type": ""
    },
    "tags": [
     "remove_cell"
    ]
   },
   "outputs": [],
   "source": [
    "from pathlib import Path\n",
    "import sqlite3\n",
    "path_data = Path(\"../data\")\n",
    "path_data = list(path_data.rglob(f\"*{github_org}.db\"))[0]\n",
    "\n",
    "def df_from_sql(query, db):\n",
    "    con = sqlite3.connect(db)\n",
    "    return pd.read_sql(query, con)\n",
    "    con.close()"
   ]
  },
  {
   "cell_type": "code",
   "execution_count": 7,
   "id": "0285ba2f",
   "metadata": {
    "editable": true,
    "execution": {
     "iopub.execute_input": "2025-05-12T16:41:31.949497Z",
     "iopub.status.busy": "2025-05-12T16:41:31.949199Z",
     "iopub.status.idle": "2025-05-12T16:41:32.168887Z",
     "shell.execute_reply": "2025-05-12T16:41:32.168149Z"
    },
    "papermill": {
     "duration": 0.236747,
     "end_time": "2025-05-12T16:41:32.170172",
     "exception": false,
     "start_time": "2025-05-12T16:41:31.933425",
     "status": "completed"
    },
    "scrolled": true,
    "slideshow": {
     "slide_type": ""
    },
    "tags": [
     "remove_cell"
    ]
   },
   "outputs": [
    {
     "name": "stdout",
     "output_type": "stream",
     "text": [
      "Loading from ../data/612f67cbff44837826a10e815fa2f115-jupyter-book.db\n"
     ]
    }
   ],
   "source": [
    "print(f\"Loading from {path_data}\")\n",
    "repos = df_from_sql(\"SELECT * FROM repos\", path_data)\n",
    "users = df_from_sql(\"SELECT * FROM users\", path_data)\n",
    "issues = df_from_sql(\"SELECT * FROM issues\", path_data)\n",
    "comments = df_from_sql(\"SELECT * FROM issue_comments\", path_data)\n",
    "\n",
    "# Merge repository information into issues\n",
    "def merge_repo_into_df(df, kind):\n",
    "    df = pd.merge(df, users[[\"id\", \"login\"]], left_on=\"user\", right_on=\"id\", suffixes=(\"_issue\", \"_user\"), how=\"inner\")\n",
    "    df = pd.merge(df, repos[[\"id\", \"full_name\", \"name\"]], left_on=\"repo\", right_on=\"id\", suffixes=(\"_issue\", \"_repo\"), how=\"inner\")\n",
    "    df[\"org\"] = df[\"full_name\"].map(lambda a: a.split('/')[0])\n",
    "    df[\"repo\"] = df[\"full_name\"].map(lambda a: a.split('/')[1])\n",
    "    df[\"url\"] = \"https://github.com/\" + df[\"org\"] + \"/\" + df[\"repo\"] + f\"/{kind}/\" + df[\"number\"].astype(str)\n",
    "    return df\n",
    "issues = merge_repo_into_df(issues, kind=\"issues\")\n",
    "\n",
    "# Pull out the Pull Requests from Issues\n",
    "prs = issues.loc[~issues[\"pull_request\"].isna()]\n",
    "def identify_merger(closedby):\n",
    "    if not closedby:\n",
    "        return None\n",
    "    try:\n",
    "        cb = loads(closedby)\n",
    "    except:\n",
    "        print(closedby)\n",
    "    return cb[\"login\"]\n",
    "prs[\"merged_by\"] = prs[\"closed_by\"].map(identify_merger)\n",
    "\n",
    "# These issues now _remove_ the PRs\n",
    "issues = issues.loc[issues[\"pull_request\"].isna()]\n",
    "\n",
    "# Add reactions data\n",
    "def count_positive(a):\n",
    "    a = loads(a)\n",
    "    return a[\"+1\"] + a[\"hooray\"] + a[\"heart\"]\n",
    "issues[\"positive\"] = issues[\"reactions\"].map(count_positive)\n",
    "\n",
    "# Drop comments if there is no associated issue\n",
    "comments = comments.dropna(subset=[\"issue\"])\n",
    "comments[\"issue\"] = comments.loc[:, \"issue\"].astype(int)\n",
    "\n",
    "# Add repository information to comments\n",
    "comments = pd.merge(comments, issues[[\"id_issue\", \"full_name\", \"org\", \"repo\"]], left_on=\"issue\", right_on=\"id_issue\", how=\"inner\", suffixes=(\"_comment\", \"_issue\"))\n",
    "\n",
    "# Merge user data into comments\n",
    "comments = pd.merge(comments, users[[\"id\", \"login\"]], left_on=\"user\", right_on=\"id\", suffixes=(\"_comment\", \"_user\"), how=\"inner\")"
   ]
  },
  {
   "cell_type": "code",
   "execution_count": 8,
   "id": "b1ca8ad0",
   "metadata": {
    "editable": true,
    "execution": {
     "iopub.execute_input": "2025-05-12T16:41:32.203239Z",
     "iopub.status.busy": "2025-05-12T16:41:32.202921Z",
     "iopub.status.idle": "2025-05-12T16:41:32.236384Z",
     "shell.execute_reply": "2025-05-12T16:41:32.235665Z"
    },
    "papermill": {
     "duration": 0.051466,
     "end_time": "2025-05-12T16:41:32.237582",
     "exception": false,
     "start_time": "2025-05-12T16:41:32.186116",
     "status": "completed"
    },
    "slideshow": {
     "slide_type": ""
    },
    "tags": [
     "remove_cell"
    ]
   },
   "outputs": [],
   "source": [
    "# Convert columns to datetime\n",
    "datetime_columns = [\"created_at\", \"closed_at\"]\n",
    "for df in [comments, issues, prs]:\n",
    "    for col in datetime_columns:\n",
    "        if col in df:\n",
    "            df[col] = pd.to_datetime(df[col])\n",
    "            # Strip timezone information so we can run simpler queries\n",
    "            df[col] = df[col].dt.tz_localize(None)"
   ]
  },
  {
   "cell_type": "code",
   "execution_count": 9,
   "id": "3c075135",
   "metadata": {
    "editable": true,
    "execution": {
     "iopub.execute_input": "2025-05-12T16:41:32.268721Z",
     "iopub.status.busy": "2025-05-12T16:41:32.268240Z",
     "iopub.status.idle": "2025-05-12T16:41:32.281429Z",
     "shell.execute_reply": "2025-05-12T16:41:32.280849Z"
    },
    "papermill": {
     "duration": 0.030132,
     "end_time": "2025-05-12T16:41:32.282605",
     "exception": false,
     "start_time": "2025-05-12T16:41:32.252473",
     "status": "completed"
    },
    "slideshow": {
     "slide_type": ""
    },
    "tags": [
     "remove_cell"
    ]
   },
   "outputs": [],
   "source": [
    "# What are the top N repos, we will only plot these in the full data plots\n",
    "top_commented_repos = comments.groupby(\"repo\").count().sort_values(\"created_at\", ascending=False)['created_at']\n",
    "use_repos = top_commented_repos.head(top_n_repos).index.tolist()"
   ]
  },
  {
   "cell_type": "markdown",
   "id": "c1469c83",
   "metadata": {
    "editable": true,
    "papermill": {
     "duration": 0.015873,
     "end_time": "2025-05-12T16:41:32.314494",
     "exception": false,
     "start_time": "2025-05-12T16:41:32.298621",
     "status": "completed"
    },
    "slideshow": {
     "slide_type": ""
    },
    "tags": [],
    "toc-hr-collapsed": false
   },
   "source": [
    "## Merged Pull requests\n",
    "\n",
    "Here's an analysis of **merged pull requests** across each of the repositories in the Jupyter\n",
    "ecosystem."
   ]
  },
  {
   "cell_type": "code",
   "execution_count": 10,
   "id": "5b037797",
   "metadata": {
    "editable": true,
    "execution": {
     "iopub.execute_input": "2025-05-12T16:41:32.345811Z",
     "iopub.status.busy": "2025-05-12T16:41:32.345273Z",
     "iopub.status.idle": "2025-05-12T16:41:32.357576Z",
     "shell.execute_reply": "2025-05-12T16:41:32.357004Z"
    },
    "papermill": {
     "duration": 0.029297,
     "end_time": "2025-05-12T16:41:32.358805",
     "exception": false,
     "start_time": "2025-05-12T16:41:32.329508",
     "status": "completed"
    },
    "slideshow": {
     "slide_type": ""
    },
    "tags": [
     "remove_cell"
    ]
   },
   "outputs": [],
   "source": [
    "merged = prs.query('state == \"closed\" and closed_at > @start_date and closed_at < @stop_date')"
   ]
  },
  {
   "cell_type": "code",
   "execution_count": 11,
   "id": "1ee1e9ca",
   "metadata": {
    "editable": true,
    "execution": {
     "iopub.execute_input": "2025-05-12T16:41:32.390566Z",
     "iopub.status.busy": "2025-05-12T16:41:32.389894Z",
     "iopub.status.idle": "2025-05-12T16:41:32.432360Z",
     "shell.execute_reply": "2025-05-12T16:41:32.431591Z"
    },
    "papermill": {
     "duration": 0.059601,
     "end_time": "2025-05-12T16:41:32.433593",
     "exception": false,
     "start_time": "2025-05-12T16:41:32.373992",
     "status": "completed"
    },
    "slideshow": {
     "slide_type": ""
    },
    "tags": [
     "hide_input"
    ]
   },
   "outputs": [
    {
     "data": {
      "text/html": [
       "\n",
       "<style>\n",
       "  #altair-viz-d4e09f15063b499faf3eb8a2e9ab2622.vega-embed {\n",
       "    width: 100%;\n",
       "    display: flex;\n",
       "  }\n",
       "\n",
       "  #altair-viz-d4e09f15063b499faf3eb8a2e9ab2622.vega-embed details,\n",
       "  #altair-viz-d4e09f15063b499faf3eb8a2e9ab2622.vega-embed details summary {\n",
       "    position: relative;\n",
       "  }\n",
       "</style>\n",
       "<div id=\"altair-viz-d4e09f15063b499faf3eb8a2e9ab2622\"></div>\n",
       "<script type=\"text/javascript\">\n",
       "  var VEGA_DEBUG = (typeof VEGA_DEBUG == \"undefined\") ? {} : VEGA_DEBUG;\n",
       "  (function(spec, embedOpt){\n",
       "    let outputDiv = document.currentScript.previousElementSibling;\n",
       "    if (outputDiv.id !== \"altair-viz-d4e09f15063b499faf3eb8a2e9ab2622\") {\n",
       "      outputDiv = document.getElementById(\"altair-viz-d4e09f15063b499faf3eb8a2e9ab2622\");\n",
       "    }\n",
       "\n",
       "    const paths = {\n",
       "      \"vega\": \"https://cdn.jsdelivr.net/npm/vega@5?noext\",\n",
       "      \"vega-lib\": \"https://cdn.jsdelivr.net/npm/vega-lib?noext\",\n",
       "      \"vega-lite\": \"https://cdn.jsdelivr.net/npm/vega-lite@5.20.1?noext\",\n",
       "      \"vega-embed\": \"https://cdn.jsdelivr.net/npm/vega-embed@6?noext\",\n",
       "    };\n",
       "\n",
       "    function maybeLoadScript(lib, version) {\n",
       "      var key = `${lib.replace(\"-\", \"\")}_version`;\n",
       "      return (VEGA_DEBUG[key] == version) ?\n",
       "        Promise.resolve(paths[lib]) :\n",
       "        new Promise(function(resolve, reject) {\n",
       "          var s = document.createElement('script');\n",
       "          document.getElementsByTagName(\"head\")[0].appendChild(s);\n",
       "          s.async = true;\n",
       "          s.onload = () => {\n",
       "            VEGA_DEBUG[key] = version;\n",
       "            return resolve(paths[lib]);\n",
       "          };\n",
       "          s.onerror = () => reject(`Error loading script: ${paths[lib]}`);\n",
       "          s.src = paths[lib];\n",
       "        });\n",
       "    }\n",
       "\n",
       "    function showError(err) {\n",
       "      outputDiv.innerHTML = `<div class=\"error\" style=\"color:red;\">${err}</div>`;\n",
       "      throw err;\n",
       "    }\n",
       "\n",
       "    function displayChart(vegaEmbed) {\n",
       "      vegaEmbed(outputDiv, spec, embedOpt)\n",
       "        .catch(err => showError(`Javascript Error: ${err.message}<br>This usually means there's a typo in your chart specification. See the javascript console for the full traceback.`));\n",
       "    }\n",
       "\n",
       "    if(typeof define === \"function\" && define.amd) {\n",
       "      requirejs.config({paths});\n",
       "      let deps = [\"vega-embed\"];\n",
       "      require(deps, displayChart, err => showError(`Error loading script: ${err.message}`));\n",
       "    } else {\n",
       "      maybeLoadScript(\"vega\", \"5\")\n",
       "        .then(() => maybeLoadScript(\"vega-lite\", \"5.20.1\"))\n",
       "        .then(() => maybeLoadScript(\"vega-embed\", \"6\"))\n",
       "        .catch(showError)\n",
       "        .then(() => displayChart(vegaEmbed));\n",
       "    }\n",
       "  })({\"config\": {\"axisLeft\": {\"labelFontSize\": 15}, \"axisBottom\": {\"labelFontSize\": 15}}, \"data\": {\"name\": \"data-12c8f4cb950e9ac6b13e7c86ea99b79c\"}, \"mark\": {\"type\": \"bar\"}, \"encoding\": {\"color\": {\"field\": \"org\", \"type\": \"nominal\"}, \"x\": {\"field\": \"repo\", \"sort\": [\"mystmd\", \"myst-theme\", \"jupyter-book\", \"mystmd.org\", \"blog\", \"team-compass\", \"myst-enhancement-proposals\"], \"type\": \"nominal\"}, \"y\": {\"field\": \"login\", \"type\": \"quantitative\"}}, \"title\": \"Merged PRs in the last 90 days\", \"$schema\": \"https://vega.github.io/schema/vega-lite/v5.20.1.json\", \"datasets\": {\"data-12c8f4cb950e9ac6b13e7c86ea99b79c\": [{\"org\": \"jupyter-book\", \"repo\": \"mystmd\", \"login\": 45}, {\"org\": \"jupyter-book\", \"repo\": \"myst-theme\", \"login\": 34}, {\"org\": \"jupyter-book\", \"repo\": \"jupyter-book\", \"login\": 13}, {\"org\": \"jupyter-book\", \"repo\": \"mystmd.org\", \"login\": 5}, {\"org\": \"jupyter-book\", \"repo\": \"blog\", \"login\": 4}, {\"org\": \"jupyter-book\", \"repo\": \"team-compass\", \"login\": 3}, {\"org\": \"jupyter-book\", \"repo\": \"myst-enhancement-proposals\", \"login\": 2}]}}, {\"mode\": \"vega-lite\"});\n",
       "</script>"
      ],
      "text/plain": [
       "alt.Chart(...)"
      ]
     },
     "execution_count": 11,
     "metadata": {},
     "output_type": "execute_result"
    }
   ],
   "source": [
    "prs_by_repo = merged.groupby(['org', 'repo']).count()['login'].reset_index().sort_values(['org', 'login'], ascending=False)\n",
    "alt.Chart(data=prs_by_repo, title=f\"Merged PRs in the last {n_days} days\").mark_bar().encode(\n",
    "    x=alt.X('repo', sort=prs_by_repo['repo'].values.tolist()),\n",
    "    y='login',\n",
    "    color='org'\n",
    ")"
   ]
  },
  {
   "cell_type": "markdown",
   "id": "236337d7",
   "metadata": {
    "editable": true,
    "papermill": {
     "duration": 0.015841,
     "end_time": "2025-05-12T16:41:32.466452",
     "exception": false,
     "start_time": "2025-05-12T16:41:32.450611",
     "status": "completed"
    },
    "slideshow": {
     "slide_type": ""
    },
    "tags": []
   },
   "source": [
    "### Authoring and merging stats by repository\n",
    "\n",
    "Let's see who has been doing most of the PR authoring and merging. The PR author is generally the\n",
    "person that implemented a change in the repository (code, documentation, etc). The PR merger is\n",
    "the person that \"pressed the green button\" and got the change into the main codebase."
   ]
  },
  {
   "cell_type": "code",
   "execution_count": 12,
   "id": "0f29205b",
   "metadata": {
    "editable": true,
    "execution": {
     "iopub.execute_input": "2025-05-12T16:41:32.498366Z",
     "iopub.status.busy": "2025-05-12T16:41:32.498073Z",
     "iopub.status.idle": "2025-05-12T16:41:32.510688Z",
     "shell.execute_reply": "2025-05-12T16:41:32.509987Z"
    },
    "papermill": {
     "duration": 0.029831,
     "end_time": "2025-05-12T16:41:32.511898",
     "exception": false,
     "start_time": "2025-05-12T16:41:32.482067",
     "status": "completed"
    },
    "slideshow": {
     "slide_type": ""
    },
    "tags": [
     "remove_cell"
    ]
   },
   "outputs": [],
   "source": [
    "# Prep our merging DF\n",
    "merged_by_repo = merged.groupby(['repo', 'login'], as_index=False).agg({'id': 'count', 'author_association': 'first'}).rename(columns={'id': \"authored\", 'login': 'username'})\n",
    "closed_by_repo = merged.groupby(['name', 'merged_by']).count()['id_issue'].reset_index().rename(columns={'id_issue': \"closed\", \"merged_by\": \"username\"})"
   ]
  },
  {
   "cell_type": "code",
   "execution_count": 13,
   "id": "a380e37f",
   "metadata": {
    "editable": true,
    "execution": {
     "iopub.execute_input": "2025-05-12T16:41:32.543293Z",
     "iopub.status.busy": "2025-05-12T16:41:32.542781Z",
     "iopub.status.idle": "2025-05-12T16:41:32.567339Z",
     "shell.execute_reply": "2025-05-12T16:41:32.566632Z"
    },
    "papermill": {
     "duration": 0.041331,
     "end_time": "2025-05-12T16:41:32.568543",
     "exception": false,
     "start_time": "2025-05-12T16:41:32.527212",
     "status": "completed"
    },
    "slideshow": {
     "slide_type": ""
    },
    "tags": [
     "hide_input"
    ]
   },
   "outputs": [
    {
     "data": {
      "text/html": [
       "\n",
       "<style>\n",
       "  #altair-viz-89d14fce679f4b29bdfec8b6ca3ddf06.vega-embed {\n",
       "    width: 100%;\n",
       "    display: flex;\n",
       "  }\n",
       "\n",
       "  #altair-viz-89d14fce679f4b29bdfec8b6ca3ddf06.vega-embed details,\n",
       "  #altair-viz-89d14fce679f4b29bdfec8b6ca3ddf06.vega-embed details summary {\n",
       "    position: relative;\n",
       "  }\n",
       "</style>\n",
       "<div id=\"altair-viz-89d14fce679f4b29bdfec8b6ca3ddf06\"></div>\n",
       "<script type=\"text/javascript\">\n",
       "  var VEGA_DEBUG = (typeof VEGA_DEBUG == \"undefined\") ? {} : VEGA_DEBUG;\n",
       "  (function(spec, embedOpt){\n",
       "    let outputDiv = document.currentScript.previousElementSibling;\n",
       "    if (outputDiv.id !== \"altair-viz-89d14fce679f4b29bdfec8b6ca3ddf06\") {\n",
       "      outputDiv = document.getElementById(\"altair-viz-89d14fce679f4b29bdfec8b6ca3ddf06\");\n",
       "    }\n",
       "\n",
       "    const paths = {\n",
       "      \"vega\": \"https://cdn.jsdelivr.net/npm/vega@5?noext\",\n",
       "      \"vega-lib\": \"https://cdn.jsdelivr.net/npm/vega-lib?noext\",\n",
       "      \"vega-lite\": \"https://cdn.jsdelivr.net/npm/vega-lite@5.20.1?noext\",\n",
       "      \"vega-embed\": \"https://cdn.jsdelivr.net/npm/vega-embed@6?noext\",\n",
       "    };\n",
       "\n",
       "    function maybeLoadScript(lib, version) {\n",
       "      var key = `${lib.replace(\"-\", \"\")}_version`;\n",
       "      return (VEGA_DEBUG[key] == version) ?\n",
       "        Promise.resolve(paths[lib]) :\n",
       "        new Promise(function(resolve, reject) {\n",
       "          var s = document.createElement('script');\n",
       "          document.getElementsByTagName(\"head\")[0].appendChild(s);\n",
       "          s.async = true;\n",
       "          s.onload = () => {\n",
       "            VEGA_DEBUG[key] = version;\n",
       "            return resolve(paths[lib]);\n",
       "          };\n",
       "          s.onerror = () => reject(`Error loading script: ${paths[lib]}`);\n",
       "          s.src = paths[lib];\n",
       "        });\n",
       "    }\n",
       "\n",
       "    function showError(err) {\n",
       "      outputDiv.innerHTML = `<div class=\"error\" style=\"color:red;\">${err}</div>`;\n",
       "      throw err;\n",
       "    }\n",
       "\n",
       "    function displayChart(vegaEmbed) {\n",
       "      vegaEmbed(outputDiv, spec, embedOpt)\n",
       "        .catch(err => showError(`Javascript Error: ${err.message}<br>This usually means there's a typo in your chart specification. See the javascript console for the full traceback.`));\n",
       "    }\n",
       "\n",
       "    if(typeof define === \"function\" && define.amd) {\n",
       "      requirejs.config({paths});\n",
       "      let deps = [\"vega-embed\"];\n",
       "      require(deps, displayChart, err => showError(`Error loading script: ${err.message}`));\n",
       "    } else {\n",
       "      maybeLoadScript(\"vega\", \"5\")\n",
       "        .then(() => maybeLoadScript(\"vega-lite\", \"5.20.1\"))\n",
       "        .then(() => maybeLoadScript(\"vega-embed\", \"6\"))\n",
       "        .catch(showError)\n",
       "        .then(() => displayChart(vegaEmbed));\n",
       "    }\n",
       "  })({\"config\": {\"axisLeft\": {\"labelFontSize\": 15}, \"axisBottom\": {\"labelFontSize\": 15}}, \"data\": {\"name\": \"data-4da241539784dedef90623fae7a7041f\"}, \"mark\": {\"type\": \"bar\"}, \"encoding\": {\"color\": {\"field\": \"author_association\", \"scale\": {\"domain\": [\"MEMBER\", \"CONTRIBUTOR\", \"COLLABORATOR\", \"NONE\"], \"range\": [\"rgb(211.82745098039214, 211.82745098039214, 211.82745098039214)\", \"rgb(166.98562091503268, 229.89803921568628, 166.98562091503268)\", \"rgb(96.37647058823529, 192.75294117647059, 96.37647058823529)\", \"rgb(0.0, 100.3921568627451, 0.0)\"]}, \"type\": \"nominal\"}, \"x\": {\"field\": \"username\", \"type\": \"nominal\"}, \"y\": {\"field\": \"authored\", \"type\": \"quantitative\"}}, \"title\": \"PR authors for jupyter-book in the last 90 days\", \"$schema\": \"https://vega.github.io/schema/vega-lite/v5.20.1.json\", \"datasets\": {\"data-4da241539784dedef90623fae7a7041f\": [{\"username\": \"agoose77\", \"authored\": 48, \"author_association\": \"MEMBER\"}, {\"username\": \"choldgraf\", \"authored\": 13, \"author_association\": \"MEMBER\"}, {\"username\": \"rowanc1\", \"authored\": 13, \"author_association\": \"MEMBER\"}, {\"username\": \"github-actions[bot]\", \"authored\": 8, \"author_association\": \"CONTRIBUTOR\"}, {\"username\": \"fwkoch\", \"authored\": 6, \"author_association\": \"MEMBER\"}, {\"username\": \"stefanv\", \"authored\": 5, \"author_association\": \"COLLABORATOR\"}, {\"username\": \"JimMadge\", \"authored\": 3, \"author_association\": \"NONE\"}, {\"username\": \"stevejpurves\", \"authored\": 3, \"author_association\": \"MEMBER\"}, {\"username\": \"alanrice\", \"authored\": 1, \"author_association\": \"CONTRIBUTOR\"}, {\"username\": \"RHammond2\", \"authored\": 1, \"author_association\": \"NONE\"}, {\"username\": \"StefanRR\", \"authored\": 1, \"author_association\": \"CONTRIBUTOR\"}, {\"username\": \"bsipocz\", \"authored\": 1, \"author_association\": \"CONTRIBUTOR\"}, {\"username\": \"fperez\", \"authored\": 1, \"author_association\": \"CONTRIBUTOR\"}, {\"username\": \"da5nsy\", \"authored\": 1, \"author_association\": \"CONTRIBUTOR\"}, {\"username\": \"nmielec\", \"authored\": 1, \"author_association\": \"CONTRIBUTOR\"}]}}, {\"mode\": \"vega-lite\"});\n",
       "</script>"
      ],
      "text/plain": [
       "alt.Chart(...)"
      ]
     },
     "execution_count": 13,
     "metadata": {},
     "output_type": "execute_result"
    }
   ],
   "source": [
    "charts = []\n",
    "title = f\"PR authors for {github_org} in the last {n_days} days\"\n",
    "this_data = merged_by_repo.replace(np.nan, 0).groupby('username', as_index=False).agg({'authored': 'sum', 'author_association': 'first'})\n",
    "this_data = this_data.sort_values('authored', ascending=False)\n",
    "ch = alt.Chart(data=this_data, title=title).mark_bar().encode(\n",
    "    x='username',\n",
    "    y='authored',\n",
    "    color=alt.Color('author_association', scale=alt.Scale(domain=author_types, range=author_colors))\n",
    ")\n",
    "ch"
   ]
  },
  {
   "cell_type": "code",
   "execution_count": 14,
   "id": "8d75c6a9",
   "metadata": {
    "editable": true,
    "execution": {
     "iopub.execute_input": "2025-05-12T16:41:32.602786Z",
     "iopub.status.busy": "2025-05-12T16:41:32.602306Z",
     "iopub.status.idle": "2025-05-12T16:41:32.623547Z",
     "shell.execute_reply": "2025-05-12T16:41:32.622838Z"
    },
    "papermill": {
     "duration": 0.039944,
     "end_time": "2025-05-12T16:41:32.624731",
     "exception": false,
     "start_time": "2025-05-12T16:41:32.584787",
     "status": "completed"
    },
    "slideshow": {
     "slide_type": ""
    },
    "tags": [
     "hide_input"
    ]
   },
   "outputs": [
    {
     "data": {
      "text/html": [
       "\n",
       "<style>\n",
       "  #altair-viz-260076358e7743d0ae1c556237a9d4ca.vega-embed {\n",
       "    width: 100%;\n",
       "    display: flex;\n",
       "  }\n",
       "\n",
       "  #altair-viz-260076358e7743d0ae1c556237a9d4ca.vega-embed details,\n",
       "  #altair-viz-260076358e7743d0ae1c556237a9d4ca.vega-embed details summary {\n",
       "    position: relative;\n",
       "  }\n",
       "</style>\n",
       "<div id=\"altair-viz-260076358e7743d0ae1c556237a9d4ca\"></div>\n",
       "<script type=\"text/javascript\">\n",
       "  var VEGA_DEBUG = (typeof VEGA_DEBUG == \"undefined\") ? {} : VEGA_DEBUG;\n",
       "  (function(spec, embedOpt){\n",
       "    let outputDiv = document.currentScript.previousElementSibling;\n",
       "    if (outputDiv.id !== \"altair-viz-260076358e7743d0ae1c556237a9d4ca\") {\n",
       "      outputDiv = document.getElementById(\"altair-viz-260076358e7743d0ae1c556237a9d4ca\");\n",
       "    }\n",
       "\n",
       "    const paths = {\n",
       "      \"vega\": \"https://cdn.jsdelivr.net/npm/vega@5?noext\",\n",
       "      \"vega-lib\": \"https://cdn.jsdelivr.net/npm/vega-lib?noext\",\n",
       "      \"vega-lite\": \"https://cdn.jsdelivr.net/npm/vega-lite@5.20.1?noext\",\n",
       "      \"vega-embed\": \"https://cdn.jsdelivr.net/npm/vega-embed@6?noext\",\n",
       "    };\n",
       "\n",
       "    function maybeLoadScript(lib, version) {\n",
       "      var key = `${lib.replace(\"-\", \"\")}_version`;\n",
       "      return (VEGA_DEBUG[key] == version) ?\n",
       "        Promise.resolve(paths[lib]) :\n",
       "        new Promise(function(resolve, reject) {\n",
       "          var s = document.createElement('script');\n",
       "          document.getElementsByTagName(\"head\")[0].appendChild(s);\n",
       "          s.async = true;\n",
       "          s.onload = () => {\n",
       "            VEGA_DEBUG[key] = version;\n",
       "            return resolve(paths[lib]);\n",
       "          };\n",
       "          s.onerror = () => reject(`Error loading script: ${paths[lib]}`);\n",
       "          s.src = paths[lib];\n",
       "        });\n",
       "    }\n",
       "\n",
       "    function showError(err) {\n",
       "      outputDiv.innerHTML = `<div class=\"error\" style=\"color:red;\">${err}</div>`;\n",
       "      throw err;\n",
       "    }\n",
       "\n",
       "    function displayChart(vegaEmbed) {\n",
       "      vegaEmbed(outputDiv, spec, embedOpt)\n",
       "        .catch(err => showError(`Javascript Error: ${err.message}<br>This usually means there's a typo in your chart specification. See the javascript console for the full traceback.`));\n",
       "    }\n",
       "\n",
       "    if(typeof define === \"function\" && define.amd) {\n",
       "      requirejs.config({paths});\n",
       "      let deps = [\"vega-embed\"];\n",
       "      require(deps, displayChart, err => showError(`Error loading script: ${err.message}`));\n",
       "    } else {\n",
       "      maybeLoadScript(\"vega\", \"5\")\n",
       "        .then(() => maybeLoadScript(\"vega-lite\", \"5.20.1\"))\n",
       "        .then(() => maybeLoadScript(\"vega-embed\", \"6\"))\n",
       "        .catch(showError)\n",
       "        .then(() => displayChart(vegaEmbed));\n",
       "    }\n",
       "  })({\"config\": {\"axisLeft\": {\"labelFontSize\": 15}, \"axisBottom\": {\"labelFontSize\": 15}}, \"data\": {\"name\": \"data-966ea6bf9436d2d3b16e06e6e86993f1\"}, \"mark\": {\"type\": \"bar\"}, \"encoding\": {\"x\": {\"field\": \"username\", \"type\": \"nominal\"}, \"y\": {\"field\": \"closed\", \"type\": \"quantitative\"}}, \"title\": \"Users that have merged PRs for jupyter-book in the last 90 days\", \"$schema\": \"https://vega.github.io/schema/vega-lite/v5.20.1.json\", \"datasets\": {\"data-966ea6bf9436d2d3b16e06e6e86993f1\": [{\"name\": \"blog\", \"username\": \"agoose77\", \"closed\": 3}, {\"name\": \"blog\", \"username\": \"choldgraf\", \"closed\": 1}, {\"name\": \"jupyter-book\", \"username\": \"agoose77\", \"closed\": 12}, {\"name\": \"jupyter-book\", \"username\": \"choldgraf\", \"closed\": 1}, {\"name\": \"myst-enhancement-proposals\", \"username\": \"agoose77\", \"closed\": 1}, {\"name\": \"myst-enhancement-proposals\", \"username\": \"rowanc1\", \"closed\": 1}, {\"name\": \"myst-theme\", \"username\": \"agoose77\", \"closed\": 11}, {\"name\": \"myst-theme\", \"username\": \"rowanc1\", \"closed\": 20}, {\"name\": \"myst-theme\", \"username\": \"stevejpurves\", \"closed\": 3}, {\"name\": \"mystmd\", \"username\": \"agoose77\", \"closed\": 13}, {\"name\": \"mystmd\", \"username\": \"choldgraf\", \"closed\": 10}, {\"name\": \"mystmd\", \"username\": \"fwkoch\", \"closed\": 1}, {\"name\": \"mystmd\", \"username\": \"rowanc1\", \"closed\": 20}, {\"name\": \"mystmd\", \"username\": \"stevejpurves\", \"closed\": 1}, {\"name\": \"mystmd.org\", \"username\": \"agoose77\", \"closed\": 3}, {\"name\": \"mystmd.org\", \"username\": \"choldgraf\", \"closed\": 1}, {\"name\": \"mystmd.org\", \"username\": \"rowanc1\", \"closed\": 1}, {\"name\": \"team-compass\", \"username\": \"agoose77\", \"closed\": 1}, {\"name\": \"team-compass\", \"username\": \"choldgraf\", \"closed\": 2}]}}, {\"mode\": \"vega-lite\"});\n",
       "</script>"
      ],
      "text/plain": [
       "alt.Chart(...)"
      ]
     },
     "execution_count": 14,
     "metadata": {},
     "output_type": "execute_result"
    }
   ],
   "source": [
    "charts = []\n",
    "title = f\"Users that have merged PRs for {github_org} in the last {n_days} days\"\n",
    "ch = alt.Chart(data=closed_by_repo.replace(np.nan, 0), title=title).mark_bar().encode(\n",
    "    x='username',\n",
    "    y='closed',\n",
    ")\n",
    "ch"
   ]
  },
  {
   "cell_type": "markdown",
   "id": "5158001c",
   "metadata": {
    "editable": true,
    "papermill": {
     "duration": 0.015618,
     "end_time": "2025-05-12T16:41:32.656275",
     "exception": false,
     "start_time": "2025-05-12T16:41:32.640657",
     "status": "completed"
    },
    "slideshow": {
     "slide_type": ""
    },
    "tags": []
   },
   "source": [
    "## Issues\n",
    "\n",
    "Issues are **conversations** that happen on our GitHub repositories. Here's an\n",
    "analysis of issues across the Jupyter organizations."
   ]
  },
  {
   "cell_type": "code",
   "execution_count": 15,
   "id": "d301db2a",
   "metadata": {
    "editable": true,
    "execution": {
     "iopub.execute_input": "2025-05-12T16:41:32.691270Z",
     "iopub.status.busy": "2025-05-12T16:41:32.690721Z",
     "iopub.status.idle": "2025-05-12T16:41:32.714342Z",
     "shell.execute_reply": "2025-05-12T16:41:32.713635Z"
    },
    "papermill": {
     "duration": 0.043029,
     "end_time": "2025-05-12T16:41:32.715559",
     "exception": false,
     "start_time": "2025-05-12T16:41:32.672530",
     "status": "completed"
    },
    "slideshow": {
     "slide_type": ""
    },
    "tags": [
     "remove_cell"
    ]
   },
   "outputs": [],
   "source": [
    "created = issues.query('state == \"open\" and created_at > @start_date and created_at < @stop_date')\n",
    "closed = issues.query('state == \"closed\" and closed_at > @start_date and closed_at < @stop_date')"
   ]
  },
  {
   "cell_type": "code",
   "execution_count": 16,
   "id": "62f79200",
   "metadata": {
    "editable": true,
    "execution": {
     "iopub.execute_input": "2025-05-12T16:41:32.752889Z",
     "iopub.status.busy": "2025-05-12T16:41:32.752098Z",
     "iopub.status.idle": "2025-05-12T16:41:32.779180Z",
     "shell.execute_reply": "2025-05-12T16:41:32.778425Z"
    },
    "papermill": {
     "duration": 0.047956,
     "end_time": "2025-05-12T16:41:32.780631",
     "exception": false,
     "start_time": "2025-05-12T16:41:32.732675",
     "status": "completed"
    },
    "slideshow": {
     "slide_type": ""
    },
    "tags": [
     "hide_input"
    ]
   },
   "outputs": [
    {
     "data": {
      "text/html": [
       "\n",
       "<style>\n",
       "  #altair-viz-2bdbe2eb6dca482da24a490adddd6c89.vega-embed {\n",
       "    width: 100%;\n",
       "    display: flex;\n",
       "  }\n",
       "\n",
       "  #altair-viz-2bdbe2eb6dca482da24a490adddd6c89.vega-embed details,\n",
       "  #altair-viz-2bdbe2eb6dca482da24a490adddd6c89.vega-embed details summary {\n",
       "    position: relative;\n",
       "  }\n",
       "</style>\n",
       "<div id=\"altair-viz-2bdbe2eb6dca482da24a490adddd6c89\"></div>\n",
       "<script type=\"text/javascript\">\n",
       "  var VEGA_DEBUG = (typeof VEGA_DEBUG == \"undefined\") ? {} : VEGA_DEBUG;\n",
       "  (function(spec, embedOpt){\n",
       "    let outputDiv = document.currentScript.previousElementSibling;\n",
       "    if (outputDiv.id !== \"altair-viz-2bdbe2eb6dca482da24a490adddd6c89\") {\n",
       "      outputDiv = document.getElementById(\"altair-viz-2bdbe2eb6dca482da24a490adddd6c89\");\n",
       "    }\n",
       "\n",
       "    const paths = {\n",
       "      \"vega\": \"https://cdn.jsdelivr.net/npm/vega@5?noext\",\n",
       "      \"vega-lib\": \"https://cdn.jsdelivr.net/npm/vega-lib?noext\",\n",
       "      \"vega-lite\": \"https://cdn.jsdelivr.net/npm/vega-lite@5.20.1?noext\",\n",
       "      \"vega-embed\": \"https://cdn.jsdelivr.net/npm/vega-embed@6?noext\",\n",
       "    };\n",
       "\n",
       "    function maybeLoadScript(lib, version) {\n",
       "      var key = `${lib.replace(\"-\", \"\")}_version`;\n",
       "      return (VEGA_DEBUG[key] == version) ?\n",
       "        Promise.resolve(paths[lib]) :\n",
       "        new Promise(function(resolve, reject) {\n",
       "          var s = document.createElement('script');\n",
       "          document.getElementsByTagName(\"head\")[0].appendChild(s);\n",
       "          s.async = true;\n",
       "          s.onload = () => {\n",
       "            VEGA_DEBUG[key] = version;\n",
       "            return resolve(paths[lib]);\n",
       "          };\n",
       "          s.onerror = () => reject(`Error loading script: ${paths[lib]}`);\n",
       "          s.src = paths[lib];\n",
       "        });\n",
       "    }\n",
       "\n",
       "    function showError(err) {\n",
       "      outputDiv.innerHTML = `<div class=\"error\" style=\"color:red;\">${err}</div>`;\n",
       "      throw err;\n",
       "    }\n",
       "\n",
       "    function displayChart(vegaEmbed) {\n",
       "      vegaEmbed(outputDiv, spec, embedOpt)\n",
       "        .catch(err => showError(`Javascript Error: ${err.message}<br>This usually means there's a typo in your chart specification. See the javascript console for the full traceback.`));\n",
       "    }\n",
       "\n",
       "    if(typeof define === \"function\" && define.amd) {\n",
       "      requirejs.config({paths});\n",
       "      let deps = [\"vega-embed\"];\n",
       "      require(deps, displayChart, err => showError(`Error loading script: ${err.message}`));\n",
       "    } else {\n",
       "      maybeLoadScript(\"vega\", \"5\")\n",
       "        .then(() => maybeLoadScript(\"vega-lite\", \"5.20.1\"))\n",
       "        .then(() => maybeLoadScript(\"vega-embed\", \"6\"))\n",
       "        .catch(showError)\n",
       "        .then(() => displayChart(vegaEmbed));\n",
       "    }\n",
       "  })({\"config\": {\"axisLeft\": {\"labelFontSize\": 15}, \"axisBottom\": {\"labelFontSize\": 15}}, \"data\": {\"name\": \"data-0fb4b55d3994c1c62091dc75bf024aaf\"}, \"mark\": {\"type\": \"bar\"}, \"encoding\": {\"x\": {\"field\": \"repo\", \"sort\": [\"mystmd\", \"jupyter-book\", \"myst-theme\", \"jupyterlab-myst\", \"team-compass\", \"thebe\", \"myst-enhancement-proposals\", \"mystmd.org\"], \"type\": \"nominal\"}, \"y\": {\"field\": \"number\", \"type\": \"quantitative\"}}, \"title\": \"Issues created in the last 90 days\", \"$schema\": \"https://vega.github.io/schema/vega-lite/v5.20.1.json\", \"datasets\": {\"data-0fb4b55d3994c1c62091dc75bf024aaf\": [{\"org\": \"jupyter-book\", \"repo\": \"jupyter-book\", \"number\": 15, \"org/repo\": \"jupyter-book/jupyter-book\"}, {\"org\": \"jupyter-book\", \"repo\": \"jupyterlab-myst\", \"number\": 7, \"org/repo\": \"jupyter-book/jupyterlab-myst\"}, {\"org\": \"jupyter-book\", \"repo\": \"myst-enhancement-proposals\", \"number\": 1, \"org/repo\": \"jupyter-book/myst-enhancement-proposals\"}, {\"org\": \"jupyter-book\", \"repo\": \"myst-theme\", \"number\": 8, \"org/repo\": \"jupyter-book/myst-theme\"}, {\"org\": \"jupyter-book\", \"repo\": \"mystmd\", \"number\": 59, \"org/repo\": \"jupyter-book/mystmd\"}, {\"org\": \"jupyter-book\", \"repo\": \"mystmd.org\", \"number\": 1, \"org/repo\": \"jupyter-book/mystmd.org\"}, {\"org\": \"jupyter-book\", \"repo\": \"team-compass\", \"number\": 5, \"org/repo\": \"jupyter-book/team-compass\"}, {\"org\": \"jupyter-book\", \"repo\": \"thebe\", \"number\": 2, \"org/repo\": \"jupyter-book/thebe\"}]}}, {\"mode\": \"vega-lite\"});\n",
       "</script>"
      ],
      "text/plain": [
       "alt.Chart(...)"
      ]
     },
     "execution_count": 16,
     "metadata": {},
     "output_type": "execute_result"
    }
   ],
   "source": [
    "created_counts = created.groupby(['org', 'repo']).count()['number'].reset_index()\n",
    "created_counts['org/repo'] = created_counts.apply(lambda a: a['org'] + '/' + a['repo'], axis=1)\n",
    "sorted_vals = created_counts.sort_values(['org', 'number'], ascending=False)['repo'].values\n",
    "alt.Chart(data=created_counts, title=f\"Issues created in the last {n_days} days\").mark_bar().encode(\n",
    "    x=alt.X('repo', sort=alt.Sort(sorted_vals.tolist())),\n",
    "    y='number',\n",
    ")"
   ]
  },
  {
   "cell_type": "code",
   "execution_count": 17,
   "id": "62fcd9b0",
   "metadata": {
    "editable": true,
    "execution": {
     "iopub.execute_input": "2025-05-12T16:41:32.817311Z",
     "iopub.status.busy": "2025-05-12T16:41:32.816802Z",
     "iopub.status.idle": "2025-05-12T16:41:32.841566Z",
     "shell.execute_reply": "2025-05-12T16:41:32.840900Z"
    },
    "papermill": {
     "duration": 0.043835,
     "end_time": "2025-05-12T16:41:32.842743",
     "exception": false,
     "start_time": "2025-05-12T16:41:32.798908",
     "status": "completed"
    },
    "slideshow": {
     "slide_type": ""
    },
    "tags": [
     "hide_input"
    ]
   },
   "outputs": [
    {
     "data": {
      "text/html": [
       "\n",
       "<style>\n",
       "  #altair-viz-69f2bf6625954c6c819445a531476314.vega-embed {\n",
       "    width: 100%;\n",
       "    display: flex;\n",
       "  }\n",
       "\n",
       "  #altair-viz-69f2bf6625954c6c819445a531476314.vega-embed details,\n",
       "  #altair-viz-69f2bf6625954c6c819445a531476314.vega-embed details summary {\n",
       "    position: relative;\n",
       "  }\n",
       "</style>\n",
       "<div id=\"altair-viz-69f2bf6625954c6c819445a531476314\"></div>\n",
       "<script type=\"text/javascript\">\n",
       "  var VEGA_DEBUG = (typeof VEGA_DEBUG == \"undefined\") ? {} : VEGA_DEBUG;\n",
       "  (function(spec, embedOpt){\n",
       "    let outputDiv = document.currentScript.previousElementSibling;\n",
       "    if (outputDiv.id !== \"altair-viz-69f2bf6625954c6c819445a531476314\") {\n",
       "      outputDiv = document.getElementById(\"altair-viz-69f2bf6625954c6c819445a531476314\");\n",
       "    }\n",
       "\n",
       "    const paths = {\n",
       "      \"vega\": \"https://cdn.jsdelivr.net/npm/vega@5?noext\",\n",
       "      \"vega-lib\": \"https://cdn.jsdelivr.net/npm/vega-lib?noext\",\n",
       "      \"vega-lite\": \"https://cdn.jsdelivr.net/npm/vega-lite@5.20.1?noext\",\n",
       "      \"vega-embed\": \"https://cdn.jsdelivr.net/npm/vega-embed@6?noext\",\n",
       "    };\n",
       "\n",
       "    function maybeLoadScript(lib, version) {\n",
       "      var key = `${lib.replace(\"-\", \"\")}_version`;\n",
       "      return (VEGA_DEBUG[key] == version) ?\n",
       "        Promise.resolve(paths[lib]) :\n",
       "        new Promise(function(resolve, reject) {\n",
       "          var s = document.createElement('script');\n",
       "          document.getElementsByTagName(\"head\")[0].appendChild(s);\n",
       "          s.async = true;\n",
       "          s.onload = () => {\n",
       "            VEGA_DEBUG[key] = version;\n",
       "            return resolve(paths[lib]);\n",
       "          };\n",
       "          s.onerror = () => reject(`Error loading script: ${paths[lib]}`);\n",
       "          s.src = paths[lib];\n",
       "        });\n",
       "    }\n",
       "\n",
       "    function showError(err) {\n",
       "      outputDiv.innerHTML = `<div class=\"error\" style=\"color:red;\">${err}</div>`;\n",
       "      throw err;\n",
       "    }\n",
       "\n",
       "    function displayChart(vegaEmbed) {\n",
       "      vegaEmbed(outputDiv, spec, embedOpt)\n",
       "        .catch(err => showError(`Javascript Error: ${err.message}<br>This usually means there's a typo in your chart specification. See the javascript console for the full traceback.`));\n",
       "    }\n",
       "\n",
       "    if(typeof define === \"function\" && define.amd) {\n",
       "      requirejs.config({paths});\n",
       "      let deps = [\"vega-embed\"];\n",
       "      require(deps, displayChart, err => showError(`Error loading script: ${err.message}`));\n",
       "    } else {\n",
       "      maybeLoadScript(\"vega\", \"5\")\n",
       "        .then(() => maybeLoadScript(\"vega-lite\", \"5.20.1\"))\n",
       "        .then(() => maybeLoadScript(\"vega-embed\", \"6\"))\n",
       "        .catch(showError)\n",
       "        .then(() => displayChart(vegaEmbed));\n",
       "    }\n",
       "  })({\"config\": {\"axisLeft\": {\"labelFontSize\": 15}, \"axisBottom\": {\"labelFontSize\": 15}}, \"data\": {\"name\": \"data-b13915f2742adb83fcf0f5131ff087c2\"}, \"mark\": {\"type\": \"bar\"}, \"encoding\": {\"x\": {\"field\": \"repo\", \"sort\": [\"mystmd\", \"jupyter-book\", \"myst-theme\", \"mystmd.org\", \"jupyterlab-myst\", \"team-compass\"], \"type\": \"nominal\"}, \"y\": {\"field\": \"number\", \"type\": \"quantitative\"}}, \"title\": \"Issues closed in the last 90 days\", \"$schema\": \"https://vega.github.io/schema/vega-lite/v5.20.1.json\", \"datasets\": {\"data-b13915f2742adb83fcf0f5131ff087c2\": [{\"org\": \"jupyter-book\", \"repo\": \"jupyter-book\", \"number\": 5, \"org/repo\": \"jupyter-book/jupyter-book\"}, {\"org\": \"jupyter-book\", \"repo\": \"jupyterlab-myst\", \"number\": 1, \"org/repo\": \"jupyter-book/jupyterlab-myst\"}, {\"org\": \"jupyter-book\", \"repo\": \"myst-theme\", \"number\": 4, \"org/repo\": \"jupyter-book/myst-theme\"}, {\"org\": \"jupyter-book\", \"repo\": \"mystmd\", \"number\": 26, \"org/repo\": \"jupyter-book/mystmd\"}, {\"org\": \"jupyter-book\", \"repo\": \"mystmd.org\", \"number\": 2, \"org/repo\": \"jupyter-book/mystmd.org\"}, {\"org\": \"jupyter-book\", \"repo\": \"team-compass\", \"number\": 1, \"org/repo\": \"jupyter-book/team-compass\"}]}}, {\"mode\": \"vega-lite\"});\n",
       "</script>"
      ],
      "text/plain": [
       "alt.Chart(...)"
      ]
     },
     "execution_count": 17,
     "metadata": {},
     "output_type": "execute_result"
    }
   ],
   "source": [
    "closed_counts = closed.groupby(['org', 'repo']).count()['number'].reset_index()\n",
    "closed_counts['org/repo'] = closed_counts.apply(lambda a: a['org'] + '/' + a['repo'], axis=1)\n",
    "sorted_vals = closed_counts.sort_values(['number'], ascending=False)['repo'].values\n",
    "alt.Chart(data=closed_counts, title=f\"Issues closed in the last {n_days} days\").mark_bar().encode(\n",
    "    x=alt.X('repo', sort=alt.Sort(sorted_vals.tolist())),\n",
    "    y='number',\n",
    ")"
   ]
  },
  {
   "cell_type": "code",
   "execution_count": 18,
   "id": "e45ead09",
   "metadata": {
    "editable": true,
    "execution": {
     "iopub.execute_input": "2025-05-12T16:41:32.878274Z",
     "iopub.status.busy": "2025-05-12T16:41:32.877712Z",
     "iopub.status.idle": "2025-05-12T16:41:32.887992Z",
     "shell.execute_reply": "2025-05-12T16:41:32.887378Z"
    },
    "papermill": {
     "duration": 0.029246,
     "end_time": "2025-05-12T16:41:32.889217",
     "exception": false,
     "start_time": "2025-05-12T16:41:32.859971",
     "status": "completed"
    },
    "slideshow": {
     "slide_type": ""
    },
    "tags": [
     "remove_cell"
    ]
   },
   "outputs": [],
   "source": [
    "created_closed = pd.merge(created_counts.rename(columns={'number': 'created'}).drop(columns='org/repo'),\n",
    "                          closed_counts.rename(columns={'number': 'closed'}).drop(columns='org/repo'),\n",
    "                          on=['org', 'repo'], how='outer')\n",
    "\n",
    "created_closed = pd.melt(created_closed, id_vars=['org', 'repo'], var_name=\"kind\", value_name=\"count\").replace(np.nan, 0)"
   ]
  },
  {
   "cell_type": "code",
   "execution_count": 19,
   "id": "6f59b835",
   "metadata": {
    "editable": true,
    "execution": {
     "iopub.execute_input": "2025-05-12T16:41:32.923015Z",
     "iopub.status.busy": "2025-05-12T16:41:32.922695Z",
     "iopub.status.idle": "2025-05-12T16:41:32.948986Z",
     "shell.execute_reply": "2025-05-12T16:41:32.948435Z"
    },
    "papermill": {
     "duration": 0.044609,
     "end_time": "2025-05-12T16:41:32.950205",
     "exception": false,
     "start_time": "2025-05-12T16:41:32.905596",
     "status": "completed"
    },
    "scrolled": true,
    "slideshow": {
     "slide_type": ""
    },
    "tags": [
     "hide_input"
    ]
   },
   "outputs": [
    {
     "data": {
      "text/html": [
       "\n",
       "<style>\n",
       "  #altair-viz-ceae71183b104e5da098a6406b0334cb.vega-embed {\n",
       "    width: 100%;\n",
       "    display: flex;\n",
       "  }\n",
       "\n",
       "  #altair-viz-ceae71183b104e5da098a6406b0334cb.vega-embed details,\n",
       "  #altair-viz-ceae71183b104e5da098a6406b0334cb.vega-embed details summary {\n",
       "    position: relative;\n",
       "  }\n",
       "</style>\n",
       "<div id=\"altair-viz-ceae71183b104e5da098a6406b0334cb\"></div>\n",
       "<script type=\"text/javascript\">\n",
       "  var VEGA_DEBUG = (typeof VEGA_DEBUG == \"undefined\") ? {} : VEGA_DEBUG;\n",
       "  (function(spec, embedOpt){\n",
       "    let outputDiv = document.currentScript.previousElementSibling;\n",
       "    if (outputDiv.id !== \"altair-viz-ceae71183b104e5da098a6406b0334cb\") {\n",
       "      outputDiv = document.getElementById(\"altair-viz-ceae71183b104e5da098a6406b0334cb\");\n",
       "    }\n",
       "\n",
       "    const paths = {\n",
       "      \"vega\": \"https://cdn.jsdelivr.net/npm/vega@5?noext\",\n",
       "      \"vega-lib\": \"https://cdn.jsdelivr.net/npm/vega-lib?noext\",\n",
       "      \"vega-lite\": \"https://cdn.jsdelivr.net/npm/vega-lite@5.20.1?noext\",\n",
       "      \"vega-embed\": \"https://cdn.jsdelivr.net/npm/vega-embed@6?noext\",\n",
       "    };\n",
       "\n",
       "    function maybeLoadScript(lib, version) {\n",
       "      var key = `${lib.replace(\"-\", \"\")}_version`;\n",
       "      return (VEGA_DEBUG[key] == version) ?\n",
       "        Promise.resolve(paths[lib]) :\n",
       "        new Promise(function(resolve, reject) {\n",
       "          var s = document.createElement('script');\n",
       "          document.getElementsByTagName(\"head\")[0].appendChild(s);\n",
       "          s.async = true;\n",
       "          s.onload = () => {\n",
       "            VEGA_DEBUG[key] = version;\n",
       "            return resolve(paths[lib]);\n",
       "          };\n",
       "          s.onerror = () => reject(`Error loading script: ${paths[lib]}`);\n",
       "          s.src = paths[lib];\n",
       "        });\n",
       "    }\n",
       "\n",
       "    function showError(err) {\n",
       "      outputDiv.innerHTML = `<div class=\"error\" style=\"color:red;\">${err}</div>`;\n",
       "      throw err;\n",
       "    }\n",
       "\n",
       "    function displayChart(vegaEmbed) {\n",
       "      vegaEmbed(outputDiv, spec, embedOpt)\n",
       "        .catch(err => showError(`Javascript Error: ${err.message}<br>This usually means there's a typo in your chart specification. See the javascript console for the full traceback.`));\n",
       "    }\n",
       "\n",
       "    if(typeof define === \"function\" && define.amd) {\n",
       "      requirejs.config({paths});\n",
       "      let deps = [\"vega-embed\"];\n",
       "      require(deps, displayChart, err => showError(`Error loading script: ${err.message}`));\n",
       "    } else {\n",
       "      maybeLoadScript(\"vega\", \"5\")\n",
       "        .then(() => maybeLoadScript(\"vega-lite\", \"5.20.1\"))\n",
       "        .then(() => maybeLoadScript(\"vega-embed\", \"6\"))\n",
       "        .catch(showError)\n",
       "        .then(() => displayChart(vegaEmbed));\n",
       "    }\n",
       "  })({\"config\": {\"axisLeft\": {\"labelFontSize\": 15}, \"axisBottom\": {\"labelFontSize\": 15}}, \"data\": {\"name\": \"data-b97f7092b028326e87c03912aa76ba6f\"}, \"mark\": {\"type\": \"bar\"}, \"encoding\": {\"color\": {\"field\": \"kind\", \"type\": \"nominal\"}, \"column\": {\"field\": \"repo\", \"header\": {\"labelFontSize\": 12, \"title\": \"Issue activity, last 90 days for jupyter-book\", \"titleFontSize\": 15}, \"type\": \"nominal\"}, \"x\": {\"axis\": {\"labelFontSize\": 15, \"title\": \"\"}, \"field\": \"kind\", \"type\": \"nominal\"}, \"y\": {\"axis\": {\"labelFontSize\": 12, \"titleFontSize\": 15}, \"field\": \"count\", \"type\": \"quantitative\"}}, \"width\": 120, \"$schema\": \"https://vega.github.io/schema/vega-lite/v5.20.1.json\", \"datasets\": {\"data-b97f7092b028326e87c03912aa76ba6f\": [{\"org\": \"jupyter-book\", \"repo\": \"jupyter-book\", \"kind\": \"created\", \"count\": 15.0}, {\"org\": \"jupyter-book\", \"repo\": \"jupyterlab-myst\", \"kind\": \"created\", \"count\": 7.0}, {\"org\": \"jupyter-book\", \"repo\": \"myst-enhancement-proposals\", \"kind\": \"created\", \"count\": 1.0}, {\"org\": \"jupyter-book\", \"repo\": \"myst-theme\", \"kind\": \"created\", \"count\": 8.0}, {\"org\": \"jupyter-book\", \"repo\": \"mystmd\", \"kind\": \"created\", \"count\": 59.0}, {\"org\": \"jupyter-book\", \"repo\": \"mystmd.org\", \"kind\": \"created\", \"count\": 1.0}, {\"org\": \"jupyter-book\", \"repo\": \"team-compass\", \"kind\": \"created\", \"count\": 5.0}, {\"org\": \"jupyter-book\", \"repo\": \"thebe\", \"kind\": \"created\", \"count\": 2.0}, {\"org\": \"jupyter-book\", \"repo\": \"jupyter-book\", \"kind\": \"closed\", \"count\": 5.0}, {\"org\": \"jupyter-book\", \"repo\": \"jupyterlab-myst\", \"kind\": \"closed\", \"count\": 1.0}, {\"org\": \"jupyter-book\", \"repo\": \"myst-enhancement-proposals\", \"kind\": \"closed\", \"count\": 0.0}, {\"org\": \"jupyter-book\", \"repo\": \"myst-theme\", \"kind\": \"closed\", \"count\": 4.0}, {\"org\": \"jupyter-book\", \"repo\": \"mystmd\", \"kind\": \"closed\", \"count\": 26.0}, {\"org\": \"jupyter-book\", \"repo\": \"mystmd.org\", \"kind\": \"closed\", \"count\": 2.0}, {\"org\": \"jupyter-book\", \"repo\": \"team-compass\", \"kind\": \"closed\", \"count\": 1.0}, {\"org\": \"jupyter-book\", \"repo\": \"thebe\", \"kind\": \"closed\", \"count\": 0.0}]}}, {\"mode\": \"vega-lite\"});\n",
       "</script>"
      ],
      "text/plain": [
       "alt.Chart(...)"
      ]
     },
     "execution_count": 19,
     "metadata": {},
     "output_type": "execute_result"
    }
   ],
   "source": [
    "charts = []\n",
    "# Pick the top 10 repositories\n",
    "top_repos = created_closed.groupby(['repo']).sum().sort_values(by='count', ascending=False).head(10).index\n",
    "ch = alt.Chart(created_closed.query('repo in @top_repos'), width=120).mark_bar().encode(\n",
    "    x=alt.X(\"kind\", axis=alt.Axis(labelFontSize=15, title=\"\")), \n",
    "    y=alt.Y('count', axis=alt.Axis(titleFontSize=15, labelFontSize=12)),\n",
    "    color='kind',\n",
    "    column=alt.Column(\"repo\", header=alt.Header(title=f\"Issue activity, last {n_days} days for {github_org}\", titleFontSize=15, labelFontSize=12))\n",
    ")\n",
    "ch"
   ]
  },
  {
   "cell_type": "code",
   "execution_count": 20,
   "id": "33ea493b",
   "metadata": {
    "editable": true,
    "execution": {
     "iopub.execute_input": "2025-05-12T16:41:32.986095Z",
     "iopub.status.busy": "2025-05-12T16:41:32.985585Z",
     "iopub.status.idle": "2025-05-12T16:41:32.993367Z",
     "shell.execute_reply": "2025-05-12T16:41:32.992690Z"
    },
    "papermill": {
     "duration": 0.026803,
     "end_time": "2025-05-12T16:41:32.994533",
     "exception": false,
     "start_time": "2025-05-12T16:41:32.967730",
     "status": "completed"
    },
    "slideshow": {
     "slide_type": ""
    },
    "tags": [
     "remove_cell"
    ]
   },
   "outputs": [],
   "source": [
    "# Set to datetime\n",
    "for kind in ['created_at', 'closed_at']:\n",
    "    closed.loc[:, kind] = pd.to_datetime(closed[kind])\n",
    "    \n",
    "closed.loc[:, 'time_open'] = closed['closed_at'] - closed['created_at']\n",
    "closed.loc[:, 'time_open'] = closed['time_open'].dt.total_seconds()"
   ]
  },
  {
   "cell_type": "code",
   "execution_count": 21,
   "id": "d1280a4f",
   "metadata": {
    "editable": true,
    "execution": {
     "iopub.execute_input": "2025-05-12T16:41:33.028648Z",
     "iopub.status.busy": "2025-05-12T16:41:33.028119Z",
     "iopub.status.idle": "2025-05-12T16:41:33.048834Z",
     "shell.execute_reply": "2025-05-12T16:41:33.048128Z"
    },
    "papermill": {
     "duration": 0.039293,
     "end_time": "2025-05-12T16:41:33.050029",
     "exception": false,
     "start_time": "2025-05-12T16:41:33.010736",
     "status": "completed"
    },
    "slideshow": {
     "slide_type": ""
    },
    "tags": [
     "hide_input"
    ]
   },
   "outputs": [
    {
     "data": {
      "text/html": [
       "\n",
       "<style>\n",
       "  #altair-viz-af012d3eeb0f43a3bb27b9bcc2f5d3f2.vega-embed {\n",
       "    width: 100%;\n",
       "    display: flex;\n",
       "  }\n",
       "\n",
       "  #altair-viz-af012d3eeb0f43a3bb27b9bcc2f5d3f2.vega-embed details,\n",
       "  #altair-viz-af012d3eeb0f43a3bb27b9bcc2f5d3f2.vega-embed details summary {\n",
       "    position: relative;\n",
       "  }\n",
       "</style>\n",
       "<div id=\"altair-viz-af012d3eeb0f43a3bb27b9bcc2f5d3f2\"></div>\n",
       "<script type=\"text/javascript\">\n",
       "  var VEGA_DEBUG = (typeof VEGA_DEBUG == \"undefined\") ? {} : VEGA_DEBUG;\n",
       "  (function(spec, embedOpt){\n",
       "    let outputDiv = document.currentScript.previousElementSibling;\n",
       "    if (outputDiv.id !== \"altair-viz-af012d3eeb0f43a3bb27b9bcc2f5d3f2\") {\n",
       "      outputDiv = document.getElementById(\"altair-viz-af012d3eeb0f43a3bb27b9bcc2f5d3f2\");\n",
       "    }\n",
       "\n",
       "    const paths = {\n",
       "      \"vega\": \"https://cdn.jsdelivr.net/npm/vega@5?noext\",\n",
       "      \"vega-lib\": \"https://cdn.jsdelivr.net/npm/vega-lib?noext\",\n",
       "      \"vega-lite\": \"https://cdn.jsdelivr.net/npm/vega-lite@5.20.1?noext\",\n",
       "      \"vega-embed\": \"https://cdn.jsdelivr.net/npm/vega-embed@6?noext\",\n",
       "    };\n",
       "\n",
       "    function maybeLoadScript(lib, version) {\n",
       "      var key = `${lib.replace(\"-\", \"\")}_version`;\n",
       "      return (VEGA_DEBUG[key] == version) ?\n",
       "        Promise.resolve(paths[lib]) :\n",
       "        new Promise(function(resolve, reject) {\n",
       "          var s = document.createElement('script');\n",
       "          document.getElementsByTagName(\"head\")[0].appendChild(s);\n",
       "          s.async = true;\n",
       "          s.onload = () => {\n",
       "            VEGA_DEBUG[key] = version;\n",
       "            return resolve(paths[lib]);\n",
       "          };\n",
       "          s.onerror = () => reject(`Error loading script: ${paths[lib]}`);\n",
       "          s.src = paths[lib];\n",
       "        });\n",
       "    }\n",
       "\n",
       "    function showError(err) {\n",
       "      outputDiv.innerHTML = `<div class=\"error\" style=\"color:red;\">${err}</div>`;\n",
       "      throw err;\n",
       "    }\n",
       "\n",
       "    function displayChart(vegaEmbed) {\n",
       "      vegaEmbed(outputDiv, spec, embedOpt)\n",
       "        .catch(err => showError(`Javascript Error: ${err.message}<br>This usually means there's a typo in your chart specification. See the javascript console for the full traceback.`));\n",
       "    }\n",
       "\n",
       "    if(typeof define === \"function\" && define.amd) {\n",
       "      requirejs.config({paths});\n",
       "      let deps = [\"vega-embed\"];\n",
       "      require(deps, displayChart, err => showError(`Error loading script: ${err.message}`));\n",
       "    } else {\n",
       "      maybeLoadScript(\"vega\", \"5\")\n",
       "        .then(() => maybeLoadScript(\"vega-lite\", \"5.20.1\"))\n",
       "        .then(() => maybeLoadScript(\"vega-embed\", \"6\"))\n",
       "        .catch(showError)\n",
       "        .then(() => displayChart(vegaEmbed));\n",
       "    }\n",
       "  })({\"config\": {\"axisLeft\": {\"labelFontSize\": 15}, \"axisBottom\": {\"labelFontSize\": 15}}, \"data\": {\"name\": \"data-8771bf684e078d9f43b84a4991f3ad06\"}, \"mark\": {\"type\": \"bar\"}, \"encoding\": {\"x\": {\"field\": \"repo\", \"sort\": [\"myst-theme\", \"jupyterlab-myst\", \"team-compass\", \"mystmd.org\", \"mystmd\", \"jupyter-book\"], \"type\": \"nominal\"}, \"y\": {\"field\": \"time_open\", \"title\": \"Median Days Open\", \"type\": \"quantitative\"}}, \"title\": \"Time to close for issues closed in the last 90 days\", \"$schema\": \"https://vega.github.io/schema/vega-lite/v5.20.1.json\", \"datasets\": {\"data-8771bf684e078d9f43b84a4991f3ad06\": [{\"org\": \"jupyter-book\", \"repo\": \"jupyter-book\", \"time_open\": 0.016666666666666666, \"org/repo\": \"jupyter-book/jupyter-book\"}, {\"org\": \"jupyter-book\", \"repo\": \"jupyterlab-myst\", \"time_open\": 42.556412037037035, \"org/repo\": \"jupyter-book/jupyterlab-myst\"}, {\"org\": \"jupyter-book\", \"repo\": \"myst-theme\", \"time_open\": 134.35910879629628, \"org/repo\": \"jupyter-book/myst-theme\"}, {\"org\": \"jupyter-book\", \"repo\": \"mystmd\", \"time_open\": 1.4885590277777778, \"org/repo\": \"jupyter-book/mystmd\"}, {\"org\": \"jupyter-book\", \"repo\": \"mystmd.org\", \"time_open\": 7.516956018518519, \"org/repo\": \"jupyter-book/mystmd.org\"}, {\"org\": \"jupyter-book\", \"repo\": \"team-compass\", \"time_open\": 40.9659375, \"org/repo\": \"jupyter-book/team-compass\"}]}}, {\"mode\": \"vega-lite\"});\n",
       "</script>"
      ],
      "text/plain": [
       "alt.Chart(...)"
      ]
     },
     "execution_count": 21,
     "metadata": {},
     "output_type": "execute_result"
    }
   ],
   "source": [
    "time_open = closed.groupby(['org', 'repo']).agg({'time_open': 'median'}).reset_index()\n",
    "time_open['time_open'] = time_open['time_open'] / (60 * 60 * 24)\n",
    "time_open['org/repo'] = time_open.apply(lambda a: a['org'] + '/' + a['repo'], axis=1)\n",
    "sorted_vals = time_open.sort_values(['org', 'time_open'], ascending=False)['repo'].values\n",
    "alt.Chart(data=time_open, title=f\"Time to close for issues closed in the last {n_days} days\").mark_bar().encode(\n",
    "    x=alt.X('repo', sort=alt.Sort(sorted_vals.tolist())),\n",
    "    y=alt.Y('time_open', title=\"Median Days Open\"),\n",
    ")"
   ]
  },
  {
   "cell_type": "markdown",
   "id": "78d19672",
   "metadata": {
    "editable": true,
    "papermill": {
     "duration": 0.016501,
     "end_time": "2025-05-12T16:41:33.083268",
     "exception": false,
     "start_time": "2025-05-12T16:41:33.066767",
     "status": "completed"
    },
    "slideshow": {
     "slide_type": ""
    },
    "tags": []
   },
   "source": [
    "## Most-upvoted issues"
   ]
  },
  {
   "cell_type": "code",
   "execution_count": 22,
   "id": "2643f72f",
   "metadata": {
    "editable": true,
    "execution": {
     "iopub.execute_input": "2025-05-12T16:41:33.119674Z",
     "iopub.status.busy": "2025-05-12T16:41:33.119154Z",
     "iopub.status.idle": "2025-05-12T16:41:33.144230Z",
     "shell.execute_reply": "2025-05-12T16:41:33.143534Z"
    },
    "papermill": {
     "duration": 0.044696,
     "end_time": "2025-05-12T16:41:33.145324",
     "exception": false,
     "start_time": "2025-05-12T16:41:33.100628",
     "status": "completed"
    },
    "slideshow": {
     "slide_type": ""
    },
    "tags": [
     "hide_input"
    ]
   },
   "outputs": [
    {
     "data": {
      "application/vnd.jupyter.widget-view+json": {
       "model_id": "c846a6abe10149998cd8f09690dfef1a",
       "version_major": 2,
       "version_minor": 0
      },
      "text/plain": [
       "HTML(value='<ul>\\n<li>(35) Support for RISE slides - jupyter-book - <a href=\"https://github.com/jupyter-book/j…"
      ]
     },
     "execution_count": 22,
     "metadata": {},
     "output_type": "execute_result"
    }
   ],
   "source": [
    "thumbsup = issues.query(\"state == 'open'\").sort_values(\"positive\", ascending=False).head(25)\n",
    "thumbsup = thumbsup[[\"title\", \"url\", \"number\", \"positive\", \"repo\"]]\n",
    "\n",
    "text = []\n",
    "for ii, irow in thumbsup.iterrows():\n",
    "    itext = f\"- ({irow['positive']}) {irow['title']} - {irow['repo']} - [#{irow['number']}]({irow['url']})\"\n",
    "    text.append(itext)\n",
    "text = '\\n'.join(text)\n",
    "HTML(markdown(text))"
   ]
  },
  {
   "cell_type": "markdown",
   "id": "87e16e84",
   "metadata": {
    "editable": true,
    "papermill": {
     "duration": 0.016759,
     "end_time": "2025-05-12T16:41:33.179122",
     "exception": false,
     "start_time": "2025-05-12T16:41:33.162363",
     "status": "completed"
    },
    "slideshow": {
     "slide_type": ""
    },
    "tags": []
   },
   "source": [
    "## Commenters across repositories\n",
    "\n",
    "These are commenters across all issues and pull requests in the last several days.\n",
    "These are colored by the commenter's association with the organization. For information\n",
    "about what these associations mean, [see this StackOverflow post](https://stackoverflow.com/a/28866914/1927102)."
   ]
  },
  {
   "cell_type": "code",
   "execution_count": 23,
   "id": "b469abd1",
   "metadata": {
    "editable": true,
    "execution": {
     "iopub.execute_input": "2025-05-12T16:41:33.215142Z",
     "iopub.status.busy": "2025-05-12T16:41:33.214522Z",
     "iopub.status.idle": "2025-05-12T16:41:33.228656Z",
     "shell.execute_reply": "2025-05-12T16:41:33.227869Z"
    },
    "papermill": {
     "duration": 0.033692,
     "end_time": "2025-05-12T16:41:33.229910",
     "exception": false,
     "start_time": "2025-05-12T16:41:33.196218",
     "status": "completed"
    },
    "slideshow": {
     "slide_type": ""
    },
    "tags": [
     "remove_cell"
    ]
   },
   "outputs": [],
   "source": [
    "commentors = (\n",
    "    comments\n",
    "    .query(\"created_at > @start_date and created_at < @stop_date\")\n",
    "    .groupby(['org', 'repo', 'login', 'author_association'])\n",
    "    .count().rename(columns={'id_issue': 'count'})['count']\n",
    "    .reset_index()\n",
    "    .sort_values(['org', 'count'], ascending=False)\n",
    ")"
   ]
  },
  {
   "cell_type": "code",
   "execution_count": 24,
   "id": "89786bbb",
   "metadata": {
    "editable": true,
    "execution": {
     "iopub.execute_input": "2025-05-12T16:41:33.266702Z",
     "iopub.status.busy": "2025-05-12T16:41:33.266415Z",
     "iopub.status.idle": "2025-05-12T16:41:33.294919Z",
     "shell.execute_reply": "2025-05-12T16:41:33.294232Z"
    },
    "papermill": {
     "duration": 0.048546,
     "end_time": "2025-05-12T16:41:33.296141",
     "exception": false,
     "start_time": "2025-05-12T16:41:33.247595",
     "status": "completed"
    },
    "slideshow": {
     "slide_type": ""
    },
    "tags": [
     "hide_input"
    ]
   },
   "outputs": [
    {
     "data": {
      "text/html": [
       "\n",
       "<style>\n",
       "  #altair-viz-b84a096654fc4ea4950541d114675959.vega-embed {\n",
       "    width: 100%;\n",
       "    display: flex;\n",
       "  }\n",
       "\n",
       "  #altair-viz-b84a096654fc4ea4950541d114675959.vega-embed details,\n",
       "  #altair-viz-b84a096654fc4ea4950541d114675959.vega-embed details summary {\n",
       "    position: relative;\n",
       "  }\n",
       "</style>\n",
       "<div id=\"altair-viz-b84a096654fc4ea4950541d114675959\"></div>\n",
       "<script type=\"text/javascript\">\n",
       "  var VEGA_DEBUG = (typeof VEGA_DEBUG == \"undefined\") ? {} : VEGA_DEBUG;\n",
       "  (function(spec, embedOpt){\n",
       "    let outputDiv = document.currentScript.previousElementSibling;\n",
       "    if (outputDiv.id !== \"altair-viz-b84a096654fc4ea4950541d114675959\") {\n",
       "      outputDiv = document.getElementById(\"altair-viz-b84a096654fc4ea4950541d114675959\");\n",
       "    }\n",
       "\n",
       "    const paths = {\n",
       "      \"vega\": \"https://cdn.jsdelivr.net/npm/vega@5?noext\",\n",
       "      \"vega-lib\": \"https://cdn.jsdelivr.net/npm/vega-lib?noext\",\n",
       "      \"vega-lite\": \"https://cdn.jsdelivr.net/npm/vega-lite@5.20.1?noext\",\n",
       "      \"vega-embed\": \"https://cdn.jsdelivr.net/npm/vega-embed@6?noext\",\n",
       "    };\n",
       "\n",
       "    function maybeLoadScript(lib, version) {\n",
       "      var key = `${lib.replace(\"-\", \"\")}_version`;\n",
       "      return (VEGA_DEBUG[key] == version) ?\n",
       "        Promise.resolve(paths[lib]) :\n",
       "        new Promise(function(resolve, reject) {\n",
       "          var s = document.createElement('script');\n",
       "          document.getElementsByTagName(\"head\")[0].appendChild(s);\n",
       "          s.async = true;\n",
       "          s.onload = () => {\n",
       "            VEGA_DEBUG[key] = version;\n",
       "            return resolve(paths[lib]);\n",
       "          };\n",
       "          s.onerror = () => reject(`Error loading script: ${paths[lib]}`);\n",
       "          s.src = paths[lib];\n",
       "        });\n",
       "    }\n",
       "\n",
       "    function showError(err) {\n",
       "      outputDiv.innerHTML = `<div class=\"error\" style=\"color:red;\">${err}</div>`;\n",
       "      throw err;\n",
       "    }\n",
       "\n",
       "    function displayChart(vegaEmbed) {\n",
       "      vegaEmbed(outputDiv, spec, embedOpt)\n",
       "        .catch(err => showError(`Javascript Error: ${err.message}<br>This usually means there's a typo in your chart specification. See the javascript console for the full traceback.`));\n",
       "    }\n",
       "\n",
       "    if(typeof define === \"function\" && define.amd) {\n",
       "      requirejs.config({paths});\n",
       "      let deps = [\"vega-embed\"];\n",
       "      require(deps, displayChart, err => showError(`Error loading script: ${err.message}`));\n",
       "    } else {\n",
       "      maybeLoadScript(\"vega\", \"5\")\n",
       "        .then(() => maybeLoadScript(\"vega-lite\", \"5.20.1\"))\n",
       "        .then(() => maybeLoadScript(\"vega-embed\", \"6\"))\n",
       "        .catch(showError)\n",
       "        .then(() => displayChart(vegaEmbed));\n",
       "    }\n",
       "  })({\"config\": {\"axisLeft\": {\"labelFontSize\": 15}, \"axisBottom\": {\"labelFontSize\": 15}}, \"hconcat\": [{\"mark\": {\"type\": \"bar\"}, \"encoding\": {\"color\": {\"field\": \"author_association\", \"scale\": {\"domain\": [\"MEMBER\", \"CONTRIBUTOR\", \"COLLABORATOR\", \"NONE\"], \"range\": [\"rgb(211.82745098039214, 211.82745098039214, 211.82745098039214)\", \"rgb(166.98562091503268, 229.89803921568628, 166.98562091503268)\", \"rgb(96.37647058823529, 192.75294117647059, 96.37647058823529)\", \"rgb(0.0, 100.3921568627451, 0.0)\"]}, \"type\": \"nominal\"}, \"x\": {\"field\": \"login\", \"type\": \"nominal\"}, \"y\": {\"field\": \"count\", \"type\": \"quantitative\"}}, \"title\": \"Top 50 commentors for ('jupyter-book',) in the last 90 days\"}], \"data\": {\"name\": \"data-cae71f3d2509e5d01342c8a20ad0f538\"}, \"$schema\": \"https://vega.github.io/schema/vega-lite/v5.20.1.json\", \"datasets\": {\"data-cae71f3d2509e5d01342c8a20ad0f538\": [{\"login\": \"agoose77\", \"count\": 50, \"author_association\": \"MEMBER\"}, {\"login\": \"rowanc1\", \"count\": 46, \"author_association\": \"MEMBER\"}, {\"login\": \"choldgraf\", \"count\": 39, \"author_association\": \"MEMBER\"}, {\"login\": \"da5nsy\", \"count\": 17, \"author_association\": \"NONE\"}, {\"login\": \"paugier\", \"count\": 12, \"author_association\": \"NONE\"}, {\"login\": \"fperez\", \"count\": 12, \"author_association\": \"CONTRIBUTOR\"}, {\"login\": \"parmentelat\", \"count\": 12, \"author_association\": \"CONTRIBUTOR\"}, {\"login\": \"krassowski\", \"count\": 9, \"author_association\": \"NONE\"}, {\"login\": \"JimMadge\", \"count\": 9, \"author_association\": \"CONTRIBUTOR\"}, {\"login\": \"stevejpurves\", \"count\": 9, \"author_association\": \"MEMBER\"}, {\"login\": \"fwkoch\", \"count\": 6, \"author_association\": \"MEMBER\"}, {\"login\": \"acocac\", \"count\": 6, \"author_association\": \"NONE\"}, {\"login\": \"stefanv\", \"count\": 5, \"author_association\": \"COLLABORATOR\"}, {\"login\": \"FreekPols\", \"count\": 5, \"author_association\": \"NONE\"}, {\"login\": \"michaelaye\", \"count\": 4, \"author_association\": \"NONE\"}, {\"login\": \"paulskrzypczyk\", \"count\": 4, \"author_association\": \"NONE\"}, {\"login\": \"mstoll1602\", \"count\": 3, \"author_association\": \"NONE\"}, {\"login\": \"mforbes\", \"count\": 3, \"author_association\": \"NONE\"}, {\"login\": \"mmcky\", \"count\": 3, \"author_association\": \"CONTRIBUTOR\"}, {\"login\": \"jan-david-fischbach\", \"count\": 3, \"author_association\": \"CONTRIBUTOR\"}, {\"login\": \"reyman\", \"count\": 3, \"author_association\": \"NONE\"}, {\"login\": \"nthiery\", \"count\": 3, \"author_association\": \"CONTRIBUTOR\"}, {\"login\": \"vangeest\", \"count\": 3, \"author_association\": \"NONE\"}, {\"login\": \"manimaransudha\", \"count\": 2, \"author_association\": \"NONE\"}, {\"login\": \"dengzeyu\", \"count\": 2, \"author_association\": \"NONE\"}, {\"login\": \"atharvaaalok\", \"count\": 2, \"author_association\": \"NONE\"}, {\"login\": \"andrader\", \"count\": 2, \"author_association\": \"NONE\"}, {\"login\": \"Joseph-Hui\", \"count\": 2, \"author_association\": \"NONE\"}, {\"login\": \"Joecstarr\", \"count\": 2, \"author_association\": \"NONE\"}, {\"login\": \"microcoder\", \"count\": 2, \"author_association\": \"NONE\"}, {\"login\": \"ryanlovett\", \"count\": 2, \"author_association\": \"CONTRIBUTOR\"}, {\"login\": \"hadesto\", \"count\": 1, \"author_association\": \"NONE\"}, {\"login\": \"giswqs\", \"count\": 1, \"author_association\": \"NONE\"}, {\"login\": \"denis-bz\", \"count\": 1, \"author_association\": \"NONE\"}, {\"login\": \"dealmeidavf\", \"count\": 1, \"author_association\": \"NONE\"}, {\"login\": \"afeld\", \"count\": 1, \"author_association\": \"NONE\"}, {\"login\": \"arm61\", \"count\": 1, \"author_association\": \"NONE\"}, {\"login\": \"cpraveen\", \"count\": 1, \"author_association\": \"NONE\"}, {\"login\": \"Gijsreyn\", \"count\": 1, \"author_association\": \"NONE\"}, {\"login\": \"ELind77\", \"count\": 1, \"author_association\": \"NONE\"}, {\"login\": \"BodoBurger\", \"count\": 1, \"author_association\": \"NONE\"}, {\"login\": \"Arielle-Bennett\", \"count\": 1, \"author_association\": \"NONE\"}, {\"login\": \"KirstieJane\", \"count\": 1, \"author_association\": \"NONE\"}, {\"login\": \"MimoHasPurpose\", \"count\": 1, \"author_association\": \"NONE\"}, {\"login\": \"Paul-Aime\", \"count\": 1, \"author_association\": \"NONE\"}, {\"login\": \"StefanRR\", \"count\": 1, \"author_association\": \"CONTRIBUTOR\"}, {\"login\": \"AllanChain\", \"count\": 1, \"author_association\": \"NONE\"}, {\"login\": \"glaebhoerl\", \"count\": 1, \"author_association\": \"NONE\"}, {\"login\": \"itcarroll\", \"count\": 1, \"author_association\": \"NONE\"}, {\"login\": \"jmelo11\", \"count\": 1, \"author_association\": \"NONE\"}]}}, {\"mode\": \"vega-lite\"});\n",
       "</script>"
      ],
      "text/plain": [
       "alt.HConcatChart(...)"
      ]
     },
     "execution_count": 24,
     "metadata": {},
     "output_type": "execute_result"
    }
   ],
   "source": [
    "n_plot = 50\n",
    "charts = []\n",
    "for ii, (iorg, idata) in enumerate(commentors.groupby(['org'])):\n",
    "    title = f\"Top {n_plot} commentors for {iorg} in the last {n_days} days\"\n",
    "    idata = idata.groupby('login', as_index=False).agg({'count': 'sum', 'author_association': 'first'})\n",
    "    idata = idata.sort_values('count', ascending=False).head(n_plot)\n",
    "    ch = alt.Chart(data=idata.head(n_plot), title=title).mark_bar().encode(\n",
    "        x='login',\n",
    "        y='count',\n",
    "        color=alt.Color('author_association', scale=alt.Scale(domain=author_types, range=author_colors))\n",
    "    )\n",
    "    charts.append(ch)\n",
    "alt.hconcat(*charts)"
   ]
  },
  {
   "cell_type": "markdown",
   "id": "88ddd91c",
   "metadata": {
    "editable": true,
    "papermill": {
     "duration": 0.016913,
     "end_time": "2025-05-12T16:41:33.330504",
     "exception": false,
     "start_time": "2025-05-12T16:41:33.313591",
     "status": "completed"
    },
    "slideshow": {
     "slide_type": ""
    },
    "tags": []
   },
   "source": [
    "## First responders\n",
    "\n",
    "First responders are the first people to respond to a new issue in one of the repositories.\n",
    "The following plots show first responders for recently-created issues."
   ]
  },
  {
   "cell_type": "code",
   "execution_count": 25,
   "id": "81f2d157",
   "metadata": {
    "editable": true,
    "execution": {
     "iopub.execute_input": "2025-05-12T16:41:33.368005Z",
     "iopub.status.busy": "2025-05-12T16:41:33.367123Z",
     "iopub.status.idle": "2025-05-12T16:41:33.423087Z",
     "shell.execute_reply": "2025-05-12T16:41:33.422447Z"
    },
    "papermill": {
     "duration": 0.076306,
     "end_time": "2025-05-12T16:41:33.424573",
     "exception": false,
     "start_time": "2025-05-12T16:41:33.348267",
     "status": "completed"
    },
    "slideshow": {
     "slide_type": ""
    },
    "tags": [
     "remove_cell"
    ]
   },
   "outputs": [],
   "source": [
    "first_comments = []\n",
    "latest_comments = comments.query(\"created_at > @start_date\")\n",
    "for (org, repo, issue_id), i_comments in latest_comments.groupby(['org', 'repo', 'id_issue']):\n",
    "    ix_min = pd.to_datetime(i_comments['created_at']).idxmin()\n",
    "    first_comment = i_comments.loc[ix_min]\n",
    "    if isinstance(first_comment, pd.DataFrame):\n",
    "        first_comment = first_comment.iloc[0]\n",
    "    first_comments.append(first_comment)\n",
    "first_comments = pd.concat(first_comments, axis=1).T\n",
    "\n",
    "# Make up counts for viz\n",
    "first_responder_counts = first_comments.groupby(['org', 'login', 'author_association'], as_index=False).\\\n",
    "    count().rename(columns={'id_issue': 'n_first_responses'}).sort_values(['org', 'n_first_responses'], ascending=False)\n"
   ]
  },
  {
   "cell_type": "code",
   "execution_count": 26,
   "id": "7021218a",
   "metadata": {
    "editable": true,
    "execution": {
     "iopub.execute_input": "2025-05-12T16:41:33.461042Z",
     "iopub.status.busy": "2025-05-12T16:41:33.460324Z",
     "iopub.status.idle": "2025-05-12T16:41:33.486686Z",
     "shell.execute_reply": "2025-05-12T16:41:33.486043Z"
    },
    "papermill": {
     "duration": 0.04589,
     "end_time": "2025-05-12T16:41:33.487812",
     "exception": false,
     "start_time": "2025-05-12T16:41:33.441922",
     "status": "completed"
    },
    "slideshow": {
     "slide_type": ""
    },
    "tags": [
     "hide_input"
    ]
   },
   "outputs": [
    {
     "data": {
      "text/html": [
       "\n",
       "<style>\n",
       "  #altair-viz-97578aba06974cbb83e8bf6014eb05f7.vega-embed {\n",
       "    width: 100%;\n",
       "    display: flex;\n",
       "  }\n",
       "\n",
       "  #altair-viz-97578aba06974cbb83e8bf6014eb05f7.vega-embed details,\n",
       "  #altair-viz-97578aba06974cbb83e8bf6014eb05f7.vega-embed details summary {\n",
       "    position: relative;\n",
       "  }\n",
       "</style>\n",
       "<div id=\"altair-viz-97578aba06974cbb83e8bf6014eb05f7\"></div>\n",
       "<script type=\"text/javascript\">\n",
       "  var VEGA_DEBUG = (typeof VEGA_DEBUG == \"undefined\") ? {} : VEGA_DEBUG;\n",
       "  (function(spec, embedOpt){\n",
       "    let outputDiv = document.currentScript.previousElementSibling;\n",
       "    if (outputDiv.id !== \"altair-viz-97578aba06974cbb83e8bf6014eb05f7\") {\n",
       "      outputDiv = document.getElementById(\"altair-viz-97578aba06974cbb83e8bf6014eb05f7\");\n",
       "    }\n",
       "\n",
       "    const paths = {\n",
       "      \"vega\": \"https://cdn.jsdelivr.net/npm/vega@5?noext\",\n",
       "      \"vega-lib\": \"https://cdn.jsdelivr.net/npm/vega-lib?noext\",\n",
       "      \"vega-lite\": \"https://cdn.jsdelivr.net/npm/vega-lite@5.20.1?noext\",\n",
       "      \"vega-embed\": \"https://cdn.jsdelivr.net/npm/vega-embed@6?noext\",\n",
       "    };\n",
       "\n",
       "    function maybeLoadScript(lib, version) {\n",
       "      var key = `${lib.replace(\"-\", \"\")}_version`;\n",
       "      return (VEGA_DEBUG[key] == version) ?\n",
       "        Promise.resolve(paths[lib]) :\n",
       "        new Promise(function(resolve, reject) {\n",
       "          var s = document.createElement('script');\n",
       "          document.getElementsByTagName(\"head\")[0].appendChild(s);\n",
       "          s.async = true;\n",
       "          s.onload = () => {\n",
       "            VEGA_DEBUG[key] = version;\n",
       "            return resolve(paths[lib]);\n",
       "          };\n",
       "          s.onerror = () => reject(`Error loading script: ${paths[lib]}`);\n",
       "          s.src = paths[lib];\n",
       "        });\n",
       "    }\n",
       "\n",
       "    function showError(err) {\n",
       "      outputDiv.innerHTML = `<div class=\"error\" style=\"color:red;\">${err}</div>`;\n",
       "      throw err;\n",
       "    }\n",
       "\n",
       "    function displayChart(vegaEmbed) {\n",
       "      vegaEmbed(outputDiv, spec, embedOpt)\n",
       "        .catch(err => showError(`Javascript Error: ${err.message}<br>This usually means there's a typo in your chart specification. See the javascript console for the full traceback.`));\n",
       "    }\n",
       "\n",
       "    if(typeof define === \"function\" && define.amd) {\n",
       "      requirejs.config({paths});\n",
       "      let deps = [\"vega-embed\"];\n",
       "      require(deps, displayChart, err => showError(`Error loading script: ${err.message}`));\n",
       "    } else {\n",
       "      maybeLoadScript(\"vega\", \"5\")\n",
       "        .then(() => maybeLoadScript(\"vega-lite\", \"5.20.1\"))\n",
       "        .then(() => maybeLoadScript(\"vega-embed\", \"6\"))\n",
       "        .catch(showError)\n",
       "        .then(() => displayChart(vegaEmbed));\n",
       "    }\n",
       "  })({\"config\": {\"axisLeft\": {\"labelFontSize\": 15}, \"axisBottom\": {\"labelFontSize\": 15}}, \"data\": {\"name\": \"data-91f360bf2c716fb74717d1cfe6c4e0e8\"}, \"mark\": {\"type\": \"bar\"}, \"encoding\": {\"color\": {\"field\": \"author_association\", \"scale\": {\"domain\": [\"MEMBER\", \"CONTRIBUTOR\", \"COLLABORATOR\", \"NONE\"], \"range\": [\"rgb(211.82745098039214, 211.82745098039214, 211.82745098039214)\", \"rgb(166.98562091503268, 229.89803921568628, 166.98562091503268)\", \"rgb(96.37647058823529, 192.75294117647059, 96.37647058823529)\", \"rgb(0.0, 100.3921568627451, 0.0)\"]}, \"type\": \"nominal\"}, \"x\": {\"field\": \"login\", \"type\": \"nominal\"}, \"y\": {\"field\": \"n_first_responses\", \"type\": \"quantitative\"}}, \"title\": \"Top 50 first responders for jupyter-book in the last 90 days\", \"$schema\": \"https://vega.github.io/schema/vega-lite/v5.20.1.json\", \"datasets\": {\"data-91f360bf2c716fb74717d1cfe6c4e0e8\": [{\"login\": \"agoose77\", \"n_first_responses\": 21, \"author_association\": \"MEMBER\"}, {\"login\": \"rowanc1\", \"n_first_responses\": 18, \"author_association\": \"MEMBER\"}, {\"login\": \"choldgraf\", \"n_first_responses\": 11, \"author_association\": \"MEMBER\"}, {\"login\": \"fperez\", \"n_first_responses\": 6, \"author_association\": \"CONTRIBUTOR\"}, {\"login\": \"parmentelat\", \"n_first_responses\": 4, \"author_association\": \"CONTRIBUTOR\"}, {\"login\": \"da5nsy\", \"n_first_responses\": 4, \"author_association\": \"NONE\"}, {\"login\": \"FreekPols\", \"n_first_responses\": 4, \"author_association\": \"NONE\"}, {\"login\": \"stevejpurves\", \"n_first_responses\": 3, \"author_association\": \"MEMBER\"}, {\"login\": \"fwkoch\", \"n_first_responses\": 3, \"author_association\": \"MEMBER\"}, {\"login\": \"krassowski\", \"n_first_responses\": 2, \"author_association\": \"NONE\"}, {\"login\": \"michaelaye\", \"n_first_responses\": 2, \"author_association\": \"NONE\"}, {\"login\": \"mforbes\", \"n_first_responses\": 2, \"author_association\": \"NONE\"}, {\"login\": \"Joseph-Hui\", \"n_first_responses\": 2, \"author_association\": \"NONE\"}, {\"login\": \"JimMadge\", \"n_first_responses\": 2, \"author_association\": \"CONTRIBUTOR\"}, {\"login\": \"BodoBurger\", \"n_first_responses\": 1, \"author_association\": \"NONE\"}, {\"login\": \"Gijsreyn\", \"n_first_responses\": 1, \"author_association\": \"NONE\"}, {\"login\": \"Joecstarr\", \"n_first_responses\": 1, \"author_association\": \"NONE\"}, {\"login\": \"acocac\", \"n_first_responses\": 1, \"author_association\": \"NONE\"}, {\"login\": \"Paul-Aime\", \"n_first_responses\": 1, \"author_association\": \"NONE\"}, {\"login\": \"MimoHasPurpose\", \"n_first_responses\": 1, \"author_association\": \"NONE\"}, {\"login\": \"giswqs\", \"n_first_responses\": 1, \"author_association\": \"NONE\"}, {\"login\": \"dealmeidavf\", \"n_first_responses\": 1, \"author_association\": \"NONE\"}, {\"login\": \"arm61\", \"n_first_responses\": 1, \"author_association\": \"NONE\"}, {\"login\": \"afeld\", \"n_first_responses\": 1, \"author_association\": \"NONE\"}, {\"login\": \"andrader\", \"n_first_responses\": 1, \"author_association\": \"NONE\"}, {\"login\": \"joelmiller\", \"n_first_responses\": 1, \"author_association\": \"NONE\"}, {\"login\": \"jmelo11\", \"n_first_responses\": 1, \"author_association\": \"NONE\"}, {\"login\": \"jan-david-fischbach\", \"n_first_responses\": 1, \"author_association\": \"CONTRIBUTOR\"}, {\"login\": \"holmrenser\", \"n_first_responses\": 1, \"author_association\": \"NONE\"}, {\"login\": \"hadesto\", \"n_first_responses\": 1, \"author_association\": \"NONE\"}, {\"login\": \"glaebhoerl\", \"n_first_responses\": 1, \"author_association\": \"NONE\"}, {\"login\": \"kburchfiel\", \"n_first_responses\": 1, \"author_association\": \"NONE\"}, {\"login\": \"jose-neta\", \"n_first_responses\": 1, \"author_association\": \"NONE\"}, {\"login\": \"ntluong95\", \"n_first_responses\": 1, \"author_association\": \"NONE\"}, {\"login\": \"mmcky\", \"n_first_responses\": 1, \"author_association\": \"NONE\"}, {\"login\": \"juhuebner\", \"n_first_responses\": 1, \"author_association\": \"NONE\"}, {\"login\": \"paugier\", \"n_first_responses\": 1, \"author_association\": \"NONE\"}, {\"login\": \"romanlutz\", \"n_first_responses\": 1, \"author_association\": \"NONE\"}, {\"login\": \"paulskrzypczyk\", \"n_first_responses\": 1, \"author_association\": \"NONE\"}, {\"login\": \"ulthiel\", \"n_first_responses\": 1, \"author_association\": \"NONE\"}, {\"login\": \"unsektor\", \"n_first_responses\": 1, \"author_association\": \"NONE\"}]}}, {\"mode\": \"vega-lite\"});\n",
       "</script>"
      ],
      "text/plain": [
       "alt.Chart(...)"
      ]
     },
     "execution_count": 26,
     "metadata": {},
     "output_type": "execute_result"
    }
   ],
   "source": [
    "n_plot = 50\n",
    "\n",
    "title = f\"Top {n_plot} first responders for {github_org} in the last {n_days} days\"\n",
    "idata = first_responder_counts.groupby('login', as_index=False).agg({'n_first_responses': 'sum', 'author_association': 'first'})\n",
    "idata = idata.sort_values('n_first_responses', ascending=False).head(n_plot)\n",
    "ch = alt.Chart(data=idata.head(n_plot), title=title).mark_bar().encode(\n",
    "    x='login',\n",
    "    y='n_first_responses',\n",
    "    color=alt.Color('author_association', scale=alt.Scale(domain=author_types, range=author_colors))\n",
    ")\n",
    "ch"
   ]
  },
  {
   "cell_type": "markdown",
   "id": "3b604b4c",
   "metadata": {
    "editable": true,
    "papermill": {
     "duration": 0.018081,
     "end_time": "2025-05-12T16:41:33.524163",
     "exception": false,
     "start_time": "2025-05-12T16:41:33.506082",
     "status": "completed"
    },
    "slideshow": {
     "slide_type": ""
    },
    "tags": []
   },
   "source": [
    "## Recent activity\n",
    "\n",
    "### A list of merged PRs by project\n",
    "\n",
    "Below is a tabbed readout of recently-merged PRs. Check out the title to get an idea for what they\n",
    "implemented, and be sure to thank the PR author for their hard work!"
   ]
  },
  {
   "cell_type": "code",
   "execution_count": 27,
   "id": "4121b8ed",
   "metadata": {
    "editable": true,
    "execution": {
     "iopub.execute_input": "2025-05-12T16:41:33.559861Z",
     "iopub.status.busy": "2025-05-12T16:41:33.559552Z",
     "iopub.status.idle": "2025-05-12T16:41:33.651310Z",
     "shell.execute_reply": "2025-05-12T16:41:33.650545Z"
    },
    "papermill": {
     "duration": 0.11508,
     "end_time": "2025-05-12T16:41:33.656165",
     "exception": false,
     "start_time": "2025-05-12T16:41:33.541085",
     "status": "completed"
    },
    "slideshow": {
     "slide_type": ""
    },
    "tags": [
     "hide_input"
    ]
   },
   "outputs": [
    {
     "data": {
      "application/vnd.jupyter.widget-view+json": {
       "model_id": "fdea0afa19854be1b99771d850fdad54",
       "version_major": 2,
       "version_minor": 0
      },
      "text/plain": [
       "Tab(children=(HTML(value='<h4>Closed PRs for repo: <a href=\"https://github.com/jupyter-book/jupyter-book\">jupy…"
      ]
     },
     "execution_count": 27,
     "metadata": {},
     "output_type": "execute_result"
    }
   ],
   "source": [
    "tabs = widgets.Tab(children=[])\n",
    "\n",
    "for ii, ((org, repo), imerged) in enumerate(merged.query(\"repo in @use_repos\").groupby(['org', 'repo'])):\n",
    "    merged_by = {}\n",
    "    pr_by = {}\n",
    "    issue_md = []\n",
    "    issue_md.append(f\"#### Closed PRs for repo: [{org}/{repo}](https://github.com/{github_org}/{repo})\")\n",
    "    issue_md.append(\"\")\n",
    "    issue_md.append(f\"##### \")\n",
    "\n",
    "    for _, ipr in imerged.iterrows():\n",
    "        user_name = ipr['login']\n",
    "        user_url = author_url(user_name)\n",
    "        pr_number = ipr['number']\n",
    "        pr_html = ipr['url']\n",
    "        pr_title = ipr['title']\n",
    "        pr_closedby = ipr['merged_by']\n",
    "        pr_closedby_url = f\"https://github.com/{pr_closedby}\"\n",
    "        if user_name not in pr_by:\n",
    "            pr_by[user_name] = 1\n",
    "        else:\n",
    "            pr_by[user_name] += 1\n",
    "\n",
    "        if pr_closedby not in merged_by:\n",
    "            merged_by[pr_closedby] = 1\n",
    "        else:\n",
    "            merged_by[pr_closedby] += 1\n",
    "        text = f\"* [(#{pr_number})]({pr_html}): _{pr_title}_ by **[@{user_name}]({user_url})** merged by **[@{pr_closedby}]({pr_closedby_url})**\"\n",
    "        issue_md.append(text)\n",
    "    \n",
    "    issue_md.append('')\n",
    "    markdown_html = markdown('\\n'.join(issue_md))\n",
    "\n",
    "    children = list(tabs.children)\n",
    "    children.append(HTML(markdown_html))\n",
    "    tabs.children = tuple(children)\n",
    "    tabs.set_title(ii, repo)\n",
    "tabs"
   ]
  },
  {
   "cell_type": "markdown",
   "id": "72ecbce0",
   "metadata": {
    "editable": true,
    "papermill": {
     "duration": 0.018037,
     "end_time": "2025-05-12T16:41:33.692435",
     "exception": false,
     "start_time": "2025-05-12T16:41:33.674398",
     "status": "completed"
    },
    "slideshow": {
     "slide_type": ""
    },
    "tags": []
   },
   "source": [
    "### A list of recent issues\n",
    "\n",
    "Below is a list of issues with recent activity in each repository. If they seem of interest\n",
    "to you, click on their links and jump in to participate!"
   ]
  },
  {
   "cell_type": "code",
   "execution_count": 28,
   "id": "98dc8724",
   "metadata": {
    "editable": true,
    "execution": {
     "iopub.execute_input": "2025-05-12T16:41:33.727370Z",
     "iopub.status.busy": "2025-05-12T16:41:33.727124Z",
     "iopub.status.idle": "2025-05-12T16:41:33.738588Z",
     "shell.execute_reply": "2025-05-12T16:41:33.738038Z"
    },
    "papermill": {
     "duration": 0.030392,
     "end_time": "2025-05-12T16:41:33.739657",
     "exception": false,
     "start_time": "2025-05-12T16:41:33.709265",
     "status": "completed"
    },
    "slideshow": {
     "slide_type": ""
    },
    "tags": [
     "remove_cell"
    ]
   },
   "outputs": [],
   "source": [
    "# Add comment count data to issues and PRs\n",
    "comment_counts = (\n",
    "    comments\n",
    "    .query(\"created_at > @start_date and created_at < @stop_date\")\n",
    "    .groupby(['org', 'repo', 'id_issue'])\n",
    "    .count().iloc[:, 0].to_frame()\n",
    ")\n",
    "comment_counts.columns = ['n_comments']\n",
    "comment_counts = comment_counts.reset_index()"
   ]
  },
  {
   "cell_type": "code",
   "execution_count": 29,
   "id": "af588f54",
   "metadata": {
    "editable": true,
    "execution": {
     "iopub.execute_input": "2025-05-12T16:41:33.774611Z",
     "iopub.status.busy": "2025-05-12T16:41:33.774347Z",
     "iopub.status.idle": "2025-05-12T16:41:33.880078Z",
     "shell.execute_reply": "2025-05-12T16:41:33.879510Z"
    },
    "papermill": {
     "duration": 0.12433,
     "end_time": "2025-05-12T16:41:33.881180",
     "exception": false,
     "start_time": "2025-05-12T16:41:33.756850",
     "status": "completed"
    },
    "slideshow": {
     "slide_type": ""
    },
    "tags": [
     "hide_input"
    ],
    "toc-hr-collapsed": false
   },
   "outputs": [
    {
     "data": {
      "text/markdown": [
       "Here are the top 5 active issues in each repository in the last 90 days"
      ],
      "text/plain": [
       "<IPython.core.display.Markdown object>"
      ]
     },
     "metadata": {},
     "output_type": "display_data"
    },
    {
     "data": {
      "application/vnd.jupyter.widget-view+json": {
       "model_id": "dc8b6b76c14f4d52b2d8c5dbd1320a5d",
       "version_major": 2,
       "version_minor": 0
      },
      "text/plain": [
       "Tab(children=(HTML(value='<h5><a href=\"https://github.com/jupyter-book/jupyter-book\">jupyter-book/jupyter-book…"
      ]
     },
     "metadata": {},
     "output_type": "display_data"
    }
   ],
   "source": [
    "n_plot = 5\n",
    "tabs = widgets.Tab(children=[])\n",
    "\n",
    "for ii, (repo, i_issues) in enumerate(comment_counts.query(\"repo in @use_repos\").groupby('repo')):\n",
    "    \n",
    "    issue_md = []\n",
    "    issue_md.append(\"\")\n",
    "    issue_md.append(f\"##### [{github_org}/{repo}](https://github.com/{github_org}/{repo})\")\n",
    "\n",
    "    top_issues = i_issues.sort_values('n_comments', ascending=False).head(n_plot)\n",
    "    top_issue_list = pd.merge(issues, top_issues, left_on=['org', 'repo', 'id_issue'], right_on=['org', 'repo', 'id_issue'])\n",
    "    for _, issue in top_issue_list.sort_values('n_comments', ascending=False).head(n_plot).iterrows():\n",
    "        user_name = issue['login']\n",
    "        user_url = author_url(user_name)\n",
    "        issue_number = issue['number']\n",
    "        issue_html = issue['url']\n",
    "        issue_title = issue['title']\n",
    "\n",
    "        text = f\"* [(#{issue_number})]({issue_html}): _{issue_title}_ by **[@{user_name}]({user_url})**\"\n",
    "        issue_md.append(text)\n",
    "\n",
    "    issue_md.append('')\n",
    "    md_html = HTML(markdown('\\n'.join(issue_md)))\n",
    "\n",
    "    children = list(tabs.children)\n",
    "    children.append(HTML(markdown('\\n'.join(issue_md))))\n",
    "    tabs.children = tuple(children)\n",
    "    tabs.set_title(ii, repo)\n",
    "    \n",
    "display(Markdown(f\"Here are the top {n_plot} active issues in each repository in the last {n_days} days\"))\n",
    "display(tabs)"
   ]
  }
 ],
 "metadata": {
  "kernelspec": {
   "display_name": "Python 3 (ipykernel)",
   "language": "python",
   "name": "python3"
  },
  "language_info": {
   "codemirror_mode": {
    "name": "ipython",
    "version": 3
   },
   "file_extension": ".py",
   "mimetype": "text/x-python",
   "name": "python",
   "nbconvert_exporter": "python",
   "pygments_lexer": "ipython3",
   "version": "3.9.22"
  },
  "papermill": {
   "default_parameters": {},
   "duration": 4.704716,
   "end_time": "2025-05-12T16:41:34.318223",
   "environment_variables": {},
   "exception": null,
   "input_path": "./templates/org_report.ipynb",
   "output_path": "generated/book/jupyter-book.ipynb",
   "parameters": {
    "github_org": "jupyter-book",
    "n_days": 90
   },
   "start_time": "2025-05-12T16:41:29.613507",
   "version": "2.6.0"
  },
  "widgets": {
   "application/vnd.jupyter.widget-state+json": {
    "state": {
     "033ad27548e747b79d9854bba3ed7d36": {
      "model_module": "@jupyter-widgets/base",
      "model_module_version": "2.0.0",
      "model_name": "LayoutModel",
      "state": {
       "_model_module": "@jupyter-widgets/base",
       "_model_module_version": "2.0.0",
       "_model_name": "LayoutModel",
       "_view_count": null,
       "_view_module": "@jupyter-widgets/base",
       "_view_module_version": "2.0.0",
       "_view_name": "LayoutView",
       "align_content": null,
       "align_items": null,
       "align_self": null,
       "border_bottom": null,
       "border_left": null,
       "border_right": null,
       "border_top": null,
       "bottom": null,
       "display": null,
       "flex": null,
       "flex_flow": null,
       "grid_area": null,
       "grid_auto_columns": null,
       "grid_auto_flow": null,
       "grid_auto_rows": null,
       "grid_column": null,
       "grid_gap": null,
       "grid_row": null,
       "grid_template_areas": null,
       "grid_template_columns": null,
       "grid_template_rows": null,
       "height": null,
       "justify_content": null,
       "justify_items": null,
       "left": null,
       "margin": null,
       "max_height": null,
       "max_width": null,
       "min_height": null,
       "min_width": null,
       "object_fit": null,
       "object_position": null,
       "order": null,
       "overflow": null,
       "padding": null,
       "right": null,
       "top": null,
       "visibility": null,
       "width": null
      }
     },
     "051b95c4bf02429da0b65191558c8081": {
      "model_module": "@jupyter-widgets/controls",
      "model_module_version": "2.0.0",
      "model_name": "HTMLStyleModel",
      "state": {
       "_model_module": "@jupyter-widgets/controls",
       "_model_module_version": "2.0.0",
       "_model_name": "HTMLStyleModel",
       "_view_count": null,
       "_view_module": "@jupyter-widgets/base",
       "_view_module_version": "2.0.0",
       "_view_name": "StyleView",
       "background": null,
       "description_width": "",
       "font_size": null,
       "text_color": null
      }
     },
     "0ce22773a49b43a5bcaa06895c5beb71": {
      "model_module": "@jupyter-widgets/base",
      "model_module_version": "2.0.0",
      "model_name": "LayoutModel",
      "state": {
       "_model_module": "@jupyter-widgets/base",
       "_model_module_version": "2.0.0",
       "_model_name": "LayoutModel",
       "_view_count": null,
       "_view_module": "@jupyter-widgets/base",
       "_view_module_version": "2.0.0",
       "_view_name": "LayoutView",
       "align_content": null,
       "align_items": null,
       "align_self": null,
       "border_bottom": null,
       "border_left": null,
       "border_right": null,
       "border_top": null,
       "bottom": null,
       "display": null,
       "flex": null,
       "flex_flow": null,
       "grid_area": null,
       "grid_auto_columns": null,
       "grid_auto_flow": null,
       "grid_auto_rows": null,
       "grid_column": null,
       "grid_gap": null,
       "grid_row": null,
       "grid_template_areas": null,
       "grid_template_columns": null,
       "grid_template_rows": null,
       "height": null,
       "justify_content": null,
       "justify_items": null,
       "left": null,
       "margin": null,
       "max_height": null,
       "max_width": null,
       "min_height": null,
       "min_width": null,
       "object_fit": null,
       "object_position": null,
       "order": null,
       "overflow": null,
       "padding": null,
       "right": null,
       "top": null,
       "visibility": null,
       "width": null
      }
     },
     "0dba5277b9d34243a06b18ed46fd6602": {
      "model_module": "@jupyter-widgets/base",
      "model_module_version": "2.0.0",
      "model_name": "LayoutModel",
      "state": {
       "_model_module": "@jupyter-widgets/base",
       "_model_module_version": "2.0.0",
       "_model_name": "LayoutModel",
       "_view_count": null,
       "_view_module": "@jupyter-widgets/base",
       "_view_module_version": "2.0.0",
       "_view_name": "LayoutView",
       "align_content": null,
       "align_items": null,
       "align_self": null,
       "border_bottom": null,
       "border_left": null,
       "border_right": null,
       "border_top": null,
       "bottom": null,
       "display": null,
       "flex": null,
       "flex_flow": null,
       "grid_area": null,
       "grid_auto_columns": null,
       "grid_auto_flow": null,
       "grid_auto_rows": null,
       "grid_column": null,
       "grid_gap": null,
       "grid_row": null,
       "grid_template_areas": null,
       "grid_template_columns": null,
       "grid_template_rows": null,
       "height": null,
       "justify_content": null,
       "justify_items": null,
       "left": null,
       "margin": null,
       "max_height": null,
       "max_width": null,
       "min_height": null,
       "min_width": null,
       "object_fit": null,
       "object_position": null,
       "order": null,
       "overflow": null,
       "padding": null,
       "right": null,
       "top": null,
       "visibility": null,
       "width": null
      }
     },
     "170dcab629f144ce9f27402f2a427dc1": {
      "model_module": "@jupyter-widgets/base",
      "model_module_version": "2.0.0",
      "model_name": "LayoutModel",
      "state": {
       "_model_module": "@jupyter-widgets/base",
       "_model_module_version": "2.0.0",
       "_model_name": "LayoutModel",
       "_view_count": null,
       "_view_module": "@jupyter-widgets/base",
       "_view_module_version": "2.0.0",
       "_view_name": "LayoutView",
       "align_content": null,
       "align_items": null,
       "align_self": null,
       "border_bottom": null,
       "border_left": null,
       "border_right": null,
       "border_top": null,
       "bottom": null,
       "display": null,
       "flex": null,
       "flex_flow": null,
       "grid_area": null,
       "grid_auto_columns": null,
       "grid_auto_flow": null,
       "grid_auto_rows": null,
       "grid_column": null,
       "grid_gap": null,
       "grid_row": null,
       "grid_template_areas": null,
       "grid_template_columns": null,
       "grid_template_rows": null,
       "height": null,
       "justify_content": null,
       "justify_items": null,
       "left": null,
       "margin": null,
       "max_height": null,
       "max_width": null,
       "min_height": null,
       "min_width": null,
       "object_fit": null,
       "object_position": null,
       "order": null,
       "overflow": null,
       "padding": null,
       "right": null,
       "top": null,
       "visibility": null,
       "width": null
      }
     },
     "1988399fddb147c884268ab42580140b": {
      "model_module": "@jupyter-widgets/base",
      "model_module_version": "2.0.0",
      "model_name": "LayoutModel",
      "state": {
       "_model_module": "@jupyter-widgets/base",
       "_model_module_version": "2.0.0",
       "_model_name": "LayoutModel",
       "_view_count": null,
       "_view_module": "@jupyter-widgets/base",
       "_view_module_version": "2.0.0",
       "_view_name": "LayoutView",
       "align_content": null,
       "align_items": null,
       "align_self": null,
       "border_bottom": null,
       "border_left": null,
       "border_right": null,
       "border_top": null,
       "bottom": null,
       "display": null,
       "flex": null,
       "flex_flow": null,
       "grid_area": null,
       "grid_auto_columns": null,
       "grid_auto_flow": null,
       "grid_auto_rows": null,
       "grid_column": null,
       "grid_gap": null,
       "grid_row": null,
       "grid_template_areas": null,
       "grid_template_columns": null,
       "grid_template_rows": null,
       "height": null,
       "justify_content": null,
       "justify_items": null,
       "left": null,
       "margin": null,
       "max_height": null,
       "max_width": null,
       "min_height": null,
       "min_width": null,
       "object_fit": null,
       "object_position": null,
       "order": null,
       "overflow": null,
       "padding": null,
       "right": null,
       "top": null,
       "visibility": null,
       "width": null
      }
     },
     "19fa51e0f57944218ee107fe2a3cbacf": {
      "model_module": "@jupyter-widgets/controls",
      "model_module_version": "2.0.0",
      "model_name": "HTMLStyleModel",
      "state": {
       "_model_module": "@jupyter-widgets/controls",
       "_model_module_version": "2.0.0",
       "_model_name": "HTMLStyleModel",
       "_view_count": null,
       "_view_module": "@jupyter-widgets/base",
       "_view_module_version": "2.0.0",
       "_view_name": "StyleView",
       "background": null,
       "description_width": "",
       "font_size": null,
       "text_color": null
      }
     },
     "29ad4eaeee594240bfa2801488f8d299": {
      "model_module": "@jupyter-widgets/controls",
      "model_module_version": "2.0.0",
      "model_name": "HTMLStyleModel",
      "state": {
       "_model_module": "@jupyter-widgets/controls",
       "_model_module_version": "2.0.0",
       "_model_name": "HTMLStyleModel",
       "_view_count": null,
       "_view_module": "@jupyter-widgets/base",
       "_view_module_version": "2.0.0",
       "_view_name": "StyleView",
       "background": null,
       "description_width": "",
       "font_size": null,
       "text_color": null
      }
     },
     "2aeef3eed65746baa5a21f40ba5d787e": {
      "model_module": "@jupyter-widgets/base",
      "model_module_version": "2.0.0",
      "model_name": "LayoutModel",
      "state": {
       "_model_module": "@jupyter-widgets/base",
       "_model_module_version": "2.0.0",
       "_model_name": "LayoutModel",
       "_view_count": null,
       "_view_module": "@jupyter-widgets/base",
       "_view_module_version": "2.0.0",
       "_view_name": "LayoutView",
       "align_content": null,
       "align_items": null,
       "align_self": null,
       "border_bottom": null,
       "border_left": null,
       "border_right": null,
       "border_top": null,
       "bottom": null,
       "display": null,
       "flex": null,
       "flex_flow": null,
       "grid_area": null,
       "grid_auto_columns": null,
       "grid_auto_flow": null,
       "grid_auto_rows": null,
       "grid_column": null,
       "grid_gap": null,
       "grid_row": null,
       "grid_template_areas": null,
       "grid_template_columns": null,
       "grid_template_rows": null,
       "height": null,
       "justify_content": null,
       "justify_items": null,
       "left": null,
       "margin": null,
       "max_height": null,
       "max_width": null,
       "min_height": null,
       "min_width": null,
       "object_fit": null,
       "object_position": null,
       "order": null,
       "overflow": null,
       "padding": null,
       "right": null,
       "top": null,
       "visibility": null,
       "width": null
      }
     },
     "2ce712477dfa48fb8150b7f5ff1f420f": {
      "model_module": "@jupyter-widgets/controls",
      "model_module_version": "2.0.0",
      "model_name": "HTMLStyleModel",
      "state": {
       "_model_module": "@jupyter-widgets/controls",
       "_model_module_version": "2.0.0",
       "_model_name": "HTMLStyleModel",
       "_view_count": null,
       "_view_module": "@jupyter-widgets/base",
       "_view_module_version": "2.0.0",
       "_view_name": "StyleView",
       "background": null,
       "description_width": "",
       "font_size": null,
       "text_color": null
      }
     },
     "2fb839cfebf147c9a9f2a7ca031679b2": {
      "model_module": "@jupyter-widgets/controls",
      "model_module_version": "2.0.0",
      "model_name": "HTMLStyleModel",
      "state": {
       "_model_module": "@jupyter-widgets/controls",
       "_model_module_version": "2.0.0",
       "_model_name": "HTMLStyleModel",
       "_view_count": null,
       "_view_module": "@jupyter-widgets/base",
       "_view_module_version": "2.0.0",
       "_view_name": "StyleView",
       "background": null,
       "description_width": "",
       "font_size": null,
       "text_color": null
      }
     },
     "30f0645a419b4ef8846a8eb4e949367f": {
      "model_module": "@jupyter-widgets/base",
      "model_module_version": "2.0.0",
      "model_name": "LayoutModel",
      "state": {
       "_model_module": "@jupyter-widgets/base",
       "_model_module_version": "2.0.0",
       "_model_name": "LayoutModel",
       "_view_count": null,
       "_view_module": "@jupyter-widgets/base",
       "_view_module_version": "2.0.0",
       "_view_name": "LayoutView",
       "align_content": null,
       "align_items": null,
       "align_self": null,
       "border_bottom": null,
       "border_left": null,
       "border_right": null,
       "border_top": null,
       "bottom": null,
       "display": null,
       "flex": null,
       "flex_flow": null,
       "grid_area": null,
       "grid_auto_columns": null,
       "grid_auto_flow": null,
       "grid_auto_rows": null,
       "grid_column": null,
       "grid_gap": null,
       "grid_row": null,
       "grid_template_areas": null,
       "grid_template_columns": null,
       "grid_template_rows": null,
       "height": null,
       "justify_content": null,
       "justify_items": null,
       "left": null,
       "margin": null,
       "max_height": null,
       "max_width": null,
       "min_height": null,
       "min_width": null,
       "object_fit": null,
       "object_position": null,
       "order": null,
       "overflow": null,
       "padding": null,
       "right": null,
       "top": null,
       "visibility": null,
       "width": null
      }
     },
     "32fb56a02a8d4df9833eded5a06957f0": {
      "model_module": "@jupyter-widgets/controls",
      "model_module_version": "2.0.0",
      "model_name": "HTMLStyleModel",
      "state": {
       "_model_module": "@jupyter-widgets/controls",
       "_model_module_version": "2.0.0",
       "_model_name": "HTMLStyleModel",
       "_view_count": null,
       "_view_module": "@jupyter-widgets/base",
       "_view_module_version": "2.0.0",
       "_view_name": "StyleView",
       "background": null,
       "description_width": "",
       "font_size": null,
       "text_color": null
      }
     },
     "34b5e8c3d4234db5a8b13c42fb85bbe3": {
      "model_module": "@jupyter-widgets/controls",
      "model_module_version": "2.0.0",
      "model_name": "HTMLModel",
      "state": {
       "_dom_classes": [],
       "_model_module": "@jupyter-widgets/controls",
       "_model_module_version": "2.0.0",
       "_model_name": "HTMLModel",
       "_view_count": null,
       "_view_module": "@jupyter-widgets/controls",
       "_view_module_version": "2.0.0",
       "_view_name": "HTMLView",
       "description": "",
       "description_allow_html": false,
       "layout": "IPY_MODEL_7a985c4c91d64ae6b9df39487f9cb02f",
       "placeholder": "​",
       "style": "IPY_MODEL_aad063a8209d4935b76729660e98db1b",
       "tabbable": null,
       "tooltip": null,
       "value": "<h5><a href=\"https://github.com/jupyter-book/mystmd\">jupyter-book/mystmd</a></h5>\n<ul>\n<li><a href=\"https://github.com/jupyter-book/mystmd/issues/1336\">(#1336)</a>: <em>Tracking: Turing Way</em> by <strong><a href=\"https://github.com/rowanc1\">@rowanc1</a></strong></li>\n<li><a href=\"https://github.com/jupyter-book/mystmd/issues/189\">(#189)</a>: <em>Audit of Features missing in JupyterBook</em> by <strong><a href=\"https://github.com/rowanc1\">@rowanc1</a></strong></li>\n<li><a href=\"https://github.com/jupyter-book/mystmd/issues/1879\">(#1879)</a>: <em>Support multi-language content and pages with translations</em> by <strong><a href=\"https://github.com/choldgraf\">@choldgraf</a></strong></li>\n<li><a href=\"https://github.com/jupyter-book/mystmd/issues/1892\">(#1892)</a>: <em>[Bug]: Latex Macros not working correctly</em> by <strong><a href=\"https://github.com/mstoll1602\">@mstoll1602</a></strong></li>\n<li><a href=\"https://github.com/jupyter-book/mystmd/issues/1910\">(#1910)</a>: <em>Aside broken after trying to add custom css</em> by <strong><a href=\"https://github.com/paulskrzypczyk\">@paulskrzypczyk</a></strong></li>\n</ul>"
      }
     },
     "3c4a434b9ff54c5ca285f556a05629b6": {
      "model_module": "@jupyter-widgets/controls",
      "model_module_version": "2.0.0",
      "model_name": "HTMLModel",
      "state": {
       "_dom_classes": [],
       "_model_module": "@jupyter-widgets/controls",
       "_model_module_version": "2.0.0",
       "_model_name": "HTMLModel",
       "_view_count": null,
       "_view_module": "@jupyter-widgets/controls",
       "_view_module_version": "2.0.0",
       "_view_name": "HTMLView",
       "description": "",
       "description_allow_html": false,
       "layout": "IPY_MODEL_170dcab629f144ce9f27402f2a427dc1",
       "placeholder": "​",
       "style": "IPY_MODEL_6b3e8f4b0ebf4c5e8e580319727eb042",
       "tabbable": null,
       "tooltip": null,
       "value": "<h5><a href=\"https://github.com/jupyter-book/jupyterlab-myst\">jupyter-book/jupyterlab-myst</a></h5>\n<ul>\n<li><a href=\"https://github.com/jupyter-book/jupyterlab-myst/issues/243\">(#243)</a>: <em>Scrolling over notebook got unexpected jump backs</em> by <strong><a href=\"https://github.com/AllanChain\">@AllanChain</a></strong></li>\n<li><a href=\"https://github.com/jupyter-book/jupyterlab-myst/issues/257\">(#257)</a>: <em>Dancing Page</em> by <strong><a href=\"https://github.com/microcoder\">@microcoder</a></strong></li>\n<li><a href=\"https://github.com/jupyter-book/jupyterlab-myst/issues/248\">(#248)</a>: <em>Do Not highlight links</em> by <strong><a href=\"https://github.com/microcoder\">@microcoder</a></strong></li>\n<li><a href=\"https://github.com/jupyter-book/jupyterlab-myst/issues/175\">(#175)</a>: <em><code>eval</code> role not working as expected</em> by <strong><a href=\"https://github.com/rkansal47\">@rkansal47</a></strong></li>\n<li><a href=\"https://github.com/jupyter-book/jupyterlab-myst/issues/250\">(#250)</a>: <em>Scrolling is stucking on the page</em> by <strong><a href=\"https://github.com/microcoder\">@microcoder</a></strong></li>\n</ul>"
      }
     },
     "3e2bb33118764e54806414f68123b814": {
      "model_module": "@jupyter-widgets/controls",
      "model_module_version": "2.0.0",
      "model_name": "HTMLModel",
      "state": {
       "_dom_classes": [],
       "_model_module": "@jupyter-widgets/controls",
       "_model_module_version": "2.0.0",
       "_model_name": "HTMLModel",
       "_view_count": null,
       "_view_module": "@jupyter-widgets/controls",
       "_view_module_version": "2.0.0",
       "_view_name": "HTMLView",
       "description": "",
       "description_allow_html": false,
       "layout": "IPY_MODEL_dab908e55bcd4e3991f7a8c290593ba5",
       "placeholder": "​",
       "style": "IPY_MODEL_de796f4a1d8c4a35a8784269028c2efc",
       "tabbable": null,
       "tooltip": null,
       "value": "<h5><a href=\"https://github.com/jupyter-book/team-compass\">jupyter-book/team-compass</a></h5>\n<ul>\n<li><a href=\"https://github.com/jupyter-book/team-compass/issues/20\">(#20)</a>: <em>Run publicly accessible team meetings</em> by <strong><a href=\"https://github.com/choldgraf\">@choldgraf</a></strong></li>\n<li><a href=\"https://github.com/jupyter-book/team-compass/issues/24\">(#24)</a>: <em>Move our DNS owner from squarespace to Jupyter's CloudFlare</em> by <strong><a href=\"https://github.com/choldgraf\">@choldgraf</a></strong></li>\n<li><a href=\"https://github.com/jupyter-book/team-compass/issues/25\">(#25)</a>: <em>Make our documentation deployment infrastructure available to all jupyter book team members</em> by <strong><a href=\"https://github.com/choldgraf\">@choldgraf</a></strong></li>\n</ul>"
      }
     },
     "3ebe0bddfa8848058c0259b0588c31f6": {
      "model_module": "@jupyter-widgets/controls",
      "model_module_version": "2.0.0",
      "model_name": "HTMLModel",
      "state": {
       "_dom_classes": [],
       "_model_module": "@jupyter-widgets/controls",
       "_model_module_version": "2.0.0",
       "_model_name": "HTMLModel",
       "_view_count": null,
       "_view_module": "@jupyter-widgets/controls",
       "_view_module_version": "2.0.0",
       "_view_name": "HTMLView",
       "description": "",
       "description_allow_html": false,
       "layout": "IPY_MODEL_81eb502e38a14872b2593064b289d894",
       "placeholder": "​",
       "style": "IPY_MODEL_29ad4eaeee594240bfa2801488f8d299",
       "tabbable": null,
       "tooltip": null,
       "value": "<h4>Closed PRs for repo: <a href=\"https://github.com/jupyter-book/jupyter-book\">jupyter-book/jupyter-book</a></h4>\n<h5></h5>\n<ul>\n<li><a href=\"https://github.com/jupyter-book/jupyter-book/issues/2319\">(#2319)</a>: <em>DOC: Update GH Pages Publishing Guidance</em> by <strong><a href=\"https://github.com/RHammond2\">@RHammond2</a></strong> merged by <strong><a href=\"https://github.com/agoose77\">@agoose77</a></strong></li>\n<li><a href=\"https://github.com/jupyter-book/jupyter-book/issues/2324\">(#2324)</a>: <em>⬆️ Bump <code>myst-cli</code> version</em> by <strong><a href=\"https://github.com/agoose77\">@agoose77</a></strong> merged by <strong><a href=\"https://github.com/agoose77\">@agoose77</a></strong></li>\n<li><a href=\"https://github.com/jupyter-book/jupyter-book/issues/2325\">(#2325)</a>: <em>🕰️ Fix deploy action versions</em> by <strong><a href=\"https://github.com/agoose77\">@agoose77</a></strong> merged by <strong><a href=\"https://github.com/agoose77\">@agoose77</a></strong></li>\n<li><a href=\"https://github.com/jupyter-book/jupyter-book/issues/2326\">(#2326)</a>: <em>📝 Drop reference to execution workaround, as it does not work</em> by <strong><a href=\"https://github.com/agoose77\">@agoose77</a></strong> merged by <strong><a href=\"https://github.com/agoose77\">@agoose77</a></strong></li>\n<li><a href=\"https://github.com/jupyter-book/jupyter-book/issues/2327\">(#2327)</a>: <em>MAINT: prepare for new release</em> by <strong><a href=\"https://github.com/agoose77\">@agoose77</a></strong> merged by <strong><a href=\"https://github.com/agoose77\">@agoose77</a></strong></li>\n<li><a href=\"https://github.com/jupyter-book/jupyter-book/issues/2329\">(#2329)</a>: <em>FIX: use 'main' for branch name</em> by <strong><a href=\"https://github.com/agoose77\">@agoose77</a></strong> merged by <strong><a href=\"https://github.com/agoose77\">@agoose77</a></strong></li>\n<li><a href=\"https://github.com/jupyter-book/jupyter-book/issues/2330\">(#2330)</a>: <em>DOCS: fix RTD configuration</em> by <strong><a href=\"https://github.com/agoose77\">@agoose77</a></strong> merged by <strong><a href=\"https://github.com/agoose77\">@agoose77</a></strong></li>\n<li><a href=\"https://github.com/jupyter-book/jupyter-book/issues/2331\">(#2331)</a>: <em>Updated github action</em> by <strong><a href=\"https://github.com/StefanRR\">@StefanRR</a></strong> merged by <strong><a href=\"https://github.com/agoose77\">@agoose77</a></strong></li>\n<li><a href=\"https://github.com/jupyter-book/jupyter-book/issues/2332\">(#2332)</a>: <em>DOCS: update gh-pages guidance</em> by <strong><a href=\"https://github.com/agoose77\">@agoose77</a></strong> merged by <strong><a href=\"https://github.com/agoose77\">@agoose77</a></strong></li>\n<li><a href=\"https://github.com/jupyter-book/jupyter-book/issues/2335\">(#2335)</a>: <em>🔼 Bump myst-cli version</em> by <strong><a href=\"https://github.com/JimMadge\">@JimMadge</a></strong> merged by <strong><a href=\"https://github.com/agoose77\">@agoose77</a></strong></li>\n<li><a href=\"https://github.com/jupyter-book/jupyter-book/issues/2336\">(#2336)</a>: <em>✏️ Add note about pre-release availability</em> by <strong><a href=\"https://github.com/agoose77\">@agoose77</a></strong> merged by <strong><a href=\"https://github.com/agoose77\">@agoose77</a></strong></li>\n<li><a href=\"https://github.com/jupyter-book/jupyter-book/issues/2342\">(#2342)</a>: <em>🔼 Bump <code>myst-cli</code> version for release</em> by <strong><a href=\"https://github.com/agoose77\">@agoose77</a></strong> merged by <strong><a href=\"https://github.com/agoose77\">@agoose77</a></strong></li>\n<li><a href=\"https://github.com/jupyter-book/jupyter-book/issues/2348\">(#2348)</a>: <em>DOC: minor fixes</em> by <strong><a href=\"https://github.com/bsipocz\">@bsipocz</a></strong> merged by <strong><a href=\"https://github.com/choldgraf\">@choldgraf</a></strong></li>\n</ul>"
      }
     },
     "4623de70b32640ceb8194a2088bbb0e1": {
      "model_module": "@jupyter-widgets/base",
      "model_module_version": "2.0.0",
      "model_name": "LayoutModel",
      "state": {
       "_model_module": "@jupyter-widgets/base",
       "_model_module_version": "2.0.0",
       "_model_name": "LayoutModel",
       "_view_count": null,
       "_view_module": "@jupyter-widgets/base",
       "_view_module_version": "2.0.0",
       "_view_name": "LayoutView",
       "align_content": null,
       "align_items": null,
       "align_self": null,
       "border_bottom": null,
       "border_left": null,
       "border_right": null,
       "border_top": null,
       "bottom": null,
       "display": null,
       "flex": null,
       "flex_flow": null,
       "grid_area": null,
       "grid_auto_columns": null,
       "grid_auto_flow": null,
       "grid_auto_rows": null,
       "grid_column": null,
       "grid_gap": null,
       "grid_row": null,
       "grid_template_areas": null,
       "grid_template_columns": null,
       "grid_template_rows": null,
       "height": null,
       "justify_content": null,
       "justify_items": null,
       "left": null,
       "margin": null,
       "max_height": null,
       "max_width": null,
       "min_height": null,
       "min_width": null,
       "object_fit": null,
       "object_position": null,
       "order": null,
       "overflow": null,
       "padding": null,
       "right": null,
       "top": null,
       "visibility": null,
       "width": null
      }
     },
     "4b345f5554a84e6fa666212f9e1f130a": {
      "model_module": "@jupyter-widgets/controls",
      "model_module_version": "2.0.0",
      "model_name": "HTMLStyleModel",
      "state": {
       "_model_module": "@jupyter-widgets/controls",
       "_model_module_version": "2.0.0",
       "_model_name": "HTMLStyleModel",
       "_view_count": null,
       "_view_module": "@jupyter-widgets/base",
       "_view_module_version": "2.0.0",
       "_view_name": "StyleView",
       "background": null,
       "description_width": "",
       "font_size": null,
       "text_color": null
      }
     },
     "4f82a908bf9f423eaf1ea9eb37d0b634": {
      "model_module": "@jupyter-widgets/controls",
      "model_module_version": "2.0.0",
      "model_name": "HTMLModel",
      "state": {
       "_dom_classes": [],
       "_model_module": "@jupyter-widgets/controls",
       "_model_module_version": "2.0.0",
       "_model_name": "HTMLModel",
       "_view_count": null,
       "_view_module": "@jupyter-widgets/controls",
       "_view_module_version": "2.0.0",
       "_view_name": "HTMLView",
       "description": "",
       "description_allow_html": false,
       "layout": "IPY_MODEL_c72cb6ebc346499da456482985802a2e",
       "placeholder": "​",
       "style": "IPY_MODEL_f9dcba1bb97a4f728bea059a97ccb65b",
       "tabbable": null,
       "tooltip": null,
       "value": "<h4>Closed PRs for repo: <a href=\"https://github.com/jupyter-book/myst-theme\">jupyter-book/myst-theme</a></h4>\n<h5></h5>\n<ul>\n<li><a href=\"https://github.com/jupyter-book/myst-theme/issues/528\">(#528)</a>: <em>🚀 Add <code>awesomebar</code>-like UX to launch button</em> by <strong><a href=\"https://github.com/agoose77\">@agoose77</a></strong> merged by <strong><a href=\"https://github.com/rowanc1\">@rowanc1</a></strong></li>\n<li><a href=\"https://github.com/jupyter-book/myst-theme/issues/531\">(#531)</a>: <em>🛫 Add landing page blocks to book theme</em> by <strong><a href=\"https://github.com/agoose77\">@agoose77</a></strong> merged by <strong><a href=\"https://github.com/rowanc1\">@rowanc1</a></strong></li>\n<li><a href=\"https://github.com/jupyter-book/myst-theme/issues/532\">(#532)</a>: <em>🔗 Update static links in parts in config</em> by <strong><a href=\"https://github.com/fwkoch\">@fwkoch</a></strong> merged by <strong><a href=\"https://github.com/rowanc1\">@rowanc1</a></strong></li>\n<li><a href=\"https://github.com/jupyter-book/myst-theme/issues/533\">(#533)</a>: <em>Version Packages</em> by <strong><a href=\"https://github.com/github-actions[bot]\">@github-actions[bot]</a></strong> merged by <strong><a href=\"https://github.com/rowanc1\">@rowanc1</a></strong></li>\n<li><a href=\"https://github.com/jupyter-book/myst-theme/issues/534\">(#534)</a>: <em>📦 Bump github action versions</em> by <strong><a href=\"https://github.com/fwkoch\">@fwkoch</a></strong> merged by <strong><a href=\"https://github.com/rowanc1\">@rowanc1</a></strong></li>\n<li><a href=\"https://github.com/jupyter-book/myst-theme/issues/535\">(#535)</a>: <em>🏷️ Extend MyST component to accept  <code>className</code> argument</em> by <strong><a href=\"https://github.com/agoose77\">@agoose77</a></strong> merged by <strong><a href=\"https://github.com/agoose77\">@agoose77</a></strong></li>\n<li><a href=\"https://github.com/jupyter-book/myst-theme/issues/536\">(#536)</a>: <em>🧱 Drop <code>ContentBlocks</code> and move functionality to <code>MyST</code></em> by <strong><a href=\"https://github.com/agoose77\">@agoose77</a></strong> merged by <strong><a href=\"https://github.com/rowanc1\">@rowanc1</a></strong></li>\n<li><a href=\"https://github.com/jupyter-book/myst-theme/issues/538\">(#538)</a>: <em>〰️ Remove underline from <code>a.button</code></em> by <strong><a href=\"https://github.com/agoose77\">@agoose77</a></strong> merged by <strong><a href=\"https://github.com/agoose77\">@agoose77</a></strong></li>\n<li><a href=\"https://github.com/jupyter-book/myst-theme/issues/539\">(#539)</a>: <em>Version Packages</em> by <strong><a href=\"https://github.com/github-actions[bot]\">@github-actions[bot]</a></strong> merged by <strong><a href=\"https://github.com/rowanc1\">@rowanc1</a></strong></li>\n<li><a href=\"https://github.com/jupyter-book/myst-theme/issues/540\">(#540)</a>: <em>💇 Add support for user stylesheets</em> by <strong><a href=\"https://github.com/agoose77\">@agoose77</a></strong> merged by <strong><a href=\"https://github.com/rowanc1\">@rowanc1</a></strong></li>\n<li><a href=\"https://github.com/jupyter-book/myst-theme/issues/541\">(#541)</a>: <em>ℹ️ Add note about JupyterHub requirements to launch bar</em> by <strong><a href=\"https://github.com/agoose77\">@agoose77</a></strong> merged by <strong><a href=\"https://github.com/agoose77\">@agoose77</a></strong></li>\n<li><a href=\"https://github.com/jupyter-book/myst-theme/issues/542\">(#542)</a>: <em>🛫 Add landing page blocks to book theme</em> by <strong><a href=\"https://github.com/rowanc1\">@rowanc1</a></strong> merged by <strong><a href=\"https://github.com/agoose77\">@agoose77</a></strong></li>\n<li><a href=\"https://github.com/jupyter-book/myst-theme/issues/543\">(#543)</a>: <em>🚀 myst@v1.3.24</em> by <strong><a href=\"https://github.com/rowanc1\">@rowanc1</a></strong> merged by <strong><a href=\"https://github.com/rowanc1\">@rowanc1</a></strong></li>\n<li><a href=\"https://github.com/jupyter-book/myst-theme/issues/544\">(#544)</a>: <em>holoviews support: fix output path fetching</em> by <strong><a href=\"https://github.com/stevejpurves\">@stevejpurves</a></strong> merged by <strong><a href=\"https://github.com/stevejpurves\">@stevejpurves</a></strong></li>\n<li><a href=\"https://github.com/jupyter-book/myst-theme/issues/546\">(#546)</a>: <em>🧱 Only apply grid system to outer <code>&lt;MyST&gt;</code> component</em> by <strong><a href=\"https://github.com/agoose77\">@agoose77</a></strong> merged by <strong><a href=\"https://github.com/rowanc1\">@rowanc1</a></strong></li>\n<li><a href=\"https://github.com/jupyter-book/myst-theme/issues/547\">(#547)</a>: <em>🪜 Use <code>BlockDepth</code> provider to scope grid layout to top-level blocks</em> by <strong><a href=\"https://github.com/agoose77\">@agoose77</a></strong> merged by <strong><a href=\"https://github.com/rowanc1\">@rowanc1</a></strong></li>\n<li><a href=\"https://github.com/jupyter-book/myst-theme/issues/548\">(#548)</a>: <em>🧱 Simplify Blocks (remove grid-system)</em> by <strong><a href=\"https://github.com/rowanc1\">@rowanc1</a></strong> merged by <strong><a href=\"https://github.com/rowanc1\">@rowanc1</a></strong></li>\n<li><a href=\"https://github.com/jupyter-book/myst-theme/issues/549\">(#549)</a>: <em>Version Packages</em> by <strong><a href=\"https://github.com/github-actions[bot]\">@github-actions[bot]</a></strong> merged by <strong><a href=\"https://github.com/rowanc1\">@rowanc1</a></strong></li>\n<li><a href=\"https://github.com/jupyter-book/myst-theme/issues/550\">(#550)</a>: <em>🧹 Clean up links to EB &amp; unify READMEs for packages</em> by <strong><a href=\"https://github.com/agoose77\">@agoose77</a></strong> merged by <strong><a href=\"https://github.com/agoose77\">@agoose77</a></strong></li>\n<li><a href=\"https://github.com/jupyter-book/myst-theme/issues/551\">(#551)</a>: <em>Version Packages</em> by <strong><a href=\"https://github.com/github-actions[bot]\">@github-actions[bot]</a></strong> merged by <strong><a href=\"https://github.com/rowanc1\">@rowanc1</a></strong></li>\n<li><a href=\"https://github.com/jupyter-book/myst-theme/issues/552\">(#552)</a>: <em>🧹 remove console.log</em> by <strong><a href=\"https://github.com/stevejpurves\">@stevejpurves</a></strong> merged by <strong><a href=\"https://github.com/stevejpurves\">@stevejpurves</a></strong></li>\n<li><a href=\"https://github.com/jupyter-book/myst-theme/issues/554\">(#554)</a>: <em>🎩 Fix landing-page block class lookup</em> by <strong><a href=\"https://github.com/agoose77\">@agoose77</a></strong> merged by <strong><a href=\"https://github.com/agoose77\">@agoose77</a></strong></li>\n<li><a href=\"https://github.com/jupyter-book/myst-theme/issues/555\">(#555)</a>: <em>Version Packages</em> by <strong><a href=\"https://github.com/github-actions[bot]\">@github-actions[bot]</a></strong> merged by <strong><a href=\"https://github.com/rowanc1\">@rowanc1</a></strong></li>\n<li><a href=\"https://github.com/jupyter-book/myst-theme/issues/556\">(#556)</a>: <em>🌲 Add <code>root</code> renderer</em> by <strong><a href=\"https://github.com/agoose77\">@agoose77</a></strong> merged by <strong><a href=\"https://github.com/rowanc1\">@rowanc1</a></strong></li>\n<li><a href=\"https://github.com/jupyter-book/myst-theme/issues/557\">(#557)</a>: <em>🐛 Ensure CSS has baseURL directly</em> by <strong><a href=\"https://github.com/rowanc1\">@rowanc1</a></strong> merged by <strong><a href=\"https://github.com/rowanc1\">@rowanc1</a></strong></li>\n<li><a href=\"https://github.com/jupyter-book/myst-theme/issues/559\">(#559)</a>: <em>♹ Small types improvements</em> by <strong><a href=\"https://github.com/rowanc1\">@rowanc1</a></strong> merged by <strong><a href=\"https://github.com/rowanc1\">@rowanc1</a></strong></li>\n<li><a href=\"https://github.com/jupyter-book/myst-theme/issues/560\">(#560)</a>: <em>🖥️ Add deploy workflow to CI</em> by <strong><a href=\"https://github.com/agoose77\">@agoose77</a></strong> merged by <strong><a href=\"https://github.com/agoose77\">@agoose77</a></strong></li>\n<li><a href=\"https://github.com/jupyter-book/myst-theme/issues/561\">(#561)</a>: <em>🛠️ Delete theme's built assets before build</em> by <strong><a href=\"https://github.com/agoose77\">@agoose77</a></strong> merged by <strong><a href=\"https://github.com/rowanc1\">@rowanc1</a></strong></li>\n<li><a href=\"https://github.com/jupyter-book/myst-theme/issues/562\">(#562)</a>: <em>✏️ Fix metadata for template URL</em> by <strong><a href=\"https://github.com/agoose77\">@agoose77</a></strong> merged by <strong><a href=\"https://github.com/rowanc1\">@rowanc1</a></strong></li>\n<li><a href=\"https://github.com/jupyter-book/myst-theme/issues/563\">(#563)</a>: <em>🥂 Merge deploy and release workflows</em> by <strong><a href=\"https://github.com/agoose77\">@agoose77</a></strong> merged by <strong><a href=\"https://github.com/agoose77\">@agoose77</a></strong></li>\n<li><a href=\"https://github.com/jupyter-book/myst-theme/issues/568\">(#568)</a>: <em>❄️ Add nix dev-shell flake</em> by <strong><a href=\"https://github.com/agoose77\">@agoose77</a></strong> merged by <strong><a href=\"https://github.com/agoose77\">@agoose77</a></strong></li>\n<li><a href=\"https://github.com/jupyter-book/myst-theme/issues/570\">(#570)</a>: <em>🎓 Add support for <code>button</code> in <code>cite</code> nodes</em> by <strong><a href=\"https://github.com/agoose77\">@agoose77</a></strong> merged by <strong><a href=\"https://github.com/stevejpurves\">@stevejpurves</a></strong></li>\n<li><a href=\"https://github.com/jupyter-book/myst-theme/issues/573\">(#573)</a>: <em>➿ Enable flex-wrap in landing-page links</em> by <strong><a href=\"https://github.com/agoose77\">@agoose77</a></strong> merged by <strong><a href=\"https://github.com/agoose77\">@agoose77</a></strong></li>\n<li><a href=\"https://github.com/jupyter-book/myst-theme/issues/576\">(#576)</a>: <em>🖼️ Fix layout of <code>justified</code> landing blocks</em> by <strong><a href=\"https://github.com/agoose77\">@agoose77</a></strong> merged by <strong><a href=\"https://github.com/agoose77\">@agoose77</a></strong></li>\n</ul>"
      }
     },
     "5052809b87dc4dc287d46bdc6db55f6b": {
      "model_module": "@jupyter-widgets/controls",
      "model_module_version": "2.0.0",
      "model_name": "HTMLModel",
      "state": {
       "_dom_classes": [],
       "_model_module": "@jupyter-widgets/controls",
       "_model_module_version": "2.0.0",
       "_model_name": "HTMLModel",
       "_view_count": null,
       "_view_module": "@jupyter-widgets/controls",
       "_view_module_version": "2.0.0",
       "_view_name": "HTMLView",
       "description": "",
       "description_allow_html": false,
       "layout": "IPY_MODEL_b6d8c0f1c6274b03a720b1e57a75b52b",
       "placeholder": "​",
       "style": "IPY_MODEL_d1f16d710f25462bb22703393de62399",
       "tabbable": null,
       "tooltip": null,
       "value": "<h4>Closed PRs for repo: <a href=\"https://github.com/jupyter-book/mystmd.org\">jupyter-book/mystmd.org</a></h4>\n<h5></h5>\n<ul>\n<li><a href=\"https://github.com/jupyter-book/mystmd.org/issues/23\">(#23)</a>: <em>👪 Pass <code>root.children</code> to tree renderer</em> by <strong><a href=\"https://github.com/agoose77\">@agoose77</a></strong> merged by <strong><a href=\"https://github.com/agoose77\">@agoose77</a></strong></li>\n<li><a href=\"https://github.com/jupyter-book/mystmd.org/issues/24\">(#24)</a>: <em>📸 Use picsum instead of unsplash</em> by <strong><a href=\"https://github.com/agoose77\">@agoose77</a></strong> merged by <strong><a href=\"https://github.com/agoose77\">@agoose77</a></strong></li>\n<li><a href=\"https://github.com/jupyter-book/mystmd.org/issues/27\">(#27)</a>: <em>Add workflow dispatch option to vercel deployment</em> by <strong><a href=\"https://github.com/choldgraf\">@choldgraf</a></strong> merged by <strong><a href=\"https://github.com/choldgraf\">@choldgraf</a></strong></li>\n<li><a href=\"https://github.com/jupyter-book/mystmd.org/issues/28\">(#28)</a>: <em>📖 Point to the mystmd documentation guide in our README</em> by <strong><a href=\"https://github.com/choldgraf\">@choldgraf</a></strong> merged by <strong><a href=\"https://github.com/rowanc1\">@rowanc1</a></strong></li>\n<li><a href=\"https://github.com/jupyter-book/mystmd.org/issues/29\">(#29)</a>: <em>🔗 Don't include <code>?url</code> in sandbox copy button link</em> by <strong><a href=\"https://github.com/agoose77\">@agoose77</a></strong> merged by <strong><a href=\"https://github.com/agoose77\">@agoose77</a></strong></li>\n</ul>"
      }
     },
     "50cd223d7a42449aaf6855c5fa28c57c": {
      "model_module": "@jupyter-widgets/controls",
      "model_module_version": "2.0.0",
      "model_name": "HTMLModel",
      "state": {
       "_dom_classes": [],
       "_model_module": "@jupyter-widgets/controls",
       "_model_module_version": "2.0.0",
       "_model_name": "HTMLModel",
       "_view_count": null,
       "_view_module": "@jupyter-widgets/controls",
       "_view_module_version": "2.0.0",
       "_view_name": "HTMLView",
       "description": "",
       "description_allow_html": false,
       "layout": "IPY_MODEL_d4342ec0216043c7997cba169646ae38",
       "placeholder": "​",
       "style": "IPY_MODEL_32fb56a02a8d4df9833eded5a06957f0",
       "tabbable": null,
       "tooltip": null,
       "value": "<h4>Closed PRs for repo: <a href=\"https://github.com/jupyter-book/myst-enhancement-proposals\">jupyter-book/myst-enhancement-proposals</a></h4>\n<h5></h5>\n<ul>\n<li><a href=\"https://github.com/jupyter-book/myst-enhancement-proposals/issues/29\">(#29)</a>: <em>📦 Update actions to newer workflows</em> by <strong><a href=\"https://github.com/rowanc1\">@rowanc1</a></strong> merged by <strong><a href=\"https://github.com/rowanc1\">@rowanc1</a></strong></li>\n<li><a href=\"https://github.com/jupyter-book/myst-enhancement-proposals/issues/31\">(#31)</a>: <em>Add a light PR template for MEPs</em> by <strong><a href=\"https://github.com/choldgraf\">@choldgraf</a></strong> merged by <strong><a href=\"https://github.com/agoose77\">@agoose77</a></strong></li>\n</ul>"
      }
     },
     "55a994c0d9704028822ee1aa8edbdc1a": {
      "model_module": "@jupyter-widgets/controls",
      "model_module_version": "2.0.0",
      "model_name": "HTMLModel",
      "state": {
       "_dom_classes": [],
       "_model_module": "@jupyter-widgets/controls",
       "_model_module_version": "2.0.0",
       "_model_name": "HTMLModel",
       "_view_count": null,
       "_view_module": "@jupyter-widgets/controls",
       "_view_module_version": "2.0.0",
       "_view_name": "HTMLView",
       "description": "",
       "description_allow_html": false,
       "layout": "IPY_MODEL_4623de70b32640ceb8194a2088bbb0e1",
       "placeholder": "​",
       "style": "IPY_MODEL_4b345f5554a84e6fa666212f9e1f130a",
       "tabbable": null,
       "tooltip": null,
       "value": "<h5><a href=\"https://github.com/jupyter-book/jupyter-book\">jupyter-book/jupyter-book</a></h5>\n<ul>\n<li><a href=\"https://github.com/jupyter-book/jupyter-book/issues/2311\">(#2311)</a>: <em>[Bug]: Couldn't push it to github pages using github workflow</em> by <strong><a href=\"https://github.com/prateekshukla1108\">@prateekshukla1108</a></strong></li>\n<li><a href=\"https://github.com/jupyter-book/jupyter-book/issues/2340\">(#2340)</a>: <em>Milestone: Jupyter Book announcement at SciPy 2025</em> by <strong><a href=\"https://github.com/choldgraf\">@choldgraf</a></strong></li>\n<li><a href=\"https://github.com/jupyter-book/jupyter-book/issues/1474\">(#1474)</a>: <em>Add a high-level diagram of Jupyter Book's infrastructure components</em> by <strong><a href=\"https://github.com/choldgraf\">@choldgraf</a></strong></li>\n<li><a href=\"https://github.com/jupyter-book/jupyter-book/issues/2051\">(#2051)</a>: <em>is there a way to have a collapsible/dropdown admonition start opened ?</em> by <strong><a href=\"https://github.com/parmentelat\">@parmentelat</a></strong></li>\n<li><a href=\"https://github.com/jupyter-book/jupyter-book/issues/2347\">(#2347)</a>: <em>Nbody startpoints on a circle,  Verlet</em> by <strong><a href=\"https://github.com/denis-bz\">@denis-bz</a></strong></li>\n</ul>"
      }
     },
     "58ab5899e827455ab7a0d58ace9d480f": {
      "model_module": "@jupyter-widgets/controls",
      "model_module_version": "2.0.0",
      "model_name": "HTMLStyleModel",
      "state": {
       "_model_module": "@jupyter-widgets/controls",
       "_model_module_version": "2.0.0",
       "_model_name": "HTMLStyleModel",
       "_view_count": null,
       "_view_module": "@jupyter-widgets/base",
       "_view_module_version": "2.0.0",
       "_view_name": "StyleView",
       "background": null,
       "description_width": "",
       "font_size": null,
       "text_color": null
      }
     },
     "5921105b80794c82ab8c2e465034c9c2": {
      "model_module": "@jupyter-widgets/base",
      "model_module_version": "2.0.0",
      "model_name": "LayoutModel",
      "state": {
       "_model_module": "@jupyter-widgets/base",
       "_model_module_version": "2.0.0",
       "_model_name": "LayoutModel",
       "_view_count": null,
       "_view_module": "@jupyter-widgets/base",
       "_view_module_version": "2.0.0",
       "_view_name": "LayoutView",
       "align_content": null,
       "align_items": null,
       "align_self": null,
       "border_bottom": null,
       "border_left": null,
       "border_right": null,
       "border_top": null,
       "bottom": null,
       "display": null,
       "flex": null,
       "flex_flow": null,
       "grid_area": null,
       "grid_auto_columns": null,
       "grid_auto_flow": null,
       "grid_auto_rows": null,
       "grid_column": null,
       "grid_gap": null,
       "grid_row": null,
       "grid_template_areas": null,
       "grid_template_columns": null,
       "grid_template_rows": null,
       "height": null,
       "justify_content": null,
       "justify_items": null,
       "left": null,
       "margin": null,
       "max_height": null,
       "max_width": null,
       "min_height": null,
       "min_width": null,
       "object_fit": null,
       "object_position": null,
       "order": null,
       "overflow": null,
       "padding": null,
       "right": null,
       "top": null,
       "visibility": null,
       "width": null
      }
     },
     "64bb3f9f7e544c5cbeb8a9fdd974e29f": {
      "model_module": "@jupyter-widgets/controls",
      "model_module_version": "2.0.0",
      "model_name": "HTMLStyleModel",
      "state": {
       "_model_module": "@jupyter-widgets/controls",
       "_model_module_version": "2.0.0",
       "_model_name": "HTMLStyleModel",
       "_view_count": null,
       "_view_module": "@jupyter-widgets/base",
       "_view_module_version": "2.0.0",
       "_view_name": "StyleView",
       "background": null,
       "description_width": "",
       "font_size": null,
       "text_color": null
      }
     },
     "64cce6ea0c324316938018d76d6b69a3": {
      "model_module": "@jupyter-widgets/controls",
      "model_module_version": "2.0.0",
      "model_name": "HTMLStyleModel",
      "state": {
       "_model_module": "@jupyter-widgets/controls",
       "_model_module_version": "2.0.0",
       "_model_name": "HTMLStyleModel",
       "_view_count": null,
       "_view_module": "@jupyter-widgets/base",
       "_view_module_version": "2.0.0",
       "_view_name": "StyleView",
       "background": null,
       "description_width": "",
       "font_size": null,
       "text_color": null
      }
     },
     "6545eef53aaf4f7dba2cfde0aaab56ce": {
      "model_module": "@jupyter-widgets/controls",
      "model_module_version": "2.0.0",
      "model_name": "HTMLStyleModel",
      "state": {
       "_model_module": "@jupyter-widgets/controls",
       "_model_module_version": "2.0.0",
       "_model_name": "HTMLStyleModel",
       "_view_count": null,
       "_view_module": "@jupyter-widgets/base",
       "_view_module_version": "2.0.0",
       "_view_name": "StyleView",
       "background": null,
       "description_width": "",
       "font_size": null,
       "text_color": null
      }
     },
     "69bb551c1f9c43f9bcd418301efb3625": {
      "model_module": "@jupyter-widgets/base",
      "model_module_version": "2.0.0",
      "model_name": "LayoutModel",
      "state": {
       "_model_module": "@jupyter-widgets/base",
       "_model_module_version": "2.0.0",
       "_model_name": "LayoutModel",
       "_view_count": null,
       "_view_module": "@jupyter-widgets/base",
       "_view_module_version": "2.0.0",
       "_view_name": "LayoutView",
       "align_content": null,
       "align_items": null,
       "align_self": null,
       "border_bottom": null,
       "border_left": null,
       "border_right": null,
       "border_top": null,
       "bottom": null,
       "display": null,
       "flex": null,
       "flex_flow": null,
       "grid_area": null,
       "grid_auto_columns": null,
       "grid_auto_flow": null,
       "grid_auto_rows": null,
       "grid_column": null,
       "grid_gap": null,
       "grid_row": null,
       "grid_template_areas": null,
       "grid_template_columns": null,
       "grid_template_rows": null,
       "height": null,
       "justify_content": null,
       "justify_items": null,
       "left": null,
       "margin": null,
       "max_height": null,
       "max_width": null,
       "min_height": null,
       "min_width": null,
       "object_fit": null,
       "object_position": null,
       "order": null,
       "overflow": null,
       "padding": null,
       "right": null,
       "top": null,
       "visibility": null,
       "width": null
      }
     },
     "6b3e8f4b0ebf4c5e8e580319727eb042": {
      "model_module": "@jupyter-widgets/controls",
      "model_module_version": "2.0.0",
      "model_name": "HTMLStyleModel",
      "state": {
       "_model_module": "@jupyter-widgets/controls",
       "_model_module_version": "2.0.0",
       "_model_name": "HTMLStyleModel",
       "_view_count": null,
       "_view_module": "@jupyter-widgets/base",
       "_view_module_version": "2.0.0",
       "_view_name": "StyleView",
       "background": null,
       "description_width": "",
       "font_size": null,
       "text_color": null
      }
     },
     "6b50678bb7e946b49bbe59bdc2e1153d": {
      "model_module": "@jupyter-widgets/controls",
      "model_module_version": "2.0.0",
      "model_name": "HTMLStyleModel",
      "state": {
       "_model_module": "@jupyter-widgets/controls",
       "_model_module_version": "2.0.0",
       "_model_name": "HTMLStyleModel",
       "_view_count": null,
       "_view_module": "@jupyter-widgets/base",
       "_view_module_version": "2.0.0",
       "_view_name": "StyleView",
       "background": null,
       "description_width": "",
       "font_size": null,
       "text_color": null
      }
     },
     "6d74167a87004f22806b2cd043b55821": {
      "model_module": "@jupyter-widgets/controls",
      "model_module_version": "2.0.0",
      "model_name": "HTMLStyleModel",
      "state": {
       "_model_module": "@jupyter-widgets/controls",
       "_model_module_version": "2.0.0",
       "_model_name": "HTMLStyleModel",
       "_view_count": null,
       "_view_module": "@jupyter-widgets/base",
       "_view_module_version": "2.0.0",
       "_view_name": "StyleView",
       "background": null,
       "description_width": "",
       "font_size": null,
       "text_color": null
      }
     },
     "7879c5947d0c4d3e942318a691637d62": {
      "model_module": "@jupyter-widgets/controls",
      "model_module_version": "2.0.0",
      "model_name": "HTMLModel",
      "state": {
       "_dom_classes": [],
       "_model_module": "@jupyter-widgets/controls",
       "_model_module_version": "2.0.0",
       "_model_name": "HTMLModel",
       "_view_count": null,
       "_view_module": "@jupyter-widgets/controls",
       "_view_module_version": "2.0.0",
       "_view_name": "HTMLView",
       "description": "",
       "description_allow_html": false,
       "layout": "IPY_MODEL_30f0645a419b4ef8846a8eb4e949367f",
       "placeholder": "​",
       "style": "IPY_MODEL_64bb3f9f7e544c5cbeb8a9fdd974e29f",
       "tabbable": null,
       "tooltip": null,
       "value": "<h5><a href=\"https://github.com/jupyter-book/thebe\">jupyter-book/thebe</a></h5>\n<ul>\n<li><a href=\"https://github.com/jupyter-book/thebe/issues/791\">(#791)</a>: <em>Update to JupyterLite 0.6.0</em> by <strong><a href=\"https://github.com/jtpio\">@jtpio</a></strong></li>\n</ul>"
      }
     },
     "78b78ed66d7447f6bb2e730c91059195": {
      "model_module": "@jupyter-widgets/controls",
      "model_module_version": "2.0.0",
      "model_name": "HTMLStyleModel",
      "state": {
       "_model_module": "@jupyter-widgets/controls",
       "_model_module_version": "2.0.0",
       "_model_name": "HTMLStyleModel",
       "_view_count": null,
       "_view_module": "@jupyter-widgets/base",
       "_view_module_version": "2.0.0",
       "_view_name": "StyleView",
       "background": null,
       "description_width": "",
       "font_size": null,
       "text_color": null
      }
     },
     "7a985c4c91d64ae6b9df39487f9cb02f": {
      "model_module": "@jupyter-widgets/base",
      "model_module_version": "2.0.0",
      "model_name": "LayoutModel",
      "state": {
       "_model_module": "@jupyter-widgets/base",
       "_model_module_version": "2.0.0",
       "_model_name": "LayoutModel",
       "_view_count": null,
       "_view_module": "@jupyter-widgets/base",
       "_view_module_version": "2.0.0",
       "_view_name": "LayoutView",
       "align_content": null,
       "align_items": null,
       "align_self": null,
       "border_bottom": null,
       "border_left": null,
       "border_right": null,
       "border_top": null,
       "bottom": null,
       "display": null,
       "flex": null,
       "flex_flow": null,
       "grid_area": null,
       "grid_auto_columns": null,
       "grid_auto_flow": null,
       "grid_auto_rows": null,
       "grid_column": null,
       "grid_gap": null,
       "grid_row": null,
       "grid_template_areas": null,
       "grid_template_columns": null,
       "grid_template_rows": null,
       "height": null,
       "justify_content": null,
       "justify_items": null,
       "left": null,
       "margin": null,
       "max_height": null,
       "max_width": null,
       "min_height": null,
       "min_width": null,
       "object_fit": null,
       "object_position": null,
       "order": null,
       "overflow": null,
       "padding": null,
       "right": null,
       "top": null,
       "visibility": null,
       "width": null
      }
     },
     "7b8023f43e86473f98d587e55a3cb20a": {
      "model_module": "@jupyter-widgets/controls",
      "model_module_version": "2.0.0",
      "model_name": "HTMLModel",
      "state": {
       "_dom_classes": [],
       "_model_module": "@jupyter-widgets/controls",
       "_model_module_version": "2.0.0",
       "_model_name": "HTMLModel",
       "_view_count": null,
       "_view_module": "@jupyter-widgets/controls",
       "_view_module_version": "2.0.0",
       "_view_name": "HTMLView",
       "description": "",
       "description_allow_html": false,
       "layout": "IPY_MODEL_7e5cccccd79a473c880052cc5aa13590",
       "placeholder": "​",
       "style": "IPY_MODEL_2ce712477dfa48fb8150b7f5ff1f420f",
       "tabbable": null,
       "tooltip": null,
       "value": "<h5><a href=\"https://github.com/jupyter-book/mystmd.org\">jupyter-book/mystmd.org</a></h5>\n<ul>\n<li><a href=\"https://github.com/jupyter-book/mystmd.org/issues/22\">(#22)</a>: <em>Update dependencies after adding button-role</em> by <strong><a href=\"https://github.com/jnywong\">@jnywong</a></strong></li>\n<li><a href=\"https://github.com/jupyter-book/mystmd.org/issues/25\">(#25)</a>: <em>We must re-authenticate with Rowan's Vercel project</em> by <strong><a href=\"https://github.com/choldgraf\">@choldgraf</a></strong></li>\n<li><a href=\"https://github.com/jupyter-book/mystmd.org/issues/26\">(#26)</a>: <em>Document our Vercel deployment and share access to the steering council</em> by <strong><a href=\"https://github.com/choldgraf\">@choldgraf</a></strong></li>\n</ul>"
      }
     },
     "7e5cccccd79a473c880052cc5aa13590": {
      "model_module": "@jupyter-widgets/base",
      "model_module_version": "2.0.0",
      "model_name": "LayoutModel",
      "state": {
       "_model_module": "@jupyter-widgets/base",
       "_model_module_version": "2.0.0",
       "_model_name": "LayoutModel",
       "_view_count": null,
       "_view_module": "@jupyter-widgets/base",
       "_view_module_version": "2.0.0",
       "_view_name": "LayoutView",
       "align_content": null,
       "align_items": null,
       "align_self": null,
       "border_bottom": null,
       "border_left": null,
       "border_right": null,
       "border_top": null,
       "bottom": null,
       "display": null,
       "flex": null,
       "flex_flow": null,
       "grid_area": null,
       "grid_auto_columns": null,
       "grid_auto_flow": null,
       "grid_auto_rows": null,
       "grid_column": null,
       "grid_gap": null,
       "grid_row": null,
       "grid_template_areas": null,
       "grid_template_columns": null,
       "grid_template_rows": null,
       "height": null,
       "justify_content": null,
       "justify_items": null,
       "left": null,
       "margin": null,
       "max_height": null,
       "max_width": null,
       "min_height": null,
       "min_width": null,
       "object_fit": null,
       "object_position": null,
       "order": null,
       "overflow": null,
       "padding": null,
       "right": null,
       "top": null,
       "visibility": null,
       "width": null
      }
     },
     "81eb502e38a14872b2593064b289d894": {
      "model_module": "@jupyter-widgets/base",
      "model_module_version": "2.0.0",
      "model_name": "LayoutModel",
      "state": {
       "_model_module": "@jupyter-widgets/base",
       "_model_module_version": "2.0.0",
       "_model_name": "LayoutModel",
       "_view_count": null,
       "_view_module": "@jupyter-widgets/base",
       "_view_module_version": "2.0.0",
       "_view_name": "LayoutView",
       "align_content": null,
       "align_items": null,
       "align_self": null,
       "border_bottom": null,
       "border_left": null,
       "border_right": null,
       "border_top": null,
       "bottom": null,
       "display": null,
       "flex": null,
       "flex_flow": null,
       "grid_area": null,
       "grid_auto_columns": null,
       "grid_auto_flow": null,
       "grid_auto_rows": null,
       "grid_column": null,
       "grid_gap": null,
       "grid_row": null,
       "grid_template_areas": null,
       "grid_template_columns": null,
       "grid_template_rows": null,
       "height": null,
       "justify_content": null,
       "justify_items": null,
       "left": null,
       "margin": null,
       "max_height": null,
       "max_width": null,
       "min_height": null,
       "min_width": null,
       "object_fit": null,
       "object_position": null,
       "order": null,
       "overflow": null,
       "padding": null,
       "right": null,
       "top": null,
       "visibility": null,
       "width": null
      }
     },
     "8b20b15b285641a7bf8c5c2fc3ba104d": {
      "model_module": "@jupyter-widgets/controls",
      "model_module_version": "2.0.0",
      "model_name": "HTMLModel",
      "state": {
       "_dom_classes": [],
       "_model_module": "@jupyter-widgets/controls",
       "_model_module_version": "2.0.0",
       "_model_name": "HTMLModel",
       "_view_count": null,
       "_view_module": "@jupyter-widgets/controls",
       "_view_module_version": "2.0.0",
       "_view_name": "HTMLView",
       "description": "",
       "description_allow_html": false,
       "layout": "IPY_MODEL_a2f3f23f7f574fb193b4018635bd51bf",
       "placeholder": "​",
       "style": "IPY_MODEL_2fb839cfebf147c9a9f2a7ca031679b2",
       "tabbable": null,
       "tooltip": null,
       "value": "<h5><a href=\"https://github.com/jupyter-book/mystmd.org\">jupyter-book/mystmd.org</a></h5>\n<ul>\n<li><a href=\"https://github.com/jupyter-book/mystmd.org/issues/22\">(#22)</a>: <em>Update dependencies after adding button-role</em> by <strong><a href=\"https://github.com/jnywong\">@jnywong</a></strong></li>\n<li><a href=\"https://github.com/jupyter-book/mystmd.org/issues/25\">(#25)</a>: <em>We must re-authenticate with Rowan's Vercel project</em> by <strong><a href=\"https://github.com/choldgraf\">@choldgraf</a></strong></li>\n<li><a href=\"https://github.com/jupyter-book/mystmd.org/issues/26\">(#26)</a>: <em>Document our Vercel deployment and share access to the steering council</em> by <strong><a href=\"https://github.com/choldgraf\">@choldgraf</a></strong></li>\n</ul>"
      }
     },
     "90bec71878af47208cad4c0e11c08d51": {
      "model_module": "@jupyter-widgets/controls",
      "model_module_version": "2.0.0",
      "model_name": "HTMLModel",
      "state": {
       "_dom_classes": [],
       "_model_module": "@jupyter-widgets/controls",
       "_model_module_version": "2.0.0",
       "_model_name": "HTMLModel",
       "_view_count": null,
       "_view_module": "@jupyter-widgets/controls",
       "_view_module_version": "2.0.0",
       "_view_name": "HTMLView",
       "description": "",
       "description_allow_html": false,
       "layout": "IPY_MODEL_2aeef3eed65746baa5a21f40ba5d787e",
       "placeholder": "​",
       "style": "IPY_MODEL_78b78ed66d7447f6bb2e730c91059195",
       "tabbable": null,
       "tooltip": null,
       "value": "<h5><a href=\"https://github.com/jupyter-book/myst-theme\">jupyter-book/myst-theme</a></h5>\n<ul>\n<li><a href=\"https://github.com/jupyter-book/myst-theme/issues/527\">(#527)</a>: <em>Support Bokeh Plots</em> by <strong><a href=\"https://github.com/acocac\">@acocac</a></strong></li>\n<li><a href=\"https://github.com/jupyter-book/myst-theme/issues/567\">(#567)</a>: <em>Move colour choices to theme variables</em> by <strong><a href=\"https://github.com/agoose77\">@agoose77</a></strong></li>\n<li><a href=\"https://github.com/jupyter-book/myst-theme/issues/342\">(#342)</a>: <em>HTML served with <code>&lt;img src=http://localhost:3100&gt; even with</code>HOST=10.0.0.1 myst start --keep-host`</em> by <strong><a href=\"https://github.com/drewlio\">@drewlio</a></strong></li>\n<li><a href=\"https://github.com/jupyter-book/myst-theme/issues/474\">(#474)</a>: <em>Landing Pages with widget layouts</em> by <strong><a href=\"https://github.com/choldgraf\">@choldgraf</a></strong></li>\n<li><a href=\"https://github.com/jupyter-book/myst-theme/issues/558\">(#558)</a>: <em>Improve Static HTML Builds (upgrading Remix)</em> by <strong><a href=\"https://github.com/rowanc1\">@rowanc1</a></strong></li>\n</ul>"
      }
     },
     "9147f4bdd33b45eab3dda636f7356b98": {
      "model_module": "@jupyter-widgets/base",
      "model_module_version": "2.0.0",
      "model_name": "LayoutModel",
      "state": {
       "_model_module": "@jupyter-widgets/base",
       "_model_module_version": "2.0.0",
       "_model_name": "LayoutModel",
       "_view_count": null,
       "_view_module": "@jupyter-widgets/base",
       "_view_module_version": "2.0.0",
       "_view_name": "LayoutView",
       "align_content": null,
       "align_items": null,
       "align_self": null,
       "border_bottom": null,
       "border_left": null,
       "border_right": null,
       "border_top": null,
       "bottom": null,
       "display": null,
       "flex": null,
       "flex_flow": null,
       "grid_area": null,
       "grid_auto_columns": null,
       "grid_auto_flow": null,
       "grid_auto_rows": null,
       "grid_column": null,
       "grid_gap": null,
       "grid_row": null,
       "grid_template_areas": null,
       "grid_template_columns": null,
       "grid_template_rows": null,
       "height": null,
       "justify_content": null,
       "justify_items": null,
       "left": null,
       "margin": null,
       "max_height": null,
       "max_width": null,
       "min_height": null,
       "min_width": null,
       "object_fit": null,
       "object_position": null,
       "order": null,
       "overflow": null,
       "padding": null,
       "right": null,
       "top": null,
       "visibility": null,
       "width": null
      }
     },
     "930d87350397455fbfbea6f1fb298ca7": {
      "model_module": "@jupyter-widgets/base",
      "model_module_version": "2.0.0",
      "model_name": "LayoutModel",
      "state": {
       "_model_module": "@jupyter-widgets/base",
       "_model_module_version": "2.0.0",
       "_model_name": "LayoutModel",
       "_view_count": null,
       "_view_module": "@jupyter-widgets/base",
       "_view_module_version": "2.0.0",
       "_view_name": "LayoutView",
       "align_content": null,
       "align_items": null,
       "align_self": null,
       "border_bottom": null,
       "border_left": null,
       "border_right": null,
       "border_top": null,
       "bottom": null,
       "display": null,
       "flex": null,
       "flex_flow": null,
       "grid_area": null,
       "grid_auto_columns": null,
       "grid_auto_flow": null,
       "grid_auto_rows": null,
       "grid_column": null,
       "grid_gap": null,
       "grid_row": null,
       "grid_template_areas": null,
       "grid_template_columns": null,
       "grid_template_rows": null,
       "height": null,
       "justify_content": null,
       "justify_items": null,
       "left": null,
       "margin": null,
       "max_height": null,
       "max_width": null,
       "min_height": null,
       "min_width": null,
       "object_fit": null,
       "object_position": null,
       "order": null,
       "overflow": null,
       "padding": null,
       "right": null,
       "top": null,
       "visibility": null,
       "width": null
      }
     },
     "9907462c87684423bf2b0033b028f0b4": {
      "model_module": "@jupyter-widgets/base",
      "model_module_version": "2.0.0",
      "model_name": "LayoutModel",
      "state": {
       "_model_module": "@jupyter-widgets/base",
       "_model_module_version": "2.0.0",
       "_model_name": "LayoutModel",
       "_view_count": null,
       "_view_module": "@jupyter-widgets/base",
       "_view_module_version": "2.0.0",
       "_view_name": "LayoutView",
       "align_content": null,
       "align_items": null,
       "align_self": null,
       "border_bottom": null,
       "border_left": null,
       "border_right": null,
       "border_top": null,
       "bottom": null,
       "display": null,
       "flex": null,
       "flex_flow": null,
       "grid_area": null,
       "grid_auto_columns": null,
       "grid_auto_flow": null,
       "grid_auto_rows": null,
       "grid_column": null,
       "grid_gap": null,
       "grid_row": null,
       "grid_template_areas": null,
       "grid_template_columns": null,
       "grid_template_rows": null,
       "height": null,
       "justify_content": null,
       "justify_items": null,
       "left": null,
       "margin": null,
       "max_height": null,
       "max_width": null,
       "min_height": null,
       "min_width": null,
       "object_fit": null,
       "object_position": null,
       "order": null,
       "overflow": null,
       "padding": null,
       "right": null,
       "top": null,
       "visibility": null,
       "width": null
      }
     },
     "9d55199265a148b08a27813c5b39fef8": {
      "model_module": "@jupyter-widgets/base",
      "model_module_version": "2.0.0",
      "model_name": "LayoutModel",
      "state": {
       "_model_module": "@jupyter-widgets/base",
       "_model_module_version": "2.0.0",
       "_model_name": "LayoutModel",
       "_view_count": null,
       "_view_module": "@jupyter-widgets/base",
       "_view_module_version": "2.0.0",
       "_view_name": "LayoutView",
       "align_content": null,
       "align_items": null,
       "align_self": null,
       "border_bottom": null,
       "border_left": null,
       "border_right": null,
       "border_top": null,
       "bottom": null,
       "display": null,
       "flex": null,
       "flex_flow": null,
       "grid_area": null,
       "grid_auto_columns": null,
       "grid_auto_flow": null,
       "grid_auto_rows": null,
       "grid_column": null,
       "grid_gap": null,
       "grid_row": null,
       "grid_template_areas": null,
       "grid_template_columns": null,
       "grid_template_rows": null,
       "height": null,
       "justify_content": null,
       "justify_items": null,
       "left": null,
       "margin": null,
       "max_height": null,
       "max_width": null,
       "min_height": null,
       "min_width": null,
       "object_fit": null,
       "object_position": null,
       "order": null,
       "overflow": null,
       "padding": null,
       "right": null,
       "top": null,
       "visibility": null,
       "width": null
      }
     },
     "a116da90892d4a16830a153684b78011": {
      "model_module": "@jupyter-widgets/controls",
      "model_module_version": "2.0.0",
      "model_name": "HTMLModel",
      "state": {
       "_dom_classes": [],
       "_model_module": "@jupyter-widgets/controls",
       "_model_module_version": "2.0.0",
       "_model_name": "HTMLModel",
       "_view_count": null,
       "_view_module": "@jupyter-widgets/controls",
       "_view_module_version": "2.0.0",
       "_view_name": "HTMLView",
       "description": "",
       "description_allow_html": false,
       "layout": "IPY_MODEL_a93459d2f3a0425a8fb48e28f8f7ee40",
       "placeholder": "​",
       "style": "IPY_MODEL_6d74167a87004f22806b2cd043b55821",
       "tabbable": null,
       "tooltip": null,
       "value": "<h5><a href=\"https://github.com/jupyter-book/jupyterlab-myst\">jupyter-book/jupyterlab-myst</a></h5>\n<ul>\n<li><a href=\"https://github.com/jupyter-book/jupyterlab-myst/issues/243\">(#243)</a>: <em>Scrolling over notebook got unexpected jump backs</em> by <strong><a href=\"https://github.com/AllanChain\">@AllanChain</a></strong></li>\n<li><a href=\"https://github.com/jupyter-book/jupyterlab-myst/issues/257\">(#257)</a>: <em>Dancing Page</em> by <strong><a href=\"https://github.com/microcoder\">@microcoder</a></strong></li>\n<li><a href=\"https://github.com/jupyter-book/jupyterlab-myst/issues/248\">(#248)</a>: <em>Do Not highlight links</em> by <strong><a href=\"https://github.com/microcoder\">@microcoder</a></strong></li>\n<li><a href=\"https://github.com/jupyter-book/jupyterlab-myst/issues/175\">(#175)</a>: <em><code>eval</code> role not working as expected</em> by <strong><a href=\"https://github.com/rkansal47\">@rkansal47</a></strong></li>\n<li><a href=\"https://github.com/jupyter-book/jupyterlab-myst/issues/250\">(#250)</a>: <em>Scrolling is stucking on the page</em> by <strong><a href=\"https://github.com/microcoder\">@microcoder</a></strong></li>\n</ul>"
      }
     },
     "a2f3f23f7f574fb193b4018635bd51bf": {
      "model_module": "@jupyter-widgets/base",
      "model_module_version": "2.0.0",
      "model_name": "LayoutModel",
      "state": {
       "_model_module": "@jupyter-widgets/base",
       "_model_module_version": "2.0.0",
       "_model_name": "LayoutModel",
       "_view_count": null,
       "_view_module": "@jupyter-widgets/base",
       "_view_module_version": "2.0.0",
       "_view_name": "LayoutView",
       "align_content": null,
       "align_items": null,
       "align_self": null,
       "border_bottom": null,
       "border_left": null,
       "border_right": null,
       "border_top": null,
       "bottom": null,
       "display": null,
       "flex": null,
       "flex_flow": null,
       "grid_area": null,
       "grid_auto_columns": null,
       "grid_auto_flow": null,
       "grid_auto_rows": null,
       "grid_column": null,
       "grid_gap": null,
       "grid_row": null,
       "grid_template_areas": null,
       "grid_template_columns": null,
       "grid_template_rows": null,
       "height": null,
       "justify_content": null,
       "justify_items": null,
       "left": null,
       "margin": null,
       "max_height": null,
       "max_width": null,
       "min_height": null,
       "min_width": null,
       "object_fit": null,
       "object_position": null,
       "order": null,
       "overflow": null,
       "padding": null,
       "right": null,
       "top": null,
       "visibility": null,
       "width": null
      }
     },
     "a7b862d8ab4d48bf90568349fddcd10d": {
      "model_module": "@jupyter-widgets/base",
      "model_module_version": "2.0.0",
      "model_name": "LayoutModel",
      "state": {
       "_model_module": "@jupyter-widgets/base",
       "_model_module_version": "2.0.0",
       "_model_name": "LayoutModel",
       "_view_count": null,
       "_view_module": "@jupyter-widgets/base",
       "_view_module_version": "2.0.0",
       "_view_name": "LayoutView",
       "align_content": null,
       "align_items": null,
       "align_self": null,
       "border_bottom": null,
       "border_left": null,
       "border_right": null,
       "border_top": null,
       "bottom": null,
       "display": null,
       "flex": null,
       "flex_flow": null,
       "grid_area": null,
       "grid_auto_columns": null,
       "grid_auto_flow": null,
       "grid_auto_rows": null,
       "grid_column": null,
       "grid_gap": null,
       "grid_row": null,
       "grid_template_areas": null,
       "grid_template_columns": null,
       "grid_template_rows": null,
       "height": null,
       "justify_content": null,
       "justify_items": null,
       "left": null,
       "margin": null,
       "max_height": null,
       "max_width": null,
       "min_height": null,
       "min_width": null,
       "object_fit": null,
       "object_position": null,
       "order": null,
       "overflow": null,
       "padding": null,
       "right": null,
       "top": null,
       "visibility": null,
       "width": null
      }
     },
     "a86cf2f2db634a23950cfc4e77ff00f4": {
      "model_module": "@jupyter-widgets/controls",
      "model_module_version": "2.0.0",
      "model_name": "HTMLModel",
      "state": {
       "_dom_classes": [],
       "_model_module": "@jupyter-widgets/controls",
       "_model_module_version": "2.0.0",
       "_model_name": "HTMLModel",
       "_view_count": null,
       "_view_module": "@jupyter-widgets/controls",
       "_view_module_version": "2.0.0",
       "_view_name": "HTMLView",
       "description": "",
       "description_allow_html": false,
       "layout": "IPY_MODEL_a7b862d8ab4d48bf90568349fddcd10d",
       "placeholder": "​",
       "style": "IPY_MODEL_19fa51e0f57944218ee107fe2a3cbacf",
       "tabbable": null,
       "tooltip": null,
       "value": "<h5><a href=\"https://github.com/jupyter-book/team-compass\">jupyter-book/team-compass</a></h5>\n<ul>\n<li><a href=\"https://github.com/jupyter-book/team-compass/issues/20\">(#20)</a>: <em>Run publicly accessible team meetings</em> by <strong><a href=\"https://github.com/choldgraf\">@choldgraf</a></strong></li>\n<li><a href=\"https://github.com/jupyter-book/team-compass/issues/24\">(#24)</a>: <em>Move our DNS owner from squarespace to Jupyter's CloudFlare</em> by <strong><a href=\"https://github.com/choldgraf\">@choldgraf</a></strong></li>\n<li><a href=\"https://github.com/jupyter-book/team-compass/issues/25\">(#25)</a>: <em>Make our documentation deployment infrastructure available to all jupyter book team members</em> by <strong><a href=\"https://github.com/choldgraf\">@choldgraf</a></strong></li>\n</ul>"
      }
     },
     "a93459d2f3a0425a8fb48e28f8f7ee40": {
      "model_module": "@jupyter-widgets/base",
      "model_module_version": "2.0.0",
      "model_name": "LayoutModel",
      "state": {
       "_model_module": "@jupyter-widgets/base",
       "_model_module_version": "2.0.0",
       "_model_name": "LayoutModel",
       "_view_count": null,
       "_view_module": "@jupyter-widgets/base",
       "_view_module_version": "2.0.0",
       "_view_name": "LayoutView",
       "align_content": null,
       "align_items": null,
       "align_self": null,
       "border_bottom": null,
       "border_left": null,
       "border_right": null,
       "border_top": null,
       "bottom": null,
       "display": null,
       "flex": null,
       "flex_flow": null,
       "grid_area": null,
       "grid_auto_columns": null,
       "grid_auto_flow": null,
       "grid_auto_rows": null,
       "grid_column": null,
       "grid_gap": null,
       "grid_row": null,
       "grid_template_areas": null,
       "grid_template_columns": null,
       "grid_template_rows": null,
       "height": null,
       "justify_content": null,
       "justify_items": null,
       "left": null,
       "margin": null,
       "max_height": null,
       "max_width": null,
       "min_height": null,
       "min_width": null,
       "object_fit": null,
       "object_position": null,
       "order": null,
       "overflow": null,
       "padding": null,
       "right": null,
       "top": null,
       "visibility": null,
       "width": null
      }
     },
     "aad063a8209d4935b76729660e98db1b": {
      "model_module": "@jupyter-widgets/controls",
      "model_module_version": "2.0.0",
      "model_name": "HTMLStyleModel",
      "state": {
       "_model_module": "@jupyter-widgets/controls",
       "_model_module_version": "2.0.0",
       "_model_name": "HTMLStyleModel",
       "_view_count": null,
       "_view_module": "@jupyter-widgets/base",
       "_view_module_version": "2.0.0",
       "_view_name": "StyleView",
       "background": null,
       "description_width": "",
       "font_size": null,
       "text_color": null
      }
     },
     "b6d8c0f1c6274b03a720b1e57a75b52b": {
      "model_module": "@jupyter-widgets/base",
      "model_module_version": "2.0.0",
      "model_name": "LayoutModel",
      "state": {
       "_model_module": "@jupyter-widgets/base",
       "_model_module_version": "2.0.0",
       "_model_name": "LayoutModel",
       "_view_count": null,
       "_view_module": "@jupyter-widgets/base",
       "_view_module_version": "2.0.0",
       "_view_name": "LayoutView",
       "align_content": null,
       "align_items": null,
       "align_self": null,
       "border_bottom": null,
       "border_left": null,
       "border_right": null,
       "border_top": null,
       "bottom": null,
       "display": null,
       "flex": null,
       "flex_flow": null,
       "grid_area": null,
       "grid_auto_columns": null,
       "grid_auto_flow": null,
       "grid_auto_rows": null,
       "grid_column": null,
       "grid_gap": null,
       "grid_row": null,
       "grid_template_areas": null,
       "grid_template_columns": null,
       "grid_template_rows": null,
       "height": null,
       "justify_content": null,
       "justify_items": null,
       "left": null,
       "margin": null,
       "max_height": null,
       "max_width": null,
       "min_height": null,
       "min_width": null,
       "object_fit": null,
       "object_position": null,
       "order": null,
       "overflow": null,
       "padding": null,
       "right": null,
       "top": null,
       "visibility": null,
       "width": null
      }
     },
     "bd7c1fcc182b4b9dbc28e057a8d015f7": {
      "model_module": "@jupyter-widgets/controls",
      "model_module_version": "2.0.0",
      "model_name": "HTMLModel",
      "state": {
       "_dom_classes": [],
       "_model_module": "@jupyter-widgets/controls",
       "_model_module_version": "2.0.0",
       "_model_name": "HTMLModel",
       "_view_count": null,
       "_view_module": "@jupyter-widgets/controls",
       "_view_module_version": "2.0.0",
       "_view_name": "HTMLView",
       "description": "",
       "description_allow_html": false,
       "layout": "IPY_MODEL_1988399fddb147c884268ab42580140b",
       "placeholder": "​",
       "style": "IPY_MODEL_58ab5899e827455ab7a0d58ace9d480f",
       "tabbable": null,
       "tooltip": null,
       "value": "<h5><a href=\"https://github.com/jupyter-book/myst-enhancement-proposals\">jupyter-book/myst-enhancement-proposals</a></h5>\n<ul>\n<li><a href=\"https://github.com/jupyter-book/myst-enhancement-proposals/issues/30\">(#30)</a>: <em>[MEP process] Define separate proposal and implementation stages</em> by <strong><a href=\"https://github.com/mmcky\">@mmcky</a></strong></li>\n</ul>"
      }
     },
     "c72cb6ebc346499da456482985802a2e": {
      "model_module": "@jupyter-widgets/base",
      "model_module_version": "2.0.0",
      "model_name": "LayoutModel",
      "state": {
       "_model_module": "@jupyter-widgets/base",
       "_model_module_version": "2.0.0",
       "_model_name": "LayoutModel",
       "_view_count": null,
       "_view_module": "@jupyter-widgets/base",
       "_view_module_version": "2.0.0",
       "_view_name": "LayoutView",
       "align_content": null,
       "align_items": null,
       "align_self": null,
       "border_bottom": null,
       "border_left": null,
       "border_right": null,
       "border_top": null,
       "bottom": null,
       "display": null,
       "flex": null,
       "flex_flow": null,
       "grid_area": null,
       "grid_auto_columns": null,
       "grid_auto_flow": null,
       "grid_auto_rows": null,
       "grid_column": null,
       "grid_gap": null,
       "grid_row": null,
       "grid_template_areas": null,
       "grid_template_columns": null,
       "grid_template_rows": null,
       "height": null,
       "justify_content": null,
       "justify_items": null,
       "left": null,
       "margin": null,
       "max_height": null,
       "max_width": null,
       "min_height": null,
       "min_width": null,
       "object_fit": null,
       "object_position": null,
       "order": null,
       "overflow": null,
       "padding": null,
       "right": null,
       "top": null,
       "visibility": null,
       "width": null
      }
     },
     "c846a6abe10149998cd8f09690dfef1a": {
      "model_module": "@jupyter-widgets/controls",
      "model_module_version": "2.0.0",
      "model_name": "HTMLModel",
      "state": {
       "_dom_classes": [],
       "_model_module": "@jupyter-widgets/controls",
       "_model_module_version": "2.0.0",
       "_model_name": "HTMLModel",
       "_view_count": null,
       "_view_module": "@jupyter-widgets/controls",
       "_view_module_version": "2.0.0",
       "_view_name": "HTMLView",
       "description": "",
       "description_allow_html": false,
       "layout": "IPY_MODEL_69bb551c1f9c43f9bcd418301efb3625",
       "placeholder": "​",
       "style": "IPY_MODEL_fbf6ed603c0c40bba7caa0e5cfc51bcf",
       "tabbable": null,
       "tooltip": null,
       "value": "<ul>\n<li>(35) Support for RISE slides - jupyter-book - <a href=\"https://github.com/jupyter-book/jupyter-book/issues/792\">#792</a></li>\n<li>(34) Allow margin notes to have references in the text and hide them by default on mobile - jupyter-book - <a href=\"https://github.com/jupyter-book/jupyter-book/issues/598\">#598</a></li>\n<li>(32) Support blogs - jupyter-book - <a href=\"https://github.com/jupyter-book/jupyter-book/issues/900\">#900</a></li>\n<li>(28) Add support for multiple themes / theming - jupyter-book - <a href=\"https://github.com/jupyter-book/jupyter-book/issues/262\">#262</a></li>\n<li>(26) Support for executing notebooks in parallel during JupyterBook Build - jupyter-book - <a href=\"https://github.com/jupyter-book/jupyter-book/issues/1735\">#1735</a></li>\n<li>(22) Author, year citations - jupyter-book - <a href=\"https://github.com/jupyter-book/jupyter-book/issues/1090\">#1090</a></li>\n<li>(22) Tag to skip cell execution - jupyter-book - <a href=\"https://github.com/jupyter-book/jupyter-book/issues/833\">#833</a></li>\n<li>(19) Export a single HTML file with all assets included - jupyter-book - <a href=\"https://github.com/jupyter-book/jupyter-book/issues/1046\">#1046</a></li>\n<li>(17) Adding directives for \"question and answer\" blocks - jupyter-book - <a href=\"https://github.com/jupyter-book/jupyter-book/issues/536\">#536</a></li>\n<li>(15) Allow setting all inputs as hidden by default - jupyter-book - <a href=\"https://github.com/jupyter-book/jupyter-book/issues/666\">#666</a></li>\n<li>(14) Run code client-side with JupyterLite - jupyter-book - <a href=\"https://github.com/jupyter-book/jupyter-book/issues/1344\">#1344</a></li>\n<li>(12) Nest code-cells inside of admonitions and block-level syntax in myst notebooks - jupyter-book - <a href=\"https://github.com/jupyter-book/jupyter-book/issues/1178\">#1178</a></li>\n<li>(12) Tables and figures produced by code cells are not numbered and tables don't have captions - jupyter-book - <a href=\"https://github.com/jupyter-book/jupyter-book/issues/1247\">#1247</a></li>\n<li>(12) v0.13 has broken utterances - jupyter-book - <a href=\"https://github.com/jupyter-book/jupyter-book/issues/1762\">#1762</a></li>\n<li>(10) Thebe integration: Modify sources - mystmd - <a href=\"https://github.com/jupyter-book/mystmd/issues/443\">#443</a></li>\n<li>(10) Versioning support - jupyter-book - <a href=\"https://github.com/jupyter-book/jupyter-book/issues/683\">#683</a></li>\n<li>(10) Full width option? - jupyter-book - <a href=\"https://github.com/jupyter-book/jupyter-book/issues/1904\">#1904</a></li>\n<li>(9) Generating a PDF of an entire Jupyter Book - jupyter-book - <a href=\"https://github.com/jupyter-book/jupyter-book/issues/1106\">#1106</a></li>\n<li>(9) Add an author to pages - jupyter-book - <a href=\"https://github.com/jupyter-book/jupyter-book/issues/1098\">#1098</a></li>\n<li>(9) Add support for translations / internationalization / localization of page elements - mystmd - <a href=\"https://github.com/jupyter-book/mystmd/issues/166\">#166</a></li>\n<li>(8) [ENH] Add Tufte style - jupyter-book - <a href=\"https://github.com/jupyter-book/jupyter-book/issues/255\">#255</a></li>\n<li>(8) problems rendering to pdf: \"skip to main content\" overlaying over text - jupyter-book - <a href=\"https://github.com/jupyter-book/jupyter-book/issues/2045\">#2045</a></li>\n<li>(8) Tracking: Numpy Tutorials - mystmd - <a href=\"https://github.com/jupyter-book/mystmd/issues/1270\">#1270</a></li>\n<li>(7) Automatic figure captioning for both static and interactive plots - jupyter-book - <a href=\"https://github.com/jupyter-book/jupyter-book/issues/1401\">#1401</a></li>\n<li>(7) Document how to disable the download button - jupyter-book - <a href=\"https://github.com/jupyter-book/jupyter-book/issues/1186\">#1186</a></li>\n</ul>"
      }
     },
     "c995984c005945c483b9119d1f7f26eb": {
      "model_module": "@jupyter-widgets/controls",
      "model_module_version": "2.0.0",
      "model_name": "HTMLModel",
      "state": {
       "_dom_classes": [],
       "_model_module": "@jupyter-widgets/controls",
       "_model_module_version": "2.0.0",
       "_model_name": "HTMLModel",
       "_view_count": null,
       "_view_module": "@jupyter-widgets/controls",
       "_view_module_version": "2.0.0",
       "_view_name": "HTMLView",
       "description": "",
       "description_allow_html": false,
       "layout": "IPY_MODEL_faab92e5b21e4c7d8a8d8a31dbe822da",
       "placeholder": "​",
       "style": "IPY_MODEL_6545eef53aaf4f7dba2cfde0aaab56ce",
       "tabbable": null,
       "tooltip": null,
       "value": "<h4>Closed PRs for repo: <a href=\"https://github.com/jupyter-book/team-compass\">jupyter-book/team-compass</a></h4>\n<h5></h5>\n<ul>\n<li><a href=\"https://github.com/jupyter-book/team-compass/issues/15\">(#15)</a>: <em>🧹 Drop images (now referenced from <code>meta</code>)</em> by <strong><a href=\"https://github.com/agoose77\">@agoose77</a></strong> merged by <strong><a href=\"https://github.com/choldgraf\">@choldgraf</a></strong></li>\n<li><a href=\"https://github.com/jupyter-book/team-compass/issues/18\">(#18)</a>: <em>Adding light decision making process</em> by <strong><a href=\"https://github.com/choldgraf\">@choldgraf</a></strong> merged by <strong><a href=\"https://github.com/choldgraf\">@choldgraf</a></strong></li>\n<li><a href=\"https://github.com/jupyter-book/team-compass/issues/23\">(#23)</a>: <em>🗓️ Add meeting schedule</em> by <strong><a href=\"https://github.com/agoose77\">@agoose77</a></strong> merged by <strong><a href=\"https://github.com/agoose77\">@agoose77</a></strong></li>\n</ul>"
      }
     },
     "d1f16d710f25462bb22703393de62399": {
      "model_module": "@jupyter-widgets/controls",
      "model_module_version": "2.0.0",
      "model_name": "HTMLStyleModel",
      "state": {
       "_model_module": "@jupyter-widgets/controls",
       "_model_module_version": "2.0.0",
       "_model_name": "HTMLStyleModel",
       "_view_count": null,
       "_view_module": "@jupyter-widgets/base",
       "_view_module_version": "2.0.0",
       "_view_name": "StyleView",
       "background": null,
       "description_width": "",
       "font_size": null,
       "text_color": null
      }
     },
     "d2b5404076d64c3a9ff8f874be358e77": {
      "model_module": "@jupyter-widgets/controls",
      "model_module_version": "2.0.0",
      "model_name": "HTMLModel",
      "state": {
       "_dom_classes": [],
       "_model_module": "@jupyter-widgets/controls",
       "_model_module_version": "2.0.0",
       "_model_name": "HTMLModel",
       "_view_count": null,
       "_view_module": "@jupyter-widgets/controls",
       "_view_module_version": "2.0.0",
       "_view_name": "HTMLView",
       "description": "",
       "description_allow_html": false,
       "layout": "IPY_MODEL_033ad27548e747b79d9854bba3ed7d36",
       "placeholder": "​",
       "style": "IPY_MODEL_6b50678bb7e946b49bbe59bdc2e1153d",
       "tabbable": null,
       "tooltip": null,
       "value": "<h5><a href=\"https://github.com/jupyter-book/jupyter-book\">jupyter-book/jupyter-book</a></h5>\n<ul>\n<li><a href=\"https://github.com/jupyter-book/jupyter-book/issues/2311\">(#2311)</a>: <em>[Bug]: Couldn't push it to github pages using github workflow</em> by <strong><a href=\"https://github.com/prateekshukla1108\">@prateekshukla1108</a></strong></li>\n<li><a href=\"https://github.com/jupyter-book/jupyter-book/issues/2340\">(#2340)</a>: <em>Milestone: Jupyter Book announcement at SciPy 2025</em> by <strong><a href=\"https://github.com/choldgraf\">@choldgraf</a></strong></li>\n<li><a href=\"https://github.com/jupyter-book/jupyter-book/issues/1474\">(#1474)</a>: <em>Add a high-level diagram of Jupyter Book's infrastructure components</em> by <strong><a href=\"https://github.com/choldgraf\">@choldgraf</a></strong></li>\n<li><a href=\"https://github.com/jupyter-book/jupyter-book/issues/2051\">(#2051)</a>: <em>is there a way to have a collapsible/dropdown admonition start opened ?</em> by <strong><a href=\"https://github.com/parmentelat\">@parmentelat</a></strong></li>\n<li><a href=\"https://github.com/jupyter-book/jupyter-book/issues/2347\">(#2347)</a>: <em>Nbody startpoints on a circle,  Verlet</em> by <strong><a href=\"https://github.com/denis-bz\">@denis-bz</a></strong></li>\n</ul>"
      }
     },
     "d4342ec0216043c7997cba169646ae38": {
      "model_module": "@jupyter-widgets/base",
      "model_module_version": "2.0.0",
      "model_name": "LayoutModel",
      "state": {
       "_model_module": "@jupyter-widgets/base",
       "_model_module_version": "2.0.0",
       "_model_name": "LayoutModel",
       "_view_count": null,
       "_view_module": "@jupyter-widgets/base",
       "_view_module_version": "2.0.0",
       "_view_name": "LayoutView",
       "align_content": null,
       "align_items": null,
       "align_self": null,
       "border_bottom": null,
       "border_left": null,
       "border_right": null,
       "border_top": null,
       "bottom": null,
       "display": null,
       "flex": null,
       "flex_flow": null,
       "grid_area": null,
       "grid_auto_columns": null,
       "grid_auto_flow": null,
       "grid_auto_rows": null,
       "grid_column": null,
       "grid_gap": null,
       "grid_row": null,
       "grid_template_areas": null,
       "grid_template_columns": null,
       "grid_template_rows": null,
       "height": null,
       "justify_content": null,
       "justify_items": null,
       "left": null,
       "margin": null,
       "max_height": null,
       "max_width": null,
       "min_height": null,
       "min_width": null,
       "object_fit": null,
       "object_position": null,
       "order": null,
       "overflow": null,
       "padding": null,
       "right": null,
       "top": null,
       "visibility": null,
       "width": null
      }
     },
     "dab908e55bcd4e3991f7a8c290593ba5": {
      "model_module": "@jupyter-widgets/base",
      "model_module_version": "2.0.0",
      "model_name": "LayoutModel",
      "state": {
       "_model_module": "@jupyter-widgets/base",
       "_model_module_version": "2.0.0",
       "_model_name": "LayoutModel",
       "_view_count": null,
       "_view_module": "@jupyter-widgets/base",
       "_view_module_version": "2.0.0",
       "_view_name": "LayoutView",
       "align_content": null,
       "align_items": null,
       "align_self": null,
       "border_bottom": null,
       "border_left": null,
       "border_right": null,
       "border_top": null,
       "bottom": null,
       "display": null,
       "flex": null,
       "flex_flow": null,
       "grid_area": null,
       "grid_auto_columns": null,
       "grid_auto_flow": null,
       "grid_auto_rows": null,
       "grid_column": null,
       "grid_gap": null,
       "grid_row": null,
       "grid_template_areas": null,
       "grid_template_columns": null,
       "grid_template_rows": null,
       "height": null,
       "justify_content": null,
       "justify_items": null,
       "left": null,
       "margin": null,
       "max_height": null,
       "max_width": null,
       "min_height": null,
       "min_width": null,
       "object_fit": null,
       "object_position": null,
       "order": null,
       "overflow": null,
       "padding": null,
       "right": null,
       "top": null,
       "visibility": null,
       "width": null
      }
     },
     "db26d9b922f04262813cc67485bc9675": {
      "model_module": "@jupyter-widgets/controls",
      "model_module_version": "2.0.0",
      "model_name": "HTMLStyleModel",
      "state": {
       "_model_module": "@jupyter-widgets/controls",
       "_model_module_version": "2.0.0",
       "_model_name": "HTMLStyleModel",
       "_view_count": null,
       "_view_module": "@jupyter-widgets/base",
       "_view_module_version": "2.0.0",
       "_view_name": "StyleView",
       "background": null,
       "description_width": "",
       "font_size": null,
       "text_color": null
      }
     },
     "dc8b6b76c14f4d52b2d8c5dbd1320a5d": {
      "model_module": "@jupyter-widgets/controls",
      "model_module_version": "2.0.0",
      "model_name": "TabModel",
      "state": {
       "_dom_classes": [],
       "_model_module": "@jupyter-widgets/controls",
       "_model_module_version": "2.0.0",
       "_model_name": "TabModel",
       "_view_count": null,
       "_view_module": "@jupyter-widgets/controls",
       "_view_module_version": "2.0.0",
       "_view_name": "TabView",
       "box_style": "",
       "children": [
        "IPY_MODEL_d2b5404076d64c3a9ff8f874be358e77",
        "IPY_MODEL_3c4a434b9ff54c5ca285f556a05629b6",
        "IPY_MODEL_bd7c1fcc182b4b9dbc28e057a8d015f7",
        "IPY_MODEL_90bec71878af47208cad4c0e11c08d51",
        "IPY_MODEL_34b5e8c3d4234db5a8b13c42fb85bbe3",
        "IPY_MODEL_8b20b15b285641a7bf8c5c2fc3ba104d",
        "IPY_MODEL_a86cf2f2db634a23950cfc4e77ff00f4",
        "IPY_MODEL_e7019d20b9b947dc84be296c7d240ab7"
       ],
       "layout": "IPY_MODEL_9d55199265a148b08a27813c5b39fef8",
       "selected_index": 0,
       "tabbable": null,
       "titles": [
        "jupyter-book",
        "jupyterlab-myst",
        "myst-enhancement-proposals",
        "myst-theme",
        "mystmd",
        "mystmd.org",
        "team-compass",
        "thebe"
       ],
       "tooltip": null
      }
     },
     "dcdbc8b632704968b9534a8ab7fafd9d": {
      "model_module": "@jupyter-widgets/controls",
      "model_module_version": "2.0.0",
      "model_name": "HTMLStyleModel",
      "state": {
       "_model_module": "@jupyter-widgets/controls",
       "_model_module_version": "2.0.0",
       "_model_name": "HTMLStyleModel",
       "_view_count": null,
       "_view_module": "@jupyter-widgets/base",
       "_view_module_version": "2.0.0",
       "_view_name": "StyleView",
       "background": null,
       "description_width": "",
       "font_size": null,
       "text_color": null
      }
     },
     "dd366d7a45af47b790330e5ab53fb589": {
      "model_module": "@jupyter-widgets/controls",
      "model_module_version": "2.0.0",
      "model_name": "HTMLModel",
      "state": {
       "_dom_classes": [],
       "_model_module": "@jupyter-widgets/controls",
       "_model_module_version": "2.0.0",
       "_model_name": "HTMLModel",
       "_view_count": null,
       "_view_module": "@jupyter-widgets/controls",
       "_view_module_version": "2.0.0",
       "_view_name": "HTMLView",
       "description": "",
       "description_allow_html": false,
       "layout": "IPY_MODEL_930d87350397455fbfbea6f1fb298ca7",
       "placeholder": "​",
       "style": "IPY_MODEL_051b95c4bf02429da0b65191558c8081",
       "tabbable": null,
       "tooltip": null,
       "value": "<h5><a href=\"https://github.com/jupyter-book/myst-enhancement-proposals\">jupyter-book/myst-enhancement-proposals</a></h5>\n<ul>\n<li><a href=\"https://github.com/jupyter-book/myst-enhancement-proposals/issues/30\">(#30)</a>: <em>[MEP process] Define separate proposal and implementation stages</em> by <strong><a href=\"https://github.com/mmcky\">@mmcky</a></strong></li>\n</ul>"
      }
     },
     "de796f4a1d8c4a35a8784269028c2efc": {
      "model_module": "@jupyter-widgets/controls",
      "model_module_version": "2.0.0",
      "model_name": "HTMLStyleModel",
      "state": {
       "_model_module": "@jupyter-widgets/controls",
       "_model_module_version": "2.0.0",
       "_model_name": "HTMLStyleModel",
       "_view_count": null,
       "_view_module": "@jupyter-widgets/base",
       "_view_module_version": "2.0.0",
       "_view_name": "StyleView",
       "background": null,
       "description_width": "",
       "font_size": null,
       "text_color": null
      }
     },
     "e7019d20b9b947dc84be296c7d240ab7": {
      "model_module": "@jupyter-widgets/controls",
      "model_module_version": "2.0.0",
      "model_name": "HTMLModel",
      "state": {
       "_dom_classes": [],
       "_model_module": "@jupyter-widgets/controls",
       "_model_module_version": "2.0.0",
       "_model_name": "HTMLModel",
       "_view_count": null,
       "_view_module": "@jupyter-widgets/controls",
       "_view_module_version": "2.0.0",
       "_view_name": "HTMLView",
       "description": "",
       "description_allow_html": false,
       "layout": "IPY_MODEL_9147f4bdd33b45eab3dda636f7356b98",
       "placeholder": "​",
       "style": "IPY_MODEL_ff5f83a8eb224b31a9d8b830eead5b9a",
       "tabbable": null,
       "tooltip": null,
       "value": "<h5><a href=\"https://github.com/jupyter-book/thebe\">jupyter-book/thebe</a></h5>\n<ul>\n<li><a href=\"https://github.com/jupyter-book/thebe/issues/791\">(#791)</a>: <em>Update to JupyterLite 0.6.0</em> by <strong><a href=\"https://github.com/jtpio\">@jtpio</a></strong></li>\n</ul>"
      }
     },
     "edc74f7b979542118e8019009fc91cbc": {
      "model_module": "@jupyter-widgets/controls",
      "model_module_version": "2.0.0",
      "model_name": "HTMLModel",
      "state": {
       "_dom_classes": [],
       "_model_module": "@jupyter-widgets/controls",
       "_model_module_version": "2.0.0",
       "_model_name": "HTMLModel",
       "_view_count": null,
       "_view_module": "@jupyter-widgets/controls",
       "_view_module_version": "2.0.0",
       "_view_name": "HTMLView",
       "description": "",
       "description_allow_html": false,
       "layout": "IPY_MODEL_0ce22773a49b43a5bcaa06895c5beb71",
       "placeholder": "​",
       "style": "IPY_MODEL_dcdbc8b632704968b9534a8ab7fafd9d",
       "tabbable": null,
       "tooltip": null,
       "value": "<h5><a href=\"https://github.com/jupyter-book/mystmd\">jupyter-book/mystmd</a></h5>\n<ul>\n<li><a href=\"https://github.com/jupyter-book/mystmd/issues/1336\">(#1336)</a>: <em>Tracking: Turing Way</em> by <strong><a href=\"https://github.com/rowanc1\">@rowanc1</a></strong></li>\n<li><a href=\"https://github.com/jupyter-book/mystmd/issues/189\">(#189)</a>: <em>Audit of Features missing in JupyterBook</em> by <strong><a href=\"https://github.com/rowanc1\">@rowanc1</a></strong></li>\n<li><a href=\"https://github.com/jupyter-book/mystmd/issues/1879\">(#1879)</a>: <em>Support multi-language content and pages with translations</em> by <strong><a href=\"https://github.com/choldgraf\">@choldgraf</a></strong></li>\n<li><a href=\"https://github.com/jupyter-book/mystmd/issues/1892\">(#1892)</a>: <em>[Bug]: Latex Macros not working correctly</em> by <strong><a href=\"https://github.com/mstoll1602\">@mstoll1602</a></strong></li>\n<li><a href=\"https://github.com/jupyter-book/mystmd/issues/1910\">(#1910)</a>: <em>Aside broken after trying to add custom css</em> by <strong><a href=\"https://github.com/paulskrzypczyk\">@paulskrzypczyk</a></strong></li>\n</ul>"
      }
     },
     "f1ff0cec67e04378aa7a722e720d7d98": {
      "model_module": "@jupyter-widgets/controls",
      "model_module_version": "2.0.0",
      "model_name": "HTMLModel",
      "state": {
       "_dom_classes": [],
       "_model_module": "@jupyter-widgets/controls",
       "_model_module_version": "2.0.0",
       "_model_name": "HTMLModel",
       "_view_count": null,
       "_view_module": "@jupyter-widgets/controls",
       "_view_module_version": "2.0.0",
       "_view_name": "HTMLView",
       "description": "",
       "description_allow_html": false,
       "layout": "IPY_MODEL_0dba5277b9d34243a06b18ed46fd6602",
       "placeholder": "​",
       "style": "IPY_MODEL_db26d9b922f04262813cc67485bc9675",
       "tabbable": null,
       "tooltip": null,
       "value": "<h5><a href=\"https://github.com/jupyter-book/myst-theme\">jupyter-book/myst-theme</a></h5>\n<ul>\n<li><a href=\"https://github.com/jupyter-book/myst-theme/issues/527\">(#527)</a>: <em>Support Bokeh Plots</em> by <strong><a href=\"https://github.com/acocac\">@acocac</a></strong></li>\n<li><a href=\"https://github.com/jupyter-book/myst-theme/issues/567\">(#567)</a>: <em>Move colour choices to theme variables</em> by <strong><a href=\"https://github.com/agoose77\">@agoose77</a></strong></li>\n<li><a href=\"https://github.com/jupyter-book/myst-theme/issues/342\">(#342)</a>: <em>HTML served with <code>&lt;img src=http://localhost:3100&gt; even with</code>HOST=10.0.0.1 myst start --keep-host`</em> by <strong><a href=\"https://github.com/drewlio\">@drewlio</a></strong></li>\n<li><a href=\"https://github.com/jupyter-book/myst-theme/issues/474\">(#474)</a>: <em>Landing Pages with widget layouts</em> by <strong><a href=\"https://github.com/choldgraf\">@choldgraf</a></strong></li>\n<li><a href=\"https://github.com/jupyter-book/myst-theme/issues/558\">(#558)</a>: <em>Improve Static HTML Builds (upgrading Remix)</em> by <strong><a href=\"https://github.com/rowanc1\">@rowanc1</a></strong></li>\n</ul>"
      }
     },
     "f9dcba1bb97a4f728bea059a97ccb65b": {
      "model_module": "@jupyter-widgets/controls",
      "model_module_version": "2.0.0",
      "model_name": "HTMLStyleModel",
      "state": {
       "_model_module": "@jupyter-widgets/controls",
       "_model_module_version": "2.0.0",
       "_model_name": "HTMLStyleModel",
       "_view_count": null,
       "_view_module": "@jupyter-widgets/base",
       "_view_module_version": "2.0.0",
       "_view_name": "StyleView",
       "background": null,
       "description_width": "",
       "font_size": null,
       "text_color": null
      }
     },
     "faab92e5b21e4c7d8a8d8a31dbe822da": {
      "model_module": "@jupyter-widgets/base",
      "model_module_version": "2.0.0",
      "model_name": "LayoutModel",
      "state": {
       "_model_module": "@jupyter-widgets/base",
       "_model_module_version": "2.0.0",
       "_model_name": "LayoutModel",
       "_view_count": null,
       "_view_module": "@jupyter-widgets/base",
       "_view_module_version": "2.0.0",
       "_view_name": "LayoutView",
       "align_content": null,
       "align_items": null,
       "align_self": null,
       "border_bottom": null,
       "border_left": null,
       "border_right": null,
       "border_top": null,
       "bottom": null,
       "display": null,
       "flex": null,
       "flex_flow": null,
       "grid_area": null,
       "grid_auto_columns": null,
       "grid_auto_flow": null,
       "grid_auto_rows": null,
       "grid_column": null,
       "grid_gap": null,
       "grid_row": null,
       "grid_template_areas": null,
       "grid_template_columns": null,
       "grid_template_rows": null,
       "height": null,
       "justify_content": null,
       "justify_items": null,
       "left": null,
       "margin": null,
       "max_height": null,
       "max_width": null,
       "min_height": null,
       "min_width": null,
       "object_fit": null,
       "object_position": null,
       "order": null,
       "overflow": null,
       "padding": null,
       "right": null,
       "top": null,
       "visibility": null,
       "width": null
      }
     },
     "fbf6ed603c0c40bba7caa0e5cfc51bcf": {
      "model_module": "@jupyter-widgets/controls",
      "model_module_version": "2.0.0",
      "model_name": "HTMLStyleModel",
      "state": {
       "_model_module": "@jupyter-widgets/controls",
       "_model_module_version": "2.0.0",
       "_model_name": "HTMLStyleModel",
       "_view_count": null,
       "_view_module": "@jupyter-widgets/base",
       "_view_module_version": "2.0.0",
       "_view_name": "StyleView",
       "background": null,
       "description_width": "",
       "font_size": null,
       "text_color": null
      }
     },
     "fdea0afa19854be1b99771d850fdad54": {
      "model_module": "@jupyter-widgets/controls",
      "model_module_version": "2.0.0",
      "model_name": "TabModel",
      "state": {
       "_dom_classes": [],
       "_model_module": "@jupyter-widgets/controls",
       "_model_module_version": "2.0.0",
       "_model_name": "TabModel",
       "_view_count": null,
       "_view_module": "@jupyter-widgets/controls",
       "_view_module_version": "2.0.0",
       "_view_name": "TabView",
       "box_style": "",
       "children": [
        "IPY_MODEL_3ebe0bddfa8848058c0259b0588c31f6",
        "IPY_MODEL_50cd223d7a42449aaf6855c5fa28c57c",
        "IPY_MODEL_4f82a908bf9f423eaf1ea9eb37d0b634",
        "IPY_MODEL_ff27668e90534ebc99147cc556d27c2c",
        "IPY_MODEL_5052809b87dc4dc287d46bdc6db55f6b",
        "IPY_MODEL_c995984c005945c483b9119d1f7f26eb"
       ],
       "layout": "IPY_MODEL_9907462c87684423bf2b0033b028f0b4",
       "selected_index": 0,
       "tabbable": null,
       "titles": [
        "jupyter-book",
        "myst-enhancement-proposals",
        "myst-theme",
        "mystmd",
        "mystmd.org",
        "team-compass"
       ],
       "tooltip": null
      }
     },
     "ff27668e90534ebc99147cc556d27c2c": {
      "model_module": "@jupyter-widgets/controls",
      "model_module_version": "2.0.0",
      "model_name": "HTMLModel",
      "state": {
       "_dom_classes": [],
       "_model_module": "@jupyter-widgets/controls",
       "_model_module_version": "2.0.0",
       "_model_name": "HTMLModel",
       "_view_count": null,
       "_view_module": "@jupyter-widgets/controls",
       "_view_module_version": "2.0.0",
       "_view_name": "HTMLView",
       "description": "",
       "description_allow_html": false,
       "layout": "IPY_MODEL_5921105b80794c82ab8c2e465034c9c2",
       "placeholder": "​",
       "style": "IPY_MODEL_64cce6ea0c324316938018d76d6b69a3",
       "tabbable": null,
       "tooltip": null,
       "value": "<h4>Closed PRs for repo: <a href=\"https://github.com/jupyter-book/mystmd\">jupyter-book/mystmd</a></h4>\n<h5></h5>\n<ul>\n<li><a href=\"https://github.com/jupyter-book/mystmd/issues/1822\">(#1822)</a>: <em>🧮 Add inline options to roles and directives</em> by <strong><a href=\"https://github.com/rowanc1\">@rowanc1</a></strong> merged by <strong><a href=\"https://github.com/rowanc1\">@rowanc1</a></strong></li>\n<li><a href=\"https://github.com/jupyter-book/mystmd/issues/1826\">(#1826)</a>: <em>✨ New table of contents directive</em> by <strong><a href=\"https://github.com/fwkoch\">@fwkoch</a></strong> merged by <strong><a href=\"https://github.com/rowanc1\">@rowanc1</a></strong></li>\n<li><a href=\"https://github.com/jupyter-book/mystmd/issues/1836\">(#1836)</a>: <em>🚀 Release</em> by <strong><a href=\"https://github.com/github-actions[bot]\">@github-actions[bot]</a></strong> merged by <strong><a href=\"https://github.com/rowanc1\">@rowanc1</a></strong></li>\n<li><a href=\"https://github.com/jupyter-book/mystmd/issues/1856\">(#1856)</a>: <em>🔧 Fix errors about missing images on non-first builds</em> by <strong><a href=\"https://github.com/fwkoch\">@fwkoch</a></strong> merged by <strong><a href=\"https://github.com/rowanc1\">@rowanc1</a></strong></li>\n<li><a href=\"https://github.com/jupyter-book/mystmd/issues/1864\">(#1864)</a>: <em>🛫 Add documentation for Landing Pages</em> by <strong><a href=\"https://github.com/agoose77\">@agoose77</a></strong> merged by <strong><a href=\"https://github.com/rowanc1\">@rowanc1</a></strong></li>\n<li><a href=\"https://github.com/jupyter-book/mystmd/issues/1867\">(#1867)</a>: _ 📂 Set <code>site.options.folders: true</code> for JB upgrades_ by <strong><a href=\"https://github.com/agoose77\">@agoose77</a></strong> merged by <strong><a href=\"https://github.com/agoose77\">@agoose77</a></strong></li>\n<li><a href=\"https://github.com/jupyter-book/mystmd/issues/1872\">(#1872)</a>: <em>Handle unsupported options for include directive</em> by <strong><a href=\"https://github.com/JimMadge\">@JimMadge</a></strong> merged by <strong><a href=\"https://github.com/agoose77\">@agoose77</a></strong></li>\n<li><a href=\"https://github.com/jupyter-book/mystmd/issues/1873\">(#1873)</a>: <em>💇 Add documentation on <code>site.options.style</code></em> by <strong><a href=\"https://github.com/agoose77\">@agoose77</a></strong> merged by <strong><a href=\"https://github.com/rowanc1\">@rowanc1</a></strong></li>\n<li><a href=\"https://github.com/jupyter-book/mystmd/issues/1881\">(#1881)</a>: <em>✏️ Use <code>myst</code> directive with <code>proof</code> option definitions</em> by <strong><a href=\"https://github.com/agoose77\">@agoose77</a></strong> merged by <strong><a href=\"https://github.com/rowanc1\">@rowanc1</a></strong></li>\n<li><a href=\"https://github.com/jupyter-book/mystmd/issues/1888\">(#1888)</a>: <em>📖 Adds note on Windows builds to Contribution guide</em> by <strong><a href=\"https://github.com/nmielec\">@nmielec</a></strong> merged by <strong><a href=\"https://github.com/rowanc1\">@rowanc1</a></strong></li>\n<li><a href=\"https://github.com/jupyter-book/mystmd/issues/1890\">(#1890)</a>: <em>📦 Update to <code>doi-utils</code> v2.0.5</em> by <strong><a href=\"https://github.com/rowanc1\">@rowanc1</a></strong> merged by <strong><a href=\"https://github.com/rowanc1\">@rowanc1</a></strong></li>\n<li><a href=\"https://github.com/jupyter-book/mystmd/issues/1891\">(#1891)</a>: <em>🚀 Release</em> by <strong><a href=\"https://github.com/github-actions[bot]\">@github-actions[bot]</a></strong> merged by <strong><a href=\"https://github.com/rowanc1\">@rowanc1</a></strong></li>\n<li><a href=\"https://github.com/jupyter-book/mystmd/issues/1894\">(#1894)</a>: <em>🐝 Fix missing class in landing-pages</em> by <strong><a href=\"https://github.com/agoose77\">@agoose77</a></strong> merged by <strong><a href=\"https://github.com/agoose77\">@agoose77</a></strong></li>\n<li><a href=\"https://github.com/jupyter-book/mystmd/issues/1895\">(#1895)</a>: <em>🚀 Update the <code>SPEC_VERSION</code> for <code>block.class</code></em> by <strong><a href=\"https://github.com/rowanc1\">@rowanc1</a></strong> merged by <strong><a href=\"https://github.com/rowanc1\">@rowanc1</a></strong></li>\n<li><a href=\"https://github.com/jupyter-book/mystmd/issues/1896\">(#1896)</a>: <em>🚀 Release</em> by <strong><a href=\"https://github.com/github-actions[bot]\">@github-actions[bot]</a></strong> merged by <strong><a href=\"https://github.com/rowanc1\">@rowanc1</a></strong></li>\n<li><a href=\"https://github.com/jupyter-book/mystmd/issues/1897\">(#1897)</a>: <em>📦 Bump <code>nbtx</code> 0.4.0</em> by <strong><a href=\"https://github.com/fwkoch\">@fwkoch</a></strong> merged by <strong><a href=\"https://github.com/rowanc1\">@rowanc1</a></strong></li>\n<li><a href=\"https://github.com/jupyter-book/mystmd/issues/1898\">(#1898)</a>: <em>🤔 Bump nbtx</em> by <strong><a href=\"https://github.com/fwkoch\">@fwkoch</a></strong> merged by <strong><a href=\"https://github.com/fwkoch\">@fwkoch</a></strong></li>\n<li><a href=\"https://github.com/jupyter-book/mystmd/issues/1901\">(#1901)</a>: <em>🐛 Ensure CSS has baseURL directly</em> by <strong><a href=\"https://github.com/rowanc1\">@rowanc1</a></strong> merged by <strong><a href=\"https://github.com/rowanc1\">@rowanc1</a></strong></li>\n<li><a href=\"https://github.com/jupyter-book/mystmd/issues/1906\">(#1906)</a>: <em>Restructure developer guide and add architecture overview</em> by <strong><a href=\"https://github.com/stefanv\">@stefanv</a></strong> merged by <strong><a href=\"https://github.com/choldgraf\">@choldgraf</a></strong></li>\n<li><a href=\"https://github.com/jupyter-book/mystmd/issues/1914\">(#1914)</a>: <em>⌨️ Add command line argument to <code>myst start</code> for selecting template</em> by <strong><a href=\"https://github.com/stefanv\">@stefanv</a></strong> merged by <strong><a href=\"https://github.com/rowanc1\">@rowanc1</a></strong></li>\n<li><a href=\"https://github.com/jupyter-book/mystmd/issues/1919\">(#1919)</a>: <em>✅ Add husky and lint-staged to help devs fix code before pushing</em> by <strong><a href=\"https://github.com/stefanv\">@stefanv</a></strong> merged by <strong><a href=\"https://github.com/choldgraf\">@choldgraf</a></strong></li>\n<li><a href=\"https://github.com/jupyter-book/mystmd/issues/1930\">(#1930)</a>: <em>Clarify BASE_URL instructions in GH action for custom domains.</em> by <strong><a href=\"https://github.com/fperez\">@fperez</a></strong> merged by <strong><a href=\"https://github.com/agoose77\">@agoose77</a></strong></li>\n<li><a href=\"https://github.com/jupyter-book/mystmd/issues/1936\">(#1936)</a>: <em>✍️ Escape backticks in <code>init --gh-pages</code> template</em> by <strong><a href=\"https://github.com/agoose77\">@agoose77</a></strong> merged by <strong><a href=\"https://github.com/agoose77\">@agoose77</a></strong></li>\n<li><a href=\"https://github.com/jupyter-book/mystmd/issues/1938\">(#1938)</a>: <em>📝 Add missing changeset</em> by <strong><a href=\"https://github.com/agoose77\">@agoose77</a></strong> merged by <strong><a href=\"https://github.com/agoose77\">@agoose77</a></strong></li>\n<li><a href=\"https://github.com/jupyter-book/mystmd/issues/1939\">(#1939)</a>: <em>Add footnote about links to md files not in ToC</em> by <strong><a href=\"https://github.com/JimMadge\">@JimMadge</a></strong> merged by <strong><a href=\"https://github.com/agoose77\">@agoose77</a></strong></li>\n<li><a href=\"https://github.com/jupyter-book/mystmd/issues/1941\">(#1941)</a>: <em>Update the documentation on installing with Typst</em> by <strong><a href=\"https://github.com/choldgraf\">@choldgraf</a></strong> merged by <strong><a href=\"https://github.com/agoose77\">@agoose77</a></strong></li>\n<li><a href=\"https://github.com/jupyter-book/mystmd/issues/1942\">(#1942)</a>: <em>🪄 Improve error handling during cross reference resolution</em> by <strong><a href=\"https://github.com/agoose77\">@agoose77</a></strong> merged by <strong><a href=\"https://github.com/agoose77\">@agoose77</a></strong></li>\n<li><a href=\"https://github.com/jupyter-book/mystmd/issues/1943\">(#1943)</a>: <em>🏷️ Remove default label from <code>inlineExpression</code> node</em> by <strong><a href=\"https://github.com/agoose77\">@agoose77</a></strong> merged by <strong><a href=\"https://github.com/agoose77\">@agoose77</a></strong></li>\n<li><a href=\"https://github.com/jupyter-book/mystmd/issues/1944\">(#1944)</a>: <em>🐛 Fix missing references in <code>docx</code> export</em> by <strong><a href=\"https://github.com/alanrice\">@alanrice</a></strong> merged by <strong><a href=\"https://github.com/agoose77\">@agoose77</a></strong></li>\n<li><a href=\"https://github.com/jupyter-book/mystmd/issues/1945\">(#1945)</a>: <em>👨🏻‍🔧 fix check link transform for cards</em> by <strong><a href=\"https://github.com/stevejpurves\">@stevejpurves</a></strong> merged by <strong><a href=\"https://github.com/stevejpurves\">@stevejpurves</a></strong></li>\n<li><a href=\"https://github.com/jupyter-book/mystmd/issues/1949\">(#1949)</a>: <em>🔙 Move execution transform earlier in mdast pipeline</em> by <strong><a href=\"https://github.com/agoose77\">@agoose77</a></strong> merged by <strong><a href=\"https://github.com/agoose77\">@agoose77</a></strong></li>\n<li><a href=\"https://github.com/jupyter-book/mystmd/issues/1950\">(#1950)</a>: <em>Add a high-level overview of MyST components</em> by <strong><a href=\"https://github.com/choldgraf\">@choldgraf</a></strong> merged by <strong><a href=\"https://github.com/choldgraf\">@choldgraf</a></strong></li>\n<li><a href=\"https://github.com/jupyter-book/mystmd/issues/1951\">(#1951)</a>: <em>✋ netlify: only rebuild docs when they were modified</em> by <strong><a href=\"https://github.com/stefanv\">@stefanv</a></strong> merged by <strong><a href=\"https://github.com/choldgraf\">@choldgraf</a></strong></li>\n<li><a href=\"https://github.com/jupyter-book/mystmd/issues/1955\">(#1955)</a>: <em>📖 Document how to export MyST Markdown</em> by <strong><a href=\"https://github.com/choldgraf\">@choldgraf</a></strong> merged by <strong><a href=\"https://github.com/rowanc1\">@rowanc1</a></strong></li>\n<li><a href=\"https://github.com/jupyter-book/mystmd/issues/1958\">(#1958)</a>: <em>Update documentation about our documentation infrastructure at mystmd.org</em> by <strong><a href=\"https://github.com/choldgraf\">@choldgraf</a></strong> merged by <strong><a href=\"https://github.com/choldgraf\">@choldgraf</a></strong></li>\n<li><a href=\"https://github.com/jupyter-book/mystmd/issues/1966\">(#1966)</a>: <em>📦 Improve docs on PDF exports for downloads</em> by <strong><a href=\"https://github.com/agoose77\">@agoose77</a></strong> merged by <strong><a href=\"https://github.com/choldgraf\">@choldgraf</a></strong></li>\n<li><a href=\"https://github.com/jupyter-book/mystmd/issues/1969\">(#1969)</a>: <em>Add a brief guide to choosing between <code>.md</code> and <code>.ipynb</code></em> by <strong><a href=\"https://github.com/choldgraf\">@choldgraf</a></strong> merged by <strong><a href=\"https://github.com/agoose77\">@agoose77</a></strong></li>\n<li><a href=\"https://github.com/jupyter-book/mystmd/issues/1980\">(#1980)</a>: <em>; Semicolon escape in typst</em> by <strong><a href=\"https://github.com/rowanc1\">@rowanc1</a></strong> merged by <strong><a href=\"https://github.com/rowanc1\">@rowanc1</a></strong></li>\n<li><a href=\"https://github.com/jupyter-book/mystmd/issues/1987\">(#1987)</a>: <em>🦋 Add bluesky social links</em> by <strong><a href=\"https://github.com/rowanc1\">@rowanc1</a></strong> merged by <strong><a href=\"https://github.com/rowanc1\">@rowanc1</a></strong></li>\n<li><a href=\"https://github.com/jupyter-book/mystmd/issues/1992\">(#1992)</a>: <em>DOCS: Clarify and cross-link code cell output suppression</em> by <strong><a href=\"https://github.com/choldgraf\">@choldgraf</a></strong> merged by <strong><a href=\"https://github.com/choldgraf\">@choldgraf</a></strong></li>\n<li><a href=\"https://github.com/jupyter-book/mystmd/issues/1995\">(#1995)</a>: <em>🐛 <code>--pdf</code> --&gt; <code>--tex</code></em> by <strong><a href=\"https://github.com/rowanc1\">@rowanc1</a></strong> merged by <strong><a href=\"https://github.com/rowanc1\">@rowanc1</a></strong></li>\n<li><a href=\"https://github.com/jupyter-book/mystmd/issues/1997\">(#1997)</a>: <em>📖 Add guidelines for publishing a release to GitHub</em> by <strong><a href=\"https://github.com/choldgraf\">@choldgraf</a></strong> merged by <strong><a href=\"https://github.com/choldgraf\">@choldgraf</a></strong></li>\n<li><a href=\"https://github.com/jupyter-book/mystmd/issues/1998\">(#1998)</a>: <em>📖 Document light dark elements with CSS classes</em> by <strong><a href=\"https://github.com/choldgraf\">@choldgraf</a></strong> merged by <strong><a href=\"https://github.com/choldgraf\">@choldgraf</a></strong></li>\n<li><a href=\"https://github.com/jupyter-book/mystmd/issues/2010\">(#2010)</a>: <em>Fix typo in md-vs-ipynb.md</em> by <strong><a href=\"https://github.com/choldgraf\">@choldgraf</a></strong> merged by <strong><a href=\"https://github.com/rowanc1\">@rowanc1</a></strong></li>\n<li><a href=\"https://github.com/jupyter-book/mystmd/issues/2011\">(#2011)</a>: <em>Remove extra error block</em> by <strong><a href=\"https://github.com/stefanv\">@stefanv</a></strong> merged by <strong><a href=\"https://github.com/choldgraf\">@choldgraf</a></strong></li>\n</ul>"
      }
     },
     "ff5f83a8eb224b31a9d8b830eead5b9a": {
      "model_module": "@jupyter-widgets/controls",
      "model_module_version": "2.0.0",
      "model_name": "HTMLStyleModel",
      "state": {
       "_model_module": "@jupyter-widgets/controls",
       "_model_module_version": "2.0.0",
       "_model_name": "HTMLStyleModel",
       "_view_count": null,
       "_view_module": "@jupyter-widgets/base",
       "_view_module_version": "2.0.0",
       "_view_name": "StyleView",
       "background": null,
       "description_width": "",
       "font_size": null,
       "text_color": null
      }
     }
    },
    "version_major": 2,
    "version_minor": 0
   }
  }
 },
 "nbformat": 4,
 "nbformat_minor": 5
}