{
 "cells": [
  {
   "cell_type": "markdown",
   "id": "8aaf888a",
   "metadata": {
    "papermill": {
     "duration": 0.016008,
     "end_time": "2025-05-20T01:30:42.191953",
     "exception": false,
     "start_time": "2025-05-20T01:30:42.175945",
     "status": "completed"
    },
    "tags": []
   },
   "source": [
    "# {glue:text}`jupyter-book_github_org`\n",
    "\n",
    "**Activity from {glue:}`jupyter-book_start` to {glue:}`jupyter-book_stop`**"
   ]
  },
  {
   "cell_type": "code",
   "execution_count": 1,
   "id": "873c2035",
   "metadata": {
    "editable": true,
    "execution": {
     "iopub.execute_input": "2025-05-20T01:30:42.222597Z",
     "iopub.status.busy": "2025-05-20T01:30:42.222381Z",
     "iopub.status.idle": "2025-05-20T01:30:45.136360Z",
     "shell.execute_reply": "2025-05-20T01:30:45.135654Z"
    },
    "papermill": {
     "duration": 2.930646,
     "end_time": "2025-05-20T01:30:45.137730",
     "exception": false,
     "start_time": "2025-05-20T01:30:42.207084",
     "status": "completed"
    },
    "slideshow": {
     "slide_type": ""
    },
    "tags": [
     "remove_cell"
    ]
   },
   "outputs": [],
   "source": [
    "from datetime import date\n",
    "from dateutil.relativedelta import relativedelta\n",
    "from myst_nb import glue\n",
    "import seaborn as sns\n",
    "import pandas as pd\n",
    "import numpy as np\n",
    "import altair as alt\n",
    "from markdown import markdown\n",
    "from IPython.display import Markdown\n",
    "from ipywidgets.widgets import HTML, Tab\n",
    "from ipywidgets import widgets\n",
    "from datetime import timedelta\n",
    "from matplotlib import pyplot as plt\n",
    "import os.path as op\n",
    "from json import loads\n",
    "\n",
    "from warnings import simplefilter\n",
    "simplefilter('ignore')\n",
    "pd.set_option('display.max_columns', None) # 'None' means show all"
   ]
  },
  {
   "cell_type": "code",
   "execution_count": 2,
   "id": "278ad90e",
   "metadata": {
    "editable": true,
    "execution": {
     "iopub.execute_input": "2025-05-20T01:30:45.168283Z",
     "iopub.status.busy": "2025-05-20T01:30:45.167997Z",
     "iopub.status.idle": "2025-05-20T01:30:45.174452Z",
     "shell.execute_reply": "2025-05-20T01:30:45.173813Z"
    },
    "papermill": {
     "duration": 0.022758,
     "end_time": "2025-05-20T01:30:45.175557",
     "exception": false,
     "start_time": "2025-05-20T01:30:45.152799",
     "status": "completed"
    },
    "slideshow": {
     "slide_type": ""
    },
    "tags": [
     "remove_cell"
    ]
   },
   "outputs": [],
   "source": [
    "# Altair config\n",
    "def author_url(author):\n",
    "    return f\"https://github.com/{author}\"\n",
    "\n",
    "def alt_theme():\n",
    "    return {\n",
    "        'config': {\n",
    "            'axisLeft': {\n",
    "                'labelFontSize': 15,\n",
    "            },\n",
    "            'axisBottom': {\n",
    "                'labelFontSize': 15,\n",
    "            },\n",
    "        }\n",
    "    }\n",
    "\n",
    "alt.themes.register('my_theme', alt_theme)\n",
    "alt.themes.enable(\"my_theme\")\n",
    "\n",
    "\n",
    "# Define colors we'll use for GitHub membership\n",
    "author_types = ['MEMBER', 'CONTRIBUTOR', 'COLLABORATOR', \"NONE\"]\n",
    "\n",
    "author_palette = np.array(sns.palettes.blend_palette([\"lightgrey\", \"lightgreen\", \"darkgreen\"], 4)) * 256\n",
    "author_colors = [\"rgb({}, {}, {})\".format(*color) for color in author_palette]\n",
    "author_color_dict = {key: val for key, val in zip(author_types, author_palette)}"
   ]
  },
  {
   "cell_type": "code",
   "execution_count": 3,
   "id": "37c9f7f0",
   "metadata": {
    "editable": true,
    "execution": {
     "iopub.execute_input": "2025-05-20T01:30:45.204744Z",
     "iopub.status.busy": "2025-05-20T01:30:45.204357Z",
     "iopub.status.idle": "2025-05-20T01:30:45.207361Z",
     "shell.execute_reply": "2025-05-20T01:30:45.206748Z"
    },
    "papermill": {
     "duration": 0.01855,
     "end_time": "2025-05-20T01:30:45.208473",
     "exception": false,
     "start_time": "2025-05-20T01:30:45.189923",
     "status": "completed"
    },
    "slideshow": {
     "slide_type": ""
    },
    "tags": [
     "parameters",
     "hide_input",
     "remove_cell"
    ]
   },
   "outputs": [],
   "source": [
    "github_org = \"jupyterhub\"\n",
    "top_n_repos = 15\n",
    "n_days = 90"
   ]
  },
  {
   "cell_type": "code",
   "execution_count": 4,
   "id": "9da5777b",
   "metadata": {
    "execution": {
     "iopub.execute_input": "2025-05-20T01:30:45.237278Z",
     "iopub.status.busy": "2025-05-20T01:30:45.236847Z",
     "iopub.status.idle": "2025-05-20T01:30:45.239833Z",
     "shell.execute_reply": "2025-05-20T01:30:45.239182Z"
    },
    "papermill": {
     "duration": 0.018631,
     "end_time": "2025-05-20T01:30:45.240904",
     "exception": false,
     "start_time": "2025-05-20T01:30:45.222273",
     "status": "completed"
    },
    "tags": [
     "injected-parameters",
     "remove-cell"
    ]
   },
   "outputs": [],
   "source": [
    "# Parameters\n",
    "github_org = \"jupyter-book\"\n",
    "n_days = 90\n"
   ]
  },
  {
   "cell_type": "code",
   "execution_count": 5,
   "id": "31adb828",
   "metadata": {
    "editable": true,
    "execution": {
     "iopub.execute_input": "2025-05-20T01:30:45.270728Z",
     "iopub.status.busy": "2025-05-20T01:30:45.270532Z",
     "iopub.status.idle": "2025-05-20T01:30:45.341335Z",
     "shell.execute_reply": "2025-05-20T01:30:45.340751Z"
    },
    "papermill": {
     "duration": 0.087084,
     "end_time": "2025-05-20T01:30:45.342475",
     "exception": false,
     "start_time": "2025-05-20T01:30:45.255391",
     "status": "completed"
    },
    "slideshow": {
     "slide_type": ""
    },
    "tags": [
     "remove_cell"
    ]
   },
   "outputs": [
    {
     "data": {
      "application/papermill.record/text/plain": "'jupyter-book'"
     },
     "metadata": {
      "scrapbook": {
       "mime_prefix": "application/papermill.record/",
       "name": "jupyter-book_github_org"
      }
     },
     "output_type": "display_data"
    },
    {
     "data": {
      "application/papermill.record/text/plain": "'2025-02-19'"
     },
     "metadata": {
      "scrapbook": {
       "mime_prefix": "application/papermill.record/",
       "name": "jupyter-book_start"
      }
     },
     "output_type": "display_data"
    },
    {
     "data": {
      "application/papermill.record/text/plain": "'2025-05-20'"
     },
     "metadata": {
      "scrapbook": {
       "mime_prefix": "application/papermill.record/",
       "name": "jupyter-book_stop"
      }
     },
     "output_type": "display_data"
    }
   ],
   "source": [
    "############################################################\n",
    "# Variables\n",
    "stop = date.today()\n",
    "start = date.today() - relativedelta(days=n_days)\n",
    "\n",
    "# Strings for use in queries\n",
    "start_date = f\"{start:%Y-%m-%d}\"\n",
    "stop_date = f\"{stop:%Y-%m-%d}\"\n",
    "\n",
    "# Glue variables for use in markdown\n",
    "glue(f\"{github_org}_github_org\", github_org, display=False)\n",
    "glue(f\"{github_org}_start\", start_date, display=False)\n",
    "glue(f\"{github_org}_stop\", stop_date, display=False)"
   ]
  },
  {
   "cell_type": "markdown",
   "id": "5a91c1f8",
   "metadata": {
    "editable": true,
    "papermill": {
     "duration": 0.014526,
     "end_time": "2025-05-20T01:30:45.371889",
     "exception": false,
     "start_time": "2025-05-20T01:30:45.357363",
     "status": "completed"
    },
    "slideshow": {
     "slide_type": ""
    },
    "tags": []
   },
   "source": [
    "## Load data\n",
    "\n",
    "Load and clean up the data"
   ]
  },
  {
   "cell_type": "code",
   "execution_count": 6,
   "id": "e393ecba",
   "metadata": {
    "editable": true,
    "execution": {
     "iopub.execute_input": "2025-05-20T01:30:45.402845Z",
     "iopub.status.busy": "2025-05-20T01:30:45.402614Z",
     "iopub.status.idle": "2025-05-20T01:30:45.406886Z",
     "shell.execute_reply": "2025-05-20T01:30:45.406351Z"
    },
    "papermill": {
     "duration": 0.021026,
     "end_time": "2025-05-20T01:30:45.407870",
     "exception": false,
     "start_time": "2025-05-20T01:30:45.386844",
     "status": "completed"
    },
    "slideshow": {
     "slide_type": ""
    },
    "tags": [
     "remove_cell"
    ]
   },
   "outputs": [],
   "source": [
    "from pathlib import Path\n",
    "import sqlite3\n",
    "path_data = Path(\"../data\")\n",
    "path_data = list(path_data.rglob(f\"*{github_org}.db\"))[0]\n",
    "\n",
    "def df_from_sql(query, db):\n",
    "    con = sqlite3.connect(db)\n",
    "    return pd.read_sql(query, con)\n",
    "    con.close()"
   ]
  },
  {
   "cell_type": "code",
   "execution_count": 7,
   "id": "34f738fb",
   "metadata": {
    "editable": true,
    "execution": {
     "iopub.execute_input": "2025-05-20T01:30:45.437683Z",
     "iopub.status.busy": "2025-05-20T01:30:45.437321Z",
     "iopub.status.idle": "2025-05-20T01:30:45.640742Z",
     "shell.execute_reply": "2025-05-20T01:30:45.640023Z"
    },
    "papermill": {
     "duration": 0.219675,
     "end_time": "2025-05-20T01:30:45.641909",
     "exception": false,
     "start_time": "2025-05-20T01:30:45.422234",
     "status": "completed"
    },
    "scrolled": true,
    "slideshow": {
     "slide_type": ""
    },
    "tags": [
     "remove_cell"
    ]
   },
   "outputs": [
    {
     "name": "stdout",
     "output_type": "stream",
     "text": [
      "Loading from ../data/612f67cbff44837826a10e815fa2f115-jupyter-book.db\n"
     ]
    }
   ],
   "source": [
    "print(f\"Loading from {path_data}\")\n",
    "repos = df_from_sql(\"SELECT * FROM repos\", path_data)\n",
    "users = df_from_sql(\"SELECT * FROM users\", path_data)\n",
    "issues = df_from_sql(\"SELECT * FROM issues\", path_data)\n",
    "comments = df_from_sql(\"SELECT * FROM issue_comments\", path_data)\n",
    "\n",
    "# Merge repository information into issues\n",
    "def merge_repo_into_df(df, kind):\n",
    "    df = pd.merge(df, users[[\"id\", \"login\"]], left_on=\"user\", right_on=\"id\", suffixes=(\"_issue\", \"_user\"), how=\"inner\")\n",
    "    df = pd.merge(df, repos[[\"id\", \"full_name\", \"name\"]], left_on=\"repo\", right_on=\"id\", suffixes=(\"_issue\", \"_repo\"), how=\"inner\")\n",
    "    df[\"org\"] = df[\"full_name\"].map(lambda a: a.split('/')[0])\n",
    "    df[\"repo\"] = df[\"full_name\"].map(lambda a: a.split('/')[1])\n",
    "    df[\"url\"] = \"https://github.com/\" + df[\"org\"] + \"/\" + df[\"repo\"] + f\"/{kind}/\" + df[\"number\"].astype(str)\n",
    "    return df\n",
    "issues = merge_repo_into_df(issues, kind=\"issues\")\n",
    "\n",
    "# Pull out the Pull Requests from Issues\n",
    "prs = issues.loc[~issues[\"pull_request\"].isna()]\n",
    "def identify_merger(closedby):\n",
    "    if not closedby:\n",
    "        return None\n",
    "    try:\n",
    "        cb = loads(closedby)\n",
    "    except:\n",
    "        print(closedby)\n",
    "    return cb[\"login\"]\n",
    "prs[\"merged_by\"] = prs[\"closed_by\"].map(identify_merger)\n",
    "\n",
    "# These issues now _remove_ the PRs\n",
    "issues = issues.loc[issues[\"pull_request\"].isna()]\n",
    "\n",
    "# Add reactions data\n",
    "def count_positive(a):\n",
    "    a = loads(a)\n",
    "    return a[\"+1\"] + a[\"hooray\"] + a[\"heart\"]\n",
    "issues[\"positive\"] = issues[\"reactions\"].map(count_positive)\n",
    "\n",
    "# Drop comments if there is no associated issue\n",
    "comments = comments.dropna(subset=[\"issue\"])\n",
    "comments[\"issue\"] = comments.loc[:, \"issue\"].astype(int)\n",
    "\n",
    "# Add repository information to comments\n",
    "comments = pd.merge(comments, issues[[\"id_issue\", \"full_name\", \"org\", \"repo\"]], left_on=\"issue\", right_on=\"id_issue\", how=\"inner\", suffixes=(\"_comment\", \"_issue\"))\n",
    "\n",
    "# Merge user data into comments\n",
    "comments = pd.merge(comments, users[[\"id\", \"login\"]], left_on=\"user\", right_on=\"id\", suffixes=(\"_comment\", \"_user\"), how=\"inner\")"
   ]
  },
  {
   "cell_type": "code",
   "execution_count": 8,
   "id": "62237447",
   "metadata": {
    "editable": true,
    "execution": {
     "iopub.execute_input": "2025-05-20T01:30:45.680193Z",
     "iopub.status.busy": "2025-05-20T01:30:45.679915Z",
     "iopub.status.idle": "2025-05-20T01:30:45.711402Z",
     "shell.execute_reply": "2025-05-20T01:30:45.710752Z"
    },
    "papermill": {
     "duration": 0.054917,
     "end_time": "2025-05-20T01:30:45.712499",
     "exception": false,
     "start_time": "2025-05-20T01:30:45.657582",
     "status": "completed"
    },
    "slideshow": {
     "slide_type": ""
    },
    "tags": [
     "remove_cell"
    ]
   },
   "outputs": [],
   "source": [
    "# Convert columns to datetime\n",
    "datetime_columns = [\"created_at\", \"closed_at\"]\n",
    "for df in [comments, issues, prs]:\n",
    "    for col in datetime_columns:\n",
    "        if col in df:\n",
    "            df[col] = pd.to_datetime(df[col])\n",
    "            # Strip timezone information so we can run simpler queries\n",
    "            df[col] = df[col].dt.tz_localize(None)"
   ]
  },
  {
   "cell_type": "code",
   "execution_count": 9,
   "id": "20bbe3d9",
   "metadata": {
    "editable": true,
    "execution": {
     "iopub.execute_input": "2025-05-20T01:30:45.742340Z",
     "iopub.status.busy": "2025-05-20T01:30:45.741961Z",
     "iopub.status.idle": "2025-05-20T01:30:45.753026Z",
     "shell.execute_reply": "2025-05-20T01:30:45.752499Z"
    },
    "papermill": {
     "duration": 0.027077,
     "end_time": "2025-05-20T01:30:45.754040",
     "exception": false,
     "start_time": "2025-05-20T01:30:45.726963",
     "status": "completed"
    },
    "slideshow": {
     "slide_type": ""
    },
    "tags": [
     "remove_cell"
    ]
   },
   "outputs": [],
   "source": [
    "# What are the top N repos, we will only plot these in the full data plots\n",
    "top_commented_repos = comments.groupby(\"repo\").count().sort_values(\"created_at\", ascending=False)['created_at']\n",
    "use_repos = top_commented_repos.head(top_n_repos).index.tolist()"
   ]
  },
  {
   "cell_type": "markdown",
   "id": "204b172b",
   "metadata": {
    "editable": true,
    "papermill": {
     "duration": 0.015242,
     "end_time": "2025-05-20T01:30:45.784214",
     "exception": false,
     "start_time": "2025-05-20T01:30:45.768972",
     "status": "completed"
    },
    "slideshow": {
     "slide_type": ""
    },
    "tags": [],
    "toc-hr-collapsed": false
   },
   "source": [
    "## Merged Pull requests\n",
    "\n",
    "Here's an analysis of **merged pull requests** across each of the repositories in the Jupyter\n",
    "ecosystem."
   ]
  },
  {
   "cell_type": "code",
   "execution_count": 10,
   "id": "8eb9d95d",
   "metadata": {
    "editable": true,
    "execution": {
     "iopub.execute_input": "2025-05-20T01:30:45.815421Z",
     "iopub.status.busy": "2025-05-20T01:30:45.814974Z",
     "iopub.status.idle": "2025-05-20T01:30:45.825973Z",
     "shell.execute_reply": "2025-05-20T01:30:45.825422Z"
    },
    "papermill": {
     "duration": 0.027268,
     "end_time": "2025-05-20T01:30:45.826989",
     "exception": false,
     "start_time": "2025-05-20T01:30:45.799721",
     "status": "completed"
    },
    "slideshow": {
     "slide_type": ""
    },
    "tags": [
     "remove_cell"
    ]
   },
   "outputs": [],
   "source": [
    "merged = prs.query('state == \"closed\" and closed_at > @start_date and closed_at < @stop_date')"
   ]
  },
  {
   "cell_type": "code",
   "execution_count": 11,
   "id": "d05b3438",
   "metadata": {
    "editable": true,
    "execution": {
     "iopub.execute_input": "2025-05-20T01:30:45.856992Z",
     "iopub.status.busy": "2025-05-20T01:30:45.856567Z",
     "iopub.status.idle": "2025-05-20T01:30:45.894755Z",
     "shell.execute_reply": "2025-05-20T01:30:45.894109Z"
    },
    "papermill": {
     "duration": 0.054338,
     "end_time": "2025-05-20T01:30:45.895826",
     "exception": false,
     "start_time": "2025-05-20T01:30:45.841488",
     "status": "completed"
    },
    "slideshow": {
     "slide_type": ""
    },
    "tags": [
     "hide_input"
    ]
   },
   "outputs": [
    {
     "data": {
      "text/html": [
       "\n",
       "<style>\n",
       "  #altair-viz-38aa808566ad4009b0b398150b5a5353.vega-embed {\n",
       "    width: 100%;\n",
       "    display: flex;\n",
       "  }\n",
       "\n",
       "  #altair-viz-38aa808566ad4009b0b398150b5a5353.vega-embed details,\n",
       "  #altair-viz-38aa808566ad4009b0b398150b5a5353.vega-embed details summary {\n",
       "    position: relative;\n",
       "  }\n",
       "</style>\n",
       "<div id=\"altair-viz-38aa808566ad4009b0b398150b5a5353\"></div>\n",
       "<script type=\"text/javascript\">\n",
       "  var VEGA_DEBUG = (typeof VEGA_DEBUG == \"undefined\") ? {} : VEGA_DEBUG;\n",
       "  (function(spec, embedOpt){\n",
       "    let outputDiv = document.currentScript.previousElementSibling;\n",
       "    if (outputDiv.id !== \"altair-viz-38aa808566ad4009b0b398150b5a5353\") {\n",
       "      outputDiv = document.getElementById(\"altair-viz-38aa808566ad4009b0b398150b5a5353\");\n",
       "    }\n",
       "\n",
       "    const paths = {\n",
       "      \"vega\": \"https://cdn.jsdelivr.net/npm/vega@5?noext\",\n",
       "      \"vega-lib\": \"https://cdn.jsdelivr.net/npm/vega-lib?noext\",\n",
       "      \"vega-lite\": \"https://cdn.jsdelivr.net/npm/vega-lite@5.20.1?noext\",\n",
       "      \"vega-embed\": \"https://cdn.jsdelivr.net/npm/vega-embed@6?noext\",\n",
       "    };\n",
       "\n",
       "    function maybeLoadScript(lib, version) {\n",
       "      var key = `${lib.replace(\"-\", \"\")}_version`;\n",
       "      return (VEGA_DEBUG[key] == version) ?\n",
       "        Promise.resolve(paths[lib]) :\n",
       "        new Promise(function(resolve, reject) {\n",
       "          var s = document.createElement('script');\n",
       "          document.getElementsByTagName(\"head\")[0].appendChild(s);\n",
       "          s.async = true;\n",
       "          s.onload = () => {\n",
       "            VEGA_DEBUG[key] = version;\n",
       "            return resolve(paths[lib]);\n",
       "          };\n",
       "          s.onerror = () => reject(`Error loading script: ${paths[lib]}`);\n",
       "          s.src = paths[lib];\n",
       "        });\n",
       "    }\n",
       "\n",
       "    function showError(err) {\n",
       "      outputDiv.innerHTML = `<div class=\"error\" style=\"color:red;\">${err}</div>`;\n",
       "      throw err;\n",
       "    }\n",
       "\n",
       "    function displayChart(vegaEmbed) {\n",
       "      vegaEmbed(outputDiv, spec, embedOpt)\n",
       "        .catch(err => showError(`Javascript Error: ${err.message}<br>This usually means there's a typo in your chart specification. See the javascript console for the full traceback.`));\n",
       "    }\n",
       "\n",
       "    if(typeof define === \"function\" && define.amd) {\n",
       "      requirejs.config({paths});\n",
       "      let deps = [\"vega-embed\"];\n",
       "      require(deps, displayChart, err => showError(`Error loading script: ${err.message}`));\n",
       "    } else {\n",
       "      maybeLoadScript(\"vega\", \"5\")\n",
       "        .then(() => maybeLoadScript(\"vega-lite\", \"5.20.1\"))\n",
       "        .then(() => maybeLoadScript(\"vega-embed\", \"6\"))\n",
       "        .catch(showError)\n",
       "        .then(() => displayChart(vegaEmbed));\n",
       "    }\n",
       "  })({\"config\": {\"axisLeft\": {\"labelFontSize\": 15}, \"axisBottom\": {\"labelFontSize\": 15}}, \"data\": {\"name\": \"data-f006e405697e27571e05a89502d28f2b\"}, \"mark\": {\"type\": \"bar\"}, \"encoding\": {\"color\": {\"field\": \"org\", \"type\": \"nominal\"}, \"x\": {\"field\": \"repo\", \"sort\": [\"mystmd\", \"myst-theme\", \"jupyter-book\", \"mystmd.org\", \"team-compass\", \"blog\", \"myst-spec\", \"thebe\"], \"type\": \"nominal\"}, \"y\": {\"field\": \"login\", \"type\": \"quantitative\"}}, \"title\": \"Merged PRs in the last 90 days\", \"$schema\": \"https://vega.github.io/schema/vega-lite/v5.20.1.json\", \"datasets\": {\"data-f006e405697e27571e05a89502d28f2b\": [{\"org\": \"jupyter-book\", \"repo\": \"mystmd\", \"login\": 50}, {\"org\": \"jupyter-book\", \"repo\": \"myst-theme\", \"login\": 32}, {\"org\": \"jupyter-book\", \"repo\": \"jupyter-book\", \"login\": 13}, {\"org\": \"jupyter-book\", \"repo\": \"mystmd.org\", \"login\": 6}, {\"org\": \"jupyter-book\", \"repo\": \"team-compass\", \"login\": 6}, {\"org\": \"jupyter-book\", \"repo\": \"blog\", \"login\": 4}, {\"org\": \"jupyter-book\", \"repo\": \"myst-spec\", \"login\": 1}, {\"org\": \"jupyter-book\", \"repo\": \"thebe\", \"login\": 1}]}}, {\"mode\": \"vega-lite\"});\n",
       "</script>"
      ],
      "text/plain": [
       "alt.Chart(...)"
      ]
     },
     "execution_count": 11,
     "metadata": {},
     "output_type": "execute_result"
    }
   ],
   "source": [
    "prs_by_repo = merged.groupby(['org', 'repo']).count()['login'].reset_index().sort_values(['org', 'login'], ascending=False)\n",
    "alt.Chart(data=prs_by_repo, title=f\"Merged PRs in the last {n_days} days\").mark_bar().encode(\n",
    "    x=alt.X('repo', sort=prs_by_repo['repo'].values.tolist()),\n",
    "    y='login',\n",
    "    color='org'\n",
    ")"
   ]
  },
  {
   "cell_type": "markdown",
   "id": "ac7dcdc3",
   "metadata": {
    "editable": true,
    "papermill": {
     "duration": 0.015369,
     "end_time": "2025-05-20T01:30:45.926639",
     "exception": false,
     "start_time": "2025-05-20T01:30:45.911270",
     "status": "completed"
    },
    "slideshow": {
     "slide_type": ""
    },
    "tags": []
   },
   "source": [
    "### Authoring and merging stats by repository\n",
    "\n",
    "Let's see who has been doing most of the PR authoring and merging. The PR author is generally the\n",
    "person that implemented a change in the repository (code, documentation, etc). The PR merger is\n",
    "the person that \"pressed the green button\" and got the change into the main codebase."
   ]
  },
  {
   "cell_type": "code",
   "execution_count": 12,
   "id": "c28820b4",
   "metadata": {
    "editable": true,
    "execution": {
     "iopub.execute_input": "2025-05-20T01:30:45.956722Z",
     "iopub.status.busy": "2025-05-20T01:30:45.956518Z",
     "iopub.status.idle": "2025-05-20T01:30:45.967190Z",
     "shell.execute_reply": "2025-05-20T01:30:45.966536Z"
    },
    "papermill": {
     "duration": 0.026969,
     "end_time": "2025-05-20T01:30:45.968284",
     "exception": false,
     "start_time": "2025-05-20T01:30:45.941315",
     "status": "completed"
    },
    "slideshow": {
     "slide_type": ""
    },
    "tags": [
     "remove_cell"
    ]
   },
   "outputs": [],
   "source": [
    "# Prep our merging DF\n",
    "merged_by_repo = merged.groupby(['repo', 'login'], as_index=False).agg({'id': 'count', 'author_association': 'first'}).rename(columns={'id': \"authored\", 'login': 'username'})\n",
    "closed_by_repo = merged.groupby(['name', 'merged_by']).count()['id_issue'].reset_index().rename(columns={'id_issue': \"closed\", \"merged_by\": \"username\"})"
   ]
  },
  {
   "cell_type": "code",
   "execution_count": 13,
   "id": "403ede3f",
   "metadata": {
    "editable": true,
    "execution": {
     "iopub.execute_input": "2025-05-20T01:30:45.998817Z",
     "iopub.status.busy": "2025-05-20T01:30:45.998363Z",
     "iopub.status.idle": "2025-05-20T01:30:46.021181Z",
     "shell.execute_reply": "2025-05-20T01:30:46.020535Z"
    },
    "papermill": {
     "duration": 0.03922,
     "end_time": "2025-05-20T01:30:46.022278",
     "exception": false,
     "start_time": "2025-05-20T01:30:45.983058",
     "status": "completed"
    },
    "slideshow": {
     "slide_type": ""
    },
    "tags": [
     "hide_input"
    ]
   },
   "outputs": [
    {
     "data": {
      "text/html": [
       "\n",
       "<style>\n",
       "  #altair-viz-c60e67dff92945c68a253b9b6bc8b604.vega-embed {\n",
       "    width: 100%;\n",
       "    display: flex;\n",
       "  }\n",
       "\n",
       "  #altair-viz-c60e67dff92945c68a253b9b6bc8b604.vega-embed details,\n",
       "  #altair-viz-c60e67dff92945c68a253b9b6bc8b604.vega-embed details summary {\n",
       "    position: relative;\n",
       "  }\n",
       "</style>\n",
       "<div id=\"altair-viz-c60e67dff92945c68a253b9b6bc8b604\"></div>\n",
       "<script type=\"text/javascript\">\n",
       "  var VEGA_DEBUG = (typeof VEGA_DEBUG == \"undefined\") ? {} : VEGA_DEBUG;\n",
       "  (function(spec, embedOpt){\n",
       "    let outputDiv = document.currentScript.previousElementSibling;\n",
       "    if (outputDiv.id !== \"altair-viz-c60e67dff92945c68a253b9b6bc8b604\") {\n",
       "      outputDiv = document.getElementById(\"altair-viz-c60e67dff92945c68a253b9b6bc8b604\");\n",
       "    }\n",
       "\n",
       "    const paths = {\n",
       "      \"vega\": \"https://cdn.jsdelivr.net/npm/vega@5?noext\",\n",
       "      \"vega-lib\": \"https://cdn.jsdelivr.net/npm/vega-lib?noext\",\n",
       "      \"vega-lite\": \"https://cdn.jsdelivr.net/npm/vega-lite@5.20.1?noext\",\n",
       "      \"vega-embed\": \"https://cdn.jsdelivr.net/npm/vega-embed@6?noext\",\n",
       "    };\n",
       "\n",
       "    function maybeLoadScript(lib, version) {\n",
       "      var key = `${lib.replace(\"-\", \"\")}_version`;\n",
       "      return (VEGA_DEBUG[key] == version) ?\n",
       "        Promise.resolve(paths[lib]) :\n",
       "        new Promise(function(resolve, reject) {\n",
       "          var s = document.createElement('script');\n",
       "          document.getElementsByTagName(\"head\")[0].appendChild(s);\n",
       "          s.async = true;\n",
       "          s.onload = () => {\n",
       "            VEGA_DEBUG[key] = version;\n",
       "            return resolve(paths[lib]);\n",
       "          };\n",
       "          s.onerror = () => reject(`Error loading script: ${paths[lib]}`);\n",
       "          s.src = paths[lib];\n",
       "        });\n",
       "    }\n",
       "\n",
       "    function showError(err) {\n",
       "      outputDiv.innerHTML = `<div class=\"error\" style=\"color:red;\">${err}</div>`;\n",
       "      throw err;\n",
       "    }\n",
       "\n",
       "    function displayChart(vegaEmbed) {\n",
       "      vegaEmbed(outputDiv, spec, embedOpt)\n",
       "        .catch(err => showError(`Javascript Error: ${err.message}<br>This usually means there's a typo in your chart specification. See the javascript console for the full traceback.`));\n",
       "    }\n",
       "\n",
       "    if(typeof define === \"function\" && define.amd) {\n",
       "      requirejs.config({paths});\n",
       "      let deps = [\"vega-embed\"];\n",
       "      require(deps, displayChart, err => showError(`Error loading script: ${err.message}`));\n",
       "    } else {\n",
       "      maybeLoadScript(\"vega\", \"5\")\n",
       "        .then(() => maybeLoadScript(\"vega-lite\", \"5.20.1\"))\n",
       "        .then(() => maybeLoadScript(\"vega-embed\", \"6\"))\n",
       "        .catch(showError)\n",
       "        .then(() => displayChart(vegaEmbed));\n",
       "    }\n",
       "  })({\"config\": {\"axisLeft\": {\"labelFontSize\": 15}, \"axisBottom\": {\"labelFontSize\": 15}}, \"data\": {\"name\": \"data-2e7ddaa57a24c457e3a5571f72850a89\"}, \"mark\": {\"type\": \"bar\"}, \"encoding\": {\"color\": {\"field\": \"author_association\", \"scale\": {\"domain\": [\"MEMBER\", \"CONTRIBUTOR\", \"COLLABORATOR\", \"NONE\"], \"range\": [\"rgb(211.82745098039214, 211.82745098039214, 211.82745098039214)\", \"rgb(166.98562091503268, 229.89803921568628, 166.98562091503268)\", \"rgb(96.37647058823529, 192.75294117647059, 96.37647058823529)\", \"rgb(0.0, 100.3921568627451, 0.0)\"]}, \"type\": \"nominal\"}, \"x\": {\"field\": \"username\", \"type\": \"nominal\"}, \"y\": {\"field\": \"authored\", \"type\": \"quantitative\"}}, \"title\": \"PR authors for jupyter-book in the last 90 days\", \"$schema\": \"https://vega.github.io/schema/vega-lite/v5.20.1.json\", \"datasets\": {\"data-2e7ddaa57a24c457e3a5571f72850a89\": [{\"username\": \"agoose77\", \"authored\": 48, \"author_association\": \"MEMBER\"}, {\"username\": \"choldgraf\", \"authored\": 19, \"author_association\": \"MEMBER\"}, {\"username\": \"rowanc1\", \"authored\": 12, \"author_association\": \"MEMBER\"}, {\"username\": \"github-actions[bot]\", \"authored\": 9, \"author_association\": \"CONTRIBUTOR\"}, {\"username\": \"stefanv\", \"authored\": 5, \"author_association\": \"COLLABORATOR\"}, {\"username\": \"fwkoch\", \"authored\": 4, \"author_association\": \"MEMBER\"}, {\"username\": \"stevejpurves\", \"authored\": 3, \"author_association\": \"MEMBER\"}, {\"username\": \"JimMadge\", \"authored\": 3, \"author_association\": \"NONE\"}, {\"username\": \"FernandoBasso\", \"authored\": 1, \"author_association\": \"CONTRIBUTOR\"}, {\"username\": \"StefanRR\", \"authored\": 1, \"author_association\": \"CONTRIBUTOR\"}, {\"username\": \"fperez\", \"authored\": 1, \"author_association\": \"CONTRIBUTOR\"}, {\"username\": \"da5nsy\", \"authored\": 1, \"author_association\": \"CONTRIBUTOR\"}, {\"username\": \"bsipocz\", \"authored\": 1, \"author_association\": \"CONTRIBUTOR\"}, {\"username\": \"alanrice\", \"authored\": 1, \"author_association\": \"CONTRIBUTOR\"}, {\"username\": \"RHammond2\", \"authored\": 1, \"author_association\": \"NONE\"}, {\"username\": \"kne42\", \"authored\": 1, \"author_association\": \"CONTRIBUTOR\"}, {\"username\": \"nmielec\", \"authored\": 1, \"author_association\": \"CONTRIBUTOR\"}, {\"username\": \"parmentelat\", \"authored\": 1, \"author_association\": \"CONTRIBUTOR\"}]}}, {\"mode\": \"vega-lite\"});\n",
       "</script>"
      ],
      "text/plain": [
       "alt.Chart(...)"
      ]
     },
     "execution_count": 13,
     "metadata": {},
     "output_type": "execute_result"
    }
   ],
   "source": [
    "charts = []\n",
    "title = f\"PR authors for {github_org} in the last {n_days} days\"\n",
    "this_data = merged_by_repo.replace(np.nan, 0).groupby('username', as_index=False).agg({'authored': 'sum', 'author_association': 'first'})\n",
    "this_data = this_data.sort_values('authored', ascending=False)\n",
    "ch = alt.Chart(data=this_data, title=title).mark_bar().encode(\n",
    "    x='username',\n",
    "    y='authored',\n",
    "    color=alt.Color('author_association', scale=alt.Scale(domain=author_types, range=author_colors))\n",
    ")\n",
    "ch"
   ]
  },
  {
   "cell_type": "code",
   "execution_count": 14,
   "id": "d66f9d1f",
   "metadata": {
    "editable": true,
    "execution": {
     "iopub.execute_input": "2025-05-20T01:30:46.054556Z",
     "iopub.status.busy": "2025-05-20T01:30:46.054081Z",
     "iopub.status.idle": "2025-05-20T01:30:46.071478Z",
     "shell.execute_reply": "2025-05-20T01:30:46.070935Z"
    },
    "papermill": {
     "duration": 0.034761,
     "end_time": "2025-05-20T01:30:46.072453",
     "exception": false,
     "start_time": "2025-05-20T01:30:46.037692",
     "status": "completed"
    },
    "slideshow": {
     "slide_type": ""
    },
    "tags": [
     "hide_input"
    ]
   },
   "outputs": [
    {
     "data": {
      "text/html": [
       "\n",
       "<style>\n",
       "  #altair-viz-60f1b6f8dbf04ee0982ed7c0038184f8.vega-embed {\n",
       "    width: 100%;\n",
       "    display: flex;\n",
       "  }\n",
       "\n",
       "  #altair-viz-60f1b6f8dbf04ee0982ed7c0038184f8.vega-embed details,\n",
       "  #altair-viz-60f1b6f8dbf04ee0982ed7c0038184f8.vega-embed details summary {\n",
       "    position: relative;\n",
       "  }\n",
       "</style>\n",
       "<div id=\"altair-viz-60f1b6f8dbf04ee0982ed7c0038184f8\"></div>\n",
       "<script type=\"text/javascript\">\n",
       "  var VEGA_DEBUG = (typeof VEGA_DEBUG == \"undefined\") ? {} : VEGA_DEBUG;\n",
       "  (function(spec, embedOpt){\n",
       "    let outputDiv = document.currentScript.previousElementSibling;\n",
       "    if (outputDiv.id !== \"altair-viz-60f1b6f8dbf04ee0982ed7c0038184f8\") {\n",
       "      outputDiv = document.getElementById(\"altair-viz-60f1b6f8dbf04ee0982ed7c0038184f8\");\n",
       "    }\n",
       "\n",
       "    const paths = {\n",
       "      \"vega\": \"https://cdn.jsdelivr.net/npm/vega@5?noext\",\n",
       "      \"vega-lib\": \"https://cdn.jsdelivr.net/npm/vega-lib?noext\",\n",
       "      \"vega-lite\": \"https://cdn.jsdelivr.net/npm/vega-lite@5.20.1?noext\",\n",
       "      \"vega-embed\": \"https://cdn.jsdelivr.net/npm/vega-embed@6?noext\",\n",
       "    };\n",
       "\n",
       "    function maybeLoadScript(lib, version) {\n",
       "      var key = `${lib.replace(\"-\", \"\")}_version`;\n",
       "      return (VEGA_DEBUG[key] == version) ?\n",
       "        Promise.resolve(paths[lib]) :\n",
       "        new Promise(function(resolve, reject) {\n",
       "          var s = document.createElement('script');\n",
       "          document.getElementsByTagName(\"head\")[0].appendChild(s);\n",
       "          s.async = true;\n",
       "          s.onload = () => {\n",
       "            VEGA_DEBUG[key] = version;\n",
       "            return resolve(paths[lib]);\n",
       "          };\n",
       "          s.onerror = () => reject(`Error loading script: ${paths[lib]}`);\n",
       "          s.src = paths[lib];\n",
       "        });\n",
       "    }\n",
       "\n",
       "    function showError(err) {\n",
       "      outputDiv.innerHTML = `<div class=\"error\" style=\"color:red;\">${err}</div>`;\n",
       "      throw err;\n",
       "    }\n",
       "\n",
       "    function displayChart(vegaEmbed) {\n",
       "      vegaEmbed(outputDiv, spec, embedOpt)\n",
       "        .catch(err => showError(`Javascript Error: ${err.message}<br>This usually means there's a typo in your chart specification. See the javascript console for the full traceback.`));\n",
       "    }\n",
       "\n",
       "    if(typeof define === \"function\" && define.amd) {\n",
       "      requirejs.config({paths});\n",
       "      let deps = [\"vega-embed\"];\n",
       "      require(deps, displayChart, err => showError(`Error loading script: ${err.message}`));\n",
       "    } else {\n",
       "      maybeLoadScript(\"vega\", \"5\")\n",
       "        .then(() => maybeLoadScript(\"vega-lite\", \"5.20.1\"))\n",
       "        .then(() => maybeLoadScript(\"vega-embed\", \"6\"))\n",
       "        .catch(showError)\n",
       "        .then(() => displayChart(vegaEmbed));\n",
       "    }\n",
       "  })({\"config\": {\"axisLeft\": {\"labelFontSize\": 15}, \"axisBottom\": {\"labelFontSize\": 15}}, \"data\": {\"name\": \"data-b5bc47d99c17a0acfa7d3faafe0fdc58\"}, \"mark\": {\"type\": \"bar\"}, \"encoding\": {\"x\": {\"field\": \"username\", \"type\": \"nominal\"}, \"y\": {\"field\": \"closed\", \"type\": \"quantitative\"}}, \"title\": \"Users that have merged PRs for jupyter-book in the last 90 days\", \"$schema\": \"https://vega.github.io/schema/vega-lite/v5.20.1.json\", \"datasets\": {\"data-b5bc47d99c17a0acfa7d3faafe0fdc58\": [{\"name\": \"blog\", \"username\": \"agoose77\", \"closed\": 3}, {\"name\": \"blog\", \"username\": \"choldgraf\", \"closed\": 1}, {\"name\": \"jupyter-book\", \"username\": \"agoose77\", \"closed\": 12}, {\"name\": \"jupyter-book\", \"username\": \"choldgraf\", \"closed\": 1}, {\"name\": \"myst-spec\", \"username\": \"choldgraf\", \"closed\": 1}, {\"name\": \"myst-theme\", \"username\": \"agoose77\", \"closed\": 11}, {\"name\": \"myst-theme\", \"username\": \"choldgraf\", \"closed\": 1}, {\"name\": \"myst-theme\", \"username\": \"rowanc1\", \"closed\": 17}, {\"name\": \"myst-theme\", \"username\": \"stevejpurves\", \"closed\": 3}, {\"name\": \"mystmd\", \"username\": \"agoose77\", \"closed\": 12}, {\"name\": \"mystmd\", \"username\": \"choldgraf\", \"closed\": 13}, {\"name\": \"mystmd\", \"username\": \"fwkoch\", \"closed\": 4}, {\"name\": \"mystmd\", \"username\": \"rowanc1\", \"closed\": 19}, {\"name\": \"mystmd\", \"username\": \"stefanv\", \"closed\": 1}, {\"name\": \"mystmd\", \"username\": \"stevejpurves\", \"closed\": 1}, {\"name\": \"mystmd.org\", \"username\": \"agoose77\", \"closed\": 3}, {\"name\": \"mystmd.org\", \"username\": \"choldgraf\", \"closed\": 2}, {\"name\": \"mystmd.org\", \"username\": \"rowanc1\", \"closed\": 1}, {\"name\": \"team-compass\", \"username\": \"agoose77\", \"closed\": 1}, {\"name\": \"team-compass\", \"username\": \"choldgraf\", \"closed\": 5}, {\"name\": \"thebe\", \"username\": \"choldgraf\", \"closed\": 1}]}}, {\"mode\": \"vega-lite\"});\n",
       "</script>"
      ],
      "text/plain": [
       "alt.Chart(...)"
      ]
     },
     "execution_count": 14,
     "metadata": {},
     "output_type": "execute_result"
    }
   ],
   "source": [
    "charts = []\n",
    "title = f\"Users that have merged PRs for {github_org} in the last {n_days} days\"\n",
    "ch = alt.Chart(data=closed_by_repo.replace(np.nan, 0), title=title).mark_bar().encode(\n",
    "    x='username',\n",
    "    y='closed',\n",
    ")\n",
    "ch"
   ]
  },
  {
   "cell_type": "markdown",
   "id": "98825e36",
   "metadata": {
    "editable": true,
    "papermill": {
     "duration": 0.015047,
     "end_time": "2025-05-20T01:30:46.102582",
     "exception": false,
     "start_time": "2025-05-20T01:30:46.087535",
     "status": "completed"
    },
    "slideshow": {
     "slide_type": ""
    },
    "tags": []
   },
   "source": [
    "## Issues\n",
    "\n",
    "Issues are **conversations** that happen on our GitHub repositories. Here's an\n",
    "analysis of issues across the Jupyter organizations."
   ]
  },
  {
   "cell_type": "code",
   "execution_count": 15,
   "id": "c55de79e",
   "metadata": {
    "editable": true,
    "execution": {
     "iopub.execute_input": "2025-05-20T01:30:46.133622Z",
     "iopub.status.busy": "2025-05-20T01:30:46.133275Z",
     "iopub.status.idle": "2025-05-20T01:30:46.150485Z",
     "shell.execute_reply": "2025-05-20T01:30:46.149850Z"
    },
    "papermill": {
     "duration": 0.033963,
     "end_time": "2025-05-20T01:30:46.151557",
     "exception": false,
     "start_time": "2025-05-20T01:30:46.117594",
     "status": "completed"
    },
    "slideshow": {
     "slide_type": ""
    },
    "tags": [
     "remove_cell"
    ]
   },
   "outputs": [],
   "source": [
    "created = issues.query('state == \"open\" and created_at > @start_date and created_at < @stop_date')\n",
    "closed = issues.query('state == \"closed\" and closed_at > @start_date and closed_at < @stop_date')"
   ]
  },
  {
   "cell_type": "code",
   "execution_count": 16,
   "id": "310f4b3d",
   "metadata": {
    "editable": true,
    "execution": {
     "iopub.execute_input": "2025-05-20T01:30:46.184077Z",
     "iopub.status.busy": "2025-05-20T01:30:46.183659Z",
     "iopub.status.idle": "2025-05-20T01:30:46.206194Z",
     "shell.execute_reply": "2025-05-20T01:30:46.205546Z"
    },
    "papermill": {
     "duration": 0.040105,
     "end_time": "2025-05-20T01:30:46.207318",
     "exception": false,
     "start_time": "2025-05-20T01:30:46.167213",
     "status": "completed"
    },
    "slideshow": {
     "slide_type": ""
    },
    "tags": [
     "hide_input"
    ]
   },
   "outputs": [
    {
     "data": {
      "text/html": [
       "\n",
       "<style>\n",
       "  #altair-viz-c96a14fe329843318607ba4a36e36b6e.vega-embed {\n",
       "    width: 100%;\n",
       "    display: flex;\n",
       "  }\n",
       "\n",
       "  #altair-viz-c96a14fe329843318607ba4a36e36b6e.vega-embed details,\n",
       "  #altair-viz-c96a14fe329843318607ba4a36e36b6e.vega-embed details summary {\n",
       "    position: relative;\n",
       "  }\n",
       "</style>\n",
       "<div id=\"altair-viz-c96a14fe329843318607ba4a36e36b6e\"></div>\n",
       "<script type=\"text/javascript\">\n",
       "  var VEGA_DEBUG = (typeof VEGA_DEBUG == \"undefined\") ? {} : VEGA_DEBUG;\n",
       "  (function(spec, embedOpt){\n",
       "    let outputDiv = document.currentScript.previousElementSibling;\n",
       "    if (outputDiv.id !== \"altair-viz-c96a14fe329843318607ba4a36e36b6e\") {\n",
       "      outputDiv = document.getElementById(\"altair-viz-c96a14fe329843318607ba4a36e36b6e\");\n",
       "    }\n",
       "\n",
       "    const paths = {\n",
       "      \"vega\": \"https://cdn.jsdelivr.net/npm/vega@5?noext\",\n",
       "      \"vega-lib\": \"https://cdn.jsdelivr.net/npm/vega-lib?noext\",\n",
       "      \"vega-lite\": \"https://cdn.jsdelivr.net/npm/vega-lite@5.20.1?noext\",\n",
       "      \"vega-embed\": \"https://cdn.jsdelivr.net/npm/vega-embed@6?noext\",\n",
       "    };\n",
       "\n",
       "    function maybeLoadScript(lib, version) {\n",
       "      var key = `${lib.replace(\"-\", \"\")}_version`;\n",
       "      return (VEGA_DEBUG[key] == version) ?\n",
       "        Promise.resolve(paths[lib]) :\n",
       "        new Promise(function(resolve, reject) {\n",
       "          var s = document.createElement('script');\n",
       "          document.getElementsByTagName(\"head\")[0].appendChild(s);\n",
       "          s.async = true;\n",
       "          s.onload = () => {\n",
       "            VEGA_DEBUG[key] = version;\n",
       "            return resolve(paths[lib]);\n",
       "          };\n",
       "          s.onerror = () => reject(`Error loading script: ${paths[lib]}`);\n",
       "          s.src = paths[lib];\n",
       "        });\n",
       "    }\n",
       "\n",
       "    function showError(err) {\n",
       "      outputDiv.innerHTML = `<div class=\"error\" style=\"color:red;\">${err}</div>`;\n",
       "      throw err;\n",
       "    }\n",
       "\n",
       "    function displayChart(vegaEmbed) {\n",
       "      vegaEmbed(outputDiv, spec, embedOpt)\n",
       "        .catch(err => showError(`Javascript Error: ${err.message}<br>This usually means there's a typo in your chart specification. See the javascript console for the full traceback.`));\n",
       "    }\n",
       "\n",
       "    if(typeof define === \"function\" && define.amd) {\n",
       "      requirejs.config({paths});\n",
       "      let deps = [\"vega-embed\"];\n",
       "      require(deps, displayChart, err => showError(`Error loading script: ${err.message}`));\n",
       "    } else {\n",
       "      maybeLoadScript(\"vega\", \"5\")\n",
       "        .then(() => maybeLoadScript(\"vega-lite\", \"5.20.1\"))\n",
       "        .then(() => maybeLoadScript(\"vega-embed\", \"6\"))\n",
       "        .catch(showError)\n",
       "        .then(() => displayChart(vegaEmbed));\n",
       "    }\n",
       "  })({\"config\": {\"axisLeft\": {\"labelFontSize\": 15}, \"axisBottom\": {\"labelFontSize\": 15}}, \"data\": {\"name\": \"data-d49f01d972b06aeae55d15aa2fd5b929\"}, \"mark\": {\"type\": \"bar\"}, \"encoding\": {\"x\": {\"field\": \"repo\", \"sort\": [\"mystmd\", \"jupyter-book\", \"myst-theme\", \"team-compass\", \"jupyterlab-myst\", \"thebe\", \"mystmd.org\"], \"type\": \"nominal\"}, \"y\": {\"field\": \"number\", \"type\": \"quantitative\"}}, \"title\": \"Issues created in the last 90 days\", \"$schema\": \"https://vega.github.io/schema/vega-lite/v5.20.1.json\", \"datasets\": {\"data-d49f01d972b06aeae55d15aa2fd5b929\": [{\"org\": \"jupyter-book\", \"repo\": \"jupyter-book\", \"number\": 14, \"org/repo\": \"jupyter-book/jupyter-book\"}, {\"org\": \"jupyter-book\", \"repo\": \"jupyterlab-myst\", \"number\": 7, \"org/repo\": \"jupyter-book/jupyterlab-myst\"}, {\"org\": \"jupyter-book\", \"repo\": \"myst-theme\", \"number\": 10, \"org/repo\": \"jupyter-book/myst-theme\"}, {\"org\": \"jupyter-book\", \"repo\": \"mystmd\", \"number\": 69, \"org/repo\": \"jupyter-book/mystmd\"}, {\"org\": \"jupyter-book\", \"repo\": \"mystmd.org\", \"number\": 1, \"org/repo\": \"jupyter-book/mystmd.org\"}, {\"org\": \"jupyter-book\", \"repo\": \"team-compass\", \"number\": 8, \"org/repo\": \"jupyter-book/team-compass\"}, {\"org\": \"jupyter-book\", \"repo\": \"thebe\", \"number\": 2, \"org/repo\": \"jupyter-book/thebe\"}]}}, {\"mode\": \"vega-lite\"});\n",
       "</script>"
      ],
      "text/plain": [
       "alt.Chart(...)"
      ]
     },
     "execution_count": 16,
     "metadata": {},
     "output_type": "execute_result"
    }
   ],
   "source": [
    "created_counts = created.groupby(['org', 'repo']).count()['number'].reset_index()\n",
    "created_counts['org/repo'] = created_counts.apply(lambda a: a['org'] + '/' + a['repo'], axis=1)\n",
    "sorted_vals = created_counts.sort_values(['org', 'number'], ascending=False)['repo'].values\n",
    "alt.Chart(data=created_counts, title=f\"Issues created in the last {n_days} days\").mark_bar().encode(\n",
    "    x=alt.X('repo', sort=alt.Sort(sorted_vals.tolist())),\n",
    "    y='number',\n",
    ")"
   ]
  },
  {
   "cell_type": "code",
   "execution_count": 17,
   "id": "7ef08212",
   "metadata": {
    "editable": true,
    "execution": {
     "iopub.execute_input": "2025-05-20T01:30:46.239190Z",
     "iopub.status.busy": "2025-05-20T01:30:46.238731Z",
     "iopub.status.idle": "2025-05-20T01:30:46.259126Z",
     "shell.execute_reply": "2025-05-20T01:30:46.258593Z"
    },
    "papermill": {
     "duration": 0.037506,
     "end_time": "2025-05-20T01:30:46.260208",
     "exception": false,
     "start_time": "2025-05-20T01:30:46.222702",
     "status": "completed"
    },
    "slideshow": {
     "slide_type": ""
    },
    "tags": [
     "hide_input"
    ]
   },
   "outputs": [
    {
     "data": {
      "text/html": [
       "\n",
       "<style>\n",
       "  #altair-viz-d9c2a4f7859a4578a520ac3bcf9d2953.vega-embed {\n",
       "    width: 100%;\n",
       "    display: flex;\n",
       "  }\n",
       "\n",
       "  #altair-viz-d9c2a4f7859a4578a520ac3bcf9d2953.vega-embed details,\n",
       "  #altair-viz-d9c2a4f7859a4578a520ac3bcf9d2953.vega-embed details summary {\n",
       "    position: relative;\n",
       "  }\n",
       "</style>\n",
       "<div id=\"altair-viz-d9c2a4f7859a4578a520ac3bcf9d2953\"></div>\n",
       "<script type=\"text/javascript\">\n",
       "  var VEGA_DEBUG = (typeof VEGA_DEBUG == \"undefined\") ? {} : VEGA_DEBUG;\n",
       "  (function(spec, embedOpt){\n",
       "    let outputDiv = document.currentScript.previousElementSibling;\n",
       "    if (outputDiv.id !== \"altair-viz-d9c2a4f7859a4578a520ac3bcf9d2953\") {\n",
       "      outputDiv = document.getElementById(\"altair-viz-d9c2a4f7859a4578a520ac3bcf9d2953\");\n",
       "    }\n",
       "\n",
       "    const paths = {\n",
       "      \"vega\": \"https://cdn.jsdelivr.net/npm/vega@5?noext\",\n",
       "      \"vega-lib\": \"https://cdn.jsdelivr.net/npm/vega-lib?noext\",\n",
       "      \"vega-lite\": \"https://cdn.jsdelivr.net/npm/vega-lite@5.20.1?noext\",\n",
       "      \"vega-embed\": \"https://cdn.jsdelivr.net/npm/vega-embed@6?noext\",\n",
       "    };\n",
       "\n",
       "    function maybeLoadScript(lib, version) {\n",
       "      var key = `${lib.replace(\"-\", \"\")}_version`;\n",
       "      return (VEGA_DEBUG[key] == version) ?\n",
       "        Promise.resolve(paths[lib]) :\n",
       "        new Promise(function(resolve, reject) {\n",
       "          var s = document.createElement('script');\n",
       "          document.getElementsByTagName(\"head\")[0].appendChild(s);\n",
       "          s.async = true;\n",
       "          s.onload = () => {\n",
       "            VEGA_DEBUG[key] = version;\n",
       "            return resolve(paths[lib]);\n",
       "          };\n",
       "          s.onerror = () => reject(`Error loading script: ${paths[lib]}`);\n",
       "          s.src = paths[lib];\n",
       "        });\n",
       "    }\n",
       "\n",
       "    function showError(err) {\n",
       "      outputDiv.innerHTML = `<div class=\"error\" style=\"color:red;\">${err}</div>`;\n",
       "      throw err;\n",
       "    }\n",
       "\n",
       "    function displayChart(vegaEmbed) {\n",
       "      vegaEmbed(outputDiv, spec, embedOpt)\n",
       "        .catch(err => showError(`Javascript Error: ${err.message}<br>This usually means there's a typo in your chart specification. See the javascript console for the full traceback.`));\n",
       "    }\n",
       "\n",
       "    if(typeof define === \"function\" && define.amd) {\n",
       "      requirejs.config({paths});\n",
       "      let deps = [\"vega-embed\"];\n",
       "      require(deps, displayChart, err => showError(`Error loading script: ${err.message}`));\n",
       "    } else {\n",
       "      maybeLoadScript(\"vega\", \"5\")\n",
       "        .then(() => maybeLoadScript(\"vega-lite\", \"5.20.1\"))\n",
       "        .then(() => maybeLoadScript(\"vega-embed\", \"6\"))\n",
       "        .catch(showError)\n",
       "        .then(() => displayChart(vegaEmbed));\n",
       "    }\n",
       "  })({\"config\": {\"axisLeft\": {\"labelFontSize\": 15}, \"axisBottom\": {\"labelFontSize\": 15}}, \"data\": {\"name\": \"data-c06a899c6858b89a3d45be8801860983\"}, \"mark\": {\"type\": \"bar\"}, \"encoding\": {\"x\": {\"field\": \"repo\", \"sort\": [\"mystmd\", \"jupyter-book\", \"myst-theme\", \"mystmd.org\", \"team-compass\", \"jupyterlab-myst\"], \"type\": \"nominal\"}, \"y\": {\"field\": \"number\", \"type\": \"quantitative\"}}, \"title\": \"Issues closed in the last 90 days\", \"$schema\": \"https://vega.github.io/schema/vega-lite/v5.20.1.json\", \"datasets\": {\"data-c06a899c6858b89a3d45be8801860983\": [{\"org\": \"jupyter-book\", \"repo\": \"jupyter-book\", \"number\": 6, \"org/repo\": \"jupyter-book/jupyter-book\"}, {\"org\": \"jupyter-book\", \"repo\": \"jupyterlab-myst\", \"number\": 1, \"org/repo\": \"jupyter-book/jupyterlab-myst\"}, {\"org\": \"jupyter-book\", \"repo\": \"myst-theme\", \"number\": 6, \"org/repo\": \"jupyter-book/myst-theme\"}, {\"org\": \"jupyter-book\", \"repo\": \"mystmd\", \"number\": 25, \"org/repo\": \"jupyter-book/mystmd\"}, {\"org\": \"jupyter-book\", \"repo\": \"mystmd.org\", \"number\": 2, \"org/repo\": \"jupyter-book/mystmd.org\"}, {\"org\": \"jupyter-book\", \"repo\": \"team-compass\", \"number\": 2, \"org/repo\": \"jupyter-book/team-compass\"}]}}, {\"mode\": \"vega-lite\"});\n",
       "</script>"
      ],
      "text/plain": [
       "alt.Chart(...)"
      ]
     },
     "execution_count": 17,
     "metadata": {},
     "output_type": "execute_result"
    }
   ],
   "source": [
    "closed_counts = closed.groupby(['org', 'repo']).count()['number'].reset_index()\n",
    "closed_counts['org/repo'] = closed_counts.apply(lambda a: a['org'] + '/' + a['repo'], axis=1)\n",
    "sorted_vals = closed_counts.sort_values(['number'], ascending=False)['repo'].values\n",
    "alt.Chart(data=closed_counts, title=f\"Issues closed in the last {n_days} days\").mark_bar().encode(\n",
    "    x=alt.X('repo', sort=alt.Sort(sorted_vals.tolist())),\n",
    "    y='number',\n",
    ")"
   ]
  },
  {
   "cell_type": "code",
   "execution_count": 18,
   "id": "ce6d5d74",
   "metadata": {
    "editable": true,
    "execution": {
     "iopub.execute_input": "2025-05-20T01:30:46.292087Z",
     "iopub.status.busy": "2025-05-20T01:30:46.291890Z",
     "iopub.status.idle": "2025-05-20T01:30:46.300639Z",
     "shell.execute_reply": "2025-05-20T01:30:46.300085Z"
    },
    "papermill": {
     "duration": 0.025896,
     "end_time": "2025-05-20T01:30:46.301620",
     "exception": false,
     "start_time": "2025-05-20T01:30:46.275724",
     "status": "completed"
    },
    "slideshow": {
     "slide_type": ""
    },
    "tags": [
     "remove_cell"
    ]
   },
   "outputs": [],
   "source": [
    "created_closed = pd.merge(created_counts.rename(columns={'number': 'created'}).drop(columns='org/repo'),\n",
    "                          closed_counts.rename(columns={'number': 'closed'}).drop(columns='org/repo'),\n",
    "                          on=['org', 'repo'], how='outer')\n",
    "\n",
    "created_closed = pd.melt(created_closed, id_vars=['org', 'repo'], var_name=\"kind\", value_name=\"count\").replace(np.nan, 0)"
   ]
  },
  {
   "cell_type": "code",
   "execution_count": 19,
   "id": "5ae3814a",
   "metadata": {
    "editable": true,
    "execution": {
     "iopub.execute_input": "2025-05-20T01:30:46.334927Z",
     "iopub.status.busy": "2025-05-20T01:30:46.334543Z",
     "iopub.status.idle": "2025-05-20T01:30:46.357639Z",
     "shell.execute_reply": "2025-05-20T01:30:46.356966Z"
    },
    "papermill": {
     "duration": 0.041135,
     "end_time": "2025-05-20T01:30:46.358794",
     "exception": false,
     "start_time": "2025-05-20T01:30:46.317659",
     "status": "completed"
    },
    "scrolled": true,
    "slideshow": {
     "slide_type": ""
    },
    "tags": [
     "hide_input"
    ]
   },
   "outputs": [
    {
     "data": {
      "text/html": [
       "\n",
       "<style>\n",
       "  #altair-viz-8bfa3508b8e1438f9155047d21d935b9.vega-embed {\n",
       "    width: 100%;\n",
       "    display: flex;\n",
       "  }\n",
       "\n",
       "  #altair-viz-8bfa3508b8e1438f9155047d21d935b9.vega-embed details,\n",
       "  #altair-viz-8bfa3508b8e1438f9155047d21d935b9.vega-embed details summary {\n",
       "    position: relative;\n",
       "  }\n",
       "</style>\n",
       "<div id=\"altair-viz-8bfa3508b8e1438f9155047d21d935b9\"></div>\n",
       "<script type=\"text/javascript\">\n",
       "  var VEGA_DEBUG = (typeof VEGA_DEBUG == \"undefined\") ? {} : VEGA_DEBUG;\n",
       "  (function(spec, embedOpt){\n",
       "    let outputDiv = document.currentScript.previousElementSibling;\n",
       "    if (outputDiv.id !== \"altair-viz-8bfa3508b8e1438f9155047d21d935b9\") {\n",
       "      outputDiv = document.getElementById(\"altair-viz-8bfa3508b8e1438f9155047d21d935b9\");\n",
       "    }\n",
       "\n",
       "    const paths = {\n",
       "      \"vega\": \"https://cdn.jsdelivr.net/npm/vega@5?noext\",\n",
       "      \"vega-lib\": \"https://cdn.jsdelivr.net/npm/vega-lib?noext\",\n",
       "      \"vega-lite\": \"https://cdn.jsdelivr.net/npm/vega-lite@5.20.1?noext\",\n",
       "      \"vega-embed\": \"https://cdn.jsdelivr.net/npm/vega-embed@6?noext\",\n",
       "    };\n",
       "\n",
       "    function maybeLoadScript(lib, version) {\n",
       "      var key = `${lib.replace(\"-\", \"\")}_version`;\n",
       "      return (VEGA_DEBUG[key] == version) ?\n",
       "        Promise.resolve(paths[lib]) :\n",
       "        new Promise(function(resolve, reject) {\n",
       "          var s = document.createElement('script');\n",
       "          document.getElementsByTagName(\"head\")[0].appendChild(s);\n",
       "          s.async = true;\n",
       "          s.onload = () => {\n",
       "            VEGA_DEBUG[key] = version;\n",
       "            return resolve(paths[lib]);\n",
       "          };\n",
       "          s.onerror = () => reject(`Error loading script: ${paths[lib]}`);\n",
       "          s.src = paths[lib];\n",
       "        });\n",
       "    }\n",
       "\n",
       "    function showError(err) {\n",
       "      outputDiv.innerHTML = `<div class=\"error\" style=\"color:red;\">${err}</div>`;\n",
       "      throw err;\n",
       "    }\n",
       "\n",
       "    function displayChart(vegaEmbed) {\n",
       "      vegaEmbed(outputDiv, spec, embedOpt)\n",
       "        .catch(err => showError(`Javascript Error: ${err.message}<br>This usually means there's a typo in your chart specification. See the javascript console for the full traceback.`));\n",
       "    }\n",
       "\n",
       "    if(typeof define === \"function\" && define.amd) {\n",
       "      requirejs.config({paths});\n",
       "      let deps = [\"vega-embed\"];\n",
       "      require(deps, displayChart, err => showError(`Error loading script: ${err.message}`));\n",
       "    } else {\n",
       "      maybeLoadScript(\"vega\", \"5\")\n",
       "        .then(() => maybeLoadScript(\"vega-lite\", \"5.20.1\"))\n",
       "        .then(() => maybeLoadScript(\"vega-embed\", \"6\"))\n",
       "        .catch(showError)\n",
       "        .then(() => displayChart(vegaEmbed));\n",
       "    }\n",
       "  })({\"config\": {\"axisLeft\": {\"labelFontSize\": 15}, \"axisBottom\": {\"labelFontSize\": 15}}, \"data\": {\"name\": \"data-84b8a0ac87a42a0b2d3a87c3bd3afd84\"}, \"mark\": {\"type\": \"bar\"}, \"encoding\": {\"color\": {\"field\": \"kind\", \"type\": \"nominal\"}, \"column\": {\"field\": \"repo\", \"header\": {\"labelFontSize\": 12, \"title\": \"Issue activity, last 90 days for jupyter-book\", \"titleFontSize\": 15}, \"type\": \"nominal\"}, \"x\": {\"axis\": {\"labelFontSize\": 15, \"title\": \"\"}, \"field\": \"kind\", \"type\": \"nominal\"}, \"y\": {\"axis\": {\"labelFontSize\": 12, \"titleFontSize\": 15}, \"field\": \"count\", \"type\": \"quantitative\"}}, \"width\": 120, \"$schema\": \"https://vega.github.io/schema/vega-lite/v5.20.1.json\", \"datasets\": {\"data-84b8a0ac87a42a0b2d3a87c3bd3afd84\": [{\"org\": \"jupyter-book\", \"repo\": \"jupyter-book\", \"kind\": \"created\", \"count\": 14.0}, {\"org\": \"jupyter-book\", \"repo\": \"jupyterlab-myst\", \"kind\": \"created\", \"count\": 7.0}, {\"org\": \"jupyter-book\", \"repo\": \"myst-theme\", \"kind\": \"created\", \"count\": 10.0}, {\"org\": \"jupyter-book\", \"repo\": \"mystmd\", \"kind\": \"created\", \"count\": 69.0}, {\"org\": \"jupyter-book\", \"repo\": \"mystmd.org\", \"kind\": \"created\", \"count\": 1.0}, {\"org\": \"jupyter-book\", \"repo\": \"team-compass\", \"kind\": \"created\", \"count\": 8.0}, {\"org\": \"jupyter-book\", \"repo\": \"thebe\", \"kind\": \"created\", \"count\": 2.0}, {\"org\": \"jupyter-book\", \"repo\": \"jupyter-book\", \"kind\": \"closed\", \"count\": 6.0}, {\"org\": \"jupyter-book\", \"repo\": \"jupyterlab-myst\", \"kind\": \"closed\", \"count\": 1.0}, {\"org\": \"jupyter-book\", \"repo\": \"myst-theme\", \"kind\": \"closed\", \"count\": 6.0}, {\"org\": \"jupyter-book\", \"repo\": \"mystmd\", \"kind\": \"closed\", \"count\": 25.0}, {\"org\": \"jupyter-book\", \"repo\": \"mystmd.org\", \"kind\": \"closed\", \"count\": 2.0}, {\"org\": \"jupyter-book\", \"repo\": \"team-compass\", \"kind\": \"closed\", \"count\": 2.0}, {\"org\": \"jupyter-book\", \"repo\": \"thebe\", \"kind\": \"closed\", \"count\": 0.0}]}}, {\"mode\": \"vega-lite\"});\n",
       "</script>"
      ],
      "text/plain": [
       "alt.Chart(...)"
      ]
     },
     "execution_count": 19,
     "metadata": {},
     "output_type": "execute_result"
    }
   ],
   "source": [
    "charts = []\n",
    "# Pick the top 10 repositories\n",
    "top_repos = created_closed.groupby(['repo']).sum().sort_values(by='count', ascending=False).head(10).index\n",
    "ch = alt.Chart(created_closed.query('repo in @top_repos'), width=120).mark_bar().encode(\n",
    "    x=alt.X(\"kind\", axis=alt.Axis(labelFontSize=15, title=\"\")), \n",
    "    y=alt.Y('count', axis=alt.Axis(titleFontSize=15, labelFontSize=12)),\n",
    "    color='kind',\n",
    "    column=alt.Column(\"repo\", header=alt.Header(title=f\"Issue activity, last {n_days} days for {github_org}\", titleFontSize=15, labelFontSize=12))\n",
    ")\n",
    "ch"
   ]
  },
  {
   "cell_type": "code",
   "execution_count": 20,
   "id": "9116f881",
   "metadata": {
    "editable": true,
    "execution": {
     "iopub.execute_input": "2025-05-20T01:30:46.391101Z",
     "iopub.status.busy": "2025-05-20T01:30:46.390900Z",
     "iopub.status.idle": "2025-05-20T01:30:46.397201Z",
     "shell.execute_reply": "2025-05-20T01:30:46.396641Z"
    },
    "papermill": {
     "duration": 0.023692,
     "end_time": "2025-05-20T01:30:46.398244",
     "exception": false,
     "start_time": "2025-05-20T01:30:46.374552",
     "status": "completed"
    },
    "slideshow": {
     "slide_type": ""
    },
    "tags": [
     "remove_cell"
    ]
   },
   "outputs": [],
   "source": [
    "# Set to datetime\n",
    "for kind in ['created_at', 'closed_at']:\n",
    "    closed.loc[:, kind] = pd.to_datetime(closed[kind])\n",
    "    \n",
    "closed.loc[:, 'time_open'] = closed['closed_at'] - closed['created_at']\n",
    "closed.loc[:, 'time_open'] = closed['time_open'].dt.total_seconds()"
   ]
  },
  {
   "cell_type": "code",
   "execution_count": 21,
   "id": "d6133e4d",
   "metadata": {
    "editable": true,
    "execution": {
     "iopub.execute_input": "2025-05-20T01:30:46.430542Z",
     "iopub.status.busy": "2025-05-20T01:30:46.430132Z",
     "iopub.status.idle": "2025-05-20T01:30:46.448532Z",
     "shell.execute_reply": "2025-05-20T01:30:46.448027Z"
    },
    "papermill": {
     "duration": 0.035671,
     "end_time": "2025-05-20T01:30:46.449578",
     "exception": false,
     "start_time": "2025-05-20T01:30:46.413907",
     "status": "completed"
    },
    "slideshow": {
     "slide_type": ""
    },
    "tags": [
     "hide_input"
    ]
   },
   "outputs": [
    {
     "data": {
      "text/html": [
       "\n",
       "<style>\n",
       "  #altair-viz-37b363ffd60a48edbd83da3ccf941517.vega-embed {\n",
       "    width: 100%;\n",
       "    display: flex;\n",
       "  }\n",
       "\n",
       "  #altair-viz-37b363ffd60a48edbd83da3ccf941517.vega-embed details,\n",
       "  #altair-viz-37b363ffd60a48edbd83da3ccf941517.vega-embed details summary {\n",
       "    position: relative;\n",
       "  }\n",
       "</style>\n",
       "<div id=\"altair-viz-37b363ffd60a48edbd83da3ccf941517\"></div>\n",
       "<script type=\"text/javascript\">\n",
       "  var VEGA_DEBUG = (typeof VEGA_DEBUG == \"undefined\") ? {} : VEGA_DEBUG;\n",
       "  (function(spec, embedOpt){\n",
       "    let outputDiv = document.currentScript.previousElementSibling;\n",
       "    if (outputDiv.id !== \"altair-viz-37b363ffd60a48edbd83da3ccf941517\") {\n",
       "      outputDiv = document.getElementById(\"altair-viz-37b363ffd60a48edbd83da3ccf941517\");\n",
       "    }\n",
       "\n",
       "    const paths = {\n",
       "      \"vega\": \"https://cdn.jsdelivr.net/npm/vega@5?noext\",\n",
       "      \"vega-lib\": \"https://cdn.jsdelivr.net/npm/vega-lib?noext\",\n",
       "      \"vega-lite\": \"https://cdn.jsdelivr.net/npm/vega-lite@5.20.1?noext\",\n",
       "      \"vega-embed\": \"https://cdn.jsdelivr.net/npm/vega-embed@6?noext\",\n",
       "    };\n",
       "\n",
       "    function maybeLoadScript(lib, version) {\n",
       "      var key = `${lib.replace(\"-\", \"\")}_version`;\n",
       "      return (VEGA_DEBUG[key] == version) ?\n",
       "        Promise.resolve(paths[lib]) :\n",
       "        new Promise(function(resolve, reject) {\n",
       "          var s = document.createElement('script');\n",
       "          document.getElementsByTagName(\"head\")[0].appendChild(s);\n",
       "          s.async = true;\n",
       "          s.onload = () => {\n",
       "            VEGA_DEBUG[key] = version;\n",
       "            return resolve(paths[lib]);\n",
       "          };\n",
       "          s.onerror = () => reject(`Error loading script: ${paths[lib]}`);\n",
       "          s.src = paths[lib];\n",
       "        });\n",
       "    }\n",
       "\n",
       "    function showError(err) {\n",
       "      outputDiv.innerHTML = `<div class=\"error\" style=\"color:red;\">${err}</div>`;\n",
       "      throw err;\n",
       "    }\n",
       "\n",
       "    function displayChart(vegaEmbed) {\n",
       "      vegaEmbed(outputDiv, spec, embedOpt)\n",
       "        .catch(err => showError(`Javascript Error: ${err.message}<br>This usually means there's a typo in your chart specification. See the javascript console for the full traceback.`));\n",
       "    }\n",
       "\n",
       "    if(typeof define === \"function\" && define.amd) {\n",
       "      requirejs.config({paths});\n",
       "      let deps = [\"vega-embed\"];\n",
       "      require(deps, displayChart, err => showError(`Error loading script: ${err.message}`));\n",
       "    } else {\n",
       "      maybeLoadScript(\"vega\", \"5\")\n",
       "        .then(() => maybeLoadScript(\"vega-lite\", \"5.20.1\"))\n",
       "        .then(() => maybeLoadScript(\"vega-embed\", \"6\"))\n",
       "        .catch(showError)\n",
       "        .then(() => displayChart(vegaEmbed));\n",
       "    }\n",
       "  })({\"config\": {\"axisLeft\": {\"labelFontSize\": 15}, \"axisBottom\": {\"labelFontSize\": 15}}, \"data\": {\"name\": \"data-4f89bbccc6d69641cb24abf905abbd03\"}, \"mark\": {\"type\": \"bar\"}, \"encoding\": {\"x\": {\"field\": \"repo\", \"sort\": [\"myst-theme\", \"team-compass\", \"jupyterlab-myst\", \"jupyter-book\", \"mystmd.org\", \"mystmd\"], \"type\": \"nominal\"}, \"y\": {\"field\": \"time_open\", \"title\": \"Median Days Open\", \"type\": \"quantitative\"}}, \"title\": \"Time to close for issues closed in the last 90 days\", \"$schema\": \"https://vega.github.io/schema/vega-lite/v5.20.1.json\", \"datasets\": {\"data-4f89bbccc6d69641cb24abf905abbd03\": [{\"org\": \"jupyter-book\", \"repo\": \"jupyter-book\", \"time_open\": 13.86008101851852, \"org/repo\": \"jupyter-book/jupyter-book\"}, {\"org\": \"jupyter-book\", \"repo\": \"jupyterlab-myst\", \"time_open\": 42.556412037037035, \"org/repo\": \"jupyter-book/jupyterlab-myst\"}, {\"org\": \"jupyter-book\", \"repo\": \"myst-theme\", \"time_open\": 158.4247164351852, \"org/repo\": \"jupyter-book/myst-theme\"}, {\"org\": \"jupyter-book\", \"repo\": \"mystmd\", \"time_open\": 1.5905439814814815, \"org/repo\": \"jupyter-book/mystmd\"}, {\"org\": \"jupyter-book\", \"repo\": \"mystmd.org\", \"time_open\": 7.516956018518519, \"org/repo\": \"jupyter-book/mystmd.org\"}, {\"org\": \"jupyter-book\", \"repo\": \"team-compass\", \"time_open\": 118.50491319444444, \"org/repo\": \"jupyter-book/team-compass\"}]}}, {\"mode\": \"vega-lite\"});\n",
       "</script>"
      ],
      "text/plain": [
       "alt.Chart(...)"
      ]
     },
     "execution_count": 21,
     "metadata": {},
     "output_type": "execute_result"
    }
   ],
   "source": [
    "time_open = closed.groupby(['org', 'repo']).agg({'time_open': 'median'}).reset_index()\n",
    "time_open['time_open'] = time_open['time_open'] / (60 * 60 * 24)\n",
    "time_open['org/repo'] = time_open.apply(lambda a: a['org'] + '/' + a['repo'], axis=1)\n",
    "sorted_vals = time_open.sort_values(['org', 'time_open'], ascending=False)['repo'].values\n",
    "alt.Chart(data=time_open, title=f\"Time to close for issues closed in the last {n_days} days\").mark_bar().encode(\n",
    "    x=alt.X('repo', sort=alt.Sort(sorted_vals.tolist())),\n",
    "    y=alt.Y('time_open', title=\"Median Days Open\"),\n",
    ")"
   ]
  },
  {
   "cell_type": "markdown",
   "id": "a03a58da",
   "metadata": {
    "editable": true,
    "papermill": {
     "duration": 0.016634,
     "end_time": "2025-05-20T01:30:46.482856",
     "exception": false,
     "start_time": "2025-05-20T01:30:46.466222",
     "status": "completed"
    },
    "slideshow": {
     "slide_type": ""
    },
    "tags": []
   },
   "source": [
    "## Most-upvoted issues"
   ]
  },
  {
   "cell_type": "code",
   "execution_count": 22,
   "id": "f918f2e3",
   "metadata": {
    "editable": true,
    "execution": {
     "iopub.execute_input": "2025-05-20T01:30:46.515861Z",
     "iopub.status.busy": "2025-05-20T01:30:46.515337Z",
     "iopub.status.idle": "2025-05-20T01:30:46.538227Z",
     "shell.execute_reply": "2025-05-20T01:30:46.537644Z"
    },
    "papermill": {
     "duration": 0.04053,
     "end_time": "2025-05-20T01:30:46.539270",
     "exception": false,
     "start_time": "2025-05-20T01:30:46.498740",
     "status": "completed"
    },
    "slideshow": {
     "slide_type": ""
    },
    "tags": [
     "hide_input"
    ]
   },
   "outputs": [
    {
     "data": {
      "application/vnd.jupyter.widget-view+json": {
       "model_id": "53ca7be7b05f4d14a0d0103184132b4b",
       "version_major": 2,
       "version_minor": 0
      },
      "text/plain": [
       "HTML(value='<ul>\\n<li>(35) Support for RISE slides - jupyter-book - <a href=\"https://github.com/jupyter-book/j…"
      ]
     },
     "execution_count": 22,
     "metadata": {},
     "output_type": "execute_result"
    }
   ],
   "source": [
    "thumbsup = issues.query(\"state == 'open'\").sort_values(\"positive\", ascending=False).head(25)\n",
    "thumbsup = thumbsup[[\"title\", \"url\", \"number\", \"positive\", \"repo\"]]\n",
    "\n",
    "text = []\n",
    "for ii, irow in thumbsup.iterrows():\n",
    "    itext = f\"- ({irow['positive']}) {irow['title']} - {irow['repo']} - [#{irow['number']}]({irow['url']})\"\n",
    "    text.append(itext)\n",
    "text = '\\n'.join(text)\n",
    "HTML(markdown(text))"
   ]
  },
  {
   "cell_type": "markdown",
   "id": "d34c2ce4",
   "metadata": {
    "editable": true,
    "papermill": {
     "duration": 0.016622,
     "end_time": "2025-05-20T01:30:46.572425",
     "exception": false,
     "start_time": "2025-05-20T01:30:46.555803",
     "status": "completed"
    },
    "slideshow": {
     "slide_type": ""
    },
    "tags": []
   },
   "source": [
    "## Commenters across repositories\n",
    "\n",
    "These are commenters across all issues and pull requests in the last several days.\n",
    "These are colored by the commenter's association with the organization. For information\n",
    "about what these associations mean, [see this StackOverflow post](https://stackoverflow.com/a/28866914/1927102)."
   ]
  },
  {
   "cell_type": "code",
   "execution_count": 23,
   "id": "8bce8070",
   "metadata": {
    "editable": true,
    "execution": {
     "iopub.execute_input": "2025-05-20T01:30:46.607385Z",
     "iopub.status.busy": "2025-05-20T01:30:46.606934Z",
     "iopub.status.idle": "2025-05-20T01:30:46.619227Z",
     "shell.execute_reply": "2025-05-20T01:30:46.618567Z"
    },
    "papermill": {
     "duration": 0.031126,
     "end_time": "2025-05-20T01:30:46.620257",
     "exception": false,
     "start_time": "2025-05-20T01:30:46.589131",
     "status": "completed"
    },
    "slideshow": {
     "slide_type": ""
    },
    "tags": [
     "remove_cell"
    ]
   },
   "outputs": [],
   "source": [
    "commentors = (\n",
    "    comments\n",
    "    .query(\"created_at > @start_date and created_at < @stop_date\")\n",
    "    .groupby(['org', 'repo', 'login', 'author_association'])\n",
    "    .count().rename(columns={'id_issue': 'count'})['count']\n",
    "    .reset_index()\n",
    "    .sort_values(['org', 'count'], ascending=False)\n",
    ")"
   ]
  },
  {
   "cell_type": "code",
   "execution_count": 24,
   "id": "f0e4b9f3",
   "metadata": {
    "editable": true,
    "execution": {
     "iopub.execute_input": "2025-05-20T01:30:46.653969Z",
     "iopub.status.busy": "2025-05-20T01:30:46.653741Z",
     "iopub.status.idle": "2025-05-20T01:30:46.678849Z",
     "shell.execute_reply": "2025-05-20T01:30:46.678280Z"
    },
    "papermill": {
     "duration": 0.043337,
     "end_time": "2025-05-20T01:30:46.679833",
     "exception": false,
     "start_time": "2025-05-20T01:30:46.636496",
     "status": "completed"
    },
    "slideshow": {
     "slide_type": ""
    },
    "tags": [
     "hide_input"
    ]
   },
   "outputs": [
    {
     "data": {
      "text/html": [
       "\n",
       "<style>\n",
       "  #altair-viz-8d9c7ce5cd8440d6b49b4853d33a9a6a.vega-embed {\n",
       "    width: 100%;\n",
       "    display: flex;\n",
       "  }\n",
       "\n",
       "  #altair-viz-8d9c7ce5cd8440d6b49b4853d33a9a6a.vega-embed details,\n",
       "  #altair-viz-8d9c7ce5cd8440d6b49b4853d33a9a6a.vega-embed details summary {\n",
       "    position: relative;\n",
       "  }\n",
       "</style>\n",
       "<div id=\"altair-viz-8d9c7ce5cd8440d6b49b4853d33a9a6a\"></div>\n",
       "<script type=\"text/javascript\">\n",
       "  var VEGA_DEBUG = (typeof VEGA_DEBUG == \"undefined\") ? {} : VEGA_DEBUG;\n",
       "  (function(spec, embedOpt){\n",
       "    let outputDiv = document.currentScript.previousElementSibling;\n",
       "    if (outputDiv.id !== \"altair-viz-8d9c7ce5cd8440d6b49b4853d33a9a6a\") {\n",
       "      outputDiv = document.getElementById(\"altair-viz-8d9c7ce5cd8440d6b49b4853d33a9a6a\");\n",
       "    }\n",
       "\n",
       "    const paths = {\n",
       "      \"vega\": \"https://cdn.jsdelivr.net/npm/vega@5?noext\",\n",
       "      \"vega-lib\": \"https://cdn.jsdelivr.net/npm/vega-lib?noext\",\n",
       "      \"vega-lite\": \"https://cdn.jsdelivr.net/npm/vega-lite@5.20.1?noext\",\n",
       "      \"vega-embed\": \"https://cdn.jsdelivr.net/npm/vega-embed@6?noext\",\n",
       "    };\n",
       "\n",
       "    function maybeLoadScript(lib, version) {\n",
       "      var key = `${lib.replace(\"-\", \"\")}_version`;\n",
       "      return (VEGA_DEBUG[key] == version) ?\n",
       "        Promise.resolve(paths[lib]) :\n",
       "        new Promise(function(resolve, reject) {\n",
       "          var s = document.createElement('script');\n",
       "          document.getElementsByTagName(\"head\")[0].appendChild(s);\n",
       "          s.async = true;\n",
       "          s.onload = () => {\n",
       "            VEGA_DEBUG[key] = version;\n",
       "            return resolve(paths[lib]);\n",
       "          };\n",
       "          s.onerror = () => reject(`Error loading script: ${paths[lib]}`);\n",
       "          s.src = paths[lib];\n",
       "        });\n",
       "    }\n",
       "\n",
       "    function showError(err) {\n",
       "      outputDiv.innerHTML = `<div class=\"error\" style=\"color:red;\">${err}</div>`;\n",
       "      throw err;\n",
       "    }\n",
       "\n",
       "    function displayChart(vegaEmbed) {\n",
       "      vegaEmbed(outputDiv, spec, embedOpt)\n",
       "        .catch(err => showError(`Javascript Error: ${err.message}<br>This usually means there's a typo in your chart specification. See the javascript console for the full traceback.`));\n",
       "    }\n",
       "\n",
       "    if(typeof define === \"function\" && define.amd) {\n",
       "      requirejs.config({paths});\n",
       "      let deps = [\"vega-embed\"];\n",
       "      require(deps, displayChart, err => showError(`Error loading script: ${err.message}`));\n",
       "    } else {\n",
       "      maybeLoadScript(\"vega\", \"5\")\n",
       "        .then(() => maybeLoadScript(\"vega-lite\", \"5.20.1\"))\n",
       "        .then(() => maybeLoadScript(\"vega-embed\", \"6\"))\n",
       "        .catch(showError)\n",
       "        .then(() => displayChart(vegaEmbed));\n",
       "    }\n",
       "  })({\"config\": {\"axisLeft\": {\"labelFontSize\": 15}, \"axisBottom\": {\"labelFontSize\": 15}}, \"hconcat\": [{\"mark\": {\"type\": \"bar\"}, \"encoding\": {\"color\": {\"field\": \"author_association\", \"scale\": {\"domain\": [\"MEMBER\", \"CONTRIBUTOR\", \"COLLABORATOR\", \"NONE\"], \"range\": [\"rgb(211.82745098039214, 211.82745098039214, 211.82745098039214)\", \"rgb(166.98562091503268, 229.89803921568628, 166.98562091503268)\", \"rgb(96.37647058823529, 192.75294117647059, 96.37647058823529)\", \"rgb(0.0, 100.3921568627451, 0.0)\"]}, \"type\": \"nominal\"}, \"x\": {\"field\": \"login\", \"type\": \"nominal\"}, \"y\": {\"field\": \"count\", \"type\": \"quantitative\"}}, \"title\": \"Top 50 commentors for ('jupyter-book',) in the last 90 days\"}], \"data\": {\"name\": \"data-6d1c0e7a912fc463eebaf0300cf57caf\"}, \"$schema\": \"https://vega.github.io/schema/vega-lite/v5.20.1.json\", \"datasets\": {\"data-6d1c0e7a912fc463eebaf0300cf57caf\": [{\"login\": \"agoose77\", \"count\": 58, \"author_association\": \"MEMBER\"}, {\"login\": \"rowanc1\", \"count\": 51, \"author_association\": \"MEMBER\"}, {\"login\": \"choldgraf\", \"count\": 49, \"author_association\": \"MEMBER\"}, {\"login\": \"da5nsy\", \"count\": 15, \"author_association\": \"NONE\"}, {\"login\": \"parmentelat\", \"count\": 12, \"author_association\": \"CONTRIBUTOR\"}, {\"login\": \"paugier\", \"count\": 12, \"author_association\": \"NONE\"}, {\"login\": \"fperez\", \"count\": 12, \"author_association\": \"CONTRIBUTOR\"}, {\"login\": \"fwkoch\", \"count\": 10, \"author_association\": \"MEMBER\"}, {\"login\": \"mfisher87\", \"count\": 10, \"author_association\": \"NONE\"}, {\"login\": \"stevejpurves\", \"count\": 10, \"author_association\": \"MEMBER\"}, {\"login\": \"krassowski\", \"count\": 9, \"author_association\": \"NONE\"}, {\"login\": \"JimMadge\", \"count\": 7, \"author_association\": \"CONTRIBUTOR\"}, {\"login\": \"stefanv\", \"count\": 6, \"author_association\": \"COLLABORATOR\"}, {\"login\": \"roaldarbol\", \"count\": 6, \"author_association\": \"CONTRIBUTOR\"}, {\"login\": \"acocac\", \"count\": 6, \"author_association\": \"NONE\"}, {\"login\": \"FreekPols\", \"count\": 5, \"author_association\": \"NONE\"}, {\"login\": \"ryanlovett\", \"count\": 5, \"author_association\": \"NONE\"}, {\"login\": \"felimomo\", \"count\": 4, \"author_association\": \"NONE\"}, {\"login\": \"paulskrzypczyk\", \"count\": 4, \"author_association\": \"NONE\"}, {\"login\": \"michaelaye\", \"count\": 4, \"author_association\": \"NONE\"}, {\"login\": \"vangeest\", \"count\": 4, \"author_association\": \"NONE\"}, {\"login\": \"nthiery\", \"count\": 3, \"author_association\": \"CONTRIBUTOR\"}, {\"login\": \"mstoll1602\", \"count\": 3, \"author_association\": \"NONE\"}, {\"login\": \"mmcky\", \"count\": 3, \"author_association\": \"CONTRIBUTOR\"}, {\"login\": \"jan-david-fischbach\", \"count\": 3, \"author_association\": \"CONTRIBUTOR\"}, {\"login\": \"reyman\", \"count\": 3, \"author_association\": \"NONE\"}, {\"login\": \"itcarroll\", \"count\": 2, \"author_association\": \"NONE\"}, {\"login\": \"andrader\", \"count\": 2, \"author_association\": \"NONE\"}, {\"login\": \"Joecstarr\", \"count\": 2, \"author_association\": \"NONE\"}, {\"login\": \"Joseph-Hui\", \"count\": 2, \"author_association\": \"NONE\"}, {\"login\": \"manimaransudha\", \"count\": 2, \"author_association\": \"NONE\"}, {\"login\": \"dengzeyu\", \"count\": 2, \"author_association\": \"NONE\"}, {\"login\": \"ulthiel\", \"count\": 2, \"author_association\": \"NONE\"}, {\"login\": \"microcoder\", \"count\": 2, \"author_association\": \"NONE\"}, {\"login\": \"holmrenser\", \"count\": 1, \"author_association\": \"NONE\"}, {\"login\": \"hadesto\", \"count\": 1, \"author_association\": \"NONE\"}, {\"login\": \"atharvaaalok\", \"count\": 1, \"author_association\": \"NONE\"}, {\"login\": \"arm61\", \"count\": 1, \"author_association\": \"NONE\"}, {\"login\": \"cpraveen\", \"count\": 1, \"author_association\": \"NONE\"}, {\"login\": \"denis-bz\", \"count\": 1, \"author_association\": \"NONE\"}, {\"login\": \"Gijsreyn\", \"count\": 1, \"author_association\": \"NONE\"}, {\"login\": \"AllanChain\", \"count\": 1, \"author_association\": \"NONE\"}, {\"login\": \"KirstieJane\", \"count\": 1, \"author_association\": \"NONE\"}, {\"login\": \"MimoHasPurpose\", \"count\": 1, \"author_association\": \"NONE\"}, {\"login\": \"StefanRR\", \"count\": 1, \"author_association\": \"CONTRIBUTOR\"}, {\"login\": \"Paul-Aime\", \"count\": 1, \"author_association\": \"NONE\"}, {\"login\": \"TheLittleRock\", \"count\": 1, \"author_association\": \"NONE\"}, {\"login\": \"afeld\", \"count\": 1, \"author_association\": \"NONE\"}, {\"login\": \"Arielle-Bennett\", \"count\": 1, \"author_association\": \"NONE\"}, {\"login\": \"ELind77\", \"count\": 1, \"author_association\": \"NONE\"}]}}, {\"mode\": \"vega-lite\"});\n",
       "</script>"
      ],
      "text/plain": [
       "alt.HConcatChart(...)"
      ]
     },
     "execution_count": 24,
     "metadata": {},
     "output_type": "execute_result"
    }
   ],
   "source": [
    "n_plot = 50\n",
    "charts = []\n",
    "for ii, (iorg, idata) in enumerate(commentors.groupby(['org'])):\n",
    "    title = f\"Top {n_plot} commentors for {iorg} in the last {n_days} days\"\n",
    "    idata = idata.groupby('login', as_index=False).agg({'count': 'sum', 'author_association': 'first'})\n",
    "    idata = idata.sort_values('count', ascending=False).head(n_plot)\n",
    "    ch = alt.Chart(data=idata.head(n_plot), title=title).mark_bar().encode(\n",
    "        x='login',\n",
    "        y='count',\n",
    "        color=alt.Color('author_association', scale=alt.Scale(domain=author_types, range=author_colors))\n",
    "    )\n",
    "    charts.append(ch)\n",
    "alt.hconcat(*charts)"
   ]
  },
  {
   "cell_type": "markdown",
   "id": "b071944e",
   "metadata": {
    "editable": true,
    "papermill": {
     "duration": 0.016291,
     "end_time": "2025-05-20T01:30:46.712481",
     "exception": false,
     "start_time": "2025-05-20T01:30:46.696190",
     "status": "completed"
    },
    "slideshow": {
     "slide_type": ""
    },
    "tags": []
   },
   "source": [
    "## First responders\n",
    "\n",
    "First responders are the first people to respond to a new issue in one of the repositories.\n",
    "The following plots show first responders for recently-created issues."
   ]
  },
  {
   "cell_type": "code",
   "execution_count": 25,
   "id": "0de6205b",
   "metadata": {
    "editable": true,
    "execution": {
     "iopub.execute_input": "2025-05-20T01:30:46.747463Z",
     "iopub.status.busy": "2025-05-20T01:30:46.747258Z",
     "iopub.status.idle": "2025-05-20T01:30:46.804677Z",
     "shell.execute_reply": "2025-05-20T01:30:46.804028Z"
    },
    "papermill": {
     "duration": 0.076332,
     "end_time": "2025-05-20T01:30:46.805886",
     "exception": false,
     "start_time": "2025-05-20T01:30:46.729554",
     "status": "completed"
    },
    "slideshow": {
     "slide_type": ""
    },
    "tags": [
     "remove_cell"
    ]
   },
   "outputs": [],
   "source": [
    "first_comments = []\n",
    "latest_comments = comments.query(\"created_at > @start_date\")\n",
    "for (org, repo, issue_id), i_comments in latest_comments.groupby(['org', 'repo', 'id_issue']):\n",
    "    ix_min = pd.to_datetime(i_comments['created_at']).idxmin()\n",
    "    first_comment = i_comments.loc[ix_min]\n",
    "    if isinstance(first_comment, pd.DataFrame):\n",
    "        first_comment = first_comment.iloc[0]\n",
    "    first_comments.append(first_comment)\n",
    "first_comments = pd.concat(first_comments, axis=1).T\n",
    "\n",
    "# Make up counts for viz\n",
    "first_responder_counts = first_comments.groupby(['org', 'login', 'author_association'], as_index=False).\\\n",
    "    count().rename(columns={'id_issue': 'n_first_responses'}).sort_values(['org', 'n_first_responses'], ascending=False)\n"
   ]
  },
  {
   "cell_type": "code",
   "execution_count": 26,
   "id": "7cd6699b",
   "metadata": {
    "editable": true,
    "execution": {
     "iopub.execute_input": "2025-05-20T01:30:46.839931Z",
     "iopub.status.busy": "2025-05-20T01:30:46.839520Z",
     "iopub.status.idle": "2025-05-20T01:30:46.862471Z",
     "shell.execute_reply": "2025-05-20T01:30:46.861794Z"
    },
    "papermill": {
     "duration": 0.041189,
     "end_time": "2025-05-20T01:30:46.863589",
     "exception": false,
     "start_time": "2025-05-20T01:30:46.822400",
     "status": "completed"
    },
    "slideshow": {
     "slide_type": ""
    },
    "tags": [
     "hide_input"
    ]
   },
   "outputs": [
    {
     "data": {
      "text/html": [
       "\n",
       "<style>\n",
       "  #altair-viz-717922a739c34915a8234191783690cd.vega-embed {\n",
       "    width: 100%;\n",
       "    display: flex;\n",
       "  }\n",
       "\n",
       "  #altair-viz-717922a739c34915a8234191783690cd.vega-embed details,\n",
       "  #altair-viz-717922a739c34915a8234191783690cd.vega-embed details summary {\n",
       "    position: relative;\n",
       "  }\n",
       "</style>\n",
       "<div id=\"altair-viz-717922a739c34915a8234191783690cd\"></div>\n",
       "<script type=\"text/javascript\">\n",
       "  var VEGA_DEBUG = (typeof VEGA_DEBUG == \"undefined\") ? {} : VEGA_DEBUG;\n",
       "  (function(spec, embedOpt){\n",
       "    let outputDiv = document.currentScript.previousElementSibling;\n",
       "    if (outputDiv.id !== \"altair-viz-717922a739c34915a8234191783690cd\") {\n",
       "      outputDiv = document.getElementById(\"altair-viz-717922a739c34915a8234191783690cd\");\n",
       "    }\n",
       "\n",
       "    const paths = {\n",
       "      \"vega\": \"https://cdn.jsdelivr.net/npm/vega@5?noext\",\n",
       "      \"vega-lib\": \"https://cdn.jsdelivr.net/npm/vega-lib?noext\",\n",
       "      \"vega-lite\": \"https://cdn.jsdelivr.net/npm/vega-lite@5.20.1?noext\",\n",
       "      \"vega-embed\": \"https://cdn.jsdelivr.net/npm/vega-embed@6?noext\",\n",
       "    };\n",
       "\n",
       "    function maybeLoadScript(lib, version) {\n",
       "      var key = `${lib.replace(\"-\", \"\")}_version`;\n",
       "      return (VEGA_DEBUG[key] == version) ?\n",
       "        Promise.resolve(paths[lib]) :\n",
       "        new Promise(function(resolve, reject) {\n",
       "          var s = document.createElement('script');\n",
       "          document.getElementsByTagName(\"head\")[0].appendChild(s);\n",
       "          s.async = true;\n",
       "          s.onload = () => {\n",
       "            VEGA_DEBUG[key] = version;\n",
       "            return resolve(paths[lib]);\n",
       "          };\n",
       "          s.onerror = () => reject(`Error loading script: ${paths[lib]}`);\n",
       "          s.src = paths[lib];\n",
       "        });\n",
       "    }\n",
       "\n",
       "    function showError(err) {\n",
       "      outputDiv.innerHTML = `<div class=\"error\" style=\"color:red;\">${err}</div>`;\n",
       "      throw err;\n",
       "    }\n",
       "\n",
       "    function displayChart(vegaEmbed) {\n",
       "      vegaEmbed(outputDiv, spec, embedOpt)\n",
       "        .catch(err => showError(`Javascript Error: ${err.message}<br>This usually means there's a typo in your chart specification. See the javascript console for the full traceback.`));\n",
       "    }\n",
       "\n",
       "    if(typeof define === \"function\" && define.amd) {\n",
       "      requirejs.config({paths});\n",
       "      let deps = [\"vega-embed\"];\n",
       "      require(deps, displayChart, err => showError(`Error loading script: ${err.message}`));\n",
       "    } else {\n",
       "      maybeLoadScript(\"vega\", \"5\")\n",
       "        .then(() => maybeLoadScript(\"vega-lite\", \"5.20.1\"))\n",
       "        .then(() => maybeLoadScript(\"vega-embed\", \"6\"))\n",
       "        .catch(showError)\n",
       "        .then(() => displayChart(vegaEmbed));\n",
       "    }\n",
       "  })({\"config\": {\"axisLeft\": {\"labelFontSize\": 15}, \"axisBottom\": {\"labelFontSize\": 15}}, \"data\": {\"name\": \"data-538500e71767184bd3a0666a4f8b7ffe\"}, \"mark\": {\"type\": \"bar\"}, \"encoding\": {\"color\": {\"field\": \"author_association\", \"scale\": {\"domain\": [\"MEMBER\", \"CONTRIBUTOR\", \"COLLABORATOR\", \"NONE\"], \"range\": [\"rgb(211.82745098039214, 211.82745098039214, 211.82745098039214)\", \"rgb(166.98562091503268, 229.89803921568628, 166.98562091503268)\", \"rgb(96.37647058823529, 192.75294117647059, 96.37647058823529)\", \"rgb(0.0, 100.3921568627451, 0.0)\"]}, \"type\": \"nominal\"}, \"x\": {\"field\": \"login\", \"type\": \"nominal\"}, \"y\": {\"field\": \"n_first_responses\", \"type\": \"quantitative\"}}, \"title\": \"Top 50 first responders for jupyter-book in the last 90 days\", \"$schema\": \"https://vega.github.io/schema/vega-lite/v5.20.1.json\", \"datasets\": {\"data-538500e71767184bd3a0666a4f8b7ffe\": [{\"login\": \"agoose77\", \"n_first_responses\": 22, \"author_association\": \"MEMBER\"}, {\"login\": \"rowanc1\", \"n_first_responses\": 22, \"author_association\": \"MEMBER\"}, {\"login\": \"choldgraf\", \"n_first_responses\": 15, \"author_association\": \"MEMBER\"}, {\"login\": \"fperez\", \"n_first_responses\": 6, \"author_association\": \"CONTRIBUTOR\"}, {\"login\": \"fwkoch\", \"n_first_responses\": 5, \"author_association\": \"MEMBER\"}, {\"login\": \"parmentelat\", \"n_first_responses\": 4, \"author_association\": \"CONTRIBUTOR\"}, {\"login\": \"FreekPols\", \"n_first_responses\": 4, \"author_association\": \"NONE\"}, {\"login\": \"stevejpurves\", \"n_first_responses\": 3, \"author_association\": \"MEMBER\"}, {\"login\": \"da5nsy\", \"n_first_responses\": 3, \"author_association\": \"NONE\"}, {\"login\": \"mfisher87\", \"n_first_responses\": 2, \"author_association\": \"NONE\"}, {\"login\": \"krassowski\", \"n_first_responses\": 2, \"author_association\": \"NONE\"}, {\"login\": \"JimMadge\", \"n_first_responses\": 2, \"author_association\": \"CONTRIBUTOR\"}, {\"login\": \"Joseph-Hui\", \"n_first_responses\": 2, \"author_association\": \"NONE\"}, {\"login\": \"ulthiel\", \"n_first_responses\": 2, \"author_association\": \"NONE\"}, {\"login\": \"michaelaye\", \"n_first_responses\": 2, \"author_association\": \"NONE\"}, {\"login\": \"arm61\", \"n_first_responses\": 1, \"author_association\": \"NONE\"}, {\"login\": \"andrader\", \"n_first_responses\": 1, \"author_association\": \"NONE\"}, {\"login\": \"acocac\", \"n_first_responses\": 1, \"author_association\": \"NONE\"}, {\"login\": \"afeld\", \"n_first_responses\": 1, \"author_association\": \"NONE\"}, {\"login\": \"TheLittleRock\", \"n_first_responses\": 1, \"author_association\": \"NONE\"}, {\"login\": \"StefanRR\", \"n_first_responses\": 1, \"author_association\": \"CONTRIBUTOR\"}, {\"login\": \"MimoHasPurpose\", \"n_first_responses\": 1, \"author_association\": \"NONE\"}, {\"login\": \"Paul-Aime\", \"n_first_responses\": 1, \"author_association\": \"NONE\"}, {\"login\": \"Joecstarr\", \"n_first_responses\": 1, \"author_association\": \"NONE\"}, {\"login\": \"Gijsreyn\", \"n_first_responses\": 1, \"author_association\": \"NONE\"}, {\"login\": \"jan-david-fischbach\", \"n_first_responses\": 1, \"author_association\": \"CONTRIBUTOR\"}, {\"login\": \"hadesto\", \"n_first_responses\": 1, \"author_association\": \"NONE\"}, {\"login\": \"holmrenser\", \"n_first_responses\": 1, \"author_association\": \"NONE\"}, {\"login\": \"glaebhoerl\", \"n_first_responses\": 1, \"author_association\": \"NONE\"}, {\"login\": \"giswqs\", \"n_first_responses\": 1, \"author_association\": \"NONE\"}, {\"login\": \"felimomo\", \"n_first_responses\": 1, \"author_association\": \"NONE\"}, {\"login\": \"mforbes\", \"n_first_responses\": 1, \"author_association\": \"NONE\"}, {\"login\": \"kburchfiel\", \"n_first_responses\": 1, \"author_association\": \"NONE\"}, {\"login\": \"joelmiller\", \"n_first_responses\": 1, \"author_association\": \"NONE\"}, {\"login\": \"juhuebner\", \"n_first_responses\": 1, \"author_association\": \"NONE\"}, {\"login\": \"jmelo11\", \"n_first_responses\": 1, \"author_association\": \"NONE\"}, {\"login\": \"paugier\", \"n_first_responses\": 1, \"author_association\": \"NONE\"}, {\"login\": \"mmcky\", \"n_first_responses\": 1, \"author_association\": \"NONE\"}, {\"login\": \"ntluong95\", \"n_first_responses\": 1, \"author_association\": \"NONE\"}, {\"login\": \"romanlutz\", \"n_first_responses\": 1, \"author_association\": \"NONE\"}, {\"login\": \"roaldarbol\", \"n_first_responses\": 1, \"author_association\": \"CONTRIBUTOR\"}, {\"login\": \"paulskrzypczyk\", \"n_first_responses\": 1, \"author_association\": \"NONE\"}, {\"login\": \"ryanlovett\", \"n_first_responses\": 1, \"author_association\": \"NONE\"}, {\"login\": \"stefanv\", \"n_first_responses\": 1, \"author_association\": \"NONE\"}, {\"login\": \"simbilod\", \"n_first_responses\": 1, \"author_association\": \"NONE\"}, {\"login\": \"unsektor\", \"n_first_responses\": 1, \"author_association\": \"NONE\"}, {\"login\": \"vangeest\", \"n_first_responses\": 1, \"author_association\": \"NONE\"}]}}, {\"mode\": \"vega-lite\"});\n",
       "</script>"
      ],
      "text/plain": [
       "alt.Chart(...)"
      ]
     },
     "execution_count": 26,
     "metadata": {},
     "output_type": "execute_result"
    }
   ],
   "source": [
    "n_plot = 50\n",
    "\n",
    "title = f\"Top {n_plot} first responders for {github_org} in the last {n_days} days\"\n",
    "idata = first_responder_counts.groupby('login', as_index=False).agg({'n_first_responses': 'sum', 'author_association': 'first'})\n",
    "idata = idata.sort_values('n_first_responses', ascending=False).head(n_plot)\n",
    "ch = alt.Chart(data=idata.head(n_plot), title=title).mark_bar().encode(\n",
    "    x='login',\n",
    "    y='n_first_responses',\n",
    "    color=alt.Color('author_association', scale=alt.Scale(domain=author_types, range=author_colors))\n",
    ")\n",
    "ch"
   ]
  },
  {
   "cell_type": "markdown",
   "id": "1777ee00",
   "metadata": {
    "editable": true,
    "papermill": {
     "duration": 0.017797,
     "end_time": "2025-05-20T01:30:46.907364",
     "exception": false,
     "start_time": "2025-05-20T01:30:46.889567",
     "status": "completed"
    },
    "slideshow": {
     "slide_type": ""
    },
    "tags": []
   },
   "source": [
    "## Recent activity\n",
    "\n",
    "### A list of merged PRs by project\n",
    "\n",
    "Below is a tabbed readout of recently-merged PRs. Check out the title to get an idea for what they\n",
    "implemented, and be sure to thank the PR author for their hard work!"
   ]
  },
  {
   "cell_type": "code",
   "execution_count": 27,
   "id": "9530d256",
   "metadata": {
    "editable": true,
    "execution": {
     "iopub.execute_input": "2025-05-20T01:30:46.946900Z",
     "iopub.status.busy": "2025-05-20T01:30:46.946320Z",
     "iopub.status.idle": "2025-05-20T01:30:47.034513Z",
     "shell.execute_reply": "2025-05-20T01:30:47.033870Z"
    },
    "papermill": {
     "duration": 0.117811,
     "end_time": "2025-05-20T01:30:47.043305",
     "exception": false,
     "start_time": "2025-05-20T01:30:46.925494",
     "status": "completed"
    },
    "slideshow": {
     "slide_type": ""
    },
    "tags": [
     "hide_input"
    ]
   },
   "outputs": [
    {
     "data": {
      "application/vnd.jupyter.widget-view+json": {
       "model_id": "c3afa928a6e1414a9c6aa3de161344a9",
       "version_major": 2,
       "version_minor": 0
      },
      "text/plain": [
       "Tab(children=(HTML(value='<h4>Closed PRs for repo: <a href=\"https://github.com/jupyter-book/jupyter-book\">jupy…"
      ]
     },
     "execution_count": 27,
     "metadata": {},
     "output_type": "execute_result"
    }
   ],
   "source": [
    "tabs = widgets.Tab(children=[])\n",
    "\n",
    "for ii, ((org, repo), imerged) in enumerate(merged.query(\"repo in @use_repos\").groupby(['org', 'repo'])):\n",
    "    merged_by = {}\n",
    "    pr_by = {}\n",
    "    issue_md = []\n",
    "    issue_md.append(f\"#### Closed PRs for repo: [{org}/{repo}](https://github.com/{github_org}/{repo})\")\n",
    "    issue_md.append(\"\")\n",
    "    issue_md.append(f\"##### \")\n",
    "\n",
    "    for _, ipr in imerged.iterrows():\n",
    "        user_name = ipr['login']\n",
    "        user_url = author_url(user_name)\n",
    "        pr_number = ipr['number']\n",
    "        pr_html = ipr['url']\n",
    "        pr_title = ipr['title']\n",
    "        pr_closedby = ipr['merged_by']\n",
    "        pr_closedby_url = f\"https://github.com/{pr_closedby}\"\n",
    "        if user_name not in pr_by:\n",
    "            pr_by[user_name] = 1\n",
    "        else:\n",
    "            pr_by[user_name] += 1\n",
    "\n",
    "        if pr_closedby not in merged_by:\n",
    "            merged_by[pr_closedby] = 1\n",
    "        else:\n",
    "            merged_by[pr_closedby] += 1\n",
    "        text = f\"* [(#{pr_number})]({pr_html}): _{pr_title}_ by **[@{user_name}]({user_url})** merged by **[@{pr_closedby}]({pr_closedby_url})**\"\n",
    "        issue_md.append(text)\n",
    "    \n",
    "    issue_md.append('')\n",
    "    markdown_html = markdown('\\n'.join(issue_md))\n",
    "\n",
    "    children = list(tabs.children)\n",
    "    children.append(HTML(markdown_html))\n",
    "    tabs.children = tuple(children)\n",
    "    tabs.set_title(ii, repo)\n",
    "tabs"
   ]
  },
  {
   "cell_type": "markdown",
   "id": "2e5988a6",
   "metadata": {
    "editable": true,
    "papermill": {
     "duration": 0.016931,
     "end_time": "2025-05-20T01:30:47.077309",
     "exception": false,
     "start_time": "2025-05-20T01:30:47.060378",
     "status": "completed"
    },
    "slideshow": {
     "slide_type": ""
    },
    "tags": []
   },
   "source": [
    "### A list of recent issues\n",
    "\n",
    "Below is a list of issues with recent activity in each repository. If they seem of interest\n",
    "to you, click on their links and jump in to participate!"
   ]
  },
  {
   "cell_type": "code",
   "execution_count": 28,
   "id": "a517f607",
   "metadata": {
    "editable": true,
    "execution": {
     "iopub.execute_input": "2025-05-20T01:30:47.114069Z",
     "iopub.status.busy": "2025-05-20T01:30:47.113663Z",
     "iopub.status.idle": "2025-05-20T01:30:47.124378Z",
     "shell.execute_reply": "2025-05-20T01:30:47.123731Z"
    },
    "papermill": {
     "duration": 0.030746,
     "end_time": "2025-05-20T01:30:47.125483",
     "exception": false,
     "start_time": "2025-05-20T01:30:47.094737",
     "status": "completed"
    },
    "slideshow": {
     "slide_type": ""
    },
    "tags": [
     "remove_cell"
    ]
   },
   "outputs": [],
   "source": [
    "# Add comment count data to issues and PRs\n",
    "comment_counts = (\n",
    "    comments\n",
    "    .query(\"created_at > @start_date and created_at < @stop_date\")\n",
    "    .groupby(['org', 'repo', 'id_issue'])\n",
    "    .count().iloc[:, 0].to_frame()\n",
    ")\n",
    "comment_counts.columns = ['n_comments']\n",
    "comment_counts = comment_counts.reset_index()"
   ]
  },
  {
   "cell_type": "code",
   "execution_count": 29,
   "id": "6e76c2e1",
   "metadata": {
    "editable": true,
    "execution": {
     "iopub.execute_input": "2025-05-20T01:30:47.160131Z",
     "iopub.status.busy": "2025-05-20T01:30:47.159746Z",
     "iopub.status.idle": "2025-05-20T01:30:47.252412Z",
     "shell.execute_reply": "2025-05-20T01:30:47.251782Z"
    },
    "papermill": {
     "duration": 0.111095,
     "end_time": "2025-05-20T01:30:47.253412",
     "exception": false,
     "start_time": "2025-05-20T01:30:47.142317",
     "status": "completed"
    },
    "slideshow": {
     "slide_type": ""
    },
    "tags": [
     "hide_input"
    ],
    "toc-hr-collapsed": false
   },
   "outputs": [
    {
     "data": {
      "text/markdown": [
       "Here are the top 5 active issues in each repository in the last 90 days"
      ],
      "text/plain": [
       "<IPython.core.display.Markdown object>"
      ]
     },
     "metadata": {},
     "output_type": "display_data"
    },
    {
     "data": {
      "application/vnd.jupyter.widget-view+json": {
       "model_id": "98f3fe1315c84ac08deac38fa65b04ec",
       "version_major": 2,
       "version_minor": 0
      },
      "text/plain": [
       "Tab(children=(HTML(value='<h5><a href=\"https://github.com/jupyter-book/jupyter-book\">jupyter-book/jupyter-book…"
      ]
     },
     "metadata": {},
     "output_type": "display_data"
    }
   ],
   "source": [
    "n_plot = 5\n",
    "tabs = widgets.Tab(children=[])\n",
    "\n",
    "for ii, (repo, i_issues) in enumerate(comment_counts.query(\"repo in @use_repos\").groupby('repo')):\n",
    "    \n",
    "    issue_md = []\n",
    "    issue_md.append(\"\")\n",
    "    issue_md.append(f\"##### [{github_org}/{repo}](https://github.com/{github_org}/{repo})\")\n",
    "\n",
    "    top_issues = i_issues.sort_values('n_comments', ascending=False).head(n_plot)\n",
    "    top_issue_list = pd.merge(issues, top_issues, left_on=['org', 'repo', 'id_issue'], right_on=['org', 'repo', 'id_issue'])\n",
    "    for _, issue in top_issue_list.sort_values('n_comments', ascending=False).head(n_plot).iterrows():\n",
    "        user_name = issue['login']\n",
    "        user_url = author_url(user_name)\n",
    "        issue_number = issue['number']\n",
    "        issue_html = issue['url']\n",
    "        issue_title = issue['title']\n",
    "\n",
    "        text = f\"* [(#{issue_number})]({issue_html}): _{issue_title}_ by **[@{user_name}]({user_url})**\"\n",
    "        issue_md.append(text)\n",
    "\n",
    "    issue_md.append('')\n",
    "    md_html = HTML(markdown('\\n'.join(issue_md)))\n",
    "\n",
    "    children = list(tabs.children)\n",
    "    children.append(HTML(markdown('\\n'.join(issue_md))))\n",
    "    tabs.children = tuple(children)\n",
    "    tabs.set_title(ii, repo)\n",
    "    \n",
    "display(Markdown(f\"Here are the top {n_plot} active issues in each repository in the last {n_days} days\"))\n",
    "display(tabs)"
   ]
  }
 ],
 "metadata": {
  "kernelspec": {
   "display_name": "Python 3 (ipykernel)",
   "language": "python",
   "name": "python3"
  },
  "language_info": {
   "codemirror_mode": {
    "name": "ipython",
    "version": 3
   },
   "file_extension": ".py",
   "mimetype": "text/x-python",
   "name": "python",
   "nbconvert_exporter": "python",
   "pygments_lexer": "ipython3",
   "version": "3.9.22"
  },
  "papermill": {
   "default_parameters": {},
   "duration": 6.118171,
   "end_time": "2025-05-20T01:30:47.588852",
   "environment_variables": {},
   "exception": null,
   "input_path": "./templates/org_report.ipynb",
   "output_path": "generated/book/jupyter-book.ipynb",
   "parameters": {
    "github_org": "jupyter-book",
    "n_days": 90
   },
   "start_time": "2025-05-20T01:30:41.470681",
   "version": "2.6.0"
  },
  "widgets": {
   "application/vnd.jupyter.widget-state+json": {
    "state": {
     "078d8f9b5d6349cdb39f707ccf2e8983": {
      "model_module": "@jupyter-widgets/controls",
      "model_module_version": "2.0.0",
      "model_name": "HTMLStyleModel",
      "state": {
       "_model_module": "@jupyter-widgets/controls",
       "_model_module_version": "2.0.0",
       "_model_name": "HTMLStyleModel",
       "_view_count": null,
       "_view_module": "@jupyter-widgets/base",
       "_view_module_version": "2.0.0",
       "_view_name": "StyleView",
       "background": null,
       "description_width": "",
       "font_size": null,
       "text_color": null
      }
     },
     "0955bec54c55456b8e83d5fe469a30c9": {
      "model_module": "@jupyter-widgets/controls",
      "model_module_version": "2.0.0",
      "model_name": "HTMLModel",
      "state": {
       "_dom_classes": [],
       "_model_module": "@jupyter-widgets/controls",
       "_model_module_version": "2.0.0",
       "_model_name": "HTMLModel",
       "_view_count": null,
       "_view_module": "@jupyter-widgets/controls",
       "_view_module_version": "2.0.0",
       "_view_name": "HTMLView",
       "description": "",
       "description_allow_html": false,
       "layout": "IPY_MODEL_57be215c036149dd8870fd7f5a8ed8ca",
       "placeholder": "​",
       "style": "IPY_MODEL_09694654b6594352a640a28b8d501979",
       "tabbable": null,
       "tooltip": null,
       "value": "<h5><a href=\"https://github.com/jupyter-book/thebe\">jupyter-book/thebe</a></h5>\n<ul>\n<li><a href=\"https://github.com/jupyter-book/thebe/issues/791\">(#791)</a>: <em>Update to JupyterLite 0.6.0</em> by <strong><a href=\"https://github.com/jtpio\">@jtpio</a></strong></li>\n</ul>"
      }
     },
     "09694654b6594352a640a28b8d501979": {
      "model_module": "@jupyter-widgets/controls",
      "model_module_version": "2.0.0",
      "model_name": "HTMLStyleModel",
      "state": {
       "_model_module": "@jupyter-widgets/controls",
       "_model_module_version": "2.0.0",
       "_model_name": "HTMLStyleModel",
       "_view_count": null,
       "_view_module": "@jupyter-widgets/base",
       "_view_module_version": "2.0.0",
       "_view_name": "StyleView",
       "background": null,
       "description_width": "",
       "font_size": null,
       "text_color": null
      }
     },
     "0ad22abe6606487698e36a1b75f424b4": {
      "model_module": "@jupyter-widgets/controls",
      "model_module_version": "2.0.0",
      "model_name": "HTMLModel",
      "state": {
       "_dom_classes": [],
       "_model_module": "@jupyter-widgets/controls",
       "_model_module_version": "2.0.0",
       "_model_name": "HTMLModel",
       "_view_count": null,
       "_view_module": "@jupyter-widgets/controls",
       "_view_module_version": "2.0.0",
       "_view_name": "HTMLView",
       "description": "",
       "description_allow_html": false,
       "layout": "IPY_MODEL_db6cc4442b7f46a8bbdb308e35eed99d",
       "placeholder": "​",
       "style": "IPY_MODEL_5da7ab6b39a04f928e0966926b93b289",
       "tabbable": null,
       "tooltip": null,
       "value": "<h4>Closed PRs for repo: <a href=\"https://github.com/jupyter-book/myst-spec\">jupyter-book/myst-spec</a></h4>\n<h5></h5>\n<ul>\n<li><a href=\"https://github.com/jupyter-book/myst-spec/issues/70\">(#70)</a>: <em>Update Executablebooks links to Jupyter-Book org</em> by <strong><a href=\"https://github.com/choldgraf\">@choldgraf</a></strong> merged by <strong><a href=\"https://github.com/choldgraf\">@choldgraf</a></strong></li>\n</ul>"
      }
     },
     "0bb76782bf8c439fba1209bf45f37b04": {
      "model_module": "@jupyter-widgets/controls",
      "model_module_version": "2.0.0",
      "model_name": "HTMLStyleModel",
      "state": {
       "_model_module": "@jupyter-widgets/controls",
       "_model_module_version": "2.0.0",
       "_model_name": "HTMLStyleModel",
       "_view_count": null,
       "_view_module": "@jupyter-widgets/base",
       "_view_module_version": "2.0.0",
       "_view_name": "StyleView",
       "background": null,
       "description_width": "",
       "font_size": null,
       "text_color": null
      }
     },
     "1002f08b794d497db0017c76fe4fc113": {
      "model_module": "@jupyter-widgets/base",
      "model_module_version": "2.0.0",
      "model_name": "LayoutModel",
      "state": {
       "_model_module": "@jupyter-widgets/base",
       "_model_module_version": "2.0.0",
       "_model_name": "LayoutModel",
       "_view_count": null,
       "_view_module": "@jupyter-widgets/base",
       "_view_module_version": "2.0.0",
       "_view_name": "LayoutView",
       "align_content": null,
       "align_items": null,
       "align_self": null,
       "border_bottom": null,
       "border_left": null,
       "border_right": null,
       "border_top": null,
       "bottom": null,
       "display": null,
       "flex": null,
       "flex_flow": null,
       "grid_area": null,
       "grid_auto_columns": null,
       "grid_auto_flow": null,
       "grid_auto_rows": null,
       "grid_column": null,
       "grid_gap": null,
       "grid_row": null,
       "grid_template_areas": null,
       "grid_template_columns": null,
       "grid_template_rows": null,
       "height": null,
       "justify_content": null,
       "justify_items": null,
       "left": null,
       "margin": null,
       "max_height": null,
       "max_width": null,
       "min_height": null,
       "min_width": null,
       "object_fit": null,
       "object_position": null,
       "order": null,
       "overflow": null,
       "padding": null,
       "right": null,
       "top": null,
       "visibility": null,
       "width": null
      }
     },
     "11eddaffe15c452384cc3bb72211fb53": {
      "model_module": "@jupyter-widgets/base",
      "model_module_version": "2.0.0",
      "model_name": "LayoutModel",
      "state": {
       "_model_module": "@jupyter-widgets/base",
       "_model_module_version": "2.0.0",
       "_model_name": "LayoutModel",
       "_view_count": null,
       "_view_module": "@jupyter-widgets/base",
       "_view_module_version": "2.0.0",
       "_view_name": "LayoutView",
       "align_content": null,
       "align_items": null,
       "align_self": null,
       "border_bottom": null,
       "border_left": null,
       "border_right": null,
       "border_top": null,
       "bottom": null,
       "display": null,
       "flex": null,
       "flex_flow": null,
       "grid_area": null,
       "grid_auto_columns": null,
       "grid_auto_flow": null,
       "grid_auto_rows": null,
       "grid_column": null,
       "grid_gap": null,
       "grid_row": null,
       "grid_template_areas": null,
       "grid_template_columns": null,
       "grid_template_rows": null,
       "height": null,
       "justify_content": null,
       "justify_items": null,
       "left": null,
       "margin": null,
       "max_height": null,
       "max_width": null,
       "min_height": null,
       "min_width": null,
       "object_fit": null,
       "object_position": null,
       "order": null,
       "overflow": null,
       "padding": null,
       "right": null,
       "top": null,
       "visibility": null,
       "width": null
      }
     },
     "12fab1df465d4441895960f97b0b7497": {
      "model_module": "@jupyter-widgets/controls",
      "model_module_version": "2.0.0",
      "model_name": "HTMLStyleModel",
      "state": {
       "_model_module": "@jupyter-widgets/controls",
       "_model_module_version": "2.0.0",
       "_model_name": "HTMLStyleModel",
       "_view_count": null,
       "_view_module": "@jupyter-widgets/base",
       "_view_module_version": "2.0.0",
       "_view_name": "StyleView",
       "background": null,
       "description_width": "",
       "font_size": null,
       "text_color": null
      }
     },
     "18e54ae5718c4dbcbdbdc0c260a10714": {
      "model_module": "@jupyter-widgets/controls",
      "model_module_version": "2.0.0",
      "model_name": "HTMLStyleModel",
      "state": {
       "_model_module": "@jupyter-widgets/controls",
       "_model_module_version": "2.0.0",
       "_model_name": "HTMLStyleModel",
       "_view_count": null,
       "_view_module": "@jupyter-widgets/base",
       "_view_module_version": "2.0.0",
       "_view_name": "StyleView",
       "background": null,
       "description_width": "",
       "font_size": null,
       "text_color": null
      }
     },
     "199d57e4ca9c498e8bcc4f4f02d69ae9": {
      "model_module": "@jupyter-widgets/controls",
      "model_module_version": "2.0.0",
      "model_name": "HTMLModel",
      "state": {
       "_dom_classes": [],
       "_model_module": "@jupyter-widgets/controls",
       "_model_module_version": "2.0.0",
       "_model_name": "HTMLModel",
       "_view_count": null,
       "_view_module": "@jupyter-widgets/controls",
       "_view_module_version": "2.0.0",
       "_view_name": "HTMLView",
       "description": "",
       "description_allow_html": false,
       "layout": "IPY_MODEL_2fb6ef4e69704f5bbe9bf0b5bcc5f244",
       "placeholder": "​",
       "style": "IPY_MODEL_6ffa2f03ab294da98abd67d248e5f449",
       "tabbable": null,
       "tooltip": null,
       "value": "<h5><a href=\"https://github.com/jupyter-book/jupyter-book\">jupyter-book/jupyter-book</a></h5>\n<ul>\n<li><a href=\"https://github.com/jupyter-book/jupyter-book/issues/2340\">(#2340)</a>: <em>Milestone: Jupyter Book announcement at SciPy 2025</em> by <strong><a href=\"https://github.com/choldgraf\">@choldgraf</a></strong></li>\n<li><a href=\"https://github.com/jupyter-book/jupyter-book/issues/2311\">(#2311)</a>: <em>[Bug]: Couldn't push it to github pages using github workflow</em> by <strong><a href=\"https://github.com/prateekshukla1108\">@prateekshukla1108</a></strong></li>\n<li><a href=\"https://github.com/jupyter-book/jupyter-book/issues/2051\">(#2051)</a>: <em>is there a way to have a collapsible/dropdown admonition start opened ?</em> by <strong><a href=\"https://github.com/parmentelat\">@parmentelat</a></strong></li>\n<li><a href=\"https://github.com/jupyter-book/jupyter-book/issues/2347\">(#2347)</a>: <em>Nbody startpoints on a circle,  Verlet</em> by <strong><a href=\"https://github.com/denis-bz\">@denis-bz</a></strong></li>\n<li><a href=\"https://github.com/jupyter-book/jupyter-book/issues/793\">(#793)</a>: <em>Inserting subfigures with Myst-Markdown that render in book</em> by <strong><a href=\"https://github.com/broncio123\">@broncio123</a></strong></li>\n</ul>"
      }
     },
     "1b33491ae96943769c236fdb1f83fff8": {
      "model_module": "@jupyter-widgets/base",
      "model_module_version": "2.0.0",
      "model_name": "LayoutModel",
      "state": {
       "_model_module": "@jupyter-widgets/base",
       "_model_module_version": "2.0.0",
       "_model_name": "LayoutModel",
       "_view_count": null,
       "_view_module": "@jupyter-widgets/base",
       "_view_module_version": "2.0.0",
       "_view_name": "LayoutView",
       "align_content": null,
       "align_items": null,
       "align_self": null,
       "border_bottom": null,
       "border_left": null,
       "border_right": null,
       "border_top": null,
       "bottom": null,
       "display": null,
       "flex": null,
       "flex_flow": null,
       "grid_area": null,
       "grid_auto_columns": null,
       "grid_auto_flow": null,
       "grid_auto_rows": null,
       "grid_column": null,
       "grid_gap": null,
       "grid_row": null,
       "grid_template_areas": null,
       "grid_template_columns": null,
       "grid_template_rows": null,
       "height": null,
       "justify_content": null,
       "justify_items": null,
       "left": null,
       "margin": null,
       "max_height": null,
       "max_width": null,
       "min_height": null,
       "min_width": null,
       "object_fit": null,
       "object_position": null,
       "order": null,
       "overflow": null,
       "padding": null,
       "right": null,
       "top": null,
       "visibility": null,
       "width": null
      }
     },
     "1f9a56f738ad46e1a427c83f7c9ebff2": {
      "model_module": "@jupyter-widgets/base",
      "model_module_version": "2.0.0",
      "model_name": "LayoutModel",
      "state": {
       "_model_module": "@jupyter-widgets/base",
       "_model_module_version": "2.0.0",
       "_model_name": "LayoutModel",
       "_view_count": null,
       "_view_module": "@jupyter-widgets/base",
       "_view_module_version": "2.0.0",
       "_view_name": "LayoutView",
       "align_content": null,
       "align_items": null,
       "align_self": null,
       "border_bottom": null,
       "border_left": null,
       "border_right": null,
       "border_top": null,
       "bottom": null,
       "display": null,
       "flex": null,
       "flex_flow": null,
       "grid_area": null,
       "grid_auto_columns": null,
       "grid_auto_flow": null,
       "grid_auto_rows": null,
       "grid_column": null,
       "grid_gap": null,
       "grid_row": null,
       "grid_template_areas": null,
       "grid_template_columns": null,
       "grid_template_rows": null,
       "height": null,
       "justify_content": null,
       "justify_items": null,
       "left": null,
       "margin": null,
       "max_height": null,
       "max_width": null,
       "min_height": null,
       "min_width": null,
       "object_fit": null,
       "object_position": null,
       "order": null,
       "overflow": null,
       "padding": null,
       "right": null,
       "top": null,
       "visibility": null,
       "width": null
      }
     },
     "20a4faf8f2154eff892a726d8c5513e6": {
      "model_module": "@jupyter-widgets/base",
      "model_module_version": "2.0.0",
      "model_name": "LayoutModel",
      "state": {
       "_model_module": "@jupyter-widgets/base",
       "_model_module_version": "2.0.0",
       "_model_name": "LayoutModel",
       "_view_count": null,
       "_view_module": "@jupyter-widgets/base",
       "_view_module_version": "2.0.0",
       "_view_name": "LayoutView",
       "align_content": null,
       "align_items": null,
       "align_self": null,
       "border_bottom": null,
       "border_left": null,
       "border_right": null,
       "border_top": null,
       "bottom": null,
       "display": null,
       "flex": null,
       "flex_flow": null,
       "grid_area": null,
       "grid_auto_columns": null,
       "grid_auto_flow": null,
       "grid_auto_rows": null,
       "grid_column": null,
       "grid_gap": null,
       "grid_row": null,
       "grid_template_areas": null,
       "grid_template_columns": null,
       "grid_template_rows": null,
       "height": null,
       "justify_content": null,
       "justify_items": null,
       "left": null,
       "margin": null,
       "max_height": null,
       "max_width": null,
       "min_height": null,
       "min_width": null,
       "object_fit": null,
       "object_position": null,
       "order": null,
       "overflow": null,
       "padding": null,
       "right": null,
       "top": null,
       "visibility": null,
       "width": null
      }
     },
     "23aebc1dc1c34e678e0051846772979d": {
      "model_module": "@jupyter-widgets/controls",
      "model_module_version": "2.0.0",
      "model_name": "HTMLModel",
      "state": {
       "_dom_classes": [],
       "_model_module": "@jupyter-widgets/controls",
       "_model_module_version": "2.0.0",
       "_model_name": "HTMLModel",
       "_view_count": null,
       "_view_module": "@jupyter-widgets/controls",
       "_view_module_version": "2.0.0",
       "_view_name": "HTMLView",
       "description": "",
       "description_allow_html": false,
       "layout": "IPY_MODEL_e9fefcaab4134ef589736e452beb3c0c",
       "placeholder": "​",
       "style": "IPY_MODEL_505b6925087a4c1b88edcbd05e59341e",
       "tabbable": null,
       "tooltip": null,
       "value": "<h5><a href=\"https://github.com/jupyter-book/jupyterlab-myst\">jupyter-book/jupyterlab-myst</a></h5>\n<ul>\n<li><a href=\"https://github.com/jupyter-book/jupyterlab-myst/issues/243\">(#243)</a>: <em>Scrolling over notebook got unexpected jump backs</em> by <strong><a href=\"https://github.com/AllanChain\">@AllanChain</a></strong></li>\n<li><a href=\"https://github.com/jupyter-book/jupyterlab-myst/issues/257\">(#257)</a>: <em>Dancing Page</em> by <strong><a href=\"https://github.com/microcoder\">@microcoder</a></strong></li>\n<li><a href=\"https://github.com/jupyter-book/jupyterlab-myst/issues/248\">(#248)</a>: <em>Do Not highlight links</em> by <strong><a href=\"https://github.com/microcoder\">@microcoder</a></strong></li>\n<li><a href=\"https://github.com/jupyter-book/jupyterlab-myst/issues/175\">(#175)</a>: <em><code>eval</code> role not working as expected</em> by <strong><a href=\"https://github.com/rkansal47\">@rkansal47</a></strong></li>\n<li><a href=\"https://github.com/jupyter-book/jupyterlab-myst/issues/250\">(#250)</a>: <em>Scrolling is stucking on the page</em> by <strong><a href=\"https://github.com/microcoder\">@microcoder</a></strong></li>\n</ul>"
      }
     },
     "2d4870f09dbc4e65b4d9758208f8984a": {
      "model_module": "@jupyter-widgets/controls",
      "model_module_version": "2.0.0",
      "model_name": "HTMLStyleModel",
      "state": {
       "_model_module": "@jupyter-widgets/controls",
       "_model_module_version": "2.0.0",
       "_model_name": "HTMLStyleModel",
       "_view_count": null,
       "_view_module": "@jupyter-widgets/base",
       "_view_module_version": "2.0.0",
       "_view_name": "StyleView",
       "background": null,
       "description_width": "",
       "font_size": null,
       "text_color": null
      }
     },
     "2fb6ef4e69704f5bbe9bf0b5bcc5f244": {
      "model_module": "@jupyter-widgets/base",
      "model_module_version": "2.0.0",
      "model_name": "LayoutModel",
      "state": {
       "_model_module": "@jupyter-widgets/base",
       "_model_module_version": "2.0.0",
       "_model_name": "LayoutModel",
       "_view_count": null,
       "_view_module": "@jupyter-widgets/base",
       "_view_module_version": "2.0.0",
       "_view_name": "LayoutView",
       "align_content": null,
       "align_items": null,
       "align_self": null,
       "border_bottom": null,
       "border_left": null,
       "border_right": null,
       "border_top": null,
       "bottom": null,
       "display": null,
       "flex": null,
       "flex_flow": null,
       "grid_area": null,
       "grid_auto_columns": null,
       "grid_auto_flow": null,
       "grid_auto_rows": null,
       "grid_column": null,
       "grid_gap": null,
       "grid_row": null,
       "grid_template_areas": null,
       "grid_template_columns": null,
       "grid_template_rows": null,
       "height": null,
       "justify_content": null,
       "justify_items": null,
       "left": null,
       "margin": null,
       "max_height": null,
       "max_width": null,
       "min_height": null,
       "min_width": null,
       "object_fit": null,
       "object_position": null,
       "order": null,
       "overflow": null,
       "padding": null,
       "right": null,
       "top": null,
       "visibility": null,
       "width": null
      }
     },
     "3016fe828e5b4d848ca0967364c1f106": {
      "model_module": "@jupyter-widgets/controls",
      "model_module_version": "2.0.0",
      "model_name": "HTMLModel",
      "state": {
       "_dom_classes": [],
       "_model_module": "@jupyter-widgets/controls",
       "_model_module_version": "2.0.0",
       "_model_name": "HTMLModel",
       "_view_count": null,
       "_view_module": "@jupyter-widgets/controls",
       "_view_module_version": "2.0.0",
       "_view_name": "HTMLView",
       "description": "",
       "description_allow_html": false,
       "layout": "IPY_MODEL_39599ae2d56645c1a49f052a75e3affa",
       "placeholder": "​",
       "style": "IPY_MODEL_078d8f9b5d6349cdb39f707ccf2e8983",
       "tabbable": null,
       "tooltip": null,
       "value": "<h5><a href=\"https://github.com/jupyter-book/team-compass\">jupyter-book/team-compass</a></h5>\n<ul>\n<li><a href=\"https://github.com/jupyter-book/team-compass/issues/20\">(#20)</a>: <em>Run publicly accessible team meetings</em> by <strong><a href=\"https://github.com/choldgraf\">@choldgraf</a></strong></li>\n<li><a href=\"https://github.com/jupyter-book/team-compass/issues/26\">(#26)</a>: <em>Encourage \"experience reports\" from users</em> by <strong><a href=\"https://github.com/mfisher87\">@mfisher87</a></strong></li>\n<li><a href=\"https://github.com/jupyter-book/team-compass/issues/24\">(#24)</a>: <em>Move our DNS owner from squarespace to Jupyter's CloudFlare</em> by <strong><a href=\"https://github.com/choldgraf\">@choldgraf</a></strong></li>\n<li><a href=\"https://github.com/jupyter-book/team-compass/issues/12\">(#12)</a>: <em>Switch references to executablebooks to instead point to jupyterbook</em> by <strong><a href=\"https://github.com/choldgraf\">@choldgraf</a></strong></li>\n<li><a href=\"https://github.com/jupyter-book/team-compass/issues/25\">(#25)</a>: <em>Make our documentation deployment infrastructure available to all jupyter book team members</em> by <strong><a href=\"https://github.com/choldgraf\">@choldgraf</a></strong></li>\n</ul>"
      }
     },
     "35e66a07f4654b2fb17f77d558b3bf2d": {
      "model_module": "@jupyter-widgets/controls",
      "model_module_version": "2.0.0",
      "model_name": "HTMLStyleModel",
      "state": {
       "_model_module": "@jupyter-widgets/controls",
       "_model_module_version": "2.0.0",
       "_model_name": "HTMLStyleModel",
       "_view_count": null,
       "_view_module": "@jupyter-widgets/base",
       "_view_module_version": "2.0.0",
       "_view_name": "StyleView",
       "background": null,
       "description_width": "",
       "font_size": null,
       "text_color": null
      }
     },
     "39599ae2d56645c1a49f052a75e3affa": {
      "model_module": "@jupyter-widgets/base",
      "model_module_version": "2.0.0",
      "model_name": "LayoutModel",
      "state": {
       "_model_module": "@jupyter-widgets/base",
       "_model_module_version": "2.0.0",
       "_model_name": "LayoutModel",
       "_view_count": null,
       "_view_module": "@jupyter-widgets/base",
       "_view_module_version": "2.0.0",
       "_view_name": "LayoutView",
       "align_content": null,
       "align_items": null,
       "align_self": null,
       "border_bottom": null,
       "border_left": null,
       "border_right": null,
       "border_top": null,
       "bottom": null,
       "display": null,
       "flex": null,
       "flex_flow": null,
       "grid_area": null,
       "grid_auto_columns": null,
       "grid_auto_flow": null,
       "grid_auto_rows": null,
       "grid_column": null,
       "grid_gap": null,
       "grid_row": null,
       "grid_template_areas": null,
       "grid_template_columns": null,
       "grid_template_rows": null,
       "height": null,
       "justify_content": null,
       "justify_items": null,
       "left": null,
       "margin": null,
       "max_height": null,
       "max_width": null,
       "min_height": null,
       "min_width": null,
       "object_fit": null,
       "object_position": null,
       "order": null,
       "overflow": null,
       "padding": null,
       "right": null,
       "top": null,
       "visibility": null,
       "width": null
      }
     },
     "44bbd3b06a5d409da2249c224a7cea23": {
      "model_module": "@jupyter-widgets/controls",
      "model_module_version": "2.0.0",
      "model_name": "HTMLModel",
      "state": {
       "_dom_classes": [],
       "_model_module": "@jupyter-widgets/controls",
       "_model_module_version": "2.0.0",
       "_model_name": "HTMLModel",
       "_view_count": null,
       "_view_module": "@jupyter-widgets/controls",
       "_view_module_version": "2.0.0",
       "_view_name": "HTMLView",
       "description": "",
       "description_allow_html": false,
       "layout": "IPY_MODEL_7a6fc9d9ddb548709cb1a74241eea28b",
       "placeholder": "​",
       "style": "IPY_MODEL_90fa1dea0a194e47bcd7139789cb6fb9",
       "tabbable": null,
       "tooltip": null,
       "value": "<h5><a href=\"https://github.com/jupyter-book/myst-theme\">jupyter-book/myst-theme</a></h5>\n<ul>\n<li><a href=\"https://github.com/jupyter-book/myst-theme/issues/527\">(#527)</a>: <em>Support Bokeh Plots</em> by <strong><a href=\"https://github.com/acocac\">@acocac</a></strong></li>\n<li><a href=\"https://github.com/jupyter-book/myst-theme/issues/437\">(#437)</a>: _Allow authors to link custom JavaScript scripts to their pages by adding HTML manually or via configuration _ by <strong><a href=\"https://github.com/choldgraf\">@choldgraf</a></strong></li>\n<li><a href=\"https://github.com/jupyter-book/myst-theme/issues/567\">(#567)</a>: <em>Move colour choices to theme variables</em> by <strong><a href=\"https://github.com/agoose77\">@agoose77</a></strong></li>\n<li><a href=\"https://github.com/jupyter-book/myst-theme/issues/342\">(#342)</a>: <em>HTML served with <code>&lt;img src=http://localhost:3100&gt; even with</code>HOST=10.0.0.1 myst start --keep-host`</em> by <strong><a href=\"https://github.com/drewlio\">@drewlio</a></strong></li>\n<li><a href=\"https://github.com/jupyter-book/myst-theme/issues/513\">(#513)</a>: <em>Support return navigation for footnotes on mobile</em> by <strong><a href=\"https://github.com/agoose77\">@agoose77</a></strong></li>\n</ul>"
      }
     },
     "487b4eb629d940cd9324a706c1984364": {
      "model_module": "@jupyter-widgets/base",
      "model_module_version": "2.0.0",
      "model_name": "LayoutModel",
      "state": {
       "_model_module": "@jupyter-widgets/base",
       "_model_module_version": "2.0.0",
       "_model_name": "LayoutModel",
       "_view_count": null,
       "_view_module": "@jupyter-widgets/base",
       "_view_module_version": "2.0.0",
       "_view_name": "LayoutView",
       "align_content": null,
       "align_items": null,
       "align_self": null,
       "border_bottom": null,
       "border_left": null,
       "border_right": null,
       "border_top": null,
       "bottom": null,
       "display": null,
       "flex": null,
       "flex_flow": null,
       "grid_area": null,
       "grid_auto_columns": null,
       "grid_auto_flow": null,
       "grid_auto_rows": null,
       "grid_column": null,
       "grid_gap": null,
       "grid_row": null,
       "grid_template_areas": null,
       "grid_template_columns": null,
       "grid_template_rows": null,
       "height": null,
       "justify_content": null,
       "justify_items": null,
       "left": null,
       "margin": null,
       "max_height": null,
       "max_width": null,
       "min_height": null,
       "min_width": null,
       "object_fit": null,
       "object_position": null,
       "order": null,
       "overflow": null,
       "padding": null,
       "right": null,
       "top": null,
       "visibility": null,
       "width": null
      }
     },
     "4ae3d4645d2449508a9c98d2aeaacec0": {
      "model_module": "@jupyter-widgets/controls",
      "model_module_version": "2.0.0",
      "model_name": "HTMLModel",
      "state": {
       "_dom_classes": [],
       "_model_module": "@jupyter-widgets/controls",
       "_model_module_version": "2.0.0",
       "_model_name": "HTMLModel",
       "_view_count": null,
       "_view_module": "@jupyter-widgets/controls",
       "_view_module_version": "2.0.0",
       "_view_name": "HTMLView",
       "description": "",
       "description_allow_html": false,
       "layout": "IPY_MODEL_1002f08b794d497db0017c76fe4fc113",
       "placeholder": "​",
       "style": "IPY_MODEL_0bb76782bf8c439fba1209bf45f37b04",
       "tabbable": null,
       "tooltip": null,
       "value": "<h5><a href=\"https://github.com/jupyter-book/mystmd.org\">jupyter-book/mystmd.org</a></h5>\n<ul>\n<li><a href=\"https://github.com/jupyter-book/mystmd.org/issues/22\">(#22)</a>: <em>Update dependencies after adding button-role</em> by <strong><a href=\"https://github.com/jnywong\">@jnywong</a></strong></li>\n<li><a href=\"https://github.com/jupyter-book/mystmd.org/issues/25\">(#25)</a>: <em>We must re-authenticate with Rowan's Vercel project</em> by <strong><a href=\"https://github.com/choldgraf\">@choldgraf</a></strong></li>\n<li><a href=\"https://github.com/jupyter-book/mystmd.org/issues/26\">(#26)</a>: <em>Document our Vercel deployment and share access to the steering council</em> by <strong><a href=\"https://github.com/choldgraf\">@choldgraf</a></strong></li>\n</ul>"
      }
     },
     "4bb57979d09a4f12b3c6cc33bcecee06": {
      "model_module": "@jupyter-widgets/controls",
      "model_module_version": "2.0.0",
      "model_name": "HTMLStyleModel",
      "state": {
       "_model_module": "@jupyter-widgets/controls",
       "_model_module_version": "2.0.0",
       "_model_name": "HTMLStyleModel",
       "_view_count": null,
       "_view_module": "@jupyter-widgets/base",
       "_view_module_version": "2.0.0",
       "_view_name": "StyleView",
       "background": null,
       "description_width": "",
       "font_size": null,
       "text_color": null
      }
     },
     "4c6d572654f84e4c9ba205f4346c0707": {
      "model_module": "@jupyter-widgets/controls",
      "model_module_version": "2.0.0",
      "model_name": "HTMLStyleModel",
      "state": {
       "_model_module": "@jupyter-widgets/controls",
       "_model_module_version": "2.0.0",
       "_model_name": "HTMLStyleModel",
       "_view_count": null,
       "_view_module": "@jupyter-widgets/base",
       "_view_module_version": "2.0.0",
       "_view_name": "StyleView",
       "background": null,
       "description_width": "",
       "font_size": null,
       "text_color": null
      }
     },
     "505b6925087a4c1b88edcbd05e59341e": {
      "model_module": "@jupyter-widgets/controls",
      "model_module_version": "2.0.0",
      "model_name": "HTMLStyleModel",
      "state": {
       "_model_module": "@jupyter-widgets/controls",
       "_model_module_version": "2.0.0",
       "_model_name": "HTMLStyleModel",
       "_view_count": null,
       "_view_module": "@jupyter-widgets/base",
       "_view_module_version": "2.0.0",
       "_view_name": "StyleView",
       "background": null,
       "description_width": "",
       "font_size": null,
       "text_color": null
      }
     },
     "53ca7be7b05f4d14a0d0103184132b4b": {
      "model_module": "@jupyter-widgets/controls",
      "model_module_version": "2.0.0",
      "model_name": "HTMLModel",
      "state": {
       "_dom_classes": [],
       "_model_module": "@jupyter-widgets/controls",
       "_model_module_version": "2.0.0",
       "_model_name": "HTMLModel",
       "_view_count": null,
       "_view_module": "@jupyter-widgets/controls",
       "_view_module_version": "2.0.0",
       "_view_name": "HTMLView",
       "description": "",
       "description_allow_html": false,
       "layout": "IPY_MODEL_60d760e5099b4236b246c392391e284c",
       "placeholder": "​",
       "style": "IPY_MODEL_6dd97433c3054f258ee0113ec76b7dbc",
       "tabbable": null,
       "tooltip": null,
       "value": "<ul>\n<li>(35) Support for RISE slides - jupyter-book - <a href=\"https://github.com/jupyter-book/jupyter-book/issues/792\">#792</a></li>\n<li>(34) Allow margin notes to have references in the text and hide them by default on mobile - jupyter-book - <a href=\"https://github.com/jupyter-book/jupyter-book/issues/598\">#598</a></li>\n<li>(32) Support blogs - jupyter-book - <a href=\"https://github.com/jupyter-book/jupyter-book/issues/900\">#900</a></li>\n<li>(28) Add support for multiple themes / theming - jupyter-book - <a href=\"https://github.com/jupyter-book/jupyter-book/issues/262\">#262</a></li>\n<li>(26) Support for executing notebooks in parallel during JupyterBook Build - jupyter-book - <a href=\"https://github.com/jupyter-book/jupyter-book/issues/1735\">#1735</a></li>\n<li>(22) Tag to skip cell execution - jupyter-book - <a href=\"https://github.com/jupyter-book/jupyter-book/issues/833\">#833</a></li>\n<li>(22) Author, year citations - jupyter-book - <a href=\"https://github.com/jupyter-book/jupyter-book/issues/1090\">#1090</a></li>\n<li>(19) Export a single HTML file with all assets included - jupyter-book - <a href=\"https://github.com/jupyter-book/jupyter-book/issues/1046\">#1046</a></li>\n<li>(17) Adding directives for \"question and answer\" blocks - jupyter-book - <a href=\"https://github.com/jupyter-book/jupyter-book/issues/536\">#536</a></li>\n<li>(15) Allow setting all inputs as hidden by default - jupyter-book - <a href=\"https://github.com/jupyter-book/jupyter-book/issues/666\">#666</a></li>\n<li>(14) Run code client-side with JupyterLite - jupyter-book - <a href=\"https://github.com/jupyter-book/jupyter-book/issues/1344\">#1344</a></li>\n<li>(12) Nest code-cells inside of admonitions and block-level syntax in myst notebooks - jupyter-book - <a href=\"https://github.com/jupyter-book/jupyter-book/issues/1178\">#1178</a></li>\n<li>(12) Tables and figures produced by code cells are not numbered and tables don't have captions - jupyter-book - <a href=\"https://github.com/jupyter-book/jupyter-book/issues/1247\">#1247</a></li>\n<li>(12) v0.13 has broken utterances - jupyter-book - <a href=\"https://github.com/jupyter-book/jupyter-book/issues/1762\">#1762</a></li>\n<li>(10) Thebe integration: Modify sources - mystmd - <a href=\"https://github.com/jupyter-book/mystmd/issues/443\">#443</a></li>\n<li>(10) Versioning support - jupyter-book - <a href=\"https://github.com/jupyter-book/jupyter-book/issues/683\">#683</a></li>\n<li>(10) Full width option? - jupyter-book - <a href=\"https://github.com/jupyter-book/jupyter-book/issues/1904\">#1904</a></li>\n<li>(9) Add support for translations / internationalization / localization of page elements - mystmd - <a href=\"https://github.com/jupyter-book/mystmd/issues/166\">#166</a></li>\n<li>(9) Generating a PDF of an entire Jupyter Book - jupyter-book - <a href=\"https://github.com/jupyter-book/jupyter-book/issues/1106\">#1106</a></li>\n<li>(9) Add an author to pages - jupyter-book - <a href=\"https://github.com/jupyter-book/jupyter-book/issues/1098\">#1098</a></li>\n<li>(8) Tracking: Numpy Tutorials - mystmd - <a href=\"https://github.com/jupyter-book/mystmd/issues/1270\">#1270</a></li>\n<li>(8) problems rendering to pdf: \"skip to main content\" overlaying over text - jupyter-book - <a href=\"https://github.com/jupyter-book/jupyter-book/issues/2045\">#2045</a></li>\n<li>(8) [ENH] Add Tufte style - jupyter-book - <a href=\"https://github.com/jupyter-book/jupyter-book/issues/255\">#255</a></li>\n<li>(7) Scrolling over notebook got unexpected jump backs - jupyterlab-myst - <a href=\"https://github.com/jupyter-book/jupyterlab-myst/issues/243\">#243</a></li>\n<li>(7) Adding the bibliography block changes layout of the page - jupyter-book - <a href=\"https://github.com/jupyter-book/jupyter-book/issues/2026\">#2026</a></li>\n</ul>"
      }
     },
     "55f2125fbe79490e897ebf20acf143e9": {
      "model_module": "@jupyter-widgets/base",
      "model_module_version": "2.0.0",
      "model_name": "LayoutModel",
      "state": {
       "_model_module": "@jupyter-widgets/base",
       "_model_module_version": "2.0.0",
       "_model_name": "LayoutModel",
       "_view_count": null,
       "_view_module": "@jupyter-widgets/base",
       "_view_module_version": "2.0.0",
       "_view_name": "LayoutView",
       "align_content": null,
       "align_items": null,
       "align_self": null,
       "border_bottom": null,
       "border_left": null,
       "border_right": null,
       "border_top": null,
       "bottom": null,
       "display": null,
       "flex": null,
       "flex_flow": null,
       "grid_area": null,
       "grid_auto_columns": null,
       "grid_auto_flow": null,
       "grid_auto_rows": null,
       "grid_column": null,
       "grid_gap": null,
       "grid_row": null,
       "grid_template_areas": null,
       "grid_template_columns": null,
       "grid_template_rows": null,
       "height": null,
       "justify_content": null,
       "justify_items": null,
       "left": null,
       "margin": null,
       "max_height": null,
       "max_width": null,
       "min_height": null,
       "min_width": null,
       "object_fit": null,
       "object_position": null,
       "order": null,
       "overflow": null,
       "padding": null,
       "right": null,
       "top": null,
       "visibility": null,
       "width": null
      }
     },
     "57be215c036149dd8870fd7f5a8ed8ca": {
      "model_module": "@jupyter-widgets/base",
      "model_module_version": "2.0.0",
      "model_name": "LayoutModel",
      "state": {
       "_model_module": "@jupyter-widgets/base",
       "_model_module_version": "2.0.0",
       "_model_name": "LayoutModel",
       "_view_count": null,
       "_view_module": "@jupyter-widgets/base",
       "_view_module_version": "2.0.0",
       "_view_name": "LayoutView",
       "align_content": null,
       "align_items": null,
       "align_self": null,
       "border_bottom": null,
       "border_left": null,
       "border_right": null,
       "border_top": null,
       "bottom": null,
       "display": null,
       "flex": null,
       "flex_flow": null,
       "grid_area": null,
       "grid_auto_columns": null,
       "grid_auto_flow": null,
       "grid_auto_rows": null,
       "grid_column": null,
       "grid_gap": null,
       "grid_row": null,
       "grid_template_areas": null,
       "grid_template_columns": null,
       "grid_template_rows": null,
       "height": null,
       "justify_content": null,
       "justify_items": null,
       "left": null,
       "margin": null,
       "max_height": null,
       "max_width": null,
       "min_height": null,
       "min_width": null,
       "object_fit": null,
       "object_position": null,
       "order": null,
       "overflow": null,
       "padding": null,
       "right": null,
       "top": null,
       "visibility": null,
       "width": null
      }
     },
     "5ac199dbd10643a881063acecdd9e98e": {
      "model_module": "@jupyter-widgets/controls",
      "model_module_version": "2.0.0",
      "model_name": "HTMLModel",
      "state": {
       "_dom_classes": [],
       "_model_module": "@jupyter-widgets/controls",
       "_model_module_version": "2.0.0",
       "_model_name": "HTMLModel",
       "_view_count": null,
       "_view_module": "@jupyter-widgets/controls",
       "_view_module_version": "2.0.0",
       "_view_name": "HTMLView",
       "description": "",
       "description_allow_html": false,
       "layout": "IPY_MODEL_ec137b8907554cb99a63558ef947f149",
       "placeholder": "​",
       "style": "IPY_MODEL_cd652b601993400b92b2a9621229e4b4",
       "tabbable": null,
       "tooltip": null,
       "value": "<h5><a href=\"https://github.com/jupyter-book/mystmd.org\">jupyter-book/mystmd.org</a></h5>\n<ul>\n<li><a href=\"https://github.com/jupyter-book/mystmd.org/issues/22\">(#22)</a>: <em>Update dependencies after adding button-role</em> by <strong><a href=\"https://github.com/jnywong\">@jnywong</a></strong></li>\n<li><a href=\"https://github.com/jupyter-book/mystmd.org/issues/25\">(#25)</a>: <em>We must re-authenticate with Rowan's Vercel project</em> by <strong><a href=\"https://github.com/choldgraf\">@choldgraf</a></strong></li>\n<li><a href=\"https://github.com/jupyter-book/mystmd.org/issues/26\">(#26)</a>: <em>Document our Vercel deployment and share access to the steering council</em> by <strong><a href=\"https://github.com/choldgraf\">@choldgraf</a></strong></li>\n</ul>"
      }
     },
     "5d36869ea81b426f89aa12b02c3e8fa4": {
      "model_module": "@jupyter-widgets/controls",
      "model_module_version": "2.0.0",
      "model_name": "HTMLModel",
      "state": {
       "_dom_classes": [],
       "_model_module": "@jupyter-widgets/controls",
       "_model_module_version": "2.0.0",
       "_model_name": "HTMLModel",
       "_view_count": null,
       "_view_module": "@jupyter-widgets/controls",
       "_view_module_version": "2.0.0",
       "_view_name": "HTMLView",
       "description": "",
       "description_allow_html": false,
       "layout": "IPY_MODEL_fc566e358d304bc68fc2d7130b4c6fc4",
       "placeholder": "​",
       "style": "IPY_MODEL_35e66a07f4654b2fb17f77d558b3bf2d",
       "tabbable": null,
       "tooltip": null,
       "value": "<h4>Closed PRs for repo: <a href=\"https://github.com/jupyter-book/mystmd.org\">jupyter-book/mystmd.org</a></h4>\n<h5></h5>\n<ul>\n<li><a href=\"https://github.com/jupyter-book/mystmd.org/issues/23\">(#23)</a>: <em>👪 Pass <code>root.children</code> to tree renderer</em> by <strong><a href=\"https://github.com/agoose77\">@agoose77</a></strong> merged by <strong><a href=\"https://github.com/agoose77\">@agoose77</a></strong></li>\n<li><a href=\"https://github.com/jupyter-book/mystmd.org/issues/24\">(#24)</a>: <em>📸 Use picsum instead of unsplash</em> by <strong><a href=\"https://github.com/agoose77\">@agoose77</a></strong> merged by <strong><a href=\"https://github.com/agoose77\">@agoose77</a></strong></li>\n<li><a href=\"https://github.com/jupyter-book/mystmd.org/issues/27\">(#27)</a>: <em>Add workflow dispatch option to vercel deployment</em> by <strong><a href=\"https://github.com/choldgraf\">@choldgraf</a></strong> merged by <strong><a href=\"https://github.com/choldgraf\">@choldgraf</a></strong></li>\n<li><a href=\"https://github.com/jupyter-book/mystmd.org/issues/28\">(#28)</a>: <em>📖 Point to the mystmd documentation guide in our README</em> by <strong><a href=\"https://github.com/choldgraf\">@choldgraf</a></strong> merged by <strong><a href=\"https://github.com/rowanc1\">@rowanc1</a></strong></li>\n<li><a href=\"https://github.com/jupyter-book/mystmd.org/issues/29\">(#29)</a>: <em>🔗 Don't include <code>?url</code> in sandbox copy button link</em> by <strong><a href=\"https://github.com/agoose77\">@agoose77</a></strong> merged by <strong><a href=\"https://github.com/agoose77\">@agoose77</a></strong></li>\n<li><a href=\"https://github.com/jupyter-book/mystmd.org/issues/30\">(#30)</a>: <em>Update a few links from Executablebooks to Jupyter Book</em> by <strong><a href=\"https://github.com/choldgraf\">@choldgraf</a></strong> merged by <strong><a href=\"https://github.com/choldgraf\">@choldgraf</a></strong></li>\n</ul>"
      }
     },
     "5da7ab6b39a04f928e0966926b93b289": {
      "model_module": "@jupyter-widgets/controls",
      "model_module_version": "2.0.0",
      "model_name": "HTMLStyleModel",
      "state": {
       "_model_module": "@jupyter-widgets/controls",
       "_model_module_version": "2.0.0",
       "_model_name": "HTMLStyleModel",
       "_view_count": null,
       "_view_module": "@jupyter-widgets/base",
       "_view_module_version": "2.0.0",
       "_view_name": "StyleView",
       "background": null,
       "description_width": "",
       "font_size": null,
       "text_color": null
      }
     },
     "60d760e5099b4236b246c392391e284c": {
      "model_module": "@jupyter-widgets/base",
      "model_module_version": "2.0.0",
      "model_name": "LayoutModel",
      "state": {
       "_model_module": "@jupyter-widgets/base",
       "_model_module_version": "2.0.0",
       "_model_name": "LayoutModel",
       "_view_count": null,
       "_view_module": "@jupyter-widgets/base",
       "_view_module_version": "2.0.0",
       "_view_name": "LayoutView",
       "align_content": null,
       "align_items": null,
       "align_self": null,
       "border_bottom": null,
       "border_left": null,
       "border_right": null,
       "border_top": null,
       "bottom": null,
       "display": null,
       "flex": null,
       "flex_flow": null,
       "grid_area": null,
       "grid_auto_columns": null,
       "grid_auto_flow": null,
       "grid_auto_rows": null,
       "grid_column": null,
       "grid_gap": null,
       "grid_row": null,
       "grid_template_areas": null,
       "grid_template_columns": null,
       "grid_template_rows": null,
       "height": null,
       "justify_content": null,
       "justify_items": null,
       "left": null,
       "margin": null,
       "max_height": null,
       "max_width": null,
       "min_height": null,
       "min_width": null,
       "object_fit": null,
       "object_position": null,
       "order": null,
       "overflow": null,
       "padding": null,
       "right": null,
       "top": null,
       "visibility": null,
       "width": null
      }
     },
     "667f253add584a51aa69ee203e6d143a": {
      "model_module": "@jupyter-widgets/controls",
      "model_module_version": "2.0.0",
      "model_name": "HTMLModel",
      "state": {
       "_dom_classes": [],
       "_model_module": "@jupyter-widgets/controls",
       "_model_module_version": "2.0.0",
       "_model_name": "HTMLModel",
       "_view_count": null,
       "_view_module": "@jupyter-widgets/controls",
       "_view_module_version": "2.0.0",
       "_view_name": "HTMLView",
       "description": "",
       "description_allow_html": false,
       "layout": "IPY_MODEL_55f2125fbe79490e897ebf20acf143e9",
       "placeholder": "​",
       "style": "IPY_MODEL_cfb381a5d5eb4e618af1fa318ac26fdb",
       "tabbable": null,
       "tooltip": null,
       "value": "<h5><a href=\"https://github.com/jupyter-book/mystmd\">jupyter-book/mystmd</a></h5>\n<ul>\n<li><a href=\"https://github.com/jupyter-book/mystmd/issues/1336\">(#1336)</a>: <em>Tracking: Turing Way</em> by <strong><a href=\"https://github.com/rowanc1\">@rowanc1</a></strong></li>\n<li><a href=\"https://github.com/jupyter-book/mystmd/issues/2031\">(#2031)</a>: <em>Allow <code>template</code> to point to a folder inside a repo</em> by <strong><a href=\"https://github.com/roaldarbol\">@roaldarbol</a></strong></li>\n<li><a href=\"https://github.com/jupyter-book/mystmd/issues/189\">(#189)</a>: <em>Audit of Features missing in JupyterBook</em> by <strong><a href=\"https://github.com/rowanc1\">@rowanc1</a></strong></li>\n<li><a href=\"https://github.com/jupyter-book/mystmd/issues/302\">(#302)</a>: <em>Support running MyST previews / running a myst server on JupyterHub</em> by <strong><a href=\"https://github.com/fperez\">@fperez</a></strong></li>\n<li><a href=\"https://github.com/jupyter-book/mystmd/issues/1910\">(#1910)</a>: <em>Aside broken after trying to add custom css</em> by <strong><a href=\"https://github.com/paulskrzypczyk\">@paulskrzypczyk</a></strong></li>\n</ul>"
      }
     },
     "6dd97433c3054f258ee0113ec76b7dbc": {
      "model_module": "@jupyter-widgets/controls",
      "model_module_version": "2.0.0",
      "model_name": "HTMLStyleModel",
      "state": {
       "_model_module": "@jupyter-widgets/controls",
       "_model_module_version": "2.0.0",
       "_model_name": "HTMLStyleModel",
       "_view_count": null,
       "_view_module": "@jupyter-widgets/base",
       "_view_module_version": "2.0.0",
       "_view_name": "StyleView",
       "background": null,
       "description_width": "",
       "font_size": null,
       "text_color": null
      }
     },
     "6ffa2f03ab294da98abd67d248e5f449": {
      "model_module": "@jupyter-widgets/controls",
      "model_module_version": "2.0.0",
      "model_name": "HTMLStyleModel",
      "state": {
       "_model_module": "@jupyter-widgets/controls",
       "_model_module_version": "2.0.0",
       "_model_name": "HTMLStyleModel",
       "_view_count": null,
       "_view_module": "@jupyter-widgets/base",
       "_view_module_version": "2.0.0",
       "_view_name": "StyleView",
       "background": null,
       "description_width": "",
       "font_size": null,
       "text_color": null
      }
     },
     "7a6fc9d9ddb548709cb1a74241eea28b": {
      "model_module": "@jupyter-widgets/base",
      "model_module_version": "2.0.0",
      "model_name": "LayoutModel",
      "state": {
       "_model_module": "@jupyter-widgets/base",
       "_model_module_version": "2.0.0",
       "_model_name": "LayoutModel",
       "_view_count": null,
       "_view_module": "@jupyter-widgets/base",
       "_view_module_version": "2.0.0",
       "_view_name": "LayoutView",
       "align_content": null,
       "align_items": null,
       "align_self": null,
       "border_bottom": null,
       "border_left": null,
       "border_right": null,
       "border_top": null,
       "bottom": null,
       "display": null,
       "flex": null,
       "flex_flow": null,
       "grid_area": null,
       "grid_auto_columns": null,
       "grid_auto_flow": null,
       "grid_auto_rows": null,
       "grid_column": null,
       "grid_gap": null,
       "grid_row": null,
       "grid_template_areas": null,
       "grid_template_columns": null,
       "grid_template_rows": null,
       "height": null,
       "justify_content": null,
       "justify_items": null,
       "left": null,
       "margin": null,
       "max_height": null,
       "max_width": null,
       "min_height": null,
       "min_width": null,
       "object_fit": null,
       "object_position": null,
       "order": null,
       "overflow": null,
       "padding": null,
       "right": null,
       "top": null,
       "visibility": null,
       "width": null
      }
     },
     "7fd378fb0eca4470b9f34a163169f800": {
      "model_module": "@jupyter-widgets/controls",
      "model_module_version": "2.0.0",
      "model_name": "HTMLModel",
      "state": {
       "_dom_classes": [],
       "_model_module": "@jupyter-widgets/controls",
       "_model_module_version": "2.0.0",
       "_model_name": "HTMLModel",
       "_view_count": null,
       "_view_module": "@jupyter-widgets/controls",
       "_view_module_version": "2.0.0",
       "_view_name": "HTMLView",
       "description": "",
       "description_allow_html": false,
       "layout": "IPY_MODEL_1f9a56f738ad46e1a427c83f7c9ebff2",
       "placeholder": "​",
       "style": "IPY_MODEL_2d4870f09dbc4e65b4d9758208f8984a",
       "tabbable": null,
       "tooltip": null,
       "value": "<h4>Closed PRs for repo: <a href=\"https://github.com/jupyter-book/myst-theme\">jupyter-book/myst-theme</a></h4>\n<h5></h5>\n<ul>\n<li><a href=\"https://github.com/jupyter-book/myst-theme/issues/528\">(#528)</a>: <em>🚀 Add <code>awesomebar</code>-like UX to launch button</em> by <strong><a href=\"https://github.com/agoose77\">@agoose77</a></strong> merged by <strong><a href=\"https://github.com/rowanc1\">@rowanc1</a></strong></li>\n<li><a href=\"https://github.com/jupyter-book/myst-theme/issues/531\">(#531)</a>: <em>🛫 Add landing page blocks to book theme</em> by <strong><a href=\"https://github.com/agoose77\">@agoose77</a></strong> merged by <strong><a href=\"https://github.com/rowanc1\">@rowanc1</a></strong></li>\n<li><a href=\"https://github.com/jupyter-book/myst-theme/issues/536\">(#536)</a>: <em>🧱 Drop <code>ContentBlocks</code> and move functionality to <code>MyST</code></em> by <strong><a href=\"https://github.com/agoose77\">@agoose77</a></strong> merged by <strong><a href=\"https://github.com/rowanc1\">@rowanc1</a></strong></li>\n<li><a href=\"https://github.com/jupyter-book/myst-theme/issues/539\">(#539)</a>: <em>Version Packages</em> by <strong><a href=\"https://github.com/github-actions[bot]\">@github-actions[bot]</a></strong> merged by <strong><a href=\"https://github.com/rowanc1\">@rowanc1</a></strong></li>\n<li><a href=\"https://github.com/jupyter-book/myst-theme/issues/540\">(#540)</a>: <em>💇 Add support for user stylesheets</em> by <strong><a href=\"https://github.com/agoose77\">@agoose77</a></strong> merged by <strong><a href=\"https://github.com/rowanc1\">@rowanc1</a></strong></li>\n<li><a href=\"https://github.com/jupyter-book/myst-theme/issues/541\">(#541)</a>: <em>ℹ️ Add note about JupyterHub requirements to launch bar</em> by <strong><a href=\"https://github.com/agoose77\">@agoose77</a></strong> merged by <strong><a href=\"https://github.com/agoose77\">@agoose77</a></strong></li>\n<li><a href=\"https://github.com/jupyter-book/myst-theme/issues/542\">(#542)</a>: <em>🛫 Add landing page blocks to book theme</em> by <strong><a href=\"https://github.com/rowanc1\">@rowanc1</a></strong> merged by <strong><a href=\"https://github.com/agoose77\">@agoose77</a></strong></li>\n<li><a href=\"https://github.com/jupyter-book/myst-theme/issues/543\">(#543)</a>: <em>🚀 myst@v1.3.24</em> by <strong><a href=\"https://github.com/rowanc1\">@rowanc1</a></strong> merged by <strong><a href=\"https://github.com/rowanc1\">@rowanc1</a></strong></li>\n<li><a href=\"https://github.com/jupyter-book/myst-theme/issues/544\">(#544)</a>: <em>holoviews support: fix output path fetching</em> by <strong><a href=\"https://github.com/stevejpurves\">@stevejpurves</a></strong> merged by <strong><a href=\"https://github.com/stevejpurves\">@stevejpurves</a></strong></li>\n<li><a href=\"https://github.com/jupyter-book/myst-theme/issues/546\">(#546)</a>: <em>🧱 Only apply grid system to outer <code>&lt;MyST&gt;</code> component</em> by <strong><a href=\"https://github.com/agoose77\">@agoose77</a></strong> merged by <strong><a href=\"https://github.com/rowanc1\">@rowanc1</a></strong></li>\n<li><a href=\"https://github.com/jupyter-book/myst-theme/issues/547\">(#547)</a>: <em>🪜 Use <code>BlockDepth</code> provider to scope grid layout to top-level blocks</em> by <strong><a href=\"https://github.com/agoose77\">@agoose77</a></strong> merged by <strong><a href=\"https://github.com/rowanc1\">@rowanc1</a></strong></li>\n<li><a href=\"https://github.com/jupyter-book/myst-theme/issues/548\">(#548)</a>: <em>🧱 Simplify Blocks (remove grid-system)</em> by <strong><a href=\"https://github.com/rowanc1\">@rowanc1</a></strong> merged by <strong><a href=\"https://github.com/rowanc1\">@rowanc1</a></strong></li>\n<li><a href=\"https://github.com/jupyter-book/myst-theme/issues/549\">(#549)</a>: <em>Version Packages</em> by <strong><a href=\"https://github.com/github-actions[bot]\">@github-actions[bot]</a></strong> merged by <strong><a href=\"https://github.com/rowanc1\">@rowanc1</a></strong></li>\n<li><a href=\"https://github.com/jupyter-book/myst-theme/issues/550\">(#550)</a>: <em>🧹 Clean up links to EB &amp; unify READMEs for packages</em> by <strong><a href=\"https://github.com/agoose77\">@agoose77</a></strong> merged by <strong><a href=\"https://github.com/agoose77\">@agoose77</a></strong></li>\n<li><a href=\"https://github.com/jupyter-book/myst-theme/issues/551\">(#551)</a>: <em>Version Packages</em> by <strong><a href=\"https://github.com/github-actions[bot]\">@github-actions[bot]</a></strong> merged by <strong><a href=\"https://github.com/rowanc1\">@rowanc1</a></strong></li>\n<li><a href=\"https://github.com/jupyter-book/myst-theme/issues/552\">(#552)</a>: <em>🧹 remove console.log</em> by <strong><a href=\"https://github.com/stevejpurves\">@stevejpurves</a></strong> merged by <strong><a href=\"https://github.com/stevejpurves\">@stevejpurves</a></strong></li>\n<li><a href=\"https://github.com/jupyter-book/myst-theme/issues/554\">(#554)</a>: <em>🎩 Fix landing-page block class lookup</em> by <strong><a href=\"https://github.com/agoose77\">@agoose77</a></strong> merged by <strong><a href=\"https://github.com/agoose77\">@agoose77</a></strong></li>\n<li><a href=\"https://github.com/jupyter-book/myst-theme/issues/555\">(#555)</a>: <em>Version Packages</em> by <strong><a href=\"https://github.com/github-actions[bot]\">@github-actions[bot]</a></strong> merged by <strong><a href=\"https://github.com/rowanc1\">@rowanc1</a></strong></li>\n<li><a href=\"https://github.com/jupyter-book/myst-theme/issues/556\">(#556)</a>: <em>🌲 Add <code>root</code> renderer</em> by <strong><a href=\"https://github.com/agoose77\">@agoose77</a></strong> merged by <strong><a href=\"https://github.com/rowanc1\">@rowanc1</a></strong></li>\n<li><a href=\"https://github.com/jupyter-book/myst-theme/issues/557\">(#557)</a>: <em>🐛 Ensure CSS has baseURL directly</em> by <strong><a href=\"https://github.com/rowanc1\">@rowanc1</a></strong> merged by <strong><a href=\"https://github.com/rowanc1\">@rowanc1</a></strong></li>\n<li><a href=\"https://github.com/jupyter-book/myst-theme/issues/559\">(#559)</a>: <em>♹ Small types improvements</em> by <strong><a href=\"https://github.com/rowanc1\">@rowanc1</a></strong> merged by <strong><a href=\"https://github.com/rowanc1\">@rowanc1</a></strong></li>\n<li><a href=\"https://github.com/jupyter-book/myst-theme/issues/560\">(#560)</a>: <em>🖥️ Add deploy workflow to CI</em> by <strong><a href=\"https://github.com/agoose77\">@agoose77</a></strong> merged by <strong><a href=\"https://github.com/agoose77\">@agoose77</a></strong></li>\n<li><a href=\"https://github.com/jupyter-book/myst-theme/issues/561\">(#561)</a>: <em>🛠️ Delete theme's built assets before build</em> by <strong><a href=\"https://github.com/agoose77\">@agoose77</a></strong> merged by <strong><a href=\"https://github.com/rowanc1\">@rowanc1</a></strong></li>\n<li><a href=\"https://github.com/jupyter-book/myst-theme/issues/562\">(#562)</a>: <em>✏️ Fix metadata for template URL</em> by <strong><a href=\"https://github.com/agoose77\">@agoose77</a></strong> merged by <strong><a href=\"https://github.com/rowanc1\">@rowanc1</a></strong></li>\n<li><a href=\"https://github.com/jupyter-book/myst-theme/issues/563\">(#563)</a>: <em>🥂 Merge deploy and release workflows</em> by <strong><a href=\"https://github.com/agoose77\">@agoose77</a></strong> merged by <strong><a href=\"https://github.com/agoose77\">@agoose77</a></strong></li>\n<li><a href=\"https://github.com/jupyter-book/myst-theme/issues/568\">(#568)</a>: <em>❄️ Add nix dev-shell flake</em> by <strong><a href=\"https://github.com/agoose77\">@agoose77</a></strong> merged by <strong><a href=\"https://github.com/agoose77\">@agoose77</a></strong></li>\n<li><a href=\"https://github.com/jupyter-book/myst-theme/issues/570\">(#570)</a>: <em>🎓 Add support for <code>button</code> in <code>cite</code> nodes</em> by <strong><a href=\"https://github.com/agoose77\">@agoose77</a></strong> merged by <strong><a href=\"https://github.com/stevejpurves\">@stevejpurves</a></strong></li>\n<li><a href=\"https://github.com/jupyter-book/myst-theme/issues/573\">(#573)</a>: <em>➿ Enable flex-wrap in landing-page links</em> by <strong><a href=\"https://github.com/agoose77\">@agoose77</a></strong> merged by <strong><a href=\"https://github.com/agoose77\">@agoose77</a></strong></li>\n<li><a href=\"https://github.com/jupyter-book/myst-theme/issues/574\">(#574)</a>: <em>Version Packages</em> by <strong><a href=\"https://github.com/github-actions[bot]\">@github-actions[bot]</a></strong> merged by <strong><a href=\"https://github.com/choldgraf\">@choldgraf</a></strong></li>\n<li><a href=\"https://github.com/jupyter-book/myst-theme/issues/576\">(#576)</a>: <em>🖼️ Fix layout of <code>justified</code> landing blocks</em> by <strong><a href=\"https://github.com/agoose77\">@agoose77</a></strong> merged by <strong><a href=\"https://github.com/agoose77\">@agoose77</a></strong></li>\n<li><a href=\"https://github.com/jupyter-book/myst-theme/issues/577\">(#577)</a>: <em>✍️ Feat: add edit button</em> by <strong><a href=\"https://github.com/kne42\">@kne42</a></strong> merged by <strong><a href=\"https://github.com/agoose77\">@agoose77</a></strong></li>\n<li><a href=\"https://github.com/jupyter-book/myst-theme/issues/578\">(#578)</a>: <em>📜 Drop submodule references in contributing</em> by <strong><a href=\"https://github.com/agoose77\">@agoose77</a></strong> merged by <strong><a href=\"https://github.com/agoose77\">@agoose77</a></strong></li>\n</ul>"
      }
     },
     "82a800b5142c48bc9ddcd1f75d27f0f1": {
      "model_module": "@jupyter-widgets/controls",
      "model_module_version": "2.0.0",
      "model_name": "HTMLModel",
      "state": {
       "_dom_classes": [],
       "_model_module": "@jupyter-widgets/controls",
       "_model_module_version": "2.0.0",
       "_model_name": "HTMLModel",
       "_view_count": null,
       "_view_module": "@jupyter-widgets/controls",
       "_view_module_version": "2.0.0",
       "_view_name": "HTMLView",
       "description": "",
       "description_allow_html": false,
       "layout": "IPY_MODEL_f810350a89c241a58a1604dafce4cb8b",
       "placeholder": "​",
       "style": "IPY_MODEL_fe197fa29ce34cfabcfe388dfd288b02",
       "tabbable": null,
       "tooltip": null,
       "value": "<h4>Closed PRs for repo: <a href=\"https://github.com/jupyter-book/mystmd\">jupyter-book/mystmd</a></h4>\n<h5></h5>\n<ul>\n<li><a href=\"https://github.com/jupyter-book/mystmd/issues/1822\">(#1822)</a>: <em>🧮 Add inline options to roles and directives</em> by <strong><a href=\"https://github.com/rowanc1\">@rowanc1</a></strong> merged by <strong><a href=\"https://github.com/rowanc1\">@rowanc1</a></strong></li>\n<li><a href=\"https://github.com/jupyter-book/mystmd/issues/1826\">(#1826)</a>: <em>✨ New table of contents directive</em> by <strong><a href=\"https://github.com/fwkoch\">@fwkoch</a></strong> merged by <strong><a href=\"https://github.com/rowanc1\">@rowanc1</a></strong></li>\n<li><a href=\"https://github.com/jupyter-book/mystmd/issues/1836\">(#1836)</a>: <em>🚀 Release</em> by <strong><a href=\"https://github.com/github-actions[bot]\">@github-actions[bot]</a></strong> merged by <strong><a href=\"https://github.com/rowanc1\">@rowanc1</a></strong></li>\n<li><a href=\"https://github.com/jupyter-book/mystmd/issues/1864\">(#1864)</a>: <em>🛫 Add documentation for Landing Pages</em> by <strong><a href=\"https://github.com/agoose77\">@agoose77</a></strong> merged by <strong><a href=\"https://github.com/rowanc1\">@rowanc1</a></strong></li>\n<li><a href=\"https://github.com/jupyter-book/mystmd/issues/1872\">(#1872)</a>: <em>Handle unsupported options for include directive</em> by <strong><a href=\"https://github.com/JimMadge\">@JimMadge</a></strong> merged by <strong><a href=\"https://github.com/agoose77\">@agoose77</a></strong></li>\n<li><a href=\"https://github.com/jupyter-book/mystmd/issues/1873\">(#1873)</a>: <em>💇 Add documentation on <code>site.options.style</code></em> by <strong><a href=\"https://github.com/agoose77\">@agoose77</a></strong> merged by <strong><a href=\"https://github.com/rowanc1\">@rowanc1</a></strong></li>\n<li><a href=\"https://github.com/jupyter-book/mystmd/issues/1881\">(#1881)</a>: <em>✏️ Use <code>myst</code> directive with <code>proof</code> option definitions</em> by <strong><a href=\"https://github.com/agoose77\">@agoose77</a></strong> merged by <strong><a href=\"https://github.com/rowanc1\">@rowanc1</a></strong></li>\n<li><a href=\"https://github.com/jupyter-book/mystmd/issues/1888\">(#1888)</a>: <em>📖 Adds note on Windows builds to Contribution guide</em> by <strong><a href=\"https://github.com/nmielec\">@nmielec</a></strong> merged by <strong><a href=\"https://github.com/rowanc1\">@rowanc1</a></strong></li>\n<li><a href=\"https://github.com/jupyter-book/mystmd/issues/1890\">(#1890)</a>: <em>📦 Update to <code>doi-utils</code> v2.0.5</em> by <strong><a href=\"https://github.com/rowanc1\">@rowanc1</a></strong> merged by <strong><a href=\"https://github.com/rowanc1\">@rowanc1</a></strong></li>\n<li><a href=\"https://github.com/jupyter-book/mystmd/issues/1891\">(#1891)</a>: <em>🚀 Release</em> by <strong><a href=\"https://github.com/github-actions[bot]\">@github-actions[bot]</a></strong> merged by <strong><a href=\"https://github.com/rowanc1\">@rowanc1</a></strong></li>\n<li><a href=\"https://github.com/jupyter-book/mystmd/issues/1894\">(#1894)</a>: <em>🐝 Fix missing class in landing-pages</em> by <strong><a href=\"https://github.com/agoose77\">@agoose77</a></strong> merged by <strong><a href=\"https://github.com/agoose77\">@agoose77</a></strong></li>\n<li><a href=\"https://github.com/jupyter-book/mystmd/issues/1895\">(#1895)</a>: <em>🚀 Update the <code>SPEC_VERSION</code> for <code>block.class</code></em> by <strong><a href=\"https://github.com/rowanc1\">@rowanc1</a></strong> merged by <strong><a href=\"https://github.com/rowanc1\">@rowanc1</a></strong></li>\n<li><a href=\"https://github.com/jupyter-book/mystmd/issues/1896\">(#1896)</a>: <em>🚀 Release</em> by <strong><a href=\"https://github.com/github-actions[bot]\">@github-actions[bot]</a></strong> merged by <strong><a href=\"https://github.com/rowanc1\">@rowanc1</a></strong></li>\n<li><a href=\"https://github.com/jupyter-book/mystmd/issues/1897\">(#1897)</a>: <em>📦 Bump <code>nbtx</code> 0.4.0</em> by <strong><a href=\"https://github.com/fwkoch\">@fwkoch</a></strong> merged by <strong><a href=\"https://github.com/rowanc1\">@rowanc1</a></strong></li>\n<li><a href=\"https://github.com/jupyter-book/mystmd/issues/1898\">(#1898)</a>: <em>🤔 Bump nbtx</em> by <strong><a href=\"https://github.com/fwkoch\">@fwkoch</a></strong> merged by <strong><a href=\"https://github.com/fwkoch\">@fwkoch</a></strong></li>\n<li><a href=\"https://github.com/jupyter-book/mystmd/issues/1901\">(#1901)</a>: <em>🐛 Ensure CSS has baseURL directly</em> by <strong><a href=\"https://github.com/rowanc1\">@rowanc1</a></strong> merged by <strong><a href=\"https://github.com/rowanc1\">@rowanc1</a></strong></li>\n<li><a href=\"https://github.com/jupyter-book/mystmd/issues/1906\">(#1906)</a>: <em>Restructure developer guide and add architecture overview</em> by <strong><a href=\"https://github.com/stefanv\">@stefanv</a></strong> merged by <strong><a href=\"https://github.com/choldgraf\">@choldgraf</a></strong></li>\n<li><a href=\"https://github.com/jupyter-book/mystmd/issues/1914\">(#1914)</a>: <em>⌨️ Add command line argument to <code>myst start</code> for selecting template</em> by <strong><a href=\"https://github.com/stefanv\">@stefanv</a></strong> merged by <strong><a href=\"https://github.com/rowanc1\">@rowanc1</a></strong></li>\n<li><a href=\"https://github.com/jupyter-book/mystmd/issues/1919\">(#1919)</a>: <em>✅ Add husky and lint-staged to help devs fix code before pushing</em> by <strong><a href=\"https://github.com/stefanv\">@stefanv</a></strong> merged by <strong><a href=\"https://github.com/choldgraf\">@choldgraf</a></strong></li>\n<li><a href=\"https://github.com/jupyter-book/mystmd/issues/1930\">(#1930)</a>: <em>Clarify BASE_URL instructions in GH action for custom domains.</em> by <strong><a href=\"https://github.com/fperez\">@fperez</a></strong> merged by <strong><a href=\"https://github.com/agoose77\">@agoose77</a></strong></li>\n<li><a href=\"https://github.com/jupyter-book/mystmd/issues/1936\">(#1936)</a>: <em>✍️ Escape backticks in <code>init --gh-pages</code> template</em> by <strong><a href=\"https://github.com/agoose77\">@agoose77</a></strong> merged by <strong><a href=\"https://github.com/agoose77\">@agoose77</a></strong></li>\n<li><a href=\"https://github.com/jupyter-book/mystmd/issues/1938\">(#1938)</a>: <em>📝 Add missing changeset</em> by <strong><a href=\"https://github.com/agoose77\">@agoose77</a></strong> merged by <strong><a href=\"https://github.com/agoose77\">@agoose77</a></strong></li>\n<li><a href=\"https://github.com/jupyter-book/mystmd/issues/1939\">(#1939)</a>: <em>Add footnote about links to md files not in ToC</em> by <strong><a href=\"https://github.com/JimMadge\">@JimMadge</a></strong> merged by <strong><a href=\"https://github.com/agoose77\">@agoose77</a></strong></li>\n<li><a href=\"https://github.com/jupyter-book/mystmd/issues/1941\">(#1941)</a>: <em>Update the documentation on installing with Typst</em> by <strong><a href=\"https://github.com/choldgraf\">@choldgraf</a></strong> merged by <strong><a href=\"https://github.com/agoose77\">@agoose77</a></strong></li>\n<li><a href=\"https://github.com/jupyter-book/mystmd/issues/1942\">(#1942)</a>: <em>🪄 Improve error handling during cross reference resolution</em> by <strong><a href=\"https://github.com/agoose77\">@agoose77</a></strong> merged by <strong><a href=\"https://github.com/agoose77\">@agoose77</a></strong></li>\n<li><a href=\"https://github.com/jupyter-book/mystmd/issues/1943\">(#1943)</a>: <em>🏷️ Remove default label from <code>inlineExpression</code> node</em> by <strong><a href=\"https://github.com/agoose77\">@agoose77</a></strong> merged by <strong><a href=\"https://github.com/agoose77\">@agoose77</a></strong></li>\n<li><a href=\"https://github.com/jupyter-book/mystmd/issues/1944\">(#1944)</a>: <em>🐛 Fix missing references in <code>docx</code> export</em> by <strong><a href=\"https://github.com/alanrice\">@alanrice</a></strong> merged by <strong><a href=\"https://github.com/agoose77\">@agoose77</a></strong></li>\n<li><a href=\"https://github.com/jupyter-book/mystmd/issues/1945\">(#1945)</a>: <em>👨🏻‍🔧 fix check link transform for cards</em> by <strong><a href=\"https://github.com/stevejpurves\">@stevejpurves</a></strong> merged by <strong><a href=\"https://github.com/stevejpurves\">@stevejpurves</a></strong></li>\n<li><a href=\"https://github.com/jupyter-book/mystmd/issues/1949\">(#1949)</a>: <em>🔙 Move execution transform earlier in mdast pipeline</em> by <strong><a href=\"https://github.com/agoose77\">@agoose77</a></strong> merged by <strong><a href=\"https://github.com/agoose77\">@agoose77</a></strong></li>\n<li><a href=\"https://github.com/jupyter-book/mystmd/issues/1950\">(#1950)</a>: <em>Add a high-level overview of MyST components</em> by <strong><a href=\"https://github.com/choldgraf\">@choldgraf</a></strong> merged by <strong><a href=\"https://github.com/choldgraf\">@choldgraf</a></strong></li>\n<li><a href=\"https://github.com/jupyter-book/mystmd/issues/1951\">(#1951)</a>: <em>✋ netlify: only rebuild docs when they were modified</em> by <strong><a href=\"https://github.com/stefanv\">@stefanv</a></strong> merged by <strong><a href=\"https://github.com/choldgraf\">@choldgraf</a></strong></li>\n<li><a href=\"https://github.com/jupyter-book/mystmd/issues/1955\">(#1955)</a>: <em>📖 Document how to export MyST Markdown</em> by <strong><a href=\"https://github.com/choldgraf\">@choldgraf</a></strong> merged by <strong><a href=\"https://github.com/rowanc1\">@rowanc1</a></strong></li>\n<li><a href=\"https://github.com/jupyter-book/mystmd/issues/1958\">(#1958)</a>: <em>Update documentation about our documentation infrastructure at mystmd.org</em> by <strong><a href=\"https://github.com/choldgraf\">@choldgraf</a></strong> merged by <strong><a href=\"https://github.com/choldgraf\">@choldgraf</a></strong></li>\n<li><a href=\"https://github.com/jupyter-book/mystmd/issues/1966\">(#1966)</a>: <em>📦 Improve docs on PDF exports for downloads</em> by <strong><a href=\"https://github.com/agoose77\">@agoose77</a></strong> merged by <strong><a href=\"https://github.com/choldgraf\">@choldgraf</a></strong></li>\n<li><a href=\"https://github.com/jupyter-book/mystmd/issues/1969\">(#1969)</a>: <em>Add a brief guide to choosing between <code>.md</code> and <code>.ipynb</code></em> by <strong><a href=\"https://github.com/choldgraf\">@choldgraf</a></strong> merged by <strong><a href=\"https://github.com/agoose77\">@agoose77</a></strong></li>\n<li><a href=\"https://github.com/jupyter-book/mystmd/issues/1980\">(#1980)</a>: <em>; Semicolon escape in typst</em> by <strong><a href=\"https://github.com/rowanc1\">@rowanc1</a></strong> merged by <strong><a href=\"https://github.com/rowanc1\">@rowanc1</a></strong></li>\n<li><a href=\"https://github.com/jupyter-book/mystmd/issues/1987\">(#1987)</a>: <em>🦋 Add bluesky social links</em> by <strong><a href=\"https://github.com/rowanc1\">@rowanc1</a></strong> merged by <strong><a href=\"https://github.com/rowanc1\">@rowanc1</a></strong></li>\n<li><a href=\"https://github.com/jupyter-book/mystmd/issues/1992\">(#1992)</a>: <em>DOCS: Clarify and cross-link code cell output suppression</em> by <strong><a href=\"https://github.com/choldgraf\">@choldgraf</a></strong> merged by <strong><a href=\"https://github.com/choldgraf\">@choldgraf</a></strong></li>\n<li><a href=\"https://github.com/jupyter-book/mystmd/issues/1993\">(#1993)</a>: <em>🕵️‍♀️ Expose hidden attribute in TOC nodes</em> by <strong><a href=\"https://github.com/parmentelat\">@parmentelat</a></strong> merged by <strong><a href=\"https://github.com/fwkoch\">@fwkoch</a></strong></li>\n<li><a href=\"https://github.com/jupyter-book/mystmd/issues/1995\">(#1995)</a>: <em>🐛 <code>--pdf</code> --&gt; <code>--tex</code></em> by <strong><a href=\"https://github.com/rowanc1\">@rowanc1</a></strong> merged by <strong><a href=\"https://github.com/rowanc1\">@rowanc1</a></strong></li>\n<li><a href=\"https://github.com/jupyter-book/mystmd/issues/1997\">(#1997)</a>: <em>📖 Add guidelines for publishing a release to GitHub</em> by <strong><a href=\"https://github.com/choldgraf\">@choldgraf</a></strong> merged by <strong><a href=\"https://github.com/choldgraf\">@choldgraf</a></strong></li>\n<li><a href=\"https://github.com/jupyter-book/mystmd/issues/1998\">(#1998)</a>: <em>📖 Document light dark elements with CSS classes</em> by <strong><a href=\"https://github.com/choldgraf\">@choldgraf</a></strong> merged by <strong><a href=\"https://github.com/choldgraf\">@choldgraf</a></strong></li>\n<li><a href=\"https://github.com/jupyter-book/mystmd/issues/2010\">(#2010)</a>: <em>Fix typo in md-vs-ipynb.md</em> by <strong><a href=\"https://github.com/choldgraf\">@choldgraf</a></strong> merged by <strong><a href=\"https://github.com/rowanc1\">@rowanc1</a></strong></li>\n<li><a href=\"https://github.com/jupyter-book/mystmd/issues/2011\">(#2011)</a>: <em>Remove extra error block</em> by <strong><a href=\"https://github.com/stefanv\">@stefanv</a></strong> merged by <strong><a href=\"https://github.com/choldgraf\">@choldgraf</a></strong></li>\n<li><a href=\"https://github.com/jupyter-book/mystmd/issues/2012\">(#2012)</a>: <em>Explain more MyST concepts, developer docs, and export docs</em> by <strong><a href=\"https://github.com/choldgraf\">@choldgraf</a></strong> merged by <strong><a href=\"https://github.com/stefanv\">@stefanv</a></strong></li>\n<li><a href=\"https://github.com/jupyter-book/mystmd/issues/2015\">(#2015)</a>: <em>🚀 Release</em> by <strong><a href=\"https://github.com/github-actions[bot]\">@github-actions[bot]</a></strong> merged by <strong><a href=\"https://github.com/fwkoch\">@fwkoch</a></strong></li>\n<li><a href=\"https://github.com/jupyter-book/mystmd/issues/2016\">(#2016)</a>: _ Update links to example of landing pages_ by <strong><a href=\"https://github.com/agoose77\">@agoose77</a></strong> merged by <strong><a href=\"https://github.com/choldgraf\">@choldgraf</a></strong></li>\n<li><a href=\"https://github.com/jupyter-book/mystmd/issues/2023\">(#2023)</a>: <em>📦 Bump tex-to-typst@0.0.16</em> by <strong><a href=\"https://github.com/fwkoch\">@fwkoch</a></strong> merged by <strong><a href=\"https://github.com/fwkoch\">@fwkoch</a></strong></li>\n<li><a href=\"https://github.com/jupyter-book/mystmd/issues/2025\">(#2025)</a>: <em>Document site.folders option</em> by <strong><a href=\"https://github.com/FernandoBasso\">@FernandoBasso</a></strong> merged by <strong><a href=\"https://github.com/choldgraf\">@choldgraf</a></strong></li>\n<li><a href=\"https://github.com/jupyter-book/mystmd/issues/2026\">(#2026)</a>: <em>Document CORS tip</em> by <strong><a href=\"https://github.com/choldgraf\">@choldgraf</a></strong> merged by <strong><a href=\"https://github.com/choldgraf\">@choldgraf</a></strong></li>\n</ul>"
      }
     },
     "83c6160d92d34e73a86c54caa526780d": {
      "model_module": "@jupyter-widgets/controls",
      "model_module_version": "2.0.0",
      "model_name": "HTMLModel",
      "state": {
       "_dom_classes": [],
       "_model_module": "@jupyter-widgets/controls",
       "_model_module_version": "2.0.0",
       "_model_name": "HTMLModel",
       "_view_count": null,
       "_view_module": "@jupyter-widgets/controls",
       "_view_module_version": "2.0.0",
       "_view_name": "HTMLView",
       "description": "",
       "description_allow_html": false,
       "layout": "IPY_MODEL_d4eb2969ed7b461e996666d63428ebdf",
       "placeholder": "​",
       "style": "IPY_MODEL_c3a16a8b9dc1406e87a6774308ea9a01",
       "tabbable": null,
       "tooltip": null,
       "value": "<h5><a href=\"https://github.com/jupyter-book/jupyterlab-myst\">jupyter-book/jupyterlab-myst</a></h5>\n<ul>\n<li><a href=\"https://github.com/jupyter-book/jupyterlab-myst/issues/243\">(#243)</a>: <em>Scrolling over notebook got unexpected jump backs</em> by <strong><a href=\"https://github.com/AllanChain\">@AllanChain</a></strong></li>\n<li><a href=\"https://github.com/jupyter-book/jupyterlab-myst/issues/257\">(#257)</a>: <em>Dancing Page</em> by <strong><a href=\"https://github.com/microcoder\">@microcoder</a></strong></li>\n<li><a href=\"https://github.com/jupyter-book/jupyterlab-myst/issues/248\">(#248)</a>: <em>Do Not highlight links</em> by <strong><a href=\"https://github.com/microcoder\">@microcoder</a></strong></li>\n<li><a href=\"https://github.com/jupyter-book/jupyterlab-myst/issues/175\">(#175)</a>: <em><code>eval</code> role not working as expected</em> by <strong><a href=\"https://github.com/rkansal47\">@rkansal47</a></strong></li>\n<li><a href=\"https://github.com/jupyter-book/jupyterlab-myst/issues/250\">(#250)</a>: <em>Scrolling is stucking on the page</em> by <strong><a href=\"https://github.com/microcoder\">@microcoder</a></strong></li>\n</ul>"
      }
     },
     "86b0c331902e4c809f150e32bf12cbad": {
      "model_module": "@jupyter-widgets/controls",
      "model_module_version": "2.0.0",
      "model_name": "HTMLModel",
      "state": {
       "_dom_classes": [],
       "_model_module": "@jupyter-widgets/controls",
       "_model_module_version": "2.0.0",
       "_model_name": "HTMLModel",
       "_view_count": null,
       "_view_module": "@jupyter-widgets/controls",
       "_view_module_version": "2.0.0",
       "_view_name": "HTMLView",
       "description": "",
       "description_allow_html": false,
       "layout": "IPY_MODEL_9c0cad9717ab498e903a0bf933bb9b45",
       "placeholder": "​",
       "style": "IPY_MODEL_f72f5b3e5cbd4df9890a9914f5d06d23",
       "tabbable": null,
       "tooltip": null,
       "value": "<h5><a href=\"https://github.com/jupyter-book/mystmd\">jupyter-book/mystmd</a></h5>\n<ul>\n<li><a href=\"https://github.com/jupyter-book/mystmd/issues/1336\">(#1336)</a>: <em>Tracking: Turing Way</em> by <strong><a href=\"https://github.com/rowanc1\">@rowanc1</a></strong></li>\n<li><a href=\"https://github.com/jupyter-book/mystmd/issues/2031\">(#2031)</a>: <em>Allow <code>template</code> to point to a folder inside a repo</em> by <strong><a href=\"https://github.com/roaldarbol\">@roaldarbol</a></strong></li>\n<li><a href=\"https://github.com/jupyter-book/mystmd/issues/189\">(#189)</a>: <em>Audit of Features missing in JupyterBook</em> by <strong><a href=\"https://github.com/rowanc1\">@rowanc1</a></strong></li>\n<li><a href=\"https://github.com/jupyter-book/mystmd/issues/302\">(#302)</a>: <em>Support running MyST previews / running a myst server on JupyterHub</em> by <strong><a href=\"https://github.com/fperez\">@fperez</a></strong></li>\n<li><a href=\"https://github.com/jupyter-book/mystmd/issues/1910\">(#1910)</a>: <em>Aside broken after trying to add custom css</em> by <strong><a href=\"https://github.com/paulskrzypczyk\">@paulskrzypczyk</a></strong></li>\n</ul>"
      }
     },
     "90fa1dea0a194e47bcd7139789cb6fb9": {
      "model_module": "@jupyter-widgets/controls",
      "model_module_version": "2.0.0",
      "model_name": "HTMLStyleModel",
      "state": {
       "_model_module": "@jupyter-widgets/controls",
       "_model_module_version": "2.0.0",
       "_model_name": "HTMLStyleModel",
       "_view_count": null,
       "_view_module": "@jupyter-widgets/base",
       "_view_module_version": "2.0.0",
       "_view_name": "StyleView",
       "background": null,
       "description_width": "",
       "font_size": null,
       "text_color": null
      }
     },
     "98f3fe1315c84ac08deac38fa65b04ec": {
      "model_module": "@jupyter-widgets/controls",
      "model_module_version": "2.0.0",
      "model_name": "TabModel",
      "state": {
       "_dom_classes": [],
       "_model_module": "@jupyter-widgets/controls",
       "_model_module_version": "2.0.0",
       "_model_name": "TabModel",
       "_view_count": null,
       "_view_module": "@jupyter-widgets/controls",
       "_view_module_version": "2.0.0",
       "_view_name": "TabView",
       "box_style": "",
       "children": [
        "IPY_MODEL_199d57e4ca9c498e8bcc4f4f02d69ae9",
        "IPY_MODEL_23aebc1dc1c34e678e0051846772979d",
        "IPY_MODEL_44bbd3b06a5d409da2249c224a7cea23",
        "IPY_MODEL_86b0c331902e4c809f150e32bf12cbad",
        "IPY_MODEL_5ac199dbd10643a881063acecdd9e98e",
        "IPY_MODEL_995013834a7d48d495e194671bbaaa43",
        "IPY_MODEL_d5a457e683884c11a4b54e83571adf70"
       ],
       "layout": "IPY_MODEL_ac6361d9eadd4d7c89772fdd8f511f54",
       "selected_index": 0,
       "tabbable": null,
       "titles": [
        "jupyter-book",
        "jupyterlab-myst",
        "myst-theme",
        "mystmd",
        "mystmd.org",
        "team-compass",
        "thebe"
       ],
       "tooltip": null
      }
     },
     "995013834a7d48d495e194671bbaaa43": {
      "model_module": "@jupyter-widgets/controls",
      "model_module_version": "2.0.0",
      "model_name": "HTMLModel",
      "state": {
       "_dom_classes": [],
       "_model_module": "@jupyter-widgets/controls",
       "_model_module_version": "2.0.0",
       "_model_name": "HTMLModel",
       "_view_count": null,
       "_view_module": "@jupyter-widgets/controls",
       "_view_module_version": "2.0.0",
       "_view_name": "HTMLView",
       "description": "",
       "description_allow_html": false,
       "layout": "IPY_MODEL_11eddaffe15c452384cc3bb72211fb53",
       "placeholder": "​",
       "style": "IPY_MODEL_18e54ae5718c4dbcbdbdc0c260a10714",
       "tabbable": null,
       "tooltip": null,
       "value": "<h5><a href=\"https://github.com/jupyter-book/team-compass\">jupyter-book/team-compass</a></h5>\n<ul>\n<li><a href=\"https://github.com/jupyter-book/team-compass/issues/20\">(#20)</a>: <em>Run publicly accessible team meetings</em> by <strong><a href=\"https://github.com/choldgraf\">@choldgraf</a></strong></li>\n<li><a href=\"https://github.com/jupyter-book/team-compass/issues/26\">(#26)</a>: <em>Encourage \"experience reports\" from users</em> by <strong><a href=\"https://github.com/mfisher87\">@mfisher87</a></strong></li>\n<li><a href=\"https://github.com/jupyter-book/team-compass/issues/24\">(#24)</a>: <em>Move our DNS owner from squarespace to Jupyter's CloudFlare</em> by <strong><a href=\"https://github.com/choldgraf\">@choldgraf</a></strong></li>\n<li><a href=\"https://github.com/jupyter-book/team-compass/issues/12\">(#12)</a>: <em>Switch references to executablebooks to instead point to jupyterbook</em> by <strong><a href=\"https://github.com/choldgraf\">@choldgraf</a></strong></li>\n<li><a href=\"https://github.com/jupyter-book/team-compass/issues/25\">(#25)</a>: <em>Make our documentation deployment infrastructure available to all jupyter book team members</em> by <strong><a href=\"https://github.com/choldgraf\">@choldgraf</a></strong></li>\n</ul>"
      }
     },
     "9c0cad9717ab498e903a0bf933bb9b45": {
      "model_module": "@jupyter-widgets/base",
      "model_module_version": "2.0.0",
      "model_name": "LayoutModel",
      "state": {
       "_model_module": "@jupyter-widgets/base",
       "_model_module_version": "2.0.0",
       "_model_name": "LayoutModel",
       "_view_count": null,
       "_view_module": "@jupyter-widgets/base",
       "_view_module_version": "2.0.0",
       "_view_name": "LayoutView",
       "align_content": null,
       "align_items": null,
       "align_self": null,
       "border_bottom": null,
       "border_left": null,
       "border_right": null,
       "border_top": null,
       "bottom": null,
       "display": null,
       "flex": null,
       "flex_flow": null,
       "grid_area": null,
       "grid_auto_columns": null,
       "grid_auto_flow": null,
       "grid_auto_rows": null,
       "grid_column": null,
       "grid_gap": null,
       "grid_row": null,
       "grid_template_areas": null,
       "grid_template_columns": null,
       "grid_template_rows": null,
       "height": null,
       "justify_content": null,
       "justify_items": null,
       "left": null,
       "margin": null,
       "max_height": null,
       "max_width": null,
       "min_height": null,
       "min_width": null,
       "object_fit": null,
       "object_position": null,
       "order": null,
       "overflow": null,
       "padding": null,
       "right": null,
       "top": null,
       "visibility": null,
       "width": null
      }
     },
     "ac6361d9eadd4d7c89772fdd8f511f54": {
      "model_module": "@jupyter-widgets/base",
      "model_module_version": "2.0.0",
      "model_name": "LayoutModel",
      "state": {
       "_model_module": "@jupyter-widgets/base",
       "_model_module_version": "2.0.0",
       "_model_name": "LayoutModel",
       "_view_count": null,
       "_view_module": "@jupyter-widgets/base",
       "_view_module_version": "2.0.0",
       "_view_name": "LayoutView",
       "align_content": null,
       "align_items": null,
       "align_self": null,
       "border_bottom": null,
       "border_left": null,
       "border_right": null,
       "border_top": null,
       "bottom": null,
       "display": null,
       "flex": null,
       "flex_flow": null,
       "grid_area": null,
       "grid_auto_columns": null,
       "grid_auto_flow": null,
       "grid_auto_rows": null,
       "grid_column": null,
       "grid_gap": null,
       "grid_row": null,
       "grid_template_areas": null,
       "grid_template_columns": null,
       "grid_template_rows": null,
       "height": null,
       "justify_content": null,
       "justify_items": null,
       "left": null,
       "margin": null,
       "max_height": null,
       "max_width": null,
       "min_height": null,
       "min_width": null,
       "object_fit": null,
       "object_position": null,
       "order": null,
       "overflow": null,
       "padding": null,
       "right": null,
       "top": null,
       "visibility": null,
       "width": null
      }
     },
     "b2f63925635b47809c6d313333387952": {
      "model_module": "@jupyter-widgets/base",
      "model_module_version": "2.0.0",
      "model_name": "LayoutModel",
      "state": {
       "_model_module": "@jupyter-widgets/base",
       "_model_module_version": "2.0.0",
       "_model_name": "LayoutModel",
       "_view_count": null,
       "_view_module": "@jupyter-widgets/base",
       "_view_module_version": "2.0.0",
       "_view_name": "LayoutView",
       "align_content": null,
       "align_items": null,
       "align_self": null,
       "border_bottom": null,
       "border_left": null,
       "border_right": null,
       "border_top": null,
       "bottom": null,
       "display": null,
       "flex": null,
       "flex_flow": null,
       "grid_area": null,
       "grid_auto_columns": null,
       "grid_auto_flow": null,
       "grid_auto_rows": null,
       "grid_column": null,
       "grid_gap": null,
       "grid_row": null,
       "grid_template_areas": null,
       "grid_template_columns": null,
       "grid_template_rows": null,
       "height": null,
       "justify_content": null,
       "justify_items": null,
       "left": null,
       "margin": null,
       "max_height": null,
       "max_width": null,
       "min_height": null,
       "min_width": null,
       "object_fit": null,
       "object_position": null,
       "order": null,
       "overflow": null,
       "padding": null,
       "right": null,
       "top": null,
       "visibility": null,
       "width": null
      }
     },
     "bd30862b4946400e92b1446e20f10b0f": {
      "model_module": "@jupyter-widgets/controls",
      "model_module_version": "2.0.0",
      "model_name": "HTMLStyleModel",
      "state": {
       "_model_module": "@jupyter-widgets/controls",
       "_model_module_version": "2.0.0",
       "_model_name": "HTMLStyleModel",
       "_view_count": null,
       "_view_module": "@jupyter-widgets/base",
       "_view_module_version": "2.0.0",
       "_view_name": "StyleView",
       "background": null,
       "description_width": "",
       "font_size": null,
       "text_color": null
      }
     },
     "c3a16a8b9dc1406e87a6774308ea9a01": {
      "model_module": "@jupyter-widgets/controls",
      "model_module_version": "2.0.0",
      "model_name": "HTMLStyleModel",
      "state": {
       "_model_module": "@jupyter-widgets/controls",
       "_model_module_version": "2.0.0",
       "_model_name": "HTMLStyleModel",
       "_view_count": null,
       "_view_module": "@jupyter-widgets/base",
       "_view_module_version": "2.0.0",
       "_view_name": "StyleView",
       "background": null,
       "description_width": "",
       "font_size": null,
       "text_color": null
      }
     },
     "c3afa928a6e1414a9c6aa3de161344a9": {
      "model_module": "@jupyter-widgets/controls",
      "model_module_version": "2.0.0",
      "model_name": "TabModel",
      "state": {
       "_dom_classes": [],
       "_model_module": "@jupyter-widgets/controls",
       "_model_module_version": "2.0.0",
       "_model_name": "TabModel",
       "_view_count": null,
       "_view_module": "@jupyter-widgets/controls",
       "_view_module_version": "2.0.0",
       "_view_name": "TabView",
       "box_style": "",
       "children": [
        "IPY_MODEL_effec56054d3432ba603098039cd07ba",
        "IPY_MODEL_0ad22abe6606487698e36a1b75f424b4",
        "IPY_MODEL_7fd378fb0eca4470b9f34a163169f800",
        "IPY_MODEL_82a800b5142c48bc9ddcd1f75d27f0f1",
        "IPY_MODEL_5d36869ea81b426f89aa12b02c3e8fa4",
        "IPY_MODEL_d3924e2850bb453cb827f226635b3bcf",
        "IPY_MODEL_f58659828ef943849f1a9c700e178952"
       ],
       "layout": "IPY_MODEL_20a4faf8f2154eff892a726d8c5513e6",
       "selected_index": 0,
       "tabbable": null,
       "titles": [
        "jupyter-book",
        "myst-spec",
        "myst-theme",
        "mystmd",
        "mystmd.org",
        "team-compass",
        "thebe"
       ],
       "tooltip": null
      }
     },
     "cd2286d2229e469699d16c76cb6abb41": {
      "model_module": "@jupyter-widgets/controls",
      "model_module_version": "2.0.0",
      "model_name": "HTMLStyleModel",
      "state": {
       "_model_module": "@jupyter-widgets/controls",
       "_model_module_version": "2.0.0",
       "_model_name": "HTMLStyleModel",
       "_view_count": null,
       "_view_module": "@jupyter-widgets/base",
       "_view_module_version": "2.0.0",
       "_view_name": "StyleView",
       "background": null,
       "description_width": "",
       "font_size": null,
       "text_color": null
      }
     },
     "cd652b601993400b92b2a9621229e4b4": {
      "model_module": "@jupyter-widgets/controls",
      "model_module_version": "2.0.0",
      "model_name": "HTMLStyleModel",
      "state": {
       "_model_module": "@jupyter-widgets/controls",
       "_model_module_version": "2.0.0",
       "_model_name": "HTMLStyleModel",
       "_view_count": null,
       "_view_module": "@jupyter-widgets/base",
       "_view_module_version": "2.0.0",
       "_view_name": "StyleView",
       "background": null,
       "description_width": "",
       "font_size": null,
       "text_color": null
      }
     },
     "cfb381a5d5eb4e618af1fa318ac26fdb": {
      "model_module": "@jupyter-widgets/controls",
      "model_module_version": "2.0.0",
      "model_name": "HTMLStyleModel",
      "state": {
       "_model_module": "@jupyter-widgets/controls",
       "_model_module_version": "2.0.0",
       "_model_name": "HTMLStyleModel",
       "_view_count": null,
       "_view_module": "@jupyter-widgets/base",
       "_view_module_version": "2.0.0",
       "_view_name": "StyleView",
       "background": null,
       "description_width": "",
       "font_size": null,
       "text_color": null
      }
     },
     "d3924e2850bb453cb827f226635b3bcf": {
      "model_module": "@jupyter-widgets/controls",
      "model_module_version": "2.0.0",
      "model_name": "HTMLModel",
      "state": {
       "_dom_classes": [],
       "_model_module": "@jupyter-widgets/controls",
       "_model_module_version": "2.0.0",
       "_model_name": "HTMLModel",
       "_view_count": null,
       "_view_module": "@jupyter-widgets/controls",
       "_view_module_version": "2.0.0",
       "_view_name": "HTMLView",
       "description": "",
       "description_allow_html": false,
       "layout": "IPY_MODEL_f3f78c57ec2b46c8b958736f67cc38ac",
       "placeholder": "​",
       "style": "IPY_MODEL_bd30862b4946400e92b1446e20f10b0f",
       "tabbable": null,
       "tooltip": null,
       "value": "<h4>Closed PRs for repo: <a href=\"https://github.com/jupyter-book/team-compass\">jupyter-book/team-compass</a></h4>\n<h5></h5>\n<ul>\n<li><a href=\"https://github.com/jupyter-book/team-compass/issues/15\">(#15)</a>: <em>🧹 Drop images (now referenced from <code>meta</code>)</em> by <strong><a href=\"https://github.com/agoose77\">@agoose77</a></strong> merged by <strong><a href=\"https://github.com/choldgraf\">@choldgraf</a></strong></li>\n<li><a href=\"https://github.com/jupyter-book/team-compass/issues/18\">(#18)</a>: <em>Adding light decision making process</em> by <strong><a href=\"https://github.com/choldgraf\">@choldgraf</a></strong> merged by <strong><a href=\"https://github.com/choldgraf\">@choldgraf</a></strong></li>\n<li><a href=\"https://github.com/jupyter-book/team-compass/issues/22\">(#22)</a>: <em>📝Add small note about sentence-casing</em> by <strong><a href=\"https://github.com/agoose77\">@agoose77</a></strong> merged by <strong><a href=\"https://github.com/choldgraf\">@choldgraf</a></strong></li>\n<li><a href=\"https://github.com/jupyter-book/team-compass/issues/23\">(#23)</a>: <em>🗓️ Add meeting schedule</em> by <strong><a href=\"https://github.com/agoose77\">@agoose77</a></strong> merged by <strong><a href=\"https://github.com/agoose77\">@agoose77</a></strong></li>\n<li><a href=\"https://github.com/jupyter-book/team-compass/issues/29\">(#29)</a>: <em>Add more prominent contributor information</em> by <strong><a href=\"https://github.com/choldgraf\">@choldgraf</a></strong> merged by <strong><a href=\"https://github.com/choldgraf\">@choldgraf</a></strong></li>\n<li><a href=\"https://github.com/jupyter-book/team-compass/issues/30\">(#30)</a>: <em>Clarify where the compass live site is hosted</em> by <strong><a href=\"https://github.com/choldgraf\">@choldgraf</a></strong> merged by <strong><a href=\"https://github.com/choldgraf\">@choldgraf</a></strong></li>\n</ul>"
      }
     },
     "d4eb2969ed7b461e996666d63428ebdf": {
      "model_module": "@jupyter-widgets/base",
      "model_module_version": "2.0.0",
      "model_name": "LayoutModel",
      "state": {
       "_model_module": "@jupyter-widgets/base",
       "_model_module_version": "2.0.0",
       "_model_name": "LayoutModel",
       "_view_count": null,
       "_view_module": "@jupyter-widgets/base",
       "_view_module_version": "2.0.0",
       "_view_name": "LayoutView",
       "align_content": null,
       "align_items": null,
       "align_self": null,
       "border_bottom": null,
       "border_left": null,
       "border_right": null,
       "border_top": null,
       "bottom": null,
       "display": null,
       "flex": null,
       "flex_flow": null,
       "grid_area": null,
       "grid_auto_columns": null,
       "grid_auto_flow": null,
       "grid_auto_rows": null,
       "grid_column": null,
       "grid_gap": null,
       "grid_row": null,
       "grid_template_areas": null,
       "grid_template_columns": null,
       "grid_template_rows": null,
       "height": null,
       "justify_content": null,
       "justify_items": null,
       "left": null,
       "margin": null,
       "max_height": null,
       "max_width": null,
       "min_height": null,
       "min_width": null,
       "object_fit": null,
       "object_position": null,
       "order": null,
       "overflow": null,
       "padding": null,
       "right": null,
       "top": null,
       "visibility": null,
       "width": null
      }
     },
     "d5a457e683884c11a4b54e83571adf70": {
      "model_module": "@jupyter-widgets/controls",
      "model_module_version": "2.0.0",
      "model_name": "HTMLModel",
      "state": {
       "_dom_classes": [],
       "_model_module": "@jupyter-widgets/controls",
       "_model_module_version": "2.0.0",
       "_model_name": "HTMLModel",
       "_view_count": null,
       "_view_module": "@jupyter-widgets/controls",
       "_view_module_version": "2.0.0",
       "_view_name": "HTMLView",
       "description": "",
       "description_allow_html": false,
       "layout": "IPY_MODEL_1b33491ae96943769c236fdb1f83fff8",
       "placeholder": "​",
       "style": "IPY_MODEL_4c6d572654f84e4c9ba205f4346c0707",
       "tabbable": null,
       "tooltip": null,
       "value": "<h5><a href=\"https://github.com/jupyter-book/thebe\">jupyter-book/thebe</a></h5>\n<ul>\n<li><a href=\"https://github.com/jupyter-book/thebe/issues/791\">(#791)</a>: <em>Update to JupyterLite 0.6.0</em> by <strong><a href=\"https://github.com/jtpio\">@jtpio</a></strong></li>\n</ul>"
      }
     },
     "db6cc4442b7f46a8bbdb308e35eed99d": {
      "model_module": "@jupyter-widgets/base",
      "model_module_version": "2.0.0",
      "model_name": "LayoutModel",
      "state": {
       "_model_module": "@jupyter-widgets/base",
       "_model_module_version": "2.0.0",
       "_model_name": "LayoutModel",
       "_view_count": null,
       "_view_module": "@jupyter-widgets/base",
       "_view_module_version": "2.0.0",
       "_view_name": "LayoutView",
       "align_content": null,
       "align_items": null,
       "align_self": null,
       "border_bottom": null,
       "border_left": null,
       "border_right": null,
       "border_top": null,
       "bottom": null,
       "display": null,
       "flex": null,
       "flex_flow": null,
       "grid_area": null,
       "grid_auto_columns": null,
       "grid_auto_flow": null,
       "grid_auto_rows": null,
       "grid_column": null,
       "grid_gap": null,
       "grid_row": null,
       "grid_template_areas": null,
       "grid_template_columns": null,
       "grid_template_rows": null,
       "height": null,
       "justify_content": null,
       "justify_items": null,
       "left": null,
       "margin": null,
       "max_height": null,
       "max_width": null,
       "min_height": null,
       "min_width": null,
       "object_fit": null,
       "object_position": null,
       "order": null,
       "overflow": null,
       "padding": null,
       "right": null,
       "top": null,
       "visibility": null,
       "width": null
      }
     },
     "defe9a99029640328840c91e51817883": {
      "model_module": "@jupyter-widgets/controls",
      "model_module_version": "2.0.0",
      "model_name": "HTMLStyleModel",
      "state": {
       "_model_module": "@jupyter-widgets/controls",
       "_model_module_version": "2.0.0",
       "_model_name": "HTMLStyleModel",
       "_view_count": null,
       "_view_module": "@jupyter-widgets/base",
       "_view_module_version": "2.0.0",
       "_view_name": "StyleView",
       "background": null,
       "description_width": "",
       "font_size": null,
       "text_color": null
      }
     },
     "e60bf79c2dd649e9af1585c837029de8": {
      "model_module": "@jupyter-widgets/controls",
      "model_module_version": "2.0.0",
      "model_name": "HTMLModel",
      "state": {
       "_dom_classes": [],
       "_model_module": "@jupyter-widgets/controls",
       "_model_module_version": "2.0.0",
       "_model_name": "HTMLModel",
       "_view_count": null,
       "_view_module": "@jupyter-widgets/controls",
       "_view_module_version": "2.0.0",
       "_view_name": "HTMLView",
       "description": "",
       "description_allow_html": false,
       "layout": "IPY_MODEL_eee592d77a4e449383a7f239e855b171",
       "placeholder": "​",
       "style": "IPY_MODEL_12fab1df465d4441895960f97b0b7497",
       "tabbable": null,
       "tooltip": null,
       "value": "<h5><a href=\"https://github.com/jupyter-book/jupyter-book\">jupyter-book/jupyter-book</a></h5>\n<ul>\n<li><a href=\"https://github.com/jupyter-book/jupyter-book/issues/2340\">(#2340)</a>: <em>Milestone: Jupyter Book announcement at SciPy 2025</em> by <strong><a href=\"https://github.com/choldgraf\">@choldgraf</a></strong></li>\n<li><a href=\"https://github.com/jupyter-book/jupyter-book/issues/2311\">(#2311)</a>: <em>[Bug]: Couldn't push it to github pages using github workflow</em> by <strong><a href=\"https://github.com/prateekshukla1108\">@prateekshukla1108</a></strong></li>\n<li><a href=\"https://github.com/jupyter-book/jupyter-book/issues/2051\">(#2051)</a>: <em>is there a way to have a collapsible/dropdown admonition start opened ?</em> by <strong><a href=\"https://github.com/parmentelat\">@parmentelat</a></strong></li>\n<li><a href=\"https://github.com/jupyter-book/jupyter-book/issues/2347\">(#2347)</a>: <em>Nbody startpoints on a circle,  Verlet</em> by <strong><a href=\"https://github.com/denis-bz\">@denis-bz</a></strong></li>\n<li><a href=\"https://github.com/jupyter-book/jupyter-book/issues/793\">(#793)</a>: <em>Inserting subfigures with Myst-Markdown that render in book</em> by <strong><a href=\"https://github.com/broncio123\">@broncio123</a></strong></li>\n</ul>"
      }
     },
     "e9fefcaab4134ef589736e452beb3c0c": {
      "model_module": "@jupyter-widgets/base",
      "model_module_version": "2.0.0",
      "model_name": "LayoutModel",
      "state": {
       "_model_module": "@jupyter-widgets/base",
       "_model_module_version": "2.0.0",
       "_model_name": "LayoutModel",
       "_view_count": null,
       "_view_module": "@jupyter-widgets/base",
       "_view_module_version": "2.0.0",
       "_view_name": "LayoutView",
       "align_content": null,
       "align_items": null,
       "align_self": null,
       "border_bottom": null,
       "border_left": null,
       "border_right": null,
       "border_top": null,
       "bottom": null,
       "display": null,
       "flex": null,
       "flex_flow": null,
       "grid_area": null,
       "grid_auto_columns": null,
       "grid_auto_flow": null,
       "grid_auto_rows": null,
       "grid_column": null,
       "grid_gap": null,
       "grid_row": null,
       "grid_template_areas": null,
       "grid_template_columns": null,
       "grid_template_rows": null,
       "height": null,
       "justify_content": null,
       "justify_items": null,
       "left": null,
       "margin": null,
       "max_height": null,
       "max_width": null,
       "min_height": null,
       "min_width": null,
       "object_fit": null,
       "object_position": null,
       "order": null,
       "overflow": null,
       "padding": null,
       "right": null,
       "top": null,
       "visibility": null,
       "width": null
      }
     },
     "ec137b8907554cb99a63558ef947f149": {
      "model_module": "@jupyter-widgets/base",
      "model_module_version": "2.0.0",
      "model_name": "LayoutModel",
      "state": {
       "_model_module": "@jupyter-widgets/base",
       "_model_module_version": "2.0.0",
       "_model_name": "LayoutModel",
       "_view_count": null,
       "_view_module": "@jupyter-widgets/base",
       "_view_module_version": "2.0.0",
       "_view_name": "LayoutView",
       "align_content": null,
       "align_items": null,
       "align_self": null,
       "border_bottom": null,
       "border_left": null,
       "border_right": null,
       "border_top": null,
       "bottom": null,
       "display": null,
       "flex": null,
       "flex_flow": null,
       "grid_area": null,
       "grid_auto_columns": null,
       "grid_auto_flow": null,
       "grid_auto_rows": null,
       "grid_column": null,
       "grid_gap": null,
       "grid_row": null,
       "grid_template_areas": null,
       "grid_template_columns": null,
       "grid_template_rows": null,
       "height": null,
       "justify_content": null,
       "justify_items": null,
       "left": null,
       "margin": null,
       "max_height": null,
       "max_width": null,
       "min_height": null,
       "min_width": null,
       "object_fit": null,
       "object_position": null,
       "order": null,
       "overflow": null,
       "padding": null,
       "right": null,
       "top": null,
       "visibility": null,
       "width": null
      }
     },
     "eee592d77a4e449383a7f239e855b171": {
      "model_module": "@jupyter-widgets/base",
      "model_module_version": "2.0.0",
      "model_name": "LayoutModel",
      "state": {
       "_model_module": "@jupyter-widgets/base",
       "_model_module_version": "2.0.0",
       "_model_name": "LayoutModel",
       "_view_count": null,
       "_view_module": "@jupyter-widgets/base",
       "_view_module_version": "2.0.0",
       "_view_name": "LayoutView",
       "align_content": null,
       "align_items": null,
       "align_self": null,
       "border_bottom": null,
       "border_left": null,
       "border_right": null,
       "border_top": null,
       "bottom": null,
       "display": null,
       "flex": null,
       "flex_flow": null,
       "grid_area": null,
       "grid_auto_columns": null,
       "grid_auto_flow": null,
       "grid_auto_rows": null,
       "grid_column": null,
       "grid_gap": null,
       "grid_row": null,
       "grid_template_areas": null,
       "grid_template_columns": null,
       "grid_template_rows": null,
       "height": null,
       "justify_content": null,
       "justify_items": null,
       "left": null,
       "margin": null,
       "max_height": null,
       "max_width": null,
       "min_height": null,
       "min_width": null,
       "object_fit": null,
       "object_position": null,
       "order": null,
       "overflow": null,
       "padding": null,
       "right": null,
       "top": null,
       "visibility": null,
       "width": null
      }
     },
     "effec56054d3432ba603098039cd07ba": {
      "model_module": "@jupyter-widgets/controls",
      "model_module_version": "2.0.0",
      "model_name": "HTMLModel",
      "state": {
       "_dom_classes": [],
       "_model_module": "@jupyter-widgets/controls",
       "_model_module_version": "2.0.0",
       "_model_name": "HTMLModel",
       "_view_count": null,
       "_view_module": "@jupyter-widgets/controls",
       "_view_module_version": "2.0.0",
       "_view_name": "HTMLView",
       "description": "",
       "description_allow_html": false,
       "layout": "IPY_MODEL_b2f63925635b47809c6d313333387952",
       "placeholder": "​",
       "style": "IPY_MODEL_defe9a99029640328840c91e51817883",
       "tabbable": null,
       "tooltip": null,
       "value": "<h4>Closed PRs for repo: <a href=\"https://github.com/jupyter-book/jupyter-book\">jupyter-book/jupyter-book</a></h4>\n<h5></h5>\n<ul>\n<li><a href=\"https://github.com/jupyter-book/jupyter-book/issues/2319\">(#2319)</a>: <em>DOC: Update GH Pages Publishing Guidance</em> by <strong><a href=\"https://github.com/RHammond2\">@RHammond2</a></strong> merged by <strong><a href=\"https://github.com/agoose77\">@agoose77</a></strong></li>\n<li><a href=\"https://github.com/jupyter-book/jupyter-book/issues/2324\">(#2324)</a>: <em>⬆️ Bump <code>myst-cli</code> version</em> by <strong><a href=\"https://github.com/agoose77\">@agoose77</a></strong> merged by <strong><a href=\"https://github.com/agoose77\">@agoose77</a></strong></li>\n<li><a href=\"https://github.com/jupyter-book/jupyter-book/issues/2325\">(#2325)</a>: <em>🕰️ Fix deploy action versions</em> by <strong><a href=\"https://github.com/agoose77\">@agoose77</a></strong> merged by <strong><a href=\"https://github.com/agoose77\">@agoose77</a></strong></li>\n<li><a href=\"https://github.com/jupyter-book/jupyter-book/issues/2326\">(#2326)</a>: <em>📝 Drop reference to execution workaround, as it does not work</em> by <strong><a href=\"https://github.com/agoose77\">@agoose77</a></strong> merged by <strong><a href=\"https://github.com/agoose77\">@agoose77</a></strong></li>\n<li><a href=\"https://github.com/jupyter-book/jupyter-book/issues/2327\">(#2327)</a>: <em>MAINT: prepare for new release</em> by <strong><a href=\"https://github.com/agoose77\">@agoose77</a></strong> merged by <strong><a href=\"https://github.com/agoose77\">@agoose77</a></strong></li>\n<li><a href=\"https://github.com/jupyter-book/jupyter-book/issues/2329\">(#2329)</a>: <em>FIX: use 'main' for branch name</em> by <strong><a href=\"https://github.com/agoose77\">@agoose77</a></strong> merged by <strong><a href=\"https://github.com/agoose77\">@agoose77</a></strong></li>\n<li><a href=\"https://github.com/jupyter-book/jupyter-book/issues/2330\">(#2330)</a>: <em>DOCS: fix RTD configuration</em> by <strong><a href=\"https://github.com/agoose77\">@agoose77</a></strong> merged by <strong><a href=\"https://github.com/agoose77\">@agoose77</a></strong></li>\n<li><a href=\"https://github.com/jupyter-book/jupyter-book/issues/2331\">(#2331)</a>: <em>Updated github action</em> by <strong><a href=\"https://github.com/StefanRR\">@StefanRR</a></strong> merged by <strong><a href=\"https://github.com/agoose77\">@agoose77</a></strong></li>\n<li><a href=\"https://github.com/jupyter-book/jupyter-book/issues/2332\">(#2332)</a>: <em>DOCS: update gh-pages guidance</em> by <strong><a href=\"https://github.com/agoose77\">@agoose77</a></strong> merged by <strong><a href=\"https://github.com/agoose77\">@agoose77</a></strong></li>\n<li><a href=\"https://github.com/jupyter-book/jupyter-book/issues/2335\">(#2335)</a>: <em>🔼 Bump myst-cli version</em> by <strong><a href=\"https://github.com/JimMadge\">@JimMadge</a></strong> merged by <strong><a href=\"https://github.com/agoose77\">@agoose77</a></strong></li>\n<li><a href=\"https://github.com/jupyter-book/jupyter-book/issues/2336\">(#2336)</a>: <em>✏️ Add note about pre-release availability</em> by <strong><a href=\"https://github.com/agoose77\">@agoose77</a></strong> merged by <strong><a href=\"https://github.com/agoose77\">@agoose77</a></strong></li>\n<li><a href=\"https://github.com/jupyter-book/jupyter-book/issues/2342\">(#2342)</a>: <em>🔼 Bump <code>myst-cli</code> version for release</em> by <strong><a href=\"https://github.com/agoose77\">@agoose77</a></strong> merged by <strong><a href=\"https://github.com/agoose77\">@agoose77</a></strong></li>\n<li><a href=\"https://github.com/jupyter-book/jupyter-book/issues/2348\">(#2348)</a>: <em>DOC: minor fixes</em> by <strong><a href=\"https://github.com/bsipocz\">@bsipocz</a></strong> merged by <strong><a href=\"https://github.com/choldgraf\">@choldgraf</a></strong></li>\n</ul>"
      }
     },
     "f0a30ee3b1b24101991d5e63a6227e57": {
      "model_module": "@jupyter-widgets/controls",
      "model_module_version": "2.0.0",
      "model_name": "HTMLModel",
      "state": {
       "_dom_classes": [],
       "_model_module": "@jupyter-widgets/controls",
       "_model_module_version": "2.0.0",
       "_model_name": "HTMLModel",
       "_view_count": null,
       "_view_module": "@jupyter-widgets/controls",
       "_view_module_version": "2.0.0",
       "_view_name": "HTMLView",
       "description": "",
       "description_allow_html": false,
       "layout": "IPY_MODEL_f100abd829ef45a8aea21cb5b13c9dbb",
       "placeholder": "​",
       "style": "IPY_MODEL_cd2286d2229e469699d16c76cb6abb41",
       "tabbable": null,
       "tooltip": null,
       "value": "<h5><a href=\"https://github.com/jupyter-book/myst-theme\">jupyter-book/myst-theme</a></h5>\n<ul>\n<li><a href=\"https://github.com/jupyter-book/myst-theme/issues/527\">(#527)</a>: <em>Support Bokeh Plots</em> by <strong><a href=\"https://github.com/acocac\">@acocac</a></strong></li>\n<li><a href=\"https://github.com/jupyter-book/myst-theme/issues/437\">(#437)</a>: _Allow authors to link custom JavaScript scripts to their pages by adding HTML manually or via configuration _ by <strong><a href=\"https://github.com/choldgraf\">@choldgraf</a></strong></li>\n<li><a href=\"https://github.com/jupyter-book/myst-theme/issues/567\">(#567)</a>: <em>Move colour choices to theme variables</em> by <strong><a href=\"https://github.com/agoose77\">@agoose77</a></strong></li>\n<li><a href=\"https://github.com/jupyter-book/myst-theme/issues/342\">(#342)</a>: <em>HTML served with <code>&lt;img src=http://localhost:3100&gt; even with</code>HOST=10.0.0.1 myst start --keep-host`</em> by <strong><a href=\"https://github.com/drewlio\">@drewlio</a></strong></li>\n<li><a href=\"https://github.com/jupyter-book/myst-theme/issues/513\">(#513)</a>: <em>Support return navigation for footnotes on mobile</em> by <strong><a href=\"https://github.com/agoose77\">@agoose77</a></strong></li>\n</ul>"
      }
     },
     "f100abd829ef45a8aea21cb5b13c9dbb": {
      "model_module": "@jupyter-widgets/base",
      "model_module_version": "2.0.0",
      "model_name": "LayoutModel",
      "state": {
       "_model_module": "@jupyter-widgets/base",
       "_model_module_version": "2.0.0",
       "_model_name": "LayoutModel",
       "_view_count": null,
       "_view_module": "@jupyter-widgets/base",
       "_view_module_version": "2.0.0",
       "_view_name": "LayoutView",
       "align_content": null,
       "align_items": null,
       "align_self": null,
       "border_bottom": null,
       "border_left": null,
       "border_right": null,
       "border_top": null,
       "bottom": null,
       "display": null,
       "flex": null,
       "flex_flow": null,
       "grid_area": null,
       "grid_auto_columns": null,
       "grid_auto_flow": null,
       "grid_auto_rows": null,
       "grid_column": null,
       "grid_gap": null,
       "grid_row": null,
       "grid_template_areas": null,
       "grid_template_columns": null,
       "grid_template_rows": null,
       "height": null,
       "justify_content": null,
       "justify_items": null,
       "left": null,
       "margin": null,
       "max_height": null,
       "max_width": null,
       "min_height": null,
       "min_width": null,
       "object_fit": null,
       "object_position": null,
       "order": null,
       "overflow": null,
       "padding": null,
       "right": null,
       "top": null,
       "visibility": null,
       "width": null
      }
     },
     "f3f78c57ec2b46c8b958736f67cc38ac": {
      "model_module": "@jupyter-widgets/base",
      "model_module_version": "2.0.0",
      "model_name": "LayoutModel",
      "state": {
       "_model_module": "@jupyter-widgets/base",
       "_model_module_version": "2.0.0",
       "_model_name": "LayoutModel",
       "_view_count": null,
       "_view_module": "@jupyter-widgets/base",
       "_view_module_version": "2.0.0",
       "_view_name": "LayoutView",
       "align_content": null,
       "align_items": null,
       "align_self": null,
       "border_bottom": null,
       "border_left": null,
       "border_right": null,
       "border_top": null,
       "bottom": null,
       "display": null,
       "flex": null,
       "flex_flow": null,
       "grid_area": null,
       "grid_auto_columns": null,
       "grid_auto_flow": null,
       "grid_auto_rows": null,
       "grid_column": null,
       "grid_gap": null,
       "grid_row": null,
       "grid_template_areas": null,
       "grid_template_columns": null,
       "grid_template_rows": null,
       "height": null,
       "justify_content": null,
       "justify_items": null,
       "left": null,
       "margin": null,
       "max_height": null,
       "max_width": null,
       "min_height": null,
       "min_width": null,
       "object_fit": null,
       "object_position": null,
       "order": null,
       "overflow": null,
       "padding": null,
       "right": null,
       "top": null,
       "visibility": null,
       "width": null
      }
     },
     "f58659828ef943849f1a9c700e178952": {
      "model_module": "@jupyter-widgets/controls",
      "model_module_version": "2.0.0",
      "model_name": "HTMLModel",
      "state": {
       "_dom_classes": [],
       "_model_module": "@jupyter-widgets/controls",
       "_model_module_version": "2.0.0",
       "_model_name": "HTMLModel",
       "_view_count": null,
       "_view_module": "@jupyter-widgets/controls",
       "_view_module_version": "2.0.0",
       "_view_name": "HTMLView",
       "description": "",
       "description_allow_html": false,
       "layout": "IPY_MODEL_487b4eb629d940cd9324a706c1984364",
       "placeholder": "​",
       "style": "IPY_MODEL_4bb57979d09a4f12b3c6cc33bcecee06",
       "tabbable": null,
       "tooltip": null,
       "value": "<h4>Closed PRs for repo: <a href=\"https://github.com/jupyter-book/thebe\">jupyter-book/thebe</a></h4>\n<h5></h5>\n<ul>\n<li><a href=\"https://github.com/jupyter-book/thebe/issues/792\">(#792)</a>: <em>[doc] Update executablebooks to jupyter-book github org</em> by <strong><a href=\"https://github.com/choldgraf\">@choldgraf</a></strong> merged by <strong><a href=\"https://github.com/choldgraf\">@choldgraf</a></strong></li>\n</ul>"
      }
     },
     "f72f5b3e5cbd4df9890a9914f5d06d23": {
      "model_module": "@jupyter-widgets/controls",
      "model_module_version": "2.0.0",
      "model_name": "HTMLStyleModel",
      "state": {
       "_model_module": "@jupyter-widgets/controls",
       "_model_module_version": "2.0.0",
       "_model_name": "HTMLStyleModel",
       "_view_count": null,
       "_view_module": "@jupyter-widgets/base",
       "_view_module_version": "2.0.0",
       "_view_name": "StyleView",
       "background": null,
       "description_width": "",
       "font_size": null,
       "text_color": null
      }
     },
     "f810350a89c241a58a1604dafce4cb8b": {
      "model_module": "@jupyter-widgets/base",
      "model_module_version": "2.0.0",
      "model_name": "LayoutModel",
      "state": {
       "_model_module": "@jupyter-widgets/base",
       "_model_module_version": "2.0.0",
       "_model_name": "LayoutModel",
       "_view_count": null,
       "_view_module": "@jupyter-widgets/base",
       "_view_module_version": "2.0.0",
       "_view_name": "LayoutView",
       "align_content": null,
       "align_items": null,
       "align_self": null,
       "border_bottom": null,
       "border_left": null,
       "border_right": null,
       "border_top": null,
       "bottom": null,
       "display": null,
       "flex": null,
       "flex_flow": null,
       "grid_area": null,
       "grid_auto_columns": null,
       "grid_auto_flow": null,
       "grid_auto_rows": null,
       "grid_column": null,
       "grid_gap": null,
       "grid_row": null,
       "grid_template_areas": null,
       "grid_template_columns": null,
       "grid_template_rows": null,
       "height": null,
       "justify_content": null,
       "justify_items": null,
       "left": null,
       "margin": null,
       "max_height": null,
       "max_width": null,
       "min_height": null,
       "min_width": null,
       "object_fit": null,
       "object_position": null,
       "order": null,
       "overflow": null,
       "padding": null,
       "right": null,
       "top": null,
       "visibility": null,
       "width": null
      }
     },
     "fc566e358d304bc68fc2d7130b4c6fc4": {
      "model_module": "@jupyter-widgets/base",
      "model_module_version": "2.0.0",
      "model_name": "LayoutModel",
      "state": {
       "_model_module": "@jupyter-widgets/base",
       "_model_module_version": "2.0.0",
       "_model_name": "LayoutModel",
       "_view_count": null,
       "_view_module": "@jupyter-widgets/base",
       "_view_module_version": "2.0.0",
       "_view_name": "LayoutView",
       "align_content": null,
       "align_items": null,
       "align_self": null,
       "border_bottom": null,
       "border_left": null,
       "border_right": null,
       "border_top": null,
       "bottom": null,
       "display": null,
       "flex": null,
       "flex_flow": null,
       "grid_area": null,
       "grid_auto_columns": null,
       "grid_auto_flow": null,
       "grid_auto_rows": null,
       "grid_column": null,
       "grid_gap": null,
       "grid_row": null,
       "grid_template_areas": null,
       "grid_template_columns": null,
       "grid_template_rows": null,
       "height": null,
       "justify_content": null,
       "justify_items": null,
       "left": null,
       "margin": null,
       "max_height": null,
       "max_width": null,
       "min_height": null,
       "min_width": null,
       "object_fit": null,
       "object_position": null,
       "order": null,
       "overflow": null,
       "padding": null,
       "right": null,
       "top": null,
       "visibility": null,
       "width": null
      }
     },
     "fe197fa29ce34cfabcfe388dfd288b02": {
      "model_module": "@jupyter-widgets/controls",
      "model_module_version": "2.0.0",
      "model_name": "HTMLStyleModel",
      "state": {
       "_model_module": "@jupyter-widgets/controls",
       "_model_module_version": "2.0.0",
       "_model_name": "HTMLStyleModel",
       "_view_count": null,
       "_view_module": "@jupyter-widgets/base",
       "_view_module_version": "2.0.0",
       "_view_name": "StyleView",
       "background": null,
       "description_width": "",
       "font_size": null,
       "text_color": null
      }
     }
    },
    "version_major": 2,
    "version_minor": 0
   }
  }
 },
 "nbformat": 4,
 "nbformat_minor": 5
}