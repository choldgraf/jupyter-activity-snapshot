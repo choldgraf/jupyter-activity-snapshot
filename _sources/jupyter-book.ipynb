{
 "cells": [
  {
   "cell_type": "markdown",
   "id": "1084a2e7",
   "metadata": {
    "papermill": {
     "duration": 0.015116,
     "end_time": "2025-05-17T01:30:35.687172",
     "exception": false,
     "start_time": "2025-05-17T01:30:35.672056",
     "status": "completed"
    },
    "tags": []
   },
   "source": [
    "# {glue:text}`jupyter-book_github_org`\n",
    "\n",
    "**Activity from {glue:}`jupyter-book_start` to {glue:}`jupyter-book_stop`**"
   ]
  },
  {
   "cell_type": "code",
   "execution_count": 1,
   "id": "f92da74e",
   "metadata": {
    "editable": true,
    "execution": {
     "iopub.execute_input": "2025-05-17T01:30:35.718149Z",
     "iopub.status.busy": "2025-05-17T01:30:35.717669Z",
     "iopub.status.idle": "2025-05-17T01:30:38.399417Z",
     "shell.execute_reply": "2025-05-17T01:30:38.398633Z"
    },
    "papermill": {
     "duration": 2.698855,
     "end_time": "2025-05-17T01:30:38.400906",
     "exception": false,
     "start_time": "2025-05-17T01:30:35.702051",
     "status": "completed"
    },
    "slideshow": {
     "slide_type": ""
    },
    "tags": [
     "remove_cell"
    ]
   },
   "outputs": [],
   "source": [
    "from datetime import date\n",
    "from dateutil.relativedelta import relativedelta\n",
    "from myst_nb import glue\n",
    "import seaborn as sns\n",
    "import pandas as pd\n",
    "import numpy as np\n",
    "import altair as alt\n",
    "from markdown import markdown\n",
    "from IPython.display import Markdown\n",
    "from ipywidgets.widgets import HTML, Tab\n",
    "from ipywidgets import widgets\n",
    "from datetime import timedelta\n",
    "from matplotlib import pyplot as plt\n",
    "import os.path as op\n",
    "from json import loads\n",
    "\n",
    "from warnings import simplefilter\n",
    "simplefilter('ignore')\n",
    "pd.set_option('display.max_columns', None) # 'None' means show all"
   ]
  },
  {
   "cell_type": "code",
   "execution_count": 2,
   "id": "7f9e67ff",
   "metadata": {
    "editable": true,
    "execution": {
     "iopub.execute_input": "2025-05-17T01:30:38.431512Z",
     "iopub.status.busy": "2025-05-17T01:30:38.431034Z",
     "iopub.status.idle": "2025-05-17T01:30:38.437368Z",
     "shell.execute_reply": "2025-05-17T01:30:38.436824Z"
    },
    "papermill": {
     "duration": 0.022827,
     "end_time": "2025-05-17T01:30:38.438371",
     "exception": false,
     "start_time": "2025-05-17T01:30:38.415544",
     "status": "completed"
    },
    "slideshow": {
     "slide_type": ""
    },
    "tags": [
     "remove_cell"
    ]
   },
   "outputs": [],
   "source": [
    "# Altair config\n",
    "def author_url(author):\n",
    "    return f\"https://github.com/{author}\"\n",
    "\n",
    "def alt_theme():\n",
    "    return {\n",
    "        'config': {\n",
    "            'axisLeft': {\n",
    "                'labelFontSize': 15,\n",
    "            },\n",
    "            'axisBottom': {\n",
    "                'labelFontSize': 15,\n",
    "            },\n",
    "        }\n",
    "    }\n",
    "\n",
    "alt.themes.register('my_theme', alt_theme)\n",
    "alt.themes.enable(\"my_theme\")\n",
    "\n",
    "\n",
    "# Define colors we'll use for GitHub membership\n",
    "author_types = ['MEMBER', 'CONTRIBUTOR', 'COLLABORATOR', \"NONE\"]\n",
    "\n",
    "author_palette = np.array(sns.palettes.blend_palette([\"lightgrey\", \"lightgreen\", \"darkgreen\"], 4)) * 256\n",
    "author_colors = [\"rgb({}, {}, {})\".format(*color) for color in author_palette]\n",
    "author_color_dict = {key: val for key, val in zip(author_types, author_palette)}"
   ]
  },
  {
   "cell_type": "code",
   "execution_count": 3,
   "id": "e8f802ba",
   "metadata": {
    "editable": true,
    "execution": {
     "iopub.execute_input": "2025-05-17T01:30:38.466860Z",
     "iopub.status.busy": "2025-05-17T01:30:38.466659Z",
     "iopub.status.idle": "2025-05-17T01:30:38.469425Z",
     "shell.execute_reply": "2025-05-17T01:30:38.468912Z"
    },
    "papermill": {
     "duration": 0.018202,
     "end_time": "2025-05-17T01:30:38.470437",
     "exception": false,
     "start_time": "2025-05-17T01:30:38.452235",
     "status": "completed"
    },
    "slideshow": {
     "slide_type": ""
    },
    "tags": [
     "parameters",
     "hide_input",
     "remove_cell"
    ]
   },
   "outputs": [],
   "source": [
    "github_org = \"jupyterhub\"\n",
    "top_n_repos = 15\n",
    "n_days = 90"
   ]
  },
  {
   "cell_type": "code",
   "execution_count": 4,
   "id": "9a2bffe1",
   "metadata": {
    "execution": {
     "iopub.execute_input": "2025-05-17T01:30:38.498855Z",
     "iopub.status.busy": "2025-05-17T01:30:38.498657Z",
     "iopub.status.idle": "2025-05-17T01:30:38.501520Z",
     "shell.execute_reply": "2025-05-17T01:30:38.500999Z"
    },
    "papermill": {
     "duration": 0.018215,
     "end_time": "2025-05-17T01:30:38.502443",
     "exception": false,
     "start_time": "2025-05-17T01:30:38.484228",
     "status": "completed"
    },
    "tags": [
     "injected-parameters",
     "remove-cell"
    ]
   },
   "outputs": [],
   "source": [
    "# Parameters\n",
    "github_org = \"jupyter-book\"\n",
    "n_days = 90\n"
   ]
  },
  {
   "cell_type": "code",
   "execution_count": 5,
   "id": "4041cee6",
   "metadata": {
    "editable": true,
    "execution": {
     "iopub.execute_input": "2025-05-17T01:30:38.532366Z",
     "iopub.status.busy": "2025-05-17T01:30:38.532170Z",
     "iopub.status.idle": "2025-05-17T01:30:38.601825Z",
     "shell.execute_reply": "2025-05-17T01:30:38.601271Z"
    },
    "papermill": {
     "duration": 0.086148,
     "end_time": "2025-05-17T01:30:38.602922",
     "exception": false,
     "start_time": "2025-05-17T01:30:38.516774",
     "status": "completed"
    },
    "slideshow": {
     "slide_type": ""
    },
    "tags": [
     "remove_cell"
    ]
   },
   "outputs": [
    {
     "data": {
      "application/papermill.record/text/plain": "'jupyter-book'"
     },
     "metadata": {
      "scrapbook": {
       "mime_prefix": "application/papermill.record/",
       "name": "jupyter-book_github_org"
      }
     },
     "output_type": "display_data"
    },
    {
     "data": {
      "application/papermill.record/text/plain": "'2025-02-16'"
     },
     "metadata": {
      "scrapbook": {
       "mime_prefix": "application/papermill.record/",
       "name": "jupyter-book_start"
      }
     },
     "output_type": "display_data"
    },
    {
     "data": {
      "application/papermill.record/text/plain": "'2025-05-17'"
     },
     "metadata": {
      "scrapbook": {
       "mime_prefix": "application/papermill.record/",
       "name": "jupyter-book_stop"
      }
     },
     "output_type": "display_data"
    }
   ],
   "source": [
    "############################################################\n",
    "# Variables\n",
    "stop = date.today()\n",
    "start = date.today() - relativedelta(days=n_days)\n",
    "\n",
    "# Strings for use in queries\n",
    "start_date = f\"{start:%Y-%m-%d}\"\n",
    "stop_date = f\"{stop:%Y-%m-%d}\"\n",
    "\n",
    "# Glue variables for use in markdown\n",
    "glue(f\"{github_org}_github_org\", github_org, display=False)\n",
    "glue(f\"{github_org}_start\", start_date, display=False)\n",
    "glue(f\"{github_org}_stop\", stop_date, display=False)"
   ]
  },
  {
   "cell_type": "markdown",
   "id": "285ae5b5",
   "metadata": {
    "editable": true,
    "papermill": {
     "duration": 0.014266,
     "end_time": "2025-05-17T01:30:38.632155",
     "exception": false,
     "start_time": "2025-05-17T01:30:38.617889",
     "status": "completed"
    },
    "slideshow": {
     "slide_type": ""
    },
    "tags": []
   },
   "source": [
    "## Load data\n",
    "\n",
    "Load and clean up the data"
   ]
  },
  {
   "cell_type": "code",
   "execution_count": 6,
   "id": "12529f07",
   "metadata": {
    "editable": true,
    "execution": {
     "iopub.execute_input": "2025-05-17T01:30:38.663106Z",
     "iopub.status.busy": "2025-05-17T01:30:38.662527Z",
     "iopub.status.idle": "2025-05-17T01:30:38.667086Z",
     "shell.execute_reply": "2025-05-17T01:30:38.666498Z"
    },
    "papermill": {
     "duration": 0.021227,
     "end_time": "2025-05-17T01:30:38.668161",
     "exception": false,
     "start_time": "2025-05-17T01:30:38.646934",
     "status": "completed"
    },
    "slideshow": {
     "slide_type": ""
    },
    "tags": [
     "remove_cell"
    ]
   },
   "outputs": [],
   "source": [
    "from pathlib import Path\n",
    "import sqlite3\n",
    "path_data = Path(\"../data\")\n",
    "path_data = list(path_data.rglob(f\"*{github_org}.db\"))[0]\n",
    "\n",
    "def df_from_sql(query, db):\n",
    "    con = sqlite3.connect(db)\n",
    "    return pd.read_sql(query, con)\n",
    "    con.close()"
   ]
  },
  {
   "cell_type": "code",
   "execution_count": 7,
   "id": "7d1a1bb2",
   "metadata": {
    "editable": true,
    "execution": {
     "iopub.execute_input": "2025-05-17T01:30:38.697734Z",
     "iopub.status.busy": "2025-05-17T01:30:38.697348Z",
     "iopub.status.idle": "2025-05-17T01:30:38.896871Z",
     "shell.execute_reply": "2025-05-17T01:30:38.896151Z"
    },
    "papermill": {
     "duration": 0.215481,
     "end_time": "2025-05-17T01:30:38.897955",
     "exception": false,
     "start_time": "2025-05-17T01:30:38.682474",
     "status": "completed"
    },
    "scrolled": true,
    "slideshow": {
     "slide_type": ""
    },
    "tags": [
     "remove_cell"
    ]
   },
   "outputs": [
    {
     "name": "stdout",
     "output_type": "stream",
     "text": [
      "Loading from ../data/612f67cbff44837826a10e815fa2f115-jupyter-book.db\n"
     ]
    }
   ],
   "source": [
    "print(f\"Loading from {path_data}\")\n",
    "repos = df_from_sql(\"SELECT * FROM repos\", path_data)\n",
    "users = df_from_sql(\"SELECT * FROM users\", path_data)\n",
    "issues = df_from_sql(\"SELECT * FROM issues\", path_data)\n",
    "comments = df_from_sql(\"SELECT * FROM issue_comments\", path_data)\n",
    "\n",
    "# Merge repository information into issues\n",
    "def merge_repo_into_df(df, kind):\n",
    "    df = pd.merge(df, users[[\"id\", \"login\"]], left_on=\"user\", right_on=\"id\", suffixes=(\"_issue\", \"_user\"), how=\"inner\")\n",
    "    df = pd.merge(df, repos[[\"id\", \"full_name\", \"name\"]], left_on=\"repo\", right_on=\"id\", suffixes=(\"_issue\", \"_repo\"), how=\"inner\")\n",
    "    df[\"org\"] = df[\"full_name\"].map(lambda a: a.split('/')[0])\n",
    "    df[\"repo\"] = df[\"full_name\"].map(lambda a: a.split('/')[1])\n",
    "    df[\"url\"] = \"https://github.com/\" + df[\"org\"] + \"/\" + df[\"repo\"] + f\"/{kind}/\" + df[\"number\"].astype(str)\n",
    "    return df\n",
    "issues = merge_repo_into_df(issues, kind=\"issues\")\n",
    "\n",
    "# Pull out the Pull Requests from Issues\n",
    "prs = issues.loc[~issues[\"pull_request\"].isna()]\n",
    "def identify_merger(closedby):\n",
    "    if not closedby:\n",
    "        return None\n",
    "    try:\n",
    "        cb = loads(closedby)\n",
    "    except:\n",
    "        print(closedby)\n",
    "    return cb[\"login\"]\n",
    "prs[\"merged_by\"] = prs[\"closed_by\"].map(identify_merger)\n",
    "\n",
    "# These issues now _remove_ the PRs\n",
    "issues = issues.loc[issues[\"pull_request\"].isna()]\n",
    "\n",
    "# Add reactions data\n",
    "def count_positive(a):\n",
    "    a = loads(a)\n",
    "    return a[\"+1\"] + a[\"hooray\"] + a[\"heart\"]\n",
    "issues[\"positive\"] = issues[\"reactions\"].map(count_positive)\n",
    "\n",
    "# Drop comments if there is no associated issue\n",
    "comments = comments.dropna(subset=[\"issue\"])\n",
    "comments[\"issue\"] = comments.loc[:, \"issue\"].astype(int)\n",
    "\n",
    "# Add repository information to comments\n",
    "comments = pd.merge(comments, issues[[\"id_issue\", \"full_name\", \"org\", \"repo\"]], left_on=\"issue\", right_on=\"id_issue\", how=\"inner\", suffixes=(\"_comment\", \"_issue\"))\n",
    "\n",
    "# Merge user data into comments\n",
    "comments = pd.merge(comments, users[[\"id\", \"login\"]], left_on=\"user\", right_on=\"id\", suffixes=(\"_comment\", \"_user\"), how=\"inner\")"
   ]
  },
  {
   "cell_type": "code",
   "execution_count": 8,
   "id": "63f723ec",
   "metadata": {
    "editable": true,
    "execution": {
     "iopub.execute_input": "2025-05-17T01:30:38.929706Z",
     "iopub.status.busy": "2025-05-17T01:30:38.929272Z",
     "iopub.status.idle": "2025-05-17T01:30:38.959683Z",
     "shell.execute_reply": "2025-05-17T01:30:38.959124Z"
    },
    "papermill": {
     "duration": 0.047299,
     "end_time": "2025-05-17T01:30:38.960691",
     "exception": false,
     "start_time": "2025-05-17T01:30:38.913392",
     "status": "completed"
    },
    "slideshow": {
     "slide_type": ""
    },
    "tags": [
     "remove_cell"
    ]
   },
   "outputs": [],
   "source": [
    "# Convert columns to datetime\n",
    "datetime_columns = [\"created_at\", \"closed_at\"]\n",
    "for df in [comments, issues, prs]:\n",
    "    for col in datetime_columns:\n",
    "        if col in df:\n",
    "            df[col] = pd.to_datetime(df[col])\n",
    "            # Strip timezone information so we can run simpler queries\n",
    "            df[col] = df[col].dt.tz_localize(None)"
   ]
  },
  {
   "cell_type": "code",
   "execution_count": 9,
   "id": "89780353",
   "metadata": {
    "editable": true,
    "execution": {
     "iopub.execute_input": "2025-05-17T01:30:38.990312Z",
     "iopub.status.busy": "2025-05-17T01:30:38.990122Z",
     "iopub.status.idle": "2025-05-17T01:30:39.003118Z",
     "shell.execute_reply": "2025-05-17T01:30:39.002529Z"
    },
    "papermill": {
     "duration": 0.029059,
     "end_time": "2025-05-17T01:30:39.004147",
     "exception": false,
     "start_time": "2025-05-17T01:30:38.975088",
     "status": "completed"
    },
    "slideshow": {
     "slide_type": ""
    },
    "tags": [
     "remove_cell"
    ]
   },
   "outputs": [],
   "source": [
    "# What are the top N repos, we will only plot these in the full data plots\n",
    "top_commented_repos = comments.groupby(\"repo\").count().sort_values(\"created_at\", ascending=False)['created_at']\n",
    "use_repos = top_commented_repos.head(top_n_repos).index.tolist()"
   ]
  },
  {
   "cell_type": "markdown",
   "id": "d63c7edd",
   "metadata": {
    "editable": true,
    "papermill": {
     "duration": 0.01503,
     "end_time": "2025-05-17T01:30:39.034293",
     "exception": false,
     "start_time": "2025-05-17T01:30:39.019263",
     "status": "completed"
    },
    "slideshow": {
     "slide_type": ""
    },
    "tags": [],
    "toc-hr-collapsed": false
   },
   "source": [
    "## Merged Pull requests\n",
    "\n",
    "Here's an analysis of **merged pull requests** across each of the repositories in the Jupyter\n",
    "ecosystem."
   ]
  },
  {
   "cell_type": "code",
   "execution_count": 10,
   "id": "897aac08",
   "metadata": {
    "editable": true,
    "execution": {
     "iopub.execute_input": "2025-05-17T01:30:39.064140Z",
     "iopub.status.busy": "2025-05-17T01:30:39.063742Z",
     "iopub.status.idle": "2025-05-17T01:30:39.074575Z",
     "shell.execute_reply": "2025-05-17T01:30:39.073940Z"
    },
    "papermill": {
     "duration": 0.027098,
     "end_time": "2025-05-17T01:30:39.075684",
     "exception": false,
     "start_time": "2025-05-17T01:30:39.048586",
     "status": "completed"
    },
    "slideshow": {
     "slide_type": ""
    },
    "tags": [
     "remove_cell"
    ]
   },
   "outputs": [],
   "source": [
    "merged = prs.query('state == \"closed\" and closed_at > @start_date and closed_at < @stop_date')"
   ]
  },
  {
   "cell_type": "code",
   "execution_count": 11,
   "id": "8eeef231",
   "metadata": {
    "editable": true,
    "execution": {
     "iopub.execute_input": "2025-05-17T01:30:39.106316Z",
     "iopub.status.busy": "2025-05-17T01:30:39.105923Z",
     "iopub.status.idle": "2025-05-17T01:30:39.144835Z",
     "shell.execute_reply": "2025-05-17T01:30:39.144200Z"
    },
    "papermill": {
     "duration": 0.055023,
     "end_time": "2025-05-17T01:30:39.145840",
     "exception": false,
     "start_time": "2025-05-17T01:30:39.090817",
     "status": "completed"
    },
    "slideshow": {
     "slide_type": ""
    },
    "tags": [
     "hide_input"
    ]
   },
   "outputs": [
    {
     "data": {
      "text/html": [
       "\n",
       "<style>\n",
       "  #altair-viz-2579fa25025f40788dc853031ebd1d2b.vega-embed {\n",
       "    width: 100%;\n",
       "    display: flex;\n",
       "  }\n",
       "\n",
       "  #altair-viz-2579fa25025f40788dc853031ebd1d2b.vega-embed details,\n",
       "  #altair-viz-2579fa25025f40788dc853031ebd1d2b.vega-embed details summary {\n",
       "    position: relative;\n",
       "  }\n",
       "</style>\n",
       "<div id=\"altair-viz-2579fa25025f40788dc853031ebd1d2b\"></div>\n",
       "<script type=\"text/javascript\">\n",
       "  var VEGA_DEBUG = (typeof VEGA_DEBUG == \"undefined\") ? {} : VEGA_DEBUG;\n",
       "  (function(spec, embedOpt){\n",
       "    let outputDiv = document.currentScript.previousElementSibling;\n",
       "    if (outputDiv.id !== \"altair-viz-2579fa25025f40788dc853031ebd1d2b\") {\n",
       "      outputDiv = document.getElementById(\"altair-viz-2579fa25025f40788dc853031ebd1d2b\");\n",
       "    }\n",
       "\n",
       "    const paths = {\n",
       "      \"vega\": \"https://cdn.jsdelivr.net/npm/vega@5?noext\",\n",
       "      \"vega-lib\": \"https://cdn.jsdelivr.net/npm/vega-lib?noext\",\n",
       "      \"vega-lite\": \"https://cdn.jsdelivr.net/npm/vega-lite@5.20.1?noext\",\n",
       "      \"vega-embed\": \"https://cdn.jsdelivr.net/npm/vega-embed@6?noext\",\n",
       "    };\n",
       "\n",
       "    function maybeLoadScript(lib, version) {\n",
       "      var key = `${lib.replace(\"-\", \"\")}_version`;\n",
       "      return (VEGA_DEBUG[key] == version) ?\n",
       "        Promise.resolve(paths[lib]) :\n",
       "        new Promise(function(resolve, reject) {\n",
       "          var s = document.createElement('script');\n",
       "          document.getElementsByTagName(\"head\")[0].appendChild(s);\n",
       "          s.async = true;\n",
       "          s.onload = () => {\n",
       "            VEGA_DEBUG[key] = version;\n",
       "            return resolve(paths[lib]);\n",
       "          };\n",
       "          s.onerror = () => reject(`Error loading script: ${paths[lib]}`);\n",
       "          s.src = paths[lib];\n",
       "        });\n",
       "    }\n",
       "\n",
       "    function showError(err) {\n",
       "      outputDiv.innerHTML = `<div class=\"error\" style=\"color:red;\">${err}</div>`;\n",
       "      throw err;\n",
       "    }\n",
       "\n",
       "    function displayChart(vegaEmbed) {\n",
       "      vegaEmbed(outputDiv, spec, embedOpt)\n",
       "        .catch(err => showError(`Javascript Error: ${err.message}<br>This usually means there's a typo in your chart specification. See the javascript console for the full traceback.`));\n",
       "    }\n",
       "\n",
       "    if(typeof define === \"function\" && define.amd) {\n",
       "      requirejs.config({paths});\n",
       "      let deps = [\"vega-embed\"];\n",
       "      require(deps, displayChart, err => showError(`Error loading script: ${err.message}`));\n",
       "    } else {\n",
       "      maybeLoadScript(\"vega\", \"5\")\n",
       "        .then(() => maybeLoadScript(\"vega-lite\", \"5.20.1\"))\n",
       "        .then(() => maybeLoadScript(\"vega-embed\", \"6\"))\n",
       "        .catch(showError)\n",
       "        .then(() => displayChart(vegaEmbed));\n",
       "    }\n",
       "  })({\"config\": {\"axisLeft\": {\"labelFontSize\": 15}, \"axisBottom\": {\"labelFontSize\": 15}}, \"data\": {\"name\": \"data-acb3559355e90e58398abe9b38644f18\"}, \"mark\": {\"type\": \"bar\"}, \"encoding\": {\"color\": {\"field\": \"org\", \"type\": \"nominal\"}, \"x\": {\"field\": \"repo\", \"sort\": [\"mystmd\", \"myst-theme\", \"jupyter-book\", \"mystmd.org\", \"blog\", \"team-compass\", \"myst-enhancement-proposals\", \"myst-spec\", \"thebe\"], \"type\": \"nominal\"}, \"y\": {\"field\": \"login\", \"type\": \"quantitative\"}}, \"title\": \"Merged PRs in the last 90 days\", \"$schema\": \"https://vega.github.io/schema/vega-lite/v5.20.1.json\", \"datasets\": {\"data-acb3559355e90e58398abe9b38644f18\": [{\"org\": \"jupyter-book\", \"repo\": \"mystmd\", \"login\": 48}, {\"org\": \"jupyter-book\", \"repo\": \"myst-theme\", \"login\": 33}, {\"org\": \"jupyter-book\", \"repo\": \"jupyter-book\", \"login\": 13}, {\"org\": \"jupyter-book\", \"repo\": \"mystmd.org\", \"login\": 6}, {\"org\": \"jupyter-book\", \"repo\": \"blog\", \"login\": 4}, {\"org\": \"jupyter-book\", \"repo\": \"team-compass\", \"login\": 3}, {\"org\": \"jupyter-book\", \"repo\": \"myst-enhancement-proposals\", \"login\": 1}, {\"org\": \"jupyter-book\", \"repo\": \"myst-spec\", \"login\": 1}, {\"org\": \"jupyter-book\", \"repo\": \"thebe\", \"login\": 1}]}}, {\"mode\": \"vega-lite\"});\n",
       "</script>"
      ],
      "text/plain": [
       "alt.Chart(...)"
      ]
     },
     "execution_count": 11,
     "metadata": {},
     "output_type": "execute_result"
    }
   ],
   "source": [
    "prs_by_repo = merged.groupby(['org', 'repo']).count()['login'].reset_index().sort_values(['org', 'login'], ascending=False)\n",
    "alt.Chart(data=prs_by_repo, title=f\"Merged PRs in the last {n_days} days\").mark_bar().encode(\n",
    "    x=alt.X('repo', sort=prs_by_repo['repo'].values.tolist()),\n",
    "    y='login',\n",
    "    color='org'\n",
    ")"
   ]
  },
  {
   "cell_type": "markdown",
   "id": "3f01c988",
   "metadata": {
    "editable": true,
    "papermill": {
     "duration": 0.015318,
     "end_time": "2025-05-17T01:30:39.176372",
     "exception": false,
     "start_time": "2025-05-17T01:30:39.161054",
     "status": "completed"
    },
    "slideshow": {
     "slide_type": ""
    },
    "tags": []
   },
   "source": [
    "### Authoring and merging stats by repository\n",
    "\n",
    "Let's see who has been doing most of the PR authoring and merging. The PR author is generally the\n",
    "person that implemented a change in the repository (code, documentation, etc). The PR merger is\n",
    "the person that \"pressed the green button\" and got the change into the main codebase."
   ]
  },
  {
   "cell_type": "code",
   "execution_count": 12,
   "id": "870fb8db",
   "metadata": {
    "editable": true,
    "execution": {
     "iopub.execute_input": "2025-05-17T01:30:39.206410Z",
     "iopub.status.busy": "2025-05-17T01:30:39.206207Z",
     "iopub.status.idle": "2025-05-17T01:30:39.216908Z",
     "shell.execute_reply": "2025-05-17T01:30:39.216249Z"
    },
    "papermill": {
     "duration": 0.02698,
     "end_time": "2025-05-17T01:30:39.218031",
     "exception": false,
     "start_time": "2025-05-17T01:30:39.191051",
     "status": "completed"
    },
    "slideshow": {
     "slide_type": ""
    },
    "tags": [
     "remove_cell"
    ]
   },
   "outputs": [],
   "source": [
    "# Prep our merging DF\n",
    "merged_by_repo = merged.groupby(['repo', 'login'], as_index=False).agg({'id': 'count', 'author_association': 'first'}).rename(columns={'id': \"authored\", 'login': 'username'})\n",
    "closed_by_repo = merged.groupby(['name', 'merged_by']).count()['id_issue'].reset_index().rename(columns={'id_issue': \"closed\", \"merged_by\": \"username\"})"
   ]
  },
  {
   "cell_type": "code",
   "execution_count": 13,
   "id": "232e7b94",
   "metadata": {
    "editable": true,
    "execution": {
     "iopub.execute_input": "2025-05-17T01:30:39.248491Z",
     "iopub.status.busy": "2025-05-17T01:30:39.248021Z",
     "iopub.status.idle": "2025-05-17T01:30:39.270423Z",
     "shell.execute_reply": "2025-05-17T01:30:39.269885Z"
    },
    "papermill": {
     "duration": 0.038717,
     "end_time": "2025-05-17T01:30:39.271418",
     "exception": false,
     "start_time": "2025-05-17T01:30:39.232701",
     "status": "completed"
    },
    "slideshow": {
     "slide_type": ""
    },
    "tags": [
     "hide_input"
    ]
   },
   "outputs": [
    {
     "data": {
      "text/html": [
       "\n",
       "<style>\n",
       "  #altair-viz-815b62d0f28f472abe615efc87b9d768.vega-embed {\n",
       "    width: 100%;\n",
       "    display: flex;\n",
       "  }\n",
       "\n",
       "  #altair-viz-815b62d0f28f472abe615efc87b9d768.vega-embed details,\n",
       "  #altair-viz-815b62d0f28f472abe615efc87b9d768.vega-embed details summary {\n",
       "    position: relative;\n",
       "  }\n",
       "</style>\n",
       "<div id=\"altair-viz-815b62d0f28f472abe615efc87b9d768\"></div>\n",
       "<script type=\"text/javascript\">\n",
       "  var VEGA_DEBUG = (typeof VEGA_DEBUG == \"undefined\") ? {} : VEGA_DEBUG;\n",
       "  (function(spec, embedOpt){\n",
       "    let outputDiv = document.currentScript.previousElementSibling;\n",
       "    if (outputDiv.id !== \"altair-viz-815b62d0f28f472abe615efc87b9d768\") {\n",
       "      outputDiv = document.getElementById(\"altair-viz-815b62d0f28f472abe615efc87b9d768\");\n",
       "    }\n",
       "\n",
       "    const paths = {\n",
       "      \"vega\": \"https://cdn.jsdelivr.net/npm/vega@5?noext\",\n",
       "      \"vega-lib\": \"https://cdn.jsdelivr.net/npm/vega-lib?noext\",\n",
       "      \"vega-lite\": \"https://cdn.jsdelivr.net/npm/vega-lite@5.20.1?noext\",\n",
       "      \"vega-embed\": \"https://cdn.jsdelivr.net/npm/vega-embed@6?noext\",\n",
       "    };\n",
       "\n",
       "    function maybeLoadScript(lib, version) {\n",
       "      var key = `${lib.replace(\"-\", \"\")}_version`;\n",
       "      return (VEGA_DEBUG[key] == version) ?\n",
       "        Promise.resolve(paths[lib]) :\n",
       "        new Promise(function(resolve, reject) {\n",
       "          var s = document.createElement('script');\n",
       "          document.getElementsByTagName(\"head\")[0].appendChild(s);\n",
       "          s.async = true;\n",
       "          s.onload = () => {\n",
       "            VEGA_DEBUG[key] = version;\n",
       "            return resolve(paths[lib]);\n",
       "          };\n",
       "          s.onerror = () => reject(`Error loading script: ${paths[lib]}`);\n",
       "          s.src = paths[lib];\n",
       "        });\n",
       "    }\n",
       "\n",
       "    function showError(err) {\n",
       "      outputDiv.innerHTML = `<div class=\"error\" style=\"color:red;\">${err}</div>`;\n",
       "      throw err;\n",
       "    }\n",
       "\n",
       "    function displayChart(vegaEmbed) {\n",
       "      vegaEmbed(outputDiv, spec, embedOpt)\n",
       "        .catch(err => showError(`Javascript Error: ${err.message}<br>This usually means there's a typo in your chart specification. See the javascript console for the full traceback.`));\n",
       "    }\n",
       "\n",
       "    if(typeof define === \"function\" && define.amd) {\n",
       "      requirejs.config({paths});\n",
       "      let deps = [\"vega-embed\"];\n",
       "      require(deps, displayChart, err => showError(`Error loading script: ${err.message}`));\n",
       "    } else {\n",
       "      maybeLoadScript(\"vega\", \"5\")\n",
       "        .then(() => maybeLoadScript(\"vega-lite\", \"5.20.1\"))\n",
       "        .then(() => maybeLoadScript(\"vega-embed\", \"6\"))\n",
       "        .catch(showError)\n",
       "        .then(() => displayChart(vegaEmbed));\n",
       "    }\n",
       "  })({\"config\": {\"axisLeft\": {\"labelFontSize\": 15}, \"axisBottom\": {\"labelFontSize\": 15}}, \"data\": {\"name\": \"data-674ae8300dd8bcef11746b5b896b81c9\"}, \"mark\": {\"type\": \"bar\"}, \"encoding\": {\"color\": {\"field\": \"author_association\", \"scale\": {\"domain\": [\"MEMBER\", \"CONTRIBUTOR\", \"COLLABORATOR\", \"NONE\"], \"range\": [\"rgb(211.82745098039214, 211.82745098039214, 211.82745098039214)\", \"rgb(166.98562091503268, 229.89803921568628, 166.98562091503268)\", \"rgb(96.37647058823529, 192.75294117647059, 96.37647058823529)\", \"rgb(0.0, 100.3921568627451, 0.0)\"]}, \"type\": \"nominal\"}, \"x\": {\"field\": \"username\", \"type\": \"nominal\"}, \"y\": {\"field\": \"authored\", \"type\": \"quantitative\"}}, \"title\": \"PR authors for jupyter-book in the last 90 days\", \"$schema\": \"https://vega.github.io/schema/vega-lite/v5.20.1.json\", \"datasets\": {\"data-674ae8300dd8bcef11746b5b896b81c9\": [{\"username\": \"agoose77\", \"authored\": 48, \"author_association\": \"MEMBER\"}, {\"username\": \"choldgraf\", \"authored\": 17, \"author_association\": \"MEMBER\"}, {\"username\": \"rowanc1\", \"authored\": 12, \"author_association\": \"MEMBER\"}, {\"username\": \"github-actions[bot]\", \"authored\": 9, \"author_association\": \"CONTRIBUTOR\"}, {\"username\": \"stefanv\", \"authored\": 5, \"author_association\": \"COLLABORATOR\"}, {\"username\": \"fwkoch\", \"authored\": 4, \"author_association\": \"MEMBER\"}, {\"username\": \"JimMadge\", \"authored\": 3, \"author_association\": \"NONE\"}, {\"username\": \"stevejpurves\", \"authored\": 3, \"author_association\": \"MEMBER\"}, {\"username\": \"StefanRR\", \"authored\": 1, \"author_association\": \"CONTRIBUTOR\"}, {\"username\": \"fperez\", \"authored\": 1, \"author_association\": \"CONTRIBUTOR\"}, {\"username\": \"da5nsy\", \"authored\": 1, \"author_association\": \"CONTRIBUTOR\"}, {\"username\": \"bsipocz\", \"authored\": 1, \"author_association\": \"CONTRIBUTOR\"}, {\"username\": \"alanrice\", \"authored\": 1, \"author_association\": \"CONTRIBUTOR\"}, {\"username\": \"RHammond2\", \"authored\": 1, \"author_association\": \"NONE\"}, {\"username\": \"kne42\", \"authored\": 1, \"author_association\": \"CONTRIBUTOR\"}, {\"username\": \"nmielec\", \"authored\": 1, \"author_association\": \"CONTRIBUTOR\"}, {\"username\": \"parmentelat\", \"authored\": 1, \"author_association\": \"CONTRIBUTOR\"}]}}, {\"mode\": \"vega-lite\"});\n",
       "</script>"
      ],
      "text/plain": [
       "alt.Chart(...)"
      ]
     },
     "execution_count": 13,
     "metadata": {},
     "output_type": "execute_result"
    }
   ],
   "source": [
    "charts = []\n",
    "title = f\"PR authors for {github_org} in the last {n_days} days\"\n",
    "this_data = merged_by_repo.replace(np.nan, 0).groupby('username', as_index=False).agg({'authored': 'sum', 'author_association': 'first'})\n",
    "this_data = this_data.sort_values('authored', ascending=False)\n",
    "ch = alt.Chart(data=this_data, title=title).mark_bar().encode(\n",
    "    x='username',\n",
    "    y='authored',\n",
    "    color=alt.Color('author_association', scale=alt.Scale(domain=author_types, range=author_colors))\n",
    ")\n",
    "ch"
   ]
  },
  {
   "cell_type": "code",
   "execution_count": 14,
   "id": "58b33223",
   "metadata": {
    "editable": true,
    "execution": {
     "iopub.execute_input": "2025-05-17T01:30:39.303818Z",
     "iopub.status.busy": "2025-05-17T01:30:39.303418Z",
     "iopub.status.idle": "2025-05-17T01:30:39.320680Z",
     "shell.execute_reply": "2025-05-17T01:30:39.320163Z"
    },
    "papermill": {
     "duration": 0.03496,
     "end_time": "2025-05-17T01:30:39.321643",
     "exception": false,
     "start_time": "2025-05-17T01:30:39.286683",
     "status": "completed"
    },
    "slideshow": {
     "slide_type": ""
    },
    "tags": [
     "hide_input"
    ]
   },
   "outputs": [
    {
     "data": {
      "text/html": [
       "\n",
       "<style>\n",
       "  #altair-viz-302418cb30134789965105e6e6295efc.vega-embed {\n",
       "    width: 100%;\n",
       "    display: flex;\n",
       "  }\n",
       "\n",
       "  #altair-viz-302418cb30134789965105e6e6295efc.vega-embed details,\n",
       "  #altair-viz-302418cb30134789965105e6e6295efc.vega-embed details summary {\n",
       "    position: relative;\n",
       "  }\n",
       "</style>\n",
       "<div id=\"altair-viz-302418cb30134789965105e6e6295efc\"></div>\n",
       "<script type=\"text/javascript\">\n",
       "  var VEGA_DEBUG = (typeof VEGA_DEBUG == \"undefined\") ? {} : VEGA_DEBUG;\n",
       "  (function(spec, embedOpt){\n",
       "    let outputDiv = document.currentScript.previousElementSibling;\n",
       "    if (outputDiv.id !== \"altair-viz-302418cb30134789965105e6e6295efc\") {\n",
       "      outputDiv = document.getElementById(\"altair-viz-302418cb30134789965105e6e6295efc\");\n",
       "    }\n",
       "\n",
       "    const paths = {\n",
       "      \"vega\": \"https://cdn.jsdelivr.net/npm/vega@5?noext\",\n",
       "      \"vega-lib\": \"https://cdn.jsdelivr.net/npm/vega-lib?noext\",\n",
       "      \"vega-lite\": \"https://cdn.jsdelivr.net/npm/vega-lite@5.20.1?noext\",\n",
       "      \"vega-embed\": \"https://cdn.jsdelivr.net/npm/vega-embed@6?noext\",\n",
       "    };\n",
       "\n",
       "    function maybeLoadScript(lib, version) {\n",
       "      var key = `${lib.replace(\"-\", \"\")}_version`;\n",
       "      return (VEGA_DEBUG[key] == version) ?\n",
       "        Promise.resolve(paths[lib]) :\n",
       "        new Promise(function(resolve, reject) {\n",
       "          var s = document.createElement('script');\n",
       "          document.getElementsByTagName(\"head\")[0].appendChild(s);\n",
       "          s.async = true;\n",
       "          s.onload = () => {\n",
       "            VEGA_DEBUG[key] = version;\n",
       "            return resolve(paths[lib]);\n",
       "          };\n",
       "          s.onerror = () => reject(`Error loading script: ${paths[lib]}`);\n",
       "          s.src = paths[lib];\n",
       "        });\n",
       "    }\n",
       "\n",
       "    function showError(err) {\n",
       "      outputDiv.innerHTML = `<div class=\"error\" style=\"color:red;\">${err}</div>`;\n",
       "      throw err;\n",
       "    }\n",
       "\n",
       "    function displayChart(vegaEmbed) {\n",
       "      vegaEmbed(outputDiv, spec, embedOpt)\n",
       "        .catch(err => showError(`Javascript Error: ${err.message}<br>This usually means there's a typo in your chart specification. See the javascript console for the full traceback.`));\n",
       "    }\n",
       "\n",
       "    if(typeof define === \"function\" && define.amd) {\n",
       "      requirejs.config({paths});\n",
       "      let deps = [\"vega-embed\"];\n",
       "      require(deps, displayChart, err => showError(`Error loading script: ${err.message}`));\n",
       "    } else {\n",
       "      maybeLoadScript(\"vega\", \"5\")\n",
       "        .then(() => maybeLoadScript(\"vega-lite\", \"5.20.1\"))\n",
       "        .then(() => maybeLoadScript(\"vega-embed\", \"6\"))\n",
       "        .catch(showError)\n",
       "        .then(() => displayChart(vegaEmbed));\n",
       "    }\n",
       "  })({\"config\": {\"axisLeft\": {\"labelFontSize\": 15}, \"axisBottom\": {\"labelFontSize\": 15}}, \"data\": {\"name\": \"data-5a5191e67327c74b7041679f6c067923\"}, \"mark\": {\"type\": \"bar\"}, \"encoding\": {\"x\": {\"field\": \"username\", \"type\": \"nominal\"}, \"y\": {\"field\": \"closed\", \"type\": \"quantitative\"}}, \"title\": \"Users that have merged PRs for jupyter-book in the last 90 days\", \"$schema\": \"https://vega.github.io/schema/vega-lite/v5.20.1.json\", \"datasets\": {\"data-5a5191e67327c74b7041679f6c067923\": [{\"name\": \"blog\", \"username\": \"agoose77\", \"closed\": 3}, {\"name\": \"blog\", \"username\": \"choldgraf\", \"closed\": 1}, {\"name\": \"jupyter-book\", \"username\": \"agoose77\", \"closed\": 12}, {\"name\": \"jupyter-book\", \"username\": \"choldgraf\", \"closed\": 1}, {\"name\": \"myst-enhancement-proposals\", \"username\": \"agoose77\", \"closed\": 1}, {\"name\": \"myst-spec\", \"username\": \"choldgraf\", \"closed\": 1}, {\"name\": \"myst-theme\", \"username\": \"agoose77\", \"closed\": 12}, {\"name\": \"myst-theme\", \"username\": \"choldgraf\", \"closed\": 1}, {\"name\": \"myst-theme\", \"username\": \"rowanc1\", \"closed\": 17}, {\"name\": \"myst-theme\", \"username\": \"stevejpurves\", \"closed\": 3}, {\"name\": \"mystmd\", \"username\": \"agoose77\", \"closed\": 13}, {\"name\": \"mystmd\", \"username\": \"choldgraf\", \"closed\": 10}, {\"name\": \"mystmd\", \"username\": \"fwkoch\", \"closed\": 4}, {\"name\": \"mystmd\", \"username\": \"rowanc1\", \"closed\": 19}, {\"name\": \"mystmd\", \"username\": \"stefanv\", \"closed\": 1}, {\"name\": \"mystmd\", \"username\": \"stevejpurves\", \"closed\": 1}, {\"name\": \"mystmd.org\", \"username\": \"agoose77\", \"closed\": 3}, {\"name\": \"mystmd.org\", \"username\": \"choldgraf\", \"closed\": 2}, {\"name\": \"mystmd.org\", \"username\": \"rowanc1\", \"closed\": 1}, {\"name\": \"team-compass\", \"username\": \"agoose77\", \"closed\": 1}, {\"name\": \"team-compass\", \"username\": \"choldgraf\", \"closed\": 2}, {\"name\": \"thebe\", \"username\": \"choldgraf\", \"closed\": 1}]}}, {\"mode\": \"vega-lite\"});\n",
       "</script>"
      ],
      "text/plain": [
       "alt.Chart(...)"
      ]
     },
     "execution_count": 14,
     "metadata": {},
     "output_type": "execute_result"
    }
   ],
   "source": [
    "charts = []\n",
    "title = f\"Users that have merged PRs for {github_org} in the last {n_days} days\"\n",
    "ch = alt.Chart(data=closed_by_repo.replace(np.nan, 0), title=title).mark_bar().encode(\n",
    "    x='username',\n",
    "    y='closed',\n",
    ")\n",
    "ch"
   ]
  },
  {
   "cell_type": "markdown",
   "id": "0028d698",
   "metadata": {
    "editable": true,
    "papermill": {
     "duration": 0.015084,
     "end_time": "2025-05-17T01:30:39.351591",
     "exception": false,
     "start_time": "2025-05-17T01:30:39.336507",
     "status": "completed"
    },
    "slideshow": {
     "slide_type": ""
    },
    "tags": []
   },
   "source": [
    "## Issues\n",
    "\n",
    "Issues are **conversations** that happen on our GitHub repositories. Here's an\n",
    "analysis of issues across the Jupyter organizations."
   ]
  },
  {
   "cell_type": "code",
   "execution_count": 15,
   "id": "47946b8a",
   "metadata": {
    "editable": true,
    "execution": {
     "iopub.execute_input": "2025-05-17T01:30:39.382506Z",
     "iopub.status.busy": "2025-05-17T01:30:39.382128Z",
     "iopub.status.idle": "2025-05-17T01:30:39.398755Z",
     "shell.execute_reply": "2025-05-17T01:30:39.398256Z"
    },
    "papermill": {
     "duration": 0.033335,
     "end_time": "2025-05-17T01:30:39.399822",
     "exception": false,
     "start_time": "2025-05-17T01:30:39.366487",
     "status": "completed"
    },
    "slideshow": {
     "slide_type": ""
    },
    "tags": [
     "remove_cell"
    ]
   },
   "outputs": [],
   "source": [
    "created = issues.query('state == \"open\" and created_at > @start_date and created_at < @stop_date')\n",
    "closed = issues.query('state == \"closed\" and closed_at > @start_date and closed_at < @stop_date')"
   ]
  },
  {
   "cell_type": "code",
   "execution_count": 16,
   "id": "2c70e557",
   "metadata": {
    "editable": true,
    "execution": {
     "iopub.execute_input": "2025-05-17T01:30:39.432654Z",
     "iopub.status.busy": "2025-05-17T01:30:39.432278Z",
     "iopub.status.idle": "2025-05-17T01:30:39.453768Z",
     "shell.execute_reply": "2025-05-17T01:30:39.453231Z"
    },
    "papermill": {
     "duration": 0.039473,
     "end_time": "2025-05-17T01:30:39.454784",
     "exception": false,
     "start_time": "2025-05-17T01:30:39.415311",
     "status": "completed"
    },
    "slideshow": {
     "slide_type": ""
    },
    "tags": [
     "hide_input"
    ]
   },
   "outputs": [
    {
     "data": {
      "text/html": [
       "\n",
       "<style>\n",
       "  #altair-viz-727f2ea720564eb7ae2fe35c3bd22816.vega-embed {\n",
       "    width: 100%;\n",
       "    display: flex;\n",
       "  }\n",
       "\n",
       "  #altair-viz-727f2ea720564eb7ae2fe35c3bd22816.vega-embed details,\n",
       "  #altair-viz-727f2ea720564eb7ae2fe35c3bd22816.vega-embed details summary {\n",
       "    position: relative;\n",
       "  }\n",
       "</style>\n",
       "<div id=\"altair-viz-727f2ea720564eb7ae2fe35c3bd22816\"></div>\n",
       "<script type=\"text/javascript\">\n",
       "  var VEGA_DEBUG = (typeof VEGA_DEBUG == \"undefined\") ? {} : VEGA_DEBUG;\n",
       "  (function(spec, embedOpt){\n",
       "    let outputDiv = document.currentScript.previousElementSibling;\n",
       "    if (outputDiv.id !== \"altair-viz-727f2ea720564eb7ae2fe35c3bd22816\") {\n",
       "      outputDiv = document.getElementById(\"altair-viz-727f2ea720564eb7ae2fe35c3bd22816\");\n",
       "    }\n",
       "\n",
       "    const paths = {\n",
       "      \"vega\": \"https://cdn.jsdelivr.net/npm/vega@5?noext\",\n",
       "      \"vega-lib\": \"https://cdn.jsdelivr.net/npm/vega-lib?noext\",\n",
       "      \"vega-lite\": \"https://cdn.jsdelivr.net/npm/vega-lite@5.20.1?noext\",\n",
       "      \"vega-embed\": \"https://cdn.jsdelivr.net/npm/vega-embed@6?noext\",\n",
       "    };\n",
       "\n",
       "    function maybeLoadScript(lib, version) {\n",
       "      var key = `${lib.replace(\"-\", \"\")}_version`;\n",
       "      return (VEGA_DEBUG[key] == version) ?\n",
       "        Promise.resolve(paths[lib]) :\n",
       "        new Promise(function(resolve, reject) {\n",
       "          var s = document.createElement('script');\n",
       "          document.getElementsByTagName(\"head\")[0].appendChild(s);\n",
       "          s.async = true;\n",
       "          s.onload = () => {\n",
       "            VEGA_DEBUG[key] = version;\n",
       "            return resolve(paths[lib]);\n",
       "          };\n",
       "          s.onerror = () => reject(`Error loading script: ${paths[lib]}`);\n",
       "          s.src = paths[lib];\n",
       "        });\n",
       "    }\n",
       "\n",
       "    function showError(err) {\n",
       "      outputDiv.innerHTML = `<div class=\"error\" style=\"color:red;\">${err}</div>`;\n",
       "      throw err;\n",
       "    }\n",
       "\n",
       "    function displayChart(vegaEmbed) {\n",
       "      vegaEmbed(outputDiv, spec, embedOpt)\n",
       "        .catch(err => showError(`Javascript Error: ${err.message}<br>This usually means there's a typo in your chart specification. See the javascript console for the full traceback.`));\n",
       "    }\n",
       "\n",
       "    if(typeof define === \"function\" && define.amd) {\n",
       "      requirejs.config({paths});\n",
       "      let deps = [\"vega-embed\"];\n",
       "      require(deps, displayChart, err => showError(`Error loading script: ${err.message}`));\n",
       "    } else {\n",
       "      maybeLoadScript(\"vega\", \"5\")\n",
       "        .then(() => maybeLoadScript(\"vega-lite\", \"5.20.1\"))\n",
       "        .then(() => maybeLoadScript(\"vega-embed\", \"6\"))\n",
       "        .catch(showError)\n",
       "        .then(() => displayChart(vegaEmbed));\n",
       "    }\n",
       "  })({\"config\": {\"axisLeft\": {\"labelFontSize\": 15}, \"axisBottom\": {\"labelFontSize\": 15}}, \"data\": {\"name\": \"data-d7278594c611d3f5857d650110dfce25\"}, \"mark\": {\"type\": \"bar\"}, \"encoding\": {\"x\": {\"field\": \"repo\", \"sort\": [\"mystmd\", \"jupyter-book\", \"myst-theme\", \"jupyterlab-myst\", \"team-compass\", \"thebe\", \"myst-enhancement-proposals\", \"mystmd.org\"], \"type\": \"nominal\"}, \"y\": {\"field\": \"number\", \"type\": \"quantitative\"}}, \"title\": \"Issues created in the last 90 days\", \"$schema\": \"https://vega.github.io/schema/vega-lite/v5.20.1.json\", \"datasets\": {\"data-d7278594c611d3f5857d650110dfce25\": [{\"org\": \"jupyter-book\", \"repo\": \"jupyter-book\", \"number\": 14, \"org/repo\": \"jupyter-book/jupyter-book\"}, {\"org\": \"jupyter-book\", \"repo\": \"jupyterlab-myst\", \"number\": 7, \"org/repo\": \"jupyter-book/jupyterlab-myst\"}, {\"org\": \"jupyter-book\", \"repo\": \"myst-enhancement-proposals\", \"number\": 1, \"org/repo\": \"jupyter-book/myst-enhancement-proposals\"}, {\"org\": \"jupyter-book\", \"repo\": \"myst-theme\", \"number\": 11, \"org/repo\": \"jupyter-book/myst-theme\"}, {\"org\": \"jupyter-book\", \"repo\": \"mystmd\", \"number\": 63, \"org/repo\": \"jupyter-book/mystmd\"}, {\"org\": \"jupyter-book\", \"repo\": \"mystmd.org\", \"number\": 1, \"org/repo\": \"jupyter-book/mystmd.org\"}, {\"org\": \"jupyter-book\", \"repo\": \"team-compass\", \"number\": 7, \"org/repo\": \"jupyter-book/team-compass\"}, {\"org\": \"jupyter-book\", \"repo\": \"thebe\", \"number\": 2, \"org/repo\": \"jupyter-book/thebe\"}]}}, {\"mode\": \"vega-lite\"});\n",
       "</script>"
      ],
      "text/plain": [
       "alt.Chart(...)"
      ]
     },
     "execution_count": 16,
     "metadata": {},
     "output_type": "execute_result"
    }
   ],
   "source": [
    "created_counts = created.groupby(['org', 'repo']).count()['number'].reset_index()\n",
    "created_counts['org/repo'] = created_counts.apply(lambda a: a['org'] + '/' + a['repo'], axis=1)\n",
    "sorted_vals = created_counts.sort_values(['org', 'number'], ascending=False)['repo'].values\n",
    "alt.Chart(data=created_counts, title=f\"Issues created in the last {n_days} days\").mark_bar().encode(\n",
    "    x=alt.X('repo', sort=alt.Sort(sorted_vals.tolist())),\n",
    "    y='number',\n",
    ")"
   ]
  },
  {
   "cell_type": "code",
   "execution_count": 17,
   "id": "e356cbfd",
   "metadata": {
    "editable": true,
    "execution": {
     "iopub.execute_input": "2025-05-17T01:30:39.486001Z",
     "iopub.status.busy": "2025-05-17T01:30:39.485783Z",
     "iopub.status.idle": "2025-05-17T01:30:39.505965Z",
     "shell.execute_reply": "2025-05-17T01:30:39.505321Z"
    },
    "papermill": {
     "duration": 0.037064,
     "end_time": "2025-05-17T01:30:39.507058",
     "exception": false,
     "start_time": "2025-05-17T01:30:39.469994",
     "status": "completed"
    },
    "slideshow": {
     "slide_type": ""
    },
    "tags": [
     "hide_input"
    ]
   },
   "outputs": [
    {
     "data": {
      "text/html": [
       "\n",
       "<style>\n",
       "  #altair-viz-cc5f3e52fb1c40e3b10e5fc81eede697.vega-embed {\n",
       "    width: 100%;\n",
       "    display: flex;\n",
       "  }\n",
       "\n",
       "  #altair-viz-cc5f3e52fb1c40e3b10e5fc81eede697.vega-embed details,\n",
       "  #altair-viz-cc5f3e52fb1c40e3b10e5fc81eede697.vega-embed details summary {\n",
       "    position: relative;\n",
       "  }\n",
       "</style>\n",
       "<div id=\"altair-viz-cc5f3e52fb1c40e3b10e5fc81eede697\"></div>\n",
       "<script type=\"text/javascript\">\n",
       "  var VEGA_DEBUG = (typeof VEGA_DEBUG == \"undefined\") ? {} : VEGA_DEBUG;\n",
       "  (function(spec, embedOpt){\n",
       "    let outputDiv = document.currentScript.previousElementSibling;\n",
       "    if (outputDiv.id !== \"altair-viz-cc5f3e52fb1c40e3b10e5fc81eede697\") {\n",
       "      outputDiv = document.getElementById(\"altair-viz-cc5f3e52fb1c40e3b10e5fc81eede697\");\n",
       "    }\n",
       "\n",
       "    const paths = {\n",
       "      \"vega\": \"https://cdn.jsdelivr.net/npm/vega@5?noext\",\n",
       "      \"vega-lib\": \"https://cdn.jsdelivr.net/npm/vega-lib?noext\",\n",
       "      \"vega-lite\": \"https://cdn.jsdelivr.net/npm/vega-lite@5.20.1?noext\",\n",
       "      \"vega-embed\": \"https://cdn.jsdelivr.net/npm/vega-embed@6?noext\",\n",
       "    };\n",
       "\n",
       "    function maybeLoadScript(lib, version) {\n",
       "      var key = `${lib.replace(\"-\", \"\")}_version`;\n",
       "      return (VEGA_DEBUG[key] == version) ?\n",
       "        Promise.resolve(paths[lib]) :\n",
       "        new Promise(function(resolve, reject) {\n",
       "          var s = document.createElement('script');\n",
       "          document.getElementsByTagName(\"head\")[0].appendChild(s);\n",
       "          s.async = true;\n",
       "          s.onload = () => {\n",
       "            VEGA_DEBUG[key] = version;\n",
       "            return resolve(paths[lib]);\n",
       "          };\n",
       "          s.onerror = () => reject(`Error loading script: ${paths[lib]}`);\n",
       "          s.src = paths[lib];\n",
       "        });\n",
       "    }\n",
       "\n",
       "    function showError(err) {\n",
       "      outputDiv.innerHTML = `<div class=\"error\" style=\"color:red;\">${err}</div>`;\n",
       "      throw err;\n",
       "    }\n",
       "\n",
       "    function displayChart(vegaEmbed) {\n",
       "      vegaEmbed(outputDiv, spec, embedOpt)\n",
       "        .catch(err => showError(`Javascript Error: ${err.message}<br>This usually means there's a typo in your chart specification. See the javascript console for the full traceback.`));\n",
       "    }\n",
       "\n",
       "    if(typeof define === \"function\" && define.amd) {\n",
       "      requirejs.config({paths});\n",
       "      let deps = [\"vega-embed\"];\n",
       "      require(deps, displayChart, err => showError(`Error loading script: ${err.message}`));\n",
       "    } else {\n",
       "      maybeLoadScript(\"vega\", \"5\")\n",
       "        .then(() => maybeLoadScript(\"vega-lite\", \"5.20.1\"))\n",
       "        .then(() => maybeLoadScript(\"vega-embed\", \"6\"))\n",
       "        .catch(showError)\n",
       "        .then(() => displayChart(vegaEmbed));\n",
       "    }\n",
       "  })({\"config\": {\"axisLeft\": {\"labelFontSize\": 15}, \"axisBottom\": {\"labelFontSize\": 15}}, \"data\": {\"name\": \"data-0b8ba669f1db670f1b1268ec33e3af45\"}, \"mark\": {\"type\": \"bar\"}, \"encoding\": {\"x\": {\"field\": \"repo\", \"sort\": [\"mystmd\", \"jupyter-book\", \"myst-theme\", \"mystmd.org\", \"team-compass\", \"jupyterlab-myst\"], \"type\": \"nominal\"}, \"y\": {\"field\": \"number\", \"type\": \"quantitative\"}}, \"title\": \"Issues closed in the last 90 days\", \"$schema\": \"https://vega.github.io/schema/vega-lite/v5.20.1.json\", \"datasets\": {\"data-0b8ba669f1db670f1b1268ec33e3af45\": [{\"org\": \"jupyter-book\", \"repo\": \"jupyter-book\", \"number\": 6, \"org/repo\": \"jupyter-book/jupyter-book\"}, {\"org\": \"jupyter-book\", \"repo\": \"jupyterlab-myst\", \"number\": 1, \"org/repo\": \"jupyter-book/jupyterlab-myst\"}, {\"org\": \"jupyter-book\", \"repo\": \"myst-theme\", \"number\": 6, \"org/repo\": \"jupyter-book/myst-theme\"}, {\"org\": \"jupyter-book\", \"repo\": \"mystmd\", \"number\": 27, \"org/repo\": \"jupyter-book/mystmd\"}, {\"org\": \"jupyter-book\", \"repo\": \"mystmd.org\", \"number\": 2, \"org/repo\": \"jupyter-book/mystmd.org\"}, {\"org\": \"jupyter-book\", \"repo\": \"team-compass\", \"number\": 2, \"org/repo\": \"jupyter-book/team-compass\"}]}}, {\"mode\": \"vega-lite\"});\n",
       "</script>"
      ],
      "text/plain": [
       "alt.Chart(...)"
      ]
     },
     "execution_count": 17,
     "metadata": {},
     "output_type": "execute_result"
    }
   ],
   "source": [
    "closed_counts = closed.groupby(['org', 'repo']).count()['number'].reset_index()\n",
    "closed_counts['org/repo'] = closed_counts.apply(lambda a: a['org'] + '/' + a['repo'], axis=1)\n",
    "sorted_vals = closed_counts.sort_values(['number'], ascending=False)['repo'].values\n",
    "alt.Chart(data=closed_counts, title=f\"Issues closed in the last {n_days} days\").mark_bar().encode(\n",
    "    x=alt.X('repo', sort=alt.Sort(sorted_vals.tolist())),\n",
    "    y='number',\n",
    ")"
   ]
  },
  {
   "cell_type": "code",
   "execution_count": 18,
   "id": "b8959ef5",
   "metadata": {
    "editable": true,
    "execution": {
     "iopub.execute_input": "2025-05-17T01:30:39.538661Z",
     "iopub.status.busy": "2025-05-17T01:30:39.538464Z",
     "iopub.status.idle": "2025-05-17T01:30:39.547495Z",
     "shell.execute_reply": "2025-05-17T01:30:39.546988Z"
    },
    "papermill": {
     "duration": 0.026064,
     "end_time": "2025-05-17T01:30:39.548438",
     "exception": false,
     "start_time": "2025-05-17T01:30:39.522374",
     "status": "completed"
    },
    "slideshow": {
     "slide_type": ""
    },
    "tags": [
     "remove_cell"
    ]
   },
   "outputs": [],
   "source": [
    "created_closed = pd.merge(created_counts.rename(columns={'number': 'created'}).drop(columns='org/repo'),\n",
    "                          closed_counts.rename(columns={'number': 'closed'}).drop(columns='org/repo'),\n",
    "                          on=['org', 'repo'], how='outer')\n",
    "\n",
    "created_closed = pd.melt(created_closed, id_vars=['org', 'repo'], var_name=\"kind\", value_name=\"count\").replace(np.nan, 0)"
   ]
  },
  {
   "cell_type": "code",
   "execution_count": 19,
   "id": "3a938b36",
   "metadata": {
    "editable": true,
    "execution": {
     "iopub.execute_input": "2025-05-17T01:30:39.581172Z",
     "iopub.status.busy": "2025-05-17T01:30:39.580976Z",
     "iopub.status.idle": "2025-05-17T01:30:39.603679Z",
     "shell.execute_reply": "2025-05-17T01:30:39.603032Z"
    },
    "papermill": {
     "duration": 0.04042,
     "end_time": "2025-05-17T01:30:39.604687",
     "exception": false,
     "start_time": "2025-05-17T01:30:39.564267",
     "status": "completed"
    },
    "scrolled": true,
    "slideshow": {
     "slide_type": ""
    },
    "tags": [
     "hide_input"
    ]
   },
   "outputs": [
    {
     "data": {
      "text/html": [
       "\n",
       "<style>\n",
       "  #altair-viz-08973f1caee24e9eac09da122df25723.vega-embed {\n",
       "    width: 100%;\n",
       "    display: flex;\n",
       "  }\n",
       "\n",
       "  #altair-viz-08973f1caee24e9eac09da122df25723.vega-embed details,\n",
       "  #altair-viz-08973f1caee24e9eac09da122df25723.vega-embed details summary {\n",
       "    position: relative;\n",
       "  }\n",
       "</style>\n",
       "<div id=\"altair-viz-08973f1caee24e9eac09da122df25723\"></div>\n",
       "<script type=\"text/javascript\">\n",
       "  var VEGA_DEBUG = (typeof VEGA_DEBUG == \"undefined\") ? {} : VEGA_DEBUG;\n",
       "  (function(spec, embedOpt){\n",
       "    let outputDiv = document.currentScript.previousElementSibling;\n",
       "    if (outputDiv.id !== \"altair-viz-08973f1caee24e9eac09da122df25723\") {\n",
       "      outputDiv = document.getElementById(\"altair-viz-08973f1caee24e9eac09da122df25723\");\n",
       "    }\n",
       "\n",
       "    const paths = {\n",
       "      \"vega\": \"https://cdn.jsdelivr.net/npm/vega@5?noext\",\n",
       "      \"vega-lib\": \"https://cdn.jsdelivr.net/npm/vega-lib?noext\",\n",
       "      \"vega-lite\": \"https://cdn.jsdelivr.net/npm/vega-lite@5.20.1?noext\",\n",
       "      \"vega-embed\": \"https://cdn.jsdelivr.net/npm/vega-embed@6?noext\",\n",
       "    };\n",
       "\n",
       "    function maybeLoadScript(lib, version) {\n",
       "      var key = `${lib.replace(\"-\", \"\")}_version`;\n",
       "      return (VEGA_DEBUG[key] == version) ?\n",
       "        Promise.resolve(paths[lib]) :\n",
       "        new Promise(function(resolve, reject) {\n",
       "          var s = document.createElement('script');\n",
       "          document.getElementsByTagName(\"head\")[0].appendChild(s);\n",
       "          s.async = true;\n",
       "          s.onload = () => {\n",
       "            VEGA_DEBUG[key] = version;\n",
       "            return resolve(paths[lib]);\n",
       "          };\n",
       "          s.onerror = () => reject(`Error loading script: ${paths[lib]}`);\n",
       "          s.src = paths[lib];\n",
       "        });\n",
       "    }\n",
       "\n",
       "    function showError(err) {\n",
       "      outputDiv.innerHTML = `<div class=\"error\" style=\"color:red;\">${err}</div>`;\n",
       "      throw err;\n",
       "    }\n",
       "\n",
       "    function displayChart(vegaEmbed) {\n",
       "      vegaEmbed(outputDiv, spec, embedOpt)\n",
       "        .catch(err => showError(`Javascript Error: ${err.message}<br>This usually means there's a typo in your chart specification. See the javascript console for the full traceback.`));\n",
       "    }\n",
       "\n",
       "    if(typeof define === \"function\" && define.amd) {\n",
       "      requirejs.config({paths});\n",
       "      let deps = [\"vega-embed\"];\n",
       "      require(deps, displayChart, err => showError(`Error loading script: ${err.message}`));\n",
       "    } else {\n",
       "      maybeLoadScript(\"vega\", \"5\")\n",
       "        .then(() => maybeLoadScript(\"vega-lite\", \"5.20.1\"))\n",
       "        .then(() => maybeLoadScript(\"vega-embed\", \"6\"))\n",
       "        .catch(showError)\n",
       "        .then(() => displayChart(vegaEmbed));\n",
       "    }\n",
       "  })({\"config\": {\"axisLeft\": {\"labelFontSize\": 15}, \"axisBottom\": {\"labelFontSize\": 15}}, \"data\": {\"name\": \"data-84235bb7d5438937f0b94c5aba4bc56b\"}, \"mark\": {\"type\": \"bar\"}, \"encoding\": {\"color\": {\"field\": \"kind\", \"type\": \"nominal\"}, \"column\": {\"field\": \"repo\", \"header\": {\"labelFontSize\": 12, \"title\": \"Issue activity, last 90 days for jupyter-book\", \"titleFontSize\": 15}, \"type\": \"nominal\"}, \"x\": {\"axis\": {\"labelFontSize\": 15, \"title\": \"\"}, \"field\": \"kind\", \"type\": \"nominal\"}, \"y\": {\"axis\": {\"labelFontSize\": 12, \"titleFontSize\": 15}, \"field\": \"count\", \"type\": \"quantitative\"}}, \"width\": 120, \"$schema\": \"https://vega.github.io/schema/vega-lite/v5.20.1.json\", \"datasets\": {\"data-84235bb7d5438937f0b94c5aba4bc56b\": [{\"org\": \"jupyter-book\", \"repo\": \"jupyter-book\", \"kind\": \"created\", \"count\": 14.0}, {\"org\": \"jupyter-book\", \"repo\": \"jupyterlab-myst\", \"kind\": \"created\", \"count\": 7.0}, {\"org\": \"jupyter-book\", \"repo\": \"myst-enhancement-proposals\", \"kind\": \"created\", \"count\": 1.0}, {\"org\": \"jupyter-book\", \"repo\": \"myst-theme\", \"kind\": \"created\", \"count\": 11.0}, {\"org\": \"jupyter-book\", \"repo\": \"mystmd\", \"kind\": \"created\", \"count\": 63.0}, {\"org\": \"jupyter-book\", \"repo\": \"mystmd.org\", \"kind\": \"created\", \"count\": 1.0}, {\"org\": \"jupyter-book\", \"repo\": \"team-compass\", \"kind\": \"created\", \"count\": 7.0}, {\"org\": \"jupyter-book\", \"repo\": \"thebe\", \"kind\": \"created\", \"count\": 2.0}, {\"org\": \"jupyter-book\", \"repo\": \"jupyter-book\", \"kind\": \"closed\", \"count\": 6.0}, {\"org\": \"jupyter-book\", \"repo\": \"jupyterlab-myst\", \"kind\": \"closed\", \"count\": 1.0}, {\"org\": \"jupyter-book\", \"repo\": \"myst-enhancement-proposals\", \"kind\": \"closed\", \"count\": 0.0}, {\"org\": \"jupyter-book\", \"repo\": \"myst-theme\", \"kind\": \"closed\", \"count\": 6.0}, {\"org\": \"jupyter-book\", \"repo\": \"mystmd\", \"kind\": \"closed\", \"count\": 27.0}, {\"org\": \"jupyter-book\", \"repo\": \"mystmd.org\", \"kind\": \"closed\", \"count\": 2.0}, {\"org\": \"jupyter-book\", \"repo\": \"team-compass\", \"kind\": \"closed\", \"count\": 2.0}, {\"org\": \"jupyter-book\", \"repo\": \"thebe\", \"kind\": \"closed\", \"count\": 0.0}]}}, {\"mode\": \"vega-lite\"});\n",
       "</script>"
      ],
      "text/plain": [
       "alt.Chart(...)"
      ]
     },
     "execution_count": 19,
     "metadata": {},
     "output_type": "execute_result"
    }
   ],
   "source": [
    "charts = []\n",
    "# Pick the top 10 repositories\n",
    "top_repos = created_closed.groupby(['repo']).sum().sort_values(by='count', ascending=False).head(10).index\n",
    "ch = alt.Chart(created_closed.query('repo in @top_repos'), width=120).mark_bar().encode(\n",
    "    x=alt.X(\"kind\", axis=alt.Axis(labelFontSize=15, title=\"\")), \n",
    "    y=alt.Y('count', axis=alt.Axis(titleFontSize=15, labelFontSize=12)),\n",
    "    color='kind',\n",
    "    column=alt.Column(\"repo\", header=alt.Header(title=f\"Issue activity, last {n_days} days for {github_org}\", titleFontSize=15, labelFontSize=12))\n",
    ")\n",
    "ch"
   ]
  },
  {
   "cell_type": "code",
   "execution_count": 20,
   "id": "cf039860",
   "metadata": {
    "editable": true,
    "execution": {
     "iopub.execute_input": "2025-05-17T01:30:39.637104Z",
     "iopub.status.busy": "2025-05-17T01:30:39.636640Z",
     "iopub.status.idle": "2025-05-17T01:30:39.643046Z",
     "shell.execute_reply": "2025-05-17T01:30:39.642394Z"
    },
    "papermill": {
     "duration": 0.023651,
     "end_time": "2025-05-17T01:30:39.644069",
     "exception": false,
     "start_time": "2025-05-17T01:30:39.620418",
     "status": "completed"
    },
    "slideshow": {
     "slide_type": ""
    },
    "tags": [
     "remove_cell"
    ]
   },
   "outputs": [],
   "source": [
    "# Set to datetime\n",
    "for kind in ['created_at', 'closed_at']:\n",
    "    closed.loc[:, kind] = pd.to_datetime(closed[kind])\n",
    "    \n",
    "closed.loc[:, 'time_open'] = closed['closed_at'] - closed['created_at']\n",
    "closed.loc[:, 'time_open'] = closed['time_open'].dt.total_seconds()"
   ]
  },
  {
   "cell_type": "code",
   "execution_count": 21,
   "id": "8070a57f",
   "metadata": {
    "editable": true,
    "execution": {
     "iopub.execute_input": "2025-05-17T01:30:39.676247Z",
     "iopub.status.busy": "2025-05-17T01:30:39.675694Z",
     "iopub.status.idle": "2025-05-17T01:30:39.694068Z",
     "shell.execute_reply": "2025-05-17T01:30:39.693516Z"
    },
    "papermill": {
     "duration": 0.035514,
     "end_time": "2025-05-17T01:30:39.695115",
     "exception": false,
     "start_time": "2025-05-17T01:30:39.659601",
     "status": "completed"
    },
    "slideshow": {
     "slide_type": ""
    },
    "tags": [
     "hide_input"
    ]
   },
   "outputs": [
    {
     "data": {
      "text/html": [
       "\n",
       "<style>\n",
       "  #altair-viz-b1353faf2ed245adb4cc5a398b958192.vega-embed {\n",
       "    width: 100%;\n",
       "    display: flex;\n",
       "  }\n",
       "\n",
       "  #altair-viz-b1353faf2ed245adb4cc5a398b958192.vega-embed details,\n",
       "  #altair-viz-b1353faf2ed245adb4cc5a398b958192.vega-embed details summary {\n",
       "    position: relative;\n",
       "  }\n",
       "</style>\n",
       "<div id=\"altair-viz-b1353faf2ed245adb4cc5a398b958192\"></div>\n",
       "<script type=\"text/javascript\">\n",
       "  var VEGA_DEBUG = (typeof VEGA_DEBUG == \"undefined\") ? {} : VEGA_DEBUG;\n",
       "  (function(spec, embedOpt){\n",
       "    let outputDiv = document.currentScript.previousElementSibling;\n",
       "    if (outputDiv.id !== \"altair-viz-b1353faf2ed245adb4cc5a398b958192\") {\n",
       "      outputDiv = document.getElementById(\"altair-viz-b1353faf2ed245adb4cc5a398b958192\");\n",
       "    }\n",
       "\n",
       "    const paths = {\n",
       "      \"vega\": \"https://cdn.jsdelivr.net/npm/vega@5?noext\",\n",
       "      \"vega-lib\": \"https://cdn.jsdelivr.net/npm/vega-lib?noext\",\n",
       "      \"vega-lite\": \"https://cdn.jsdelivr.net/npm/vega-lite@5.20.1?noext\",\n",
       "      \"vega-embed\": \"https://cdn.jsdelivr.net/npm/vega-embed@6?noext\",\n",
       "    };\n",
       "\n",
       "    function maybeLoadScript(lib, version) {\n",
       "      var key = `${lib.replace(\"-\", \"\")}_version`;\n",
       "      return (VEGA_DEBUG[key] == version) ?\n",
       "        Promise.resolve(paths[lib]) :\n",
       "        new Promise(function(resolve, reject) {\n",
       "          var s = document.createElement('script');\n",
       "          document.getElementsByTagName(\"head\")[0].appendChild(s);\n",
       "          s.async = true;\n",
       "          s.onload = () => {\n",
       "            VEGA_DEBUG[key] = version;\n",
       "            return resolve(paths[lib]);\n",
       "          };\n",
       "          s.onerror = () => reject(`Error loading script: ${paths[lib]}`);\n",
       "          s.src = paths[lib];\n",
       "        });\n",
       "    }\n",
       "\n",
       "    function showError(err) {\n",
       "      outputDiv.innerHTML = `<div class=\"error\" style=\"color:red;\">${err}</div>`;\n",
       "      throw err;\n",
       "    }\n",
       "\n",
       "    function displayChart(vegaEmbed) {\n",
       "      vegaEmbed(outputDiv, spec, embedOpt)\n",
       "        .catch(err => showError(`Javascript Error: ${err.message}<br>This usually means there's a typo in your chart specification. See the javascript console for the full traceback.`));\n",
       "    }\n",
       "\n",
       "    if(typeof define === \"function\" && define.amd) {\n",
       "      requirejs.config({paths});\n",
       "      let deps = [\"vega-embed\"];\n",
       "      require(deps, displayChart, err => showError(`Error loading script: ${err.message}`));\n",
       "    } else {\n",
       "      maybeLoadScript(\"vega\", \"5\")\n",
       "        .then(() => maybeLoadScript(\"vega-lite\", \"5.20.1\"))\n",
       "        .then(() => maybeLoadScript(\"vega-embed\", \"6\"))\n",
       "        .catch(showError)\n",
       "        .then(() => displayChart(vegaEmbed));\n",
       "    }\n",
       "  })({\"config\": {\"axisLeft\": {\"labelFontSize\": 15}, \"axisBottom\": {\"labelFontSize\": 15}}, \"data\": {\"name\": \"data-a299dcf4dfce5343af58d0f4f7c2f1c6\"}, \"mark\": {\"type\": \"bar\"}, \"encoding\": {\"x\": {\"field\": \"repo\", \"sort\": [\"myst-theme\", \"team-compass\", \"jupyterlab-myst\", \"jupyter-book\", \"mystmd.org\", \"mystmd\"], \"type\": \"nominal\"}, \"y\": {\"field\": \"time_open\", \"title\": \"Median Days Open\", \"type\": \"quantitative\"}}, \"title\": \"Time to close for issues closed in the last 90 days\", \"$schema\": \"https://vega.github.io/schema/vega-lite/v5.20.1.json\", \"datasets\": {\"data-a299dcf4dfce5343af58d0f4f7c2f1c6\": [{\"org\": \"jupyter-book\", \"repo\": \"jupyter-book\", \"time_open\": 13.86008101851852, \"org/repo\": \"jupyter-book/jupyter-book\"}, {\"org\": \"jupyter-book\", \"repo\": \"jupyterlab-myst\", \"time_open\": 42.556412037037035, \"org/repo\": \"jupyter-book/jupyterlab-myst\"}, {\"org\": \"jupyter-book\", \"repo\": \"myst-theme\", \"time_open\": 158.4247164351852, \"org/repo\": \"jupyter-book/myst-theme\"}, {\"org\": \"jupyter-book\", \"repo\": \"mystmd\", \"time_open\": 1.412974537037037, \"org/repo\": \"jupyter-book/mystmd\"}, {\"org\": \"jupyter-book\", \"repo\": \"mystmd.org\", \"time_open\": 7.516956018518519, \"org/repo\": \"jupyter-book/mystmd.org\"}, {\"org\": \"jupyter-book\", \"repo\": \"team-compass\", \"time_open\": 118.50491319444444, \"org/repo\": \"jupyter-book/team-compass\"}]}}, {\"mode\": \"vega-lite\"});\n",
       "</script>"
      ],
      "text/plain": [
       "alt.Chart(...)"
      ]
     },
     "execution_count": 21,
     "metadata": {},
     "output_type": "execute_result"
    }
   ],
   "source": [
    "time_open = closed.groupby(['org', 'repo']).agg({'time_open': 'median'}).reset_index()\n",
    "time_open['time_open'] = time_open['time_open'] / (60 * 60 * 24)\n",
    "time_open['org/repo'] = time_open.apply(lambda a: a['org'] + '/' + a['repo'], axis=1)\n",
    "sorted_vals = time_open.sort_values(['org', 'time_open'], ascending=False)['repo'].values\n",
    "alt.Chart(data=time_open, title=f\"Time to close for issues closed in the last {n_days} days\").mark_bar().encode(\n",
    "    x=alt.X('repo', sort=alt.Sort(sorted_vals.tolist())),\n",
    "    y=alt.Y('time_open', title=\"Median Days Open\"),\n",
    ")"
   ]
  },
  {
   "cell_type": "markdown",
   "id": "14cefeac",
   "metadata": {
    "editable": true,
    "papermill": {
     "duration": 0.016603,
     "end_time": "2025-05-17T01:30:39.728039",
     "exception": false,
     "start_time": "2025-05-17T01:30:39.711436",
     "status": "completed"
    },
    "slideshow": {
     "slide_type": ""
    },
    "tags": []
   },
   "source": [
    "## Most-upvoted issues"
   ]
  },
  {
   "cell_type": "code",
   "execution_count": 22,
   "id": "6f5ac4ab",
   "metadata": {
    "editable": true,
    "execution": {
     "iopub.execute_input": "2025-05-17T01:30:39.760453Z",
     "iopub.status.busy": "2025-05-17T01:30:39.760265Z",
     "iopub.status.idle": "2025-05-17T01:30:39.783245Z",
     "shell.execute_reply": "2025-05-17T01:30:39.782594Z"
    },
    "papermill": {
     "duration": 0.040361,
     "end_time": "2025-05-17T01:30:39.784353",
     "exception": false,
     "start_time": "2025-05-17T01:30:39.743992",
     "status": "completed"
    },
    "slideshow": {
     "slide_type": ""
    },
    "tags": [
     "hide_input"
    ]
   },
   "outputs": [
    {
     "data": {
      "application/vnd.jupyter.widget-view+json": {
       "model_id": "22a469f2b65b43f292e112da70b09d35",
       "version_major": 2,
       "version_minor": 0
      },
      "text/plain": [
       "HTML(value='<ul>\\n<li>(35) Support for RISE slides - jupyter-book - <a href=\"https://github.com/jupyter-book/j…"
      ]
     },
     "execution_count": 22,
     "metadata": {},
     "output_type": "execute_result"
    }
   ],
   "source": [
    "thumbsup = issues.query(\"state == 'open'\").sort_values(\"positive\", ascending=False).head(25)\n",
    "thumbsup = thumbsup[[\"title\", \"url\", \"number\", \"positive\", \"repo\"]]\n",
    "\n",
    "text = []\n",
    "for ii, irow in thumbsup.iterrows():\n",
    "    itext = f\"- ({irow['positive']}) {irow['title']} - {irow['repo']} - [#{irow['number']}]({irow['url']})\"\n",
    "    text.append(itext)\n",
    "text = '\\n'.join(text)\n",
    "HTML(markdown(text))"
   ]
  },
  {
   "cell_type": "markdown",
   "id": "bb16d87f",
   "metadata": {
    "editable": true,
    "papermill": {
     "duration": 0.016043,
     "end_time": "2025-05-17T01:30:39.816744",
     "exception": false,
     "start_time": "2025-05-17T01:30:39.800701",
     "status": "completed"
    },
    "slideshow": {
     "slide_type": ""
    },
    "tags": []
   },
   "source": [
    "## Commenters across repositories\n",
    "\n",
    "These are commenters across all issues and pull requests in the last several days.\n",
    "These are colored by the commenter's association with the organization. For information\n",
    "about what these associations mean, [see this StackOverflow post](https://stackoverflow.com/a/28866914/1927102)."
   ]
  },
  {
   "cell_type": "code",
   "execution_count": 23,
   "id": "7b3bef93",
   "metadata": {
    "editable": true,
    "execution": {
     "iopub.execute_input": "2025-05-17T01:30:39.851563Z",
     "iopub.status.busy": "2025-05-17T01:30:39.851366Z",
     "iopub.status.idle": "2025-05-17T01:30:39.863368Z",
     "shell.execute_reply": "2025-05-17T01:30:39.862702Z"
    },
    "papermill": {
     "duration": 0.031177,
     "end_time": "2025-05-17T01:30:39.864398",
     "exception": false,
     "start_time": "2025-05-17T01:30:39.833221",
     "status": "completed"
    },
    "slideshow": {
     "slide_type": ""
    },
    "tags": [
     "remove_cell"
    ]
   },
   "outputs": [],
   "source": [
    "commentors = (\n",
    "    comments\n",
    "    .query(\"created_at > @start_date and created_at < @stop_date\")\n",
    "    .groupby(['org', 'repo', 'login', 'author_association'])\n",
    "    .count().rename(columns={'id_issue': 'count'})['count']\n",
    "    .reset_index()\n",
    "    .sort_values(['org', 'count'], ascending=False)\n",
    ")"
   ]
  },
  {
   "cell_type": "code",
   "execution_count": 24,
   "id": "e397bfff",
   "metadata": {
    "editable": true,
    "execution": {
     "iopub.execute_input": "2025-05-17T01:30:39.897516Z",
     "iopub.status.busy": "2025-05-17T01:30:39.897140Z",
     "iopub.status.idle": "2025-05-17T01:30:39.921724Z",
     "shell.execute_reply": "2025-05-17T01:30:39.921185Z"
    },
    "papermill": {
     "duration": 0.0422,
     "end_time": "2025-05-17T01:30:39.922711",
     "exception": false,
     "start_time": "2025-05-17T01:30:39.880511",
     "status": "completed"
    },
    "slideshow": {
     "slide_type": ""
    },
    "tags": [
     "hide_input"
    ]
   },
   "outputs": [
    {
     "data": {
      "text/html": [
       "\n",
       "<style>\n",
       "  #altair-viz-bca11cbb64654c108f37c84b5825c179.vega-embed {\n",
       "    width: 100%;\n",
       "    display: flex;\n",
       "  }\n",
       "\n",
       "  #altair-viz-bca11cbb64654c108f37c84b5825c179.vega-embed details,\n",
       "  #altair-viz-bca11cbb64654c108f37c84b5825c179.vega-embed details summary {\n",
       "    position: relative;\n",
       "  }\n",
       "</style>\n",
       "<div id=\"altair-viz-bca11cbb64654c108f37c84b5825c179\"></div>\n",
       "<script type=\"text/javascript\">\n",
       "  var VEGA_DEBUG = (typeof VEGA_DEBUG == \"undefined\") ? {} : VEGA_DEBUG;\n",
       "  (function(spec, embedOpt){\n",
       "    let outputDiv = document.currentScript.previousElementSibling;\n",
       "    if (outputDiv.id !== \"altair-viz-bca11cbb64654c108f37c84b5825c179\") {\n",
       "      outputDiv = document.getElementById(\"altair-viz-bca11cbb64654c108f37c84b5825c179\");\n",
       "    }\n",
       "\n",
       "    const paths = {\n",
       "      \"vega\": \"https://cdn.jsdelivr.net/npm/vega@5?noext\",\n",
       "      \"vega-lib\": \"https://cdn.jsdelivr.net/npm/vega-lib?noext\",\n",
       "      \"vega-lite\": \"https://cdn.jsdelivr.net/npm/vega-lite@5.20.1?noext\",\n",
       "      \"vega-embed\": \"https://cdn.jsdelivr.net/npm/vega-embed@6?noext\",\n",
       "    };\n",
       "\n",
       "    function maybeLoadScript(lib, version) {\n",
       "      var key = `${lib.replace(\"-\", \"\")}_version`;\n",
       "      return (VEGA_DEBUG[key] == version) ?\n",
       "        Promise.resolve(paths[lib]) :\n",
       "        new Promise(function(resolve, reject) {\n",
       "          var s = document.createElement('script');\n",
       "          document.getElementsByTagName(\"head\")[0].appendChild(s);\n",
       "          s.async = true;\n",
       "          s.onload = () => {\n",
       "            VEGA_DEBUG[key] = version;\n",
       "            return resolve(paths[lib]);\n",
       "          };\n",
       "          s.onerror = () => reject(`Error loading script: ${paths[lib]}`);\n",
       "          s.src = paths[lib];\n",
       "        });\n",
       "    }\n",
       "\n",
       "    function showError(err) {\n",
       "      outputDiv.innerHTML = `<div class=\"error\" style=\"color:red;\">${err}</div>`;\n",
       "      throw err;\n",
       "    }\n",
       "\n",
       "    function displayChart(vegaEmbed) {\n",
       "      vegaEmbed(outputDiv, spec, embedOpt)\n",
       "        .catch(err => showError(`Javascript Error: ${err.message}<br>This usually means there's a typo in your chart specification. See the javascript console for the full traceback.`));\n",
       "    }\n",
       "\n",
       "    if(typeof define === \"function\" && define.amd) {\n",
       "      requirejs.config({paths});\n",
       "      let deps = [\"vega-embed\"];\n",
       "      require(deps, displayChart, err => showError(`Error loading script: ${err.message}`));\n",
       "    } else {\n",
       "      maybeLoadScript(\"vega\", \"5\")\n",
       "        .then(() => maybeLoadScript(\"vega-lite\", \"5.20.1\"))\n",
       "        .then(() => maybeLoadScript(\"vega-embed\", \"6\"))\n",
       "        .catch(showError)\n",
       "        .then(() => displayChart(vegaEmbed));\n",
       "    }\n",
       "  })({\"config\": {\"axisLeft\": {\"labelFontSize\": 15}, \"axisBottom\": {\"labelFontSize\": 15}}, \"hconcat\": [{\"mark\": {\"type\": \"bar\"}, \"encoding\": {\"color\": {\"field\": \"author_association\", \"scale\": {\"domain\": [\"MEMBER\", \"CONTRIBUTOR\", \"COLLABORATOR\", \"NONE\"], \"range\": [\"rgb(211.82745098039214, 211.82745098039214, 211.82745098039214)\", \"rgb(166.98562091503268, 229.89803921568628, 166.98562091503268)\", \"rgb(96.37647058823529, 192.75294117647059, 96.37647058823529)\", \"rgb(0.0, 100.3921568627451, 0.0)\"]}, \"type\": \"nominal\"}, \"x\": {\"field\": \"login\", \"type\": \"nominal\"}, \"y\": {\"field\": \"count\", \"type\": \"quantitative\"}}, \"title\": \"Top 50 commentors for ('jupyter-book',) in the last 90 days\"}], \"data\": {\"name\": \"data-c0f26612186c5034245c9cc4f0548cec\"}, \"$schema\": \"https://vega.github.io/schema/vega-lite/v5.20.1.json\", \"datasets\": {\"data-c0f26612186c5034245c9cc4f0548cec\": [{\"login\": \"agoose77\", \"count\": 57, \"author_association\": \"MEMBER\"}, {\"login\": \"rowanc1\", \"count\": 53, \"author_association\": \"MEMBER\"}, {\"login\": \"choldgraf\", \"count\": 45, \"author_association\": \"MEMBER\"}, {\"login\": \"da5nsy\", \"count\": 17, \"author_association\": \"NONE\"}, {\"login\": \"parmentelat\", \"count\": 12, \"author_association\": \"CONTRIBUTOR\"}, {\"login\": \"paugier\", \"count\": 12, \"author_association\": \"NONE\"}, {\"login\": \"fperez\", \"count\": 12, \"author_association\": \"CONTRIBUTOR\"}, {\"login\": \"fwkoch\", \"count\": 10, \"author_association\": \"MEMBER\"}, {\"login\": \"stevejpurves\", \"count\": 10, \"author_association\": \"MEMBER\"}, {\"login\": \"JimMadge\", \"count\": 9, \"author_association\": \"CONTRIBUTOR\"}, {\"login\": \"krassowski\", \"count\": 9, \"author_association\": \"NONE\"}, {\"login\": \"stefanv\", \"count\": 6, \"author_association\": \"COLLABORATOR\"}, {\"login\": \"acocac\", \"count\": 6, \"author_association\": \"NONE\"}, {\"login\": \"mfisher87\", \"count\": 6, \"author_association\": \"NONE\"}, {\"login\": \"ryanlovett\", \"count\": 5, \"author_association\": \"NONE\"}, {\"login\": \"FreekPols\", \"count\": 5, \"author_association\": \"NONE\"}, {\"login\": \"felimomo\", \"count\": 4, \"author_association\": \"NONE\"}, {\"login\": \"michaelaye\", \"count\": 4, \"author_association\": \"NONE\"}, {\"login\": \"paulskrzypczyk\", \"count\": 4, \"author_association\": \"NONE\"}, {\"login\": \"reyman\", \"count\": 3, \"author_association\": \"NONE\"}, {\"login\": \"jan-david-fischbach\", \"count\": 3, \"author_association\": \"CONTRIBUTOR\"}, {\"login\": \"vangeest\", \"count\": 3, \"author_association\": \"NONE\"}, {\"login\": \"mstoll1602\", \"count\": 3, \"author_association\": \"NONE\"}, {\"login\": \"mmcky\", \"count\": 3, \"author_association\": \"CONTRIBUTOR\"}, {\"login\": \"nthiery\", \"count\": 3, \"author_association\": \"CONTRIBUTOR\"}, {\"login\": \"microcoder\", \"count\": 2, \"author_association\": \"NONE\"}, {\"login\": \"ulthiel\", \"count\": 2, \"author_association\": \"NONE\"}, {\"login\": \"andrader\", \"count\": 2, \"author_association\": \"NONE\"}, {\"login\": \"dengzeyu\", \"count\": 2, \"author_association\": \"NONE\"}, {\"login\": \"itcarroll\", \"count\": 2, \"author_association\": \"NONE\"}, {\"login\": \"Joecstarr\", \"count\": 2, \"author_association\": \"NONE\"}, {\"login\": \"manimaransudha\", \"count\": 2, \"author_association\": \"NONE\"}, {\"login\": \"Joseph-Hui\", \"count\": 2, \"author_association\": \"NONE\"}, {\"login\": \"AllanChain\", \"count\": 1, \"author_association\": \"NONE\"}, {\"login\": \"Arielle-Bennett\", \"count\": 1, \"author_association\": \"NONE\"}, {\"login\": \"hadesto\", \"count\": 1, \"author_association\": \"NONE\"}, {\"login\": \"giswqs\", \"count\": 1, \"author_association\": \"NONE\"}, {\"login\": \"glaebhoerl\", \"count\": 1, \"author_association\": \"NONE\"}, {\"login\": \"cpraveen\", \"count\": 1, \"author_association\": \"NONE\"}, {\"login\": \"atharvaaalok\", \"count\": 1, \"author_association\": \"NONE\"}, {\"login\": \"arm61\", \"count\": 1, \"author_association\": \"NONE\"}, {\"login\": \"denis-bz\", \"count\": 1, \"author_association\": \"NONE\"}, {\"login\": \"KirstieJane\", \"count\": 1, \"author_association\": \"NONE\"}, {\"login\": \"BodoBurger\", \"count\": 1, \"author_association\": \"NONE\"}, {\"login\": \"ELind77\", \"count\": 1, \"author_association\": \"NONE\"}, {\"login\": \"MimoHasPurpose\", \"count\": 1, \"author_association\": \"NONE\"}, {\"login\": \"TheLittleRock\", \"count\": 1, \"author_association\": \"NONE\"}, {\"login\": \"StefanRR\", \"count\": 1, \"author_association\": \"CONTRIBUTOR\"}, {\"login\": \"Paul-Aime\", \"count\": 1, \"author_association\": \"NONE\"}, {\"login\": \"afeld\", \"count\": 1, \"author_association\": \"NONE\"}]}}, {\"mode\": \"vega-lite\"});\n",
       "</script>"
      ],
      "text/plain": [
       "alt.HConcatChart(...)"
      ]
     },
     "execution_count": 24,
     "metadata": {},
     "output_type": "execute_result"
    }
   ],
   "source": [
    "n_plot = 50\n",
    "charts = []\n",
    "for ii, (iorg, idata) in enumerate(commentors.groupby(['org'])):\n",
    "    title = f\"Top {n_plot} commentors for {iorg} in the last {n_days} days\"\n",
    "    idata = idata.groupby('login', as_index=False).agg({'count': 'sum', 'author_association': 'first'})\n",
    "    idata = idata.sort_values('count', ascending=False).head(n_plot)\n",
    "    ch = alt.Chart(data=idata.head(n_plot), title=title).mark_bar().encode(\n",
    "        x='login',\n",
    "        y='count',\n",
    "        color=alt.Color('author_association', scale=alt.Scale(domain=author_types, range=author_colors))\n",
    "    )\n",
    "    charts.append(ch)\n",
    "alt.hconcat(*charts)"
   ]
  },
  {
   "cell_type": "markdown",
   "id": "c1bddbda",
   "metadata": {
    "editable": true,
    "papermill": {
     "duration": 0.016345,
     "end_time": "2025-05-17T01:30:39.955178",
     "exception": false,
     "start_time": "2025-05-17T01:30:39.938833",
     "status": "completed"
    },
    "slideshow": {
     "slide_type": ""
    },
    "tags": []
   },
   "source": [
    "## First responders\n",
    "\n",
    "First responders are the first people to respond to a new issue in one of the repositories.\n",
    "The following plots show first responders for recently-created issues."
   ]
  },
  {
   "cell_type": "code",
   "execution_count": 25,
   "id": "d58ad7cf",
   "metadata": {
    "editable": true,
    "execution": {
     "iopub.execute_input": "2025-05-17T01:30:39.989875Z",
     "iopub.status.busy": "2025-05-17T01:30:39.989660Z",
     "iopub.status.idle": "2025-05-17T01:30:40.047341Z",
     "shell.execute_reply": "2025-05-17T01:30:40.046692Z"
    },
    "papermill": {
     "duration": 0.07621,
     "end_time": "2025-05-17T01:30:40.048346",
     "exception": false,
     "start_time": "2025-05-17T01:30:39.972136",
     "status": "completed"
    },
    "slideshow": {
     "slide_type": ""
    },
    "tags": [
     "remove_cell"
    ]
   },
   "outputs": [],
   "source": [
    "first_comments = []\n",
    "latest_comments = comments.query(\"created_at > @start_date\")\n",
    "for (org, repo, issue_id), i_comments in latest_comments.groupby(['org', 'repo', 'id_issue']):\n",
    "    ix_min = pd.to_datetime(i_comments['created_at']).idxmin()\n",
    "    first_comment = i_comments.loc[ix_min]\n",
    "    if isinstance(first_comment, pd.DataFrame):\n",
    "        first_comment = first_comment.iloc[0]\n",
    "    first_comments.append(first_comment)\n",
    "first_comments = pd.concat(first_comments, axis=1).T\n",
    "\n",
    "# Make up counts for viz\n",
    "first_responder_counts = first_comments.groupby(['org', 'login', 'author_association'], as_index=False).\\\n",
    "    count().rename(columns={'id_issue': 'n_first_responses'}).sort_values(['org', 'n_first_responses'], ascending=False)\n"
   ]
  },
  {
   "cell_type": "code",
   "execution_count": 26,
   "id": "08badd40",
   "metadata": {
    "editable": true,
    "execution": {
     "iopub.execute_input": "2025-05-17T01:30:40.081889Z",
     "iopub.status.busy": "2025-05-17T01:30:40.081670Z",
     "iopub.status.idle": "2025-05-17T01:30:40.104341Z",
     "shell.execute_reply": "2025-05-17T01:30:40.103813Z"
    },
    "papermill": {
     "duration": 0.040504,
     "end_time": "2025-05-17T01:30:40.105350",
     "exception": false,
     "start_time": "2025-05-17T01:30:40.064846",
     "status": "completed"
    },
    "slideshow": {
     "slide_type": ""
    },
    "tags": [
     "hide_input"
    ]
   },
   "outputs": [
    {
     "data": {
      "text/html": [
       "\n",
       "<style>\n",
       "  #altair-viz-d6f2931acbf04c5388e2de07b99de6ba.vega-embed {\n",
       "    width: 100%;\n",
       "    display: flex;\n",
       "  }\n",
       "\n",
       "  #altair-viz-d6f2931acbf04c5388e2de07b99de6ba.vega-embed details,\n",
       "  #altair-viz-d6f2931acbf04c5388e2de07b99de6ba.vega-embed details summary {\n",
       "    position: relative;\n",
       "  }\n",
       "</style>\n",
       "<div id=\"altair-viz-d6f2931acbf04c5388e2de07b99de6ba\"></div>\n",
       "<script type=\"text/javascript\">\n",
       "  var VEGA_DEBUG = (typeof VEGA_DEBUG == \"undefined\") ? {} : VEGA_DEBUG;\n",
       "  (function(spec, embedOpt){\n",
       "    let outputDiv = document.currentScript.previousElementSibling;\n",
       "    if (outputDiv.id !== \"altair-viz-d6f2931acbf04c5388e2de07b99de6ba\") {\n",
       "      outputDiv = document.getElementById(\"altair-viz-d6f2931acbf04c5388e2de07b99de6ba\");\n",
       "    }\n",
       "\n",
       "    const paths = {\n",
       "      \"vega\": \"https://cdn.jsdelivr.net/npm/vega@5?noext\",\n",
       "      \"vega-lib\": \"https://cdn.jsdelivr.net/npm/vega-lib?noext\",\n",
       "      \"vega-lite\": \"https://cdn.jsdelivr.net/npm/vega-lite@5.20.1?noext\",\n",
       "      \"vega-embed\": \"https://cdn.jsdelivr.net/npm/vega-embed@6?noext\",\n",
       "    };\n",
       "\n",
       "    function maybeLoadScript(lib, version) {\n",
       "      var key = `${lib.replace(\"-\", \"\")}_version`;\n",
       "      return (VEGA_DEBUG[key] == version) ?\n",
       "        Promise.resolve(paths[lib]) :\n",
       "        new Promise(function(resolve, reject) {\n",
       "          var s = document.createElement('script');\n",
       "          document.getElementsByTagName(\"head\")[0].appendChild(s);\n",
       "          s.async = true;\n",
       "          s.onload = () => {\n",
       "            VEGA_DEBUG[key] = version;\n",
       "            return resolve(paths[lib]);\n",
       "          };\n",
       "          s.onerror = () => reject(`Error loading script: ${paths[lib]}`);\n",
       "          s.src = paths[lib];\n",
       "        });\n",
       "    }\n",
       "\n",
       "    function showError(err) {\n",
       "      outputDiv.innerHTML = `<div class=\"error\" style=\"color:red;\">${err}</div>`;\n",
       "      throw err;\n",
       "    }\n",
       "\n",
       "    function displayChart(vegaEmbed) {\n",
       "      vegaEmbed(outputDiv, spec, embedOpt)\n",
       "        .catch(err => showError(`Javascript Error: ${err.message}<br>This usually means there's a typo in your chart specification. See the javascript console for the full traceback.`));\n",
       "    }\n",
       "\n",
       "    if(typeof define === \"function\" && define.amd) {\n",
       "      requirejs.config({paths});\n",
       "      let deps = [\"vega-embed\"];\n",
       "      require(deps, displayChart, err => showError(`Error loading script: ${err.message}`));\n",
       "    } else {\n",
       "      maybeLoadScript(\"vega\", \"5\")\n",
       "        .then(() => maybeLoadScript(\"vega-lite\", \"5.20.1\"))\n",
       "        .then(() => maybeLoadScript(\"vega-embed\", \"6\"))\n",
       "        .catch(showError)\n",
       "        .then(() => displayChart(vegaEmbed));\n",
       "    }\n",
       "  })({\"config\": {\"axisLeft\": {\"labelFontSize\": 15}, \"axisBottom\": {\"labelFontSize\": 15}}, \"data\": {\"name\": \"data-d053079a95f573749512a49fb8aae7ef\"}, \"mark\": {\"type\": \"bar\"}, \"encoding\": {\"color\": {\"field\": \"author_association\", \"scale\": {\"domain\": [\"MEMBER\", \"CONTRIBUTOR\", \"COLLABORATOR\", \"NONE\"], \"range\": [\"rgb(211.82745098039214, 211.82745098039214, 211.82745098039214)\", \"rgb(166.98562091503268, 229.89803921568628, 166.98562091503268)\", \"rgb(96.37647058823529, 192.75294117647059, 96.37647058823529)\", \"rgb(0.0, 100.3921568627451, 0.0)\"]}, \"type\": \"nominal\"}, \"x\": {\"field\": \"login\", \"type\": \"nominal\"}, \"y\": {\"field\": \"n_first_responses\", \"type\": \"quantitative\"}}, \"title\": \"Top 50 first responders for jupyter-book in the last 90 days\", \"$schema\": \"https://vega.github.io/schema/vega-lite/v5.20.1.json\", \"datasets\": {\"data-d053079a95f573749512a49fb8aae7ef\": [{\"login\": \"agoose77\", \"n_first_responses\": 23, \"author_association\": \"MEMBER\"}, {\"login\": \"rowanc1\", \"n_first_responses\": 23, \"author_association\": \"MEMBER\"}, {\"login\": \"choldgraf\", \"n_first_responses\": 14, \"author_association\": \"MEMBER\"}, {\"login\": \"fperez\", \"n_first_responses\": 6, \"author_association\": \"CONTRIBUTOR\"}, {\"login\": \"fwkoch\", \"n_first_responses\": 5, \"author_association\": \"MEMBER\"}, {\"login\": \"FreekPols\", \"n_first_responses\": 4, \"author_association\": \"NONE\"}, {\"login\": \"da5nsy\", \"n_first_responses\": 4, \"author_association\": \"NONE\"}, {\"login\": \"parmentelat\", \"n_first_responses\": 4, \"author_association\": \"CONTRIBUTOR\"}, {\"login\": \"stevejpurves\", \"n_first_responses\": 3, \"author_association\": \"MEMBER\"}, {\"login\": \"krassowski\", \"n_first_responses\": 2, \"author_association\": \"NONE\"}, {\"login\": \"Joseph-Hui\", \"n_first_responses\": 2, \"author_association\": \"NONE\"}, {\"login\": \"JimMadge\", \"n_first_responses\": 2, \"author_association\": \"CONTRIBUTOR\"}, {\"login\": \"ulthiel\", \"n_first_responses\": 2, \"author_association\": \"NONE\"}, {\"login\": \"michaelaye\", \"n_first_responses\": 2, \"author_association\": \"NONE\"}, {\"login\": \"arm61\", \"n_first_responses\": 1, \"author_association\": \"NONE\"}, {\"login\": \"andrader\", \"n_first_responses\": 1, \"author_association\": \"NONE\"}, {\"login\": \"afeld\", \"n_first_responses\": 1, \"author_association\": \"NONE\"}, {\"login\": \"acocac\", \"n_first_responses\": 1, \"author_association\": \"NONE\"}, {\"login\": \"Paul-Aime\", \"n_first_responses\": 1, \"author_association\": \"NONE\"}, {\"login\": \"TheLittleRock\", \"n_first_responses\": 1, \"author_association\": \"NONE\"}, {\"login\": \"MimoHasPurpose\", \"n_first_responses\": 1, \"author_association\": \"NONE\"}, {\"login\": \"Joecstarr\", \"n_first_responses\": 1, \"author_association\": \"NONE\"}, {\"login\": \"BodoBurger\", \"n_first_responses\": 1, \"author_association\": \"NONE\"}, {\"login\": \"Gijsreyn\", \"n_first_responses\": 1, \"author_association\": \"NONE\"}, {\"login\": \"jmelo11\", \"n_first_responses\": 1, \"author_association\": \"NONE\"}, {\"login\": \"holmrenser\", \"n_first_responses\": 1, \"author_association\": \"NONE\"}, {\"login\": \"hadesto\", \"n_first_responses\": 1, \"author_association\": \"NONE\"}, {\"login\": \"felimomo\", \"n_first_responses\": 1, \"author_association\": \"NONE\"}, {\"login\": \"glaebhoerl\", \"n_first_responses\": 1, \"author_association\": \"NONE\"}, {\"login\": \"giswqs\", \"n_first_responses\": 1, \"author_association\": \"NONE\"}, {\"login\": \"kburchfiel\", \"n_first_responses\": 1, \"author_association\": \"NONE\"}, {\"login\": \"juhuebner\", \"n_first_responses\": 1, \"author_association\": \"NONE\"}, {\"login\": \"jose-neta\", \"n_first_responses\": 1, \"author_association\": \"NONE\"}, {\"login\": \"joelmiller\", \"n_first_responses\": 1, \"author_association\": \"NONE\"}, {\"login\": \"jan-david-fischbach\", \"n_first_responses\": 1, \"author_association\": \"CONTRIBUTOR\"}, {\"login\": \"mmcky\", \"n_first_responses\": 1, \"author_association\": \"NONE\"}, {\"login\": \"mforbes\", \"n_first_responses\": 1, \"author_association\": \"NONE\"}, {\"login\": \"mfisher87\", \"n_first_responses\": 1, \"author_association\": \"NONE\"}, {\"login\": \"paulskrzypczyk\", \"n_first_responses\": 1, \"author_association\": \"NONE\"}, {\"login\": \"paugier\", \"n_first_responses\": 1, \"author_association\": \"NONE\"}, {\"login\": \"ntluong95\", \"n_first_responses\": 1, \"author_association\": \"NONE\"}, {\"login\": \"romanlutz\", \"n_first_responses\": 1, \"author_association\": \"NONE\"}, {\"login\": \"simbilod\", \"n_first_responses\": 1, \"author_association\": \"NONE\"}, {\"login\": \"ryanlovett\", \"n_first_responses\": 1, \"author_association\": \"NONE\"}, {\"login\": \"stefanv\", \"n_first_responses\": 1, \"author_association\": \"NONE\"}, {\"login\": \"unsektor\", \"n_first_responses\": 1, \"author_association\": \"NONE\"}]}}, {\"mode\": \"vega-lite\"});\n",
       "</script>"
      ],
      "text/plain": [
       "alt.Chart(...)"
      ]
     },
     "execution_count": 26,
     "metadata": {},
     "output_type": "execute_result"
    }
   ],
   "source": [
    "n_plot = 50\n",
    "\n",
    "title = f\"Top {n_plot} first responders for {github_org} in the last {n_days} days\"\n",
    "idata = first_responder_counts.groupby('login', as_index=False).agg({'n_first_responses': 'sum', 'author_association': 'first'})\n",
    "idata = idata.sort_values('n_first_responses', ascending=False).head(n_plot)\n",
    "ch = alt.Chart(data=idata.head(n_plot), title=title).mark_bar().encode(\n",
    "    x='login',\n",
    "    y='n_first_responses',\n",
    "    color=alt.Color('author_association', scale=alt.Scale(domain=author_types, range=author_colors))\n",
    ")\n",
    "ch"
   ]
  },
  {
   "cell_type": "markdown",
   "id": "4219fd2a",
   "metadata": {
    "editable": true,
    "papermill": {
     "duration": 0.016453,
     "end_time": "2025-05-17T01:30:40.138354",
     "exception": false,
     "start_time": "2025-05-17T01:30:40.121901",
     "status": "completed"
    },
    "slideshow": {
     "slide_type": ""
    },
    "tags": []
   },
   "source": [
    "## Recent activity\n",
    "\n",
    "### A list of merged PRs by project\n",
    "\n",
    "Below is a tabbed readout of recently-merged PRs. Check out the title to get an idea for what they\n",
    "implemented, and be sure to thank the PR author for their hard work!"
   ]
  },
  {
   "cell_type": "code",
   "execution_count": 27,
   "id": "2352e48b",
   "metadata": {
    "editable": true,
    "execution": {
     "iopub.execute_input": "2025-05-17T01:30:40.173283Z",
     "iopub.status.busy": "2025-05-17T01:30:40.173086Z",
     "iopub.status.idle": "2025-05-17T01:30:40.263677Z",
     "shell.execute_reply": "2025-05-17T01:30:40.262984Z"
    },
    "papermill": {
     "duration": 0.115486,
     "end_time": "2025-05-17T01:30:40.270867",
     "exception": false,
     "start_time": "2025-05-17T01:30:40.155381",
     "status": "completed"
    },
    "slideshow": {
     "slide_type": ""
    },
    "tags": [
     "hide_input"
    ]
   },
   "outputs": [
    {
     "data": {
      "application/vnd.jupyter.widget-view+json": {
       "model_id": "e54bd2ee8aba4ff68ff9374b28f3bd6c",
       "version_major": 2,
       "version_minor": 0
      },
      "text/plain": [
       "Tab(children=(HTML(value='<h4>Closed PRs for repo: <a href=\"https://github.com/jupyter-book/jupyter-book\">jupy…"
      ]
     },
     "execution_count": 27,
     "metadata": {},
     "output_type": "execute_result"
    }
   ],
   "source": [
    "tabs = widgets.Tab(children=[])\n",
    "\n",
    "for ii, ((org, repo), imerged) in enumerate(merged.query(\"repo in @use_repos\").groupby(['org', 'repo'])):\n",
    "    merged_by = {}\n",
    "    pr_by = {}\n",
    "    issue_md = []\n",
    "    issue_md.append(f\"#### Closed PRs for repo: [{org}/{repo}](https://github.com/{github_org}/{repo})\")\n",
    "    issue_md.append(\"\")\n",
    "    issue_md.append(f\"##### \")\n",
    "\n",
    "    for _, ipr in imerged.iterrows():\n",
    "        user_name = ipr['login']\n",
    "        user_url = author_url(user_name)\n",
    "        pr_number = ipr['number']\n",
    "        pr_html = ipr['url']\n",
    "        pr_title = ipr['title']\n",
    "        pr_closedby = ipr['merged_by']\n",
    "        pr_closedby_url = f\"https://github.com/{pr_closedby}\"\n",
    "        if user_name not in pr_by:\n",
    "            pr_by[user_name] = 1\n",
    "        else:\n",
    "            pr_by[user_name] += 1\n",
    "\n",
    "        if pr_closedby not in merged_by:\n",
    "            merged_by[pr_closedby] = 1\n",
    "        else:\n",
    "            merged_by[pr_closedby] += 1\n",
    "        text = f\"* [(#{pr_number})]({pr_html}): _{pr_title}_ by **[@{user_name}]({user_url})** merged by **[@{pr_closedby}]({pr_closedby_url})**\"\n",
    "        issue_md.append(text)\n",
    "    \n",
    "    issue_md.append('')\n",
    "    markdown_html = markdown('\\n'.join(issue_md))\n",
    "\n",
    "    children = list(tabs.children)\n",
    "    children.append(HTML(markdown_html))\n",
    "    tabs.children = tuple(children)\n",
    "    tabs.set_title(ii, repo)\n",
    "tabs"
   ]
  },
  {
   "cell_type": "markdown",
   "id": "fa3ce022",
   "metadata": {
    "editable": true,
    "papermill": {
     "duration": 0.016887,
     "end_time": "2025-05-17T01:30:40.304855",
     "exception": false,
     "start_time": "2025-05-17T01:30:40.287968",
     "status": "completed"
    },
    "slideshow": {
     "slide_type": ""
    },
    "tags": []
   },
   "source": [
    "### A list of recent issues\n",
    "\n",
    "Below is a list of issues with recent activity in each repository. If they seem of interest\n",
    "to you, click on their links and jump in to participate!"
   ]
  },
  {
   "cell_type": "code",
   "execution_count": 28,
   "id": "21c48789",
   "metadata": {
    "editable": true,
    "execution": {
     "iopub.execute_input": "2025-05-17T01:30:40.339451Z",
     "iopub.status.busy": "2025-05-17T01:30:40.339082Z",
     "iopub.status.idle": "2025-05-17T01:30:40.349896Z",
     "shell.execute_reply": "2025-05-17T01:30:40.349356Z"
    },
    "papermill": {
     "duration": 0.029259,
     "end_time": "2025-05-17T01:30:40.350858",
     "exception": false,
     "start_time": "2025-05-17T01:30:40.321599",
     "status": "completed"
    },
    "slideshow": {
     "slide_type": ""
    },
    "tags": [
     "remove_cell"
    ]
   },
   "outputs": [],
   "source": [
    "# Add comment count data to issues and PRs\n",
    "comment_counts = (\n",
    "    comments\n",
    "    .query(\"created_at > @start_date and created_at < @stop_date\")\n",
    "    .groupby(['org', 'repo', 'id_issue'])\n",
    "    .count().iloc[:, 0].to_frame()\n",
    ")\n",
    "comment_counts.columns = ['n_comments']\n",
    "comment_counts = comment_counts.reset_index()"
   ]
  },
  {
   "cell_type": "code",
   "execution_count": 29,
   "id": "328f125e",
   "metadata": {
    "editable": true,
    "execution": {
     "iopub.execute_input": "2025-05-17T01:30:40.387577Z",
     "iopub.status.busy": "2025-05-17T01:30:40.387226Z",
     "iopub.status.idle": "2025-05-17T01:30:40.489568Z",
     "shell.execute_reply": "2025-05-17T01:30:40.489045Z"
    },
    "papermill": {
     "duration": 0.122482,
     "end_time": "2025-05-17T01:30:40.490619",
     "exception": false,
     "start_time": "2025-05-17T01:30:40.368137",
     "status": "completed"
    },
    "slideshow": {
     "slide_type": ""
    },
    "tags": [
     "hide_input"
    ],
    "toc-hr-collapsed": false
   },
   "outputs": [
    {
     "data": {
      "text/markdown": [
       "Here are the top 5 active issues in each repository in the last 90 days"
      ],
      "text/plain": [
       "<IPython.core.display.Markdown object>"
      ]
     },
     "metadata": {},
     "output_type": "display_data"
    },
    {
     "data": {
      "application/vnd.jupyter.widget-view+json": {
       "model_id": "b27a021e3f89483ea1dac04871f89664",
       "version_major": 2,
       "version_minor": 0
      },
      "text/plain": [
       "Tab(children=(HTML(value='<h5><a href=\"https://github.com/jupyter-book/jupyter-book\">jupyter-book/jupyter-book…"
      ]
     },
     "metadata": {},
     "output_type": "display_data"
    }
   ],
   "source": [
    "n_plot = 5\n",
    "tabs = widgets.Tab(children=[])\n",
    "\n",
    "for ii, (repo, i_issues) in enumerate(comment_counts.query(\"repo in @use_repos\").groupby('repo')):\n",
    "    \n",
    "    issue_md = []\n",
    "    issue_md.append(\"\")\n",
    "    issue_md.append(f\"##### [{github_org}/{repo}](https://github.com/{github_org}/{repo})\")\n",
    "\n",
    "    top_issues = i_issues.sort_values('n_comments', ascending=False).head(n_plot)\n",
    "    top_issue_list = pd.merge(issues, top_issues, left_on=['org', 'repo', 'id_issue'], right_on=['org', 'repo', 'id_issue'])\n",
    "    for _, issue in top_issue_list.sort_values('n_comments', ascending=False).head(n_plot).iterrows():\n",
    "        user_name = issue['login']\n",
    "        user_url = author_url(user_name)\n",
    "        issue_number = issue['number']\n",
    "        issue_html = issue['url']\n",
    "        issue_title = issue['title']\n",
    "\n",
    "        text = f\"* [(#{issue_number})]({issue_html}): _{issue_title}_ by **[@{user_name}]({user_url})**\"\n",
    "        issue_md.append(text)\n",
    "\n",
    "    issue_md.append('')\n",
    "    md_html = HTML(markdown('\\n'.join(issue_md)))\n",
    "\n",
    "    children = list(tabs.children)\n",
    "    children.append(HTML(markdown('\\n'.join(issue_md))))\n",
    "    tabs.children = tuple(children)\n",
    "    tabs.set_title(ii, repo)\n",
    "    \n",
    "display(Markdown(f\"Here are the top {n_plot} active issues in each repository in the last {n_days} days\"))\n",
    "display(tabs)"
   ]
  }
 ],
 "metadata": {
  "kernelspec": {
   "display_name": "Python 3 (ipykernel)",
   "language": "python",
   "name": "python3"
  },
  "language_info": {
   "codemirror_mode": {
    "name": "ipython",
    "version": 3
   },
   "file_extension": ".py",
   "mimetype": "text/x-python",
   "name": "python",
   "nbconvert_exporter": "python",
   "pygments_lexer": "ipython3",
   "version": "3.9.22"
  },
  "papermill": {
   "default_parameters": {},
   "duration": 5.853956,
   "end_time": "2025-05-17T01:30:40.826321",
   "environment_variables": {},
   "exception": null,
   "input_path": "./templates/org_report.ipynb",
   "output_path": "generated/book/jupyter-book.ipynb",
   "parameters": {
    "github_org": "jupyter-book",
    "n_days": 90
   },
   "start_time": "2025-05-17T01:30:34.972365",
   "version": "2.6.0"
  },
  "widgets": {
   "application/vnd.jupyter.widget-state+json": {
    "state": {
     "065a7a9b02d84372a87b4fb42ec5ead8": {
      "model_module": "@jupyter-widgets/controls",
      "model_module_version": "2.0.0",
      "model_name": "HTMLStyleModel",
      "state": {
       "_model_module": "@jupyter-widgets/controls",
       "_model_module_version": "2.0.0",
       "_model_name": "HTMLStyleModel",
       "_view_count": null,
       "_view_module": "@jupyter-widgets/base",
       "_view_module_version": "2.0.0",
       "_view_name": "StyleView",
       "background": null,
       "description_width": "",
       "font_size": null,
       "text_color": null
      }
     },
     "0c32e1c3d99b43a28767ca345a84d988": {
      "model_module": "@jupyter-widgets/base",
      "model_module_version": "2.0.0",
      "model_name": "LayoutModel",
      "state": {
       "_model_module": "@jupyter-widgets/base",
       "_model_module_version": "2.0.0",
       "_model_name": "LayoutModel",
       "_view_count": null,
       "_view_module": "@jupyter-widgets/base",
       "_view_module_version": "2.0.0",
       "_view_name": "LayoutView",
       "align_content": null,
       "align_items": null,
       "align_self": null,
       "border_bottom": null,
       "border_left": null,
       "border_right": null,
       "border_top": null,
       "bottom": null,
       "display": null,
       "flex": null,
       "flex_flow": null,
       "grid_area": null,
       "grid_auto_columns": null,
       "grid_auto_flow": null,
       "grid_auto_rows": null,
       "grid_column": null,
       "grid_gap": null,
       "grid_row": null,
       "grid_template_areas": null,
       "grid_template_columns": null,
       "grid_template_rows": null,
       "height": null,
       "justify_content": null,
       "justify_items": null,
       "left": null,
       "margin": null,
       "max_height": null,
       "max_width": null,
       "min_height": null,
       "min_width": null,
       "object_fit": null,
       "object_position": null,
       "order": null,
       "overflow": null,
       "padding": null,
       "right": null,
       "top": null,
       "visibility": null,
       "width": null
      }
     },
     "12a985e9157e4c85a50a488f62f078cf": {
      "model_module": "@jupyter-widgets/base",
      "model_module_version": "2.0.0",
      "model_name": "LayoutModel",
      "state": {
       "_model_module": "@jupyter-widgets/base",
       "_model_module_version": "2.0.0",
       "_model_name": "LayoutModel",
       "_view_count": null,
       "_view_module": "@jupyter-widgets/base",
       "_view_module_version": "2.0.0",
       "_view_name": "LayoutView",
       "align_content": null,
       "align_items": null,
       "align_self": null,
       "border_bottom": null,
       "border_left": null,
       "border_right": null,
       "border_top": null,
       "bottom": null,
       "display": null,
       "flex": null,
       "flex_flow": null,
       "grid_area": null,
       "grid_auto_columns": null,
       "grid_auto_flow": null,
       "grid_auto_rows": null,
       "grid_column": null,
       "grid_gap": null,
       "grid_row": null,
       "grid_template_areas": null,
       "grid_template_columns": null,
       "grid_template_rows": null,
       "height": null,
       "justify_content": null,
       "justify_items": null,
       "left": null,
       "margin": null,
       "max_height": null,
       "max_width": null,
       "min_height": null,
       "min_width": null,
       "object_fit": null,
       "object_position": null,
       "order": null,
       "overflow": null,
       "padding": null,
       "right": null,
       "top": null,
       "visibility": null,
       "width": null
      }
     },
     "130604a0caa94862b8d01174736771ba": {
      "model_module": "@jupyter-widgets/controls",
      "model_module_version": "2.0.0",
      "model_name": "HTMLModel",
      "state": {
       "_dom_classes": [],
       "_model_module": "@jupyter-widgets/controls",
       "_model_module_version": "2.0.0",
       "_model_name": "HTMLModel",
       "_view_count": null,
       "_view_module": "@jupyter-widgets/controls",
       "_view_module_version": "2.0.0",
       "_view_name": "HTMLView",
       "description": "",
       "description_allow_html": false,
       "layout": "IPY_MODEL_12a985e9157e4c85a50a488f62f078cf",
       "placeholder": "​",
       "style": "IPY_MODEL_2d63285af05b45c2bac5435e0fc07c4d",
       "tabbable": null,
       "tooltip": null,
       "value": "<h5><a href=\"https://github.com/jupyter-book/mystmd.org\">jupyter-book/mystmd.org</a></h5>\n<ul>\n<li><a href=\"https://github.com/jupyter-book/mystmd.org/issues/22\">(#22)</a>: <em>Update dependencies after adding button-role</em> by <strong><a href=\"https://github.com/jnywong\">@jnywong</a></strong></li>\n<li><a href=\"https://github.com/jupyter-book/mystmd.org/issues/25\">(#25)</a>: <em>We must re-authenticate with Rowan's Vercel project</em> by <strong><a href=\"https://github.com/choldgraf\">@choldgraf</a></strong></li>\n<li><a href=\"https://github.com/jupyter-book/mystmd.org/issues/26\">(#26)</a>: <em>Document our Vercel deployment and share access to the steering council</em> by <strong><a href=\"https://github.com/choldgraf\">@choldgraf</a></strong></li>\n</ul>"
      }
     },
     "14f540eafeb34453972ddccea73f1ba7": {
      "model_module": "@jupyter-widgets/base",
      "model_module_version": "2.0.0",
      "model_name": "LayoutModel",
      "state": {
       "_model_module": "@jupyter-widgets/base",
       "_model_module_version": "2.0.0",
       "_model_name": "LayoutModel",
       "_view_count": null,
       "_view_module": "@jupyter-widgets/base",
       "_view_module_version": "2.0.0",
       "_view_name": "LayoutView",
       "align_content": null,
       "align_items": null,
       "align_self": null,
       "border_bottom": null,
       "border_left": null,
       "border_right": null,
       "border_top": null,
       "bottom": null,
       "display": null,
       "flex": null,
       "flex_flow": null,
       "grid_area": null,
       "grid_auto_columns": null,
       "grid_auto_flow": null,
       "grid_auto_rows": null,
       "grid_column": null,
       "grid_gap": null,
       "grid_row": null,
       "grid_template_areas": null,
       "grid_template_columns": null,
       "grid_template_rows": null,
       "height": null,
       "justify_content": null,
       "justify_items": null,
       "left": null,
       "margin": null,
       "max_height": null,
       "max_width": null,
       "min_height": null,
       "min_width": null,
       "object_fit": null,
       "object_position": null,
       "order": null,
       "overflow": null,
       "padding": null,
       "right": null,
       "top": null,
       "visibility": null,
       "width": null
      }
     },
     "164fa858884c408b97eb937c5112c7c7": {
      "model_module": "@jupyter-widgets/controls",
      "model_module_version": "2.0.0",
      "model_name": "HTMLModel",
      "state": {
       "_dom_classes": [],
       "_model_module": "@jupyter-widgets/controls",
       "_model_module_version": "2.0.0",
       "_model_name": "HTMLModel",
       "_view_count": null,
       "_view_module": "@jupyter-widgets/controls",
       "_view_module_version": "2.0.0",
       "_view_name": "HTMLView",
       "description": "",
       "description_allow_html": false,
       "layout": "IPY_MODEL_2a6c2fd676f34449a981002d6e2a6eeb",
       "placeholder": "​",
       "style": "IPY_MODEL_472c9e675ddb46c3ae02b4961b1d2aec",
       "tabbable": null,
       "tooltip": null,
       "value": "<h4>Closed PRs for repo: <a href=\"https://github.com/jupyter-book/myst-theme\">jupyter-book/myst-theme</a></h4>\n<h5></h5>\n<ul>\n<li><a href=\"https://github.com/jupyter-book/myst-theme/issues/528\">(#528)</a>: <em>🚀 Add <code>awesomebar</code>-like UX to launch button</em> by <strong><a href=\"https://github.com/agoose77\">@agoose77</a></strong> merged by <strong><a href=\"https://github.com/rowanc1\">@rowanc1</a></strong></li>\n<li><a href=\"https://github.com/jupyter-book/myst-theme/issues/531\">(#531)</a>: <em>🛫 Add landing page blocks to book theme</em> by <strong><a href=\"https://github.com/agoose77\">@agoose77</a></strong> merged by <strong><a href=\"https://github.com/rowanc1\">@rowanc1</a></strong></li>\n<li><a href=\"https://github.com/jupyter-book/myst-theme/issues/536\">(#536)</a>: <em>🧱 Drop <code>ContentBlocks</code> and move functionality to <code>MyST</code></em> by <strong><a href=\"https://github.com/agoose77\">@agoose77</a></strong> merged by <strong><a href=\"https://github.com/rowanc1\">@rowanc1</a></strong></li>\n<li><a href=\"https://github.com/jupyter-book/myst-theme/issues/538\">(#538)</a>: <em>〰️ Remove underline from <code>a.button</code></em> by <strong><a href=\"https://github.com/agoose77\">@agoose77</a></strong> merged by <strong><a href=\"https://github.com/agoose77\">@agoose77</a></strong></li>\n<li><a href=\"https://github.com/jupyter-book/myst-theme/issues/539\">(#539)</a>: <em>Version Packages</em> by <strong><a href=\"https://github.com/github-actions[bot]\">@github-actions[bot]</a></strong> merged by <strong><a href=\"https://github.com/rowanc1\">@rowanc1</a></strong></li>\n<li><a href=\"https://github.com/jupyter-book/myst-theme/issues/540\">(#540)</a>: <em>💇 Add support for user stylesheets</em> by <strong><a href=\"https://github.com/agoose77\">@agoose77</a></strong> merged by <strong><a href=\"https://github.com/rowanc1\">@rowanc1</a></strong></li>\n<li><a href=\"https://github.com/jupyter-book/myst-theme/issues/541\">(#541)</a>: <em>ℹ️ Add note about JupyterHub requirements to launch bar</em> by <strong><a href=\"https://github.com/agoose77\">@agoose77</a></strong> merged by <strong><a href=\"https://github.com/agoose77\">@agoose77</a></strong></li>\n<li><a href=\"https://github.com/jupyter-book/myst-theme/issues/542\">(#542)</a>: <em>🛫 Add landing page blocks to book theme</em> by <strong><a href=\"https://github.com/rowanc1\">@rowanc1</a></strong> merged by <strong><a href=\"https://github.com/agoose77\">@agoose77</a></strong></li>\n<li><a href=\"https://github.com/jupyter-book/myst-theme/issues/543\">(#543)</a>: <em>🚀 myst@v1.3.24</em> by <strong><a href=\"https://github.com/rowanc1\">@rowanc1</a></strong> merged by <strong><a href=\"https://github.com/rowanc1\">@rowanc1</a></strong></li>\n<li><a href=\"https://github.com/jupyter-book/myst-theme/issues/544\">(#544)</a>: <em>holoviews support: fix output path fetching</em> by <strong><a href=\"https://github.com/stevejpurves\">@stevejpurves</a></strong> merged by <strong><a href=\"https://github.com/stevejpurves\">@stevejpurves</a></strong></li>\n<li><a href=\"https://github.com/jupyter-book/myst-theme/issues/546\">(#546)</a>: <em>🧱 Only apply grid system to outer <code>&lt;MyST&gt;</code> component</em> by <strong><a href=\"https://github.com/agoose77\">@agoose77</a></strong> merged by <strong><a href=\"https://github.com/rowanc1\">@rowanc1</a></strong></li>\n<li><a href=\"https://github.com/jupyter-book/myst-theme/issues/547\">(#547)</a>: <em>🪜 Use <code>BlockDepth</code> provider to scope grid layout to top-level blocks</em> by <strong><a href=\"https://github.com/agoose77\">@agoose77</a></strong> merged by <strong><a href=\"https://github.com/rowanc1\">@rowanc1</a></strong></li>\n<li><a href=\"https://github.com/jupyter-book/myst-theme/issues/548\">(#548)</a>: <em>🧱 Simplify Blocks (remove grid-system)</em> by <strong><a href=\"https://github.com/rowanc1\">@rowanc1</a></strong> merged by <strong><a href=\"https://github.com/rowanc1\">@rowanc1</a></strong></li>\n<li><a href=\"https://github.com/jupyter-book/myst-theme/issues/549\">(#549)</a>: <em>Version Packages</em> by <strong><a href=\"https://github.com/github-actions[bot]\">@github-actions[bot]</a></strong> merged by <strong><a href=\"https://github.com/rowanc1\">@rowanc1</a></strong></li>\n<li><a href=\"https://github.com/jupyter-book/myst-theme/issues/550\">(#550)</a>: <em>🧹 Clean up links to EB &amp; unify READMEs for packages</em> by <strong><a href=\"https://github.com/agoose77\">@agoose77</a></strong> merged by <strong><a href=\"https://github.com/agoose77\">@agoose77</a></strong></li>\n<li><a href=\"https://github.com/jupyter-book/myst-theme/issues/551\">(#551)</a>: <em>Version Packages</em> by <strong><a href=\"https://github.com/github-actions[bot]\">@github-actions[bot]</a></strong> merged by <strong><a href=\"https://github.com/rowanc1\">@rowanc1</a></strong></li>\n<li><a href=\"https://github.com/jupyter-book/myst-theme/issues/552\">(#552)</a>: <em>🧹 remove console.log</em> by <strong><a href=\"https://github.com/stevejpurves\">@stevejpurves</a></strong> merged by <strong><a href=\"https://github.com/stevejpurves\">@stevejpurves</a></strong></li>\n<li><a href=\"https://github.com/jupyter-book/myst-theme/issues/554\">(#554)</a>: <em>🎩 Fix landing-page block class lookup</em> by <strong><a href=\"https://github.com/agoose77\">@agoose77</a></strong> merged by <strong><a href=\"https://github.com/agoose77\">@agoose77</a></strong></li>\n<li><a href=\"https://github.com/jupyter-book/myst-theme/issues/555\">(#555)</a>: <em>Version Packages</em> by <strong><a href=\"https://github.com/github-actions[bot]\">@github-actions[bot]</a></strong> merged by <strong><a href=\"https://github.com/rowanc1\">@rowanc1</a></strong></li>\n<li><a href=\"https://github.com/jupyter-book/myst-theme/issues/556\">(#556)</a>: <em>🌲 Add <code>root</code> renderer</em> by <strong><a href=\"https://github.com/agoose77\">@agoose77</a></strong> merged by <strong><a href=\"https://github.com/rowanc1\">@rowanc1</a></strong></li>\n<li><a href=\"https://github.com/jupyter-book/myst-theme/issues/557\">(#557)</a>: <em>🐛 Ensure CSS has baseURL directly</em> by <strong><a href=\"https://github.com/rowanc1\">@rowanc1</a></strong> merged by <strong><a href=\"https://github.com/rowanc1\">@rowanc1</a></strong></li>\n<li><a href=\"https://github.com/jupyter-book/myst-theme/issues/559\">(#559)</a>: <em>♹ Small types improvements</em> by <strong><a href=\"https://github.com/rowanc1\">@rowanc1</a></strong> merged by <strong><a href=\"https://github.com/rowanc1\">@rowanc1</a></strong></li>\n<li><a href=\"https://github.com/jupyter-book/myst-theme/issues/560\">(#560)</a>: <em>🖥️ Add deploy workflow to CI</em> by <strong><a href=\"https://github.com/agoose77\">@agoose77</a></strong> merged by <strong><a href=\"https://github.com/agoose77\">@agoose77</a></strong></li>\n<li><a href=\"https://github.com/jupyter-book/myst-theme/issues/561\">(#561)</a>: <em>🛠️ Delete theme's built assets before build</em> by <strong><a href=\"https://github.com/agoose77\">@agoose77</a></strong> merged by <strong><a href=\"https://github.com/rowanc1\">@rowanc1</a></strong></li>\n<li><a href=\"https://github.com/jupyter-book/myst-theme/issues/562\">(#562)</a>: <em>✏️ Fix metadata for template URL</em> by <strong><a href=\"https://github.com/agoose77\">@agoose77</a></strong> merged by <strong><a href=\"https://github.com/rowanc1\">@rowanc1</a></strong></li>\n<li><a href=\"https://github.com/jupyter-book/myst-theme/issues/563\">(#563)</a>: <em>🥂 Merge deploy and release workflows</em> by <strong><a href=\"https://github.com/agoose77\">@agoose77</a></strong> merged by <strong><a href=\"https://github.com/agoose77\">@agoose77</a></strong></li>\n<li><a href=\"https://github.com/jupyter-book/myst-theme/issues/568\">(#568)</a>: <em>❄️ Add nix dev-shell flake</em> by <strong><a href=\"https://github.com/agoose77\">@agoose77</a></strong> merged by <strong><a href=\"https://github.com/agoose77\">@agoose77</a></strong></li>\n<li><a href=\"https://github.com/jupyter-book/myst-theme/issues/570\">(#570)</a>: <em>🎓 Add support for <code>button</code> in <code>cite</code> nodes</em> by <strong><a href=\"https://github.com/agoose77\">@agoose77</a></strong> merged by <strong><a href=\"https://github.com/stevejpurves\">@stevejpurves</a></strong></li>\n<li><a href=\"https://github.com/jupyter-book/myst-theme/issues/573\">(#573)</a>: <em>➿ Enable flex-wrap in landing-page links</em> by <strong><a href=\"https://github.com/agoose77\">@agoose77</a></strong> merged by <strong><a href=\"https://github.com/agoose77\">@agoose77</a></strong></li>\n<li><a href=\"https://github.com/jupyter-book/myst-theme/issues/574\">(#574)</a>: <em>Version Packages</em> by <strong><a href=\"https://github.com/github-actions[bot]\">@github-actions[bot]</a></strong> merged by <strong><a href=\"https://github.com/choldgraf\">@choldgraf</a></strong></li>\n<li><a href=\"https://github.com/jupyter-book/myst-theme/issues/576\">(#576)</a>: <em>🖼️ Fix layout of <code>justified</code> landing blocks</em> by <strong><a href=\"https://github.com/agoose77\">@agoose77</a></strong> merged by <strong><a href=\"https://github.com/agoose77\">@agoose77</a></strong></li>\n<li><a href=\"https://github.com/jupyter-book/myst-theme/issues/577\">(#577)</a>: <em>✍️ Feat: add edit button</em> by <strong><a href=\"https://github.com/kne42\">@kne42</a></strong> merged by <strong><a href=\"https://github.com/agoose77\">@agoose77</a></strong></li>\n<li><a href=\"https://github.com/jupyter-book/myst-theme/issues/578\">(#578)</a>: <em>📜 Drop submodule references in contributing</em> by <strong><a href=\"https://github.com/agoose77\">@agoose77</a></strong> merged by <strong><a href=\"https://github.com/agoose77\">@agoose77</a></strong></li>\n</ul>"
      }
     },
     "1ad6d921049746208aed696b426337d1": {
      "model_module": "@jupyter-widgets/controls",
      "model_module_version": "2.0.0",
      "model_name": "HTMLStyleModel",
      "state": {
       "_model_module": "@jupyter-widgets/controls",
       "_model_module_version": "2.0.0",
       "_model_name": "HTMLStyleModel",
       "_view_count": null,
       "_view_module": "@jupyter-widgets/base",
       "_view_module_version": "2.0.0",
       "_view_name": "StyleView",
       "background": null,
       "description_width": "",
       "font_size": null,
       "text_color": null
      }
     },
     "1d3355b8fb7f4b81ae4c776257f4486c": {
      "model_module": "@jupyter-widgets/base",
      "model_module_version": "2.0.0",
      "model_name": "LayoutModel",
      "state": {
       "_model_module": "@jupyter-widgets/base",
       "_model_module_version": "2.0.0",
       "_model_name": "LayoutModel",
       "_view_count": null,
       "_view_module": "@jupyter-widgets/base",
       "_view_module_version": "2.0.0",
       "_view_name": "LayoutView",
       "align_content": null,
       "align_items": null,
       "align_self": null,
       "border_bottom": null,
       "border_left": null,
       "border_right": null,
       "border_top": null,
       "bottom": null,
       "display": null,
       "flex": null,
       "flex_flow": null,
       "grid_area": null,
       "grid_auto_columns": null,
       "grid_auto_flow": null,
       "grid_auto_rows": null,
       "grid_column": null,
       "grid_gap": null,
       "grid_row": null,
       "grid_template_areas": null,
       "grid_template_columns": null,
       "grid_template_rows": null,
       "height": null,
       "justify_content": null,
       "justify_items": null,
       "left": null,
       "margin": null,
       "max_height": null,
       "max_width": null,
       "min_height": null,
       "min_width": null,
       "object_fit": null,
       "object_position": null,
       "order": null,
       "overflow": null,
       "padding": null,
       "right": null,
       "top": null,
       "visibility": null,
       "width": null
      }
     },
     "219e4c089b3248af97d8d2b2b435eedf": {
      "model_module": "@jupyter-widgets/controls",
      "model_module_version": "2.0.0",
      "model_name": "HTMLStyleModel",
      "state": {
       "_model_module": "@jupyter-widgets/controls",
       "_model_module_version": "2.0.0",
       "_model_name": "HTMLStyleModel",
       "_view_count": null,
       "_view_module": "@jupyter-widgets/base",
       "_view_module_version": "2.0.0",
       "_view_name": "StyleView",
       "background": null,
       "description_width": "",
       "font_size": null,
       "text_color": null
      }
     },
     "22a469f2b65b43f292e112da70b09d35": {
      "model_module": "@jupyter-widgets/controls",
      "model_module_version": "2.0.0",
      "model_name": "HTMLModel",
      "state": {
       "_dom_classes": [],
       "_model_module": "@jupyter-widgets/controls",
       "_model_module_version": "2.0.0",
       "_model_name": "HTMLModel",
       "_view_count": null,
       "_view_module": "@jupyter-widgets/controls",
       "_view_module_version": "2.0.0",
       "_view_name": "HTMLView",
       "description": "",
       "description_allow_html": false,
       "layout": "IPY_MODEL_583bf0c1c2034e79bd79be1eec8bd1c8",
       "placeholder": "​",
       "style": "IPY_MODEL_d5eec5efab9b4090b0824b34198c11d5",
       "tabbable": null,
       "tooltip": null,
       "value": "<ul>\n<li>(35) Support for RISE slides - jupyter-book - <a href=\"https://github.com/jupyter-book/jupyter-book/issues/792\">#792</a></li>\n<li>(34) Allow margin notes to have references in the text and hide them by default on mobile - jupyter-book - <a href=\"https://github.com/jupyter-book/jupyter-book/issues/598\">#598</a></li>\n<li>(32) Support blogs - jupyter-book - <a href=\"https://github.com/jupyter-book/jupyter-book/issues/900\">#900</a></li>\n<li>(28) Add support for multiple themes / theming - jupyter-book - <a href=\"https://github.com/jupyter-book/jupyter-book/issues/262\">#262</a></li>\n<li>(26) Support for executing notebooks in parallel during JupyterBook Build - jupyter-book - <a href=\"https://github.com/jupyter-book/jupyter-book/issues/1735\">#1735</a></li>\n<li>(22) Tag to skip cell execution - jupyter-book - <a href=\"https://github.com/jupyter-book/jupyter-book/issues/833\">#833</a></li>\n<li>(22) Author, year citations - jupyter-book - <a href=\"https://github.com/jupyter-book/jupyter-book/issues/1090\">#1090</a></li>\n<li>(19) Export a single HTML file with all assets included - jupyter-book - <a href=\"https://github.com/jupyter-book/jupyter-book/issues/1046\">#1046</a></li>\n<li>(17) Adding directives for \"question and answer\" blocks - jupyter-book - <a href=\"https://github.com/jupyter-book/jupyter-book/issues/536\">#536</a></li>\n<li>(15) Allow setting all inputs as hidden by default - jupyter-book - <a href=\"https://github.com/jupyter-book/jupyter-book/issues/666\">#666</a></li>\n<li>(14) Run code client-side with JupyterLite - jupyter-book - <a href=\"https://github.com/jupyter-book/jupyter-book/issues/1344\">#1344</a></li>\n<li>(12) v0.13 has broken utterances - jupyter-book - <a href=\"https://github.com/jupyter-book/jupyter-book/issues/1762\">#1762</a></li>\n<li>(12) Tables and figures produced by code cells are not numbered and tables don't have captions - jupyter-book - <a href=\"https://github.com/jupyter-book/jupyter-book/issues/1247\">#1247</a></li>\n<li>(12) Nest code-cells inside of admonitions and block-level syntax in myst notebooks - jupyter-book - <a href=\"https://github.com/jupyter-book/jupyter-book/issues/1178\">#1178</a></li>\n<li>(10) Thebe integration: Modify sources - mystmd - <a href=\"https://github.com/jupyter-book/mystmd/issues/443\">#443</a></li>\n<li>(10) Full width option? - jupyter-book - <a href=\"https://github.com/jupyter-book/jupyter-book/issues/1904\">#1904</a></li>\n<li>(10) Versioning support - jupyter-book - <a href=\"https://github.com/jupyter-book/jupyter-book/issues/683\">#683</a></li>\n<li>(9) Add an author to pages - jupyter-book - <a href=\"https://github.com/jupyter-book/jupyter-book/issues/1098\">#1098</a></li>\n<li>(9) Add support for translations / internationalization / localization of page elements - mystmd - <a href=\"https://github.com/jupyter-book/mystmd/issues/166\">#166</a></li>\n<li>(9) Generating a PDF of an entire Jupyter Book - jupyter-book - <a href=\"https://github.com/jupyter-book/jupyter-book/issues/1106\">#1106</a></li>\n<li>(8) [ENH] Add Tufte style - jupyter-book - <a href=\"https://github.com/jupyter-book/jupyter-book/issues/255\">#255</a></li>\n<li>(8) problems rendering to pdf: \"skip to main content\" overlaying over text - jupyter-book - <a href=\"https://github.com/jupyter-book/jupyter-book/issues/2045\">#2045</a></li>\n<li>(8) Tracking: Numpy Tutorials - mystmd - <a href=\"https://github.com/jupyter-book/mystmd/issues/1270\">#1270</a></li>\n<li>(7) Scrolling over notebook got unexpected jump backs - jupyterlab-myst - <a href=\"https://github.com/jupyter-book/jupyterlab-myst/issues/243\">#243</a></li>\n<li>(7) Exercise cells - jupyter-book - <a href=\"https://github.com/jupyter-book/jupyter-book/issues/455\">#455</a></li>\n</ul>"
      }
     },
     "22f22d6955fa405691d9f70c0c423baf": {
      "model_module": "@jupyter-widgets/base",
      "model_module_version": "2.0.0",
      "model_name": "LayoutModel",
      "state": {
       "_model_module": "@jupyter-widgets/base",
       "_model_module_version": "2.0.0",
       "_model_name": "LayoutModel",
       "_view_count": null,
       "_view_module": "@jupyter-widgets/base",
       "_view_module_version": "2.0.0",
       "_view_name": "LayoutView",
       "align_content": null,
       "align_items": null,
       "align_self": null,
       "border_bottom": null,
       "border_left": null,
       "border_right": null,
       "border_top": null,
       "bottom": null,
       "display": null,
       "flex": null,
       "flex_flow": null,
       "grid_area": null,
       "grid_auto_columns": null,
       "grid_auto_flow": null,
       "grid_auto_rows": null,
       "grid_column": null,
       "grid_gap": null,
       "grid_row": null,
       "grid_template_areas": null,
       "grid_template_columns": null,
       "grid_template_rows": null,
       "height": null,
       "justify_content": null,
       "justify_items": null,
       "left": null,
       "margin": null,
       "max_height": null,
       "max_width": null,
       "min_height": null,
       "min_width": null,
       "object_fit": null,
       "object_position": null,
       "order": null,
       "overflow": null,
       "padding": null,
       "right": null,
       "top": null,
       "visibility": null,
       "width": null
      }
     },
     "26030bcf12e34510adcf370c3da10c3e": {
      "model_module": "@jupyter-widgets/base",
      "model_module_version": "2.0.0",
      "model_name": "LayoutModel",
      "state": {
       "_model_module": "@jupyter-widgets/base",
       "_model_module_version": "2.0.0",
       "_model_name": "LayoutModel",
       "_view_count": null,
       "_view_module": "@jupyter-widgets/base",
       "_view_module_version": "2.0.0",
       "_view_name": "LayoutView",
       "align_content": null,
       "align_items": null,
       "align_self": null,
       "border_bottom": null,
       "border_left": null,
       "border_right": null,
       "border_top": null,
       "bottom": null,
       "display": null,
       "flex": null,
       "flex_flow": null,
       "grid_area": null,
       "grid_auto_columns": null,
       "grid_auto_flow": null,
       "grid_auto_rows": null,
       "grid_column": null,
       "grid_gap": null,
       "grid_row": null,
       "grid_template_areas": null,
       "grid_template_columns": null,
       "grid_template_rows": null,
       "height": null,
       "justify_content": null,
       "justify_items": null,
       "left": null,
       "margin": null,
       "max_height": null,
       "max_width": null,
       "min_height": null,
       "min_width": null,
       "object_fit": null,
       "object_position": null,
       "order": null,
       "overflow": null,
       "padding": null,
       "right": null,
       "top": null,
       "visibility": null,
       "width": null
      }
     },
     "2a6c2fd676f34449a981002d6e2a6eeb": {
      "model_module": "@jupyter-widgets/base",
      "model_module_version": "2.0.0",
      "model_name": "LayoutModel",
      "state": {
       "_model_module": "@jupyter-widgets/base",
       "_model_module_version": "2.0.0",
       "_model_name": "LayoutModel",
       "_view_count": null,
       "_view_module": "@jupyter-widgets/base",
       "_view_module_version": "2.0.0",
       "_view_name": "LayoutView",
       "align_content": null,
       "align_items": null,
       "align_self": null,
       "border_bottom": null,
       "border_left": null,
       "border_right": null,
       "border_top": null,
       "bottom": null,
       "display": null,
       "flex": null,
       "flex_flow": null,
       "grid_area": null,
       "grid_auto_columns": null,
       "grid_auto_flow": null,
       "grid_auto_rows": null,
       "grid_column": null,
       "grid_gap": null,
       "grid_row": null,
       "grid_template_areas": null,
       "grid_template_columns": null,
       "grid_template_rows": null,
       "height": null,
       "justify_content": null,
       "justify_items": null,
       "left": null,
       "margin": null,
       "max_height": null,
       "max_width": null,
       "min_height": null,
       "min_width": null,
       "object_fit": null,
       "object_position": null,
       "order": null,
       "overflow": null,
       "padding": null,
       "right": null,
       "top": null,
       "visibility": null,
       "width": null
      }
     },
     "2ccb43b5d7f3448f9582446a9ab79689": {
      "model_module": "@jupyter-widgets/base",
      "model_module_version": "2.0.0",
      "model_name": "LayoutModel",
      "state": {
       "_model_module": "@jupyter-widgets/base",
       "_model_module_version": "2.0.0",
       "_model_name": "LayoutModel",
       "_view_count": null,
       "_view_module": "@jupyter-widgets/base",
       "_view_module_version": "2.0.0",
       "_view_name": "LayoutView",
       "align_content": null,
       "align_items": null,
       "align_self": null,
       "border_bottom": null,
       "border_left": null,
       "border_right": null,
       "border_top": null,
       "bottom": null,
       "display": null,
       "flex": null,
       "flex_flow": null,
       "grid_area": null,
       "grid_auto_columns": null,
       "grid_auto_flow": null,
       "grid_auto_rows": null,
       "grid_column": null,
       "grid_gap": null,
       "grid_row": null,
       "grid_template_areas": null,
       "grid_template_columns": null,
       "grid_template_rows": null,
       "height": null,
       "justify_content": null,
       "justify_items": null,
       "left": null,
       "margin": null,
       "max_height": null,
       "max_width": null,
       "min_height": null,
       "min_width": null,
       "object_fit": null,
       "object_position": null,
       "order": null,
       "overflow": null,
       "padding": null,
       "right": null,
       "top": null,
       "visibility": null,
       "width": null
      }
     },
     "2d63285af05b45c2bac5435e0fc07c4d": {
      "model_module": "@jupyter-widgets/controls",
      "model_module_version": "2.0.0",
      "model_name": "HTMLStyleModel",
      "state": {
       "_model_module": "@jupyter-widgets/controls",
       "_model_module_version": "2.0.0",
       "_model_name": "HTMLStyleModel",
       "_view_count": null,
       "_view_module": "@jupyter-widgets/base",
       "_view_module_version": "2.0.0",
       "_view_name": "StyleView",
       "background": null,
       "description_width": "",
       "font_size": null,
       "text_color": null
      }
     },
     "2df370f7a1fd46c58df9c8e813cac643": {
      "model_module": "@jupyter-widgets/controls",
      "model_module_version": "2.0.0",
      "model_name": "HTMLModel",
      "state": {
       "_dom_classes": [],
       "_model_module": "@jupyter-widgets/controls",
       "_model_module_version": "2.0.0",
       "_model_name": "HTMLModel",
       "_view_count": null,
       "_view_module": "@jupyter-widgets/controls",
       "_view_module_version": "2.0.0",
       "_view_name": "HTMLView",
       "description": "",
       "description_allow_html": false,
       "layout": "IPY_MODEL_8a8587b8e9144f96a6ce0e1014897f9c",
       "placeholder": "​",
       "style": "IPY_MODEL_7f15eef5b6a04ca6969111d8530d9d63",
       "tabbable": null,
       "tooltip": null,
       "value": "<h5><a href=\"https://github.com/jupyter-book/mystmd\">jupyter-book/mystmd</a></h5>\n<ul>\n<li><a href=\"https://github.com/jupyter-book/mystmd/issues/1336\">(#1336)</a>: <em>Tracking: Turing Way</em> by <strong><a href=\"https://github.com/rowanc1\">@rowanc1</a></strong></li>\n<li><a href=\"https://github.com/jupyter-book/mystmd/issues/189\">(#189)</a>: <em>Audit of Features missing in JupyterBook</em> by <strong><a href=\"https://github.com/rowanc1\">@rowanc1</a></strong></li>\n<li><a href=\"https://github.com/jupyter-book/mystmd/issues/302\">(#302)</a>: <em>Support running MyST previews / running a myst server on JupyterHub</em> by <strong><a href=\"https://github.com/fperez\">@fperez</a></strong></li>\n<li><a href=\"https://github.com/jupyter-book/mystmd/issues/1879\">(#1879)</a>: <em>Support multi-language content and pages with translations</em> by <strong><a href=\"https://github.com/choldgraf\">@choldgraf</a></strong></li>\n<li><a href=\"https://github.com/jupyter-book/mystmd/issues/1910\">(#1910)</a>: <em>Aside broken after trying to add custom css</em> by <strong><a href=\"https://github.com/paulskrzypczyk\">@paulskrzypczyk</a></strong></li>\n</ul>"
      }
     },
     "2e07ea367ba64f79a53d9c9068ad8f57": {
      "model_module": "@jupyter-widgets/base",
      "model_module_version": "2.0.0",
      "model_name": "LayoutModel",
      "state": {
       "_model_module": "@jupyter-widgets/base",
       "_model_module_version": "2.0.0",
       "_model_name": "LayoutModel",
       "_view_count": null,
       "_view_module": "@jupyter-widgets/base",
       "_view_module_version": "2.0.0",
       "_view_name": "LayoutView",
       "align_content": null,
       "align_items": null,
       "align_self": null,
       "border_bottom": null,
       "border_left": null,
       "border_right": null,
       "border_top": null,
       "bottom": null,
       "display": null,
       "flex": null,
       "flex_flow": null,
       "grid_area": null,
       "grid_auto_columns": null,
       "grid_auto_flow": null,
       "grid_auto_rows": null,
       "grid_column": null,
       "grid_gap": null,
       "grid_row": null,
       "grid_template_areas": null,
       "grid_template_columns": null,
       "grid_template_rows": null,
       "height": null,
       "justify_content": null,
       "justify_items": null,
       "left": null,
       "margin": null,
       "max_height": null,
       "max_width": null,
       "min_height": null,
       "min_width": null,
       "object_fit": null,
       "object_position": null,
       "order": null,
       "overflow": null,
       "padding": null,
       "right": null,
       "top": null,
       "visibility": null,
       "width": null
      }
     },
     "2f7d63ee1baa45ae933b30412a67a33a": {
      "model_module": "@jupyter-widgets/controls",
      "model_module_version": "2.0.0",
      "model_name": "HTMLModel",
      "state": {
       "_dom_classes": [],
       "_model_module": "@jupyter-widgets/controls",
       "_model_module_version": "2.0.0",
       "_model_name": "HTMLModel",
       "_view_count": null,
       "_view_module": "@jupyter-widgets/controls",
       "_view_module_version": "2.0.0",
       "_view_name": "HTMLView",
       "description": "",
       "description_allow_html": false,
       "layout": "IPY_MODEL_7128fbe355f34dd6847d84c3842c3f11",
       "placeholder": "​",
       "style": "IPY_MODEL_afcb6f66939f416c8869b24449ab26a7",
       "tabbable": null,
       "tooltip": null,
       "value": "<h4>Closed PRs for repo: <a href=\"https://github.com/jupyter-book/myst-enhancement-proposals\">jupyter-book/myst-enhancement-proposals</a></h4>\n<h5></h5>\n<ul>\n<li><a href=\"https://github.com/jupyter-book/myst-enhancement-proposals/issues/31\">(#31)</a>: <em>Add a light PR template for MEPs</em> by <strong><a href=\"https://github.com/choldgraf\">@choldgraf</a></strong> merged by <strong><a href=\"https://github.com/agoose77\">@agoose77</a></strong></li>\n</ul>"
      }
     },
     "38a83efbda384026b76ca1a89a69c35e": {
      "model_module": "@jupyter-widgets/controls",
      "model_module_version": "2.0.0",
      "model_name": "HTMLStyleModel",
      "state": {
       "_model_module": "@jupyter-widgets/controls",
       "_model_module_version": "2.0.0",
       "_model_name": "HTMLStyleModel",
       "_view_count": null,
       "_view_module": "@jupyter-widgets/base",
       "_view_module_version": "2.0.0",
       "_view_name": "StyleView",
       "background": null,
       "description_width": "",
       "font_size": null,
       "text_color": null
      }
     },
     "392cfa456820411b9e14b4c7d1820f09": {
      "model_module": "@jupyter-widgets/controls",
      "model_module_version": "2.0.0",
      "model_name": "HTMLModel",
      "state": {
       "_dom_classes": [],
       "_model_module": "@jupyter-widgets/controls",
       "_model_module_version": "2.0.0",
       "_model_name": "HTMLModel",
       "_view_count": null,
       "_view_module": "@jupyter-widgets/controls",
       "_view_module_version": "2.0.0",
       "_view_name": "HTMLView",
       "description": "",
       "description_allow_html": false,
       "layout": "IPY_MODEL_8ce0f2d47b304041bea151e12ed9f94f",
       "placeholder": "​",
       "style": "IPY_MODEL_9d3d8dc320b04e1284b93225db835a64",
       "tabbable": null,
       "tooltip": null,
       "value": "<h5><a href=\"https://github.com/jupyter-book/myst-theme\">jupyter-book/myst-theme</a></h5>\n<ul>\n<li><a href=\"https://github.com/jupyter-book/myst-theme/issues/527\">(#527)</a>: <em>Support Bokeh Plots</em> by <strong><a href=\"https://github.com/acocac\">@acocac</a></strong></li>\n<li><a href=\"https://github.com/jupyter-book/myst-theme/issues/437\">(#437)</a>: _Allow authors to link custom JavaScript scripts to their pages by adding HTML manually or via configuration _ by <strong><a href=\"https://github.com/choldgraf\">@choldgraf</a></strong></li>\n<li><a href=\"https://github.com/jupyter-book/myst-theme/issues/567\">(#567)</a>: <em>Move colour choices to theme variables</em> by <strong><a href=\"https://github.com/agoose77\">@agoose77</a></strong></li>\n<li><a href=\"https://github.com/jupyter-book/myst-theme/issues/342\">(#342)</a>: <em>HTML served with <code>&lt;img src=http://localhost:3100&gt; even with</code>HOST=10.0.0.1 myst start --keep-host`</em> by <strong><a href=\"https://github.com/drewlio\">@drewlio</a></strong></li>\n<li><a href=\"https://github.com/jupyter-book/myst-theme/issues/513\">(#513)</a>: <em>Support return navigation for footnotes on mobile</em> by <strong><a href=\"https://github.com/agoose77\">@agoose77</a></strong></li>\n</ul>"
      }
     },
     "3a3501e4aec041be89c41f018d64c722": {
      "model_module": "@jupyter-widgets/controls",
      "model_module_version": "2.0.0",
      "model_name": "HTMLModel",
      "state": {
       "_dom_classes": [],
       "_model_module": "@jupyter-widgets/controls",
       "_model_module_version": "2.0.0",
       "_model_name": "HTMLModel",
       "_view_count": null,
       "_view_module": "@jupyter-widgets/controls",
       "_view_module_version": "2.0.0",
       "_view_name": "HTMLView",
       "description": "",
       "description_allow_html": false,
       "layout": "IPY_MODEL_e88ebc35fa6e4ff486cd88db3dd38e5a",
       "placeholder": "​",
       "style": "IPY_MODEL_5583729b29b14e208e6f9547bf5d6f4a",
       "tabbable": null,
       "tooltip": null,
       "value": "<h4>Closed PRs for repo: <a href=\"https://github.com/jupyter-book/mystmd.org\">jupyter-book/mystmd.org</a></h4>\n<h5></h5>\n<ul>\n<li><a href=\"https://github.com/jupyter-book/mystmd.org/issues/23\">(#23)</a>: <em>👪 Pass <code>root.children</code> to tree renderer</em> by <strong><a href=\"https://github.com/agoose77\">@agoose77</a></strong> merged by <strong><a href=\"https://github.com/agoose77\">@agoose77</a></strong></li>\n<li><a href=\"https://github.com/jupyter-book/mystmd.org/issues/24\">(#24)</a>: <em>📸 Use picsum instead of unsplash</em> by <strong><a href=\"https://github.com/agoose77\">@agoose77</a></strong> merged by <strong><a href=\"https://github.com/agoose77\">@agoose77</a></strong></li>\n<li><a href=\"https://github.com/jupyter-book/mystmd.org/issues/27\">(#27)</a>: <em>Add workflow dispatch option to vercel deployment</em> by <strong><a href=\"https://github.com/choldgraf\">@choldgraf</a></strong> merged by <strong><a href=\"https://github.com/choldgraf\">@choldgraf</a></strong></li>\n<li><a href=\"https://github.com/jupyter-book/mystmd.org/issues/28\">(#28)</a>: <em>📖 Point to the mystmd documentation guide in our README</em> by <strong><a href=\"https://github.com/choldgraf\">@choldgraf</a></strong> merged by <strong><a href=\"https://github.com/rowanc1\">@rowanc1</a></strong></li>\n<li><a href=\"https://github.com/jupyter-book/mystmd.org/issues/29\">(#29)</a>: <em>🔗 Don't include <code>?url</code> in sandbox copy button link</em> by <strong><a href=\"https://github.com/agoose77\">@agoose77</a></strong> merged by <strong><a href=\"https://github.com/agoose77\">@agoose77</a></strong></li>\n<li><a href=\"https://github.com/jupyter-book/mystmd.org/issues/30\">(#30)</a>: <em>Update a few links from Executablebooks to Jupyter Book</em> by <strong><a href=\"https://github.com/choldgraf\">@choldgraf</a></strong> merged by <strong><a href=\"https://github.com/choldgraf\">@choldgraf</a></strong></li>\n</ul>"
      }
     },
     "3f1d772808814db889c81ac38ac6ccef": {
      "model_module": "@jupyter-widgets/base",
      "model_module_version": "2.0.0",
      "model_name": "LayoutModel",
      "state": {
       "_model_module": "@jupyter-widgets/base",
       "_model_module_version": "2.0.0",
       "_model_name": "LayoutModel",
       "_view_count": null,
       "_view_module": "@jupyter-widgets/base",
       "_view_module_version": "2.0.0",
       "_view_name": "LayoutView",
       "align_content": null,
       "align_items": null,
       "align_self": null,
       "border_bottom": null,
       "border_left": null,
       "border_right": null,
       "border_top": null,
       "bottom": null,
       "display": null,
       "flex": null,
       "flex_flow": null,
       "grid_area": null,
       "grid_auto_columns": null,
       "grid_auto_flow": null,
       "grid_auto_rows": null,
       "grid_column": null,
       "grid_gap": null,
       "grid_row": null,
       "grid_template_areas": null,
       "grid_template_columns": null,
       "grid_template_rows": null,
       "height": null,
       "justify_content": null,
       "justify_items": null,
       "left": null,
       "margin": null,
       "max_height": null,
       "max_width": null,
       "min_height": null,
       "min_width": null,
       "object_fit": null,
       "object_position": null,
       "order": null,
       "overflow": null,
       "padding": null,
       "right": null,
       "top": null,
       "visibility": null,
       "width": null
      }
     },
     "41c4cddcc6ca4a7bb14852d644e67ac7": {
      "model_module": "@jupyter-widgets/base",
      "model_module_version": "2.0.0",
      "model_name": "LayoutModel",
      "state": {
       "_model_module": "@jupyter-widgets/base",
       "_model_module_version": "2.0.0",
       "_model_name": "LayoutModel",
       "_view_count": null,
       "_view_module": "@jupyter-widgets/base",
       "_view_module_version": "2.0.0",
       "_view_name": "LayoutView",
       "align_content": null,
       "align_items": null,
       "align_self": null,
       "border_bottom": null,
       "border_left": null,
       "border_right": null,
       "border_top": null,
       "bottom": null,
       "display": null,
       "flex": null,
       "flex_flow": null,
       "grid_area": null,
       "grid_auto_columns": null,
       "grid_auto_flow": null,
       "grid_auto_rows": null,
       "grid_column": null,
       "grid_gap": null,
       "grid_row": null,
       "grid_template_areas": null,
       "grid_template_columns": null,
       "grid_template_rows": null,
       "height": null,
       "justify_content": null,
       "justify_items": null,
       "left": null,
       "margin": null,
       "max_height": null,
       "max_width": null,
       "min_height": null,
       "min_width": null,
       "object_fit": null,
       "object_position": null,
       "order": null,
       "overflow": null,
       "padding": null,
       "right": null,
       "top": null,
       "visibility": null,
       "width": null
      }
     },
     "41f934ab9c294f97a0edd6636024154c": {
      "model_module": "@jupyter-widgets/controls",
      "model_module_version": "2.0.0",
      "model_name": "HTMLStyleModel",
      "state": {
       "_model_module": "@jupyter-widgets/controls",
       "_model_module_version": "2.0.0",
       "_model_name": "HTMLStyleModel",
       "_view_count": null,
       "_view_module": "@jupyter-widgets/base",
       "_view_module_version": "2.0.0",
       "_view_name": "StyleView",
       "background": null,
       "description_width": "",
       "font_size": null,
       "text_color": null
      }
     },
     "472c9e675ddb46c3ae02b4961b1d2aec": {
      "model_module": "@jupyter-widgets/controls",
      "model_module_version": "2.0.0",
      "model_name": "HTMLStyleModel",
      "state": {
       "_model_module": "@jupyter-widgets/controls",
       "_model_module_version": "2.0.0",
       "_model_name": "HTMLStyleModel",
       "_view_count": null,
       "_view_module": "@jupyter-widgets/base",
       "_view_module_version": "2.0.0",
       "_view_name": "StyleView",
       "background": null,
       "description_width": "",
       "font_size": null,
       "text_color": null
      }
     },
     "4a20f4532ded46a28d366cde01b2178e": {
      "model_module": "@jupyter-widgets/controls",
      "model_module_version": "2.0.0",
      "model_name": "HTMLModel",
      "state": {
       "_dom_classes": [],
       "_model_module": "@jupyter-widgets/controls",
       "_model_module_version": "2.0.0",
       "_model_name": "HTMLModel",
       "_view_count": null,
       "_view_module": "@jupyter-widgets/controls",
       "_view_module_version": "2.0.0",
       "_view_name": "HTMLView",
       "description": "",
       "description_allow_html": false,
       "layout": "IPY_MODEL_22f22d6955fa405691d9f70c0c423baf",
       "placeholder": "​",
       "style": "IPY_MODEL_219e4c089b3248af97d8d2b2b435eedf",
       "tabbable": null,
       "tooltip": null,
       "value": "<h5><a href=\"https://github.com/jupyter-book/thebe\">jupyter-book/thebe</a></h5>\n<ul>\n<li><a href=\"https://github.com/jupyter-book/thebe/issues/791\">(#791)</a>: <em>Update to JupyterLite 0.6.0</em> by <strong><a href=\"https://github.com/jtpio\">@jtpio</a></strong></li>\n</ul>"
      }
     },
     "52068a73bb38469ab005c21e289377bf": {
      "model_module": "@jupyter-widgets/controls",
      "model_module_version": "2.0.0",
      "model_name": "HTMLModel",
      "state": {
       "_dom_classes": [],
       "_model_module": "@jupyter-widgets/controls",
       "_model_module_version": "2.0.0",
       "_model_name": "HTMLModel",
       "_view_count": null,
       "_view_module": "@jupyter-widgets/controls",
       "_view_module_version": "2.0.0",
       "_view_name": "HTMLView",
       "description": "",
       "description_allow_html": false,
       "layout": "IPY_MODEL_2e07ea367ba64f79a53d9c9068ad8f57",
       "placeholder": "​",
       "style": "IPY_MODEL_f623f8698e534d5b8a98de7a1c73c51b",
       "tabbable": null,
       "tooltip": null,
       "value": "<h4>Closed PRs for repo: <a href=\"https://github.com/jupyter-book/myst-spec\">jupyter-book/myst-spec</a></h4>\n<h5></h5>\n<ul>\n<li><a href=\"https://github.com/jupyter-book/myst-spec/issues/70\">(#70)</a>: <em>Update Executablebooks links to Jupyter-Book org</em> by <strong><a href=\"https://github.com/choldgraf\">@choldgraf</a></strong> merged by <strong><a href=\"https://github.com/choldgraf\">@choldgraf</a></strong></li>\n</ul>"
      }
     },
     "5583729b29b14e208e6f9547bf5d6f4a": {
      "model_module": "@jupyter-widgets/controls",
      "model_module_version": "2.0.0",
      "model_name": "HTMLStyleModel",
      "state": {
       "_model_module": "@jupyter-widgets/controls",
       "_model_module_version": "2.0.0",
       "_model_name": "HTMLStyleModel",
       "_view_count": null,
       "_view_module": "@jupyter-widgets/base",
       "_view_module_version": "2.0.0",
       "_view_name": "StyleView",
       "background": null,
       "description_width": "",
       "font_size": null,
       "text_color": null
      }
     },
     "583bf0c1c2034e79bd79be1eec8bd1c8": {
      "model_module": "@jupyter-widgets/base",
      "model_module_version": "2.0.0",
      "model_name": "LayoutModel",
      "state": {
       "_model_module": "@jupyter-widgets/base",
       "_model_module_version": "2.0.0",
       "_model_name": "LayoutModel",
       "_view_count": null,
       "_view_module": "@jupyter-widgets/base",
       "_view_module_version": "2.0.0",
       "_view_name": "LayoutView",
       "align_content": null,
       "align_items": null,
       "align_self": null,
       "border_bottom": null,
       "border_left": null,
       "border_right": null,
       "border_top": null,
       "bottom": null,
       "display": null,
       "flex": null,
       "flex_flow": null,
       "grid_area": null,
       "grid_auto_columns": null,
       "grid_auto_flow": null,
       "grid_auto_rows": null,
       "grid_column": null,
       "grid_gap": null,
       "grid_row": null,
       "grid_template_areas": null,
       "grid_template_columns": null,
       "grid_template_rows": null,
       "height": null,
       "justify_content": null,
       "justify_items": null,
       "left": null,
       "margin": null,
       "max_height": null,
       "max_width": null,
       "min_height": null,
       "min_width": null,
       "object_fit": null,
       "object_position": null,
       "order": null,
       "overflow": null,
       "padding": null,
       "right": null,
       "top": null,
       "visibility": null,
       "width": null
      }
     },
     "58bc4e7f5a764285a413b754f718598a": {
      "model_module": "@jupyter-widgets/controls",
      "model_module_version": "2.0.0",
      "model_name": "HTMLModel",
      "state": {
       "_dom_classes": [],
       "_model_module": "@jupyter-widgets/controls",
       "_model_module_version": "2.0.0",
       "_model_name": "HTMLModel",
       "_view_count": null,
       "_view_module": "@jupyter-widgets/controls",
       "_view_module_version": "2.0.0",
       "_view_name": "HTMLView",
       "description": "",
       "description_allow_html": false,
       "layout": "IPY_MODEL_648b8c565e044d50a6a11dd097abcbf1",
       "placeholder": "​",
       "style": "IPY_MODEL_1ad6d921049746208aed696b426337d1",
       "tabbable": null,
       "tooltip": null,
       "value": "<h5><a href=\"https://github.com/jupyter-book/team-compass\">jupyter-book/team-compass</a></h5>\n<ul>\n<li><a href=\"https://github.com/jupyter-book/team-compass/issues/20\">(#20)</a>: <em>Run publicly accessible team meetings</em> by <strong><a href=\"https://github.com/choldgraf\">@choldgraf</a></strong></li>\n<li><a href=\"https://github.com/jupyter-book/team-compass/issues/26\">(#26)</a>: <em>Encourage \"experience reports\" from users</em> by <strong><a href=\"https://github.com/mfisher87\">@mfisher87</a></strong></li>\n<li><a href=\"https://github.com/jupyter-book/team-compass/issues/24\">(#24)</a>: <em>Move our DNS owner from squarespace to Jupyter's CloudFlare</em> by <strong><a href=\"https://github.com/choldgraf\">@choldgraf</a></strong></li>\n<li><a href=\"https://github.com/jupyter-book/team-compass/issues/12\">(#12)</a>: <em>Switch references to executablebooks to instead point to jupyterbook</em> by <strong><a href=\"https://github.com/choldgraf\">@choldgraf</a></strong></li>\n<li><a href=\"https://github.com/jupyter-book/team-compass/issues/25\">(#25)</a>: <em>Make our documentation deployment infrastructure available to all jupyter book team members</em> by <strong><a href=\"https://github.com/choldgraf\">@choldgraf</a></strong></li>\n</ul>"
      }
     },
     "5b53e462d1a043e88fd4287721e4b66e": {
      "model_module": "@jupyter-widgets/controls",
      "model_module_version": "2.0.0",
      "model_name": "HTMLStyleModel",
      "state": {
       "_model_module": "@jupyter-widgets/controls",
       "_model_module_version": "2.0.0",
       "_model_name": "HTMLStyleModel",
       "_view_count": null,
       "_view_module": "@jupyter-widgets/base",
       "_view_module_version": "2.0.0",
       "_view_name": "StyleView",
       "background": null,
       "description_width": "",
       "font_size": null,
       "text_color": null
      }
     },
     "648b8c565e044d50a6a11dd097abcbf1": {
      "model_module": "@jupyter-widgets/base",
      "model_module_version": "2.0.0",
      "model_name": "LayoutModel",
      "state": {
       "_model_module": "@jupyter-widgets/base",
       "_model_module_version": "2.0.0",
       "_model_name": "LayoutModel",
       "_view_count": null,
       "_view_module": "@jupyter-widgets/base",
       "_view_module_version": "2.0.0",
       "_view_name": "LayoutView",
       "align_content": null,
       "align_items": null,
       "align_self": null,
       "border_bottom": null,
       "border_left": null,
       "border_right": null,
       "border_top": null,
       "bottom": null,
       "display": null,
       "flex": null,
       "flex_flow": null,
       "grid_area": null,
       "grid_auto_columns": null,
       "grid_auto_flow": null,
       "grid_auto_rows": null,
       "grid_column": null,
       "grid_gap": null,
       "grid_row": null,
       "grid_template_areas": null,
       "grid_template_columns": null,
       "grid_template_rows": null,
       "height": null,
       "justify_content": null,
       "justify_items": null,
       "left": null,
       "margin": null,
       "max_height": null,
       "max_width": null,
       "min_height": null,
       "min_width": null,
       "object_fit": null,
       "object_position": null,
       "order": null,
       "overflow": null,
       "padding": null,
       "right": null,
       "top": null,
       "visibility": null,
       "width": null
      }
     },
     "64d70dc6f602413198d3ea9439933b5d": {
      "model_module": "@jupyter-widgets/controls",
      "model_module_version": "2.0.0",
      "model_name": "HTMLStyleModel",
      "state": {
       "_model_module": "@jupyter-widgets/controls",
       "_model_module_version": "2.0.0",
       "_model_name": "HTMLStyleModel",
       "_view_count": null,
       "_view_module": "@jupyter-widgets/base",
       "_view_module_version": "2.0.0",
       "_view_name": "StyleView",
       "background": null,
       "description_width": "",
       "font_size": null,
       "text_color": null
      }
     },
     "65c666179026437693782bccd0e3c904": {
      "model_module": "@jupyter-widgets/base",
      "model_module_version": "2.0.0",
      "model_name": "LayoutModel",
      "state": {
       "_model_module": "@jupyter-widgets/base",
       "_model_module_version": "2.0.0",
       "_model_name": "LayoutModel",
       "_view_count": null,
       "_view_module": "@jupyter-widgets/base",
       "_view_module_version": "2.0.0",
       "_view_name": "LayoutView",
       "align_content": null,
       "align_items": null,
       "align_self": null,
       "border_bottom": null,
       "border_left": null,
       "border_right": null,
       "border_top": null,
       "bottom": null,
       "display": null,
       "flex": null,
       "flex_flow": null,
       "grid_area": null,
       "grid_auto_columns": null,
       "grid_auto_flow": null,
       "grid_auto_rows": null,
       "grid_column": null,
       "grid_gap": null,
       "grid_row": null,
       "grid_template_areas": null,
       "grid_template_columns": null,
       "grid_template_rows": null,
       "height": null,
       "justify_content": null,
       "justify_items": null,
       "left": null,
       "margin": null,
       "max_height": null,
       "max_width": null,
       "min_height": null,
       "min_width": null,
       "object_fit": null,
       "object_position": null,
       "order": null,
       "overflow": null,
       "padding": null,
       "right": null,
       "top": null,
       "visibility": null,
       "width": null
      }
     },
     "685301efc012460cab0b061584bd0db3": {
      "model_module": "@jupyter-widgets/base",
      "model_module_version": "2.0.0",
      "model_name": "LayoutModel",
      "state": {
       "_model_module": "@jupyter-widgets/base",
       "_model_module_version": "2.0.0",
       "_model_name": "LayoutModel",
       "_view_count": null,
       "_view_module": "@jupyter-widgets/base",
       "_view_module_version": "2.0.0",
       "_view_name": "LayoutView",
       "align_content": null,
       "align_items": null,
       "align_self": null,
       "border_bottom": null,
       "border_left": null,
       "border_right": null,
       "border_top": null,
       "bottom": null,
       "display": null,
       "flex": null,
       "flex_flow": null,
       "grid_area": null,
       "grid_auto_columns": null,
       "grid_auto_flow": null,
       "grid_auto_rows": null,
       "grid_column": null,
       "grid_gap": null,
       "grid_row": null,
       "grid_template_areas": null,
       "grid_template_columns": null,
       "grid_template_rows": null,
       "height": null,
       "justify_content": null,
       "justify_items": null,
       "left": null,
       "margin": null,
       "max_height": null,
       "max_width": null,
       "min_height": null,
       "min_width": null,
       "object_fit": null,
       "object_position": null,
       "order": null,
       "overflow": null,
       "padding": null,
       "right": null,
       "top": null,
       "visibility": null,
       "width": null
      }
     },
     "686af7f2173b4f419d532f6c5dbd7817": {
      "model_module": "@jupyter-widgets/base",
      "model_module_version": "2.0.0",
      "model_name": "LayoutModel",
      "state": {
       "_model_module": "@jupyter-widgets/base",
       "_model_module_version": "2.0.0",
       "_model_name": "LayoutModel",
       "_view_count": null,
       "_view_module": "@jupyter-widgets/base",
       "_view_module_version": "2.0.0",
       "_view_name": "LayoutView",
       "align_content": null,
       "align_items": null,
       "align_self": null,
       "border_bottom": null,
       "border_left": null,
       "border_right": null,
       "border_top": null,
       "bottom": null,
       "display": null,
       "flex": null,
       "flex_flow": null,
       "grid_area": null,
       "grid_auto_columns": null,
       "grid_auto_flow": null,
       "grid_auto_rows": null,
       "grid_column": null,
       "grid_gap": null,
       "grid_row": null,
       "grid_template_areas": null,
       "grid_template_columns": null,
       "grid_template_rows": null,
       "height": null,
       "justify_content": null,
       "justify_items": null,
       "left": null,
       "margin": null,
       "max_height": null,
       "max_width": null,
       "min_height": null,
       "min_width": null,
       "object_fit": null,
       "object_position": null,
       "order": null,
       "overflow": null,
       "padding": null,
       "right": null,
       "top": null,
       "visibility": null,
       "width": null
      }
     },
     "690c5b47737a4a5bab66d38a976f1a0f": {
      "model_module": "@jupyter-widgets/controls",
      "model_module_version": "2.0.0",
      "model_name": "HTMLStyleModel",
      "state": {
       "_model_module": "@jupyter-widgets/controls",
       "_model_module_version": "2.0.0",
       "_model_name": "HTMLStyleModel",
       "_view_count": null,
       "_view_module": "@jupyter-widgets/base",
       "_view_module_version": "2.0.0",
       "_view_name": "StyleView",
       "background": null,
       "description_width": "",
       "font_size": null,
       "text_color": null
      }
     },
     "6e601099026e47568f8566931551dee6": {
      "model_module": "@jupyter-widgets/controls",
      "model_module_version": "2.0.0",
      "model_name": "HTMLStyleModel",
      "state": {
       "_model_module": "@jupyter-widgets/controls",
       "_model_module_version": "2.0.0",
       "_model_name": "HTMLStyleModel",
       "_view_count": null,
       "_view_module": "@jupyter-widgets/base",
       "_view_module_version": "2.0.0",
       "_view_name": "StyleView",
       "background": null,
       "description_width": "",
       "font_size": null,
       "text_color": null
      }
     },
     "7128fbe355f34dd6847d84c3842c3f11": {
      "model_module": "@jupyter-widgets/base",
      "model_module_version": "2.0.0",
      "model_name": "LayoutModel",
      "state": {
       "_model_module": "@jupyter-widgets/base",
       "_model_module_version": "2.0.0",
       "_model_name": "LayoutModel",
       "_view_count": null,
       "_view_module": "@jupyter-widgets/base",
       "_view_module_version": "2.0.0",
       "_view_name": "LayoutView",
       "align_content": null,
       "align_items": null,
       "align_self": null,
       "border_bottom": null,
       "border_left": null,
       "border_right": null,
       "border_top": null,
       "bottom": null,
       "display": null,
       "flex": null,
       "flex_flow": null,
       "grid_area": null,
       "grid_auto_columns": null,
       "grid_auto_flow": null,
       "grid_auto_rows": null,
       "grid_column": null,
       "grid_gap": null,
       "grid_row": null,
       "grid_template_areas": null,
       "grid_template_columns": null,
       "grid_template_rows": null,
       "height": null,
       "justify_content": null,
       "justify_items": null,
       "left": null,
       "margin": null,
       "max_height": null,
       "max_width": null,
       "min_height": null,
       "min_width": null,
       "object_fit": null,
       "object_position": null,
       "order": null,
       "overflow": null,
       "padding": null,
       "right": null,
       "top": null,
       "visibility": null,
       "width": null
      }
     },
     "771c2f4323314e9e8d1669070a9a7a0a": {
      "model_module": "@jupyter-widgets/controls",
      "model_module_version": "2.0.0",
      "model_name": "HTMLModel",
      "state": {
       "_dom_classes": [],
       "_model_module": "@jupyter-widgets/controls",
       "_model_module_version": "2.0.0",
       "_model_name": "HTMLModel",
       "_view_count": null,
       "_view_module": "@jupyter-widgets/controls",
       "_view_module_version": "2.0.0",
       "_view_name": "HTMLView",
       "description": "",
       "description_allow_html": false,
       "layout": "IPY_MODEL_686af7f2173b4f419d532f6c5dbd7817",
       "placeholder": "​",
       "style": "IPY_MODEL_065a7a9b02d84372a87b4fb42ec5ead8",
       "tabbable": null,
       "tooltip": null,
       "value": "<h4>Closed PRs for repo: <a href=\"https://github.com/jupyter-book/jupyter-book\">jupyter-book/jupyter-book</a></h4>\n<h5></h5>\n<ul>\n<li><a href=\"https://github.com/jupyter-book/jupyter-book/issues/2319\">(#2319)</a>: <em>DOC: Update GH Pages Publishing Guidance</em> by <strong><a href=\"https://github.com/RHammond2\">@RHammond2</a></strong> merged by <strong><a href=\"https://github.com/agoose77\">@agoose77</a></strong></li>\n<li><a href=\"https://github.com/jupyter-book/jupyter-book/issues/2324\">(#2324)</a>: <em>⬆️ Bump <code>myst-cli</code> version</em> by <strong><a href=\"https://github.com/agoose77\">@agoose77</a></strong> merged by <strong><a href=\"https://github.com/agoose77\">@agoose77</a></strong></li>\n<li><a href=\"https://github.com/jupyter-book/jupyter-book/issues/2325\">(#2325)</a>: <em>🕰️ Fix deploy action versions</em> by <strong><a href=\"https://github.com/agoose77\">@agoose77</a></strong> merged by <strong><a href=\"https://github.com/agoose77\">@agoose77</a></strong></li>\n<li><a href=\"https://github.com/jupyter-book/jupyter-book/issues/2326\">(#2326)</a>: <em>📝 Drop reference to execution workaround, as it does not work</em> by <strong><a href=\"https://github.com/agoose77\">@agoose77</a></strong> merged by <strong><a href=\"https://github.com/agoose77\">@agoose77</a></strong></li>\n<li><a href=\"https://github.com/jupyter-book/jupyter-book/issues/2327\">(#2327)</a>: <em>MAINT: prepare for new release</em> by <strong><a href=\"https://github.com/agoose77\">@agoose77</a></strong> merged by <strong><a href=\"https://github.com/agoose77\">@agoose77</a></strong></li>\n<li><a href=\"https://github.com/jupyter-book/jupyter-book/issues/2329\">(#2329)</a>: <em>FIX: use 'main' for branch name</em> by <strong><a href=\"https://github.com/agoose77\">@agoose77</a></strong> merged by <strong><a href=\"https://github.com/agoose77\">@agoose77</a></strong></li>\n<li><a href=\"https://github.com/jupyter-book/jupyter-book/issues/2330\">(#2330)</a>: <em>DOCS: fix RTD configuration</em> by <strong><a href=\"https://github.com/agoose77\">@agoose77</a></strong> merged by <strong><a href=\"https://github.com/agoose77\">@agoose77</a></strong></li>\n<li><a href=\"https://github.com/jupyter-book/jupyter-book/issues/2331\">(#2331)</a>: <em>Updated github action</em> by <strong><a href=\"https://github.com/StefanRR\">@StefanRR</a></strong> merged by <strong><a href=\"https://github.com/agoose77\">@agoose77</a></strong></li>\n<li><a href=\"https://github.com/jupyter-book/jupyter-book/issues/2332\">(#2332)</a>: <em>DOCS: update gh-pages guidance</em> by <strong><a href=\"https://github.com/agoose77\">@agoose77</a></strong> merged by <strong><a href=\"https://github.com/agoose77\">@agoose77</a></strong></li>\n<li><a href=\"https://github.com/jupyter-book/jupyter-book/issues/2335\">(#2335)</a>: <em>🔼 Bump myst-cli version</em> by <strong><a href=\"https://github.com/JimMadge\">@JimMadge</a></strong> merged by <strong><a href=\"https://github.com/agoose77\">@agoose77</a></strong></li>\n<li><a href=\"https://github.com/jupyter-book/jupyter-book/issues/2336\">(#2336)</a>: <em>✏️ Add note about pre-release availability</em> by <strong><a href=\"https://github.com/agoose77\">@agoose77</a></strong> merged by <strong><a href=\"https://github.com/agoose77\">@agoose77</a></strong></li>\n<li><a href=\"https://github.com/jupyter-book/jupyter-book/issues/2342\">(#2342)</a>: <em>🔼 Bump <code>myst-cli</code> version for release</em> by <strong><a href=\"https://github.com/agoose77\">@agoose77</a></strong> merged by <strong><a href=\"https://github.com/agoose77\">@agoose77</a></strong></li>\n<li><a href=\"https://github.com/jupyter-book/jupyter-book/issues/2348\">(#2348)</a>: <em>DOC: minor fixes</em> by <strong><a href=\"https://github.com/bsipocz\">@bsipocz</a></strong> merged by <strong><a href=\"https://github.com/choldgraf\">@choldgraf</a></strong></li>\n</ul>"
      }
     },
     "77e242416b5d4546b251185932ef5e50": {
      "model_module": "@jupyter-widgets/controls",
      "model_module_version": "2.0.0",
      "model_name": "HTMLModel",
      "state": {
       "_dom_classes": [],
       "_model_module": "@jupyter-widgets/controls",
       "_model_module_version": "2.0.0",
       "_model_name": "HTMLModel",
       "_view_count": null,
       "_view_module": "@jupyter-widgets/controls",
       "_view_module_version": "2.0.0",
       "_view_name": "HTMLView",
       "description": "",
       "description_allow_html": false,
       "layout": "IPY_MODEL_a396b40c8cdc4f2c8e2c4e977990ad24",
       "placeholder": "​",
       "style": "IPY_MODEL_6e601099026e47568f8566931551dee6",
       "tabbable": null,
       "tooltip": null,
       "value": "<h5><a href=\"https://github.com/jupyter-book/mystmd\">jupyter-book/mystmd</a></h5>\n<ul>\n<li><a href=\"https://github.com/jupyter-book/mystmd/issues/1336\">(#1336)</a>: <em>Tracking: Turing Way</em> by <strong><a href=\"https://github.com/rowanc1\">@rowanc1</a></strong></li>\n<li><a href=\"https://github.com/jupyter-book/mystmd/issues/189\">(#189)</a>: <em>Audit of Features missing in JupyterBook</em> by <strong><a href=\"https://github.com/rowanc1\">@rowanc1</a></strong></li>\n<li><a href=\"https://github.com/jupyter-book/mystmd/issues/302\">(#302)</a>: <em>Support running MyST previews / running a myst server on JupyterHub</em> by <strong><a href=\"https://github.com/fperez\">@fperez</a></strong></li>\n<li><a href=\"https://github.com/jupyter-book/mystmd/issues/1879\">(#1879)</a>: <em>Support multi-language content and pages with translations</em> by <strong><a href=\"https://github.com/choldgraf\">@choldgraf</a></strong></li>\n<li><a href=\"https://github.com/jupyter-book/mystmd/issues/1910\">(#1910)</a>: <em>Aside broken after trying to add custom css</em> by <strong><a href=\"https://github.com/paulskrzypczyk\">@paulskrzypczyk</a></strong></li>\n</ul>"
      }
     },
     "77e3cb497f774507b481835de2b8b91e": {
      "model_module": "@jupyter-widgets/base",
      "model_module_version": "2.0.0",
      "model_name": "LayoutModel",
      "state": {
       "_model_module": "@jupyter-widgets/base",
       "_model_module_version": "2.0.0",
       "_model_name": "LayoutModel",
       "_view_count": null,
       "_view_module": "@jupyter-widgets/base",
       "_view_module_version": "2.0.0",
       "_view_name": "LayoutView",
       "align_content": null,
       "align_items": null,
       "align_self": null,
       "border_bottom": null,
       "border_left": null,
       "border_right": null,
       "border_top": null,
       "bottom": null,
       "display": null,
       "flex": null,
       "flex_flow": null,
       "grid_area": null,
       "grid_auto_columns": null,
       "grid_auto_flow": null,
       "grid_auto_rows": null,
       "grid_column": null,
       "grid_gap": null,
       "grid_row": null,
       "grid_template_areas": null,
       "grid_template_columns": null,
       "grid_template_rows": null,
       "height": null,
       "justify_content": null,
       "justify_items": null,
       "left": null,
       "margin": null,
       "max_height": null,
       "max_width": null,
       "min_height": null,
       "min_width": null,
       "object_fit": null,
       "object_position": null,
       "order": null,
       "overflow": null,
       "padding": null,
       "right": null,
       "top": null,
       "visibility": null,
       "width": null
      }
     },
     "79b14d1d910948ac8db98a988b037cb3": {
      "model_module": "@jupyter-widgets/controls",
      "model_module_version": "2.0.0",
      "model_name": "HTMLModel",
      "state": {
       "_dom_classes": [],
       "_model_module": "@jupyter-widgets/controls",
       "_model_module_version": "2.0.0",
       "_model_name": "HTMLModel",
       "_view_count": null,
       "_view_module": "@jupyter-widgets/controls",
       "_view_module_version": "2.0.0",
       "_view_name": "HTMLView",
       "description": "",
       "description_allow_html": false,
       "layout": "IPY_MODEL_2ccb43b5d7f3448f9582446a9ab79689",
       "placeholder": "​",
       "style": "IPY_MODEL_ac325c64ce364253a0a4ec472b9c58ec",
       "tabbable": null,
       "tooltip": null,
       "value": "<h4>Closed PRs for repo: <a href=\"https://github.com/jupyter-book/thebe\">jupyter-book/thebe</a></h4>\n<h5></h5>\n<ul>\n<li><a href=\"https://github.com/jupyter-book/thebe/issues/792\">(#792)</a>: <em>[doc] Update executablebooks to jupyter-book github org</em> by <strong><a href=\"https://github.com/choldgraf\">@choldgraf</a></strong> merged by <strong><a href=\"https://github.com/choldgraf\">@choldgraf</a></strong></li>\n</ul>"
      }
     },
     "7b95453cc97a494e9ba7c0a4615ec151": {
      "model_module": "@jupyter-widgets/controls",
      "model_module_version": "2.0.0",
      "model_name": "HTMLStyleModel",
      "state": {
       "_model_module": "@jupyter-widgets/controls",
       "_model_module_version": "2.0.0",
       "_model_name": "HTMLStyleModel",
       "_view_count": null,
       "_view_module": "@jupyter-widgets/base",
       "_view_module_version": "2.0.0",
       "_view_name": "StyleView",
       "background": null,
       "description_width": "",
       "font_size": null,
       "text_color": null
      }
     },
     "7f15eef5b6a04ca6969111d8530d9d63": {
      "model_module": "@jupyter-widgets/controls",
      "model_module_version": "2.0.0",
      "model_name": "HTMLStyleModel",
      "state": {
       "_model_module": "@jupyter-widgets/controls",
       "_model_module_version": "2.0.0",
       "_model_name": "HTMLStyleModel",
       "_view_count": null,
       "_view_module": "@jupyter-widgets/base",
       "_view_module_version": "2.0.0",
       "_view_name": "StyleView",
       "background": null,
       "description_width": "",
       "font_size": null,
       "text_color": null
      }
     },
     "84e30dfdb2e64968a9f95a506040ad38": {
      "model_module": "@jupyter-widgets/controls",
      "model_module_version": "2.0.0",
      "model_name": "HTMLModel",
      "state": {
       "_dom_classes": [],
       "_model_module": "@jupyter-widgets/controls",
       "_model_module_version": "2.0.0",
       "_model_name": "HTMLModel",
       "_view_count": null,
       "_view_module": "@jupyter-widgets/controls",
       "_view_module_version": "2.0.0",
       "_view_name": "HTMLView",
       "description": "",
       "description_allow_html": false,
       "layout": "IPY_MODEL_e5516e05f5ba459abb6e6dd4d1a2a33a",
       "placeholder": "​",
       "style": "IPY_MODEL_9664344ce54c4877be9c81c19a05124c",
       "tabbable": null,
       "tooltip": null,
       "value": "<h5><a href=\"https://github.com/jupyter-book/jupyterlab-myst\">jupyter-book/jupyterlab-myst</a></h5>\n<ul>\n<li><a href=\"https://github.com/jupyter-book/jupyterlab-myst/issues/243\">(#243)</a>: <em>Scrolling over notebook got unexpected jump backs</em> by <strong><a href=\"https://github.com/AllanChain\">@AllanChain</a></strong></li>\n<li><a href=\"https://github.com/jupyter-book/jupyterlab-myst/issues/257\">(#257)</a>: <em>Dancing Page</em> by <strong><a href=\"https://github.com/microcoder\">@microcoder</a></strong></li>\n<li><a href=\"https://github.com/jupyter-book/jupyterlab-myst/issues/248\">(#248)</a>: <em>Do Not highlight links</em> by <strong><a href=\"https://github.com/microcoder\">@microcoder</a></strong></li>\n<li><a href=\"https://github.com/jupyter-book/jupyterlab-myst/issues/175\">(#175)</a>: <em><code>eval</code> role not working as expected</em> by <strong><a href=\"https://github.com/rkansal47\">@rkansal47</a></strong></li>\n<li><a href=\"https://github.com/jupyter-book/jupyterlab-myst/issues/250\">(#250)</a>: <em>Scrolling is stucking on the page</em> by <strong><a href=\"https://github.com/microcoder\">@microcoder</a></strong></li>\n</ul>"
      }
     },
     "8a8587b8e9144f96a6ce0e1014897f9c": {
      "model_module": "@jupyter-widgets/base",
      "model_module_version": "2.0.0",
      "model_name": "LayoutModel",
      "state": {
       "_model_module": "@jupyter-widgets/base",
       "_model_module_version": "2.0.0",
       "_model_name": "LayoutModel",
       "_view_count": null,
       "_view_module": "@jupyter-widgets/base",
       "_view_module_version": "2.0.0",
       "_view_name": "LayoutView",
       "align_content": null,
       "align_items": null,
       "align_self": null,
       "border_bottom": null,
       "border_left": null,
       "border_right": null,
       "border_top": null,
       "bottom": null,
       "display": null,
       "flex": null,
       "flex_flow": null,
       "grid_area": null,
       "grid_auto_columns": null,
       "grid_auto_flow": null,
       "grid_auto_rows": null,
       "grid_column": null,
       "grid_gap": null,
       "grid_row": null,
       "grid_template_areas": null,
       "grid_template_columns": null,
       "grid_template_rows": null,
       "height": null,
       "justify_content": null,
       "justify_items": null,
       "left": null,
       "margin": null,
       "max_height": null,
       "max_width": null,
       "min_height": null,
       "min_width": null,
       "object_fit": null,
       "object_position": null,
       "order": null,
       "overflow": null,
       "padding": null,
       "right": null,
       "top": null,
       "visibility": null,
       "width": null
      }
     },
     "8ce0f2d47b304041bea151e12ed9f94f": {
      "model_module": "@jupyter-widgets/base",
      "model_module_version": "2.0.0",
      "model_name": "LayoutModel",
      "state": {
       "_model_module": "@jupyter-widgets/base",
       "_model_module_version": "2.0.0",
       "_model_name": "LayoutModel",
       "_view_count": null,
       "_view_module": "@jupyter-widgets/base",
       "_view_module_version": "2.0.0",
       "_view_name": "LayoutView",
       "align_content": null,
       "align_items": null,
       "align_self": null,
       "border_bottom": null,
       "border_left": null,
       "border_right": null,
       "border_top": null,
       "bottom": null,
       "display": null,
       "flex": null,
       "flex_flow": null,
       "grid_area": null,
       "grid_auto_columns": null,
       "grid_auto_flow": null,
       "grid_auto_rows": null,
       "grid_column": null,
       "grid_gap": null,
       "grid_row": null,
       "grid_template_areas": null,
       "grid_template_columns": null,
       "grid_template_rows": null,
       "height": null,
       "justify_content": null,
       "justify_items": null,
       "left": null,
       "margin": null,
       "max_height": null,
       "max_width": null,
       "min_height": null,
       "min_width": null,
       "object_fit": null,
       "object_position": null,
       "order": null,
       "overflow": null,
       "padding": null,
       "right": null,
       "top": null,
       "visibility": null,
       "width": null
      }
     },
     "8e8d1a0aacc34c82aedca033b371d247": {
      "model_module": "@jupyter-widgets/controls",
      "model_module_version": "2.0.0",
      "model_name": "HTMLModel",
      "state": {
       "_dom_classes": [],
       "_model_module": "@jupyter-widgets/controls",
       "_model_module_version": "2.0.0",
       "_model_name": "HTMLModel",
       "_view_count": null,
       "_view_module": "@jupyter-widgets/controls",
       "_view_module_version": "2.0.0",
       "_view_name": "HTMLView",
       "description": "",
       "description_allow_html": false,
       "layout": "IPY_MODEL_bafbaa5045be4689bd9f5890faf715e0",
       "placeholder": "​",
       "style": "IPY_MODEL_690c5b47737a4a5bab66d38a976f1a0f",
       "tabbable": null,
       "tooltip": null,
       "value": "<h5><a href=\"https://github.com/jupyter-book/thebe\">jupyter-book/thebe</a></h5>\n<ul>\n<li><a href=\"https://github.com/jupyter-book/thebe/issues/791\">(#791)</a>: <em>Update to JupyterLite 0.6.0</em> by <strong><a href=\"https://github.com/jtpio\">@jtpio</a></strong></li>\n</ul>"
      }
     },
     "923616beca3a4f8a9e2d10094c1758c6": {
      "model_module": "@jupyter-widgets/controls",
      "model_module_version": "2.0.0",
      "model_name": "HTMLModel",
      "state": {
       "_dom_classes": [],
       "_model_module": "@jupyter-widgets/controls",
       "_model_module_version": "2.0.0",
       "_model_name": "HTMLModel",
       "_view_count": null,
       "_view_module": "@jupyter-widgets/controls",
       "_view_module_version": "2.0.0",
       "_view_name": "HTMLView",
       "description": "",
       "description_allow_html": false,
       "layout": "IPY_MODEL_26030bcf12e34510adcf370c3da10c3e",
       "placeholder": "​",
       "style": "IPY_MODEL_38a83efbda384026b76ca1a89a69c35e",
       "tabbable": null,
       "tooltip": null,
       "value": "<h4>Closed PRs for repo: <a href=\"https://github.com/jupyter-book/mystmd\">jupyter-book/mystmd</a></h4>\n<h5></h5>\n<ul>\n<li><a href=\"https://github.com/jupyter-book/mystmd/issues/1822\">(#1822)</a>: <em>🧮 Add inline options to roles and directives</em> by <strong><a href=\"https://github.com/rowanc1\">@rowanc1</a></strong> merged by <strong><a href=\"https://github.com/rowanc1\">@rowanc1</a></strong></li>\n<li><a href=\"https://github.com/jupyter-book/mystmd/issues/1826\">(#1826)</a>: <em>✨ New table of contents directive</em> by <strong><a href=\"https://github.com/fwkoch\">@fwkoch</a></strong> merged by <strong><a href=\"https://github.com/rowanc1\">@rowanc1</a></strong></li>\n<li><a href=\"https://github.com/jupyter-book/mystmd/issues/1836\">(#1836)</a>: <em>🚀 Release</em> by <strong><a href=\"https://github.com/github-actions[bot]\">@github-actions[bot]</a></strong> merged by <strong><a href=\"https://github.com/rowanc1\">@rowanc1</a></strong></li>\n<li><a href=\"https://github.com/jupyter-book/mystmd/issues/1864\">(#1864)</a>: <em>🛫 Add documentation for Landing Pages</em> by <strong><a href=\"https://github.com/agoose77\">@agoose77</a></strong> merged by <strong><a href=\"https://github.com/rowanc1\">@rowanc1</a></strong></li>\n<li><a href=\"https://github.com/jupyter-book/mystmd/issues/1867\">(#1867)</a>: _ 📂 Set <code>site.options.folders: true</code> for JB upgrades_ by <strong><a href=\"https://github.com/agoose77\">@agoose77</a></strong> merged by <strong><a href=\"https://github.com/agoose77\">@agoose77</a></strong></li>\n<li><a href=\"https://github.com/jupyter-book/mystmd/issues/1872\">(#1872)</a>: <em>Handle unsupported options for include directive</em> by <strong><a href=\"https://github.com/JimMadge\">@JimMadge</a></strong> merged by <strong><a href=\"https://github.com/agoose77\">@agoose77</a></strong></li>\n<li><a href=\"https://github.com/jupyter-book/mystmd/issues/1873\">(#1873)</a>: <em>💇 Add documentation on <code>site.options.style</code></em> by <strong><a href=\"https://github.com/agoose77\">@agoose77</a></strong> merged by <strong><a href=\"https://github.com/rowanc1\">@rowanc1</a></strong></li>\n<li><a href=\"https://github.com/jupyter-book/mystmd/issues/1881\">(#1881)</a>: <em>✏️ Use <code>myst</code> directive with <code>proof</code> option definitions</em> by <strong><a href=\"https://github.com/agoose77\">@agoose77</a></strong> merged by <strong><a href=\"https://github.com/rowanc1\">@rowanc1</a></strong></li>\n<li><a href=\"https://github.com/jupyter-book/mystmd/issues/1888\">(#1888)</a>: <em>📖 Adds note on Windows builds to Contribution guide</em> by <strong><a href=\"https://github.com/nmielec\">@nmielec</a></strong> merged by <strong><a href=\"https://github.com/rowanc1\">@rowanc1</a></strong></li>\n<li><a href=\"https://github.com/jupyter-book/mystmd/issues/1890\">(#1890)</a>: <em>📦 Update to <code>doi-utils</code> v2.0.5</em> by <strong><a href=\"https://github.com/rowanc1\">@rowanc1</a></strong> merged by <strong><a href=\"https://github.com/rowanc1\">@rowanc1</a></strong></li>\n<li><a href=\"https://github.com/jupyter-book/mystmd/issues/1891\">(#1891)</a>: <em>🚀 Release</em> by <strong><a href=\"https://github.com/github-actions[bot]\">@github-actions[bot]</a></strong> merged by <strong><a href=\"https://github.com/rowanc1\">@rowanc1</a></strong></li>\n<li><a href=\"https://github.com/jupyter-book/mystmd/issues/1894\">(#1894)</a>: <em>🐝 Fix missing class in landing-pages</em> by <strong><a href=\"https://github.com/agoose77\">@agoose77</a></strong> merged by <strong><a href=\"https://github.com/agoose77\">@agoose77</a></strong></li>\n<li><a href=\"https://github.com/jupyter-book/mystmd/issues/1895\">(#1895)</a>: <em>🚀 Update the <code>SPEC_VERSION</code> for <code>block.class</code></em> by <strong><a href=\"https://github.com/rowanc1\">@rowanc1</a></strong> merged by <strong><a href=\"https://github.com/rowanc1\">@rowanc1</a></strong></li>\n<li><a href=\"https://github.com/jupyter-book/mystmd/issues/1896\">(#1896)</a>: <em>🚀 Release</em> by <strong><a href=\"https://github.com/github-actions[bot]\">@github-actions[bot]</a></strong> merged by <strong><a href=\"https://github.com/rowanc1\">@rowanc1</a></strong></li>\n<li><a href=\"https://github.com/jupyter-book/mystmd/issues/1897\">(#1897)</a>: <em>📦 Bump <code>nbtx</code> 0.4.0</em> by <strong><a href=\"https://github.com/fwkoch\">@fwkoch</a></strong> merged by <strong><a href=\"https://github.com/rowanc1\">@rowanc1</a></strong></li>\n<li><a href=\"https://github.com/jupyter-book/mystmd/issues/1898\">(#1898)</a>: <em>🤔 Bump nbtx</em> by <strong><a href=\"https://github.com/fwkoch\">@fwkoch</a></strong> merged by <strong><a href=\"https://github.com/fwkoch\">@fwkoch</a></strong></li>\n<li><a href=\"https://github.com/jupyter-book/mystmd/issues/1901\">(#1901)</a>: <em>🐛 Ensure CSS has baseURL directly</em> by <strong><a href=\"https://github.com/rowanc1\">@rowanc1</a></strong> merged by <strong><a href=\"https://github.com/rowanc1\">@rowanc1</a></strong></li>\n<li><a href=\"https://github.com/jupyter-book/mystmd/issues/1906\">(#1906)</a>: <em>Restructure developer guide and add architecture overview</em> by <strong><a href=\"https://github.com/stefanv\">@stefanv</a></strong> merged by <strong><a href=\"https://github.com/choldgraf\">@choldgraf</a></strong></li>\n<li><a href=\"https://github.com/jupyter-book/mystmd/issues/1914\">(#1914)</a>: <em>⌨️ Add command line argument to <code>myst start</code> for selecting template</em> by <strong><a href=\"https://github.com/stefanv\">@stefanv</a></strong> merged by <strong><a href=\"https://github.com/rowanc1\">@rowanc1</a></strong></li>\n<li><a href=\"https://github.com/jupyter-book/mystmd/issues/1919\">(#1919)</a>: <em>✅ Add husky and lint-staged to help devs fix code before pushing</em> by <strong><a href=\"https://github.com/stefanv\">@stefanv</a></strong> merged by <strong><a href=\"https://github.com/choldgraf\">@choldgraf</a></strong></li>\n<li><a href=\"https://github.com/jupyter-book/mystmd/issues/1930\">(#1930)</a>: <em>Clarify BASE_URL instructions in GH action for custom domains.</em> by <strong><a href=\"https://github.com/fperez\">@fperez</a></strong> merged by <strong><a href=\"https://github.com/agoose77\">@agoose77</a></strong></li>\n<li><a href=\"https://github.com/jupyter-book/mystmd/issues/1936\">(#1936)</a>: <em>✍️ Escape backticks in <code>init --gh-pages</code> template</em> by <strong><a href=\"https://github.com/agoose77\">@agoose77</a></strong> merged by <strong><a href=\"https://github.com/agoose77\">@agoose77</a></strong></li>\n<li><a href=\"https://github.com/jupyter-book/mystmd/issues/1938\">(#1938)</a>: <em>📝 Add missing changeset</em> by <strong><a href=\"https://github.com/agoose77\">@agoose77</a></strong> merged by <strong><a href=\"https://github.com/agoose77\">@agoose77</a></strong></li>\n<li><a href=\"https://github.com/jupyter-book/mystmd/issues/1939\">(#1939)</a>: <em>Add footnote about links to md files not in ToC</em> by <strong><a href=\"https://github.com/JimMadge\">@JimMadge</a></strong> merged by <strong><a href=\"https://github.com/agoose77\">@agoose77</a></strong></li>\n<li><a href=\"https://github.com/jupyter-book/mystmd/issues/1941\">(#1941)</a>: <em>Update the documentation on installing with Typst</em> by <strong><a href=\"https://github.com/choldgraf\">@choldgraf</a></strong> merged by <strong><a href=\"https://github.com/agoose77\">@agoose77</a></strong></li>\n<li><a href=\"https://github.com/jupyter-book/mystmd/issues/1942\">(#1942)</a>: <em>🪄 Improve error handling during cross reference resolution</em> by <strong><a href=\"https://github.com/agoose77\">@agoose77</a></strong> merged by <strong><a href=\"https://github.com/agoose77\">@agoose77</a></strong></li>\n<li><a href=\"https://github.com/jupyter-book/mystmd/issues/1943\">(#1943)</a>: <em>🏷️ Remove default label from <code>inlineExpression</code> node</em> by <strong><a href=\"https://github.com/agoose77\">@agoose77</a></strong> merged by <strong><a href=\"https://github.com/agoose77\">@agoose77</a></strong></li>\n<li><a href=\"https://github.com/jupyter-book/mystmd/issues/1944\">(#1944)</a>: <em>🐛 Fix missing references in <code>docx</code> export</em> by <strong><a href=\"https://github.com/alanrice\">@alanrice</a></strong> merged by <strong><a href=\"https://github.com/agoose77\">@agoose77</a></strong></li>\n<li><a href=\"https://github.com/jupyter-book/mystmd/issues/1945\">(#1945)</a>: <em>👨🏻‍🔧 fix check link transform for cards</em> by <strong><a href=\"https://github.com/stevejpurves\">@stevejpurves</a></strong> merged by <strong><a href=\"https://github.com/stevejpurves\">@stevejpurves</a></strong></li>\n<li><a href=\"https://github.com/jupyter-book/mystmd/issues/1949\">(#1949)</a>: <em>🔙 Move execution transform earlier in mdast pipeline</em> by <strong><a href=\"https://github.com/agoose77\">@agoose77</a></strong> merged by <strong><a href=\"https://github.com/agoose77\">@agoose77</a></strong></li>\n<li><a href=\"https://github.com/jupyter-book/mystmd/issues/1950\">(#1950)</a>: <em>Add a high-level overview of MyST components</em> by <strong><a href=\"https://github.com/choldgraf\">@choldgraf</a></strong> merged by <strong><a href=\"https://github.com/choldgraf\">@choldgraf</a></strong></li>\n<li><a href=\"https://github.com/jupyter-book/mystmd/issues/1951\">(#1951)</a>: <em>✋ netlify: only rebuild docs when they were modified</em> by <strong><a href=\"https://github.com/stefanv\">@stefanv</a></strong> merged by <strong><a href=\"https://github.com/choldgraf\">@choldgraf</a></strong></li>\n<li><a href=\"https://github.com/jupyter-book/mystmd/issues/1955\">(#1955)</a>: <em>📖 Document how to export MyST Markdown</em> by <strong><a href=\"https://github.com/choldgraf\">@choldgraf</a></strong> merged by <strong><a href=\"https://github.com/rowanc1\">@rowanc1</a></strong></li>\n<li><a href=\"https://github.com/jupyter-book/mystmd/issues/1958\">(#1958)</a>: <em>Update documentation about our documentation infrastructure at mystmd.org</em> by <strong><a href=\"https://github.com/choldgraf\">@choldgraf</a></strong> merged by <strong><a href=\"https://github.com/choldgraf\">@choldgraf</a></strong></li>\n<li><a href=\"https://github.com/jupyter-book/mystmd/issues/1966\">(#1966)</a>: <em>📦 Improve docs on PDF exports for downloads</em> by <strong><a href=\"https://github.com/agoose77\">@agoose77</a></strong> merged by <strong><a href=\"https://github.com/choldgraf\">@choldgraf</a></strong></li>\n<li><a href=\"https://github.com/jupyter-book/mystmd/issues/1969\">(#1969)</a>: <em>Add a brief guide to choosing between <code>.md</code> and <code>.ipynb</code></em> by <strong><a href=\"https://github.com/choldgraf\">@choldgraf</a></strong> merged by <strong><a href=\"https://github.com/agoose77\">@agoose77</a></strong></li>\n<li><a href=\"https://github.com/jupyter-book/mystmd/issues/1980\">(#1980)</a>: <em>; Semicolon escape in typst</em> by <strong><a href=\"https://github.com/rowanc1\">@rowanc1</a></strong> merged by <strong><a href=\"https://github.com/rowanc1\">@rowanc1</a></strong></li>\n<li><a href=\"https://github.com/jupyter-book/mystmd/issues/1987\">(#1987)</a>: <em>🦋 Add bluesky social links</em> by <strong><a href=\"https://github.com/rowanc1\">@rowanc1</a></strong> merged by <strong><a href=\"https://github.com/rowanc1\">@rowanc1</a></strong></li>\n<li><a href=\"https://github.com/jupyter-book/mystmd/issues/1992\">(#1992)</a>: <em>DOCS: Clarify and cross-link code cell output suppression</em> by <strong><a href=\"https://github.com/choldgraf\">@choldgraf</a></strong> merged by <strong><a href=\"https://github.com/choldgraf\">@choldgraf</a></strong></li>\n<li><a href=\"https://github.com/jupyter-book/mystmd/issues/1993\">(#1993)</a>: <em>🕵️‍♀️ Expose hidden attribute in TOC nodes</em> by <strong><a href=\"https://github.com/parmentelat\">@parmentelat</a></strong> merged by <strong><a href=\"https://github.com/fwkoch\">@fwkoch</a></strong></li>\n<li><a href=\"https://github.com/jupyter-book/mystmd/issues/1995\">(#1995)</a>: <em>🐛 <code>--pdf</code> --&gt; <code>--tex</code></em> by <strong><a href=\"https://github.com/rowanc1\">@rowanc1</a></strong> merged by <strong><a href=\"https://github.com/rowanc1\">@rowanc1</a></strong></li>\n<li><a href=\"https://github.com/jupyter-book/mystmd/issues/1997\">(#1997)</a>: <em>📖 Add guidelines for publishing a release to GitHub</em> by <strong><a href=\"https://github.com/choldgraf\">@choldgraf</a></strong> merged by <strong><a href=\"https://github.com/choldgraf\">@choldgraf</a></strong></li>\n<li><a href=\"https://github.com/jupyter-book/mystmd/issues/1998\">(#1998)</a>: <em>📖 Document light dark elements with CSS classes</em> by <strong><a href=\"https://github.com/choldgraf\">@choldgraf</a></strong> merged by <strong><a href=\"https://github.com/choldgraf\">@choldgraf</a></strong></li>\n<li><a href=\"https://github.com/jupyter-book/mystmd/issues/2010\">(#2010)</a>: <em>Fix typo in md-vs-ipynb.md</em> by <strong><a href=\"https://github.com/choldgraf\">@choldgraf</a></strong> merged by <strong><a href=\"https://github.com/rowanc1\">@rowanc1</a></strong></li>\n<li><a href=\"https://github.com/jupyter-book/mystmd/issues/2011\">(#2011)</a>: <em>Remove extra error block</em> by <strong><a href=\"https://github.com/stefanv\">@stefanv</a></strong> merged by <strong><a href=\"https://github.com/choldgraf\">@choldgraf</a></strong></li>\n<li><a href=\"https://github.com/jupyter-book/mystmd/issues/2012\">(#2012)</a>: <em>Explain more MyST concepts, developer docs, and export docs</em> by <strong><a href=\"https://github.com/choldgraf\">@choldgraf</a></strong> merged by <strong><a href=\"https://github.com/stefanv\">@stefanv</a></strong></li>\n<li><a href=\"https://github.com/jupyter-book/mystmd/issues/2015\">(#2015)</a>: <em>🚀 Release</em> by <strong><a href=\"https://github.com/github-actions[bot]\">@github-actions[bot]</a></strong> merged by <strong><a href=\"https://github.com/fwkoch\">@fwkoch</a></strong></li>\n<li><a href=\"https://github.com/jupyter-book/mystmd/issues/2023\">(#2023)</a>: <em>📦 Bump tex-to-typst@0.0.16</em> by <strong><a href=\"https://github.com/fwkoch\">@fwkoch</a></strong> merged by <strong><a href=\"https://github.com/fwkoch\">@fwkoch</a></strong></li>\n</ul>"
      }
     },
     "95188cae0d0143ea803d1267f5e69f24": {
      "model_module": "@jupyter-widgets/controls",
      "model_module_version": "2.0.0",
      "model_name": "HTMLStyleModel",
      "state": {
       "_model_module": "@jupyter-widgets/controls",
       "_model_module_version": "2.0.0",
       "_model_name": "HTMLStyleModel",
       "_view_count": null,
       "_view_module": "@jupyter-widgets/base",
       "_view_module_version": "2.0.0",
       "_view_name": "StyleView",
       "background": null,
       "description_width": "",
       "font_size": null,
       "text_color": null
      }
     },
     "9664344ce54c4877be9c81c19a05124c": {
      "model_module": "@jupyter-widgets/controls",
      "model_module_version": "2.0.0",
      "model_name": "HTMLStyleModel",
      "state": {
       "_model_module": "@jupyter-widgets/controls",
       "_model_module_version": "2.0.0",
       "_model_name": "HTMLStyleModel",
       "_view_count": null,
       "_view_module": "@jupyter-widgets/base",
       "_view_module_version": "2.0.0",
       "_view_name": "StyleView",
       "background": null,
       "description_width": "",
       "font_size": null,
       "text_color": null
      }
     },
     "9d1348ec55cf42d293d7bafb1661b8e1": {
      "model_module": "@jupyter-widgets/base",
      "model_module_version": "2.0.0",
      "model_name": "LayoutModel",
      "state": {
       "_model_module": "@jupyter-widgets/base",
       "_model_module_version": "2.0.0",
       "_model_name": "LayoutModel",
       "_view_count": null,
       "_view_module": "@jupyter-widgets/base",
       "_view_module_version": "2.0.0",
       "_view_name": "LayoutView",
       "align_content": null,
       "align_items": null,
       "align_self": null,
       "border_bottom": null,
       "border_left": null,
       "border_right": null,
       "border_top": null,
       "bottom": null,
       "display": null,
       "flex": null,
       "flex_flow": null,
       "grid_area": null,
       "grid_auto_columns": null,
       "grid_auto_flow": null,
       "grid_auto_rows": null,
       "grid_column": null,
       "grid_gap": null,
       "grid_row": null,
       "grid_template_areas": null,
       "grid_template_columns": null,
       "grid_template_rows": null,
       "height": null,
       "justify_content": null,
       "justify_items": null,
       "left": null,
       "margin": null,
       "max_height": null,
       "max_width": null,
       "min_height": null,
       "min_width": null,
       "object_fit": null,
       "object_position": null,
       "order": null,
       "overflow": null,
       "padding": null,
       "right": null,
       "top": null,
       "visibility": null,
       "width": null
      }
     },
     "9d3d8dc320b04e1284b93225db835a64": {
      "model_module": "@jupyter-widgets/controls",
      "model_module_version": "2.0.0",
      "model_name": "HTMLStyleModel",
      "state": {
       "_model_module": "@jupyter-widgets/controls",
       "_model_module_version": "2.0.0",
       "_model_name": "HTMLStyleModel",
       "_view_count": null,
       "_view_module": "@jupyter-widgets/base",
       "_view_module_version": "2.0.0",
       "_view_name": "StyleView",
       "background": null,
       "description_width": "",
       "font_size": null,
       "text_color": null
      }
     },
     "9ff373772d9347aab2b817d2dec5a1e2": {
      "model_module": "@jupyter-widgets/controls",
      "model_module_version": "2.0.0",
      "model_name": "HTMLModel",
      "state": {
       "_dom_classes": [],
       "_model_module": "@jupyter-widgets/controls",
       "_model_module_version": "2.0.0",
       "_model_name": "HTMLModel",
       "_view_count": null,
       "_view_module": "@jupyter-widgets/controls",
       "_view_module_version": "2.0.0",
       "_view_name": "HTMLView",
       "description": "",
       "description_allow_html": false,
       "layout": "IPY_MODEL_c367c5aa28734b76b82a0d3765f35cfc",
       "placeholder": "​",
       "style": "IPY_MODEL_41f934ab9c294f97a0edd6636024154c",
       "tabbable": null,
       "tooltip": null,
       "value": "<h5><a href=\"https://github.com/jupyter-book/jupyter-book\">jupyter-book/jupyter-book</a></h5>\n<ul>\n<li><a href=\"https://github.com/jupyter-book/jupyter-book/issues/2311\">(#2311)</a>: <em>[Bug]: Couldn't push it to github pages using github workflow</em> by <strong><a href=\"https://github.com/prateekshukla1108\">@prateekshukla1108</a></strong></li>\n<li><a href=\"https://github.com/jupyter-book/jupyter-book/issues/2340\">(#2340)</a>: <em>Milestone: Jupyter Book announcement at SciPy 2025</em> by <strong><a href=\"https://github.com/choldgraf\">@choldgraf</a></strong></li>\n<li><a href=\"https://github.com/jupyter-book/jupyter-book/issues/1474\">(#1474)</a>: <em>Add a high-level diagram of Jupyter Book's infrastructure components</em> by <strong><a href=\"https://github.com/choldgraf\">@choldgraf</a></strong></li>\n<li><a href=\"https://github.com/jupyter-book/jupyter-book/issues/2051\">(#2051)</a>: <em>is there a way to have a collapsible/dropdown admonition start opened ?</em> by <strong><a href=\"https://github.com/parmentelat\">@parmentelat</a></strong></li>\n<li><a href=\"https://github.com/jupyter-book/jupyter-book/issues/2347\">(#2347)</a>: <em>Nbody startpoints on a circle,  Verlet</em> by <strong><a href=\"https://github.com/denis-bz\">@denis-bz</a></strong></li>\n</ul>"
      }
     },
     "a396b40c8cdc4f2c8e2c4e977990ad24": {
      "model_module": "@jupyter-widgets/base",
      "model_module_version": "2.0.0",
      "model_name": "LayoutModel",
      "state": {
       "_model_module": "@jupyter-widgets/base",
       "_model_module_version": "2.0.0",
       "_model_name": "LayoutModel",
       "_view_count": null,
       "_view_module": "@jupyter-widgets/base",
       "_view_module_version": "2.0.0",
       "_view_name": "LayoutView",
       "align_content": null,
       "align_items": null,
       "align_self": null,
       "border_bottom": null,
       "border_left": null,
       "border_right": null,
       "border_top": null,
       "bottom": null,
       "display": null,
       "flex": null,
       "flex_flow": null,
       "grid_area": null,
       "grid_auto_columns": null,
       "grid_auto_flow": null,
       "grid_auto_rows": null,
       "grid_column": null,
       "grid_gap": null,
       "grid_row": null,
       "grid_template_areas": null,
       "grid_template_columns": null,
       "grid_template_rows": null,
       "height": null,
       "justify_content": null,
       "justify_items": null,
       "left": null,
       "margin": null,
       "max_height": null,
       "max_width": null,
       "min_height": null,
       "min_width": null,
       "object_fit": null,
       "object_position": null,
       "order": null,
       "overflow": null,
       "padding": null,
       "right": null,
       "top": null,
       "visibility": null,
       "width": null
      }
     },
     "a5207653419c4725996c437b07966263": {
      "model_module": "@jupyter-widgets/base",
      "model_module_version": "2.0.0",
      "model_name": "LayoutModel",
      "state": {
       "_model_module": "@jupyter-widgets/base",
       "_model_module_version": "2.0.0",
       "_model_name": "LayoutModel",
       "_view_count": null,
       "_view_module": "@jupyter-widgets/base",
       "_view_module_version": "2.0.0",
       "_view_name": "LayoutView",
       "align_content": null,
       "align_items": null,
       "align_self": null,
       "border_bottom": null,
       "border_left": null,
       "border_right": null,
       "border_top": null,
       "bottom": null,
       "display": null,
       "flex": null,
       "flex_flow": null,
       "grid_area": null,
       "grid_auto_columns": null,
       "grid_auto_flow": null,
       "grid_auto_rows": null,
       "grid_column": null,
       "grid_gap": null,
       "grid_row": null,
       "grid_template_areas": null,
       "grid_template_columns": null,
       "grid_template_rows": null,
       "height": null,
       "justify_content": null,
       "justify_items": null,
       "left": null,
       "margin": null,
       "max_height": null,
       "max_width": null,
       "min_height": null,
       "min_width": null,
       "object_fit": null,
       "object_position": null,
       "order": null,
       "overflow": null,
       "padding": null,
       "right": null,
       "top": null,
       "visibility": null,
       "width": null
      }
     },
     "ac325c64ce364253a0a4ec472b9c58ec": {
      "model_module": "@jupyter-widgets/controls",
      "model_module_version": "2.0.0",
      "model_name": "HTMLStyleModel",
      "state": {
       "_model_module": "@jupyter-widgets/controls",
       "_model_module_version": "2.0.0",
       "_model_name": "HTMLStyleModel",
       "_view_count": null,
       "_view_module": "@jupyter-widgets/base",
       "_view_module_version": "2.0.0",
       "_view_name": "StyleView",
       "background": null,
       "description_width": "",
       "font_size": null,
       "text_color": null
      }
     },
     "ad72774db4744241952c52a9c8d3664c": {
      "model_module": "@jupyter-widgets/controls",
      "model_module_version": "2.0.0",
      "model_name": "HTMLModel",
      "state": {
       "_dom_classes": [],
       "_model_module": "@jupyter-widgets/controls",
       "_model_module_version": "2.0.0",
       "_model_name": "HTMLModel",
       "_view_count": null,
       "_view_module": "@jupyter-widgets/controls",
       "_view_module_version": "2.0.0",
       "_view_name": "HTMLView",
       "description": "",
       "description_allow_html": false,
       "layout": "IPY_MODEL_14f540eafeb34453972ddccea73f1ba7",
       "placeholder": "​",
       "style": "IPY_MODEL_7b95453cc97a494e9ba7c0a4615ec151",
       "tabbable": null,
       "tooltip": null,
       "value": "<h5><a href=\"https://github.com/jupyter-book/myst-enhancement-proposals\">jupyter-book/myst-enhancement-proposals</a></h5>\n<ul>\n<li><a href=\"https://github.com/jupyter-book/myst-enhancement-proposals/issues/30\">(#30)</a>: <em>[MEP process] Define separate proposal and implementation stages</em> by <strong><a href=\"https://github.com/mmcky\">@mmcky</a></strong></li>\n</ul>"
      }
     },
     "afcb6f66939f416c8869b24449ab26a7": {
      "model_module": "@jupyter-widgets/controls",
      "model_module_version": "2.0.0",
      "model_name": "HTMLStyleModel",
      "state": {
       "_model_module": "@jupyter-widgets/controls",
       "_model_module_version": "2.0.0",
       "_model_name": "HTMLStyleModel",
       "_view_count": null,
       "_view_module": "@jupyter-widgets/base",
       "_view_module_version": "2.0.0",
       "_view_name": "StyleView",
       "background": null,
       "description_width": "",
       "font_size": null,
       "text_color": null
      }
     },
     "b27a021e3f89483ea1dac04871f89664": {
      "model_module": "@jupyter-widgets/controls",
      "model_module_version": "2.0.0",
      "model_name": "TabModel",
      "state": {
       "_dom_classes": [],
       "_model_module": "@jupyter-widgets/controls",
       "_model_module_version": "2.0.0",
       "_model_name": "TabModel",
       "_view_count": null,
       "_view_module": "@jupyter-widgets/controls",
       "_view_module_version": "2.0.0",
       "_view_name": "TabView",
       "box_style": "",
       "children": [
        "IPY_MODEL_9ff373772d9347aab2b817d2dec5a1e2",
        "IPY_MODEL_84e30dfdb2e64968a9f95a506040ad38",
        "IPY_MODEL_ad72774db4744241952c52a9c8d3664c",
        "IPY_MODEL_c6eb6a3b81c246faa07c664d684ee1dc",
        "IPY_MODEL_2df370f7a1fd46c58df9c8e813cac643",
        "IPY_MODEL_ee1d224cc375416789e083b418aa0bc9",
        "IPY_MODEL_e3f67edd5eed4316b6bc943f88de4c55",
        "IPY_MODEL_4a20f4532ded46a28d366cde01b2178e"
       ],
       "layout": "IPY_MODEL_65c666179026437693782bccd0e3c904",
       "selected_index": 0,
       "tabbable": null,
       "titles": [
        "jupyter-book",
        "jupyterlab-myst",
        "myst-enhancement-proposals",
        "myst-theme",
        "mystmd",
        "mystmd.org",
        "team-compass",
        "thebe"
       ],
       "tooltip": null
      }
     },
     "b7973f3218e84272b6f156847af1d782": {
      "model_module": "@jupyter-widgets/controls",
      "model_module_version": "2.0.0",
      "model_name": "HTMLStyleModel",
      "state": {
       "_model_module": "@jupyter-widgets/controls",
       "_model_module_version": "2.0.0",
       "_model_name": "HTMLStyleModel",
       "_view_count": null,
       "_view_module": "@jupyter-widgets/base",
       "_view_module_version": "2.0.0",
       "_view_name": "StyleView",
       "background": null,
       "description_width": "",
       "font_size": null,
       "text_color": null
      }
     },
     "bad715fea332480d812333288bb5d36d": {
      "model_module": "@jupyter-widgets/controls",
      "model_module_version": "2.0.0",
      "model_name": "HTMLStyleModel",
      "state": {
       "_model_module": "@jupyter-widgets/controls",
       "_model_module_version": "2.0.0",
       "_model_name": "HTMLStyleModel",
       "_view_count": null,
       "_view_module": "@jupyter-widgets/base",
       "_view_module_version": "2.0.0",
       "_view_name": "StyleView",
       "background": null,
       "description_width": "",
       "font_size": null,
       "text_color": null
      }
     },
     "bafbaa5045be4689bd9f5890faf715e0": {
      "model_module": "@jupyter-widgets/base",
      "model_module_version": "2.0.0",
      "model_name": "LayoutModel",
      "state": {
       "_model_module": "@jupyter-widgets/base",
       "_model_module_version": "2.0.0",
       "_model_name": "LayoutModel",
       "_view_count": null,
       "_view_module": "@jupyter-widgets/base",
       "_view_module_version": "2.0.0",
       "_view_name": "LayoutView",
       "align_content": null,
       "align_items": null,
       "align_self": null,
       "border_bottom": null,
       "border_left": null,
       "border_right": null,
       "border_top": null,
       "bottom": null,
       "display": null,
       "flex": null,
       "flex_flow": null,
       "grid_area": null,
       "grid_auto_columns": null,
       "grid_auto_flow": null,
       "grid_auto_rows": null,
       "grid_column": null,
       "grid_gap": null,
       "grid_row": null,
       "grid_template_areas": null,
       "grid_template_columns": null,
       "grid_template_rows": null,
       "height": null,
       "justify_content": null,
       "justify_items": null,
       "left": null,
       "margin": null,
       "max_height": null,
       "max_width": null,
       "min_height": null,
       "min_width": null,
       "object_fit": null,
       "object_position": null,
       "order": null,
       "overflow": null,
       "padding": null,
       "right": null,
       "top": null,
       "visibility": null,
       "width": null
      }
     },
     "c367c5aa28734b76b82a0d3765f35cfc": {
      "model_module": "@jupyter-widgets/base",
      "model_module_version": "2.0.0",
      "model_name": "LayoutModel",
      "state": {
       "_model_module": "@jupyter-widgets/base",
       "_model_module_version": "2.0.0",
       "_model_name": "LayoutModel",
       "_view_count": null,
       "_view_module": "@jupyter-widgets/base",
       "_view_module_version": "2.0.0",
       "_view_name": "LayoutView",
       "align_content": null,
       "align_items": null,
       "align_self": null,
       "border_bottom": null,
       "border_left": null,
       "border_right": null,
       "border_top": null,
       "bottom": null,
       "display": null,
       "flex": null,
       "flex_flow": null,
       "grid_area": null,
       "grid_auto_columns": null,
       "grid_auto_flow": null,
       "grid_auto_rows": null,
       "grid_column": null,
       "grid_gap": null,
       "grid_row": null,
       "grid_template_areas": null,
       "grid_template_columns": null,
       "grid_template_rows": null,
       "height": null,
       "justify_content": null,
       "justify_items": null,
       "left": null,
       "margin": null,
       "max_height": null,
       "max_width": null,
       "min_height": null,
       "min_width": null,
       "object_fit": null,
       "object_position": null,
       "order": null,
       "overflow": null,
       "padding": null,
       "right": null,
       "top": null,
       "visibility": null,
       "width": null
      }
     },
     "c6eb6a3b81c246faa07c664d684ee1dc": {
      "model_module": "@jupyter-widgets/controls",
      "model_module_version": "2.0.0",
      "model_name": "HTMLModel",
      "state": {
       "_dom_classes": [],
       "_model_module": "@jupyter-widgets/controls",
       "_model_module_version": "2.0.0",
       "_model_name": "HTMLModel",
       "_view_count": null,
       "_view_module": "@jupyter-widgets/controls",
       "_view_module_version": "2.0.0",
       "_view_name": "HTMLView",
       "description": "",
       "description_allow_html": false,
       "layout": "IPY_MODEL_685301efc012460cab0b061584bd0db3",
       "placeholder": "​",
       "style": "IPY_MODEL_bad715fea332480d812333288bb5d36d",
       "tabbable": null,
       "tooltip": null,
       "value": "<h5><a href=\"https://github.com/jupyter-book/myst-theme\">jupyter-book/myst-theme</a></h5>\n<ul>\n<li><a href=\"https://github.com/jupyter-book/myst-theme/issues/527\">(#527)</a>: <em>Support Bokeh Plots</em> by <strong><a href=\"https://github.com/acocac\">@acocac</a></strong></li>\n<li><a href=\"https://github.com/jupyter-book/myst-theme/issues/437\">(#437)</a>: _Allow authors to link custom JavaScript scripts to their pages by adding HTML manually or via configuration _ by <strong><a href=\"https://github.com/choldgraf\">@choldgraf</a></strong></li>\n<li><a href=\"https://github.com/jupyter-book/myst-theme/issues/567\">(#567)</a>: <em>Move colour choices to theme variables</em> by <strong><a href=\"https://github.com/agoose77\">@agoose77</a></strong></li>\n<li><a href=\"https://github.com/jupyter-book/myst-theme/issues/342\">(#342)</a>: <em>HTML served with <code>&lt;img src=http://localhost:3100&gt; even with</code>HOST=10.0.0.1 myst start --keep-host`</em> by <strong><a href=\"https://github.com/drewlio\">@drewlio</a></strong></li>\n<li><a href=\"https://github.com/jupyter-book/myst-theme/issues/513\">(#513)</a>: <em>Support return navigation for footnotes on mobile</em> by <strong><a href=\"https://github.com/agoose77\">@agoose77</a></strong></li>\n</ul>"
      }
     },
     "c9fb3e3f44554a24af66784976cf4cb4": {
      "model_module": "@jupyter-widgets/controls",
      "model_module_version": "2.0.0",
      "model_name": "HTMLStyleModel",
      "state": {
       "_model_module": "@jupyter-widgets/controls",
       "_model_module_version": "2.0.0",
       "_model_name": "HTMLStyleModel",
       "_view_count": null,
       "_view_module": "@jupyter-widgets/base",
       "_view_module_version": "2.0.0",
       "_view_name": "StyleView",
       "background": null,
       "description_width": "",
       "font_size": null,
       "text_color": null
      }
     },
     "d5eec5efab9b4090b0824b34198c11d5": {
      "model_module": "@jupyter-widgets/controls",
      "model_module_version": "2.0.0",
      "model_name": "HTMLStyleModel",
      "state": {
       "_model_module": "@jupyter-widgets/controls",
       "_model_module_version": "2.0.0",
       "_model_name": "HTMLStyleModel",
       "_view_count": null,
       "_view_module": "@jupyter-widgets/base",
       "_view_module_version": "2.0.0",
       "_view_name": "StyleView",
       "background": null,
       "description_width": "",
       "font_size": null,
       "text_color": null
      }
     },
     "d6e31003903c4fc0a0436668f9e7dea4": {
      "model_module": "@jupyter-widgets/controls",
      "model_module_version": "2.0.0",
      "model_name": "HTMLStyleModel",
      "state": {
       "_model_module": "@jupyter-widgets/controls",
       "_model_module_version": "2.0.0",
       "_model_name": "HTMLStyleModel",
       "_view_count": null,
       "_view_module": "@jupyter-widgets/base",
       "_view_module_version": "2.0.0",
       "_view_name": "StyleView",
       "background": null,
       "description_width": "",
       "font_size": null,
       "text_color": null
      }
     },
     "d6ebe7f1b63246ca9607c3f6e12a387f": {
      "model_module": "@jupyter-widgets/controls",
      "model_module_version": "2.0.0",
      "model_name": "HTMLModel",
      "state": {
       "_dom_classes": [],
       "_model_module": "@jupyter-widgets/controls",
       "_model_module_version": "2.0.0",
       "_model_name": "HTMLModel",
       "_view_count": null,
       "_view_module": "@jupyter-widgets/controls",
       "_view_module_version": "2.0.0",
       "_view_name": "HTMLView",
       "description": "",
       "description_allow_html": false,
       "layout": "IPY_MODEL_0c32e1c3d99b43a28767ca345a84d988",
       "placeholder": "​",
       "style": "IPY_MODEL_95188cae0d0143ea803d1267f5e69f24",
       "tabbable": null,
       "tooltip": null,
       "value": "<h4>Closed PRs for repo: <a href=\"https://github.com/jupyter-book/team-compass\">jupyter-book/team-compass</a></h4>\n<h5></h5>\n<ul>\n<li><a href=\"https://github.com/jupyter-book/team-compass/issues/15\">(#15)</a>: <em>🧹 Drop images (now referenced from <code>meta</code>)</em> by <strong><a href=\"https://github.com/agoose77\">@agoose77</a></strong> merged by <strong><a href=\"https://github.com/choldgraf\">@choldgraf</a></strong></li>\n<li><a href=\"https://github.com/jupyter-book/team-compass/issues/18\">(#18)</a>: <em>Adding light decision making process</em> by <strong><a href=\"https://github.com/choldgraf\">@choldgraf</a></strong> merged by <strong><a href=\"https://github.com/choldgraf\">@choldgraf</a></strong></li>\n<li><a href=\"https://github.com/jupyter-book/team-compass/issues/23\">(#23)</a>: <em>🗓️ Add meeting schedule</em> by <strong><a href=\"https://github.com/agoose77\">@agoose77</a></strong> merged by <strong><a href=\"https://github.com/agoose77\">@agoose77</a></strong></li>\n</ul>"
      }
     },
     "e3f67edd5eed4316b6bc943f88de4c55": {
      "model_module": "@jupyter-widgets/controls",
      "model_module_version": "2.0.0",
      "model_name": "HTMLModel",
      "state": {
       "_dom_classes": [],
       "_model_module": "@jupyter-widgets/controls",
       "_model_module_version": "2.0.0",
       "_model_name": "HTMLModel",
       "_view_count": null,
       "_view_module": "@jupyter-widgets/controls",
       "_view_module_version": "2.0.0",
       "_view_name": "HTMLView",
       "description": "",
       "description_allow_html": false,
       "layout": "IPY_MODEL_a5207653419c4725996c437b07966263",
       "placeholder": "​",
       "style": "IPY_MODEL_5b53e462d1a043e88fd4287721e4b66e",
       "tabbable": null,
       "tooltip": null,
       "value": "<h5><a href=\"https://github.com/jupyter-book/team-compass\">jupyter-book/team-compass</a></h5>\n<ul>\n<li><a href=\"https://github.com/jupyter-book/team-compass/issues/20\">(#20)</a>: <em>Run publicly accessible team meetings</em> by <strong><a href=\"https://github.com/choldgraf\">@choldgraf</a></strong></li>\n<li><a href=\"https://github.com/jupyter-book/team-compass/issues/26\">(#26)</a>: <em>Encourage \"experience reports\" from users</em> by <strong><a href=\"https://github.com/mfisher87\">@mfisher87</a></strong></li>\n<li><a href=\"https://github.com/jupyter-book/team-compass/issues/24\">(#24)</a>: <em>Move our DNS owner from squarespace to Jupyter's CloudFlare</em> by <strong><a href=\"https://github.com/choldgraf\">@choldgraf</a></strong></li>\n<li><a href=\"https://github.com/jupyter-book/team-compass/issues/12\">(#12)</a>: <em>Switch references to executablebooks to instead point to jupyterbook</em> by <strong><a href=\"https://github.com/choldgraf\">@choldgraf</a></strong></li>\n<li><a href=\"https://github.com/jupyter-book/team-compass/issues/25\">(#25)</a>: <em>Make our documentation deployment infrastructure available to all jupyter book team members</em> by <strong><a href=\"https://github.com/choldgraf\">@choldgraf</a></strong></li>\n</ul>"
      }
     },
     "e54bd2ee8aba4ff68ff9374b28f3bd6c": {
      "model_module": "@jupyter-widgets/controls",
      "model_module_version": "2.0.0",
      "model_name": "TabModel",
      "state": {
       "_dom_classes": [],
       "_model_module": "@jupyter-widgets/controls",
       "_model_module_version": "2.0.0",
       "_model_name": "TabModel",
       "_view_count": null,
       "_view_module": "@jupyter-widgets/controls",
       "_view_module_version": "2.0.0",
       "_view_name": "TabView",
       "box_style": "",
       "children": [
        "IPY_MODEL_771c2f4323314e9e8d1669070a9a7a0a",
        "IPY_MODEL_2f7d63ee1baa45ae933b30412a67a33a",
        "IPY_MODEL_52068a73bb38469ab005c21e289377bf",
        "IPY_MODEL_164fa858884c408b97eb937c5112c7c7",
        "IPY_MODEL_923616beca3a4f8a9e2d10094c1758c6",
        "IPY_MODEL_3a3501e4aec041be89c41f018d64c722",
        "IPY_MODEL_d6ebe7f1b63246ca9607c3f6e12a387f",
        "IPY_MODEL_79b14d1d910948ac8db98a988b037cb3"
       ],
       "layout": "IPY_MODEL_1d3355b8fb7f4b81ae4c776257f4486c",
       "selected_index": 0,
       "tabbable": null,
       "titles": [
        "jupyter-book",
        "myst-enhancement-proposals",
        "myst-spec",
        "myst-theme",
        "mystmd",
        "mystmd.org",
        "team-compass",
        "thebe"
       ],
       "tooltip": null
      }
     },
     "e5516e05f5ba459abb6e6dd4d1a2a33a": {
      "model_module": "@jupyter-widgets/base",
      "model_module_version": "2.0.0",
      "model_name": "LayoutModel",
      "state": {
       "_model_module": "@jupyter-widgets/base",
       "_model_module_version": "2.0.0",
       "_model_name": "LayoutModel",
       "_view_count": null,
       "_view_module": "@jupyter-widgets/base",
       "_view_module_version": "2.0.0",
       "_view_name": "LayoutView",
       "align_content": null,
       "align_items": null,
       "align_self": null,
       "border_bottom": null,
       "border_left": null,
       "border_right": null,
       "border_top": null,
       "bottom": null,
       "display": null,
       "flex": null,
       "flex_flow": null,
       "grid_area": null,
       "grid_auto_columns": null,
       "grid_auto_flow": null,
       "grid_auto_rows": null,
       "grid_column": null,
       "grid_gap": null,
       "grid_row": null,
       "grid_template_areas": null,
       "grid_template_columns": null,
       "grid_template_rows": null,
       "height": null,
       "justify_content": null,
       "justify_items": null,
       "left": null,
       "margin": null,
       "max_height": null,
       "max_width": null,
       "min_height": null,
       "min_width": null,
       "object_fit": null,
       "object_position": null,
       "order": null,
       "overflow": null,
       "padding": null,
       "right": null,
       "top": null,
       "visibility": null,
       "width": null
      }
     },
     "e88ebc35fa6e4ff486cd88db3dd38e5a": {
      "model_module": "@jupyter-widgets/base",
      "model_module_version": "2.0.0",
      "model_name": "LayoutModel",
      "state": {
       "_model_module": "@jupyter-widgets/base",
       "_model_module_version": "2.0.0",
       "_model_name": "LayoutModel",
       "_view_count": null,
       "_view_module": "@jupyter-widgets/base",
       "_view_module_version": "2.0.0",
       "_view_name": "LayoutView",
       "align_content": null,
       "align_items": null,
       "align_self": null,
       "border_bottom": null,
       "border_left": null,
       "border_right": null,
       "border_top": null,
       "bottom": null,
       "display": null,
       "flex": null,
       "flex_flow": null,
       "grid_area": null,
       "grid_auto_columns": null,
       "grid_auto_flow": null,
       "grid_auto_rows": null,
       "grid_column": null,
       "grid_gap": null,
       "grid_row": null,
       "grid_template_areas": null,
       "grid_template_columns": null,
       "grid_template_rows": null,
       "height": null,
       "justify_content": null,
       "justify_items": null,
       "left": null,
       "margin": null,
       "max_height": null,
       "max_width": null,
       "min_height": null,
       "min_width": null,
       "object_fit": null,
       "object_position": null,
       "order": null,
       "overflow": null,
       "padding": null,
       "right": null,
       "top": null,
       "visibility": null,
       "width": null
      }
     },
     "eda7cdb70c2a48fd87609fa211a83201": {
      "model_module": "@jupyter-widgets/controls",
      "model_module_version": "2.0.0",
      "model_name": "HTMLModel",
      "state": {
       "_dom_classes": [],
       "_model_module": "@jupyter-widgets/controls",
       "_model_module_version": "2.0.0",
       "_model_name": "HTMLModel",
       "_view_count": null,
       "_view_module": "@jupyter-widgets/controls",
       "_view_module_version": "2.0.0",
       "_view_name": "HTMLView",
       "description": "",
       "description_allow_html": false,
       "layout": "IPY_MODEL_3f1d772808814db889c81ac38ac6ccef",
       "placeholder": "​",
       "style": "IPY_MODEL_64d70dc6f602413198d3ea9439933b5d",
       "tabbable": null,
       "tooltip": null,
       "value": "<h5><a href=\"https://github.com/jupyter-book/jupyterlab-myst\">jupyter-book/jupyterlab-myst</a></h5>\n<ul>\n<li><a href=\"https://github.com/jupyter-book/jupyterlab-myst/issues/243\">(#243)</a>: <em>Scrolling over notebook got unexpected jump backs</em> by <strong><a href=\"https://github.com/AllanChain\">@AllanChain</a></strong></li>\n<li><a href=\"https://github.com/jupyter-book/jupyterlab-myst/issues/257\">(#257)</a>: <em>Dancing Page</em> by <strong><a href=\"https://github.com/microcoder\">@microcoder</a></strong></li>\n<li><a href=\"https://github.com/jupyter-book/jupyterlab-myst/issues/248\">(#248)</a>: <em>Do Not highlight links</em> by <strong><a href=\"https://github.com/microcoder\">@microcoder</a></strong></li>\n<li><a href=\"https://github.com/jupyter-book/jupyterlab-myst/issues/175\">(#175)</a>: <em><code>eval</code> role not working as expected</em> by <strong><a href=\"https://github.com/rkansal47\">@rkansal47</a></strong></li>\n<li><a href=\"https://github.com/jupyter-book/jupyterlab-myst/issues/250\">(#250)</a>: <em>Scrolling is stucking on the page</em> by <strong><a href=\"https://github.com/microcoder\">@microcoder</a></strong></li>\n</ul>"
      }
     },
     "ee1d224cc375416789e083b418aa0bc9": {
      "model_module": "@jupyter-widgets/controls",
      "model_module_version": "2.0.0",
      "model_name": "HTMLModel",
      "state": {
       "_dom_classes": [],
       "_model_module": "@jupyter-widgets/controls",
       "_model_module_version": "2.0.0",
       "_model_name": "HTMLModel",
       "_view_count": null,
       "_view_module": "@jupyter-widgets/controls",
       "_view_module_version": "2.0.0",
       "_view_name": "HTMLView",
       "description": "",
       "description_allow_html": false,
       "layout": "IPY_MODEL_9d1348ec55cf42d293d7bafb1661b8e1",
       "placeholder": "​",
       "style": "IPY_MODEL_b7973f3218e84272b6f156847af1d782",
       "tabbable": null,
       "tooltip": null,
       "value": "<h5><a href=\"https://github.com/jupyter-book/mystmd.org\">jupyter-book/mystmd.org</a></h5>\n<ul>\n<li><a href=\"https://github.com/jupyter-book/mystmd.org/issues/22\">(#22)</a>: <em>Update dependencies after adding button-role</em> by <strong><a href=\"https://github.com/jnywong\">@jnywong</a></strong></li>\n<li><a href=\"https://github.com/jupyter-book/mystmd.org/issues/25\">(#25)</a>: <em>We must re-authenticate with Rowan's Vercel project</em> by <strong><a href=\"https://github.com/choldgraf\">@choldgraf</a></strong></li>\n<li><a href=\"https://github.com/jupyter-book/mystmd.org/issues/26\">(#26)</a>: <em>Document our Vercel deployment and share access to the steering council</em> by <strong><a href=\"https://github.com/choldgraf\">@choldgraf</a></strong></li>\n</ul>"
      }
     },
     "f623f8698e534d5b8a98de7a1c73c51b": {
      "model_module": "@jupyter-widgets/controls",
      "model_module_version": "2.0.0",
      "model_name": "HTMLStyleModel",
      "state": {
       "_model_module": "@jupyter-widgets/controls",
       "_model_module_version": "2.0.0",
       "_model_name": "HTMLStyleModel",
       "_view_count": null,
       "_view_module": "@jupyter-widgets/base",
       "_view_module_version": "2.0.0",
       "_view_name": "StyleView",
       "background": null,
       "description_width": "",
       "font_size": null,
       "text_color": null
      }
     },
     "f7cd9b3f86c24740b99340160f0068c3": {
      "model_module": "@jupyter-widgets/controls",
      "model_module_version": "2.0.0",
      "model_name": "HTMLModel",
      "state": {
       "_dom_classes": [],
       "_model_module": "@jupyter-widgets/controls",
       "_model_module_version": "2.0.0",
       "_model_name": "HTMLModel",
       "_view_count": null,
       "_view_module": "@jupyter-widgets/controls",
       "_view_module_version": "2.0.0",
       "_view_name": "HTMLView",
       "description": "",
       "description_allow_html": false,
       "layout": "IPY_MODEL_77e3cb497f774507b481835de2b8b91e",
       "placeholder": "​",
       "style": "IPY_MODEL_d6e31003903c4fc0a0436668f9e7dea4",
       "tabbable": null,
       "tooltip": null,
       "value": "<h5><a href=\"https://github.com/jupyter-book/jupyter-book\">jupyter-book/jupyter-book</a></h5>\n<ul>\n<li><a href=\"https://github.com/jupyter-book/jupyter-book/issues/2311\">(#2311)</a>: <em>[Bug]: Couldn't push it to github pages using github workflow</em> by <strong><a href=\"https://github.com/prateekshukla1108\">@prateekshukla1108</a></strong></li>\n<li><a href=\"https://github.com/jupyter-book/jupyter-book/issues/2340\">(#2340)</a>: <em>Milestone: Jupyter Book announcement at SciPy 2025</em> by <strong><a href=\"https://github.com/choldgraf\">@choldgraf</a></strong></li>\n<li><a href=\"https://github.com/jupyter-book/jupyter-book/issues/1474\">(#1474)</a>: <em>Add a high-level diagram of Jupyter Book's infrastructure components</em> by <strong><a href=\"https://github.com/choldgraf\">@choldgraf</a></strong></li>\n<li><a href=\"https://github.com/jupyter-book/jupyter-book/issues/2051\">(#2051)</a>: <em>is there a way to have a collapsible/dropdown admonition start opened ?</em> by <strong><a href=\"https://github.com/parmentelat\">@parmentelat</a></strong></li>\n<li><a href=\"https://github.com/jupyter-book/jupyter-book/issues/2347\">(#2347)</a>: <em>Nbody startpoints on a circle,  Verlet</em> by <strong><a href=\"https://github.com/denis-bz\">@denis-bz</a></strong></li>\n</ul>"
      }
     },
     "fef8f247da524a9e84413d12659a104d": {
      "model_module": "@jupyter-widgets/controls",
      "model_module_version": "2.0.0",
      "model_name": "HTMLModel",
      "state": {
       "_dom_classes": [],
       "_model_module": "@jupyter-widgets/controls",
       "_model_module_version": "2.0.0",
       "_model_name": "HTMLModel",
       "_view_count": null,
       "_view_module": "@jupyter-widgets/controls",
       "_view_module_version": "2.0.0",
       "_view_name": "HTMLView",
       "description": "",
       "description_allow_html": false,
       "layout": "IPY_MODEL_41c4cddcc6ca4a7bb14852d644e67ac7",
       "placeholder": "​",
       "style": "IPY_MODEL_c9fb3e3f44554a24af66784976cf4cb4",
       "tabbable": null,
       "tooltip": null,
       "value": "<h5><a href=\"https://github.com/jupyter-book/myst-enhancement-proposals\">jupyter-book/myst-enhancement-proposals</a></h5>\n<ul>\n<li><a href=\"https://github.com/jupyter-book/myst-enhancement-proposals/issues/30\">(#30)</a>: <em>[MEP process] Define separate proposal and implementation stages</em> by <strong><a href=\"https://github.com/mmcky\">@mmcky</a></strong></li>\n</ul>"
      }
     }
    },
    "version_major": 2,
    "version_minor": 0
   }
  }
 },
 "nbformat": 4,
 "nbformat_minor": 5
}