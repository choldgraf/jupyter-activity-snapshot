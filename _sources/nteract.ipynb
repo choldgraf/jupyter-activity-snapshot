{
 "cells": [
  {
   "cell_type": "markdown",
   "metadata": {
    "papermill": {
     "duration": 0.034728,
     "end_time": "2020-10-06T01:29:10.035627",
     "exception": false,
     "start_time": "2020-10-06T01:29:10.000899",
     "status": "completed"
    },
    "tags": []
   },
   "source": [
    "# {glue:text}`nteract_github_org`\n",
    "\n",
    "**Activity from {glue:}`nteract_start` to {glue:}`nteract_stop`**"
   ]
  },
  {
   "cell_type": "code",
   "execution_count": 1,
   "metadata": {
    "execution": {
     "iopub.execute_input": "2020-10-06T01:29:10.108353Z",
     "iopub.status.busy": "2020-10-06T01:29:10.107787Z",
     "iopub.status.idle": "2020-10-06T01:29:11.578236Z",
     "shell.execute_reply": "2020-10-06T01:29:11.577333Z"
    },
    "papermill": {
     "duration": 1.510359,
     "end_time": "2020-10-06T01:29:11.578454",
     "exception": false,
     "start_time": "2020-10-06T01:29:10.068095",
     "status": "completed"
    },
    "tags": [
     "remove_cell"
    ]
   },
   "outputs": [],
   "source": [
    "import github_activity as ga\n",
    "from datetime import date\n",
    "from dateutil.relativedelta import relativedelta\n",
    "from myst_nb import glue\n",
    "import seaborn as sns\n",
    "import pandas as pd\n",
    "import numpy as np\n",
    "import altair as alt\n",
    "from markdown import markdown\n",
    "from IPython.display import Markdown\n",
    "from ipywidgets.widgets import HTML, Tab\n",
    "from ipywidgets import widgets\n",
    "from datetime import timedelta\n",
    "from matplotlib import pyplot as plt\n",
    "import os.path as op\n",
    "\n",
    "from warnings import simplefilter\n",
    "simplefilter('ignore')"
   ]
  },
  {
   "cell_type": "code",
   "execution_count": 2,
   "metadata": {
    "execution": {
     "iopub.execute_input": "2020-10-06T01:29:11.648878Z",
     "iopub.status.busy": "2020-10-06T01:29:11.648113Z",
     "iopub.status.idle": "2020-10-06T01:29:11.652455Z",
     "shell.execute_reply": "2020-10-06T01:29:11.651994Z"
    },
    "papermill": {
     "duration": 0.042685,
     "end_time": "2020-10-06T01:29:11.652592",
     "exception": false,
     "start_time": "2020-10-06T01:29:11.609907",
     "status": "completed"
    },
    "tags": [
     "remove_cell"
    ]
   },
   "outputs": [],
   "source": [
    "# Altair config\n",
    "def author_url(author):\n",
    "    return f\"https://github.com/{author}\"\n",
    "\n",
    "def alt_theme():\n",
    "    return {\n",
    "        'config': {\n",
    "            'axisLeft': {\n",
    "                'labelFontSize': 15,\n",
    "            },\n",
    "            'axisBottom': {\n",
    "                'labelFontSize': 15,\n",
    "            },\n",
    "        }\n",
    "    }\n",
    "\n",
    "alt.themes.register('my_theme', alt_theme)\n",
    "alt.themes.enable(\"my_theme\")\n",
    "\n",
    "\n",
    "# Define colors we'll use for GitHub membership\n",
    "author_types = ['MEMBER', 'CONTRIBUTOR', 'COLLABORATOR', \"NONE\"]\n",
    "\n",
    "author_palette = np.array(sns.palettes.blend_palette([\"lightgrey\", \"lightgreen\", \"darkgreen\"], 4)) * 256\n",
    "author_colors = [\"rgb({}, {}, {})\".format(*color) for color in author_palette]\n",
    "author_color_dict = {key: val for key, val in zip(author_types, author_palette)}"
   ]
  },
  {
   "cell_type": "code",
   "execution_count": 3,
   "metadata": {
    "execution": {
     "iopub.execute_input": "2020-10-06T01:29:11.723413Z",
     "iopub.status.busy": "2020-10-06T01:29:11.722805Z",
     "iopub.status.idle": "2020-10-06T01:29:11.724834Z",
     "shell.execute_reply": "2020-10-06T01:29:11.725434Z"
    },
    "papermill": {
     "duration": 0.039241,
     "end_time": "2020-10-06T01:29:11.725611",
     "exception": false,
     "start_time": "2020-10-06T01:29:11.686370",
     "status": "completed"
    },
    "tags": [
     "parameters",
     "hide_input",
     "remove_cell"
    ]
   },
   "outputs": [],
   "source": [
    "github_org = \"jupyterhub\"\n",
    "top_n_repos = 15\n",
    "n_days = 10"
   ]
  },
  {
   "cell_type": "code",
   "execution_count": 4,
   "metadata": {
    "execution": {
     "iopub.execute_input": "2020-10-06T01:29:11.793541Z",
     "iopub.status.busy": "2020-10-06T01:29:11.793010Z",
     "iopub.status.idle": "2020-10-06T01:29:11.795571Z",
     "shell.execute_reply": "2020-10-06T01:29:11.795056Z"
    },
    "papermill": {
     "duration": 0.036077,
     "end_time": "2020-10-06T01:29:11.795736",
     "exception": false,
     "start_time": "2020-10-06T01:29:11.759659",
     "status": "completed"
    },
    "tags": [
     "injected-parameters",
     "remove-cell"
    ]
   },
   "outputs": [],
   "source": [
    "# Parameters\n",
    "github_org = \"nteract\"\n",
    "n_days = 60\n"
   ]
  },
  {
   "cell_type": "code",
   "execution_count": 5,
   "metadata": {
    "execution": {
     "iopub.execute_input": "2020-10-06T01:29:11.864023Z",
     "iopub.status.busy": "2020-10-06T01:29:11.863436Z",
     "iopub.status.idle": "2020-10-06T01:29:11.869652Z",
     "shell.execute_reply": "2020-10-06T01:29:11.869181Z"
    },
    "papermill": {
     "duration": 0.043234,
     "end_time": "2020-10-06T01:29:11.869786",
     "exception": false,
     "start_time": "2020-10-06T01:29:11.826552",
     "status": "completed"
    },
    "tags": [
     "remove_cell"
    ]
   },
   "outputs": [
    {
     "data": {
      "application/papermill.record/text/plain": "'nteract'"
     },
     "metadata": {
      "scrapbook": {
       "mime_prefix": "application/papermill.record/",
       "name": "nteract_github_org"
      }
     },
     "output_type": "display_data"
    },
    {
     "data": {
      "application/papermill.record/text/plain": "'2020-08-07'"
     },
     "metadata": {
      "scrapbook": {
       "mime_prefix": "application/papermill.record/",
       "name": "nteract_start"
      }
     },
     "output_type": "display_data"
    },
    {
     "data": {
      "application/papermill.record/text/plain": "'2020-10-06'"
     },
     "metadata": {
      "scrapbook": {
       "mime_prefix": "application/papermill.record/",
       "name": "nteract_stop"
      }
     },
     "output_type": "display_data"
    }
   ],
   "source": [
    "############################################################\n",
    "# Variables\n",
    "stop = date.today()\n",
    "start = date.today() - relativedelta(days=n_days)\n",
    "\n",
    "# Strings for use in queries\n",
    "start_date = f\"{start:%Y-%m-%d}\"\n",
    "stop_date = f\"{stop:%Y-%m-%d}\"\n",
    "\n",
    "# Glue variables for use in markdown\n",
    "glue(f\"{github_org}_github_org\", github_org, display=False)\n",
    "glue(f\"{github_org}_start\", start_date, display=False)\n",
    "glue(f\"{github_org}_stop\", stop_date, display=False)"
   ]
  },
  {
   "cell_type": "code",
   "execution_count": 6,
   "metadata": {
    "execution": {
     "iopub.execute_input": "2020-10-06T01:29:11.946184Z",
     "iopub.status.busy": "2020-10-06T01:29:11.945455Z",
     "iopub.status.idle": "2020-10-06T01:29:29.617101Z",
     "shell.execute_reply": "2020-10-06T01:29:29.617754Z"
    },
    "papermill": {
     "duration": 17.715449,
     "end_time": "2020-10-06T01:29:29.617988",
     "exception": false,
     "start_time": "2020-10-06T01:29:11.902539",
     "status": "completed"
    },
    "tags": [
     "remove_cell"
    ]
   },
   "outputs": [
    {
     "name": "stdout",
     "output_type": "stream",
     "text": [
      "Running search query:\n",
      "user:nteract\n",
      "\n",
      "\n"
     ]
    },
    {
     "name": "stdout",
     "output_type": "stream",
     "text": [
      "Found 170 items, which will take 4 pages\n"
     ]
    },
    {
     "data": {
      "application/vnd.jupyter.widget-view+json": {
       "model_id": "54f4813e83294415bb7376c7eb967364",
       "version_major": 2,
       "version_minor": 0
      },
      "text/plain": [
       "IntProgress(value=0, description='Downloading:', max=4)"
      ]
     },
     "metadata": {},
     "output_type": "display_data"
    },
    {
     "name": "stdout",
     "output_type": "stream",
     "text": [
      "Found 151 items, which will take 4 pages\n"
     ]
    },
    {
     "data": {
      "application/vnd.jupyter.widget-view+json": {
       "model_id": "32e3d30007fb436087f400475e169a8b",
       "version_major": 2,
       "version_minor": 0
      },
      "text/plain": [
       "IntProgress(value=0, description='Downloading:', max=4)"
      ]
     },
     "metadata": {},
     "output_type": "display_data"
    }
   ],
   "source": [
    "############################################################\n",
    "# Fetch the raw data and load data we need\n",
    "raw_data = ga.get_activity(github_org, start_date)\n",
    "bot_names = pd.read_csv('../bot_names.csv')['names'].tolist()\n",
    "data = raw_data.copy()\n",
    "\n",
    "# Prepare our data\n",
    "data[\"kind\"] = data[\"url\"].map(lambda a: \"issue\" if \"issues/\" in a else \"pr\")\n",
    "data[\"mergedBy\"] = data[\"mergedBy\"].map(lambda a: a[\"login\"] if not isinstance(a, (float, type(None))) else None)\n",
    "\n",
    "prs = data.query(\"kind == 'pr'\")\n",
    "issues = data.query(\"kind == 'issue'\")\n",
    "\n",
    "# Pull out the comments\n",
    "comments = []\n",
    "for _, irow in data.iterrows():\n",
    "    for icomment in irow['comments']['edges']:\n",
    "        icomment = icomment[\"node\"].copy()\n",
    "        icomment[\"author\"] = icomment[\"author\"][\"login\"] if icomment[\"author\"] else None\n",
    "        icomment[\"org\"] = irow[\"org\"]\n",
    "        icomment[\"repo\"] = irow[\"repo\"]\n",
    "        icomment[\"id\"] = irow[\"id\"]\n",
    "        comments.append(pd.Series(icomment))\n",
    "comments = pd.DataFrame(comments)\n",
    "\n",
    "# Clean up\n",
    "for idata in [prs, comments, issues]:\n",
    "    idata.query(\"author not in @bot_names\", inplace=True)\n",
    "    idata.drop_duplicates(subset=[\"url\"], inplace=True)\n",
    "\n",
    "# What are the top N repos, we will only plot these in the full data plots\n",
    "top_commented_repos = comments.groupby(\"repo\").count().sort_values(\"createdAt\", ascending=False)['createdAt']\n",
    "use_repos = top_commented_repos.head(top_n_repos).index.tolist()"
   ]
  },
  {
   "cell_type": "markdown",
   "metadata": {
    "papermill": {
     "duration": 0.038139,
     "end_time": "2020-10-06T01:29:29.694763",
     "exception": false,
     "start_time": "2020-10-06T01:29:29.656624",
     "status": "completed"
    },
    "tags": [
     "remove_cell"
    ]
   },
   "source": [
    "## Save the data to disk"
   ]
  },
  {
   "cell_type": "code",
   "execution_count": 7,
   "metadata": {
    "execution": {
     "iopub.execute_input": "2020-10-06T01:29:29.780027Z",
     "iopub.status.busy": "2020-10-06T01:29:29.779348Z",
     "iopub.status.idle": "2020-10-06T01:29:30.136012Z",
     "shell.execute_reply": "2020-10-06T01:29:30.135450Z"
    },
    "papermill": {
     "duration": 0.398808,
     "end_time": "2020-10-06T01:29:30.136173",
     "exception": false,
     "start_time": "2020-10-06T01:29:29.737365",
     "status": "completed"
    },
    "tags": [
     "remove_cell"
    ]
   },
   "outputs": [],
   "source": [
    "from pathlib import Path\n",
    "for name, idata in [(\"comments\", comments), (\"prs\", prs), (\"issues\", issues)]:\n",
    "    path_data = Path(f\"./{name}.csv\")\n",
    "    if path_data.exists():\n",
    "        idata = pd.read_csv(path_data).append(idata)\n",
    "    idata = idata.drop_duplicates(subset=[\"url\"])\n",
    "    idata.to_csv(path_data, index=None)"
   ]
  },
  {
   "cell_type": "markdown",
   "metadata": {
    "papermill": {
     "duration": 0.038661,
     "end_time": "2020-10-06T01:29:30.213655",
     "exception": false,
     "start_time": "2020-10-06T01:29:30.174994",
     "status": "completed"
    },
    "tags": [],
    "toc-hr-collapsed": false
   },
   "source": [
    "## Merged Pull requests\n",
    "\n",
    "Here's an analysis of **merged pull requests** across each of the repositories in the Jupyter\n",
    "ecosystem."
   ]
  },
  {
   "cell_type": "code",
   "execution_count": 8,
   "metadata": {
    "execution": {
     "iopub.execute_input": "2020-10-06T01:29:30.298312Z",
     "iopub.status.busy": "2020-10-06T01:29:30.297645Z",
     "iopub.status.idle": "2020-10-06T01:29:30.300094Z",
     "shell.execute_reply": "2020-10-06T01:29:30.299575Z"
    },
    "papermill": {
     "duration": 0.0474,
     "end_time": "2020-10-06T01:29:30.300226",
     "exception": false,
     "start_time": "2020-10-06T01:29:30.252826",
     "status": "completed"
    },
    "tags": [
     "remove_cell"
    ]
   },
   "outputs": [],
   "source": [
    "merged = prs.query('state == \"MERGED\" and closedAt > @start_date and closedAt < @stop_date')"
   ]
  },
  {
   "cell_type": "code",
   "execution_count": 9,
   "metadata": {
    "execution": {
     "iopub.execute_input": "2020-10-06T01:29:30.473444Z",
     "iopub.status.busy": "2020-10-06T01:29:30.472671Z",
     "iopub.status.idle": "2020-10-06T01:29:30.487622Z",
     "shell.execute_reply": "2020-10-06T01:29:30.488088Z"
    },
    "papermill": {
     "duration": 0.150903,
     "end_time": "2020-10-06T01:29:30.488265",
     "exception": false,
     "start_time": "2020-10-06T01:29:30.337362",
     "status": "completed"
    },
    "tags": [
     "hide_input"
    ]
   },
   "outputs": [
    {
     "data": {
      "text/html": [
       "\n",
       "<div id=\"altair-viz-91a6e1f83aa1442c866e095149065bd9\"></div>\n",
       "<script type=\"text/javascript\">\n",
       "  (function(spec, embedOpt){\n",
       "    let outputDiv = document.currentScript.previousElementSibling;\n",
       "    if (outputDiv.id !== \"altair-viz-91a6e1f83aa1442c866e095149065bd9\") {\n",
       "      outputDiv = document.getElementById(\"altair-viz-91a6e1f83aa1442c866e095149065bd9\");\n",
       "    }\n",
       "    const paths = {\n",
       "      \"vega\": \"https://cdn.jsdelivr.net/npm//vega@5?noext\",\n",
       "      \"vega-lib\": \"https://cdn.jsdelivr.net/npm//vega-lib?noext\",\n",
       "      \"vega-lite\": \"https://cdn.jsdelivr.net/npm//vega-lite@4.8.1?noext\",\n",
       "      \"vega-embed\": \"https://cdn.jsdelivr.net/npm//vega-embed@6?noext\",\n",
       "    };\n",
       "\n",
       "    function loadScript(lib) {\n",
       "      return new Promise(function(resolve, reject) {\n",
       "        var s = document.createElement('script');\n",
       "        s.src = paths[lib];\n",
       "        s.async = true;\n",
       "        s.onload = () => resolve(paths[lib]);\n",
       "        s.onerror = () => reject(`Error loading script: ${paths[lib]}`);\n",
       "        document.getElementsByTagName(\"head\")[0].appendChild(s);\n",
       "      });\n",
       "    }\n",
       "\n",
       "    function showError(err) {\n",
       "      outputDiv.innerHTML = `<div class=\"error\" style=\"color:red;\">${err}</div>`;\n",
       "      throw err;\n",
       "    }\n",
       "\n",
       "    function displayChart(vegaEmbed) {\n",
       "      vegaEmbed(outputDiv, spec, embedOpt)\n",
       "        .catch(err => showError(`Javascript Error: ${err.message}<br>This usually means there's a typo in your chart specification. See the javascript console for the full traceback.`));\n",
       "    }\n",
       "\n",
       "    if(typeof define === \"function\" && define.amd) {\n",
       "      requirejs.config({paths});\n",
       "      require([\"vega-embed\"], displayChart, err => showError(`Error loading script: ${err.message}`));\n",
       "    } else if (typeof vegaEmbed === \"function\") {\n",
       "      displayChart(vegaEmbed);\n",
       "    } else {\n",
       "      loadScript(\"vega\")\n",
       "        .then(() => loadScript(\"vega-lite\"))\n",
       "        .then(() => loadScript(\"vega-embed\"))\n",
       "        .catch(showError)\n",
       "        .then(() => displayChart(vegaEmbed));\n",
       "    }\n",
       "  })({\"config\": {\"axisLeft\": {\"labelFontSize\": 15}, \"axisBottom\": {\"labelFontSize\": 15}}, \"data\": {\"name\": \"data-8cc5f0040ddf5a55162ed9213e71e597\"}, \"mark\": \"bar\", \"encoding\": {\"color\": {\"type\": \"nominal\", \"field\": \"org\"}, \"x\": {\"type\": \"nominal\", \"field\": \"repo\", \"sort\": [\"nteract\", \"testbook\", \"outputs\", \"meeting-minutes\", \"papermill\", \"commuter\", \"hydrogen\", \"ansi-to-react\", \"markdown\", \"mathjax\", \"semiotic-docs\"]}, \"y\": {\"type\": \"quantitative\", \"field\": \"author\"}}, \"title\": \"Merged PRs in the last 60 days\", \"$schema\": \"https://vega.github.io/schema/vega-lite/v4.8.1.json\", \"datasets\": {\"data-8cc5f0040ddf5a55162ed9213e71e597\": [{\"org\": \"nteract\", \"repo\": \"nteract\", \"author\": 13}, {\"org\": \"nteract\", \"repo\": \"testbook\", \"author\": 13}, {\"org\": \"nteract\", \"repo\": \"outputs\", \"author\": 8}, {\"org\": \"nteract\", \"repo\": \"meeting-minutes\", \"author\": 5}, {\"org\": \"nteract\", \"repo\": \"papermill\", \"author\": 4}, {\"org\": \"nteract\", \"repo\": \"commuter\", \"author\": 2}, {\"org\": \"nteract\", \"repo\": \"hydrogen\", \"author\": 2}, {\"org\": \"nteract\", \"repo\": \"ansi-to-react\", \"author\": 1}, {\"org\": \"nteract\", \"repo\": \"markdown\", \"author\": 1}, {\"org\": \"nteract\", \"repo\": \"mathjax\", \"author\": 1}, {\"org\": \"nteract\", \"repo\": \"semiotic-docs\", \"author\": 1}]}}, {\"mode\": \"vega-lite\"});\n",
       "</script>"
      ],
      "text/plain": [
       "alt.Chart(...)"
      ]
     },
     "execution_count": 9,
     "metadata": {},
     "output_type": "execute_result"
    }
   ],
   "source": [
    "prs_by_repo = merged.groupby(['org', 'repo']).count()['author'].reset_index().sort_values(['org', 'author'], ascending=False)\n",
    "alt.Chart(data=prs_by_repo, title=f\"Merged PRs in the last {n_days} days\").mark_bar().encode(\n",
    "    x=alt.X('repo', sort=prs_by_repo['repo'].values.tolist()),\n",
    "    y='author',\n",
    "    color='org'\n",
    ")"
   ]
  },
  {
   "cell_type": "markdown",
   "metadata": {
    "papermill": {
     "duration": 0.03399,
     "end_time": "2020-10-06T01:29:30.562493",
     "exception": false,
     "start_time": "2020-10-06T01:29:30.528503",
     "status": "completed"
    },
    "tags": []
   },
   "source": [
    "### Authoring and merging stats by repository\n",
    "\n",
    "Let's see who has been doing most of the PR authoring and merging. The PR author is generally the\n",
    "person that implemented a change in the repository (code, documentation, etc). The PR merger is\n",
    "the person that \"pressed the green button\" and got the change into the main codebase."
   ]
  },
  {
   "cell_type": "code",
   "execution_count": 10,
   "metadata": {
    "execution": {
     "iopub.execute_input": "2020-10-06T01:29:30.655824Z",
     "iopub.status.busy": "2020-10-06T01:29:30.655107Z",
     "iopub.status.idle": "2020-10-06T01:29:30.663227Z",
     "shell.execute_reply": "2020-10-06T01:29:30.662665Z"
    },
    "papermill": {
     "duration": 0.063638,
     "end_time": "2020-10-06T01:29:30.663429",
     "exception": false,
     "start_time": "2020-10-06T01:29:30.599791",
     "status": "completed"
    },
    "tags": [
     "remove_cell"
    ]
   },
   "outputs": [],
   "source": [
    "# Prep our merging DF\n",
    "merged_by_repo = merged.groupby(['repo', 'author'], as_index=False).agg({'id': 'count', 'authorAssociation': 'first'}).rename(columns={'id': \"authored\", 'author': 'username'})\n",
    "closed_by_repo = merged.groupby(['repo', 'mergedBy']).count()['id'].reset_index().rename(columns={'id': \"closed\", \"mergedBy\": \"username\"})"
   ]
  },
  {
   "cell_type": "code",
   "execution_count": 11,
   "metadata": {
    "execution": {
     "iopub.execute_input": "2020-10-06T01:29:30.771016Z",
     "iopub.status.busy": "2020-10-06T01:29:30.759280Z",
     "iopub.status.idle": "2020-10-06T01:29:30.774530Z",
     "shell.execute_reply": "2020-10-06T01:29:30.775253Z"
    },
    "papermill": {
     "duration": 0.07236,
     "end_time": "2020-10-06T01:29:30.775582",
     "exception": false,
     "start_time": "2020-10-06T01:29:30.703222",
     "status": "completed"
    },
    "tags": [
     "hide_input"
    ]
   },
   "outputs": [
    {
     "data": {
      "text/html": [
       "\n",
       "<div id=\"altair-viz-819f408760104ce381862e0bb53d2354\"></div>\n",
       "<script type=\"text/javascript\">\n",
       "  (function(spec, embedOpt){\n",
       "    let outputDiv = document.currentScript.previousElementSibling;\n",
       "    if (outputDiv.id !== \"altair-viz-819f408760104ce381862e0bb53d2354\") {\n",
       "      outputDiv = document.getElementById(\"altair-viz-819f408760104ce381862e0bb53d2354\");\n",
       "    }\n",
       "    const paths = {\n",
       "      \"vega\": \"https://cdn.jsdelivr.net/npm//vega@5?noext\",\n",
       "      \"vega-lib\": \"https://cdn.jsdelivr.net/npm//vega-lib?noext\",\n",
       "      \"vega-lite\": \"https://cdn.jsdelivr.net/npm//vega-lite@4.8.1?noext\",\n",
       "      \"vega-embed\": \"https://cdn.jsdelivr.net/npm//vega-embed@6?noext\",\n",
       "    };\n",
       "\n",
       "    function loadScript(lib) {\n",
       "      return new Promise(function(resolve, reject) {\n",
       "        var s = document.createElement('script');\n",
       "        s.src = paths[lib];\n",
       "        s.async = true;\n",
       "        s.onload = () => resolve(paths[lib]);\n",
       "        s.onerror = () => reject(`Error loading script: ${paths[lib]}`);\n",
       "        document.getElementsByTagName(\"head\")[0].appendChild(s);\n",
       "      });\n",
       "    }\n",
       "\n",
       "    function showError(err) {\n",
       "      outputDiv.innerHTML = `<div class=\"error\" style=\"color:red;\">${err}</div>`;\n",
       "      throw err;\n",
       "    }\n",
       "\n",
       "    function displayChart(vegaEmbed) {\n",
       "      vegaEmbed(outputDiv, spec, embedOpt)\n",
       "        .catch(err => showError(`Javascript Error: ${err.message}<br>This usually means there's a typo in your chart specification. See the javascript console for the full traceback.`));\n",
       "    }\n",
       "\n",
       "    if(typeof define === \"function\" && define.amd) {\n",
       "      requirejs.config({paths});\n",
       "      require([\"vega-embed\"], displayChart, err => showError(`Error loading script: ${err.message}`));\n",
       "    } else if (typeof vegaEmbed === \"function\") {\n",
       "      displayChart(vegaEmbed);\n",
       "    } else {\n",
       "      loadScript(\"vega\")\n",
       "        .then(() => loadScript(\"vega-lite\"))\n",
       "        .then(() => loadScript(\"vega-embed\"))\n",
       "        .catch(showError)\n",
       "        .then(() => displayChart(vegaEmbed));\n",
       "    }\n",
       "  })({\"config\": {\"axisLeft\": {\"labelFontSize\": 15}, \"axisBottom\": {\"labelFontSize\": 15}}, \"data\": {\"name\": \"data-4e5f49fe6e826c9f850b1b3e2b7f5937\"}, \"mark\": \"bar\", \"encoding\": {\"color\": {\"type\": \"nominal\", \"field\": \"authorAssociation\", \"scale\": {\"domain\": [\"MEMBER\", \"CONTRIBUTOR\", \"COLLABORATOR\", \"NONE\"], \"range\": [\"rgb(211.82745098039214, 211.82745098039214, 211.82745098039214)\", \"rgb(166.98562091503268, 229.89803921568628, 166.98562091503268)\", \"rgb(96.37647058823529, 192.75294117647059, 96.37647058823529)\", \"rgb(0.0, 100.3921568627451, 0.0)\"]}}, \"x\": {\"type\": \"nominal\", \"field\": \"username\"}, \"y\": {\"type\": \"quantitative\", \"field\": \"authored\"}}, \"title\": \"PR authors for nteract in the last 60 days\", \"$schema\": \"https://vega.github.io/schema/vega-lite/v4.8.1.json\", \"datasets\": {\"data-4e5f49fe6e826c9f850b1b3e2b7f5937\": [{\"username\": \"rohitsanj\", \"authored\": 9, \"authorAssociation\": \"MEMBER\"}, {\"username\": \"ramantehlan\", \"authored\": 6, \"authorAssociation\": \"MEMBER\"}, {\"username\": \"willingc\", \"authored\": 4, \"authorAssociation\": \"MEMBER\"}, {\"username\": \"archmoj\", \"authored\": 3, \"authorAssociation\": \"CONTRIBUTOR\"}, {\"username\": \"dependabot\", \"authored\": 3, \"authorAssociation\": \"CONTRIBUTOR\"}, {\"username\": \"isabela-pf\", \"authored\": 3, \"authorAssociation\": \"MEMBER\"}, {\"username\": \"akx\", \"authored\": 2, \"authorAssociation\": \"MEMBER\"}, {\"username\": \"captainsafia\", \"authored\": 2, \"authorAssociation\": \"MEMBER\"}, {\"username\": \"vivek1729\", \"authored\": 2, \"authorAssociation\": \"MEMBER\"}, {\"username\": \"MSeal\", \"authored\": 2, \"authorAssociation\": \"MEMBER\"}, {\"username\": \"bgparkerdev\", \"authored\": 2, \"authorAssociation\": \"MEMBER\"}, {\"username\": \"kycutler\", \"authored\": 1, \"authorAssociation\": \"CONTRIBUTOR\"}, {\"username\": \"timkpaine\", \"authored\": 1, \"authorAssociation\": \"MEMBER\"}, {\"username\": \"stormpython\", \"authored\": 1, \"authorAssociation\": \"MEMBER\"}, {\"username\": \"KonradLinkowski\", \"authored\": 1, \"authorAssociation\": \"CONTRIBUTOR\"}, {\"username\": \"pwang347\", \"authored\": 1, \"authorAssociation\": \"MEMBER\"}, {\"username\": \"kornelregius\", \"authored\": 1, \"authorAssociation\": \"CONTRIBUTOR\"}, {\"username\": \"juliuscrn\", \"authored\": 1, \"authorAssociation\": \"CONTRIBUTOR\"}, {\"username\": \"jruales\", \"authored\": 1, \"authorAssociation\": \"MEMBER\"}, {\"username\": \"CrystallineCat\", \"authored\": 1, \"authorAssociation\": \"MEMBER\"}, {\"username\": \"haresudhan\", \"authored\": 1, \"authorAssociation\": \"MEMBER\"}, {\"username\": \"fcollonval\", \"authored\": 1, \"authorAssociation\": \"MEMBER\"}, {\"username\": \"ajbozarth\", \"authored\": 1, \"authorAssociation\": \"MEMBER\"}, {\"username\": \"BenRussert\", \"authored\": 1, \"authorAssociation\": \"MEMBER\"}]}}, {\"mode\": \"vega-lite\"});\n",
       "</script>"
      ],
      "text/plain": [
       "alt.Chart(...)"
      ]
     },
     "execution_count": 11,
     "metadata": {},
     "output_type": "execute_result"
    }
   ],
   "source": [
    "charts = []\n",
    "title = f\"PR authors for {github_org} in the last {n_days} days\"\n",
    "this_data = merged_by_repo.replace(np.nan, 0).groupby('username', as_index=False).agg({'authored': 'sum', 'authorAssociation': 'first'})\n",
    "this_data = this_data.sort_values('authored', ascending=False)\n",
    "ch = alt.Chart(data=this_data, title=title).mark_bar().encode(\n",
    "    x='username',\n",
    "    y='authored',\n",
    "    color=alt.Color('authorAssociation', scale=alt.Scale(domain=author_types, range=author_colors))\n",
    ")\n",
    "ch"
   ]
  },
  {
   "cell_type": "code",
   "execution_count": 12,
   "metadata": {
    "execution": {
     "iopub.execute_input": "2020-10-06T01:29:30.874463Z",
     "iopub.status.busy": "2020-10-06T01:29:30.873913Z",
     "iopub.status.idle": "2020-10-06T01:29:30.876987Z",
     "shell.execute_reply": "2020-10-06T01:29:30.876542Z"
    },
    "papermill": {
     "duration": 0.063266,
     "end_time": "2020-10-06T01:29:30.877145",
     "exception": false,
     "start_time": "2020-10-06T01:29:30.813879",
     "status": "completed"
    },
    "tags": [
     "hide_input"
    ]
   },
   "outputs": [
    {
     "data": {
      "text/html": [
       "\n",
       "<div id=\"altair-viz-6db395d99a764713b68642bda21872f0\"></div>\n",
       "<script type=\"text/javascript\">\n",
       "  (function(spec, embedOpt){\n",
       "    let outputDiv = document.currentScript.previousElementSibling;\n",
       "    if (outputDiv.id !== \"altair-viz-6db395d99a764713b68642bda21872f0\") {\n",
       "      outputDiv = document.getElementById(\"altair-viz-6db395d99a764713b68642bda21872f0\");\n",
       "    }\n",
       "    const paths = {\n",
       "      \"vega\": \"https://cdn.jsdelivr.net/npm//vega@5?noext\",\n",
       "      \"vega-lib\": \"https://cdn.jsdelivr.net/npm//vega-lib?noext\",\n",
       "      \"vega-lite\": \"https://cdn.jsdelivr.net/npm//vega-lite@4.8.1?noext\",\n",
       "      \"vega-embed\": \"https://cdn.jsdelivr.net/npm//vega-embed@6?noext\",\n",
       "    };\n",
       "\n",
       "    function loadScript(lib) {\n",
       "      return new Promise(function(resolve, reject) {\n",
       "        var s = document.createElement('script');\n",
       "        s.src = paths[lib];\n",
       "        s.async = true;\n",
       "        s.onload = () => resolve(paths[lib]);\n",
       "        s.onerror = () => reject(`Error loading script: ${paths[lib]}`);\n",
       "        document.getElementsByTagName(\"head\")[0].appendChild(s);\n",
       "      });\n",
       "    }\n",
       "\n",
       "    function showError(err) {\n",
       "      outputDiv.innerHTML = `<div class=\"error\" style=\"color:red;\">${err}</div>`;\n",
       "      throw err;\n",
       "    }\n",
       "\n",
       "    function displayChart(vegaEmbed) {\n",
       "      vegaEmbed(outputDiv, spec, embedOpt)\n",
       "        .catch(err => showError(`Javascript Error: ${err.message}<br>This usually means there's a typo in your chart specification. See the javascript console for the full traceback.`));\n",
       "    }\n",
       "\n",
       "    if(typeof define === \"function\" && define.amd) {\n",
       "      requirejs.config({paths});\n",
       "      require([\"vega-embed\"], displayChart, err => showError(`Error loading script: ${err.message}`));\n",
       "    } else if (typeof vegaEmbed === \"function\") {\n",
       "      displayChart(vegaEmbed);\n",
       "    } else {\n",
       "      loadScript(\"vega\")\n",
       "        .then(() => loadScript(\"vega-lite\"))\n",
       "        .then(() => loadScript(\"vega-embed\"))\n",
       "        .catch(showError)\n",
       "        .then(() => displayChart(vegaEmbed));\n",
       "    }\n",
       "  })({\"config\": {\"axisLeft\": {\"labelFontSize\": 15}, \"axisBottom\": {\"labelFontSize\": 15}}, \"data\": {\"name\": \"data-d5762456c85f8b4e406c85a7bd94d6f4\"}, \"mark\": \"bar\", \"encoding\": {\"x\": {\"type\": \"nominal\", \"field\": \"username\"}, \"y\": {\"type\": \"quantitative\", \"field\": \"closed\"}}, \"title\": \"Merges for nteract in the last 60 days\", \"$schema\": \"https://vega.github.io/schema/vega-lite/v4.8.1.json\", \"datasets\": {\"data-d5762456c85f8b4e406c85a7bd94d6f4\": [{\"repo\": \"ansi-to-react\", \"username\": \"captainsafia\", \"closed\": 1}, {\"repo\": \"commuter\", \"username\": \"captainsafia\", \"closed\": 2}, {\"repo\": \"hydrogen\", \"username\": \"aviatesk\", \"closed\": 1}, {\"repo\": \"hydrogen\", \"username\": \"captainsafia\", \"closed\": 1}, {\"repo\": \"markdown\", \"username\": \"captainsafia\", \"closed\": 1}, {\"repo\": \"mathjax\", \"username\": \"captainsafia\", \"closed\": 1}, {\"repo\": \"meeting-minutes\", \"username\": \"MSeal\", \"closed\": 1}, {\"repo\": \"meeting-minutes\", \"username\": \"captainsafia\", \"closed\": 4}, {\"repo\": \"nteract\", \"username\": \"CrystallineCat\", \"closed\": 1}, {\"repo\": \"nteract\", \"username\": \"captainsafia\", \"closed\": 6}, {\"repo\": \"nteract\", \"username\": \"ramantehlan\", \"closed\": 5}, {\"repo\": \"nteract\", \"username\": \"vivek1729\", \"closed\": 1}, {\"repo\": \"outputs\", \"username\": \"captainsafia\", \"closed\": 8}, {\"repo\": \"papermill\", \"username\": \"MSeal\", \"closed\": 4}, {\"repo\": \"semiotic-docs\", \"username\": \"willingc\", \"closed\": 1}, {\"repo\": \"testbook\", \"username\": \"MSeal\", \"closed\": 8}, {\"repo\": \"testbook\", \"username\": \"rohitsanj\", \"closed\": 4}, {\"repo\": \"testbook\", \"username\": \"willingc\", \"closed\": 1}]}}, {\"mode\": \"vega-lite\"});\n",
       "</script>"
      ],
      "text/plain": [
       "alt.Chart(...)"
      ]
     },
     "execution_count": 12,
     "metadata": {},
     "output_type": "execute_result"
    }
   ],
   "source": [
    "charts = []\n",
    "title = f\"Merges for {github_org} in the last {n_days} days\"\n",
    "ch = alt.Chart(data=closed_by_repo.replace(np.nan, 0), title=title).mark_bar().encode(\n",
    "    x='username',\n",
    "    y='closed',\n",
    ")\n",
    "ch"
   ]
  },
  {
   "cell_type": "markdown",
   "metadata": {
    "papermill": {
     "duration": 0.0359,
     "end_time": "2020-10-06T01:29:30.953618",
     "exception": false,
     "start_time": "2020-10-06T01:29:30.917718",
     "status": "completed"
    },
    "tags": []
   },
   "source": [
    "## Issues\n",
    "\n",
    "Issues are **conversations** that happen on our GitHub repositories. Here's an\n",
    "analysis of issues across the Jupyter organizations."
   ]
  },
  {
   "cell_type": "code",
   "execution_count": 13,
   "metadata": {
    "execution": {
     "iopub.execute_input": "2020-10-06T01:29:31.085151Z",
     "iopub.status.busy": "2020-10-06T01:29:31.084496Z",
     "iopub.status.idle": "2020-10-06T01:29:31.086452Z",
     "shell.execute_reply": "2020-10-06T01:29:31.086958Z"
    },
    "papermill": {
     "duration": 0.055605,
     "end_time": "2020-10-06T01:29:31.087147",
     "exception": false,
     "start_time": "2020-10-06T01:29:31.031542",
     "status": "completed"
    },
    "tags": [
     "remove_cell"
    ]
   },
   "outputs": [],
   "source": [
    "created = issues.query('state == \"OPEN\" and createdAt > @start_date and createdAt < @stop_date')\n",
    "closed = issues.query('state == \"CLOSED\" and closedAt > @start_date and closedAt < @stop_date')"
   ]
  },
  {
   "cell_type": "code",
   "execution_count": 14,
   "metadata": {
    "execution": {
     "iopub.execute_input": "2020-10-06T01:29:31.176193Z",
     "iopub.status.busy": "2020-10-06T01:29:31.175659Z",
     "iopub.status.idle": "2020-10-06T01:29:31.195598Z",
     "shell.execute_reply": "2020-10-06T01:29:31.196046Z"
    },
    "papermill": {
     "duration": 0.069874,
     "end_time": "2020-10-06T01:29:31.196196",
     "exception": false,
     "start_time": "2020-10-06T01:29:31.126322",
     "status": "completed"
    },
    "tags": [
     "hide_input"
    ]
   },
   "outputs": [
    {
     "data": {
      "text/html": [
       "\n",
       "<div id=\"altair-viz-be213f80b75746f2b3cbeebe80dad96a\"></div>\n",
       "<script type=\"text/javascript\">\n",
       "  (function(spec, embedOpt){\n",
       "    let outputDiv = document.currentScript.previousElementSibling;\n",
       "    if (outputDiv.id !== \"altair-viz-be213f80b75746f2b3cbeebe80dad96a\") {\n",
       "      outputDiv = document.getElementById(\"altair-viz-be213f80b75746f2b3cbeebe80dad96a\");\n",
       "    }\n",
       "    const paths = {\n",
       "      \"vega\": \"https://cdn.jsdelivr.net/npm//vega@5?noext\",\n",
       "      \"vega-lib\": \"https://cdn.jsdelivr.net/npm//vega-lib?noext\",\n",
       "      \"vega-lite\": \"https://cdn.jsdelivr.net/npm//vega-lite@4.8.1?noext\",\n",
       "      \"vega-embed\": \"https://cdn.jsdelivr.net/npm//vega-embed@6?noext\",\n",
       "    };\n",
       "\n",
       "    function loadScript(lib) {\n",
       "      return new Promise(function(resolve, reject) {\n",
       "        var s = document.createElement('script');\n",
       "        s.src = paths[lib];\n",
       "        s.async = true;\n",
       "        s.onload = () => resolve(paths[lib]);\n",
       "        s.onerror = () => reject(`Error loading script: ${paths[lib]}`);\n",
       "        document.getElementsByTagName(\"head\")[0].appendChild(s);\n",
       "      });\n",
       "    }\n",
       "\n",
       "    function showError(err) {\n",
       "      outputDiv.innerHTML = `<div class=\"error\" style=\"color:red;\">${err}</div>`;\n",
       "      throw err;\n",
       "    }\n",
       "\n",
       "    function displayChart(vegaEmbed) {\n",
       "      vegaEmbed(outputDiv, spec, embedOpt)\n",
       "        .catch(err => showError(`Javascript Error: ${err.message}<br>This usually means there's a typo in your chart specification. See the javascript console for the full traceback.`));\n",
       "    }\n",
       "\n",
       "    if(typeof define === \"function\" && define.amd) {\n",
       "      requirejs.config({paths});\n",
       "      require([\"vega-embed\"], displayChart, err => showError(`Error loading script: ${err.message}`));\n",
       "    } else if (typeof vegaEmbed === \"function\") {\n",
       "      displayChart(vegaEmbed);\n",
       "    } else {\n",
       "      loadScript(\"vega\")\n",
       "        .then(() => loadScript(\"vega-lite\"))\n",
       "        .then(() => loadScript(\"vega-embed\"))\n",
       "        .catch(showError)\n",
       "        .then(() => displayChart(vegaEmbed));\n",
       "    }\n",
       "  })({\"config\": {\"axisLeft\": {\"labelFontSize\": 15}, \"axisBottom\": {\"labelFontSize\": 15}}, \"data\": {\"name\": \"data-183aea9adffdbe677225d66b708b2a2e\"}, \"mark\": \"bar\", \"encoding\": {\"x\": {\"type\": \"nominal\", \"field\": \"repo\", \"sort\": [\"nteract\", \"hydrogen\", \"semiotic\", \"testbook\", \"papermill\", \"ansi-to-react\", \"nteract.io\", \"outputs\"]}, \"y\": {\"type\": \"quantitative\", \"field\": \"number\"}}, \"title\": \"Issues created in the last 60 days\", \"$schema\": \"https://vega.github.io/schema/vega-lite/v4.8.1.json\", \"datasets\": {\"data-183aea9adffdbe677225d66b708b2a2e\": [{\"org\": \"nteract\", \"repo\": \"ansi-to-react\", \"number\": 1, \"org/repo\": \"nteract/ansi-to-react\"}, {\"org\": \"nteract\", \"repo\": \"hydrogen\", \"number\": 7, \"org/repo\": \"nteract/hydrogen\"}, {\"org\": \"nteract\", \"repo\": \"nteract\", \"number\": 10, \"org/repo\": \"nteract/nteract\"}, {\"org\": \"nteract\", \"repo\": \"nteract.io\", \"number\": 1, \"org/repo\": \"nteract/nteract.io\"}, {\"org\": \"nteract\", \"repo\": \"outputs\", \"number\": 1, \"org/repo\": \"nteract/outputs\"}, {\"org\": \"nteract\", \"repo\": \"papermill\", \"number\": 2, \"org/repo\": \"nteract/papermill\"}, {\"org\": \"nteract\", \"repo\": \"semiotic\", \"number\": 4, \"org/repo\": \"nteract/semiotic\"}, {\"org\": \"nteract\", \"repo\": \"testbook\", \"number\": 3, \"org/repo\": \"nteract/testbook\"}]}}, {\"mode\": \"vega-lite\"});\n",
       "</script>"
      ],
      "text/plain": [
       "alt.Chart(...)"
      ]
     },
     "execution_count": 14,
     "metadata": {},
     "output_type": "execute_result"
    }
   ],
   "source": [
    "created_counts = created.groupby(['org', 'repo']).count()['number'].reset_index()\n",
    "created_counts['org/repo'] = created_counts.apply(lambda a: a['org'] + '/' + a['repo'], axis=1)\n",
    "sorted_vals = created_counts.sort_values(['org', 'number'], ascending=False)['repo'].values\n",
    "alt.Chart(data=created_counts, title=f\"Issues created in the last {n_days} days\").mark_bar().encode(\n",
    "    x=alt.X('repo', sort=alt.Sort(sorted_vals.tolist())),\n",
    "    y='number',\n",
    ")"
   ]
  },
  {
   "cell_type": "code",
   "execution_count": 15,
   "metadata": {
    "execution": {
     "iopub.execute_input": "2020-10-06T01:29:31.285130Z",
     "iopub.status.busy": "2020-10-06T01:29:31.284305Z",
     "iopub.status.idle": "2020-10-06T01:29:31.307774Z",
     "shell.execute_reply": "2020-10-06T01:29:31.308189Z"
    },
    "papermill": {
     "duration": 0.071788,
     "end_time": "2020-10-06T01:29:31.308337",
     "exception": false,
     "start_time": "2020-10-06T01:29:31.236549",
     "status": "completed"
    },
    "tags": [
     "hide_input"
    ]
   },
   "outputs": [
    {
     "data": {
      "text/html": [
       "\n",
       "<div id=\"altair-viz-ffdd230fa23b4a1f9794d932006ecf3e\"></div>\n",
       "<script type=\"text/javascript\">\n",
       "  (function(spec, embedOpt){\n",
       "    let outputDiv = document.currentScript.previousElementSibling;\n",
       "    if (outputDiv.id !== \"altair-viz-ffdd230fa23b4a1f9794d932006ecf3e\") {\n",
       "      outputDiv = document.getElementById(\"altair-viz-ffdd230fa23b4a1f9794d932006ecf3e\");\n",
       "    }\n",
       "    const paths = {\n",
       "      \"vega\": \"https://cdn.jsdelivr.net/npm//vega@5?noext\",\n",
       "      \"vega-lib\": \"https://cdn.jsdelivr.net/npm//vega-lib?noext\",\n",
       "      \"vega-lite\": \"https://cdn.jsdelivr.net/npm//vega-lite@4.8.1?noext\",\n",
       "      \"vega-embed\": \"https://cdn.jsdelivr.net/npm//vega-embed@6?noext\",\n",
       "    };\n",
       "\n",
       "    function loadScript(lib) {\n",
       "      return new Promise(function(resolve, reject) {\n",
       "        var s = document.createElement('script');\n",
       "        s.src = paths[lib];\n",
       "        s.async = true;\n",
       "        s.onload = () => resolve(paths[lib]);\n",
       "        s.onerror = () => reject(`Error loading script: ${paths[lib]}`);\n",
       "        document.getElementsByTagName(\"head\")[0].appendChild(s);\n",
       "      });\n",
       "    }\n",
       "\n",
       "    function showError(err) {\n",
       "      outputDiv.innerHTML = `<div class=\"error\" style=\"color:red;\">${err}</div>`;\n",
       "      throw err;\n",
       "    }\n",
       "\n",
       "    function displayChart(vegaEmbed) {\n",
       "      vegaEmbed(outputDiv, spec, embedOpt)\n",
       "        .catch(err => showError(`Javascript Error: ${err.message}<br>This usually means there's a typo in your chart specification. See the javascript console for the full traceback.`));\n",
       "    }\n",
       "\n",
       "    if(typeof define === \"function\" && define.amd) {\n",
       "      requirejs.config({paths});\n",
       "      require([\"vega-embed\"], displayChart, err => showError(`Error loading script: ${err.message}`));\n",
       "    } else if (typeof vegaEmbed === \"function\") {\n",
       "      displayChart(vegaEmbed);\n",
       "    } else {\n",
       "      loadScript(\"vega\")\n",
       "        .then(() => loadScript(\"vega-lite\"))\n",
       "        .then(() => loadScript(\"vega-embed\"))\n",
       "        .catch(showError)\n",
       "        .then(() => displayChart(vegaEmbed));\n",
       "    }\n",
       "  })({\"config\": {\"axisLeft\": {\"labelFontSize\": 15}, \"axisBottom\": {\"labelFontSize\": 15}}, \"data\": {\"name\": \"data-66ab5c084d4524564a503fc7e64d79bd\"}, \"mark\": \"bar\", \"encoding\": {\"x\": {\"type\": \"nominal\", \"field\": \"repo\", \"sort\": [\"nteract\", \"papermill\", \"hydrogen\", \"testbook\", \"mathjax\", \"commuter\", \"meeting-minutes\", \"nteract.io\", \"semiotic\"]}, \"y\": {\"type\": \"quantitative\", \"field\": \"number\"}}, \"title\": \"Issues closed in the last 60 days\", \"$schema\": \"https://vega.github.io/schema/vega-lite/v4.8.1.json\", \"datasets\": {\"data-66ab5c084d4524564a503fc7e64d79bd\": [{\"org\": \"nteract\", \"repo\": \"commuter\", \"number\": 1, \"org/repo\": \"nteract/commuter\"}, {\"org\": \"nteract\", \"repo\": \"hydrogen\", \"number\": 9, \"org/repo\": \"nteract/hydrogen\"}, {\"org\": \"nteract\", \"repo\": \"mathjax\", \"number\": 3, \"org/repo\": \"nteract/mathjax\"}, {\"org\": \"nteract\", \"repo\": \"meeting-minutes\", \"number\": 1, \"org/repo\": \"nteract/meeting-minutes\"}, {\"org\": \"nteract\", \"repo\": \"nteract\", \"number\": 15, \"org/repo\": \"nteract/nteract\"}, {\"org\": \"nteract\", \"repo\": \"nteract.io\", \"number\": 1, \"org/repo\": \"nteract/nteract.io\"}, {\"org\": \"nteract\", \"repo\": \"papermill\", \"number\": 10, \"org/repo\": \"nteract/papermill\"}, {\"org\": \"nteract\", \"repo\": \"semiotic\", \"number\": 1, \"org/repo\": \"nteract/semiotic\"}, {\"org\": \"nteract\", \"repo\": \"testbook\", \"number\": 4, \"org/repo\": \"nteract/testbook\"}]}}, {\"mode\": \"vega-lite\"});\n",
       "</script>"
      ],
      "text/plain": [
       "alt.Chart(...)"
      ]
     },
     "execution_count": 15,
     "metadata": {},
     "output_type": "execute_result"
    }
   ],
   "source": [
    "closed_counts = closed.groupby(['org', 'repo']).count()['number'].reset_index()\n",
    "closed_counts['org/repo'] = closed_counts.apply(lambda a: a['org'] + '/' + a['repo'], axis=1)\n",
    "sorted_vals = closed_counts.sort_values(['number'], ascending=False)['repo'].values\n",
    "alt.Chart(data=closed_counts, title=f\"Issues closed in the last {n_days} days\").mark_bar().encode(\n",
    "    x=alt.X('repo', sort=alt.Sort(sorted_vals.tolist())),\n",
    "    y='number',\n",
    ")"
   ]
  },
  {
   "cell_type": "code",
   "execution_count": 16,
   "metadata": {
    "execution": {
     "iopub.execute_input": "2020-10-06T01:29:31.388920Z",
     "iopub.status.busy": "2020-10-06T01:29:31.388338Z",
     "iopub.status.idle": "2020-10-06T01:29:31.399536Z",
     "shell.execute_reply": "2020-10-06T01:29:31.399078Z"
    },
    "papermill": {
     "duration": 0.053067,
     "end_time": "2020-10-06T01:29:31.399672",
     "exception": false,
     "start_time": "2020-10-06T01:29:31.346605",
     "status": "completed"
    },
    "tags": [
     "remove_cell"
    ]
   },
   "outputs": [],
   "source": [
    "created_closed = pd.merge(created_counts.rename(columns={'number': 'created'}).drop(columns='org/repo'),\n",
    "                          closed_counts.rename(columns={'number': 'closed'}).drop(columns='org/repo'),\n",
    "                          on=['org', 'repo'], how='outer')\n",
    "\n",
    "created_closed = pd.melt(created_closed, id_vars=['org', 'repo'], var_name=\"kind\", value_name=\"count\").replace(np.nan, 0)"
   ]
  },
  {
   "cell_type": "code",
   "execution_count": 17,
   "metadata": {
    "execution": {
     "iopub.execute_input": "2020-10-06T01:29:31.479714Z",
     "iopub.status.busy": "2020-10-06T01:29:31.479056Z",
     "iopub.status.idle": "2020-10-06T01:29:31.500408Z",
     "shell.execute_reply": "2020-10-06T01:29:31.499973Z"
    },
    "papermill": {
     "duration": 0.06436,
     "end_time": "2020-10-06T01:29:31.500536",
     "exception": false,
     "start_time": "2020-10-06T01:29:31.436176",
     "status": "completed"
    },
    "tags": [
     "hide_input"
    ]
   },
   "outputs": [
    {
     "data": {
      "text/html": [
       "\n",
       "<div id=\"altair-viz-c223035e0c90491aacb52259aeeee19f\"></div>\n",
       "<script type=\"text/javascript\">\n",
       "  (function(spec, embedOpt){\n",
       "    let outputDiv = document.currentScript.previousElementSibling;\n",
       "    if (outputDiv.id !== \"altair-viz-c223035e0c90491aacb52259aeeee19f\") {\n",
       "      outputDiv = document.getElementById(\"altair-viz-c223035e0c90491aacb52259aeeee19f\");\n",
       "    }\n",
       "    const paths = {\n",
       "      \"vega\": \"https://cdn.jsdelivr.net/npm//vega@5?noext\",\n",
       "      \"vega-lib\": \"https://cdn.jsdelivr.net/npm//vega-lib?noext\",\n",
       "      \"vega-lite\": \"https://cdn.jsdelivr.net/npm//vega-lite@4.8.1?noext\",\n",
       "      \"vega-embed\": \"https://cdn.jsdelivr.net/npm//vega-embed@6?noext\",\n",
       "    };\n",
       "\n",
       "    function loadScript(lib) {\n",
       "      return new Promise(function(resolve, reject) {\n",
       "        var s = document.createElement('script');\n",
       "        s.src = paths[lib];\n",
       "        s.async = true;\n",
       "        s.onload = () => resolve(paths[lib]);\n",
       "        s.onerror = () => reject(`Error loading script: ${paths[lib]}`);\n",
       "        document.getElementsByTagName(\"head\")[0].appendChild(s);\n",
       "      });\n",
       "    }\n",
       "\n",
       "    function showError(err) {\n",
       "      outputDiv.innerHTML = `<div class=\"error\" style=\"color:red;\">${err}</div>`;\n",
       "      throw err;\n",
       "    }\n",
       "\n",
       "    function displayChart(vegaEmbed) {\n",
       "      vegaEmbed(outputDiv, spec, embedOpt)\n",
       "        .catch(err => showError(`Javascript Error: ${err.message}<br>This usually means there's a typo in your chart specification. See the javascript console for the full traceback.`));\n",
       "    }\n",
       "\n",
       "    if(typeof define === \"function\" && define.amd) {\n",
       "      requirejs.config({paths});\n",
       "      require([\"vega-embed\"], displayChart, err => showError(`Error loading script: ${err.message}`));\n",
       "    } else if (typeof vegaEmbed === \"function\") {\n",
       "      displayChart(vegaEmbed);\n",
       "    } else {\n",
       "      loadScript(\"vega\")\n",
       "        .then(() => loadScript(\"vega-lite\"))\n",
       "        .then(() => loadScript(\"vega-embed\"))\n",
       "        .catch(showError)\n",
       "        .then(() => displayChart(vegaEmbed));\n",
       "    }\n",
       "  })({\"config\": {\"axisLeft\": {\"labelFontSize\": 15}, \"axisBottom\": {\"labelFontSize\": 15}}, \"data\": {\"name\": \"data-ae6a44c492f17728c6f5dad8788b1cab\"}, \"mark\": \"bar\", \"encoding\": {\"color\": {\"type\": \"nominal\", \"field\": \"kind\"}, \"column\": {\"type\": \"nominal\", \"field\": \"repo\", \"header\": {\"labelFontSize\": 12, \"title\": \"Issue activity, last 60 days for nteract\", \"titleFontSize\": 15}}, \"x\": {\"type\": \"nominal\", \"axis\": {\"labelFontSize\": 15, \"title\": \"\"}, \"field\": \"kind\"}, \"y\": {\"type\": \"quantitative\", \"axis\": {\"labelFontSize\": 12, \"titleFontSize\": 15}, \"field\": \"count\"}}, \"width\": 120, \"$schema\": \"https://vega.github.io/schema/vega-lite/v4.8.1.json\", \"datasets\": {\"data-ae6a44c492f17728c6f5dad8788b1cab\": [{\"org\": \"nteract\", \"repo\": \"ansi-to-react\", \"kind\": \"created\", \"count\": 1.0}, {\"org\": \"nteract\", \"repo\": \"hydrogen\", \"kind\": \"created\", \"count\": 7.0}, {\"org\": \"nteract\", \"repo\": \"nteract\", \"kind\": \"created\", \"count\": 10.0}, {\"org\": \"nteract\", \"repo\": \"nteract.io\", \"kind\": \"created\", \"count\": 1.0}, {\"org\": \"nteract\", \"repo\": \"papermill\", \"kind\": \"created\", \"count\": 2.0}, {\"org\": \"nteract\", \"repo\": \"semiotic\", \"kind\": \"created\", \"count\": 4.0}, {\"org\": \"nteract\", \"repo\": \"testbook\", \"kind\": \"created\", \"count\": 3.0}, {\"org\": \"nteract\", \"repo\": \"commuter\", \"kind\": \"created\", \"count\": 0.0}, {\"org\": \"nteract\", \"repo\": \"mathjax\", \"kind\": \"created\", \"count\": 0.0}, {\"org\": \"nteract\", \"repo\": \"meeting-minutes\", \"kind\": \"created\", \"count\": 0.0}, {\"org\": \"nteract\", \"repo\": \"ansi-to-react\", \"kind\": \"closed\", \"count\": 0.0}, {\"org\": \"nteract\", \"repo\": \"hydrogen\", \"kind\": \"closed\", \"count\": 9.0}, {\"org\": \"nteract\", \"repo\": \"nteract\", \"kind\": \"closed\", \"count\": 15.0}, {\"org\": \"nteract\", \"repo\": \"nteract.io\", \"kind\": \"closed\", \"count\": 1.0}, {\"org\": \"nteract\", \"repo\": \"papermill\", \"kind\": \"closed\", \"count\": 10.0}, {\"org\": \"nteract\", \"repo\": \"semiotic\", \"kind\": \"closed\", \"count\": 1.0}, {\"org\": \"nteract\", \"repo\": \"testbook\", \"kind\": \"closed\", \"count\": 4.0}, {\"org\": \"nteract\", \"repo\": \"commuter\", \"kind\": \"closed\", \"count\": 1.0}, {\"org\": \"nteract\", \"repo\": \"mathjax\", \"kind\": \"closed\", \"count\": 3.0}, {\"org\": \"nteract\", \"repo\": \"meeting-minutes\", \"kind\": \"closed\", \"count\": 1.0}]}}, {\"mode\": \"vega-lite\"});\n",
       "</script>"
      ],
      "text/plain": [
       "alt.Chart(...)"
      ]
     },
     "execution_count": 17,
     "metadata": {},
     "output_type": "execute_result"
    }
   ],
   "source": [
    "charts = []\n",
    "# Pick the top 10 repositories\n",
    "top_repos = created_closed.groupby(['repo']).sum().sort_values(by='count', ascending=False).head(10).index\n",
    "ch = alt.Chart(created_closed.query('repo in @top_repos'), width=120).mark_bar().encode(\n",
    "    x=alt.X(\"kind\", axis=alt.Axis(labelFontSize=15, title=\"\")), \n",
    "    y=alt.Y('count', axis=alt.Axis(titleFontSize=15, labelFontSize=12)),\n",
    "    color='kind',\n",
    "    column=alt.Column(\"repo\", header=alt.Header(title=f\"Issue activity, last {n_days} days for {github_org}\", titleFontSize=15, labelFontSize=12))\n",
    ")\n",
    "ch"
   ]
  },
  {
   "cell_type": "code",
   "execution_count": 18,
   "metadata": {
    "execution": {
     "iopub.execute_input": "2020-10-06T01:29:31.595289Z",
     "iopub.status.busy": "2020-10-06T01:29:31.594620Z",
     "iopub.status.idle": "2020-10-06T01:29:31.596797Z",
     "shell.execute_reply": "2020-10-06T01:29:31.596365Z"
    },
    "papermill": {
     "duration": 0.053244,
     "end_time": "2020-10-06T01:29:31.596927",
     "exception": false,
     "start_time": "2020-10-06T01:29:31.543683",
     "status": "completed"
    },
    "tags": [
     "remove_cell"
    ]
   },
   "outputs": [],
   "source": [
    "# Set to datetime\n",
    "for kind in ['createdAt', 'closedAt']:\n",
    "    closed.loc[:, kind] = pd.to_datetime(closed[kind])\n",
    "    \n",
    "closed.loc[:, 'time_open'] = closed['closedAt'] - closed['createdAt']\n",
    "closed.loc[:, 'time_open'] = closed['time_open'].dt.total_seconds()"
   ]
  },
  {
   "cell_type": "code",
   "execution_count": 19,
   "metadata": {
    "execution": {
     "iopub.execute_input": "2020-10-06T01:29:31.699551Z",
     "iopub.status.busy": "2020-10-06T01:29:31.698824Z",
     "iopub.status.idle": "2020-10-06T01:29:31.702071Z",
     "shell.execute_reply": "2020-10-06T01:29:31.701523Z"
    },
    "papermill": {
     "duration": 0.070067,
     "end_time": "2020-10-06T01:29:31.702227",
     "exception": false,
     "start_time": "2020-10-06T01:29:31.632160",
     "status": "completed"
    },
    "tags": [
     "hide_input"
    ]
   },
   "outputs": [
    {
     "data": {
      "text/html": [
       "\n",
       "<div id=\"altair-viz-38eb39ddf2bc45de86bc382d42547553\"></div>\n",
       "<script type=\"text/javascript\">\n",
       "  (function(spec, embedOpt){\n",
       "    let outputDiv = document.currentScript.previousElementSibling;\n",
       "    if (outputDiv.id !== \"altair-viz-38eb39ddf2bc45de86bc382d42547553\") {\n",
       "      outputDiv = document.getElementById(\"altair-viz-38eb39ddf2bc45de86bc382d42547553\");\n",
       "    }\n",
       "    const paths = {\n",
       "      \"vega\": \"https://cdn.jsdelivr.net/npm//vega@5?noext\",\n",
       "      \"vega-lib\": \"https://cdn.jsdelivr.net/npm//vega-lib?noext\",\n",
       "      \"vega-lite\": \"https://cdn.jsdelivr.net/npm//vega-lite@4.8.1?noext\",\n",
       "      \"vega-embed\": \"https://cdn.jsdelivr.net/npm//vega-embed@6?noext\",\n",
       "    };\n",
       "\n",
       "    function loadScript(lib) {\n",
       "      return new Promise(function(resolve, reject) {\n",
       "        var s = document.createElement('script');\n",
       "        s.src = paths[lib];\n",
       "        s.async = true;\n",
       "        s.onload = () => resolve(paths[lib]);\n",
       "        s.onerror = () => reject(`Error loading script: ${paths[lib]}`);\n",
       "        document.getElementsByTagName(\"head\")[0].appendChild(s);\n",
       "      });\n",
       "    }\n",
       "\n",
       "    function showError(err) {\n",
       "      outputDiv.innerHTML = `<div class=\"error\" style=\"color:red;\">${err}</div>`;\n",
       "      throw err;\n",
       "    }\n",
       "\n",
       "    function displayChart(vegaEmbed) {\n",
       "      vegaEmbed(outputDiv, spec, embedOpt)\n",
       "        .catch(err => showError(`Javascript Error: ${err.message}<br>This usually means there's a typo in your chart specification. See the javascript console for the full traceback.`));\n",
       "    }\n",
       "\n",
       "    if(typeof define === \"function\" && define.amd) {\n",
       "      requirejs.config({paths});\n",
       "      require([\"vega-embed\"], displayChart, err => showError(`Error loading script: ${err.message}`));\n",
       "    } else if (typeof vegaEmbed === \"function\") {\n",
       "      displayChart(vegaEmbed);\n",
       "    } else {\n",
       "      loadScript(\"vega\")\n",
       "        .then(() => loadScript(\"vega-lite\"))\n",
       "        .then(() => loadScript(\"vega-embed\"))\n",
       "        .catch(showError)\n",
       "        .then(() => displayChart(vegaEmbed));\n",
       "    }\n",
       "  })({\"config\": {\"axisLeft\": {\"labelFontSize\": 15}, \"axisBottom\": {\"labelFontSize\": 15}}, \"data\": {\"name\": \"data-3cfc9a2cbd8d575f539f6db4e666bfdb\"}, \"mark\": \"bar\", \"encoding\": {\"x\": {\"type\": \"nominal\", \"field\": \"repo\", \"sort\": [\"commuter\", \"mathjax\", \"nteract.io\", \"nteract\", \"papermill\", \"hydrogen\", \"semiotic\", \"meeting-minutes\", \"testbook\"]}, \"y\": {\"type\": \"quantitative\", \"field\": \"time_open\", \"title\": \"Median Days Open\"}}, \"title\": \"Time to close for issues closed in the last 60 days\", \"$schema\": \"https://vega.github.io/schema/vega-lite/v4.8.1.json\", \"datasets\": {\"data-3cfc9a2cbd8d575f539f6db4e666bfdb\": [{\"org\": \"nteract\", \"repo\": \"commuter\", \"time_open\": 96.6970138888889, \"org/repo\": \"nteract/commuter\"}, {\"org\": \"nteract\", \"repo\": \"hydrogen\", \"time_open\": 6.951365740740741, \"org/repo\": \"nteract/hydrogen\"}, {\"org\": \"nteract\", \"repo\": \"mathjax\", \"time_open\": 46.97916666666667, \"org/repo\": \"nteract/mathjax\"}, {\"org\": \"nteract\", \"repo\": \"meeting-minutes\", \"time_open\": 2.252476851851852, \"org/repo\": \"nteract/meeting-minutes\"}, {\"org\": \"nteract\", \"repo\": \"nteract\", \"time_open\": 40.029710648148146, \"org/repo\": \"nteract/nteract\"}, {\"org\": \"nteract\", \"repo\": \"nteract.io\", \"time_open\": 46.40822916666667, \"org/repo\": \"nteract/nteract.io\"}, {\"org\": \"nteract\", \"repo\": \"papermill\", \"time_open\": 9.819942129629629, \"org/repo\": \"nteract/papermill\"}, {\"org\": \"nteract\", \"repo\": \"semiotic\", \"time_open\": 2.777418981481482, \"org/repo\": \"nteract/semiotic\"}, {\"org\": \"nteract\", \"repo\": \"testbook\", \"time_open\": 2.073917824074074, \"org/repo\": \"nteract/testbook\"}]}}, {\"mode\": \"vega-lite\"});\n",
       "</script>"
      ],
      "text/plain": [
       "alt.Chart(...)"
      ]
     },
     "execution_count": 19,
     "metadata": {},
     "output_type": "execute_result"
    }
   ],
   "source": [
    "time_open = closed.groupby(['org', 'repo']).agg({'time_open': 'median'}).reset_index()\n",
    "time_open['time_open'] = time_open['time_open'] / (60 * 60 * 24)\n",
    "time_open['org/repo'] = time_open.apply(lambda a: a['org'] + '/' + a['repo'], axis=1)\n",
    "sorted_vals = time_open.sort_values(['org', 'time_open'], ascending=False)['repo'].values\n",
    "alt.Chart(data=time_open, title=f\"Time to close for issues closed in the last {n_days} days\").mark_bar().encode(\n",
    "    x=alt.X('repo', sort=alt.Sort(sorted_vals.tolist())),\n",
    "    y=alt.Y('time_open', title=\"Median Days Open\"),\n",
    ")"
   ]
  },
  {
   "cell_type": "markdown",
   "metadata": {
    "papermill": {
     "duration": 0.041934,
     "end_time": "2020-10-06T01:29:31.783806",
     "exception": false,
     "start_time": "2020-10-06T01:29:31.741872",
     "status": "completed"
    },
    "tags": []
   },
   "source": [
    "## Most-upvoted issues"
   ]
  },
  {
   "cell_type": "code",
   "execution_count": 20,
   "metadata": {
    "execution": {
     "iopub.execute_input": "2020-10-06T01:29:31.898827Z",
     "iopub.status.busy": "2020-10-06T01:29:31.894562Z",
     "iopub.status.idle": "2020-10-06T01:29:31.902552Z",
     "shell.execute_reply": "2020-10-06T01:29:31.903134Z"
    },
    "papermill": {
     "duration": 0.077995,
     "end_time": "2020-10-06T01:29:31.903300",
     "exception": false,
     "start_time": "2020-10-06T01:29:31.825305",
     "status": "completed"
    },
    "tags": [
     "hide_input"
    ]
   },
   "outputs": [
    {
     "data": {
      "application/vnd.jupyter.widget-view+json": {
       "model_id": "e1f96f39cffe4a6fbb2322fa5364db9d",
       "version_major": 2,
       "version_minor": 0
      },
      "text/plain": [
       "HTML(value='<ul>\\n<li>(1) Export PDF doesn\\'t work in v0.24.1 latest version in release - nteract - <a href=\"h…"
      ]
     },
     "metadata": {},
     "output_type": "display_data"
    }
   ],
   "source": [
    "thumbsup = data.query(\"state=='OPEN' and kind == 'issue'\").sort_values(\"thumbsup\", ascending=False).head(25)\n",
    "thumbsup = thumbsup[[\"title\", \"url\", \"number\", \"thumbsup\", \"repo\"]]\n",
    "\n",
    "text = []\n",
    "for ii, irow in thumbsup.iterrows():\n",
    "    itext = f\"- ({irow['thumbsup']}) {irow['title']} - {irow['repo']} - [#{irow['number']}]({irow['url']})\"\n",
    "    text.append(itext)\n",
    "text = '\\n'.join(text)\n",
    "HTML(markdown(text))"
   ]
  },
  {
   "cell_type": "markdown",
   "metadata": {
    "papermill": {
     "duration": 0.041825,
     "end_time": "2020-10-06T01:29:31.987591",
     "exception": false,
     "start_time": "2020-10-06T01:29:31.945766",
     "status": "completed"
    },
    "tags": []
   },
   "source": [
    "## Commenters across repositories\n",
    "\n",
    "These are commenters across all issues and pull requests in the last several days.\n",
    "These are colored by the commenter's association with the organization. For information\n",
    "about what these associations mean, [see this StackOverflow post](https://stackoverflow.com/a/28866914/1927102)."
   ]
  },
  {
   "cell_type": "code",
   "execution_count": 21,
   "metadata": {
    "execution": {
     "iopub.execute_input": "2020-10-06T01:29:32.077776Z",
     "iopub.status.busy": "2020-10-06T01:29:32.077132Z",
     "iopub.status.idle": "2020-10-06T01:29:32.086966Z",
     "shell.execute_reply": "2020-10-06T01:29:32.086425Z"
    },
    "papermill": {
     "duration": 0.05979,
     "end_time": "2020-10-06T01:29:32.087144",
     "exception": false,
     "start_time": "2020-10-06T01:29:32.027354",
     "status": "completed"
    },
    "tags": [
     "remove_cell"
    ]
   },
   "outputs": [],
   "source": [
    "commentors = (\n",
    "    comments\n",
    "    .query(\"createdAt > @start_date and createdAt < @stop_date\")\n",
    "    .groupby(['org', 'repo', 'author', 'authorAssociation'])\n",
    "    .count().rename(columns={'id': 'count'})['count']\n",
    "    .reset_index()\n",
    "    .sort_values(['org', 'count'], ascending=False)\n",
    ")"
   ]
  },
  {
   "cell_type": "code",
   "execution_count": 22,
   "metadata": {
    "execution": {
     "iopub.execute_input": "2020-10-06T01:29:32.204294Z",
     "iopub.status.busy": "2020-10-06T01:29:32.193918Z",
     "iopub.status.idle": "2020-10-06T01:29:32.207135Z",
     "shell.execute_reply": "2020-10-06T01:29:32.207653Z"
    },
    "papermill": {
     "duration": 0.078549,
     "end_time": "2020-10-06T01:29:32.207871",
     "exception": false,
     "start_time": "2020-10-06T01:29:32.129322",
     "status": "completed"
    },
    "tags": [
     "hide_input"
    ]
   },
   "outputs": [
    {
     "data": {
      "text/html": [
       "\n",
       "<div id=\"altair-viz-7ad9c01105244c66ac2551044103d0c4\"></div>\n",
       "<script type=\"text/javascript\">\n",
       "  (function(spec, embedOpt){\n",
       "    let outputDiv = document.currentScript.previousElementSibling;\n",
       "    if (outputDiv.id !== \"altair-viz-7ad9c01105244c66ac2551044103d0c4\") {\n",
       "      outputDiv = document.getElementById(\"altair-viz-7ad9c01105244c66ac2551044103d0c4\");\n",
       "    }\n",
       "    const paths = {\n",
       "      \"vega\": \"https://cdn.jsdelivr.net/npm//vega@5?noext\",\n",
       "      \"vega-lib\": \"https://cdn.jsdelivr.net/npm//vega-lib?noext\",\n",
       "      \"vega-lite\": \"https://cdn.jsdelivr.net/npm//vega-lite@4.8.1?noext\",\n",
       "      \"vega-embed\": \"https://cdn.jsdelivr.net/npm//vega-embed@6?noext\",\n",
       "    };\n",
       "\n",
       "    function loadScript(lib) {\n",
       "      return new Promise(function(resolve, reject) {\n",
       "        var s = document.createElement('script');\n",
       "        s.src = paths[lib];\n",
       "        s.async = true;\n",
       "        s.onload = () => resolve(paths[lib]);\n",
       "        s.onerror = () => reject(`Error loading script: ${paths[lib]}`);\n",
       "        document.getElementsByTagName(\"head\")[0].appendChild(s);\n",
       "      });\n",
       "    }\n",
       "\n",
       "    function showError(err) {\n",
       "      outputDiv.innerHTML = `<div class=\"error\" style=\"color:red;\">${err}</div>`;\n",
       "      throw err;\n",
       "    }\n",
       "\n",
       "    function displayChart(vegaEmbed) {\n",
       "      vegaEmbed(outputDiv, spec, embedOpt)\n",
       "        .catch(err => showError(`Javascript Error: ${err.message}<br>This usually means there's a typo in your chart specification. See the javascript console for the full traceback.`));\n",
       "    }\n",
       "\n",
       "    if(typeof define === \"function\" && define.amd) {\n",
       "      requirejs.config({paths});\n",
       "      require([\"vega-embed\"], displayChart, err => showError(`Error loading script: ${err.message}`));\n",
       "    } else if (typeof vegaEmbed === \"function\") {\n",
       "      displayChart(vegaEmbed);\n",
       "    } else {\n",
       "      loadScript(\"vega\")\n",
       "        .then(() => loadScript(\"vega-lite\"))\n",
       "        .then(() => loadScript(\"vega-embed\"))\n",
       "        .catch(showError)\n",
       "        .then(() => displayChart(vegaEmbed));\n",
       "    }\n",
       "  })({\"config\": {\"axisLeft\": {\"labelFontSize\": 15}, \"axisBottom\": {\"labelFontSize\": 15}}, \"hconcat\": [{\"mark\": \"bar\", \"encoding\": {\"color\": {\"type\": \"nominal\", \"field\": \"authorAssociation\", \"scale\": {\"domain\": [\"MEMBER\", \"CONTRIBUTOR\", \"COLLABORATOR\", \"NONE\"], \"range\": [\"rgb(211.82745098039214, 211.82745098039214, 211.82745098039214)\", \"rgb(166.98562091503268, 229.89803921568628, 166.98562091503268)\", \"rgb(96.37647058823529, 192.75294117647059, 96.37647058823529)\", \"rgb(0.0, 100.3921568627451, 0.0)\"]}}, \"x\": {\"type\": \"nominal\", \"field\": \"author\"}, \"y\": {\"type\": \"quantitative\", \"field\": \"count\"}}, \"title\": \"Top 50 commentors for nteract in the last 60 days\"}], \"data\": {\"name\": \"data-07aacda951ee69025b82bd042a7bcce4\"}, \"$schema\": \"https://vega.github.io/schema/vega-lite/v4.8.1.json\", \"datasets\": {\"data-07aacda951ee69025b82bd042a7bcce4\": [{\"author\": \"captainsafia\", \"count\": 54, \"authorAssociation\": \"MEMBER\"}, {\"author\": \"vivek1729\", \"count\": 18, \"authorAssociation\": \"MEMBER\"}, {\"author\": \"vercel\", \"count\": 17, \"authorAssociation\": \"NONE\"}, {\"author\": \"willingc\", \"count\": 16, \"authorAssociation\": \"MEMBER\"}, {\"author\": \"codecov-commenter\", \"count\": 12, \"authorAssociation\": \"NONE\"}, {\"author\": \"MSeal\", \"count\": 10, \"authorAssociation\": \"MEMBER\"}, {\"author\": \"jarmokivekas\", \"count\": 9, \"authorAssociation\": \"MEMBER\"}, {\"author\": \"BenRussert\", \"count\": 9, \"authorAssociation\": \"MEMBER\"}, {\"author\": \"pwang347\", \"count\": 6, \"authorAssociation\": \"MEMBER\"}, {\"author\": \"logankilpatrick\", \"count\": 5, \"authorAssociation\": \"NONE\"}, {\"author\": \"NicholasWMRitchie\", \"count\": 5, \"authorAssociation\": \"NONE\"}, {\"author\": \"juliuscrn\", \"count\": 5, \"authorAssociation\": \"CONTRIBUTOR\"}, {\"author\": \"ctb\", \"count\": 4, \"authorAssociation\": \"CONTRIBUTOR\"}, {\"author\": \"colombod\", \"count\": 4, \"authorAssociation\": \"MEMBER\"}, {\"author\": \"emeeks\", \"count\": 3, \"authorAssociation\": \"MEMBER\"}, {\"author\": \"stisa\", \"count\": 3, \"authorAssociation\": \"NONE\"}, {\"author\": \"codepatel\", \"count\": 3, \"authorAssociation\": \"NONE\"}, {\"author\": \"shishini\", \"count\": 3, \"authorAssociation\": \"NONE\"}, {\"author\": \"rohitsanj\", \"count\": 3, \"authorAssociation\": \"MEMBER\"}, {\"author\": \"stormpython\", \"count\": 3, \"authorAssociation\": \"MEMBER\"}, {\"author\": \"kycutler\", \"count\": 2, \"authorAssociation\": \"CONTRIBUTOR\"}, {\"author\": \"n-riesco\", \"count\": 2, \"authorAssociation\": \"MEMBER\"}, {\"author\": \"ptcane\", \"count\": 2, \"authorAssociation\": \"NONE\"}, {\"author\": \"Rcubes\", \"count\": 2, \"authorAssociation\": \"NONE\"}, {\"author\": \"aviatesk\", \"count\": 2, \"authorAssociation\": \"MEMBER\"}, {\"author\": \"ramantehlan\", \"count\": 2, \"authorAssociation\": \"MEMBER\"}, {\"author\": \"clad26\", \"count\": 2, \"authorAssociation\": \"NONE\"}, {\"author\": \"Lemanr-ops\", \"count\": 2, \"authorAssociation\": \"NONE\"}, {\"author\": \"we684123\", \"count\": 1, \"authorAssociation\": \"NONE\"}, {\"author\": \"qchenevier\", \"count\": 1, \"authorAssociation\": \"NONE\"}, {\"author\": \"thvasilo\", \"count\": 1, \"authorAssociation\": \"NONE\"}, {\"author\": \"robertwt7\", \"count\": 1, \"authorAssociation\": \"NONE\"}, {\"author\": \"sarahallen111\", \"count\": 1, \"authorAssociation\": \"NONE\"}, {\"author\": \"manoelcfeliciano\", \"count\": 1, \"authorAssociation\": \"NONE\"}, {\"author\": \"AndrewQuinn2020\", \"count\": 1, \"authorAssociation\": \"NONE\"}, {\"author\": \"kubark42\", \"count\": 1, \"authorAssociation\": \"NONE\"}, {\"author\": \"justinsoliz\", \"count\": 1, \"authorAssociation\": \"NONE\"}, {\"author\": \"joshuali925\", \"count\": 1, \"authorAssociation\": \"NONE\"}, {\"author\": \"haresudhan\", \"count\": 1, \"authorAssociation\": \"MEMBER\"}, {\"author\": \"ed9w2in6\", \"count\": 1, \"authorAssociation\": \"NONE\"}, {\"author\": \"dwt\", \"count\": 1, \"authorAssociation\": \"NONE\"}, {\"author\": \"dependabot\", \"count\": 1, \"authorAssociation\": \"NONE\"}, {\"author\": \"allisonmcampbell\", \"count\": 1, \"authorAssociation\": \"NONE\"}, {\"author\": \"akx\", \"count\": 1, \"authorAssociation\": \"MEMBER\"}, {\"author\": \"akald\", \"count\": 1, \"authorAssociation\": \"NONE\"}, {\"author\": \"absognety\", \"count\": 1, \"authorAssociation\": \"NONE\"}, {\"author\": \"Taborski\", \"count\": 1, \"authorAssociation\": \"NONE\"}, {\"author\": \"DeeDeeG\", \"count\": 1, \"authorAssociation\": \"NONE\"}, {\"author\": \"CrystallineCat\", \"count\": 1, \"authorAssociation\": \"MEMBER\"}, {\"author\": \"BigFatDog\", \"count\": 1, \"authorAssociation\": \"NONE\"}]}}, {\"mode\": \"vega-lite\"});\n",
       "</script>"
      ],
      "text/plain": [
       "alt.HConcatChart(...)"
      ]
     },
     "execution_count": 22,
     "metadata": {},
     "output_type": "execute_result"
    }
   ],
   "source": [
    "n_plot = 50\n",
    "charts = []\n",
    "for ii, (iorg, idata) in enumerate(commentors.groupby(['org'])):\n",
    "    title = f\"Top {n_plot} commentors for {iorg} in the last {n_days} days\"\n",
    "    idata = idata.groupby('author', as_index=False).agg({'count': 'sum', 'authorAssociation': 'first'})\n",
    "    idata = idata.sort_values('count', ascending=False).head(n_plot)\n",
    "    ch = alt.Chart(data=idata.head(n_plot), title=title).mark_bar().encode(\n",
    "        x='author',\n",
    "        y='count',\n",
    "        color=alt.Color('authorAssociation', scale=alt.Scale(domain=author_types, range=author_colors))\n",
    "    )\n",
    "    charts.append(ch)\n",
    "alt.hconcat(*charts)"
   ]
  },
  {
   "cell_type": "markdown",
   "metadata": {
    "papermill": {
     "duration": 0.045139,
     "end_time": "2020-10-06T01:29:32.295741",
     "exception": false,
     "start_time": "2020-10-06T01:29:32.250602",
     "status": "completed"
    },
    "tags": []
   },
   "source": [
    "## First responders\n",
    "\n",
    "First responders are the first people to respond to a new issue in one of the repositories.\n",
    "The following plots show first responders for recently-created issues."
   ]
  },
  {
   "cell_type": "code",
   "execution_count": 23,
   "metadata": {
    "execution": {
     "iopub.execute_input": "2020-10-06T01:29:32.385536Z",
     "iopub.status.busy": "2020-10-06T01:29:32.384879Z",
     "iopub.status.idle": "2020-10-06T01:29:32.487683Z",
     "shell.execute_reply": "2020-10-06T01:29:32.487188Z"
    },
    "papermill": {
     "duration": 0.151706,
     "end_time": "2020-10-06T01:29:32.487840",
     "exception": false,
     "start_time": "2020-10-06T01:29:32.336134",
     "status": "completed"
    },
    "tags": [
     "remove_cell"
    ]
   },
   "outputs": [],
   "source": [
    "first_comments = []\n",
    "for (org, repo, issue_id), i_comments in comments.groupby(['org', 'repo', 'id']):\n",
    "    ix_min = pd.to_datetime(i_comments['createdAt']).idxmin()\n",
    "    first_comment = i_comments.loc[ix_min]\n",
    "    if isinstance(first_comment, pd.DataFrame):\n",
    "        first_comment = first_comment.iloc[0]\n",
    "    first_comments.append(first_comment)\n",
    "first_comments = pd.concat(first_comments, axis=1).T\n",
    "\n",
    "# Make up counts for viz\n",
    "first_responder_counts = first_comments.groupby(['org', 'author', 'authorAssociation'], as_index=False).\\\n",
    "    count().rename(columns={'id': 'n_first_responses'}).sort_values(['org', 'n_first_responses'], ascending=False)\n"
   ]
  },
  {
   "cell_type": "code",
   "execution_count": 24,
   "metadata": {
    "execution": {
     "iopub.execute_input": "2020-10-06T01:29:32.589531Z",
     "iopub.status.busy": "2020-10-06T01:29:32.588921Z",
     "iopub.status.idle": "2020-10-06T01:29:32.609834Z",
     "shell.execute_reply": "2020-10-06T01:29:32.609325Z"
    },
    "papermill": {
     "duration": 0.074666,
     "end_time": "2020-10-06T01:29:32.609983",
     "exception": false,
     "start_time": "2020-10-06T01:29:32.535317",
     "status": "completed"
    },
    "tags": [
     "hide_input"
    ]
   },
   "outputs": [
    {
     "data": {
      "text/html": [
       "\n",
       "<div id=\"altair-viz-f9078fbfb3e643a48cd743c4874bf772\"></div>\n",
       "<script type=\"text/javascript\">\n",
       "  (function(spec, embedOpt){\n",
       "    let outputDiv = document.currentScript.previousElementSibling;\n",
       "    if (outputDiv.id !== \"altair-viz-f9078fbfb3e643a48cd743c4874bf772\") {\n",
       "      outputDiv = document.getElementById(\"altair-viz-f9078fbfb3e643a48cd743c4874bf772\");\n",
       "    }\n",
       "    const paths = {\n",
       "      \"vega\": \"https://cdn.jsdelivr.net/npm//vega@5?noext\",\n",
       "      \"vega-lib\": \"https://cdn.jsdelivr.net/npm//vega-lib?noext\",\n",
       "      \"vega-lite\": \"https://cdn.jsdelivr.net/npm//vega-lite@4.8.1?noext\",\n",
       "      \"vega-embed\": \"https://cdn.jsdelivr.net/npm//vega-embed@6?noext\",\n",
       "    };\n",
       "\n",
       "    function loadScript(lib) {\n",
       "      return new Promise(function(resolve, reject) {\n",
       "        var s = document.createElement('script');\n",
       "        s.src = paths[lib];\n",
       "        s.async = true;\n",
       "        s.onload = () => resolve(paths[lib]);\n",
       "        s.onerror = () => reject(`Error loading script: ${paths[lib]}`);\n",
       "        document.getElementsByTagName(\"head\")[0].appendChild(s);\n",
       "      });\n",
       "    }\n",
       "\n",
       "    function showError(err) {\n",
       "      outputDiv.innerHTML = `<div class=\"error\" style=\"color:red;\">${err}</div>`;\n",
       "      throw err;\n",
       "    }\n",
       "\n",
       "    function displayChart(vegaEmbed) {\n",
       "      vegaEmbed(outputDiv, spec, embedOpt)\n",
       "        .catch(err => showError(`Javascript Error: ${err.message}<br>This usually means there's a typo in your chart specification. See the javascript console for the full traceback.`));\n",
       "    }\n",
       "\n",
       "    if(typeof define === \"function\" && define.amd) {\n",
       "      requirejs.config({paths});\n",
       "      require([\"vega-embed\"], displayChart, err => showError(`Error loading script: ${err.message}`));\n",
       "    } else if (typeof vegaEmbed === \"function\") {\n",
       "      displayChart(vegaEmbed);\n",
       "    } else {\n",
       "      loadScript(\"vega\")\n",
       "        .then(() => loadScript(\"vega-lite\"))\n",
       "        .then(() => loadScript(\"vega-embed\"))\n",
       "        .catch(showError)\n",
       "        .then(() => displayChart(vegaEmbed));\n",
       "    }\n",
       "  })({\"config\": {\"axisLeft\": {\"labelFontSize\": 15}, \"axisBottom\": {\"labelFontSize\": 15}}, \"data\": {\"name\": \"data-94cae4a6e196f299eba107e37f4e7315\"}, \"mark\": \"bar\", \"encoding\": {\"color\": {\"type\": \"nominal\", \"field\": \"authorAssociation\", \"scale\": {\"domain\": [\"MEMBER\", \"CONTRIBUTOR\", \"COLLABORATOR\", \"NONE\"], \"range\": [\"rgb(211.82745098039214, 211.82745098039214, 211.82745098039214)\", \"rgb(166.98562091503268, 229.89803921568628, 166.98562091503268)\", \"rgb(96.37647058823529, 192.75294117647059, 96.37647058823529)\", \"rgb(0.0, 100.3921568627451, 0.0)\"]}}, \"x\": {\"type\": \"nominal\", \"field\": \"author\"}, \"y\": {\"type\": \"quantitative\", \"field\": \"n_first_responses\"}}, \"title\": \"Top 50 first responders for nteract in the last 60 days\", \"$schema\": \"https://vega.github.io/schema/vega-lite/v4.8.1.json\", \"datasets\": {\"data-94cae4a6e196f299eba107e37f4e7315\": [{\"author\": \"captainsafia\", \"n_first_responses\": 20, \"authorAssociation\": \"MEMBER\"}, {\"author\": \"vercel\", \"n_first_responses\": 17, \"authorAssociation\": \"NONE\"}, {\"author\": \"codecov-commenter\", \"n_first_responses\": 12, \"authorAssociation\": \"NONE\"}, {\"author\": \"MSeal\", \"n_first_responses\": 9, \"authorAssociation\": \"MEMBER\"}, {\"author\": \"willingc\", \"n_first_responses\": 6, \"authorAssociation\": \"MEMBER\"}, {\"author\": \"vivek1729\", \"n_first_responses\": 3, \"authorAssociation\": \"MEMBER\"}, {\"author\": \"stormpython\", \"n_first_responses\": 3, \"authorAssociation\": \"MEMBER\"}, {\"author\": \"BenRussert\", \"n_first_responses\": 2, \"authorAssociation\": \"MEMBER\"}, {\"author\": \"juliuscrn\", \"n_first_responses\": 2, \"authorAssociation\": \"CONTRIBUTOR\"}, {\"author\": \"emeeks\", \"n_first_responses\": 2, \"authorAssociation\": \"MEMBER\"}, {\"author\": \"ramantehlan\", \"n_first_responses\": 2, \"authorAssociation\": \"MEMBER\"}, {\"author\": \"NicholasWMRitchie\", \"n_first_responses\": 2, \"authorAssociation\": \"NONE\"}, {\"author\": \"haresudhan\", \"n_first_responses\": 1, \"authorAssociation\": \"MEMBER\"}, {\"author\": \"n-riesco\", \"n_first_responses\": 1, \"authorAssociation\": \"MEMBER\"}, {\"author\": \"logankilpatrick\", \"n_first_responses\": 1, \"authorAssociation\": \"NONE\"}, {\"author\": \"qchenevier\", \"n_first_responses\": 1, \"authorAssociation\": \"NONE\"}, {\"author\": \"lgeiger\", \"n_first_responses\": 1, \"authorAssociation\": \"MEMBER\"}, {\"author\": \"rgbkrk\", \"n_first_responses\": 1, \"authorAssociation\": \"MEMBER\"}, {\"author\": \"jonsequitur\", \"n_first_responses\": 1, \"authorAssociation\": \"NONE\"}, {\"author\": \"jarmokivekas\", \"n_first_responses\": 1, \"authorAssociation\": \"MEMBER\"}, {\"author\": \"pwang347\", \"n_first_responses\": 1, \"authorAssociation\": \"MEMBER\"}, {\"author\": \"AndrewQuinn2020\", \"n_first_responses\": 1, \"authorAssociation\": \"NONE\"}, {\"author\": \"ed9w2in6\", \"n_first_responses\": 1, \"authorAssociation\": \"NONE\"}, {\"author\": \"codepatel\", \"n_first_responses\": 1, \"authorAssociation\": \"NONE\"}, {\"author\": \"clad26\", \"n_first_responses\": 1, \"authorAssociation\": \"NONE\"}, {\"author\": \"chameroy\", \"n_first_responses\": 1, \"authorAssociation\": \"NONE\"}, {\"author\": \"bfkenny\", \"n_first_responses\": 1, \"authorAssociation\": \"NONE\"}, {\"author\": \"aviatesk\", \"n_first_responses\": 1, \"authorAssociation\": \"MEMBER\"}, {\"author\": \"allisonmcampbell\", \"n_first_responses\": 1, \"authorAssociation\": \"NONE\"}, {\"author\": \"absognety\", \"n_first_responses\": 1, \"authorAssociation\": \"NONE\"}, {\"author\": \"Taborski\", \"n_first_responses\": 1, \"authorAssociation\": \"NONE\"}, {\"author\": \"Rcubes\", \"n_first_responses\": 1, \"authorAssociation\": \"NONE\"}, {\"author\": \"Lemanr-ops\", \"n_first_responses\": 1, \"authorAssociation\": \"NONE\"}, {\"author\": \"DeeDeeG\", \"n_first_responses\": 1, \"authorAssociation\": \"NONE\"}, {\"author\": \"BigFatDog\", \"n_first_responses\": 1, \"authorAssociation\": \"NONE\"}, {\"author\": \"dependabot\", \"n_first_responses\": 1, \"authorAssociation\": \"NONE\"}]}}, {\"mode\": \"vega-lite\"});\n",
       "</script>"
      ],
      "text/plain": [
       "alt.Chart(...)"
      ]
     },
     "execution_count": 24,
     "metadata": {},
     "output_type": "execute_result"
    }
   ],
   "source": [
    "n_plot = 50\n",
    "\n",
    "title = f\"Top {n_plot} first responders for {github_org} in the last {n_days} days\"\n",
    "idata = first_responder_counts.groupby('author', as_index=False).agg({'n_first_responses': 'sum', 'authorAssociation': 'first'})\n",
    "idata = idata.sort_values('n_first_responses', ascending=False).head(n_plot)\n",
    "ch = alt.Chart(data=idata.head(n_plot), title=title).mark_bar().encode(\n",
    "    x='author',\n",
    "    y='n_first_responses',\n",
    "    color=alt.Color('authorAssociation', scale=alt.Scale(domain=author_types, range=author_colors))\n",
    ")\n",
    "ch"
   ]
  },
  {
   "cell_type": "markdown",
   "metadata": {
    "papermill": {
     "duration": 0.044443,
     "end_time": "2020-10-06T01:29:32.701640",
     "exception": false,
     "start_time": "2020-10-06T01:29:32.657197",
     "status": "completed"
    },
    "tags": []
   },
   "source": [
    "## Recent activity\n",
    "\n",
    "### A list of merged PRs by project\n",
    "\n",
    "Below is a tabbed readout of recently-merged PRs. Check out the title to get an idea for what they\n",
    "implemented, and be sure to thank the PR author for their hard work!"
   ]
  },
  {
   "cell_type": "code",
   "execution_count": 25,
   "metadata": {
    "execution": {
     "iopub.execute_input": "2020-10-06T01:29:32.821547Z",
     "iopub.status.busy": "2020-10-06T01:29:32.820916Z",
     "iopub.status.idle": "2020-10-06T01:29:32.947083Z",
     "shell.execute_reply": "2020-10-06T01:29:32.934895Z"
    },
    "papermill": {
     "duration": 0.204046,
     "end_time": "2020-10-06T01:29:32.947262",
     "exception": false,
     "start_time": "2020-10-06T01:29:32.743216",
     "status": "completed"
    },
    "tags": [
     "hide_input"
    ]
   },
   "outputs": [
    {
     "data": {
      "application/vnd.jupyter.widget-view+json": {
       "model_id": "e9066bda0e3b4304aec1ba6ab207874c",
       "version_major": 2,
       "version_minor": 0
      },
      "text/plain": [
       "Tab(children=(HTML(value='<h4>Closed PRs for repo: <a href=\"https://github.com/nteract/ansi-to-react\">nteract/…"
      ]
     },
     "metadata": {},
     "output_type": "display_data"
    }
   ],
   "source": [
    "tabs = widgets.Tab(children=[])\n",
    "\n",
    "for ii, ((org, repo), imerged) in enumerate(merged.query(\"repo in @use_repos\").groupby(['org', 'repo'])):\n",
    "    merged_by = {}\n",
    "    pr_by = {}\n",
    "    issue_md = []\n",
    "    issue_md.append(f\"#### Closed PRs for repo: [{org}/{repo}](https://github.com/{github_org}/{repo})\")\n",
    "    issue_md.append(\"\")\n",
    "    issue_md.append(f\"##### \")\n",
    "\n",
    "    for _, ipr in imerged.iterrows():\n",
    "        user_name = ipr['author']\n",
    "        user_url = author_url(user_name)\n",
    "        pr_number = ipr['number']\n",
    "        pr_html = ipr['url']\n",
    "        pr_title = ipr['title']\n",
    "        pr_closedby = ipr['mergedBy']\n",
    "        pr_closedby_url = f\"https://github.com/{pr_closedby}\"\n",
    "        if user_name not in pr_by:\n",
    "            pr_by[user_name] = 1\n",
    "        else:\n",
    "            pr_by[user_name] += 1\n",
    "\n",
    "        if pr_closedby not in merged_by:\n",
    "            merged_by[pr_closedby] = 1\n",
    "        else:\n",
    "            merged_by[pr_closedby] += 1\n",
    "        text = f\"* [(#{pr_number})]({pr_html}): _{pr_title}_ by **[@{user_name}]({user_url})** merged by **[@{pr_closedby}]({pr_closedby_url})**\"\n",
    "        issue_md.append(text)\n",
    "    \n",
    "    issue_md.append('')\n",
    "    markdown_html = markdown('\\n'.join(issue_md))\n",
    "\n",
    "    children = list(tabs.children)\n",
    "    children.append(HTML(markdown_html))\n",
    "    tabs.children = tuple(children)\n",
    "    tabs.set_title(ii, repo)\n",
    "tabs"
   ]
  },
  {
   "cell_type": "markdown",
   "metadata": {
    "papermill": {
     "duration": 0.046836,
     "end_time": "2020-10-06T01:29:33.042742",
     "exception": false,
     "start_time": "2020-10-06T01:29:32.995906",
     "status": "completed"
    },
    "tags": []
   },
   "source": [
    "### A list of recent issues\n",
    "\n",
    "Below is a list of issues with recent activity in each repository. If they seem of interest\n",
    "to you, click on their links and jump in to participate!"
   ]
  },
  {
   "cell_type": "code",
   "execution_count": 26,
   "metadata": {
    "execution": {
     "iopub.execute_input": "2020-10-06T01:29:33.142433Z",
     "iopub.status.busy": "2020-10-06T01:29:33.141861Z",
     "iopub.status.idle": "2020-10-06T01:29:33.148757Z",
     "shell.execute_reply": "2020-10-06T01:29:33.148289Z"
    },
    "papermill": {
     "duration": 0.059908,
     "end_time": "2020-10-06T01:29:33.148893",
     "exception": false,
     "start_time": "2020-10-06T01:29:33.088985",
     "status": "completed"
    },
    "tags": [
     "remove_cell"
    ]
   },
   "outputs": [],
   "source": [
    "# Add comment count data to issues and PRs\n",
    "comment_counts = (\n",
    "    comments\n",
    "    .query(\"createdAt > @start_date and createdAt < @stop_date\")\n",
    "    .groupby(['org', 'repo', 'id'])\n",
    "    .count().iloc[:, 0].to_frame()\n",
    ")\n",
    "comment_counts.columns = ['n_comments']\n",
    "comment_counts = comment_counts.reset_index()"
   ]
  },
  {
   "cell_type": "code",
   "execution_count": 27,
   "metadata": {
    "execution": {
     "iopub.execute_input": "2020-10-06T01:29:33.248161Z",
     "iopub.status.busy": "2020-10-06T01:29:33.247295Z",
     "iopub.status.idle": "2020-10-06T01:29:33.563867Z",
     "shell.execute_reply": "2020-10-06T01:29:33.529469Z"
    },
    "papermill": {
     "duration": 0.373635,
     "end_time": "2020-10-06T01:29:33.564042",
     "exception": false,
     "start_time": "2020-10-06T01:29:33.190407",
     "status": "completed"
    },
    "tags": [
     "hide_input"
    ],
    "toc-hr-collapsed": false
   },
   "outputs": [
    {
     "data": {
      "text/markdown": [
       "Here are the top 5 active issues in each repository in the last 60 days"
      ],
      "text/plain": [
       "<IPython.core.display.Markdown object>"
      ]
     },
     "metadata": {},
     "output_type": "display_data"
    },
    {
     "data": {
      "application/vnd.jupyter.widget-view+json": {
       "model_id": "d77f046d1755426091dec523306677e0",
       "version_major": 2,
       "version_minor": 0
      },
      "text/plain": [
       "Tab(children=(HTML(value='<h5><a href=\"https://github.com/nteract/ansi-to-react\">nteract/ansi-to-react</a></h5…"
      ]
     },
     "metadata": {},
     "output_type": "display_data"
    }
   ],
   "source": [
    "n_plot = 5\n",
    "tabs = widgets.Tab(children=[])\n",
    "\n",
    "for ii, (repo, i_issues) in enumerate(comment_counts.query(\"repo in @use_repos\").groupby('repo')):\n",
    "    \n",
    "    issue_md = []\n",
    "    issue_md.append(\"\")\n",
    "    issue_md.append(f\"##### [{github_org}/{repo}](https://github.com/{github_org}/{repo})\")\n",
    "\n",
    "    top_issues = i_issues.sort_values('n_comments', ascending=False).head(n_plot)\n",
    "    top_issue_list = pd.merge(issues, top_issues, left_on=['org', 'repo', 'id'], right_on=['org', 'repo', 'id'])\n",
    "    for _, issue in top_issue_list.sort_values('n_comments', ascending=False).head(n_plot).iterrows():\n",
    "        user_name = issue['author']\n",
    "        user_url = author_url(user_name)\n",
    "        issue_number = issue['number']\n",
    "        issue_html = issue['url']\n",
    "        issue_title = issue['title']\n",
    "\n",
    "        text = f\"* [(#{issue_number})]({issue_html}): _{issue_title}_ by **[@{user_name}]({user_url})**\"\n",
    "        issue_md.append(text)\n",
    "\n",
    "    issue_md.append('')\n",
    "    md_html = HTML(markdown('\\n'.join(issue_md)))\n",
    "\n",
    "    children = list(tabs.children)\n",
    "    children.append(HTML(markdown('\\n'.join(issue_md))))\n",
    "    tabs.children = tuple(children)\n",
    "    tabs.set_title(ii, repo)\n",
    "    \n",
    "display(Markdown(f\"Here are the top {n_plot} active issues in each repository in the last {n_days} days\"))\n",
    "display(tabs)"
   ]
  }
 ],
 "metadata": {
  "kernelspec": {
   "display_name": "Python 3",
   "language": "python",
   "name": "python3"
  },
  "language_info": {
   "codemirror_mode": {
    "name": "ipython",
    "version": 3
   },
   "file_extension": ".py",
   "mimetype": "text/x-python",
   "name": "python",
   "nbconvert_exporter": "python",
   "pygments_lexer": "ipython3",
   "version": "3.7.9"
  },
  "papermill": {
   "default_parameters": {},
   "duration": 24.813939,
   "end_time": "2020-10-06T01:29:34.126899",
   "environment_variables": {},
   "exception": null,
   "input_path": "./template.ipynb",
   "output_path": "book/nteract.ipynb",
   "parameters": {
    "github_org": "nteract",
    "n_days": 60
   },
   "start_time": "2020-10-06T01:29:09.312960",
   "version": "2.2.0"
  },
  "widgets": {
   "application/vnd.jupyter.widget-state+json": {
    "state": {
     "017018aafde94c0290be0f21ede1e3af": {
      "model_module": "@jupyter-widgets/controls",
      "model_module_version": "1.5.0",
      "model_name": "DescriptionStyleModel",
      "state": {
       "_model_module": "@jupyter-widgets/controls",
       "_model_module_version": "1.5.0",
       "_model_name": "DescriptionStyleModel",
       "_view_count": null,
       "_view_module": "@jupyter-widgets/base",
       "_view_module_version": "1.2.0",
       "_view_name": "StyleView",
       "description_width": ""
      }
     },
     "0641c96bf7124a45aac7f7d850bf0b5b": {
      "model_module": "@jupyter-widgets/base",
      "model_module_version": "1.2.0",
      "model_name": "LayoutModel",
      "state": {
       "_model_module": "@jupyter-widgets/base",
       "_model_module_version": "1.2.0",
       "_model_name": "LayoutModel",
       "_view_count": null,
       "_view_module": "@jupyter-widgets/base",
       "_view_module_version": "1.2.0",
       "_view_name": "LayoutView",
       "align_content": null,
       "align_items": null,
       "align_self": null,
       "border": null,
       "bottom": null,
       "display": null,
       "flex": null,
       "flex_flow": null,
       "grid_area": null,
       "grid_auto_columns": null,
       "grid_auto_flow": null,
       "grid_auto_rows": null,
       "grid_column": null,
       "grid_gap": null,
       "grid_row": null,
       "grid_template_areas": null,
       "grid_template_columns": null,
       "grid_template_rows": null,
       "height": null,
       "justify_content": null,
       "justify_items": null,
       "left": null,
       "margin": null,
       "max_height": null,
       "max_width": null,
       "min_height": null,
       "min_width": null,
       "object_fit": null,
       "object_position": null,
       "order": null,
       "overflow": null,
       "overflow_x": null,
       "overflow_y": null,
       "padding": null,
       "right": null,
       "top": null,
       "visibility": null,
       "width": null
      }
     },
     "0be47a8608bc41adb764fbe2284b43ae": {
      "model_module": "@jupyter-widgets/base",
      "model_module_version": "1.2.0",
      "model_name": "LayoutModel",
      "state": {
       "_model_module": "@jupyter-widgets/base",
       "_model_module_version": "1.2.0",
       "_model_name": "LayoutModel",
       "_view_count": null,
       "_view_module": "@jupyter-widgets/base",
       "_view_module_version": "1.2.0",
       "_view_name": "LayoutView",
       "align_content": null,
       "align_items": null,
       "align_self": null,
       "border": null,
       "bottom": null,
       "display": null,
       "flex": null,
       "flex_flow": null,
       "grid_area": null,
       "grid_auto_columns": null,
       "grid_auto_flow": null,
       "grid_auto_rows": null,
       "grid_column": null,
       "grid_gap": null,
       "grid_row": null,
       "grid_template_areas": null,
       "grid_template_columns": null,
       "grid_template_rows": null,
       "height": null,
       "justify_content": null,
       "justify_items": null,
       "left": null,
       "margin": null,
       "max_height": null,
       "max_width": null,
       "min_height": null,
       "min_width": null,
       "object_fit": null,
       "object_position": null,
       "order": null,
       "overflow": null,
       "overflow_x": null,
       "overflow_y": null,
       "padding": null,
       "right": null,
       "top": null,
       "visibility": null,
       "width": null
      }
     },
     "12976bd9460243928ad0b127933cd2cf": {
      "model_module": "@jupyter-widgets/controls",
      "model_module_version": "1.5.0",
      "model_name": "DescriptionStyleModel",
      "state": {
       "_model_module": "@jupyter-widgets/controls",
       "_model_module_version": "1.5.0",
       "_model_name": "DescriptionStyleModel",
       "_view_count": null,
       "_view_module": "@jupyter-widgets/base",
       "_view_module_version": "1.2.0",
       "_view_name": "StyleView",
       "description_width": ""
      }
     },
     "15c7a84cb5d7484a9d24767c63c445c4": {
      "model_module": "@jupyter-widgets/controls",
      "model_module_version": "1.5.0",
      "model_name": "HTMLModel",
      "state": {
       "_dom_classes": [],
       "_model_module": "@jupyter-widgets/controls",
       "_model_module_version": "1.5.0",
       "_model_name": "HTMLModel",
       "_view_count": null,
       "_view_module": "@jupyter-widgets/controls",
       "_view_module_version": "1.5.0",
       "_view_name": "HTMLView",
       "description": "",
       "description_tooltip": null,
       "layout": "IPY_MODEL_5ecce20d82f14ffa9b39e59f346b10cc",
       "placeholder": "​",
       "style": "IPY_MODEL_905560d530fb46f4a5ce850c266d1746",
       "value": "<h5><a href=\"https://github.com/nteract/semiotic\">nteract/semiotic</a></h5>\n<ul>\n<li><a href=\"https://github.com/nteract/semiotic/issues/531\">(#531)</a>: <em>warning when using webpack</em> by <strong><a href=\"https://github.com/colombod\">@colombod</a></strong></li>\n<li><a href=\"https://github.com/nteract/semiotic/issues/532\">(#532)</a>: _Line overlaying candlestick _ by <strong><a href=\"https://github.com/justinsoliz\">@justinsoliz</a></strong></li>\n<li><a href=\"https://github.com/nteract/semiotic/issues/534\">(#534)</a>: _donut and rose display wrong percentage _ by <strong><a href=\"https://github.com/BigFatDog\">@BigFatDog</a></strong></li>\n</ul>"
      }
     },
     "169cdfbf5b8b4805bfc51301dbbd6bb1": {
      "model_module": "@jupyter-widgets/base",
      "model_module_version": "1.2.0",
      "model_name": "LayoutModel",
      "state": {
       "_model_module": "@jupyter-widgets/base",
       "_model_module_version": "1.2.0",
       "_model_name": "LayoutModel",
       "_view_count": null,
       "_view_module": "@jupyter-widgets/base",
       "_view_module_version": "1.2.0",
       "_view_name": "LayoutView",
       "align_content": null,
       "align_items": null,
       "align_self": null,
       "border": null,
       "bottom": null,
       "display": null,
       "flex": null,
       "flex_flow": null,
       "grid_area": null,
       "grid_auto_columns": null,
       "grid_auto_flow": null,
       "grid_auto_rows": null,
       "grid_column": null,
       "grid_gap": null,
       "grid_row": null,
       "grid_template_areas": null,
       "grid_template_columns": null,
       "grid_template_rows": null,
       "height": null,
       "justify_content": null,
       "justify_items": null,
       "left": null,
       "margin": null,
       "max_height": null,
       "max_width": null,
       "min_height": null,
       "min_width": null,
       "object_fit": null,
       "object_position": null,
       "order": null,
       "overflow": null,
       "overflow_x": null,
       "overflow_y": null,
       "padding": null,
       "right": null,
       "top": null,
       "visibility": null,
       "width": null
      }
     },
     "1b9c4a3c6a3e4f0b8c9e15febbfc428b": {
      "model_module": "@jupyter-widgets/controls",
      "model_module_version": "1.5.0",
      "model_name": "HTMLModel",
      "state": {
       "_dom_classes": [],
       "_model_module": "@jupyter-widgets/controls",
       "_model_module_version": "1.5.0",
       "_model_name": "HTMLModel",
       "_view_count": null,
       "_view_module": "@jupyter-widgets/controls",
       "_view_module_version": "1.5.0",
       "_view_name": "HTMLView",
       "description": "",
       "description_tooltip": null,
       "layout": "IPY_MODEL_b853d55fe2fc456a8d0a6d7101fd301f",
       "placeholder": "​",
       "style": "IPY_MODEL_ac6801b28bb0455b904a898b485ef727",
       "value": "<h5><a href=\"https://github.com/nteract/markdown\">nteract/markdown</a></h5>"
      }
     },
     "236402952bdc4715b9e650d6b2833f25": {
      "model_module": "@jupyter-widgets/base",
      "model_module_version": "1.2.0",
      "model_name": "LayoutModel",
      "state": {
       "_model_module": "@jupyter-widgets/base",
       "_model_module_version": "1.2.0",
       "_model_name": "LayoutModel",
       "_view_count": null,
       "_view_module": "@jupyter-widgets/base",
       "_view_module_version": "1.2.0",
       "_view_name": "LayoutView",
       "align_content": null,
       "align_items": null,
       "align_self": null,
       "border": null,
       "bottom": null,
       "display": null,
       "flex": null,
       "flex_flow": null,
       "grid_area": null,
       "grid_auto_columns": null,
       "grid_auto_flow": null,
       "grid_auto_rows": null,
       "grid_column": null,
       "grid_gap": null,
       "grid_row": null,
       "grid_template_areas": null,
       "grid_template_columns": null,
       "grid_template_rows": null,
       "height": null,
       "justify_content": null,
       "justify_items": null,
       "left": null,
       "margin": null,
       "max_height": null,
       "max_width": null,
       "min_height": null,
       "min_width": null,
       "object_fit": null,
       "object_position": null,
       "order": null,
       "overflow": null,
       "overflow_x": null,
       "overflow_y": null,
       "padding": null,
       "right": null,
       "top": null,
       "visibility": null,
       "width": null
      }
     },
     "25f72e79520349f0a837c77c242d4d06": {
      "model_module": "@jupyter-widgets/base",
      "model_module_version": "1.2.0",
      "model_name": "LayoutModel",
      "state": {
       "_model_module": "@jupyter-widgets/base",
       "_model_module_version": "1.2.0",
       "_model_name": "LayoutModel",
       "_view_count": null,
       "_view_module": "@jupyter-widgets/base",
       "_view_module_version": "1.2.0",
       "_view_name": "LayoutView",
       "align_content": null,
       "align_items": null,
       "align_self": null,
       "border": null,
       "bottom": null,
       "display": null,
       "flex": null,
       "flex_flow": null,
       "grid_area": null,
       "grid_auto_columns": null,
       "grid_auto_flow": null,
       "grid_auto_rows": null,
       "grid_column": null,
       "grid_gap": null,
       "grid_row": null,
       "grid_template_areas": null,
       "grid_template_columns": null,
       "grid_template_rows": null,
       "height": null,
       "justify_content": null,
       "justify_items": null,
       "left": null,
       "margin": null,
       "max_height": null,
       "max_width": null,
       "min_height": null,
       "min_width": null,
       "object_fit": null,
       "object_position": null,
       "order": null,
       "overflow": null,
       "overflow_x": null,
       "overflow_y": null,
       "padding": null,
       "right": null,
       "top": null,
       "visibility": null,
       "width": null
      }
     },
     "2af57d43013a422599ec13142b294ff3": {
      "model_module": "@jupyter-widgets/controls",
      "model_module_version": "1.5.0",
      "model_name": "DescriptionStyleModel",
      "state": {
       "_model_module": "@jupyter-widgets/controls",
       "_model_module_version": "1.5.0",
       "_model_name": "DescriptionStyleModel",
       "_view_count": null,
       "_view_module": "@jupyter-widgets/base",
       "_view_module_version": "1.2.0",
       "_view_name": "StyleView",
       "description_width": ""
      }
     },
     "2b5255c91a194115a19d0bcd9459f9da": {
      "model_module": "@jupyter-widgets/controls",
      "model_module_version": "1.5.0",
      "model_name": "HTMLModel",
      "state": {
       "_dom_classes": [],
       "_model_module": "@jupyter-widgets/controls",
       "_model_module_version": "1.5.0",
       "_model_name": "HTMLModel",
       "_view_count": null,
       "_view_module": "@jupyter-widgets/controls",
       "_view_module_version": "1.5.0",
       "_view_name": "HTMLView",
       "description": "",
       "description_tooltip": null,
       "layout": "IPY_MODEL_89aaa7af640b46c1a930f2ed8655e978",
       "placeholder": "​",
       "style": "IPY_MODEL_4476a721d4914d48836ec9179439bef2",
       "value": "<h4>Closed PRs for repo: <a href=\"https://github.com/nteract/outputs\">nteract/outputs</a></h4>\n<h5></h5>\n<ul>\n<li><a href=\"https://github.com/nteract/outputs/pull/22\">(#22)</a>: <em>Bump plotly.js-dist version to v1.56.0</em> by <strong><a href=\"https://github.com/archmoj\">@archmoj</a></strong> merged by <strong><a href=\"https://github.com/captainsafia\">@captainsafia</a></strong></li>\n<li><a href=\"https://github.com/nteract/outputs/pull/21\">(#21)</a>: <em>Fix link in transform-vdom's index.tsx</em> by <strong><a href=\"https://github.com/jruales\">@jruales</a></strong> merged by <strong><a href=\"https://github.com/captainsafia\">@captainsafia</a></strong></li>\n<li><a href=\"https://github.com/nteract/outputs/pull/20\">(#20)</a>: <em>Upgrade to nteract markdown and mathjax to latest</em> by <strong><a href=\"https://github.com/bgparkerdev\">@bgparkerdev</a></strong> merged by <strong><a href=\"https://github.com/captainsafia\">@captainsafia</a></strong></li>\n<li><a href=\"https://github.com/nteract/outputs/pull/19\">(#19)</a>: <em>Bump node-fetch from 2.6.0 to 2.6.1</em> by <strong><a href=\"https://github.com/dependabot\">@dependabot</a></strong> merged by <strong><a href=\"https://github.com/captainsafia\">@captainsafia</a></strong></li>\n<li><a href=\"https://github.com/nteract/outputs/pull/18\">(#18)</a>: <em>Bump plotly.js-dist version at 1.55.2</em> by <strong><a href=\"https://github.com/archmoj\">@archmoj</a></strong> merged by <strong><a href=\"https://github.com/captainsafia\">@captainsafia</a></strong></li>\n<li><a href=\"https://github.com/nteract/outputs/pull/17\">(#17)</a>: <em>Bump plotly.js-dist v1.55.1</em> by <strong><a href=\"https://github.com/archmoj\">@archmoj</a></strong> merged by <strong><a href=\"https://github.com/captainsafia\">@captainsafia</a></strong></li>\n<li><a href=\"https://github.com/nteract/outputs/pull/16\">(#16)</a>: <em>Upgrade react-json-tree to 0.12.1</em> by <strong><a href=\"https://github.com/akx\">@akx</a></strong> merged by <strong><a href=\"https://github.com/captainsafia\">@captainsafia</a></strong></li>\n<li><a href=\"https://github.com/nteract/outputs/pull/15\">(#15)</a>: <em>Upgrade react-json-tree to 0.12.0</em> by <strong><a href=\"https://github.com/akx\">@akx</a></strong> merged by <strong><a href=\"https://github.com/captainsafia\">@captainsafia</a></strong></li>\n</ul>"
      }
     },
     "2ba1911af714418ca65bf759849897c7": {
      "model_module": "@jupyter-widgets/base",
      "model_module_version": "1.2.0",
      "model_name": "LayoutModel",
      "state": {
       "_model_module": "@jupyter-widgets/base",
       "_model_module_version": "1.2.0",
       "_model_name": "LayoutModel",
       "_view_count": null,
       "_view_module": "@jupyter-widgets/base",
       "_view_module_version": "1.2.0",
       "_view_name": "LayoutView",
       "align_content": null,
       "align_items": null,
       "align_self": null,
       "border": null,
       "bottom": null,
       "display": null,
       "flex": null,
       "flex_flow": null,
       "grid_area": null,
       "grid_auto_columns": null,
       "grid_auto_flow": null,
       "grid_auto_rows": null,
       "grid_column": null,
       "grid_gap": null,
       "grid_row": null,
       "grid_template_areas": null,
       "grid_template_columns": null,
       "grid_template_rows": null,
       "height": null,
       "justify_content": null,
       "justify_items": null,
       "left": null,
       "margin": null,
       "max_height": null,
       "max_width": null,
       "min_height": null,
       "min_width": null,
       "object_fit": null,
       "object_position": null,
       "order": null,
       "overflow": null,
       "overflow_x": null,
       "overflow_y": null,
       "padding": null,
       "right": null,
       "top": null,
       "visibility": null,
       "width": null
      }
     },
     "2e7334c1f0e8429492490f7b2b4bdfd6": {
      "model_module": "@jupyter-widgets/controls",
      "model_module_version": "1.5.0",
      "model_name": "HTMLModel",
      "state": {
       "_dom_classes": [],
       "_model_module": "@jupyter-widgets/controls",
       "_model_module_version": "1.5.0",
       "_model_name": "HTMLModel",
       "_view_count": null,
       "_view_module": "@jupyter-widgets/controls",
       "_view_module_version": "1.5.0",
       "_view_name": "HTMLView",
       "description": "",
       "description_tooltip": null,
       "layout": "IPY_MODEL_9d697b5178274b83a5e86f02868db5ac",
       "placeholder": "​",
       "style": "IPY_MODEL_6d195c959dac4cd3bbf68d1e173bc6e7",
       "value": "<h5><a href=\"https://github.com/nteract/meeting-minutes\">nteract/meeting-minutes</a></h5>\n<ul>\n<li><a href=\"https://github.com/nteract/meeting-minutes/issues/35\">(#35)</a>: <em>NIT: Set main as the default branch, instead of master.</em> by <strong><a href=\"https://github.com/ramantehlan\">@ramantehlan</a></strong></li>\n</ul>"
      }
     },
     "2fb764818f304c23905eb2d83bc7769a": {
      "model_module": "@jupyter-widgets/controls",
      "model_module_version": "1.5.0",
      "model_name": "DescriptionStyleModel",
      "state": {
       "_model_module": "@jupyter-widgets/controls",
       "_model_module_version": "1.5.0",
       "_model_name": "DescriptionStyleModel",
       "_view_count": null,
       "_view_module": "@jupyter-widgets/base",
       "_view_module_version": "1.2.0",
       "_view_name": "StyleView",
       "description_width": ""
      }
     },
     "32e3d30007fb436087f400475e169a8b": {
      "model_module": "@jupyter-widgets/controls",
      "model_module_version": "1.5.0",
      "model_name": "IntProgressModel",
      "state": {
       "_dom_classes": [],
       "_model_module": "@jupyter-widgets/controls",
       "_model_module_version": "1.5.0",
       "_model_name": "IntProgressModel",
       "_view_count": null,
       "_view_module": "@jupyter-widgets/controls",
       "_view_module_version": "1.5.0",
       "_view_name": "ProgressView",
       "bar_style": "success",
       "description": "Downloading:",
       "description_tooltip": null,
       "layout": "IPY_MODEL_236402952bdc4715b9e650d6b2833f25",
       "max": 4,
       "min": 0,
       "orientation": "horizontal",
       "style": "IPY_MODEL_fec0715a9e32435b826902dc53043011",
       "value": 4
      }
     },
     "33ca32ee83f04c658a28389808ced9a7": {
      "model_module": "@jupyter-widgets/controls",
      "model_module_version": "1.5.0",
      "model_name": "HTMLModel",
      "state": {
       "_dom_classes": [],
       "_model_module": "@jupyter-widgets/controls",
       "_model_module_version": "1.5.0",
       "_model_name": "HTMLModel",
       "_view_count": null,
       "_view_module": "@jupyter-widgets/controls",
       "_view_module_version": "1.5.0",
       "_view_name": "HTMLView",
       "description": "",
       "description_tooltip": null,
       "layout": "IPY_MODEL_b02e90a93a274528b7a9fbac97364e60",
       "placeholder": "​",
       "style": "IPY_MODEL_9eae8806a0de464b84b7e93ae212e29b",
       "value": "<h5><a href=\"https://github.com/nteract/kernel-relay\">nteract/kernel-relay</a></h5>"
      }
     },
     "348031cb6f204fd1bffc824a43394c66": {
      "model_module": "@jupyter-widgets/controls",
      "model_module_version": "1.5.0",
      "model_name": "DescriptionStyleModel",
      "state": {
       "_model_module": "@jupyter-widgets/controls",
       "_model_module_version": "1.5.0",
       "_model_name": "DescriptionStyleModel",
       "_view_count": null,
       "_view_module": "@jupyter-widgets/base",
       "_view_module_version": "1.2.0",
       "_view_name": "StyleView",
       "description_width": ""
      }
     },
     "34e25f7bc5694c1dbfe57019bc420710": {
      "model_module": "@jupyter-widgets/base",
      "model_module_version": "1.2.0",
      "model_name": "LayoutModel",
      "state": {
       "_model_module": "@jupyter-widgets/base",
       "_model_module_version": "1.2.0",
       "_model_name": "LayoutModel",
       "_view_count": null,
       "_view_module": "@jupyter-widgets/base",
       "_view_module_version": "1.2.0",
       "_view_name": "LayoutView",
       "align_content": null,
       "align_items": null,
       "align_self": null,
       "border": null,
       "bottom": null,
       "display": null,
       "flex": null,
       "flex_flow": null,
       "grid_area": null,
       "grid_auto_columns": null,
       "grid_auto_flow": null,
       "grid_auto_rows": null,
       "grid_column": null,
       "grid_gap": null,
       "grid_row": null,
       "grid_template_areas": null,
       "grid_template_columns": null,
       "grid_template_rows": null,
       "height": null,
       "justify_content": null,
       "justify_items": null,
       "left": null,
       "margin": null,
       "max_height": null,
       "max_width": null,
       "min_height": null,
       "min_width": null,
       "object_fit": null,
       "object_position": null,
       "order": null,
       "overflow": null,
       "overflow_x": null,
       "overflow_y": null,
       "padding": null,
       "right": null,
       "top": null,
       "visibility": null,
       "width": null
      }
     },
     "37ac963d3bef4a0dbc0fa9ecbec70826": {
      "model_module": "@jupyter-widgets/controls",
      "model_module_version": "1.5.0",
      "model_name": "HTMLModel",
      "state": {
       "_dom_classes": [],
       "_model_module": "@jupyter-widgets/controls",
       "_model_module_version": "1.5.0",
       "_model_name": "HTMLModel",
       "_view_count": null,
       "_view_module": "@jupyter-widgets/controls",
       "_view_module_version": "1.5.0",
       "_view_name": "HTMLView",
       "description": "",
       "description_tooltip": null,
       "layout": "IPY_MODEL_f6b70003a0dc4a52b7d33b7805f81b4b",
       "placeholder": "​",
       "style": "IPY_MODEL_3d23ce959b7c490fb1a0b2fc55d5db84",
       "value": "<h5><a href=\"https://github.com/nteract/outputs\">nteract/outputs</a></h5>"
      }
     },
     "381d35c6a52446c9a4dc0f98405e2a60": {
      "model_module": "@jupyter-widgets/controls",
      "model_module_version": "1.5.0",
      "model_name": "HTMLModel",
      "state": {
       "_dom_classes": [],
       "_model_module": "@jupyter-widgets/controls",
       "_model_module_version": "1.5.0",
       "_model_name": "HTMLModel",
       "_view_count": null,
       "_view_module": "@jupyter-widgets/controls",
       "_view_module_version": "1.5.0",
       "_view_name": "HTMLView",
       "description": "",
       "description_tooltip": null,
       "layout": "IPY_MODEL_d7ddc9c4f68a4773a3335a6023cdc7e9",
       "placeholder": "​",
       "style": "IPY_MODEL_484e1d94217d435b9e8dcf8fbeae7340",
       "value": "<h5><a href=\"https://github.com/nteract/kernel-relay\">nteract/kernel-relay</a></h5>"
      }
     },
     "3b83c686c9f5434598892e49ef2d2dbf": {
      "model_module": "@jupyter-widgets/controls",
      "model_module_version": "1.5.0",
      "model_name": "DescriptionStyleModel",
      "state": {
       "_model_module": "@jupyter-widgets/controls",
       "_model_module_version": "1.5.0",
       "_model_name": "DescriptionStyleModel",
       "_view_count": null,
       "_view_module": "@jupyter-widgets/base",
       "_view_module_version": "1.2.0",
       "_view_name": "StyleView",
       "description_width": ""
      }
     },
     "3d23ce959b7c490fb1a0b2fc55d5db84": {
      "model_module": "@jupyter-widgets/controls",
      "model_module_version": "1.5.0",
      "model_name": "DescriptionStyleModel",
      "state": {
       "_model_module": "@jupyter-widgets/controls",
       "_model_module_version": "1.5.0",
       "_model_name": "DescriptionStyleModel",
       "_view_count": null,
       "_view_module": "@jupyter-widgets/base",
       "_view_module_version": "1.2.0",
       "_view_name": "StyleView",
       "description_width": ""
      }
     },
     "3dd6578775ff4abdb279240c3614e531": {
      "model_module": "@jupyter-widgets/controls",
      "model_module_version": "1.5.0",
      "model_name": "HTMLModel",
      "state": {
       "_dom_classes": [],
       "_model_module": "@jupyter-widgets/controls",
       "_model_module_version": "1.5.0",
       "_model_name": "HTMLModel",
       "_view_count": null,
       "_view_module": "@jupyter-widgets/controls",
       "_view_module_version": "1.5.0",
       "_view_name": "HTMLView",
       "description": "",
       "description_tooltip": null,
       "layout": "IPY_MODEL_34e25f7bc5694c1dbfe57019bc420710",
       "placeholder": "​",
       "style": "IPY_MODEL_459802515d6c43c9b610441c13c53a8b",
       "value": "<h5><a href=\"https://github.com/nteract/testbook\">nteract/testbook</a></h5>"
      }
     },
     "3f567c2b8a73499ebbcac53dda1ffd55": {
      "model_module": "@jupyter-widgets/base",
      "model_module_version": "1.2.0",
      "model_name": "LayoutModel",
      "state": {
       "_model_module": "@jupyter-widgets/base",
       "_model_module_version": "1.2.0",
       "_model_name": "LayoutModel",
       "_view_count": null,
       "_view_module": "@jupyter-widgets/base",
       "_view_module_version": "1.2.0",
       "_view_name": "LayoutView",
       "align_content": null,
       "align_items": null,
       "align_self": null,
       "border": null,
       "bottom": null,
       "display": null,
       "flex": null,
       "flex_flow": null,
       "grid_area": null,
       "grid_auto_columns": null,
       "grid_auto_flow": null,
       "grid_auto_rows": null,
       "grid_column": null,
       "grid_gap": null,
       "grid_row": null,
       "grid_template_areas": null,
       "grid_template_columns": null,
       "grid_template_rows": null,
       "height": null,
       "justify_content": null,
       "justify_items": null,
       "left": null,
       "margin": null,
       "max_height": null,
       "max_width": null,
       "min_height": null,
       "min_width": null,
       "object_fit": null,
       "object_position": null,
       "order": null,
       "overflow": null,
       "overflow_x": null,
       "overflow_y": null,
       "padding": null,
       "right": null,
       "top": null,
       "visibility": null,
       "width": null
      }
     },
     "42e502e84f684e33ab2308e2ce2dea85": {
      "model_module": "@jupyter-widgets/controls",
      "model_module_version": "1.5.0",
      "model_name": "HTMLModel",
      "state": {
       "_dom_classes": [],
       "_model_module": "@jupyter-widgets/controls",
       "_model_module_version": "1.5.0",
       "_model_name": "HTMLModel",
       "_view_count": null,
       "_view_module": "@jupyter-widgets/controls",
       "_view_module_version": "1.5.0",
       "_view_name": "HTMLView",
       "description": "",
       "description_tooltip": null,
       "layout": "IPY_MODEL_9884d5435df540b8918915aad43483a8",
       "placeholder": "​",
       "style": "IPY_MODEL_b6c48a425d5d49198bc2510b268ec499",
       "value": "<h5><a href=\"https://github.com/nteract/semiotic\">nteract/semiotic</a></h5>\n<ul>\n<li><a href=\"https://github.com/nteract/semiotic/issues/531\">(#531)</a>: <em>warning when using webpack</em> by <strong><a href=\"https://github.com/colombod\">@colombod</a></strong></li>\n<li><a href=\"https://github.com/nteract/semiotic/issues/532\">(#532)</a>: _Line overlaying candlestick _ by <strong><a href=\"https://github.com/justinsoliz\">@justinsoliz</a></strong></li>\n<li><a href=\"https://github.com/nteract/semiotic/issues/534\">(#534)</a>: _donut and rose display wrong percentage _ by <strong><a href=\"https://github.com/BigFatDog\">@BigFatDog</a></strong></li>\n</ul>"
      }
     },
     "44152ec65cc24a0c97a4ce831bf73edb": {
      "model_module": "@jupyter-widgets/base",
      "model_module_version": "1.2.0",
      "model_name": "LayoutModel",
      "state": {
       "_model_module": "@jupyter-widgets/base",
       "_model_module_version": "1.2.0",
       "_model_name": "LayoutModel",
       "_view_count": null,
       "_view_module": "@jupyter-widgets/base",
       "_view_module_version": "1.2.0",
       "_view_name": "LayoutView",
       "align_content": null,
       "align_items": null,
       "align_self": null,
       "border": null,
       "bottom": null,
       "display": null,
       "flex": null,
       "flex_flow": null,
       "grid_area": null,
       "grid_auto_columns": null,
       "grid_auto_flow": null,
       "grid_auto_rows": null,
       "grid_column": null,
       "grid_gap": null,
       "grid_row": null,
       "grid_template_areas": null,
       "grid_template_columns": null,
       "grid_template_rows": null,
       "height": null,
       "justify_content": null,
       "justify_items": null,
       "left": null,
       "margin": null,
       "max_height": null,
       "max_width": null,
       "min_height": null,
       "min_width": null,
       "object_fit": null,
       "object_position": null,
       "order": null,
       "overflow": null,
       "overflow_x": null,
       "overflow_y": null,
       "padding": null,
       "right": null,
       "top": null,
       "visibility": null,
       "width": null
      }
     },
     "4476a721d4914d48836ec9179439bef2": {
      "model_module": "@jupyter-widgets/controls",
      "model_module_version": "1.5.0",
      "model_name": "DescriptionStyleModel",
      "state": {
       "_model_module": "@jupyter-widgets/controls",
       "_model_module_version": "1.5.0",
       "_model_name": "DescriptionStyleModel",
       "_view_count": null,
       "_view_module": "@jupyter-widgets/base",
       "_view_module_version": "1.2.0",
       "_view_name": "StyleView",
       "description_width": ""
      }
     },
     "459802515d6c43c9b610441c13c53a8b": {
      "model_module": "@jupyter-widgets/controls",
      "model_module_version": "1.5.0",
      "model_name": "DescriptionStyleModel",
      "state": {
       "_model_module": "@jupyter-widgets/controls",
       "_model_module_version": "1.5.0",
       "_model_name": "DescriptionStyleModel",
       "_view_count": null,
       "_view_module": "@jupyter-widgets/base",
       "_view_module_version": "1.2.0",
       "_view_name": "StyleView",
       "description_width": ""
      }
     },
     "45dbf62e53d5431ba953e961df0d1007": {
      "model_module": "@jupyter-widgets/controls",
      "model_module_version": "1.5.0",
      "model_name": "DescriptionStyleModel",
      "state": {
       "_model_module": "@jupyter-widgets/controls",
       "_model_module_version": "1.5.0",
       "_model_name": "DescriptionStyleModel",
       "_view_count": null,
       "_view_module": "@jupyter-widgets/base",
       "_view_module_version": "1.2.0",
       "_view_name": "StyleView",
       "description_width": ""
      }
     },
     "46103d0ecdbd40469904942024858e1f": {
      "model_module": "@jupyter-widgets/controls",
      "model_module_version": "1.5.0",
      "model_name": "DescriptionStyleModel",
      "state": {
       "_model_module": "@jupyter-widgets/controls",
       "_model_module_version": "1.5.0",
       "_model_name": "DescriptionStyleModel",
       "_view_count": null,
       "_view_module": "@jupyter-widgets/base",
       "_view_module_version": "1.2.0",
       "_view_name": "StyleView",
       "description_width": ""
      }
     },
     "484e1d94217d435b9e8dcf8fbeae7340": {
      "model_module": "@jupyter-widgets/controls",
      "model_module_version": "1.5.0",
      "model_name": "DescriptionStyleModel",
      "state": {
       "_model_module": "@jupyter-widgets/controls",
       "_model_module_version": "1.5.0",
       "_model_name": "DescriptionStyleModel",
       "_view_count": null,
       "_view_module": "@jupyter-widgets/base",
       "_view_module_version": "1.2.0",
       "_view_name": "StyleView",
       "description_width": ""
      }
     },
     "4aa040bad3574a2cbe6859ffc2e22a95": {
      "model_module": "@jupyter-widgets/controls",
      "model_module_version": "1.5.0",
      "model_name": "HTMLModel",
      "state": {
       "_dom_classes": [],
       "_model_module": "@jupyter-widgets/controls",
       "_model_module_version": "1.5.0",
       "_model_name": "HTMLModel",
       "_view_count": null,
       "_view_module": "@jupyter-widgets/controls",
       "_view_module_version": "1.5.0",
       "_view_name": "HTMLView",
       "description": "",
       "description_tooltip": null,
       "layout": "IPY_MODEL_6fb7e30e206c4ae39d6f708c4a96c3a1",
       "placeholder": "​",
       "style": "IPY_MODEL_a14b45dccd7f488ca65c3b297c109e08",
       "value": "<h4>Closed PRs for repo: <a href=\"https://github.com/nteract/papermill\">nteract/papermill</a></h4>\n<h5></h5>\n<ul>\n<li><a href=\"https://github.com/nteract/papermill/pull/538\">(#538)</a>: <em>add test for SystemExit</em> by <strong><a href=\"https://github.com/willingc\">@willingc</a></strong> merged by <strong><a href=\"https://github.com/MSeal\">@MSeal</a></strong></li>\n<li><a href=\"https://github.com/nteract/papermill/pull/531\">(#531)</a>: <em>Guess params by introspecting the _parameters</em> cell_ by <strong><a href=\"https://github.com/fcollonval\">@fcollonval</a></strong> merged by <strong><a href=\"https://github.com/MSeal\">@MSeal</a></strong></li>\n<li><a href=\"https://github.com/nteract/papermill/pull/528\">(#528)</a>: <em>Powershell translator added.</em> by <strong><a href=\"https://github.com/haresudhan\">@haresudhan</a></strong> merged by <strong><a href=\"https://github.com/MSeal\">@MSeal</a></strong></li>\n<li><a href=\"https://github.com/nteract/papermill/pull/527\">(#527)</a>: <em>Set jupyter_client version in requirements.txt</em> by <strong><a href=\"https://github.com/ajbozarth\">@ajbozarth</a></strong> merged by <strong><a href=\"https://github.com/MSeal\">@MSeal</a></strong></li>\n</ul>"
      }
     },
     "4aba4d474c5542e7bb6d3175d627ee86": {
      "model_module": "@jupyter-widgets/controls",
      "model_module_version": "1.5.0",
      "model_name": "HTMLModel",
      "state": {
       "_dom_classes": [],
       "_model_module": "@jupyter-widgets/controls",
       "_model_module_version": "1.5.0",
       "_model_name": "HTMLModel",
       "_view_count": null,
       "_view_module": "@jupyter-widgets/controls",
       "_view_module_version": "1.5.0",
       "_view_name": "HTMLView",
       "description": "",
       "description_tooltip": null,
       "layout": "IPY_MODEL_0641c96bf7124a45aac7f7d850bf0b5b",
       "placeholder": "​",
       "style": "IPY_MODEL_b95c1a6065184c79bfd4d8fda8f01294",
       "value": "<h5><a href=\"https://github.com/nteract/mathjax\">nteract/mathjax</a></h5>\n<ul>\n<li><a href=\"https://github.com/nteract/mathjax/issues/8\">(#8)</a>: <em>MathJax cdn url returns 404 Error</em> by <strong><a href=\"https://github.com/stormpython\">@stormpython</a></strong></li>\n<li><a href=\"https://github.com/nteract/mathjax/issues/5\">(#5)</a>: <em>Incorrect URL of MathJax 2.7.8 library</em> by <strong><a href=\"https://github.com/bryanchen-d\">@bryanchen-d</a></strong></li>\n</ul>"
      }
     },
     "50d6a7cdef804b129d000d942d78202f": {
      "model_module": "@jupyter-widgets/controls",
      "model_module_version": "1.5.0",
      "model_name": "HTMLModel",
      "state": {
       "_dom_classes": [],
       "_model_module": "@jupyter-widgets/controls",
       "_model_module_version": "1.5.0",
       "_model_name": "HTMLModel",
       "_view_count": null,
       "_view_module": "@jupyter-widgets/controls",
       "_view_module_version": "1.5.0",
       "_view_name": "HTMLView",
       "description": "",
       "description_tooltip": null,
       "layout": "IPY_MODEL_52f44a8a0cf846ffb80fa0db3870a40b",
       "placeholder": "​",
       "style": "IPY_MODEL_017018aafde94c0290be0f21ede1e3af",
       "value": "<h5><a href=\"https://github.com/nteract/papermill\">nteract/papermill</a></h5>\n<ul>\n<li><a href=\"https://github.com/nteract/papermill/issues/536\">(#536)</a>: <em>sys.exit isn't handled gracefully in papermill 2.1.3</em> by <strong><a href=\"https://github.com/ctb\">@ctb</a></strong></li>\n<li><a href=\"https://github.com/nteract/papermill/issues/537\">(#537)</a>: <em>black.InvalidInput: Cannot parse error when reading in numpy variables</em> by <strong><a href=\"https://github.com/sarahallen111\">@sarahallen111</a></strong></li>\n<li><a href=\"https://github.com/nteract/papermill/issues/532\">(#532)</a>: <em>Is it possible to surface an error on an already executed notebook?</em> by <strong><a href=\"https://github.com/thvasilo\">@thvasilo</a></strong></li>\n<li><a href=\"https://github.com/nteract/papermill/issues/529\">(#529)</a>: <em>Conda PyPy Build Issue</em> by <strong><a href=\"https://github.com/MSeal\">@MSeal</a></strong></li>\n</ul>"
      }
     },
     "52f44a8a0cf846ffb80fa0db3870a40b": {
      "model_module": "@jupyter-widgets/base",
      "model_module_version": "1.2.0",
      "model_name": "LayoutModel",
      "state": {
       "_model_module": "@jupyter-widgets/base",
       "_model_module_version": "1.2.0",
       "_model_name": "LayoutModel",
       "_view_count": null,
       "_view_module": "@jupyter-widgets/base",
       "_view_module_version": "1.2.0",
       "_view_name": "LayoutView",
       "align_content": null,
       "align_items": null,
       "align_self": null,
       "border": null,
       "bottom": null,
       "display": null,
       "flex": null,
       "flex_flow": null,
       "grid_area": null,
       "grid_auto_columns": null,
       "grid_auto_flow": null,
       "grid_auto_rows": null,
       "grid_column": null,
       "grid_gap": null,
       "grid_row": null,
       "grid_template_areas": null,
       "grid_template_columns": null,
       "grid_template_rows": null,
       "height": null,
       "justify_content": null,
       "justify_items": null,
       "left": null,
       "margin": null,
       "max_height": null,
       "max_width": null,
       "min_height": null,
       "min_width": null,
       "object_fit": null,
       "object_position": null,
       "order": null,
       "overflow": null,
       "overflow_x": null,
       "overflow_y": null,
       "padding": null,
       "right": null,
       "top": null,
       "visibility": null,
       "width": null
      }
     },
     "54f4813e83294415bb7376c7eb967364": {
      "model_module": "@jupyter-widgets/controls",
      "model_module_version": "1.5.0",
      "model_name": "IntProgressModel",
      "state": {
       "_dom_classes": [],
       "_model_module": "@jupyter-widgets/controls",
       "_model_module_version": "1.5.0",
       "_model_name": "IntProgressModel",
       "_view_count": null,
       "_view_module": "@jupyter-widgets/controls",
       "_view_module_version": "1.5.0",
       "_view_name": "ProgressView",
       "bar_style": "success",
       "description": "Downloading:",
       "description_tooltip": null,
       "layout": "IPY_MODEL_55a091bfda7d4ed69311835725e2fca0",
       "max": 4,
       "min": 0,
       "orientation": "horizontal",
       "style": "IPY_MODEL_f1c6ffcf3c834def976928039feceb57",
       "value": 4
      }
     },
     "55a091bfda7d4ed69311835725e2fca0": {
      "model_module": "@jupyter-widgets/base",
      "model_module_version": "1.2.0",
      "model_name": "LayoutModel",
      "state": {
       "_model_module": "@jupyter-widgets/base",
       "_model_module_version": "1.2.0",
       "_model_name": "LayoutModel",
       "_view_count": null,
       "_view_module": "@jupyter-widgets/base",
       "_view_module_version": "1.2.0",
       "_view_name": "LayoutView",
       "align_content": null,
       "align_items": null,
       "align_self": null,
       "border": null,
       "bottom": null,
       "display": null,
       "flex": null,
       "flex_flow": null,
       "grid_area": null,
       "grid_auto_columns": null,
       "grid_auto_flow": null,
       "grid_auto_rows": null,
       "grid_column": null,
       "grid_gap": null,
       "grid_row": null,
       "grid_template_areas": null,
       "grid_template_columns": null,
       "grid_template_rows": null,
       "height": null,
       "justify_content": null,
       "justify_items": null,
       "left": null,
       "margin": null,
       "max_height": null,
       "max_width": null,
       "min_height": null,
       "min_width": null,
       "object_fit": null,
       "object_position": null,
       "order": null,
       "overflow": null,
       "overflow_x": null,
       "overflow_y": null,
       "padding": null,
       "right": null,
       "top": null,
       "visibility": null,
       "width": null
      }
     },
     "5a70971fb5714b2b83b06f93ad590685": {
      "model_module": "@jupyter-widgets/controls",
      "model_module_version": "1.5.0",
      "model_name": "DescriptionStyleModel",
      "state": {
       "_model_module": "@jupyter-widgets/controls",
       "_model_module_version": "1.5.0",
       "_model_name": "DescriptionStyleModel",
       "_view_count": null,
       "_view_module": "@jupyter-widgets/base",
       "_view_module_version": "1.2.0",
       "_view_name": "StyleView",
       "description_width": ""
      }
     },
     "5c03402b8d094e9ca22ca5f6fa5e8b14": {
      "model_module": "@jupyter-widgets/controls",
      "model_module_version": "1.5.0",
      "model_name": "HTMLModel",
      "state": {
       "_dom_classes": [],
       "_model_module": "@jupyter-widgets/controls",
       "_model_module_version": "1.5.0",
       "_model_name": "HTMLModel",
       "_view_count": null,
       "_view_module": "@jupyter-widgets/controls",
       "_view_module_version": "1.5.0",
       "_view_name": "HTMLView",
       "description": "",
       "description_tooltip": null,
       "layout": "IPY_MODEL_6faa6c56cfff41229aa7b55fb877b7ae",
       "placeholder": "​",
       "style": "IPY_MODEL_46103d0ecdbd40469904942024858e1f",
       "value": "<h5><a href=\"https://github.com/nteract/ansi-to-react\">nteract/ansi-to-react</a></h5>"
      }
     },
     "5ca69d50d6724d2ba827669f18a43cf6": {
      "model_module": "@jupyter-widgets/controls",
      "model_module_version": "1.5.0",
      "model_name": "DescriptionStyleModel",
      "state": {
       "_model_module": "@jupyter-widgets/controls",
       "_model_module_version": "1.5.0",
       "_model_name": "DescriptionStyleModel",
       "_view_count": null,
       "_view_module": "@jupyter-widgets/base",
       "_view_module_version": "1.2.0",
       "_view_name": "StyleView",
       "description_width": ""
      }
     },
     "5d0187bd519b4829acdc80a2f437921e": {
      "model_module": "@jupyter-widgets/base",
      "model_module_version": "1.2.0",
      "model_name": "LayoutModel",
      "state": {
       "_model_module": "@jupyter-widgets/base",
       "_model_module_version": "1.2.0",
       "_model_name": "LayoutModel",
       "_view_count": null,
       "_view_module": "@jupyter-widgets/base",
       "_view_module_version": "1.2.0",
       "_view_name": "LayoutView",
       "align_content": null,
       "align_items": null,
       "align_self": null,
       "border": null,
       "bottom": null,
       "display": null,
       "flex": null,
       "flex_flow": null,
       "grid_area": null,
       "grid_auto_columns": null,
       "grid_auto_flow": null,
       "grid_auto_rows": null,
       "grid_column": null,
       "grid_gap": null,
       "grid_row": null,
       "grid_template_areas": null,
       "grid_template_columns": null,
       "grid_template_rows": null,
       "height": null,
       "justify_content": null,
       "justify_items": null,
       "left": null,
       "margin": null,
       "max_height": null,
       "max_width": null,
       "min_height": null,
       "min_width": null,
       "object_fit": null,
       "object_position": null,
       "order": null,
       "overflow": null,
       "overflow_x": null,
       "overflow_y": null,
       "padding": null,
       "right": null,
       "top": null,
       "visibility": null,
       "width": null
      }
     },
     "5da57269259b4725b9042e3b998c5c46": {
      "model_module": "@jupyter-widgets/base",
      "model_module_version": "1.2.0",
      "model_name": "LayoutModel",
      "state": {
       "_model_module": "@jupyter-widgets/base",
       "_model_module_version": "1.2.0",
       "_model_name": "LayoutModel",
       "_view_count": null,
       "_view_module": "@jupyter-widgets/base",
       "_view_module_version": "1.2.0",
       "_view_name": "LayoutView",
       "align_content": null,
       "align_items": null,
       "align_self": null,
       "border": null,
       "bottom": null,
       "display": null,
       "flex": null,
       "flex_flow": null,
       "grid_area": null,
       "grid_auto_columns": null,
       "grid_auto_flow": null,
       "grid_auto_rows": null,
       "grid_column": null,
       "grid_gap": null,
       "grid_row": null,
       "grid_template_areas": null,
       "grid_template_columns": null,
       "grid_template_rows": null,
       "height": null,
       "justify_content": null,
       "justify_items": null,
       "left": null,
       "margin": null,
       "max_height": null,
       "max_width": null,
       "min_height": null,
       "min_width": null,
       "object_fit": null,
       "object_position": null,
       "order": null,
       "overflow": null,
       "overflow_x": null,
       "overflow_y": null,
       "padding": null,
       "right": null,
       "top": null,
       "visibility": null,
       "width": null
      }
     },
     "5ecce20d82f14ffa9b39e59f346b10cc": {
      "model_module": "@jupyter-widgets/base",
      "model_module_version": "1.2.0",
      "model_name": "LayoutModel",
      "state": {
       "_model_module": "@jupyter-widgets/base",
       "_model_module_version": "1.2.0",
       "_model_name": "LayoutModel",
       "_view_count": null,
       "_view_module": "@jupyter-widgets/base",
       "_view_module_version": "1.2.0",
       "_view_name": "LayoutView",
       "align_content": null,
       "align_items": null,
       "align_self": null,
       "border": null,
       "bottom": null,
       "display": null,
       "flex": null,
       "flex_flow": null,
       "grid_area": null,
       "grid_auto_columns": null,
       "grid_auto_flow": null,
       "grid_auto_rows": null,
       "grid_column": null,
       "grid_gap": null,
       "grid_row": null,
       "grid_template_areas": null,
       "grid_template_columns": null,
       "grid_template_rows": null,
       "height": null,
       "justify_content": null,
       "justify_items": null,
       "left": null,
       "margin": null,
       "max_height": null,
       "max_width": null,
       "min_height": null,
       "min_width": null,
       "object_fit": null,
       "object_position": null,
       "order": null,
       "overflow": null,
       "overflow_x": null,
       "overflow_y": null,
       "padding": null,
       "right": null,
       "top": null,
       "visibility": null,
       "width": null
      }
     },
     "6b7ebae82ba84da79efafc163bc6c623": {
      "model_module": "@jupyter-widgets/controls",
      "model_module_version": "1.5.0",
      "model_name": "HTMLModel",
      "state": {
       "_dom_classes": [],
       "_model_module": "@jupyter-widgets/controls",
       "_model_module_version": "1.5.0",
       "_model_name": "HTMLModel",
       "_view_count": null,
       "_view_module": "@jupyter-widgets/controls",
       "_view_module_version": "1.5.0",
       "_view_name": "HTMLView",
       "description": "",
       "description_tooltip": null,
       "layout": "IPY_MODEL_f144cf4b08774c7e9058fb9d29ddb4ee",
       "placeholder": "​",
       "style": "IPY_MODEL_a049e4b3d71e4f54aef0ac1570044d00",
       "value": "<h5><a href=\"https://github.com/nteract/meeting-minutes\">nteract/meeting-minutes</a></h5>\n<ul>\n<li><a href=\"https://github.com/nteract/meeting-minutes/issues/35\">(#35)</a>: <em>NIT: Set main as the default branch, instead of master.</em> by <strong><a href=\"https://github.com/ramantehlan\">@ramantehlan</a></strong></li>\n</ul>"
      }
     },
     "6d195c959dac4cd3bbf68d1e173bc6e7": {
      "model_module": "@jupyter-widgets/controls",
      "model_module_version": "1.5.0",
      "model_name": "DescriptionStyleModel",
      "state": {
       "_model_module": "@jupyter-widgets/controls",
       "_model_module_version": "1.5.0",
       "_model_name": "DescriptionStyleModel",
       "_view_count": null,
       "_view_module": "@jupyter-widgets/base",
       "_view_module_version": "1.2.0",
       "_view_name": "StyleView",
       "description_width": ""
      }
     },
     "6faa6c56cfff41229aa7b55fb877b7ae": {
      "model_module": "@jupyter-widgets/base",
      "model_module_version": "1.2.0",
      "model_name": "LayoutModel",
      "state": {
       "_model_module": "@jupyter-widgets/base",
       "_model_module_version": "1.2.0",
       "_model_name": "LayoutModel",
       "_view_count": null,
       "_view_module": "@jupyter-widgets/base",
       "_view_module_version": "1.2.0",
       "_view_name": "LayoutView",
       "align_content": null,
       "align_items": null,
       "align_self": null,
       "border": null,
       "bottom": null,
       "display": null,
       "flex": null,
       "flex_flow": null,
       "grid_area": null,
       "grid_auto_columns": null,
       "grid_auto_flow": null,
       "grid_auto_rows": null,
       "grid_column": null,
       "grid_gap": null,
       "grid_row": null,
       "grid_template_areas": null,
       "grid_template_columns": null,
       "grid_template_rows": null,
       "height": null,
       "justify_content": null,
       "justify_items": null,
       "left": null,
       "margin": null,
       "max_height": null,
       "max_width": null,
       "min_height": null,
       "min_width": null,
       "object_fit": null,
       "object_position": null,
       "order": null,
       "overflow": null,
       "overflow_x": null,
       "overflow_y": null,
       "padding": null,
       "right": null,
       "top": null,
       "visibility": null,
       "width": null
      }
     },
     "6fb7e30e206c4ae39d6f708c4a96c3a1": {
      "model_module": "@jupyter-widgets/base",
      "model_module_version": "1.2.0",
      "model_name": "LayoutModel",
      "state": {
       "_model_module": "@jupyter-widgets/base",
       "_model_module_version": "1.2.0",
       "_model_name": "LayoutModel",
       "_view_count": null,
       "_view_module": "@jupyter-widgets/base",
       "_view_module_version": "1.2.0",
       "_view_name": "LayoutView",
       "align_content": null,
       "align_items": null,
       "align_self": null,
       "border": null,
       "bottom": null,
       "display": null,
       "flex": null,
       "flex_flow": null,
       "grid_area": null,
       "grid_auto_columns": null,
       "grid_auto_flow": null,
       "grid_auto_rows": null,
       "grid_column": null,
       "grid_gap": null,
       "grid_row": null,
       "grid_template_areas": null,
       "grid_template_columns": null,
       "grid_template_rows": null,
       "height": null,
       "justify_content": null,
       "justify_items": null,
       "left": null,
       "margin": null,
       "max_height": null,
       "max_width": null,
       "min_height": null,
       "min_width": null,
       "object_fit": null,
       "object_position": null,
       "order": null,
       "overflow": null,
       "overflow_x": null,
       "overflow_y": null,
       "padding": null,
       "right": null,
       "top": null,
       "visibility": null,
       "width": null
      }
     },
     "6fcd8c721a1b42d0af72cc8c6cdfa788": {
      "model_module": "@jupyter-widgets/controls",
      "model_module_version": "1.5.0",
      "model_name": "DescriptionStyleModel",
      "state": {
       "_model_module": "@jupyter-widgets/controls",
       "_model_module_version": "1.5.0",
       "_model_name": "DescriptionStyleModel",
       "_view_count": null,
       "_view_module": "@jupyter-widgets/base",
       "_view_module_version": "1.2.0",
       "_view_name": "StyleView",
       "description_width": ""
      }
     },
     "702f4bfb08264191ba7226aa2d866010": {
      "model_module": "@jupyter-widgets/controls",
      "model_module_version": "1.5.0",
      "model_name": "DescriptionStyleModel",
      "state": {
       "_model_module": "@jupyter-widgets/controls",
       "_model_module_version": "1.5.0",
       "_model_name": "DescriptionStyleModel",
       "_view_count": null,
       "_view_module": "@jupyter-widgets/base",
       "_view_module_version": "1.2.0",
       "_view_name": "StyleView",
       "description_width": ""
      }
     },
     "70b54f2aa0bc40a685f38fc59a6c69f2": {
      "model_module": "@jupyter-widgets/base",
      "model_module_version": "1.2.0",
      "model_name": "LayoutModel",
      "state": {
       "_model_module": "@jupyter-widgets/base",
       "_model_module_version": "1.2.0",
       "_model_name": "LayoutModel",
       "_view_count": null,
       "_view_module": "@jupyter-widgets/base",
       "_view_module_version": "1.2.0",
       "_view_name": "LayoutView",
       "align_content": null,
       "align_items": null,
       "align_self": null,
       "border": null,
       "bottom": null,
       "display": null,
       "flex": null,
       "flex_flow": null,
       "grid_area": null,
       "grid_auto_columns": null,
       "grid_auto_flow": null,
       "grid_auto_rows": null,
       "grid_column": null,
       "grid_gap": null,
       "grid_row": null,
       "grid_template_areas": null,
       "grid_template_columns": null,
       "grid_template_rows": null,
       "height": null,
       "justify_content": null,
       "justify_items": null,
       "left": null,
       "margin": null,
       "max_height": null,
       "max_width": null,
       "min_height": null,
       "min_width": null,
       "object_fit": null,
       "object_position": null,
       "order": null,
       "overflow": null,
       "overflow_x": null,
       "overflow_y": null,
       "padding": null,
       "right": null,
       "top": null,
       "visibility": null,
       "width": null
      }
     },
     "80630443ab9f46d286686e09e855e78b": {
      "model_module": "@jupyter-widgets/controls",
      "model_module_version": "1.5.0",
      "model_name": "HTMLModel",
      "state": {
       "_dom_classes": [],
       "_model_module": "@jupyter-widgets/controls",
       "_model_module_version": "1.5.0",
       "_model_name": "HTMLModel",
       "_view_count": null,
       "_view_module": "@jupyter-widgets/controls",
       "_view_module_version": "1.5.0",
       "_view_name": "HTMLView",
       "description": "",
       "description_tooltip": null,
       "layout": "IPY_MODEL_5da57269259b4725b9042e3b998c5c46",
       "placeholder": "​",
       "style": "IPY_MODEL_5a70971fb5714b2b83b06f93ad590685",
       "value": "<h4>Closed PRs for repo: <a href=\"https://github.com/nteract/testbook\">nteract/testbook</a></h4>\n<h5></h5>\n<ul>\n<li><a href=\"https://github.com/nteract/testbook/pull/65\">(#65)</a>: <em>Added kernel kwarg</em> by <strong><a href=\"https://github.com/rohitsanj\">@rohitsanj</a></strong> merged by <strong><a href=\"https://github.com/MSeal\">@MSeal</a></strong></li>\n<li><a href=\"https://github.com/nteract/testbook/pull/64\">(#64)</a>: <em>Added examples section to documentation</em> by <strong><a href=\"https://github.com/rohitsanj\">@rohitsanj</a></strong> merged by <strong><a href=\"https://github.com/MSeal\">@MSeal</a></strong></li>\n<li><a href=\"https://github.com/nteract/testbook/pull/63\">(#63)</a>: <em>Update docs dependencies</em> by <strong><a href=\"https://github.com/rohitsanj\">@rohitsanj</a></strong> merged by <strong><a href=\"https://github.com/willingc\">@willingc</a></strong></li>\n<li><a href=\"https://github.com/nteract/testbook/pull/62\">(#62)</a>: <em>pin doc dependencies</em> by <strong><a href=\"https://github.com/willingc\">@willingc</a></strong> merged by <strong><a href=\"https://github.com/rohitsanj\">@rohitsanj</a></strong></li>\n<li><a href=\"https://github.com/nteract/testbook/pull/61\">(#61)</a>: <em>accept notebook node as argument</em> by <strong><a href=\"https://github.com/timkpaine\">@timkpaine</a></strong> merged by <strong><a href=\"https://github.com/MSeal\">@MSeal</a></strong></li>\n<li><a href=\"https://github.com/nteract/testbook/pull/57\">(#57)</a>: <em>Updated docs link</em> by <strong><a href=\"https://github.com/rohitsanj\">@rohitsanj</a></strong> merged by <strong><a href=\"https://github.com/MSeal\">@MSeal</a></strong></li>\n<li><a href=\"https://github.com/nteract/testbook/pull/56\">(#56)</a>: <em>Accept file like object or path as str</em> by <strong><a href=\"https://github.com/rohitsanj\">@rohitsanj</a></strong> merged by <strong><a href=\"https://github.com/rohitsanj\">@rohitsanj</a></strong></li>\n<li><a href=\"https://github.com/nteract/testbook/pull/54\">(#54)</a>: <em>Handle <code>allow_errors</code> kwarg</em> by <strong><a href=\"https://github.com/rohitsanj\">@rohitsanj</a></strong> merged by <strong><a href=\"https://github.com/rohitsanj\">@rohitsanj</a></strong></li>\n<li><a href=\"https://github.com/nteract/testbook/pull/52\">(#52)</a>: <em>New package name</em> by <strong><a href=\"https://github.com/MSeal\">@MSeal</a></strong> merged by <strong><a href=\"https://github.com/MSeal\">@MSeal</a></strong></li>\n<li><a href=\"https://github.com/nteract/testbook/pull/51\">(#51)</a>: <em>Added future warning for old testbook package name</em> by <strong><a href=\"https://github.com/MSeal\">@MSeal</a></strong> merged by <strong><a href=\"https://github.com/MSeal\">@MSeal</a></strong></li>\n<li><a href=\"https://github.com/nteract/testbook/pull/50\">(#50)</a>: <em>Hotfix: Raise error when step argument is passed</em> by <strong><a href=\"https://github.com/rohitsanj\">@rohitsanj</a></strong> merged by <strong><a href=\"https://github.com/MSeal\">@MSeal</a></strong></li>\n<li><a href=\"https://github.com/nteract/testbook/pull/49\">(#49)</a>: <em>Added documentation for patch, patch_dict and execute slice/range</em> by <strong><a href=\"https://github.com/rohitsanj\">@rohitsanj</a></strong> merged by <strong><a href=\"https://github.com/MSeal\">@MSeal</a></strong></li>\n<li><a href=\"https://github.com/nteract/testbook/pull/48\">(#48)</a>: <em>Execute slice/range of cells</em> by <strong><a href=\"https://github.com/rohitsanj\">@rohitsanj</a></strong> merged by <strong><a href=\"https://github.com/rohitsanj\">@rohitsanj</a></strong></li>\n</ul>"
      }
     },
     "80d752c1820644149434612cd569ec4b": {
      "model_module": "@jupyter-widgets/controls",
      "model_module_version": "1.5.0",
      "model_name": "DescriptionStyleModel",
      "state": {
       "_model_module": "@jupyter-widgets/controls",
       "_model_module_version": "1.5.0",
       "_model_name": "DescriptionStyleModel",
       "_view_count": null,
       "_view_module": "@jupyter-widgets/base",
       "_view_module_version": "1.2.0",
       "_view_name": "StyleView",
       "description_width": ""
      }
     },
     "8999591645264d5cab561a04efe1e598": {
      "model_module": "@jupyter-widgets/controls",
      "model_module_version": "1.5.0",
      "model_name": "DescriptionStyleModel",
      "state": {
       "_model_module": "@jupyter-widgets/controls",
       "_model_module_version": "1.5.0",
       "_model_name": "DescriptionStyleModel",
       "_view_count": null,
       "_view_module": "@jupyter-widgets/base",
       "_view_module_version": "1.2.0",
       "_view_name": "StyleView",
       "description_width": ""
      }
     },
     "89aaa7af640b46c1a930f2ed8655e978": {
      "model_module": "@jupyter-widgets/base",
      "model_module_version": "1.2.0",
      "model_name": "LayoutModel",
      "state": {
       "_model_module": "@jupyter-widgets/base",
       "_model_module_version": "1.2.0",
       "_model_name": "LayoutModel",
       "_view_count": null,
       "_view_module": "@jupyter-widgets/base",
       "_view_module_version": "1.2.0",
       "_view_name": "LayoutView",
       "align_content": null,
       "align_items": null,
       "align_self": null,
       "border": null,
       "bottom": null,
       "display": null,
       "flex": null,
       "flex_flow": null,
       "grid_area": null,
       "grid_auto_columns": null,
       "grid_auto_flow": null,
       "grid_auto_rows": null,
       "grid_column": null,
       "grid_gap": null,
       "grid_row": null,
       "grid_template_areas": null,
       "grid_template_columns": null,
       "grid_template_rows": null,
       "height": null,
       "justify_content": null,
       "justify_items": null,
       "left": null,
       "margin": null,
       "max_height": null,
       "max_width": null,
       "min_height": null,
       "min_width": null,
       "object_fit": null,
       "object_position": null,
       "order": null,
       "overflow": null,
       "overflow_x": null,
       "overflow_y": null,
       "padding": null,
       "right": null,
       "top": null,
       "visibility": null,
       "width": null
      }
     },
     "8aba42f3b1d14448990f769d1fad34d5": {
      "model_module": "@jupyter-widgets/base",
      "model_module_version": "1.2.0",
      "model_name": "LayoutModel",
      "state": {
       "_model_module": "@jupyter-widgets/base",
       "_model_module_version": "1.2.0",
       "_model_name": "LayoutModel",
       "_view_count": null,
       "_view_module": "@jupyter-widgets/base",
       "_view_module_version": "1.2.0",
       "_view_name": "LayoutView",
       "align_content": null,
       "align_items": null,
       "align_self": null,
       "border": null,
       "bottom": null,
       "display": null,
       "flex": null,
       "flex_flow": null,
       "grid_area": null,
       "grid_auto_columns": null,
       "grid_auto_flow": null,
       "grid_auto_rows": null,
       "grid_column": null,
       "grid_gap": null,
       "grid_row": null,
       "grid_template_areas": null,
       "grid_template_columns": null,
       "grid_template_rows": null,
       "height": null,
       "justify_content": null,
       "justify_items": null,
       "left": null,
       "margin": null,
       "max_height": null,
       "max_width": null,
       "min_height": null,
       "min_width": null,
       "object_fit": null,
       "object_position": null,
       "order": null,
       "overflow": null,
       "overflow_x": null,
       "overflow_y": null,
       "padding": null,
       "right": null,
       "top": null,
       "visibility": null,
       "width": null
      }
     },
     "8e94a3583c374b72bdfd1dd5ca352025": {
      "model_module": "@jupyter-widgets/controls",
      "model_module_version": "1.5.0",
      "model_name": "DescriptionStyleModel",
      "state": {
       "_model_module": "@jupyter-widgets/controls",
       "_model_module_version": "1.5.0",
       "_model_name": "DescriptionStyleModel",
       "_view_count": null,
       "_view_module": "@jupyter-widgets/base",
       "_view_module_version": "1.2.0",
       "_view_name": "StyleView",
       "description_width": ""
      }
     },
     "905560d530fb46f4a5ce850c266d1746": {
      "model_module": "@jupyter-widgets/controls",
      "model_module_version": "1.5.0",
      "model_name": "DescriptionStyleModel",
      "state": {
       "_model_module": "@jupyter-widgets/controls",
       "_model_module_version": "1.5.0",
       "_model_name": "DescriptionStyleModel",
       "_view_count": null,
       "_view_module": "@jupyter-widgets/base",
       "_view_module_version": "1.2.0",
       "_view_name": "StyleView",
       "description_width": ""
      }
     },
     "94bfa0c1a8b344b09264e7b6551c5ded": {
      "model_module": "@jupyter-widgets/base",
      "model_module_version": "1.2.0",
      "model_name": "LayoutModel",
      "state": {
       "_model_module": "@jupyter-widgets/base",
       "_model_module_version": "1.2.0",
       "_model_name": "LayoutModel",
       "_view_count": null,
       "_view_module": "@jupyter-widgets/base",
       "_view_module_version": "1.2.0",
       "_view_name": "LayoutView",
       "align_content": null,
       "align_items": null,
       "align_self": null,
       "border": null,
       "bottom": null,
       "display": null,
       "flex": null,
       "flex_flow": null,
       "grid_area": null,
       "grid_auto_columns": null,
       "grid_auto_flow": null,
       "grid_auto_rows": null,
       "grid_column": null,
       "grid_gap": null,
       "grid_row": null,
       "grid_template_areas": null,
       "grid_template_columns": null,
       "grid_template_rows": null,
       "height": null,
       "justify_content": null,
       "justify_items": null,
       "left": null,
       "margin": null,
       "max_height": null,
       "max_width": null,
       "min_height": null,
       "min_width": null,
       "object_fit": null,
       "object_position": null,
       "order": null,
       "overflow": null,
       "overflow_x": null,
       "overflow_y": null,
       "padding": null,
       "right": null,
       "top": null,
       "visibility": null,
       "width": null
      }
     },
     "97296d55bdef47259b922df6c24119c2": {
      "model_module": "@jupyter-widgets/controls",
      "model_module_version": "1.5.0",
      "model_name": "HTMLModel",
      "state": {
       "_dom_classes": [],
       "_model_module": "@jupyter-widgets/controls",
       "_model_module_version": "1.5.0",
       "_model_name": "HTMLModel",
       "_view_count": null,
       "_view_module": "@jupyter-widgets/controls",
       "_view_module_version": "1.5.0",
       "_view_name": "HTMLView",
       "description": "",
       "description_tooltip": null,
       "layout": "IPY_MODEL_c415e9de3c4d4299a687c5493b96f09b",
       "placeholder": "​",
       "style": "IPY_MODEL_2fb764818f304c23905eb2d83bc7769a",
       "value": "<h4>Closed PRs for repo: <a href=\"https://github.com/nteract/nteract\">nteract/nteract</a></h4>\n<h5></h5>\n<ul>\n<li><a href=\"https://github.com/nteract/nteract/pull/5306\">(#5306)</a>: <em>09/28/2020 nteract Release</em> by <strong><a href=\"https://github.com/captainsafia\">@captainsafia</a></strong> merged by <strong><a href=\"https://github.com/captainsafia\">@captainsafia</a></strong></li>\n<li><a href=\"https://github.com/nteract/nteract/pull/5304\">(#5304)</a>: <em>Add alt attributes to badges</em> by <strong><a href=\"https://github.com/KonradLinkowski\">@KonradLinkowski</a></strong> merged by <strong><a href=\"https://github.com/ramantehlan\">@ramantehlan</a></strong></li>\n<li><a href=\"https://github.com/nteract/nteract/pull/5303\">(#5303)</a>: <em>Improve resizing performance for Monaco Editor component by replacing extra layout calls with CSS</em> by <strong><a href=\"https://github.com/vivek1729\">@vivek1729</a></strong> merged by <strong><a href=\"https://github.com/vivek1729\">@vivek1729</a></strong></li>\n<li><a href=\"https://github.com/nteract/nteract/pull/5301\">(#5301)</a>: <em>Bugfix for Monaco editor parameter widget not closing</em> by <strong><a href=\"https://github.com/pwang347\">@pwang347</a></strong> merged by <strong><a href=\"https://github.com/captainsafia\">@captainsafia</a></strong></li>\n<li><a href=\"https://github.com/nteract/nteract/pull/5282\">(#5282)</a>: <em>Create codeql-analysis.yml</em> by <strong><a href=\"https://github.com/willingc\">@willingc</a></strong> merged by <strong><a href=\"https://github.com/captainsafia\">@captainsafia</a></strong></li>\n<li><a href=\"https://github.com/nteract/nteract/pull/5281\">(#5281)</a>: <em>August 2020 Release</em> by <strong><a href=\"https://github.com/captainsafia\">@captainsafia</a></strong> merged by <strong><a href=\"https://github.com/captainsafia\">@captainsafia</a></strong></li>\n<li><a href=\"https://github.com/nteract/nteract/pull/5267\">(#5267)</a>: <em>Add Monaco Editor component and integrate with Nteract apps</em> by <strong><a href=\"https://github.com/vivek1729\">@vivek1729</a></strong> merged by <strong><a href=\"https://github.com/captainsafia\">@captainsafia</a></strong></li>\n<li><a href=\"https://github.com/nteract/nteract/pull/5261\">(#5261)</a>: <em>[nteract/web] Clean Code | Fix Formatting</em> by <strong><a href=\"https://github.com/ramantehlan\">@ramantehlan</a></strong> merged by <strong><a href=\"https://github.com/ramantehlan\">@ramantehlan</a></strong></li>\n<li><a href=\"https://github.com/nteract/nteract/pull/5257\">(#5257)</a>: <em>[nteract/web] Add notebook component and wrap up for beta and GSoC.</em> by <strong><a href=\"https://github.com/ramantehlan\">@ramantehlan</a></strong> merged by <strong><a href=\"https://github.com/captainsafia\">@captainsafia</a></strong></li>\n<li><a href=\"https://github.com/nteract/nteract/pull/5252\">(#5252)</a>: <em>Fix the logic getting the default kernel</em> by <strong><a href=\"https://github.com/CrystallineCat\">@CrystallineCat</a></strong> merged by <strong><a href=\"https://github.com/CrystallineCat\">@CrystallineCat</a></strong></li>\n<li><a href=\"https://github.com/nteract/nteract/pull/5251\">(#5251)</a>: <em>[nteract/web] Replace routes with query</em> by <strong><a href=\"https://github.com/ramantehlan\">@ramantehlan</a></strong> merged by <strong><a href=\"https://github.com/ramantehlan\">@ramantehlan</a></strong></li>\n<li><a href=\"https://github.com/nteract/nteract/pull/5249\">(#5249)</a>: <em>[nteract/web] Add language detection for editor and move functions out of main file.</em> by <strong><a href=\"https://github.com/ramantehlan\">@ramantehlan</a></strong> merged by <strong><a href=\"https://github.com/ramantehlan\">@ramantehlan</a></strong></li>\n<li><a href=\"https://github.com/nteract/nteract/pull/5246\">(#5246)</a>: <em>[nteract/web] Add project details in main and landing page</em> by <strong><a href=\"https://github.com/ramantehlan\">@ramantehlan</a></strong> merged by <strong><a href=\"https://github.com/ramantehlan\">@ramantehlan</a></strong></li>\n</ul>"
      }
     },
     "9884d5435df540b8918915aad43483a8": {
      "model_module": "@jupyter-widgets/base",
      "model_module_version": "1.2.0",
      "model_name": "LayoutModel",
      "state": {
       "_model_module": "@jupyter-widgets/base",
       "_model_module_version": "1.2.0",
       "_model_name": "LayoutModel",
       "_view_count": null,
       "_view_module": "@jupyter-widgets/base",
       "_view_module_version": "1.2.0",
       "_view_name": "LayoutView",
       "align_content": null,
       "align_items": null,
       "align_self": null,
       "border": null,
       "bottom": null,
       "display": null,
       "flex": null,
       "flex_flow": null,
       "grid_area": null,
       "grid_auto_columns": null,
       "grid_auto_flow": null,
       "grid_auto_rows": null,
       "grid_column": null,
       "grid_gap": null,
       "grid_row": null,
       "grid_template_areas": null,
       "grid_template_columns": null,
       "grid_template_rows": null,
       "height": null,
       "justify_content": null,
       "justify_items": null,
       "left": null,
       "margin": null,
       "max_height": null,
       "max_width": null,
       "min_height": null,
       "min_width": null,
       "object_fit": null,
       "object_position": null,
       "order": null,
       "overflow": null,
       "overflow_x": null,
       "overflow_y": null,
       "padding": null,
       "right": null,
       "top": null,
       "visibility": null,
       "width": null
      }
     },
     "9a09481d44d64de3bd16c4dcd7fa21bb": {
      "model_module": "@jupyter-widgets/controls",
      "model_module_version": "1.5.0",
      "model_name": "HTMLModel",
      "state": {
       "_dom_classes": [],
       "_model_module": "@jupyter-widgets/controls",
       "_model_module_version": "1.5.0",
       "_model_name": "HTMLModel",
       "_view_count": null,
       "_view_module": "@jupyter-widgets/controls",
       "_view_module_version": "1.5.0",
       "_view_name": "HTMLView",
       "description": "",
       "description_tooltip": null,
       "layout": "IPY_MODEL_f62f9b665867437cb0b3ea242e2e9d2c",
       "placeholder": "​",
       "style": "IPY_MODEL_12976bd9460243928ad0b127933cd2cf",
       "value": "<h4>Closed PRs for repo: <a href=\"https://github.com/nteract/meeting-minutes\">nteract/meeting-minutes</a></h4>\n<h5></h5>\n<ul>\n<li><a href=\"https://github.com/nteract/meeting-minutes/pull/40\">(#40)</a>: <em>Add 09-29 minutes</em> by <strong><a href=\"https://github.com/isabela-pf\">@isabela-pf</a></strong> merged by <strong><a href=\"https://github.com/captainsafia\">@captainsafia</a></strong></li>\n<li><a href=\"https://github.com/nteract/meeting-minutes/pull/39\">(#39)</a>: <em>09-22 Meeting Minutes</em> by <strong><a href=\"https://github.com/isabela-pf\">@isabela-pf</a></strong> merged by <strong><a href=\"https://github.com/captainsafia\">@captainsafia</a></strong></li>\n<li><a href=\"https://github.com/nteract/meeting-minutes/pull/38\">(#38)</a>: <em>Add September 1st meeting minutes</em> by <strong><a href=\"https://github.com/isabela-pf\">@isabela-pf</a></strong> merged by <strong><a href=\"https://github.com/captainsafia\">@captainsafia</a></strong></li>\n<li><a href=\"https://github.com/nteract/meeting-minutes/pull/37\">(#37)</a>: <em>Add August 25th minutes</em> by <strong><a href=\"https://github.com/willingc\">@willingc</a></strong> merged by <strong><a href=\"https://github.com/MSeal\">@MSeal</a></strong></li>\n<li><a href=\"https://github.com/nteract/meeting-minutes/pull/36\">(#36)</a>: <em>[08-11-2020] Meeting of minute s for August 11th, 2020</em> by <strong><a href=\"https://github.com/ramantehlan\">@ramantehlan</a></strong> merged by <strong><a href=\"https://github.com/captainsafia\">@captainsafia</a></strong></li>\n</ul>"
      }
     },
     "9d0393161f0148b18d2ff172469ef13a": {
      "model_module": "@jupyter-widgets/base",
      "model_module_version": "1.2.0",
      "model_name": "LayoutModel",
      "state": {
       "_model_module": "@jupyter-widgets/base",
       "_model_module_version": "1.2.0",
       "_model_name": "LayoutModel",
       "_view_count": null,
       "_view_module": "@jupyter-widgets/base",
       "_view_module_version": "1.2.0",
       "_view_name": "LayoutView",
       "align_content": null,
       "align_items": null,
       "align_self": null,
       "border": null,
       "bottom": null,
       "display": null,
       "flex": null,
       "flex_flow": null,
       "grid_area": null,
       "grid_auto_columns": null,
       "grid_auto_flow": null,
       "grid_auto_rows": null,
       "grid_column": null,
       "grid_gap": null,
       "grid_row": null,
       "grid_template_areas": null,
       "grid_template_columns": null,
       "grid_template_rows": null,
       "height": null,
       "justify_content": null,
       "justify_items": null,
       "left": null,
       "margin": null,
       "max_height": null,
       "max_width": null,
       "min_height": null,
       "min_width": null,
       "object_fit": null,
       "object_position": null,
       "order": null,
       "overflow": null,
       "overflow_x": null,
       "overflow_y": null,
       "padding": null,
       "right": null,
       "top": null,
       "visibility": null,
       "width": null
      }
     },
     "9d697b5178274b83a5e86f02868db5ac": {
      "model_module": "@jupyter-widgets/base",
      "model_module_version": "1.2.0",
      "model_name": "LayoutModel",
      "state": {
       "_model_module": "@jupyter-widgets/base",
       "_model_module_version": "1.2.0",
       "_model_name": "LayoutModel",
       "_view_count": null,
       "_view_module": "@jupyter-widgets/base",
       "_view_module_version": "1.2.0",
       "_view_name": "LayoutView",
       "align_content": null,
       "align_items": null,
       "align_self": null,
       "border": null,
       "bottom": null,
       "display": null,
       "flex": null,
       "flex_flow": null,
       "grid_area": null,
       "grid_auto_columns": null,
       "grid_auto_flow": null,
       "grid_auto_rows": null,
       "grid_column": null,
       "grid_gap": null,
       "grid_row": null,
       "grid_template_areas": null,
       "grid_template_columns": null,
       "grid_template_rows": null,
       "height": null,
       "justify_content": null,
       "justify_items": null,
       "left": null,
       "margin": null,
       "max_height": null,
       "max_width": null,
       "min_height": null,
       "min_width": null,
       "object_fit": null,
       "object_position": null,
       "order": null,
       "overflow": null,
       "overflow_x": null,
       "overflow_y": null,
       "padding": null,
       "right": null,
       "top": null,
       "visibility": null,
       "width": null
      }
     },
     "9dd0366b79ca4c92b1f442175fd43a3d": {
      "model_module": "@jupyter-widgets/base",
      "model_module_version": "1.2.0",
      "model_name": "LayoutModel",
      "state": {
       "_model_module": "@jupyter-widgets/base",
       "_model_module_version": "1.2.0",
       "_model_name": "LayoutModel",
       "_view_count": null,
       "_view_module": "@jupyter-widgets/base",
       "_view_module_version": "1.2.0",
       "_view_name": "LayoutView",
       "align_content": null,
       "align_items": null,
       "align_self": null,
       "border": null,
       "bottom": null,
       "display": null,
       "flex": null,
       "flex_flow": null,
       "grid_area": null,
       "grid_auto_columns": null,
       "grid_auto_flow": null,
       "grid_auto_rows": null,
       "grid_column": null,
       "grid_gap": null,
       "grid_row": null,
       "grid_template_areas": null,
       "grid_template_columns": null,
       "grid_template_rows": null,
       "height": null,
       "justify_content": null,
       "justify_items": null,
       "left": null,
       "margin": null,
       "max_height": null,
       "max_width": null,
       "min_height": null,
       "min_width": null,
       "object_fit": null,
       "object_position": null,
       "order": null,
       "overflow": null,
       "overflow_x": null,
       "overflow_y": null,
       "padding": null,
       "right": null,
       "top": null,
       "visibility": null,
       "width": null
      }
     },
     "9eae8806a0de464b84b7e93ae212e29b": {
      "model_module": "@jupyter-widgets/controls",
      "model_module_version": "1.5.0",
      "model_name": "DescriptionStyleModel",
      "state": {
       "_model_module": "@jupyter-widgets/controls",
       "_model_module_version": "1.5.0",
       "_model_name": "DescriptionStyleModel",
       "_view_count": null,
       "_view_module": "@jupyter-widgets/base",
       "_view_module_version": "1.2.0",
       "_view_name": "StyleView",
       "description_width": ""
      }
     },
     "a049e4b3d71e4f54aef0ac1570044d00": {
      "model_module": "@jupyter-widgets/controls",
      "model_module_version": "1.5.0",
      "model_name": "DescriptionStyleModel",
      "state": {
       "_model_module": "@jupyter-widgets/controls",
       "_model_module_version": "1.5.0",
       "_model_name": "DescriptionStyleModel",
       "_view_count": null,
       "_view_module": "@jupyter-widgets/base",
       "_view_module_version": "1.2.0",
       "_view_name": "StyleView",
       "description_width": ""
      }
     },
     "a14b45dccd7f488ca65c3b297c109e08": {
      "model_module": "@jupyter-widgets/controls",
      "model_module_version": "1.5.0",
      "model_name": "DescriptionStyleModel",
      "state": {
       "_model_module": "@jupyter-widgets/controls",
       "_model_module_version": "1.5.0",
       "_model_name": "DescriptionStyleModel",
       "_view_count": null,
       "_view_module": "@jupyter-widgets/base",
       "_view_module_version": "1.2.0",
       "_view_name": "StyleView",
       "description_width": ""
      }
     },
     "a3fa5439c8a64400b12d7e2faffd3ec6": {
      "model_module": "@jupyter-widgets/controls",
      "model_module_version": "1.5.0",
      "model_name": "HTMLModel",
      "state": {
       "_dom_classes": [],
       "_model_module": "@jupyter-widgets/controls",
       "_model_module_version": "1.5.0",
       "_model_name": "HTMLModel",
       "_view_count": null,
       "_view_module": "@jupyter-widgets/controls",
       "_view_module_version": "1.5.0",
       "_view_name": "HTMLView",
       "description": "",
       "description_tooltip": null,
       "layout": "IPY_MODEL_bd6635d28e724059aaed8bdd2a35f8b2",
       "placeholder": "​",
       "style": "IPY_MODEL_5ca69d50d6724d2ba827669f18a43cf6",
       "value": "<h4>Closed PRs for repo: <a href=\"https://github.com/nteract/hydrogen\">nteract/hydrogen</a></h4>\n<h5></h5>\n<ul>\n<li><a href=\"https://github.com/nteract/hydrogen/pull/2011\">(#2011)</a>: <em>Remove red padding around output pane.</em> by <strong><a href=\"https://github.com/juliuscrn\">@juliuscrn</a></strong> merged by <strong><a href=\"https://github.com/captainsafia\">@captainsafia</a></strong></li>\n<li><a href=\"https://github.com/nteract/hydrogen/pull/1995\">(#1995)</a>: <em>Fix scroll in output area pane</em> by <strong><a href=\"https://github.com/BenRussert\">@BenRussert</a></strong> merged by <strong><a href=\"https://github.com/aviatesk\">@aviatesk</a></strong></li>\n</ul>"
      }
     },
     "a4268a2cdb6c4800a53cc78aba2fb0d0": {
      "model_module": "@jupyter-widgets/controls",
      "model_module_version": "1.5.0",
      "model_name": "HTMLModel",
      "state": {
       "_dom_classes": [],
       "_model_module": "@jupyter-widgets/controls",
       "_model_module_version": "1.5.0",
       "_model_name": "HTMLModel",
       "_view_count": null,
       "_view_module": "@jupyter-widgets/controls",
       "_view_module_version": "1.5.0",
       "_view_name": "HTMLView",
       "description": "",
       "description_tooltip": null,
       "layout": "IPY_MODEL_c83998511ff94143a2b89cfae5bd4b46",
       "placeholder": "​",
       "style": "IPY_MODEL_348031cb6f204fd1bffc824a43394c66",
       "value": "<h4>Closed PRs for repo: <a href=\"https://github.com/nteract/markdown\">nteract/markdown</a></h4>\n<h5></h5>\n<ul>\n<li><a href=\"https://github.com/nteract/markdown/pull/12\">(#12)</a>: <em>Upgrade nteract mathjax version</em> by <strong><a href=\"https://github.com/bgparkerdev\">@bgparkerdev</a></strong> merged by <strong><a href=\"https://github.com/captainsafia\">@captainsafia</a></strong></li>\n</ul>"
      }
     },
     "aaabb19c95d047bd93b2b40b5c6a71db": {
      "model_module": "@jupyter-widgets/controls",
      "model_module_version": "1.5.0",
      "model_name": "HTMLModel",
      "state": {
       "_dom_classes": [],
       "_model_module": "@jupyter-widgets/controls",
       "_model_module_version": "1.5.0",
       "_model_name": "HTMLModel",
       "_view_count": null,
       "_view_module": "@jupyter-widgets/controls",
       "_view_module_version": "1.5.0",
       "_view_name": "HTMLView",
       "description": "",
       "description_tooltip": null,
       "layout": "IPY_MODEL_ddf94c140e0b4da7969e525333144d27",
       "placeholder": "​",
       "style": "IPY_MODEL_c16d3629393a4b389511de684e0d4136",
       "value": "<h5><a href=\"https://github.com/nteract/nteract.io\">nteract/nteract.io</a></h5>\n<ul>\n<li><a href=\"https://github.com/nteract/nteract.io/issues/303\">(#303)</a>: <em>Question about https://slack.nteract.io</em> by <strong><a href=\"https://github.com/logankilpatrick\">@logankilpatrick</a></strong></li>\n</ul>"
      }
     },
     "ac6801b28bb0455b904a898b485ef727": {
      "model_module": "@jupyter-widgets/controls",
      "model_module_version": "1.5.0",
      "model_name": "DescriptionStyleModel",
      "state": {
       "_model_module": "@jupyter-widgets/controls",
       "_model_module_version": "1.5.0",
       "_model_name": "DescriptionStyleModel",
       "_view_count": null,
       "_view_module": "@jupyter-widgets/base",
       "_view_module_version": "1.2.0",
       "_view_name": "StyleView",
       "description_width": ""
      }
     },
     "afca279ced404c528ed16eaf6ebd19fa": {
      "model_module": "@jupyter-widgets/base",
      "model_module_version": "1.2.0",
      "model_name": "LayoutModel",
      "state": {
       "_model_module": "@jupyter-widgets/base",
       "_model_module_version": "1.2.0",
       "_model_name": "LayoutModel",
       "_view_count": null,
       "_view_module": "@jupyter-widgets/base",
       "_view_module_version": "1.2.0",
       "_view_name": "LayoutView",
       "align_content": null,
       "align_items": null,
       "align_self": null,
       "border": null,
       "bottom": null,
       "display": null,
       "flex": null,
       "flex_flow": null,
       "grid_area": null,
       "grid_auto_columns": null,
       "grid_auto_flow": null,
       "grid_auto_rows": null,
       "grid_column": null,
       "grid_gap": null,
       "grid_row": null,
       "grid_template_areas": null,
       "grid_template_columns": null,
       "grid_template_rows": null,
       "height": null,
       "justify_content": null,
       "justify_items": null,
       "left": null,
       "margin": null,
       "max_height": null,
       "max_width": null,
       "min_height": null,
       "min_width": null,
       "object_fit": null,
       "object_position": null,
       "order": null,
       "overflow": null,
       "overflow_x": null,
       "overflow_y": null,
       "padding": null,
       "right": null,
       "top": null,
       "visibility": null,
       "width": null
      }
     },
     "b02e90a93a274528b7a9fbac97364e60": {
      "model_module": "@jupyter-widgets/base",
      "model_module_version": "1.2.0",
      "model_name": "LayoutModel",
      "state": {
       "_model_module": "@jupyter-widgets/base",
       "_model_module_version": "1.2.0",
       "_model_name": "LayoutModel",
       "_view_count": null,
       "_view_module": "@jupyter-widgets/base",
       "_view_module_version": "1.2.0",
       "_view_name": "LayoutView",
       "align_content": null,
       "align_items": null,
       "align_self": null,
       "border": null,
       "bottom": null,
       "display": null,
       "flex": null,
       "flex_flow": null,
       "grid_area": null,
       "grid_auto_columns": null,
       "grid_auto_flow": null,
       "grid_auto_rows": null,
       "grid_column": null,
       "grid_gap": null,
       "grid_row": null,
       "grid_template_areas": null,
       "grid_template_columns": null,
       "grid_template_rows": null,
       "height": null,
       "justify_content": null,
       "justify_items": null,
       "left": null,
       "margin": null,
       "max_height": null,
       "max_width": null,
       "min_height": null,
       "min_width": null,
       "object_fit": null,
       "object_position": null,
       "order": null,
       "overflow": null,
       "overflow_x": null,
       "overflow_y": null,
       "padding": null,
       "right": null,
       "top": null,
       "visibility": null,
       "width": null
      }
     },
     "b4bd4c09202d4e68aebb2c62a828be98": {
      "model_module": "@jupyter-widgets/controls",
      "model_module_version": "1.5.0",
      "model_name": "DescriptionStyleModel",
      "state": {
       "_model_module": "@jupyter-widgets/controls",
       "_model_module_version": "1.5.0",
       "_model_name": "DescriptionStyleModel",
       "_view_count": null,
       "_view_module": "@jupyter-widgets/base",
       "_view_module_version": "1.2.0",
       "_view_name": "StyleView",
       "description_width": ""
      }
     },
     "b5b5f000513c4340b55f5c7c717fb3cc": {
      "model_module": "@jupyter-widgets/controls",
      "model_module_version": "1.5.0",
      "model_name": "DescriptionStyleModel",
      "state": {
       "_model_module": "@jupyter-widgets/controls",
       "_model_module_version": "1.5.0",
       "_model_name": "DescriptionStyleModel",
       "_view_count": null,
       "_view_module": "@jupyter-widgets/base",
       "_view_module_version": "1.2.0",
       "_view_name": "StyleView",
       "description_width": ""
      }
     },
     "b6c48a425d5d49198bc2510b268ec499": {
      "model_module": "@jupyter-widgets/controls",
      "model_module_version": "1.5.0",
      "model_name": "DescriptionStyleModel",
      "state": {
       "_model_module": "@jupyter-widgets/controls",
       "_model_module_version": "1.5.0",
       "_model_name": "DescriptionStyleModel",
       "_view_count": null,
       "_view_module": "@jupyter-widgets/base",
       "_view_module_version": "1.2.0",
       "_view_name": "StyleView",
       "description_width": ""
      }
     },
     "b853d55fe2fc456a8d0a6d7101fd301f": {
      "model_module": "@jupyter-widgets/base",
      "model_module_version": "1.2.0",
      "model_name": "LayoutModel",
      "state": {
       "_model_module": "@jupyter-widgets/base",
       "_model_module_version": "1.2.0",
       "_model_name": "LayoutModel",
       "_view_count": null,
       "_view_module": "@jupyter-widgets/base",
       "_view_module_version": "1.2.0",
       "_view_name": "LayoutView",
       "align_content": null,
       "align_items": null,
       "align_self": null,
       "border": null,
       "bottom": null,
       "display": null,
       "flex": null,
       "flex_flow": null,
       "grid_area": null,
       "grid_auto_columns": null,
       "grid_auto_flow": null,
       "grid_auto_rows": null,
       "grid_column": null,
       "grid_gap": null,
       "grid_row": null,
       "grid_template_areas": null,
       "grid_template_columns": null,
       "grid_template_rows": null,
       "height": null,
       "justify_content": null,
       "justify_items": null,
       "left": null,
       "margin": null,
       "max_height": null,
       "max_width": null,
       "min_height": null,
       "min_width": null,
       "object_fit": null,
       "object_position": null,
       "order": null,
       "overflow": null,
       "overflow_x": null,
       "overflow_y": null,
       "padding": null,
       "right": null,
       "top": null,
       "visibility": null,
       "width": null
      }
     },
     "b95c1a6065184c79bfd4d8fda8f01294": {
      "model_module": "@jupyter-widgets/controls",
      "model_module_version": "1.5.0",
      "model_name": "DescriptionStyleModel",
      "state": {
       "_model_module": "@jupyter-widgets/controls",
       "_model_module_version": "1.5.0",
       "_model_name": "DescriptionStyleModel",
       "_view_count": null,
       "_view_module": "@jupyter-widgets/base",
       "_view_module_version": "1.2.0",
       "_view_name": "StyleView",
       "description_width": ""
      }
     },
     "b9b370f64f00439eb90fcc20de8dddf8": {
      "model_module": "@jupyter-widgets/controls",
      "model_module_version": "1.5.0",
      "model_name": "HTMLModel",
      "state": {
       "_dom_classes": [],
       "_model_module": "@jupyter-widgets/controls",
       "_model_module_version": "1.5.0",
       "_model_name": "HTMLModel",
       "_view_count": null,
       "_view_module": "@jupyter-widgets/controls",
       "_view_module_version": "1.5.0",
       "_view_name": "HTMLView",
       "description": "",
       "description_tooltip": null,
       "layout": "IPY_MODEL_2ba1911af714418ca65bf759849897c7",
       "placeholder": "​",
       "style": "IPY_MODEL_b5b5f000513c4340b55f5c7c717fb3cc",
       "value": "<h4>Closed PRs for repo: <a href=\"https://github.com/nteract/ansi-to-react\">nteract/ansi-to-react</a></h4>\n<h5></h5>\n<ul>\n<li><a href=\"https://github.com/nteract/ansi-to-react/pull/43\">(#43)</a>: <em>Perf: Reduce number of nodes created when using linkify</em> by <strong><a href=\"https://github.com/kycutler\">@kycutler</a></strong> merged by <strong><a href=\"https://github.com/captainsafia\">@captainsafia</a></strong></li>\n</ul>"
      }
     },
     "bd6635d28e724059aaed8bdd2a35f8b2": {
      "model_module": "@jupyter-widgets/base",
      "model_module_version": "1.2.0",
      "model_name": "LayoutModel",
      "state": {
       "_model_module": "@jupyter-widgets/base",
       "_model_module_version": "1.2.0",
       "_model_name": "LayoutModel",
       "_view_count": null,
       "_view_module": "@jupyter-widgets/base",
       "_view_module_version": "1.2.0",
       "_view_name": "LayoutView",
       "align_content": null,
       "align_items": null,
       "align_self": null,
       "border": null,
       "bottom": null,
       "display": null,
       "flex": null,
       "flex_flow": null,
       "grid_area": null,
       "grid_auto_columns": null,
       "grid_auto_flow": null,
       "grid_auto_rows": null,
       "grid_column": null,
       "grid_gap": null,
       "grid_row": null,
       "grid_template_areas": null,
       "grid_template_columns": null,
       "grid_template_rows": null,
       "height": null,
       "justify_content": null,
       "justify_items": null,
       "left": null,
       "margin": null,
       "max_height": null,
       "max_width": null,
       "min_height": null,
       "min_width": null,
       "object_fit": null,
       "object_position": null,
       "order": null,
       "overflow": null,
       "overflow_x": null,
       "overflow_y": null,
       "padding": null,
       "right": null,
       "top": null,
       "visibility": null,
       "width": null
      }
     },
     "c16d3629393a4b389511de684e0d4136": {
      "model_module": "@jupyter-widgets/controls",
      "model_module_version": "1.5.0",
      "model_name": "DescriptionStyleModel",
      "state": {
       "_model_module": "@jupyter-widgets/controls",
       "_model_module_version": "1.5.0",
       "_model_name": "DescriptionStyleModel",
       "_view_count": null,
       "_view_module": "@jupyter-widgets/base",
       "_view_module_version": "1.2.0",
       "_view_name": "StyleView",
       "description_width": ""
      }
     },
     "c1a5abb74f464d8086f836de8844d210": {
      "model_module": "@jupyter-widgets/controls",
      "model_module_version": "1.5.0",
      "model_name": "DescriptionStyleModel",
      "state": {
       "_model_module": "@jupyter-widgets/controls",
       "_model_module_version": "1.5.0",
       "_model_name": "DescriptionStyleModel",
       "_view_count": null,
       "_view_module": "@jupyter-widgets/base",
       "_view_module_version": "1.2.0",
       "_view_name": "StyleView",
       "description_width": ""
      }
     },
     "c2a74f04fc744c5e8fac1fe13826fa8c": {
      "model_module": "@jupyter-widgets/controls",
      "model_module_version": "1.5.0",
      "model_name": "HTMLModel",
      "state": {
       "_dom_classes": [],
       "_model_module": "@jupyter-widgets/controls",
       "_model_module_version": "1.5.0",
       "_model_name": "HTMLModel",
       "_view_count": null,
       "_view_module": "@jupyter-widgets/controls",
       "_view_module_version": "1.5.0",
       "_view_name": "HTMLView",
       "description": "",
       "description_tooltip": null,
       "layout": "IPY_MODEL_5d0187bd519b4829acdc80a2f437921e",
       "placeholder": "​",
       "style": "IPY_MODEL_db502d2e2c6545588298c9e74af40a5c",
       "value": "<h5><a href=\"https://github.com/nteract/testbook\">nteract/testbook</a></h5>"
      }
     },
     "c415e9de3c4d4299a687c5493b96f09b": {
      "model_module": "@jupyter-widgets/base",
      "model_module_version": "1.2.0",
      "model_name": "LayoutModel",
      "state": {
       "_model_module": "@jupyter-widgets/base",
       "_model_module_version": "1.2.0",
       "_model_name": "LayoutModel",
       "_view_count": null,
       "_view_module": "@jupyter-widgets/base",
       "_view_module_version": "1.2.0",
       "_view_name": "LayoutView",
       "align_content": null,
       "align_items": null,
       "align_self": null,
       "border": null,
       "bottom": null,
       "display": null,
       "flex": null,
       "flex_flow": null,
       "grid_area": null,
       "grid_auto_columns": null,
       "grid_auto_flow": null,
       "grid_auto_rows": null,
       "grid_column": null,
       "grid_gap": null,
       "grid_row": null,
       "grid_template_areas": null,
       "grid_template_columns": null,
       "grid_template_rows": null,
       "height": null,
       "justify_content": null,
       "justify_items": null,
       "left": null,
       "margin": null,
       "max_height": null,
       "max_width": null,
       "min_height": null,
       "min_width": null,
       "object_fit": null,
       "object_position": null,
       "order": null,
       "overflow": null,
       "overflow_x": null,
       "overflow_y": null,
       "padding": null,
       "right": null,
       "top": null,
       "visibility": null,
       "width": null
      }
     },
     "c83998511ff94143a2b89cfae5bd4b46": {
      "model_module": "@jupyter-widgets/base",
      "model_module_version": "1.2.0",
      "model_name": "LayoutModel",
      "state": {
       "_model_module": "@jupyter-widgets/base",
       "_model_module_version": "1.2.0",
       "_model_name": "LayoutModel",
       "_view_count": null,
       "_view_module": "@jupyter-widgets/base",
       "_view_module_version": "1.2.0",
       "_view_name": "LayoutView",
       "align_content": null,
       "align_items": null,
       "align_self": null,
       "border": null,
       "bottom": null,
       "display": null,
       "flex": null,
       "flex_flow": null,
       "grid_area": null,
       "grid_auto_columns": null,
       "grid_auto_flow": null,
       "grid_auto_rows": null,
       "grid_column": null,
       "grid_gap": null,
       "grid_row": null,
       "grid_template_areas": null,
       "grid_template_columns": null,
       "grid_template_rows": null,
       "height": null,
       "justify_content": null,
       "justify_items": null,
       "left": null,
       "margin": null,
       "max_height": null,
       "max_width": null,
       "min_height": null,
       "min_width": null,
       "object_fit": null,
       "object_position": null,
       "order": null,
       "overflow": null,
       "overflow_x": null,
       "overflow_y": null,
       "padding": null,
       "right": null,
       "top": null,
       "visibility": null,
       "width": null
      }
     },
     "cd4718d6976049858d8f8ab6f32cdc17": {
      "model_module": "@jupyter-widgets/controls",
      "model_module_version": "1.5.0",
      "model_name": "HTMLModel",
      "state": {
       "_dom_classes": [],
       "_model_module": "@jupyter-widgets/controls",
       "_model_module_version": "1.5.0",
       "_model_name": "HTMLModel",
       "_view_count": null,
       "_view_module": "@jupyter-widgets/controls",
       "_view_module_version": "1.5.0",
       "_view_name": "HTMLView",
       "description": "",
       "description_tooltip": null,
       "layout": "IPY_MODEL_8aba42f3b1d14448990f769d1fad34d5",
       "placeholder": "​",
       "style": "IPY_MODEL_2af57d43013a422599ec13142b294ff3",
       "value": "<h5><a href=\"https://github.com/nteract/mathjax\">nteract/mathjax</a></h5>\n<ul>\n<li><a href=\"https://github.com/nteract/mathjax/issues/8\">(#8)</a>: <em>MathJax cdn url returns 404 Error</em> by <strong><a href=\"https://github.com/stormpython\">@stormpython</a></strong></li>\n<li><a href=\"https://github.com/nteract/mathjax/issues/5\">(#5)</a>: <em>Incorrect URL of MathJax 2.7.8 library</em> by <strong><a href=\"https://github.com/bryanchen-d\">@bryanchen-d</a></strong></li>\n</ul>"
      }
     },
     "d42e151684f44f26afc184af007618bb": {
      "model_module": "@jupyter-widgets/controls",
      "model_module_version": "1.5.0",
      "model_name": "DescriptionStyleModel",
      "state": {
       "_model_module": "@jupyter-widgets/controls",
       "_model_module_version": "1.5.0",
       "_model_name": "DescriptionStyleModel",
       "_view_count": null,
       "_view_module": "@jupyter-widgets/base",
       "_view_module_version": "1.2.0",
       "_view_name": "StyleView",
       "description_width": ""
      }
     },
     "d4fe998d029c439aa03c60e6af42b38d": {
      "model_module": "@jupyter-widgets/controls",
      "model_module_version": "1.5.0",
      "model_name": "HTMLModel",
      "state": {
       "_dom_classes": [],
       "_model_module": "@jupyter-widgets/controls",
       "_model_module_version": "1.5.0",
       "_model_name": "HTMLModel",
       "_view_count": null,
       "_view_module": "@jupyter-widgets/controls",
       "_view_module_version": "1.5.0",
       "_view_name": "HTMLView",
       "description": "",
       "description_tooltip": null,
       "layout": "IPY_MODEL_94bfa0c1a8b344b09264e7b6551c5ded",
       "placeholder": "​",
       "style": "IPY_MODEL_c1a5abb74f464d8086f836de8844d210",
       "value": "<h4>Closed PRs for repo: <a href=\"https://github.com/nteract/mathjax\">nteract/mathjax</a></h4>\n<h5></h5>\n<ul>\n<li><a href=\"https://github.com/nteract/mathjax/pull/9\">(#9)</a>: <em>Upgrading MathJax version 2.7.8 to 2.7.9</em> by <strong><a href=\"https://github.com/stormpython\">@stormpython</a></strong> merged by <strong><a href=\"https://github.com/captainsafia\">@captainsafia</a></strong></li>\n</ul>"
      }
     },
     "d77f046d1755426091dec523306677e0": {
      "model_module": "@jupyter-widgets/controls",
      "model_module_version": "1.5.0",
      "model_name": "TabModel",
      "state": {
       "_dom_classes": [],
       "_model_module": "@jupyter-widgets/controls",
       "_model_module_version": "1.5.0",
       "_model_name": "TabModel",
       "_titles": {
        "0": "ansi-to-react",
        "1": "hydrogen",
        "10": "semiotic",
        "11": "testbook",
        "2": "kernel-relay",
        "3": "markdown",
        "4": "mathjax",
        "5": "meeting-minutes",
        "6": "nteract",
        "7": "nteract.io",
        "8": "outputs",
        "9": "papermill"
       },
       "_view_count": null,
       "_view_module": "@jupyter-widgets/controls",
       "_view_module_version": "1.5.0",
       "_view_name": "TabView",
       "box_style": "",
       "children": [
        "IPY_MODEL_5c03402b8d094e9ca22ca5f6fa5e8b14",
        "IPY_MODEL_f73fa4623c1b47b79c07fa791ebf1950",
        "IPY_MODEL_33ca32ee83f04c658a28389808ced9a7",
        "IPY_MODEL_de67acad98f84f7baa1d39e2c5c57dea",
        "IPY_MODEL_cd4718d6976049858d8f8ab6f32cdc17",
        "IPY_MODEL_6b7ebae82ba84da79efafc163bc6c623",
        "IPY_MODEL_db348b54c68b4a6f89f8d99ea39d90d8",
        "IPY_MODEL_fc4297e76ad74200adc24d4e717ace1d",
        "IPY_MODEL_da2f23a04c73448ba4824d7aff27a793",
        "IPY_MODEL_f457cabcc0ae4917ba49e355aed87caa",
        "IPY_MODEL_15c7a84cb5d7484a9d24767c63c445c4",
        "IPY_MODEL_3dd6578775ff4abdb279240c3614e531"
       ],
       "layout": "IPY_MODEL_0be47a8608bc41adb764fbe2284b43ae",
       "selected_index": 0
      }
     },
     "d7ddc9c4f68a4773a3335a6023cdc7e9": {
      "model_module": "@jupyter-widgets/base",
      "model_module_version": "1.2.0",
      "model_name": "LayoutModel",
      "state": {
       "_model_module": "@jupyter-widgets/base",
       "_model_module_version": "1.2.0",
       "_model_name": "LayoutModel",
       "_view_count": null,
       "_view_module": "@jupyter-widgets/base",
       "_view_module_version": "1.2.0",
       "_view_name": "LayoutView",
       "align_content": null,
       "align_items": null,
       "align_self": null,
       "border": null,
       "bottom": null,
       "display": null,
       "flex": null,
       "flex_flow": null,
       "grid_area": null,
       "grid_auto_columns": null,
       "grid_auto_flow": null,
       "grid_auto_rows": null,
       "grid_column": null,
       "grid_gap": null,
       "grid_row": null,
       "grid_template_areas": null,
       "grid_template_columns": null,
       "grid_template_rows": null,
       "height": null,
       "justify_content": null,
       "justify_items": null,
       "left": null,
       "margin": null,
       "max_height": null,
       "max_width": null,
       "min_height": null,
       "min_width": null,
       "object_fit": null,
       "object_position": null,
       "order": null,
       "overflow": null,
       "overflow_x": null,
       "overflow_y": null,
       "padding": null,
       "right": null,
       "top": null,
       "visibility": null,
       "width": null
      }
     },
     "da2f23a04c73448ba4824d7aff27a793": {
      "model_module": "@jupyter-widgets/controls",
      "model_module_version": "1.5.0",
      "model_name": "HTMLModel",
      "state": {
       "_dom_classes": [],
       "_model_module": "@jupyter-widgets/controls",
       "_model_module_version": "1.5.0",
       "_model_name": "HTMLModel",
       "_view_count": null,
       "_view_module": "@jupyter-widgets/controls",
       "_view_module_version": "1.5.0",
       "_view_name": "HTMLView",
       "description": "",
       "description_tooltip": null,
       "layout": "IPY_MODEL_44152ec65cc24a0c97a4ce831bf73edb",
       "placeholder": "​",
       "style": "IPY_MODEL_e4b6bd0dbd9a4094a3b983f962c3d9ee",
       "value": "<h5><a href=\"https://github.com/nteract/outputs\">nteract/outputs</a></h5>"
      }
     },
     "db348b54c68b4a6f89f8d99ea39d90d8": {
      "model_module": "@jupyter-widgets/controls",
      "model_module_version": "1.5.0",
      "model_name": "HTMLModel",
      "state": {
       "_dom_classes": [],
       "_model_module": "@jupyter-widgets/controls",
       "_model_module_version": "1.5.0",
       "_model_name": "HTMLModel",
       "_view_count": null,
       "_view_module": "@jupyter-widgets/controls",
       "_view_module_version": "1.5.0",
       "_view_name": "HTMLView",
       "description": "",
       "description_tooltip": null,
       "layout": "IPY_MODEL_25f72e79520349f0a837c77c242d4d06",
       "placeholder": "​",
       "style": "IPY_MODEL_8e94a3583c374b72bdfd1dd5ca352025",
       "value": "<h5><a href=\"https://github.com/nteract/nteract\">nteract/nteract</a></h5>\n<ul>\n<li><a href=\"https://github.com/nteract/nteract/issues/5283\">(#5283)</a>: <em>Possible regressions with 0.25</em> by <strong><a href=\"https://github.com/willingc\">@willingc</a></strong></li>\n<li><a href=\"https://github.com/nteract/nteract/issues/5254\">(#5254)</a>: _nteract doesnt start on windows _ by <strong><a href=\"https://github.com/shishini\">@shishini</a></strong></li>\n<li><a href=\"https://github.com/nteract/nteract/issues/5260\">(#5260)</a>: <em>Extensibility point for loggers</em> by <strong><a href=\"https://github.com/vivek1729\">@vivek1729</a></strong></li>\n</ul>"
      }
     },
     "db502d2e2c6545588298c9e74af40a5c": {
      "model_module": "@jupyter-widgets/controls",
      "model_module_version": "1.5.0",
      "model_name": "DescriptionStyleModel",
      "state": {
       "_model_module": "@jupyter-widgets/controls",
       "_model_module_version": "1.5.0",
       "_model_name": "DescriptionStyleModel",
       "_view_count": null,
       "_view_module": "@jupyter-widgets/base",
       "_view_module_version": "1.2.0",
       "_view_name": "StyleView",
       "description_width": ""
      }
     },
     "ddf94c140e0b4da7969e525333144d27": {
      "model_module": "@jupyter-widgets/base",
      "model_module_version": "1.2.0",
      "model_name": "LayoutModel",
      "state": {
       "_model_module": "@jupyter-widgets/base",
       "_model_module_version": "1.2.0",
       "_model_name": "LayoutModel",
       "_view_count": null,
       "_view_module": "@jupyter-widgets/base",
       "_view_module_version": "1.2.0",
       "_view_name": "LayoutView",
       "align_content": null,
       "align_items": null,
       "align_self": null,
       "border": null,
       "bottom": null,
       "display": null,
       "flex": null,
       "flex_flow": null,
       "grid_area": null,
       "grid_auto_columns": null,
       "grid_auto_flow": null,
       "grid_auto_rows": null,
       "grid_column": null,
       "grid_gap": null,
       "grid_row": null,
       "grid_template_areas": null,
       "grid_template_columns": null,
       "grid_template_rows": null,
       "height": null,
       "justify_content": null,
       "justify_items": null,
       "left": null,
       "margin": null,
       "max_height": null,
       "max_width": null,
       "min_height": null,
       "min_width": null,
       "object_fit": null,
       "object_position": null,
       "order": null,
       "overflow": null,
       "overflow_x": null,
       "overflow_y": null,
       "padding": null,
       "right": null,
       "top": null,
       "visibility": null,
       "width": null
      }
     },
     "de67acad98f84f7baa1d39e2c5c57dea": {
      "model_module": "@jupyter-widgets/controls",
      "model_module_version": "1.5.0",
      "model_name": "HTMLModel",
      "state": {
       "_dom_classes": [],
       "_model_module": "@jupyter-widgets/controls",
       "_model_module_version": "1.5.0",
       "_model_name": "HTMLModel",
       "_view_count": null,
       "_view_module": "@jupyter-widgets/controls",
       "_view_module_version": "1.5.0",
       "_view_name": "HTMLView",
       "description": "",
       "description_tooltip": null,
       "layout": "IPY_MODEL_f724679e0e30475db8598a565ff4d6c3",
       "placeholder": "​",
       "style": "IPY_MODEL_3b83c686c9f5434598892e49ef2d2dbf",
       "value": "<h5><a href=\"https://github.com/nteract/markdown\">nteract/markdown</a></h5>"
      }
     },
     "e1f96f39cffe4a6fbb2322fa5364db9d": {
      "model_module": "@jupyter-widgets/controls",
      "model_module_version": "1.5.0",
      "model_name": "HTMLModel",
      "state": {
       "_dom_classes": [],
       "_model_module": "@jupyter-widgets/controls",
       "_model_module_version": "1.5.0",
       "_model_name": "HTMLModel",
       "_view_count": null,
       "_view_module": "@jupyter-widgets/controls",
       "_view_module_version": "1.5.0",
       "_view_name": "HTMLView",
       "description": "",
       "description_tooltip": null,
       "layout": "IPY_MODEL_3f567c2b8a73499ebbcac53dda1ffd55",
       "placeholder": "​",
       "style": "IPY_MODEL_b4bd4c09202d4e68aebb2c62a828be98",
       "value": "<ul>\n<li>(1) Export PDF doesn't work in v0.24.1 latest version in release - nteract - <a href=\"https://github.com/nteract/nteract/issues/5277\">#5277</a></li>\n<li>(0) Uncaught Error: Cannot find module './mobx.min.js'Require stack:- $ATOM_HOME/packages/Hydrogen/... - hydrogen - <a href=\"https://github.com/nteract/hydrogen/issues/2012\">#2012</a></li>\n<li>(0) Missing environment variables within Python kernel started from Hydrogen - hydrogen - <a href=\"https://github.com/nteract/hydrogen/issues/2000\">#2000</a></li>\n<li>(0) The command line argument \"{connection_file}\" isn't replaced correctly - hydrogen - <a href=\"https://github.com/nteract/hydrogen/issues/1992\">#1992</a></li>\n<li>(0) Add Help button to the footer. - nteract.io - <a href=\"https://github.com/nteract/nteract.io/issues/302\">#302</a></li>\n<li>(0) Remote jupyter server with nteract desktop - nteract - <a href=\"https://github.com/nteract/nteract/issues/5259\">#5259</a></li>\n<li>(0) Extensibility point for loggers - nteract - <a href=\"https://github.com/nteract/nteract/issues/5260\">#5260</a></li>\n<li>(0) Change indigo color used for links and operators in errors to something more readable - nteract - <a href=\"https://github.com/nteract/nteract/issues/5262\">#5262</a></li>\n<li>(0) Support for kernels other than python - testbook - <a href=\"https://github.com/nteract/testbook/issues/58\">#58</a></li>\n<li>(0) More examples documentation - testbook - <a href=\"https://github.com/nteract/testbook/issues/59\">#59</a></li>\n<li>(0) Conda build - testbook - <a href=\"https://github.com/nteract/testbook/issues/60\">#60</a></li>\n<li>(0) Add async function calls - papermill - <a href=\"https://github.com/nteract/papermill/issues/530\">#530</a></li>\n<li>(0) [Mac] Save window positions of notebooks - nteract - <a href=\"https://github.com/nteract/nteract/issues/5274\">#5274</a></li>\n<li>(0) Search path for nteract.json incomplete? - nteract - <a href=\"https://github.com/nteract/nteract/issues/5275\">#5275</a></li>\n<li>(0) is it possible to disable black? - papermill - <a href=\"https://github.com/nteract/papermill/issues/534\">#534</a></li>\n<li>(0) Unable to load IpyWidgets - nteract - <a href=\"https://github.com/nteract/nteract/issues/5313\">#5313</a></li>\n<li>(0) createCellBelow not honoring source - nteract - <a href=\"https://github.com/nteract/nteract/issues/5286\">#5286</a></li>\n<li>(0) useClasses doesn't show any colors - ansi-to-react - <a href=\"https://github.com/nteract/ansi-to-react/issues/44\">#44</a></li>\n<li>(0) No kernel for grammar C++ found - hydrogen - <a href=\"https://github.com/nteract/hydrogen/issues/2002\">#2002</a></li>\n<li>(0) [nteract/web] Cell not running when notebook opened before server connection. - nteract - <a href=\"https://github.com/nteract/nteract/issues/5292\">#5292</a></li>\n<li>(0) Hydrogen giving error with Atom - hydrogen - <a href=\"https://github.com/nteract/hydrogen/issues/2004\">#2004</a></li>\n<li>(0) Improve resize performance for Monaco Editor - nteract - <a href=\"https://github.com/nteract/nteract/issues/5298\">#5298</a></li>\n<li>(0) Cluster diagram with straight edges &amp; edgeType not working? - semiotic - <a href=\"https://github.com/nteract/semiotic/issues/533\">#533</a></li>\n<li>(0) it is not even responding when enabled - hydrogen - <a href=\"https://github.com/nteract/hydrogen/issues/2005\">#2005</a></li>\n<li>(0) donut and rose display wrong percentage  - semiotic - <a href=\"https://github.com/nteract/semiotic/issues/534\">#534</a></li>\n</ul>"
      }
     },
     "e3c34a23eca640c0ae582522655812fe": {
      "model_module": "@jupyter-widgets/controls",
      "model_module_version": "1.5.0",
      "model_name": "HTMLModel",
      "state": {
       "_dom_classes": [],
       "_model_module": "@jupyter-widgets/controls",
       "_model_module_version": "1.5.0",
       "_model_name": "HTMLModel",
       "_view_count": null,
       "_view_module": "@jupyter-widgets/controls",
       "_view_module_version": "1.5.0",
       "_view_name": "HTMLView",
       "description": "",
       "description_tooltip": null,
       "layout": "IPY_MODEL_eb93dba3bc8c480382543270527f779f",
       "placeholder": "​",
       "style": "IPY_MODEL_80d752c1820644149434612cd569ec4b",
       "value": "<h5><a href=\"https://github.com/nteract/ansi-to-react\">nteract/ansi-to-react</a></h5>"
      }
     },
     "e4b6bd0dbd9a4094a3b983f962c3d9ee": {
      "model_module": "@jupyter-widgets/controls",
      "model_module_version": "1.5.0",
      "model_name": "DescriptionStyleModel",
      "state": {
       "_model_module": "@jupyter-widgets/controls",
       "_model_module_version": "1.5.0",
       "_model_name": "DescriptionStyleModel",
       "_view_count": null,
       "_view_module": "@jupyter-widgets/base",
       "_view_module_version": "1.2.0",
       "_view_name": "StyleView",
       "description_width": ""
      }
     },
     "e9066bda0e3b4304aec1ba6ab207874c": {
      "model_module": "@jupyter-widgets/controls",
      "model_module_version": "1.5.0",
      "model_name": "TabModel",
      "state": {
       "_dom_classes": [],
       "_model_module": "@jupyter-widgets/controls",
       "_model_module_version": "1.5.0",
       "_model_name": "TabModel",
       "_titles": {
        "0": "ansi-to-react",
        "1": "hydrogen",
        "2": "markdown",
        "3": "mathjax",
        "4": "meeting-minutes",
        "5": "nteract",
        "6": "outputs",
        "7": "papermill",
        "8": "testbook"
       },
       "_view_count": null,
       "_view_module": "@jupyter-widgets/controls",
       "_view_module_version": "1.5.0",
       "_view_name": "TabView",
       "box_style": "",
       "children": [
        "IPY_MODEL_b9b370f64f00439eb90fcc20de8dddf8",
        "IPY_MODEL_a3fa5439c8a64400b12d7e2faffd3ec6",
        "IPY_MODEL_a4268a2cdb6c4800a53cc78aba2fb0d0",
        "IPY_MODEL_d4fe998d029c439aa03c60e6af42b38d",
        "IPY_MODEL_9a09481d44d64de3bd16c4dcd7fa21bb",
        "IPY_MODEL_97296d55bdef47259b922df6c24119c2",
        "IPY_MODEL_2b5255c91a194115a19d0bcd9459f9da",
        "IPY_MODEL_4aa040bad3574a2cbe6859ffc2e22a95",
        "IPY_MODEL_80630443ab9f46d286686e09e855e78b"
       ],
       "layout": "IPY_MODEL_9d0393161f0148b18d2ff172469ef13a",
       "selected_index": 0
      }
     },
     "eb93dba3bc8c480382543270527f779f": {
      "model_module": "@jupyter-widgets/base",
      "model_module_version": "1.2.0",
      "model_name": "LayoutModel",
      "state": {
       "_model_module": "@jupyter-widgets/base",
       "_model_module_version": "1.2.0",
       "_model_name": "LayoutModel",
       "_view_count": null,
       "_view_module": "@jupyter-widgets/base",
       "_view_module_version": "1.2.0",
       "_view_name": "LayoutView",
       "align_content": null,
       "align_items": null,
       "align_self": null,
       "border": null,
       "bottom": null,
       "display": null,
       "flex": null,
       "flex_flow": null,
       "grid_area": null,
       "grid_auto_columns": null,
       "grid_auto_flow": null,
       "grid_auto_rows": null,
       "grid_column": null,
       "grid_gap": null,
       "grid_row": null,
       "grid_template_areas": null,
       "grid_template_columns": null,
       "grid_template_rows": null,
       "height": null,
       "justify_content": null,
       "justify_items": null,
       "left": null,
       "margin": null,
       "max_height": null,
       "max_width": null,
       "min_height": null,
       "min_width": null,
       "object_fit": null,
       "object_position": null,
       "order": null,
       "overflow": null,
       "overflow_x": null,
       "overflow_y": null,
       "padding": null,
       "right": null,
       "top": null,
       "visibility": null,
       "width": null
      }
     },
     "ee1c1df20e65480b99b8191b1f03c6d5": {
      "model_module": "@jupyter-widgets/controls",
      "model_module_version": "1.5.0",
      "model_name": "HTMLModel",
      "state": {
       "_dom_classes": [],
       "_model_module": "@jupyter-widgets/controls",
       "_model_module_version": "1.5.0",
       "_model_name": "HTMLModel",
       "_view_count": null,
       "_view_module": "@jupyter-widgets/controls",
       "_view_module_version": "1.5.0",
       "_view_name": "HTMLView",
       "description": "",
       "description_tooltip": null,
       "layout": "IPY_MODEL_f9404abedd2f492ea53943e7b6c96343",
       "placeholder": "​",
       "style": "IPY_MODEL_45dbf62e53d5431ba953e961df0d1007",
       "value": "<h5><a href=\"https://github.com/nteract/hydrogen\">nteract/hydrogen</a></h5>\n<ul>\n<li><a href=\"https://github.com/nteract/hydrogen/issues/2008\">(#2008)</a>: <em>Uncaught Error: mobx-react-lite@3 requires mobx at least version 6 to be available</em> by <strong><a href=\"https://github.com/sbar365\">@sbar365</a></strong></li>\n<li><a href=\"https://github.com/nteract/hydrogen/issues/2002\">(#2002)</a>: <em>No kernel for grammar C++ found</em> by <strong><a href=\"https://github.com/Lemanr-ops\">@Lemanr-ops</a></strong></li>\n<li><a href=\"https://github.com/nteract/hydrogen/issues/1993\">(#1993)</a>: <em>hydrogen takes too long with df.shape or df.head()</em> by <strong><a href=\"https://github.com/Rcubes\">@Rcubes</a></strong></li>\n</ul>"
      }
     },
     "f144cf4b08774c7e9058fb9d29ddb4ee": {
      "model_module": "@jupyter-widgets/base",
      "model_module_version": "1.2.0",
      "model_name": "LayoutModel",
      "state": {
       "_model_module": "@jupyter-widgets/base",
       "_model_module_version": "1.2.0",
       "_model_name": "LayoutModel",
       "_view_count": null,
       "_view_module": "@jupyter-widgets/base",
       "_view_module_version": "1.2.0",
       "_view_name": "LayoutView",
       "align_content": null,
       "align_items": null,
       "align_self": null,
       "border": null,
       "bottom": null,
       "display": null,
       "flex": null,
       "flex_flow": null,
       "grid_area": null,
       "grid_auto_columns": null,
       "grid_auto_flow": null,
       "grid_auto_rows": null,
       "grid_column": null,
       "grid_gap": null,
       "grid_row": null,
       "grid_template_areas": null,
       "grid_template_columns": null,
       "grid_template_rows": null,
       "height": null,
       "justify_content": null,
       "justify_items": null,
       "left": null,
       "margin": null,
       "max_height": null,
       "max_width": null,
       "min_height": null,
       "min_width": null,
       "object_fit": null,
       "object_position": null,
       "order": null,
       "overflow": null,
       "overflow_x": null,
       "overflow_y": null,
       "padding": null,
       "right": null,
       "top": null,
       "visibility": null,
       "width": null
      }
     },
     "f1c6ffcf3c834def976928039feceb57": {
      "model_module": "@jupyter-widgets/controls",
      "model_module_version": "1.5.0",
      "model_name": "ProgressStyleModel",
      "state": {
       "_model_module": "@jupyter-widgets/controls",
       "_model_module_version": "1.5.0",
       "_model_name": "ProgressStyleModel",
       "_view_count": null,
       "_view_module": "@jupyter-widgets/base",
       "_view_module_version": "1.2.0",
       "_view_name": "StyleView",
       "bar_color": null,
       "description_width": ""
      }
     },
     "f457cabcc0ae4917ba49e355aed87caa": {
      "model_module": "@jupyter-widgets/controls",
      "model_module_version": "1.5.0",
      "model_name": "HTMLModel",
      "state": {
       "_dom_classes": [],
       "_model_module": "@jupyter-widgets/controls",
       "_model_module_version": "1.5.0",
       "_model_name": "HTMLModel",
       "_view_count": null,
       "_view_module": "@jupyter-widgets/controls",
       "_view_module_version": "1.5.0",
       "_view_name": "HTMLView",
       "description": "",
       "description_tooltip": null,
       "layout": "IPY_MODEL_70b54f2aa0bc40a685f38fc59a6c69f2",
       "placeholder": "​",
       "style": "IPY_MODEL_8999591645264d5cab561a04efe1e598",
       "value": "<h5><a href=\"https://github.com/nteract/papermill\">nteract/papermill</a></h5>\n<ul>\n<li><a href=\"https://github.com/nteract/papermill/issues/536\">(#536)</a>: <em>sys.exit isn't handled gracefully in papermill 2.1.3</em> by <strong><a href=\"https://github.com/ctb\">@ctb</a></strong></li>\n<li><a href=\"https://github.com/nteract/papermill/issues/537\">(#537)</a>: <em>black.InvalidInput: Cannot parse error when reading in numpy variables</em> by <strong><a href=\"https://github.com/sarahallen111\">@sarahallen111</a></strong></li>\n<li><a href=\"https://github.com/nteract/papermill/issues/532\">(#532)</a>: <em>Is it possible to surface an error on an already executed notebook?</em> by <strong><a href=\"https://github.com/thvasilo\">@thvasilo</a></strong></li>\n<li><a href=\"https://github.com/nteract/papermill/issues/529\">(#529)</a>: <em>Conda PyPy Build Issue</em> by <strong><a href=\"https://github.com/MSeal\">@MSeal</a></strong></li>\n</ul>"
      }
     },
     "f62f9b665867437cb0b3ea242e2e9d2c": {
      "model_module": "@jupyter-widgets/base",
      "model_module_version": "1.2.0",
      "model_name": "LayoutModel",
      "state": {
       "_model_module": "@jupyter-widgets/base",
       "_model_module_version": "1.2.0",
       "_model_name": "LayoutModel",
       "_view_count": null,
       "_view_module": "@jupyter-widgets/base",
       "_view_module_version": "1.2.0",
       "_view_name": "LayoutView",
       "align_content": null,
       "align_items": null,
       "align_self": null,
       "border": null,
       "bottom": null,
       "display": null,
       "flex": null,
       "flex_flow": null,
       "grid_area": null,
       "grid_auto_columns": null,
       "grid_auto_flow": null,
       "grid_auto_rows": null,
       "grid_column": null,
       "grid_gap": null,
       "grid_row": null,
       "grid_template_areas": null,
       "grid_template_columns": null,
       "grid_template_rows": null,
       "height": null,
       "justify_content": null,
       "justify_items": null,
       "left": null,
       "margin": null,
       "max_height": null,
       "max_width": null,
       "min_height": null,
       "min_width": null,
       "object_fit": null,
       "object_position": null,
       "order": null,
       "overflow": null,
       "overflow_x": null,
       "overflow_y": null,
       "padding": null,
       "right": null,
       "top": null,
       "visibility": null,
       "width": null
      }
     },
     "f6b70003a0dc4a52b7d33b7805f81b4b": {
      "model_module": "@jupyter-widgets/base",
      "model_module_version": "1.2.0",
      "model_name": "LayoutModel",
      "state": {
       "_model_module": "@jupyter-widgets/base",
       "_model_module_version": "1.2.0",
       "_model_name": "LayoutModel",
       "_view_count": null,
       "_view_module": "@jupyter-widgets/base",
       "_view_module_version": "1.2.0",
       "_view_name": "LayoutView",
       "align_content": null,
       "align_items": null,
       "align_self": null,
       "border": null,
       "bottom": null,
       "display": null,
       "flex": null,
       "flex_flow": null,
       "grid_area": null,
       "grid_auto_columns": null,
       "grid_auto_flow": null,
       "grid_auto_rows": null,
       "grid_column": null,
       "grid_gap": null,
       "grid_row": null,
       "grid_template_areas": null,
       "grid_template_columns": null,
       "grid_template_rows": null,
       "height": null,
       "justify_content": null,
       "justify_items": null,
       "left": null,
       "margin": null,
       "max_height": null,
       "max_width": null,
       "min_height": null,
       "min_width": null,
       "object_fit": null,
       "object_position": null,
       "order": null,
       "overflow": null,
       "overflow_x": null,
       "overflow_y": null,
       "padding": null,
       "right": null,
       "top": null,
       "visibility": null,
       "width": null
      }
     },
     "f724679e0e30475db8598a565ff4d6c3": {
      "model_module": "@jupyter-widgets/base",
      "model_module_version": "1.2.0",
      "model_name": "LayoutModel",
      "state": {
       "_model_module": "@jupyter-widgets/base",
       "_model_module_version": "1.2.0",
       "_model_name": "LayoutModel",
       "_view_count": null,
       "_view_module": "@jupyter-widgets/base",
       "_view_module_version": "1.2.0",
       "_view_name": "LayoutView",
       "align_content": null,
       "align_items": null,
       "align_self": null,
       "border": null,
       "bottom": null,
       "display": null,
       "flex": null,
       "flex_flow": null,
       "grid_area": null,
       "grid_auto_columns": null,
       "grid_auto_flow": null,
       "grid_auto_rows": null,
       "grid_column": null,
       "grid_gap": null,
       "grid_row": null,
       "grid_template_areas": null,
       "grid_template_columns": null,
       "grid_template_rows": null,
       "height": null,
       "justify_content": null,
       "justify_items": null,
       "left": null,
       "margin": null,
       "max_height": null,
       "max_width": null,
       "min_height": null,
       "min_width": null,
       "object_fit": null,
       "object_position": null,
       "order": null,
       "overflow": null,
       "overflow_x": null,
       "overflow_y": null,
       "padding": null,
       "right": null,
       "top": null,
       "visibility": null,
       "width": null
      }
     },
     "f73fa4623c1b47b79c07fa791ebf1950": {
      "model_module": "@jupyter-widgets/controls",
      "model_module_version": "1.5.0",
      "model_name": "HTMLModel",
      "state": {
       "_dom_classes": [],
       "_model_module": "@jupyter-widgets/controls",
       "_model_module_version": "1.5.0",
       "_model_name": "HTMLModel",
       "_view_count": null,
       "_view_module": "@jupyter-widgets/controls",
       "_view_module_version": "1.5.0",
       "_view_name": "HTMLView",
       "description": "",
       "description_tooltip": null,
       "layout": "IPY_MODEL_9dd0366b79ca4c92b1f442175fd43a3d",
       "placeholder": "​",
       "style": "IPY_MODEL_702f4bfb08264191ba7226aa2d866010",
       "value": "<h5><a href=\"https://github.com/nteract/hydrogen\">nteract/hydrogen</a></h5>\n<ul>\n<li><a href=\"https://github.com/nteract/hydrogen/issues/2008\">(#2008)</a>: <em>Uncaught Error: mobx-react-lite@3 requires mobx at least version 6 to be available</em> by <strong><a href=\"https://github.com/sbar365\">@sbar365</a></strong></li>\n<li><a href=\"https://github.com/nteract/hydrogen/issues/2002\">(#2002)</a>: <em>No kernel for grammar C++ found</em> by <strong><a href=\"https://github.com/Lemanr-ops\">@Lemanr-ops</a></strong></li>\n<li><a href=\"https://github.com/nteract/hydrogen/issues/1993\">(#1993)</a>: <em>hydrogen takes too long with df.shape or df.head()</em> by <strong><a href=\"https://github.com/Rcubes\">@Rcubes</a></strong></li>\n</ul>"
      }
     },
     "f82b5611e2bf49ad9616e5361fc8966e": {
      "model_module": "@jupyter-widgets/controls",
      "model_module_version": "1.5.0",
      "model_name": "HTMLModel",
      "state": {
       "_dom_classes": [],
       "_model_module": "@jupyter-widgets/controls",
       "_model_module_version": "1.5.0",
       "_model_name": "HTMLModel",
       "_view_count": null,
       "_view_module": "@jupyter-widgets/controls",
       "_view_module_version": "1.5.0",
       "_view_name": "HTMLView",
       "description": "",
       "description_tooltip": null,
       "layout": "IPY_MODEL_afca279ced404c528ed16eaf6ebd19fa",
       "placeholder": "​",
       "style": "IPY_MODEL_d42e151684f44f26afc184af007618bb",
       "value": "<h5><a href=\"https://github.com/nteract/nteract\">nteract/nteract</a></h5>\n<ul>\n<li><a href=\"https://github.com/nteract/nteract/issues/5283\">(#5283)</a>: <em>Possible regressions with 0.25</em> by <strong><a href=\"https://github.com/willingc\">@willingc</a></strong></li>\n<li><a href=\"https://github.com/nteract/nteract/issues/5254\">(#5254)</a>: _nteract doesnt start on windows _ by <strong><a href=\"https://github.com/shishini\">@shishini</a></strong></li>\n<li><a href=\"https://github.com/nteract/nteract/issues/5260\">(#5260)</a>: <em>Extensibility point for loggers</em> by <strong><a href=\"https://github.com/vivek1729\">@vivek1729</a></strong></li>\n</ul>"
      }
     },
     "f9404abedd2f492ea53943e7b6c96343": {
      "model_module": "@jupyter-widgets/base",
      "model_module_version": "1.2.0",
      "model_name": "LayoutModel",
      "state": {
       "_model_module": "@jupyter-widgets/base",
       "_model_module_version": "1.2.0",
       "_model_name": "LayoutModel",
       "_view_count": null,
       "_view_module": "@jupyter-widgets/base",
       "_view_module_version": "1.2.0",
       "_view_name": "LayoutView",
       "align_content": null,
       "align_items": null,
       "align_self": null,
       "border": null,
       "bottom": null,
       "display": null,
       "flex": null,
       "flex_flow": null,
       "grid_area": null,
       "grid_auto_columns": null,
       "grid_auto_flow": null,
       "grid_auto_rows": null,
       "grid_column": null,
       "grid_gap": null,
       "grid_row": null,
       "grid_template_areas": null,
       "grid_template_columns": null,
       "grid_template_rows": null,
       "height": null,
       "justify_content": null,
       "justify_items": null,
       "left": null,
       "margin": null,
       "max_height": null,
       "max_width": null,
       "min_height": null,
       "min_width": null,
       "object_fit": null,
       "object_position": null,
       "order": null,
       "overflow": null,
       "overflow_x": null,
       "overflow_y": null,
       "padding": null,
       "right": null,
       "top": null,
       "visibility": null,
       "width": null
      }
     },
     "fc4297e76ad74200adc24d4e717ace1d": {
      "model_module": "@jupyter-widgets/controls",
      "model_module_version": "1.5.0",
      "model_name": "HTMLModel",
      "state": {
       "_dom_classes": [],
       "_model_module": "@jupyter-widgets/controls",
       "_model_module_version": "1.5.0",
       "_model_name": "HTMLModel",
       "_view_count": null,
       "_view_module": "@jupyter-widgets/controls",
       "_view_module_version": "1.5.0",
       "_view_name": "HTMLView",
       "description": "",
       "description_tooltip": null,
       "layout": "IPY_MODEL_169cdfbf5b8b4805bfc51301dbbd6bb1",
       "placeholder": "​",
       "style": "IPY_MODEL_6fcd8c721a1b42d0af72cc8c6cdfa788",
       "value": "<h5><a href=\"https://github.com/nteract/nteract.io\">nteract/nteract.io</a></h5>\n<ul>\n<li><a href=\"https://github.com/nteract/nteract.io/issues/303\">(#303)</a>: <em>Question about https://slack.nteract.io</em> by <strong><a href=\"https://github.com/logankilpatrick\">@logankilpatrick</a></strong></li>\n</ul>"
      }
     },
     "fec0715a9e32435b826902dc53043011": {
      "model_module": "@jupyter-widgets/controls",
      "model_module_version": "1.5.0",
      "model_name": "ProgressStyleModel",
      "state": {
       "_model_module": "@jupyter-widgets/controls",
       "_model_module_version": "1.5.0",
       "_model_name": "ProgressStyleModel",
       "_view_count": null,
       "_view_module": "@jupyter-widgets/base",
       "_view_module_version": "1.2.0",
       "_view_name": "StyleView",
       "bar_color": null,
       "description_width": ""
      }
     }
    },
    "version_major": 2,
    "version_minor": 0
   }
  }
 },
 "nbformat": 4,
 "nbformat_minor": 4
}