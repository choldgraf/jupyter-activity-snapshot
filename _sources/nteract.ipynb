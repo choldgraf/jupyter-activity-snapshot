{
 "cells": [
  {
   "cell_type": "markdown",
   "id": "a10c148c",
   "metadata": {
    "papermill": {
     "duration": 0.041679,
     "end_time": "2021-11-10T01:33:34.941320",
     "exception": false,
     "start_time": "2021-11-10T01:33:34.899641",
     "status": "completed"
    },
    "tags": []
   },
   "source": [
    "# {glue:text}`nteract_github_org`\n",
    "\n",
    "**Activity from {glue:}`nteract_start` to {glue:}`nteract_stop`**"
   ]
  },
  {
   "cell_type": "code",
   "execution_count": 1,
   "id": "306d1a14",
   "metadata": {
    "execution": {
     "iopub.execute_input": "2021-11-10T01:33:35.024028Z",
     "iopub.status.busy": "2021-11-10T01:33:35.023370Z",
     "iopub.status.idle": "2021-11-10T01:33:36.642761Z",
     "shell.execute_reply": "2021-11-10T01:33:36.642069Z"
    },
    "papermill": {
     "duration": 1.661588,
     "end_time": "2021-11-10T01:33:36.642931",
     "exception": false,
     "start_time": "2021-11-10T01:33:34.981343",
     "status": "completed"
    },
    "tags": [
     "remove_cell"
    ]
   },
   "outputs": [],
   "source": [
    "from datetime import date\n",
    "from dateutil.relativedelta import relativedelta\n",
    "from myst_nb import glue\n",
    "import seaborn as sns\n",
    "import pandas as pd\n",
    "import numpy as np\n",
    "import altair as alt\n",
    "from markdown import markdown\n",
    "from IPython.display import Markdown\n",
    "from ipywidgets.widgets import HTML, Tab\n",
    "from ipywidgets import widgets\n",
    "from datetime import timedelta\n",
    "from matplotlib import pyplot as plt\n",
    "import os.path as op\n",
    "\n",
    "from warnings import simplefilter\n",
    "simplefilter('ignore')"
   ]
  },
  {
   "cell_type": "code",
   "execution_count": 2,
   "id": "4f17ff85",
   "metadata": {
    "execution": {
     "iopub.execute_input": "2021-11-10T01:33:36.735220Z",
     "iopub.status.busy": "2021-11-10T01:33:36.734579Z",
     "iopub.status.idle": "2021-11-10T01:33:36.736820Z",
     "shell.execute_reply": "2021-11-10T01:33:36.736187Z"
    },
    "papermill": {
     "duration": 0.052279,
     "end_time": "2021-11-10T01:33:36.736967",
     "exception": false,
     "start_time": "2021-11-10T01:33:36.684688",
     "status": "completed"
    },
    "tags": [
     "remove_cell"
    ]
   },
   "outputs": [],
   "source": [
    "# Altair config\n",
    "def author_url(author):\n",
    "    return f\"https://github.com/{author}\"\n",
    "\n",
    "def alt_theme():\n",
    "    return {\n",
    "        'config': {\n",
    "            'axisLeft': {\n",
    "                'labelFontSize': 15,\n",
    "            },\n",
    "            'axisBottom': {\n",
    "                'labelFontSize': 15,\n",
    "            },\n",
    "        }\n",
    "    }\n",
    "\n",
    "alt.themes.register('my_theme', alt_theme)\n",
    "alt.themes.enable(\"my_theme\")\n",
    "\n",
    "\n",
    "# Define colors we'll use for GitHub membership\n",
    "author_types = ['MEMBER', 'CONTRIBUTOR', 'COLLABORATOR', \"NONE\"]\n",
    "\n",
    "author_palette = np.array(sns.palettes.blend_palette([\"lightgrey\", \"lightgreen\", \"darkgreen\"], 4)) * 256\n",
    "author_colors = [\"rgb({}, {}, {})\".format(*color) for color in author_palette]\n",
    "author_color_dict = {key: val for key, val in zip(author_types, author_palette)}"
   ]
  },
  {
   "cell_type": "code",
   "execution_count": 3,
   "id": "548a2e52",
   "metadata": {
    "execution": {
     "iopub.execute_input": "2021-11-10T01:33:36.816825Z",
     "iopub.status.busy": "2021-11-10T01:33:36.816099Z",
     "iopub.status.idle": "2021-11-10T01:33:36.819891Z",
     "shell.execute_reply": "2021-11-10T01:33:36.820415Z"
    },
    "papermill": {
     "duration": 0.044112,
     "end_time": "2021-11-10T01:33:36.820577",
     "exception": false,
     "start_time": "2021-11-10T01:33:36.776465",
     "status": "completed"
    },
    "tags": [
     "parameters",
     "hide_input",
     "remove_cell"
    ]
   },
   "outputs": [],
   "source": [
    "github_org = \"jupyterhub\"\n",
    "top_n_repos = 15\n",
    "n_days = 10"
   ]
  },
  {
   "cell_type": "code",
   "execution_count": 4,
   "id": "69c43ba0",
   "metadata": {
    "execution": {
     "iopub.execute_input": "2021-11-10T01:33:36.905326Z",
     "iopub.status.busy": "2021-11-10T01:33:36.904585Z",
     "iopub.status.idle": "2021-11-10T01:33:36.909313Z",
     "shell.execute_reply": "2021-11-10T01:33:36.908745Z"
    },
    "papermill": {
     "duration": 0.046015,
     "end_time": "2021-11-10T01:33:36.909457",
     "exception": false,
     "start_time": "2021-11-10T01:33:36.863442",
     "status": "completed"
    },
    "tags": [
     "injected-parameters",
     "remove-cell"
    ]
   },
   "outputs": [],
   "source": [
    "# Parameters\n",
    "github_org = \"nteract\"\n",
    "n_days = 90\n"
   ]
  },
  {
   "cell_type": "code",
   "execution_count": 5,
   "id": "fd0dd783",
   "metadata": {
    "execution": {
     "iopub.execute_input": "2021-11-10T01:33:36.993800Z",
     "iopub.status.busy": "2021-11-10T01:33:36.993244Z",
     "iopub.status.idle": "2021-11-10T01:33:36.999739Z",
     "shell.execute_reply": "2021-11-10T01:33:37.000202Z"
    },
    "papermill": {
     "duration": 0.052019,
     "end_time": "2021-11-10T01:33:37.000353",
     "exception": false,
     "start_time": "2021-11-10T01:33:36.948334",
     "status": "completed"
    },
    "tags": [
     "remove_cell"
    ]
   },
   "outputs": [
    {
     "data": {
      "application/papermill.record/text/plain": "'nteract'"
     },
     "metadata": {
      "scrapbook": {
       "mime_prefix": "application/papermill.record/",
       "name": "nteract_github_org"
      }
     },
     "output_type": "display_data"
    },
    {
     "data": {
      "application/papermill.record/text/plain": "'2021-08-12'"
     },
     "metadata": {
      "scrapbook": {
       "mime_prefix": "application/papermill.record/",
       "name": "nteract_start"
      }
     },
     "output_type": "display_data"
    },
    {
     "data": {
      "application/papermill.record/text/plain": "'2021-11-10'"
     },
     "metadata": {
      "scrapbook": {
       "mime_prefix": "application/papermill.record/",
       "name": "nteract_stop"
      }
     },
     "output_type": "display_data"
    }
   ],
   "source": [
    "############################################################\n",
    "# Variables\n",
    "stop = date.today()\n",
    "start = date.today() - relativedelta(days=n_days)\n",
    "\n",
    "# Strings for use in queries\n",
    "start_date = f\"{start:%Y-%m-%d}\"\n",
    "stop_date = f\"{stop:%Y-%m-%d}\"\n",
    "\n",
    "# Glue variables for use in markdown\n",
    "glue(f\"{github_org}_github_org\", github_org, display=False)\n",
    "glue(f\"{github_org}_start\", start_date, display=False)\n",
    "glue(f\"{github_org}_stop\", stop_date, display=False)"
   ]
  },
  {
   "cell_type": "markdown",
   "id": "f12fa128",
   "metadata": {
    "papermill": {
     "duration": 0.042778,
     "end_time": "2021-11-10T01:33:37.084233",
     "exception": false,
     "start_time": "2021-11-10T01:33:37.041455",
     "status": "completed"
    },
    "tags": []
   },
   "source": [
    "## Load data\n",
    "\n",
    "Load and clean up the data"
   ]
  },
  {
   "cell_type": "code",
   "execution_count": 6,
   "id": "327e5427",
   "metadata": {
    "execution": {
     "iopub.execute_input": "2021-11-10T01:33:37.178897Z",
     "iopub.status.busy": "2021-11-10T01:33:37.178010Z",
     "iopub.status.idle": "2021-11-10T01:33:37.319496Z",
     "shell.execute_reply": "2021-11-10T01:33:37.318907Z"
    },
    "papermill": {
     "duration": 0.194587,
     "end_time": "2021-11-10T01:33:37.319701",
     "exception": false,
     "start_time": "2021-11-10T01:33:37.125114",
     "status": "completed"
    },
    "tags": []
   },
   "outputs": [],
   "source": [
    "from pathlib import Path\n",
    "path_data = Path(\"../data\")\n",
    "comments = pd.read_csv(path_data.joinpath('comments.csv'), index_col=None).drop_duplicates()\n",
    "issues = pd.read_csv(path_data.joinpath('issues.csv'), index_col=None).drop_duplicates()\n",
    "prs = pd.read_csv(path_data.joinpath('prs.csv'), index_col=None).drop_duplicates()\n",
    "\n",
    "for idata in [comments, issues, prs]:\n",
    "    idata.query(\"org == @github_org\", inplace=True)"
   ]
  },
  {
   "cell_type": "code",
   "execution_count": 7,
   "id": "88a8317b",
   "metadata": {
    "execution": {
     "iopub.execute_input": "2021-11-10T01:33:37.414051Z",
     "iopub.status.busy": "2021-11-10T01:33:37.413371Z",
     "iopub.status.idle": "2021-11-10T01:33:37.415984Z",
     "shell.execute_reply": "2021-11-10T01:33:37.416534Z"
    },
    "papermill": {
     "duration": 0.052748,
     "end_time": "2021-11-10T01:33:37.416701",
     "exception": false,
     "start_time": "2021-11-10T01:33:37.363953",
     "status": "completed"
    },
    "tags": []
   },
   "outputs": [],
   "source": [
    "# What are the top N repos, we will only plot these in the full data plots\n",
    "top_commented_repos = comments.groupby(\"repo\").count().sort_values(\"createdAt\", ascending=False)['createdAt']\n",
    "use_repos = top_commented_repos.head(top_n_repos).index.tolist()"
   ]
  },
  {
   "cell_type": "markdown",
   "id": "0682faf5",
   "metadata": {
    "papermill": {
     "duration": 0.041477,
     "end_time": "2021-11-10T01:33:37.498964",
     "exception": false,
     "start_time": "2021-11-10T01:33:37.457487",
     "status": "completed"
    },
    "tags": [],
    "toc-hr-collapsed": false
   },
   "source": [
    "## Merged Pull requests\n",
    "\n",
    "Here's an analysis of **merged pull requests** across each of the repositories in the Jupyter\n",
    "ecosystem."
   ]
  },
  {
   "cell_type": "code",
   "execution_count": 8,
   "id": "9ff973da",
   "metadata": {
    "execution": {
     "iopub.execute_input": "2021-11-10T01:33:37.595396Z",
     "iopub.status.busy": "2021-11-10T01:33:37.594754Z",
     "iopub.status.idle": "2021-11-10T01:33:37.597336Z",
     "shell.execute_reply": "2021-11-10T01:33:37.596749Z"
    },
    "papermill": {
     "duration": 0.055783,
     "end_time": "2021-11-10T01:33:37.597495",
     "exception": false,
     "start_time": "2021-11-10T01:33:37.541712",
     "status": "completed"
    },
    "tags": [
     "remove_cell"
    ]
   },
   "outputs": [],
   "source": [
    "merged = prs.query('state == \"MERGED\" and closedAt > @start_date and closedAt < @stop_date')"
   ]
  },
  {
   "cell_type": "code",
   "execution_count": 9,
   "id": "4c4803e7",
   "metadata": {
    "execution": {
     "iopub.execute_input": "2021-11-10T01:33:37.694133Z",
     "iopub.status.busy": "2021-11-10T01:33:37.693280Z",
     "iopub.status.idle": "2021-11-10T01:33:37.733263Z",
     "shell.execute_reply": "2021-11-10T01:33:37.732076Z"
    },
    "papermill": {
     "duration": 0.093773,
     "end_time": "2021-11-10T01:33:37.733472",
     "exception": false,
     "start_time": "2021-11-10T01:33:37.639699",
     "status": "completed"
    },
    "tags": [
     "hide_input"
    ]
   },
   "outputs": [
    {
     "data": {
      "text/html": [
       "\n",
       "<div id=\"altair-viz-98e80d63ff17417ab591eff5a8d674d2\"></div>\n",
       "<script type=\"text/javascript\">\n",
       "  (function(spec, embedOpt){\n",
       "    let outputDiv = document.currentScript.previousElementSibling;\n",
       "    if (outputDiv.id !== \"altair-viz-98e80d63ff17417ab591eff5a8d674d2\") {\n",
       "      outputDiv = document.getElementById(\"altair-viz-98e80d63ff17417ab591eff5a8d674d2\");\n",
       "    }\n",
       "    const paths = {\n",
       "      \"vega\": \"https://cdn.jsdelivr.net/npm//vega@5?noext\",\n",
       "      \"vega-lib\": \"https://cdn.jsdelivr.net/npm//vega-lib?noext\",\n",
       "      \"vega-lite\": \"https://cdn.jsdelivr.net/npm//vega-lite@4.8.1?noext\",\n",
       "      \"vega-embed\": \"https://cdn.jsdelivr.net/npm//vega-embed@6?noext\",\n",
       "    };\n",
       "\n",
       "    function loadScript(lib) {\n",
       "      return new Promise(function(resolve, reject) {\n",
       "        var s = document.createElement('script');\n",
       "        s.src = paths[lib];\n",
       "        s.async = true;\n",
       "        s.onload = () => resolve(paths[lib]);\n",
       "        s.onerror = () => reject(`Error loading script: ${paths[lib]}`);\n",
       "        document.getElementsByTagName(\"head\")[0].appendChild(s);\n",
       "      });\n",
       "    }\n",
       "\n",
       "    function showError(err) {\n",
       "      outputDiv.innerHTML = `<div class=\"error\" style=\"color:red;\">${err}</div>`;\n",
       "      throw err;\n",
       "    }\n",
       "\n",
       "    function displayChart(vegaEmbed) {\n",
       "      vegaEmbed(outputDiv, spec, embedOpt)\n",
       "        .catch(err => showError(`Javascript Error: ${err.message}<br>This usually means there's a typo in your chart specification. See the javascript console for the full traceback.`));\n",
       "    }\n",
       "\n",
       "    if(typeof define === \"function\" && define.amd) {\n",
       "      requirejs.config({paths});\n",
       "      require([\"vega-embed\"], displayChart, err => showError(`Error loading script: ${err.message}`));\n",
       "    } else if (typeof vegaEmbed === \"function\") {\n",
       "      displayChart(vegaEmbed);\n",
       "    } else {\n",
       "      loadScript(\"vega\")\n",
       "        .then(() => loadScript(\"vega-lite\"))\n",
       "        .then(() => loadScript(\"vega-embed\"))\n",
       "        .catch(showError)\n",
       "        .then(() => displayChart(vegaEmbed));\n",
       "    }\n",
       "  })({\"config\": {\"axisLeft\": {\"labelFontSize\": 15}, \"axisBottom\": {\"labelFontSize\": 15}}, \"data\": {\"name\": \"data-66d63bee2d69a0706c3f88570140fd6b\"}, \"mark\": \"bar\", \"encoding\": {\"color\": {\"type\": \"nominal\", \"field\": \"org\"}, \"x\": {\"type\": \"nominal\", \"field\": \"repo\", \"sort\": [\"nteract\", \"papermill\", \"outputs\", \"meeting-minutes\", \"nteract.io\", \"testbook\", \"hydrogen\"]}, \"y\": {\"type\": \"quantitative\", \"field\": \"author\"}}, \"title\": \"Merged PRs in the last 90 days\", \"$schema\": \"https://vega.github.io/schema/vega-lite/v4.8.1.json\", \"datasets\": {\"data-66d63bee2d69a0706c3f88570140fd6b\": [{\"org\": \"nteract\", \"repo\": \"nteract\", \"author\": 16}, {\"org\": \"nteract\", \"repo\": \"papermill\", \"author\": 6}, {\"org\": \"nteract\", \"repo\": \"outputs\", \"author\": 5}, {\"org\": \"nteract\", \"repo\": \"meeting-minutes\", \"author\": 3}, {\"org\": \"nteract\", \"repo\": \"nteract.io\", \"author\": 2}, {\"org\": \"nteract\", \"repo\": \"testbook\", \"author\": 2}, {\"org\": \"nteract\", \"repo\": \"hydrogen\", \"author\": 1}]}}, {\"mode\": \"vega-lite\"});\n",
       "</script>"
      ],
      "text/plain": [
       "alt.Chart(...)"
      ]
     },
     "execution_count": 9,
     "metadata": {},
     "output_type": "execute_result"
    }
   ],
   "source": [
    "prs_by_repo = merged.groupby(['org', 'repo']).count()['author'].reset_index().sort_values(['org', 'author'], ascending=False)\n",
    "alt.Chart(data=prs_by_repo, title=f\"Merged PRs in the last {n_days} days\").mark_bar().encode(\n",
    "    x=alt.X('repo', sort=prs_by_repo['repo'].values.tolist()),\n",
    "    y='author',\n",
    "    color='org'\n",
    ")"
   ]
  },
  {
   "cell_type": "markdown",
   "id": "8c052dfb",
   "metadata": {
    "papermill": {
     "duration": 0.043968,
     "end_time": "2021-11-10T01:33:37.824326",
     "exception": false,
     "start_time": "2021-11-10T01:33:37.780358",
     "status": "completed"
    },
    "tags": []
   },
   "source": [
    "### Authoring and merging stats by repository\n",
    "\n",
    "Let's see who has been doing most of the PR authoring and merging. The PR author is generally the\n",
    "person that implemented a change in the repository (code, documentation, etc). The PR merger is\n",
    "the person that \"pressed the green button\" and got the change into the main codebase."
   ]
  },
  {
   "cell_type": "code",
   "execution_count": 10,
   "id": "2ad08f6f",
   "metadata": {
    "execution": {
     "iopub.execute_input": "2021-11-10T01:33:37.915319Z",
     "iopub.status.busy": "2021-11-10T01:33:37.914589Z",
     "iopub.status.idle": "2021-11-10T01:33:37.928318Z",
     "shell.execute_reply": "2021-11-10T01:33:37.927661Z"
    },
    "papermill": {
     "duration": 0.061029,
     "end_time": "2021-11-10T01:33:37.928473",
     "exception": false,
     "start_time": "2021-11-10T01:33:37.867444",
     "status": "completed"
    },
    "tags": [
     "remove_cell"
    ]
   },
   "outputs": [],
   "source": [
    "# Prep our merging DF\n",
    "merged_by_repo = merged.groupby(['repo', 'author'], as_index=False).agg({'id': 'count', 'authorAssociation': 'first'}).rename(columns={'id': \"authored\", 'author': 'username'})\n",
    "closed_by_repo = merged.groupby(['repo', 'mergedBy']).count()['id'].reset_index().rename(columns={'id': \"closed\", \"mergedBy\": \"username\"})"
   ]
  },
  {
   "cell_type": "code",
   "execution_count": 11,
   "id": "264da281",
   "metadata": {
    "execution": {
     "iopub.execute_input": "2021-11-10T01:33:38.045564Z",
     "iopub.status.busy": "2021-11-10T01:33:38.044781Z",
     "iopub.status.idle": "2021-11-10T01:33:38.048042Z",
     "shell.execute_reply": "2021-11-10T01:33:38.048614Z"
    },
    "papermill": {
     "duration": 0.076972,
     "end_time": "2021-11-10T01:33:38.048815",
     "exception": false,
     "start_time": "2021-11-10T01:33:37.971843",
     "status": "completed"
    },
    "tags": [
     "hide_input"
    ]
   },
   "outputs": [
    {
     "data": {
      "text/html": [
       "\n",
       "<div id=\"altair-viz-98ecc5a12923462284e79a0632f6c98d\"></div>\n",
       "<script type=\"text/javascript\">\n",
       "  (function(spec, embedOpt){\n",
       "    let outputDiv = document.currentScript.previousElementSibling;\n",
       "    if (outputDiv.id !== \"altair-viz-98ecc5a12923462284e79a0632f6c98d\") {\n",
       "      outputDiv = document.getElementById(\"altair-viz-98ecc5a12923462284e79a0632f6c98d\");\n",
       "    }\n",
       "    const paths = {\n",
       "      \"vega\": \"https://cdn.jsdelivr.net/npm//vega@5?noext\",\n",
       "      \"vega-lib\": \"https://cdn.jsdelivr.net/npm//vega-lib?noext\",\n",
       "      \"vega-lite\": \"https://cdn.jsdelivr.net/npm//vega-lite@4.8.1?noext\",\n",
       "      \"vega-embed\": \"https://cdn.jsdelivr.net/npm//vega-embed@6?noext\",\n",
       "    };\n",
       "\n",
       "    function loadScript(lib) {\n",
       "      return new Promise(function(resolve, reject) {\n",
       "        var s = document.createElement('script');\n",
       "        s.src = paths[lib];\n",
       "        s.async = true;\n",
       "        s.onload = () => resolve(paths[lib]);\n",
       "        s.onerror = () => reject(`Error loading script: ${paths[lib]}`);\n",
       "        document.getElementsByTagName(\"head\")[0].appendChild(s);\n",
       "      });\n",
       "    }\n",
       "\n",
       "    function showError(err) {\n",
       "      outputDiv.innerHTML = `<div class=\"error\" style=\"color:red;\">${err}</div>`;\n",
       "      throw err;\n",
       "    }\n",
       "\n",
       "    function displayChart(vegaEmbed) {\n",
       "      vegaEmbed(outputDiv, spec, embedOpt)\n",
       "        .catch(err => showError(`Javascript Error: ${err.message}<br>This usually means there's a typo in your chart specification. See the javascript console for the full traceback.`));\n",
       "    }\n",
       "\n",
       "    if(typeof define === \"function\" && define.amd) {\n",
       "      requirejs.config({paths});\n",
       "      require([\"vega-embed\"], displayChart, err => showError(`Error loading script: ${err.message}`));\n",
       "    } else if (typeof vegaEmbed === \"function\") {\n",
       "      displayChart(vegaEmbed);\n",
       "    } else {\n",
       "      loadScript(\"vega\")\n",
       "        .then(() => loadScript(\"vega-lite\"))\n",
       "        .then(() => loadScript(\"vega-embed\"))\n",
       "        .catch(showError)\n",
       "        .then(() => displayChart(vegaEmbed));\n",
       "    }\n",
       "  })({\"config\": {\"axisLeft\": {\"labelFontSize\": 15}, \"axisBottom\": {\"labelFontSize\": 15}}, \"data\": {\"name\": \"data-0e2bd405526f5cf91f1d428709145964\"}, \"mark\": \"bar\", \"encoding\": {\"color\": {\"type\": \"nominal\", \"field\": \"authorAssociation\", \"scale\": {\"domain\": [\"MEMBER\", \"CONTRIBUTOR\", \"COLLABORATOR\", \"NONE\"], \"range\": [\"rgb(211.82745098039214, 211.82745098039214, 211.82745098039214)\", \"rgb(166.98562091503268, 229.89803921568628, 166.98562091503268)\", \"rgb(96.37647058823529, 192.75294117647059, 96.37647058823529)\", \"rgb(0.0, 100.3921568627451, 0.0)\"]}}, \"x\": {\"type\": \"nominal\", \"field\": \"username\"}, \"y\": {\"type\": \"quantitative\", \"field\": \"authored\"}}, \"title\": \"PR authors for nteract in the last 90 days\", \"$schema\": \"https://vega.github.io/schema/vega-lite/v4.8.1.json\", \"datasets\": {\"data-0e2bd405526f5cf91f1d428709145964\": [{\"username\": \"captainsafia\", \"authored\": 12, \"authorAssociation\": \"MEMBER\"}, {\"username\": \"bryanchen-d\", \"authored\": 4, \"authorAssociation\": \"MEMBER\"}, {\"username\": \"vivek1729\", \"authored\": 3, \"authorAssociation\": \"MEMBER\"}, {\"username\": \"ronnie-llamado\", \"authored\": 2, \"authorAssociation\": \"CONTRIBUTOR\"}, {\"username\": \"CrystallineCat\", \"authored\": 2, \"authorAssociation\": \"MEMBER\"}, {\"username\": \"Calder-Ty\", \"authored\": 1, \"authorAssociation\": \"CONTRIBUTOR\"}, {\"username\": \"miduncan\", \"authored\": 1, \"authorAssociation\": \"MEMBER\"}, {\"username\": \"tanguycdls\", \"authored\": 1, \"authorAssociation\": \"CONTRIBUTOR\"}, {\"username\": \"onevirus\", \"authored\": 1, \"authorAssociation\": \"CONTRIBUTOR\"}, {\"username\": \"msftenhanceprovenance\", \"authored\": 1, \"authorAssociation\": \"CONTRIBUTOR\"}, {\"username\": \"choldgraf\", \"authored\": 1, \"authorAssociation\": \"MEMBER\"}, {\"username\": \"isabela-pf\", \"authored\": 1, \"authorAssociation\": \"MEMBER\"}, {\"username\": \"chkoss\", \"authored\": 1, \"authorAssociation\": \"CONTRIBUTOR\"}, {\"username\": \"archmoj\", \"authored\": 1, \"authorAssociation\": \"CONTRIBUTOR\"}, {\"username\": \"amin-nejad\", \"authored\": 1, \"authorAssociation\": \"CONTRIBUTOR\"}, {\"username\": \"alpaix\", \"authored\": 1, \"authorAssociation\": \"MEMBER\"}, {\"username\": \"willingc\", \"authored\": 1, \"authorAssociation\": \"MEMBER\"}]}}, {\"mode\": \"vega-lite\"});\n",
       "</script>"
      ],
      "text/plain": [
       "alt.Chart(...)"
      ]
     },
     "execution_count": 11,
     "metadata": {},
     "output_type": "execute_result"
    }
   ],
   "source": [
    "charts = []\n",
    "title = f\"PR authors for {github_org} in the last {n_days} days\"\n",
    "this_data = merged_by_repo.replace(np.nan, 0).groupby('username', as_index=False).agg({'authored': 'sum', 'authorAssociation': 'first'})\n",
    "this_data = this_data.sort_values('authored', ascending=False)\n",
    "ch = alt.Chart(data=this_data, title=title).mark_bar().encode(\n",
    "    x='username',\n",
    "    y='authored',\n",
    "    color=alt.Color('authorAssociation', scale=alt.Scale(domain=author_types, range=author_colors))\n",
    ")\n",
    "ch"
   ]
  },
  {
   "cell_type": "code",
   "execution_count": 12,
   "id": "1ed8da90",
   "metadata": {
    "execution": {
     "iopub.execute_input": "2021-11-10T01:33:38.160724Z",
     "iopub.status.busy": "2021-11-10T01:33:38.148956Z",
     "iopub.status.idle": "2021-11-10T01:33:38.164679Z",
     "shell.execute_reply": "2021-11-10T01:33:38.164145Z"
    },
    "papermill": {
     "duration": 0.070218,
     "end_time": "2021-11-10T01:33:38.164846",
     "exception": false,
     "start_time": "2021-11-10T01:33:38.094628",
     "status": "completed"
    },
    "tags": [
     "hide_input"
    ]
   },
   "outputs": [
    {
     "data": {
      "text/html": [
       "\n",
       "<div id=\"altair-viz-6368ad4a912a49c99530fcfaf23a31f5\"></div>\n",
       "<script type=\"text/javascript\">\n",
       "  (function(spec, embedOpt){\n",
       "    let outputDiv = document.currentScript.previousElementSibling;\n",
       "    if (outputDiv.id !== \"altair-viz-6368ad4a912a49c99530fcfaf23a31f5\") {\n",
       "      outputDiv = document.getElementById(\"altair-viz-6368ad4a912a49c99530fcfaf23a31f5\");\n",
       "    }\n",
       "    const paths = {\n",
       "      \"vega\": \"https://cdn.jsdelivr.net/npm//vega@5?noext\",\n",
       "      \"vega-lib\": \"https://cdn.jsdelivr.net/npm//vega-lib?noext\",\n",
       "      \"vega-lite\": \"https://cdn.jsdelivr.net/npm//vega-lite@4.8.1?noext\",\n",
       "      \"vega-embed\": \"https://cdn.jsdelivr.net/npm//vega-embed@6?noext\",\n",
       "    };\n",
       "\n",
       "    function loadScript(lib) {\n",
       "      return new Promise(function(resolve, reject) {\n",
       "        var s = document.createElement('script');\n",
       "        s.src = paths[lib];\n",
       "        s.async = true;\n",
       "        s.onload = () => resolve(paths[lib]);\n",
       "        s.onerror = () => reject(`Error loading script: ${paths[lib]}`);\n",
       "        document.getElementsByTagName(\"head\")[0].appendChild(s);\n",
       "      });\n",
       "    }\n",
       "\n",
       "    function showError(err) {\n",
       "      outputDiv.innerHTML = `<div class=\"error\" style=\"color:red;\">${err}</div>`;\n",
       "      throw err;\n",
       "    }\n",
       "\n",
       "    function displayChart(vegaEmbed) {\n",
       "      vegaEmbed(outputDiv, spec, embedOpt)\n",
       "        .catch(err => showError(`Javascript Error: ${err.message}<br>This usually means there's a typo in your chart specification. See the javascript console for the full traceback.`));\n",
       "    }\n",
       "\n",
       "    if(typeof define === \"function\" && define.amd) {\n",
       "      requirejs.config({paths});\n",
       "      require([\"vega-embed\"], displayChart, err => showError(`Error loading script: ${err.message}`));\n",
       "    } else if (typeof vegaEmbed === \"function\") {\n",
       "      displayChart(vegaEmbed);\n",
       "    } else {\n",
       "      loadScript(\"vega\")\n",
       "        .then(() => loadScript(\"vega-lite\"))\n",
       "        .then(() => loadScript(\"vega-embed\"))\n",
       "        .catch(showError)\n",
       "        .then(() => displayChart(vegaEmbed));\n",
       "    }\n",
       "  })({\"config\": {\"axisLeft\": {\"labelFontSize\": 15}, \"axisBottom\": {\"labelFontSize\": 15}}, \"data\": {\"name\": \"data-154885679fbddd18cf92b4ae38676f49\"}, \"mark\": \"bar\", \"encoding\": {\"x\": {\"type\": \"nominal\", \"field\": \"username\"}, \"y\": {\"type\": \"quantitative\", \"field\": \"closed\"}}, \"title\": \"Merges for nteract in the last 90 days\", \"$schema\": \"https://vega.github.io/schema/vega-lite/v4.8.1.json\", \"datasets\": {\"data-154885679fbddd18cf92b4ae38676f49\": [{\"repo\": \"hydrogen\", \"username\": \"aminya\", \"closed\": 1}, {\"repo\": \"meeting-minutes\", \"username\": \"captainsafia\", \"closed\": 2}, {\"repo\": \"meeting-minutes\", \"username\": \"willingc\", \"closed\": 1}, {\"repo\": \"nteract\", \"username\": \"CrystallineCat\", \"closed\": 1}, {\"repo\": \"nteract\", \"username\": \"alpaix\", \"closed\": 1}, {\"repo\": \"nteract\", \"username\": \"bryanchen-d\", \"closed\": 2}, {\"repo\": \"nteract\", \"username\": \"captainsafia\", \"closed\": 12}, {\"repo\": \"nteract.io\", \"username\": \"captainsafia\", \"closed\": 2}, {\"repo\": \"outputs\", \"username\": \"captainsafia\", \"closed\": 5}, {\"repo\": \"papermill\", \"username\": \"MSeal\", \"closed\": 5}, {\"repo\": \"papermill\", \"username\": \"willingc\", \"closed\": 1}, {\"repo\": \"testbook\", \"username\": \"MSeal\", \"closed\": 2}]}}, {\"mode\": \"vega-lite\"});\n",
       "</script>"
      ],
      "text/plain": [
       "alt.Chart(...)"
      ]
     },
     "execution_count": 12,
     "metadata": {},
     "output_type": "execute_result"
    }
   ],
   "source": [
    "charts = []\n",
    "title = f\"Merges for {github_org} in the last {n_days} days\"\n",
    "ch = alt.Chart(data=closed_by_repo.replace(np.nan, 0), title=title).mark_bar().encode(\n",
    "    x='username',\n",
    "    y='closed',\n",
    ")\n",
    "ch"
   ]
  },
  {
   "cell_type": "markdown",
   "id": "e441ddcb",
   "metadata": {
    "papermill": {
     "duration": 0.046616,
     "end_time": "2021-11-10T01:33:38.262140",
     "exception": false,
     "start_time": "2021-11-10T01:33:38.215524",
     "status": "completed"
    },
    "tags": []
   },
   "source": [
    "## Issues\n",
    "\n",
    "Issues are **conversations** that happen on our GitHub repositories. Here's an\n",
    "analysis of issues across the Jupyter organizations."
   ]
  },
  {
   "cell_type": "code",
   "execution_count": 13,
   "id": "96d75966",
   "metadata": {
    "execution": {
     "iopub.execute_input": "2021-11-10T01:33:38.358775Z",
     "iopub.status.busy": "2021-11-10T01:33:38.358079Z",
     "iopub.status.idle": "2021-11-10T01:33:38.371018Z",
     "shell.execute_reply": "2021-11-10T01:33:38.371572Z"
    },
    "papermill": {
     "duration": 0.063208,
     "end_time": "2021-11-10T01:33:38.371766",
     "exception": false,
     "start_time": "2021-11-10T01:33:38.308558",
     "status": "completed"
    },
    "tags": [
     "remove_cell"
    ]
   },
   "outputs": [],
   "source": [
    "created = issues.query('state == \"OPEN\" and createdAt > @start_date and createdAt < @stop_date')\n",
    "closed = issues.query('state == \"CLOSED\" and closedAt > @start_date and closedAt < @stop_date')"
   ]
  },
  {
   "cell_type": "code",
   "execution_count": 14,
   "id": "77ba2bd8",
   "metadata": {
    "execution": {
     "iopub.execute_input": "2021-11-10T01:33:38.468337Z",
     "iopub.status.busy": "2021-11-10T01:33:38.467650Z",
     "iopub.status.idle": "2021-11-10T01:33:38.498535Z",
     "shell.execute_reply": "2021-11-10T01:33:38.499088Z"
    },
    "papermill": {
     "duration": 0.080694,
     "end_time": "2021-11-10T01:33:38.499276",
     "exception": false,
     "start_time": "2021-11-10T01:33:38.418582",
     "status": "completed"
    },
    "tags": [
     "hide_input"
    ]
   },
   "outputs": [
    {
     "data": {
      "text/html": [
       "\n",
       "<div id=\"altair-viz-a7da9c878b444ee7a745e8432fb6d487\"></div>\n",
       "<script type=\"text/javascript\">\n",
       "  (function(spec, embedOpt){\n",
       "    let outputDiv = document.currentScript.previousElementSibling;\n",
       "    if (outputDiv.id !== \"altair-viz-a7da9c878b444ee7a745e8432fb6d487\") {\n",
       "      outputDiv = document.getElementById(\"altair-viz-a7da9c878b444ee7a745e8432fb6d487\");\n",
       "    }\n",
       "    const paths = {\n",
       "      \"vega\": \"https://cdn.jsdelivr.net/npm//vega@5?noext\",\n",
       "      \"vega-lib\": \"https://cdn.jsdelivr.net/npm//vega-lib?noext\",\n",
       "      \"vega-lite\": \"https://cdn.jsdelivr.net/npm//vega-lite@4.8.1?noext\",\n",
       "      \"vega-embed\": \"https://cdn.jsdelivr.net/npm//vega-embed@6?noext\",\n",
       "    };\n",
       "\n",
       "    function loadScript(lib) {\n",
       "      return new Promise(function(resolve, reject) {\n",
       "        var s = document.createElement('script');\n",
       "        s.src = paths[lib];\n",
       "        s.async = true;\n",
       "        s.onload = () => resolve(paths[lib]);\n",
       "        s.onerror = () => reject(`Error loading script: ${paths[lib]}`);\n",
       "        document.getElementsByTagName(\"head\")[0].appendChild(s);\n",
       "      });\n",
       "    }\n",
       "\n",
       "    function showError(err) {\n",
       "      outputDiv.innerHTML = `<div class=\"error\" style=\"color:red;\">${err}</div>`;\n",
       "      throw err;\n",
       "    }\n",
       "\n",
       "    function displayChart(vegaEmbed) {\n",
       "      vegaEmbed(outputDiv, spec, embedOpt)\n",
       "        .catch(err => showError(`Javascript Error: ${err.message}<br>This usually means there's a typo in your chart specification. See the javascript console for the full traceback.`));\n",
       "    }\n",
       "\n",
       "    if(typeof define === \"function\" && define.amd) {\n",
       "      requirejs.config({paths});\n",
       "      require([\"vega-embed\"], displayChart, err => showError(`Error loading script: ${err.message}`));\n",
       "    } else if (typeof vegaEmbed === \"function\") {\n",
       "      displayChart(vegaEmbed);\n",
       "    } else {\n",
       "      loadScript(\"vega\")\n",
       "        .then(() => loadScript(\"vega-lite\"))\n",
       "        .then(() => loadScript(\"vega-embed\"))\n",
       "        .catch(showError)\n",
       "        .then(() => displayChart(vegaEmbed));\n",
       "    }\n",
       "  })({\"config\": {\"axisLeft\": {\"labelFontSize\": 15}, \"axisBottom\": {\"labelFontSize\": 15}}, \"data\": {\"name\": \"data-bbbe5008edbaf292385269733bca8cba\"}, \"mark\": \"bar\", \"encoding\": {\"x\": {\"type\": \"nominal\", \"field\": \"repo\", \"sort\": [\"hydrogen\", \"nteract\", \"papermill\", \"testbook\", \"commuter\", \"outputs\", \"scrapbook\", \"semiotic\"]}, \"y\": {\"type\": \"quantitative\", \"field\": \"number\"}}, \"title\": \"Issues created in the last 90 days\", \"$schema\": \"https://vega.github.io/schema/vega-lite/v4.8.1.json\", \"datasets\": {\"data-bbbe5008edbaf292385269733bca8cba\": [{\"org\": \"nteract\", \"repo\": \"commuter\", \"number\": 2, \"org/repo\": \"nteract/commuter\"}, {\"org\": \"nteract\", \"repo\": \"hydrogen\", \"number\": 9, \"org/repo\": \"nteract/hydrogen\"}, {\"org\": \"nteract\", \"repo\": \"nteract\", \"number\": 7, \"org/repo\": \"nteract/nteract\"}, {\"org\": \"nteract\", \"repo\": \"outputs\", \"number\": 1, \"org/repo\": \"nteract/outputs\"}, {\"org\": \"nteract\", \"repo\": \"papermill\", \"number\": 6, \"org/repo\": \"nteract/papermill\"}, {\"org\": \"nteract\", \"repo\": \"scrapbook\", \"number\": 1, \"org/repo\": \"nteract/scrapbook\"}, {\"org\": \"nteract\", \"repo\": \"semiotic\", \"number\": 1, \"org/repo\": \"nteract/semiotic\"}, {\"org\": \"nteract\", \"repo\": \"testbook\", \"number\": 3, \"org/repo\": \"nteract/testbook\"}]}}, {\"mode\": \"vega-lite\"});\n",
       "</script>"
      ],
      "text/plain": [
       "alt.Chart(...)"
      ]
     },
     "execution_count": 14,
     "metadata": {},
     "output_type": "execute_result"
    }
   ],
   "source": [
    "created_counts = created.groupby(['org', 'repo']).count()['number'].reset_index()\n",
    "created_counts['org/repo'] = created_counts.apply(lambda a: a['org'] + '/' + a['repo'], axis=1)\n",
    "sorted_vals = created_counts.sort_values(['org', 'number'], ascending=False)['repo'].values\n",
    "alt.Chart(data=created_counts, title=f\"Issues created in the last {n_days} days\").mark_bar().encode(\n",
    "    x=alt.X('repo', sort=alt.Sort(sorted_vals.tolist())),\n",
    "    y='number',\n",
    ")"
   ]
  },
  {
   "cell_type": "code",
   "execution_count": 15,
   "id": "eb8d9397",
   "metadata": {
    "execution": {
     "iopub.execute_input": "2021-11-10T01:33:38.609193Z",
     "iopub.status.busy": "2021-11-10T01:33:38.607164Z",
     "iopub.status.idle": "2021-11-10T01:33:38.633489Z",
     "shell.execute_reply": "2021-11-10T01:33:38.632833Z"
    },
    "papermill": {
     "duration": 0.086926,
     "end_time": "2021-11-10T01:33:38.633656",
     "exception": false,
     "start_time": "2021-11-10T01:33:38.546730",
     "status": "completed"
    },
    "tags": [
     "hide_input"
    ]
   },
   "outputs": [
    {
     "data": {
      "text/html": [
       "\n",
       "<div id=\"altair-viz-fe2f42bc79bc4383b64ad0c88f9bd435\"></div>\n",
       "<script type=\"text/javascript\">\n",
       "  (function(spec, embedOpt){\n",
       "    let outputDiv = document.currentScript.previousElementSibling;\n",
       "    if (outputDiv.id !== \"altair-viz-fe2f42bc79bc4383b64ad0c88f9bd435\") {\n",
       "      outputDiv = document.getElementById(\"altair-viz-fe2f42bc79bc4383b64ad0c88f9bd435\");\n",
       "    }\n",
       "    const paths = {\n",
       "      \"vega\": \"https://cdn.jsdelivr.net/npm//vega@5?noext\",\n",
       "      \"vega-lib\": \"https://cdn.jsdelivr.net/npm//vega-lib?noext\",\n",
       "      \"vega-lite\": \"https://cdn.jsdelivr.net/npm//vega-lite@4.8.1?noext\",\n",
       "      \"vega-embed\": \"https://cdn.jsdelivr.net/npm//vega-embed@6?noext\",\n",
       "    };\n",
       "\n",
       "    function loadScript(lib) {\n",
       "      return new Promise(function(resolve, reject) {\n",
       "        var s = document.createElement('script');\n",
       "        s.src = paths[lib];\n",
       "        s.async = true;\n",
       "        s.onload = () => resolve(paths[lib]);\n",
       "        s.onerror = () => reject(`Error loading script: ${paths[lib]}`);\n",
       "        document.getElementsByTagName(\"head\")[0].appendChild(s);\n",
       "      });\n",
       "    }\n",
       "\n",
       "    function showError(err) {\n",
       "      outputDiv.innerHTML = `<div class=\"error\" style=\"color:red;\">${err}</div>`;\n",
       "      throw err;\n",
       "    }\n",
       "\n",
       "    function displayChart(vegaEmbed) {\n",
       "      vegaEmbed(outputDiv, spec, embedOpt)\n",
       "        .catch(err => showError(`Javascript Error: ${err.message}<br>This usually means there's a typo in your chart specification. See the javascript console for the full traceback.`));\n",
       "    }\n",
       "\n",
       "    if(typeof define === \"function\" && define.amd) {\n",
       "      requirejs.config({paths});\n",
       "      require([\"vega-embed\"], displayChart, err => showError(`Error loading script: ${err.message}`));\n",
       "    } else if (typeof vegaEmbed === \"function\") {\n",
       "      displayChart(vegaEmbed);\n",
       "    } else {\n",
       "      loadScript(\"vega\")\n",
       "        .then(() => loadScript(\"vega-lite\"))\n",
       "        .then(() => loadScript(\"vega-embed\"))\n",
       "        .catch(showError)\n",
       "        .then(() => displayChart(vegaEmbed));\n",
       "    }\n",
       "  })({\"config\": {\"axisLeft\": {\"labelFontSize\": 15}, \"axisBottom\": {\"labelFontSize\": 15}}, \"data\": {\"name\": \"data-249d36c94c819201b71766eb5e2c0017\"}, \"mark\": \"bar\", \"encoding\": {\"x\": {\"type\": \"nominal\", \"field\": \"repo\", \"sort\": [\"nteract\", \"papermill\", \"hydrogen\", \"outputs\", \"testbook\"]}, \"y\": {\"type\": \"quantitative\", \"field\": \"number\"}}, \"title\": \"Issues closed in the last 90 days\", \"$schema\": \"https://vega.github.io/schema/vega-lite/v4.8.1.json\", \"datasets\": {\"data-249d36c94c819201b71766eb5e2c0017\": [{\"org\": \"nteract\", \"repo\": \"hydrogen\", \"number\": 2, \"org/repo\": \"nteract/hydrogen\"}, {\"org\": \"nteract\", \"repo\": \"nteract\", \"number\": 6, \"org/repo\": \"nteract/nteract\"}, {\"org\": \"nteract\", \"repo\": \"outputs\", \"number\": 1, \"org/repo\": \"nteract/outputs\"}, {\"org\": \"nteract\", \"repo\": \"papermill\", \"number\": 6, \"org/repo\": \"nteract/papermill\"}, {\"org\": \"nteract\", \"repo\": \"testbook\", \"number\": 1, \"org/repo\": \"nteract/testbook\"}]}}, {\"mode\": \"vega-lite\"});\n",
       "</script>"
      ],
      "text/plain": [
       "alt.Chart(...)"
      ]
     },
     "execution_count": 15,
     "metadata": {},
     "output_type": "execute_result"
    }
   ],
   "source": [
    "closed_counts = closed.groupby(['org', 'repo']).count()['number'].reset_index()\n",
    "closed_counts['org/repo'] = closed_counts.apply(lambda a: a['org'] + '/' + a['repo'], axis=1)\n",
    "sorted_vals = closed_counts.sort_values(['number'], ascending=False)['repo'].values\n",
    "alt.Chart(data=closed_counts, title=f\"Issues closed in the last {n_days} days\").mark_bar().encode(\n",
    "    x=alt.X('repo', sort=alt.Sort(sorted_vals.tolist())),\n",
    "    y='number',\n",
    ")"
   ]
  },
  {
   "cell_type": "code",
   "execution_count": 16,
   "id": "e4609dab",
   "metadata": {
    "execution": {
     "iopub.execute_input": "2021-11-10T01:33:38.730250Z",
     "iopub.status.busy": "2021-11-10T01:33:38.729517Z",
     "iopub.status.idle": "2021-11-10T01:33:38.744523Z",
     "shell.execute_reply": "2021-11-10T01:33:38.743788Z"
    },
    "papermill": {
     "duration": 0.064612,
     "end_time": "2021-11-10T01:33:38.744698",
     "exception": false,
     "start_time": "2021-11-10T01:33:38.680086",
     "status": "completed"
    },
    "tags": [
     "remove_cell"
    ]
   },
   "outputs": [],
   "source": [
    "created_closed = pd.merge(created_counts.rename(columns={'number': 'created'}).drop(columns='org/repo'),\n",
    "                          closed_counts.rename(columns={'number': 'closed'}).drop(columns='org/repo'),\n",
    "                          on=['org', 'repo'], how='outer')\n",
    "\n",
    "created_closed = pd.melt(created_closed, id_vars=['org', 'repo'], var_name=\"kind\", value_name=\"count\").replace(np.nan, 0)"
   ]
  },
  {
   "cell_type": "code",
   "execution_count": 17,
   "id": "463e0a70",
   "metadata": {
    "execution": {
     "iopub.execute_input": "2021-11-10T01:33:38.847600Z",
     "iopub.status.busy": "2021-11-10T01:33:38.846972Z",
     "iopub.status.idle": "2021-11-10T01:33:38.872908Z",
     "shell.execute_reply": "2021-11-10T01:33:38.872215Z"
    },
    "papermill": {
     "duration": 0.079411,
     "end_time": "2021-11-10T01:33:38.873118",
     "exception": false,
     "start_time": "2021-11-10T01:33:38.793707",
     "status": "completed"
    },
    "tags": [
     "hide_input"
    ]
   },
   "outputs": [
    {
     "data": {
      "text/html": [
       "\n",
       "<div id=\"altair-viz-22780f80b0e441f29ed0b6578ba931ce\"></div>\n",
       "<script type=\"text/javascript\">\n",
       "  (function(spec, embedOpt){\n",
       "    let outputDiv = document.currentScript.previousElementSibling;\n",
       "    if (outputDiv.id !== \"altair-viz-22780f80b0e441f29ed0b6578ba931ce\") {\n",
       "      outputDiv = document.getElementById(\"altair-viz-22780f80b0e441f29ed0b6578ba931ce\");\n",
       "    }\n",
       "    const paths = {\n",
       "      \"vega\": \"https://cdn.jsdelivr.net/npm//vega@5?noext\",\n",
       "      \"vega-lib\": \"https://cdn.jsdelivr.net/npm//vega-lib?noext\",\n",
       "      \"vega-lite\": \"https://cdn.jsdelivr.net/npm//vega-lite@4.8.1?noext\",\n",
       "      \"vega-embed\": \"https://cdn.jsdelivr.net/npm//vega-embed@6?noext\",\n",
       "    };\n",
       "\n",
       "    function loadScript(lib) {\n",
       "      return new Promise(function(resolve, reject) {\n",
       "        var s = document.createElement('script');\n",
       "        s.src = paths[lib];\n",
       "        s.async = true;\n",
       "        s.onload = () => resolve(paths[lib]);\n",
       "        s.onerror = () => reject(`Error loading script: ${paths[lib]}`);\n",
       "        document.getElementsByTagName(\"head\")[0].appendChild(s);\n",
       "      });\n",
       "    }\n",
       "\n",
       "    function showError(err) {\n",
       "      outputDiv.innerHTML = `<div class=\"error\" style=\"color:red;\">${err}</div>`;\n",
       "      throw err;\n",
       "    }\n",
       "\n",
       "    function displayChart(vegaEmbed) {\n",
       "      vegaEmbed(outputDiv, spec, embedOpt)\n",
       "        .catch(err => showError(`Javascript Error: ${err.message}<br>This usually means there's a typo in your chart specification. See the javascript console for the full traceback.`));\n",
       "    }\n",
       "\n",
       "    if(typeof define === \"function\" && define.amd) {\n",
       "      requirejs.config({paths});\n",
       "      require([\"vega-embed\"], displayChart, err => showError(`Error loading script: ${err.message}`));\n",
       "    } else if (typeof vegaEmbed === \"function\") {\n",
       "      displayChart(vegaEmbed);\n",
       "    } else {\n",
       "      loadScript(\"vega\")\n",
       "        .then(() => loadScript(\"vega-lite\"))\n",
       "        .then(() => loadScript(\"vega-embed\"))\n",
       "        .catch(showError)\n",
       "        .then(() => displayChart(vegaEmbed));\n",
       "    }\n",
       "  })({\"config\": {\"axisLeft\": {\"labelFontSize\": 15}, \"axisBottom\": {\"labelFontSize\": 15}}, \"data\": {\"name\": \"data-dc5d9d2a2f10fca63e42705c9325fea1\"}, \"mark\": \"bar\", \"encoding\": {\"color\": {\"type\": \"nominal\", \"field\": \"kind\"}, \"column\": {\"type\": \"nominal\", \"field\": \"repo\", \"header\": {\"labelFontSize\": 12, \"title\": \"Issue activity, last 90 days for nteract\", \"titleFontSize\": 15}}, \"x\": {\"type\": \"nominal\", \"axis\": {\"labelFontSize\": 15, \"title\": \"\"}, \"field\": \"kind\"}, \"y\": {\"type\": \"quantitative\", \"axis\": {\"labelFontSize\": 12, \"titleFontSize\": 15}, \"field\": \"count\"}}, \"width\": 120, \"$schema\": \"https://vega.github.io/schema/vega-lite/v4.8.1.json\", \"datasets\": {\"data-dc5d9d2a2f10fca63e42705c9325fea1\": [{\"org\": \"nteract\", \"repo\": \"commuter\", \"kind\": \"created\", \"count\": 2.0}, {\"org\": \"nteract\", \"repo\": \"hydrogen\", \"kind\": \"created\", \"count\": 9.0}, {\"org\": \"nteract\", \"repo\": \"nteract\", \"kind\": \"created\", \"count\": 7.0}, {\"org\": \"nteract\", \"repo\": \"outputs\", \"kind\": \"created\", \"count\": 1.0}, {\"org\": \"nteract\", \"repo\": \"papermill\", \"kind\": \"created\", \"count\": 6.0}, {\"org\": \"nteract\", \"repo\": \"scrapbook\", \"kind\": \"created\", \"count\": 1.0}, {\"org\": \"nteract\", \"repo\": \"semiotic\", \"kind\": \"created\", \"count\": 1.0}, {\"org\": \"nteract\", \"repo\": \"testbook\", \"kind\": \"created\", \"count\": 3.0}, {\"org\": \"nteract\", \"repo\": \"commuter\", \"kind\": \"closed\", \"count\": 0.0}, {\"org\": \"nteract\", \"repo\": \"hydrogen\", \"kind\": \"closed\", \"count\": 2.0}, {\"org\": \"nteract\", \"repo\": \"nteract\", \"kind\": \"closed\", \"count\": 6.0}, {\"org\": \"nteract\", \"repo\": \"outputs\", \"kind\": \"closed\", \"count\": 1.0}, {\"org\": \"nteract\", \"repo\": \"papermill\", \"kind\": \"closed\", \"count\": 6.0}, {\"org\": \"nteract\", \"repo\": \"scrapbook\", \"kind\": \"closed\", \"count\": 0.0}, {\"org\": \"nteract\", \"repo\": \"semiotic\", \"kind\": \"closed\", \"count\": 0.0}, {\"org\": \"nteract\", \"repo\": \"testbook\", \"kind\": \"closed\", \"count\": 1.0}]}}, {\"mode\": \"vega-lite\"});\n",
       "</script>"
      ],
      "text/plain": [
       "alt.Chart(...)"
      ]
     },
     "execution_count": 17,
     "metadata": {},
     "output_type": "execute_result"
    }
   ],
   "source": [
    "charts = []\n",
    "# Pick the top 10 repositories\n",
    "top_repos = created_closed.groupby(['repo']).sum().sort_values(by='count', ascending=False).head(10).index\n",
    "ch = alt.Chart(created_closed.query('repo in @top_repos'), width=120).mark_bar().encode(\n",
    "    x=alt.X(\"kind\", axis=alt.Axis(labelFontSize=15, title=\"\")), \n",
    "    y=alt.Y('count', axis=alt.Axis(titleFontSize=15, labelFontSize=12)),\n",
    "    color='kind',\n",
    "    column=alt.Column(\"repo\", header=alt.Header(title=f\"Issue activity, last {n_days} days for {github_org}\", titleFontSize=15, labelFontSize=12))\n",
    ")\n",
    "ch"
   ]
  },
  {
   "cell_type": "code",
   "execution_count": 18,
   "id": "af5c588c",
   "metadata": {
    "execution": {
     "iopub.execute_input": "2021-11-10T01:33:38.974170Z",
     "iopub.status.busy": "2021-11-10T01:33:38.973427Z",
     "iopub.status.idle": "2021-11-10T01:33:38.976182Z",
     "shell.execute_reply": "2021-11-10T01:33:38.975444Z"
    },
    "papermill": {
     "duration": 0.057767,
     "end_time": "2021-11-10T01:33:38.976325",
     "exception": false,
     "start_time": "2021-11-10T01:33:38.918558",
     "status": "completed"
    },
    "tags": [
     "remove_cell"
    ]
   },
   "outputs": [],
   "source": [
    "# Set to datetime\n",
    "for kind in ['createdAt', 'closedAt']:\n",
    "    closed.loc[:, kind] = pd.to_datetime(closed[kind])\n",
    "    \n",
    "closed.loc[:, 'time_open'] = closed['closedAt'] - closed['createdAt']\n",
    "closed.loc[:, 'time_open'] = closed['time_open'].dt.total_seconds()"
   ]
  },
  {
   "cell_type": "code",
   "execution_count": 19,
   "id": "3690c99d",
   "metadata": {
    "execution": {
     "iopub.execute_input": "2021-11-10T01:33:39.096392Z",
     "iopub.status.busy": "2021-11-10T01:33:39.095477Z",
     "iopub.status.idle": "2021-11-10T01:33:39.098597Z",
     "shell.execute_reply": "2021-11-10T01:33:39.099147Z"
    },
    "papermill": {
     "duration": 0.075624,
     "end_time": "2021-11-10T01:33:39.099323",
     "exception": false,
     "start_time": "2021-11-10T01:33:39.023699",
     "status": "completed"
    },
    "tags": [
     "hide_input"
    ]
   },
   "outputs": [
    {
     "data": {
      "text/html": [
       "\n",
       "<div id=\"altair-viz-62bdc3ee9da34a90b74e895cbaf0d8c6\"></div>\n",
       "<script type=\"text/javascript\">\n",
       "  (function(spec, embedOpt){\n",
       "    let outputDiv = document.currentScript.previousElementSibling;\n",
       "    if (outputDiv.id !== \"altair-viz-62bdc3ee9da34a90b74e895cbaf0d8c6\") {\n",
       "      outputDiv = document.getElementById(\"altair-viz-62bdc3ee9da34a90b74e895cbaf0d8c6\");\n",
       "    }\n",
       "    const paths = {\n",
       "      \"vega\": \"https://cdn.jsdelivr.net/npm//vega@5?noext\",\n",
       "      \"vega-lib\": \"https://cdn.jsdelivr.net/npm//vega-lib?noext\",\n",
       "      \"vega-lite\": \"https://cdn.jsdelivr.net/npm//vega-lite@4.8.1?noext\",\n",
       "      \"vega-embed\": \"https://cdn.jsdelivr.net/npm//vega-embed@6?noext\",\n",
       "    };\n",
       "\n",
       "    function loadScript(lib) {\n",
       "      return new Promise(function(resolve, reject) {\n",
       "        var s = document.createElement('script');\n",
       "        s.src = paths[lib];\n",
       "        s.async = true;\n",
       "        s.onload = () => resolve(paths[lib]);\n",
       "        s.onerror = () => reject(`Error loading script: ${paths[lib]}`);\n",
       "        document.getElementsByTagName(\"head\")[0].appendChild(s);\n",
       "      });\n",
       "    }\n",
       "\n",
       "    function showError(err) {\n",
       "      outputDiv.innerHTML = `<div class=\"error\" style=\"color:red;\">${err}</div>`;\n",
       "      throw err;\n",
       "    }\n",
       "\n",
       "    function displayChart(vegaEmbed) {\n",
       "      vegaEmbed(outputDiv, spec, embedOpt)\n",
       "        .catch(err => showError(`Javascript Error: ${err.message}<br>This usually means there's a typo in your chart specification. See the javascript console for the full traceback.`));\n",
       "    }\n",
       "\n",
       "    if(typeof define === \"function\" && define.amd) {\n",
       "      requirejs.config({paths});\n",
       "      require([\"vega-embed\"], displayChart, err => showError(`Error loading script: ${err.message}`));\n",
       "    } else if (typeof vegaEmbed === \"function\") {\n",
       "      displayChart(vegaEmbed);\n",
       "    } else {\n",
       "      loadScript(\"vega\")\n",
       "        .then(() => loadScript(\"vega-lite\"))\n",
       "        .then(() => loadScript(\"vega-embed\"))\n",
       "        .catch(showError)\n",
       "        .then(() => displayChart(vegaEmbed));\n",
       "    }\n",
       "  })({\"config\": {\"axisLeft\": {\"labelFontSize\": 15}, \"axisBottom\": {\"labelFontSize\": 15}}, \"data\": {\"name\": \"data-566a94b9bf4c2abe73f51ac69b93cd02\"}, \"mark\": \"bar\", \"encoding\": {\"x\": {\"type\": \"nominal\", \"field\": \"repo\", \"sort\": [\"testbook\", \"nteract\", \"outputs\", \"papermill\", \"hydrogen\"]}, \"y\": {\"type\": \"quantitative\", \"field\": \"time_open\", \"title\": \"Median Days Open\"}}, \"title\": \"Time to close for issues closed in the last 90 days\", \"$schema\": \"https://vega.github.io/schema/vega-lite/v4.8.1.json\", \"datasets\": {\"data-566a94b9bf4c2abe73f51ac69b93cd02\": [{\"org\": \"nteract\", \"repo\": \"hydrogen\", \"time_open\": 1.96625, \"org/repo\": \"nteract/hydrogen\"}, {\"org\": \"nteract\", \"repo\": \"nteract\", \"time_open\": 67.82087962962963, \"org/repo\": \"nteract/nteract\"}, {\"org\": \"nteract\", \"repo\": \"outputs\", \"time_open\": 4.102280092592593, \"org/repo\": \"nteract/outputs\"}, {\"org\": \"nteract\", \"repo\": \"papermill\", \"time_open\": 2.1091435185185183, \"org/repo\": \"nteract/papermill\"}, {\"org\": \"nteract\", \"repo\": \"testbook\", \"time_open\": 120.63046296296297, \"org/repo\": \"nteract/testbook\"}]}}, {\"mode\": \"vega-lite\"});\n",
       "</script>"
      ],
      "text/plain": [
       "alt.Chart(...)"
      ]
     },
     "execution_count": 19,
     "metadata": {},
     "output_type": "execute_result"
    }
   ],
   "source": [
    "time_open = closed.groupby(['org', 'repo']).agg({'time_open': 'median'}).reset_index()\n",
    "time_open['time_open'] = time_open['time_open'] / (60 * 60 * 24)\n",
    "time_open['org/repo'] = time_open.apply(lambda a: a['org'] + '/' + a['repo'], axis=1)\n",
    "sorted_vals = time_open.sort_values(['org', 'time_open'], ascending=False)['repo'].values\n",
    "alt.Chart(data=time_open, title=f\"Time to close for issues closed in the last {n_days} days\").mark_bar().encode(\n",
    "    x=alt.X('repo', sort=alt.Sort(sorted_vals.tolist())),\n",
    "    y=alt.Y('time_open', title=\"Median Days Open\"),\n",
    ")"
   ]
  },
  {
   "cell_type": "markdown",
   "id": "d771b9d6",
   "metadata": {
    "papermill": {
     "duration": 0.045049,
     "end_time": "2021-11-10T01:33:39.192568",
     "exception": false,
     "start_time": "2021-11-10T01:33:39.147519",
     "status": "completed"
    },
    "tags": []
   },
   "source": [
    "## Most-upvoted issues"
   ]
  },
  {
   "cell_type": "code",
   "execution_count": 20,
   "id": "d06a5085",
   "metadata": {
    "execution": {
     "iopub.execute_input": "2021-11-10T01:33:39.295427Z",
     "iopub.status.busy": "2021-11-10T01:33:39.294779Z",
     "iopub.status.idle": "2021-11-10T01:33:39.313798Z",
     "shell.execute_reply": "2021-11-10T01:33:39.313103Z"
    },
    "papermill": {
     "duration": 0.077455,
     "end_time": "2021-11-10T01:33:39.313947",
     "exception": false,
     "start_time": "2021-11-10T01:33:39.236492",
     "status": "completed"
    },
    "tags": [
     "hide_input"
    ]
   },
   "outputs": [
    {
     "data": {
      "application/vnd.jupyter.widget-view+json": {
       "model_id": "65df6e08346c49ad8836f1a038d8c4fe",
       "version_major": 2,
       "version_minor": 0
      },
      "text/plain": [
       "HTML(value='<ul>\\n<li>(2) is it possible to disable black? - papermill - <a href=\"https://github.com/nteract/p…"
      ]
     },
     "metadata": {},
     "output_type": "display_data"
    }
   ],
   "source": [
    "thumbsup = issues.sort_values(\"thumbsup\", ascending=False).head(25)\n",
    "thumbsup = thumbsup[[\"title\", \"url\", \"number\", \"thumbsup\", \"repo\"]]\n",
    "\n",
    "text = []\n",
    "for ii, irow in thumbsup.iterrows():\n",
    "    itext = f\"- ({irow['thumbsup']}) {irow['title']} - {irow['repo']} - [#{irow['number']}]({irow['url']})\"\n",
    "    text.append(itext)\n",
    "text = '\\n'.join(text)\n",
    "HTML(markdown(text))"
   ]
  },
  {
   "cell_type": "markdown",
   "id": "f40eac6f",
   "metadata": {
    "papermill": {
     "duration": 0.048907,
     "end_time": "2021-11-10T01:33:39.411526",
     "exception": false,
     "start_time": "2021-11-10T01:33:39.362619",
     "status": "completed"
    },
    "tags": []
   },
   "source": [
    "## Commenters across repositories\n",
    "\n",
    "These are commenters across all issues and pull requests in the last several days.\n",
    "These are colored by the commenter's association with the organization. For information\n",
    "about what these associations mean, [see this StackOverflow post](https://stackoverflow.com/a/28866914/1927102)."
   ]
  },
  {
   "cell_type": "code",
   "execution_count": 21,
   "id": "ca171172",
   "metadata": {
    "execution": {
     "iopub.execute_input": "2021-11-10T01:33:39.507085Z",
     "iopub.status.busy": "2021-11-10T01:33:39.506383Z",
     "iopub.status.idle": "2021-11-10T01:33:39.523068Z",
     "shell.execute_reply": "2021-11-10T01:33:39.522480Z"
    },
    "papermill": {
     "duration": 0.067048,
     "end_time": "2021-11-10T01:33:39.523263",
     "exception": false,
     "start_time": "2021-11-10T01:33:39.456215",
     "status": "completed"
    },
    "tags": [
     "remove_cell"
    ]
   },
   "outputs": [],
   "source": [
    "commentors = (\n",
    "    comments\n",
    "    .query(\"createdAt > @start_date and createdAt < @stop_date\")\n",
    "    .groupby(['org', 'repo', 'author', 'authorAssociation'])\n",
    "    .count().rename(columns={'id': 'count'})['count']\n",
    "    .reset_index()\n",
    "    .sort_values(['org', 'count'], ascending=False)\n",
    ")"
   ]
  },
  {
   "cell_type": "code",
   "execution_count": 22,
   "id": "ad315c60",
   "metadata": {
    "execution": {
     "iopub.execute_input": "2021-11-10T01:33:39.633708Z",
     "iopub.status.busy": "2021-11-10T01:33:39.632917Z",
     "iopub.status.idle": "2021-11-10T01:33:39.659844Z",
     "shell.execute_reply": "2021-11-10T01:33:39.659262Z"
    },
    "papermill": {
     "duration": 0.087019,
     "end_time": "2021-11-10T01:33:39.660007",
     "exception": false,
     "start_time": "2021-11-10T01:33:39.572988",
     "status": "completed"
    },
    "tags": [
     "hide_input"
    ]
   },
   "outputs": [
    {
     "data": {
      "text/html": [
       "\n",
       "<div id=\"altair-viz-e6143e0596514189aebe808ca9dcf3bf\"></div>\n",
       "<script type=\"text/javascript\">\n",
       "  (function(spec, embedOpt){\n",
       "    let outputDiv = document.currentScript.previousElementSibling;\n",
       "    if (outputDiv.id !== \"altair-viz-e6143e0596514189aebe808ca9dcf3bf\") {\n",
       "      outputDiv = document.getElementById(\"altair-viz-e6143e0596514189aebe808ca9dcf3bf\");\n",
       "    }\n",
       "    const paths = {\n",
       "      \"vega\": \"https://cdn.jsdelivr.net/npm//vega@5?noext\",\n",
       "      \"vega-lib\": \"https://cdn.jsdelivr.net/npm//vega-lib?noext\",\n",
       "      \"vega-lite\": \"https://cdn.jsdelivr.net/npm//vega-lite@4.8.1?noext\",\n",
       "      \"vega-embed\": \"https://cdn.jsdelivr.net/npm//vega-embed@6?noext\",\n",
       "    };\n",
       "\n",
       "    function loadScript(lib) {\n",
       "      return new Promise(function(resolve, reject) {\n",
       "        var s = document.createElement('script');\n",
       "        s.src = paths[lib];\n",
       "        s.async = true;\n",
       "        s.onload = () => resolve(paths[lib]);\n",
       "        s.onerror = () => reject(`Error loading script: ${paths[lib]}`);\n",
       "        document.getElementsByTagName(\"head\")[0].appendChild(s);\n",
       "      });\n",
       "    }\n",
       "\n",
       "    function showError(err) {\n",
       "      outputDiv.innerHTML = `<div class=\"error\" style=\"color:red;\">${err}</div>`;\n",
       "      throw err;\n",
       "    }\n",
       "\n",
       "    function displayChart(vegaEmbed) {\n",
       "      vegaEmbed(outputDiv, spec, embedOpt)\n",
       "        .catch(err => showError(`Javascript Error: ${err.message}<br>This usually means there's a typo in your chart specification. See the javascript console for the full traceback.`));\n",
       "    }\n",
       "\n",
       "    if(typeof define === \"function\" && define.amd) {\n",
       "      requirejs.config({paths});\n",
       "      require([\"vega-embed\"], displayChart, err => showError(`Error loading script: ${err.message}`));\n",
       "    } else if (typeof vegaEmbed === \"function\") {\n",
       "      displayChart(vegaEmbed);\n",
       "    } else {\n",
       "      loadScript(\"vega\")\n",
       "        .then(() => loadScript(\"vega-lite\"))\n",
       "        .then(() => loadScript(\"vega-embed\"))\n",
       "        .catch(showError)\n",
       "        .then(() => displayChart(vegaEmbed));\n",
       "    }\n",
       "  })({\"config\": {\"axisLeft\": {\"labelFontSize\": 15}, \"axisBottom\": {\"labelFontSize\": 15}}, \"hconcat\": [{\"mark\": \"bar\", \"encoding\": {\"color\": {\"type\": \"nominal\", \"field\": \"authorAssociation\", \"scale\": {\"domain\": [\"MEMBER\", \"CONTRIBUTOR\", \"COLLABORATOR\", \"NONE\"], \"range\": [\"rgb(211.82745098039214, 211.82745098039214, 211.82745098039214)\", \"rgb(166.98562091503268, 229.89803921568628, 166.98562091503268)\", \"rgb(96.37647058823529, 192.75294117647059, 96.37647058823529)\", \"rgb(0.0, 100.3921568627451, 0.0)\"]}}, \"x\": {\"type\": \"nominal\", \"field\": \"author\"}, \"y\": {\"type\": \"quantitative\", \"field\": \"count\"}}, \"title\": \"Top 50 commentors for nteract in the last 90 days\"}], \"data\": {\"name\": \"data-24241a974f062c4a6ae35f344ce311df\"}, \"$schema\": \"https://vega.github.io/schema/vega-lite/v4.8.1.json\", \"datasets\": {\"data-24241a974f062c4a6ae35f344ce311df\": [{\"author\": \"vercel\", \"count\": 54, \"authorAssociation\": \"NONE\"}, {\"author\": \"captainsafia\", \"count\": 15, \"authorAssociation\": \"MEMBER\"}, {\"author\": \"MSeal\", \"count\": 9, \"authorAssociation\": \"MEMBER\"}, {\"author\": \"vivek1729\", \"count\": 5, \"authorAssociation\": \"MEMBER\"}, {\"author\": \"willingc\", \"count\": 5, \"authorAssociation\": \"MEMBER\"}, {\"author\": \"bretttully\", \"count\": 3, \"authorAssociation\": \"NONE\"}, {\"author\": \"rgbkrk\", \"count\": 3, \"authorAssociation\": \"MEMBER\"}, {\"author\": \"Emmanuella-Aninye\", \"count\": 3, \"authorAssociation\": \"NONE\"}, {\"author\": \"aminya\", \"count\": 2, \"authorAssociation\": \"MEMBER\"}, {\"author\": \"Sandural\", \"count\": 2, \"authorAssociation\": \"NONE\"}, {\"author\": \"CrystallineCat\", \"count\": 2, \"authorAssociation\": \"MEMBER\"}, {\"author\": \"sbamin\", \"count\": 2, \"authorAssociation\": \"NONE\"}, {\"author\": \"ronnie-llamado\", \"count\": 2, \"authorAssociation\": \"CONTRIBUTOR\"}, {\"author\": \"pwang347\", \"count\": 2, \"authorAssociation\": \"MEMBER\"}, {\"author\": \"xinyi-joffre\", \"count\": 2, \"authorAssociation\": \"NONE\"}, {\"author\": \"roger-yu-ds\", \"count\": 1, \"authorAssociation\": \"NONE\"}, {\"author\": \"ttpro1995\", \"count\": 1, \"authorAssociation\": \"NONE\"}, {\"author\": \"tfmark\", \"count\": 1, \"authorAssociation\": \"NONE\"}, {\"author\": \"tanguycdls\", \"count\": 1, \"authorAssociation\": \"CONTRIBUTOR\"}, {\"author\": \"simonrouse9461\", \"count\": 1, \"authorAssociation\": \"NONE\"}, {\"author\": \"rohitsanj\", \"count\": 1, \"authorAssociation\": \"MEMBER\"}, {\"author\": \"Anubha13kumari\", \"count\": 1, \"authorAssociation\": \"NONE\"}, {\"author\": \"ricecooker\", \"count\": 1, \"authorAssociation\": \"NONE\"}, {\"author\": \"n-riesco\", \"count\": 1, \"authorAssociation\": \"MEMBER\"}, {\"author\": \"Calder-Ty\", \"count\": 1, \"authorAssociation\": \"CONTRIBUTOR\"}, {\"author\": \"markerikson\", \"count\": 1, \"authorAssociation\": \"NONE\"}, {\"author\": \"jruales\", \"count\": 1, \"authorAssociation\": \"MEMBER\"}, {\"author\": \"ellenbechtel\", \"count\": 1, \"authorAssociation\": \"NONE\"}, {\"author\": \"dadiaoge0\", \"count\": 1, \"authorAssociation\": \"NONE\"}, {\"author\": \"codecov-commenter\", \"count\": 1, \"authorAssociation\": \"NONE\"}, {\"author\": \"chyzzqo2\", \"count\": 1, \"authorAssociation\": \"COLLABORATOR\"}, {\"author\": \"borgdrone7\", \"count\": 1, \"authorAssociation\": \"NONE\"}, {\"author\": \"LRydin\", \"count\": 1, \"authorAssociation\": \"NONE\"}, {\"author\": \"miduncan\", \"count\": 1, \"authorAssociation\": \"MEMBER\"}]}}, {\"mode\": \"vega-lite\"});\n",
       "</script>"
      ],
      "text/plain": [
       "alt.HConcatChart(...)"
      ]
     },
     "execution_count": 22,
     "metadata": {},
     "output_type": "execute_result"
    }
   ],
   "source": [
    "n_plot = 50\n",
    "charts = []\n",
    "for ii, (iorg, idata) in enumerate(commentors.groupby(['org'])):\n",
    "    title = f\"Top {n_plot} commentors for {iorg} in the last {n_days} days\"\n",
    "    idata = idata.groupby('author', as_index=False).agg({'count': 'sum', 'authorAssociation': 'first'})\n",
    "    idata = idata.sort_values('count', ascending=False).head(n_plot)\n",
    "    ch = alt.Chart(data=idata.head(n_plot), title=title).mark_bar().encode(\n",
    "        x='author',\n",
    "        y='count',\n",
    "        color=alt.Color('authorAssociation', scale=alt.Scale(domain=author_types, range=author_colors))\n",
    "    )\n",
    "    charts.append(ch)\n",
    "alt.hconcat(*charts)"
   ]
  },
  {
   "cell_type": "markdown",
   "id": "0931cdc7",
   "metadata": {
    "papermill": {
     "duration": 0.051273,
     "end_time": "2021-11-10T01:33:39.766742",
     "exception": false,
     "start_time": "2021-11-10T01:33:39.715469",
     "status": "completed"
    },
    "tags": []
   },
   "source": [
    "## First responders\n",
    "\n",
    "First responders are the first people to respond to a new issue in one of the repositories.\n",
    "The following plots show first responders for recently-created issues."
   ]
  },
  {
   "cell_type": "code",
   "execution_count": 23,
   "id": "d3b1cd72",
   "metadata": {
    "execution": {
     "iopub.execute_input": "2021-11-10T01:33:39.879213Z",
     "iopub.status.busy": "2021-11-10T01:33:39.878540Z",
     "iopub.status.idle": "2021-11-10T01:33:39.973858Z",
     "shell.execute_reply": "2021-11-10T01:33:39.973295Z"
    },
    "papermill": {
     "duration": 0.155375,
     "end_time": "2021-11-10T01:33:39.974033",
     "exception": false,
     "start_time": "2021-11-10T01:33:39.818658",
     "status": "completed"
    },
    "tags": [
     "remove_cell"
    ]
   },
   "outputs": [],
   "source": [
    "first_comments = []\n",
    "for (org, repo, issue_id), i_comments in comments.groupby(['org', 'repo', 'id']):\n",
    "    ix_min = pd.to_datetime(i_comments['createdAt']).idxmin()\n",
    "    first_comment = i_comments.loc[ix_min]\n",
    "    if isinstance(first_comment, pd.DataFrame):\n",
    "        first_comment = first_comment.iloc[0]\n",
    "    first_comments.append(first_comment)\n",
    "first_comments = pd.concat(first_comments, axis=1).T\n",
    "\n",
    "# Make up counts for viz\n",
    "first_responder_counts = first_comments.groupby(['org', 'author', 'authorAssociation'], as_index=False).\\\n",
    "    count().rename(columns={'id': 'n_first_responses'}).sort_values(['org', 'n_first_responses'], ascending=False)\n"
   ]
  },
  {
   "cell_type": "code",
   "execution_count": 24,
   "id": "21a9641b",
   "metadata": {
    "execution": {
     "iopub.execute_input": "2021-11-10T01:33:40.090307Z",
     "iopub.status.busy": "2021-11-10T01:33:40.078235Z",
     "iopub.status.idle": "2021-11-10T01:33:40.107843Z",
     "shell.execute_reply": "2021-11-10T01:33:40.108405Z"
    },
    "papermill": {
     "duration": 0.08477,
     "end_time": "2021-11-10T01:33:40.108600",
     "exception": false,
     "start_time": "2021-11-10T01:33:40.023830",
     "status": "completed"
    },
    "tags": [
     "hide_input"
    ]
   },
   "outputs": [
    {
     "data": {
      "text/html": [
       "\n",
       "<div id=\"altair-viz-b0e7e850a88f48dbb56275c54f64d82b\"></div>\n",
       "<script type=\"text/javascript\">\n",
       "  (function(spec, embedOpt){\n",
       "    let outputDiv = document.currentScript.previousElementSibling;\n",
       "    if (outputDiv.id !== \"altair-viz-b0e7e850a88f48dbb56275c54f64d82b\") {\n",
       "      outputDiv = document.getElementById(\"altair-viz-b0e7e850a88f48dbb56275c54f64d82b\");\n",
       "    }\n",
       "    const paths = {\n",
       "      \"vega\": \"https://cdn.jsdelivr.net/npm//vega@5?noext\",\n",
       "      \"vega-lib\": \"https://cdn.jsdelivr.net/npm//vega-lib?noext\",\n",
       "      \"vega-lite\": \"https://cdn.jsdelivr.net/npm//vega-lite@4.8.1?noext\",\n",
       "      \"vega-embed\": \"https://cdn.jsdelivr.net/npm//vega-embed@6?noext\",\n",
       "    };\n",
       "\n",
       "    function loadScript(lib) {\n",
       "      return new Promise(function(resolve, reject) {\n",
       "        var s = document.createElement('script');\n",
       "        s.src = paths[lib];\n",
       "        s.async = true;\n",
       "        s.onload = () => resolve(paths[lib]);\n",
       "        s.onerror = () => reject(`Error loading script: ${paths[lib]}`);\n",
       "        document.getElementsByTagName(\"head\")[0].appendChild(s);\n",
       "      });\n",
       "    }\n",
       "\n",
       "    function showError(err) {\n",
       "      outputDiv.innerHTML = `<div class=\"error\" style=\"color:red;\">${err}</div>`;\n",
       "      throw err;\n",
       "    }\n",
       "\n",
       "    function displayChart(vegaEmbed) {\n",
       "      vegaEmbed(outputDiv, spec, embedOpt)\n",
       "        .catch(err => showError(`Javascript Error: ${err.message}<br>This usually means there's a typo in your chart specification. See the javascript console for the full traceback.`));\n",
       "    }\n",
       "\n",
       "    if(typeof define === \"function\" && define.amd) {\n",
       "      requirejs.config({paths});\n",
       "      require([\"vega-embed\"], displayChart, err => showError(`Error loading script: ${err.message}`));\n",
       "    } else if (typeof vegaEmbed === \"function\") {\n",
       "      displayChart(vegaEmbed);\n",
       "    } else {\n",
       "      loadScript(\"vega\")\n",
       "        .then(() => loadScript(\"vega-lite\"))\n",
       "        .then(() => loadScript(\"vega-embed\"))\n",
       "        .catch(showError)\n",
       "        .then(() => displayChart(vegaEmbed));\n",
       "    }\n",
       "  })({\"config\": {\"axisLeft\": {\"labelFontSize\": 15}, \"axisBottom\": {\"labelFontSize\": 15}}, \"data\": {\"name\": \"data-f222bde8c2a1eccd04a87bdd758819d0\"}, \"mark\": \"bar\", \"encoding\": {\"color\": {\"type\": \"nominal\", \"field\": \"authorAssociation\", \"scale\": {\"domain\": [\"MEMBER\", \"CONTRIBUTOR\", \"COLLABORATOR\", \"NONE\"], \"range\": [\"rgb(211.82745098039214, 211.82745098039214, 211.82745098039214)\", \"rgb(166.98562091503268, 229.89803921568628, 166.98562091503268)\", \"rgb(96.37647058823529, 192.75294117647059, 96.37647058823529)\", \"rgb(0.0, 100.3921568627451, 0.0)\"]}}, \"x\": {\"type\": \"nominal\", \"field\": \"author\"}, \"y\": {\"type\": \"quantitative\", \"field\": \"n_first_responses\"}}, \"title\": \"Top 50 first responders for nteract in the last 90 days\", \"$schema\": \"https://vega.github.io/schema/vega-lite/v4.8.1.json\", \"datasets\": {\"data-f222bde8c2a1eccd04a87bdd758819d0\": [{\"author\": \"vercel\", \"n_first_responses\": 58, \"authorAssociation\": \"NONE\"}, {\"author\": \"captainsafia\", \"n_first_responses\": 10, \"authorAssociation\": \"MEMBER\"}, {\"author\": \"MSeal\", \"n_first_responses\": 8, \"authorAssociation\": \"MEMBER\"}, {\"author\": \"willingc\", \"n_first_responses\": 2, \"authorAssociation\": \"MEMBER\"}, {\"author\": \"ronnie-llamado\", \"n_first_responses\": 2, \"authorAssociation\": \"CONTRIBUTOR\"}, {\"author\": \"rohitsanj\", \"n_first_responses\": 1, \"authorAssociation\": \"MEMBER\"}, {\"author\": \"vivek1729\", \"n_first_responses\": 1, \"authorAssociation\": \"MEMBER\"}, {\"author\": \"ttpro1995\", \"n_first_responses\": 1, \"authorAssociation\": \"NONE\"}, {\"author\": \"tfmark\", \"n_first_responses\": 1, \"authorAssociation\": \"NONE\"}, {\"author\": \"simonrouse9461\", \"n_first_responses\": 1, \"authorAssociation\": \"NONE\"}, {\"author\": \"Anubha13kumari\", \"n_first_responses\": 1, \"authorAssociation\": \"NONE\"}, {\"author\": \"jruales\", \"n_first_responses\": 1, \"authorAssociation\": \"MEMBER\"}, {\"author\": \"Calder-Ty\", \"n_first_responses\": 1, \"authorAssociation\": \"CONTRIBUTOR\"}, {\"author\": \"dadiaoge0\", \"n_first_responses\": 1, \"authorAssociation\": \"NONE\"}, {\"author\": \"chyzzqo2\", \"n_first_responses\": 1, \"authorAssociation\": \"COLLABORATOR\"}, {\"author\": \"borgdrone7\", \"n_first_responses\": 1, \"authorAssociation\": \"NONE\"}, {\"author\": \"aminya\", \"n_first_responses\": 1, \"authorAssociation\": \"MEMBER\"}, {\"author\": \"LRydin\", \"n_first_responses\": 1, \"authorAssociation\": \"NONE\"}, {\"author\": \"ellenbechtel\", \"n_first_responses\": 1, \"authorAssociation\": \"NONE\"}]}}, {\"mode\": \"vega-lite\"});\n",
       "</script>"
      ],
      "text/plain": [
       "alt.Chart(...)"
      ]
     },
     "execution_count": 24,
     "metadata": {},
     "output_type": "execute_result"
    }
   ],
   "source": [
    "n_plot = 50\n",
    "\n",
    "title = f\"Top {n_plot} first responders for {github_org} in the last {n_days} days\"\n",
    "idata = first_responder_counts.groupby('author', as_index=False).agg({'n_first_responses': 'sum', 'authorAssociation': 'first'})\n",
    "idata = idata.sort_values('n_first_responses', ascending=False).head(n_plot)\n",
    "ch = alt.Chart(data=idata.head(n_plot), title=title).mark_bar().encode(\n",
    "    x='author',\n",
    "    y='n_first_responses',\n",
    "    color=alt.Color('authorAssociation', scale=alt.Scale(domain=author_types, range=author_colors))\n",
    ")\n",
    "ch"
   ]
  },
  {
   "cell_type": "markdown",
   "id": "01a4b066",
   "metadata": {
    "papermill": {
     "duration": 0.050235,
     "end_time": "2021-11-10T01:33:40.210646",
     "exception": false,
     "start_time": "2021-11-10T01:33:40.160411",
     "status": "completed"
    },
    "tags": []
   },
   "source": [
    "## Recent activity\n",
    "\n",
    "### A list of merged PRs by project\n",
    "\n",
    "Below is a tabbed readout of recently-merged PRs. Check out the title to get an idea for what they\n",
    "implemented, and be sure to thank the PR author for their hard work!"
   ]
  },
  {
   "cell_type": "code",
   "execution_count": 25,
   "id": "fd80d48f",
   "metadata": {
    "execution": {
     "iopub.execute_input": "2021-11-10T01:33:40.320327Z",
     "iopub.status.busy": "2021-11-10T01:33:40.319393Z",
     "iopub.status.idle": "2021-11-10T01:33:40.428283Z",
     "shell.execute_reply": "2021-11-10T01:33:40.414382Z"
    },
    "papermill": {
     "duration": 0.166901,
     "end_time": "2021-11-10T01:33:40.428444",
     "exception": false,
     "start_time": "2021-11-10T01:33:40.261543",
     "status": "completed"
    },
    "tags": [
     "hide_input"
    ]
   },
   "outputs": [
    {
     "data": {
      "application/vnd.jupyter.widget-view+json": {
       "model_id": "9ceebc3854e942deafb379e2a1462ffa",
       "version_major": 2,
       "version_minor": 0
      },
      "text/plain": [
       "Tab(children=(HTML(value='<h4>Closed PRs for repo: <a href=\"https://github.com/nteract/hydrogen\">nteract/hydro…"
      ]
     },
     "metadata": {},
     "output_type": "display_data"
    }
   ],
   "source": [
    "tabs = widgets.Tab(children=[])\n",
    "\n",
    "for ii, ((org, repo), imerged) in enumerate(merged.query(\"repo in @use_repos\").groupby(['org', 'repo'])):\n",
    "    merged_by = {}\n",
    "    pr_by = {}\n",
    "    issue_md = []\n",
    "    issue_md.append(f\"#### Closed PRs for repo: [{org}/{repo}](https://github.com/{github_org}/{repo})\")\n",
    "    issue_md.append(\"\")\n",
    "    issue_md.append(f\"##### \")\n",
    "\n",
    "    for _, ipr in imerged.iterrows():\n",
    "        user_name = ipr['author']\n",
    "        user_url = author_url(user_name)\n",
    "        pr_number = ipr['number']\n",
    "        pr_html = ipr['url']\n",
    "        pr_title = ipr['title']\n",
    "        pr_closedby = ipr['mergedBy']\n",
    "        pr_closedby_url = f\"https://github.com/{pr_closedby}\"\n",
    "        if user_name not in pr_by:\n",
    "            pr_by[user_name] = 1\n",
    "        else:\n",
    "            pr_by[user_name] += 1\n",
    "\n",
    "        if pr_closedby not in merged_by:\n",
    "            merged_by[pr_closedby] = 1\n",
    "        else:\n",
    "            merged_by[pr_closedby] += 1\n",
    "        text = f\"* [(#{pr_number})]({pr_html}): _{pr_title}_ by **[@{user_name}]({user_url})** merged by **[@{pr_closedby}]({pr_closedby_url})**\"\n",
    "        issue_md.append(text)\n",
    "    \n",
    "    issue_md.append('')\n",
    "    markdown_html = markdown('\\n'.join(issue_md))\n",
    "\n",
    "    children = list(tabs.children)\n",
    "    children.append(HTML(markdown_html))\n",
    "    tabs.children = tuple(children)\n",
    "    tabs.set_title(ii, repo)\n",
    "tabs"
   ]
  },
  {
   "cell_type": "markdown",
   "id": "e99dfeec",
   "metadata": {
    "papermill": {
     "duration": 0.052125,
     "end_time": "2021-11-10T01:33:40.530501",
     "exception": false,
     "start_time": "2021-11-10T01:33:40.478376",
     "status": "completed"
    },
    "tags": []
   },
   "source": [
    "### A list of recent issues\n",
    "\n",
    "Below is a list of issues with recent activity in each repository. If they seem of interest\n",
    "to you, click on their links and jump in to participate!"
   ]
  },
  {
   "cell_type": "code",
   "execution_count": 26,
   "id": "1d9d0fb9",
   "metadata": {
    "execution": {
     "iopub.execute_input": "2021-11-10T01:33:40.642234Z",
     "iopub.status.busy": "2021-11-10T01:33:40.641572Z",
     "iopub.status.idle": "2021-11-10T01:33:40.648916Z",
     "shell.execute_reply": "2021-11-10T01:33:40.649592Z"
    },
    "papermill": {
     "duration": 0.068069,
     "end_time": "2021-11-10T01:33:40.649855",
     "exception": false,
     "start_time": "2021-11-10T01:33:40.581786",
     "status": "completed"
    },
    "tags": [
     "remove_cell"
    ]
   },
   "outputs": [],
   "source": [
    "# Add comment count data to issues and PRs\n",
    "comment_counts = (\n",
    "    comments\n",
    "    .query(\"createdAt > @start_date and createdAt < @stop_date\")\n",
    "    .groupby(['org', 'repo', 'id'])\n",
    "    .count().iloc[:, 0].to_frame()\n",
    ")\n",
    "comment_counts.columns = ['n_comments']\n",
    "comment_counts = comment_counts.reset_index()"
   ]
  },
  {
   "cell_type": "code",
   "execution_count": 27,
   "id": "99af03f0",
   "metadata": {
    "execution": {
     "iopub.execute_input": "2021-11-10T01:33:40.755601Z",
     "iopub.status.busy": "2021-11-10T01:33:40.754909Z",
     "iopub.status.idle": "2021-11-10T01:33:41.072566Z",
     "shell.execute_reply": "2021-11-10T01:33:41.034420Z"
    },
    "papermill": {
     "duration": 0.369145,
     "end_time": "2021-11-10T01:33:41.072758",
     "exception": false,
     "start_time": "2021-11-10T01:33:40.703613",
     "status": "completed"
    },
    "tags": [
     "hide_input"
    ],
    "toc-hr-collapsed": false
   },
   "outputs": [
    {
     "data": {
      "text/markdown": [
       "Here are the top 5 active issues in each repository in the last 90 days"
      ],
      "text/plain": [
       "<IPython.core.display.Markdown object>"
      ]
     },
     "metadata": {},
     "output_type": "display_data"
    },
    {
     "data": {
      "application/vnd.jupyter.widget-view+json": {
       "model_id": "10ec6fd1a20d47478f661b8e984049e0",
       "version_major": 2,
       "version_minor": 0
      },
      "text/plain": [
       "Tab(children=(HTML(value='<h5><a href=\"https://github.com/nteract/bookstore\">nteract/bookstore</a></h5>'), HTM…"
      ]
     },
     "metadata": {},
     "output_type": "display_data"
    }
   ],
   "source": [
    "n_plot = 5\n",
    "tabs = widgets.Tab(children=[])\n",
    "\n",
    "for ii, (repo, i_issues) in enumerate(comment_counts.query(\"repo in @use_repos\").groupby('repo')):\n",
    "    \n",
    "    issue_md = []\n",
    "    issue_md.append(\"\")\n",
    "    issue_md.append(f\"##### [{github_org}/{repo}](https://github.com/{github_org}/{repo})\")\n",
    "\n",
    "    top_issues = i_issues.sort_values('n_comments', ascending=False).head(n_plot)\n",
    "    top_issue_list = pd.merge(issues, top_issues, left_on=['org', 'repo', 'id'], right_on=['org', 'repo', 'id'])\n",
    "    for _, issue in top_issue_list.sort_values('n_comments', ascending=False).head(n_plot).iterrows():\n",
    "        user_name = issue['author']\n",
    "        user_url = author_url(user_name)\n",
    "        issue_number = issue['number']\n",
    "        issue_html = issue['url']\n",
    "        issue_title = issue['title']\n",
    "\n",
    "        text = f\"* [(#{issue_number})]({issue_html}): _{issue_title}_ by **[@{user_name}]({user_url})**\"\n",
    "        issue_md.append(text)\n",
    "\n",
    "    issue_md.append('')\n",
    "    md_html = HTML(markdown('\\n'.join(issue_md)))\n",
    "\n",
    "    children = list(tabs.children)\n",
    "    children.append(HTML(markdown('\\n'.join(issue_md))))\n",
    "    tabs.children = tuple(children)\n",
    "    tabs.set_title(ii, repo)\n",
    "    \n",
    "display(Markdown(f\"Here are the top {n_plot} active issues in each repository in the last {n_days} days\"))\n",
    "display(tabs)"
   ]
  }
 ],
 "metadata": {
  "kernelspec": {
   "display_name": "Python 3 (ipykernel)",
   "language": "python",
   "name": "python3"
  },
  "language_info": {
   "codemirror_mode": {
    "name": "ipython",
    "version": 3
   },
   "file_extension": ".py",
   "mimetype": "text/x-python",
   "name": "python",
   "nbconvert_exporter": "python",
   "pygments_lexer": "ipython3",
   "version": "3.7.12"
  },
  "papermill": {
   "default_parameters": {},
   "duration": 7.876914,
   "end_time": "2021-11-10T01:33:41.640583",
   "environment_variables": {},
   "exception": null,
   "input_path": "./templates/org_report.ipynb",
   "output_path": "generated/book/nteract.ipynb",
   "parameters": {
    "github_org": "nteract",
    "n_days": 90
   },
   "start_time": "2021-11-10T01:33:33.763669",
   "version": "2.3.3"
  },
  "widgets": {
   "application/vnd.jupyter.widget-state+json": {
    "state": {
     "0372993bb0d64c9ca1268f65d9ae73bd": {
      "model_module": "@jupyter-widgets/base",
      "model_module_version": "1.2.0",
      "model_name": "LayoutModel",
      "state": {
       "_model_module": "@jupyter-widgets/base",
       "_model_module_version": "1.2.0",
       "_model_name": "LayoutModel",
       "_view_count": null,
       "_view_module": "@jupyter-widgets/base",
       "_view_module_version": "1.2.0",
       "_view_name": "LayoutView",
       "align_content": null,
       "align_items": null,
       "align_self": null,
       "border": null,
       "bottom": null,
       "display": null,
       "flex": null,
       "flex_flow": null,
       "grid_area": null,
       "grid_auto_columns": null,
       "grid_auto_flow": null,
       "grid_auto_rows": null,
       "grid_column": null,
       "grid_gap": null,
       "grid_row": null,
       "grid_template_areas": null,
       "grid_template_columns": null,
       "grid_template_rows": null,
       "height": null,
       "justify_content": null,
       "justify_items": null,
       "left": null,
       "margin": null,
       "max_height": null,
       "max_width": null,
       "min_height": null,
       "min_width": null,
       "object_fit": null,
       "object_position": null,
       "order": null,
       "overflow": null,
       "overflow_x": null,
       "overflow_y": null,
       "padding": null,
       "right": null,
       "top": null,
       "visibility": null,
       "width": null
      }
     },
     "05bef6b660634b5eb6bcff39efa10164": {
      "model_module": "@jupyter-widgets/controls",
      "model_module_version": "1.5.0",
      "model_name": "DescriptionStyleModel",
      "state": {
       "_model_module": "@jupyter-widgets/controls",
       "_model_module_version": "1.5.0",
       "_model_name": "DescriptionStyleModel",
       "_view_count": null,
       "_view_module": "@jupyter-widgets/base",
       "_view_module_version": "1.2.0",
       "_view_name": "StyleView",
       "description_width": ""
      }
     },
     "07e9d40239c64342b9dadcc47aecbcdd": {
      "model_module": "@jupyter-widgets/controls",
      "model_module_version": "1.5.0",
      "model_name": "HTMLModel",
      "state": {
       "_dom_classes": [],
       "_model_module": "@jupyter-widgets/controls",
       "_model_module_version": "1.5.0",
       "_model_name": "HTMLModel",
       "_view_count": null,
       "_view_module": "@jupyter-widgets/controls",
       "_view_module_version": "1.5.0",
       "_view_name": "HTMLView",
       "description": "",
       "description_tooltip": null,
       "layout": "IPY_MODEL_f00fa676493443f3b221f84483c40986",
       "placeholder": "​",
       "style": "IPY_MODEL_e13eef5af4114f459575319e99d23357",
       "value": "<h5><a href=\"https://github.com/nteract/play\">nteract/play</a></h5>"
      }
     },
     "0ec91c13c6934ad2929eb0426f8a8e0b": {
      "model_module": "@jupyter-widgets/controls",
      "model_module_version": "1.5.0",
      "model_name": "DescriptionStyleModel",
      "state": {
       "_model_module": "@jupyter-widgets/controls",
       "_model_module_version": "1.5.0",
       "_model_name": "DescriptionStyleModel",
       "_view_count": null,
       "_view_module": "@jupyter-widgets/base",
       "_view_module_version": "1.2.0",
       "_view_name": "StyleView",
       "description_width": ""
      }
     },
     "10ec6fd1a20d47478f661b8e984049e0": {
      "model_module": "@jupyter-widgets/controls",
      "model_module_version": "1.5.0",
      "model_name": "TabModel",
      "state": {
       "_dom_classes": [],
       "_model_module": "@jupyter-widgets/controls",
       "_model_module_version": "1.5.0",
       "_model_name": "TabModel",
       "_titles": {
        "0": "bookstore",
        "1": "commuter",
        "10": "testbook",
        "2": "data-explorer",
        "3": "hydrogen",
        "4": "nteract",
        "5": "nteract.io",
        "6": "outputs",
        "7": "papermill",
        "8": "play",
        "9": "semiotic"
       },
       "_view_count": null,
       "_view_module": "@jupyter-widgets/controls",
       "_view_module_version": "1.5.0",
       "_view_name": "TabView",
       "box_style": "",
       "children": [
        "IPY_MODEL_b7292b35e94b4aac9197804fc77ec160",
        "IPY_MODEL_4948663d64eb402488c68a10f0ec2a4e",
        "IPY_MODEL_5ec5cb05ee224ade8121e8e78b1cc3f8",
        "IPY_MODEL_a62a2a7eee8f4fbebd334184d800aab9",
        "IPY_MODEL_94ab99eb148e464186613647eaa85341",
        "IPY_MODEL_5d0463e33bd6472981453ebb7c1911d2",
        "IPY_MODEL_b0ea8f907c1645479a2fdb946eebe91c",
        "IPY_MODEL_1fde36b577a2440baa224289cb0e385d",
        "IPY_MODEL_07e9d40239c64342b9dadcc47aecbcdd",
        "IPY_MODEL_f136b9bcbd4140809796ad4e68d0aeac",
        "IPY_MODEL_2dc39f14805545648e08177bea783c72"
       ],
       "layout": "IPY_MODEL_76067f7c35ff41e7ba6349f71227c2ff",
       "selected_index": 0
      }
     },
     "110f9438620d4a5aa8914d317b1d438d": {
      "model_module": "@jupyter-widgets/controls",
      "model_module_version": "1.5.0",
      "model_name": "DescriptionStyleModel",
      "state": {
       "_model_module": "@jupyter-widgets/controls",
       "_model_module_version": "1.5.0",
       "_model_name": "DescriptionStyleModel",
       "_view_count": null,
       "_view_module": "@jupyter-widgets/base",
       "_view_module_version": "1.2.0",
       "_view_name": "StyleView",
       "description_width": ""
      }
     },
     "12b306b5ccc6489f91ee4075203760d7": {
      "model_module": "@jupyter-widgets/controls",
      "model_module_version": "1.5.0",
      "model_name": "DescriptionStyleModel",
      "state": {
       "_model_module": "@jupyter-widgets/controls",
       "_model_module_version": "1.5.0",
       "_model_name": "DescriptionStyleModel",
       "_view_count": null,
       "_view_module": "@jupyter-widgets/base",
       "_view_module_version": "1.2.0",
       "_view_name": "StyleView",
       "description_width": ""
      }
     },
     "142cf246bfe147d98a98217a2906194f": {
      "model_module": "@jupyter-widgets/base",
      "model_module_version": "1.2.0",
      "model_name": "LayoutModel",
      "state": {
       "_model_module": "@jupyter-widgets/base",
       "_model_module_version": "1.2.0",
       "_model_name": "LayoutModel",
       "_view_count": null,
       "_view_module": "@jupyter-widgets/base",
       "_view_module_version": "1.2.0",
       "_view_name": "LayoutView",
       "align_content": null,
       "align_items": null,
       "align_self": null,
       "border": null,
       "bottom": null,
       "display": null,
       "flex": null,
       "flex_flow": null,
       "grid_area": null,
       "grid_auto_columns": null,
       "grid_auto_flow": null,
       "grid_auto_rows": null,
       "grid_column": null,
       "grid_gap": null,
       "grid_row": null,
       "grid_template_areas": null,
       "grid_template_columns": null,
       "grid_template_rows": null,
       "height": null,
       "justify_content": null,
       "justify_items": null,
       "left": null,
       "margin": null,
       "max_height": null,
       "max_width": null,
       "min_height": null,
       "min_width": null,
       "object_fit": null,
       "object_position": null,
       "order": null,
       "overflow": null,
       "overflow_x": null,
       "overflow_y": null,
       "padding": null,
       "right": null,
       "top": null,
       "visibility": null,
       "width": null
      }
     },
     "188b444e2b6e469c8223d27ff90f43eb": {
      "model_module": "@jupyter-widgets/base",
      "model_module_version": "1.2.0",
      "model_name": "LayoutModel",
      "state": {
       "_model_module": "@jupyter-widgets/base",
       "_model_module_version": "1.2.0",
       "_model_name": "LayoutModel",
       "_view_count": null,
       "_view_module": "@jupyter-widgets/base",
       "_view_module_version": "1.2.0",
       "_view_name": "LayoutView",
       "align_content": null,
       "align_items": null,
       "align_self": null,
       "border": null,
       "bottom": null,
       "display": null,
       "flex": null,
       "flex_flow": null,
       "grid_area": null,
       "grid_auto_columns": null,
       "grid_auto_flow": null,
       "grid_auto_rows": null,
       "grid_column": null,
       "grid_gap": null,
       "grid_row": null,
       "grid_template_areas": null,
       "grid_template_columns": null,
       "grid_template_rows": null,
       "height": null,
       "justify_content": null,
       "justify_items": null,
       "left": null,
       "margin": null,
       "max_height": null,
       "max_width": null,
       "min_height": null,
       "min_width": null,
       "object_fit": null,
       "object_position": null,
       "order": null,
       "overflow": null,
       "overflow_x": null,
       "overflow_y": null,
       "padding": null,
       "right": null,
       "top": null,
       "visibility": null,
       "width": null
      }
     },
     "1fde36b577a2440baa224289cb0e385d": {
      "model_module": "@jupyter-widgets/controls",
      "model_module_version": "1.5.0",
      "model_name": "HTMLModel",
      "state": {
       "_dom_classes": [],
       "_model_module": "@jupyter-widgets/controls",
       "_model_module_version": "1.5.0",
       "_model_name": "HTMLModel",
       "_view_count": null,
       "_view_module": "@jupyter-widgets/controls",
       "_view_module_version": "1.5.0",
       "_view_name": "HTMLView",
       "description": "",
       "description_tooltip": null,
       "layout": "IPY_MODEL_8dcce88828ef4a869a276d3b2efb8d05",
       "placeholder": "​",
       "style": "IPY_MODEL_3879f099678c4d799388cfe140c5c0f4",
       "value": "<h5><a href=\"https://github.com/nteract/papermill\">nteract/papermill</a></h5>\n<ul>\n<li><a href=\"https://github.com/nteract/papermill/issues/632\">(#632)</a>: <em>Suppress excessive output</em> by <strong><a href=\"https://github.com/roger-yu-ds\">@roger-yu-ds</a></strong></li>\n<li><a href=\"https://github.com/nteract/papermill/issues/638\">(#638)</a>: _How to NOT specific kernel when run notebook ? _ by <strong><a href=\"https://github.com/ttpro1995\">@ttpro1995</a></strong></li>\n<li><a href=\"https://github.com/nteract/papermill/issues/633\">(#633)</a>: <em>papermill installation not working on Linux system</em> by <strong><a href=\"https://github.com/bidhya\">@bidhya</a></strong></li>\n<li><a href=\"https://github.com/nteract/papermill/issues/630\">(#630)</a>: <em>NaN in output JSON</em> by <strong><a href=\"https://github.com/AlessioC31\">@AlessioC31</a></strong></li>\n</ul>"
      }
     },
     "21afea8ba2744814b891be66cb593f43": {
      "model_module": "@jupyter-widgets/controls",
      "model_module_version": "1.5.0",
      "model_name": "HTMLModel",
      "state": {
       "_dom_classes": [],
       "_model_module": "@jupyter-widgets/controls",
       "_model_module_version": "1.5.0",
       "_model_name": "HTMLModel",
       "_view_count": null,
       "_view_module": "@jupyter-widgets/controls",
       "_view_module_version": "1.5.0",
       "_view_name": "HTMLView",
       "description": "",
       "description_tooltip": null,
       "layout": "IPY_MODEL_30309ffb8b024956820cb2a0b59ff460",
       "placeholder": "​",
       "style": "IPY_MODEL_12b306b5ccc6489f91ee4075203760d7",
       "value": "<h5><a href=\"https://github.com/nteract/data-explorer\">nteract/data-explorer</a></h5>"
      }
     },
     "227f688336074b728f79b5cc62705194": {
      "model_module": "@jupyter-widgets/controls",
      "model_module_version": "1.5.0",
      "model_name": "HTMLModel",
      "state": {
       "_dom_classes": [],
       "_model_module": "@jupyter-widgets/controls",
       "_model_module_version": "1.5.0",
       "_model_name": "HTMLModel",
       "_view_count": null,
       "_view_module": "@jupyter-widgets/controls",
       "_view_module_version": "1.5.0",
       "_view_name": "HTMLView",
       "description": "",
       "description_tooltip": null,
       "layout": "IPY_MODEL_d2b0175064fd44cd9aaff4224ef311a3",
       "placeholder": "​",
       "style": "IPY_MODEL_5da25520a01040dc9ed2f51329c6631d",
       "value": "<h4>Closed PRs for repo: <a href=\"https://github.com/nteract/papermill\">nteract/papermill</a></h4>\n<h5></h5>\n<ul>\n<li><a href=\"https://github.com/nteract/papermill/pull/636\">(#636)</a>: <em>Update README.md</em> by <strong><a href=\"https://github.com/amin-nejad\">@amin-nejad</a></strong> merged by <strong><a href=\"https://github.com/MSeal\">@MSeal</a></strong></li>\n<li><a href=\"https://github.com/nteract/papermill/pull/631\">(#631)</a>: <em>Black as an optional deps</em> by <strong><a href=\"https://github.com/tanguycdls\">@tanguycdls</a></strong> merged by <strong><a href=\"https://github.com/MSeal\">@MSeal</a></strong></li>\n<li><a href=\"https://github.com/nteract/papermill/pull/629\">(#629)</a>: <em>Bugfix/pickle errors</em> by <strong><a href=\"https://github.com/Calder-Ty\">@Calder-Ty</a></strong> merged by <strong><a href=\"https://github.com/MSeal\">@MSeal</a></strong></li>\n<li><a href=\"https://github.com/nteract/papermill/pull/627\">(#627)</a>: <em>Remove templates from docs</em> by <strong><a href=\"https://github.com/choldgraf\">@choldgraf</a></strong> merged by <strong><a href=\"https://github.com/MSeal\">@MSeal</a></strong></li>\n<li><a href=\"https://github.com/nteract/papermill/pull/624\">(#624)</a>: <em>Support new version of gcsfs</em> by <strong><a href=\"https://github.com/onevirus\">@onevirus</a></strong> merged by <strong><a href=\"https://github.com/MSeal\">@MSeal</a></strong></li>\n<li><a href=\"https://github.com/nteract/papermill/pull/620\">(#620)</a>: <em>fix indents</em> by <strong><a href=\"https://github.com/willingc\">@willingc</a></strong> merged by <strong><a href=\"https://github.com/willingc\">@willingc</a></strong></li>\n</ul>"
      }
     },
     "271db330070c4729b770eedd16ca8ba1": {
      "model_module": "@jupyter-widgets/controls",
      "model_module_version": "1.5.0",
      "model_name": "DescriptionStyleModel",
      "state": {
       "_model_module": "@jupyter-widgets/controls",
       "_model_module_version": "1.5.0",
       "_model_name": "DescriptionStyleModel",
       "_view_count": null,
       "_view_module": "@jupyter-widgets/base",
       "_view_module_version": "1.2.0",
       "_view_name": "StyleView",
       "description_width": ""
      }
     },
     "2ada06dd94aa479e8b8f9432ebcc6ef5": {
      "model_module": "@jupyter-widgets/base",
      "model_module_version": "1.2.0",
      "model_name": "LayoutModel",
      "state": {
       "_model_module": "@jupyter-widgets/base",
       "_model_module_version": "1.2.0",
       "_model_name": "LayoutModel",
       "_view_count": null,
       "_view_module": "@jupyter-widgets/base",
       "_view_module_version": "1.2.0",
       "_view_name": "LayoutView",
       "align_content": null,
       "align_items": null,
       "align_self": null,
       "border": null,
       "bottom": null,
       "display": null,
       "flex": null,
       "flex_flow": null,
       "grid_area": null,
       "grid_auto_columns": null,
       "grid_auto_flow": null,
       "grid_auto_rows": null,
       "grid_column": null,
       "grid_gap": null,
       "grid_row": null,
       "grid_template_areas": null,
       "grid_template_columns": null,
       "grid_template_rows": null,
       "height": null,
       "justify_content": null,
       "justify_items": null,
       "left": null,
       "margin": null,
       "max_height": null,
       "max_width": null,
       "min_height": null,
       "min_width": null,
       "object_fit": null,
       "object_position": null,
       "order": null,
       "overflow": null,
       "overflow_x": null,
       "overflow_y": null,
       "padding": null,
       "right": null,
       "top": null,
       "visibility": null,
       "width": null
      }
     },
     "2b6c6cafd44a4df49db6d60ef3b04c55": {
      "model_module": "@jupyter-widgets/controls",
      "model_module_version": "1.5.0",
      "model_name": "DescriptionStyleModel",
      "state": {
       "_model_module": "@jupyter-widgets/controls",
       "_model_module_version": "1.5.0",
       "_model_name": "DescriptionStyleModel",
       "_view_count": null,
       "_view_module": "@jupyter-widgets/base",
       "_view_module_version": "1.2.0",
       "_view_name": "StyleView",
       "description_width": ""
      }
     },
     "2d6e559ccce64415967f229afdb0aeec": {
      "model_module": "@jupyter-widgets/base",
      "model_module_version": "1.2.0",
      "model_name": "LayoutModel",
      "state": {
       "_model_module": "@jupyter-widgets/base",
       "_model_module_version": "1.2.0",
       "_model_name": "LayoutModel",
       "_view_count": null,
       "_view_module": "@jupyter-widgets/base",
       "_view_module_version": "1.2.0",
       "_view_name": "LayoutView",
       "align_content": null,
       "align_items": null,
       "align_self": null,
       "border": null,
       "bottom": null,
       "display": null,
       "flex": null,
       "flex_flow": null,
       "grid_area": null,
       "grid_auto_columns": null,
       "grid_auto_flow": null,
       "grid_auto_rows": null,
       "grid_column": null,
       "grid_gap": null,
       "grid_row": null,
       "grid_template_areas": null,
       "grid_template_columns": null,
       "grid_template_rows": null,
       "height": null,
       "justify_content": null,
       "justify_items": null,
       "left": null,
       "margin": null,
       "max_height": null,
       "max_width": null,
       "min_height": null,
       "min_width": null,
       "object_fit": null,
       "object_position": null,
       "order": null,
       "overflow": null,
       "overflow_x": null,
       "overflow_y": null,
       "padding": null,
       "right": null,
       "top": null,
       "visibility": null,
       "width": null
      }
     },
     "2dc39f14805545648e08177bea783c72": {
      "model_module": "@jupyter-widgets/controls",
      "model_module_version": "1.5.0",
      "model_name": "HTMLModel",
      "state": {
       "_dom_classes": [],
       "_model_module": "@jupyter-widgets/controls",
       "_model_module_version": "1.5.0",
       "_model_name": "HTMLModel",
       "_view_count": null,
       "_view_module": "@jupyter-widgets/controls",
       "_view_module_version": "1.5.0",
       "_view_name": "HTMLView",
       "description": "",
       "description_tooltip": null,
       "layout": "IPY_MODEL_49aa99a08ef04d158fdea66d9a80c879",
       "placeholder": "​",
       "style": "IPY_MODEL_762f8be63a854a7db264b05732993cfb",
       "value": "<h5><a href=\"https://github.com/nteract/testbook\">nteract/testbook</a></h5>\n<ul>\n<li><a href=\"https://github.com/nteract/testbook/issues/137\">(#137)</a>: <em>testbook loads wrong signature for function</em> by <strong><a href=\"https://github.com/midumitrescu\">@midumitrescu</a></strong></li>\n<li><a href=\"https://github.com/nteract/testbook/issues/133\">(#133)</a>: <em>Support for objects as return_value when patching</em> by <strong><a href=\"https://github.com/laserprec\">@laserprec</a></strong></li>\n<li><a href=\"https://github.com/nteract/testbook/issues/121\">(#121)</a>: <em>Add python 3.9 to test suite / tox</em> by <strong><a href=\"https://github.com/MSeal\">@MSeal</a></strong></li>\n</ul>"
      }
     },
     "30309ffb8b024956820cb2a0b59ff460": {
      "model_module": "@jupyter-widgets/base",
      "model_module_version": "1.2.0",
      "model_name": "LayoutModel",
      "state": {
       "_model_module": "@jupyter-widgets/base",
       "_model_module_version": "1.2.0",
       "_model_name": "LayoutModel",
       "_view_count": null,
       "_view_module": "@jupyter-widgets/base",
       "_view_module_version": "1.2.0",
       "_view_name": "LayoutView",
       "align_content": null,
       "align_items": null,
       "align_self": null,
       "border": null,
       "bottom": null,
       "display": null,
       "flex": null,
       "flex_flow": null,
       "grid_area": null,
       "grid_auto_columns": null,
       "grid_auto_flow": null,
       "grid_auto_rows": null,
       "grid_column": null,
       "grid_gap": null,
       "grid_row": null,
       "grid_template_areas": null,
       "grid_template_columns": null,
       "grid_template_rows": null,
       "height": null,
       "justify_content": null,
       "justify_items": null,
       "left": null,
       "margin": null,
       "max_height": null,
       "max_width": null,
       "min_height": null,
       "min_width": null,
       "object_fit": null,
       "object_position": null,
       "order": null,
       "overflow": null,
       "overflow_x": null,
       "overflow_y": null,
       "padding": null,
       "right": null,
       "top": null,
       "visibility": null,
       "width": null
      }
     },
     "3120662ec4324ab6bf186acc8c5b2f32": {
      "model_module": "@jupyter-widgets/controls",
      "model_module_version": "1.5.0",
      "model_name": "DescriptionStyleModel",
      "state": {
       "_model_module": "@jupyter-widgets/controls",
       "_model_module_version": "1.5.0",
       "_model_name": "DescriptionStyleModel",
       "_view_count": null,
       "_view_module": "@jupyter-widgets/base",
       "_view_module_version": "1.2.0",
       "_view_name": "StyleView",
       "description_width": ""
      }
     },
     "3236cbe557364c998325d4f66ea7c077": {
      "model_module": "@jupyter-widgets/controls",
      "model_module_version": "1.5.0",
      "model_name": "HTMLModel",
      "state": {
       "_dom_classes": [],
       "_model_module": "@jupyter-widgets/controls",
       "_model_module_version": "1.5.0",
       "_model_name": "HTMLModel",
       "_view_count": null,
       "_view_module": "@jupyter-widgets/controls",
       "_view_module_version": "1.5.0",
       "_view_name": "HTMLView",
       "description": "",
       "description_tooltip": null,
       "layout": "IPY_MODEL_3356546c51e8452fbe63529de46f6d0f",
       "placeholder": "​",
       "style": "IPY_MODEL_4adc04e7401845629857fe76cea59493",
       "value": "<h5><a href=\"https://github.com/nteract/hydrogen\">nteract/hydrogen</a></h5>\n<ul>\n<li><a href=\"https://github.com/nteract/hydrogen/issues/2132\">(#2132)</a>: <em>token not working in jupyter kernelgateway</em> by <strong><a href=\"https://github.com/jsyoo61\">@jsyoo61</a></strong></li>\n<li><a href=\"https://github.com/nteract/hydrogen/issues/2128\">(#2128)</a>: <em>lon</em> by <strong><a href=\"https://github.com/Lalpu\">@Lalpu</a></strong></li>\n</ul>"
      }
     },
     "3356546c51e8452fbe63529de46f6d0f": {
      "model_module": "@jupyter-widgets/base",
      "model_module_version": "1.2.0",
      "model_name": "LayoutModel",
      "state": {
       "_model_module": "@jupyter-widgets/base",
       "_model_module_version": "1.2.0",
       "_model_name": "LayoutModel",
       "_view_count": null,
       "_view_module": "@jupyter-widgets/base",
       "_view_module_version": "1.2.0",
       "_view_name": "LayoutView",
       "align_content": null,
       "align_items": null,
       "align_self": null,
       "border": null,
       "bottom": null,
       "display": null,
       "flex": null,
       "flex_flow": null,
       "grid_area": null,
       "grid_auto_columns": null,
       "grid_auto_flow": null,
       "grid_auto_rows": null,
       "grid_column": null,
       "grid_gap": null,
       "grid_row": null,
       "grid_template_areas": null,
       "grid_template_columns": null,
       "grid_template_rows": null,
       "height": null,
       "justify_content": null,
       "justify_items": null,
       "left": null,
       "margin": null,
       "max_height": null,
       "max_width": null,
       "min_height": null,
       "min_width": null,
       "object_fit": null,
       "object_position": null,
       "order": null,
       "overflow": null,
       "overflow_x": null,
       "overflow_y": null,
       "padding": null,
       "right": null,
       "top": null,
       "visibility": null,
       "width": null
      }
     },
     "376747a783d04d05b266dfa275bd0f0d": {
      "model_module": "@jupyter-widgets/base",
      "model_module_version": "1.2.0",
      "model_name": "LayoutModel",
      "state": {
       "_model_module": "@jupyter-widgets/base",
       "_model_module_version": "1.2.0",
       "_model_name": "LayoutModel",
       "_view_count": null,
       "_view_module": "@jupyter-widgets/base",
       "_view_module_version": "1.2.0",
       "_view_name": "LayoutView",
       "align_content": null,
       "align_items": null,
       "align_self": null,
       "border": null,
       "bottom": null,
       "display": null,
       "flex": null,
       "flex_flow": null,
       "grid_area": null,
       "grid_auto_columns": null,
       "grid_auto_flow": null,
       "grid_auto_rows": null,
       "grid_column": null,
       "grid_gap": null,
       "grid_row": null,
       "grid_template_areas": null,
       "grid_template_columns": null,
       "grid_template_rows": null,
       "height": null,
       "justify_content": null,
       "justify_items": null,
       "left": null,
       "margin": null,
       "max_height": null,
       "max_width": null,
       "min_height": null,
       "min_width": null,
       "object_fit": null,
       "object_position": null,
       "order": null,
       "overflow": null,
       "overflow_x": null,
       "overflow_y": null,
       "padding": null,
       "right": null,
       "top": null,
       "visibility": null,
       "width": null
      }
     },
     "3879f099678c4d799388cfe140c5c0f4": {
      "model_module": "@jupyter-widgets/controls",
      "model_module_version": "1.5.0",
      "model_name": "DescriptionStyleModel",
      "state": {
       "_model_module": "@jupyter-widgets/controls",
       "_model_module_version": "1.5.0",
       "_model_name": "DescriptionStyleModel",
       "_view_count": null,
       "_view_module": "@jupyter-widgets/base",
       "_view_module_version": "1.2.0",
       "_view_name": "StyleView",
       "description_width": ""
      }
     },
     "395f0bee85c54cfabf9e84b3d2b5dba9": {
      "model_module": "@jupyter-widgets/controls",
      "model_module_version": "1.5.0",
      "model_name": "DescriptionStyleModel",
      "state": {
       "_model_module": "@jupyter-widgets/controls",
       "_model_module_version": "1.5.0",
       "_model_name": "DescriptionStyleModel",
       "_view_count": null,
       "_view_module": "@jupyter-widgets/base",
       "_view_module_version": "1.2.0",
       "_view_name": "StyleView",
       "description_width": ""
      }
     },
     "3b12f0b83f044cb399d5478be5634188": {
      "model_module": "@jupyter-widgets/base",
      "model_module_version": "1.2.0",
      "model_name": "LayoutModel",
      "state": {
       "_model_module": "@jupyter-widgets/base",
       "_model_module_version": "1.2.0",
       "_model_name": "LayoutModel",
       "_view_count": null,
       "_view_module": "@jupyter-widgets/base",
       "_view_module_version": "1.2.0",
       "_view_name": "LayoutView",
       "align_content": null,
       "align_items": null,
       "align_self": null,
       "border": null,
       "bottom": null,
       "display": null,
       "flex": null,
       "flex_flow": null,
       "grid_area": null,
       "grid_auto_columns": null,
       "grid_auto_flow": null,
       "grid_auto_rows": null,
       "grid_column": null,
       "grid_gap": null,
       "grid_row": null,
       "grid_template_areas": null,
       "grid_template_columns": null,
       "grid_template_rows": null,
       "height": null,
       "justify_content": null,
       "justify_items": null,
       "left": null,
       "margin": null,
       "max_height": null,
       "max_width": null,
       "min_height": null,
       "min_width": null,
       "object_fit": null,
       "object_position": null,
       "order": null,
       "overflow": null,
       "overflow_x": null,
       "overflow_y": null,
       "padding": null,
       "right": null,
       "top": null,
       "visibility": null,
       "width": null
      }
     },
     "42cb6ccd737748c0a4ddb02a7f2fc9e1": {
      "model_module": "@jupyter-widgets/controls",
      "model_module_version": "1.5.0",
      "model_name": "HTMLModel",
      "state": {
       "_dom_classes": [],
       "_model_module": "@jupyter-widgets/controls",
       "_model_module_version": "1.5.0",
       "_model_name": "HTMLModel",
       "_view_count": null,
       "_view_module": "@jupyter-widgets/controls",
       "_view_module_version": "1.5.0",
       "_view_name": "HTMLView",
       "description": "",
       "description_tooltip": null,
       "layout": "IPY_MODEL_fb35b0822dcb477d87d0397f03187a35",
       "placeholder": "​",
       "style": "IPY_MODEL_271db330070c4729b770eedd16ca8ba1",
       "value": "<h5><a href=\"https://github.com/nteract/nteract\">nteract/nteract</a></h5>\n<ul>\n<li><a href=\"https://github.com/nteract/nteract/issues/5617\">(#5617)</a>: <em>Are there any plans to update nteract modules to support react 17/18?</em> by <strong><a href=\"https://github.com/Emmanuella-Aninye\">@Emmanuella-Aninye</a></strong></li>\n<li><a href=\"https://github.com/nteract/nteract/issues/5588\">(#5588)</a>: <em>Migrating to react-redux v7</em> by <strong><a href=\"https://github.com/vivek1729\">@vivek1729</a></strong></li>\n<li><a href=\"https://github.com/nteract/nteract/issues/5443\">(#5443)</a>: <em>Kernel message buffers should use Array instead of TypedArray</em> by <strong><a href=\"https://github.com/nicholaswold\">@nicholaswold</a></strong></li>\n<li><a href=\"https://github.com/nteract/nteract/issues/5615\">(#5615)</a>: <em>When will nteract be updated?</em> by <strong><a href=\"https://github.com/Sandural\">@Sandural</a></strong></li>\n<li><a href=\"https://github.com/nteract/nteract/issues/5603\">(#5603)</a>: <em>Set up security.md policy for vulnerabilities</em> by <strong><a href=\"https://github.com/willingc\">@willingc</a></strong></li>\n</ul>"
      }
     },
     "439861a05a50454084f48bf9e6034fab": {
      "model_module": "@jupyter-widgets/controls",
      "model_module_version": "1.5.0",
      "model_name": "HTMLModel",
      "state": {
       "_dom_classes": [],
       "_model_module": "@jupyter-widgets/controls",
       "_model_module_version": "1.5.0",
       "_model_name": "HTMLModel",
       "_view_count": null,
       "_view_module": "@jupyter-widgets/controls",
       "_view_module_version": "1.5.0",
       "_view_name": "HTMLView",
       "description": "",
       "description_tooltip": null,
       "layout": "IPY_MODEL_0372993bb0d64c9ca1268f65d9ae73bd",
       "placeholder": "​",
       "style": "IPY_MODEL_df187f0663d84d8ca241515378acf012",
       "value": "<h5><a href=\"https://github.com/nteract/play\">nteract/play</a></h5>"
      }
     },
     "4804326887424409ac6d178564224aa1": {
      "model_module": "@jupyter-widgets/controls",
      "model_module_version": "1.5.0",
      "model_name": "HTMLModel",
      "state": {
       "_dom_classes": [],
       "_model_module": "@jupyter-widgets/controls",
       "_model_module_version": "1.5.0",
       "_model_name": "HTMLModel",
       "_view_count": null,
       "_view_module": "@jupyter-widgets/controls",
       "_view_module_version": "1.5.0",
       "_view_name": "HTMLView",
       "description": "",
       "description_tooltip": null,
       "layout": "IPY_MODEL_2ada06dd94aa479e8b8f9432ebcc6ef5",
       "placeholder": "​",
       "style": "IPY_MODEL_b0e0dd5751bc4f1ba0f6e39c7393a43e",
       "value": "<h5><a href=\"https://github.com/nteract/semiotic\">nteract/semiotic</a></h5>\n<ul>\n<li><a href=\"https://github.com/nteract/semiotic/issues/545\">(#545)</a>: <em>Project maintenance</em> by <strong><a href=\"https://github.com/Midnighter\">@Midnighter</a></strong></li>\n</ul>"
      }
     },
     "4948663d64eb402488c68a10f0ec2a4e": {
      "model_module": "@jupyter-widgets/controls",
      "model_module_version": "1.5.0",
      "model_name": "HTMLModel",
      "state": {
       "_dom_classes": [],
       "_model_module": "@jupyter-widgets/controls",
       "_model_module_version": "1.5.0",
       "_model_name": "HTMLModel",
       "_view_count": null,
       "_view_module": "@jupyter-widgets/controls",
       "_view_module_version": "1.5.0",
       "_view_name": "HTMLView",
       "description": "",
       "description_tooltip": null,
       "layout": "IPY_MODEL_376747a783d04d05b266dfa275bd0f0d",
       "placeholder": "​",
       "style": "IPY_MODEL_ada1229df92444469bc1ec72d553223b",
       "value": "<h5><a href=\"https://github.com/nteract/commuter\">nteract/commuter</a></h5>\n<ul>\n<li><a href=\"https://github.com/nteract/commuter/issues/328\">(#328)</a>: <em>Feature Request: Configurable context path or prefix URL</em> by <strong><a href=\"https://github.com/ricecooker\">@ricecooker</a></strong></li>\n<li><a href=\"https://github.com/nteract/commuter/issues/331\">(#331)</a>: <em>Ability to access Commuter Notebooks from Nteract UI or Jupyter Lab</em> by <strong><a href=\"https://github.com/arunhallan\">@arunhallan</a></strong></li>\n</ul>"
      }
     },
     "49aa99a08ef04d158fdea66d9a80c879": {
      "model_module": "@jupyter-widgets/base",
      "model_module_version": "1.2.0",
      "model_name": "LayoutModel",
      "state": {
       "_model_module": "@jupyter-widgets/base",
       "_model_module_version": "1.2.0",
       "_model_name": "LayoutModel",
       "_view_count": null,
       "_view_module": "@jupyter-widgets/base",
       "_view_module_version": "1.2.0",
       "_view_name": "LayoutView",
       "align_content": null,
       "align_items": null,
       "align_self": null,
       "border": null,
       "bottom": null,
       "display": null,
       "flex": null,
       "flex_flow": null,
       "grid_area": null,
       "grid_auto_columns": null,
       "grid_auto_flow": null,
       "grid_auto_rows": null,
       "grid_column": null,
       "grid_gap": null,
       "grid_row": null,
       "grid_template_areas": null,
       "grid_template_columns": null,
       "grid_template_rows": null,
       "height": null,
       "justify_content": null,
       "justify_items": null,
       "left": null,
       "margin": null,
       "max_height": null,
       "max_width": null,
       "min_height": null,
       "min_width": null,
       "object_fit": null,
       "object_position": null,
       "order": null,
       "overflow": null,
       "overflow_x": null,
       "overflow_y": null,
       "padding": null,
       "right": null,
       "top": null,
       "visibility": null,
       "width": null
      }
     },
     "4adc04e7401845629857fe76cea59493": {
      "model_module": "@jupyter-widgets/controls",
      "model_module_version": "1.5.0",
      "model_name": "DescriptionStyleModel",
      "state": {
       "_model_module": "@jupyter-widgets/controls",
       "_model_module_version": "1.5.0",
       "_model_name": "DescriptionStyleModel",
       "_view_count": null,
       "_view_module": "@jupyter-widgets/base",
       "_view_module_version": "1.2.0",
       "_view_name": "StyleView",
       "description_width": ""
      }
     },
     "4ef6961fe70c48628adc4258e6c97b1c": {
      "model_module": "@jupyter-widgets/base",
      "model_module_version": "1.2.0",
      "model_name": "LayoutModel",
      "state": {
       "_model_module": "@jupyter-widgets/base",
       "_model_module_version": "1.2.0",
       "_model_name": "LayoutModel",
       "_view_count": null,
       "_view_module": "@jupyter-widgets/base",
       "_view_module_version": "1.2.0",
       "_view_name": "LayoutView",
       "align_content": null,
       "align_items": null,
       "align_self": null,
       "border": null,
       "bottom": null,
       "display": null,
       "flex": null,
       "flex_flow": null,
       "grid_area": null,
       "grid_auto_columns": null,
       "grid_auto_flow": null,
       "grid_auto_rows": null,
       "grid_column": null,
       "grid_gap": null,
       "grid_row": null,
       "grid_template_areas": null,
       "grid_template_columns": null,
       "grid_template_rows": null,
       "height": null,
       "justify_content": null,
       "justify_items": null,
       "left": null,
       "margin": null,
       "max_height": null,
       "max_width": null,
       "min_height": null,
       "min_width": null,
       "object_fit": null,
       "object_position": null,
       "order": null,
       "overflow": null,
       "overflow_x": null,
       "overflow_y": null,
       "padding": null,
       "right": null,
       "top": null,
       "visibility": null,
       "width": null
      }
     },
     "53fce544d261441bbda57e13f83b2ded": {
      "model_module": "@jupyter-widgets/base",
      "model_module_version": "1.2.0",
      "model_name": "LayoutModel",
      "state": {
       "_model_module": "@jupyter-widgets/base",
       "_model_module_version": "1.2.0",
       "_model_name": "LayoutModel",
       "_view_count": null,
       "_view_module": "@jupyter-widgets/base",
       "_view_module_version": "1.2.0",
       "_view_name": "LayoutView",
       "align_content": null,
       "align_items": null,
       "align_self": null,
       "border": null,
       "bottom": null,
       "display": null,
       "flex": null,
       "flex_flow": null,
       "grid_area": null,
       "grid_auto_columns": null,
       "grid_auto_flow": null,
       "grid_auto_rows": null,
       "grid_column": null,
       "grid_gap": null,
       "grid_row": null,
       "grid_template_areas": null,
       "grid_template_columns": null,
       "grid_template_rows": null,
       "height": null,
       "justify_content": null,
       "justify_items": null,
       "left": null,
       "margin": null,
       "max_height": null,
       "max_width": null,
       "min_height": null,
       "min_width": null,
       "object_fit": null,
       "object_position": null,
       "order": null,
       "overflow": null,
       "overflow_x": null,
       "overflow_y": null,
       "padding": null,
       "right": null,
       "top": null,
       "visibility": null,
       "width": null
      }
     },
     "56ce334ac99e4691a85c79505a25914d": {
      "model_module": "@jupyter-widgets/base",
      "model_module_version": "1.2.0",
      "model_name": "LayoutModel",
      "state": {
       "_model_module": "@jupyter-widgets/base",
       "_model_module_version": "1.2.0",
       "_model_name": "LayoutModel",
       "_view_count": null,
       "_view_module": "@jupyter-widgets/base",
       "_view_module_version": "1.2.0",
       "_view_name": "LayoutView",
       "align_content": null,
       "align_items": null,
       "align_self": null,
       "border": null,
       "bottom": null,
       "display": null,
       "flex": null,
       "flex_flow": null,
       "grid_area": null,
       "grid_auto_columns": null,
       "grid_auto_flow": null,
       "grid_auto_rows": null,
       "grid_column": null,
       "grid_gap": null,
       "grid_row": null,
       "grid_template_areas": null,
       "grid_template_columns": null,
       "grid_template_rows": null,
       "height": null,
       "justify_content": null,
       "justify_items": null,
       "left": null,
       "margin": null,
       "max_height": null,
       "max_width": null,
       "min_height": null,
       "min_width": null,
       "object_fit": null,
       "object_position": null,
       "order": null,
       "overflow": null,
       "overflow_x": null,
       "overflow_y": null,
       "padding": null,
       "right": null,
       "top": null,
       "visibility": null,
       "width": null
      }
     },
     "5ce6322c75c743279072fefdbe467cda": {
      "model_module": "@jupyter-widgets/controls",
      "model_module_version": "1.5.0",
      "model_name": "DescriptionStyleModel",
      "state": {
       "_model_module": "@jupyter-widgets/controls",
       "_model_module_version": "1.5.0",
       "_model_name": "DescriptionStyleModel",
       "_view_count": null,
       "_view_module": "@jupyter-widgets/base",
       "_view_module_version": "1.2.0",
       "_view_name": "StyleView",
       "description_width": ""
      }
     },
     "5d0463e33bd6472981453ebb7c1911d2": {
      "model_module": "@jupyter-widgets/controls",
      "model_module_version": "1.5.0",
      "model_name": "HTMLModel",
      "state": {
       "_dom_classes": [],
       "_model_module": "@jupyter-widgets/controls",
       "_model_module_version": "1.5.0",
       "_model_name": "HTMLModel",
       "_view_count": null,
       "_view_module": "@jupyter-widgets/controls",
       "_view_module_version": "1.5.0",
       "_view_name": "HTMLView",
       "description": "",
       "description_tooltip": null,
       "layout": "IPY_MODEL_142cf246bfe147d98a98217a2906194f",
       "placeholder": "​",
       "style": "IPY_MODEL_f2d71fb48baa4429bcfd643ea97b1d52",
       "value": "<h5><a href=\"https://github.com/nteract/nteract.io\">nteract/nteract.io</a></h5>"
      }
     },
     "5da25520a01040dc9ed2f51329c6631d": {
      "model_module": "@jupyter-widgets/controls",
      "model_module_version": "1.5.0",
      "model_name": "DescriptionStyleModel",
      "state": {
       "_model_module": "@jupyter-widgets/controls",
       "_model_module_version": "1.5.0",
       "_model_name": "DescriptionStyleModel",
       "_view_count": null,
       "_view_module": "@jupyter-widgets/base",
       "_view_module_version": "1.2.0",
       "_view_name": "StyleView",
       "description_width": ""
      }
     },
     "5ec5cb05ee224ade8121e8e78b1cc3f8": {
      "model_module": "@jupyter-widgets/controls",
      "model_module_version": "1.5.0",
      "model_name": "HTMLModel",
      "state": {
       "_dom_classes": [],
       "_model_module": "@jupyter-widgets/controls",
       "_model_module_version": "1.5.0",
       "_model_name": "HTMLModel",
       "_view_count": null,
       "_view_module": "@jupyter-widgets/controls",
       "_view_module_version": "1.5.0",
       "_view_name": "HTMLView",
       "description": "",
       "description_tooltip": null,
       "layout": "IPY_MODEL_4ef6961fe70c48628adc4258e6c97b1c",
       "placeholder": "​",
       "style": "IPY_MODEL_110f9438620d4a5aa8914d317b1d438d",
       "value": "<h5><a href=\"https://github.com/nteract/data-explorer\">nteract/data-explorer</a></h5>"
      }
     },
     "60ad65a52ea145819e7b9437a1bb568b": {
      "model_module": "@jupyter-widgets/controls",
      "model_module_version": "1.5.0",
      "model_name": "DescriptionStyleModel",
      "state": {
       "_model_module": "@jupyter-widgets/controls",
       "_model_module_version": "1.5.0",
       "_model_name": "DescriptionStyleModel",
       "_view_count": null,
       "_view_module": "@jupyter-widgets/base",
       "_view_module_version": "1.2.0",
       "_view_name": "StyleView",
       "description_width": ""
      }
     },
     "64481f5259cb46d2b15084a047c36736": {
      "model_module": "@jupyter-widgets/controls",
      "model_module_version": "1.5.0",
      "model_name": "HTMLModel",
      "state": {
       "_dom_classes": [],
       "_model_module": "@jupyter-widgets/controls",
       "_model_module_version": "1.5.0",
       "_model_name": "HTMLModel",
       "_view_count": null,
       "_view_module": "@jupyter-widgets/controls",
       "_view_module_version": "1.5.0",
       "_view_name": "HTMLView",
       "description": "",
       "description_tooltip": null,
       "layout": "IPY_MODEL_53fce544d261441bbda57e13f83b2ded",
       "placeholder": "​",
       "style": "IPY_MODEL_801c0714dc7b4d8e91651ee51d857f4e",
       "value": "<h4>Closed PRs for repo: <a href=\"https://github.com/nteract/hydrogen\">nteract/hydrogen</a></h4>\n<h5></h5>\n<ul>\n<li><a href=\"https://github.com/nteract/hydrogen/pull/2135\">(#2135)</a>: <em>Fix typo in docs</em> by <strong><a href=\"https://github.com/chkoss\">@chkoss</a></strong> merged by <strong><a href=\"https://github.com/aminya\">@aminya</a></strong></li>\n</ul>"
      }
     },
     "65df6e08346c49ad8836f1a038d8c4fe": {
      "model_module": "@jupyter-widgets/controls",
      "model_module_version": "1.5.0",
      "model_name": "HTMLModel",
      "state": {
       "_dom_classes": [],
       "_model_module": "@jupyter-widgets/controls",
       "_model_module_version": "1.5.0",
       "_model_name": "HTMLModel",
       "_view_count": null,
       "_view_module": "@jupyter-widgets/controls",
       "_view_module_version": "1.5.0",
       "_view_name": "HTMLView",
       "description": "",
       "description_tooltip": null,
       "layout": "IPY_MODEL_66634cf9eb114293a7a4380e688bb546",
       "placeholder": "​",
       "style": "IPY_MODEL_d5068b66c94349ca8a9c63bdceeb4096",
       "value": "<ul>\n<li>(2) is it possible to disable black? - papermill - <a href=\"https://github.com/nteract/papermill/issues/534\">#534</a></li>\n<li>(2) token not working in jupyter kernelgateway - hydrogen - <a href=\"https://github.com/nteract/hydrogen/issues/2132\">#2132</a></li>\n<li>(2) Feature Request: Configurable context path or prefix URL - commuter - <a href=\"https://github.com/nteract/commuter/issues/328\">#328</a></li>\n<li>(0) scrap.Scrap as a dataclass - scrapbook - <a href=\"https://github.com/nteract/scrapbook/issues/89\">#89</a></li>\n<li>(0) 三年前没有语法提示 现在仍然没有 tab键还是无法触发 - nteract - <a href=\"https://github.com/nteract/nteract/issues/5599\">#5599</a></li>\n<li>(0) Issue running Hydrogen-python variable explorer - hydrogen - <a href=\"https://github.com/nteract/hydrogen/issues/2130\">#2130</a></li>\n<li>(0) Handling uncaught promise rejects in Jupyter widgets package - outputs - <a href=\"https://github.com/nteract/outputs/issues/81\">#81</a></li>\n<li>(0) PapermillExecutionError cannot be loaded from picklefile - papermill - <a href=\"https://github.com/nteract/papermill/issues/628\">#628</a></li>\n<li>(0) outputToJS is expensive when there is a large portion of \"stream\" output - nteract - <a href=\"https://github.com/nteract/nteract/issues/5595\">#5595</a></li>\n<li>(0) Kernel and Django issue with Docker - papermill - <a href=\"https://github.com/nteract/papermill/issues/626\">#626</a></li>\n<li>(0) stop just current execution code  - hydrogen - <a href=\"https://github.com/nteract/hydrogen/issues/2129\">#2129</a></li>\n<li>(0) lon - hydrogen - <a href=\"https://github.com/nteract/hydrogen/issues/2128\">#2128</a></li>\n<li>(0) Support for objects as return_value when patching - testbook - <a href=\"https://github.com/nteract/testbook/issues/133\">#133</a></li>\n<li>(0) run-cell shortcut not working in R Markdown? - hydrogen - <a href=\"https://github.com/nteract/hydrogen/issues/2127\">#2127</a></li>\n<li>(0) Hydrogen does not find Stata_kernel, although it is installed and works fine with Jupyter - hydrogen - <a href=\"https://github.com/nteract/hydrogen/issues/2126\">#2126</a></li>\n<li>(0) Input prompts don't disappear after entry - nteract - <a href=\"https://github.com/nteract/nteract/issues/5592\">#5592</a></li>\n<li>(0) Image insert and display  - hydrogen - <a href=\"https://github.com/nteract/hydrogen/issues/2125\">#2125</a></li>\n<li>(0) Need fix for recent GCFS changes - papermill - <a href=\"https://github.com/nteract/papermill/issues/623\">#623</a></li>\n<li>(0) Migrating to react-redux v7 - nteract - <a href=\"https://github.com/nteract/nteract/issues/5588\">#5588</a></li>\n<li>(0) Icon for \"Add cell above\" should have arrow pointing up, not down - nteract - <a href=\"https://github.com/nteract/nteract/issues/5555\">#5555</a></li>\n<li>(0) Add python 3.9 to test suite / tox - testbook - <a href=\"https://github.com/nteract/testbook/issues/121\">#121</a></li>\n<li>(0) Kernel message buffers should use Array instead of TypedArray - nteract - <a href=\"https://github.com/nteract/nteract/issues/5443\">#5443</a></li>\n<li>(0) height need to be fix and content need to be overflow: scroll - nteract - <a href=\"https://github.com/nteract/nteract/issues/5600\">#5600</a></li>\n<li>(0) Injecting <code>pm</code> parameters breaks. - papermill - <a href=\"https://github.com/nteract/papermill/issues/640\">#640</a></li>\n<li>(0) Image output doesn't have width and height set - outputs - <a href=\"https://github.com/nteract/outputs/issues/91\">#91</a></li>\n</ul>"
      }
     },
     "66634cf9eb114293a7a4380e688bb546": {
      "model_module": "@jupyter-widgets/base",
      "model_module_version": "1.2.0",
      "model_name": "LayoutModel",
      "state": {
       "_model_module": "@jupyter-widgets/base",
       "_model_module_version": "1.2.0",
       "_model_name": "LayoutModel",
       "_view_count": null,
       "_view_module": "@jupyter-widgets/base",
       "_view_module_version": "1.2.0",
       "_view_name": "LayoutView",
       "align_content": null,
       "align_items": null,
       "align_self": null,
       "border": null,
       "bottom": null,
       "display": null,
       "flex": null,
       "flex_flow": null,
       "grid_area": null,
       "grid_auto_columns": null,
       "grid_auto_flow": null,
       "grid_auto_rows": null,
       "grid_column": null,
       "grid_gap": null,
       "grid_row": null,
       "grid_template_areas": null,
       "grid_template_columns": null,
       "grid_template_rows": null,
       "height": null,
       "justify_content": null,
       "justify_items": null,
       "left": null,
       "margin": null,
       "max_height": null,
       "max_width": null,
       "min_height": null,
       "min_width": null,
       "object_fit": null,
       "object_position": null,
       "order": null,
       "overflow": null,
       "overflow_x": null,
       "overflow_y": null,
       "padding": null,
       "right": null,
       "top": null,
       "visibility": null,
       "width": null
      }
     },
     "6704021cc7c24888b3be791daba93534": {
      "model_module": "@jupyter-widgets/controls",
      "model_module_version": "1.5.0",
      "model_name": "DescriptionStyleModel",
      "state": {
       "_model_module": "@jupyter-widgets/controls",
       "_model_module_version": "1.5.0",
       "_model_name": "DescriptionStyleModel",
       "_view_count": null,
       "_view_module": "@jupyter-widgets/base",
       "_view_module_version": "1.2.0",
       "_view_name": "StyleView",
       "description_width": ""
      }
     },
     "6780f6ee406f40aaa6879cdc09deda33": {
      "model_module": "@jupyter-widgets/controls",
      "model_module_version": "1.5.0",
      "model_name": "DescriptionStyleModel",
      "state": {
       "_model_module": "@jupyter-widgets/controls",
       "_model_module_version": "1.5.0",
       "_model_name": "DescriptionStyleModel",
       "_view_count": null,
       "_view_module": "@jupyter-widgets/base",
       "_view_module_version": "1.2.0",
       "_view_name": "StyleView",
       "description_width": ""
      }
     },
     "694c5b596ad144dbbbeebd93f738bc3a": {
      "model_module": "@jupyter-widgets/controls",
      "model_module_version": "1.5.0",
      "model_name": "DescriptionStyleModel",
      "state": {
       "_model_module": "@jupyter-widgets/controls",
       "_model_module_version": "1.5.0",
       "_model_name": "DescriptionStyleModel",
       "_view_count": null,
       "_view_module": "@jupyter-widgets/base",
       "_view_module_version": "1.2.0",
       "_view_name": "StyleView",
       "description_width": ""
      }
     },
     "6ee1be8c38a444fd93ffc9cf9e38d1f9": {
      "model_module": "@jupyter-widgets/base",
      "model_module_version": "1.2.0",
      "model_name": "LayoutModel",
      "state": {
       "_model_module": "@jupyter-widgets/base",
       "_model_module_version": "1.2.0",
       "_model_name": "LayoutModel",
       "_view_count": null,
       "_view_module": "@jupyter-widgets/base",
       "_view_module_version": "1.2.0",
       "_view_name": "LayoutView",
       "align_content": null,
       "align_items": null,
       "align_self": null,
       "border": null,
       "bottom": null,
       "display": null,
       "flex": null,
       "flex_flow": null,
       "grid_area": null,
       "grid_auto_columns": null,
       "grid_auto_flow": null,
       "grid_auto_rows": null,
       "grid_column": null,
       "grid_gap": null,
       "grid_row": null,
       "grid_template_areas": null,
       "grid_template_columns": null,
       "grid_template_rows": null,
       "height": null,
       "justify_content": null,
       "justify_items": null,
       "left": null,
       "margin": null,
       "max_height": null,
       "max_width": null,
       "min_height": null,
       "min_width": null,
       "object_fit": null,
       "object_position": null,
       "order": null,
       "overflow": null,
       "overflow_x": null,
       "overflow_y": null,
       "padding": null,
       "right": null,
       "top": null,
       "visibility": null,
       "width": null
      }
     },
     "7055eb5592184e3a8654dbf706afdb4e": {
      "model_module": "@jupyter-widgets/controls",
      "model_module_version": "1.5.0",
      "model_name": "DescriptionStyleModel",
      "state": {
       "_model_module": "@jupyter-widgets/controls",
       "_model_module_version": "1.5.0",
       "_model_name": "DescriptionStyleModel",
       "_view_count": null,
       "_view_module": "@jupyter-widgets/base",
       "_view_module_version": "1.2.0",
       "_view_name": "StyleView",
       "description_width": ""
      }
     },
     "76067f7c35ff41e7ba6349f71227c2ff": {
      "model_module": "@jupyter-widgets/base",
      "model_module_version": "1.2.0",
      "model_name": "LayoutModel",
      "state": {
       "_model_module": "@jupyter-widgets/base",
       "_model_module_version": "1.2.0",
       "_model_name": "LayoutModel",
       "_view_count": null,
       "_view_module": "@jupyter-widgets/base",
       "_view_module_version": "1.2.0",
       "_view_name": "LayoutView",
       "align_content": null,
       "align_items": null,
       "align_self": null,
       "border": null,
       "bottom": null,
       "display": null,
       "flex": null,
       "flex_flow": null,
       "grid_area": null,
       "grid_auto_columns": null,
       "grid_auto_flow": null,
       "grid_auto_rows": null,
       "grid_column": null,
       "grid_gap": null,
       "grid_row": null,
       "grid_template_areas": null,
       "grid_template_columns": null,
       "grid_template_rows": null,
       "height": null,
       "justify_content": null,
       "justify_items": null,
       "left": null,
       "margin": null,
       "max_height": null,
       "max_width": null,
       "min_height": null,
       "min_width": null,
       "object_fit": null,
       "object_position": null,
       "order": null,
       "overflow": null,
       "overflow_x": null,
       "overflow_y": null,
       "padding": null,
       "right": null,
       "top": null,
       "visibility": null,
       "width": null
      }
     },
     "762f8be63a854a7db264b05732993cfb": {
      "model_module": "@jupyter-widgets/controls",
      "model_module_version": "1.5.0",
      "model_name": "DescriptionStyleModel",
      "state": {
       "_model_module": "@jupyter-widgets/controls",
       "_model_module_version": "1.5.0",
       "_model_name": "DescriptionStyleModel",
       "_view_count": null,
       "_view_module": "@jupyter-widgets/base",
       "_view_module_version": "1.2.0",
       "_view_name": "StyleView",
       "description_width": ""
      }
     },
     "7aa0aa796c1342439bff3a78b41ce070": {
      "model_module": "@jupyter-widgets/base",
      "model_module_version": "1.2.0",
      "model_name": "LayoutModel",
      "state": {
       "_model_module": "@jupyter-widgets/base",
       "_model_module_version": "1.2.0",
       "_model_name": "LayoutModel",
       "_view_count": null,
       "_view_module": "@jupyter-widgets/base",
       "_view_module_version": "1.2.0",
       "_view_name": "LayoutView",
       "align_content": null,
       "align_items": null,
       "align_self": null,
       "border": null,
       "bottom": null,
       "display": null,
       "flex": null,
       "flex_flow": null,
       "grid_area": null,
       "grid_auto_columns": null,
       "grid_auto_flow": null,
       "grid_auto_rows": null,
       "grid_column": null,
       "grid_gap": null,
       "grid_row": null,
       "grid_template_areas": null,
       "grid_template_columns": null,
       "grid_template_rows": null,
       "height": null,
       "justify_content": null,
       "justify_items": null,
       "left": null,
       "margin": null,
       "max_height": null,
       "max_width": null,
       "min_height": null,
       "min_width": null,
       "object_fit": null,
       "object_position": null,
       "order": null,
       "overflow": null,
       "overflow_x": null,
       "overflow_y": null,
       "padding": null,
       "right": null,
       "top": null,
       "visibility": null,
       "width": null
      }
     },
     "7d21b9c44cce4c61a7eb3a509e451c8d": {
      "model_module": "@jupyter-widgets/controls",
      "model_module_version": "1.5.0",
      "model_name": "DescriptionStyleModel",
      "state": {
       "_model_module": "@jupyter-widgets/controls",
       "_model_module_version": "1.5.0",
       "_model_name": "DescriptionStyleModel",
       "_view_count": null,
       "_view_module": "@jupyter-widgets/base",
       "_view_module_version": "1.2.0",
       "_view_name": "StyleView",
       "description_width": ""
      }
     },
     "7ef01e8eba41434c958f6556ea0b35ff": {
      "model_module": "@jupyter-widgets/controls",
      "model_module_version": "1.5.0",
      "model_name": "HTMLModel",
      "state": {
       "_dom_classes": [],
       "_model_module": "@jupyter-widgets/controls",
       "_model_module_version": "1.5.0",
       "_model_name": "HTMLModel",
       "_view_count": null,
       "_view_module": "@jupyter-widgets/controls",
       "_view_module_version": "1.5.0",
       "_view_name": "HTMLView",
       "description": "",
       "description_tooltip": null,
       "layout": "IPY_MODEL_2d6e559ccce64415967f229afdb0aeec",
       "placeholder": "​",
       "style": "IPY_MODEL_395f0bee85c54cfabf9e84b3d2b5dba9",
       "value": "<h5><a href=\"https://github.com/nteract/papermill\">nteract/papermill</a></h5>\n<ul>\n<li><a href=\"https://github.com/nteract/papermill/issues/632\">(#632)</a>: <em>Suppress excessive output</em> by <strong><a href=\"https://github.com/roger-yu-ds\">@roger-yu-ds</a></strong></li>\n<li><a href=\"https://github.com/nteract/papermill/issues/638\">(#638)</a>: _How to NOT specific kernel when run notebook ? _ by <strong><a href=\"https://github.com/ttpro1995\">@ttpro1995</a></strong></li>\n<li><a href=\"https://github.com/nteract/papermill/issues/633\">(#633)</a>: <em>papermill installation not working on Linux system</em> by <strong><a href=\"https://github.com/bidhya\">@bidhya</a></strong></li>\n<li><a href=\"https://github.com/nteract/papermill/issues/630\">(#630)</a>: <em>NaN in output JSON</em> by <strong><a href=\"https://github.com/AlessioC31\">@AlessioC31</a></strong></li>\n</ul>"
      }
     },
     "801c0714dc7b4d8e91651ee51d857f4e": {
      "model_module": "@jupyter-widgets/controls",
      "model_module_version": "1.5.0",
      "model_name": "DescriptionStyleModel",
      "state": {
       "_model_module": "@jupyter-widgets/controls",
       "_model_module_version": "1.5.0",
       "_model_name": "DescriptionStyleModel",
       "_view_count": null,
       "_view_module": "@jupyter-widgets/base",
       "_view_module_version": "1.2.0",
       "_view_name": "StyleView",
       "description_width": ""
      }
     },
     "8202b74d600b4108b7a1bd47b710b7a8": {
      "model_module": "@jupyter-widgets/base",
      "model_module_version": "1.2.0",
      "model_name": "LayoutModel",
      "state": {
       "_model_module": "@jupyter-widgets/base",
       "_model_module_version": "1.2.0",
       "_model_name": "LayoutModel",
       "_view_count": null,
       "_view_module": "@jupyter-widgets/base",
       "_view_module_version": "1.2.0",
       "_view_name": "LayoutView",
       "align_content": null,
       "align_items": null,
       "align_self": null,
       "border": null,
       "bottom": null,
       "display": null,
       "flex": null,
       "flex_flow": null,
       "grid_area": null,
       "grid_auto_columns": null,
       "grid_auto_flow": null,
       "grid_auto_rows": null,
       "grid_column": null,
       "grid_gap": null,
       "grid_row": null,
       "grid_template_areas": null,
       "grid_template_columns": null,
       "grid_template_rows": null,
       "height": null,
       "justify_content": null,
       "justify_items": null,
       "left": null,
       "margin": null,
       "max_height": null,
       "max_width": null,
       "min_height": null,
       "min_width": null,
       "object_fit": null,
       "object_position": null,
       "order": null,
       "overflow": null,
       "overflow_x": null,
       "overflow_y": null,
       "padding": null,
       "right": null,
       "top": null,
       "visibility": null,
       "width": null
      }
     },
     "86b8890f76c842aaabe9aadd4840df5e": {
      "model_module": "@jupyter-widgets/controls",
      "model_module_version": "1.5.0",
      "model_name": "DescriptionStyleModel",
      "state": {
       "_model_module": "@jupyter-widgets/controls",
       "_model_module_version": "1.5.0",
       "_model_name": "DescriptionStyleModel",
       "_view_count": null,
       "_view_module": "@jupyter-widgets/base",
       "_view_module_version": "1.2.0",
       "_view_name": "StyleView",
       "description_width": ""
      }
     },
     "8dcce88828ef4a869a276d3b2efb8d05": {
      "model_module": "@jupyter-widgets/base",
      "model_module_version": "1.2.0",
      "model_name": "LayoutModel",
      "state": {
       "_model_module": "@jupyter-widgets/base",
       "_model_module_version": "1.2.0",
       "_model_name": "LayoutModel",
       "_view_count": null,
       "_view_module": "@jupyter-widgets/base",
       "_view_module_version": "1.2.0",
       "_view_name": "LayoutView",
       "align_content": null,
       "align_items": null,
       "align_self": null,
       "border": null,
       "bottom": null,
       "display": null,
       "flex": null,
       "flex_flow": null,
       "grid_area": null,
       "grid_auto_columns": null,
       "grid_auto_flow": null,
       "grid_auto_rows": null,
       "grid_column": null,
       "grid_gap": null,
       "grid_row": null,
       "grid_template_areas": null,
       "grid_template_columns": null,
       "grid_template_rows": null,
       "height": null,
       "justify_content": null,
       "justify_items": null,
       "left": null,
       "margin": null,
       "max_height": null,
       "max_width": null,
       "min_height": null,
       "min_width": null,
       "object_fit": null,
       "object_position": null,
       "order": null,
       "overflow": null,
       "overflow_x": null,
       "overflow_y": null,
       "padding": null,
       "right": null,
       "top": null,
       "visibility": null,
       "width": null
      }
     },
     "8f8214014fc949cdb6623d15c73b3ced": {
      "model_module": "@jupyter-widgets/base",
      "model_module_version": "1.2.0",
      "model_name": "LayoutModel",
      "state": {
       "_model_module": "@jupyter-widgets/base",
       "_model_module_version": "1.2.0",
       "_model_name": "LayoutModel",
       "_view_count": null,
       "_view_module": "@jupyter-widgets/base",
       "_view_module_version": "1.2.0",
       "_view_name": "LayoutView",
       "align_content": null,
       "align_items": null,
       "align_self": null,
       "border": null,
       "bottom": null,
       "display": null,
       "flex": null,
       "flex_flow": null,
       "grid_area": null,
       "grid_auto_columns": null,
       "grid_auto_flow": null,
       "grid_auto_rows": null,
       "grid_column": null,
       "grid_gap": null,
       "grid_row": null,
       "grid_template_areas": null,
       "grid_template_columns": null,
       "grid_template_rows": null,
       "height": null,
       "justify_content": null,
       "justify_items": null,
       "left": null,
       "margin": null,
       "max_height": null,
       "max_width": null,
       "min_height": null,
       "min_width": null,
       "object_fit": null,
       "object_position": null,
       "order": null,
       "overflow": null,
       "overflow_x": null,
       "overflow_y": null,
       "padding": null,
       "right": null,
       "top": null,
       "visibility": null,
       "width": null
      }
     },
     "94ab99eb148e464186613647eaa85341": {
      "model_module": "@jupyter-widgets/controls",
      "model_module_version": "1.5.0",
      "model_name": "HTMLModel",
      "state": {
       "_dom_classes": [],
       "_model_module": "@jupyter-widgets/controls",
       "_model_module_version": "1.5.0",
       "_model_name": "HTMLModel",
       "_view_count": null,
       "_view_module": "@jupyter-widgets/controls",
       "_view_module_version": "1.5.0",
       "_view_name": "HTMLView",
       "description": "",
       "description_tooltip": null,
       "layout": "IPY_MODEL_d10895c5ab014650a1fa429e8b798096",
       "placeholder": "​",
       "style": "IPY_MODEL_ea51161705db4e21a9e20060fac45f99",
       "value": "<h5><a href=\"https://github.com/nteract/nteract\">nteract/nteract</a></h5>\n<ul>\n<li><a href=\"https://github.com/nteract/nteract/issues/5617\">(#5617)</a>: <em>Are there any plans to update nteract modules to support react 17/18?</em> by <strong><a href=\"https://github.com/Emmanuella-Aninye\">@Emmanuella-Aninye</a></strong></li>\n<li><a href=\"https://github.com/nteract/nteract/issues/5588\">(#5588)</a>: <em>Migrating to react-redux v7</em> by <strong><a href=\"https://github.com/vivek1729\">@vivek1729</a></strong></li>\n<li><a href=\"https://github.com/nteract/nteract/issues/5443\">(#5443)</a>: <em>Kernel message buffers should use Array instead of TypedArray</em> by <strong><a href=\"https://github.com/nicholaswold\">@nicholaswold</a></strong></li>\n<li><a href=\"https://github.com/nteract/nteract/issues/5615\">(#5615)</a>: <em>When will nteract be updated?</em> by <strong><a href=\"https://github.com/Sandural\">@Sandural</a></strong></li>\n<li><a href=\"https://github.com/nteract/nteract/issues/5603\">(#5603)</a>: <em>Set up security.md policy for vulnerabilities</em> by <strong><a href=\"https://github.com/willingc\">@willingc</a></strong></li>\n</ul>"
      }
     },
     "96395fd207b3435c83832837423fcb09": {
      "model_module": "@jupyter-widgets/base",
      "model_module_version": "1.2.0",
      "model_name": "LayoutModel",
      "state": {
       "_model_module": "@jupyter-widgets/base",
       "_model_module_version": "1.2.0",
       "_model_name": "LayoutModel",
       "_view_count": null,
       "_view_module": "@jupyter-widgets/base",
       "_view_module_version": "1.2.0",
       "_view_name": "LayoutView",
       "align_content": null,
       "align_items": null,
       "align_self": null,
       "border": null,
       "bottom": null,
       "display": null,
       "flex": null,
       "flex_flow": null,
       "grid_area": null,
       "grid_auto_columns": null,
       "grid_auto_flow": null,
       "grid_auto_rows": null,
       "grid_column": null,
       "grid_gap": null,
       "grid_row": null,
       "grid_template_areas": null,
       "grid_template_columns": null,
       "grid_template_rows": null,
       "height": null,
       "justify_content": null,
       "justify_items": null,
       "left": null,
       "margin": null,
       "max_height": null,
       "max_width": null,
       "min_height": null,
       "min_width": null,
       "object_fit": null,
       "object_position": null,
       "order": null,
       "overflow": null,
       "overflow_x": null,
       "overflow_y": null,
       "padding": null,
       "right": null,
       "top": null,
       "visibility": null,
       "width": null
      }
     },
     "96e24b61fbd04c06bff40429d0ed2c7d": {
      "model_module": "@jupyter-widgets/base",
      "model_module_version": "1.2.0",
      "model_name": "LayoutModel",
      "state": {
       "_model_module": "@jupyter-widgets/base",
       "_model_module_version": "1.2.0",
       "_model_name": "LayoutModel",
       "_view_count": null,
       "_view_module": "@jupyter-widgets/base",
       "_view_module_version": "1.2.0",
       "_view_name": "LayoutView",
       "align_content": null,
       "align_items": null,
       "align_self": null,
       "border": null,
       "bottom": null,
       "display": null,
       "flex": null,
       "flex_flow": null,
       "grid_area": null,
       "grid_auto_columns": null,
       "grid_auto_flow": null,
       "grid_auto_rows": null,
       "grid_column": null,
       "grid_gap": null,
       "grid_row": null,
       "grid_template_areas": null,
       "grid_template_columns": null,
       "grid_template_rows": null,
       "height": null,
       "justify_content": null,
       "justify_items": null,
       "left": null,
       "margin": null,
       "max_height": null,
       "max_width": null,
       "min_height": null,
       "min_width": null,
       "object_fit": null,
       "object_position": null,
       "order": null,
       "overflow": null,
       "overflow_x": null,
       "overflow_y": null,
       "padding": null,
       "right": null,
       "top": null,
       "visibility": null,
       "width": null
      }
     },
     "9a7b1993c7244f4e9e5aa062fa37f3f6": {
      "model_module": "@jupyter-widgets/controls",
      "model_module_version": "1.5.0",
      "model_name": "HTMLModel",
      "state": {
       "_dom_classes": [],
       "_model_module": "@jupyter-widgets/controls",
       "_model_module_version": "1.5.0",
       "_model_name": "HTMLModel",
       "_view_count": null,
       "_view_module": "@jupyter-widgets/controls",
       "_view_module_version": "1.5.0",
       "_view_name": "HTMLView",
       "description": "",
       "description_tooltip": null,
       "layout": "IPY_MODEL_96395fd207b3435c83832837423fcb09",
       "placeholder": "​",
       "style": "IPY_MODEL_60ad65a52ea145819e7b9437a1bb568b",
       "value": "<h4>Closed PRs for repo: <a href=\"https://github.com/nteract/nteract\">nteract/nteract</a></h4>\n<h5></h5>\n<ul>\n<li><a href=\"https://github.com/nteract/nteract/pull/5622\">(#5622)</a>: <em>fix: set heap size for node process</em> by <strong><a href=\"https://github.com/captainsafia\">@captainsafia</a></strong> merged by <strong><a href=\"https://github.com/captainsafia\">@captainsafia</a></strong></li>\n<li><a href=\"https://github.com/nteract/nteract/pull/5621\">(#5621)</a>: <em>fix: remove nteract-on-jupyter from app build</em> by <strong><a href=\"https://github.com/captainsafia\">@captainsafia</a></strong> merged by <strong><a href=\"https://github.com/captainsafia\">@captainsafia</a></strong></li>\n<li><a href=\"https://github.com/nteract/nteract/pull/5620\">(#5620)</a>: <em>feat: add desktop app release job</em> by <strong><a href=\"https://github.com/captainsafia\">@captainsafia</a></strong> merged by <strong><a href=\"https://github.com/captainsafia\">@captainsafia</a></strong></li>\n<li><a href=\"https://github.com/nteract/nteract/pull/5619\">(#5619)</a>: <em>fix: map output data to pure JS object before render</em> by <strong><a href=\"https://github.com/captainsafia\">@captainsafia</a></strong> merged by <strong><a href=\"https://github.com/captainsafia\">@captainsafia</a></strong></li>\n<li><a href=\"https://github.com/nteract/nteract/pull/5613\">(#5613)</a>: <em>Only show the last input prompt</em> by <strong><a href=\"https://github.com/CrystallineCat\">@CrystallineCat</a></strong> merged by <strong><a href=\"https://github.com/CrystallineCat\">@CrystallineCat</a></strong></li>\n<li><a href=\"https://github.com/nteract/nteract/pull/5612\">(#5612)</a>: <em>Fix the Add Cell Above and Delete Cell icons</em> by <strong><a href=\"https://github.com/CrystallineCat\">@CrystallineCat</a></strong> merged by <strong><a href=\"https://github.com/captainsafia\">@captainsafia</a></strong></li>\n<li><a href=\"https://github.com/nteract/nteract/pull/5611\">(#5611)</a>: <em>fix: resolve #5443 by setting message.buffers to ArrayBuffer</em> by <strong><a href=\"https://github.com/captainsafia\">@captainsafia</a></strong> merged by <strong><a href=\"https://github.com/captainsafia\">@captainsafia</a></strong></li>\n<li><a href=\"https://github.com/nteract/nteract/pull/5609\">(#5609)</a>: <em>fix: bump jupyter-widgets dependency</em> by <strong><a href=\"https://github.com/captainsafia\">@captainsafia</a></strong> merged by <strong><a href=\"https://github.com/captainsafia\">@captainsafia</a></strong></li>\n<li><a href=\"https://github.com/nteract/nteract/pull/5608\">(#5608)</a>: <em>fix: mark react-redux package as a peer dependency</em> by <strong><a href=\"https://github.com/vivek1729\">@vivek1729</a></strong> merged by <strong><a href=\"https://github.com/captainsafia\">@captainsafia</a></strong></li>\n<li><a href=\"https://github.com/nteract/nteract/pull/5604\">(#5604)</a>: <em>Create SECURITY.md</em> by <strong><a href=\"https://github.com/captainsafia\">@captainsafia</a></strong> merged by <strong><a href=\"https://github.com/captainsafia\">@captainsafia</a></strong></li>\n<li><a href=\"https://github.com/nteract/nteract/pull/5602\">(#5602)</a>: <em>fix: allow bumping version of @nteract/markdown</em> by <strong><a href=\"https://github.com/bryanchen-d\">@bryanchen-d</a></strong> merged by <strong><a href=\"https://github.com/bryanchen-d\">@bryanchen-d</a></strong></li>\n<li><a href=\"https://github.com/nteract/nteract/pull/5601\">(#5601)</a>: <em>fix: bump react-redux to 7.2.5</em> by <strong><a href=\"https://github.com/captainsafia\">@captainsafia</a></strong> merged by <strong><a href=\"https://github.com/captainsafia\">@captainsafia</a></strong></li>\n<li><a href=\"https://github.com/nteract/nteract/pull/5596\">(#5596)</a>: <em>fix: skip remultiline in serializing stream output</em> by <strong><a href=\"https://github.com/bryanchen-d\">@bryanchen-d</a></strong> merged by <strong><a href=\"https://github.com/bryanchen-d\">@bryanchen-d</a></strong></li>\n<li><a href=\"https://github.com/nteract/nteract/pull/5594\">(#5594)</a>: <em>DRAFT (Do not merge) Attempt redux7 update</em> by <strong><a href=\"https://github.com/vivek1729\">@vivek1729</a></strong> merged by <strong><a href=\"https://github.com/captainsafia\">@captainsafia</a></strong></li>\n<li><a href=\"https://github.com/nteract/nteract/pull/5593\">(#5593)</a>: <em>Update package.json to include the repository</em> by <strong><a href=\"https://github.com/msftenhanceprovenance\">@msftenhanceprovenance</a></strong> merged by <strong><a href=\"https://github.com/captainsafia\">@captainsafia</a></strong></li>\n<li><a href=\"https://github.com/nteract/nteract/pull/5585\">(#5585)</a>: <em>Mythic RTC fundamentals</em> by <strong><a href=\"https://github.com/alpaix\">@alpaix</a></strong> merged by <strong><a href=\"https://github.com/alpaix\">@alpaix</a></strong></li>\n</ul>"
      }
     },
     "9b6ce16f380a4372b121e2812a89edbc": {
      "model_module": "@jupyter-widgets/controls",
      "model_module_version": "1.5.0",
      "model_name": "HTMLModel",
      "state": {
       "_dom_classes": [],
       "_model_module": "@jupyter-widgets/controls",
       "_model_module_version": "1.5.0",
       "_model_name": "HTMLModel",
       "_view_count": null,
       "_view_module": "@jupyter-widgets/controls",
       "_view_module_version": "1.5.0",
       "_view_name": "HTMLView",
       "description": "",
       "description_tooltip": null,
       "layout": "IPY_MODEL_56ce334ac99e4691a85c79505a25914d",
       "placeholder": "​",
       "style": "IPY_MODEL_7d21b9c44cce4c61a7eb3a509e451c8d",
       "value": "<h5><a href=\"https://github.com/nteract/nteract.io\">nteract/nteract.io</a></h5>"
      }
     },
     "9c8f6947ad9648e482cb1da2568b16be": {
      "model_module": "@jupyter-widgets/controls",
      "model_module_version": "1.5.0",
      "model_name": "HTMLModel",
      "state": {
       "_dom_classes": [],
       "_model_module": "@jupyter-widgets/controls",
       "_model_module_version": "1.5.0",
       "_model_name": "HTMLModel",
       "_view_count": null,
       "_view_module": "@jupyter-widgets/controls",
       "_view_module_version": "1.5.0",
       "_view_name": "HTMLView",
       "description": "",
       "description_tooltip": null,
       "layout": "IPY_MODEL_c864856005114021b5584392a2a861ac",
       "placeholder": "​",
       "style": "IPY_MODEL_0ec91c13c6934ad2929eb0426f8a8e0b",
       "value": "<h4>Closed PRs for repo: <a href=\"https://github.com/nteract/outputs\">nteract/outputs</a></h4>\n<h5></h5>\n<ul>\n<li><a href=\"https://github.com/nteract/outputs/pull/88\">(#88)</a>: <em>Removed updateCellStatus from widgets</em> by <strong><a href=\"https://github.com/miduncan\">@miduncan</a></strong> merged by <strong><a href=\"https://github.com/captainsafia\">@captainsafia</a></strong></li>\n<li><a href=\"https://github.com/nteract/outputs/pull/87\">(#87)</a>: <em>fix: import phosphor.css to fix build error</em> by <strong><a href=\"https://github.com/bryanchen-d\">@bryanchen-d</a></strong> merged by <strong><a href=\"https://github.com/captainsafia\">@captainsafia</a></strong></li>\n<li><a href=\"https://github.com/nteract/outputs/pull/83\">(#83)</a>: <em>fix: bump verion of @jupyter-widget to address vulnerability bugs</em> by <strong><a href=\"https://github.com/bryanchen-d\">@bryanchen-d</a></strong> merged by <strong><a href=\"https://github.com/captainsafia\">@captainsafia</a></strong></li>\n<li><a href=\"https://github.com/nteract/outputs/pull/82\">(#82)</a>: <em>fix: bump react-redux to v7.2.0</em> by <strong><a href=\"https://github.com/captainsafia\">@captainsafia</a></strong> merged by <strong><a href=\"https://github.com/captainsafia\">@captainsafia</a></strong></li>\n<li><a href=\"https://github.com/nteract/outputs/pull/79\">(#79)</a>: <em>chore: bump plotly.js to v2.4.2</em> by <strong><a href=\"https://github.com/archmoj\">@archmoj</a></strong> merged by <strong><a href=\"https://github.com/captainsafia\">@captainsafia</a></strong></li>\n</ul>"
      }
     },
     "9ceebc3854e942deafb379e2a1462ffa": {
      "model_module": "@jupyter-widgets/controls",
      "model_module_version": "1.5.0",
      "model_name": "TabModel",
      "state": {
       "_dom_classes": [],
       "_model_module": "@jupyter-widgets/controls",
       "_model_module_version": "1.5.0",
       "_model_name": "TabModel",
       "_titles": {
        "0": "hydrogen",
        "1": "nteract",
        "2": "nteract.io",
        "3": "outputs",
        "4": "papermill",
        "5": "testbook"
       },
       "_view_count": null,
       "_view_module": "@jupyter-widgets/controls",
       "_view_module_version": "1.5.0",
       "_view_name": "TabView",
       "box_style": "",
       "children": [
        "IPY_MODEL_64481f5259cb46d2b15084a047c36736",
        "IPY_MODEL_9a7b1993c7244f4e9e5aa062fa37f3f6",
        "IPY_MODEL_b885cdeabe624d2d9f6477f85a969586",
        "IPY_MODEL_9c8f6947ad9648e482cb1da2568b16be",
        "IPY_MODEL_227f688336074b728f79b5cc62705194",
        "IPY_MODEL_d596efd71746468ab863916b4d582c6a"
       ],
       "layout": "IPY_MODEL_6ee1be8c38a444fd93ffc9cf9e38d1f9",
       "selected_index": 0
      }
     },
     "9e7e02c9e5e84e1491fa63e288c5c35b": {
      "model_module": "@jupyter-widgets/controls",
      "model_module_version": "1.5.0",
      "model_name": "DescriptionStyleModel",
      "state": {
       "_model_module": "@jupyter-widgets/controls",
       "_model_module_version": "1.5.0",
       "_model_name": "DescriptionStyleModel",
       "_view_count": null,
       "_view_module": "@jupyter-widgets/base",
       "_view_module_version": "1.2.0",
       "_view_name": "StyleView",
       "description_width": ""
      }
     },
     "a10bdbe4337343e3b8550b2f5d172dc8": {
      "model_module": "@jupyter-widgets/base",
      "model_module_version": "1.2.0",
      "model_name": "LayoutModel",
      "state": {
       "_model_module": "@jupyter-widgets/base",
       "_model_module_version": "1.2.0",
       "_model_name": "LayoutModel",
       "_view_count": null,
       "_view_module": "@jupyter-widgets/base",
       "_view_module_version": "1.2.0",
       "_view_name": "LayoutView",
       "align_content": null,
       "align_items": null,
       "align_self": null,
       "border": null,
       "bottom": null,
       "display": null,
       "flex": null,
       "flex_flow": null,
       "grid_area": null,
       "grid_auto_columns": null,
       "grid_auto_flow": null,
       "grid_auto_rows": null,
       "grid_column": null,
       "grid_gap": null,
       "grid_row": null,
       "grid_template_areas": null,
       "grid_template_columns": null,
       "grid_template_rows": null,
       "height": null,
       "justify_content": null,
       "justify_items": null,
       "left": null,
       "margin": null,
       "max_height": null,
       "max_width": null,
       "min_height": null,
       "min_width": null,
       "object_fit": null,
       "object_position": null,
       "order": null,
       "overflow": null,
       "overflow_x": null,
       "overflow_y": null,
       "padding": null,
       "right": null,
       "top": null,
       "visibility": null,
       "width": null
      }
     },
     "a62a2a7eee8f4fbebd334184d800aab9": {
      "model_module": "@jupyter-widgets/controls",
      "model_module_version": "1.5.0",
      "model_name": "HTMLModel",
      "state": {
       "_dom_classes": [],
       "_model_module": "@jupyter-widgets/controls",
       "_model_module_version": "1.5.0",
       "_model_name": "HTMLModel",
       "_view_count": null,
       "_view_module": "@jupyter-widgets/controls",
       "_view_module_version": "1.5.0",
       "_view_name": "HTMLView",
       "description": "",
       "description_tooltip": null,
       "layout": "IPY_MODEL_cfd8e21d51f14cbb8ac84d19ff4edef3",
       "placeholder": "​",
       "style": "IPY_MODEL_5ce6322c75c743279072fefdbe467cda",
       "value": "<h5><a href=\"https://github.com/nteract/hydrogen\">nteract/hydrogen</a></h5>\n<ul>\n<li><a href=\"https://github.com/nteract/hydrogen/issues/2132\">(#2132)</a>: <em>token not working in jupyter kernelgateway</em> by <strong><a href=\"https://github.com/jsyoo61\">@jsyoo61</a></strong></li>\n<li><a href=\"https://github.com/nteract/hydrogen/issues/2128\">(#2128)</a>: <em>lon</em> by <strong><a href=\"https://github.com/Lalpu\">@Lalpu</a></strong></li>\n</ul>"
      }
     },
     "ada1229df92444469bc1ec72d553223b": {
      "model_module": "@jupyter-widgets/controls",
      "model_module_version": "1.5.0",
      "model_name": "DescriptionStyleModel",
      "state": {
       "_model_module": "@jupyter-widgets/controls",
       "_model_module_version": "1.5.0",
       "_model_name": "DescriptionStyleModel",
       "_view_count": null,
       "_view_module": "@jupyter-widgets/base",
       "_view_module_version": "1.2.0",
       "_view_name": "StyleView",
       "description_width": ""
      }
     },
     "b0e0dd5751bc4f1ba0f6e39c7393a43e": {
      "model_module": "@jupyter-widgets/controls",
      "model_module_version": "1.5.0",
      "model_name": "DescriptionStyleModel",
      "state": {
       "_model_module": "@jupyter-widgets/controls",
       "_model_module_version": "1.5.0",
       "_model_name": "DescriptionStyleModel",
       "_view_count": null,
       "_view_module": "@jupyter-widgets/base",
       "_view_module_version": "1.2.0",
       "_view_name": "StyleView",
       "description_width": ""
      }
     },
     "b0ea8f907c1645479a2fdb946eebe91c": {
      "model_module": "@jupyter-widgets/controls",
      "model_module_version": "1.5.0",
      "model_name": "HTMLModel",
      "state": {
       "_dom_classes": [],
       "_model_module": "@jupyter-widgets/controls",
       "_model_module_version": "1.5.0",
       "_model_name": "HTMLModel",
       "_view_count": null,
       "_view_module": "@jupyter-widgets/controls",
       "_view_module_version": "1.5.0",
       "_view_name": "HTMLView",
       "description": "",
       "description_tooltip": null,
       "layout": "IPY_MODEL_8202b74d600b4108b7a1bd47b710b7a8",
       "placeholder": "​",
       "style": "IPY_MODEL_3120662ec4324ab6bf186acc8c5b2f32",
       "value": "<h5><a href=\"https://github.com/nteract/outputs\">nteract/outputs</a></h5>\n<ul>\n<li><a href=\"https://github.com/nteract/outputs/issues/81\">(#81)</a>: <em>Handling uncaught promise rejects in Jupyter widgets package</em> by <strong><a href=\"https://github.com/vivek1729\">@vivek1729</a></strong></li>\n<li><a href=\"https://github.com/nteract/outputs/issues/91\">(#91)</a>: <em>Image output doesn't have width and height set</em> by <strong><a href=\"https://github.com/jruales\">@jruales</a></strong></li>\n</ul>"
      }
     },
     "b30a0d4e992b4e0b8713c86f671e5e1d": {
      "model_module": "@jupyter-widgets/controls",
      "model_module_version": "1.5.0",
      "model_name": "HTMLModel",
      "state": {
       "_dom_classes": [],
       "_model_module": "@jupyter-widgets/controls",
       "_model_module_version": "1.5.0",
       "_model_name": "HTMLModel",
       "_view_count": null,
       "_view_module": "@jupyter-widgets/controls",
       "_view_module_version": "1.5.0",
       "_view_name": "HTMLView",
       "description": "",
       "description_tooltip": null,
       "layout": "IPY_MODEL_fd8faee44eb64bd489c02995b81b4ae4",
       "placeholder": "​",
       "style": "IPY_MODEL_7055eb5592184e3a8654dbf706afdb4e",
       "value": "<h5><a href=\"https://github.com/nteract/bookstore\">nteract/bookstore</a></h5>"
      }
     },
     "b7292b35e94b4aac9197804fc77ec160": {
      "model_module": "@jupyter-widgets/controls",
      "model_module_version": "1.5.0",
      "model_name": "HTMLModel",
      "state": {
       "_dom_classes": [],
       "_model_module": "@jupyter-widgets/controls",
       "_model_module_version": "1.5.0",
       "_model_name": "HTMLModel",
       "_view_count": null,
       "_view_module": "@jupyter-widgets/controls",
       "_view_module_version": "1.5.0",
       "_view_name": "HTMLView",
       "description": "",
       "description_tooltip": null,
       "layout": "IPY_MODEL_188b444e2b6e469c8223d27ff90f43eb",
       "placeholder": "​",
       "style": "IPY_MODEL_694c5b596ad144dbbbeebd93f738bc3a",
       "value": "<h5><a href=\"https://github.com/nteract/bookstore\">nteract/bookstore</a></h5>"
      }
     },
     "b885cdeabe624d2d9f6477f85a969586": {
      "model_module": "@jupyter-widgets/controls",
      "model_module_version": "1.5.0",
      "model_name": "HTMLModel",
      "state": {
       "_dom_classes": [],
       "_model_module": "@jupyter-widgets/controls",
       "_model_module_version": "1.5.0",
       "_model_name": "HTMLModel",
       "_view_count": null,
       "_view_module": "@jupyter-widgets/controls",
       "_view_module_version": "1.5.0",
       "_view_name": "HTMLView",
       "description": "",
       "description_tooltip": null,
       "layout": "IPY_MODEL_8f8214014fc949cdb6623d15c73b3ced",
       "placeholder": "​",
       "style": "IPY_MODEL_86b8890f76c842aaabe9aadd4840df5e",
       "value": "<h4>Closed PRs for repo: <a href=\"https://github.com/nteract/nteract.io\">nteract/nteract.io</a></h4>\n<h5></h5>\n<ul>\n<li><a href=\"https://github.com/nteract/nteract.io/pull/425\">(#425)</a>: <em>fix: set up github actions ci</em> by <strong><a href=\"https://github.com/captainsafia\">@captainsafia</a></strong> merged by <strong><a href=\"https://github.com/captainsafia\">@captainsafia</a></strong></li>\n<li><a href=\"https://github.com/nteract/nteract.io/pull/420\">(#420)</a>: <em>Update Slack links to point to discord</em> by <strong><a href=\"https://github.com/captainsafia\">@captainsafia</a></strong> merged by <strong><a href=\"https://github.com/captainsafia\">@captainsafia</a></strong></li>\n</ul>"
      }
     },
     "b93bd90f594d44788c20041fdbc90d92": {
      "model_module": "@jupyter-widgets/controls",
      "model_module_version": "1.5.0",
      "model_name": "HTMLModel",
      "state": {
       "_dom_classes": [],
       "_model_module": "@jupyter-widgets/controls",
       "_model_module_version": "1.5.0",
       "_model_name": "HTMLModel",
       "_view_count": null,
       "_view_module": "@jupyter-widgets/controls",
       "_view_module_version": "1.5.0",
       "_view_name": "HTMLView",
       "description": "",
       "description_tooltip": null,
       "layout": "IPY_MODEL_7aa0aa796c1342439bff3a78b41ce070",
       "placeholder": "​",
       "style": "IPY_MODEL_2b6c6cafd44a4df49db6d60ef3b04c55",
       "value": "<h5><a href=\"https://github.com/nteract/outputs\">nteract/outputs</a></h5>\n<ul>\n<li><a href=\"https://github.com/nteract/outputs/issues/81\">(#81)</a>: <em>Handling uncaught promise rejects in Jupyter widgets package</em> by <strong><a href=\"https://github.com/vivek1729\">@vivek1729</a></strong></li>\n<li><a href=\"https://github.com/nteract/outputs/issues/91\">(#91)</a>: <em>Image output doesn't have width and height set</em> by <strong><a href=\"https://github.com/jruales\">@jruales</a></strong></li>\n</ul>"
      }
     },
     "bb2018045e4d4db880cfc2b387924505": {
      "model_module": "@jupyter-widgets/controls",
      "model_module_version": "1.5.0",
      "model_name": "HTMLModel",
      "state": {
       "_dom_classes": [],
       "_model_module": "@jupyter-widgets/controls",
       "_model_module_version": "1.5.0",
       "_model_name": "HTMLModel",
       "_view_count": null,
       "_view_module": "@jupyter-widgets/controls",
       "_view_module_version": "1.5.0",
       "_view_name": "HTMLView",
       "description": "",
       "description_tooltip": null,
       "layout": "IPY_MODEL_3b12f0b83f044cb399d5478be5634188",
       "placeholder": "​",
       "style": "IPY_MODEL_6780f6ee406f40aaa6879cdc09deda33",
       "value": "<h5><a href=\"https://github.com/nteract/commuter\">nteract/commuter</a></h5>\n<ul>\n<li><a href=\"https://github.com/nteract/commuter/issues/328\">(#328)</a>: <em>Feature Request: Configurable context path or prefix URL</em> by <strong><a href=\"https://github.com/ricecooker\">@ricecooker</a></strong></li>\n<li><a href=\"https://github.com/nteract/commuter/issues/331\">(#331)</a>: <em>Ability to access Commuter Notebooks from Nteract UI or Jupyter Lab</em> by <strong><a href=\"https://github.com/arunhallan\">@arunhallan</a></strong></li>\n</ul>"
      }
     },
     "c864856005114021b5584392a2a861ac": {
      "model_module": "@jupyter-widgets/base",
      "model_module_version": "1.2.0",
      "model_name": "LayoutModel",
      "state": {
       "_model_module": "@jupyter-widgets/base",
       "_model_module_version": "1.2.0",
       "_model_name": "LayoutModel",
       "_view_count": null,
       "_view_module": "@jupyter-widgets/base",
       "_view_module_version": "1.2.0",
       "_view_name": "LayoutView",
       "align_content": null,
       "align_items": null,
       "align_self": null,
       "border": null,
       "bottom": null,
       "display": null,
       "flex": null,
       "flex_flow": null,
       "grid_area": null,
       "grid_auto_columns": null,
       "grid_auto_flow": null,
       "grid_auto_rows": null,
       "grid_column": null,
       "grid_gap": null,
       "grid_row": null,
       "grid_template_areas": null,
       "grid_template_columns": null,
       "grid_template_rows": null,
       "height": null,
       "justify_content": null,
       "justify_items": null,
       "left": null,
       "margin": null,
       "max_height": null,
       "max_width": null,
       "min_height": null,
       "min_width": null,
       "object_fit": null,
       "object_position": null,
       "order": null,
       "overflow": null,
       "overflow_x": null,
       "overflow_y": null,
       "padding": null,
       "right": null,
       "top": null,
       "visibility": null,
       "width": null
      }
     },
     "cfd8e21d51f14cbb8ac84d19ff4edef3": {
      "model_module": "@jupyter-widgets/base",
      "model_module_version": "1.2.0",
      "model_name": "LayoutModel",
      "state": {
       "_model_module": "@jupyter-widgets/base",
       "_model_module_version": "1.2.0",
       "_model_name": "LayoutModel",
       "_view_count": null,
       "_view_module": "@jupyter-widgets/base",
       "_view_module_version": "1.2.0",
       "_view_name": "LayoutView",
       "align_content": null,
       "align_items": null,
       "align_self": null,
       "border": null,
       "bottom": null,
       "display": null,
       "flex": null,
       "flex_flow": null,
       "grid_area": null,
       "grid_auto_columns": null,
       "grid_auto_flow": null,
       "grid_auto_rows": null,
       "grid_column": null,
       "grid_gap": null,
       "grid_row": null,
       "grid_template_areas": null,
       "grid_template_columns": null,
       "grid_template_rows": null,
       "height": null,
       "justify_content": null,
       "justify_items": null,
       "left": null,
       "margin": null,
       "max_height": null,
       "max_width": null,
       "min_height": null,
       "min_width": null,
       "object_fit": null,
       "object_position": null,
       "order": null,
       "overflow": null,
       "overflow_x": null,
       "overflow_y": null,
       "padding": null,
       "right": null,
       "top": null,
       "visibility": null,
       "width": null
      }
     },
     "d10895c5ab014650a1fa429e8b798096": {
      "model_module": "@jupyter-widgets/base",
      "model_module_version": "1.2.0",
      "model_name": "LayoutModel",
      "state": {
       "_model_module": "@jupyter-widgets/base",
       "_model_module_version": "1.2.0",
       "_model_name": "LayoutModel",
       "_view_count": null,
       "_view_module": "@jupyter-widgets/base",
       "_view_module_version": "1.2.0",
       "_view_name": "LayoutView",
       "align_content": null,
       "align_items": null,
       "align_self": null,
       "border": null,
       "bottom": null,
       "display": null,
       "flex": null,
       "flex_flow": null,
       "grid_area": null,
       "grid_auto_columns": null,
       "grid_auto_flow": null,
       "grid_auto_rows": null,
       "grid_column": null,
       "grid_gap": null,
       "grid_row": null,
       "grid_template_areas": null,
       "grid_template_columns": null,
       "grid_template_rows": null,
       "height": null,
       "justify_content": null,
       "justify_items": null,
       "left": null,
       "margin": null,
       "max_height": null,
       "max_width": null,
       "min_height": null,
       "min_width": null,
       "object_fit": null,
       "object_position": null,
       "order": null,
       "overflow": null,
       "overflow_x": null,
       "overflow_y": null,
       "padding": null,
       "right": null,
       "top": null,
       "visibility": null,
       "width": null
      }
     },
     "d2b0175064fd44cd9aaff4224ef311a3": {
      "model_module": "@jupyter-widgets/base",
      "model_module_version": "1.2.0",
      "model_name": "LayoutModel",
      "state": {
       "_model_module": "@jupyter-widgets/base",
       "_model_module_version": "1.2.0",
       "_model_name": "LayoutModel",
       "_view_count": null,
       "_view_module": "@jupyter-widgets/base",
       "_view_module_version": "1.2.0",
       "_view_name": "LayoutView",
       "align_content": null,
       "align_items": null,
       "align_self": null,
       "border": null,
       "bottom": null,
       "display": null,
       "flex": null,
       "flex_flow": null,
       "grid_area": null,
       "grid_auto_columns": null,
       "grid_auto_flow": null,
       "grid_auto_rows": null,
       "grid_column": null,
       "grid_gap": null,
       "grid_row": null,
       "grid_template_areas": null,
       "grid_template_columns": null,
       "grid_template_rows": null,
       "height": null,
       "justify_content": null,
       "justify_items": null,
       "left": null,
       "margin": null,
       "max_height": null,
       "max_width": null,
       "min_height": null,
       "min_width": null,
       "object_fit": null,
       "object_position": null,
       "order": null,
       "overflow": null,
       "overflow_x": null,
       "overflow_y": null,
       "padding": null,
       "right": null,
       "top": null,
       "visibility": null,
       "width": null
      }
     },
     "d5068b66c94349ca8a9c63bdceeb4096": {
      "model_module": "@jupyter-widgets/controls",
      "model_module_version": "1.5.0",
      "model_name": "DescriptionStyleModel",
      "state": {
       "_model_module": "@jupyter-widgets/controls",
       "_model_module_version": "1.5.0",
       "_model_name": "DescriptionStyleModel",
       "_view_count": null,
       "_view_module": "@jupyter-widgets/base",
       "_view_module_version": "1.2.0",
       "_view_name": "StyleView",
       "description_width": ""
      }
     },
     "d596efd71746468ab863916b4d582c6a": {
      "model_module": "@jupyter-widgets/controls",
      "model_module_version": "1.5.0",
      "model_name": "HTMLModel",
      "state": {
       "_dom_classes": [],
       "_model_module": "@jupyter-widgets/controls",
       "_model_module_version": "1.5.0",
       "_model_name": "HTMLModel",
       "_view_count": null,
       "_view_module": "@jupyter-widgets/controls",
       "_view_module_version": "1.5.0",
       "_view_name": "HTMLView",
       "description": "",
       "description_tooltip": null,
       "layout": "IPY_MODEL_96e24b61fbd04c06bff40429d0ed2c7d",
       "placeholder": "​",
       "style": "IPY_MODEL_05bef6b660634b5eb6bcff39efa10164",
       "value": "<h4>Closed PRs for repo: <a href=\"https://github.com/nteract/testbook\">nteract/testbook</a></h4>\n<h5></h5>\n<ul>\n<li><a href=\"https://github.com/nteract/testbook/pull/135\">(#135)</a>: <em>Add python3.10 to tox and workflow</em> by <strong><a href=\"https://github.com/ronnie-llamado\">@ronnie-llamado</a></strong> merged by <strong><a href=\"https://github.com/MSeal\">@MSeal</a></strong></li>\n<li><a href=\"https://github.com/nteract/testbook/pull/134\">(#134)</a>: <em>Add python3.9 to tox and workflow</em> by <strong><a href=\"https://github.com/ronnie-llamado\">@ronnie-llamado</a></strong> merged by <strong><a href=\"https://github.com/MSeal\">@MSeal</a></strong></li>\n</ul>"
      }
     },
     "da299f191ef545c38191562ef219aff2": {
      "model_module": "@jupyter-widgets/controls",
      "model_module_version": "1.5.0",
      "model_name": "HTMLModel",
      "state": {
       "_dom_classes": [],
       "_model_module": "@jupyter-widgets/controls",
       "_model_module_version": "1.5.0",
       "_model_name": "HTMLModel",
       "_view_count": null,
       "_view_module": "@jupyter-widgets/controls",
       "_view_module_version": "1.5.0",
       "_view_name": "HTMLView",
       "description": "",
       "description_tooltip": null,
       "layout": "IPY_MODEL_a10bdbe4337343e3b8550b2f5d172dc8",
       "placeholder": "​",
       "style": "IPY_MODEL_6704021cc7c24888b3be791daba93534",
       "value": "<h5><a href=\"https://github.com/nteract/testbook\">nteract/testbook</a></h5>\n<ul>\n<li><a href=\"https://github.com/nteract/testbook/issues/137\">(#137)</a>: <em>testbook loads wrong signature for function</em> by <strong><a href=\"https://github.com/midumitrescu\">@midumitrescu</a></strong></li>\n<li><a href=\"https://github.com/nteract/testbook/issues/133\">(#133)</a>: <em>Support for objects as return_value when patching</em> by <strong><a href=\"https://github.com/laserprec\">@laserprec</a></strong></li>\n<li><a href=\"https://github.com/nteract/testbook/issues/121\">(#121)</a>: <em>Add python 3.9 to test suite / tox</em> by <strong><a href=\"https://github.com/MSeal\">@MSeal</a></strong></li>\n</ul>"
      }
     },
     "df187f0663d84d8ca241515378acf012": {
      "model_module": "@jupyter-widgets/controls",
      "model_module_version": "1.5.0",
      "model_name": "DescriptionStyleModel",
      "state": {
       "_model_module": "@jupyter-widgets/controls",
       "_model_module_version": "1.5.0",
       "_model_name": "DescriptionStyleModel",
       "_view_count": null,
       "_view_module": "@jupyter-widgets/base",
       "_view_module_version": "1.2.0",
       "_view_name": "StyleView",
       "description_width": ""
      }
     },
     "e13eef5af4114f459575319e99d23357": {
      "model_module": "@jupyter-widgets/controls",
      "model_module_version": "1.5.0",
      "model_name": "DescriptionStyleModel",
      "state": {
       "_model_module": "@jupyter-widgets/controls",
       "_model_module_version": "1.5.0",
       "_model_name": "DescriptionStyleModel",
       "_view_count": null,
       "_view_module": "@jupyter-widgets/base",
       "_view_module_version": "1.2.0",
       "_view_name": "StyleView",
       "description_width": ""
      }
     },
     "ea51161705db4e21a9e20060fac45f99": {
      "model_module": "@jupyter-widgets/controls",
      "model_module_version": "1.5.0",
      "model_name": "DescriptionStyleModel",
      "state": {
       "_model_module": "@jupyter-widgets/controls",
       "_model_module_version": "1.5.0",
       "_model_name": "DescriptionStyleModel",
       "_view_count": null,
       "_view_module": "@jupyter-widgets/base",
       "_view_module_version": "1.2.0",
       "_view_name": "StyleView",
       "description_width": ""
      }
     },
     "ec5fca24c76e422fbbd7ef2be265c09b": {
      "model_module": "@jupyter-widgets/base",
      "model_module_version": "1.2.0",
      "model_name": "LayoutModel",
      "state": {
       "_model_module": "@jupyter-widgets/base",
       "_model_module_version": "1.2.0",
       "_model_name": "LayoutModel",
       "_view_count": null,
       "_view_module": "@jupyter-widgets/base",
       "_view_module_version": "1.2.0",
       "_view_name": "LayoutView",
       "align_content": null,
       "align_items": null,
       "align_self": null,
       "border": null,
       "bottom": null,
       "display": null,
       "flex": null,
       "flex_flow": null,
       "grid_area": null,
       "grid_auto_columns": null,
       "grid_auto_flow": null,
       "grid_auto_rows": null,
       "grid_column": null,
       "grid_gap": null,
       "grid_row": null,
       "grid_template_areas": null,
       "grid_template_columns": null,
       "grid_template_rows": null,
       "height": null,
       "justify_content": null,
       "justify_items": null,
       "left": null,
       "margin": null,
       "max_height": null,
       "max_width": null,
       "min_height": null,
       "min_width": null,
       "object_fit": null,
       "object_position": null,
       "order": null,
       "overflow": null,
       "overflow_x": null,
       "overflow_y": null,
       "padding": null,
       "right": null,
       "top": null,
       "visibility": null,
       "width": null
      }
     },
     "f00fa676493443f3b221f84483c40986": {
      "model_module": "@jupyter-widgets/base",
      "model_module_version": "1.2.0",
      "model_name": "LayoutModel",
      "state": {
       "_model_module": "@jupyter-widgets/base",
       "_model_module_version": "1.2.0",
       "_model_name": "LayoutModel",
       "_view_count": null,
       "_view_module": "@jupyter-widgets/base",
       "_view_module_version": "1.2.0",
       "_view_name": "LayoutView",
       "align_content": null,
       "align_items": null,
       "align_self": null,
       "border": null,
       "bottom": null,
       "display": null,
       "flex": null,
       "flex_flow": null,
       "grid_area": null,
       "grid_auto_columns": null,
       "grid_auto_flow": null,
       "grid_auto_rows": null,
       "grid_column": null,
       "grid_gap": null,
       "grid_row": null,
       "grid_template_areas": null,
       "grid_template_columns": null,
       "grid_template_rows": null,
       "height": null,
       "justify_content": null,
       "justify_items": null,
       "left": null,
       "margin": null,
       "max_height": null,
       "max_width": null,
       "min_height": null,
       "min_width": null,
       "object_fit": null,
       "object_position": null,
       "order": null,
       "overflow": null,
       "overflow_x": null,
       "overflow_y": null,
       "padding": null,
       "right": null,
       "top": null,
       "visibility": null,
       "width": null
      }
     },
     "f136b9bcbd4140809796ad4e68d0aeac": {
      "model_module": "@jupyter-widgets/controls",
      "model_module_version": "1.5.0",
      "model_name": "HTMLModel",
      "state": {
       "_dom_classes": [],
       "_model_module": "@jupyter-widgets/controls",
       "_model_module_version": "1.5.0",
       "_model_name": "HTMLModel",
       "_view_count": null,
       "_view_module": "@jupyter-widgets/controls",
       "_view_module_version": "1.5.0",
       "_view_name": "HTMLView",
       "description": "",
       "description_tooltip": null,
       "layout": "IPY_MODEL_ec5fca24c76e422fbbd7ef2be265c09b",
       "placeholder": "​",
       "style": "IPY_MODEL_9e7e02c9e5e84e1491fa63e288c5c35b",
       "value": "<h5><a href=\"https://github.com/nteract/semiotic\">nteract/semiotic</a></h5>\n<ul>\n<li><a href=\"https://github.com/nteract/semiotic/issues/545\">(#545)</a>: <em>Project maintenance</em> by <strong><a href=\"https://github.com/Midnighter\">@Midnighter</a></strong></li>\n</ul>"
      }
     },
     "f2d71fb48baa4429bcfd643ea97b1d52": {
      "model_module": "@jupyter-widgets/controls",
      "model_module_version": "1.5.0",
      "model_name": "DescriptionStyleModel",
      "state": {
       "_model_module": "@jupyter-widgets/controls",
       "_model_module_version": "1.5.0",
       "_model_name": "DescriptionStyleModel",
       "_view_count": null,
       "_view_module": "@jupyter-widgets/base",
       "_view_module_version": "1.2.0",
       "_view_name": "StyleView",
       "description_width": ""
      }
     },
     "fb35b0822dcb477d87d0397f03187a35": {
      "model_module": "@jupyter-widgets/base",
      "model_module_version": "1.2.0",
      "model_name": "LayoutModel",
      "state": {
       "_model_module": "@jupyter-widgets/base",
       "_model_module_version": "1.2.0",
       "_model_name": "LayoutModel",
       "_view_count": null,
       "_view_module": "@jupyter-widgets/base",
       "_view_module_version": "1.2.0",
       "_view_name": "LayoutView",
       "align_content": null,
       "align_items": null,
       "align_self": null,
       "border": null,
       "bottom": null,
       "display": null,
       "flex": null,
       "flex_flow": null,
       "grid_area": null,
       "grid_auto_columns": null,
       "grid_auto_flow": null,
       "grid_auto_rows": null,
       "grid_column": null,
       "grid_gap": null,
       "grid_row": null,
       "grid_template_areas": null,
       "grid_template_columns": null,
       "grid_template_rows": null,
       "height": null,
       "justify_content": null,
       "justify_items": null,
       "left": null,
       "margin": null,
       "max_height": null,
       "max_width": null,
       "min_height": null,
       "min_width": null,
       "object_fit": null,
       "object_position": null,
       "order": null,
       "overflow": null,
       "overflow_x": null,
       "overflow_y": null,
       "padding": null,
       "right": null,
       "top": null,
       "visibility": null,
       "width": null
      }
     },
     "fd8faee44eb64bd489c02995b81b4ae4": {
      "model_module": "@jupyter-widgets/base",
      "model_module_version": "1.2.0",
      "model_name": "LayoutModel",
      "state": {
       "_model_module": "@jupyter-widgets/base",
       "_model_module_version": "1.2.0",
       "_model_name": "LayoutModel",
       "_view_count": null,
       "_view_module": "@jupyter-widgets/base",
       "_view_module_version": "1.2.0",
       "_view_name": "LayoutView",
       "align_content": null,
       "align_items": null,
       "align_self": null,
       "border": null,
       "bottom": null,
       "display": null,
       "flex": null,
       "flex_flow": null,
       "grid_area": null,
       "grid_auto_columns": null,
       "grid_auto_flow": null,
       "grid_auto_rows": null,
       "grid_column": null,
       "grid_gap": null,
       "grid_row": null,
       "grid_template_areas": null,
       "grid_template_columns": null,
       "grid_template_rows": null,
       "height": null,
       "justify_content": null,
       "justify_items": null,
       "left": null,
       "margin": null,
       "max_height": null,
       "max_width": null,
       "min_height": null,
       "min_width": null,
       "object_fit": null,
       "object_position": null,
       "order": null,
       "overflow": null,
       "overflow_x": null,
       "overflow_y": null,
       "padding": null,
       "right": null,
       "top": null,
       "visibility": null,
       "width": null
      }
     }
    },
    "version_major": 2,
    "version_minor": 0
   }
  }
 },
 "nbformat": 4,
 "nbformat_minor": 5
}