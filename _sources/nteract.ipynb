{
 "cells": [
  {
   "cell_type": "markdown",
   "id": "3b34bf3f",
   "metadata": {
    "papermill": {
     "duration": 0.035265,
     "end_time": "2021-10-24T01:35:56.517991",
     "exception": false,
     "start_time": "2021-10-24T01:35:56.482726",
     "status": "completed"
    },
    "tags": []
   },
   "source": [
    "# {glue:text}`nteract_github_org`\n",
    "\n",
    "**Activity from {glue:}`nteract_start` to {glue:}`nteract_stop`**"
   ]
  },
  {
   "cell_type": "code",
   "execution_count": 1,
   "id": "562d524f",
   "metadata": {
    "execution": {
     "iopub.execute_input": "2021-10-24T01:35:56.592830Z",
     "iopub.status.busy": "2021-10-24T01:35:56.592287Z",
     "iopub.status.idle": "2021-10-24T01:35:58.048479Z",
     "shell.execute_reply": "2021-10-24T01:35:58.048937Z"
    },
    "papermill": {
     "duration": 1.49787,
     "end_time": "2021-10-24T01:35:58.049199",
     "exception": false,
     "start_time": "2021-10-24T01:35:56.551329",
     "status": "completed"
    },
    "tags": [
     "remove_cell"
    ]
   },
   "outputs": [],
   "source": [
    "from datetime import date\n",
    "from dateutil.relativedelta import relativedelta\n",
    "from myst_nb import glue\n",
    "import seaborn as sns\n",
    "import pandas as pd\n",
    "import numpy as np\n",
    "import altair as alt\n",
    "from markdown import markdown\n",
    "from IPython.display import Markdown\n",
    "from ipywidgets.widgets import HTML, Tab\n",
    "from ipywidgets import widgets\n",
    "from datetime import timedelta\n",
    "from matplotlib import pyplot as plt\n",
    "import os.path as op\n",
    "\n",
    "from warnings import simplefilter\n",
    "simplefilter('ignore')"
   ]
  },
  {
   "cell_type": "code",
   "execution_count": 2,
   "id": "45788f7c",
   "metadata": {
    "execution": {
     "iopub.execute_input": "2021-10-24T01:35:58.127123Z",
     "iopub.status.busy": "2021-10-24T01:35:58.126490Z",
     "iopub.status.idle": "2021-10-24T01:35:58.130427Z",
     "shell.execute_reply": "2021-10-24T01:35:58.130980Z"
    },
    "papermill": {
     "duration": 0.045805,
     "end_time": "2021-10-24T01:35:58.131134",
     "exception": false,
     "start_time": "2021-10-24T01:35:58.085329",
     "status": "completed"
    },
    "tags": [
     "remove_cell"
    ]
   },
   "outputs": [],
   "source": [
    "# Altair config\n",
    "def author_url(author):\n",
    "    return f\"https://github.com/{author}\"\n",
    "\n",
    "def alt_theme():\n",
    "    return {\n",
    "        'config': {\n",
    "            'axisLeft': {\n",
    "                'labelFontSize': 15,\n",
    "            },\n",
    "            'axisBottom': {\n",
    "                'labelFontSize': 15,\n",
    "            },\n",
    "        }\n",
    "    }\n",
    "\n",
    "alt.themes.register('my_theme', alt_theme)\n",
    "alt.themes.enable(\"my_theme\")\n",
    "\n",
    "\n",
    "# Define colors we'll use for GitHub membership\n",
    "author_types = ['MEMBER', 'CONTRIBUTOR', 'COLLABORATOR', \"NONE\"]\n",
    "\n",
    "author_palette = np.array(sns.palettes.blend_palette([\"lightgrey\", \"lightgreen\", \"darkgreen\"], 4)) * 256\n",
    "author_colors = [\"rgb({}, {}, {})\".format(*color) for color in author_palette]\n",
    "author_color_dict = {key: val for key, val in zip(author_types, author_palette)}"
   ]
  },
  {
   "cell_type": "code",
   "execution_count": 3,
   "id": "5e778d00",
   "metadata": {
    "execution": {
     "iopub.execute_input": "2021-10-24T01:35:58.199733Z",
     "iopub.status.busy": "2021-10-24T01:35:58.199169Z",
     "iopub.status.idle": "2021-10-24T01:35:58.201022Z",
     "shell.execute_reply": "2021-10-24T01:35:58.201460Z"
    },
    "papermill": {
     "duration": 0.037534,
     "end_time": "2021-10-24T01:35:58.201598",
     "exception": false,
     "start_time": "2021-10-24T01:35:58.164064",
     "status": "completed"
    },
    "tags": [
     "parameters",
     "hide_input",
     "remove_cell"
    ]
   },
   "outputs": [],
   "source": [
    "github_org = \"jupyterhub\"\n",
    "top_n_repos = 15\n",
    "n_days = 10"
   ]
  },
  {
   "cell_type": "code",
   "execution_count": 4,
   "id": "721c10be",
   "metadata": {
    "execution": {
     "iopub.execute_input": "2021-10-24T01:35:58.279383Z",
     "iopub.status.busy": "2021-10-24T01:35:58.278818Z",
     "iopub.status.idle": "2021-10-24T01:35:58.281104Z",
     "shell.execute_reply": "2021-10-24T01:35:58.280517Z"
    },
    "papermill": {
     "duration": 0.043615,
     "end_time": "2021-10-24T01:35:58.281262",
     "exception": false,
     "start_time": "2021-10-24T01:35:58.237647",
     "status": "completed"
    },
    "tags": [
     "injected-parameters",
     "remove-cell"
    ]
   },
   "outputs": [],
   "source": [
    "# Parameters\n",
    "github_org = \"nteract\"\n",
    "n_days = 90\n"
   ]
  },
  {
   "cell_type": "code",
   "execution_count": 5,
   "id": "eba50cd5",
   "metadata": {
    "execution": {
     "iopub.execute_input": "2021-10-24T01:35:58.358534Z",
     "iopub.status.busy": "2021-10-24T01:35:58.357973Z",
     "iopub.status.idle": "2021-10-24T01:35:58.363973Z",
     "shell.execute_reply": "2021-10-24T01:35:58.364461Z"
    },
    "papermill": {
     "duration": 0.05079,
     "end_time": "2021-10-24T01:35:58.364625",
     "exception": false,
     "start_time": "2021-10-24T01:35:58.313835",
     "status": "completed"
    },
    "tags": [
     "remove_cell"
    ]
   },
   "outputs": [
    {
     "data": {
      "application/papermill.record/text/plain": "'nteract'"
     },
     "metadata": {
      "scrapbook": {
       "mime_prefix": "application/papermill.record/",
       "name": "nteract_github_org"
      }
     },
     "output_type": "display_data"
    },
    {
     "data": {
      "application/papermill.record/text/plain": "'2021-07-26'"
     },
     "metadata": {
      "scrapbook": {
       "mime_prefix": "application/papermill.record/",
       "name": "nteract_start"
      }
     },
     "output_type": "display_data"
    },
    {
     "data": {
      "application/papermill.record/text/plain": "'2021-10-24'"
     },
     "metadata": {
      "scrapbook": {
       "mime_prefix": "application/papermill.record/",
       "name": "nteract_stop"
      }
     },
     "output_type": "display_data"
    }
   ],
   "source": [
    "############################################################\n",
    "# Variables\n",
    "stop = date.today()\n",
    "start = date.today() - relativedelta(days=n_days)\n",
    "\n",
    "# Strings for use in queries\n",
    "start_date = f\"{start:%Y-%m-%d}\"\n",
    "stop_date = f\"{stop:%Y-%m-%d}\"\n",
    "\n",
    "# Glue variables for use in markdown\n",
    "glue(f\"{github_org}_github_org\", github_org, display=False)\n",
    "glue(f\"{github_org}_start\", start_date, display=False)\n",
    "glue(f\"{github_org}_stop\", stop_date, display=False)"
   ]
  },
  {
   "cell_type": "markdown",
   "id": "1003911f",
   "metadata": {
    "papermill": {
     "duration": 0.035921,
     "end_time": "2021-10-24T01:35:58.439362",
     "exception": false,
     "start_time": "2021-10-24T01:35:58.403441",
     "status": "completed"
    },
    "tags": []
   },
   "source": [
    "## Load data\n",
    "\n",
    "Load and clean up the data"
   ]
  },
  {
   "cell_type": "code",
   "execution_count": 6,
   "id": "d78b0be7",
   "metadata": {
    "execution": {
     "iopub.execute_input": "2021-10-24T01:35:58.513607Z",
     "iopub.status.busy": "2021-10-24T01:35:58.513075Z",
     "iopub.status.idle": "2021-10-24T01:35:58.623938Z",
     "shell.execute_reply": "2021-10-24T01:35:58.623429Z"
    },
    "papermill": {
     "duration": 0.151302,
     "end_time": "2021-10-24T01:35:58.624091",
     "exception": false,
     "start_time": "2021-10-24T01:35:58.472789",
     "status": "completed"
    },
    "tags": []
   },
   "outputs": [],
   "source": [
    "from pathlib import Path\n",
    "path_data = Path(\"../data\")\n",
    "comments = pd.read_csv(path_data.joinpath('comments.csv'), index_col=None).drop_duplicates()\n",
    "issues = pd.read_csv(path_data.joinpath('issues.csv'), index_col=None).drop_duplicates()\n",
    "prs = pd.read_csv(path_data.joinpath('prs.csv'), index_col=None).drop_duplicates()\n",
    "\n",
    "for idata in [comments, issues, prs]:\n",
    "    idata.query(\"org == @github_org\", inplace=True)"
   ]
  },
  {
   "cell_type": "code",
   "execution_count": 7,
   "id": "6df2ee14",
   "metadata": {
    "execution": {
     "iopub.execute_input": "2021-10-24T01:35:58.705043Z",
     "iopub.status.busy": "2021-10-24T01:35:58.704500Z",
     "iopub.status.idle": "2021-10-24T01:35:58.708069Z",
     "shell.execute_reply": "2021-10-24T01:35:58.707603Z"
    },
    "papermill": {
     "duration": 0.045064,
     "end_time": "2021-10-24T01:35:58.708197",
     "exception": false,
     "start_time": "2021-10-24T01:35:58.663133",
     "status": "completed"
    },
    "tags": []
   },
   "outputs": [],
   "source": [
    "# What are the top N repos, we will only plot these in the full data plots\n",
    "top_commented_repos = comments.groupby(\"repo\").count().sort_values(\"createdAt\", ascending=False)['createdAt']\n",
    "use_repos = top_commented_repos.head(top_n_repos).index.tolist()"
   ]
  },
  {
   "cell_type": "markdown",
   "id": "af533f7d",
   "metadata": {
    "papermill": {
     "duration": 0.036051,
     "end_time": "2021-10-24T01:35:58.779917",
     "exception": false,
     "start_time": "2021-10-24T01:35:58.743866",
     "status": "completed"
    },
    "tags": [],
    "toc-hr-collapsed": false
   },
   "source": [
    "## Merged Pull requests\n",
    "\n",
    "Here's an analysis of **merged pull requests** across each of the repositories in the Jupyter\n",
    "ecosystem."
   ]
  },
  {
   "cell_type": "code",
   "execution_count": 8,
   "id": "fe588818",
   "metadata": {
    "execution": {
     "iopub.execute_input": "2021-10-24T01:35:58.864821Z",
     "iopub.status.busy": "2021-10-24T01:35:58.864226Z",
     "iopub.status.idle": "2021-10-24T01:35:58.866000Z",
     "shell.execute_reply": "2021-10-24T01:35:58.866464Z"
    },
    "papermill": {
     "duration": 0.049703,
     "end_time": "2021-10-24T01:35:58.866614",
     "exception": false,
     "start_time": "2021-10-24T01:35:58.816911",
     "status": "completed"
    },
    "tags": [
     "remove_cell"
    ]
   },
   "outputs": [],
   "source": [
    "merged = prs.query('state == \"MERGED\" and closedAt > @start_date and closedAt < @stop_date')"
   ]
  },
  {
   "cell_type": "code",
   "execution_count": 9,
   "id": "fa0e1419",
   "metadata": {
    "execution": {
     "iopub.execute_input": "2021-10-24T01:35:58.947631Z",
     "iopub.status.busy": "2021-10-24T01:35:58.947045Z",
     "iopub.status.idle": "2021-10-24T01:35:58.973644Z",
     "shell.execute_reply": "2021-10-24T01:35:58.973147Z"
    },
    "papermill": {
     "duration": 0.072124,
     "end_time": "2021-10-24T01:35:58.973782",
     "exception": false,
     "start_time": "2021-10-24T01:35:58.901658",
     "status": "completed"
    },
    "tags": [
     "hide_input"
    ]
   },
   "outputs": [
    {
     "data": {
      "text/html": [
       "\n",
       "<div id=\"altair-viz-8de7e8e9811541aab35d7cc37a2b801c\"></div>\n",
       "<script type=\"text/javascript\">\n",
       "  (function(spec, embedOpt){\n",
       "    let outputDiv = document.currentScript.previousElementSibling;\n",
       "    if (outputDiv.id !== \"altair-viz-8de7e8e9811541aab35d7cc37a2b801c\") {\n",
       "      outputDiv = document.getElementById(\"altair-viz-8de7e8e9811541aab35d7cc37a2b801c\");\n",
       "    }\n",
       "    const paths = {\n",
       "      \"vega\": \"https://cdn.jsdelivr.net/npm//vega@5?noext\",\n",
       "      \"vega-lib\": \"https://cdn.jsdelivr.net/npm//vega-lib?noext\",\n",
       "      \"vega-lite\": \"https://cdn.jsdelivr.net/npm//vega-lite@4.8.1?noext\",\n",
       "      \"vega-embed\": \"https://cdn.jsdelivr.net/npm//vega-embed@6?noext\",\n",
       "    };\n",
       "\n",
       "    function loadScript(lib) {\n",
       "      return new Promise(function(resolve, reject) {\n",
       "        var s = document.createElement('script');\n",
       "        s.src = paths[lib];\n",
       "        s.async = true;\n",
       "        s.onload = () => resolve(paths[lib]);\n",
       "        s.onerror = () => reject(`Error loading script: ${paths[lib]}`);\n",
       "        document.getElementsByTagName(\"head\")[0].appendChild(s);\n",
       "      });\n",
       "    }\n",
       "\n",
       "    function showError(err) {\n",
       "      outputDiv.innerHTML = `<div class=\"error\" style=\"color:red;\">${err}</div>`;\n",
       "      throw err;\n",
       "    }\n",
       "\n",
       "    function displayChart(vegaEmbed) {\n",
       "      vegaEmbed(outputDiv, spec, embedOpt)\n",
       "        .catch(err => showError(`Javascript Error: ${err.message}<br>This usually means there's a typo in your chart specification. See the javascript console for the full traceback.`));\n",
       "    }\n",
       "\n",
       "    if(typeof define === \"function\" && define.amd) {\n",
       "      requirejs.config({paths});\n",
       "      require([\"vega-embed\"], displayChart, err => showError(`Error loading script: ${err.message}`));\n",
       "    } else if (typeof vegaEmbed === \"function\") {\n",
       "      displayChart(vegaEmbed);\n",
       "    } else {\n",
       "      loadScript(\"vega\")\n",
       "        .then(() => loadScript(\"vega-lite\"))\n",
       "        .then(() => loadScript(\"vega-embed\"))\n",
       "        .catch(showError)\n",
       "        .then(() => displayChart(vegaEmbed));\n",
       "    }\n",
       "  })({\"config\": {\"axisLeft\": {\"labelFontSize\": 15}, \"axisBottom\": {\"labelFontSize\": 15}}, \"data\": {\"name\": \"data-7bcc2b7c47a7fd971e7599967a452243\"}, \"mark\": \"bar\", \"encoding\": {\"color\": {\"type\": \"nominal\", \"field\": \"org\"}, \"x\": {\"type\": \"nominal\", \"field\": \"repo\", \"sort\": [\"nteract\", \"papermill\", \"outputs\", \"meeting-minutes\", \"nteract.io\", \"testbook\", \"ansi-to-react\", \"hydrogen\"]}, \"y\": {\"type\": \"quantitative\", \"field\": \"author\"}}, \"title\": \"Merged PRs in the last 90 days\", \"$schema\": \"https://vega.github.io/schema/vega-lite/v4.8.1.json\", \"datasets\": {\"data-7bcc2b7c47a7fd971e7599967a452243\": [{\"org\": \"nteract\", \"repo\": \"nteract\", \"author\": 12}, {\"org\": \"nteract\", \"repo\": \"papermill\", \"author\": 7}, {\"org\": \"nteract\", \"repo\": \"outputs\", \"author\": 5}, {\"org\": \"nteract\", \"repo\": \"meeting-minutes\", \"author\": 3}, {\"org\": \"nteract\", \"repo\": \"nteract.io\", \"author\": 2}, {\"org\": \"nteract\", \"repo\": \"testbook\", \"author\": 2}, {\"org\": \"nteract\", \"repo\": \"ansi-to-react\", \"author\": 1}, {\"org\": \"nteract\", \"repo\": \"hydrogen\", \"author\": 1}]}}, {\"mode\": \"vega-lite\"});\n",
       "</script>"
      ],
      "text/plain": [
       "alt.Chart(...)"
      ]
     },
     "execution_count": 9,
     "metadata": {},
     "output_type": "execute_result"
    }
   ],
   "source": [
    "prs_by_repo = merged.groupby(['org', 'repo']).count()['author'].reset_index().sort_values(['org', 'author'], ascending=False)\n",
    "alt.Chart(data=prs_by_repo, title=f\"Merged PRs in the last {n_days} days\").mark_bar().encode(\n",
    "    x=alt.X('repo', sort=prs_by_repo['repo'].values.tolist()),\n",
    "    y='author',\n",
    "    color='org'\n",
    ")"
   ]
  },
  {
   "cell_type": "markdown",
   "id": "6459b70d",
   "metadata": {
    "papermill": {
     "duration": 0.036385,
     "end_time": "2021-10-24T01:35:59.045811",
     "exception": false,
     "start_time": "2021-10-24T01:35:59.009426",
     "status": "completed"
    },
    "tags": []
   },
   "source": [
    "### Authoring and merging stats by repository\n",
    "\n",
    "Let's see who has been doing most of the PR authoring and merging. The PR author is generally the\n",
    "person that implemented a change in the repository (code, documentation, etc). The PR merger is\n",
    "the person that \"pressed the green button\" and got the change into the main codebase."
   ]
  },
  {
   "cell_type": "code",
   "execution_count": 10,
   "id": "a1f4c329",
   "metadata": {
    "execution": {
     "iopub.execute_input": "2021-10-24T01:35:59.124103Z",
     "iopub.status.busy": "2021-10-24T01:35:59.123546Z",
     "iopub.status.idle": "2021-10-24T01:35:59.137608Z",
     "shell.execute_reply": "2021-10-24T01:35:59.137089Z"
    },
    "papermill": {
     "duration": 0.056093,
     "end_time": "2021-10-24T01:35:59.137772",
     "exception": false,
     "start_time": "2021-10-24T01:35:59.081679",
     "status": "completed"
    },
    "tags": [
     "remove_cell"
    ]
   },
   "outputs": [],
   "source": [
    "# Prep our merging DF\n",
    "merged_by_repo = merged.groupby(['repo', 'author'], as_index=False).agg({'id': 'count', 'authorAssociation': 'first'}).rename(columns={'id': \"authored\", 'author': 'username'})\n",
    "closed_by_repo = merged.groupby(['repo', 'mergedBy']).count()['id'].reset_index().rename(columns={'id': \"closed\", \"mergedBy\": \"username\"})"
   ]
  },
  {
   "cell_type": "code",
   "execution_count": 11,
   "id": "2fb962d1",
   "metadata": {
    "execution": {
     "iopub.execute_input": "2021-10-24T01:35:59.242415Z",
     "iopub.status.busy": "2021-10-24T01:35:59.222866Z",
     "iopub.status.idle": "2021-10-24T01:35:59.245041Z",
     "shell.execute_reply": "2021-10-24T01:35:59.245479Z"
    },
    "papermill": {
     "duration": 0.069304,
     "end_time": "2021-10-24T01:35:59.245639",
     "exception": false,
     "start_time": "2021-10-24T01:35:59.176335",
     "status": "completed"
    },
    "tags": [
     "hide_input"
    ]
   },
   "outputs": [
    {
     "data": {
      "text/html": [
       "\n",
       "<div id=\"altair-viz-e69fe6f310d94e45b4f9d65e301730ec\"></div>\n",
       "<script type=\"text/javascript\">\n",
       "  (function(spec, embedOpt){\n",
       "    let outputDiv = document.currentScript.previousElementSibling;\n",
       "    if (outputDiv.id !== \"altair-viz-e69fe6f310d94e45b4f9d65e301730ec\") {\n",
       "      outputDiv = document.getElementById(\"altair-viz-e69fe6f310d94e45b4f9d65e301730ec\");\n",
       "    }\n",
       "    const paths = {\n",
       "      \"vega\": \"https://cdn.jsdelivr.net/npm//vega@5?noext\",\n",
       "      \"vega-lib\": \"https://cdn.jsdelivr.net/npm//vega-lib?noext\",\n",
       "      \"vega-lite\": \"https://cdn.jsdelivr.net/npm//vega-lite@4.8.1?noext\",\n",
       "      \"vega-embed\": \"https://cdn.jsdelivr.net/npm//vega-embed@6?noext\",\n",
       "    };\n",
       "\n",
       "    function loadScript(lib) {\n",
       "      return new Promise(function(resolve, reject) {\n",
       "        var s = document.createElement('script');\n",
       "        s.src = paths[lib];\n",
       "        s.async = true;\n",
       "        s.onload = () => resolve(paths[lib]);\n",
       "        s.onerror = () => reject(`Error loading script: ${paths[lib]}`);\n",
       "        document.getElementsByTagName(\"head\")[0].appendChild(s);\n",
       "      });\n",
       "    }\n",
       "\n",
       "    function showError(err) {\n",
       "      outputDiv.innerHTML = `<div class=\"error\" style=\"color:red;\">${err}</div>`;\n",
       "      throw err;\n",
       "    }\n",
       "\n",
       "    function displayChart(vegaEmbed) {\n",
       "      vegaEmbed(outputDiv, spec, embedOpt)\n",
       "        .catch(err => showError(`Javascript Error: ${err.message}<br>This usually means there's a typo in your chart specification. See the javascript console for the full traceback.`));\n",
       "    }\n",
       "\n",
       "    if(typeof define === \"function\" && define.amd) {\n",
       "      requirejs.config({paths});\n",
       "      require([\"vega-embed\"], displayChart, err => showError(`Error loading script: ${err.message}`));\n",
       "    } else if (typeof vegaEmbed === \"function\") {\n",
       "      displayChart(vegaEmbed);\n",
       "    } else {\n",
       "      loadScript(\"vega\")\n",
       "        .then(() => loadScript(\"vega-lite\"))\n",
       "        .then(() => loadScript(\"vega-embed\"))\n",
       "        .catch(showError)\n",
       "        .then(() => displayChart(vegaEmbed));\n",
       "    }\n",
       "  })({\"config\": {\"axisLeft\": {\"labelFontSize\": 15}, \"axisBottom\": {\"labelFontSize\": 15}}, \"data\": {\"name\": \"data-c97857d67072f57fe0c8a0fa825c01a3\"}, \"mark\": \"bar\", \"encoding\": {\"color\": {\"type\": \"nominal\", \"field\": \"authorAssociation\", \"scale\": {\"domain\": [\"MEMBER\", \"CONTRIBUTOR\", \"COLLABORATOR\", \"NONE\"], \"range\": [\"rgb(211.82745098039214, 211.82745098039214, 211.82745098039214)\", \"rgb(166.98562091503268, 229.89803921568628, 166.98562091503268)\", \"rgb(96.37647058823529, 192.75294117647059, 96.37647058823529)\", \"rgb(0.0, 100.3921568627451, 0.0)\"]}}, \"x\": {\"type\": \"nominal\", \"field\": \"username\"}, \"y\": {\"type\": \"quantitative\", \"field\": \"authored\"}}, \"title\": \"PR authors for nteract in the last 90 days\", \"$schema\": \"https://vega.github.io/schema/vega-lite/v4.8.1.json\", \"datasets\": {\"data-c97857d67072f57fe0c8a0fa825c01a3\": [{\"username\": \"captainsafia\", \"authored\": 7, \"authorAssociation\": \"MEMBER\"}, {\"username\": \"vivek1729\", \"authored\": 4, \"authorAssociation\": \"MEMBER\"}, {\"username\": \"bryanchen-d\", \"authored\": 4, \"authorAssociation\": \"MEMBER\"}, {\"username\": \"isabela-pf\", \"authored\": 2, \"authorAssociation\": \"MEMBER\"}, {\"username\": \"ronnie-llamado\", \"authored\": 2, \"authorAssociation\": \"CONTRIBUTOR\"}, {\"username\": \"onevirus\", \"authored\": 2, \"authorAssociation\": \"CONTRIBUTOR\"}, {\"username\": \"miduncan\", \"authored\": 1, \"authorAssociation\": \"MEMBER\"}, {\"username\": \"tregoning\", \"authored\": 1, \"authorAssociation\": \"CONTRIBUTOR\"}, {\"username\": \"tanguycdls\", \"authored\": 1, \"authorAssociation\": \"CONTRIBUTOR\"}, {\"username\": \"msftenhanceprovenance\", \"authored\": 1, \"authorAssociation\": \"CONTRIBUTOR\"}, {\"username\": \"Calder-Ty\", \"authored\": 1, \"authorAssociation\": \"CONTRIBUTOR\"}, {\"username\": \"alpaix\", \"authored\": 1, \"authorAssociation\": \"MEMBER\"}, {\"username\": \"choldgraf\", \"authored\": 1, \"authorAssociation\": \"MEMBER\"}, {\"username\": \"chkoss\", \"authored\": 1, \"authorAssociation\": \"CONTRIBUTOR\"}, {\"username\": \"barryt2\", \"authored\": 1, \"authorAssociation\": \"CONTRIBUTOR\"}, {\"username\": \"archmoj\", \"authored\": 1, \"authorAssociation\": \"CONTRIBUTOR\"}, {\"username\": \"amin-nejad\", \"authored\": 1, \"authorAssociation\": \"CONTRIBUTOR\"}, {\"username\": \"willingc\", \"authored\": 1, \"authorAssociation\": \"MEMBER\"}]}}, {\"mode\": \"vega-lite\"});\n",
       "</script>"
      ],
      "text/plain": [
       "alt.Chart(...)"
      ]
     },
     "execution_count": 11,
     "metadata": {},
     "output_type": "execute_result"
    }
   ],
   "source": [
    "charts = []\n",
    "title = f\"PR authors for {github_org} in the last {n_days} days\"\n",
    "this_data = merged_by_repo.replace(np.nan, 0).groupby('username', as_index=False).agg({'authored': 'sum', 'authorAssociation': 'first'})\n",
    "this_data = this_data.sort_values('authored', ascending=False)\n",
    "ch = alt.Chart(data=this_data, title=title).mark_bar().encode(\n",
    "    x='username',\n",
    "    y='authored',\n",
    "    color=alt.Color('authorAssociation', scale=alt.Scale(domain=author_types, range=author_colors))\n",
    ")\n",
    "ch"
   ]
  },
  {
   "cell_type": "code",
   "execution_count": 12,
   "id": "90bb8575",
   "metadata": {
    "execution": {
     "iopub.execute_input": "2021-10-24T01:35:59.329320Z",
     "iopub.status.busy": "2021-10-24T01:35:59.328785Z",
     "iopub.status.idle": "2021-10-24T01:35:59.343535Z",
     "shell.execute_reply": "2021-10-24T01:35:59.342723Z"
    },
    "papermill": {
     "duration": 0.059223,
     "end_time": "2021-10-24T01:35:59.343698",
     "exception": false,
     "start_time": "2021-10-24T01:35:59.284475",
     "status": "completed"
    },
    "tags": [
     "hide_input"
    ]
   },
   "outputs": [
    {
     "data": {
      "text/html": [
       "\n",
       "<div id=\"altair-viz-1b6fcc46c4a946eba2187e861af33d66\"></div>\n",
       "<script type=\"text/javascript\">\n",
       "  (function(spec, embedOpt){\n",
       "    let outputDiv = document.currentScript.previousElementSibling;\n",
       "    if (outputDiv.id !== \"altair-viz-1b6fcc46c4a946eba2187e861af33d66\") {\n",
       "      outputDiv = document.getElementById(\"altair-viz-1b6fcc46c4a946eba2187e861af33d66\");\n",
       "    }\n",
       "    const paths = {\n",
       "      \"vega\": \"https://cdn.jsdelivr.net/npm//vega@5?noext\",\n",
       "      \"vega-lib\": \"https://cdn.jsdelivr.net/npm//vega-lib?noext\",\n",
       "      \"vega-lite\": \"https://cdn.jsdelivr.net/npm//vega-lite@4.8.1?noext\",\n",
       "      \"vega-embed\": \"https://cdn.jsdelivr.net/npm//vega-embed@6?noext\",\n",
       "    };\n",
       "\n",
       "    function loadScript(lib) {\n",
       "      return new Promise(function(resolve, reject) {\n",
       "        var s = document.createElement('script');\n",
       "        s.src = paths[lib];\n",
       "        s.async = true;\n",
       "        s.onload = () => resolve(paths[lib]);\n",
       "        s.onerror = () => reject(`Error loading script: ${paths[lib]}`);\n",
       "        document.getElementsByTagName(\"head\")[0].appendChild(s);\n",
       "      });\n",
       "    }\n",
       "\n",
       "    function showError(err) {\n",
       "      outputDiv.innerHTML = `<div class=\"error\" style=\"color:red;\">${err}</div>`;\n",
       "      throw err;\n",
       "    }\n",
       "\n",
       "    function displayChart(vegaEmbed) {\n",
       "      vegaEmbed(outputDiv, spec, embedOpt)\n",
       "        .catch(err => showError(`Javascript Error: ${err.message}<br>This usually means there's a typo in your chart specification. See the javascript console for the full traceback.`));\n",
       "    }\n",
       "\n",
       "    if(typeof define === \"function\" && define.amd) {\n",
       "      requirejs.config({paths});\n",
       "      require([\"vega-embed\"], displayChart, err => showError(`Error loading script: ${err.message}`));\n",
       "    } else if (typeof vegaEmbed === \"function\") {\n",
       "      displayChart(vegaEmbed);\n",
       "    } else {\n",
       "      loadScript(\"vega\")\n",
       "        .then(() => loadScript(\"vega-lite\"))\n",
       "        .then(() => loadScript(\"vega-embed\"))\n",
       "        .catch(showError)\n",
       "        .then(() => displayChart(vegaEmbed));\n",
       "    }\n",
       "  })({\"config\": {\"axisLeft\": {\"labelFontSize\": 15}, \"axisBottom\": {\"labelFontSize\": 15}}, \"data\": {\"name\": \"data-1ee37f44062cec22d755dd7f6e3b8eb2\"}, \"mark\": \"bar\", \"encoding\": {\"x\": {\"type\": \"nominal\", \"field\": \"username\"}, \"y\": {\"type\": \"quantitative\", \"field\": \"closed\"}}, \"title\": \"Merges for nteract in the last 90 days\", \"$schema\": \"https://vega.github.io/schema/vega-lite/v4.8.1.json\", \"datasets\": {\"data-1ee37f44062cec22d755dd7f6e3b8eb2\": [{\"repo\": \"ansi-to-react\", \"username\": \"captainsafia\", \"closed\": 1}, {\"repo\": \"hydrogen\", \"username\": \"aminya\", \"closed\": 1}, {\"repo\": \"meeting-minutes\", \"username\": \"captainsafia\", \"closed\": 2}, {\"repo\": \"meeting-minutes\", \"username\": \"willingc\", \"closed\": 1}, {\"repo\": \"nteract\", \"username\": \"alpaix\", \"closed\": 1}, {\"repo\": \"nteract\", \"username\": \"bryanchen-d\", \"closed\": 2}, {\"repo\": \"nteract\", \"username\": \"captainsafia\", \"closed\": 7}, {\"repo\": \"nteract\", \"username\": \"vivek1729\", \"closed\": 2}, {\"repo\": \"nteract.io\", \"username\": \"captainsafia\", \"closed\": 2}, {\"repo\": \"outputs\", \"username\": \"captainsafia\", \"closed\": 5}, {\"repo\": \"papermill\", \"username\": \"MSeal\", \"closed\": 6}, {\"repo\": \"papermill\", \"username\": \"willingc\", \"closed\": 1}, {\"repo\": \"testbook\", \"username\": \"MSeal\", \"closed\": 2}]}}, {\"mode\": \"vega-lite\"});\n",
       "</script>"
      ],
      "text/plain": [
       "alt.Chart(...)"
      ]
     },
     "execution_count": 12,
     "metadata": {},
     "output_type": "execute_result"
    }
   ],
   "source": [
    "charts = []\n",
    "title = f\"Merges for {github_org} in the last {n_days} days\"\n",
    "ch = alt.Chart(data=closed_by_repo.replace(np.nan, 0), title=title).mark_bar().encode(\n",
    "    x='username',\n",
    "    y='closed',\n",
    ")\n",
    "ch"
   ]
  },
  {
   "cell_type": "markdown",
   "id": "e3153dfc",
   "metadata": {
    "papermill": {
     "duration": 0.037533,
     "end_time": "2021-10-24T01:35:59.418517",
     "exception": false,
     "start_time": "2021-10-24T01:35:59.380984",
     "status": "completed"
    },
    "tags": []
   },
   "source": [
    "## Issues\n",
    "\n",
    "Issues are **conversations** that happen on our GitHub repositories. Here's an\n",
    "analysis of issues across the Jupyter organizations."
   ]
  },
  {
   "cell_type": "code",
   "execution_count": 13,
   "id": "f0f073cc",
   "metadata": {
    "execution": {
     "iopub.execute_input": "2021-10-24T01:35:59.502883Z",
     "iopub.status.busy": "2021-10-24T01:35:59.502305Z",
     "iopub.status.idle": "2021-10-24T01:35:59.505484Z",
     "shell.execute_reply": "2021-10-24T01:35:59.505925Z"
    },
    "papermill": {
     "duration": 0.051831,
     "end_time": "2021-10-24T01:35:59.506075",
     "exception": false,
     "start_time": "2021-10-24T01:35:59.454244",
     "status": "completed"
    },
    "tags": [
     "remove_cell"
    ]
   },
   "outputs": [],
   "source": [
    "created = issues.query('state == \"OPEN\" and createdAt > @start_date and createdAt < @stop_date')\n",
    "closed = issues.query('state == \"CLOSED\" and closedAt > @start_date and closedAt < @stop_date')"
   ]
  },
  {
   "cell_type": "code",
   "execution_count": 14,
   "id": "2f6002cd",
   "metadata": {
    "execution": {
     "iopub.execute_input": "2021-10-24T01:35:59.605478Z",
     "iopub.status.busy": "2021-10-24T01:35:59.588313Z",
     "iopub.status.idle": "2021-10-24T01:35:59.608595Z",
     "shell.execute_reply": "2021-10-24T01:35:59.609114Z"
    },
    "papermill": {
     "duration": 0.066386,
     "end_time": "2021-10-24T01:35:59.609297",
     "exception": false,
     "start_time": "2021-10-24T01:35:59.542911",
     "status": "completed"
    },
    "tags": [
     "hide_input"
    ]
   },
   "outputs": [
    {
     "data": {
      "text/html": [
       "\n",
       "<div id=\"altair-viz-b8475452d2f04430befc3e49ce5210a8\"></div>\n",
       "<script type=\"text/javascript\">\n",
       "  (function(spec, embedOpt){\n",
       "    let outputDiv = document.currentScript.previousElementSibling;\n",
       "    if (outputDiv.id !== \"altair-viz-b8475452d2f04430befc3e49ce5210a8\") {\n",
       "      outputDiv = document.getElementById(\"altair-viz-b8475452d2f04430befc3e49ce5210a8\");\n",
       "    }\n",
       "    const paths = {\n",
       "      \"vega\": \"https://cdn.jsdelivr.net/npm//vega@5?noext\",\n",
       "      \"vega-lib\": \"https://cdn.jsdelivr.net/npm//vega-lib?noext\",\n",
       "      \"vega-lite\": \"https://cdn.jsdelivr.net/npm//vega-lite@4.8.1?noext\",\n",
       "      \"vega-embed\": \"https://cdn.jsdelivr.net/npm//vega-embed@6?noext\",\n",
       "    };\n",
       "\n",
       "    function loadScript(lib) {\n",
       "      return new Promise(function(resolve, reject) {\n",
       "        var s = document.createElement('script');\n",
       "        s.src = paths[lib];\n",
       "        s.async = true;\n",
       "        s.onload = () => resolve(paths[lib]);\n",
       "        s.onerror = () => reject(`Error loading script: ${paths[lib]}`);\n",
       "        document.getElementsByTagName(\"head\")[0].appendChild(s);\n",
       "      });\n",
       "    }\n",
       "\n",
       "    function showError(err) {\n",
       "      outputDiv.innerHTML = `<div class=\"error\" style=\"color:red;\">${err}</div>`;\n",
       "      throw err;\n",
       "    }\n",
       "\n",
       "    function displayChart(vegaEmbed) {\n",
       "      vegaEmbed(outputDiv, spec, embedOpt)\n",
       "        .catch(err => showError(`Javascript Error: ${err.message}<br>This usually means there's a typo in your chart specification. See the javascript console for the full traceback.`));\n",
       "    }\n",
       "\n",
       "    if(typeof define === \"function\" && define.amd) {\n",
       "      requirejs.config({paths});\n",
       "      require([\"vega-embed\"], displayChart, err => showError(`Error loading script: ${err.message}`));\n",
       "    } else if (typeof vegaEmbed === \"function\") {\n",
       "      displayChart(vegaEmbed);\n",
       "    } else {\n",
       "      loadScript(\"vega\")\n",
       "        .then(() => loadScript(\"vega-lite\"))\n",
       "        .then(() => loadScript(\"vega-embed\"))\n",
       "        .catch(showError)\n",
       "        .then(() => displayChart(vegaEmbed));\n",
       "    }\n",
       "  })({\"config\": {\"axisLeft\": {\"labelFontSize\": 15}, \"axisBottom\": {\"labelFontSize\": 15}}, \"data\": {\"name\": \"data-d97c86a5307c37b46dc6a377bfaeb8af\"}, \"mark\": \"bar\", \"encoding\": {\"x\": {\"type\": \"nominal\", \"field\": \"repo\", \"sort\": [\"hydrogen\", \"nteract\", \"papermill\", \"testbook\", \"commuter\", \"outputs\", \"scrapbook\", \"spawnteract\"]}, \"y\": {\"type\": \"quantitative\", \"field\": \"number\"}}, \"title\": \"Issues created in the last 90 days\", \"$schema\": \"https://vega.github.io/schema/vega-lite/v4.8.1.json\", \"datasets\": {\"data-d97c86a5307c37b46dc6a377bfaeb8af\": [{\"org\": \"nteract\", \"repo\": \"commuter\", \"number\": 2, \"org/repo\": \"nteract/commuter\"}, {\"org\": \"nteract\", \"repo\": \"hydrogen\", \"number\": 9, \"org/repo\": \"nteract/hydrogen\"}, {\"org\": \"nteract\", \"repo\": \"nteract\", \"number\": 7, \"org/repo\": \"nteract/nteract\"}, {\"org\": \"nteract\", \"repo\": \"outputs\", \"number\": 2, \"org/repo\": \"nteract/outputs\"}, {\"org\": \"nteract\", \"repo\": \"papermill\", \"number\": 4, \"org/repo\": \"nteract/papermill\"}, {\"org\": \"nteract\", \"repo\": \"scrapbook\", \"number\": 1, \"org/repo\": \"nteract/scrapbook\"}, {\"org\": \"nteract\", \"repo\": \"spawnteract\", \"number\": 1, \"org/repo\": \"nteract/spawnteract\"}, {\"org\": \"nteract\", \"repo\": \"testbook\", \"number\": 4, \"org/repo\": \"nteract/testbook\"}]}}, {\"mode\": \"vega-lite\"});\n",
       "</script>"
      ],
      "text/plain": [
       "alt.Chart(...)"
      ]
     },
     "execution_count": 14,
     "metadata": {},
     "output_type": "execute_result"
    }
   ],
   "source": [
    "created_counts = created.groupby(['org', 'repo']).count()['number'].reset_index()\n",
    "created_counts['org/repo'] = created_counts.apply(lambda a: a['org'] + '/' + a['repo'], axis=1)\n",
    "sorted_vals = created_counts.sort_values(['org', 'number'], ascending=False)['repo'].values\n",
    "alt.Chart(data=created_counts, title=f\"Issues created in the last {n_days} days\").mark_bar().encode(\n",
    "    x=alt.X('repo', sort=alt.Sort(sorted_vals.tolist())),\n",
    "    y='number',\n",
    ")"
   ]
  },
  {
   "cell_type": "code",
   "execution_count": 15,
   "id": "796a21f7",
   "metadata": {
    "execution": {
     "iopub.execute_input": "2021-10-24T01:35:59.687973Z",
     "iopub.status.busy": "2021-10-24T01:35:59.687119Z",
     "iopub.status.idle": "2021-10-24T01:35:59.707758Z",
     "shell.execute_reply": "2021-10-24T01:35:59.708212Z"
    },
    "papermill": {
     "duration": 0.062761,
     "end_time": "2021-10-24T01:35:59.708358",
     "exception": false,
     "start_time": "2021-10-24T01:35:59.645597",
     "status": "completed"
    },
    "tags": [
     "hide_input"
    ]
   },
   "outputs": [
    {
     "data": {
      "text/html": [
       "\n",
       "<div id=\"altair-viz-01fef92dc2f34688a13a760e0faafe11\"></div>\n",
       "<script type=\"text/javascript\">\n",
       "  (function(spec, embedOpt){\n",
       "    let outputDiv = document.currentScript.previousElementSibling;\n",
       "    if (outputDiv.id !== \"altair-viz-01fef92dc2f34688a13a760e0faafe11\") {\n",
       "      outputDiv = document.getElementById(\"altair-viz-01fef92dc2f34688a13a760e0faafe11\");\n",
       "    }\n",
       "    const paths = {\n",
       "      \"vega\": \"https://cdn.jsdelivr.net/npm//vega@5?noext\",\n",
       "      \"vega-lib\": \"https://cdn.jsdelivr.net/npm//vega-lib?noext\",\n",
       "      \"vega-lite\": \"https://cdn.jsdelivr.net/npm//vega-lite@4.8.1?noext\",\n",
       "      \"vega-embed\": \"https://cdn.jsdelivr.net/npm//vega-embed@6?noext\",\n",
       "    };\n",
       "\n",
       "    function loadScript(lib) {\n",
       "      return new Promise(function(resolve, reject) {\n",
       "        var s = document.createElement('script');\n",
       "        s.src = paths[lib];\n",
       "        s.async = true;\n",
       "        s.onload = () => resolve(paths[lib]);\n",
       "        s.onerror = () => reject(`Error loading script: ${paths[lib]}`);\n",
       "        document.getElementsByTagName(\"head\")[0].appendChild(s);\n",
       "      });\n",
       "    }\n",
       "\n",
       "    function showError(err) {\n",
       "      outputDiv.innerHTML = `<div class=\"error\" style=\"color:red;\">${err}</div>`;\n",
       "      throw err;\n",
       "    }\n",
       "\n",
       "    function displayChart(vegaEmbed) {\n",
       "      vegaEmbed(outputDiv, spec, embedOpt)\n",
       "        .catch(err => showError(`Javascript Error: ${err.message}<br>This usually means there's a typo in your chart specification. See the javascript console for the full traceback.`));\n",
       "    }\n",
       "\n",
       "    if(typeof define === \"function\" && define.amd) {\n",
       "      requirejs.config({paths});\n",
       "      require([\"vega-embed\"], displayChart, err => showError(`Error loading script: ${err.message}`));\n",
       "    } else if (typeof vegaEmbed === \"function\") {\n",
       "      displayChart(vegaEmbed);\n",
       "    } else {\n",
       "      loadScript(\"vega\")\n",
       "        .then(() => loadScript(\"vega-lite\"))\n",
       "        .then(() => loadScript(\"vega-embed\"))\n",
       "        .catch(showError)\n",
       "        .then(() => displayChart(vegaEmbed));\n",
       "    }\n",
       "  })({\"config\": {\"axisLeft\": {\"labelFontSize\": 15}, \"axisBottom\": {\"labelFontSize\": 15}}, \"data\": {\"name\": \"data-b3a5a162c9bde03bb2082117dec54dfe\"}, \"mark\": \"bar\", \"encoding\": {\"x\": {\"type\": \"nominal\", \"field\": \"repo\", \"sort\": [\"papermill\", \"nteract\", \"hydrogen\", \"testbook\"]}, \"y\": {\"type\": \"quantitative\", \"field\": \"number\"}}, \"title\": \"Issues closed in the last 90 days\", \"$schema\": \"https://vega.github.io/schema/vega-lite/v4.8.1.json\", \"datasets\": {\"data-b3a5a162c9bde03bb2082117dec54dfe\": [{\"org\": \"nteract\", \"repo\": \"hydrogen\", \"number\": 3, \"org/repo\": \"nteract/hydrogen\"}, {\"org\": \"nteract\", \"repo\": \"nteract\", \"number\": 4, \"org/repo\": \"nteract/nteract\"}, {\"org\": \"nteract\", \"repo\": \"papermill\", \"number\": 8, \"org/repo\": \"nteract/papermill\"}, {\"org\": \"nteract\", \"repo\": \"testbook\", \"number\": 1, \"org/repo\": \"nteract/testbook\"}]}}, {\"mode\": \"vega-lite\"});\n",
       "</script>"
      ],
      "text/plain": [
       "alt.Chart(...)"
      ]
     },
     "execution_count": 15,
     "metadata": {},
     "output_type": "execute_result"
    }
   ],
   "source": [
    "closed_counts = closed.groupby(['org', 'repo']).count()['number'].reset_index()\n",
    "closed_counts['org/repo'] = closed_counts.apply(lambda a: a['org'] + '/' + a['repo'], axis=1)\n",
    "sorted_vals = closed_counts.sort_values(['number'], ascending=False)['repo'].values\n",
    "alt.Chart(data=closed_counts, title=f\"Issues closed in the last {n_days} days\").mark_bar().encode(\n",
    "    x=alt.X('repo', sort=alt.Sort(sorted_vals.tolist())),\n",
    "    y='number',\n",
    ")"
   ]
  },
  {
   "cell_type": "code",
   "execution_count": 16,
   "id": "86252ee3",
   "metadata": {
    "execution": {
     "iopub.execute_input": "2021-10-24T01:35:59.789312Z",
     "iopub.status.busy": "2021-10-24T01:35:59.788532Z",
     "iopub.status.idle": "2021-10-24T01:35:59.797986Z",
     "shell.execute_reply": "2021-10-24T01:35:59.797557Z"
    },
    "papermill": {
     "duration": 0.051489,
     "end_time": "2021-10-24T01:35:59.798109",
     "exception": false,
     "start_time": "2021-10-24T01:35:59.746620",
     "status": "completed"
    },
    "tags": [
     "remove_cell"
    ]
   },
   "outputs": [],
   "source": [
    "created_closed = pd.merge(created_counts.rename(columns={'number': 'created'}).drop(columns='org/repo'),\n",
    "                          closed_counts.rename(columns={'number': 'closed'}).drop(columns='org/repo'),\n",
    "                          on=['org', 'repo'], how='outer')\n",
    "\n",
    "created_closed = pd.melt(created_closed, id_vars=['org', 'repo'], var_name=\"kind\", value_name=\"count\").replace(np.nan, 0)"
   ]
  },
  {
   "cell_type": "code",
   "execution_count": 17,
   "id": "e6df99d5",
   "metadata": {
    "execution": {
     "iopub.execute_input": "2021-10-24T01:35:59.881753Z",
     "iopub.status.busy": "2021-10-24T01:35:59.881038Z",
     "iopub.status.idle": "2021-10-24T01:35:59.903314Z",
     "shell.execute_reply": "2021-10-24T01:35:59.902737Z"
    },
    "papermill": {
     "duration": 0.069043,
     "end_time": "2021-10-24T01:35:59.903442",
     "exception": false,
     "start_time": "2021-10-24T01:35:59.834399",
     "status": "completed"
    },
    "tags": [
     "hide_input"
    ]
   },
   "outputs": [
    {
     "data": {
      "text/html": [
       "\n",
       "<div id=\"altair-viz-5661dadd84e74fbaa26ed4122cbe3c9d\"></div>\n",
       "<script type=\"text/javascript\">\n",
       "  (function(spec, embedOpt){\n",
       "    let outputDiv = document.currentScript.previousElementSibling;\n",
       "    if (outputDiv.id !== \"altair-viz-5661dadd84e74fbaa26ed4122cbe3c9d\") {\n",
       "      outputDiv = document.getElementById(\"altair-viz-5661dadd84e74fbaa26ed4122cbe3c9d\");\n",
       "    }\n",
       "    const paths = {\n",
       "      \"vega\": \"https://cdn.jsdelivr.net/npm//vega@5?noext\",\n",
       "      \"vega-lib\": \"https://cdn.jsdelivr.net/npm//vega-lib?noext\",\n",
       "      \"vega-lite\": \"https://cdn.jsdelivr.net/npm//vega-lite@4.8.1?noext\",\n",
       "      \"vega-embed\": \"https://cdn.jsdelivr.net/npm//vega-embed@6?noext\",\n",
       "    };\n",
       "\n",
       "    function loadScript(lib) {\n",
       "      return new Promise(function(resolve, reject) {\n",
       "        var s = document.createElement('script');\n",
       "        s.src = paths[lib];\n",
       "        s.async = true;\n",
       "        s.onload = () => resolve(paths[lib]);\n",
       "        s.onerror = () => reject(`Error loading script: ${paths[lib]}`);\n",
       "        document.getElementsByTagName(\"head\")[0].appendChild(s);\n",
       "      });\n",
       "    }\n",
       "\n",
       "    function showError(err) {\n",
       "      outputDiv.innerHTML = `<div class=\"error\" style=\"color:red;\">${err}</div>`;\n",
       "      throw err;\n",
       "    }\n",
       "\n",
       "    function displayChart(vegaEmbed) {\n",
       "      vegaEmbed(outputDiv, spec, embedOpt)\n",
       "        .catch(err => showError(`Javascript Error: ${err.message}<br>This usually means there's a typo in your chart specification. See the javascript console for the full traceback.`));\n",
       "    }\n",
       "\n",
       "    if(typeof define === \"function\" && define.amd) {\n",
       "      requirejs.config({paths});\n",
       "      require([\"vega-embed\"], displayChart, err => showError(`Error loading script: ${err.message}`));\n",
       "    } else if (typeof vegaEmbed === \"function\") {\n",
       "      displayChart(vegaEmbed);\n",
       "    } else {\n",
       "      loadScript(\"vega\")\n",
       "        .then(() => loadScript(\"vega-lite\"))\n",
       "        .then(() => loadScript(\"vega-embed\"))\n",
       "        .catch(showError)\n",
       "        .then(() => displayChart(vegaEmbed));\n",
       "    }\n",
       "  })({\"config\": {\"axisLeft\": {\"labelFontSize\": 15}, \"axisBottom\": {\"labelFontSize\": 15}}, \"data\": {\"name\": \"data-d8805c8961e1f9423d8919158be80d1a\"}, \"mark\": \"bar\", \"encoding\": {\"color\": {\"type\": \"nominal\", \"field\": \"kind\"}, \"column\": {\"type\": \"nominal\", \"field\": \"repo\", \"header\": {\"labelFontSize\": 12, \"title\": \"Issue activity, last 90 days for nteract\", \"titleFontSize\": 15}}, \"x\": {\"type\": \"nominal\", \"axis\": {\"labelFontSize\": 15, \"title\": \"\"}, \"field\": \"kind\"}, \"y\": {\"type\": \"quantitative\", \"axis\": {\"labelFontSize\": 12, \"titleFontSize\": 15}, \"field\": \"count\"}}, \"width\": 120, \"$schema\": \"https://vega.github.io/schema/vega-lite/v4.8.1.json\", \"datasets\": {\"data-d8805c8961e1f9423d8919158be80d1a\": [{\"org\": \"nteract\", \"repo\": \"commuter\", \"kind\": \"created\", \"count\": 2.0}, {\"org\": \"nteract\", \"repo\": \"hydrogen\", \"kind\": \"created\", \"count\": 9.0}, {\"org\": \"nteract\", \"repo\": \"nteract\", \"kind\": \"created\", \"count\": 7.0}, {\"org\": \"nteract\", \"repo\": \"outputs\", \"kind\": \"created\", \"count\": 2.0}, {\"org\": \"nteract\", \"repo\": \"papermill\", \"kind\": \"created\", \"count\": 4.0}, {\"org\": \"nteract\", \"repo\": \"scrapbook\", \"kind\": \"created\", \"count\": 1.0}, {\"org\": \"nteract\", \"repo\": \"spawnteract\", \"kind\": \"created\", \"count\": 1.0}, {\"org\": \"nteract\", \"repo\": \"testbook\", \"kind\": \"created\", \"count\": 4.0}, {\"org\": \"nteract\", \"repo\": \"commuter\", \"kind\": \"closed\", \"count\": 0.0}, {\"org\": \"nteract\", \"repo\": \"hydrogen\", \"kind\": \"closed\", \"count\": 3.0}, {\"org\": \"nteract\", \"repo\": \"nteract\", \"kind\": \"closed\", \"count\": 4.0}, {\"org\": \"nteract\", \"repo\": \"outputs\", \"kind\": \"closed\", \"count\": 0.0}, {\"org\": \"nteract\", \"repo\": \"papermill\", \"kind\": \"closed\", \"count\": 8.0}, {\"org\": \"nteract\", \"repo\": \"scrapbook\", \"kind\": \"closed\", \"count\": 0.0}, {\"org\": \"nteract\", \"repo\": \"spawnteract\", \"kind\": \"closed\", \"count\": 0.0}, {\"org\": \"nteract\", \"repo\": \"testbook\", \"kind\": \"closed\", \"count\": 1.0}]}}, {\"mode\": \"vega-lite\"});\n",
       "</script>"
      ],
      "text/plain": [
       "alt.Chart(...)"
      ]
     },
     "execution_count": 17,
     "metadata": {},
     "output_type": "execute_result"
    }
   ],
   "source": [
    "charts = []\n",
    "# Pick the top 10 repositories\n",
    "top_repos = created_closed.groupby(['repo']).sum().sort_values(by='count', ascending=False).head(10).index\n",
    "ch = alt.Chart(created_closed.query('repo in @top_repos'), width=120).mark_bar().encode(\n",
    "    x=alt.X(\"kind\", axis=alt.Axis(labelFontSize=15, title=\"\")), \n",
    "    y=alt.Y('count', axis=alt.Axis(titleFontSize=15, labelFontSize=12)),\n",
    "    color='kind',\n",
    "    column=alt.Column(\"repo\", header=alt.Header(title=f\"Issue activity, last {n_days} days for {github_org}\", titleFontSize=15, labelFontSize=12))\n",
    ")\n",
    "ch"
   ]
  },
  {
   "cell_type": "code",
   "execution_count": 18,
   "id": "dd4a1c65",
   "metadata": {
    "execution": {
     "iopub.execute_input": "2021-10-24T01:36:00.003699Z",
     "iopub.status.busy": "2021-10-24T01:36:00.003031Z",
     "iopub.status.idle": "2021-10-24T01:36:00.005935Z",
     "shell.execute_reply": "2021-10-24T01:36:00.004994Z"
    },
    "papermill": {
     "duration": 0.063977,
     "end_time": "2021-10-24T01:36:00.006114",
     "exception": false,
     "start_time": "2021-10-24T01:35:59.942137",
     "status": "completed"
    },
    "tags": [
     "remove_cell"
    ]
   },
   "outputs": [],
   "source": [
    "# Set to datetime\n",
    "for kind in ['createdAt', 'closedAt']:\n",
    "    closed.loc[:, kind] = pd.to_datetime(closed[kind])\n",
    "    \n",
    "closed.loc[:, 'time_open'] = closed['closedAt'] - closed['createdAt']\n",
    "closed.loc[:, 'time_open'] = closed['time_open'].dt.total_seconds()"
   ]
  },
  {
   "cell_type": "code",
   "execution_count": 19,
   "id": "f7e471e2",
   "metadata": {
    "execution": {
     "iopub.execute_input": "2021-10-24T01:36:00.137646Z",
     "iopub.status.busy": "2021-10-24T01:36:00.136921Z",
     "iopub.status.idle": "2021-10-24T01:36:00.141166Z",
     "shell.execute_reply": "2021-10-24T01:36:00.140475Z"
    },
    "papermill": {
     "duration": 0.078198,
     "end_time": "2021-10-24T01:36:00.141367",
     "exception": false,
     "start_time": "2021-10-24T01:36:00.063169",
     "status": "completed"
    },
    "tags": [
     "hide_input"
    ]
   },
   "outputs": [
    {
     "data": {
      "text/html": [
       "\n",
       "<div id=\"altair-viz-ad8f7681d29c4b4e912a05ae873329d1\"></div>\n",
       "<script type=\"text/javascript\">\n",
       "  (function(spec, embedOpt){\n",
       "    let outputDiv = document.currentScript.previousElementSibling;\n",
       "    if (outputDiv.id !== \"altair-viz-ad8f7681d29c4b4e912a05ae873329d1\") {\n",
       "      outputDiv = document.getElementById(\"altair-viz-ad8f7681d29c4b4e912a05ae873329d1\");\n",
       "    }\n",
       "    const paths = {\n",
       "      \"vega\": \"https://cdn.jsdelivr.net/npm//vega@5?noext\",\n",
       "      \"vega-lib\": \"https://cdn.jsdelivr.net/npm//vega-lib?noext\",\n",
       "      \"vega-lite\": \"https://cdn.jsdelivr.net/npm//vega-lite@4.8.1?noext\",\n",
       "      \"vega-embed\": \"https://cdn.jsdelivr.net/npm//vega-embed@6?noext\",\n",
       "    };\n",
       "\n",
       "    function loadScript(lib) {\n",
       "      return new Promise(function(resolve, reject) {\n",
       "        var s = document.createElement('script');\n",
       "        s.src = paths[lib];\n",
       "        s.async = true;\n",
       "        s.onload = () => resolve(paths[lib]);\n",
       "        s.onerror = () => reject(`Error loading script: ${paths[lib]}`);\n",
       "        document.getElementsByTagName(\"head\")[0].appendChild(s);\n",
       "      });\n",
       "    }\n",
       "\n",
       "    function showError(err) {\n",
       "      outputDiv.innerHTML = `<div class=\"error\" style=\"color:red;\">${err}</div>`;\n",
       "      throw err;\n",
       "    }\n",
       "\n",
       "    function displayChart(vegaEmbed) {\n",
       "      vegaEmbed(outputDiv, spec, embedOpt)\n",
       "        .catch(err => showError(`Javascript Error: ${err.message}<br>This usually means there's a typo in your chart specification. See the javascript console for the full traceback.`));\n",
       "    }\n",
       "\n",
       "    if(typeof define === \"function\" && define.amd) {\n",
       "      requirejs.config({paths});\n",
       "      require([\"vega-embed\"], displayChart, err => showError(`Error loading script: ${err.message}`));\n",
       "    } else if (typeof vegaEmbed === \"function\") {\n",
       "      displayChart(vegaEmbed);\n",
       "    } else {\n",
       "      loadScript(\"vega\")\n",
       "        .then(() => loadScript(\"vega-lite\"))\n",
       "        .then(() => loadScript(\"vega-embed\"))\n",
       "        .catch(showError)\n",
       "        .then(() => displayChart(vegaEmbed));\n",
       "    }\n",
       "  })({\"config\": {\"axisLeft\": {\"labelFontSize\": 15}, \"axisBottom\": {\"labelFontSize\": 15}}, \"data\": {\"name\": \"data-2edd24a0ad7731b15074b413d674c7a0\"}, \"mark\": \"bar\", \"encoding\": {\"x\": {\"type\": \"nominal\", \"field\": \"repo\", \"sort\": [\"testbook\", \"nteract\", \"papermill\", \"hydrogen\"]}, \"y\": {\"type\": \"quantitative\", \"field\": \"time_open\", \"title\": \"Median Days Open\"}}, \"title\": \"Time to close for issues closed in the last 90 days\", \"$schema\": \"https://vega.github.io/schema/vega-lite/v4.8.1.json\", \"datasets\": {\"data-2edd24a0ad7731b15074b413d674c7a0\": [{\"org\": \"nteract\", \"repo\": \"hydrogen\", \"time_open\": 3.914699074074074, \"org/repo\": \"nteract/hydrogen\"}, {\"org\": \"nteract\", \"repo\": \"nteract\", \"time_open\": 35.80038773148148, \"org/repo\": \"nteract/nteract\"}, {\"org\": \"nteract\", \"repo\": \"papermill\", \"time_open\": 18.111116898148147, \"org/repo\": \"nteract/papermill\"}, {\"org\": \"nteract\", \"repo\": \"testbook\", \"time_open\": 120.63046296296297, \"org/repo\": \"nteract/testbook\"}]}}, {\"mode\": \"vega-lite\"});\n",
       "</script>"
      ],
      "text/plain": [
       "alt.Chart(...)"
      ]
     },
     "execution_count": 19,
     "metadata": {},
     "output_type": "execute_result"
    }
   ],
   "source": [
    "time_open = closed.groupby(['org', 'repo']).agg({'time_open': 'median'}).reset_index()\n",
    "time_open['time_open'] = time_open['time_open'] / (60 * 60 * 24)\n",
    "time_open['org/repo'] = time_open.apply(lambda a: a['org'] + '/' + a['repo'], axis=1)\n",
    "sorted_vals = time_open.sort_values(['org', 'time_open'], ascending=False)['repo'].values\n",
    "alt.Chart(data=time_open, title=f\"Time to close for issues closed in the last {n_days} days\").mark_bar().encode(\n",
    "    x=alt.X('repo', sort=alt.Sort(sorted_vals.tolist())),\n",
    "    y=alt.Y('time_open', title=\"Median Days Open\"),\n",
    ")"
   ]
  },
  {
   "cell_type": "markdown",
   "id": "e4739c28",
   "metadata": {
    "papermill": {
     "duration": 0.049397,
     "end_time": "2021-10-24T01:36:00.247160",
     "exception": false,
     "start_time": "2021-10-24T01:36:00.197763",
     "status": "completed"
    },
    "tags": []
   },
   "source": [
    "## Most-upvoted issues"
   ]
  },
  {
   "cell_type": "code",
   "execution_count": 20,
   "id": "09e68ea5",
   "metadata": {
    "execution": {
     "iopub.execute_input": "2021-10-24T01:36:00.353157Z",
     "iopub.status.busy": "2021-10-24T01:36:00.352491Z",
     "iopub.status.idle": "2021-10-24T01:36:00.358993Z",
     "shell.execute_reply": "2021-10-24T01:36:00.358398Z"
    },
    "papermill": {
     "duration": 0.066531,
     "end_time": "2021-10-24T01:36:00.359165",
     "exception": false,
     "start_time": "2021-10-24T01:36:00.292634",
     "status": "completed"
    },
    "tags": [
     "hide_input"
    ]
   },
   "outputs": [
    {
     "data": {
      "application/vnd.jupyter.widget-view+json": {
       "model_id": "8a92435092894f8d8f577b29297a31e3",
       "version_major": 2,
       "version_minor": 0
      },
      "text/plain": [
       "HTML(value='<ul>\\n<li>(2) is it possible to disable black? - papermill - <a href=\"https://github.com/nteract/p…"
      ]
     },
     "metadata": {},
     "output_type": "display_data"
    }
   ],
   "source": [
    "thumbsup = issues.sort_values(\"thumbsup\", ascending=False).head(25)\n",
    "thumbsup = thumbsup[[\"title\", \"url\", \"number\", \"thumbsup\", \"repo\"]]\n",
    "\n",
    "text = []\n",
    "for ii, irow in thumbsup.iterrows():\n",
    "    itext = f\"- ({irow['thumbsup']}) {irow['title']} - {irow['repo']} - [#{irow['number']}]({irow['url']})\"\n",
    "    text.append(itext)\n",
    "text = '\\n'.join(text)\n",
    "HTML(markdown(text))"
   ]
  },
  {
   "cell_type": "markdown",
   "id": "c298f552",
   "metadata": {
    "papermill": {
     "duration": 0.047959,
     "end_time": "2021-10-24T01:36:00.454855",
     "exception": false,
     "start_time": "2021-10-24T01:36:00.406896",
     "status": "completed"
    },
    "tags": []
   },
   "source": [
    "## Commenters across repositories\n",
    "\n",
    "These are commenters across all issues and pull requests in the last several days.\n",
    "These are colored by the commenter's association with the organization. For information\n",
    "about what these associations mean, [see this StackOverflow post](https://stackoverflow.com/a/28866914/1927102)."
   ]
  },
  {
   "cell_type": "code",
   "execution_count": 21,
   "id": "8be01561",
   "metadata": {
    "execution": {
     "iopub.execute_input": "2021-10-24T01:36:00.560426Z",
     "iopub.status.busy": "2021-10-24T01:36:00.559754Z",
     "iopub.status.idle": "2021-10-24T01:36:00.568434Z",
     "shell.execute_reply": "2021-10-24T01:36:00.568944Z"
    },
    "papermill": {
     "duration": 0.067955,
     "end_time": "2021-10-24T01:36:00.569133",
     "exception": false,
     "start_time": "2021-10-24T01:36:00.501178",
     "status": "completed"
    },
    "tags": [
     "remove_cell"
    ]
   },
   "outputs": [],
   "source": [
    "commentors = (\n",
    "    comments\n",
    "    .query(\"createdAt > @start_date and createdAt < @stop_date\")\n",
    "    .groupby(['org', 'repo', 'author', 'authorAssociation'])\n",
    "    .count().rename(columns={'id': 'count'})['count']\n",
    "    .reset_index()\n",
    "    .sort_values(['org', 'count'], ascending=False)\n",
    ")"
   ]
  },
  {
   "cell_type": "code",
   "execution_count": 22,
   "id": "2b21e971",
   "metadata": {
    "execution": {
     "iopub.execute_input": "2021-10-24T01:36:00.672600Z",
     "iopub.status.busy": "2021-10-24T01:36:00.672012Z",
     "iopub.status.idle": "2021-10-24T01:36:00.697321Z",
     "shell.execute_reply": "2021-10-24T01:36:00.697747Z"
    },
    "papermill": {
     "duration": 0.08044,
     "end_time": "2021-10-24T01:36:00.697892",
     "exception": false,
     "start_time": "2021-10-24T01:36:00.617452",
     "status": "completed"
    },
    "tags": [
     "hide_input"
    ]
   },
   "outputs": [
    {
     "data": {
      "text/html": [
       "\n",
       "<div id=\"altair-viz-b7ed4f94f1884813a0357c6a8582baf0\"></div>\n",
       "<script type=\"text/javascript\">\n",
       "  (function(spec, embedOpt){\n",
       "    let outputDiv = document.currentScript.previousElementSibling;\n",
       "    if (outputDiv.id !== \"altair-viz-b7ed4f94f1884813a0357c6a8582baf0\") {\n",
       "      outputDiv = document.getElementById(\"altair-viz-b7ed4f94f1884813a0357c6a8582baf0\");\n",
       "    }\n",
       "    const paths = {\n",
       "      \"vega\": \"https://cdn.jsdelivr.net/npm//vega@5?noext\",\n",
       "      \"vega-lib\": \"https://cdn.jsdelivr.net/npm//vega-lib?noext\",\n",
       "      \"vega-lite\": \"https://cdn.jsdelivr.net/npm//vega-lite@4.8.1?noext\",\n",
       "      \"vega-embed\": \"https://cdn.jsdelivr.net/npm//vega-embed@6?noext\",\n",
       "    };\n",
       "\n",
       "    function loadScript(lib) {\n",
       "      return new Promise(function(resolve, reject) {\n",
       "        var s = document.createElement('script');\n",
       "        s.src = paths[lib];\n",
       "        s.async = true;\n",
       "        s.onload = () => resolve(paths[lib]);\n",
       "        s.onerror = () => reject(`Error loading script: ${paths[lib]}`);\n",
       "        document.getElementsByTagName(\"head\")[0].appendChild(s);\n",
       "      });\n",
       "    }\n",
       "\n",
       "    function showError(err) {\n",
       "      outputDiv.innerHTML = `<div class=\"error\" style=\"color:red;\">${err}</div>`;\n",
       "      throw err;\n",
       "    }\n",
       "\n",
       "    function displayChart(vegaEmbed) {\n",
       "      vegaEmbed(outputDiv, spec, embedOpt)\n",
       "        .catch(err => showError(`Javascript Error: ${err.message}<br>This usually means there's a typo in your chart specification. See the javascript console for the full traceback.`));\n",
       "    }\n",
       "\n",
       "    if(typeof define === \"function\" && define.amd) {\n",
       "      requirejs.config({paths});\n",
       "      require([\"vega-embed\"], displayChart, err => showError(`Error loading script: ${err.message}`));\n",
       "    } else if (typeof vegaEmbed === \"function\") {\n",
       "      displayChart(vegaEmbed);\n",
       "    } else {\n",
       "      loadScript(\"vega\")\n",
       "        .then(() => loadScript(\"vega-lite\"))\n",
       "        .then(() => loadScript(\"vega-embed\"))\n",
       "        .catch(showError)\n",
       "        .then(() => displayChart(vegaEmbed));\n",
       "    }\n",
       "  })({\"config\": {\"axisLeft\": {\"labelFontSize\": 15}, \"axisBottom\": {\"labelFontSize\": 15}}, \"hconcat\": [{\"mark\": \"bar\", \"encoding\": {\"color\": {\"type\": \"nominal\", \"field\": \"authorAssociation\", \"scale\": {\"domain\": [\"MEMBER\", \"CONTRIBUTOR\", \"COLLABORATOR\", \"NONE\"], \"range\": [\"rgb(211.82745098039214, 211.82745098039214, 211.82745098039214)\", \"rgb(166.98562091503268, 229.89803921568628, 166.98562091503268)\", \"rgb(96.37647058823529, 192.75294117647059, 96.37647058823529)\", \"rgb(0.0, 100.3921568627451, 0.0)\"]}}, \"x\": {\"type\": \"nominal\", \"field\": \"author\"}, \"y\": {\"type\": \"quantitative\", \"field\": \"count\"}}, \"title\": \"Top 50 commentors for nteract in the last 90 days\"}], \"data\": {\"name\": \"data-b7a251437479bb4e5820c72612d2e14e\"}, \"$schema\": \"https://vega.github.io/schema/vega-lite/v4.8.1.json\", \"datasets\": {\"data-b7a251437479bb4e5820c72612d2e14e\": [{\"author\": \"vercel\", \"count\": 50, \"authorAssociation\": \"NONE\"}, {\"author\": \"captainsafia\", \"count\": 12, \"authorAssociation\": \"MEMBER\"}, {\"author\": \"MSeal\", \"count\": 10, \"authorAssociation\": \"MEMBER\"}, {\"author\": \"aminya\", \"count\": 7, \"authorAssociation\": \"MEMBER\"}, {\"author\": \"vivek1729\", \"count\": 6, \"authorAssociation\": \"MEMBER\"}, {\"author\": \"miduncan\", \"count\": 5, \"authorAssociation\": \"MEMBER\"}, {\"author\": \"willingc\", \"count\": 5, \"authorAssociation\": \"MEMBER\"}, {\"author\": \"bretttully\", \"count\": 3, \"authorAssociation\": \"NONE\"}, {\"author\": \"kumarshivam89\", \"count\": 3, \"authorAssociation\": \"NONE\"}, {\"author\": \"AtomicNess123\", \"count\": 2, \"authorAssociation\": \"NONE\"}, {\"author\": \"ronnie-llamado\", \"count\": 2, \"authorAssociation\": \"CONTRIBUTOR\"}, {\"author\": \"rgbkrk\", \"count\": 2, \"authorAssociation\": \"MEMBER\"}, {\"author\": \"xinyi-joffre\", \"count\": 2, \"authorAssociation\": \"NONE\"}, {\"author\": \"mhlinder\", \"count\": 1, \"authorAssociation\": \"NONE\"}, {\"author\": \"markerikson\", \"count\": 1, \"authorAssociation\": \"NONE\"}, {\"author\": \"pwang347\", \"count\": 1, \"authorAssociation\": \"MEMBER\"}, {\"author\": \"codecov-commenter\", \"count\": 1, \"authorAssociation\": \"NONE\"}, {\"author\": \"ricecooker\", \"count\": 1, \"authorAssociation\": \"NONE\"}, {\"author\": \"roger-yu-ds\", \"count\": 1, \"authorAssociation\": \"NONE\"}, {\"author\": \"chyzzqo2\", \"count\": 1, \"authorAssociation\": \"COLLABORATOR\"}, {\"author\": \"sbamin\", \"count\": 1, \"authorAssociation\": \"NONE\"}, {\"author\": \"simonrouse9461\", \"count\": 1, \"authorAssociation\": \"NONE\"}, {\"author\": \"tanguycdls\", \"count\": 1, \"authorAssociation\": \"CONTRIBUTOR\"}, {\"author\": \"tfmark\", \"count\": 1, \"authorAssociation\": \"NONE\"}, {\"author\": \"borgdrone7\", \"count\": 1, \"authorAssociation\": \"NONE\"}, {\"author\": \"LRydin\", \"count\": 1, \"authorAssociation\": \"NONE\"}, {\"author\": \"Calder-Ty\", \"count\": 1, \"authorAssociation\": \"CONTRIBUTOR\"}, {\"author\": \"Anubha13kumari\", \"count\": 1, \"authorAssociation\": \"NONE\"}]}}, {\"mode\": \"vega-lite\"});\n",
       "</script>"
      ],
      "text/plain": [
       "alt.HConcatChart(...)"
      ]
     },
     "execution_count": 22,
     "metadata": {},
     "output_type": "execute_result"
    }
   ],
   "source": [
    "n_plot = 50\n",
    "charts = []\n",
    "for ii, (iorg, idata) in enumerate(commentors.groupby(['org'])):\n",
    "    title = f\"Top {n_plot} commentors for {iorg} in the last {n_days} days\"\n",
    "    idata = idata.groupby('author', as_index=False).agg({'count': 'sum', 'authorAssociation': 'first'})\n",
    "    idata = idata.sort_values('count', ascending=False).head(n_plot)\n",
    "    ch = alt.Chart(data=idata.head(n_plot), title=title).mark_bar().encode(\n",
    "        x='author',\n",
    "        y='count',\n",
    "        color=alt.Color('authorAssociation', scale=alt.Scale(domain=author_types, range=author_colors))\n",
    "    )\n",
    "    charts.append(ch)\n",
    "alt.hconcat(*charts)"
   ]
  },
  {
   "cell_type": "markdown",
   "id": "2998adb9",
   "metadata": {
    "papermill": {
     "duration": 0.042089,
     "end_time": "2021-10-24T01:36:00.780921",
     "exception": false,
     "start_time": "2021-10-24T01:36:00.738832",
     "status": "completed"
    },
    "tags": []
   },
   "source": [
    "## First responders\n",
    "\n",
    "First responders are the first people to respond to a new issue in one of the repositories.\n",
    "The following plots show first responders for recently-created issues."
   ]
  },
  {
   "cell_type": "code",
   "execution_count": 23,
   "id": "174d61a6",
   "metadata": {
    "execution": {
     "iopub.execute_input": "2021-10-24T01:36:00.870649Z",
     "iopub.status.busy": "2021-10-24T01:36:00.870086Z",
     "iopub.status.idle": "2021-10-24T01:36:00.951008Z",
     "shell.execute_reply": "2021-10-24T01:36:00.950425Z"
    },
    "papermill": {
     "duration": 0.130422,
     "end_time": "2021-10-24T01:36:00.951221",
     "exception": false,
     "start_time": "2021-10-24T01:36:00.820799",
     "status": "completed"
    },
    "tags": [
     "remove_cell"
    ]
   },
   "outputs": [],
   "source": [
    "first_comments = []\n",
    "for (org, repo, issue_id), i_comments in comments.groupby(['org', 'repo', 'id']):\n",
    "    ix_min = pd.to_datetime(i_comments['createdAt']).idxmin()\n",
    "    first_comment = i_comments.loc[ix_min]\n",
    "    if isinstance(first_comment, pd.DataFrame):\n",
    "        first_comment = first_comment.iloc[0]\n",
    "    first_comments.append(first_comment)\n",
    "first_comments = pd.concat(first_comments, axis=1).T\n",
    "\n",
    "# Make up counts for viz\n",
    "first_responder_counts = first_comments.groupby(['org', 'author', 'authorAssociation'], as_index=False).\\\n",
    "    count().rename(columns={'id': 'n_first_responses'}).sort_values(['org', 'n_first_responses'], ascending=False)\n"
   ]
  },
  {
   "cell_type": "code",
   "execution_count": 24,
   "id": "41d79d85",
   "metadata": {
    "execution": {
     "iopub.execute_input": "2021-10-24T01:36:01.066228Z",
     "iopub.status.busy": "2021-10-24T01:36:01.065669Z",
     "iopub.status.idle": "2021-10-24T01:36:01.072415Z",
     "shell.execute_reply": "2021-10-24T01:36:01.071928Z"
    },
    "papermill": {
     "duration": 0.072617,
     "end_time": "2021-10-24T01:36:01.072590",
     "exception": false,
     "start_time": "2021-10-24T01:36:00.999973",
     "status": "completed"
    },
    "tags": [
     "hide_input"
    ]
   },
   "outputs": [
    {
     "data": {
      "text/html": [
       "\n",
       "<div id=\"altair-viz-a9ff809f69354ec4a341c0afb4cad440\"></div>\n",
       "<script type=\"text/javascript\">\n",
       "  (function(spec, embedOpt){\n",
       "    let outputDiv = document.currentScript.previousElementSibling;\n",
       "    if (outputDiv.id !== \"altair-viz-a9ff809f69354ec4a341c0afb4cad440\") {\n",
       "      outputDiv = document.getElementById(\"altair-viz-a9ff809f69354ec4a341c0afb4cad440\");\n",
       "    }\n",
       "    const paths = {\n",
       "      \"vega\": \"https://cdn.jsdelivr.net/npm//vega@5?noext\",\n",
       "      \"vega-lib\": \"https://cdn.jsdelivr.net/npm//vega-lib?noext\",\n",
       "      \"vega-lite\": \"https://cdn.jsdelivr.net/npm//vega-lite@4.8.1?noext\",\n",
       "      \"vega-embed\": \"https://cdn.jsdelivr.net/npm//vega-embed@6?noext\",\n",
       "    };\n",
       "\n",
       "    function loadScript(lib) {\n",
       "      return new Promise(function(resolve, reject) {\n",
       "        var s = document.createElement('script');\n",
       "        s.src = paths[lib];\n",
       "        s.async = true;\n",
       "        s.onload = () => resolve(paths[lib]);\n",
       "        s.onerror = () => reject(`Error loading script: ${paths[lib]}`);\n",
       "        document.getElementsByTagName(\"head\")[0].appendChild(s);\n",
       "      });\n",
       "    }\n",
       "\n",
       "    function showError(err) {\n",
       "      outputDiv.innerHTML = `<div class=\"error\" style=\"color:red;\">${err}</div>`;\n",
       "      throw err;\n",
       "    }\n",
       "\n",
       "    function displayChart(vegaEmbed) {\n",
       "      vegaEmbed(outputDiv, spec, embedOpt)\n",
       "        .catch(err => showError(`Javascript Error: ${err.message}<br>This usually means there's a typo in your chart specification. See the javascript console for the full traceback.`));\n",
       "    }\n",
       "\n",
       "    if(typeof define === \"function\" && define.amd) {\n",
       "      requirejs.config({paths});\n",
       "      require([\"vega-embed\"], displayChart, err => showError(`Error loading script: ${err.message}`));\n",
       "    } else if (typeof vegaEmbed === \"function\") {\n",
       "      displayChart(vegaEmbed);\n",
       "    } else {\n",
       "      loadScript(\"vega\")\n",
       "        .then(() => loadScript(\"vega-lite\"))\n",
       "        .then(() => loadScript(\"vega-embed\"))\n",
       "        .catch(showError)\n",
       "        .then(() => displayChart(vegaEmbed));\n",
       "    }\n",
       "  })({\"config\": {\"axisLeft\": {\"labelFontSize\": 15}, \"axisBottom\": {\"labelFontSize\": 15}}, \"data\": {\"name\": \"data-338b11e0fc34ffe0b2e32ef313e2df33\"}, \"mark\": \"bar\", \"encoding\": {\"color\": {\"type\": \"nominal\", \"field\": \"authorAssociation\", \"scale\": {\"domain\": [\"MEMBER\", \"CONTRIBUTOR\", \"COLLABORATOR\", \"NONE\"], \"range\": [\"rgb(211.82745098039214, 211.82745098039214, 211.82745098039214)\", \"rgb(166.98562091503268, 229.89803921568628, 166.98562091503268)\", \"rgb(96.37647058823529, 192.75294117647059, 96.37647058823529)\", \"rgb(0.0, 100.3921568627451, 0.0)\"]}}, \"x\": {\"type\": \"nominal\", \"field\": \"author\"}, \"y\": {\"type\": \"quantitative\", \"field\": \"n_first_responses\"}}, \"title\": \"Top 50 first responders for nteract in the last 90 days\", \"$schema\": \"https://vega.github.io/schema/vega-lite/v4.8.1.json\", \"datasets\": {\"data-338b11e0fc34ffe0b2e32ef313e2df33\": [{\"author\": \"vercel\", \"n_first_responses\": 54, \"authorAssociation\": \"NONE\"}, {\"author\": \"MSeal\", \"n_first_responses\": 10, \"authorAssociation\": \"MEMBER\"}, {\"author\": \"captainsafia\", \"n_first_responses\": 8, \"authorAssociation\": \"MEMBER\"}, {\"author\": \"aminya\", \"n_first_responses\": 3, \"authorAssociation\": \"MEMBER\"}, {\"author\": \"willingc\", \"n_first_responses\": 2, \"authorAssociation\": \"MEMBER\"}, {\"author\": \"ronnie-llamado\", \"n_first_responses\": 2, \"authorAssociation\": \"CONTRIBUTOR\"}, {\"author\": \"vivek1729\", \"n_first_responses\": 1, \"authorAssociation\": \"MEMBER\"}, {\"author\": \"tfmark\", \"n_first_responses\": 1, \"authorAssociation\": \"NONE\"}, {\"author\": \"simonrouse9461\", \"n_first_responses\": 1, \"authorAssociation\": \"NONE\"}, {\"author\": \"ronytesler\", \"n_first_responses\": 1, \"authorAssociation\": \"NONE\"}, {\"author\": \"Anubha13kumari\", \"n_first_responses\": 1, \"authorAssociation\": \"NONE\"}, {\"author\": \"miduncan\", \"n_first_responses\": 1, \"authorAssociation\": \"MEMBER\"}, {\"author\": \"Calder-Ty\", \"n_first_responses\": 1, \"authorAssociation\": \"CONTRIBUTOR\"}, {\"author\": \"chyzzqo2\", \"n_first_responses\": 1, \"authorAssociation\": \"COLLABORATOR\"}, {\"author\": \"borgdrone7\", \"n_first_responses\": 1, \"authorAssociation\": \"NONE\"}, {\"author\": \"LRydin\", \"n_first_responses\": 1, \"authorAssociation\": \"NONE\"}, {\"author\": \"dadiaoge0\", \"n_first_responses\": 1, \"authorAssociation\": \"NONE\"}]}}, {\"mode\": \"vega-lite\"});\n",
       "</script>"
      ],
      "text/plain": [
       "alt.Chart(...)"
      ]
     },
     "execution_count": 24,
     "metadata": {},
     "output_type": "execute_result"
    }
   ],
   "source": [
    "n_plot = 50\n",
    "\n",
    "title = f\"Top {n_plot} first responders for {github_org} in the last {n_days} days\"\n",
    "idata = first_responder_counts.groupby('author', as_index=False).agg({'n_first_responses': 'sum', 'authorAssociation': 'first'})\n",
    "idata = idata.sort_values('n_first_responses', ascending=False).head(n_plot)\n",
    "ch = alt.Chart(data=idata.head(n_plot), title=title).mark_bar().encode(\n",
    "    x='author',\n",
    "    y='n_first_responses',\n",
    "    color=alt.Color('authorAssociation', scale=alt.Scale(domain=author_types, range=author_colors))\n",
    ")\n",
    "ch"
   ]
  },
  {
   "cell_type": "markdown",
   "id": "e062e642",
   "metadata": {
    "papermill": {
     "duration": 0.043789,
     "end_time": "2021-10-24T01:36:01.161225",
     "exception": false,
     "start_time": "2021-10-24T01:36:01.117436",
     "status": "completed"
    },
    "tags": []
   },
   "source": [
    "## Recent activity\n",
    "\n",
    "### A list of merged PRs by project\n",
    "\n",
    "Below is a tabbed readout of recently-merged PRs. Check out the title to get an idea for what they\n",
    "implemented, and be sure to thank the PR author for their hard work!"
   ]
  },
  {
   "cell_type": "code",
   "execution_count": 25,
   "id": "76404f99",
   "metadata": {
    "execution": {
     "iopub.execute_input": "2021-10-24T01:36:01.275664Z",
     "iopub.status.busy": "2021-10-24T01:36:01.267196Z",
     "iopub.status.idle": "2021-10-24T01:36:01.344581Z",
     "shell.execute_reply": "2021-10-24T01:36:01.333916Z"
    },
    "papermill": {
     "duration": 0.140483,
     "end_time": "2021-10-24T01:36:01.344722",
     "exception": false,
     "start_time": "2021-10-24T01:36:01.204239",
     "status": "completed"
    },
    "tags": [
     "hide_input"
    ]
   },
   "outputs": [
    {
     "data": {
      "application/vnd.jupyter.widget-view+json": {
       "model_id": "1a8d8a22a21b4588bd0f6c2f17e54da9",
       "version_major": 2,
       "version_minor": 0
      },
      "text/plain": [
       "Tab(children=(HTML(value='<h4>Closed PRs for repo: <a href=\"https://github.com/nteract/hydrogen\">nteract/hydro…"
      ]
     },
     "metadata": {},
     "output_type": "display_data"
    }
   ],
   "source": [
    "tabs = widgets.Tab(children=[])\n",
    "\n",
    "for ii, ((org, repo), imerged) in enumerate(merged.query(\"repo in @use_repos\").groupby(['org', 'repo'])):\n",
    "    merged_by = {}\n",
    "    pr_by = {}\n",
    "    issue_md = []\n",
    "    issue_md.append(f\"#### Closed PRs for repo: [{org}/{repo}](https://github.com/{github_org}/{repo})\")\n",
    "    issue_md.append(\"\")\n",
    "    issue_md.append(f\"##### \")\n",
    "\n",
    "    for _, ipr in imerged.iterrows():\n",
    "        user_name = ipr['author']\n",
    "        user_url = author_url(user_name)\n",
    "        pr_number = ipr['number']\n",
    "        pr_html = ipr['url']\n",
    "        pr_title = ipr['title']\n",
    "        pr_closedby = ipr['mergedBy']\n",
    "        pr_closedby_url = f\"https://github.com/{pr_closedby}\"\n",
    "        if user_name not in pr_by:\n",
    "            pr_by[user_name] = 1\n",
    "        else:\n",
    "            pr_by[user_name] += 1\n",
    "\n",
    "        if pr_closedby not in merged_by:\n",
    "            merged_by[pr_closedby] = 1\n",
    "        else:\n",
    "            merged_by[pr_closedby] += 1\n",
    "        text = f\"* [(#{pr_number})]({pr_html}): _{pr_title}_ by **[@{user_name}]({user_url})** merged by **[@{pr_closedby}]({pr_closedby_url})**\"\n",
    "        issue_md.append(text)\n",
    "    \n",
    "    issue_md.append('')\n",
    "    markdown_html = markdown('\\n'.join(issue_md))\n",
    "\n",
    "    children = list(tabs.children)\n",
    "    children.append(HTML(markdown_html))\n",
    "    tabs.children = tuple(children)\n",
    "    tabs.set_title(ii, repo)\n",
    "tabs"
   ]
  },
  {
   "cell_type": "markdown",
   "id": "74ef5c92",
   "metadata": {
    "papermill": {
     "duration": 0.042341,
     "end_time": "2021-10-24T01:36:01.432265",
     "exception": false,
     "start_time": "2021-10-24T01:36:01.389924",
     "status": "completed"
    },
    "tags": []
   },
   "source": [
    "### A list of recent issues\n",
    "\n",
    "Below is a list of issues with recent activity in each repository. If they seem of interest\n",
    "to you, click on their links and jump in to participate!"
   ]
  },
  {
   "cell_type": "code",
   "execution_count": 26,
   "id": "99fcebc2",
   "metadata": {
    "execution": {
     "iopub.execute_input": "2021-10-24T01:36:01.529665Z",
     "iopub.status.busy": "2021-10-24T01:36:01.529091Z",
     "iopub.status.idle": "2021-10-24T01:36:01.532499Z",
     "shell.execute_reply": "2021-10-24T01:36:01.532069Z"
    },
    "papermill": {
     "duration": 0.058594,
     "end_time": "2021-10-24T01:36:01.532626",
     "exception": false,
     "start_time": "2021-10-24T01:36:01.474032",
     "status": "completed"
    },
    "tags": [
     "remove_cell"
    ]
   },
   "outputs": [],
   "source": [
    "# Add comment count data to issues and PRs\n",
    "comment_counts = (\n",
    "    comments\n",
    "    .query(\"createdAt > @start_date and createdAt < @stop_date\")\n",
    "    .groupby(['org', 'repo', 'id'])\n",
    "    .count().iloc[:, 0].to_frame()\n",
    ")\n",
    "comment_counts.columns = ['n_comments']\n",
    "comment_counts = comment_counts.reset_index()"
   ]
  },
  {
   "cell_type": "code",
   "execution_count": 27,
   "id": "ac7059b1",
   "metadata": {
    "execution": {
     "iopub.execute_input": "2021-10-24T01:36:01.651843Z",
     "iopub.status.busy": "2021-10-24T01:36:01.631949Z",
     "iopub.status.idle": "2021-10-24T01:36:01.860255Z",
     "shell.execute_reply": "2021-10-24T01:36:01.853725Z"
    },
    "papermill": {
     "duration": 0.285597,
     "end_time": "2021-10-24T01:36:01.860414",
     "exception": false,
     "start_time": "2021-10-24T01:36:01.574817",
     "status": "completed"
    },
    "tags": [
     "hide_input"
    ],
    "toc-hr-collapsed": false
   },
   "outputs": [
    {
     "data": {
      "text/markdown": [
       "Here are the top 5 active issues in each repository in the last 90 days"
      ],
      "text/plain": [
       "<IPython.core.display.Markdown object>"
      ]
     },
     "metadata": {},
     "output_type": "display_data"
    },
    {
     "data": {
      "application/vnd.jupyter.widget-view+json": {
       "model_id": "8e9c14d442ef4e1db62d2e8af2fc1dde",
       "version_major": 2,
       "version_minor": 0
      },
      "text/plain": [
       "Tab(children=(HTML(value='<h5><a href=\"https://github.com/nteract/bookstore\">nteract/bookstore</a></h5>'), HTM…"
      ]
     },
     "metadata": {},
     "output_type": "display_data"
    }
   ],
   "source": [
    "n_plot = 5\n",
    "tabs = widgets.Tab(children=[])\n",
    "\n",
    "for ii, (repo, i_issues) in enumerate(comment_counts.query(\"repo in @use_repos\").groupby('repo')):\n",
    "    \n",
    "    issue_md = []\n",
    "    issue_md.append(\"\")\n",
    "    issue_md.append(f\"##### [{github_org}/{repo}](https://github.com/{github_org}/{repo})\")\n",
    "\n",
    "    top_issues = i_issues.sort_values('n_comments', ascending=False).head(n_plot)\n",
    "    top_issue_list = pd.merge(issues, top_issues, left_on=['org', 'repo', 'id'], right_on=['org', 'repo', 'id'])\n",
    "    for _, issue in top_issue_list.sort_values('n_comments', ascending=False).head(n_plot).iterrows():\n",
    "        user_name = issue['author']\n",
    "        user_url = author_url(user_name)\n",
    "        issue_number = issue['number']\n",
    "        issue_html = issue['url']\n",
    "        issue_title = issue['title']\n",
    "\n",
    "        text = f\"* [(#{issue_number})]({issue_html}): _{issue_title}_ by **[@{user_name}]({user_url})**\"\n",
    "        issue_md.append(text)\n",
    "\n",
    "    issue_md.append('')\n",
    "    md_html = HTML(markdown('\\n'.join(issue_md)))\n",
    "\n",
    "    children = list(tabs.children)\n",
    "    children.append(HTML(markdown('\\n'.join(issue_md))))\n",
    "    tabs.children = tuple(children)\n",
    "    tabs.set_title(ii, repo)\n",
    "    \n",
    "display(Markdown(f\"Here are the top {n_plot} active issues in each repository in the last {n_days} days\"))\n",
    "display(tabs)"
   ]
  }
 ],
 "metadata": {
  "kernelspec": {
   "display_name": "Python 3 (ipykernel)",
   "language": "python",
   "name": "python3"
  },
  "language_info": {
   "codemirror_mode": {
    "name": "ipython",
    "version": 3
   },
   "file_extension": ".py",
   "mimetype": "text/x-python",
   "name": "python",
   "nbconvert_exporter": "python",
   "pygments_lexer": "ipython3",
   "version": "3.7.12"
  },
  "papermill": {
   "default_parameters": {},
   "duration": 6.740245,
   "end_time": "2021-10-24T01:36:02.329047",
   "environment_variables": {},
   "exception": null,
   "input_path": "./templates/org_report.ipynb",
   "output_path": "generated/book/nteract.ipynb",
   "parameters": {
    "github_org": "nteract",
    "n_days": 90
   },
   "start_time": "2021-10-24T01:35:55.588802",
   "version": "2.3.3"
  },
  "widgets": {
   "application/vnd.jupyter.widget-state+json": {
    "state": {
     "135e94ca1d384e95abc8ada8060d0936": {
      "model_module": "@jupyter-widgets/controls",
      "model_module_version": "1.5.0",
      "model_name": "HTMLModel",
      "state": {
       "_dom_classes": [],
       "_model_module": "@jupyter-widgets/controls",
       "_model_module_version": "1.5.0",
       "_model_name": "HTMLModel",
       "_view_count": null,
       "_view_module": "@jupyter-widgets/controls",
       "_view_module_version": "1.5.0",
       "_view_name": "HTMLView",
       "description": "",
       "description_tooltip": null,
       "layout": "IPY_MODEL_336f72168b564736b6c03e49dceeb2eb",
       "placeholder": "​",
       "style": "IPY_MODEL_aa5a8064b36a4771bdca26e159e84a89",
       "value": "<h4>Closed PRs for repo: <a href=\"https://github.com/nteract/hydrogen\">nteract/hydrogen</a></h4>\n<h5></h5>\n<ul>\n<li><a href=\"https://github.com/nteract/hydrogen/pull/2135\">(#2135)</a>: <em>Fix typo in docs</em> by <strong><a href=\"https://github.com/chkoss\">@chkoss</a></strong> merged by <strong><a href=\"https://github.com/aminya\">@aminya</a></strong></li>\n</ul>"
      }
     },
     "14204694899e44b7a80ef1541b658368": {
      "model_module": "@jupyter-widgets/base",
      "model_module_version": "1.2.0",
      "model_name": "LayoutModel",
      "state": {
       "_model_module": "@jupyter-widgets/base",
       "_model_module_version": "1.2.0",
       "_model_name": "LayoutModel",
       "_view_count": null,
       "_view_module": "@jupyter-widgets/base",
       "_view_module_version": "1.2.0",
       "_view_name": "LayoutView",
       "align_content": null,
       "align_items": null,
       "align_self": null,
       "border": null,
       "bottom": null,
       "display": null,
       "flex": null,
       "flex_flow": null,
       "grid_area": null,
       "grid_auto_columns": null,
       "grid_auto_flow": null,
       "grid_auto_rows": null,
       "grid_column": null,
       "grid_gap": null,
       "grid_row": null,
       "grid_template_areas": null,
       "grid_template_columns": null,
       "grid_template_rows": null,
       "height": null,
       "justify_content": null,
       "justify_items": null,
       "left": null,
       "margin": null,
       "max_height": null,
       "max_width": null,
       "min_height": null,
       "min_width": null,
       "object_fit": null,
       "object_position": null,
       "order": null,
       "overflow": null,
       "overflow_x": null,
       "overflow_y": null,
       "padding": null,
       "right": null,
       "top": null,
       "visibility": null,
       "width": null
      }
     },
     "1a8d8a22a21b4588bd0f6c2f17e54da9": {
      "model_module": "@jupyter-widgets/controls",
      "model_module_version": "1.5.0",
      "model_name": "TabModel",
      "state": {
       "_dom_classes": [],
       "_model_module": "@jupyter-widgets/controls",
       "_model_module_version": "1.5.0",
       "_model_name": "TabModel",
       "_titles": {
        "0": "hydrogen",
        "1": "nteract",
        "2": "nteract.io",
        "3": "outputs",
        "4": "papermill",
        "5": "testbook"
       },
       "_view_count": null,
       "_view_module": "@jupyter-widgets/controls",
       "_view_module_version": "1.5.0",
       "_view_name": "TabView",
       "box_style": "",
       "children": [
        "IPY_MODEL_135e94ca1d384e95abc8ada8060d0936",
        "IPY_MODEL_38a6c2f939c04a118289790e313d720c",
        "IPY_MODEL_d1024a7e98ff4944885833fd3f099527",
        "IPY_MODEL_f4d76832871a4b4ca79e83adb7911cf1",
        "IPY_MODEL_f8f9b6ef50404525bd9789f024070da1",
        "IPY_MODEL_5ba47023cd044034a59faa6e85be5300"
       ],
       "layout": "IPY_MODEL_e1fb4d34e8e148b1afa1988ea5f9c26b",
       "selected_index": 0
      }
     },
     "1e8cd8b8d3dc44adbee2aa100745a61b": {
      "model_module": "@jupyter-widgets/controls",
      "model_module_version": "1.5.0",
      "model_name": "HTMLModel",
      "state": {
       "_dom_classes": [],
       "_model_module": "@jupyter-widgets/controls",
       "_model_module_version": "1.5.0",
       "_model_name": "HTMLModel",
       "_view_count": null,
       "_view_module": "@jupyter-widgets/controls",
       "_view_module_version": "1.5.0",
       "_view_name": "HTMLView",
       "description": "",
       "description_tooltip": null,
       "layout": "IPY_MODEL_41b60e48f3ad4777ba539edb51d9e988",
       "placeholder": "​",
       "style": "IPY_MODEL_d7fa39749ce84c42a57c30f30a4919af",
       "value": "<h5><a href=\"https://github.com/nteract/commuter\">nteract/commuter</a></h5>\n<ul>\n<li><a href=\"https://github.com/nteract/commuter/issues/328\">(#328)</a>: <em>Feature Request: Configurable context path or prefix URL</em> by <strong><a href=\"https://github.com/ricecooker\">@ricecooker</a></strong></li>\n<li><a href=\"https://github.com/nteract/commuter/issues/331\">(#331)</a>: <em>Ability to access Commuter Notebooks from Nteract UI or Jupyter Lab</em> by <strong><a href=\"https://github.com/arunhallan\">@arunhallan</a></strong></li>\n</ul>"
      }
     },
     "238b52387a904b46b69ba7e17e8dbadb": {
      "model_module": "@jupyter-widgets/controls",
      "model_module_version": "1.5.0",
      "model_name": "HTMLModel",
      "state": {
       "_dom_classes": [],
       "_model_module": "@jupyter-widgets/controls",
       "_model_module_version": "1.5.0",
       "_model_name": "HTMLModel",
       "_view_count": null,
       "_view_module": "@jupyter-widgets/controls",
       "_view_module_version": "1.5.0",
       "_view_name": "HTMLView",
       "description": "",
       "description_tooltip": null,
       "layout": "IPY_MODEL_e96154b4ccde49b2b1a7e6458e5c648f",
       "placeholder": "​",
       "style": "IPY_MODEL_3ca3affc6b994fdca774d8c341790772",
       "value": "<h5><a href=\"https://github.com/nteract/testbook\">nteract/testbook</a></h5>\n<ul>\n<li><a href=\"https://github.com/nteract/testbook/issues/133\">(#133)</a>: <em>Support for objects as return_value when patching</em> by <strong><a href=\"https://github.com/laserprec\">@laserprec</a></strong></li>\n<li><a href=\"https://github.com/nteract/testbook/issues/121\">(#121)</a>: <em>Add python 3.9 to test suite / tox</em> by <strong><a href=\"https://github.com/MSeal\">@MSeal</a></strong></li>\n</ul>"
      }
     },
     "2744d18551704dbea76cdf2f6e0dc4ea": {
      "model_module": "@jupyter-widgets/controls",
      "model_module_version": "1.5.0",
      "model_name": "DescriptionStyleModel",
      "state": {
       "_model_module": "@jupyter-widgets/controls",
       "_model_module_version": "1.5.0",
       "_model_name": "DescriptionStyleModel",
       "_view_count": null,
       "_view_module": "@jupyter-widgets/base",
       "_view_module_version": "1.2.0",
       "_view_name": "StyleView",
       "description_width": ""
      }
     },
     "28e2a07149d747cdacffb3e695326a87": {
      "model_module": "@jupyter-widgets/controls",
      "model_module_version": "1.5.0",
      "model_name": "DescriptionStyleModel",
      "state": {
       "_model_module": "@jupyter-widgets/controls",
       "_model_module_version": "1.5.0",
       "_model_name": "DescriptionStyleModel",
       "_view_count": null,
       "_view_module": "@jupyter-widgets/base",
       "_view_module_version": "1.2.0",
       "_view_name": "StyleView",
       "description_width": ""
      }
     },
     "2db027ff7e4641faada964d5541e1aad": {
      "model_module": "@jupyter-widgets/controls",
      "model_module_version": "1.5.0",
      "model_name": "DescriptionStyleModel",
      "state": {
       "_model_module": "@jupyter-widgets/controls",
       "_model_module_version": "1.5.0",
       "_model_name": "DescriptionStyleModel",
       "_view_count": null,
       "_view_module": "@jupyter-widgets/base",
       "_view_module_version": "1.2.0",
       "_view_name": "StyleView",
       "description_width": ""
      }
     },
     "2f146836c6044b07a8ab11eed8422146": {
      "model_module": "@jupyter-widgets/controls",
      "model_module_version": "1.5.0",
      "model_name": "HTMLModel",
      "state": {
       "_dom_classes": [],
       "_model_module": "@jupyter-widgets/controls",
       "_model_module_version": "1.5.0",
       "_model_name": "HTMLModel",
       "_view_count": null,
       "_view_module": "@jupyter-widgets/controls",
       "_view_module_version": "1.5.0",
       "_view_name": "HTMLView",
       "description": "",
       "description_tooltip": null,
       "layout": "IPY_MODEL_9b88dc0bd3544133b1d88c2b287b44f5",
       "placeholder": "​",
       "style": "IPY_MODEL_c7c88f82637149ae962fc9a1521409a1",
       "value": "<h5><a href=\"https://github.com/nteract/data-explorer\">nteract/data-explorer</a></h5>"
      }
     },
     "3017aba75f2a48dc8bde4f7754c279ec": {
      "model_module": "@jupyter-widgets/controls",
      "model_module_version": "1.5.0",
      "model_name": "HTMLModel",
      "state": {
       "_dom_classes": [],
       "_model_module": "@jupyter-widgets/controls",
       "_model_module_version": "1.5.0",
       "_model_name": "HTMLModel",
       "_view_count": null,
       "_view_module": "@jupyter-widgets/controls",
       "_view_module_version": "1.5.0",
       "_view_name": "HTMLView",
       "description": "",
       "description_tooltip": null,
       "layout": "IPY_MODEL_8706456180e44d9490487cea017ac1f7",
       "placeholder": "​",
       "style": "IPY_MODEL_83398e4f064d44caa03cc5ef2ffb11bc",
       "value": "<h5><a href=\"https://github.com/nteract/hydrogen\">nteract/hydrogen</a></h5>\n<ul>\n<li><a href=\"https://github.com/nteract/hydrogen/issues/2124\">(#2124)</a>: <em>Hydrogen package unable to import Pandas showing ModuleNotFoundError</em> by <strong><a href=\"https://github.com/kumarshivam89\">@kumarshivam89</a></strong></li>\n<li><a href=\"https://github.com/nteract/hydrogen/issues/2123\">(#2123)</a>: <em>SyntaxError: unexpected token P in JSON at position 1.</em> by <strong><a href=\"https://github.com/AtomicNess123\">@AtomicNess123</a></strong></li>\n<li><a href=\"https://github.com/nteract/hydrogen/issues/2132\">(#2132)</a>: <em>token not working in jupyter kernelgateway</em> by <strong><a href=\"https://github.com/jsyoo61\">@jsyoo61</a></strong></li>\n<li><a href=\"https://github.com/nteract/hydrogen/issues/2128\">(#2128)</a>: <em>lon</em> by <strong><a href=\"https://github.com/Lalpu\">@Lalpu</a></strong></li>\n</ul>"
      }
     },
     "30dd932dc9724fdf9c4cdb85f92af035": {
      "model_module": "@jupyter-widgets/controls",
      "model_module_version": "1.5.0",
      "model_name": "DescriptionStyleModel",
      "state": {
       "_model_module": "@jupyter-widgets/controls",
       "_model_module_version": "1.5.0",
       "_model_name": "DescriptionStyleModel",
       "_view_count": null,
       "_view_module": "@jupyter-widgets/base",
       "_view_module_version": "1.2.0",
       "_view_name": "StyleView",
       "description_width": ""
      }
     },
     "336f72168b564736b6c03e49dceeb2eb": {
      "model_module": "@jupyter-widgets/base",
      "model_module_version": "1.2.0",
      "model_name": "LayoutModel",
      "state": {
       "_model_module": "@jupyter-widgets/base",
       "_model_module_version": "1.2.0",
       "_model_name": "LayoutModel",
       "_view_count": null,
       "_view_module": "@jupyter-widgets/base",
       "_view_module_version": "1.2.0",
       "_view_name": "LayoutView",
       "align_content": null,
       "align_items": null,
       "align_self": null,
       "border": null,
       "bottom": null,
       "display": null,
       "flex": null,
       "flex_flow": null,
       "grid_area": null,
       "grid_auto_columns": null,
       "grid_auto_flow": null,
       "grid_auto_rows": null,
       "grid_column": null,
       "grid_gap": null,
       "grid_row": null,
       "grid_template_areas": null,
       "grid_template_columns": null,
       "grid_template_rows": null,
       "height": null,
       "justify_content": null,
       "justify_items": null,
       "left": null,
       "margin": null,
       "max_height": null,
       "max_width": null,
       "min_height": null,
       "min_width": null,
       "object_fit": null,
       "object_position": null,
       "order": null,
       "overflow": null,
       "overflow_x": null,
       "overflow_y": null,
       "padding": null,
       "right": null,
       "top": null,
       "visibility": null,
       "width": null
      }
     },
     "342958c7d2fe4a8e8f6cd2c4dba72c79": {
      "model_module": "@jupyter-widgets/base",
      "model_module_version": "1.2.0",
      "model_name": "LayoutModel",
      "state": {
       "_model_module": "@jupyter-widgets/base",
       "_model_module_version": "1.2.0",
       "_model_name": "LayoutModel",
       "_view_count": null,
       "_view_module": "@jupyter-widgets/base",
       "_view_module_version": "1.2.0",
       "_view_name": "LayoutView",
       "align_content": null,
       "align_items": null,
       "align_self": null,
       "border": null,
       "bottom": null,
       "display": null,
       "flex": null,
       "flex_flow": null,
       "grid_area": null,
       "grid_auto_columns": null,
       "grid_auto_flow": null,
       "grid_auto_rows": null,
       "grid_column": null,
       "grid_gap": null,
       "grid_row": null,
       "grid_template_areas": null,
       "grid_template_columns": null,
       "grid_template_rows": null,
       "height": null,
       "justify_content": null,
       "justify_items": null,
       "left": null,
       "margin": null,
       "max_height": null,
       "max_width": null,
       "min_height": null,
       "min_width": null,
       "object_fit": null,
       "object_position": null,
       "order": null,
       "overflow": null,
       "overflow_x": null,
       "overflow_y": null,
       "padding": null,
       "right": null,
       "top": null,
       "visibility": null,
       "width": null
      }
     },
     "359ee3c176e84ba5b14395d05bde47c4": {
      "model_module": "@jupyter-widgets/base",
      "model_module_version": "1.2.0",
      "model_name": "LayoutModel",
      "state": {
       "_model_module": "@jupyter-widgets/base",
       "_model_module_version": "1.2.0",
       "_model_name": "LayoutModel",
       "_view_count": null,
       "_view_module": "@jupyter-widgets/base",
       "_view_module_version": "1.2.0",
       "_view_name": "LayoutView",
       "align_content": null,
       "align_items": null,
       "align_self": null,
       "border": null,
       "bottom": null,
       "display": null,
       "flex": null,
       "flex_flow": null,
       "grid_area": null,
       "grid_auto_columns": null,
       "grid_auto_flow": null,
       "grid_auto_rows": null,
       "grid_column": null,
       "grid_gap": null,
       "grid_row": null,
       "grid_template_areas": null,
       "grid_template_columns": null,
       "grid_template_rows": null,
       "height": null,
       "justify_content": null,
       "justify_items": null,
       "left": null,
       "margin": null,
       "max_height": null,
       "max_width": null,
       "min_height": null,
       "min_width": null,
       "object_fit": null,
       "object_position": null,
       "order": null,
       "overflow": null,
       "overflow_x": null,
       "overflow_y": null,
       "padding": null,
       "right": null,
       "top": null,
       "visibility": null,
       "width": null
      }
     },
     "3775f70aebc64526896a5c8e47a0b4a1": {
      "model_module": "@jupyter-widgets/controls",
      "model_module_version": "1.5.0",
      "model_name": "DescriptionStyleModel",
      "state": {
       "_model_module": "@jupyter-widgets/controls",
       "_model_module_version": "1.5.0",
       "_model_name": "DescriptionStyleModel",
       "_view_count": null,
       "_view_module": "@jupyter-widgets/base",
       "_view_module_version": "1.2.0",
       "_view_name": "StyleView",
       "description_width": ""
      }
     },
     "38a6c2f939c04a118289790e313d720c": {
      "model_module": "@jupyter-widgets/controls",
      "model_module_version": "1.5.0",
      "model_name": "HTMLModel",
      "state": {
       "_dom_classes": [],
       "_model_module": "@jupyter-widgets/controls",
       "_model_module_version": "1.5.0",
       "_model_name": "HTMLModel",
       "_view_count": null,
       "_view_module": "@jupyter-widgets/controls",
       "_view_module_version": "1.5.0",
       "_view_name": "HTMLView",
       "description": "",
       "description_tooltip": null,
       "layout": "IPY_MODEL_14204694899e44b7a80ef1541b658368",
       "placeholder": "​",
       "style": "IPY_MODEL_dfe7580014514881adba683b2069369d",
       "value": "<h4>Closed PRs for repo: <a href=\"https://github.com/nteract/nteract\">nteract/nteract</a></h4>\n<h5></h5>\n<ul>\n<li><a href=\"https://github.com/nteract/nteract/pull/5611\">(#5611)</a>: <em>fix: resolve #5443 by setting message.buffers to ArrayBuffer</em> by <strong><a href=\"https://github.com/captainsafia\">@captainsafia</a></strong> merged by <strong><a href=\"https://github.com/captainsafia\">@captainsafia</a></strong></li>\n<li><a href=\"https://github.com/nteract/nteract/pull/5609\">(#5609)</a>: <em>fix: bump jupyter-widgets dependency</em> by <strong><a href=\"https://github.com/captainsafia\">@captainsafia</a></strong> merged by <strong><a href=\"https://github.com/captainsafia\">@captainsafia</a></strong></li>\n<li><a href=\"https://github.com/nteract/nteract/pull/5608\">(#5608)</a>: <em>fix: mark react-redux package as a peer dependency</em> by <strong><a href=\"https://github.com/vivek1729\">@vivek1729</a></strong> merged by <strong><a href=\"https://github.com/captainsafia\">@captainsafia</a></strong></li>\n<li><a href=\"https://github.com/nteract/nteract/pull/5604\">(#5604)</a>: <em>Create SECURITY.md</em> by <strong><a href=\"https://github.com/captainsafia\">@captainsafia</a></strong> merged by <strong><a href=\"https://github.com/captainsafia\">@captainsafia</a></strong></li>\n<li><a href=\"https://github.com/nteract/nteract/pull/5602\">(#5602)</a>: <em>fix: allow bumping version of @nteract/markdown</em> by <strong><a href=\"https://github.com/bryanchen-d\">@bryanchen-d</a></strong> merged by <strong><a href=\"https://github.com/bryanchen-d\">@bryanchen-d</a></strong></li>\n<li><a href=\"https://github.com/nteract/nteract/pull/5601\">(#5601)</a>: <em>fix: bump react-redux to 7.2.5</em> by <strong><a href=\"https://github.com/captainsafia\">@captainsafia</a></strong> merged by <strong><a href=\"https://github.com/captainsafia\">@captainsafia</a></strong></li>\n<li><a href=\"https://github.com/nteract/nteract/pull/5596\">(#5596)</a>: <em>fix: skip remultiline in serializing stream output</em> by <strong><a href=\"https://github.com/bryanchen-d\">@bryanchen-d</a></strong> merged by <strong><a href=\"https://github.com/bryanchen-d\">@bryanchen-d</a></strong></li>\n<li><a href=\"https://github.com/nteract/nteract/pull/5594\">(#5594)</a>: <em>DRAFT (Do not merge) Attempt redux7 update</em> by <strong><a href=\"https://github.com/vivek1729\">@vivek1729</a></strong> merged by <strong><a href=\"https://github.com/captainsafia\">@captainsafia</a></strong></li>\n<li><a href=\"https://github.com/nteract/nteract/pull/5593\">(#5593)</a>: <em>Update package.json to include the repository</em> by <strong><a href=\"https://github.com/msftenhanceprovenance\">@msftenhanceprovenance</a></strong> merged by <strong><a href=\"https://github.com/captainsafia\">@captainsafia</a></strong></li>\n<li><a href=\"https://github.com/nteract/nteract/pull/5591\">(#5591)</a>: <em>fix: consider value prop changed before calling setvalue on monaco editor</em> by <strong><a href=\"https://github.com/barryt2\">@barryt2</a></strong> merged by <strong><a href=\"https://github.com/vivek1729\">@vivek1729</a></strong></li>\n<li><a href=\"https://github.com/nteract/nteract/pull/5587\">(#5587)</a>: <em>fix: update editor resize handler to incorporate the new contentsizechange event and adopt padding option</em> by <strong><a href=\"https://github.com/vivek1729\">@vivek1729</a></strong> merged by <strong><a href=\"https://github.com/vivek1729\">@vivek1729</a></strong></li>\n<li><a href=\"https://github.com/nteract/nteract/pull/5585\">(#5585)</a>: <em>Mythic RTC fundamentals</em> by <strong><a href=\"https://github.com/alpaix\">@alpaix</a></strong> merged by <strong><a href=\"https://github.com/alpaix\">@alpaix</a></strong></li>\n</ul>"
      }
     },
     "3946f2efee504229b302fb4015179521": {
      "model_module": "@jupyter-widgets/controls",
      "model_module_version": "1.5.0",
      "model_name": "HTMLModel",
      "state": {
       "_dom_classes": [],
       "_model_module": "@jupyter-widgets/controls",
       "_model_module_version": "1.5.0",
       "_model_name": "HTMLModel",
       "_view_count": null,
       "_view_module": "@jupyter-widgets/controls",
       "_view_module_version": "1.5.0",
       "_view_name": "HTMLView",
       "description": "",
       "description_tooltip": null,
       "layout": "IPY_MODEL_d8bc9d35587f4243bec771ab521c2d83",
       "placeholder": "​",
       "style": "IPY_MODEL_3775f70aebc64526896a5c8e47a0b4a1",
       "value": "<h5><a href=\"https://github.com/nteract/bookstore\">nteract/bookstore</a></h5>"
      }
     },
     "3a3ad57d9c0948608f216bc083bb09ff": {
      "model_module": "@jupyter-widgets/base",
      "model_module_version": "1.2.0",
      "model_name": "LayoutModel",
      "state": {
       "_model_module": "@jupyter-widgets/base",
       "_model_module_version": "1.2.0",
       "_model_name": "LayoutModel",
       "_view_count": null,
       "_view_module": "@jupyter-widgets/base",
       "_view_module_version": "1.2.0",
       "_view_name": "LayoutView",
       "align_content": null,
       "align_items": null,
       "align_self": null,
       "border": null,
       "bottom": null,
       "display": null,
       "flex": null,
       "flex_flow": null,
       "grid_area": null,
       "grid_auto_columns": null,
       "grid_auto_flow": null,
       "grid_auto_rows": null,
       "grid_column": null,
       "grid_gap": null,
       "grid_row": null,
       "grid_template_areas": null,
       "grid_template_columns": null,
       "grid_template_rows": null,
       "height": null,
       "justify_content": null,
       "justify_items": null,
       "left": null,
       "margin": null,
       "max_height": null,
       "max_width": null,
       "min_height": null,
       "min_width": null,
       "object_fit": null,
       "object_position": null,
       "order": null,
       "overflow": null,
       "overflow_x": null,
       "overflow_y": null,
       "padding": null,
       "right": null,
       "top": null,
       "visibility": null,
       "width": null
      }
     },
     "3ba7808ec699465cb55343e215f6f386": {
      "model_module": "@jupyter-widgets/controls",
      "model_module_version": "1.5.0",
      "model_name": "DescriptionStyleModel",
      "state": {
       "_model_module": "@jupyter-widgets/controls",
       "_model_module_version": "1.5.0",
       "_model_name": "DescriptionStyleModel",
       "_view_count": null,
       "_view_module": "@jupyter-widgets/base",
       "_view_module_version": "1.2.0",
       "_view_name": "StyleView",
       "description_width": ""
      }
     },
     "3ca3affc6b994fdca774d8c341790772": {
      "model_module": "@jupyter-widgets/controls",
      "model_module_version": "1.5.0",
      "model_name": "DescriptionStyleModel",
      "state": {
       "_model_module": "@jupyter-widgets/controls",
       "_model_module_version": "1.5.0",
       "_model_name": "DescriptionStyleModel",
       "_view_count": null,
       "_view_module": "@jupyter-widgets/base",
       "_view_module_version": "1.2.0",
       "_view_name": "StyleView",
       "description_width": ""
      }
     },
     "412cf4fb90d148de9d2ae97781d4c1bb": {
      "model_module": "@jupyter-widgets/controls",
      "model_module_version": "1.5.0",
      "model_name": "HTMLModel",
      "state": {
       "_dom_classes": [],
       "_model_module": "@jupyter-widgets/controls",
       "_model_module_version": "1.5.0",
       "_model_name": "HTMLModel",
       "_view_count": null,
       "_view_module": "@jupyter-widgets/controls",
       "_view_module_version": "1.5.0",
       "_view_name": "HTMLView",
       "description": "",
       "description_tooltip": null,
       "layout": "IPY_MODEL_3a3ad57d9c0948608f216bc083bb09ff",
       "placeholder": "​",
       "style": "IPY_MODEL_30dd932dc9724fdf9c4cdb85f92af035",
       "value": "<h5><a href=\"https://github.com/nteract/papermill\">nteract/papermill</a></h5>\n<ul>\n<li><a href=\"https://github.com/nteract/papermill/issues/632\">(#632)</a>: <em>Suppress excessive output</em> by <strong><a href=\"https://github.com/roger-yu-ds\">@roger-yu-ds</a></strong></li>\n<li><a href=\"https://github.com/nteract/papermill/issues/637\">(#637)</a>: <em><code>find_first_tagged_cell_index</code> expects <code>metadata</code> to have <code>tags</code> attribute</em> by <strong><a href=\"https://github.com/tfmark\">@tfmark</a></strong></li>\n<li><a href=\"https://github.com/nteract/papermill/issues/633\">(#633)</a>: <em>papermill installation not working on Linux system</em> by <strong><a href=\"https://github.com/bidhya\">@bidhya</a></strong></li>\n<li><a href=\"https://github.com/nteract/papermill/issues/630\">(#630)</a>: <em>NaN in output JSON</em> by <strong><a href=\"https://github.com/AlessioC31\">@AlessioC31</a></strong></li>\n</ul>"
      }
     },
     "4184786a75b943efa33477660700320c": {
      "model_module": "@jupyter-widgets/controls",
      "model_module_version": "1.5.0",
      "model_name": "DescriptionStyleModel",
      "state": {
       "_model_module": "@jupyter-widgets/controls",
       "_model_module_version": "1.5.0",
       "_model_name": "DescriptionStyleModel",
       "_view_count": null,
       "_view_module": "@jupyter-widgets/base",
       "_view_module_version": "1.2.0",
       "_view_name": "StyleView",
       "description_width": ""
      }
     },
     "41b60e48f3ad4777ba539edb51d9e988": {
      "model_module": "@jupyter-widgets/base",
      "model_module_version": "1.2.0",
      "model_name": "LayoutModel",
      "state": {
       "_model_module": "@jupyter-widgets/base",
       "_model_module_version": "1.2.0",
       "_model_name": "LayoutModel",
       "_view_count": null,
       "_view_module": "@jupyter-widgets/base",
       "_view_module_version": "1.2.0",
       "_view_name": "LayoutView",
       "align_content": null,
       "align_items": null,
       "align_self": null,
       "border": null,
       "bottom": null,
       "display": null,
       "flex": null,
       "flex_flow": null,
       "grid_area": null,
       "grid_auto_columns": null,
       "grid_auto_flow": null,
       "grid_auto_rows": null,
       "grid_column": null,
       "grid_gap": null,
       "grid_row": null,
       "grid_template_areas": null,
       "grid_template_columns": null,
       "grid_template_rows": null,
       "height": null,
       "justify_content": null,
       "justify_items": null,
       "left": null,
       "margin": null,
       "max_height": null,
       "max_width": null,
       "min_height": null,
       "min_width": null,
       "object_fit": null,
       "object_position": null,
       "order": null,
       "overflow": null,
       "overflow_x": null,
       "overflow_y": null,
       "padding": null,
       "right": null,
       "top": null,
       "visibility": null,
       "width": null
      }
     },
     "41e0362eced947d280b9a16f1850bdf7": {
      "model_module": "@jupyter-widgets/controls",
      "model_module_version": "1.5.0",
      "model_name": "DescriptionStyleModel",
      "state": {
       "_model_module": "@jupyter-widgets/controls",
       "_model_module_version": "1.5.0",
       "_model_name": "DescriptionStyleModel",
       "_view_count": null,
       "_view_module": "@jupyter-widgets/base",
       "_view_module_version": "1.2.0",
       "_view_name": "StyleView",
       "description_width": ""
      }
     },
     "45d458fe5be3495abdd19ec130b6522e": {
      "model_module": "@jupyter-widgets/controls",
      "model_module_version": "1.5.0",
      "model_name": "DescriptionStyleModel",
      "state": {
       "_model_module": "@jupyter-widgets/controls",
       "_model_module_version": "1.5.0",
       "_model_name": "DescriptionStyleModel",
       "_view_count": null,
       "_view_module": "@jupyter-widgets/base",
       "_view_module_version": "1.2.0",
       "_view_name": "StyleView",
       "description_width": ""
      }
     },
     "4b7555e55a71402f8890e60509d40425": {
      "model_module": "@jupyter-widgets/base",
      "model_module_version": "1.2.0",
      "model_name": "LayoutModel",
      "state": {
       "_model_module": "@jupyter-widgets/base",
       "_model_module_version": "1.2.0",
       "_model_name": "LayoutModel",
       "_view_count": null,
       "_view_module": "@jupyter-widgets/base",
       "_view_module_version": "1.2.0",
       "_view_name": "LayoutView",
       "align_content": null,
       "align_items": null,
       "align_self": null,
       "border": null,
       "bottom": null,
       "display": null,
       "flex": null,
       "flex_flow": null,
       "grid_area": null,
       "grid_auto_columns": null,
       "grid_auto_flow": null,
       "grid_auto_rows": null,
       "grid_column": null,
       "grid_gap": null,
       "grid_row": null,
       "grid_template_areas": null,
       "grid_template_columns": null,
       "grid_template_rows": null,
       "height": null,
       "justify_content": null,
       "justify_items": null,
       "left": null,
       "margin": null,
       "max_height": null,
       "max_width": null,
       "min_height": null,
       "min_width": null,
       "object_fit": null,
       "object_position": null,
       "order": null,
       "overflow": null,
       "overflow_x": null,
       "overflow_y": null,
       "padding": null,
       "right": null,
       "top": null,
       "visibility": null,
       "width": null
      }
     },
     "4df03f94495c4c24b112956d9b4d682c": {
      "model_module": "@jupyter-widgets/controls",
      "model_module_version": "1.5.0",
      "model_name": "DescriptionStyleModel",
      "state": {
       "_model_module": "@jupyter-widgets/controls",
       "_model_module_version": "1.5.0",
       "_model_name": "DescriptionStyleModel",
       "_view_count": null,
       "_view_module": "@jupyter-widgets/base",
       "_view_module_version": "1.2.0",
       "_view_name": "StyleView",
       "description_width": ""
      }
     },
     "4f61c9715b99425b9be19a3aaa0dcf36": {
      "model_module": "@jupyter-widgets/controls",
      "model_module_version": "1.5.0",
      "model_name": "HTMLModel",
      "state": {
       "_dom_classes": [],
       "_model_module": "@jupyter-widgets/controls",
       "_model_module_version": "1.5.0",
       "_model_name": "HTMLModel",
       "_view_count": null,
       "_view_module": "@jupyter-widgets/controls",
       "_view_module_version": "1.5.0",
       "_view_name": "HTMLView",
       "description": "",
       "description_tooltip": null,
       "layout": "IPY_MODEL_359ee3c176e84ba5b14395d05bde47c4",
       "placeholder": "​",
       "style": "IPY_MODEL_80b8df48f2984ac7bbe8a40c37a93265",
       "value": "<h5><a href=\"https://github.com/nteract/nteract\">nteract/nteract</a></h5>\n<ul>\n<li><a href=\"https://github.com/nteract/nteract/issues/5588\">(#5588)</a>: <em>Migrating to react-redux v7</em> by <strong><a href=\"https://github.com/vivek1729\">@vivek1729</a></strong></li>\n<li><a href=\"https://github.com/nteract/nteract/issues/5443\">(#5443)</a>: <em>Kernel message buffers should use Array instead of TypedArray</em> by <strong><a href=\"https://github.com/nicholaswold\">@nicholaswold</a></strong></li>\n<li><a href=\"https://github.com/nteract/nteract/issues/5603\">(#5603)</a>: <em>Set up security.md policy for vulnerabilities</em> by <strong><a href=\"https://github.com/willingc\">@willingc</a></strong></li>\n</ul>"
      }
     },
     "53a14fd22cf049d6ab53e7c617b56ba7": {
      "model_module": "@jupyter-widgets/base",
      "model_module_version": "1.2.0",
      "model_name": "LayoutModel",
      "state": {
       "_model_module": "@jupyter-widgets/base",
       "_model_module_version": "1.2.0",
       "_model_name": "LayoutModel",
       "_view_count": null,
       "_view_module": "@jupyter-widgets/base",
       "_view_module_version": "1.2.0",
       "_view_name": "LayoutView",
       "align_content": null,
       "align_items": null,
       "align_self": null,
       "border": null,
       "bottom": null,
       "display": null,
       "flex": null,
       "flex_flow": null,
       "grid_area": null,
       "grid_auto_columns": null,
       "grid_auto_flow": null,
       "grid_auto_rows": null,
       "grid_column": null,
       "grid_gap": null,
       "grid_row": null,
       "grid_template_areas": null,
       "grid_template_columns": null,
       "grid_template_rows": null,
       "height": null,
       "justify_content": null,
       "justify_items": null,
       "left": null,
       "margin": null,
       "max_height": null,
       "max_width": null,
       "min_height": null,
       "min_width": null,
       "object_fit": null,
       "object_position": null,
       "order": null,
       "overflow": null,
       "overflow_x": null,
       "overflow_y": null,
       "padding": null,
       "right": null,
       "top": null,
       "visibility": null,
       "width": null
      }
     },
     "542d452f9f5042f5959de7c909987554": {
      "model_module": "@jupyter-widgets/controls",
      "model_module_version": "1.5.0",
      "model_name": "DescriptionStyleModel",
      "state": {
       "_model_module": "@jupyter-widgets/controls",
       "_model_module_version": "1.5.0",
       "_model_name": "DescriptionStyleModel",
       "_view_count": null,
       "_view_module": "@jupyter-widgets/base",
       "_view_module_version": "1.2.0",
       "_view_name": "StyleView",
       "description_width": ""
      }
     },
     "5b176cd149534d5caf815b0dcccf955a": {
      "model_module": "@jupyter-widgets/controls",
      "model_module_version": "1.5.0",
      "model_name": "HTMLModel",
      "state": {
       "_dom_classes": [],
       "_model_module": "@jupyter-widgets/controls",
       "_model_module_version": "1.5.0",
       "_model_name": "HTMLModel",
       "_view_count": null,
       "_view_module": "@jupyter-widgets/controls",
       "_view_module_version": "1.5.0",
       "_view_name": "HTMLView",
       "description": "",
       "description_tooltip": null,
       "layout": "IPY_MODEL_69adc23e4b23456589e7b2a8fc3c56bf",
       "placeholder": "​",
       "style": "IPY_MODEL_a30d5b5fb68e4177bf71e7b8419cfb48",
       "value": "<h5><a href=\"https://github.com/nteract/data-explorer\">nteract/data-explorer</a></h5>"
      }
     },
     "5ba47023cd044034a59faa6e85be5300": {
      "model_module": "@jupyter-widgets/controls",
      "model_module_version": "1.5.0",
      "model_name": "HTMLModel",
      "state": {
       "_dom_classes": [],
       "_model_module": "@jupyter-widgets/controls",
       "_model_module_version": "1.5.0",
       "_model_name": "HTMLModel",
       "_view_count": null,
       "_view_module": "@jupyter-widgets/controls",
       "_view_module_version": "1.5.0",
       "_view_name": "HTMLView",
       "description": "",
       "description_tooltip": null,
       "layout": "IPY_MODEL_c282b504d23d4176bac674accd1700f5",
       "placeholder": "​",
       "style": "IPY_MODEL_ed98d22365c847d19a4bac8eb4c1d894",
       "value": "<h4>Closed PRs for repo: <a href=\"https://github.com/nteract/testbook\">nteract/testbook</a></h4>\n<h5></h5>\n<ul>\n<li><a href=\"https://github.com/nteract/testbook/pull/135\">(#135)</a>: <em>Add python3.10 to tox and workflow</em> by <strong><a href=\"https://github.com/ronnie-llamado\">@ronnie-llamado</a></strong> merged by <strong><a href=\"https://github.com/MSeal\">@MSeal</a></strong></li>\n<li><a href=\"https://github.com/nteract/testbook/pull/134\">(#134)</a>: <em>Add python3.9 to tox and workflow</em> by <strong><a href=\"https://github.com/ronnie-llamado\">@ronnie-llamado</a></strong> merged by <strong><a href=\"https://github.com/MSeal\">@MSeal</a></strong></li>\n</ul>"
      }
     },
     "5cb630ce6aa240d5b5cceba8b4fa864c": {
      "model_module": "@jupyter-widgets/base",
      "model_module_version": "1.2.0",
      "model_name": "LayoutModel",
      "state": {
       "_model_module": "@jupyter-widgets/base",
       "_model_module_version": "1.2.0",
       "_model_name": "LayoutModel",
       "_view_count": null,
       "_view_module": "@jupyter-widgets/base",
       "_view_module_version": "1.2.0",
       "_view_name": "LayoutView",
       "align_content": null,
       "align_items": null,
       "align_self": null,
       "border": null,
       "bottom": null,
       "display": null,
       "flex": null,
       "flex_flow": null,
       "grid_area": null,
       "grid_auto_columns": null,
       "grid_auto_flow": null,
       "grid_auto_rows": null,
       "grid_column": null,
       "grid_gap": null,
       "grid_row": null,
       "grid_template_areas": null,
       "grid_template_columns": null,
       "grid_template_rows": null,
       "height": null,
       "justify_content": null,
       "justify_items": null,
       "left": null,
       "margin": null,
       "max_height": null,
       "max_width": null,
       "min_height": null,
       "min_width": null,
       "object_fit": null,
       "object_position": null,
       "order": null,
       "overflow": null,
       "overflow_x": null,
       "overflow_y": null,
       "padding": null,
       "right": null,
       "top": null,
       "visibility": null,
       "width": null
      }
     },
     "6194743dab9249e5aecd9f94a4f87978": {
      "model_module": "@jupyter-widgets/controls",
      "model_module_version": "1.5.0",
      "model_name": "HTMLModel",
      "state": {
       "_dom_classes": [],
       "_model_module": "@jupyter-widgets/controls",
       "_model_module_version": "1.5.0",
       "_model_name": "HTMLModel",
       "_view_count": null,
       "_view_module": "@jupyter-widgets/controls",
       "_view_module_version": "1.5.0",
       "_view_name": "HTMLView",
       "description": "",
       "description_tooltip": null,
       "layout": "IPY_MODEL_ed8d48204d7244f5a81bf637e451dcd5",
       "placeholder": "​",
       "style": "IPY_MODEL_e36e9f2a52e1428c912675080aa393af",
       "value": "<h5><a href=\"https://github.com/nteract/bookstore\">nteract/bookstore</a></h5>"
      }
     },
     "6530c36c5a0f4cc080c7752a3ae96e6d": {
      "model_module": "@jupyter-widgets/base",
      "model_module_version": "1.2.0",
      "model_name": "LayoutModel",
      "state": {
       "_model_module": "@jupyter-widgets/base",
       "_model_module_version": "1.2.0",
       "_model_name": "LayoutModel",
       "_view_count": null,
       "_view_module": "@jupyter-widgets/base",
       "_view_module_version": "1.2.0",
       "_view_name": "LayoutView",
       "align_content": null,
       "align_items": null,
       "align_self": null,
       "border": null,
       "bottom": null,
       "display": null,
       "flex": null,
       "flex_flow": null,
       "grid_area": null,
       "grid_auto_columns": null,
       "grid_auto_flow": null,
       "grid_auto_rows": null,
       "grid_column": null,
       "grid_gap": null,
       "grid_row": null,
       "grid_template_areas": null,
       "grid_template_columns": null,
       "grid_template_rows": null,
       "height": null,
       "justify_content": null,
       "justify_items": null,
       "left": null,
       "margin": null,
       "max_height": null,
       "max_width": null,
       "min_height": null,
       "min_width": null,
       "object_fit": null,
       "object_position": null,
       "order": null,
       "overflow": null,
       "overflow_x": null,
       "overflow_y": null,
       "padding": null,
       "right": null,
       "top": null,
       "visibility": null,
       "width": null
      }
     },
     "69adc23e4b23456589e7b2a8fc3c56bf": {
      "model_module": "@jupyter-widgets/base",
      "model_module_version": "1.2.0",
      "model_name": "LayoutModel",
      "state": {
       "_model_module": "@jupyter-widgets/base",
       "_model_module_version": "1.2.0",
       "_model_name": "LayoutModel",
       "_view_count": null,
       "_view_module": "@jupyter-widgets/base",
       "_view_module_version": "1.2.0",
       "_view_name": "LayoutView",
       "align_content": null,
       "align_items": null,
       "align_self": null,
       "border": null,
       "bottom": null,
       "display": null,
       "flex": null,
       "flex_flow": null,
       "grid_area": null,
       "grid_auto_columns": null,
       "grid_auto_flow": null,
       "grid_auto_rows": null,
       "grid_column": null,
       "grid_gap": null,
       "grid_row": null,
       "grid_template_areas": null,
       "grid_template_columns": null,
       "grid_template_rows": null,
       "height": null,
       "justify_content": null,
       "justify_items": null,
       "left": null,
       "margin": null,
       "max_height": null,
       "max_width": null,
       "min_height": null,
       "min_width": null,
       "object_fit": null,
       "object_position": null,
       "order": null,
       "overflow": null,
       "overflow_x": null,
       "overflow_y": null,
       "padding": null,
       "right": null,
       "top": null,
       "visibility": null,
       "width": null
      }
     },
     "6cc8497758684548a2b2c69119c4d059": {
      "model_module": "@jupyter-widgets/controls",
      "model_module_version": "1.5.0",
      "model_name": "HTMLModel",
      "state": {
       "_dom_classes": [],
       "_model_module": "@jupyter-widgets/controls",
       "_model_module_version": "1.5.0",
       "_model_name": "HTMLModel",
       "_view_count": null,
       "_view_module": "@jupyter-widgets/controls",
       "_view_module_version": "1.5.0",
       "_view_name": "HTMLView",
       "description": "",
       "description_tooltip": null,
       "layout": "IPY_MODEL_342958c7d2fe4a8e8f6cd2c4dba72c79",
       "placeholder": "​",
       "style": "IPY_MODEL_e2953d36ee7d4f24b18aed76ee5466c1",
       "value": "<h5><a href=\"https://github.com/nteract/nteract.io\">nteract/nteract.io</a></h5>"
      }
     },
     "6f75f9094ffd4c91aa685a6f6cd3159f": {
      "model_module": "@jupyter-widgets/controls",
      "model_module_version": "1.5.0",
      "model_name": "HTMLModel",
      "state": {
       "_dom_classes": [],
       "_model_module": "@jupyter-widgets/controls",
       "_model_module_version": "1.5.0",
       "_model_name": "HTMLModel",
       "_view_count": null,
       "_view_module": "@jupyter-widgets/controls",
       "_view_module_version": "1.5.0",
       "_view_name": "HTMLView",
       "description": "",
       "description_tooltip": null,
       "layout": "IPY_MODEL_7f7e3d9afef54a588a7a9efc547889bd",
       "placeholder": "​",
       "style": "IPY_MODEL_2db027ff7e4641faada964d5541e1aad",
       "value": "<h5><a href=\"https://github.com/nteract/nteract\">nteract/nteract</a></h5>\n<ul>\n<li><a href=\"https://github.com/nteract/nteract/issues/5588\">(#5588)</a>: <em>Migrating to react-redux v7</em> by <strong><a href=\"https://github.com/vivek1729\">@vivek1729</a></strong></li>\n<li><a href=\"https://github.com/nteract/nteract/issues/5443\">(#5443)</a>: <em>Kernel message buffers should use Array instead of TypedArray</em> by <strong><a href=\"https://github.com/nicholaswold\">@nicholaswold</a></strong></li>\n<li><a href=\"https://github.com/nteract/nteract/issues/5603\">(#5603)</a>: <em>Set up security.md policy for vulnerabilities</em> by <strong><a href=\"https://github.com/willingc\">@willingc</a></strong></li>\n</ul>"
      }
     },
     "79057d484bec4ef5bf42ee9354d5a17e": {
      "model_module": "@jupyter-widgets/controls",
      "model_module_version": "1.5.0",
      "model_name": "HTMLModel",
      "state": {
       "_dom_classes": [],
       "_model_module": "@jupyter-widgets/controls",
       "_model_module_version": "1.5.0",
       "_model_name": "HTMLModel",
       "_view_count": null,
       "_view_module": "@jupyter-widgets/controls",
       "_view_module_version": "1.5.0",
       "_view_name": "HTMLView",
       "description": "",
       "description_tooltip": null,
       "layout": "IPY_MODEL_a750276188364f0fbe5bf18d964cc634",
       "placeholder": "​",
       "style": "IPY_MODEL_28e2a07149d747cdacffb3e695326a87",
       "value": "<h5><a href=\"https://github.com/nteract/papermill\">nteract/papermill</a></h5>\n<ul>\n<li><a href=\"https://github.com/nteract/papermill/issues/632\">(#632)</a>: <em>Suppress excessive output</em> by <strong><a href=\"https://github.com/roger-yu-ds\">@roger-yu-ds</a></strong></li>\n<li><a href=\"https://github.com/nteract/papermill/issues/637\">(#637)</a>: <em><code>find_first_tagged_cell_index</code> expects <code>metadata</code> to have <code>tags</code> attribute</em> by <strong><a href=\"https://github.com/tfmark\">@tfmark</a></strong></li>\n<li><a href=\"https://github.com/nteract/papermill/issues/633\">(#633)</a>: <em>papermill installation not working on Linux system</em> by <strong><a href=\"https://github.com/bidhya\">@bidhya</a></strong></li>\n<li><a href=\"https://github.com/nteract/papermill/issues/630\">(#630)</a>: <em>NaN in output JSON</em> by <strong><a href=\"https://github.com/AlessioC31\">@AlessioC31</a></strong></li>\n</ul>"
      }
     },
     "7f23e5d99cd64246860cefb0a2b5f888": {
      "model_module": "@jupyter-widgets/base",
      "model_module_version": "1.2.0",
      "model_name": "LayoutModel",
      "state": {
       "_model_module": "@jupyter-widgets/base",
       "_model_module_version": "1.2.0",
       "_model_name": "LayoutModel",
       "_view_count": null,
       "_view_module": "@jupyter-widgets/base",
       "_view_module_version": "1.2.0",
       "_view_name": "LayoutView",
       "align_content": null,
       "align_items": null,
       "align_self": null,
       "border": null,
       "bottom": null,
       "display": null,
       "flex": null,
       "flex_flow": null,
       "grid_area": null,
       "grid_auto_columns": null,
       "grid_auto_flow": null,
       "grid_auto_rows": null,
       "grid_column": null,
       "grid_gap": null,
       "grid_row": null,
       "grid_template_areas": null,
       "grid_template_columns": null,
       "grid_template_rows": null,
       "height": null,
       "justify_content": null,
       "justify_items": null,
       "left": null,
       "margin": null,
       "max_height": null,
       "max_width": null,
       "min_height": null,
       "min_width": null,
       "object_fit": null,
       "object_position": null,
       "order": null,
       "overflow": null,
       "overflow_x": null,
       "overflow_y": null,
       "padding": null,
       "right": null,
       "top": null,
       "visibility": null,
       "width": null
      }
     },
     "7f7e3d9afef54a588a7a9efc547889bd": {
      "model_module": "@jupyter-widgets/base",
      "model_module_version": "1.2.0",
      "model_name": "LayoutModel",
      "state": {
       "_model_module": "@jupyter-widgets/base",
       "_model_module_version": "1.2.0",
       "_model_name": "LayoutModel",
       "_view_count": null,
       "_view_module": "@jupyter-widgets/base",
       "_view_module_version": "1.2.0",
       "_view_name": "LayoutView",
       "align_content": null,
       "align_items": null,
       "align_self": null,
       "border": null,
       "bottom": null,
       "display": null,
       "flex": null,
       "flex_flow": null,
       "grid_area": null,
       "grid_auto_columns": null,
       "grid_auto_flow": null,
       "grid_auto_rows": null,
       "grid_column": null,
       "grid_gap": null,
       "grid_row": null,
       "grid_template_areas": null,
       "grid_template_columns": null,
       "grid_template_rows": null,
       "height": null,
       "justify_content": null,
       "justify_items": null,
       "left": null,
       "margin": null,
       "max_height": null,
       "max_width": null,
       "min_height": null,
       "min_width": null,
       "object_fit": null,
       "object_position": null,
       "order": null,
       "overflow": null,
       "overflow_x": null,
       "overflow_y": null,
       "padding": null,
       "right": null,
       "top": null,
       "visibility": null,
       "width": null
      }
     },
     "80b8df48f2984ac7bbe8a40c37a93265": {
      "model_module": "@jupyter-widgets/controls",
      "model_module_version": "1.5.0",
      "model_name": "DescriptionStyleModel",
      "state": {
       "_model_module": "@jupyter-widgets/controls",
       "_model_module_version": "1.5.0",
       "_model_name": "DescriptionStyleModel",
       "_view_count": null,
       "_view_module": "@jupyter-widgets/base",
       "_view_module_version": "1.2.0",
       "_view_name": "StyleView",
       "description_width": ""
      }
     },
     "83398e4f064d44caa03cc5ef2ffb11bc": {
      "model_module": "@jupyter-widgets/controls",
      "model_module_version": "1.5.0",
      "model_name": "DescriptionStyleModel",
      "state": {
       "_model_module": "@jupyter-widgets/controls",
       "_model_module_version": "1.5.0",
       "_model_name": "DescriptionStyleModel",
       "_view_count": null,
       "_view_module": "@jupyter-widgets/base",
       "_view_module_version": "1.2.0",
       "_view_name": "StyleView",
       "description_width": ""
      }
     },
     "86659250c4c44af980d6f5f9ae160db3": {
      "model_module": "@jupyter-widgets/base",
      "model_module_version": "1.2.0",
      "model_name": "LayoutModel",
      "state": {
       "_model_module": "@jupyter-widgets/base",
       "_model_module_version": "1.2.0",
       "_model_name": "LayoutModel",
       "_view_count": null,
       "_view_module": "@jupyter-widgets/base",
       "_view_module_version": "1.2.0",
       "_view_name": "LayoutView",
       "align_content": null,
       "align_items": null,
       "align_self": null,
       "border": null,
       "bottom": null,
       "display": null,
       "flex": null,
       "flex_flow": null,
       "grid_area": null,
       "grid_auto_columns": null,
       "grid_auto_flow": null,
       "grid_auto_rows": null,
       "grid_column": null,
       "grid_gap": null,
       "grid_row": null,
       "grid_template_areas": null,
       "grid_template_columns": null,
       "grid_template_rows": null,
       "height": null,
       "justify_content": null,
       "justify_items": null,
       "left": null,
       "margin": null,
       "max_height": null,
       "max_width": null,
       "min_height": null,
       "min_width": null,
       "object_fit": null,
       "object_position": null,
       "order": null,
       "overflow": null,
       "overflow_x": null,
       "overflow_y": null,
       "padding": null,
       "right": null,
       "top": null,
       "visibility": null,
       "width": null
      }
     },
     "8706456180e44d9490487cea017ac1f7": {
      "model_module": "@jupyter-widgets/base",
      "model_module_version": "1.2.0",
      "model_name": "LayoutModel",
      "state": {
       "_model_module": "@jupyter-widgets/base",
       "_model_module_version": "1.2.0",
       "_model_name": "LayoutModel",
       "_view_count": null,
       "_view_module": "@jupyter-widgets/base",
       "_view_module_version": "1.2.0",
       "_view_name": "LayoutView",
       "align_content": null,
       "align_items": null,
       "align_self": null,
       "border": null,
       "bottom": null,
       "display": null,
       "flex": null,
       "flex_flow": null,
       "grid_area": null,
       "grid_auto_columns": null,
       "grid_auto_flow": null,
       "grid_auto_rows": null,
       "grid_column": null,
       "grid_gap": null,
       "grid_row": null,
       "grid_template_areas": null,
       "grid_template_columns": null,
       "grid_template_rows": null,
       "height": null,
       "justify_content": null,
       "justify_items": null,
       "left": null,
       "margin": null,
       "max_height": null,
       "max_width": null,
       "min_height": null,
       "min_width": null,
       "object_fit": null,
       "object_position": null,
       "order": null,
       "overflow": null,
       "overflow_x": null,
       "overflow_y": null,
       "padding": null,
       "right": null,
       "top": null,
       "visibility": null,
       "width": null
      }
     },
     "8a92435092894f8d8f577b29297a31e3": {
      "model_module": "@jupyter-widgets/controls",
      "model_module_version": "1.5.0",
      "model_name": "HTMLModel",
      "state": {
       "_dom_classes": [],
       "_model_module": "@jupyter-widgets/controls",
       "_model_module_version": "1.5.0",
       "_model_name": "HTMLModel",
       "_view_count": null,
       "_view_module": "@jupyter-widgets/controls",
       "_view_module_version": "1.5.0",
       "_view_name": "HTMLView",
       "description": "",
       "description_tooltip": null,
       "layout": "IPY_MODEL_86659250c4c44af980d6f5f9ae160db3",
       "placeholder": "​",
       "style": "IPY_MODEL_9f25f5d91cab47b7a7158de6a57ee09f",
       "value": "<ul>\n<li>(2) is it possible to disable black? - papermill - <a href=\"https://github.com/nteract/papermill/issues/534\">#534</a></li>\n<li>(2) token not working in jupyter kernelgateway - hydrogen - <a href=\"https://github.com/nteract/hydrogen/issues/2132\">#2132</a></li>\n<li>(1) Testbook fails when using pytest test-classes - testbook - <a href=\"https://github.com/nteract/testbook/issues/132\">#132</a></li>\n<li>(1) Feature Request: Configurable context path or prefix URL - commuter - <a href=\"https://github.com/nteract/commuter/issues/328\">#328</a></li>\n<li>(0) Hydrogen not working full stop (nothing happens when any command in packages &gt; hydrogen... is run) - hydrogen - <a href=\"https://github.com/nteract/hydrogen/issues/2134\">#2134</a></li>\n<li>(0) Remove dependency on portfinder - spawnteract - <a href=\"https://github.com/nteract/spawnteract/issues/50\">#50</a></li>\n<li>(0) lon - hydrogen - <a href=\"https://github.com/nteract/hydrogen/issues/2128\">#2128</a></li>\n<li>(0) run-cell shortcut not working in R Markdown? - hydrogen - <a href=\"https://github.com/nteract/hydrogen/issues/2127\">#2127</a></li>\n<li>(0) Hydrogen does not find Stata_kernel, although it is installed and works fine with Jupyter - hydrogen - <a href=\"https://github.com/nteract/hydrogen/issues/2126\">#2126</a></li>\n<li>(0) Input prompts don't disappear after entry - nteract - <a href=\"https://github.com/nteract/nteract/issues/5592\">#5592</a></li>\n<li>(0) Image insert and display  - hydrogen - <a href=\"https://github.com/nteract/hydrogen/issues/2125\">#2125</a></li>\n<li>(0) Hydrogen package unable to import Pandas showing ModuleNotFoundError - hydrogen - <a href=\"https://github.com/nteract/hydrogen/issues/2124\">#2124</a></li>\n<li>(0) kernel_name is set, but <code>which python</code> and <code>which pip</code> point to the wrong paths - papermill - <a href=\"https://github.com/nteract/papermill/issues/625\">#625</a></li>\n<li>(0) Monaco editor should take into consideration that the value prop changed before calling setValue - nteract - <a href=\"https://github.com/nteract/nteract/issues/5590\">#5590</a></li>\n<li>(0) Need fix for recent GCFS changes - papermill - <a href=\"https://github.com/nteract/papermill/issues/623\">#623</a></li>\n<li>(0) Testbook giving timeout error because of nbclient - testbook - <a href=\"https://github.com/nteract/testbook/issues/136\">#136</a></li>\n<li>(0) Cell status incorrectly marked busy by widget in different cell - outputs - <a href=\"https://github.com/nteract/outputs/issues/76\">#76</a></li>\n<li>(0) The batch script runs on pressing Ctrl +C - papermill - <a href=\"https://github.com/nteract/papermill/issues/635\">#635</a></li>\n<li>(0) Migrating to react-redux v7 - nteract - <a href=\"https://github.com/nteract/nteract/issues/5588\">#5588</a></li>\n<li>(0) SyntaxError: unexpected token P in JSON at position 1. - hydrogen - <a href=\"https://github.com/nteract/hydrogen/issues/2123\">#2123</a></li>\n<li>(0) Reusing dedicated, initialized kernel - papermill - <a href=\"https://github.com/nteract/papermill/issues/616\">#616</a></li>\n<li>(0) Add python 3.9 to test suite / tox - testbook - <a href=\"https://github.com/nteract/testbook/issues/121\">#121</a></li>\n<li>(0) Kernel message buffers should use Array instead of TypedArray - nteract - <a href=\"https://github.com/nteract/nteract/issues/5443\">#5443</a></li>\n<li>(0) New feature: Read input notebook from github - papermill - <a href=\"https://github.com/nteract/papermill/issues/556\">#556</a></li>\n<li>(0) scrap.Scrap as a dataclass - scrapbook - <a href=\"https://github.com/nteract/scrapbook/issues/89\">#89</a></li>\n</ul>"
      }
     },
     "8e9c14d442ef4e1db62d2e8af2fc1dde": {
      "model_module": "@jupyter-widgets/controls",
      "model_module_version": "1.5.0",
      "model_name": "TabModel",
      "state": {
       "_dom_classes": [],
       "_model_module": "@jupyter-widgets/controls",
       "_model_module_version": "1.5.0",
       "_model_name": "TabModel",
       "_titles": {
        "0": "bookstore",
        "1": "commuter",
        "2": "data-explorer",
        "3": "hydrogen",
        "4": "nteract",
        "5": "nteract.io",
        "6": "outputs",
        "7": "papermill",
        "8": "play",
        "9": "testbook"
       },
       "_view_count": null,
       "_view_module": "@jupyter-widgets/controls",
       "_view_module_version": "1.5.0",
       "_view_name": "TabView",
       "box_style": "",
       "children": [
        "IPY_MODEL_3946f2efee504229b302fb4015179521",
        "IPY_MODEL_1e8cd8b8d3dc44adbee2aa100745a61b",
        "IPY_MODEL_5b176cd149534d5caf815b0dcccf955a",
        "IPY_MODEL_3017aba75f2a48dc8bde4f7754c279ec",
        "IPY_MODEL_6f75f9094ffd4c91aa685a6f6cd3159f",
        "IPY_MODEL_6cc8497758684548a2b2c69119c4d059",
        "IPY_MODEL_da6b42bdfa774f4eac05e4dc0e7d93d8",
        "IPY_MODEL_79057d484bec4ef5bf42ee9354d5a17e",
        "IPY_MODEL_ce1977076cbc4a0e8092f68baa3865d2",
        "IPY_MODEL_e828761142904fee87534676488e3931"
       ],
       "layout": "IPY_MODEL_5cb630ce6aa240d5b5cceba8b4fa864c",
       "selected_index": 0
      }
     },
     "8ec8d3cb606241ddb9dc6e96753b5af3": {
      "model_module": "@jupyter-widgets/controls",
      "model_module_version": "1.5.0",
      "model_name": "HTMLModel",
      "state": {
       "_dom_classes": [],
       "_model_module": "@jupyter-widgets/controls",
       "_model_module_version": "1.5.0",
       "_model_name": "HTMLModel",
       "_view_count": null,
       "_view_module": "@jupyter-widgets/controls",
       "_view_module_version": "1.5.0",
       "_view_name": "HTMLView",
       "description": "",
       "description_tooltip": null,
       "layout": "IPY_MODEL_aa62c614d353468ab072865051b72d2b",
       "placeholder": "​",
       "style": "IPY_MODEL_c1c0ffe5c12f4d2390fc7eaf60edf354",
       "value": "<h5><a href=\"https://github.com/nteract/commuter\">nteract/commuter</a></h5>\n<ul>\n<li><a href=\"https://github.com/nteract/commuter/issues/328\">(#328)</a>: <em>Feature Request: Configurable context path or prefix URL</em> by <strong><a href=\"https://github.com/ricecooker\">@ricecooker</a></strong></li>\n<li><a href=\"https://github.com/nteract/commuter/issues/331\">(#331)</a>: <em>Ability to access Commuter Notebooks from Nteract UI or Jupyter Lab</em> by <strong><a href=\"https://github.com/arunhallan\">@arunhallan</a></strong></li>\n</ul>"
      }
     },
     "9257f382d9484fc4a84403aa69941105": {
      "model_module": "@jupyter-widgets/base",
      "model_module_version": "1.2.0",
      "model_name": "LayoutModel",
      "state": {
       "_model_module": "@jupyter-widgets/base",
       "_model_module_version": "1.2.0",
       "_model_name": "LayoutModel",
       "_view_count": null,
       "_view_module": "@jupyter-widgets/base",
       "_view_module_version": "1.2.0",
       "_view_name": "LayoutView",
       "align_content": null,
       "align_items": null,
       "align_self": null,
       "border": null,
       "bottom": null,
       "display": null,
       "flex": null,
       "flex_flow": null,
       "grid_area": null,
       "grid_auto_columns": null,
       "grid_auto_flow": null,
       "grid_auto_rows": null,
       "grid_column": null,
       "grid_gap": null,
       "grid_row": null,
       "grid_template_areas": null,
       "grid_template_columns": null,
       "grid_template_rows": null,
       "height": null,
       "justify_content": null,
       "justify_items": null,
       "left": null,
       "margin": null,
       "max_height": null,
       "max_width": null,
       "min_height": null,
       "min_width": null,
       "object_fit": null,
       "object_position": null,
       "order": null,
       "overflow": null,
       "overflow_x": null,
       "overflow_y": null,
       "padding": null,
       "right": null,
       "top": null,
       "visibility": null,
       "width": null
      }
     },
     "9aa4a849191847e3997d5eb74e5bf85f": {
      "model_module": "@jupyter-widgets/controls",
      "model_module_version": "1.5.0",
      "model_name": "DescriptionStyleModel",
      "state": {
       "_model_module": "@jupyter-widgets/controls",
       "_model_module_version": "1.5.0",
       "_model_name": "DescriptionStyleModel",
       "_view_count": null,
       "_view_module": "@jupyter-widgets/base",
       "_view_module_version": "1.2.0",
       "_view_name": "StyleView",
       "description_width": ""
      }
     },
     "9b88dc0bd3544133b1d88c2b287b44f5": {
      "model_module": "@jupyter-widgets/base",
      "model_module_version": "1.2.0",
      "model_name": "LayoutModel",
      "state": {
       "_model_module": "@jupyter-widgets/base",
       "_model_module_version": "1.2.0",
       "_model_name": "LayoutModel",
       "_view_count": null,
       "_view_module": "@jupyter-widgets/base",
       "_view_module_version": "1.2.0",
       "_view_name": "LayoutView",
       "align_content": null,
       "align_items": null,
       "align_self": null,
       "border": null,
       "bottom": null,
       "display": null,
       "flex": null,
       "flex_flow": null,
       "grid_area": null,
       "grid_auto_columns": null,
       "grid_auto_flow": null,
       "grid_auto_rows": null,
       "grid_column": null,
       "grid_gap": null,
       "grid_row": null,
       "grid_template_areas": null,
       "grid_template_columns": null,
       "grid_template_rows": null,
       "height": null,
       "justify_content": null,
       "justify_items": null,
       "left": null,
       "margin": null,
       "max_height": null,
       "max_width": null,
       "min_height": null,
       "min_width": null,
       "object_fit": null,
       "object_position": null,
       "order": null,
       "overflow": null,
       "overflow_x": null,
       "overflow_y": null,
       "padding": null,
       "right": null,
       "top": null,
       "visibility": null,
       "width": null
      }
     },
     "9f25f5d91cab47b7a7158de6a57ee09f": {
      "model_module": "@jupyter-widgets/controls",
      "model_module_version": "1.5.0",
      "model_name": "DescriptionStyleModel",
      "state": {
       "_model_module": "@jupyter-widgets/controls",
       "_model_module_version": "1.5.0",
       "_model_name": "DescriptionStyleModel",
       "_view_count": null,
       "_view_module": "@jupyter-widgets/base",
       "_view_module_version": "1.2.0",
       "_view_name": "StyleView",
       "description_width": ""
      }
     },
     "a30d5b5fb68e4177bf71e7b8419cfb48": {
      "model_module": "@jupyter-widgets/controls",
      "model_module_version": "1.5.0",
      "model_name": "DescriptionStyleModel",
      "state": {
       "_model_module": "@jupyter-widgets/controls",
       "_model_module_version": "1.5.0",
       "_model_name": "DescriptionStyleModel",
       "_view_count": null,
       "_view_module": "@jupyter-widgets/base",
       "_view_module_version": "1.2.0",
       "_view_name": "StyleView",
       "description_width": ""
      }
     },
     "a5ddc640cf99471e86ab4490aee80636": {
      "model_module": "@jupyter-widgets/controls",
      "model_module_version": "1.5.0",
      "model_name": "HTMLModel",
      "state": {
       "_dom_classes": [],
       "_model_module": "@jupyter-widgets/controls",
       "_model_module_version": "1.5.0",
       "_model_name": "HTMLModel",
       "_view_count": null,
       "_view_module": "@jupyter-widgets/controls",
       "_view_module_version": "1.5.0",
       "_view_name": "HTMLView",
       "description": "",
       "description_tooltip": null,
       "layout": "IPY_MODEL_53a14fd22cf049d6ab53e7c617b56ba7",
       "placeholder": "​",
       "style": "IPY_MODEL_df1ef63cdf174f2e9263f7449bb8b9fa",
       "value": "<h5><a href=\"https://github.com/nteract/play\">nteract/play</a></h5>"
      }
     },
     "a750276188364f0fbe5bf18d964cc634": {
      "model_module": "@jupyter-widgets/base",
      "model_module_version": "1.2.0",
      "model_name": "LayoutModel",
      "state": {
       "_model_module": "@jupyter-widgets/base",
       "_model_module_version": "1.2.0",
       "_model_name": "LayoutModel",
       "_view_count": null,
       "_view_module": "@jupyter-widgets/base",
       "_view_module_version": "1.2.0",
       "_view_name": "LayoutView",
       "align_content": null,
       "align_items": null,
       "align_self": null,
       "border": null,
       "bottom": null,
       "display": null,
       "flex": null,
       "flex_flow": null,
       "grid_area": null,
       "grid_auto_columns": null,
       "grid_auto_flow": null,
       "grid_auto_rows": null,
       "grid_column": null,
       "grid_gap": null,
       "grid_row": null,
       "grid_template_areas": null,
       "grid_template_columns": null,
       "grid_template_rows": null,
       "height": null,
       "justify_content": null,
       "justify_items": null,
       "left": null,
       "margin": null,
       "max_height": null,
       "max_width": null,
       "min_height": null,
       "min_width": null,
       "object_fit": null,
       "object_position": null,
       "order": null,
       "overflow": null,
       "overflow_x": null,
       "overflow_y": null,
       "padding": null,
       "right": null,
       "top": null,
       "visibility": null,
       "width": null
      }
     },
     "aa5a8064b36a4771bdca26e159e84a89": {
      "model_module": "@jupyter-widgets/controls",
      "model_module_version": "1.5.0",
      "model_name": "DescriptionStyleModel",
      "state": {
       "_model_module": "@jupyter-widgets/controls",
       "_model_module_version": "1.5.0",
       "_model_name": "DescriptionStyleModel",
       "_view_count": null,
       "_view_module": "@jupyter-widgets/base",
       "_view_module_version": "1.2.0",
       "_view_name": "StyleView",
       "description_width": ""
      }
     },
     "aa62c614d353468ab072865051b72d2b": {
      "model_module": "@jupyter-widgets/base",
      "model_module_version": "1.2.0",
      "model_name": "LayoutModel",
      "state": {
       "_model_module": "@jupyter-widgets/base",
       "_model_module_version": "1.2.0",
       "_model_name": "LayoutModel",
       "_view_count": null,
       "_view_module": "@jupyter-widgets/base",
       "_view_module_version": "1.2.0",
       "_view_name": "LayoutView",
       "align_content": null,
       "align_items": null,
       "align_self": null,
       "border": null,
       "bottom": null,
       "display": null,
       "flex": null,
       "flex_flow": null,
       "grid_area": null,
       "grid_auto_columns": null,
       "grid_auto_flow": null,
       "grid_auto_rows": null,
       "grid_column": null,
       "grid_gap": null,
       "grid_row": null,
       "grid_template_areas": null,
       "grid_template_columns": null,
       "grid_template_rows": null,
       "height": null,
       "justify_content": null,
       "justify_items": null,
       "left": null,
       "margin": null,
       "max_height": null,
       "max_width": null,
       "min_height": null,
       "min_width": null,
       "object_fit": null,
       "object_position": null,
       "order": null,
       "overflow": null,
       "overflow_x": null,
       "overflow_y": null,
       "padding": null,
       "right": null,
       "top": null,
       "visibility": null,
       "width": null
      }
     },
     "bd3b459cba9c47e9a5b3c7d122140278": {
      "model_module": "@jupyter-widgets/base",
      "model_module_version": "1.2.0",
      "model_name": "LayoutModel",
      "state": {
       "_model_module": "@jupyter-widgets/base",
       "_model_module_version": "1.2.0",
       "_model_name": "LayoutModel",
       "_view_count": null,
       "_view_module": "@jupyter-widgets/base",
       "_view_module_version": "1.2.0",
       "_view_name": "LayoutView",
       "align_content": null,
       "align_items": null,
       "align_self": null,
       "border": null,
       "bottom": null,
       "display": null,
       "flex": null,
       "flex_flow": null,
       "grid_area": null,
       "grid_auto_columns": null,
       "grid_auto_flow": null,
       "grid_auto_rows": null,
       "grid_column": null,
       "grid_gap": null,
       "grid_row": null,
       "grid_template_areas": null,
       "grid_template_columns": null,
       "grid_template_rows": null,
       "height": null,
       "justify_content": null,
       "justify_items": null,
       "left": null,
       "margin": null,
       "max_height": null,
       "max_width": null,
       "min_height": null,
       "min_width": null,
       "object_fit": null,
       "object_position": null,
       "order": null,
       "overflow": null,
       "overflow_x": null,
       "overflow_y": null,
       "padding": null,
       "right": null,
       "top": null,
       "visibility": null,
       "width": null
      }
     },
     "c1c0ffe5c12f4d2390fc7eaf60edf354": {
      "model_module": "@jupyter-widgets/controls",
      "model_module_version": "1.5.0",
      "model_name": "DescriptionStyleModel",
      "state": {
       "_model_module": "@jupyter-widgets/controls",
       "_model_module_version": "1.5.0",
       "_model_name": "DescriptionStyleModel",
       "_view_count": null,
       "_view_module": "@jupyter-widgets/base",
       "_view_module_version": "1.2.0",
       "_view_name": "StyleView",
       "description_width": ""
      }
     },
     "c282b504d23d4176bac674accd1700f5": {
      "model_module": "@jupyter-widgets/base",
      "model_module_version": "1.2.0",
      "model_name": "LayoutModel",
      "state": {
       "_model_module": "@jupyter-widgets/base",
       "_model_module_version": "1.2.0",
       "_model_name": "LayoutModel",
       "_view_count": null,
       "_view_module": "@jupyter-widgets/base",
       "_view_module_version": "1.2.0",
       "_view_name": "LayoutView",
       "align_content": null,
       "align_items": null,
       "align_self": null,
       "border": null,
       "bottom": null,
       "display": null,
       "flex": null,
       "flex_flow": null,
       "grid_area": null,
       "grid_auto_columns": null,
       "grid_auto_flow": null,
       "grid_auto_rows": null,
       "grid_column": null,
       "grid_gap": null,
       "grid_row": null,
       "grid_template_areas": null,
       "grid_template_columns": null,
       "grid_template_rows": null,
       "height": null,
       "justify_content": null,
       "justify_items": null,
       "left": null,
       "margin": null,
       "max_height": null,
       "max_width": null,
       "min_height": null,
       "min_width": null,
       "object_fit": null,
       "object_position": null,
       "order": null,
       "overflow": null,
       "overflow_x": null,
       "overflow_y": null,
       "padding": null,
       "right": null,
       "top": null,
       "visibility": null,
       "width": null
      }
     },
     "c5d1b305d2cb4df58bd5fc19c9ec38e4": {
      "model_module": "@jupyter-widgets/controls",
      "model_module_version": "1.5.0",
      "model_name": "HTMLModel",
      "state": {
       "_dom_classes": [],
       "_model_module": "@jupyter-widgets/controls",
       "_model_module_version": "1.5.0",
       "_model_name": "HTMLModel",
       "_view_count": null,
       "_view_module": "@jupyter-widgets/controls",
       "_view_module_version": "1.5.0",
       "_view_name": "HTMLView",
       "description": "",
       "description_tooltip": null,
       "layout": "IPY_MODEL_d3f2c71212144cf38438010173e59c11",
       "placeholder": "​",
       "style": "IPY_MODEL_4df03f94495c4c24b112956d9b4d682c",
       "value": "<h5><a href=\"https://github.com/nteract/hydrogen\">nteract/hydrogen</a></h5>\n<ul>\n<li><a href=\"https://github.com/nteract/hydrogen/issues/2124\">(#2124)</a>: <em>Hydrogen package unable to import Pandas showing ModuleNotFoundError</em> by <strong><a href=\"https://github.com/kumarshivam89\">@kumarshivam89</a></strong></li>\n<li><a href=\"https://github.com/nteract/hydrogen/issues/2123\">(#2123)</a>: <em>SyntaxError: unexpected token P in JSON at position 1.</em> by <strong><a href=\"https://github.com/AtomicNess123\">@AtomicNess123</a></strong></li>\n<li><a href=\"https://github.com/nteract/hydrogen/issues/2132\">(#2132)</a>: <em>token not working in jupyter kernelgateway</em> by <strong><a href=\"https://github.com/jsyoo61\">@jsyoo61</a></strong></li>\n<li><a href=\"https://github.com/nteract/hydrogen/issues/2128\">(#2128)</a>: <em>lon</em> by <strong><a href=\"https://github.com/Lalpu\">@Lalpu</a></strong></li>\n</ul>"
      }
     },
     "c7c88f82637149ae962fc9a1521409a1": {
      "model_module": "@jupyter-widgets/controls",
      "model_module_version": "1.5.0",
      "model_name": "DescriptionStyleModel",
      "state": {
       "_model_module": "@jupyter-widgets/controls",
       "_model_module_version": "1.5.0",
       "_model_name": "DescriptionStyleModel",
       "_view_count": null,
       "_view_module": "@jupyter-widgets/base",
       "_view_module_version": "1.2.0",
       "_view_name": "StyleView",
       "description_width": ""
      }
     },
     "cac47a2bdf3f4b44a6aeb96c7bffe220": {
      "model_module": "@jupyter-widgets/controls",
      "model_module_version": "1.5.0",
      "model_name": "HTMLModel",
      "state": {
       "_dom_classes": [],
       "_model_module": "@jupyter-widgets/controls",
       "_model_module_version": "1.5.0",
       "_model_name": "HTMLModel",
       "_view_count": null,
       "_view_module": "@jupyter-widgets/controls",
       "_view_module_version": "1.5.0",
       "_view_name": "HTMLView",
       "description": "",
       "description_tooltip": null,
       "layout": "IPY_MODEL_4b7555e55a71402f8890e60509d40425",
       "placeholder": "​",
       "style": "IPY_MODEL_9aa4a849191847e3997d5eb74e5bf85f",
       "value": "<h5><a href=\"https://github.com/nteract/outputs\">nteract/outputs</a></h5>\n<ul>\n<li><a href=\"https://github.com/nteract/outputs/issues/76\">(#76)</a>: <em>Cell status incorrectly marked busy by widget in different cell</em> by <strong><a href=\"https://github.com/miduncan\">@miduncan</a></strong></li>\n<li><a href=\"https://github.com/nteract/outputs/issues/81\">(#81)</a>: <em>Handling uncaught promise rejects in Jupyter widgets package</em> by <strong><a href=\"https://github.com/vivek1729\">@vivek1729</a></strong></li>\n</ul>"
      }
     },
     "ce1977076cbc4a0e8092f68baa3865d2": {
      "model_module": "@jupyter-widgets/controls",
      "model_module_version": "1.5.0",
      "model_name": "HTMLModel",
      "state": {
       "_dom_classes": [],
       "_model_module": "@jupyter-widgets/controls",
       "_model_module_version": "1.5.0",
       "_model_name": "HTMLModel",
       "_view_count": null,
       "_view_module": "@jupyter-widgets/controls",
       "_view_module_version": "1.5.0",
       "_view_name": "HTMLView",
       "description": "",
       "description_tooltip": null,
       "layout": "IPY_MODEL_6530c36c5a0f4cc080c7752a3ae96e6d",
       "placeholder": "​",
       "style": "IPY_MODEL_542d452f9f5042f5959de7c909987554",
       "value": "<h5><a href=\"https://github.com/nteract/play\">nteract/play</a></h5>"
      }
     },
     "d1024a7e98ff4944885833fd3f099527": {
      "model_module": "@jupyter-widgets/controls",
      "model_module_version": "1.5.0",
      "model_name": "HTMLModel",
      "state": {
       "_dom_classes": [],
       "_model_module": "@jupyter-widgets/controls",
       "_model_module_version": "1.5.0",
       "_model_name": "HTMLModel",
       "_view_count": null,
       "_view_module": "@jupyter-widgets/controls",
       "_view_module_version": "1.5.0",
       "_view_name": "HTMLView",
       "description": "",
       "description_tooltip": null,
       "layout": "IPY_MODEL_9257f382d9484fc4a84403aa69941105",
       "placeholder": "​",
       "style": "IPY_MODEL_2744d18551704dbea76cdf2f6e0dc4ea",
       "value": "<h4>Closed PRs for repo: <a href=\"https://github.com/nteract/nteract.io\">nteract/nteract.io</a></h4>\n<h5></h5>\n<ul>\n<li><a href=\"https://github.com/nteract/nteract.io/pull/425\">(#425)</a>: <em>fix: set up github actions ci</em> by <strong><a href=\"https://github.com/captainsafia\">@captainsafia</a></strong> merged by <strong><a href=\"https://github.com/captainsafia\">@captainsafia</a></strong></li>\n<li><a href=\"https://github.com/nteract/nteract.io/pull/420\">(#420)</a>: <em>Update Slack links to point to discord</em> by <strong><a href=\"https://github.com/captainsafia\">@captainsafia</a></strong> merged by <strong><a href=\"https://github.com/captainsafia\">@captainsafia</a></strong></li>\n</ul>"
      }
     },
     "d3f2c71212144cf38438010173e59c11": {
      "model_module": "@jupyter-widgets/base",
      "model_module_version": "1.2.0",
      "model_name": "LayoutModel",
      "state": {
       "_model_module": "@jupyter-widgets/base",
       "_model_module_version": "1.2.0",
       "_model_name": "LayoutModel",
       "_view_count": null,
       "_view_module": "@jupyter-widgets/base",
       "_view_module_version": "1.2.0",
       "_view_name": "LayoutView",
       "align_content": null,
       "align_items": null,
       "align_self": null,
       "border": null,
       "bottom": null,
       "display": null,
       "flex": null,
       "flex_flow": null,
       "grid_area": null,
       "grid_auto_columns": null,
       "grid_auto_flow": null,
       "grid_auto_rows": null,
       "grid_column": null,
       "grid_gap": null,
       "grid_row": null,
       "grid_template_areas": null,
       "grid_template_columns": null,
       "grid_template_rows": null,
       "height": null,
       "justify_content": null,
       "justify_items": null,
       "left": null,
       "margin": null,
       "max_height": null,
       "max_width": null,
       "min_height": null,
       "min_width": null,
       "object_fit": null,
       "object_position": null,
       "order": null,
       "overflow": null,
       "overflow_x": null,
       "overflow_y": null,
       "padding": null,
       "right": null,
       "top": null,
       "visibility": null,
       "width": null
      }
     },
     "d7451eebde744eedb3e89585714262d6": {
      "model_module": "@jupyter-widgets/base",
      "model_module_version": "1.2.0",
      "model_name": "LayoutModel",
      "state": {
       "_model_module": "@jupyter-widgets/base",
       "_model_module_version": "1.2.0",
       "_model_name": "LayoutModel",
       "_view_count": null,
       "_view_module": "@jupyter-widgets/base",
       "_view_module_version": "1.2.0",
       "_view_name": "LayoutView",
       "align_content": null,
       "align_items": null,
       "align_self": null,
       "border": null,
       "bottom": null,
       "display": null,
       "flex": null,
       "flex_flow": null,
       "grid_area": null,
       "grid_auto_columns": null,
       "grid_auto_flow": null,
       "grid_auto_rows": null,
       "grid_column": null,
       "grid_gap": null,
       "grid_row": null,
       "grid_template_areas": null,
       "grid_template_columns": null,
       "grid_template_rows": null,
       "height": null,
       "justify_content": null,
       "justify_items": null,
       "left": null,
       "margin": null,
       "max_height": null,
       "max_width": null,
       "min_height": null,
       "min_width": null,
       "object_fit": null,
       "object_position": null,
       "order": null,
       "overflow": null,
       "overflow_x": null,
       "overflow_y": null,
       "padding": null,
       "right": null,
       "top": null,
       "visibility": null,
       "width": null
      }
     },
     "d7fa39749ce84c42a57c30f30a4919af": {
      "model_module": "@jupyter-widgets/controls",
      "model_module_version": "1.5.0",
      "model_name": "DescriptionStyleModel",
      "state": {
       "_model_module": "@jupyter-widgets/controls",
       "_model_module_version": "1.5.0",
       "_model_name": "DescriptionStyleModel",
       "_view_count": null,
       "_view_module": "@jupyter-widgets/base",
       "_view_module_version": "1.2.0",
       "_view_name": "StyleView",
       "description_width": ""
      }
     },
     "d8bc9d35587f4243bec771ab521c2d83": {
      "model_module": "@jupyter-widgets/base",
      "model_module_version": "1.2.0",
      "model_name": "LayoutModel",
      "state": {
       "_model_module": "@jupyter-widgets/base",
       "_model_module_version": "1.2.0",
       "_model_name": "LayoutModel",
       "_view_count": null,
       "_view_module": "@jupyter-widgets/base",
       "_view_module_version": "1.2.0",
       "_view_name": "LayoutView",
       "align_content": null,
       "align_items": null,
       "align_self": null,
       "border": null,
       "bottom": null,
       "display": null,
       "flex": null,
       "flex_flow": null,
       "grid_area": null,
       "grid_auto_columns": null,
       "grid_auto_flow": null,
       "grid_auto_rows": null,
       "grid_column": null,
       "grid_gap": null,
       "grid_row": null,
       "grid_template_areas": null,
       "grid_template_columns": null,
       "grid_template_rows": null,
       "height": null,
       "justify_content": null,
       "justify_items": null,
       "left": null,
       "margin": null,
       "max_height": null,
       "max_width": null,
       "min_height": null,
       "min_width": null,
       "object_fit": null,
       "object_position": null,
       "order": null,
       "overflow": null,
       "overflow_x": null,
       "overflow_y": null,
       "padding": null,
       "right": null,
       "top": null,
       "visibility": null,
       "width": null
      }
     },
     "d98bbb9831654791961b0ba250cf2b9c": {
      "model_module": "@jupyter-widgets/controls",
      "model_module_version": "1.5.0",
      "model_name": "HTMLModel",
      "state": {
       "_dom_classes": [],
       "_model_module": "@jupyter-widgets/controls",
       "_model_module_version": "1.5.0",
       "_model_name": "HTMLModel",
       "_view_count": null,
       "_view_module": "@jupyter-widgets/controls",
       "_view_module_version": "1.5.0",
       "_view_name": "HTMLView",
       "description": "",
       "description_tooltip": null,
       "layout": "IPY_MODEL_7f23e5d99cd64246860cefb0a2b5f888",
       "placeholder": "​",
       "style": "IPY_MODEL_4184786a75b943efa33477660700320c",
       "value": "<h5><a href=\"https://github.com/nteract/nteract.io\">nteract/nteract.io</a></h5>"
      }
     },
     "da6b42bdfa774f4eac05e4dc0e7d93d8": {
      "model_module": "@jupyter-widgets/controls",
      "model_module_version": "1.5.0",
      "model_name": "HTMLModel",
      "state": {
       "_dom_classes": [],
       "_model_module": "@jupyter-widgets/controls",
       "_model_module_version": "1.5.0",
       "_model_name": "HTMLModel",
       "_view_count": null,
       "_view_module": "@jupyter-widgets/controls",
       "_view_module_version": "1.5.0",
       "_view_name": "HTMLView",
       "description": "",
       "description_tooltip": null,
       "layout": "IPY_MODEL_d7451eebde744eedb3e89585714262d6",
       "placeholder": "​",
       "style": "IPY_MODEL_45d458fe5be3495abdd19ec130b6522e",
       "value": "<h5><a href=\"https://github.com/nteract/outputs\">nteract/outputs</a></h5>\n<ul>\n<li><a href=\"https://github.com/nteract/outputs/issues/76\">(#76)</a>: <em>Cell status incorrectly marked busy by widget in different cell</em> by <strong><a href=\"https://github.com/miduncan\">@miduncan</a></strong></li>\n<li><a href=\"https://github.com/nteract/outputs/issues/81\">(#81)</a>: <em>Handling uncaught promise rejects in Jupyter widgets package</em> by <strong><a href=\"https://github.com/vivek1729\">@vivek1729</a></strong></li>\n</ul>"
      }
     },
     "df1ef63cdf174f2e9263f7449bb8b9fa": {
      "model_module": "@jupyter-widgets/controls",
      "model_module_version": "1.5.0",
      "model_name": "DescriptionStyleModel",
      "state": {
       "_model_module": "@jupyter-widgets/controls",
       "_model_module_version": "1.5.0",
       "_model_name": "DescriptionStyleModel",
       "_view_count": null,
       "_view_module": "@jupyter-widgets/base",
       "_view_module_version": "1.2.0",
       "_view_name": "StyleView",
       "description_width": ""
      }
     },
     "dfe7580014514881adba683b2069369d": {
      "model_module": "@jupyter-widgets/controls",
      "model_module_version": "1.5.0",
      "model_name": "DescriptionStyleModel",
      "state": {
       "_model_module": "@jupyter-widgets/controls",
       "_model_module_version": "1.5.0",
       "_model_name": "DescriptionStyleModel",
       "_view_count": null,
       "_view_module": "@jupyter-widgets/base",
       "_view_module_version": "1.2.0",
       "_view_name": "StyleView",
       "description_width": ""
      }
     },
     "e1fb4d34e8e148b1afa1988ea5f9c26b": {
      "model_module": "@jupyter-widgets/base",
      "model_module_version": "1.2.0",
      "model_name": "LayoutModel",
      "state": {
       "_model_module": "@jupyter-widgets/base",
       "_model_module_version": "1.2.0",
       "_model_name": "LayoutModel",
       "_view_count": null,
       "_view_module": "@jupyter-widgets/base",
       "_view_module_version": "1.2.0",
       "_view_name": "LayoutView",
       "align_content": null,
       "align_items": null,
       "align_self": null,
       "border": null,
       "bottom": null,
       "display": null,
       "flex": null,
       "flex_flow": null,
       "grid_area": null,
       "grid_auto_columns": null,
       "grid_auto_flow": null,
       "grid_auto_rows": null,
       "grid_column": null,
       "grid_gap": null,
       "grid_row": null,
       "grid_template_areas": null,
       "grid_template_columns": null,
       "grid_template_rows": null,
       "height": null,
       "justify_content": null,
       "justify_items": null,
       "left": null,
       "margin": null,
       "max_height": null,
       "max_width": null,
       "min_height": null,
       "min_width": null,
       "object_fit": null,
       "object_position": null,
       "order": null,
       "overflow": null,
       "overflow_x": null,
       "overflow_y": null,
       "padding": null,
       "right": null,
       "top": null,
       "visibility": null,
       "width": null
      }
     },
     "e2953d36ee7d4f24b18aed76ee5466c1": {
      "model_module": "@jupyter-widgets/controls",
      "model_module_version": "1.5.0",
      "model_name": "DescriptionStyleModel",
      "state": {
       "_model_module": "@jupyter-widgets/controls",
       "_model_module_version": "1.5.0",
       "_model_name": "DescriptionStyleModel",
       "_view_count": null,
       "_view_module": "@jupyter-widgets/base",
       "_view_module_version": "1.2.0",
       "_view_name": "StyleView",
       "description_width": ""
      }
     },
     "e36e9f2a52e1428c912675080aa393af": {
      "model_module": "@jupyter-widgets/controls",
      "model_module_version": "1.5.0",
      "model_name": "DescriptionStyleModel",
      "state": {
       "_model_module": "@jupyter-widgets/controls",
       "_model_module_version": "1.5.0",
       "_model_name": "DescriptionStyleModel",
       "_view_count": null,
       "_view_module": "@jupyter-widgets/base",
       "_view_module_version": "1.2.0",
       "_view_name": "StyleView",
       "description_width": ""
      }
     },
     "e828761142904fee87534676488e3931": {
      "model_module": "@jupyter-widgets/controls",
      "model_module_version": "1.5.0",
      "model_name": "HTMLModel",
      "state": {
       "_dom_classes": [],
       "_model_module": "@jupyter-widgets/controls",
       "_model_module_version": "1.5.0",
       "_model_name": "HTMLModel",
       "_view_count": null,
       "_view_module": "@jupyter-widgets/controls",
       "_view_module_version": "1.5.0",
       "_view_name": "HTMLView",
       "description": "",
       "description_tooltip": null,
       "layout": "IPY_MODEL_fb23da1c4b80485db45b64a9980dc742",
       "placeholder": "​",
       "style": "IPY_MODEL_3ba7808ec699465cb55343e215f6f386",
       "value": "<h5><a href=\"https://github.com/nteract/testbook\">nteract/testbook</a></h5>\n<ul>\n<li><a href=\"https://github.com/nteract/testbook/issues/133\">(#133)</a>: <em>Support for objects as return_value when patching</em> by <strong><a href=\"https://github.com/laserprec\">@laserprec</a></strong></li>\n<li><a href=\"https://github.com/nteract/testbook/issues/121\">(#121)</a>: <em>Add python 3.9 to test suite / tox</em> by <strong><a href=\"https://github.com/MSeal\">@MSeal</a></strong></li>\n</ul>"
      }
     },
     "e96154b4ccde49b2b1a7e6458e5c648f": {
      "model_module": "@jupyter-widgets/base",
      "model_module_version": "1.2.0",
      "model_name": "LayoutModel",
      "state": {
       "_model_module": "@jupyter-widgets/base",
       "_model_module_version": "1.2.0",
       "_model_name": "LayoutModel",
       "_view_count": null,
       "_view_module": "@jupyter-widgets/base",
       "_view_module_version": "1.2.0",
       "_view_name": "LayoutView",
       "align_content": null,
       "align_items": null,
       "align_self": null,
       "border": null,
       "bottom": null,
       "display": null,
       "flex": null,
       "flex_flow": null,
       "grid_area": null,
       "grid_auto_columns": null,
       "grid_auto_flow": null,
       "grid_auto_rows": null,
       "grid_column": null,
       "grid_gap": null,
       "grid_row": null,
       "grid_template_areas": null,
       "grid_template_columns": null,
       "grid_template_rows": null,
       "height": null,
       "justify_content": null,
       "justify_items": null,
       "left": null,
       "margin": null,
       "max_height": null,
       "max_width": null,
       "min_height": null,
       "min_width": null,
       "object_fit": null,
       "object_position": null,
       "order": null,
       "overflow": null,
       "overflow_x": null,
       "overflow_y": null,
       "padding": null,
       "right": null,
       "top": null,
       "visibility": null,
       "width": null
      }
     },
     "ed8d48204d7244f5a81bf637e451dcd5": {
      "model_module": "@jupyter-widgets/base",
      "model_module_version": "1.2.0",
      "model_name": "LayoutModel",
      "state": {
       "_model_module": "@jupyter-widgets/base",
       "_model_module_version": "1.2.0",
       "_model_name": "LayoutModel",
       "_view_count": null,
       "_view_module": "@jupyter-widgets/base",
       "_view_module_version": "1.2.0",
       "_view_name": "LayoutView",
       "align_content": null,
       "align_items": null,
       "align_self": null,
       "border": null,
       "bottom": null,
       "display": null,
       "flex": null,
       "flex_flow": null,
       "grid_area": null,
       "grid_auto_columns": null,
       "grid_auto_flow": null,
       "grid_auto_rows": null,
       "grid_column": null,
       "grid_gap": null,
       "grid_row": null,
       "grid_template_areas": null,
       "grid_template_columns": null,
       "grid_template_rows": null,
       "height": null,
       "justify_content": null,
       "justify_items": null,
       "left": null,
       "margin": null,
       "max_height": null,
       "max_width": null,
       "min_height": null,
       "min_width": null,
       "object_fit": null,
       "object_position": null,
       "order": null,
       "overflow": null,
       "overflow_x": null,
       "overflow_y": null,
       "padding": null,
       "right": null,
       "top": null,
       "visibility": null,
       "width": null
      }
     },
     "ed98d22365c847d19a4bac8eb4c1d894": {
      "model_module": "@jupyter-widgets/controls",
      "model_module_version": "1.5.0",
      "model_name": "DescriptionStyleModel",
      "state": {
       "_model_module": "@jupyter-widgets/controls",
       "_model_module_version": "1.5.0",
       "_model_name": "DescriptionStyleModel",
       "_view_count": null,
       "_view_module": "@jupyter-widgets/base",
       "_view_module_version": "1.2.0",
       "_view_name": "StyleView",
       "description_width": ""
      }
     },
     "f16ddb70b7b94708b6235ea9a5704676": {
      "model_module": "@jupyter-widgets/base",
      "model_module_version": "1.2.0",
      "model_name": "LayoutModel",
      "state": {
       "_model_module": "@jupyter-widgets/base",
       "_model_module_version": "1.2.0",
       "_model_name": "LayoutModel",
       "_view_count": null,
       "_view_module": "@jupyter-widgets/base",
       "_view_module_version": "1.2.0",
       "_view_name": "LayoutView",
       "align_content": null,
       "align_items": null,
       "align_self": null,
       "border": null,
       "bottom": null,
       "display": null,
       "flex": null,
       "flex_flow": null,
       "grid_area": null,
       "grid_auto_columns": null,
       "grid_auto_flow": null,
       "grid_auto_rows": null,
       "grid_column": null,
       "grid_gap": null,
       "grid_row": null,
       "grid_template_areas": null,
       "grid_template_columns": null,
       "grid_template_rows": null,
       "height": null,
       "justify_content": null,
       "justify_items": null,
       "left": null,
       "margin": null,
       "max_height": null,
       "max_width": null,
       "min_height": null,
       "min_width": null,
       "object_fit": null,
       "object_position": null,
       "order": null,
       "overflow": null,
       "overflow_x": null,
       "overflow_y": null,
       "padding": null,
       "right": null,
       "top": null,
       "visibility": null,
       "width": null
      }
     },
     "f4d76832871a4b4ca79e83adb7911cf1": {
      "model_module": "@jupyter-widgets/controls",
      "model_module_version": "1.5.0",
      "model_name": "HTMLModel",
      "state": {
       "_dom_classes": [],
       "_model_module": "@jupyter-widgets/controls",
       "_model_module_version": "1.5.0",
       "_model_name": "HTMLModel",
       "_view_count": null,
       "_view_module": "@jupyter-widgets/controls",
       "_view_module_version": "1.5.0",
       "_view_name": "HTMLView",
       "description": "",
       "description_tooltip": null,
       "layout": "IPY_MODEL_f16ddb70b7b94708b6235ea9a5704676",
       "placeholder": "​",
       "style": "IPY_MODEL_f706b2dca26a422dbc32ab9f888b13f3",
       "value": "<h4>Closed PRs for repo: <a href=\"https://github.com/nteract/outputs\">nteract/outputs</a></h4>\n<h5></h5>\n<ul>\n<li><a href=\"https://github.com/nteract/outputs/pull/88\">(#88)</a>: <em>Removed updateCellStatus from widgets</em> by <strong><a href=\"https://github.com/miduncan\">@miduncan</a></strong> merged by <strong><a href=\"https://github.com/captainsafia\">@captainsafia</a></strong></li>\n<li><a href=\"https://github.com/nteract/outputs/pull/87\">(#87)</a>: <em>fix: import phosphor.css to fix build error</em> by <strong><a href=\"https://github.com/bryanchen-d\">@bryanchen-d</a></strong> merged by <strong><a href=\"https://github.com/captainsafia\">@captainsafia</a></strong></li>\n<li><a href=\"https://github.com/nteract/outputs/pull/83\">(#83)</a>: <em>fix: bump verion of @jupyter-widget to address vulnerability bugs</em> by <strong><a href=\"https://github.com/bryanchen-d\">@bryanchen-d</a></strong> merged by <strong><a href=\"https://github.com/captainsafia\">@captainsafia</a></strong></li>\n<li><a href=\"https://github.com/nteract/outputs/pull/82\">(#82)</a>: <em>fix: bump react-redux to v7.2.0</em> by <strong><a href=\"https://github.com/captainsafia\">@captainsafia</a></strong> merged by <strong><a href=\"https://github.com/captainsafia\">@captainsafia</a></strong></li>\n<li><a href=\"https://github.com/nteract/outputs/pull/79\">(#79)</a>: <em>chore: bump plotly.js to v2.4.2</em> by <strong><a href=\"https://github.com/archmoj\">@archmoj</a></strong> merged by <strong><a href=\"https://github.com/captainsafia\">@captainsafia</a></strong></li>\n</ul>"
      }
     },
     "f706b2dca26a422dbc32ab9f888b13f3": {
      "model_module": "@jupyter-widgets/controls",
      "model_module_version": "1.5.0",
      "model_name": "DescriptionStyleModel",
      "state": {
       "_model_module": "@jupyter-widgets/controls",
       "_model_module_version": "1.5.0",
       "_model_name": "DescriptionStyleModel",
       "_view_count": null,
       "_view_module": "@jupyter-widgets/base",
       "_view_module_version": "1.2.0",
       "_view_name": "StyleView",
       "description_width": ""
      }
     },
     "f8f9b6ef50404525bd9789f024070da1": {
      "model_module": "@jupyter-widgets/controls",
      "model_module_version": "1.5.0",
      "model_name": "HTMLModel",
      "state": {
       "_dom_classes": [],
       "_model_module": "@jupyter-widgets/controls",
       "_model_module_version": "1.5.0",
       "_model_name": "HTMLModel",
       "_view_count": null,
       "_view_module": "@jupyter-widgets/controls",
       "_view_module_version": "1.5.0",
       "_view_name": "HTMLView",
       "description": "",
       "description_tooltip": null,
       "layout": "IPY_MODEL_bd3b459cba9c47e9a5b3c7d122140278",
       "placeholder": "​",
       "style": "IPY_MODEL_41e0362eced947d280b9a16f1850bdf7",
       "value": "<h4>Closed PRs for repo: <a href=\"https://github.com/nteract/papermill\">nteract/papermill</a></h4>\n<h5></h5>\n<ul>\n<li><a href=\"https://github.com/nteract/papermill/pull/636\">(#636)</a>: <em>Update README.md</em> by <strong><a href=\"https://github.com/amin-nejad\">@amin-nejad</a></strong> merged by <strong><a href=\"https://github.com/MSeal\">@MSeal</a></strong></li>\n<li><a href=\"https://github.com/nteract/papermill/pull/631\">(#631)</a>: <em>Black as an optional deps</em> by <strong><a href=\"https://github.com/tanguycdls\">@tanguycdls</a></strong> merged by <strong><a href=\"https://github.com/MSeal\">@MSeal</a></strong></li>\n<li><a href=\"https://github.com/nteract/papermill/pull/629\">(#629)</a>: <em>Bugfix/pickle errors</em> by <strong><a href=\"https://github.com/Calder-Ty\">@Calder-Ty</a></strong> merged by <strong><a href=\"https://github.com/MSeal\">@MSeal</a></strong></li>\n<li><a href=\"https://github.com/nteract/papermill/pull/627\">(#627)</a>: <em>Remove templates from docs</em> by <strong><a href=\"https://github.com/choldgraf\">@choldgraf</a></strong> merged by <strong><a href=\"https://github.com/MSeal\">@MSeal</a></strong></li>\n<li><a href=\"https://github.com/nteract/papermill/pull/624\">(#624)</a>: <em>Support new version of gcsfs</em> by <strong><a href=\"https://github.com/onevirus\">@onevirus</a></strong> merged by <strong><a href=\"https://github.com/MSeal\">@MSeal</a></strong></li>\n<li><a href=\"https://github.com/nteract/papermill/pull/622\">(#622)</a>: <em>Read notebook from github</em> by <strong><a href=\"https://github.com/onevirus\">@onevirus</a></strong> merged by <strong><a href=\"https://github.com/MSeal\">@MSeal</a></strong></li>\n<li><a href=\"https://github.com/nteract/papermill/pull/620\">(#620)</a>: <em>fix indents</em> by <strong><a href=\"https://github.com/willingc\">@willingc</a></strong> merged by <strong><a href=\"https://github.com/willingc\">@willingc</a></strong></li>\n</ul>"
      }
     },
     "fb23da1c4b80485db45b64a9980dc742": {
      "model_module": "@jupyter-widgets/base",
      "model_module_version": "1.2.0",
      "model_name": "LayoutModel",
      "state": {
       "_model_module": "@jupyter-widgets/base",
       "_model_module_version": "1.2.0",
       "_model_name": "LayoutModel",
       "_view_count": null,
       "_view_module": "@jupyter-widgets/base",
       "_view_module_version": "1.2.0",
       "_view_name": "LayoutView",
       "align_content": null,
       "align_items": null,
       "align_self": null,
       "border": null,
       "bottom": null,
       "display": null,
       "flex": null,
       "flex_flow": null,
       "grid_area": null,
       "grid_auto_columns": null,
       "grid_auto_flow": null,
       "grid_auto_rows": null,
       "grid_column": null,
       "grid_gap": null,
       "grid_row": null,
       "grid_template_areas": null,
       "grid_template_columns": null,
       "grid_template_rows": null,
       "height": null,
       "justify_content": null,
       "justify_items": null,
       "left": null,
       "margin": null,
       "max_height": null,
       "max_width": null,
       "min_height": null,
       "min_width": null,
       "object_fit": null,
       "object_position": null,
       "order": null,
       "overflow": null,
       "overflow_x": null,
       "overflow_y": null,
       "padding": null,
       "right": null,
       "top": null,
       "visibility": null,
       "width": null
      }
     }
    },
    "version_major": 2,
    "version_minor": 0
   }
  }
 },
 "nbformat": 4,
 "nbformat_minor": 5
}