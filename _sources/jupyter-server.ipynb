{
 "cells": [
  {
   "cell_type": "markdown",
   "id": "76396857",
   "metadata": {
    "papermill": {
     "duration": 0.015998,
     "end_time": "2025-05-19T01:31:12.587293",
     "exception": false,
     "start_time": "2025-05-19T01:31:12.571295",
     "status": "completed"
    },
    "tags": []
   },
   "source": [
    "# {glue:text}`jupyter-server_github_org`\n",
    "\n",
    "**Activity from {glue:}`jupyter-server_start` to {glue:}`jupyter-server_stop`**"
   ]
  },
  {
   "cell_type": "code",
   "execution_count": 1,
   "id": "9683ca84",
   "metadata": {
    "editable": true,
    "execution": {
     "iopub.execute_input": "2025-05-19T01:31:12.619007Z",
     "iopub.status.busy": "2025-05-19T01:31:12.618430Z",
     "iopub.status.idle": "2025-05-19T01:31:13.480118Z",
     "shell.execute_reply": "2025-05-19T01:31:13.479348Z"
    },
    "papermill": {
     "duration": 0.879349,
     "end_time": "2025-05-19T01:31:13.481664",
     "exception": false,
     "start_time": "2025-05-19T01:31:12.602315",
     "status": "completed"
    },
    "slideshow": {
     "slide_type": ""
    },
    "tags": [
     "remove_cell"
    ]
   },
   "outputs": [],
   "source": [
    "from datetime import date\n",
    "from dateutil.relativedelta import relativedelta\n",
    "from myst_nb import glue\n",
    "import seaborn as sns\n",
    "import pandas as pd\n",
    "import numpy as np\n",
    "import altair as alt\n",
    "from markdown import markdown\n",
    "from IPython.display import Markdown\n",
    "from ipywidgets.widgets import HTML, Tab\n",
    "from ipywidgets import widgets\n",
    "from datetime import timedelta\n",
    "from matplotlib import pyplot as plt\n",
    "import os.path as op\n",
    "from json import loads\n",
    "\n",
    "from warnings import simplefilter\n",
    "simplefilter('ignore')\n",
    "pd.set_option('display.max_columns', None) # 'None' means show all"
   ]
  },
  {
   "cell_type": "code",
   "execution_count": 2,
   "id": "57b4e52a",
   "metadata": {
    "editable": true,
    "execution": {
     "iopub.execute_input": "2025-05-19T01:31:13.513568Z",
     "iopub.status.busy": "2025-05-19T01:31:13.512956Z",
     "iopub.status.idle": "2025-05-19T01:31:13.520594Z",
     "shell.execute_reply": "2025-05-19T01:31:13.520022Z"
    },
    "papermill": {
     "duration": 0.024726,
     "end_time": "2025-05-19T01:31:13.521628",
     "exception": false,
     "start_time": "2025-05-19T01:31:13.496902",
     "status": "completed"
    },
    "slideshow": {
     "slide_type": ""
    },
    "tags": [
     "remove_cell"
    ]
   },
   "outputs": [],
   "source": [
    "# Altair config\n",
    "def author_url(author):\n",
    "    return f\"https://github.com/{author}\"\n",
    "\n",
    "def alt_theme():\n",
    "    return {\n",
    "        'config': {\n",
    "            'axisLeft': {\n",
    "                'labelFontSize': 15,\n",
    "            },\n",
    "            'axisBottom': {\n",
    "                'labelFontSize': 15,\n",
    "            },\n",
    "        }\n",
    "    }\n",
    "\n",
    "alt.themes.register('my_theme', alt_theme)\n",
    "alt.themes.enable(\"my_theme\")\n",
    "\n",
    "\n",
    "# Define colors we'll use for GitHub membership\n",
    "author_types = ['MEMBER', 'CONTRIBUTOR', 'COLLABORATOR', \"NONE\"]\n",
    "\n",
    "author_palette = np.array(sns.palettes.blend_palette([\"lightgrey\", \"lightgreen\", \"darkgreen\"], 4)) * 256\n",
    "author_colors = [\"rgb({}, {}, {})\".format(*color) for color in author_palette]\n",
    "author_color_dict = {key: val for key, val in zip(author_types, author_palette)}"
   ]
  },
  {
   "cell_type": "code",
   "execution_count": 3,
   "id": "5ccbc4cb",
   "metadata": {
    "editable": true,
    "execution": {
     "iopub.execute_input": "2025-05-19T01:31:13.551492Z",
     "iopub.status.busy": "2025-05-19T01:31:13.550992Z",
     "iopub.status.idle": "2025-05-19T01:31:13.554321Z",
     "shell.execute_reply": "2025-05-19T01:31:13.553774Z"
    },
    "papermill": {
     "duration": 0.019478,
     "end_time": "2025-05-19T01:31:13.555432",
     "exception": false,
     "start_time": "2025-05-19T01:31:13.535954",
     "status": "completed"
    },
    "slideshow": {
     "slide_type": ""
    },
    "tags": [
     "parameters",
     "hide_input",
     "remove_cell"
    ]
   },
   "outputs": [],
   "source": [
    "github_org = \"jupyterhub\"\n",
    "top_n_repos = 15\n",
    "n_days = 90"
   ]
  },
  {
   "cell_type": "code",
   "execution_count": 4,
   "id": "40a6f85a",
   "metadata": {
    "execution": {
     "iopub.execute_input": "2025-05-19T01:31:13.585634Z",
     "iopub.status.busy": "2025-05-19T01:31:13.585112Z",
     "iopub.status.idle": "2025-05-19T01:31:13.588483Z",
     "shell.execute_reply": "2025-05-19T01:31:13.587906Z"
    },
    "papermill": {
     "duration": 0.019814,
     "end_time": "2025-05-19T01:31:13.589573",
     "exception": false,
     "start_time": "2025-05-19T01:31:13.569759",
     "status": "completed"
    },
    "tags": [
     "injected-parameters",
     "remove-cell"
    ]
   },
   "outputs": [],
   "source": [
    "# Parameters\n",
    "github_org = \"jupyter-server\"\n",
    "n_days = 90\n"
   ]
  },
  {
   "cell_type": "code",
   "execution_count": 5,
   "id": "60926ff0",
   "metadata": {
    "editable": true,
    "execution": {
     "iopub.execute_input": "2025-05-19T01:31:13.621613Z",
     "iopub.status.busy": "2025-05-19T01:31:13.620997Z",
     "iopub.status.idle": "2025-05-19T01:31:13.644472Z",
     "shell.execute_reply": "2025-05-19T01:31:13.643881Z"
    },
    "papermill": {
     "duration": 0.040505,
     "end_time": "2025-05-19T01:31:13.645579",
     "exception": false,
     "start_time": "2025-05-19T01:31:13.605074",
     "status": "completed"
    },
    "slideshow": {
     "slide_type": ""
    },
    "tags": [
     "remove_cell"
    ]
   },
   "outputs": [
    {
     "data": {
      "application/papermill.record/text/plain": "'jupyter-server'"
     },
     "metadata": {
      "scrapbook": {
       "mime_prefix": "application/papermill.record/",
       "name": "jupyter-server_github_org"
      }
     },
     "output_type": "display_data"
    },
    {
     "data": {
      "application/papermill.record/text/plain": "'2025-02-18'"
     },
     "metadata": {
      "scrapbook": {
       "mime_prefix": "application/papermill.record/",
       "name": "jupyter-server_start"
      }
     },
     "output_type": "display_data"
    },
    {
     "data": {
      "application/papermill.record/text/plain": "'2025-05-19'"
     },
     "metadata": {
      "scrapbook": {
       "mime_prefix": "application/papermill.record/",
       "name": "jupyter-server_stop"
      }
     },
     "output_type": "display_data"
    }
   ],
   "source": [
    "############################################################\n",
    "# Variables\n",
    "stop = date.today()\n",
    "start = date.today() - relativedelta(days=n_days)\n",
    "\n",
    "# Strings for use in queries\n",
    "start_date = f\"{start:%Y-%m-%d}\"\n",
    "stop_date = f\"{stop:%Y-%m-%d}\"\n",
    "\n",
    "# Glue variables for use in markdown\n",
    "glue(f\"{github_org}_github_org\", github_org, display=False)\n",
    "glue(f\"{github_org}_start\", start_date, display=False)\n",
    "glue(f\"{github_org}_stop\", stop_date, display=False)"
   ]
  },
  {
   "cell_type": "markdown",
   "id": "a99b9ba0",
   "metadata": {
    "editable": true,
    "papermill": {
     "duration": 0.014649,
     "end_time": "2025-05-19T01:31:13.675413",
     "exception": false,
     "start_time": "2025-05-19T01:31:13.660764",
     "status": "completed"
    },
    "slideshow": {
     "slide_type": ""
    },
    "tags": []
   },
   "source": [
    "## Load data\n",
    "\n",
    "Load and clean up the data"
   ]
  },
  {
   "cell_type": "code",
   "execution_count": 6,
   "id": "1f01a3e9",
   "metadata": {
    "editable": true,
    "execution": {
     "iopub.execute_input": "2025-05-19T01:31:13.705925Z",
     "iopub.status.busy": "2025-05-19T01:31:13.705458Z",
     "iopub.status.idle": "2025-05-19T01:31:13.710151Z",
     "shell.execute_reply": "2025-05-19T01:31:13.709504Z"
    },
    "papermill": {
     "duration": 0.021283,
     "end_time": "2025-05-19T01:31:13.711215",
     "exception": false,
     "start_time": "2025-05-19T01:31:13.689932",
     "status": "completed"
    },
    "slideshow": {
     "slide_type": ""
    },
    "tags": [
     "remove_cell"
    ]
   },
   "outputs": [],
   "source": [
    "from pathlib import Path\n",
    "import sqlite3\n",
    "path_data = Path(\"../data\")\n",
    "path_data = list(path_data.rglob(f\"*{github_org}.db\"))[0]\n",
    "\n",
    "def df_from_sql(query, db):\n",
    "    con = sqlite3.connect(db)\n",
    "    return pd.read_sql(query, con)\n",
    "    con.close()"
   ]
  },
  {
   "cell_type": "code",
   "execution_count": 7,
   "id": "11052b84",
   "metadata": {
    "editable": true,
    "execution": {
     "iopub.execute_input": "2025-05-19T01:31:13.743830Z",
     "iopub.status.busy": "2025-05-19T01:31:13.743384Z",
     "iopub.status.idle": "2025-05-19T01:31:14.004968Z",
     "shell.execute_reply": "2025-05-19T01:31:14.004381Z"
    },
    "papermill": {
     "duration": 0.279594,
     "end_time": "2025-05-19T01:31:14.006307",
     "exception": false,
     "start_time": "2025-05-19T01:31:13.726713",
     "status": "completed"
    },
    "scrolled": true,
    "slideshow": {
     "slide_type": ""
    },
    "tags": [
     "remove_cell"
    ]
   },
   "outputs": [
    {
     "name": "stdout",
     "output_type": "stream",
     "text": [
      "Loading from ../data/b0cc46e05ac6a93978539fc404bc6ea4-jupyter-server.db\n"
     ]
    }
   ],
   "source": [
    "print(f\"Loading from {path_data}\")\n",
    "repos = df_from_sql(\"SELECT * FROM repos\", path_data)\n",
    "users = df_from_sql(\"SELECT * FROM users\", path_data)\n",
    "issues = df_from_sql(\"SELECT * FROM issues\", path_data)\n",
    "comments = df_from_sql(\"SELECT * FROM issue_comments\", path_data)\n",
    "\n",
    "# Merge repository information into issues\n",
    "def merge_repo_into_df(df, kind):\n",
    "    df = pd.merge(df, users[[\"id\", \"login\"]], left_on=\"user\", right_on=\"id\", suffixes=(\"_issue\", \"_user\"), how=\"inner\")\n",
    "    df = pd.merge(df, repos[[\"id\", \"full_name\", \"name\"]], left_on=\"repo\", right_on=\"id\", suffixes=(\"_issue\", \"_repo\"), how=\"inner\")\n",
    "    df[\"org\"] = df[\"full_name\"].map(lambda a: a.split('/')[0])\n",
    "    df[\"repo\"] = df[\"full_name\"].map(lambda a: a.split('/')[1])\n",
    "    df[\"url\"] = \"https://github.com/\" + df[\"org\"] + \"/\" + df[\"repo\"] + f\"/{kind}/\" + df[\"number\"].astype(str)\n",
    "    return df\n",
    "issues = merge_repo_into_df(issues, kind=\"issues\")\n",
    "\n",
    "# Pull out the Pull Requests from Issues\n",
    "prs = issues.loc[~issues[\"pull_request\"].isna()]\n",
    "def identify_merger(closedby):\n",
    "    if not closedby:\n",
    "        return None\n",
    "    try:\n",
    "        cb = loads(closedby)\n",
    "    except:\n",
    "        print(closedby)\n",
    "    return cb[\"login\"]\n",
    "prs[\"merged_by\"] = prs[\"closed_by\"].map(identify_merger)\n",
    "\n",
    "# These issues now _remove_ the PRs\n",
    "issues = issues.loc[issues[\"pull_request\"].isna()]\n",
    "\n",
    "# Add reactions data\n",
    "def count_positive(a):\n",
    "    a = loads(a)\n",
    "    return a[\"+1\"] + a[\"hooray\"] + a[\"heart\"]\n",
    "issues[\"positive\"] = issues[\"reactions\"].map(count_positive)\n",
    "\n",
    "# Drop comments if there is no associated issue\n",
    "comments = comments.dropna(subset=[\"issue\"])\n",
    "comments[\"issue\"] = comments.loc[:, \"issue\"].astype(int)\n",
    "\n",
    "# Add repository information to comments\n",
    "comments = pd.merge(comments, issues[[\"id_issue\", \"full_name\", \"org\", \"repo\"]], left_on=\"issue\", right_on=\"id_issue\", how=\"inner\", suffixes=(\"_comment\", \"_issue\"))\n",
    "\n",
    "# Merge user data into comments\n",
    "comments = pd.merge(comments, users[[\"id\", \"login\"]], left_on=\"user\", right_on=\"id\", suffixes=(\"_comment\", \"_user\"), how=\"inner\")"
   ]
  },
  {
   "cell_type": "code",
   "execution_count": 8,
   "id": "1db33e8e",
   "metadata": {
    "editable": true,
    "execution": {
     "iopub.execute_input": "2025-05-19T01:31:14.037562Z",
     "iopub.status.busy": "2025-05-19T01:31:14.037048Z",
     "iopub.status.idle": "2025-05-19T01:31:14.066733Z",
     "shell.execute_reply": "2025-05-19T01:31:14.066011Z"
    },
    "papermill": {
     "duration": 0.046312,
     "end_time": "2025-05-19T01:31:14.067931",
     "exception": false,
     "start_time": "2025-05-19T01:31:14.021619",
     "status": "completed"
    },
    "slideshow": {
     "slide_type": ""
    },
    "tags": [
     "remove_cell"
    ]
   },
   "outputs": [],
   "source": [
    "# Convert columns to datetime\n",
    "datetime_columns = [\"created_at\", \"closed_at\"]\n",
    "for df in [comments, issues, prs]:\n",
    "    for col in datetime_columns:\n",
    "        if col in df:\n",
    "            df[col] = pd.to_datetime(df[col])\n",
    "            # Strip timezone information so we can run simpler queries\n",
    "            df[col] = df[col].dt.tz_localize(None)"
   ]
  },
  {
   "cell_type": "code",
   "execution_count": 9,
   "id": "8d5d354e",
   "metadata": {
    "editable": true,
    "execution": {
     "iopub.execute_input": "2025-05-19T01:31:14.100454Z",
     "iopub.status.busy": "2025-05-19T01:31:14.099978Z",
     "iopub.status.idle": "2025-05-19T01:31:14.111019Z",
     "shell.execute_reply": "2025-05-19T01:31:14.110356Z"
    },
    "papermill": {
     "duration": 0.028247,
     "end_time": "2025-05-19T01:31:14.112088",
     "exception": false,
     "start_time": "2025-05-19T01:31:14.083841",
     "status": "completed"
    },
    "slideshow": {
     "slide_type": ""
    },
    "tags": [
     "remove_cell"
    ]
   },
   "outputs": [],
   "source": [
    "# What are the top N repos, we will only plot these in the full data plots\n",
    "top_commented_repos = comments.groupby(\"repo\").count().sort_values(\"created_at\", ascending=False)['created_at']\n",
    "use_repos = top_commented_repos.head(top_n_repos).index.tolist()"
   ]
  },
  {
   "cell_type": "markdown",
   "id": "bc80b0ab",
   "metadata": {
    "editable": true,
    "papermill": {
     "duration": 0.014785,
     "end_time": "2025-05-19T01:31:14.142148",
     "exception": false,
     "start_time": "2025-05-19T01:31:14.127363",
     "status": "completed"
    },
    "slideshow": {
     "slide_type": ""
    },
    "tags": [],
    "toc-hr-collapsed": false
   },
   "source": [
    "## Merged Pull requests\n",
    "\n",
    "Here's an analysis of **merged pull requests** across each of the repositories in the Jupyter\n",
    "ecosystem."
   ]
  },
  {
   "cell_type": "code",
   "execution_count": 10,
   "id": "b9f31b27",
   "metadata": {
    "editable": true,
    "execution": {
     "iopub.execute_input": "2025-05-19T01:31:14.172736Z",
     "iopub.status.busy": "2025-05-19T01:31:14.172456Z",
     "iopub.status.idle": "2025-05-19T01:31:14.183921Z",
     "shell.execute_reply": "2025-05-19T01:31:14.183233Z"
    },
    "papermill": {
     "duration": 0.028328,
     "end_time": "2025-05-19T01:31:14.185109",
     "exception": false,
     "start_time": "2025-05-19T01:31:14.156781",
     "status": "completed"
    },
    "slideshow": {
     "slide_type": ""
    },
    "tags": [
     "remove_cell"
    ]
   },
   "outputs": [],
   "source": [
    "merged = prs.query('state == \"closed\" and closed_at > @start_date and closed_at < @stop_date')"
   ]
  },
  {
   "cell_type": "code",
   "execution_count": 11,
   "id": "98025a97",
   "metadata": {
    "editable": true,
    "execution": {
     "iopub.execute_input": "2025-05-19T01:31:14.218749Z",
     "iopub.status.busy": "2025-05-19T01:31:14.218224Z",
     "iopub.status.idle": "2025-05-19T01:31:14.258905Z",
     "shell.execute_reply": "2025-05-19T01:31:14.258139Z"
    },
    "papermill": {
     "duration": 0.058678,
     "end_time": "2025-05-19T01:31:14.260000",
     "exception": false,
     "start_time": "2025-05-19T01:31:14.201322",
     "status": "completed"
    },
    "slideshow": {
     "slide_type": ""
    },
    "tags": [
     "hide_input"
    ]
   },
   "outputs": [
    {
     "data": {
      "text/html": [
       "\n",
       "<style>\n",
       "  #altair-viz-51732b5e24294f0284b14c811c065cca.vega-embed {\n",
       "    width: 100%;\n",
       "    display: flex;\n",
       "  }\n",
       "\n",
       "  #altair-viz-51732b5e24294f0284b14c811c065cca.vega-embed details,\n",
       "  #altair-viz-51732b5e24294f0284b14c811c065cca.vega-embed details summary {\n",
       "    position: relative;\n",
       "  }\n",
       "</style>\n",
       "<div id=\"altair-viz-51732b5e24294f0284b14c811c065cca\"></div>\n",
       "<script type=\"text/javascript\">\n",
       "  var VEGA_DEBUG = (typeof VEGA_DEBUG == \"undefined\") ? {} : VEGA_DEBUG;\n",
       "  (function(spec, embedOpt){\n",
       "    let outputDiv = document.currentScript.previousElementSibling;\n",
       "    if (outputDiv.id !== \"altair-viz-51732b5e24294f0284b14c811c065cca\") {\n",
       "      outputDiv = document.getElementById(\"altair-viz-51732b5e24294f0284b14c811c065cca\");\n",
       "    }\n",
       "\n",
       "    const paths = {\n",
       "      \"vega\": \"https://cdn.jsdelivr.net/npm/vega@5?noext\",\n",
       "      \"vega-lib\": \"https://cdn.jsdelivr.net/npm/vega-lib?noext\",\n",
       "      \"vega-lite\": \"https://cdn.jsdelivr.net/npm/vega-lite@5.20.1?noext\",\n",
       "      \"vega-embed\": \"https://cdn.jsdelivr.net/npm/vega-embed@6?noext\",\n",
       "    };\n",
       "\n",
       "    function maybeLoadScript(lib, version) {\n",
       "      var key = `${lib.replace(\"-\", \"\")}_version`;\n",
       "      return (VEGA_DEBUG[key] == version) ?\n",
       "        Promise.resolve(paths[lib]) :\n",
       "        new Promise(function(resolve, reject) {\n",
       "          var s = document.createElement('script');\n",
       "          document.getElementsByTagName(\"head\")[0].appendChild(s);\n",
       "          s.async = true;\n",
       "          s.onload = () => {\n",
       "            VEGA_DEBUG[key] = version;\n",
       "            return resolve(paths[lib]);\n",
       "          };\n",
       "          s.onerror = () => reject(`Error loading script: ${paths[lib]}`);\n",
       "          s.src = paths[lib];\n",
       "        });\n",
       "    }\n",
       "\n",
       "    function showError(err) {\n",
       "      outputDiv.innerHTML = `<div class=\"error\" style=\"color:red;\">${err}</div>`;\n",
       "      throw err;\n",
       "    }\n",
       "\n",
       "    function displayChart(vegaEmbed) {\n",
       "      vegaEmbed(outputDiv, spec, embedOpt)\n",
       "        .catch(err => showError(`Javascript Error: ${err.message}<br>This usually means there's a typo in your chart specification. See the javascript console for the full traceback.`));\n",
       "    }\n",
       "\n",
       "    if(typeof define === \"function\" && define.amd) {\n",
       "      requirejs.config({paths});\n",
       "      let deps = [\"vega-embed\"];\n",
       "      require(deps, displayChart, err => showError(`Error loading script: ${err.message}`));\n",
       "    } else {\n",
       "      maybeLoadScript(\"vega\", \"5\")\n",
       "        .then(() => maybeLoadScript(\"vega-lite\", \"5.20.1\"))\n",
       "        .then(() => maybeLoadScript(\"vega-embed\", \"6\"))\n",
       "        .catch(showError)\n",
       "        .then(() => displayChart(vegaEmbed));\n",
       "    }\n",
       "  })({\"config\": {\"axisLeft\": {\"labelFontSize\": 15}, \"axisBottom\": {\"labelFontSize\": 15}}, \"data\": {\"name\": \"data-2c3b9b4a2b8a90bd3cfe5b279f68bef3\"}, \"mark\": {\"type\": \"bar\"}, \"encoding\": {\"color\": {\"field\": \"org\", \"type\": \"nominal\"}, \"x\": {\"field\": \"repo\", \"sort\": [\"fps\", \"jupyverse\", \"jupyter_ydoc\", \"jupyter_server\", \"jupyter-scheduler\", \"jupyter_releaser\", \"pytest-jupyter\", \"jupyter_server_terminals\"], \"type\": \"nominal\"}, \"y\": {\"field\": \"login\", \"type\": \"quantitative\"}}, \"title\": \"Merged PRs in the last 90 days\", \"$schema\": \"https://vega.github.io/schema/vega-lite/v5.20.1.json\", \"datasets\": {\"data-2c3b9b4a2b8a90bd3cfe5b279f68bef3\": [{\"org\": \"jupyter-server\", \"repo\": \"fps\", \"login\": 26}, {\"org\": \"jupyter-server\", \"repo\": \"jupyverse\", \"login\": 26}, {\"org\": \"jupyter-server\", \"repo\": \"jupyter_ydoc\", \"login\": 14}, {\"org\": \"jupyter-server\", \"repo\": \"jupyter_server\", \"login\": 11}, {\"org\": \"jupyter-server\", \"repo\": \"jupyter-scheduler\", \"login\": 5}, {\"org\": \"jupyter-server\", \"repo\": \"jupyter_releaser\", \"login\": 5}, {\"org\": \"jupyter-server\", \"repo\": \"pytest-jupyter\", \"login\": 2}, {\"org\": \"jupyter-server\", \"repo\": \"jupyter_server_terminals\", \"login\": 1}]}}, {\"mode\": \"vega-lite\"});\n",
       "</script>"
      ],
      "text/plain": [
       "alt.Chart(...)"
      ]
     },
     "execution_count": 11,
     "metadata": {},
     "output_type": "execute_result"
    }
   ],
   "source": [
    "prs_by_repo = merged.groupby(['org', 'repo']).count()['login'].reset_index().sort_values(['org', 'login'], ascending=False)\n",
    "alt.Chart(data=prs_by_repo, title=f\"Merged PRs in the last {n_days} days\").mark_bar().encode(\n",
    "    x=alt.X('repo', sort=prs_by_repo['repo'].values.tolist()),\n",
    "    y='login',\n",
    "    color='org'\n",
    ")"
   ]
  },
  {
   "cell_type": "markdown",
   "id": "bfc70816",
   "metadata": {
    "editable": true,
    "papermill": {
     "duration": 0.015058,
     "end_time": "2025-05-19T01:31:14.290693",
     "exception": false,
     "start_time": "2025-05-19T01:31:14.275635",
     "status": "completed"
    },
    "slideshow": {
     "slide_type": ""
    },
    "tags": []
   },
   "source": [
    "### Authoring and merging stats by repository\n",
    "\n",
    "Let's see who has been doing most of the PR authoring and merging. The PR author is generally the\n",
    "person that implemented a change in the repository (code, documentation, etc). The PR merger is\n",
    "the person that \"pressed the green button\" and got the change into the main codebase."
   ]
  },
  {
   "cell_type": "code",
   "execution_count": 12,
   "id": "8d9bf738",
   "metadata": {
    "editable": true,
    "execution": {
     "iopub.execute_input": "2025-05-19T01:31:14.324635Z",
     "iopub.status.busy": "2025-05-19T01:31:14.323938Z",
     "iopub.status.idle": "2025-05-19T01:31:14.334729Z",
     "shell.execute_reply": "2025-05-19T01:31:14.333999Z"
    },
    "papermill": {
     "duration": 0.029009,
     "end_time": "2025-05-19T01:31:14.335866",
     "exception": false,
     "start_time": "2025-05-19T01:31:14.306857",
     "status": "completed"
    },
    "slideshow": {
     "slide_type": ""
    },
    "tags": [
     "remove_cell"
    ]
   },
   "outputs": [],
   "source": [
    "# Prep our merging DF\n",
    "merged_by_repo = merged.groupby(['repo', 'login'], as_index=False).agg({'id': 'count', 'author_association': 'first'}).rename(columns={'id': \"authored\", 'login': 'username'})\n",
    "closed_by_repo = merged.groupby(['name', 'merged_by']).count()['id_issue'].reset_index().rename(columns={'id_issue': \"closed\", \"merged_by\": \"username\"})"
   ]
  },
  {
   "cell_type": "code",
   "execution_count": 13,
   "id": "f4564a63",
   "metadata": {
    "editable": true,
    "execution": {
     "iopub.execute_input": "2025-05-19T01:31:14.368087Z",
     "iopub.status.busy": "2025-05-19T01:31:14.367831Z",
     "iopub.status.idle": "2025-05-19T01:31:14.392903Z",
     "shell.execute_reply": "2025-05-19T01:31:14.392176Z"
    },
    "papermill": {
     "duration": 0.042603,
     "end_time": "2025-05-19T01:31:14.394093",
     "exception": false,
     "start_time": "2025-05-19T01:31:14.351490",
     "status": "completed"
    },
    "slideshow": {
     "slide_type": ""
    },
    "tags": [
     "hide_input"
    ]
   },
   "outputs": [
    {
     "data": {
      "text/html": [
       "\n",
       "<style>\n",
       "  #altair-viz-f9a53f577f024f2fa6b8f992e15bb14b.vega-embed {\n",
       "    width: 100%;\n",
       "    display: flex;\n",
       "  }\n",
       "\n",
       "  #altair-viz-f9a53f577f024f2fa6b8f992e15bb14b.vega-embed details,\n",
       "  #altair-viz-f9a53f577f024f2fa6b8f992e15bb14b.vega-embed details summary {\n",
       "    position: relative;\n",
       "  }\n",
       "</style>\n",
       "<div id=\"altair-viz-f9a53f577f024f2fa6b8f992e15bb14b\"></div>\n",
       "<script type=\"text/javascript\">\n",
       "  var VEGA_DEBUG = (typeof VEGA_DEBUG == \"undefined\") ? {} : VEGA_DEBUG;\n",
       "  (function(spec, embedOpt){\n",
       "    let outputDiv = document.currentScript.previousElementSibling;\n",
       "    if (outputDiv.id !== \"altair-viz-f9a53f577f024f2fa6b8f992e15bb14b\") {\n",
       "      outputDiv = document.getElementById(\"altair-viz-f9a53f577f024f2fa6b8f992e15bb14b\");\n",
       "    }\n",
       "\n",
       "    const paths = {\n",
       "      \"vega\": \"https://cdn.jsdelivr.net/npm/vega@5?noext\",\n",
       "      \"vega-lib\": \"https://cdn.jsdelivr.net/npm/vega-lib?noext\",\n",
       "      \"vega-lite\": \"https://cdn.jsdelivr.net/npm/vega-lite@5.20.1?noext\",\n",
       "      \"vega-embed\": \"https://cdn.jsdelivr.net/npm/vega-embed@6?noext\",\n",
       "    };\n",
       "\n",
       "    function maybeLoadScript(lib, version) {\n",
       "      var key = `${lib.replace(\"-\", \"\")}_version`;\n",
       "      return (VEGA_DEBUG[key] == version) ?\n",
       "        Promise.resolve(paths[lib]) :\n",
       "        new Promise(function(resolve, reject) {\n",
       "          var s = document.createElement('script');\n",
       "          document.getElementsByTagName(\"head\")[0].appendChild(s);\n",
       "          s.async = true;\n",
       "          s.onload = () => {\n",
       "            VEGA_DEBUG[key] = version;\n",
       "            return resolve(paths[lib]);\n",
       "          };\n",
       "          s.onerror = () => reject(`Error loading script: ${paths[lib]}`);\n",
       "          s.src = paths[lib];\n",
       "        });\n",
       "    }\n",
       "\n",
       "    function showError(err) {\n",
       "      outputDiv.innerHTML = `<div class=\"error\" style=\"color:red;\">${err}</div>`;\n",
       "      throw err;\n",
       "    }\n",
       "\n",
       "    function displayChart(vegaEmbed) {\n",
       "      vegaEmbed(outputDiv, spec, embedOpt)\n",
       "        .catch(err => showError(`Javascript Error: ${err.message}<br>This usually means there's a typo in your chart specification. See the javascript console for the full traceback.`));\n",
       "    }\n",
       "\n",
       "    if(typeof define === \"function\" && define.amd) {\n",
       "      requirejs.config({paths});\n",
       "      let deps = [\"vega-embed\"];\n",
       "      require(deps, displayChart, err => showError(`Error loading script: ${err.message}`));\n",
       "    } else {\n",
       "      maybeLoadScript(\"vega\", \"5\")\n",
       "        .then(() => maybeLoadScript(\"vega-lite\", \"5.20.1\"))\n",
       "        .then(() => maybeLoadScript(\"vega-embed\", \"6\"))\n",
       "        .catch(showError)\n",
       "        .then(() => displayChart(vegaEmbed));\n",
       "    }\n",
       "  })({\"config\": {\"axisLeft\": {\"labelFontSize\": 15}, \"axisBottom\": {\"labelFontSize\": 15}}, \"data\": {\"name\": \"data-4d700ba8bd94ebc05740ea90552da2c3\"}, \"mark\": {\"type\": \"bar\"}, \"encoding\": {\"color\": {\"field\": \"author_association\", \"scale\": {\"domain\": [\"MEMBER\", \"CONTRIBUTOR\", \"COLLABORATOR\", \"NONE\"], \"range\": [\"rgb(211.82745098039214, 211.82745098039214, 211.82745098039214)\", \"rgb(166.98562091503268, 229.89803921568628, 166.98562091503268)\", \"rgb(96.37647058823529, 192.75294117647059, 96.37647058823529)\", \"rgb(0.0, 100.3921568627451, 0.0)\"]}, \"type\": \"nominal\"}, \"x\": {\"field\": \"username\", \"type\": \"nominal\"}, \"y\": {\"field\": \"authored\", \"type\": \"quantitative\"}}, \"title\": \"PR authors for jupyter-server in the last 90 days\", \"$schema\": \"https://vega.github.io/schema/vega-lite/v5.20.1.json\", \"datasets\": {\"data-4d700ba8bd94ebc05740ea90552da2c3\": [{\"username\": \"davidbrochart\", \"authored\": 35, \"author_association\": \"COLLABORATOR\"}, {\"username\": \"pre-commit-ci[bot]\", \"authored\": 23, \"author_association\": \"CONTRIBUTOR\"}, {\"username\": \"krassowski\", \"authored\": 4, \"author_association\": \"COLLABORATOR\"}, {\"username\": \"Zsailer\", \"authored\": 4, \"author_association\": \"MEMBER\"}, {\"username\": \"kjayan\", \"authored\": 3, \"author_association\": \"CONTRIBUTOR\"}, {\"username\": \"rakhmaevao\", \"authored\": 2, \"author_association\": \"NONE\"}, {\"username\": \"andrii-i\", \"authored\": 2, \"author_association\": \"COLLABORATOR\"}, {\"username\": \"jtpio\", \"authored\": 2, \"author_association\": \"MEMBER\"}, {\"username\": \"Darshan808\", \"authored\": 2, \"author_association\": \"CONTRIBUTOR\"}, {\"username\": \"asmita-sharma1625\", \"authored\": 2, \"author_association\": \"CONTRIBUTOR\"}, {\"username\": \"RRosio\", \"authored\": 1, \"author_association\": \"CONTRIBUTOR\"}, {\"username\": \"0Hughman0\", \"authored\": 1, \"author_association\": \"CONTRIBUTOR\"}, {\"username\": \"MaicoTimmerman\", \"authored\": 1, \"author_association\": \"CONTRIBUTOR\"}, {\"username\": \"fcollonval\", \"authored\": 1, \"author_association\": \"MEMBER\"}, {\"username\": \"dlqqq\", \"authored\": 1, \"author_association\": \"CONTRIBUTOR\"}, {\"username\": \"ark-1\", \"authored\": 1, \"author_association\": \"CONTRIBUTOR\"}, {\"username\": \"astitv-sh\", \"authored\": 1, \"author_association\": \"COLLABORATOR\"}, {\"username\": \"martenrichter\", \"authored\": 1, \"author_association\": \"CONTRIBUTOR\"}, {\"username\": \"manics\", \"authored\": 1, \"author_association\": \"CONTRIBUTOR\"}, {\"username\": \"ojarjur\", \"authored\": 1, \"author_association\": \"CONTRIBUTOR\"}, {\"username\": \"minrk\", \"authored\": 1, \"author_association\": \"CONTRIBUTOR\"}]}}, {\"mode\": \"vega-lite\"});\n",
       "</script>"
      ],
      "text/plain": [
       "alt.Chart(...)"
      ]
     },
     "execution_count": 13,
     "metadata": {},
     "output_type": "execute_result"
    }
   ],
   "source": [
    "charts = []\n",
    "title = f\"PR authors for {github_org} in the last {n_days} days\"\n",
    "this_data = merged_by_repo.replace(np.nan, 0).groupby('username', as_index=False).agg({'authored': 'sum', 'author_association': 'first'})\n",
    "this_data = this_data.sort_values('authored', ascending=False)\n",
    "ch = alt.Chart(data=this_data, title=title).mark_bar().encode(\n",
    "    x='username',\n",
    "    y='authored',\n",
    "    color=alt.Color('author_association', scale=alt.Scale(domain=author_types, range=author_colors))\n",
    ")\n",
    "ch"
   ]
  },
  {
   "cell_type": "code",
   "execution_count": 14,
   "id": "ed2b5ec9",
   "metadata": {
    "editable": true,
    "execution": {
     "iopub.execute_input": "2025-05-19T01:31:14.428096Z",
     "iopub.status.busy": "2025-05-19T01:31:14.427825Z",
     "iopub.status.idle": "2025-05-19T01:31:14.447646Z",
     "shell.execute_reply": "2025-05-19T01:31:14.447038Z"
    },
    "papermill": {
     "duration": 0.037926,
     "end_time": "2025-05-19T01:31:14.448715",
     "exception": false,
     "start_time": "2025-05-19T01:31:14.410789",
     "status": "completed"
    },
    "slideshow": {
     "slide_type": ""
    },
    "tags": [
     "hide_input"
    ]
   },
   "outputs": [
    {
     "data": {
      "text/html": [
       "\n",
       "<style>\n",
       "  #altair-viz-3cad4798b0664958a29569d6394815f3.vega-embed {\n",
       "    width: 100%;\n",
       "    display: flex;\n",
       "  }\n",
       "\n",
       "  #altair-viz-3cad4798b0664958a29569d6394815f3.vega-embed details,\n",
       "  #altair-viz-3cad4798b0664958a29569d6394815f3.vega-embed details summary {\n",
       "    position: relative;\n",
       "  }\n",
       "</style>\n",
       "<div id=\"altair-viz-3cad4798b0664958a29569d6394815f3\"></div>\n",
       "<script type=\"text/javascript\">\n",
       "  var VEGA_DEBUG = (typeof VEGA_DEBUG == \"undefined\") ? {} : VEGA_DEBUG;\n",
       "  (function(spec, embedOpt){\n",
       "    let outputDiv = document.currentScript.previousElementSibling;\n",
       "    if (outputDiv.id !== \"altair-viz-3cad4798b0664958a29569d6394815f3\") {\n",
       "      outputDiv = document.getElementById(\"altair-viz-3cad4798b0664958a29569d6394815f3\");\n",
       "    }\n",
       "\n",
       "    const paths = {\n",
       "      \"vega\": \"https://cdn.jsdelivr.net/npm/vega@5?noext\",\n",
       "      \"vega-lib\": \"https://cdn.jsdelivr.net/npm/vega-lib?noext\",\n",
       "      \"vega-lite\": \"https://cdn.jsdelivr.net/npm/vega-lite@5.20.1?noext\",\n",
       "      \"vega-embed\": \"https://cdn.jsdelivr.net/npm/vega-embed@6?noext\",\n",
       "    };\n",
       "\n",
       "    function maybeLoadScript(lib, version) {\n",
       "      var key = `${lib.replace(\"-\", \"\")}_version`;\n",
       "      return (VEGA_DEBUG[key] == version) ?\n",
       "        Promise.resolve(paths[lib]) :\n",
       "        new Promise(function(resolve, reject) {\n",
       "          var s = document.createElement('script');\n",
       "          document.getElementsByTagName(\"head\")[0].appendChild(s);\n",
       "          s.async = true;\n",
       "          s.onload = () => {\n",
       "            VEGA_DEBUG[key] = version;\n",
       "            return resolve(paths[lib]);\n",
       "          };\n",
       "          s.onerror = () => reject(`Error loading script: ${paths[lib]}`);\n",
       "          s.src = paths[lib];\n",
       "        });\n",
       "    }\n",
       "\n",
       "    function showError(err) {\n",
       "      outputDiv.innerHTML = `<div class=\"error\" style=\"color:red;\">${err}</div>`;\n",
       "      throw err;\n",
       "    }\n",
       "\n",
       "    function displayChart(vegaEmbed) {\n",
       "      vegaEmbed(outputDiv, spec, embedOpt)\n",
       "        .catch(err => showError(`Javascript Error: ${err.message}<br>This usually means there's a typo in your chart specification. See the javascript console for the full traceback.`));\n",
       "    }\n",
       "\n",
       "    if(typeof define === \"function\" && define.amd) {\n",
       "      requirejs.config({paths});\n",
       "      let deps = [\"vega-embed\"];\n",
       "      require(deps, displayChart, err => showError(`Error loading script: ${err.message}`));\n",
       "    } else {\n",
       "      maybeLoadScript(\"vega\", \"5\")\n",
       "        .then(() => maybeLoadScript(\"vega-lite\", \"5.20.1\"))\n",
       "        .then(() => maybeLoadScript(\"vega-embed\", \"6\"))\n",
       "        .catch(showError)\n",
       "        .then(() => displayChart(vegaEmbed));\n",
       "    }\n",
       "  })({\"config\": {\"axisLeft\": {\"labelFontSize\": 15}, \"axisBottom\": {\"labelFontSize\": 15}}, \"data\": {\"name\": \"data-0bad91385df6034cef9ce1367cb22c29\"}, \"mark\": {\"type\": \"bar\"}, \"encoding\": {\"x\": {\"field\": \"username\", \"type\": \"nominal\"}, \"y\": {\"field\": \"closed\", \"type\": \"quantitative\"}}, \"title\": \"Users that have merged PRs for jupyter-server in the last 90 days\", \"$schema\": \"https://vega.github.io/schema/vega-lite/v5.20.1.json\", \"datasets\": {\"data-0bad91385df6034cef9ce1367cb22c29\": [{\"name\": \"fps\", \"username\": \"Zsailer\", \"closed\": 2}, {\"name\": \"fps\", \"username\": \"davidbrochart\", \"closed\": 24}, {\"name\": \"jupyter-scheduler\", \"username\": \"andrii-i\", \"closed\": 5}, {\"name\": \"jupyter_releaser\", \"username\": \"jtpio\", \"closed\": 3}, {\"name\": \"jupyter_releaser\", \"username\": \"krassowski\", \"closed\": 2}, {\"name\": \"jupyter_server\", \"username\": \"Zsailer\", \"closed\": 5}, {\"name\": \"jupyter_server\", \"username\": \"afshin\", \"closed\": 3}, {\"name\": \"jupyter_server\", \"username\": \"minrk\", \"closed\": 1}, {\"name\": \"jupyter_server\", \"username\": \"vidartf\", \"closed\": 2}, {\"name\": \"jupyter_server_terminals\", \"username\": \"Zsailer\", \"closed\": 1}, {\"name\": \"jupyter_ydoc\", \"username\": \"davidbrochart\", \"closed\": 12}, {\"name\": \"jupyter_ydoc\", \"username\": \"fcollonval\", \"closed\": 1}, {\"name\": \"jupyter_ydoc\", \"username\": \"krassowski\", \"closed\": 1}, {\"name\": \"jupyverse\", \"username\": \"davidbrochart\", \"closed\": 25}, {\"name\": \"jupyverse\", \"username\": \"rakhmaevao\", \"closed\": 1}, {\"name\": \"pytest-jupyter\", \"username\": \"minrk\", \"closed\": 2}]}}, {\"mode\": \"vega-lite\"});\n",
       "</script>"
      ],
      "text/plain": [
       "alt.Chart(...)"
      ]
     },
     "execution_count": 14,
     "metadata": {},
     "output_type": "execute_result"
    }
   ],
   "source": [
    "charts = []\n",
    "title = f\"Users that have merged PRs for {github_org} in the last {n_days} days\"\n",
    "ch = alt.Chart(data=closed_by_repo.replace(np.nan, 0), title=title).mark_bar().encode(\n",
    "    x='username',\n",
    "    y='closed',\n",
    ")\n",
    "ch"
   ]
  },
  {
   "cell_type": "markdown",
   "id": "0e1ea5fd",
   "metadata": {
    "editable": true,
    "papermill": {
     "duration": 0.015731,
     "end_time": "2025-05-19T01:31:14.480648",
     "exception": false,
     "start_time": "2025-05-19T01:31:14.464917",
     "status": "completed"
    },
    "slideshow": {
     "slide_type": ""
    },
    "tags": []
   },
   "source": [
    "## Issues\n",
    "\n",
    "Issues are **conversations** that happen on our GitHub repositories. Here's an\n",
    "analysis of issues across the Jupyter organizations."
   ]
  },
  {
   "cell_type": "code",
   "execution_count": 15,
   "id": "fd3c468b",
   "metadata": {
    "editable": true,
    "execution": {
     "iopub.execute_input": "2025-05-19T01:31:14.513862Z",
     "iopub.status.busy": "2025-05-19T01:31:14.513097Z",
     "iopub.status.idle": "2025-05-19T01:31:14.530932Z",
     "shell.execute_reply": "2025-05-19T01:31:14.530205Z"
    },
    "papermill": {
     "duration": 0.036027,
     "end_time": "2025-05-19T01:31:14.532246",
     "exception": false,
     "start_time": "2025-05-19T01:31:14.496219",
     "status": "completed"
    },
    "slideshow": {
     "slide_type": ""
    },
    "tags": [
     "remove_cell"
    ]
   },
   "outputs": [],
   "source": [
    "created = issues.query('state == \"open\" and created_at > @start_date and created_at < @stop_date')\n",
    "closed = issues.query('state == \"closed\" and closed_at > @start_date and closed_at < @stop_date')"
   ]
  },
  {
   "cell_type": "code",
   "execution_count": 16,
   "id": "5a5ca51d",
   "metadata": {
    "editable": true,
    "execution": {
     "iopub.execute_input": "2025-05-19T01:31:14.567739Z",
     "iopub.status.busy": "2025-05-19T01:31:14.567088Z",
     "iopub.status.idle": "2025-05-19T01:31:14.590709Z",
     "shell.execute_reply": "2025-05-19T01:31:14.589995Z"
    },
    "papermill": {
     "duration": 0.042352,
     "end_time": "2025-05-19T01:31:14.591887",
     "exception": false,
     "start_time": "2025-05-19T01:31:14.549535",
     "status": "completed"
    },
    "slideshow": {
     "slide_type": ""
    },
    "tags": [
     "hide_input"
    ]
   },
   "outputs": [
    {
     "data": {
      "text/html": [
       "\n",
       "<style>\n",
       "  #altair-viz-7ce0ea621b784c0091b3e210f778b9d8.vega-embed {\n",
       "    width: 100%;\n",
       "    display: flex;\n",
       "  }\n",
       "\n",
       "  #altair-viz-7ce0ea621b784c0091b3e210f778b9d8.vega-embed details,\n",
       "  #altair-viz-7ce0ea621b784c0091b3e210f778b9d8.vega-embed details summary {\n",
       "    position: relative;\n",
       "  }\n",
       "</style>\n",
       "<div id=\"altair-viz-7ce0ea621b784c0091b3e210f778b9d8\"></div>\n",
       "<script type=\"text/javascript\">\n",
       "  var VEGA_DEBUG = (typeof VEGA_DEBUG == \"undefined\") ? {} : VEGA_DEBUG;\n",
       "  (function(spec, embedOpt){\n",
       "    let outputDiv = document.currentScript.previousElementSibling;\n",
       "    if (outputDiv.id !== \"altair-viz-7ce0ea621b784c0091b3e210f778b9d8\") {\n",
       "      outputDiv = document.getElementById(\"altair-viz-7ce0ea621b784c0091b3e210f778b9d8\");\n",
       "    }\n",
       "\n",
       "    const paths = {\n",
       "      \"vega\": \"https://cdn.jsdelivr.net/npm/vega@5?noext\",\n",
       "      \"vega-lib\": \"https://cdn.jsdelivr.net/npm/vega-lib?noext\",\n",
       "      \"vega-lite\": \"https://cdn.jsdelivr.net/npm/vega-lite@5.20.1?noext\",\n",
       "      \"vega-embed\": \"https://cdn.jsdelivr.net/npm/vega-embed@6?noext\",\n",
       "    };\n",
       "\n",
       "    function maybeLoadScript(lib, version) {\n",
       "      var key = `${lib.replace(\"-\", \"\")}_version`;\n",
       "      return (VEGA_DEBUG[key] == version) ?\n",
       "        Promise.resolve(paths[lib]) :\n",
       "        new Promise(function(resolve, reject) {\n",
       "          var s = document.createElement('script');\n",
       "          document.getElementsByTagName(\"head\")[0].appendChild(s);\n",
       "          s.async = true;\n",
       "          s.onload = () => {\n",
       "            VEGA_DEBUG[key] = version;\n",
       "            return resolve(paths[lib]);\n",
       "          };\n",
       "          s.onerror = () => reject(`Error loading script: ${paths[lib]}`);\n",
       "          s.src = paths[lib];\n",
       "        });\n",
       "    }\n",
       "\n",
       "    function showError(err) {\n",
       "      outputDiv.innerHTML = `<div class=\"error\" style=\"color:red;\">${err}</div>`;\n",
       "      throw err;\n",
       "    }\n",
       "\n",
       "    function displayChart(vegaEmbed) {\n",
       "      vegaEmbed(outputDiv, spec, embedOpt)\n",
       "        .catch(err => showError(`Javascript Error: ${err.message}<br>This usually means there's a typo in your chart specification. See the javascript console for the full traceback.`));\n",
       "    }\n",
       "\n",
       "    if(typeof define === \"function\" && define.amd) {\n",
       "      requirejs.config({paths});\n",
       "      let deps = [\"vega-embed\"];\n",
       "      require(deps, displayChart, err => showError(`Error loading script: ${err.message}`));\n",
       "    } else {\n",
       "      maybeLoadScript(\"vega\", \"5\")\n",
       "        .then(() => maybeLoadScript(\"vega-lite\", \"5.20.1\"))\n",
       "        .then(() => maybeLoadScript(\"vega-embed\", \"6\"))\n",
       "        .catch(showError)\n",
       "        .then(() => displayChart(vegaEmbed));\n",
       "    }\n",
       "  })({\"config\": {\"axisLeft\": {\"labelFontSize\": 15}, \"axisBottom\": {\"labelFontSize\": 15}}, \"data\": {\"name\": \"data-70bcc2a97f1d31289e144222ab6f6cc8\"}, \"mark\": {\"type\": \"bar\"}, \"encoding\": {\"x\": {\"field\": \"repo\", \"sort\": [\"jupyter-scheduler\", \"jupyter-resource-usage\", \"jupyter_server\", \"enterprise_gateway\", \"team-compass\", \"gateway_provisioners\", \"jupyter_releaser\", \"kernel_gateway\"], \"type\": \"nominal\"}, \"y\": {\"field\": \"number\", \"type\": \"quantitative\"}}, \"title\": \"Issues created in the last 90 days\", \"$schema\": \"https://vega.github.io/schema/vega-lite/v5.20.1.json\", \"datasets\": {\"data-70bcc2a97f1d31289e144222ab6f6cc8\": [{\"org\": \"jupyter-server\", \"repo\": \"enterprise_gateway\", \"number\": 2, \"org/repo\": \"jupyter-server/enterprise_gateway\"}, {\"org\": \"jupyter-server\", \"repo\": \"gateway_provisioners\", \"number\": 1, \"org/repo\": \"jupyter-server/gateway_provisioners\"}, {\"org\": \"jupyter-server\", \"repo\": \"jupyter-resource-usage\", \"number\": 4, \"org/repo\": \"jupyter-server/jupyter-resource-usage\"}, {\"org\": \"jupyter-server\", \"repo\": \"jupyter-scheduler\", \"number\": 5, \"org/repo\": \"jupyter-server/jupyter-scheduler\"}, {\"org\": \"jupyter-server\", \"repo\": \"jupyter_releaser\", \"number\": 1, \"org/repo\": \"jupyter-server/jupyter_releaser\"}, {\"org\": \"jupyter-server\", \"repo\": \"jupyter_server\", \"number\": 4, \"org/repo\": \"jupyter-server/jupyter_server\"}, {\"org\": \"jupyter-server\", \"repo\": \"kernel_gateway\", \"number\": 1, \"org/repo\": \"jupyter-server/kernel_gateway\"}, {\"org\": \"jupyter-server\", \"repo\": \"team-compass\", \"number\": 2, \"org/repo\": \"jupyter-server/team-compass\"}]}}, {\"mode\": \"vega-lite\"});\n",
       "</script>"
      ],
      "text/plain": [
       "alt.Chart(...)"
      ]
     },
     "execution_count": 16,
     "metadata": {},
     "output_type": "execute_result"
    }
   ],
   "source": [
    "created_counts = created.groupby(['org', 'repo']).count()['number'].reset_index()\n",
    "created_counts['org/repo'] = created_counts.apply(lambda a: a['org'] + '/' + a['repo'], axis=1)\n",
    "sorted_vals = created_counts.sort_values(['org', 'number'], ascending=False)['repo'].values\n",
    "alt.Chart(data=created_counts, title=f\"Issues created in the last {n_days} days\").mark_bar().encode(\n",
    "    x=alt.X('repo', sort=alt.Sort(sorted_vals.tolist())),\n",
    "    y='number',\n",
    ")"
   ]
  },
  {
   "cell_type": "code",
   "execution_count": 17,
   "id": "73435c7a",
   "metadata": {
    "editable": true,
    "execution": {
     "iopub.execute_input": "2025-05-19T01:31:14.625504Z",
     "iopub.status.busy": "2025-05-19T01:31:14.624967Z",
     "iopub.status.idle": "2025-05-19T01:31:14.648926Z",
     "shell.execute_reply": "2025-05-19T01:31:14.648140Z"
    },
    "papermill": {
     "duration": 0.042014,
     "end_time": "2025-05-19T01:31:14.650145",
     "exception": false,
     "start_time": "2025-05-19T01:31:14.608131",
     "status": "completed"
    },
    "slideshow": {
     "slide_type": ""
    },
    "tags": [
     "hide_input"
    ]
   },
   "outputs": [
    {
     "data": {
      "text/html": [
       "\n",
       "<style>\n",
       "  #altair-viz-34cfb298435a4df8b60b47e4219c7a4c.vega-embed {\n",
       "    width: 100%;\n",
       "    display: flex;\n",
       "  }\n",
       "\n",
       "  #altair-viz-34cfb298435a4df8b60b47e4219c7a4c.vega-embed details,\n",
       "  #altair-viz-34cfb298435a4df8b60b47e4219c7a4c.vega-embed details summary {\n",
       "    position: relative;\n",
       "  }\n",
       "</style>\n",
       "<div id=\"altair-viz-34cfb298435a4df8b60b47e4219c7a4c\"></div>\n",
       "<script type=\"text/javascript\">\n",
       "  var VEGA_DEBUG = (typeof VEGA_DEBUG == \"undefined\") ? {} : VEGA_DEBUG;\n",
       "  (function(spec, embedOpt){\n",
       "    let outputDiv = document.currentScript.previousElementSibling;\n",
       "    if (outputDiv.id !== \"altair-viz-34cfb298435a4df8b60b47e4219c7a4c\") {\n",
       "      outputDiv = document.getElementById(\"altair-viz-34cfb298435a4df8b60b47e4219c7a4c\");\n",
       "    }\n",
       "\n",
       "    const paths = {\n",
       "      \"vega\": \"https://cdn.jsdelivr.net/npm/vega@5?noext\",\n",
       "      \"vega-lib\": \"https://cdn.jsdelivr.net/npm/vega-lib?noext\",\n",
       "      \"vega-lite\": \"https://cdn.jsdelivr.net/npm/vega-lite@5.20.1?noext\",\n",
       "      \"vega-embed\": \"https://cdn.jsdelivr.net/npm/vega-embed@6?noext\",\n",
       "    };\n",
       "\n",
       "    function maybeLoadScript(lib, version) {\n",
       "      var key = `${lib.replace(\"-\", \"\")}_version`;\n",
       "      return (VEGA_DEBUG[key] == version) ?\n",
       "        Promise.resolve(paths[lib]) :\n",
       "        new Promise(function(resolve, reject) {\n",
       "          var s = document.createElement('script');\n",
       "          document.getElementsByTagName(\"head\")[0].appendChild(s);\n",
       "          s.async = true;\n",
       "          s.onload = () => {\n",
       "            VEGA_DEBUG[key] = version;\n",
       "            return resolve(paths[lib]);\n",
       "          };\n",
       "          s.onerror = () => reject(`Error loading script: ${paths[lib]}`);\n",
       "          s.src = paths[lib];\n",
       "        });\n",
       "    }\n",
       "\n",
       "    function showError(err) {\n",
       "      outputDiv.innerHTML = `<div class=\"error\" style=\"color:red;\">${err}</div>`;\n",
       "      throw err;\n",
       "    }\n",
       "\n",
       "    function displayChart(vegaEmbed) {\n",
       "      vegaEmbed(outputDiv, spec, embedOpt)\n",
       "        .catch(err => showError(`Javascript Error: ${err.message}<br>This usually means there's a typo in your chart specification. See the javascript console for the full traceback.`));\n",
       "    }\n",
       "\n",
       "    if(typeof define === \"function\" && define.amd) {\n",
       "      requirejs.config({paths});\n",
       "      let deps = [\"vega-embed\"];\n",
       "      require(deps, displayChart, err => showError(`Error loading script: ${err.message}`));\n",
       "    } else {\n",
       "      maybeLoadScript(\"vega\", \"5\")\n",
       "        .then(() => maybeLoadScript(\"vega-lite\", \"5.20.1\"))\n",
       "        .then(() => maybeLoadScript(\"vega-embed\", \"6\"))\n",
       "        .catch(showError)\n",
       "        .then(() => displayChart(vegaEmbed));\n",
       "    }\n",
       "  })({\"config\": {\"axisLeft\": {\"labelFontSize\": 15}, \"axisBottom\": {\"labelFontSize\": 15}}, \"data\": {\"name\": \"data-c275f4e64632f0cc7fbd767998c521b8\"}, \"mark\": {\"type\": \"bar\"}, \"encoding\": {\"x\": {\"field\": \"repo\", \"sort\": [\"jupyter_server\", \"jupyter-scheduler\", \"fps\", \"jupyverse\", \"enterprise_gateway\", \"jupyter_releaser\", \"team-compass\"], \"type\": \"nominal\"}, \"y\": {\"field\": \"number\", \"type\": \"quantitative\"}}, \"title\": \"Issues closed in the last 90 days\", \"$schema\": \"https://vega.github.io/schema/vega-lite/v5.20.1.json\", \"datasets\": {\"data-c275f4e64632f0cc7fbd767998c521b8\": [{\"org\": \"jupyter-server\", \"repo\": \"enterprise_gateway\", \"number\": 2, \"org/repo\": \"jupyter-server/enterprise_gateway\"}, {\"org\": \"jupyter-server\", \"repo\": \"fps\", \"number\": 3, \"org/repo\": \"jupyter-server/fps\"}, {\"org\": \"jupyter-server\", \"repo\": \"jupyter-scheduler\", \"number\": 3, \"org/repo\": \"jupyter-server/jupyter-scheduler\"}, {\"org\": \"jupyter-server\", \"repo\": \"jupyter_releaser\", \"number\": 2, \"org/repo\": \"jupyter-server/jupyter_releaser\"}, {\"org\": \"jupyter-server\", \"repo\": \"jupyter_server\", \"number\": 9, \"org/repo\": \"jupyter-server/jupyter_server\"}, {\"org\": \"jupyter-server\", \"repo\": \"jupyverse\", \"number\": 3, \"org/repo\": \"jupyter-server/jupyverse\"}, {\"org\": \"jupyter-server\", \"repo\": \"team-compass\", \"number\": 1, \"org/repo\": \"jupyter-server/team-compass\"}]}}, {\"mode\": \"vega-lite\"});\n",
       "</script>"
      ],
      "text/plain": [
       "alt.Chart(...)"
      ]
     },
     "execution_count": 17,
     "metadata": {},
     "output_type": "execute_result"
    }
   ],
   "source": [
    "closed_counts = closed.groupby(['org', 'repo']).count()['number'].reset_index()\n",
    "closed_counts['org/repo'] = closed_counts.apply(lambda a: a['org'] + '/' + a['repo'], axis=1)\n",
    "sorted_vals = closed_counts.sort_values(['number'], ascending=False)['repo'].values\n",
    "alt.Chart(data=closed_counts, title=f\"Issues closed in the last {n_days} days\").mark_bar().encode(\n",
    "    x=alt.X('repo', sort=alt.Sort(sorted_vals.tolist())),\n",
    "    y='number',\n",
    ")"
   ]
  },
  {
   "cell_type": "code",
   "execution_count": 18,
   "id": "01122baf",
   "metadata": {
    "editable": true,
    "execution": {
     "iopub.execute_input": "2025-05-19T01:31:14.687002Z",
     "iopub.status.busy": "2025-05-19T01:31:14.686516Z",
     "iopub.status.idle": "2025-05-19T01:31:14.697529Z",
     "shell.execute_reply": "2025-05-19T01:31:14.696832Z"
    },
    "papermill": {
     "duration": 0.031119,
     "end_time": "2025-05-19T01:31:14.698626",
     "exception": false,
     "start_time": "2025-05-19T01:31:14.667507",
     "status": "completed"
    },
    "slideshow": {
     "slide_type": ""
    },
    "tags": [
     "remove_cell"
    ]
   },
   "outputs": [],
   "source": [
    "created_closed = pd.merge(created_counts.rename(columns={'number': 'created'}).drop(columns='org/repo'),\n",
    "                          closed_counts.rename(columns={'number': 'closed'}).drop(columns='org/repo'),\n",
    "                          on=['org', 'repo'], how='outer')\n",
    "\n",
    "created_closed = pd.melt(created_closed, id_vars=['org', 'repo'], var_name=\"kind\", value_name=\"count\").replace(np.nan, 0)"
   ]
  },
  {
   "cell_type": "code",
   "execution_count": 19,
   "id": "8f92aded",
   "metadata": {
    "editable": true,
    "execution": {
     "iopub.execute_input": "2025-05-19T01:31:14.731742Z",
     "iopub.status.busy": "2025-05-19T01:31:14.731460Z",
     "iopub.status.idle": "2025-05-19T01:31:14.756463Z",
     "shell.execute_reply": "2025-05-19T01:31:14.755792Z"
    },
    "papermill": {
     "duration": 0.042828,
     "end_time": "2025-05-19T01:31:14.757701",
     "exception": false,
     "start_time": "2025-05-19T01:31:14.714873",
     "status": "completed"
    },
    "scrolled": true,
    "slideshow": {
     "slide_type": ""
    },
    "tags": [
     "hide_input"
    ]
   },
   "outputs": [
    {
     "data": {
      "text/html": [
       "\n",
       "<style>\n",
       "  #altair-viz-0b3aa0e70b3d4b51b3985772f08772ef.vega-embed {\n",
       "    width: 100%;\n",
       "    display: flex;\n",
       "  }\n",
       "\n",
       "  #altair-viz-0b3aa0e70b3d4b51b3985772f08772ef.vega-embed details,\n",
       "  #altair-viz-0b3aa0e70b3d4b51b3985772f08772ef.vega-embed details summary {\n",
       "    position: relative;\n",
       "  }\n",
       "</style>\n",
       "<div id=\"altair-viz-0b3aa0e70b3d4b51b3985772f08772ef\"></div>\n",
       "<script type=\"text/javascript\">\n",
       "  var VEGA_DEBUG = (typeof VEGA_DEBUG == \"undefined\") ? {} : VEGA_DEBUG;\n",
       "  (function(spec, embedOpt){\n",
       "    let outputDiv = document.currentScript.previousElementSibling;\n",
       "    if (outputDiv.id !== \"altair-viz-0b3aa0e70b3d4b51b3985772f08772ef\") {\n",
       "      outputDiv = document.getElementById(\"altair-viz-0b3aa0e70b3d4b51b3985772f08772ef\");\n",
       "    }\n",
       "\n",
       "    const paths = {\n",
       "      \"vega\": \"https://cdn.jsdelivr.net/npm/vega@5?noext\",\n",
       "      \"vega-lib\": \"https://cdn.jsdelivr.net/npm/vega-lib?noext\",\n",
       "      \"vega-lite\": \"https://cdn.jsdelivr.net/npm/vega-lite@5.20.1?noext\",\n",
       "      \"vega-embed\": \"https://cdn.jsdelivr.net/npm/vega-embed@6?noext\",\n",
       "    };\n",
       "\n",
       "    function maybeLoadScript(lib, version) {\n",
       "      var key = `${lib.replace(\"-\", \"\")}_version`;\n",
       "      return (VEGA_DEBUG[key] == version) ?\n",
       "        Promise.resolve(paths[lib]) :\n",
       "        new Promise(function(resolve, reject) {\n",
       "          var s = document.createElement('script');\n",
       "          document.getElementsByTagName(\"head\")[0].appendChild(s);\n",
       "          s.async = true;\n",
       "          s.onload = () => {\n",
       "            VEGA_DEBUG[key] = version;\n",
       "            return resolve(paths[lib]);\n",
       "          };\n",
       "          s.onerror = () => reject(`Error loading script: ${paths[lib]}`);\n",
       "          s.src = paths[lib];\n",
       "        });\n",
       "    }\n",
       "\n",
       "    function showError(err) {\n",
       "      outputDiv.innerHTML = `<div class=\"error\" style=\"color:red;\">${err}</div>`;\n",
       "      throw err;\n",
       "    }\n",
       "\n",
       "    function displayChart(vegaEmbed) {\n",
       "      vegaEmbed(outputDiv, spec, embedOpt)\n",
       "        .catch(err => showError(`Javascript Error: ${err.message}<br>This usually means there's a typo in your chart specification. See the javascript console for the full traceback.`));\n",
       "    }\n",
       "\n",
       "    if(typeof define === \"function\" && define.amd) {\n",
       "      requirejs.config({paths});\n",
       "      let deps = [\"vega-embed\"];\n",
       "      require(deps, displayChart, err => showError(`Error loading script: ${err.message}`));\n",
       "    } else {\n",
       "      maybeLoadScript(\"vega\", \"5\")\n",
       "        .then(() => maybeLoadScript(\"vega-lite\", \"5.20.1\"))\n",
       "        .then(() => maybeLoadScript(\"vega-embed\", \"6\"))\n",
       "        .catch(showError)\n",
       "        .then(() => displayChart(vegaEmbed));\n",
       "    }\n",
       "  })({\"config\": {\"axisLeft\": {\"labelFontSize\": 15}, \"axisBottom\": {\"labelFontSize\": 15}}, \"data\": {\"name\": \"data-69744d77d1060f3c3d8699d034557e5a\"}, \"mark\": {\"type\": \"bar\"}, \"encoding\": {\"color\": {\"field\": \"kind\", \"type\": \"nominal\"}, \"column\": {\"field\": \"repo\", \"header\": {\"labelFontSize\": 12, \"title\": \"Issue activity, last 90 days for jupyter-server\", \"titleFontSize\": 15}, \"type\": \"nominal\"}, \"x\": {\"axis\": {\"labelFontSize\": 15, \"title\": \"\"}, \"field\": \"kind\", \"type\": \"nominal\"}, \"y\": {\"axis\": {\"labelFontSize\": 12, \"titleFontSize\": 15}, \"field\": \"count\", \"type\": \"quantitative\"}}, \"width\": 120, \"$schema\": \"https://vega.github.io/schema/vega-lite/v5.20.1.json\", \"datasets\": {\"data-69744d77d1060f3c3d8699d034557e5a\": [{\"org\": \"jupyter-server\", \"repo\": \"enterprise_gateway\", \"kind\": \"created\", \"count\": 2.0}, {\"org\": \"jupyter-server\", \"repo\": \"fps\", \"kind\": \"created\", \"count\": 0.0}, {\"org\": \"jupyter-server\", \"repo\": \"gateway_provisioners\", \"kind\": \"created\", \"count\": 1.0}, {\"org\": \"jupyter-server\", \"repo\": \"jupyter-resource-usage\", \"kind\": \"created\", \"count\": 4.0}, {\"org\": \"jupyter-server\", \"repo\": \"jupyter-scheduler\", \"kind\": \"created\", \"count\": 5.0}, {\"org\": \"jupyter-server\", \"repo\": \"jupyter_releaser\", \"kind\": \"created\", \"count\": 1.0}, {\"org\": \"jupyter-server\", \"repo\": \"jupyter_server\", \"kind\": \"created\", \"count\": 4.0}, {\"org\": \"jupyter-server\", \"repo\": \"jupyverse\", \"kind\": \"created\", \"count\": 0.0}, {\"org\": \"jupyter-server\", \"repo\": \"kernel_gateway\", \"kind\": \"created\", \"count\": 1.0}, {\"org\": \"jupyter-server\", \"repo\": \"team-compass\", \"kind\": \"created\", \"count\": 2.0}, {\"org\": \"jupyter-server\", \"repo\": \"enterprise_gateway\", \"kind\": \"closed\", \"count\": 2.0}, {\"org\": \"jupyter-server\", \"repo\": \"fps\", \"kind\": \"closed\", \"count\": 3.0}, {\"org\": \"jupyter-server\", \"repo\": \"gateway_provisioners\", \"kind\": \"closed\", \"count\": 0.0}, {\"org\": \"jupyter-server\", \"repo\": \"jupyter-resource-usage\", \"kind\": \"closed\", \"count\": 0.0}, {\"org\": \"jupyter-server\", \"repo\": \"jupyter-scheduler\", \"kind\": \"closed\", \"count\": 3.0}, {\"org\": \"jupyter-server\", \"repo\": \"jupyter_releaser\", \"kind\": \"closed\", \"count\": 2.0}, {\"org\": \"jupyter-server\", \"repo\": \"jupyter_server\", \"kind\": \"closed\", \"count\": 9.0}, {\"org\": \"jupyter-server\", \"repo\": \"jupyverse\", \"kind\": \"closed\", \"count\": 3.0}, {\"org\": \"jupyter-server\", \"repo\": \"kernel_gateway\", \"kind\": \"closed\", \"count\": 0.0}, {\"org\": \"jupyter-server\", \"repo\": \"team-compass\", \"kind\": \"closed\", \"count\": 1.0}]}}, {\"mode\": \"vega-lite\"});\n",
       "</script>"
      ],
      "text/plain": [
       "alt.Chart(...)"
      ]
     },
     "execution_count": 19,
     "metadata": {},
     "output_type": "execute_result"
    }
   ],
   "source": [
    "charts = []\n",
    "# Pick the top 10 repositories\n",
    "top_repos = created_closed.groupby(['repo']).sum().sort_values(by='count', ascending=False).head(10).index\n",
    "ch = alt.Chart(created_closed.query('repo in @top_repos'), width=120).mark_bar().encode(\n",
    "    x=alt.X(\"kind\", axis=alt.Axis(labelFontSize=15, title=\"\")), \n",
    "    y=alt.Y('count', axis=alt.Axis(titleFontSize=15, labelFontSize=12)),\n",
    "    color='kind',\n",
    "    column=alt.Column(\"repo\", header=alt.Header(title=f\"Issue activity, last {n_days} days for {github_org}\", titleFontSize=15, labelFontSize=12))\n",
    ")\n",
    "ch"
   ]
  },
  {
   "cell_type": "code",
   "execution_count": 20,
   "id": "23c794de",
   "metadata": {
    "editable": true,
    "execution": {
     "iopub.execute_input": "2025-05-19T01:31:14.793038Z",
     "iopub.status.busy": "2025-05-19T01:31:14.792572Z",
     "iopub.status.idle": "2025-05-19T01:31:14.799637Z",
     "shell.execute_reply": "2025-05-19T01:31:14.798953Z"
    },
    "papermill": {
     "duration": 0.0262,
     "end_time": "2025-05-19T01:31:14.800808",
     "exception": false,
     "start_time": "2025-05-19T01:31:14.774608",
     "status": "completed"
    },
    "slideshow": {
     "slide_type": ""
    },
    "tags": [
     "remove_cell"
    ]
   },
   "outputs": [],
   "source": [
    "# Set to datetime\n",
    "for kind in ['created_at', 'closed_at']:\n",
    "    closed.loc[:, kind] = pd.to_datetime(closed[kind])\n",
    "    \n",
    "closed.loc[:, 'time_open'] = closed['closed_at'] - closed['created_at']\n",
    "closed.loc[:, 'time_open'] = closed['time_open'].dt.total_seconds()"
   ]
  },
  {
   "cell_type": "code",
   "execution_count": 21,
   "id": "38b45449",
   "metadata": {
    "editable": true,
    "execution": {
     "iopub.execute_input": "2025-05-19T01:31:14.834487Z",
     "iopub.status.busy": "2025-05-19T01:31:14.834164Z",
     "iopub.status.idle": "2025-05-19T01:31:14.854933Z",
     "shell.execute_reply": "2025-05-19T01:31:14.854233Z"
    },
    "papermill": {
     "duration": 0.038721,
     "end_time": "2025-05-19T01:31:14.856023",
     "exception": false,
     "start_time": "2025-05-19T01:31:14.817302",
     "status": "completed"
    },
    "slideshow": {
     "slide_type": ""
    },
    "tags": [
     "hide_input"
    ]
   },
   "outputs": [
    {
     "data": {
      "text/html": [
       "\n",
       "<style>\n",
       "  #altair-viz-722161152eea451c8ce388f6f5ecbc2a.vega-embed {\n",
       "    width: 100%;\n",
       "    display: flex;\n",
       "  }\n",
       "\n",
       "  #altair-viz-722161152eea451c8ce388f6f5ecbc2a.vega-embed details,\n",
       "  #altair-viz-722161152eea451c8ce388f6f5ecbc2a.vega-embed details summary {\n",
       "    position: relative;\n",
       "  }\n",
       "</style>\n",
       "<div id=\"altair-viz-722161152eea451c8ce388f6f5ecbc2a\"></div>\n",
       "<script type=\"text/javascript\">\n",
       "  var VEGA_DEBUG = (typeof VEGA_DEBUG == \"undefined\") ? {} : VEGA_DEBUG;\n",
       "  (function(spec, embedOpt){\n",
       "    let outputDiv = document.currentScript.previousElementSibling;\n",
       "    if (outputDiv.id !== \"altair-viz-722161152eea451c8ce388f6f5ecbc2a\") {\n",
       "      outputDiv = document.getElementById(\"altair-viz-722161152eea451c8ce388f6f5ecbc2a\");\n",
       "    }\n",
       "\n",
       "    const paths = {\n",
       "      \"vega\": \"https://cdn.jsdelivr.net/npm/vega@5?noext\",\n",
       "      \"vega-lib\": \"https://cdn.jsdelivr.net/npm/vega-lib?noext\",\n",
       "      \"vega-lite\": \"https://cdn.jsdelivr.net/npm/vega-lite@5.20.1?noext\",\n",
       "      \"vega-embed\": \"https://cdn.jsdelivr.net/npm/vega-embed@6?noext\",\n",
       "    };\n",
       "\n",
       "    function maybeLoadScript(lib, version) {\n",
       "      var key = `${lib.replace(\"-\", \"\")}_version`;\n",
       "      return (VEGA_DEBUG[key] == version) ?\n",
       "        Promise.resolve(paths[lib]) :\n",
       "        new Promise(function(resolve, reject) {\n",
       "          var s = document.createElement('script');\n",
       "          document.getElementsByTagName(\"head\")[0].appendChild(s);\n",
       "          s.async = true;\n",
       "          s.onload = () => {\n",
       "            VEGA_DEBUG[key] = version;\n",
       "            return resolve(paths[lib]);\n",
       "          };\n",
       "          s.onerror = () => reject(`Error loading script: ${paths[lib]}`);\n",
       "          s.src = paths[lib];\n",
       "        });\n",
       "    }\n",
       "\n",
       "    function showError(err) {\n",
       "      outputDiv.innerHTML = `<div class=\"error\" style=\"color:red;\">${err}</div>`;\n",
       "      throw err;\n",
       "    }\n",
       "\n",
       "    function displayChart(vegaEmbed) {\n",
       "      vegaEmbed(outputDiv, spec, embedOpt)\n",
       "        .catch(err => showError(`Javascript Error: ${err.message}<br>This usually means there's a typo in your chart specification. See the javascript console for the full traceback.`));\n",
       "    }\n",
       "\n",
       "    if(typeof define === \"function\" && define.amd) {\n",
       "      requirejs.config({paths});\n",
       "      let deps = [\"vega-embed\"];\n",
       "      require(deps, displayChart, err => showError(`Error loading script: ${err.message}`));\n",
       "    } else {\n",
       "      maybeLoadScript(\"vega\", \"5\")\n",
       "        .then(() => maybeLoadScript(\"vega-lite\", \"5.20.1\"))\n",
       "        .then(() => maybeLoadScript(\"vega-embed\", \"6\"))\n",
       "        .catch(showError)\n",
       "        .then(() => displayChart(vegaEmbed));\n",
       "    }\n",
       "  })({\"config\": {\"axisLeft\": {\"labelFontSize\": 15}, \"axisBottom\": {\"labelFontSize\": 15}}, \"data\": {\"name\": \"data-729c6c227fe05d15297e640d6ced72c5\"}, \"mark\": {\"type\": \"bar\"}, \"encoding\": {\"x\": {\"field\": \"repo\", \"sort\": [\"fps\", \"jupyter-scheduler\", \"jupyter_releaser\", \"jupyter_server\", \"team-compass\", \"jupyverse\", \"enterprise_gateway\"], \"type\": \"nominal\"}, \"y\": {\"field\": \"time_open\", \"title\": \"Median Days Open\", \"type\": \"quantitative\"}}, \"title\": \"Time to close for issues closed in the last 90 days\", \"$schema\": \"https://vega.github.io/schema/vega-lite/v5.20.1.json\", \"datasets\": {\"data-729c6c227fe05d15297e640d6ced72c5\": [{\"org\": \"jupyter-server\", \"repo\": \"enterprise_gateway\", \"time_open\": 1.0795543981481481, \"org/repo\": \"jupyter-server/enterprise_gateway\"}, {\"org\": \"jupyter-server\", \"repo\": \"fps\", \"time_open\": 1228.1181018518519, \"org/repo\": \"jupyter-server/fps\"}, {\"org\": \"jupyter-server\", \"repo\": \"jupyter-scheduler\", \"time_open\": 110.23818287037037, \"org/repo\": \"jupyter-server/jupyter-scheduler\"}, {\"org\": \"jupyter-server\", \"repo\": \"jupyter_releaser\", \"time_open\": 49.906840277777775, \"org/repo\": \"jupyter-server/jupyter_releaser\"}, {\"org\": \"jupyter-server\", \"repo\": \"jupyter_server\", \"time_open\": 38.553148148148146, \"org/repo\": \"jupyter-server/jupyter_server\"}, {\"org\": \"jupyter-server\", \"repo\": \"jupyverse\", \"time_open\": 2.198275462962963, \"org/repo\": \"jupyter-server/jupyverse\"}, {\"org\": \"jupyter-server\", \"repo\": \"team-compass\", \"time_open\": 8.337731481481482, \"org/repo\": \"jupyter-server/team-compass\"}]}}, {\"mode\": \"vega-lite\"});\n",
       "</script>"
      ],
      "text/plain": [
       "alt.Chart(...)"
      ]
     },
     "execution_count": 21,
     "metadata": {},
     "output_type": "execute_result"
    }
   ],
   "source": [
    "time_open = closed.groupby(['org', 'repo']).agg({'time_open': 'median'}).reset_index()\n",
    "time_open['time_open'] = time_open['time_open'] / (60 * 60 * 24)\n",
    "time_open['org/repo'] = time_open.apply(lambda a: a['org'] + '/' + a['repo'], axis=1)\n",
    "sorted_vals = time_open.sort_values(['org', 'time_open'], ascending=False)['repo'].values\n",
    "alt.Chart(data=time_open, title=f\"Time to close for issues closed in the last {n_days} days\").mark_bar().encode(\n",
    "    x=alt.X('repo', sort=alt.Sort(sorted_vals.tolist())),\n",
    "    y=alt.Y('time_open', title=\"Median Days Open\"),\n",
    ")"
   ]
  },
  {
   "cell_type": "markdown",
   "id": "36f7cf64",
   "metadata": {
    "editable": true,
    "papermill": {
     "duration": 0.016829,
     "end_time": "2025-05-19T01:31:14.889641",
     "exception": false,
     "start_time": "2025-05-19T01:31:14.872812",
     "status": "completed"
    },
    "slideshow": {
     "slide_type": ""
    },
    "tags": []
   },
   "source": [
    "## Most-upvoted issues"
   ]
  },
  {
   "cell_type": "code",
   "execution_count": 22,
   "id": "7aebaaca",
   "metadata": {
    "editable": true,
    "execution": {
     "iopub.execute_input": "2025-05-19T01:31:14.925949Z",
     "iopub.status.busy": "2025-05-19T01:31:14.925480Z",
     "iopub.status.idle": "2025-05-19T01:31:14.950032Z",
     "shell.execute_reply": "2025-05-19T01:31:14.949318Z"
    },
    "papermill": {
     "duration": 0.044212,
     "end_time": "2025-05-19T01:31:14.951137",
     "exception": false,
     "start_time": "2025-05-19T01:31:14.906925",
     "status": "completed"
    },
    "slideshow": {
     "slide_type": ""
    },
    "tags": [
     "hide_input"
    ]
   },
   "outputs": [
    {
     "data": {
      "application/vnd.jupyter.widget-view+json": {
       "model_id": "7f16fe30687a4a6c81a6f6b1e3d7aef8",
       "version_major": 2,
       "version_minor": 0
      },
      "text/plain": [
       "HTML(value='<ul>\\n<li>(22) Towards a new generic and composable server - team-compass - <a href=\"https://githu…"
      ]
     },
     "execution_count": 22,
     "metadata": {},
     "output_type": "execute_result"
    }
   ],
   "source": [
    "thumbsup = issues.query(\"state == 'open'\").sort_values(\"positive\", ascending=False).head(25)\n",
    "thumbsup = thumbsup[[\"title\", \"url\", \"number\", \"positive\", \"repo\"]]\n",
    "\n",
    "text = []\n",
    "for ii, irow in thumbsup.iterrows():\n",
    "    itext = f\"- ({irow['positive']}) {irow['title']} - {irow['repo']} - [#{irow['number']}]({irow['url']})\"\n",
    "    text.append(itext)\n",
    "text = '\\n'.join(text)\n",
    "HTML(markdown(text))"
   ]
  },
  {
   "cell_type": "markdown",
   "id": "d6f2d214",
   "metadata": {
    "editable": true,
    "papermill": {
     "duration": 0.017448,
     "end_time": "2025-05-19T01:31:14.986058",
     "exception": false,
     "start_time": "2025-05-19T01:31:14.968610",
     "status": "completed"
    },
    "slideshow": {
     "slide_type": ""
    },
    "tags": []
   },
   "source": [
    "## Commenters across repositories\n",
    "\n",
    "These are commenters across all issues and pull requests in the last several days.\n",
    "These are colored by the commenter's association with the organization. For information\n",
    "about what these associations mean, [see this StackOverflow post](https://stackoverflow.com/a/28866914/1927102)."
   ]
  },
  {
   "cell_type": "code",
   "execution_count": 23,
   "id": "69507490",
   "metadata": {
    "editable": true,
    "execution": {
     "iopub.execute_input": "2025-05-19T01:31:15.022017Z",
     "iopub.status.busy": "2025-05-19T01:31:15.021504Z",
     "iopub.status.idle": "2025-05-19T01:31:15.035028Z",
     "shell.execute_reply": "2025-05-19T01:31:15.034286Z"
    },
    "papermill": {
     "duration": 0.033176,
     "end_time": "2025-05-19T01:31:15.036287",
     "exception": false,
     "start_time": "2025-05-19T01:31:15.003111",
     "status": "completed"
    },
    "slideshow": {
     "slide_type": ""
    },
    "tags": [
     "remove_cell"
    ]
   },
   "outputs": [],
   "source": [
    "commentors = (\n",
    "    comments\n",
    "    .query(\"created_at > @start_date and created_at < @stop_date\")\n",
    "    .groupby(['org', 'repo', 'login', 'author_association'])\n",
    "    .count().rename(columns={'id_issue': 'count'})['count']\n",
    "    .reset_index()\n",
    "    .sort_values(['org', 'count'], ascending=False)\n",
    ")"
   ]
  },
  {
   "cell_type": "code",
   "execution_count": 24,
   "id": "d40edaeb",
   "metadata": {
    "editable": true,
    "execution": {
     "iopub.execute_input": "2025-05-19T01:31:15.074524Z",
     "iopub.status.busy": "2025-05-19T01:31:15.074030Z",
     "iopub.status.idle": "2025-05-19T01:31:15.102376Z",
     "shell.execute_reply": "2025-05-19T01:31:15.101653Z"
    },
    "papermill": {
     "duration": 0.048981,
     "end_time": "2025-05-19T01:31:15.103496",
     "exception": false,
     "start_time": "2025-05-19T01:31:15.054515",
     "status": "completed"
    },
    "slideshow": {
     "slide_type": ""
    },
    "tags": [
     "hide_input"
    ]
   },
   "outputs": [
    {
     "data": {
      "text/html": [
       "\n",
       "<style>\n",
       "  #altair-viz-ae288887214a4dae8a0a15ef1f4ba4fc.vega-embed {\n",
       "    width: 100%;\n",
       "    display: flex;\n",
       "  }\n",
       "\n",
       "  #altair-viz-ae288887214a4dae8a0a15ef1f4ba4fc.vega-embed details,\n",
       "  #altair-viz-ae288887214a4dae8a0a15ef1f4ba4fc.vega-embed details summary {\n",
       "    position: relative;\n",
       "  }\n",
       "</style>\n",
       "<div id=\"altair-viz-ae288887214a4dae8a0a15ef1f4ba4fc\"></div>\n",
       "<script type=\"text/javascript\">\n",
       "  var VEGA_DEBUG = (typeof VEGA_DEBUG == \"undefined\") ? {} : VEGA_DEBUG;\n",
       "  (function(spec, embedOpt){\n",
       "    let outputDiv = document.currentScript.previousElementSibling;\n",
       "    if (outputDiv.id !== \"altair-viz-ae288887214a4dae8a0a15ef1f4ba4fc\") {\n",
       "      outputDiv = document.getElementById(\"altair-viz-ae288887214a4dae8a0a15ef1f4ba4fc\");\n",
       "    }\n",
       "\n",
       "    const paths = {\n",
       "      \"vega\": \"https://cdn.jsdelivr.net/npm/vega@5?noext\",\n",
       "      \"vega-lib\": \"https://cdn.jsdelivr.net/npm/vega-lib?noext\",\n",
       "      \"vega-lite\": \"https://cdn.jsdelivr.net/npm/vega-lite@5.20.1?noext\",\n",
       "      \"vega-embed\": \"https://cdn.jsdelivr.net/npm/vega-embed@6?noext\",\n",
       "    };\n",
       "\n",
       "    function maybeLoadScript(lib, version) {\n",
       "      var key = `${lib.replace(\"-\", \"\")}_version`;\n",
       "      return (VEGA_DEBUG[key] == version) ?\n",
       "        Promise.resolve(paths[lib]) :\n",
       "        new Promise(function(resolve, reject) {\n",
       "          var s = document.createElement('script');\n",
       "          document.getElementsByTagName(\"head\")[0].appendChild(s);\n",
       "          s.async = true;\n",
       "          s.onload = () => {\n",
       "            VEGA_DEBUG[key] = version;\n",
       "            return resolve(paths[lib]);\n",
       "          };\n",
       "          s.onerror = () => reject(`Error loading script: ${paths[lib]}`);\n",
       "          s.src = paths[lib];\n",
       "        });\n",
       "    }\n",
       "\n",
       "    function showError(err) {\n",
       "      outputDiv.innerHTML = `<div class=\"error\" style=\"color:red;\">${err}</div>`;\n",
       "      throw err;\n",
       "    }\n",
       "\n",
       "    function displayChart(vegaEmbed) {\n",
       "      vegaEmbed(outputDiv, spec, embedOpt)\n",
       "        .catch(err => showError(`Javascript Error: ${err.message}<br>This usually means there's a typo in your chart specification. See the javascript console for the full traceback.`));\n",
       "    }\n",
       "\n",
       "    if(typeof define === \"function\" && define.amd) {\n",
       "      requirejs.config({paths});\n",
       "      let deps = [\"vega-embed\"];\n",
       "      require(deps, displayChart, err => showError(`Error loading script: ${err.message}`));\n",
       "    } else {\n",
       "      maybeLoadScript(\"vega\", \"5\")\n",
       "        .then(() => maybeLoadScript(\"vega-lite\", \"5.20.1\"))\n",
       "        .then(() => maybeLoadScript(\"vega-embed\", \"6\"))\n",
       "        .catch(showError)\n",
       "        .then(() => displayChart(vegaEmbed));\n",
       "    }\n",
       "  })({\"config\": {\"axisLeft\": {\"labelFontSize\": 15}, \"axisBottom\": {\"labelFontSize\": 15}}, \"hconcat\": [{\"mark\": {\"type\": \"bar\"}, \"encoding\": {\"color\": {\"field\": \"author_association\", \"scale\": {\"domain\": [\"MEMBER\", \"CONTRIBUTOR\", \"COLLABORATOR\", \"NONE\"], \"range\": [\"rgb(211.82745098039214, 211.82745098039214, 211.82745098039214)\", \"rgb(166.98562091503268, 229.89803921568628, 166.98562091503268)\", \"rgb(96.37647058823529, 192.75294117647059, 96.37647058823529)\", \"rgb(0.0, 100.3921568627451, 0.0)\"]}, \"type\": \"nominal\"}, \"x\": {\"field\": \"login\", \"type\": \"nominal\"}, \"y\": {\"field\": \"count\", \"type\": \"quantitative\"}}, \"title\": \"Top 50 commentors for ('jupyter-server',) in the last 90 days\"}], \"data\": {\"name\": \"data-5b52d9b31269a7e68b8712bfa0a8f067\"}, \"$schema\": \"https://vega.github.io/schema/vega-lite/v5.20.1.json\", \"datasets\": {\"data-5b52d9b31269a7e68b8712bfa0a8f067\": [{\"login\": \"Zsailer\", \"count\": 31, \"author_association\": \"MEMBER\"}, {\"login\": \"davidbrochart\", \"count\": 20, \"author_association\": \"NONE\"}, {\"login\": \"krassowski\", \"count\": 13, \"author_association\": \"COLLABORATOR\"}, {\"login\": \"andrii-i\", \"count\": 5, \"author_association\": \"COLLABORATOR\"}, {\"login\": \"lresende\", \"count\": 5, \"author_association\": \"MEMBER\"}, {\"login\": \"minrk\", \"count\": 5, \"author_association\": \"CONTRIBUTOR\"}, {\"login\": \"patilsanket48\", \"count\": 4, \"author_association\": \"NONE\"}, {\"login\": \"jtpio\", \"count\": 4, \"author_association\": \"MEMBER\"}, {\"login\": \"jhgoebbert\", \"count\": 3, \"author_association\": \"NONE\"}, {\"login\": \"Carreau\", \"count\": 3, \"author_association\": \"NONE\"}, {\"login\": \"Sieboldianus\", \"count\": 3, \"author_association\": \"NONE\"}, {\"login\": \"colinpalmer\", \"count\": 2, \"author_association\": \"NONE\"}, {\"login\": \"kjayan\", \"count\": 2, \"author_association\": \"CONTRIBUTOR\"}, {\"login\": \"demardefrozen10\", \"count\": 2, \"author_association\": \"NONE\"}, {\"login\": \"bollwyvl\", \"count\": 2, \"author_association\": \"CONTRIBUTOR\"}, {\"login\": \"anutosh491\", \"count\": 2, \"author_association\": \"NONE\"}, {\"login\": \"pranavkhandelwal\", \"count\": 2, \"author_association\": \"NONE\"}, {\"login\": \"ivanov\", \"count\": 2, \"author_association\": \"NONE\"}, {\"login\": \"fresende\", \"count\": 2, \"author_association\": \"CONTRIBUTOR\"}, {\"login\": \"jesuino\", \"count\": 2, \"author_association\": \"NONE\"}, {\"login\": \"JohanMabille\", \"count\": 2, \"author_association\": \"CONTRIBUTOR\"}, {\"login\": \"vsr2158\", \"count\": 2, \"author_association\": \"NONE\"}, {\"login\": \"mimikwang\", \"count\": 2, \"author_association\": \"NONE\"}, {\"login\": \"dlqqq\", \"count\": 2, \"author_association\": \"CONTRIBUTOR\"}, {\"login\": \"dmonad\", \"count\": 2, \"author_association\": \"NONE\"}, {\"login\": \"brichet\", \"count\": 1, \"author_association\": \"CONTRIBUTOR\"}, {\"login\": \"ctcjab\", \"count\": 1, \"author_association\": \"NONE\"}, {\"login\": \"consideRatio\", \"count\": 1, \"author_association\": \"NONE\"}, {\"login\": \"choldgraf\", \"count\": 1, \"author_association\": \"NONE\"}, {\"login\": \"RRosio\", \"count\": 1, \"author_association\": \"CONTRIBUTOR\"}, {\"login\": \"RohanGd\", \"count\": 1, \"author_association\": \"NONE\"}, {\"login\": \"ExpertLove\", \"count\": 1, \"author_association\": \"NONE\"}, {\"login\": \"Horusiath\", \"count\": 1, \"author_association\": \"NONE\"}, {\"login\": \"Bimbam360\", \"count\": 1, \"author_association\": \"NONE\"}, {\"login\": \"cben\", \"count\": 1, \"author_association\": \"NONE\"}, {\"login\": \"MattiasDC\", \"count\": 1, \"author_association\": \"NONE\"}, {\"login\": \"bloomsa\", \"count\": 1, \"author_association\": \"NONE\"}, {\"login\": \"danyeaw\", \"count\": 1, \"author_association\": \"NONE\"}, {\"login\": \"jayxie8\", \"count\": 1, \"author_association\": \"NONE\"}, {\"login\": \"fendwich\", \"count\": 1, \"author_association\": \"NONE\"}, {\"login\": \"fatihmete\", \"count\": 1, \"author_association\": \"NONE\"}, {\"login\": \"liuxiawei\", \"count\": 1, \"author_association\": \"NONE\"}, {\"login\": \"manics\", \"count\": 1, \"author_association\": \"NONE\"}, {\"login\": \"martenrichter\", \"count\": 1, \"author_association\": \"CONTRIBUTOR\"}, {\"login\": \"mahendrapaipuri\", \"count\": 1, \"author_association\": \"CONTRIBUTOR\"}, {\"login\": \"powerstar13\", \"count\": 1, \"author_association\": \"NONE\"}, {\"login\": \"paf91\", \"count\": 1, \"author_association\": \"NONE\"}, {\"login\": \"rolweber\", \"count\": 1, \"author_association\": \"CONTRIBUTOR\"}, {\"login\": \"rao23\", \"count\": 1, \"author_association\": \"NONE\"}, {\"login\": \"simonaubertbd\", \"count\": 1, \"author_association\": \"NONE\"}]}}, {\"mode\": \"vega-lite\"});\n",
       "</script>"
      ],
      "text/plain": [
       "alt.HConcatChart(...)"
      ]
     },
     "execution_count": 24,
     "metadata": {},
     "output_type": "execute_result"
    }
   ],
   "source": [
    "n_plot = 50\n",
    "charts = []\n",
    "for ii, (iorg, idata) in enumerate(commentors.groupby(['org'])):\n",
    "    title = f\"Top {n_plot} commentors for {iorg} in the last {n_days} days\"\n",
    "    idata = idata.groupby('login', as_index=False).agg({'count': 'sum', 'author_association': 'first'})\n",
    "    idata = idata.sort_values('count', ascending=False).head(n_plot)\n",
    "    ch = alt.Chart(data=idata.head(n_plot), title=title).mark_bar().encode(\n",
    "        x='login',\n",
    "        y='count',\n",
    "        color=alt.Color('author_association', scale=alt.Scale(domain=author_types, range=author_colors))\n",
    "    )\n",
    "    charts.append(ch)\n",
    "alt.hconcat(*charts)"
   ]
  },
  {
   "cell_type": "markdown",
   "id": "5b35a6de",
   "metadata": {
    "editable": true,
    "papermill": {
     "duration": 0.017516,
     "end_time": "2025-05-19T01:31:15.138724",
     "exception": false,
     "start_time": "2025-05-19T01:31:15.121208",
     "status": "completed"
    },
    "slideshow": {
     "slide_type": ""
    },
    "tags": []
   },
   "source": [
    "## First responders\n",
    "\n",
    "First responders are the first people to respond to a new issue in one of the repositories.\n",
    "The following plots show first responders for recently-created issues."
   ]
  },
  {
   "cell_type": "code",
   "execution_count": 25,
   "id": "e3c09a4e",
   "metadata": {
    "editable": true,
    "execution": {
     "iopub.execute_input": "2025-05-19T01:31:15.175553Z",
     "iopub.status.busy": "2025-05-19T01:31:15.175221Z",
     "iopub.status.idle": "2025-05-19T01:31:15.212124Z",
     "shell.execute_reply": "2025-05-19T01:31:15.211374Z"
    },
    "papermill": {
     "duration": 0.057359,
     "end_time": "2025-05-19T01:31:15.213650",
     "exception": false,
     "start_time": "2025-05-19T01:31:15.156291",
     "status": "completed"
    },
    "slideshow": {
     "slide_type": ""
    },
    "tags": [
     "remove_cell"
    ]
   },
   "outputs": [],
   "source": [
    "first_comments = []\n",
    "latest_comments = comments.query(\"created_at > @start_date\")\n",
    "for (org, repo, issue_id), i_comments in latest_comments.groupby(['org', 'repo', 'id_issue']):\n",
    "    ix_min = pd.to_datetime(i_comments['created_at']).idxmin()\n",
    "    first_comment = i_comments.loc[ix_min]\n",
    "    if isinstance(first_comment, pd.DataFrame):\n",
    "        first_comment = first_comment.iloc[0]\n",
    "    first_comments.append(first_comment)\n",
    "first_comments = pd.concat(first_comments, axis=1).T\n",
    "\n",
    "# Make up counts for viz\n",
    "first_responder_counts = first_comments.groupby(['org', 'login', 'author_association'], as_index=False).\\\n",
    "    count().rename(columns={'id_issue': 'n_first_responses'}).sort_values(['org', 'n_first_responses'], ascending=False)\n"
   ]
  },
  {
   "cell_type": "code",
   "execution_count": 26,
   "id": "c4c7f04b",
   "metadata": {
    "editable": true,
    "execution": {
     "iopub.execute_input": "2025-05-19T01:31:15.252764Z",
     "iopub.status.busy": "2025-05-19T01:31:15.252257Z",
     "iopub.status.idle": "2025-05-19T01:31:15.277163Z",
     "shell.execute_reply": "2025-05-19T01:31:15.276466Z"
    },
    "papermill": {
     "duration": 0.045856,
     "end_time": "2025-05-19T01:31:15.278311",
     "exception": false,
     "start_time": "2025-05-19T01:31:15.232455",
     "status": "completed"
    },
    "slideshow": {
     "slide_type": ""
    },
    "tags": [
     "hide_input"
    ]
   },
   "outputs": [
    {
     "data": {
      "text/html": [
       "\n",
       "<style>\n",
       "  #altair-viz-1bee6441b11c4c60a844318070d0975e.vega-embed {\n",
       "    width: 100%;\n",
       "    display: flex;\n",
       "  }\n",
       "\n",
       "  #altair-viz-1bee6441b11c4c60a844318070d0975e.vega-embed details,\n",
       "  #altair-viz-1bee6441b11c4c60a844318070d0975e.vega-embed details summary {\n",
       "    position: relative;\n",
       "  }\n",
       "</style>\n",
       "<div id=\"altair-viz-1bee6441b11c4c60a844318070d0975e\"></div>\n",
       "<script type=\"text/javascript\">\n",
       "  var VEGA_DEBUG = (typeof VEGA_DEBUG == \"undefined\") ? {} : VEGA_DEBUG;\n",
       "  (function(spec, embedOpt){\n",
       "    let outputDiv = document.currentScript.previousElementSibling;\n",
       "    if (outputDiv.id !== \"altair-viz-1bee6441b11c4c60a844318070d0975e\") {\n",
       "      outputDiv = document.getElementById(\"altair-viz-1bee6441b11c4c60a844318070d0975e\");\n",
       "    }\n",
       "\n",
       "    const paths = {\n",
       "      \"vega\": \"https://cdn.jsdelivr.net/npm/vega@5?noext\",\n",
       "      \"vega-lib\": \"https://cdn.jsdelivr.net/npm/vega-lib?noext\",\n",
       "      \"vega-lite\": \"https://cdn.jsdelivr.net/npm/vega-lite@5.20.1?noext\",\n",
       "      \"vega-embed\": \"https://cdn.jsdelivr.net/npm/vega-embed@6?noext\",\n",
       "    };\n",
       "\n",
       "    function maybeLoadScript(lib, version) {\n",
       "      var key = `${lib.replace(\"-\", \"\")}_version`;\n",
       "      return (VEGA_DEBUG[key] == version) ?\n",
       "        Promise.resolve(paths[lib]) :\n",
       "        new Promise(function(resolve, reject) {\n",
       "          var s = document.createElement('script');\n",
       "          document.getElementsByTagName(\"head\")[0].appendChild(s);\n",
       "          s.async = true;\n",
       "          s.onload = () => {\n",
       "            VEGA_DEBUG[key] = version;\n",
       "            return resolve(paths[lib]);\n",
       "          };\n",
       "          s.onerror = () => reject(`Error loading script: ${paths[lib]}`);\n",
       "          s.src = paths[lib];\n",
       "        });\n",
       "    }\n",
       "\n",
       "    function showError(err) {\n",
       "      outputDiv.innerHTML = `<div class=\"error\" style=\"color:red;\">${err}</div>`;\n",
       "      throw err;\n",
       "    }\n",
       "\n",
       "    function displayChart(vegaEmbed) {\n",
       "      vegaEmbed(outputDiv, spec, embedOpt)\n",
       "        .catch(err => showError(`Javascript Error: ${err.message}<br>This usually means there's a typo in your chart specification. See the javascript console for the full traceback.`));\n",
       "    }\n",
       "\n",
       "    if(typeof define === \"function\" && define.amd) {\n",
       "      requirejs.config({paths});\n",
       "      let deps = [\"vega-embed\"];\n",
       "      require(deps, displayChart, err => showError(`Error loading script: ${err.message}`));\n",
       "    } else {\n",
       "      maybeLoadScript(\"vega\", \"5\")\n",
       "        .then(() => maybeLoadScript(\"vega-lite\", \"5.20.1\"))\n",
       "        .then(() => maybeLoadScript(\"vega-embed\", \"6\"))\n",
       "        .catch(showError)\n",
       "        .then(() => displayChart(vegaEmbed));\n",
       "    }\n",
       "  })({\"config\": {\"axisLeft\": {\"labelFontSize\": 15}, \"axisBottom\": {\"labelFontSize\": 15}}, \"data\": {\"name\": \"data-c6aee22e7c2a76f1bbb0890ae2fc6add\"}, \"mark\": {\"type\": \"bar\"}, \"encoding\": {\"color\": {\"field\": \"author_association\", \"scale\": {\"domain\": [\"MEMBER\", \"CONTRIBUTOR\", \"COLLABORATOR\", \"NONE\"], \"range\": [\"rgb(211.82745098039214, 211.82745098039214, 211.82745098039214)\", \"rgb(166.98562091503268, 229.89803921568628, 166.98562091503268)\", \"rgb(96.37647058823529, 192.75294117647059, 96.37647058823529)\", \"rgb(0.0, 100.3921568627451, 0.0)\"]}, \"type\": \"nominal\"}, \"x\": {\"field\": \"login\", \"type\": \"nominal\"}, \"y\": {\"field\": \"n_first_responses\", \"type\": \"quantitative\"}}, \"title\": \"Top 50 first responders for jupyter-server in the last 90 days\", \"$schema\": \"https://vega.github.io/schema/vega-lite/v5.20.1.json\", \"datasets\": {\"data-c6aee22e7c2a76f1bbb0890ae2fc6add\": [{\"login\": \"Zsailer\", \"n_first_responses\": 7, \"author_association\": \"MEMBER\"}, {\"login\": \"davidbrochart\", \"n_first_responses\": 5, \"author_association\": \"COLLABORATOR\"}, {\"login\": \"andrii-i\", \"n_first_responses\": 4, \"author_association\": \"COLLABORATOR\"}, {\"login\": \"krassowski\", \"n_first_responses\": 3, \"author_association\": \"COLLABORATOR\"}, {\"login\": \"minrk\", \"n_first_responses\": 3, \"author_association\": \"CONTRIBUTOR\"}, {\"login\": \"jtpio\", \"n_first_responses\": 2, \"author_association\": \"MEMBER\"}, {\"login\": \"bollwyvl\", \"n_first_responses\": 2, \"author_association\": \"CONTRIBUTOR\"}, {\"login\": \"MattiasDC\", \"n_first_responses\": 1, \"author_association\": \"NONE\"}, {\"login\": \"Carreau\", \"n_first_responses\": 1, \"author_association\": \"NONE\"}, {\"login\": \"Bimbam360\", \"n_first_responses\": 1, \"author_association\": \"NONE\"}, {\"login\": \"JohanMabille\", \"n_first_responses\": 1, \"author_association\": \"CONTRIBUTOR\"}, {\"login\": \"ExpertLove\", \"n_first_responses\": 1, \"author_association\": \"NONE\"}, {\"login\": \"RohanGd\", \"n_first_responses\": 1, \"author_association\": \"NONE\"}, {\"login\": \"consideRatio\", \"n_first_responses\": 1, \"author_association\": \"NONE\"}, {\"login\": \"cben\", \"n_first_responses\": 1, \"author_association\": \"NONE\"}, {\"login\": \"bloomsa\", \"n_first_responses\": 1, \"author_association\": \"NONE\"}, {\"login\": \"ctcjab\", \"n_first_responses\": 1, \"author_association\": \"NONE\"}, {\"login\": \"fendwich\", \"n_first_responses\": 1, \"author_association\": \"NONE\"}, {\"login\": \"dlqqq\", \"n_first_responses\": 1, \"author_association\": \"CONTRIBUTOR\"}, {\"login\": \"jhgoebbert\", \"n_first_responses\": 1, \"author_association\": \"NONE\"}, {\"login\": \"Sieboldianus\", \"n_first_responses\": 1, \"author_association\": \"NONE\"}, {\"login\": \"fresende\", \"n_first_responses\": 1, \"author_association\": \"CONTRIBUTOR\"}, {\"login\": \"liuxiawei\", \"n_first_responses\": 1, \"author_association\": \"NONE\"}, {\"login\": \"mahendrapaipuri\", \"n_first_responses\": 1, \"author_association\": \"CONTRIBUTOR\"}, {\"login\": \"lresende\", \"n_first_responses\": 1, \"author_association\": \"MEMBER\"}, {\"login\": \"martenrichter\", \"n_first_responses\": 1, \"author_association\": \"CONTRIBUTOR\"}, {\"login\": \"mimikwang\", \"n_first_responses\": 1, \"author_association\": \"NONE\"}, {\"login\": \"paf91\", \"n_first_responses\": 1, \"author_association\": \"NONE\"}, {\"login\": \"patilsanket48\", \"n_first_responses\": 1, \"author_association\": \"NONE\"}, {\"login\": \"powerstar13\", \"n_first_responses\": 1, \"author_association\": \"NONE\"}, {\"login\": \"pranavkhandelwal\", \"n_first_responses\": 1, \"author_association\": \"NONE\"}, {\"login\": \"rao23\", \"n_first_responses\": 1, \"author_association\": \"NONE\"}, {\"login\": \"rolweber\", \"n_first_responses\": 1, \"author_association\": \"CONTRIBUTOR\"}, {\"login\": \"simonaubertbd\", \"n_first_responses\": 1, \"author_association\": \"NONE\"}, {\"login\": \"skapin\", \"n_first_responses\": 1, \"author_association\": \"NONE\"}, {\"login\": \"vidartf\", \"n_first_responses\": 1, \"author_association\": \"MEMBER\"}, {\"login\": \"xiaoguazh\", \"n_first_responses\": 1, \"author_association\": \"NONE\"}]}}, {\"mode\": \"vega-lite\"});\n",
       "</script>"
      ],
      "text/plain": [
       "alt.Chart(...)"
      ]
     },
     "execution_count": 26,
     "metadata": {},
     "output_type": "execute_result"
    }
   ],
   "source": [
    "n_plot = 50\n",
    "\n",
    "title = f\"Top {n_plot} first responders for {github_org} in the last {n_days} days\"\n",
    "idata = first_responder_counts.groupby('login', as_index=False).agg({'n_first_responses': 'sum', 'author_association': 'first'})\n",
    "idata = idata.sort_values('n_first_responses', ascending=False).head(n_plot)\n",
    "ch = alt.Chart(data=idata.head(n_plot), title=title).mark_bar().encode(\n",
    "    x='login',\n",
    "    y='n_first_responses',\n",
    "    color=alt.Color('author_association', scale=alt.Scale(domain=author_types, range=author_colors))\n",
    ")\n",
    "ch"
   ]
  },
  {
   "cell_type": "markdown",
   "id": "7514ffc8",
   "metadata": {
    "editable": true,
    "papermill": {
     "duration": 0.017499,
     "end_time": "2025-05-19T01:31:15.313629",
     "exception": false,
     "start_time": "2025-05-19T01:31:15.296130",
     "status": "completed"
    },
    "slideshow": {
     "slide_type": ""
    },
    "tags": []
   },
   "source": [
    "## Recent activity\n",
    "\n",
    "### A list of merged PRs by project\n",
    "\n",
    "Below is a tabbed readout of recently-merged PRs. Check out the title to get an idea for what they\n",
    "implemented, and be sure to thank the PR author for their hard work!"
   ]
  },
  {
   "cell_type": "code",
   "execution_count": 27,
   "id": "e73bfa29",
   "metadata": {
    "editable": true,
    "execution": {
     "iopub.execute_input": "2025-05-19T01:31:15.349455Z",
     "iopub.status.busy": "2025-05-19T01:31:15.348958Z",
     "iopub.status.idle": "2025-05-19T01:31:15.432395Z",
     "shell.execute_reply": "2025-05-19T01:31:15.431639Z"
    },
    "papermill": {
     "duration": 0.107959,
     "end_time": "2025-05-19T01:31:15.438860",
     "exception": false,
     "start_time": "2025-05-19T01:31:15.330901",
     "status": "completed"
    },
    "slideshow": {
     "slide_type": ""
    },
    "tags": [
     "hide_input"
    ]
   },
   "outputs": [
    {
     "data": {
      "application/vnd.jupyter.widget-view+json": {
       "model_id": "90e648b03a72402092e9eefa896e98ce",
       "version_major": 2,
       "version_minor": 0
      },
      "text/plain": [
       "Tab(children=(HTML(value='<h4>Closed PRs for repo: <a href=\"https://github.com/jupyter-server/fps\">jupyter-ser…"
      ]
     },
     "execution_count": 27,
     "metadata": {},
     "output_type": "execute_result"
    }
   ],
   "source": [
    "tabs = widgets.Tab(children=[])\n",
    "\n",
    "for ii, ((org, repo), imerged) in enumerate(merged.query(\"repo in @use_repos\").groupby(['org', 'repo'])):\n",
    "    merged_by = {}\n",
    "    pr_by = {}\n",
    "    issue_md = []\n",
    "    issue_md.append(f\"#### Closed PRs for repo: [{org}/{repo}](https://github.com/{github_org}/{repo})\")\n",
    "    issue_md.append(\"\")\n",
    "    issue_md.append(f\"##### \")\n",
    "\n",
    "    for _, ipr in imerged.iterrows():\n",
    "        user_name = ipr['login']\n",
    "        user_url = author_url(user_name)\n",
    "        pr_number = ipr['number']\n",
    "        pr_html = ipr['url']\n",
    "        pr_title = ipr['title']\n",
    "        pr_closedby = ipr['merged_by']\n",
    "        pr_closedby_url = f\"https://github.com/{pr_closedby}\"\n",
    "        if user_name not in pr_by:\n",
    "            pr_by[user_name] = 1\n",
    "        else:\n",
    "            pr_by[user_name] += 1\n",
    "\n",
    "        if pr_closedby not in merged_by:\n",
    "            merged_by[pr_closedby] = 1\n",
    "        else:\n",
    "            merged_by[pr_closedby] += 1\n",
    "        text = f\"* [(#{pr_number})]({pr_html}): _{pr_title}_ by **[@{user_name}]({user_url})** merged by **[@{pr_closedby}]({pr_closedby_url})**\"\n",
    "        issue_md.append(text)\n",
    "    \n",
    "    issue_md.append('')\n",
    "    markdown_html = markdown('\\n'.join(issue_md))\n",
    "\n",
    "    children = list(tabs.children)\n",
    "    children.append(HTML(markdown_html))\n",
    "    tabs.children = tuple(children)\n",
    "    tabs.set_title(ii, repo)\n",
    "tabs"
   ]
  },
  {
   "cell_type": "markdown",
   "id": "c2e0bf74",
   "metadata": {
    "editable": true,
    "papermill": {
     "duration": 0.017835,
     "end_time": "2025-05-19T01:31:15.475017",
     "exception": false,
     "start_time": "2025-05-19T01:31:15.457182",
     "status": "completed"
    },
    "slideshow": {
     "slide_type": ""
    },
    "tags": []
   },
   "source": [
    "### A list of recent issues\n",
    "\n",
    "Below is a list of issues with recent activity in each repository. If they seem of interest\n",
    "to you, click on their links and jump in to participate!"
   ]
  },
  {
   "cell_type": "code",
   "execution_count": 28,
   "id": "cd2d4b0b",
   "metadata": {
    "editable": true,
    "execution": {
     "iopub.execute_input": "2025-05-19T01:31:15.510867Z",
     "iopub.status.busy": "2025-05-19T01:31:15.510242Z",
     "iopub.status.idle": "2025-05-19T01:31:15.521526Z",
     "shell.execute_reply": "2025-05-19T01:31:15.520811Z"
    },
    "papermill": {
     "duration": 0.030913,
     "end_time": "2025-05-19T01:31:15.522900",
     "exception": false,
     "start_time": "2025-05-19T01:31:15.491987",
     "status": "completed"
    },
    "slideshow": {
     "slide_type": ""
    },
    "tags": [
     "remove_cell"
    ]
   },
   "outputs": [],
   "source": [
    "# Add comment count data to issues and PRs\n",
    "comment_counts = (\n",
    "    comments\n",
    "    .query(\"created_at > @start_date and created_at < @stop_date\")\n",
    "    .groupby(['org', 'repo', 'id_issue'])\n",
    "    .count().iloc[:, 0].to_frame()\n",
    ")\n",
    "comment_counts.columns = ['n_comments']\n",
    "comment_counts = comment_counts.reset_index()"
   ]
  },
  {
   "cell_type": "code",
   "execution_count": 29,
   "id": "58d3a622",
   "metadata": {
    "editable": true,
    "execution": {
     "iopub.execute_input": "2025-05-19T01:31:15.558458Z",
     "iopub.status.busy": "2025-05-19T01:31:15.557989Z",
     "iopub.status.idle": "2025-05-19T01:31:15.679378Z",
     "shell.execute_reply": "2025-05-19T01:31:15.678526Z"
    },
    "papermill": {
     "duration": 0.143633,
     "end_time": "2025-05-19T01:31:15.683948",
     "exception": false,
     "start_time": "2025-05-19T01:31:15.540315",
     "status": "completed"
    },
    "slideshow": {
     "slide_type": ""
    },
    "tags": [
     "hide_input"
    ],
    "toc-hr-collapsed": false
   },
   "outputs": [
    {
     "data": {
      "text/markdown": [
       "Here are the top 5 active issues in each repository in the last 90 days"
      ],
      "text/plain": [
       "<IPython.core.display.Markdown object>"
      ]
     },
     "metadata": {},
     "output_type": "display_data"
    },
    {
     "data": {
      "application/vnd.jupyter.widget-view+json": {
       "model_id": "42dee1328d11478691ab60fee4573b35",
       "version_major": 2,
       "version_minor": 0
      },
      "text/plain": [
       "Tab(children=(HTML(value='<h5><a href=\"https://github.com/jupyter-server/enterprise_gateway\">jupyter-server/en…"
      ]
     },
     "metadata": {},
     "output_type": "display_data"
    }
   ],
   "source": [
    "n_plot = 5\n",
    "tabs = widgets.Tab(children=[])\n",
    "\n",
    "for ii, (repo, i_issues) in enumerate(comment_counts.query(\"repo in @use_repos\").groupby('repo')):\n",
    "    \n",
    "    issue_md = []\n",
    "    issue_md.append(\"\")\n",
    "    issue_md.append(f\"##### [{github_org}/{repo}](https://github.com/{github_org}/{repo})\")\n",
    "\n",
    "    top_issues = i_issues.sort_values('n_comments', ascending=False).head(n_plot)\n",
    "    top_issue_list = pd.merge(issues, top_issues, left_on=['org', 'repo', 'id_issue'], right_on=['org', 'repo', 'id_issue'])\n",
    "    for _, issue in top_issue_list.sort_values('n_comments', ascending=False).head(n_plot).iterrows():\n",
    "        user_name = issue['login']\n",
    "        user_url = author_url(user_name)\n",
    "        issue_number = issue['number']\n",
    "        issue_html = issue['url']\n",
    "        issue_title = issue['title']\n",
    "\n",
    "        text = f\"* [(#{issue_number})]({issue_html}): _{issue_title}_ by **[@{user_name}]({user_url})**\"\n",
    "        issue_md.append(text)\n",
    "\n",
    "    issue_md.append('')\n",
    "    md_html = HTML(markdown('\\n'.join(issue_md)))\n",
    "\n",
    "    children = list(tabs.children)\n",
    "    children.append(HTML(markdown('\\n'.join(issue_md))))\n",
    "    tabs.children = tuple(children)\n",
    "    tabs.set_title(ii, repo)\n",
    "    \n",
    "display(Markdown(f\"Here are the top {n_plot} active issues in each repository in the last {n_days} days\"))\n",
    "display(tabs)"
   ]
  }
 ],
 "metadata": {
  "kernelspec": {
   "display_name": "Python 3 (ipykernel)",
   "language": "python",
   "name": "python3"
  },
  "language_info": {
   "codemirror_mode": {
    "name": "ipython",
    "version": 3
   },
   "file_extension": ".py",
   "mimetype": "text/x-python",
   "name": "python",
   "nbconvert_exporter": "python",
   "pygments_lexer": "ipython3",
   "version": "3.9.22"
  },
  "papermill": {
   "default_parameters": {},
   "duration": 4.306783,
   "end_time": "2025-05-19T01:31:16.020850",
   "environment_variables": {},
   "exception": null,
   "input_path": "./templates/org_report.ipynb",
   "output_path": "generated/book/jupyter-server.ipynb",
   "parameters": {
    "github_org": "jupyter-server",
    "n_days": 90
   },
   "start_time": "2025-05-19T01:31:11.714067",
   "version": "2.6.0"
  },
  "widgets": {
   "application/vnd.jupyter.widget-state+json": {
    "state": {
     "01b25d7b8a064ff79af810cc9a1de1e0": {
      "model_module": "@jupyter-widgets/base",
      "model_module_version": "2.0.0",
      "model_name": "LayoutModel",
      "state": {
       "_model_module": "@jupyter-widgets/base",
       "_model_module_version": "2.0.0",
       "_model_name": "LayoutModel",
       "_view_count": null,
       "_view_module": "@jupyter-widgets/base",
       "_view_module_version": "2.0.0",
       "_view_name": "LayoutView",
       "align_content": null,
       "align_items": null,
       "align_self": null,
       "border_bottom": null,
       "border_left": null,
       "border_right": null,
       "border_top": null,
       "bottom": null,
       "display": null,
       "flex": null,
       "flex_flow": null,
       "grid_area": null,
       "grid_auto_columns": null,
       "grid_auto_flow": null,
       "grid_auto_rows": null,
       "grid_column": null,
       "grid_gap": null,
       "grid_row": null,
       "grid_template_areas": null,
       "grid_template_columns": null,
       "grid_template_rows": null,
       "height": null,
       "justify_content": null,
       "justify_items": null,
       "left": null,
       "margin": null,
       "max_height": null,
       "max_width": null,
       "min_height": null,
       "min_width": null,
       "object_fit": null,
       "object_position": null,
       "order": null,
       "overflow": null,
       "padding": null,
       "right": null,
       "top": null,
       "visibility": null,
       "width": null
      }
     },
     "03468267f76c4a04a8f6d55155349657": {
      "model_module": "@jupyter-widgets/controls",
      "model_module_version": "2.0.0",
      "model_name": "HTMLModel",
      "state": {
       "_dom_classes": [],
       "_model_module": "@jupyter-widgets/controls",
       "_model_module_version": "2.0.0",
       "_model_name": "HTMLModel",
       "_view_count": null,
       "_view_module": "@jupyter-widgets/controls",
       "_view_module_version": "2.0.0",
       "_view_name": "HTMLView",
       "description": "",
       "description_allow_html": false,
       "layout": "IPY_MODEL_164e45d159de4df5a9dad411eec52875",
       "placeholder": "​",
       "style": "IPY_MODEL_4a160a29f11c402084d2316d80dde981",
       "tabbable": null,
       "tooltip": null,
       "value": "<h4>Closed PRs for repo: <a href=\"https://github.com/jupyter-server/jupyter_server\">jupyter-server/jupyter_server</a></h4>\n<h5></h5>\n<ul>\n<li><a href=\"https://github.com/jupyter-server/jupyter_server/issues/1494\">(#1494)</a>: <em>display_url: Don't duplicate public_url and local_url if they are the same</em> by <strong><a href=\"https://github.com/manics\">@manics</a></strong> merged by <strong><a href=\"https://github.com/Zsailer\">@Zsailer</a></strong></li>\n<li><a href=\"https://github.com/jupyter-server/jupyter_server/issues/1499\">(#1499)</a>: <em>Update Contribution Page for Jupyter Server</em> by <strong><a href=\"https://github.com/kjayan\">@kjayan</a></strong> merged by <strong><a href=\"https://github.com/vidartf\">@vidartf</a></strong></li>\n<li><a href=\"https://github.com/jupyter-server/jupyter_server/issues/1500\">(#1500)</a>: <em>Fix for #1479 : Incorrect usage of i18n format</em> by <strong><a href=\"https://github.com/kjayan\">@kjayan</a></strong> merged by <strong><a href=\"https://github.com/vidartf\">@vidartf</a></strong></li>\n<li><a href=\"https://github.com/jupyter-server/jupyter_server/issues/1505\">(#1505)</a>: <em>Update Security Section in the Jupyter Server Documentation</em> by <strong><a href=\"https://github.com/kjayan\">@kjayan</a></strong> merged by <strong><a href=\"https://github.com/Zsailer\">@Zsailer</a></strong></li>\n<li><a href=\"https://github.com/jupyter-server/jupyter_server/issues/1508\">(#1508)</a>: <em>Update websocket-protocols documentation to reflect implementation</em> by <strong><a href=\"https://github.com/ark-1\">@ark-1</a></strong> merged by <strong><a href=\"https://github.com/Zsailer\">@Zsailer</a></strong></li>\n<li><a href=\"https://github.com/jupyter-server/jupyter_server/issues/1509\">(#1509)</a>: _ Validate extension name before toggling through CLI_ by <strong><a href=\"https://github.com/Darshan808\">@Darshan808</a></strong> merged by <strong><a href=\"https://github.com/afshin\">@afshin</a></strong></li>\n<li><a href=\"https://github.com/jupyter-server/jupyter_server/issues/1510\">(#1510)</a>: <em>tests: install test-functional requirements for Jupytext downstream tests</em> by <strong><a href=\"https://github.com/MaicoTimmerman\">@MaicoTimmerman</a></strong> merged by <strong><a href=\"https://github.com/Zsailer\">@Zsailer</a></strong></li>\n<li><a href=\"https://github.com/jupyter-server/jupyter_server/issues/1513\">(#1513)</a>: <em>Check file permissions before making tmp file</em> by <strong><a href=\"https://github.com/RRosio\">@RRosio</a></strong> merged by <strong><a href=\"https://github.com/afshin\">@afshin</a></strong></li>\n<li><a href=\"https://github.com/jupyter-server/jupyter_server/issues/1516\">(#1516)</a>: <em>Fallback to direct write for readonly dirs and use temp path for checkpoints</em> by <strong><a href=\"https://github.com/Darshan808\">@Darshan808</a></strong> merged by <strong><a href=\"https://github.com/afshin\">@afshin</a></strong></li>\n<li><a href=\"https://github.com/jupyter-server/jupyter_server/issues/1517\">(#1517)</a>: <em>Update meetings notes link and zoom link</em> by <strong><a href=\"https://github.com/krassowski\">@krassowski</a></strong> merged by <strong><a href=\"https://github.com/minrk\">@minrk</a></strong></li>\n<li><a href=\"https://github.com/jupyter-server/jupyter_server/issues/1522\">(#1522)</a>: <em>Turn ExtensionPoint class into a LoggingConfigurable to enable logging</em> by <strong><a href=\"https://github.com/Zsailer\">@Zsailer</a></strong> merged by <strong><a href=\"https://github.com/Zsailer\">@Zsailer</a></strong></li>\n</ul>"
      }
     },
     "036126c8cdee41bcb1c74c34029862de": {
      "model_module": "@jupyter-widgets/controls",
      "model_module_version": "2.0.0",
      "model_name": "HTMLStyleModel",
      "state": {
       "_model_module": "@jupyter-widgets/controls",
       "_model_module_version": "2.0.0",
       "_model_name": "HTMLStyleModel",
       "_view_count": null,
       "_view_module": "@jupyter-widgets/base",
       "_view_module_version": "2.0.0",
       "_view_name": "StyleView",
       "background": null,
       "description_width": "",
       "font_size": null,
       "text_color": null
      }
     },
     "040694472216489c86389444ce8ba76c": {
      "model_module": "@jupyter-widgets/base",
      "model_module_version": "2.0.0",
      "model_name": "LayoutModel",
      "state": {
       "_model_module": "@jupyter-widgets/base",
       "_model_module_version": "2.0.0",
       "_model_name": "LayoutModel",
       "_view_count": null,
       "_view_module": "@jupyter-widgets/base",
       "_view_module_version": "2.0.0",
       "_view_name": "LayoutView",
       "align_content": null,
       "align_items": null,
       "align_self": null,
       "border_bottom": null,
       "border_left": null,
       "border_right": null,
       "border_top": null,
       "bottom": null,
       "display": null,
       "flex": null,
       "flex_flow": null,
       "grid_area": null,
       "grid_auto_columns": null,
       "grid_auto_flow": null,
       "grid_auto_rows": null,
       "grid_column": null,
       "grid_gap": null,
       "grid_row": null,
       "grid_template_areas": null,
       "grid_template_columns": null,
       "grid_template_rows": null,
       "height": null,
       "justify_content": null,
       "justify_items": null,
       "left": null,
       "margin": null,
       "max_height": null,
       "max_width": null,
       "min_height": null,
       "min_width": null,
       "object_fit": null,
       "object_position": null,
       "order": null,
       "overflow": null,
       "padding": null,
       "right": null,
       "top": null,
       "visibility": null,
       "width": null
      }
     },
     "0a0dc33e1e714253bdd83bda49a4e575": {
      "model_module": "@jupyter-widgets/controls",
      "model_module_version": "2.0.0",
      "model_name": "HTMLStyleModel",
      "state": {
       "_model_module": "@jupyter-widgets/controls",
       "_model_module_version": "2.0.0",
       "_model_name": "HTMLStyleModel",
       "_view_count": null,
       "_view_module": "@jupyter-widgets/base",
       "_view_module_version": "2.0.0",
       "_view_name": "StyleView",
       "background": null,
       "description_width": "",
       "font_size": null,
       "text_color": null
      }
     },
     "0a25b5ce3475423b9ef065735efa5fbd": {
      "model_module": "@jupyter-widgets/base",
      "model_module_version": "2.0.0",
      "model_name": "LayoutModel",
      "state": {
       "_model_module": "@jupyter-widgets/base",
       "_model_module_version": "2.0.0",
       "_model_name": "LayoutModel",
       "_view_count": null,
       "_view_module": "@jupyter-widgets/base",
       "_view_module_version": "2.0.0",
       "_view_name": "LayoutView",
       "align_content": null,
       "align_items": null,
       "align_self": null,
       "border_bottom": null,
       "border_left": null,
       "border_right": null,
       "border_top": null,
       "bottom": null,
       "display": null,
       "flex": null,
       "flex_flow": null,
       "grid_area": null,
       "grid_auto_columns": null,
       "grid_auto_flow": null,
       "grid_auto_rows": null,
       "grid_column": null,
       "grid_gap": null,
       "grid_row": null,
       "grid_template_areas": null,
       "grid_template_columns": null,
       "grid_template_rows": null,
       "height": null,
       "justify_content": null,
       "justify_items": null,
       "left": null,
       "margin": null,
       "max_height": null,
       "max_width": null,
       "min_height": null,
       "min_width": null,
       "object_fit": null,
       "object_position": null,
       "order": null,
       "overflow": null,
       "padding": null,
       "right": null,
       "top": null,
       "visibility": null,
       "width": null
      }
     },
     "0b12ca2e71cc4ca08b90eac34a256a14": {
      "model_module": "@jupyter-widgets/controls",
      "model_module_version": "2.0.0",
      "model_name": "HTMLStyleModel",
      "state": {
       "_model_module": "@jupyter-widgets/controls",
       "_model_module_version": "2.0.0",
       "_model_name": "HTMLStyleModel",
       "_view_count": null,
       "_view_module": "@jupyter-widgets/base",
       "_view_module_version": "2.0.0",
       "_view_name": "StyleView",
       "background": null,
       "description_width": "",
       "font_size": null,
       "text_color": null
      }
     },
     "0e240673cf79408a989227d200e742d6": {
      "model_module": "@jupyter-widgets/controls",
      "model_module_version": "2.0.0",
      "model_name": "HTMLStyleModel",
      "state": {
       "_model_module": "@jupyter-widgets/controls",
       "_model_module_version": "2.0.0",
       "_model_name": "HTMLStyleModel",
       "_view_count": null,
       "_view_module": "@jupyter-widgets/base",
       "_view_module_version": "2.0.0",
       "_view_name": "StyleView",
       "background": null,
       "description_width": "",
       "font_size": null,
       "text_color": null
      }
     },
     "108ace8848ac4c7bb838ebbcc975cfc3": {
      "model_module": "@jupyter-widgets/controls",
      "model_module_version": "2.0.0",
      "model_name": "HTMLStyleModel",
      "state": {
       "_model_module": "@jupyter-widgets/controls",
       "_model_module_version": "2.0.0",
       "_model_name": "HTMLStyleModel",
       "_view_count": null,
       "_view_module": "@jupyter-widgets/base",
       "_view_module_version": "2.0.0",
       "_view_name": "StyleView",
       "background": null,
       "description_width": "",
       "font_size": null,
       "text_color": null
      }
     },
     "10e53ea1baa64a61aade75bafd6262cd": {
      "model_module": "@jupyter-widgets/controls",
      "model_module_version": "2.0.0",
      "model_name": "HTMLStyleModel",
      "state": {
       "_model_module": "@jupyter-widgets/controls",
       "_model_module_version": "2.0.0",
       "_model_name": "HTMLStyleModel",
       "_view_count": null,
       "_view_module": "@jupyter-widgets/base",
       "_view_module_version": "2.0.0",
       "_view_name": "StyleView",
       "background": null,
       "description_width": "",
       "font_size": null,
       "text_color": null
      }
     },
     "135a47c62bda41d7adf028f395f36c38": {
      "model_module": "@jupyter-widgets/controls",
      "model_module_version": "2.0.0",
      "model_name": "HTMLStyleModel",
      "state": {
       "_model_module": "@jupyter-widgets/controls",
       "_model_module_version": "2.0.0",
       "_model_name": "HTMLStyleModel",
       "_view_count": null,
       "_view_module": "@jupyter-widgets/base",
       "_view_module_version": "2.0.0",
       "_view_name": "StyleView",
       "background": null,
       "description_width": "",
       "font_size": null,
       "text_color": null
      }
     },
     "164e45d159de4df5a9dad411eec52875": {
      "model_module": "@jupyter-widgets/base",
      "model_module_version": "2.0.0",
      "model_name": "LayoutModel",
      "state": {
       "_model_module": "@jupyter-widgets/base",
       "_model_module_version": "2.0.0",
       "_model_name": "LayoutModel",
       "_view_count": null,
       "_view_module": "@jupyter-widgets/base",
       "_view_module_version": "2.0.0",
       "_view_name": "LayoutView",
       "align_content": null,
       "align_items": null,
       "align_self": null,
       "border_bottom": null,
       "border_left": null,
       "border_right": null,
       "border_top": null,
       "bottom": null,
       "display": null,
       "flex": null,
       "flex_flow": null,
       "grid_area": null,
       "grid_auto_columns": null,
       "grid_auto_flow": null,
       "grid_auto_rows": null,
       "grid_column": null,
       "grid_gap": null,
       "grid_row": null,
       "grid_template_areas": null,
       "grid_template_columns": null,
       "grid_template_rows": null,
       "height": null,
       "justify_content": null,
       "justify_items": null,
       "left": null,
       "margin": null,
       "max_height": null,
       "max_width": null,
       "min_height": null,
       "min_width": null,
       "object_fit": null,
       "object_position": null,
       "order": null,
       "overflow": null,
       "padding": null,
       "right": null,
       "top": null,
       "visibility": null,
       "width": null
      }
     },
     "1cfa82a71c8547689018fb74a0946ff5": {
      "model_module": "@jupyter-widgets/base",
      "model_module_version": "2.0.0",
      "model_name": "LayoutModel",
      "state": {
       "_model_module": "@jupyter-widgets/base",
       "_model_module_version": "2.0.0",
       "_model_name": "LayoutModel",
       "_view_count": null,
       "_view_module": "@jupyter-widgets/base",
       "_view_module_version": "2.0.0",
       "_view_name": "LayoutView",
       "align_content": null,
       "align_items": null,
       "align_self": null,
       "border_bottom": null,
       "border_left": null,
       "border_right": null,
       "border_top": null,
       "bottom": null,
       "display": null,
       "flex": null,
       "flex_flow": null,
       "grid_area": null,
       "grid_auto_columns": null,
       "grid_auto_flow": null,
       "grid_auto_rows": null,
       "grid_column": null,
       "grid_gap": null,
       "grid_row": null,
       "grid_template_areas": null,
       "grid_template_columns": null,
       "grid_template_rows": null,
       "height": null,
       "justify_content": null,
       "justify_items": null,
       "left": null,
       "margin": null,
       "max_height": null,
       "max_width": null,
       "min_height": null,
       "min_width": null,
       "object_fit": null,
       "object_position": null,
       "order": null,
       "overflow": null,
       "padding": null,
       "right": null,
       "top": null,
       "visibility": null,
       "width": null
      }
     },
     "1db6ed2606b047d3ae2de7a1ad7d82ac": {
      "model_module": "@jupyter-widgets/controls",
      "model_module_version": "2.0.0",
      "model_name": "HTMLModel",
      "state": {
       "_dom_classes": [],
       "_model_module": "@jupyter-widgets/controls",
       "_model_module_version": "2.0.0",
       "_model_name": "HTMLModel",
       "_view_count": null,
       "_view_module": "@jupyter-widgets/controls",
       "_view_module_version": "2.0.0",
       "_view_name": "HTMLView",
       "description": "",
       "description_allow_html": false,
       "layout": "IPY_MODEL_f42cccdf55474bdc8611cbbef6c8290b",
       "placeholder": "​",
       "style": "IPY_MODEL_54ea9ec7ffc84b769df06dae6ca3e94b",
       "tabbable": null,
       "tooltip": null,
       "value": "<h5><a href=\"https://github.com/jupyter-server/enterprise_gateway\">jupyter-server/enterprise_gateway</a></h5>\n<ul>\n<li><a href=\"https://github.com/jupyter-server/enterprise_gateway/issues/1392\">(#1392)</a>: _Custom Spark 3.5.3 Kernel _ by <strong><a href=\"https://github.com/fatihmete\">@fatihmete</a></strong></li>\n<li><a href=\"https://github.com/jupyter-server/enterprise_gateway/issues/1404\">(#1404)</a>: <em>Setting up Jupyterhub to work with Enterprise Gateway</em> by <strong><a href=\"https://github.com/demardefrozen10\">@demardefrozen10</a></strong></li>\n<li><a href=\"https://github.com/jupyter-server/enterprise_gateway/issues/1359\">(#1359)</a>: <em>KIP cannot use ImagePullSecret when using containerd</em> by <strong><a href=\"https://github.com/Buchhold\">@Buchhold</a></strong></li>\n<li><a href=\"https://github.com/jupyter-server/enterprise_gateway/issues/1382\">(#1382)</a>: <em>Error: module 'kubernetes.client' has no attribute 'V1Subject'</em> by <strong><a href=\"https://github.com/fm2022aa\">@fm2022aa</a></strong></li>\n<li><a href=\"https://github.com/jupyter-server/enterprise_gateway/issues/1402\">(#1402)</a>: <em>Fix Infinite Loop in WebSocket Connection Message Handling</em> by <strong><a href=\"https://github.com/zdhdsx\">@zdhdsx</a></strong></li>\n</ul>"
      }
     },
     "1f2b3a95acea400ab98f9e9f60e7fe8f": {
      "model_module": "@jupyter-widgets/base",
      "model_module_version": "2.0.0",
      "model_name": "LayoutModel",
      "state": {
       "_model_module": "@jupyter-widgets/base",
       "_model_module_version": "2.0.0",
       "_model_name": "LayoutModel",
       "_view_count": null,
       "_view_module": "@jupyter-widgets/base",
       "_view_module_version": "2.0.0",
       "_view_name": "LayoutView",
       "align_content": null,
       "align_items": null,
       "align_self": null,
       "border_bottom": null,
       "border_left": null,
       "border_right": null,
       "border_top": null,
       "bottom": null,
       "display": null,
       "flex": null,
       "flex_flow": null,
       "grid_area": null,
       "grid_auto_columns": null,
       "grid_auto_flow": null,
       "grid_auto_rows": null,
       "grid_column": null,
       "grid_gap": null,
       "grid_row": null,
       "grid_template_areas": null,
       "grid_template_columns": null,
       "grid_template_rows": null,
       "height": null,
       "justify_content": null,
       "justify_items": null,
       "left": null,
       "margin": null,
       "max_height": null,
       "max_width": null,
       "min_height": null,
       "min_width": null,
       "object_fit": null,
       "object_position": null,
       "order": null,
       "overflow": null,
       "padding": null,
       "right": null,
       "top": null,
       "visibility": null,
       "width": null
      }
     },
     "2b4bc822f53641f8b6e5708d906f7312": {
      "model_module": "@jupyter-widgets/base",
      "model_module_version": "2.0.0",
      "model_name": "LayoutModel",
      "state": {
       "_model_module": "@jupyter-widgets/base",
       "_model_module_version": "2.0.0",
       "_model_name": "LayoutModel",
       "_view_count": null,
       "_view_module": "@jupyter-widgets/base",
       "_view_module_version": "2.0.0",
       "_view_name": "LayoutView",
       "align_content": null,
       "align_items": null,
       "align_self": null,
       "border_bottom": null,
       "border_left": null,
       "border_right": null,
       "border_top": null,
       "bottom": null,
       "display": null,
       "flex": null,
       "flex_flow": null,
       "grid_area": null,
       "grid_auto_columns": null,
       "grid_auto_flow": null,
       "grid_auto_rows": null,
       "grid_column": null,
       "grid_gap": null,
       "grid_row": null,
       "grid_template_areas": null,
       "grid_template_columns": null,
       "grid_template_rows": null,
       "height": null,
       "justify_content": null,
       "justify_items": null,
       "left": null,
       "margin": null,
       "max_height": null,
       "max_width": null,
       "min_height": null,
       "min_width": null,
       "object_fit": null,
       "object_position": null,
       "order": null,
       "overflow": null,
       "padding": null,
       "right": null,
       "top": null,
       "visibility": null,
       "width": null
      }
     },
     "2c0b597cfb814cbe858699148b30cd7d": {
      "model_module": "@jupyter-widgets/controls",
      "model_module_version": "2.0.0",
      "model_name": "HTMLModel",
      "state": {
       "_dom_classes": [],
       "_model_module": "@jupyter-widgets/controls",
       "_model_module_version": "2.0.0",
       "_model_name": "HTMLModel",
       "_view_count": null,
       "_view_module": "@jupyter-widgets/controls",
       "_view_module_version": "2.0.0",
       "_view_name": "HTMLView",
       "description": "",
       "description_allow_html": false,
       "layout": "IPY_MODEL_72371f4b8c9a428ba02687a0c309894f",
       "placeholder": "​",
       "style": "IPY_MODEL_87b5dcda5f21475a84ace1cd8dc3c509",
       "tabbable": null,
       "tooltip": null,
       "value": "<h4>Closed PRs for repo: <a href=\"https://github.com/jupyter-server/jupyter-scheduler\">jupyter-server/jupyter-scheduler</a></h4>\n<h5></h5>\n<ul>\n<li><a href=\"https://github.com/jupyter-server/jupyter-scheduler/issues/575\">(#575)</a>: <em>Add support for Python 3.13 version and remove support for Python  3.7 and 3.8 versions</em> by <strong><a href=\"https://github.com/asmita-sharma1625\">@asmita-sharma1625</a></strong> merged by <strong><a href=\"https://github.com/andrii-i\">@andrii-i</a></strong></li>\n<li><a href=\"https://github.com/jupyter-server/jupyter-scheduler/issues/576\">(#576)</a>: <em>Updated JupyterLab Classifier to JupyterLab 4, Bump actions/cache to v3</em> by <strong><a href=\"https://github.com/astitv-sh\">@astitv-sh</a></strong> merged by <strong><a href=\"https://github.com/andrii-i\">@andrii-i</a></strong></li>\n<li><a href=\"https://github.com/jupyter-server/jupyter-scheduler/issues/577\">(#577)</a>: <em>Remove \"RTC\" drive prefix from filepath added by jupyter-collaboration when using notebook scheduler widget</em> by <strong><a href=\"https://github.com/asmita-sharma1625\">@asmita-sharma1625</a></strong> merged by <strong><a href=\"https://github.com/andrii-i\">@andrii-i</a></strong></li>\n<li><a href=\"https://github.com/jupyter-server/jupyter-scheduler/issues/578\">(#578)</a>: <em>Async upload</em> by <strong><a href=\"https://github.com/andrii-i\">@andrii-i</a></strong> merged by <strong><a href=\"https://github.com/andrii-i\">@andrii-i</a></strong></li>\n<li><a href=\"https://github.com/jupyter-server/jupyter-scheduler/issues/585\">(#585)</a>: <em>bump fsspec version excluding 2025.3.1 that was yanked on PyPI</em> by <strong><a href=\"https://github.com/andrii-i\">@andrii-i</a></strong> merged by <strong><a href=\"https://github.com/andrii-i\">@andrii-i</a></strong></li>\n</ul>"
      }
     },
     "2c9243a695dc4f77b09f7f89270034d6": {
      "model_module": "@jupyter-widgets/controls",
      "model_module_version": "2.0.0",
      "model_name": "HTMLModel",
      "state": {
       "_dom_classes": [],
       "_model_module": "@jupyter-widgets/controls",
       "_model_module_version": "2.0.0",
       "_model_name": "HTMLModel",
       "_view_count": null,
       "_view_module": "@jupyter-widgets/controls",
       "_view_module_version": "2.0.0",
       "_view_name": "HTMLView",
       "description": "",
       "description_allow_html": false,
       "layout": "IPY_MODEL_6704c12272a3470dab070041b72cefc8",
       "placeholder": "​",
       "style": "IPY_MODEL_bebda7dbc6434d549e8c2b71906e795d",
       "tabbable": null,
       "tooltip": null,
       "value": "<h5><a href=\"https://github.com/jupyter-server/team-compass\">jupyter-server/team-compass</a></h5>\n<ul>\n<li><a href=\"https://github.com/jupyter-server/team-compass/issues/73\">(#73)</a>: <em>Meeting Notes 2025</em> by <strong><a href=\"https://github.com/Zsailer\">@Zsailer</a></strong></li>\n<li><a href=\"https://github.com/jupyter-server/team-compass/issues/78\">(#78)</a>: <em>Vote: move <code>pycrdt</code> and <code>pycrdt-websocket</code> to <code>y-crdt</code> organization</em> by <strong><a href=\"https://github.com/davidbrochart\">@davidbrochart</a></strong></li>\n<li><a href=\"https://github.com/jupyter-server/team-compass/issues/77\">(#77)</a>: <em>Move <code>pycrdt</code> to <code>y-crdt</code> organization</em> by <strong><a href=\"https://github.com/davidbrochart\">@davidbrochart</a></strong></li>\n<li><a href=\"https://github.com/jupyter-server/team-compass/issues/79\">(#79)</a>: <em>Proposal: move github-activity into this GitHub organization</em> by <strong><a href=\"https://github.com/choldgraf\">@choldgraf</a></strong></li>\n<li><a href=\"https://github.com/jupyter-server/team-compass/issues/72\">(#72)</a>: <em>Support running kernels in multiple locations (locally or remote) simultaneously.</em> by <strong><a href=\"https://github.com/ojarjur\">@ojarjur</a></strong></li>\n</ul>"
      }
     },
     "2f0f4f957888408a9e7a6142b4af62b4": {
      "model_module": "@jupyter-widgets/controls",
      "model_module_version": "2.0.0",
      "model_name": "HTMLModel",
      "state": {
       "_dom_classes": [],
       "_model_module": "@jupyter-widgets/controls",
       "_model_module_version": "2.0.0",
       "_model_name": "HTMLModel",
       "_view_count": null,
       "_view_module": "@jupyter-widgets/controls",
       "_view_module_version": "2.0.0",
       "_view_name": "HTMLView",
       "description": "",
       "description_allow_html": false,
       "layout": "IPY_MODEL_7999cbae51fa486e804cf15ebfe8dfa7",
       "placeholder": "​",
       "style": "IPY_MODEL_85e6162b75e64d4ca4b82641bd477ad7",
       "tabbable": null,
       "tooltip": null,
       "value": "<h5><a href=\"https://github.com/jupyter-server/jupyter-scheduler\">jupyter-server/jupyter-scheduler</a></h5>\n<ul>\n<li><a href=\"https://github.com/jupyter-server/jupyter-scheduler/issues/328\">(#328)</a>: <em>Automatically delete all old Notebook jobs</em> by <strong><a href=\"https://github.com/nakvic\">@nakvic</a></strong></li>\n<li><a href=\"https://github.com/jupyter-server/jupyter-scheduler/issues/563\">(#563)</a>: <em>Manage the culling of Jupyter Server with scheduled jobs to support JupyterHub</em> by <strong><a href=\"https://github.com/thomasLeclaire\">@thomasLeclaire</a></strong></li>\n<li><a href=\"https://github.com/jupyter-server/jupyter-scheduler/issues/406\">(#406)</a>: <em>Server-side support for event driven notebook execution</em> by <strong><a href=\"https://github.com/andrii-i\">@andrii-i</a></strong></li>\n<li><a href=\"https://github.com/jupyter-server/jupyter-scheduler/issues/414\">(#414)</a>: <em>UI for event driven notebook execution</em> by <strong><a href=\"https://github.com/andrii-i\">@andrii-i</a></strong></li>\n<li><a href=\"https://github.com/jupyter-server/jupyter-scheduler/issues/497\">(#497)</a>: <em>Empty \"Section Navigation\" in user docs</em> by <strong><a href=\"https://github.com/andrii-i\">@andrii-i</a></strong></li>\n</ul>"
      }
     },
     "2f4e257081b149c28ad95f8a85c80c20": {
      "model_module": "@jupyter-widgets/base",
      "model_module_version": "2.0.0",
      "model_name": "LayoutModel",
      "state": {
       "_model_module": "@jupyter-widgets/base",
       "_model_module_version": "2.0.0",
       "_model_name": "LayoutModel",
       "_view_count": null,
       "_view_module": "@jupyter-widgets/base",
       "_view_module_version": "2.0.0",
       "_view_name": "LayoutView",
       "align_content": null,
       "align_items": null,
       "align_self": null,
       "border_bottom": null,
       "border_left": null,
       "border_right": null,
       "border_top": null,
       "bottom": null,
       "display": null,
       "flex": null,
       "flex_flow": null,
       "grid_area": null,
       "grid_auto_columns": null,
       "grid_auto_flow": null,
       "grid_auto_rows": null,
       "grid_column": null,
       "grid_gap": null,
       "grid_row": null,
       "grid_template_areas": null,
       "grid_template_columns": null,
       "grid_template_rows": null,
       "height": null,
       "justify_content": null,
       "justify_items": null,
       "left": null,
       "margin": null,
       "max_height": null,
       "max_width": null,
       "min_height": null,
       "min_width": null,
       "object_fit": null,
       "object_position": null,
       "order": null,
       "overflow": null,
       "padding": null,
       "right": null,
       "top": null,
       "visibility": null,
       "width": null
      }
     },
     "365308b1933445adb3c70b579e9cf880": {
      "model_module": "@jupyter-widgets/controls",
      "model_module_version": "2.0.0",
      "model_name": "HTMLModel",
      "state": {
       "_dom_classes": [],
       "_model_module": "@jupyter-widgets/controls",
       "_model_module_version": "2.0.0",
       "_model_name": "HTMLModel",
       "_view_count": null,
       "_view_module": "@jupyter-widgets/controls",
       "_view_module_version": "2.0.0",
       "_view_name": "HTMLView",
       "description": "",
       "description_allow_html": false,
       "layout": "IPY_MODEL_0a25b5ce3475423b9ef065735efa5fbd",
       "placeholder": "​",
       "style": "IPY_MODEL_56c2218d2c4046d6a51fca65bf5fc5c2",
       "tabbable": null,
       "tooltip": null,
       "value": "<h4>Closed PRs for repo: <a href=\"https://github.com/jupyter-server/jupyverse\">jupyter-server/jupyverse</a></h4>\n<h5></h5>\n<ul>\n<li><a href=\"https://github.com/jupyter-server/jupyverse/issues/450\">(#450)</a>: <em>[pre-commit.ci] pre-commit autoupdate</em> by <strong><a href=\"https://github.com/pre-commit-ci[bot]\">@pre-commit-ci[bot]</a></strong> merged by <strong><a href=\"https://github.com/davidbrochart\">@davidbrochart</a></strong></li>\n<li><a href=\"https://github.com/jupyter-server/jupyverse/issues/451\">(#451)</a>: <em>Fix multiple sessions in one kernel bug</em> by <strong><a href=\"https://github.com/rakhmaevao\">@rakhmaevao</a></strong> merged by <strong><a href=\"https://github.com/davidbrochart\">@davidbrochart</a></strong></li>\n<li><a href=\"https://github.com/jupyter-server/jupyverse/issues/461\">(#461)</a>: <em>Use AnyIO's wait_readable for terminals</em> by <strong><a href=\"https://github.com/davidbrochart\">@davidbrochart</a></strong> merged by <strong><a href=\"https://github.com/davidbrochart\">@davidbrochart</a></strong></li>\n<li><a href=\"https://github.com/jupyter-server/jupyverse/issues/462\">(#462)</a>: <em>Bump FPS v0.1.3</em> by <strong><a href=\"https://github.com/davidbrochart\">@davidbrochart</a></strong> merged by <strong><a href=\"https://github.com/davidbrochart\">@davidbrochart</a></strong></li>\n<li><a href=\"https://github.com/jupyter-server/jupyverse/issues/463\">(#463)</a>: <em>Fix connection to existing kernel</em> by <strong><a href=\"https://github.com/davidbrochart\">@davidbrochart</a></strong> merged by <strong><a href=\"https://github.com/davidbrochart\">@davidbrochart</a></strong></li>\n<li><a href=\"https://github.com/jupyter-server/jupyverse/issues/465\">(#465)</a>: <em>[pre-commit.ci] pre-commit autoupdate</em> by <strong><a href=\"https://github.com/pre-commit-ci[bot]\">@pre-commit-ci[bot]</a></strong> merged by <strong><a href=\"https://github.com/davidbrochart\">@davidbrochart</a></strong></li>\n<li><a href=\"https://github.com/jupyter-server/jupyverse/issues/466\">(#466)</a>: <em>Use zmq-anyio</em> by <strong><a href=\"https://github.com/davidbrochart\">@davidbrochart</a></strong> merged by <strong><a href=\"https://github.com/davidbrochart\">@davidbrochart</a></strong></li>\n<li><a href=\"https://github.com/jupyter-server/jupyverse/issues/467\">(#467)</a>: <em>Bump FPS v0.1.5</em> by <strong><a href=\"https://github.com/davidbrochart\">@davidbrochart</a></strong> merged by <strong><a href=\"https://github.com/davidbrochart\">@davidbrochart</a></strong></li>\n<li><a href=\"https://github.com/jupyter-server/jupyverse/issues/468\">(#468)</a>: <em>Kernel Stop Fix</em> by <strong><a href=\"https://github.com/rakhmaevao\">@rakhmaevao</a></strong> merged by <strong><a href=\"https://github.com/rakhmaevao\">@rakhmaevao</a></strong></li>\n<li><a href=\"https://github.com/jupyter-server/jupyverse/issues/469\">(#469)</a>: <em>[pre-commit.ci] pre-commit autoupdate</em> by <strong><a href=\"https://github.com/pre-commit-ci[bot]\">@pre-commit-ci[bot]</a></strong> merged by <strong><a href=\"https://github.com/davidbrochart\">@davidbrochart</a></strong></li>\n<li><a href=\"https://github.com/jupyter-server/jupyverse/issues/470\">(#470)</a>: <em>[pre-commit.ci] pre-commit autoupdate</em> by <strong><a href=\"https://github.com/pre-commit-ci[bot]\">@pre-commit-ci[bot]</a></strong> merged by <strong><a href=\"https://github.com/davidbrochart\">@davidbrochart</a></strong></li>\n<li><a href=\"https://github.com/jupyter-server/jupyverse/issues/472\">(#472)</a>: <em>[pre-commit.ci] pre-commit autoupdate</em> by <strong><a href=\"https://github.com/pre-commit-ci[bot]\">@pre-commit-ci[bot]</a></strong> merged by <strong><a href=\"https://github.com/davidbrochart\">@davidbrochart</a></strong></li>\n<li><a href=\"https://github.com/jupyter-server/jupyverse/issues/473\">(#473)</a>: <em>Fix kernel shutdown</em> by <strong><a href=\"https://github.com/davidbrochart\">@davidbrochart</a></strong> merged by <strong><a href=\"https://github.com/davidbrochart\">@davidbrochart</a></strong></li>\n<li><a href=\"https://github.com/jupyter-server/jupyverse/issues/474\">(#474)</a>: <em>Convert repo to use releaser from repo</em> by <strong><a href=\"https://github.com/davidbrochart\">@davidbrochart</a></strong> merged by <strong><a href=\"https://github.com/davidbrochart\">@davidbrochart</a></strong></li>\n<li><a href=\"https://github.com/jupyter-server/jupyverse/issues/475\">(#475)</a>: <em>Update types</em> by <strong><a href=\"https://github.com/davidbrochart\">@davidbrochart</a></strong> merged by <strong><a href=\"https://github.com/davidbrochart\">@davidbrochart</a></strong></li>\n<li><a href=\"https://github.com/jupyter-server/jupyverse/issues/476\">(#476)</a>: <em>Bump fps &gt;=0.2.1</em> by <strong><a href=\"https://github.com/davidbrochart\">@davidbrochart</a></strong> merged by <strong><a href=\"https://github.com/davidbrochart\">@davidbrochart</a></strong></li>\n<li><a href=\"https://github.com/jupyter-server/jupyverse/issues/478\">(#478)</a>: <em>Check if file exists before inserting it in fileids</em> by <strong><a href=\"https://github.com/davidbrochart\">@davidbrochart</a></strong> merged by <strong><a href=\"https://github.com/davidbrochart\">@davidbrochart</a></strong></li>\n<li><a href=\"https://github.com/jupyter-server/jupyverse/issues/479\">(#479)</a>: <em>[pre-commit.ci] pre-commit autoupdate</em> by <strong><a href=\"https://github.com/pre-commit-ci[bot]\">@pre-commit-ci[bot]</a></strong> merged by <strong><a href=\"https://github.com/davidbrochart\">@davidbrochart</a></strong></li>\n<li><a href=\"https://github.com/jupyter-server/jupyverse/issues/480\">(#480)</a>: <em>Fix stream outputs</em> by <strong><a href=\"https://github.com/davidbrochart\">@davidbrochart</a></strong> merged by <strong><a href=\"https://github.com/davidbrochart\">@davidbrochart</a></strong></li>\n<li><a href=\"https://github.com/jupyter-server/jupyverse/issues/481\">(#481)</a>: <em>[pre-commit.ci] pre-commit autoupdate</em> by <strong><a href=\"https://github.com/pre-commit-ci[bot]\">@pre-commit-ci[bot]</a></strong> merged by <strong><a href=\"https://github.com/davidbrochart\">@davidbrochart</a></strong></li>\n<li><a href=\"https://github.com/jupyter-server/jupyverse/issues/482\">(#482)</a>: <em>Upgrade FPS to v0.3.0</em> by <strong><a href=\"https://github.com/davidbrochart\">@davidbrochart</a></strong> merged by <strong><a href=\"https://github.com/davidbrochart\">@davidbrochart</a></strong></li>\n<li><a href=\"https://github.com/jupyter-server/jupyverse/issues/483\">(#483)</a>: <em>[pre-commit.ci] pre-commit autoupdate</em> by <strong><a href=\"https://github.com/pre-commit-ci[bot]\">@pre-commit-ci[bot]</a></strong> merged by <strong><a href=\"https://github.com/davidbrochart\">@davidbrochart</a></strong></li>\n<li><a href=\"https://github.com/jupyter-server/jupyverse/issues/484\">(#484)</a>: <em>Use jupyter-ydoc instead of vendored version</em> by <strong><a href=\"https://github.com/davidbrochart\">@davidbrochart</a></strong> merged by <strong><a href=\"https://github.com/davidbrochart\">@davidbrochart</a></strong></li>\n<li><a href=\"https://github.com/jupyter-server/jupyverse/issues/485\">(#485)</a>: <em>[pre-commit.ci] pre-commit autoupdate</em> by <strong><a href=\"https://github.com/pre-commit-ci[bot]\">@pre-commit-ci[bot]</a></strong> merged by <strong><a href=\"https://github.com/davidbrochart\">@davidbrochart</a></strong></li>\n<li><a href=\"https://github.com/jupyter-server/jupyverse/issues/486\">(#486)</a>: <em>[pre-commit.ci] pre-commit autoupdate</em> by <strong><a href=\"https://github.com/pre-commit-ci[bot]\">@pre-commit-ci[bot]</a></strong> merged by <strong><a href=\"https://github.com/davidbrochart\">@davidbrochart</a></strong></li>\n<li><a href=\"https://github.com/jupyter-server/jupyverse/issues/487\">(#487)</a>: <em>[pre-commit.ci] pre-commit autoupdate</em> by <strong><a href=\"https://github.com/pre-commit-ci[bot]\">@pre-commit-ci[bot]</a></strong> merged by <strong><a href=\"https://github.com/davidbrochart\">@davidbrochart</a></strong></li>\n</ul>"
      }
     },
     "42dee1328d11478691ab60fee4573b35": {
      "model_module": "@jupyter-widgets/controls",
      "model_module_version": "2.0.0",
      "model_name": "TabModel",
      "state": {
       "_dom_classes": [],
       "_model_module": "@jupyter-widgets/controls",
       "_model_module_version": "2.0.0",
       "_model_name": "TabModel",
       "_view_count": null,
       "_view_module": "@jupyter-widgets/controls",
       "_view_module_version": "2.0.0",
       "_view_name": "TabView",
       "box_style": "",
       "children": [
        "IPY_MODEL_1db6ed2606b047d3ae2de7a1ad7d82ac",
        "IPY_MODEL_d567b8725df849749be01ef7eff95708",
        "IPY_MODEL_635c5345224f4b2a84b9a1d440281156",
        "IPY_MODEL_b4d147a80aeb424f85118642c1cc3f45",
        "IPY_MODEL_2f0f4f957888408a9e7a6142b4af62b4",
        "IPY_MODEL_c99639fb559945c781d6e74409a8b054",
        "IPY_MODEL_4dcdb2dc475a42708ab87a4b77f1e840",
        "IPY_MODEL_c510f8d9cbff486d95742253a600aa25",
        "IPY_MODEL_7a35e6ee47304a799e500fd002c51c1b",
        "IPY_MODEL_604ba29e68ed4882918a554e3ae42a53"
       ],
       "layout": "IPY_MODEL_603a44564ece4c44a6b65fc6ebf0e4b3",
       "selected_index": 0,
       "tabbable": null,
       "titles": [
        "enterprise_gateway",
        "fps",
        "gateway_provisioners",
        "jupyter-resource-usage",
        "jupyter-scheduler",
        "jupyter_releaser",
        "jupyter_server",
        "jupyverse",
        "kernel_gateway",
        "team-compass"
       ],
       "tooltip": null
      }
     },
     "42e2d736487a463c82e409709144a7ca": {
      "model_module": "@jupyter-widgets/base",
      "model_module_version": "2.0.0",
      "model_name": "LayoutModel",
      "state": {
       "_model_module": "@jupyter-widgets/base",
       "_model_module_version": "2.0.0",
       "_model_name": "LayoutModel",
       "_view_count": null,
       "_view_module": "@jupyter-widgets/base",
       "_view_module_version": "2.0.0",
       "_view_name": "LayoutView",
       "align_content": null,
       "align_items": null,
       "align_self": null,
       "border_bottom": null,
       "border_left": null,
       "border_right": null,
       "border_top": null,
       "bottom": null,
       "display": null,
       "flex": null,
       "flex_flow": null,
       "grid_area": null,
       "grid_auto_columns": null,
       "grid_auto_flow": null,
       "grid_auto_rows": null,
       "grid_column": null,
       "grid_gap": null,
       "grid_row": null,
       "grid_template_areas": null,
       "grid_template_columns": null,
       "grid_template_rows": null,
       "height": null,
       "justify_content": null,
       "justify_items": null,
       "left": null,
       "margin": null,
       "max_height": null,
       "max_width": null,
       "min_height": null,
       "min_width": null,
       "object_fit": null,
       "object_position": null,
       "order": null,
       "overflow": null,
       "padding": null,
       "right": null,
       "top": null,
       "visibility": null,
       "width": null
      }
     },
     "4413c2085f594307a6fc52aeb651bf2b": {
      "model_module": "@jupyter-widgets/base",
      "model_module_version": "2.0.0",
      "model_name": "LayoutModel",
      "state": {
       "_model_module": "@jupyter-widgets/base",
       "_model_module_version": "2.0.0",
       "_model_name": "LayoutModel",
       "_view_count": null,
       "_view_module": "@jupyter-widgets/base",
       "_view_module_version": "2.0.0",
       "_view_name": "LayoutView",
       "align_content": null,
       "align_items": null,
       "align_self": null,
       "border_bottom": null,
       "border_left": null,
       "border_right": null,
       "border_top": null,
       "bottom": null,
       "display": null,
       "flex": null,
       "flex_flow": null,
       "grid_area": null,
       "grid_auto_columns": null,
       "grid_auto_flow": null,
       "grid_auto_rows": null,
       "grid_column": null,
       "grid_gap": null,
       "grid_row": null,
       "grid_template_areas": null,
       "grid_template_columns": null,
       "grid_template_rows": null,
       "height": null,
       "justify_content": null,
       "justify_items": null,
       "left": null,
       "margin": null,
       "max_height": null,
       "max_width": null,
       "min_height": null,
       "min_width": null,
       "object_fit": null,
       "object_position": null,
       "order": null,
       "overflow": null,
       "padding": null,
       "right": null,
       "top": null,
       "visibility": null,
       "width": null
      }
     },
     "4a160a29f11c402084d2316d80dde981": {
      "model_module": "@jupyter-widgets/controls",
      "model_module_version": "2.0.0",
      "model_name": "HTMLStyleModel",
      "state": {
       "_model_module": "@jupyter-widgets/controls",
       "_model_module_version": "2.0.0",
       "_model_name": "HTMLStyleModel",
       "_view_count": null,
       "_view_module": "@jupyter-widgets/base",
       "_view_module_version": "2.0.0",
       "_view_name": "StyleView",
       "background": null,
       "description_width": "",
       "font_size": null,
       "text_color": null
      }
     },
     "4c99bf0cc5474de28098133c8419554c": {
      "model_module": "@jupyter-widgets/controls",
      "model_module_version": "2.0.0",
      "model_name": "HTMLStyleModel",
      "state": {
       "_model_module": "@jupyter-widgets/controls",
       "_model_module_version": "2.0.0",
       "_model_name": "HTMLStyleModel",
       "_view_count": null,
       "_view_module": "@jupyter-widgets/base",
       "_view_module_version": "2.0.0",
       "_view_name": "StyleView",
       "background": null,
       "description_width": "",
       "font_size": null,
       "text_color": null
      }
     },
     "4dcdb2dc475a42708ab87a4b77f1e840": {
      "model_module": "@jupyter-widgets/controls",
      "model_module_version": "2.0.0",
      "model_name": "HTMLModel",
      "state": {
       "_dom_classes": [],
       "_model_module": "@jupyter-widgets/controls",
       "_model_module_version": "2.0.0",
       "_model_name": "HTMLModel",
       "_view_count": null,
       "_view_module": "@jupyter-widgets/controls",
       "_view_module_version": "2.0.0",
       "_view_name": "HTMLView",
       "description": "",
       "description_allow_html": false,
       "layout": "IPY_MODEL_42e2d736487a463c82e409709144a7ca",
       "placeholder": "​",
       "style": "IPY_MODEL_a3fc31d97e1b4f4687fb16a40ed36334",
       "tabbable": null,
       "tooltip": null,
       "value": "<h5><a href=\"https://github.com/jupyter-server/jupyter_server\">jupyter-server/jupyter_server</a></h5>\n<ul>\n<li><a href=\"https://github.com/jupyter-server/jupyter_server/issues/1519\">(#1519)</a>: <em>Time for a new release?</em> by <strong><a href=\"https://github.com/krassowski\">@krassowski</a></strong></li>\n<li><a href=\"https://github.com/jupyter-server/jupyter_server/issues/1428\">(#1428)</a>: <em>Fix outdated security documentation</em> by <strong><a href=\"https://github.com/colinpalmer\">@colinpalmer</a></strong></li>\n<li><a href=\"https://github.com/jupyter-server/jupyter_server/issues/1497\">(#1497)</a>: <em>AttributeError seen while running xeus-cpp</em> by <strong><a href=\"https://github.com/anutosh491\">@anutosh491</a></strong></li>\n<li><a href=\"https://github.com/jupyter-server/jupyter_server/issues/1524\">(#1524)</a>: <em>Crash when renaming large files</em> by <strong><a href=\"https://github.com/danyeaw\">@danyeaw</a></strong></li>\n<li><a href=\"https://github.com/jupyter-server/jupyter_server/issues/1476\">(#1476)</a>: <em>boostrap v3 is EOL upstream; migrate to bootstrap v5</em> by <strong><a href=\"https://github.com/juliangilbey\">@juliangilbey</a></strong></li>\n</ul>"
      }
     },
     "51716274da2b41448928c5ecfe40b605": {
      "model_module": "@jupyter-widgets/base",
      "model_module_version": "2.0.0",
      "model_name": "LayoutModel",
      "state": {
       "_model_module": "@jupyter-widgets/base",
       "_model_module_version": "2.0.0",
       "_model_name": "LayoutModel",
       "_view_count": null,
       "_view_module": "@jupyter-widgets/base",
       "_view_module_version": "2.0.0",
       "_view_name": "LayoutView",
       "align_content": null,
       "align_items": null,
       "align_self": null,
       "border_bottom": null,
       "border_left": null,
       "border_right": null,
       "border_top": null,
       "bottom": null,
       "display": null,
       "flex": null,
       "flex_flow": null,
       "grid_area": null,
       "grid_auto_columns": null,
       "grid_auto_flow": null,
       "grid_auto_rows": null,
       "grid_column": null,
       "grid_gap": null,
       "grid_row": null,
       "grid_template_areas": null,
       "grid_template_columns": null,
       "grid_template_rows": null,
       "height": null,
       "justify_content": null,
       "justify_items": null,
       "left": null,
       "margin": null,
       "max_height": null,
       "max_width": null,
       "min_height": null,
       "min_width": null,
       "object_fit": null,
       "object_position": null,
       "order": null,
       "overflow": null,
       "padding": null,
       "right": null,
       "top": null,
       "visibility": null,
       "width": null
      }
     },
     "54ea9ec7ffc84b769df06dae6ca3e94b": {
      "model_module": "@jupyter-widgets/controls",
      "model_module_version": "2.0.0",
      "model_name": "HTMLStyleModel",
      "state": {
       "_model_module": "@jupyter-widgets/controls",
       "_model_module_version": "2.0.0",
       "_model_name": "HTMLStyleModel",
       "_view_count": null,
       "_view_module": "@jupyter-widgets/base",
       "_view_module_version": "2.0.0",
       "_view_name": "StyleView",
       "background": null,
       "description_width": "",
       "font_size": null,
       "text_color": null
      }
     },
     "56c2218d2c4046d6a51fca65bf5fc5c2": {
      "model_module": "@jupyter-widgets/controls",
      "model_module_version": "2.0.0",
      "model_name": "HTMLStyleModel",
      "state": {
       "_model_module": "@jupyter-widgets/controls",
       "_model_module_version": "2.0.0",
       "_model_name": "HTMLStyleModel",
       "_view_count": null,
       "_view_module": "@jupyter-widgets/base",
       "_view_module_version": "2.0.0",
       "_view_name": "StyleView",
       "background": null,
       "description_width": "",
       "font_size": null,
       "text_color": null
      }
     },
     "58acae10b25c403a8e08c62226c47d7d": {
      "model_module": "@jupyter-widgets/controls",
      "model_module_version": "2.0.0",
      "model_name": "HTMLModel",
      "state": {
       "_dom_classes": [],
       "_model_module": "@jupyter-widgets/controls",
       "_model_module_version": "2.0.0",
       "_model_name": "HTMLModel",
       "_view_count": null,
       "_view_module": "@jupyter-widgets/controls",
       "_view_module_version": "2.0.0",
       "_view_name": "HTMLView",
       "description": "",
       "description_allow_html": false,
       "layout": "IPY_MODEL_5ef4fe5167e94359af8de567c3eb8e0a",
       "placeholder": "​",
       "style": "IPY_MODEL_be58ed4868bb4197ac15bd68a7a8779d",
       "tabbable": null,
       "tooltip": null,
       "value": "<h5><a href=\"https://github.com/jupyter-server/jupyter-scheduler\">jupyter-server/jupyter-scheduler</a></h5>\n<ul>\n<li><a href=\"https://github.com/jupyter-server/jupyter-scheduler/issues/328\">(#328)</a>: <em>Automatically delete all old Notebook jobs</em> by <strong><a href=\"https://github.com/nakvic\">@nakvic</a></strong></li>\n<li><a href=\"https://github.com/jupyter-server/jupyter-scheduler/issues/563\">(#563)</a>: <em>Manage the culling of Jupyter Server with scheduled jobs to support JupyterHub</em> by <strong><a href=\"https://github.com/thomasLeclaire\">@thomasLeclaire</a></strong></li>\n<li><a href=\"https://github.com/jupyter-server/jupyter-scheduler/issues/406\">(#406)</a>: <em>Server-side support for event driven notebook execution</em> by <strong><a href=\"https://github.com/andrii-i\">@andrii-i</a></strong></li>\n<li><a href=\"https://github.com/jupyter-server/jupyter-scheduler/issues/414\">(#414)</a>: <em>UI for event driven notebook execution</em> by <strong><a href=\"https://github.com/andrii-i\">@andrii-i</a></strong></li>\n<li><a href=\"https://github.com/jupyter-server/jupyter-scheduler/issues/497\">(#497)</a>: <em>Empty \"Section Navigation\" in user docs</em> by <strong><a href=\"https://github.com/andrii-i\">@andrii-i</a></strong></li>\n</ul>"
      }
     },
     "5ef4fe5167e94359af8de567c3eb8e0a": {
      "model_module": "@jupyter-widgets/base",
      "model_module_version": "2.0.0",
      "model_name": "LayoutModel",
      "state": {
       "_model_module": "@jupyter-widgets/base",
       "_model_module_version": "2.0.0",
       "_model_name": "LayoutModel",
       "_view_count": null,
       "_view_module": "@jupyter-widgets/base",
       "_view_module_version": "2.0.0",
       "_view_name": "LayoutView",
       "align_content": null,
       "align_items": null,
       "align_self": null,
       "border_bottom": null,
       "border_left": null,
       "border_right": null,
       "border_top": null,
       "bottom": null,
       "display": null,
       "flex": null,
       "flex_flow": null,
       "grid_area": null,
       "grid_auto_columns": null,
       "grid_auto_flow": null,
       "grid_auto_rows": null,
       "grid_column": null,
       "grid_gap": null,
       "grid_row": null,
       "grid_template_areas": null,
       "grid_template_columns": null,
       "grid_template_rows": null,
       "height": null,
       "justify_content": null,
       "justify_items": null,
       "left": null,
       "margin": null,
       "max_height": null,
       "max_width": null,
       "min_height": null,
       "min_width": null,
       "object_fit": null,
       "object_position": null,
       "order": null,
       "overflow": null,
       "padding": null,
       "right": null,
       "top": null,
       "visibility": null,
       "width": null
      }
     },
     "603a44564ece4c44a6b65fc6ebf0e4b3": {
      "model_module": "@jupyter-widgets/base",
      "model_module_version": "2.0.0",
      "model_name": "LayoutModel",
      "state": {
       "_model_module": "@jupyter-widgets/base",
       "_model_module_version": "2.0.0",
       "_model_name": "LayoutModel",
       "_view_count": null,
       "_view_module": "@jupyter-widgets/base",
       "_view_module_version": "2.0.0",
       "_view_name": "LayoutView",
       "align_content": null,
       "align_items": null,
       "align_self": null,
       "border_bottom": null,
       "border_left": null,
       "border_right": null,
       "border_top": null,
       "bottom": null,
       "display": null,
       "flex": null,
       "flex_flow": null,
       "grid_area": null,
       "grid_auto_columns": null,
       "grid_auto_flow": null,
       "grid_auto_rows": null,
       "grid_column": null,
       "grid_gap": null,
       "grid_row": null,
       "grid_template_areas": null,
       "grid_template_columns": null,
       "grid_template_rows": null,
       "height": null,
       "justify_content": null,
       "justify_items": null,
       "left": null,
       "margin": null,
       "max_height": null,
       "max_width": null,
       "min_height": null,
       "min_width": null,
       "object_fit": null,
       "object_position": null,
       "order": null,
       "overflow": null,
       "padding": null,
       "right": null,
       "top": null,
       "visibility": null,
       "width": null
      }
     },
     "604ba29e68ed4882918a554e3ae42a53": {
      "model_module": "@jupyter-widgets/controls",
      "model_module_version": "2.0.0",
      "model_name": "HTMLModel",
      "state": {
       "_dom_classes": [],
       "_model_module": "@jupyter-widgets/controls",
       "_model_module_version": "2.0.0",
       "_model_name": "HTMLModel",
       "_view_count": null,
       "_view_module": "@jupyter-widgets/controls",
       "_view_module_version": "2.0.0",
       "_view_name": "HTMLView",
       "description": "",
       "description_allow_html": false,
       "layout": "IPY_MODEL_a29e9ad7f09d432c8f2cae45381a0684",
       "placeholder": "​",
       "style": "IPY_MODEL_c7f74b852bcb4578a06a2fb0f5f1cd88",
       "tabbable": null,
       "tooltip": null,
       "value": "<h5><a href=\"https://github.com/jupyter-server/team-compass\">jupyter-server/team-compass</a></h5>\n<ul>\n<li><a href=\"https://github.com/jupyter-server/team-compass/issues/73\">(#73)</a>: <em>Meeting Notes 2025</em> by <strong><a href=\"https://github.com/Zsailer\">@Zsailer</a></strong></li>\n<li><a href=\"https://github.com/jupyter-server/team-compass/issues/78\">(#78)</a>: <em>Vote: move <code>pycrdt</code> and <code>pycrdt-websocket</code> to <code>y-crdt</code> organization</em> by <strong><a href=\"https://github.com/davidbrochart\">@davidbrochart</a></strong></li>\n<li><a href=\"https://github.com/jupyter-server/team-compass/issues/77\">(#77)</a>: <em>Move <code>pycrdt</code> to <code>y-crdt</code> organization</em> by <strong><a href=\"https://github.com/davidbrochart\">@davidbrochart</a></strong></li>\n<li><a href=\"https://github.com/jupyter-server/team-compass/issues/79\">(#79)</a>: <em>Proposal: move github-activity into this GitHub organization</em> by <strong><a href=\"https://github.com/choldgraf\">@choldgraf</a></strong></li>\n<li><a href=\"https://github.com/jupyter-server/team-compass/issues/72\">(#72)</a>: <em>Support running kernels in multiple locations (locally or remote) simultaneously.</em> by <strong><a href=\"https://github.com/ojarjur\">@ojarjur</a></strong></li>\n</ul>"
      }
     },
     "635c5345224f4b2a84b9a1d440281156": {
      "model_module": "@jupyter-widgets/controls",
      "model_module_version": "2.0.0",
      "model_name": "HTMLModel",
      "state": {
       "_dom_classes": [],
       "_model_module": "@jupyter-widgets/controls",
       "_model_module_version": "2.0.0",
       "_model_name": "HTMLModel",
       "_view_count": null,
       "_view_module": "@jupyter-widgets/controls",
       "_view_module_version": "2.0.0",
       "_view_name": "HTMLView",
       "description": "",
       "description_allow_html": false,
       "layout": "IPY_MODEL_1f2b3a95acea400ab98f9e9f60e7fe8f",
       "placeholder": "​",
       "style": "IPY_MODEL_a1b7f451e47040d09a0e6d821b878ed8",
       "tabbable": null,
       "tooltip": null,
       "value": "<h5><a href=\"https://github.com/jupyter-server/gateway_provisioners\">jupyter-server/gateway_provisioners</a></h5>\n<ul>\n<li><a href=\"https://github.com/jupyter-server/gateway_provisioners/issues/139\">(#139)</a>: <em>Bug in the YarnProvisioner _query_app_by_name</em> by <strong><a href=\"https://github.com/abppriya\">@abppriya</a></strong></li>\n</ul>"
      }
     },
     "6704c12272a3470dab070041b72cefc8": {
      "model_module": "@jupyter-widgets/base",
      "model_module_version": "2.0.0",
      "model_name": "LayoutModel",
      "state": {
       "_model_module": "@jupyter-widgets/base",
       "_model_module_version": "2.0.0",
       "_model_name": "LayoutModel",
       "_view_count": null,
       "_view_module": "@jupyter-widgets/base",
       "_view_module_version": "2.0.0",
       "_view_name": "LayoutView",
       "align_content": null,
       "align_items": null,
       "align_self": null,
       "border_bottom": null,
       "border_left": null,
       "border_right": null,
       "border_top": null,
       "bottom": null,
       "display": null,
       "flex": null,
       "flex_flow": null,
       "grid_area": null,
       "grid_auto_columns": null,
       "grid_auto_flow": null,
       "grid_auto_rows": null,
       "grid_column": null,
       "grid_gap": null,
       "grid_row": null,
       "grid_template_areas": null,
       "grid_template_columns": null,
       "grid_template_rows": null,
       "height": null,
       "justify_content": null,
       "justify_items": null,
       "left": null,
       "margin": null,
       "max_height": null,
       "max_width": null,
       "min_height": null,
       "min_width": null,
       "object_fit": null,
       "object_position": null,
       "order": null,
       "overflow": null,
       "padding": null,
       "right": null,
       "top": null,
       "visibility": null,
       "width": null
      }
     },
     "72371f4b8c9a428ba02687a0c309894f": {
      "model_module": "@jupyter-widgets/base",
      "model_module_version": "2.0.0",
      "model_name": "LayoutModel",
      "state": {
       "_model_module": "@jupyter-widgets/base",
       "_model_module_version": "2.0.0",
       "_model_name": "LayoutModel",
       "_view_count": null,
       "_view_module": "@jupyter-widgets/base",
       "_view_module_version": "2.0.0",
       "_view_name": "LayoutView",
       "align_content": null,
       "align_items": null,
       "align_self": null,
       "border_bottom": null,
       "border_left": null,
       "border_right": null,
       "border_top": null,
       "bottom": null,
       "display": null,
       "flex": null,
       "flex_flow": null,
       "grid_area": null,
       "grid_auto_columns": null,
       "grid_auto_flow": null,
       "grid_auto_rows": null,
       "grid_column": null,
       "grid_gap": null,
       "grid_row": null,
       "grid_template_areas": null,
       "grid_template_columns": null,
       "grid_template_rows": null,
       "height": null,
       "justify_content": null,
       "justify_items": null,
       "left": null,
       "margin": null,
       "max_height": null,
       "max_width": null,
       "min_height": null,
       "min_width": null,
       "object_fit": null,
       "object_position": null,
       "order": null,
       "overflow": null,
       "padding": null,
       "right": null,
       "top": null,
       "visibility": null,
       "width": null
      }
     },
     "73a10582137f490185e19b70f5e2544f": {
      "model_module": "@jupyter-widgets/base",
      "model_module_version": "2.0.0",
      "model_name": "LayoutModel",
      "state": {
       "_model_module": "@jupyter-widgets/base",
       "_model_module_version": "2.0.0",
       "_model_name": "LayoutModel",
       "_view_count": null,
       "_view_module": "@jupyter-widgets/base",
       "_view_module_version": "2.0.0",
       "_view_name": "LayoutView",
       "align_content": null,
       "align_items": null,
       "align_self": null,
       "border_bottom": null,
       "border_left": null,
       "border_right": null,
       "border_top": null,
       "bottom": null,
       "display": null,
       "flex": null,
       "flex_flow": null,
       "grid_area": null,
       "grid_auto_columns": null,
       "grid_auto_flow": null,
       "grid_auto_rows": null,
       "grid_column": null,
       "grid_gap": null,
       "grid_row": null,
       "grid_template_areas": null,
       "grid_template_columns": null,
       "grid_template_rows": null,
       "height": null,
       "justify_content": null,
       "justify_items": null,
       "left": null,
       "margin": null,
       "max_height": null,
       "max_width": null,
       "min_height": null,
       "min_width": null,
       "object_fit": null,
       "object_position": null,
       "order": null,
       "overflow": null,
       "padding": null,
       "right": null,
       "top": null,
       "visibility": null,
       "width": null
      }
     },
     "74b5e3c21661443ca6fb76ffc0c9ff8e": {
      "model_module": "@jupyter-widgets/base",
      "model_module_version": "2.0.0",
      "model_name": "LayoutModel",
      "state": {
       "_model_module": "@jupyter-widgets/base",
       "_model_module_version": "2.0.0",
       "_model_name": "LayoutModel",
       "_view_count": null,
       "_view_module": "@jupyter-widgets/base",
       "_view_module_version": "2.0.0",
       "_view_name": "LayoutView",
       "align_content": null,
       "align_items": null,
       "align_self": null,
       "border_bottom": null,
       "border_left": null,
       "border_right": null,
       "border_top": null,
       "bottom": null,
       "display": null,
       "flex": null,
       "flex_flow": null,
       "grid_area": null,
       "grid_auto_columns": null,
       "grid_auto_flow": null,
       "grid_auto_rows": null,
       "grid_column": null,
       "grid_gap": null,
       "grid_row": null,
       "grid_template_areas": null,
       "grid_template_columns": null,
       "grid_template_rows": null,
       "height": null,
       "justify_content": null,
       "justify_items": null,
       "left": null,
       "margin": null,
       "max_height": null,
       "max_width": null,
       "min_height": null,
       "min_width": null,
       "object_fit": null,
       "object_position": null,
       "order": null,
       "overflow": null,
       "padding": null,
       "right": null,
       "top": null,
       "visibility": null,
       "width": null
      }
     },
     "77a97a83b4364536a129c34713baddae": {
      "model_module": "@jupyter-widgets/controls",
      "model_module_version": "2.0.0",
      "model_name": "HTMLStyleModel",
      "state": {
       "_model_module": "@jupyter-widgets/controls",
       "_model_module_version": "2.0.0",
       "_model_name": "HTMLStyleModel",
       "_view_count": null,
       "_view_module": "@jupyter-widgets/base",
       "_view_module_version": "2.0.0",
       "_view_name": "StyleView",
       "background": null,
       "description_width": "",
       "font_size": null,
       "text_color": null
      }
     },
     "7999cbae51fa486e804cf15ebfe8dfa7": {
      "model_module": "@jupyter-widgets/base",
      "model_module_version": "2.0.0",
      "model_name": "LayoutModel",
      "state": {
       "_model_module": "@jupyter-widgets/base",
       "_model_module_version": "2.0.0",
       "_model_name": "LayoutModel",
       "_view_count": null,
       "_view_module": "@jupyter-widgets/base",
       "_view_module_version": "2.0.0",
       "_view_name": "LayoutView",
       "align_content": null,
       "align_items": null,
       "align_self": null,
       "border_bottom": null,
       "border_left": null,
       "border_right": null,
       "border_top": null,
       "bottom": null,
       "display": null,
       "flex": null,
       "flex_flow": null,
       "grid_area": null,
       "grid_auto_columns": null,
       "grid_auto_flow": null,
       "grid_auto_rows": null,
       "grid_column": null,
       "grid_gap": null,
       "grid_row": null,
       "grid_template_areas": null,
       "grid_template_columns": null,
       "grid_template_rows": null,
       "height": null,
       "justify_content": null,
       "justify_items": null,
       "left": null,
       "margin": null,
       "max_height": null,
       "max_width": null,
       "min_height": null,
       "min_width": null,
       "object_fit": null,
       "object_position": null,
       "order": null,
       "overflow": null,
       "padding": null,
       "right": null,
       "top": null,
       "visibility": null,
       "width": null
      }
     },
     "7a35e6ee47304a799e500fd002c51c1b": {
      "model_module": "@jupyter-widgets/controls",
      "model_module_version": "2.0.0",
      "model_name": "HTMLModel",
      "state": {
       "_dom_classes": [],
       "_model_module": "@jupyter-widgets/controls",
       "_model_module_version": "2.0.0",
       "_model_name": "HTMLModel",
       "_view_count": null,
       "_view_module": "@jupyter-widgets/controls",
       "_view_module_version": "2.0.0",
       "_view_name": "HTMLView",
       "description": "",
       "description_allow_html": false,
       "layout": "IPY_MODEL_73a10582137f490185e19b70f5e2544f",
       "placeholder": "​",
       "style": "IPY_MODEL_0b12ca2e71cc4ca08b90eac34a256a14",
       "tabbable": null,
       "tooltip": null,
       "value": "<h5><a href=\"https://github.com/jupyter-server/kernel_gateway\">jupyter-server/kernel_gateway</a></h5>\n<ul>\n<li><a href=\"https://github.com/jupyter-server/kernel_gateway/issues/398\">(#398)</a>: <em>CLI fails to start on windows with signal import issue</em> by <strong><a href=\"https://github.com/jackgerrits\">@jackgerrits</a></strong></li>\n</ul>"
      }
     },
     "7bfd0354419d4d4491db722ac05e8b2c": {
      "model_module": "@jupyter-widgets/controls",
      "model_module_version": "2.0.0",
      "model_name": "HTMLStyleModel",
      "state": {
       "_model_module": "@jupyter-widgets/controls",
       "_model_module_version": "2.0.0",
       "_model_name": "HTMLStyleModel",
       "_view_count": null,
       "_view_module": "@jupyter-widgets/base",
       "_view_module_version": "2.0.0",
       "_view_name": "StyleView",
       "background": null,
       "description_width": "",
       "font_size": null,
       "text_color": null
      }
     },
     "7f16fe30687a4a6c81a6f6b1e3d7aef8": {
      "model_module": "@jupyter-widgets/controls",
      "model_module_version": "2.0.0",
      "model_name": "HTMLModel",
      "state": {
       "_dom_classes": [],
       "_model_module": "@jupyter-widgets/controls",
       "_model_module_version": "2.0.0",
       "_model_name": "HTMLModel",
       "_view_count": null,
       "_view_module": "@jupyter-widgets/controls",
       "_view_module_version": "2.0.0",
       "_view_name": "HTMLView",
       "description": "",
       "description_allow_html": false,
       "layout": "IPY_MODEL_040694472216489c86389444ce8ba76c",
       "placeholder": "​",
       "style": "IPY_MODEL_ab747ba59fba4d07b1a4d391ac4687cc",
       "tabbable": null,
       "tooltip": null,
       "value": "<ul>\n<li>(22) Towards a new generic and composable server - team-compass - <a href=\"https://github.com/jupyter-server/team-compass/issues/11\">#11</a></li>\n<li>(11) Proposal: Restore Notebook execution progress when a browser page is reloaded - jupyter_server - <a href=\"https://github.com/jupyter-server/jupyter_server/issues/1274\">#1274</a></li>\n<li>(9) Feature Request: Health check for enterprise gateway - enterprise_gateway - <a href=\"https://github.com/jupyter-server/enterprise_gateway/issues/697\">#697</a></li>\n<li>(9) Add GPU usage? - jupyter-resource-usage - <a href=\"https://github.com/jupyter-server/jupyter-resource-usage/issues/12\">#12</a></li>\n<li>(8) 'NoneType' object has no attribute 'kernel_ws_protocol' - jupyter_server - <a href=\"https://github.com/jupyter-server/jupyter_server/issues/1265\">#1265</a></li>\n<li>(5) Automatically delete all old Notebook jobs - jupyter-scheduler - <a href=\"https://github.com/jupyter-server/jupyter-scheduler/issues/328\">#328</a></li>\n<li>(4) [Proposal] Jupyter Server should handle resolving kernel lifecycle and execution states. - jupyter_server - <a href=\"https://github.com/jupyter-server/jupyter_server/issues/990\">#990</a></li>\n<li>(4)  Adding a release date alongside the release tag would be useful - jupyter_releaser - <a href=\"https://github.com/jupyter-server/jupyter_releaser/issues/600\">#600</a></li>\n<li>(4) Run python script files as jobs - jupyter-scheduler - <a href=\"https://github.com/jupyter-server/jupyter-scheduler/issues/409\">#409</a></li>\n<li>(4) Websocket connect rejected - jupyverse - <a href=\"https://github.com/jupyter-server/jupyverse/issues/409\">#409</a></li>\n<li>(3) Metric Collection and Montioring - enterprise_gateway - <a href=\"https://github.com/jupyter-server/enterprise_gateway/issues/731\">#731</a></li>\n<li>(3) Enable users to access the jupyter server logs - jupyter_server - <a href=\"https://github.com/jupyter-server/jupyter_server/issues/684\">#684</a></li>\n<li>(3) Idea💡 Use Cloud Native K8S Jupyter Operator - enterprise_gateway - <a href=\"https://github.com/jupyter-server/enterprise_gateway/issues/1025\">#1025</a></li>\n<li>(3) Remove usages of tornado io_loop in favor of native asyncio - jupyter_server - <a href=\"https://github.com/jupyter-server/jupyter_server/issues/1362\">#1362</a></li>\n<li>(3) Tracking free-threading support - jupyter_server - <a href=\"https://github.com/jupyter-server/jupyter_server/issues/1473\">#1473</a></li>\n<li>(3) Add Security.txt File - jupyter_server - <a href=\"https://github.com/jupyter-server/jupyter_server/issues/249\">#249</a></li>\n<li>(3) Convert tests to pytest framework - enterprise_gateway - <a href=\"https://github.com/jupyter-server/enterprise_gateway/issues/1089\">#1089</a></li>\n<li>(3) Shutting down the server started with password pre-set will encounter an error <code>tornado.httpclient.HTTPClientError: HTTP 403: Forbidden</code> - jupyter_server - <a href=\"https://github.com/jupyter-server/jupyter_server/issues/1008\">#1008</a></li>\n<li>(3) Support websocket connections in notebook-http mode - kernel_gateway - <a href=\"https://github.com/jupyter-server/kernel_gateway/issues/60\">#60</a></li>\n<li>(3) Serve kernel WASM assets - jupyter_server - <a href=\"https://github.com/jupyter-server/jupyter_server/issues/1376\">#1376</a></li>\n<li>(3) Registering new file formats for the ContentsManager - jupyter_server - <a href=\"https://github.com/jupyter-server/jupyter_server/issues/1456\">#1456</a></li>\n<li>(2) Issue when using directory named \"checkpoints\" or \"trust\" - jupyter_server - <a href=\"https://github.com/jupyter-server/jupyter_server/issues/58\">#58</a></li>\n<li>(2) Populate release as part of the <code>Step 1: Prep Release</code> workflow? - jupyter_releaser - <a href=\"https://github.com/jupyter-server/jupyter_releaser/issues/552\">#552</a></li>\n<li>(2) Make frontends discoverable and add a frontend alias. - jupyter_server - <a href=\"https://github.com/jupyter-server/jupyter_server/issues/121\">#121</a></li>\n<li>(2) Queue of jobs with max concurrency - jupyter-scheduler - <a href=\"https://github.com/jupyter-server/jupyter-scheduler/issues/447\">#447</a></li>\n</ul>"
      }
     },
     "81d1991e280040c8b27e01ab33c5fa5e": {
      "model_module": "@jupyter-widgets/base",
      "model_module_version": "2.0.0",
      "model_name": "LayoutModel",
      "state": {
       "_model_module": "@jupyter-widgets/base",
       "_model_module_version": "2.0.0",
       "_model_name": "LayoutModel",
       "_view_count": null,
       "_view_module": "@jupyter-widgets/base",
       "_view_module_version": "2.0.0",
       "_view_name": "LayoutView",
       "align_content": null,
       "align_items": null,
       "align_self": null,
       "border_bottom": null,
       "border_left": null,
       "border_right": null,
       "border_top": null,
       "bottom": null,
       "display": null,
       "flex": null,
       "flex_flow": null,
       "grid_area": null,
       "grid_auto_columns": null,
       "grid_auto_flow": null,
       "grid_auto_rows": null,
       "grid_column": null,
       "grid_gap": null,
       "grid_row": null,
       "grid_template_areas": null,
       "grid_template_columns": null,
       "grid_template_rows": null,
       "height": null,
       "justify_content": null,
       "justify_items": null,
       "left": null,
       "margin": null,
       "max_height": null,
       "max_width": null,
       "min_height": null,
       "min_width": null,
       "object_fit": null,
       "object_position": null,
       "order": null,
       "overflow": null,
       "padding": null,
       "right": null,
       "top": null,
       "visibility": null,
       "width": null
      }
     },
     "85d313efd6834b5da170afaad5425eb2": {
      "model_module": "@jupyter-widgets/base",
      "model_module_version": "2.0.0",
      "model_name": "LayoutModel",
      "state": {
       "_model_module": "@jupyter-widgets/base",
       "_model_module_version": "2.0.0",
       "_model_name": "LayoutModel",
       "_view_count": null,
       "_view_module": "@jupyter-widgets/base",
       "_view_module_version": "2.0.0",
       "_view_name": "LayoutView",
       "align_content": null,
       "align_items": null,
       "align_self": null,
       "border_bottom": null,
       "border_left": null,
       "border_right": null,
       "border_top": null,
       "bottom": null,
       "display": null,
       "flex": null,
       "flex_flow": null,
       "grid_area": null,
       "grid_auto_columns": null,
       "grid_auto_flow": null,
       "grid_auto_rows": null,
       "grid_column": null,
       "grid_gap": null,
       "grid_row": null,
       "grid_template_areas": null,
       "grid_template_columns": null,
       "grid_template_rows": null,
       "height": null,
       "justify_content": null,
       "justify_items": null,
       "left": null,
       "margin": null,
       "max_height": null,
       "max_width": null,
       "min_height": null,
       "min_width": null,
       "object_fit": null,
       "object_position": null,
       "order": null,
       "overflow": null,
       "padding": null,
       "right": null,
       "top": null,
       "visibility": null,
       "width": null
      }
     },
     "85e6162b75e64d4ca4b82641bd477ad7": {
      "model_module": "@jupyter-widgets/controls",
      "model_module_version": "2.0.0",
      "model_name": "HTMLStyleModel",
      "state": {
       "_model_module": "@jupyter-widgets/controls",
       "_model_module_version": "2.0.0",
       "_model_name": "HTMLStyleModel",
       "_view_count": null,
       "_view_module": "@jupyter-widgets/base",
       "_view_module_version": "2.0.0",
       "_view_name": "StyleView",
       "background": null,
       "description_width": "",
       "font_size": null,
       "text_color": null
      }
     },
     "87b5dcda5f21475a84ace1cd8dc3c509": {
      "model_module": "@jupyter-widgets/controls",
      "model_module_version": "2.0.0",
      "model_name": "HTMLStyleModel",
      "state": {
       "_model_module": "@jupyter-widgets/controls",
       "_model_module_version": "2.0.0",
       "_model_name": "HTMLStyleModel",
       "_view_count": null,
       "_view_module": "@jupyter-widgets/base",
       "_view_module_version": "2.0.0",
       "_view_name": "StyleView",
       "background": null,
       "description_width": "",
       "font_size": null,
       "text_color": null
      }
     },
     "8beabf0841d949afa14c98303f4b520d": {
      "model_module": "@jupyter-widgets/controls",
      "model_module_version": "2.0.0",
      "model_name": "HTMLStyleModel",
      "state": {
       "_model_module": "@jupyter-widgets/controls",
       "_model_module_version": "2.0.0",
       "_model_name": "HTMLStyleModel",
       "_view_count": null,
       "_view_module": "@jupyter-widgets/base",
       "_view_module_version": "2.0.0",
       "_view_name": "StyleView",
       "background": null,
       "description_width": "",
       "font_size": null,
       "text_color": null
      }
     },
     "90e648b03a72402092e9eefa896e98ce": {
      "model_module": "@jupyter-widgets/controls",
      "model_module_version": "2.0.0",
      "model_name": "TabModel",
      "state": {
       "_dom_classes": [],
       "_model_module": "@jupyter-widgets/controls",
       "_model_module_version": "2.0.0",
       "_model_name": "TabModel",
       "_view_count": null,
       "_view_module": "@jupyter-widgets/controls",
       "_view_module_version": "2.0.0",
       "_view_name": "TabView",
       "box_style": "",
       "children": [
        "IPY_MODEL_c3c0619f96b54709ab6aebab2c3f1d57",
        "IPY_MODEL_2c0b597cfb814cbe858699148b30cd7d",
        "IPY_MODEL_f80380d2f7b44ca191f056ebad6305ea",
        "IPY_MODEL_03468267f76c4a04a8f6d55155349657",
        "IPY_MODEL_b0b0b336ae794534843f07b82fe30e0a",
        "IPY_MODEL_e46c47e8a7484b669f446a1e74ec2614",
        "IPY_MODEL_365308b1933445adb3c70b579e9cf880"
       ],
       "layout": "IPY_MODEL_85d313efd6834b5da170afaad5425eb2",
       "selected_index": 0,
       "tabbable": null,
       "titles": [
        "fps",
        "jupyter-scheduler",
        "jupyter_releaser",
        "jupyter_server",
        "jupyter_server_terminals",
        "jupyter_ydoc",
        "jupyverse"
       ],
       "tooltip": null
      }
     },
     "9976325b9229432aabd33deac834fa47": {
      "model_module": "@jupyter-widgets/base",
      "model_module_version": "2.0.0",
      "model_name": "LayoutModel",
      "state": {
       "_model_module": "@jupyter-widgets/base",
       "_model_module_version": "2.0.0",
       "_model_name": "LayoutModel",
       "_view_count": null,
       "_view_module": "@jupyter-widgets/base",
       "_view_module_version": "2.0.0",
       "_view_name": "LayoutView",
       "align_content": null,
       "align_items": null,
       "align_self": null,
       "border_bottom": null,
       "border_left": null,
       "border_right": null,
       "border_top": null,
       "bottom": null,
       "display": null,
       "flex": null,
       "flex_flow": null,
       "grid_area": null,
       "grid_auto_columns": null,
       "grid_auto_flow": null,
       "grid_auto_rows": null,
       "grid_column": null,
       "grid_gap": null,
       "grid_row": null,
       "grid_template_areas": null,
       "grid_template_columns": null,
       "grid_template_rows": null,
       "height": null,
       "justify_content": null,
       "justify_items": null,
       "left": null,
       "margin": null,
       "max_height": null,
       "max_width": null,
       "min_height": null,
       "min_width": null,
       "object_fit": null,
       "object_position": null,
       "order": null,
       "overflow": null,
       "padding": null,
       "right": null,
       "top": null,
       "visibility": null,
       "width": null
      }
     },
     "9a0c018107944affb0fc63b756313104": {
      "model_module": "@jupyter-widgets/base",
      "model_module_version": "2.0.0",
      "model_name": "LayoutModel",
      "state": {
       "_model_module": "@jupyter-widgets/base",
       "_model_module_version": "2.0.0",
       "_model_name": "LayoutModel",
       "_view_count": null,
       "_view_module": "@jupyter-widgets/base",
       "_view_module_version": "2.0.0",
       "_view_name": "LayoutView",
       "align_content": null,
       "align_items": null,
       "align_self": null,
       "border_bottom": null,
       "border_left": null,
       "border_right": null,
       "border_top": null,
       "bottom": null,
       "display": null,
       "flex": null,
       "flex_flow": null,
       "grid_area": null,
       "grid_auto_columns": null,
       "grid_auto_flow": null,
       "grid_auto_rows": null,
       "grid_column": null,
       "grid_gap": null,
       "grid_row": null,
       "grid_template_areas": null,
       "grid_template_columns": null,
       "grid_template_rows": null,
       "height": null,
       "justify_content": null,
       "justify_items": null,
       "left": null,
       "margin": null,
       "max_height": null,
       "max_width": null,
       "min_height": null,
       "min_width": null,
       "object_fit": null,
       "object_position": null,
       "order": null,
       "overflow": null,
       "padding": null,
       "right": null,
       "top": null,
       "visibility": null,
       "width": null
      }
     },
     "9a3bf68eb17d4aeb8bb31b4567adadbb": {
      "model_module": "@jupyter-widgets/base",
      "model_module_version": "2.0.0",
      "model_name": "LayoutModel",
      "state": {
       "_model_module": "@jupyter-widgets/base",
       "_model_module_version": "2.0.0",
       "_model_name": "LayoutModel",
       "_view_count": null,
       "_view_module": "@jupyter-widgets/base",
       "_view_module_version": "2.0.0",
       "_view_name": "LayoutView",
       "align_content": null,
       "align_items": null,
       "align_self": null,
       "border_bottom": null,
       "border_left": null,
       "border_right": null,
       "border_top": null,
       "bottom": null,
       "display": null,
       "flex": null,
       "flex_flow": null,
       "grid_area": null,
       "grid_auto_columns": null,
       "grid_auto_flow": null,
       "grid_auto_rows": null,
       "grid_column": null,
       "grid_gap": null,
       "grid_row": null,
       "grid_template_areas": null,
       "grid_template_columns": null,
       "grid_template_rows": null,
       "height": null,
       "justify_content": null,
       "justify_items": null,
       "left": null,
       "margin": null,
       "max_height": null,
       "max_width": null,
       "min_height": null,
       "min_width": null,
       "object_fit": null,
       "object_position": null,
       "order": null,
       "overflow": null,
       "padding": null,
       "right": null,
       "top": null,
       "visibility": null,
       "width": null
      }
     },
     "9e944b18d097490a83e92a6fdfd87dd4": {
      "model_module": "@jupyter-widgets/controls",
      "model_module_version": "2.0.0",
      "model_name": "HTMLStyleModel",
      "state": {
       "_model_module": "@jupyter-widgets/controls",
       "_model_module_version": "2.0.0",
       "_model_name": "HTMLStyleModel",
       "_view_count": null,
       "_view_module": "@jupyter-widgets/base",
       "_view_module_version": "2.0.0",
       "_view_name": "StyleView",
       "background": null,
       "description_width": "",
       "font_size": null,
       "text_color": null
      }
     },
     "a1b7f451e47040d09a0e6d821b878ed8": {
      "model_module": "@jupyter-widgets/controls",
      "model_module_version": "2.0.0",
      "model_name": "HTMLStyleModel",
      "state": {
       "_model_module": "@jupyter-widgets/controls",
       "_model_module_version": "2.0.0",
       "_model_name": "HTMLStyleModel",
       "_view_count": null,
       "_view_module": "@jupyter-widgets/base",
       "_view_module_version": "2.0.0",
       "_view_name": "StyleView",
       "background": null,
       "description_width": "",
       "font_size": null,
       "text_color": null
      }
     },
     "a29e9ad7f09d432c8f2cae45381a0684": {
      "model_module": "@jupyter-widgets/base",
      "model_module_version": "2.0.0",
      "model_name": "LayoutModel",
      "state": {
       "_model_module": "@jupyter-widgets/base",
       "_model_module_version": "2.0.0",
       "_model_name": "LayoutModel",
       "_view_count": null,
       "_view_module": "@jupyter-widgets/base",
       "_view_module_version": "2.0.0",
       "_view_name": "LayoutView",
       "align_content": null,
       "align_items": null,
       "align_self": null,
       "border_bottom": null,
       "border_left": null,
       "border_right": null,
       "border_top": null,
       "bottom": null,
       "display": null,
       "flex": null,
       "flex_flow": null,
       "grid_area": null,
       "grid_auto_columns": null,
       "grid_auto_flow": null,
       "grid_auto_rows": null,
       "grid_column": null,
       "grid_gap": null,
       "grid_row": null,
       "grid_template_areas": null,
       "grid_template_columns": null,
       "grid_template_rows": null,
       "height": null,
       "justify_content": null,
       "justify_items": null,
       "left": null,
       "margin": null,
       "max_height": null,
       "max_width": null,
       "min_height": null,
       "min_width": null,
       "object_fit": null,
       "object_position": null,
       "order": null,
       "overflow": null,
       "padding": null,
       "right": null,
       "top": null,
       "visibility": null,
       "width": null
      }
     },
     "a3fc31d97e1b4f4687fb16a40ed36334": {
      "model_module": "@jupyter-widgets/controls",
      "model_module_version": "2.0.0",
      "model_name": "HTMLStyleModel",
      "state": {
       "_model_module": "@jupyter-widgets/controls",
       "_model_module_version": "2.0.0",
       "_model_name": "HTMLStyleModel",
       "_view_count": null,
       "_view_module": "@jupyter-widgets/base",
       "_view_module_version": "2.0.0",
       "_view_name": "StyleView",
       "background": null,
       "description_width": "",
       "font_size": null,
       "text_color": null
      }
     },
     "a76288a9338c4096842f1c00ec142bec": {
      "model_module": "@jupyter-widgets/controls",
      "model_module_version": "2.0.0",
      "model_name": "HTMLStyleModel",
      "state": {
       "_model_module": "@jupyter-widgets/controls",
       "_model_module_version": "2.0.0",
       "_model_name": "HTMLStyleModel",
       "_view_count": null,
       "_view_module": "@jupyter-widgets/base",
       "_view_module_version": "2.0.0",
       "_view_name": "StyleView",
       "background": null,
       "description_width": "",
       "font_size": null,
       "text_color": null
      }
     },
     "ab747ba59fba4d07b1a4d391ac4687cc": {
      "model_module": "@jupyter-widgets/controls",
      "model_module_version": "2.0.0",
      "model_name": "HTMLStyleModel",
      "state": {
       "_model_module": "@jupyter-widgets/controls",
       "_model_module_version": "2.0.0",
       "_model_name": "HTMLStyleModel",
       "_view_count": null,
       "_view_module": "@jupyter-widgets/base",
       "_view_module_version": "2.0.0",
       "_view_name": "StyleView",
       "background": null,
       "description_width": "",
       "font_size": null,
       "text_color": null
      }
     },
     "b0b0b336ae794534843f07b82fe30e0a": {
      "model_module": "@jupyter-widgets/controls",
      "model_module_version": "2.0.0",
      "model_name": "HTMLModel",
      "state": {
       "_dom_classes": [],
       "_model_module": "@jupyter-widgets/controls",
       "_model_module_version": "2.0.0",
       "_model_name": "HTMLModel",
       "_view_count": null,
       "_view_module": "@jupyter-widgets/controls",
       "_view_module_version": "2.0.0",
       "_view_name": "HTMLView",
       "description": "",
       "description_allow_html": false,
       "layout": "IPY_MODEL_ea18c8d40dd5484a8af9f928faddfc97",
       "placeholder": "​",
       "style": "IPY_MODEL_0a0dc33e1e714253bdd83bda49a4e575",
       "tabbable": null,
       "tooltip": null,
       "value": "<h4>Closed PRs for repo: <a href=\"https://github.com/jupyter-server/jupyter_server_terminals\">jupyter-server/jupyter_server_terminals</a></h4>\n<h5></h5>\n<ul>\n<li><a href=\"https://github.com/jupyter-server/jupyter_server_terminals/issues/109\">(#109)</a>: <em>allow async authorization</em> by <strong><a href=\"https://github.com/Zsailer\">@Zsailer</a></strong> merged by <strong><a href=\"https://github.com/Zsailer\">@Zsailer</a></strong></li>\n</ul>"
      }
     },
     "b313a2915886454c84eb87d4f5cf2e94": {
      "model_module": "@jupyter-widgets/base",
      "model_module_version": "2.0.0",
      "model_name": "LayoutModel",
      "state": {
       "_model_module": "@jupyter-widgets/base",
       "_model_module_version": "2.0.0",
       "_model_name": "LayoutModel",
       "_view_count": null,
       "_view_module": "@jupyter-widgets/base",
       "_view_module_version": "2.0.0",
       "_view_name": "LayoutView",
       "align_content": null,
       "align_items": null,
       "align_self": null,
       "border_bottom": null,
       "border_left": null,
       "border_right": null,
       "border_top": null,
       "bottom": null,
       "display": null,
       "flex": null,
       "flex_flow": null,
       "grid_area": null,
       "grid_auto_columns": null,
       "grid_auto_flow": null,
       "grid_auto_rows": null,
       "grid_column": null,
       "grid_gap": null,
       "grid_row": null,
       "grid_template_areas": null,
       "grid_template_columns": null,
       "grid_template_rows": null,
       "height": null,
       "justify_content": null,
       "justify_items": null,
       "left": null,
       "margin": null,
       "max_height": null,
       "max_width": null,
       "min_height": null,
       "min_width": null,
       "object_fit": null,
       "object_position": null,
       "order": null,
       "overflow": null,
       "padding": null,
       "right": null,
       "top": null,
       "visibility": null,
       "width": null
      }
     },
     "b4d147a80aeb424f85118642c1cc3f45": {
      "model_module": "@jupyter-widgets/controls",
      "model_module_version": "2.0.0",
      "model_name": "HTMLModel",
      "state": {
       "_dom_classes": [],
       "_model_module": "@jupyter-widgets/controls",
       "_model_module_version": "2.0.0",
       "_model_name": "HTMLModel",
       "_view_count": null,
       "_view_module": "@jupyter-widgets/controls",
       "_view_module_version": "2.0.0",
       "_view_name": "HTMLView",
       "description": "",
       "description_allow_html": false,
       "layout": "IPY_MODEL_2b4bc822f53641f8b6e5708d906f7312",
       "placeholder": "​",
       "style": "IPY_MODEL_8beabf0841d949afa14c98303f4b520d",
       "tabbable": null,
       "tooltip": null,
       "value": "<h5><a href=\"https://github.com/jupyter-server/jupyter-resource-usage\">jupyter-server/jupyter-resource-usage</a></h5>\n<ul>\n<li><a href=\"https://github.com/jupyter-server/jupyter-resource-usage/issues/237\">(#237)</a>: <em>update yarn.lock required: jupyterlab/coreutils =&gt; no exported member 'ResolvedRelativeTimeFormatOptions'</em> by <strong><a href=\"https://github.com/jhgoebbert\">@jhgoebbert</a></strong></li>\n<li><a href=\"https://github.com/jupyter-server/jupyter-resource-usage/issues/245\">(#245)</a>: <em>Enabling track_cpu_percent causes unacceptable input delay in terminal</em> by <strong><a href=\"https://github.com/ctcjab\">@ctcjab</a></strong></li>\n<li><a href=\"https://github.com/jupyter-server/jupyter-resource-usage/issues/242\">(#242)</a>: <em>Better <code>opt-in</code> than <code>opt-out</code> for <code>enable_prometheus_metrics</code></em> by <strong><a href=\"https://github.com/jhgoebbert\">@jhgoebbert</a></strong></li>\n<li><a href=\"https://github.com/jupyter-server/jupyter-resource-usage/issues/123\">(#123)</a>: <em>Prometheus metrics blocks tornado main thread</em> by <strong><a href=\"https://github.com/dleen\">@dleen</a></strong></li>\n<li><a href=\"https://github.com/jupyter-server/jupyter-resource-usage/issues/244\">(#244)</a>: <em>How to configure \"Enable resource usage indicators\" to true from <code>c = get_config()</code></em> by <strong><a href=\"https://github.com/sgrenf95\">@sgrenf95</a></strong></li>\n</ul>"
      }
     },
     "b620ecf969a044b79a5c7bb68660bdfc": {
      "model_module": "@jupyter-widgets/controls",
      "model_module_version": "2.0.0",
      "model_name": "HTMLModel",
      "state": {
       "_dom_classes": [],
       "_model_module": "@jupyter-widgets/controls",
       "_model_module_version": "2.0.0",
       "_model_name": "HTMLModel",
       "_view_count": null,
       "_view_module": "@jupyter-widgets/controls",
       "_view_module_version": "2.0.0",
       "_view_name": "HTMLView",
       "description": "",
       "description_allow_html": false,
       "layout": "IPY_MODEL_51716274da2b41448928c5ecfe40b605",
       "placeholder": "​",
       "style": "IPY_MODEL_108ace8848ac4c7bb838ebbcc975cfc3",
       "tabbable": null,
       "tooltip": null,
       "value": "<h5><a href=\"https://github.com/jupyter-server/gateway_provisioners\">jupyter-server/gateway_provisioners</a></h5>\n<ul>\n<li><a href=\"https://github.com/jupyter-server/gateway_provisioners/issues/139\">(#139)</a>: <em>Bug in the YarnProvisioner _query_app_by_name</em> by <strong><a href=\"https://github.com/abppriya\">@abppriya</a></strong></li>\n</ul>"
      }
     },
     "be58ed4868bb4197ac15bd68a7a8779d": {
      "model_module": "@jupyter-widgets/controls",
      "model_module_version": "2.0.0",
      "model_name": "HTMLStyleModel",
      "state": {
       "_model_module": "@jupyter-widgets/controls",
       "_model_module_version": "2.0.0",
       "_model_name": "HTMLStyleModel",
       "_view_count": null,
       "_view_module": "@jupyter-widgets/base",
       "_view_module_version": "2.0.0",
       "_view_name": "StyleView",
       "background": null,
       "description_width": "",
       "font_size": null,
       "text_color": null
      }
     },
     "bebda7dbc6434d549e8c2b71906e795d": {
      "model_module": "@jupyter-widgets/controls",
      "model_module_version": "2.0.0",
      "model_name": "HTMLStyleModel",
      "state": {
       "_model_module": "@jupyter-widgets/controls",
       "_model_module_version": "2.0.0",
       "_model_name": "HTMLStyleModel",
       "_view_count": null,
       "_view_module": "@jupyter-widgets/base",
       "_view_module_version": "2.0.0",
       "_view_name": "StyleView",
       "background": null,
       "description_width": "",
       "font_size": null,
       "text_color": null
      }
     },
     "c3b1230c987a4c79bb867b341b30687f": {
      "model_module": "@jupyter-widgets/controls",
      "model_module_version": "2.0.0",
      "model_name": "HTMLStyleModel",
      "state": {
       "_model_module": "@jupyter-widgets/controls",
       "_model_module_version": "2.0.0",
       "_model_name": "HTMLStyleModel",
       "_view_count": null,
       "_view_module": "@jupyter-widgets/base",
       "_view_module_version": "2.0.0",
       "_view_name": "StyleView",
       "background": null,
       "description_width": "",
       "font_size": null,
       "text_color": null
      }
     },
     "c3c0619f96b54709ab6aebab2c3f1d57": {
      "model_module": "@jupyter-widgets/controls",
      "model_module_version": "2.0.0",
      "model_name": "HTMLModel",
      "state": {
       "_dom_classes": [],
       "_model_module": "@jupyter-widgets/controls",
       "_model_module_version": "2.0.0",
       "_model_name": "HTMLModel",
       "_view_count": null,
       "_view_module": "@jupyter-widgets/controls",
       "_view_module_version": "2.0.0",
       "_view_name": "HTMLView",
       "description": "",
       "description_allow_html": false,
       "layout": "IPY_MODEL_2f4e257081b149c28ad95f8a85c80c20",
       "placeholder": "​",
       "style": "IPY_MODEL_ec124e0bb6f04d64a90bb573d181a81d",
       "tabbable": null,
       "tooltip": null,
       "value": "<h4>Closed PRs for repo: <a href=\"https://github.com/jupyter-server/fps\">jupyter-server/fps</a></h4>\n<h5></h5>\n<ul>\n<li><a href=\"https://github.com/jupyter-server/fps/issues/95\">(#95)</a>: <em>[pre-commit.ci] pre-commit autoupdate</em> by <strong><a href=\"https://github.com/pre-commit-ci[bot]\">@pre-commit-ci[bot]</a></strong> merged by <strong><a href=\"https://github.com/davidbrochart\">@davidbrochart</a></strong></li>\n<li><a href=\"https://github.com/jupyter-server/fps/issues/104\">(#104)</a>: <em>Wait for server to be started</em> by <strong><a href=\"https://github.com/davidbrochart\">@davidbrochart</a></strong> merged by <strong><a href=\"https://github.com/davidbrochart\">@davidbrochart</a></strong></li>\n<li><a href=\"https://github.com/jupyter-server/fps/issues/105\">(#105)</a>: <em>Stop application when background tasks fail</em> by <strong><a href=\"https://github.com/davidbrochart\">@davidbrochart</a></strong> merged by <strong><a href=\"https://github.com/davidbrochart\">@davidbrochart</a></strong></li>\n<li><a href=\"https://github.com/jupyter-server/fps/issues/106\">(#106)</a>: <em>Bump anyioutils v0.7.0</em> by <strong><a href=\"https://github.com/davidbrochart\">@davidbrochart</a></strong> merged by <strong><a href=\"https://github.com/davidbrochart\">@davidbrochart</a></strong></li>\n<li><a href=\"https://github.com/jupyter-server/fps/issues/107\">(#107)</a>: <em>Add --show-config CLI option</em> by <strong><a href=\"https://github.com/davidbrochart\">@davidbrochart</a></strong> merged by <strong><a href=\"https://github.com/davidbrochart\">@davidbrochart</a></strong></li>\n<li><a href=\"https://github.com/jupyter-server/fps/issues/108\">(#108)</a>: <em>Add --help-all CLI option</em> by <strong><a href=\"https://github.com/davidbrochart\">@davidbrochart</a></strong> merged by <strong><a href=\"https://github.com/davidbrochart\">@davidbrochart</a></strong></li>\n<li><a href=\"https://github.com/jupyter-server/fps/issues/109\">(#109)</a>: <em>Support running on Trio</em> by <strong><a href=\"https://github.com/davidbrochart\">@davidbrochart</a></strong> merged by <strong><a href=\"https://github.com/davidbrochart\">@davidbrochart</a></strong></li>\n<li><a href=\"https://github.com/jupyter-server/fps/issues/110\">(#110)</a>: <em>Fix KeyboardInterrupt handling on Trio</em> by <strong><a href=\"https://github.com/davidbrochart\">@davidbrochart</a></strong> merged by <strong><a href=\"https://github.com/davidbrochart\">@davidbrochart</a></strong></li>\n<li><a href=\"https://github.com/jupyter-server/fps/issues/111\">(#111)</a>: <em>Require anycorn &gt;=0.18.1</em> by <strong><a href=\"https://github.com/davidbrochart\">@davidbrochart</a></strong> merged by <strong><a href=\"https://github.com/davidbrochart\">@davidbrochart</a></strong></li>\n<li><a href=\"https://github.com/jupyter-server/fps/issues/113\">(#113)</a>: <em>missing default values in cli.main</em> by <strong><a href=\"https://github.com/minrk\">@minrk</a></strong> merged by <strong><a href=\"https://github.com/davidbrochart\">@davidbrochart</a></strong></li>\n<li><a href=\"https://github.com/jupyter-server/fps/issues/114\">(#114)</a>: <em>Add .gitignore</em> by <strong><a href=\"https://github.com/davidbrochart\">@davidbrochart</a></strong> merged by <strong><a href=\"https://github.com/davidbrochart\">@davidbrochart</a></strong></li>\n<li><a href=\"https://github.com/jupyter-server/fps/issues/115\">(#115)</a>: <em>Add concurrency test for tasks</em> by <strong><a href=\"https://github.com/davidbrochart\">@davidbrochart</a></strong> merged by <strong><a href=\"https://github.com/davidbrochart\">@davidbrochart</a></strong></li>\n<li><a href=\"https://github.com/jupyter-server/fps/issues/116\">(#116)</a>: <em>Add Context</em> by <strong><a href=\"https://github.com/davidbrochart\">@davidbrochart</a></strong> merged by <strong><a href=\"https://github.com/davidbrochart\">@davidbrochart</a></strong></li>\n<li><a href=\"https://github.com/jupyter-server/fps/issues/117\">(#117)</a>: <em>Add optional <code>teardown_callback</code> parameter to <code>Context.put()</code></em> by <strong><a href=\"https://github.com/davidbrochart\">@davidbrochart</a></strong> merged by <strong><a href=\"https://github.com/davidbrochart\">@davidbrochart</a></strong></li>\n<li><a href=\"https://github.com/jupyter-server/fps/issues/118\">(#118)</a>: <em>Convert repo to use releaser from repo</em> by <strong><a href=\"https://github.com/davidbrochart\">@davidbrochart</a></strong> merged by <strong><a href=\"https://github.com/Zsailer\">@Zsailer</a></strong></li>\n<li><a href=\"https://github.com/jupyter-server/fps/issues/119\">(#119)</a>: <em>Add context documentation</em> by <strong><a href=\"https://github.com/davidbrochart\">@davidbrochart</a></strong> merged by <strong><a href=\"https://github.com/davidbrochart\">@davidbrochart</a></strong></li>\n<li><a href=\"https://github.com/jupyter-server/fps/issues/120\">(#120)</a>: <em>Update to latest Jupyter Release Actions</em> by <strong><a href=\"https://github.com/Zsailer\">@Zsailer</a></strong> merged by <strong><a href=\"https://github.com/davidbrochart\">@davidbrochart</a></strong></li>\n<li><a href=\"https://github.com/jupyter-server/fps/issues/121\">(#121)</a>: <em>Revert \"Update to latest Jupyter Release Actions\"</em> by <strong><a href=\"https://github.com/Zsailer\">@Zsailer</a></strong> merged by <strong><a href=\"https://github.com/Zsailer\">@Zsailer</a></strong></li>\n<li><a href=\"https://github.com/jupyter-server/fps/issues/122\">(#122)</a>: <em>Export SharedValue</em> by <strong><a href=\"https://github.com/davidbrochart\">@davidbrochart</a></strong> merged by <strong><a href=\"https://github.com/davidbrochart\">@davidbrochart</a></strong></li>\n<li><a href=\"https://github.com/jupyter-server/fps/issues/123\">(#123)</a>: <em>Add Signal</em> by <strong><a href=\"https://github.com/davidbrochart\">@davidbrochart</a></strong> merged by <strong><a href=\"https://github.com/davidbrochart\">@davidbrochart</a></strong></li>\n<li><a href=\"https://github.com/jupyter-server/fps/issues/124\">(#124)</a>: <em>Add Signal iterator</em> by <strong><a href=\"https://github.com/davidbrochart\">@davidbrochart</a></strong> merged by <strong><a href=\"https://github.com/davidbrochart\">@davidbrochart</a></strong></li>\n<li><a href=\"https://github.com/jupyter-server/fps/issues/125\">(#125)</a>: <em>Add Signal documentation</em> by <strong><a href=\"https://github.com/davidbrochart\">@davidbrochart</a></strong> merged by <strong><a href=\"https://github.com/davidbrochart\">@davidbrochart</a></strong></li>\n<li><a href=\"https://github.com/jupyter-server/fps/issues/126\">(#126)</a>: <em>Rework context and shared value, add documentation</em> by <strong><a href=\"https://github.com/davidbrochart\">@davidbrochart</a></strong> merged by <strong><a href=\"https://github.com/davidbrochart\">@davidbrochart</a></strong></li>\n<li><a href=\"https://github.com/jupyter-server/fps/issues/127\">(#127)</a>: <em>Remove duplicated code</em> by <strong><a href=\"https://github.com/davidbrochart\">@davidbrochart</a></strong> merged by <strong><a href=\"https://github.com/davidbrochart\">@davidbrochart</a></strong></li>\n<li><a href=\"https://github.com/jupyter-server/fps/issues/128\">(#128)</a>: <em>Use dependency groups for <code>test</code> and <code>docs</code></em> by <strong><a href=\"https://github.com/davidbrochart\">@davidbrochart</a></strong> merged by <strong><a href=\"https://github.com/davidbrochart\">@davidbrochart</a></strong></li>\n<li><a href=\"https://github.com/jupyter-server/fps/issues/129\">(#129)</a>: <em>Add <code>Module</code> API documentation</em> by <strong><a href=\"https://github.com/davidbrochart\">@davidbrochart</a></strong> merged by <strong><a href=\"https://github.com/davidbrochart\">@davidbrochart</a></strong></li>\n</ul>"
      }
     },
     "c510f8d9cbff486d95742253a600aa25": {
      "model_module": "@jupyter-widgets/controls",
      "model_module_version": "2.0.0",
      "model_name": "HTMLModel",
      "state": {
       "_dom_classes": [],
       "_model_module": "@jupyter-widgets/controls",
       "_model_module_version": "2.0.0",
       "_model_name": "HTMLModel",
       "_view_count": null,
       "_view_module": "@jupyter-widgets/controls",
       "_view_module_version": "2.0.0",
       "_view_name": "HTMLView",
       "description": "",
       "description_allow_html": false,
       "layout": "IPY_MODEL_4413c2085f594307a6fc52aeb651bf2b",
       "placeholder": "​",
       "style": "IPY_MODEL_e1415601284c4016abe7c82e59ed83f0",
       "tabbable": null,
       "tooltip": null,
       "value": "<h5><a href=\"https://github.com/jupyter-server/jupyverse\">jupyter-server/jupyverse</a></h5>\n<ul>\n<li><a href=\"https://github.com/jupyter-server/jupyverse/issues/471\">(#471)</a>: <em>Move jupyverse to Jupyter PyPI organization</em> by <strong><a href=\"https://github.com/Zsailer\">@Zsailer</a></strong></li>\n<li><a href=\"https://github.com/jupyter-server/jupyverse/issues/236\">(#236)</a>: <em>Contents root_dir</em> by <strong><a href=\"https://github.com/davidbrochart\">@davidbrochart</a></strong></li>\n<li><a href=\"https://github.com/jupyter-server/jupyverse/issues/444\">(#444)</a>: <em>Rename mentions to <code>fps-</code>?</em> by <strong><a href=\"https://github.com/jtpio\">@jtpio</a></strong></li>\n</ul>"
      }
     },
     "c7bee65589de463987689c098a17d354": {
      "model_module": "@jupyter-widgets/controls",
      "model_module_version": "2.0.0",
      "model_name": "HTMLModel",
      "state": {
       "_dom_classes": [],
       "_model_module": "@jupyter-widgets/controls",
       "_model_module_version": "2.0.0",
       "_model_name": "HTMLModel",
       "_view_count": null,
       "_view_module": "@jupyter-widgets/controls",
       "_view_module_version": "2.0.0",
       "_view_name": "HTMLView",
       "description": "",
       "description_allow_html": false,
       "layout": "IPY_MODEL_01b25d7b8a064ff79af810cc9a1de1e0",
       "placeholder": "​",
       "style": "IPY_MODEL_7bfd0354419d4d4491db722ac05e8b2c",
       "tabbable": null,
       "tooltip": null,
       "value": "<h5><a href=\"https://github.com/jupyter-server/kernel_gateway\">jupyter-server/kernel_gateway</a></h5>\n<ul>\n<li><a href=\"https://github.com/jupyter-server/kernel_gateway/issues/398\">(#398)</a>: <em>CLI fails to start on windows with signal import issue</em> by <strong><a href=\"https://github.com/jackgerrits\">@jackgerrits</a></strong></li>\n</ul>"
      }
     },
     "c7f74b852bcb4578a06a2fb0f5f1cd88": {
      "model_module": "@jupyter-widgets/controls",
      "model_module_version": "2.0.0",
      "model_name": "HTMLStyleModel",
      "state": {
       "_model_module": "@jupyter-widgets/controls",
       "_model_module_version": "2.0.0",
       "_model_name": "HTMLStyleModel",
       "_view_count": null,
       "_view_module": "@jupyter-widgets/base",
       "_view_module_version": "2.0.0",
       "_view_name": "StyleView",
       "background": null,
       "description_width": "",
       "font_size": null,
       "text_color": null
      }
     },
     "c99639fb559945c781d6e74409a8b054": {
      "model_module": "@jupyter-widgets/controls",
      "model_module_version": "2.0.0",
      "model_name": "HTMLModel",
      "state": {
       "_dom_classes": [],
       "_model_module": "@jupyter-widgets/controls",
       "_model_module_version": "2.0.0",
       "_model_name": "HTMLModel",
       "_view_count": null,
       "_view_module": "@jupyter-widgets/controls",
       "_view_module_version": "2.0.0",
       "_view_name": "HTMLView",
       "description": "",
       "description_allow_html": false,
       "layout": "IPY_MODEL_ec7f4f26e9f44f49a0ca3a837144a568",
       "placeholder": "​",
       "style": "IPY_MODEL_a76288a9338c4096842f1c00ec142bec",
       "tabbable": null,
       "tooltip": null,
       "value": "<h5><a href=\"https://github.com/jupyter-server/jupyter_releaser\">jupyter-server/jupyter_releaser</a></h5>\n<ul>\n<li><a href=\"https://github.com/jupyter-server/jupyter_releaser/issues/604\">(#604)</a>: <em>Publish Release fails in FPS repo</em> by <strong><a href=\"https://github.com/davidbrochart\">@davidbrochart</a></strong></li>\n<li><a href=\"https://github.com/jupyter-server/jupyter_releaser/issues/606\">(#606)</a>: <em>Draft GitHub Release not created</em> by <strong><a href=\"https://github.com/jtpio\">@jtpio</a></strong></li>\n<li><a href=\"https://github.com/jupyter-server/jupyter_releaser/issues/603\">(#603)</a>: <em>Supporting publishing to multiple npm registries</em> by <strong><a href=\"https://github.com/martenrichter\">@martenrichter</a></strong></li>\n</ul>"
      }
     },
     "cd280df9ec9a463bb07a3d9a576843e3": {
      "model_module": "@jupyter-widgets/controls",
      "model_module_version": "2.0.0",
      "model_name": "HTMLModel",
      "state": {
       "_dom_classes": [],
       "_model_module": "@jupyter-widgets/controls",
       "_model_module_version": "2.0.0",
       "_model_name": "HTMLModel",
       "_view_count": null,
       "_view_module": "@jupyter-widgets/controls",
       "_view_module_version": "2.0.0",
       "_view_name": "HTMLView",
       "description": "",
       "description_allow_html": false,
       "layout": "IPY_MODEL_df03e06f922d48da8e2cbcd7b47b85d7",
       "placeholder": "​",
       "style": "IPY_MODEL_036126c8cdee41bcb1c74c34029862de",
       "tabbable": null,
       "tooltip": null,
       "value": "<h5><a href=\"https://github.com/jupyter-server/jupyter_server\">jupyter-server/jupyter_server</a></h5>\n<ul>\n<li><a href=\"https://github.com/jupyter-server/jupyter_server/issues/1519\">(#1519)</a>: <em>Time for a new release?</em> by <strong><a href=\"https://github.com/krassowski\">@krassowski</a></strong></li>\n<li><a href=\"https://github.com/jupyter-server/jupyter_server/issues/1428\">(#1428)</a>: <em>Fix outdated security documentation</em> by <strong><a href=\"https://github.com/colinpalmer\">@colinpalmer</a></strong></li>\n<li><a href=\"https://github.com/jupyter-server/jupyter_server/issues/1497\">(#1497)</a>: <em>AttributeError seen while running xeus-cpp</em> by <strong><a href=\"https://github.com/anutosh491\">@anutosh491</a></strong></li>\n<li><a href=\"https://github.com/jupyter-server/jupyter_server/issues/1524\">(#1524)</a>: <em>Crash when renaming large files</em> by <strong><a href=\"https://github.com/danyeaw\">@danyeaw</a></strong></li>\n<li><a href=\"https://github.com/jupyter-server/jupyter_server/issues/1476\">(#1476)</a>: <em>boostrap v3 is EOL upstream; migrate to bootstrap v5</em> by <strong><a href=\"https://github.com/juliangilbey\">@juliangilbey</a></strong></li>\n</ul>"
      }
     },
     "d1131247999b46a3b2839cfbdc2bd961": {
      "model_module": "@jupyter-widgets/controls",
      "model_module_version": "2.0.0",
      "model_name": "HTMLModel",
      "state": {
       "_dom_classes": [],
       "_model_module": "@jupyter-widgets/controls",
       "_model_module_version": "2.0.0",
       "_model_name": "HTMLModel",
       "_view_count": null,
       "_view_module": "@jupyter-widgets/controls",
       "_view_module_version": "2.0.0",
       "_view_name": "HTMLView",
       "description": "",
       "description_allow_html": false,
       "layout": "IPY_MODEL_1cfa82a71c8547689018fb74a0946ff5",
       "placeholder": "​",
       "style": "IPY_MODEL_c3b1230c987a4c79bb867b341b30687f",
       "tabbable": null,
       "tooltip": null,
       "value": "<h5><a href=\"https://github.com/jupyter-server/enterprise_gateway\">jupyter-server/enterprise_gateway</a></h5>\n<ul>\n<li><a href=\"https://github.com/jupyter-server/enterprise_gateway/issues/1392\">(#1392)</a>: _Custom Spark 3.5.3 Kernel _ by <strong><a href=\"https://github.com/fatihmete\">@fatihmete</a></strong></li>\n<li><a href=\"https://github.com/jupyter-server/enterprise_gateway/issues/1404\">(#1404)</a>: <em>Setting up Jupyterhub to work with Enterprise Gateway</em> by <strong><a href=\"https://github.com/demardefrozen10\">@demardefrozen10</a></strong></li>\n<li><a href=\"https://github.com/jupyter-server/enterprise_gateway/issues/1359\">(#1359)</a>: <em>KIP cannot use ImagePullSecret when using containerd</em> by <strong><a href=\"https://github.com/Buchhold\">@Buchhold</a></strong></li>\n<li><a href=\"https://github.com/jupyter-server/enterprise_gateway/issues/1382\">(#1382)</a>: <em>Error: module 'kubernetes.client' has no attribute 'V1Subject'</em> by <strong><a href=\"https://github.com/fm2022aa\">@fm2022aa</a></strong></li>\n<li><a href=\"https://github.com/jupyter-server/enterprise_gateway/issues/1402\">(#1402)</a>: <em>Fix Infinite Loop in WebSocket Connection Message Handling</em> by <strong><a href=\"https://github.com/zdhdsx\">@zdhdsx</a></strong></li>\n</ul>"
      }
     },
     "d567b8725df849749be01ef7eff95708": {
      "model_module": "@jupyter-widgets/controls",
      "model_module_version": "2.0.0",
      "model_name": "HTMLModel",
      "state": {
       "_dom_classes": [],
       "_model_module": "@jupyter-widgets/controls",
       "_model_module_version": "2.0.0",
       "_model_name": "HTMLModel",
       "_view_count": null,
       "_view_module": "@jupyter-widgets/controls",
       "_view_module_version": "2.0.0",
       "_view_name": "HTMLView",
       "description": "",
       "description_allow_html": false,
       "layout": "IPY_MODEL_81d1991e280040c8b27e01ab33c5fa5e",
       "placeholder": "​",
       "style": "IPY_MODEL_77a97a83b4364536a129c34713baddae",
       "tabbable": null,
       "tooltip": null,
       "value": "<h5><a href=\"https://github.com/jupyter-server/fps\">jupyter-server/fps</a></h5>\n<ul>\n<li><a href=\"https://github.com/jupyter-server/fps/issues/112\">(#112)</a>: <em>Move fps to Jupyter PyPI organization</em> by <strong><a href=\"https://github.com/Zsailer\">@Zsailer</a></strong></li>\n<li><a href=\"https://github.com/jupyter-server/fps/issues/44\">(#44)</a>: <em>Forward CLI args to application</em> by <strong><a href=\"https://github.com/davidbrochart\">@davidbrochart</a></strong></li>\n<li><a href=\"https://github.com/jupyter-server/fps/issues/54\">(#54)</a>: <em>Run-time plugin router definition</em> by <strong><a href=\"https://github.com/davidbrochart\">@davidbrochart</a></strong></li>\n</ul>"
      }
     },
     "dc553aeb27ec47b0a7abab1e6cda0bdf": {
      "model_module": "@jupyter-widgets/controls",
      "model_module_version": "2.0.0",
      "model_name": "HTMLStyleModel",
      "state": {
       "_model_module": "@jupyter-widgets/controls",
       "_model_module_version": "2.0.0",
       "_model_name": "HTMLStyleModel",
       "_view_count": null,
       "_view_module": "@jupyter-widgets/base",
       "_view_module_version": "2.0.0",
       "_view_name": "StyleView",
       "background": null,
       "description_width": "",
       "font_size": null,
       "text_color": null
      }
     },
     "df03e06f922d48da8e2cbcd7b47b85d7": {
      "model_module": "@jupyter-widgets/base",
      "model_module_version": "2.0.0",
      "model_name": "LayoutModel",
      "state": {
       "_model_module": "@jupyter-widgets/base",
       "_model_module_version": "2.0.0",
       "_model_name": "LayoutModel",
       "_view_count": null,
       "_view_module": "@jupyter-widgets/base",
       "_view_module_version": "2.0.0",
       "_view_name": "LayoutView",
       "align_content": null,
       "align_items": null,
       "align_self": null,
       "border_bottom": null,
       "border_left": null,
       "border_right": null,
       "border_top": null,
       "bottom": null,
       "display": null,
       "flex": null,
       "flex_flow": null,
       "grid_area": null,
       "grid_auto_columns": null,
       "grid_auto_flow": null,
       "grid_auto_rows": null,
       "grid_column": null,
       "grid_gap": null,
       "grid_row": null,
       "grid_template_areas": null,
       "grid_template_columns": null,
       "grid_template_rows": null,
       "height": null,
       "justify_content": null,
       "justify_items": null,
       "left": null,
       "margin": null,
       "max_height": null,
       "max_width": null,
       "min_height": null,
       "min_width": null,
       "object_fit": null,
       "object_position": null,
       "order": null,
       "overflow": null,
       "padding": null,
       "right": null,
       "top": null,
       "visibility": null,
       "width": null
      }
     },
     "e1415601284c4016abe7c82e59ed83f0": {
      "model_module": "@jupyter-widgets/controls",
      "model_module_version": "2.0.0",
      "model_name": "HTMLStyleModel",
      "state": {
       "_model_module": "@jupyter-widgets/controls",
       "_model_module_version": "2.0.0",
       "_model_name": "HTMLStyleModel",
       "_view_count": null,
       "_view_module": "@jupyter-widgets/base",
       "_view_module_version": "2.0.0",
       "_view_name": "StyleView",
       "background": null,
       "description_width": "",
       "font_size": null,
       "text_color": null
      }
     },
     "e3a92e5e5621490a95152d47df84d8b1": {
      "model_module": "@jupyter-widgets/controls",
      "model_module_version": "2.0.0",
      "model_name": "HTMLModel",
      "state": {
       "_dom_classes": [],
       "_model_module": "@jupyter-widgets/controls",
       "_model_module_version": "2.0.0",
       "_model_name": "HTMLModel",
       "_view_count": null,
       "_view_module": "@jupyter-widgets/controls",
       "_view_module_version": "2.0.0",
       "_view_name": "HTMLView",
       "description": "",
       "description_allow_html": false,
       "layout": "IPY_MODEL_9a0c018107944affb0fc63b756313104",
       "placeholder": "​",
       "style": "IPY_MODEL_135a47c62bda41d7adf028f395f36c38",
       "tabbable": null,
       "tooltip": null,
       "value": "<h5><a href=\"https://github.com/jupyter-server/fps\">jupyter-server/fps</a></h5>\n<ul>\n<li><a href=\"https://github.com/jupyter-server/fps/issues/112\">(#112)</a>: <em>Move fps to Jupyter PyPI organization</em> by <strong><a href=\"https://github.com/Zsailer\">@Zsailer</a></strong></li>\n<li><a href=\"https://github.com/jupyter-server/fps/issues/44\">(#44)</a>: <em>Forward CLI args to application</em> by <strong><a href=\"https://github.com/davidbrochart\">@davidbrochart</a></strong></li>\n<li><a href=\"https://github.com/jupyter-server/fps/issues/54\">(#54)</a>: <em>Run-time plugin router definition</em> by <strong><a href=\"https://github.com/davidbrochart\">@davidbrochart</a></strong></li>\n</ul>"
      }
     },
     "e3be0691a22a40de96250ce16b9946e5": {
      "model_module": "@jupyter-widgets/controls",
      "model_module_version": "2.0.0",
      "model_name": "HTMLModel",
      "state": {
       "_dom_classes": [],
       "_model_module": "@jupyter-widgets/controls",
       "_model_module_version": "2.0.0",
       "_model_name": "HTMLModel",
       "_view_count": null,
       "_view_module": "@jupyter-widgets/controls",
       "_view_module_version": "2.0.0",
       "_view_name": "HTMLView",
       "description": "",
       "description_allow_html": false,
       "layout": "IPY_MODEL_b313a2915886454c84eb87d4f5cf2e94",
       "placeholder": "​",
       "style": "IPY_MODEL_10e53ea1baa64a61aade75bafd6262cd",
       "tabbable": null,
       "tooltip": null,
       "value": "<h5><a href=\"https://github.com/jupyter-server/jupyverse\">jupyter-server/jupyverse</a></h5>\n<ul>\n<li><a href=\"https://github.com/jupyter-server/jupyverse/issues/471\">(#471)</a>: <em>Move jupyverse to Jupyter PyPI organization</em> by <strong><a href=\"https://github.com/Zsailer\">@Zsailer</a></strong></li>\n<li><a href=\"https://github.com/jupyter-server/jupyverse/issues/236\">(#236)</a>: <em>Contents root_dir</em> by <strong><a href=\"https://github.com/davidbrochart\">@davidbrochart</a></strong></li>\n<li><a href=\"https://github.com/jupyter-server/jupyverse/issues/444\">(#444)</a>: <em>Rename mentions to <code>fps-</code>?</em> by <strong><a href=\"https://github.com/jtpio\">@jtpio</a></strong></li>\n</ul>"
      }
     },
     "e46c47e8a7484b669f446a1e74ec2614": {
      "model_module": "@jupyter-widgets/controls",
      "model_module_version": "2.0.0",
      "model_name": "HTMLModel",
      "state": {
       "_dom_classes": [],
       "_model_module": "@jupyter-widgets/controls",
       "_model_module_version": "2.0.0",
       "_model_name": "HTMLModel",
       "_view_count": null,
       "_view_module": "@jupyter-widgets/controls",
       "_view_module_version": "2.0.0",
       "_view_name": "HTMLView",
       "description": "",
       "description_allow_html": false,
       "layout": "IPY_MODEL_9a3bf68eb17d4aeb8bb31b4567adadbb",
       "placeholder": "​",
       "style": "IPY_MODEL_4c99bf0cc5474de28098133c8419554c",
       "tabbable": null,
       "tooltip": null,
       "value": "<h4>Closed PRs for repo: <a href=\"https://github.com/jupyter-server/jupyter_ydoc\">jupyter-server/jupyter_ydoc</a></h4>\n<h5></h5>\n<ul>\n<li><a href=\"https://github.com/jupyter-server/jupyter_ydoc/issues/312\">(#312)</a>: <em>Fix including Typescript source in package</em> by <strong><a href=\"https://github.com/fcollonval\">@fcollonval</a></strong> merged by <strong><a href=\"https://github.com/fcollonval\">@fcollonval</a></strong></li>\n<li><a href=\"https://github.com/jupyter-server/jupyter_ydoc/issues/313\">(#313)</a>: <em>[pre-commit.ci] pre-commit autoupdate</em> by <strong><a href=\"https://github.com/pre-commit-ci[bot]\">@pre-commit-ci[bot]</a></strong> merged by <strong><a href=\"https://github.com/davidbrochart\">@davidbrochart</a></strong></li>\n<li><a href=\"https://github.com/jupyter-server/jupyter_ydoc/issues/314\">(#314)</a>: <em>[pre-commit.ci] pre-commit autoupdate</em> by <strong><a href=\"https://github.com/pre-commit-ci[bot]\">@pre-commit-ci[bot]</a></strong> merged by <strong><a href=\"https://github.com/davidbrochart\">@davidbrochart</a></strong></li>\n<li><a href=\"https://github.com/jupyter-server/jupyter_ydoc/issues/315\">(#315)</a>: <em>[pre-commit.ci] pre-commit autoupdate</em> by <strong><a href=\"https://github.com/pre-commit-ci[bot]\">@pre-commit-ci[bot]</a></strong> merged by <strong><a href=\"https://github.com/davidbrochart\">@davidbrochart</a></strong></li>\n<li><a href=\"https://github.com/jupyter-server/jupyter_ydoc/issues/316\">(#316)</a>: <em>[pre-commit.ci] pre-commit autoupdate</em> by <strong><a href=\"https://github.com/pre-commit-ci[bot]\">@pre-commit-ci[bot]</a></strong> merged by <strong><a href=\"https://github.com/davidbrochart\">@davidbrochart</a></strong></li>\n<li><a href=\"https://github.com/jupyter-server/jupyter_ydoc/issues/317\">(#317)</a>: <em>[pre-commit.ci] pre-commit autoupdate</em> by <strong><a href=\"https://github.com/pre-commit-ci[bot]\">@pre-commit-ci[bot]</a></strong> merged by <strong><a href=\"https://github.com/davidbrochart\">@davidbrochart</a></strong></li>\n<li><a href=\"https://github.com/jupyter-server/jupyter_ydoc/issues/319\">(#319)</a>: <em>[pre-commit.ci] pre-commit autoupdate</em> by <strong><a href=\"https://github.com/pre-commit-ci[bot]\">@pre-commit-ci[bot]</a></strong> merged by <strong><a href=\"https://github.com/davidbrochart\">@davidbrochart</a></strong></li>\n<li><a href=\"https://github.com/jupyter-server/jupyter_ydoc/issues/320\">(#320)</a>: <em>[pre-commit.ci] pre-commit autoupdate</em> by <strong><a href=\"https://github.com/pre-commit-ci[bot]\">@pre-commit-ci[bot]</a></strong> merged by <strong><a href=\"https://github.com/davidbrochart\">@davidbrochart</a></strong></li>\n<li><a href=\"https://github.com/jupyter-server/jupyter_ydoc/issues/321\">(#321)</a>: <em>Set <code>undoManager</code> in constructor for cells in notebook</em> by <strong><a href=\"https://github.com/krassowski\">@krassowski</a></strong> merged by <strong><a href=\"https://github.com/krassowski\">@krassowski</a></strong></li>\n<li><a href=\"https://github.com/jupyter-server/jupyter_ydoc/issues/322\">(#322)</a>: <em>[pre-commit.ci] pre-commit autoupdate</em> by <strong><a href=\"https://github.com/pre-commit-ci[bot]\">@pre-commit-ci[bot]</a></strong> merged by <strong><a href=\"https://github.com/davidbrochart\">@davidbrochart</a></strong></li>\n<li><a href=\"https://github.com/jupyter-server/jupyter_ydoc/issues/323\">(#323)</a>: <em>[pre-commit.ci] pre-commit autoupdate</em> by <strong><a href=\"https://github.com/pre-commit-ci[bot]\">@pre-commit-ci[bot]</a></strong> merged by <strong><a href=\"https://github.com/davidbrochart\">@davidbrochart</a></strong></li>\n<li><a href=\"https://github.com/jupyter-server/jupyter_ydoc/issues/324\">(#324)</a>: <em>[pre-commit.ci] pre-commit autoupdate</em> by <strong><a href=\"https://github.com/pre-commit-ci[bot]\">@pre-commit-ci[bot]</a></strong> merged by <strong><a href=\"https://github.com/davidbrochart\">@davidbrochart</a></strong></li>\n<li><a href=\"https://github.com/jupyter-server/jupyter_ydoc/issues/325\">(#325)</a>: <em>Bump <code>ip</code> from 2.0.0 to 2.0.1</em> by <strong><a href=\"https://github.com/dlqqq\">@dlqqq</a></strong> merged by <strong><a href=\"https://github.com/davidbrochart\">@davidbrochart</a></strong></li>\n<li><a href=\"https://github.com/jupyter-server/jupyter_ydoc/issues/326\">(#326)</a>: <em>[pre-commit.ci] pre-commit autoupdate</em> by <strong><a href=\"https://github.com/pre-commit-ci[bot]\">@pre-commit-ci[bot]</a></strong> merged by <strong><a href=\"https://github.com/davidbrochart\">@davidbrochart</a></strong></li>\n</ul>"
      }
     },
     "e81d42b1b24946399ba4809075251ff9": {
      "model_module": "@jupyter-widgets/controls",
      "model_module_version": "2.0.0",
      "model_name": "HTMLModel",
      "state": {
       "_dom_classes": [],
       "_model_module": "@jupyter-widgets/controls",
       "_model_module_version": "2.0.0",
       "_model_name": "HTMLModel",
       "_view_count": null,
       "_view_module": "@jupyter-widgets/controls",
       "_view_module_version": "2.0.0",
       "_view_name": "HTMLView",
       "description": "",
       "description_allow_html": false,
       "layout": "IPY_MODEL_9976325b9229432aabd33deac834fa47",
       "placeholder": "​",
       "style": "IPY_MODEL_dc553aeb27ec47b0a7abab1e6cda0bdf",
       "tabbable": null,
       "tooltip": null,
       "value": "<h5><a href=\"https://github.com/jupyter-server/jupyter-resource-usage\">jupyter-server/jupyter-resource-usage</a></h5>\n<ul>\n<li><a href=\"https://github.com/jupyter-server/jupyter-resource-usage/issues/237\">(#237)</a>: <em>update yarn.lock required: jupyterlab/coreutils =&gt; no exported member 'ResolvedRelativeTimeFormatOptions'</em> by <strong><a href=\"https://github.com/jhgoebbert\">@jhgoebbert</a></strong></li>\n<li><a href=\"https://github.com/jupyter-server/jupyter-resource-usage/issues/245\">(#245)</a>: <em>Enabling track_cpu_percent causes unacceptable input delay in terminal</em> by <strong><a href=\"https://github.com/ctcjab\">@ctcjab</a></strong></li>\n<li><a href=\"https://github.com/jupyter-server/jupyter-resource-usage/issues/242\">(#242)</a>: <em>Better <code>opt-in</code> than <code>opt-out</code> for <code>enable_prometheus_metrics</code></em> by <strong><a href=\"https://github.com/jhgoebbert\">@jhgoebbert</a></strong></li>\n<li><a href=\"https://github.com/jupyter-server/jupyter-resource-usage/issues/123\">(#123)</a>: <em>Prometheus metrics blocks tornado main thread</em> by <strong><a href=\"https://github.com/dleen\">@dleen</a></strong></li>\n<li><a href=\"https://github.com/jupyter-server/jupyter-resource-usage/issues/244\">(#244)</a>: <em>How to configure \"Enable resource usage indicators\" to true from <code>c = get_config()</code></em> by <strong><a href=\"https://github.com/sgrenf95\">@sgrenf95</a></strong></li>\n</ul>"
      }
     },
     "ea18c8d40dd5484a8af9f928faddfc97": {
      "model_module": "@jupyter-widgets/base",
      "model_module_version": "2.0.0",
      "model_name": "LayoutModel",
      "state": {
       "_model_module": "@jupyter-widgets/base",
       "_model_module_version": "2.0.0",
       "_model_name": "LayoutModel",
       "_view_count": null,
       "_view_module": "@jupyter-widgets/base",
       "_view_module_version": "2.0.0",
       "_view_name": "LayoutView",
       "align_content": null,
       "align_items": null,
       "align_self": null,
       "border_bottom": null,
       "border_left": null,
       "border_right": null,
       "border_top": null,
       "bottom": null,
       "display": null,
       "flex": null,
       "flex_flow": null,
       "grid_area": null,
       "grid_auto_columns": null,
       "grid_auto_flow": null,
       "grid_auto_rows": null,
       "grid_column": null,
       "grid_gap": null,
       "grid_row": null,
       "grid_template_areas": null,
       "grid_template_columns": null,
       "grid_template_rows": null,
       "height": null,
       "justify_content": null,
       "justify_items": null,
       "left": null,
       "margin": null,
       "max_height": null,
       "max_width": null,
       "min_height": null,
       "min_width": null,
       "object_fit": null,
       "object_position": null,
       "order": null,
       "overflow": null,
       "padding": null,
       "right": null,
       "top": null,
       "visibility": null,
       "width": null
      }
     },
     "ec124e0bb6f04d64a90bb573d181a81d": {
      "model_module": "@jupyter-widgets/controls",
      "model_module_version": "2.0.0",
      "model_name": "HTMLStyleModel",
      "state": {
       "_model_module": "@jupyter-widgets/controls",
       "_model_module_version": "2.0.0",
       "_model_name": "HTMLStyleModel",
       "_view_count": null,
       "_view_module": "@jupyter-widgets/base",
       "_view_module_version": "2.0.0",
       "_view_name": "StyleView",
       "background": null,
       "description_width": "",
       "font_size": null,
       "text_color": null
      }
     },
     "ec7f4f26e9f44f49a0ca3a837144a568": {
      "model_module": "@jupyter-widgets/base",
      "model_module_version": "2.0.0",
      "model_name": "LayoutModel",
      "state": {
       "_model_module": "@jupyter-widgets/base",
       "_model_module_version": "2.0.0",
       "_model_name": "LayoutModel",
       "_view_count": null,
       "_view_module": "@jupyter-widgets/base",
       "_view_module_version": "2.0.0",
       "_view_name": "LayoutView",
       "align_content": null,
       "align_items": null,
       "align_self": null,
       "border_bottom": null,
       "border_left": null,
       "border_right": null,
       "border_top": null,
       "bottom": null,
       "display": null,
       "flex": null,
       "flex_flow": null,
       "grid_area": null,
       "grid_auto_columns": null,
       "grid_auto_flow": null,
       "grid_auto_rows": null,
       "grid_column": null,
       "grid_gap": null,
       "grid_row": null,
       "grid_template_areas": null,
       "grid_template_columns": null,
       "grid_template_rows": null,
       "height": null,
       "justify_content": null,
       "justify_items": null,
       "left": null,
       "margin": null,
       "max_height": null,
       "max_width": null,
       "min_height": null,
       "min_width": null,
       "object_fit": null,
       "object_position": null,
       "order": null,
       "overflow": null,
       "padding": null,
       "right": null,
       "top": null,
       "visibility": null,
       "width": null
      }
     },
     "f42cccdf55474bdc8611cbbef6c8290b": {
      "model_module": "@jupyter-widgets/base",
      "model_module_version": "2.0.0",
      "model_name": "LayoutModel",
      "state": {
       "_model_module": "@jupyter-widgets/base",
       "_model_module_version": "2.0.0",
       "_model_name": "LayoutModel",
       "_view_count": null,
       "_view_module": "@jupyter-widgets/base",
       "_view_module_version": "2.0.0",
       "_view_name": "LayoutView",
       "align_content": null,
       "align_items": null,
       "align_self": null,
       "border_bottom": null,
       "border_left": null,
       "border_right": null,
       "border_top": null,
       "bottom": null,
       "display": null,
       "flex": null,
       "flex_flow": null,
       "grid_area": null,
       "grid_auto_columns": null,
       "grid_auto_flow": null,
       "grid_auto_rows": null,
       "grid_column": null,
       "grid_gap": null,
       "grid_row": null,
       "grid_template_areas": null,
       "grid_template_columns": null,
       "grid_template_rows": null,
       "height": null,
       "justify_content": null,
       "justify_items": null,
       "left": null,
       "margin": null,
       "max_height": null,
       "max_width": null,
       "min_height": null,
       "min_width": null,
       "object_fit": null,
       "object_position": null,
       "order": null,
       "overflow": null,
       "padding": null,
       "right": null,
       "top": null,
       "visibility": null,
       "width": null
      }
     },
     "f452cbd1300d479c97a40968dcf0ce1a": {
      "model_module": "@jupyter-widgets/controls",
      "model_module_version": "2.0.0",
      "model_name": "HTMLModel",
      "state": {
       "_dom_classes": [],
       "_model_module": "@jupyter-widgets/controls",
       "_model_module_version": "2.0.0",
       "_model_name": "HTMLModel",
       "_view_count": null,
       "_view_module": "@jupyter-widgets/controls",
       "_view_module_version": "2.0.0",
       "_view_name": "HTMLView",
       "description": "",
       "description_allow_html": false,
       "layout": "IPY_MODEL_74b5e3c21661443ca6fb76ffc0c9ff8e",
       "placeholder": "​",
       "style": "IPY_MODEL_0e240673cf79408a989227d200e742d6",
       "tabbable": null,
       "tooltip": null,
       "value": "<h5><a href=\"https://github.com/jupyter-server/jupyter_releaser\">jupyter-server/jupyter_releaser</a></h5>\n<ul>\n<li><a href=\"https://github.com/jupyter-server/jupyter_releaser/issues/604\">(#604)</a>: <em>Publish Release fails in FPS repo</em> by <strong><a href=\"https://github.com/davidbrochart\">@davidbrochart</a></strong></li>\n<li><a href=\"https://github.com/jupyter-server/jupyter_releaser/issues/606\">(#606)</a>: <em>Draft GitHub Release not created</em> by <strong><a href=\"https://github.com/jtpio\">@jtpio</a></strong></li>\n<li><a href=\"https://github.com/jupyter-server/jupyter_releaser/issues/603\">(#603)</a>: <em>Supporting publishing to multiple npm registries</em> by <strong><a href=\"https://github.com/martenrichter\">@martenrichter</a></strong></li>\n</ul>"
      }
     },
     "f80380d2f7b44ca191f056ebad6305ea": {
      "model_module": "@jupyter-widgets/controls",
      "model_module_version": "2.0.0",
      "model_name": "HTMLModel",
      "state": {
       "_dom_classes": [],
       "_model_module": "@jupyter-widgets/controls",
       "_model_module_version": "2.0.0",
       "_model_name": "HTMLModel",
       "_view_count": null,
       "_view_module": "@jupyter-widgets/controls",
       "_view_module_version": "2.0.0",
       "_view_name": "HTMLView",
       "description": "",
       "description_allow_html": false,
       "layout": "IPY_MODEL_fb6b80b886934018b6a6373d11c9353d",
       "placeholder": "​",
       "style": "IPY_MODEL_9e944b18d097490a83e92a6fdfd87dd4",
       "tabbable": null,
       "tooltip": null,
       "value": "<h4>Closed PRs for repo: <a href=\"https://github.com/jupyter-server/jupyter_releaser\">jupyter-server/jupyter_releaser</a></h4>\n<h5></h5>\n<ul>\n<li><a href=\"https://github.com/jupyter-server/jupyter_releaser/issues/605\">(#605)</a>: <em>Check for <code>npm</code> error code 409 to skip previously published packages in private registries</em> by <strong><a href=\"https://github.com/martenrichter\">@martenrichter</a></strong> merged by <strong><a href=\"https://github.com/krassowski\">@krassowski</a></strong></li>\n<li><a href=\"https://github.com/jupyter-server/jupyter_releaser/issues/607\">(#607)</a>: <em>Pin to <code>click&lt;8.2.0</code>, pin <code>pypiserver</code> based on the Python version</em> by <strong><a href=\"https://github.com/jtpio\">@jtpio</a></strong> merged by <strong><a href=\"https://github.com/krassowski\">@krassowski</a></strong></li>\n<li><a href=\"https://github.com/jupyter-server/jupyter_releaser/issues/608\">(#608)</a>: <em>Replace <code>ubuntu-20.04</code> runners with <code>ubuntu-latest</code></em> by <strong><a href=\"https://github.com/krassowski\">@krassowski</a></strong> merged by <strong><a href=\"https://github.com/jtpio\">@jtpio</a></strong></li>\n<li><a href=\"https://github.com/jupyter-server/jupyter_releaser/issues/609\">(#609)</a>: <em>Require Python 3.9+, test on Python 3.9 and 3.13</em> by <strong><a href=\"https://github.com/krassowski\">@krassowski</a></strong> merged by <strong><a href=\"https://github.com/jtpio\">@jtpio</a></strong></li>\n<li><a href=\"https://github.com/jupyter-server/jupyter_releaser/issues/610\">(#610)</a>: <em>CI troubleshoot</em> by <strong><a href=\"https://github.com/jtpio\">@jtpio</a></strong> merged by <strong><a href=\"https://github.com/jtpio\">@jtpio</a></strong></li>\n</ul>"
      }
     },
     "fb6b80b886934018b6a6373d11c9353d": {
      "model_module": "@jupyter-widgets/base",
      "model_module_version": "2.0.0",
      "model_name": "LayoutModel",
      "state": {
       "_model_module": "@jupyter-widgets/base",
       "_model_module_version": "2.0.0",
       "_model_name": "LayoutModel",
       "_view_count": null,
       "_view_module": "@jupyter-widgets/base",
       "_view_module_version": "2.0.0",
       "_view_name": "LayoutView",
       "align_content": null,
       "align_items": null,
       "align_self": null,
       "border_bottom": null,
       "border_left": null,
       "border_right": null,
       "border_top": null,
       "bottom": null,
       "display": null,
       "flex": null,
       "flex_flow": null,
       "grid_area": null,
       "grid_auto_columns": null,
       "grid_auto_flow": null,
       "grid_auto_rows": null,
       "grid_column": null,
       "grid_gap": null,
       "grid_row": null,
       "grid_template_areas": null,
       "grid_template_columns": null,
       "grid_template_rows": null,
       "height": null,
       "justify_content": null,
       "justify_items": null,
       "left": null,
       "margin": null,
       "max_height": null,
       "max_width": null,
       "min_height": null,
       "min_width": null,
       "object_fit": null,
       "object_position": null,
       "order": null,
       "overflow": null,
       "padding": null,
       "right": null,
       "top": null,
       "visibility": null,
       "width": null
      }
     }
    },
    "version_major": 2,
    "version_minor": 0
   }
  }
 },
 "nbformat": 4,
 "nbformat_minor": 5
}