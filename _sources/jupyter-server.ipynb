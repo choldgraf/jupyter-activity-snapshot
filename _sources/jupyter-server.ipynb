{
 "cells": [
  {
   "cell_type": "markdown",
   "id": "8326e439",
   "metadata": {
    "papermill": {
     "duration": 0.015658,
     "end_time": "2025-05-12T16:31:20.570575",
     "exception": false,
     "start_time": "2025-05-12T16:31:20.554917",
     "status": "completed"
    },
    "tags": []
   },
   "source": [
    "# {glue:text}`jupyter-server_github_org`\n",
    "\n",
    "**Activity from {glue:}`jupyter-server_start` to {glue:}`jupyter-server_stop`**"
   ]
  },
  {
   "cell_type": "code",
   "execution_count": 1,
   "id": "e4a13749",
   "metadata": {
    "editable": true,
    "execution": {
     "iopub.execute_input": "2025-05-12T16:31:20.601602Z",
     "iopub.status.busy": "2025-05-12T16:31:20.601091Z",
     "iopub.status.idle": "2025-05-12T16:31:21.445223Z",
     "shell.execute_reply": "2025-05-12T16:31:21.444549Z"
    },
    "papermill": {
     "duration": 0.861295,
     "end_time": "2025-05-12T16:31:21.446703",
     "exception": false,
     "start_time": "2025-05-12T16:31:20.585408",
     "status": "completed"
    },
    "slideshow": {
     "slide_type": ""
    },
    "tags": [
     "remove_cell"
    ]
   },
   "outputs": [],
   "source": [
    "from datetime import date\n",
    "from dateutil.relativedelta import relativedelta\n",
    "from myst_nb import glue\n",
    "import seaborn as sns\n",
    "import pandas as pd\n",
    "import numpy as np\n",
    "import altair as alt\n",
    "from markdown import markdown\n",
    "from IPython.display import Markdown\n",
    "from ipywidgets.widgets import HTML, Tab\n",
    "from ipywidgets import widgets\n",
    "from datetime import timedelta\n",
    "from matplotlib import pyplot as plt\n",
    "import os.path as op\n",
    "from json import loads\n",
    "\n",
    "from warnings import simplefilter\n",
    "simplefilter('ignore')\n",
    "pd.set_option('display.max_columns', None) # 'None' means show all"
   ]
  },
  {
   "cell_type": "code",
   "execution_count": 2,
   "id": "27bdfef6",
   "metadata": {
    "editable": true,
    "execution": {
     "iopub.execute_input": "2025-05-12T16:31:21.478619Z",
     "iopub.status.busy": "2025-05-12T16:31:21.478300Z",
     "iopub.status.idle": "2025-05-12T16:31:21.485912Z",
     "shell.execute_reply": "2025-05-12T16:31:21.485189Z"
    },
    "papermill": {
     "duration": 0.024669,
     "end_time": "2025-05-12T16:31:21.487059",
     "exception": false,
     "start_time": "2025-05-12T16:31:21.462390",
     "status": "completed"
    },
    "slideshow": {
     "slide_type": ""
    },
    "tags": [
     "remove_cell"
    ]
   },
   "outputs": [],
   "source": [
    "# Altair config\n",
    "def author_url(author):\n",
    "    return f\"https://github.com/{author}\"\n",
    "\n",
    "def alt_theme():\n",
    "    return {\n",
    "        'config': {\n",
    "            'axisLeft': {\n",
    "                'labelFontSize': 15,\n",
    "            },\n",
    "            'axisBottom': {\n",
    "                'labelFontSize': 15,\n",
    "            },\n",
    "        }\n",
    "    }\n",
    "\n",
    "alt.themes.register('my_theme', alt_theme)\n",
    "alt.themes.enable(\"my_theme\")\n",
    "\n",
    "\n",
    "# Define colors we'll use for GitHub membership\n",
    "author_types = ['MEMBER', 'CONTRIBUTOR', 'COLLABORATOR', \"NONE\"]\n",
    "\n",
    "author_palette = np.array(sns.palettes.blend_palette([\"lightgrey\", \"lightgreen\", \"darkgreen\"], 4)) * 256\n",
    "author_colors = [\"rgb({}, {}, {})\".format(*color) for color in author_palette]\n",
    "author_color_dict = {key: val for key, val in zip(author_types, author_palette)}"
   ]
  },
  {
   "cell_type": "code",
   "execution_count": 3,
   "id": "479e4151",
   "metadata": {
    "editable": true,
    "execution": {
     "iopub.execute_input": "2025-05-12T16:31:21.516157Z",
     "iopub.status.busy": "2025-05-12T16:31:21.515742Z",
     "iopub.status.idle": "2025-05-12T16:31:21.518816Z",
     "shell.execute_reply": "2025-05-12T16:31:21.518234Z"
    },
    "papermill": {
     "duration": 0.018816,
     "end_time": "2025-05-12T16:31:21.519882",
     "exception": false,
     "start_time": "2025-05-12T16:31:21.501066",
     "status": "completed"
    },
    "slideshow": {
     "slide_type": ""
    },
    "tags": [
     "parameters",
     "hide_input",
     "remove_cell"
    ]
   },
   "outputs": [],
   "source": [
    "github_org = \"jupyterhub\"\n",
    "top_n_repos = 15\n",
    "n_days = 90"
   ]
  },
  {
   "cell_type": "code",
   "execution_count": 4,
   "id": "ad71178a",
   "metadata": {
    "execution": {
     "iopub.execute_input": "2025-05-12T16:31:21.548803Z",
     "iopub.status.busy": "2025-05-12T16:31:21.548422Z",
     "iopub.status.idle": "2025-05-12T16:31:21.551288Z",
     "shell.execute_reply": "2025-05-12T16:31:21.550751Z"
    },
    "papermill": {
     "duration": 0.018468,
     "end_time": "2025-05-12T16:31:21.552280",
     "exception": false,
     "start_time": "2025-05-12T16:31:21.533812",
     "status": "completed"
    },
    "tags": [
     "injected-parameters",
     "remove-cell"
    ]
   },
   "outputs": [],
   "source": [
    "# Parameters\n",
    "github_org = \"jupyter-server\"\n",
    "n_days = 90\n"
   ]
  },
  {
   "cell_type": "code",
   "execution_count": 5,
   "id": "b1c60e92",
   "metadata": {
    "editable": true,
    "execution": {
     "iopub.execute_input": "2025-05-12T16:31:21.582586Z",
     "iopub.status.busy": "2025-05-12T16:31:21.582370Z",
     "iopub.status.idle": "2025-05-12T16:31:21.605389Z",
     "shell.execute_reply": "2025-05-12T16:31:21.604751Z"
    },
    "papermill": {
     "duration": 0.039595,
     "end_time": "2025-05-12T16:31:21.606453",
     "exception": false,
     "start_time": "2025-05-12T16:31:21.566858",
     "status": "completed"
    },
    "slideshow": {
     "slide_type": ""
    },
    "tags": [
     "remove_cell"
    ]
   },
   "outputs": [
    {
     "data": {
      "application/papermill.record/text/plain": "'jupyter-server'"
     },
     "metadata": {
      "scrapbook": {
       "mime_prefix": "application/papermill.record/",
       "name": "jupyter-server_github_org"
      }
     },
     "output_type": "display_data"
    },
    {
     "data": {
      "application/papermill.record/text/plain": "'2025-02-11'"
     },
     "metadata": {
      "scrapbook": {
       "mime_prefix": "application/papermill.record/",
       "name": "jupyter-server_start"
      }
     },
     "output_type": "display_data"
    },
    {
     "data": {
      "application/papermill.record/text/plain": "'2025-05-12'"
     },
     "metadata": {
      "scrapbook": {
       "mime_prefix": "application/papermill.record/",
       "name": "jupyter-server_stop"
      }
     },
     "output_type": "display_data"
    }
   ],
   "source": [
    "############################################################\n",
    "# Variables\n",
    "stop = date.today()\n",
    "start = date.today() - relativedelta(days=n_days)\n",
    "\n",
    "# Strings for use in queries\n",
    "start_date = f\"{start:%Y-%m-%d}\"\n",
    "stop_date = f\"{stop:%Y-%m-%d}\"\n",
    "\n",
    "# Glue variables for use in markdown\n",
    "glue(f\"{github_org}_github_org\", github_org, display=False)\n",
    "glue(f\"{github_org}_start\", start_date, display=False)\n",
    "glue(f\"{github_org}_stop\", stop_date, display=False)"
   ]
  },
  {
   "cell_type": "markdown",
   "id": "1fe700fd",
   "metadata": {
    "editable": true,
    "papermill": {
     "duration": 0.014437,
     "end_time": "2025-05-12T16:31:21.635392",
     "exception": false,
     "start_time": "2025-05-12T16:31:21.620955",
     "status": "completed"
    },
    "slideshow": {
     "slide_type": ""
    },
    "tags": []
   },
   "source": [
    "## Load data\n",
    "\n",
    "Load and clean up the data"
   ]
  },
  {
   "cell_type": "code",
   "execution_count": 6,
   "id": "bdab914f",
   "metadata": {
    "editable": true,
    "execution": {
     "iopub.execute_input": "2025-05-12T16:31:21.665538Z",
     "iopub.status.busy": "2025-05-12T16:31:21.664935Z",
     "iopub.status.idle": "2025-05-12T16:31:21.669611Z",
     "shell.execute_reply": "2025-05-12T16:31:21.669085Z"
    },
    "papermill": {
     "duration": 0.02101,
     "end_time": "2025-05-12T16:31:21.670708",
     "exception": false,
     "start_time": "2025-05-12T16:31:21.649698",
     "status": "completed"
    },
    "slideshow": {
     "slide_type": ""
    },
    "tags": [
     "remove_cell"
    ]
   },
   "outputs": [],
   "source": [
    "from pathlib import Path\n",
    "import sqlite3\n",
    "path_data = Path(\"../data\")\n",
    "path_data = list(path_data.rglob(f\"*{github_org}.db\"))[0]\n",
    "\n",
    "def df_from_sql(query, db):\n",
    "    con = sqlite3.connect(db)\n",
    "    return pd.read_sql(query, con)\n",
    "    con.close()"
   ]
  },
  {
   "cell_type": "code",
   "execution_count": 7,
   "id": "c3b80332",
   "metadata": {
    "editable": true,
    "execution": {
     "iopub.execute_input": "2025-05-12T16:31:21.702483Z",
     "iopub.status.busy": "2025-05-12T16:31:21.702038Z",
     "iopub.status.idle": "2025-05-12T16:31:21.970679Z",
     "shell.execute_reply": "2025-05-12T16:31:21.969995Z"
    },
    "papermill": {
     "duration": 0.286232,
     "end_time": "2025-05-12T16:31:21.972068",
     "exception": false,
     "start_time": "2025-05-12T16:31:21.685836",
     "status": "completed"
    },
    "scrolled": true,
    "slideshow": {
     "slide_type": ""
    },
    "tags": [
     "remove_cell"
    ]
   },
   "outputs": [
    {
     "name": "stdout",
     "output_type": "stream",
     "text": [
      "Loading from ../data/b0cc46e05ac6a93978539fc404bc6ea4-jupyter-server.db\n"
     ]
    }
   ],
   "source": [
    "print(f\"Loading from {path_data}\")\n",
    "repos = df_from_sql(\"SELECT * FROM repos\", path_data)\n",
    "users = df_from_sql(\"SELECT * FROM users\", path_data)\n",
    "issues = df_from_sql(\"SELECT * FROM issues\", path_data)\n",
    "comments = df_from_sql(\"SELECT * FROM issue_comments\", path_data)\n",
    "\n",
    "# Merge repository information into issues\n",
    "def merge_repo_into_df(df, kind):\n",
    "    df = pd.merge(df, users[[\"id\", \"login\"]], left_on=\"user\", right_on=\"id\", suffixes=(\"_issue\", \"_user\"), how=\"inner\")\n",
    "    df = pd.merge(df, repos[[\"id\", \"full_name\", \"name\"]], left_on=\"repo\", right_on=\"id\", suffixes=(\"_issue\", \"_repo\"), how=\"inner\")\n",
    "    df[\"org\"] = df[\"full_name\"].map(lambda a: a.split('/')[0])\n",
    "    df[\"repo\"] = df[\"full_name\"].map(lambda a: a.split('/')[1])\n",
    "    df[\"url\"] = \"https://github.com/\" + df[\"org\"] + \"/\" + df[\"repo\"] + f\"/{kind}/\" + df[\"number\"].astype(str)\n",
    "    return df\n",
    "issues = merge_repo_into_df(issues, kind=\"issues\")\n",
    "\n",
    "# Pull out the Pull Requests from Issues\n",
    "prs = issues.loc[~issues[\"pull_request\"].isna()]\n",
    "def identify_merger(closedby):\n",
    "    if not closedby:\n",
    "        return None\n",
    "    try:\n",
    "        cb = loads(closedby)\n",
    "    except:\n",
    "        print(closedby)\n",
    "    return cb[\"login\"]\n",
    "prs[\"merged_by\"] = prs[\"closed_by\"].map(identify_merger)\n",
    "\n",
    "# These issues now _remove_ the PRs\n",
    "issues = issues.loc[issues[\"pull_request\"].isna()]\n",
    "\n",
    "# Add reactions data\n",
    "def count_positive(a):\n",
    "    a = loads(a)\n",
    "    return a[\"+1\"] + a[\"hooray\"] + a[\"heart\"]\n",
    "issues[\"positive\"] = issues[\"reactions\"].map(count_positive)\n",
    "\n",
    "# Drop comments if there is no associated issue\n",
    "comments = comments.dropna(subset=[\"issue\"])\n",
    "comments[\"issue\"] = comments.loc[:, \"issue\"].astype(int)\n",
    "\n",
    "# Add repository information to comments\n",
    "comments = pd.merge(comments, issues[[\"id_issue\", \"full_name\", \"org\", \"repo\"]], left_on=\"issue\", right_on=\"id_issue\", how=\"inner\", suffixes=(\"_comment\", \"_issue\"))\n",
    "\n",
    "# Merge user data into comments\n",
    "comments = pd.merge(comments, users[[\"id\", \"login\"]], left_on=\"user\", right_on=\"id\", suffixes=(\"_comment\", \"_user\"), how=\"inner\")"
   ]
  },
  {
   "cell_type": "code",
   "execution_count": 8,
   "id": "007828b5",
   "metadata": {
    "editable": true,
    "execution": {
     "iopub.execute_input": "2025-05-12T16:31:22.002789Z",
     "iopub.status.busy": "2025-05-12T16:31:22.002344Z",
     "iopub.status.idle": "2025-05-12T16:31:22.031630Z",
     "shell.execute_reply": "2025-05-12T16:31:22.031083Z"
    },
    "papermill": {
     "duration": 0.045523,
     "end_time": "2025-05-12T16:31:22.032644",
     "exception": false,
     "start_time": "2025-05-12T16:31:21.987121",
     "status": "completed"
    },
    "slideshow": {
     "slide_type": ""
    },
    "tags": [
     "remove_cell"
    ]
   },
   "outputs": [],
   "source": [
    "# Convert columns to datetime\n",
    "datetime_columns = [\"created_at\", \"closed_at\"]\n",
    "for df in [comments, issues, prs]:\n",
    "    for col in datetime_columns:\n",
    "        if col in df:\n",
    "            df[col] = pd.to_datetime(df[col])\n",
    "            # Strip timezone information so we can run simpler queries\n",
    "            df[col] = df[col].dt.tz_localize(None)"
   ]
  },
  {
   "cell_type": "code",
   "execution_count": 9,
   "id": "eb654b79",
   "metadata": {
    "editable": true,
    "execution": {
     "iopub.execute_input": "2025-05-12T16:31:22.064012Z",
     "iopub.status.busy": "2025-05-12T16:31:22.063666Z",
     "iopub.status.idle": "2025-05-12T16:31:22.074412Z",
     "shell.execute_reply": "2025-05-12T16:31:22.073721Z"
    },
    "papermill": {
     "duration": 0.027773,
     "end_time": "2025-05-12T16:31:22.075557",
     "exception": false,
     "start_time": "2025-05-12T16:31:22.047784",
     "status": "completed"
    },
    "slideshow": {
     "slide_type": ""
    },
    "tags": [
     "remove_cell"
    ]
   },
   "outputs": [],
   "source": [
    "# What are the top N repos, we will only plot these in the full data plots\n",
    "top_commented_repos = comments.groupby(\"repo\").count().sort_values(\"created_at\", ascending=False)['created_at']\n",
    "use_repos = top_commented_repos.head(top_n_repos).index.tolist()"
   ]
  },
  {
   "cell_type": "markdown",
   "id": "f631f810",
   "metadata": {
    "editable": true,
    "papermill": {
     "duration": 0.014373,
     "end_time": "2025-05-12T16:31:22.104801",
     "exception": false,
     "start_time": "2025-05-12T16:31:22.090428",
     "status": "completed"
    },
    "slideshow": {
     "slide_type": ""
    },
    "tags": [],
    "toc-hr-collapsed": false
   },
   "source": [
    "## Merged Pull requests\n",
    "\n",
    "Here's an analysis of **merged pull requests** across each of the repositories in the Jupyter\n",
    "ecosystem."
   ]
  },
  {
   "cell_type": "code",
   "execution_count": 10,
   "id": "ad5a4196",
   "metadata": {
    "editable": true,
    "execution": {
     "iopub.execute_input": "2025-05-12T16:31:22.135171Z",
     "iopub.status.busy": "2025-05-12T16:31:22.134464Z",
     "iopub.status.idle": "2025-05-12T16:31:22.145731Z",
     "shell.execute_reply": "2025-05-12T16:31:22.145154Z"
    },
    "papermill": {
     "duration": 0.027514,
     "end_time": "2025-05-12T16:31:22.146838",
     "exception": false,
     "start_time": "2025-05-12T16:31:22.119324",
     "status": "completed"
    },
    "slideshow": {
     "slide_type": ""
    },
    "tags": [
     "remove_cell"
    ]
   },
   "outputs": [],
   "source": [
    "merged = prs.query('state == \"closed\" and closed_at > @start_date and closed_at < @stop_date')"
   ]
  },
  {
   "cell_type": "code",
   "execution_count": 11,
   "id": "cd43827b",
   "metadata": {
    "editable": true,
    "execution": {
     "iopub.execute_input": "2025-05-12T16:31:22.178284Z",
     "iopub.status.busy": "2025-05-12T16:31:22.177772Z",
     "iopub.status.idle": "2025-05-12T16:31:22.216961Z",
     "shell.execute_reply": "2025-05-12T16:31:22.216359Z"
    },
    "papermill": {
     "duration": 0.056219,
     "end_time": "2025-05-12T16:31:22.218072",
     "exception": false,
     "start_time": "2025-05-12T16:31:22.161853",
     "status": "completed"
    },
    "slideshow": {
     "slide_type": ""
    },
    "tags": [
     "hide_input"
    ]
   },
   "outputs": [
    {
     "data": {
      "text/html": [
       "\n",
       "<style>\n",
       "  #altair-viz-930622f46b2347b4bf0d71402d7da570.vega-embed {\n",
       "    width: 100%;\n",
       "    display: flex;\n",
       "  }\n",
       "\n",
       "  #altair-viz-930622f46b2347b4bf0d71402d7da570.vega-embed details,\n",
       "  #altair-viz-930622f46b2347b4bf0d71402d7da570.vega-embed details summary {\n",
       "    position: relative;\n",
       "  }\n",
       "</style>\n",
       "<div id=\"altair-viz-930622f46b2347b4bf0d71402d7da570\"></div>\n",
       "<script type=\"text/javascript\">\n",
       "  var VEGA_DEBUG = (typeof VEGA_DEBUG == \"undefined\") ? {} : VEGA_DEBUG;\n",
       "  (function(spec, embedOpt){\n",
       "    let outputDiv = document.currentScript.previousElementSibling;\n",
       "    if (outputDiv.id !== \"altair-viz-930622f46b2347b4bf0d71402d7da570\") {\n",
       "      outputDiv = document.getElementById(\"altair-viz-930622f46b2347b4bf0d71402d7da570\");\n",
       "    }\n",
       "\n",
       "    const paths = {\n",
       "      \"vega\": \"https://cdn.jsdelivr.net/npm/vega@5?noext\",\n",
       "      \"vega-lib\": \"https://cdn.jsdelivr.net/npm/vega-lib?noext\",\n",
       "      \"vega-lite\": \"https://cdn.jsdelivr.net/npm/vega-lite@5.20.1?noext\",\n",
       "      \"vega-embed\": \"https://cdn.jsdelivr.net/npm/vega-embed@6?noext\",\n",
       "    };\n",
       "\n",
       "    function maybeLoadScript(lib, version) {\n",
       "      var key = `${lib.replace(\"-\", \"\")}_version`;\n",
       "      return (VEGA_DEBUG[key] == version) ?\n",
       "        Promise.resolve(paths[lib]) :\n",
       "        new Promise(function(resolve, reject) {\n",
       "          var s = document.createElement('script');\n",
       "          document.getElementsByTagName(\"head\")[0].appendChild(s);\n",
       "          s.async = true;\n",
       "          s.onload = () => {\n",
       "            VEGA_DEBUG[key] = version;\n",
       "            return resolve(paths[lib]);\n",
       "          };\n",
       "          s.onerror = () => reject(`Error loading script: ${paths[lib]}`);\n",
       "          s.src = paths[lib];\n",
       "        });\n",
       "    }\n",
       "\n",
       "    function showError(err) {\n",
       "      outputDiv.innerHTML = `<div class=\"error\" style=\"color:red;\">${err}</div>`;\n",
       "      throw err;\n",
       "    }\n",
       "\n",
       "    function displayChart(vegaEmbed) {\n",
       "      vegaEmbed(outputDiv, spec, embedOpt)\n",
       "        .catch(err => showError(`Javascript Error: ${err.message}<br>This usually means there's a typo in your chart specification. See the javascript console for the full traceback.`));\n",
       "    }\n",
       "\n",
       "    if(typeof define === \"function\" && define.amd) {\n",
       "      requirejs.config({paths});\n",
       "      let deps = [\"vega-embed\"];\n",
       "      require(deps, displayChart, err => showError(`Error loading script: ${err.message}`));\n",
       "    } else {\n",
       "      maybeLoadScript(\"vega\", \"5\")\n",
       "        .then(() => maybeLoadScript(\"vega-lite\", \"5.20.1\"))\n",
       "        .then(() => maybeLoadScript(\"vega-embed\", \"6\"))\n",
       "        .catch(showError)\n",
       "        .then(() => displayChart(vegaEmbed));\n",
       "    }\n",
       "  })({\"config\": {\"axisLeft\": {\"labelFontSize\": 15}, \"axisBottom\": {\"labelFontSize\": 15}}, \"data\": {\"name\": \"data-c7998b9fc1693b064dea1bec4ecdda24\"}, \"mark\": {\"type\": \"bar\"}, \"encoding\": {\"color\": {\"field\": \"org\", \"type\": \"nominal\"}, \"x\": {\"field\": \"repo\", \"sort\": [\"jupyverse\", \"fps\", \"jupyter_ydoc\", \"jupyter_server\", \"jupyter-scheduler\", \"pytest-jupyter\", \"team-compass\", \"jupyter_server_terminals\"], \"type\": \"nominal\"}, \"y\": {\"field\": \"login\", \"type\": \"quantitative\"}}, \"title\": \"Merged PRs in the last 90 days\", \"$schema\": \"https://vega.github.io/schema/vega-lite/v5.20.1.json\", \"datasets\": {\"data-c7998b9fc1693b064dea1bec4ecdda24\": [{\"org\": \"jupyter-server\", \"repo\": \"jupyverse\", \"login\": 34}, {\"org\": \"jupyter-server\", \"repo\": \"fps\", \"login\": 28}, {\"org\": \"jupyter-server\", \"repo\": \"jupyter_ydoc\", \"login\": 14}, {\"org\": \"jupyter-server\", \"repo\": \"jupyter_server\", \"login\": 12}, {\"org\": \"jupyter-server\", \"repo\": \"jupyter-scheduler\", \"login\": 5}, {\"org\": \"jupyter-server\", \"repo\": \"pytest-jupyter\", \"login\": 2}, {\"org\": \"jupyter-server\", \"repo\": \"team-compass\", \"login\": 2}, {\"org\": \"jupyter-server\", \"repo\": \"jupyter_server_terminals\", \"login\": 1}]}}, {\"mode\": \"vega-lite\"});\n",
       "</script>"
      ],
      "text/plain": [
       "alt.Chart(...)"
      ]
     },
     "execution_count": 11,
     "metadata": {},
     "output_type": "execute_result"
    }
   ],
   "source": [
    "prs_by_repo = merged.groupby(['org', 'repo']).count()['login'].reset_index().sort_values(['org', 'login'], ascending=False)\n",
    "alt.Chart(data=prs_by_repo, title=f\"Merged PRs in the last {n_days} days\").mark_bar().encode(\n",
    "    x=alt.X('repo', sort=prs_by_repo['repo'].values.tolist()),\n",
    "    y='login',\n",
    "    color='org'\n",
    ")"
   ]
  },
  {
   "cell_type": "markdown",
   "id": "96cd49d7",
   "metadata": {
    "editable": true,
    "papermill": {
     "duration": 0.014769,
     "end_time": "2025-05-12T16:31:22.248352",
     "exception": false,
     "start_time": "2025-05-12T16:31:22.233583",
     "status": "completed"
    },
    "slideshow": {
     "slide_type": ""
    },
    "tags": []
   },
   "source": [
    "### Authoring and merging stats by repository\n",
    "\n",
    "Let's see who has been doing most of the PR authoring and merging. The PR author is generally the\n",
    "person that implemented a change in the repository (code, documentation, etc). The PR merger is\n",
    "the person that \"pressed the green button\" and got the change into the main codebase."
   ]
  },
  {
   "cell_type": "code",
   "execution_count": 12,
   "id": "3c68c24b",
   "metadata": {
    "editable": true,
    "execution": {
     "iopub.execute_input": "2025-05-12T16:31:22.281617Z",
     "iopub.status.busy": "2025-05-12T16:31:22.281115Z",
     "iopub.status.idle": "2025-05-12T16:31:22.292232Z",
     "shell.execute_reply": "2025-05-12T16:31:22.291623Z"
    },
    "papermill": {
     "duration": 0.029659,
     "end_time": "2025-05-12T16:31:22.293511",
     "exception": false,
     "start_time": "2025-05-12T16:31:22.263852",
     "status": "completed"
    },
    "slideshow": {
     "slide_type": ""
    },
    "tags": [
     "remove_cell"
    ]
   },
   "outputs": [],
   "source": [
    "# Prep our merging DF\n",
    "merged_by_repo = merged.groupby(['repo', 'login'], as_index=False).agg({'id': 'count', 'author_association': 'first'}).rename(columns={'id': \"authored\", 'login': 'username'})\n",
    "closed_by_repo = merged.groupby(['name', 'merged_by']).count()['id_issue'].reset_index().rename(columns={'id_issue': \"closed\", \"merged_by\": \"username\"})"
   ]
  },
  {
   "cell_type": "code",
   "execution_count": 13,
   "id": "c4788347",
   "metadata": {
    "editable": true,
    "execution": {
     "iopub.execute_input": "2025-05-12T16:31:22.325434Z",
     "iopub.status.busy": "2025-05-12T16:31:22.325123Z",
     "iopub.status.idle": "2025-05-12T16:31:22.350322Z",
     "shell.execute_reply": "2025-05-12T16:31:22.349720Z"
    },
    "papermill": {
     "duration": 0.042259,
     "end_time": "2025-05-12T16:31:22.351401",
     "exception": false,
     "start_time": "2025-05-12T16:31:22.309142",
     "status": "completed"
    },
    "slideshow": {
     "slide_type": ""
    },
    "tags": [
     "hide_input"
    ]
   },
   "outputs": [
    {
     "data": {
      "text/html": [
       "\n",
       "<style>\n",
       "  #altair-viz-3aa1849de03b4f10849016d51742fbf9.vega-embed {\n",
       "    width: 100%;\n",
       "    display: flex;\n",
       "  }\n",
       "\n",
       "  #altair-viz-3aa1849de03b4f10849016d51742fbf9.vega-embed details,\n",
       "  #altair-viz-3aa1849de03b4f10849016d51742fbf9.vega-embed details summary {\n",
       "    position: relative;\n",
       "  }\n",
       "</style>\n",
       "<div id=\"altair-viz-3aa1849de03b4f10849016d51742fbf9\"></div>\n",
       "<script type=\"text/javascript\">\n",
       "  var VEGA_DEBUG = (typeof VEGA_DEBUG == \"undefined\") ? {} : VEGA_DEBUG;\n",
       "  (function(spec, embedOpt){\n",
       "    let outputDiv = document.currentScript.previousElementSibling;\n",
       "    if (outputDiv.id !== \"altair-viz-3aa1849de03b4f10849016d51742fbf9\") {\n",
       "      outputDiv = document.getElementById(\"altair-viz-3aa1849de03b4f10849016d51742fbf9\");\n",
       "    }\n",
       "\n",
       "    const paths = {\n",
       "      \"vega\": \"https://cdn.jsdelivr.net/npm/vega@5?noext\",\n",
       "      \"vega-lib\": \"https://cdn.jsdelivr.net/npm/vega-lib?noext\",\n",
       "      \"vega-lite\": \"https://cdn.jsdelivr.net/npm/vega-lite@5.20.1?noext\",\n",
       "      \"vega-embed\": \"https://cdn.jsdelivr.net/npm/vega-embed@6?noext\",\n",
       "    };\n",
       "\n",
       "    function maybeLoadScript(lib, version) {\n",
       "      var key = `${lib.replace(\"-\", \"\")}_version`;\n",
       "      return (VEGA_DEBUG[key] == version) ?\n",
       "        Promise.resolve(paths[lib]) :\n",
       "        new Promise(function(resolve, reject) {\n",
       "          var s = document.createElement('script');\n",
       "          document.getElementsByTagName(\"head\")[0].appendChild(s);\n",
       "          s.async = true;\n",
       "          s.onload = () => {\n",
       "            VEGA_DEBUG[key] = version;\n",
       "            return resolve(paths[lib]);\n",
       "          };\n",
       "          s.onerror = () => reject(`Error loading script: ${paths[lib]}`);\n",
       "          s.src = paths[lib];\n",
       "        });\n",
       "    }\n",
       "\n",
       "    function showError(err) {\n",
       "      outputDiv.innerHTML = `<div class=\"error\" style=\"color:red;\">${err}</div>`;\n",
       "      throw err;\n",
       "    }\n",
       "\n",
       "    function displayChart(vegaEmbed) {\n",
       "      vegaEmbed(outputDiv, spec, embedOpt)\n",
       "        .catch(err => showError(`Javascript Error: ${err.message}<br>This usually means there's a typo in your chart specification. See the javascript console for the full traceback.`));\n",
       "    }\n",
       "\n",
       "    if(typeof define === \"function\" && define.amd) {\n",
       "      requirejs.config({paths});\n",
       "      let deps = [\"vega-embed\"];\n",
       "      require(deps, displayChart, err => showError(`Error loading script: ${err.message}`));\n",
       "    } else {\n",
       "      maybeLoadScript(\"vega\", \"5\")\n",
       "        .then(() => maybeLoadScript(\"vega-lite\", \"5.20.1\"))\n",
       "        .then(() => maybeLoadScript(\"vega-embed\", \"6\"))\n",
       "        .catch(showError)\n",
       "        .then(() => displayChart(vegaEmbed));\n",
       "    }\n",
       "  })({\"config\": {\"axisLeft\": {\"labelFontSize\": 15}, \"axisBottom\": {\"labelFontSize\": 15}}, \"data\": {\"name\": \"data-f1cb38bc945c1ad03c57f14630d469c3\"}, \"mark\": {\"type\": \"bar\"}, \"encoding\": {\"color\": {\"field\": \"author_association\", \"scale\": {\"domain\": [\"MEMBER\", \"CONTRIBUTOR\", \"COLLABORATOR\", \"NONE\"], \"range\": [\"rgb(211.82745098039214, 211.82745098039214, 211.82745098039214)\", \"rgb(166.98562091503268, 229.89803921568628, 166.98562091503268)\", \"rgb(96.37647058823529, 192.75294117647059, 96.37647058823529)\", \"rgb(0.0, 100.3921568627451, 0.0)\"]}, \"type\": \"nominal\"}, \"x\": {\"field\": \"username\", \"type\": \"nominal\"}, \"y\": {\"field\": \"authored\", \"type\": \"quantitative\"}}, \"title\": \"PR authors for jupyter-server in the last 90 days\", \"$schema\": \"https://vega.github.io/schema/vega-lite/v5.20.1.json\", \"datasets\": {\"data-f1cb38bc945c1ad03c57f14630d469c3\": [{\"username\": \"davidbrochart\", \"authored\": 47, \"author_association\": \"COLLABORATOR\"}, {\"username\": \"pre-commit-ci[bot]\", \"authored\": 23, \"author_association\": \"CONTRIBUTOR\"}, {\"username\": \"Zsailer\", \"authored\": 4, \"author_association\": \"MEMBER\"}, {\"username\": \"kjayan\", \"authored\": 3, \"author_association\": \"CONTRIBUTOR\"}, {\"username\": \"krassowski\", \"authored\": 2, \"author_association\": \"COLLABORATOR\"}, {\"username\": \"rakhmaevao\", \"authored\": 2, \"author_association\": \"NONE\"}, {\"username\": \"astitv-sh\", \"authored\": 2, \"author_association\": \"COLLABORATOR\"}, {\"username\": \"Darshan808\", \"authored\": 2, \"author_association\": \"CONTRIBUTOR\"}, {\"username\": \"asmita-sharma1625\", \"authored\": 2, \"author_association\": \"CONTRIBUTOR\"}, {\"username\": \"RRosio\", \"authored\": 1, \"author_association\": \"CONTRIBUTOR\"}, {\"username\": \"0Hughman0\", \"authored\": 1, \"author_association\": \"CONTRIBUTOR\"}, {\"username\": \"MaicoTimmerman\", \"authored\": 1, \"author_association\": \"CONTRIBUTOR\"}, {\"username\": \"fcollonval\", \"authored\": 1, \"author_association\": \"MEMBER\"}, {\"username\": \"dlqqq\", \"authored\": 1, \"author_association\": \"CONTRIBUTOR\"}, {\"username\": \"andrii-i\", \"authored\": 1, \"author_association\": \"COLLABORATOR\"}, {\"username\": \"ark-1\", \"authored\": 1, \"author_association\": \"CONTRIBUTOR\"}, {\"username\": \"minrk\", \"authored\": 1, \"author_association\": \"CONTRIBUTOR\"}, {\"username\": \"lresende\", \"authored\": 1, \"author_association\": \"MEMBER\"}, {\"username\": \"ojarjur\", \"authored\": 1, \"author_association\": \"CONTRIBUTOR\"}, {\"username\": \"nokados\", \"authored\": 1, \"author_association\": \"CONTRIBUTOR\"}]}}, {\"mode\": \"vega-lite\"});\n",
       "</script>"
      ],
      "text/plain": [
       "alt.Chart(...)"
      ]
     },
     "execution_count": 13,
     "metadata": {},
     "output_type": "execute_result"
    }
   ],
   "source": [
    "charts = []\n",
    "title = f\"PR authors for {github_org} in the last {n_days} days\"\n",
    "this_data = merged_by_repo.replace(np.nan, 0).groupby('username', as_index=False).agg({'authored': 'sum', 'author_association': 'first'})\n",
    "this_data = this_data.sort_values('authored', ascending=False)\n",
    "ch = alt.Chart(data=this_data, title=title).mark_bar().encode(\n",
    "    x='username',\n",
    "    y='authored',\n",
    "    color=alt.Color('author_association', scale=alt.Scale(domain=author_types, range=author_colors))\n",
    ")\n",
    "ch"
   ]
  },
  {
   "cell_type": "code",
   "execution_count": 14,
   "id": "2a288cf8",
   "metadata": {
    "editable": true,
    "execution": {
     "iopub.execute_input": "2025-05-12T16:31:22.385123Z",
     "iopub.status.busy": "2025-05-12T16:31:22.384601Z",
     "iopub.status.idle": "2025-05-12T16:31:22.403605Z",
     "shell.execute_reply": "2025-05-12T16:31:22.402924Z"
    },
    "papermill": {
     "duration": 0.037031,
     "end_time": "2025-05-12T16:31:22.404627",
     "exception": false,
     "start_time": "2025-05-12T16:31:22.367596",
     "status": "completed"
    },
    "slideshow": {
     "slide_type": ""
    },
    "tags": [
     "hide_input"
    ]
   },
   "outputs": [
    {
     "data": {
      "text/html": [
       "\n",
       "<style>\n",
       "  #altair-viz-09b5f32bcc744954ba71c4590daaac3e.vega-embed {\n",
       "    width: 100%;\n",
       "    display: flex;\n",
       "  }\n",
       "\n",
       "  #altair-viz-09b5f32bcc744954ba71c4590daaac3e.vega-embed details,\n",
       "  #altair-viz-09b5f32bcc744954ba71c4590daaac3e.vega-embed details summary {\n",
       "    position: relative;\n",
       "  }\n",
       "</style>\n",
       "<div id=\"altair-viz-09b5f32bcc744954ba71c4590daaac3e\"></div>\n",
       "<script type=\"text/javascript\">\n",
       "  var VEGA_DEBUG = (typeof VEGA_DEBUG == \"undefined\") ? {} : VEGA_DEBUG;\n",
       "  (function(spec, embedOpt){\n",
       "    let outputDiv = document.currentScript.previousElementSibling;\n",
       "    if (outputDiv.id !== \"altair-viz-09b5f32bcc744954ba71c4590daaac3e\") {\n",
       "      outputDiv = document.getElementById(\"altair-viz-09b5f32bcc744954ba71c4590daaac3e\");\n",
       "    }\n",
       "\n",
       "    const paths = {\n",
       "      \"vega\": \"https://cdn.jsdelivr.net/npm/vega@5?noext\",\n",
       "      \"vega-lib\": \"https://cdn.jsdelivr.net/npm/vega-lib?noext\",\n",
       "      \"vega-lite\": \"https://cdn.jsdelivr.net/npm/vega-lite@5.20.1?noext\",\n",
       "      \"vega-embed\": \"https://cdn.jsdelivr.net/npm/vega-embed@6?noext\",\n",
       "    };\n",
       "\n",
       "    function maybeLoadScript(lib, version) {\n",
       "      var key = `${lib.replace(\"-\", \"\")}_version`;\n",
       "      return (VEGA_DEBUG[key] == version) ?\n",
       "        Promise.resolve(paths[lib]) :\n",
       "        new Promise(function(resolve, reject) {\n",
       "          var s = document.createElement('script');\n",
       "          document.getElementsByTagName(\"head\")[0].appendChild(s);\n",
       "          s.async = true;\n",
       "          s.onload = () => {\n",
       "            VEGA_DEBUG[key] = version;\n",
       "            return resolve(paths[lib]);\n",
       "          };\n",
       "          s.onerror = () => reject(`Error loading script: ${paths[lib]}`);\n",
       "          s.src = paths[lib];\n",
       "        });\n",
       "    }\n",
       "\n",
       "    function showError(err) {\n",
       "      outputDiv.innerHTML = `<div class=\"error\" style=\"color:red;\">${err}</div>`;\n",
       "      throw err;\n",
       "    }\n",
       "\n",
       "    function displayChart(vegaEmbed) {\n",
       "      vegaEmbed(outputDiv, spec, embedOpt)\n",
       "        .catch(err => showError(`Javascript Error: ${err.message}<br>This usually means there's a typo in your chart specification. See the javascript console for the full traceback.`));\n",
       "    }\n",
       "\n",
       "    if(typeof define === \"function\" && define.amd) {\n",
       "      requirejs.config({paths});\n",
       "      let deps = [\"vega-embed\"];\n",
       "      require(deps, displayChart, err => showError(`Error loading script: ${err.message}`));\n",
       "    } else {\n",
       "      maybeLoadScript(\"vega\", \"5\")\n",
       "        .then(() => maybeLoadScript(\"vega-lite\", \"5.20.1\"))\n",
       "        .then(() => maybeLoadScript(\"vega-embed\", \"6\"))\n",
       "        .catch(showError)\n",
       "        .then(() => displayChart(vegaEmbed));\n",
       "    }\n",
       "  })({\"config\": {\"axisLeft\": {\"labelFontSize\": 15}, \"axisBottom\": {\"labelFontSize\": 15}}, \"data\": {\"name\": \"data-2256ee0058f734d95121601384c59e7b\"}, \"mark\": {\"type\": \"bar\"}, \"encoding\": {\"x\": {\"field\": \"username\", \"type\": \"nominal\"}, \"y\": {\"field\": \"closed\", \"type\": \"quantitative\"}}, \"title\": \"Users that have merged PRs for jupyter-server in the last 90 days\", \"$schema\": \"https://vega.github.io/schema/vega-lite/v5.20.1.json\", \"datasets\": {\"data-2256ee0058f734d95121601384c59e7b\": [{\"name\": \"fps\", \"username\": \"Zsailer\", \"closed\": 2}, {\"name\": \"fps\", \"username\": \"davidbrochart\", \"closed\": 26}, {\"name\": \"jupyter-scheduler\", \"username\": \"andrii-i\", \"closed\": 5}, {\"name\": \"jupyter_server\", \"username\": \"Zsailer\", \"closed\": 4}, {\"name\": \"jupyter_server\", \"username\": \"afshin\", \"closed\": 3}, {\"name\": \"jupyter_server\", \"username\": \"minrk\", \"closed\": 3}, {\"name\": \"jupyter_server\", \"username\": \"vidartf\", \"closed\": 2}, {\"name\": \"jupyter_server_terminals\", \"username\": \"Zsailer\", \"closed\": 1}, {\"name\": \"jupyter_ydoc\", \"username\": \"davidbrochart\", \"closed\": 12}, {\"name\": \"jupyter_ydoc\", \"username\": \"fcollonval\", \"closed\": 1}, {\"name\": \"jupyter_ydoc\", \"username\": \"krassowski\", \"closed\": 1}, {\"name\": \"jupyverse\", \"username\": \"davidbrochart\", \"closed\": 33}, {\"name\": \"jupyverse\", \"username\": \"rakhmaevao\", \"closed\": 1}, {\"name\": \"pytest-jupyter\", \"username\": \"minrk\", \"closed\": 2}, {\"name\": \"team-compass\", \"username\": \"Zsailer\", \"closed\": 2}]}}, {\"mode\": \"vega-lite\"});\n",
       "</script>"
      ],
      "text/plain": [
       "alt.Chart(...)"
      ]
     },
     "execution_count": 14,
     "metadata": {},
     "output_type": "execute_result"
    }
   ],
   "source": [
    "charts = []\n",
    "title = f\"Users that have merged PRs for {github_org} in the last {n_days} days\"\n",
    "ch = alt.Chart(data=closed_by_repo.replace(np.nan, 0), title=title).mark_bar().encode(\n",
    "    x='username',\n",
    "    y='closed',\n",
    ")\n",
    "ch"
   ]
  },
  {
   "cell_type": "markdown",
   "id": "11a4b593",
   "metadata": {
    "editable": true,
    "papermill": {
     "duration": 0.015449,
     "end_time": "2025-05-12T16:31:22.435729",
     "exception": false,
     "start_time": "2025-05-12T16:31:22.420280",
     "status": "completed"
    },
    "slideshow": {
     "slide_type": ""
    },
    "tags": []
   },
   "source": [
    "## Issues\n",
    "\n",
    "Issues are **conversations** that happen on our GitHub repositories. Here's an\n",
    "analysis of issues across the Jupyter organizations."
   ]
  },
  {
   "cell_type": "code",
   "execution_count": 15,
   "id": "6e32b47a",
   "metadata": {
    "editable": true,
    "execution": {
     "iopub.execute_input": "2025-05-12T16:31:22.467840Z",
     "iopub.status.busy": "2025-05-12T16:31:22.467329Z",
     "iopub.status.idle": "2025-05-12T16:31:22.485142Z",
     "shell.execute_reply": "2025-05-12T16:31:22.484587Z"
    },
    "papermill": {
     "duration": 0.035186,
     "end_time": "2025-05-12T16:31:22.486272",
     "exception": false,
     "start_time": "2025-05-12T16:31:22.451086",
     "status": "completed"
    },
    "slideshow": {
     "slide_type": ""
    },
    "tags": [
     "remove_cell"
    ]
   },
   "outputs": [],
   "source": [
    "created = issues.query('state == \"open\" and created_at > @start_date and created_at < @stop_date')\n",
    "closed = issues.query('state == \"closed\" and closed_at > @start_date and closed_at < @stop_date')"
   ]
  },
  {
   "cell_type": "code",
   "execution_count": 16,
   "id": "b0f96acd",
   "metadata": {
    "editable": true,
    "execution": {
     "iopub.execute_input": "2025-05-12T16:31:22.519833Z",
     "iopub.status.busy": "2025-05-12T16:31:22.519396Z",
     "iopub.status.idle": "2025-05-12T16:31:22.542421Z",
     "shell.execute_reply": "2025-05-12T16:31:22.541852Z"
    },
    "papermill": {
     "duration": 0.040691,
     "end_time": "2025-05-12T16:31:22.543445",
     "exception": false,
     "start_time": "2025-05-12T16:31:22.502754",
     "status": "completed"
    },
    "slideshow": {
     "slide_type": ""
    },
    "tags": [
     "hide_input"
    ]
   },
   "outputs": [
    {
     "data": {
      "text/html": [
       "\n",
       "<style>\n",
       "  #altair-viz-7406835991fa4d2591cbfd43756c637f.vega-embed {\n",
       "    width: 100%;\n",
       "    display: flex;\n",
       "  }\n",
       "\n",
       "  #altair-viz-7406835991fa4d2591cbfd43756c637f.vega-embed details,\n",
       "  #altair-viz-7406835991fa4d2591cbfd43756c637f.vega-embed details summary {\n",
       "    position: relative;\n",
       "  }\n",
       "</style>\n",
       "<div id=\"altair-viz-7406835991fa4d2591cbfd43756c637f\"></div>\n",
       "<script type=\"text/javascript\">\n",
       "  var VEGA_DEBUG = (typeof VEGA_DEBUG == \"undefined\") ? {} : VEGA_DEBUG;\n",
       "  (function(spec, embedOpt){\n",
       "    let outputDiv = document.currentScript.previousElementSibling;\n",
       "    if (outputDiv.id !== \"altair-viz-7406835991fa4d2591cbfd43756c637f\") {\n",
       "      outputDiv = document.getElementById(\"altair-viz-7406835991fa4d2591cbfd43756c637f\");\n",
       "    }\n",
       "\n",
       "    const paths = {\n",
       "      \"vega\": \"https://cdn.jsdelivr.net/npm/vega@5?noext\",\n",
       "      \"vega-lib\": \"https://cdn.jsdelivr.net/npm/vega-lib?noext\",\n",
       "      \"vega-lite\": \"https://cdn.jsdelivr.net/npm/vega-lite@5.20.1?noext\",\n",
       "      \"vega-embed\": \"https://cdn.jsdelivr.net/npm/vega-embed@6?noext\",\n",
       "    };\n",
       "\n",
       "    function maybeLoadScript(lib, version) {\n",
       "      var key = `${lib.replace(\"-\", \"\")}_version`;\n",
       "      return (VEGA_DEBUG[key] == version) ?\n",
       "        Promise.resolve(paths[lib]) :\n",
       "        new Promise(function(resolve, reject) {\n",
       "          var s = document.createElement('script');\n",
       "          document.getElementsByTagName(\"head\")[0].appendChild(s);\n",
       "          s.async = true;\n",
       "          s.onload = () => {\n",
       "            VEGA_DEBUG[key] = version;\n",
       "            return resolve(paths[lib]);\n",
       "          };\n",
       "          s.onerror = () => reject(`Error loading script: ${paths[lib]}`);\n",
       "          s.src = paths[lib];\n",
       "        });\n",
       "    }\n",
       "\n",
       "    function showError(err) {\n",
       "      outputDiv.innerHTML = `<div class=\"error\" style=\"color:red;\">${err}</div>`;\n",
       "      throw err;\n",
       "    }\n",
       "\n",
       "    function displayChart(vegaEmbed) {\n",
       "      vegaEmbed(outputDiv, spec, embedOpt)\n",
       "        .catch(err => showError(`Javascript Error: ${err.message}<br>This usually means there's a typo in your chart specification. See the javascript console for the full traceback.`));\n",
       "    }\n",
       "\n",
       "    if(typeof define === \"function\" && define.amd) {\n",
       "      requirejs.config({paths});\n",
       "      let deps = [\"vega-embed\"];\n",
       "      require(deps, displayChart, err => showError(`Error loading script: ${err.message}`));\n",
       "    } else {\n",
       "      maybeLoadScript(\"vega\", \"5\")\n",
       "        .then(() => maybeLoadScript(\"vega-lite\", \"5.20.1\"))\n",
       "        .then(() => maybeLoadScript(\"vega-embed\", \"6\"))\n",
       "        .catch(showError)\n",
       "        .then(() => displayChart(vegaEmbed));\n",
       "    }\n",
       "  })({\"config\": {\"axisLeft\": {\"labelFontSize\": 15}, \"axisBottom\": {\"labelFontSize\": 15}}, \"data\": {\"name\": \"data-cd46c18c8e0a8cf3c28d01fa0382b012\"}, \"mark\": {\"type\": \"bar\"}, \"encoding\": {\"x\": {\"field\": \"repo\", \"sort\": [\"jupyter-scheduler\", \"jupyter_server\", \"jupyter-resource-usage\", \"team-compass\", \"enterprise_gateway\", \"gateway_provisioners\", \"kernel_gateway\"], \"type\": \"nominal\"}, \"y\": {\"field\": \"number\", \"type\": \"quantitative\"}}, \"title\": \"Issues created in the last 90 days\", \"$schema\": \"https://vega.github.io/schema/vega-lite/v5.20.1.json\", \"datasets\": {\"data-cd46c18c8e0a8cf3c28d01fa0382b012\": [{\"org\": \"jupyter-server\", \"repo\": \"enterprise_gateway\", \"number\": 2, \"org/repo\": \"jupyter-server/enterprise_gateway\"}, {\"org\": \"jupyter-server\", \"repo\": \"gateway_provisioners\", \"number\": 1, \"org/repo\": \"jupyter-server/gateway_provisioners\"}, {\"org\": \"jupyter-server\", \"repo\": \"jupyter-resource-usage\", \"number\": 4, \"org/repo\": \"jupyter-server/jupyter-resource-usage\"}, {\"org\": \"jupyter-server\", \"repo\": \"jupyter-scheduler\", \"number\": 6, \"org/repo\": \"jupyter-server/jupyter-scheduler\"}, {\"org\": \"jupyter-server\", \"repo\": \"jupyter_server\", \"number\": 5, \"org/repo\": \"jupyter-server/jupyter_server\"}, {\"org\": \"jupyter-server\", \"repo\": \"kernel_gateway\", \"number\": 1, \"org/repo\": \"jupyter-server/kernel_gateway\"}, {\"org\": \"jupyter-server\", \"repo\": \"team-compass\", \"number\": 3, \"org/repo\": \"jupyter-server/team-compass\"}]}}, {\"mode\": \"vega-lite\"});\n",
       "</script>"
      ],
      "text/plain": [
       "alt.Chart(...)"
      ]
     },
     "execution_count": 16,
     "metadata": {},
     "output_type": "execute_result"
    }
   ],
   "source": [
    "created_counts = created.groupby(['org', 'repo']).count()['number'].reset_index()\n",
    "created_counts['org/repo'] = created_counts.apply(lambda a: a['org'] + '/' + a['repo'], axis=1)\n",
    "sorted_vals = created_counts.sort_values(['org', 'number'], ascending=False)['repo'].values\n",
    "alt.Chart(data=created_counts, title=f\"Issues created in the last {n_days} days\").mark_bar().encode(\n",
    "    x=alt.X('repo', sort=alt.Sort(sorted_vals.tolist())),\n",
    "    y='number',\n",
    ")"
   ]
  },
  {
   "cell_type": "code",
   "execution_count": 17,
   "id": "535ff063",
   "metadata": {
    "editable": true,
    "execution": {
     "iopub.execute_input": "2025-05-12T16:31:22.575798Z",
     "iopub.status.busy": "2025-05-12T16:31:22.575389Z",
     "iopub.status.idle": "2025-05-12T16:31:22.596372Z",
     "shell.execute_reply": "2025-05-12T16:31:22.595790Z"
    },
    "papermill": {
     "duration": 0.038369,
     "end_time": "2025-05-12T16:31:22.597404",
     "exception": false,
     "start_time": "2025-05-12T16:31:22.559035",
     "status": "completed"
    },
    "slideshow": {
     "slide_type": ""
    },
    "tags": [
     "hide_input"
    ]
   },
   "outputs": [
    {
     "data": {
      "text/html": [
       "\n",
       "<style>\n",
       "  #altair-viz-daf0b1bc582c4040a0805d1528966ee9.vega-embed {\n",
       "    width: 100%;\n",
       "    display: flex;\n",
       "  }\n",
       "\n",
       "  #altair-viz-daf0b1bc582c4040a0805d1528966ee9.vega-embed details,\n",
       "  #altair-viz-daf0b1bc582c4040a0805d1528966ee9.vega-embed details summary {\n",
       "    position: relative;\n",
       "  }\n",
       "</style>\n",
       "<div id=\"altair-viz-daf0b1bc582c4040a0805d1528966ee9\"></div>\n",
       "<script type=\"text/javascript\">\n",
       "  var VEGA_DEBUG = (typeof VEGA_DEBUG == \"undefined\") ? {} : VEGA_DEBUG;\n",
       "  (function(spec, embedOpt){\n",
       "    let outputDiv = document.currentScript.previousElementSibling;\n",
       "    if (outputDiv.id !== \"altair-viz-daf0b1bc582c4040a0805d1528966ee9\") {\n",
       "      outputDiv = document.getElementById(\"altair-viz-daf0b1bc582c4040a0805d1528966ee9\");\n",
       "    }\n",
       "\n",
       "    const paths = {\n",
       "      \"vega\": \"https://cdn.jsdelivr.net/npm/vega@5?noext\",\n",
       "      \"vega-lib\": \"https://cdn.jsdelivr.net/npm/vega-lib?noext\",\n",
       "      \"vega-lite\": \"https://cdn.jsdelivr.net/npm/vega-lite@5.20.1?noext\",\n",
       "      \"vega-embed\": \"https://cdn.jsdelivr.net/npm/vega-embed@6?noext\",\n",
       "    };\n",
       "\n",
       "    function maybeLoadScript(lib, version) {\n",
       "      var key = `${lib.replace(\"-\", \"\")}_version`;\n",
       "      return (VEGA_DEBUG[key] == version) ?\n",
       "        Promise.resolve(paths[lib]) :\n",
       "        new Promise(function(resolve, reject) {\n",
       "          var s = document.createElement('script');\n",
       "          document.getElementsByTagName(\"head\")[0].appendChild(s);\n",
       "          s.async = true;\n",
       "          s.onload = () => {\n",
       "            VEGA_DEBUG[key] = version;\n",
       "            return resolve(paths[lib]);\n",
       "          };\n",
       "          s.onerror = () => reject(`Error loading script: ${paths[lib]}`);\n",
       "          s.src = paths[lib];\n",
       "        });\n",
       "    }\n",
       "\n",
       "    function showError(err) {\n",
       "      outputDiv.innerHTML = `<div class=\"error\" style=\"color:red;\">${err}</div>`;\n",
       "      throw err;\n",
       "    }\n",
       "\n",
       "    function displayChart(vegaEmbed) {\n",
       "      vegaEmbed(outputDiv, spec, embedOpt)\n",
       "        .catch(err => showError(`Javascript Error: ${err.message}<br>This usually means there's a typo in your chart specification. See the javascript console for the full traceback.`));\n",
       "    }\n",
       "\n",
       "    if(typeof define === \"function\" && define.amd) {\n",
       "      requirejs.config({paths});\n",
       "      let deps = [\"vega-embed\"];\n",
       "      require(deps, displayChart, err => showError(`Error loading script: ${err.message}`));\n",
       "    } else {\n",
       "      maybeLoadScript(\"vega\", \"5\")\n",
       "        .then(() => maybeLoadScript(\"vega-lite\", \"5.20.1\"))\n",
       "        .then(() => maybeLoadScript(\"vega-embed\", \"6\"))\n",
       "        .catch(showError)\n",
       "        .then(() => displayChart(vegaEmbed));\n",
       "    }\n",
       "  })({\"config\": {\"axisLeft\": {\"labelFontSize\": 15}, \"axisBottom\": {\"labelFontSize\": 15}}, \"data\": {\"name\": \"data-e17a7f6273a8cf86b7a834e0736d136d\"}, \"mark\": {\"type\": \"bar\"}, \"encoding\": {\"x\": {\"field\": \"repo\", \"sort\": [\"jupyter_server\", \"jupyter-scheduler\", \"fps\", \"jupyverse\", \"enterprise_gateway\", \"jupyter_releaser\", \"team-compass\"], \"type\": \"nominal\"}, \"y\": {\"field\": \"number\", \"type\": \"quantitative\"}}, \"title\": \"Issues closed in the last 90 days\", \"$schema\": \"https://vega.github.io/schema/vega-lite/v5.20.1.json\", \"datasets\": {\"data-e17a7f6273a8cf86b7a834e0736d136d\": [{\"org\": \"jupyter-server\", \"repo\": \"enterprise_gateway\", \"number\": 2, \"org/repo\": \"jupyter-server/enterprise_gateway\"}, {\"org\": \"jupyter-server\", \"repo\": \"fps\", \"number\": 3, \"org/repo\": \"jupyter-server/fps\"}, {\"org\": \"jupyter-server\", \"repo\": \"jupyter-scheduler\", \"number\": 4, \"org/repo\": \"jupyter-server/jupyter-scheduler\"}, {\"org\": \"jupyter-server\", \"repo\": \"jupyter_releaser\", \"number\": 1, \"org/repo\": \"jupyter-server/jupyter_releaser\"}, {\"org\": \"jupyter-server\", \"repo\": \"jupyter_server\", \"number\": 9, \"org/repo\": \"jupyter-server/jupyter_server\"}, {\"org\": \"jupyter-server\", \"repo\": \"jupyverse\", \"number\": 3, \"org/repo\": \"jupyter-server/jupyverse\"}, {\"org\": \"jupyter-server\", \"repo\": \"team-compass\", \"number\": 1, \"org/repo\": \"jupyter-server/team-compass\"}]}}, {\"mode\": \"vega-lite\"});\n",
       "</script>"
      ],
      "text/plain": [
       "alt.Chart(...)"
      ]
     },
     "execution_count": 17,
     "metadata": {},
     "output_type": "execute_result"
    }
   ],
   "source": [
    "closed_counts = closed.groupby(['org', 'repo']).count()['number'].reset_index()\n",
    "closed_counts['org/repo'] = closed_counts.apply(lambda a: a['org'] + '/' + a['repo'], axis=1)\n",
    "sorted_vals = closed_counts.sort_values(['number'], ascending=False)['repo'].values\n",
    "alt.Chart(data=closed_counts, title=f\"Issues closed in the last {n_days} days\").mark_bar().encode(\n",
    "    x=alt.X('repo', sort=alt.Sort(sorted_vals.tolist())),\n",
    "    y='number',\n",
    ")"
   ]
  },
  {
   "cell_type": "code",
   "execution_count": 18,
   "id": "d97cb41d",
   "metadata": {
    "editable": true,
    "execution": {
     "iopub.execute_input": "2025-05-12T16:31:22.631335Z",
     "iopub.status.busy": "2025-05-12T16:31:22.630894Z",
     "iopub.status.idle": "2025-05-12T16:31:22.641075Z",
     "shell.execute_reply": "2025-05-12T16:31:22.640409Z"
    },
    "papermill": {
     "duration": 0.028653,
     "end_time": "2025-05-12T16:31:22.642209",
     "exception": false,
     "start_time": "2025-05-12T16:31:22.613556",
     "status": "completed"
    },
    "slideshow": {
     "slide_type": ""
    },
    "tags": [
     "remove_cell"
    ]
   },
   "outputs": [],
   "source": [
    "created_closed = pd.merge(created_counts.rename(columns={'number': 'created'}).drop(columns='org/repo'),\n",
    "                          closed_counts.rename(columns={'number': 'closed'}).drop(columns='org/repo'),\n",
    "                          on=['org', 'repo'], how='outer')\n",
    "\n",
    "created_closed = pd.melt(created_closed, id_vars=['org', 'repo'], var_name=\"kind\", value_name=\"count\").replace(np.nan, 0)"
   ]
  },
  {
   "cell_type": "code",
   "execution_count": 19,
   "id": "85d0c24d",
   "metadata": {
    "editable": true,
    "execution": {
     "iopub.execute_input": "2025-05-12T16:31:22.674806Z",
     "iopub.status.busy": "2025-05-12T16:31:22.674283Z",
     "iopub.status.idle": "2025-05-12T16:31:22.698481Z",
     "shell.execute_reply": "2025-05-12T16:31:22.697885Z"
    },
    "papermill": {
     "duration": 0.04161,
     "end_time": "2025-05-12T16:31:22.699551",
     "exception": false,
     "start_time": "2025-05-12T16:31:22.657941",
     "status": "completed"
    },
    "scrolled": true,
    "slideshow": {
     "slide_type": ""
    },
    "tags": [
     "hide_input"
    ]
   },
   "outputs": [
    {
     "data": {
      "text/html": [
       "\n",
       "<style>\n",
       "  #altair-viz-c0b29321c274444e8f85819835372663.vega-embed {\n",
       "    width: 100%;\n",
       "    display: flex;\n",
       "  }\n",
       "\n",
       "  #altair-viz-c0b29321c274444e8f85819835372663.vega-embed details,\n",
       "  #altair-viz-c0b29321c274444e8f85819835372663.vega-embed details summary {\n",
       "    position: relative;\n",
       "  }\n",
       "</style>\n",
       "<div id=\"altair-viz-c0b29321c274444e8f85819835372663\"></div>\n",
       "<script type=\"text/javascript\">\n",
       "  var VEGA_DEBUG = (typeof VEGA_DEBUG == \"undefined\") ? {} : VEGA_DEBUG;\n",
       "  (function(spec, embedOpt){\n",
       "    let outputDiv = document.currentScript.previousElementSibling;\n",
       "    if (outputDiv.id !== \"altair-viz-c0b29321c274444e8f85819835372663\") {\n",
       "      outputDiv = document.getElementById(\"altair-viz-c0b29321c274444e8f85819835372663\");\n",
       "    }\n",
       "\n",
       "    const paths = {\n",
       "      \"vega\": \"https://cdn.jsdelivr.net/npm/vega@5?noext\",\n",
       "      \"vega-lib\": \"https://cdn.jsdelivr.net/npm/vega-lib?noext\",\n",
       "      \"vega-lite\": \"https://cdn.jsdelivr.net/npm/vega-lite@5.20.1?noext\",\n",
       "      \"vega-embed\": \"https://cdn.jsdelivr.net/npm/vega-embed@6?noext\",\n",
       "    };\n",
       "\n",
       "    function maybeLoadScript(lib, version) {\n",
       "      var key = `${lib.replace(\"-\", \"\")}_version`;\n",
       "      return (VEGA_DEBUG[key] == version) ?\n",
       "        Promise.resolve(paths[lib]) :\n",
       "        new Promise(function(resolve, reject) {\n",
       "          var s = document.createElement('script');\n",
       "          document.getElementsByTagName(\"head\")[0].appendChild(s);\n",
       "          s.async = true;\n",
       "          s.onload = () => {\n",
       "            VEGA_DEBUG[key] = version;\n",
       "            return resolve(paths[lib]);\n",
       "          };\n",
       "          s.onerror = () => reject(`Error loading script: ${paths[lib]}`);\n",
       "          s.src = paths[lib];\n",
       "        });\n",
       "    }\n",
       "\n",
       "    function showError(err) {\n",
       "      outputDiv.innerHTML = `<div class=\"error\" style=\"color:red;\">${err}</div>`;\n",
       "      throw err;\n",
       "    }\n",
       "\n",
       "    function displayChart(vegaEmbed) {\n",
       "      vegaEmbed(outputDiv, spec, embedOpt)\n",
       "        .catch(err => showError(`Javascript Error: ${err.message}<br>This usually means there's a typo in your chart specification. See the javascript console for the full traceback.`));\n",
       "    }\n",
       "\n",
       "    if(typeof define === \"function\" && define.amd) {\n",
       "      requirejs.config({paths});\n",
       "      let deps = [\"vega-embed\"];\n",
       "      require(deps, displayChart, err => showError(`Error loading script: ${err.message}`));\n",
       "    } else {\n",
       "      maybeLoadScript(\"vega\", \"5\")\n",
       "        .then(() => maybeLoadScript(\"vega-lite\", \"5.20.1\"))\n",
       "        .then(() => maybeLoadScript(\"vega-embed\", \"6\"))\n",
       "        .catch(showError)\n",
       "        .then(() => displayChart(vegaEmbed));\n",
       "    }\n",
       "  })({\"config\": {\"axisLeft\": {\"labelFontSize\": 15}, \"axisBottom\": {\"labelFontSize\": 15}}, \"data\": {\"name\": \"data-fddae5753a2cab4c6df603cd2dcbc08d\"}, \"mark\": {\"type\": \"bar\"}, \"encoding\": {\"color\": {\"field\": \"kind\", \"type\": \"nominal\"}, \"column\": {\"field\": \"repo\", \"header\": {\"labelFontSize\": 12, \"title\": \"Issue activity, last 90 days for jupyter-server\", \"titleFontSize\": 15}, \"type\": \"nominal\"}, \"x\": {\"axis\": {\"labelFontSize\": 15, \"title\": \"\"}, \"field\": \"kind\", \"type\": \"nominal\"}, \"y\": {\"axis\": {\"labelFontSize\": 12, \"titleFontSize\": 15}, \"field\": \"count\", \"type\": \"quantitative\"}}, \"width\": 120, \"$schema\": \"https://vega.github.io/schema/vega-lite/v5.20.1.json\", \"datasets\": {\"data-fddae5753a2cab4c6df603cd2dcbc08d\": [{\"org\": \"jupyter-server\", \"repo\": \"enterprise_gateway\", \"kind\": \"created\", \"count\": 2.0}, {\"org\": \"jupyter-server\", \"repo\": \"fps\", \"kind\": \"created\", \"count\": 0.0}, {\"org\": \"jupyter-server\", \"repo\": \"gateway_provisioners\", \"kind\": \"created\", \"count\": 1.0}, {\"org\": \"jupyter-server\", \"repo\": \"jupyter-resource-usage\", \"kind\": \"created\", \"count\": 4.0}, {\"org\": \"jupyter-server\", \"repo\": \"jupyter-scheduler\", \"kind\": \"created\", \"count\": 6.0}, {\"org\": \"jupyter-server\", \"repo\": \"jupyter_releaser\", \"kind\": \"created\", \"count\": 0.0}, {\"org\": \"jupyter-server\", \"repo\": \"jupyter_server\", \"kind\": \"created\", \"count\": 5.0}, {\"org\": \"jupyter-server\", \"repo\": \"jupyverse\", \"kind\": \"created\", \"count\": 0.0}, {\"org\": \"jupyter-server\", \"repo\": \"kernel_gateway\", \"kind\": \"created\", \"count\": 1.0}, {\"org\": \"jupyter-server\", \"repo\": \"team-compass\", \"kind\": \"created\", \"count\": 3.0}, {\"org\": \"jupyter-server\", \"repo\": \"enterprise_gateway\", \"kind\": \"closed\", \"count\": 2.0}, {\"org\": \"jupyter-server\", \"repo\": \"fps\", \"kind\": \"closed\", \"count\": 3.0}, {\"org\": \"jupyter-server\", \"repo\": \"gateway_provisioners\", \"kind\": \"closed\", \"count\": 0.0}, {\"org\": \"jupyter-server\", \"repo\": \"jupyter-resource-usage\", \"kind\": \"closed\", \"count\": 0.0}, {\"org\": \"jupyter-server\", \"repo\": \"jupyter-scheduler\", \"kind\": \"closed\", \"count\": 4.0}, {\"org\": \"jupyter-server\", \"repo\": \"jupyter_releaser\", \"kind\": \"closed\", \"count\": 1.0}, {\"org\": \"jupyter-server\", \"repo\": \"jupyter_server\", \"kind\": \"closed\", \"count\": 9.0}, {\"org\": \"jupyter-server\", \"repo\": \"jupyverse\", \"kind\": \"closed\", \"count\": 3.0}, {\"org\": \"jupyter-server\", \"repo\": \"kernel_gateway\", \"kind\": \"closed\", \"count\": 0.0}, {\"org\": \"jupyter-server\", \"repo\": \"team-compass\", \"kind\": \"closed\", \"count\": 1.0}]}}, {\"mode\": \"vega-lite\"});\n",
       "</script>"
      ],
      "text/plain": [
       "alt.Chart(...)"
      ]
     },
     "execution_count": 19,
     "metadata": {},
     "output_type": "execute_result"
    }
   ],
   "source": [
    "charts = []\n",
    "# Pick the top 10 repositories\n",
    "top_repos = created_closed.groupby(['repo']).sum().sort_values(by='count', ascending=False).head(10).index\n",
    "ch = alt.Chart(created_closed.query('repo in @top_repos'), width=120).mark_bar().encode(\n",
    "    x=alt.X(\"kind\", axis=alt.Axis(labelFontSize=15, title=\"\")), \n",
    "    y=alt.Y('count', axis=alt.Axis(titleFontSize=15, labelFontSize=12)),\n",
    "    color='kind',\n",
    "    column=alt.Column(\"repo\", header=alt.Header(title=f\"Issue activity, last {n_days} days for {github_org}\", titleFontSize=15, labelFontSize=12))\n",
    ")\n",
    "ch"
   ]
  },
  {
   "cell_type": "code",
   "execution_count": 20,
   "id": "d6e4cd99",
   "metadata": {
    "editable": true,
    "execution": {
     "iopub.execute_input": "2025-05-12T16:31:22.733523Z",
     "iopub.status.busy": "2025-05-12T16:31:22.733299Z",
     "iopub.status.idle": "2025-05-12T16:31:22.740044Z",
     "shell.execute_reply": "2025-05-12T16:31:22.739454Z"
    },
    "papermill": {
     "duration": 0.024797,
     "end_time": "2025-05-12T16:31:22.741042",
     "exception": false,
     "start_time": "2025-05-12T16:31:22.716245",
     "status": "completed"
    },
    "slideshow": {
     "slide_type": ""
    },
    "tags": [
     "remove_cell"
    ]
   },
   "outputs": [],
   "source": [
    "# Set to datetime\n",
    "for kind in ['created_at', 'closed_at']:\n",
    "    closed.loc[:, kind] = pd.to_datetime(closed[kind])\n",
    "    \n",
    "closed.loc[:, 'time_open'] = closed['closed_at'] - closed['created_at']\n",
    "closed.loc[:, 'time_open'] = closed['time_open'].dt.total_seconds()"
   ]
  },
  {
   "cell_type": "code",
   "execution_count": 21,
   "id": "9a7a89c5",
   "metadata": {
    "editable": true,
    "execution": {
     "iopub.execute_input": "2025-05-12T16:31:22.773389Z",
     "iopub.status.busy": "2025-05-12T16:31:22.773159Z",
     "iopub.status.idle": "2025-05-12T16:31:22.792697Z",
     "shell.execute_reply": "2025-05-12T16:31:22.792095Z"
    },
    "papermill": {
     "duration": 0.036997,
     "end_time": "2025-05-12T16:31:22.793761",
     "exception": false,
     "start_time": "2025-05-12T16:31:22.756764",
     "status": "completed"
    },
    "slideshow": {
     "slide_type": ""
    },
    "tags": [
     "hide_input"
    ]
   },
   "outputs": [
    {
     "data": {
      "text/html": [
       "\n",
       "<style>\n",
       "  #altair-viz-e30c3669e2dd4b04badc50859882f637.vega-embed {\n",
       "    width: 100%;\n",
       "    display: flex;\n",
       "  }\n",
       "\n",
       "  #altair-viz-e30c3669e2dd4b04badc50859882f637.vega-embed details,\n",
       "  #altair-viz-e30c3669e2dd4b04badc50859882f637.vega-embed details summary {\n",
       "    position: relative;\n",
       "  }\n",
       "</style>\n",
       "<div id=\"altair-viz-e30c3669e2dd4b04badc50859882f637\"></div>\n",
       "<script type=\"text/javascript\">\n",
       "  var VEGA_DEBUG = (typeof VEGA_DEBUG == \"undefined\") ? {} : VEGA_DEBUG;\n",
       "  (function(spec, embedOpt){\n",
       "    let outputDiv = document.currentScript.previousElementSibling;\n",
       "    if (outputDiv.id !== \"altair-viz-e30c3669e2dd4b04badc50859882f637\") {\n",
       "      outputDiv = document.getElementById(\"altair-viz-e30c3669e2dd4b04badc50859882f637\");\n",
       "    }\n",
       "\n",
       "    const paths = {\n",
       "      \"vega\": \"https://cdn.jsdelivr.net/npm/vega@5?noext\",\n",
       "      \"vega-lib\": \"https://cdn.jsdelivr.net/npm/vega-lib?noext\",\n",
       "      \"vega-lite\": \"https://cdn.jsdelivr.net/npm/vega-lite@5.20.1?noext\",\n",
       "      \"vega-embed\": \"https://cdn.jsdelivr.net/npm/vega-embed@6?noext\",\n",
       "    };\n",
       "\n",
       "    function maybeLoadScript(lib, version) {\n",
       "      var key = `${lib.replace(\"-\", \"\")}_version`;\n",
       "      return (VEGA_DEBUG[key] == version) ?\n",
       "        Promise.resolve(paths[lib]) :\n",
       "        new Promise(function(resolve, reject) {\n",
       "          var s = document.createElement('script');\n",
       "          document.getElementsByTagName(\"head\")[0].appendChild(s);\n",
       "          s.async = true;\n",
       "          s.onload = () => {\n",
       "            VEGA_DEBUG[key] = version;\n",
       "            return resolve(paths[lib]);\n",
       "          };\n",
       "          s.onerror = () => reject(`Error loading script: ${paths[lib]}`);\n",
       "          s.src = paths[lib];\n",
       "        });\n",
       "    }\n",
       "\n",
       "    function showError(err) {\n",
       "      outputDiv.innerHTML = `<div class=\"error\" style=\"color:red;\">${err}</div>`;\n",
       "      throw err;\n",
       "    }\n",
       "\n",
       "    function displayChart(vegaEmbed) {\n",
       "      vegaEmbed(outputDiv, spec, embedOpt)\n",
       "        .catch(err => showError(`Javascript Error: ${err.message}<br>This usually means there's a typo in your chart specification. See the javascript console for the full traceback.`));\n",
       "    }\n",
       "\n",
       "    if(typeof define === \"function\" && define.amd) {\n",
       "      requirejs.config({paths});\n",
       "      let deps = [\"vega-embed\"];\n",
       "      require(deps, displayChart, err => showError(`Error loading script: ${err.message}`));\n",
       "    } else {\n",
       "      maybeLoadScript(\"vega\", \"5\")\n",
       "        .then(() => maybeLoadScript(\"vega-lite\", \"5.20.1\"))\n",
       "        .then(() => maybeLoadScript(\"vega-embed\", \"6\"))\n",
       "        .catch(showError)\n",
       "        .then(() => displayChart(vegaEmbed));\n",
       "    }\n",
       "  })({\"config\": {\"axisLeft\": {\"labelFontSize\": 15}, \"axisBottom\": {\"labelFontSize\": 15}}, \"data\": {\"name\": \"data-7deacc5bee1dd7e59c250b4f74cdfced\"}, \"mark\": {\"type\": \"bar\"}, \"encoding\": {\"x\": {\"field\": \"repo\", \"sort\": [\"fps\", \"jupyter_server\", \"jupyter-scheduler\", \"team-compass\", \"jupyverse\", \"enterprise_gateway\", \"jupyter_releaser\"], \"type\": \"nominal\"}, \"y\": {\"field\": \"time_open\", \"title\": \"Median Days Open\", \"type\": \"quantitative\"}}, \"title\": \"Time to close for issues closed in the last 90 days\", \"$schema\": \"https://vega.github.io/schema/vega-lite/v5.20.1.json\", \"datasets\": {\"data-7deacc5bee1dd7e59c250b4f74cdfced\": [{\"org\": \"jupyter-server\", \"repo\": \"enterprise_gateway\", \"time_open\": 1.0795543981481481, \"org/repo\": \"jupyter-server/enterprise_gateway\"}, {\"org\": \"jupyter-server\", \"repo\": \"fps\", \"time_open\": 1228.1181018518519, \"org/repo\": \"jupyter-server/fps\"}, {\"org\": \"jupyter-server\", \"repo\": \"jupyter-scheduler\", \"time_open\": 66.8430150462963, \"org/repo\": \"jupyter-server/jupyter-scheduler\"}, {\"org\": \"jupyter-server\", \"repo\": \"jupyter_releaser\", \"time_open\": 1.0478472222222222, \"org/repo\": \"jupyter-server/jupyter_releaser\"}, {\"org\": \"jupyter-server\", \"repo\": \"jupyter_server\", \"time_open\": 77.4173611111111, \"org/repo\": \"jupyter-server/jupyter_server\"}, {\"org\": \"jupyter-server\", \"repo\": \"jupyverse\", \"time_open\": 2.198275462962963, \"org/repo\": \"jupyter-server/jupyverse\"}, {\"org\": \"jupyter-server\", \"repo\": \"team-compass\", \"time_open\": 8.337731481481482, \"org/repo\": \"jupyter-server/team-compass\"}]}}, {\"mode\": \"vega-lite\"});\n",
       "</script>"
      ],
      "text/plain": [
       "alt.Chart(...)"
      ]
     },
     "execution_count": 21,
     "metadata": {},
     "output_type": "execute_result"
    }
   ],
   "source": [
    "time_open = closed.groupby(['org', 'repo']).agg({'time_open': 'median'}).reset_index()\n",
    "time_open['time_open'] = time_open['time_open'] / (60 * 60 * 24)\n",
    "time_open['org/repo'] = time_open.apply(lambda a: a['org'] + '/' + a['repo'], axis=1)\n",
    "sorted_vals = time_open.sort_values(['org', 'time_open'], ascending=False)['repo'].values\n",
    "alt.Chart(data=time_open, title=f\"Time to close for issues closed in the last {n_days} days\").mark_bar().encode(\n",
    "    x=alt.X('repo', sort=alt.Sort(sorted_vals.tolist())),\n",
    "    y=alt.Y('time_open', title=\"Median Days Open\"),\n",
    ")"
   ]
  },
  {
   "cell_type": "markdown",
   "id": "299efa1a",
   "metadata": {
    "editable": true,
    "papermill": {
     "duration": 0.015977,
     "end_time": "2025-05-12T16:31:22.826097",
     "exception": false,
     "start_time": "2025-05-12T16:31:22.810120",
     "status": "completed"
    },
    "slideshow": {
     "slide_type": ""
    },
    "tags": []
   },
   "source": [
    "## Most-upvoted issues"
   ]
  },
  {
   "cell_type": "code",
   "execution_count": 22,
   "id": "074e6ea4",
   "metadata": {
    "editable": true,
    "execution": {
     "iopub.execute_input": "2025-05-12T16:31:22.861407Z",
     "iopub.status.busy": "2025-05-12T16:31:22.860833Z",
     "iopub.status.idle": "2025-05-12T16:31:22.885051Z",
     "shell.execute_reply": "2025-05-12T16:31:22.884404Z"
    },
    "papermill": {
     "duration": 0.043449,
     "end_time": "2025-05-12T16:31:22.886164",
     "exception": false,
     "start_time": "2025-05-12T16:31:22.842715",
     "status": "completed"
    },
    "slideshow": {
     "slide_type": ""
    },
    "tags": [
     "hide_input"
    ]
   },
   "outputs": [
    {
     "data": {
      "application/vnd.jupyter.widget-view+json": {
       "model_id": "f24398d5d1f44520b32a398e7a917488",
       "version_major": 2,
       "version_minor": 0
      },
      "text/plain": [
       "HTML(value='<ul>\\n<li>(20) Towards a new generic and composable server - team-compass - <a href=\"https://githu…"
      ]
     },
     "execution_count": 22,
     "metadata": {},
     "output_type": "execute_result"
    }
   ],
   "source": [
    "thumbsup = issues.query(\"state == 'open'\").sort_values(\"positive\", ascending=False).head(25)\n",
    "thumbsup = thumbsup[[\"title\", \"url\", \"number\", \"positive\", \"repo\"]]\n",
    "\n",
    "text = []\n",
    "for ii, irow in thumbsup.iterrows():\n",
    "    itext = f\"- ({irow['positive']}) {irow['title']} - {irow['repo']} - [#{irow['number']}]({irow['url']})\"\n",
    "    text.append(itext)\n",
    "text = '\\n'.join(text)\n",
    "HTML(markdown(text))"
   ]
  },
  {
   "cell_type": "markdown",
   "id": "26a95295",
   "metadata": {
    "editable": true,
    "papermill": {
     "duration": 0.016214,
     "end_time": "2025-05-12T16:31:22.919168",
     "exception": false,
     "start_time": "2025-05-12T16:31:22.902954",
     "status": "completed"
    },
    "slideshow": {
     "slide_type": ""
    },
    "tags": []
   },
   "source": [
    "## Commenters across repositories\n",
    "\n",
    "These are commenters across all issues and pull requests in the last several days.\n",
    "These are colored by the commenter's association with the organization. For information\n",
    "about what these associations mean, [see this StackOverflow post](https://stackoverflow.com/a/28866914/1927102)."
   ]
  },
  {
   "cell_type": "code",
   "execution_count": 23,
   "id": "b2231295",
   "metadata": {
    "editable": true,
    "execution": {
     "iopub.execute_input": "2025-05-12T16:31:22.953160Z",
     "iopub.status.busy": "2025-05-12T16:31:22.952871Z",
     "iopub.status.idle": "2025-05-12T16:31:22.966280Z",
     "shell.execute_reply": "2025-05-12T16:31:22.965711Z"
    },
    "papermill": {
     "duration": 0.032102,
     "end_time": "2025-05-12T16:31:22.967441",
     "exception": false,
     "start_time": "2025-05-12T16:31:22.935339",
     "status": "completed"
    },
    "slideshow": {
     "slide_type": ""
    },
    "tags": [
     "remove_cell"
    ]
   },
   "outputs": [],
   "source": [
    "commentors = (\n",
    "    comments\n",
    "    .query(\"created_at > @start_date and created_at < @stop_date\")\n",
    "    .groupby(['org', 'repo', 'login', 'author_association'])\n",
    "    .count().rename(columns={'id_issue': 'count'})['count']\n",
    "    .reset_index()\n",
    "    .sort_values(['org', 'count'], ascending=False)\n",
    ")"
   ]
  },
  {
   "cell_type": "code",
   "execution_count": 24,
   "id": "75226dc4",
   "metadata": {
    "editable": true,
    "execution": {
     "iopub.execute_input": "2025-05-12T16:31:23.003875Z",
     "iopub.status.busy": "2025-05-12T16:31:23.003475Z",
     "iopub.status.idle": "2025-05-12T16:31:23.030187Z",
     "shell.execute_reply": "2025-05-12T16:31:23.029585Z"
    },
    "papermill": {
     "duration": 0.046366,
     "end_time": "2025-05-12T16:31:23.031236",
     "exception": false,
     "start_time": "2025-05-12T16:31:22.984870",
     "status": "completed"
    },
    "slideshow": {
     "slide_type": ""
    },
    "tags": [
     "hide_input"
    ]
   },
   "outputs": [
    {
     "data": {
      "text/html": [
       "\n",
       "<style>\n",
       "  #altair-viz-1fa0f8fa5f674d7a9ff3f190d2a6e290.vega-embed {\n",
       "    width: 100%;\n",
       "    display: flex;\n",
       "  }\n",
       "\n",
       "  #altair-viz-1fa0f8fa5f674d7a9ff3f190d2a6e290.vega-embed details,\n",
       "  #altair-viz-1fa0f8fa5f674d7a9ff3f190d2a6e290.vega-embed details summary {\n",
       "    position: relative;\n",
       "  }\n",
       "</style>\n",
       "<div id=\"altair-viz-1fa0f8fa5f674d7a9ff3f190d2a6e290\"></div>\n",
       "<script type=\"text/javascript\">\n",
       "  var VEGA_DEBUG = (typeof VEGA_DEBUG == \"undefined\") ? {} : VEGA_DEBUG;\n",
       "  (function(spec, embedOpt){\n",
       "    let outputDiv = document.currentScript.previousElementSibling;\n",
       "    if (outputDiv.id !== \"altair-viz-1fa0f8fa5f674d7a9ff3f190d2a6e290\") {\n",
       "      outputDiv = document.getElementById(\"altair-viz-1fa0f8fa5f674d7a9ff3f190d2a6e290\");\n",
       "    }\n",
       "\n",
       "    const paths = {\n",
       "      \"vega\": \"https://cdn.jsdelivr.net/npm/vega@5?noext\",\n",
       "      \"vega-lib\": \"https://cdn.jsdelivr.net/npm/vega-lib?noext\",\n",
       "      \"vega-lite\": \"https://cdn.jsdelivr.net/npm/vega-lite@5.20.1?noext\",\n",
       "      \"vega-embed\": \"https://cdn.jsdelivr.net/npm/vega-embed@6?noext\",\n",
       "    };\n",
       "\n",
       "    function maybeLoadScript(lib, version) {\n",
       "      var key = `${lib.replace(\"-\", \"\")}_version`;\n",
       "      return (VEGA_DEBUG[key] == version) ?\n",
       "        Promise.resolve(paths[lib]) :\n",
       "        new Promise(function(resolve, reject) {\n",
       "          var s = document.createElement('script');\n",
       "          document.getElementsByTagName(\"head\")[0].appendChild(s);\n",
       "          s.async = true;\n",
       "          s.onload = () => {\n",
       "            VEGA_DEBUG[key] = version;\n",
       "            return resolve(paths[lib]);\n",
       "          };\n",
       "          s.onerror = () => reject(`Error loading script: ${paths[lib]}`);\n",
       "          s.src = paths[lib];\n",
       "        });\n",
       "    }\n",
       "\n",
       "    function showError(err) {\n",
       "      outputDiv.innerHTML = `<div class=\"error\" style=\"color:red;\">${err}</div>`;\n",
       "      throw err;\n",
       "    }\n",
       "\n",
       "    function displayChart(vegaEmbed) {\n",
       "      vegaEmbed(outputDiv, spec, embedOpt)\n",
       "        .catch(err => showError(`Javascript Error: ${err.message}<br>This usually means there's a typo in your chart specification. See the javascript console for the full traceback.`));\n",
       "    }\n",
       "\n",
       "    if(typeof define === \"function\" && define.amd) {\n",
       "      requirejs.config({paths});\n",
       "      let deps = [\"vega-embed\"];\n",
       "      require(deps, displayChart, err => showError(`Error loading script: ${err.message}`));\n",
       "    } else {\n",
       "      maybeLoadScript(\"vega\", \"5\")\n",
       "        .then(() => maybeLoadScript(\"vega-lite\", \"5.20.1\"))\n",
       "        .then(() => maybeLoadScript(\"vega-embed\", \"6\"))\n",
       "        .catch(showError)\n",
       "        .then(() => displayChart(vegaEmbed));\n",
       "    }\n",
       "  })({\"config\": {\"axisLeft\": {\"labelFontSize\": 15}, \"axisBottom\": {\"labelFontSize\": 15}}, \"hconcat\": [{\"mark\": {\"type\": \"bar\"}, \"encoding\": {\"color\": {\"field\": \"author_association\", \"scale\": {\"domain\": [\"MEMBER\", \"CONTRIBUTOR\", \"COLLABORATOR\", \"NONE\"], \"range\": [\"rgb(211.82745098039214, 211.82745098039214, 211.82745098039214)\", \"rgb(166.98562091503268, 229.89803921568628, 166.98562091503268)\", \"rgb(96.37647058823529, 192.75294117647059, 96.37647058823529)\", \"rgb(0.0, 100.3921568627451, 0.0)\"]}, \"type\": \"nominal\"}, \"x\": {\"field\": \"login\", \"type\": \"nominal\"}, \"y\": {\"field\": \"count\", \"type\": \"quantitative\"}}, \"title\": \"Top 50 commentors for ('jupyter-server',) in the last 90 days\"}], \"data\": {\"name\": \"data-80a8b706320fc0f1fefd93754fe9594f\"}, \"$schema\": \"https://vega.github.io/schema/vega-lite/v5.20.1.json\", \"datasets\": {\"data-80a8b706320fc0f1fefd93754fe9594f\": [{\"login\": \"Zsailer\", \"count\": 28, \"author_association\": \"MEMBER\"}, {\"login\": \"davidbrochart\", \"count\": 20, \"author_association\": \"NONE\"}, {\"login\": \"andrii-i\", \"count\": 7, \"author_association\": \"COLLABORATOR\"}, {\"login\": \"minrk\", \"count\": 6, \"author_association\": \"CONTRIBUTOR\"}, {\"login\": \"lresende\", \"count\": 5, \"author_association\": \"MEMBER\"}, {\"login\": \"krassowski\", \"count\": 4, \"author_association\": \"COLLABORATOR\"}, {\"login\": \"patilsanket48\", \"count\": 4, \"author_association\": \"NONE\"}, {\"login\": \"jhgoebbert\", \"count\": 3, \"author_association\": \"NONE\"}, {\"login\": \"kjayan\", \"count\": 3, \"author_association\": \"CONTRIBUTOR\"}, {\"login\": \"ivanov\", \"count\": 3, \"author_association\": \"NONE\"}, {\"login\": \"Carreau\", \"count\": 3, \"author_association\": \"NONE\"}, {\"login\": \"anutosh491\", \"count\": 3, \"author_association\": \"NONE\"}, {\"login\": \"colinpalmer\", \"count\": 2, \"author_association\": \"NONE\"}, {\"login\": \"bollwyvl\", \"count\": 2, \"author_association\": \"CONTRIBUTOR\"}, {\"login\": \"astitv-sh\", \"count\": 2, \"author_association\": \"COLLABORATOR\"}, {\"login\": \"JohanMabille\", \"count\": 2, \"author_association\": \"CONTRIBUTOR\"}, {\"login\": \"vsr2158\", \"count\": 2, \"author_association\": \"NONE\"}, {\"login\": \"pranavkhandelwal\", \"count\": 2, \"author_association\": \"NONE\"}, {\"login\": \"fresende\", \"count\": 2, \"author_association\": \"CONTRIBUTOR\"}, {\"login\": \"jesuino\", \"count\": 2, \"author_association\": \"NONE\"}, {\"login\": \"mimikwang\", \"count\": 2, \"author_association\": \"NONE\"}, {\"login\": \"demardefrozen10\", \"count\": 2, \"author_association\": \"NONE\"}, {\"login\": \"dlqqq\", \"count\": 2, \"author_association\": \"CONTRIBUTOR\"}, {\"login\": \"dmonad\", \"count\": 2, \"author_association\": \"NONE\"}, {\"login\": \"consideRatio\", \"count\": 1, \"author_association\": \"NONE\"}, {\"login\": \"cben\", \"count\": 1, \"author_association\": \"NONE\"}, {\"login\": \"brichet\", \"count\": 1, \"author_association\": \"CONTRIBUTOR\"}, {\"login\": \"bloomsa\", \"count\": 1, \"author_association\": \"NONE\"}, {\"login\": \"Horusiath\", \"count\": 1, \"author_association\": \"NONE\"}, {\"login\": \"Bimbam360\", \"count\": 1, \"author_association\": \"NONE\"}, {\"login\": \"Ehawero\", \"count\": 1, \"author_association\": \"NONE\"}, {\"login\": \"ExpertLove\", \"count\": 1, \"author_association\": \"NONE\"}, {\"login\": \"RRosio\", \"count\": 1, \"author_association\": \"CONTRIBUTOR\"}, {\"login\": \"MattiasDC\", \"count\": 1, \"author_association\": \"NONE\"}, {\"login\": \"Wulian233\", \"count\": 1, \"author_association\": \"NONE\"}, {\"login\": \"RohanGd\", \"count\": 1, \"author_association\": \"NONE\"}, {\"login\": \"liuxiawei\", \"count\": 1, \"author_association\": \"NONE\"}, {\"login\": \"jtpio\", \"count\": 1, \"author_association\": \"MEMBER\"}, {\"login\": \"jayxie8\", \"count\": 1, \"author_association\": \"NONE\"}, {\"login\": \"fendwich\", \"count\": 1, \"author_association\": \"NONE\"}, {\"login\": \"fatihmete\", \"count\": 1, \"author_association\": \"NONE\"}, {\"login\": \"ctcjab\", \"count\": 1, \"author_association\": \"NONE\"}, {\"login\": \"martenrichter\", \"count\": 1, \"author_association\": \"NONE\"}, {\"login\": \"mahendrapaipuri\", \"count\": 1, \"author_association\": \"CONTRIBUTOR\"}, {\"login\": \"powerstar13\", \"count\": 1, \"author_association\": \"NONE\"}, {\"login\": \"paf91\", \"count\": 1, \"author_association\": \"NONE\"}, {\"login\": \"rolweber\", \"count\": 1, \"author_association\": \"CONTRIBUTOR\"}, {\"login\": \"rao23\", \"count\": 1, \"author_association\": \"NONE\"}, {\"login\": \"simonaubertbd\", \"count\": 1, \"author_association\": \"NONE\"}, {\"login\": \"skapin\", \"count\": 1, \"author_association\": \"NONE\"}]}}, {\"mode\": \"vega-lite\"});\n",
       "</script>"
      ],
      "text/plain": [
       "alt.HConcatChart(...)"
      ]
     },
     "execution_count": 24,
     "metadata": {},
     "output_type": "execute_result"
    }
   ],
   "source": [
    "n_plot = 50\n",
    "charts = []\n",
    "for ii, (iorg, idata) in enumerate(commentors.groupby(['org'])):\n",
    "    title = f\"Top {n_plot} commentors for {iorg} in the last {n_days} days\"\n",
    "    idata = idata.groupby('login', as_index=False).agg({'count': 'sum', 'author_association': 'first'})\n",
    "    idata = idata.sort_values('count', ascending=False).head(n_plot)\n",
    "    ch = alt.Chart(data=idata.head(n_plot), title=title).mark_bar().encode(\n",
    "        x='login',\n",
    "        y='count',\n",
    "        color=alt.Color('author_association', scale=alt.Scale(domain=author_types, range=author_colors))\n",
    "    )\n",
    "    charts.append(ch)\n",
    "alt.hconcat(*charts)"
   ]
  },
  {
   "cell_type": "markdown",
   "id": "d592cb81",
   "metadata": {
    "editable": true,
    "papermill": {
     "duration": 0.016714,
     "end_time": "2025-05-12T16:31:23.064885",
     "exception": false,
     "start_time": "2025-05-12T16:31:23.048171",
     "status": "completed"
    },
    "slideshow": {
     "slide_type": ""
    },
    "tags": []
   },
   "source": [
    "## First responders\n",
    "\n",
    "First responders are the first people to respond to a new issue in one of the repositories.\n",
    "The following plots show first responders for recently-created issues."
   ]
  },
  {
   "cell_type": "code",
   "execution_count": 25,
   "id": "b849c5b6",
   "metadata": {
    "editable": true,
    "execution": {
     "iopub.execute_input": "2025-05-12T16:31:23.099916Z",
     "iopub.status.busy": "2025-05-12T16:31:23.099397Z",
     "iopub.status.idle": "2025-05-12T16:31:23.135897Z",
     "shell.execute_reply": "2025-05-12T16:31:23.135349Z"
    },
    "papermill": {
     "duration": 0.055645,
     "end_time": "2025-05-12T16:31:23.137056",
     "exception": false,
     "start_time": "2025-05-12T16:31:23.081411",
     "status": "completed"
    },
    "slideshow": {
     "slide_type": ""
    },
    "tags": [
     "remove_cell"
    ]
   },
   "outputs": [],
   "source": [
    "first_comments = []\n",
    "latest_comments = comments.query(\"created_at > @start_date\")\n",
    "for (org, repo, issue_id), i_comments in latest_comments.groupby(['org', 'repo', 'id_issue']):\n",
    "    ix_min = pd.to_datetime(i_comments['created_at']).idxmin()\n",
    "    first_comment = i_comments.loc[ix_min]\n",
    "    if isinstance(first_comment, pd.DataFrame):\n",
    "        first_comment = first_comment.iloc[0]\n",
    "    first_comments.append(first_comment)\n",
    "first_comments = pd.concat(first_comments, axis=1).T\n",
    "\n",
    "# Make up counts for viz\n",
    "first_responder_counts = first_comments.groupby(['org', 'login', 'author_association'], as_index=False).\\\n",
    "    count().rename(columns={'id_issue': 'n_first_responses'}).sort_values(['org', 'n_first_responses'], ascending=False)\n"
   ]
  },
  {
   "cell_type": "code",
   "execution_count": 26,
   "id": "3ef57cb2",
   "metadata": {
    "editable": true,
    "execution": {
     "iopub.execute_input": "2025-05-12T16:31:23.173469Z",
     "iopub.status.busy": "2025-05-12T16:31:23.172971Z",
     "iopub.status.idle": "2025-05-12T16:31:23.197038Z",
     "shell.execute_reply": "2025-05-12T16:31:23.196466Z"
    },
    "papermill": {
     "duration": 0.043324,
     "end_time": "2025-05-12T16:31:23.198209",
     "exception": false,
     "start_time": "2025-05-12T16:31:23.154885",
     "status": "completed"
    },
    "slideshow": {
     "slide_type": ""
    },
    "tags": [
     "hide_input"
    ]
   },
   "outputs": [
    {
     "data": {
      "text/html": [
       "\n",
       "<style>\n",
       "  #altair-viz-c9a20f9d602749298ec4bc8802bf8835.vega-embed {\n",
       "    width: 100%;\n",
       "    display: flex;\n",
       "  }\n",
       "\n",
       "  #altair-viz-c9a20f9d602749298ec4bc8802bf8835.vega-embed details,\n",
       "  #altair-viz-c9a20f9d602749298ec4bc8802bf8835.vega-embed details summary {\n",
       "    position: relative;\n",
       "  }\n",
       "</style>\n",
       "<div id=\"altair-viz-c9a20f9d602749298ec4bc8802bf8835\"></div>\n",
       "<script type=\"text/javascript\">\n",
       "  var VEGA_DEBUG = (typeof VEGA_DEBUG == \"undefined\") ? {} : VEGA_DEBUG;\n",
       "  (function(spec, embedOpt){\n",
       "    let outputDiv = document.currentScript.previousElementSibling;\n",
       "    if (outputDiv.id !== \"altair-viz-c9a20f9d602749298ec4bc8802bf8835\") {\n",
       "      outputDiv = document.getElementById(\"altair-viz-c9a20f9d602749298ec4bc8802bf8835\");\n",
       "    }\n",
       "\n",
       "    const paths = {\n",
       "      \"vega\": \"https://cdn.jsdelivr.net/npm/vega@5?noext\",\n",
       "      \"vega-lib\": \"https://cdn.jsdelivr.net/npm/vega-lib?noext\",\n",
       "      \"vega-lite\": \"https://cdn.jsdelivr.net/npm/vega-lite@5.20.1?noext\",\n",
       "      \"vega-embed\": \"https://cdn.jsdelivr.net/npm/vega-embed@6?noext\",\n",
       "    };\n",
       "\n",
       "    function maybeLoadScript(lib, version) {\n",
       "      var key = `${lib.replace(\"-\", \"\")}_version`;\n",
       "      return (VEGA_DEBUG[key] == version) ?\n",
       "        Promise.resolve(paths[lib]) :\n",
       "        new Promise(function(resolve, reject) {\n",
       "          var s = document.createElement('script');\n",
       "          document.getElementsByTagName(\"head\")[0].appendChild(s);\n",
       "          s.async = true;\n",
       "          s.onload = () => {\n",
       "            VEGA_DEBUG[key] = version;\n",
       "            return resolve(paths[lib]);\n",
       "          };\n",
       "          s.onerror = () => reject(`Error loading script: ${paths[lib]}`);\n",
       "          s.src = paths[lib];\n",
       "        });\n",
       "    }\n",
       "\n",
       "    function showError(err) {\n",
       "      outputDiv.innerHTML = `<div class=\"error\" style=\"color:red;\">${err}</div>`;\n",
       "      throw err;\n",
       "    }\n",
       "\n",
       "    function displayChart(vegaEmbed) {\n",
       "      vegaEmbed(outputDiv, spec, embedOpt)\n",
       "        .catch(err => showError(`Javascript Error: ${err.message}<br>This usually means there's a typo in your chart specification. See the javascript console for the full traceback.`));\n",
       "    }\n",
       "\n",
       "    if(typeof define === \"function\" && define.amd) {\n",
       "      requirejs.config({paths});\n",
       "      let deps = [\"vega-embed\"];\n",
       "      require(deps, displayChart, err => showError(`Error loading script: ${err.message}`));\n",
       "    } else {\n",
       "      maybeLoadScript(\"vega\", \"5\")\n",
       "        .then(() => maybeLoadScript(\"vega-lite\", \"5.20.1\"))\n",
       "        .then(() => maybeLoadScript(\"vega-embed\", \"6\"))\n",
       "        .catch(showError)\n",
       "        .then(() => displayChart(vegaEmbed));\n",
       "    }\n",
       "  })({\"config\": {\"axisLeft\": {\"labelFontSize\": 15}, \"axisBottom\": {\"labelFontSize\": 15}}, \"data\": {\"name\": \"data-03ccb30e96ee487adc74268cb23fe680\"}, \"mark\": {\"type\": \"bar\"}, \"encoding\": {\"color\": {\"field\": \"author_association\", \"scale\": {\"domain\": [\"MEMBER\", \"CONTRIBUTOR\", \"COLLABORATOR\", \"NONE\"], \"range\": [\"rgb(211.82745098039214, 211.82745098039214, 211.82745098039214)\", \"rgb(166.98562091503268, 229.89803921568628, 166.98562091503268)\", \"rgb(96.37647058823529, 192.75294117647059, 96.37647058823529)\", \"rgb(0.0, 100.3921568627451, 0.0)\"]}, \"type\": \"nominal\"}, \"x\": {\"field\": \"login\", \"type\": \"nominal\"}, \"y\": {\"field\": \"n_first_responses\", \"type\": \"quantitative\"}}, \"title\": \"Top 50 first responders for jupyter-server in the last 90 days\", \"$schema\": \"https://vega.github.io/schema/vega-lite/v5.20.1.json\", \"datasets\": {\"data-03ccb30e96ee487adc74268cb23fe680\": [{\"login\": \"Zsailer\", \"n_first_responses\": 7, \"author_association\": \"MEMBER\"}, {\"login\": \"davidbrochart\", \"n_first_responses\": 5, \"author_association\": \"COLLABORATOR\"}, {\"login\": \"andrii-i\", \"n_first_responses\": 3, \"author_association\": \"COLLABORATOR\"}, {\"login\": \"minrk\", \"n_first_responses\": 3, \"author_association\": \"CONTRIBUTOR\"}, {\"login\": \"bollwyvl\", \"n_first_responses\": 2, \"author_association\": \"CONTRIBUTOR\"}, {\"login\": \"astitv-sh\", \"n_first_responses\": 2, \"author_association\": \"COLLABORATOR\"}, {\"login\": \"krassowski\", \"n_first_responses\": 2, \"author_association\": \"COLLABORATOR\"}, {\"login\": \"Wulian233\", \"n_first_responses\": 1, \"author_association\": \"NONE\"}, {\"login\": \"RohanGd\", \"n_first_responses\": 1, \"author_association\": \"NONE\"}, {\"login\": \"MattiasDC\", \"n_first_responses\": 1, \"author_association\": \"NONE\"}, {\"login\": \"Ehawero\", \"n_first_responses\": 1, \"author_association\": \"NONE\"}, {\"login\": \"Bimbam360\", \"n_first_responses\": 1, \"author_association\": \"NONE\"}, {\"login\": \"Carreau\", \"n_first_responses\": 1, \"author_association\": \"NONE\"}, {\"login\": \"consideRatio\", \"n_first_responses\": 1, \"author_association\": \"NONE\"}, {\"login\": \"bloomsa\", \"n_first_responses\": 1, \"author_association\": \"NONE\"}, {\"login\": \"ctcjab\", \"n_first_responses\": 1, \"author_association\": \"NONE\"}, {\"login\": \"dlqqq\", \"n_first_responses\": 1, \"author_association\": \"CONTRIBUTOR\"}, {\"login\": \"fresende\", \"n_first_responses\": 1, \"author_association\": \"CONTRIBUTOR\"}, {\"login\": \"fendwich\", \"n_first_responses\": 1, \"author_association\": \"NONE\"}, {\"login\": \"ivanov\", \"n_first_responses\": 1, \"author_association\": \"NONE\"}, {\"login\": \"jhgoebbert\", \"n_first_responses\": 1, \"author_association\": \"NONE\"}, {\"login\": \"jtpio\", \"n_first_responses\": 1, \"author_association\": \"MEMBER\"}, {\"login\": \"cben\", \"n_first_responses\": 1, \"author_association\": \"NONE\"}, {\"login\": \"kjayan\", \"n_first_responses\": 1, \"author_association\": \"CONTRIBUTOR\"}, {\"login\": \"liuxiawei\", \"n_first_responses\": 1, \"author_association\": \"NONE\"}, {\"login\": \"mahendrapaipuri\", \"n_first_responses\": 1, \"author_association\": \"CONTRIBUTOR\"}, {\"login\": \"lresende\", \"n_first_responses\": 1, \"author_association\": \"MEMBER\"}, {\"login\": \"martenrichter\", \"n_first_responses\": 1, \"author_association\": \"NONE\"}, {\"login\": \"mimikwang\", \"n_first_responses\": 1, \"author_association\": \"NONE\"}, {\"login\": \"paf91\", \"n_first_responses\": 1, \"author_association\": \"NONE\"}, {\"login\": \"patilsanket48\", \"n_first_responses\": 1, \"author_association\": \"NONE\"}, {\"login\": \"powerstar13\", \"n_first_responses\": 1, \"author_association\": \"NONE\"}, {\"login\": \"pranavkhandelwal\", \"n_first_responses\": 1, \"author_association\": \"NONE\"}, {\"login\": \"rao23\", \"n_first_responses\": 1, \"author_association\": \"NONE\"}, {\"login\": \"rolweber\", \"n_first_responses\": 1, \"author_association\": \"CONTRIBUTOR\"}, {\"login\": \"simonaubertbd\", \"n_first_responses\": 1, \"author_association\": \"NONE\"}, {\"login\": \"skapin\", \"n_first_responses\": 1, \"author_association\": \"NONE\"}, {\"login\": \"vidartf\", \"n_first_responses\": 1, \"author_association\": \"MEMBER\"}, {\"login\": \"xiaoguazh\", \"n_first_responses\": 1, \"author_association\": \"NONE\"}]}}, {\"mode\": \"vega-lite\"});\n",
       "</script>"
      ],
      "text/plain": [
       "alt.Chart(...)"
      ]
     },
     "execution_count": 26,
     "metadata": {},
     "output_type": "execute_result"
    }
   ],
   "source": [
    "n_plot = 50\n",
    "\n",
    "title = f\"Top {n_plot} first responders for {github_org} in the last {n_days} days\"\n",
    "idata = first_responder_counts.groupby('login', as_index=False).agg({'n_first_responses': 'sum', 'author_association': 'first'})\n",
    "idata = idata.sort_values('n_first_responses', ascending=False).head(n_plot)\n",
    "ch = alt.Chart(data=idata.head(n_plot), title=title).mark_bar().encode(\n",
    "    x='login',\n",
    "    y='n_first_responses',\n",
    "    color=alt.Color('author_association', scale=alt.Scale(domain=author_types, range=author_colors))\n",
    ")\n",
    "ch"
   ]
  },
  {
   "cell_type": "markdown",
   "id": "aaaa7343",
   "metadata": {
    "editable": true,
    "papermill": {
     "duration": 0.016612,
     "end_time": "2025-05-12T16:31:23.232305",
     "exception": false,
     "start_time": "2025-05-12T16:31:23.215693",
     "status": "completed"
    },
    "slideshow": {
     "slide_type": ""
    },
    "tags": []
   },
   "source": [
    "## Recent activity\n",
    "\n",
    "### A list of merged PRs by project\n",
    "\n",
    "Below is a tabbed readout of recently-merged PRs. Check out the title to get an idea for what they\n",
    "implemented, and be sure to thank the PR author for their hard work!"
   ]
  },
  {
   "cell_type": "code",
   "execution_count": 27,
   "id": "5fed6833",
   "metadata": {
    "editable": true,
    "execution": {
     "iopub.execute_input": "2025-05-12T16:31:23.266986Z",
     "iopub.status.busy": "2025-05-12T16:31:23.266729Z",
     "iopub.status.idle": "2025-05-12T16:31:23.353289Z",
     "shell.execute_reply": "2025-05-12T16:31:23.352600Z"
    },
    "papermill": {
     "duration": 0.10852,
     "end_time": "2025-05-12T16:31:23.357593",
     "exception": false,
     "start_time": "2025-05-12T16:31:23.249073",
     "status": "completed"
    },
    "slideshow": {
     "slide_type": ""
    },
    "tags": [
     "hide_input"
    ]
   },
   "outputs": [
    {
     "data": {
      "application/vnd.jupyter.widget-view+json": {
       "model_id": "2d36338bf2d94c2aa315182b4039c068",
       "version_major": 2,
       "version_minor": 0
      },
      "text/plain": [
       "Tab(children=(HTML(value='<h4>Closed PRs for repo: <a href=\"https://github.com/jupyter-server/fps\">jupyter-ser…"
      ]
     },
     "execution_count": 27,
     "metadata": {},
     "output_type": "execute_result"
    }
   ],
   "source": [
    "tabs = widgets.Tab(children=[])\n",
    "\n",
    "for ii, ((org, repo), imerged) in enumerate(merged.query(\"repo in @use_repos\").groupby(['org', 'repo'])):\n",
    "    merged_by = {}\n",
    "    pr_by = {}\n",
    "    issue_md = []\n",
    "    issue_md.append(f\"#### Closed PRs for repo: [{org}/{repo}](https://github.com/{github_org}/{repo})\")\n",
    "    issue_md.append(\"\")\n",
    "    issue_md.append(f\"##### \")\n",
    "\n",
    "    for _, ipr in imerged.iterrows():\n",
    "        user_name = ipr['login']\n",
    "        user_url = author_url(user_name)\n",
    "        pr_number = ipr['number']\n",
    "        pr_html = ipr['url']\n",
    "        pr_title = ipr['title']\n",
    "        pr_closedby = ipr['merged_by']\n",
    "        pr_closedby_url = f\"https://github.com/{pr_closedby}\"\n",
    "        if user_name not in pr_by:\n",
    "            pr_by[user_name] = 1\n",
    "        else:\n",
    "            pr_by[user_name] += 1\n",
    "\n",
    "        if pr_closedby not in merged_by:\n",
    "            merged_by[pr_closedby] = 1\n",
    "        else:\n",
    "            merged_by[pr_closedby] += 1\n",
    "        text = f\"* [(#{pr_number})]({pr_html}): _{pr_title}_ by **[@{user_name}]({user_url})** merged by **[@{pr_closedby}]({pr_closedby_url})**\"\n",
    "        issue_md.append(text)\n",
    "    \n",
    "    issue_md.append('')\n",
    "    markdown_html = markdown('\\n'.join(issue_md))\n",
    "\n",
    "    children = list(tabs.children)\n",
    "    children.append(HTML(markdown_html))\n",
    "    tabs.children = tuple(children)\n",
    "    tabs.set_title(ii, repo)\n",
    "tabs"
   ]
  },
  {
   "cell_type": "markdown",
   "id": "cf4aa835",
   "metadata": {
    "editable": true,
    "papermill": {
     "duration": 0.018242,
     "end_time": "2025-05-12T16:31:23.394407",
     "exception": false,
     "start_time": "2025-05-12T16:31:23.376165",
     "status": "completed"
    },
    "slideshow": {
     "slide_type": ""
    },
    "tags": []
   },
   "source": [
    "### A list of recent issues\n",
    "\n",
    "Below is a list of issues with recent activity in each repository. If they seem of interest\n",
    "to you, click on their links and jump in to participate!"
   ]
  },
  {
   "cell_type": "code",
   "execution_count": 28,
   "id": "80c31b27",
   "metadata": {
    "editable": true,
    "execution": {
     "iopub.execute_input": "2025-05-12T16:31:23.429682Z",
     "iopub.status.busy": "2025-05-12T16:31:23.429182Z",
     "iopub.status.idle": "2025-05-12T16:31:23.440801Z",
     "shell.execute_reply": "2025-05-12T16:31:23.440130Z"
    },
    "papermill": {
     "duration": 0.030649,
     "end_time": "2025-05-12T16:31:23.442043",
     "exception": false,
     "start_time": "2025-05-12T16:31:23.411394",
     "status": "completed"
    },
    "slideshow": {
     "slide_type": ""
    },
    "tags": [
     "remove_cell"
    ]
   },
   "outputs": [],
   "source": [
    "# Add comment count data to issues and PRs\n",
    "comment_counts = (\n",
    "    comments\n",
    "    .query(\"created_at > @start_date and created_at < @stop_date\")\n",
    "    .groupby(['org', 'repo', 'id_issue'])\n",
    "    .count().iloc[:, 0].to_frame()\n",
    ")\n",
    "comment_counts.columns = ['n_comments']\n",
    "comment_counts = comment_counts.reset_index()"
   ]
  },
  {
   "cell_type": "code",
   "execution_count": 29,
   "id": "9f4fca05",
   "metadata": {
    "editable": true,
    "execution": {
     "iopub.execute_input": "2025-05-12T16:31:23.478660Z",
     "iopub.status.busy": "2025-05-12T16:31:23.478102Z",
     "iopub.status.idle": "2025-05-12T16:31:23.600871Z",
     "shell.execute_reply": "2025-05-12T16:31:23.600103Z"
    },
    "papermill": {
     "duration": 0.147197,
     "end_time": "2025-05-12T16:31:23.606508",
     "exception": false,
     "start_time": "2025-05-12T16:31:23.459311",
     "status": "completed"
    },
    "slideshow": {
     "slide_type": ""
    },
    "tags": [
     "hide_input"
    ],
    "toc-hr-collapsed": false
   },
   "outputs": [
    {
     "data": {
      "text/markdown": [
       "Here are the top 5 active issues in each repository in the last 90 days"
      ],
      "text/plain": [
       "<IPython.core.display.Markdown object>"
      ]
     },
     "metadata": {},
     "output_type": "display_data"
    },
    {
     "data": {
      "application/vnd.jupyter.widget-view+json": {
       "model_id": "37dcbc10ba6b41878f7155e25980c596",
       "version_major": 2,
       "version_minor": 0
      },
      "text/plain": [
       "Tab(children=(HTML(value='<h5><a href=\"https://github.com/jupyter-server/enterprise_gateway\">jupyter-server/en…"
      ]
     },
     "metadata": {},
     "output_type": "display_data"
    }
   ],
   "source": [
    "n_plot = 5\n",
    "tabs = widgets.Tab(children=[])\n",
    "\n",
    "for ii, (repo, i_issues) in enumerate(comment_counts.query(\"repo in @use_repos\").groupby('repo')):\n",
    "    \n",
    "    issue_md = []\n",
    "    issue_md.append(\"\")\n",
    "    issue_md.append(f\"##### [{github_org}/{repo}](https://github.com/{github_org}/{repo})\")\n",
    "\n",
    "    top_issues = i_issues.sort_values('n_comments', ascending=False).head(n_plot)\n",
    "    top_issue_list = pd.merge(issues, top_issues, left_on=['org', 'repo', 'id_issue'], right_on=['org', 'repo', 'id_issue'])\n",
    "    for _, issue in top_issue_list.sort_values('n_comments', ascending=False).head(n_plot).iterrows():\n",
    "        user_name = issue['login']\n",
    "        user_url = author_url(user_name)\n",
    "        issue_number = issue['number']\n",
    "        issue_html = issue['url']\n",
    "        issue_title = issue['title']\n",
    "\n",
    "        text = f\"* [(#{issue_number})]({issue_html}): _{issue_title}_ by **[@{user_name}]({user_url})**\"\n",
    "        issue_md.append(text)\n",
    "\n",
    "    issue_md.append('')\n",
    "    md_html = HTML(markdown('\\n'.join(issue_md)))\n",
    "\n",
    "    children = list(tabs.children)\n",
    "    children.append(HTML(markdown('\\n'.join(issue_md))))\n",
    "    tabs.children = tuple(children)\n",
    "    tabs.set_title(ii, repo)\n",
    "    \n",
    "display(Markdown(f\"Here are the top {n_plot} active issues in each repository in the last {n_days} days\"))\n",
    "display(tabs)"
   ]
  }
 ],
 "metadata": {
  "kernelspec": {
   "display_name": "Python 3 (ipykernel)",
   "language": "python",
   "name": "python3"
  },
  "language_info": {
   "codemirror_mode": {
    "name": "ipython",
    "version": 3
   },
   "file_extension": ".py",
   "mimetype": "text/x-python",
   "name": "python",
   "nbconvert_exporter": "python",
   "pygments_lexer": "ipython3",
   "version": "3.9.22"
  },
  "papermill": {
   "default_parameters": {},
   "duration": 4.134624,
   "end_time": "2025-05-12T16:31:23.943475",
   "environment_variables": {},
   "exception": null,
   "input_path": "./templates/org_report.ipynb",
   "output_path": "generated/book/jupyter-server.ipynb",
   "parameters": {
    "github_org": "jupyter-server",
    "n_days": 90
   },
   "start_time": "2025-05-12T16:31:19.808851",
   "version": "2.6.0"
  },
  "widgets": {
   "application/vnd.jupyter.widget-state+json": {
    "state": {
     "03fb9bda32a14e41a6add47537ef53d3": {
      "model_module": "@jupyter-widgets/controls",
      "model_module_version": "2.0.0",
      "model_name": "HTMLStyleModel",
      "state": {
       "_model_module": "@jupyter-widgets/controls",
       "_model_module_version": "2.0.0",
       "_model_name": "HTMLStyleModel",
       "_view_count": null,
       "_view_module": "@jupyter-widgets/base",
       "_view_module_version": "2.0.0",
       "_view_name": "StyleView",
       "background": null,
       "description_width": "",
       "font_size": null,
       "text_color": null
      }
     },
     "04c3b1c417f5450e8e6ce27a7c241f5c": {
      "model_module": "@jupyter-widgets/controls",
      "model_module_version": "2.0.0",
      "model_name": "HTMLStyleModel",
      "state": {
       "_model_module": "@jupyter-widgets/controls",
       "_model_module_version": "2.0.0",
       "_model_name": "HTMLStyleModel",
       "_view_count": null,
       "_view_module": "@jupyter-widgets/base",
       "_view_module_version": "2.0.0",
       "_view_name": "StyleView",
       "background": null,
       "description_width": "",
       "font_size": null,
       "text_color": null
      }
     },
     "05b9904c520543459df433f045355f1d": {
      "model_module": "@jupyter-widgets/controls",
      "model_module_version": "2.0.0",
      "model_name": "HTMLModel",
      "state": {
       "_dom_classes": [],
       "_model_module": "@jupyter-widgets/controls",
       "_model_module_version": "2.0.0",
       "_model_name": "HTMLModel",
       "_view_count": null,
       "_view_module": "@jupyter-widgets/controls",
       "_view_module_version": "2.0.0",
       "_view_name": "HTMLView",
       "description": "",
       "description_allow_html": false,
       "layout": "IPY_MODEL_97556808bc5e42fc890ce62e561b2d23",
       "placeholder": "​",
       "style": "IPY_MODEL_2543a29d7e20403ca13c4c4364b88acd",
       "tabbable": null,
       "tooltip": null,
       "value": "<h5><a href=\"https://github.com/jupyter-server/kernel_gateway\">jupyter-server/kernel_gateway</a></h5>\n<ul>\n<li><a href=\"https://github.com/jupyter-server/kernel_gateway/issues/398\">(#398)</a>: <em>CLI fails to start on windows with signal import issue</em> by <strong><a href=\"https://github.com/jackgerrits\">@jackgerrits</a></strong></li>\n</ul>"
      }
     },
     "07ab0b03188f48289520866d19008a21": {
      "model_module": "@jupyter-widgets/controls",
      "model_module_version": "2.0.0",
      "model_name": "HTMLStyleModel",
      "state": {
       "_model_module": "@jupyter-widgets/controls",
       "_model_module_version": "2.0.0",
       "_model_name": "HTMLStyleModel",
       "_view_count": null,
       "_view_module": "@jupyter-widgets/base",
       "_view_module_version": "2.0.0",
       "_view_name": "StyleView",
       "background": null,
       "description_width": "",
       "font_size": null,
       "text_color": null
      }
     },
     "080907a678814edb877485916784edfb": {
      "model_module": "@jupyter-widgets/controls",
      "model_module_version": "2.0.0",
      "model_name": "HTMLModel",
      "state": {
       "_dom_classes": [],
       "_model_module": "@jupyter-widgets/controls",
       "_model_module_version": "2.0.0",
       "_model_name": "HTMLModel",
       "_view_count": null,
       "_view_module": "@jupyter-widgets/controls",
       "_view_module_version": "2.0.0",
       "_view_name": "HTMLView",
       "description": "",
       "description_allow_html": false,
       "layout": "IPY_MODEL_5f16e2fae9654305953b6feccd93d307",
       "placeholder": "​",
       "style": "IPY_MODEL_0823cc05c34d46a097f1cbfef2ad8b6f",
       "tabbable": null,
       "tooltip": null,
       "value": "<h5><a href=\"https://github.com/jupyter-server/enterprise_gateway\">jupyter-server/enterprise_gateway</a></h5>\n<ul>\n<li><a href=\"https://github.com/jupyter-server/enterprise_gateway/issues/1392\">(#1392)</a>: _Custom Spark 3.5.3 Kernel _ by <strong><a href=\"https://github.com/fatihmete\">@fatihmete</a></strong></li>\n<li><a href=\"https://github.com/jupyter-server/enterprise_gateway/issues/1404\">(#1404)</a>: <em>Setting up Jupyterhub to work with Enterprise Gateway</em> by <strong><a href=\"https://github.com/demardefrozen10\">@demardefrozen10</a></strong></li>\n<li><a href=\"https://github.com/jupyter-server/enterprise_gateway/issues/1359\">(#1359)</a>: <em>KIP cannot use ImagePullSecret when using containerd</em> by <strong><a href=\"https://github.com/Buchhold\">@Buchhold</a></strong></li>\n<li><a href=\"https://github.com/jupyter-server/enterprise_gateway/issues/1382\">(#1382)</a>: <em>Error: module 'kubernetes.client' has no attribute 'V1Subject'</em> by <strong><a href=\"https://github.com/fm2022aa\">@fm2022aa</a></strong></li>\n<li><a href=\"https://github.com/jupyter-server/enterprise_gateway/issues/1402\">(#1402)</a>: <em>Fix Infinite Loop in WebSocket Connection Message Handling</em> by <strong><a href=\"https://github.com/zdhdsx\">@zdhdsx</a></strong></li>\n</ul>"
      }
     },
     "0823cc05c34d46a097f1cbfef2ad8b6f": {
      "model_module": "@jupyter-widgets/controls",
      "model_module_version": "2.0.0",
      "model_name": "HTMLStyleModel",
      "state": {
       "_model_module": "@jupyter-widgets/controls",
       "_model_module_version": "2.0.0",
       "_model_name": "HTMLStyleModel",
       "_view_count": null,
       "_view_module": "@jupyter-widgets/base",
       "_view_module_version": "2.0.0",
       "_view_name": "StyleView",
       "background": null,
       "description_width": "",
       "font_size": null,
       "text_color": null
      }
     },
     "0889ecee481d4353b79118f9f55ffc18": {
      "model_module": "@jupyter-widgets/controls",
      "model_module_version": "2.0.0",
      "model_name": "HTMLStyleModel",
      "state": {
       "_model_module": "@jupyter-widgets/controls",
       "_model_module_version": "2.0.0",
       "_model_name": "HTMLStyleModel",
       "_view_count": null,
       "_view_module": "@jupyter-widgets/base",
       "_view_module_version": "2.0.0",
       "_view_name": "StyleView",
       "background": null,
       "description_width": "",
       "font_size": null,
       "text_color": null
      }
     },
     "0b9a277cfdc74ac68cda9abd6fa5fc4b": {
      "model_module": "@jupyter-widgets/base",
      "model_module_version": "2.0.0",
      "model_name": "LayoutModel",
      "state": {
       "_model_module": "@jupyter-widgets/base",
       "_model_module_version": "2.0.0",
       "_model_name": "LayoutModel",
       "_view_count": null,
       "_view_module": "@jupyter-widgets/base",
       "_view_module_version": "2.0.0",
       "_view_name": "LayoutView",
       "align_content": null,
       "align_items": null,
       "align_self": null,
       "border_bottom": null,
       "border_left": null,
       "border_right": null,
       "border_top": null,
       "bottom": null,
       "display": null,
       "flex": null,
       "flex_flow": null,
       "grid_area": null,
       "grid_auto_columns": null,
       "grid_auto_flow": null,
       "grid_auto_rows": null,
       "grid_column": null,
       "grid_gap": null,
       "grid_row": null,
       "grid_template_areas": null,
       "grid_template_columns": null,
       "grid_template_rows": null,
       "height": null,
       "justify_content": null,
       "justify_items": null,
       "left": null,
       "margin": null,
       "max_height": null,
       "max_width": null,
       "min_height": null,
       "min_width": null,
       "object_fit": null,
       "object_position": null,
       "order": null,
       "overflow": null,
       "padding": null,
       "right": null,
       "top": null,
       "visibility": null,
       "width": null
      }
     },
     "0d3bb6c2caff4d99b32adf3baf4a8cde": {
      "model_module": "@jupyter-widgets/controls",
      "model_module_version": "2.0.0",
      "model_name": "HTMLStyleModel",
      "state": {
       "_model_module": "@jupyter-widgets/controls",
       "_model_module_version": "2.0.0",
       "_model_name": "HTMLStyleModel",
       "_view_count": null,
       "_view_module": "@jupyter-widgets/base",
       "_view_module_version": "2.0.0",
       "_view_name": "StyleView",
       "background": null,
       "description_width": "",
       "font_size": null,
       "text_color": null
      }
     },
     "0df6747ae04f43e08506f7a508e38879": {
      "model_module": "@jupyter-widgets/controls",
      "model_module_version": "2.0.0",
      "model_name": "HTMLStyleModel",
      "state": {
       "_model_module": "@jupyter-widgets/controls",
       "_model_module_version": "2.0.0",
       "_model_name": "HTMLStyleModel",
       "_view_count": null,
       "_view_module": "@jupyter-widgets/base",
       "_view_module_version": "2.0.0",
       "_view_name": "StyleView",
       "background": null,
       "description_width": "",
       "font_size": null,
       "text_color": null
      }
     },
     "0e3f7a7464794d71aa7f426b5741345f": {
      "model_module": "@jupyter-widgets/controls",
      "model_module_version": "2.0.0",
      "model_name": "HTMLModel",
      "state": {
       "_dom_classes": [],
       "_model_module": "@jupyter-widgets/controls",
       "_model_module_version": "2.0.0",
       "_model_name": "HTMLModel",
       "_view_count": null,
       "_view_module": "@jupyter-widgets/controls",
       "_view_module_version": "2.0.0",
       "_view_name": "HTMLView",
       "description": "",
       "description_allow_html": false,
       "layout": "IPY_MODEL_45f1309fdbdc4b4db439882e675e1658",
       "placeholder": "​",
       "style": "IPY_MODEL_fb4b8a822b2a432e89d76dcf3ab3a471",
       "tabbable": null,
       "tooltip": null,
       "value": "<h5><a href=\"https://github.com/jupyter-server/fps\">jupyter-server/fps</a></h5>\n<ul>\n<li><a href=\"https://github.com/jupyter-server/fps/issues/112\">(#112)</a>: <em>Move fps to Jupyter PyPI organization</em> by <strong><a href=\"https://github.com/Zsailer\">@Zsailer</a></strong></li>\n<li><a href=\"https://github.com/jupyter-server/fps/issues/44\">(#44)</a>: <em>Forward CLI args to application</em> by <strong><a href=\"https://github.com/davidbrochart\">@davidbrochart</a></strong></li>\n<li><a href=\"https://github.com/jupyter-server/fps/issues/54\">(#54)</a>: <em>Run-time plugin router definition</em> by <strong><a href=\"https://github.com/davidbrochart\">@davidbrochart</a></strong></li>\n</ul>"
      }
     },
     "12ad0878a34c415eb1fe99837bb12b4a": {
      "model_module": "@jupyter-widgets/controls",
      "model_module_version": "2.0.0",
      "model_name": "HTMLStyleModel",
      "state": {
       "_model_module": "@jupyter-widgets/controls",
       "_model_module_version": "2.0.0",
       "_model_name": "HTMLStyleModel",
       "_view_count": null,
       "_view_module": "@jupyter-widgets/base",
       "_view_module_version": "2.0.0",
       "_view_name": "StyleView",
       "background": null,
       "description_width": "",
       "font_size": null,
       "text_color": null
      }
     },
     "181721991763416a800589c8e3663ab3": {
      "model_module": "@jupyter-widgets/controls",
      "model_module_version": "2.0.0",
      "model_name": "HTMLStyleModel",
      "state": {
       "_model_module": "@jupyter-widgets/controls",
       "_model_module_version": "2.0.0",
       "_model_name": "HTMLStyleModel",
       "_view_count": null,
       "_view_module": "@jupyter-widgets/base",
       "_view_module_version": "2.0.0",
       "_view_name": "StyleView",
       "background": null,
       "description_width": "",
       "font_size": null,
       "text_color": null
      }
     },
     "19284267fb14462c92c2e1011e3cca3d": {
      "model_module": "@jupyter-widgets/controls",
      "model_module_version": "2.0.0",
      "model_name": "HTMLModel",
      "state": {
       "_dom_classes": [],
       "_model_module": "@jupyter-widgets/controls",
       "_model_module_version": "2.0.0",
       "_model_name": "HTMLModel",
       "_view_count": null,
       "_view_module": "@jupyter-widgets/controls",
       "_view_module_version": "2.0.0",
       "_view_name": "HTMLView",
       "description": "",
       "description_allow_html": false,
       "layout": "IPY_MODEL_f47b1fbdb3d344c596a0053cf9dad3b9",
       "placeholder": "​",
       "style": "IPY_MODEL_d8cb14f2784149a68bcefe5ee44ee513",
       "tabbable": null,
       "tooltip": null,
       "value": "<h5><a href=\"https://github.com/jupyter-server/jupyter-scheduler\">jupyter-server/jupyter-scheduler</a></h5>\n<ul>\n<li><a href=\"https://github.com/jupyter-server/jupyter-scheduler/issues/328\">(#328)</a>: <em>Automatically delete all old Notebook jobs</em> by <strong><a href=\"https://github.com/nakvic\">@nakvic</a></strong></li>\n<li><a href=\"https://github.com/jupyter-server/jupyter-scheduler/issues/497\">(#497)</a>: <em>Empty \"Section Navigation\" in user docs</em> by <strong><a href=\"https://github.com/andrii-i\">@andrii-i</a></strong></li>\n<li><a href=\"https://github.com/jupyter-server/jupyter-scheduler/issues/563\">(#563)</a>: <em>Manage the culling of Jupyter Server with scheduled jobs to support JupyterHub</em> by <strong><a href=\"https://github.com/thomasLeclaire\">@thomasLeclaire</a></strong></li>\n<li><a href=\"https://github.com/jupyter-server/jupyter-scheduler/issues/560\">(#560)</a>: <em>JupyterLab 4 classifier is missing</em> by <strong><a href=\"https://github.com/krassowski\">@krassowski</a></strong></li>\n<li><a href=\"https://github.com/jupyter-server/jupyter-scheduler/issues/414\">(#414)</a>: <em>UI for event driven notebook execution</em> by <strong><a href=\"https://github.com/andrii-i\">@andrii-i</a></strong></li>\n</ul>"
      }
     },
     "1acc0a271a634c88aba5b33cc090b8ad": {
      "model_module": "@jupyter-widgets/base",
      "model_module_version": "2.0.0",
      "model_name": "LayoutModel",
      "state": {
       "_model_module": "@jupyter-widgets/base",
       "_model_module_version": "2.0.0",
       "_model_name": "LayoutModel",
       "_view_count": null,
       "_view_module": "@jupyter-widgets/base",
       "_view_module_version": "2.0.0",
       "_view_name": "LayoutView",
       "align_content": null,
       "align_items": null,
       "align_self": null,
       "border_bottom": null,
       "border_left": null,
       "border_right": null,
       "border_top": null,
       "bottom": null,
       "display": null,
       "flex": null,
       "flex_flow": null,
       "grid_area": null,
       "grid_auto_columns": null,
       "grid_auto_flow": null,
       "grid_auto_rows": null,
       "grid_column": null,
       "grid_gap": null,
       "grid_row": null,
       "grid_template_areas": null,
       "grid_template_columns": null,
       "grid_template_rows": null,
       "height": null,
       "justify_content": null,
       "justify_items": null,
       "left": null,
       "margin": null,
       "max_height": null,
       "max_width": null,
       "min_height": null,
       "min_width": null,
       "object_fit": null,
       "object_position": null,
       "order": null,
       "overflow": null,
       "padding": null,
       "right": null,
       "top": null,
       "visibility": null,
       "width": null
      }
     },
     "1b4586c2bb714bfcb2b54ec55deb7404": {
      "model_module": "@jupyter-widgets/base",
      "model_module_version": "2.0.0",
      "model_name": "LayoutModel",
      "state": {
       "_model_module": "@jupyter-widgets/base",
       "_model_module_version": "2.0.0",
       "_model_name": "LayoutModel",
       "_view_count": null,
       "_view_module": "@jupyter-widgets/base",
       "_view_module_version": "2.0.0",
       "_view_name": "LayoutView",
       "align_content": null,
       "align_items": null,
       "align_self": null,
       "border_bottom": null,
       "border_left": null,
       "border_right": null,
       "border_top": null,
       "bottom": null,
       "display": null,
       "flex": null,
       "flex_flow": null,
       "grid_area": null,
       "grid_auto_columns": null,
       "grid_auto_flow": null,
       "grid_auto_rows": null,
       "grid_column": null,
       "grid_gap": null,
       "grid_row": null,
       "grid_template_areas": null,
       "grid_template_columns": null,
       "grid_template_rows": null,
       "height": null,
       "justify_content": null,
       "justify_items": null,
       "left": null,
       "margin": null,
       "max_height": null,
       "max_width": null,
       "min_height": null,
       "min_width": null,
       "object_fit": null,
       "object_position": null,
       "order": null,
       "overflow": null,
       "padding": null,
       "right": null,
       "top": null,
       "visibility": null,
       "width": null
      }
     },
     "1c685160eba34aaeb6454a105a4a7884": {
      "model_module": "@jupyter-widgets/controls",
      "model_module_version": "2.0.0",
      "model_name": "HTMLModel",
      "state": {
       "_dom_classes": [],
       "_model_module": "@jupyter-widgets/controls",
       "_model_module_version": "2.0.0",
       "_model_name": "HTMLModel",
       "_view_count": null,
       "_view_module": "@jupyter-widgets/controls",
       "_view_module_version": "2.0.0",
       "_view_name": "HTMLView",
       "description": "",
       "description_allow_html": false,
       "layout": "IPY_MODEL_e7605f733b5d46b9acb2e829831f4e05",
       "placeholder": "​",
       "style": "IPY_MODEL_03fb9bda32a14e41a6add47537ef53d3",
       "tabbable": null,
       "tooltip": null,
       "value": "<h5><a href=\"https://github.com/jupyter-server/jupyter_server\">jupyter-server/jupyter_server</a></h5>\n<ul>\n<li><a href=\"https://github.com/jupyter-server/jupyter_server/issues/1497\">(#1497)</a>: <em>AttributeError seen while running xeus-cpp</em> by <strong><a href=\"https://github.com/anutosh491\">@anutosh491</a></strong></li>\n<li><a href=\"https://github.com/jupyter-server/jupyter_server/issues/1428\">(#1428)</a>: <em>Fix outdated security documentation</em> by <strong><a href=\"https://github.com/colinpalmer\">@colinpalmer</a></strong></li>\n<li><a href=\"https://github.com/jupyter-server/jupyter_server/issues/1476\">(#1476)</a>: <em>boostrap v3 is EOL upstream; migrate to bootstrap v5</em> by <strong><a href=\"https://github.com/juliangilbey\">@juliangilbey</a></strong></li>\n<li><a href=\"https://github.com/jupyter-server/jupyter_server/issues/1504\">(#1504)</a>: <em>Expose configuration 'FileContentsManager.always_delete_dir' to client</em> by <strong><a href=\"https://github.com/jesuino\">@jesuino</a></strong></li>\n<li><a href=\"https://github.com/jupyter-server/jupyter_server/issues/1514\">(#1514)</a>: <em>Allowing users to update their name</em> by <strong><a href=\"https://github.com/brichet\">@brichet</a></strong></li>\n</ul>"
      }
     },
     "230c810d7e3d42009dea8afb7bcb847e": {
      "model_module": "@jupyter-widgets/controls",
      "model_module_version": "2.0.0",
      "model_name": "HTMLStyleModel",
      "state": {
       "_model_module": "@jupyter-widgets/controls",
       "_model_module_version": "2.0.0",
       "_model_name": "HTMLStyleModel",
       "_view_count": null,
       "_view_module": "@jupyter-widgets/base",
       "_view_module_version": "2.0.0",
       "_view_name": "StyleView",
       "background": null,
       "description_width": "",
       "font_size": null,
       "text_color": null
      }
     },
     "2543a29d7e20403ca13c4c4364b88acd": {
      "model_module": "@jupyter-widgets/controls",
      "model_module_version": "2.0.0",
      "model_name": "HTMLStyleModel",
      "state": {
       "_model_module": "@jupyter-widgets/controls",
       "_model_module_version": "2.0.0",
       "_model_name": "HTMLStyleModel",
       "_view_count": null,
       "_view_module": "@jupyter-widgets/base",
       "_view_module_version": "2.0.0",
       "_view_name": "StyleView",
       "background": null,
       "description_width": "",
       "font_size": null,
       "text_color": null
      }
     },
     "274e509d329243099cfb6e94a241eac9": {
      "model_module": "@jupyter-widgets/base",
      "model_module_version": "2.0.0",
      "model_name": "LayoutModel",
      "state": {
       "_model_module": "@jupyter-widgets/base",
       "_model_module_version": "2.0.0",
       "_model_name": "LayoutModel",
       "_view_count": null,
       "_view_module": "@jupyter-widgets/base",
       "_view_module_version": "2.0.0",
       "_view_name": "LayoutView",
       "align_content": null,
       "align_items": null,
       "align_self": null,
       "border_bottom": null,
       "border_left": null,
       "border_right": null,
       "border_top": null,
       "bottom": null,
       "display": null,
       "flex": null,
       "flex_flow": null,
       "grid_area": null,
       "grid_auto_columns": null,
       "grid_auto_flow": null,
       "grid_auto_rows": null,
       "grid_column": null,
       "grid_gap": null,
       "grid_row": null,
       "grid_template_areas": null,
       "grid_template_columns": null,
       "grid_template_rows": null,
       "height": null,
       "justify_content": null,
       "justify_items": null,
       "left": null,
       "margin": null,
       "max_height": null,
       "max_width": null,
       "min_height": null,
       "min_width": null,
       "object_fit": null,
       "object_position": null,
       "order": null,
       "overflow": null,
       "padding": null,
       "right": null,
       "top": null,
       "visibility": null,
       "width": null
      }
     },
     "2d36338bf2d94c2aa315182b4039c068": {
      "model_module": "@jupyter-widgets/controls",
      "model_module_version": "2.0.0",
      "model_name": "TabModel",
      "state": {
       "_dom_classes": [],
       "_model_module": "@jupyter-widgets/controls",
       "_model_module_version": "2.0.0",
       "_model_name": "TabModel",
       "_view_count": null,
       "_view_module": "@jupyter-widgets/controls",
       "_view_module_version": "2.0.0",
       "_view_name": "TabView",
       "box_style": "",
       "children": [
        "IPY_MODEL_b128929f20ef4306b9660d1970c05d10",
        "IPY_MODEL_40efcf4915e24b09b2081d335af0d092",
        "IPY_MODEL_67440f5b529c41e7972c031ea7286cbc",
        "IPY_MODEL_a8a264da430646bf9ddff7920a8ea7c9",
        "IPY_MODEL_c4997cc226f24ef6aff202c1294ef239",
        "IPY_MODEL_34a126f0a50c4d5885a9f7b709392989",
        "IPY_MODEL_f795386fb10f40018c0884dcfc03f863"
       ],
       "layout": "IPY_MODEL_4976e33740554766a89446c00888c91e",
       "selected_index": 0,
       "tabbable": null,
       "titles": [
        "fps",
        "jupyter-scheduler",
        "jupyter_server",
        "jupyter_server_terminals",
        "jupyter_ydoc",
        "jupyverse",
        "team-compass"
       ],
       "tooltip": null
      }
     },
     "31cabe0d122c4c898f0a944bf3ff23b4": {
      "model_module": "@jupyter-widgets/base",
      "model_module_version": "2.0.0",
      "model_name": "LayoutModel",
      "state": {
       "_model_module": "@jupyter-widgets/base",
       "_model_module_version": "2.0.0",
       "_model_name": "LayoutModel",
       "_view_count": null,
       "_view_module": "@jupyter-widgets/base",
       "_view_module_version": "2.0.0",
       "_view_name": "LayoutView",
       "align_content": null,
       "align_items": null,
       "align_self": null,
       "border_bottom": null,
       "border_left": null,
       "border_right": null,
       "border_top": null,
       "bottom": null,
       "display": null,
       "flex": null,
       "flex_flow": null,
       "grid_area": null,
       "grid_auto_columns": null,
       "grid_auto_flow": null,
       "grid_auto_rows": null,
       "grid_column": null,
       "grid_gap": null,
       "grid_row": null,
       "grid_template_areas": null,
       "grid_template_columns": null,
       "grid_template_rows": null,
       "height": null,
       "justify_content": null,
       "justify_items": null,
       "left": null,
       "margin": null,
       "max_height": null,
       "max_width": null,
       "min_height": null,
       "min_width": null,
       "object_fit": null,
       "object_position": null,
       "order": null,
       "overflow": null,
       "padding": null,
       "right": null,
       "top": null,
       "visibility": null,
       "width": null
      }
     },
     "34a126f0a50c4d5885a9f7b709392989": {
      "model_module": "@jupyter-widgets/controls",
      "model_module_version": "2.0.0",
      "model_name": "HTMLModel",
      "state": {
       "_dom_classes": [],
       "_model_module": "@jupyter-widgets/controls",
       "_model_module_version": "2.0.0",
       "_model_name": "HTMLModel",
       "_view_count": null,
       "_view_module": "@jupyter-widgets/controls",
       "_view_module_version": "2.0.0",
       "_view_name": "HTMLView",
       "description": "",
       "description_allow_html": false,
       "layout": "IPY_MODEL_6db54168971149e89a2a1e47c71df103",
       "placeholder": "​",
       "style": "IPY_MODEL_0df6747ae04f43e08506f7a508e38879",
       "tabbable": null,
       "tooltip": null,
       "value": "<h4>Closed PRs for repo: <a href=\"https://github.com/jupyter-server/jupyverse\">jupyter-server/jupyverse</a></h4>\n<h5></h5>\n<ul>\n<li><a href=\"https://github.com/jupyter-server/jupyverse/issues/388\">(#388)</a>: <em>Switch to Asphalt v5.0</em> by <strong><a href=\"https://github.com/davidbrochart\">@davidbrochart</a></strong> merged by <strong><a href=\"https://github.com/davidbrochart\">@davidbrochart</a></strong></li>\n<li><a href=\"https://github.com/jupyter-server/jupyverse/issues/450\">(#450)</a>: <em>[pre-commit.ci] pre-commit autoupdate</em> by <strong><a href=\"https://github.com/pre-commit-ci[bot]\">@pre-commit-ci[bot]</a></strong> merged by <strong><a href=\"https://github.com/davidbrochart\">@davidbrochart</a></strong></li>\n<li><a href=\"https://github.com/jupyter-server/jupyverse/issues/451\">(#451)</a>: <em>Fix multiple sessions in one kernel bug</em> by <strong><a href=\"https://github.com/rakhmaevao\">@rakhmaevao</a></strong> merged by <strong><a href=\"https://github.com/davidbrochart\">@davidbrochart</a></strong></li>\n<li><a href=\"https://github.com/jupyter-server/jupyverse/issues/453\">(#453)</a>: <em>Switch to FPS</em> by <strong><a href=\"https://github.com/davidbrochart\">@davidbrochart</a></strong> merged by <strong><a href=\"https://github.com/davidbrochart\">@davidbrochart</a></strong></li>\n<li><a href=\"https://github.com/jupyter-server/jupyverse/issues/454\">(#454)</a>: <em>Update README</em> by <strong><a href=\"https://github.com/davidbrochart\">@davidbrochart</a></strong> merged by <strong><a href=\"https://github.com/davidbrochart\">@davidbrochart</a></strong></li>\n<li><a href=\"https://github.com/jupyter-server/jupyverse/issues/455\">(#455)</a>: <em>Fix fps-notebook base URL</em> by <strong><a href=\"https://github.com/davidbrochart\">@davidbrochart</a></strong> merged by <strong><a href=\"https://github.com/davidbrochart\">@davidbrochart</a></strong></li>\n<li><a href=\"https://github.com/jupyter-server/jupyverse/issues/456\">(#456)</a>: <em>Unpin Python version in Binder</em> by <strong><a href=\"https://github.com/davidbrochart\">@davidbrochart</a></strong> merged by <strong><a href=\"https://github.com/davidbrochart\">@davidbrochart</a></strong></li>\n<li><a href=\"https://github.com/jupyter-server/jupyverse/issues/457\">(#457)</a>: <em>Require versions &gt;=0.7.0</em> by <strong><a href=\"https://github.com/davidbrochart\">@davidbrochart</a></strong> merged by <strong><a href=\"https://github.com/davidbrochart\">@davidbrochart</a></strong></li>\n<li><a href=\"https://github.com/jupyter-server/jupyverse/issues/458\">(#458)</a>: <em>Bump fastapi-users v14</em> by <strong><a href=\"https://github.com/davidbrochart\">@davidbrochart</a></strong> merged by <strong><a href=\"https://github.com/davidbrochart\">@davidbrochart</a></strong></li>\n<li><a href=\"https://github.com/jupyter-server/jupyverse/issues/459\">(#459)</a>: <em>Fix fps-auth-jupyterhub dependency</em> by <strong><a href=\"https://github.com/davidbrochart\">@davidbrochart</a></strong> merged by <strong><a href=\"https://github.com/davidbrochart\">@davidbrochart</a></strong></li>\n<li><a href=\"https://github.com/jupyter-server/jupyverse/issues/460\">(#460)</a>: <em>Fix fps-auth-jupyterhub</em> by <strong><a href=\"https://github.com/davidbrochart\">@davidbrochart</a></strong> merged by <strong><a href=\"https://github.com/davidbrochart\">@davidbrochart</a></strong></li>\n<li><a href=\"https://github.com/jupyter-server/jupyverse/issues/461\">(#461)</a>: <em>Use AnyIO's wait_readable for terminals</em> by <strong><a href=\"https://github.com/davidbrochart\">@davidbrochart</a></strong> merged by <strong><a href=\"https://github.com/davidbrochart\">@davidbrochart</a></strong></li>\n<li><a href=\"https://github.com/jupyter-server/jupyverse/issues/462\">(#462)</a>: <em>Bump FPS v0.1.3</em> by <strong><a href=\"https://github.com/davidbrochart\">@davidbrochart</a></strong> merged by <strong><a href=\"https://github.com/davidbrochart\">@davidbrochart</a></strong></li>\n<li><a href=\"https://github.com/jupyter-server/jupyverse/issues/463\">(#463)</a>: <em>Fix connection to existing kernel</em> by <strong><a href=\"https://github.com/davidbrochart\">@davidbrochart</a></strong> merged by <strong><a href=\"https://github.com/davidbrochart\">@davidbrochart</a></strong></li>\n<li><a href=\"https://github.com/jupyter-server/jupyverse/issues/465\">(#465)</a>: <em>[pre-commit.ci] pre-commit autoupdate</em> by <strong><a href=\"https://github.com/pre-commit-ci[bot]\">@pre-commit-ci[bot]</a></strong> merged by <strong><a href=\"https://github.com/davidbrochart\">@davidbrochart</a></strong></li>\n<li><a href=\"https://github.com/jupyter-server/jupyverse/issues/466\">(#466)</a>: <em>Use zmq-anyio</em> by <strong><a href=\"https://github.com/davidbrochart\">@davidbrochart</a></strong> merged by <strong><a href=\"https://github.com/davidbrochart\">@davidbrochart</a></strong></li>\n<li><a href=\"https://github.com/jupyter-server/jupyverse/issues/467\">(#467)</a>: <em>Bump FPS v0.1.5</em> by <strong><a href=\"https://github.com/davidbrochart\">@davidbrochart</a></strong> merged by <strong><a href=\"https://github.com/davidbrochart\">@davidbrochart</a></strong></li>\n<li><a href=\"https://github.com/jupyter-server/jupyverse/issues/468\">(#468)</a>: <em>Kernel Stop Fix</em> by <strong><a href=\"https://github.com/rakhmaevao\">@rakhmaevao</a></strong> merged by <strong><a href=\"https://github.com/rakhmaevao\">@rakhmaevao</a></strong></li>\n<li><a href=\"https://github.com/jupyter-server/jupyverse/issues/469\">(#469)</a>: <em>[pre-commit.ci] pre-commit autoupdate</em> by <strong><a href=\"https://github.com/pre-commit-ci[bot]\">@pre-commit-ci[bot]</a></strong> merged by <strong><a href=\"https://github.com/davidbrochart\">@davidbrochart</a></strong></li>\n<li><a href=\"https://github.com/jupyter-server/jupyverse/issues/470\">(#470)</a>: <em>[pre-commit.ci] pre-commit autoupdate</em> by <strong><a href=\"https://github.com/pre-commit-ci[bot]\">@pre-commit-ci[bot]</a></strong> merged by <strong><a href=\"https://github.com/davidbrochart\">@davidbrochart</a></strong></li>\n<li><a href=\"https://github.com/jupyter-server/jupyverse/issues/472\">(#472)</a>: <em>[pre-commit.ci] pre-commit autoupdate</em> by <strong><a href=\"https://github.com/pre-commit-ci[bot]\">@pre-commit-ci[bot]</a></strong> merged by <strong><a href=\"https://github.com/davidbrochart\">@davidbrochart</a></strong></li>\n<li><a href=\"https://github.com/jupyter-server/jupyverse/issues/473\">(#473)</a>: <em>Fix kernel shutdown</em> by <strong><a href=\"https://github.com/davidbrochart\">@davidbrochart</a></strong> merged by <strong><a href=\"https://github.com/davidbrochart\">@davidbrochart</a></strong></li>\n<li><a href=\"https://github.com/jupyter-server/jupyverse/issues/474\">(#474)</a>: <em>Convert repo to use releaser from repo</em> by <strong><a href=\"https://github.com/davidbrochart\">@davidbrochart</a></strong> merged by <strong><a href=\"https://github.com/davidbrochart\">@davidbrochart</a></strong></li>\n<li><a href=\"https://github.com/jupyter-server/jupyverse/issues/475\">(#475)</a>: <em>Update types</em> by <strong><a href=\"https://github.com/davidbrochart\">@davidbrochart</a></strong> merged by <strong><a href=\"https://github.com/davidbrochart\">@davidbrochart</a></strong></li>\n<li><a href=\"https://github.com/jupyter-server/jupyverse/issues/476\">(#476)</a>: <em>Bump fps &gt;=0.2.1</em> by <strong><a href=\"https://github.com/davidbrochart\">@davidbrochart</a></strong> merged by <strong><a href=\"https://github.com/davidbrochart\">@davidbrochart</a></strong></li>\n<li><a href=\"https://github.com/jupyter-server/jupyverse/issues/478\">(#478)</a>: <em>Check if file exists before inserting it in fileids</em> by <strong><a href=\"https://github.com/davidbrochart\">@davidbrochart</a></strong> merged by <strong><a href=\"https://github.com/davidbrochart\">@davidbrochart</a></strong></li>\n<li><a href=\"https://github.com/jupyter-server/jupyverse/issues/479\">(#479)</a>: <em>[pre-commit.ci] pre-commit autoupdate</em> by <strong><a href=\"https://github.com/pre-commit-ci[bot]\">@pre-commit-ci[bot]</a></strong> merged by <strong><a href=\"https://github.com/davidbrochart\">@davidbrochart</a></strong></li>\n<li><a href=\"https://github.com/jupyter-server/jupyverse/issues/480\">(#480)</a>: <em>Fix stream outputs</em> by <strong><a href=\"https://github.com/davidbrochart\">@davidbrochart</a></strong> merged by <strong><a href=\"https://github.com/davidbrochart\">@davidbrochart</a></strong></li>\n<li><a href=\"https://github.com/jupyter-server/jupyverse/issues/481\">(#481)</a>: <em>[pre-commit.ci] pre-commit autoupdate</em> by <strong><a href=\"https://github.com/pre-commit-ci[bot]\">@pre-commit-ci[bot]</a></strong> merged by <strong><a href=\"https://github.com/davidbrochart\">@davidbrochart</a></strong></li>\n<li><a href=\"https://github.com/jupyter-server/jupyverse/issues/482\">(#482)</a>: <em>Upgrade FPS to v0.3.0</em> by <strong><a href=\"https://github.com/davidbrochart\">@davidbrochart</a></strong> merged by <strong><a href=\"https://github.com/davidbrochart\">@davidbrochart</a></strong></li>\n<li><a href=\"https://github.com/jupyter-server/jupyverse/issues/483\">(#483)</a>: <em>[pre-commit.ci] pre-commit autoupdate</em> by <strong><a href=\"https://github.com/pre-commit-ci[bot]\">@pre-commit-ci[bot]</a></strong> merged by <strong><a href=\"https://github.com/davidbrochart\">@davidbrochart</a></strong></li>\n<li><a href=\"https://github.com/jupyter-server/jupyverse/issues/484\">(#484)</a>: <em>Use jupyter-ydoc instead of vendored version</em> by <strong><a href=\"https://github.com/davidbrochart\">@davidbrochart</a></strong> merged by <strong><a href=\"https://github.com/davidbrochart\">@davidbrochart</a></strong></li>\n<li><a href=\"https://github.com/jupyter-server/jupyverse/issues/485\">(#485)</a>: <em>[pre-commit.ci] pre-commit autoupdate</em> by <strong><a href=\"https://github.com/pre-commit-ci[bot]\">@pre-commit-ci[bot]</a></strong> merged by <strong><a href=\"https://github.com/davidbrochart\">@davidbrochart</a></strong></li>\n<li><a href=\"https://github.com/jupyter-server/jupyverse/issues/486\">(#486)</a>: <em>[pre-commit.ci] pre-commit autoupdate</em> by <strong><a href=\"https://github.com/pre-commit-ci[bot]\">@pre-commit-ci[bot]</a></strong> merged by <strong><a href=\"https://github.com/davidbrochart\">@davidbrochart</a></strong></li>\n</ul>"
      }
     },
     "36df8c553db84f64bd031a698bfac8dd": {
      "model_module": "@jupyter-widgets/controls",
      "model_module_version": "2.0.0",
      "model_name": "HTMLStyleModel",
      "state": {
       "_model_module": "@jupyter-widgets/controls",
       "_model_module_version": "2.0.0",
       "_model_name": "HTMLStyleModel",
       "_view_count": null,
       "_view_module": "@jupyter-widgets/base",
       "_view_module_version": "2.0.0",
       "_view_name": "StyleView",
       "background": null,
       "description_width": "",
       "font_size": null,
       "text_color": null
      }
     },
     "37dcbc10ba6b41878f7155e25980c596": {
      "model_module": "@jupyter-widgets/controls",
      "model_module_version": "2.0.0",
      "model_name": "TabModel",
      "state": {
       "_dom_classes": [],
       "_model_module": "@jupyter-widgets/controls",
       "_model_module_version": "2.0.0",
       "_model_name": "TabModel",
       "_view_count": null,
       "_view_module": "@jupyter-widgets/controls",
       "_view_module_version": "2.0.0",
       "_view_name": "TabView",
       "box_style": "",
       "children": [
        "IPY_MODEL_b8d346cb97eb46c4adfa939521d9507e",
        "IPY_MODEL_7e70f2c68f61433786fbe9132f16f0ac",
        "IPY_MODEL_ab7570c8df7b4d2cb4e9cdc97e42d0f9",
        "IPY_MODEL_641cc3aefb844391a0383e400b89d3dd",
        "IPY_MODEL_f5e07bae44eb4793b9ca21e78a1ab4b3",
        "IPY_MODEL_e1a8ea9e2d0c4ea7a7806e5031dcc8d1",
        "IPY_MODEL_7bfcd0b1fead4e169becc721e51a80af",
        "IPY_MODEL_9419c20d5c1044c886bc625f7e0d55db",
        "IPY_MODEL_05b9904c520543459df433f045355f1d",
        "IPY_MODEL_e9c3318bbd01467e88d9153f1c24ee63"
       ],
       "layout": "IPY_MODEL_8654e28fac244a1881d14fc9febea0c5",
       "selected_index": 0,
       "tabbable": null,
       "titles": [
        "enterprise_gateway",
        "fps",
        "gateway_provisioners",
        "jupyter-resource-usage",
        "jupyter-scheduler",
        "jupyter_releaser",
        "jupyter_server",
        "jupyverse",
        "kernel_gateway",
        "team-compass"
       ],
       "tooltip": null
      }
     },
     "3c57445686514abcbc76b2d63284e1b5": {
      "model_module": "@jupyter-widgets/controls",
      "model_module_version": "2.0.0",
      "model_name": "HTMLStyleModel",
      "state": {
       "_model_module": "@jupyter-widgets/controls",
       "_model_module_version": "2.0.0",
       "_model_name": "HTMLStyleModel",
       "_view_count": null,
       "_view_module": "@jupyter-widgets/base",
       "_view_module_version": "2.0.0",
       "_view_name": "StyleView",
       "background": null,
       "description_width": "",
       "font_size": null,
       "text_color": null
      }
     },
     "40efcf4915e24b09b2081d335af0d092": {
      "model_module": "@jupyter-widgets/controls",
      "model_module_version": "2.0.0",
      "model_name": "HTMLModel",
      "state": {
       "_dom_classes": [],
       "_model_module": "@jupyter-widgets/controls",
       "_model_module_version": "2.0.0",
       "_model_name": "HTMLModel",
       "_view_count": null,
       "_view_module": "@jupyter-widgets/controls",
       "_view_module_version": "2.0.0",
       "_view_name": "HTMLView",
       "description": "",
       "description_allow_html": false,
       "layout": "IPY_MODEL_31cabe0d122c4c898f0a944bf3ff23b4",
       "placeholder": "​",
       "style": "IPY_MODEL_0889ecee481d4353b79118f9f55ffc18",
       "tabbable": null,
       "tooltip": null,
       "value": "<h4>Closed PRs for repo: <a href=\"https://github.com/jupyter-server/jupyter-scheduler\">jupyter-server/jupyter-scheduler</a></h4>\n<h5></h5>\n<ul>\n<li><a href=\"https://github.com/jupyter-server/jupyter-scheduler/issues/572\">(#572)</a>: <em>Enforce path imports for mui icons, Migrate to newer eslint (v8)</em> by <strong><a href=\"https://github.com/astitv-sh\">@astitv-sh</a></strong> merged by <strong><a href=\"https://github.com/andrii-i\">@andrii-i</a></strong></li>\n<li><a href=\"https://github.com/jupyter-server/jupyter-scheduler/issues/575\">(#575)</a>: <em>Add support for Python 3.13 version and remove support for Python  3.7 and 3.8 versions</em> by <strong><a href=\"https://github.com/asmita-sharma1625\">@asmita-sharma1625</a></strong> merged by <strong><a href=\"https://github.com/andrii-i\">@andrii-i</a></strong></li>\n<li><a href=\"https://github.com/jupyter-server/jupyter-scheduler/issues/576\">(#576)</a>: <em>Updated JupyterLab Classifier to JupyterLab 4, Bump actions/cache to v3</em> by <strong><a href=\"https://github.com/astitv-sh\">@astitv-sh</a></strong> merged by <strong><a href=\"https://github.com/andrii-i\">@andrii-i</a></strong></li>\n<li><a href=\"https://github.com/jupyter-server/jupyter-scheduler/issues/577\">(#577)</a>: <em>Remove \"RTC\" drive prefix from filepath added by jupyter-collaboration when using notebook scheduler widget</em> by <strong><a href=\"https://github.com/asmita-sharma1625\">@asmita-sharma1625</a></strong> merged by <strong><a href=\"https://github.com/andrii-i\">@andrii-i</a></strong></li>\n<li><a href=\"https://github.com/jupyter-server/jupyter-scheduler/issues/578\">(#578)</a>: <em>Async upload</em> by <strong><a href=\"https://github.com/andrii-i\">@andrii-i</a></strong> merged by <strong><a href=\"https://github.com/andrii-i\">@andrii-i</a></strong></li>\n</ul>"
      }
     },
     "45f1309fdbdc4b4db439882e675e1658": {
      "model_module": "@jupyter-widgets/base",
      "model_module_version": "2.0.0",
      "model_name": "LayoutModel",
      "state": {
       "_model_module": "@jupyter-widgets/base",
       "_model_module_version": "2.0.0",
       "_model_name": "LayoutModel",
       "_view_count": null,
       "_view_module": "@jupyter-widgets/base",
       "_view_module_version": "2.0.0",
       "_view_name": "LayoutView",
       "align_content": null,
       "align_items": null,
       "align_self": null,
       "border_bottom": null,
       "border_left": null,
       "border_right": null,
       "border_top": null,
       "bottom": null,
       "display": null,
       "flex": null,
       "flex_flow": null,
       "grid_area": null,
       "grid_auto_columns": null,
       "grid_auto_flow": null,
       "grid_auto_rows": null,
       "grid_column": null,
       "grid_gap": null,
       "grid_row": null,
       "grid_template_areas": null,
       "grid_template_columns": null,
       "grid_template_rows": null,
       "height": null,
       "justify_content": null,
       "justify_items": null,
       "left": null,
       "margin": null,
       "max_height": null,
       "max_width": null,
       "min_height": null,
       "min_width": null,
       "object_fit": null,
       "object_position": null,
       "order": null,
       "overflow": null,
       "padding": null,
       "right": null,
       "top": null,
       "visibility": null,
       "width": null
      }
     },
     "460ef8a3f17a43c88d7d836ac9252c25": {
      "model_module": "@jupyter-widgets/base",
      "model_module_version": "2.0.0",
      "model_name": "LayoutModel",
      "state": {
       "_model_module": "@jupyter-widgets/base",
       "_model_module_version": "2.0.0",
       "_model_name": "LayoutModel",
       "_view_count": null,
       "_view_module": "@jupyter-widgets/base",
       "_view_module_version": "2.0.0",
       "_view_name": "LayoutView",
       "align_content": null,
       "align_items": null,
       "align_self": null,
       "border_bottom": null,
       "border_left": null,
       "border_right": null,
       "border_top": null,
       "bottom": null,
       "display": null,
       "flex": null,
       "flex_flow": null,
       "grid_area": null,
       "grid_auto_columns": null,
       "grid_auto_flow": null,
       "grid_auto_rows": null,
       "grid_column": null,
       "grid_gap": null,
       "grid_row": null,
       "grid_template_areas": null,
       "grid_template_columns": null,
       "grid_template_rows": null,
       "height": null,
       "justify_content": null,
       "justify_items": null,
       "left": null,
       "margin": null,
       "max_height": null,
       "max_width": null,
       "min_height": null,
       "min_width": null,
       "object_fit": null,
       "object_position": null,
       "order": null,
       "overflow": null,
       "padding": null,
       "right": null,
       "top": null,
       "visibility": null,
       "width": null
      }
     },
     "47c38761a89b4f3b830f351440401fee": {
      "model_module": "@jupyter-widgets/controls",
      "model_module_version": "2.0.0",
      "model_name": "HTMLStyleModel",
      "state": {
       "_model_module": "@jupyter-widgets/controls",
       "_model_module_version": "2.0.0",
       "_model_name": "HTMLStyleModel",
       "_view_count": null,
       "_view_module": "@jupyter-widgets/base",
       "_view_module_version": "2.0.0",
       "_view_name": "StyleView",
       "background": null,
       "description_width": "",
       "font_size": null,
       "text_color": null
      }
     },
     "4976e33740554766a89446c00888c91e": {
      "model_module": "@jupyter-widgets/base",
      "model_module_version": "2.0.0",
      "model_name": "LayoutModel",
      "state": {
       "_model_module": "@jupyter-widgets/base",
       "_model_module_version": "2.0.0",
       "_model_name": "LayoutModel",
       "_view_count": null,
       "_view_module": "@jupyter-widgets/base",
       "_view_module_version": "2.0.0",
       "_view_name": "LayoutView",
       "align_content": null,
       "align_items": null,
       "align_self": null,
       "border_bottom": null,
       "border_left": null,
       "border_right": null,
       "border_top": null,
       "bottom": null,
       "display": null,
       "flex": null,
       "flex_flow": null,
       "grid_area": null,
       "grid_auto_columns": null,
       "grid_auto_flow": null,
       "grid_auto_rows": null,
       "grid_column": null,
       "grid_gap": null,
       "grid_row": null,
       "grid_template_areas": null,
       "grid_template_columns": null,
       "grid_template_rows": null,
       "height": null,
       "justify_content": null,
       "justify_items": null,
       "left": null,
       "margin": null,
       "max_height": null,
       "max_width": null,
       "min_height": null,
       "min_width": null,
       "object_fit": null,
       "object_position": null,
       "order": null,
       "overflow": null,
       "padding": null,
       "right": null,
       "top": null,
       "visibility": null,
       "width": null
      }
     },
     "49834d4bb9c94905b7757acb87fee4ad": {
      "model_module": "@jupyter-widgets/base",
      "model_module_version": "2.0.0",
      "model_name": "LayoutModel",
      "state": {
       "_model_module": "@jupyter-widgets/base",
       "_model_module_version": "2.0.0",
       "_model_name": "LayoutModel",
       "_view_count": null,
       "_view_module": "@jupyter-widgets/base",
       "_view_module_version": "2.0.0",
       "_view_name": "LayoutView",
       "align_content": null,
       "align_items": null,
       "align_self": null,
       "border_bottom": null,
       "border_left": null,
       "border_right": null,
       "border_top": null,
       "bottom": null,
       "display": null,
       "flex": null,
       "flex_flow": null,
       "grid_area": null,
       "grid_auto_columns": null,
       "grid_auto_flow": null,
       "grid_auto_rows": null,
       "grid_column": null,
       "grid_gap": null,
       "grid_row": null,
       "grid_template_areas": null,
       "grid_template_columns": null,
       "grid_template_rows": null,
       "height": null,
       "justify_content": null,
       "justify_items": null,
       "left": null,
       "margin": null,
       "max_height": null,
       "max_width": null,
       "min_height": null,
       "min_width": null,
       "object_fit": null,
       "object_position": null,
       "order": null,
       "overflow": null,
       "padding": null,
       "right": null,
       "top": null,
       "visibility": null,
       "width": null
      }
     },
     "5300e619390342968672e5af14c07d7c": {
      "model_module": "@jupyter-widgets/controls",
      "model_module_version": "2.0.0",
      "model_name": "HTMLStyleModel",
      "state": {
       "_model_module": "@jupyter-widgets/controls",
       "_model_module_version": "2.0.0",
       "_model_name": "HTMLStyleModel",
       "_view_count": null,
       "_view_module": "@jupyter-widgets/base",
       "_view_module_version": "2.0.0",
       "_view_name": "StyleView",
       "background": null,
       "description_width": "",
       "font_size": null,
       "text_color": null
      }
     },
     "546d671a6f154d938b8328afceb72b70": {
      "model_module": "@jupyter-widgets/controls",
      "model_module_version": "2.0.0",
      "model_name": "HTMLModel",
      "state": {
       "_dom_classes": [],
       "_model_module": "@jupyter-widgets/controls",
       "_model_module_version": "2.0.0",
       "_model_name": "HTMLModel",
       "_view_count": null,
       "_view_module": "@jupyter-widgets/controls",
       "_view_module_version": "2.0.0",
       "_view_name": "HTMLView",
       "description": "",
       "description_allow_html": false,
       "layout": "IPY_MODEL_1acc0a271a634c88aba5b33cc090b8ad",
       "placeholder": "​",
       "style": "IPY_MODEL_69cf7ebc7ee44a77afca324193990b46",
       "tabbable": null,
       "tooltip": null,
       "value": "<h5><a href=\"https://github.com/jupyter-server/kernel_gateway\">jupyter-server/kernel_gateway</a></h5>\n<ul>\n<li><a href=\"https://github.com/jupyter-server/kernel_gateway/issues/398\">(#398)</a>: <em>CLI fails to start on windows with signal import issue</em> by <strong><a href=\"https://github.com/jackgerrits\">@jackgerrits</a></strong></li>\n</ul>"
      }
     },
     "5b3786ceb83f4ad19638a405f0c2510d": {
      "model_module": "@jupyter-widgets/base",
      "model_module_version": "2.0.0",
      "model_name": "LayoutModel",
      "state": {
       "_model_module": "@jupyter-widgets/base",
       "_model_module_version": "2.0.0",
       "_model_name": "LayoutModel",
       "_view_count": null,
       "_view_module": "@jupyter-widgets/base",
       "_view_module_version": "2.0.0",
       "_view_name": "LayoutView",
       "align_content": null,
       "align_items": null,
       "align_self": null,
       "border_bottom": null,
       "border_left": null,
       "border_right": null,
       "border_top": null,
       "bottom": null,
       "display": null,
       "flex": null,
       "flex_flow": null,
       "grid_area": null,
       "grid_auto_columns": null,
       "grid_auto_flow": null,
       "grid_auto_rows": null,
       "grid_column": null,
       "grid_gap": null,
       "grid_row": null,
       "grid_template_areas": null,
       "grid_template_columns": null,
       "grid_template_rows": null,
       "height": null,
       "justify_content": null,
       "justify_items": null,
       "left": null,
       "margin": null,
       "max_height": null,
       "max_width": null,
       "min_height": null,
       "min_width": null,
       "object_fit": null,
       "object_position": null,
       "order": null,
       "overflow": null,
       "padding": null,
       "right": null,
       "top": null,
       "visibility": null,
       "width": null
      }
     },
     "5f16e2fae9654305953b6feccd93d307": {
      "model_module": "@jupyter-widgets/base",
      "model_module_version": "2.0.0",
      "model_name": "LayoutModel",
      "state": {
       "_model_module": "@jupyter-widgets/base",
       "_model_module_version": "2.0.0",
       "_model_name": "LayoutModel",
       "_view_count": null,
       "_view_module": "@jupyter-widgets/base",
       "_view_module_version": "2.0.0",
       "_view_name": "LayoutView",
       "align_content": null,
       "align_items": null,
       "align_self": null,
       "border_bottom": null,
       "border_left": null,
       "border_right": null,
       "border_top": null,
       "bottom": null,
       "display": null,
       "flex": null,
       "flex_flow": null,
       "grid_area": null,
       "grid_auto_columns": null,
       "grid_auto_flow": null,
       "grid_auto_rows": null,
       "grid_column": null,
       "grid_gap": null,
       "grid_row": null,
       "grid_template_areas": null,
       "grid_template_columns": null,
       "grid_template_rows": null,
       "height": null,
       "justify_content": null,
       "justify_items": null,
       "left": null,
       "margin": null,
       "max_height": null,
       "max_width": null,
       "min_height": null,
       "min_width": null,
       "object_fit": null,
       "object_position": null,
       "order": null,
       "overflow": null,
       "padding": null,
       "right": null,
       "top": null,
       "visibility": null,
       "width": null
      }
     },
     "5f31cbb0d31d4cba866c1be6adc5600c": {
      "model_module": "@jupyter-widgets/base",
      "model_module_version": "2.0.0",
      "model_name": "LayoutModel",
      "state": {
       "_model_module": "@jupyter-widgets/base",
       "_model_module_version": "2.0.0",
       "_model_name": "LayoutModel",
       "_view_count": null,
       "_view_module": "@jupyter-widgets/base",
       "_view_module_version": "2.0.0",
       "_view_name": "LayoutView",
       "align_content": null,
       "align_items": null,
       "align_self": null,
       "border_bottom": null,
       "border_left": null,
       "border_right": null,
       "border_top": null,
       "bottom": null,
       "display": null,
       "flex": null,
       "flex_flow": null,
       "grid_area": null,
       "grid_auto_columns": null,
       "grid_auto_flow": null,
       "grid_auto_rows": null,
       "grid_column": null,
       "grid_gap": null,
       "grid_row": null,
       "grid_template_areas": null,
       "grid_template_columns": null,
       "grid_template_rows": null,
       "height": null,
       "justify_content": null,
       "justify_items": null,
       "left": null,
       "margin": null,
       "max_height": null,
       "max_width": null,
       "min_height": null,
       "min_width": null,
       "object_fit": null,
       "object_position": null,
       "order": null,
       "overflow": null,
       "padding": null,
       "right": null,
       "top": null,
       "visibility": null,
       "width": null
      }
     },
     "641cc3aefb844391a0383e400b89d3dd": {
      "model_module": "@jupyter-widgets/controls",
      "model_module_version": "2.0.0",
      "model_name": "HTMLModel",
      "state": {
       "_dom_classes": [],
       "_model_module": "@jupyter-widgets/controls",
       "_model_module_version": "2.0.0",
       "_model_name": "HTMLModel",
       "_view_count": null,
       "_view_module": "@jupyter-widgets/controls",
       "_view_module_version": "2.0.0",
       "_view_name": "HTMLView",
       "description": "",
       "description_allow_html": false,
       "layout": "IPY_MODEL_bf4c3d321b9846c993df938d59c96b61",
       "placeholder": "​",
       "style": "IPY_MODEL_a0b53d93b5654f039fc52dda8ec4525b",
       "tabbable": null,
       "tooltip": null,
       "value": "<h5><a href=\"https://github.com/jupyter-server/jupyter-resource-usage\">jupyter-server/jupyter-resource-usage</a></h5>\n<ul>\n<li><a href=\"https://github.com/jupyter-server/jupyter-resource-usage/issues/237\">(#237)</a>: <em>update yarn.lock required: jupyterlab/coreutils =&gt; no exported member 'ResolvedRelativeTimeFormatOptions'</em> by <strong><a href=\"https://github.com/jhgoebbert\">@jhgoebbert</a></strong></li>\n<li><a href=\"https://github.com/jupyter-server/jupyter-resource-usage/issues/245\">(#245)</a>: <em>Enabling track_cpu_percent causes unacceptable input delay in terminal</em> by <strong><a href=\"https://github.com/ctcjab\">@ctcjab</a></strong></li>\n<li><a href=\"https://github.com/jupyter-server/jupyter-resource-usage/issues/242\">(#242)</a>: <em>Better <code>opt-in</code> than <code>opt-out</code> for <code>enable_prometheus_metrics</code></em> by <strong><a href=\"https://github.com/jhgoebbert\">@jhgoebbert</a></strong></li>\n<li><a href=\"https://github.com/jupyter-server/jupyter-resource-usage/issues/123\">(#123)</a>: <em>Prometheus metrics blocks tornado main thread</em> by <strong><a href=\"https://github.com/dleen\">@dleen</a></strong></li>\n<li><a href=\"https://github.com/jupyter-server/jupyter-resource-usage/issues/244\">(#244)</a>: <em>How to configure \"Enable resource usage indicators\" to true from <code>c = get_config()</code></em> by <strong><a href=\"https://github.com/sgrenf95\">@sgrenf95</a></strong></li>\n</ul>"
      }
     },
     "67440f5b529c41e7972c031ea7286cbc": {
      "model_module": "@jupyter-widgets/controls",
      "model_module_version": "2.0.0",
      "model_name": "HTMLModel",
      "state": {
       "_dom_classes": [],
       "_model_module": "@jupyter-widgets/controls",
       "_model_module_version": "2.0.0",
       "_model_name": "HTMLModel",
       "_view_count": null,
       "_view_module": "@jupyter-widgets/controls",
       "_view_module_version": "2.0.0",
       "_view_name": "HTMLView",
       "description": "",
       "description_allow_html": false,
       "layout": "IPY_MODEL_c4c8cb57942d43f48180ced2612e6c10",
       "placeholder": "​",
       "style": "IPY_MODEL_07ab0b03188f48289520866d19008a21",
       "tabbable": null,
       "tooltip": null,
       "value": "<h4>Closed PRs for repo: <a href=\"https://github.com/jupyter-server/jupyter_server\">jupyter-server/jupyter_server</a></h4>\n<h5></h5>\n<ul>\n<li><a href=\"https://github.com/jupyter-server/jupyter_server/issues/1417\">(#1417)</a>: <em>Add async start hook to ExtensionApp API</em> by <strong><a href=\"https://github.com/Zsailer\">@Zsailer</a></strong> merged by <strong><a href=\"https://github.com/Zsailer\">@Zsailer</a></strong></li>\n<li><a href=\"https://github.com/jupyter-server/jupyter_server/issues/1457\">(#1457)</a>: <em>Don't hide .so,.dylib files by default</em> by <strong><a href=\"https://github.com/nokados\">@nokados</a></strong> merged by <strong><a href=\"https://github.com/minrk\">@minrk</a></strong></li>\n<li><a href=\"https://github.com/jupyter-server/jupyter_server/issues/1498\">(#1498)</a>: <em>Fix handling of missing parent header in record activity</em> by <strong><a href=\"https://github.com/davidbrochart\">@davidbrochart</a></strong> merged by <strong><a href=\"https://github.com/minrk\">@minrk</a></strong></li>\n<li><a href=\"https://github.com/jupyter-server/jupyter_server/issues/1499\">(#1499)</a>: <em>Update Contribution Page for Jupyter Server</em> by <strong><a href=\"https://github.com/kjayan\">@kjayan</a></strong> merged by <strong><a href=\"https://github.com/vidartf\">@vidartf</a></strong></li>\n<li><a href=\"https://github.com/jupyter-server/jupyter_server/issues/1500\">(#1500)</a>: <em>Fix for #1479 : Incorrect usage of i18n format</em> by <strong><a href=\"https://github.com/kjayan\">@kjayan</a></strong> merged by <strong><a href=\"https://github.com/vidartf\">@vidartf</a></strong></li>\n<li><a href=\"https://github.com/jupyter-server/jupyter_server/issues/1505\">(#1505)</a>: <em>Update Security Section in the Jupyter Server Documentation</em> by <strong><a href=\"https://github.com/kjayan\">@kjayan</a></strong> merged by <strong><a href=\"https://github.com/Zsailer\">@Zsailer</a></strong></li>\n<li><a href=\"https://github.com/jupyter-server/jupyter_server/issues/1508\">(#1508)</a>: <em>Update websocket-protocols documentation to reflect implementation</em> by <strong><a href=\"https://github.com/ark-1\">@ark-1</a></strong> merged by <strong><a href=\"https://github.com/Zsailer\">@Zsailer</a></strong></li>\n<li><a href=\"https://github.com/jupyter-server/jupyter_server/issues/1509\">(#1509)</a>: _ Validate extension name before toggling through CLI_ by <strong><a href=\"https://github.com/Darshan808\">@Darshan808</a></strong> merged by <strong><a href=\"https://github.com/afshin\">@afshin</a></strong></li>\n<li><a href=\"https://github.com/jupyter-server/jupyter_server/issues/1510\">(#1510)</a>: <em>tests: install test-functional requirements for Jupytext downstream tests</em> by <strong><a href=\"https://github.com/MaicoTimmerman\">@MaicoTimmerman</a></strong> merged by <strong><a href=\"https://github.com/Zsailer\">@Zsailer</a></strong></li>\n<li><a href=\"https://github.com/jupyter-server/jupyter_server/issues/1513\">(#1513)</a>: <em>Check file permissions before making tmp file</em> by <strong><a href=\"https://github.com/RRosio\">@RRosio</a></strong> merged by <strong><a href=\"https://github.com/afshin\">@afshin</a></strong></li>\n<li><a href=\"https://github.com/jupyter-server/jupyter_server/issues/1516\">(#1516)</a>: <em>Fallback to direct write for readonly dirs and use temp path for checkpoints</em> by <strong><a href=\"https://github.com/Darshan808\">@Darshan808</a></strong> merged by <strong><a href=\"https://github.com/afshin\">@afshin</a></strong></li>\n<li><a href=\"https://github.com/jupyter-server/jupyter_server/issues/1517\">(#1517)</a>: <em>Update meetings notes link and zoom link</em> by <strong><a href=\"https://github.com/krassowski\">@krassowski</a></strong> merged by <strong><a href=\"https://github.com/minrk\">@minrk</a></strong></li>\n</ul>"
      }
     },
     "67e6bd0d60e14dc5bb68a0b92da26659": {
      "model_module": "@jupyter-widgets/base",
      "model_module_version": "2.0.0",
      "model_name": "LayoutModel",
      "state": {
       "_model_module": "@jupyter-widgets/base",
       "_model_module_version": "2.0.0",
       "_model_name": "LayoutModel",
       "_view_count": null,
       "_view_module": "@jupyter-widgets/base",
       "_view_module_version": "2.0.0",
       "_view_name": "LayoutView",
       "align_content": null,
       "align_items": null,
       "align_self": null,
       "border_bottom": null,
       "border_left": null,
       "border_right": null,
       "border_top": null,
       "bottom": null,
       "display": null,
       "flex": null,
       "flex_flow": null,
       "grid_area": null,
       "grid_auto_columns": null,
       "grid_auto_flow": null,
       "grid_auto_rows": null,
       "grid_column": null,
       "grid_gap": null,
       "grid_row": null,
       "grid_template_areas": null,
       "grid_template_columns": null,
       "grid_template_rows": null,
       "height": null,
       "justify_content": null,
       "justify_items": null,
       "left": null,
       "margin": null,
       "max_height": null,
       "max_width": null,
       "min_height": null,
       "min_width": null,
       "object_fit": null,
       "object_position": null,
       "order": null,
       "overflow": null,
       "padding": null,
       "right": null,
       "top": null,
       "visibility": null,
       "width": null
      }
     },
     "69cf7ebc7ee44a77afca324193990b46": {
      "model_module": "@jupyter-widgets/controls",
      "model_module_version": "2.0.0",
      "model_name": "HTMLStyleModel",
      "state": {
       "_model_module": "@jupyter-widgets/controls",
       "_model_module_version": "2.0.0",
       "_model_name": "HTMLStyleModel",
       "_view_count": null,
       "_view_module": "@jupyter-widgets/base",
       "_view_module_version": "2.0.0",
       "_view_name": "StyleView",
       "background": null,
       "description_width": "",
       "font_size": null,
       "text_color": null
      }
     },
     "6db54168971149e89a2a1e47c71df103": {
      "model_module": "@jupyter-widgets/base",
      "model_module_version": "2.0.0",
      "model_name": "LayoutModel",
      "state": {
       "_model_module": "@jupyter-widgets/base",
       "_model_module_version": "2.0.0",
       "_model_name": "LayoutModel",
       "_view_count": null,
       "_view_module": "@jupyter-widgets/base",
       "_view_module_version": "2.0.0",
       "_view_name": "LayoutView",
       "align_content": null,
       "align_items": null,
       "align_self": null,
       "border_bottom": null,
       "border_left": null,
       "border_right": null,
       "border_top": null,
       "bottom": null,
       "display": null,
       "flex": null,
       "flex_flow": null,
       "grid_area": null,
       "grid_auto_columns": null,
       "grid_auto_flow": null,
       "grid_auto_rows": null,
       "grid_column": null,
       "grid_gap": null,
       "grid_row": null,
       "grid_template_areas": null,
       "grid_template_columns": null,
       "grid_template_rows": null,
       "height": null,
       "justify_content": null,
       "justify_items": null,
       "left": null,
       "margin": null,
       "max_height": null,
       "max_width": null,
       "min_height": null,
       "min_width": null,
       "object_fit": null,
       "object_position": null,
       "order": null,
       "overflow": null,
       "padding": null,
       "right": null,
       "top": null,
       "visibility": null,
       "width": null
      }
     },
     "6db89e195a0d4360bba3c8f60d913b72": {
      "model_module": "@jupyter-widgets/controls",
      "model_module_version": "2.0.0",
      "model_name": "HTMLStyleModel",
      "state": {
       "_model_module": "@jupyter-widgets/controls",
       "_model_module_version": "2.0.0",
       "_model_name": "HTMLStyleModel",
       "_view_count": null,
       "_view_module": "@jupyter-widgets/base",
       "_view_module_version": "2.0.0",
       "_view_name": "StyleView",
       "background": null,
       "description_width": "",
       "font_size": null,
       "text_color": null
      }
     },
     "7bfcd0b1fead4e169becc721e51a80af": {
      "model_module": "@jupyter-widgets/controls",
      "model_module_version": "2.0.0",
      "model_name": "HTMLModel",
      "state": {
       "_dom_classes": [],
       "_model_module": "@jupyter-widgets/controls",
       "_model_module_version": "2.0.0",
       "_model_name": "HTMLModel",
       "_view_count": null,
       "_view_module": "@jupyter-widgets/controls",
       "_view_module_version": "2.0.0",
       "_view_name": "HTMLView",
       "description": "",
       "description_allow_html": false,
       "layout": "IPY_MODEL_f78d1e425f2844e99a4ad72a2769ec46",
       "placeholder": "​",
       "style": "IPY_MODEL_230c810d7e3d42009dea8afb7bcb847e",
       "tabbable": null,
       "tooltip": null,
       "value": "<h5><a href=\"https://github.com/jupyter-server/jupyter_server\">jupyter-server/jupyter_server</a></h5>\n<ul>\n<li><a href=\"https://github.com/jupyter-server/jupyter_server/issues/1497\">(#1497)</a>: <em>AttributeError seen while running xeus-cpp</em> by <strong><a href=\"https://github.com/anutosh491\">@anutosh491</a></strong></li>\n<li><a href=\"https://github.com/jupyter-server/jupyter_server/issues/1428\">(#1428)</a>: <em>Fix outdated security documentation</em> by <strong><a href=\"https://github.com/colinpalmer\">@colinpalmer</a></strong></li>\n<li><a href=\"https://github.com/jupyter-server/jupyter_server/issues/1476\">(#1476)</a>: <em>boostrap v3 is EOL upstream; migrate to bootstrap v5</em> by <strong><a href=\"https://github.com/juliangilbey\">@juliangilbey</a></strong></li>\n<li><a href=\"https://github.com/jupyter-server/jupyter_server/issues/1504\">(#1504)</a>: <em>Expose configuration 'FileContentsManager.always_delete_dir' to client</em> by <strong><a href=\"https://github.com/jesuino\">@jesuino</a></strong></li>\n<li><a href=\"https://github.com/jupyter-server/jupyter_server/issues/1514\">(#1514)</a>: <em>Allowing users to update their name</em> by <strong><a href=\"https://github.com/brichet\">@brichet</a></strong></li>\n</ul>"
      }
     },
     "7e70f2c68f61433786fbe9132f16f0ac": {
      "model_module": "@jupyter-widgets/controls",
      "model_module_version": "2.0.0",
      "model_name": "HTMLModel",
      "state": {
       "_dom_classes": [],
       "_model_module": "@jupyter-widgets/controls",
       "_model_module_version": "2.0.0",
       "_model_name": "HTMLModel",
       "_view_count": null,
       "_view_module": "@jupyter-widgets/controls",
       "_view_module_version": "2.0.0",
       "_view_name": "HTMLView",
       "description": "",
       "description_allow_html": false,
       "layout": "IPY_MODEL_df841f0c9bd44bd0a7e99401f3d2fe2c",
       "placeholder": "​",
       "style": "IPY_MODEL_d9b9d50dffbc4472b486d853654453ad",
       "tabbable": null,
       "tooltip": null,
       "value": "<h5><a href=\"https://github.com/jupyter-server/fps\">jupyter-server/fps</a></h5>\n<ul>\n<li><a href=\"https://github.com/jupyter-server/fps/issues/112\">(#112)</a>: <em>Move fps to Jupyter PyPI organization</em> by <strong><a href=\"https://github.com/Zsailer\">@Zsailer</a></strong></li>\n<li><a href=\"https://github.com/jupyter-server/fps/issues/44\">(#44)</a>: <em>Forward CLI args to application</em> by <strong><a href=\"https://github.com/davidbrochart\">@davidbrochart</a></strong></li>\n<li><a href=\"https://github.com/jupyter-server/fps/issues/54\">(#54)</a>: <em>Run-time plugin router definition</em> by <strong><a href=\"https://github.com/davidbrochart\">@davidbrochart</a></strong></li>\n</ul>"
      }
     },
     "81e1f2c08a02422c98d2d0a74fa71bbd": {
      "model_module": "@jupyter-widgets/controls",
      "model_module_version": "2.0.0",
      "model_name": "HTMLModel",
      "state": {
       "_dom_classes": [],
       "_model_module": "@jupyter-widgets/controls",
       "_model_module_version": "2.0.0",
       "_model_name": "HTMLModel",
       "_view_count": null,
       "_view_module": "@jupyter-widgets/controls",
       "_view_module_version": "2.0.0",
       "_view_name": "HTMLView",
       "description": "",
       "description_allow_html": false,
       "layout": "IPY_MODEL_85b773a597f645a5bbfc25b108f4faea",
       "placeholder": "​",
       "style": "IPY_MODEL_0d3bb6c2caff4d99b32adf3baf4a8cde",
       "tabbable": null,
       "tooltip": null,
       "value": "<h5><a href=\"https://github.com/jupyter-server/team-compass\">jupyter-server/team-compass</a></h5>\n<ul>\n<li><a href=\"https://github.com/jupyter-server/team-compass/issues/78\">(#78)</a>: <em>Vote: move <code>pycrdt</code> and <code>pycrdt-websocket</code> to <code>y-crdt</code> organization</em> by <strong><a href=\"https://github.com/davidbrochart\">@davidbrochart</a></strong></li>\n<li><a href=\"https://github.com/jupyter-server/team-compass/issues/73\">(#73)</a>: <em>Meeting Notes 2025</em> by <strong><a href=\"https://github.com/Zsailer\">@Zsailer</a></strong></li>\n<li><a href=\"https://github.com/jupyter-server/team-compass/issues/77\">(#77)</a>: <em>Move <code>pycrdt</code> to <code>y-crdt</code> organization</em> by <strong><a href=\"https://github.com/davidbrochart\">@davidbrochart</a></strong></li>\n<li><a href=\"https://github.com/jupyter-server/team-compass/issues/71\">(#71)</a>: <em>Add metadata service to Jupyter Server</em> by <strong><a href=\"https://github.com/lresende\">@lresende</a></strong></li>\n<li><a href=\"https://github.com/jupyter-server/team-compass/issues/72\">(#72)</a>: <em>Support running kernels in multiple locations (locally or remote) simultaneously.</em> by <strong><a href=\"https://github.com/ojarjur\">@ojarjur</a></strong></li>\n</ul>"
      }
     },
     "85b773a597f645a5bbfc25b108f4faea": {
      "model_module": "@jupyter-widgets/base",
      "model_module_version": "2.0.0",
      "model_name": "LayoutModel",
      "state": {
       "_model_module": "@jupyter-widgets/base",
       "_model_module_version": "2.0.0",
       "_model_name": "LayoutModel",
       "_view_count": null,
       "_view_module": "@jupyter-widgets/base",
       "_view_module_version": "2.0.0",
       "_view_name": "LayoutView",
       "align_content": null,
       "align_items": null,
       "align_self": null,
       "border_bottom": null,
       "border_left": null,
       "border_right": null,
       "border_top": null,
       "bottom": null,
       "display": null,
       "flex": null,
       "flex_flow": null,
       "grid_area": null,
       "grid_auto_columns": null,
       "grid_auto_flow": null,
       "grid_auto_rows": null,
       "grid_column": null,
       "grid_gap": null,
       "grid_row": null,
       "grid_template_areas": null,
       "grid_template_columns": null,
       "grid_template_rows": null,
       "height": null,
       "justify_content": null,
       "justify_items": null,
       "left": null,
       "margin": null,
       "max_height": null,
       "max_width": null,
       "min_height": null,
       "min_width": null,
       "object_fit": null,
       "object_position": null,
       "order": null,
       "overflow": null,
       "padding": null,
       "right": null,
       "top": null,
       "visibility": null,
       "width": null
      }
     },
     "8654e28fac244a1881d14fc9febea0c5": {
      "model_module": "@jupyter-widgets/base",
      "model_module_version": "2.0.0",
      "model_name": "LayoutModel",
      "state": {
       "_model_module": "@jupyter-widgets/base",
       "_model_module_version": "2.0.0",
       "_model_name": "LayoutModel",
       "_view_count": null,
       "_view_module": "@jupyter-widgets/base",
       "_view_module_version": "2.0.0",
       "_view_name": "LayoutView",
       "align_content": null,
       "align_items": null,
       "align_self": null,
       "border_bottom": null,
       "border_left": null,
       "border_right": null,
       "border_top": null,
       "bottom": null,
       "display": null,
       "flex": null,
       "flex_flow": null,
       "grid_area": null,
       "grid_auto_columns": null,
       "grid_auto_flow": null,
       "grid_auto_rows": null,
       "grid_column": null,
       "grid_gap": null,
       "grid_row": null,
       "grid_template_areas": null,
       "grid_template_columns": null,
       "grid_template_rows": null,
       "height": null,
       "justify_content": null,
       "justify_items": null,
       "left": null,
       "margin": null,
       "max_height": null,
       "max_width": null,
       "min_height": null,
       "min_width": null,
       "object_fit": null,
       "object_position": null,
       "order": null,
       "overflow": null,
       "padding": null,
       "right": null,
       "top": null,
       "visibility": null,
       "width": null
      }
     },
     "8972ccece0024e4b85aea905f500ebf0": {
      "model_module": "@jupyter-widgets/base",
      "model_module_version": "2.0.0",
      "model_name": "LayoutModel",
      "state": {
       "_model_module": "@jupyter-widgets/base",
       "_model_module_version": "2.0.0",
       "_model_name": "LayoutModel",
       "_view_count": null,
       "_view_module": "@jupyter-widgets/base",
       "_view_module_version": "2.0.0",
       "_view_name": "LayoutView",
       "align_content": null,
       "align_items": null,
       "align_self": null,
       "border_bottom": null,
       "border_left": null,
       "border_right": null,
       "border_top": null,
       "bottom": null,
       "display": null,
       "flex": null,
       "flex_flow": null,
       "grid_area": null,
       "grid_auto_columns": null,
       "grid_auto_flow": null,
       "grid_auto_rows": null,
       "grid_column": null,
       "grid_gap": null,
       "grid_row": null,
       "grid_template_areas": null,
       "grid_template_columns": null,
       "grid_template_rows": null,
       "height": null,
       "justify_content": null,
       "justify_items": null,
       "left": null,
       "margin": null,
       "max_height": null,
       "max_width": null,
       "min_height": null,
       "min_width": null,
       "object_fit": null,
       "object_position": null,
       "order": null,
       "overflow": null,
       "padding": null,
       "right": null,
       "top": null,
       "visibility": null,
       "width": null
      }
     },
     "8c918ed701134fbb99568d224a760e88": {
      "model_module": "@jupyter-widgets/controls",
      "model_module_version": "2.0.0",
      "model_name": "HTMLStyleModel",
      "state": {
       "_model_module": "@jupyter-widgets/controls",
       "_model_module_version": "2.0.0",
       "_model_name": "HTMLStyleModel",
       "_view_count": null,
       "_view_module": "@jupyter-widgets/base",
       "_view_module_version": "2.0.0",
       "_view_name": "StyleView",
       "background": null,
       "description_width": "",
       "font_size": null,
       "text_color": null
      }
     },
     "8fc5285497bd454485bf8404b173f415": {
      "model_module": "@jupyter-widgets/base",
      "model_module_version": "2.0.0",
      "model_name": "LayoutModel",
      "state": {
       "_model_module": "@jupyter-widgets/base",
       "_model_module_version": "2.0.0",
       "_model_name": "LayoutModel",
       "_view_count": null,
       "_view_module": "@jupyter-widgets/base",
       "_view_module_version": "2.0.0",
       "_view_name": "LayoutView",
       "align_content": null,
       "align_items": null,
       "align_self": null,
       "border_bottom": null,
       "border_left": null,
       "border_right": null,
       "border_top": null,
       "bottom": null,
       "display": null,
       "flex": null,
       "flex_flow": null,
       "grid_area": null,
       "grid_auto_columns": null,
       "grid_auto_flow": null,
       "grid_auto_rows": null,
       "grid_column": null,
       "grid_gap": null,
       "grid_row": null,
       "grid_template_areas": null,
       "grid_template_columns": null,
       "grid_template_rows": null,
       "height": null,
       "justify_content": null,
       "justify_items": null,
       "left": null,
       "margin": null,
       "max_height": null,
       "max_width": null,
       "min_height": null,
       "min_width": null,
       "object_fit": null,
       "object_position": null,
       "order": null,
       "overflow": null,
       "padding": null,
       "right": null,
       "top": null,
       "visibility": null,
       "width": null
      }
     },
     "9419c20d5c1044c886bc625f7e0d55db": {
      "model_module": "@jupyter-widgets/controls",
      "model_module_version": "2.0.0",
      "model_name": "HTMLModel",
      "state": {
       "_dom_classes": [],
       "_model_module": "@jupyter-widgets/controls",
       "_model_module_version": "2.0.0",
       "_model_name": "HTMLModel",
       "_view_count": null,
       "_view_module": "@jupyter-widgets/controls",
       "_view_module_version": "2.0.0",
       "_view_name": "HTMLView",
       "description": "",
       "description_allow_html": false,
       "layout": "IPY_MODEL_a40f36c8cf43403ba6f7a6883abbc1fb",
       "placeholder": "​",
       "style": "IPY_MODEL_e03b2f7ff84e49358af6b647c8e901c2",
       "tabbable": null,
       "tooltip": null,
       "value": "<h5><a href=\"https://github.com/jupyter-server/jupyverse\">jupyter-server/jupyverse</a></h5>\n<ul>\n<li><a href=\"https://github.com/jupyter-server/jupyverse/issues/471\">(#471)</a>: <em>Move jupyverse to Jupyter PyPI organization</em> by <strong><a href=\"https://github.com/Zsailer\">@Zsailer</a></strong></li>\n<li><a href=\"https://github.com/jupyter-server/jupyverse/issues/236\">(#236)</a>: <em>Contents root_dir</em> by <strong><a href=\"https://github.com/davidbrochart\">@davidbrochart</a></strong></li>\n<li><a href=\"https://github.com/jupyter-server/jupyverse/issues/444\">(#444)</a>: <em>Rename mentions to <code>fps-</code>?</em> by <strong><a href=\"https://github.com/jtpio\">@jtpio</a></strong></li>\n</ul>"
      }
     },
     "97556808bc5e42fc890ce62e561b2d23": {
      "model_module": "@jupyter-widgets/base",
      "model_module_version": "2.0.0",
      "model_name": "LayoutModel",
      "state": {
       "_model_module": "@jupyter-widgets/base",
       "_model_module_version": "2.0.0",
       "_model_name": "LayoutModel",
       "_view_count": null,
       "_view_module": "@jupyter-widgets/base",
       "_view_module_version": "2.0.0",
       "_view_name": "LayoutView",
       "align_content": null,
       "align_items": null,
       "align_self": null,
       "border_bottom": null,
       "border_left": null,
       "border_right": null,
       "border_top": null,
       "bottom": null,
       "display": null,
       "flex": null,
       "flex_flow": null,
       "grid_area": null,
       "grid_auto_columns": null,
       "grid_auto_flow": null,
       "grid_auto_rows": null,
       "grid_column": null,
       "grid_gap": null,
       "grid_row": null,
       "grid_template_areas": null,
       "grid_template_columns": null,
       "grid_template_rows": null,
       "height": null,
       "justify_content": null,
       "justify_items": null,
       "left": null,
       "margin": null,
       "max_height": null,
       "max_width": null,
       "min_height": null,
       "min_width": null,
       "object_fit": null,
       "object_position": null,
       "order": null,
       "overflow": null,
       "padding": null,
       "right": null,
       "top": null,
       "visibility": null,
       "width": null
      }
     },
     "9efed70ced524572a97dbd79a75e5cbe": {
      "model_module": "@jupyter-widgets/controls",
      "model_module_version": "2.0.0",
      "model_name": "HTMLModel",
      "state": {
       "_dom_classes": [],
       "_model_module": "@jupyter-widgets/controls",
       "_model_module_version": "2.0.0",
       "_model_name": "HTMLModel",
       "_view_count": null,
       "_view_module": "@jupyter-widgets/controls",
       "_view_module_version": "2.0.0",
       "_view_name": "HTMLView",
       "description": "",
       "description_allow_html": false,
       "layout": "IPY_MODEL_ec5d61f7bbeb4ffdb322fc6194080f56",
       "placeholder": "​",
       "style": "IPY_MODEL_3c57445686514abcbc76b2d63284e1b5",
       "tabbable": null,
       "tooltip": null,
       "value": "<h5><a href=\"https://github.com/jupyter-server/jupyter_releaser\">jupyter-server/jupyter_releaser</a></h5>\n<ul>\n<li><a href=\"https://github.com/jupyter-server/jupyter_releaser/issues/604\">(#604)</a>: <em>Publish Release fails in FPS repo</em> by <strong><a href=\"https://github.com/davidbrochart\">@davidbrochart</a></strong></li>\n<li><a href=\"https://github.com/jupyter-server/jupyter_releaser/issues/603\">(#603)</a>: <em>Supporting publishing to multiple npm registries</em> by <strong><a href=\"https://github.com/martenrichter\">@martenrichter</a></strong></li>\n</ul>"
      }
     },
     "9f1a10c01ad248f09fc95429276f2ef3": {
      "model_module": "@jupyter-widgets/controls",
      "model_module_version": "2.0.0",
      "model_name": "HTMLStyleModel",
      "state": {
       "_model_module": "@jupyter-widgets/controls",
       "_model_module_version": "2.0.0",
       "_model_name": "HTMLStyleModel",
       "_view_count": null,
       "_view_module": "@jupyter-widgets/base",
       "_view_module_version": "2.0.0",
       "_view_name": "StyleView",
       "background": null,
       "description_width": "",
       "font_size": null,
       "text_color": null
      }
     },
     "a0b53d93b5654f039fc52dda8ec4525b": {
      "model_module": "@jupyter-widgets/controls",
      "model_module_version": "2.0.0",
      "model_name": "HTMLStyleModel",
      "state": {
       "_model_module": "@jupyter-widgets/controls",
       "_model_module_version": "2.0.0",
       "_model_name": "HTMLStyleModel",
       "_view_count": null,
       "_view_module": "@jupyter-widgets/base",
       "_view_module_version": "2.0.0",
       "_view_name": "StyleView",
       "background": null,
       "description_width": "",
       "font_size": null,
       "text_color": null
      }
     },
     "a0dd89f6a2bd40a4a81a2b7b037beef8": {
      "model_module": "@jupyter-widgets/controls",
      "model_module_version": "2.0.0",
      "model_name": "HTMLStyleModel",
      "state": {
       "_model_module": "@jupyter-widgets/controls",
       "_model_module_version": "2.0.0",
       "_model_name": "HTMLStyleModel",
       "_view_count": null,
       "_view_module": "@jupyter-widgets/base",
       "_view_module_version": "2.0.0",
       "_view_name": "StyleView",
       "background": null,
       "description_width": "",
       "font_size": null,
       "text_color": null
      }
     },
     "a2ba9b4b12c641a49cf097a2854f5bcc": {
      "model_module": "@jupyter-widgets/base",
      "model_module_version": "2.0.0",
      "model_name": "LayoutModel",
      "state": {
       "_model_module": "@jupyter-widgets/base",
       "_model_module_version": "2.0.0",
       "_model_name": "LayoutModel",
       "_view_count": null,
       "_view_module": "@jupyter-widgets/base",
       "_view_module_version": "2.0.0",
       "_view_name": "LayoutView",
       "align_content": null,
       "align_items": null,
       "align_self": null,
       "border_bottom": null,
       "border_left": null,
       "border_right": null,
       "border_top": null,
       "bottom": null,
       "display": null,
       "flex": null,
       "flex_flow": null,
       "grid_area": null,
       "grid_auto_columns": null,
       "grid_auto_flow": null,
       "grid_auto_rows": null,
       "grid_column": null,
       "grid_gap": null,
       "grid_row": null,
       "grid_template_areas": null,
       "grid_template_columns": null,
       "grid_template_rows": null,
       "height": null,
       "justify_content": null,
       "justify_items": null,
       "left": null,
       "margin": null,
       "max_height": null,
       "max_width": null,
       "min_height": null,
       "min_width": null,
       "object_fit": null,
       "object_position": null,
       "order": null,
       "overflow": null,
       "padding": null,
       "right": null,
       "top": null,
       "visibility": null,
       "width": null
      }
     },
     "a40f36c8cf43403ba6f7a6883abbc1fb": {
      "model_module": "@jupyter-widgets/base",
      "model_module_version": "2.0.0",
      "model_name": "LayoutModel",
      "state": {
       "_model_module": "@jupyter-widgets/base",
       "_model_module_version": "2.0.0",
       "_model_name": "LayoutModel",
       "_view_count": null,
       "_view_module": "@jupyter-widgets/base",
       "_view_module_version": "2.0.0",
       "_view_name": "LayoutView",
       "align_content": null,
       "align_items": null,
       "align_self": null,
       "border_bottom": null,
       "border_left": null,
       "border_right": null,
       "border_top": null,
       "bottom": null,
       "display": null,
       "flex": null,
       "flex_flow": null,
       "grid_area": null,
       "grid_auto_columns": null,
       "grid_auto_flow": null,
       "grid_auto_rows": null,
       "grid_column": null,
       "grid_gap": null,
       "grid_row": null,
       "grid_template_areas": null,
       "grid_template_columns": null,
       "grid_template_rows": null,
       "height": null,
       "justify_content": null,
       "justify_items": null,
       "left": null,
       "margin": null,
       "max_height": null,
       "max_width": null,
       "min_height": null,
       "min_width": null,
       "object_fit": null,
       "object_position": null,
       "order": null,
       "overflow": null,
       "padding": null,
       "right": null,
       "top": null,
       "visibility": null,
       "width": null
      }
     },
     "a8a264da430646bf9ddff7920a8ea7c9": {
      "model_module": "@jupyter-widgets/controls",
      "model_module_version": "2.0.0",
      "model_name": "HTMLModel",
      "state": {
       "_dom_classes": [],
       "_model_module": "@jupyter-widgets/controls",
       "_model_module_version": "2.0.0",
       "_model_name": "HTMLModel",
       "_view_count": null,
       "_view_module": "@jupyter-widgets/controls",
       "_view_module_version": "2.0.0",
       "_view_name": "HTMLView",
       "description": "",
       "description_allow_html": false,
       "layout": "IPY_MODEL_49834d4bb9c94905b7757acb87fee4ad",
       "placeholder": "​",
       "style": "IPY_MODEL_04c3b1c417f5450e8e6ce27a7c241f5c",
       "tabbable": null,
       "tooltip": null,
       "value": "<h4>Closed PRs for repo: <a href=\"https://github.com/jupyter-server/jupyter_server_terminals\">jupyter-server/jupyter_server_terminals</a></h4>\n<h5></h5>\n<ul>\n<li><a href=\"https://github.com/jupyter-server/jupyter_server_terminals/issues/109\">(#109)</a>: <em>allow async authorization</em> by <strong><a href=\"https://github.com/Zsailer\">@Zsailer</a></strong> merged by <strong><a href=\"https://github.com/Zsailer\">@Zsailer</a></strong></li>\n</ul>"
      }
     },
     "ab7570c8df7b4d2cb4e9cdc97e42d0f9": {
      "model_module": "@jupyter-widgets/controls",
      "model_module_version": "2.0.0",
      "model_name": "HTMLModel",
      "state": {
       "_dom_classes": [],
       "_model_module": "@jupyter-widgets/controls",
       "_model_module_version": "2.0.0",
       "_model_name": "HTMLModel",
       "_view_count": null,
       "_view_module": "@jupyter-widgets/controls",
       "_view_module_version": "2.0.0",
       "_view_name": "HTMLView",
       "description": "",
       "description_allow_html": false,
       "layout": "IPY_MODEL_b6ae7528789a469b8ebceae70f7edbb2",
       "placeholder": "​",
       "style": "IPY_MODEL_a0dd89f6a2bd40a4a81a2b7b037beef8",
       "tabbable": null,
       "tooltip": null,
       "value": "<h5><a href=\"https://github.com/jupyter-server/gateway_provisioners\">jupyter-server/gateway_provisioners</a></h5>\n<ul>\n<li><a href=\"https://github.com/jupyter-server/gateway_provisioners/issues/139\">(#139)</a>: <em>Bug in the YarnProvisioner _query_app_by_name</em> by <strong><a href=\"https://github.com/abppriya\">@abppriya</a></strong></li>\n</ul>"
      }
     },
     "b04338ebd01b4514bbb804f1e191ce08": {
      "model_module": "@jupyter-widgets/controls",
      "model_module_version": "2.0.0",
      "model_name": "HTMLModel",
      "state": {
       "_dom_classes": [],
       "_model_module": "@jupyter-widgets/controls",
       "_model_module_version": "2.0.0",
       "_model_name": "HTMLModel",
       "_view_count": null,
       "_view_module": "@jupyter-widgets/controls",
       "_view_module_version": "2.0.0",
       "_view_name": "HTMLView",
       "description": "",
       "description_allow_html": false,
       "layout": "IPY_MODEL_5f31cbb0d31d4cba866c1be6adc5600c",
       "placeholder": "​",
       "style": "IPY_MODEL_d433157e8264444995608a43265deb08",
       "tabbable": null,
       "tooltip": null,
       "value": "<h5><a href=\"https://github.com/jupyter-server/jupyverse\">jupyter-server/jupyverse</a></h5>\n<ul>\n<li><a href=\"https://github.com/jupyter-server/jupyverse/issues/471\">(#471)</a>: <em>Move jupyverse to Jupyter PyPI organization</em> by <strong><a href=\"https://github.com/Zsailer\">@Zsailer</a></strong></li>\n<li><a href=\"https://github.com/jupyter-server/jupyverse/issues/236\">(#236)</a>: <em>Contents root_dir</em> by <strong><a href=\"https://github.com/davidbrochart\">@davidbrochart</a></strong></li>\n<li><a href=\"https://github.com/jupyter-server/jupyverse/issues/444\">(#444)</a>: <em>Rename mentions to <code>fps-</code>?</em> by <strong><a href=\"https://github.com/jtpio\">@jtpio</a></strong></li>\n</ul>"
      }
     },
     "b128929f20ef4306b9660d1970c05d10": {
      "model_module": "@jupyter-widgets/controls",
      "model_module_version": "2.0.0",
      "model_name": "HTMLModel",
      "state": {
       "_dom_classes": [],
       "_model_module": "@jupyter-widgets/controls",
       "_model_module_version": "2.0.0",
       "_model_name": "HTMLModel",
       "_view_count": null,
       "_view_module": "@jupyter-widgets/controls",
       "_view_module_version": "2.0.0",
       "_view_name": "HTMLView",
       "description": "",
       "description_allow_html": false,
       "layout": "IPY_MODEL_67e6bd0d60e14dc5bb68a0b92da26659",
       "placeholder": "​",
       "style": "IPY_MODEL_fbc7b43b17af46899029bb41f4c3e2fe",
       "tabbable": null,
       "tooltip": null,
       "value": "<h4>Closed PRs for repo: <a href=\"https://github.com/jupyter-server/fps\">jupyter-server/fps</a></h4>\n<h5></h5>\n<ul>\n<li><a href=\"https://github.com/jupyter-server/fps/issues/95\">(#95)</a>: <em>[pre-commit.ci] pre-commit autoupdate</em> by <strong><a href=\"https://github.com/pre-commit-ci[bot]\">@pre-commit-ci[bot]</a></strong> merged by <strong><a href=\"https://github.com/davidbrochart\">@davidbrochart</a></strong></li>\n<li><a href=\"https://github.com/jupyter-server/fps/issues/101\">(#101)</a>: <em>Use TaskGroup from anyioutils</em> by <strong><a href=\"https://github.com/davidbrochart\">@davidbrochart</a></strong> merged by <strong><a href=\"https://github.com/davidbrochart\">@davidbrochart</a></strong></li>\n<li><a href=\"https://github.com/jupyter-server/fps/issues/102\">(#102)</a>: <em>Fix CLI</em> by <strong><a href=\"https://github.com/davidbrochart\">@davidbrochart</a></strong> merged by <strong><a href=\"https://github.com/davidbrochart\">@davidbrochart</a></strong></li>\n<li><a href=\"https://github.com/jupyter-server/fps/issues/104\">(#104)</a>: <em>Wait for server to be started</em> by <strong><a href=\"https://github.com/davidbrochart\">@davidbrochart</a></strong> merged by <strong><a href=\"https://github.com/davidbrochart\">@davidbrochart</a></strong></li>\n<li><a href=\"https://github.com/jupyter-server/fps/issues/105\">(#105)</a>: <em>Stop application when background tasks fail</em> by <strong><a href=\"https://github.com/davidbrochart\">@davidbrochart</a></strong> merged by <strong><a href=\"https://github.com/davidbrochart\">@davidbrochart</a></strong></li>\n<li><a href=\"https://github.com/jupyter-server/fps/issues/106\">(#106)</a>: <em>Bump anyioutils v0.7.0</em> by <strong><a href=\"https://github.com/davidbrochart\">@davidbrochart</a></strong> merged by <strong><a href=\"https://github.com/davidbrochart\">@davidbrochart</a></strong></li>\n<li><a href=\"https://github.com/jupyter-server/fps/issues/107\">(#107)</a>: <em>Add --show-config CLI option</em> by <strong><a href=\"https://github.com/davidbrochart\">@davidbrochart</a></strong> merged by <strong><a href=\"https://github.com/davidbrochart\">@davidbrochart</a></strong></li>\n<li><a href=\"https://github.com/jupyter-server/fps/issues/108\">(#108)</a>: <em>Add --help-all CLI option</em> by <strong><a href=\"https://github.com/davidbrochart\">@davidbrochart</a></strong> merged by <strong><a href=\"https://github.com/davidbrochart\">@davidbrochart</a></strong></li>\n<li><a href=\"https://github.com/jupyter-server/fps/issues/109\">(#109)</a>: <em>Support running on Trio</em> by <strong><a href=\"https://github.com/davidbrochart\">@davidbrochart</a></strong> merged by <strong><a href=\"https://github.com/davidbrochart\">@davidbrochart</a></strong></li>\n<li><a href=\"https://github.com/jupyter-server/fps/issues/110\">(#110)</a>: <em>Fix KeyboardInterrupt handling on Trio</em> by <strong><a href=\"https://github.com/davidbrochart\">@davidbrochart</a></strong> merged by <strong><a href=\"https://github.com/davidbrochart\">@davidbrochart</a></strong></li>\n<li><a href=\"https://github.com/jupyter-server/fps/issues/111\">(#111)</a>: <em>Require anycorn &gt;=0.18.1</em> by <strong><a href=\"https://github.com/davidbrochart\">@davidbrochart</a></strong> merged by <strong><a href=\"https://github.com/davidbrochart\">@davidbrochart</a></strong></li>\n<li><a href=\"https://github.com/jupyter-server/fps/issues/113\">(#113)</a>: <em>missing default values in cli.main</em> by <strong><a href=\"https://github.com/minrk\">@minrk</a></strong> merged by <strong><a href=\"https://github.com/davidbrochart\">@davidbrochart</a></strong></li>\n<li><a href=\"https://github.com/jupyter-server/fps/issues/114\">(#114)</a>: <em>Add .gitignore</em> by <strong><a href=\"https://github.com/davidbrochart\">@davidbrochart</a></strong> merged by <strong><a href=\"https://github.com/davidbrochart\">@davidbrochart</a></strong></li>\n<li><a href=\"https://github.com/jupyter-server/fps/issues/115\">(#115)</a>: <em>Add concurrency test for tasks</em> by <strong><a href=\"https://github.com/davidbrochart\">@davidbrochart</a></strong> merged by <strong><a href=\"https://github.com/davidbrochart\">@davidbrochart</a></strong></li>\n<li><a href=\"https://github.com/jupyter-server/fps/issues/116\">(#116)</a>: <em>Add Context</em> by <strong><a href=\"https://github.com/davidbrochart\">@davidbrochart</a></strong> merged by <strong><a href=\"https://github.com/davidbrochart\">@davidbrochart</a></strong></li>\n<li><a href=\"https://github.com/jupyter-server/fps/issues/117\">(#117)</a>: <em>Add optional <code>teardown_callback</code> parameter to <code>Context.put()</code></em> by <strong><a href=\"https://github.com/davidbrochart\">@davidbrochart</a></strong> merged by <strong><a href=\"https://github.com/davidbrochart\">@davidbrochart</a></strong></li>\n<li><a href=\"https://github.com/jupyter-server/fps/issues/118\">(#118)</a>: <em>Convert repo to use releaser from repo</em> by <strong><a href=\"https://github.com/davidbrochart\">@davidbrochart</a></strong> merged by <strong><a href=\"https://github.com/Zsailer\">@Zsailer</a></strong></li>\n<li><a href=\"https://github.com/jupyter-server/fps/issues/119\">(#119)</a>: <em>Add context documentation</em> by <strong><a href=\"https://github.com/davidbrochart\">@davidbrochart</a></strong> merged by <strong><a href=\"https://github.com/davidbrochart\">@davidbrochart</a></strong></li>\n<li><a href=\"https://github.com/jupyter-server/fps/issues/120\">(#120)</a>: <em>Update to latest Jupyter Release Actions</em> by <strong><a href=\"https://github.com/Zsailer\">@Zsailer</a></strong> merged by <strong><a href=\"https://github.com/davidbrochart\">@davidbrochart</a></strong></li>\n<li><a href=\"https://github.com/jupyter-server/fps/issues/121\">(#121)</a>: <em>Revert \"Update to latest Jupyter Release Actions\"</em> by <strong><a href=\"https://github.com/Zsailer\">@Zsailer</a></strong> merged by <strong><a href=\"https://github.com/Zsailer\">@Zsailer</a></strong></li>\n<li><a href=\"https://github.com/jupyter-server/fps/issues/122\">(#122)</a>: <em>Export SharedValue</em> by <strong><a href=\"https://github.com/davidbrochart\">@davidbrochart</a></strong> merged by <strong><a href=\"https://github.com/davidbrochart\">@davidbrochart</a></strong></li>\n<li><a href=\"https://github.com/jupyter-server/fps/issues/123\">(#123)</a>: <em>Add Signal</em> by <strong><a href=\"https://github.com/davidbrochart\">@davidbrochart</a></strong> merged by <strong><a href=\"https://github.com/davidbrochart\">@davidbrochart</a></strong></li>\n<li><a href=\"https://github.com/jupyter-server/fps/issues/124\">(#124)</a>: <em>Add Signal iterator</em> by <strong><a href=\"https://github.com/davidbrochart\">@davidbrochart</a></strong> merged by <strong><a href=\"https://github.com/davidbrochart\">@davidbrochart</a></strong></li>\n<li><a href=\"https://github.com/jupyter-server/fps/issues/125\">(#125)</a>: <em>Add Signal documentation</em> by <strong><a href=\"https://github.com/davidbrochart\">@davidbrochart</a></strong> merged by <strong><a href=\"https://github.com/davidbrochart\">@davidbrochart</a></strong></li>\n<li><a href=\"https://github.com/jupyter-server/fps/issues/126\">(#126)</a>: <em>Rework context and shared value, add documentation</em> by <strong><a href=\"https://github.com/davidbrochart\">@davidbrochart</a></strong> merged by <strong><a href=\"https://github.com/davidbrochart\">@davidbrochart</a></strong></li>\n<li><a href=\"https://github.com/jupyter-server/fps/issues/127\">(#127)</a>: <em>Remove duplicated code</em> by <strong><a href=\"https://github.com/davidbrochart\">@davidbrochart</a></strong> merged by <strong><a href=\"https://github.com/davidbrochart\">@davidbrochart</a></strong></li>\n<li><a href=\"https://github.com/jupyter-server/fps/issues/128\">(#128)</a>: <em>Use dependency groups for <code>test</code> and <code>docs</code></em> by <strong><a href=\"https://github.com/davidbrochart\">@davidbrochart</a></strong> merged by <strong><a href=\"https://github.com/davidbrochart\">@davidbrochart</a></strong></li>\n<li><a href=\"https://github.com/jupyter-server/fps/issues/129\">(#129)</a>: <em>Add <code>Module</code> API documentation</em> by <strong><a href=\"https://github.com/davidbrochart\">@davidbrochart</a></strong> merged by <strong><a href=\"https://github.com/davidbrochart\">@davidbrochart</a></strong></li>\n</ul>"
      }
     },
     "b6ae7528789a469b8ebceae70f7edbb2": {
      "model_module": "@jupyter-widgets/base",
      "model_module_version": "2.0.0",
      "model_name": "LayoutModel",
      "state": {
       "_model_module": "@jupyter-widgets/base",
       "_model_module_version": "2.0.0",
       "_model_name": "LayoutModel",
       "_view_count": null,
       "_view_module": "@jupyter-widgets/base",
       "_view_module_version": "2.0.0",
       "_view_name": "LayoutView",
       "align_content": null,
       "align_items": null,
       "align_self": null,
       "border_bottom": null,
       "border_left": null,
       "border_right": null,
       "border_top": null,
       "bottom": null,
       "display": null,
       "flex": null,
       "flex_flow": null,
       "grid_area": null,
       "grid_auto_columns": null,
       "grid_auto_flow": null,
       "grid_auto_rows": null,
       "grid_column": null,
       "grid_gap": null,
       "grid_row": null,
       "grid_template_areas": null,
       "grid_template_columns": null,
       "grid_template_rows": null,
       "height": null,
       "justify_content": null,
       "justify_items": null,
       "left": null,
       "margin": null,
       "max_height": null,
       "max_width": null,
       "min_height": null,
       "min_width": null,
       "object_fit": null,
       "object_position": null,
       "order": null,
       "overflow": null,
       "padding": null,
       "right": null,
       "top": null,
       "visibility": null,
       "width": null
      }
     },
     "b8d346cb97eb46c4adfa939521d9507e": {
      "model_module": "@jupyter-widgets/controls",
      "model_module_version": "2.0.0",
      "model_name": "HTMLModel",
      "state": {
       "_dom_classes": [],
       "_model_module": "@jupyter-widgets/controls",
       "_model_module_version": "2.0.0",
       "_model_name": "HTMLModel",
       "_view_count": null,
       "_view_module": "@jupyter-widgets/controls",
       "_view_module_version": "2.0.0",
       "_view_name": "HTMLView",
       "description": "",
       "description_allow_html": false,
       "layout": "IPY_MODEL_5b3786ceb83f4ad19638a405f0c2510d",
       "placeholder": "​",
       "style": "IPY_MODEL_12ad0878a34c415eb1fe99837bb12b4a",
       "tabbable": null,
       "tooltip": null,
       "value": "<h5><a href=\"https://github.com/jupyter-server/enterprise_gateway\">jupyter-server/enterprise_gateway</a></h5>\n<ul>\n<li><a href=\"https://github.com/jupyter-server/enterprise_gateway/issues/1392\">(#1392)</a>: _Custom Spark 3.5.3 Kernel _ by <strong><a href=\"https://github.com/fatihmete\">@fatihmete</a></strong></li>\n<li><a href=\"https://github.com/jupyter-server/enterprise_gateway/issues/1404\">(#1404)</a>: <em>Setting up Jupyterhub to work with Enterprise Gateway</em> by <strong><a href=\"https://github.com/demardefrozen10\">@demardefrozen10</a></strong></li>\n<li><a href=\"https://github.com/jupyter-server/enterprise_gateway/issues/1359\">(#1359)</a>: <em>KIP cannot use ImagePullSecret when using containerd</em> by <strong><a href=\"https://github.com/Buchhold\">@Buchhold</a></strong></li>\n<li><a href=\"https://github.com/jupyter-server/enterprise_gateway/issues/1382\">(#1382)</a>: <em>Error: module 'kubernetes.client' has no attribute 'V1Subject'</em> by <strong><a href=\"https://github.com/fm2022aa\">@fm2022aa</a></strong></li>\n<li><a href=\"https://github.com/jupyter-server/enterprise_gateway/issues/1402\">(#1402)</a>: <em>Fix Infinite Loop in WebSocket Connection Message Handling</em> by <strong><a href=\"https://github.com/zdhdsx\">@zdhdsx</a></strong></li>\n</ul>"
      }
     },
     "b920792303734138a7b6e67442e452bf": {
      "model_module": "@jupyter-widgets/base",
      "model_module_version": "2.0.0",
      "model_name": "LayoutModel",
      "state": {
       "_model_module": "@jupyter-widgets/base",
       "_model_module_version": "2.0.0",
       "_model_name": "LayoutModel",
       "_view_count": null,
       "_view_module": "@jupyter-widgets/base",
       "_view_module_version": "2.0.0",
       "_view_name": "LayoutView",
       "align_content": null,
       "align_items": null,
       "align_self": null,
       "border_bottom": null,
       "border_left": null,
       "border_right": null,
       "border_top": null,
       "bottom": null,
       "display": null,
       "flex": null,
       "flex_flow": null,
       "grid_area": null,
       "grid_auto_columns": null,
       "grid_auto_flow": null,
       "grid_auto_rows": null,
       "grid_column": null,
       "grid_gap": null,
       "grid_row": null,
       "grid_template_areas": null,
       "grid_template_columns": null,
       "grid_template_rows": null,
       "height": null,
       "justify_content": null,
       "justify_items": null,
       "left": null,
       "margin": null,
       "max_height": null,
       "max_width": null,
       "min_height": null,
       "min_width": null,
       "object_fit": null,
       "object_position": null,
       "order": null,
       "overflow": null,
       "padding": null,
       "right": null,
       "top": null,
       "visibility": null,
       "width": null
      }
     },
     "bf4c3d321b9846c993df938d59c96b61": {
      "model_module": "@jupyter-widgets/base",
      "model_module_version": "2.0.0",
      "model_name": "LayoutModel",
      "state": {
       "_model_module": "@jupyter-widgets/base",
       "_model_module_version": "2.0.0",
       "_model_name": "LayoutModel",
       "_view_count": null,
       "_view_module": "@jupyter-widgets/base",
       "_view_module_version": "2.0.0",
       "_view_name": "LayoutView",
       "align_content": null,
       "align_items": null,
       "align_self": null,
       "border_bottom": null,
       "border_left": null,
       "border_right": null,
       "border_top": null,
       "bottom": null,
       "display": null,
       "flex": null,
       "flex_flow": null,
       "grid_area": null,
       "grid_auto_columns": null,
       "grid_auto_flow": null,
       "grid_auto_rows": null,
       "grid_column": null,
       "grid_gap": null,
       "grid_row": null,
       "grid_template_areas": null,
       "grid_template_columns": null,
       "grid_template_rows": null,
       "height": null,
       "justify_content": null,
       "justify_items": null,
       "left": null,
       "margin": null,
       "max_height": null,
       "max_width": null,
       "min_height": null,
       "min_width": null,
       "object_fit": null,
       "object_position": null,
       "order": null,
       "overflow": null,
       "padding": null,
       "right": null,
       "top": null,
       "visibility": null,
       "width": null
      }
     },
     "c4997cc226f24ef6aff202c1294ef239": {
      "model_module": "@jupyter-widgets/controls",
      "model_module_version": "2.0.0",
      "model_name": "HTMLModel",
      "state": {
       "_dom_classes": [],
       "_model_module": "@jupyter-widgets/controls",
       "_model_module_version": "2.0.0",
       "_model_name": "HTMLModel",
       "_view_count": null,
       "_view_module": "@jupyter-widgets/controls",
       "_view_module_version": "2.0.0",
       "_view_name": "HTMLView",
       "description": "",
       "description_allow_html": false,
       "layout": "IPY_MODEL_b920792303734138a7b6e67442e452bf",
       "placeholder": "​",
       "style": "IPY_MODEL_9f1a10c01ad248f09fc95429276f2ef3",
       "tabbable": null,
       "tooltip": null,
       "value": "<h4>Closed PRs for repo: <a href=\"https://github.com/jupyter-server/jupyter_ydoc\">jupyter-server/jupyter_ydoc</a></h4>\n<h5></h5>\n<ul>\n<li><a href=\"https://github.com/jupyter-server/jupyter_ydoc/issues/311\">(#311)</a>: <em>[pre-commit.ci] pre-commit autoupdate</em> by <strong><a href=\"https://github.com/pre-commit-ci[bot]\">@pre-commit-ci[bot]</a></strong> merged by <strong><a href=\"https://github.com/davidbrochart\">@davidbrochart</a></strong></li>\n<li><a href=\"https://github.com/jupyter-server/jupyter_ydoc/issues/312\">(#312)</a>: <em>Fix including Typescript source in package</em> by <strong><a href=\"https://github.com/fcollonval\">@fcollonval</a></strong> merged by <strong><a href=\"https://github.com/fcollonval\">@fcollonval</a></strong></li>\n<li><a href=\"https://github.com/jupyter-server/jupyter_ydoc/issues/313\">(#313)</a>: <em>[pre-commit.ci] pre-commit autoupdate</em> by <strong><a href=\"https://github.com/pre-commit-ci[bot]\">@pre-commit-ci[bot]</a></strong> merged by <strong><a href=\"https://github.com/davidbrochart\">@davidbrochart</a></strong></li>\n<li><a href=\"https://github.com/jupyter-server/jupyter_ydoc/issues/314\">(#314)</a>: <em>[pre-commit.ci] pre-commit autoupdate</em> by <strong><a href=\"https://github.com/pre-commit-ci[bot]\">@pre-commit-ci[bot]</a></strong> merged by <strong><a href=\"https://github.com/davidbrochart\">@davidbrochart</a></strong></li>\n<li><a href=\"https://github.com/jupyter-server/jupyter_ydoc/issues/315\">(#315)</a>: <em>[pre-commit.ci] pre-commit autoupdate</em> by <strong><a href=\"https://github.com/pre-commit-ci[bot]\">@pre-commit-ci[bot]</a></strong> merged by <strong><a href=\"https://github.com/davidbrochart\">@davidbrochart</a></strong></li>\n<li><a href=\"https://github.com/jupyter-server/jupyter_ydoc/issues/316\">(#316)</a>: <em>[pre-commit.ci] pre-commit autoupdate</em> by <strong><a href=\"https://github.com/pre-commit-ci[bot]\">@pre-commit-ci[bot]</a></strong> merged by <strong><a href=\"https://github.com/davidbrochart\">@davidbrochart</a></strong></li>\n<li><a href=\"https://github.com/jupyter-server/jupyter_ydoc/issues/317\">(#317)</a>: <em>[pre-commit.ci] pre-commit autoupdate</em> by <strong><a href=\"https://github.com/pre-commit-ci[bot]\">@pre-commit-ci[bot]</a></strong> merged by <strong><a href=\"https://github.com/davidbrochart\">@davidbrochart</a></strong></li>\n<li><a href=\"https://github.com/jupyter-server/jupyter_ydoc/issues/319\">(#319)</a>: <em>[pre-commit.ci] pre-commit autoupdate</em> by <strong><a href=\"https://github.com/pre-commit-ci[bot]\">@pre-commit-ci[bot]</a></strong> merged by <strong><a href=\"https://github.com/davidbrochart\">@davidbrochart</a></strong></li>\n<li><a href=\"https://github.com/jupyter-server/jupyter_ydoc/issues/320\">(#320)</a>: <em>[pre-commit.ci] pre-commit autoupdate</em> by <strong><a href=\"https://github.com/pre-commit-ci[bot]\">@pre-commit-ci[bot]</a></strong> merged by <strong><a href=\"https://github.com/davidbrochart\">@davidbrochart</a></strong></li>\n<li><a href=\"https://github.com/jupyter-server/jupyter_ydoc/issues/321\">(#321)</a>: <em>Set <code>undoManager</code> in constructor for cells in notebook</em> by <strong><a href=\"https://github.com/krassowski\">@krassowski</a></strong> merged by <strong><a href=\"https://github.com/krassowski\">@krassowski</a></strong></li>\n<li><a href=\"https://github.com/jupyter-server/jupyter_ydoc/issues/322\">(#322)</a>: <em>[pre-commit.ci] pre-commit autoupdate</em> by <strong><a href=\"https://github.com/pre-commit-ci[bot]\">@pre-commit-ci[bot]</a></strong> merged by <strong><a href=\"https://github.com/davidbrochart\">@davidbrochart</a></strong></li>\n<li><a href=\"https://github.com/jupyter-server/jupyter_ydoc/issues/323\">(#323)</a>: <em>[pre-commit.ci] pre-commit autoupdate</em> by <strong><a href=\"https://github.com/pre-commit-ci[bot]\">@pre-commit-ci[bot]</a></strong> merged by <strong><a href=\"https://github.com/davidbrochart\">@davidbrochart</a></strong></li>\n<li><a href=\"https://github.com/jupyter-server/jupyter_ydoc/issues/324\">(#324)</a>: <em>[pre-commit.ci] pre-commit autoupdate</em> by <strong><a href=\"https://github.com/pre-commit-ci[bot]\">@pre-commit-ci[bot]</a></strong> merged by <strong><a href=\"https://github.com/davidbrochart\">@davidbrochart</a></strong></li>\n<li><a href=\"https://github.com/jupyter-server/jupyter_ydoc/issues/325\">(#325)</a>: <em>Bump <code>ip</code> from 2.0.0 to 2.0.1</em> by <strong><a href=\"https://github.com/dlqqq\">@dlqqq</a></strong> merged by <strong><a href=\"https://github.com/davidbrochart\">@davidbrochart</a></strong></li>\n</ul>"
      }
     },
     "c4c8cb57942d43f48180ced2612e6c10": {
      "model_module": "@jupyter-widgets/base",
      "model_module_version": "2.0.0",
      "model_name": "LayoutModel",
      "state": {
       "_model_module": "@jupyter-widgets/base",
       "_model_module_version": "2.0.0",
       "_model_name": "LayoutModel",
       "_view_count": null,
       "_view_module": "@jupyter-widgets/base",
       "_view_module_version": "2.0.0",
       "_view_name": "LayoutView",
       "align_content": null,
       "align_items": null,
       "align_self": null,
       "border_bottom": null,
       "border_left": null,
       "border_right": null,
       "border_top": null,
       "bottom": null,
       "display": null,
       "flex": null,
       "flex_flow": null,
       "grid_area": null,
       "grid_auto_columns": null,
       "grid_auto_flow": null,
       "grid_auto_rows": null,
       "grid_column": null,
       "grid_gap": null,
       "grid_row": null,
       "grid_template_areas": null,
       "grid_template_columns": null,
       "grid_template_rows": null,
       "height": null,
       "justify_content": null,
       "justify_items": null,
       "left": null,
       "margin": null,
       "max_height": null,
       "max_width": null,
       "min_height": null,
       "min_width": null,
       "object_fit": null,
       "object_position": null,
       "order": null,
       "overflow": null,
       "padding": null,
       "right": null,
       "top": null,
       "visibility": null,
       "width": null
      }
     },
     "d2f184817f2a4240a0e06de68d0d3576": {
      "model_module": "@jupyter-widgets/controls",
      "model_module_version": "2.0.0",
      "model_name": "HTMLModel",
      "state": {
       "_dom_classes": [],
       "_model_module": "@jupyter-widgets/controls",
       "_model_module_version": "2.0.0",
       "_model_name": "HTMLModel",
       "_view_count": null,
       "_view_module": "@jupyter-widgets/controls",
       "_view_module_version": "2.0.0",
       "_view_name": "HTMLView",
       "description": "",
       "description_allow_html": false,
       "layout": "IPY_MODEL_a2ba9b4b12c641a49cf097a2854f5bcc",
       "placeholder": "​",
       "style": "IPY_MODEL_e774501897fc4a5f8deabd046345604e",
       "tabbable": null,
       "tooltip": null,
       "value": "<h5><a href=\"https://github.com/jupyter-server/gateway_provisioners\">jupyter-server/gateway_provisioners</a></h5>\n<ul>\n<li><a href=\"https://github.com/jupyter-server/gateway_provisioners/issues/139\">(#139)</a>: <em>Bug in the YarnProvisioner _query_app_by_name</em> by <strong><a href=\"https://github.com/abppriya\">@abppriya</a></strong></li>\n</ul>"
      }
     },
     "d433157e8264444995608a43265deb08": {
      "model_module": "@jupyter-widgets/controls",
      "model_module_version": "2.0.0",
      "model_name": "HTMLStyleModel",
      "state": {
       "_model_module": "@jupyter-widgets/controls",
       "_model_module_version": "2.0.0",
       "_model_name": "HTMLStyleModel",
       "_view_count": null,
       "_view_module": "@jupyter-widgets/base",
       "_view_module_version": "2.0.0",
       "_view_name": "StyleView",
       "background": null,
       "description_width": "",
       "font_size": null,
       "text_color": null
      }
     },
     "d7ac4a910af447bfa2ed7cddadd20999": {
      "model_module": "@jupyter-widgets/controls",
      "model_module_version": "2.0.0",
      "model_name": "HTMLModel",
      "state": {
       "_dom_classes": [],
       "_model_module": "@jupyter-widgets/controls",
       "_model_module_version": "2.0.0",
       "_model_name": "HTMLModel",
       "_view_count": null,
       "_view_module": "@jupyter-widgets/controls",
       "_view_module_version": "2.0.0",
       "_view_name": "HTMLView",
       "description": "",
       "description_allow_html": false,
       "layout": "IPY_MODEL_1b4586c2bb714bfcb2b54ec55deb7404",
       "placeholder": "​",
       "style": "IPY_MODEL_5300e619390342968672e5af14c07d7c",
       "tabbable": null,
       "tooltip": null,
       "value": "<h5><a href=\"https://github.com/jupyter-server/jupyter-resource-usage\">jupyter-server/jupyter-resource-usage</a></h5>\n<ul>\n<li><a href=\"https://github.com/jupyter-server/jupyter-resource-usage/issues/237\">(#237)</a>: <em>update yarn.lock required: jupyterlab/coreutils =&gt; no exported member 'ResolvedRelativeTimeFormatOptions'</em> by <strong><a href=\"https://github.com/jhgoebbert\">@jhgoebbert</a></strong></li>\n<li><a href=\"https://github.com/jupyter-server/jupyter-resource-usage/issues/245\">(#245)</a>: <em>Enabling track_cpu_percent causes unacceptable input delay in terminal</em> by <strong><a href=\"https://github.com/ctcjab\">@ctcjab</a></strong></li>\n<li><a href=\"https://github.com/jupyter-server/jupyter-resource-usage/issues/242\">(#242)</a>: <em>Better <code>opt-in</code> than <code>opt-out</code> for <code>enable_prometheus_metrics</code></em> by <strong><a href=\"https://github.com/jhgoebbert\">@jhgoebbert</a></strong></li>\n<li><a href=\"https://github.com/jupyter-server/jupyter-resource-usage/issues/123\">(#123)</a>: <em>Prometheus metrics blocks tornado main thread</em> by <strong><a href=\"https://github.com/dleen\">@dleen</a></strong></li>\n<li><a href=\"https://github.com/jupyter-server/jupyter-resource-usage/issues/244\">(#244)</a>: <em>How to configure \"Enable resource usage indicators\" to true from <code>c = get_config()</code></em> by <strong><a href=\"https://github.com/sgrenf95\">@sgrenf95</a></strong></li>\n</ul>"
      }
     },
     "d8cb14f2784149a68bcefe5ee44ee513": {
      "model_module": "@jupyter-widgets/controls",
      "model_module_version": "2.0.0",
      "model_name": "HTMLStyleModel",
      "state": {
       "_model_module": "@jupyter-widgets/controls",
       "_model_module_version": "2.0.0",
       "_model_name": "HTMLStyleModel",
       "_view_count": null,
       "_view_module": "@jupyter-widgets/base",
       "_view_module_version": "2.0.0",
       "_view_name": "StyleView",
       "background": null,
       "description_width": "",
       "font_size": null,
       "text_color": null
      }
     },
     "d9b9d50dffbc4472b486d853654453ad": {
      "model_module": "@jupyter-widgets/controls",
      "model_module_version": "2.0.0",
      "model_name": "HTMLStyleModel",
      "state": {
       "_model_module": "@jupyter-widgets/controls",
       "_model_module_version": "2.0.0",
       "_model_name": "HTMLStyleModel",
       "_view_count": null,
       "_view_module": "@jupyter-widgets/base",
       "_view_module_version": "2.0.0",
       "_view_name": "StyleView",
       "background": null,
       "description_width": "",
       "font_size": null,
       "text_color": null
      }
     },
     "df841f0c9bd44bd0a7e99401f3d2fe2c": {
      "model_module": "@jupyter-widgets/base",
      "model_module_version": "2.0.0",
      "model_name": "LayoutModel",
      "state": {
       "_model_module": "@jupyter-widgets/base",
       "_model_module_version": "2.0.0",
       "_model_name": "LayoutModel",
       "_view_count": null,
       "_view_module": "@jupyter-widgets/base",
       "_view_module_version": "2.0.0",
       "_view_name": "LayoutView",
       "align_content": null,
       "align_items": null,
       "align_self": null,
       "border_bottom": null,
       "border_left": null,
       "border_right": null,
       "border_top": null,
       "bottom": null,
       "display": null,
       "flex": null,
       "flex_flow": null,
       "grid_area": null,
       "grid_auto_columns": null,
       "grid_auto_flow": null,
       "grid_auto_rows": null,
       "grid_column": null,
       "grid_gap": null,
       "grid_row": null,
       "grid_template_areas": null,
       "grid_template_columns": null,
       "grid_template_rows": null,
       "height": null,
       "justify_content": null,
       "justify_items": null,
       "left": null,
       "margin": null,
       "max_height": null,
       "max_width": null,
       "min_height": null,
       "min_width": null,
       "object_fit": null,
       "object_position": null,
       "order": null,
       "overflow": null,
       "padding": null,
       "right": null,
       "top": null,
       "visibility": null,
       "width": null
      }
     },
     "e03b2f7ff84e49358af6b647c8e901c2": {
      "model_module": "@jupyter-widgets/controls",
      "model_module_version": "2.0.0",
      "model_name": "HTMLStyleModel",
      "state": {
       "_model_module": "@jupyter-widgets/controls",
       "_model_module_version": "2.0.0",
       "_model_name": "HTMLStyleModel",
       "_view_count": null,
       "_view_module": "@jupyter-widgets/base",
       "_view_module_version": "2.0.0",
       "_view_name": "StyleView",
       "background": null,
       "description_width": "",
       "font_size": null,
       "text_color": null
      }
     },
     "e1a8ea9e2d0c4ea7a7806e5031dcc8d1": {
      "model_module": "@jupyter-widgets/controls",
      "model_module_version": "2.0.0",
      "model_name": "HTMLModel",
      "state": {
       "_dom_classes": [],
       "_model_module": "@jupyter-widgets/controls",
       "_model_module_version": "2.0.0",
       "_model_name": "HTMLModel",
       "_view_count": null,
       "_view_module": "@jupyter-widgets/controls",
       "_view_module_version": "2.0.0",
       "_view_name": "HTMLView",
       "description": "",
       "description_allow_html": false,
       "layout": "IPY_MODEL_8fc5285497bd454485bf8404b173f415",
       "placeholder": "​",
       "style": "IPY_MODEL_36df8c553db84f64bd031a698bfac8dd",
       "tabbable": null,
       "tooltip": null,
       "value": "<h5><a href=\"https://github.com/jupyter-server/jupyter_releaser\">jupyter-server/jupyter_releaser</a></h5>\n<ul>\n<li><a href=\"https://github.com/jupyter-server/jupyter_releaser/issues/604\">(#604)</a>: <em>Publish Release fails in FPS repo</em> by <strong><a href=\"https://github.com/davidbrochart\">@davidbrochart</a></strong></li>\n<li><a href=\"https://github.com/jupyter-server/jupyter_releaser/issues/603\">(#603)</a>: <em>Supporting publishing to multiple npm registries</em> by <strong><a href=\"https://github.com/martenrichter\">@martenrichter</a></strong></li>\n</ul>"
      }
     },
     "e7605f733b5d46b9acb2e829831f4e05": {
      "model_module": "@jupyter-widgets/base",
      "model_module_version": "2.0.0",
      "model_name": "LayoutModel",
      "state": {
       "_model_module": "@jupyter-widgets/base",
       "_model_module_version": "2.0.0",
       "_model_name": "LayoutModel",
       "_view_count": null,
       "_view_module": "@jupyter-widgets/base",
       "_view_module_version": "2.0.0",
       "_view_name": "LayoutView",
       "align_content": null,
       "align_items": null,
       "align_self": null,
       "border_bottom": null,
       "border_left": null,
       "border_right": null,
       "border_top": null,
       "bottom": null,
       "display": null,
       "flex": null,
       "flex_flow": null,
       "grid_area": null,
       "grid_auto_columns": null,
       "grid_auto_flow": null,
       "grid_auto_rows": null,
       "grid_column": null,
       "grid_gap": null,
       "grid_row": null,
       "grid_template_areas": null,
       "grid_template_columns": null,
       "grid_template_rows": null,
       "height": null,
       "justify_content": null,
       "justify_items": null,
       "left": null,
       "margin": null,
       "max_height": null,
       "max_width": null,
       "min_height": null,
       "min_width": null,
       "object_fit": null,
       "object_position": null,
       "order": null,
       "overflow": null,
       "padding": null,
       "right": null,
       "top": null,
       "visibility": null,
       "width": null
      }
     },
     "e774501897fc4a5f8deabd046345604e": {
      "model_module": "@jupyter-widgets/controls",
      "model_module_version": "2.0.0",
      "model_name": "HTMLStyleModel",
      "state": {
       "_model_module": "@jupyter-widgets/controls",
       "_model_module_version": "2.0.0",
       "_model_name": "HTMLStyleModel",
       "_view_count": null,
       "_view_module": "@jupyter-widgets/base",
       "_view_module_version": "2.0.0",
       "_view_name": "StyleView",
       "background": null,
       "description_width": "",
       "font_size": null,
       "text_color": null
      }
     },
     "e9c3318bbd01467e88d9153f1c24ee63": {
      "model_module": "@jupyter-widgets/controls",
      "model_module_version": "2.0.0",
      "model_name": "HTMLModel",
      "state": {
       "_dom_classes": [],
       "_model_module": "@jupyter-widgets/controls",
       "_model_module_version": "2.0.0",
       "_model_name": "HTMLModel",
       "_view_count": null,
       "_view_module": "@jupyter-widgets/controls",
       "_view_module_version": "2.0.0",
       "_view_name": "HTMLView",
       "description": "",
       "description_allow_html": false,
       "layout": "IPY_MODEL_8972ccece0024e4b85aea905f500ebf0",
       "placeholder": "​",
       "style": "IPY_MODEL_47c38761a89b4f3b830f351440401fee",
       "tabbable": null,
       "tooltip": null,
       "value": "<h5><a href=\"https://github.com/jupyter-server/team-compass\">jupyter-server/team-compass</a></h5>\n<ul>\n<li><a href=\"https://github.com/jupyter-server/team-compass/issues/78\">(#78)</a>: <em>Vote: move <code>pycrdt</code> and <code>pycrdt-websocket</code> to <code>y-crdt</code> organization</em> by <strong><a href=\"https://github.com/davidbrochart\">@davidbrochart</a></strong></li>\n<li><a href=\"https://github.com/jupyter-server/team-compass/issues/73\">(#73)</a>: <em>Meeting Notes 2025</em> by <strong><a href=\"https://github.com/Zsailer\">@Zsailer</a></strong></li>\n<li><a href=\"https://github.com/jupyter-server/team-compass/issues/77\">(#77)</a>: <em>Move <code>pycrdt</code> to <code>y-crdt</code> organization</em> by <strong><a href=\"https://github.com/davidbrochart\">@davidbrochart</a></strong></li>\n<li><a href=\"https://github.com/jupyter-server/team-compass/issues/71\">(#71)</a>: <em>Add metadata service to Jupyter Server</em> by <strong><a href=\"https://github.com/lresende\">@lresende</a></strong></li>\n<li><a href=\"https://github.com/jupyter-server/team-compass/issues/72\">(#72)</a>: <em>Support running kernels in multiple locations (locally or remote) simultaneously.</em> by <strong><a href=\"https://github.com/ojarjur\">@ojarjur</a></strong></li>\n</ul>"
      }
     },
     "ec5d61f7bbeb4ffdb322fc6194080f56": {
      "model_module": "@jupyter-widgets/base",
      "model_module_version": "2.0.0",
      "model_name": "LayoutModel",
      "state": {
       "_model_module": "@jupyter-widgets/base",
       "_model_module_version": "2.0.0",
       "_model_name": "LayoutModel",
       "_view_count": null,
       "_view_module": "@jupyter-widgets/base",
       "_view_module_version": "2.0.0",
       "_view_name": "LayoutView",
       "align_content": null,
       "align_items": null,
       "align_self": null,
       "border_bottom": null,
       "border_left": null,
       "border_right": null,
       "border_top": null,
       "bottom": null,
       "display": null,
       "flex": null,
       "flex_flow": null,
       "grid_area": null,
       "grid_auto_columns": null,
       "grid_auto_flow": null,
       "grid_auto_rows": null,
       "grid_column": null,
       "grid_gap": null,
       "grid_row": null,
       "grid_template_areas": null,
       "grid_template_columns": null,
       "grid_template_rows": null,
       "height": null,
       "justify_content": null,
       "justify_items": null,
       "left": null,
       "margin": null,
       "max_height": null,
       "max_width": null,
       "min_height": null,
       "min_width": null,
       "object_fit": null,
       "object_position": null,
       "order": null,
       "overflow": null,
       "padding": null,
       "right": null,
       "top": null,
       "visibility": null,
       "width": null
      }
     },
     "f24398d5d1f44520b32a398e7a917488": {
      "model_module": "@jupyter-widgets/controls",
      "model_module_version": "2.0.0",
      "model_name": "HTMLModel",
      "state": {
       "_dom_classes": [],
       "_model_module": "@jupyter-widgets/controls",
       "_model_module_version": "2.0.0",
       "_model_name": "HTMLModel",
       "_view_count": null,
       "_view_module": "@jupyter-widgets/controls",
       "_view_module_version": "2.0.0",
       "_view_name": "HTMLView",
       "description": "",
       "description_allow_html": false,
       "layout": "IPY_MODEL_274e509d329243099cfb6e94a241eac9",
       "placeholder": "​",
       "style": "IPY_MODEL_8c918ed701134fbb99568d224a760e88",
       "tabbable": null,
       "tooltip": null,
       "value": "<ul>\n<li>(20) Towards a new generic and composable server - team-compass - <a href=\"https://github.com/jupyter-server/team-compass/issues/11\">#11</a></li>\n<li>(11) Proposal: Restore Notebook execution progress when a browser page is reloaded - jupyter_server - <a href=\"https://github.com/jupyter-server/jupyter_server/issues/1274\">#1274</a></li>\n<li>(9) Feature Request: Health check for enterprise gateway - enterprise_gateway - <a href=\"https://github.com/jupyter-server/enterprise_gateway/issues/697\">#697</a></li>\n<li>(9) Add GPU usage? - jupyter-resource-usage - <a href=\"https://github.com/jupyter-server/jupyter-resource-usage/issues/12\">#12</a></li>\n<li>(8) 'NoneType' object has no attribute 'kernel_ws_protocol' - jupyter_server - <a href=\"https://github.com/jupyter-server/jupyter_server/issues/1265\">#1265</a></li>\n<li>(5) Automatically delete all old Notebook jobs - jupyter-scheduler - <a href=\"https://github.com/jupyter-server/jupyter-scheduler/issues/328\">#328</a></li>\n<li>(4) [Proposal] Jupyter Server should handle resolving kernel lifecycle and execution states. - jupyter_server - <a href=\"https://github.com/jupyter-server/jupyter_server/issues/990\">#990</a></li>\n<li>(4) Run python script files as jobs - jupyter-scheduler - <a href=\"https://github.com/jupyter-server/jupyter-scheduler/issues/409\">#409</a></li>\n<li>(4)  Adding a release date alongside the release tag would be useful - jupyter_releaser - <a href=\"https://github.com/jupyter-server/jupyter_releaser/issues/600\">#600</a></li>\n<li>(4) Websocket connect rejected - jupyverse - <a href=\"https://github.com/jupyter-server/jupyverse/issues/409\">#409</a></li>\n<li>(3) Idea💡 Use Cloud Native K8S Jupyter Operator - enterprise_gateway - <a href=\"https://github.com/jupyter-server/enterprise_gateway/issues/1025\">#1025</a></li>\n<li>(3) Enable users to access the jupyter server logs - jupyter_server - <a href=\"https://github.com/jupyter-server/jupyter_server/issues/684\">#684</a></li>\n<li>(3) Shutting down the server started with password pre-set will encounter an error <code>tornado.httpclient.HTTPClientError: HTTP 403: Forbidden</code> - jupyter_server - <a href=\"https://github.com/jupyter-server/jupyter_server/issues/1008\">#1008</a></li>\n<li>(3) Convert tests to pytest framework - enterprise_gateway - <a href=\"https://github.com/jupyter-server/enterprise_gateway/issues/1089\">#1089</a></li>\n<li>(3) Metric Collection and Montioring - enterprise_gateway - <a href=\"https://github.com/jupyter-server/enterprise_gateway/issues/731\">#731</a></li>\n<li>(3) Serve kernel WASM assets - jupyter_server - <a href=\"https://github.com/jupyter-server/jupyter_server/issues/1376\">#1376</a></li>\n<li>(3) Remove usages of tornado io_loop in favor of native asyncio - jupyter_server - <a href=\"https://github.com/jupyter-server/jupyter_server/issues/1362\">#1362</a></li>\n<li>(3) Add Security.txt File - jupyter_server - <a href=\"https://github.com/jupyter-server/jupyter_server/issues/249\">#249</a></li>\n<li>(3) Registering new file formats for the ContentsManager - jupyter_server - <a href=\"https://github.com/jupyter-server/jupyter_server/issues/1456\">#1456</a></li>\n<li>(3) Tracking free-threading support - jupyter_server - <a href=\"https://github.com/jupyter-server/jupyter_server/issues/1473\">#1473</a></li>\n<li>(3) Support websocket connections in notebook-http mode - kernel_gateway - <a href=\"https://github.com/jupyter-server/kernel_gateway/issues/60\">#60</a></li>\n<li>(2) Issue when using directory named \"checkpoints\" or \"trust\" - jupyter_server - <a href=\"https://github.com/jupyter-server/jupyter_server/issues/58\">#58</a></li>\n<li>(2) async start_extension hook - jupyter_server - <a href=\"https://github.com/jupyter-server/jupyter_server/issues/1329\">#1329</a></li>\n<li>(2) Add an OpenAPI doc for top level endpoints - jupyter_server - <a href=\"https://github.com/jupyter-server/jupyter_server/issues/298\">#298</a></li>\n<li>(2) Opting out of no-cache default behavior - jupyter_server - <a href=\"https://github.com/jupyter-server/jupyter_server/issues/413\">#413</a></li>\n</ul>"
      }
     },
     "f47b1fbdb3d344c596a0053cf9dad3b9": {
      "model_module": "@jupyter-widgets/base",
      "model_module_version": "2.0.0",
      "model_name": "LayoutModel",
      "state": {
       "_model_module": "@jupyter-widgets/base",
       "_model_module_version": "2.0.0",
       "_model_name": "LayoutModel",
       "_view_count": null,
       "_view_module": "@jupyter-widgets/base",
       "_view_module_version": "2.0.0",
       "_view_name": "LayoutView",
       "align_content": null,
       "align_items": null,
       "align_self": null,
       "border_bottom": null,
       "border_left": null,
       "border_right": null,
       "border_top": null,
       "bottom": null,
       "display": null,
       "flex": null,
       "flex_flow": null,
       "grid_area": null,
       "grid_auto_columns": null,
       "grid_auto_flow": null,
       "grid_auto_rows": null,
       "grid_column": null,
       "grid_gap": null,
       "grid_row": null,
       "grid_template_areas": null,
       "grid_template_columns": null,
       "grid_template_rows": null,
       "height": null,
       "justify_content": null,
       "justify_items": null,
       "left": null,
       "margin": null,
       "max_height": null,
       "max_width": null,
       "min_height": null,
       "min_width": null,
       "object_fit": null,
       "object_position": null,
       "order": null,
       "overflow": null,
       "padding": null,
       "right": null,
       "top": null,
       "visibility": null,
       "width": null
      }
     },
     "f5e07bae44eb4793b9ca21e78a1ab4b3": {
      "model_module": "@jupyter-widgets/controls",
      "model_module_version": "2.0.0",
      "model_name": "HTMLModel",
      "state": {
       "_dom_classes": [],
       "_model_module": "@jupyter-widgets/controls",
       "_model_module_version": "2.0.0",
       "_model_name": "HTMLModel",
       "_view_count": null,
       "_view_module": "@jupyter-widgets/controls",
       "_view_module_version": "2.0.0",
       "_view_name": "HTMLView",
       "description": "",
       "description_allow_html": false,
       "layout": "IPY_MODEL_460ef8a3f17a43c88d7d836ac9252c25",
       "placeholder": "​",
       "style": "IPY_MODEL_6db89e195a0d4360bba3c8f60d913b72",
       "tabbable": null,
       "tooltip": null,
       "value": "<h5><a href=\"https://github.com/jupyter-server/jupyter-scheduler\">jupyter-server/jupyter-scheduler</a></h5>\n<ul>\n<li><a href=\"https://github.com/jupyter-server/jupyter-scheduler/issues/328\">(#328)</a>: <em>Automatically delete all old Notebook jobs</em> by <strong><a href=\"https://github.com/nakvic\">@nakvic</a></strong></li>\n<li><a href=\"https://github.com/jupyter-server/jupyter-scheduler/issues/497\">(#497)</a>: <em>Empty \"Section Navigation\" in user docs</em> by <strong><a href=\"https://github.com/andrii-i\">@andrii-i</a></strong></li>\n<li><a href=\"https://github.com/jupyter-server/jupyter-scheduler/issues/563\">(#563)</a>: <em>Manage the culling of Jupyter Server with scheduled jobs to support JupyterHub</em> by <strong><a href=\"https://github.com/thomasLeclaire\">@thomasLeclaire</a></strong></li>\n<li><a href=\"https://github.com/jupyter-server/jupyter-scheduler/issues/560\">(#560)</a>: <em>JupyterLab 4 classifier is missing</em> by <strong><a href=\"https://github.com/krassowski\">@krassowski</a></strong></li>\n<li><a href=\"https://github.com/jupyter-server/jupyter-scheduler/issues/414\">(#414)</a>: <em>UI for event driven notebook execution</em> by <strong><a href=\"https://github.com/andrii-i\">@andrii-i</a></strong></li>\n</ul>"
      }
     },
     "f78d1e425f2844e99a4ad72a2769ec46": {
      "model_module": "@jupyter-widgets/base",
      "model_module_version": "2.0.0",
      "model_name": "LayoutModel",
      "state": {
       "_model_module": "@jupyter-widgets/base",
       "_model_module_version": "2.0.0",
       "_model_name": "LayoutModel",
       "_view_count": null,
       "_view_module": "@jupyter-widgets/base",
       "_view_module_version": "2.0.0",
       "_view_name": "LayoutView",
       "align_content": null,
       "align_items": null,
       "align_self": null,
       "border_bottom": null,
       "border_left": null,
       "border_right": null,
       "border_top": null,
       "bottom": null,
       "display": null,
       "flex": null,
       "flex_flow": null,
       "grid_area": null,
       "grid_auto_columns": null,
       "grid_auto_flow": null,
       "grid_auto_rows": null,
       "grid_column": null,
       "grid_gap": null,
       "grid_row": null,
       "grid_template_areas": null,
       "grid_template_columns": null,
       "grid_template_rows": null,
       "height": null,
       "justify_content": null,
       "justify_items": null,
       "left": null,
       "margin": null,
       "max_height": null,
       "max_width": null,
       "min_height": null,
       "min_width": null,
       "object_fit": null,
       "object_position": null,
       "order": null,
       "overflow": null,
       "padding": null,
       "right": null,
       "top": null,
       "visibility": null,
       "width": null
      }
     },
     "f795386fb10f40018c0884dcfc03f863": {
      "model_module": "@jupyter-widgets/controls",
      "model_module_version": "2.0.0",
      "model_name": "HTMLModel",
      "state": {
       "_dom_classes": [],
       "_model_module": "@jupyter-widgets/controls",
       "_model_module_version": "2.0.0",
       "_model_name": "HTMLModel",
       "_view_count": null,
       "_view_module": "@jupyter-widgets/controls",
       "_view_module_version": "2.0.0",
       "_view_name": "HTMLView",
       "description": "",
       "description_allow_html": false,
       "layout": "IPY_MODEL_0b9a277cfdc74ac68cda9abd6fa5fc4b",
       "placeholder": "​",
       "style": "IPY_MODEL_181721991763416a800589c8e3663ab3",
       "tabbable": null,
       "tooltip": null,
       "value": "<h4>Closed PRs for repo: <a href=\"https://github.com/jupyter-server/team-compass\">jupyter-server/team-compass</a></h4>\n<h5></h5>\n<ul>\n<li><a href=\"https://github.com/jupyter-server/team-compass/issues/64\">(#64)</a>: <em>[pre-commit.ci] pre-commit autoupdate</em> by <strong><a href=\"https://github.com/pre-commit-ci[bot]\">@pre-commit-ci[bot]</a></strong> merged by <strong><a href=\"https://github.com/Zsailer\">@Zsailer</a></strong></li>\n<li><a href=\"https://github.com/jupyter-server/team-compass/issues/76\">(#76)</a>: <em>Update zoom link to team compass README</em> by <strong><a href=\"https://github.com/lresende\">@lresende</a></strong> merged by <strong><a href=\"https://github.com/Zsailer\">@Zsailer</a></strong></li>\n</ul>"
      }
     },
     "fb4b8a822b2a432e89d76dcf3ab3a471": {
      "model_module": "@jupyter-widgets/controls",
      "model_module_version": "2.0.0",
      "model_name": "HTMLStyleModel",
      "state": {
       "_model_module": "@jupyter-widgets/controls",
       "_model_module_version": "2.0.0",
       "_model_name": "HTMLStyleModel",
       "_view_count": null,
       "_view_module": "@jupyter-widgets/base",
       "_view_module_version": "2.0.0",
       "_view_name": "StyleView",
       "background": null,
       "description_width": "",
       "font_size": null,
       "text_color": null
      }
     },
     "fbc7b43b17af46899029bb41f4c3e2fe": {
      "model_module": "@jupyter-widgets/controls",
      "model_module_version": "2.0.0",
      "model_name": "HTMLStyleModel",
      "state": {
       "_model_module": "@jupyter-widgets/controls",
       "_model_module_version": "2.0.0",
       "_model_name": "HTMLStyleModel",
       "_view_count": null,
       "_view_module": "@jupyter-widgets/base",
       "_view_module_version": "2.0.0",
       "_view_name": "StyleView",
       "background": null,
       "description_width": "",
       "font_size": null,
       "text_color": null
      }
     }
    },
    "version_major": 2,
    "version_minor": 0
   }
  }
 },
 "nbformat": 4,
 "nbformat_minor": 5
}