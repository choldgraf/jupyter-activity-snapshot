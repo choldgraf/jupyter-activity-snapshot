{
 "cells": [
  {
   "cell_type": "markdown",
   "id": "8db79626",
   "metadata": {
    "papermill": {
     "duration": 0.015756,
     "end_time": "2025-05-15T01:30:52.005101",
     "exception": false,
     "start_time": "2025-05-15T01:30:51.989345",
     "status": "completed"
    },
    "tags": []
   },
   "source": [
    "# {glue:text}`jupyter-server_github_org`\n",
    "\n",
    "**Activity from {glue:}`jupyter-server_start` to {glue:}`jupyter-server_stop`**"
   ]
  },
  {
   "cell_type": "code",
   "execution_count": 1,
   "id": "bb93101e",
   "metadata": {
    "editable": true,
    "execution": {
     "iopub.execute_input": "2025-05-15T01:30:52.036415Z",
     "iopub.status.busy": "2025-05-15T01:30:52.035933Z",
     "iopub.status.idle": "2025-05-15T01:30:52.855677Z",
     "shell.execute_reply": "2025-05-15T01:30:52.855025Z"
    },
    "papermill": {
     "duration": 0.836791,
     "end_time": "2025-05-15T01:30:52.857051",
     "exception": false,
     "start_time": "2025-05-15T01:30:52.020260",
     "status": "completed"
    },
    "slideshow": {
     "slide_type": ""
    },
    "tags": [
     "remove_cell"
    ]
   },
   "outputs": [],
   "source": [
    "from datetime import date\n",
    "from dateutil.relativedelta import relativedelta\n",
    "from myst_nb import glue\n",
    "import seaborn as sns\n",
    "import pandas as pd\n",
    "import numpy as np\n",
    "import altair as alt\n",
    "from markdown import markdown\n",
    "from IPython.display import Markdown\n",
    "from ipywidgets.widgets import HTML, Tab\n",
    "from ipywidgets import widgets\n",
    "from datetime import timedelta\n",
    "from matplotlib import pyplot as plt\n",
    "import os.path as op\n",
    "from json import loads\n",
    "\n",
    "from warnings import simplefilter\n",
    "simplefilter('ignore')\n",
    "pd.set_option('display.max_columns', None) # 'None' means show all"
   ]
  },
  {
   "cell_type": "code",
   "execution_count": 2,
   "id": "74511937",
   "metadata": {
    "editable": true,
    "execution": {
     "iopub.execute_input": "2025-05-15T01:30:52.888282Z",
     "iopub.status.busy": "2025-05-15T01:30:52.887997Z",
     "iopub.status.idle": "2025-05-15T01:30:52.894823Z",
     "shell.execute_reply": "2025-05-15T01:30:52.894262Z"
    },
    "papermill": {
     "duration": 0.023166,
     "end_time": "2025-05-15T01:30:52.895885",
     "exception": false,
     "start_time": "2025-05-15T01:30:52.872719",
     "status": "completed"
    },
    "slideshow": {
     "slide_type": ""
    },
    "tags": [
     "remove_cell"
    ]
   },
   "outputs": [],
   "source": [
    "# Altair config\n",
    "def author_url(author):\n",
    "    return f\"https://github.com/{author}\"\n",
    "\n",
    "def alt_theme():\n",
    "    return {\n",
    "        'config': {\n",
    "            'axisLeft': {\n",
    "                'labelFontSize': 15,\n",
    "            },\n",
    "            'axisBottom': {\n",
    "                'labelFontSize': 15,\n",
    "            },\n",
    "        }\n",
    "    }\n",
    "\n",
    "alt.themes.register('my_theme', alt_theme)\n",
    "alt.themes.enable(\"my_theme\")\n",
    "\n",
    "\n",
    "# Define colors we'll use for GitHub membership\n",
    "author_types = ['MEMBER', 'CONTRIBUTOR', 'COLLABORATOR', \"NONE\"]\n",
    "\n",
    "author_palette = np.array(sns.palettes.blend_palette([\"lightgrey\", \"lightgreen\", \"darkgreen\"], 4)) * 256\n",
    "author_colors = [\"rgb({}, {}, {})\".format(*color) for color in author_palette]\n",
    "author_color_dict = {key: val for key, val in zip(author_types, author_palette)}"
   ]
  },
  {
   "cell_type": "code",
   "execution_count": 3,
   "id": "6d26854e",
   "metadata": {
    "editable": true,
    "execution": {
     "iopub.execute_input": "2025-05-15T01:30:52.924473Z",
     "iopub.status.busy": "2025-05-15T01:30:52.924111Z",
     "iopub.status.idle": "2025-05-15T01:30:52.927135Z",
     "shell.execute_reply": "2025-05-15T01:30:52.926469Z"
    },
    "papermill": {
     "duration": 0.018478,
     "end_time": "2025-05-15T01:30:52.928144",
     "exception": false,
     "start_time": "2025-05-15T01:30:52.909666",
     "status": "completed"
    },
    "slideshow": {
     "slide_type": ""
    },
    "tags": [
     "parameters",
     "hide_input",
     "remove_cell"
    ]
   },
   "outputs": [],
   "source": [
    "github_org = \"jupyterhub\"\n",
    "top_n_repos = 15\n",
    "n_days = 90"
   ]
  },
  {
   "cell_type": "code",
   "execution_count": 4,
   "id": "0d36b776",
   "metadata": {
    "execution": {
     "iopub.execute_input": "2025-05-15T01:30:52.956896Z",
     "iopub.status.busy": "2025-05-15T01:30:52.956694Z",
     "iopub.status.idle": "2025-05-15T01:30:52.959482Z",
     "shell.execute_reply": "2025-05-15T01:30:52.958969Z"
    },
    "papermill": {
     "duration": 0.018364,
     "end_time": "2025-05-15T01:30:52.960487",
     "exception": false,
     "start_time": "2025-05-15T01:30:52.942123",
     "status": "completed"
    },
    "tags": [
     "injected-parameters",
     "remove-cell"
    ]
   },
   "outputs": [],
   "source": [
    "# Parameters\n",
    "github_org = \"jupyter-server\"\n",
    "n_days = 90\n"
   ]
  },
  {
   "cell_type": "code",
   "execution_count": 5,
   "id": "ff0870c7",
   "metadata": {
    "editable": true,
    "execution": {
     "iopub.execute_input": "2025-05-15T01:30:52.990765Z",
     "iopub.status.busy": "2025-05-15T01:30:52.990555Z",
     "iopub.status.idle": "2025-05-15T01:30:53.012858Z",
     "shell.execute_reply": "2025-05-15T01:30:53.012310Z"
    },
    "papermill": {
     "duration": 0.038694,
     "end_time": "2025-05-15T01:30:53.013869",
     "exception": false,
     "start_time": "2025-05-15T01:30:52.975175",
     "status": "completed"
    },
    "slideshow": {
     "slide_type": ""
    },
    "tags": [
     "remove_cell"
    ]
   },
   "outputs": [
    {
     "data": {
      "application/papermill.record/text/plain": "'jupyter-server'"
     },
     "metadata": {
      "scrapbook": {
       "mime_prefix": "application/papermill.record/",
       "name": "jupyter-server_github_org"
      }
     },
     "output_type": "display_data"
    },
    {
     "data": {
      "application/papermill.record/text/plain": "'2025-02-14'"
     },
     "metadata": {
      "scrapbook": {
       "mime_prefix": "application/papermill.record/",
       "name": "jupyter-server_start"
      }
     },
     "output_type": "display_data"
    },
    {
     "data": {
      "application/papermill.record/text/plain": "'2025-05-15'"
     },
     "metadata": {
      "scrapbook": {
       "mime_prefix": "application/papermill.record/",
       "name": "jupyter-server_stop"
      }
     },
     "output_type": "display_data"
    }
   ],
   "source": [
    "############################################################\n",
    "# Variables\n",
    "stop = date.today()\n",
    "start = date.today() - relativedelta(days=n_days)\n",
    "\n",
    "# Strings for use in queries\n",
    "start_date = f\"{start:%Y-%m-%d}\"\n",
    "stop_date = f\"{stop:%Y-%m-%d}\"\n",
    "\n",
    "# Glue variables for use in markdown\n",
    "glue(f\"{github_org}_github_org\", github_org, display=False)\n",
    "glue(f\"{github_org}_start\", start_date, display=False)\n",
    "glue(f\"{github_org}_stop\", stop_date, display=False)"
   ]
  },
  {
   "cell_type": "markdown",
   "id": "bb9a5f60",
   "metadata": {
    "editable": true,
    "papermill": {
     "duration": 0.014271,
     "end_time": "2025-05-15T01:30:53.042512",
     "exception": false,
     "start_time": "2025-05-15T01:30:53.028241",
     "status": "completed"
    },
    "slideshow": {
     "slide_type": ""
    },
    "tags": []
   },
   "source": [
    "## Load data\n",
    "\n",
    "Load and clean up the data"
   ]
  },
  {
   "cell_type": "code",
   "execution_count": 6,
   "id": "65f1dee4",
   "metadata": {
    "editable": true,
    "execution": {
     "iopub.execute_input": "2025-05-15T01:30:53.072391Z",
     "iopub.status.busy": "2025-05-15T01:30:53.072165Z",
     "iopub.status.idle": "2025-05-15T01:30:53.076535Z",
     "shell.execute_reply": "2025-05-15T01:30:53.075994Z"
    },
    "papermill": {
     "duration": 0.020669,
     "end_time": "2025-05-15T01:30:53.077619",
     "exception": false,
     "start_time": "2025-05-15T01:30:53.056950",
     "status": "completed"
    },
    "slideshow": {
     "slide_type": ""
    },
    "tags": [
     "remove_cell"
    ]
   },
   "outputs": [],
   "source": [
    "from pathlib import Path\n",
    "import sqlite3\n",
    "path_data = Path(\"../data\")\n",
    "path_data = list(path_data.rglob(f\"*{github_org}.db\"))[0]\n",
    "\n",
    "def df_from_sql(query, db):\n",
    "    con = sqlite3.connect(db)\n",
    "    return pd.read_sql(query, con)\n",
    "    con.close()"
   ]
  },
  {
   "cell_type": "code",
   "execution_count": 7,
   "id": "b34cdda5",
   "metadata": {
    "editable": true,
    "execution": {
     "iopub.execute_input": "2025-05-15T01:30:53.108608Z",
     "iopub.status.busy": "2025-05-15T01:30:53.108222Z",
     "iopub.status.idle": "2025-05-15T01:30:53.354430Z",
     "shell.execute_reply": "2025-05-15T01:30:53.353784Z"
    },
    "papermill": {
     "duration": 0.263174,
     "end_time": "2025-05-15T01:30:53.355766",
     "exception": false,
     "start_time": "2025-05-15T01:30:53.092592",
     "status": "completed"
    },
    "scrolled": true,
    "slideshow": {
     "slide_type": ""
    },
    "tags": [
     "remove_cell"
    ]
   },
   "outputs": [
    {
     "name": "stdout",
     "output_type": "stream",
     "text": [
      "Loading from ../data/b0cc46e05ac6a93978539fc404bc6ea4-jupyter-server.db\n"
     ]
    }
   ],
   "source": [
    "print(f\"Loading from {path_data}\")\n",
    "repos = df_from_sql(\"SELECT * FROM repos\", path_data)\n",
    "users = df_from_sql(\"SELECT * FROM users\", path_data)\n",
    "issues = df_from_sql(\"SELECT * FROM issues\", path_data)\n",
    "comments = df_from_sql(\"SELECT * FROM issue_comments\", path_data)\n",
    "\n",
    "# Merge repository information into issues\n",
    "def merge_repo_into_df(df, kind):\n",
    "    df = pd.merge(df, users[[\"id\", \"login\"]], left_on=\"user\", right_on=\"id\", suffixes=(\"_issue\", \"_user\"), how=\"inner\")\n",
    "    df = pd.merge(df, repos[[\"id\", \"full_name\", \"name\"]], left_on=\"repo\", right_on=\"id\", suffixes=(\"_issue\", \"_repo\"), how=\"inner\")\n",
    "    df[\"org\"] = df[\"full_name\"].map(lambda a: a.split('/')[0])\n",
    "    df[\"repo\"] = df[\"full_name\"].map(lambda a: a.split('/')[1])\n",
    "    df[\"url\"] = \"https://github.com/\" + df[\"org\"] + \"/\" + df[\"repo\"] + f\"/{kind}/\" + df[\"number\"].astype(str)\n",
    "    return df\n",
    "issues = merge_repo_into_df(issues, kind=\"issues\")\n",
    "\n",
    "# Pull out the Pull Requests from Issues\n",
    "prs = issues.loc[~issues[\"pull_request\"].isna()]\n",
    "def identify_merger(closedby):\n",
    "    if not closedby:\n",
    "        return None\n",
    "    try:\n",
    "        cb = loads(closedby)\n",
    "    except:\n",
    "        print(closedby)\n",
    "    return cb[\"login\"]\n",
    "prs[\"merged_by\"] = prs[\"closed_by\"].map(identify_merger)\n",
    "\n",
    "# These issues now _remove_ the PRs\n",
    "issues = issues.loc[issues[\"pull_request\"].isna()]\n",
    "\n",
    "# Add reactions data\n",
    "def count_positive(a):\n",
    "    a = loads(a)\n",
    "    return a[\"+1\"] + a[\"hooray\"] + a[\"heart\"]\n",
    "issues[\"positive\"] = issues[\"reactions\"].map(count_positive)\n",
    "\n",
    "# Drop comments if there is no associated issue\n",
    "comments = comments.dropna(subset=[\"issue\"])\n",
    "comments[\"issue\"] = comments.loc[:, \"issue\"].astype(int)\n",
    "\n",
    "# Add repository information to comments\n",
    "comments = pd.merge(comments, issues[[\"id_issue\", \"full_name\", \"org\", \"repo\"]], left_on=\"issue\", right_on=\"id_issue\", how=\"inner\", suffixes=(\"_comment\", \"_issue\"))\n",
    "\n",
    "# Merge user data into comments\n",
    "comments = pd.merge(comments, users[[\"id\", \"login\"]], left_on=\"user\", right_on=\"id\", suffixes=(\"_comment\", \"_user\"), how=\"inner\")"
   ]
  },
  {
   "cell_type": "code",
   "execution_count": 8,
   "id": "d0fb4245",
   "metadata": {
    "editable": true,
    "execution": {
     "iopub.execute_input": "2025-05-15T01:30:53.386828Z",
     "iopub.status.busy": "2025-05-15T01:30:53.386534Z",
     "iopub.status.idle": "2025-05-15T01:30:53.415829Z",
     "shell.execute_reply": "2025-05-15T01:30:53.415268Z"
    },
    "papermill": {
     "duration": 0.045709,
     "end_time": "2025-05-15T01:30:53.416906",
     "exception": false,
     "start_time": "2025-05-15T01:30:53.371197",
     "status": "completed"
    },
    "slideshow": {
     "slide_type": ""
    },
    "tags": [
     "remove_cell"
    ]
   },
   "outputs": [],
   "source": [
    "# Convert columns to datetime\n",
    "datetime_columns = [\"created_at\", \"closed_at\"]\n",
    "for df in [comments, issues, prs]:\n",
    "    for col in datetime_columns:\n",
    "        if col in df:\n",
    "            df[col] = pd.to_datetime(df[col])\n",
    "            # Strip timezone information so we can run simpler queries\n",
    "            df[col] = df[col].dt.tz_localize(None)"
   ]
  },
  {
   "cell_type": "code",
   "execution_count": 9,
   "id": "12042e76",
   "metadata": {
    "editable": true,
    "execution": {
     "iopub.execute_input": "2025-05-15T01:30:53.448096Z",
     "iopub.status.busy": "2025-05-15T01:30:53.447893Z",
     "iopub.status.idle": "2025-05-15T01:30:53.457615Z",
     "shell.execute_reply": "2025-05-15T01:30:53.457103Z"
    },
    "papermill": {
     "duration": 0.026597,
     "end_time": "2025-05-15T01:30:53.458583",
     "exception": false,
     "start_time": "2025-05-15T01:30:53.431986",
     "status": "completed"
    },
    "slideshow": {
     "slide_type": ""
    },
    "tags": [
     "remove_cell"
    ]
   },
   "outputs": [],
   "source": [
    "# What are the top N repos, we will only plot these in the full data plots\n",
    "top_commented_repos = comments.groupby(\"repo\").count().sort_values(\"created_at\", ascending=False)['created_at']\n",
    "use_repos = top_commented_repos.head(top_n_repos).index.tolist()"
   ]
  },
  {
   "cell_type": "markdown",
   "id": "6afdfd29",
   "metadata": {
    "editable": true,
    "papermill": {
     "duration": 0.014495,
     "end_time": "2025-05-15T01:30:53.487635",
     "exception": false,
     "start_time": "2025-05-15T01:30:53.473140",
     "status": "completed"
    },
    "slideshow": {
     "slide_type": ""
    },
    "tags": [],
    "toc-hr-collapsed": false
   },
   "source": [
    "## Merged Pull requests\n",
    "\n",
    "Here's an analysis of **merged pull requests** across each of the repositories in the Jupyter\n",
    "ecosystem."
   ]
  },
  {
   "cell_type": "code",
   "execution_count": 10,
   "id": "b96b81fa",
   "metadata": {
    "editable": true,
    "execution": {
     "iopub.execute_input": "2025-05-15T01:30:53.517598Z",
     "iopub.status.busy": "2025-05-15T01:30:53.517229Z",
     "iopub.status.idle": "2025-05-15T01:30:53.528153Z",
     "shell.execute_reply": "2025-05-15T01:30:53.527483Z"
    },
    "papermill": {
     "duration": 0.027174,
     "end_time": "2025-05-15T01:30:53.529286",
     "exception": false,
     "start_time": "2025-05-15T01:30:53.502112",
     "status": "completed"
    },
    "slideshow": {
     "slide_type": ""
    },
    "tags": [
     "remove_cell"
    ]
   },
   "outputs": [],
   "source": [
    "merged = prs.query('state == \"closed\" and closed_at > @start_date and closed_at < @stop_date')"
   ]
  },
  {
   "cell_type": "code",
   "execution_count": 11,
   "id": "500fae70",
   "metadata": {
    "editable": true,
    "execution": {
     "iopub.execute_input": "2025-05-15T01:30:53.561125Z",
     "iopub.status.busy": "2025-05-15T01:30:53.560730Z",
     "iopub.status.idle": "2025-05-15T01:30:53.598480Z",
     "shell.execute_reply": "2025-05-15T01:30:53.597921Z"
    },
    "papermill": {
     "duration": 0.055167,
     "end_time": "2025-05-15T01:30:53.599435",
     "exception": false,
     "start_time": "2025-05-15T01:30:53.544268",
     "status": "completed"
    },
    "slideshow": {
     "slide_type": ""
    },
    "tags": [
     "hide_input"
    ]
   },
   "outputs": [
    {
     "data": {
      "text/html": [
       "\n",
       "<style>\n",
       "  #altair-viz-9083e5bae1f14087a998341aba723204.vega-embed {\n",
       "    width: 100%;\n",
       "    display: flex;\n",
       "  }\n",
       "\n",
       "  #altair-viz-9083e5bae1f14087a998341aba723204.vega-embed details,\n",
       "  #altair-viz-9083e5bae1f14087a998341aba723204.vega-embed details summary {\n",
       "    position: relative;\n",
       "  }\n",
       "</style>\n",
       "<div id=\"altair-viz-9083e5bae1f14087a998341aba723204\"></div>\n",
       "<script type=\"text/javascript\">\n",
       "  var VEGA_DEBUG = (typeof VEGA_DEBUG == \"undefined\") ? {} : VEGA_DEBUG;\n",
       "  (function(spec, embedOpt){\n",
       "    let outputDiv = document.currentScript.previousElementSibling;\n",
       "    if (outputDiv.id !== \"altair-viz-9083e5bae1f14087a998341aba723204\") {\n",
       "      outputDiv = document.getElementById(\"altair-viz-9083e5bae1f14087a998341aba723204\");\n",
       "    }\n",
       "\n",
       "    const paths = {\n",
       "      \"vega\": \"https://cdn.jsdelivr.net/npm/vega@5?noext\",\n",
       "      \"vega-lib\": \"https://cdn.jsdelivr.net/npm/vega-lib?noext\",\n",
       "      \"vega-lite\": \"https://cdn.jsdelivr.net/npm/vega-lite@5.20.1?noext\",\n",
       "      \"vega-embed\": \"https://cdn.jsdelivr.net/npm/vega-embed@6?noext\",\n",
       "    };\n",
       "\n",
       "    function maybeLoadScript(lib, version) {\n",
       "      var key = `${lib.replace(\"-\", \"\")}_version`;\n",
       "      return (VEGA_DEBUG[key] == version) ?\n",
       "        Promise.resolve(paths[lib]) :\n",
       "        new Promise(function(resolve, reject) {\n",
       "          var s = document.createElement('script');\n",
       "          document.getElementsByTagName(\"head\")[0].appendChild(s);\n",
       "          s.async = true;\n",
       "          s.onload = () => {\n",
       "            VEGA_DEBUG[key] = version;\n",
       "            return resolve(paths[lib]);\n",
       "          };\n",
       "          s.onerror = () => reject(`Error loading script: ${paths[lib]}`);\n",
       "          s.src = paths[lib];\n",
       "        });\n",
       "    }\n",
       "\n",
       "    function showError(err) {\n",
       "      outputDiv.innerHTML = `<div class=\"error\" style=\"color:red;\">${err}</div>`;\n",
       "      throw err;\n",
       "    }\n",
       "\n",
       "    function displayChart(vegaEmbed) {\n",
       "      vegaEmbed(outputDiv, spec, embedOpt)\n",
       "        .catch(err => showError(`Javascript Error: ${err.message}<br>This usually means there's a typo in your chart specification. See the javascript console for the full traceback.`));\n",
       "    }\n",
       "\n",
       "    if(typeof define === \"function\" && define.amd) {\n",
       "      requirejs.config({paths});\n",
       "      let deps = [\"vega-embed\"];\n",
       "      require(deps, displayChart, err => showError(`Error loading script: ${err.message}`));\n",
       "    } else {\n",
       "      maybeLoadScript(\"vega\", \"5\")\n",
       "        .then(() => maybeLoadScript(\"vega-lite\", \"5.20.1\"))\n",
       "        .then(() => maybeLoadScript(\"vega-embed\", \"6\"))\n",
       "        .catch(showError)\n",
       "        .then(() => displayChart(vegaEmbed));\n",
       "    }\n",
       "  })({\"config\": {\"axisLeft\": {\"labelFontSize\": 15}, \"axisBottom\": {\"labelFontSize\": 15}}, \"data\": {\"name\": \"data-ae37d379b7e8c6b387588422092288f9\"}, \"mark\": {\"type\": \"bar\"}, \"encoding\": {\"color\": {\"field\": \"org\", \"type\": \"nominal\"}, \"x\": {\"field\": \"repo\", \"sort\": [\"jupyverse\", \"fps\", \"jupyter_ydoc\", \"jupyter_server\", \"jupyter_releaser\", \"jupyter-scheduler\", \"pytest-jupyter\", \"jupyter_server_terminals\"], \"type\": \"nominal\"}, \"y\": {\"field\": \"login\", \"type\": \"quantitative\"}}, \"title\": \"Merged PRs in the last 90 days\", \"$schema\": \"https://vega.github.io/schema/vega-lite/v5.20.1.json\", \"datasets\": {\"data-ae37d379b7e8c6b387588422092288f9\": [{\"org\": \"jupyter-server\", \"repo\": \"jupyverse\", \"login\": 35}, {\"org\": \"jupyter-server\", \"repo\": \"fps\", \"login\": 28}, {\"org\": \"jupyter-server\", \"repo\": \"jupyter_ydoc\", \"login\": 14}, {\"org\": \"jupyter-server\", \"repo\": \"jupyter_server\", \"login\": 11}, {\"org\": \"jupyter-server\", \"repo\": \"jupyter_releaser\", \"login\": 5}, {\"org\": \"jupyter-server\", \"repo\": \"jupyter-scheduler\", \"login\": 4}, {\"org\": \"jupyter-server\", \"repo\": \"pytest-jupyter\", \"login\": 2}, {\"org\": \"jupyter-server\", \"repo\": \"jupyter_server_terminals\", \"login\": 1}]}}, {\"mode\": \"vega-lite\"});\n",
       "</script>"
      ],
      "text/plain": [
       "alt.Chart(...)"
      ]
     },
     "execution_count": 11,
     "metadata": {},
     "output_type": "execute_result"
    }
   ],
   "source": [
    "prs_by_repo = merged.groupby(['org', 'repo']).count()['login'].reset_index().sort_values(['org', 'login'], ascending=False)\n",
    "alt.Chart(data=prs_by_repo, title=f\"Merged PRs in the last {n_days} days\").mark_bar().encode(\n",
    "    x=alt.X('repo', sort=prs_by_repo['repo'].values.tolist()),\n",
    "    y='login',\n",
    "    color='org'\n",
    ")"
   ]
  },
  {
   "cell_type": "markdown",
   "id": "e9333a8d",
   "metadata": {
    "editable": true,
    "papermill": {
     "duration": 0.014627,
     "end_time": "2025-05-15T01:30:53.629130",
     "exception": false,
     "start_time": "2025-05-15T01:30:53.614503",
     "status": "completed"
    },
    "slideshow": {
     "slide_type": ""
    },
    "tags": []
   },
   "source": [
    "### Authoring and merging stats by repository\n",
    "\n",
    "Let's see who has been doing most of the PR authoring and merging. The PR author is generally the\n",
    "person that implemented a change in the repository (code, documentation, etc). The PR merger is\n",
    "the person that \"pressed the green button\" and got the change into the main codebase."
   ]
  },
  {
   "cell_type": "code",
   "execution_count": 12,
   "id": "c10f9155",
   "metadata": {
    "editable": true,
    "execution": {
     "iopub.execute_input": "2025-05-15T01:30:53.661008Z",
     "iopub.status.busy": "2025-05-15T01:30:53.660611Z",
     "iopub.status.idle": "2025-05-15T01:30:53.670255Z",
     "shell.execute_reply": "2025-05-15T01:30:53.669734Z"
    },
    "papermill": {
     "duration": 0.026927,
     "end_time": "2025-05-15T01:30:53.671324",
     "exception": false,
     "start_time": "2025-05-15T01:30:53.644397",
     "status": "completed"
    },
    "slideshow": {
     "slide_type": ""
    },
    "tags": [
     "remove_cell"
    ]
   },
   "outputs": [],
   "source": [
    "# Prep our merging DF\n",
    "merged_by_repo = merged.groupby(['repo', 'login'], as_index=False).agg({'id': 'count', 'author_association': 'first'}).rename(columns={'id': \"authored\", 'login': 'username'})\n",
    "closed_by_repo = merged.groupby(['name', 'merged_by']).count()['id_issue'].reset_index().rename(columns={'id_issue': \"closed\", \"merged_by\": \"username\"})"
   ]
  },
  {
   "cell_type": "code",
   "execution_count": 13,
   "id": "e25bdc7d",
   "metadata": {
    "editable": true,
    "execution": {
     "iopub.execute_input": "2025-05-15T01:30:53.702127Z",
     "iopub.status.busy": "2025-05-15T01:30:53.701438Z",
     "iopub.status.idle": "2025-05-15T01:30:53.724056Z",
     "shell.execute_reply": "2025-05-15T01:30:53.723480Z"
    },
    "papermill": {
     "duration": 0.038995,
     "end_time": "2025-05-15T01:30:53.725076",
     "exception": false,
     "start_time": "2025-05-15T01:30:53.686081",
     "status": "completed"
    },
    "slideshow": {
     "slide_type": ""
    },
    "tags": [
     "hide_input"
    ]
   },
   "outputs": [
    {
     "data": {
      "text/html": [
       "\n",
       "<style>\n",
       "  #altair-viz-8d573485821f4cc3a62cfb74daf49dfe.vega-embed {\n",
       "    width: 100%;\n",
       "    display: flex;\n",
       "  }\n",
       "\n",
       "  #altair-viz-8d573485821f4cc3a62cfb74daf49dfe.vega-embed details,\n",
       "  #altair-viz-8d573485821f4cc3a62cfb74daf49dfe.vega-embed details summary {\n",
       "    position: relative;\n",
       "  }\n",
       "</style>\n",
       "<div id=\"altair-viz-8d573485821f4cc3a62cfb74daf49dfe\"></div>\n",
       "<script type=\"text/javascript\">\n",
       "  var VEGA_DEBUG = (typeof VEGA_DEBUG == \"undefined\") ? {} : VEGA_DEBUG;\n",
       "  (function(spec, embedOpt){\n",
       "    let outputDiv = document.currentScript.previousElementSibling;\n",
       "    if (outputDiv.id !== \"altair-viz-8d573485821f4cc3a62cfb74daf49dfe\") {\n",
       "      outputDiv = document.getElementById(\"altair-viz-8d573485821f4cc3a62cfb74daf49dfe\");\n",
       "    }\n",
       "\n",
       "    const paths = {\n",
       "      \"vega\": \"https://cdn.jsdelivr.net/npm/vega@5?noext\",\n",
       "      \"vega-lib\": \"https://cdn.jsdelivr.net/npm/vega-lib?noext\",\n",
       "      \"vega-lite\": \"https://cdn.jsdelivr.net/npm/vega-lite@5.20.1?noext\",\n",
       "      \"vega-embed\": \"https://cdn.jsdelivr.net/npm/vega-embed@6?noext\",\n",
       "    };\n",
       "\n",
       "    function maybeLoadScript(lib, version) {\n",
       "      var key = `${lib.replace(\"-\", \"\")}_version`;\n",
       "      return (VEGA_DEBUG[key] == version) ?\n",
       "        Promise.resolve(paths[lib]) :\n",
       "        new Promise(function(resolve, reject) {\n",
       "          var s = document.createElement('script');\n",
       "          document.getElementsByTagName(\"head\")[0].appendChild(s);\n",
       "          s.async = true;\n",
       "          s.onload = () => {\n",
       "            VEGA_DEBUG[key] = version;\n",
       "            return resolve(paths[lib]);\n",
       "          };\n",
       "          s.onerror = () => reject(`Error loading script: ${paths[lib]}`);\n",
       "          s.src = paths[lib];\n",
       "        });\n",
       "    }\n",
       "\n",
       "    function showError(err) {\n",
       "      outputDiv.innerHTML = `<div class=\"error\" style=\"color:red;\">${err}</div>`;\n",
       "      throw err;\n",
       "    }\n",
       "\n",
       "    function displayChart(vegaEmbed) {\n",
       "      vegaEmbed(outputDiv, spec, embedOpt)\n",
       "        .catch(err => showError(`Javascript Error: ${err.message}<br>This usually means there's a typo in your chart specification. See the javascript console for the full traceback.`));\n",
       "    }\n",
       "\n",
       "    if(typeof define === \"function\" && define.amd) {\n",
       "      requirejs.config({paths});\n",
       "      let deps = [\"vega-embed\"];\n",
       "      require(deps, displayChart, err => showError(`Error loading script: ${err.message}`));\n",
       "    } else {\n",
       "      maybeLoadScript(\"vega\", \"5\")\n",
       "        .then(() => maybeLoadScript(\"vega-lite\", \"5.20.1\"))\n",
       "        .then(() => maybeLoadScript(\"vega-embed\", \"6\"))\n",
       "        .catch(showError)\n",
       "        .then(() => displayChart(vegaEmbed));\n",
       "    }\n",
       "  })({\"config\": {\"axisLeft\": {\"labelFontSize\": 15}, \"axisBottom\": {\"labelFontSize\": 15}}, \"data\": {\"name\": \"data-79da25905678b321b909c0cb116036dd\"}, \"mark\": {\"type\": \"bar\"}, \"encoding\": {\"color\": {\"field\": \"author_association\", \"scale\": {\"domain\": [\"MEMBER\", \"CONTRIBUTOR\", \"COLLABORATOR\", \"NONE\"], \"range\": [\"rgb(211.82745098039214, 211.82745098039214, 211.82745098039214)\", \"rgb(166.98562091503268, 229.89803921568628, 166.98562091503268)\", \"rgb(96.37647058823529, 192.75294117647059, 96.37647058823529)\", \"rgb(0.0, 100.3921568627451, 0.0)\"]}, \"type\": \"nominal\"}, \"x\": {\"field\": \"username\", \"type\": \"nominal\"}, \"y\": {\"field\": \"authored\", \"type\": \"quantitative\"}}, \"title\": \"PR authors for jupyter-server in the last 90 days\", \"$schema\": \"https://vega.github.io/schema/vega-lite/v5.20.1.json\", \"datasets\": {\"data-79da25905678b321b909c0cb116036dd\": [{\"username\": \"davidbrochart\", \"authored\": 46, \"author_association\": \"COLLABORATOR\"}, {\"username\": \"pre-commit-ci[bot]\", \"authored\": 23, \"author_association\": \"CONTRIBUTOR\"}, {\"username\": \"krassowski\", \"authored\": 4, \"author_association\": \"COLLABORATOR\"}, {\"username\": \"Zsailer\", \"authored\": 4, \"author_association\": \"MEMBER\"}, {\"username\": \"kjayan\", \"authored\": 3, \"author_association\": \"CONTRIBUTOR\"}, {\"username\": \"rakhmaevao\", \"authored\": 2, \"author_association\": \"NONE\"}, {\"username\": \"asmita-sharma1625\", \"authored\": 2, \"author_association\": \"CONTRIBUTOR\"}, {\"username\": \"jtpio\", \"authored\": 2, \"author_association\": \"MEMBER\"}, {\"username\": \"Darshan808\", \"authored\": 2, \"author_association\": \"CONTRIBUTOR\"}, {\"username\": \"RRosio\", \"authored\": 1, \"author_association\": \"CONTRIBUTOR\"}, {\"username\": \"MaicoTimmerman\", \"authored\": 1, \"author_association\": \"CONTRIBUTOR\"}, {\"username\": \"0Hughman0\", \"authored\": 1, \"author_association\": \"CONTRIBUTOR\"}, {\"username\": \"andrii-i\", \"authored\": 1, \"author_association\": \"COLLABORATOR\"}, {\"username\": \"fcollonval\", \"authored\": 1, \"author_association\": \"MEMBER\"}, {\"username\": \"dlqqq\", \"authored\": 1, \"author_association\": \"CONTRIBUTOR\"}, {\"username\": \"ark-1\", \"authored\": 1, \"author_association\": \"CONTRIBUTOR\"}, {\"username\": \"astitv-sh\", \"authored\": 1, \"author_association\": \"COLLABORATOR\"}, {\"username\": \"martenrichter\", \"authored\": 1, \"author_association\": \"CONTRIBUTOR\"}, {\"username\": \"manics\", \"authored\": 1, \"author_association\": \"CONTRIBUTOR\"}, {\"username\": \"ojarjur\", \"authored\": 1, \"author_association\": \"CONTRIBUTOR\"}, {\"username\": \"minrk\", \"authored\": 1, \"author_association\": \"CONTRIBUTOR\"}]}}, {\"mode\": \"vega-lite\"});\n",
       "</script>"
      ],
      "text/plain": [
       "alt.Chart(...)"
      ]
     },
     "execution_count": 13,
     "metadata": {},
     "output_type": "execute_result"
    }
   ],
   "source": [
    "charts = []\n",
    "title = f\"PR authors for {github_org} in the last {n_days} days\"\n",
    "this_data = merged_by_repo.replace(np.nan, 0).groupby('username', as_index=False).agg({'authored': 'sum', 'author_association': 'first'})\n",
    "this_data = this_data.sort_values('authored', ascending=False)\n",
    "ch = alt.Chart(data=this_data, title=title).mark_bar().encode(\n",
    "    x='username',\n",
    "    y='authored',\n",
    "    color=alt.Color('author_association', scale=alt.Scale(domain=author_types, range=author_colors))\n",
    ")\n",
    "ch"
   ]
  },
  {
   "cell_type": "code",
   "execution_count": 14,
   "id": "b46802d5",
   "metadata": {
    "editable": true,
    "execution": {
     "iopub.execute_input": "2025-05-15T01:30:53.756007Z",
     "iopub.status.busy": "2025-05-15T01:30:53.755605Z",
     "iopub.status.idle": "2025-05-15T01:30:53.773365Z",
     "shell.execute_reply": "2025-05-15T01:30:53.772718Z"
    },
    "papermill": {
     "duration": 0.034338,
     "end_time": "2025-05-15T01:30:53.774423",
     "exception": false,
     "start_time": "2025-05-15T01:30:53.740085",
     "status": "completed"
    },
    "slideshow": {
     "slide_type": ""
    },
    "tags": [
     "hide_input"
    ]
   },
   "outputs": [
    {
     "data": {
      "text/html": [
       "\n",
       "<style>\n",
       "  #altair-viz-567bff3b7be943879646e6570731ab86.vega-embed {\n",
       "    width: 100%;\n",
       "    display: flex;\n",
       "  }\n",
       "\n",
       "  #altair-viz-567bff3b7be943879646e6570731ab86.vega-embed details,\n",
       "  #altair-viz-567bff3b7be943879646e6570731ab86.vega-embed details summary {\n",
       "    position: relative;\n",
       "  }\n",
       "</style>\n",
       "<div id=\"altair-viz-567bff3b7be943879646e6570731ab86\"></div>\n",
       "<script type=\"text/javascript\">\n",
       "  var VEGA_DEBUG = (typeof VEGA_DEBUG == \"undefined\") ? {} : VEGA_DEBUG;\n",
       "  (function(spec, embedOpt){\n",
       "    let outputDiv = document.currentScript.previousElementSibling;\n",
       "    if (outputDiv.id !== \"altair-viz-567bff3b7be943879646e6570731ab86\") {\n",
       "      outputDiv = document.getElementById(\"altair-viz-567bff3b7be943879646e6570731ab86\");\n",
       "    }\n",
       "\n",
       "    const paths = {\n",
       "      \"vega\": \"https://cdn.jsdelivr.net/npm/vega@5?noext\",\n",
       "      \"vega-lib\": \"https://cdn.jsdelivr.net/npm/vega-lib?noext\",\n",
       "      \"vega-lite\": \"https://cdn.jsdelivr.net/npm/vega-lite@5.20.1?noext\",\n",
       "      \"vega-embed\": \"https://cdn.jsdelivr.net/npm/vega-embed@6?noext\",\n",
       "    };\n",
       "\n",
       "    function maybeLoadScript(lib, version) {\n",
       "      var key = `${lib.replace(\"-\", \"\")}_version`;\n",
       "      return (VEGA_DEBUG[key] == version) ?\n",
       "        Promise.resolve(paths[lib]) :\n",
       "        new Promise(function(resolve, reject) {\n",
       "          var s = document.createElement('script');\n",
       "          document.getElementsByTagName(\"head\")[0].appendChild(s);\n",
       "          s.async = true;\n",
       "          s.onload = () => {\n",
       "            VEGA_DEBUG[key] = version;\n",
       "            return resolve(paths[lib]);\n",
       "          };\n",
       "          s.onerror = () => reject(`Error loading script: ${paths[lib]}`);\n",
       "          s.src = paths[lib];\n",
       "        });\n",
       "    }\n",
       "\n",
       "    function showError(err) {\n",
       "      outputDiv.innerHTML = `<div class=\"error\" style=\"color:red;\">${err}</div>`;\n",
       "      throw err;\n",
       "    }\n",
       "\n",
       "    function displayChart(vegaEmbed) {\n",
       "      vegaEmbed(outputDiv, spec, embedOpt)\n",
       "        .catch(err => showError(`Javascript Error: ${err.message}<br>This usually means there's a typo in your chart specification. See the javascript console for the full traceback.`));\n",
       "    }\n",
       "\n",
       "    if(typeof define === \"function\" && define.amd) {\n",
       "      requirejs.config({paths});\n",
       "      let deps = [\"vega-embed\"];\n",
       "      require(deps, displayChart, err => showError(`Error loading script: ${err.message}`));\n",
       "    } else {\n",
       "      maybeLoadScript(\"vega\", \"5\")\n",
       "        .then(() => maybeLoadScript(\"vega-lite\", \"5.20.1\"))\n",
       "        .then(() => maybeLoadScript(\"vega-embed\", \"6\"))\n",
       "        .catch(showError)\n",
       "        .then(() => displayChart(vegaEmbed));\n",
       "    }\n",
       "  })({\"config\": {\"axisLeft\": {\"labelFontSize\": 15}, \"axisBottom\": {\"labelFontSize\": 15}}, \"data\": {\"name\": \"data-f0e370880404610d6fb046f53ec0c54e\"}, \"mark\": {\"type\": \"bar\"}, \"encoding\": {\"x\": {\"field\": \"username\", \"type\": \"nominal\"}, \"y\": {\"field\": \"closed\", \"type\": \"quantitative\"}}, \"title\": \"Users that have merged PRs for jupyter-server in the last 90 days\", \"$schema\": \"https://vega.github.io/schema/vega-lite/v5.20.1.json\", \"datasets\": {\"data-f0e370880404610d6fb046f53ec0c54e\": [{\"name\": \"fps\", \"username\": \"Zsailer\", \"closed\": 2}, {\"name\": \"fps\", \"username\": \"davidbrochart\", \"closed\": 26}, {\"name\": \"jupyter-scheduler\", \"username\": \"andrii-i\", \"closed\": 4}, {\"name\": \"jupyter_releaser\", \"username\": \"jtpio\", \"closed\": 3}, {\"name\": \"jupyter_releaser\", \"username\": \"krassowski\", \"closed\": 2}, {\"name\": \"jupyter_server\", \"username\": \"Zsailer\", \"closed\": 5}, {\"name\": \"jupyter_server\", \"username\": \"afshin\", \"closed\": 3}, {\"name\": \"jupyter_server\", \"username\": \"minrk\", \"closed\": 1}, {\"name\": \"jupyter_server\", \"username\": \"vidartf\", \"closed\": 2}, {\"name\": \"jupyter_server_terminals\", \"username\": \"Zsailer\", \"closed\": 1}, {\"name\": \"jupyter_ydoc\", \"username\": \"davidbrochart\", \"closed\": 12}, {\"name\": \"jupyter_ydoc\", \"username\": \"fcollonval\", \"closed\": 1}, {\"name\": \"jupyter_ydoc\", \"username\": \"krassowski\", \"closed\": 1}, {\"name\": \"jupyverse\", \"username\": \"davidbrochart\", \"closed\": 34}, {\"name\": \"jupyverse\", \"username\": \"rakhmaevao\", \"closed\": 1}, {\"name\": \"pytest-jupyter\", \"username\": \"minrk\", \"closed\": 2}]}}, {\"mode\": \"vega-lite\"});\n",
       "</script>"
      ],
      "text/plain": [
       "alt.Chart(...)"
      ]
     },
     "execution_count": 14,
     "metadata": {},
     "output_type": "execute_result"
    }
   ],
   "source": [
    "charts = []\n",
    "title = f\"Users that have merged PRs for {github_org} in the last {n_days} days\"\n",
    "ch = alt.Chart(data=closed_by_repo.replace(np.nan, 0), title=title).mark_bar().encode(\n",
    "    x='username',\n",
    "    y='closed',\n",
    ")\n",
    "ch"
   ]
  },
  {
   "cell_type": "markdown",
   "id": "99d65c77",
   "metadata": {
    "editable": true,
    "papermill": {
     "duration": 0.015818,
     "end_time": "2025-05-15T01:30:53.805844",
     "exception": false,
     "start_time": "2025-05-15T01:30:53.790026",
     "status": "completed"
    },
    "slideshow": {
     "slide_type": ""
    },
    "tags": []
   },
   "source": [
    "## Issues\n",
    "\n",
    "Issues are **conversations** that happen on our GitHub repositories. Here's an\n",
    "analysis of issues across the Jupyter organizations."
   ]
  },
  {
   "cell_type": "code",
   "execution_count": 15,
   "id": "f80faadc",
   "metadata": {
    "editable": true,
    "execution": {
     "iopub.execute_input": "2025-05-15T01:30:53.837016Z",
     "iopub.status.busy": "2025-05-15T01:30:53.836827Z",
     "iopub.status.idle": "2025-05-15T01:30:53.853539Z",
     "shell.execute_reply": "2025-05-15T01:30:53.853048Z"
    },
    "papermill": {
     "duration": 0.033553,
     "end_time": "2025-05-15T01:30:53.854578",
     "exception": false,
     "start_time": "2025-05-15T01:30:53.821025",
     "status": "completed"
    },
    "slideshow": {
     "slide_type": ""
    },
    "tags": [
     "remove_cell"
    ]
   },
   "outputs": [],
   "source": [
    "created = issues.query('state == \"open\" and created_at > @start_date and created_at < @stop_date')\n",
    "closed = issues.query('state == \"closed\" and closed_at > @start_date and closed_at < @stop_date')"
   ]
  },
  {
   "cell_type": "code",
   "execution_count": 16,
   "id": "93462524",
   "metadata": {
    "editable": true,
    "execution": {
     "iopub.execute_input": "2025-05-15T01:30:53.885747Z",
     "iopub.status.busy": "2025-05-15T01:30:53.885488Z",
     "iopub.status.idle": "2025-05-15T01:30:53.907276Z",
     "shell.execute_reply": "2025-05-15T01:30:53.906610Z"
    },
    "papermill": {
     "duration": 0.038631,
     "end_time": "2025-05-15T01:30:53.908420",
     "exception": false,
     "start_time": "2025-05-15T01:30:53.869789",
     "status": "completed"
    },
    "slideshow": {
     "slide_type": ""
    },
    "tags": [
     "hide_input"
    ]
   },
   "outputs": [
    {
     "data": {
      "text/html": [
       "\n",
       "<style>\n",
       "  #altair-viz-0bfb03b45dbe48a0b5146bb56cc9055e.vega-embed {\n",
       "    width: 100%;\n",
       "    display: flex;\n",
       "  }\n",
       "\n",
       "  #altair-viz-0bfb03b45dbe48a0b5146bb56cc9055e.vega-embed details,\n",
       "  #altair-viz-0bfb03b45dbe48a0b5146bb56cc9055e.vega-embed details summary {\n",
       "    position: relative;\n",
       "  }\n",
       "</style>\n",
       "<div id=\"altair-viz-0bfb03b45dbe48a0b5146bb56cc9055e\"></div>\n",
       "<script type=\"text/javascript\">\n",
       "  var VEGA_DEBUG = (typeof VEGA_DEBUG == \"undefined\") ? {} : VEGA_DEBUG;\n",
       "  (function(spec, embedOpt){\n",
       "    let outputDiv = document.currentScript.previousElementSibling;\n",
       "    if (outputDiv.id !== \"altair-viz-0bfb03b45dbe48a0b5146bb56cc9055e\") {\n",
       "      outputDiv = document.getElementById(\"altair-viz-0bfb03b45dbe48a0b5146bb56cc9055e\");\n",
       "    }\n",
       "\n",
       "    const paths = {\n",
       "      \"vega\": \"https://cdn.jsdelivr.net/npm/vega@5?noext\",\n",
       "      \"vega-lib\": \"https://cdn.jsdelivr.net/npm/vega-lib?noext\",\n",
       "      \"vega-lite\": \"https://cdn.jsdelivr.net/npm/vega-lite@5.20.1?noext\",\n",
       "      \"vega-embed\": \"https://cdn.jsdelivr.net/npm/vega-embed@6?noext\",\n",
       "    };\n",
       "\n",
       "    function maybeLoadScript(lib, version) {\n",
       "      var key = `${lib.replace(\"-\", \"\")}_version`;\n",
       "      return (VEGA_DEBUG[key] == version) ?\n",
       "        Promise.resolve(paths[lib]) :\n",
       "        new Promise(function(resolve, reject) {\n",
       "          var s = document.createElement('script');\n",
       "          document.getElementsByTagName(\"head\")[0].appendChild(s);\n",
       "          s.async = true;\n",
       "          s.onload = () => {\n",
       "            VEGA_DEBUG[key] = version;\n",
       "            return resolve(paths[lib]);\n",
       "          };\n",
       "          s.onerror = () => reject(`Error loading script: ${paths[lib]}`);\n",
       "          s.src = paths[lib];\n",
       "        });\n",
       "    }\n",
       "\n",
       "    function showError(err) {\n",
       "      outputDiv.innerHTML = `<div class=\"error\" style=\"color:red;\">${err}</div>`;\n",
       "      throw err;\n",
       "    }\n",
       "\n",
       "    function displayChart(vegaEmbed) {\n",
       "      vegaEmbed(outputDiv, spec, embedOpt)\n",
       "        .catch(err => showError(`Javascript Error: ${err.message}<br>This usually means there's a typo in your chart specification. See the javascript console for the full traceback.`));\n",
       "    }\n",
       "\n",
       "    if(typeof define === \"function\" && define.amd) {\n",
       "      requirejs.config({paths});\n",
       "      let deps = [\"vega-embed\"];\n",
       "      require(deps, displayChart, err => showError(`Error loading script: ${err.message}`));\n",
       "    } else {\n",
       "      maybeLoadScript(\"vega\", \"5\")\n",
       "        .then(() => maybeLoadScript(\"vega-lite\", \"5.20.1\"))\n",
       "        .then(() => maybeLoadScript(\"vega-embed\", \"6\"))\n",
       "        .catch(showError)\n",
       "        .then(() => displayChart(vegaEmbed));\n",
       "    }\n",
       "  })({\"config\": {\"axisLeft\": {\"labelFontSize\": 15}, \"axisBottom\": {\"labelFontSize\": 15}}, \"data\": {\"name\": \"data-70bcc2a97f1d31289e144222ab6f6cc8\"}, \"mark\": {\"type\": \"bar\"}, \"encoding\": {\"x\": {\"field\": \"repo\", \"sort\": [\"jupyter-scheduler\", \"jupyter-resource-usage\", \"jupyter_server\", \"enterprise_gateway\", \"team-compass\", \"gateway_provisioners\", \"jupyter_releaser\", \"kernel_gateway\"], \"type\": \"nominal\"}, \"y\": {\"field\": \"number\", \"type\": \"quantitative\"}}, \"title\": \"Issues created in the last 90 days\", \"$schema\": \"https://vega.github.io/schema/vega-lite/v5.20.1.json\", \"datasets\": {\"data-70bcc2a97f1d31289e144222ab6f6cc8\": [{\"org\": \"jupyter-server\", \"repo\": \"enterprise_gateway\", \"number\": 2, \"org/repo\": \"jupyter-server/enterprise_gateway\"}, {\"org\": \"jupyter-server\", \"repo\": \"gateway_provisioners\", \"number\": 1, \"org/repo\": \"jupyter-server/gateway_provisioners\"}, {\"org\": \"jupyter-server\", \"repo\": \"jupyter-resource-usage\", \"number\": 4, \"org/repo\": \"jupyter-server/jupyter-resource-usage\"}, {\"org\": \"jupyter-server\", \"repo\": \"jupyter-scheduler\", \"number\": 5, \"org/repo\": \"jupyter-server/jupyter-scheduler\"}, {\"org\": \"jupyter-server\", \"repo\": \"jupyter_releaser\", \"number\": 1, \"org/repo\": \"jupyter-server/jupyter_releaser\"}, {\"org\": \"jupyter-server\", \"repo\": \"jupyter_server\", \"number\": 4, \"org/repo\": \"jupyter-server/jupyter_server\"}, {\"org\": \"jupyter-server\", \"repo\": \"kernel_gateway\", \"number\": 1, \"org/repo\": \"jupyter-server/kernel_gateway\"}, {\"org\": \"jupyter-server\", \"repo\": \"team-compass\", \"number\": 2, \"org/repo\": \"jupyter-server/team-compass\"}]}}, {\"mode\": \"vega-lite\"});\n",
       "</script>"
      ],
      "text/plain": [
       "alt.Chart(...)"
      ]
     },
     "execution_count": 16,
     "metadata": {},
     "output_type": "execute_result"
    }
   ],
   "source": [
    "created_counts = created.groupby(['org', 'repo']).count()['number'].reset_index()\n",
    "created_counts['org/repo'] = created_counts.apply(lambda a: a['org'] + '/' + a['repo'], axis=1)\n",
    "sorted_vals = created_counts.sort_values(['org', 'number'], ascending=False)['repo'].values\n",
    "alt.Chart(data=created_counts, title=f\"Issues created in the last {n_days} days\").mark_bar().encode(\n",
    "    x=alt.X('repo', sort=alt.Sort(sorted_vals.tolist())),\n",
    "    y='number',\n",
    ")"
   ]
  },
  {
   "cell_type": "code",
   "execution_count": 17,
   "id": "1ad24769",
   "metadata": {
    "editable": true,
    "execution": {
     "iopub.execute_input": "2025-05-15T01:30:53.941676Z",
     "iopub.status.busy": "2025-05-15T01:30:53.941202Z",
     "iopub.status.idle": "2025-05-15T01:30:53.961283Z",
     "shell.execute_reply": "2025-05-15T01:30:53.960730Z"
    },
    "papermill": {
     "duration": 0.037855,
     "end_time": "2025-05-15T01:30:53.962296",
     "exception": false,
     "start_time": "2025-05-15T01:30:53.924441",
     "status": "completed"
    },
    "slideshow": {
     "slide_type": ""
    },
    "tags": [
     "hide_input"
    ]
   },
   "outputs": [
    {
     "data": {
      "text/html": [
       "\n",
       "<style>\n",
       "  #altair-viz-8277c614d47c46e5af1721690d337f9a.vega-embed {\n",
       "    width: 100%;\n",
       "    display: flex;\n",
       "  }\n",
       "\n",
       "  #altair-viz-8277c614d47c46e5af1721690d337f9a.vega-embed details,\n",
       "  #altair-viz-8277c614d47c46e5af1721690d337f9a.vega-embed details summary {\n",
       "    position: relative;\n",
       "  }\n",
       "</style>\n",
       "<div id=\"altair-viz-8277c614d47c46e5af1721690d337f9a\"></div>\n",
       "<script type=\"text/javascript\">\n",
       "  var VEGA_DEBUG = (typeof VEGA_DEBUG == \"undefined\") ? {} : VEGA_DEBUG;\n",
       "  (function(spec, embedOpt){\n",
       "    let outputDiv = document.currentScript.previousElementSibling;\n",
       "    if (outputDiv.id !== \"altair-viz-8277c614d47c46e5af1721690d337f9a\") {\n",
       "      outputDiv = document.getElementById(\"altair-viz-8277c614d47c46e5af1721690d337f9a\");\n",
       "    }\n",
       "\n",
       "    const paths = {\n",
       "      \"vega\": \"https://cdn.jsdelivr.net/npm/vega@5?noext\",\n",
       "      \"vega-lib\": \"https://cdn.jsdelivr.net/npm/vega-lib?noext\",\n",
       "      \"vega-lite\": \"https://cdn.jsdelivr.net/npm/vega-lite@5.20.1?noext\",\n",
       "      \"vega-embed\": \"https://cdn.jsdelivr.net/npm/vega-embed@6?noext\",\n",
       "    };\n",
       "\n",
       "    function maybeLoadScript(lib, version) {\n",
       "      var key = `${lib.replace(\"-\", \"\")}_version`;\n",
       "      return (VEGA_DEBUG[key] == version) ?\n",
       "        Promise.resolve(paths[lib]) :\n",
       "        new Promise(function(resolve, reject) {\n",
       "          var s = document.createElement('script');\n",
       "          document.getElementsByTagName(\"head\")[0].appendChild(s);\n",
       "          s.async = true;\n",
       "          s.onload = () => {\n",
       "            VEGA_DEBUG[key] = version;\n",
       "            return resolve(paths[lib]);\n",
       "          };\n",
       "          s.onerror = () => reject(`Error loading script: ${paths[lib]}`);\n",
       "          s.src = paths[lib];\n",
       "        });\n",
       "    }\n",
       "\n",
       "    function showError(err) {\n",
       "      outputDiv.innerHTML = `<div class=\"error\" style=\"color:red;\">${err}</div>`;\n",
       "      throw err;\n",
       "    }\n",
       "\n",
       "    function displayChart(vegaEmbed) {\n",
       "      vegaEmbed(outputDiv, spec, embedOpt)\n",
       "        .catch(err => showError(`Javascript Error: ${err.message}<br>This usually means there's a typo in your chart specification. See the javascript console for the full traceback.`));\n",
       "    }\n",
       "\n",
       "    if(typeof define === \"function\" && define.amd) {\n",
       "      requirejs.config({paths});\n",
       "      let deps = [\"vega-embed\"];\n",
       "      require(deps, displayChart, err => showError(`Error loading script: ${err.message}`));\n",
       "    } else {\n",
       "      maybeLoadScript(\"vega\", \"5\")\n",
       "        .then(() => maybeLoadScript(\"vega-lite\", \"5.20.1\"))\n",
       "        .then(() => maybeLoadScript(\"vega-embed\", \"6\"))\n",
       "        .catch(showError)\n",
       "        .then(() => displayChart(vegaEmbed));\n",
       "    }\n",
       "  })({\"config\": {\"axisLeft\": {\"labelFontSize\": 15}, \"axisBottom\": {\"labelFontSize\": 15}}, \"data\": {\"name\": \"data-c275f4e64632f0cc7fbd767998c521b8\"}, \"mark\": {\"type\": \"bar\"}, \"encoding\": {\"x\": {\"field\": \"repo\", \"sort\": [\"jupyter_server\", \"jupyter-scheduler\", \"fps\", \"jupyverse\", \"enterprise_gateway\", \"jupyter_releaser\", \"team-compass\"], \"type\": \"nominal\"}, \"y\": {\"field\": \"number\", \"type\": \"quantitative\"}}, \"title\": \"Issues closed in the last 90 days\", \"$schema\": \"https://vega.github.io/schema/vega-lite/v5.20.1.json\", \"datasets\": {\"data-c275f4e64632f0cc7fbd767998c521b8\": [{\"org\": \"jupyter-server\", \"repo\": \"enterprise_gateway\", \"number\": 2, \"org/repo\": \"jupyter-server/enterprise_gateway\"}, {\"org\": \"jupyter-server\", \"repo\": \"fps\", \"number\": 3, \"org/repo\": \"jupyter-server/fps\"}, {\"org\": \"jupyter-server\", \"repo\": \"jupyter-scheduler\", \"number\": 3, \"org/repo\": \"jupyter-server/jupyter-scheduler\"}, {\"org\": \"jupyter-server\", \"repo\": \"jupyter_releaser\", \"number\": 2, \"org/repo\": \"jupyter-server/jupyter_releaser\"}, {\"org\": \"jupyter-server\", \"repo\": \"jupyter_server\", \"number\": 9, \"org/repo\": \"jupyter-server/jupyter_server\"}, {\"org\": \"jupyter-server\", \"repo\": \"jupyverse\", \"number\": 3, \"org/repo\": \"jupyter-server/jupyverse\"}, {\"org\": \"jupyter-server\", \"repo\": \"team-compass\", \"number\": 1, \"org/repo\": \"jupyter-server/team-compass\"}]}}, {\"mode\": \"vega-lite\"});\n",
       "</script>"
      ],
      "text/plain": [
       "alt.Chart(...)"
      ]
     },
     "execution_count": 17,
     "metadata": {},
     "output_type": "execute_result"
    }
   ],
   "source": [
    "closed_counts = closed.groupby(['org', 'repo']).count()['number'].reset_index()\n",
    "closed_counts['org/repo'] = closed_counts.apply(lambda a: a['org'] + '/' + a['repo'], axis=1)\n",
    "sorted_vals = closed_counts.sort_values(['number'], ascending=False)['repo'].values\n",
    "alt.Chart(data=closed_counts, title=f\"Issues closed in the last {n_days} days\").mark_bar().encode(\n",
    "    x=alt.X('repo', sort=alt.Sort(sorted_vals.tolist())),\n",
    "    y='number',\n",
    ")"
   ]
  },
  {
   "cell_type": "code",
   "execution_count": 18,
   "id": "09c66c4d",
   "metadata": {
    "editable": true,
    "execution": {
     "iopub.execute_input": "2025-05-15T01:30:53.994449Z",
     "iopub.status.busy": "2025-05-15T01:30:53.994103Z",
     "iopub.status.idle": "2025-05-15T01:30:54.003717Z",
     "shell.execute_reply": "2025-05-15T01:30:54.003151Z"
    },
    "papermill": {
     "duration": 0.026874,
     "end_time": "2025-05-15T01:30:54.004746",
     "exception": false,
     "start_time": "2025-05-15T01:30:53.977872",
     "status": "completed"
    },
    "slideshow": {
     "slide_type": ""
    },
    "tags": [
     "remove_cell"
    ]
   },
   "outputs": [],
   "source": [
    "created_closed = pd.merge(created_counts.rename(columns={'number': 'created'}).drop(columns='org/repo'),\n",
    "                          closed_counts.rename(columns={'number': 'closed'}).drop(columns='org/repo'),\n",
    "                          on=['org', 'repo'], how='outer')\n",
    "\n",
    "created_closed = pd.melt(created_closed, id_vars=['org', 'repo'], var_name=\"kind\", value_name=\"count\").replace(np.nan, 0)"
   ]
  },
  {
   "cell_type": "code",
   "execution_count": 19,
   "id": "13fb20a6",
   "metadata": {
    "editable": true,
    "execution": {
     "iopub.execute_input": "2025-05-15T01:30:54.036675Z",
     "iopub.status.busy": "2025-05-15T01:30:54.036475Z",
     "iopub.status.idle": "2025-05-15T01:30:54.059690Z",
     "shell.execute_reply": "2025-05-15T01:30:54.059133Z"
    },
    "papermill": {
     "duration": 0.040271,
     "end_time": "2025-05-15T01:30:54.060688",
     "exception": false,
     "start_time": "2025-05-15T01:30:54.020417",
     "status": "completed"
    },
    "scrolled": true,
    "slideshow": {
     "slide_type": ""
    },
    "tags": [
     "hide_input"
    ]
   },
   "outputs": [
    {
     "data": {
      "text/html": [
       "\n",
       "<style>\n",
       "  #altair-viz-c2daff7490a24e08870d62ba79661d4a.vega-embed {\n",
       "    width: 100%;\n",
       "    display: flex;\n",
       "  }\n",
       "\n",
       "  #altair-viz-c2daff7490a24e08870d62ba79661d4a.vega-embed details,\n",
       "  #altair-viz-c2daff7490a24e08870d62ba79661d4a.vega-embed details summary {\n",
       "    position: relative;\n",
       "  }\n",
       "</style>\n",
       "<div id=\"altair-viz-c2daff7490a24e08870d62ba79661d4a\"></div>\n",
       "<script type=\"text/javascript\">\n",
       "  var VEGA_DEBUG = (typeof VEGA_DEBUG == \"undefined\") ? {} : VEGA_DEBUG;\n",
       "  (function(spec, embedOpt){\n",
       "    let outputDiv = document.currentScript.previousElementSibling;\n",
       "    if (outputDiv.id !== \"altair-viz-c2daff7490a24e08870d62ba79661d4a\") {\n",
       "      outputDiv = document.getElementById(\"altair-viz-c2daff7490a24e08870d62ba79661d4a\");\n",
       "    }\n",
       "\n",
       "    const paths = {\n",
       "      \"vega\": \"https://cdn.jsdelivr.net/npm/vega@5?noext\",\n",
       "      \"vega-lib\": \"https://cdn.jsdelivr.net/npm/vega-lib?noext\",\n",
       "      \"vega-lite\": \"https://cdn.jsdelivr.net/npm/vega-lite@5.20.1?noext\",\n",
       "      \"vega-embed\": \"https://cdn.jsdelivr.net/npm/vega-embed@6?noext\",\n",
       "    };\n",
       "\n",
       "    function maybeLoadScript(lib, version) {\n",
       "      var key = `${lib.replace(\"-\", \"\")}_version`;\n",
       "      return (VEGA_DEBUG[key] == version) ?\n",
       "        Promise.resolve(paths[lib]) :\n",
       "        new Promise(function(resolve, reject) {\n",
       "          var s = document.createElement('script');\n",
       "          document.getElementsByTagName(\"head\")[0].appendChild(s);\n",
       "          s.async = true;\n",
       "          s.onload = () => {\n",
       "            VEGA_DEBUG[key] = version;\n",
       "            return resolve(paths[lib]);\n",
       "          };\n",
       "          s.onerror = () => reject(`Error loading script: ${paths[lib]}`);\n",
       "          s.src = paths[lib];\n",
       "        });\n",
       "    }\n",
       "\n",
       "    function showError(err) {\n",
       "      outputDiv.innerHTML = `<div class=\"error\" style=\"color:red;\">${err}</div>`;\n",
       "      throw err;\n",
       "    }\n",
       "\n",
       "    function displayChart(vegaEmbed) {\n",
       "      vegaEmbed(outputDiv, spec, embedOpt)\n",
       "        .catch(err => showError(`Javascript Error: ${err.message}<br>This usually means there's a typo in your chart specification. See the javascript console for the full traceback.`));\n",
       "    }\n",
       "\n",
       "    if(typeof define === \"function\" && define.amd) {\n",
       "      requirejs.config({paths});\n",
       "      let deps = [\"vega-embed\"];\n",
       "      require(deps, displayChart, err => showError(`Error loading script: ${err.message}`));\n",
       "    } else {\n",
       "      maybeLoadScript(\"vega\", \"5\")\n",
       "        .then(() => maybeLoadScript(\"vega-lite\", \"5.20.1\"))\n",
       "        .then(() => maybeLoadScript(\"vega-embed\", \"6\"))\n",
       "        .catch(showError)\n",
       "        .then(() => displayChart(vegaEmbed));\n",
       "    }\n",
       "  })({\"config\": {\"axisLeft\": {\"labelFontSize\": 15}, \"axisBottom\": {\"labelFontSize\": 15}}, \"data\": {\"name\": \"data-69744d77d1060f3c3d8699d034557e5a\"}, \"mark\": {\"type\": \"bar\"}, \"encoding\": {\"color\": {\"field\": \"kind\", \"type\": \"nominal\"}, \"column\": {\"field\": \"repo\", \"header\": {\"labelFontSize\": 12, \"title\": \"Issue activity, last 90 days for jupyter-server\", \"titleFontSize\": 15}, \"type\": \"nominal\"}, \"x\": {\"axis\": {\"labelFontSize\": 15, \"title\": \"\"}, \"field\": \"kind\", \"type\": \"nominal\"}, \"y\": {\"axis\": {\"labelFontSize\": 12, \"titleFontSize\": 15}, \"field\": \"count\", \"type\": \"quantitative\"}}, \"width\": 120, \"$schema\": \"https://vega.github.io/schema/vega-lite/v5.20.1.json\", \"datasets\": {\"data-69744d77d1060f3c3d8699d034557e5a\": [{\"org\": \"jupyter-server\", \"repo\": \"enterprise_gateway\", \"kind\": \"created\", \"count\": 2.0}, {\"org\": \"jupyter-server\", \"repo\": \"fps\", \"kind\": \"created\", \"count\": 0.0}, {\"org\": \"jupyter-server\", \"repo\": \"gateway_provisioners\", \"kind\": \"created\", \"count\": 1.0}, {\"org\": \"jupyter-server\", \"repo\": \"jupyter-resource-usage\", \"kind\": \"created\", \"count\": 4.0}, {\"org\": \"jupyter-server\", \"repo\": \"jupyter-scheduler\", \"kind\": \"created\", \"count\": 5.0}, {\"org\": \"jupyter-server\", \"repo\": \"jupyter_releaser\", \"kind\": \"created\", \"count\": 1.0}, {\"org\": \"jupyter-server\", \"repo\": \"jupyter_server\", \"kind\": \"created\", \"count\": 4.0}, {\"org\": \"jupyter-server\", \"repo\": \"jupyverse\", \"kind\": \"created\", \"count\": 0.0}, {\"org\": \"jupyter-server\", \"repo\": \"kernel_gateway\", \"kind\": \"created\", \"count\": 1.0}, {\"org\": \"jupyter-server\", \"repo\": \"team-compass\", \"kind\": \"created\", \"count\": 2.0}, {\"org\": \"jupyter-server\", \"repo\": \"enterprise_gateway\", \"kind\": \"closed\", \"count\": 2.0}, {\"org\": \"jupyter-server\", \"repo\": \"fps\", \"kind\": \"closed\", \"count\": 3.0}, {\"org\": \"jupyter-server\", \"repo\": \"gateway_provisioners\", \"kind\": \"closed\", \"count\": 0.0}, {\"org\": \"jupyter-server\", \"repo\": \"jupyter-resource-usage\", \"kind\": \"closed\", \"count\": 0.0}, {\"org\": \"jupyter-server\", \"repo\": \"jupyter-scheduler\", \"kind\": \"closed\", \"count\": 3.0}, {\"org\": \"jupyter-server\", \"repo\": \"jupyter_releaser\", \"kind\": \"closed\", \"count\": 2.0}, {\"org\": \"jupyter-server\", \"repo\": \"jupyter_server\", \"kind\": \"closed\", \"count\": 9.0}, {\"org\": \"jupyter-server\", \"repo\": \"jupyverse\", \"kind\": \"closed\", \"count\": 3.0}, {\"org\": \"jupyter-server\", \"repo\": \"kernel_gateway\", \"kind\": \"closed\", \"count\": 0.0}, {\"org\": \"jupyter-server\", \"repo\": \"team-compass\", \"kind\": \"closed\", \"count\": 1.0}]}}, {\"mode\": \"vega-lite\"});\n",
       "</script>"
      ],
      "text/plain": [
       "alt.Chart(...)"
      ]
     },
     "execution_count": 19,
     "metadata": {},
     "output_type": "execute_result"
    }
   ],
   "source": [
    "charts = []\n",
    "# Pick the top 10 repositories\n",
    "top_repos = created_closed.groupby(['repo']).sum().sort_values(by='count', ascending=False).head(10).index\n",
    "ch = alt.Chart(created_closed.query('repo in @top_repos'), width=120).mark_bar().encode(\n",
    "    x=alt.X(\"kind\", axis=alt.Axis(labelFontSize=15, title=\"\")), \n",
    "    y=alt.Y('count', axis=alt.Axis(titleFontSize=15, labelFontSize=12)),\n",
    "    color='kind',\n",
    "    column=alt.Column(\"repo\", header=alt.Header(title=f\"Issue activity, last {n_days} days for {github_org}\", titleFontSize=15, labelFontSize=12))\n",
    ")\n",
    "ch"
   ]
  },
  {
   "cell_type": "code",
   "execution_count": 20,
   "id": "e895adae",
   "metadata": {
    "editable": true,
    "execution": {
     "iopub.execute_input": "2025-05-15T01:30:54.094442Z",
     "iopub.status.busy": "2025-05-15T01:30:54.094225Z",
     "iopub.status.idle": "2025-05-15T01:30:54.100769Z",
     "shell.execute_reply": "2025-05-15T01:30:54.100187Z"
    },
    "papermill": {
     "duration": 0.024551,
     "end_time": "2025-05-15T01:30:54.101837",
     "exception": false,
     "start_time": "2025-05-15T01:30:54.077286",
     "status": "completed"
    },
    "slideshow": {
     "slide_type": ""
    },
    "tags": [
     "remove_cell"
    ]
   },
   "outputs": [],
   "source": [
    "# Set to datetime\n",
    "for kind in ['created_at', 'closed_at']:\n",
    "    closed.loc[:, kind] = pd.to_datetime(closed[kind])\n",
    "    \n",
    "closed.loc[:, 'time_open'] = closed['closed_at'] - closed['created_at']\n",
    "closed.loc[:, 'time_open'] = closed['time_open'].dt.total_seconds()"
   ]
  },
  {
   "cell_type": "code",
   "execution_count": 21,
   "id": "e16a2332",
   "metadata": {
    "editable": true,
    "execution": {
     "iopub.execute_input": "2025-05-15T01:30:54.134149Z",
     "iopub.status.busy": "2025-05-15T01:30:54.133949Z",
     "iopub.status.idle": "2025-05-15T01:30:54.152318Z",
     "shell.execute_reply": "2025-05-15T01:30:54.151774Z"
    },
    "papermill": {
     "duration": 0.035672,
     "end_time": "2025-05-15T01:30:54.153319",
     "exception": false,
     "start_time": "2025-05-15T01:30:54.117647",
     "status": "completed"
    },
    "slideshow": {
     "slide_type": ""
    },
    "tags": [
     "hide_input"
    ]
   },
   "outputs": [
    {
     "data": {
      "text/html": [
       "\n",
       "<style>\n",
       "  #altair-viz-9a043e974d6c44ab845512500b1689f7.vega-embed {\n",
       "    width: 100%;\n",
       "    display: flex;\n",
       "  }\n",
       "\n",
       "  #altair-viz-9a043e974d6c44ab845512500b1689f7.vega-embed details,\n",
       "  #altair-viz-9a043e974d6c44ab845512500b1689f7.vega-embed details summary {\n",
       "    position: relative;\n",
       "  }\n",
       "</style>\n",
       "<div id=\"altair-viz-9a043e974d6c44ab845512500b1689f7\"></div>\n",
       "<script type=\"text/javascript\">\n",
       "  var VEGA_DEBUG = (typeof VEGA_DEBUG == \"undefined\") ? {} : VEGA_DEBUG;\n",
       "  (function(spec, embedOpt){\n",
       "    let outputDiv = document.currentScript.previousElementSibling;\n",
       "    if (outputDiv.id !== \"altair-viz-9a043e974d6c44ab845512500b1689f7\") {\n",
       "      outputDiv = document.getElementById(\"altair-viz-9a043e974d6c44ab845512500b1689f7\");\n",
       "    }\n",
       "\n",
       "    const paths = {\n",
       "      \"vega\": \"https://cdn.jsdelivr.net/npm/vega@5?noext\",\n",
       "      \"vega-lib\": \"https://cdn.jsdelivr.net/npm/vega-lib?noext\",\n",
       "      \"vega-lite\": \"https://cdn.jsdelivr.net/npm/vega-lite@5.20.1?noext\",\n",
       "      \"vega-embed\": \"https://cdn.jsdelivr.net/npm/vega-embed@6?noext\",\n",
       "    };\n",
       "\n",
       "    function maybeLoadScript(lib, version) {\n",
       "      var key = `${lib.replace(\"-\", \"\")}_version`;\n",
       "      return (VEGA_DEBUG[key] == version) ?\n",
       "        Promise.resolve(paths[lib]) :\n",
       "        new Promise(function(resolve, reject) {\n",
       "          var s = document.createElement('script');\n",
       "          document.getElementsByTagName(\"head\")[0].appendChild(s);\n",
       "          s.async = true;\n",
       "          s.onload = () => {\n",
       "            VEGA_DEBUG[key] = version;\n",
       "            return resolve(paths[lib]);\n",
       "          };\n",
       "          s.onerror = () => reject(`Error loading script: ${paths[lib]}`);\n",
       "          s.src = paths[lib];\n",
       "        });\n",
       "    }\n",
       "\n",
       "    function showError(err) {\n",
       "      outputDiv.innerHTML = `<div class=\"error\" style=\"color:red;\">${err}</div>`;\n",
       "      throw err;\n",
       "    }\n",
       "\n",
       "    function displayChart(vegaEmbed) {\n",
       "      vegaEmbed(outputDiv, spec, embedOpt)\n",
       "        .catch(err => showError(`Javascript Error: ${err.message}<br>This usually means there's a typo in your chart specification. See the javascript console for the full traceback.`));\n",
       "    }\n",
       "\n",
       "    if(typeof define === \"function\" && define.amd) {\n",
       "      requirejs.config({paths});\n",
       "      let deps = [\"vega-embed\"];\n",
       "      require(deps, displayChart, err => showError(`Error loading script: ${err.message}`));\n",
       "    } else {\n",
       "      maybeLoadScript(\"vega\", \"5\")\n",
       "        .then(() => maybeLoadScript(\"vega-lite\", \"5.20.1\"))\n",
       "        .then(() => maybeLoadScript(\"vega-embed\", \"6\"))\n",
       "        .catch(showError)\n",
       "        .then(() => displayChart(vegaEmbed));\n",
       "    }\n",
       "  })({\"config\": {\"axisLeft\": {\"labelFontSize\": 15}, \"axisBottom\": {\"labelFontSize\": 15}}, \"data\": {\"name\": \"data-729c6c227fe05d15297e640d6ced72c5\"}, \"mark\": {\"type\": \"bar\"}, \"encoding\": {\"x\": {\"field\": \"repo\", \"sort\": [\"fps\", \"jupyter-scheduler\", \"jupyter_releaser\", \"jupyter_server\", \"team-compass\", \"jupyverse\", \"enterprise_gateway\"], \"type\": \"nominal\"}, \"y\": {\"field\": \"time_open\", \"title\": \"Median Days Open\", \"type\": \"quantitative\"}}, \"title\": \"Time to close for issues closed in the last 90 days\", \"$schema\": \"https://vega.github.io/schema/vega-lite/v5.20.1.json\", \"datasets\": {\"data-729c6c227fe05d15297e640d6ced72c5\": [{\"org\": \"jupyter-server\", \"repo\": \"enterprise_gateway\", \"time_open\": 1.0795543981481481, \"org/repo\": \"jupyter-server/enterprise_gateway\"}, {\"org\": \"jupyter-server\", \"repo\": \"fps\", \"time_open\": 1228.1181018518519, \"org/repo\": \"jupyter-server/fps\"}, {\"org\": \"jupyter-server\", \"repo\": \"jupyter-scheduler\", \"time_open\": 110.23818287037037, \"org/repo\": \"jupyter-server/jupyter-scheduler\"}, {\"org\": \"jupyter-server\", \"repo\": \"jupyter_releaser\", \"time_open\": 49.906840277777775, \"org/repo\": \"jupyter-server/jupyter_releaser\"}, {\"org\": \"jupyter-server\", \"repo\": \"jupyter_server\", \"time_open\": 38.553148148148146, \"org/repo\": \"jupyter-server/jupyter_server\"}, {\"org\": \"jupyter-server\", \"repo\": \"jupyverse\", \"time_open\": 2.198275462962963, \"org/repo\": \"jupyter-server/jupyverse\"}, {\"org\": \"jupyter-server\", \"repo\": \"team-compass\", \"time_open\": 8.337731481481482, \"org/repo\": \"jupyter-server/team-compass\"}]}}, {\"mode\": \"vega-lite\"});\n",
       "</script>"
      ],
      "text/plain": [
       "alt.Chart(...)"
      ]
     },
     "execution_count": 21,
     "metadata": {},
     "output_type": "execute_result"
    }
   ],
   "source": [
    "time_open = closed.groupby(['org', 'repo']).agg({'time_open': 'median'}).reset_index()\n",
    "time_open['time_open'] = time_open['time_open'] / (60 * 60 * 24)\n",
    "time_open['org/repo'] = time_open.apply(lambda a: a['org'] + '/' + a['repo'], axis=1)\n",
    "sorted_vals = time_open.sort_values(['org', 'time_open'], ascending=False)['repo'].values\n",
    "alt.Chart(data=time_open, title=f\"Time to close for issues closed in the last {n_days} days\").mark_bar().encode(\n",
    "    x=alt.X('repo', sort=alt.Sort(sorted_vals.tolist())),\n",
    "    y=alt.Y('time_open', title=\"Median Days Open\"),\n",
    ")"
   ]
  },
  {
   "cell_type": "markdown",
   "id": "53cca2db",
   "metadata": {
    "editable": true,
    "papermill": {
     "duration": 0.016361,
     "end_time": "2025-05-15T01:30:54.185642",
     "exception": false,
     "start_time": "2025-05-15T01:30:54.169281",
     "status": "completed"
    },
    "slideshow": {
     "slide_type": ""
    },
    "tags": []
   },
   "source": [
    "## Most-upvoted issues"
   ]
  },
  {
   "cell_type": "code",
   "execution_count": 22,
   "id": "2ffd9ad5",
   "metadata": {
    "editable": true,
    "execution": {
     "iopub.execute_input": "2025-05-15T01:30:54.219823Z",
     "iopub.status.busy": "2025-05-15T01:30:54.219589Z",
     "iopub.status.idle": "2025-05-15T01:30:54.242836Z",
     "shell.execute_reply": "2025-05-15T01:30:54.242260Z"
    },
    "papermill": {
     "duration": 0.041664,
     "end_time": "2025-05-15T01:30:54.243903",
     "exception": false,
     "start_time": "2025-05-15T01:30:54.202239",
     "status": "completed"
    },
    "slideshow": {
     "slide_type": ""
    },
    "tags": [
     "hide_input"
    ]
   },
   "outputs": [
    {
     "data": {
      "application/vnd.jupyter.widget-view+json": {
       "model_id": "558c2daf09914715aac32d93db4caebd",
       "version_major": 2,
       "version_minor": 0
      },
      "text/plain": [
       "HTML(value='<ul>\\n<li>(20) Towards a new generic and composable server - team-compass - <a href=\"https://githu…"
      ]
     },
     "execution_count": 22,
     "metadata": {},
     "output_type": "execute_result"
    }
   ],
   "source": [
    "thumbsup = issues.query(\"state == 'open'\").sort_values(\"positive\", ascending=False).head(25)\n",
    "thumbsup = thumbsup[[\"title\", \"url\", \"number\", \"positive\", \"repo\"]]\n",
    "\n",
    "text = []\n",
    "for ii, irow in thumbsup.iterrows():\n",
    "    itext = f\"- ({irow['positive']}) {irow['title']} - {irow['repo']} - [#{irow['number']}]({irow['url']})\"\n",
    "    text.append(itext)\n",
    "text = '\\n'.join(text)\n",
    "HTML(markdown(text))"
   ]
  },
  {
   "cell_type": "markdown",
   "id": "a5d4ef31",
   "metadata": {
    "editable": true,
    "papermill": {
     "duration": 0.0165,
     "end_time": "2025-05-15T01:30:54.276780",
     "exception": false,
     "start_time": "2025-05-15T01:30:54.260280",
     "status": "completed"
    },
    "slideshow": {
     "slide_type": ""
    },
    "tags": []
   },
   "source": [
    "## Commenters across repositories\n",
    "\n",
    "These are commenters across all issues and pull requests in the last several days.\n",
    "These are colored by the commenter's association with the organization. For information\n",
    "about what these associations mean, [see this StackOverflow post](https://stackoverflow.com/a/28866914/1927102)."
   ]
  },
  {
   "cell_type": "code",
   "execution_count": 23,
   "id": "989f8f85",
   "metadata": {
    "editable": true,
    "execution": {
     "iopub.execute_input": "2025-05-15T01:30:54.310487Z",
     "iopub.status.busy": "2025-05-15T01:30:54.310012Z",
     "iopub.status.idle": "2025-05-15T01:30:54.322257Z",
     "shell.execute_reply": "2025-05-15T01:30:54.321544Z"
    },
    "papermill": {
     "duration": 0.030331,
     "end_time": "2025-05-15T01:30:54.323445",
     "exception": false,
     "start_time": "2025-05-15T01:30:54.293114",
     "status": "completed"
    },
    "slideshow": {
     "slide_type": ""
    },
    "tags": [
     "remove_cell"
    ]
   },
   "outputs": [],
   "source": [
    "commentors = (\n",
    "    comments\n",
    "    .query(\"created_at > @start_date and created_at < @stop_date\")\n",
    "    .groupby(['org', 'repo', 'login', 'author_association'])\n",
    "    .count().rename(columns={'id_issue': 'count'})['count']\n",
    "    .reset_index()\n",
    "    .sort_values(['org', 'count'], ascending=False)\n",
    ")"
   ]
  },
  {
   "cell_type": "code",
   "execution_count": 24,
   "id": "762e298b",
   "metadata": {
    "editable": true,
    "execution": {
     "iopub.execute_input": "2025-05-15T01:30:54.358383Z",
     "iopub.status.busy": "2025-05-15T01:30:54.357984Z",
     "iopub.status.idle": "2025-05-15T01:30:54.383936Z",
     "shell.execute_reply": "2025-05-15T01:30:54.383314Z"
    },
    "papermill": {
     "duration": 0.044645,
     "end_time": "2025-05-15T01:30:54.384956",
     "exception": false,
     "start_time": "2025-05-15T01:30:54.340311",
     "status": "completed"
    },
    "slideshow": {
     "slide_type": ""
    },
    "tags": [
     "hide_input"
    ]
   },
   "outputs": [
    {
     "data": {
      "text/html": [
       "\n",
       "<style>\n",
       "  #altair-viz-c92edc2340ac4244bb8d00b19f55062a.vega-embed {\n",
       "    width: 100%;\n",
       "    display: flex;\n",
       "  }\n",
       "\n",
       "  #altair-viz-c92edc2340ac4244bb8d00b19f55062a.vega-embed details,\n",
       "  #altair-viz-c92edc2340ac4244bb8d00b19f55062a.vega-embed details summary {\n",
       "    position: relative;\n",
       "  }\n",
       "</style>\n",
       "<div id=\"altair-viz-c92edc2340ac4244bb8d00b19f55062a\"></div>\n",
       "<script type=\"text/javascript\">\n",
       "  var VEGA_DEBUG = (typeof VEGA_DEBUG == \"undefined\") ? {} : VEGA_DEBUG;\n",
       "  (function(spec, embedOpt){\n",
       "    let outputDiv = document.currentScript.previousElementSibling;\n",
       "    if (outputDiv.id !== \"altair-viz-c92edc2340ac4244bb8d00b19f55062a\") {\n",
       "      outputDiv = document.getElementById(\"altair-viz-c92edc2340ac4244bb8d00b19f55062a\");\n",
       "    }\n",
       "\n",
       "    const paths = {\n",
       "      \"vega\": \"https://cdn.jsdelivr.net/npm/vega@5?noext\",\n",
       "      \"vega-lib\": \"https://cdn.jsdelivr.net/npm/vega-lib?noext\",\n",
       "      \"vega-lite\": \"https://cdn.jsdelivr.net/npm/vega-lite@5.20.1?noext\",\n",
       "      \"vega-embed\": \"https://cdn.jsdelivr.net/npm/vega-embed@6?noext\",\n",
       "    };\n",
       "\n",
       "    function maybeLoadScript(lib, version) {\n",
       "      var key = `${lib.replace(\"-\", \"\")}_version`;\n",
       "      return (VEGA_DEBUG[key] == version) ?\n",
       "        Promise.resolve(paths[lib]) :\n",
       "        new Promise(function(resolve, reject) {\n",
       "          var s = document.createElement('script');\n",
       "          document.getElementsByTagName(\"head\")[0].appendChild(s);\n",
       "          s.async = true;\n",
       "          s.onload = () => {\n",
       "            VEGA_DEBUG[key] = version;\n",
       "            return resolve(paths[lib]);\n",
       "          };\n",
       "          s.onerror = () => reject(`Error loading script: ${paths[lib]}`);\n",
       "          s.src = paths[lib];\n",
       "        });\n",
       "    }\n",
       "\n",
       "    function showError(err) {\n",
       "      outputDiv.innerHTML = `<div class=\"error\" style=\"color:red;\">${err}</div>`;\n",
       "      throw err;\n",
       "    }\n",
       "\n",
       "    function displayChart(vegaEmbed) {\n",
       "      vegaEmbed(outputDiv, spec, embedOpt)\n",
       "        .catch(err => showError(`Javascript Error: ${err.message}<br>This usually means there's a typo in your chart specification. See the javascript console for the full traceback.`));\n",
       "    }\n",
       "\n",
       "    if(typeof define === \"function\" && define.amd) {\n",
       "      requirejs.config({paths});\n",
       "      let deps = [\"vega-embed\"];\n",
       "      require(deps, displayChart, err => showError(`Error loading script: ${err.message}`));\n",
       "    } else {\n",
       "      maybeLoadScript(\"vega\", \"5\")\n",
       "        .then(() => maybeLoadScript(\"vega-lite\", \"5.20.1\"))\n",
       "        .then(() => maybeLoadScript(\"vega-embed\", \"6\"))\n",
       "        .catch(showError)\n",
       "        .then(() => displayChart(vegaEmbed));\n",
       "    }\n",
       "  })({\"config\": {\"axisLeft\": {\"labelFontSize\": 15}, \"axisBottom\": {\"labelFontSize\": 15}}, \"hconcat\": [{\"mark\": {\"type\": \"bar\"}, \"encoding\": {\"color\": {\"field\": \"author_association\", \"scale\": {\"domain\": [\"MEMBER\", \"CONTRIBUTOR\", \"COLLABORATOR\", \"NONE\"], \"range\": [\"rgb(211.82745098039214, 211.82745098039214, 211.82745098039214)\", \"rgb(166.98562091503268, 229.89803921568628, 166.98562091503268)\", \"rgb(96.37647058823529, 192.75294117647059, 96.37647058823529)\", \"rgb(0.0, 100.3921568627451, 0.0)\"]}, \"type\": \"nominal\"}, \"x\": {\"field\": \"login\", \"type\": \"nominal\"}, \"y\": {\"field\": \"count\", \"type\": \"quantitative\"}}, \"title\": \"Top 50 commentors for ('jupyter-server',) in the last 90 days\"}], \"data\": {\"name\": \"data-54bc23407b6e2bcf8d2ed338b96a13f7\"}, \"$schema\": \"https://vega.github.io/schema/vega-lite/v5.20.1.json\", \"datasets\": {\"data-54bc23407b6e2bcf8d2ed338b96a13f7\": [{\"login\": \"Zsailer\", \"count\": 31, \"author_association\": \"MEMBER\"}, {\"login\": \"davidbrochart\", \"count\": 20, \"author_association\": \"NONE\"}, {\"login\": \"krassowski\", \"count\": 13, \"author_association\": \"COLLABORATOR\"}, {\"login\": \"andrii-i\", \"count\": 7, \"author_association\": \"COLLABORATOR\"}, {\"login\": \"minrk\", \"count\": 5, \"author_association\": \"CONTRIBUTOR\"}, {\"login\": \"lresende\", \"count\": 5, \"author_association\": \"MEMBER\"}, {\"login\": \"jtpio\", \"count\": 4, \"author_association\": \"MEMBER\"}, {\"login\": \"patilsanket48\", \"count\": 4, \"author_association\": \"NONE\"}, {\"login\": \"Carreau\", \"count\": 3, \"author_association\": \"NONE\"}, {\"login\": \"jhgoebbert\", \"count\": 3, \"author_association\": \"NONE\"}, {\"login\": \"Sieboldianus\", \"count\": 3, \"author_association\": \"NONE\"}, {\"login\": \"astitv-sh\", \"count\": 2, \"author_association\": \"COLLABORATOR\"}, {\"login\": \"jesuino\", \"count\": 2, \"author_association\": \"NONE\"}, {\"login\": \"kjayan\", \"count\": 2, \"author_association\": \"CONTRIBUTOR\"}, {\"login\": \"demardefrozen10\", \"count\": 2, \"author_association\": \"NONE\"}, {\"login\": \"bollwyvl\", \"count\": 2, \"author_association\": \"CONTRIBUTOR\"}, {\"login\": \"colinpalmer\", \"count\": 2, \"author_association\": \"NONE\"}, {\"login\": \"pranavkhandelwal\", \"count\": 2, \"author_association\": \"NONE\"}, {\"login\": \"ivanov\", \"count\": 2, \"author_association\": \"NONE\"}, {\"login\": \"fresende\", \"count\": 2, \"author_association\": \"CONTRIBUTOR\"}, {\"login\": \"anutosh491\", \"count\": 2, \"author_association\": \"NONE\"}, {\"login\": \"JohanMabille\", \"count\": 2, \"author_association\": \"CONTRIBUTOR\"}, {\"login\": \"vsr2158\", \"count\": 2, \"author_association\": \"NONE\"}, {\"login\": \"mimikwang\", \"count\": 2, \"author_association\": \"NONE\"}, {\"login\": \"dlqqq\", \"count\": 2, \"author_association\": \"CONTRIBUTOR\"}, {\"login\": \"dmonad\", \"count\": 2, \"author_association\": \"NONE\"}, {\"login\": \"brichet\", \"count\": 1, \"author_association\": \"CONTRIBUTOR\"}, {\"login\": \"ctcjab\", \"count\": 1, \"author_association\": \"NONE\"}, {\"login\": \"consideRatio\", \"count\": 1, \"author_association\": \"NONE\"}, {\"login\": \"choldgraf\", \"count\": 1, \"author_association\": \"NONE\"}, {\"login\": \"RohanGd\", \"count\": 1, \"author_association\": \"NONE\"}, {\"login\": \"ExpertLove\", \"count\": 1, \"author_association\": \"NONE\"}, {\"login\": \"Horusiath\", \"count\": 1, \"author_association\": \"NONE\"}, {\"login\": \"MattiasDC\", \"count\": 1, \"author_association\": \"NONE\"}, {\"login\": \"Bimbam360\", \"count\": 1, \"author_association\": \"NONE\"}, {\"login\": \"cben\", \"count\": 1, \"author_association\": \"NONE\"}, {\"login\": \"RRosio\", \"count\": 1, \"author_association\": \"CONTRIBUTOR\"}, {\"login\": \"bloomsa\", \"count\": 1, \"author_association\": \"NONE\"}, {\"login\": \"danyeaw\", \"count\": 1, \"author_association\": \"NONE\"}, {\"login\": \"jayxie8\", \"count\": 1, \"author_association\": \"NONE\"}, {\"login\": \"fendwich\", \"count\": 1, \"author_association\": \"NONE\"}, {\"login\": \"fatihmete\", \"count\": 1, \"author_association\": \"NONE\"}, {\"login\": \"liuxiawei\", \"count\": 1, \"author_association\": \"NONE\"}, {\"login\": \"manics\", \"count\": 1, \"author_association\": \"NONE\"}, {\"login\": \"martenrichter\", \"count\": 1, \"author_association\": \"CONTRIBUTOR\"}, {\"login\": \"mahendrapaipuri\", \"count\": 1, \"author_association\": \"CONTRIBUTOR\"}, {\"login\": \"powerstar13\", \"count\": 1, \"author_association\": \"NONE\"}, {\"login\": \"paf91\", \"count\": 1, \"author_association\": \"NONE\"}, {\"login\": \"rolweber\", \"count\": 1, \"author_association\": \"CONTRIBUTOR\"}, {\"login\": \"rao23\", \"count\": 1, \"author_association\": \"NONE\"}]}}, {\"mode\": \"vega-lite\"});\n",
       "</script>"
      ],
      "text/plain": [
       "alt.HConcatChart(...)"
      ]
     },
     "execution_count": 24,
     "metadata": {},
     "output_type": "execute_result"
    }
   ],
   "source": [
    "n_plot = 50\n",
    "charts = []\n",
    "for ii, (iorg, idata) in enumerate(commentors.groupby(['org'])):\n",
    "    title = f\"Top {n_plot} commentors for {iorg} in the last {n_days} days\"\n",
    "    idata = idata.groupby('login', as_index=False).agg({'count': 'sum', 'author_association': 'first'})\n",
    "    idata = idata.sort_values('count', ascending=False).head(n_plot)\n",
    "    ch = alt.Chart(data=idata.head(n_plot), title=title).mark_bar().encode(\n",
    "        x='login',\n",
    "        y='count',\n",
    "        color=alt.Color('author_association', scale=alt.Scale(domain=author_types, range=author_colors))\n",
    "    )\n",
    "    charts.append(ch)\n",
    "alt.hconcat(*charts)"
   ]
  },
  {
   "cell_type": "markdown",
   "id": "222ab140",
   "metadata": {
    "editable": true,
    "papermill": {
     "duration": 0.016549,
     "end_time": "2025-05-15T01:30:54.418719",
     "exception": false,
     "start_time": "2025-05-15T01:30:54.402170",
     "status": "completed"
    },
    "slideshow": {
     "slide_type": ""
    },
    "tags": []
   },
   "source": [
    "## First responders\n",
    "\n",
    "First responders are the first people to respond to a new issue in one of the repositories.\n",
    "The following plots show first responders for recently-created issues."
   ]
  },
  {
   "cell_type": "code",
   "execution_count": 25,
   "id": "e50033de",
   "metadata": {
    "editable": true,
    "execution": {
     "iopub.execute_input": "2025-05-15T01:30:54.452597Z",
     "iopub.status.busy": "2025-05-15T01:30:54.452362Z",
     "iopub.status.idle": "2025-05-15T01:30:54.488303Z",
     "shell.execute_reply": "2025-05-15T01:30:54.487783Z"
    },
    "papermill": {
     "duration": 0.054194,
     "end_time": "2025-05-15T01:30:54.489295",
     "exception": false,
     "start_time": "2025-05-15T01:30:54.435101",
     "status": "completed"
    },
    "slideshow": {
     "slide_type": ""
    },
    "tags": [
     "remove_cell"
    ]
   },
   "outputs": [],
   "source": [
    "first_comments = []\n",
    "latest_comments = comments.query(\"created_at > @start_date\")\n",
    "for (org, repo, issue_id), i_comments in latest_comments.groupby(['org', 'repo', 'id_issue']):\n",
    "    ix_min = pd.to_datetime(i_comments['created_at']).idxmin()\n",
    "    first_comment = i_comments.loc[ix_min]\n",
    "    if isinstance(first_comment, pd.DataFrame):\n",
    "        first_comment = first_comment.iloc[0]\n",
    "    first_comments.append(first_comment)\n",
    "first_comments = pd.concat(first_comments, axis=1).T\n",
    "\n",
    "# Make up counts for viz\n",
    "first_responder_counts = first_comments.groupby(['org', 'login', 'author_association'], as_index=False).\\\n",
    "    count().rename(columns={'id_issue': 'n_first_responses'}).sort_values(['org', 'n_first_responses'], ascending=False)\n"
   ]
  },
  {
   "cell_type": "code",
   "execution_count": 26,
   "id": "647aeb44",
   "metadata": {
    "editable": true,
    "execution": {
     "iopub.execute_input": "2025-05-15T01:30:54.524515Z",
     "iopub.status.busy": "2025-05-15T01:30:54.524312Z",
     "iopub.status.idle": "2025-05-15T01:30:54.547277Z",
     "shell.execute_reply": "2025-05-15T01:30:54.546674Z"
    },
    "papermill": {
     "duration": 0.041848,
     "end_time": "2025-05-15T01:30:54.548315",
     "exception": false,
     "start_time": "2025-05-15T01:30:54.506467",
     "status": "completed"
    },
    "slideshow": {
     "slide_type": ""
    },
    "tags": [
     "hide_input"
    ]
   },
   "outputs": [
    {
     "data": {
      "text/html": [
       "\n",
       "<style>\n",
       "  #altair-viz-8e5329fee50246d0828c6922f7548b3f.vega-embed {\n",
       "    width: 100%;\n",
       "    display: flex;\n",
       "  }\n",
       "\n",
       "  #altair-viz-8e5329fee50246d0828c6922f7548b3f.vega-embed details,\n",
       "  #altair-viz-8e5329fee50246d0828c6922f7548b3f.vega-embed details summary {\n",
       "    position: relative;\n",
       "  }\n",
       "</style>\n",
       "<div id=\"altair-viz-8e5329fee50246d0828c6922f7548b3f\"></div>\n",
       "<script type=\"text/javascript\">\n",
       "  var VEGA_DEBUG = (typeof VEGA_DEBUG == \"undefined\") ? {} : VEGA_DEBUG;\n",
       "  (function(spec, embedOpt){\n",
       "    let outputDiv = document.currentScript.previousElementSibling;\n",
       "    if (outputDiv.id !== \"altair-viz-8e5329fee50246d0828c6922f7548b3f\") {\n",
       "      outputDiv = document.getElementById(\"altair-viz-8e5329fee50246d0828c6922f7548b3f\");\n",
       "    }\n",
       "\n",
       "    const paths = {\n",
       "      \"vega\": \"https://cdn.jsdelivr.net/npm/vega@5?noext\",\n",
       "      \"vega-lib\": \"https://cdn.jsdelivr.net/npm/vega-lib?noext\",\n",
       "      \"vega-lite\": \"https://cdn.jsdelivr.net/npm/vega-lite@5.20.1?noext\",\n",
       "      \"vega-embed\": \"https://cdn.jsdelivr.net/npm/vega-embed@6?noext\",\n",
       "    };\n",
       "\n",
       "    function maybeLoadScript(lib, version) {\n",
       "      var key = `${lib.replace(\"-\", \"\")}_version`;\n",
       "      return (VEGA_DEBUG[key] == version) ?\n",
       "        Promise.resolve(paths[lib]) :\n",
       "        new Promise(function(resolve, reject) {\n",
       "          var s = document.createElement('script');\n",
       "          document.getElementsByTagName(\"head\")[0].appendChild(s);\n",
       "          s.async = true;\n",
       "          s.onload = () => {\n",
       "            VEGA_DEBUG[key] = version;\n",
       "            return resolve(paths[lib]);\n",
       "          };\n",
       "          s.onerror = () => reject(`Error loading script: ${paths[lib]}`);\n",
       "          s.src = paths[lib];\n",
       "        });\n",
       "    }\n",
       "\n",
       "    function showError(err) {\n",
       "      outputDiv.innerHTML = `<div class=\"error\" style=\"color:red;\">${err}</div>`;\n",
       "      throw err;\n",
       "    }\n",
       "\n",
       "    function displayChart(vegaEmbed) {\n",
       "      vegaEmbed(outputDiv, spec, embedOpt)\n",
       "        .catch(err => showError(`Javascript Error: ${err.message}<br>This usually means there's a typo in your chart specification. See the javascript console for the full traceback.`));\n",
       "    }\n",
       "\n",
       "    if(typeof define === \"function\" && define.amd) {\n",
       "      requirejs.config({paths});\n",
       "      let deps = [\"vega-embed\"];\n",
       "      require(deps, displayChart, err => showError(`Error loading script: ${err.message}`));\n",
       "    } else {\n",
       "      maybeLoadScript(\"vega\", \"5\")\n",
       "        .then(() => maybeLoadScript(\"vega-lite\", \"5.20.1\"))\n",
       "        .then(() => maybeLoadScript(\"vega-embed\", \"6\"))\n",
       "        .catch(showError)\n",
       "        .then(() => displayChart(vegaEmbed));\n",
       "    }\n",
       "  })({\"config\": {\"axisLeft\": {\"labelFontSize\": 15}, \"axisBottom\": {\"labelFontSize\": 15}}, \"data\": {\"name\": \"data-f9a35330b5835f433bb9e6e440df1b89\"}, \"mark\": {\"type\": \"bar\"}, \"encoding\": {\"color\": {\"field\": \"author_association\", \"scale\": {\"domain\": [\"MEMBER\", \"CONTRIBUTOR\", \"COLLABORATOR\", \"NONE\"], \"range\": [\"rgb(211.82745098039214, 211.82745098039214, 211.82745098039214)\", \"rgb(166.98562091503268, 229.89803921568628, 166.98562091503268)\", \"rgb(96.37647058823529, 192.75294117647059, 96.37647058823529)\", \"rgb(0.0, 100.3921568627451, 0.0)\"]}, \"type\": \"nominal\"}, \"x\": {\"field\": \"login\", \"type\": \"nominal\"}, \"y\": {\"field\": \"n_first_responses\", \"type\": \"quantitative\"}}, \"title\": \"Top 50 first responders for jupyter-server in the last 90 days\", \"$schema\": \"https://vega.github.io/schema/vega-lite/v5.20.1.json\", \"datasets\": {\"data-f9a35330b5835f433bb9e6e440df1b89\": [{\"login\": \"Zsailer\", \"n_first_responses\": 7, \"author_association\": \"MEMBER\"}, {\"login\": \"davidbrochart\", \"n_first_responses\": 5, \"author_association\": \"COLLABORATOR\"}, {\"login\": \"andrii-i\", \"n_first_responses\": 3, \"author_association\": \"COLLABORATOR\"}, {\"login\": \"krassowski\", \"n_first_responses\": 3, \"author_association\": \"COLLABORATOR\"}, {\"login\": \"minrk\", \"n_first_responses\": 3, \"author_association\": \"CONTRIBUTOR\"}, {\"login\": \"astitv-sh\", \"n_first_responses\": 2, \"author_association\": \"COLLABORATOR\"}, {\"login\": \"bollwyvl\", \"n_first_responses\": 2, \"author_association\": \"CONTRIBUTOR\"}, {\"login\": \"jtpio\", \"n_first_responses\": 2, \"author_association\": \"MEMBER\"}, {\"login\": \"RohanGd\", \"n_first_responses\": 1, \"author_association\": \"NONE\"}, {\"login\": \"MattiasDC\", \"n_first_responses\": 1, \"author_association\": \"NONE\"}, {\"login\": \"Carreau\", \"n_first_responses\": 1, \"author_association\": \"NONE\"}, {\"login\": \"Bimbam360\", \"n_first_responses\": 1, \"author_association\": \"NONE\"}, {\"login\": \"JohanMabille\", \"n_first_responses\": 1, \"author_association\": \"CONTRIBUTOR\"}, {\"login\": \"ExpertLove\", \"n_first_responses\": 1, \"author_association\": \"NONE\"}, {\"login\": \"consideRatio\", \"n_first_responses\": 1, \"author_association\": \"NONE\"}, {\"login\": \"cben\", \"n_first_responses\": 1, \"author_association\": \"NONE\"}, {\"login\": \"bloomsa\", \"n_first_responses\": 1, \"author_association\": \"NONE\"}, {\"login\": \"ctcjab\", \"n_first_responses\": 1, \"author_association\": \"NONE\"}, {\"login\": \"fendwich\", \"n_first_responses\": 1, \"author_association\": \"NONE\"}, {\"login\": \"dlqqq\", \"n_first_responses\": 1, \"author_association\": \"CONTRIBUTOR\"}, {\"login\": \"jhgoebbert\", \"n_first_responses\": 1, \"author_association\": \"NONE\"}, {\"login\": \"Sieboldianus\", \"n_first_responses\": 1, \"author_association\": \"NONE\"}, {\"login\": \"fresende\", \"n_first_responses\": 1, \"author_association\": \"CONTRIBUTOR\"}, {\"login\": \"liuxiawei\", \"n_first_responses\": 1, \"author_association\": \"NONE\"}, {\"login\": \"mahendrapaipuri\", \"n_first_responses\": 1, \"author_association\": \"CONTRIBUTOR\"}, {\"login\": \"lresende\", \"n_first_responses\": 1, \"author_association\": \"MEMBER\"}, {\"login\": \"martenrichter\", \"n_first_responses\": 1, \"author_association\": \"CONTRIBUTOR\"}, {\"login\": \"mimikwang\", \"n_first_responses\": 1, \"author_association\": \"NONE\"}, {\"login\": \"paf91\", \"n_first_responses\": 1, \"author_association\": \"NONE\"}, {\"login\": \"patilsanket48\", \"n_first_responses\": 1, \"author_association\": \"NONE\"}, {\"login\": \"powerstar13\", \"n_first_responses\": 1, \"author_association\": \"NONE\"}, {\"login\": \"pranavkhandelwal\", \"n_first_responses\": 1, \"author_association\": \"NONE\"}, {\"login\": \"rao23\", \"n_first_responses\": 1, \"author_association\": \"NONE\"}, {\"login\": \"rolweber\", \"n_first_responses\": 1, \"author_association\": \"CONTRIBUTOR\"}, {\"login\": \"simonaubertbd\", \"n_first_responses\": 1, \"author_association\": \"NONE\"}, {\"login\": \"skapin\", \"n_first_responses\": 1, \"author_association\": \"NONE\"}, {\"login\": \"vidartf\", \"n_first_responses\": 1, \"author_association\": \"MEMBER\"}, {\"login\": \"xiaoguazh\", \"n_first_responses\": 1, \"author_association\": \"NONE\"}]}}, {\"mode\": \"vega-lite\"});\n",
       "</script>"
      ],
      "text/plain": [
       "alt.Chart(...)"
      ]
     },
     "execution_count": 26,
     "metadata": {},
     "output_type": "execute_result"
    }
   ],
   "source": [
    "n_plot = 50\n",
    "\n",
    "title = f\"Top {n_plot} first responders for {github_org} in the last {n_days} days\"\n",
    "idata = first_responder_counts.groupby('login', as_index=False).agg({'n_first_responses': 'sum', 'author_association': 'first'})\n",
    "idata = idata.sort_values('n_first_responses', ascending=False).head(n_plot)\n",
    "ch = alt.Chart(data=idata.head(n_plot), title=title).mark_bar().encode(\n",
    "    x='login',\n",
    "    y='n_first_responses',\n",
    "    color=alt.Color('author_association', scale=alt.Scale(domain=author_types, range=author_colors))\n",
    ")\n",
    "ch"
   ]
  },
  {
   "cell_type": "markdown",
   "id": "73d280fe",
   "metadata": {
    "editable": true,
    "papermill": {
     "duration": 0.01674,
     "end_time": "2025-05-15T01:30:54.582093",
     "exception": false,
     "start_time": "2025-05-15T01:30:54.565353",
     "status": "completed"
    },
    "slideshow": {
     "slide_type": ""
    },
    "tags": []
   },
   "source": [
    "## Recent activity\n",
    "\n",
    "### A list of merged PRs by project\n",
    "\n",
    "Below is a tabbed readout of recently-merged PRs. Check out the title to get an idea for what they\n",
    "implemented, and be sure to thank the PR author for their hard work!"
   ]
  },
  {
   "cell_type": "code",
   "execution_count": 27,
   "id": "faa58523",
   "metadata": {
    "editable": true,
    "execution": {
     "iopub.execute_input": "2025-05-15T01:30:54.616501Z",
     "iopub.status.busy": "2025-05-15T01:30:54.616279Z",
     "iopub.status.idle": "2025-05-15T01:30:54.699034Z",
     "shell.execute_reply": "2025-05-15T01:30:54.698323Z"
    },
    "papermill": {
     "duration": 0.107888,
     "end_time": "2025-05-15T01:30:54.706808",
     "exception": false,
     "start_time": "2025-05-15T01:30:54.598920",
     "status": "completed"
    },
    "slideshow": {
     "slide_type": ""
    },
    "tags": [
     "hide_input"
    ]
   },
   "outputs": [
    {
     "data": {
      "application/vnd.jupyter.widget-view+json": {
       "model_id": "3253ac5f4d3040e982aabe36783726b3",
       "version_major": 2,
       "version_minor": 0
      },
      "text/plain": [
       "Tab(children=(HTML(value='<h4>Closed PRs for repo: <a href=\"https://github.com/jupyter-server/fps\">jupyter-ser…"
      ]
     },
     "execution_count": 27,
     "metadata": {},
     "output_type": "execute_result"
    }
   ],
   "source": [
    "tabs = widgets.Tab(children=[])\n",
    "\n",
    "for ii, ((org, repo), imerged) in enumerate(merged.query(\"repo in @use_repos\").groupby(['org', 'repo'])):\n",
    "    merged_by = {}\n",
    "    pr_by = {}\n",
    "    issue_md = []\n",
    "    issue_md.append(f\"#### Closed PRs for repo: [{org}/{repo}](https://github.com/{github_org}/{repo})\")\n",
    "    issue_md.append(\"\")\n",
    "    issue_md.append(f\"##### \")\n",
    "\n",
    "    for _, ipr in imerged.iterrows():\n",
    "        user_name = ipr['login']\n",
    "        user_url = author_url(user_name)\n",
    "        pr_number = ipr['number']\n",
    "        pr_html = ipr['url']\n",
    "        pr_title = ipr['title']\n",
    "        pr_closedby = ipr['merged_by']\n",
    "        pr_closedby_url = f\"https://github.com/{pr_closedby}\"\n",
    "        if user_name not in pr_by:\n",
    "            pr_by[user_name] = 1\n",
    "        else:\n",
    "            pr_by[user_name] += 1\n",
    "\n",
    "        if pr_closedby not in merged_by:\n",
    "            merged_by[pr_closedby] = 1\n",
    "        else:\n",
    "            merged_by[pr_closedby] += 1\n",
    "        text = f\"* [(#{pr_number})]({pr_html}): _{pr_title}_ by **[@{user_name}]({user_url})** merged by **[@{pr_closedby}]({pr_closedby_url})**\"\n",
    "        issue_md.append(text)\n",
    "    \n",
    "    issue_md.append('')\n",
    "    markdown_html = markdown('\\n'.join(issue_md))\n",
    "\n",
    "    children = list(tabs.children)\n",
    "    children.append(HTML(markdown_html))\n",
    "    tabs.children = tuple(children)\n",
    "    tabs.set_title(ii, repo)\n",
    "tabs"
   ]
  },
  {
   "cell_type": "markdown",
   "id": "eaaa22b6",
   "metadata": {
    "editable": true,
    "papermill": {
     "duration": 0.017449,
     "end_time": "2025-05-15T01:30:54.741934",
     "exception": false,
     "start_time": "2025-05-15T01:30:54.724485",
     "status": "completed"
    },
    "slideshow": {
     "slide_type": ""
    },
    "tags": []
   },
   "source": [
    "### A list of recent issues\n",
    "\n",
    "Below is a list of issues with recent activity in each repository. If they seem of interest\n",
    "to you, click on their links and jump in to participate!"
   ]
  },
  {
   "cell_type": "code",
   "execution_count": 28,
   "id": "6d1ce74f",
   "metadata": {
    "editable": true,
    "execution": {
     "iopub.execute_input": "2025-05-15T01:30:54.776626Z",
     "iopub.status.busy": "2025-05-15T01:30:54.776184Z",
     "iopub.status.idle": "2025-05-15T01:30:54.786724Z",
     "shell.execute_reply": "2025-05-15T01:30:54.786182Z"
    },
    "papermill": {
     "duration": 0.028883,
     "end_time": "2025-05-15T01:30:54.787725",
     "exception": false,
     "start_time": "2025-05-15T01:30:54.758842",
     "status": "completed"
    },
    "slideshow": {
     "slide_type": ""
    },
    "tags": [
     "remove_cell"
    ]
   },
   "outputs": [],
   "source": [
    "# Add comment count data to issues and PRs\n",
    "comment_counts = (\n",
    "    comments\n",
    "    .query(\"created_at > @start_date and created_at < @stop_date\")\n",
    "    .groupby(['org', 'repo', 'id_issue'])\n",
    "    .count().iloc[:, 0].to_frame()\n",
    ")\n",
    "comment_counts.columns = ['n_comments']\n",
    "comment_counts = comment_counts.reset_index()"
   ]
  },
  {
   "cell_type": "code",
   "execution_count": 29,
   "id": "64beefbe",
   "metadata": {
    "editable": true,
    "execution": {
     "iopub.execute_input": "2025-05-15T01:30:54.822189Z",
     "iopub.status.busy": "2025-05-15T01:30:54.822004Z",
     "iopub.status.idle": "2025-05-15T01:30:54.944300Z",
     "shell.execute_reply": "2025-05-15T01:30:54.943628Z"
    },
    "papermill": {
     "duration": 0.140805,
     "end_time": "2025-05-15T01:30:54.945350",
     "exception": false,
     "start_time": "2025-05-15T01:30:54.804545",
     "status": "completed"
    },
    "slideshow": {
     "slide_type": ""
    },
    "tags": [
     "hide_input"
    ],
    "toc-hr-collapsed": false
   },
   "outputs": [
    {
     "data": {
      "text/markdown": [
       "Here are the top 5 active issues in each repository in the last 90 days"
      ],
      "text/plain": [
       "<IPython.core.display.Markdown object>"
      ]
     },
     "metadata": {},
     "output_type": "display_data"
    },
    {
     "data": {
      "application/vnd.jupyter.widget-view+json": {
       "model_id": "bf2c369245f345b1976f0d9095d40427",
       "version_major": 2,
       "version_minor": 0
      },
      "text/plain": [
       "Tab(children=(HTML(value='<h5><a href=\"https://github.com/jupyter-server/enterprise_gateway\">jupyter-server/en…"
      ]
     },
     "metadata": {},
     "output_type": "display_data"
    }
   ],
   "source": [
    "n_plot = 5\n",
    "tabs = widgets.Tab(children=[])\n",
    "\n",
    "for ii, (repo, i_issues) in enumerate(comment_counts.query(\"repo in @use_repos\").groupby('repo')):\n",
    "    \n",
    "    issue_md = []\n",
    "    issue_md.append(\"\")\n",
    "    issue_md.append(f\"##### [{github_org}/{repo}](https://github.com/{github_org}/{repo})\")\n",
    "\n",
    "    top_issues = i_issues.sort_values('n_comments', ascending=False).head(n_plot)\n",
    "    top_issue_list = pd.merge(issues, top_issues, left_on=['org', 'repo', 'id_issue'], right_on=['org', 'repo', 'id_issue'])\n",
    "    for _, issue in top_issue_list.sort_values('n_comments', ascending=False).head(n_plot).iterrows():\n",
    "        user_name = issue['login']\n",
    "        user_url = author_url(user_name)\n",
    "        issue_number = issue['number']\n",
    "        issue_html = issue['url']\n",
    "        issue_title = issue['title']\n",
    "\n",
    "        text = f\"* [(#{issue_number})]({issue_html}): _{issue_title}_ by **[@{user_name}]({user_url})**\"\n",
    "        issue_md.append(text)\n",
    "\n",
    "    issue_md.append('')\n",
    "    md_html = HTML(markdown('\\n'.join(issue_md)))\n",
    "\n",
    "    children = list(tabs.children)\n",
    "    children.append(HTML(markdown('\\n'.join(issue_md))))\n",
    "    tabs.children = tuple(children)\n",
    "    tabs.set_title(ii, repo)\n",
    "    \n",
    "display(Markdown(f\"Here are the top {n_plot} active issues in each repository in the last {n_days} days\"))\n",
    "display(tabs)"
   ]
  }
 ],
 "metadata": {
  "kernelspec": {
   "display_name": "Python 3 (ipykernel)",
   "language": "python",
   "name": "python3"
  },
  "language_info": {
   "codemirror_mode": {
    "name": "ipython",
    "version": 3
   },
   "file_extension": ".py",
   "mimetype": "text/x-python",
   "name": "python",
   "nbconvert_exporter": "python",
   "pygments_lexer": "ipython3",
   "version": "3.9.22"
  },
  "papermill": {
   "default_parameters": {},
   "duration": 4.135378,
   "end_time": "2025-05-15T01:30:55.281514",
   "environment_variables": {},
   "exception": null,
   "input_path": "./templates/org_report.ipynb",
   "output_path": "generated/book/jupyter-server.ipynb",
   "parameters": {
    "github_org": "jupyter-server",
    "n_days": 90
   },
   "start_time": "2025-05-15T01:30:51.146136",
   "version": "2.6.0"
  },
  "widgets": {
   "application/vnd.jupyter.widget-state+json": {
    "state": {
     "011c77df12a14b2382cf8f21605de292": {
      "model_module": "@jupyter-widgets/base",
      "model_module_version": "2.0.0",
      "model_name": "LayoutModel",
      "state": {
       "_model_module": "@jupyter-widgets/base",
       "_model_module_version": "2.0.0",
       "_model_name": "LayoutModel",
       "_view_count": null,
       "_view_module": "@jupyter-widgets/base",
       "_view_module_version": "2.0.0",
       "_view_name": "LayoutView",
       "align_content": null,
       "align_items": null,
       "align_self": null,
       "border_bottom": null,
       "border_left": null,
       "border_right": null,
       "border_top": null,
       "bottom": null,
       "display": null,
       "flex": null,
       "flex_flow": null,
       "grid_area": null,
       "grid_auto_columns": null,
       "grid_auto_flow": null,
       "grid_auto_rows": null,
       "grid_column": null,
       "grid_gap": null,
       "grid_row": null,
       "grid_template_areas": null,
       "grid_template_columns": null,
       "grid_template_rows": null,
       "height": null,
       "justify_content": null,
       "justify_items": null,
       "left": null,
       "margin": null,
       "max_height": null,
       "max_width": null,
       "min_height": null,
       "min_width": null,
       "object_fit": null,
       "object_position": null,
       "order": null,
       "overflow": null,
       "padding": null,
       "right": null,
       "top": null,
       "visibility": null,
       "width": null
      }
     },
     "01c675f5403047e48b610d309d407c35": {
      "model_module": "@jupyter-widgets/controls",
      "model_module_version": "2.0.0",
      "model_name": "HTMLModel",
      "state": {
       "_dom_classes": [],
       "_model_module": "@jupyter-widgets/controls",
       "_model_module_version": "2.0.0",
       "_model_name": "HTMLModel",
       "_view_count": null,
       "_view_module": "@jupyter-widgets/controls",
       "_view_module_version": "2.0.0",
       "_view_name": "HTMLView",
       "description": "",
       "description_allow_html": false,
       "layout": "IPY_MODEL_011c77df12a14b2382cf8f21605de292",
       "placeholder": "​",
       "style": "IPY_MODEL_4aa323cbf8d24bc0a8c290baa44c53c5",
       "tabbable": null,
       "tooltip": null,
       "value": "<h4>Closed PRs for repo: <a href=\"https://github.com/jupyter-server/fps\">jupyter-server/fps</a></h4>\n<h5></h5>\n<ul>\n<li><a href=\"https://github.com/jupyter-server/fps/issues/95\">(#95)</a>: <em>[pre-commit.ci] pre-commit autoupdate</em> by <strong><a href=\"https://github.com/pre-commit-ci[bot]\">@pre-commit-ci[bot]</a></strong> merged by <strong><a href=\"https://github.com/davidbrochart\">@davidbrochart</a></strong></li>\n<li><a href=\"https://github.com/jupyter-server/fps/issues/101\">(#101)</a>: <em>Use TaskGroup from anyioutils</em> by <strong><a href=\"https://github.com/davidbrochart\">@davidbrochart</a></strong> merged by <strong><a href=\"https://github.com/davidbrochart\">@davidbrochart</a></strong></li>\n<li><a href=\"https://github.com/jupyter-server/fps/issues/102\">(#102)</a>: <em>Fix CLI</em> by <strong><a href=\"https://github.com/davidbrochart\">@davidbrochart</a></strong> merged by <strong><a href=\"https://github.com/davidbrochart\">@davidbrochart</a></strong></li>\n<li><a href=\"https://github.com/jupyter-server/fps/issues/104\">(#104)</a>: <em>Wait for server to be started</em> by <strong><a href=\"https://github.com/davidbrochart\">@davidbrochart</a></strong> merged by <strong><a href=\"https://github.com/davidbrochart\">@davidbrochart</a></strong></li>\n<li><a href=\"https://github.com/jupyter-server/fps/issues/105\">(#105)</a>: <em>Stop application when background tasks fail</em> by <strong><a href=\"https://github.com/davidbrochart\">@davidbrochart</a></strong> merged by <strong><a href=\"https://github.com/davidbrochart\">@davidbrochart</a></strong></li>\n<li><a href=\"https://github.com/jupyter-server/fps/issues/106\">(#106)</a>: <em>Bump anyioutils v0.7.0</em> by <strong><a href=\"https://github.com/davidbrochart\">@davidbrochart</a></strong> merged by <strong><a href=\"https://github.com/davidbrochart\">@davidbrochart</a></strong></li>\n<li><a href=\"https://github.com/jupyter-server/fps/issues/107\">(#107)</a>: <em>Add --show-config CLI option</em> by <strong><a href=\"https://github.com/davidbrochart\">@davidbrochart</a></strong> merged by <strong><a href=\"https://github.com/davidbrochart\">@davidbrochart</a></strong></li>\n<li><a href=\"https://github.com/jupyter-server/fps/issues/108\">(#108)</a>: <em>Add --help-all CLI option</em> by <strong><a href=\"https://github.com/davidbrochart\">@davidbrochart</a></strong> merged by <strong><a href=\"https://github.com/davidbrochart\">@davidbrochart</a></strong></li>\n<li><a href=\"https://github.com/jupyter-server/fps/issues/109\">(#109)</a>: <em>Support running on Trio</em> by <strong><a href=\"https://github.com/davidbrochart\">@davidbrochart</a></strong> merged by <strong><a href=\"https://github.com/davidbrochart\">@davidbrochart</a></strong></li>\n<li><a href=\"https://github.com/jupyter-server/fps/issues/110\">(#110)</a>: <em>Fix KeyboardInterrupt handling on Trio</em> by <strong><a href=\"https://github.com/davidbrochart\">@davidbrochart</a></strong> merged by <strong><a href=\"https://github.com/davidbrochart\">@davidbrochart</a></strong></li>\n<li><a href=\"https://github.com/jupyter-server/fps/issues/111\">(#111)</a>: <em>Require anycorn &gt;=0.18.1</em> by <strong><a href=\"https://github.com/davidbrochart\">@davidbrochart</a></strong> merged by <strong><a href=\"https://github.com/davidbrochart\">@davidbrochart</a></strong></li>\n<li><a href=\"https://github.com/jupyter-server/fps/issues/113\">(#113)</a>: <em>missing default values in cli.main</em> by <strong><a href=\"https://github.com/minrk\">@minrk</a></strong> merged by <strong><a href=\"https://github.com/davidbrochart\">@davidbrochart</a></strong></li>\n<li><a href=\"https://github.com/jupyter-server/fps/issues/114\">(#114)</a>: <em>Add .gitignore</em> by <strong><a href=\"https://github.com/davidbrochart\">@davidbrochart</a></strong> merged by <strong><a href=\"https://github.com/davidbrochart\">@davidbrochart</a></strong></li>\n<li><a href=\"https://github.com/jupyter-server/fps/issues/115\">(#115)</a>: <em>Add concurrency test for tasks</em> by <strong><a href=\"https://github.com/davidbrochart\">@davidbrochart</a></strong> merged by <strong><a href=\"https://github.com/davidbrochart\">@davidbrochart</a></strong></li>\n<li><a href=\"https://github.com/jupyter-server/fps/issues/116\">(#116)</a>: <em>Add Context</em> by <strong><a href=\"https://github.com/davidbrochart\">@davidbrochart</a></strong> merged by <strong><a href=\"https://github.com/davidbrochart\">@davidbrochart</a></strong></li>\n<li><a href=\"https://github.com/jupyter-server/fps/issues/117\">(#117)</a>: <em>Add optional <code>teardown_callback</code> parameter to <code>Context.put()</code></em> by <strong><a href=\"https://github.com/davidbrochart\">@davidbrochart</a></strong> merged by <strong><a href=\"https://github.com/davidbrochart\">@davidbrochart</a></strong></li>\n<li><a href=\"https://github.com/jupyter-server/fps/issues/118\">(#118)</a>: <em>Convert repo to use releaser from repo</em> by <strong><a href=\"https://github.com/davidbrochart\">@davidbrochart</a></strong> merged by <strong><a href=\"https://github.com/Zsailer\">@Zsailer</a></strong></li>\n<li><a href=\"https://github.com/jupyter-server/fps/issues/119\">(#119)</a>: <em>Add context documentation</em> by <strong><a href=\"https://github.com/davidbrochart\">@davidbrochart</a></strong> merged by <strong><a href=\"https://github.com/davidbrochart\">@davidbrochart</a></strong></li>\n<li><a href=\"https://github.com/jupyter-server/fps/issues/120\">(#120)</a>: <em>Update to latest Jupyter Release Actions</em> by <strong><a href=\"https://github.com/Zsailer\">@Zsailer</a></strong> merged by <strong><a href=\"https://github.com/davidbrochart\">@davidbrochart</a></strong></li>\n<li><a href=\"https://github.com/jupyter-server/fps/issues/121\">(#121)</a>: <em>Revert \"Update to latest Jupyter Release Actions\"</em> by <strong><a href=\"https://github.com/Zsailer\">@Zsailer</a></strong> merged by <strong><a href=\"https://github.com/Zsailer\">@Zsailer</a></strong></li>\n<li><a href=\"https://github.com/jupyter-server/fps/issues/122\">(#122)</a>: <em>Export SharedValue</em> by <strong><a href=\"https://github.com/davidbrochart\">@davidbrochart</a></strong> merged by <strong><a href=\"https://github.com/davidbrochart\">@davidbrochart</a></strong></li>\n<li><a href=\"https://github.com/jupyter-server/fps/issues/123\">(#123)</a>: <em>Add Signal</em> by <strong><a href=\"https://github.com/davidbrochart\">@davidbrochart</a></strong> merged by <strong><a href=\"https://github.com/davidbrochart\">@davidbrochart</a></strong></li>\n<li><a href=\"https://github.com/jupyter-server/fps/issues/124\">(#124)</a>: <em>Add Signal iterator</em> by <strong><a href=\"https://github.com/davidbrochart\">@davidbrochart</a></strong> merged by <strong><a href=\"https://github.com/davidbrochart\">@davidbrochart</a></strong></li>\n<li><a href=\"https://github.com/jupyter-server/fps/issues/125\">(#125)</a>: <em>Add Signal documentation</em> by <strong><a href=\"https://github.com/davidbrochart\">@davidbrochart</a></strong> merged by <strong><a href=\"https://github.com/davidbrochart\">@davidbrochart</a></strong></li>\n<li><a href=\"https://github.com/jupyter-server/fps/issues/126\">(#126)</a>: <em>Rework context and shared value, add documentation</em> by <strong><a href=\"https://github.com/davidbrochart\">@davidbrochart</a></strong> merged by <strong><a href=\"https://github.com/davidbrochart\">@davidbrochart</a></strong></li>\n<li><a href=\"https://github.com/jupyter-server/fps/issues/127\">(#127)</a>: <em>Remove duplicated code</em> by <strong><a href=\"https://github.com/davidbrochart\">@davidbrochart</a></strong> merged by <strong><a href=\"https://github.com/davidbrochart\">@davidbrochart</a></strong></li>\n<li><a href=\"https://github.com/jupyter-server/fps/issues/128\">(#128)</a>: <em>Use dependency groups for <code>test</code> and <code>docs</code></em> by <strong><a href=\"https://github.com/davidbrochart\">@davidbrochart</a></strong> merged by <strong><a href=\"https://github.com/davidbrochart\">@davidbrochart</a></strong></li>\n<li><a href=\"https://github.com/jupyter-server/fps/issues/129\">(#129)</a>: <em>Add <code>Module</code> API documentation</em> by <strong><a href=\"https://github.com/davidbrochart\">@davidbrochart</a></strong> merged by <strong><a href=\"https://github.com/davidbrochart\">@davidbrochart</a></strong></li>\n</ul>"
      }
     },
     "04a70eb85878424fb7fc1689e5fdc20b": {
      "model_module": "@jupyter-widgets/controls",
      "model_module_version": "2.0.0",
      "model_name": "HTMLModel",
      "state": {
       "_dom_classes": [],
       "_model_module": "@jupyter-widgets/controls",
       "_model_module_version": "2.0.0",
       "_model_name": "HTMLModel",
       "_view_count": null,
       "_view_module": "@jupyter-widgets/controls",
       "_view_module_version": "2.0.0",
       "_view_name": "HTMLView",
       "description": "",
       "description_allow_html": false,
       "layout": "IPY_MODEL_7a9fe736835c47ada682e5f0d63b7a45",
       "placeholder": "​",
       "style": "IPY_MODEL_7eecc2b268854affb52c636e8a97347a",
       "tabbable": null,
       "tooltip": null,
       "value": "<h5><a href=\"https://github.com/jupyter-server/kernel_gateway\">jupyter-server/kernel_gateway</a></h5>\n<ul>\n<li><a href=\"https://github.com/jupyter-server/kernel_gateway/issues/398\">(#398)</a>: <em>CLI fails to start on windows with signal import issue</em> by <strong><a href=\"https://github.com/jackgerrits\">@jackgerrits</a></strong></li>\n</ul>"
      }
     },
     "056ed1d6185b434cb15f976895e78387": {
      "model_module": "@jupyter-widgets/controls",
      "model_module_version": "2.0.0",
      "model_name": "HTMLModel",
      "state": {
       "_dom_classes": [],
       "_model_module": "@jupyter-widgets/controls",
       "_model_module_version": "2.0.0",
       "_model_name": "HTMLModel",
       "_view_count": null,
       "_view_module": "@jupyter-widgets/controls",
       "_view_module_version": "2.0.0",
       "_view_name": "HTMLView",
       "description": "",
       "description_allow_html": false,
       "layout": "IPY_MODEL_ebe25ffd5a894f998f8b9b1f48cd055b",
       "placeholder": "​",
       "style": "IPY_MODEL_9c5013577e924ee483a863030f4f6377",
       "tabbable": null,
       "tooltip": null,
       "value": "<h5><a href=\"https://github.com/jupyter-server/gateway_provisioners\">jupyter-server/gateway_provisioners</a></h5>\n<ul>\n<li><a href=\"https://github.com/jupyter-server/gateway_provisioners/issues/139\">(#139)</a>: <em>Bug in the YarnProvisioner _query_app_by_name</em> by <strong><a href=\"https://github.com/abppriya\">@abppriya</a></strong></li>\n</ul>"
      }
     },
     "097b4dcdd8ff42b79c9aca0dbb7780a5": {
      "model_module": "@jupyter-widgets/base",
      "model_module_version": "2.0.0",
      "model_name": "LayoutModel",
      "state": {
       "_model_module": "@jupyter-widgets/base",
       "_model_module_version": "2.0.0",
       "_model_name": "LayoutModel",
       "_view_count": null,
       "_view_module": "@jupyter-widgets/base",
       "_view_module_version": "2.0.0",
       "_view_name": "LayoutView",
       "align_content": null,
       "align_items": null,
       "align_self": null,
       "border_bottom": null,
       "border_left": null,
       "border_right": null,
       "border_top": null,
       "bottom": null,
       "display": null,
       "flex": null,
       "flex_flow": null,
       "grid_area": null,
       "grid_auto_columns": null,
       "grid_auto_flow": null,
       "grid_auto_rows": null,
       "grid_column": null,
       "grid_gap": null,
       "grid_row": null,
       "grid_template_areas": null,
       "grid_template_columns": null,
       "grid_template_rows": null,
       "height": null,
       "justify_content": null,
       "justify_items": null,
       "left": null,
       "margin": null,
       "max_height": null,
       "max_width": null,
       "min_height": null,
       "min_width": null,
       "object_fit": null,
       "object_position": null,
       "order": null,
       "overflow": null,
       "padding": null,
       "right": null,
       "top": null,
       "visibility": null,
       "width": null
      }
     },
     "0d220873d1534844bb4e8b892b7392b2": {
      "model_module": "@jupyter-widgets/controls",
      "model_module_version": "2.0.0",
      "model_name": "HTMLStyleModel",
      "state": {
       "_model_module": "@jupyter-widgets/controls",
       "_model_module_version": "2.0.0",
       "_model_name": "HTMLStyleModel",
       "_view_count": null,
       "_view_module": "@jupyter-widgets/base",
       "_view_module_version": "2.0.0",
       "_view_name": "StyleView",
       "background": null,
       "description_width": "",
       "font_size": null,
       "text_color": null
      }
     },
     "10c5f6b90dbd46f58ed31f2a87c2444e": {
      "model_module": "@jupyter-widgets/base",
      "model_module_version": "2.0.0",
      "model_name": "LayoutModel",
      "state": {
       "_model_module": "@jupyter-widgets/base",
       "_model_module_version": "2.0.0",
       "_model_name": "LayoutModel",
       "_view_count": null,
       "_view_module": "@jupyter-widgets/base",
       "_view_module_version": "2.0.0",
       "_view_name": "LayoutView",
       "align_content": null,
       "align_items": null,
       "align_self": null,
       "border_bottom": null,
       "border_left": null,
       "border_right": null,
       "border_top": null,
       "bottom": null,
       "display": null,
       "flex": null,
       "flex_flow": null,
       "grid_area": null,
       "grid_auto_columns": null,
       "grid_auto_flow": null,
       "grid_auto_rows": null,
       "grid_column": null,
       "grid_gap": null,
       "grid_row": null,
       "grid_template_areas": null,
       "grid_template_columns": null,
       "grid_template_rows": null,
       "height": null,
       "justify_content": null,
       "justify_items": null,
       "left": null,
       "margin": null,
       "max_height": null,
       "max_width": null,
       "min_height": null,
       "min_width": null,
       "object_fit": null,
       "object_position": null,
       "order": null,
       "overflow": null,
       "padding": null,
       "right": null,
       "top": null,
       "visibility": null,
       "width": null
      }
     },
     "10e65ee9fc314917bf37358f7cfdb844": {
      "model_module": "@jupyter-widgets/base",
      "model_module_version": "2.0.0",
      "model_name": "LayoutModel",
      "state": {
       "_model_module": "@jupyter-widgets/base",
       "_model_module_version": "2.0.0",
       "_model_name": "LayoutModel",
       "_view_count": null,
       "_view_module": "@jupyter-widgets/base",
       "_view_module_version": "2.0.0",
       "_view_name": "LayoutView",
       "align_content": null,
       "align_items": null,
       "align_self": null,
       "border_bottom": null,
       "border_left": null,
       "border_right": null,
       "border_top": null,
       "bottom": null,
       "display": null,
       "flex": null,
       "flex_flow": null,
       "grid_area": null,
       "grid_auto_columns": null,
       "grid_auto_flow": null,
       "grid_auto_rows": null,
       "grid_column": null,
       "grid_gap": null,
       "grid_row": null,
       "grid_template_areas": null,
       "grid_template_columns": null,
       "grid_template_rows": null,
       "height": null,
       "justify_content": null,
       "justify_items": null,
       "left": null,
       "margin": null,
       "max_height": null,
       "max_width": null,
       "min_height": null,
       "min_width": null,
       "object_fit": null,
       "object_position": null,
       "order": null,
       "overflow": null,
       "padding": null,
       "right": null,
       "top": null,
       "visibility": null,
       "width": null
      }
     },
     "1115677e2e224774a8f1b6ff54abb781": {
      "model_module": "@jupyter-widgets/controls",
      "model_module_version": "2.0.0",
      "model_name": "HTMLModel",
      "state": {
       "_dom_classes": [],
       "_model_module": "@jupyter-widgets/controls",
       "_model_module_version": "2.0.0",
       "_model_name": "HTMLModel",
       "_view_count": null,
       "_view_module": "@jupyter-widgets/controls",
       "_view_module_version": "2.0.0",
       "_view_name": "HTMLView",
       "description": "",
       "description_allow_html": false,
       "layout": "IPY_MODEL_e33d631833134a48bdd1c5f823f0f456",
       "placeholder": "​",
       "style": "IPY_MODEL_9b08ff60f6eb4611a5137645caec9b71",
       "tabbable": null,
       "tooltip": null,
       "value": "<h5><a href=\"https://github.com/jupyter-server/team-compass\">jupyter-server/team-compass</a></h5>\n<ul>\n<li><a href=\"https://github.com/jupyter-server/team-compass/issues/73\">(#73)</a>: <em>Meeting Notes 2025</em> by <strong><a href=\"https://github.com/Zsailer\">@Zsailer</a></strong></li>\n<li><a href=\"https://github.com/jupyter-server/team-compass/issues/78\">(#78)</a>: <em>Vote: move <code>pycrdt</code> and <code>pycrdt-websocket</code> to <code>y-crdt</code> organization</em> by <strong><a href=\"https://github.com/davidbrochart\">@davidbrochart</a></strong></li>\n<li><a href=\"https://github.com/jupyter-server/team-compass/issues/77\">(#77)</a>: <em>Move <code>pycrdt</code> to <code>y-crdt</code> organization</em> by <strong><a href=\"https://github.com/davidbrochart\">@davidbrochart</a></strong></li>\n<li><a href=\"https://github.com/jupyter-server/team-compass/issues/79\">(#79)</a>: <em>Proposal: move github-activity into this GitHub organization</em> by <strong><a href=\"https://github.com/choldgraf\">@choldgraf</a></strong></li>\n<li><a href=\"https://github.com/jupyter-server/team-compass/issues/72\">(#72)</a>: <em>Support running kernels in multiple locations (locally or remote) simultaneously.</em> by <strong><a href=\"https://github.com/ojarjur\">@ojarjur</a></strong></li>\n</ul>"
      }
     },
     "12a193a1995a416bb0e0a9966de64ece": {
      "model_module": "@jupyter-widgets/controls",
      "model_module_version": "2.0.0",
      "model_name": "HTMLStyleModel",
      "state": {
       "_model_module": "@jupyter-widgets/controls",
       "_model_module_version": "2.0.0",
       "_model_name": "HTMLStyleModel",
       "_view_count": null,
       "_view_module": "@jupyter-widgets/base",
       "_view_module_version": "2.0.0",
       "_view_name": "StyleView",
       "background": null,
       "description_width": "",
       "font_size": null,
       "text_color": null
      }
     },
     "1f1bb3d8c2ce4734a85a862c33fa7892": {
      "model_module": "@jupyter-widgets/controls",
      "model_module_version": "2.0.0",
      "model_name": "HTMLModel",
      "state": {
       "_dom_classes": [],
       "_model_module": "@jupyter-widgets/controls",
       "_model_module_version": "2.0.0",
       "_model_name": "HTMLModel",
       "_view_count": null,
       "_view_module": "@jupyter-widgets/controls",
       "_view_module_version": "2.0.0",
       "_view_name": "HTMLView",
       "description": "",
       "description_allow_html": false,
       "layout": "IPY_MODEL_2289c6a33d484801ab44d6558c313c84",
       "placeholder": "​",
       "style": "IPY_MODEL_396022818792434d9980d54b9436e991",
       "tabbable": null,
       "tooltip": null,
       "value": "<h5><a href=\"https://github.com/jupyter-server/jupyverse\">jupyter-server/jupyverse</a></h5>\n<ul>\n<li><a href=\"https://github.com/jupyter-server/jupyverse/issues/471\">(#471)</a>: <em>Move jupyverse to Jupyter PyPI organization</em> by <strong><a href=\"https://github.com/Zsailer\">@Zsailer</a></strong></li>\n<li><a href=\"https://github.com/jupyter-server/jupyverse/issues/236\">(#236)</a>: <em>Contents root_dir</em> by <strong><a href=\"https://github.com/davidbrochart\">@davidbrochart</a></strong></li>\n<li><a href=\"https://github.com/jupyter-server/jupyverse/issues/444\">(#444)</a>: <em>Rename mentions to <code>fps-</code>?</em> by <strong><a href=\"https://github.com/jtpio\">@jtpio</a></strong></li>\n</ul>"
      }
     },
     "2289c6a33d484801ab44d6558c313c84": {
      "model_module": "@jupyter-widgets/base",
      "model_module_version": "2.0.0",
      "model_name": "LayoutModel",
      "state": {
       "_model_module": "@jupyter-widgets/base",
       "_model_module_version": "2.0.0",
       "_model_name": "LayoutModel",
       "_view_count": null,
       "_view_module": "@jupyter-widgets/base",
       "_view_module_version": "2.0.0",
       "_view_name": "LayoutView",
       "align_content": null,
       "align_items": null,
       "align_self": null,
       "border_bottom": null,
       "border_left": null,
       "border_right": null,
       "border_top": null,
       "bottom": null,
       "display": null,
       "flex": null,
       "flex_flow": null,
       "grid_area": null,
       "grid_auto_columns": null,
       "grid_auto_flow": null,
       "grid_auto_rows": null,
       "grid_column": null,
       "grid_gap": null,
       "grid_row": null,
       "grid_template_areas": null,
       "grid_template_columns": null,
       "grid_template_rows": null,
       "height": null,
       "justify_content": null,
       "justify_items": null,
       "left": null,
       "margin": null,
       "max_height": null,
       "max_width": null,
       "min_height": null,
       "min_width": null,
       "object_fit": null,
       "object_position": null,
       "order": null,
       "overflow": null,
       "padding": null,
       "right": null,
       "top": null,
       "visibility": null,
       "width": null
      }
     },
     "238c4c9821fc493fbca87606f903c0a0": {
      "model_module": "@jupyter-widgets/controls",
      "model_module_version": "2.0.0",
      "model_name": "HTMLModel",
      "state": {
       "_dom_classes": [],
       "_model_module": "@jupyter-widgets/controls",
       "_model_module_version": "2.0.0",
       "_model_name": "HTMLModel",
       "_view_count": null,
       "_view_module": "@jupyter-widgets/controls",
       "_view_module_version": "2.0.0",
       "_view_name": "HTMLView",
       "description": "",
       "description_allow_html": false,
       "layout": "IPY_MODEL_664c0fcea4b343d29e699c75a4de12aa",
       "placeholder": "​",
       "style": "IPY_MODEL_95b7042ac2bd4d52973b9c34a52a7781",
       "tabbable": null,
       "tooltip": null,
       "value": "<h5><a href=\"https://github.com/jupyter-server/jupyter-scheduler\">jupyter-server/jupyter-scheduler</a></h5>\n<ul>\n<li><a href=\"https://github.com/jupyter-server/jupyter-scheduler/issues/328\">(#328)</a>: <em>Automatically delete all old Notebook jobs</em> by <strong><a href=\"https://github.com/nakvic\">@nakvic</a></strong></li>\n<li><a href=\"https://github.com/jupyter-server/jupyter-scheduler/issues/497\">(#497)</a>: <em>Empty \"Section Navigation\" in user docs</em> by <strong><a href=\"https://github.com/andrii-i\">@andrii-i</a></strong></li>\n<li><a href=\"https://github.com/jupyter-server/jupyter-scheduler/issues/563\">(#563)</a>: <em>Manage the culling of Jupyter Server with scheduled jobs to support JupyterHub</em> by <strong><a href=\"https://github.com/thomasLeclaire\">@thomasLeclaire</a></strong></li>\n<li><a href=\"https://github.com/jupyter-server/jupyter-scheduler/issues/560\">(#560)</a>: <em>JupyterLab 4 classifier is missing</em> by <strong><a href=\"https://github.com/krassowski\">@krassowski</a></strong></li>\n<li><a href=\"https://github.com/jupyter-server/jupyter-scheduler/issues/414\">(#414)</a>: <em>UI for event driven notebook execution</em> by <strong><a href=\"https://github.com/andrii-i\">@andrii-i</a></strong></li>\n</ul>"
      }
     },
     "26ecafc1d8e844d1b6d1befdea3d5f1f": {
      "model_module": "@jupyter-widgets/controls",
      "model_module_version": "2.0.0",
      "model_name": "HTMLStyleModel",
      "state": {
       "_model_module": "@jupyter-widgets/controls",
       "_model_module_version": "2.0.0",
       "_model_name": "HTMLStyleModel",
       "_view_count": null,
       "_view_module": "@jupyter-widgets/base",
       "_view_module_version": "2.0.0",
       "_view_name": "StyleView",
       "background": null,
       "description_width": "",
       "font_size": null,
       "text_color": null
      }
     },
     "274d66276deb48d788c1371806c74c20": {
      "model_module": "@jupyter-widgets/base",
      "model_module_version": "2.0.0",
      "model_name": "LayoutModel",
      "state": {
       "_model_module": "@jupyter-widgets/base",
       "_model_module_version": "2.0.0",
       "_model_name": "LayoutModel",
       "_view_count": null,
       "_view_module": "@jupyter-widgets/base",
       "_view_module_version": "2.0.0",
       "_view_name": "LayoutView",
       "align_content": null,
       "align_items": null,
       "align_self": null,
       "border_bottom": null,
       "border_left": null,
       "border_right": null,
       "border_top": null,
       "bottom": null,
       "display": null,
       "flex": null,
       "flex_flow": null,
       "grid_area": null,
       "grid_auto_columns": null,
       "grid_auto_flow": null,
       "grid_auto_rows": null,
       "grid_column": null,
       "grid_gap": null,
       "grid_row": null,
       "grid_template_areas": null,
       "grid_template_columns": null,
       "grid_template_rows": null,
       "height": null,
       "justify_content": null,
       "justify_items": null,
       "left": null,
       "margin": null,
       "max_height": null,
       "max_width": null,
       "min_height": null,
       "min_width": null,
       "object_fit": null,
       "object_position": null,
       "order": null,
       "overflow": null,
       "padding": null,
       "right": null,
       "top": null,
       "visibility": null,
       "width": null
      }
     },
     "28888f613d73402dbba3467c09a5f65d": {
      "model_module": "@jupyter-widgets/controls",
      "model_module_version": "2.0.0",
      "model_name": "HTMLModel",
      "state": {
       "_dom_classes": [],
       "_model_module": "@jupyter-widgets/controls",
       "_model_module_version": "2.0.0",
       "_model_name": "HTMLModel",
       "_view_count": null,
       "_view_module": "@jupyter-widgets/controls",
       "_view_module_version": "2.0.0",
       "_view_name": "HTMLView",
       "description": "",
       "description_allow_html": false,
       "layout": "IPY_MODEL_f64c8b2fb2954e40a65ca7ba02f95c91",
       "placeholder": "​",
       "style": "IPY_MODEL_a27c3c6eae2348f785784a86deb00640",
       "tabbable": null,
       "tooltip": null,
       "value": "<h5><a href=\"https://github.com/jupyter-server/jupyter-resource-usage\">jupyter-server/jupyter-resource-usage</a></h5>\n<ul>\n<li><a href=\"https://github.com/jupyter-server/jupyter-resource-usage/issues/237\">(#237)</a>: <em>update yarn.lock required: jupyterlab/coreutils =&gt; no exported member 'ResolvedRelativeTimeFormatOptions'</em> by <strong><a href=\"https://github.com/jhgoebbert\">@jhgoebbert</a></strong></li>\n<li><a href=\"https://github.com/jupyter-server/jupyter-resource-usage/issues/245\">(#245)</a>: <em>Enabling track_cpu_percent causes unacceptable input delay in terminal</em> by <strong><a href=\"https://github.com/ctcjab\">@ctcjab</a></strong></li>\n<li><a href=\"https://github.com/jupyter-server/jupyter-resource-usage/issues/242\">(#242)</a>: <em>Better <code>opt-in</code> than <code>opt-out</code> for <code>enable_prometheus_metrics</code></em> by <strong><a href=\"https://github.com/jhgoebbert\">@jhgoebbert</a></strong></li>\n<li><a href=\"https://github.com/jupyter-server/jupyter-resource-usage/issues/123\">(#123)</a>: <em>Prometheus metrics blocks tornado main thread</em> by <strong><a href=\"https://github.com/dleen\">@dleen</a></strong></li>\n<li><a href=\"https://github.com/jupyter-server/jupyter-resource-usage/issues/244\">(#244)</a>: <em>How to configure \"Enable resource usage indicators\" to true from <code>c = get_config()</code></em> by <strong><a href=\"https://github.com/sgrenf95\">@sgrenf95</a></strong></li>\n</ul>"
      }
     },
     "288a91effd194762bfff29930385f9c9": {
      "model_module": "@jupyter-widgets/controls",
      "model_module_version": "2.0.0",
      "model_name": "HTMLModel",
      "state": {
       "_dom_classes": [],
       "_model_module": "@jupyter-widgets/controls",
       "_model_module_version": "2.0.0",
       "_model_name": "HTMLModel",
       "_view_count": null,
       "_view_module": "@jupyter-widgets/controls",
       "_view_module_version": "2.0.0",
       "_view_name": "HTMLView",
       "description": "",
       "description_allow_html": false,
       "layout": "IPY_MODEL_9e24591249e54bffbea6a7a63a621c39",
       "placeholder": "​",
       "style": "IPY_MODEL_12a193a1995a416bb0e0a9966de64ece",
       "tabbable": null,
       "tooltip": null,
       "value": "<h5><a href=\"https://github.com/jupyter-server/kernel_gateway\">jupyter-server/kernel_gateway</a></h5>\n<ul>\n<li><a href=\"https://github.com/jupyter-server/kernel_gateway/issues/398\">(#398)</a>: <em>CLI fails to start on windows with signal import issue</em> by <strong><a href=\"https://github.com/jackgerrits\">@jackgerrits</a></strong></li>\n</ul>"
      }
     },
     "3253ac5f4d3040e982aabe36783726b3": {
      "model_module": "@jupyter-widgets/controls",
      "model_module_version": "2.0.0",
      "model_name": "TabModel",
      "state": {
       "_dom_classes": [],
       "_model_module": "@jupyter-widgets/controls",
       "_model_module_version": "2.0.0",
       "_model_name": "TabModel",
       "_view_count": null,
       "_view_module": "@jupyter-widgets/controls",
       "_view_module_version": "2.0.0",
       "_view_name": "TabView",
       "box_style": "",
       "children": [
        "IPY_MODEL_01c675f5403047e48b610d309d407c35",
        "IPY_MODEL_8a4b47f67cba4ad090025fe6b439e222",
        "IPY_MODEL_57ffe34298f149c7b6e18b37225a62ef",
        "IPY_MODEL_e22350f0544c4a0c87ea47491003edee",
        "IPY_MODEL_3e13e8de64504ed084be7079a856c0e3",
        "IPY_MODEL_922b1f610c6a4d64a5d739f92927378a",
        "IPY_MODEL_8d1fad881d9040a49bbc6c6af476a66e"
       ],
       "layout": "IPY_MODEL_e154eb6d9ff44233b74ea80e5c31068a",
       "selected_index": 0,
       "tabbable": null,
       "titles": [
        "fps",
        "jupyter-scheduler",
        "jupyter_releaser",
        "jupyter_server",
        "jupyter_server_terminals",
        "jupyter_ydoc",
        "jupyverse"
       ],
       "tooltip": null
      }
     },
     "3328b9ac6c614d2e8324a5a76d0066bd": {
      "model_module": "@jupyter-widgets/controls",
      "model_module_version": "2.0.0",
      "model_name": "HTMLStyleModel",
      "state": {
       "_model_module": "@jupyter-widgets/controls",
       "_model_module_version": "2.0.0",
       "_model_name": "HTMLStyleModel",
       "_view_count": null,
       "_view_module": "@jupyter-widgets/base",
       "_view_module_version": "2.0.0",
       "_view_name": "StyleView",
       "background": null,
       "description_width": "",
       "font_size": null,
       "text_color": null
      }
     },
     "383da39eecf34261885bed53556d0c86": {
      "model_module": "@jupyter-widgets/controls",
      "model_module_version": "2.0.0",
      "model_name": "HTMLModel",
      "state": {
       "_dom_classes": [],
       "_model_module": "@jupyter-widgets/controls",
       "_model_module_version": "2.0.0",
       "_model_name": "HTMLModel",
       "_view_count": null,
       "_view_module": "@jupyter-widgets/controls",
       "_view_module_version": "2.0.0",
       "_view_name": "HTMLView",
       "description": "",
       "description_allow_html": false,
       "layout": "IPY_MODEL_99620d71754e401096c5dd35ca8a5b82",
       "placeholder": "​",
       "style": "IPY_MODEL_ab52db53b28d4aa9b695c4d3705a83d6",
       "tabbable": null,
       "tooltip": null,
       "value": "<h5><a href=\"https://github.com/jupyter-server/fps\">jupyter-server/fps</a></h5>\n<ul>\n<li><a href=\"https://github.com/jupyter-server/fps/issues/112\">(#112)</a>: <em>Move fps to Jupyter PyPI organization</em> by <strong><a href=\"https://github.com/Zsailer\">@Zsailer</a></strong></li>\n<li><a href=\"https://github.com/jupyter-server/fps/issues/44\">(#44)</a>: <em>Forward CLI args to application</em> by <strong><a href=\"https://github.com/davidbrochart\">@davidbrochart</a></strong></li>\n<li><a href=\"https://github.com/jupyter-server/fps/issues/54\">(#54)</a>: <em>Run-time plugin router definition</em> by <strong><a href=\"https://github.com/davidbrochart\">@davidbrochart</a></strong></li>\n</ul>"
      }
     },
     "396022818792434d9980d54b9436e991": {
      "model_module": "@jupyter-widgets/controls",
      "model_module_version": "2.0.0",
      "model_name": "HTMLStyleModel",
      "state": {
       "_model_module": "@jupyter-widgets/controls",
       "_model_module_version": "2.0.0",
       "_model_name": "HTMLStyleModel",
       "_view_count": null,
       "_view_module": "@jupyter-widgets/base",
       "_view_module_version": "2.0.0",
       "_view_name": "StyleView",
       "background": null,
       "description_width": "",
       "font_size": null,
       "text_color": null
      }
     },
     "3e13e8de64504ed084be7079a856c0e3": {
      "model_module": "@jupyter-widgets/controls",
      "model_module_version": "2.0.0",
      "model_name": "HTMLModel",
      "state": {
       "_dom_classes": [],
       "_model_module": "@jupyter-widgets/controls",
       "_model_module_version": "2.0.0",
       "_model_name": "HTMLModel",
       "_view_count": null,
       "_view_module": "@jupyter-widgets/controls",
       "_view_module_version": "2.0.0",
       "_view_name": "HTMLView",
       "description": "",
       "description_allow_html": false,
       "layout": "IPY_MODEL_c4b8e91b4d3c48d4aa26a8ef6bd7fbb0",
       "placeholder": "​",
       "style": "IPY_MODEL_d5da8c11b89446ae8b004d959d8a653f",
       "tabbable": null,
       "tooltip": null,
       "value": "<h4>Closed PRs for repo: <a href=\"https://github.com/jupyter-server/jupyter_server_terminals\">jupyter-server/jupyter_server_terminals</a></h4>\n<h5></h5>\n<ul>\n<li><a href=\"https://github.com/jupyter-server/jupyter_server_terminals/issues/109\">(#109)</a>: <em>allow async authorization</em> by <strong><a href=\"https://github.com/Zsailer\">@Zsailer</a></strong> merged by <strong><a href=\"https://github.com/Zsailer\">@Zsailer</a></strong></li>\n</ul>"
      }
     },
     "469e8a18f88e4b239fc865df8461d2a4": {
      "model_module": "@jupyter-widgets/controls",
      "model_module_version": "2.0.0",
      "model_name": "HTMLStyleModel",
      "state": {
       "_model_module": "@jupyter-widgets/controls",
       "_model_module_version": "2.0.0",
       "_model_name": "HTMLStyleModel",
       "_view_count": null,
       "_view_module": "@jupyter-widgets/base",
       "_view_module_version": "2.0.0",
       "_view_name": "StyleView",
       "background": null,
       "description_width": "",
       "font_size": null,
       "text_color": null
      }
     },
     "4aa323cbf8d24bc0a8c290baa44c53c5": {
      "model_module": "@jupyter-widgets/controls",
      "model_module_version": "2.0.0",
      "model_name": "HTMLStyleModel",
      "state": {
       "_model_module": "@jupyter-widgets/controls",
       "_model_module_version": "2.0.0",
       "_model_name": "HTMLStyleModel",
       "_view_count": null,
       "_view_module": "@jupyter-widgets/base",
       "_view_module_version": "2.0.0",
       "_view_name": "StyleView",
       "background": null,
       "description_width": "",
       "font_size": null,
       "text_color": null
      }
     },
     "4c70998b37624631b2510dcacfec2e79": {
      "model_module": "@jupyter-widgets/controls",
      "model_module_version": "2.0.0",
      "model_name": "HTMLModel",
      "state": {
       "_dom_classes": [],
       "_model_module": "@jupyter-widgets/controls",
       "_model_module_version": "2.0.0",
       "_model_name": "HTMLModel",
       "_view_count": null,
       "_view_module": "@jupyter-widgets/controls",
       "_view_module_version": "2.0.0",
       "_view_name": "HTMLView",
       "description": "",
       "description_allow_html": false,
       "layout": "IPY_MODEL_10c5f6b90dbd46f58ed31f2a87c2444e",
       "placeholder": "​",
       "style": "IPY_MODEL_469e8a18f88e4b239fc865df8461d2a4",
       "tabbable": null,
       "tooltip": null,
       "value": "<h5><a href=\"https://github.com/jupyter-server/enterprise_gateway\">jupyter-server/enterprise_gateway</a></h5>\n<ul>\n<li><a href=\"https://github.com/jupyter-server/enterprise_gateway/issues/1392\">(#1392)</a>: _Custom Spark 3.5.3 Kernel _ by <strong><a href=\"https://github.com/fatihmete\">@fatihmete</a></strong></li>\n<li><a href=\"https://github.com/jupyter-server/enterprise_gateway/issues/1404\">(#1404)</a>: <em>Setting up Jupyterhub to work with Enterprise Gateway</em> by <strong><a href=\"https://github.com/demardefrozen10\">@demardefrozen10</a></strong></li>\n<li><a href=\"https://github.com/jupyter-server/enterprise_gateway/issues/1359\">(#1359)</a>: <em>KIP cannot use ImagePullSecret when using containerd</em> by <strong><a href=\"https://github.com/Buchhold\">@Buchhold</a></strong></li>\n<li><a href=\"https://github.com/jupyter-server/enterprise_gateway/issues/1382\">(#1382)</a>: <em>Error: module 'kubernetes.client' has no attribute 'V1Subject'</em> by <strong><a href=\"https://github.com/fm2022aa\">@fm2022aa</a></strong></li>\n<li><a href=\"https://github.com/jupyter-server/enterprise_gateway/issues/1402\">(#1402)</a>: <em>Fix Infinite Loop in WebSocket Connection Message Handling</em> by <strong><a href=\"https://github.com/zdhdsx\">@zdhdsx</a></strong></li>\n</ul>"
      }
     },
     "5539619c9d0348c4a30f8e647a5b21b5": {
      "model_module": "@jupyter-widgets/base",
      "model_module_version": "2.0.0",
      "model_name": "LayoutModel",
      "state": {
       "_model_module": "@jupyter-widgets/base",
       "_model_module_version": "2.0.0",
       "_model_name": "LayoutModel",
       "_view_count": null,
       "_view_module": "@jupyter-widgets/base",
       "_view_module_version": "2.0.0",
       "_view_name": "LayoutView",
       "align_content": null,
       "align_items": null,
       "align_self": null,
       "border_bottom": null,
       "border_left": null,
       "border_right": null,
       "border_top": null,
       "bottom": null,
       "display": null,
       "flex": null,
       "flex_flow": null,
       "grid_area": null,
       "grid_auto_columns": null,
       "grid_auto_flow": null,
       "grid_auto_rows": null,
       "grid_column": null,
       "grid_gap": null,
       "grid_row": null,
       "grid_template_areas": null,
       "grid_template_columns": null,
       "grid_template_rows": null,
       "height": null,
       "justify_content": null,
       "justify_items": null,
       "left": null,
       "margin": null,
       "max_height": null,
       "max_width": null,
       "min_height": null,
       "min_width": null,
       "object_fit": null,
       "object_position": null,
       "order": null,
       "overflow": null,
       "padding": null,
       "right": null,
       "top": null,
       "visibility": null,
       "width": null
      }
     },
     "558c2daf09914715aac32d93db4caebd": {
      "model_module": "@jupyter-widgets/controls",
      "model_module_version": "2.0.0",
      "model_name": "HTMLModel",
      "state": {
       "_dom_classes": [],
       "_model_module": "@jupyter-widgets/controls",
       "_model_module_version": "2.0.0",
       "_model_name": "HTMLModel",
       "_view_count": null,
       "_view_module": "@jupyter-widgets/controls",
       "_view_module_version": "2.0.0",
       "_view_name": "HTMLView",
       "description": "",
       "description_allow_html": false,
       "layout": "IPY_MODEL_7d8781ef705c4441adc4d2f9c67e736e",
       "placeholder": "​",
       "style": "IPY_MODEL_943ca13af9704c7d87c45c48f68697f8",
       "tabbable": null,
       "tooltip": null,
       "value": "<ul>\n<li>(20) Towards a new generic and composable server - team-compass - <a href=\"https://github.com/jupyter-server/team-compass/issues/11\">#11</a></li>\n<li>(11) Proposal: Restore Notebook execution progress when a browser page is reloaded - jupyter_server - <a href=\"https://github.com/jupyter-server/jupyter_server/issues/1274\">#1274</a></li>\n<li>(9) Feature Request: Health check for enterprise gateway - enterprise_gateway - <a href=\"https://github.com/jupyter-server/enterprise_gateway/issues/697\">#697</a></li>\n<li>(9) Add GPU usage? - jupyter-resource-usage - <a href=\"https://github.com/jupyter-server/jupyter-resource-usage/issues/12\">#12</a></li>\n<li>(8) 'NoneType' object has no attribute 'kernel_ws_protocol' - jupyter_server - <a href=\"https://github.com/jupyter-server/jupyter_server/issues/1265\">#1265</a></li>\n<li>(5) Automatically delete all old Notebook jobs - jupyter-scheduler - <a href=\"https://github.com/jupyter-server/jupyter-scheduler/issues/328\">#328</a></li>\n<li>(4) [Proposal] Jupyter Server should handle resolving kernel lifecycle and execution states. - jupyter_server - <a href=\"https://github.com/jupyter-server/jupyter_server/issues/990\">#990</a></li>\n<li>(4)  Adding a release date alongside the release tag would be useful - jupyter_releaser - <a href=\"https://github.com/jupyter-server/jupyter_releaser/issues/600\">#600</a></li>\n<li>(4) Run python script files as jobs - jupyter-scheduler - <a href=\"https://github.com/jupyter-server/jupyter-scheduler/issues/409\">#409</a></li>\n<li>(4) Websocket connect rejected - jupyverse - <a href=\"https://github.com/jupyter-server/jupyverse/issues/409\">#409</a></li>\n<li>(3) Metric Collection and Montioring - enterprise_gateway - <a href=\"https://github.com/jupyter-server/enterprise_gateway/issues/731\">#731</a></li>\n<li>(3) Enable users to access the jupyter server logs - jupyter_server - <a href=\"https://github.com/jupyter-server/jupyter_server/issues/684\">#684</a></li>\n<li>(3) Idea💡 Use Cloud Native K8S Jupyter Operator - enterprise_gateway - <a href=\"https://github.com/jupyter-server/enterprise_gateway/issues/1025\">#1025</a></li>\n<li>(3) Remove usages of tornado io_loop in favor of native asyncio - jupyter_server - <a href=\"https://github.com/jupyter-server/jupyter_server/issues/1362\">#1362</a></li>\n<li>(3) Tracking free-threading support - jupyter_server - <a href=\"https://github.com/jupyter-server/jupyter_server/issues/1473\">#1473</a></li>\n<li>(3) Add Security.txt File - jupyter_server - <a href=\"https://github.com/jupyter-server/jupyter_server/issues/249\">#249</a></li>\n<li>(3) Convert tests to pytest framework - enterprise_gateway - <a href=\"https://github.com/jupyter-server/enterprise_gateway/issues/1089\">#1089</a></li>\n<li>(3) Shutting down the server started with password pre-set will encounter an error <code>tornado.httpclient.HTTPClientError: HTTP 403: Forbidden</code> - jupyter_server - <a href=\"https://github.com/jupyter-server/jupyter_server/issues/1008\">#1008</a></li>\n<li>(3) Support websocket connections in notebook-http mode - kernel_gateway - <a href=\"https://github.com/jupyter-server/kernel_gateway/issues/60\">#60</a></li>\n<li>(3) Serve kernel WASM assets - jupyter_server - <a href=\"https://github.com/jupyter-server/jupyter_server/issues/1376\">#1376</a></li>\n<li>(3) Registering new file formats for the ContentsManager - jupyter_server - <a href=\"https://github.com/jupyter-server/jupyter_server/issues/1456\">#1456</a></li>\n<li>(2) Issue when using directory named \"checkpoints\" or \"trust\" - jupyter_server - <a href=\"https://github.com/jupyter-server/jupyter_server/issues/58\">#58</a></li>\n<li>(2) Populate release as part of the <code>Step 1: Prep Release</code> workflow? - jupyter_releaser - <a href=\"https://github.com/jupyter-server/jupyter_releaser/issues/552\">#552</a></li>\n<li>(2) Make frontends discoverable and add a frontend alias. - jupyter_server - <a href=\"https://github.com/jupyter-server/jupyter_server/issues/121\">#121</a></li>\n<li>(2) Queue of jobs with max concurrency - jupyter-scheduler - <a href=\"https://github.com/jupyter-server/jupyter-scheduler/issues/447\">#447</a></li>\n</ul>"
      }
     },
     "567cad94eea647949b538f1251f18554": {
      "model_module": "@jupyter-widgets/controls",
      "model_module_version": "2.0.0",
      "model_name": "HTMLStyleModel",
      "state": {
       "_model_module": "@jupyter-widgets/controls",
       "_model_module_version": "2.0.0",
       "_model_name": "HTMLStyleModel",
       "_view_count": null,
       "_view_module": "@jupyter-widgets/base",
       "_view_module_version": "2.0.0",
       "_view_name": "StyleView",
       "background": null,
       "description_width": "",
       "font_size": null,
       "text_color": null
      }
     },
     "57ffe34298f149c7b6e18b37225a62ef": {
      "model_module": "@jupyter-widgets/controls",
      "model_module_version": "2.0.0",
      "model_name": "HTMLModel",
      "state": {
       "_dom_classes": [],
       "_model_module": "@jupyter-widgets/controls",
       "_model_module_version": "2.0.0",
       "_model_name": "HTMLModel",
       "_view_count": null,
       "_view_module": "@jupyter-widgets/controls",
       "_view_module_version": "2.0.0",
       "_view_name": "HTMLView",
       "description": "",
       "description_allow_html": false,
       "layout": "IPY_MODEL_a45b005750a24021a8aadeb09efe1d89",
       "placeholder": "​",
       "style": "IPY_MODEL_bac9318e8859420495b11556ae3122be",
       "tabbable": null,
       "tooltip": null,
       "value": "<h4>Closed PRs for repo: <a href=\"https://github.com/jupyter-server/jupyter_releaser\">jupyter-server/jupyter_releaser</a></h4>\n<h5></h5>\n<ul>\n<li><a href=\"https://github.com/jupyter-server/jupyter_releaser/issues/605\">(#605)</a>: <em>Check for <code>npm</code> error code 409 to skip previously published packages in private registries</em> by <strong><a href=\"https://github.com/martenrichter\">@martenrichter</a></strong> merged by <strong><a href=\"https://github.com/krassowski\">@krassowski</a></strong></li>\n<li><a href=\"https://github.com/jupyter-server/jupyter_releaser/issues/607\">(#607)</a>: <em>Pin to <code>click&lt;8.2.0</code>, pin <code>pypiserver</code> based on the Python version</em> by <strong><a href=\"https://github.com/jtpio\">@jtpio</a></strong> merged by <strong><a href=\"https://github.com/krassowski\">@krassowski</a></strong></li>\n<li><a href=\"https://github.com/jupyter-server/jupyter_releaser/issues/608\">(#608)</a>: <em>Replace <code>ubuntu-20.04</code> runners with <code>ubuntu-latest</code></em> by <strong><a href=\"https://github.com/krassowski\">@krassowski</a></strong> merged by <strong><a href=\"https://github.com/jtpio\">@jtpio</a></strong></li>\n<li><a href=\"https://github.com/jupyter-server/jupyter_releaser/issues/609\">(#609)</a>: <em>Require Python 3.9+, test on Python 3.9 and 3.13</em> by <strong><a href=\"https://github.com/krassowski\">@krassowski</a></strong> merged by <strong><a href=\"https://github.com/jtpio\">@jtpio</a></strong></li>\n<li><a href=\"https://github.com/jupyter-server/jupyter_releaser/issues/610\">(#610)</a>: <em>CI troubleshoot</em> by <strong><a href=\"https://github.com/jtpio\">@jtpio</a></strong> merged by <strong><a href=\"https://github.com/jtpio\">@jtpio</a></strong></li>\n</ul>"
      }
     },
     "5db3aa9dc519446e83e3aa350c9a0f92": {
      "model_module": "@jupyter-widgets/base",
      "model_module_version": "2.0.0",
      "model_name": "LayoutModel",
      "state": {
       "_model_module": "@jupyter-widgets/base",
       "_model_module_version": "2.0.0",
       "_model_name": "LayoutModel",
       "_view_count": null,
       "_view_module": "@jupyter-widgets/base",
       "_view_module_version": "2.0.0",
       "_view_name": "LayoutView",
       "align_content": null,
       "align_items": null,
       "align_self": null,
       "border_bottom": null,
       "border_left": null,
       "border_right": null,
       "border_top": null,
       "bottom": null,
       "display": null,
       "flex": null,
       "flex_flow": null,
       "grid_area": null,
       "grid_auto_columns": null,
       "grid_auto_flow": null,
       "grid_auto_rows": null,
       "grid_column": null,
       "grid_gap": null,
       "grid_row": null,
       "grid_template_areas": null,
       "grid_template_columns": null,
       "grid_template_rows": null,
       "height": null,
       "justify_content": null,
       "justify_items": null,
       "left": null,
       "margin": null,
       "max_height": null,
       "max_width": null,
       "min_height": null,
       "min_width": null,
       "object_fit": null,
       "object_position": null,
       "order": null,
       "overflow": null,
       "padding": null,
       "right": null,
       "top": null,
       "visibility": null,
       "width": null
      }
     },
     "6299d6258c3d4efd8a96e1c40e286998": {
      "model_module": "@jupyter-widgets/controls",
      "model_module_version": "2.0.0",
      "model_name": "HTMLModel",
      "state": {
       "_dom_classes": [],
       "_model_module": "@jupyter-widgets/controls",
       "_model_module_version": "2.0.0",
       "_model_name": "HTMLModel",
       "_view_count": null,
       "_view_module": "@jupyter-widgets/controls",
       "_view_module_version": "2.0.0",
       "_view_name": "HTMLView",
       "description": "",
       "description_allow_html": false,
       "layout": "IPY_MODEL_68d4334e774645feb2bb24af8b182ad8",
       "placeholder": "​",
       "style": "IPY_MODEL_8c13cfe9881c4deb878f8b7afb58df7e",
       "tabbable": null,
       "tooltip": null,
       "value": "<h5><a href=\"https://github.com/jupyter-server/jupyter_server\">jupyter-server/jupyter_server</a></h5>\n<ul>\n<li><a href=\"https://github.com/jupyter-server/jupyter_server/issues/1519\">(#1519)</a>: <em>Time for a new release?</em> by <strong><a href=\"https://github.com/krassowski\">@krassowski</a></strong></li>\n<li><a href=\"https://github.com/jupyter-server/jupyter_server/issues/1428\">(#1428)</a>: <em>Fix outdated security documentation</em> by <strong><a href=\"https://github.com/colinpalmer\">@colinpalmer</a></strong></li>\n<li><a href=\"https://github.com/jupyter-server/jupyter_server/issues/1497\">(#1497)</a>: <em>AttributeError seen while running xeus-cpp</em> by <strong><a href=\"https://github.com/anutosh491\">@anutosh491</a></strong></li>\n<li><a href=\"https://github.com/jupyter-server/jupyter_server/issues/1524\">(#1524)</a>: <em>Crash when renaming large files</em> by <strong><a href=\"https://github.com/danyeaw\">@danyeaw</a></strong></li>\n<li><a href=\"https://github.com/jupyter-server/jupyter_server/issues/1476\">(#1476)</a>: <em>boostrap v3 is EOL upstream; migrate to bootstrap v5</em> by <strong><a href=\"https://github.com/juliangilbey\">@juliangilbey</a></strong></li>\n</ul>"
      }
     },
     "664c0fcea4b343d29e699c75a4de12aa": {
      "model_module": "@jupyter-widgets/base",
      "model_module_version": "2.0.0",
      "model_name": "LayoutModel",
      "state": {
       "_model_module": "@jupyter-widgets/base",
       "_model_module_version": "2.0.0",
       "_model_name": "LayoutModel",
       "_view_count": null,
       "_view_module": "@jupyter-widgets/base",
       "_view_module_version": "2.0.0",
       "_view_name": "LayoutView",
       "align_content": null,
       "align_items": null,
       "align_self": null,
       "border_bottom": null,
       "border_left": null,
       "border_right": null,
       "border_top": null,
       "bottom": null,
       "display": null,
       "flex": null,
       "flex_flow": null,
       "grid_area": null,
       "grid_auto_columns": null,
       "grid_auto_flow": null,
       "grid_auto_rows": null,
       "grid_column": null,
       "grid_gap": null,
       "grid_row": null,
       "grid_template_areas": null,
       "grid_template_columns": null,
       "grid_template_rows": null,
       "height": null,
       "justify_content": null,
       "justify_items": null,
       "left": null,
       "margin": null,
       "max_height": null,
       "max_width": null,
       "min_height": null,
       "min_width": null,
       "object_fit": null,
       "object_position": null,
       "order": null,
       "overflow": null,
       "padding": null,
       "right": null,
       "top": null,
       "visibility": null,
       "width": null
      }
     },
     "68d4334e774645feb2bb24af8b182ad8": {
      "model_module": "@jupyter-widgets/base",
      "model_module_version": "2.0.0",
      "model_name": "LayoutModel",
      "state": {
       "_model_module": "@jupyter-widgets/base",
       "_model_module_version": "2.0.0",
       "_model_name": "LayoutModel",
       "_view_count": null,
       "_view_module": "@jupyter-widgets/base",
       "_view_module_version": "2.0.0",
       "_view_name": "LayoutView",
       "align_content": null,
       "align_items": null,
       "align_self": null,
       "border_bottom": null,
       "border_left": null,
       "border_right": null,
       "border_top": null,
       "bottom": null,
       "display": null,
       "flex": null,
       "flex_flow": null,
       "grid_area": null,
       "grid_auto_columns": null,
       "grid_auto_flow": null,
       "grid_auto_rows": null,
       "grid_column": null,
       "grid_gap": null,
       "grid_row": null,
       "grid_template_areas": null,
       "grid_template_columns": null,
       "grid_template_rows": null,
       "height": null,
       "justify_content": null,
       "justify_items": null,
       "left": null,
       "margin": null,
       "max_height": null,
       "max_width": null,
       "min_height": null,
       "min_width": null,
       "object_fit": null,
       "object_position": null,
       "order": null,
       "overflow": null,
       "padding": null,
       "right": null,
       "top": null,
       "visibility": null,
       "width": null
      }
     },
     "7045f25488a34b17af2baa38df4a3a79": {
      "model_module": "@jupyter-widgets/base",
      "model_module_version": "2.0.0",
      "model_name": "LayoutModel",
      "state": {
       "_model_module": "@jupyter-widgets/base",
       "_model_module_version": "2.0.0",
       "_model_name": "LayoutModel",
       "_view_count": null,
       "_view_module": "@jupyter-widgets/base",
       "_view_module_version": "2.0.0",
       "_view_name": "LayoutView",
       "align_content": null,
       "align_items": null,
       "align_self": null,
       "border_bottom": null,
       "border_left": null,
       "border_right": null,
       "border_top": null,
       "bottom": null,
       "display": null,
       "flex": null,
       "flex_flow": null,
       "grid_area": null,
       "grid_auto_columns": null,
       "grid_auto_flow": null,
       "grid_auto_rows": null,
       "grid_column": null,
       "grid_gap": null,
       "grid_row": null,
       "grid_template_areas": null,
       "grid_template_columns": null,
       "grid_template_rows": null,
       "height": null,
       "justify_content": null,
       "justify_items": null,
       "left": null,
       "margin": null,
       "max_height": null,
       "max_width": null,
       "min_height": null,
       "min_width": null,
       "object_fit": null,
       "object_position": null,
       "order": null,
       "overflow": null,
       "padding": null,
       "right": null,
       "top": null,
       "visibility": null,
       "width": null
      }
     },
     "70e78f40e32f49a28e9b73e34a3bcd94": {
      "model_module": "@jupyter-widgets/base",
      "model_module_version": "2.0.0",
      "model_name": "LayoutModel",
      "state": {
       "_model_module": "@jupyter-widgets/base",
       "_model_module_version": "2.0.0",
       "_model_name": "LayoutModel",
       "_view_count": null,
       "_view_module": "@jupyter-widgets/base",
       "_view_module_version": "2.0.0",
       "_view_name": "LayoutView",
       "align_content": null,
       "align_items": null,
       "align_self": null,
       "border_bottom": null,
       "border_left": null,
       "border_right": null,
       "border_top": null,
       "bottom": null,
       "display": null,
       "flex": null,
       "flex_flow": null,
       "grid_area": null,
       "grid_auto_columns": null,
       "grid_auto_flow": null,
       "grid_auto_rows": null,
       "grid_column": null,
       "grid_gap": null,
       "grid_row": null,
       "grid_template_areas": null,
       "grid_template_columns": null,
       "grid_template_rows": null,
       "height": null,
       "justify_content": null,
       "justify_items": null,
       "left": null,
       "margin": null,
       "max_height": null,
       "max_width": null,
       "min_height": null,
       "min_width": null,
       "object_fit": null,
       "object_position": null,
       "order": null,
       "overflow": null,
       "padding": null,
       "right": null,
       "top": null,
       "visibility": null,
       "width": null
      }
     },
     "7888b9f7201940f385209a78ed014ac9": {
      "model_module": "@jupyter-widgets/controls",
      "model_module_version": "2.0.0",
      "model_name": "HTMLModel",
      "state": {
       "_dom_classes": [],
       "_model_module": "@jupyter-widgets/controls",
       "_model_module_version": "2.0.0",
       "_model_name": "HTMLModel",
       "_view_count": null,
       "_view_module": "@jupyter-widgets/controls",
       "_view_module_version": "2.0.0",
       "_view_name": "HTMLView",
       "description": "",
       "description_allow_html": false,
       "layout": "IPY_MODEL_90cf51a37a0947f08b19dfd869f6f643",
       "placeholder": "​",
       "style": "IPY_MODEL_567cad94eea647949b538f1251f18554",
       "tabbable": null,
       "tooltip": null,
       "value": "<h5><a href=\"https://github.com/jupyter-server/jupyter-resource-usage\">jupyter-server/jupyter-resource-usage</a></h5>\n<ul>\n<li><a href=\"https://github.com/jupyter-server/jupyter-resource-usage/issues/237\">(#237)</a>: <em>update yarn.lock required: jupyterlab/coreutils =&gt; no exported member 'ResolvedRelativeTimeFormatOptions'</em> by <strong><a href=\"https://github.com/jhgoebbert\">@jhgoebbert</a></strong></li>\n<li><a href=\"https://github.com/jupyter-server/jupyter-resource-usage/issues/245\">(#245)</a>: <em>Enabling track_cpu_percent causes unacceptable input delay in terminal</em> by <strong><a href=\"https://github.com/ctcjab\">@ctcjab</a></strong></li>\n<li><a href=\"https://github.com/jupyter-server/jupyter-resource-usage/issues/242\">(#242)</a>: <em>Better <code>opt-in</code> than <code>opt-out</code> for <code>enable_prometheus_metrics</code></em> by <strong><a href=\"https://github.com/jhgoebbert\">@jhgoebbert</a></strong></li>\n<li><a href=\"https://github.com/jupyter-server/jupyter-resource-usage/issues/123\">(#123)</a>: <em>Prometheus metrics blocks tornado main thread</em> by <strong><a href=\"https://github.com/dleen\">@dleen</a></strong></li>\n<li><a href=\"https://github.com/jupyter-server/jupyter-resource-usage/issues/244\">(#244)</a>: <em>How to configure \"Enable resource usage indicators\" to true from <code>c = get_config()</code></em> by <strong><a href=\"https://github.com/sgrenf95\">@sgrenf95</a></strong></li>\n</ul>"
      }
     },
     "78e3504b6f8c41e997f7fb74e138e581": {
      "model_module": "@jupyter-widgets/controls",
      "model_module_version": "2.0.0",
      "model_name": "HTMLStyleModel",
      "state": {
       "_model_module": "@jupyter-widgets/controls",
       "_model_module_version": "2.0.0",
       "_model_name": "HTMLStyleModel",
       "_view_count": null,
       "_view_module": "@jupyter-widgets/base",
       "_view_module_version": "2.0.0",
       "_view_name": "StyleView",
       "background": null,
       "description_width": "",
       "font_size": null,
       "text_color": null
      }
     },
     "7a9fe736835c47ada682e5f0d63b7a45": {
      "model_module": "@jupyter-widgets/base",
      "model_module_version": "2.0.0",
      "model_name": "LayoutModel",
      "state": {
       "_model_module": "@jupyter-widgets/base",
       "_model_module_version": "2.0.0",
       "_model_name": "LayoutModel",
       "_view_count": null,
       "_view_module": "@jupyter-widgets/base",
       "_view_module_version": "2.0.0",
       "_view_name": "LayoutView",
       "align_content": null,
       "align_items": null,
       "align_self": null,
       "border_bottom": null,
       "border_left": null,
       "border_right": null,
       "border_top": null,
       "bottom": null,
       "display": null,
       "flex": null,
       "flex_flow": null,
       "grid_area": null,
       "grid_auto_columns": null,
       "grid_auto_flow": null,
       "grid_auto_rows": null,
       "grid_column": null,
       "grid_gap": null,
       "grid_row": null,
       "grid_template_areas": null,
       "grid_template_columns": null,
       "grid_template_rows": null,
       "height": null,
       "justify_content": null,
       "justify_items": null,
       "left": null,
       "margin": null,
       "max_height": null,
       "max_width": null,
       "min_height": null,
       "min_width": null,
       "object_fit": null,
       "object_position": null,
       "order": null,
       "overflow": null,
       "padding": null,
       "right": null,
       "top": null,
       "visibility": null,
       "width": null
      }
     },
     "7d8781ef705c4441adc4d2f9c67e736e": {
      "model_module": "@jupyter-widgets/base",
      "model_module_version": "2.0.0",
      "model_name": "LayoutModel",
      "state": {
       "_model_module": "@jupyter-widgets/base",
       "_model_module_version": "2.0.0",
       "_model_name": "LayoutModel",
       "_view_count": null,
       "_view_module": "@jupyter-widgets/base",
       "_view_module_version": "2.0.0",
       "_view_name": "LayoutView",
       "align_content": null,
       "align_items": null,
       "align_self": null,
       "border_bottom": null,
       "border_left": null,
       "border_right": null,
       "border_top": null,
       "bottom": null,
       "display": null,
       "flex": null,
       "flex_flow": null,
       "grid_area": null,
       "grid_auto_columns": null,
       "grid_auto_flow": null,
       "grid_auto_rows": null,
       "grid_column": null,
       "grid_gap": null,
       "grid_row": null,
       "grid_template_areas": null,
       "grid_template_columns": null,
       "grid_template_rows": null,
       "height": null,
       "justify_content": null,
       "justify_items": null,
       "left": null,
       "margin": null,
       "max_height": null,
       "max_width": null,
       "min_height": null,
       "min_width": null,
       "object_fit": null,
       "object_position": null,
       "order": null,
       "overflow": null,
       "padding": null,
       "right": null,
       "top": null,
       "visibility": null,
       "width": null
      }
     },
     "7eecc2b268854affb52c636e8a97347a": {
      "model_module": "@jupyter-widgets/controls",
      "model_module_version": "2.0.0",
      "model_name": "HTMLStyleModel",
      "state": {
       "_model_module": "@jupyter-widgets/controls",
       "_model_module_version": "2.0.0",
       "_model_name": "HTMLStyleModel",
       "_view_count": null,
       "_view_module": "@jupyter-widgets/base",
       "_view_module_version": "2.0.0",
       "_view_name": "StyleView",
       "background": null,
       "description_width": "",
       "font_size": null,
       "text_color": null
      }
     },
     "830cd23e7a6a4fc4bd4c5c3cf23674c8": {
      "model_module": "@jupyter-widgets/base",
      "model_module_version": "2.0.0",
      "model_name": "LayoutModel",
      "state": {
       "_model_module": "@jupyter-widgets/base",
       "_model_module_version": "2.0.0",
       "_model_name": "LayoutModel",
       "_view_count": null,
       "_view_module": "@jupyter-widgets/base",
       "_view_module_version": "2.0.0",
       "_view_name": "LayoutView",
       "align_content": null,
       "align_items": null,
       "align_self": null,
       "border_bottom": null,
       "border_left": null,
       "border_right": null,
       "border_top": null,
       "bottom": null,
       "display": null,
       "flex": null,
       "flex_flow": null,
       "grid_area": null,
       "grid_auto_columns": null,
       "grid_auto_flow": null,
       "grid_auto_rows": null,
       "grid_column": null,
       "grid_gap": null,
       "grid_row": null,
       "grid_template_areas": null,
       "grid_template_columns": null,
       "grid_template_rows": null,
       "height": null,
       "justify_content": null,
       "justify_items": null,
       "left": null,
       "margin": null,
       "max_height": null,
       "max_width": null,
       "min_height": null,
       "min_width": null,
       "object_fit": null,
       "object_position": null,
       "order": null,
       "overflow": null,
       "padding": null,
       "right": null,
       "top": null,
       "visibility": null,
       "width": null
      }
     },
     "858fc7c8e9034a89bc5cbc8f74c830f5": {
      "model_module": "@jupyter-widgets/controls",
      "model_module_version": "2.0.0",
      "model_name": "HTMLModel",
      "state": {
       "_dom_classes": [],
       "_model_module": "@jupyter-widgets/controls",
       "_model_module_version": "2.0.0",
       "_model_name": "HTMLModel",
       "_view_count": null,
       "_view_module": "@jupyter-widgets/controls",
       "_view_module_version": "2.0.0",
       "_view_name": "HTMLView",
       "description": "",
       "description_allow_html": false,
       "layout": "IPY_MODEL_7045f25488a34b17af2baa38df4a3a79",
       "placeholder": "​",
       "style": "IPY_MODEL_cd5e0b86d61845bfa2a4ac41a0c9713c",
       "tabbable": null,
       "tooltip": null,
       "value": "<h5><a href=\"https://github.com/jupyter-server/jupyter-scheduler\">jupyter-server/jupyter-scheduler</a></h5>\n<ul>\n<li><a href=\"https://github.com/jupyter-server/jupyter-scheduler/issues/328\">(#328)</a>: <em>Automatically delete all old Notebook jobs</em> by <strong><a href=\"https://github.com/nakvic\">@nakvic</a></strong></li>\n<li><a href=\"https://github.com/jupyter-server/jupyter-scheduler/issues/497\">(#497)</a>: <em>Empty \"Section Navigation\" in user docs</em> by <strong><a href=\"https://github.com/andrii-i\">@andrii-i</a></strong></li>\n<li><a href=\"https://github.com/jupyter-server/jupyter-scheduler/issues/563\">(#563)</a>: <em>Manage the culling of Jupyter Server with scheduled jobs to support JupyterHub</em> by <strong><a href=\"https://github.com/thomasLeclaire\">@thomasLeclaire</a></strong></li>\n<li><a href=\"https://github.com/jupyter-server/jupyter-scheduler/issues/560\">(#560)</a>: <em>JupyterLab 4 classifier is missing</em> by <strong><a href=\"https://github.com/krassowski\">@krassowski</a></strong></li>\n<li><a href=\"https://github.com/jupyter-server/jupyter-scheduler/issues/414\">(#414)</a>: <em>UI for event driven notebook execution</em> by <strong><a href=\"https://github.com/andrii-i\">@andrii-i</a></strong></li>\n</ul>"
      }
     },
     "8a4b47f67cba4ad090025fe6b439e222": {
      "model_module": "@jupyter-widgets/controls",
      "model_module_version": "2.0.0",
      "model_name": "HTMLModel",
      "state": {
       "_dom_classes": [],
       "_model_module": "@jupyter-widgets/controls",
       "_model_module_version": "2.0.0",
       "_model_name": "HTMLModel",
       "_view_count": null,
       "_view_module": "@jupyter-widgets/controls",
       "_view_module_version": "2.0.0",
       "_view_name": "HTMLView",
       "description": "",
       "description_allow_html": false,
       "layout": "IPY_MODEL_274d66276deb48d788c1371806c74c20",
       "placeholder": "​",
       "style": "IPY_MODEL_9b0bd981f4064e26a6f21217e5b49c5f",
       "tabbable": null,
       "tooltip": null,
       "value": "<h4>Closed PRs for repo: <a href=\"https://github.com/jupyter-server/jupyter-scheduler\">jupyter-server/jupyter-scheduler</a></h4>\n<h5></h5>\n<ul>\n<li><a href=\"https://github.com/jupyter-server/jupyter-scheduler/issues/575\">(#575)</a>: <em>Add support for Python 3.13 version and remove support for Python  3.7 and 3.8 versions</em> by <strong><a href=\"https://github.com/asmita-sharma1625\">@asmita-sharma1625</a></strong> merged by <strong><a href=\"https://github.com/andrii-i\">@andrii-i</a></strong></li>\n<li><a href=\"https://github.com/jupyter-server/jupyter-scheduler/issues/576\">(#576)</a>: <em>Updated JupyterLab Classifier to JupyterLab 4, Bump actions/cache to v3</em> by <strong><a href=\"https://github.com/astitv-sh\">@astitv-sh</a></strong> merged by <strong><a href=\"https://github.com/andrii-i\">@andrii-i</a></strong></li>\n<li><a href=\"https://github.com/jupyter-server/jupyter-scheduler/issues/577\">(#577)</a>: <em>Remove \"RTC\" drive prefix from filepath added by jupyter-collaboration when using notebook scheduler widget</em> by <strong><a href=\"https://github.com/asmita-sharma1625\">@asmita-sharma1625</a></strong> merged by <strong><a href=\"https://github.com/andrii-i\">@andrii-i</a></strong></li>\n<li><a href=\"https://github.com/jupyter-server/jupyter-scheduler/issues/578\">(#578)</a>: <em>Async upload</em> by <strong><a href=\"https://github.com/andrii-i\">@andrii-i</a></strong> merged by <strong><a href=\"https://github.com/andrii-i\">@andrii-i</a></strong></li>\n</ul>"
      }
     },
     "8ba2102414a04637a6e1a71cf2be03cf": {
      "model_module": "@jupyter-widgets/base",
      "model_module_version": "2.0.0",
      "model_name": "LayoutModel",
      "state": {
       "_model_module": "@jupyter-widgets/base",
       "_model_module_version": "2.0.0",
       "_model_name": "LayoutModel",
       "_view_count": null,
       "_view_module": "@jupyter-widgets/base",
       "_view_module_version": "2.0.0",
       "_view_name": "LayoutView",
       "align_content": null,
       "align_items": null,
       "align_self": null,
       "border_bottom": null,
       "border_left": null,
       "border_right": null,
       "border_top": null,
       "bottom": null,
       "display": null,
       "flex": null,
       "flex_flow": null,
       "grid_area": null,
       "grid_auto_columns": null,
       "grid_auto_flow": null,
       "grid_auto_rows": null,
       "grid_column": null,
       "grid_gap": null,
       "grid_row": null,
       "grid_template_areas": null,
       "grid_template_columns": null,
       "grid_template_rows": null,
       "height": null,
       "justify_content": null,
       "justify_items": null,
       "left": null,
       "margin": null,
       "max_height": null,
       "max_width": null,
       "min_height": null,
       "min_width": null,
       "object_fit": null,
       "object_position": null,
       "order": null,
       "overflow": null,
       "padding": null,
       "right": null,
       "top": null,
       "visibility": null,
       "width": null
      }
     },
     "8c13cfe9881c4deb878f8b7afb58df7e": {
      "model_module": "@jupyter-widgets/controls",
      "model_module_version": "2.0.0",
      "model_name": "HTMLStyleModel",
      "state": {
       "_model_module": "@jupyter-widgets/controls",
       "_model_module_version": "2.0.0",
       "_model_name": "HTMLStyleModel",
       "_view_count": null,
       "_view_module": "@jupyter-widgets/base",
       "_view_module_version": "2.0.0",
       "_view_name": "StyleView",
       "background": null,
       "description_width": "",
       "font_size": null,
       "text_color": null
      }
     },
     "8d1fad881d9040a49bbc6c6af476a66e": {
      "model_module": "@jupyter-widgets/controls",
      "model_module_version": "2.0.0",
      "model_name": "HTMLModel",
      "state": {
       "_dom_classes": [],
       "_model_module": "@jupyter-widgets/controls",
       "_model_module_version": "2.0.0",
       "_model_name": "HTMLModel",
       "_view_count": null,
       "_view_module": "@jupyter-widgets/controls",
       "_view_module_version": "2.0.0",
       "_view_name": "HTMLView",
       "description": "",
       "description_allow_html": false,
       "layout": "IPY_MODEL_70e78f40e32f49a28e9b73e34a3bcd94",
       "placeholder": "​",
       "style": "IPY_MODEL_dccf2b747a8a489c90115803ec19c3b5",
       "tabbable": null,
       "tooltip": null,
       "value": "<h4>Closed PRs for repo: <a href=\"https://github.com/jupyter-server/jupyverse\">jupyter-server/jupyverse</a></h4>\n<h5></h5>\n<ul>\n<li><a href=\"https://github.com/jupyter-server/jupyverse/issues/388\">(#388)</a>: <em>Switch to Asphalt v5.0</em> by <strong><a href=\"https://github.com/davidbrochart\">@davidbrochart</a></strong> merged by <strong><a href=\"https://github.com/davidbrochart\">@davidbrochart</a></strong></li>\n<li><a href=\"https://github.com/jupyter-server/jupyverse/issues/450\">(#450)</a>: <em>[pre-commit.ci] pre-commit autoupdate</em> by <strong><a href=\"https://github.com/pre-commit-ci[bot]\">@pre-commit-ci[bot]</a></strong> merged by <strong><a href=\"https://github.com/davidbrochart\">@davidbrochart</a></strong></li>\n<li><a href=\"https://github.com/jupyter-server/jupyverse/issues/451\">(#451)</a>: <em>Fix multiple sessions in one kernel bug</em> by <strong><a href=\"https://github.com/rakhmaevao\">@rakhmaevao</a></strong> merged by <strong><a href=\"https://github.com/davidbrochart\">@davidbrochart</a></strong></li>\n<li><a href=\"https://github.com/jupyter-server/jupyverse/issues/453\">(#453)</a>: <em>Switch to FPS</em> by <strong><a href=\"https://github.com/davidbrochart\">@davidbrochart</a></strong> merged by <strong><a href=\"https://github.com/davidbrochart\">@davidbrochart</a></strong></li>\n<li><a href=\"https://github.com/jupyter-server/jupyverse/issues/454\">(#454)</a>: <em>Update README</em> by <strong><a href=\"https://github.com/davidbrochart\">@davidbrochart</a></strong> merged by <strong><a href=\"https://github.com/davidbrochart\">@davidbrochart</a></strong></li>\n<li><a href=\"https://github.com/jupyter-server/jupyverse/issues/455\">(#455)</a>: <em>Fix fps-notebook base URL</em> by <strong><a href=\"https://github.com/davidbrochart\">@davidbrochart</a></strong> merged by <strong><a href=\"https://github.com/davidbrochart\">@davidbrochart</a></strong></li>\n<li><a href=\"https://github.com/jupyter-server/jupyverse/issues/456\">(#456)</a>: <em>Unpin Python version in Binder</em> by <strong><a href=\"https://github.com/davidbrochart\">@davidbrochart</a></strong> merged by <strong><a href=\"https://github.com/davidbrochart\">@davidbrochart</a></strong></li>\n<li><a href=\"https://github.com/jupyter-server/jupyverse/issues/457\">(#457)</a>: <em>Require versions &gt;=0.7.0</em> by <strong><a href=\"https://github.com/davidbrochart\">@davidbrochart</a></strong> merged by <strong><a href=\"https://github.com/davidbrochart\">@davidbrochart</a></strong></li>\n<li><a href=\"https://github.com/jupyter-server/jupyverse/issues/458\">(#458)</a>: <em>Bump fastapi-users v14</em> by <strong><a href=\"https://github.com/davidbrochart\">@davidbrochart</a></strong> merged by <strong><a href=\"https://github.com/davidbrochart\">@davidbrochart</a></strong></li>\n<li><a href=\"https://github.com/jupyter-server/jupyverse/issues/459\">(#459)</a>: <em>Fix fps-auth-jupyterhub dependency</em> by <strong><a href=\"https://github.com/davidbrochart\">@davidbrochart</a></strong> merged by <strong><a href=\"https://github.com/davidbrochart\">@davidbrochart</a></strong></li>\n<li><a href=\"https://github.com/jupyter-server/jupyverse/issues/460\">(#460)</a>: <em>Fix fps-auth-jupyterhub</em> by <strong><a href=\"https://github.com/davidbrochart\">@davidbrochart</a></strong> merged by <strong><a href=\"https://github.com/davidbrochart\">@davidbrochart</a></strong></li>\n<li><a href=\"https://github.com/jupyter-server/jupyverse/issues/461\">(#461)</a>: <em>Use AnyIO's wait_readable for terminals</em> by <strong><a href=\"https://github.com/davidbrochart\">@davidbrochart</a></strong> merged by <strong><a href=\"https://github.com/davidbrochart\">@davidbrochart</a></strong></li>\n<li><a href=\"https://github.com/jupyter-server/jupyverse/issues/462\">(#462)</a>: <em>Bump FPS v0.1.3</em> by <strong><a href=\"https://github.com/davidbrochart\">@davidbrochart</a></strong> merged by <strong><a href=\"https://github.com/davidbrochart\">@davidbrochart</a></strong></li>\n<li><a href=\"https://github.com/jupyter-server/jupyverse/issues/463\">(#463)</a>: <em>Fix connection to existing kernel</em> by <strong><a href=\"https://github.com/davidbrochart\">@davidbrochart</a></strong> merged by <strong><a href=\"https://github.com/davidbrochart\">@davidbrochart</a></strong></li>\n<li><a href=\"https://github.com/jupyter-server/jupyverse/issues/465\">(#465)</a>: <em>[pre-commit.ci] pre-commit autoupdate</em> by <strong><a href=\"https://github.com/pre-commit-ci[bot]\">@pre-commit-ci[bot]</a></strong> merged by <strong><a href=\"https://github.com/davidbrochart\">@davidbrochart</a></strong></li>\n<li><a href=\"https://github.com/jupyter-server/jupyverse/issues/466\">(#466)</a>: <em>Use zmq-anyio</em> by <strong><a href=\"https://github.com/davidbrochart\">@davidbrochart</a></strong> merged by <strong><a href=\"https://github.com/davidbrochart\">@davidbrochart</a></strong></li>\n<li><a href=\"https://github.com/jupyter-server/jupyverse/issues/467\">(#467)</a>: <em>Bump FPS v0.1.5</em> by <strong><a href=\"https://github.com/davidbrochart\">@davidbrochart</a></strong> merged by <strong><a href=\"https://github.com/davidbrochart\">@davidbrochart</a></strong></li>\n<li><a href=\"https://github.com/jupyter-server/jupyverse/issues/468\">(#468)</a>: <em>Kernel Stop Fix</em> by <strong><a href=\"https://github.com/rakhmaevao\">@rakhmaevao</a></strong> merged by <strong><a href=\"https://github.com/rakhmaevao\">@rakhmaevao</a></strong></li>\n<li><a href=\"https://github.com/jupyter-server/jupyverse/issues/469\">(#469)</a>: <em>[pre-commit.ci] pre-commit autoupdate</em> by <strong><a href=\"https://github.com/pre-commit-ci[bot]\">@pre-commit-ci[bot]</a></strong> merged by <strong><a href=\"https://github.com/davidbrochart\">@davidbrochart</a></strong></li>\n<li><a href=\"https://github.com/jupyter-server/jupyverse/issues/470\">(#470)</a>: <em>[pre-commit.ci] pre-commit autoupdate</em> by <strong><a href=\"https://github.com/pre-commit-ci[bot]\">@pre-commit-ci[bot]</a></strong> merged by <strong><a href=\"https://github.com/davidbrochart\">@davidbrochart</a></strong></li>\n<li><a href=\"https://github.com/jupyter-server/jupyverse/issues/472\">(#472)</a>: <em>[pre-commit.ci] pre-commit autoupdate</em> by <strong><a href=\"https://github.com/pre-commit-ci[bot]\">@pre-commit-ci[bot]</a></strong> merged by <strong><a href=\"https://github.com/davidbrochart\">@davidbrochart</a></strong></li>\n<li><a href=\"https://github.com/jupyter-server/jupyverse/issues/473\">(#473)</a>: <em>Fix kernel shutdown</em> by <strong><a href=\"https://github.com/davidbrochart\">@davidbrochart</a></strong> merged by <strong><a href=\"https://github.com/davidbrochart\">@davidbrochart</a></strong></li>\n<li><a href=\"https://github.com/jupyter-server/jupyverse/issues/474\">(#474)</a>: <em>Convert repo to use releaser from repo</em> by <strong><a href=\"https://github.com/davidbrochart\">@davidbrochart</a></strong> merged by <strong><a href=\"https://github.com/davidbrochart\">@davidbrochart</a></strong></li>\n<li><a href=\"https://github.com/jupyter-server/jupyverse/issues/475\">(#475)</a>: <em>Update types</em> by <strong><a href=\"https://github.com/davidbrochart\">@davidbrochart</a></strong> merged by <strong><a href=\"https://github.com/davidbrochart\">@davidbrochart</a></strong></li>\n<li><a href=\"https://github.com/jupyter-server/jupyverse/issues/476\">(#476)</a>: <em>Bump fps &gt;=0.2.1</em> by <strong><a href=\"https://github.com/davidbrochart\">@davidbrochart</a></strong> merged by <strong><a href=\"https://github.com/davidbrochart\">@davidbrochart</a></strong></li>\n<li><a href=\"https://github.com/jupyter-server/jupyverse/issues/478\">(#478)</a>: <em>Check if file exists before inserting it in fileids</em> by <strong><a href=\"https://github.com/davidbrochart\">@davidbrochart</a></strong> merged by <strong><a href=\"https://github.com/davidbrochart\">@davidbrochart</a></strong></li>\n<li><a href=\"https://github.com/jupyter-server/jupyverse/issues/479\">(#479)</a>: <em>[pre-commit.ci] pre-commit autoupdate</em> by <strong><a href=\"https://github.com/pre-commit-ci[bot]\">@pre-commit-ci[bot]</a></strong> merged by <strong><a href=\"https://github.com/davidbrochart\">@davidbrochart</a></strong></li>\n<li><a href=\"https://github.com/jupyter-server/jupyverse/issues/480\">(#480)</a>: <em>Fix stream outputs</em> by <strong><a href=\"https://github.com/davidbrochart\">@davidbrochart</a></strong> merged by <strong><a href=\"https://github.com/davidbrochart\">@davidbrochart</a></strong></li>\n<li><a href=\"https://github.com/jupyter-server/jupyverse/issues/481\">(#481)</a>: <em>[pre-commit.ci] pre-commit autoupdate</em> by <strong><a href=\"https://github.com/pre-commit-ci[bot]\">@pre-commit-ci[bot]</a></strong> merged by <strong><a href=\"https://github.com/davidbrochart\">@davidbrochart</a></strong></li>\n<li><a href=\"https://github.com/jupyter-server/jupyverse/issues/482\">(#482)</a>: <em>Upgrade FPS to v0.3.0</em> by <strong><a href=\"https://github.com/davidbrochart\">@davidbrochart</a></strong> merged by <strong><a href=\"https://github.com/davidbrochart\">@davidbrochart</a></strong></li>\n<li><a href=\"https://github.com/jupyter-server/jupyverse/issues/483\">(#483)</a>: <em>[pre-commit.ci] pre-commit autoupdate</em> by <strong><a href=\"https://github.com/pre-commit-ci[bot]\">@pre-commit-ci[bot]</a></strong> merged by <strong><a href=\"https://github.com/davidbrochart\">@davidbrochart</a></strong></li>\n<li><a href=\"https://github.com/jupyter-server/jupyverse/issues/484\">(#484)</a>: <em>Use jupyter-ydoc instead of vendored version</em> by <strong><a href=\"https://github.com/davidbrochart\">@davidbrochart</a></strong> merged by <strong><a href=\"https://github.com/davidbrochart\">@davidbrochart</a></strong></li>\n<li><a href=\"https://github.com/jupyter-server/jupyverse/issues/485\">(#485)</a>: <em>[pre-commit.ci] pre-commit autoupdate</em> by <strong><a href=\"https://github.com/pre-commit-ci[bot]\">@pre-commit-ci[bot]</a></strong> merged by <strong><a href=\"https://github.com/davidbrochart\">@davidbrochart</a></strong></li>\n<li><a href=\"https://github.com/jupyter-server/jupyverse/issues/486\">(#486)</a>: <em>[pre-commit.ci] pre-commit autoupdate</em> by <strong><a href=\"https://github.com/pre-commit-ci[bot]\">@pre-commit-ci[bot]</a></strong> merged by <strong><a href=\"https://github.com/davidbrochart\">@davidbrochart</a></strong></li>\n<li><a href=\"https://github.com/jupyter-server/jupyverse/issues/487\">(#487)</a>: <em>[pre-commit.ci] pre-commit autoupdate</em> by <strong><a href=\"https://github.com/pre-commit-ci[bot]\">@pre-commit-ci[bot]</a></strong> merged by <strong><a href=\"https://github.com/davidbrochart\">@davidbrochart</a></strong></li>\n</ul>"
      }
     },
     "90cf51a37a0947f08b19dfd869f6f643": {
      "model_module": "@jupyter-widgets/base",
      "model_module_version": "2.0.0",
      "model_name": "LayoutModel",
      "state": {
       "_model_module": "@jupyter-widgets/base",
       "_model_module_version": "2.0.0",
       "_model_name": "LayoutModel",
       "_view_count": null,
       "_view_module": "@jupyter-widgets/base",
       "_view_module_version": "2.0.0",
       "_view_name": "LayoutView",
       "align_content": null,
       "align_items": null,
       "align_self": null,
       "border_bottom": null,
       "border_left": null,
       "border_right": null,
       "border_top": null,
       "bottom": null,
       "display": null,
       "flex": null,
       "flex_flow": null,
       "grid_area": null,
       "grid_auto_columns": null,
       "grid_auto_flow": null,
       "grid_auto_rows": null,
       "grid_column": null,
       "grid_gap": null,
       "grid_row": null,
       "grid_template_areas": null,
       "grid_template_columns": null,
       "grid_template_rows": null,
       "height": null,
       "justify_content": null,
       "justify_items": null,
       "left": null,
       "margin": null,
       "max_height": null,
       "max_width": null,
       "min_height": null,
       "min_width": null,
       "object_fit": null,
       "object_position": null,
       "order": null,
       "overflow": null,
       "padding": null,
       "right": null,
       "top": null,
       "visibility": null,
       "width": null
      }
     },
     "922b1f610c6a4d64a5d739f92927378a": {
      "model_module": "@jupyter-widgets/controls",
      "model_module_version": "2.0.0",
      "model_name": "HTMLModel",
      "state": {
       "_dom_classes": [],
       "_model_module": "@jupyter-widgets/controls",
       "_model_module_version": "2.0.0",
       "_model_name": "HTMLModel",
       "_view_count": null,
       "_view_module": "@jupyter-widgets/controls",
       "_view_module_version": "2.0.0",
       "_view_name": "HTMLView",
       "description": "",
       "description_allow_html": false,
       "layout": "IPY_MODEL_5db3aa9dc519446e83e3aa350c9a0f92",
       "placeholder": "​",
       "style": "IPY_MODEL_cd40a8af715a402195fc6bf27f84a7c2",
       "tabbable": null,
       "tooltip": null,
       "value": "<h4>Closed PRs for repo: <a href=\"https://github.com/jupyter-server/jupyter_ydoc\">jupyter-server/jupyter_ydoc</a></h4>\n<h5></h5>\n<ul>\n<li><a href=\"https://github.com/jupyter-server/jupyter_ydoc/issues/312\">(#312)</a>: <em>Fix including Typescript source in package</em> by <strong><a href=\"https://github.com/fcollonval\">@fcollonval</a></strong> merged by <strong><a href=\"https://github.com/fcollonval\">@fcollonval</a></strong></li>\n<li><a href=\"https://github.com/jupyter-server/jupyter_ydoc/issues/313\">(#313)</a>: <em>[pre-commit.ci] pre-commit autoupdate</em> by <strong><a href=\"https://github.com/pre-commit-ci[bot]\">@pre-commit-ci[bot]</a></strong> merged by <strong><a href=\"https://github.com/davidbrochart\">@davidbrochart</a></strong></li>\n<li><a href=\"https://github.com/jupyter-server/jupyter_ydoc/issues/314\">(#314)</a>: <em>[pre-commit.ci] pre-commit autoupdate</em> by <strong><a href=\"https://github.com/pre-commit-ci[bot]\">@pre-commit-ci[bot]</a></strong> merged by <strong><a href=\"https://github.com/davidbrochart\">@davidbrochart</a></strong></li>\n<li><a href=\"https://github.com/jupyter-server/jupyter_ydoc/issues/315\">(#315)</a>: <em>[pre-commit.ci] pre-commit autoupdate</em> by <strong><a href=\"https://github.com/pre-commit-ci[bot]\">@pre-commit-ci[bot]</a></strong> merged by <strong><a href=\"https://github.com/davidbrochart\">@davidbrochart</a></strong></li>\n<li><a href=\"https://github.com/jupyter-server/jupyter_ydoc/issues/316\">(#316)</a>: <em>[pre-commit.ci] pre-commit autoupdate</em> by <strong><a href=\"https://github.com/pre-commit-ci[bot]\">@pre-commit-ci[bot]</a></strong> merged by <strong><a href=\"https://github.com/davidbrochart\">@davidbrochart</a></strong></li>\n<li><a href=\"https://github.com/jupyter-server/jupyter_ydoc/issues/317\">(#317)</a>: <em>[pre-commit.ci] pre-commit autoupdate</em> by <strong><a href=\"https://github.com/pre-commit-ci[bot]\">@pre-commit-ci[bot]</a></strong> merged by <strong><a href=\"https://github.com/davidbrochart\">@davidbrochart</a></strong></li>\n<li><a href=\"https://github.com/jupyter-server/jupyter_ydoc/issues/319\">(#319)</a>: <em>[pre-commit.ci] pre-commit autoupdate</em> by <strong><a href=\"https://github.com/pre-commit-ci[bot]\">@pre-commit-ci[bot]</a></strong> merged by <strong><a href=\"https://github.com/davidbrochart\">@davidbrochart</a></strong></li>\n<li><a href=\"https://github.com/jupyter-server/jupyter_ydoc/issues/320\">(#320)</a>: <em>[pre-commit.ci] pre-commit autoupdate</em> by <strong><a href=\"https://github.com/pre-commit-ci[bot]\">@pre-commit-ci[bot]</a></strong> merged by <strong><a href=\"https://github.com/davidbrochart\">@davidbrochart</a></strong></li>\n<li><a href=\"https://github.com/jupyter-server/jupyter_ydoc/issues/321\">(#321)</a>: <em>Set <code>undoManager</code> in constructor for cells in notebook</em> by <strong><a href=\"https://github.com/krassowski\">@krassowski</a></strong> merged by <strong><a href=\"https://github.com/krassowski\">@krassowski</a></strong></li>\n<li><a href=\"https://github.com/jupyter-server/jupyter_ydoc/issues/322\">(#322)</a>: <em>[pre-commit.ci] pre-commit autoupdate</em> by <strong><a href=\"https://github.com/pre-commit-ci[bot]\">@pre-commit-ci[bot]</a></strong> merged by <strong><a href=\"https://github.com/davidbrochart\">@davidbrochart</a></strong></li>\n<li><a href=\"https://github.com/jupyter-server/jupyter_ydoc/issues/323\">(#323)</a>: <em>[pre-commit.ci] pre-commit autoupdate</em> by <strong><a href=\"https://github.com/pre-commit-ci[bot]\">@pre-commit-ci[bot]</a></strong> merged by <strong><a href=\"https://github.com/davidbrochart\">@davidbrochart</a></strong></li>\n<li><a href=\"https://github.com/jupyter-server/jupyter_ydoc/issues/324\">(#324)</a>: <em>[pre-commit.ci] pre-commit autoupdate</em> by <strong><a href=\"https://github.com/pre-commit-ci[bot]\">@pre-commit-ci[bot]</a></strong> merged by <strong><a href=\"https://github.com/davidbrochart\">@davidbrochart</a></strong></li>\n<li><a href=\"https://github.com/jupyter-server/jupyter_ydoc/issues/325\">(#325)</a>: <em>Bump <code>ip</code> from 2.0.0 to 2.0.1</em> by <strong><a href=\"https://github.com/dlqqq\">@dlqqq</a></strong> merged by <strong><a href=\"https://github.com/davidbrochart\">@davidbrochart</a></strong></li>\n<li><a href=\"https://github.com/jupyter-server/jupyter_ydoc/issues/326\">(#326)</a>: <em>[pre-commit.ci] pre-commit autoupdate</em> by <strong><a href=\"https://github.com/pre-commit-ci[bot]\">@pre-commit-ci[bot]</a></strong> merged by <strong><a href=\"https://github.com/davidbrochart\">@davidbrochart</a></strong></li>\n</ul>"
      }
     },
     "94300b04a0614cc5a84144fb92a4da84": {
      "model_module": "@jupyter-widgets/base",
      "model_module_version": "2.0.0",
      "model_name": "LayoutModel",
      "state": {
       "_model_module": "@jupyter-widgets/base",
       "_model_module_version": "2.0.0",
       "_model_name": "LayoutModel",
       "_view_count": null,
       "_view_module": "@jupyter-widgets/base",
       "_view_module_version": "2.0.0",
       "_view_name": "LayoutView",
       "align_content": null,
       "align_items": null,
       "align_self": null,
       "border_bottom": null,
       "border_left": null,
       "border_right": null,
       "border_top": null,
       "bottom": null,
       "display": null,
       "flex": null,
       "flex_flow": null,
       "grid_area": null,
       "grid_auto_columns": null,
       "grid_auto_flow": null,
       "grid_auto_rows": null,
       "grid_column": null,
       "grid_gap": null,
       "grid_row": null,
       "grid_template_areas": null,
       "grid_template_columns": null,
       "grid_template_rows": null,
       "height": null,
       "justify_content": null,
       "justify_items": null,
       "left": null,
       "margin": null,
       "max_height": null,
       "max_width": null,
       "min_height": null,
       "min_width": null,
       "object_fit": null,
       "object_position": null,
       "order": null,
       "overflow": null,
       "padding": null,
       "right": null,
       "top": null,
       "visibility": null,
       "width": null
      }
     },
     "943ca13af9704c7d87c45c48f68697f8": {
      "model_module": "@jupyter-widgets/controls",
      "model_module_version": "2.0.0",
      "model_name": "HTMLStyleModel",
      "state": {
       "_model_module": "@jupyter-widgets/controls",
       "_model_module_version": "2.0.0",
       "_model_name": "HTMLStyleModel",
       "_view_count": null,
       "_view_module": "@jupyter-widgets/base",
       "_view_module_version": "2.0.0",
       "_view_name": "StyleView",
       "background": null,
       "description_width": "",
       "font_size": null,
       "text_color": null
      }
     },
     "95b7042ac2bd4d52973b9c34a52a7781": {
      "model_module": "@jupyter-widgets/controls",
      "model_module_version": "2.0.0",
      "model_name": "HTMLStyleModel",
      "state": {
       "_model_module": "@jupyter-widgets/controls",
       "_model_module_version": "2.0.0",
       "_model_name": "HTMLStyleModel",
       "_view_count": null,
       "_view_module": "@jupyter-widgets/base",
       "_view_module_version": "2.0.0",
       "_view_name": "StyleView",
       "background": null,
       "description_width": "",
       "font_size": null,
       "text_color": null
      }
     },
     "99620d71754e401096c5dd35ca8a5b82": {
      "model_module": "@jupyter-widgets/base",
      "model_module_version": "2.0.0",
      "model_name": "LayoutModel",
      "state": {
       "_model_module": "@jupyter-widgets/base",
       "_model_module_version": "2.0.0",
       "_model_name": "LayoutModel",
       "_view_count": null,
       "_view_module": "@jupyter-widgets/base",
       "_view_module_version": "2.0.0",
       "_view_name": "LayoutView",
       "align_content": null,
       "align_items": null,
       "align_self": null,
       "border_bottom": null,
       "border_left": null,
       "border_right": null,
       "border_top": null,
       "bottom": null,
       "display": null,
       "flex": null,
       "flex_flow": null,
       "grid_area": null,
       "grid_auto_columns": null,
       "grid_auto_flow": null,
       "grid_auto_rows": null,
       "grid_column": null,
       "grid_gap": null,
       "grid_row": null,
       "grid_template_areas": null,
       "grid_template_columns": null,
       "grid_template_rows": null,
       "height": null,
       "justify_content": null,
       "justify_items": null,
       "left": null,
       "margin": null,
       "max_height": null,
       "max_width": null,
       "min_height": null,
       "min_width": null,
       "object_fit": null,
       "object_position": null,
       "order": null,
       "overflow": null,
       "padding": null,
       "right": null,
       "top": null,
       "visibility": null,
       "width": null
      }
     },
     "9acee90087f44bbe8bb9fa5c1453b4b7": {
      "model_module": "@jupyter-widgets/controls",
      "model_module_version": "2.0.0",
      "model_name": "HTMLModel",
      "state": {
       "_dom_classes": [],
       "_model_module": "@jupyter-widgets/controls",
       "_model_module_version": "2.0.0",
       "_model_name": "HTMLModel",
       "_view_count": null,
       "_view_module": "@jupyter-widgets/controls",
       "_view_module_version": "2.0.0",
       "_view_name": "HTMLView",
       "description": "",
       "description_allow_html": false,
       "layout": "IPY_MODEL_94300b04a0614cc5a84144fb92a4da84",
       "placeholder": "​",
       "style": "IPY_MODEL_b85f6a27b840488bb206407e32ca8e25",
       "tabbable": null,
       "tooltip": null,
       "value": "<h5><a href=\"https://github.com/jupyter-server/gateway_provisioners\">jupyter-server/gateway_provisioners</a></h5>\n<ul>\n<li><a href=\"https://github.com/jupyter-server/gateway_provisioners/issues/139\">(#139)</a>: <em>Bug in the YarnProvisioner _query_app_by_name</em> by <strong><a href=\"https://github.com/abppriya\">@abppriya</a></strong></li>\n</ul>"
      }
     },
     "9b08ff60f6eb4611a5137645caec9b71": {
      "model_module": "@jupyter-widgets/controls",
      "model_module_version": "2.0.0",
      "model_name": "HTMLStyleModel",
      "state": {
       "_model_module": "@jupyter-widgets/controls",
       "_model_module_version": "2.0.0",
       "_model_name": "HTMLStyleModel",
       "_view_count": null,
       "_view_module": "@jupyter-widgets/base",
       "_view_module_version": "2.0.0",
       "_view_name": "StyleView",
       "background": null,
       "description_width": "",
       "font_size": null,
       "text_color": null
      }
     },
     "9b0bd981f4064e26a6f21217e5b49c5f": {
      "model_module": "@jupyter-widgets/controls",
      "model_module_version": "2.0.0",
      "model_name": "HTMLStyleModel",
      "state": {
       "_model_module": "@jupyter-widgets/controls",
       "_model_module_version": "2.0.0",
       "_model_name": "HTMLStyleModel",
       "_view_count": null,
       "_view_module": "@jupyter-widgets/base",
       "_view_module_version": "2.0.0",
       "_view_name": "StyleView",
       "background": null,
       "description_width": "",
       "font_size": null,
       "text_color": null
      }
     },
     "9c5013577e924ee483a863030f4f6377": {
      "model_module": "@jupyter-widgets/controls",
      "model_module_version": "2.0.0",
      "model_name": "HTMLStyleModel",
      "state": {
       "_model_module": "@jupyter-widgets/controls",
       "_model_module_version": "2.0.0",
       "_model_name": "HTMLStyleModel",
       "_view_count": null,
       "_view_module": "@jupyter-widgets/base",
       "_view_module_version": "2.0.0",
       "_view_name": "StyleView",
       "background": null,
       "description_width": "",
       "font_size": null,
       "text_color": null
      }
     },
     "9e24591249e54bffbea6a7a63a621c39": {
      "model_module": "@jupyter-widgets/base",
      "model_module_version": "2.0.0",
      "model_name": "LayoutModel",
      "state": {
       "_model_module": "@jupyter-widgets/base",
       "_model_module_version": "2.0.0",
       "_model_name": "LayoutModel",
       "_view_count": null,
       "_view_module": "@jupyter-widgets/base",
       "_view_module_version": "2.0.0",
       "_view_name": "LayoutView",
       "align_content": null,
       "align_items": null,
       "align_self": null,
       "border_bottom": null,
       "border_left": null,
       "border_right": null,
       "border_top": null,
       "bottom": null,
       "display": null,
       "flex": null,
       "flex_flow": null,
       "grid_area": null,
       "grid_auto_columns": null,
       "grid_auto_flow": null,
       "grid_auto_rows": null,
       "grid_column": null,
       "grid_gap": null,
       "grid_row": null,
       "grid_template_areas": null,
       "grid_template_columns": null,
       "grid_template_rows": null,
       "height": null,
       "justify_content": null,
       "justify_items": null,
       "left": null,
       "margin": null,
       "max_height": null,
       "max_width": null,
       "min_height": null,
       "min_width": null,
       "object_fit": null,
       "object_position": null,
       "order": null,
       "overflow": null,
       "padding": null,
       "right": null,
       "top": null,
       "visibility": null,
       "width": null
      }
     },
     "a0cd544623704d49b06196f58b4577cd": {
      "model_module": "@jupyter-widgets/base",
      "model_module_version": "2.0.0",
      "model_name": "LayoutModel",
      "state": {
       "_model_module": "@jupyter-widgets/base",
       "_model_module_version": "2.0.0",
       "_model_name": "LayoutModel",
       "_view_count": null,
       "_view_module": "@jupyter-widgets/base",
       "_view_module_version": "2.0.0",
       "_view_name": "LayoutView",
       "align_content": null,
       "align_items": null,
       "align_self": null,
       "border_bottom": null,
       "border_left": null,
       "border_right": null,
       "border_top": null,
       "bottom": null,
       "display": null,
       "flex": null,
       "flex_flow": null,
       "grid_area": null,
       "grid_auto_columns": null,
       "grid_auto_flow": null,
       "grid_auto_rows": null,
       "grid_column": null,
       "grid_gap": null,
       "grid_row": null,
       "grid_template_areas": null,
       "grid_template_columns": null,
       "grid_template_rows": null,
       "height": null,
       "justify_content": null,
       "justify_items": null,
       "left": null,
       "margin": null,
       "max_height": null,
       "max_width": null,
       "min_height": null,
       "min_width": null,
       "object_fit": null,
       "object_position": null,
       "order": null,
       "overflow": null,
       "padding": null,
       "right": null,
       "top": null,
       "visibility": null,
       "width": null
      }
     },
     "a27c3c6eae2348f785784a86deb00640": {
      "model_module": "@jupyter-widgets/controls",
      "model_module_version": "2.0.0",
      "model_name": "HTMLStyleModel",
      "state": {
       "_model_module": "@jupyter-widgets/controls",
       "_model_module_version": "2.0.0",
       "_model_name": "HTMLStyleModel",
       "_view_count": null,
       "_view_module": "@jupyter-widgets/base",
       "_view_module_version": "2.0.0",
       "_view_name": "StyleView",
       "background": null,
       "description_width": "",
       "font_size": null,
       "text_color": null
      }
     },
     "a44aac8165814bc4991b18db84826fb8": {
      "model_module": "@jupyter-widgets/controls",
      "model_module_version": "2.0.0",
      "model_name": "HTMLModel",
      "state": {
       "_dom_classes": [],
       "_model_module": "@jupyter-widgets/controls",
       "_model_module_version": "2.0.0",
       "_model_name": "HTMLModel",
       "_view_count": null,
       "_view_module": "@jupyter-widgets/controls",
       "_view_module_version": "2.0.0",
       "_view_name": "HTMLView",
       "description": "",
       "description_allow_html": false,
       "layout": "IPY_MODEL_8ba2102414a04637a6e1a71cf2be03cf",
       "placeholder": "​",
       "style": "IPY_MODEL_0d220873d1534844bb4e8b892b7392b2",
       "tabbable": null,
       "tooltip": null,
       "value": "<h5><a href=\"https://github.com/jupyter-server/jupyter_releaser\">jupyter-server/jupyter_releaser</a></h5>\n<ul>\n<li><a href=\"https://github.com/jupyter-server/jupyter_releaser/issues/604\">(#604)</a>: <em>Publish Release fails in FPS repo</em> by <strong><a href=\"https://github.com/davidbrochart\">@davidbrochart</a></strong></li>\n<li><a href=\"https://github.com/jupyter-server/jupyter_releaser/issues/606\">(#606)</a>: <em>Draft GitHub Release not created</em> by <strong><a href=\"https://github.com/jtpio\">@jtpio</a></strong></li>\n<li><a href=\"https://github.com/jupyter-server/jupyter_releaser/issues/603\">(#603)</a>: <em>Supporting publishing to multiple npm registries</em> by <strong><a href=\"https://github.com/martenrichter\">@martenrichter</a></strong></li>\n</ul>"
      }
     },
     "a45b005750a24021a8aadeb09efe1d89": {
      "model_module": "@jupyter-widgets/base",
      "model_module_version": "2.0.0",
      "model_name": "LayoutModel",
      "state": {
       "_model_module": "@jupyter-widgets/base",
       "_model_module_version": "2.0.0",
       "_model_name": "LayoutModel",
       "_view_count": null,
       "_view_module": "@jupyter-widgets/base",
       "_view_module_version": "2.0.0",
       "_view_name": "LayoutView",
       "align_content": null,
       "align_items": null,
       "align_self": null,
       "border_bottom": null,
       "border_left": null,
       "border_right": null,
       "border_top": null,
       "bottom": null,
       "display": null,
       "flex": null,
       "flex_flow": null,
       "grid_area": null,
       "grid_auto_columns": null,
       "grid_auto_flow": null,
       "grid_auto_rows": null,
       "grid_column": null,
       "grid_gap": null,
       "grid_row": null,
       "grid_template_areas": null,
       "grid_template_columns": null,
       "grid_template_rows": null,
       "height": null,
       "justify_content": null,
       "justify_items": null,
       "left": null,
       "margin": null,
       "max_height": null,
       "max_width": null,
       "min_height": null,
       "min_width": null,
       "object_fit": null,
       "object_position": null,
       "order": null,
       "overflow": null,
       "padding": null,
       "right": null,
       "top": null,
       "visibility": null,
       "width": null
      }
     },
     "ab52db53b28d4aa9b695c4d3705a83d6": {
      "model_module": "@jupyter-widgets/controls",
      "model_module_version": "2.0.0",
      "model_name": "HTMLStyleModel",
      "state": {
       "_model_module": "@jupyter-widgets/controls",
       "_model_module_version": "2.0.0",
       "_model_name": "HTMLStyleModel",
       "_view_count": null,
       "_view_module": "@jupyter-widgets/base",
       "_view_module_version": "2.0.0",
       "_view_name": "StyleView",
       "background": null,
       "description_width": "",
       "font_size": null,
       "text_color": null
      }
     },
     "af57a206a9164982a78da6b6fab77c17": {
      "model_module": "@jupyter-widgets/controls",
      "model_module_version": "2.0.0",
      "model_name": "HTMLStyleModel",
      "state": {
       "_model_module": "@jupyter-widgets/controls",
       "_model_module_version": "2.0.0",
       "_model_name": "HTMLStyleModel",
       "_view_count": null,
       "_view_module": "@jupyter-widgets/base",
       "_view_module_version": "2.0.0",
       "_view_name": "StyleView",
       "background": null,
       "description_width": "",
       "font_size": null,
       "text_color": null
      }
     },
     "b85f6a27b840488bb206407e32ca8e25": {
      "model_module": "@jupyter-widgets/controls",
      "model_module_version": "2.0.0",
      "model_name": "HTMLStyleModel",
      "state": {
       "_model_module": "@jupyter-widgets/controls",
       "_model_module_version": "2.0.0",
       "_model_name": "HTMLStyleModel",
       "_view_count": null,
       "_view_module": "@jupyter-widgets/base",
       "_view_module_version": "2.0.0",
       "_view_name": "StyleView",
       "background": null,
       "description_width": "",
       "font_size": null,
       "text_color": null
      }
     },
     "b9ca858e992a40e79500a6b742726dd1": {
      "model_module": "@jupyter-widgets/base",
      "model_module_version": "2.0.0",
      "model_name": "LayoutModel",
      "state": {
       "_model_module": "@jupyter-widgets/base",
       "_model_module_version": "2.0.0",
       "_model_name": "LayoutModel",
       "_view_count": null,
       "_view_module": "@jupyter-widgets/base",
       "_view_module_version": "2.0.0",
       "_view_name": "LayoutView",
       "align_content": null,
       "align_items": null,
       "align_self": null,
       "border_bottom": null,
       "border_left": null,
       "border_right": null,
       "border_top": null,
       "bottom": null,
       "display": null,
       "flex": null,
       "flex_flow": null,
       "grid_area": null,
       "grid_auto_columns": null,
       "grid_auto_flow": null,
       "grid_auto_rows": null,
       "grid_column": null,
       "grid_gap": null,
       "grid_row": null,
       "grid_template_areas": null,
       "grid_template_columns": null,
       "grid_template_rows": null,
       "height": null,
       "justify_content": null,
       "justify_items": null,
       "left": null,
       "margin": null,
       "max_height": null,
       "max_width": null,
       "min_height": null,
       "min_width": null,
       "object_fit": null,
       "object_position": null,
       "order": null,
       "overflow": null,
       "padding": null,
       "right": null,
       "top": null,
       "visibility": null,
       "width": null
      }
     },
     "bac9318e8859420495b11556ae3122be": {
      "model_module": "@jupyter-widgets/controls",
      "model_module_version": "2.0.0",
      "model_name": "HTMLStyleModel",
      "state": {
       "_model_module": "@jupyter-widgets/controls",
       "_model_module_version": "2.0.0",
       "_model_name": "HTMLStyleModel",
       "_view_count": null,
       "_view_module": "@jupyter-widgets/base",
       "_view_module_version": "2.0.0",
       "_view_name": "StyleView",
       "background": null,
       "description_width": "",
       "font_size": null,
       "text_color": null
      }
     },
     "bf2c369245f345b1976f0d9095d40427": {
      "model_module": "@jupyter-widgets/controls",
      "model_module_version": "2.0.0",
      "model_name": "TabModel",
      "state": {
       "_dom_classes": [],
       "_model_module": "@jupyter-widgets/controls",
       "_model_module_version": "2.0.0",
       "_model_name": "TabModel",
       "_view_count": null,
       "_view_module": "@jupyter-widgets/controls",
       "_view_module_version": "2.0.0",
       "_view_name": "TabView",
       "box_style": "",
       "children": [
        "IPY_MODEL_4c70998b37624631b2510dcacfec2e79",
        "IPY_MODEL_383da39eecf34261885bed53556d0c86",
        "IPY_MODEL_056ed1d6185b434cb15f976895e78387",
        "IPY_MODEL_28888f613d73402dbba3467c09a5f65d",
        "IPY_MODEL_858fc7c8e9034a89bc5cbc8f74c830f5",
        "IPY_MODEL_a44aac8165814bc4991b18db84826fb8",
        "IPY_MODEL_e3f540d96cab43309366772cc14935aa",
        "IPY_MODEL_f4362dd7675341c3aef1634559255d16",
        "IPY_MODEL_04a70eb85878424fb7fc1689e5fdc20b",
        "IPY_MODEL_f391ec178ee444c09c54b3ef9bfa4cab"
       ],
       "layout": "IPY_MODEL_e37b21596d6e4368b10d4db0d5864593",
       "selected_index": 0,
       "tabbable": null,
       "titles": [
        "enterprise_gateway",
        "fps",
        "gateway_provisioners",
        "jupyter-resource-usage",
        "jupyter-scheduler",
        "jupyter_releaser",
        "jupyter_server",
        "jupyverse",
        "kernel_gateway",
        "team-compass"
       ],
       "tooltip": null
      }
     },
     "c4b8e91b4d3c48d4aa26a8ef6bd7fbb0": {
      "model_module": "@jupyter-widgets/base",
      "model_module_version": "2.0.0",
      "model_name": "LayoutModel",
      "state": {
       "_model_module": "@jupyter-widgets/base",
       "_model_module_version": "2.0.0",
       "_model_name": "LayoutModel",
       "_view_count": null,
       "_view_module": "@jupyter-widgets/base",
       "_view_module_version": "2.0.0",
       "_view_name": "LayoutView",
       "align_content": null,
       "align_items": null,
       "align_self": null,
       "border_bottom": null,
       "border_left": null,
       "border_right": null,
       "border_top": null,
       "bottom": null,
       "display": null,
       "flex": null,
       "flex_flow": null,
       "grid_area": null,
       "grid_auto_columns": null,
       "grid_auto_flow": null,
       "grid_auto_rows": null,
       "grid_column": null,
       "grid_gap": null,
       "grid_row": null,
       "grid_template_areas": null,
       "grid_template_columns": null,
       "grid_template_rows": null,
       "height": null,
       "justify_content": null,
       "justify_items": null,
       "left": null,
       "margin": null,
       "max_height": null,
       "max_width": null,
       "min_height": null,
       "min_width": null,
       "object_fit": null,
       "object_position": null,
       "order": null,
       "overflow": null,
       "padding": null,
       "right": null,
       "top": null,
       "visibility": null,
       "width": null
      }
     },
     "ca407f8cce3944d0b1dcd41a4a6a50e6": {
      "model_module": "@jupyter-widgets/controls",
      "model_module_version": "2.0.0",
      "model_name": "HTMLModel",
      "state": {
       "_dom_classes": [],
       "_model_module": "@jupyter-widgets/controls",
       "_model_module_version": "2.0.0",
       "_model_name": "HTMLModel",
       "_view_count": null,
       "_view_module": "@jupyter-widgets/controls",
       "_view_module_version": "2.0.0",
       "_view_name": "HTMLView",
       "description": "",
       "description_allow_html": false,
       "layout": "IPY_MODEL_b9ca858e992a40e79500a6b742726dd1",
       "placeholder": "​",
       "style": "IPY_MODEL_fcb3fd90cdd44b7082251c265596aad4",
       "tabbable": null,
       "tooltip": null,
       "value": "<h5><a href=\"https://github.com/jupyter-server/enterprise_gateway\">jupyter-server/enterprise_gateway</a></h5>\n<ul>\n<li><a href=\"https://github.com/jupyter-server/enterprise_gateway/issues/1392\">(#1392)</a>: _Custom Spark 3.5.3 Kernel _ by <strong><a href=\"https://github.com/fatihmete\">@fatihmete</a></strong></li>\n<li><a href=\"https://github.com/jupyter-server/enterprise_gateway/issues/1404\">(#1404)</a>: <em>Setting up Jupyterhub to work with Enterprise Gateway</em> by <strong><a href=\"https://github.com/demardefrozen10\">@demardefrozen10</a></strong></li>\n<li><a href=\"https://github.com/jupyter-server/enterprise_gateway/issues/1359\">(#1359)</a>: <em>KIP cannot use ImagePullSecret when using containerd</em> by <strong><a href=\"https://github.com/Buchhold\">@Buchhold</a></strong></li>\n<li><a href=\"https://github.com/jupyter-server/enterprise_gateway/issues/1382\">(#1382)</a>: <em>Error: module 'kubernetes.client' has no attribute 'V1Subject'</em> by <strong><a href=\"https://github.com/fm2022aa\">@fm2022aa</a></strong></li>\n<li><a href=\"https://github.com/jupyter-server/enterprise_gateway/issues/1402\">(#1402)</a>: <em>Fix Infinite Loop in WebSocket Connection Message Handling</em> by <strong><a href=\"https://github.com/zdhdsx\">@zdhdsx</a></strong></li>\n</ul>"
      }
     },
     "cd40a8af715a402195fc6bf27f84a7c2": {
      "model_module": "@jupyter-widgets/controls",
      "model_module_version": "2.0.0",
      "model_name": "HTMLStyleModel",
      "state": {
       "_model_module": "@jupyter-widgets/controls",
       "_model_module_version": "2.0.0",
       "_model_name": "HTMLStyleModel",
       "_view_count": null,
       "_view_module": "@jupyter-widgets/base",
       "_view_module_version": "2.0.0",
       "_view_name": "StyleView",
       "background": null,
       "description_width": "",
       "font_size": null,
       "text_color": null
      }
     },
     "cd5e0b86d61845bfa2a4ac41a0c9713c": {
      "model_module": "@jupyter-widgets/controls",
      "model_module_version": "2.0.0",
      "model_name": "HTMLStyleModel",
      "state": {
       "_model_module": "@jupyter-widgets/controls",
       "_model_module_version": "2.0.0",
       "_model_name": "HTMLStyleModel",
       "_view_count": null,
       "_view_module": "@jupyter-widgets/base",
       "_view_module_version": "2.0.0",
       "_view_name": "StyleView",
       "background": null,
       "description_width": "",
       "font_size": null,
       "text_color": null
      }
     },
     "d5da8c11b89446ae8b004d959d8a653f": {
      "model_module": "@jupyter-widgets/controls",
      "model_module_version": "2.0.0",
      "model_name": "HTMLStyleModel",
      "state": {
       "_model_module": "@jupyter-widgets/controls",
       "_model_module_version": "2.0.0",
       "_model_name": "HTMLStyleModel",
       "_view_count": null,
       "_view_module": "@jupyter-widgets/base",
       "_view_module_version": "2.0.0",
       "_view_name": "StyleView",
       "background": null,
       "description_width": "",
       "font_size": null,
       "text_color": null
      }
     },
     "db94f3ca1d8c4098be3bf356748bf4cf": {
      "model_module": "@jupyter-widgets/controls",
      "model_module_version": "2.0.0",
      "model_name": "HTMLModel",
      "state": {
       "_dom_classes": [],
       "_model_module": "@jupyter-widgets/controls",
       "_model_module_version": "2.0.0",
       "_model_name": "HTMLModel",
       "_view_count": null,
       "_view_module": "@jupyter-widgets/controls",
       "_view_module_version": "2.0.0",
       "_view_name": "HTMLView",
       "description": "",
       "description_allow_html": false,
       "layout": "IPY_MODEL_5539619c9d0348c4a30f8e647a5b21b5",
       "placeholder": "​",
       "style": "IPY_MODEL_ffd28bfedea94e78968523c50aebfacf",
       "tabbable": null,
       "tooltip": null,
       "value": "<h5><a href=\"https://github.com/jupyter-server/jupyter_releaser\">jupyter-server/jupyter_releaser</a></h5>\n<ul>\n<li><a href=\"https://github.com/jupyter-server/jupyter_releaser/issues/604\">(#604)</a>: <em>Publish Release fails in FPS repo</em> by <strong><a href=\"https://github.com/davidbrochart\">@davidbrochart</a></strong></li>\n<li><a href=\"https://github.com/jupyter-server/jupyter_releaser/issues/606\">(#606)</a>: <em>Draft GitHub Release not created</em> by <strong><a href=\"https://github.com/jtpio\">@jtpio</a></strong></li>\n<li><a href=\"https://github.com/jupyter-server/jupyter_releaser/issues/603\">(#603)</a>: <em>Supporting publishing to multiple npm registries</em> by <strong><a href=\"https://github.com/martenrichter\">@martenrichter</a></strong></li>\n</ul>"
      }
     },
     "dccf2b747a8a489c90115803ec19c3b5": {
      "model_module": "@jupyter-widgets/controls",
      "model_module_version": "2.0.0",
      "model_name": "HTMLStyleModel",
      "state": {
       "_model_module": "@jupyter-widgets/controls",
       "_model_module_version": "2.0.0",
       "_model_name": "HTMLStyleModel",
       "_view_count": null,
       "_view_module": "@jupyter-widgets/base",
       "_view_module_version": "2.0.0",
       "_view_name": "StyleView",
       "background": null,
       "description_width": "",
       "font_size": null,
       "text_color": null
      }
     },
     "e154eb6d9ff44233b74ea80e5c31068a": {
      "model_module": "@jupyter-widgets/base",
      "model_module_version": "2.0.0",
      "model_name": "LayoutModel",
      "state": {
       "_model_module": "@jupyter-widgets/base",
       "_model_module_version": "2.0.0",
       "_model_name": "LayoutModel",
       "_view_count": null,
       "_view_module": "@jupyter-widgets/base",
       "_view_module_version": "2.0.0",
       "_view_name": "LayoutView",
       "align_content": null,
       "align_items": null,
       "align_self": null,
       "border_bottom": null,
       "border_left": null,
       "border_right": null,
       "border_top": null,
       "bottom": null,
       "display": null,
       "flex": null,
       "flex_flow": null,
       "grid_area": null,
       "grid_auto_columns": null,
       "grid_auto_flow": null,
       "grid_auto_rows": null,
       "grid_column": null,
       "grid_gap": null,
       "grid_row": null,
       "grid_template_areas": null,
       "grid_template_columns": null,
       "grid_template_rows": null,
       "height": null,
       "justify_content": null,
       "justify_items": null,
       "left": null,
       "margin": null,
       "max_height": null,
       "max_width": null,
       "min_height": null,
       "min_width": null,
       "object_fit": null,
       "object_position": null,
       "order": null,
       "overflow": null,
       "padding": null,
       "right": null,
       "top": null,
       "visibility": null,
       "width": null
      }
     },
     "e22350f0544c4a0c87ea47491003edee": {
      "model_module": "@jupyter-widgets/controls",
      "model_module_version": "2.0.0",
      "model_name": "HTMLModel",
      "state": {
       "_dom_classes": [],
       "_model_module": "@jupyter-widgets/controls",
       "_model_module_version": "2.0.0",
       "_model_name": "HTMLModel",
       "_view_count": null,
       "_view_module": "@jupyter-widgets/controls",
       "_view_module_version": "2.0.0",
       "_view_name": "HTMLView",
       "description": "",
       "description_allow_html": false,
       "layout": "IPY_MODEL_ee5eca25835a4d56b879316c1f98c651",
       "placeholder": "​",
       "style": "IPY_MODEL_3328b9ac6c614d2e8324a5a76d0066bd",
       "tabbable": null,
       "tooltip": null,
       "value": "<h4>Closed PRs for repo: <a href=\"https://github.com/jupyter-server/jupyter_server\">jupyter-server/jupyter_server</a></h4>\n<h5></h5>\n<ul>\n<li><a href=\"https://github.com/jupyter-server/jupyter_server/issues/1494\">(#1494)</a>: <em>display_url: Don't duplicate public_url and local_url if they are the same</em> by <strong><a href=\"https://github.com/manics\">@manics</a></strong> merged by <strong><a href=\"https://github.com/Zsailer\">@Zsailer</a></strong></li>\n<li><a href=\"https://github.com/jupyter-server/jupyter_server/issues/1499\">(#1499)</a>: <em>Update Contribution Page for Jupyter Server</em> by <strong><a href=\"https://github.com/kjayan\">@kjayan</a></strong> merged by <strong><a href=\"https://github.com/vidartf\">@vidartf</a></strong></li>\n<li><a href=\"https://github.com/jupyter-server/jupyter_server/issues/1500\">(#1500)</a>: <em>Fix for #1479 : Incorrect usage of i18n format</em> by <strong><a href=\"https://github.com/kjayan\">@kjayan</a></strong> merged by <strong><a href=\"https://github.com/vidartf\">@vidartf</a></strong></li>\n<li><a href=\"https://github.com/jupyter-server/jupyter_server/issues/1505\">(#1505)</a>: <em>Update Security Section in the Jupyter Server Documentation</em> by <strong><a href=\"https://github.com/kjayan\">@kjayan</a></strong> merged by <strong><a href=\"https://github.com/Zsailer\">@Zsailer</a></strong></li>\n<li><a href=\"https://github.com/jupyter-server/jupyter_server/issues/1508\">(#1508)</a>: <em>Update websocket-protocols documentation to reflect implementation</em> by <strong><a href=\"https://github.com/ark-1\">@ark-1</a></strong> merged by <strong><a href=\"https://github.com/Zsailer\">@Zsailer</a></strong></li>\n<li><a href=\"https://github.com/jupyter-server/jupyter_server/issues/1509\">(#1509)</a>: _ Validate extension name before toggling through CLI_ by <strong><a href=\"https://github.com/Darshan808\">@Darshan808</a></strong> merged by <strong><a href=\"https://github.com/afshin\">@afshin</a></strong></li>\n<li><a href=\"https://github.com/jupyter-server/jupyter_server/issues/1510\">(#1510)</a>: <em>tests: install test-functional requirements for Jupytext downstream tests</em> by <strong><a href=\"https://github.com/MaicoTimmerman\">@MaicoTimmerman</a></strong> merged by <strong><a href=\"https://github.com/Zsailer\">@Zsailer</a></strong></li>\n<li><a href=\"https://github.com/jupyter-server/jupyter_server/issues/1513\">(#1513)</a>: <em>Check file permissions before making tmp file</em> by <strong><a href=\"https://github.com/RRosio\">@RRosio</a></strong> merged by <strong><a href=\"https://github.com/afshin\">@afshin</a></strong></li>\n<li><a href=\"https://github.com/jupyter-server/jupyter_server/issues/1516\">(#1516)</a>: <em>Fallback to direct write for readonly dirs and use temp path for checkpoints</em> by <strong><a href=\"https://github.com/Darshan808\">@Darshan808</a></strong> merged by <strong><a href=\"https://github.com/afshin\">@afshin</a></strong></li>\n<li><a href=\"https://github.com/jupyter-server/jupyter_server/issues/1517\">(#1517)</a>: <em>Update meetings notes link and zoom link</em> by <strong><a href=\"https://github.com/krassowski\">@krassowski</a></strong> merged by <strong><a href=\"https://github.com/minrk\">@minrk</a></strong></li>\n<li><a href=\"https://github.com/jupyter-server/jupyter_server/issues/1522\">(#1522)</a>: <em>Turn ExtensionPoint class into a LoggingConfigurable to enable logging</em> by <strong><a href=\"https://github.com/Zsailer\">@Zsailer</a></strong> merged by <strong><a href=\"https://github.com/Zsailer\">@Zsailer</a></strong></li>\n</ul>"
      }
     },
     "e33d631833134a48bdd1c5f823f0f456": {
      "model_module": "@jupyter-widgets/base",
      "model_module_version": "2.0.0",
      "model_name": "LayoutModel",
      "state": {
       "_model_module": "@jupyter-widgets/base",
       "_model_module_version": "2.0.0",
       "_model_name": "LayoutModel",
       "_view_count": null,
       "_view_module": "@jupyter-widgets/base",
       "_view_module_version": "2.0.0",
       "_view_name": "LayoutView",
       "align_content": null,
       "align_items": null,
       "align_self": null,
       "border_bottom": null,
       "border_left": null,
       "border_right": null,
       "border_top": null,
       "bottom": null,
       "display": null,
       "flex": null,
       "flex_flow": null,
       "grid_area": null,
       "grid_auto_columns": null,
       "grid_auto_flow": null,
       "grid_auto_rows": null,
       "grid_column": null,
       "grid_gap": null,
       "grid_row": null,
       "grid_template_areas": null,
       "grid_template_columns": null,
       "grid_template_rows": null,
       "height": null,
       "justify_content": null,
       "justify_items": null,
       "left": null,
       "margin": null,
       "max_height": null,
       "max_width": null,
       "min_height": null,
       "min_width": null,
       "object_fit": null,
       "object_position": null,
       "order": null,
       "overflow": null,
       "padding": null,
       "right": null,
       "top": null,
       "visibility": null,
       "width": null
      }
     },
     "e37b21596d6e4368b10d4db0d5864593": {
      "model_module": "@jupyter-widgets/base",
      "model_module_version": "2.0.0",
      "model_name": "LayoutModel",
      "state": {
       "_model_module": "@jupyter-widgets/base",
       "_model_module_version": "2.0.0",
       "_model_name": "LayoutModel",
       "_view_count": null,
       "_view_module": "@jupyter-widgets/base",
       "_view_module_version": "2.0.0",
       "_view_name": "LayoutView",
       "align_content": null,
       "align_items": null,
       "align_self": null,
       "border_bottom": null,
       "border_left": null,
       "border_right": null,
       "border_top": null,
       "bottom": null,
       "display": null,
       "flex": null,
       "flex_flow": null,
       "grid_area": null,
       "grid_auto_columns": null,
       "grid_auto_flow": null,
       "grid_auto_rows": null,
       "grid_column": null,
       "grid_gap": null,
       "grid_row": null,
       "grid_template_areas": null,
       "grid_template_columns": null,
       "grid_template_rows": null,
       "height": null,
       "justify_content": null,
       "justify_items": null,
       "left": null,
       "margin": null,
       "max_height": null,
       "max_width": null,
       "min_height": null,
       "min_width": null,
       "object_fit": null,
       "object_position": null,
       "order": null,
       "overflow": null,
       "padding": null,
       "right": null,
       "top": null,
       "visibility": null,
       "width": null
      }
     },
     "e3f540d96cab43309366772cc14935aa": {
      "model_module": "@jupyter-widgets/controls",
      "model_module_version": "2.0.0",
      "model_name": "HTMLModel",
      "state": {
       "_dom_classes": [],
       "_model_module": "@jupyter-widgets/controls",
       "_model_module_version": "2.0.0",
       "_model_name": "HTMLModel",
       "_view_count": null,
       "_view_module": "@jupyter-widgets/controls",
       "_view_module_version": "2.0.0",
       "_view_name": "HTMLView",
       "description": "",
       "description_allow_html": false,
       "layout": "IPY_MODEL_a0cd544623704d49b06196f58b4577cd",
       "placeholder": "​",
       "style": "IPY_MODEL_af57a206a9164982a78da6b6fab77c17",
       "tabbable": null,
       "tooltip": null,
       "value": "<h5><a href=\"https://github.com/jupyter-server/jupyter_server\">jupyter-server/jupyter_server</a></h5>\n<ul>\n<li><a href=\"https://github.com/jupyter-server/jupyter_server/issues/1519\">(#1519)</a>: <em>Time for a new release?</em> by <strong><a href=\"https://github.com/krassowski\">@krassowski</a></strong></li>\n<li><a href=\"https://github.com/jupyter-server/jupyter_server/issues/1428\">(#1428)</a>: <em>Fix outdated security documentation</em> by <strong><a href=\"https://github.com/colinpalmer\">@colinpalmer</a></strong></li>\n<li><a href=\"https://github.com/jupyter-server/jupyter_server/issues/1497\">(#1497)</a>: <em>AttributeError seen while running xeus-cpp</em> by <strong><a href=\"https://github.com/anutosh491\">@anutosh491</a></strong></li>\n<li><a href=\"https://github.com/jupyter-server/jupyter_server/issues/1524\">(#1524)</a>: <em>Crash when renaming large files</em> by <strong><a href=\"https://github.com/danyeaw\">@danyeaw</a></strong></li>\n<li><a href=\"https://github.com/jupyter-server/jupyter_server/issues/1476\">(#1476)</a>: <em>boostrap v3 is EOL upstream; migrate to bootstrap v5</em> by <strong><a href=\"https://github.com/juliangilbey\">@juliangilbey</a></strong></li>\n</ul>"
      }
     },
     "ebe25ffd5a894f998f8b9b1f48cd055b": {
      "model_module": "@jupyter-widgets/base",
      "model_module_version": "2.0.0",
      "model_name": "LayoutModel",
      "state": {
       "_model_module": "@jupyter-widgets/base",
       "_model_module_version": "2.0.0",
       "_model_name": "LayoutModel",
       "_view_count": null,
       "_view_module": "@jupyter-widgets/base",
       "_view_module_version": "2.0.0",
       "_view_name": "LayoutView",
       "align_content": null,
       "align_items": null,
       "align_self": null,
       "border_bottom": null,
       "border_left": null,
       "border_right": null,
       "border_top": null,
       "bottom": null,
       "display": null,
       "flex": null,
       "flex_flow": null,
       "grid_area": null,
       "grid_auto_columns": null,
       "grid_auto_flow": null,
       "grid_auto_rows": null,
       "grid_column": null,
       "grid_gap": null,
       "grid_row": null,
       "grid_template_areas": null,
       "grid_template_columns": null,
       "grid_template_rows": null,
       "height": null,
       "justify_content": null,
       "justify_items": null,
       "left": null,
       "margin": null,
       "max_height": null,
       "max_width": null,
       "min_height": null,
       "min_width": null,
       "object_fit": null,
       "object_position": null,
       "order": null,
       "overflow": null,
       "padding": null,
       "right": null,
       "top": null,
       "visibility": null,
       "width": null
      }
     },
     "ee5eca25835a4d56b879316c1f98c651": {
      "model_module": "@jupyter-widgets/base",
      "model_module_version": "2.0.0",
      "model_name": "LayoutModel",
      "state": {
       "_model_module": "@jupyter-widgets/base",
       "_model_module_version": "2.0.0",
       "_model_name": "LayoutModel",
       "_view_count": null,
       "_view_module": "@jupyter-widgets/base",
       "_view_module_version": "2.0.0",
       "_view_name": "LayoutView",
       "align_content": null,
       "align_items": null,
       "align_self": null,
       "border_bottom": null,
       "border_left": null,
       "border_right": null,
       "border_top": null,
       "bottom": null,
       "display": null,
       "flex": null,
       "flex_flow": null,
       "grid_area": null,
       "grid_auto_columns": null,
       "grid_auto_flow": null,
       "grid_auto_rows": null,
       "grid_column": null,
       "grid_gap": null,
       "grid_row": null,
       "grid_template_areas": null,
       "grid_template_columns": null,
       "grid_template_rows": null,
       "height": null,
       "justify_content": null,
       "justify_items": null,
       "left": null,
       "margin": null,
       "max_height": null,
       "max_width": null,
       "min_height": null,
       "min_width": null,
       "object_fit": null,
       "object_position": null,
       "order": null,
       "overflow": null,
       "padding": null,
       "right": null,
       "top": null,
       "visibility": null,
       "width": null
      }
     },
     "f2c4617e8ca84a6394528480e38a3f62": {
      "model_module": "@jupyter-widgets/controls",
      "model_module_version": "2.0.0",
      "model_name": "HTMLStyleModel",
      "state": {
       "_model_module": "@jupyter-widgets/controls",
       "_model_module_version": "2.0.0",
       "_model_name": "HTMLStyleModel",
       "_view_count": null,
       "_view_module": "@jupyter-widgets/base",
       "_view_module_version": "2.0.0",
       "_view_name": "StyleView",
       "background": null,
       "description_width": "",
       "font_size": null,
       "text_color": null
      }
     },
     "f391ec178ee444c09c54b3ef9bfa4cab": {
      "model_module": "@jupyter-widgets/controls",
      "model_module_version": "2.0.0",
      "model_name": "HTMLModel",
      "state": {
       "_dom_classes": [],
       "_model_module": "@jupyter-widgets/controls",
       "_model_module_version": "2.0.0",
       "_model_name": "HTMLModel",
       "_view_count": null,
       "_view_module": "@jupyter-widgets/controls",
       "_view_module_version": "2.0.0",
       "_view_name": "HTMLView",
       "description": "",
       "description_allow_html": false,
       "layout": "IPY_MODEL_10e65ee9fc314917bf37358f7cfdb844",
       "placeholder": "​",
       "style": "IPY_MODEL_f2c4617e8ca84a6394528480e38a3f62",
       "tabbable": null,
       "tooltip": null,
       "value": "<h5><a href=\"https://github.com/jupyter-server/team-compass\">jupyter-server/team-compass</a></h5>\n<ul>\n<li><a href=\"https://github.com/jupyter-server/team-compass/issues/73\">(#73)</a>: <em>Meeting Notes 2025</em> by <strong><a href=\"https://github.com/Zsailer\">@Zsailer</a></strong></li>\n<li><a href=\"https://github.com/jupyter-server/team-compass/issues/78\">(#78)</a>: <em>Vote: move <code>pycrdt</code> and <code>pycrdt-websocket</code> to <code>y-crdt</code> organization</em> by <strong><a href=\"https://github.com/davidbrochart\">@davidbrochart</a></strong></li>\n<li><a href=\"https://github.com/jupyter-server/team-compass/issues/77\">(#77)</a>: <em>Move <code>pycrdt</code> to <code>y-crdt</code> organization</em> by <strong><a href=\"https://github.com/davidbrochart\">@davidbrochart</a></strong></li>\n<li><a href=\"https://github.com/jupyter-server/team-compass/issues/79\">(#79)</a>: <em>Proposal: move github-activity into this GitHub organization</em> by <strong><a href=\"https://github.com/choldgraf\">@choldgraf</a></strong></li>\n<li><a href=\"https://github.com/jupyter-server/team-compass/issues/72\">(#72)</a>: <em>Support running kernels in multiple locations (locally or remote) simultaneously.</em> by <strong><a href=\"https://github.com/ojarjur\">@ojarjur</a></strong></li>\n</ul>"
      }
     },
     "f4362dd7675341c3aef1634559255d16": {
      "model_module": "@jupyter-widgets/controls",
      "model_module_version": "2.0.0",
      "model_name": "HTMLModel",
      "state": {
       "_dom_classes": [],
       "_model_module": "@jupyter-widgets/controls",
       "_model_module_version": "2.0.0",
       "_model_name": "HTMLModel",
       "_view_count": null,
       "_view_module": "@jupyter-widgets/controls",
       "_view_module_version": "2.0.0",
       "_view_name": "HTMLView",
       "description": "",
       "description_allow_html": false,
       "layout": "IPY_MODEL_830cd23e7a6a4fc4bd4c5c3cf23674c8",
       "placeholder": "​",
       "style": "IPY_MODEL_26ecafc1d8e844d1b6d1befdea3d5f1f",
       "tabbable": null,
       "tooltip": null,
       "value": "<h5><a href=\"https://github.com/jupyter-server/jupyverse\">jupyter-server/jupyverse</a></h5>\n<ul>\n<li><a href=\"https://github.com/jupyter-server/jupyverse/issues/471\">(#471)</a>: <em>Move jupyverse to Jupyter PyPI organization</em> by <strong><a href=\"https://github.com/Zsailer\">@Zsailer</a></strong></li>\n<li><a href=\"https://github.com/jupyter-server/jupyverse/issues/236\">(#236)</a>: <em>Contents root_dir</em> by <strong><a href=\"https://github.com/davidbrochart\">@davidbrochart</a></strong></li>\n<li><a href=\"https://github.com/jupyter-server/jupyverse/issues/444\">(#444)</a>: <em>Rename mentions to <code>fps-</code>?</em> by <strong><a href=\"https://github.com/jtpio\">@jtpio</a></strong></li>\n</ul>"
      }
     },
     "f64c8b2fb2954e40a65ca7ba02f95c91": {
      "model_module": "@jupyter-widgets/base",
      "model_module_version": "2.0.0",
      "model_name": "LayoutModel",
      "state": {
       "_model_module": "@jupyter-widgets/base",
       "_model_module_version": "2.0.0",
       "_model_name": "LayoutModel",
       "_view_count": null,
       "_view_module": "@jupyter-widgets/base",
       "_view_module_version": "2.0.0",
       "_view_name": "LayoutView",
       "align_content": null,
       "align_items": null,
       "align_self": null,
       "border_bottom": null,
       "border_left": null,
       "border_right": null,
       "border_top": null,
       "bottom": null,
       "display": null,
       "flex": null,
       "flex_flow": null,
       "grid_area": null,
       "grid_auto_columns": null,
       "grid_auto_flow": null,
       "grid_auto_rows": null,
       "grid_column": null,
       "grid_gap": null,
       "grid_row": null,
       "grid_template_areas": null,
       "grid_template_columns": null,
       "grid_template_rows": null,
       "height": null,
       "justify_content": null,
       "justify_items": null,
       "left": null,
       "margin": null,
       "max_height": null,
       "max_width": null,
       "min_height": null,
       "min_width": null,
       "object_fit": null,
       "object_position": null,
       "order": null,
       "overflow": null,
       "padding": null,
       "right": null,
       "top": null,
       "visibility": null,
       "width": null
      }
     },
     "fcb3fd90cdd44b7082251c265596aad4": {
      "model_module": "@jupyter-widgets/controls",
      "model_module_version": "2.0.0",
      "model_name": "HTMLStyleModel",
      "state": {
       "_model_module": "@jupyter-widgets/controls",
       "_model_module_version": "2.0.0",
       "_model_name": "HTMLStyleModel",
       "_view_count": null,
       "_view_module": "@jupyter-widgets/base",
       "_view_module_version": "2.0.0",
       "_view_name": "StyleView",
       "background": null,
       "description_width": "",
       "font_size": null,
       "text_color": null
      }
     },
     "fe1d810aad6c4e169ca5577f32474840": {
      "model_module": "@jupyter-widgets/controls",
      "model_module_version": "2.0.0",
      "model_name": "HTMLModel",
      "state": {
       "_dom_classes": [],
       "_model_module": "@jupyter-widgets/controls",
       "_model_module_version": "2.0.0",
       "_model_name": "HTMLModel",
       "_view_count": null,
       "_view_module": "@jupyter-widgets/controls",
       "_view_module_version": "2.0.0",
       "_view_name": "HTMLView",
       "description": "",
       "description_allow_html": false,
       "layout": "IPY_MODEL_097b4dcdd8ff42b79c9aca0dbb7780a5",
       "placeholder": "​",
       "style": "IPY_MODEL_78e3504b6f8c41e997f7fb74e138e581",
       "tabbable": null,
       "tooltip": null,
       "value": "<h5><a href=\"https://github.com/jupyter-server/fps\">jupyter-server/fps</a></h5>\n<ul>\n<li><a href=\"https://github.com/jupyter-server/fps/issues/112\">(#112)</a>: <em>Move fps to Jupyter PyPI organization</em> by <strong><a href=\"https://github.com/Zsailer\">@Zsailer</a></strong></li>\n<li><a href=\"https://github.com/jupyter-server/fps/issues/44\">(#44)</a>: <em>Forward CLI args to application</em> by <strong><a href=\"https://github.com/davidbrochart\">@davidbrochart</a></strong></li>\n<li><a href=\"https://github.com/jupyter-server/fps/issues/54\">(#54)</a>: <em>Run-time plugin router definition</em> by <strong><a href=\"https://github.com/davidbrochart\">@davidbrochart</a></strong></li>\n</ul>"
      }
     },
     "ffd28bfedea94e78968523c50aebfacf": {
      "model_module": "@jupyter-widgets/controls",
      "model_module_version": "2.0.0",
      "model_name": "HTMLStyleModel",
      "state": {
       "_model_module": "@jupyter-widgets/controls",
       "_model_module_version": "2.0.0",
       "_model_name": "HTMLStyleModel",
       "_view_count": null,
       "_view_module": "@jupyter-widgets/base",
       "_view_module_version": "2.0.0",
       "_view_name": "StyleView",
       "background": null,
       "description_width": "",
       "font_size": null,
       "text_color": null
      }
     }
    },
    "version_major": 2,
    "version_minor": 0
   }
  }
 },
 "nbformat": 4,
 "nbformat_minor": 5
}