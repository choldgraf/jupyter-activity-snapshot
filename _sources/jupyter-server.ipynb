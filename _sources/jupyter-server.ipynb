{
 "cells": [
  {
   "cell_type": "markdown",
   "id": "8df63324",
   "metadata": {
    "papermill": {
     "duration": 0.015534,
     "end_time": "2025-05-17T01:30:56.062843",
     "exception": false,
     "start_time": "2025-05-17T01:30:56.047309",
     "status": "completed"
    },
    "tags": []
   },
   "source": [
    "# {glue:text}`jupyter-server_github_org`\n",
    "\n",
    "**Activity from {glue:}`jupyter-server_start` to {glue:}`jupyter-server_stop`**"
   ]
  },
  {
   "cell_type": "code",
   "execution_count": 1,
   "id": "df1dc15f",
   "metadata": {
    "editable": true,
    "execution": {
     "iopub.execute_input": "2025-05-17T01:30:56.093567Z",
     "iopub.status.busy": "2025-05-17T01:30:56.093044Z",
     "iopub.status.idle": "2025-05-17T01:30:56.904449Z",
     "shell.execute_reply": "2025-05-17T01:30:56.903736Z"
    },
    "papermill": {
     "duration": 0.828348,
     "end_time": "2025-05-17T01:30:56.905845",
     "exception": false,
     "start_time": "2025-05-17T01:30:56.077497",
     "status": "completed"
    },
    "slideshow": {
     "slide_type": ""
    },
    "tags": [
     "remove_cell"
    ]
   },
   "outputs": [],
   "source": [
    "from datetime import date\n",
    "from dateutil.relativedelta import relativedelta\n",
    "from myst_nb import glue\n",
    "import seaborn as sns\n",
    "import pandas as pd\n",
    "import numpy as np\n",
    "import altair as alt\n",
    "from markdown import markdown\n",
    "from IPython.display import Markdown\n",
    "from ipywidgets.widgets import HTML, Tab\n",
    "from ipywidgets import widgets\n",
    "from datetime import timedelta\n",
    "from matplotlib import pyplot as plt\n",
    "import os.path as op\n",
    "from json import loads\n",
    "\n",
    "from warnings import simplefilter\n",
    "simplefilter('ignore')\n",
    "pd.set_option('display.max_columns', None) # 'None' means show all"
   ]
  },
  {
   "cell_type": "code",
   "execution_count": 2,
   "id": "768d1d4a",
   "metadata": {
    "editable": true,
    "execution": {
     "iopub.execute_input": "2025-05-17T01:30:56.937557Z",
     "iopub.status.busy": "2025-05-17T01:30:56.936991Z",
     "iopub.status.idle": "2025-05-17T01:30:56.943894Z",
     "shell.execute_reply": "2025-05-17T01:30:56.943326Z"
    },
    "papermill": {
     "duration": 0.023602,
     "end_time": "2025-05-17T01:30:56.944938",
     "exception": false,
     "start_time": "2025-05-17T01:30:56.921336",
     "status": "completed"
    },
    "slideshow": {
     "slide_type": ""
    },
    "tags": [
     "remove_cell"
    ]
   },
   "outputs": [],
   "source": [
    "# Altair config\n",
    "def author_url(author):\n",
    "    return f\"https://github.com/{author}\"\n",
    "\n",
    "def alt_theme():\n",
    "    return {\n",
    "        'config': {\n",
    "            'axisLeft': {\n",
    "                'labelFontSize': 15,\n",
    "            },\n",
    "            'axisBottom': {\n",
    "                'labelFontSize': 15,\n",
    "            },\n",
    "        }\n",
    "    }\n",
    "\n",
    "alt.themes.register('my_theme', alt_theme)\n",
    "alt.themes.enable(\"my_theme\")\n",
    "\n",
    "\n",
    "# Define colors we'll use for GitHub membership\n",
    "author_types = ['MEMBER', 'CONTRIBUTOR', 'COLLABORATOR', \"NONE\"]\n",
    "\n",
    "author_palette = np.array(sns.palettes.blend_palette([\"lightgrey\", \"lightgreen\", \"darkgreen\"], 4)) * 256\n",
    "author_colors = [\"rgb({}, {}, {})\".format(*color) for color in author_palette]\n",
    "author_color_dict = {key: val for key, val in zip(author_types, author_palette)}"
   ]
  },
  {
   "cell_type": "code",
   "execution_count": 3,
   "id": "a3ccdd1e",
   "metadata": {
    "editable": true,
    "execution": {
     "iopub.execute_input": "2025-05-17T01:30:56.973662Z",
     "iopub.status.busy": "2025-05-17T01:30:56.973276Z",
     "iopub.status.idle": "2025-05-17T01:30:56.976314Z",
     "shell.execute_reply": "2025-05-17T01:30:56.975672Z"
    },
    "papermill": {
     "duration": 0.018573,
     "end_time": "2025-05-17T01:30:56.977340",
     "exception": false,
     "start_time": "2025-05-17T01:30:56.958767",
     "status": "completed"
    },
    "slideshow": {
     "slide_type": ""
    },
    "tags": [
     "parameters",
     "hide_input",
     "remove_cell"
    ]
   },
   "outputs": [],
   "source": [
    "github_org = \"jupyterhub\"\n",
    "top_n_repos = 15\n",
    "n_days = 90"
   ]
  },
  {
   "cell_type": "code",
   "execution_count": 4,
   "id": "587452a8",
   "metadata": {
    "execution": {
     "iopub.execute_input": "2025-05-17T01:30:57.005988Z",
     "iopub.status.busy": "2025-05-17T01:30:57.005620Z",
     "iopub.status.idle": "2025-05-17T01:30:57.008555Z",
     "shell.execute_reply": "2025-05-17T01:30:57.008024Z"
    },
    "papermill": {
     "duration": 0.018435,
     "end_time": "2025-05-17T01:30:57.009584",
     "exception": false,
     "start_time": "2025-05-17T01:30:56.991149",
     "status": "completed"
    },
    "tags": [
     "injected-parameters",
     "remove-cell"
    ]
   },
   "outputs": [],
   "source": [
    "# Parameters\n",
    "github_org = \"jupyter-server\"\n",
    "n_days = 90\n"
   ]
  },
  {
   "cell_type": "code",
   "execution_count": 5,
   "id": "b887a51b",
   "metadata": {
    "editable": true,
    "execution": {
     "iopub.execute_input": "2025-05-17T01:30:57.039308Z",
     "iopub.status.busy": "2025-05-17T01:30:57.039112Z",
     "iopub.status.idle": "2025-05-17T01:30:57.061371Z",
     "shell.execute_reply": "2025-05-17T01:30:57.060732Z"
    },
    "papermill": {
     "duration": 0.038478,
     "end_time": "2025-05-17T01:30:57.062443",
     "exception": false,
     "start_time": "2025-05-17T01:30:57.023965",
     "status": "completed"
    },
    "slideshow": {
     "slide_type": ""
    },
    "tags": [
     "remove_cell"
    ]
   },
   "outputs": [
    {
     "data": {
      "application/papermill.record/text/plain": "'jupyter-server'"
     },
     "metadata": {
      "scrapbook": {
       "mime_prefix": "application/papermill.record/",
       "name": "jupyter-server_github_org"
      }
     },
     "output_type": "display_data"
    },
    {
     "data": {
      "application/papermill.record/text/plain": "'2025-02-16'"
     },
     "metadata": {
      "scrapbook": {
       "mime_prefix": "application/papermill.record/",
       "name": "jupyter-server_start"
      }
     },
     "output_type": "display_data"
    },
    {
     "data": {
      "application/papermill.record/text/plain": "'2025-05-17'"
     },
     "metadata": {
      "scrapbook": {
       "mime_prefix": "application/papermill.record/",
       "name": "jupyter-server_stop"
      }
     },
     "output_type": "display_data"
    }
   ],
   "source": [
    "############################################################\n",
    "# Variables\n",
    "stop = date.today()\n",
    "start = date.today() - relativedelta(days=n_days)\n",
    "\n",
    "# Strings for use in queries\n",
    "start_date = f\"{start:%Y-%m-%d}\"\n",
    "stop_date = f\"{stop:%Y-%m-%d}\"\n",
    "\n",
    "# Glue variables for use in markdown\n",
    "glue(f\"{github_org}_github_org\", github_org, display=False)\n",
    "glue(f\"{github_org}_start\", start_date, display=False)\n",
    "glue(f\"{github_org}_stop\", stop_date, display=False)"
   ]
  },
  {
   "cell_type": "markdown",
   "id": "c8b7578d",
   "metadata": {
    "editable": true,
    "papermill": {
     "duration": 0.014307,
     "end_time": "2025-05-17T01:30:57.091015",
     "exception": false,
     "start_time": "2025-05-17T01:30:57.076708",
     "status": "completed"
    },
    "slideshow": {
     "slide_type": ""
    },
    "tags": []
   },
   "source": [
    "## Load data\n",
    "\n",
    "Load and clean up the data"
   ]
  },
  {
   "cell_type": "code",
   "execution_count": 6,
   "id": "b94f39c5",
   "metadata": {
    "editable": true,
    "execution": {
     "iopub.execute_input": "2025-05-17T01:30:57.120898Z",
     "iopub.status.busy": "2025-05-17T01:30:57.120510Z",
     "iopub.status.idle": "2025-05-17T01:30:57.124749Z",
     "shell.execute_reply": "2025-05-17T01:30:57.124148Z"
    },
    "papermill": {
     "duration": 0.020342,
     "end_time": "2025-05-17T01:30:57.125775",
     "exception": false,
     "start_time": "2025-05-17T01:30:57.105433",
     "status": "completed"
    },
    "slideshow": {
     "slide_type": ""
    },
    "tags": [
     "remove_cell"
    ]
   },
   "outputs": [],
   "source": [
    "from pathlib import Path\n",
    "import sqlite3\n",
    "path_data = Path(\"../data\")\n",
    "path_data = list(path_data.rglob(f\"*{github_org}.db\"))[0]\n",
    "\n",
    "def df_from_sql(query, db):\n",
    "    con = sqlite3.connect(db)\n",
    "    return pd.read_sql(query, con)\n",
    "    con.close()"
   ]
  },
  {
   "cell_type": "code",
   "execution_count": 7,
   "id": "5402457c",
   "metadata": {
    "editable": true,
    "execution": {
     "iopub.execute_input": "2025-05-17T01:30:57.156628Z",
     "iopub.status.busy": "2025-05-17T01:30:57.156267Z",
     "iopub.status.idle": "2025-05-17T01:30:57.401561Z",
     "shell.execute_reply": "2025-05-17T01:30:57.400931Z"
    },
    "papermill": {
     "duration": 0.262146,
     "end_time": "2025-05-17T01:30:57.402748",
     "exception": false,
     "start_time": "2025-05-17T01:30:57.140602",
     "status": "completed"
    },
    "scrolled": true,
    "slideshow": {
     "slide_type": ""
    },
    "tags": [
     "remove_cell"
    ]
   },
   "outputs": [
    {
     "name": "stdout",
     "output_type": "stream",
     "text": [
      "Loading from ../data/b0cc46e05ac6a93978539fc404bc6ea4-jupyter-server.db\n"
     ]
    }
   ],
   "source": [
    "print(f\"Loading from {path_data}\")\n",
    "repos = df_from_sql(\"SELECT * FROM repos\", path_data)\n",
    "users = df_from_sql(\"SELECT * FROM users\", path_data)\n",
    "issues = df_from_sql(\"SELECT * FROM issues\", path_data)\n",
    "comments = df_from_sql(\"SELECT * FROM issue_comments\", path_data)\n",
    "\n",
    "# Merge repository information into issues\n",
    "def merge_repo_into_df(df, kind):\n",
    "    df = pd.merge(df, users[[\"id\", \"login\"]], left_on=\"user\", right_on=\"id\", suffixes=(\"_issue\", \"_user\"), how=\"inner\")\n",
    "    df = pd.merge(df, repos[[\"id\", \"full_name\", \"name\"]], left_on=\"repo\", right_on=\"id\", suffixes=(\"_issue\", \"_repo\"), how=\"inner\")\n",
    "    df[\"org\"] = df[\"full_name\"].map(lambda a: a.split('/')[0])\n",
    "    df[\"repo\"] = df[\"full_name\"].map(lambda a: a.split('/')[1])\n",
    "    df[\"url\"] = \"https://github.com/\" + df[\"org\"] + \"/\" + df[\"repo\"] + f\"/{kind}/\" + df[\"number\"].astype(str)\n",
    "    return df\n",
    "issues = merge_repo_into_df(issues, kind=\"issues\")\n",
    "\n",
    "# Pull out the Pull Requests from Issues\n",
    "prs = issues.loc[~issues[\"pull_request\"].isna()]\n",
    "def identify_merger(closedby):\n",
    "    if not closedby:\n",
    "        return None\n",
    "    try:\n",
    "        cb = loads(closedby)\n",
    "    except:\n",
    "        print(closedby)\n",
    "    return cb[\"login\"]\n",
    "prs[\"merged_by\"] = prs[\"closed_by\"].map(identify_merger)\n",
    "\n",
    "# These issues now _remove_ the PRs\n",
    "issues = issues.loc[issues[\"pull_request\"].isna()]\n",
    "\n",
    "# Add reactions data\n",
    "def count_positive(a):\n",
    "    a = loads(a)\n",
    "    return a[\"+1\"] + a[\"hooray\"] + a[\"heart\"]\n",
    "issues[\"positive\"] = issues[\"reactions\"].map(count_positive)\n",
    "\n",
    "# Drop comments if there is no associated issue\n",
    "comments = comments.dropna(subset=[\"issue\"])\n",
    "comments[\"issue\"] = comments.loc[:, \"issue\"].astype(int)\n",
    "\n",
    "# Add repository information to comments\n",
    "comments = pd.merge(comments, issues[[\"id_issue\", \"full_name\", \"org\", \"repo\"]], left_on=\"issue\", right_on=\"id_issue\", how=\"inner\", suffixes=(\"_comment\", \"_issue\"))\n",
    "\n",
    "# Merge user data into comments\n",
    "comments = pd.merge(comments, users[[\"id\", \"login\"]], left_on=\"user\", right_on=\"id\", suffixes=(\"_comment\", \"_user\"), how=\"inner\")"
   ]
  },
  {
   "cell_type": "code",
   "execution_count": 8,
   "id": "8e13ac74",
   "metadata": {
    "editable": true,
    "execution": {
     "iopub.execute_input": "2025-05-17T01:30:57.433553Z",
     "iopub.status.busy": "2025-05-17T01:30:57.432974Z",
     "iopub.status.idle": "2025-05-17T01:30:57.461702Z",
     "shell.execute_reply": "2025-05-17T01:30:57.461165Z"
    },
    "papermill": {
     "duration": 0.044748,
     "end_time": "2025-05-17T01:30:57.462719",
     "exception": false,
     "start_time": "2025-05-17T01:30:57.417971",
     "status": "completed"
    },
    "slideshow": {
     "slide_type": ""
    },
    "tags": [
     "remove_cell"
    ]
   },
   "outputs": [],
   "source": [
    "# Convert columns to datetime\n",
    "datetime_columns = [\"created_at\", \"closed_at\"]\n",
    "for df in [comments, issues, prs]:\n",
    "    for col in datetime_columns:\n",
    "        if col in df:\n",
    "            df[col] = pd.to_datetime(df[col])\n",
    "            # Strip timezone information so we can run simpler queries\n",
    "            df[col] = df[col].dt.tz_localize(None)"
   ]
  },
  {
   "cell_type": "code",
   "execution_count": 9,
   "id": "3f62f7da",
   "metadata": {
    "editable": true,
    "execution": {
     "iopub.execute_input": "2025-05-17T01:30:57.493754Z",
     "iopub.status.busy": "2025-05-17T01:30:57.493315Z",
     "iopub.status.idle": "2025-05-17T01:30:57.502594Z",
     "shell.execute_reply": "2025-05-17T01:30:57.501979Z"
    },
    "papermill": {
     "duration": 0.026086,
     "end_time": "2025-05-17T01:30:57.503726",
     "exception": false,
     "start_time": "2025-05-17T01:30:57.477640",
     "status": "completed"
    },
    "slideshow": {
     "slide_type": ""
    },
    "tags": [
     "remove_cell"
    ]
   },
   "outputs": [],
   "source": [
    "# What are the top N repos, we will only plot these in the full data plots\n",
    "top_commented_repos = comments.groupby(\"repo\").count().sort_values(\"created_at\", ascending=False)['created_at']\n",
    "use_repos = top_commented_repos.head(top_n_repos).index.tolist()"
   ]
  },
  {
   "cell_type": "markdown",
   "id": "da333d14",
   "metadata": {
    "editable": true,
    "papermill": {
     "duration": 0.014365,
     "end_time": "2025-05-17T01:30:57.532725",
     "exception": false,
     "start_time": "2025-05-17T01:30:57.518360",
     "status": "completed"
    },
    "slideshow": {
     "slide_type": ""
    },
    "tags": [],
    "toc-hr-collapsed": false
   },
   "source": [
    "## Merged Pull requests\n",
    "\n",
    "Here's an analysis of **merged pull requests** across each of the repositories in the Jupyter\n",
    "ecosystem."
   ]
  },
  {
   "cell_type": "code",
   "execution_count": 10,
   "id": "c56260ce",
   "metadata": {
    "editable": true,
    "execution": {
     "iopub.execute_input": "2025-05-17T01:30:57.562343Z",
     "iopub.status.busy": "2025-05-17T01:30:57.562145Z",
     "iopub.status.idle": "2025-05-17T01:30:57.572714Z",
     "shell.execute_reply": "2025-05-17T01:30:57.572089Z"
    },
    "papermill": {
     "duration": 0.026767,
     "end_time": "2025-05-17T01:30:57.573894",
     "exception": false,
     "start_time": "2025-05-17T01:30:57.547127",
     "status": "completed"
    },
    "slideshow": {
     "slide_type": ""
    },
    "tags": [
     "remove_cell"
    ]
   },
   "outputs": [],
   "source": [
    "merged = prs.query('state == \"closed\" and closed_at > @start_date and closed_at < @stop_date')"
   ]
  },
  {
   "cell_type": "code",
   "execution_count": 11,
   "id": "37cabfe8",
   "metadata": {
    "editable": true,
    "execution": {
     "iopub.execute_input": "2025-05-17T01:30:57.605009Z",
     "iopub.status.busy": "2025-05-17T01:30:57.604791Z",
     "iopub.status.idle": "2025-05-17T01:30:57.642286Z",
     "shell.execute_reply": "2025-05-17T01:30:57.641717Z"
    },
    "papermill": {
     "duration": 0.054467,
     "end_time": "2025-05-17T01:30:57.643318",
     "exception": false,
     "start_time": "2025-05-17T01:30:57.588851",
     "status": "completed"
    },
    "slideshow": {
     "slide_type": ""
    },
    "tags": [
     "hide_input"
    ]
   },
   "outputs": [
    {
     "data": {
      "text/html": [
       "\n",
       "<style>\n",
       "  #altair-viz-7c1ee74eaf61447b81b26a4a61229213.vega-embed {\n",
       "    width: 100%;\n",
       "    display: flex;\n",
       "  }\n",
       "\n",
       "  #altair-viz-7c1ee74eaf61447b81b26a4a61229213.vega-embed details,\n",
       "  #altair-viz-7c1ee74eaf61447b81b26a4a61229213.vega-embed details summary {\n",
       "    position: relative;\n",
       "  }\n",
       "</style>\n",
       "<div id=\"altair-viz-7c1ee74eaf61447b81b26a4a61229213\"></div>\n",
       "<script type=\"text/javascript\">\n",
       "  var VEGA_DEBUG = (typeof VEGA_DEBUG == \"undefined\") ? {} : VEGA_DEBUG;\n",
       "  (function(spec, embedOpt){\n",
       "    let outputDiv = document.currentScript.previousElementSibling;\n",
       "    if (outputDiv.id !== \"altair-viz-7c1ee74eaf61447b81b26a4a61229213\") {\n",
       "      outputDiv = document.getElementById(\"altair-viz-7c1ee74eaf61447b81b26a4a61229213\");\n",
       "    }\n",
       "\n",
       "    const paths = {\n",
       "      \"vega\": \"https://cdn.jsdelivr.net/npm/vega@5?noext\",\n",
       "      \"vega-lib\": \"https://cdn.jsdelivr.net/npm/vega-lib?noext\",\n",
       "      \"vega-lite\": \"https://cdn.jsdelivr.net/npm/vega-lite@5.20.1?noext\",\n",
       "      \"vega-embed\": \"https://cdn.jsdelivr.net/npm/vega-embed@6?noext\",\n",
       "    };\n",
       "\n",
       "    function maybeLoadScript(lib, version) {\n",
       "      var key = `${lib.replace(\"-\", \"\")}_version`;\n",
       "      return (VEGA_DEBUG[key] == version) ?\n",
       "        Promise.resolve(paths[lib]) :\n",
       "        new Promise(function(resolve, reject) {\n",
       "          var s = document.createElement('script');\n",
       "          document.getElementsByTagName(\"head\")[0].appendChild(s);\n",
       "          s.async = true;\n",
       "          s.onload = () => {\n",
       "            VEGA_DEBUG[key] = version;\n",
       "            return resolve(paths[lib]);\n",
       "          };\n",
       "          s.onerror = () => reject(`Error loading script: ${paths[lib]}`);\n",
       "          s.src = paths[lib];\n",
       "        });\n",
       "    }\n",
       "\n",
       "    function showError(err) {\n",
       "      outputDiv.innerHTML = `<div class=\"error\" style=\"color:red;\">${err}</div>`;\n",
       "      throw err;\n",
       "    }\n",
       "\n",
       "    function displayChart(vegaEmbed) {\n",
       "      vegaEmbed(outputDiv, spec, embedOpt)\n",
       "        .catch(err => showError(`Javascript Error: ${err.message}<br>This usually means there's a typo in your chart specification. See the javascript console for the full traceback.`));\n",
       "    }\n",
       "\n",
       "    if(typeof define === \"function\" && define.amd) {\n",
       "      requirejs.config({paths});\n",
       "      let deps = [\"vega-embed\"];\n",
       "      require(deps, displayChart, err => showError(`Error loading script: ${err.message}`));\n",
       "    } else {\n",
       "      maybeLoadScript(\"vega\", \"5\")\n",
       "        .then(() => maybeLoadScript(\"vega-lite\", \"5.20.1\"))\n",
       "        .then(() => maybeLoadScript(\"vega-embed\", \"6\"))\n",
       "        .catch(showError)\n",
       "        .then(() => displayChart(vegaEmbed));\n",
       "    }\n",
       "  })({\"config\": {\"axisLeft\": {\"labelFontSize\": 15}, \"axisBottom\": {\"labelFontSize\": 15}}, \"data\": {\"name\": \"data-c0c04d0679a4ca81f568ff327740e915\"}, \"mark\": {\"type\": \"bar\"}, \"encoding\": {\"color\": {\"field\": \"org\", \"type\": \"nominal\"}, \"x\": {\"field\": \"repo\", \"sort\": [\"fps\", \"jupyverse\", \"jupyter_ydoc\", \"jupyter_server\", \"jupyter-scheduler\", \"jupyter_releaser\", \"pytest-jupyter\", \"jupyter_server_terminals\"], \"type\": \"nominal\"}, \"y\": {\"field\": \"login\", \"type\": \"quantitative\"}}, \"title\": \"Merged PRs in the last 90 days\", \"$schema\": \"https://vega.github.io/schema/vega-lite/v5.20.1.json\", \"datasets\": {\"data-c0c04d0679a4ca81f568ff327740e915\": [{\"org\": \"jupyter-server\", \"repo\": \"fps\", \"login\": 28}, {\"org\": \"jupyter-server\", \"repo\": \"jupyverse\", \"login\": 28}, {\"org\": \"jupyter-server\", \"repo\": \"jupyter_ydoc\", \"login\": 14}, {\"org\": \"jupyter-server\", \"repo\": \"jupyter_server\", \"login\": 11}, {\"org\": \"jupyter-server\", \"repo\": \"jupyter-scheduler\", \"login\": 5}, {\"org\": \"jupyter-server\", \"repo\": \"jupyter_releaser\", \"login\": 5}, {\"org\": \"jupyter-server\", \"repo\": \"pytest-jupyter\", \"login\": 2}, {\"org\": \"jupyter-server\", \"repo\": \"jupyter_server_terminals\", \"login\": 1}]}}, {\"mode\": \"vega-lite\"});\n",
       "</script>"
      ],
      "text/plain": [
       "alt.Chart(...)"
      ]
     },
     "execution_count": 11,
     "metadata": {},
     "output_type": "execute_result"
    }
   ],
   "source": [
    "prs_by_repo = merged.groupby(['org', 'repo']).count()['login'].reset_index().sort_values(['org', 'login'], ascending=False)\n",
    "alt.Chart(data=prs_by_repo, title=f\"Merged PRs in the last {n_days} days\").mark_bar().encode(\n",
    "    x=alt.X('repo', sort=prs_by_repo['repo'].values.tolist()),\n",
    "    y='login',\n",
    "    color='org'\n",
    ")"
   ]
  },
  {
   "cell_type": "markdown",
   "id": "e623ed66",
   "metadata": {
    "editable": true,
    "papermill": {
     "duration": 0.014548,
     "end_time": "2025-05-17T01:30:57.672708",
     "exception": false,
     "start_time": "2025-05-17T01:30:57.658160",
     "status": "completed"
    },
    "slideshow": {
     "slide_type": ""
    },
    "tags": []
   },
   "source": [
    "### Authoring and merging stats by repository\n",
    "\n",
    "Let's see who has been doing most of the PR authoring and merging. The PR author is generally the\n",
    "person that implemented a change in the repository (code, documentation, etc). The PR merger is\n",
    "the person that \"pressed the green button\" and got the change into the main codebase."
   ]
  },
  {
   "cell_type": "code",
   "execution_count": 12,
   "id": "fecc2378",
   "metadata": {
    "editable": true,
    "execution": {
     "iopub.execute_input": "2025-05-17T01:30:57.703082Z",
     "iopub.status.busy": "2025-05-17T01:30:57.702688Z",
     "iopub.status.idle": "2025-05-17T01:30:57.712374Z",
     "shell.execute_reply": "2025-05-17T01:30:57.711851Z"
    },
    "papermill": {
     "duration": 0.02594,
     "end_time": "2025-05-17T01:30:57.713347",
     "exception": false,
     "start_time": "2025-05-17T01:30:57.687407",
     "status": "completed"
    },
    "slideshow": {
     "slide_type": ""
    },
    "tags": [
     "remove_cell"
    ]
   },
   "outputs": [],
   "source": [
    "# Prep our merging DF\n",
    "merged_by_repo = merged.groupby(['repo', 'login'], as_index=False).agg({'id': 'count', 'author_association': 'first'}).rename(columns={'id': \"authored\", 'login': 'username'})\n",
    "closed_by_repo = merged.groupby(['name', 'merged_by']).count()['id_issue'].reset_index().rename(columns={'id_issue': \"closed\", \"merged_by\": \"username\"})"
   ]
  },
  {
   "cell_type": "code",
   "execution_count": 13,
   "id": "f9b73425",
   "metadata": {
    "editable": true,
    "execution": {
     "iopub.execute_input": "2025-05-17T01:30:57.744600Z",
     "iopub.status.busy": "2025-05-17T01:30:57.744222Z",
     "iopub.status.idle": "2025-05-17T01:30:57.766631Z",
     "shell.execute_reply": "2025-05-17T01:30:57.766118Z"
    },
    "papermill": {
     "duration": 0.039175,
     "end_time": "2025-05-17T01:30:57.767575",
     "exception": false,
     "start_time": "2025-05-17T01:30:57.728400",
     "status": "completed"
    },
    "slideshow": {
     "slide_type": ""
    },
    "tags": [
     "hide_input"
    ]
   },
   "outputs": [
    {
     "data": {
      "text/html": [
       "\n",
       "<style>\n",
       "  #altair-viz-3b677624f211419795d90d1f2627125b.vega-embed {\n",
       "    width: 100%;\n",
       "    display: flex;\n",
       "  }\n",
       "\n",
       "  #altair-viz-3b677624f211419795d90d1f2627125b.vega-embed details,\n",
       "  #altair-viz-3b677624f211419795d90d1f2627125b.vega-embed details summary {\n",
       "    position: relative;\n",
       "  }\n",
       "</style>\n",
       "<div id=\"altair-viz-3b677624f211419795d90d1f2627125b\"></div>\n",
       "<script type=\"text/javascript\">\n",
       "  var VEGA_DEBUG = (typeof VEGA_DEBUG == \"undefined\") ? {} : VEGA_DEBUG;\n",
       "  (function(spec, embedOpt){\n",
       "    let outputDiv = document.currentScript.previousElementSibling;\n",
       "    if (outputDiv.id !== \"altair-viz-3b677624f211419795d90d1f2627125b\") {\n",
       "      outputDiv = document.getElementById(\"altair-viz-3b677624f211419795d90d1f2627125b\");\n",
       "    }\n",
       "\n",
       "    const paths = {\n",
       "      \"vega\": \"https://cdn.jsdelivr.net/npm/vega@5?noext\",\n",
       "      \"vega-lib\": \"https://cdn.jsdelivr.net/npm/vega-lib?noext\",\n",
       "      \"vega-lite\": \"https://cdn.jsdelivr.net/npm/vega-lite@5.20.1?noext\",\n",
       "      \"vega-embed\": \"https://cdn.jsdelivr.net/npm/vega-embed@6?noext\",\n",
       "    };\n",
       "\n",
       "    function maybeLoadScript(lib, version) {\n",
       "      var key = `${lib.replace(\"-\", \"\")}_version`;\n",
       "      return (VEGA_DEBUG[key] == version) ?\n",
       "        Promise.resolve(paths[lib]) :\n",
       "        new Promise(function(resolve, reject) {\n",
       "          var s = document.createElement('script');\n",
       "          document.getElementsByTagName(\"head\")[0].appendChild(s);\n",
       "          s.async = true;\n",
       "          s.onload = () => {\n",
       "            VEGA_DEBUG[key] = version;\n",
       "            return resolve(paths[lib]);\n",
       "          };\n",
       "          s.onerror = () => reject(`Error loading script: ${paths[lib]}`);\n",
       "          s.src = paths[lib];\n",
       "        });\n",
       "    }\n",
       "\n",
       "    function showError(err) {\n",
       "      outputDiv.innerHTML = `<div class=\"error\" style=\"color:red;\">${err}</div>`;\n",
       "      throw err;\n",
       "    }\n",
       "\n",
       "    function displayChart(vegaEmbed) {\n",
       "      vegaEmbed(outputDiv, spec, embedOpt)\n",
       "        .catch(err => showError(`Javascript Error: ${err.message}<br>This usually means there's a typo in your chart specification. See the javascript console for the full traceback.`));\n",
       "    }\n",
       "\n",
       "    if(typeof define === \"function\" && define.amd) {\n",
       "      requirejs.config({paths});\n",
       "      let deps = [\"vega-embed\"];\n",
       "      require(deps, displayChart, err => showError(`Error loading script: ${err.message}`));\n",
       "    } else {\n",
       "      maybeLoadScript(\"vega\", \"5\")\n",
       "        .then(() => maybeLoadScript(\"vega-lite\", \"5.20.1\"))\n",
       "        .then(() => maybeLoadScript(\"vega-embed\", \"6\"))\n",
       "        .catch(showError)\n",
       "        .then(() => displayChart(vegaEmbed));\n",
       "    }\n",
       "  })({\"config\": {\"axisLeft\": {\"labelFontSize\": 15}, \"axisBottom\": {\"labelFontSize\": 15}}, \"data\": {\"name\": \"data-cfce417757de7ee1a7e179b7e370f782\"}, \"mark\": {\"type\": \"bar\"}, \"encoding\": {\"color\": {\"field\": \"author_association\", \"scale\": {\"domain\": [\"MEMBER\", \"CONTRIBUTOR\", \"COLLABORATOR\", \"NONE\"], \"range\": [\"rgb(211.82745098039214, 211.82745098039214, 211.82745098039214)\", \"rgb(166.98562091503268, 229.89803921568628, 166.98562091503268)\", \"rgb(96.37647058823529, 192.75294117647059, 96.37647058823529)\", \"rgb(0.0, 100.3921568627451, 0.0)\"]}, \"type\": \"nominal\"}, \"x\": {\"field\": \"username\", \"type\": \"nominal\"}, \"y\": {\"field\": \"authored\", \"type\": \"quantitative\"}}, \"title\": \"PR authors for jupyter-server in the last 90 days\", \"$schema\": \"https://vega.github.io/schema/vega-lite/v5.20.1.json\", \"datasets\": {\"data-cfce417757de7ee1a7e179b7e370f782\": [{\"username\": \"davidbrochart\", \"authored\": 39, \"author_association\": \"COLLABORATOR\"}, {\"username\": \"pre-commit-ci[bot]\", \"authored\": 23, \"author_association\": \"CONTRIBUTOR\"}, {\"username\": \"krassowski\", \"authored\": 4, \"author_association\": \"COLLABORATOR\"}, {\"username\": \"Zsailer\", \"authored\": 4, \"author_association\": \"MEMBER\"}, {\"username\": \"kjayan\", \"authored\": 3, \"author_association\": \"CONTRIBUTOR\"}, {\"username\": \"rakhmaevao\", \"authored\": 2, \"author_association\": \"NONE\"}, {\"username\": \"andrii-i\", \"authored\": 2, \"author_association\": \"COLLABORATOR\"}, {\"username\": \"jtpio\", \"authored\": 2, \"author_association\": \"MEMBER\"}, {\"username\": \"Darshan808\", \"authored\": 2, \"author_association\": \"CONTRIBUTOR\"}, {\"username\": \"asmita-sharma1625\", \"authored\": 2, \"author_association\": \"CONTRIBUTOR\"}, {\"username\": \"RRosio\", \"authored\": 1, \"author_association\": \"CONTRIBUTOR\"}, {\"username\": \"0Hughman0\", \"authored\": 1, \"author_association\": \"CONTRIBUTOR\"}, {\"username\": \"MaicoTimmerman\", \"authored\": 1, \"author_association\": \"CONTRIBUTOR\"}, {\"username\": \"fcollonval\", \"authored\": 1, \"author_association\": \"MEMBER\"}, {\"username\": \"dlqqq\", \"authored\": 1, \"author_association\": \"CONTRIBUTOR\"}, {\"username\": \"ark-1\", \"authored\": 1, \"author_association\": \"CONTRIBUTOR\"}, {\"username\": \"astitv-sh\", \"authored\": 1, \"author_association\": \"COLLABORATOR\"}, {\"username\": \"martenrichter\", \"authored\": 1, \"author_association\": \"CONTRIBUTOR\"}, {\"username\": \"manics\", \"authored\": 1, \"author_association\": \"CONTRIBUTOR\"}, {\"username\": \"ojarjur\", \"authored\": 1, \"author_association\": \"CONTRIBUTOR\"}, {\"username\": \"minrk\", \"authored\": 1, \"author_association\": \"CONTRIBUTOR\"}]}}, {\"mode\": \"vega-lite\"});\n",
       "</script>"
      ],
      "text/plain": [
       "alt.Chart(...)"
      ]
     },
     "execution_count": 13,
     "metadata": {},
     "output_type": "execute_result"
    }
   ],
   "source": [
    "charts = []\n",
    "title = f\"PR authors for {github_org} in the last {n_days} days\"\n",
    "this_data = merged_by_repo.replace(np.nan, 0).groupby('username', as_index=False).agg({'authored': 'sum', 'author_association': 'first'})\n",
    "this_data = this_data.sort_values('authored', ascending=False)\n",
    "ch = alt.Chart(data=this_data, title=title).mark_bar().encode(\n",
    "    x='username',\n",
    "    y='authored',\n",
    "    color=alt.Color('author_association', scale=alt.Scale(domain=author_types, range=author_colors))\n",
    ")\n",
    "ch"
   ]
  },
  {
   "cell_type": "code",
   "execution_count": 14,
   "id": "a50e46f0",
   "metadata": {
    "editable": true,
    "execution": {
     "iopub.execute_input": "2025-05-17T01:30:57.798332Z",
     "iopub.status.busy": "2025-05-17T01:30:57.798136Z",
     "iopub.status.idle": "2025-05-17T01:30:57.815082Z",
     "shell.execute_reply": "2025-05-17T01:30:57.814439Z"
    },
    "papermill": {
     "duration": 0.033642,
     "end_time": "2025-05-17T01:30:57.816131",
     "exception": false,
     "start_time": "2025-05-17T01:30:57.782489",
     "status": "completed"
    },
    "slideshow": {
     "slide_type": ""
    },
    "tags": [
     "hide_input"
    ]
   },
   "outputs": [
    {
     "data": {
      "text/html": [
       "\n",
       "<style>\n",
       "  #altair-viz-2a179dee0c034c28b0f009bbe7e4331f.vega-embed {\n",
       "    width: 100%;\n",
       "    display: flex;\n",
       "  }\n",
       "\n",
       "  #altair-viz-2a179dee0c034c28b0f009bbe7e4331f.vega-embed details,\n",
       "  #altair-viz-2a179dee0c034c28b0f009bbe7e4331f.vega-embed details summary {\n",
       "    position: relative;\n",
       "  }\n",
       "</style>\n",
       "<div id=\"altair-viz-2a179dee0c034c28b0f009bbe7e4331f\"></div>\n",
       "<script type=\"text/javascript\">\n",
       "  var VEGA_DEBUG = (typeof VEGA_DEBUG == \"undefined\") ? {} : VEGA_DEBUG;\n",
       "  (function(spec, embedOpt){\n",
       "    let outputDiv = document.currentScript.previousElementSibling;\n",
       "    if (outputDiv.id !== \"altair-viz-2a179dee0c034c28b0f009bbe7e4331f\") {\n",
       "      outputDiv = document.getElementById(\"altair-viz-2a179dee0c034c28b0f009bbe7e4331f\");\n",
       "    }\n",
       "\n",
       "    const paths = {\n",
       "      \"vega\": \"https://cdn.jsdelivr.net/npm/vega@5?noext\",\n",
       "      \"vega-lib\": \"https://cdn.jsdelivr.net/npm/vega-lib?noext\",\n",
       "      \"vega-lite\": \"https://cdn.jsdelivr.net/npm/vega-lite@5.20.1?noext\",\n",
       "      \"vega-embed\": \"https://cdn.jsdelivr.net/npm/vega-embed@6?noext\",\n",
       "    };\n",
       "\n",
       "    function maybeLoadScript(lib, version) {\n",
       "      var key = `${lib.replace(\"-\", \"\")}_version`;\n",
       "      return (VEGA_DEBUG[key] == version) ?\n",
       "        Promise.resolve(paths[lib]) :\n",
       "        new Promise(function(resolve, reject) {\n",
       "          var s = document.createElement('script');\n",
       "          document.getElementsByTagName(\"head\")[0].appendChild(s);\n",
       "          s.async = true;\n",
       "          s.onload = () => {\n",
       "            VEGA_DEBUG[key] = version;\n",
       "            return resolve(paths[lib]);\n",
       "          };\n",
       "          s.onerror = () => reject(`Error loading script: ${paths[lib]}`);\n",
       "          s.src = paths[lib];\n",
       "        });\n",
       "    }\n",
       "\n",
       "    function showError(err) {\n",
       "      outputDiv.innerHTML = `<div class=\"error\" style=\"color:red;\">${err}</div>`;\n",
       "      throw err;\n",
       "    }\n",
       "\n",
       "    function displayChart(vegaEmbed) {\n",
       "      vegaEmbed(outputDiv, spec, embedOpt)\n",
       "        .catch(err => showError(`Javascript Error: ${err.message}<br>This usually means there's a typo in your chart specification. See the javascript console for the full traceback.`));\n",
       "    }\n",
       "\n",
       "    if(typeof define === \"function\" && define.amd) {\n",
       "      requirejs.config({paths});\n",
       "      let deps = [\"vega-embed\"];\n",
       "      require(deps, displayChart, err => showError(`Error loading script: ${err.message}`));\n",
       "    } else {\n",
       "      maybeLoadScript(\"vega\", \"5\")\n",
       "        .then(() => maybeLoadScript(\"vega-lite\", \"5.20.1\"))\n",
       "        .then(() => maybeLoadScript(\"vega-embed\", \"6\"))\n",
       "        .catch(showError)\n",
       "        .then(() => displayChart(vegaEmbed));\n",
       "    }\n",
       "  })({\"config\": {\"axisLeft\": {\"labelFontSize\": 15}, \"axisBottom\": {\"labelFontSize\": 15}}, \"data\": {\"name\": \"data-6d0a140fd39f4f3c802e989d94dd88d3\"}, \"mark\": {\"type\": \"bar\"}, \"encoding\": {\"x\": {\"field\": \"username\", \"type\": \"nominal\"}, \"y\": {\"field\": \"closed\", \"type\": \"quantitative\"}}, \"title\": \"Users that have merged PRs for jupyter-server in the last 90 days\", \"$schema\": \"https://vega.github.io/schema/vega-lite/v5.20.1.json\", \"datasets\": {\"data-6d0a140fd39f4f3c802e989d94dd88d3\": [{\"name\": \"fps\", \"username\": \"Zsailer\", \"closed\": 2}, {\"name\": \"fps\", \"username\": \"davidbrochart\", \"closed\": 26}, {\"name\": \"jupyter-scheduler\", \"username\": \"andrii-i\", \"closed\": 5}, {\"name\": \"jupyter_releaser\", \"username\": \"jtpio\", \"closed\": 3}, {\"name\": \"jupyter_releaser\", \"username\": \"krassowski\", \"closed\": 2}, {\"name\": \"jupyter_server\", \"username\": \"Zsailer\", \"closed\": 5}, {\"name\": \"jupyter_server\", \"username\": \"afshin\", \"closed\": 3}, {\"name\": \"jupyter_server\", \"username\": \"minrk\", \"closed\": 1}, {\"name\": \"jupyter_server\", \"username\": \"vidartf\", \"closed\": 2}, {\"name\": \"jupyter_server_terminals\", \"username\": \"Zsailer\", \"closed\": 1}, {\"name\": \"jupyter_ydoc\", \"username\": \"davidbrochart\", \"closed\": 12}, {\"name\": \"jupyter_ydoc\", \"username\": \"fcollonval\", \"closed\": 1}, {\"name\": \"jupyter_ydoc\", \"username\": \"krassowski\", \"closed\": 1}, {\"name\": \"jupyverse\", \"username\": \"davidbrochart\", \"closed\": 27}, {\"name\": \"jupyverse\", \"username\": \"rakhmaevao\", \"closed\": 1}, {\"name\": \"pytest-jupyter\", \"username\": \"minrk\", \"closed\": 2}]}}, {\"mode\": \"vega-lite\"});\n",
       "</script>"
      ],
      "text/plain": [
       "alt.Chart(...)"
      ]
     },
     "execution_count": 14,
     "metadata": {},
     "output_type": "execute_result"
    }
   ],
   "source": [
    "charts = []\n",
    "title = f\"Users that have merged PRs for {github_org} in the last {n_days} days\"\n",
    "ch = alt.Chart(data=closed_by_repo.replace(np.nan, 0), title=title).mark_bar().encode(\n",
    "    x='username',\n",
    "    y='closed',\n",
    ")\n",
    "ch"
   ]
  },
  {
   "cell_type": "markdown",
   "id": "21e56933",
   "metadata": {
    "editable": true,
    "papermill": {
     "duration": 0.015615,
     "end_time": "2025-05-17T01:30:57.847284",
     "exception": false,
     "start_time": "2025-05-17T01:30:57.831669",
     "status": "completed"
    },
    "slideshow": {
     "slide_type": ""
    },
    "tags": []
   },
   "source": [
    "## Issues\n",
    "\n",
    "Issues are **conversations** that happen on our GitHub repositories. Here's an\n",
    "analysis of issues across the Jupyter organizations."
   ]
  },
  {
   "cell_type": "code",
   "execution_count": 15,
   "id": "8578352f",
   "metadata": {
    "editable": true,
    "execution": {
     "iopub.execute_input": "2025-05-17T01:30:57.878548Z",
     "iopub.status.busy": "2025-05-17T01:30:57.878066Z",
     "iopub.status.idle": "2025-05-17T01:30:57.894234Z",
     "shell.execute_reply": "2025-05-17T01:30:57.893694Z"
    },
    "papermill": {
     "duration": 0.032793,
     "end_time": "2025-05-17T01:30:57.895273",
     "exception": false,
     "start_time": "2025-05-17T01:30:57.862480",
     "status": "completed"
    },
    "slideshow": {
     "slide_type": ""
    },
    "tags": [
     "remove_cell"
    ]
   },
   "outputs": [],
   "source": [
    "created = issues.query('state == \"open\" and created_at > @start_date and created_at < @stop_date')\n",
    "closed = issues.query('state == \"closed\" and closed_at > @start_date and closed_at < @stop_date')"
   ]
  },
  {
   "cell_type": "code",
   "execution_count": 16,
   "id": "d4a7d471",
   "metadata": {
    "editable": true,
    "execution": {
     "iopub.execute_input": "2025-05-17T01:30:57.926324Z",
     "iopub.status.busy": "2025-05-17T01:30:57.925865Z",
     "iopub.status.idle": "2025-05-17T01:30:57.946535Z",
     "shell.execute_reply": "2025-05-17T01:30:57.946000Z"
    },
    "papermill": {
     "duration": 0.037215,
     "end_time": "2025-05-17T01:30:57.947494",
     "exception": false,
     "start_time": "2025-05-17T01:30:57.910279",
     "status": "completed"
    },
    "slideshow": {
     "slide_type": ""
    },
    "tags": [
     "hide_input"
    ]
   },
   "outputs": [
    {
     "data": {
      "text/html": [
       "\n",
       "<style>\n",
       "  #altair-viz-34cffc8359d547389e27e525845ab987.vega-embed {\n",
       "    width: 100%;\n",
       "    display: flex;\n",
       "  }\n",
       "\n",
       "  #altair-viz-34cffc8359d547389e27e525845ab987.vega-embed details,\n",
       "  #altair-viz-34cffc8359d547389e27e525845ab987.vega-embed details summary {\n",
       "    position: relative;\n",
       "  }\n",
       "</style>\n",
       "<div id=\"altair-viz-34cffc8359d547389e27e525845ab987\"></div>\n",
       "<script type=\"text/javascript\">\n",
       "  var VEGA_DEBUG = (typeof VEGA_DEBUG == \"undefined\") ? {} : VEGA_DEBUG;\n",
       "  (function(spec, embedOpt){\n",
       "    let outputDiv = document.currentScript.previousElementSibling;\n",
       "    if (outputDiv.id !== \"altair-viz-34cffc8359d547389e27e525845ab987\") {\n",
       "      outputDiv = document.getElementById(\"altair-viz-34cffc8359d547389e27e525845ab987\");\n",
       "    }\n",
       "\n",
       "    const paths = {\n",
       "      \"vega\": \"https://cdn.jsdelivr.net/npm/vega@5?noext\",\n",
       "      \"vega-lib\": \"https://cdn.jsdelivr.net/npm/vega-lib?noext\",\n",
       "      \"vega-lite\": \"https://cdn.jsdelivr.net/npm/vega-lite@5.20.1?noext\",\n",
       "      \"vega-embed\": \"https://cdn.jsdelivr.net/npm/vega-embed@6?noext\",\n",
       "    };\n",
       "\n",
       "    function maybeLoadScript(lib, version) {\n",
       "      var key = `${lib.replace(\"-\", \"\")}_version`;\n",
       "      return (VEGA_DEBUG[key] == version) ?\n",
       "        Promise.resolve(paths[lib]) :\n",
       "        new Promise(function(resolve, reject) {\n",
       "          var s = document.createElement('script');\n",
       "          document.getElementsByTagName(\"head\")[0].appendChild(s);\n",
       "          s.async = true;\n",
       "          s.onload = () => {\n",
       "            VEGA_DEBUG[key] = version;\n",
       "            return resolve(paths[lib]);\n",
       "          };\n",
       "          s.onerror = () => reject(`Error loading script: ${paths[lib]}`);\n",
       "          s.src = paths[lib];\n",
       "        });\n",
       "    }\n",
       "\n",
       "    function showError(err) {\n",
       "      outputDiv.innerHTML = `<div class=\"error\" style=\"color:red;\">${err}</div>`;\n",
       "      throw err;\n",
       "    }\n",
       "\n",
       "    function displayChart(vegaEmbed) {\n",
       "      vegaEmbed(outputDiv, spec, embedOpt)\n",
       "        .catch(err => showError(`Javascript Error: ${err.message}<br>This usually means there's a typo in your chart specification. See the javascript console for the full traceback.`));\n",
       "    }\n",
       "\n",
       "    if(typeof define === \"function\" && define.amd) {\n",
       "      requirejs.config({paths});\n",
       "      let deps = [\"vega-embed\"];\n",
       "      require(deps, displayChart, err => showError(`Error loading script: ${err.message}`));\n",
       "    } else {\n",
       "      maybeLoadScript(\"vega\", \"5\")\n",
       "        .then(() => maybeLoadScript(\"vega-lite\", \"5.20.1\"))\n",
       "        .then(() => maybeLoadScript(\"vega-embed\", \"6\"))\n",
       "        .catch(showError)\n",
       "        .then(() => displayChart(vegaEmbed));\n",
       "    }\n",
       "  })({\"config\": {\"axisLeft\": {\"labelFontSize\": 15}, \"axisBottom\": {\"labelFontSize\": 15}}, \"data\": {\"name\": \"data-70bcc2a97f1d31289e144222ab6f6cc8\"}, \"mark\": {\"type\": \"bar\"}, \"encoding\": {\"x\": {\"field\": \"repo\", \"sort\": [\"jupyter-scheduler\", \"jupyter-resource-usage\", \"jupyter_server\", \"enterprise_gateway\", \"team-compass\", \"gateway_provisioners\", \"jupyter_releaser\", \"kernel_gateway\"], \"type\": \"nominal\"}, \"y\": {\"field\": \"number\", \"type\": \"quantitative\"}}, \"title\": \"Issues created in the last 90 days\", \"$schema\": \"https://vega.github.io/schema/vega-lite/v5.20.1.json\", \"datasets\": {\"data-70bcc2a97f1d31289e144222ab6f6cc8\": [{\"org\": \"jupyter-server\", \"repo\": \"enterprise_gateway\", \"number\": 2, \"org/repo\": \"jupyter-server/enterprise_gateway\"}, {\"org\": \"jupyter-server\", \"repo\": \"gateway_provisioners\", \"number\": 1, \"org/repo\": \"jupyter-server/gateway_provisioners\"}, {\"org\": \"jupyter-server\", \"repo\": \"jupyter-resource-usage\", \"number\": 4, \"org/repo\": \"jupyter-server/jupyter-resource-usage\"}, {\"org\": \"jupyter-server\", \"repo\": \"jupyter-scheduler\", \"number\": 5, \"org/repo\": \"jupyter-server/jupyter-scheduler\"}, {\"org\": \"jupyter-server\", \"repo\": \"jupyter_releaser\", \"number\": 1, \"org/repo\": \"jupyter-server/jupyter_releaser\"}, {\"org\": \"jupyter-server\", \"repo\": \"jupyter_server\", \"number\": 4, \"org/repo\": \"jupyter-server/jupyter_server\"}, {\"org\": \"jupyter-server\", \"repo\": \"kernel_gateway\", \"number\": 1, \"org/repo\": \"jupyter-server/kernel_gateway\"}, {\"org\": \"jupyter-server\", \"repo\": \"team-compass\", \"number\": 2, \"org/repo\": \"jupyter-server/team-compass\"}]}}, {\"mode\": \"vega-lite\"});\n",
       "</script>"
      ],
      "text/plain": [
       "alt.Chart(...)"
      ]
     },
     "execution_count": 16,
     "metadata": {},
     "output_type": "execute_result"
    }
   ],
   "source": [
    "created_counts = created.groupby(['org', 'repo']).count()['number'].reset_index()\n",
    "created_counts['org/repo'] = created_counts.apply(lambda a: a['org'] + '/' + a['repo'], axis=1)\n",
    "sorted_vals = created_counts.sort_values(['org', 'number'], ascending=False)['repo'].values\n",
    "alt.Chart(data=created_counts, title=f\"Issues created in the last {n_days} days\").mark_bar().encode(\n",
    "    x=alt.X('repo', sort=alt.Sort(sorted_vals.tolist())),\n",
    "    y='number',\n",
    ")"
   ]
  },
  {
   "cell_type": "code",
   "execution_count": 17,
   "id": "5f4fd22b",
   "metadata": {
    "editable": true,
    "execution": {
     "iopub.execute_input": "2025-05-17T01:30:57.980819Z",
     "iopub.status.busy": "2025-05-17T01:30:57.980330Z",
     "iopub.status.idle": "2025-05-17T01:30:58.000622Z",
     "shell.execute_reply": "2025-05-17T01:30:57.999997Z"
    },
    "papermill": {
     "duration": 0.038453,
     "end_time": "2025-05-17T01:30:58.001680",
     "exception": false,
     "start_time": "2025-05-17T01:30:57.963227",
     "status": "completed"
    },
    "slideshow": {
     "slide_type": ""
    },
    "tags": [
     "hide_input"
    ]
   },
   "outputs": [
    {
     "data": {
      "text/html": [
       "\n",
       "<style>\n",
       "  #altair-viz-72d6a05e39774252ab8c65d7ed241fd9.vega-embed {\n",
       "    width: 100%;\n",
       "    display: flex;\n",
       "  }\n",
       "\n",
       "  #altair-viz-72d6a05e39774252ab8c65d7ed241fd9.vega-embed details,\n",
       "  #altair-viz-72d6a05e39774252ab8c65d7ed241fd9.vega-embed details summary {\n",
       "    position: relative;\n",
       "  }\n",
       "</style>\n",
       "<div id=\"altair-viz-72d6a05e39774252ab8c65d7ed241fd9\"></div>\n",
       "<script type=\"text/javascript\">\n",
       "  var VEGA_DEBUG = (typeof VEGA_DEBUG == \"undefined\") ? {} : VEGA_DEBUG;\n",
       "  (function(spec, embedOpt){\n",
       "    let outputDiv = document.currentScript.previousElementSibling;\n",
       "    if (outputDiv.id !== \"altair-viz-72d6a05e39774252ab8c65d7ed241fd9\") {\n",
       "      outputDiv = document.getElementById(\"altair-viz-72d6a05e39774252ab8c65d7ed241fd9\");\n",
       "    }\n",
       "\n",
       "    const paths = {\n",
       "      \"vega\": \"https://cdn.jsdelivr.net/npm/vega@5?noext\",\n",
       "      \"vega-lib\": \"https://cdn.jsdelivr.net/npm/vega-lib?noext\",\n",
       "      \"vega-lite\": \"https://cdn.jsdelivr.net/npm/vega-lite@5.20.1?noext\",\n",
       "      \"vega-embed\": \"https://cdn.jsdelivr.net/npm/vega-embed@6?noext\",\n",
       "    };\n",
       "\n",
       "    function maybeLoadScript(lib, version) {\n",
       "      var key = `${lib.replace(\"-\", \"\")}_version`;\n",
       "      return (VEGA_DEBUG[key] == version) ?\n",
       "        Promise.resolve(paths[lib]) :\n",
       "        new Promise(function(resolve, reject) {\n",
       "          var s = document.createElement('script');\n",
       "          document.getElementsByTagName(\"head\")[0].appendChild(s);\n",
       "          s.async = true;\n",
       "          s.onload = () => {\n",
       "            VEGA_DEBUG[key] = version;\n",
       "            return resolve(paths[lib]);\n",
       "          };\n",
       "          s.onerror = () => reject(`Error loading script: ${paths[lib]}`);\n",
       "          s.src = paths[lib];\n",
       "        });\n",
       "    }\n",
       "\n",
       "    function showError(err) {\n",
       "      outputDiv.innerHTML = `<div class=\"error\" style=\"color:red;\">${err}</div>`;\n",
       "      throw err;\n",
       "    }\n",
       "\n",
       "    function displayChart(vegaEmbed) {\n",
       "      vegaEmbed(outputDiv, spec, embedOpt)\n",
       "        .catch(err => showError(`Javascript Error: ${err.message}<br>This usually means there's a typo in your chart specification. See the javascript console for the full traceback.`));\n",
       "    }\n",
       "\n",
       "    if(typeof define === \"function\" && define.amd) {\n",
       "      requirejs.config({paths});\n",
       "      let deps = [\"vega-embed\"];\n",
       "      require(deps, displayChart, err => showError(`Error loading script: ${err.message}`));\n",
       "    } else {\n",
       "      maybeLoadScript(\"vega\", \"5\")\n",
       "        .then(() => maybeLoadScript(\"vega-lite\", \"5.20.1\"))\n",
       "        .then(() => maybeLoadScript(\"vega-embed\", \"6\"))\n",
       "        .catch(showError)\n",
       "        .then(() => displayChart(vegaEmbed));\n",
       "    }\n",
       "  })({\"config\": {\"axisLeft\": {\"labelFontSize\": 15}, \"axisBottom\": {\"labelFontSize\": 15}}, \"data\": {\"name\": \"data-c275f4e64632f0cc7fbd767998c521b8\"}, \"mark\": {\"type\": \"bar\"}, \"encoding\": {\"x\": {\"field\": \"repo\", \"sort\": [\"jupyter_server\", \"jupyter-scheduler\", \"fps\", \"jupyverse\", \"enterprise_gateway\", \"jupyter_releaser\", \"team-compass\"], \"type\": \"nominal\"}, \"y\": {\"field\": \"number\", \"type\": \"quantitative\"}}, \"title\": \"Issues closed in the last 90 days\", \"$schema\": \"https://vega.github.io/schema/vega-lite/v5.20.1.json\", \"datasets\": {\"data-c275f4e64632f0cc7fbd767998c521b8\": [{\"org\": \"jupyter-server\", \"repo\": \"enterprise_gateway\", \"number\": 2, \"org/repo\": \"jupyter-server/enterprise_gateway\"}, {\"org\": \"jupyter-server\", \"repo\": \"fps\", \"number\": 3, \"org/repo\": \"jupyter-server/fps\"}, {\"org\": \"jupyter-server\", \"repo\": \"jupyter-scheduler\", \"number\": 3, \"org/repo\": \"jupyter-server/jupyter-scheduler\"}, {\"org\": \"jupyter-server\", \"repo\": \"jupyter_releaser\", \"number\": 2, \"org/repo\": \"jupyter-server/jupyter_releaser\"}, {\"org\": \"jupyter-server\", \"repo\": \"jupyter_server\", \"number\": 9, \"org/repo\": \"jupyter-server/jupyter_server\"}, {\"org\": \"jupyter-server\", \"repo\": \"jupyverse\", \"number\": 3, \"org/repo\": \"jupyter-server/jupyverse\"}, {\"org\": \"jupyter-server\", \"repo\": \"team-compass\", \"number\": 1, \"org/repo\": \"jupyter-server/team-compass\"}]}}, {\"mode\": \"vega-lite\"});\n",
       "</script>"
      ],
      "text/plain": [
       "alt.Chart(...)"
      ]
     },
     "execution_count": 17,
     "metadata": {},
     "output_type": "execute_result"
    }
   ],
   "source": [
    "closed_counts = closed.groupby(['org', 'repo']).count()['number'].reset_index()\n",
    "closed_counts['org/repo'] = closed_counts.apply(lambda a: a['org'] + '/' + a['repo'], axis=1)\n",
    "sorted_vals = closed_counts.sort_values(['number'], ascending=False)['repo'].values\n",
    "alt.Chart(data=closed_counts, title=f\"Issues closed in the last {n_days} days\").mark_bar().encode(\n",
    "    x=alt.X('repo', sort=alt.Sort(sorted_vals.tolist())),\n",
    "    y='number',\n",
    ")"
   ]
  },
  {
   "cell_type": "code",
   "execution_count": 18,
   "id": "be27c964",
   "metadata": {
    "editable": true,
    "execution": {
     "iopub.execute_input": "2025-05-17T01:30:58.033592Z",
     "iopub.status.busy": "2025-05-17T01:30:58.033227Z",
     "iopub.status.idle": "2025-05-17T01:30:58.043110Z",
     "shell.execute_reply": "2025-05-17T01:30:58.042458Z"
    },
    "papermill": {
     "duration": 0.026888,
     "end_time": "2025-05-17T01:30:58.044119",
     "exception": false,
     "start_time": "2025-05-17T01:30:58.017231",
     "status": "completed"
    },
    "slideshow": {
     "slide_type": ""
    },
    "tags": [
     "remove_cell"
    ]
   },
   "outputs": [],
   "source": [
    "created_closed = pd.merge(created_counts.rename(columns={'number': 'created'}).drop(columns='org/repo'),\n",
    "                          closed_counts.rename(columns={'number': 'closed'}).drop(columns='org/repo'),\n",
    "                          on=['org', 'repo'], how='outer')\n",
    "\n",
    "created_closed = pd.melt(created_closed, id_vars=['org', 'repo'], var_name=\"kind\", value_name=\"count\").replace(np.nan, 0)"
   ]
  },
  {
   "cell_type": "code",
   "execution_count": 19,
   "id": "3d60bf7c",
   "metadata": {
    "editable": true,
    "execution": {
     "iopub.execute_input": "2025-05-17T01:30:58.075987Z",
     "iopub.status.busy": "2025-05-17T01:30:58.075604Z",
     "iopub.status.idle": "2025-05-17T01:30:58.098540Z",
     "shell.execute_reply": "2025-05-17T01:30:58.097922Z"
    },
    "papermill": {
     "duration": 0.04001,
     "end_time": "2025-05-17T01:30:58.099525",
     "exception": false,
     "start_time": "2025-05-17T01:30:58.059515",
     "status": "completed"
    },
    "scrolled": true,
    "slideshow": {
     "slide_type": ""
    },
    "tags": [
     "hide_input"
    ]
   },
   "outputs": [
    {
     "data": {
      "text/html": [
       "\n",
       "<style>\n",
       "  #altair-viz-d5235d9ff3464b0c85856aae0b4eb784.vega-embed {\n",
       "    width: 100%;\n",
       "    display: flex;\n",
       "  }\n",
       "\n",
       "  #altair-viz-d5235d9ff3464b0c85856aae0b4eb784.vega-embed details,\n",
       "  #altair-viz-d5235d9ff3464b0c85856aae0b4eb784.vega-embed details summary {\n",
       "    position: relative;\n",
       "  }\n",
       "</style>\n",
       "<div id=\"altair-viz-d5235d9ff3464b0c85856aae0b4eb784\"></div>\n",
       "<script type=\"text/javascript\">\n",
       "  var VEGA_DEBUG = (typeof VEGA_DEBUG == \"undefined\") ? {} : VEGA_DEBUG;\n",
       "  (function(spec, embedOpt){\n",
       "    let outputDiv = document.currentScript.previousElementSibling;\n",
       "    if (outputDiv.id !== \"altair-viz-d5235d9ff3464b0c85856aae0b4eb784\") {\n",
       "      outputDiv = document.getElementById(\"altair-viz-d5235d9ff3464b0c85856aae0b4eb784\");\n",
       "    }\n",
       "\n",
       "    const paths = {\n",
       "      \"vega\": \"https://cdn.jsdelivr.net/npm/vega@5?noext\",\n",
       "      \"vega-lib\": \"https://cdn.jsdelivr.net/npm/vega-lib?noext\",\n",
       "      \"vega-lite\": \"https://cdn.jsdelivr.net/npm/vega-lite@5.20.1?noext\",\n",
       "      \"vega-embed\": \"https://cdn.jsdelivr.net/npm/vega-embed@6?noext\",\n",
       "    };\n",
       "\n",
       "    function maybeLoadScript(lib, version) {\n",
       "      var key = `${lib.replace(\"-\", \"\")}_version`;\n",
       "      return (VEGA_DEBUG[key] == version) ?\n",
       "        Promise.resolve(paths[lib]) :\n",
       "        new Promise(function(resolve, reject) {\n",
       "          var s = document.createElement('script');\n",
       "          document.getElementsByTagName(\"head\")[0].appendChild(s);\n",
       "          s.async = true;\n",
       "          s.onload = () => {\n",
       "            VEGA_DEBUG[key] = version;\n",
       "            return resolve(paths[lib]);\n",
       "          };\n",
       "          s.onerror = () => reject(`Error loading script: ${paths[lib]}`);\n",
       "          s.src = paths[lib];\n",
       "        });\n",
       "    }\n",
       "\n",
       "    function showError(err) {\n",
       "      outputDiv.innerHTML = `<div class=\"error\" style=\"color:red;\">${err}</div>`;\n",
       "      throw err;\n",
       "    }\n",
       "\n",
       "    function displayChart(vegaEmbed) {\n",
       "      vegaEmbed(outputDiv, spec, embedOpt)\n",
       "        .catch(err => showError(`Javascript Error: ${err.message}<br>This usually means there's a typo in your chart specification. See the javascript console for the full traceback.`));\n",
       "    }\n",
       "\n",
       "    if(typeof define === \"function\" && define.amd) {\n",
       "      requirejs.config({paths});\n",
       "      let deps = [\"vega-embed\"];\n",
       "      require(deps, displayChart, err => showError(`Error loading script: ${err.message}`));\n",
       "    } else {\n",
       "      maybeLoadScript(\"vega\", \"5\")\n",
       "        .then(() => maybeLoadScript(\"vega-lite\", \"5.20.1\"))\n",
       "        .then(() => maybeLoadScript(\"vega-embed\", \"6\"))\n",
       "        .catch(showError)\n",
       "        .then(() => displayChart(vegaEmbed));\n",
       "    }\n",
       "  })({\"config\": {\"axisLeft\": {\"labelFontSize\": 15}, \"axisBottom\": {\"labelFontSize\": 15}}, \"data\": {\"name\": \"data-69744d77d1060f3c3d8699d034557e5a\"}, \"mark\": {\"type\": \"bar\"}, \"encoding\": {\"color\": {\"field\": \"kind\", \"type\": \"nominal\"}, \"column\": {\"field\": \"repo\", \"header\": {\"labelFontSize\": 12, \"title\": \"Issue activity, last 90 days for jupyter-server\", \"titleFontSize\": 15}, \"type\": \"nominal\"}, \"x\": {\"axis\": {\"labelFontSize\": 15, \"title\": \"\"}, \"field\": \"kind\", \"type\": \"nominal\"}, \"y\": {\"axis\": {\"labelFontSize\": 12, \"titleFontSize\": 15}, \"field\": \"count\", \"type\": \"quantitative\"}}, \"width\": 120, \"$schema\": \"https://vega.github.io/schema/vega-lite/v5.20.1.json\", \"datasets\": {\"data-69744d77d1060f3c3d8699d034557e5a\": [{\"org\": \"jupyter-server\", \"repo\": \"enterprise_gateway\", \"kind\": \"created\", \"count\": 2.0}, {\"org\": \"jupyter-server\", \"repo\": \"fps\", \"kind\": \"created\", \"count\": 0.0}, {\"org\": \"jupyter-server\", \"repo\": \"gateway_provisioners\", \"kind\": \"created\", \"count\": 1.0}, {\"org\": \"jupyter-server\", \"repo\": \"jupyter-resource-usage\", \"kind\": \"created\", \"count\": 4.0}, {\"org\": \"jupyter-server\", \"repo\": \"jupyter-scheduler\", \"kind\": \"created\", \"count\": 5.0}, {\"org\": \"jupyter-server\", \"repo\": \"jupyter_releaser\", \"kind\": \"created\", \"count\": 1.0}, {\"org\": \"jupyter-server\", \"repo\": \"jupyter_server\", \"kind\": \"created\", \"count\": 4.0}, {\"org\": \"jupyter-server\", \"repo\": \"jupyverse\", \"kind\": \"created\", \"count\": 0.0}, {\"org\": \"jupyter-server\", \"repo\": \"kernel_gateway\", \"kind\": \"created\", \"count\": 1.0}, {\"org\": \"jupyter-server\", \"repo\": \"team-compass\", \"kind\": \"created\", \"count\": 2.0}, {\"org\": \"jupyter-server\", \"repo\": \"enterprise_gateway\", \"kind\": \"closed\", \"count\": 2.0}, {\"org\": \"jupyter-server\", \"repo\": \"fps\", \"kind\": \"closed\", \"count\": 3.0}, {\"org\": \"jupyter-server\", \"repo\": \"gateway_provisioners\", \"kind\": \"closed\", \"count\": 0.0}, {\"org\": \"jupyter-server\", \"repo\": \"jupyter-resource-usage\", \"kind\": \"closed\", \"count\": 0.0}, {\"org\": \"jupyter-server\", \"repo\": \"jupyter-scheduler\", \"kind\": \"closed\", \"count\": 3.0}, {\"org\": \"jupyter-server\", \"repo\": \"jupyter_releaser\", \"kind\": \"closed\", \"count\": 2.0}, {\"org\": \"jupyter-server\", \"repo\": \"jupyter_server\", \"kind\": \"closed\", \"count\": 9.0}, {\"org\": \"jupyter-server\", \"repo\": \"jupyverse\", \"kind\": \"closed\", \"count\": 3.0}, {\"org\": \"jupyter-server\", \"repo\": \"kernel_gateway\", \"kind\": \"closed\", \"count\": 0.0}, {\"org\": \"jupyter-server\", \"repo\": \"team-compass\", \"kind\": \"closed\", \"count\": 1.0}]}}, {\"mode\": \"vega-lite\"});\n",
       "</script>"
      ],
      "text/plain": [
       "alt.Chart(...)"
      ]
     },
     "execution_count": 19,
     "metadata": {},
     "output_type": "execute_result"
    }
   ],
   "source": [
    "charts = []\n",
    "# Pick the top 10 repositories\n",
    "top_repos = created_closed.groupby(['repo']).sum().sort_values(by='count', ascending=False).head(10).index\n",
    "ch = alt.Chart(created_closed.query('repo in @top_repos'), width=120).mark_bar().encode(\n",
    "    x=alt.X(\"kind\", axis=alt.Axis(labelFontSize=15, title=\"\")), \n",
    "    y=alt.Y('count', axis=alt.Axis(titleFontSize=15, labelFontSize=12)),\n",
    "    color='kind',\n",
    "    column=alt.Column(\"repo\", header=alt.Header(title=f\"Issue activity, last {n_days} days for {github_org}\", titleFontSize=15, labelFontSize=12))\n",
    ")\n",
    "ch"
   ]
  },
  {
   "cell_type": "code",
   "execution_count": 20,
   "id": "8173dc26",
   "metadata": {
    "editable": true,
    "execution": {
     "iopub.execute_input": "2025-05-17T01:30:58.132936Z",
     "iopub.status.busy": "2025-05-17T01:30:58.132539Z",
     "iopub.status.idle": "2025-05-17T01:30:58.138541Z",
     "shell.execute_reply": "2025-05-17T01:30:58.138007Z"
    },
    "papermill": {
     "duration": 0.02382,
     "end_time": "2025-05-17T01:30:58.139464",
     "exception": false,
     "start_time": "2025-05-17T01:30:58.115644",
     "status": "completed"
    },
    "slideshow": {
     "slide_type": ""
    },
    "tags": [
     "remove_cell"
    ]
   },
   "outputs": [],
   "source": [
    "# Set to datetime\n",
    "for kind in ['created_at', 'closed_at']:\n",
    "    closed.loc[:, kind] = pd.to_datetime(closed[kind])\n",
    "    \n",
    "closed.loc[:, 'time_open'] = closed['closed_at'] - closed['created_at']\n",
    "closed.loc[:, 'time_open'] = closed['time_open'].dt.total_seconds()"
   ]
  },
  {
   "cell_type": "code",
   "execution_count": 21,
   "id": "874868a3",
   "metadata": {
    "editable": true,
    "execution": {
     "iopub.execute_input": "2025-05-17T01:30:58.171819Z",
     "iopub.status.busy": "2025-05-17T01:30:58.171462Z",
     "iopub.status.idle": "2025-05-17T01:30:58.190007Z",
     "shell.execute_reply": "2025-05-17T01:30:58.189364Z"
    },
    "papermill": {
     "duration": 0.035927,
     "end_time": "2025-05-17T01:30:58.191121",
     "exception": false,
     "start_time": "2025-05-17T01:30:58.155194",
     "status": "completed"
    },
    "slideshow": {
     "slide_type": ""
    },
    "tags": [
     "hide_input"
    ]
   },
   "outputs": [
    {
     "data": {
      "text/html": [
       "\n",
       "<style>\n",
       "  #altair-viz-811be652a41f4dedba680f0a9ffff430.vega-embed {\n",
       "    width: 100%;\n",
       "    display: flex;\n",
       "  }\n",
       "\n",
       "  #altair-viz-811be652a41f4dedba680f0a9ffff430.vega-embed details,\n",
       "  #altair-viz-811be652a41f4dedba680f0a9ffff430.vega-embed details summary {\n",
       "    position: relative;\n",
       "  }\n",
       "</style>\n",
       "<div id=\"altair-viz-811be652a41f4dedba680f0a9ffff430\"></div>\n",
       "<script type=\"text/javascript\">\n",
       "  var VEGA_DEBUG = (typeof VEGA_DEBUG == \"undefined\") ? {} : VEGA_DEBUG;\n",
       "  (function(spec, embedOpt){\n",
       "    let outputDiv = document.currentScript.previousElementSibling;\n",
       "    if (outputDiv.id !== \"altair-viz-811be652a41f4dedba680f0a9ffff430\") {\n",
       "      outputDiv = document.getElementById(\"altair-viz-811be652a41f4dedba680f0a9ffff430\");\n",
       "    }\n",
       "\n",
       "    const paths = {\n",
       "      \"vega\": \"https://cdn.jsdelivr.net/npm/vega@5?noext\",\n",
       "      \"vega-lib\": \"https://cdn.jsdelivr.net/npm/vega-lib?noext\",\n",
       "      \"vega-lite\": \"https://cdn.jsdelivr.net/npm/vega-lite@5.20.1?noext\",\n",
       "      \"vega-embed\": \"https://cdn.jsdelivr.net/npm/vega-embed@6?noext\",\n",
       "    };\n",
       "\n",
       "    function maybeLoadScript(lib, version) {\n",
       "      var key = `${lib.replace(\"-\", \"\")}_version`;\n",
       "      return (VEGA_DEBUG[key] == version) ?\n",
       "        Promise.resolve(paths[lib]) :\n",
       "        new Promise(function(resolve, reject) {\n",
       "          var s = document.createElement('script');\n",
       "          document.getElementsByTagName(\"head\")[0].appendChild(s);\n",
       "          s.async = true;\n",
       "          s.onload = () => {\n",
       "            VEGA_DEBUG[key] = version;\n",
       "            return resolve(paths[lib]);\n",
       "          };\n",
       "          s.onerror = () => reject(`Error loading script: ${paths[lib]}`);\n",
       "          s.src = paths[lib];\n",
       "        });\n",
       "    }\n",
       "\n",
       "    function showError(err) {\n",
       "      outputDiv.innerHTML = `<div class=\"error\" style=\"color:red;\">${err}</div>`;\n",
       "      throw err;\n",
       "    }\n",
       "\n",
       "    function displayChart(vegaEmbed) {\n",
       "      vegaEmbed(outputDiv, spec, embedOpt)\n",
       "        .catch(err => showError(`Javascript Error: ${err.message}<br>This usually means there's a typo in your chart specification. See the javascript console for the full traceback.`));\n",
       "    }\n",
       "\n",
       "    if(typeof define === \"function\" && define.amd) {\n",
       "      requirejs.config({paths});\n",
       "      let deps = [\"vega-embed\"];\n",
       "      require(deps, displayChart, err => showError(`Error loading script: ${err.message}`));\n",
       "    } else {\n",
       "      maybeLoadScript(\"vega\", \"5\")\n",
       "        .then(() => maybeLoadScript(\"vega-lite\", \"5.20.1\"))\n",
       "        .then(() => maybeLoadScript(\"vega-embed\", \"6\"))\n",
       "        .catch(showError)\n",
       "        .then(() => displayChart(vegaEmbed));\n",
       "    }\n",
       "  })({\"config\": {\"axisLeft\": {\"labelFontSize\": 15}, \"axisBottom\": {\"labelFontSize\": 15}}, \"data\": {\"name\": \"data-729c6c227fe05d15297e640d6ced72c5\"}, \"mark\": {\"type\": \"bar\"}, \"encoding\": {\"x\": {\"field\": \"repo\", \"sort\": [\"fps\", \"jupyter-scheduler\", \"jupyter_releaser\", \"jupyter_server\", \"team-compass\", \"jupyverse\", \"enterprise_gateway\"], \"type\": \"nominal\"}, \"y\": {\"field\": \"time_open\", \"title\": \"Median Days Open\", \"type\": \"quantitative\"}}, \"title\": \"Time to close for issues closed in the last 90 days\", \"$schema\": \"https://vega.github.io/schema/vega-lite/v5.20.1.json\", \"datasets\": {\"data-729c6c227fe05d15297e640d6ced72c5\": [{\"org\": \"jupyter-server\", \"repo\": \"enterprise_gateway\", \"time_open\": 1.0795543981481481, \"org/repo\": \"jupyter-server/enterprise_gateway\"}, {\"org\": \"jupyter-server\", \"repo\": \"fps\", \"time_open\": 1228.1181018518519, \"org/repo\": \"jupyter-server/fps\"}, {\"org\": \"jupyter-server\", \"repo\": \"jupyter-scheduler\", \"time_open\": 110.23818287037037, \"org/repo\": \"jupyter-server/jupyter-scheduler\"}, {\"org\": \"jupyter-server\", \"repo\": \"jupyter_releaser\", \"time_open\": 49.906840277777775, \"org/repo\": \"jupyter-server/jupyter_releaser\"}, {\"org\": \"jupyter-server\", \"repo\": \"jupyter_server\", \"time_open\": 38.553148148148146, \"org/repo\": \"jupyter-server/jupyter_server\"}, {\"org\": \"jupyter-server\", \"repo\": \"jupyverse\", \"time_open\": 2.198275462962963, \"org/repo\": \"jupyter-server/jupyverse\"}, {\"org\": \"jupyter-server\", \"repo\": \"team-compass\", \"time_open\": 8.337731481481482, \"org/repo\": \"jupyter-server/team-compass\"}]}}, {\"mode\": \"vega-lite\"});\n",
       "</script>"
      ],
      "text/plain": [
       "alt.Chart(...)"
      ]
     },
     "execution_count": 21,
     "metadata": {},
     "output_type": "execute_result"
    }
   ],
   "source": [
    "time_open = closed.groupby(['org', 'repo']).agg({'time_open': 'median'}).reset_index()\n",
    "time_open['time_open'] = time_open['time_open'] / (60 * 60 * 24)\n",
    "time_open['org/repo'] = time_open.apply(lambda a: a['org'] + '/' + a['repo'], axis=1)\n",
    "sorted_vals = time_open.sort_values(['org', 'time_open'], ascending=False)['repo'].values\n",
    "alt.Chart(data=time_open, title=f\"Time to close for issues closed in the last {n_days} days\").mark_bar().encode(\n",
    "    x=alt.X('repo', sort=alt.Sort(sorted_vals.tolist())),\n",
    "    y=alt.Y('time_open', title=\"Median Days Open\"),\n",
    ")"
   ]
  },
  {
   "cell_type": "markdown",
   "id": "82cf96e7",
   "metadata": {
    "editable": true,
    "papermill": {
     "duration": 0.015813,
     "end_time": "2025-05-17T01:30:58.222710",
     "exception": false,
     "start_time": "2025-05-17T01:30:58.206897",
     "status": "completed"
    },
    "slideshow": {
     "slide_type": ""
    },
    "tags": []
   },
   "source": [
    "## Most-upvoted issues"
   ]
  },
  {
   "cell_type": "code",
   "execution_count": 22,
   "id": "3ac9a022",
   "metadata": {
    "editable": true,
    "execution": {
     "iopub.execute_input": "2025-05-17T01:30:58.256608Z",
     "iopub.status.busy": "2025-05-17T01:30:58.256223Z",
     "iopub.status.idle": "2025-05-17T01:30:58.278450Z",
     "shell.execute_reply": "2025-05-17T01:30:58.277877Z"
    },
    "papermill": {
     "duration": 0.040341,
     "end_time": "2025-05-17T01:30:58.279394",
     "exception": false,
     "start_time": "2025-05-17T01:30:58.239053",
     "status": "completed"
    },
    "slideshow": {
     "slide_type": ""
    },
    "tags": [
     "hide_input"
    ]
   },
   "outputs": [
    {
     "data": {
      "application/vnd.jupyter.widget-view+json": {
       "model_id": "d42c74d6109f4ca29450a851173449e5",
       "version_major": 2,
       "version_minor": 0
      },
      "text/plain": [
       "HTML(value='<ul>\\n<li>(22) Towards a new generic and composable server - team-compass - <a href=\"https://githu…"
      ]
     },
     "execution_count": 22,
     "metadata": {},
     "output_type": "execute_result"
    }
   ],
   "source": [
    "thumbsup = issues.query(\"state == 'open'\").sort_values(\"positive\", ascending=False).head(25)\n",
    "thumbsup = thumbsup[[\"title\", \"url\", \"number\", \"positive\", \"repo\"]]\n",
    "\n",
    "text = []\n",
    "for ii, irow in thumbsup.iterrows():\n",
    "    itext = f\"- ({irow['positive']}) {irow['title']} - {irow['repo']} - [#{irow['number']}]({irow['url']})\"\n",
    "    text.append(itext)\n",
    "text = '\\n'.join(text)\n",
    "HTML(markdown(text))"
   ]
  },
  {
   "cell_type": "markdown",
   "id": "e4983ae0",
   "metadata": {
    "editable": true,
    "papermill": {
     "duration": 0.016217,
     "end_time": "2025-05-17T01:30:58.311778",
     "exception": false,
     "start_time": "2025-05-17T01:30:58.295561",
     "status": "completed"
    },
    "slideshow": {
     "slide_type": ""
    },
    "tags": []
   },
   "source": [
    "## Commenters across repositories\n",
    "\n",
    "These are commenters across all issues and pull requests in the last several days.\n",
    "These are colored by the commenter's association with the organization. For information\n",
    "about what these associations mean, [see this StackOverflow post](https://stackoverflow.com/a/28866914/1927102)."
   ]
  },
  {
   "cell_type": "code",
   "execution_count": 23,
   "id": "9fd2cfe1",
   "metadata": {
    "editable": true,
    "execution": {
     "iopub.execute_input": "2025-05-17T01:30:58.344703Z",
     "iopub.status.busy": "2025-05-17T01:30:58.344502Z",
     "iopub.status.idle": "2025-05-17T01:30:58.356418Z",
     "shell.execute_reply": "2025-05-17T01:30:58.355757Z"
    },
    "papermill": {
     "duration": 0.029662,
     "end_time": "2025-05-17T01:30:58.357516",
     "exception": false,
     "start_time": "2025-05-17T01:30:58.327854",
     "status": "completed"
    },
    "slideshow": {
     "slide_type": ""
    },
    "tags": [
     "remove_cell"
    ]
   },
   "outputs": [],
   "source": [
    "commentors = (\n",
    "    comments\n",
    "    .query(\"created_at > @start_date and created_at < @stop_date\")\n",
    "    .groupby(['org', 'repo', 'login', 'author_association'])\n",
    "    .count().rename(columns={'id_issue': 'count'})['count']\n",
    "    .reset_index()\n",
    "    .sort_values(['org', 'count'], ascending=False)\n",
    ")"
   ]
  },
  {
   "cell_type": "code",
   "execution_count": 24,
   "id": "b367ab03",
   "metadata": {
    "editable": true,
    "execution": {
     "iopub.execute_input": "2025-05-17T01:30:58.392392Z",
     "iopub.status.busy": "2025-05-17T01:30:58.392034Z",
     "iopub.status.idle": "2025-05-17T01:30:58.416757Z",
     "shell.execute_reply": "2025-05-17T01:30:58.416134Z"
    },
    "papermill": {
     "duration": 0.043558,
     "end_time": "2025-05-17T01:30:58.417767",
     "exception": false,
     "start_time": "2025-05-17T01:30:58.374209",
     "status": "completed"
    },
    "slideshow": {
     "slide_type": ""
    },
    "tags": [
     "hide_input"
    ]
   },
   "outputs": [
    {
     "data": {
      "text/html": [
       "\n",
       "<style>\n",
       "  #altair-viz-38731bf7385b4432ba11d5ebde60eb82.vega-embed {\n",
       "    width: 100%;\n",
       "    display: flex;\n",
       "  }\n",
       "\n",
       "  #altair-viz-38731bf7385b4432ba11d5ebde60eb82.vega-embed details,\n",
       "  #altair-viz-38731bf7385b4432ba11d5ebde60eb82.vega-embed details summary {\n",
       "    position: relative;\n",
       "  }\n",
       "</style>\n",
       "<div id=\"altair-viz-38731bf7385b4432ba11d5ebde60eb82\"></div>\n",
       "<script type=\"text/javascript\">\n",
       "  var VEGA_DEBUG = (typeof VEGA_DEBUG == \"undefined\") ? {} : VEGA_DEBUG;\n",
       "  (function(spec, embedOpt){\n",
       "    let outputDiv = document.currentScript.previousElementSibling;\n",
       "    if (outputDiv.id !== \"altair-viz-38731bf7385b4432ba11d5ebde60eb82\") {\n",
       "      outputDiv = document.getElementById(\"altair-viz-38731bf7385b4432ba11d5ebde60eb82\");\n",
       "    }\n",
       "\n",
       "    const paths = {\n",
       "      \"vega\": \"https://cdn.jsdelivr.net/npm/vega@5?noext\",\n",
       "      \"vega-lib\": \"https://cdn.jsdelivr.net/npm/vega-lib?noext\",\n",
       "      \"vega-lite\": \"https://cdn.jsdelivr.net/npm/vega-lite@5.20.1?noext\",\n",
       "      \"vega-embed\": \"https://cdn.jsdelivr.net/npm/vega-embed@6?noext\",\n",
       "    };\n",
       "\n",
       "    function maybeLoadScript(lib, version) {\n",
       "      var key = `${lib.replace(\"-\", \"\")}_version`;\n",
       "      return (VEGA_DEBUG[key] == version) ?\n",
       "        Promise.resolve(paths[lib]) :\n",
       "        new Promise(function(resolve, reject) {\n",
       "          var s = document.createElement('script');\n",
       "          document.getElementsByTagName(\"head\")[0].appendChild(s);\n",
       "          s.async = true;\n",
       "          s.onload = () => {\n",
       "            VEGA_DEBUG[key] = version;\n",
       "            return resolve(paths[lib]);\n",
       "          };\n",
       "          s.onerror = () => reject(`Error loading script: ${paths[lib]}`);\n",
       "          s.src = paths[lib];\n",
       "        });\n",
       "    }\n",
       "\n",
       "    function showError(err) {\n",
       "      outputDiv.innerHTML = `<div class=\"error\" style=\"color:red;\">${err}</div>`;\n",
       "      throw err;\n",
       "    }\n",
       "\n",
       "    function displayChart(vegaEmbed) {\n",
       "      vegaEmbed(outputDiv, spec, embedOpt)\n",
       "        .catch(err => showError(`Javascript Error: ${err.message}<br>This usually means there's a typo in your chart specification. See the javascript console for the full traceback.`));\n",
       "    }\n",
       "\n",
       "    if(typeof define === \"function\" && define.amd) {\n",
       "      requirejs.config({paths});\n",
       "      let deps = [\"vega-embed\"];\n",
       "      require(deps, displayChart, err => showError(`Error loading script: ${err.message}`));\n",
       "    } else {\n",
       "      maybeLoadScript(\"vega\", \"5\")\n",
       "        .then(() => maybeLoadScript(\"vega-lite\", \"5.20.1\"))\n",
       "        .then(() => maybeLoadScript(\"vega-embed\", \"6\"))\n",
       "        .catch(showError)\n",
       "        .then(() => displayChart(vegaEmbed));\n",
       "    }\n",
       "  })({\"config\": {\"axisLeft\": {\"labelFontSize\": 15}, \"axisBottom\": {\"labelFontSize\": 15}}, \"hconcat\": [{\"mark\": {\"type\": \"bar\"}, \"encoding\": {\"color\": {\"field\": \"author_association\", \"scale\": {\"domain\": [\"MEMBER\", \"CONTRIBUTOR\", \"COLLABORATOR\", \"NONE\"], \"range\": [\"rgb(211.82745098039214, 211.82745098039214, 211.82745098039214)\", \"rgb(166.98562091503268, 229.89803921568628, 166.98562091503268)\", \"rgb(96.37647058823529, 192.75294117647059, 96.37647058823529)\", \"rgb(0.0, 100.3921568627451, 0.0)\"]}, \"type\": \"nominal\"}, \"x\": {\"field\": \"login\", \"type\": \"nominal\"}, \"y\": {\"field\": \"count\", \"type\": \"quantitative\"}}, \"title\": \"Top 50 commentors for ('jupyter-server',) in the last 90 days\"}], \"data\": {\"name\": \"data-54bc23407b6e2bcf8d2ed338b96a13f7\"}, \"$schema\": \"https://vega.github.io/schema/vega-lite/v5.20.1.json\", \"datasets\": {\"data-54bc23407b6e2bcf8d2ed338b96a13f7\": [{\"login\": \"Zsailer\", \"count\": 31, \"author_association\": \"MEMBER\"}, {\"login\": \"davidbrochart\", \"count\": 20, \"author_association\": \"NONE\"}, {\"login\": \"krassowski\", \"count\": 13, \"author_association\": \"COLLABORATOR\"}, {\"login\": \"andrii-i\", \"count\": 7, \"author_association\": \"COLLABORATOR\"}, {\"login\": \"minrk\", \"count\": 5, \"author_association\": \"CONTRIBUTOR\"}, {\"login\": \"lresende\", \"count\": 5, \"author_association\": \"MEMBER\"}, {\"login\": \"jtpio\", \"count\": 4, \"author_association\": \"MEMBER\"}, {\"login\": \"patilsanket48\", \"count\": 4, \"author_association\": \"NONE\"}, {\"login\": \"Carreau\", \"count\": 3, \"author_association\": \"NONE\"}, {\"login\": \"jhgoebbert\", \"count\": 3, \"author_association\": \"NONE\"}, {\"login\": \"Sieboldianus\", \"count\": 3, \"author_association\": \"NONE\"}, {\"login\": \"astitv-sh\", \"count\": 2, \"author_association\": \"COLLABORATOR\"}, {\"login\": \"jesuino\", \"count\": 2, \"author_association\": \"NONE\"}, {\"login\": \"kjayan\", \"count\": 2, \"author_association\": \"CONTRIBUTOR\"}, {\"login\": \"demardefrozen10\", \"count\": 2, \"author_association\": \"NONE\"}, {\"login\": \"bollwyvl\", \"count\": 2, \"author_association\": \"CONTRIBUTOR\"}, {\"login\": \"colinpalmer\", \"count\": 2, \"author_association\": \"NONE\"}, {\"login\": \"pranavkhandelwal\", \"count\": 2, \"author_association\": \"NONE\"}, {\"login\": \"ivanov\", \"count\": 2, \"author_association\": \"NONE\"}, {\"login\": \"fresende\", \"count\": 2, \"author_association\": \"CONTRIBUTOR\"}, {\"login\": \"anutosh491\", \"count\": 2, \"author_association\": \"NONE\"}, {\"login\": \"JohanMabille\", \"count\": 2, \"author_association\": \"CONTRIBUTOR\"}, {\"login\": \"vsr2158\", \"count\": 2, \"author_association\": \"NONE\"}, {\"login\": \"mimikwang\", \"count\": 2, \"author_association\": \"NONE\"}, {\"login\": \"dlqqq\", \"count\": 2, \"author_association\": \"CONTRIBUTOR\"}, {\"login\": \"dmonad\", \"count\": 2, \"author_association\": \"NONE\"}, {\"login\": \"brichet\", \"count\": 1, \"author_association\": \"CONTRIBUTOR\"}, {\"login\": \"ctcjab\", \"count\": 1, \"author_association\": \"NONE\"}, {\"login\": \"consideRatio\", \"count\": 1, \"author_association\": \"NONE\"}, {\"login\": \"choldgraf\", \"count\": 1, \"author_association\": \"NONE\"}, {\"login\": \"RohanGd\", \"count\": 1, \"author_association\": \"NONE\"}, {\"login\": \"ExpertLove\", \"count\": 1, \"author_association\": \"NONE\"}, {\"login\": \"Horusiath\", \"count\": 1, \"author_association\": \"NONE\"}, {\"login\": \"MattiasDC\", \"count\": 1, \"author_association\": \"NONE\"}, {\"login\": \"Bimbam360\", \"count\": 1, \"author_association\": \"NONE\"}, {\"login\": \"cben\", \"count\": 1, \"author_association\": \"NONE\"}, {\"login\": \"RRosio\", \"count\": 1, \"author_association\": \"CONTRIBUTOR\"}, {\"login\": \"bloomsa\", \"count\": 1, \"author_association\": \"NONE\"}, {\"login\": \"danyeaw\", \"count\": 1, \"author_association\": \"NONE\"}, {\"login\": \"jayxie8\", \"count\": 1, \"author_association\": \"NONE\"}, {\"login\": \"fendwich\", \"count\": 1, \"author_association\": \"NONE\"}, {\"login\": \"fatihmete\", \"count\": 1, \"author_association\": \"NONE\"}, {\"login\": \"liuxiawei\", \"count\": 1, \"author_association\": \"NONE\"}, {\"login\": \"manics\", \"count\": 1, \"author_association\": \"NONE\"}, {\"login\": \"martenrichter\", \"count\": 1, \"author_association\": \"CONTRIBUTOR\"}, {\"login\": \"mahendrapaipuri\", \"count\": 1, \"author_association\": \"CONTRIBUTOR\"}, {\"login\": \"powerstar13\", \"count\": 1, \"author_association\": \"NONE\"}, {\"login\": \"paf91\", \"count\": 1, \"author_association\": \"NONE\"}, {\"login\": \"rolweber\", \"count\": 1, \"author_association\": \"CONTRIBUTOR\"}, {\"login\": \"rao23\", \"count\": 1, \"author_association\": \"NONE\"}]}}, {\"mode\": \"vega-lite\"});\n",
       "</script>"
      ],
      "text/plain": [
       "alt.HConcatChart(...)"
      ]
     },
     "execution_count": 24,
     "metadata": {},
     "output_type": "execute_result"
    }
   ],
   "source": [
    "n_plot = 50\n",
    "charts = []\n",
    "for ii, (iorg, idata) in enumerate(commentors.groupby(['org'])):\n",
    "    title = f\"Top {n_plot} commentors for {iorg} in the last {n_days} days\"\n",
    "    idata = idata.groupby('login', as_index=False).agg({'count': 'sum', 'author_association': 'first'})\n",
    "    idata = idata.sort_values('count', ascending=False).head(n_plot)\n",
    "    ch = alt.Chart(data=idata.head(n_plot), title=title).mark_bar().encode(\n",
    "        x='login',\n",
    "        y='count',\n",
    "        color=alt.Color('author_association', scale=alt.Scale(domain=author_types, range=author_colors))\n",
    "    )\n",
    "    charts.append(ch)\n",
    "alt.hconcat(*charts)"
   ]
  },
  {
   "cell_type": "markdown",
   "id": "84a3ddda",
   "metadata": {
    "editable": true,
    "papermill": {
     "duration": 0.016234,
     "end_time": "2025-05-17T01:30:58.450416",
     "exception": false,
     "start_time": "2025-05-17T01:30:58.434182",
     "status": "completed"
    },
    "slideshow": {
     "slide_type": ""
    },
    "tags": []
   },
   "source": [
    "## First responders\n",
    "\n",
    "First responders are the first people to respond to a new issue in one of the repositories.\n",
    "The following plots show first responders for recently-created issues."
   ]
  },
  {
   "cell_type": "code",
   "execution_count": 25,
   "id": "05024ba0",
   "metadata": {
    "editable": true,
    "execution": {
     "iopub.execute_input": "2025-05-17T01:30:58.483989Z",
     "iopub.status.busy": "2025-05-17T01:30:58.483781Z",
     "iopub.status.idle": "2025-05-17T01:30:58.518570Z",
     "shell.execute_reply": "2025-05-17T01:30:58.517945Z"
    },
    "papermill": {
     "duration": 0.053014,
     "end_time": "2025-05-17T01:30:58.519719",
     "exception": false,
     "start_time": "2025-05-17T01:30:58.466705",
     "status": "completed"
    },
    "slideshow": {
     "slide_type": ""
    },
    "tags": [
     "remove_cell"
    ]
   },
   "outputs": [],
   "source": [
    "first_comments = []\n",
    "latest_comments = comments.query(\"created_at > @start_date\")\n",
    "for (org, repo, issue_id), i_comments in latest_comments.groupby(['org', 'repo', 'id_issue']):\n",
    "    ix_min = pd.to_datetime(i_comments['created_at']).idxmin()\n",
    "    first_comment = i_comments.loc[ix_min]\n",
    "    if isinstance(first_comment, pd.DataFrame):\n",
    "        first_comment = first_comment.iloc[0]\n",
    "    first_comments.append(first_comment)\n",
    "first_comments = pd.concat(first_comments, axis=1).T\n",
    "\n",
    "# Make up counts for viz\n",
    "first_responder_counts = first_comments.groupby(['org', 'login', 'author_association'], as_index=False).\\\n",
    "    count().rename(columns={'id_issue': 'n_first_responses'}).sort_values(['org', 'n_first_responses'], ascending=False)\n"
   ]
  },
  {
   "cell_type": "code",
   "execution_count": 26,
   "id": "a9a70f2e",
   "metadata": {
    "editable": true,
    "execution": {
     "iopub.execute_input": "2025-05-17T01:30:58.554982Z",
     "iopub.status.busy": "2025-05-17T01:30:58.554612Z",
     "iopub.status.idle": "2025-05-17T01:30:58.577325Z",
     "shell.execute_reply": "2025-05-17T01:30:58.576677Z"
    },
    "papermill": {
     "duration": 0.041521,
     "end_time": "2025-05-17T01:30:58.578348",
     "exception": false,
     "start_time": "2025-05-17T01:30:58.536827",
     "status": "completed"
    },
    "slideshow": {
     "slide_type": ""
    },
    "tags": [
     "hide_input"
    ]
   },
   "outputs": [
    {
     "data": {
      "text/html": [
       "\n",
       "<style>\n",
       "  #altair-viz-0ae2c9020f884886a6f43dd7445dc9a8.vega-embed {\n",
       "    width: 100%;\n",
       "    display: flex;\n",
       "  }\n",
       "\n",
       "  #altair-viz-0ae2c9020f884886a6f43dd7445dc9a8.vega-embed details,\n",
       "  #altair-viz-0ae2c9020f884886a6f43dd7445dc9a8.vega-embed details summary {\n",
       "    position: relative;\n",
       "  }\n",
       "</style>\n",
       "<div id=\"altair-viz-0ae2c9020f884886a6f43dd7445dc9a8\"></div>\n",
       "<script type=\"text/javascript\">\n",
       "  var VEGA_DEBUG = (typeof VEGA_DEBUG == \"undefined\") ? {} : VEGA_DEBUG;\n",
       "  (function(spec, embedOpt){\n",
       "    let outputDiv = document.currentScript.previousElementSibling;\n",
       "    if (outputDiv.id !== \"altair-viz-0ae2c9020f884886a6f43dd7445dc9a8\") {\n",
       "      outputDiv = document.getElementById(\"altair-viz-0ae2c9020f884886a6f43dd7445dc9a8\");\n",
       "    }\n",
       "\n",
       "    const paths = {\n",
       "      \"vega\": \"https://cdn.jsdelivr.net/npm/vega@5?noext\",\n",
       "      \"vega-lib\": \"https://cdn.jsdelivr.net/npm/vega-lib?noext\",\n",
       "      \"vega-lite\": \"https://cdn.jsdelivr.net/npm/vega-lite@5.20.1?noext\",\n",
       "      \"vega-embed\": \"https://cdn.jsdelivr.net/npm/vega-embed@6?noext\",\n",
       "    };\n",
       "\n",
       "    function maybeLoadScript(lib, version) {\n",
       "      var key = `${lib.replace(\"-\", \"\")}_version`;\n",
       "      return (VEGA_DEBUG[key] == version) ?\n",
       "        Promise.resolve(paths[lib]) :\n",
       "        new Promise(function(resolve, reject) {\n",
       "          var s = document.createElement('script');\n",
       "          document.getElementsByTagName(\"head\")[0].appendChild(s);\n",
       "          s.async = true;\n",
       "          s.onload = () => {\n",
       "            VEGA_DEBUG[key] = version;\n",
       "            return resolve(paths[lib]);\n",
       "          };\n",
       "          s.onerror = () => reject(`Error loading script: ${paths[lib]}`);\n",
       "          s.src = paths[lib];\n",
       "        });\n",
       "    }\n",
       "\n",
       "    function showError(err) {\n",
       "      outputDiv.innerHTML = `<div class=\"error\" style=\"color:red;\">${err}</div>`;\n",
       "      throw err;\n",
       "    }\n",
       "\n",
       "    function displayChart(vegaEmbed) {\n",
       "      vegaEmbed(outputDiv, spec, embedOpt)\n",
       "        .catch(err => showError(`Javascript Error: ${err.message}<br>This usually means there's a typo in your chart specification. See the javascript console for the full traceback.`));\n",
       "    }\n",
       "\n",
       "    if(typeof define === \"function\" && define.amd) {\n",
       "      requirejs.config({paths});\n",
       "      let deps = [\"vega-embed\"];\n",
       "      require(deps, displayChart, err => showError(`Error loading script: ${err.message}`));\n",
       "    } else {\n",
       "      maybeLoadScript(\"vega\", \"5\")\n",
       "        .then(() => maybeLoadScript(\"vega-lite\", \"5.20.1\"))\n",
       "        .then(() => maybeLoadScript(\"vega-embed\", \"6\"))\n",
       "        .catch(showError)\n",
       "        .then(() => displayChart(vegaEmbed));\n",
       "    }\n",
       "  })({\"config\": {\"axisLeft\": {\"labelFontSize\": 15}, \"axisBottom\": {\"labelFontSize\": 15}}, \"data\": {\"name\": \"data-f9a35330b5835f433bb9e6e440df1b89\"}, \"mark\": {\"type\": \"bar\"}, \"encoding\": {\"color\": {\"field\": \"author_association\", \"scale\": {\"domain\": [\"MEMBER\", \"CONTRIBUTOR\", \"COLLABORATOR\", \"NONE\"], \"range\": [\"rgb(211.82745098039214, 211.82745098039214, 211.82745098039214)\", \"rgb(166.98562091503268, 229.89803921568628, 166.98562091503268)\", \"rgb(96.37647058823529, 192.75294117647059, 96.37647058823529)\", \"rgb(0.0, 100.3921568627451, 0.0)\"]}, \"type\": \"nominal\"}, \"x\": {\"field\": \"login\", \"type\": \"nominal\"}, \"y\": {\"field\": \"n_first_responses\", \"type\": \"quantitative\"}}, \"title\": \"Top 50 first responders for jupyter-server in the last 90 days\", \"$schema\": \"https://vega.github.io/schema/vega-lite/v5.20.1.json\", \"datasets\": {\"data-f9a35330b5835f433bb9e6e440df1b89\": [{\"login\": \"Zsailer\", \"n_first_responses\": 7, \"author_association\": \"MEMBER\"}, {\"login\": \"davidbrochart\", \"n_first_responses\": 5, \"author_association\": \"COLLABORATOR\"}, {\"login\": \"andrii-i\", \"n_first_responses\": 3, \"author_association\": \"COLLABORATOR\"}, {\"login\": \"krassowski\", \"n_first_responses\": 3, \"author_association\": \"COLLABORATOR\"}, {\"login\": \"minrk\", \"n_first_responses\": 3, \"author_association\": \"CONTRIBUTOR\"}, {\"login\": \"astitv-sh\", \"n_first_responses\": 2, \"author_association\": \"COLLABORATOR\"}, {\"login\": \"bollwyvl\", \"n_first_responses\": 2, \"author_association\": \"CONTRIBUTOR\"}, {\"login\": \"jtpio\", \"n_first_responses\": 2, \"author_association\": \"MEMBER\"}, {\"login\": \"RohanGd\", \"n_first_responses\": 1, \"author_association\": \"NONE\"}, {\"login\": \"MattiasDC\", \"n_first_responses\": 1, \"author_association\": \"NONE\"}, {\"login\": \"Carreau\", \"n_first_responses\": 1, \"author_association\": \"NONE\"}, {\"login\": \"Bimbam360\", \"n_first_responses\": 1, \"author_association\": \"NONE\"}, {\"login\": \"JohanMabille\", \"n_first_responses\": 1, \"author_association\": \"CONTRIBUTOR\"}, {\"login\": \"ExpertLove\", \"n_first_responses\": 1, \"author_association\": \"NONE\"}, {\"login\": \"consideRatio\", \"n_first_responses\": 1, \"author_association\": \"NONE\"}, {\"login\": \"cben\", \"n_first_responses\": 1, \"author_association\": \"NONE\"}, {\"login\": \"bloomsa\", \"n_first_responses\": 1, \"author_association\": \"NONE\"}, {\"login\": \"ctcjab\", \"n_first_responses\": 1, \"author_association\": \"NONE\"}, {\"login\": \"fendwich\", \"n_first_responses\": 1, \"author_association\": \"NONE\"}, {\"login\": \"dlqqq\", \"n_first_responses\": 1, \"author_association\": \"CONTRIBUTOR\"}, {\"login\": \"jhgoebbert\", \"n_first_responses\": 1, \"author_association\": \"NONE\"}, {\"login\": \"Sieboldianus\", \"n_first_responses\": 1, \"author_association\": \"NONE\"}, {\"login\": \"fresende\", \"n_first_responses\": 1, \"author_association\": \"CONTRIBUTOR\"}, {\"login\": \"liuxiawei\", \"n_first_responses\": 1, \"author_association\": \"NONE\"}, {\"login\": \"mahendrapaipuri\", \"n_first_responses\": 1, \"author_association\": \"CONTRIBUTOR\"}, {\"login\": \"lresende\", \"n_first_responses\": 1, \"author_association\": \"MEMBER\"}, {\"login\": \"martenrichter\", \"n_first_responses\": 1, \"author_association\": \"CONTRIBUTOR\"}, {\"login\": \"mimikwang\", \"n_first_responses\": 1, \"author_association\": \"NONE\"}, {\"login\": \"paf91\", \"n_first_responses\": 1, \"author_association\": \"NONE\"}, {\"login\": \"patilsanket48\", \"n_first_responses\": 1, \"author_association\": \"NONE\"}, {\"login\": \"powerstar13\", \"n_first_responses\": 1, \"author_association\": \"NONE\"}, {\"login\": \"pranavkhandelwal\", \"n_first_responses\": 1, \"author_association\": \"NONE\"}, {\"login\": \"rao23\", \"n_first_responses\": 1, \"author_association\": \"NONE\"}, {\"login\": \"rolweber\", \"n_first_responses\": 1, \"author_association\": \"CONTRIBUTOR\"}, {\"login\": \"simonaubertbd\", \"n_first_responses\": 1, \"author_association\": \"NONE\"}, {\"login\": \"skapin\", \"n_first_responses\": 1, \"author_association\": \"NONE\"}, {\"login\": \"vidartf\", \"n_first_responses\": 1, \"author_association\": \"MEMBER\"}, {\"login\": \"xiaoguazh\", \"n_first_responses\": 1, \"author_association\": \"NONE\"}]}}, {\"mode\": \"vega-lite\"});\n",
       "</script>"
      ],
      "text/plain": [
       "alt.Chart(...)"
      ]
     },
     "execution_count": 26,
     "metadata": {},
     "output_type": "execute_result"
    }
   ],
   "source": [
    "n_plot = 50\n",
    "\n",
    "title = f\"Top {n_plot} first responders for {github_org} in the last {n_days} days\"\n",
    "idata = first_responder_counts.groupby('login', as_index=False).agg({'n_first_responses': 'sum', 'author_association': 'first'})\n",
    "idata = idata.sort_values('n_first_responses', ascending=False).head(n_plot)\n",
    "ch = alt.Chart(data=idata.head(n_plot), title=title).mark_bar().encode(\n",
    "    x='login',\n",
    "    y='n_first_responses',\n",
    "    color=alt.Color('author_association', scale=alt.Scale(domain=author_types, range=author_colors))\n",
    ")\n",
    "ch"
   ]
  },
  {
   "cell_type": "markdown",
   "id": "d06a005d",
   "metadata": {
    "editable": true,
    "papermill": {
     "duration": 0.016393,
     "end_time": "2025-05-17T01:30:58.611280",
     "exception": false,
     "start_time": "2025-05-17T01:30:58.594887",
     "status": "completed"
    },
    "slideshow": {
     "slide_type": ""
    },
    "tags": []
   },
   "source": [
    "## Recent activity\n",
    "\n",
    "### A list of merged PRs by project\n",
    "\n",
    "Below is a tabbed readout of recently-merged PRs. Check out the title to get an idea for what they\n",
    "implemented, and be sure to thank the PR author for their hard work!"
   ]
  },
  {
   "cell_type": "code",
   "execution_count": 27,
   "id": "6941efc6",
   "metadata": {
    "editable": true,
    "execution": {
     "iopub.execute_input": "2025-05-17T01:30:58.645459Z",
     "iopub.status.busy": "2025-05-17T01:30:58.645074Z",
     "iopub.status.idle": "2025-05-17T01:30:58.725258Z",
     "shell.execute_reply": "2025-05-17T01:30:58.724585Z"
    },
    "papermill": {
     "duration": 0.103345,
     "end_time": "2025-05-17T01:30:58.731177",
     "exception": false,
     "start_time": "2025-05-17T01:30:58.627832",
     "status": "completed"
    },
    "slideshow": {
     "slide_type": ""
    },
    "tags": [
     "hide_input"
    ]
   },
   "outputs": [
    {
     "data": {
      "application/vnd.jupyter.widget-view+json": {
       "model_id": "5d8f6ff18c684ea7a7582493f7c57f64",
       "version_major": 2,
       "version_minor": 0
      },
      "text/plain": [
       "Tab(children=(HTML(value='<h4>Closed PRs for repo: <a href=\"https://github.com/jupyter-server/fps\">jupyter-ser…"
      ]
     },
     "execution_count": 27,
     "metadata": {},
     "output_type": "execute_result"
    }
   ],
   "source": [
    "tabs = widgets.Tab(children=[])\n",
    "\n",
    "for ii, ((org, repo), imerged) in enumerate(merged.query(\"repo in @use_repos\").groupby(['org', 'repo'])):\n",
    "    merged_by = {}\n",
    "    pr_by = {}\n",
    "    issue_md = []\n",
    "    issue_md.append(f\"#### Closed PRs for repo: [{org}/{repo}](https://github.com/{github_org}/{repo})\")\n",
    "    issue_md.append(\"\")\n",
    "    issue_md.append(f\"##### \")\n",
    "\n",
    "    for _, ipr in imerged.iterrows():\n",
    "        user_name = ipr['login']\n",
    "        user_url = author_url(user_name)\n",
    "        pr_number = ipr['number']\n",
    "        pr_html = ipr['url']\n",
    "        pr_title = ipr['title']\n",
    "        pr_closedby = ipr['merged_by']\n",
    "        pr_closedby_url = f\"https://github.com/{pr_closedby}\"\n",
    "        if user_name not in pr_by:\n",
    "            pr_by[user_name] = 1\n",
    "        else:\n",
    "            pr_by[user_name] += 1\n",
    "\n",
    "        if pr_closedby not in merged_by:\n",
    "            merged_by[pr_closedby] = 1\n",
    "        else:\n",
    "            merged_by[pr_closedby] += 1\n",
    "        text = f\"* [(#{pr_number})]({pr_html}): _{pr_title}_ by **[@{user_name}]({user_url})** merged by **[@{pr_closedby}]({pr_closedby_url})**\"\n",
    "        issue_md.append(text)\n",
    "    \n",
    "    issue_md.append('')\n",
    "    markdown_html = markdown('\\n'.join(issue_md))\n",
    "\n",
    "    children = list(tabs.children)\n",
    "    children.append(HTML(markdown_html))\n",
    "    tabs.children = tuple(children)\n",
    "    tabs.set_title(ii, repo)\n",
    "tabs"
   ]
  },
  {
   "cell_type": "markdown",
   "id": "d2512e4c",
   "metadata": {
    "editable": true,
    "papermill": {
     "duration": 0.017744,
     "end_time": "2025-05-17T01:30:58.766652",
     "exception": false,
     "start_time": "2025-05-17T01:30:58.748908",
     "status": "completed"
    },
    "slideshow": {
     "slide_type": ""
    },
    "tags": []
   },
   "source": [
    "### A list of recent issues\n",
    "\n",
    "Below is a list of issues with recent activity in each repository. If they seem of interest\n",
    "to you, click on their links and jump in to participate!"
   ]
  },
  {
   "cell_type": "code",
   "execution_count": 28,
   "id": "9cb87bb8",
   "metadata": {
    "editable": true,
    "execution": {
     "iopub.execute_input": "2025-05-17T01:30:58.801233Z",
     "iopub.status.busy": "2025-05-17T01:30:58.800749Z",
     "iopub.status.idle": "2025-05-17T01:30:58.811740Z",
     "shell.execute_reply": "2025-05-17T01:30:58.811256Z"
    },
    "papermill": {
     "duration": 0.029286,
     "end_time": "2025-05-17T01:30:58.812770",
     "exception": false,
     "start_time": "2025-05-17T01:30:58.783484",
     "status": "completed"
    },
    "slideshow": {
     "slide_type": ""
    },
    "tags": [
     "remove_cell"
    ]
   },
   "outputs": [],
   "source": [
    "# Add comment count data to issues and PRs\n",
    "comment_counts = (\n",
    "    comments\n",
    "    .query(\"created_at > @start_date and created_at < @stop_date\")\n",
    "    .groupby(['org', 'repo', 'id_issue'])\n",
    "    .count().iloc[:, 0].to_frame()\n",
    ")\n",
    "comment_counts.columns = ['n_comments']\n",
    "comment_counts = comment_counts.reset_index()"
   ]
  },
  {
   "cell_type": "code",
   "execution_count": 29,
   "id": "c0906ab2",
   "metadata": {
    "editable": true,
    "execution": {
     "iopub.execute_input": "2025-05-17T01:30:58.847053Z",
     "iopub.status.busy": "2025-05-17T01:30:58.846853Z",
     "iopub.status.idle": "2025-05-17T01:30:58.969442Z",
     "shell.execute_reply": "2025-05-17T01:30:58.968734Z"
    },
    "papermill": {
     "duration": 0.142092,
     "end_time": "2025-05-17T01:30:58.971524",
     "exception": false,
     "start_time": "2025-05-17T01:30:58.829432",
     "status": "completed"
    },
    "slideshow": {
     "slide_type": ""
    },
    "tags": [
     "hide_input"
    ],
    "toc-hr-collapsed": false
   },
   "outputs": [
    {
     "data": {
      "text/markdown": [
       "Here are the top 5 active issues in each repository in the last 90 days"
      ],
      "text/plain": [
       "<IPython.core.display.Markdown object>"
      ]
     },
     "metadata": {},
     "output_type": "display_data"
    },
    {
     "data": {
      "application/vnd.jupyter.widget-view+json": {
       "model_id": "dd1e865867544f408cf20033a27bd43c",
       "version_major": 2,
       "version_minor": 0
      },
      "text/plain": [
       "Tab(children=(HTML(value='<h5><a href=\"https://github.com/jupyter-server/enterprise_gateway\">jupyter-server/en…"
      ]
     },
     "metadata": {},
     "output_type": "display_data"
    }
   ],
   "source": [
    "n_plot = 5\n",
    "tabs = widgets.Tab(children=[])\n",
    "\n",
    "for ii, (repo, i_issues) in enumerate(comment_counts.query(\"repo in @use_repos\").groupby('repo')):\n",
    "    \n",
    "    issue_md = []\n",
    "    issue_md.append(\"\")\n",
    "    issue_md.append(f\"##### [{github_org}/{repo}](https://github.com/{github_org}/{repo})\")\n",
    "\n",
    "    top_issues = i_issues.sort_values('n_comments', ascending=False).head(n_plot)\n",
    "    top_issue_list = pd.merge(issues, top_issues, left_on=['org', 'repo', 'id_issue'], right_on=['org', 'repo', 'id_issue'])\n",
    "    for _, issue in top_issue_list.sort_values('n_comments', ascending=False).head(n_plot).iterrows():\n",
    "        user_name = issue['login']\n",
    "        user_url = author_url(user_name)\n",
    "        issue_number = issue['number']\n",
    "        issue_html = issue['url']\n",
    "        issue_title = issue['title']\n",
    "\n",
    "        text = f\"* [(#{issue_number})]({issue_html}): _{issue_title}_ by **[@{user_name}]({user_url})**\"\n",
    "        issue_md.append(text)\n",
    "\n",
    "    issue_md.append('')\n",
    "    md_html = HTML(markdown('\\n'.join(issue_md)))\n",
    "\n",
    "    children = list(tabs.children)\n",
    "    children.append(HTML(markdown('\\n'.join(issue_md))))\n",
    "    tabs.children = tuple(children)\n",
    "    tabs.set_title(ii, repo)\n",
    "    \n",
    "display(Markdown(f\"Here are the top {n_plot} active issues in each repository in the last {n_days} days\"))\n",
    "display(tabs)"
   ]
  }
 ],
 "metadata": {
  "kernelspec": {
   "display_name": "Python 3 (ipykernel)",
   "language": "python",
   "name": "python3"
  },
  "language_info": {
   "codemirror_mode": {
    "name": "ipython",
    "version": 3
   },
   "file_extension": ".py",
   "mimetype": "text/x-python",
   "name": "python",
   "nbconvert_exporter": "python",
   "pygments_lexer": "ipython3",
   "version": "3.9.22"
  },
  "papermill": {
   "default_parameters": {},
   "duration": 3.97374,
   "end_time": "2025-05-17T01:30:59.307208",
   "environment_variables": {},
   "exception": null,
   "input_path": "./templates/org_report.ipynb",
   "output_path": "generated/book/jupyter-server.ipynb",
   "parameters": {
    "github_org": "jupyter-server",
    "n_days": 90
   },
   "start_time": "2025-05-17T01:30:55.333468",
   "version": "2.6.0"
  },
  "widgets": {
   "application/vnd.jupyter.widget-state+json": {
    "state": {
     "035e540b4dc748a3af73268433c20055": {
      "model_module": "@jupyter-widgets/base",
      "model_module_version": "2.0.0",
      "model_name": "LayoutModel",
      "state": {
       "_model_module": "@jupyter-widgets/base",
       "_model_module_version": "2.0.0",
       "_model_name": "LayoutModel",
       "_view_count": null,
       "_view_module": "@jupyter-widgets/base",
       "_view_module_version": "2.0.0",
       "_view_name": "LayoutView",
       "align_content": null,
       "align_items": null,
       "align_self": null,
       "border_bottom": null,
       "border_left": null,
       "border_right": null,
       "border_top": null,
       "bottom": null,
       "display": null,
       "flex": null,
       "flex_flow": null,
       "grid_area": null,
       "grid_auto_columns": null,
       "grid_auto_flow": null,
       "grid_auto_rows": null,
       "grid_column": null,
       "grid_gap": null,
       "grid_row": null,
       "grid_template_areas": null,
       "grid_template_columns": null,
       "grid_template_rows": null,
       "height": null,
       "justify_content": null,
       "justify_items": null,
       "left": null,
       "margin": null,
       "max_height": null,
       "max_width": null,
       "min_height": null,
       "min_width": null,
       "object_fit": null,
       "object_position": null,
       "order": null,
       "overflow": null,
       "padding": null,
       "right": null,
       "top": null,
       "visibility": null,
       "width": null
      }
     },
     "04162d1d6c78445a8b3051220a4e6f93": {
      "model_module": "@jupyter-widgets/base",
      "model_module_version": "2.0.0",
      "model_name": "LayoutModel",
      "state": {
       "_model_module": "@jupyter-widgets/base",
       "_model_module_version": "2.0.0",
       "_model_name": "LayoutModel",
       "_view_count": null,
       "_view_module": "@jupyter-widgets/base",
       "_view_module_version": "2.0.0",
       "_view_name": "LayoutView",
       "align_content": null,
       "align_items": null,
       "align_self": null,
       "border_bottom": null,
       "border_left": null,
       "border_right": null,
       "border_top": null,
       "bottom": null,
       "display": null,
       "flex": null,
       "flex_flow": null,
       "grid_area": null,
       "grid_auto_columns": null,
       "grid_auto_flow": null,
       "grid_auto_rows": null,
       "grid_column": null,
       "grid_gap": null,
       "grid_row": null,
       "grid_template_areas": null,
       "grid_template_columns": null,
       "grid_template_rows": null,
       "height": null,
       "justify_content": null,
       "justify_items": null,
       "left": null,
       "margin": null,
       "max_height": null,
       "max_width": null,
       "min_height": null,
       "min_width": null,
       "object_fit": null,
       "object_position": null,
       "order": null,
       "overflow": null,
       "padding": null,
       "right": null,
       "top": null,
       "visibility": null,
       "width": null
      }
     },
     "0445a581704341ad8f1d1702a6e0e352": {
      "model_module": "@jupyter-widgets/controls",
      "model_module_version": "2.0.0",
      "model_name": "HTMLStyleModel",
      "state": {
       "_model_module": "@jupyter-widgets/controls",
       "_model_module_version": "2.0.0",
       "_model_name": "HTMLStyleModel",
       "_view_count": null,
       "_view_module": "@jupyter-widgets/base",
       "_view_module_version": "2.0.0",
       "_view_name": "StyleView",
       "background": null,
       "description_width": "",
       "font_size": null,
       "text_color": null
      }
     },
     "04ea25217cc94024afaa0267ce7e5368": {
      "model_module": "@jupyter-widgets/controls",
      "model_module_version": "2.0.0",
      "model_name": "HTMLModel",
      "state": {
       "_dom_classes": [],
       "_model_module": "@jupyter-widgets/controls",
       "_model_module_version": "2.0.0",
       "_model_name": "HTMLModel",
       "_view_count": null,
       "_view_module": "@jupyter-widgets/controls",
       "_view_module_version": "2.0.0",
       "_view_name": "HTMLView",
       "description": "",
       "description_allow_html": false,
       "layout": "IPY_MODEL_d60f1bd91dc14d7d93eab737cae0dc46",
       "placeholder": "​",
       "style": "IPY_MODEL_0445a581704341ad8f1d1702a6e0e352",
       "tabbable": null,
       "tooltip": null,
       "value": "<h5><a href=\"https://github.com/jupyter-server/jupyverse\">jupyter-server/jupyverse</a></h5>\n<ul>\n<li><a href=\"https://github.com/jupyter-server/jupyverse/issues/471\">(#471)</a>: <em>Move jupyverse to Jupyter PyPI organization</em> by <strong><a href=\"https://github.com/Zsailer\">@Zsailer</a></strong></li>\n<li><a href=\"https://github.com/jupyter-server/jupyverse/issues/236\">(#236)</a>: <em>Contents root_dir</em> by <strong><a href=\"https://github.com/davidbrochart\">@davidbrochart</a></strong></li>\n<li><a href=\"https://github.com/jupyter-server/jupyverse/issues/444\">(#444)</a>: <em>Rename mentions to <code>fps-</code>?</em> by <strong><a href=\"https://github.com/jtpio\">@jtpio</a></strong></li>\n</ul>"
      }
     },
     "0c6fe87cd89c45d09712f4a122bd7065": {
      "model_module": "@jupyter-widgets/base",
      "model_module_version": "2.0.0",
      "model_name": "LayoutModel",
      "state": {
       "_model_module": "@jupyter-widgets/base",
       "_model_module_version": "2.0.0",
       "_model_name": "LayoutModel",
       "_view_count": null,
       "_view_module": "@jupyter-widgets/base",
       "_view_module_version": "2.0.0",
       "_view_name": "LayoutView",
       "align_content": null,
       "align_items": null,
       "align_self": null,
       "border_bottom": null,
       "border_left": null,
       "border_right": null,
       "border_top": null,
       "bottom": null,
       "display": null,
       "flex": null,
       "flex_flow": null,
       "grid_area": null,
       "grid_auto_columns": null,
       "grid_auto_flow": null,
       "grid_auto_rows": null,
       "grid_column": null,
       "grid_gap": null,
       "grid_row": null,
       "grid_template_areas": null,
       "grid_template_columns": null,
       "grid_template_rows": null,
       "height": null,
       "justify_content": null,
       "justify_items": null,
       "left": null,
       "margin": null,
       "max_height": null,
       "max_width": null,
       "min_height": null,
       "min_width": null,
       "object_fit": null,
       "object_position": null,
       "order": null,
       "overflow": null,
       "padding": null,
       "right": null,
       "top": null,
       "visibility": null,
       "width": null
      }
     },
     "0d65466908e74910afb1956a02f938de": {
      "model_module": "@jupyter-widgets/controls",
      "model_module_version": "2.0.0",
      "model_name": "HTMLStyleModel",
      "state": {
       "_model_module": "@jupyter-widgets/controls",
       "_model_module_version": "2.0.0",
       "_model_name": "HTMLStyleModel",
       "_view_count": null,
       "_view_module": "@jupyter-widgets/base",
       "_view_module_version": "2.0.0",
       "_view_name": "StyleView",
       "background": null,
       "description_width": "",
       "font_size": null,
       "text_color": null
      }
     },
     "17b0b2d6cc9d42fca40f2a21a40905eb": {
      "model_module": "@jupyter-widgets/controls",
      "model_module_version": "2.0.0",
      "model_name": "HTMLModel",
      "state": {
       "_dom_classes": [],
       "_model_module": "@jupyter-widgets/controls",
       "_model_module_version": "2.0.0",
       "_model_name": "HTMLModel",
       "_view_count": null,
       "_view_module": "@jupyter-widgets/controls",
       "_view_module_version": "2.0.0",
       "_view_name": "HTMLView",
       "description": "",
       "description_allow_html": false,
       "layout": "IPY_MODEL_04162d1d6c78445a8b3051220a4e6f93",
       "placeholder": "​",
       "style": "IPY_MODEL_d63c13cc24cd4b318a953e596b181ee4",
       "tabbable": null,
       "tooltip": null,
       "value": "<h5><a href=\"https://github.com/jupyter-server/team-compass\">jupyter-server/team-compass</a></h5>\n<ul>\n<li><a href=\"https://github.com/jupyter-server/team-compass/issues/73\">(#73)</a>: <em>Meeting Notes 2025</em> by <strong><a href=\"https://github.com/Zsailer\">@Zsailer</a></strong></li>\n<li><a href=\"https://github.com/jupyter-server/team-compass/issues/78\">(#78)</a>: <em>Vote: move <code>pycrdt</code> and <code>pycrdt-websocket</code> to <code>y-crdt</code> organization</em> by <strong><a href=\"https://github.com/davidbrochart\">@davidbrochart</a></strong></li>\n<li><a href=\"https://github.com/jupyter-server/team-compass/issues/77\">(#77)</a>: <em>Move <code>pycrdt</code> to <code>y-crdt</code> organization</em> by <strong><a href=\"https://github.com/davidbrochart\">@davidbrochart</a></strong></li>\n<li><a href=\"https://github.com/jupyter-server/team-compass/issues/79\">(#79)</a>: <em>Proposal: move github-activity into this GitHub organization</em> by <strong><a href=\"https://github.com/choldgraf\">@choldgraf</a></strong></li>\n<li><a href=\"https://github.com/jupyter-server/team-compass/issues/72\">(#72)</a>: <em>Support running kernels in multiple locations (locally or remote) simultaneously.</em> by <strong><a href=\"https://github.com/ojarjur\">@ojarjur</a></strong></li>\n</ul>"
      }
     },
     "1efcd32d3a8b48a1943231eb8d96292b": {
      "model_module": "@jupyter-widgets/base",
      "model_module_version": "2.0.0",
      "model_name": "LayoutModel",
      "state": {
       "_model_module": "@jupyter-widgets/base",
       "_model_module_version": "2.0.0",
       "_model_name": "LayoutModel",
       "_view_count": null,
       "_view_module": "@jupyter-widgets/base",
       "_view_module_version": "2.0.0",
       "_view_name": "LayoutView",
       "align_content": null,
       "align_items": null,
       "align_self": null,
       "border_bottom": null,
       "border_left": null,
       "border_right": null,
       "border_top": null,
       "bottom": null,
       "display": null,
       "flex": null,
       "flex_flow": null,
       "grid_area": null,
       "grid_auto_columns": null,
       "grid_auto_flow": null,
       "grid_auto_rows": null,
       "grid_column": null,
       "grid_gap": null,
       "grid_row": null,
       "grid_template_areas": null,
       "grid_template_columns": null,
       "grid_template_rows": null,
       "height": null,
       "justify_content": null,
       "justify_items": null,
       "left": null,
       "margin": null,
       "max_height": null,
       "max_width": null,
       "min_height": null,
       "min_width": null,
       "object_fit": null,
       "object_position": null,
       "order": null,
       "overflow": null,
       "padding": null,
       "right": null,
       "top": null,
       "visibility": null,
       "width": null
      }
     },
     "2176760ad5754c37a23445846ec06063": {
      "model_module": "@jupyter-widgets/base",
      "model_module_version": "2.0.0",
      "model_name": "LayoutModel",
      "state": {
       "_model_module": "@jupyter-widgets/base",
       "_model_module_version": "2.0.0",
       "_model_name": "LayoutModel",
       "_view_count": null,
       "_view_module": "@jupyter-widgets/base",
       "_view_module_version": "2.0.0",
       "_view_name": "LayoutView",
       "align_content": null,
       "align_items": null,
       "align_self": null,
       "border_bottom": null,
       "border_left": null,
       "border_right": null,
       "border_top": null,
       "bottom": null,
       "display": null,
       "flex": null,
       "flex_flow": null,
       "grid_area": null,
       "grid_auto_columns": null,
       "grid_auto_flow": null,
       "grid_auto_rows": null,
       "grid_column": null,
       "grid_gap": null,
       "grid_row": null,
       "grid_template_areas": null,
       "grid_template_columns": null,
       "grid_template_rows": null,
       "height": null,
       "justify_content": null,
       "justify_items": null,
       "left": null,
       "margin": null,
       "max_height": null,
       "max_width": null,
       "min_height": null,
       "min_width": null,
       "object_fit": null,
       "object_position": null,
       "order": null,
       "overflow": null,
       "padding": null,
       "right": null,
       "top": null,
       "visibility": null,
       "width": null
      }
     },
     "285bcb92085045a3a3762e96cbb75d9d": {
      "model_module": "@jupyter-widgets/controls",
      "model_module_version": "2.0.0",
      "model_name": "HTMLModel",
      "state": {
       "_dom_classes": [],
       "_model_module": "@jupyter-widgets/controls",
       "_model_module_version": "2.0.0",
       "_model_name": "HTMLModel",
       "_view_count": null,
       "_view_module": "@jupyter-widgets/controls",
       "_view_module_version": "2.0.0",
       "_view_name": "HTMLView",
       "description": "",
       "description_allow_html": false,
       "layout": "IPY_MODEL_4eb51bd344dc4a168d1cd0de9e4ae060",
       "placeholder": "​",
       "style": "IPY_MODEL_557811a8723f401ab61a5e5386e8fc75",
       "tabbable": null,
       "tooltip": null,
       "value": "<h4>Closed PRs for repo: <a href=\"https://github.com/jupyter-server/jupyter-scheduler\">jupyter-server/jupyter-scheduler</a></h4>\n<h5></h5>\n<ul>\n<li><a href=\"https://github.com/jupyter-server/jupyter-scheduler/issues/575\">(#575)</a>: <em>Add support for Python 3.13 version and remove support for Python  3.7 and 3.8 versions</em> by <strong><a href=\"https://github.com/asmita-sharma1625\">@asmita-sharma1625</a></strong> merged by <strong><a href=\"https://github.com/andrii-i\">@andrii-i</a></strong></li>\n<li><a href=\"https://github.com/jupyter-server/jupyter-scheduler/issues/576\">(#576)</a>: <em>Updated JupyterLab Classifier to JupyterLab 4, Bump actions/cache to v3</em> by <strong><a href=\"https://github.com/astitv-sh\">@astitv-sh</a></strong> merged by <strong><a href=\"https://github.com/andrii-i\">@andrii-i</a></strong></li>\n<li><a href=\"https://github.com/jupyter-server/jupyter-scheduler/issues/577\">(#577)</a>: <em>Remove \"RTC\" drive prefix from filepath added by jupyter-collaboration when using notebook scheduler widget</em> by <strong><a href=\"https://github.com/asmita-sharma1625\">@asmita-sharma1625</a></strong> merged by <strong><a href=\"https://github.com/andrii-i\">@andrii-i</a></strong></li>\n<li><a href=\"https://github.com/jupyter-server/jupyter-scheduler/issues/578\">(#578)</a>: <em>Async upload</em> by <strong><a href=\"https://github.com/andrii-i\">@andrii-i</a></strong> merged by <strong><a href=\"https://github.com/andrii-i\">@andrii-i</a></strong></li>\n<li><a href=\"https://github.com/jupyter-server/jupyter-scheduler/issues/585\">(#585)</a>: <em>bump fsspec version excluding 2025.3.1 that was yanked on PyPI</em> by <strong><a href=\"https://github.com/andrii-i\">@andrii-i</a></strong> merged by <strong><a href=\"https://github.com/andrii-i\">@andrii-i</a></strong></li>\n</ul>"
      }
     },
     "291302f9c6ad4fa28862f7a9e9134629": {
      "model_module": "@jupyter-widgets/base",
      "model_module_version": "2.0.0",
      "model_name": "LayoutModel",
      "state": {
       "_model_module": "@jupyter-widgets/base",
       "_model_module_version": "2.0.0",
       "_model_name": "LayoutModel",
       "_view_count": null,
       "_view_module": "@jupyter-widgets/base",
       "_view_module_version": "2.0.0",
       "_view_name": "LayoutView",
       "align_content": null,
       "align_items": null,
       "align_self": null,
       "border_bottom": null,
       "border_left": null,
       "border_right": null,
       "border_top": null,
       "bottom": null,
       "display": null,
       "flex": null,
       "flex_flow": null,
       "grid_area": null,
       "grid_auto_columns": null,
       "grid_auto_flow": null,
       "grid_auto_rows": null,
       "grid_column": null,
       "grid_gap": null,
       "grid_row": null,
       "grid_template_areas": null,
       "grid_template_columns": null,
       "grid_template_rows": null,
       "height": null,
       "justify_content": null,
       "justify_items": null,
       "left": null,
       "margin": null,
       "max_height": null,
       "max_width": null,
       "min_height": null,
       "min_width": null,
       "object_fit": null,
       "object_position": null,
       "order": null,
       "overflow": null,
       "padding": null,
       "right": null,
       "top": null,
       "visibility": null,
       "width": null
      }
     },
     "3047694b4e9a40828b090e5739896f74": {
      "model_module": "@jupyter-widgets/controls",
      "model_module_version": "2.0.0",
      "model_name": "HTMLModel",
      "state": {
       "_dom_classes": [],
       "_model_module": "@jupyter-widgets/controls",
       "_model_module_version": "2.0.0",
       "_model_name": "HTMLModel",
       "_view_count": null,
       "_view_module": "@jupyter-widgets/controls",
       "_view_module_version": "2.0.0",
       "_view_name": "HTMLView",
       "description": "",
       "description_allow_html": false,
       "layout": "IPY_MODEL_7937e61147b246c293de4794653daf67",
       "placeholder": "​",
       "style": "IPY_MODEL_7659af3dde324fcc8c10ab0657a41e46",
       "tabbable": null,
       "tooltip": null,
       "value": "<h4>Closed PRs for repo: <a href=\"https://github.com/jupyter-server/fps\">jupyter-server/fps</a></h4>\n<h5></h5>\n<ul>\n<li><a href=\"https://github.com/jupyter-server/fps/issues/95\">(#95)</a>: <em>[pre-commit.ci] pre-commit autoupdate</em> by <strong><a href=\"https://github.com/pre-commit-ci[bot]\">@pre-commit-ci[bot]</a></strong> merged by <strong><a href=\"https://github.com/davidbrochart\">@davidbrochart</a></strong></li>\n<li><a href=\"https://github.com/jupyter-server/fps/issues/101\">(#101)</a>: <em>Use TaskGroup from anyioutils</em> by <strong><a href=\"https://github.com/davidbrochart\">@davidbrochart</a></strong> merged by <strong><a href=\"https://github.com/davidbrochart\">@davidbrochart</a></strong></li>\n<li><a href=\"https://github.com/jupyter-server/fps/issues/102\">(#102)</a>: <em>Fix CLI</em> by <strong><a href=\"https://github.com/davidbrochart\">@davidbrochart</a></strong> merged by <strong><a href=\"https://github.com/davidbrochart\">@davidbrochart</a></strong></li>\n<li><a href=\"https://github.com/jupyter-server/fps/issues/104\">(#104)</a>: <em>Wait for server to be started</em> by <strong><a href=\"https://github.com/davidbrochart\">@davidbrochart</a></strong> merged by <strong><a href=\"https://github.com/davidbrochart\">@davidbrochart</a></strong></li>\n<li><a href=\"https://github.com/jupyter-server/fps/issues/105\">(#105)</a>: <em>Stop application when background tasks fail</em> by <strong><a href=\"https://github.com/davidbrochart\">@davidbrochart</a></strong> merged by <strong><a href=\"https://github.com/davidbrochart\">@davidbrochart</a></strong></li>\n<li><a href=\"https://github.com/jupyter-server/fps/issues/106\">(#106)</a>: <em>Bump anyioutils v0.7.0</em> by <strong><a href=\"https://github.com/davidbrochart\">@davidbrochart</a></strong> merged by <strong><a href=\"https://github.com/davidbrochart\">@davidbrochart</a></strong></li>\n<li><a href=\"https://github.com/jupyter-server/fps/issues/107\">(#107)</a>: <em>Add --show-config CLI option</em> by <strong><a href=\"https://github.com/davidbrochart\">@davidbrochart</a></strong> merged by <strong><a href=\"https://github.com/davidbrochart\">@davidbrochart</a></strong></li>\n<li><a href=\"https://github.com/jupyter-server/fps/issues/108\">(#108)</a>: <em>Add --help-all CLI option</em> by <strong><a href=\"https://github.com/davidbrochart\">@davidbrochart</a></strong> merged by <strong><a href=\"https://github.com/davidbrochart\">@davidbrochart</a></strong></li>\n<li><a href=\"https://github.com/jupyter-server/fps/issues/109\">(#109)</a>: <em>Support running on Trio</em> by <strong><a href=\"https://github.com/davidbrochart\">@davidbrochart</a></strong> merged by <strong><a href=\"https://github.com/davidbrochart\">@davidbrochart</a></strong></li>\n<li><a href=\"https://github.com/jupyter-server/fps/issues/110\">(#110)</a>: <em>Fix KeyboardInterrupt handling on Trio</em> by <strong><a href=\"https://github.com/davidbrochart\">@davidbrochart</a></strong> merged by <strong><a href=\"https://github.com/davidbrochart\">@davidbrochart</a></strong></li>\n<li><a href=\"https://github.com/jupyter-server/fps/issues/111\">(#111)</a>: <em>Require anycorn &gt;=0.18.1</em> by <strong><a href=\"https://github.com/davidbrochart\">@davidbrochart</a></strong> merged by <strong><a href=\"https://github.com/davidbrochart\">@davidbrochart</a></strong></li>\n<li><a href=\"https://github.com/jupyter-server/fps/issues/113\">(#113)</a>: <em>missing default values in cli.main</em> by <strong><a href=\"https://github.com/minrk\">@minrk</a></strong> merged by <strong><a href=\"https://github.com/davidbrochart\">@davidbrochart</a></strong></li>\n<li><a href=\"https://github.com/jupyter-server/fps/issues/114\">(#114)</a>: <em>Add .gitignore</em> by <strong><a href=\"https://github.com/davidbrochart\">@davidbrochart</a></strong> merged by <strong><a href=\"https://github.com/davidbrochart\">@davidbrochart</a></strong></li>\n<li><a href=\"https://github.com/jupyter-server/fps/issues/115\">(#115)</a>: <em>Add concurrency test for tasks</em> by <strong><a href=\"https://github.com/davidbrochart\">@davidbrochart</a></strong> merged by <strong><a href=\"https://github.com/davidbrochart\">@davidbrochart</a></strong></li>\n<li><a href=\"https://github.com/jupyter-server/fps/issues/116\">(#116)</a>: <em>Add Context</em> by <strong><a href=\"https://github.com/davidbrochart\">@davidbrochart</a></strong> merged by <strong><a href=\"https://github.com/davidbrochart\">@davidbrochart</a></strong></li>\n<li><a href=\"https://github.com/jupyter-server/fps/issues/117\">(#117)</a>: <em>Add optional <code>teardown_callback</code> parameter to <code>Context.put()</code></em> by <strong><a href=\"https://github.com/davidbrochart\">@davidbrochart</a></strong> merged by <strong><a href=\"https://github.com/davidbrochart\">@davidbrochart</a></strong></li>\n<li><a href=\"https://github.com/jupyter-server/fps/issues/118\">(#118)</a>: <em>Convert repo to use releaser from repo</em> by <strong><a href=\"https://github.com/davidbrochart\">@davidbrochart</a></strong> merged by <strong><a href=\"https://github.com/Zsailer\">@Zsailer</a></strong></li>\n<li><a href=\"https://github.com/jupyter-server/fps/issues/119\">(#119)</a>: <em>Add context documentation</em> by <strong><a href=\"https://github.com/davidbrochart\">@davidbrochart</a></strong> merged by <strong><a href=\"https://github.com/davidbrochart\">@davidbrochart</a></strong></li>\n<li><a href=\"https://github.com/jupyter-server/fps/issues/120\">(#120)</a>: <em>Update to latest Jupyter Release Actions</em> by <strong><a href=\"https://github.com/Zsailer\">@Zsailer</a></strong> merged by <strong><a href=\"https://github.com/davidbrochart\">@davidbrochart</a></strong></li>\n<li><a href=\"https://github.com/jupyter-server/fps/issues/121\">(#121)</a>: <em>Revert \"Update to latest Jupyter Release Actions\"</em> by <strong><a href=\"https://github.com/Zsailer\">@Zsailer</a></strong> merged by <strong><a href=\"https://github.com/Zsailer\">@Zsailer</a></strong></li>\n<li><a href=\"https://github.com/jupyter-server/fps/issues/122\">(#122)</a>: <em>Export SharedValue</em> by <strong><a href=\"https://github.com/davidbrochart\">@davidbrochart</a></strong> merged by <strong><a href=\"https://github.com/davidbrochart\">@davidbrochart</a></strong></li>\n<li><a href=\"https://github.com/jupyter-server/fps/issues/123\">(#123)</a>: <em>Add Signal</em> by <strong><a href=\"https://github.com/davidbrochart\">@davidbrochart</a></strong> merged by <strong><a href=\"https://github.com/davidbrochart\">@davidbrochart</a></strong></li>\n<li><a href=\"https://github.com/jupyter-server/fps/issues/124\">(#124)</a>: <em>Add Signal iterator</em> by <strong><a href=\"https://github.com/davidbrochart\">@davidbrochart</a></strong> merged by <strong><a href=\"https://github.com/davidbrochart\">@davidbrochart</a></strong></li>\n<li><a href=\"https://github.com/jupyter-server/fps/issues/125\">(#125)</a>: <em>Add Signal documentation</em> by <strong><a href=\"https://github.com/davidbrochart\">@davidbrochart</a></strong> merged by <strong><a href=\"https://github.com/davidbrochart\">@davidbrochart</a></strong></li>\n<li><a href=\"https://github.com/jupyter-server/fps/issues/126\">(#126)</a>: <em>Rework context and shared value, add documentation</em> by <strong><a href=\"https://github.com/davidbrochart\">@davidbrochart</a></strong> merged by <strong><a href=\"https://github.com/davidbrochart\">@davidbrochart</a></strong></li>\n<li><a href=\"https://github.com/jupyter-server/fps/issues/127\">(#127)</a>: <em>Remove duplicated code</em> by <strong><a href=\"https://github.com/davidbrochart\">@davidbrochart</a></strong> merged by <strong><a href=\"https://github.com/davidbrochart\">@davidbrochart</a></strong></li>\n<li><a href=\"https://github.com/jupyter-server/fps/issues/128\">(#128)</a>: <em>Use dependency groups for <code>test</code> and <code>docs</code></em> by <strong><a href=\"https://github.com/davidbrochart\">@davidbrochart</a></strong> merged by <strong><a href=\"https://github.com/davidbrochart\">@davidbrochart</a></strong></li>\n<li><a href=\"https://github.com/jupyter-server/fps/issues/129\">(#129)</a>: <em>Add <code>Module</code> API documentation</em> by <strong><a href=\"https://github.com/davidbrochart\">@davidbrochart</a></strong> merged by <strong><a href=\"https://github.com/davidbrochart\">@davidbrochart</a></strong></li>\n</ul>"
      }
     },
     "360b5c98dedb483ea0d1cda42ec84abf": {
      "model_module": "@jupyter-widgets/controls",
      "model_module_version": "2.0.0",
      "model_name": "HTMLModel",
      "state": {
       "_dom_classes": [],
       "_model_module": "@jupyter-widgets/controls",
       "_model_module_version": "2.0.0",
       "_model_name": "HTMLModel",
       "_view_count": null,
       "_view_module": "@jupyter-widgets/controls",
       "_view_module_version": "2.0.0",
       "_view_name": "HTMLView",
       "description": "",
       "description_allow_html": false,
       "layout": "IPY_MODEL_67d13e64ba5f436c864fe7d00a0d28f9",
       "placeholder": "​",
       "style": "IPY_MODEL_a31abf5b4fbe44ab868646d054c7bfcf",
       "tabbable": null,
       "tooltip": null,
       "value": "<h5><a href=\"https://github.com/jupyter-server/jupyter-scheduler\">jupyter-server/jupyter-scheduler</a></h5>\n<ul>\n<li><a href=\"https://github.com/jupyter-server/jupyter-scheduler/issues/328\">(#328)</a>: <em>Automatically delete all old Notebook jobs</em> by <strong><a href=\"https://github.com/nakvic\">@nakvic</a></strong></li>\n<li><a href=\"https://github.com/jupyter-server/jupyter-scheduler/issues/497\">(#497)</a>: <em>Empty \"Section Navigation\" in user docs</em> by <strong><a href=\"https://github.com/andrii-i\">@andrii-i</a></strong></li>\n<li><a href=\"https://github.com/jupyter-server/jupyter-scheduler/issues/563\">(#563)</a>: <em>Manage the culling of Jupyter Server with scheduled jobs to support JupyterHub</em> by <strong><a href=\"https://github.com/thomasLeclaire\">@thomasLeclaire</a></strong></li>\n<li><a href=\"https://github.com/jupyter-server/jupyter-scheduler/issues/560\">(#560)</a>: <em>JupyterLab 4 classifier is missing</em> by <strong><a href=\"https://github.com/krassowski\">@krassowski</a></strong></li>\n<li><a href=\"https://github.com/jupyter-server/jupyter-scheduler/issues/414\">(#414)</a>: <em>UI for event driven notebook execution</em> by <strong><a href=\"https://github.com/andrii-i\">@andrii-i</a></strong></li>\n</ul>"
      }
     },
     "3635ec7cb3e546698386145af7a5f55f": {
      "model_module": "@jupyter-widgets/controls",
      "model_module_version": "2.0.0",
      "model_name": "HTMLModel",
      "state": {
       "_dom_classes": [],
       "_model_module": "@jupyter-widgets/controls",
       "_model_module_version": "2.0.0",
       "_model_name": "HTMLModel",
       "_view_count": null,
       "_view_module": "@jupyter-widgets/controls",
       "_view_module_version": "2.0.0",
       "_view_name": "HTMLView",
       "description": "",
       "description_allow_html": false,
       "layout": "IPY_MODEL_0c6fe87cd89c45d09712f4a122bd7065",
       "placeholder": "​",
       "style": "IPY_MODEL_aa6f32f0ee554f508db753ecf8018f1a",
       "tabbable": null,
       "tooltip": null,
       "value": "<h4>Closed PRs for repo: <a href=\"https://github.com/jupyter-server/jupyter_server_terminals\">jupyter-server/jupyter_server_terminals</a></h4>\n<h5></h5>\n<ul>\n<li><a href=\"https://github.com/jupyter-server/jupyter_server_terminals/issues/109\">(#109)</a>: <em>allow async authorization</em> by <strong><a href=\"https://github.com/Zsailer\">@Zsailer</a></strong> merged by <strong><a href=\"https://github.com/Zsailer\">@Zsailer</a></strong></li>\n</ul>"
      }
     },
     "3871125987df4f1b875cb7e5b38c77aa": {
      "model_module": "@jupyter-widgets/base",
      "model_module_version": "2.0.0",
      "model_name": "LayoutModel",
      "state": {
       "_model_module": "@jupyter-widgets/base",
       "_model_module_version": "2.0.0",
       "_model_name": "LayoutModel",
       "_view_count": null,
       "_view_module": "@jupyter-widgets/base",
       "_view_module_version": "2.0.0",
       "_view_name": "LayoutView",
       "align_content": null,
       "align_items": null,
       "align_self": null,
       "border_bottom": null,
       "border_left": null,
       "border_right": null,
       "border_top": null,
       "bottom": null,
       "display": null,
       "flex": null,
       "flex_flow": null,
       "grid_area": null,
       "grid_auto_columns": null,
       "grid_auto_flow": null,
       "grid_auto_rows": null,
       "grid_column": null,
       "grid_gap": null,
       "grid_row": null,
       "grid_template_areas": null,
       "grid_template_columns": null,
       "grid_template_rows": null,
       "height": null,
       "justify_content": null,
       "justify_items": null,
       "left": null,
       "margin": null,
       "max_height": null,
       "max_width": null,
       "min_height": null,
       "min_width": null,
       "object_fit": null,
       "object_position": null,
       "order": null,
       "overflow": null,
       "padding": null,
       "right": null,
       "top": null,
       "visibility": null,
       "width": null
      }
     },
     "38f26000c48b47ef8c6ac3080b700ff4": {
      "model_module": "@jupyter-widgets/controls",
      "model_module_version": "2.0.0",
      "model_name": "HTMLModel",
      "state": {
       "_dom_classes": [],
       "_model_module": "@jupyter-widgets/controls",
       "_model_module_version": "2.0.0",
       "_model_name": "HTMLModel",
       "_view_count": null,
       "_view_module": "@jupyter-widgets/controls",
       "_view_module_version": "2.0.0",
       "_view_name": "HTMLView",
       "description": "",
       "description_allow_html": false,
       "layout": "IPY_MODEL_a18f79f3538b4030b66c806d495c8d9b",
       "placeholder": "​",
       "style": "IPY_MODEL_635b979e119a4d92abdbf1396248506b",
       "tabbable": null,
       "tooltip": null,
       "value": "<h5><a href=\"https://github.com/jupyter-server/team-compass\">jupyter-server/team-compass</a></h5>\n<ul>\n<li><a href=\"https://github.com/jupyter-server/team-compass/issues/73\">(#73)</a>: <em>Meeting Notes 2025</em> by <strong><a href=\"https://github.com/Zsailer\">@Zsailer</a></strong></li>\n<li><a href=\"https://github.com/jupyter-server/team-compass/issues/78\">(#78)</a>: <em>Vote: move <code>pycrdt</code> and <code>pycrdt-websocket</code> to <code>y-crdt</code> organization</em> by <strong><a href=\"https://github.com/davidbrochart\">@davidbrochart</a></strong></li>\n<li><a href=\"https://github.com/jupyter-server/team-compass/issues/77\">(#77)</a>: <em>Move <code>pycrdt</code> to <code>y-crdt</code> organization</em> by <strong><a href=\"https://github.com/davidbrochart\">@davidbrochart</a></strong></li>\n<li><a href=\"https://github.com/jupyter-server/team-compass/issues/79\">(#79)</a>: <em>Proposal: move github-activity into this GitHub organization</em> by <strong><a href=\"https://github.com/choldgraf\">@choldgraf</a></strong></li>\n<li><a href=\"https://github.com/jupyter-server/team-compass/issues/72\">(#72)</a>: <em>Support running kernels in multiple locations (locally or remote) simultaneously.</em> by <strong><a href=\"https://github.com/ojarjur\">@ojarjur</a></strong></li>\n</ul>"
      }
     },
     "3a2b00a1d1454fa1a9cb5641e94437ab": {
      "model_module": "@jupyter-widgets/controls",
      "model_module_version": "2.0.0",
      "model_name": "HTMLModel",
      "state": {
       "_dom_classes": [],
       "_model_module": "@jupyter-widgets/controls",
       "_model_module_version": "2.0.0",
       "_model_name": "HTMLModel",
       "_view_count": null,
       "_view_module": "@jupyter-widgets/controls",
       "_view_module_version": "2.0.0",
       "_view_name": "HTMLView",
       "description": "",
       "description_allow_html": false,
       "layout": "IPY_MODEL_2176760ad5754c37a23445846ec06063",
       "placeholder": "​",
       "style": "IPY_MODEL_cbb6ce2f0c394bb49de584ccf62eded1",
       "tabbable": null,
       "tooltip": null,
       "value": "<h4>Closed PRs for repo: <a href=\"https://github.com/jupyter-server/jupyter_server\">jupyter-server/jupyter_server</a></h4>\n<h5></h5>\n<ul>\n<li><a href=\"https://github.com/jupyter-server/jupyter_server/issues/1494\">(#1494)</a>: <em>display_url: Don't duplicate public_url and local_url if they are the same</em> by <strong><a href=\"https://github.com/manics\">@manics</a></strong> merged by <strong><a href=\"https://github.com/Zsailer\">@Zsailer</a></strong></li>\n<li><a href=\"https://github.com/jupyter-server/jupyter_server/issues/1499\">(#1499)</a>: <em>Update Contribution Page for Jupyter Server</em> by <strong><a href=\"https://github.com/kjayan\">@kjayan</a></strong> merged by <strong><a href=\"https://github.com/vidartf\">@vidartf</a></strong></li>\n<li><a href=\"https://github.com/jupyter-server/jupyter_server/issues/1500\">(#1500)</a>: <em>Fix for #1479 : Incorrect usage of i18n format</em> by <strong><a href=\"https://github.com/kjayan\">@kjayan</a></strong> merged by <strong><a href=\"https://github.com/vidartf\">@vidartf</a></strong></li>\n<li><a href=\"https://github.com/jupyter-server/jupyter_server/issues/1505\">(#1505)</a>: <em>Update Security Section in the Jupyter Server Documentation</em> by <strong><a href=\"https://github.com/kjayan\">@kjayan</a></strong> merged by <strong><a href=\"https://github.com/Zsailer\">@Zsailer</a></strong></li>\n<li><a href=\"https://github.com/jupyter-server/jupyter_server/issues/1508\">(#1508)</a>: <em>Update websocket-protocols documentation to reflect implementation</em> by <strong><a href=\"https://github.com/ark-1\">@ark-1</a></strong> merged by <strong><a href=\"https://github.com/Zsailer\">@Zsailer</a></strong></li>\n<li><a href=\"https://github.com/jupyter-server/jupyter_server/issues/1509\">(#1509)</a>: _ Validate extension name before toggling through CLI_ by <strong><a href=\"https://github.com/Darshan808\">@Darshan808</a></strong> merged by <strong><a href=\"https://github.com/afshin\">@afshin</a></strong></li>\n<li><a href=\"https://github.com/jupyter-server/jupyter_server/issues/1510\">(#1510)</a>: <em>tests: install test-functional requirements for Jupytext downstream tests</em> by <strong><a href=\"https://github.com/MaicoTimmerman\">@MaicoTimmerman</a></strong> merged by <strong><a href=\"https://github.com/Zsailer\">@Zsailer</a></strong></li>\n<li><a href=\"https://github.com/jupyter-server/jupyter_server/issues/1513\">(#1513)</a>: <em>Check file permissions before making tmp file</em> by <strong><a href=\"https://github.com/RRosio\">@RRosio</a></strong> merged by <strong><a href=\"https://github.com/afshin\">@afshin</a></strong></li>\n<li><a href=\"https://github.com/jupyter-server/jupyter_server/issues/1516\">(#1516)</a>: <em>Fallback to direct write for readonly dirs and use temp path for checkpoints</em> by <strong><a href=\"https://github.com/Darshan808\">@Darshan808</a></strong> merged by <strong><a href=\"https://github.com/afshin\">@afshin</a></strong></li>\n<li><a href=\"https://github.com/jupyter-server/jupyter_server/issues/1517\">(#1517)</a>: <em>Update meetings notes link and zoom link</em> by <strong><a href=\"https://github.com/krassowski\">@krassowski</a></strong> merged by <strong><a href=\"https://github.com/minrk\">@minrk</a></strong></li>\n<li><a href=\"https://github.com/jupyter-server/jupyter_server/issues/1522\">(#1522)</a>: <em>Turn ExtensionPoint class into a LoggingConfigurable to enable logging</em> by <strong><a href=\"https://github.com/Zsailer\">@Zsailer</a></strong> merged by <strong><a href=\"https://github.com/Zsailer\">@Zsailer</a></strong></li>\n</ul>"
      }
     },
     "3d044fac6858424da8065ec0d0a16feb": {
      "model_module": "@jupyter-widgets/controls",
      "model_module_version": "2.0.0",
      "model_name": "HTMLStyleModel",
      "state": {
       "_model_module": "@jupyter-widgets/controls",
       "_model_module_version": "2.0.0",
       "_model_name": "HTMLStyleModel",
       "_view_count": null,
       "_view_module": "@jupyter-widgets/base",
       "_view_module_version": "2.0.0",
       "_view_name": "StyleView",
       "background": null,
       "description_width": "",
       "font_size": null,
       "text_color": null
      }
     },
     "3eebed348dd541b1aa67613ff05b3114": {
      "model_module": "@jupyter-widgets/controls",
      "model_module_version": "2.0.0",
      "model_name": "HTMLModel",
      "state": {
       "_dom_classes": [],
       "_model_module": "@jupyter-widgets/controls",
       "_model_module_version": "2.0.0",
       "_model_name": "HTMLModel",
       "_view_count": null,
       "_view_module": "@jupyter-widgets/controls",
       "_view_module_version": "2.0.0",
       "_view_name": "HTMLView",
       "description": "",
       "description_allow_html": false,
       "layout": "IPY_MODEL_6b8573a3a7b1455d94f2eb9cf86eeb0c",
       "placeholder": "​",
       "style": "IPY_MODEL_e58b32b5621249858e9c02228388cbc8",
       "tabbable": null,
       "tooltip": null,
       "value": "<h5><a href=\"https://github.com/jupyter-server/jupyter_server\">jupyter-server/jupyter_server</a></h5>\n<ul>\n<li><a href=\"https://github.com/jupyter-server/jupyter_server/issues/1519\">(#1519)</a>: <em>Time for a new release?</em> by <strong><a href=\"https://github.com/krassowski\">@krassowski</a></strong></li>\n<li><a href=\"https://github.com/jupyter-server/jupyter_server/issues/1428\">(#1428)</a>: <em>Fix outdated security documentation</em> by <strong><a href=\"https://github.com/colinpalmer\">@colinpalmer</a></strong></li>\n<li><a href=\"https://github.com/jupyter-server/jupyter_server/issues/1497\">(#1497)</a>: <em>AttributeError seen while running xeus-cpp</em> by <strong><a href=\"https://github.com/anutosh491\">@anutosh491</a></strong></li>\n<li><a href=\"https://github.com/jupyter-server/jupyter_server/issues/1524\">(#1524)</a>: <em>Crash when renaming large files</em> by <strong><a href=\"https://github.com/danyeaw\">@danyeaw</a></strong></li>\n<li><a href=\"https://github.com/jupyter-server/jupyter_server/issues/1476\">(#1476)</a>: <em>boostrap v3 is EOL upstream; migrate to bootstrap v5</em> by <strong><a href=\"https://github.com/juliangilbey\">@juliangilbey</a></strong></li>\n</ul>"
      }
     },
     "466bdf5a4972404d8ffb9c3066e19698": {
      "model_module": "@jupyter-widgets/controls",
      "model_module_version": "2.0.0",
      "model_name": "HTMLModel",
      "state": {
       "_dom_classes": [],
       "_model_module": "@jupyter-widgets/controls",
       "_model_module_version": "2.0.0",
       "_model_name": "HTMLModel",
       "_view_count": null,
       "_view_module": "@jupyter-widgets/controls",
       "_view_module_version": "2.0.0",
       "_view_name": "HTMLView",
       "description": "",
       "description_allow_html": false,
       "layout": "IPY_MODEL_524a328de5a44a94b0ce4b2205bdc364",
       "placeholder": "​",
       "style": "IPY_MODEL_b82663048e404580a945e9ce6ee48bc7",
       "tabbable": null,
       "tooltip": null,
       "value": "<h5><a href=\"https://github.com/jupyter-server/jupyter_server\">jupyter-server/jupyter_server</a></h5>\n<ul>\n<li><a href=\"https://github.com/jupyter-server/jupyter_server/issues/1519\">(#1519)</a>: <em>Time for a new release?</em> by <strong><a href=\"https://github.com/krassowski\">@krassowski</a></strong></li>\n<li><a href=\"https://github.com/jupyter-server/jupyter_server/issues/1428\">(#1428)</a>: <em>Fix outdated security documentation</em> by <strong><a href=\"https://github.com/colinpalmer\">@colinpalmer</a></strong></li>\n<li><a href=\"https://github.com/jupyter-server/jupyter_server/issues/1497\">(#1497)</a>: <em>AttributeError seen while running xeus-cpp</em> by <strong><a href=\"https://github.com/anutosh491\">@anutosh491</a></strong></li>\n<li><a href=\"https://github.com/jupyter-server/jupyter_server/issues/1524\">(#1524)</a>: <em>Crash when renaming large files</em> by <strong><a href=\"https://github.com/danyeaw\">@danyeaw</a></strong></li>\n<li><a href=\"https://github.com/jupyter-server/jupyter_server/issues/1476\">(#1476)</a>: <em>boostrap v3 is EOL upstream; migrate to bootstrap v5</em> by <strong><a href=\"https://github.com/juliangilbey\">@juliangilbey</a></strong></li>\n</ul>"
      }
     },
     "4bc1ec0397ec4e7185691d0bf57f90a2": {
      "model_module": "@jupyter-widgets/controls",
      "model_module_version": "2.0.0",
      "model_name": "HTMLModel",
      "state": {
       "_dom_classes": [],
       "_model_module": "@jupyter-widgets/controls",
       "_model_module_version": "2.0.0",
       "_model_name": "HTMLModel",
       "_view_count": null,
       "_view_module": "@jupyter-widgets/controls",
       "_view_module_version": "2.0.0",
       "_view_name": "HTMLView",
       "description": "",
       "description_allow_html": false,
       "layout": "IPY_MODEL_8966045146b04f109f1cbc7cb4bf114d",
       "placeholder": "​",
       "style": "IPY_MODEL_76f0b5134e824cd88ed2810ace82aae2",
       "tabbable": null,
       "tooltip": null,
       "value": "<h5><a href=\"https://github.com/jupyter-server/enterprise_gateway\">jupyter-server/enterprise_gateway</a></h5>\n<ul>\n<li><a href=\"https://github.com/jupyter-server/enterprise_gateway/issues/1392\">(#1392)</a>: _Custom Spark 3.5.3 Kernel _ by <strong><a href=\"https://github.com/fatihmete\">@fatihmete</a></strong></li>\n<li><a href=\"https://github.com/jupyter-server/enterprise_gateway/issues/1404\">(#1404)</a>: <em>Setting up Jupyterhub to work with Enterprise Gateway</em> by <strong><a href=\"https://github.com/demardefrozen10\">@demardefrozen10</a></strong></li>\n<li><a href=\"https://github.com/jupyter-server/enterprise_gateway/issues/1359\">(#1359)</a>: <em>KIP cannot use ImagePullSecret when using containerd</em> by <strong><a href=\"https://github.com/Buchhold\">@Buchhold</a></strong></li>\n<li><a href=\"https://github.com/jupyter-server/enterprise_gateway/issues/1382\">(#1382)</a>: <em>Error: module 'kubernetes.client' has no attribute 'V1Subject'</em> by <strong><a href=\"https://github.com/fm2022aa\">@fm2022aa</a></strong></li>\n<li><a href=\"https://github.com/jupyter-server/enterprise_gateway/issues/1402\">(#1402)</a>: <em>Fix Infinite Loop in WebSocket Connection Message Handling</em> by <strong><a href=\"https://github.com/zdhdsx\">@zdhdsx</a></strong></li>\n</ul>"
      }
     },
     "4eb51bd344dc4a168d1cd0de9e4ae060": {
      "model_module": "@jupyter-widgets/base",
      "model_module_version": "2.0.0",
      "model_name": "LayoutModel",
      "state": {
       "_model_module": "@jupyter-widgets/base",
       "_model_module_version": "2.0.0",
       "_model_name": "LayoutModel",
       "_view_count": null,
       "_view_module": "@jupyter-widgets/base",
       "_view_module_version": "2.0.0",
       "_view_name": "LayoutView",
       "align_content": null,
       "align_items": null,
       "align_self": null,
       "border_bottom": null,
       "border_left": null,
       "border_right": null,
       "border_top": null,
       "bottom": null,
       "display": null,
       "flex": null,
       "flex_flow": null,
       "grid_area": null,
       "grid_auto_columns": null,
       "grid_auto_flow": null,
       "grid_auto_rows": null,
       "grid_column": null,
       "grid_gap": null,
       "grid_row": null,
       "grid_template_areas": null,
       "grid_template_columns": null,
       "grid_template_rows": null,
       "height": null,
       "justify_content": null,
       "justify_items": null,
       "left": null,
       "margin": null,
       "max_height": null,
       "max_width": null,
       "min_height": null,
       "min_width": null,
       "object_fit": null,
       "object_position": null,
       "order": null,
       "overflow": null,
       "padding": null,
       "right": null,
       "top": null,
       "visibility": null,
       "width": null
      }
     },
     "504feb999f744177ae36bce8e64722e6": {
      "model_module": "@jupyter-widgets/controls",
      "model_module_version": "2.0.0",
      "model_name": "HTMLStyleModel",
      "state": {
       "_model_module": "@jupyter-widgets/controls",
       "_model_module_version": "2.0.0",
       "_model_name": "HTMLStyleModel",
       "_view_count": null,
       "_view_module": "@jupyter-widgets/base",
       "_view_module_version": "2.0.0",
       "_view_name": "StyleView",
       "background": null,
       "description_width": "",
       "font_size": null,
       "text_color": null
      }
     },
     "524a328de5a44a94b0ce4b2205bdc364": {
      "model_module": "@jupyter-widgets/base",
      "model_module_version": "2.0.0",
      "model_name": "LayoutModel",
      "state": {
       "_model_module": "@jupyter-widgets/base",
       "_model_module_version": "2.0.0",
       "_model_name": "LayoutModel",
       "_view_count": null,
       "_view_module": "@jupyter-widgets/base",
       "_view_module_version": "2.0.0",
       "_view_name": "LayoutView",
       "align_content": null,
       "align_items": null,
       "align_self": null,
       "border_bottom": null,
       "border_left": null,
       "border_right": null,
       "border_top": null,
       "bottom": null,
       "display": null,
       "flex": null,
       "flex_flow": null,
       "grid_area": null,
       "grid_auto_columns": null,
       "grid_auto_flow": null,
       "grid_auto_rows": null,
       "grid_column": null,
       "grid_gap": null,
       "grid_row": null,
       "grid_template_areas": null,
       "grid_template_columns": null,
       "grid_template_rows": null,
       "height": null,
       "justify_content": null,
       "justify_items": null,
       "left": null,
       "margin": null,
       "max_height": null,
       "max_width": null,
       "min_height": null,
       "min_width": null,
       "object_fit": null,
       "object_position": null,
       "order": null,
       "overflow": null,
       "padding": null,
       "right": null,
       "top": null,
       "visibility": null,
       "width": null
      }
     },
     "54832c2808ac4dcda5fbd4da00da97d6": {
      "model_module": "@jupyter-widgets/base",
      "model_module_version": "2.0.0",
      "model_name": "LayoutModel",
      "state": {
       "_model_module": "@jupyter-widgets/base",
       "_model_module_version": "2.0.0",
       "_model_name": "LayoutModel",
       "_view_count": null,
       "_view_module": "@jupyter-widgets/base",
       "_view_module_version": "2.0.0",
       "_view_name": "LayoutView",
       "align_content": null,
       "align_items": null,
       "align_self": null,
       "border_bottom": null,
       "border_left": null,
       "border_right": null,
       "border_top": null,
       "bottom": null,
       "display": null,
       "flex": null,
       "flex_flow": null,
       "grid_area": null,
       "grid_auto_columns": null,
       "grid_auto_flow": null,
       "grid_auto_rows": null,
       "grid_column": null,
       "grid_gap": null,
       "grid_row": null,
       "grid_template_areas": null,
       "grid_template_columns": null,
       "grid_template_rows": null,
       "height": null,
       "justify_content": null,
       "justify_items": null,
       "left": null,
       "margin": null,
       "max_height": null,
       "max_width": null,
       "min_height": null,
       "min_width": null,
       "object_fit": null,
       "object_position": null,
       "order": null,
       "overflow": null,
       "padding": null,
       "right": null,
       "top": null,
       "visibility": null,
       "width": null
      }
     },
     "55202df587d24be89382aab9dd646b23": {
      "model_module": "@jupyter-widgets/controls",
      "model_module_version": "2.0.0",
      "model_name": "HTMLStyleModel",
      "state": {
       "_model_module": "@jupyter-widgets/controls",
       "_model_module_version": "2.0.0",
       "_model_name": "HTMLStyleModel",
       "_view_count": null,
       "_view_module": "@jupyter-widgets/base",
       "_view_module_version": "2.0.0",
       "_view_name": "StyleView",
       "background": null,
       "description_width": "",
       "font_size": null,
       "text_color": null
      }
     },
     "557811a8723f401ab61a5e5386e8fc75": {
      "model_module": "@jupyter-widgets/controls",
      "model_module_version": "2.0.0",
      "model_name": "HTMLStyleModel",
      "state": {
       "_model_module": "@jupyter-widgets/controls",
       "_model_module_version": "2.0.0",
       "_model_name": "HTMLStyleModel",
       "_view_count": null,
       "_view_module": "@jupyter-widgets/base",
       "_view_module_version": "2.0.0",
       "_view_name": "StyleView",
       "background": null,
       "description_width": "",
       "font_size": null,
       "text_color": null
      }
     },
     "5d8f6ff18c684ea7a7582493f7c57f64": {
      "model_module": "@jupyter-widgets/controls",
      "model_module_version": "2.0.0",
      "model_name": "TabModel",
      "state": {
       "_dom_classes": [],
       "_model_module": "@jupyter-widgets/controls",
       "_model_module_version": "2.0.0",
       "_model_name": "TabModel",
       "_view_count": null,
       "_view_module": "@jupyter-widgets/controls",
       "_view_module_version": "2.0.0",
       "_view_name": "TabView",
       "box_style": "",
       "children": [
        "IPY_MODEL_3047694b4e9a40828b090e5739896f74",
        "IPY_MODEL_285bcb92085045a3a3762e96cbb75d9d",
        "IPY_MODEL_b903f6db824d465980822947640d4fc3",
        "IPY_MODEL_3a2b00a1d1454fa1a9cb5641e94437ab",
        "IPY_MODEL_3635ec7cb3e546698386145af7a5f55f",
        "IPY_MODEL_f234a5ff18114c2aa8da1ab14320f505",
        "IPY_MODEL_efad476eb8214e0ead4731ba442d6e81"
       ],
       "layout": "IPY_MODEL_035e540b4dc748a3af73268433c20055",
       "selected_index": 0,
       "tabbable": null,
       "titles": [
        "fps",
        "jupyter-scheduler",
        "jupyter_releaser",
        "jupyter_server",
        "jupyter_server_terminals",
        "jupyter_ydoc",
        "jupyverse"
       ],
       "tooltip": null
      }
     },
     "5fce7f039cf64ee2916f83c7fc09acc5": {
      "model_module": "@jupyter-widgets/controls",
      "model_module_version": "2.0.0",
      "model_name": "HTMLStyleModel",
      "state": {
       "_model_module": "@jupyter-widgets/controls",
       "_model_module_version": "2.0.0",
       "_model_name": "HTMLStyleModel",
       "_view_count": null,
       "_view_module": "@jupyter-widgets/base",
       "_view_module_version": "2.0.0",
       "_view_name": "StyleView",
       "background": null,
       "description_width": "",
       "font_size": null,
       "text_color": null
      }
     },
     "635b979e119a4d92abdbf1396248506b": {
      "model_module": "@jupyter-widgets/controls",
      "model_module_version": "2.0.0",
      "model_name": "HTMLStyleModel",
      "state": {
       "_model_module": "@jupyter-widgets/controls",
       "_model_module_version": "2.0.0",
       "_model_name": "HTMLStyleModel",
       "_view_count": null,
       "_view_module": "@jupyter-widgets/base",
       "_view_module_version": "2.0.0",
       "_view_name": "StyleView",
       "background": null,
       "description_width": "",
       "font_size": null,
       "text_color": null
      }
     },
     "6661c254f56f4d22895e27c2d1b3f022": {
      "model_module": "@jupyter-widgets/base",
      "model_module_version": "2.0.0",
      "model_name": "LayoutModel",
      "state": {
       "_model_module": "@jupyter-widgets/base",
       "_model_module_version": "2.0.0",
       "_model_name": "LayoutModel",
       "_view_count": null,
       "_view_module": "@jupyter-widgets/base",
       "_view_module_version": "2.0.0",
       "_view_name": "LayoutView",
       "align_content": null,
       "align_items": null,
       "align_self": null,
       "border_bottom": null,
       "border_left": null,
       "border_right": null,
       "border_top": null,
       "bottom": null,
       "display": null,
       "flex": null,
       "flex_flow": null,
       "grid_area": null,
       "grid_auto_columns": null,
       "grid_auto_flow": null,
       "grid_auto_rows": null,
       "grid_column": null,
       "grid_gap": null,
       "grid_row": null,
       "grid_template_areas": null,
       "grid_template_columns": null,
       "grid_template_rows": null,
       "height": null,
       "justify_content": null,
       "justify_items": null,
       "left": null,
       "margin": null,
       "max_height": null,
       "max_width": null,
       "min_height": null,
       "min_width": null,
       "object_fit": null,
       "object_position": null,
       "order": null,
       "overflow": null,
       "padding": null,
       "right": null,
       "top": null,
       "visibility": null,
       "width": null
      }
     },
     "67d13e64ba5f436c864fe7d00a0d28f9": {
      "model_module": "@jupyter-widgets/base",
      "model_module_version": "2.0.0",
      "model_name": "LayoutModel",
      "state": {
       "_model_module": "@jupyter-widgets/base",
       "_model_module_version": "2.0.0",
       "_model_name": "LayoutModel",
       "_view_count": null,
       "_view_module": "@jupyter-widgets/base",
       "_view_module_version": "2.0.0",
       "_view_name": "LayoutView",
       "align_content": null,
       "align_items": null,
       "align_self": null,
       "border_bottom": null,
       "border_left": null,
       "border_right": null,
       "border_top": null,
       "bottom": null,
       "display": null,
       "flex": null,
       "flex_flow": null,
       "grid_area": null,
       "grid_auto_columns": null,
       "grid_auto_flow": null,
       "grid_auto_rows": null,
       "grid_column": null,
       "grid_gap": null,
       "grid_row": null,
       "grid_template_areas": null,
       "grid_template_columns": null,
       "grid_template_rows": null,
       "height": null,
       "justify_content": null,
       "justify_items": null,
       "left": null,
       "margin": null,
       "max_height": null,
       "max_width": null,
       "min_height": null,
       "min_width": null,
       "object_fit": null,
       "object_position": null,
       "order": null,
       "overflow": null,
       "padding": null,
       "right": null,
       "top": null,
       "visibility": null,
       "width": null
      }
     },
     "6b8573a3a7b1455d94f2eb9cf86eeb0c": {
      "model_module": "@jupyter-widgets/base",
      "model_module_version": "2.0.0",
      "model_name": "LayoutModel",
      "state": {
       "_model_module": "@jupyter-widgets/base",
       "_model_module_version": "2.0.0",
       "_model_name": "LayoutModel",
       "_view_count": null,
       "_view_module": "@jupyter-widgets/base",
       "_view_module_version": "2.0.0",
       "_view_name": "LayoutView",
       "align_content": null,
       "align_items": null,
       "align_self": null,
       "border_bottom": null,
       "border_left": null,
       "border_right": null,
       "border_top": null,
       "bottom": null,
       "display": null,
       "flex": null,
       "flex_flow": null,
       "grid_area": null,
       "grid_auto_columns": null,
       "grid_auto_flow": null,
       "grid_auto_rows": null,
       "grid_column": null,
       "grid_gap": null,
       "grid_row": null,
       "grid_template_areas": null,
       "grid_template_columns": null,
       "grid_template_rows": null,
       "height": null,
       "justify_content": null,
       "justify_items": null,
       "left": null,
       "margin": null,
       "max_height": null,
       "max_width": null,
       "min_height": null,
       "min_width": null,
       "object_fit": null,
       "object_position": null,
       "order": null,
       "overflow": null,
       "padding": null,
       "right": null,
       "top": null,
       "visibility": null,
       "width": null
      }
     },
     "7659af3dde324fcc8c10ab0657a41e46": {
      "model_module": "@jupyter-widgets/controls",
      "model_module_version": "2.0.0",
      "model_name": "HTMLStyleModel",
      "state": {
       "_model_module": "@jupyter-widgets/controls",
       "_model_module_version": "2.0.0",
       "_model_name": "HTMLStyleModel",
       "_view_count": null,
       "_view_module": "@jupyter-widgets/base",
       "_view_module_version": "2.0.0",
       "_view_name": "StyleView",
       "background": null,
       "description_width": "",
       "font_size": null,
       "text_color": null
      }
     },
     "76dcbe0e08eb4eea894a04c72f5cce05": {
      "model_module": "@jupyter-widgets/controls",
      "model_module_version": "2.0.0",
      "model_name": "HTMLModel",
      "state": {
       "_dom_classes": [],
       "_model_module": "@jupyter-widgets/controls",
       "_model_module_version": "2.0.0",
       "_model_name": "HTMLModel",
       "_view_count": null,
       "_view_module": "@jupyter-widgets/controls",
       "_view_module_version": "2.0.0",
       "_view_name": "HTMLView",
       "description": "",
       "description_allow_html": false,
       "layout": "IPY_MODEL_a5195e94597e4ae0a906bd17e8207943",
       "placeholder": "​",
       "style": "IPY_MODEL_e22c14ce487d4d3ca63ad54983c13a7d",
       "tabbable": null,
       "tooltip": null,
       "value": "<h5><a href=\"https://github.com/jupyter-server/jupyter-resource-usage\">jupyter-server/jupyter-resource-usage</a></h5>\n<ul>\n<li><a href=\"https://github.com/jupyter-server/jupyter-resource-usage/issues/237\">(#237)</a>: <em>update yarn.lock required: jupyterlab/coreutils =&gt; no exported member 'ResolvedRelativeTimeFormatOptions'</em> by <strong><a href=\"https://github.com/jhgoebbert\">@jhgoebbert</a></strong></li>\n<li><a href=\"https://github.com/jupyter-server/jupyter-resource-usage/issues/245\">(#245)</a>: <em>Enabling track_cpu_percent causes unacceptable input delay in terminal</em> by <strong><a href=\"https://github.com/ctcjab\">@ctcjab</a></strong></li>\n<li><a href=\"https://github.com/jupyter-server/jupyter-resource-usage/issues/242\">(#242)</a>: <em>Better <code>opt-in</code> than <code>opt-out</code> for <code>enable_prometheus_metrics</code></em> by <strong><a href=\"https://github.com/jhgoebbert\">@jhgoebbert</a></strong></li>\n<li><a href=\"https://github.com/jupyter-server/jupyter-resource-usage/issues/123\">(#123)</a>: <em>Prometheus metrics blocks tornado main thread</em> by <strong><a href=\"https://github.com/dleen\">@dleen</a></strong></li>\n<li><a href=\"https://github.com/jupyter-server/jupyter-resource-usage/issues/244\">(#244)</a>: <em>How to configure \"Enable resource usage indicators\" to true from <code>c = get_config()</code></em> by <strong><a href=\"https://github.com/sgrenf95\">@sgrenf95</a></strong></li>\n</ul>"
      }
     },
     "76f0b5134e824cd88ed2810ace82aae2": {
      "model_module": "@jupyter-widgets/controls",
      "model_module_version": "2.0.0",
      "model_name": "HTMLStyleModel",
      "state": {
       "_model_module": "@jupyter-widgets/controls",
       "_model_module_version": "2.0.0",
       "_model_name": "HTMLStyleModel",
       "_view_count": null,
       "_view_module": "@jupyter-widgets/base",
       "_view_module_version": "2.0.0",
       "_view_name": "StyleView",
       "background": null,
       "description_width": "",
       "font_size": null,
       "text_color": null
      }
     },
     "7937e61147b246c293de4794653daf67": {
      "model_module": "@jupyter-widgets/base",
      "model_module_version": "2.0.0",
      "model_name": "LayoutModel",
      "state": {
       "_model_module": "@jupyter-widgets/base",
       "_model_module_version": "2.0.0",
       "_model_name": "LayoutModel",
       "_view_count": null,
       "_view_module": "@jupyter-widgets/base",
       "_view_module_version": "2.0.0",
       "_view_name": "LayoutView",
       "align_content": null,
       "align_items": null,
       "align_self": null,
       "border_bottom": null,
       "border_left": null,
       "border_right": null,
       "border_top": null,
       "bottom": null,
       "display": null,
       "flex": null,
       "flex_flow": null,
       "grid_area": null,
       "grid_auto_columns": null,
       "grid_auto_flow": null,
       "grid_auto_rows": null,
       "grid_column": null,
       "grid_gap": null,
       "grid_row": null,
       "grid_template_areas": null,
       "grid_template_columns": null,
       "grid_template_rows": null,
       "height": null,
       "justify_content": null,
       "justify_items": null,
       "left": null,
       "margin": null,
       "max_height": null,
       "max_width": null,
       "min_height": null,
       "min_width": null,
       "object_fit": null,
       "object_position": null,
       "order": null,
       "overflow": null,
       "padding": null,
       "right": null,
       "top": null,
       "visibility": null,
       "width": null
      }
     },
     "7946f046bfeb4eeda2cd079e555f27a8": {
      "model_module": "@jupyter-widgets/controls",
      "model_module_version": "2.0.0",
      "model_name": "HTMLModel",
      "state": {
       "_dom_classes": [],
       "_model_module": "@jupyter-widgets/controls",
       "_model_module_version": "2.0.0",
       "_model_name": "HTMLModel",
       "_view_count": null,
       "_view_module": "@jupyter-widgets/controls",
       "_view_module_version": "2.0.0",
       "_view_name": "HTMLView",
       "description": "",
       "description_allow_html": false,
       "layout": "IPY_MODEL_6661c254f56f4d22895e27c2d1b3f022",
       "placeholder": "​",
       "style": "IPY_MODEL_5fce7f039cf64ee2916f83c7fc09acc5",
       "tabbable": null,
       "tooltip": null,
       "value": "<h5><a href=\"https://github.com/jupyter-server/kernel_gateway\">jupyter-server/kernel_gateway</a></h5>\n<ul>\n<li><a href=\"https://github.com/jupyter-server/kernel_gateway/issues/398\">(#398)</a>: <em>CLI fails to start on windows with signal import issue</em> by <strong><a href=\"https://github.com/jackgerrits\">@jackgerrits</a></strong></li>\n</ul>"
      }
     },
     "7d6084d22a7744e08d7061f211a3473f": {
      "model_module": "@jupyter-widgets/controls",
      "model_module_version": "2.0.0",
      "model_name": "HTMLModel",
      "state": {
       "_dom_classes": [],
       "_model_module": "@jupyter-widgets/controls",
       "_model_module_version": "2.0.0",
       "_model_name": "HTMLModel",
       "_view_count": null,
       "_view_module": "@jupyter-widgets/controls",
       "_view_module_version": "2.0.0",
       "_view_name": "HTMLView",
       "description": "",
       "description_allow_html": false,
       "layout": "IPY_MODEL_9eedffb23fdf48869d476414663e9dae",
       "placeholder": "​",
       "style": "IPY_MODEL_d6e64bb26f2545a38da1cfed8c521f77",
       "tabbable": null,
       "tooltip": null,
       "value": "<h5><a href=\"https://github.com/jupyter-server/jupyter-resource-usage\">jupyter-server/jupyter-resource-usage</a></h5>\n<ul>\n<li><a href=\"https://github.com/jupyter-server/jupyter-resource-usage/issues/237\">(#237)</a>: <em>update yarn.lock required: jupyterlab/coreutils =&gt; no exported member 'ResolvedRelativeTimeFormatOptions'</em> by <strong><a href=\"https://github.com/jhgoebbert\">@jhgoebbert</a></strong></li>\n<li><a href=\"https://github.com/jupyter-server/jupyter-resource-usage/issues/245\">(#245)</a>: <em>Enabling track_cpu_percent causes unacceptable input delay in terminal</em> by <strong><a href=\"https://github.com/ctcjab\">@ctcjab</a></strong></li>\n<li><a href=\"https://github.com/jupyter-server/jupyter-resource-usage/issues/242\">(#242)</a>: <em>Better <code>opt-in</code> than <code>opt-out</code> for <code>enable_prometheus_metrics</code></em> by <strong><a href=\"https://github.com/jhgoebbert\">@jhgoebbert</a></strong></li>\n<li><a href=\"https://github.com/jupyter-server/jupyter-resource-usage/issues/123\">(#123)</a>: <em>Prometheus metrics blocks tornado main thread</em> by <strong><a href=\"https://github.com/dleen\">@dleen</a></strong></li>\n<li><a href=\"https://github.com/jupyter-server/jupyter-resource-usage/issues/244\">(#244)</a>: <em>How to configure \"Enable resource usage indicators\" to true from <code>c = get_config()</code></em> by <strong><a href=\"https://github.com/sgrenf95\">@sgrenf95</a></strong></li>\n</ul>"
      }
     },
     "8107f41ae47949bd83f8465836fddc32": {
      "model_module": "@jupyter-widgets/controls",
      "model_module_version": "2.0.0",
      "model_name": "HTMLStyleModel",
      "state": {
       "_model_module": "@jupyter-widgets/controls",
       "_model_module_version": "2.0.0",
       "_model_name": "HTMLStyleModel",
       "_view_count": null,
       "_view_module": "@jupyter-widgets/base",
       "_view_module_version": "2.0.0",
       "_view_name": "StyleView",
       "background": null,
       "description_width": "",
       "font_size": null,
       "text_color": null
      }
     },
     "8966045146b04f109f1cbc7cb4bf114d": {
      "model_module": "@jupyter-widgets/base",
      "model_module_version": "2.0.0",
      "model_name": "LayoutModel",
      "state": {
       "_model_module": "@jupyter-widgets/base",
       "_model_module_version": "2.0.0",
       "_model_name": "LayoutModel",
       "_view_count": null,
       "_view_module": "@jupyter-widgets/base",
       "_view_module_version": "2.0.0",
       "_view_name": "LayoutView",
       "align_content": null,
       "align_items": null,
       "align_self": null,
       "border_bottom": null,
       "border_left": null,
       "border_right": null,
       "border_top": null,
       "bottom": null,
       "display": null,
       "flex": null,
       "flex_flow": null,
       "grid_area": null,
       "grid_auto_columns": null,
       "grid_auto_flow": null,
       "grid_auto_rows": null,
       "grid_column": null,
       "grid_gap": null,
       "grid_row": null,
       "grid_template_areas": null,
       "grid_template_columns": null,
       "grid_template_rows": null,
       "height": null,
       "justify_content": null,
       "justify_items": null,
       "left": null,
       "margin": null,
       "max_height": null,
       "max_width": null,
       "min_height": null,
       "min_width": null,
       "object_fit": null,
       "object_position": null,
       "order": null,
       "overflow": null,
       "padding": null,
       "right": null,
       "top": null,
       "visibility": null,
       "width": null
      }
     },
     "8a5f2532a3e44d12bb4bfe49a648d80e": {
      "model_module": "@jupyter-widgets/base",
      "model_module_version": "2.0.0",
      "model_name": "LayoutModel",
      "state": {
       "_model_module": "@jupyter-widgets/base",
       "_model_module_version": "2.0.0",
       "_model_name": "LayoutModel",
       "_view_count": null,
       "_view_module": "@jupyter-widgets/base",
       "_view_module_version": "2.0.0",
       "_view_name": "LayoutView",
       "align_content": null,
       "align_items": null,
       "align_self": null,
       "border_bottom": null,
       "border_left": null,
       "border_right": null,
       "border_top": null,
       "bottom": null,
       "display": null,
       "flex": null,
       "flex_flow": null,
       "grid_area": null,
       "grid_auto_columns": null,
       "grid_auto_flow": null,
       "grid_auto_rows": null,
       "grid_column": null,
       "grid_gap": null,
       "grid_row": null,
       "grid_template_areas": null,
       "grid_template_columns": null,
       "grid_template_rows": null,
       "height": null,
       "justify_content": null,
       "justify_items": null,
       "left": null,
       "margin": null,
       "max_height": null,
       "max_width": null,
       "min_height": null,
       "min_width": null,
       "object_fit": null,
       "object_position": null,
       "order": null,
       "overflow": null,
       "padding": null,
       "right": null,
       "top": null,
       "visibility": null,
       "width": null
      }
     },
     "8aed68019cc640e1a7c54682ff53ea7c": {
      "model_module": "@jupyter-widgets/controls",
      "model_module_version": "2.0.0",
      "model_name": "HTMLStyleModel",
      "state": {
       "_model_module": "@jupyter-widgets/controls",
       "_model_module_version": "2.0.0",
       "_model_name": "HTMLStyleModel",
       "_view_count": null,
       "_view_module": "@jupyter-widgets/base",
       "_view_module_version": "2.0.0",
       "_view_name": "StyleView",
       "background": null,
       "description_width": "",
       "font_size": null,
       "text_color": null
      }
     },
     "8b7f4e78972d4ee08358a6ed4aff1eff": {
      "model_module": "@jupyter-widgets/controls",
      "model_module_version": "2.0.0",
      "model_name": "HTMLStyleModel",
      "state": {
       "_model_module": "@jupyter-widgets/controls",
       "_model_module_version": "2.0.0",
       "_model_name": "HTMLStyleModel",
       "_view_count": null,
       "_view_module": "@jupyter-widgets/base",
       "_view_module_version": "2.0.0",
       "_view_name": "StyleView",
       "background": null,
       "description_width": "",
       "font_size": null,
       "text_color": null
      }
     },
     "8c8a191650094886af249a4e2ca6a4f2": {
      "model_module": "@jupyter-widgets/controls",
      "model_module_version": "2.0.0",
      "model_name": "HTMLModel",
      "state": {
       "_dom_classes": [],
       "_model_module": "@jupyter-widgets/controls",
       "_model_module_version": "2.0.0",
       "_model_name": "HTMLModel",
       "_view_count": null,
       "_view_module": "@jupyter-widgets/controls",
       "_view_module_version": "2.0.0",
       "_view_name": "HTMLView",
       "description": "",
       "description_allow_html": false,
       "layout": "IPY_MODEL_291302f9c6ad4fa28862f7a9e9134629",
       "placeholder": "​",
       "style": "IPY_MODEL_0d65466908e74910afb1956a02f938de",
       "tabbable": null,
       "tooltip": null,
       "value": "<h5><a href=\"https://github.com/jupyter-server/jupyverse\">jupyter-server/jupyverse</a></h5>\n<ul>\n<li><a href=\"https://github.com/jupyter-server/jupyverse/issues/471\">(#471)</a>: <em>Move jupyverse to Jupyter PyPI organization</em> by <strong><a href=\"https://github.com/Zsailer\">@Zsailer</a></strong></li>\n<li><a href=\"https://github.com/jupyter-server/jupyverse/issues/236\">(#236)</a>: <em>Contents root_dir</em> by <strong><a href=\"https://github.com/davidbrochart\">@davidbrochart</a></strong></li>\n<li><a href=\"https://github.com/jupyter-server/jupyverse/issues/444\">(#444)</a>: <em>Rename mentions to <code>fps-</code>?</em> by <strong><a href=\"https://github.com/jtpio\">@jtpio</a></strong></li>\n</ul>"
      }
     },
     "8ce7fb45e8164a40a7e2db02ec7fe43e": {
      "model_module": "@jupyter-widgets/controls",
      "model_module_version": "2.0.0",
      "model_name": "HTMLModel",
      "state": {
       "_dom_classes": [],
       "_model_module": "@jupyter-widgets/controls",
       "_model_module_version": "2.0.0",
       "_model_name": "HTMLModel",
       "_view_count": null,
       "_view_module": "@jupyter-widgets/controls",
       "_view_module_version": "2.0.0",
       "_view_name": "HTMLView",
       "description": "",
       "description_allow_html": false,
       "layout": "IPY_MODEL_1efcd32d3a8b48a1943231eb8d96292b",
       "placeholder": "​",
       "style": "IPY_MODEL_8aed68019cc640e1a7c54682ff53ea7c",
       "tabbable": null,
       "tooltip": null,
       "value": "<h5><a href=\"https://github.com/jupyter-server/kernel_gateway\">jupyter-server/kernel_gateway</a></h5>\n<ul>\n<li><a href=\"https://github.com/jupyter-server/kernel_gateway/issues/398\">(#398)</a>: <em>CLI fails to start on windows with signal import issue</em> by <strong><a href=\"https://github.com/jackgerrits\">@jackgerrits</a></strong></li>\n</ul>"
      }
     },
     "964a4fec92e04e08ace470f7a4315d2c": {
      "model_module": "@jupyter-widgets/controls",
      "model_module_version": "2.0.0",
      "model_name": "HTMLStyleModel",
      "state": {
       "_model_module": "@jupyter-widgets/controls",
       "_model_module_version": "2.0.0",
       "_model_name": "HTMLStyleModel",
       "_view_count": null,
       "_view_module": "@jupyter-widgets/base",
       "_view_module_version": "2.0.0",
       "_view_name": "StyleView",
       "background": null,
       "description_width": "",
       "font_size": null,
       "text_color": null
      }
     },
     "9b954a0e2a164e0eb42c0293bde2053b": {
      "model_module": "@jupyter-widgets/controls",
      "model_module_version": "2.0.0",
      "model_name": "HTMLModel",
      "state": {
       "_dom_classes": [],
       "_model_module": "@jupyter-widgets/controls",
       "_model_module_version": "2.0.0",
       "_model_name": "HTMLModel",
       "_view_count": null,
       "_view_module": "@jupyter-widgets/controls",
       "_view_module_version": "2.0.0",
       "_view_name": "HTMLView",
       "description": "",
       "description_allow_html": false,
       "layout": "IPY_MODEL_d743f29ae1c9419784213a169a2af2ba",
       "placeholder": "​",
       "style": "IPY_MODEL_504feb999f744177ae36bce8e64722e6",
       "tabbable": null,
       "tooltip": null,
       "value": "<h5><a href=\"https://github.com/jupyter-server/fps\">jupyter-server/fps</a></h5>\n<ul>\n<li><a href=\"https://github.com/jupyter-server/fps/issues/112\">(#112)</a>: <em>Move fps to Jupyter PyPI organization</em> by <strong><a href=\"https://github.com/Zsailer\">@Zsailer</a></strong></li>\n<li><a href=\"https://github.com/jupyter-server/fps/issues/44\">(#44)</a>: <em>Forward CLI args to application</em> by <strong><a href=\"https://github.com/davidbrochart\">@davidbrochart</a></strong></li>\n<li><a href=\"https://github.com/jupyter-server/fps/issues/54\">(#54)</a>: <em>Run-time plugin router definition</em> by <strong><a href=\"https://github.com/davidbrochart\">@davidbrochart</a></strong></li>\n</ul>"
      }
     },
     "9ba5289d6dd34e86b2ec6f0ec124bd72": {
      "model_module": "@jupyter-widgets/base",
      "model_module_version": "2.0.0",
      "model_name": "LayoutModel",
      "state": {
       "_model_module": "@jupyter-widgets/base",
       "_model_module_version": "2.0.0",
       "_model_name": "LayoutModel",
       "_view_count": null,
       "_view_module": "@jupyter-widgets/base",
       "_view_module_version": "2.0.0",
       "_view_name": "LayoutView",
       "align_content": null,
       "align_items": null,
       "align_self": null,
       "border_bottom": null,
       "border_left": null,
       "border_right": null,
       "border_top": null,
       "bottom": null,
       "display": null,
       "flex": null,
       "flex_flow": null,
       "grid_area": null,
       "grid_auto_columns": null,
       "grid_auto_flow": null,
       "grid_auto_rows": null,
       "grid_column": null,
       "grid_gap": null,
       "grid_row": null,
       "grid_template_areas": null,
       "grid_template_columns": null,
       "grid_template_rows": null,
       "height": null,
       "justify_content": null,
       "justify_items": null,
       "left": null,
       "margin": null,
       "max_height": null,
       "max_width": null,
       "min_height": null,
       "min_width": null,
       "object_fit": null,
       "object_position": null,
       "order": null,
       "overflow": null,
       "padding": null,
       "right": null,
       "top": null,
       "visibility": null,
       "width": null
      }
     },
     "9cbdb52629484bbfa5ac12f372ec75bc": {
      "model_module": "@jupyter-widgets/base",
      "model_module_version": "2.0.0",
      "model_name": "LayoutModel",
      "state": {
       "_model_module": "@jupyter-widgets/base",
       "_model_module_version": "2.0.0",
       "_model_name": "LayoutModel",
       "_view_count": null,
       "_view_module": "@jupyter-widgets/base",
       "_view_module_version": "2.0.0",
       "_view_name": "LayoutView",
       "align_content": null,
       "align_items": null,
       "align_self": null,
       "border_bottom": null,
       "border_left": null,
       "border_right": null,
       "border_top": null,
       "bottom": null,
       "display": null,
       "flex": null,
       "flex_flow": null,
       "grid_area": null,
       "grid_auto_columns": null,
       "grid_auto_flow": null,
       "grid_auto_rows": null,
       "grid_column": null,
       "grid_gap": null,
       "grid_row": null,
       "grid_template_areas": null,
       "grid_template_columns": null,
       "grid_template_rows": null,
       "height": null,
       "justify_content": null,
       "justify_items": null,
       "left": null,
       "margin": null,
       "max_height": null,
       "max_width": null,
       "min_height": null,
       "min_width": null,
       "object_fit": null,
       "object_position": null,
       "order": null,
       "overflow": null,
       "padding": null,
       "right": null,
       "top": null,
       "visibility": null,
       "width": null
      }
     },
     "9dc988e5119647d0b124af5d94dd5052": {
      "model_module": "@jupyter-widgets/controls",
      "model_module_version": "2.0.0",
      "model_name": "HTMLModel",
      "state": {
       "_dom_classes": [],
       "_model_module": "@jupyter-widgets/controls",
       "_model_module_version": "2.0.0",
       "_model_name": "HTMLModel",
       "_view_count": null,
       "_view_module": "@jupyter-widgets/controls",
       "_view_module_version": "2.0.0",
       "_view_name": "HTMLView",
       "description": "",
       "description_allow_html": false,
       "layout": "IPY_MODEL_aa0da9b8a6864f308d6a3e2093626c68",
       "placeholder": "​",
       "style": "IPY_MODEL_8107f41ae47949bd83f8465836fddc32",
       "tabbable": null,
       "tooltip": null,
       "value": "<h5><a href=\"https://github.com/jupyter-server/fps\">jupyter-server/fps</a></h5>\n<ul>\n<li><a href=\"https://github.com/jupyter-server/fps/issues/112\">(#112)</a>: <em>Move fps to Jupyter PyPI organization</em> by <strong><a href=\"https://github.com/Zsailer\">@Zsailer</a></strong></li>\n<li><a href=\"https://github.com/jupyter-server/fps/issues/44\">(#44)</a>: <em>Forward CLI args to application</em> by <strong><a href=\"https://github.com/davidbrochart\">@davidbrochart</a></strong></li>\n<li><a href=\"https://github.com/jupyter-server/fps/issues/54\">(#54)</a>: <em>Run-time plugin router definition</em> by <strong><a href=\"https://github.com/davidbrochart\">@davidbrochart</a></strong></li>\n</ul>"
      }
     },
     "9eedffb23fdf48869d476414663e9dae": {
      "model_module": "@jupyter-widgets/base",
      "model_module_version": "2.0.0",
      "model_name": "LayoutModel",
      "state": {
       "_model_module": "@jupyter-widgets/base",
       "_model_module_version": "2.0.0",
       "_model_name": "LayoutModel",
       "_view_count": null,
       "_view_module": "@jupyter-widgets/base",
       "_view_module_version": "2.0.0",
       "_view_name": "LayoutView",
       "align_content": null,
       "align_items": null,
       "align_self": null,
       "border_bottom": null,
       "border_left": null,
       "border_right": null,
       "border_top": null,
       "bottom": null,
       "display": null,
       "flex": null,
       "flex_flow": null,
       "grid_area": null,
       "grid_auto_columns": null,
       "grid_auto_flow": null,
       "grid_auto_rows": null,
       "grid_column": null,
       "grid_gap": null,
       "grid_row": null,
       "grid_template_areas": null,
       "grid_template_columns": null,
       "grid_template_rows": null,
       "height": null,
       "justify_content": null,
       "justify_items": null,
       "left": null,
       "margin": null,
       "max_height": null,
       "max_width": null,
       "min_height": null,
       "min_width": null,
       "object_fit": null,
       "object_position": null,
       "order": null,
       "overflow": null,
       "padding": null,
       "right": null,
       "top": null,
       "visibility": null,
       "width": null
      }
     },
     "9fe1c152dd9a439faf4b8cd3fb57b7ac": {
      "model_module": "@jupyter-widgets/base",
      "model_module_version": "2.0.0",
      "model_name": "LayoutModel",
      "state": {
       "_model_module": "@jupyter-widgets/base",
       "_model_module_version": "2.0.0",
       "_model_name": "LayoutModel",
       "_view_count": null,
       "_view_module": "@jupyter-widgets/base",
       "_view_module_version": "2.0.0",
       "_view_name": "LayoutView",
       "align_content": null,
       "align_items": null,
       "align_self": null,
       "border_bottom": null,
       "border_left": null,
       "border_right": null,
       "border_top": null,
       "bottom": null,
       "display": null,
       "flex": null,
       "flex_flow": null,
       "grid_area": null,
       "grid_auto_columns": null,
       "grid_auto_flow": null,
       "grid_auto_rows": null,
       "grid_column": null,
       "grid_gap": null,
       "grid_row": null,
       "grid_template_areas": null,
       "grid_template_columns": null,
       "grid_template_rows": null,
       "height": null,
       "justify_content": null,
       "justify_items": null,
       "left": null,
       "margin": null,
       "max_height": null,
       "max_width": null,
       "min_height": null,
       "min_width": null,
       "object_fit": null,
       "object_position": null,
       "order": null,
       "overflow": null,
       "padding": null,
       "right": null,
       "top": null,
       "visibility": null,
       "width": null
      }
     },
     "a18f79f3538b4030b66c806d495c8d9b": {
      "model_module": "@jupyter-widgets/base",
      "model_module_version": "2.0.0",
      "model_name": "LayoutModel",
      "state": {
       "_model_module": "@jupyter-widgets/base",
       "_model_module_version": "2.0.0",
       "_model_name": "LayoutModel",
       "_view_count": null,
       "_view_module": "@jupyter-widgets/base",
       "_view_module_version": "2.0.0",
       "_view_name": "LayoutView",
       "align_content": null,
       "align_items": null,
       "align_self": null,
       "border_bottom": null,
       "border_left": null,
       "border_right": null,
       "border_top": null,
       "bottom": null,
       "display": null,
       "flex": null,
       "flex_flow": null,
       "grid_area": null,
       "grid_auto_columns": null,
       "grid_auto_flow": null,
       "grid_auto_rows": null,
       "grid_column": null,
       "grid_gap": null,
       "grid_row": null,
       "grid_template_areas": null,
       "grid_template_columns": null,
       "grid_template_rows": null,
       "height": null,
       "justify_content": null,
       "justify_items": null,
       "left": null,
       "margin": null,
       "max_height": null,
       "max_width": null,
       "min_height": null,
       "min_width": null,
       "object_fit": null,
       "object_position": null,
       "order": null,
       "overflow": null,
       "padding": null,
       "right": null,
       "top": null,
       "visibility": null,
       "width": null
      }
     },
     "a31abf5b4fbe44ab868646d054c7bfcf": {
      "model_module": "@jupyter-widgets/controls",
      "model_module_version": "2.0.0",
      "model_name": "HTMLStyleModel",
      "state": {
       "_model_module": "@jupyter-widgets/controls",
       "_model_module_version": "2.0.0",
       "_model_name": "HTMLStyleModel",
       "_view_count": null,
       "_view_module": "@jupyter-widgets/base",
       "_view_module_version": "2.0.0",
       "_view_name": "StyleView",
       "background": null,
       "description_width": "",
       "font_size": null,
       "text_color": null
      }
     },
     "a5195e94597e4ae0a906bd17e8207943": {
      "model_module": "@jupyter-widgets/base",
      "model_module_version": "2.0.0",
      "model_name": "LayoutModel",
      "state": {
       "_model_module": "@jupyter-widgets/base",
       "_model_module_version": "2.0.0",
       "_model_name": "LayoutModel",
       "_view_count": null,
       "_view_module": "@jupyter-widgets/base",
       "_view_module_version": "2.0.0",
       "_view_name": "LayoutView",
       "align_content": null,
       "align_items": null,
       "align_self": null,
       "border_bottom": null,
       "border_left": null,
       "border_right": null,
       "border_top": null,
       "bottom": null,
       "display": null,
       "flex": null,
       "flex_flow": null,
       "grid_area": null,
       "grid_auto_columns": null,
       "grid_auto_flow": null,
       "grid_auto_rows": null,
       "grid_column": null,
       "grid_gap": null,
       "grid_row": null,
       "grid_template_areas": null,
       "grid_template_columns": null,
       "grid_template_rows": null,
       "height": null,
       "justify_content": null,
       "justify_items": null,
       "left": null,
       "margin": null,
       "max_height": null,
       "max_width": null,
       "min_height": null,
       "min_width": null,
       "object_fit": null,
       "object_position": null,
       "order": null,
       "overflow": null,
       "padding": null,
       "right": null,
       "top": null,
       "visibility": null,
       "width": null
      }
     },
     "a8e5d0e1ff5347b98b7a3810957bdbff": {
      "model_module": "@jupyter-widgets/controls",
      "model_module_version": "2.0.0",
      "model_name": "HTMLStyleModel",
      "state": {
       "_model_module": "@jupyter-widgets/controls",
       "_model_module_version": "2.0.0",
       "_model_name": "HTMLStyleModel",
       "_view_count": null,
       "_view_module": "@jupyter-widgets/base",
       "_view_module_version": "2.0.0",
       "_view_name": "StyleView",
       "background": null,
       "description_width": "",
       "font_size": null,
       "text_color": null
      }
     },
     "aa0da9b8a6864f308d6a3e2093626c68": {
      "model_module": "@jupyter-widgets/base",
      "model_module_version": "2.0.0",
      "model_name": "LayoutModel",
      "state": {
       "_model_module": "@jupyter-widgets/base",
       "_model_module_version": "2.0.0",
       "_model_name": "LayoutModel",
       "_view_count": null,
       "_view_module": "@jupyter-widgets/base",
       "_view_module_version": "2.0.0",
       "_view_name": "LayoutView",
       "align_content": null,
       "align_items": null,
       "align_self": null,
       "border_bottom": null,
       "border_left": null,
       "border_right": null,
       "border_top": null,
       "bottom": null,
       "display": null,
       "flex": null,
       "flex_flow": null,
       "grid_area": null,
       "grid_auto_columns": null,
       "grid_auto_flow": null,
       "grid_auto_rows": null,
       "grid_column": null,
       "grid_gap": null,
       "grid_row": null,
       "grid_template_areas": null,
       "grid_template_columns": null,
       "grid_template_rows": null,
       "height": null,
       "justify_content": null,
       "justify_items": null,
       "left": null,
       "margin": null,
       "max_height": null,
       "max_width": null,
       "min_height": null,
       "min_width": null,
       "object_fit": null,
       "object_position": null,
       "order": null,
       "overflow": null,
       "padding": null,
       "right": null,
       "top": null,
       "visibility": null,
       "width": null
      }
     },
     "aa6f32f0ee554f508db753ecf8018f1a": {
      "model_module": "@jupyter-widgets/controls",
      "model_module_version": "2.0.0",
      "model_name": "HTMLStyleModel",
      "state": {
       "_model_module": "@jupyter-widgets/controls",
       "_model_module_version": "2.0.0",
       "_model_name": "HTMLStyleModel",
       "_view_count": null,
       "_view_module": "@jupyter-widgets/base",
       "_view_module_version": "2.0.0",
       "_view_name": "StyleView",
       "background": null,
       "description_width": "",
       "font_size": null,
       "text_color": null
      }
     },
     "adb538523a1f47caae5496f3285ecfeb": {
      "model_module": "@jupyter-widgets/controls",
      "model_module_version": "2.0.0",
      "model_name": "HTMLModel",
      "state": {
       "_dom_classes": [],
       "_model_module": "@jupyter-widgets/controls",
       "_model_module_version": "2.0.0",
       "_model_name": "HTMLModel",
       "_view_count": null,
       "_view_module": "@jupyter-widgets/controls",
       "_view_module_version": "2.0.0",
       "_view_name": "HTMLView",
       "description": "",
       "description_allow_html": false,
       "layout": "IPY_MODEL_54832c2808ac4dcda5fbd4da00da97d6",
       "placeholder": "​",
       "style": "IPY_MODEL_8b7f4e78972d4ee08358a6ed4aff1eff",
       "tabbable": null,
       "tooltip": null,
       "value": "<h5><a href=\"https://github.com/jupyter-server/jupyter_releaser\">jupyter-server/jupyter_releaser</a></h5>\n<ul>\n<li><a href=\"https://github.com/jupyter-server/jupyter_releaser/issues/604\">(#604)</a>: <em>Publish Release fails in FPS repo</em> by <strong><a href=\"https://github.com/davidbrochart\">@davidbrochart</a></strong></li>\n<li><a href=\"https://github.com/jupyter-server/jupyter_releaser/issues/606\">(#606)</a>: <em>Draft GitHub Release not created</em> by <strong><a href=\"https://github.com/jtpio\">@jtpio</a></strong></li>\n<li><a href=\"https://github.com/jupyter-server/jupyter_releaser/issues/603\">(#603)</a>: <em>Supporting publishing to multiple npm registries</em> by <strong><a href=\"https://github.com/martenrichter\">@martenrichter</a></strong></li>\n</ul>"
      }
     },
     "ae9cd99da0f14d2f8061ab8444a13beb": {
      "model_module": "@jupyter-widgets/base",
      "model_module_version": "2.0.0",
      "model_name": "LayoutModel",
      "state": {
       "_model_module": "@jupyter-widgets/base",
       "_model_module_version": "2.0.0",
       "_model_name": "LayoutModel",
       "_view_count": null,
       "_view_module": "@jupyter-widgets/base",
       "_view_module_version": "2.0.0",
       "_view_name": "LayoutView",
       "align_content": null,
       "align_items": null,
       "align_self": null,
       "border_bottom": null,
       "border_left": null,
       "border_right": null,
       "border_top": null,
       "bottom": null,
       "display": null,
       "flex": null,
       "flex_flow": null,
       "grid_area": null,
       "grid_auto_columns": null,
       "grid_auto_flow": null,
       "grid_auto_rows": null,
       "grid_column": null,
       "grid_gap": null,
       "grid_row": null,
       "grid_template_areas": null,
       "grid_template_columns": null,
       "grid_template_rows": null,
       "height": null,
       "justify_content": null,
       "justify_items": null,
       "left": null,
       "margin": null,
       "max_height": null,
       "max_width": null,
       "min_height": null,
       "min_width": null,
       "object_fit": null,
       "object_position": null,
       "order": null,
       "overflow": null,
       "padding": null,
       "right": null,
       "top": null,
       "visibility": null,
       "width": null
      }
     },
     "b06aea2f8a7d42ca94ecb419cc8328bf": {
      "model_module": "@jupyter-widgets/controls",
      "model_module_version": "2.0.0",
      "model_name": "HTMLStyleModel",
      "state": {
       "_model_module": "@jupyter-widgets/controls",
       "_model_module_version": "2.0.0",
       "_model_name": "HTMLStyleModel",
       "_view_count": null,
       "_view_module": "@jupyter-widgets/base",
       "_view_module_version": "2.0.0",
       "_view_name": "StyleView",
       "background": null,
       "description_width": "",
       "font_size": null,
       "text_color": null
      }
     },
     "b82663048e404580a945e9ce6ee48bc7": {
      "model_module": "@jupyter-widgets/controls",
      "model_module_version": "2.0.0",
      "model_name": "HTMLStyleModel",
      "state": {
       "_model_module": "@jupyter-widgets/controls",
       "_model_module_version": "2.0.0",
       "_model_name": "HTMLStyleModel",
       "_view_count": null,
       "_view_module": "@jupyter-widgets/base",
       "_view_module_version": "2.0.0",
       "_view_name": "StyleView",
       "background": null,
       "description_width": "",
       "font_size": null,
       "text_color": null
      }
     },
     "b903f6db824d465980822947640d4fc3": {
      "model_module": "@jupyter-widgets/controls",
      "model_module_version": "2.0.0",
      "model_name": "HTMLModel",
      "state": {
       "_dom_classes": [],
       "_model_module": "@jupyter-widgets/controls",
       "_model_module_version": "2.0.0",
       "_model_name": "HTMLModel",
       "_view_count": null,
       "_view_module": "@jupyter-widgets/controls",
       "_view_module_version": "2.0.0",
       "_view_name": "HTMLView",
       "description": "",
       "description_allow_html": false,
       "layout": "IPY_MODEL_9cbdb52629484bbfa5ac12f372ec75bc",
       "placeholder": "​",
       "style": "IPY_MODEL_3d044fac6858424da8065ec0d0a16feb",
       "tabbable": null,
       "tooltip": null,
       "value": "<h4>Closed PRs for repo: <a href=\"https://github.com/jupyter-server/jupyter_releaser\">jupyter-server/jupyter_releaser</a></h4>\n<h5></h5>\n<ul>\n<li><a href=\"https://github.com/jupyter-server/jupyter_releaser/issues/605\">(#605)</a>: <em>Check for <code>npm</code> error code 409 to skip previously published packages in private registries</em> by <strong><a href=\"https://github.com/martenrichter\">@martenrichter</a></strong> merged by <strong><a href=\"https://github.com/krassowski\">@krassowski</a></strong></li>\n<li><a href=\"https://github.com/jupyter-server/jupyter_releaser/issues/607\">(#607)</a>: <em>Pin to <code>click&lt;8.2.0</code>, pin <code>pypiserver</code> based on the Python version</em> by <strong><a href=\"https://github.com/jtpio\">@jtpio</a></strong> merged by <strong><a href=\"https://github.com/krassowski\">@krassowski</a></strong></li>\n<li><a href=\"https://github.com/jupyter-server/jupyter_releaser/issues/608\">(#608)</a>: <em>Replace <code>ubuntu-20.04</code> runners with <code>ubuntu-latest</code></em> by <strong><a href=\"https://github.com/krassowski\">@krassowski</a></strong> merged by <strong><a href=\"https://github.com/jtpio\">@jtpio</a></strong></li>\n<li><a href=\"https://github.com/jupyter-server/jupyter_releaser/issues/609\">(#609)</a>: <em>Require Python 3.9+, test on Python 3.9 and 3.13</em> by <strong><a href=\"https://github.com/krassowski\">@krassowski</a></strong> merged by <strong><a href=\"https://github.com/jtpio\">@jtpio</a></strong></li>\n<li><a href=\"https://github.com/jupyter-server/jupyter_releaser/issues/610\">(#610)</a>: <em>CI troubleshoot</em> by <strong><a href=\"https://github.com/jtpio\">@jtpio</a></strong> merged by <strong><a href=\"https://github.com/jtpio\">@jtpio</a></strong></li>\n</ul>"
      }
     },
     "ba5c9b4920c1465c95175e1ca28203db": {
      "model_module": "@jupyter-widgets/base",
      "model_module_version": "2.0.0",
      "model_name": "LayoutModel",
      "state": {
       "_model_module": "@jupyter-widgets/base",
       "_model_module_version": "2.0.0",
       "_model_name": "LayoutModel",
       "_view_count": null,
       "_view_module": "@jupyter-widgets/base",
       "_view_module_version": "2.0.0",
       "_view_name": "LayoutView",
       "align_content": null,
       "align_items": null,
       "align_self": null,
       "border_bottom": null,
       "border_left": null,
       "border_right": null,
       "border_top": null,
       "bottom": null,
       "display": null,
       "flex": null,
       "flex_flow": null,
       "grid_area": null,
       "grid_auto_columns": null,
       "grid_auto_flow": null,
       "grid_auto_rows": null,
       "grid_column": null,
       "grid_gap": null,
       "grid_row": null,
       "grid_template_areas": null,
       "grid_template_columns": null,
       "grid_template_rows": null,
       "height": null,
       "justify_content": null,
       "justify_items": null,
       "left": null,
       "margin": null,
       "max_height": null,
       "max_width": null,
       "min_height": null,
       "min_width": null,
       "object_fit": null,
       "object_position": null,
       "order": null,
       "overflow": null,
       "padding": null,
       "right": null,
       "top": null,
       "visibility": null,
       "width": null
      }
     },
     "cbb6ce2f0c394bb49de584ccf62eded1": {
      "model_module": "@jupyter-widgets/controls",
      "model_module_version": "2.0.0",
      "model_name": "HTMLStyleModel",
      "state": {
       "_model_module": "@jupyter-widgets/controls",
       "_model_module_version": "2.0.0",
       "_model_name": "HTMLStyleModel",
       "_view_count": null,
       "_view_module": "@jupyter-widgets/base",
       "_view_module_version": "2.0.0",
       "_view_name": "StyleView",
       "background": null,
       "description_width": "",
       "font_size": null,
       "text_color": null
      }
     },
     "cf3e9c1035704cacbeab0ca5c818789f": {
      "model_module": "@jupyter-widgets/controls",
      "model_module_version": "2.0.0",
      "model_name": "HTMLModel",
      "state": {
       "_dom_classes": [],
       "_model_module": "@jupyter-widgets/controls",
       "_model_module_version": "2.0.0",
       "_model_name": "HTMLModel",
       "_view_count": null,
       "_view_module": "@jupyter-widgets/controls",
       "_view_module_version": "2.0.0",
       "_view_name": "HTMLView",
       "description": "",
       "description_allow_html": false,
       "layout": "IPY_MODEL_3871125987df4f1b875cb7e5b38c77aa",
       "placeholder": "​",
       "style": "IPY_MODEL_55202df587d24be89382aab9dd646b23",
       "tabbable": null,
       "tooltip": null,
       "value": "<h5><a href=\"https://github.com/jupyter-server/gateway_provisioners\">jupyter-server/gateway_provisioners</a></h5>\n<ul>\n<li><a href=\"https://github.com/jupyter-server/gateway_provisioners/issues/139\">(#139)</a>: <em>Bug in the YarnProvisioner _query_app_by_name</em> by <strong><a href=\"https://github.com/abppriya\">@abppriya</a></strong></li>\n</ul>"
      }
     },
     "cf88a4d7b540467da828139d2c504bc9": {
      "model_module": "@jupyter-widgets/controls",
      "model_module_version": "2.0.0",
      "model_name": "HTMLStyleModel",
      "state": {
       "_model_module": "@jupyter-widgets/controls",
       "_model_module_version": "2.0.0",
       "_model_name": "HTMLStyleModel",
       "_view_count": null,
       "_view_module": "@jupyter-widgets/base",
       "_view_module_version": "2.0.0",
       "_view_name": "StyleView",
       "background": null,
       "description_width": "",
       "font_size": null,
       "text_color": null
      }
     },
     "d42c74d6109f4ca29450a851173449e5": {
      "model_module": "@jupyter-widgets/controls",
      "model_module_version": "2.0.0",
      "model_name": "HTMLModel",
      "state": {
       "_dom_classes": [],
       "_model_module": "@jupyter-widgets/controls",
       "_model_module_version": "2.0.0",
       "_model_name": "HTMLModel",
       "_view_count": null,
       "_view_module": "@jupyter-widgets/controls",
       "_view_module_version": "2.0.0",
       "_view_name": "HTMLView",
       "description": "",
       "description_allow_html": false,
       "layout": "IPY_MODEL_ae9cd99da0f14d2f8061ab8444a13beb",
       "placeholder": "​",
       "style": "IPY_MODEL_fc93aecb9d4a47e982c4bb11cabb4d56",
       "tabbable": null,
       "tooltip": null,
       "value": "<ul>\n<li>(22) Towards a new generic and composable server - team-compass - <a href=\"https://github.com/jupyter-server/team-compass/issues/11\">#11</a></li>\n<li>(11) Proposal: Restore Notebook execution progress when a browser page is reloaded - jupyter_server - <a href=\"https://github.com/jupyter-server/jupyter_server/issues/1274\">#1274</a></li>\n<li>(9) Feature Request: Health check for enterprise gateway - enterprise_gateway - <a href=\"https://github.com/jupyter-server/enterprise_gateway/issues/697\">#697</a></li>\n<li>(9) Add GPU usage? - jupyter-resource-usage - <a href=\"https://github.com/jupyter-server/jupyter-resource-usage/issues/12\">#12</a></li>\n<li>(8) 'NoneType' object has no attribute 'kernel_ws_protocol' - jupyter_server - <a href=\"https://github.com/jupyter-server/jupyter_server/issues/1265\">#1265</a></li>\n<li>(5) Automatically delete all old Notebook jobs - jupyter-scheduler - <a href=\"https://github.com/jupyter-server/jupyter-scheduler/issues/328\">#328</a></li>\n<li>(4) [Proposal] Jupyter Server should handle resolving kernel lifecycle and execution states. - jupyter_server - <a href=\"https://github.com/jupyter-server/jupyter_server/issues/990\">#990</a></li>\n<li>(4)  Adding a release date alongside the release tag would be useful - jupyter_releaser - <a href=\"https://github.com/jupyter-server/jupyter_releaser/issues/600\">#600</a></li>\n<li>(4) Run python script files as jobs - jupyter-scheduler - <a href=\"https://github.com/jupyter-server/jupyter-scheduler/issues/409\">#409</a></li>\n<li>(4) Websocket connect rejected - jupyverse - <a href=\"https://github.com/jupyter-server/jupyverse/issues/409\">#409</a></li>\n<li>(3) Metric Collection and Montioring - enterprise_gateway - <a href=\"https://github.com/jupyter-server/enterprise_gateway/issues/731\">#731</a></li>\n<li>(3) Enable users to access the jupyter server logs - jupyter_server - <a href=\"https://github.com/jupyter-server/jupyter_server/issues/684\">#684</a></li>\n<li>(3) Idea💡 Use Cloud Native K8S Jupyter Operator - enterprise_gateway - <a href=\"https://github.com/jupyter-server/enterprise_gateway/issues/1025\">#1025</a></li>\n<li>(3) Remove usages of tornado io_loop in favor of native asyncio - jupyter_server - <a href=\"https://github.com/jupyter-server/jupyter_server/issues/1362\">#1362</a></li>\n<li>(3) Tracking free-threading support - jupyter_server - <a href=\"https://github.com/jupyter-server/jupyter_server/issues/1473\">#1473</a></li>\n<li>(3) Add Security.txt File - jupyter_server - <a href=\"https://github.com/jupyter-server/jupyter_server/issues/249\">#249</a></li>\n<li>(3) Convert tests to pytest framework - enterprise_gateway - <a href=\"https://github.com/jupyter-server/enterprise_gateway/issues/1089\">#1089</a></li>\n<li>(3) Shutting down the server started with password pre-set will encounter an error <code>tornado.httpclient.HTTPClientError: HTTP 403: Forbidden</code> - jupyter_server - <a href=\"https://github.com/jupyter-server/jupyter_server/issues/1008\">#1008</a></li>\n<li>(3) Support websocket connections in notebook-http mode - kernel_gateway - <a href=\"https://github.com/jupyter-server/kernel_gateway/issues/60\">#60</a></li>\n<li>(3) Serve kernel WASM assets - jupyter_server - <a href=\"https://github.com/jupyter-server/jupyter_server/issues/1376\">#1376</a></li>\n<li>(3) Registering new file formats for the ContentsManager - jupyter_server - <a href=\"https://github.com/jupyter-server/jupyter_server/issues/1456\">#1456</a></li>\n<li>(2) Issue when using directory named \"checkpoints\" or \"trust\" - jupyter_server - <a href=\"https://github.com/jupyter-server/jupyter_server/issues/58\">#58</a></li>\n<li>(2) Populate release as part of the <code>Step 1: Prep Release</code> workflow? - jupyter_releaser - <a href=\"https://github.com/jupyter-server/jupyter_releaser/issues/552\">#552</a></li>\n<li>(2) Make frontends discoverable and add a frontend alias. - jupyter_server - <a href=\"https://github.com/jupyter-server/jupyter_server/issues/121\">#121</a></li>\n<li>(2) Queue of jobs with max concurrency - jupyter-scheduler - <a href=\"https://github.com/jupyter-server/jupyter-scheduler/issues/447\">#447</a></li>\n</ul>"
      }
     },
     "d4eedaa5c83f4ec797c103999240d5f7": {
      "model_module": "@jupyter-widgets/controls",
      "model_module_version": "2.0.0",
      "model_name": "HTMLModel",
      "state": {
       "_dom_classes": [],
       "_model_module": "@jupyter-widgets/controls",
       "_model_module_version": "2.0.0",
       "_model_name": "HTMLModel",
       "_view_count": null,
       "_view_module": "@jupyter-widgets/controls",
       "_view_module_version": "2.0.0",
       "_view_name": "HTMLView",
       "description": "",
       "description_allow_html": false,
       "layout": "IPY_MODEL_8a5f2532a3e44d12bb4bfe49a648d80e",
       "placeholder": "​",
       "style": "IPY_MODEL_f706b79a5ec34970ae9a7fe51ad9c965",
       "tabbable": null,
       "tooltip": null,
       "value": "<h5><a href=\"https://github.com/jupyter-server/enterprise_gateway\">jupyter-server/enterprise_gateway</a></h5>\n<ul>\n<li><a href=\"https://github.com/jupyter-server/enterprise_gateway/issues/1392\">(#1392)</a>: _Custom Spark 3.5.3 Kernel _ by <strong><a href=\"https://github.com/fatihmete\">@fatihmete</a></strong></li>\n<li><a href=\"https://github.com/jupyter-server/enterprise_gateway/issues/1404\">(#1404)</a>: <em>Setting up Jupyterhub to work with Enterprise Gateway</em> by <strong><a href=\"https://github.com/demardefrozen10\">@demardefrozen10</a></strong></li>\n<li><a href=\"https://github.com/jupyter-server/enterprise_gateway/issues/1359\">(#1359)</a>: <em>KIP cannot use ImagePullSecret when using containerd</em> by <strong><a href=\"https://github.com/Buchhold\">@Buchhold</a></strong></li>\n<li><a href=\"https://github.com/jupyter-server/enterprise_gateway/issues/1382\">(#1382)</a>: <em>Error: module 'kubernetes.client' has no attribute 'V1Subject'</em> by <strong><a href=\"https://github.com/fm2022aa\">@fm2022aa</a></strong></li>\n<li><a href=\"https://github.com/jupyter-server/enterprise_gateway/issues/1402\">(#1402)</a>: <em>Fix Infinite Loop in WebSocket Connection Message Handling</em> by <strong><a href=\"https://github.com/zdhdsx\">@zdhdsx</a></strong></li>\n</ul>"
      }
     },
     "d60f1bd91dc14d7d93eab737cae0dc46": {
      "model_module": "@jupyter-widgets/base",
      "model_module_version": "2.0.0",
      "model_name": "LayoutModel",
      "state": {
       "_model_module": "@jupyter-widgets/base",
       "_model_module_version": "2.0.0",
       "_model_name": "LayoutModel",
       "_view_count": null,
       "_view_module": "@jupyter-widgets/base",
       "_view_module_version": "2.0.0",
       "_view_name": "LayoutView",
       "align_content": null,
       "align_items": null,
       "align_self": null,
       "border_bottom": null,
       "border_left": null,
       "border_right": null,
       "border_top": null,
       "bottom": null,
       "display": null,
       "flex": null,
       "flex_flow": null,
       "grid_area": null,
       "grid_auto_columns": null,
       "grid_auto_flow": null,
       "grid_auto_rows": null,
       "grid_column": null,
       "grid_gap": null,
       "grid_row": null,
       "grid_template_areas": null,
       "grid_template_columns": null,
       "grid_template_rows": null,
       "height": null,
       "justify_content": null,
       "justify_items": null,
       "left": null,
       "margin": null,
       "max_height": null,
       "max_width": null,
       "min_height": null,
       "min_width": null,
       "object_fit": null,
       "object_position": null,
       "order": null,
       "overflow": null,
       "padding": null,
       "right": null,
       "top": null,
       "visibility": null,
       "width": null
      }
     },
     "d63c13cc24cd4b318a953e596b181ee4": {
      "model_module": "@jupyter-widgets/controls",
      "model_module_version": "2.0.0",
      "model_name": "HTMLStyleModel",
      "state": {
       "_model_module": "@jupyter-widgets/controls",
       "_model_module_version": "2.0.0",
       "_model_name": "HTMLStyleModel",
       "_view_count": null,
       "_view_module": "@jupyter-widgets/base",
       "_view_module_version": "2.0.0",
       "_view_name": "StyleView",
       "background": null,
       "description_width": "",
       "font_size": null,
       "text_color": null
      }
     },
     "d6e64bb26f2545a38da1cfed8c521f77": {
      "model_module": "@jupyter-widgets/controls",
      "model_module_version": "2.0.0",
      "model_name": "HTMLStyleModel",
      "state": {
       "_model_module": "@jupyter-widgets/controls",
       "_model_module_version": "2.0.0",
       "_model_name": "HTMLStyleModel",
       "_view_count": null,
       "_view_module": "@jupyter-widgets/base",
       "_view_module_version": "2.0.0",
       "_view_name": "StyleView",
       "background": null,
       "description_width": "",
       "font_size": null,
       "text_color": null
      }
     },
     "d743f29ae1c9419784213a169a2af2ba": {
      "model_module": "@jupyter-widgets/base",
      "model_module_version": "2.0.0",
      "model_name": "LayoutModel",
      "state": {
       "_model_module": "@jupyter-widgets/base",
       "_model_module_version": "2.0.0",
       "_model_name": "LayoutModel",
       "_view_count": null,
       "_view_module": "@jupyter-widgets/base",
       "_view_module_version": "2.0.0",
       "_view_name": "LayoutView",
       "align_content": null,
       "align_items": null,
       "align_self": null,
       "border_bottom": null,
       "border_left": null,
       "border_right": null,
       "border_top": null,
       "bottom": null,
       "display": null,
       "flex": null,
       "flex_flow": null,
       "grid_area": null,
       "grid_auto_columns": null,
       "grid_auto_flow": null,
       "grid_auto_rows": null,
       "grid_column": null,
       "grid_gap": null,
       "grid_row": null,
       "grid_template_areas": null,
       "grid_template_columns": null,
       "grid_template_rows": null,
       "height": null,
       "justify_content": null,
       "justify_items": null,
       "left": null,
       "margin": null,
       "max_height": null,
       "max_width": null,
       "min_height": null,
       "min_width": null,
       "object_fit": null,
       "object_position": null,
       "order": null,
       "overflow": null,
       "padding": null,
       "right": null,
       "top": null,
       "visibility": null,
       "width": null
      }
     },
     "d7fc1b56a5b94e3c9c10bd1e8008f58b": {
      "model_module": "@jupyter-widgets/controls",
      "model_module_version": "2.0.0",
      "model_name": "HTMLModel",
      "state": {
       "_dom_classes": [],
       "_model_module": "@jupyter-widgets/controls",
       "_model_module_version": "2.0.0",
       "_model_name": "HTMLModel",
       "_view_count": null,
       "_view_module": "@jupyter-widgets/controls",
       "_view_module_version": "2.0.0",
       "_view_name": "HTMLView",
       "description": "",
       "description_allow_html": false,
       "layout": "IPY_MODEL_fbb44344cd8b487cbff87729b81bd96c",
       "placeholder": "​",
       "style": "IPY_MODEL_cf88a4d7b540467da828139d2c504bc9",
       "tabbable": null,
       "tooltip": null,
       "value": "<h5><a href=\"https://github.com/jupyter-server/jupyter_releaser\">jupyter-server/jupyter_releaser</a></h5>\n<ul>\n<li><a href=\"https://github.com/jupyter-server/jupyter_releaser/issues/604\">(#604)</a>: <em>Publish Release fails in FPS repo</em> by <strong><a href=\"https://github.com/davidbrochart\">@davidbrochart</a></strong></li>\n<li><a href=\"https://github.com/jupyter-server/jupyter_releaser/issues/606\">(#606)</a>: <em>Draft GitHub Release not created</em> by <strong><a href=\"https://github.com/jtpio\">@jtpio</a></strong></li>\n<li><a href=\"https://github.com/jupyter-server/jupyter_releaser/issues/603\">(#603)</a>: <em>Supporting publishing to multiple npm registries</em> by <strong><a href=\"https://github.com/martenrichter\">@martenrichter</a></strong></li>\n</ul>"
      }
     },
     "dd1e865867544f408cf20033a27bd43c": {
      "model_module": "@jupyter-widgets/controls",
      "model_module_version": "2.0.0",
      "model_name": "TabModel",
      "state": {
       "_dom_classes": [],
       "_model_module": "@jupyter-widgets/controls",
       "_model_module_version": "2.0.0",
       "_model_name": "TabModel",
       "_view_count": null,
       "_view_module": "@jupyter-widgets/controls",
       "_view_module_version": "2.0.0",
       "_view_name": "TabView",
       "box_style": "",
       "children": [
        "IPY_MODEL_4bc1ec0397ec4e7185691d0bf57f90a2",
        "IPY_MODEL_9b954a0e2a164e0eb42c0293bde2053b",
        "IPY_MODEL_eb3491238b1244139683fbc34f4d4d6a",
        "IPY_MODEL_7d6084d22a7744e08d7061f211a3473f",
        "IPY_MODEL_360b5c98dedb483ea0d1cda42ec84abf",
        "IPY_MODEL_d7fc1b56a5b94e3c9c10bd1e8008f58b",
        "IPY_MODEL_3eebed348dd541b1aa67613ff05b3114",
        "IPY_MODEL_04ea25217cc94024afaa0267ce7e5368",
        "IPY_MODEL_8ce7fb45e8164a40a7e2db02ec7fe43e",
        "IPY_MODEL_17b0b2d6cc9d42fca40f2a21a40905eb"
       ],
       "layout": "IPY_MODEL_9ba5289d6dd34e86b2ec6f0ec124bd72",
       "selected_index": 0,
       "tabbable": null,
       "titles": [
        "enterprise_gateway",
        "fps",
        "gateway_provisioners",
        "jupyter-resource-usage",
        "jupyter-scheduler",
        "jupyter_releaser",
        "jupyter_server",
        "jupyverse",
        "kernel_gateway",
        "team-compass"
       ],
       "tooltip": null
      }
     },
     "e07cd96d65df4fc8ae639bd58d16db50": {
      "model_module": "@jupyter-widgets/base",
      "model_module_version": "2.0.0",
      "model_name": "LayoutModel",
      "state": {
       "_model_module": "@jupyter-widgets/base",
       "_model_module_version": "2.0.0",
       "_model_name": "LayoutModel",
       "_view_count": null,
       "_view_module": "@jupyter-widgets/base",
       "_view_module_version": "2.0.0",
       "_view_name": "LayoutView",
       "align_content": null,
       "align_items": null,
       "align_self": null,
       "border_bottom": null,
       "border_left": null,
       "border_right": null,
       "border_top": null,
       "bottom": null,
       "display": null,
       "flex": null,
       "flex_flow": null,
       "grid_area": null,
       "grid_auto_columns": null,
       "grid_auto_flow": null,
       "grid_auto_rows": null,
       "grid_column": null,
       "grid_gap": null,
       "grid_row": null,
       "grid_template_areas": null,
       "grid_template_columns": null,
       "grid_template_rows": null,
       "height": null,
       "justify_content": null,
       "justify_items": null,
       "left": null,
       "margin": null,
       "max_height": null,
       "max_width": null,
       "min_height": null,
       "min_width": null,
       "object_fit": null,
       "object_position": null,
       "order": null,
       "overflow": null,
       "padding": null,
       "right": null,
       "top": null,
       "visibility": null,
       "width": null
      }
     },
     "e22c14ce487d4d3ca63ad54983c13a7d": {
      "model_module": "@jupyter-widgets/controls",
      "model_module_version": "2.0.0",
      "model_name": "HTMLStyleModel",
      "state": {
       "_model_module": "@jupyter-widgets/controls",
       "_model_module_version": "2.0.0",
       "_model_name": "HTMLStyleModel",
       "_view_count": null,
       "_view_module": "@jupyter-widgets/base",
       "_view_module_version": "2.0.0",
       "_view_name": "StyleView",
       "background": null,
       "description_width": "",
       "font_size": null,
       "text_color": null
      }
     },
     "e58b32b5621249858e9c02228388cbc8": {
      "model_module": "@jupyter-widgets/controls",
      "model_module_version": "2.0.0",
      "model_name": "HTMLStyleModel",
      "state": {
       "_model_module": "@jupyter-widgets/controls",
       "_model_module_version": "2.0.0",
       "_model_name": "HTMLStyleModel",
       "_view_count": null,
       "_view_module": "@jupyter-widgets/base",
       "_view_module_version": "2.0.0",
       "_view_name": "StyleView",
       "background": null,
       "description_width": "",
       "font_size": null,
       "text_color": null
      }
     },
     "e59674aff8f94d7185ab16300a0505bc": {
      "model_module": "@jupyter-widgets/controls",
      "model_module_version": "2.0.0",
      "model_name": "HTMLModel",
      "state": {
       "_dom_classes": [],
       "_model_module": "@jupyter-widgets/controls",
       "_model_module_version": "2.0.0",
       "_model_name": "HTMLModel",
       "_view_count": null,
       "_view_module": "@jupyter-widgets/controls",
       "_view_module_version": "2.0.0",
       "_view_name": "HTMLView",
       "description": "",
       "description_allow_html": false,
       "layout": "IPY_MODEL_e07cd96d65df4fc8ae639bd58d16db50",
       "placeholder": "​",
       "style": "IPY_MODEL_a8e5d0e1ff5347b98b7a3810957bdbff",
       "tabbable": null,
       "tooltip": null,
       "value": "<h5><a href=\"https://github.com/jupyter-server/jupyter-scheduler\">jupyter-server/jupyter-scheduler</a></h5>\n<ul>\n<li><a href=\"https://github.com/jupyter-server/jupyter-scheduler/issues/328\">(#328)</a>: <em>Automatically delete all old Notebook jobs</em> by <strong><a href=\"https://github.com/nakvic\">@nakvic</a></strong></li>\n<li><a href=\"https://github.com/jupyter-server/jupyter-scheduler/issues/497\">(#497)</a>: <em>Empty \"Section Navigation\" in user docs</em> by <strong><a href=\"https://github.com/andrii-i\">@andrii-i</a></strong></li>\n<li><a href=\"https://github.com/jupyter-server/jupyter-scheduler/issues/563\">(#563)</a>: <em>Manage the culling of Jupyter Server with scheduled jobs to support JupyterHub</em> by <strong><a href=\"https://github.com/thomasLeclaire\">@thomasLeclaire</a></strong></li>\n<li><a href=\"https://github.com/jupyter-server/jupyter-scheduler/issues/560\">(#560)</a>: <em>JupyterLab 4 classifier is missing</em> by <strong><a href=\"https://github.com/krassowski\">@krassowski</a></strong></li>\n<li><a href=\"https://github.com/jupyter-server/jupyter-scheduler/issues/414\">(#414)</a>: <em>UI for event driven notebook execution</em> by <strong><a href=\"https://github.com/andrii-i\">@andrii-i</a></strong></li>\n</ul>"
      }
     },
     "eb3491238b1244139683fbc34f4d4d6a": {
      "model_module": "@jupyter-widgets/controls",
      "model_module_version": "2.0.0",
      "model_name": "HTMLModel",
      "state": {
       "_dom_classes": [],
       "_model_module": "@jupyter-widgets/controls",
       "_model_module_version": "2.0.0",
       "_model_name": "HTMLModel",
       "_view_count": null,
       "_view_module": "@jupyter-widgets/controls",
       "_view_module_version": "2.0.0",
       "_view_name": "HTMLView",
       "description": "",
       "description_allow_html": false,
       "layout": "IPY_MODEL_ba5c9b4920c1465c95175e1ca28203db",
       "placeholder": "​",
       "style": "IPY_MODEL_fc65c09106ad461f9d758e2625c717b0",
       "tabbable": null,
       "tooltip": null,
       "value": "<h5><a href=\"https://github.com/jupyter-server/gateway_provisioners\">jupyter-server/gateway_provisioners</a></h5>\n<ul>\n<li><a href=\"https://github.com/jupyter-server/gateway_provisioners/issues/139\">(#139)</a>: <em>Bug in the YarnProvisioner _query_app_by_name</em> by <strong><a href=\"https://github.com/abppriya\">@abppriya</a></strong></li>\n</ul>"
      }
     },
     "efad476eb8214e0ead4731ba442d6e81": {
      "model_module": "@jupyter-widgets/controls",
      "model_module_version": "2.0.0",
      "model_name": "HTMLModel",
      "state": {
       "_dom_classes": [],
       "_model_module": "@jupyter-widgets/controls",
       "_model_module_version": "2.0.0",
       "_model_name": "HTMLModel",
       "_view_count": null,
       "_view_module": "@jupyter-widgets/controls",
       "_view_module_version": "2.0.0",
       "_view_name": "HTMLView",
       "description": "",
       "description_allow_html": false,
       "layout": "IPY_MODEL_9fe1c152dd9a439faf4b8cd3fb57b7ac",
       "placeholder": "​",
       "style": "IPY_MODEL_b06aea2f8a7d42ca94ecb419cc8328bf",
       "tabbable": null,
       "tooltip": null,
       "value": "<h4>Closed PRs for repo: <a href=\"https://github.com/jupyter-server/jupyverse\">jupyter-server/jupyverse</a></h4>\n<h5></h5>\n<ul>\n<li><a href=\"https://github.com/jupyter-server/jupyverse/issues/450\">(#450)</a>: <em>[pre-commit.ci] pre-commit autoupdate</em> by <strong><a href=\"https://github.com/pre-commit-ci[bot]\">@pre-commit-ci[bot]</a></strong> merged by <strong><a href=\"https://github.com/davidbrochart\">@davidbrochart</a></strong></li>\n<li><a href=\"https://github.com/jupyter-server/jupyverse/issues/451\">(#451)</a>: <em>Fix multiple sessions in one kernel bug</em> by <strong><a href=\"https://github.com/rakhmaevao\">@rakhmaevao</a></strong> merged by <strong><a href=\"https://github.com/davidbrochart\">@davidbrochart</a></strong></li>\n<li><a href=\"https://github.com/jupyter-server/jupyverse/issues/459\">(#459)</a>: <em>Fix fps-auth-jupyterhub dependency</em> by <strong><a href=\"https://github.com/davidbrochart\">@davidbrochart</a></strong> merged by <strong><a href=\"https://github.com/davidbrochart\">@davidbrochart</a></strong></li>\n<li><a href=\"https://github.com/jupyter-server/jupyverse/issues/460\">(#460)</a>: <em>Fix fps-auth-jupyterhub</em> by <strong><a href=\"https://github.com/davidbrochart\">@davidbrochart</a></strong> merged by <strong><a href=\"https://github.com/davidbrochart\">@davidbrochart</a></strong></li>\n<li><a href=\"https://github.com/jupyter-server/jupyverse/issues/461\">(#461)</a>: <em>Use AnyIO's wait_readable for terminals</em> by <strong><a href=\"https://github.com/davidbrochart\">@davidbrochart</a></strong> merged by <strong><a href=\"https://github.com/davidbrochart\">@davidbrochart</a></strong></li>\n<li><a href=\"https://github.com/jupyter-server/jupyverse/issues/462\">(#462)</a>: <em>Bump FPS v0.1.3</em> by <strong><a href=\"https://github.com/davidbrochart\">@davidbrochart</a></strong> merged by <strong><a href=\"https://github.com/davidbrochart\">@davidbrochart</a></strong></li>\n<li><a href=\"https://github.com/jupyter-server/jupyverse/issues/463\">(#463)</a>: <em>Fix connection to existing kernel</em> by <strong><a href=\"https://github.com/davidbrochart\">@davidbrochart</a></strong> merged by <strong><a href=\"https://github.com/davidbrochart\">@davidbrochart</a></strong></li>\n<li><a href=\"https://github.com/jupyter-server/jupyverse/issues/465\">(#465)</a>: <em>[pre-commit.ci] pre-commit autoupdate</em> by <strong><a href=\"https://github.com/pre-commit-ci[bot]\">@pre-commit-ci[bot]</a></strong> merged by <strong><a href=\"https://github.com/davidbrochart\">@davidbrochart</a></strong></li>\n<li><a href=\"https://github.com/jupyter-server/jupyverse/issues/466\">(#466)</a>: <em>Use zmq-anyio</em> by <strong><a href=\"https://github.com/davidbrochart\">@davidbrochart</a></strong> merged by <strong><a href=\"https://github.com/davidbrochart\">@davidbrochart</a></strong></li>\n<li><a href=\"https://github.com/jupyter-server/jupyverse/issues/467\">(#467)</a>: <em>Bump FPS v0.1.5</em> by <strong><a href=\"https://github.com/davidbrochart\">@davidbrochart</a></strong> merged by <strong><a href=\"https://github.com/davidbrochart\">@davidbrochart</a></strong></li>\n<li><a href=\"https://github.com/jupyter-server/jupyverse/issues/468\">(#468)</a>: <em>Kernel Stop Fix</em> by <strong><a href=\"https://github.com/rakhmaevao\">@rakhmaevao</a></strong> merged by <strong><a href=\"https://github.com/rakhmaevao\">@rakhmaevao</a></strong></li>\n<li><a href=\"https://github.com/jupyter-server/jupyverse/issues/469\">(#469)</a>: <em>[pre-commit.ci] pre-commit autoupdate</em> by <strong><a href=\"https://github.com/pre-commit-ci[bot]\">@pre-commit-ci[bot]</a></strong> merged by <strong><a href=\"https://github.com/davidbrochart\">@davidbrochart</a></strong></li>\n<li><a href=\"https://github.com/jupyter-server/jupyverse/issues/470\">(#470)</a>: <em>[pre-commit.ci] pre-commit autoupdate</em> by <strong><a href=\"https://github.com/pre-commit-ci[bot]\">@pre-commit-ci[bot]</a></strong> merged by <strong><a href=\"https://github.com/davidbrochart\">@davidbrochart</a></strong></li>\n<li><a href=\"https://github.com/jupyter-server/jupyverse/issues/472\">(#472)</a>: <em>[pre-commit.ci] pre-commit autoupdate</em> by <strong><a href=\"https://github.com/pre-commit-ci[bot]\">@pre-commit-ci[bot]</a></strong> merged by <strong><a href=\"https://github.com/davidbrochart\">@davidbrochart</a></strong></li>\n<li><a href=\"https://github.com/jupyter-server/jupyverse/issues/473\">(#473)</a>: <em>Fix kernel shutdown</em> by <strong><a href=\"https://github.com/davidbrochart\">@davidbrochart</a></strong> merged by <strong><a href=\"https://github.com/davidbrochart\">@davidbrochart</a></strong></li>\n<li><a href=\"https://github.com/jupyter-server/jupyverse/issues/474\">(#474)</a>: <em>Convert repo to use releaser from repo</em> by <strong><a href=\"https://github.com/davidbrochart\">@davidbrochart</a></strong> merged by <strong><a href=\"https://github.com/davidbrochart\">@davidbrochart</a></strong></li>\n<li><a href=\"https://github.com/jupyter-server/jupyverse/issues/475\">(#475)</a>: <em>Update types</em> by <strong><a href=\"https://github.com/davidbrochart\">@davidbrochart</a></strong> merged by <strong><a href=\"https://github.com/davidbrochart\">@davidbrochart</a></strong></li>\n<li><a href=\"https://github.com/jupyter-server/jupyverse/issues/476\">(#476)</a>: <em>Bump fps &gt;=0.2.1</em> by <strong><a href=\"https://github.com/davidbrochart\">@davidbrochart</a></strong> merged by <strong><a href=\"https://github.com/davidbrochart\">@davidbrochart</a></strong></li>\n<li><a href=\"https://github.com/jupyter-server/jupyverse/issues/478\">(#478)</a>: <em>Check if file exists before inserting it in fileids</em> by <strong><a href=\"https://github.com/davidbrochart\">@davidbrochart</a></strong> merged by <strong><a href=\"https://github.com/davidbrochart\">@davidbrochart</a></strong></li>\n<li><a href=\"https://github.com/jupyter-server/jupyverse/issues/479\">(#479)</a>: <em>[pre-commit.ci] pre-commit autoupdate</em> by <strong><a href=\"https://github.com/pre-commit-ci[bot]\">@pre-commit-ci[bot]</a></strong> merged by <strong><a href=\"https://github.com/davidbrochart\">@davidbrochart</a></strong></li>\n<li><a href=\"https://github.com/jupyter-server/jupyverse/issues/480\">(#480)</a>: <em>Fix stream outputs</em> by <strong><a href=\"https://github.com/davidbrochart\">@davidbrochart</a></strong> merged by <strong><a href=\"https://github.com/davidbrochart\">@davidbrochart</a></strong></li>\n<li><a href=\"https://github.com/jupyter-server/jupyverse/issues/481\">(#481)</a>: <em>[pre-commit.ci] pre-commit autoupdate</em> by <strong><a href=\"https://github.com/pre-commit-ci[bot]\">@pre-commit-ci[bot]</a></strong> merged by <strong><a href=\"https://github.com/davidbrochart\">@davidbrochart</a></strong></li>\n<li><a href=\"https://github.com/jupyter-server/jupyverse/issues/482\">(#482)</a>: <em>Upgrade FPS to v0.3.0</em> by <strong><a href=\"https://github.com/davidbrochart\">@davidbrochart</a></strong> merged by <strong><a href=\"https://github.com/davidbrochart\">@davidbrochart</a></strong></li>\n<li><a href=\"https://github.com/jupyter-server/jupyverse/issues/483\">(#483)</a>: <em>[pre-commit.ci] pre-commit autoupdate</em> by <strong><a href=\"https://github.com/pre-commit-ci[bot]\">@pre-commit-ci[bot]</a></strong> merged by <strong><a href=\"https://github.com/davidbrochart\">@davidbrochart</a></strong></li>\n<li><a href=\"https://github.com/jupyter-server/jupyverse/issues/484\">(#484)</a>: <em>Use jupyter-ydoc instead of vendored version</em> by <strong><a href=\"https://github.com/davidbrochart\">@davidbrochart</a></strong> merged by <strong><a href=\"https://github.com/davidbrochart\">@davidbrochart</a></strong></li>\n<li><a href=\"https://github.com/jupyter-server/jupyverse/issues/485\">(#485)</a>: <em>[pre-commit.ci] pre-commit autoupdate</em> by <strong><a href=\"https://github.com/pre-commit-ci[bot]\">@pre-commit-ci[bot]</a></strong> merged by <strong><a href=\"https://github.com/davidbrochart\">@davidbrochart</a></strong></li>\n<li><a href=\"https://github.com/jupyter-server/jupyverse/issues/486\">(#486)</a>: <em>[pre-commit.ci] pre-commit autoupdate</em> by <strong><a href=\"https://github.com/pre-commit-ci[bot]\">@pre-commit-ci[bot]</a></strong> merged by <strong><a href=\"https://github.com/davidbrochart\">@davidbrochart</a></strong></li>\n<li><a href=\"https://github.com/jupyter-server/jupyverse/issues/487\">(#487)</a>: <em>[pre-commit.ci] pre-commit autoupdate</em> by <strong><a href=\"https://github.com/pre-commit-ci[bot]\">@pre-commit-ci[bot]</a></strong> merged by <strong><a href=\"https://github.com/davidbrochart\">@davidbrochart</a></strong></li>\n</ul>"
      }
     },
     "f234a5ff18114c2aa8da1ab14320f505": {
      "model_module": "@jupyter-widgets/controls",
      "model_module_version": "2.0.0",
      "model_name": "HTMLModel",
      "state": {
       "_dom_classes": [],
       "_model_module": "@jupyter-widgets/controls",
       "_model_module_version": "2.0.0",
       "_model_name": "HTMLModel",
       "_view_count": null,
       "_view_module": "@jupyter-widgets/controls",
       "_view_module_version": "2.0.0",
       "_view_name": "HTMLView",
       "description": "",
       "description_allow_html": false,
       "layout": "IPY_MODEL_fb78f6062aff4d2b945621e215b1e06e",
       "placeholder": "​",
       "style": "IPY_MODEL_964a4fec92e04e08ace470f7a4315d2c",
       "tabbable": null,
       "tooltip": null,
       "value": "<h4>Closed PRs for repo: <a href=\"https://github.com/jupyter-server/jupyter_ydoc\">jupyter-server/jupyter_ydoc</a></h4>\n<h5></h5>\n<ul>\n<li><a href=\"https://github.com/jupyter-server/jupyter_ydoc/issues/312\">(#312)</a>: <em>Fix including Typescript source in package</em> by <strong><a href=\"https://github.com/fcollonval\">@fcollonval</a></strong> merged by <strong><a href=\"https://github.com/fcollonval\">@fcollonval</a></strong></li>\n<li><a href=\"https://github.com/jupyter-server/jupyter_ydoc/issues/313\">(#313)</a>: <em>[pre-commit.ci] pre-commit autoupdate</em> by <strong><a href=\"https://github.com/pre-commit-ci[bot]\">@pre-commit-ci[bot]</a></strong> merged by <strong><a href=\"https://github.com/davidbrochart\">@davidbrochart</a></strong></li>\n<li><a href=\"https://github.com/jupyter-server/jupyter_ydoc/issues/314\">(#314)</a>: <em>[pre-commit.ci] pre-commit autoupdate</em> by <strong><a href=\"https://github.com/pre-commit-ci[bot]\">@pre-commit-ci[bot]</a></strong> merged by <strong><a href=\"https://github.com/davidbrochart\">@davidbrochart</a></strong></li>\n<li><a href=\"https://github.com/jupyter-server/jupyter_ydoc/issues/315\">(#315)</a>: <em>[pre-commit.ci] pre-commit autoupdate</em> by <strong><a href=\"https://github.com/pre-commit-ci[bot]\">@pre-commit-ci[bot]</a></strong> merged by <strong><a href=\"https://github.com/davidbrochart\">@davidbrochart</a></strong></li>\n<li><a href=\"https://github.com/jupyter-server/jupyter_ydoc/issues/316\">(#316)</a>: <em>[pre-commit.ci] pre-commit autoupdate</em> by <strong><a href=\"https://github.com/pre-commit-ci[bot]\">@pre-commit-ci[bot]</a></strong> merged by <strong><a href=\"https://github.com/davidbrochart\">@davidbrochart</a></strong></li>\n<li><a href=\"https://github.com/jupyter-server/jupyter_ydoc/issues/317\">(#317)</a>: <em>[pre-commit.ci] pre-commit autoupdate</em> by <strong><a href=\"https://github.com/pre-commit-ci[bot]\">@pre-commit-ci[bot]</a></strong> merged by <strong><a href=\"https://github.com/davidbrochart\">@davidbrochart</a></strong></li>\n<li><a href=\"https://github.com/jupyter-server/jupyter_ydoc/issues/319\">(#319)</a>: <em>[pre-commit.ci] pre-commit autoupdate</em> by <strong><a href=\"https://github.com/pre-commit-ci[bot]\">@pre-commit-ci[bot]</a></strong> merged by <strong><a href=\"https://github.com/davidbrochart\">@davidbrochart</a></strong></li>\n<li><a href=\"https://github.com/jupyter-server/jupyter_ydoc/issues/320\">(#320)</a>: <em>[pre-commit.ci] pre-commit autoupdate</em> by <strong><a href=\"https://github.com/pre-commit-ci[bot]\">@pre-commit-ci[bot]</a></strong> merged by <strong><a href=\"https://github.com/davidbrochart\">@davidbrochart</a></strong></li>\n<li><a href=\"https://github.com/jupyter-server/jupyter_ydoc/issues/321\">(#321)</a>: <em>Set <code>undoManager</code> in constructor for cells in notebook</em> by <strong><a href=\"https://github.com/krassowski\">@krassowski</a></strong> merged by <strong><a href=\"https://github.com/krassowski\">@krassowski</a></strong></li>\n<li><a href=\"https://github.com/jupyter-server/jupyter_ydoc/issues/322\">(#322)</a>: <em>[pre-commit.ci] pre-commit autoupdate</em> by <strong><a href=\"https://github.com/pre-commit-ci[bot]\">@pre-commit-ci[bot]</a></strong> merged by <strong><a href=\"https://github.com/davidbrochart\">@davidbrochart</a></strong></li>\n<li><a href=\"https://github.com/jupyter-server/jupyter_ydoc/issues/323\">(#323)</a>: <em>[pre-commit.ci] pre-commit autoupdate</em> by <strong><a href=\"https://github.com/pre-commit-ci[bot]\">@pre-commit-ci[bot]</a></strong> merged by <strong><a href=\"https://github.com/davidbrochart\">@davidbrochart</a></strong></li>\n<li><a href=\"https://github.com/jupyter-server/jupyter_ydoc/issues/324\">(#324)</a>: <em>[pre-commit.ci] pre-commit autoupdate</em> by <strong><a href=\"https://github.com/pre-commit-ci[bot]\">@pre-commit-ci[bot]</a></strong> merged by <strong><a href=\"https://github.com/davidbrochart\">@davidbrochart</a></strong></li>\n<li><a href=\"https://github.com/jupyter-server/jupyter_ydoc/issues/325\">(#325)</a>: <em>Bump <code>ip</code> from 2.0.0 to 2.0.1</em> by <strong><a href=\"https://github.com/dlqqq\">@dlqqq</a></strong> merged by <strong><a href=\"https://github.com/davidbrochart\">@davidbrochart</a></strong></li>\n<li><a href=\"https://github.com/jupyter-server/jupyter_ydoc/issues/326\">(#326)</a>: <em>[pre-commit.ci] pre-commit autoupdate</em> by <strong><a href=\"https://github.com/pre-commit-ci[bot]\">@pre-commit-ci[bot]</a></strong> merged by <strong><a href=\"https://github.com/davidbrochart\">@davidbrochart</a></strong></li>\n</ul>"
      }
     },
     "f706b79a5ec34970ae9a7fe51ad9c965": {
      "model_module": "@jupyter-widgets/controls",
      "model_module_version": "2.0.0",
      "model_name": "HTMLStyleModel",
      "state": {
       "_model_module": "@jupyter-widgets/controls",
       "_model_module_version": "2.0.0",
       "_model_name": "HTMLStyleModel",
       "_view_count": null,
       "_view_module": "@jupyter-widgets/base",
       "_view_module_version": "2.0.0",
       "_view_name": "StyleView",
       "background": null,
       "description_width": "",
       "font_size": null,
       "text_color": null
      }
     },
     "fb78f6062aff4d2b945621e215b1e06e": {
      "model_module": "@jupyter-widgets/base",
      "model_module_version": "2.0.0",
      "model_name": "LayoutModel",
      "state": {
       "_model_module": "@jupyter-widgets/base",
       "_model_module_version": "2.0.0",
       "_model_name": "LayoutModel",
       "_view_count": null,
       "_view_module": "@jupyter-widgets/base",
       "_view_module_version": "2.0.0",
       "_view_name": "LayoutView",
       "align_content": null,
       "align_items": null,
       "align_self": null,
       "border_bottom": null,
       "border_left": null,
       "border_right": null,
       "border_top": null,
       "bottom": null,
       "display": null,
       "flex": null,
       "flex_flow": null,
       "grid_area": null,
       "grid_auto_columns": null,
       "grid_auto_flow": null,
       "grid_auto_rows": null,
       "grid_column": null,
       "grid_gap": null,
       "grid_row": null,
       "grid_template_areas": null,
       "grid_template_columns": null,
       "grid_template_rows": null,
       "height": null,
       "justify_content": null,
       "justify_items": null,
       "left": null,
       "margin": null,
       "max_height": null,
       "max_width": null,
       "min_height": null,
       "min_width": null,
       "object_fit": null,
       "object_position": null,
       "order": null,
       "overflow": null,
       "padding": null,
       "right": null,
       "top": null,
       "visibility": null,
       "width": null
      }
     },
     "fbb44344cd8b487cbff87729b81bd96c": {
      "model_module": "@jupyter-widgets/base",
      "model_module_version": "2.0.0",
      "model_name": "LayoutModel",
      "state": {
       "_model_module": "@jupyter-widgets/base",
       "_model_module_version": "2.0.0",
       "_model_name": "LayoutModel",
       "_view_count": null,
       "_view_module": "@jupyter-widgets/base",
       "_view_module_version": "2.0.0",
       "_view_name": "LayoutView",
       "align_content": null,
       "align_items": null,
       "align_self": null,
       "border_bottom": null,
       "border_left": null,
       "border_right": null,
       "border_top": null,
       "bottom": null,
       "display": null,
       "flex": null,
       "flex_flow": null,
       "grid_area": null,
       "grid_auto_columns": null,
       "grid_auto_flow": null,
       "grid_auto_rows": null,
       "grid_column": null,
       "grid_gap": null,
       "grid_row": null,
       "grid_template_areas": null,
       "grid_template_columns": null,
       "grid_template_rows": null,
       "height": null,
       "justify_content": null,
       "justify_items": null,
       "left": null,
       "margin": null,
       "max_height": null,
       "max_width": null,
       "min_height": null,
       "min_width": null,
       "object_fit": null,
       "object_position": null,
       "order": null,
       "overflow": null,
       "padding": null,
       "right": null,
       "top": null,
       "visibility": null,
       "width": null
      }
     },
     "fc65c09106ad461f9d758e2625c717b0": {
      "model_module": "@jupyter-widgets/controls",
      "model_module_version": "2.0.0",
      "model_name": "HTMLStyleModel",
      "state": {
       "_model_module": "@jupyter-widgets/controls",
       "_model_module_version": "2.0.0",
       "_model_name": "HTMLStyleModel",
       "_view_count": null,
       "_view_module": "@jupyter-widgets/base",
       "_view_module_version": "2.0.0",
       "_view_name": "StyleView",
       "background": null,
       "description_width": "",
       "font_size": null,
       "text_color": null
      }
     },
     "fc93aecb9d4a47e982c4bb11cabb4d56": {
      "model_module": "@jupyter-widgets/controls",
      "model_module_version": "2.0.0",
      "model_name": "HTMLStyleModel",
      "state": {
       "_model_module": "@jupyter-widgets/controls",
       "_model_module_version": "2.0.0",
       "_model_name": "HTMLStyleModel",
       "_view_count": null,
       "_view_module": "@jupyter-widgets/base",
       "_view_module_version": "2.0.0",
       "_view_name": "StyleView",
       "background": null,
       "description_width": "",
       "font_size": null,
       "text_color": null
      }
     }
    },
    "version_major": 2,
    "version_minor": 0
   }
  }
 },
 "nbformat": 4,
 "nbformat_minor": 5
}