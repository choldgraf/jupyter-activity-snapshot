{
 "cells": [
  {
   "cell_type": "markdown",
   "id": "4e255893",
   "metadata": {
    "papermill": {
     "duration": 0.015496,
     "end_time": "2025-05-18T01:31:00.399201",
     "exception": false,
     "start_time": "2025-05-18T01:31:00.383705",
     "status": "completed"
    },
    "tags": []
   },
   "source": [
    "# {glue:text}`jupyter-server_github_org`\n",
    "\n",
    "**Activity from {glue:}`jupyter-server_start` to {glue:}`jupyter-server_stop`**"
   ]
  },
  {
   "cell_type": "code",
   "execution_count": 1,
   "id": "6fd8ef36",
   "metadata": {
    "editable": true,
    "execution": {
     "iopub.execute_input": "2025-05-18T01:31:00.429634Z",
     "iopub.status.busy": "2025-05-18T01:31:00.429422Z",
     "iopub.status.idle": "2025-05-18T01:31:01.243848Z",
     "shell.execute_reply": "2025-05-18T01:31:01.243222Z"
    },
    "papermill": {
     "duration": 0.831314,
     "end_time": "2025-05-18T01:31:01.245246",
     "exception": false,
     "start_time": "2025-05-18T01:31:00.413932",
     "status": "completed"
    },
    "slideshow": {
     "slide_type": ""
    },
    "tags": [
     "remove_cell"
    ]
   },
   "outputs": [],
   "source": [
    "from datetime import date\n",
    "from dateutil.relativedelta import relativedelta\n",
    "from myst_nb import glue\n",
    "import seaborn as sns\n",
    "import pandas as pd\n",
    "import numpy as np\n",
    "import altair as alt\n",
    "from markdown import markdown\n",
    "from IPython.display import Markdown\n",
    "from ipywidgets.widgets import HTML, Tab\n",
    "from ipywidgets import widgets\n",
    "from datetime import timedelta\n",
    "from matplotlib import pyplot as plt\n",
    "import os.path as op\n",
    "from json import loads\n",
    "\n",
    "from warnings import simplefilter\n",
    "simplefilter('ignore')\n",
    "pd.set_option('display.max_columns', None) # 'None' means show all"
   ]
  },
  {
   "cell_type": "code",
   "execution_count": 2,
   "id": "ca79cbf2",
   "metadata": {
    "editable": true,
    "execution": {
     "iopub.execute_input": "2025-05-18T01:31:01.276773Z",
     "iopub.status.busy": "2025-05-18T01:31:01.276252Z",
     "iopub.status.idle": "2025-05-18T01:31:01.283095Z",
     "shell.execute_reply": "2025-05-18T01:31:01.282546Z"
    },
    "papermill": {
     "duration": 0.023494,
     "end_time": "2025-05-18T01:31:01.284139",
     "exception": false,
     "start_time": "2025-05-18T01:31:01.260645",
     "status": "completed"
    },
    "slideshow": {
     "slide_type": ""
    },
    "tags": [
     "remove_cell"
    ]
   },
   "outputs": [],
   "source": [
    "# Altair config\n",
    "def author_url(author):\n",
    "    return f\"https://github.com/{author}\"\n",
    "\n",
    "def alt_theme():\n",
    "    return {\n",
    "        'config': {\n",
    "            'axisLeft': {\n",
    "                'labelFontSize': 15,\n",
    "            },\n",
    "            'axisBottom': {\n",
    "                'labelFontSize': 15,\n",
    "            },\n",
    "        }\n",
    "    }\n",
    "\n",
    "alt.themes.register('my_theme', alt_theme)\n",
    "alt.themes.enable(\"my_theme\")\n",
    "\n",
    "\n",
    "# Define colors we'll use for GitHub membership\n",
    "author_types = ['MEMBER', 'CONTRIBUTOR', 'COLLABORATOR', \"NONE\"]\n",
    "\n",
    "author_palette = np.array(sns.palettes.blend_palette([\"lightgrey\", \"lightgreen\", \"darkgreen\"], 4)) * 256\n",
    "author_colors = [\"rgb({}, {}, {})\".format(*color) for color in author_palette]\n",
    "author_color_dict = {key: val for key, val in zip(author_types, author_palette)}"
   ]
  },
  {
   "cell_type": "code",
   "execution_count": 3,
   "id": "9f899da1",
   "metadata": {
    "editable": true,
    "execution": {
     "iopub.execute_input": "2025-05-18T01:31:01.315281Z",
     "iopub.status.busy": "2025-05-18T01:31:01.314840Z",
     "iopub.status.idle": "2025-05-18T01:31:01.317961Z",
     "shell.execute_reply": "2025-05-18T01:31:01.317403Z"
    },
    "papermill": {
     "duration": 0.020669,
     "end_time": "2025-05-18T01:31:01.318995",
     "exception": false,
     "start_time": "2025-05-18T01:31:01.298326",
     "status": "completed"
    },
    "slideshow": {
     "slide_type": ""
    },
    "tags": [
     "parameters",
     "hide_input",
     "remove_cell"
    ]
   },
   "outputs": [],
   "source": [
    "github_org = \"jupyterhub\"\n",
    "top_n_repos = 15\n",
    "n_days = 90"
   ]
  },
  {
   "cell_type": "code",
   "execution_count": 4,
   "id": "ca78a305",
   "metadata": {
    "execution": {
     "iopub.execute_input": "2025-05-18T01:31:01.348174Z",
     "iopub.status.busy": "2025-05-18T01:31:01.347770Z",
     "iopub.status.idle": "2025-05-18T01:31:01.350782Z",
     "shell.execute_reply": "2025-05-18T01:31:01.350248Z"
    },
    "papermill": {
     "duration": 0.018744,
     "end_time": "2025-05-18T01:31:01.351825",
     "exception": false,
     "start_time": "2025-05-18T01:31:01.333081",
     "status": "completed"
    },
    "tags": [
     "injected-parameters",
     "remove-cell"
    ]
   },
   "outputs": [],
   "source": [
    "# Parameters\n",
    "github_org = \"jupyter-server\"\n",
    "n_days = 90\n"
   ]
  },
  {
   "cell_type": "code",
   "execution_count": 5,
   "id": "3ce667a9",
   "metadata": {
    "editable": true,
    "execution": {
     "iopub.execute_input": "2025-05-18T01:31:01.382095Z",
     "iopub.status.busy": "2025-05-18T01:31:01.381610Z",
     "iopub.status.idle": "2025-05-18T01:31:01.404123Z",
     "shell.execute_reply": "2025-05-18T01:31:01.403456Z"
    },
    "papermill": {
     "duration": 0.038933,
     "end_time": "2025-05-18T01:31:01.405198",
     "exception": false,
     "start_time": "2025-05-18T01:31:01.366265",
     "status": "completed"
    },
    "slideshow": {
     "slide_type": ""
    },
    "tags": [
     "remove_cell"
    ]
   },
   "outputs": [
    {
     "data": {
      "application/papermill.record/text/plain": "'jupyter-server'"
     },
     "metadata": {
      "scrapbook": {
       "mime_prefix": "application/papermill.record/",
       "name": "jupyter-server_github_org"
      }
     },
     "output_type": "display_data"
    },
    {
     "data": {
      "application/papermill.record/text/plain": "'2025-02-17'"
     },
     "metadata": {
      "scrapbook": {
       "mime_prefix": "application/papermill.record/",
       "name": "jupyter-server_start"
      }
     },
     "output_type": "display_data"
    },
    {
     "data": {
      "application/papermill.record/text/plain": "'2025-05-18'"
     },
     "metadata": {
      "scrapbook": {
       "mime_prefix": "application/papermill.record/",
       "name": "jupyter-server_stop"
      }
     },
     "output_type": "display_data"
    }
   ],
   "source": [
    "############################################################\n",
    "# Variables\n",
    "stop = date.today()\n",
    "start = date.today() - relativedelta(days=n_days)\n",
    "\n",
    "# Strings for use in queries\n",
    "start_date = f\"{start:%Y-%m-%d}\"\n",
    "stop_date = f\"{stop:%Y-%m-%d}\"\n",
    "\n",
    "# Glue variables for use in markdown\n",
    "glue(f\"{github_org}_github_org\", github_org, display=False)\n",
    "glue(f\"{github_org}_start\", start_date, display=False)\n",
    "glue(f\"{github_org}_stop\", stop_date, display=False)"
   ]
  },
  {
   "cell_type": "markdown",
   "id": "ce3c6f39",
   "metadata": {
    "editable": true,
    "papermill": {
     "duration": 0.014374,
     "end_time": "2025-05-18T01:31:01.433891",
     "exception": false,
     "start_time": "2025-05-18T01:31:01.419517",
     "status": "completed"
    },
    "slideshow": {
     "slide_type": ""
    },
    "tags": []
   },
   "source": [
    "## Load data\n",
    "\n",
    "Load and clean up the data"
   ]
  },
  {
   "cell_type": "code",
   "execution_count": 6,
   "id": "2ccaf78d",
   "metadata": {
    "editable": true,
    "execution": {
     "iopub.execute_input": "2025-05-18T01:31:01.463857Z",
     "iopub.status.busy": "2025-05-18T01:31:01.463368Z",
     "iopub.status.idle": "2025-05-18T01:31:01.467676Z",
     "shell.execute_reply": "2025-05-18T01:31:01.467150Z"
    },
    "papermill": {
     "duration": 0.020435,
     "end_time": "2025-05-18T01:31:01.468733",
     "exception": false,
     "start_time": "2025-05-18T01:31:01.448298",
     "status": "completed"
    },
    "slideshow": {
     "slide_type": ""
    },
    "tags": [
     "remove_cell"
    ]
   },
   "outputs": [],
   "source": [
    "from pathlib import Path\n",
    "import sqlite3\n",
    "path_data = Path(\"../data\")\n",
    "path_data = list(path_data.rglob(f\"*{github_org}.db\"))[0]\n",
    "\n",
    "def df_from_sql(query, db):\n",
    "    con = sqlite3.connect(db)\n",
    "    return pd.read_sql(query, con)\n",
    "    con.close()"
   ]
  },
  {
   "cell_type": "code",
   "execution_count": 7,
   "id": "a6a85646",
   "metadata": {
    "editable": true,
    "execution": {
     "iopub.execute_input": "2025-05-18T01:31:01.499753Z",
     "iopub.status.busy": "2025-05-18T01:31:01.499366Z",
     "iopub.status.idle": "2025-05-18T01:31:01.747398Z",
     "shell.execute_reply": "2025-05-18T01:31:01.746802Z"
    },
    "papermill": {
     "duration": 0.265069,
     "end_time": "2025-05-18T01:31:01.748605",
     "exception": false,
     "start_time": "2025-05-18T01:31:01.483536",
     "status": "completed"
    },
    "scrolled": true,
    "slideshow": {
     "slide_type": ""
    },
    "tags": [
     "remove_cell"
    ]
   },
   "outputs": [
    {
     "name": "stdout",
     "output_type": "stream",
     "text": [
      "Loading from ../data/b0cc46e05ac6a93978539fc404bc6ea4-jupyter-server.db\n"
     ]
    }
   ],
   "source": [
    "print(f\"Loading from {path_data}\")\n",
    "repos = df_from_sql(\"SELECT * FROM repos\", path_data)\n",
    "users = df_from_sql(\"SELECT * FROM users\", path_data)\n",
    "issues = df_from_sql(\"SELECT * FROM issues\", path_data)\n",
    "comments = df_from_sql(\"SELECT * FROM issue_comments\", path_data)\n",
    "\n",
    "# Merge repository information into issues\n",
    "def merge_repo_into_df(df, kind):\n",
    "    df = pd.merge(df, users[[\"id\", \"login\"]], left_on=\"user\", right_on=\"id\", suffixes=(\"_issue\", \"_user\"), how=\"inner\")\n",
    "    df = pd.merge(df, repos[[\"id\", \"full_name\", \"name\"]], left_on=\"repo\", right_on=\"id\", suffixes=(\"_issue\", \"_repo\"), how=\"inner\")\n",
    "    df[\"org\"] = df[\"full_name\"].map(lambda a: a.split('/')[0])\n",
    "    df[\"repo\"] = df[\"full_name\"].map(lambda a: a.split('/')[1])\n",
    "    df[\"url\"] = \"https://github.com/\" + df[\"org\"] + \"/\" + df[\"repo\"] + f\"/{kind}/\" + df[\"number\"].astype(str)\n",
    "    return df\n",
    "issues = merge_repo_into_df(issues, kind=\"issues\")\n",
    "\n",
    "# Pull out the Pull Requests from Issues\n",
    "prs = issues.loc[~issues[\"pull_request\"].isna()]\n",
    "def identify_merger(closedby):\n",
    "    if not closedby:\n",
    "        return None\n",
    "    try:\n",
    "        cb = loads(closedby)\n",
    "    except:\n",
    "        print(closedby)\n",
    "    return cb[\"login\"]\n",
    "prs[\"merged_by\"] = prs[\"closed_by\"].map(identify_merger)\n",
    "\n",
    "# These issues now _remove_ the PRs\n",
    "issues = issues.loc[issues[\"pull_request\"].isna()]\n",
    "\n",
    "# Add reactions data\n",
    "def count_positive(a):\n",
    "    a = loads(a)\n",
    "    return a[\"+1\"] + a[\"hooray\"] + a[\"heart\"]\n",
    "issues[\"positive\"] = issues[\"reactions\"].map(count_positive)\n",
    "\n",
    "# Drop comments if there is no associated issue\n",
    "comments = comments.dropna(subset=[\"issue\"])\n",
    "comments[\"issue\"] = comments.loc[:, \"issue\"].astype(int)\n",
    "\n",
    "# Add repository information to comments\n",
    "comments = pd.merge(comments, issues[[\"id_issue\", \"full_name\", \"org\", \"repo\"]], left_on=\"issue\", right_on=\"id_issue\", how=\"inner\", suffixes=(\"_comment\", \"_issue\"))\n",
    "\n",
    "# Merge user data into comments\n",
    "comments = pd.merge(comments, users[[\"id\", \"login\"]], left_on=\"user\", right_on=\"id\", suffixes=(\"_comment\", \"_user\"), how=\"inner\")"
   ]
  },
  {
   "cell_type": "code",
   "execution_count": 8,
   "id": "8f6337bf",
   "metadata": {
    "editable": true,
    "execution": {
     "iopub.execute_input": "2025-05-18T01:31:01.779456Z",
     "iopub.status.busy": "2025-05-18T01:31:01.779230Z",
     "iopub.status.idle": "2025-05-18T01:31:01.808696Z",
     "shell.execute_reply": "2025-05-18T01:31:01.808042Z"
    },
    "papermill": {
     "duration": 0.045866,
     "end_time": "2025-05-18T01:31:01.809865",
     "exception": false,
     "start_time": "2025-05-18T01:31:01.763999",
     "status": "completed"
    },
    "slideshow": {
     "slide_type": ""
    },
    "tags": [
     "remove_cell"
    ]
   },
   "outputs": [],
   "source": [
    "# Convert columns to datetime\n",
    "datetime_columns = [\"created_at\", \"closed_at\"]\n",
    "for df in [comments, issues, prs]:\n",
    "    for col in datetime_columns:\n",
    "        if col in df:\n",
    "            df[col] = pd.to_datetime(df[col])\n",
    "            # Strip timezone information so we can run simpler queries\n",
    "            df[col] = df[col].dt.tz_localize(None)"
   ]
  },
  {
   "cell_type": "code",
   "execution_count": 9,
   "id": "1dfa5b2e",
   "metadata": {
    "editable": true,
    "execution": {
     "iopub.execute_input": "2025-05-18T01:31:01.841212Z",
     "iopub.status.busy": "2025-05-18T01:31:01.840691Z",
     "iopub.status.idle": "2025-05-18T01:31:01.849795Z",
     "shell.execute_reply": "2025-05-18T01:31:01.849261Z"
    },
    "papermill": {
     "duration": 0.025911,
     "end_time": "2025-05-18T01:31:01.850924",
     "exception": false,
     "start_time": "2025-05-18T01:31:01.825013",
     "status": "completed"
    },
    "slideshow": {
     "slide_type": ""
    },
    "tags": [
     "remove_cell"
    ]
   },
   "outputs": [],
   "source": [
    "# What are the top N repos, we will only plot these in the full data plots\n",
    "top_commented_repos = comments.groupby(\"repo\").count().sort_values(\"created_at\", ascending=False)['created_at']\n",
    "use_repos = top_commented_repos.head(top_n_repos).index.tolist()"
   ]
  },
  {
   "cell_type": "markdown",
   "id": "d0710584",
   "metadata": {
    "editable": true,
    "papermill": {
     "duration": 0.014532,
     "end_time": "2025-05-18T01:31:01.880077",
     "exception": false,
     "start_time": "2025-05-18T01:31:01.865545",
     "status": "completed"
    },
    "slideshow": {
     "slide_type": ""
    },
    "tags": [],
    "toc-hr-collapsed": false
   },
   "source": [
    "## Merged Pull requests\n",
    "\n",
    "Here's an analysis of **merged pull requests** across each of the repositories in the Jupyter\n",
    "ecosystem."
   ]
  },
  {
   "cell_type": "code",
   "execution_count": 10,
   "id": "3b35b6a0",
   "metadata": {
    "editable": true,
    "execution": {
     "iopub.execute_input": "2025-05-18T01:31:01.910083Z",
     "iopub.status.busy": "2025-05-18T01:31:01.909851Z",
     "iopub.status.idle": "2025-05-18T01:31:01.920599Z",
     "shell.execute_reply": "2025-05-18T01:31:01.920071Z"
    },
    "papermill": {
     "duration": 0.027167,
     "end_time": "2025-05-18T01:31:01.921668",
     "exception": false,
     "start_time": "2025-05-18T01:31:01.894501",
     "status": "completed"
    },
    "slideshow": {
     "slide_type": ""
    },
    "tags": [
     "remove_cell"
    ]
   },
   "outputs": [],
   "source": [
    "merged = prs.query('state == \"closed\" and closed_at > @start_date and closed_at < @stop_date')"
   ]
  },
  {
   "cell_type": "code",
   "execution_count": 11,
   "id": "32de8c4e",
   "metadata": {
    "editable": true,
    "execution": {
     "iopub.execute_input": "2025-05-18T01:31:01.953338Z",
     "iopub.status.busy": "2025-05-18T01:31:01.952722Z",
     "iopub.status.idle": "2025-05-18T01:31:01.990663Z",
     "shell.execute_reply": "2025-05-18T01:31:01.990108Z"
    },
    "papermill": {
     "duration": 0.055039,
     "end_time": "2025-05-18T01:31:01.991716",
     "exception": false,
     "start_time": "2025-05-18T01:31:01.936677",
     "status": "completed"
    },
    "slideshow": {
     "slide_type": ""
    },
    "tags": [
     "hide_input"
    ]
   },
   "outputs": [
    {
     "data": {
      "text/html": [
       "\n",
       "<style>\n",
       "  #altair-viz-efa39c47dfbb4384b5de60e7b5d4b441.vega-embed {\n",
       "    width: 100%;\n",
       "    display: flex;\n",
       "  }\n",
       "\n",
       "  #altair-viz-efa39c47dfbb4384b5de60e7b5d4b441.vega-embed details,\n",
       "  #altair-viz-efa39c47dfbb4384b5de60e7b5d4b441.vega-embed details summary {\n",
       "    position: relative;\n",
       "  }\n",
       "</style>\n",
       "<div id=\"altair-viz-efa39c47dfbb4384b5de60e7b5d4b441\"></div>\n",
       "<script type=\"text/javascript\">\n",
       "  var VEGA_DEBUG = (typeof VEGA_DEBUG == \"undefined\") ? {} : VEGA_DEBUG;\n",
       "  (function(spec, embedOpt){\n",
       "    let outputDiv = document.currentScript.previousElementSibling;\n",
       "    if (outputDiv.id !== \"altair-viz-efa39c47dfbb4384b5de60e7b5d4b441\") {\n",
       "      outputDiv = document.getElementById(\"altair-viz-efa39c47dfbb4384b5de60e7b5d4b441\");\n",
       "    }\n",
       "\n",
       "    const paths = {\n",
       "      \"vega\": \"https://cdn.jsdelivr.net/npm/vega@5?noext\",\n",
       "      \"vega-lib\": \"https://cdn.jsdelivr.net/npm/vega-lib?noext\",\n",
       "      \"vega-lite\": \"https://cdn.jsdelivr.net/npm/vega-lite@5.20.1?noext\",\n",
       "      \"vega-embed\": \"https://cdn.jsdelivr.net/npm/vega-embed@6?noext\",\n",
       "    };\n",
       "\n",
       "    function maybeLoadScript(lib, version) {\n",
       "      var key = `${lib.replace(\"-\", \"\")}_version`;\n",
       "      return (VEGA_DEBUG[key] == version) ?\n",
       "        Promise.resolve(paths[lib]) :\n",
       "        new Promise(function(resolve, reject) {\n",
       "          var s = document.createElement('script');\n",
       "          document.getElementsByTagName(\"head\")[0].appendChild(s);\n",
       "          s.async = true;\n",
       "          s.onload = () => {\n",
       "            VEGA_DEBUG[key] = version;\n",
       "            return resolve(paths[lib]);\n",
       "          };\n",
       "          s.onerror = () => reject(`Error loading script: ${paths[lib]}`);\n",
       "          s.src = paths[lib];\n",
       "        });\n",
       "    }\n",
       "\n",
       "    function showError(err) {\n",
       "      outputDiv.innerHTML = `<div class=\"error\" style=\"color:red;\">${err}</div>`;\n",
       "      throw err;\n",
       "    }\n",
       "\n",
       "    function displayChart(vegaEmbed) {\n",
       "      vegaEmbed(outputDiv, spec, embedOpt)\n",
       "        .catch(err => showError(`Javascript Error: ${err.message}<br>This usually means there's a typo in your chart specification. See the javascript console for the full traceback.`));\n",
       "    }\n",
       "\n",
       "    if(typeof define === \"function\" && define.amd) {\n",
       "      requirejs.config({paths});\n",
       "      let deps = [\"vega-embed\"];\n",
       "      require(deps, displayChart, err => showError(`Error loading script: ${err.message}`));\n",
       "    } else {\n",
       "      maybeLoadScript(\"vega\", \"5\")\n",
       "        .then(() => maybeLoadScript(\"vega-lite\", \"5.20.1\"))\n",
       "        .then(() => maybeLoadScript(\"vega-embed\", \"6\"))\n",
       "        .catch(showError)\n",
       "        .then(() => displayChart(vegaEmbed));\n",
       "    }\n",
       "  })({\"config\": {\"axisLeft\": {\"labelFontSize\": 15}, \"axisBottom\": {\"labelFontSize\": 15}}, \"data\": {\"name\": \"data-a19e780140f6e7ae28e377ecbc78edc3\"}, \"mark\": {\"type\": \"bar\"}, \"encoding\": {\"color\": {\"field\": \"org\", \"type\": \"nominal\"}, \"x\": {\"field\": \"repo\", \"sort\": [\"jupyverse\", \"fps\", \"jupyter_ydoc\", \"jupyter_server\", \"jupyter-scheduler\", \"jupyter_releaser\", \"pytest-jupyter\", \"jupyter_server_terminals\"], \"type\": \"nominal\"}, \"y\": {\"field\": \"login\", \"type\": \"quantitative\"}}, \"title\": \"Merged PRs in the last 90 days\", \"$schema\": \"https://vega.github.io/schema/vega-lite/v5.20.1.json\", \"datasets\": {\"data-a19e780140f6e7ae28e377ecbc78edc3\": [{\"org\": \"jupyter-server\", \"repo\": \"jupyverse\", \"login\": 28}, {\"org\": \"jupyter-server\", \"repo\": \"fps\", \"login\": 26}, {\"org\": \"jupyter-server\", \"repo\": \"jupyter_ydoc\", \"login\": 14}, {\"org\": \"jupyter-server\", \"repo\": \"jupyter_server\", \"login\": 11}, {\"org\": \"jupyter-server\", \"repo\": \"jupyter-scheduler\", \"login\": 5}, {\"org\": \"jupyter-server\", \"repo\": \"jupyter_releaser\", \"login\": 5}, {\"org\": \"jupyter-server\", \"repo\": \"pytest-jupyter\", \"login\": 2}, {\"org\": \"jupyter-server\", \"repo\": \"jupyter_server_terminals\", \"login\": 1}]}}, {\"mode\": \"vega-lite\"});\n",
       "</script>"
      ],
      "text/plain": [
       "alt.Chart(...)"
      ]
     },
     "execution_count": 11,
     "metadata": {},
     "output_type": "execute_result"
    }
   ],
   "source": [
    "prs_by_repo = merged.groupby(['org', 'repo']).count()['login'].reset_index().sort_values(['org', 'login'], ascending=False)\n",
    "alt.Chart(data=prs_by_repo, title=f\"Merged PRs in the last {n_days} days\").mark_bar().encode(\n",
    "    x=alt.X('repo', sort=prs_by_repo['repo'].values.tolist()),\n",
    "    y='login',\n",
    "    color='org'\n",
    ")"
   ]
  },
  {
   "cell_type": "markdown",
   "id": "a2d02513",
   "metadata": {
    "editable": true,
    "papermill": {
     "duration": 0.014763,
     "end_time": "2025-05-18T01:31:02.021189",
     "exception": false,
     "start_time": "2025-05-18T01:31:02.006426",
     "status": "completed"
    },
    "slideshow": {
     "slide_type": ""
    },
    "tags": []
   },
   "source": [
    "### Authoring and merging stats by repository\n",
    "\n",
    "Let's see who has been doing most of the PR authoring and merging. The PR author is generally the\n",
    "person that implemented a change in the repository (code, documentation, etc). The PR merger is\n",
    "the person that \"pressed the green button\" and got the change into the main codebase."
   ]
  },
  {
   "cell_type": "code",
   "execution_count": 12,
   "id": "0dcc13f5",
   "metadata": {
    "editable": true,
    "execution": {
     "iopub.execute_input": "2025-05-18T01:31:02.051663Z",
     "iopub.status.busy": "2025-05-18T01:31:02.051126Z",
     "iopub.status.idle": "2025-05-18T01:31:02.060805Z",
     "shell.execute_reply": "2025-05-18T01:31:02.060265Z"
    },
    "papermill": {
     "duration": 0.02607,
     "end_time": "2025-05-18T01:31:02.061859",
     "exception": false,
     "start_time": "2025-05-18T01:31:02.035789",
     "status": "completed"
    },
    "slideshow": {
     "slide_type": ""
    },
    "tags": [
     "remove_cell"
    ]
   },
   "outputs": [],
   "source": [
    "# Prep our merging DF\n",
    "merged_by_repo = merged.groupby(['repo', 'login'], as_index=False).agg({'id': 'count', 'author_association': 'first'}).rename(columns={'id': \"authored\", 'login': 'username'})\n",
    "closed_by_repo = merged.groupby(['name', 'merged_by']).count()['id_issue'].reset_index().rename(columns={'id_issue': \"closed\", \"merged_by\": \"username\"})"
   ]
  },
  {
   "cell_type": "code",
   "execution_count": 13,
   "id": "c5dec16a",
   "metadata": {
    "editable": true,
    "execution": {
     "iopub.execute_input": "2025-05-18T01:31:02.093657Z",
     "iopub.status.busy": "2025-05-18T01:31:02.093262Z",
     "iopub.status.idle": "2025-05-18T01:31:02.115807Z",
     "shell.execute_reply": "2025-05-18T01:31:02.115268Z"
    },
    "papermill": {
     "duration": 0.039726,
     "end_time": "2025-05-18T01:31:02.116870",
     "exception": false,
     "start_time": "2025-05-18T01:31:02.077144",
     "status": "completed"
    },
    "slideshow": {
     "slide_type": ""
    },
    "tags": [
     "hide_input"
    ]
   },
   "outputs": [
    {
     "data": {
      "text/html": [
       "\n",
       "<style>\n",
       "  #altair-viz-383cdb4134544bddba01fd9e006088e4.vega-embed {\n",
       "    width: 100%;\n",
       "    display: flex;\n",
       "  }\n",
       "\n",
       "  #altair-viz-383cdb4134544bddba01fd9e006088e4.vega-embed details,\n",
       "  #altair-viz-383cdb4134544bddba01fd9e006088e4.vega-embed details summary {\n",
       "    position: relative;\n",
       "  }\n",
       "</style>\n",
       "<div id=\"altair-viz-383cdb4134544bddba01fd9e006088e4\"></div>\n",
       "<script type=\"text/javascript\">\n",
       "  var VEGA_DEBUG = (typeof VEGA_DEBUG == \"undefined\") ? {} : VEGA_DEBUG;\n",
       "  (function(spec, embedOpt){\n",
       "    let outputDiv = document.currentScript.previousElementSibling;\n",
       "    if (outputDiv.id !== \"altair-viz-383cdb4134544bddba01fd9e006088e4\") {\n",
       "      outputDiv = document.getElementById(\"altair-viz-383cdb4134544bddba01fd9e006088e4\");\n",
       "    }\n",
       "\n",
       "    const paths = {\n",
       "      \"vega\": \"https://cdn.jsdelivr.net/npm/vega@5?noext\",\n",
       "      \"vega-lib\": \"https://cdn.jsdelivr.net/npm/vega-lib?noext\",\n",
       "      \"vega-lite\": \"https://cdn.jsdelivr.net/npm/vega-lite@5.20.1?noext\",\n",
       "      \"vega-embed\": \"https://cdn.jsdelivr.net/npm/vega-embed@6?noext\",\n",
       "    };\n",
       "\n",
       "    function maybeLoadScript(lib, version) {\n",
       "      var key = `${lib.replace(\"-\", \"\")}_version`;\n",
       "      return (VEGA_DEBUG[key] == version) ?\n",
       "        Promise.resolve(paths[lib]) :\n",
       "        new Promise(function(resolve, reject) {\n",
       "          var s = document.createElement('script');\n",
       "          document.getElementsByTagName(\"head\")[0].appendChild(s);\n",
       "          s.async = true;\n",
       "          s.onload = () => {\n",
       "            VEGA_DEBUG[key] = version;\n",
       "            return resolve(paths[lib]);\n",
       "          };\n",
       "          s.onerror = () => reject(`Error loading script: ${paths[lib]}`);\n",
       "          s.src = paths[lib];\n",
       "        });\n",
       "    }\n",
       "\n",
       "    function showError(err) {\n",
       "      outputDiv.innerHTML = `<div class=\"error\" style=\"color:red;\">${err}</div>`;\n",
       "      throw err;\n",
       "    }\n",
       "\n",
       "    function displayChart(vegaEmbed) {\n",
       "      vegaEmbed(outputDiv, spec, embedOpt)\n",
       "        .catch(err => showError(`Javascript Error: ${err.message}<br>This usually means there's a typo in your chart specification. See the javascript console for the full traceback.`));\n",
       "    }\n",
       "\n",
       "    if(typeof define === \"function\" && define.amd) {\n",
       "      requirejs.config({paths});\n",
       "      let deps = [\"vega-embed\"];\n",
       "      require(deps, displayChart, err => showError(`Error loading script: ${err.message}`));\n",
       "    } else {\n",
       "      maybeLoadScript(\"vega\", \"5\")\n",
       "        .then(() => maybeLoadScript(\"vega-lite\", \"5.20.1\"))\n",
       "        .then(() => maybeLoadScript(\"vega-embed\", \"6\"))\n",
       "        .catch(showError)\n",
       "        .then(() => displayChart(vegaEmbed));\n",
       "    }\n",
       "  })({\"config\": {\"axisLeft\": {\"labelFontSize\": 15}, \"axisBottom\": {\"labelFontSize\": 15}}, \"data\": {\"name\": \"data-50f200bdf5afa4b50572770644055fd1\"}, \"mark\": {\"type\": \"bar\"}, \"encoding\": {\"color\": {\"field\": \"author_association\", \"scale\": {\"domain\": [\"MEMBER\", \"CONTRIBUTOR\", \"COLLABORATOR\", \"NONE\"], \"range\": [\"rgb(211.82745098039214, 211.82745098039214, 211.82745098039214)\", \"rgb(166.98562091503268, 229.89803921568628, 166.98562091503268)\", \"rgb(96.37647058823529, 192.75294117647059, 96.37647058823529)\", \"rgb(0.0, 100.3921568627451, 0.0)\"]}, \"type\": \"nominal\"}, \"x\": {\"field\": \"username\", \"type\": \"nominal\"}, \"y\": {\"field\": \"authored\", \"type\": \"quantitative\"}}, \"title\": \"PR authors for jupyter-server in the last 90 days\", \"$schema\": \"https://vega.github.io/schema/vega-lite/v5.20.1.json\", \"datasets\": {\"data-50f200bdf5afa4b50572770644055fd1\": [{\"username\": \"davidbrochart\", \"authored\": 37, \"author_association\": \"COLLABORATOR\"}, {\"username\": \"pre-commit-ci[bot]\", \"authored\": 23, \"author_association\": \"CONTRIBUTOR\"}, {\"username\": \"krassowski\", \"authored\": 4, \"author_association\": \"COLLABORATOR\"}, {\"username\": \"Zsailer\", \"authored\": 4, \"author_association\": \"MEMBER\"}, {\"username\": \"kjayan\", \"authored\": 3, \"author_association\": \"CONTRIBUTOR\"}, {\"username\": \"rakhmaevao\", \"authored\": 2, \"author_association\": \"NONE\"}, {\"username\": \"andrii-i\", \"authored\": 2, \"author_association\": \"COLLABORATOR\"}, {\"username\": \"jtpio\", \"authored\": 2, \"author_association\": \"MEMBER\"}, {\"username\": \"Darshan808\", \"authored\": 2, \"author_association\": \"CONTRIBUTOR\"}, {\"username\": \"asmita-sharma1625\", \"authored\": 2, \"author_association\": \"CONTRIBUTOR\"}, {\"username\": \"RRosio\", \"authored\": 1, \"author_association\": \"CONTRIBUTOR\"}, {\"username\": \"0Hughman0\", \"authored\": 1, \"author_association\": \"CONTRIBUTOR\"}, {\"username\": \"MaicoTimmerman\", \"authored\": 1, \"author_association\": \"CONTRIBUTOR\"}, {\"username\": \"fcollonval\", \"authored\": 1, \"author_association\": \"MEMBER\"}, {\"username\": \"dlqqq\", \"authored\": 1, \"author_association\": \"CONTRIBUTOR\"}, {\"username\": \"ark-1\", \"authored\": 1, \"author_association\": \"CONTRIBUTOR\"}, {\"username\": \"astitv-sh\", \"authored\": 1, \"author_association\": \"COLLABORATOR\"}, {\"username\": \"martenrichter\", \"authored\": 1, \"author_association\": \"CONTRIBUTOR\"}, {\"username\": \"manics\", \"authored\": 1, \"author_association\": \"CONTRIBUTOR\"}, {\"username\": \"ojarjur\", \"authored\": 1, \"author_association\": \"CONTRIBUTOR\"}, {\"username\": \"minrk\", \"authored\": 1, \"author_association\": \"CONTRIBUTOR\"}]}}, {\"mode\": \"vega-lite\"});\n",
       "</script>"
      ],
      "text/plain": [
       "alt.Chart(...)"
      ]
     },
     "execution_count": 13,
     "metadata": {},
     "output_type": "execute_result"
    }
   ],
   "source": [
    "charts = []\n",
    "title = f\"PR authors for {github_org} in the last {n_days} days\"\n",
    "this_data = merged_by_repo.replace(np.nan, 0).groupby('username', as_index=False).agg({'authored': 'sum', 'author_association': 'first'})\n",
    "this_data = this_data.sort_values('authored', ascending=False)\n",
    "ch = alt.Chart(data=this_data, title=title).mark_bar().encode(\n",
    "    x='username',\n",
    "    y='authored',\n",
    "    color=alt.Color('author_association', scale=alt.Scale(domain=author_types, range=author_colors))\n",
    ")\n",
    "ch"
   ]
  },
  {
   "cell_type": "code",
   "execution_count": 14,
   "id": "a14b58be",
   "metadata": {
    "editable": true,
    "execution": {
     "iopub.execute_input": "2025-05-18T01:31:02.147353Z",
     "iopub.status.busy": "2025-05-18T01:31:02.146959Z",
     "iopub.status.idle": "2025-05-18T01:31:02.164328Z",
     "shell.execute_reply": "2025-05-18T01:31:02.163795Z"
    },
    "papermill": {
     "duration": 0.033733,
     "end_time": "2025-05-18T01:31:02.165380",
     "exception": false,
     "start_time": "2025-05-18T01:31:02.131647",
     "status": "completed"
    },
    "slideshow": {
     "slide_type": ""
    },
    "tags": [
     "hide_input"
    ]
   },
   "outputs": [
    {
     "data": {
      "text/html": [
       "\n",
       "<style>\n",
       "  #altair-viz-119c6355d2ef4ed4a40a9faa0e1beed0.vega-embed {\n",
       "    width: 100%;\n",
       "    display: flex;\n",
       "  }\n",
       "\n",
       "  #altair-viz-119c6355d2ef4ed4a40a9faa0e1beed0.vega-embed details,\n",
       "  #altair-viz-119c6355d2ef4ed4a40a9faa0e1beed0.vega-embed details summary {\n",
       "    position: relative;\n",
       "  }\n",
       "</style>\n",
       "<div id=\"altair-viz-119c6355d2ef4ed4a40a9faa0e1beed0\"></div>\n",
       "<script type=\"text/javascript\">\n",
       "  var VEGA_DEBUG = (typeof VEGA_DEBUG == \"undefined\") ? {} : VEGA_DEBUG;\n",
       "  (function(spec, embedOpt){\n",
       "    let outputDiv = document.currentScript.previousElementSibling;\n",
       "    if (outputDiv.id !== \"altair-viz-119c6355d2ef4ed4a40a9faa0e1beed0\") {\n",
       "      outputDiv = document.getElementById(\"altair-viz-119c6355d2ef4ed4a40a9faa0e1beed0\");\n",
       "    }\n",
       "\n",
       "    const paths = {\n",
       "      \"vega\": \"https://cdn.jsdelivr.net/npm/vega@5?noext\",\n",
       "      \"vega-lib\": \"https://cdn.jsdelivr.net/npm/vega-lib?noext\",\n",
       "      \"vega-lite\": \"https://cdn.jsdelivr.net/npm/vega-lite@5.20.1?noext\",\n",
       "      \"vega-embed\": \"https://cdn.jsdelivr.net/npm/vega-embed@6?noext\",\n",
       "    };\n",
       "\n",
       "    function maybeLoadScript(lib, version) {\n",
       "      var key = `${lib.replace(\"-\", \"\")}_version`;\n",
       "      return (VEGA_DEBUG[key] == version) ?\n",
       "        Promise.resolve(paths[lib]) :\n",
       "        new Promise(function(resolve, reject) {\n",
       "          var s = document.createElement('script');\n",
       "          document.getElementsByTagName(\"head\")[0].appendChild(s);\n",
       "          s.async = true;\n",
       "          s.onload = () => {\n",
       "            VEGA_DEBUG[key] = version;\n",
       "            return resolve(paths[lib]);\n",
       "          };\n",
       "          s.onerror = () => reject(`Error loading script: ${paths[lib]}`);\n",
       "          s.src = paths[lib];\n",
       "        });\n",
       "    }\n",
       "\n",
       "    function showError(err) {\n",
       "      outputDiv.innerHTML = `<div class=\"error\" style=\"color:red;\">${err}</div>`;\n",
       "      throw err;\n",
       "    }\n",
       "\n",
       "    function displayChart(vegaEmbed) {\n",
       "      vegaEmbed(outputDiv, spec, embedOpt)\n",
       "        .catch(err => showError(`Javascript Error: ${err.message}<br>This usually means there's a typo in your chart specification. See the javascript console for the full traceback.`));\n",
       "    }\n",
       "\n",
       "    if(typeof define === \"function\" && define.amd) {\n",
       "      requirejs.config({paths});\n",
       "      let deps = [\"vega-embed\"];\n",
       "      require(deps, displayChart, err => showError(`Error loading script: ${err.message}`));\n",
       "    } else {\n",
       "      maybeLoadScript(\"vega\", \"5\")\n",
       "        .then(() => maybeLoadScript(\"vega-lite\", \"5.20.1\"))\n",
       "        .then(() => maybeLoadScript(\"vega-embed\", \"6\"))\n",
       "        .catch(showError)\n",
       "        .then(() => displayChart(vegaEmbed));\n",
       "    }\n",
       "  })({\"config\": {\"axisLeft\": {\"labelFontSize\": 15}, \"axisBottom\": {\"labelFontSize\": 15}}, \"data\": {\"name\": \"data-1186a743cfe2338d55fb1d57d635ff77\"}, \"mark\": {\"type\": \"bar\"}, \"encoding\": {\"x\": {\"field\": \"username\", \"type\": \"nominal\"}, \"y\": {\"field\": \"closed\", \"type\": \"quantitative\"}}, \"title\": \"Users that have merged PRs for jupyter-server in the last 90 days\", \"$schema\": \"https://vega.github.io/schema/vega-lite/v5.20.1.json\", \"datasets\": {\"data-1186a743cfe2338d55fb1d57d635ff77\": [{\"name\": \"fps\", \"username\": \"Zsailer\", \"closed\": 2}, {\"name\": \"fps\", \"username\": \"davidbrochart\", \"closed\": 24}, {\"name\": \"jupyter-scheduler\", \"username\": \"andrii-i\", \"closed\": 5}, {\"name\": \"jupyter_releaser\", \"username\": \"jtpio\", \"closed\": 3}, {\"name\": \"jupyter_releaser\", \"username\": \"krassowski\", \"closed\": 2}, {\"name\": \"jupyter_server\", \"username\": \"Zsailer\", \"closed\": 5}, {\"name\": \"jupyter_server\", \"username\": \"afshin\", \"closed\": 3}, {\"name\": \"jupyter_server\", \"username\": \"minrk\", \"closed\": 1}, {\"name\": \"jupyter_server\", \"username\": \"vidartf\", \"closed\": 2}, {\"name\": \"jupyter_server_terminals\", \"username\": \"Zsailer\", \"closed\": 1}, {\"name\": \"jupyter_ydoc\", \"username\": \"davidbrochart\", \"closed\": 12}, {\"name\": \"jupyter_ydoc\", \"username\": \"fcollonval\", \"closed\": 1}, {\"name\": \"jupyter_ydoc\", \"username\": \"krassowski\", \"closed\": 1}, {\"name\": \"jupyverse\", \"username\": \"davidbrochart\", \"closed\": 27}, {\"name\": \"jupyverse\", \"username\": \"rakhmaevao\", \"closed\": 1}, {\"name\": \"pytest-jupyter\", \"username\": \"minrk\", \"closed\": 2}]}}, {\"mode\": \"vega-lite\"});\n",
       "</script>"
      ],
      "text/plain": [
       "alt.Chart(...)"
      ]
     },
     "execution_count": 14,
     "metadata": {},
     "output_type": "execute_result"
    }
   ],
   "source": [
    "charts = []\n",
    "title = f\"Users that have merged PRs for {github_org} in the last {n_days} days\"\n",
    "ch = alt.Chart(data=closed_by_repo.replace(np.nan, 0), title=title).mark_bar().encode(\n",
    "    x='username',\n",
    "    y='closed',\n",
    ")\n",
    "ch"
   ]
  },
  {
   "cell_type": "markdown",
   "id": "5ea3d675",
   "metadata": {
    "editable": true,
    "papermill": {
     "duration": 0.02387,
     "end_time": "2025-05-18T01:31:02.209527",
     "exception": false,
     "start_time": "2025-05-18T01:31:02.185657",
     "status": "completed"
    },
    "slideshow": {
     "slide_type": ""
    },
    "tags": []
   },
   "source": [
    "## Issues\n",
    "\n",
    "Issues are **conversations** that happen on our GitHub repositories. Here's an\n",
    "analysis of issues across the Jupyter organizations."
   ]
  },
  {
   "cell_type": "code",
   "execution_count": 15,
   "id": "174b442e",
   "metadata": {
    "editable": true,
    "execution": {
     "iopub.execute_input": "2025-05-18T01:31:02.251062Z",
     "iopub.status.busy": "2025-05-18T01:31:02.250482Z",
     "iopub.status.idle": "2025-05-18T01:31:02.268761Z",
     "shell.execute_reply": "2025-05-18T01:31:02.268134Z"
    },
    "papermill": {
     "duration": 0.036712,
     "end_time": "2025-05-18T01:31:02.269921",
     "exception": false,
     "start_time": "2025-05-18T01:31:02.233209",
     "status": "completed"
    },
    "slideshow": {
     "slide_type": ""
    },
    "tags": [
     "remove_cell"
    ]
   },
   "outputs": [],
   "source": [
    "created = issues.query('state == \"open\" and created_at > @start_date and created_at < @stop_date')\n",
    "closed = issues.query('state == \"closed\" and closed_at > @start_date and closed_at < @stop_date')"
   ]
  },
  {
   "cell_type": "code",
   "execution_count": 16,
   "id": "f113778d",
   "metadata": {
    "editable": true,
    "execution": {
     "iopub.execute_input": "2025-05-18T01:31:02.306446Z",
     "iopub.status.busy": "2025-05-18T01:31:02.305955Z",
     "iopub.status.idle": "2025-05-18T01:31:02.327699Z",
     "shell.execute_reply": "2025-05-18T01:31:02.327037Z"
    },
    "papermill": {
     "duration": 0.039676,
     "end_time": "2025-05-18T01:31:02.328774",
     "exception": false,
     "start_time": "2025-05-18T01:31:02.289098",
     "status": "completed"
    },
    "slideshow": {
     "slide_type": ""
    },
    "tags": [
     "hide_input"
    ]
   },
   "outputs": [
    {
     "data": {
      "text/html": [
       "\n",
       "<style>\n",
       "  #altair-viz-a0c3911faea54f0ab20d63b42ee7c968.vega-embed {\n",
       "    width: 100%;\n",
       "    display: flex;\n",
       "  }\n",
       "\n",
       "  #altair-viz-a0c3911faea54f0ab20d63b42ee7c968.vega-embed details,\n",
       "  #altair-viz-a0c3911faea54f0ab20d63b42ee7c968.vega-embed details summary {\n",
       "    position: relative;\n",
       "  }\n",
       "</style>\n",
       "<div id=\"altair-viz-a0c3911faea54f0ab20d63b42ee7c968\"></div>\n",
       "<script type=\"text/javascript\">\n",
       "  var VEGA_DEBUG = (typeof VEGA_DEBUG == \"undefined\") ? {} : VEGA_DEBUG;\n",
       "  (function(spec, embedOpt){\n",
       "    let outputDiv = document.currentScript.previousElementSibling;\n",
       "    if (outputDiv.id !== \"altair-viz-a0c3911faea54f0ab20d63b42ee7c968\") {\n",
       "      outputDiv = document.getElementById(\"altair-viz-a0c3911faea54f0ab20d63b42ee7c968\");\n",
       "    }\n",
       "\n",
       "    const paths = {\n",
       "      \"vega\": \"https://cdn.jsdelivr.net/npm/vega@5?noext\",\n",
       "      \"vega-lib\": \"https://cdn.jsdelivr.net/npm/vega-lib?noext\",\n",
       "      \"vega-lite\": \"https://cdn.jsdelivr.net/npm/vega-lite@5.20.1?noext\",\n",
       "      \"vega-embed\": \"https://cdn.jsdelivr.net/npm/vega-embed@6?noext\",\n",
       "    };\n",
       "\n",
       "    function maybeLoadScript(lib, version) {\n",
       "      var key = `${lib.replace(\"-\", \"\")}_version`;\n",
       "      return (VEGA_DEBUG[key] == version) ?\n",
       "        Promise.resolve(paths[lib]) :\n",
       "        new Promise(function(resolve, reject) {\n",
       "          var s = document.createElement('script');\n",
       "          document.getElementsByTagName(\"head\")[0].appendChild(s);\n",
       "          s.async = true;\n",
       "          s.onload = () => {\n",
       "            VEGA_DEBUG[key] = version;\n",
       "            return resolve(paths[lib]);\n",
       "          };\n",
       "          s.onerror = () => reject(`Error loading script: ${paths[lib]}`);\n",
       "          s.src = paths[lib];\n",
       "        });\n",
       "    }\n",
       "\n",
       "    function showError(err) {\n",
       "      outputDiv.innerHTML = `<div class=\"error\" style=\"color:red;\">${err}</div>`;\n",
       "      throw err;\n",
       "    }\n",
       "\n",
       "    function displayChart(vegaEmbed) {\n",
       "      vegaEmbed(outputDiv, spec, embedOpt)\n",
       "        .catch(err => showError(`Javascript Error: ${err.message}<br>This usually means there's a typo in your chart specification. See the javascript console for the full traceback.`));\n",
       "    }\n",
       "\n",
       "    if(typeof define === \"function\" && define.amd) {\n",
       "      requirejs.config({paths});\n",
       "      let deps = [\"vega-embed\"];\n",
       "      require(deps, displayChart, err => showError(`Error loading script: ${err.message}`));\n",
       "    } else {\n",
       "      maybeLoadScript(\"vega\", \"5\")\n",
       "        .then(() => maybeLoadScript(\"vega-lite\", \"5.20.1\"))\n",
       "        .then(() => maybeLoadScript(\"vega-embed\", \"6\"))\n",
       "        .catch(showError)\n",
       "        .then(() => displayChart(vegaEmbed));\n",
       "    }\n",
       "  })({\"config\": {\"axisLeft\": {\"labelFontSize\": 15}, \"axisBottom\": {\"labelFontSize\": 15}}, \"data\": {\"name\": \"data-70bcc2a97f1d31289e144222ab6f6cc8\"}, \"mark\": {\"type\": \"bar\"}, \"encoding\": {\"x\": {\"field\": \"repo\", \"sort\": [\"jupyter-scheduler\", \"jupyter-resource-usage\", \"jupyter_server\", \"enterprise_gateway\", \"team-compass\", \"gateway_provisioners\", \"jupyter_releaser\", \"kernel_gateway\"], \"type\": \"nominal\"}, \"y\": {\"field\": \"number\", \"type\": \"quantitative\"}}, \"title\": \"Issues created in the last 90 days\", \"$schema\": \"https://vega.github.io/schema/vega-lite/v5.20.1.json\", \"datasets\": {\"data-70bcc2a97f1d31289e144222ab6f6cc8\": [{\"org\": \"jupyter-server\", \"repo\": \"enterprise_gateway\", \"number\": 2, \"org/repo\": \"jupyter-server/enterprise_gateway\"}, {\"org\": \"jupyter-server\", \"repo\": \"gateway_provisioners\", \"number\": 1, \"org/repo\": \"jupyter-server/gateway_provisioners\"}, {\"org\": \"jupyter-server\", \"repo\": \"jupyter-resource-usage\", \"number\": 4, \"org/repo\": \"jupyter-server/jupyter-resource-usage\"}, {\"org\": \"jupyter-server\", \"repo\": \"jupyter-scheduler\", \"number\": 5, \"org/repo\": \"jupyter-server/jupyter-scheduler\"}, {\"org\": \"jupyter-server\", \"repo\": \"jupyter_releaser\", \"number\": 1, \"org/repo\": \"jupyter-server/jupyter_releaser\"}, {\"org\": \"jupyter-server\", \"repo\": \"jupyter_server\", \"number\": 4, \"org/repo\": \"jupyter-server/jupyter_server\"}, {\"org\": \"jupyter-server\", \"repo\": \"kernel_gateway\", \"number\": 1, \"org/repo\": \"jupyter-server/kernel_gateway\"}, {\"org\": \"jupyter-server\", \"repo\": \"team-compass\", \"number\": 2, \"org/repo\": \"jupyter-server/team-compass\"}]}}, {\"mode\": \"vega-lite\"});\n",
       "</script>"
      ],
      "text/plain": [
       "alt.Chart(...)"
      ]
     },
     "execution_count": 16,
     "metadata": {},
     "output_type": "execute_result"
    }
   ],
   "source": [
    "created_counts = created.groupby(['org', 'repo']).count()['number'].reset_index()\n",
    "created_counts['org/repo'] = created_counts.apply(lambda a: a['org'] + '/' + a['repo'], axis=1)\n",
    "sorted_vals = created_counts.sort_values(['org', 'number'], ascending=False)['repo'].values\n",
    "alt.Chart(data=created_counts, title=f\"Issues created in the last {n_days} days\").mark_bar().encode(\n",
    "    x=alt.X('repo', sort=alt.Sort(sorted_vals.tolist())),\n",
    "    y='number',\n",
    ")"
   ]
  },
  {
   "cell_type": "code",
   "execution_count": 17,
   "id": "d7d78870",
   "metadata": {
    "editable": true,
    "execution": {
     "iopub.execute_input": "2025-05-18T01:31:02.360287Z",
     "iopub.status.busy": "2025-05-18T01:31:02.359863Z",
     "iopub.status.idle": "2025-05-18T01:31:02.380049Z",
     "shell.execute_reply": "2025-05-18T01:31:02.379516Z"
    },
    "papermill": {
     "duration": 0.037061,
     "end_time": "2025-05-18T01:31:02.381088",
     "exception": false,
     "start_time": "2025-05-18T01:31:02.344027",
     "status": "completed"
    },
    "slideshow": {
     "slide_type": ""
    },
    "tags": [
     "hide_input"
    ]
   },
   "outputs": [
    {
     "data": {
      "text/html": [
       "\n",
       "<style>\n",
       "  #altair-viz-b96b54eb57344709bfd325c76e758d1a.vega-embed {\n",
       "    width: 100%;\n",
       "    display: flex;\n",
       "  }\n",
       "\n",
       "  #altair-viz-b96b54eb57344709bfd325c76e758d1a.vega-embed details,\n",
       "  #altair-viz-b96b54eb57344709bfd325c76e758d1a.vega-embed details summary {\n",
       "    position: relative;\n",
       "  }\n",
       "</style>\n",
       "<div id=\"altair-viz-b96b54eb57344709bfd325c76e758d1a\"></div>\n",
       "<script type=\"text/javascript\">\n",
       "  var VEGA_DEBUG = (typeof VEGA_DEBUG == \"undefined\") ? {} : VEGA_DEBUG;\n",
       "  (function(spec, embedOpt){\n",
       "    let outputDiv = document.currentScript.previousElementSibling;\n",
       "    if (outputDiv.id !== \"altair-viz-b96b54eb57344709bfd325c76e758d1a\") {\n",
       "      outputDiv = document.getElementById(\"altair-viz-b96b54eb57344709bfd325c76e758d1a\");\n",
       "    }\n",
       "\n",
       "    const paths = {\n",
       "      \"vega\": \"https://cdn.jsdelivr.net/npm/vega@5?noext\",\n",
       "      \"vega-lib\": \"https://cdn.jsdelivr.net/npm/vega-lib?noext\",\n",
       "      \"vega-lite\": \"https://cdn.jsdelivr.net/npm/vega-lite@5.20.1?noext\",\n",
       "      \"vega-embed\": \"https://cdn.jsdelivr.net/npm/vega-embed@6?noext\",\n",
       "    };\n",
       "\n",
       "    function maybeLoadScript(lib, version) {\n",
       "      var key = `${lib.replace(\"-\", \"\")}_version`;\n",
       "      return (VEGA_DEBUG[key] == version) ?\n",
       "        Promise.resolve(paths[lib]) :\n",
       "        new Promise(function(resolve, reject) {\n",
       "          var s = document.createElement('script');\n",
       "          document.getElementsByTagName(\"head\")[0].appendChild(s);\n",
       "          s.async = true;\n",
       "          s.onload = () => {\n",
       "            VEGA_DEBUG[key] = version;\n",
       "            return resolve(paths[lib]);\n",
       "          };\n",
       "          s.onerror = () => reject(`Error loading script: ${paths[lib]}`);\n",
       "          s.src = paths[lib];\n",
       "        });\n",
       "    }\n",
       "\n",
       "    function showError(err) {\n",
       "      outputDiv.innerHTML = `<div class=\"error\" style=\"color:red;\">${err}</div>`;\n",
       "      throw err;\n",
       "    }\n",
       "\n",
       "    function displayChart(vegaEmbed) {\n",
       "      vegaEmbed(outputDiv, spec, embedOpt)\n",
       "        .catch(err => showError(`Javascript Error: ${err.message}<br>This usually means there's a typo in your chart specification. See the javascript console for the full traceback.`));\n",
       "    }\n",
       "\n",
       "    if(typeof define === \"function\" && define.amd) {\n",
       "      requirejs.config({paths});\n",
       "      let deps = [\"vega-embed\"];\n",
       "      require(deps, displayChart, err => showError(`Error loading script: ${err.message}`));\n",
       "    } else {\n",
       "      maybeLoadScript(\"vega\", \"5\")\n",
       "        .then(() => maybeLoadScript(\"vega-lite\", \"5.20.1\"))\n",
       "        .then(() => maybeLoadScript(\"vega-embed\", \"6\"))\n",
       "        .catch(showError)\n",
       "        .then(() => displayChart(vegaEmbed));\n",
       "    }\n",
       "  })({\"config\": {\"axisLeft\": {\"labelFontSize\": 15}, \"axisBottom\": {\"labelFontSize\": 15}}, \"data\": {\"name\": \"data-c275f4e64632f0cc7fbd767998c521b8\"}, \"mark\": {\"type\": \"bar\"}, \"encoding\": {\"x\": {\"field\": \"repo\", \"sort\": [\"jupyter_server\", \"jupyter-scheduler\", \"fps\", \"jupyverse\", \"enterprise_gateway\", \"jupyter_releaser\", \"team-compass\"], \"type\": \"nominal\"}, \"y\": {\"field\": \"number\", \"type\": \"quantitative\"}}, \"title\": \"Issues closed in the last 90 days\", \"$schema\": \"https://vega.github.io/schema/vega-lite/v5.20.1.json\", \"datasets\": {\"data-c275f4e64632f0cc7fbd767998c521b8\": [{\"org\": \"jupyter-server\", \"repo\": \"enterprise_gateway\", \"number\": 2, \"org/repo\": \"jupyter-server/enterprise_gateway\"}, {\"org\": \"jupyter-server\", \"repo\": \"fps\", \"number\": 3, \"org/repo\": \"jupyter-server/fps\"}, {\"org\": \"jupyter-server\", \"repo\": \"jupyter-scheduler\", \"number\": 3, \"org/repo\": \"jupyter-server/jupyter-scheduler\"}, {\"org\": \"jupyter-server\", \"repo\": \"jupyter_releaser\", \"number\": 2, \"org/repo\": \"jupyter-server/jupyter_releaser\"}, {\"org\": \"jupyter-server\", \"repo\": \"jupyter_server\", \"number\": 9, \"org/repo\": \"jupyter-server/jupyter_server\"}, {\"org\": \"jupyter-server\", \"repo\": \"jupyverse\", \"number\": 3, \"org/repo\": \"jupyter-server/jupyverse\"}, {\"org\": \"jupyter-server\", \"repo\": \"team-compass\", \"number\": 1, \"org/repo\": \"jupyter-server/team-compass\"}]}}, {\"mode\": \"vega-lite\"});\n",
       "</script>"
      ],
      "text/plain": [
       "alt.Chart(...)"
      ]
     },
     "execution_count": 17,
     "metadata": {},
     "output_type": "execute_result"
    }
   ],
   "source": [
    "closed_counts = closed.groupby(['org', 'repo']).count()['number'].reset_index()\n",
    "closed_counts['org/repo'] = closed_counts.apply(lambda a: a['org'] + '/' + a['repo'], axis=1)\n",
    "sorted_vals = closed_counts.sort_values(['number'], ascending=False)['repo'].values\n",
    "alt.Chart(data=closed_counts, title=f\"Issues closed in the last {n_days} days\").mark_bar().encode(\n",
    "    x=alt.X('repo', sort=alt.Sort(sorted_vals.tolist())),\n",
    "    y='number',\n",
    ")"
   ]
  },
  {
   "cell_type": "code",
   "execution_count": 18,
   "id": "700ba706",
   "metadata": {
    "editable": true,
    "execution": {
     "iopub.execute_input": "2025-05-18T01:31:02.415392Z",
     "iopub.status.busy": "2025-05-18T01:31:02.414976Z",
     "iopub.status.idle": "2025-05-18T01:31:02.424188Z",
     "shell.execute_reply": "2025-05-18T01:31:02.423646Z"
    },
    "papermill": {
     "duration": 0.028108,
     "end_time": "2025-05-18T01:31:02.425174",
     "exception": false,
     "start_time": "2025-05-18T01:31:02.397066",
     "status": "completed"
    },
    "slideshow": {
     "slide_type": ""
    },
    "tags": [
     "remove_cell"
    ]
   },
   "outputs": [],
   "source": [
    "created_closed = pd.merge(created_counts.rename(columns={'number': 'created'}).drop(columns='org/repo'),\n",
    "                          closed_counts.rename(columns={'number': 'closed'}).drop(columns='org/repo'),\n",
    "                          on=['org', 'repo'], how='outer')\n",
    "\n",
    "created_closed = pd.melt(created_closed, id_vars=['org', 'repo'], var_name=\"kind\", value_name=\"count\").replace(np.nan, 0)"
   ]
  },
  {
   "cell_type": "code",
   "execution_count": 19,
   "id": "cc037da5",
   "metadata": {
    "editable": true,
    "execution": {
     "iopub.execute_input": "2025-05-18T01:31:02.457033Z",
     "iopub.status.busy": "2025-05-18T01:31:02.456612Z",
     "iopub.status.idle": "2025-05-18T01:31:02.479013Z",
     "shell.execute_reply": "2025-05-18T01:31:02.478481Z"
    },
    "papermill": {
     "duration": 0.039326,
     "end_time": "2025-05-18T01:31:02.480003",
     "exception": false,
     "start_time": "2025-05-18T01:31:02.440677",
     "status": "completed"
    },
    "scrolled": true,
    "slideshow": {
     "slide_type": ""
    },
    "tags": [
     "hide_input"
    ]
   },
   "outputs": [
    {
     "data": {
      "text/html": [
       "\n",
       "<style>\n",
       "  #altair-viz-5dd5695a533441bf87e4708c9e6223fd.vega-embed {\n",
       "    width: 100%;\n",
       "    display: flex;\n",
       "  }\n",
       "\n",
       "  #altair-viz-5dd5695a533441bf87e4708c9e6223fd.vega-embed details,\n",
       "  #altair-viz-5dd5695a533441bf87e4708c9e6223fd.vega-embed details summary {\n",
       "    position: relative;\n",
       "  }\n",
       "</style>\n",
       "<div id=\"altair-viz-5dd5695a533441bf87e4708c9e6223fd\"></div>\n",
       "<script type=\"text/javascript\">\n",
       "  var VEGA_DEBUG = (typeof VEGA_DEBUG == \"undefined\") ? {} : VEGA_DEBUG;\n",
       "  (function(spec, embedOpt){\n",
       "    let outputDiv = document.currentScript.previousElementSibling;\n",
       "    if (outputDiv.id !== \"altair-viz-5dd5695a533441bf87e4708c9e6223fd\") {\n",
       "      outputDiv = document.getElementById(\"altair-viz-5dd5695a533441bf87e4708c9e6223fd\");\n",
       "    }\n",
       "\n",
       "    const paths = {\n",
       "      \"vega\": \"https://cdn.jsdelivr.net/npm/vega@5?noext\",\n",
       "      \"vega-lib\": \"https://cdn.jsdelivr.net/npm/vega-lib?noext\",\n",
       "      \"vega-lite\": \"https://cdn.jsdelivr.net/npm/vega-lite@5.20.1?noext\",\n",
       "      \"vega-embed\": \"https://cdn.jsdelivr.net/npm/vega-embed@6?noext\",\n",
       "    };\n",
       "\n",
       "    function maybeLoadScript(lib, version) {\n",
       "      var key = `${lib.replace(\"-\", \"\")}_version`;\n",
       "      return (VEGA_DEBUG[key] == version) ?\n",
       "        Promise.resolve(paths[lib]) :\n",
       "        new Promise(function(resolve, reject) {\n",
       "          var s = document.createElement('script');\n",
       "          document.getElementsByTagName(\"head\")[0].appendChild(s);\n",
       "          s.async = true;\n",
       "          s.onload = () => {\n",
       "            VEGA_DEBUG[key] = version;\n",
       "            return resolve(paths[lib]);\n",
       "          };\n",
       "          s.onerror = () => reject(`Error loading script: ${paths[lib]}`);\n",
       "          s.src = paths[lib];\n",
       "        });\n",
       "    }\n",
       "\n",
       "    function showError(err) {\n",
       "      outputDiv.innerHTML = `<div class=\"error\" style=\"color:red;\">${err}</div>`;\n",
       "      throw err;\n",
       "    }\n",
       "\n",
       "    function displayChart(vegaEmbed) {\n",
       "      vegaEmbed(outputDiv, spec, embedOpt)\n",
       "        .catch(err => showError(`Javascript Error: ${err.message}<br>This usually means there's a typo in your chart specification. See the javascript console for the full traceback.`));\n",
       "    }\n",
       "\n",
       "    if(typeof define === \"function\" && define.amd) {\n",
       "      requirejs.config({paths});\n",
       "      let deps = [\"vega-embed\"];\n",
       "      require(deps, displayChart, err => showError(`Error loading script: ${err.message}`));\n",
       "    } else {\n",
       "      maybeLoadScript(\"vega\", \"5\")\n",
       "        .then(() => maybeLoadScript(\"vega-lite\", \"5.20.1\"))\n",
       "        .then(() => maybeLoadScript(\"vega-embed\", \"6\"))\n",
       "        .catch(showError)\n",
       "        .then(() => displayChart(vegaEmbed));\n",
       "    }\n",
       "  })({\"config\": {\"axisLeft\": {\"labelFontSize\": 15}, \"axisBottom\": {\"labelFontSize\": 15}}, \"data\": {\"name\": \"data-69744d77d1060f3c3d8699d034557e5a\"}, \"mark\": {\"type\": \"bar\"}, \"encoding\": {\"color\": {\"field\": \"kind\", \"type\": \"nominal\"}, \"column\": {\"field\": \"repo\", \"header\": {\"labelFontSize\": 12, \"title\": \"Issue activity, last 90 days for jupyter-server\", \"titleFontSize\": 15}, \"type\": \"nominal\"}, \"x\": {\"axis\": {\"labelFontSize\": 15, \"title\": \"\"}, \"field\": \"kind\", \"type\": \"nominal\"}, \"y\": {\"axis\": {\"labelFontSize\": 12, \"titleFontSize\": 15}, \"field\": \"count\", \"type\": \"quantitative\"}}, \"width\": 120, \"$schema\": \"https://vega.github.io/schema/vega-lite/v5.20.1.json\", \"datasets\": {\"data-69744d77d1060f3c3d8699d034557e5a\": [{\"org\": \"jupyter-server\", \"repo\": \"enterprise_gateway\", \"kind\": \"created\", \"count\": 2.0}, {\"org\": \"jupyter-server\", \"repo\": \"fps\", \"kind\": \"created\", \"count\": 0.0}, {\"org\": \"jupyter-server\", \"repo\": \"gateway_provisioners\", \"kind\": \"created\", \"count\": 1.0}, {\"org\": \"jupyter-server\", \"repo\": \"jupyter-resource-usage\", \"kind\": \"created\", \"count\": 4.0}, {\"org\": \"jupyter-server\", \"repo\": \"jupyter-scheduler\", \"kind\": \"created\", \"count\": 5.0}, {\"org\": \"jupyter-server\", \"repo\": \"jupyter_releaser\", \"kind\": \"created\", \"count\": 1.0}, {\"org\": \"jupyter-server\", \"repo\": \"jupyter_server\", \"kind\": \"created\", \"count\": 4.0}, {\"org\": \"jupyter-server\", \"repo\": \"jupyverse\", \"kind\": \"created\", \"count\": 0.0}, {\"org\": \"jupyter-server\", \"repo\": \"kernel_gateway\", \"kind\": \"created\", \"count\": 1.0}, {\"org\": \"jupyter-server\", \"repo\": \"team-compass\", \"kind\": \"created\", \"count\": 2.0}, {\"org\": \"jupyter-server\", \"repo\": \"enterprise_gateway\", \"kind\": \"closed\", \"count\": 2.0}, {\"org\": \"jupyter-server\", \"repo\": \"fps\", \"kind\": \"closed\", \"count\": 3.0}, {\"org\": \"jupyter-server\", \"repo\": \"gateway_provisioners\", \"kind\": \"closed\", \"count\": 0.0}, {\"org\": \"jupyter-server\", \"repo\": \"jupyter-resource-usage\", \"kind\": \"closed\", \"count\": 0.0}, {\"org\": \"jupyter-server\", \"repo\": \"jupyter-scheduler\", \"kind\": \"closed\", \"count\": 3.0}, {\"org\": \"jupyter-server\", \"repo\": \"jupyter_releaser\", \"kind\": \"closed\", \"count\": 2.0}, {\"org\": \"jupyter-server\", \"repo\": \"jupyter_server\", \"kind\": \"closed\", \"count\": 9.0}, {\"org\": \"jupyter-server\", \"repo\": \"jupyverse\", \"kind\": \"closed\", \"count\": 3.0}, {\"org\": \"jupyter-server\", \"repo\": \"kernel_gateway\", \"kind\": \"closed\", \"count\": 0.0}, {\"org\": \"jupyter-server\", \"repo\": \"team-compass\", \"kind\": \"closed\", \"count\": 1.0}]}}, {\"mode\": \"vega-lite\"});\n",
       "</script>"
      ],
      "text/plain": [
       "alt.Chart(...)"
      ]
     },
     "execution_count": 19,
     "metadata": {},
     "output_type": "execute_result"
    }
   ],
   "source": [
    "charts = []\n",
    "# Pick the top 10 repositories\n",
    "top_repos = created_closed.groupby(['repo']).sum().sort_values(by='count', ascending=False).head(10).index\n",
    "ch = alt.Chart(created_closed.query('repo in @top_repos'), width=120).mark_bar().encode(\n",
    "    x=alt.X(\"kind\", axis=alt.Axis(labelFontSize=15, title=\"\")), \n",
    "    y=alt.Y('count', axis=alt.Axis(titleFontSize=15, labelFontSize=12)),\n",
    "    color='kind',\n",
    "    column=alt.Column(\"repo\", header=alt.Header(title=f\"Issue activity, last {n_days} days for {github_org}\", titleFontSize=15, labelFontSize=12))\n",
    ")\n",
    "ch"
   ]
  },
  {
   "cell_type": "code",
   "execution_count": 20,
   "id": "06cc0e6a",
   "metadata": {
    "editable": true,
    "execution": {
     "iopub.execute_input": "2025-05-18T01:31:02.512349Z",
     "iopub.status.busy": "2025-05-18T01:31:02.511946Z",
     "iopub.status.idle": "2025-05-18T01:31:02.517862Z",
     "shell.execute_reply": "2025-05-18T01:31:02.517345Z"
    },
    "papermill": {
     "duration": 0.023311,
     "end_time": "2025-05-18T01:31:02.518872",
     "exception": false,
     "start_time": "2025-05-18T01:31:02.495561",
     "status": "completed"
    },
    "slideshow": {
     "slide_type": ""
    },
    "tags": [
     "remove_cell"
    ]
   },
   "outputs": [],
   "source": [
    "# Set to datetime\n",
    "for kind in ['created_at', 'closed_at']:\n",
    "    closed.loc[:, kind] = pd.to_datetime(closed[kind])\n",
    "    \n",
    "closed.loc[:, 'time_open'] = closed['closed_at'] - closed['created_at']\n",
    "closed.loc[:, 'time_open'] = closed['time_open'].dt.total_seconds()"
   ]
  },
  {
   "cell_type": "code",
   "execution_count": 21,
   "id": "c5b04db8",
   "metadata": {
    "editable": true,
    "execution": {
     "iopub.execute_input": "2025-05-18T01:31:02.552600Z",
     "iopub.status.busy": "2025-05-18T01:31:02.552108Z",
     "iopub.status.idle": "2025-05-18T01:31:02.570290Z",
     "shell.execute_reply": "2025-05-18T01:31:02.569737Z"
    },
    "papermill": {
     "duration": 0.036206,
     "end_time": "2025-05-18T01:31:02.571319",
     "exception": false,
     "start_time": "2025-05-18T01:31:02.535113",
     "status": "completed"
    },
    "slideshow": {
     "slide_type": ""
    },
    "tags": [
     "hide_input"
    ]
   },
   "outputs": [
    {
     "data": {
      "text/html": [
       "\n",
       "<style>\n",
       "  #altair-viz-2f8ea6e3d4ec418f9f586a71d78a05da.vega-embed {\n",
       "    width: 100%;\n",
       "    display: flex;\n",
       "  }\n",
       "\n",
       "  #altair-viz-2f8ea6e3d4ec418f9f586a71d78a05da.vega-embed details,\n",
       "  #altair-viz-2f8ea6e3d4ec418f9f586a71d78a05da.vega-embed details summary {\n",
       "    position: relative;\n",
       "  }\n",
       "</style>\n",
       "<div id=\"altair-viz-2f8ea6e3d4ec418f9f586a71d78a05da\"></div>\n",
       "<script type=\"text/javascript\">\n",
       "  var VEGA_DEBUG = (typeof VEGA_DEBUG == \"undefined\") ? {} : VEGA_DEBUG;\n",
       "  (function(spec, embedOpt){\n",
       "    let outputDiv = document.currentScript.previousElementSibling;\n",
       "    if (outputDiv.id !== \"altair-viz-2f8ea6e3d4ec418f9f586a71d78a05da\") {\n",
       "      outputDiv = document.getElementById(\"altair-viz-2f8ea6e3d4ec418f9f586a71d78a05da\");\n",
       "    }\n",
       "\n",
       "    const paths = {\n",
       "      \"vega\": \"https://cdn.jsdelivr.net/npm/vega@5?noext\",\n",
       "      \"vega-lib\": \"https://cdn.jsdelivr.net/npm/vega-lib?noext\",\n",
       "      \"vega-lite\": \"https://cdn.jsdelivr.net/npm/vega-lite@5.20.1?noext\",\n",
       "      \"vega-embed\": \"https://cdn.jsdelivr.net/npm/vega-embed@6?noext\",\n",
       "    };\n",
       "\n",
       "    function maybeLoadScript(lib, version) {\n",
       "      var key = `${lib.replace(\"-\", \"\")}_version`;\n",
       "      return (VEGA_DEBUG[key] == version) ?\n",
       "        Promise.resolve(paths[lib]) :\n",
       "        new Promise(function(resolve, reject) {\n",
       "          var s = document.createElement('script');\n",
       "          document.getElementsByTagName(\"head\")[0].appendChild(s);\n",
       "          s.async = true;\n",
       "          s.onload = () => {\n",
       "            VEGA_DEBUG[key] = version;\n",
       "            return resolve(paths[lib]);\n",
       "          };\n",
       "          s.onerror = () => reject(`Error loading script: ${paths[lib]}`);\n",
       "          s.src = paths[lib];\n",
       "        });\n",
       "    }\n",
       "\n",
       "    function showError(err) {\n",
       "      outputDiv.innerHTML = `<div class=\"error\" style=\"color:red;\">${err}</div>`;\n",
       "      throw err;\n",
       "    }\n",
       "\n",
       "    function displayChart(vegaEmbed) {\n",
       "      vegaEmbed(outputDiv, spec, embedOpt)\n",
       "        .catch(err => showError(`Javascript Error: ${err.message}<br>This usually means there's a typo in your chart specification. See the javascript console for the full traceback.`));\n",
       "    }\n",
       "\n",
       "    if(typeof define === \"function\" && define.amd) {\n",
       "      requirejs.config({paths});\n",
       "      let deps = [\"vega-embed\"];\n",
       "      require(deps, displayChart, err => showError(`Error loading script: ${err.message}`));\n",
       "    } else {\n",
       "      maybeLoadScript(\"vega\", \"5\")\n",
       "        .then(() => maybeLoadScript(\"vega-lite\", \"5.20.1\"))\n",
       "        .then(() => maybeLoadScript(\"vega-embed\", \"6\"))\n",
       "        .catch(showError)\n",
       "        .then(() => displayChart(vegaEmbed));\n",
       "    }\n",
       "  })({\"config\": {\"axisLeft\": {\"labelFontSize\": 15}, \"axisBottom\": {\"labelFontSize\": 15}}, \"data\": {\"name\": \"data-729c6c227fe05d15297e640d6ced72c5\"}, \"mark\": {\"type\": \"bar\"}, \"encoding\": {\"x\": {\"field\": \"repo\", \"sort\": [\"fps\", \"jupyter-scheduler\", \"jupyter_releaser\", \"jupyter_server\", \"team-compass\", \"jupyverse\", \"enterprise_gateway\"], \"type\": \"nominal\"}, \"y\": {\"field\": \"time_open\", \"title\": \"Median Days Open\", \"type\": \"quantitative\"}}, \"title\": \"Time to close for issues closed in the last 90 days\", \"$schema\": \"https://vega.github.io/schema/vega-lite/v5.20.1.json\", \"datasets\": {\"data-729c6c227fe05d15297e640d6ced72c5\": [{\"org\": \"jupyter-server\", \"repo\": \"enterprise_gateway\", \"time_open\": 1.0795543981481481, \"org/repo\": \"jupyter-server/enterprise_gateway\"}, {\"org\": \"jupyter-server\", \"repo\": \"fps\", \"time_open\": 1228.1181018518519, \"org/repo\": \"jupyter-server/fps\"}, {\"org\": \"jupyter-server\", \"repo\": \"jupyter-scheduler\", \"time_open\": 110.23818287037037, \"org/repo\": \"jupyter-server/jupyter-scheduler\"}, {\"org\": \"jupyter-server\", \"repo\": \"jupyter_releaser\", \"time_open\": 49.906840277777775, \"org/repo\": \"jupyter-server/jupyter_releaser\"}, {\"org\": \"jupyter-server\", \"repo\": \"jupyter_server\", \"time_open\": 38.553148148148146, \"org/repo\": \"jupyter-server/jupyter_server\"}, {\"org\": \"jupyter-server\", \"repo\": \"jupyverse\", \"time_open\": 2.198275462962963, \"org/repo\": \"jupyter-server/jupyverse\"}, {\"org\": \"jupyter-server\", \"repo\": \"team-compass\", \"time_open\": 8.337731481481482, \"org/repo\": \"jupyter-server/team-compass\"}]}}, {\"mode\": \"vega-lite\"});\n",
       "</script>"
      ],
      "text/plain": [
       "alt.Chart(...)"
      ]
     },
     "execution_count": 21,
     "metadata": {},
     "output_type": "execute_result"
    }
   ],
   "source": [
    "time_open = closed.groupby(['org', 'repo']).agg({'time_open': 'median'}).reset_index()\n",
    "time_open['time_open'] = time_open['time_open'] / (60 * 60 * 24)\n",
    "time_open['org/repo'] = time_open.apply(lambda a: a['org'] + '/' + a['repo'], axis=1)\n",
    "sorted_vals = time_open.sort_values(['org', 'time_open'], ascending=False)['repo'].values\n",
    "alt.Chart(data=time_open, title=f\"Time to close for issues closed in the last {n_days} days\").mark_bar().encode(\n",
    "    x=alt.X('repo', sort=alt.Sort(sorted_vals.tolist())),\n",
    "    y=alt.Y('time_open', title=\"Median Days Open\"),\n",
    ")"
   ]
  },
  {
   "cell_type": "markdown",
   "id": "2824063d",
   "metadata": {
    "editable": true,
    "papermill": {
     "duration": 0.01567,
     "end_time": "2025-05-18T01:31:02.602733",
     "exception": false,
     "start_time": "2025-05-18T01:31:02.587063",
     "status": "completed"
    },
    "slideshow": {
     "slide_type": ""
    },
    "tags": []
   },
   "source": [
    "## Most-upvoted issues"
   ]
  },
  {
   "cell_type": "code",
   "execution_count": 22,
   "id": "95c4d7e5",
   "metadata": {
    "editable": true,
    "execution": {
     "iopub.execute_input": "2025-05-18T01:31:02.635596Z",
     "iopub.status.busy": "2025-05-18T01:31:02.635174Z",
     "iopub.status.idle": "2025-05-18T01:31:02.658358Z",
     "shell.execute_reply": "2025-05-18T01:31:02.657693Z"
    },
    "papermill": {
     "duration": 0.040846,
     "end_time": "2025-05-18T01:31:02.659407",
     "exception": false,
     "start_time": "2025-05-18T01:31:02.618561",
     "status": "completed"
    },
    "slideshow": {
     "slide_type": ""
    },
    "tags": [
     "hide_input"
    ]
   },
   "outputs": [
    {
     "data": {
      "application/vnd.jupyter.widget-view+json": {
       "model_id": "f1253992a0bd40f9b5f16941624cbef8",
       "version_major": 2,
       "version_minor": 0
      },
      "text/plain": [
       "HTML(value='<ul>\\n<li>(22) Towards a new generic and composable server - team-compass - <a href=\"https://githu…"
      ]
     },
     "execution_count": 22,
     "metadata": {},
     "output_type": "execute_result"
    }
   ],
   "source": [
    "thumbsup = issues.query(\"state == 'open'\").sort_values(\"positive\", ascending=False).head(25)\n",
    "thumbsup = thumbsup[[\"title\", \"url\", \"number\", \"positive\", \"repo\"]]\n",
    "\n",
    "text = []\n",
    "for ii, irow in thumbsup.iterrows():\n",
    "    itext = f\"- ({irow['positive']}) {irow['title']} - {irow['repo']} - [#{irow['number']}]({irow['url']})\"\n",
    "    text.append(itext)\n",
    "text = '\\n'.join(text)\n",
    "HTML(markdown(text))"
   ]
  },
  {
   "cell_type": "markdown",
   "id": "9b9bb446",
   "metadata": {
    "editable": true,
    "papermill": {
     "duration": 0.016907,
     "end_time": "2025-05-18T01:31:02.693202",
     "exception": false,
     "start_time": "2025-05-18T01:31:02.676295",
     "status": "completed"
    },
    "slideshow": {
     "slide_type": ""
    },
    "tags": []
   },
   "source": [
    "## Commenters across repositories\n",
    "\n",
    "These are commenters across all issues and pull requests in the last several days.\n",
    "These are colored by the commenter's association with the organization. For information\n",
    "about what these associations mean, [see this StackOverflow post](https://stackoverflow.com/a/28866914/1927102)."
   ]
  },
  {
   "cell_type": "code",
   "execution_count": 23,
   "id": "70d358e4",
   "metadata": {
    "editable": true,
    "execution": {
     "iopub.execute_input": "2025-05-18T01:31:02.726369Z",
     "iopub.status.busy": "2025-05-18T01:31:02.725999Z",
     "iopub.status.idle": "2025-05-18T01:31:02.738498Z",
     "shell.execute_reply": "2025-05-18T01:31:02.737955Z"
    },
    "papermill": {
     "duration": 0.030223,
     "end_time": "2025-05-18T01:31:02.739464",
     "exception": false,
     "start_time": "2025-05-18T01:31:02.709241",
     "status": "completed"
    },
    "slideshow": {
     "slide_type": ""
    },
    "tags": [
     "remove_cell"
    ]
   },
   "outputs": [],
   "source": [
    "commentors = (\n",
    "    comments\n",
    "    .query(\"created_at > @start_date and created_at < @stop_date\")\n",
    "    .groupby(['org', 'repo', 'login', 'author_association'])\n",
    "    .count().rename(columns={'id_issue': 'count'})['count']\n",
    "    .reset_index()\n",
    "    .sort_values(['org', 'count'], ascending=False)\n",
    ")"
   ]
  },
  {
   "cell_type": "code",
   "execution_count": 24,
   "id": "b855aac0",
   "metadata": {
    "editable": true,
    "execution": {
     "iopub.execute_input": "2025-05-18T01:31:02.772601Z",
     "iopub.status.busy": "2025-05-18T01:31:02.772206Z",
     "iopub.status.idle": "2025-05-18T01:31:02.797365Z",
     "shell.execute_reply": "2025-05-18T01:31:02.796686Z"
    },
    "papermill": {
     "duration": 0.042885,
     "end_time": "2025-05-18T01:31:02.798429",
     "exception": false,
     "start_time": "2025-05-18T01:31:02.755544",
     "status": "completed"
    },
    "slideshow": {
     "slide_type": ""
    },
    "tags": [
     "hide_input"
    ]
   },
   "outputs": [
    {
     "data": {
      "text/html": [
       "\n",
       "<style>\n",
       "  #altair-viz-217bd73640264fa792e4049144194f92.vega-embed {\n",
       "    width: 100%;\n",
       "    display: flex;\n",
       "  }\n",
       "\n",
       "  #altair-viz-217bd73640264fa792e4049144194f92.vega-embed details,\n",
       "  #altair-viz-217bd73640264fa792e4049144194f92.vega-embed details summary {\n",
       "    position: relative;\n",
       "  }\n",
       "</style>\n",
       "<div id=\"altair-viz-217bd73640264fa792e4049144194f92\"></div>\n",
       "<script type=\"text/javascript\">\n",
       "  var VEGA_DEBUG = (typeof VEGA_DEBUG == \"undefined\") ? {} : VEGA_DEBUG;\n",
       "  (function(spec, embedOpt){\n",
       "    let outputDiv = document.currentScript.previousElementSibling;\n",
       "    if (outputDiv.id !== \"altair-viz-217bd73640264fa792e4049144194f92\") {\n",
       "      outputDiv = document.getElementById(\"altair-viz-217bd73640264fa792e4049144194f92\");\n",
       "    }\n",
       "\n",
       "    const paths = {\n",
       "      \"vega\": \"https://cdn.jsdelivr.net/npm/vega@5?noext\",\n",
       "      \"vega-lib\": \"https://cdn.jsdelivr.net/npm/vega-lib?noext\",\n",
       "      \"vega-lite\": \"https://cdn.jsdelivr.net/npm/vega-lite@5.20.1?noext\",\n",
       "      \"vega-embed\": \"https://cdn.jsdelivr.net/npm/vega-embed@6?noext\",\n",
       "    };\n",
       "\n",
       "    function maybeLoadScript(lib, version) {\n",
       "      var key = `${lib.replace(\"-\", \"\")}_version`;\n",
       "      return (VEGA_DEBUG[key] == version) ?\n",
       "        Promise.resolve(paths[lib]) :\n",
       "        new Promise(function(resolve, reject) {\n",
       "          var s = document.createElement('script');\n",
       "          document.getElementsByTagName(\"head\")[0].appendChild(s);\n",
       "          s.async = true;\n",
       "          s.onload = () => {\n",
       "            VEGA_DEBUG[key] = version;\n",
       "            return resolve(paths[lib]);\n",
       "          };\n",
       "          s.onerror = () => reject(`Error loading script: ${paths[lib]}`);\n",
       "          s.src = paths[lib];\n",
       "        });\n",
       "    }\n",
       "\n",
       "    function showError(err) {\n",
       "      outputDiv.innerHTML = `<div class=\"error\" style=\"color:red;\">${err}</div>`;\n",
       "      throw err;\n",
       "    }\n",
       "\n",
       "    function displayChart(vegaEmbed) {\n",
       "      vegaEmbed(outputDiv, spec, embedOpt)\n",
       "        .catch(err => showError(`Javascript Error: ${err.message}<br>This usually means there's a typo in your chart specification. See the javascript console for the full traceback.`));\n",
       "    }\n",
       "\n",
       "    if(typeof define === \"function\" && define.amd) {\n",
       "      requirejs.config({paths});\n",
       "      let deps = [\"vega-embed\"];\n",
       "      require(deps, displayChart, err => showError(`Error loading script: ${err.message}`));\n",
       "    } else {\n",
       "      maybeLoadScript(\"vega\", \"5\")\n",
       "        .then(() => maybeLoadScript(\"vega-lite\", \"5.20.1\"))\n",
       "        .then(() => maybeLoadScript(\"vega-embed\", \"6\"))\n",
       "        .catch(showError)\n",
       "        .then(() => displayChart(vegaEmbed));\n",
       "    }\n",
       "  })({\"config\": {\"axisLeft\": {\"labelFontSize\": 15}, \"axisBottom\": {\"labelFontSize\": 15}}, \"hconcat\": [{\"mark\": {\"type\": \"bar\"}, \"encoding\": {\"color\": {\"field\": \"author_association\", \"scale\": {\"domain\": [\"MEMBER\", \"CONTRIBUTOR\", \"COLLABORATOR\", \"NONE\"], \"range\": [\"rgb(211.82745098039214, 211.82745098039214, 211.82745098039214)\", \"rgb(166.98562091503268, 229.89803921568628, 166.98562091503268)\", \"rgb(96.37647058823529, 192.75294117647059, 96.37647058823529)\", \"rgb(0.0, 100.3921568627451, 0.0)\"]}, \"type\": \"nominal\"}, \"x\": {\"field\": \"login\", \"type\": \"nominal\"}, \"y\": {\"field\": \"count\", \"type\": \"quantitative\"}}, \"title\": \"Top 50 commentors for ('jupyter-server',) in the last 90 days\"}], \"data\": {\"name\": \"data-54bc23407b6e2bcf8d2ed338b96a13f7\"}, \"$schema\": \"https://vega.github.io/schema/vega-lite/v5.20.1.json\", \"datasets\": {\"data-54bc23407b6e2bcf8d2ed338b96a13f7\": [{\"login\": \"Zsailer\", \"count\": 31, \"author_association\": \"MEMBER\"}, {\"login\": \"davidbrochart\", \"count\": 20, \"author_association\": \"NONE\"}, {\"login\": \"krassowski\", \"count\": 13, \"author_association\": \"COLLABORATOR\"}, {\"login\": \"andrii-i\", \"count\": 7, \"author_association\": \"COLLABORATOR\"}, {\"login\": \"minrk\", \"count\": 5, \"author_association\": \"CONTRIBUTOR\"}, {\"login\": \"lresende\", \"count\": 5, \"author_association\": \"MEMBER\"}, {\"login\": \"jtpio\", \"count\": 4, \"author_association\": \"MEMBER\"}, {\"login\": \"patilsanket48\", \"count\": 4, \"author_association\": \"NONE\"}, {\"login\": \"Carreau\", \"count\": 3, \"author_association\": \"NONE\"}, {\"login\": \"jhgoebbert\", \"count\": 3, \"author_association\": \"NONE\"}, {\"login\": \"Sieboldianus\", \"count\": 3, \"author_association\": \"NONE\"}, {\"login\": \"astitv-sh\", \"count\": 2, \"author_association\": \"COLLABORATOR\"}, {\"login\": \"jesuino\", \"count\": 2, \"author_association\": \"NONE\"}, {\"login\": \"kjayan\", \"count\": 2, \"author_association\": \"CONTRIBUTOR\"}, {\"login\": \"demardefrozen10\", \"count\": 2, \"author_association\": \"NONE\"}, {\"login\": \"bollwyvl\", \"count\": 2, \"author_association\": \"CONTRIBUTOR\"}, {\"login\": \"colinpalmer\", \"count\": 2, \"author_association\": \"NONE\"}, {\"login\": \"pranavkhandelwal\", \"count\": 2, \"author_association\": \"NONE\"}, {\"login\": \"ivanov\", \"count\": 2, \"author_association\": \"NONE\"}, {\"login\": \"fresende\", \"count\": 2, \"author_association\": \"CONTRIBUTOR\"}, {\"login\": \"anutosh491\", \"count\": 2, \"author_association\": \"NONE\"}, {\"login\": \"JohanMabille\", \"count\": 2, \"author_association\": \"CONTRIBUTOR\"}, {\"login\": \"vsr2158\", \"count\": 2, \"author_association\": \"NONE\"}, {\"login\": \"mimikwang\", \"count\": 2, \"author_association\": \"NONE\"}, {\"login\": \"dlqqq\", \"count\": 2, \"author_association\": \"CONTRIBUTOR\"}, {\"login\": \"dmonad\", \"count\": 2, \"author_association\": \"NONE\"}, {\"login\": \"brichet\", \"count\": 1, \"author_association\": \"CONTRIBUTOR\"}, {\"login\": \"ctcjab\", \"count\": 1, \"author_association\": \"NONE\"}, {\"login\": \"consideRatio\", \"count\": 1, \"author_association\": \"NONE\"}, {\"login\": \"choldgraf\", \"count\": 1, \"author_association\": \"NONE\"}, {\"login\": \"RohanGd\", \"count\": 1, \"author_association\": \"NONE\"}, {\"login\": \"ExpertLove\", \"count\": 1, \"author_association\": \"NONE\"}, {\"login\": \"Horusiath\", \"count\": 1, \"author_association\": \"NONE\"}, {\"login\": \"MattiasDC\", \"count\": 1, \"author_association\": \"NONE\"}, {\"login\": \"Bimbam360\", \"count\": 1, \"author_association\": \"NONE\"}, {\"login\": \"cben\", \"count\": 1, \"author_association\": \"NONE\"}, {\"login\": \"RRosio\", \"count\": 1, \"author_association\": \"CONTRIBUTOR\"}, {\"login\": \"bloomsa\", \"count\": 1, \"author_association\": \"NONE\"}, {\"login\": \"danyeaw\", \"count\": 1, \"author_association\": \"NONE\"}, {\"login\": \"jayxie8\", \"count\": 1, \"author_association\": \"NONE\"}, {\"login\": \"fendwich\", \"count\": 1, \"author_association\": \"NONE\"}, {\"login\": \"fatihmete\", \"count\": 1, \"author_association\": \"NONE\"}, {\"login\": \"liuxiawei\", \"count\": 1, \"author_association\": \"NONE\"}, {\"login\": \"manics\", \"count\": 1, \"author_association\": \"NONE\"}, {\"login\": \"martenrichter\", \"count\": 1, \"author_association\": \"CONTRIBUTOR\"}, {\"login\": \"mahendrapaipuri\", \"count\": 1, \"author_association\": \"CONTRIBUTOR\"}, {\"login\": \"powerstar13\", \"count\": 1, \"author_association\": \"NONE\"}, {\"login\": \"paf91\", \"count\": 1, \"author_association\": \"NONE\"}, {\"login\": \"rolweber\", \"count\": 1, \"author_association\": \"CONTRIBUTOR\"}, {\"login\": \"rao23\", \"count\": 1, \"author_association\": \"NONE\"}]}}, {\"mode\": \"vega-lite\"});\n",
       "</script>"
      ],
      "text/plain": [
       "alt.HConcatChart(...)"
      ]
     },
     "execution_count": 24,
     "metadata": {},
     "output_type": "execute_result"
    }
   ],
   "source": [
    "n_plot = 50\n",
    "charts = []\n",
    "for ii, (iorg, idata) in enumerate(commentors.groupby(['org'])):\n",
    "    title = f\"Top {n_plot} commentors for {iorg} in the last {n_days} days\"\n",
    "    idata = idata.groupby('login', as_index=False).agg({'count': 'sum', 'author_association': 'first'})\n",
    "    idata = idata.sort_values('count', ascending=False).head(n_plot)\n",
    "    ch = alt.Chart(data=idata.head(n_plot), title=title).mark_bar().encode(\n",
    "        x='login',\n",
    "        y='count',\n",
    "        color=alt.Color('author_association', scale=alt.Scale(domain=author_types, range=author_colors))\n",
    "    )\n",
    "    charts.append(ch)\n",
    "alt.hconcat(*charts)"
   ]
  },
  {
   "cell_type": "markdown",
   "id": "7cc4d526",
   "metadata": {
    "editable": true,
    "papermill": {
     "duration": 0.017335,
     "end_time": "2025-05-18T01:31:02.832653",
     "exception": false,
     "start_time": "2025-05-18T01:31:02.815318",
     "status": "completed"
    },
    "slideshow": {
     "slide_type": ""
    },
    "tags": []
   },
   "source": [
    "## First responders\n",
    "\n",
    "First responders are the first people to respond to a new issue in one of the repositories.\n",
    "The following plots show first responders for recently-created issues."
   ]
  },
  {
   "cell_type": "code",
   "execution_count": 25,
   "id": "4dcc8fa8",
   "metadata": {
    "editable": true,
    "execution": {
     "iopub.execute_input": "2025-05-18T01:31:02.866250Z",
     "iopub.status.busy": "2025-05-18T01:31:02.865859Z",
     "iopub.status.idle": "2025-05-18T01:31:02.901009Z",
     "shell.execute_reply": "2025-05-18T01:31:02.900410Z"
    },
    "papermill": {
     "duration": 0.05316,
     "end_time": "2025-05-18T01:31:02.902038",
     "exception": false,
     "start_time": "2025-05-18T01:31:02.848878",
     "status": "completed"
    },
    "slideshow": {
     "slide_type": ""
    },
    "tags": [
     "remove_cell"
    ]
   },
   "outputs": [],
   "source": [
    "first_comments = []\n",
    "latest_comments = comments.query(\"created_at > @start_date\")\n",
    "for (org, repo, issue_id), i_comments in latest_comments.groupby(['org', 'repo', 'id_issue']):\n",
    "    ix_min = pd.to_datetime(i_comments['created_at']).idxmin()\n",
    "    first_comment = i_comments.loc[ix_min]\n",
    "    if isinstance(first_comment, pd.DataFrame):\n",
    "        first_comment = first_comment.iloc[0]\n",
    "    first_comments.append(first_comment)\n",
    "first_comments = pd.concat(first_comments, axis=1).T\n",
    "\n",
    "# Make up counts for viz\n",
    "first_responder_counts = first_comments.groupby(['org', 'login', 'author_association'], as_index=False).\\\n",
    "    count().rename(columns={'id_issue': 'n_first_responses'}).sort_values(['org', 'n_first_responses'], ascending=False)\n"
   ]
  },
  {
   "cell_type": "code",
   "execution_count": 26,
   "id": "2ec8fbf8",
   "metadata": {
    "editable": true,
    "execution": {
     "iopub.execute_input": "2025-05-18T01:31:02.935580Z",
     "iopub.status.busy": "2025-05-18T01:31:02.935236Z",
     "iopub.status.idle": "2025-05-18T01:31:02.957608Z",
     "shell.execute_reply": "2025-05-18T01:31:02.956972Z"
    },
    "papermill": {
     "duration": 0.040337,
     "end_time": "2025-05-18T01:31:02.958612",
     "exception": false,
     "start_time": "2025-05-18T01:31:02.918275",
     "status": "completed"
    },
    "slideshow": {
     "slide_type": ""
    },
    "tags": [
     "hide_input"
    ]
   },
   "outputs": [
    {
     "data": {
      "text/html": [
       "\n",
       "<style>\n",
       "  #altair-viz-6334b37fe30d43aab3c606a834766307.vega-embed {\n",
       "    width: 100%;\n",
       "    display: flex;\n",
       "  }\n",
       "\n",
       "  #altair-viz-6334b37fe30d43aab3c606a834766307.vega-embed details,\n",
       "  #altair-viz-6334b37fe30d43aab3c606a834766307.vega-embed details summary {\n",
       "    position: relative;\n",
       "  }\n",
       "</style>\n",
       "<div id=\"altair-viz-6334b37fe30d43aab3c606a834766307\"></div>\n",
       "<script type=\"text/javascript\">\n",
       "  var VEGA_DEBUG = (typeof VEGA_DEBUG == \"undefined\") ? {} : VEGA_DEBUG;\n",
       "  (function(spec, embedOpt){\n",
       "    let outputDiv = document.currentScript.previousElementSibling;\n",
       "    if (outputDiv.id !== \"altair-viz-6334b37fe30d43aab3c606a834766307\") {\n",
       "      outputDiv = document.getElementById(\"altair-viz-6334b37fe30d43aab3c606a834766307\");\n",
       "    }\n",
       "\n",
       "    const paths = {\n",
       "      \"vega\": \"https://cdn.jsdelivr.net/npm/vega@5?noext\",\n",
       "      \"vega-lib\": \"https://cdn.jsdelivr.net/npm/vega-lib?noext\",\n",
       "      \"vega-lite\": \"https://cdn.jsdelivr.net/npm/vega-lite@5.20.1?noext\",\n",
       "      \"vega-embed\": \"https://cdn.jsdelivr.net/npm/vega-embed@6?noext\",\n",
       "    };\n",
       "\n",
       "    function maybeLoadScript(lib, version) {\n",
       "      var key = `${lib.replace(\"-\", \"\")}_version`;\n",
       "      return (VEGA_DEBUG[key] == version) ?\n",
       "        Promise.resolve(paths[lib]) :\n",
       "        new Promise(function(resolve, reject) {\n",
       "          var s = document.createElement('script');\n",
       "          document.getElementsByTagName(\"head\")[0].appendChild(s);\n",
       "          s.async = true;\n",
       "          s.onload = () => {\n",
       "            VEGA_DEBUG[key] = version;\n",
       "            return resolve(paths[lib]);\n",
       "          };\n",
       "          s.onerror = () => reject(`Error loading script: ${paths[lib]}`);\n",
       "          s.src = paths[lib];\n",
       "        });\n",
       "    }\n",
       "\n",
       "    function showError(err) {\n",
       "      outputDiv.innerHTML = `<div class=\"error\" style=\"color:red;\">${err}</div>`;\n",
       "      throw err;\n",
       "    }\n",
       "\n",
       "    function displayChart(vegaEmbed) {\n",
       "      vegaEmbed(outputDiv, spec, embedOpt)\n",
       "        .catch(err => showError(`Javascript Error: ${err.message}<br>This usually means there's a typo in your chart specification. See the javascript console for the full traceback.`));\n",
       "    }\n",
       "\n",
       "    if(typeof define === \"function\" && define.amd) {\n",
       "      requirejs.config({paths});\n",
       "      let deps = [\"vega-embed\"];\n",
       "      require(deps, displayChart, err => showError(`Error loading script: ${err.message}`));\n",
       "    } else {\n",
       "      maybeLoadScript(\"vega\", \"5\")\n",
       "        .then(() => maybeLoadScript(\"vega-lite\", \"5.20.1\"))\n",
       "        .then(() => maybeLoadScript(\"vega-embed\", \"6\"))\n",
       "        .catch(showError)\n",
       "        .then(() => displayChart(vegaEmbed));\n",
       "    }\n",
       "  })({\"config\": {\"axisLeft\": {\"labelFontSize\": 15}, \"axisBottom\": {\"labelFontSize\": 15}}, \"data\": {\"name\": \"data-f9a35330b5835f433bb9e6e440df1b89\"}, \"mark\": {\"type\": \"bar\"}, \"encoding\": {\"color\": {\"field\": \"author_association\", \"scale\": {\"domain\": [\"MEMBER\", \"CONTRIBUTOR\", \"COLLABORATOR\", \"NONE\"], \"range\": [\"rgb(211.82745098039214, 211.82745098039214, 211.82745098039214)\", \"rgb(166.98562091503268, 229.89803921568628, 166.98562091503268)\", \"rgb(96.37647058823529, 192.75294117647059, 96.37647058823529)\", \"rgb(0.0, 100.3921568627451, 0.0)\"]}, \"type\": \"nominal\"}, \"x\": {\"field\": \"login\", \"type\": \"nominal\"}, \"y\": {\"field\": \"n_first_responses\", \"type\": \"quantitative\"}}, \"title\": \"Top 50 first responders for jupyter-server in the last 90 days\", \"$schema\": \"https://vega.github.io/schema/vega-lite/v5.20.1.json\", \"datasets\": {\"data-f9a35330b5835f433bb9e6e440df1b89\": [{\"login\": \"Zsailer\", \"n_first_responses\": 7, \"author_association\": \"MEMBER\"}, {\"login\": \"davidbrochart\", \"n_first_responses\": 5, \"author_association\": \"COLLABORATOR\"}, {\"login\": \"andrii-i\", \"n_first_responses\": 3, \"author_association\": \"COLLABORATOR\"}, {\"login\": \"krassowski\", \"n_first_responses\": 3, \"author_association\": \"COLLABORATOR\"}, {\"login\": \"minrk\", \"n_first_responses\": 3, \"author_association\": \"CONTRIBUTOR\"}, {\"login\": \"astitv-sh\", \"n_first_responses\": 2, \"author_association\": \"COLLABORATOR\"}, {\"login\": \"bollwyvl\", \"n_first_responses\": 2, \"author_association\": \"CONTRIBUTOR\"}, {\"login\": \"jtpio\", \"n_first_responses\": 2, \"author_association\": \"MEMBER\"}, {\"login\": \"RohanGd\", \"n_first_responses\": 1, \"author_association\": \"NONE\"}, {\"login\": \"MattiasDC\", \"n_first_responses\": 1, \"author_association\": \"NONE\"}, {\"login\": \"Carreau\", \"n_first_responses\": 1, \"author_association\": \"NONE\"}, {\"login\": \"Bimbam360\", \"n_first_responses\": 1, \"author_association\": \"NONE\"}, {\"login\": \"JohanMabille\", \"n_first_responses\": 1, \"author_association\": \"CONTRIBUTOR\"}, {\"login\": \"ExpertLove\", \"n_first_responses\": 1, \"author_association\": \"NONE\"}, {\"login\": \"consideRatio\", \"n_first_responses\": 1, \"author_association\": \"NONE\"}, {\"login\": \"cben\", \"n_first_responses\": 1, \"author_association\": \"NONE\"}, {\"login\": \"bloomsa\", \"n_first_responses\": 1, \"author_association\": \"NONE\"}, {\"login\": \"ctcjab\", \"n_first_responses\": 1, \"author_association\": \"NONE\"}, {\"login\": \"fendwich\", \"n_first_responses\": 1, \"author_association\": \"NONE\"}, {\"login\": \"dlqqq\", \"n_first_responses\": 1, \"author_association\": \"CONTRIBUTOR\"}, {\"login\": \"jhgoebbert\", \"n_first_responses\": 1, \"author_association\": \"NONE\"}, {\"login\": \"Sieboldianus\", \"n_first_responses\": 1, \"author_association\": \"NONE\"}, {\"login\": \"fresende\", \"n_first_responses\": 1, \"author_association\": \"CONTRIBUTOR\"}, {\"login\": \"liuxiawei\", \"n_first_responses\": 1, \"author_association\": \"NONE\"}, {\"login\": \"mahendrapaipuri\", \"n_first_responses\": 1, \"author_association\": \"CONTRIBUTOR\"}, {\"login\": \"lresende\", \"n_first_responses\": 1, \"author_association\": \"MEMBER\"}, {\"login\": \"martenrichter\", \"n_first_responses\": 1, \"author_association\": \"CONTRIBUTOR\"}, {\"login\": \"mimikwang\", \"n_first_responses\": 1, \"author_association\": \"NONE\"}, {\"login\": \"paf91\", \"n_first_responses\": 1, \"author_association\": \"NONE\"}, {\"login\": \"patilsanket48\", \"n_first_responses\": 1, \"author_association\": \"NONE\"}, {\"login\": \"powerstar13\", \"n_first_responses\": 1, \"author_association\": \"NONE\"}, {\"login\": \"pranavkhandelwal\", \"n_first_responses\": 1, \"author_association\": \"NONE\"}, {\"login\": \"rao23\", \"n_first_responses\": 1, \"author_association\": \"NONE\"}, {\"login\": \"rolweber\", \"n_first_responses\": 1, \"author_association\": \"CONTRIBUTOR\"}, {\"login\": \"simonaubertbd\", \"n_first_responses\": 1, \"author_association\": \"NONE\"}, {\"login\": \"skapin\", \"n_first_responses\": 1, \"author_association\": \"NONE\"}, {\"login\": \"vidartf\", \"n_first_responses\": 1, \"author_association\": \"MEMBER\"}, {\"login\": \"xiaoguazh\", \"n_first_responses\": 1, \"author_association\": \"NONE\"}]}}, {\"mode\": \"vega-lite\"});\n",
       "</script>"
      ],
      "text/plain": [
       "alt.Chart(...)"
      ]
     },
     "execution_count": 26,
     "metadata": {},
     "output_type": "execute_result"
    }
   ],
   "source": [
    "n_plot = 50\n",
    "\n",
    "title = f\"Top {n_plot} first responders for {github_org} in the last {n_days} days\"\n",
    "idata = first_responder_counts.groupby('login', as_index=False).agg({'n_first_responses': 'sum', 'author_association': 'first'})\n",
    "idata = idata.sort_values('n_first_responses', ascending=False).head(n_plot)\n",
    "ch = alt.Chart(data=idata.head(n_plot), title=title).mark_bar().encode(\n",
    "    x='login',\n",
    "    y='n_first_responses',\n",
    "    color=alt.Color('author_association', scale=alt.Scale(domain=author_types, range=author_colors))\n",
    ")\n",
    "ch"
   ]
  },
  {
   "cell_type": "markdown",
   "id": "a0384968",
   "metadata": {
    "editable": true,
    "papermill": {
     "duration": 0.017685,
     "end_time": "2025-05-18T01:31:02.993317",
     "exception": false,
     "start_time": "2025-05-18T01:31:02.975632",
     "status": "completed"
    },
    "slideshow": {
     "slide_type": ""
    },
    "tags": []
   },
   "source": [
    "## Recent activity\n",
    "\n",
    "### A list of merged PRs by project\n",
    "\n",
    "Below is a tabbed readout of recently-merged PRs. Check out the title to get an idea for what they\n",
    "implemented, and be sure to thank the PR author for their hard work!"
   ]
  },
  {
   "cell_type": "code",
   "execution_count": 27,
   "id": "ecf5c0ce",
   "metadata": {
    "editable": true,
    "execution": {
     "iopub.execute_input": "2025-05-18T01:31:03.027437Z",
     "iopub.status.busy": "2025-05-18T01:31:03.027065Z",
     "iopub.status.idle": "2025-05-18T01:31:03.106578Z",
     "shell.execute_reply": "2025-05-18T01:31:03.105834Z"
    },
    "papermill": {
     "duration": 0.104007,
     "end_time": "2025-05-18T01:31:03.113789",
     "exception": false,
     "start_time": "2025-05-18T01:31:03.009782",
     "status": "completed"
    },
    "slideshow": {
     "slide_type": ""
    },
    "tags": [
     "hide_input"
    ]
   },
   "outputs": [
    {
     "data": {
      "application/vnd.jupyter.widget-view+json": {
       "model_id": "6f56015680bb4261aa8661b3049579f3",
       "version_major": 2,
       "version_minor": 0
      },
      "text/plain": [
       "Tab(children=(HTML(value='<h4>Closed PRs for repo: <a href=\"https://github.com/jupyter-server/fps\">jupyter-ser…"
      ]
     },
     "execution_count": 27,
     "metadata": {},
     "output_type": "execute_result"
    }
   ],
   "source": [
    "tabs = widgets.Tab(children=[])\n",
    "\n",
    "for ii, ((org, repo), imerged) in enumerate(merged.query(\"repo in @use_repos\").groupby(['org', 'repo'])):\n",
    "    merged_by = {}\n",
    "    pr_by = {}\n",
    "    issue_md = []\n",
    "    issue_md.append(f\"#### Closed PRs for repo: [{org}/{repo}](https://github.com/{github_org}/{repo})\")\n",
    "    issue_md.append(\"\")\n",
    "    issue_md.append(f\"##### \")\n",
    "\n",
    "    for _, ipr in imerged.iterrows():\n",
    "        user_name = ipr['login']\n",
    "        user_url = author_url(user_name)\n",
    "        pr_number = ipr['number']\n",
    "        pr_html = ipr['url']\n",
    "        pr_title = ipr['title']\n",
    "        pr_closedby = ipr['merged_by']\n",
    "        pr_closedby_url = f\"https://github.com/{pr_closedby}\"\n",
    "        if user_name not in pr_by:\n",
    "            pr_by[user_name] = 1\n",
    "        else:\n",
    "            pr_by[user_name] += 1\n",
    "\n",
    "        if pr_closedby not in merged_by:\n",
    "            merged_by[pr_closedby] = 1\n",
    "        else:\n",
    "            merged_by[pr_closedby] += 1\n",
    "        text = f\"* [(#{pr_number})]({pr_html}): _{pr_title}_ by **[@{user_name}]({user_url})** merged by **[@{pr_closedby}]({pr_closedby_url})**\"\n",
    "        issue_md.append(text)\n",
    "    \n",
    "    issue_md.append('')\n",
    "    markdown_html = markdown('\\n'.join(issue_md))\n",
    "\n",
    "    children = list(tabs.children)\n",
    "    children.append(HTML(markdown_html))\n",
    "    tabs.children = tuple(children)\n",
    "    tabs.set_title(ii, repo)\n",
    "tabs"
   ]
  },
  {
   "cell_type": "markdown",
   "id": "b220540e",
   "metadata": {
    "editable": true,
    "papermill": {
     "duration": 0.01684,
     "end_time": "2025-05-18T01:31:03.147582",
     "exception": false,
     "start_time": "2025-05-18T01:31:03.130742",
     "status": "completed"
    },
    "slideshow": {
     "slide_type": ""
    },
    "tags": []
   },
   "source": [
    "### A list of recent issues\n",
    "\n",
    "Below is a list of issues with recent activity in each repository. If they seem of interest\n",
    "to you, click on their links and jump in to participate!"
   ]
  },
  {
   "cell_type": "code",
   "execution_count": 28,
   "id": "1dcebeb7",
   "metadata": {
    "editable": true,
    "execution": {
     "iopub.execute_input": "2025-05-18T01:31:03.183821Z",
     "iopub.status.busy": "2025-05-18T01:31:03.183623Z",
     "iopub.status.idle": "2025-05-18T01:31:03.193854Z",
     "shell.execute_reply": "2025-05-18T01:31:03.193225Z"
    },
    "papermill": {
     "duration": 0.030278,
     "end_time": "2025-05-18T01:31:03.195060",
     "exception": false,
     "start_time": "2025-05-18T01:31:03.164782",
     "status": "completed"
    },
    "slideshow": {
     "slide_type": ""
    },
    "tags": [
     "remove_cell"
    ]
   },
   "outputs": [],
   "source": [
    "# Add comment count data to issues and PRs\n",
    "comment_counts = (\n",
    "    comments\n",
    "    .query(\"created_at > @start_date and created_at < @stop_date\")\n",
    "    .groupby(['org', 'repo', 'id_issue'])\n",
    "    .count().iloc[:, 0].to_frame()\n",
    ")\n",
    "comment_counts.columns = ['n_comments']\n",
    "comment_counts = comment_counts.reset_index()"
   ]
  },
  {
   "cell_type": "code",
   "execution_count": 29,
   "id": "fa11c472",
   "metadata": {
    "editable": true,
    "execution": {
     "iopub.execute_input": "2025-05-18T01:31:03.229435Z",
     "iopub.status.busy": "2025-05-18T01:31:03.228950Z",
     "iopub.status.idle": "2025-05-18T01:31:03.346867Z",
     "shell.execute_reply": "2025-05-18T01:31:03.346091Z"
    },
    "papermill": {
     "duration": 0.139602,
     "end_time": "2025-05-18T01:31:03.351310",
     "exception": false,
     "start_time": "2025-05-18T01:31:03.211708",
     "status": "completed"
    },
    "slideshow": {
     "slide_type": ""
    },
    "tags": [
     "hide_input"
    ],
    "toc-hr-collapsed": false
   },
   "outputs": [
    {
     "data": {
      "text/markdown": [
       "Here are the top 5 active issues in each repository in the last 90 days"
      ],
      "text/plain": [
       "<IPython.core.display.Markdown object>"
      ]
     },
     "metadata": {},
     "output_type": "display_data"
    },
    {
     "data": {
      "application/vnd.jupyter.widget-view+json": {
       "model_id": "2afbec3a3e80412e9785a7752d02be3f",
       "version_major": 2,
       "version_minor": 0
      },
      "text/plain": [
       "Tab(children=(HTML(value='<h5><a href=\"https://github.com/jupyter-server/enterprise_gateway\">jupyter-server/en…"
      ]
     },
     "metadata": {},
     "output_type": "display_data"
    }
   ],
   "source": [
    "n_plot = 5\n",
    "tabs = widgets.Tab(children=[])\n",
    "\n",
    "for ii, (repo, i_issues) in enumerate(comment_counts.query(\"repo in @use_repos\").groupby('repo')):\n",
    "    \n",
    "    issue_md = []\n",
    "    issue_md.append(\"\")\n",
    "    issue_md.append(f\"##### [{github_org}/{repo}](https://github.com/{github_org}/{repo})\")\n",
    "\n",
    "    top_issues = i_issues.sort_values('n_comments', ascending=False).head(n_plot)\n",
    "    top_issue_list = pd.merge(issues, top_issues, left_on=['org', 'repo', 'id_issue'], right_on=['org', 'repo', 'id_issue'])\n",
    "    for _, issue in top_issue_list.sort_values('n_comments', ascending=False).head(n_plot).iterrows():\n",
    "        user_name = issue['login']\n",
    "        user_url = author_url(user_name)\n",
    "        issue_number = issue['number']\n",
    "        issue_html = issue['url']\n",
    "        issue_title = issue['title']\n",
    "\n",
    "        text = f\"* [(#{issue_number})]({issue_html}): _{issue_title}_ by **[@{user_name}]({user_url})**\"\n",
    "        issue_md.append(text)\n",
    "\n",
    "    issue_md.append('')\n",
    "    md_html = HTML(markdown('\\n'.join(issue_md)))\n",
    "\n",
    "    children = list(tabs.children)\n",
    "    children.append(HTML(markdown('\\n'.join(issue_md))))\n",
    "    tabs.children = tuple(children)\n",
    "    tabs.set_title(ii, repo)\n",
    "    \n",
    "display(Markdown(f\"Here are the top {n_plot} active issues in each repository in the last {n_days} days\"))\n",
    "display(tabs)"
   ]
  }
 ],
 "metadata": {
  "kernelspec": {
   "display_name": "Python 3 (ipykernel)",
   "language": "python",
   "name": "python3"
  },
  "language_info": {
   "codemirror_mode": {
    "name": "ipython",
    "version": 3
   },
   "file_extension": ".py",
   "mimetype": "text/x-python",
   "name": "python",
   "nbconvert_exporter": "python",
   "pygments_lexer": "ipython3",
   "version": "3.9.22"
  },
  "papermill": {
   "default_parameters": {},
   "duration": 3.9873,
   "end_time": "2025-05-18T01:31:03.686433",
   "environment_variables": {},
   "exception": null,
   "input_path": "./templates/org_report.ipynb",
   "output_path": "generated/book/jupyter-server.ipynb",
   "parameters": {
    "github_org": "jupyter-server",
    "n_days": 90
   },
   "start_time": "2025-05-18T01:30:59.699133",
   "version": "2.6.0"
  },
  "widgets": {
   "application/vnd.jupyter.widget-state+json": {
    "state": {
     "0b25fda385b44e4ea265a090ce1221ff": {
      "model_module": "@jupyter-widgets/controls",
      "model_module_version": "2.0.0",
      "model_name": "HTMLStyleModel",
      "state": {
       "_model_module": "@jupyter-widgets/controls",
       "_model_module_version": "2.0.0",
       "_model_name": "HTMLStyleModel",
       "_view_count": null,
       "_view_module": "@jupyter-widgets/base",
       "_view_module_version": "2.0.0",
       "_view_name": "StyleView",
       "background": null,
       "description_width": "",
       "font_size": null,
       "text_color": null
      }
     },
     "127cd87162184bfd9a0d0505f3795f16": {
      "model_module": "@jupyter-widgets/controls",
      "model_module_version": "2.0.0",
      "model_name": "HTMLModel",
      "state": {
       "_dom_classes": [],
       "_model_module": "@jupyter-widgets/controls",
       "_model_module_version": "2.0.0",
       "_model_name": "HTMLModel",
       "_view_count": null,
       "_view_module": "@jupyter-widgets/controls",
       "_view_module_version": "2.0.0",
       "_view_name": "HTMLView",
       "description": "",
       "description_allow_html": false,
       "layout": "IPY_MODEL_53136880492d4463bd7ee3ffc09e2e7c",
       "placeholder": "​",
       "style": "IPY_MODEL_4d2bfea9bb2c4539901c91479ec5a42c",
       "tabbable": null,
       "tooltip": null,
       "value": "<h4>Closed PRs for repo: <a href=\"https://github.com/jupyter-server/jupyverse\">jupyter-server/jupyverse</a></h4>\n<h5></h5>\n<ul>\n<li><a href=\"https://github.com/jupyter-server/jupyverse/issues/450\">(#450)</a>: <em>[pre-commit.ci] pre-commit autoupdate</em> by <strong><a href=\"https://github.com/pre-commit-ci[bot]\">@pre-commit-ci[bot]</a></strong> merged by <strong><a href=\"https://github.com/davidbrochart\">@davidbrochart</a></strong></li>\n<li><a href=\"https://github.com/jupyter-server/jupyverse/issues/451\">(#451)</a>: <em>Fix multiple sessions in one kernel bug</em> by <strong><a href=\"https://github.com/rakhmaevao\">@rakhmaevao</a></strong> merged by <strong><a href=\"https://github.com/davidbrochart\">@davidbrochart</a></strong></li>\n<li><a href=\"https://github.com/jupyter-server/jupyverse/issues/459\">(#459)</a>: <em>Fix fps-auth-jupyterhub dependency</em> by <strong><a href=\"https://github.com/davidbrochart\">@davidbrochart</a></strong> merged by <strong><a href=\"https://github.com/davidbrochart\">@davidbrochart</a></strong></li>\n<li><a href=\"https://github.com/jupyter-server/jupyverse/issues/460\">(#460)</a>: <em>Fix fps-auth-jupyterhub</em> by <strong><a href=\"https://github.com/davidbrochart\">@davidbrochart</a></strong> merged by <strong><a href=\"https://github.com/davidbrochart\">@davidbrochart</a></strong></li>\n<li><a href=\"https://github.com/jupyter-server/jupyverse/issues/461\">(#461)</a>: <em>Use AnyIO's wait_readable for terminals</em> by <strong><a href=\"https://github.com/davidbrochart\">@davidbrochart</a></strong> merged by <strong><a href=\"https://github.com/davidbrochart\">@davidbrochart</a></strong></li>\n<li><a href=\"https://github.com/jupyter-server/jupyverse/issues/462\">(#462)</a>: <em>Bump FPS v0.1.3</em> by <strong><a href=\"https://github.com/davidbrochart\">@davidbrochart</a></strong> merged by <strong><a href=\"https://github.com/davidbrochart\">@davidbrochart</a></strong></li>\n<li><a href=\"https://github.com/jupyter-server/jupyverse/issues/463\">(#463)</a>: <em>Fix connection to existing kernel</em> by <strong><a href=\"https://github.com/davidbrochart\">@davidbrochart</a></strong> merged by <strong><a href=\"https://github.com/davidbrochart\">@davidbrochart</a></strong></li>\n<li><a href=\"https://github.com/jupyter-server/jupyverse/issues/465\">(#465)</a>: <em>[pre-commit.ci] pre-commit autoupdate</em> by <strong><a href=\"https://github.com/pre-commit-ci[bot]\">@pre-commit-ci[bot]</a></strong> merged by <strong><a href=\"https://github.com/davidbrochart\">@davidbrochart</a></strong></li>\n<li><a href=\"https://github.com/jupyter-server/jupyverse/issues/466\">(#466)</a>: <em>Use zmq-anyio</em> by <strong><a href=\"https://github.com/davidbrochart\">@davidbrochart</a></strong> merged by <strong><a href=\"https://github.com/davidbrochart\">@davidbrochart</a></strong></li>\n<li><a href=\"https://github.com/jupyter-server/jupyverse/issues/467\">(#467)</a>: <em>Bump FPS v0.1.5</em> by <strong><a href=\"https://github.com/davidbrochart\">@davidbrochart</a></strong> merged by <strong><a href=\"https://github.com/davidbrochart\">@davidbrochart</a></strong></li>\n<li><a href=\"https://github.com/jupyter-server/jupyverse/issues/468\">(#468)</a>: <em>Kernel Stop Fix</em> by <strong><a href=\"https://github.com/rakhmaevao\">@rakhmaevao</a></strong> merged by <strong><a href=\"https://github.com/rakhmaevao\">@rakhmaevao</a></strong></li>\n<li><a href=\"https://github.com/jupyter-server/jupyverse/issues/469\">(#469)</a>: <em>[pre-commit.ci] pre-commit autoupdate</em> by <strong><a href=\"https://github.com/pre-commit-ci[bot]\">@pre-commit-ci[bot]</a></strong> merged by <strong><a href=\"https://github.com/davidbrochart\">@davidbrochart</a></strong></li>\n<li><a href=\"https://github.com/jupyter-server/jupyverse/issues/470\">(#470)</a>: <em>[pre-commit.ci] pre-commit autoupdate</em> by <strong><a href=\"https://github.com/pre-commit-ci[bot]\">@pre-commit-ci[bot]</a></strong> merged by <strong><a href=\"https://github.com/davidbrochart\">@davidbrochart</a></strong></li>\n<li><a href=\"https://github.com/jupyter-server/jupyverse/issues/472\">(#472)</a>: <em>[pre-commit.ci] pre-commit autoupdate</em> by <strong><a href=\"https://github.com/pre-commit-ci[bot]\">@pre-commit-ci[bot]</a></strong> merged by <strong><a href=\"https://github.com/davidbrochart\">@davidbrochart</a></strong></li>\n<li><a href=\"https://github.com/jupyter-server/jupyverse/issues/473\">(#473)</a>: <em>Fix kernel shutdown</em> by <strong><a href=\"https://github.com/davidbrochart\">@davidbrochart</a></strong> merged by <strong><a href=\"https://github.com/davidbrochart\">@davidbrochart</a></strong></li>\n<li><a href=\"https://github.com/jupyter-server/jupyverse/issues/474\">(#474)</a>: <em>Convert repo to use releaser from repo</em> by <strong><a href=\"https://github.com/davidbrochart\">@davidbrochart</a></strong> merged by <strong><a href=\"https://github.com/davidbrochart\">@davidbrochart</a></strong></li>\n<li><a href=\"https://github.com/jupyter-server/jupyverse/issues/475\">(#475)</a>: <em>Update types</em> by <strong><a href=\"https://github.com/davidbrochart\">@davidbrochart</a></strong> merged by <strong><a href=\"https://github.com/davidbrochart\">@davidbrochart</a></strong></li>\n<li><a href=\"https://github.com/jupyter-server/jupyverse/issues/476\">(#476)</a>: <em>Bump fps &gt;=0.2.1</em> by <strong><a href=\"https://github.com/davidbrochart\">@davidbrochart</a></strong> merged by <strong><a href=\"https://github.com/davidbrochart\">@davidbrochart</a></strong></li>\n<li><a href=\"https://github.com/jupyter-server/jupyverse/issues/478\">(#478)</a>: <em>Check if file exists before inserting it in fileids</em> by <strong><a href=\"https://github.com/davidbrochart\">@davidbrochart</a></strong> merged by <strong><a href=\"https://github.com/davidbrochart\">@davidbrochart</a></strong></li>\n<li><a href=\"https://github.com/jupyter-server/jupyverse/issues/479\">(#479)</a>: <em>[pre-commit.ci] pre-commit autoupdate</em> by <strong><a href=\"https://github.com/pre-commit-ci[bot]\">@pre-commit-ci[bot]</a></strong> merged by <strong><a href=\"https://github.com/davidbrochart\">@davidbrochart</a></strong></li>\n<li><a href=\"https://github.com/jupyter-server/jupyverse/issues/480\">(#480)</a>: <em>Fix stream outputs</em> by <strong><a href=\"https://github.com/davidbrochart\">@davidbrochart</a></strong> merged by <strong><a href=\"https://github.com/davidbrochart\">@davidbrochart</a></strong></li>\n<li><a href=\"https://github.com/jupyter-server/jupyverse/issues/481\">(#481)</a>: <em>[pre-commit.ci] pre-commit autoupdate</em> by <strong><a href=\"https://github.com/pre-commit-ci[bot]\">@pre-commit-ci[bot]</a></strong> merged by <strong><a href=\"https://github.com/davidbrochart\">@davidbrochart</a></strong></li>\n<li><a href=\"https://github.com/jupyter-server/jupyverse/issues/482\">(#482)</a>: <em>Upgrade FPS to v0.3.0</em> by <strong><a href=\"https://github.com/davidbrochart\">@davidbrochart</a></strong> merged by <strong><a href=\"https://github.com/davidbrochart\">@davidbrochart</a></strong></li>\n<li><a href=\"https://github.com/jupyter-server/jupyverse/issues/483\">(#483)</a>: <em>[pre-commit.ci] pre-commit autoupdate</em> by <strong><a href=\"https://github.com/pre-commit-ci[bot]\">@pre-commit-ci[bot]</a></strong> merged by <strong><a href=\"https://github.com/davidbrochart\">@davidbrochart</a></strong></li>\n<li><a href=\"https://github.com/jupyter-server/jupyverse/issues/484\">(#484)</a>: <em>Use jupyter-ydoc instead of vendored version</em> by <strong><a href=\"https://github.com/davidbrochart\">@davidbrochart</a></strong> merged by <strong><a href=\"https://github.com/davidbrochart\">@davidbrochart</a></strong></li>\n<li><a href=\"https://github.com/jupyter-server/jupyverse/issues/485\">(#485)</a>: <em>[pre-commit.ci] pre-commit autoupdate</em> by <strong><a href=\"https://github.com/pre-commit-ci[bot]\">@pre-commit-ci[bot]</a></strong> merged by <strong><a href=\"https://github.com/davidbrochart\">@davidbrochart</a></strong></li>\n<li><a href=\"https://github.com/jupyter-server/jupyverse/issues/486\">(#486)</a>: <em>[pre-commit.ci] pre-commit autoupdate</em> by <strong><a href=\"https://github.com/pre-commit-ci[bot]\">@pre-commit-ci[bot]</a></strong> merged by <strong><a href=\"https://github.com/davidbrochart\">@davidbrochart</a></strong></li>\n<li><a href=\"https://github.com/jupyter-server/jupyverse/issues/487\">(#487)</a>: <em>[pre-commit.ci] pre-commit autoupdate</em> by <strong><a href=\"https://github.com/pre-commit-ci[bot]\">@pre-commit-ci[bot]</a></strong> merged by <strong><a href=\"https://github.com/davidbrochart\">@davidbrochart</a></strong></li>\n</ul>"
      }
     },
     "14855bb6100f4d038095f6d41f19ee5f": {
      "model_module": "@jupyter-widgets/controls",
      "model_module_version": "2.0.0",
      "model_name": "HTMLStyleModel",
      "state": {
       "_model_module": "@jupyter-widgets/controls",
       "_model_module_version": "2.0.0",
       "_model_name": "HTMLStyleModel",
       "_view_count": null,
       "_view_module": "@jupyter-widgets/base",
       "_view_module_version": "2.0.0",
       "_view_name": "StyleView",
       "background": null,
       "description_width": "",
       "font_size": null,
       "text_color": null
      }
     },
     "14f3114e691a463db7f0dd1201725a22": {
      "model_module": "@jupyter-widgets/base",
      "model_module_version": "2.0.0",
      "model_name": "LayoutModel",
      "state": {
       "_model_module": "@jupyter-widgets/base",
       "_model_module_version": "2.0.0",
       "_model_name": "LayoutModel",
       "_view_count": null,
       "_view_module": "@jupyter-widgets/base",
       "_view_module_version": "2.0.0",
       "_view_name": "LayoutView",
       "align_content": null,
       "align_items": null,
       "align_self": null,
       "border_bottom": null,
       "border_left": null,
       "border_right": null,
       "border_top": null,
       "bottom": null,
       "display": null,
       "flex": null,
       "flex_flow": null,
       "grid_area": null,
       "grid_auto_columns": null,
       "grid_auto_flow": null,
       "grid_auto_rows": null,
       "grid_column": null,
       "grid_gap": null,
       "grid_row": null,
       "grid_template_areas": null,
       "grid_template_columns": null,
       "grid_template_rows": null,
       "height": null,
       "justify_content": null,
       "justify_items": null,
       "left": null,
       "margin": null,
       "max_height": null,
       "max_width": null,
       "min_height": null,
       "min_width": null,
       "object_fit": null,
       "object_position": null,
       "order": null,
       "overflow": null,
       "padding": null,
       "right": null,
       "top": null,
       "visibility": null,
       "width": null
      }
     },
     "163f89326f284311a45dce54d3d678f1": {
      "model_module": "@jupyter-widgets/base",
      "model_module_version": "2.0.0",
      "model_name": "LayoutModel",
      "state": {
       "_model_module": "@jupyter-widgets/base",
       "_model_module_version": "2.0.0",
       "_model_name": "LayoutModel",
       "_view_count": null,
       "_view_module": "@jupyter-widgets/base",
       "_view_module_version": "2.0.0",
       "_view_name": "LayoutView",
       "align_content": null,
       "align_items": null,
       "align_self": null,
       "border_bottom": null,
       "border_left": null,
       "border_right": null,
       "border_top": null,
       "bottom": null,
       "display": null,
       "flex": null,
       "flex_flow": null,
       "grid_area": null,
       "grid_auto_columns": null,
       "grid_auto_flow": null,
       "grid_auto_rows": null,
       "grid_column": null,
       "grid_gap": null,
       "grid_row": null,
       "grid_template_areas": null,
       "grid_template_columns": null,
       "grid_template_rows": null,
       "height": null,
       "justify_content": null,
       "justify_items": null,
       "left": null,
       "margin": null,
       "max_height": null,
       "max_width": null,
       "min_height": null,
       "min_width": null,
       "object_fit": null,
       "object_position": null,
       "order": null,
       "overflow": null,
       "padding": null,
       "right": null,
       "top": null,
       "visibility": null,
       "width": null
      }
     },
     "1a57542ceca6410ba13f2c307eb051f4": {
      "model_module": "@jupyter-widgets/controls",
      "model_module_version": "2.0.0",
      "model_name": "HTMLModel",
      "state": {
       "_dom_classes": [],
       "_model_module": "@jupyter-widgets/controls",
       "_model_module_version": "2.0.0",
       "_model_name": "HTMLModel",
       "_view_count": null,
       "_view_module": "@jupyter-widgets/controls",
       "_view_module_version": "2.0.0",
       "_view_name": "HTMLView",
       "description": "",
       "description_allow_html": false,
       "layout": "IPY_MODEL_3765a6e3b5944cf39744b86181c0e5ab",
       "placeholder": "​",
       "style": "IPY_MODEL_a860bd8bfeae4a20a495e0fb039187c1",
       "tabbable": null,
       "tooltip": null,
       "value": "<h5><a href=\"https://github.com/jupyter-server/jupyter_server\">jupyter-server/jupyter_server</a></h5>\n<ul>\n<li><a href=\"https://github.com/jupyter-server/jupyter_server/issues/1519\">(#1519)</a>: <em>Time for a new release?</em> by <strong><a href=\"https://github.com/krassowski\">@krassowski</a></strong></li>\n<li><a href=\"https://github.com/jupyter-server/jupyter_server/issues/1428\">(#1428)</a>: <em>Fix outdated security documentation</em> by <strong><a href=\"https://github.com/colinpalmer\">@colinpalmer</a></strong></li>\n<li><a href=\"https://github.com/jupyter-server/jupyter_server/issues/1497\">(#1497)</a>: <em>AttributeError seen while running xeus-cpp</em> by <strong><a href=\"https://github.com/anutosh491\">@anutosh491</a></strong></li>\n<li><a href=\"https://github.com/jupyter-server/jupyter_server/issues/1524\">(#1524)</a>: <em>Crash when renaming large files</em> by <strong><a href=\"https://github.com/danyeaw\">@danyeaw</a></strong></li>\n<li><a href=\"https://github.com/jupyter-server/jupyter_server/issues/1476\">(#1476)</a>: <em>boostrap v3 is EOL upstream; migrate to bootstrap v5</em> by <strong><a href=\"https://github.com/juliangilbey\">@juliangilbey</a></strong></li>\n</ul>"
      }
     },
     "1e478189e84c44dca4442d72d537913b": {
      "model_module": "@jupyter-widgets/controls",
      "model_module_version": "2.0.0",
      "model_name": "HTMLStyleModel",
      "state": {
       "_model_module": "@jupyter-widgets/controls",
       "_model_module_version": "2.0.0",
       "_model_name": "HTMLStyleModel",
       "_view_count": null,
       "_view_module": "@jupyter-widgets/base",
       "_view_module_version": "2.0.0",
       "_view_name": "StyleView",
       "background": null,
       "description_width": "",
       "font_size": null,
       "text_color": null
      }
     },
     "27db93fce48e4ac2b011669d71956772": {
      "model_module": "@jupyter-widgets/controls",
      "model_module_version": "2.0.0",
      "model_name": "HTMLModel",
      "state": {
       "_dom_classes": [],
       "_model_module": "@jupyter-widgets/controls",
       "_model_module_version": "2.0.0",
       "_model_name": "HTMLModel",
       "_view_count": null,
       "_view_module": "@jupyter-widgets/controls",
       "_view_module_version": "2.0.0",
       "_view_name": "HTMLView",
       "description": "",
       "description_allow_html": false,
       "layout": "IPY_MODEL_35888df978094728a5ecf28865410ad5",
       "placeholder": "​",
       "style": "IPY_MODEL_9f4510a67437441b8060ccb257e2d98b",
       "tabbable": null,
       "tooltip": null,
       "value": "<h5><a href=\"https://github.com/jupyter-server/jupyter_server\">jupyter-server/jupyter_server</a></h5>\n<ul>\n<li><a href=\"https://github.com/jupyter-server/jupyter_server/issues/1519\">(#1519)</a>: <em>Time for a new release?</em> by <strong><a href=\"https://github.com/krassowski\">@krassowski</a></strong></li>\n<li><a href=\"https://github.com/jupyter-server/jupyter_server/issues/1428\">(#1428)</a>: <em>Fix outdated security documentation</em> by <strong><a href=\"https://github.com/colinpalmer\">@colinpalmer</a></strong></li>\n<li><a href=\"https://github.com/jupyter-server/jupyter_server/issues/1497\">(#1497)</a>: <em>AttributeError seen while running xeus-cpp</em> by <strong><a href=\"https://github.com/anutosh491\">@anutosh491</a></strong></li>\n<li><a href=\"https://github.com/jupyter-server/jupyter_server/issues/1524\">(#1524)</a>: <em>Crash when renaming large files</em> by <strong><a href=\"https://github.com/danyeaw\">@danyeaw</a></strong></li>\n<li><a href=\"https://github.com/jupyter-server/jupyter_server/issues/1476\">(#1476)</a>: <em>boostrap v3 is EOL upstream; migrate to bootstrap v5</em> by <strong><a href=\"https://github.com/juliangilbey\">@juliangilbey</a></strong></li>\n</ul>"
      }
     },
     "2afbec3a3e80412e9785a7752d02be3f": {
      "model_module": "@jupyter-widgets/controls",
      "model_module_version": "2.0.0",
      "model_name": "TabModel",
      "state": {
       "_dom_classes": [],
       "_model_module": "@jupyter-widgets/controls",
       "_model_module_version": "2.0.0",
       "_model_name": "TabModel",
       "_view_count": null,
       "_view_module": "@jupyter-widgets/controls",
       "_view_module_version": "2.0.0",
       "_view_name": "TabView",
       "box_style": "",
       "children": [
        "IPY_MODEL_697f757b311c43d598e65261e7b838c2",
        "IPY_MODEL_b21de899d9c24f828783bbed8c0b2c4e",
        "IPY_MODEL_3c40e6dfc3c9435e933e082bb1dbbc0b",
        "IPY_MODEL_7ecbe71a9de3403698855cce0915e92b",
        "IPY_MODEL_525cd30b8150469caa92182dc54a4f53",
        "IPY_MODEL_e88b65932d904e5aba7a10d834f5fd26",
        "IPY_MODEL_1a57542ceca6410ba13f2c307eb051f4",
        "IPY_MODEL_edf1475b5ff64018bbc270e9bcbb4939",
        "IPY_MODEL_ffdb1d69f73440439c01f348d3ac939f",
        "IPY_MODEL_76db9448d1d548dbb3e61977fe1f80b7"
       ],
       "layout": "IPY_MODEL_163f89326f284311a45dce54d3d678f1",
       "selected_index": 0,
       "tabbable": null,
       "titles": [
        "enterprise_gateway",
        "fps",
        "gateway_provisioners",
        "jupyter-resource-usage",
        "jupyter-scheduler",
        "jupyter_releaser",
        "jupyter_server",
        "jupyverse",
        "kernel_gateway",
        "team-compass"
       ],
       "tooltip": null
      }
     },
     "2d9f2672a4b146bbb4758792d0766a7f": {
      "model_module": "@jupyter-widgets/base",
      "model_module_version": "2.0.0",
      "model_name": "LayoutModel",
      "state": {
       "_model_module": "@jupyter-widgets/base",
       "_model_module_version": "2.0.0",
       "_model_name": "LayoutModel",
       "_view_count": null,
       "_view_module": "@jupyter-widgets/base",
       "_view_module_version": "2.0.0",
       "_view_name": "LayoutView",
       "align_content": null,
       "align_items": null,
       "align_self": null,
       "border_bottom": null,
       "border_left": null,
       "border_right": null,
       "border_top": null,
       "bottom": null,
       "display": null,
       "flex": null,
       "flex_flow": null,
       "grid_area": null,
       "grid_auto_columns": null,
       "grid_auto_flow": null,
       "grid_auto_rows": null,
       "grid_column": null,
       "grid_gap": null,
       "grid_row": null,
       "grid_template_areas": null,
       "grid_template_columns": null,
       "grid_template_rows": null,
       "height": null,
       "justify_content": null,
       "justify_items": null,
       "left": null,
       "margin": null,
       "max_height": null,
       "max_width": null,
       "min_height": null,
       "min_width": null,
       "object_fit": null,
       "object_position": null,
       "order": null,
       "overflow": null,
       "padding": null,
       "right": null,
       "top": null,
       "visibility": null,
       "width": null
      }
     },
     "2e243ed73255483a8040389c1ed4c046": {
      "model_module": "@jupyter-widgets/base",
      "model_module_version": "2.0.0",
      "model_name": "LayoutModel",
      "state": {
       "_model_module": "@jupyter-widgets/base",
       "_model_module_version": "2.0.0",
       "_model_name": "LayoutModel",
       "_view_count": null,
       "_view_module": "@jupyter-widgets/base",
       "_view_module_version": "2.0.0",
       "_view_name": "LayoutView",
       "align_content": null,
       "align_items": null,
       "align_self": null,
       "border_bottom": null,
       "border_left": null,
       "border_right": null,
       "border_top": null,
       "bottom": null,
       "display": null,
       "flex": null,
       "flex_flow": null,
       "grid_area": null,
       "grid_auto_columns": null,
       "grid_auto_flow": null,
       "grid_auto_rows": null,
       "grid_column": null,
       "grid_gap": null,
       "grid_row": null,
       "grid_template_areas": null,
       "grid_template_columns": null,
       "grid_template_rows": null,
       "height": null,
       "justify_content": null,
       "justify_items": null,
       "left": null,
       "margin": null,
       "max_height": null,
       "max_width": null,
       "min_height": null,
       "min_width": null,
       "object_fit": null,
       "object_position": null,
       "order": null,
       "overflow": null,
       "padding": null,
       "right": null,
       "top": null,
       "visibility": null,
       "width": null
      }
     },
     "2fd7d1be798b40e788c986831b3ecb06": {
      "model_module": "@jupyter-widgets/controls",
      "model_module_version": "2.0.0",
      "model_name": "HTMLModel",
      "state": {
       "_dom_classes": [],
       "_model_module": "@jupyter-widgets/controls",
       "_model_module_version": "2.0.0",
       "_model_name": "HTMLModel",
       "_view_count": null,
       "_view_module": "@jupyter-widgets/controls",
       "_view_module_version": "2.0.0",
       "_view_name": "HTMLView",
       "description": "",
       "description_allow_html": false,
       "layout": "IPY_MODEL_97ee953c934a4572b60c32109883674a",
       "placeholder": "​",
       "style": "IPY_MODEL_d4f1d748b335467cb0002dbf45af44ad",
       "tabbable": null,
       "tooltip": null,
       "value": "<h5><a href=\"https://github.com/jupyter-server/enterprise_gateway\">jupyter-server/enterprise_gateway</a></h5>\n<ul>\n<li><a href=\"https://github.com/jupyter-server/enterprise_gateway/issues/1392\">(#1392)</a>: _Custom Spark 3.5.3 Kernel _ by <strong><a href=\"https://github.com/fatihmete\">@fatihmete</a></strong></li>\n<li><a href=\"https://github.com/jupyter-server/enterprise_gateway/issues/1404\">(#1404)</a>: <em>Setting up Jupyterhub to work with Enterprise Gateway</em> by <strong><a href=\"https://github.com/demardefrozen10\">@demardefrozen10</a></strong></li>\n<li><a href=\"https://github.com/jupyter-server/enterprise_gateway/issues/1359\">(#1359)</a>: <em>KIP cannot use ImagePullSecret when using containerd</em> by <strong><a href=\"https://github.com/Buchhold\">@Buchhold</a></strong></li>\n<li><a href=\"https://github.com/jupyter-server/enterprise_gateway/issues/1382\">(#1382)</a>: <em>Error: module 'kubernetes.client' has no attribute 'V1Subject'</em> by <strong><a href=\"https://github.com/fm2022aa\">@fm2022aa</a></strong></li>\n<li><a href=\"https://github.com/jupyter-server/enterprise_gateway/issues/1402\">(#1402)</a>: <em>Fix Infinite Loop in WebSocket Connection Message Handling</em> by <strong><a href=\"https://github.com/zdhdsx\">@zdhdsx</a></strong></li>\n</ul>"
      }
     },
     "331f3b4e9ee34228ba0dcedde487e688": {
      "model_module": "@jupyter-widgets/controls",
      "model_module_version": "2.0.0",
      "model_name": "HTMLModel",
      "state": {
       "_dom_classes": [],
       "_model_module": "@jupyter-widgets/controls",
       "_model_module_version": "2.0.0",
       "_model_name": "HTMLModel",
       "_view_count": null,
       "_view_module": "@jupyter-widgets/controls",
       "_view_module_version": "2.0.0",
       "_view_name": "HTMLView",
       "description": "",
       "description_allow_html": false,
       "layout": "IPY_MODEL_f19412a2c5194bde8166d16494737f93",
       "placeholder": "​",
       "style": "IPY_MODEL_b14a2f1a4fca4663b93a6029c4a5c855",
       "tabbable": null,
       "tooltip": null,
       "value": "<h5><a href=\"https://github.com/jupyter-server/jupyter-scheduler\">jupyter-server/jupyter-scheduler</a></h5>\n<ul>\n<li><a href=\"https://github.com/jupyter-server/jupyter-scheduler/issues/328\">(#328)</a>: <em>Automatically delete all old Notebook jobs</em> by <strong><a href=\"https://github.com/nakvic\">@nakvic</a></strong></li>\n<li><a href=\"https://github.com/jupyter-server/jupyter-scheduler/issues/497\">(#497)</a>: <em>Empty \"Section Navigation\" in user docs</em> by <strong><a href=\"https://github.com/andrii-i\">@andrii-i</a></strong></li>\n<li><a href=\"https://github.com/jupyter-server/jupyter-scheduler/issues/563\">(#563)</a>: <em>Manage the culling of Jupyter Server with scheduled jobs to support JupyterHub</em> by <strong><a href=\"https://github.com/thomasLeclaire\">@thomasLeclaire</a></strong></li>\n<li><a href=\"https://github.com/jupyter-server/jupyter-scheduler/issues/560\">(#560)</a>: <em>JupyterLab 4 classifier is missing</em> by <strong><a href=\"https://github.com/krassowski\">@krassowski</a></strong></li>\n<li><a href=\"https://github.com/jupyter-server/jupyter-scheduler/issues/414\">(#414)</a>: <em>UI for event driven notebook execution</em> by <strong><a href=\"https://github.com/andrii-i\">@andrii-i</a></strong></li>\n</ul>"
      }
     },
     "35888df978094728a5ecf28865410ad5": {
      "model_module": "@jupyter-widgets/base",
      "model_module_version": "2.0.0",
      "model_name": "LayoutModel",
      "state": {
       "_model_module": "@jupyter-widgets/base",
       "_model_module_version": "2.0.0",
       "_model_name": "LayoutModel",
       "_view_count": null,
       "_view_module": "@jupyter-widgets/base",
       "_view_module_version": "2.0.0",
       "_view_name": "LayoutView",
       "align_content": null,
       "align_items": null,
       "align_self": null,
       "border_bottom": null,
       "border_left": null,
       "border_right": null,
       "border_top": null,
       "bottom": null,
       "display": null,
       "flex": null,
       "flex_flow": null,
       "grid_area": null,
       "grid_auto_columns": null,
       "grid_auto_flow": null,
       "grid_auto_rows": null,
       "grid_column": null,
       "grid_gap": null,
       "grid_row": null,
       "grid_template_areas": null,
       "grid_template_columns": null,
       "grid_template_rows": null,
       "height": null,
       "justify_content": null,
       "justify_items": null,
       "left": null,
       "margin": null,
       "max_height": null,
       "max_width": null,
       "min_height": null,
       "min_width": null,
       "object_fit": null,
       "object_position": null,
       "order": null,
       "overflow": null,
       "padding": null,
       "right": null,
       "top": null,
       "visibility": null,
       "width": null
      }
     },
     "3765a6e3b5944cf39744b86181c0e5ab": {
      "model_module": "@jupyter-widgets/base",
      "model_module_version": "2.0.0",
      "model_name": "LayoutModel",
      "state": {
       "_model_module": "@jupyter-widgets/base",
       "_model_module_version": "2.0.0",
       "_model_name": "LayoutModel",
       "_view_count": null,
       "_view_module": "@jupyter-widgets/base",
       "_view_module_version": "2.0.0",
       "_view_name": "LayoutView",
       "align_content": null,
       "align_items": null,
       "align_self": null,
       "border_bottom": null,
       "border_left": null,
       "border_right": null,
       "border_top": null,
       "bottom": null,
       "display": null,
       "flex": null,
       "flex_flow": null,
       "grid_area": null,
       "grid_auto_columns": null,
       "grid_auto_flow": null,
       "grid_auto_rows": null,
       "grid_column": null,
       "grid_gap": null,
       "grid_row": null,
       "grid_template_areas": null,
       "grid_template_columns": null,
       "grid_template_rows": null,
       "height": null,
       "justify_content": null,
       "justify_items": null,
       "left": null,
       "margin": null,
       "max_height": null,
       "max_width": null,
       "min_height": null,
       "min_width": null,
       "object_fit": null,
       "object_position": null,
       "order": null,
       "overflow": null,
       "padding": null,
       "right": null,
       "top": null,
       "visibility": null,
       "width": null
      }
     },
     "3845630c27ce4524ab4b41ecf1c257d8": {
      "model_module": "@jupyter-widgets/controls",
      "model_module_version": "2.0.0",
      "model_name": "HTMLStyleModel",
      "state": {
       "_model_module": "@jupyter-widgets/controls",
       "_model_module_version": "2.0.0",
       "_model_name": "HTMLStyleModel",
       "_view_count": null,
       "_view_module": "@jupyter-widgets/base",
       "_view_module_version": "2.0.0",
       "_view_name": "StyleView",
       "background": null,
       "description_width": "",
       "font_size": null,
       "text_color": null
      }
     },
     "3904812206184675886a1440257f260a": {
      "model_module": "@jupyter-widgets/base",
      "model_module_version": "2.0.0",
      "model_name": "LayoutModel",
      "state": {
       "_model_module": "@jupyter-widgets/base",
       "_model_module_version": "2.0.0",
       "_model_name": "LayoutModel",
       "_view_count": null,
       "_view_module": "@jupyter-widgets/base",
       "_view_module_version": "2.0.0",
       "_view_name": "LayoutView",
       "align_content": null,
       "align_items": null,
       "align_self": null,
       "border_bottom": null,
       "border_left": null,
       "border_right": null,
       "border_top": null,
       "bottom": null,
       "display": null,
       "flex": null,
       "flex_flow": null,
       "grid_area": null,
       "grid_auto_columns": null,
       "grid_auto_flow": null,
       "grid_auto_rows": null,
       "grid_column": null,
       "grid_gap": null,
       "grid_row": null,
       "grid_template_areas": null,
       "grid_template_columns": null,
       "grid_template_rows": null,
       "height": null,
       "justify_content": null,
       "justify_items": null,
       "left": null,
       "margin": null,
       "max_height": null,
       "max_width": null,
       "min_height": null,
       "min_width": null,
       "object_fit": null,
       "object_position": null,
       "order": null,
       "overflow": null,
       "padding": null,
       "right": null,
       "top": null,
       "visibility": null,
       "width": null
      }
     },
     "39ec8fb237304dd094c7553e18d3f917": {
      "model_module": "@jupyter-widgets/controls",
      "model_module_version": "2.0.0",
      "model_name": "HTMLStyleModel",
      "state": {
       "_model_module": "@jupyter-widgets/controls",
       "_model_module_version": "2.0.0",
       "_model_name": "HTMLStyleModel",
       "_view_count": null,
       "_view_module": "@jupyter-widgets/base",
       "_view_module_version": "2.0.0",
       "_view_name": "StyleView",
       "background": null,
       "description_width": "",
       "font_size": null,
       "text_color": null
      }
     },
     "3ab0b2bed994411badadf93b2d34c174": {
      "model_module": "@jupyter-widgets/base",
      "model_module_version": "2.0.0",
      "model_name": "LayoutModel",
      "state": {
       "_model_module": "@jupyter-widgets/base",
       "_model_module_version": "2.0.0",
       "_model_name": "LayoutModel",
       "_view_count": null,
       "_view_module": "@jupyter-widgets/base",
       "_view_module_version": "2.0.0",
       "_view_name": "LayoutView",
       "align_content": null,
       "align_items": null,
       "align_self": null,
       "border_bottom": null,
       "border_left": null,
       "border_right": null,
       "border_top": null,
       "bottom": null,
       "display": null,
       "flex": null,
       "flex_flow": null,
       "grid_area": null,
       "grid_auto_columns": null,
       "grid_auto_flow": null,
       "grid_auto_rows": null,
       "grid_column": null,
       "grid_gap": null,
       "grid_row": null,
       "grid_template_areas": null,
       "grid_template_columns": null,
       "grid_template_rows": null,
       "height": null,
       "justify_content": null,
       "justify_items": null,
       "left": null,
       "margin": null,
       "max_height": null,
       "max_width": null,
       "min_height": null,
       "min_width": null,
       "object_fit": null,
       "object_position": null,
       "order": null,
       "overflow": null,
       "padding": null,
       "right": null,
       "top": null,
       "visibility": null,
       "width": null
      }
     },
     "3c40e6dfc3c9435e933e082bb1dbbc0b": {
      "model_module": "@jupyter-widgets/controls",
      "model_module_version": "2.0.0",
      "model_name": "HTMLModel",
      "state": {
       "_dom_classes": [],
       "_model_module": "@jupyter-widgets/controls",
       "_model_module_version": "2.0.0",
       "_model_name": "HTMLModel",
       "_view_count": null,
       "_view_module": "@jupyter-widgets/controls",
       "_view_module_version": "2.0.0",
       "_view_name": "HTMLView",
       "description": "",
       "description_allow_html": false,
       "layout": "IPY_MODEL_2d9f2672a4b146bbb4758792d0766a7f",
       "placeholder": "​",
       "style": "IPY_MODEL_44708959d4d74ecaac1daae817d37531",
       "tabbable": null,
       "tooltip": null,
       "value": "<h5><a href=\"https://github.com/jupyter-server/gateway_provisioners\">jupyter-server/gateway_provisioners</a></h5>\n<ul>\n<li><a href=\"https://github.com/jupyter-server/gateway_provisioners/issues/139\">(#139)</a>: <em>Bug in the YarnProvisioner _query_app_by_name</em> by <strong><a href=\"https://github.com/abppriya\">@abppriya</a></strong></li>\n</ul>"
      }
     },
     "424f3da87afd4082b0de3eb14d50e726": {
      "model_module": "@jupyter-widgets/controls",
      "model_module_version": "2.0.0",
      "model_name": "HTMLModel",
      "state": {
       "_dom_classes": [],
       "_model_module": "@jupyter-widgets/controls",
       "_model_module_version": "2.0.0",
       "_model_name": "HTMLModel",
       "_view_count": null,
       "_view_module": "@jupyter-widgets/controls",
       "_view_module_version": "2.0.0",
       "_view_name": "HTMLView",
       "description": "",
       "description_allow_html": false,
       "layout": "IPY_MODEL_da0cdb69644d4262b9701b931910aa49",
       "placeholder": "​",
       "style": "IPY_MODEL_80a94c4a50ab4d17bf9537f5acf1dcb7",
       "tabbable": null,
       "tooltip": null,
       "value": "<h5><a href=\"https://github.com/jupyter-server/jupyter-resource-usage\">jupyter-server/jupyter-resource-usage</a></h5>\n<ul>\n<li><a href=\"https://github.com/jupyter-server/jupyter-resource-usage/issues/237\">(#237)</a>: <em>update yarn.lock required: jupyterlab/coreutils =&gt; no exported member 'ResolvedRelativeTimeFormatOptions'</em> by <strong><a href=\"https://github.com/jhgoebbert\">@jhgoebbert</a></strong></li>\n<li><a href=\"https://github.com/jupyter-server/jupyter-resource-usage/issues/245\">(#245)</a>: <em>Enabling track_cpu_percent causes unacceptable input delay in terminal</em> by <strong><a href=\"https://github.com/ctcjab\">@ctcjab</a></strong></li>\n<li><a href=\"https://github.com/jupyter-server/jupyter-resource-usage/issues/242\">(#242)</a>: <em>Better <code>opt-in</code> than <code>opt-out</code> for <code>enable_prometheus_metrics</code></em> by <strong><a href=\"https://github.com/jhgoebbert\">@jhgoebbert</a></strong></li>\n<li><a href=\"https://github.com/jupyter-server/jupyter-resource-usage/issues/123\">(#123)</a>: <em>Prometheus metrics blocks tornado main thread</em> by <strong><a href=\"https://github.com/dleen\">@dleen</a></strong></li>\n<li><a href=\"https://github.com/jupyter-server/jupyter-resource-usage/issues/244\">(#244)</a>: <em>How to configure \"Enable resource usage indicators\" to true from <code>c = get_config()</code></em> by <strong><a href=\"https://github.com/sgrenf95\">@sgrenf95</a></strong></li>\n</ul>"
      }
     },
     "44708959d4d74ecaac1daae817d37531": {
      "model_module": "@jupyter-widgets/controls",
      "model_module_version": "2.0.0",
      "model_name": "HTMLStyleModel",
      "state": {
       "_model_module": "@jupyter-widgets/controls",
       "_model_module_version": "2.0.0",
       "_model_name": "HTMLStyleModel",
       "_view_count": null,
       "_view_module": "@jupyter-widgets/base",
       "_view_module_version": "2.0.0",
       "_view_name": "StyleView",
       "background": null,
       "description_width": "",
       "font_size": null,
       "text_color": null
      }
     },
     "484c9fcff19b43089dae8aff8d5a8f2b": {
      "model_module": "@jupyter-widgets/base",
      "model_module_version": "2.0.0",
      "model_name": "LayoutModel",
      "state": {
       "_model_module": "@jupyter-widgets/base",
       "_model_module_version": "2.0.0",
       "_model_name": "LayoutModel",
       "_view_count": null,
       "_view_module": "@jupyter-widgets/base",
       "_view_module_version": "2.0.0",
       "_view_name": "LayoutView",
       "align_content": null,
       "align_items": null,
       "align_self": null,
       "border_bottom": null,
       "border_left": null,
       "border_right": null,
       "border_top": null,
       "bottom": null,
       "display": null,
       "flex": null,
       "flex_flow": null,
       "grid_area": null,
       "grid_auto_columns": null,
       "grid_auto_flow": null,
       "grid_auto_rows": null,
       "grid_column": null,
       "grid_gap": null,
       "grid_row": null,
       "grid_template_areas": null,
       "grid_template_columns": null,
       "grid_template_rows": null,
       "height": null,
       "justify_content": null,
       "justify_items": null,
       "left": null,
       "margin": null,
       "max_height": null,
       "max_width": null,
       "min_height": null,
       "min_width": null,
       "object_fit": null,
       "object_position": null,
       "order": null,
       "overflow": null,
       "padding": null,
       "right": null,
       "top": null,
       "visibility": null,
       "width": null
      }
     },
     "4b759761086d4f6bbd99b4980b322ccd": {
      "model_module": "@jupyter-widgets/base",
      "model_module_version": "2.0.0",
      "model_name": "LayoutModel",
      "state": {
       "_model_module": "@jupyter-widgets/base",
       "_model_module_version": "2.0.0",
       "_model_name": "LayoutModel",
       "_view_count": null,
       "_view_module": "@jupyter-widgets/base",
       "_view_module_version": "2.0.0",
       "_view_name": "LayoutView",
       "align_content": null,
       "align_items": null,
       "align_self": null,
       "border_bottom": null,
       "border_left": null,
       "border_right": null,
       "border_top": null,
       "bottom": null,
       "display": null,
       "flex": null,
       "flex_flow": null,
       "grid_area": null,
       "grid_auto_columns": null,
       "grid_auto_flow": null,
       "grid_auto_rows": null,
       "grid_column": null,
       "grid_gap": null,
       "grid_row": null,
       "grid_template_areas": null,
       "grid_template_columns": null,
       "grid_template_rows": null,
       "height": null,
       "justify_content": null,
       "justify_items": null,
       "left": null,
       "margin": null,
       "max_height": null,
       "max_width": null,
       "min_height": null,
       "min_width": null,
       "object_fit": null,
       "object_position": null,
       "order": null,
       "overflow": null,
       "padding": null,
       "right": null,
       "top": null,
       "visibility": null,
       "width": null
      }
     },
     "4c83b3fd75114cdfaac2713d656c3066": {
      "model_module": "@jupyter-widgets/controls",
      "model_module_version": "2.0.0",
      "model_name": "HTMLModel",
      "state": {
       "_dom_classes": [],
       "_model_module": "@jupyter-widgets/controls",
       "_model_module_version": "2.0.0",
       "_model_name": "HTMLModel",
       "_view_count": null,
       "_view_module": "@jupyter-widgets/controls",
       "_view_module_version": "2.0.0",
       "_view_name": "HTMLView",
       "description": "",
       "description_allow_html": false,
       "layout": "IPY_MODEL_6233645db232488081affffb76e804c8",
       "placeholder": "​",
       "style": "IPY_MODEL_aee9ef3c300149c6886e5b688ec1f6d5",
       "tabbable": null,
       "tooltip": null,
       "value": "<h4>Closed PRs for repo: <a href=\"https://github.com/jupyter-server/fps\">jupyter-server/fps</a></h4>\n<h5></h5>\n<ul>\n<li><a href=\"https://github.com/jupyter-server/fps/issues/95\">(#95)</a>: <em>[pre-commit.ci] pre-commit autoupdate</em> by <strong><a href=\"https://github.com/pre-commit-ci[bot]\">@pre-commit-ci[bot]</a></strong> merged by <strong><a href=\"https://github.com/davidbrochart\">@davidbrochart</a></strong></li>\n<li><a href=\"https://github.com/jupyter-server/fps/issues/104\">(#104)</a>: <em>Wait for server to be started</em> by <strong><a href=\"https://github.com/davidbrochart\">@davidbrochart</a></strong> merged by <strong><a href=\"https://github.com/davidbrochart\">@davidbrochart</a></strong></li>\n<li><a href=\"https://github.com/jupyter-server/fps/issues/105\">(#105)</a>: <em>Stop application when background tasks fail</em> by <strong><a href=\"https://github.com/davidbrochart\">@davidbrochart</a></strong> merged by <strong><a href=\"https://github.com/davidbrochart\">@davidbrochart</a></strong></li>\n<li><a href=\"https://github.com/jupyter-server/fps/issues/106\">(#106)</a>: <em>Bump anyioutils v0.7.0</em> by <strong><a href=\"https://github.com/davidbrochart\">@davidbrochart</a></strong> merged by <strong><a href=\"https://github.com/davidbrochart\">@davidbrochart</a></strong></li>\n<li><a href=\"https://github.com/jupyter-server/fps/issues/107\">(#107)</a>: <em>Add --show-config CLI option</em> by <strong><a href=\"https://github.com/davidbrochart\">@davidbrochart</a></strong> merged by <strong><a href=\"https://github.com/davidbrochart\">@davidbrochart</a></strong></li>\n<li><a href=\"https://github.com/jupyter-server/fps/issues/108\">(#108)</a>: <em>Add --help-all CLI option</em> by <strong><a href=\"https://github.com/davidbrochart\">@davidbrochart</a></strong> merged by <strong><a href=\"https://github.com/davidbrochart\">@davidbrochart</a></strong></li>\n<li><a href=\"https://github.com/jupyter-server/fps/issues/109\">(#109)</a>: <em>Support running on Trio</em> by <strong><a href=\"https://github.com/davidbrochart\">@davidbrochart</a></strong> merged by <strong><a href=\"https://github.com/davidbrochart\">@davidbrochart</a></strong></li>\n<li><a href=\"https://github.com/jupyter-server/fps/issues/110\">(#110)</a>: <em>Fix KeyboardInterrupt handling on Trio</em> by <strong><a href=\"https://github.com/davidbrochart\">@davidbrochart</a></strong> merged by <strong><a href=\"https://github.com/davidbrochart\">@davidbrochart</a></strong></li>\n<li><a href=\"https://github.com/jupyter-server/fps/issues/111\">(#111)</a>: <em>Require anycorn &gt;=0.18.1</em> by <strong><a href=\"https://github.com/davidbrochart\">@davidbrochart</a></strong> merged by <strong><a href=\"https://github.com/davidbrochart\">@davidbrochart</a></strong></li>\n<li><a href=\"https://github.com/jupyter-server/fps/issues/113\">(#113)</a>: <em>missing default values in cli.main</em> by <strong><a href=\"https://github.com/minrk\">@minrk</a></strong> merged by <strong><a href=\"https://github.com/davidbrochart\">@davidbrochart</a></strong></li>\n<li><a href=\"https://github.com/jupyter-server/fps/issues/114\">(#114)</a>: <em>Add .gitignore</em> by <strong><a href=\"https://github.com/davidbrochart\">@davidbrochart</a></strong> merged by <strong><a href=\"https://github.com/davidbrochart\">@davidbrochart</a></strong></li>\n<li><a href=\"https://github.com/jupyter-server/fps/issues/115\">(#115)</a>: <em>Add concurrency test for tasks</em> by <strong><a href=\"https://github.com/davidbrochart\">@davidbrochart</a></strong> merged by <strong><a href=\"https://github.com/davidbrochart\">@davidbrochart</a></strong></li>\n<li><a href=\"https://github.com/jupyter-server/fps/issues/116\">(#116)</a>: <em>Add Context</em> by <strong><a href=\"https://github.com/davidbrochart\">@davidbrochart</a></strong> merged by <strong><a href=\"https://github.com/davidbrochart\">@davidbrochart</a></strong></li>\n<li><a href=\"https://github.com/jupyter-server/fps/issues/117\">(#117)</a>: <em>Add optional <code>teardown_callback</code> parameter to <code>Context.put()</code></em> by <strong><a href=\"https://github.com/davidbrochart\">@davidbrochart</a></strong> merged by <strong><a href=\"https://github.com/davidbrochart\">@davidbrochart</a></strong></li>\n<li><a href=\"https://github.com/jupyter-server/fps/issues/118\">(#118)</a>: <em>Convert repo to use releaser from repo</em> by <strong><a href=\"https://github.com/davidbrochart\">@davidbrochart</a></strong> merged by <strong><a href=\"https://github.com/Zsailer\">@Zsailer</a></strong></li>\n<li><a href=\"https://github.com/jupyter-server/fps/issues/119\">(#119)</a>: <em>Add context documentation</em> by <strong><a href=\"https://github.com/davidbrochart\">@davidbrochart</a></strong> merged by <strong><a href=\"https://github.com/davidbrochart\">@davidbrochart</a></strong></li>\n<li><a href=\"https://github.com/jupyter-server/fps/issues/120\">(#120)</a>: <em>Update to latest Jupyter Release Actions</em> by <strong><a href=\"https://github.com/Zsailer\">@Zsailer</a></strong> merged by <strong><a href=\"https://github.com/davidbrochart\">@davidbrochart</a></strong></li>\n<li><a href=\"https://github.com/jupyter-server/fps/issues/121\">(#121)</a>: <em>Revert \"Update to latest Jupyter Release Actions\"</em> by <strong><a href=\"https://github.com/Zsailer\">@Zsailer</a></strong> merged by <strong><a href=\"https://github.com/Zsailer\">@Zsailer</a></strong></li>\n<li><a href=\"https://github.com/jupyter-server/fps/issues/122\">(#122)</a>: <em>Export SharedValue</em> by <strong><a href=\"https://github.com/davidbrochart\">@davidbrochart</a></strong> merged by <strong><a href=\"https://github.com/davidbrochart\">@davidbrochart</a></strong></li>\n<li><a href=\"https://github.com/jupyter-server/fps/issues/123\">(#123)</a>: <em>Add Signal</em> by <strong><a href=\"https://github.com/davidbrochart\">@davidbrochart</a></strong> merged by <strong><a href=\"https://github.com/davidbrochart\">@davidbrochart</a></strong></li>\n<li><a href=\"https://github.com/jupyter-server/fps/issues/124\">(#124)</a>: <em>Add Signal iterator</em> by <strong><a href=\"https://github.com/davidbrochart\">@davidbrochart</a></strong> merged by <strong><a href=\"https://github.com/davidbrochart\">@davidbrochart</a></strong></li>\n<li><a href=\"https://github.com/jupyter-server/fps/issues/125\">(#125)</a>: <em>Add Signal documentation</em> by <strong><a href=\"https://github.com/davidbrochart\">@davidbrochart</a></strong> merged by <strong><a href=\"https://github.com/davidbrochart\">@davidbrochart</a></strong></li>\n<li><a href=\"https://github.com/jupyter-server/fps/issues/126\">(#126)</a>: <em>Rework context and shared value, add documentation</em> by <strong><a href=\"https://github.com/davidbrochart\">@davidbrochart</a></strong> merged by <strong><a href=\"https://github.com/davidbrochart\">@davidbrochart</a></strong></li>\n<li><a href=\"https://github.com/jupyter-server/fps/issues/127\">(#127)</a>: <em>Remove duplicated code</em> by <strong><a href=\"https://github.com/davidbrochart\">@davidbrochart</a></strong> merged by <strong><a href=\"https://github.com/davidbrochart\">@davidbrochart</a></strong></li>\n<li><a href=\"https://github.com/jupyter-server/fps/issues/128\">(#128)</a>: <em>Use dependency groups for <code>test</code> and <code>docs</code></em> by <strong><a href=\"https://github.com/davidbrochart\">@davidbrochart</a></strong> merged by <strong><a href=\"https://github.com/davidbrochart\">@davidbrochart</a></strong></li>\n<li><a href=\"https://github.com/jupyter-server/fps/issues/129\">(#129)</a>: <em>Add <code>Module</code> API documentation</em> by <strong><a href=\"https://github.com/davidbrochart\">@davidbrochart</a></strong> merged by <strong><a href=\"https://github.com/davidbrochart\">@davidbrochart</a></strong></li>\n</ul>"
      }
     },
     "4d2bfea9bb2c4539901c91479ec5a42c": {
      "model_module": "@jupyter-widgets/controls",
      "model_module_version": "2.0.0",
      "model_name": "HTMLStyleModel",
      "state": {
       "_model_module": "@jupyter-widgets/controls",
       "_model_module_version": "2.0.0",
       "_model_name": "HTMLStyleModel",
       "_view_count": null,
       "_view_module": "@jupyter-widgets/base",
       "_view_module_version": "2.0.0",
       "_view_name": "StyleView",
       "background": null,
       "description_width": "",
       "font_size": null,
       "text_color": null
      }
     },
     "4dbd370c986449968ff1a294e76d4268": {
      "model_module": "@jupyter-widgets/controls",
      "model_module_version": "2.0.0",
      "model_name": "HTMLStyleModel",
      "state": {
       "_model_module": "@jupyter-widgets/controls",
       "_model_module_version": "2.0.0",
       "_model_name": "HTMLStyleModel",
       "_view_count": null,
       "_view_module": "@jupyter-widgets/base",
       "_view_module_version": "2.0.0",
       "_view_name": "StyleView",
       "background": null,
       "description_width": "",
       "font_size": null,
       "text_color": null
      }
     },
     "508f3579cf6246d8bc90714f75d9f342": {
      "model_module": "@jupyter-widgets/controls",
      "model_module_version": "2.0.0",
      "model_name": "HTMLStyleModel",
      "state": {
       "_model_module": "@jupyter-widgets/controls",
       "_model_module_version": "2.0.0",
       "_model_name": "HTMLStyleModel",
       "_view_count": null,
       "_view_module": "@jupyter-widgets/base",
       "_view_module_version": "2.0.0",
       "_view_name": "StyleView",
       "background": null,
       "description_width": "",
       "font_size": null,
       "text_color": null
      }
     },
     "50c00f1d0f0b4928a8da3c8fda55bb9d": {
      "model_module": "@jupyter-widgets/base",
      "model_module_version": "2.0.0",
      "model_name": "LayoutModel",
      "state": {
       "_model_module": "@jupyter-widgets/base",
       "_model_module_version": "2.0.0",
       "_model_name": "LayoutModel",
       "_view_count": null,
       "_view_module": "@jupyter-widgets/base",
       "_view_module_version": "2.0.0",
       "_view_name": "LayoutView",
       "align_content": null,
       "align_items": null,
       "align_self": null,
       "border_bottom": null,
       "border_left": null,
       "border_right": null,
       "border_top": null,
       "bottom": null,
       "display": null,
       "flex": null,
       "flex_flow": null,
       "grid_area": null,
       "grid_auto_columns": null,
       "grid_auto_flow": null,
       "grid_auto_rows": null,
       "grid_column": null,
       "grid_gap": null,
       "grid_row": null,
       "grid_template_areas": null,
       "grid_template_columns": null,
       "grid_template_rows": null,
       "height": null,
       "justify_content": null,
       "justify_items": null,
       "left": null,
       "margin": null,
       "max_height": null,
       "max_width": null,
       "min_height": null,
       "min_width": null,
       "object_fit": null,
       "object_position": null,
       "order": null,
       "overflow": null,
       "padding": null,
       "right": null,
       "top": null,
       "visibility": null,
       "width": null
      }
     },
     "525cd30b8150469caa92182dc54a4f53": {
      "model_module": "@jupyter-widgets/controls",
      "model_module_version": "2.0.0",
      "model_name": "HTMLModel",
      "state": {
       "_dom_classes": [],
       "_model_module": "@jupyter-widgets/controls",
       "_model_module_version": "2.0.0",
       "_model_name": "HTMLModel",
       "_view_count": null,
       "_view_module": "@jupyter-widgets/controls",
       "_view_module_version": "2.0.0",
       "_view_name": "HTMLView",
       "description": "",
       "description_allow_html": false,
       "layout": "IPY_MODEL_3ab0b2bed994411badadf93b2d34c174",
       "placeholder": "​",
       "style": "IPY_MODEL_508f3579cf6246d8bc90714f75d9f342",
       "tabbable": null,
       "tooltip": null,
       "value": "<h5><a href=\"https://github.com/jupyter-server/jupyter-scheduler\">jupyter-server/jupyter-scheduler</a></h5>\n<ul>\n<li><a href=\"https://github.com/jupyter-server/jupyter-scheduler/issues/328\">(#328)</a>: <em>Automatically delete all old Notebook jobs</em> by <strong><a href=\"https://github.com/nakvic\">@nakvic</a></strong></li>\n<li><a href=\"https://github.com/jupyter-server/jupyter-scheduler/issues/497\">(#497)</a>: <em>Empty \"Section Navigation\" in user docs</em> by <strong><a href=\"https://github.com/andrii-i\">@andrii-i</a></strong></li>\n<li><a href=\"https://github.com/jupyter-server/jupyter-scheduler/issues/563\">(#563)</a>: <em>Manage the culling of Jupyter Server with scheduled jobs to support JupyterHub</em> by <strong><a href=\"https://github.com/thomasLeclaire\">@thomasLeclaire</a></strong></li>\n<li><a href=\"https://github.com/jupyter-server/jupyter-scheduler/issues/560\">(#560)</a>: <em>JupyterLab 4 classifier is missing</em> by <strong><a href=\"https://github.com/krassowski\">@krassowski</a></strong></li>\n<li><a href=\"https://github.com/jupyter-server/jupyter-scheduler/issues/414\">(#414)</a>: <em>UI for event driven notebook execution</em> by <strong><a href=\"https://github.com/andrii-i\">@andrii-i</a></strong></li>\n</ul>"
      }
     },
     "52f570739c2b4431a5f46932a1d763a8": {
      "model_module": "@jupyter-widgets/controls",
      "model_module_version": "2.0.0",
      "model_name": "HTMLModel",
      "state": {
       "_dom_classes": [],
       "_model_module": "@jupyter-widgets/controls",
       "_model_module_version": "2.0.0",
       "_model_name": "HTMLModel",
       "_view_count": null,
       "_view_module": "@jupyter-widgets/controls",
       "_view_module_version": "2.0.0",
       "_view_name": "HTMLView",
       "description": "",
       "description_allow_html": false,
       "layout": "IPY_MODEL_7e2885e1d090475296c0199bd317cad8",
       "placeholder": "​",
       "style": "IPY_MODEL_39ec8fb237304dd094c7553e18d3f917",
       "tabbable": null,
       "tooltip": null,
       "value": "<h4>Closed PRs for repo: <a href=\"https://github.com/jupyter-server/jupyter_server_terminals\">jupyter-server/jupyter_server_terminals</a></h4>\n<h5></h5>\n<ul>\n<li><a href=\"https://github.com/jupyter-server/jupyter_server_terminals/issues/109\">(#109)</a>: <em>allow async authorization</em> by <strong><a href=\"https://github.com/Zsailer\">@Zsailer</a></strong> merged by <strong><a href=\"https://github.com/Zsailer\">@Zsailer</a></strong></li>\n</ul>"
      }
     },
     "53136880492d4463bd7ee3ffc09e2e7c": {
      "model_module": "@jupyter-widgets/base",
      "model_module_version": "2.0.0",
      "model_name": "LayoutModel",
      "state": {
       "_model_module": "@jupyter-widgets/base",
       "_model_module_version": "2.0.0",
       "_model_name": "LayoutModel",
       "_view_count": null,
       "_view_module": "@jupyter-widgets/base",
       "_view_module_version": "2.0.0",
       "_view_name": "LayoutView",
       "align_content": null,
       "align_items": null,
       "align_self": null,
       "border_bottom": null,
       "border_left": null,
       "border_right": null,
       "border_top": null,
       "bottom": null,
       "display": null,
       "flex": null,
       "flex_flow": null,
       "grid_area": null,
       "grid_auto_columns": null,
       "grid_auto_flow": null,
       "grid_auto_rows": null,
       "grid_column": null,
       "grid_gap": null,
       "grid_row": null,
       "grid_template_areas": null,
       "grid_template_columns": null,
       "grid_template_rows": null,
       "height": null,
       "justify_content": null,
       "justify_items": null,
       "left": null,
       "margin": null,
       "max_height": null,
       "max_width": null,
       "min_height": null,
       "min_width": null,
       "object_fit": null,
       "object_position": null,
       "order": null,
       "overflow": null,
       "padding": null,
       "right": null,
       "top": null,
       "visibility": null,
       "width": null
      }
     },
     "55a38b74307d497eab850d0a2ce57186": {
      "model_module": "@jupyter-widgets/controls",
      "model_module_version": "2.0.0",
      "model_name": "HTMLModel",
      "state": {
       "_dom_classes": [],
       "_model_module": "@jupyter-widgets/controls",
       "_model_module_version": "2.0.0",
       "_model_name": "HTMLModel",
       "_view_count": null,
       "_view_module": "@jupyter-widgets/controls",
       "_view_module_version": "2.0.0",
       "_view_name": "HTMLView",
       "description": "",
       "description_allow_html": false,
       "layout": "IPY_MODEL_8134b274054e483589e8b1f8ecf1e297",
       "placeholder": "​",
       "style": "IPY_MODEL_8f9760e43d9d410b9851e667e6f13ff6",
       "tabbable": null,
       "tooltip": null,
       "value": "<h5><a href=\"https://github.com/jupyter-server/kernel_gateway\">jupyter-server/kernel_gateway</a></h5>\n<ul>\n<li><a href=\"https://github.com/jupyter-server/kernel_gateway/issues/398\">(#398)</a>: <em>CLI fails to start on windows with signal import issue</em> by <strong><a href=\"https://github.com/jackgerrits\">@jackgerrits</a></strong></li>\n</ul>"
      }
     },
     "56d00c6de6354484b9696e4007121c02": {
      "model_module": "@jupyter-widgets/controls",
      "model_module_version": "2.0.0",
      "model_name": "HTMLStyleModel",
      "state": {
       "_model_module": "@jupyter-widgets/controls",
       "_model_module_version": "2.0.0",
       "_model_name": "HTMLStyleModel",
       "_view_count": null,
       "_view_module": "@jupyter-widgets/base",
       "_view_module_version": "2.0.0",
       "_view_name": "StyleView",
       "background": null,
       "description_width": "",
       "font_size": null,
       "text_color": null
      }
     },
     "56f89ceda886416db0d19c05a9b1ad17": {
      "model_module": "@jupyter-widgets/controls",
      "model_module_version": "2.0.0",
      "model_name": "HTMLStyleModel",
      "state": {
       "_model_module": "@jupyter-widgets/controls",
       "_model_module_version": "2.0.0",
       "_model_name": "HTMLStyleModel",
       "_view_count": null,
       "_view_module": "@jupyter-widgets/base",
       "_view_module_version": "2.0.0",
       "_view_name": "StyleView",
       "background": null,
       "description_width": "",
       "font_size": null,
       "text_color": null
      }
     },
     "5ac9d10baf8b4f209778fc21d7a4bd32": {
      "model_module": "@jupyter-widgets/base",
      "model_module_version": "2.0.0",
      "model_name": "LayoutModel",
      "state": {
       "_model_module": "@jupyter-widgets/base",
       "_model_module_version": "2.0.0",
       "_model_name": "LayoutModel",
       "_view_count": null,
       "_view_module": "@jupyter-widgets/base",
       "_view_module_version": "2.0.0",
       "_view_name": "LayoutView",
       "align_content": null,
       "align_items": null,
       "align_self": null,
       "border_bottom": null,
       "border_left": null,
       "border_right": null,
       "border_top": null,
       "bottom": null,
       "display": null,
       "flex": null,
       "flex_flow": null,
       "grid_area": null,
       "grid_auto_columns": null,
       "grid_auto_flow": null,
       "grid_auto_rows": null,
       "grid_column": null,
       "grid_gap": null,
       "grid_row": null,
       "grid_template_areas": null,
       "grid_template_columns": null,
       "grid_template_rows": null,
       "height": null,
       "justify_content": null,
       "justify_items": null,
       "left": null,
       "margin": null,
       "max_height": null,
       "max_width": null,
       "min_height": null,
       "min_width": null,
       "object_fit": null,
       "object_position": null,
       "order": null,
       "overflow": null,
       "padding": null,
       "right": null,
       "top": null,
       "visibility": null,
       "width": null
      }
     },
     "5b14b913b9f245de855b69e75c2a9854": {
      "model_module": "@jupyter-widgets/base",
      "model_module_version": "2.0.0",
      "model_name": "LayoutModel",
      "state": {
       "_model_module": "@jupyter-widgets/base",
       "_model_module_version": "2.0.0",
       "_model_name": "LayoutModel",
       "_view_count": null,
       "_view_module": "@jupyter-widgets/base",
       "_view_module_version": "2.0.0",
       "_view_name": "LayoutView",
       "align_content": null,
       "align_items": null,
       "align_self": null,
       "border_bottom": null,
       "border_left": null,
       "border_right": null,
       "border_top": null,
       "bottom": null,
       "display": null,
       "flex": null,
       "flex_flow": null,
       "grid_area": null,
       "grid_auto_columns": null,
       "grid_auto_flow": null,
       "grid_auto_rows": null,
       "grid_column": null,
       "grid_gap": null,
       "grid_row": null,
       "grid_template_areas": null,
       "grid_template_columns": null,
       "grid_template_rows": null,
       "height": null,
       "justify_content": null,
       "justify_items": null,
       "left": null,
       "margin": null,
       "max_height": null,
       "max_width": null,
       "min_height": null,
       "min_width": null,
       "object_fit": null,
       "object_position": null,
       "order": null,
       "overflow": null,
       "padding": null,
       "right": null,
       "top": null,
       "visibility": null,
       "width": null
      }
     },
     "5e1338a88c3d467aa56d95112d9aef18": {
      "model_module": "@jupyter-widgets/controls",
      "model_module_version": "2.0.0",
      "model_name": "HTMLModel",
      "state": {
       "_dom_classes": [],
       "_model_module": "@jupyter-widgets/controls",
       "_model_module_version": "2.0.0",
       "_model_name": "HTMLModel",
       "_view_count": null,
       "_view_module": "@jupyter-widgets/controls",
       "_view_module_version": "2.0.0",
       "_view_name": "HTMLView",
       "description": "",
       "description_allow_html": false,
       "layout": "IPY_MODEL_5b14b913b9f245de855b69e75c2a9854",
       "placeholder": "​",
       "style": "IPY_MODEL_ab6df76075c14bbdbad85e17a39b9b26",
       "tabbable": null,
       "tooltip": null,
       "value": "<h5><a href=\"https://github.com/jupyter-server/jupyverse\">jupyter-server/jupyverse</a></h5>\n<ul>\n<li><a href=\"https://github.com/jupyter-server/jupyverse/issues/471\">(#471)</a>: <em>Move jupyverse to Jupyter PyPI organization</em> by <strong><a href=\"https://github.com/Zsailer\">@Zsailer</a></strong></li>\n<li><a href=\"https://github.com/jupyter-server/jupyverse/issues/236\">(#236)</a>: <em>Contents root_dir</em> by <strong><a href=\"https://github.com/davidbrochart\">@davidbrochart</a></strong></li>\n<li><a href=\"https://github.com/jupyter-server/jupyverse/issues/444\">(#444)</a>: <em>Rename mentions to <code>fps-</code>?</em> by <strong><a href=\"https://github.com/jtpio\">@jtpio</a></strong></li>\n</ul>"
      }
     },
     "6233645db232488081affffb76e804c8": {
      "model_module": "@jupyter-widgets/base",
      "model_module_version": "2.0.0",
      "model_name": "LayoutModel",
      "state": {
       "_model_module": "@jupyter-widgets/base",
       "_model_module_version": "2.0.0",
       "_model_name": "LayoutModel",
       "_view_count": null,
       "_view_module": "@jupyter-widgets/base",
       "_view_module_version": "2.0.0",
       "_view_name": "LayoutView",
       "align_content": null,
       "align_items": null,
       "align_self": null,
       "border_bottom": null,
       "border_left": null,
       "border_right": null,
       "border_top": null,
       "bottom": null,
       "display": null,
       "flex": null,
       "flex_flow": null,
       "grid_area": null,
       "grid_auto_columns": null,
       "grid_auto_flow": null,
       "grid_auto_rows": null,
       "grid_column": null,
       "grid_gap": null,
       "grid_row": null,
       "grid_template_areas": null,
       "grid_template_columns": null,
       "grid_template_rows": null,
       "height": null,
       "justify_content": null,
       "justify_items": null,
       "left": null,
       "margin": null,
       "max_height": null,
       "max_width": null,
       "min_height": null,
       "min_width": null,
       "object_fit": null,
       "object_position": null,
       "order": null,
       "overflow": null,
       "padding": null,
       "right": null,
       "top": null,
       "visibility": null,
       "width": null
      }
     },
     "63e5daffc54d4846af86662b360c78c1": {
      "model_module": "@jupyter-widgets/base",
      "model_module_version": "2.0.0",
      "model_name": "LayoutModel",
      "state": {
       "_model_module": "@jupyter-widgets/base",
       "_model_module_version": "2.0.0",
       "_model_name": "LayoutModel",
       "_view_count": null,
       "_view_module": "@jupyter-widgets/base",
       "_view_module_version": "2.0.0",
       "_view_name": "LayoutView",
       "align_content": null,
       "align_items": null,
       "align_self": null,
       "border_bottom": null,
       "border_left": null,
       "border_right": null,
       "border_top": null,
       "bottom": null,
       "display": null,
       "flex": null,
       "flex_flow": null,
       "grid_area": null,
       "grid_auto_columns": null,
       "grid_auto_flow": null,
       "grid_auto_rows": null,
       "grid_column": null,
       "grid_gap": null,
       "grid_row": null,
       "grid_template_areas": null,
       "grid_template_columns": null,
       "grid_template_rows": null,
       "height": null,
       "justify_content": null,
       "justify_items": null,
       "left": null,
       "margin": null,
       "max_height": null,
       "max_width": null,
       "min_height": null,
       "min_width": null,
       "object_fit": null,
       "object_position": null,
       "order": null,
       "overflow": null,
       "padding": null,
       "right": null,
       "top": null,
       "visibility": null,
       "width": null
      }
     },
     "64bc64b9ca0b4979b0960462f90ba73b": {
      "model_module": "@jupyter-widgets/controls",
      "model_module_version": "2.0.0",
      "model_name": "HTMLModel",
      "state": {
       "_dom_classes": [],
       "_model_module": "@jupyter-widgets/controls",
       "_model_module_version": "2.0.0",
       "_model_name": "HTMLModel",
       "_view_count": null,
       "_view_module": "@jupyter-widgets/controls",
       "_view_module_version": "2.0.0",
       "_view_name": "HTMLView",
       "description": "",
       "description_allow_html": false,
       "layout": "IPY_MODEL_14f3114e691a463db7f0dd1201725a22",
       "placeholder": "​",
       "style": "IPY_MODEL_6bbc65ad4dbe424ab134252cdefbecb7",
       "tabbable": null,
       "tooltip": null,
       "value": "<h4>Closed PRs for repo: <a href=\"https://github.com/jupyter-server/jupyter_server\">jupyter-server/jupyter_server</a></h4>\n<h5></h5>\n<ul>\n<li><a href=\"https://github.com/jupyter-server/jupyter_server/issues/1494\">(#1494)</a>: <em>display_url: Don't duplicate public_url and local_url if they are the same</em> by <strong><a href=\"https://github.com/manics\">@manics</a></strong> merged by <strong><a href=\"https://github.com/Zsailer\">@Zsailer</a></strong></li>\n<li><a href=\"https://github.com/jupyter-server/jupyter_server/issues/1499\">(#1499)</a>: <em>Update Contribution Page for Jupyter Server</em> by <strong><a href=\"https://github.com/kjayan\">@kjayan</a></strong> merged by <strong><a href=\"https://github.com/vidartf\">@vidartf</a></strong></li>\n<li><a href=\"https://github.com/jupyter-server/jupyter_server/issues/1500\">(#1500)</a>: <em>Fix for #1479 : Incorrect usage of i18n format</em> by <strong><a href=\"https://github.com/kjayan\">@kjayan</a></strong> merged by <strong><a href=\"https://github.com/vidartf\">@vidartf</a></strong></li>\n<li><a href=\"https://github.com/jupyter-server/jupyter_server/issues/1505\">(#1505)</a>: <em>Update Security Section in the Jupyter Server Documentation</em> by <strong><a href=\"https://github.com/kjayan\">@kjayan</a></strong> merged by <strong><a href=\"https://github.com/Zsailer\">@Zsailer</a></strong></li>\n<li><a href=\"https://github.com/jupyter-server/jupyter_server/issues/1508\">(#1508)</a>: <em>Update websocket-protocols documentation to reflect implementation</em> by <strong><a href=\"https://github.com/ark-1\">@ark-1</a></strong> merged by <strong><a href=\"https://github.com/Zsailer\">@Zsailer</a></strong></li>\n<li><a href=\"https://github.com/jupyter-server/jupyter_server/issues/1509\">(#1509)</a>: _ Validate extension name before toggling through CLI_ by <strong><a href=\"https://github.com/Darshan808\">@Darshan808</a></strong> merged by <strong><a href=\"https://github.com/afshin\">@afshin</a></strong></li>\n<li><a href=\"https://github.com/jupyter-server/jupyter_server/issues/1510\">(#1510)</a>: <em>tests: install test-functional requirements for Jupytext downstream tests</em> by <strong><a href=\"https://github.com/MaicoTimmerman\">@MaicoTimmerman</a></strong> merged by <strong><a href=\"https://github.com/Zsailer\">@Zsailer</a></strong></li>\n<li><a href=\"https://github.com/jupyter-server/jupyter_server/issues/1513\">(#1513)</a>: <em>Check file permissions before making tmp file</em> by <strong><a href=\"https://github.com/RRosio\">@RRosio</a></strong> merged by <strong><a href=\"https://github.com/afshin\">@afshin</a></strong></li>\n<li><a href=\"https://github.com/jupyter-server/jupyter_server/issues/1516\">(#1516)</a>: <em>Fallback to direct write for readonly dirs and use temp path for checkpoints</em> by <strong><a href=\"https://github.com/Darshan808\">@Darshan808</a></strong> merged by <strong><a href=\"https://github.com/afshin\">@afshin</a></strong></li>\n<li><a href=\"https://github.com/jupyter-server/jupyter_server/issues/1517\">(#1517)</a>: <em>Update meetings notes link and zoom link</em> by <strong><a href=\"https://github.com/krassowski\">@krassowski</a></strong> merged by <strong><a href=\"https://github.com/minrk\">@minrk</a></strong></li>\n<li><a href=\"https://github.com/jupyter-server/jupyter_server/issues/1522\">(#1522)</a>: <em>Turn ExtensionPoint class into a LoggingConfigurable to enable logging</em> by <strong><a href=\"https://github.com/Zsailer\">@Zsailer</a></strong> merged by <strong><a href=\"https://github.com/Zsailer\">@Zsailer</a></strong></li>\n</ul>"
      }
     },
     "697f757b311c43d598e65261e7b838c2": {
      "model_module": "@jupyter-widgets/controls",
      "model_module_version": "2.0.0",
      "model_name": "HTMLModel",
      "state": {
       "_dom_classes": [],
       "_model_module": "@jupyter-widgets/controls",
       "_model_module_version": "2.0.0",
       "_model_name": "HTMLModel",
       "_view_count": null,
       "_view_module": "@jupyter-widgets/controls",
       "_view_module_version": "2.0.0",
       "_view_name": "HTMLView",
       "description": "",
       "description_allow_html": false,
       "layout": "IPY_MODEL_50c00f1d0f0b4928a8da3c8fda55bb9d",
       "placeholder": "​",
       "style": "IPY_MODEL_cbe779bd32d147eb86094a32a9c5044e",
       "tabbable": null,
       "tooltip": null,
       "value": "<h5><a href=\"https://github.com/jupyter-server/enterprise_gateway\">jupyter-server/enterprise_gateway</a></h5>\n<ul>\n<li><a href=\"https://github.com/jupyter-server/enterprise_gateway/issues/1392\">(#1392)</a>: _Custom Spark 3.5.3 Kernel _ by <strong><a href=\"https://github.com/fatihmete\">@fatihmete</a></strong></li>\n<li><a href=\"https://github.com/jupyter-server/enterprise_gateway/issues/1404\">(#1404)</a>: <em>Setting up Jupyterhub to work with Enterprise Gateway</em> by <strong><a href=\"https://github.com/demardefrozen10\">@demardefrozen10</a></strong></li>\n<li><a href=\"https://github.com/jupyter-server/enterprise_gateway/issues/1359\">(#1359)</a>: <em>KIP cannot use ImagePullSecret when using containerd</em> by <strong><a href=\"https://github.com/Buchhold\">@Buchhold</a></strong></li>\n<li><a href=\"https://github.com/jupyter-server/enterprise_gateway/issues/1382\">(#1382)</a>: <em>Error: module 'kubernetes.client' has no attribute 'V1Subject'</em> by <strong><a href=\"https://github.com/fm2022aa\">@fm2022aa</a></strong></li>\n<li><a href=\"https://github.com/jupyter-server/enterprise_gateway/issues/1402\">(#1402)</a>: <em>Fix Infinite Loop in WebSocket Connection Message Handling</em> by <strong><a href=\"https://github.com/zdhdsx\">@zdhdsx</a></strong></li>\n</ul>"
      }
     },
     "698a161fe1124d94b58b6d3f40d2c81f": {
      "model_module": "@jupyter-widgets/base",
      "model_module_version": "2.0.0",
      "model_name": "LayoutModel",
      "state": {
       "_model_module": "@jupyter-widgets/base",
       "_model_module_version": "2.0.0",
       "_model_name": "LayoutModel",
       "_view_count": null,
       "_view_module": "@jupyter-widgets/base",
       "_view_module_version": "2.0.0",
       "_view_name": "LayoutView",
       "align_content": null,
       "align_items": null,
       "align_self": null,
       "border_bottom": null,
       "border_left": null,
       "border_right": null,
       "border_top": null,
       "bottom": null,
       "display": null,
       "flex": null,
       "flex_flow": null,
       "grid_area": null,
       "grid_auto_columns": null,
       "grid_auto_flow": null,
       "grid_auto_rows": null,
       "grid_column": null,
       "grid_gap": null,
       "grid_row": null,
       "grid_template_areas": null,
       "grid_template_columns": null,
       "grid_template_rows": null,
       "height": null,
       "justify_content": null,
       "justify_items": null,
       "left": null,
       "margin": null,
       "max_height": null,
       "max_width": null,
       "min_height": null,
       "min_width": null,
       "object_fit": null,
       "object_position": null,
       "order": null,
       "overflow": null,
       "padding": null,
       "right": null,
       "top": null,
       "visibility": null,
       "width": null
      }
     },
     "6bbc65ad4dbe424ab134252cdefbecb7": {
      "model_module": "@jupyter-widgets/controls",
      "model_module_version": "2.0.0",
      "model_name": "HTMLStyleModel",
      "state": {
       "_model_module": "@jupyter-widgets/controls",
       "_model_module_version": "2.0.0",
       "_model_name": "HTMLStyleModel",
       "_view_count": null,
       "_view_module": "@jupyter-widgets/base",
       "_view_module_version": "2.0.0",
       "_view_name": "StyleView",
       "background": null,
       "description_width": "",
       "font_size": null,
       "text_color": null
      }
     },
     "6c363f41ff914bd988378695ee0e3d64": {
      "model_module": "@jupyter-widgets/controls",
      "model_module_version": "2.0.0",
      "model_name": "HTMLModel",
      "state": {
       "_dom_classes": [],
       "_model_module": "@jupyter-widgets/controls",
       "_model_module_version": "2.0.0",
       "_model_name": "HTMLModel",
       "_view_count": null,
       "_view_module": "@jupyter-widgets/controls",
       "_view_module_version": "2.0.0",
       "_view_name": "HTMLView",
       "description": "",
       "description_allow_html": false,
       "layout": "IPY_MODEL_484c9fcff19b43089dae8aff8d5a8f2b",
       "placeholder": "​",
       "style": "IPY_MODEL_56f89ceda886416db0d19c05a9b1ad17",
       "tabbable": null,
       "tooltip": null,
       "value": "<h5><a href=\"https://github.com/jupyter-server/gateway_provisioners\">jupyter-server/gateway_provisioners</a></h5>\n<ul>\n<li><a href=\"https://github.com/jupyter-server/gateway_provisioners/issues/139\">(#139)</a>: <em>Bug in the YarnProvisioner _query_app_by_name</em> by <strong><a href=\"https://github.com/abppriya\">@abppriya</a></strong></li>\n</ul>"
      }
     },
     "6f3e641854e04f3980a62ce4cf3ffabb": {
      "model_module": "@jupyter-widgets/controls",
      "model_module_version": "2.0.0",
      "model_name": "HTMLModel",
      "state": {
       "_dom_classes": [],
       "_model_module": "@jupyter-widgets/controls",
       "_model_module_version": "2.0.0",
       "_model_name": "HTMLModel",
       "_view_count": null,
       "_view_module": "@jupyter-widgets/controls",
       "_view_module_version": "2.0.0",
       "_view_name": "HTMLView",
       "description": "",
       "description_allow_html": false,
       "layout": "IPY_MODEL_ea02961e8c6d41d2bd031270046ab0af",
       "placeholder": "​",
       "style": "IPY_MODEL_8c72588a116244df93acfd4589807447",
       "tabbable": null,
       "tooltip": null,
       "value": "<h4>Closed PRs for repo: <a href=\"https://github.com/jupyter-server/jupyter_ydoc\">jupyter-server/jupyter_ydoc</a></h4>\n<h5></h5>\n<ul>\n<li><a href=\"https://github.com/jupyter-server/jupyter_ydoc/issues/312\">(#312)</a>: <em>Fix including Typescript source in package</em> by <strong><a href=\"https://github.com/fcollonval\">@fcollonval</a></strong> merged by <strong><a href=\"https://github.com/fcollonval\">@fcollonval</a></strong></li>\n<li><a href=\"https://github.com/jupyter-server/jupyter_ydoc/issues/313\">(#313)</a>: <em>[pre-commit.ci] pre-commit autoupdate</em> by <strong><a href=\"https://github.com/pre-commit-ci[bot]\">@pre-commit-ci[bot]</a></strong> merged by <strong><a href=\"https://github.com/davidbrochart\">@davidbrochart</a></strong></li>\n<li><a href=\"https://github.com/jupyter-server/jupyter_ydoc/issues/314\">(#314)</a>: <em>[pre-commit.ci] pre-commit autoupdate</em> by <strong><a href=\"https://github.com/pre-commit-ci[bot]\">@pre-commit-ci[bot]</a></strong> merged by <strong><a href=\"https://github.com/davidbrochart\">@davidbrochart</a></strong></li>\n<li><a href=\"https://github.com/jupyter-server/jupyter_ydoc/issues/315\">(#315)</a>: <em>[pre-commit.ci] pre-commit autoupdate</em> by <strong><a href=\"https://github.com/pre-commit-ci[bot]\">@pre-commit-ci[bot]</a></strong> merged by <strong><a href=\"https://github.com/davidbrochart\">@davidbrochart</a></strong></li>\n<li><a href=\"https://github.com/jupyter-server/jupyter_ydoc/issues/316\">(#316)</a>: <em>[pre-commit.ci] pre-commit autoupdate</em> by <strong><a href=\"https://github.com/pre-commit-ci[bot]\">@pre-commit-ci[bot]</a></strong> merged by <strong><a href=\"https://github.com/davidbrochart\">@davidbrochart</a></strong></li>\n<li><a href=\"https://github.com/jupyter-server/jupyter_ydoc/issues/317\">(#317)</a>: <em>[pre-commit.ci] pre-commit autoupdate</em> by <strong><a href=\"https://github.com/pre-commit-ci[bot]\">@pre-commit-ci[bot]</a></strong> merged by <strong><a href=\"https://github.com/davidbrochart\">@davidbrochart</a></strong></li>\n<li><a href=\"https://github.com/jupyter-server/jupyter_ydoc/issues/319\">(#319)</a>: <em>[pre-commit.ci] pre-commit autoupdate</em> by <strong><a href=\"https://github.com/pre-commit-ci[bot]\">@pre-commit-ci[bot]</a></strong> merged by <strong><a href=\"https://github.com/davidbrochart\">@davidbrochart</a></strong></li>\n<li><a href=\"https://github.com/jupyter-server/jupyter_ydoc/issues/320\">(#320)</a>: <em>[pre-commit.ci] pre-commit autoupdate</em> by <strong><a href=\"https://github.com/pre-commit-ci[bot]\">@pre-commit-ci[bot]</a></strong> merged by <strong><a href=\"https://github.com/davidbrochart\">@davidbrochart</a></strong></li>\n<li><a href=\"https://github.com/jupyter-server/jupyter_ydoc/issues/321\">(#321)</a>: <em>Set <code>undoManager</code> in constructor for cells in notebook</em> by <strong><a href=\"https://github.com/krassowski\">@krassowski</a></strong> merged by <strong><a href=\"https://github.com/krassowski\">@krassowski</a></strong></li>\n<li><a href=\"https://github.com/jupyter-server/jupyter_ydoc/issues/322\">(#322)</a>: <em>[pre-commit.ci] pre-commit autoupdate</em> by <strong><a href=\"https://github.com/pre-commit-ci[bot]\">@pre-commit-ci[bot]</a></strong> merged by <strong><a href=\"https://github.com/davidbrochart\">@davidbrochart</a></strong></li>\n<li><a href=\"https://github.com/jupyter-server/jupyter_ydoc/issues/323\">(#323)</a>: <em>[pre-commit.ci] pre-commit autoupdate</em> by <strong><a href=\"https://github.com/pre-commit-ci[bot]\">@pre-commit-ci[bot]</a></strong> merged by <strong><a href=\"https://github.com/davidbrochart\">@davidbrochart</a></strong></li>\n<li><a href=\"https://github.com/jupyter-server/jupyter_ydoc/issues/324\">(#324)</a>: <em>[pre-commit.ci] pre-commit autoupdate</em> by <strong><a href=\"https://github.com/pre-commit-ci[bot]\">@pre-commit-ci[bot]</a></strong> merged by <strong><a href=\"https://github.com/davidbrochart\">@davidbrochart</a></strong></li>\n<li><a href=\"https://github.com/jupyter-server/jupyter_ydoc/issues/325\">(#325)</a>: <em>Bump <code>ip</code> from 2.0.0 to 2.0.1</em> by <strong><a href=\"https://github.com/dlqqq\">@dlqqq</a></strong> merged by <strong><a href=\"https://github.com/davidbrochart\">@davidbrochart</a></strong></li>\n<li><a href=\"https://github.com/jupyter-server/jupyter_ydoc/issues/326\">(#326)</a>: <em>[pre-commit.ci] pre-commit autoupdate</em> by <strong><a href=\"https://github.com/pre-commit-ci[bot]\">@pre-commit-ci[bot]</a></strong> merged by <strong><a href=\"https://github.com/davidbrochart\">@davidbrochart</a></strong></li>\n</ul>"
      }
     },
     "6f56015680bb4261aa8661b3049579f3": {
      "model_module": "@jupyter-widgets/controls",
      "model_module_version": "2.0.0",
      "model_name": "TabModel",
      "state": {
       "_dom_classes": [],
       "_model_module": "@jupyter-widgets/controls",
       "_model_module_version": "2.0.0",
       "_model_name": "TabModel",
       "_view_count": null,
       "_view_module": "@jupyter-widgets/controls",
       "_view_module_version": "2.0.0",
       "_view_name": "TabView",
       "box_style": "",
       "children": [
        "IPY_MODEL_4c83b3fd75114cdfaac2713d656c3066",
        "IPY_MODEL_868675adc94b45579771f8086c201a89",
        "IPY_MODEL_bca342e94413478190cebca6c9007060",
        "IPY_MODEL_64bc64b9ca0b4979b0960462f90ba73b",
        "IPY_MODEL_52f570739c2b4431a5f46932a1d763a8",
        "IPY_MODEL_6f3e641854e04f3980a62ce4cf3ffabb",
        "IPY_MODEL_127cd87162184bfd9a0d0505f3795f16"
       ],
       "layout": "IPY_MODEL_c7c514e3421249369d8f90727ba42b36",
       "selected_index": 0,
       "tabbable": null,
       "titles": [
        "fps",
        "jupyter-scheduler",
        "jupyter_releaser",
        "jupyter_server",
        "jupyter_server_terminals",
        "jupyter_ydoc",
        "jupyverse"
       ],
       "tooltip": null
      }
     },
     "76db9448d1d548dbb3e61977fe1f80b7": {
      "model_module": "@jupyter-widgets/controls",
      "model_module_version": "2.0.0",
      "model_name": "HTMLModel",
      "state": {
       "_dom_classes": [],
       "_model_module": "@jupyter-widgets/controls",
       "_model_module_version": "2.0.0",
       "_model_name": "HTMLModel",
       "_view_count": null,
       "_view_module": "@jupyter-widgets/controls",
       "_view_module_version": "2.0.0",
       "_view_name": "HTMLView",
       "description": "",
       "description_allow_html": false,
       "layout": "IPY_MODEL_ce7d86d918494ea98883d12e432af2a6",
       "placeholder": "​",
       "style": "IPY_MODEL_14855bb6100f4d038095f6d41f19ee5f",
       "tabbable": null,
       "tooltip": null,
       "value": "<h5><a href=\"https://github.com/jupyter-server/team-compass\">jupyter-server/team-compass</a></h5>\n<ul>\n<li><a href=\"https://github.com/jupyter-server/team-compass/issues/73\">(#73)</a>: <em>Meeting Notes 2025</em> by <strong><a href=\"https://github.com/Zsailer\">@Zsailer</a></strong></li>\n<li><a href=\"https://github.com/jupyter-server/team-compass/issues/78\">(#78)</a>: <em>Vote: move <code>pycrdt</code> and <code>pycrdt-websocket</code> to <code>y-crdt</code> organization</em> by <strong><a href=\"https://github.com/davidbrochart\">@davidbrochart</a></strong></li>\n<li><a href=\"https://github.com/jupyter-server/team-compass/issues/77\">(#77)</a>: <em>Move <code>pycrdt</code> to <code>y-crdt</code> organization</em> by <strong><a href=\"https://github.com/davidbrochart\">@davidbrochart</a></strong></li>\n<li><a href=\"https://github.com/jupyter-server/team-compass/issues/79\">(#79)</a>: <em>Proposal: move github-activity into this GitHub organization</em> by <strong><a href=\"https://github.com/choldgraf\">@choldgraf</a></strong></li>\n<li><a href=\"https://github.com/jupyter-server/team-compass/issues/72\">(#72)</a>: <em>Support running kernels in multiple locations (locally or remote) simultaneously.</em> by <strong><a href=\"https://github.com/ojarjur\">@ojarjur</a></strong></li>\n</ul>"
      }
     },
     "7e2885e1d090475296c0199bd317cad8": {
      "model_module": "@jupyter-widgets/base",
      "model_module_version": "2.0.0",
      "model_name": "LayoutModel",
      "state": {
       "_model_module": "@jupyter-widgets/base",
       "_model_module_version": "2.0.0",
       "_model_name": "LayoutModel",
       "_view_count": null,
       "_view_module": "@jupyter-widgets/base",
       "_view_module_version": "2.0.0",
       "_view_name": "LayoutView",
       "align_content": null,
       "align_items": null,
       "align_self": null,
       "border_bottom": null,
       "border_left": null,
       "border_right": null,
       "border_top": null,
       "bottom": null,
       "display": null,
       "flex": null,
       "flex_flow": null,
       "grid_area": null,
       "grid_auto_columns": null,
       "grid_auto_flow": null,
       "grid_auto_rows": null,
       "grid_column": null,
       "grid_gap": null,
       "grid_row": null,
       "grid_template_areas": null,
       "grid_template_columns": null,
       "grid_template_rows": null,
       "height": null,
       "justify_content": null,
       "justify_items": null,
       "left": null,
       "margin": null,
       "max_height": null,
       "max_width": null,
       "min_height": null,
       "min_width": null,
       "object_fit": null,
       "object_position": null,
       "order": null,
       "overflow": null,
       "padding": null,
       "right": null,
       "top": null,
       "visibility": null,
       "width": null
      }
     },
     "7ecbe71a9de3403698855cce0915e92b": {
      "model_module": "@jupyter-widgets/controls",
      "model_module_version": "2.0.0",
      "model_name": "HTMLModel",
      "state": {
       "_dom_classes": [],
       "_model_module": "@jupyter-widgets/controls",
       "_model_module_version": "2.0.0",
       "_model_name": "HTMLModel",
       "_view_count": null,
       "_view_module": "@jupyter-widgets/controls",
       "_view_module_version": "2.0.0",
       "_view_name": "HTMLView",
       "description": "",
       "description_allow_html": false,
       "layout": "IPY_MODEL_63e5daffc54d4846af86662b360c78c1",
       "placeholder": "​",
       "style": "IPY_MODEL_ae0c31b1a7e940f0a1c863d10cbf6cb9",
       "tabbable": null,
       "tooltip": null,
       "value": "<h5><a href=\"https://github.com/jupyter-server/jupyter-resource-usage\">jupyter-server/jupyter-resource-usage</a></h5>\n<ul>\n<li><a href=\"https://github.com/jupyter-server/jupyter-resource-usage/issues/237\">(#237)</a>: <em>update yarn.lock required: jupyterlab/coreutils =&gt; no exported member 'ResolvedRelativeTimeFormatOptions'</em> by <strong><a href=\"https://github.com/jhgoebbert\">@jhgoebbert</a></strong></li>\n<li><a href=\"https://github.com/jupyter-server/jupyter-resource-usage/issues/245\">(#245)</a>: <em>Enabling track_cpu_percent causes unacceptable input delay in terminal</em> by <strong><a href=\"https://github.com/ctcjab\">@ctcjab</a></strong></li>\n<li><a href=\"https://github.com/jupyter-server/jupyter-resource-usage/issues/242\">(#242)</a>: <em>Better <code>opt-in</code> than <code>opt-out</code> for <code>enable_prometheus_metrics</code></em> by <strong><a href=\"https://github.com/jhgoebbert\">@jhgoebbert</a></strong></li>\n<li><a href=\"https://github.com/jupyter-server/jupyter-resource-usage/issues/123\">(#123)</a>: <em>Prometheus metrics blocks tornado main thread</em> by <strong><a href=\"https://github.com/dleen\">@dleen</a></strong></li>\n<li><a href=\"https://github.com/jupyter-server/jupyter-resource-usage/issues/244\">(#244)</a>: <em>How to configure \"Enable resource usage indicators\" to true from <code>c = get_config()</code></em> by <strong><a href=\"https://github.com/sgrenf95\">@sgrenf95</a></strong></li>\n</ul>"
      }
     },
     "80a94c4a50ab4d17bf9537f5acf1dcb7": {
      "model_module": "@jupyter-widgets/controls",
      "model_module_version": "2.0.0",
      "model_name": "HTMLStyleModel",
      "state": {
       "_model_module": "@jupyter-widgets/controls",
       "_model_module_version": "2.0.0",
       "_model_name": "HTMLStyleModel",
       "_view_count": null,
       "_view_module": "@jupyter-widgets/base",
       "_view_module_version": "2.0.0",
       "_view_name": "StyleView",
       "background": null,
       "description_width": "",
       "font_size": null,
       "text_color": null
      }
     },
     "8134b274054e483589e8b1f8ecf1e297": {
      "model_module": "@jupyter-widgets/base",
      "model_module_version": "2.0.0",
      "model_name": "LayoutModel",
      "state": {
       "_model_module": "@jupyter-widgets/base",
       "_model_module_version": "2.0.0",
       "_model_name": "LayoutModel",
       "_view_count": null,
       "_view_module": "@jupyter-widgets/base",
       "_view_module_version": "2.0.0",
       "_view_name": "LayoutView",
       "align_content": null,
       "align_items": null,
       "align_self": null,
       "border_bottom": null,
       "border_left": null,
       "border_right": null,
       "border_top": null,
       "bottom": null,
       "display": null,
       "flex": null,
       "flex_flow": null,
       "grid_area": null,
       "grid_auto_columns": null,
       "grid_auto_flow": null,
       "grid_auto_rows": null,
       "grid_column": null,
       "grid_gap": null,
       "grid_row": null,
       "grid_template_areas": null,
       "grid_template_columns": null,
       "grid_template_rows": null,
       "height": null,
       "justify_content": null,
       "justify_items": null,
       "left": null,
       "margin": null,
       "max_height": null,
       "max_width": null,
       "min_height": null,
       "min_width": null,
       "object_fit": null,
       "object_position": null,
       "order": null,
       "overflow": null,
       "padding": null,
       "right": null,
       "top": null,
       "visibility": null,
       "width": null
      }
     },
     "868675adc94b45579771f8086c201a89": {
      "model_module": "@jupyter-widgets/controls",
      "model_module_version": "2.0.0",
      "model_name": "HTMLModel",
      "state": {
       "_dom_classes": [],
       "_model_module": "@jupyter-widgets/controls",
       "_model_module_version": "2.0.0",
       "_model_name": "HTMLModel",
       "_view_count": null,
       "_view_module": "@jupyter-widgets/controls",
       "_view_module_version": "2.0.0",
       "_view_name": "HTMLView",
       "description": "",
       "description_allow_html": false,
       "layout": "IPY_MODEL_698a161fe1124d94b58b6d3f40d2c81f",
       "placeholder": "​",
       "style": "IPY_MODEL_f9ec7167028c42d89e6e709c74372fb3",
       "tabbable": null,
       "tooltip": null,
       "value": "<h4>Closed PRs for repo: <a href=\"https://github.com/jupyter-server/jupyter-scheduler\">jupyter-server/jupyter-scheduler</a></h4>\n<h5></h5>\n<ul>\n<li><a href=\"https://github.com/jupyter-server/jupyter-scheduler/issues/575\">(#575)</a>: <em>Add support for Python 3.13 version and remove support for Python  3.7 and 3.8 versions</em> by <strong><a href=\"https://github.com/asmita-sharma1625\">@asmita-sharma1625</a></strong> merged by <strong><a href=\"https://github.com/andrii-i\">@andrii-i</a></strong></li>\n<li><a href=\"https://github.com/jupyter-server/jupyter-scheduler/issues/576\">(#576)</a>: <em>Updated JupyterLab Classifier to JupyterLab 4, Bump actions/cache to v3</em> by <strong><a href=\"https://github.com/astitv-sh\">@astitv-sh</a></strong> merged by <strong><a href=\"https://github.com/andrii-i\">@andrii-i</a></strong></li>\n<li><a href=\"https://github.com/jupyter-server/jupyter-scheduler/issues/577\">(#577)</a>: <em>Remove \"RTC\" drive prefix from filepath added by jupyter-collaboration when using notebook scheduler widget</em> by <strong><a href=\"https://github.com/asmita-sharma1625\">@asmita-sharma1625</a></strong> merged by <strong><a href=\"https://github.com/andrii-i\">@andrii-i</a></strong></li>\n<li><a href=\"https://github.com/jupyter-server/jupyter-scheduler/issues/578\">(#578)</a>: <em>Async upload</em> by <strong><a href=\"https://github.com/andrii-i\">@andrii-i</a></strong> merged by <strong><a href=\"https://github.com/andrii-i\">@andrii-i</a></strong></li>\n<li><a href=\"https://github.com/jupyter-server/jupyter-scheduler/issues/585\">(#585)</a>: <em>bump fsspec version excluding 2025.3.1 that was yanked on PyPI</em> by <strong><a href=\"https://github.com/andrii-i\">@andrii-i</a></strong> merged by <strong><a href=\"https://github.com/andrii-i\">@andrii-i</a></strong></li>\n</ul>"
      }
     },
     "8c72588a116244df93acfd4589807447": {
      "model_module": "@jupyter-widgets/controls",
      "model_module_version": "2.0.0",
      "model_name": "HTMLStyleModel",
      "state": {
       "_model_module": "@jupyter-widgets/controls",
       "_model_module_version": "2.0.0",
       "_model_name": "HTMLStyleModel",
       "_view_count": null,
       "_view_module": "@jupyter-widgets/base",
       "_view_module_version": "2.0.0",
       "_view_name": "StyleView",
       "background": null,
       "description_width": "",
       "font_size": null,
       "text_color": null
      }
     },
     "8d250af50ce34da48d167bea692d502f": {
      "model_module": "@jupyter-widgets/base",
      "model_module_version": "2.0.0",
      "model_name": "LayoutModel",
      "state": {
       "_model_module": "@jupyter-widgets/base",
       "_model_module_version": "2.0.0",
       "_model_name": "LayoutModel",
       "_view_count": null,
       "_view_module": "@jupyter-widgets/base",
       "_view_module_version": "2.0.0",
       "_view_name": "LayoutView",
       "align_content": null,
       "align_items": null,
       "align_self": null,
       "border_bottom": null,
       "border_left": null,
       "border_right": null,
       "border_top": null,
       "bottom": null,
       "display": null,
       "flex": null,
       "flex_flow": null,
       "grid_area": null,
       "grid_auto_columns": null,
       "grid_auto_flow": null,
       "grid_auto_rows": null,
       "grid_column": null,
       "grid_gap": null,
       "grid_row": null,
       "grid_template_areas": null,
       "grid_template_columns": null,
       "grid_template_rows": null,
       "height": null,
       "justify_content": null,
       "justify_items": null,
       "left": null,
       "margin": null,
       "max_height": null,
       "max_width": null,
       "min_height": null,
       "min_width": null,
       "object_fit": null,
       "object_position": null,
       "order": null,
       "overflow": null,
       "padding": null,
       "right": null,
       "top": null,
       "visibility": null,
       "width": null
      }
     },
     "8f9760e43d9d410b9851e667e6f13ff6": {
      "model_module": "@jupyter-widgets/controls",
      "model_module_version": "2.0.0",
      "model_name": "HTMLStyleModel",
      "state": {
       "_model_module": "@jupyter-widgets/controls",
       "_model_module_version": "2.0.0",
       "_model_name": "HTMLStyleModel",
       "_view_count": null,
       "_view_module": "@jupyter-widgets/base",
       "_view_module_version": "2.0.0",
       "_view_name": "StyleView",
       "background": null,
       "description_width": "",
       "font_size": null,
       "text_color": null
      }
     },
     "97ee953c934a4572b60c32109883674a": {
      "model_module": "@jupyter-widgets/base",
      "model_module_version": "2.0.0",
      "model_name": "LayoutModel",
      "state": {
       "_model_module": "@jupyter-widgets/base",
       "_model_module_version": "2.0.0",
       "_model_name": "LayoutModel",
       "_view_count": null,
       "_view_module": "@jupyter-widgets/base",
       "_view_module_version": "2.0.0",
       "_view_name": "LayoutView",
       "align_content": null,
       "align_items": null,
       "align_self": null,
       "border_bottom": null,
       "border_left": null,
       "border_right": null,
       "border_top": null,
       "bottom": null,
       "display": null,
       "flex": null,
       "flex_flow": null,
       "grid_area": null,
       "grid_auto_columns": null,
       "grid_auto_flow": null,
       "grid_auto_rows": null,
       "grid_column": null,
       "grid_gap": null,
       "grid_row": null,
       "grid_template_areas": null,
       "grid_template_columns": null,
       "grid_template_rows": null,
       "height": null,
       "justify_content": null,
       "justify_items": null,
       "left": null,
       "margin": null,
       "max_height": null,
       "max_width": null,
       "min_height": null,
       "min_width": null,
       "object_fit": null,
       "object_position": null,
       "order": null,
       "overflow": null,
       "padding": null,
       "right": null,
       "top": null,
       "visibility": null,
       "width": null
      }
     },
     "9f4510a67437441b8060ccb257e2d98b": {
      "model_module": "@jupyter-widgets/controls",
      "model_module_version": "2.0.0",
      "model_name": "HTMLStyleModel",
      "state": {
       "_model_module": "@jupyter-widgets/controls",
       "_model_module_version": "2.0.0",
       "_model_name": "HTMLStyleModel",
       "_view_count": null,
       "_view_module": "@jupyter-widgets/base",
       "_view_module_version": "2.0.0",
       "_view_name": "StyleView",
       "background": null,
       "description_width": "",
       "font_size": null,
       "text_color": null
      }
     },
     "a4b2f786a6b6436a93f15fca0750f6f5": {
      "model_module": "@jupyter-widgets/controls",
      "model_module_version": "2.0.0",
      "model_name": "HTMLStyleModel",
      "state": {
       "_model_module": "@jupyter-widgets/controls",
       "_model_module_version": "2.0.0",
       "_model_name": "HTMLStyleModel",
       "_view_count": null,
       "_view_module": "@jupyter-widgets/base",
       "_view_module_version": "2.0.0",
       "_view_name": "StyleView",
       "background": null,
       "description_width": "",
       "font_size": null,
       "text_color": null
      }
     },
     "a860bd8bfeae4a20a495e0fb039187c1": {
      "model_module": "@jupyter-widgets/controls",
      "model_module_version": "2.0.0",
      "model_name": "HTMLStyleModel",
      "state": {
       "_model_module": "@jupyter-widgets/controls",
       "_model_module_version": "2.0.0",
       "_model_name": "HTMLStyleModel",
       "_view_count": null,
       "_view_module": "@jupyter-widgets/base",
       "_view_module_version": "2.0.0",
       "_view_name": "StyleView",
       "background": null,
       "description_width": "",
       "font_size": null,
       "text_color": null
      }
     },
     "ab6df76075c14bbdbad85e17a39b9b26": {
      "model_module": "@jupyter-widgets/controls",
      "model_module_version": "2.0.0",
      "model_name": "HTMLStyleModel",
      "state": {
       "_model_module": "@jupyter-widgets/controls",
       "_model_module_version": "2.0.0",
       "_model_name": "HTMLStyleModel",
       "_view_count": null,
       "_view_module": "@jupyter-widgets/base",
       "_view_module_version": "2.0.0",
       "_view_name": "StyleView",
       "background": null,
       "description_width": "",
       "font_size": null,
       "text_color": null
      }
     },
     "ae0c31b1a7e940f0a1c863d10cbf6cb9": {
      "model_module": "@jupyter-widgets/controls",
      "model_module_version": "2.0.0",
      "model_name": "HTMLStyleModel",
      "state": {
       "_model_module": "@jupyter-widgets/controls",
       "_model_module_version": "2.0.0",
       "_model_name": "HTMLStyleModel",
       "_view_count": null,
       "_view_module": "@jupyter-widgets/base",
       "_view_module_version": "2.0.0",
       "_view_name": "StyleView",
       "background": null,
       "description_width": "",
       "font_size": null,
       "text_color": null
      }
     },
     "aee9ef3c300149c6886e5b688ec1f6d5": {
      "model_module": "@jupyter-widgets/controls",
      "model_module_version": "2.0.0",
      "model_name": "HTMLStyleModel",
      "state": {
       "_model_module": "@jupyter-widgets/controls",
       "_model_module_version": "2.0.0",
       "_model_name": "HTMLStyleModel",
       "_view_count": null,
       "_view_module": "@jupyter-widgets/base",
       "_view_module_version": "2.0.0",
       "_view_name": "StyleView",
       "background": null,
       "description_width": "",
       "font_size": null,
       "text_color": null
      }
     },
     "af47b1a7bb0142fa91c28e6ea9ccc9ff": {
      "model_module": "@jupyter-widgets/controls",
      "model_module_version": "2.0.0",
      "model_name": "HTMLStyleModel",
      "state": {
       "_model_module": "@jupyter-widgets/controls",
       "_model_module_version": "2.0.0",
       "_model_name": "HTMLStyleModel",
       "_view_count": null,
       "_view_module": "@jupyter-widgets/base",
       "_view_module_version": "2.0.0",
       "_view_name": "StyleView",
       "background": null,
       "description_width": "",
       "font_size": null,
       "text_color": null
      }
     },
     "af622584d1244b55874384b51399cf6f": {
      "model_module": "@jupyter-widgets/controls",
      "model_module_version": "2.0.0",
      "model_name": "HTMLStyleModel",
      "state": {
       "_model_module": "@jupyter-widgets/controls",
       "_model_module_version": "2.0.0",
       "_model_name": "HTMLStyleModel",
       "_view_count": null,
       "_view_module": "@jupyter-widgets/base",
       "_view_module_version": "2.0.0",
       "_view_name": "StyleView",
       "background": null,
       "description_width": "",
       "font_size": null,
       "text_color": null
      }
     },
     "b14a2f1a4fca4663b93a6029c4a5c855": {
      "model_module": "@jupyter-widgets/controls",
      "model_module_version": "2.0.0",
      "model_name": "HTMLStyleModel",
      "state": {
       "_model_module": "@jupyter-widgets/controls",
       "_model_module_version": "2.0.0",
       "_model_name": "HTMLStyleModel",
       "_view_count": null,
       "_view_module": "@jupyter-widgets/base",
       "_view_module_version": "2.0.0",
       "_view_name": "StyleView",
       "background": null,
       "description_width": "",
       "font_size": null,
       "text_color": null
      }
     },
     "b21de899d9c24f828783bbed8c0b2c4e": {
      "model_module": "@jupyter-widgets/controls",
      "model_module_version": "2.0.0",
      "model_name": "HTMLModel",
      "state": {
       "_dom_classes": [],
       "_model_module": "@jupyter-widgets/controls",
       "_model_module_version": "2.0.0",
       "_model_name": "HTMLModel",
       "_view_count": null,
       "_view_module": "@jupyter-widgets/controls",
       "_view_module_version": "2.0.0",
       "_view_name": "HTMLView",
       "description": "",
       "description_allow_html": false,
       "layout": "IPY_MODEL_4b759761086d4f6bbd99b4980b322ccd",
       "placeholder": "​",
       "style": "IPY_MODEL_0b25fda385b44e4ea265a090ce1221ff",
       "tabbable": null,
       "tooltip": null,
       "value": "<h5><a href=\"https://github.com/jupyter-server/fps\">jupyter-server/fps</a></h5>\n<ul>\n<li><a href=\"https://github.com/jupyter-server/fps/issues/112\">(#112)</a>: <em>Move fps to Jupyter PyPI organization</em> by <strong><a href=\"https://github.com/Zsailer\">@Zsailer</a></strong></li>\n<li><a href=\"https://github.com/jupyter-server/fps/issues/44\">(#44)</a>: <em>Forward CLI args to application</em> by <strong><a href=\"https://github.com/davidbrochart\">@davidbrochart</a></strong></li>\n<li><a href=\"https://github.com/jupyter-server/fps/issues/54\">(#54)</a>: <em>Run-time plugin router definition</em> by <strong><a href=\"https://github.com/davidbrochart\">@davidbrochart</a></strong></li>\n</ul>"
      }
     },
     "b9ddc98e55ad4e48a587556a38db5a3b": {
      "model_module": "@jupyter-widgets/base",
      "model_module_version": "2.0.0",
      "model_name": "LayoutModel",
      "state": {
       "_model_module": "@jupyter-widgets/base",
       "_model_module_version": "2.0.0",
       "_model_name": "LayoutModel",
       "_view_count": null,
       "_view_module": "@jupyter-widgets/base",
       "_view_module_version": "2.0.0",
       "_view_name": "LayoutView",
       "align_content": null,
       "align_items": null,
       "align_self": null,
       "border_bottom": null,
       "border_left": null,
       "border_right": null,
       "border_top": null,
       "bottom": null,
       "display": null,
       "flex": null,
       "flex_flow": null,
       "grid_area": null,
       "grid_auto_columns": null,
       "grid_auto_flow": null,
       "grid_auto_rows": null,
       "grid_column": null,
       "grid_gap": null,
       "grid_row": null,
       "grid_template_areas": null,
       "grid_template_columns": null,
       "grid_template_rows": null,
       "height": null,
       "justify_content": null,
       "justify_items": null,
       "left": null,
       "margin": null,
       "max_height": null,
       "max_width": null,
       "min_height": null,
       "min_width": null,
       "object_fit": null,
       "object_position": null,
       "order": null,
       "overflow": null,
       "padding": null,
       "right": null,
       "top": null,
       "visibility": null,
       "width": null
      }
     },
     "bca342e94413478190cebca6c9007060": {
      "model_module": "@jupyter-widgets/controls",
      "model_module_version": "2.0.0",
      "model_name": "HTMLModel",
      "state": {
       "_dom_classes": [],
       "_model_module": "@jupyter-widgets/controls",
       "_model_module_version": "2.0.0",
       "_model_name": "HTMLModel",
       "_view_count": null,
       "_view_module": "@jupyter-widgets/controls",
       "_view_module_version": "2.0.0",
       "_view_name": "HTMLView",
       "description": "",
       "description_allow_html": false,
       "layout": "IPY_MODEL_b9ddc98e55ad4e48a587556a38db5a3b",
       "placeholder": "​",
       "style": "IPY_MODEL_af47b1a7bb0142fa91c28e6ea9ccc9ff",
       "tabbable": null,
       "tooltip": null,
       "value": "<h4>Closed PRs for repo: <a href=\"https://github.com/jupyter-server/jupyter_releaser\">jupyter-server/jupyter_releaser</a></h4>\n<h5></h5>\n<ul>\n<li><a href=\"https://github.com/jupyter-server/jupyter_releaser/issues/605\">(#605)</a>: <em>Check for <code>npm</code> error code 409 to skip previously published packages in private registries</em> by <strong><a href=\"https://github.com/martenrichter\">@martenrichter</a></strong> merged by <strong><a href=\"https://github.com/krassowski\">@krassowski</a></strong></li>\n<li><a href=\"https://github.com/jupyter-server/jupyter_releaser/issues/607\">(#607)</a>: <em>Pin to <code>click&lt;8.2.0</code>, pin <code>pypiserver</code> based on the Python version</em> by <strong><a href=\"https://github.com/jtpio\">@jtpio</a></strong> merged by <strong><a href=\"https://github.com/krassowski\">@krassowski</a></strong></li>\n<li><a href=\"https://github.com/jupyter-server/jupyter_releaser/issues/608\">(#608)</a>: <em>Replace <code>ubuntu-20.04</code> runners with <code>ubuntu-latest</code></em> by <strong><a href=\"https://github.com/krassowski\">@krassowski</a></strong> merged by <strong><a href=\"https://github.com/jtpio\">@jtpio</a></strong></li>\n<li><a href=\"https://github.com/jupyter-server/jupyter_releaser/issues/609\">(#609)</a>: <em>Require Python 3.9+, test on Python 3.9 and 3.13</em> by <strong><a href=\"https://github.com/krassowski\">@krassowski</a></strong> merged by <strong><a href=\"https://github.com/jtpio\">@jtpio</a></strong></li>\n<li><a href=\"https://github.com/jupyter-server/jupyter_releaser/issues/610\">(#610)</a>: <em>CI troubleshoot</em> by <strong><a href=\"https://github.com/jtpio\">@jtpio</a></strong> merged by <strong><a href=\"https://github.com/jtpio\">@jtpio</a></strong></li>\n</ul>"
      }
     },
     "c14d4d833cea4c14b78152756e590a4c": {
      "model_module": "@jupyter-widgets/controls",
      "model_module_version": "2.0.0",
      "model_name": "HTMLStyleModel",
      "state": {
       "_model_module": "@jupyter-widgets/controls",
       "_model_module_version": "2.0.0",
       "_model_name": "HTMLStyleModel",
       "_view_count": null,
       "_view_module": "@jupyter-widgets/base",
       "_view_module_version": "2.0.0",
       "_view_name": "StyleView",
       "background": null,
       "description_width": "",
       "font_size": null,
       "text_color": null
      }
     },
     "c5e5c7072bfb46a4a2917c7d2107c3f7": {
      "model_module": "@jupyter-widgets/controls",
      "model_module_version": "2.0.0",
      "model_name": "HTMLModel",
      "state": {
       "_dom_classes": [],
       "_model_module": "@jupyter-widgets/controls",
       "_model_module_version": "2.0.0",
       "_model_name": "HTMLModel",
       "_view_count": null,
       "_view_module": "@jupyter-widgets/controls",
       "_view_module_version": "2.0.0",
       "_view_name": "HTMLView",
       "description": "",
       "description_allow_html": false,
       "layout": "IPY_MODEL_3904812206184675886a1440257f260a",
       "placeholder": "​",
       "style": "IPY_MODEL_a4b2f786a6b6436a93f15fca0750f6f5",
       "tabbable": null,
       "tooltip": null,
       "value": "<h5><a href=\"https://github.com/jupyter-server/jupyter_releaser\">jupyter-server/jupyter_releaser</a></h5>\n<ul>\n<li><a href=\"https://github.com/jupyter-server/jupyter_releaser/issues/604\">(#604)</a>: <em>Publish Release fails in FPS repo</em> by <strong><a href=\"https://github.com/davidbrochart\">@davidbrochart</a></strong></li>\n<li><a href=\"https://github.com/jupyter-server/jupyter_releaser/issues/606\">(#606)</a>: <em>Draft GitHub Release not created</em> by <strong><a href=\"https://github.com/jtpio\">@jtpio</a></strong></li>\n<li><a href=\"https://github.com/jupyter-server/jupyter_releaser/issues/603\">(#603)</a>: <em>Supporting publishing to multiple npm registries</em> by <strong><a href=\"https://github.com/martenrichter\">@martenrichter</a></strong></li>\n</ul>"
      }
     },
     "c7c514e3421249369d8f90727ba42b36": {
      "model_module": "@jupyter-widgets/base",
      "model_module_version": "2.0.0",
      "model_name": "LayoutModel",
      "state": {
       "_model_module": "@jupyter-widgets/base",
       "_model_module_version": "2.0.0",
       "_model_name": "LayoutModel",
       "_view_count": null,
       "_view_module": "@jupyter-widgets/base",
       "_view_module_version": "2.0.0",
       "_view_name": "LayoutView",
       "align_content": null,
       "align_items": null,
       "align_self": null,
       "border_bottom": null,
       "border_left": null,
       "border_right": null,
       "border_top": null,
       "bottom": null,
       "display": null,
       "flex": null,
       "flex_flow": null,
       "grid_area": null,
       "grid_auto_columns": null,
       "grid_auto_flow": null,
       "grid_auto_rows": null,
       "grid_column": null,
       "grid_gap": null,
       "grid_row": null,
       "grid_template_areas": null,
       "grid_template_columns": null,
       "grid_template_rows": null,
       "height": null,
       "justify_content": null,
       "justify_items": null,
       "left": null,
       "margin": null,
       "max_height": null,
       "max_width": null,
       "min_height": null,
       "min_width": null,
       "object_fit": null,
       "object_position": null,
       "order": null,
       "overflow": null,
       "padding": null,
       "right": null,
       "top": null,
       "visibility": null,
       "width": null
      }
     },
     "ca163f5bbbe8419782ff3027cd1c3e4e": {
      "model_module": "@jupyter-widgets/base",
      "model_module_version": "2.0.0",
      "model_name": "LayoutModel",
      "state": {
       "_model_module": "@jupyter-widgets/base",
       "_model_module_version": "2.0.0",
       "_model_name": "LayoutModel",
       "_view_count": null,
       "_view_module": "@jupyter-widgets/base",
       "_view_module_version": "2.0.0",
       "_view_name": "LayoutView",
       "align_content": null,
       "align_items": null,
       "align_self": null,
       "border_bottom": null,
       "border_left": null,
       "border_right": null,
       "border_top": null,
       "bottom": null,
       "display": null,
       "flex": null,
       "flex_flow": null,
       "grid_area": null,
       "grid_auto_columns": null,
       "grid_auto_flow": null,
       "grid_auto_rows": null,
       "grid_column": null,
       "grid_gap": null,
       "grid_row": null,
       "grid_template_areas": null,
       "grid_template_columns": null,
       "grid_template_rows": null,
       "height": null,
       "justify_content": null,
       "justify_items": null,
       "left": null,
       "margin": null,
       "max_height": null,
       "max_width": null,
       "min_height": null,
       "min_width": null,
       "object_fit": null,
       "object_position": null,
       "order": null,
       "overflow": null,
       "padding": null,
       "right": null,
       "top": null,
       "visibility": null,
       "width": null
      }
     },
     "cbe779bd32d147eb86094a32a9c5044e": {
      "model_module": "@jupyter-widgets/controls",
      "model_module_version": "2.0.0",
      "model_name": "HTMLStyleModel",
      "state": {
       "_model_module": "@jupyter-widgets/controls",
       "_model_module_version": "2.0.0",
       "_model_name": "HTMLStyleModel",
       "_view_count": null,
       "_view_module": "@jupyter-widgets/base",
       "_view_module_version": "2.0.0",
       "_view_name": "StyleView",
       "background": null,
       "description_width": "",
       "font_size": null,
       "text_color": null
      }
     },
     "ce7d86d918494ea98883d12e432af2a6": {
      "model_module": "@jupyter-widgets/base",
      "model_module_version": "2.0.0",
      "model_name": "LayoutModel",
      "state": {
       "_model_module": "@jupyter-widgets/base",
       "_model_module_version": "2.0.0",
       "_model_name": "LayoutModel",
       "_view_count": null,
       "_view_module": "@jupyter-widgets/base",
       "_view_module_version": "2.0.0",
       "_view_name": "LayoutView",
       "align_content": null,
       "align_items": null,
       "align_self": null,
       "border_bottom": null,
       "border_left": null,
       "border_right": null,
       "border_top": null,
       "bottom": null,
       "display": null,
       "flex": null,
       "flex_flow": null,
       "grid_area": null,
       "grid_auto_columns": null,
       "grid_auto_flow": null,
       "grid_auto_rows": null,
       "grid_column": null,
       "grid_gap": null,
       "grid_row": null,
       "grid_template_areas": null,
       "grid_template_columns": null,
       "grid_template_rows": null,
       "height": null,
       "justify_content": null,
       "justify_items": null,
       "left": null,
       "margin": null,
       "max_height": null,
       "max_width": null,
       "min_height": null,
       "min_width": null,
       "object_fit": null,
       "object_position": null,
       "order": null,
       "overflow": null,
       "padding": null,
       "right": null,
       "top": null,
       "visibility": null,
       "width": null
      }
     },
     "d4f1d748b335467cb0002dbf45af44ad": {
      "model_module": "@jupyter-widgets/controls",
      "model_module_version": "2.0.0",
      "model_name": "HTMLStyleModel",
      "state": {
       "_model_module": "@jupyter-widgets/controls",
       "_model_module_version": "2.0.0",
       "_model_name": "HTMLStyleModel",
       "_view_count": null,
       "_view_module": "@jupyter-widgets/base",
       "_view_module_version": "2.0.0",
       "_view_name": "StyleView",
       "background": null,
       "description_width": "",
       "font_size": null,
       "text_color": null
      }
     },
     "da0cdb69644d4262b9701b931910aa49": {
      "model_module": "@jupyter-widgets/base",
      "model_module_version": "2.0.0",
      "model_name": "LayoutModel",
      "state": {
       "_model_module": "@jupyter-widgets/base",
       "_model_module_version": "2.0.0",
       "_model_name": "LayoutModel",
       "_view_count": null,
       "_view_module": "@jupyter-widgets/base",
       "_view_module_version": "2.0.0",
       "_view_name": "LayoutView",
       "align_content": null,
       "align_items": null,
       "align_self": null,
       "border_bottom": null,
       "border_left": null,
       "border_right": null,
       "border_top": null,
       "bottom": null,
       "display": null,
       "flex": null,
       "flex_flow": null,
       "grid_area": null,
       "grid_auto_columns": null,
       "grid_auto_flow": null,
       "grid_auto_rows": null,
       "grid_column": null,
       "grid_gap": null,
       "grid_row": null,
       "grid_template_areas": null,
       "grid_template_columns": null,
       "grid_template_rows": null,
       "height": null,
       "justify_content": null,
       "justify_items": null,
       "left": null,
       "margin": null,
       "max_height": null,
       "max_width": null,
       "min_height": null,
       "min_width": null,
       "object_fit": null,
       "object_position": null,
       "order": null,
       "overflow": null,
       "padding": null,
       "right": null,
       "top": null,
       "visibility": null,
       "width": null
      }
     },
     "e1f38640f7744edb914c83a810722dab": {
      "model_module": "@jupyter-widgets/controls",
      "model_module_version": "2.0.0",
      "model_name": "HTMLModel",
      "state": {
       "_dom_classes": [],
       "_model_module": "@jupyter-widgets/controls",
       "_model_module_version": "2.0.0",
       "_model_name": "HTMLModel",
       "_view_count": null,
       "_view_module": "@jupyter-widgets/controls",
       "_view_module_version": "2.0.0",
       "_view_name": "HTMLView",
       "description": "",
       "description_allow_html": false,
       "layout": "IPY_MODEL_ebde690ad76a442c85a8a83752e3dd7f",
       "placeholder": "​",
       "style": "IPY_MODEL_af622584d1244b55874384b51399cf6f",
       "tabbable": null,
       "tooltip": null,
       "value": "<h5><a href=\"https://github.com/jupyter-server/team-compass\">jupyter-server/team-compass</a></h5>\n<ul>\n<li><a href=\"https://github.com/jupyter-server/team-compass/issues/73\">(#73)</a>: <em>Meeting Notes 2025</em> by <strong><a href=\"https://github.com/Zsailer\">@Zsailer</a></strong></li>\n<li><a href=\"https://github.com/jupyter-server/team-compass/issues/78\">(#78)</a>: <em>Vote: move <code>pycrdt</code> and <code>pycrdt-websocket</code> to <code>y-crdt</code> organization</em> by <strong><a href=\"https://github.com/davidbrochart\">@davidbrochart</a></strong></li>\n<li><a href=\"https://github.com/jupyter-server/team-compass/issues/77\">(#77)</a>: <em>Move <code>pycrdt</code> to <code>y-crdt</code> organization</em> by <strong><a href=\"https://github.com/davidbrochart\">@davidbrochart</a></strong></li>\n<li><a href=\"https://github.com/jupyter-server/team-compass/issues/79\">(#79)</a>: <em>Proposal: move github-activity into this GitHub organization</em> by <strong><a href=\"https://github.com/choldgraf\">@choldgraf</a></strong></li>\n<li><a href=\"https://github.com/jupyter-server/team-compass/issues/72\">(#72)</a>: <em>Support running kernels in multiple locations (locally or remote) simultaneously.</em> by <strong><a href=\"https://github.com/ojarjur\">@ojarjur</a></strong></li>\n</ul>"
      }
     },
     "e88b65932d904e5aba7a10d834f5fd26": {
      "model_module": "@jupyter-widgets/controls",
      "model_module_version": "2.0.0",
      "model_name": "HTMLModel",
      "state": {
       "_dom_classes": [],
       "_model_module": "@jupyter-widgets/controls",
       "_model_module_version": "2.0.0",
       "_model_name": "HTMLModel",
       "_view_count": null,
       "_view_module": "@jupyter-widgets/controls",
       "_view_module_version": "2.0.0",
       "_view_name": "HTMLView",
       "description": "",
       "description_allow_html": false,
       "layout": "IPY_MODEL_5ac9d10baf8b4f209778fc21d7a4bd32",
       "placeholder": "​",
       "style": "IPY_MODEL_3845630c27ce4524ab4b41ecf1c257d8",
       "tabbable": null,
       "tooltip": null,
       "value": "<h5><a href=\"https://github.com/jupyter-server/jupyter_releaser\">jupyter-server/jupyter_releaser</a></h5>\n<ul>\n<li><a href=\"https://github.com/jupyter-server/jupyter_releaser/issues/604\">(#604)</a>: <em>Publish Release fails in FPS repo</em> by <strong><a href=\"https://github.com/davidbrochart\">@davidbrochart</a></strong></li>\n<li><a href=\"https://github.com/jupyter-server/jupyter_releaser/issues/606\">(#606)</a>: <em>Draft GitHub Release not created</em> by <strong><a href=\"https://github.com/jtpio\">@jtpio</a></strong></li>\n<li><a href=\"https://github.com/jupyter-server/jupyter_releaser/issues/603\">(#603)</a>: <em>Supporting publishing to multiple npm registries</em> by <strong><a href=\"https://github.com/martenrichter\">@martenrichter</a></strong></li>\n</ul>"
      }
     },
     "ea02961e8c6d41d2bd031270046ab0af": {
      "model_module": "@jupyter-widgets/base",
      "model_module_version": "2.0.0",
      "model_name": "LayoutModel",
      "state": {
       "_model_module": "@jupyter-widgets/base",
       "_model_module_version": "2.0.0",
       "_model_name": "LayoutModel",
       "_view_count": null,
       "_view_module": "@jupyter-widgets/base",
       "_view_module_version": "2.0.0",
       "_view_name": "LayoutView",
       "align_content": null,
       "align_items": null,
       "align_self": null,
       "border_bottom": null,
       "border_left": null,
       "border_right": null,
       "border_top": null,
       "bottom": null,
       "display": null,
       "flex": null,
       "flex_flow": null,
       "grid_area": null,
       "grid_auto_columns": null,
       "grid_auto_flow": null,
       "grid_auto_rows": null,
       "grid_column": null,
       "grid_gap": null,
       "grid_row": null,
       "grid_template_areas": null,
       "grid_template_columns": null,
       "grid_template_rows": null,
       "height": null,
       "justify_content": null,
       "justify_items": null,
       "left": null,
       "margin": null,
       "max_height": null,
       "max_width": null,
       "min_height": null,
       "min_width": null,
       "object_fit": null,
       "object_position": null,
       "order": null,
       "overflow": null,
       "padding": null,
       "right": null,
       "top": null,
       "visibility": null,
       "width": null
      }
     },
     "ebde690ad76a442c85a8a83752e3dd7f": {
      "model_module": "@jupyter-widgets/base",
      "model_module_version": "2.0.0",
      "model_name": "LayoutModel",
      "state": {
       "_model_module": "@jupyter-widgets/base",
       "_model_module_version": "2.0.0",
       "_model_name": "LayoutModel",
       "_view_count": null,
       "_view_module": "@jupyter-widgets/base",
       "_view_module_version": "2.0.0",
       "_view_name": "LayoutView",
       "align_content": null,
       "align_items": null,
       "align_self": null,
       "border_bottom": null,
       "border_left": null,
       "border_right": null,
       "border_top": null,
       "bottom": null,
       "display": null,
       "flex": null,
       "flex_flow": null,
       "grid_area": null,
       "grid_auto_columns": null,
       "grid_auto_flow": null,
       "grid_auto_rows": null,
       "grid_column": null,
       "grid_gap": null,
       "grid_row": null,
       "grid_template_areas": null,
       "grid_template_columns": null,
       "grid_template_rows": null,
       "height": null,
       "justify_content": null,
       "justify_items": null,
       "left": null,
       "margin": null,
       "max_height": null,
       "max_width": null,
       "min_height": null,
       "min_width": null,
       "object_fit": null,
       "object_position": null,
       "order": null,
       "overflow": null,
       "padding": null,
       "right": null,
       "top": null,
       "visibility": null,
       "width": null
      }
     },
     "edf1475b5ff64018bbc270e9bcbb4939": {
      "model_module": "@jupyter-widgets/controls",
      "model_module_version": "2.0.0",
      "model_name": "HTMLModel",
      "state": {
       "_dom_classes": [],
       "_model_module": "@jupyter-widgets/controls",
       "_model_module_version": "2.0.0",
       "_model_name": "HTMLModel",
       "_view_count": null,
       "_view_module": "@jupyter-widgets/controls",
       "_view_module_version": "2.0.0",
       "_view_name": "HTMLView",
       "description": "",
       "description_allow_html": false,
       "layout": "IPY_MODEL_ca163f5bbbe8419782ff3027cd1c3e4e",
       "placeholder": "​",
       "style": "IPY_MODEL_c14d4d833cea4c14b78152756e590a4c",
       "tabbable": null,
       "tooltip": null,
       "value": "<h5><a href=\"https://github.com/jupyter-server/jupyverse\">jupyter-server/jupyverse</a></h5>\n<ul>\n<li><a href=\"https://github.com/jupyter-server/jupyverse/issues/471\">(#471)</a>: <em>Move jupyverse to Jupyter PyPI organization</em> by <strong><a href=\"https://github.com/Zsailer\">@Zsailer</a></strong></li>\n<li><a href=\"https://github.com/jupyter-server/jupyverse/issues/236\">(#236)</a>: <em>Contents root_dir</em> by <strong><a href=\"https://github.com/davidbrochart\">@davidbrochart</a></strong></li>\n<li><a href=\"https://github.com/jupyter-server/jupyverse/issues/444\">(#444)</a>: <em>Rename mentions to <code>fps-</code>?</em> by <strong><a href=\"https://github.com/jtpio\">@jtpio</a></strong></li>\n</ul>"
      }
     },
     "f1253992a0bd40f9b5f16941624cbef8": {
      "model_module": "@jupyter-widgets/controls",
      "model_module_version": "2.0.0",
      "model_name": "HTMLModel",
      "state": {
       "_dom_classes": [],
       "_model_module": "@jupyter-widgets/controls",
       "_model_module_version": "2.0.0",
       "_model_name": "HTMLModel",
       "_view_count": null,
       "_view_module": "@jupyter-widgets/controls",
       "_view_module_version": "2.0.0",
       "_view_name": "HTMLView",
       "description": "",
       "description_allow_html": false,
       "layout": "IPY_MODEL_8d250af50ce34da48d167bea692d502f",
       "placeholder": "​",
       "style": "IPY_MODEL_4dbd370c986449968ff1a294e76d4268",
       "tabbable": null,
       "tooltip": null,
       "value": "<ul>\n<li>(22) Towards a new generic and composable server - team-compass - <a href=\"https://github.com/jupyter-server/team-compass/issues/11\">#11</a></li>\n<li>(11) Proposal: Restore Notebook execution progress when a browser page is reloaded - jupyter_server - <a href=\"https://github.com/jupyter-server/jupyter_server/issues/1274\">#1274</a></li>\n<li>(9) Feature Request: Health check for enterprise gateway - enterprise_gateway - <a href=\"https://github.com/jupyter-server/enterprise_gateway/issues/697\">#697</a></li>\n<li>(9) Add GPU usage? - jupyter-resource-usage - <a href=\"https://github.com/jupyter-server/jupyter-resource-usage/issues/12\">#12</a></li>\n<li>(8) 'NoneType' object has no attribute 'kernel_ws_protocol' - jupyter_server - <a href=\"https://github.com/jupyter-server/jupyter_server/issues/1265\">#1265</a></li>\n<li>(5) Automatically delete all old Notebook jobs - jupyter-scheduler - <a href=\"https://github.com/jupyter-server/jupyter-scheduler/issues/328\">#328</a></li>\n<li>(4) [Proposal] Jupyter Server should handle resolving kernel lifecycle and execution states. - jupyter_server - <a href=\"https://github.com/jupyter-server/jupyter_server/issues/990\">#990</a></li>\n<li>(4)  Adding a release date alongside the release tag would be useful - jupyter_releaser - <a href=\"https://github.com/jupyter-server/jupyter_releaser/issues/600\">#600</a></li>\n<li>(4) Run python script files as jobs - jupyter-scheduler - <a href=\"https://github.com/jupyter-server/jupyter-scheduler/issues/409\">#409</a></li>\n<li>(4) Websocket connect rejected - jupyverse - <a href=\"https://github.com/jupyter-server/jupyverse/issues/409\">#409</a></li>\n<li>(3) Metric Collection and Montioring - enterprise_gateway - <a href=\"https://github.com/jupyter-server/enterprise_gateway/issues/731\">#731</a></li>\n<li>(3) Enable users to access the jupyter server logs - jupyter_server - <a href=\"https://github.com/jupyter-server/jupyter_server/issues/684\">#684</a></li>\n<li>(3) Idea💡 Use Cloud Native K8S Jupyter Operator - enterprise_gateway - <a href=\"https://github.com/jupyter-server/enterprise_gateway/issues/1025\">#1025</a></li>\n<li>(3) Remove usages of tornado io_loop in favor of native asyncio - jupyter_server - <a href=\"https://github.com/jupyter-server/jupyter_server/issues/1362\">#1362</a></li>\n<li>(3) Tracking free-threading support - jupyter_server - <a href=\"https://github.com/jupyter-server/jupyter_server/issues/1473\">#1473</a></li>\n<li>(3) Add Security.txt File - jupyter_server - <a href=\"https://github.com/jupyter-server/jupyter_server/issues/249\">#249</a></li>\n<li>(3) Convert tests to pytest framework - enterprise_gateway - <a href=\"https://github.com/jupyter-server/enterprise_gateway/issues/1089\">#1089</a></li>\n<li>(3) Shutting down the server started with password pre-set will encounter an error <code>tornado.httpclient.HTTPClientError: HTTP 403: Forbidden</code> - jupyter_server - <a href=\"https://github.com/jupyter-server/jupyter_server/issues/1008\">#1008</a></li>\n<li>(3) Support websocket connections in notebook-http mode - kernel_gateway - <a href=\"https://github.com/jupyter-server/kernel_gateway/issues/60\">#60</a></li>\n<li>(3) Serve kernel WASM assets - jupyter_server - <a href=\"https://github.com/jupyter-server/jupyter_server/issues/1376\">#1376</a></li>\n<li>(3) Registering new file formats for the ContentsManager - jupyter_server - <a href=\"https://github.com/jupyter-server/jupyter_server/issues/1456\">#1456</a></li>\n<li>(2) Issue when using directory named \"checkpoints\" or \"trust\" - jupyter_server - <a href=\"https://github.com/jupyter-server/jupyter_server/issues/58\">#58</a></li>\n<li>(2) Populate release as part of the <code>Step 1: Prep Release</code> workflow? - jupyter_releaser - <a href=\"https://github.com/jupyter-server/jupyter_releaser/issues/552\">#552</a></li>\n<li>(2) Make frontends discoverable and add a frontend alias. - jupyter_server - <a href=\"https://github.com/jupyter-server/jupyter_server/issues/121\">#121</a></li>\n<li>(2) Queue of jobs with max concurrency - jupyter-scheduler - <a href=\"https://github.com/jupyter-server/jupyter-scheduler/issues/447\">#447</a></li>\n</ul>"
      }
     },
     "f19412a2c5194bde8166d16494737f93": {
      "model_module": "@jupyter-widgets/base",
      "model_module_version": "2.0.0",
      "model_name": "LayoutModel",
      "state": {
       "_model_module": "@jupyter-widgets/base",
       "_model_module_version": "2.0.0",
       "_model_name": "LayoutModel",
       "_view_count": null,
       "_view_module": "@jupyter-widgets/base",
       "_view_module_version": "2.0.0",
       "_view_name": "LayoutView",
       "align_content": null,
       "align_items": null,
       "align_self": null,
       "border_bottom": null,
       "border_left": null,
       "border_right": null,
       "border_top": null,
       "bottom": null,
       "display": null,
       "flex": null,
       "flex_flow": null,
       "grid_area": null,
       "grid_auto_columns": null,
       "grid_auto_flow": null,
       "grid_auto_rows": null,
       "grid_column": null,
       "grid_gap": null,
       "grid_row": null,
       "grid_template_areas": null,
       "grid_template_columns": null,
       "grid_template_rows": null,
       "height": null,
       "justify_content": null,
       "justify_items": null,
       "left": null,
       "margin": null,
       "max_height": null,
       "max_width": null,
       "min_height": null,
       "min_width": null,
       "object_fit": null,
       "object_position": null,
       "order": null,
       "overflow": null,
       "padding": null,
       "right": null,
       "top": null,
       "visibility": null,
       "width": null
      }
     },
     "f257c13f3d2041c1b8f4cc6d0975911e": {
      "model_module": "@jupyter-widgets/controls",
      "model_module_version": "2.0.0",
      "model_name": "HTMLModel",
      "state": {
       "_dom_classes": [],
       "_model_module": "@jupyter-widgets/controls",
       "_model_module_version": "2.0.0",
       "_model_name": "HTMLModel",
       "_view_count": null,
       "_view_module": "@jupyter-widgets/controls",
       "_view_module_version": "2.0.0",
       "_view_name": "HTMLView",
       "description": "",
       "description_allow_html": false,
       "layout": "IPY_MODEL_2e243ed73255483a8040389c1ed4c046",
       "placeholder": "​",
       "style": "IPY_MODEL_1e478189e84c44dca4442d72d537913b",
       "tabbable": null,
       "tooltip": null,
       "value": "<h5><a href=\"https://github.com/jupyter-server/fps\">jupyter-server/fps</a></h5>\n<ul>\n<li><a href=\"https://github.com/jupyter-server/fps/issues/112\">(#112)</a>: <em>Move fps to Jupyter PyPI organization</em> by <strong><a href=\"https://github.com/Zsailer\">@Zsailer</a></strong></li>\n<li><a href=\"https://github.com/jupyter-server/fps/issues/44\">(#44)</a>: <em>Forward CLI args to application</em> by <strong><a href=\"https://github.com/davidbrochart\">@davidbrochart</a></strong></li>\n<li><a href=\"https://github.com/jupyter-server/fps/issues/54\">(#54)</a>: <em>Run-time plugin router definition</em> by <strong><a href=\"https://github.com/davidbrochart\">@davidbrochart</a></strong></li>\n</ul>"
      }
     },
     "f5ed7fdc3c0742feab0f3a5a4a28cf3d": {
      "model_module": "@jupyter-widgets/base",
      "model_module_version": "2.0.0",
      "model_name": "LayoutModel",
      "state": {
       "_model_module": "@jupyter-widgets/base",
       "_model_module_version": "2.0.0",
       "_model_name": "LayoutModel",
       "_view_count": null,
       "_view_module": "@jupyter-widgets/base",
       "_view_module_version": "2.0.0",
       "_view_name": "LayoutView",
       "align_content": null,
       "align_items": null,
       "align_self": null,
       "border_bottom": null,
       "border_left": null,
       "border_right": null,
       "border_top": null,
       "bottom": null,
       "display": null,
       "flex": null,
       "flex_flow": null,
       "grid_area": null,
       "grid_auto_columns": null,
       "grid_auto_flow": null,
       "grid_auto_rows": null,
       "grid_column": null,
       "grid_gap": null,
       "grid_row": null,
       "grid_template_areas": null,
       "grid_template_columns": null,
       "grid_template_rows": null,
       "height": null,
       "justify_content": null,
       "justify_items": null,
       "left": null,
       "margin": null,
       "max_height": null,
       "max_width": null,
       "min_height": null,
       "min_width": null,
       "object_fit": null,
       "object_position": null,
       "order": null,
       "overflow": null,
       "padding": null,
       "right": null,
       "top": null,
       "visibility": null,
       "width": null
      }
     },
     "f9ec7167028c42d89e6e709c74372fb3": {
      "model_module": "@jupyter-widgets/controls",
      "model_module_version": "2.0.0",
      "model_name": "HTMLStyleModel",
      "state": {
       "_model_module": "@jupyter-widgets/controls",
       "_model_module_version": "2.0.0",
       "_model_name": "HTMLStyleModel",
       "_view_count": null,
       "_view_module": "@jupyter-widgets/base",
       "_view_module_version": "2.0.0",
       "_view_name": "StyleView",
       "background": null,
       "description_width": "",
       "font_size": null,
       "text_color": null
      }
     },
     "ffdb1d69f73440439c01f348d3ac939f": {
      "model_module": "@jupyter-widgets/controls",
      "model_module_version": "2.0.0",
      "model_name": "HTMLModel",
      "state": {
       "_dom_classes": [],
       "_model_module": "@jupyter-widgets/controls",
       "_model_module_version": "2.0.0",
       "_model_name": "HTMLModel",
       "_view_count": null,
       "_view_module": "@jupyter-widgets/controls",
       "_view_module_version": "2.0.0",
       "_view_name": "HTMLView",
       "description": "",
       "description_allow_html": false,
       "layout": "IPY_MODEL_f5ed7fdc3c0742feab0f3a5a4a28cf3d",
       "placeholder": "​",
       "style": "IPY_MODEL_56d00c6de6354484b9696e4007121c02",
       "tabbable": null,
       "tooltip": null,
       "value": "<h5><a href=\"https://github.com/jupyter-server/kernel_gateway\">jupyter-server/kernel_gateway</a></h5>\n<ul>\n<li><a href=\"https://github.com/jupyter-server/kernel_gateway/issues/398\">(#398)</a>: <em>CLI fails to start on windows with signal import issue</em> by <strong><a href=\"https://github.com/jackgerrits\">@jackgerrits</a></strong></li>\n</ul>"
      }
     }
    },
    "version_major": 2,
    "version_minor": 0
   }
  }
 },
 "nbformat": 4,
 "nbformat_minor": 5
}