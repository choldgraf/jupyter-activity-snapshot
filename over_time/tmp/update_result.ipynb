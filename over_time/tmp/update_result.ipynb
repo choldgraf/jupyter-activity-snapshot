{
 "cells": [
  {
   "cell_type": "markdown",
   "metadata": {
    "papermill": {
     "duration": 0.15367,
     "end_time": "2019-07-23T16:29:27.723347",
     "exception": false,
     "start_time": "2019-07-23T16:29:27.569677",
     "status": "completed"
    },
    "tags": []
   },
   "source": [
    "# Update data\n",
    "\n",
    "This notebook downlads recent GitHub activity for a number of organizations.\n",
    "\n",
    "It will extract all issues, PRs, and comments that were updated within a\n",
    "window of interest. It will then save them to disk as CSV files."
   ]
  },
  {
   "cell_type": "code",
   "execution_count": 1,
   "metadata": {
    "papermill": {
     "duration": 1.70884,
     "end_time": "2019-07-23T16:29:29.499099",
     "exception": false,
     "start_time": "2019-07-23T16:29:27.790259",
     "status": "completed"
    },
    "tags": [
     "hide_input"
    ]
   },
   "outputs": [],
   "source": [
    "import requests\n",
    "import pandas as pd\n",
    "import numpy as np\n",
    "import os\n",
    "from datetime import timedelta"
   ]
  },
  {
   "cell_type": "code",
   "execution_count": 2,
   "metadata": {
    "papermill": {
     "duration": 0.115539,
     "end_time": "2019-07-23T16:29:29.664867",
     "exception": false,
     "start_time": "2019-07-23T16:29:29.549328",
     "status": "completed"
    },
    "tags": [
     "parameters",
     "hide_input"
    ]
   },
   "outputs": [],
   "source": [
    "fmt = \"{:%Y-%m-%d}\"\n",
    "\n",
    "# Can optionally use number of days to choose dates\n",
    "n_days = 365\n",
    "end_date = fmt.format(pd.datetime.today())\n",
    "start_date = fmt.format(pd.datetime.today() - timedelta(days=n_days))\n",
    "update_data = False\n",
    "\n",
    "github_orgs = [\"jupyterhub\", \"jupyter\", \"jupyterlab\", \"jupyter-widgets\", \"ipython\", \"binder-examples\", \"nteract\"]"
   ]
  },
  {
   "cell_type": "code",
   "execution_count": 3,
   "metadata": {
    "papermill": {
     "duration": 0.059955,
     "end_time": "2019-07-23T16:29:29.784558",
     "exception": false,
     "start_time": "2019-07-23T16:29:29.724603",
     "status": "completed"
    },
    "tags": [
     "injected-parameters"
    ]
   },
   "outputs": [],
   "source": [
    "# Parameters\n",
    "end_date = \"2019-07-23\"\n",
    "start_date = \"2019-06-23\"\n",
    "renderer = \"kaggle\"\n",
    "update_data = True\n"
   ]
  },
  {
   "cell_type": "code",
   "execution_count": 4,
   "metadata": {
    "papermill": {
     "duration": 0.493513,
     "end_time": "2019-07-23T16:29:30.313936",
     "exception": false,
     "start_time": "2019-07-23T16:29:29.820423",
     "status": "completed"
    },
    "tags": []
   },
   "outputs": [],
   "source": [
    "if update_data is True:\n",
    "    # Load in previous data if we have it\n",
    "    path_prs = './data/prs.csv'\n",
    "    path_issues = './data/issues.csv'\n",
    "    path_comments = './data/comments.csv'\n",
    "    prs_old = pd.read_csv(path_prs, index_col=0)\n",
    "    issues_old = pd.read_csv(path_issues, index_col=0)\n",
    "    comments_old = pd.read_csv(path_comments, index_col=0)\n",
    "\n",
    "    # The latest updated time, we'll update `start_date` so we don't re-download unnecessarily\n",
    "    latest_date = pd.to_datetime(comments_old['updatedAt'].max())\n",
    "    start_date = fmt.format(latest_date)"
   ]
  },
  {
   "cell_type": "code",
   "execution_count": 5,
   "metadata": {
    "papermill": {
     "duration": 0.06152,
     "end_time": "2019-07-23T16:29:30.423776",
     "exception": false,
     "start_time": "2019-07-23T16:29:30.362256",
     "status": "completed"
    },
    "tags": []
   },
   "outputs": [],
   "source": [
    "# Calculate number of days to include in plots\n",
    "n_days = (pd.to_datetime(end_date) - pd.to_datetime(start_date)).days"
   ]
  },
  {
   "cell_type": "code",
   "execution_count": 6,
   "metadata": {
    "papermill": {
     "duration": 0.040282,
     "end_time": "2019-07-23T16:29:30.492918",
     "exception": false,
     "start_time": "2019-07-23T16:29:30.452636",
     "status": "completed"
    },
    "tags": []
   },
   "outputs": [],
   "source": [
    "comments_query = \"\"\"\\\n",
    "        comments(last: 50) {\n",
    "          edges {\n",
    "            node {\n",
    "              authorAssociation\n",
    "              createdAt\n",
    "              updatedAt\n",
    "              url\n",
    "              author {\n",
    "                login\n",
    "              }\n",
    "            }\n",
    "          }\n",
    "        }\n",
    "\"\"\"\n",
    "\n",
    "base_elements = \"\"\"\\\n",
    "        state\n",
    "        id\n",
    "        title\n",
    "        url\n",
    "        createdAt\n",
    "        updatedAt\n",
    "        closedAt\n",
    "        number\n",
    "        authorAssociation\n",
    "        author {\n",
    "          login\n",
    "        }\n",
    "\"\"\"\n",
    "\n",
    "gql_template = \"\"\"\\\n",
    "{{\n",
    "  search({query}) {{\n",
    "    issueCount\n",
    "    pageInfo {{\n",
    "        endCursor\n",
    "        hasNextPage\n",
    "    }}\n",
    "    nodes {{\n",
    "      ... on PullRequest {{\n",
    "        {base_elements}\n",
    "        mergedBy {{\n",
    "          login\n",
    "        }}\n",
    "        {comments}\n",
    "      }}\n",
    "      ... on Issue {{\n",
    "        {base_elements}\n",
    "        {comments}\n",
    "      }}\n",
    "    }}\n",
    "  }}\n",
    "}}\n",
    "\"\"\""
   ]
  },
  {
   "cell_type": "code",
   "execution_count": 7,
   "metadata": {
    "papermill": {
     "duration": 0.305562,
     "end_time": "2019-07-23T16:29:30.822725",
     "exception": false,
     "start_time": "2019-07-23T16:29:30.517163",
     "status": "completed"
    },
    "tags": []
   },
   "outputs": [],
   "source": [
    "# Define our query object that we'll re-use for github search\n",
    "class GitHubGraphQlQuery():\n",
    "    def __init__(self, query):\n",
    "        self.query = query\n",
    "        self.headers = {\"Authorization\": \"Bearer %s\" % os.environ['GITHUB_ACCESS_TOKEN']}\n",
    "        self.gql_template = gql_template\n",
    "\n",
    "    def request(self, n_pages=100, n_per_page=50):\n",
    "        self.raw_data = []\n",
    "        for ii in range(n_pages):\n",
    "            search_query = [\"first: %s\" % n_per_page, 'query: \"%s\"' % self.query, 'type: ISSUE']\n",
    "            if ii != 0:\n",
    "                search_query.append('after: \"%s\"' % pageInfo['endCursor'])\n",
    "\n",
    "            this_query = self.gql_template.format(\n",
    "                query=', '.join(search_query),\n",
    "                comments=comments_query,\n",
    "                base_elements=base_elements\n",
    "            )\n",
    "            request = requests.post('https://api.github.com/graphql', json={'query': this_query}, headers=self.headers)\n",
    "            if request.status_code != 200:\n",
    "                raise Exception(\"Query failed to run by returning code of {}. {}\".format(request.status_code, this_query))\n",
    "            if \"errors\" in request.json().keys():\n",
    "                raise Exception(\"Query failed to run with error {}. {}\".format(request.json()['errors'], this_query))\n",
    "            self.request = request\n",
    "\n",
    "            # Parse the response\n",
    "            json = request.json()['data']['search']\n",
    "            if ii == 0:\n",
    "                print(\"Found {} items, which will take {} pages\".format(json['issueCount'], int(np.ceil(json['issueCount'] / n_per_page))))\n",
    "            self.raw_data.append(json)\n",
    "            pageInfo = json['pageInfo']\n",
    "            self.last_query = this_query\n",
    "            if pageInfo['hasNextPage'] is False:\n",
    "                break\n",
    "        \n",
    "        if self.raw_data[0]['issueCount'] == 0:\n",
    "            print(\"Found no entries for query {}\".format(self.query))\n",
    "            self.data = None\n",
    "            return\n",
    "        \n",
    "        # Add some extra fields\n",
    "        self.data = pd.DataFrame([jj for ii in self.raw_data for jj in ii['nodes']])\n",
    "        self.data['author'] = self.data['author'].map(lambda a: a['login'] if a is not None else a)\n",
    "        self.data['org'] = self.data['url'].map(lambda a: a.split('/')[3])\n",
    "        self.data['repo'] = self.data['url'].map(lambda a: a.split('/')[4])"
   ]
  },
  {
   "cell_type": "code",
   "execution_count": 8,
   "metadata": {
    "papermill": {
     "duration": 0.135098,
     "end_time": "2019-07-23T16:29:31.022093",
     "exception": false,
     "start_time": "2019-07-23T16:29:30.886995",
     "status": "completed"
    },
    "tags": []
   },
   "outputs": [],
   "source": [
    "def extract_comments(comments):\n",
    "    list_of_comments = [ii['edges'] for ii in comments]\n",
    "    comments = [jj['node'] for ii in list_of_comments for jj in ii]\n",
    "    comments = pd.DataFrame(comments)\n",
    "    comments['author'] = comments['author'].map(lambda a: a['login'] if a is not None else a)\n",
    "    \n",
    "    # Parse some data about the comments\n",
    "    url_parts = [ii.split('/') for ii in comments['url'].values]\n",
    "    url_parts = np.array([(ii[3], ii[4], ii[6]) for ii in url_parts])\n",
    "    orgs, repos, url_parts = url_parts.T\n",
    "\n",
    "    issue_id = [ii.split('#')[0] for ii in url_parts]\n",
    "    comment_id = [ii.split('-')[-1] for ii in url_parts]\n",
    "\n",
    "    # Assign new variables\n",
    "    comments['org'] = orgs\n",
    "    comments['repo'] = repos\n",
    "    comments['issue_id'] = issue_id\n",
    "    comments['id'] = comment_id\n",
    "    return comments"
   ]
  },
  {
   "cell_type": "markdown",
   "metadata": {
    "papermill": {
     "duration": 0.047106,
     "end_time": "2019-07-23T16:29:31.115429",
     "exception": false,
     "start_time": "2019-07-23T16:29:31.068323",
     "status": "completed"
    },
    "tags": []
   },
   "source": [
    "# GitHub activity\n",
    "\n",
    "Jupyter also has lots of activity across GitHub repositories. The following sections contain\n",
    "overviews of recent activity across the following GitHub organizations:"
   ]
  },
  {
   "cell_type": "markdown",
   "metadata": {
    "papermill": {
     "duration": 0.063263,
     "end_time": "2019-07-23T16:29:31.267255",
     "exception": false,
     "start_time": "2019-07-23T16:29:31.203992",
     "status": "completed"
    },
    "tags": []
   },
   "source": [
    "## Update issues"
   ]
  },
  {
   "cell_type": "code",
   "execution_count": 9,
   "metadata": {
    "papermill": {
     "duration": 9.549166,
     "end_time": "2019-07-23T16:29:40.863154",
     "exception": false,
     "start_time": "2019-07-23T16:29:31.313988",
     "status": "completed"
    },
    "tags": []
   },
   "outputs": [
    {
     "name": "stdout",
     "output_type": "stream",
     "text": [
      "Found 30 items, which will take 1 pages\n"
     ]
    },
    {
     "name": "stdout",
     "output_type": "stream",
     "text": [
      "Found 32 items, which will take 1 pages\n"
     ]
    },
    {
     "name": "stdout",
     "output_type": "stream",
     "text": [
      "Found 37 items, which will take 1 pages\n"
     ]
    },
    {
     "name": "stdout",
     "output_type": "stream",
     "text": [
      "Found 4 items, which will take 1 pages\n"
     ]
    },
    {
     "name": "stdout",
     "output_type": "stream",
     "text": [
      "Found 7 items, which will take 1 pages\n"
     ]
    },
    {
     "name": "stdout",
     "output_type": "stream",
     "text": [
      "Found 0 items, which will take 0 pages\n",
      "Found no entries for query is:issue user:binder-examples updated:2019-07-21..2019-07-23\n"
     ]
    },
    {
     "name": "stdout",
     "output_type": "stream",
     "text": [
      "Found 22 items, which will take 1 pages\n"
     ]
    }
   ],
   "source": [
    "responses = []\n",
    "for org in github_orgs:\n",
    "    query_issues = f\"is:issue user:{org} updated:{start_date}..{end_date}\"\n",
    "    ghq = GitHubGraphQlQuery(query_issues)\n",
    "    ghq.request()\n",
    "    if ghq.data is None:\n",
    "        continue\n",
    "    responses.append(ghq)\n",
    "\n",
    "issues = pd.concat([ii.data for ii in responses])\n",
    "issues_comments = issues.pop(\"comments\")\n",
    "issues_comments = extract_comments(issues_comments)"
   ]
  },
  {
   "cell_type": "markdown",
   "metadata": {
    "papermill": {
     "duration": 0.140216,
     "end_time": "2019-07-23T16:29:41.104638",
     "exception": false,
     "start_time": "2019-07-23T16:29:40.964422",
     "status": "completed"
    },
    "tags": []
   },
   "source": [
    "## Update PRs"
   ]
  },
  {
   "cell_type": "code",
   "execution_count": 10,
   "metadata": {
    "papermill": {
     "duration": 4.675658,
     "end_time": "2019-07-23T16:29:45.845239",
     "exception": false,
     "start_time": "2019-07-23T16:29:41.169581",
     "status": "completed"
    },
    "tags": []
   },
   "outputs": [
    {
     "name": "stdout",
     "output_type": "stream",
     "text": [
      "Found 2 items, which will take 1 pages\n"
     ]
    },
    {
     "name": "stdout",
     "output_type": "stream",
     "text": [
      "Found 4 items, which will take 1 pages\n"
     ]
    },
    {
     "name": "stdout",
     "output_type": "stream",
     "text": [
      "Found 9 items, which will take 1 pages\n"
     ]
    },
    {
     "name": "stdout",
     "output_type": "stream",
     "text": [
      "Found 0 items, which will take 0 pages\n",
      "Found no entries for query is:pr user:jupyter-widgets created:2019-07-21..2019-07-23\n"
     ]
    },
    {
     "name": "stdout",
     "output_type": "stream",
     "text": [
      "Found 3 items, which will take 1 pages\n"
     ]
    },
    {
     "name": "stdout",
     "output_type": "stream",
     "text": [
      "Found 0 items, which will take 0 pages\n",
      "Found no entries for query is:pr user:binder-examples created:2019-07-21..2019-07-23\n"
     ]
    },
    {
     "name": "stdout",
     "output_type": "stream",
     "text": [
      "Found 2 items, which will take 1 pages\n"
     ]
    }
   ],
   "source": [
    "responses = []\n",
    "for org in github_orgs:\n",
    "    query_prs = f\"is:pr user:{org} created:{start_date}..{end_date}\"\n",
    "    ghq = GitHubGraphQlQuery(query_prs)\n",
    "    ghq.request()\n",
    "    if ghq.data is None:\n",
    "        continue\n",
    "    responses.append(ghq)\n",
    "    \n",
    "prs = pd.concat([ii.data for ii in responses])\n",
    "prs_comments = prs.pop('comments')\n",
    "prs_comments = extract_comments(prs_comments)"
   ]
  },
  {
   "cell_type": "code",
   "execution_count": 11,
   "metadata": {
    "papermill": {
     "duration": 0.12418,
     "end_time": "2019-07-23T16:29:46.029785",
     "exception": false,
     "start_time": "2019-07-23T16:29:45.905605",
     "status": "completed"
    },
    "tags": []
   },
   "outputs": [],
   "source": [
    "# Add a PR-specific field for closed PRs\n",
    "prs['mergedBy'] = prs['mergedBy'].map(lambda a: a['login'] if a is not None else None)"
   ]
  },
  {
   "cell_type": "markdown",
   "metadata": {
    "papermill": {
     "duration": 0.057212,
     "end_time": "2019-07-23T16:29:46.194924",
     "exception": false,
     "start_time": "2019-07-23T16:29:46.137712",
     "status": "completed"
    },
    "tags": []
   },
   "source": [
    "## Combine comments"
   ]
  },
  {
   "cell_type": "code",
   "execution_count": 12,
   "metadata": {
    "papermill": {
     "duration": 0.108409,
     "end_time": "2019-07-23T16:29:46.362491",
     "exception": false,
     "start_time": "2019-07-23T16:29:46.254082",
     "status": "completed"
    },
    "tags": []
   },
   "outputs": [],
   "source": [
    "comments = pd.concat([prs_comments, issues_comments])\n",
    "\n",
    "# Only keep the comments within our window of interest\n",
    "comments = comments.query('updatedAt > @start_date and updatedAt < @end_date')"
   ]
  },
  {
   "cell_type": "markdown",
   "metadata": {
    "papermill": {
     "duration": 0.075759,
     "end_time": "2019-07-23T16:29:46.490372",
     "exception": false,
     "start_time": "2019-07-23T16:29:46.414613",
     "status": "completed"
    },
    "tags": []
   },
   "source": [
    "## Update the data"
   ]
  },
  {
   "cell_type": "code",
   "execution_count": 13,
   "metadata": {
    "papermill": {
     "duration": 0.260282,
     "end_time": "2019-07-23T16:29:46.806585",
     "exception": false,
     "start_time": "2019-07-23T16:29:46.546303",
     "status": "completed"
    },
    "tags": []
   },
   "outputs": [],
   "source": [
    "if update_data is True:\n",
    "    comments_new = pd.concat([comments_old, comments]).drop_duplicates(subset=['id'], keep='last').sort_values('createdAt', ascending=False)\n",
    "    issues_new = pd.concat([issues_old, issues]).drop_duplicates(subset=['id'], keep='last').sort_values('createdAt', ascending=False)\n",
    "    prs_new = pd.concat([prs_old, prs]).drop_duplicates(subset=['id'], keep='last').sort_values('createdAt', ascending=False)\n",
    "else:\n",
    "    comments_new = comments\n",
    "    issues_new = issues\n",
    "    prs_new = prs"
   ]
  },
  {
   "cell_type": "markdown",
   "metadata": {
    "papermill": {
     "duration": 0.068434,
     "end_time": "2019-07-23T16:29:46.922295",
     "exception": false,
     "start_time": "2019-07-23T16:29:46.853861",
     "status": "completed"
    },
    "tags": []
   },
   "source": [
    "## Save the data"
   ]
  },
  {
   "cell_type": "code",
   "execution_count": 14,
   "metadata": {
    "papermill": {
     "duration": 0.825275,
     "end_time": "2019-07-23T16:29:47.804190",
     "exception": false,
     "start_time": "2019-07-23T16:29:46.978915",
     "status": "completed"
    },
    "tags": []
   },
   "outputs": [],
   "source": [
    "prs_new.to_csv('./data/prs.csv')\n",
    "issues_new.to_csv('./data/issues.csv')\n",
    "comments_new.to_csv('./data/comments.csv')"
   ]
  },
  {
   "cell_type": "markdown",
   "metadata": {
    "papermill": {
     "duration": 0.096714,
     "end_time": "2019-07-23T16:29:47.993869",
     "exception": false,
     "start_time": "2019-07-23T16:29:47.897155",
     "status": "completed"
    },
    "tags": []
   },
   "source": [
    "## View the data"
   ]
  },
  {
   "cell_type": "code",
   "execution_count": 15,
   "metadata": {
    "papermill": {
     "duration": 0.218793,
     "end_time": "2019-07-23T16:29:48.307946",
     "exception": false,
     "start_time": "2019-07-23T16:29:48.089153",
     "status": "completed"
    },
    "tags": []
   },
   "outputs": [
    {
     "data": {
      "text/html": [
       "<div>\n",
       "<style scoped>\n",
       "    .dataframe tbody tr th:only-of-type {\n",
       "        vertical-align: middle;\n",
       "    }\n",
       "\n",
       "    .dataframe tbody tr th {\n",
       "        vertical-align: top;\n",
       "    }\n",
       "\n",
       "    .dataframe thead th {\n",
       "        text-align: right;\n",
       "    }\n",
       "</style>\n",
       "<table border=\"1\" class=\"dataframe\">\n",
       "  <thead>\n",
       "    <tr style=\"text-align: right;\">\n",
       "      <th></th>\n",
       "      <th>author</th>\n",
       "      <th>authorAssociation</th>\n",
       "      <th>closedAt</th>\n",
       "      <th>createdAt</th>\n",
       "      <th>id</th>\n",
       "      <th>number</th>\n",
       "      <th>state</th>\n",
       "      <th>title</th>\n",
       "      <th>updatedAt</th>\n",
       "      <th>url</th>\n",
       "      <th>org</th>\n",
       "      <th>repo</th>\n",
       "    </tr>\n",
       "  </thead>\n",
       "  <tbody>\n",
       "    <tr>\n",
       "      <th>0</th>\n",
       "      <td>ericdill</td>\n",
       "      <td>NONE</td>\n",
       "      <td>None</td>\n",
       "      <td>2019-07-23T16:25:28Z</td>\n",
       "      <td>MDU6SXNzdWU0NzE3OTUwMzg=</td>\n",
       "      <td>416</td>\n",
       "      <td>OPEN</td>\n",
       "      <td>Adding support for activating conda environmen...</td>\n",
       "      <td>2019-07-23T16:28:45Z</td>\n",
       "      <td>https://github.com/ipython/ipykernel/issues/416</td>\n",
       "      <td>ipython</td>\n",
       "      <td>ipykernel</td>\n",
       "    </tr>\n",
       "    <tr>\n",
       "      <th>0</th>\n",
       "      <td>psychemedia</td>\n",
       "      <td>NONE</td>\n",
       "      <td>None</td>\n",
       "      <td>2019-07-23T16:18:39Z</td>\n",
       "      <td>MDU6SXNzdWU0NzE3OTE4NTk=</td>\n",
       "      <td>1166</td>\n",
       "      <td>OPEN</td>\n",
       "      <td>Struggling with install - formgrader 404</td>\n",
       "      <td>2019-07-23T16:22:07Z</td>\n",
       "      <td>https://github.com/jupyter/nbgrader/issues/1166</td>\n",
       "      <td>jupyter</td>\n",
       "      <td>nbgrader</td>\n",
       "    </tr>\n",
       "    <tr>\n",
       "      <th>0</th>\n",
       "      <td>rkdarst</td>\n",
       "      <td>NONE</td>\n",
       "      <td>None</td>\n",
       "      <td>2019-07-23T15:22:52Z</td>\n",
       "      <td>MDU6SXNzdWU0NzE3NjI3MjI=</td>\n",
       "      <td>339</td>\n",
       "      <td>OPEN</td>\n",
       "      <td>Wierdness in ordering of pre_spawn_hook and lo...</td>\n",
       "      <td>2019-07-23T15:22:52Z</td>\n",
       "      <td>https://github.com/jupyterhub/kubespawner/issu...</td>\n",
       "      <td>jupyterhub</td>\n",
       "      <td>kubespawner</td>\n",
       "    </tr>\n",
       "    <tr>\n",
       "      <th>0</th>\n",
       "      <td>dmarth</td>\n",
       "      <td>NONE</td>\n",
       "      <td>None</td>\n",
       "      <td>2019-07-23T14:24:33Z</td>\n",
       "      <td>MDU6SXNzdWU0NzE3Mjg2NzU=</td>\n",
       "      <td>6874</td>\n",
       "      <td>OPEN</td>\n",
       "      <td>Filebrowser extension: configurable initial path</td>\n",
       "      <td>2019-07-23T14:24:33Z</td>\n",
       "      <td>https://github.com/jupyterlab/jupyterlab/issue...</td>\n",
       "      <td>jupyterlab</td>\n",
       "      <td>jupyterlab</td>\n",
       "    </tr>\n",
       "    <tr>\n",
       "      <th>1</th>\n",
       "      <td>vijaysaimutyala</td>\n",
       "      <td>NONE</td>\n",
       "      <td>None</td>\n",
       "      <td>2019-07-23T12:53:05Z</td>\n",
       "      <td>MDU6SXNzdWU0NzE2Nzk0OTk=</td>\n",
       "      <td>4778</td>\n",
       "      <td>OPEN</td>\n",
       "      <td>Get the output of the executed cell in Jupyter...</td>\n",
       "      <td>2019-07-23T12:56:30Z</td>\n",
       "      <td>https://github.com/jupyter/notebook/issues/4778</td>\n",
       "      <td>jupyter</td>\n",
       "      <td>notebook</td>\n",
       "    </tr>\n",
       "    <tr>\n",
       "      <th>1</th>\n",
       "      <td>JulianTBZ</td>\n",
       "      <td>NONE</td>\n",
       "      <td>None</td>\n",
       "      <td>2019-07-23T09:00:40Z</td>\n",
       "      <td>MDU6SXNzdWU0NzE1NzExNzA=</td>\n",
       "      <td>278</td>\n",
       "      <td>OPEN</td>\n",
       "      <td>Tenant-ID</td>\n",
       "      <td>2019-07-23T09:00:40Z</td>\n",
       "      <td>https://github.com/jupyterhub/oauthenticator/i...</td>\n",
       "      <td>jupyterhub</td>\n",
       "      <td>oauthenticator</td>\n",
       "    </tr>\n",
       "    <tr>\n",
       "      <th>1</th>\n",
       "      <td>daejong123</td>\n",
       "      <td>NONE</td>\n",
       "      <td>None</td>\n",
       "      <td>2019-07-23T05:44:57Z</td>\n",
       "      <td>MDU6SXNzdWU0NzE0OTY5NTQ=</td>\n",
       "      <td>6872</td>\n",
       "      <td>OPEN</td>\n",
       "      <td>How simultaneously executing code in terminal?</td>\n",
       "      <td>2019-07-23T05:44:57Z</td>\n",
       "      <td>https://github.com/jupyterlab/jupyterlab/issue...</td>\n",
       "      <td>jupyterlab</td>\n",
       "      <td>jupyterlab</td>\n",
       "    </tr>\n",
       "    <tr>\n",
       "      <th>2</th>\n",
       "      <td>jaipreet-s</td>\n",
       "      <td>NONE</td>\n",
       "      <td>None</td>\n",
       "      <td>2019-07-23T03:34:09Z</td>\n",
       "      <td>MDU6SXNzdWU0NzE0NzAwNDg=</td>\n",
       "      <td>8</td>\n",
       "      <td>OPEN</td>\n",
       "      <td>JupyterLab Pull Requests Extension</td>\n",
       "      <td>2019-07-23T03:34:09Z</td>\n",
       "      <td>https://github.com/jupyterlab/team-compass/iss...</td>\n",
       "      <td>jupyterlab</td>\n",
       "      <td>team-compass</td>\n",
       "    </tr>\n",
       "    <tr>\n",
       "      <th>0</th>\n",
       "      <td>todo</td>\n",
       "      <td>NONE</td>\n",
       "      <td>None</td>\n",
       "      <td>2019-07-23T02:46:51Z</td>\n",
       "      <td>MDU6SXNzdWU0NzE0NTk4MTI=</td>\n",
       "      <td>4499</td>\n",
       "      <td>OPEN</td>\n",
       "      <td>All the `&lt;li&gt;` below that have role button sho...</td>\n",
       "      <td>2019-07-23T02:46:52Z</td>\n",
       "      <td>https://github.com/nteract/nteract/issues/4499</td>\n",
       "      <td>nteract</td>\n",
       "      <td>nteract</td>\n",
       "    </tr>\n",
       "    <tr>\n",
       "      <th>2</th>\n",
       "      <td>fomightez</td>\n",
       "      <td>CONTRIBUTOR</td>\n",
       "      <td>None</td>\n",
       "      <td>2019-07-23T02:31:30Z</td>\n",
       "      <td>MDU6SXNzdWU0NzE0NTY2MTk=</td>\n",
       "      <td>751</td>\n",
       "      <td>OPEN</td>\n",
       "      <td>runtime.txt for installing R and requirements....</td>\n",
       "      <td>2019-07-23T14:38:50Z</td>\n",
       "      <td>https://github.com/jupyter/repo2docker/issues/751</td>\n",
       "      <td>jupyter</td>\n",
       "      <td>repo2docker</td>\n",
       "    </tr>\n",
       "  </tbody>\n",
       "</table>\n",
       "</div>"
      ],
      "text/plain": [
       "            author authorAssociation closedAt             createdAt  \\\n",
       "0         ericdill              NONE     None  2019-07-23T16:25:28Z   \n",
       "0      psychemedia              NONE     None  2019-07-23T16:18:39Z   \n",
       "0          rkdarst              NONE     None  2019-07-23T15:22:52Z   \n",
       "0           dmarth              NONE     None  2019-07-23T14:24:33Z   \n",
       "1  vijaysaimutyala              NONE     None  2019-07-23T12:53:05Z   \n",
       "1        JulianTBZ              NONE     None  2019-07-23T09:00:40Z   \n",
       "1       daejong123              NONE     None  2019-07-23T05:44:57Z   \n",
       "2       jaipreet-s              NONE     None  2019-07-23T03:34:09Z   \n",
       "0             todo              NONE     None  2019-07-23T02:46:51Z   \n",
       "2        fomightez       CONTRIBUTOR     None  2019-07-23T02:31:30Z   \n",
       "\n",
       "                         id  number state  \\\n",
       "0  MDU6SXNzdWU0NzE3OTUwMzg=     416  OPEN   \n",
       "0  MDU6SXNzdWU0NzE3OTE4NTk=    1166  OPEN   \n",
       "0  MDU6SXNzdWU0NzE3NjI3MjI=     339  OPEN   \n",
       "0  MDU6SXNzdWU0NzE3Mjg2NzU=    6874  OPEN   \n",
       "1  MDU6SXNzdWU0NzE2Nzk0OTk=    4778  OPEN   \n",
       "1  MDU6SXNzdWU0NzE1NzExNzA=     278  OPEN   \n",
       "1  MDU6SXNzdWU0NzE0OTY5NTQ=    6872  OPEN   \n",
       "2  MDU6SXNzdWU0NzE0NzAwNDg=       8  OPEN   \n",
       "0  MDU6SXNzdWU0NzE0NTk4MTI=    4499  OPEN   \n",
       "2  MDU6SXNzdWU0NzE0NTY2MTk=     751  OPEN   \n",
       "\n",
       "                                               title             updatedAt  \\\n",
       "0  Adding support for activating conda environmen...  2019-07-23T16:28:45Z   \n",
       "0           Struggling with install - formgrader 404  2019-07-23T16:22:07Z   \n",
       "0  Wierdness in ordering of pre_spawn_hook and lo...  2019-07-23T15:22:52Z   \n",
       "0   Filebrowser extension: configurable initial path  2019-07-23T14:24:33Z   \n",
       "1  Get the output of the executed cell in Jupyter...  2019-07-23T12:56:30Z   \n",
       "1                                          Tenant-ID  2019-07-23T09:00:40Z   \n",
       "1     How simultaneously executing code in terminal?  2019-07-23T05:44:57Z   \n",
       "2                 JupyterLab Pull Requests Extension  2019-07-23T03:34:09Z   \n",
       "0  All the `<li>` below that have role button sho...  2019-07-23T02:46:52Z   \n",
       "2  runtime.txt for installing R and requirements....  2019-07-23T14:38:50Z   \n",
       "\n",
       "                                                 url         org  \\\n",
       "0    https://github.com/ipython/ipykernel/issues/416     ipython   \n",
       "0    https://github.com/jupyter/nbgrader/issues/1166     jupyter   \n",
       "0  https://github.com/jupyterhub/kubespawner/issu...  jupyterhub   \n",
       "0  https://github.com/jupyterlab/jupyterlab/issue...  jupyterlab   \n",
       "1    https://github.com/jupyter/notebook/issues/4778     jupyter   \n",
       "1  https://github.com/jupyterhub/oauthenticator/i...  jupyterhub   \n",
       "1  https://github.com/jupyterlab/jupyterlab/issue...  jupyterlab   \n",
       "2  https://github.com/jupyterlab/team-compass/iss...  jupyterlab   \n",
       "0     https://github.com/nteract/nteract/issues/4499     nteract   \n",
       "2  https://github.com/jupyter/repo2docker/issues/751     jupyter   \n",
       "\n",
       "             repo  \n",
       "0       ipykernel  \n",
       "0        nbgrader  \n",
       "0     kubespawner  \n",
       "0      jupyterlab  \n",
       "1        notebook  \n",
       "1  oauthenticator  \n",
       "1      jupyterlab  \n",
       "2    team-compass  \n",
       "0         nteract  \n",
       "2     repo2docker  "
      ]
     },
     "execution_count": 15,
     "metadata": {},
     "output_type": "execute_result"
    }
   ],
   "source": [
    "issues_new.head(10)"
   ]
  },
  {
   "cell_type": "code",
   "execution_count": 16,
   "metadata": {
    "papermill": {
     "duration": 0.165561,
     "end_time": "2019-07-23T16:29:48.562002",
     "exception": false,
     "start_time": "2019-07-23T16:29:48.396441",
     "status": "completed"
    },
    "tags": []
   },
   "outputs": [
    {
     "data": {
      "text/html": [
       "<div>\n",
       "<style scoped>\n",
       "    .dataframe tbody tr th:only-of-type {\n",
       "        vertical-align: middle;\n",
       "    }\n",
       "\n",
       "    .dataframe tbody tr th {\n",
       "        vertical-align: top;\n",
       "    }\n",
       "\n",
       "    .dataframe thead th {\n",
       "        text-align: right;\n",
       "    }\n",
       "</style>\n",
       "<table border=\"1\" class=\"dataframe\">\n",
       "  <thead>\n",
       "    <tr style=\"text-align: right;\">\n",
       "      <th></th>\n",
       "      <th>author</th>\n",
       "      <th>authorAssociation</th>\n",
       "      <th>closedAt</th>\n",
       "      <th>createdAt</th>\n",
       "      <th>id</th>\n",
       "      <th>mergedBy</th>\n",
       "      <th>number</th>\n",
       "      <th>state</th>\n",
       "      <th>title</th>\n",
       "      <th>updatedAt</th>\n",
       "      <th>url</th>\n",
       "      <th>org</th>\n",
       "      <th>repo</th>\n",
       "    </tr>\n",
       "  </thead>\n",
       "  <tbody>\n",
       "    <tr>\n",
       "      <th>0</th>\n",
       "      <td>raethlein</td>\n",
       "      <td>FIRST_TIME_CONTRIBUTOR</td>\n",
       "      <td>None</td>\n",
       "      <td>2019-07-23T16:23:16Z</td>\n",
       "      <td>MDExOlB1bGxSZXF1ZXN0MzAwMzc1MTAy</td>\n",
       "      <td>None</td>\n",
       "      <td>279</td>\n",
       "      <td>OPEN</td>\n",
       "      <td>Add clarifying comment into README code block</td>\n",
       "      <td>2019-07-23T16:23:16Z</td>\n",
       "      <td>https://github.com/jupyterhub/oauthenticator/p...</td>\n",
       "      <td>jupyterhub</td>\n",
       "      <td>oauthenticator</td>\n",
       "    </tr>\n",
       "    <tr>\n",
       "      <th>0</th>\n",
       "      <td>dmarth</td>\n",
       "      <td>FIRST_TIME_CONTRIBUTOR</td>\n",
       "      <td>None</td>\n",
       "      <td>2019-07-23T14:30:16Z</td>\n",
       "      <td>MDExOlB1bGxSZXF1ZXN0MzAwMzI1MDgy</td>\n",
       "      <td>None</td>\n",
       "      <td>6875</td>\n",
       "      <td>OPEN</td>\n",
       "      <td>accept query parameter to optionally change fi...</td>\n",
       "      <td>2019-07-23T14:30:30Z</td>\n",
       "      <td>https://github.com/jupyterlab/jupyterlab/pull/...</td>\n",
       "      <td>jupyterlab</td>\n",
       "      <td>jupyterlab</td>\n",
       "    </tr>\n",
       "    <tr>\n",
       "      <th>1</th>\n",
       "      <td>van-8</td>\n",
       "      <td>MEMBER</td>\n",
       "      <td>None</td>\n",
       "      <td>2019-07-23T11:12:31Z</td>\n",
       "      <td>MDExOlB1bGxSZXF1ZXN0MzAwMjQ1Mjg4</td>\n",
       "      <td>None</td>\n",
       "      <td>6873</td>\n",
       "      <td>OPEN</td>\n",
       "      <td>Update max CSV size for Firefox 68</td>\n",
       "      <td>2019-07-23T15:34:29Z</td>\n",
       "      <td>https://github.com/jupyterlab/jupyterlab/pull/...</td>\n",
       "      <td>jupyterlab</td>\n",
       "      <td>jupyterlab</td>\n",
       "    </tr>\n",
       "    <tr>\n",
       "      <th>2</th>\n",
       "      <td>nibheis</td>\n",
       "      <td>FIRST_TIME_CONTRIBUTOR</td>\n",
       "      <td>None</td>\n",
       "      <td>2019-07-23T08:48:43Z</td>\n",
       "      <td>MDExOlB1bGxSZXF1ZXN0MzAwMTg5NzU2</td>\n",
       "      <td>None</td>\n",
       "      <td>385</td>\n",
       "      <td>OPEN</td>\n",
       "      <td>Fix remote checkout</td>\n",
       "      <td>2019-07-23T08:48:43Z</td>\n",
       "      <td>https://github.com/jupyterlab/jupyterlab-git/p...</td>\n",
       "      <td>jupyterlab</td>\n",
       "      <td>jupyterlab-git</td>\n",
       "    </tr>\n",
       "    <tr>\n",
       "      <th>0</th>\n",
       "      <td>betatim</td>\n",
       "      <td>MEMBER</td>\n",
       "      <td>None</td>\n",
       "      <td>2019-07-23T05:35:05Z</td>\n",
       "      <td>MDExOlB1bGxSZXF1ZXN0MzAwMTM0NDYz</td>\n",
       "      <td>None</td>\n",
       "      <td>752</td>\n",
       "      <td>OPEN</td>\n",
       "      <td>[WIP] Call parent preassemble scripts methods</td>\n",
       "      <td>2019-07-23T16:24:34Z</td>\n",
       "      <td>https://github.com/jupyter/repo2docker/pull/752</td>\n",
       "      <td>jupyter</td>\n",
       "      <td>repo2docker</td>\n",
       "    </tr>\n",
       "    <tr>\n",
       "      <th>0</th>\n",
       "      <td>LittleLightLittleFire</td>\n",
       "      <td>NONE</td>\n",
       "      <td>None</td>\n",
       "      <td>2019-07-23T04:40:41Z</td>\n",
       "      <td>MDExOlB1bGxSZXF1ZXN0MzAwMTI1Nzg1</td>\n",
       "      <td>None</td>\n",
       "      <td>11833</td>\n",
       "      <td>OPEN</td>\n",
       "      <td>Sets error_before_exec to be the value of the ...</td>\n",
       "      <td>2019-07-23T05:26:16Z</td>\n",
       "      <td>https://github.com/ipython/ipython/pull/11833</td>\n",
       "      <td>ipython</td>\n",
       "      <td>ipython</td>\n",
       "    </tr>\n",
       "    <tr>\n",
       "      <th>1</th>\n",
       "      <td>esevan</td>\n",
       "      <td>FIRST_TIME_CONTRIBUTOR</td>\n",
       "      <td>None</td>\n",
       "      <td>2019-07-23T01:33:26Z</td>\n",
       "      <td>MDExOlB1bGxSZXF1ZXN0MzAwMDk1ODM3</td>\n",
       "      <td>None</td>\n",
       "      <td>4777</td>\n",
       "      <td>OPEN</td>\n",
       "      <td>Attempt to re-establish websocket connection t...</td>\n",
       "      <td>2019-07-23T01:33:26Z</td>\n",
       "      <td>https://github.com/jupyter/notebook/pull/4777</td>\n",
       "      <td>jupyter</td>\n",
       "      <td>notebook</td>\n",
       "    </tr>\n",
       "    <tr>\n",
       "      <th>1</th>\n",
       "      <td>choldgraf</td>\n",
       "      <td>MEMBER</td>\n",
       "      <td>2019-07-23T01:30:09Z</td>\n",
       "      <td>2019-07-23T01:29:00Z</td>\n",
       "      <td>MDExOlB1bGxSZXF1ZXN0MzAwMDk1MTk4</td>\n",
       "      <td>choldgraf</td>\n",
       "      <td>191</td>\n",
       "      <td>MERGED</td>\n",
       "      <td>adding team meeting</td>\n",
       "      <td>2019-07-23T01:30:10Z</td>\n",
       "      <td>https://github.com/jupyterhub/team-compass/pul...</td>\n",
       "      <td>jupyterhub</td>\n",
       "      <td>team-compass</td>\n",
       "    </tr>\n",
       "    <tr>\n",
       "      <th>3</th>\n",
       "      <td>saulshanabrook</td>\n",
       "      <td>MEMBER</td>\n",
       "      <td>None</td>\n",
       "      <td>2019-07-22T21:17:29Z</td>\n",
       "      <td>MDExOlB1bGxSZXF1ZXN0MzAwMDQyNzM3</td>\n",
       "      <td>None</td>\n",
       "      <td>6871</td>\n",
       "      <td>OPEN</td>\n",
       "      <td>Add datastore support</td>\n",
       "      <td>2019-07-23T16:01:02Z</td>\n",
       "      <td>https://github.com/jupyterlab/jupyterlab/pull/...</td>\n",
       "      <td>jupyterlab</td>\n",
       "      <td>jupyterlab</td>\n",
       "    </tr>\n",
       "    <tr>\n",
       "      <th>4</th>\n",
       "      <td>ian-r-rose</td>\n",
       "      <td>MEMBER</td>\n",
       "      <td>None</td>\n",
       "      <td>2019-07-22T20:32:08Z</td>\n",
       "      <td>MDExOlB1bGxSZXF1ZXN0MzAwMDI3NzE2</td>\n",
       "      <td>None</td>\n",
       "      <td>6870</td>\n",
       "      <td>OPEN</td>\n",
       "      <td>Fix browser tests</td>\n",
       "      <td>2019-07-23T13:45:26Z</td>\n",
       "      <td>https://github.com/jupyterlab/jupyterlab/pull/...</td>\n",
       "      <td>jupyterlab</td>\n",
       "      <td>jupyterlab</td>\n",
       "    </tr>\n",
       "  </tbody>\n",
       "</table>\n",
       "</div>"
      ],
      "text/plain": [
       "                  author       authorAssociation              closedAt  \\\n",
       "0              raethlein  FIRST_TIME_CONTRIBUTOR                  None   \n",
       "0                 dmarth  FIRST_TIME_CONTRIBUTOR                  None   \n",
       "1                  van-8                  MEMBER                  None   \n",
       "2                nibheis  FIRST_TIME_CONTRIBUTOR                  None   \n",
       "0                betatim                  MEMBER                  None   \n",
       "0  LittleLightLittleFire                    NONE                  None   \n",
       "1                 esevan  FIRST_TIME_CONTRIBUTOR                  None   \n",
       "1              choldgraf                  MEMBER  2019-07-23T01:30:09Z   \n",
       "3         saulshanabrook                  MEMBER                  None   \n",
       "4             ian-r-rose                  MEMBER                  None   \n",
       "\n",
       "              createdAt                                id   mergedBy  number  \\\n",
       "0  2019-07-23T16:23:16Z  MDExOlB1bGxSZXF1ZXN0MzAwMzc1MTAy       None     279   \n",
       "0  2019-07-23T14:30:16Z  MDExOlB1bGxSZXF1ZXN0MzAwMzI1MDgy       None    6875   \n",
       "1  2019-07-23T11:12:31Z  MDExOlB1bGxSZXF1ZXN0MzAwMjQ1Mjg4       None    6873   \n",
       "2  2019-07-23T08:48:43Z  MDExOlB1bGxSZXF1ZXN0MzAwMTg5NzU2       None     385   \n",
       "0  2019-07-23T05:35:05Z  MDExOlB1bGxSZXF1ZXN0MzAwMTM0NDYz       None     752   \n",
       "0  2019-07-23T04:40:41Z  MDExOlB1bGxSZXF1ZXN0MzAwMTI1Nzg1       None   11833   \n",
       "1  2019-07-23T01:33:26Z  MDExOlB1bGxSZXF1ZXN0MzAwMDk1ODM3       None    4777   \n",
       "1  2019-07-23T01:29:00Z  MDExOlB1bGxSZXF1ZXN0MzAwMDk1MTk4  choldgraf     191   \n",
       "3  2019-07-22T21:17:29Z  MDExOlB1bGxSZXF1ZXN0MzAwMDQyNzM3       None    6871   \n",
       "4  2019-07-22T20:32:08Z  MDExOlB1bGxSZXF1ZXN0MzAwMDI3NzE2       None    6870   \n",
       "\n",
       "    state                                              title  \\\n",
       "0    OPEN      Add clarifying comment into README code block   \n",
       "0    OPEN  accept query parameter to optionally change fi...   \n",
       "1    OPEN                 Update max CSV size for Firefox 68   \n",
       "2    OPEN                                Fix remote checkout   \n",
       "0    OPEN      [WIP] Call parent preassemble scripts methods   \n",
       "0    OPEN  Sets error_before_exec to be the value of the ...   \n",
       "1    OPEN  Attempt to re-establish websocket connection t...   \n",
       "1  MERGED                                adding team meeting   \n",
       "3    OPEN                              Add datastore support   \n",
       "4    OPEN                                  Fix browser tests   \n",
       "\n",
       "              updatedAt                                                url  \\\n",
       "0  2019-07-23T16:23:16Z  https://github.com/jupyterhub/oauthenticator/p...   \n",
       "0  2019-07-23T14:30:30Z  https://github.com/jupyterlab/jupyterlab/pull/...   \n",
       "1  2019-07-23T15:34:29Z  https://github.com/jupyterlab/jupyterlab/pull/...   \n",
       "2  2019-07-23T08:48:43Z  https://github.com/jupyterlab/jupyterlab-git/p...   \n",
       "0  2019-07-23T16:24:34Z    https://github.com/jupyter/repo2docker/pull/752   \n",
       "0  2019-07-23T05:26:16Z      https://github.com/ipython/ipython/pull/11833   \n",
       "1  2019-07-23T01:33:26Z      https://github.com/jupyter/notebook/pull/4777   \n",
       "1  2019-07-23T01:30:10Z  https://github.com/jupyterhub/team-compass/pul...   \n",
       "3  2019-07-23T16:01:02Z  https://github.com/jupyterlab/jupyterlab/pull/...   \n",
       "4  2019-07-23T13:45:26Z  https://github.com/jupyterlab/jupyterlab/pull/...   \n",
       "\n",
       "          org            repo  \n",
       "0  jupyterhub  oauthenticator  \n",
       "0  jupyterlab      jupyterlab  \n",
       "1  jupyterlab      jupyterlab  \n",
       "2  jupyterlab  jupyterlab-git  \n",
       "0     jupyter     repo2docker  \n",
       "0     ipython         ipython  \n",
       "1     jupyter        notebook  \n",
       "1  jupyterhub    team-compass  \n",
       "3  jupyterlab      jupyterlab  \n",
       "4  jupyterlab      jupyterlab  "
      ]
     },
     "execution_count": 16,
     "metadata": {},
     "output_type": "execute_result"
    }
   ],
   "source": [
    "prs_new.head(10)"
   ]
  },
  {
   "cell_type": "code",
   "execution_count": 17,
   "metadata": {
    "papermill": {
     "duration": 0.155002,
     "end_time": "2019-07-23T16:29:48.787993",
     "exception": false,
     "start_time": "2019-07-23T16:29:48.632991",
     "status": "completed"
    },
    "tags": []
   },
   "outputs": [
    {
     "data": {
      "text/html": [
       "<div>\n",
       "<style scoped>\n",
       "    .dataframe tbody tr th:only-of-type {\n",
       "        vertical-align: middle;\n",
       "    }\n",
       "\n",
       "    .dataframe tbody tr th {\n",
       "        vertical-align: top;\n",
       "    }\n",
       "\n",
       "    .dataframe thead th {\n",
       "        text-align: right;\n",
       "    }\n",
       "</style>\n",
       "<table border=\"1\" class=\"dataframe\">\n",
       "  <thead>\n",
       "    <tr style=\"text-align: right;\">\n",
       "      <th></th>\n",
       "      <th>author</th>\n",
       "      <th>authorAssociation</th>\n",
       "      <th>createdAt</th>\n",
       "      <th>updatedAt</th>\n",
       "      <th>url</th>\n",
       "      <th>org</th>\n",
       "      <th>repo</th>\n",
       "      <th>issue_id</th>\n",
       "      <th>id</th>\n",
       "    </tr>\n",
       "  </thead>\n",
       "  <tbody>\n",
       "    <tr>\n",
       "      <th>393</th>\n",
       "      <td>michaele4321</td>\n",
       "      <td>NONE</td>\n",
       "      <td>2019-07-22T23:57:47Z</td>\n",
       "      <td>2019-07-22T23:57:47Z</td>\n",
       "      <td>https://github.com/jupyterlab/jupyterlab/issue...</td>\n",
       "      <td>jupyterlab</td>\n",
       "      <td>jupyterlab</td>\n",
       "      <td>6827</td>\n",
       "      <td>513998553</td>\n",
       "    </tr>\n",
       "    <tr>\n",
       "      <th>525</th>\n",
       "      <td>jmmshn</td>\n",
       "      <td>NONE</td>\n",
       "      <td>2019-07-22T23:39:57Z</td>\n",
       "      <td>2019-07-22T23:39:57Z</td>\n",
       "      <td>https://github.com/jupyter-widgets/pythreejs/i...</td>\n",
       "      <td>jupyter-widgets</td>\n",
       "      <td>pythreejs</td>\n",
       "      <td>282</td>\n",
       "      <td>513994907</td>\n",
       "    </tr>\n",
       "    <tr>\n",
       "      <th>193</th>\n",
       "      <td>esevan</td>\n",
       "      <td>CONTRIBUTOR</td>\n",
       "      <td>2019-07-22T23:15:35Z</td>\n",
       "      <td>2019-07-22T23:15:35Z</td>\n",
       "      <td>https://github.com/jupyter/nb2kg/issues/39#iss...</td>\n",
       "      <td>jupyter</td>\n",
       "      <td>nb2kg</td>\n",
       "      <td>39</td>\n",
       "      <td>513989823</td>\n",
       "    </tr>\n",
       "    <tr>\n",
       "      <th>28</th>\n",
       "      <td>rgbkrk</td>\n",
       "      <td>MEMBER</td>\n",
       "      <td>2019-07-22T23:03:42Z</td>\n",
       "      <td>2019-07-22T23:03:42Z</td>\n",
       "      <td>https://github.com/nteract/meeting-minutes/pul...</td>\n",
       "      <td>nteract</td>\n",
       "      <td>meeting-minutes</td>\n",
       "      <td>30</td>\n",
       "      <td>513987396</td>\n",
       "    </tr>\n",
       "    <tr>\n",
       "      <th>38</th>\n",
       "      <td>vilhelmen</td>\n",
       "      <td>CONTRIBUTOR</td>\n",
       "      <td>2019-07-22T22:57:07Z</td>\n",
       "      <td>2019-07-22T22:57:29Z</td>\n",
       "      <td>https://github.com/jupyterhub/jupyterhub/issue...</td>\n",
       "      <td>jupyterhub</td>\n",
       "      <td>jupyterhub</td>\n",
       "      <td>2598</td>\n",
       "      <td>513986028</td>\n",
       "    </tr>\n",
       "    <tr>\n",
       "      <th>281</th>\n",
       "      <td>psychemedia</td>\n",
       "      <td>NONE</td>\n",
       "      <td>2019-07-22T22:02:19Z</td>\n",
       "      <td>2019-07-22T22:02:19Z</td>\n",
       "      <td>https://github.com/jupyter/nbgrader/issues/974...</td>\n",
       "      <td>jupyter</td>\n",
       "      <td>nbgrader</td>\n",
       "      <td>974</td>\n",
       "      <td>513972099</td>\n",
       "    </tr>\n",
       "    <tr>\n",
       "      <th>4</th>\n",
       "      <td>jupyterlab-dev-mode</td>\n",
       "      <td>NONE</td>\n",
       "      <td>2019-07-22T21:17:30Z</td>\n",
       "      <td>2019-07-22T21:17:30Z</td>\n",
       "      <td>https://github.com/jupyterlab/jupyterlab/pull/...</td>\n",
       "      <td>jupyterlab</td>\n",
       "      <td>jupyterlab</td>\n",
       "      <td>6871</td>\n",
       "      <td>513958440</td>\n",
       "    </tr>\n",
       "    <tr>\n",
       "      <th>280</th>\n",
       "      <td>lwasser</td>\n",
       "      <td>NONE</td>\n",
       "      <td>2019-07-22T21:14:26Z</td>\n",
       "      <td>2019-07-22T21:14:26Z</td>\n",
       "      <td>https://github.com/jupyter/nbgrader/issues/974...</td>\n",
       "      <td>jupyter</td>\n",
       "      <td>nbgrader</td>\n",
       "      <td>974</td>\n",
       "      <td>513957429</td>\n",
       "    </tr>\n",
       "    <tr>\n",
       "      <th>350</th>\n",
       "      <td>telamonian</td>\n",
       "      <td>MEMBER</td>\n",
       "      <td>2019-07-22T21:12:09Z</td>\n",
       "      <td>2019-07-22T21:12:09Z</td>\n",
       "      <td>https://github.com/jupyterlab/jupyterlab/issue...</td>\n",
       "      <td>jupyterlab</td>\n",
       "      <td>jupyterlab</td>\n",
       "      <td>6869</td>\n",
       "      <td>513956718</td>\n",
       "    </tr>\n",
       "    <tr>\n",
       "      <th>6</th>\n",
       "      <td>ian-r-rose</td>\n",
       "      <td>MEMBER</td>\n",
       "      <td>2019-07-22T21:08:36Z</td>\n",
       "      <td>2019-07-22T21:14:40Z</td>\n",
       "      <td>https://github.com/jupyterlab/jupyterlab/pull/...</td>\n",
       "      <td>jupyterlab</td>\n",
       "      <td>jupyterlab</td>\n",
       "      <td>6870</td>\n",
       "      <td>513955501</td>\n",
       "    </tr>\n",
       "  </tbody>\n",
       "</table>\n",
       "</div>"
      ],
      "text/plain": [
       "                  author authorAssociation             createdAt  \\\n",
       "393         michaele4321              NONE  2019-07-22T23:57:47Z   \n",
       "525               jmmshn              NONE  2019-07-22T23:39:57Z   \n",
       "193               esevan       CONTRIBUTOR  2019-07-22T23:15:35Z   \n",
       "28                rgbkrk            MEMBER  2019-07-22T23:03:42Z   \n",
       "38             vilhelmen       CONTRIBUTOR  2019-07-22T22:57:07Z   \n",
       "281          psychemedia              NONE  2019-07-22T22:02:19Z   \n",
       "4    jupyterlab-dev-mode              NONE  2019-07-22T21:17:30Z   \n",
       "280              lwasser              NONE  2019-07-22T21:14:26Z   \n",
       "350           telamonian            MEMBER  2019-07-22T21:12:09Z   \n",
       "6             ian-r-rose            MEMBER  2019-07-22T21:08:36Z   \n",
       "\n",
       "                updatedAt                                                url  \\\n",
       "393  2019-07-22T23:57:47Z  https://github.com/jupyterlab/jupyterlab/issue...   \n",
       "525  2019-07-22T23:39:57Z  https://github.com/jupyter-widgets/pythreejs/i...   \n",
       "193  2019-07-22T23:15:35Z  https://github.com/jupyter/nb2kg/issues/39#iss...   \n",
       "28   2019-07-22T23:03:42Z  https://github.com/nteract/meeting-minutes/pul...   \n",
       "38   2019-07-22T22:57:29Z  https://github.com/jupyterhub/jupyterhub/issue...   \n",
       "281  2019-07-22T22:02:19Z  https://github.com/jupyter/nbgrader/issues/974...   \n",
       "4    2019-07-22T21:17:30Z  https://github.com/jupyterlab/jupyterlab/pull/...   \n",
       "280  2019-07-22T21:14:26Z  https://github.com/jupyter/nbgrader/issues/974...   \n",
       "350  2019-07-22T21:12:09Z  https://github.com/jupyterlab/jupyterlab/issue...   \n",
       "6    2019-07-22T21:14:40Z  https://github.com/jupyterlab/jupyterlab/pull/...   \n",
       "\n",
       "                 org             repo issue_id         id  \n",
       "393       jupyterlab       jupyterlab     6827  513998553  \n",
       "525  jupyter-widgets        pythreejs      282  513994907  \n",
       "193          jupyter            nb2kg       39  513989823  \n",
       "28           nteract  meeting-minutes       30  513987396  \n",
       "38        jupyterhub       jupyterhub     2598  513986028  \n",
       "281          jupyter         nbgrader      974  513972099  \n",
       "4         jupyterlab       jupyterlab     6871  513958440  \n",
       "280          jupyter         nbgrader      974  513957429  \n",
       "350       jupyterlab       jupyterlab     6869  513956718  \n",
       "6         jupyterlab       jupyterlab     6870  513955501  "
      ]
     },
     "execution_count": 17,
     "metadata": {},
     "output_type": "execute_result"
    }
   ],
   "source": [
    "comments_new.head(10)"
   ]
  }
 ],
 "metadata": {
  "kernelspec": {
   "display_name": "Python 3",
   "language": "python",
   "name": "python3"
  },
  "language_info": {
   "codemirror_mode": {
    "name": "ipython",
    "version": 3
   },
   "file_extension": ".py",
   "mimetype": "text/x-python",
   "name": "python",
   "nbconvert_exporter": "python",
   "pygments_lexer": "ipython3",
   "version": "3.7.3"
  },
  "papermill": {
   "duration": 24.179528,
   "end_time": "2019-07-23T16:29:49.449401",
   "environment_variables": {},
   "exception": null,
   "input_path": "./update_data.ipynb",
   "output_path": "update_result.ipynb",
   "parameters": {
    "end_date": "2019-07-23",
    "renderer": "kaggle",
    "start_date": "2019-06-23",
    "update_data": true
   },
   "start_time": "2019-07-23T16:29:25.269873",
   "version": "1.0.1"
  },
  "widgets": {
   "application/vnd.jupyter.widget-state+json": {
    "state": {},
    "version_major": 2,
    "version_minor": 0
   }
  }
 },
 "nbformat": 4,
 "nbformat_minor": 4
}