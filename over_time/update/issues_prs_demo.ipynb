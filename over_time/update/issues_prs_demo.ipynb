{
 "cells": [
  {
   "cell_type": "code",
   "execution_count": 1,
   "metadata": {},
   "outputs": [],
   "source": [
    "from update_mod import GitHubGraphQlQuery\n",
    "from markdown import markdown\n",
    "from IPython.display import HTML\n",
    "import pandas as pd\n",
    "from github_changelog import generate_changelog"
   ]
  },
  {
   "cell_type": "code",
   "execution_count": 2,
   "metadata": {},
   "outputs": [
    {
     "name": "stdout",
     "output_type": "stream",
     "text": [
      "Running query:\n",
      "updated:2019-09-20..2019-09-26 repo:jupyterlab/jupyterlab\n",
      "\n",
      "\n",
      "Found 67 items, which will take 2 pages\n"
     ]
    },
    {
     "data": {
      "application/vnd.jupyter.widget-view+json": {
       "model_id": "ab20dc9bdf0a47bba21fd2e42efaa8ec",
       "version_major": 2,
       "version_minor": 0
      },
      "text/plain": [
       "IntProgress(value=0, description='Downloading:', max=2)"
      ]
     },
     "metadata": {},
     "output_type": "display_data"
    }
   ],
   "source": [
    "start_time = '2019-09-20'\n",
    "org = 'jupyterlab'\n",
    "repo = 'jupyterlab'\n",
    "md = generate_changelog(org, start_time, repo=repo)"
   ]
  },
  {
   "cell_type": "code",
   "execution_count": 3,
   "metadata": {},
   "outputs": [
    {
     "data": {
      "text/html": [
       "<h1>2019-09-20...today</h1>\n",
       "<p>(<a href=\"https://github.com/jupyterlab/jupyterlab/compare/9aa420582a59d81f7cde2abc16aa870bf8060ceb...56c440187fe3ffc95e4517bb659d34ee0bc5f6a2\">full changelog</a>)</p>\n",
       "<h2>Other closed PRs</h2>\n",
       "<ul>\n",
       "<li>Backport PR #7242 on branch 1.x (Fixes context menu hit test to deal with svg nodes.) <a href=\"https://github.com/jupyterlab/jupyterlab/pull/7263\">#7263</a> (<a href=\"https://github.com/meeseeksmachine\">@meeseeksmachine</a>)</li>\n",
       "<li>Backport PR #7227 on branch 1.x (Only display node structure in JSONTree for arrays and empty objects) <a href=\"https://github.com/jupyterlab/jupyterlab/pull/7261\">#7261</a> (<a href=\"https://github.com/meeseeksmachine\">@meeseeksmachine</a>)</li>\n",
       "<li>Merge pull request #1 from jupyterlab/master <a href=\"https://github.com/jupyterlab/jupyterlab/pull/7253\">#7253</a> (<a href=\"https://github.com/WangChangsongGit\">@WangChangsongGit</a>)</li>\n",
       "<li>apply all options to initial jlab instance <a href=\"https://github.com/jupyterlab/jupyterlab/pull/7251\">#7251</a> (<a href=\"https://github.com/meinstein\">@meinstein</a>)</li>\n",
       "<li>Add functions for dealing with phosphor iterators and converting to/from js iterators <a href=\"https://github.com/jupyterlab/jupyterlab/pull/7247\">#7247</a> (<a href=\"https://github.com/jasongrout\">@jasongrout</a>)</li>\n",
       "<li>Fixes context menu hit test to deal with svg nodes. <a href=\"https://github.com/jupyterlab/jupyterlab/pull/7242\">#7242</a> (<a href=\"https://github.com/jasongrout\">@jasongrout</a>)</li>\n",
       "<li>Only display node structure in JSONTree for arrays and empty objects <a href=\"https://github.com/jupyterlab/jupyterlab/pull/7227\">#7227</a> (<a href=\"https://github.com/tibdex\">@tibdex</a>)</li>\n",
       "<li>Backport PR #7192 on branch 1.1.x (progress on icons: added inline svg icon support to toolbar buttons) <a href=\"https://github.com/jupyterlab/jupyterlab/pull/7222\">#7222</a> (<a href=\"https://github.com/meeseeksmachine\">@meeseeksmachine</a>)</li>\n",
       "<li>Fix yarn registry with command argument <a href=\"https://github.com/jupyterlab/jupyterlab/pull/7109\">#7109</a> (<a href=\"https://github.com/fcollonval\">@fcollonval</a>)</li>\n",
       "<li>Enables private npm registry passing a npm-registry config flag <a href=\"https://github.com/jupyterlab/jupyterlab/pull/6495\">#6495</a> (<a href=\"https://github.com/pablolmiranda\">@pablolmiranda</a>)</li>\n",
       "</ul>\n",
       "<h2>Closed issues</h2>\n",
       "<ul>\n",
       "<li>win32security.GetFileSecurity kernel error in version 1.1.4 <a href=\"https://github.com/jupyterlab/jupyterlab/issues/7269\">#7269</a> (<a href=\"https://github.com/wikwok\">@wikwok</a>)</li>\n",
       "<li>Jupyter lab 1.1.4 conda install on Windows missing pywin32 dependency <a href=\"https://github.com/jupyterlab/jupyterlab/issues/7259\">#7259</a> (<a href=\"https://github.com/owen-synergy\">@owen-synergy</a>)</li>\n",
       "<li>No kernel while creating new nb <a href=\"https://github.com/jupyterlab/jupyterlab/issues/7255\">#7255</a> (<a href=\"https://github.com/StevenLi-DS\">@StevenLi-DS</a>)</li>\n",
       "<li>\"Switch Sidebar Side\" context menu item doesn't work if you right click on the sidebar tab's icon <a href=\"https://github.com/jupyterlab/jupyterlab/issues/7224\">#7224</a> (<a href=\"https://github.com/telamonian\">@telamonian</a>)</li>\n",
       "<li>Setting up jest for custom extensions <a href=\"https://github.com/jupyterlab/jupyterlab/issues/7212\">#7212</a> (<a href=\"https://github.com/remborg\">@remborg</a>)</li>\n",
       "<li>can not install extention <a href=\"https://github.com/jupyterlab/jupyterlab/issues/7211\">#7211</a> (<a href=\"https://github.com/kennyworld\">@kennyworld</a>)</li>\n",
       "<li>Cannot shutdown notebooks in \"Running\" tab <a href=\"https://github.com/jupyterlab/jupyterlab/issues/7188\">#7188</a> (<a href=\"https://github.com/astroboylrx\">@astroboylrx</a>)</li>\n",
       "<li>Make NPM registry configurable <a href=\"https://github.com/jupyterlab/jupyterlab/issues/4149\">#4149</a> (<a href=\"https://github.com/vidartf\">@vidartf</a>)</li>\n",
       "<li>Issues with using a private yarn registry <a href=\"https://github.com/jupyterlab/jupyterlab/issues/3658\">#3658</a> (<a href=\"https://github.com/shyam334\">@shyam334</a>)</li>\n",
       "</ul>\n",
       "<h2>Opened PRs</h2>\n",
       "<ul>\n",
       "<li>fixes #7264: use default <code>app_dir</code> when <code>app_dir == ''</code> <a href=\"https://github.com/jupyterlab/jupyterlab/pull/7268\">#7268</a> (<a href=\"https://github.com/telamonian\">@telamonian</a>)</li>\n",
       "<li>removed svg styling from old icon behavior fallback <a href=\"https://github.com/jupyterlab/jupyterlab/pull/7266\">#7266</a> (<a href=\"https://github.com/telamonian\">@telamonian</a>)</li>\n",
       "<li>Backport PR #7242 on branch 1.x (Fixes context menu hit test to deal with svg nodes.) <a href=\"https://github.com/jupyterlab/jupyterlab/pull/7263\">#7263</a> (<a href=\"https://github.com/meeseeksmachine\">@meeseeksmachine</a>)</li>\n",
       "<li>Backport PR #7227 on branch 1.x (Only display node structure in JSONTree for arrays and empty objects) <a href=\"https://github.com/jupyterlab/jupyterlab/pull/7261\">#7261</a> (<a href=\"https://github.com/meeseeksmachine\">@meeseeksmachine</a>)</li>\n",
       "<li>Support for output search <a href=\"https://github.com/jupyterlab/jupyterlab/pull/7258\">#7258</a> (<a href=\"https://github.com/mlucool\">@mlucool</a>)</li>\n",
       "<li>Merge pull request #1 from jupyterlab/master <a href=\"https://github.com/jupyterlab/jupyterlab/pull/7253\">#7253</a> (<a href=\"https://github.com/WangChangsongGit\">@WangChangsongGit</a>)</li>\n",
       "<li>Rework kernel and session architecture <a href=\"https://github.com/jupyterlab/jupyterlab/pull/7252\">#7252</a> (<a href=\"https://github.com/jasongrout\">@jasongrout</a>)</li>\n",
       "<li>apply all options to initial jlab instance <a href=\"https://github.com/jupyterlab/jupyterlab/pull/7251\">#7251</a> (<a href=\"https://github.com/meinstein\">@meinstein</a>)</li>\n",
       "<li>Add comment when using custom yarn registry <a href=\"https://github.com/jupyterlab/jupyterlab/pull/7249\">#7249</a> (<a href=\"https://github.com/fcollonval\">@fcollonval</a>)</li>\n",
       "</ul>\n",
       "<h2>Opened issues</h2>\n",
       "<ul>\n",
       "<li>win32security.GetFileSecurity kernel error in version 1.1.4 <a href=\"https://github.com/jupyterlab/jupyterlab/issues/7269\">#7269</a> (<a href=\"https://github.com/wikwok\">@wikwok</a>)</li>\n",
       "<li>[Question] _undoChange function from undoablelist.ts  <a href=\"https://github.com/jupyterlab/jupyterlab/issues/7267\">#7267</a> (<a href=\"https://github.com/xiezhongfu\">@xiezhongfu</a>)</li>\n",
       "<li>ToolbarButtons with icons and labels not rendered correctly <a href=\"https://github.com/jupyterlab/jupyterlab/issues/7265\">#7265</a> (<a href=\"https://github.com/mbektasbbg\">@mbektasbbg</a>)</li>\n",
       "<li>Build System Broken in Master <a href=\"https://github.com/jupyterlab/jupyterlab/issues/7264\">#7264</a> (<a href=\"https://github.com/blink1073\">@blink1073</a>)</li>\n",
       "<li>Export to HTML is not embedding widgets correctly <a href=\"https://github.com/jupyterlab/jupyterlab/issues/7262\">#7262</a> (<a href=\"https://github.com/cornhundred\">@cornhundred</a>)</li>\n",
       "<li>Open from path - changes the current file browser directory <a href=\"https://github.com/jupyterlab/jupyterlab/issues/7260\">#7260</a> (<a href=\"https://github.com/anoopkatti\">@anoopkatti</a>)</li>\n",
       "<li>Jupyter lab 1.1.4 conda install on Windows missing pywin32 dependency <a href=\"https://github.com/jupyterlab/jupyterlab/issues/7259\">#7259</a> (<a href=\"https://github.com/owen-synergy\">@owen-synergy</a>)</li>\n",
       "<li>Allow overlapping StateDB namespaces <a href=\"https://github.com/jupyterlab/jupyterlab/issues/7257\">#7257</a> (<a href=\"https://github.com/vidartf\">@vidartf</a>)</li>\n",
       "<li>Add a flag as to whether to display the custom extension in extension manager <a href=\"https://github.com/jupyterlab/jupyterlab/issues/7256\">#7256</a> (<a href=\"https://github.com/ggbhat\">@ggbhat</a>)</li>\n",
       "<li>No kernel while creating new nb <a href=\"https://github.com/jupyterlab/jupyterlab/issues/7255\">#7255</a> (<a href=\"https://github.com/StevenLi-DS\">@StevenLi-DS</a>)</li>\n",
       "<li>How do we import jupyterlab components and add them to our react application? <a href=\"https://github.com/jupyterlab/jupyterlab/issues/7254\">#7254</a> (<a href=\"https://github.com/Fdango\">@Fdango</a>)</li>\n",
       "<li>Generic dialog based on html form  <a href=\"https://github.com/jupyterlab/jupyterlab/issues/7250\">#7250</a> (<a href=\"https://github.com/fcollonval\">@fcollonval</a>)</li>\n",
       "<li>Build following yarn registry switch <a href=\"https://github.com/jupyterlab/jupyterlab/issues/7248\">#7248</a> (<a href=\"https://github.com/fcollonval\">@fcollonval</a>)</li>\n",
       "</ul>"
      ],
      "text/plain": [
       "<IPython.core.display.HTML object>"
      ]
     },
     "execution_count": 3,
     "metadata": {},
     "output_type": "execute_result"
    }
   ],
   "source": [
    "HTML(markdown(md))"
   ]
  },
  {
   "cell_type": "code",
   "execution_count": null,
   "metadata": {},
   "outputs": [],
   "source": []
  }
 ],
 "metadata": {
  "kernelspec": {
   "display_name": "Python 3",
   "language": "python",
   "name": "python3"
  },
  "language_info": {
   "codemirror_mode": {
    "name": "ipython",
    "version": 3
   },
   "file_extension": ".py",
   "mimetype": "text/x-python",
   "name": "python",
   "nbconvert_exporter": "python",
   "pygments_lexer": "ipython3",
   "version": "3.7.3"
  },
  "widgets": {
   "application/vnd.jupyter.widget-state+json": {
    "state": {
     "35d72a51460847e0aaa62d4bc6ecf2c4": {
      "model_module": "@jupyter-widgets/base",
      "model_module_version": "1.2.0",
      "model_name": "LayoutModel",
      "state": {}
     },
     "ab20dc9bdf0a47bba21fd2e42efaa8ec": {
      "model_module": "@jupyter-widgets/controls",
      "model_module_version": "1.5.0",
      "model_name": "IntProgressModel",
      "state": {
       "bar_style": "success",
       "description": "Downloading:",
       "layout": "IPY_MODEL_35d72a51460847e0aaa62d4bc6ecf2c4",
       "max": 2,
       "style": "IPY_MODEL_d0a59aec315e494786c8345e38322b37",
       "value": 2
      }
     },
     "d0a59aec315e494786c8345e38322b37": {
      "model_module": "@jupyter-widgets/controls",
      "model_module_version": "1.5.0",
      "model_name": "ProgressStyleModel",
      "state": {
       "description_width": ""
      }
     }
    },
    "version_major": 2,
    "version_minor": 0
   }
  }
 },
 "nbformat": 4,
 "nbformat_minor": 4
}
