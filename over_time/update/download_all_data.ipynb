{
 "cells": [
  {
   "cell_type": "markdown",
   "metadata": {},
   "source": [
    "# Download all data\n",
    "\n",
    "This notebook downloads all GitHub activity for a number of organizations\n",
    "within a (preferably long) time range.\n",
    "\n",
    "It will extract all issues, PRs, and comments that were updated within a\n",
    "window of interest. It will then save them to disk as CSV files.\n",
    "\n",
    "It will loop through organizations and break the total amount of\n",
    "time queried into 6 month intervals in order to avoid GItHub's 100 page\n",
    "limit on queries."
   ]
  },
  {
   "cell_type": "code",
   "execution_count": 2,
   "metadata": {},
   "outputs": [],
   "source": [
    "from update_mod import GitHubGraphQlQuery, extract_comments"
   ]
  },
  {
   "cell_type": "code",
   "execution_count": 3,
   "metadata": {
    "tags": [
     "hide_input"
    ]
   },
   "outputs": [],
   "source": [
    "import requests\n",
    "import pandas as pd\n",
    "import os\n",
    "from datetime import timedelta\n",
    "import os.path as op\n"
   ]
  },
  {
   "cell_type": "code",
   "execution_count": 7,
   "metadata": {
    "tags": [
     "parameters",
     "hide_input"
    ]
   },
   "outputs": [],
   "source": [
    "fmt = \"{:%Y-%m-%d}\"\n",
    "\n",
    "# Can optionally use number of days to choose dates\n",
    "days_per_step = 60\n",
    "end_date = pd.datetime.today()\n",
    "start_date = pd.to_datetime(\"2019-01-01\")\n",
    "\n",
    "# github_orgs = [\"jupyterhub\", \"jupyter\", \"jupyterlab\", \"jupyter-widgets\", \"ipython\", \"binder-examples\", \"nteract\"]\n",
    "# github_orgs = [\"voila-dashboards\"]"
   ]
  },
  {
   "cell_type": "markdown",
   "metadata": {},
   "source": [
    "## Update issues"
   ]
  },
  {
   "cell_type": "code",
   "execution_count": 8,
   "metadata": {},
   "outputs": [],
   "source": [
    "path_data = op.join('..', '..', 'data')"
   ]
  },
  {
   "cell_type": "code",
   "execution_count": 9,
   "metadata": {},
   "outputs": [
    {
     "name": "stdout",
     "output_type": "stream",
     "text": [
      "\n",
      "Downloading org:  voila-dashboards\n",
      "\n",
      "\n",
      "2019-01-01..2019-03-02\n",
      "Found 11 items, which will take 1 pages\n",
      "Found 15 items, which will take 1 pages\n",
      "2019-03-02..2019-05-01\n",
      "Found 12 items, which will take 1 pages\n",
      "Found 25 items, which will take 1 pages\n",
      "2019-05-01..2019-06-30\n",
      "Found 71 items, which will take 2 pages\n"
     ]
    },
    {
     "data": {
      "application/vnd.jupyter.widget-view+json": {
       "model_id": "5ee45529a1e444f1b28e4b34478a6a51",
       "version_major": 2,
       "version_minor": 0
      },
      "text/plain": [
       "IntProgress(value=0, description='Downloading:', max=2)"
      ]
     },
     "metadata": {},
     "output_type": "display_data"
    },
    {
     "name": "stdout",
     "output_type": "stream",
     "text": [
      "Found 114 items, which will take 3 pages\n"
     ]
    },
    {
     "data": {
      "application/vnd.jupyter.widget-view+json": {
       "model_id": "4015f8f2f9b843418f402a75fe844a5b",
       "version_major": 2,
       "version_minor": 0
      },
      "text/plain": [
       "IntProgress(value=0, description='Downloading:', max=3)"
      ]
     },
     "metadata": {},
     "output_type": "display_data"
    },
    {
     "name": "stdout",
     "output_type": "stream",
     "text": [
      "2019-06-30..2019-08-29\n",
      "Found 76 items, which will take 2 pages\n"
     ]
    },
    {
     "data": {
      "application/vnd.jupyter.widget-view+json": {
       "model_id": "f350cc0b29a5499ca24b0dc2fe1334a2",
       "version_major": 2,
       "version_minor": 0
      },
      "text/plain": [
       "IntProgress(value=0, description='Downloading:', max=2)"
      ]
     },
     "metadata": {},
     "output_type": "display_data"
    },
    {
     "name": "stdout",
     "output_type": "stream",
     "text": [
      "Found 69 items, which will take 2 pages\n"
     ]
    },
    {
     "data": {
      "application/vnd.jupyter.widget-view+json": {
       "model_id": "f61504108f1c4c9cbeb50d8dc8a4064c",
       "version_major": 2,
       "version_minor": 0
      },
      "text/plain": [
       "IntProgress(value=0, description='Downloading:', max=2)"
      ]
     },
     "metadata": {},
     "output_type": "display_data"
    },
    {
     "name": "stdout",
     "output_type": "stream",
     "text": [
      "2019-08-29..2019-10-28\n",
      "Found 61 items, which will take 2 pages\n"
     ]
    },
    {
     "data": {
      "application/vnd.jupyter.widget-view+json": {
       "model_id": "02abf4177ed647879773d2a49cd4a8e1",
       "version_major": 2,
       "version_minor": 0
      },
      "text/plain": [
       "IntProgress(value=0, description='Downloading:', max=2)"
      ]
     },
     "metadata": {},
     "output_type": "display_data"
    },
    {
     "name": "stdout",
     "output_type": "stream",
     "text": [
      "Found 80 items, which will take 2 pages\n"
     ]
    },
    {
     "data": {
      "application/vnd.jupyter.widget-view+json": {
       "model_id": "0314ac116fc140afb0e627f8d31989a4",
       "version_major": 2,
       "version_minor": 0
      },
      "text/plain": [
       "IntProgress(value=0, description='Downloading:', max=2)"
      ]
     },
     "metadata": {},
     "output_type": "display_data"
    },
    {
     "name": "stdout",
     "output_type": "stream",
     "text": [
      "2019-10-28..2019-12-27\n",
      "Found 65 items, which will take 2 pages\n"
     ]
    },
    {
     "data": {
      "application/vnd.jupyter.widget-view+json": {
       "model_id": "4276647fca604be3b98073c9336e2e71",
       "version_major": 2,
       "version_minor": 0
      },
      "text/plain": [
       "IntProgress(value=0, description='Downloading:', max=2)"
      ]
     },
     "metadata": {},
     "output_type": "display_data"
    },
    {
     "name": "stdout",
     "output_type": "stream",
     "text": [
      "Found 45 items, which will take 1 pages\n",
      "2019-12-27..2020-02-25\n",
      "Found 40 items, which will take 1 pages\n",
      "Found 7 items, which will take 1 pages\n",
      "2020-02-25..2020-04-25\n",
      "Found 0 items, which will take 0 pages\n",
      "Found no entries for query is:issue user:voila-dashboards updated:2020-02-25..2020-04-25\n",
      "Saving to ../../data/voila-dashboards\n",
      "Finished downloading for voila-dashboards\n",
      "========\n"
     ]
    }
   ],
   "source": [
    "issue_responses = []\n",
    "pr_responses = []\n",
    "\n",
    "for org in github_orgs:\n",
    "    print(f\"\\nDownloading org:  {org}\\n\\n\")\n",
    "    # Initialize dates for the loop\n",
    "    this_start_date = start_date\n",
    "    this_end_date = end_date\n",
    "    days_offset = 0\n",
    "    \n",
    "    # Loop through windows of time and update our data\n",
    "    while this_start_date < end_date:\n",
    "        # Calculate the offset start/end dates\n",
    "        this_start_date = start_date + timedelta(days=days_offset)\n",
    "        this_end_date = this_start_date + timedelta(days=days_per_step)\n",
    "\n",
    "        this_start_date_str = fmt.format(this_start_date)\n",
    "        this_end_date_str = fmt.format(this_end_date)\n",
    "        print(f\"{this_start_date_str}..{this_end_date_str}\")\n",
    "\n",
    "        # Set up the query we'll use\n",
    "        query_issues = f\"is:issue user:{org} updated:{this_start_date_str}..{this_end_date_str}\"\n",
    "        ghq_iss = GitHubGraphQlQuery(query_issues)\n",
    "        ghq_iss.request()\n",
    "        if ghq_iss.data is None:\n",
    "            days_offset += days_per_step\n",
    "            continue\n",
    "        issue_responses.append(ghq_iss)\n",
    "        \n",
    "        # Query for pull request activity\n",
    "        query_prs = f\"is:pr user:{org} created:{this_start_date_str}..{this_end_date_str}\"\n",
    "        ghq_pr = GitHubGraphQlQuery(query_prs)\n",
    "        ghq_pr.request()\n",
    "        if ghq_pr.data is None:\n",
    "            continue\n",
    "        pr_responses.append(ghq_pr)\n",
    "    \n",
    "        days_offset += days_per_step\n",
    "        \n",
    "    # Combine Issues and pull comments\n",
    "    issues = pd.concat([ii.data for ii in issue_responses])\n",
    "    issues_comments = issues.pop(\"comments\")\n",
    "    issues_comments = extract_comments(issues_comments)\n",
    "\n",
    "    # Combine PRs and pull comments\n",
    "    prs = pd.concat([ii.data for ii in pr_responses])\n",
    "    prs_comments = prs.pop('comments')\n",
    "    prs_comments = extract_comments(prs_comments)\n",
    "    \n",
    "    # Combine the comments\n",
    "    comments = pd.concat([prs_comments, issues_comments])\n",
    "\n",
    "    # Add a PR-specific field for closed PRs\n",
    "    prs['mergedBy'] = prs['mergedBy'].map(lambda a: a['login'] if a is not None else None)\n",
    "    \n",
    "    path_folder = op.join(path_data, org)\n",
    "    os.makedirs(path_folder, exist_ok=True)\n",
    "    \n",
    "    print(f\"Saving to {path_folder}\")\n",
    "    prs.to_csv(op.join(path_folder, 'prs.csv'))\n",
    "    issues.to_csv(op.join(path_folder, 'issues.csv'))\n",
    "    comments.to_csv(op.join(path_folder, 'comments.csv'))\n",
    "    print(f\"Finished downloading for {org}\\n========\")"
   ]
  },
  {
   "cell_type": "markdown",
   "metadata": {},
   "source": [
    "## Combine comments"
   ]
  },
  {
   "cell_type": "code",
   "execution_count": 82,
   "metadata": {},
   "outputs": [
    {
     "data": {
      "text/plain": [
       "<matplotlib.axes._subplots.AxesSubplot at 0x7fa352aeccc0>"
      ]
     },
     "execution_count": 82,
     "metadata": {},
     "output_type": "execute_result"
    },
    {
     "data": {
      "image/png": "[encoded data removed]",
      "text/plain": [
       "<Figure size 432x288 with 1 Axes>"
      ]
     },
     "metadata": {
      "needs_background": "light"
     },
     "output_type": "display_data"
    }
   ],
   "source": [
    "prs_new = prs.copy()\n",
    "prs_new['createdAt'] = prs_new['createdAt'].apply(pd.to_datetime)\n",
    "prs_new.resample('W', on='createdAt').agg({'id': 'count', 'org': 'first'}).set_index('org', append=True).unstack('org')['id'].interpolate('linear').plot()"
   ]
  }
 ],
 "metadata": {
  "kernelspec": {
   "display_name": "Python 3",
   "language": "python",
   "name": "python3"
  },
  "language_info": {
   "codemirror_mode": {
    "name": "ipython",
    "version": 3
   },
   "file_extension": ".py",
   "mimetype": "text/x-python",
   "name": "python",
   "nbconvert_exporter": "python",
   "pygments_lexer": "ipython3",
   "version": "3.7.3"
  },
  "widgets": {
   "application/vnd.jupyter.widget-state+json": {
    "state": {},
    "version_major": 2,
    "version_minor": 0
   }
  }
 },
 "nbformat": 4,
 "nbformat_minor": 4
}
