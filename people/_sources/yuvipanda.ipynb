{
 "cells": [
  {
   "cell_type": "markdown",
   "metadata": {
    "papermill": {
     "duration": 0.011696,
     "end_time": "2020-06-24T01:12:33.072074",
     "exception": false,
     "start_time": "2020-06-24T01:12:33.060378",
     "status": "completed"
    },
    "tags": []
   },
   "source": [
    "# Report for yuvipanda"
   ]
  },
  {
   "cell_type": "code",
   "execution_count": 1,
   "metadata": {
    "execution": {
     "iopub.execute_input": "2020-06-24T01:12:33.101441Z",
     "iopub.status.busy": "2020-06-24T01:12:33.100959Z",
     "iopub.status.idle": "2020-06-24T01:12:33.878317Z",
     "shell.execute_reply": "2020-06-24T01:12:33.877448Z"
    },
    "papermill": {
     "duration": 0.794164,
     "end_time": "2020-06-24T01:12:33.878432",
     "exception": false,
     "start_time": "2020-06-24T01:12:33.084268",
     "status": "completed"
    },
    "tags": [
     "remove_cell"
    ]
   },
   "outputs": [],
   "source": [
    "import seaborn as sns\n",
    "import pandas as pd\n",
    "import numpy as np\n",
    "import altair as alt\n",
    "from markdown import markdown\n",
    "from IPython.display import Markdown\n",
    "from ipywidgets.widgets import HTML, Tab\n",
    "from ipywidgets import widgets\n",
    "from datetime import timedelta\n",
    "from matplotlib import pyplot as plt\n",
    "import os.path as op\n",
    "\n",
    "from mycode import alt_theme\n",
    "from warnings import simplefilter\n",
    "simplefilter('ignore')"
   ]
  },
  {
   "cell_type": "code",
   "execution_count": 2,
   "metadata": {
    "execution": {
     "iopub.execute_input": "2020-06-24T01:12:33.905900Z",
     "iopub.status.busy": "2020-06-24T01:12:33.904855Z",
     "iopub.status.idle": "2020-06-24T01:12:33.906390Z",
     "shell.execute_reply": "2020-06-24T01:12:33.906874Z"
    },
    "papermill": {
     "duration": 0.01629,
     "end_time": "2020-06-24T01:12:33.906977",
     "exception": false,
     "start_time": "2020-06-24T01:12:33.890687",
     "status": "completed"
    },
    "tags": [
     "remove_cell"
    ]
   },
   "outputs": [],
   "source": [
    "def author_url(author):\n",
    "    return f\"https://github.com/{author}\""
   ]
  },
  {
   "cell_type": "code",
   "execution_count": 3,
   "metadata": {
    "execution": {
     "iopub.execute_input": "2020-06-24T01:12:33.932522Z",
     "iopub.status.busy": "2020-06-24T01:12:33.931988Z",
     "iopub.status.idle": "2020-06-24T01:12:33.934050Z",
     "shell.execute_reply": "2020-06-24T01:12:33.933563Z"
    },
    "papermill": {
     "duration": 0.01663,
     "end_time": "2020-06-24T01:12:33.934127",
     "exception": false,
     "start_time": "2020-06-24T01:12:33.917497",
     "status": "completed"
    },
    "tags": [
     "parameters",
     "hide_input"
    ]
   },
   "outputs": [],
   "source": [
    "# Parameters\n",
    "fmt_date = \"{:%Y-%m-%d}\"\n",
    "\n",
    "n_days = 30 * 2\n",
    "start_date = fmt_date.format(pd.datetime.today() - timedelta(days=n_days))\n",
    "end_date = fmt_date.format(pd.datetime.today())\n",
    "\n",
    "renderer = \"html\"\n",
    "person = \"jasongrout\""
   ]
  },
  {
   "cell_type": "code",
   "execution_count": 4,
   "metadata": {
    "execution": {
     "iopub.execute_input": "2020-06-24T01:12:33.958720Z",
     "iopub.status.busy": "2020-06-24T01:12:33.958159Z",
     "iopub.status.idle": "2020-06-24T01:12:33.959772Z",
     "shell.execute_reply": "2020-06-24T01:12:33.960191Z"
    },
    "papermill": {
     "duration": 0.015469,
     "end_time": "2020-06-24T01:12:33.960301",
     "exception": false,
     "start_time": "2020-06-24T01:12:33.944832",
     "status": "completed"
    },
    "tags": [
     "injected-parameters",
     "remove-cell"
    ]
   },
   "outputs": [],
   "source": [
    "# Parameters\n",
    "person = \"yuvipanda\"\n",
    "n_days = 60\n"
   ]
  },
  {
   "cell_type": "code",
   "execution_count": 5,
   "metadata": {
    "execution": {
     "iopub.execute_input": "2020-06-24T01:12:33.987317Z",
     "iopub.status.busy": "2020-06-24T01:12:33.986856Z",
     "iopub.status.idle": "2020-06-24T01:12:33.989569Z",
     "shell.execute_reply": "2020-06-24T01:12:33.989173Z"
    },
    "papermill": {
     "duration": 0.018014,
     "end_time": "2020-06-24T01:12:33.989645",
     "exception": false,
     "start_time": "2020-06-24T01:12:33.971631",
     "status": "completed"
    },
    "tags": [
     "remove_cell"
    ]
   },
   "outputs": [
    {
     "data": {
      "text/plain": [
       "ThemeRegistry.enable('my_theme')"
      ]
     },
     "execution_count": 5,
     "metadata": {},
     "output_type": "execute_result"
    }
   ],
   "source": [
    "alt.renderers.enable(renderer);\n",
    "alt.themes.register('my_theme', alt_theme)\n",
    "alt.themes.enable(\"my_theme\")"
   ]
  },
  {
   "cell_type": "markdown",
   "metadata": {
    "papermill": {
     "duration": 0.011298,
     "end_time": "2020-06-24T01:12:34.013269",
     "exception": false,
     "start_time": "2020-06-24T01:12:34.001971",
     "status": "completed"
    },
    "tags": []
   },
   "source": [
    "## Load data"
   ]
  },
  {
   "cell_type": "code",
   "execution_count": 6,
   "metadata": {
    "execution": {
     "iopub.execute_input": "2020-06-24T01:12:34.041020Z",
     "iopub.status.busy": "2020-06-24T01:12:34.040557Z",
     "iopub.status.idle": "2020-06-24T01:12:34.177715Z",
     "shell.execute_reply": "2020-06-24T01:12:34.177221Z"
    },
    "papermill": {
     "duration": 0.153255,
     "end_time": "2020-06-24T01:12:34.177816",
     "exception": false,
     "start_time": "2020-06-24T01:12:34.024561",
     "status": "completed"
    },
    "tags": [
     "remove_cell"
    ]
   },
   "outputs": [],
   "source": [
    "from pathlib import Path\n",
    "path_data = Path(\"./\")\n",
    "comments = pd.read_csv(path_data.joinpath('comments.csv'), index_col=0)\n",
    "issues = pd.read_csv(path_data.joinpath('issues.csv'), index_col=0)\n",
    "prs = pd.read_csv(path_data.joinpath('prs.csv'), index_col=0)\n",
    "\n",
    "comments = comments.query('author == @person').drop_duplicates()\n",
    "issues = issues.query('author == @person').drop_duplicates()\n",
    "closed_by = prs.query('mergedBy == @person')\n",
    "prs = prs.query('author == @person').drop_duplicates()"
   ]
  },
  {
   "cell_type": "code",
   "execution_count": 7,
   "metadata": {
    "execution": {
     "iopub.execute_input": "2020-06-24T01:12:34.246584Z",
     "iopub.status.busy": "2020-06-24T01:12:34.234644Z",
     "iopub.status.idle": "2020-06-24T01:12:34.253523Z",
     "shell.execute_reply": "2020-06-24T01:12:34.253018Z"
    },
    "papermill": {
     "duration": 0.062607,
     "end_time": "2020-06-24T01:12:34.253608",
     "exception": false,
     "start_time": "2020-06-24T01:12:34.191001",
     "status": "completed"
    },
    "tags": [
     "remove_cell"
    ]
   },
   "outputs": [],
   "source": [
    "# Time columns\n",
    "# Also drop dates outside of our range\n",
    "time_columns = ['updatedAt', 'createdAt', 'closedAt']\n",
    "for col in time_columns:\n",
    "    for item in [comments, issues, prs, closed_by]:\n",
    "        if col not in item.columns:\n",
    "            continue\n",
    "        dt = pd.to_datetime(item[col]).dt.tz_localize(None)\n",
    "        item[col] = dt\n",
    "        item.query(\"updatedAt < @end_date and updatedAt > @start_date\", inplace=True)"
   ]
  },
  {
   "cell_type": "markdown",
   "metadata": {
    "papermill": {
     "duration": 0.011338,
     "end_time": "2020-06-24T01:12:34.276249",
     "exception": false,
     "start_time": "2020-06-24T01:12:34.264911",
     "status": "completed"
    },
    "tags": []
   },
   "source": [
    "# Repository summaries"
   ]
  },
  {
   "cell_type": "code",
   "execution_count": 8,
   "metadata": {
    "execution": {
     "iopub.execute_input": "2020-06-24T01:12:34.308079Z",
     "iopub.status.busy": "2020-06-24T01:12:34.307612Z",
     "iopub.status.idle": "2020-06-24T01:12:34.321259Z",
     "shell.execute_reply": "2020-06-24T01:12:34.320861Z"
    },
    "papermill": {
     "duration": 0.033779,
     "end_time": "2020-06-24T01:12:34.321339",
     "exception": false,
     "start_time": "2020-06-24T01:12:34.287560",
     "status": "completed"
    },
    "tags": [
     "remove_cell"
    ]
   },
   "outputs": [],
   "source": [
    "summaries = []\n",
    "for idata, name in [(issues, 'issues'), (prs, 'prs'), (comments, 'comments')]:\n",
    "    idata = idata.groupby([\"repo\", \"org\"]).agg({'id': \"count\"}).reset_index().rename(columns={'id': 'count'})\n",
    "    idata[\"kind\"] = name\n",
    "    summaries.append(idata)\n",
    "summaries = pd.concat(summaries)"
   ]
  },
  {
   "cell_type": "code",
   "execution_count": 9,
   "metadata": {
    "execution": {
     "iopub.execute_input": "2020-06-24T01:12:34.348798Z",
     "iopub.status.busy": "2020-06-24T01:12:34.348268Z",
     "iopub.status.idle": "2020-06-24T01:12:34.358540Z",
     "shell.execute_reply": "2020-06-24T01:12:34.358039Z"
    },
    "papermill": {
     "duration": 0.024718,
     "end_time": "2020-06-24T01:12:34.358617",
     "exception": false,
     "start_time": "2020-06-24T01:12:34.333899",
     "status": "completed"
    },
    "tags": [
     "remove_cell"
    ]
   },
   "outputs": [],
   "source": [
    "repo_summaries = summaries.groupby([\"repo\", \"kind\"]).agg({\"count\": \"sum\"}).reset_index()\n",
    "org_summaries = summaries.groupby([\"org\", \"kind\"]).agg({\"count\": \"sum\"}).reset_index()"
   ]
  },
  {
   "cell_type": "code",
   "execution_count": 10,
   "metadata": {
    "execution": {
     "iopub.execute_input": "2020-06-24T01:12:34.385561Z",
     "iopub.status.busy": "2020-06-24T01:12:34.385106Z",
     "iopub.status.idle": "2020-06-24T01:12:34.387487Z",
     "shell.execute_reply": "2020-06-24T01:12:34.387096Z"
    },
    "papermill": {
     "duration": 0.01746,
     "end_time": "2020-06-24T01:12:34.387563",
     "exception": false,
     "start_time": "2020-06-24T01:12:34.370103",
     "status": "completed"
    },
    "tags": [
     "remove_cell"
    ]
   },
   "outputs": [],
   "source": [
    "repo_summaries['logcount'] = np.log(repo_summaries[\"count\"])"
   ]
  },
  {
   "cell_type": "code",
   "execution_count": 11,
   "metadata": {
    "execution": {
     "iopub.execute_input": "2020-06-24T01:12:34.432761Z",
     "iopub.status.busy": "2020-06-24T01:12:34.422538Z",
     "iopub.status.idle": "2020-06-24T01:12:34.459095Z",
     "shell.execute_reply": "2020-06-24T01:12:34.459618Z"
    },
    "papermill": {
     "duration": 0.060582,
     "end_time": "2020-06-24T01:12:34.459722",
     "exception": false,
     "start_time": "2020-06-24T01:12:34.399140",
     "status": "completed"
    },
    "tags": [
     "hide_input"
    ]
   },
   "outputs": [
    {
     "data": {
      "text/html": [
       "\n",
       "<div id=\"altair-viz-ca5e5a75dffb41f68620c7dbfadf7ef1\"></div>\n",
       "<script type=\"text/javascript\">\n",
       "  (function(spec, embedOpt){\n",
       "    let outputDiv = document.currentScript.previousElementSibling;\n",
       "    if (outputDiv.id !== \"altair-viz-ca5e5a75dffb41f68620c7dbfadf7ef1\") {\n",
       "      outputDiv = document.getElementById(\"altair-viz-ca5e5a75dffb41f68620c7dbfadf7ef1\");\n",
       "    }\n",
       "    const paths = {\n",
       "      \"vega\": \"https://cdn.jsdelivr.net/npm//vega@5?noext\",\n",
       "      \"vega-lib\": \"https://cdn.jsdelivr.net/npm//vega-lib?noext\",\n",
       "      \"vega-lite\": \"https://cdn.jsdelivr.net/npm//vega-lite@4.8.1?noext\",\n",
       "      \"vega-embed\": \"https://cdn.jsdelivr.net/npm//vega-embed@6?noext\",\n",
       "    };\n",
       "\n",
       "    function loadScript(lib) {\n",
       "      return new Promise(function(resolve, reject) {\n",
       "        var s = document.createElement('script');\n",
       "        s.src = paths[lib];\n",
       "        s.async = true;\n",
       "        s.onload = () => resolve(paths[lib]);\n",
       "        s.onerror = () => reject(`Error loading script: ${paths[lib]}`);\n",
       "        document.getElementsByTagName(\"head\")[0].appendChild(s);\n",
       "      });\n",
       "    }\n",
       "\n",
       "    function showError(err) {\n",
       "      outputDiv.innerHTML = `<div class=\"error\" style=\"color:red;\">${err}</div>`;\n",
       "      throw err;\n",
       "    }\n",
       "\n",
       "    function displayChart(vegaEmbed) {\n",
       "      vegaEmbed(outputDiv, spec, embedOpt)\n",
       "        .catch(err => showError(`Javascript Error: ${err.message}<br>This usually means there's a typo in your chart specification. See the javascript console for the full traceback.`));\n",
       "    }\n",
       "\n",
       "    if(typeof define === \"function\" && define.amd) {\n",
       "      requirejs.config({paths});\n",
       "      require([\"vega-embed\"], displayChart, err => showError(`Error loading script: ${err.message}`));\n",
       "    } else if (typeof vegaEmbed === \"function\") {\n",
       "      displayChart(vegaEmbed);\n",
       "    } else {\n",
       "      loadScript(\"vega\")\n",
       "        .then(() => loadScript(\"vega-lite\"))\n",
       "        .then(() => loadScript(\"vega-embed\"))\n",
       "        .catch(showError)\n",
       "        .then(() => displayChart(vegaEmbed));\n",
       "    }\n",
       "  })({\"config\": {\"axisLeft\": {\"labelFontSize\": 15}, \"axisBottom\": {\"labelFontSize\": 15}}, \"hconcat\": [{\"mark\": \"bar\", \"encoding\": {\"color\": {\"type\": \"nominal\", \"field\": \"kind\"}, \"tooltip\": {\"type\": \"nominal\", \"field\": \"kind\"}, \"x\": {\"type\": \"nominal\", \"field\": \"repo\"}, \"y\": {\"type\": \"quantitative\", \"field\": \"count\"}}, \"title\": \"Activity per repository\", \"width\": 600}, {\"mark\": \"bar\", \"encoding\": {\"color\": {\"type\": \"nominal\", \"field\": \"kind\"}, \"tooltip\": {\"type\": \"nominal\", \"field\": \"kind\"}, \"x\": {\"type\": \"nominal\", \"field\": \"repo\"}, \"y\": {\"type\": \"quantitative\", \"field\": \"logcount\"}}, \"title\": \"Log activity per repository\", \"width\": 600}], \"data\": {\"name\": \"data-d2e24d5c57b804afe966e353f5b7df51\"}, \"$schema\": \"https://vega.github.io/schema/vega-lite/v4.8.1.json\", \"datasets\": {\"data-d2e24d5c57b804afe966e353f5b7df51\": [{\"repo\": \"MyST-Parser\", \"kind\": \"comments\", \"count\": 1, \"logcount\": 0.0}, {\"repo\": \"MyST-Parser\", \"kind\": \"issues\", \"count\": 1, \"logcount\": 0.0}, {\"repo\": \"batchspawner\", \"kind\": \"prs\", \"count\": 1, \"logcount\": 0.0}, {\"repo\": \"configurable-http-proxy\", \"kind\": \"issues\", \"count\": 1, \"logcount\": 0.0}, {\"repo\": \"dockerspawner\", \"kind\": \"comments\", \"count\": 4, \"logcount\": 1.3862943611198906}, {\"repo\": \"extension-cookiecutter-ts\", \"kind\": \"prs\", \"count\": 1, \"logcount\": 0.0}, {\"repo\": \"jupyter-server-proxy\", \"kind\": \"comments\", \"count\": 7, \"logcount\": 1.9459101490553132}, {\"repo\": \"jupyter-server-proxy\", \"kind\": \"prs\", \"count\": 3, \"logcount\": 1.0986122886681098}, {\"repo\": \"jupyterhub\", \"kind\": \"comments\", \"count\": 10, \"logcount\": 2.302585092994046}, {\"repo\": \"jupyterhub\", \"kind\": \"issues\", \"count\": 1, \"logcount\": 0.0}, {\"repo\": \"jupyterhub-idle-culler\", \"kind\": \"comments\", \"count\": 4, \"logcount\": 1.3862943611198906}, {\"repo\": \"jupyterlab\", \"kind\": \"comments\", \"count\": 3, \"logcount\": 1.0986122886681098}, {\"repo\": \"jupyterlab\", \"kind\": \"issues\", \"count\": 1, \"logcount\": 0.0}, {\"repo\": \"jupyterlab\", \"kind\": \"prs\", \"count\": 1, \"logcount\": 0.0}, {\"repo\": \"kubespawner\", \"kind\": \"comments\", \"count\": 3, \"logcount\": 1.0986122886681098}, {\"repo\": \"mybinder.org-deploy\", \"kind\": \"comments\", \"count\": 4, \"logcount\": 1.3862943611198906}, {\"repo\": \"notebook\", \"kind\": \"issues\", \"count\": 1, \"logcount\": 0.0}, {\"repo\": \"notebook\", \"kind\": \"prs\", \"count\": 1, \"logcount\": 0.0}, {\"repo\": \"repo2docker\", \"kind\": \"comments\", \"count\": 1, \"logcount\": 0.0}, {\"repo\": \"repo2docker\", \"kind\": \"issues\", \"count\": 1, \"logcount\": 0.0}, {\"repo\": \"repo2docker\", \"kind\": \"prs\", \"count\": 1, \"logcount\": 0.0}, {\"repo\": \"team-compass\", \"kind\": \"comments\", \"count\": 4, \"logcount\": 1.3862943611198906}, {\"repo\": \"the-littlest-jupyterhub\", \"kind\": \"comments\", \"count\": 18, \"logcount\": 2.8903717578961645}, {\"repo\": \"the-littlest-jupyterhub\", \"kind\": \"prs\", \"count\": 3, \"logcount\": 1.0986122886681098}, {\"repo\": \"traefik-proxy\", \"kind\": \"comments\", \"count\": 4, \"logcount\": 1.3862943611198906}, {\"repo\": \"traefik-proxy\", \"kind\": \"issues\", \"count\": 2, \"logcount\": 0.6931471805599453}, {\"repo\": \"zero-to-jupyterhub-k8s\", \"kind\": \"comments\", \"count\": 11, \"logcount\": 2.3978952727983707}, {\"repo\": \"zero-to-jupyterhub-k8s\", \"kind\": \"issues\", \"count\": 5, \"logcount\": 1.6094379124341003}, {\"repo\": \"zero-to-jupyterhub-k8s\", \"kind\": \"prs\", \"count\": 3, \"logcount\": 1.0986122886681098}]}}, {\"mode\": \"vega-lite\"});\n",
       "</script>"
      ],
      "text/plain": [
       "alt.HConcatChart(...)"
      ]
     },
     "execution_count": 11,
     "metadata": {},
     "output_type": "execute_result"
    }
   ],
   "source": [
    "ch1 = alt.Chart(repo_summaries, width=600, title=\"Activity per repository\").mark_bar().encode(\n",
    "    x='repo',\n",
    "    y='count',\n",
    "    color='kind',\n",
    "    tooltip=\"kind\"\n",
    ")\n",
    "\n",
    "ch2 = alt.Chart(repo_summaries, width=600, title=\"Log activity per repository\").mark_bar().encode(\n",
    "    x='repo',\n",
    "    y='logcount',\n",
    "    color='kind',\n",
    "    tooltip=\"kind\"\n",
    ")\n",
    "\n",
    "ch1 | ch2"
   ]
  },
  {
   "cell_type": "code",
   "execution_count": 12,
   "metadata": {
    "execution": {
     "iopub.execute_input": "2020-06-24T01:12:34.489312Z",
     "iopub.status.busy": "2020-06-24T01:12:34.488852Z",
     "iopub.status.idle": "2020-06-24T01:12:34.511663Z",
     "shell.execute_reply": "2020-06-24T01:12:34.511268Z"
    },
    "papermill": {
     "duration": 0.038607,
     "end_time": "2020-06-24T01:12:34.511740",
     "exception": false,
     "start_time": "2020-06-24T01:12:34.473133",
     "status": "completed"
    },
    "tags": [
     "hide_input"
    ]
   },
   "outputs": [
    {
     "data": {
      "text/html": [
       "\n",
       "<div id=\"altair-viz-beff761a34824328aa1feb65e0bc2478\"></div>\n",
       "<script type=\"text/javascript\">\n",
       "  (function(spec, embedOpt){\n",
       "    let outputDiv = document.currentScript.previousElementSibling;\n",
       "    if (outputDiv.id !== \"altair-viz-beff761a34824328aa1feb65e0bc2478\") {\n",
       "      outputDiv = document.getElementById(\"altair-viz-beff761a34824328aa1feb65e0bc2478\");\n",
       "    }\n",
       "    const paths = {\n",
       "      \"vega\": \"https://cdn.jsdelivr.net/npm//vega@5?noext\",\n",
       "      \"vega-lib\": \"https://cdn.jsdelivr.net/npm//vega-lib?noext\",\n",
       "      \"vega-lite\": \"https://cdn.jsdelivr.net/npm//vega-lite@4.8.1?noext\",\n",
       "      \"vega-embed\": \"https://cdn.jsdelivr.net/npm//vega-embed@6?noext\",\n",
       "    };\n",
       "\n",
       "    function loadScript(lib) {\n",
       "      return new Promise(function(resolve, reject) {\n",
       "        var s = document.createElement('script');\n",
       "        s.src = paths[lib];\n",
       "        s.async = true;\n",
       "        s.onload = () => resolve(paths[lib]);\n",
       "        s.onerror = () => reject(`Error loading script: ${paths[lib]}`);\n",
       "        document.getElementsByTagName(\"head\")[0].appendChild(s);\n",
       "      });\n",
       "    }\n",
       "\n",
       "    function showError(err) {\n",
       "      outputDiv.innerHTML = `<div class=\"error\" style=\"color:red;\">${err}</div>`;\n",
       "      throw err;\n",
       "    }\n",
       "\n",
       "    function displayChart(vegaEmbed) {\n",
       "      vegaEmbed(outputDiv, spec, embedOpt)\n",
       "        .catch(err => showError(`Javascript Error: ${err.message}<br>This usually means there's a typo in your chart specification. See the javascript console for the full traceback.`));\n",
       "    }\n",
       "\n",
       "    if(typeof define === \"function\" && define.amd) {\n",
       "      requirejs.config({paths});\n",
       "      require([\"vega-embed\"], displayChart, err => showError(`Error loading script: ${err.message}`));\n",
       "    } else if (typeof vegaEmbed === \"function\") {\n",
       "      displayChart(vegaEmbed);\n",
       "    } else {\n",
       "      loadScript(\"vega\")\n",
       "        .then(() => loadScript(\"vega-lite\"))\n",
       "        .then(() => loadScript(\"vega-embed\"))\n",
       "        .catch(showError)\n",
       "        .then(() => displayChart(vegaEmbed));\n",
       "    }\n",
       "  })({\"config\": {\"axisLeft\": {\"labelFontSize\": 15}, \"axisBottom\": {\"labelFontSize\": 15}}, \"data\": {\"name\": \"data-eed800e7354e56fe9eac184242446fa0\"}, \"mark\": \"bar\", \"encoding\": {\"color\": {\"type\": \"nominal\", \"field\": \"kind\"}, \"tooltip\": {\"type\": \"nominal\", \"field\": \"org\"}, \"x\": {\"type\": \"nominal\", \"field\": \"org\"}, \"y\": {\"type\": \"quantitative\", \"field\": \"count\"}}, \"width\": 600, \"$schema\": \"https://vega.github.io/schema/vega-lite/v4.8.1.json\", \"datasets\": {\"data-eed800e7354e56fe9eac184242446fa0\": [{\"org\": \"executablebooks\", \"kind\": \"comments\", \"count\": 1}, {\"org\": \"executablebooks\", \"kind\": \"issues\", \"count\": 1}, {\"org\": \"jupyter\", \"kind\": \"comments\", \"count\": 1}, {\"org\": \"jupyter\", \"kind\": \"issues\", \"count\": 2}, {\"org\": \"jupyter\", \"kind\": \"prs\", \"count\": 2}, {\"org\": \"jupyterhub\", \"kind\": \"comments\", \"count\": 69}, {\"org\": \"jupyterhub\", \"kind\": \"issues\", \"count\": 9}, {\"org\": \"jupyterhub\", \"kind\": \"prs\", \"count\": 10}, {\"org\": \"jupyterlab\", \"kind\": \"comments\", \"count\": 3}, {\"org\": \"jupyterlab\", \"kind\": \"issues\", \"count\": 1}, {\"org\": \"jupyterlab\", \"kind\": \"prs\", \"count\": 2}]}}, {\"mode\": \"vega-lite\"});\n",
       "</script>"
      ],
      "text/plain": [
       "alt.Chart(...)"
      ]
     },
     "execution_count": 12,
     "metadata": {},
     "output_type": "execute_result"
    }
   ],
   "source": [
    "alt.Chart(org_summaries, width=600).mark_bar().encode(\n",
    "    x='org',\n",
    "    y='count',\n",
    "    color='kind',\n",
    "    tooltip=\"org\"\n",
    ")"
   ]
  },
  {
   "cell_type": "markdown",
   "metadata": {
    "papermill": {
     "duration": 0.012564,
     "end_time": "2020-06-24T01:12:34.536997",
     "exception": false,
     "start_time": "2020-06-24T01:12:34.524433",
     "status": "completed"
    },
    "tags": []
   },
   "source": [
    "# By repository over time"
   ]
  },
  {
   "cell_type": "markdown",
   "metadata": {
    "papermill": {
     "duration": 0.012489,
     "end_time": "2020-06-24T01:12:34.562056",
     "exception": false,
     "start_time": "2020-06-24T01:12:34.549567",
     "status": "completed"
    },
    "tags": []
   },
   "source": [
    "## Comments"
   ]
  },
  {
   "cell_type": "code",
   "execution_count": 13,
   "metadata": {
    "execution": {
     "iopub.execute_input": "2020-06-24T01:12:34.595698Z",
     "iopub.status.busy": "2020-06-24T01:12:34.595233Z",
     "iopub.status.idle": "2020-06-24T01:12:34.678497Z",
     "shell.execute_reply": "2020-06-24T01:12:34.679031Z"
    },
    "papermill": {
     "duration": 0.103283,
     "end_time": "2020-06-24T01:12:34.679140",
     "exception": false,
     "start_time": "2020-06-24T01:12:34.575857",
     "status": "completed"
    },
    "tags": [
     "hide_input"
    ]
   },
   "outputs": [
    {
     "data": {
      "text/html": [
       "\n",
       "<div id=\"altair-viz-67a34d8f50d0421f94059ace913261bb\"></div>\n",
       "<script type=\"text/javascript\">\n",
       "  (function(spec, embedOpt){\n",
       "    let outputDiv = document.currentScript.previousElementSibling;\n",
       "    if (outputDiv.id !== \"altair-viz-67a34d8f50d0421f94059ace913261bb\") {\n",
       "      outputDiv = document.getElementById(\"altair-viz-67a34d8f50d0421f94059ace913261bb\");\n",
       "    }\n",
       "    const paths = {\n",
       "      \"vega\": \"https://cdn.jsdelivr.net/npm//vega@5?noext\",\n",
       "      \"vega-lib\": \"https://cdn.jsdelivr.net/npm//vega-lib?noext\",\n",
       "      \"vega-lite\": \"https://cdn.jsdelivr.net/npm//vega-lite@4.8.1?noext\",\n",
       "      \"vega-embed\": \"https://cdn.jsdelivr.net/npm//vega-embed@6?noext\",\n",
       "    };\n",
       "\n",
       "    function loadScript(lib) {\n",
       "      return new Promise(function(resolve, reject) {\n",
       "        var s = document.createElement('script');\n",
       "        s.src = paths[lib];\n",
       "        s.async = true;\n",
       "        s.onload = () => resolve(paths[lib]);\n",
       "        s.onerror = () => reject(`Error loading script: ${paths[lib]}`);\n",
       "        document.getElementsByTagName(\"head\")[0].appendChild(s);\n",
       "      });\n",
       "    }\n",
       "\n",
       "    function showError(err) {\n",
       "      outputDiv.innerHTML = `<div class=\"error\" style=\"color:red;\">${err}</div>`;\n",
       "      throw err;\n",
       "    }\n",
       "\n",
       "    function displayChart(vegaEmbed) {\n",
       "      vegaEmbed(outputDiv, spec, embedOpt)\n",
       "        .catch(err => showError(`Javascript Error: ${err.message}<br>This usually means there's a typo in your chart specification. See the javascript console for the full traceback.`));\n",
       "    }\n",
       "\n",
       "    if(typeof define === \"function\" && define.amd) {\n",
       "      requirejs.config({paths});\n",
       "      require([\"vega-embed\"], displayChart, err => showError(`Error loading script: ${err.message}`));\n",
       "    } else if (typeof vegaEmbed === \"function\") {\n",
       "      displayChart(vegaEmbed);\n",
       "    } else {\n",
       "      loadScript(\"vega\")\n",
       "        .then(() => loadScript(\"vega-lite\"))\n",
       "        .then(() => loadScript(\"vega-embed\"))\n",
       "        .catch(showError)\n",
       "        .then(() => displayChart(vegaEmbed));\n",
       "    }\n",
       "  })({\"config\": {\"axisLeft\": {\"labelFontSize\": 15}, \"axisBottom\": {\"labelFontSize\": 15}}, \"layer\": [{\"data\": {\"name\": \"data-a7b27a7683cd6126480e5048ca6b51de\"}, \"mark\": \"line\", \"encoding\": {\"color\": {\"type\": \"nominal\", \"field\": \"repo\"}, \"tooltip\": {\"type\": \"nominal\", \"field\": \"repo\"}, \"x\": {\"type\": \"temporal\", \"field\": \"createdAt\"}, \"y\": {\"type\": \"quantitative\", \"field\": \"count\"}}, \"width\": 600}, {\"data\": {\"name\": \"data-9ec14575a3911aaa9a4247af00bd310a\"}, \"mark\": {\"type\": \"line\", \"color\": \"black\"}, \"encoding\": {\"x\": {\"type\": \"temporal\", \"field\": \"createdAt\"}, \"y\": {\"type\": \"quantitative\", \"field\": \"count\"}}, \"width\": 600}], \"$schema\": \"https://vega.github.io/schema/vega-lite/v4.8.1.json\", \"datasets\": {\"data-a7b27a7683cd6126480e5048ca6b51de\": [{\"repo\": \"MyST-Parser\", \"createdAt\": \"2020-06-28T00:00:00\", \"count\": 1}, {\"repo\": \"dockerspawner\", \"createdAt\": \"2020-06-14T00:00:00\", \"count\": 4}, {\"repo\": \"jupyter-server-proxy\", \"createdAt\": \"2020-05-17T00:00:00\", \"count\": 5}, {\"repo\": \"jupyter-server-proxy\", \"createdAt\": \"2020-05-24T00:00:00\", \"count\": 1}, {\"repo\": \"jupyter-server-proxy\", \"createdAt\": \"2020-05-31T00:00:00\", \"count\": 0}, {\"repo\": \"jupyter-server-proxy\", \"createdAt\": \"2020-06-07T00:00:00\", \"count\": 0}, {\"repo\": \"jupyter-server-proxy\", \"createdAt\": \"2020-06-14T00:00:00\", \"count\": 1}, {\"repo\": \"jupyterhub\", \"createdAt\": \"2020-05-10T00:00:00\", \"count\": 1}, {\"repo\": \"jupyterhub\", \"createdAt\": \"2020-05-17T00:00:00\", \"count\": 0}, {\"repo\": \"jupyterhub\", \"createdAt\": \"2020-05-24T00:00:00\", \"count\": 0}, {\"repo\": \"jupyterhub\", \"createdAt\": \"2020-05-31T00:00:00\", \"count\": 0}, {\"repo\": \"jupyterhub\", \"createdAt\": \"2020-06-07T00:00:00\", \"count\": 0}, {\"repo\": \"jupyterhub\", \"createdAt\": \"2020-06-14T00:00:00\", \"count\": 1}, {\"repo\": \"jupyterhub\", \"createdAt\": \"2020-06-21T00:00:00\", \"count\": 0}, {\"repo\": \"jupyterhub\", \"createdAt\": \"2020-06-28T00:00:00\", \"count\": 8}, {\"repo\": \"jupyterhub-idle-culler\", \"createdAt\": \"2020-05-24T00:00:00\", \"count\": 1}, {\"repo\": \"jupyterhub-idle-culler\", \"createdAt\": \"2020-05-31T00:00:00\", \"count\": 1}, {\"repo\": \"jupyterhub-idle-culler\", \"createdAt\": \"2020-06-07T00:00:00\", \"count\": 0}, {\"repo\": \"jupyterhub-idle-culler\", \"createdAt\": \"2020-06-14T00:00:00\", \"count\": 1}, {\"repo\": \"jupyterhub-idle-culler\", \"createdAt\": \"2020-06-21T00:00:00\", \"count\": 1}, {\"repo\": \"jupyterlab\", \"createdAt\": \"2020-05-31T00:00:00\", \"count\": 2}, {\"repo\": \"jupyterlab\", \"createdAt\": \"2020-06-07T00:00:00\", \"count\": 0}, {\"repo\": \"jupyterlab\", \"createdAt\": \"2020-06-14T00:00:00\", \"count\": 1}, {\"repo\": \"kubespawner\", \"createdAt\": \"2020-05-03T00:00:00\", \"count\": 2}, {\"repo\": \"kubespawner\", \"createdAt\": \"2020-05-10T00:00:00\", \"count\": 0}, {\"repo\": \"kubespawner\", \"createdAt\": \"2020-05-17T00:00:00\", \"count\": 0}, {\"repo\": \"kubespawner\", \"createdAt\": \"2020-05-24T00:00:00\", \"count\": 0}, {\"repo\": \"kubespawner\", \"createdAt\": \"2020-05-31T00:00:00\", \"count\": 0}, {\"repo\": \"kubespawner\", \"createdAt\": \"2020-06-07T00:00:00\", \"count\": 0}, {\"repo\": \"kubespawner\", \"createdAt\": \"2020-06-14T00:00:00\", \"count\": 0}, {\"repo\": \"kubespawner\", \"createdAt\": \"2020-06-21T00:00:00\", \"count\": 1}, {\"repo\": \"mybinder.org-deploy\", \"createdAt\": \"2020-05-24T00:00:00\", \"count\": 3}, {\"repo\": \"mybinder.org-deploy\", \"createdAt\": \"2020-05-31T00:00:00\", \"count\": 0}, {\"repo\": \"mybinder.org-deploy\", \"createdAt\": \"2020-06-07T00:00:00\", \"count\": 0}, {\"repo\": \"mybinder.org-deploy\", \"createdAt\": \"2020-06-14T00:00:00\", \"count\": 0}, {\"repo\": \"mybinder.org-deploy\", \"createdAt\": \"2020-06-21T00:00:00\", \"count\": 1}, {\"repo\": \"repo2docker\", \"createdAt\": \"2020-05-17T00:00:00\", \"count\": 1}, {\"repo\": \"team-compass\", \"createdAt\": \"2020-05-10T00:00:00\", \"count\": 1}, {\"repo\": \"team-compass\", \"createdAt\": \"2020-05-17T00:00:00\", \"count\": 0}, {\"repo\": \"team-compass\", \"createdAt\": \"2020-05-24T00:00:00\", \"count\": 0}, {\"repo\": \"team-compass\", \"createdAt\": \"2020-05-31T00:00:00\", \"count\": 1}, {\"repo\": \"team-compass\", \"createdAt\": \"2020-06-07T00:00:00\", \"count\": 0}, {\"repo\": \"team-compass\", \"createdAt\": \"2020-06-14T00:00:00\", \"count\": 0}, {\"repo\": \"team-compass\", \"createdAt\": \"2020-06-21T00:00:00\", \"count\": 2}, {\"repo\": \"the-littlest-jupyterhub\", \"createdAt\": \"2020-05-03T00:00:00\", \"count\": 8}, {\"repo\": \"the-littlest-jupyterhub\", \"createdAt\": \"2020-05-10T00:00:00\", \"count\": 7}, {\"repo\": \"the-littlest-jupyterhub\", \"createdAt\": \"2020-05-17T00:00:00\", \"count\": 0}, {\"repo\": \"the-littlest-jupyterhub\", \"createdAt\": \"2020-05-24T00:00:00\", \"count\": 0}, {\"repo\": \"the-littlest-jupyterhub\", \"createdAt\": \"2020-05-31T00:00:00\", \"count\": 1}, {\"repo\": \"the-littlest-jupyterhub\", \"createdAt\": \"2020-06-07T00:00:00\", \"count\": 0}, {\"repo\": \"the-littlest-jupyterhub\", \"createdAt\": \"2020-06-14T00:00:00\", \"count\": 1}, {\"repo\": \"the-littlest-jupyterhub\", \"createdAt\": \"2020-06-21T00:00:00\", \"count\": 1}, {\"repo\": \"traefik-proxy\", \"createdAt\": \"2020-05-17T00:00:00\", \"count\": 4}, {\"repo\": \"zero-to-jupyterhub-k8s\", \"createdAt\": \"2020-05-03T00:00:00\", \"count\": 6}, {\"repo\": \"zero-to-jupyterhub-k8s\", \"createdAt\": \"2020-05-10T00:00:00\", \"count\": 0}, {\"repo\": \"zero-to-jupyterhub-k8s\", \"createdAt\": \"2020-05-17T00:00:00\", \"count\": 1}, {\"repo\": \"zero-to-jupyterhub-k8s\", \"createdAt\": \"2020-05-24T00:00:00\", \"count\": 1}, {\"repo\": \"zero-to-jupyterhub-k8s\", \"createdAt\": \"2020-05-31T00:00:00\", \"count\": 0}, {\"repo\": \"zero-to-jupyterhub-k8s\", \"createdAt\": \"2020-06-07T00:00:00\", \"count\": 0}, {\"repo\": \"zero-to-jupyterhub-k8s\", \"createdAt\": \"2020-06-14T00:00:00\", \"count\": 3}], \"data-9ec14575a3911aaa9a4247af00bd310a\": [{\"createdAt\": \"2020-05-03T00:00:00\", \"count\": 16}, {\"createdAt\": \"2020-05-10T00:00:00\", \"count\": 9}, {\"createdAt\": \"2020-05-17T00:00:00\", \"count\": 11}, {\"createdAt\": \"2020-05-24T00:00:00\", \"count\": 6}, {\"createdAt\": \"2020-05-31T00:00:00\", \"count\": 5}, {\"createdAt\": \"2020-06-07T00:00:00\", \"count\": 0}, {\"createdAt\": \"2020-06-14T00:00:00\", \"count\": 12}, {\"createdAt\": \"2020-06-21T00:00:00\", \"count\": 6}, {\"createdAt\": \"2020-06-28T00:00:00\", \"count\": 9}]}}, {\"mode\": \"vega-lite\"});\n",
       "</script>"
      ],
      "text/plain": [
       "alt.LayerChart(...)"
      ]
     },
     "execution_count": 13,
     "metadata": {},
     "output_type": "execute_result"
    }
   ],
   "source": [
    "comments_time = comments.groupby('repo').resample('W', on='createdAt').count()['author'].reset_index()\n",
    "comments_time = comments_time.rename(columns={'author': 'count'})\n",
    "comments_time_total = comments_time.groupby('createdAt').agg({\"count\": \"sum\"}).reset_index()\n",
    "ch1 = alt.Chart(comments_time, width=600).mark_line().encode(\n",
    "    x='createdAt',\n",
    "    y='count',\n",
    "    color='repo',\n",
    "    tooltip=\"repo\"\n",
    ")\n",
    "\n",
    "ch2 = alt.Chart(comments_time_total, width=600).mark_line(color=\"black\").encode(\n",
    "    x='createdAt',\n",
    "    y='count',\n",
    ")\n",
    "\n",
    "ch1 + ch2"
   ]
  },
  {
   "cell_type": "markdown",
   "metadata": {
    "papermill": {
     "duration": 0.013095,
     "end_time": "2020-06-24T01:12:34.705802",
     "exception": false,
     "start_time": "2020-06-24T01:12:34.692707",
     "status": "completed"
    },
    "tags": []
   },
   "source": [
    "## PRs"
   ]
  },
  {
   "cell_type": "code",
   "execution_count": 14,
   "metadata": {
    "execution": {
     "iopub.execute_input": "2020-06-24T01:12:34.740444Z",
     "iopub.status.busy": "2020-06-24T01:12:34.739809Z",
     "iopub.status.idle": "2020-06-24T01:12:34.805061Z",
     "shell.execute_reply": "2020-06-24T01:12:34.805517Z"
    },
    "papermill": {
     "duration": 0.086695,
     "end_time": "2020-06-24T01:12:34.805612",
     "exception": false,
     "start_time": "2020-06-24T01:12:34.718917",
     "status": "completed"
    },
    "tags": [
     "hide_input"
    ]
   },
   "outputs": [
    {
     "data": {
      "text/html": [
       "\n",
       "<div id=\"altair-viz-5e2dac248726474e99b593542a28e7fd\"></div>\n",
       "<script type=\"text/javascript\">\n",
       "  (function(spec, embedOpt){\n",
       "    let outputDiv = document.currentScript.previousElementSibling;\n",
       "    if (outputDiv.id !== \"altair-viz-5e2dac248726474e99b593542a28e7fd\") {\n",
       "      outputDiv = document.getElementById(\"altair-viz-5e2dac248726474e99b593542a28e7fd\");\n",
       "    }\n",
       "    const paths = {\n",
       "      \"vega\": \"https://cdn.jsdelivr.net/npm//vega@5?noext\",\n",
       "      \"vega-lib\": \"https://cdn.jsdelivr.net/npm//vega-lib?noext\",\n",
       "      \"vega-lite\": \"https://cdn.jsdelivr.net/npm//vega-lite@4.8.1?noext\",\n",
       "      \"vega-embed\": \"https://cdn.jsdelivr.net/npm//vega-embed@6?noext\",\n",
       "    };\n",
       "\n",
       "    function loadScript(lib) {\n",
       "      return new Promise(function(resolve, reject) {\n",
       "        var s = document.createElement('script');\n",
       "        s.src = paths[lib];\n",
       "        s.async = true;\n",
       "        s.onload = () => resolve(paths[lib]);\n",
       "        s.onerror = () => reject(`Error loading script: ${paths[lib]}`);\n",
       "        document.getElementsByTagName(\"head\")[0].appendChild(s);\n",
       "      });\n",
       "    }\n",
       "\n",
       "    function showError(err) {\n",
       "      outputDiv.innerHTML = `<div class=\"error\" style=\"color:red;\">${err}</div>`;\n",
       "      throw err;\n",
       "    }\n",
       "\n",
       "    function displayChart(vegaEmbed) {\n",
       "      vegaEmbed(outputDiv, spec, embedOpt)\n",
       "        .catch(err => showError(`Javascript Error: ${err.message}<br>This usually means there's a typo in your chart specification. See the javascript console for the full traceback.`));\n",
       "    }\n",
       "\n",
       "    if(typeof define === \"function\" && define.amd) {\n",
       "      requirejs.config({paths});\n",
       "      require([\"vega-embed\"], displayChart, err => showError(`Error loading script: ${err.message}`));\n",
       "    } else if (typeof vegaEmbed === \"function\") {\n",
       "      displayChart(vegaEmbed);\n",
       "    } else {\n",
       "      loadScript(\"vega\")\n",
       "        .then(() => loadScript(\"vega-lite\"))\n",
       "        .then(() => loadScript(\"vega-embed\"))\n",
       "        .catch(showError)\n",
       "        .then(() => displayChart(vegaEmbed));\n",
       "    }\n",
       "  })({\"config\": {\"axisLeft\": {\"labelFontSize\": 15}, \"axisBottom\": {\"labelFontSize\": 15}}, \"layer\": [{\"data\": {\"name\": \"data-4f917ae45759e7bcf5d806d00d588298\"}, \"mark\": \"line\", \"encoding\": {\"color\": {\"type\": \"nominal\", \"field\": \"repo\"}, \"tooltip\": {\"type\": \"nominal\", \"field\": \"repo\"}, \"x\": {\"type\": \"temporal\", \"field\": \"createdAt\"}, \"y\": {\"type\": \"quantitative\", \"field\": \"count\"}}, \"width\": 600}, {\"data\": {\"name\": \"data-987a8137f646423e31142c4134be32b6\"}, \"mark\": {\"type\": \"line\", \"color\": \"black\"}, \"encoding\": {\"x\": {\"type\": \"temporal\", \"field\": \"createdAt\"}, \"y\": {\"type\": \"quantitative\", \"field\": \"count\"}}, \"width\": 600}], \"$schema\": \"https://vega.github.io/schema/vega-lite/v4.8.1.json\", \"datasets\": {\"data-4f917ae45759e7bcf5d806d00d588298\": [{\"repo\": \"batchspawner\", \"createdAt\": \"2020-06-07T00:00:00\", \"count\": 1}, {\"repo\": \"extension-cookiecutter-ts\", \"createdAt\": \"2020-05-24T00:00:00\", \"count\": 1}, {\"repo\": \"jupyter-server-proxy\", \"createdAt\": \"2020-05-17T00:00:00\", \"count\": 1}, {\"repo\": \"jupyter-server-proxy\", \"createdAt\": \"2020-05-24T00:00:00\", \"count\": 1}, {\"repo\": \"jupyter-server-proxy\", \"createdAt\": \"2020-05-31T00:00:00\", \"count\": 0}, {\"repo\": \"jupyter-server-proxy\", \"createdAt\": \"2020-06-07T00:00:00\", \"count\": 0}, {\"repo\": \"jupyter-server-proxy\", \"createdAt\": \"2020-06-14T00:00:00\", \"count\": 1}, {\"repo\": \"jupyterlab\", \"createdAt\": \"2020-05-31T00:00:00\", \"count\": 1}, {\"repo\": \"notebook\", \"createdAt\": \"2019-07-07T00:00:00\", \"count\": 1}, {\"repo\": \"repo2docker\", \"createdAt\": \"2020-06-14T00:00:00\", \"count\": 1}, {\"repo\": \"the-littlest-jupyterhub\", \"createdAt\": \"2019-05-19T00:00:00\", \"count\": 1}, {\"repo\": \"the-littlest-jupyterhub\", \"createdAt\": \"2019-05-26T00:00:00\", \"count\": 0}, {\"repo\": \"the-littlest-jupyterhub\", \"createdAt\": \"2019-06-02T00:00:00\", \"count\": 0}, {\"repo\": \"the-littlest-jupyterhub\", \"createdAt\": \"2019-06-09T00:00:00\", \"count\": 0}, {\"repo\": \"the-littlest-jupyterhub\", \"createdAt\": \"2019-06-16T00:00:00\", \"count\": 0}, {\"repo\": \"the-littlest-jupyterhub\", \"createdAt\": \"2019-06-23T00:00:00\", \"count\": 0}, {\"repo\": \"the-littlest-jupyterhub\", \"createdAt\": \"2019-06-30T00:00:00\", \"count\": 0}, {\"repo\": \"the-littlest-jupyterhub\", \"createdAt\": \"2019-07-07T00:00:00\", \"count\": 0}, {\"repo\": \"the-littlest-jupyterhub\", \"createdAt\": \"2019-07-14T00:00:00\", \"count\": 0}, {\"repo\": \"the-littlest-jupyterhub\", \"createdAt\": \"2019-07-21T00:00:00\", \"count\": 0}, {\"repo\": \"the-littlest-jupyterhub\", \"createdAt\": \"2019-07-28T00:00:00\", \"count\": 0}, {\"repo\": \"the-littlest-jupyterhub\", \"createdAt\": \"2019-08-04T00:00:00\", \"count\": 0}, {\"repo\": \"the-littlest-jupyterhub\", \"createdAt\": \"2019-08-11T00:00:00\", \"count\": 0}, {\"repo\": \"the-littlest-jupyterhub\", \"createdAt\": \"2019-08-18T00:00:00\", \"count\": 0}, {\"repo\": \"the-littlest-jupyterhub\", \"createdAt\": \"2019-08-25T00:00:00\", \"count\": 0}, {\"repo\": \"the-littlest-jupyterhub\", \"createdAt\": \"2019-09-01T00:00:00\", \"count\": 0}, {\"repo\": \"the-littlest-jupyterhub\", \"createdAt\": \"2019-09-08T00:00:00\", \"count\": 0}, {\"repo\": \"the-littlest-jupyterhub\", \"createdAt\": \"2019-09-15T00:00:00\", \"count\": 0}, {\"repo\": \"the-littlest-jupyterhub\", \"createdAt\": \"2019-09-22T00:00:00\", \"count\": 0}, {\"repo\": \"the-littlest-jupyterhub\", \"createdAt\": \"2019-09-29T00:00:00\", \"count\": 0}, {\"repo\": \"the-littlest-jupyterhub\", \"createdAt\": \"2019-10-06T00:00:00\", \"count\": 0}, {\"repo\": \"the-littlest-jupyterhub\", \"createdAt\": \"2019-10-13T00:00:00\", \"count\": 0}, {\"repo\": \"the-littlest-jupyterhub\", \"createdAt\": \"2019-10-20T00:00:00\", \"count\": 0}, {\"repo\": \"the-littlest-jupyterhub\", \"createdAt\": \"2019-10-27T00:00:00\", \"count\": 0}, {\"repo\": \"the-littlest-jupyterhub\", \"createdAt\": \"2019-11-03T00:00:00\", \"count\": 0}, {\"repo\": \"the-littlest-jupyterhub\", \"createdAt\": \"2019-11-10T00:00:00\", \"count\": 0}, {\"repo\": \"the-littlest-jupyterhub\", \"createdAt\": \"2019-11-17T00:00:00\", \"count\": 0}, {\"repo\": \"the-littlest-jupyterhub\", \"createdAt\": \"2019-11-24T00:00:00\", \"count\": 0}, {\"repo\": \"the-littlest-jupyterhub\", \"createdAt\": \"2019-12-01T00:00:00\", \"count\": 0}, {\"repo\": \"the-littlest-jupyterhub\", \"createdAt\": \"2019-12-08T00:00:00\", \"count\": 0}, {\"repo\": \"the-littlest-jupyterhub\", \"createdAt\": \"2019-12-15T00:00:00\", \"count\": 0}, {\"repo\": \"the-littlest-jupyterhub\", \"createdAt\": \"2019-12-22T00:00:00\", \"count\": 0}, {\"repo\": \"the-littlest-jupyterhub\", \"createdAt\": \"2019-12-29T00:00:00\", \"count\": 0}, {\"repo\": \"the-littlest-jupyterhub\", \"createdAt\": \"2020-01-05T00:00:00\", \"count\": 0}, {\"repo\": \"the-littlest-jupyterhub\", \"createdAt\": \"2020-01-12T00:00:00\", \"count\": 0}, {\"repo\": \"the-littlest-jupyterhub\", \"createdAt\": \"2020-01-19T00:00:00\", \"count\": 0}, {\"repo\": \"the-littlest-jupyterhub\", \"createdAt\": \"2020-01-26T00:00:00\", \"count\": 0}, {\"repo\": \"the-littlest-jupyterhub\", \"createdAt\": \"2020-02-02T00:00:00\", \"count\": 0}, {\"repo\": \"the-littlest-jupyterhub\", \"createdAt\": \"2020-02-09T00:00:00\", \"count\": 0}, {\"repo\": \"the-littlest-jupyterhub\", \"createdAt\": \"2020-02-16T00:00:00\", \"count\": 0}, {\"repo\": \"the-littlest-jupyterhub\", \"createdAt\": \"2020-02-23T00:00:00\", \"count\": 0}, {\"repo\": \"the-littlest-jupyterhub\", \"createdAt\": \"2020-03-01T00:00:00\", \"count\": 0}, {\"repo\": \"the-littlest-jupyterhub\", \"createdAt\": \"2020-03-08T00:00:00\", \"count\": 0}, {\"repo\": \"the-littlest-jupyterhub\", \"createdAt\": \"2020-03-15T00:00:00\", \"count\": 0}, {\"repo\": \"the-littlest-jupyterhub\", \"createdAt\": \"2020-03-22T00:00:00\", \"count\": 0}, {\"repo\": \"the-littlest-jupyterhub\", \"createdAt\": \"2020-03-29T00:00:00\", \"count\": 0}, {\"repo\": \"the-littlest-jupyterhub\", \"createdAt\": \"2020-04-05T00:00:00\", \"count\": 0}, {\"repo\": \"the-littlest-jupyterhub\", \"createdAt\": \"2020-04-12T00:00:00\", \"count\": 0}, {\"repo\": \"the-littlest-jupyterhub\", \"createdAt\": \"2020-04-19T00:00:00\", \"count\": 0}, {\"repo\": \"the-littlest-jupyterhub\", \"createdAt\": \"2020-04-26T00:00:00\", \"count\": 0}, {\"repo\": \"the-littlest-jupyterhub\", \"createdAt\": \"2020-05-03T00:00:00\", \"count\": 1}, {\"repo\": \"the-littlest-jupyterhub\", \"createdAt\": \"2020-05-10T00:00:00\", \"count\": 1}, {\"repo\": \"zero-to-jupyterhub-k8s\", \"createdAt\": \"2020-05-03T00:00:00\", \"count\": 1}, {\"repo\": \"zero-to-jupyterhub-k8s\", \"createdAt\": \"2020-05-10T00:00:00\", \"count\": 0}, {\"repo\": \"zero-to-jupyterhub-k8s\", \"createdAt\": \"2020-05-17T00:00:00\", \"count\": 0}, {\"repo\": \"zero-to-jupyterhub-k8s\", \"createdAt\": \"2020-05-24T00:00:00\", \"count\": 0}, {\"repo\": \"zero-to-jupyterhub-k8s\", \"createdAt\": \"2020-05-31T00:00:00\", \"count\": 0}, {\"repo\": \"zero-to-jupyterhub-k8s\", \"createdAt\": \"2020-06-07T00:00:00\", \"count\": 0}, {\"repo\": \"zero-to-jupyterhub-k8s\", \"createdAt\": \"2020-06-14T00:00:00\", \"count\": 2}], \"data-987a8137f646423e31142c4134be32b6\": [{\"createdAt\": \"2019-05-19T00:00:00\", \"count\": 1}, {\"createdAt\": \"2019-05-26T00:00:00\", \"count\": 0}, {\"createdAt\": \"2019-06-02T00:00:00\", \"count\": 0}, {\"createdAt\": \"2019-06-09T00:00:00\", \"count\": 0}, {\"createdAt\": \"2019-06-16T00:00:00\", \"count\": 0}, {\"createdAt\": \"2019-06-23T00:00:00\", \"count\": 0}, {\"createdAt\": \"2019-06-30T00:00:00\", \"count\": 0}, {\"createdAt\": \"2019-07-07T00:00:00\", \"count\": 1}, {\"createdAt\": \"2019-07-14T00:00:00\", \"count\": 0}, {\"createdAt\": \"2019-07-21T00:00:00\", \"count\": 0}, {\"createdAt\": \"2019-07-28T00:00:00\", \"count\": 0}, {\"createdAt\": \"2019-08-04T00:00:00\", \"count\": 0}, {\"createdAt\": \"2019-08-11T00:00:00\", \"count\": 0}, {\"createdAt\": \"2019-08-18T00:00:00\", \"count\": 0}, {\"createdAt\": \"2019-08-25T00:00:00\", \"count\": 0}, {\"createdAt\": \"2019-09-01T00:00:00\", \"count\": 0}, {\"createdAt\": \"2019-09-08T00:00:00\", \"count\": 0}, {\"createdAt\": \"2019-09-15T00:00:00\", \"count\": 0}, {\"createdAt\": \"2019-09-22T00:00:00\", \"count\": 0}, {\"createdAt\": \"2019-09-29T00:00:00\", \"count\": 0}, {\"createdAt\": \"2019-10-06T00:00:00\", \"count\": 0}, {\"createdAt\": \"2019-10-13T00:00:00\", \"count\": 0}, {\"createdAt\": \"2019-10-20T00:00:00\", \"count\": 0}, {\"createdAt\": \"2019-10-27T00:00:00\", \"count\": 0}, {\"createdAt\": \"2019-11-03T00:00:00\", \"count\": 0}, {\"createdAt\": \"2019-11-10T00:00:00\", \"count\": 0}, {\"createdAt\": \"2019-11-17T00:00:00\", \"count\": 0}, {\"createdAt\": \"2019-11-24T00:00:00\", \"count\": 0}, {\"createdAt\": \"2019-12-01T00:00:00\", \"count\": 0}, {\"createdAt\": \"2019-12-08T00:00:00\", \"count\": 0}, {\"createdAt\": \"2019-12-15T00:00:00\", \"count\": 0}, {\"createdAt\": \"2019-12-22T00:00:00\", \"count\": 0}, {\"createdAt\": \"2019-12-29T00:00:00\", \"count\": 0}, {\"createdAt\": \"2020-01-05T00:00:00\", \"count\": 0}, {\"createdAt\": \"2020-01-12T00:00:00\", \"count\": 0}, {\"createdAt\": \"2020-01-19T00:00:00\", \"count\": 0}, {\"createdAt\": \"2020-01-26T00:00:00\", \"count\": 0}, {\"createdAt\": \"2020-02-02T00:00:00\", \"count\": 0}, {\"createdAt\": \"2020-02-09T00:00:00\", \"count\": 0}, {\"createdAt\": \"2020-02-16T00:00:00\", \"count\": 0}, {\"createdAt\": \"2020-02-23T00:00:00\", \"count\": 0}, {\"createdAt\": \"2020-03-01T00:00:00\", \"count\": 0}, {\"createdAt\": \"2020-03-08T00:00:00\", \"count\": 0}, {\"createdAt\": \"2020-03-15T00:00:00\", \"count\": 0}, {\"createdAt\": \"2020-03-22T00:00:00\", \"count\": 0}, {\"createdAt\": \"2020-03-29T00:00:00\", \"count\": 0}, {\"createdAt\": \"2020-04-05T00:00:00\", \"count\": 0}, {\"createdAt\": \"2020-04-12T00:00:00\", \"count\": 0}, {\"createdAt\": \"2020-04-19T00:00:00\", \"count\": 0}, {\"createdAt\": \"2020-04-26T00:00:00\", \"count\": 0}, {\"createdAt\": \"2020-05-03T00:00:00\", \"count\": 2}, {\"createdAt\": \"2020-05-10T00:00:00\", \"count\": 1}, {\"createdAt\": \"2020-05-17T00:00:00\", \"count\": 1}, {\"createdAt\": \"2020-05-24T00:00:00\", \"count\": 2}, {\"createdAt\": \"2020-05-31T00:00:00\", \"count\": 1}, {\"createdAt\": \"2020-06-07T00:00:00\", \"count\": 1}, {\"createdAt\": \"2020-06-14T00:00:00\", \"count\": 4}]}}, {\"mode\": \"vega-lite\"});\n",
       "</script>"
      ],
      "text/plain": [
       "alt.LayerChart(...)"
      ]
     },
     "execution_count": 14,
     "metadata": {},
     "output_type": "execute_result"
    }
   ],
   "source": [
    "prs_time = prs.groupby('repo').resample('W', on='createdAt').count()['author'].reset_index()\n",
    "prs_time = prs_time.rename(columns={'author': 'count'})\n",
    "prs_time_total = prs_time.groupby('createdAt').agg({\"count\": \"sum\"}).reset_index()\n",
    "\n",
    "ch1 = alt.Chart(prs_time, width=600).mark_line().encode(\n",
    "    x='createdAt',\n",
    "    y='count',\n",
    "    color='repo',\n",
    "    tooltip=\"repo\"\n",
    ")\n",
    "\n",
    "ch2 = alt.Chart(prs_time_total, width=600).mark_line(color=\"black\").encode(\n",
    "    x='createdAt',\n",
    "    y='count',\n",
    ")\n",
    "\n",
    "ch1 + ch2"
   ]
  },
  {
   "cell_type": "code",
   "execution_count": 15,
   "metadata": {
    "execution": {
     "iopub.execute_input": "2020-06-24T01:12:34.844201Z",
     "iopub.status.busy": "2020-06-24T01:12:34.840810Z",
     "iopub.status.idle": "2020-06-24T01:12:34.892337Z",
     "shell.execute_reply": "2020-06-24T01:12:34.891880Z"
    },
    "papermill": {
     "duration": 0.07187,
     "end_time": "2020-06-24T01:12:34.892424",
     "exception": false,
     "start_time": "2020-06-24T01:12:34.820554",
     "status": "completed"
    },
    "tags": [
     "hide_input"
    ]
   },
   "outputs": [
    {
     "data": {
      "text/html": [
       "\n",
       "<div id=\"altair-viz-edb51885b2d248889fbcf83f1ef44a13\"></div>\n",
       "<script type=\"text/javascript\">\n",
       "  (function(spec, embedOpt){\n",
       "    let outputDiv = document.currentScript.previousElementSibling;\n",
       "    if (outputDiv.id !== \"altair-viz-edb51885b2d248889fbcf83f1ef44a13\") {\n",
       "      outputDiv = document.getElementById(\"altair-viz-edb51885b2d248889fbcf83f1ef44a13\");\n",
       "    }\n",
       "    const paths = {\n",
       "      \"vega\": \"https://cdn.jsdelivr.net/npm//vega@5?noext\",\n",
       "      \"vega-lib\": \"https://cdn.jsdelivr.net/npm//vega-lib?noext\",\n",
       "      \"vega-lite\": \"https://cdn.jsdelivr.net/npm//vega-lite@4.8.1?noext\",\n",
       "      \"vega-embed\": \"https://cdn.jsdelivr.net/npm//vega-embed@6?noext\",\n",
       "    };\n",
       "\n",
       "    function loadScript(lib) {\n",
       "      return new Promise(function(resolve, reject) {\n",
       "        var s = document.createElement('script');\n",
       "        s.src = paths[lib];\n",
       "        s.async = true;\n",
       "        s.onload = () => resolve(paths[lib]);\n",
       "        s.onerror = () => reject(`Error loading script: ${paths[lib]}`);\n",
       "        document.getElementsByTagName(\"head\")[0].appendChild(s);\n",
       "      });\n",
       "    }\n",
       "\n",
       "    function showError(err) {\n",
       "      outputDiv.innerHTML = `<div class=\"error\" style=\"color:red;\">${err}</div>`;\n",
       "      throw err;\n",
       "    }\n",
       "\n",
       "    function displayChart(vegaEmbed) {\n",
       "      vegaEmbed(outputDiv, spec, embedOpt)\n",
       "        .catch(err => showError(`Javascript Error: ${err.message}<br>This usually means there's a typo in your chart specification. See the javascript console for the full traceback.`));\n",
       "    }\n",
       "\n",
       "    if(typeof define === \"function\" && define.amd) {\n",
       "      requirejs.config({paths});\n",
       "      require([\"vega-embed\"], displayChart, err => showError(`Error loading script: ${err.message}`));\n",
       "    } else if (typeof vegaEmbed === \"function\") {\n",
       "      displayChart(vegaEmbed);\n",
       "    } else {\n",
       "      loadScript(\"vega\")\n",
       "        .then(() => loadScript(\"vega-lite\"))\n",
       "        .then(() => loadScript(\"vega-embed\"))\n",
       "        .catch(showError)\n",
       "        .then(() => displayChart(vegaEmbed));\n",
       "    }\n",
       "  })({\"config\": {\"axisLeft\": {\"labelFontSize\": 15}, \"axisBottom\": {\"labelFontSize\": 15}}, \"data\": {\"name\": \"data-a8512ae765aa3733f50e919369195ef0\"}, \"mark\": \"line\", \"encoding\": {\"color\": {\"type\": \"nominal\", \"field\": \"repo\"}, \"tooltip\": {\"type\": \"nominal\", \"field\": \"repo\"}, \"x\": {\"type\": \"temporal\", \"field\": \"closedAt\"}, \"y\": {\"type\": \"quantitative\", \"field\": \"count\"}}, \"width\": 600, \"$schema\": \"https://vega.github.io/schema/vega-lite/v4.8.1.json\", \"datasets\": {\"data-a8512ae765aa3733f50e919369195ef0\": [{\"repo\": \"jupyter-server-proxy\", \"closedAt\": \"2020-04-26T00:00:00\", \"count\": 1}, {\"repo\": \"jupyterhub\", \"closedAt\": \"2020-05-10T00:00:00\", \"count\": 1}, {\"repo\": \"jupyterhub\", \"closedAt\": \"2020-05-17T00:00:00\", \"count\": 0}, {\"repo\": \"jupyterhub\", \"closedAt\": \"2020-05-24T00:00:00\", \"count\": 0}, {\"repo\": \"jupyterhub\", \"closedAt\": \"2020-05-31T00:00:00\", \"count\": 0}, {\"repo\": \"jupyterhub\", \"closedAt\": \"2020-06-07T00:00:00\", \"count\": 0}, {\"repo\": \"jupyterhub\", \"closedAt\": \"2020-06-14T00:00:00\", \"count\": 1}, {\"repo\": \"jupyterhub-idle-culler\", \"closedAt\": \"2020-05-24T00:00:00\", \"count\": 1}, {\"repo\": \"jupyterhub-idle-culler\", \"closedAt\": \"2020-05-31T00:00:00\", \"count\": 1}, {\"repo\": \"jupyterhub-idle-culler\", \"closedAt\": \"2020-06-07T00:00:00\", \"count\": 0}, {\"repo\": \"jupyterhub-idle-culler\", \"closedAt\": \"2020-06-14T00:00:00\", \"count\": 0}, {\"repo\": \"jupyterhub-idle-culler\", \"closedAt\": \"2020-06-21T00:00:00\", \"count\": 1}, {\"repo\": \"kubespawner\", \"closedAt\": \"2020-05-03T00:00:00\", \"count\": 1}, {\"repo\": \"mybinder.org-deploy\", \"closedAt\": \"2020-05-24T00:00:00\", \"count\": 2}, {\"repo\": \"the-littlest-jupyterhub\", \"closedAt\": \"2020-05-10T00:00:00\", \"count\": 2}, {\"repo\": \"the-littlest-jupyterhub\", \"closedAt\": \"2020-05-17T00:00:00\", \"count\": 0}, {\"repo\": \"the-littlest-jupyterhub\", \"closedAt\": \"2020-05-24T00:00:00\", \"count\": 0}, {\"repo\": \"the-littlest-jupyterhub\", \"closedAt\": \"2020-05-31T00:00:00\", \"count\": 0}, {\"repo\": \"the-littlest-jupyterhub\", \"closedAt\": \"2020-06-07T00:00:00\", \"count\": 0}, {\"repo\": \"the-littlest-jupyterhub\", \"closedAt\": \"2020-06-14T00:00:00\", \"count\": 1}, {\"repo\": \"zero-to-jupyterhub-k8s\", \"closedAt\": \"2020-05-03T00:00:00\", \"count\": 1}]}}, {\"mode\": \"vega-lite\"});\n",
       "</script>"
      ],
      "text/plain": [
       "alt.Chart(...)"
      ]
     },
     "execution_count": 15,
     "metadata": {},
     "output_type": "execute_result"
    }
   ],
   "source": [
    "closed_by_time = closed_by.groupby('repo').resample('W', on='closedAt').count()['author'].reset_index()\n",
    "closed_by_time = closed_by_time.rename(columns={'author': 'count'})\n",
    "\n",
    "alt.Chart(closed_by_time, width=600).mark_line().encode(\n",
    "    x='closedAt',\n",
    "    y='count',\n",
    "    color='repo',\n",
    "    tooltip=\"repo\"\n",
    ")"
   ]
  },
  {
   "cell_type": "markdown",
   "metadata": {
    "papermill": {
     "duration": 0.014079,
     "end_time": "2020-06-24T01:12:34.920855",
     "exception": false,
     "start_time": "2020-06-24T01:12:34.906776",
     "status": "completed"
    },
    "tags": []
   },
   "source": [
    "# By type over time"
   ]
  },
  {
   "cell_type": "code",
   "execution_count": 16,
   "metadata": {
    "execution": {
     "iopub.execute_input": "2020-06-24T01:12:34.971799Z",
     "iopub.status.busy": "2020-06-24T01:12:34.971332Z",
     "iopub.status.idle": "2020-06-24T01:12:34.977885Z",
     "shell.execute_reply": "2020-06-24T01:12:34.978263Z"
    },
    "papermill": {
     "duration": 0.042138,
     "end_time": "2020-06-24T01:12:34.978360",
     "exception": false,
     "start_time": "2020-06-24T01:12:34.936222",
     "status": "completed"
    },
    "tags": [
     "remove_cell"
    ]
   },
   "outputs": [],
   "source": [
    "prs_time = prs[['author', 'createdAt']].resample('W', on='createdAt').count()['author'].reset_index()\n",
    "prs_time = prs_time.rename(columns={'author': 'prs'})\n",
    "comments_time = comments[['author', 'createdAt']].resample('W', on='createdAt').count()['author'].reset_index()\n",
    "comments_time = comments_time.rename(columns={'author': 'comments'})\n",
    "\n",
    "total_time = pd.merge(prs_time, comments_time, on='createdAt', how='outer')\n",
    "total_time = total_time.melt(id_vars='createdAt', var_name=\"kind\", value_name=\"count\")\n"
   ]
  },
  {
   "cell_type": "code",
   "execution_count": 17,
   "metadata": {
    "execution": {
     "iopub.execute_input": "2020-06-24T01:12:35.028593Z",
     "iopub.status.busy": "2020-06-24T01:12:35.021170Z",
     "iopub.status.idle": "2020-06-24T01:12:35.031060Z",
     "shell.execute_reply": "2020-06-24T01:12:35.031433Z"
    },
    "papermill": {
     "duration": 0.038992,
     "end_time": "2020-06-24T01:12:35.031530",
     "exception": false,
     "start_time": "2020-06-24T01:12:34.992538",
     "status": "completed"
    },
    "tags": [
     "hide_input"
    ]
   },
   "outputs": [
    {
     "data": {
      "text/html": [
       "\n",
       "<div id=\"altair-viz-a68c48b7be3e4fdf844051f1a0f1b2b9\"></div>\n",
       "<script type=\"text/javascript\">\n",
       "  (function(spec, embedOpt){\n",
       "    let outputDiv = document.currentScript.previousElementSibling;\n",
       "    if (outputDiv.id !== \"altair-viz-a68c48b7be3e4fdf844051f1a0f1b2b9\") {\n",
       "      outputDiv = document.getElementById(\"altair-viz-a68c48b7be3e4fdf844051f1a0f1b2b9\");\n",
       "    }\n",
       "    const paths = {\n",
       "      \"vega\": \"https://cdn.jsdelivr.net/npm//vega@5?noext\",\n",
       "      \"vega-lib\": \"https://cdn.jsdelivr.net/npm//vega-lib?noext\",\n",
       "      \"vega-lite\": \"https://cdn.jsdelivr.net/npm//vega-lite@4.8.1?noext\",\n",
       "      \"vega-embed\": \"https://cdn.jsdelivr.net/npm//vega-embed@6?noext\",\n",
       "    };\n",
       "\n",
       "    function loadScript(lib) {\n",
       "      return new Promise(function(resolve, reject) {\n",
       "        var s = document.createElement('script');\n",
       "        s.src = paths[lib];\n",
       "        s.async = true;\n",
       "        s.onload = () => resolve(paths[lib]);\n",
       "        s.onerror = () => reject(`Error loading script: ${paths[lib]}`);\n",
       "        document.getElementsByTagName(\"head\")[0].appendChild(s);\n",
       "      });\n",
       "    }\n",
       "\n",
       "    function showError(err) {\n",
       "      outputDiv.innerHTML = `<div class=\"error\" style=\"color:red;\">${err}</div>`;\n",
       "      throw err;\n",
       "    }\n",
       "\n",
       "    function displayChart(vegaEmbed) {\n",
       "      vegaEmbed(outputDiv, spec, embedOpt)\n",
       "        .catch(err => showError(`Javascript Error: ${err.message}<br>This usually means there's a typo in your chart specification. See the javascript console for the full traceback.`));\n",
       "    }\n",
       "\n",
       "    if(typeof define === \"function\" && define.amd) {\n",
       "      requirejs.config({paths});\n",
       "      require([\"vega-embed\"], displayChart, err => showError(`Error loading script: ${err.message}`));\n",
       "    } else if (typeof vegaEmbed === \"function\") {\n",
       "      displayChart(vegaEmbed);\n",
       "    } else {\n",
       "      loadScript(\"vega\")\n",
       "        .then(() => loadScript(\"vega-lite\"))\n",
       "        .then(() => loadScript(\"vega-embed\"))\n",
       "        .catch(showError)\n",
       "        .then(() => displayChart(vegaEmbed));\n",
       "    }\n",
       "  })({\"config\": {\"axisLeft\": {\"labelFontSize\": 15}, \"axisBottom\": {\"labelFontSize\": 15}}, \"data\": {\"name\": \"data-86fe4e75a99cc4655d04256cadb90523\"}, \"mark\": \"line\", \"encoding\": {\"color\": {\"type\": \"nominal\", \"field\": \"kind\"}, \"x\": {\"type\": \"temporal\", \"field\": \"createdAt\"}, \"y\": {\"type\": \"quantitative\", \"field\": \"count\"}}, \"width\": 600, \"$schema\": \"https://vega.github.io/schema/vega-lite/v4.8.1.json\", \"datasets\": {\"data-86fe4e75a99cc4655d04256cadb90523\": [{\"createdAt\": \"2019-05-19T00:00:00\", \"kind\": \"prs\", \"count\": 1.0}, {\"createdAt\": \"2019-05-26T00:00:00\", \"kind\": \"prs\", \"count\": 0.0}, {\"createdAt\": \"2019-06-02T00:00:00\", \"kind\": \"prs\", \"count\": 0.0}, {\"createdAt\": \"2019-06-09T00:00:00\", \"kind\": \"prs\", \"count\": 0.0}, {\"createdAt\": \"2019-06-16T00:00:00\", \"kind\": \"prs\", \"count\": 0.0}, {\"createdAt\": \"2019-06-23T00:00:00\", \"kind\": \"prs\", \"count\": 0.0}, {\"createdAt\": \"2019-06-30T00:00:00\", \"kind\": \"prs\", \"count\": 0.0}, {\"createdAt\": \"2019-07-07T00:00:00\", \"kind\": \"prs\", \"count\": 1.0}, {\"createdAt\": \"2019-07-14T00:00:00\", \"kind\": \"prs\", \"count\": 0.0}, {\"createdAt\": \"2019-07-21T00:00:00\", \"kind\": \"prs\", \"count\": 0.0}, {\"createdAt\": \"2019-07-28T00:00:00\", \"kind\": \"prs\", \"count\": 0.0}, {\"createdAt\": \"2019-08-04T00:00:00\", \"kind\": \"prs\", \"count\": 0.0}, {\"createdAt\": \"2019-08-11T00:00:00\", \"kind\": \"prs\", \"count\": 0.0}, {\"createdAt\": \"2019-08-18T00:00:00\", \"kind\": \"prs\", \"count\": 0.0}, {\"createdAt\": \"2019-08-25T00:00:00\", \"kind\": \"prs\", \"count\": 0.0}, {\"createdAt\": \"2019-09-01T00:00:00\", \"kind\": \"prs\", \"count\": 0.0}, {\"createdAt\": \"2019-09-08T00:00:00\", \"kind\": \"prs\", \"count\": 0.0}, {\"createdAt\": \"2019-09-15T00:00:00\", \"kind\": \"prs\", \"count\": 0.0}, {\"createdAt\": \"2019-09-22T00:00:00\", \"kind\": \"prs\", \"count\": 0.0}, {\"createdAt\": \"2019-09-29T00:00:00\", \"kind\": \"prs\", \"count\": 0.0}, {\"createdAt\": \"2019-10-06T00:00:00\", \"kind\": \"prs\", \"count\": 0.0}, {\"createdAt\": \"2019-10-13T00:00:00\", \"kind\": \"prs\", \"count\": 0.0}, {\"createdAt\": \"2019-10-20T00:00:00\", \"kind\": \"prs\", \"count\": 0.0}, {\"createdAt\": \"2019-10-27T00:00:00\", \"kind\": \"prs\", \"count\": 0.0}, {\"createdAt\": \"2019-11-03T00:00:00\", \"kind\": \"prs\", \"count\": 0.0}, {\"createdAt\": \"2019-11-10T00:00:00\", \"kind\": \"prs\", \"count\": 0.0}, {\"createdAt\": \"2019-11-17T00:00:00\", \"kind\": \"prs\", \"count\": 0.0}, {\"createdAt\": \"2019-11-24T00:00:00\", \"kind\": \"prs\", \"count\": 0.0}, {\"createdAt\": \"2019-12-01T00:00:00\", \"kind\": \"prs\", \"count\": 0.0}, {\"createdAt\": \"2019-12-08T00:00:00\", \"kind\": \"prs\", \"count\": 0.0}, {\"createdAt\": \"2019-12-15T00:00:00\", \"kind\": \"prs\", \"count\": 0.0}, {\"createdAt\": \"2019-12-22T00:00:00\", \"kind\": \"prs\", \"count\": 0.0}, {\"createdAt\": \"2019-12-29T00:00:00\", \"kind\": \"prs\", \"count\": 0.0}, {\"createdAt\": \"2020-01-05T00:00:00\", \"kind\": \"prs\", \"count\": 0.0}, {\"createdAt\": \"2020-01-12T00:00:00\", \"kind\": \"prs\", \"count\": 0.0}, {\"createdAt\": \"2020-01-19T00:00:00\", \"kind\": \"prs\", \"count\": 0.0}, {\"createdAt\": \"2020-01-26T00:00:00\", \"kind\": \"prs\", \"count\": 0.0}, {\"createdAt\": \"2020-02-02T00:00:00\", \"kind\": \"prs\", \"count\": 0.0}, {\"createdAt\": \"2020-02-09T00:00:00\", \"kind\": \"prs\", \"count\": 0.0}, {\"createdAt\": \"2020-02-16T00:00:00\", \"kind\": \"prs\", \"count\": 0.0}, {\"createdAt\": \"2020-02-23T00:00:00\", \"kind\": \"prs\", \"count\": 0.0}, {\"createdAt\": \"2020-03-01T00:00:00\", \"kind\": \"prs\", \"count\": 0.0}, {\"createdAt\": \"2020-03-08T00:00:00\", \"kind\": \"prs\", \"count\": 0.0}, {\"createdAt\": \"2020-03-15T00:00:00\", \"kind\": \"prs\", \"count\": 0.0}, {\"createdAt\": \"2020-03-22T00:00:00\", \"kind\": \"prs\", \"count\": 0.0}, {\"createdAt\": \"2020-03-29T00:00:00\", \"kind\": \"prs\", \"count\": 0.0}, {\"createdAt\": \"2020-04-05T00:00:00\", \"kind\": \"prs\", \"count\": 0.0}, {\"createdAt\": \"2020-04-12T00:00:00\", \"kind\": \"prs\", \"count\": 0.0}, {\"createdAt\": \"2020-04-19T00:00:00\", \"kind\": \"prs\", \"count\": 0.0}, {\"createdAt\": \"2020-04-26T00:00:00\", \"kind\": \"prs\", \"count\": 0.0}, {\"createdAt\": \"2020-05-03T00:00:00\", \"kind\": \"prs\", \"count\": 2.0}, {\"createdAt\": \"2020-05-10T00:00:00\", \"kind\": \"prs\", \"count\": 1.0}, {\"createdAt\": \"2020-05-17T00:00:00\", \"kind\": \"prs\", \"count\": 1.0}, {\"createdAt\": \"2020-05-24T00:00:00\", \"kind\": \"prs\", \"count\": 2.0}, {\"createdAt\": \"2020-05-31T00:00:00\", \"kind\": \"prs\", \"count\": 1.0}, {\"createdAt\": \"2020-06-07T00:00:00\", \"kind\": \"prs\", \"count\": 1.0}, {\"createdAt\": \"2020-06-14T00:00:00\", \"kind\": \"prs\", \"count\": 4.0}, {\"createdAt\": \"2020-06-21T00:00:00\", \"kind\": \"prs\", \"count\": null}, {\"createdAt\": \"2020-06-28T00:00:00\", \"kind\": \"prs\", \"count\": null}, {\"createdAt\": \"2019-05-19T00:00:00\", \"kind\": \"comments\", \"count\": null}, {\"createdAt\": \"2019-05-26T00:00:00\", \"kind\": \"comments\", \"count\": null}, {\"createdAt\": \"2019-06-02T00:00:00\", \"kind\": \"comments\", \"count\": null}, {\"createdAt\": \"2019-06-09T00:00:00\", \"kind\": \"comments\", \"count\": null}, {\"createdAt\": \"2019-06-16T00:00:00\", \"kind\": \"comments\", \"count\": null}, {\"createdAt\": \"2019-06-23T00:00:00\", \"kind\": \"comments\", \"count\": null}, {\"createdAt\": \"2019-06-30T00:00:00\", \"kind\": \"comments\", \"count\": null}, {\"createdAt\": \"2019-07-07T00:00:00\", \"kind\": \"comments\", \"count\": null}, {\"createdAt\": \"2019-07-14T00:00:00\", \"kind\": \"comments\", \"count\": null}, {\"createdAt\": \"2019-07-21T00:00:00\", \"kind\": \"comments\", \"count\": null}, {\"createdAt\": \"2019-07-28T00:00:00\", \"kind\": \"comments\", \"count\": null}, {\"createdAt\": \"2019-08-04T00:00:00\", \"kind\": \"comments\", \"count\": null}, {\"createdAt\": \"2019-08-11T00:00:00\", \"kind\": \"comments\", \"count\": null}, {\"createdAt\": \"2019-08-18T00:00:00\", \"kind\": \"comments\", \"count\": null}, {\"createdAt\": \"2019-08-25T00:00:00\", \"kind\": \"comments\", \"count\": null}, {\"createdAt\": \"2019-09-01T00:00:00\", \"kind\": \"comments\", \"count\": null}, {\"createdAt\": \"2019-09-08T00:00:00\", \"kind\": \"comments\", \"count\": null}, {\"createdAt\": \"2019-09-15T00:00:00\", \"kind\": \"comments\", \"count\": null}, {\"createdAt\": \"2019-09-22T00:00:00\", \"kind\": \"comments\", \"count\": null}, {\"createdAt\": \"2019-09-29T00:00:00\", \"kind\": \"comments\", \"count\": null}, {\"createdAt\": \"2019-10-06T00:00:00\", \"kind\": \"comments\", \"count\": null}, {\"createdAt\": \"2019-10-13T00:00:00\", \"kind\": \"comments\", \"count\": null}, {\"createdAt\": \"2019-10-20T00:00:00\", \"kind\": \"comments\", \"count\": null}, {\"createdAt\": \"2019-10-27T00:00:00\", \"kind\": \"comments\", \"count\": null}, {\"createdAt\": \"2019-11-03T00:00:00\", \"kind\": \"comments\", \"count\": null}, {\"createdAt\": \"2019-11-10T00:00:00\", \"kind\": \"comments\", \"count\": null}, {\"createdAt\": \"2019-11-17T00:00:00\", \"kind\": \"comments\", \"count\": null}, {\"createdAt\": \"2019-11-24T00:00:00\", \"kind\": \"comments\", \"count\": null}, {\"createdAt\": \"2019-12-01T00:00:00\", \"kind\": \"comments\", \"count\": null}, {\"createdAt\": \"2019-12-08T00:00:00\", \"kind\": \"comments\", \"count\": null}, {\"createdAt\": \"2019-12-15T00:00:00\", \"kind\": \"comments\", \"count\": null}, {\"createdAt\": \"2019-12-22T00:00:00\", \"kind\": \"comments\", \"count\": null}, {\"createdAt\": \"2019-12-29T00:00:00\", \"kind\": \"comments\", \"count\": null}, {\"createdAt\": \"2020-01-05T00:00:00\", \"kind\": \"comments\", \"count\": null}, {\"createdAt\": \"2020-01-12T00:00:00\", \"kind\": \"comments\", \"count\": null}, {\"createdAt\": \"2020-01-19T00:00:00\", \"kind\": \"comments\", \"count\": null}, {\"createdAt\": \"2020-01-26T00:00:00\", \"kind\": \"comments\", \"count\": null}, {\"createdAt\": \"2020-02-02T00:00:00\", \"kind\": \"comments\", \"count\": null}, {\"createdAt\": \"2020-02-09T00:00:00\", \"kind\": \"comments\", \"count\": null}, {\"createdAt\": \"2020-02-16T00:00:00\", \"kind\": \"comments\", \"count\": null}, {\"createdAt\": \"2020-02-23T00:00:00\", \"kind\": \"comments\", \"count\": null}, {\"createdAt\": \"2020-03-01T00:00:00\", \"kind\": \"comments\", \"count\": null}, {\"createdAt\": \"2020-03-08T00:00:00\", \"kind\": \"comments\", \"count\": null}, {\"createdAt\": \"2020-03-15T00:00:00\", \"kind\": \"comments\", \"count\": null}, {\"createdAt\": \"2020-03-22T00:00:00\", \"kind\": \"comments\", \"count\": null}, {\"createdAt\": \"2020-03-29T00:00:00\", \"kind\": \"comments\", \"count\": null}, {\"createdAt\": \"2020-04-05T00:00:00\", \"kind\": \"comments\", \"count\": null}, {\"createdAt\": \"2020-04-12T00:00:00\", \"kind\": \"comments\", \"count\": null}, {\"createdAt\": \"2020-04-19T00:00:00\", \"kind\": \"comments\", \"count\": null}, {\"createdAt\": \"2020-04-26T00:00:00\", \"kind\": \"comments\", \"count\": null}, {\"createdAt\": \"2020-05-03T00:00:00\", \"kind\": \"comments\", \"count\": 16.0}, {\"createdAt\": \"2020-05-10T00:00:00\", \"kind\": \"comments\", \"count\": 9.0}, {\"createdAt\": \"2020-05-17T00:00:00\", \"kind\": \"comments\", \"count\": 11.0}, {\"createdAt\": \"2020-05-24T00:00:00\", \"kind\": \"comments\", \"count\": 6.0}, {\"createdAt\": \"2020-05-31T00:00:00\", \"kind\": \"comments\", \"count\": 5.0}, {\"createdAt\": \"2020-06-07T00:00:00\", \"kind\": \"comments\", \"count\": 0.0}, {\"createdAt\": \"2020-06-14T00:00:00\", \"kind\": \"comments\", \"count\": 12.0}, {\"createdAt\": \"2020-06-21T00:00:00\", \"kind\": \"comments\", \"count\": 6.0}, {\"createdAt\": \"2020-06-28T00:00:00\", \"kind\": \"comments\", \"count\": 9.0}]}}, {\"mode\": \"vega-lite\"});\n",
       "</script>"
      ],
      "text/plain": [
       "alt.Chart(...)"
      ]
     },
     "execution_count": 17,
     "metadata": {},
     "output_type": "execute_result"
    }
   ],
   "source": [
    "alt.Chart(total_time, width=600).mark_line().encode(\n",
    "    x='createdAt',\n",
    "    y='count',\n",
    "    color='kind'\n",
    ")"
   ]
  }
 ],
 "metadata": {
  "kernelspec": {
   "display_name": "Python 3",
   "language": "python",
   "name": "python3"
  },
  "language_info": {
   "codemirror_mode": {
    "name": "ipython",
    "version": 3
   },
   "file_extension": ".py",
   "mimetype": "text/x-python",
   "name": "python",
   "nbconvert_exporter": "python",
   "pygments_lexer": "ipython3",
   "version": "3.7.7"
  },
  "papermill": {
   "duration": 2.88677,
   "end_time": "2020-06-24T01:12:35.355324",
   "environment_variables": {},
   "exception": null,
   "input_path": "./person.ipynb",
   "output_path": "people/yuvipanda.ipynb",
   "parameters": {
    "n_days": 60,
    "person": "yuvipanda"
   },
   "start_time": "2020-06-24T01:12:32.468554",
   "version": "2.1.1"
  },
  "widgets": {
   "application/vnd.jupyter.widget-state+json": {
    "state": {},
    "version_major": 2,
    "version_minor": 0
   }
  }
 },
 "nbformat": 4,
 "nbformat_minor": 4
}