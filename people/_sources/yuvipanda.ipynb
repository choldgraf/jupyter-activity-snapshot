{
 "cells": [
  {
   "cell_type": "markdown",
   "id": "5ad8235e",
   "metadata": {
    "papermill": {
     "duration": 0.058827,
     "end_time": "2021-10-09T01:31:51.379900",
     "exception": false,
     "start_time": "2021-10-09T01:31:51.321073",
     "status": "completed"
    },
    "tags": []
   },
   "source": [
    "# Report for yuvipanda"
   ]
  },
  {
   "cell_type": "code",
   "execution_count": 1,
   "id": "451a91be",
   "metadata": {
    "execution": {
     "iopub.execute_input": "2021-10-09T01:31:51.509882Z",
     "iopub.status.busy": "2021-10-09T01:31:51.509286Z",
     "iopub.status.idle": "2021-10-09T01:31:52.539574Z",
     "shell.execute_reply": "2021-10-09T01:31:52.540142Z"
    },
    "papermill": {
     "duration": 1.101369,
     "end_time": "2021-10-09T01:31:52.540424",
     "exception": false,
     "start_time": "2021-10-09T01:31:51.439055",
     "status": "completed"
    },
    "tags": [
     "remove_cell"
    ]
   },
   "outputs": [],
   "source": [
    "import seaborn as sns\n",
    "import pandas as pd\n",
    "import numpy as np\n",
    "import altair as alt\n",
    "from markdown import markdown\n",
    "from IPython.display import Markdown\n",
    "from ipywidgets.widgets import HTML, Tab\n",
    "from ipywidgets import widgets\n",
    "from datetime import timedelta\n",
    "from matplotlib import pyplot as plt\n",
    "import os.path as op\n",
    "\n",
    "from mycode import alt_theme\n",
    "from warnings import simplefilter\n",
    "simplefilter('ignore')"
   ]
  },
  {
   "cell_type": "code",
   "execution_count": 2,
   "id": "64ef88b9",
   "metadata": {
    "execution": {
     "iopub.execute_input": "2021-10-09T01:31:52.663450Z",
     "iopub.status.busy": "2021-10-09T01:31:52.661807Z",
     "iopub.status.idle": "2021-10-09T01:31:52.665731Z",
     "shell.execute_reply": "2021-10-09T01:31:52.665249Z"
    },
    "papermill": {
     "duration": 0.064227,
     "end_time": "2021-10-09T01:31:52.665878",
     "exception": false,
     "start_time": "2021-10-09T01:31:52.601651",
     "status": "completed"
    },
    "tags": [
     "remove_cell"
    ]
   },
   "outputs": [],
   "source": [
    "def author_url(author):\n",
    "    return f\"https://github.com/{author}\""
   ]
  },
  {
   "cell_type": "code",
   "execution_count": 3,
   "id": "3034aa58",
   "metadata": {
    "execution": {
     "iopub.execute_input": "2021-10-09T01:31:52.784625Z",
     "iopub.status.busy": "2021-10-09T01:31:52.784033Z",
     "iopub.status.idle": "2021-10-09T01:31:52.786781Z",
     "shell.execute_reply": "2021-10-09T01:31:52.786277Z"
    },
    "papermill": {
     "duration": 0.06562,
     "end_time": "2021-10-09T01:31:52.786948",
     "exception": false,
     "start_time": "2021-10-09T01:31:52.721328",
     "status": "completed"
    },
    "tags": [
     "parameters",
     "hide_input"
    ]
   },
   "outputs": [],
   "source": [
    "# Parameters\n",
    "fmt_date = \"{:%Y-%m-%d}\"\n",
    "\n",
    "n_days = 30 * 2\n",
    "start_date = fmt_date.format(pd.datetime.today() - timedelta(days=n_days))\n",
    "end_date = fmt_date.format(pd.datetime.today())\n",
    "\n",
    "renderer = \"html\"\n",
    "person = \"jasongrout\""
   ]
  },
  {
   "cell_type": "code",
   "execution_count": 4,
   "id": "524b675e",
   "metadata": {
    "execution": {
     "iopub.execute_input": "2021-10-09T01:31:52.905860Z",
     "iopub.status.busy": "2021-10-09T01:31:52.905280Z",
     "iopub.status.idle": "2021-10-09T01:31:52.907295Z",
     "shell.execute_reply": "2021-10-09T01:31:52.907776Z"
    },
    "papermill": {
     "duration": 0.063582,
     "end_time": "2021-10-09T01:31:52.907948",
     "exception": false,
     "start_time": "2021-10-09T01:31:52.844366",
     "status": "completed"
    },
    "tags": [
     "injected-parameters",
     "remove-cell"
    ]
   },
   "outputs": [],
   "source": [
    "# Parameters\n",
    "person = \"yuvipanda\"\n",
    "n_days = 60\n"
   ]
  },
  {
   "cell_type": "code",
   "execution_count": 5,
   "id": "b7f24cb6",
   "metadata": {
    "execution": {
     "iopub.execute_input": "2021-10-09T01:31:53.027995Z",
     "iopub.status.busy": "2021-10-09T01:31:53.027389Z",
     "iopub.status.idle": "2021-10-09T01:31:53.030010Z",
     "shell.execute_reply": "2021-10-09T01:31:53.030441Z"
    },
    "papermill": {
     "duration": 0.06785,
     "end_time": "2021-10-09T01:31:53.030590",
     "exception": false,
     "start_time": "2021-10-09T01:31:52.962740",
     "status": "completed"
    },
    "tags": [
     "remove_cell"
    ]
   },
   "outputs": [
    {
     "data": {
      "text/plain": [
       "ThemeRegistry.enable('my_theme')"
      ]
     },
     "execution_count": 5,
     "metadata": {},
     "output_type": "execute_result"
    }
   ],
   "source": [
    "alt.renderers.enable(renderer);\n",
    "alt.themes.register('my_theme', alt_theme)\n",
    "alt.themes.enable(\"my_theme\")"
   ]
  },
  {
   "cell_type": "markdown",
   "id": "650d0cf3",
   "metadata": {
    "papermill": {
     "duration": 0.057855,
     "end_time": "2021-10-09T01:31:53.148148",
     "exception": false,
     "start_time": "2021-10-09T01:31:53.090293",
     "status": "completed"
    },
    "tags": []
   },
   "source": [
    "## Load data"
   ]
  },
  {
   "cell_type": "code",
   "execution_count": 6,
   "id": "74859c99",
   "metadata": {
    "execution": {
     "iopub.execute_input": "2021-10-09T01:31:53.272501Z",
     "iopub.status.busy": "2021-10-09T01:31:53.271935Z",
     "iopub.status.idle": "2021-10-09T01:31:53.469217Z",
     "shell.execute_reply": "2021-10-09T01:31:53.468684Z"
    },
    "papermill": {
     "duration": 0.263554,
     "end_time": "2021-10-09T01:31:53.469381",
     "exception": false,
     "start_time": "2021-10-09T01:31:53.205827",
     "status": "completed"
    },
    "tags": [
     "remove_cell"
    ]
   },
   "outputs": [],
   "source": [
    "from pathlib import Path\n",
    "path_data = Path(\"./\")\n",
    "comments = pd.read_csv(path_data.joinpath('comments.csv'), index_col=0)\n",
    "issues = pd.read_csv(path_data.joinpath('issues.csv'), index_col=0)\n",
    "prs = pd.read_csv(path_data.joinpath('prs.csv'), index_col=0)\n",
    "\n",
    "comments = comments.query('author == @person').drop_duplicates()\n",
    "issues = issues.query('author == @person').drop_duplicates()\n",
    "closed_by = prs.query('mergedBy == @person')\n",
    "prs = prs.query('author == @person').drop_duplicates()"
   ]
  },
  {
   "cell_type": "code",
   "execution_count": 7,
   "id": "0194acda",
   "metadata": {
    "execution": {
     "iopub.execute_input": "2021-10-09T01:31:53.607326Z",
     "iopub.status.busy": "2021-10-09T01:31:53.596925Z",
     "iopub.status.idle": "2021-10-09T01:31:53.642319Z",
     "shell.execute_reply": "2021-10-09T01:31:53.641757Z"
    },
    "papermill": {
     "duration": 0.115344,
     "end_time": "2021-10-09T01:31:53.642474",
     "exception": false,
     "start_time": "2021-10-09T01:31:53.527130",
     "status": "completed"
    },
    "tags": [
     "remove_cell"
    ]
   },
   "outputs": [],
   "source": [
    "# Time columns\n",
    "# Also drop dates outside of our range\n",
    "time_columns = ['updatedAt', 'createdAt', 'closedAt']\n",
    "for col in time_columns:\n",
    "    for item in [comments, issues, prs, closed_by]:\n",
    "        if col not in item.columns:\n",
    "            continue\n",
    "        dt = pd.to_datetime(item[col]).dt.tz_localize(None)\n",
    "        item[col] = dt\n",
    "        item.query(\"updatedAt < @end_date and updatedAt > @start_date\", inplace=True)"
   ]
  },
  {
   "cell_type": "markdown",
   "id": "aee720bd",
   "metadata": {
    "papermill": {
     "duration": 0.059308,
     "end_time": "2021-10-09T01:31:53.760583",
     "exception": false,
     "start_time": "2021-10-09T01:31:53.701275",
     "status": "completed"
    },
    "tags": []
   },
   "source": [
    "## Repository summaries"
   ]
  },
  {
   "cell_type": "code",
   "execution_count": 8,
   "id": "5bee3d6d",
   "metadata": {
    "execution": {
     "iopub.execute_input": "2021-10-09T01:31:53.886413Z",
     "iopub.status.busy": "2021-10-09T01:31:53.885851Z",
     "iopub.status.idle": "2021-10-09T01:31:53.900022Z",
     "shell.execute_reply": "2021-10-09T01:31:53.899530Z"
    },
    "papermill": {
     "duration": 0.080286,
     "end_time": "2021-10-09T01:31:53.900174",
     "exception": false,
     "start_time": "2021-10-09T01:31:53.819888",
     "status": "completed"
    },
    "tags": [
     "remove_cell"
    ]
   },
   "outputs": [],
   "source": [
    "summaries = []\n",
    "for idata, name in [(issues, 'issues'), (prs, 'prs'), (comments, 'comments')]:\n",
    "    idata = idata.groupby([\"repo\", \"org\"]).agg({'id': \"count\"}).reset_index().rename(columns={'id': 'count'})\n",
    "    idata[\"kind\"] = name\n",
    "    summaries.append(idata)\n",
    "summaries = pd.concat(summaries)"
   ]
  },
  {
   "cell_type": "code",
   "execution_count": 9,
   "id": "4ecac581",
   "metadata": {
    "execution": {
     "iopub.execute_input": "2021-10-09T01:31:54.033063Z",
     "iopub.status.busy": "2021-10-09T01:31:54.032438Z",
     "iopub.status.idle": "2021-10-09T01:31:54.035053Z",
     "shell.execute_reply": "2021-10-09T01:31:54.034506Z"
    },
    "papermill": {
     "duration": 0.074787,
     "end_time": "2021-10-09T01:31:54.035206",
     "exception": false,
     "start_time": "2021-10-09T01:31:53.960419",
     "status": "completed"
    },
    "tags": [
     "remove_cell"
    ]
   },
   "outputs": [],
   "source": [
    "repo_summaries = summaries.groupby([\"repo\", \"kind\"]).agg({\"count\": \"sum\"}).reset_index()\n",
    "org_summaries = summaries.groupby([\"org\", \"kind\"]).agg({\"count\": \"sum\"}).reset_index()"
   ]
  },
  {
   "cell_type": "code",
   "execution_count": 10,
   "id": "492c90ae",
   "metadata": {
    "execution": {
     "iopub.execute_input": "2021-10-09T01:31:54.162786Z",
     "iopub.status.busy": "2021-10-09T01:31:54.162158Z",
     "iopub.status.idle": "2021-10-09T01:31:54.163954Z",
     "shell.execute_reply": "2021-10-09T01:31:54.164397Z"
    },
    "papermill": {
     "duration": 0.068197,
     "end_time": "2021-10-09T01:31:54.164585",
     "exception": false,
     "start_time": "2021-10-09T01:31:54.096388",
     "status": "completed"
    },
    "tags": [
     "remove_cell"
    ]
   },
   "outputs": [],
   "source": [
    "repo_summaries['logcount'] = np.log(repo_summaries[\"count\"])"
   ]
  },
  {
   "cell_type": "code",
   "execution_count": 11,
   "id": "65c0a1d1",
   "metadata": {
    "execution": {
     "iopub.execute_input": "2021-10-09T01:31:54.297678Z",
     "iopub.status.busy": "2021-10-09T01:31:54.295165Z",
     "iopub.status.idle": "2021-10-09T01:31:54.890149Z",
     "shell.execute_reply": "2021-10-09T01:31:54.889556Z"
    },
    "papermill": {
     "duration": 0.664801,
     "end_time": "2021-10-09T01:31:54.890323",
     "exception": false,
     "start_time": "2021-10-09T01:31:54.225522",
     "status": "completed"
    },
    "tags": [
     "hide_input"
    ]
   },
   "outputs": [
    {
     "data": {
      "text/html": [
       "\n",
       "<div id=\"altair-viz-20c7322a9aae47939ef1fa97ed5ad3aa\"></div>\n",
       "<script type=\"text/javascript\">\n",
       "  (function(spec, embedOpt){\n",
       "    let outputDiv = document.currentScript.previousElementSibling;\n",
       "    if (outputDiv.id !== \"altair-viz-20c7322a9aae47939ef1fa97ed5ad3aa\") {\n",
       "      outputDiv = document.getElementById(\"altair-viz-20c7322a9aae47939ef1fa97ed5ad3aa\");\n",
       "    }\n",
       "    const paths = {\n",
       "      \"vega\": \"https://cdn.jsdelivr.net/npm//vega@5?noext\",\n",
       "      \"vega-lib\": \"https://cdn.jsdelivr.net/npm//vega-lib?noext\",\n",
       "      \"vega-lite\": \"https://cdn.jsdelivr.net/npm//vega-lite@4.8.1?noext\",\n",
       "      \"vega-embed\": \"https://cdn.jsdelivr.net/npm//vega-embed@6?noext\",\n",
       "    };\n",
       "\n",
       "    function loadScript(lib) {\n",
       "      return new Promise(function(resolve, reject) {\n",
       "        var s = document.createElement('script');\n",
       "        s.src = paths[lib];\n",
       "        s.async = true;\n",
       "        s.onload = () => resolve(paths[lib]);\n",
       "        s.onerror = () => reject(`Error loading script: ${paths[lib]}`);\n",
       "        document.getElementsByTagName(\"head\")[0].appendChild(s);\n",
       "      });\n",
       "    }\n",
       "\n",
       "    function showError(err) {\n",
       "      outputDiv.innerHTML = `<div class=\"error\" style=\"color:red;\">${err}</div>`;\n",
       "      throw err;\n",
       "    }\n",
       "\n",
       "    function displayChart(vegaEmbed) {\n",
       "      vegaEmbed(outputDiv, spec, embedOpt)\n",
       "        .catch(err => showError(`Javascript Error: ${err.message}<br>This usually means there's a typo in your chart specification. See the javascript console for the full traceback.`));\n",
       "    }\n",
       "\n",
       "    if(typeof define === \"function\" && define.amd) {\n",
       "      requirejs.config({paths});\n",
       "      require([\"vega-embed\"], displayChart, err => showError(`Error loading script: ${err.message}`));\n",
       "    } else if (typeof vegaEmbed === \"function\") {\n",
       "      displayChart(vegaEmbed);\n",
       "    } else {\n",
       "      loadScript(\"vega\")\n",
       "        .then(() => loadScript(\"vega-lite\"))\n",
       "        .then(() => loadScript(\"vega-embed\"))\n",
       "        .catch(showError)\n",
       "        .then(() => displayChart(vegaEmbed));\n",
       "    }\n",
       "  })({\"config\": {\"axisLeft\": {\"labelFontSize\": 15}, \"axisBottom\": {\"labelFontSize\": 15}}, \"hconcat\": [{\"mark\": \"bar\", \"encoding\": {\"color\": {\"type\": \"nominal\", \"field\": \"kind\"}, \"tooltip\": {\"type\": \"nominal\", \"field\": \"kind\"}, \"x\": {\"type\": \"nominal\", \"field\": \"repo\"}, \"y\": {\"type\": \"quantitative\", \"field\": \"count\"}}, \"title\": \"Activity per repository\", \"width\": 600}, {\"mark\": \"bar\", \"encoding\": {\"color\": {\"type\": \"nominal\", \"field\": \"kind\"}, \"tooltip\": {\"type\": \"nominal\", \"field\": \"kind\"}, \"x\": {\"type\": \"nominal\", \"field\": \"repo\"}, \"y\": {\"type\": \"quantitative\", \"field\": \"logcount\"}}, \"title\": \"Log activity per repository\", \"width\": 600}], \"data\": {\"name\": \"data-ee7ffe34514cd6e7535f223fce1cdd8a\"}, \"$schema\": \"https://vega.github.io/schema/vega-lite/v4.8.1.json\", \"datasets\": {\"data-ee7ffe34514cd6e7535f223fce1cdd8a\": [{\"repo\": \"binderhub\", \"kind\": \"comments\", \"count\": 52, \"logcount\": 3.9512437185814275}, {\"repo\": \"binderhub\", \"kind\": \"issues\", \"count\": 6, \"logcount\": 1.791759469228055}, {\"repo\": \"binderhub\", \"kind\": \"prs\", \"count\": 19, \"logcount\": 2.9444389791664403}, {\"repo\": \"docker-image-cleaner\", \"kind\": \"comments\", \"count\": 8, \"logcount\": 2.0794415416798357}, {\"repo\": \"docker-image-cleaner\", \"kind\": \"prs\", \"count\": 1, \"logcount\": 0.0}, {\"repo\": \"jupyter-server-proxy\", \"kind\": \"comments\", \"count\": 2, \"logcount\": 0.6931471805599453}, {\"repo\": \"jupyter-server-proxy\", \"kind\": \"prs\", \"count\": 1, \"logcount\": 0.0}, {\"repo\": \"jupyterhub\", \"kind\": \"comments\", \"count\": 19, \"logcount\": 2.9444389791664403}, {\"repo\": \"jupyterhub\", \"kind\": \"issues\", \"count\": 1, \"logcount\": 0.0}, {\"repo\": \"jupyterhub\", \"kind\": \"prs\", \"count\": 3, \"logcount\": 1.0986122886681098}, {\"repo\": \"jupyterhub-idle-culler\", \"kind\": \"comments\", \"count\": 1, \"logcount\": 0.0}, {\"repo\": \"jupyterlab\", \"kind\": \"comments\", \"count\": 1, \"logcount\": 0.0}, {\"repo\": \"jupyterlab\", \"kind\": \"prs\", \"count\": 1, \"logcount\": 0.0}, {\"repo\": \"jupyterlab-git\", \"kind\": \"comments\", \"count\": 3, \"logcount\": 1.0986122886681098}, {\"repo\": \"jupyterlab_app\", \"kind\": \"issues\", \"count\": 1, \"logcount\": 0.0}, {\"repo\": \"kubespawner\", \"kind\": \"prs\", \"count\": 1, \"logcount\": 0.0}, {\"repo\": \"ltiauthenticator\", \"kind\": \"comments\", \"count\": 3, \"logcount\": 1.0986122886681098}, {\"repo\": \"mybinder.org-deploy\", \"kind\": \"comments\", \"count\": 2, \"logcount\": 0.6931471805599453}, {\"repo\": \"nbgitpuller\", \"kind\": \"comments\", \"count\": 11, \"logcount\": 2.3978952727983707}, {\"repo\": \"nbgitpuller\", \"kind\": \"issues\", \"count\": 2, \"logcount\": 0.6931471805599453}, {\"repo\": \"repo2docker\", \"kind\": \"comments\", \"count\": 4, \"logcount\": 1.3862943611198906}, {\"repo\": \"repo2docker-action\", \"kind\": \"comments\", \"count\": 1, \"logcount\": 0.0}, {\"repo\": \"repo2docker-action\", \"kind\": \"issues\", \"count\": 1, \"logcount\": 0.0}, {\"repo\": \"retrolab\", \"kind\": \"comments\", \"count\": 2, \"logcount\": 0.6931471805599453}, {\"repo\": \"retrolab\", \"kind\": \"issues\", \"count\": 1, \"logcount\": 0.0}, {\"repo\": \"retrolab\", \"kind\": \"prs\", \"count\": 1, \"logcount\": 0.0}, {\"repo\": \"team-compass\", \"kind\": \"comments\", \"count\": 2, \"logcount\": 0.6931471805599453}, {\"repo\": \"the-littlest-jupyterhub\", \"kind\": \"prs\", \"count\": 1, \"logcount\": 0.0}, {\"repo\": \"zero-to-jupyterhub-k8s\", \"kind\": \"comments\", \"count\": 4, \"logcount\": 1.3862943611198906}]}}, {\"mode\": \"vega-lite\"});\n",
       "</script>"
      ],
      "text/plain": [
       "alt.HConcatChart(...)"
      ]
     },
     "execution_count": 11,
     "metadata": {},
     "output_type": "execute_result"
    }
   ],
   "source": [
    "ch1 = alt.Chart(repo_summaries, width=600, title=\"Activity per repository\").mark_bar().encode(\n",
    "    x='repo',\n",
    "    y='count',\n",
    "    color='kind',\n",
    "    tooltip=\"kind\"\n",
    ")\n",
    "\n",
    "ch2 = alt.Chart(repo_summaries, width=600, title=\"Log activity per repository\").mark_bar().encode(\n",
    "    x='repo',\n",
    "    y='logcount',\n",
    "    color='kind',\n",
    "    tooltip=\"kind\"\n",
    ")\n",
    "\n",
    "ch1 | ch2"
   ]
  },
  {
   "cell_type": "code",
   "execution_count": 12,
   "id": "e7893802",
   "metadata": {
    "execution": {
     "iopub.execute_input": "2021-10-09T01:31:55.021730Z",
     "iopub.status.busy": "2021-10-09T01:31:55.019677Z",
     "iopub.status.idle": "2021-10-09T01:31:55.412235Z",
     "shell.execute_reply": "2021-10-09T01:31:55.412632Z"
    },
    "papermill": {
     "duration": 0.461687,
     "end_time": "2021-10-09T01:31:55.412793",
     "exception": false,
     "start_time": "2021-10-09T01:31:54.951106",
     "status": "completed"
    },
    "tags": [
     "hide_input"
    ]
   },
   "outputs": [
    {
     "data": {
      "text/html": [
       "\n",
       "<div id=\"altair-viz-4b908755f267439bbed37e9e6b22e57a\"></div>\n",
       "<script type=\"text/javascript\">\n",
       "  (function(spec, embedOpt){\n",
       "    let outputDiv = document.currentScript.previousElementSibling;\n",
       "    if (outputDiv.id !== \"altair-viz-4b908755f267439bbed37e9e6b22e57a\") {\n",
       "      outputDiv = document.getElementById(\"altair-viz-4b908755f267439bbed37e9e6b22e57a\");\n",
       "    }\n",
       "    const paths = {\n",
       "      \"vega\": \"https://cdn.jsdelivr.net/npm//vega@5?noext\",\n",
       "      \"vega-lib\": \"https://cdn.jsdelivr.net/npm//vega-lib?noext\",\n",
       "      \"vega-lite\": \"https://cdn.jsdelivr.net/npm//vega-lite@4.8.1?noext\",\n",
       "      \"vega-embed\": \"https://cdn.jsdelivr.net/npm//vega-embed@6?noext\",\n",
       "    };\n",
       "\n",
       "    function loadScript(lib) {\n",
       "      return new Promise(function(resolve, reject) {\n",
       "        var s = document.createElement('script');\n",
       "        s.src = paths[lib];\n",
       "        s.async = true;\n",
       "        s.onload = () => resolve(paths[lib]);\n",
       "        s.onerror = () => reject(`Error loading script: ${paths[lib]}`);\n",
       "        document.getElementsByTagName(\"head\")[0].appendChild(s);\n",
       "      });\n",
       "    }\n",
       "\n",
       "    function showError(err) {\n",
       "      outputDiv.innerHTML = `<div class=\"error\" style=\"color:red;\">${err}</div>`;\n",
       "      throw err;\n",
       "    }\n",
       "\n",
       "    function displayChart(vegaEmbed) {\n",
       "      vegaEmbed(outputDiv, spec, embedOpt)\n",
       "        .catch(err => showError(`Javascript Error: ${err.message}<br>This usually means there's a typo in your chart specification. See the javascript console for the full traceback.`));\n",
       "    }\n",
       "\n",
       "    if(typeof define === \"function\" && define.amd) {\n",
       "      requirejs.config({paths});\n",
       "      require([\"vega-embed\"], displayChart, err => showError(`Error loading script: ${err.message}`));\n",
       "    } else if (typeof vegaEmbed === \"function\") {\n",
       "      displayChart(vegaEmbed);\n",
       "    } else {\n",
       "      loadScript(\"vega\")\n",
       "        .then(() => loadScript(\"vega-lite\"))\n",
       "        .then(() => loadScript(\"vega-embed\"))\n",
       "        .catch(showError)\n",
       "        .then(() => displayChart(vegaEmbed));\n",
       "    }\n",
       "  })({\"config\": {\"axisLeft\": {\"labelFontSize\": 15}, \"axisBottom\": {\"labelFontSize\": 15}}, \"data\": {\"name\": \"data-abb15d065102cf9f0304ee7f3f22f19e\"}, \"mark\": \"bar\", \"encoding\": {\"color\": {\"type\": \"nominal\", \"field\": \"kind\"}, \"tooltip\": {\"type\": \"nominal\", \"field\": \"org\"}, \"x\": {\"type\": \"nominal\", \"field\": \"org\"}, \"y\": {\"type\": \"quantitative\", \"field\": \"count\"}}, \"width\": 600, \"$schema\": \"https://vega.github.io/schema/vega-lite/v4.8.1.json\", \"datasets\": {\"data-abb15d065102cf9f0304ee7f3f22f19e\": [{\"org\": \"jupyterhub\", \"kind\": \"comments\", \"count\": 109}, {\"org\": \"jupyterhub\", \"kind\": \"issues\", \"count\": 10}, {\"org\": \"jupyterhub\", \"kind\": \"prs\", \"count\": 26}, {\"org\": \"jupyterlab\", \"kind\": \"comments\", \"count\": 6}, {\"org\": \"jupyterlab\", \"kind\": \"issues\", \"count\": 2}, {\"org\": \"jupyterlab\", \"kind\": \"prs\", \"count\": 2}]}}, {\"mode\": \"vega-lite\"});\n",
       "</script>"
      ],
      "text/plain": [
       "alt.Chart(...)"
      ]
     },
     "execution_count": 12,
     "metadata": {},
     "output_type": "execute_result"
    }
   ],
   "source": [
    "alt.Chart(org_summaries, width=600).mark_bar().encode(\n",
    "    x='org',\n",
    "    y='count',\n",
    "    color='kind',\n",
    "    tooltip=\"org\"\n",
    ")"
   ]
  },
  {
   "cell_type": "markdown",
   "id": "dbe9696a",
   "metadata": {
    "papermill": {
     "duration": 0.061743,
     "end_time": "2021-10-09T01:31:55.534584",
     "exception": false,
     "start_time": "2021-10-09T01:31:55.472841",
     "status": "completed"
    },
    "tags": []
   },
   "source": [
    "## By repository over time"
   ]
  },
  {
   "cell_type": "markdown",
   "id": "9b2a16aa",
   "metadata": {
    "papermill": {
     "duration": 0.061321,
     "end_time": "2021-10-09T01:31:55.658672",
     "exception": false,
     "start_time": "2021-10-09T01:31:55.597351",
     "status": "completed"
    },
    "tags": []
   },
   "source": [
    "### Comments"
   ]
  },
  {
   "cell_type": "code",
   "execution_count": 13,
   "id": "18cf10fd",
   "metadata": {
    "execution": {
     "iopub.execute_input": "2021-10-09T01:31:55.792651Z",
     "iopub.status.busy": "2021-10-09T01:31:55.792002Z",
     "iopub.status.idle": "2021-10-09T01:31:56.581183Z",
     "shell.execute_reply": "2021-10-09T01:31:56.580230Z"
    },
    "papermill": {
     "duration": 0.860305,
     "end_time": "2021-10-09T01:31:56.581356",
     "exception": false,
     "start_time": "2021-10-09T01:31:55.721051",
     "status": "completed"
    },
    "tags": [
     "hide_input"
    ]
   },
   "outputs": [
    {
     "data": {
      "text/html": [
       "\n",
       "<div id=\"altair-viz-b873f39851964813a58db74dc9868023\"></div>\n",
       "<script type=\"text/javascript\">\n",
       "  (function(spec, embedOpt){\n",
       "    let outputDiv = document.currentScript.previousElementSibling;\n",
       "    if (outputDiv.id !== \"altair-viz-b873f39851964813a58db74dc9868023\") {\n",
       "      outputDiv = document.getElementById(\"altair-viz-b873f39851964813a58db74dc9868023\");\n",
       "    }\n",
       "    const paths = {\n",
       "      \"vega\": \"https://cdn.jsdelivr.net/npm//vega@5?noext\",\n",
       "      \"vega-lib\": \"https://cdn.jsdelivr.net/npm//vega-lib?noext\",\n",
       "      \"vega-lite\": \"https://cdn.jsdelivr.net/npm//vega-lite@4.8.1?noext\",\n",
       "      \"vega-embed\": \"https://cdn.jsdelivr.net/npm//vega-embed@6?noext\",\n",
       "    };\n",
       "\n",
       "    function loadScript(lib) {\n",
       "      return new Promise(function(resolve, reject) {\n",
       "        var s = document.createElement('script');\n",
       "        s.src = paths[lib];\n",
       "        s.async = true;\n",
       "        s.onload = () => resolve(paths[lib]);\n",
       "        s.onerror = () => reject(`Error loading script: ${paths[lib]}`);\n",
       "        document.getElementsByTagName(\"head\")[0].appendChild(s);\n",
       "      });\n",
       "    }\n",
       "\n",
       "    function showError(err) {\n",
       "      outputDiv.innerHTML = `<div class=\"error\" style=\"color:red;\">${err}</div>`;\n",
       "      throw err;\n",
       "    }\n",
       "\n",
       "    function displayChart(vegaEmbed) {\n",
       "      vegaEmbed(outputDiv, spec, embedOpt)\n",
       "        .catch(err => showError(`Javascript Error: ${err.message}<br>This usually means there's a typo in your chart specification. See the javascript console for the full traceback.`));\n",
       "    }\n",
       "\n",
       "    if(typeof define === \"function\" && define.amd) {\n",
       "      requirejs.config({paths});\n",
       "      require([\"vega-embed\"], displayChart, err => showError(`Error loading script: ${err.message}`));\n",
       "    } else if (typeof vegaEmbed === \"function\") {\n",
       "      displayChart(vegaEmbed);\n",
       "    } else {\n",
       "      loadScript(\"vega\")\n",
       "        .then(() => loadScript(\"vega-lite\"))\n",
       "        .then(() => loadScript(\"vega-embed\"))\n",
       "        .catch(showError)\n",
       "        .then(() => displayChart(vegaEmbed));\n",
       "    }\n",
       "  })({\"config\": {\"axisLeft\": {\"labelFontSize\": 15}, \"axisBottom\": {\"labelFontSize\": 15}}, \"layer\": [{\"data\": {\"name\": \"data-346e4e4146c30b2f893c8c903e2464ea\"}, \"mark\": \"line\", \"encoding\": {\"color\": {\"type\": \"nominal\", \"field\": \"repo\"}, \"tooltip\": {\"type\": \"nominal\", \"field\": \"repo\"}, \"x\": {\"type\": \"temporal\", \"field\": \"createdAt\"}, \"y\": {\"type\": \"quantitative\", \"field\": \"count\"}}, \"width\": 600}, {\"data\": {\"name\": \"data-7ccfb5ea1d8a9225b6262d13267b6ca1\"}, \"mark\": {\"type\": \"line\", \"color\": \"black\"}, \"encoding\": {\"x\": {\"type\": \"temporal\", \"field\": \"createdAt\"}, \"y\": {\"type\": \"quantitative\", \"field\": \"count\"}}, \"width\": 600}], \"$schema\": \"https://vega.github.io/schema/vega-lite/v4.8.1.json\", \"datasets\": {\"data-346e4e4146c30b2f893c8c903e2464ea\": [{\"repo\": \"binderhub\", \"createdAt\": \"2021-09-05T00:00:00\", \"count\": 4}, {\"repo\": \"binderhub\", \"createdAt\": \"2021-09-12T00:00:00\", \"count\": 7}, {\"repo\": \"binderhub\", \"createdAt\": \"2021-09-19T00:00:00\", \"count\": 20}, {\"repo\": \"binderhub\", \"createdAt\": \"2021-09-26T00:00:00\", \"count\": 16}, {\"repo\": \"binderhub\", \"createdAt\": \"2021-10-03T00:00:00\", \"count\": 5}, {\"repo\": \"docker-image-cleaner\", \"createdAt\": \"2021-09-19T00:00:00\", \"count\": 6}, {\"repo\": \"docker-image-cleaner\", \"createdAt\": \"2021-09-26T00:00:00\", \"count\": 2}, {\"repo\": \"jupyter-server-proxy\", \"createdAt\": \"2021-08-29T00:00:00\", \"count\": 2}, {\"repo\": \"jupyterhub\", \"createdAt\": \"2021-08-22T00:00:00\", \"count\": 2}, {\"repo\": \"jupyterhub\", \"createdAt\": \"2021-08-29T00:00:00\", \"count\": 1}, {\"repo\": \"jupyterhub\", \"createdAt\": \"2021-09-05T00:00:00\", \"count\": 0}, {\"repo\": \"jupyterhub\", \"createdAt\": \"2021-09-12T00:00:00\", \"count\": 0}, {\"repo\": \"jupyterhub\", \"createdAt\": \"2021-09-19T00:00:00\", \"count\": 0}, {\"repo\": \"jupyterhub\", \"createdAt\": \"2021-09-26T00:00:00\", \"count\": 0}, {\"repo\": \"jupyterhub\", \"createdAt\": \"2021-10-03T00:00:00\", \"count\": 0}, {\"repo\": \"jupyterhub\", \"createdAt\": \"2021-10-10T00:00:00\", \"count\": 16}, {\"repo\": \"jupyterhub-idle-culler\", \"createdAt\": \"2021-09-26T00:00:00\", \"count\": 1}, {\"repo\": \"jupyterlab\", \"createdAt\": \"2021-10-10T00:00:00\", \"count\": 1}, {\"repo\": \"jupyterlab-git\", \"createdAt\": \"2021-10-10T00:00:00\", \"count\": 3}, {\"repo\": \"ltiauthenticator\", \"createdAt\": \"2021-09-05T00:00:00\", \"count\": 2}, {\"repo\": \"ltiauthenticator\", \"createdAt\": \"2021-09-12T00:00:00\", \"count\": 0}, {\"repo\": \"ltiauthenticator\", \"createdAt\": \"2021-09-19T00:00:00\", \"count\": 1}, {\"repo\": \"mybinder.org-deploy\", \"createdAt\": \"2021-09-26T00:00:00\", \"count\": 2}, {\"repo\": \"nbgitpuller\", \"createdAt\": \"2021-08-22T00:00:00\", \"count\": 6}, {\"repo\": \"nbgitpuller\", \"createdAt\": \"2021-08-29T00:00:00\", \"count\": 4}, {\"repo\": \"nbgitpuller\", \"createdAt\": \"2021-09-05T00:00:00\", \"count\": 1}, {\"repo\": \"repo2docker\", \"createdAt\": \"2021-08-29T00:00:00\", \"count\": 1}, {\"repo\": \"repo2docker\", \"createdAt\": \"2021-09-05T00:00:00\", \"count\": 1}, {\"repo\": \"repo2docker\", \"createdAt\": \"2021-09-12T00:00:00\", \"count\": 0}, {\"repo\": \"repo2docker\", \"createdAt\": \"2021-09-19T00:00:00\", \"count\": 2}, {\"repo\": \"repo2docker-action\", \"createdAt\": \"2021-09-19T00:00:00\", \"count\": 1}, {\"repo\": \"retrolab\", \"createdAt\": \"2021-09-05T00:00:00\", \"count\": 2}, {\"repo\": \"team-compass\", \"createdAt\": \"2021-08-22T00:00:00\", \"count\": 1}, {\"repo\": \"team-compass\", \"createdAt\": \"2021-08-29T00:00:00\", \"count\": 1}, {\"repo\": \"zero-to-jupyterhub-k8s\", \"createdAt\": \"2021-09-26T00:00:00\", \"count\": 1}, {\"repo\": \"zero-to-jupyterhub-k8s\", \"createdAt\": \"2021-10-03T00:00:00\", \"count\": 3}], \"data-7ccfb5ea1d8a9225b6262d13267b6ca1\": [{\"createdAt\": \"2021-08-22T00:00:00\", \"count\": 9}, {\"createdAt\": \"2021-08-29T00:00:00\", \"count\": 9}, {\"createdAt\": \"2021-09-05T00:00:00\", \"count\": 10}, {\"createdAt\": \"2021-09-12T00:00:00\", \"count\": 7}, {\"createdAt\": \"2021-09-19T00:00:00\", \"count\": 30}, {\"createdAt\": \"2021-09-26T00:00:00\", \"count\": 22}, {\"createdAt\": \"2021-10-03T00:00:00\", \"count\": 8}, {\"createdAt\": \"2021-10-10T00:00:00\", \"count\": 20}]}}, {\"mode\": \"vega-lite\"});\n",
       "</script>"
      ],
      "text/plain": [
       "alt.LayerChart(...)"
      ]
     },
     "execution_count": 13,
     "metadata": {},
     "output_type": "execute_result"
    }
   ],
   "source": [
    "comments_time = comments.groupby('repo').resample('W', on='createdAt').count()['author'].reset_index()\n",
    "comments_time = comments_time.rename(columns={'author': 'count'})\n",
    "comments_time_total = comments_time.groupby('createdAt').agg({\"count\": \"sum\"}).reset_index()\n",
    "ch1 = alt.Chart(comments_time, width=600).mark_line().encode(\n",
    "    x='createdAt',\n",
    "    y='count',\n",
    "    color='repo',\n",
    "    tooltip=\"repo\"\n",
    ")\n",
    "\n",
    "ch2 = alt.Chart(comments_time_total, width=600).mark_line(color=\"black\").encode(\n",
    "    x='createdAt',\n",
    "    y='count',\n",
    ")\n",
    "\n",
    "ch1 + ch2"
   ]
  },
  {
   "cell_type": "markdown",
   "id": "4d497bc6",
   "metadata": {
    "papermill": {
     "duration": 0.06596,
     "end_time": "2021-10-09T01:31:56.715680",
     "exception": false,
     "start_time": "2021-10-09T01:31:56.649720",
     "status": "completed"
    },
    "tags": []
   },
   "source": [
    "### PRs"
   ]
  },
  {
   "cell_type": "code",
   "execution_count": 14,
   "id": "11eb13be",
   "metadata": {
    "execution": {
     "iopub.execute_input": "2021-10-09T01:31:56.869266Z",
     "iopub.status.busy": "2021-10-09T01:31:56.867629Z",
     "iopub.status.idle": "2021-10-09T01:31:57.611936Z",
     "shell.execute_reply": "2021-10-09T01:31:57.611374Z"
    },
    "papermill": {
     "duration": 0.828185,
     "end_time": "2021-10-09T01:31:57.612121",
     "exception": false,
     "start_time": "2021-10-09T01:31:56.783936",
     "status": "completed"
    },
    "tags": [
     "hide_input"
    ]
   },
   "outputs": [
    {
     "data": {
      "text/html": [
       "\n",
       "<div id=\"altair-viz-20f5ecf6ddf44d288e6bc112b006de80\"></div>\n",
       "<script type=\"text/javascript\">\n",
       "  (function(spec, embedOpt){\n",
       "    let outputDiv = document.currentScript.previousElementSibling;\n",
       "    if (outputDiv.id !== \"altair-viz-20f5ecf6ddf44d288e6bc112b006de80\") {\n",
       "      outputDiv = document.getElementById(\"altair-viz-20f5ecf6ddf44d288e6bc112b006de80\");\n",
       "    }\n",
       "    const paths = {\n",
       "      \"vega\": \"https://cdn.jsdelivr.net/npm//vega@5?noext\",\n",
       "      \"vega-lib\": \"https://cdn.jsdelivr.net/npm//vega-lib?noext\",\n",
       "      \"vega-lite\": \"https://cdn.jsdelivr.net/npm//vega-lite@4.8.1?noext\",\n",
       "      \"vega-embed\": \"https://cdn.jsdelivr.net/npm//vega-embed@6?noext\",\n",
       "    };\n",
       "\n",
       "    function loadScript(lib) {\n",
       "      return new Promise(function(resolve, reject) {\n",
       "        var s = document.createElement('script');\n",
       "        s.src = paths[lib];\n",
       "        s.async = true;\n",
       "        s.onload = () => resolve(paths[lib]);\n",
       "        s.onerror = () => reject(`Error loading script: ${paths[lib]}`);\n",
       "        document.getElementsByTagName(\"head\")[0].appendChild(s);\n",
       "      });\n",
       "    }\n",
       "\n",
       "    function showError(err) {\n",
       "      outputDiv.innerHTML = `<div class=\"error\" style=\"color:red;\">${err}</div>`;\n",
       "      throw err;\n",
       "    }\n",
       "\n",
       "    function displayChart(vegaEmbed) {\n",
       "      vegaEmbed(outputDiv, spec, embedOpt)\n",
       "        .catch(err => showError(`Javascript Error: ${err.message}<br>This usually means there's a typo in your chart specification. See the javascript console for the full traceback.`));\n",
       "    }\n",
       "\n",
       "    if(typeof define === \"function\" && define.amd) {\n",
       "      requirejs.config({paths});\n",
       "      require([\"vega-embed\"], displayChart, err => showError(`Error loading script: ${err.message}`));\n",
       "    } else if (typeof vegaEmbed === \"function\") {\n",
       "      displayChart(vegaEmbed);\n",
       "    } else {\n",
       "      loadScript(\"vega\")\n",
       "        .then(() => loadScript(\"vega-lite\"))\n",
       "        .then(() => loadScript(\"vega-embed\"))\n",
       "        .catch(showError)\n",
       "        .then(() => displayChart(vegaEmbed));\n",
       "    }\n",
       "  })({\"config\": {\"axisLeft\": {\"labelFontSize\": 15}, \"axisBottom\": {\"labelFontSize\": 15}}, \"layer\": [{\"data\": {\"name\": \"data-1e6a1d79cd12f481a91a2afdedd4a5f9\"}, \"mark\": \"line\", \"encoding\": {\"color\": {\"type\": \"nominal\", \"field\": \"repo\"}, \"tooltip\": {\"type\": \"nominal\", \"field\": \"repo\"}, \"x\": {\"type\": \"temporal\", \"field\": \"createdAt\"}, \"y\": {\"type\": \"quantitative\", \"field\": \"count\"}}, \"width\": 600}, {\"data\": {\"name\": \"data-5ffad15ce6b1584af2992465dc67d3a0\"}, \"mark\": {\"type\": \"line\", \"color\": \"black\"}, \"encoding\": {\"x\": {\"type\": \"temporal\", \"field\": \"createdAt\"}, \"y\": {\"type\": \"quantitative\", \"field\": \"count\"}}, \"width\": 600}], \"$schema\": \"https://vega.github.io/schema/vega-lite/v4.8.1.json\", \"datasets\": {\"data-1e6a1d79cd12f481a91a2afdedd4a5f9\": [{\"repo\": \"binderhub\", \"createdAt\": \"2021-07-04T00:00:00\", \"count\": 2}, {\"repo\": \"binderhub\", \"createdAt\": \"2021-07-11T00:00:00\", \"count\": 0}, {\"repo\": \"binderhub\", \"createdAt\": \"2021-07-18T00:00:00\", \"count\": 0}, {\"repo\": \"binderhub\", \"createdAt\": \"2021-07-25T00:00:00\", \"count\": 0}, {\"repo\": \"binderhub\", \"createdAt\": \"2021-08-01T00:00:00\", \"count\": 0}, {\"repo\": \"binderhub\", \"createdAt\": \"2021-08-08T00:00:00\", \"count\": 0}, {\"repo\": \"binderhub\", \"createdAt\": \"2021-08-15T00:00:00\", \"count\": 0}, {\"repo\": \"binderhub\", \"createdAt\": \"2021-08-22T00:00:00\", \"count\": 0}, {\"repo\": \"binderhub\", \"createdAt\": \"2021-08-29T00:00:00\", \"count\": 0}, {\"repo\": \"binderhub\", \"createdAt\": \"2021-09-05T00:00:00\", \"count\": 2}, {\"repo\": \"binderhub\", \"createdAt\": \"2021-09-12T00:00:00\", \"count\": 1}, {\"repo\": \"binderhub\", \"createdAt\": \"2021-09-19T00:00:00\", \"count\": 4}, {\"repo\": \"binderhub\", \"createdAt\": \"2021-09-26T00:00:00\", \"count\": 10}, {\"repo\": \"docker-image-cleaner\", \"createdAt\": \"2021-09-26T00:00:00\", \"count\": 1}, {\"repo\": \"jupyter-server-proxy\", \"createdAt\": \"2019-04-28T00:00:00\", \"count\": 1}, {\"repo\": \"jupyterhub\", \"createdAt\": \"2021-09-19T00:00:00\", \"count\": 1}, {\"repo\": \"jupyterhub\", \"createdAt\": \"2021-09-26T00:00:00\", \"count\": 0}, {\"repo\": \"jupyterhub\", \"createdAt\": \"2021-10-03T00:00:00\", \"count\": 0}, {\"repo\": \"jupyterhub\", \"createdAt\": \"2021-10-10T00:00:00\", \"count\": 2}, {\"repo\": \"jupyterlab\", \"createdAt\": \"2021-10-10T00:00:00\", \"count\": 1}, {\"repo\": \"kubespawner\", \"createdAt\": \"2021-09-19T00:00:00\", \"count\": 1}, {\"repo\": \"retrolab\", \"createdAt\": \"2021-06-13T00:00:00\", \"count\": 1}, {\"repo\": \"the-littlest-jupyterhub\", \"createdAt\": \"2021-09-05T00:00:00\", \"count\": 1}], \"data-5ffad15ce6b1584af2992465dc67d3a0\": [{\"createdAt\": \"2019-04-28T00:00:00\", \"count\": 1}, {\"createdAt\": \"2021-06-13T00:00:00\", \"count\": 1}, {\"createdAt\": \"2021-07-04T00:00:00\", \"count\": 2}, {\"createdAt\": \"2021-07-11T00:00:00\", \"count\": 0}, {\"createdAt\": \"2021-07-18T00:00:00\", \"count\": 0}, {\"createdAt\": \"2021-07-25T00:00:00\", \"count\": 0}, {\"createdAt\": \"2021-08-01T00:00:00\", \"count\": 0}, {\"createdAt\": \"2021-08-08T00:00:00\", \"count\": 0}, {\"createdAt\": \"2021-08-15T00:00:00\", \"count\": 0}, {\"createdAt\": \"2021-08-22T00:00:00\", \"count\": 0}, {\"createdAt\": \"2021-08-29T00:00:00\", \"count\": 0}, {\"createdAt\": \"2021-09-05T00:00:00\", \"count\": 3}, {\"createdAt\": \"2021-09-12T00:00:00\", \"count\": 1}, {\"createdAt\": \"2021-09-19T00:00:00\", \"count\": 6}, {\"createdAt\": \"2021-09-26T00:00:00\", \"count\": 11}, {\"createdAt\": \"2021-10-03T00:00:00\", \"count\": 0}, {\"createdAt\": \"2021-10-10T00:00:00\", \"count\": 3}]}}, {\"mode\": \"vega-lite\"});\n",
       "</script>"
      ],
      "text/plain": [
       "alt.LayerChart(...)"
      ]
     },
     "execution_count": 14,
     "metadata": {},
     "output_type": "execute_result"
    }
   ],
   "source": [
    "prs_time = prs.groupby('repo').resample('W', on='createdAt').count()['author'].reset_index()\n",
    "prs_time = prs_time.rename(columns={'author': 'count'})\n",
    "prs_time_total = prs_time.groupby('createdAt').agg({\"count\": \"sum\"}).reset_index()\n",
    "\n",
    "ch1 = alt.Chart(prs_time, width=600).mark_line().encode(\n",
    "    x='createdAt',\n",
    "    y='count',\n",
    "    color='repo',\n",
    "    tooltip=\"repo\"\n",
    ")\n",
    "\n",
    "ch2 = alt.Chart(prs_time_total, width=600).mark_line(color=\"black\").encode(\n",
    "    x='createdAt',\n",
    "    y='count',\n",
    ")\n",
    "\n",
    "ch1 + ch2"
   ]
  },
  {
   "cell_type": "code",
   "execution_count": 15,
   "id": "a9c4ce39",
   "metadata": {
    "execution": {
     "iopub.execute_input": "2021-10-09T01:31:57.758416Z",
     "iopub.status.busy": "2021-10-09T01:31:57.757856Z",
     "iopub.status.idle": "2021-10-09T01:31:58.185528Z",
     "shell.execute_reply": "2021-10-09T01:31:58.185002Z"
    },
    "papermill": {
     "duration": 0.505721,
     "end_time": "2021-10-09T01:31:58.185675",
     "exception": false,
     "start_time": "2021-10-09T01:31:57.679954",
     "status": "completed"
    },
    "tags": [
     "hide_input"
    ]
   },
   "outputs": [
    {
     "data": {
      "text/html": [
       "\n",
       "<div id=\"altair-viz-e2636ecc76b94b039c020ee34472e3bb\"></div>\n",
       "<script type=\"text/javascript\">\n",
       "  (function(spec, embedOpt){\n",
       "    let outputDiv = document.currentScript.previousElementSibling;\n",
       "    if (outputDiv.id !== \"altair-viz-e2636ecc76b94b039c020ee34472e3bb\") {\n",
       "      outputDiv = document.getElementById(\"altair-viz-e2636ecc76b94b039c020ee34472e3bb\");\n",
       "    }\n",
       "    const paths = {\n",
       "      \"vega\": \"https://cdn.jsdelivr.net/npm//vega@5?noext\",\n",
       "      \"vega-lib\": \"https://cdn.jsdelivr.net/npm//vega-lib?noext\",\n",
       "      \"vega-lite\": \"https://cdn.jsdelivr.net/npm//vega-lite@4.8.1?noext\",\n",
       "      \"vega-embed\": \"https://cdn.jsdelivr.net/npm//vega-embed@6?noext\",\n",
       "    };\n",
       "\n",
       "    function loadScript(lib) {\n",
       "      return new Promise(function(resolve, reject) {\n",
       "        var s = document.createElement('script');\n",
       "        s.src = paths[lib];\n",
       "        s.async = true;\n",
       "        s.onload = () => resolve(paths[lib]);\n",
       "        s.onerror = () => reject(`Error loading script: ${paths[lib]}`);\n",
       "        document.getElementsByTagName(\"head\")[0].appendChild(s);\n",
       "      });\n",
       "    }\n",
       "\n",
       "    function showError(err) {\n",
       "      outputDiv.innerHTML = `<div class=\"error\" style=\"color:red;\">${err}</div>`;\n",
       "      throw err;\n",
       "    }\n",
       "\n",
       "    function displayChart(vegaEmbed) {\n",
       "      vegaEmbed(outputDiv, spec, embedOpt)\n",
       "        .catch(err => showError(`Javascript Error: ${err.message}<br>This usually means there's a typo in your chart specification. See the javascript console for the full traceback.`));\n",
       "    }\n",
       "\n",
       "    if(typeof define === \"function\" && define.amd) {\n",
       "      requirejs.config({paths});\n",
       "      require([\"vega-embed\"], displayChart, err => showError(`Error loading script: ${err.message}`));\n",
       "    } else if (typeof vegaEmbed === \"function\") {\n",
       "      displayChart(vegaEmbed);\n",
       "    } else {\n",
       "      loadScript(\"vega\")\n",
       "        .then(() => loadScript(\"vega-lite\"))\n",
       "        .then(() => loadScript(\"vega-embed\"))\n",
       "        .catch(showError)\n",
       "        .then(() => displayChart(vegaEmbed));\n",
       "    }\n",
       "  })({\"config\": {\"axisLeft\": {\"labelFontSize\": 15}, \"axisBottom\": {\"labelFontSize\": 15}}, \"data\": {\"name\": \"data-11fca112483fd69cae0b0e587a872ab5\"}, \"mark\": \"line\", \"encoding\": {\"color\": {\"type\": \"nominal\", \"field\": \"repo\"}, \"tooltip\": {\"type\": \"nominal\", \"field\": \"repo\"}, \"x\": {\"type\": \"temporal\", \"field\": \"closedAt\"}, \"y\": {\"type\": \"quantitative\", \"field\": \"count\"}}, \"width\": 600, \"$schema\": \"https://vega.github.io/schema/vega-lite/v4.8.1.json\", \"datasets\": {\"data-11fca112483fd69cae0b0e587a872ab5\": [{\"repo\": \"binderhub\", \"closedAt\": \"2021-09-05T00:00:00\", \"count\": 1}, {\"repo\": \"binderhub\", \"closedAt\": \"2021-09-12T00:00:00\", \"count\": 0}, {\"repo\": \"binderhub\", \"closedAt\": \"2021-09-19T00:00:00\", \"count\": 5}, {\"repo\": \"docker-image-cleaner\", \"closedAt\": \"2021-09-19T00:00:00\", \"count\": 2}, {\"repo\": \"jupyter-server-proxy\", \"closedAt\": \"2021-08-29T00:00:00\", \"count\": 2}, {\"repo\": \"jupyterhub\", \"closedAt\": \"2021-08-22T00:00:00\", \"count\": 1}, {\"repo\": \"jupyterhub-idle-culler\", \"closedAt\": \"2021-09-26T00:00:00\", \"count\": 1}, {\"repo\": \"kubespawner\", \"closedAt\": \"2021-10-10T00:00:00\", \"count\": 1}, {\"repo\": \"ltiauthenticator\", \"closedAt\": \"2021-09-05T00:00:00\", \"count\": 1}, {\"repo\": \"nbgitpuller\", \"closedAt\": \"2021-08-22T00:00:00\", \"count\": 2}, {\"repo\": \"nbgitpuller\", \"closedAt\": \"2021-08-29T00:00:00\", \"count\": 0}, {\"repo\": \"nbgitpuller\", \"closedAt\": \"2021-09-05T00:00:00\", \"count\": 1}, {\"repo\": \"repo2docker\", \"closedAt\": \"2021-08-29T00:00:00\", \"count\": 1}, {\"repo\": \"repo2docker\", \"closedAt\": \"2021-09-05T00:00:00\", \"count\": 1}, {\"repo\": \"repo2docker-action\", \"closedAt\": \"2021-09-19T00:00:00\", \"count\": 1}, {\"repo\": \"zero-to-jupyterhub-k8s\", \"closedAt\": \"2021-09-26T00:00:00\", \"count\": 1}, {\"repo\": \"zero-to-jupyterhub-k8s\", \"closedAt\": \"2021-10-03T00:00:00\", \"count\": 1}]}}, {\"mode\": \"vega-lite\"});\n",
       "</script>"
      ],
      "text/plain": [
       "alt.Chart(...)"
      ]
     },
     "execution_count": 15,
     "metadata": {},
     "output_type": "execute_result"
    }
   ],
   "source": [
    "closed_by_time = closed_by.groupby('repo').resample('W', on='closedAt').count()['author'].reset_index()\n",
    "closed_by_time = closed_by_time.rename(columns={'author': 'count'})\n",
    "\n",
    "alt.Chart(closed_by_time, width=600).mark_line().encode(\n",
    "    x='closedAt',\n",
    "    y='count',\n",
    "    color='repo',\n",
    "    tooltip=\"repo\"\n",
    ")"
   ]
  },
  {
   "cell_type": "markdown",
   "id": "95ec03fc",
   "metadata": {
    "papermill": {
     "duration": 0.069755,
     "end_time": "2021-10-09T01:31:58.324351",
     "exception": false,
     "start_time": "2021-10-09T01:31:58.254596",
     "status": "completed"
    },
    "tags": []
   },
   "source": [
    "## By type over time"
   ]
  },
  {
   "cell_type": "code",
   "execution_count": 16,
   "id": "cd194afa",
   "metadata": {
    "execution": {
     "iopub.execute_input": "2021-10-09T01:31:58.476140Z",
     "iopub.status.busy": "2021-10-09T01:31:58.471984Z",
     "iopub.status.idle": "2021-10-09T01:31:58.487603Z",
     "shell.execute_reply": "2021-10-09T01:31:58.487113Z"
    },
    "papermill": {
     "duration": 0.095229,
     "end_time": "2021-10-09T01:31:58.487765",
     "exception": false,
     "start_time": "2021-10-09T01:31:58.392536",
     "status": "completed"
    },
    "tags": [
     "remove_cell"
    ]
   },
   "outputs": [],
   "source": [
    "prs_time = prs[['author', 'createdAt']].resample('W', on='createdAt').count()['author'].reset_index()\n",
    "prs_time = prs_time.rename(columns={'author': 'prs'})\n",
    "comments_time = comments[['author', 'createdAt']].resample('W', on='createdAt').count()['author'].reset_index()\n",
    "comments_time = comments_time.rename(columns={'author': 'comments'})\n",
    "\n",
    "total_time = pd.merge(prs_time, comments_time, on='createdAt', how='outer')\n",
    "total_time = total_time.melt(id_vars='createdAt', var_name=\"kind\", value_name=\"count\")\n"
   ]
  },
  {
   "cell_type": "code",
   "execution_count": 17,
   "id": "9855bc9b",
   "metadata": {
    "execution": {
     "iopub.execute_input": "2021-10-09T01:31:58.634414Z",
     "iopub.status.busy": "2021-10-09T01:31:58.633845Z",
     "iopub.status.idle": "2021-10-09T01:31:58.976496Z",
     "shell.execute_reply": "2021-10-09T01:31:58.975971Z"
    },
    "papermill": {
     "duration": 0.421083,
     "end_time": "2021-10-09T01:31:58.976655",
     "exception": false,
     "start_time": "2021-10-09T01:31:58.555572",
     "status": "completed"
    },
    "tags": [
     "hide_input"
    ]
   },
   "outputs": [
    {
     "data": {
      "text/html": [
       "\n",
       "<div id=\"altair-viz-2c3c7d837c734d2593d294311f692b63\"></div>\n",
       "<script type=\"text/javascript\">\n",
       "  (function(spec, embedOpt){\n",
       "    let outputDiv = document.currentScript.previousElementSibling;\n",
       "    if (outputDiv.id !== \"altair-viz-2c3c7d837c734d2593d294311f692b63\") {\n",
       "      outputDiv = document.getElementById(\"altair-viz-2c3c7d837c734d2593d294311f692b63\");\n",
       "    }\n",
       "    const paths = {\n",
       "      \"vega\": \"https://cdn.jsdelivr.net/npm//vega@5?noext\",\n",
       "      \"vega-lib\": \"https://cdn.jsdelivr.net/npm//vega-lib?noext\",\n",
       "      \"vega-lite\": \"https://cdn.jsdelivr.net/npm//vega-lite@4.8.1?noext\",\n",
       "      \"vega-embed\": \"https://cdn.jsdelivr.net/npm//vega-embed@6?noext\",\n",
       "    };\n",
       "\n",
       "    function loadScript(lib) {\n",
       "      return new Promise(function(resolve, reject) {\n",
       "        var s = document.createElement('script');\n",
       "        s.src = paths[lib];\n",
       "        s.async = true;\n",
       "        s.onload = () => resolve(paths[lib]);\n",
       "        s.onerror = () => reject(`Error loading script: ${paths[lib]}`);\n",
       "        document.getElementsByTagName(\"head\")[0].appendChild(s);\n",
       "      });\n",
       "    }\n",
       "\n",
       "    function showError(err) {\n",
       "      outputDiv.innerHTML = `<div class=\"error\" style=\"color:red;\">${err}</div>`;\n",
       "      throw err;\n",
       "    }\n",
       "\n",
       "    function displayChart(vegaEmbed) {\n",
       "      vegaEmbed(outputDiv, spec, embedOpt)\n",
       "        .catch(err => showError(`Javascript Error: ${err.message}<br>This usually means there's a typo in your chart specification. See the javascript console for the full traceback.`));\n",
       "    }\n",
       "\n",
       "    if(typeof define === \"function\" && define.amd) {\n",
       "      requirejs.config({paths});\n",
       "      require([\"vega-embed\"], displayChart, err => showError(`Error loading script: ${err.message}`));\n",
       "    } else if (typeof vegaEmbed === \"function\") {\n",
       "      displayChart(vegaEmbed);\n",
       "    } else {\n",
       "      loadScript(\"vega\")\n",
       "        .then(() => loadScript(\"vega-lite\"))\n",
       "        .then(() => loadScript(\"vega-embed\"))\n",
       "        .catch(showError)\n",
       "        .then(() => displayChart(vegaEmbed));\n",
       "    }\n",
       "  })({\"config\": {\"axisLeft\": {\"labelFontSize\": 15}, \"axisBottom\": {\"labelFontSize\": 15}}, \"data\": {\"name\": \"data-43529d89cb7b63f65c38f3954af22999\"}, \"mark\": \"line\", \"encoding\": {\"color\": {\"type\": \"nominal\", \"field\": \"kind\"}, \"x\": {\"type\": \"temporal\", \"field\": \"createdAt\"}, \"y\": {\"type\": \"quantitative\", \"field\": \"count\"}}, \"width\": 600, \"$schema\": \"https://vega.github.io/schema/vega-lite/v4.8.1.json\", \"datasets\": {\"data-43529d89cb7b63f65c38f3954af22999\": [{\"createdAt\": \"2019-04-28T00:00:00\", \"kind\": \"prs\", \"count\": 1.0}, {\"createdAt\": \"2019-05-05T00:00:00\", \"kind\": \"prs\", \"count\": 0.0}, {\"createdAt\": \"2019-05-12T00:00:00\", \"kind\": \"prs\", \"count\": 0.0}, {\"createdAt\": \"2019-05-19T00:00:00\", \"kind\": \"prs\", \"count\": 0.0}, {\"createdAt\": \"2019-05-26T00:00:00\", \"kind\": \"prs\", \"count\": 0.0}, {\"createdAt\": \"2019-06-02T00:00:00\", \"kind\": \"prs\", \"count\": 0.0}, {\"createdAt\": \"2019-06-09T00:00:00\", \"kind\": \"prs\", \"count\": 0.0}, {\"createdAt\": \"2019-06-16T00:00:00\", \"kind\": \"prs\", \"count\": 0.0}, {\"createdAt\": \"2019-06-23T00:00:00\", \"kind\": \"prs\", \"count\": 0.0}, {\"createdAt\": \"2019-06-30T00:00:00\", \"kind\": \"prs\", \"count\": 0.0}, {\"createdAt\": \"2019-07-07T00:00:00\", \"kind\": \"prs\", \"count\": 0.0}, {\"createdAt\": \"2019-07-14T00:00:00\", \"kind\": \"prs\", \"count\": 0.0}, {\"createdAt\": \"2019-07-21T00:00:00\", \"kind\": \"prs\", \"count\": 0.0}, {\"createdAt\": \"2019-07-28T00:00:00\", \"kind\": \"prs\", \"count\": 0.0}, {\"createdAt\": \"2019-08-04T00:00:00\", \"kind\": \"prs\", \"count\": 0.0}, {\"createdAt\": \"2019-08-11T00:00:00\", \"kind\": \"prs\", \"count\": 0.0}, {\"createdAt\": \"2019-08-18T00:00:00\", \"kind\": \"prs\", \"count\": 0.0}, {\"createdAt\": \"2019-08-25T00:00:00\", \"kind\": \"prs\", \"count\": 0.0}, {\"createdAt\": \"2019-09-01T00:00:00\", \"kind\": \"prs\", \"count\": 0.0}, {\"createdAt\": \"2019-09-08T00:00:00\", \"kind\": \"prs\", \"count\": 0.0}, {\"createdAt\": \"2019-09-15T00:00:00\", \"kind\": \"prs\", \"count\": 0.0}, {\"createdAt\": \"2019-09-22T00:00:00\", \"kind\": \"prs\", \"count\": 0.0}, {\"createdAt\": \"2019-09-29T00:00:00\", \"kind\": \"prs\", \"count\": 0.0}, {\"createdAt\": \"2019-10-06T00:00:00\", \"kind\": \"prs\", \"count\": 0.0}, {\"createdAt\": \"2019-10-13T00:00:00\", \"kind\": \"prs\", \"count\": 0.0}, {\"createdAt\": \"2019-10-20T00:00:00\", \"kind\": \"prs\", \"count\": 0.0}, {\"createdAt\": \"2019-10-27T00:00:00\", \"kind\": \"prs\", \"count\": 0.0}, {\"createdAt\": \"2019-11-03T00:00:00\", \"kind\": \"prs\", \"count\": 0.0}, {\"createdAt\": \"2019-11-10T00:00:00\", \"kind\": \"prs\", \"count\": 0.0}, {\"createdAt\": \"2019-11-17T00:00:00\", \"kind\": \"prs\", \"count\": 0.0}, {\"createdAt\": \"2019-11-24T00:00:00\", \"kind\": \"prs\", \"count\": 0.0}, {\"createdAt\": \"2019-12-01T00:00:00\", \"kind\": \"prs\", \"count\": 0.0}, {\"createdAt\": \"2019-12-08T00:00:00\", \"kind\": \"prs\", \"count\": 0.0}, {\"createdAt\": \"2019-12-15T00:00:00\", \"kind\": \"prs\", \"count\": 0.0}, {\"createdAt\": \"2019-12-22T00:00:00\", \"kind\": \"prs\", \"count\": 0.0}, {\"createdAt\": \"2019-12-29T00:00:00\", \"kind\": \"prs\", \"count\": 0.0}, {\"createdAt\": \"2020-01-05T00:00:00\", \"kind\": \"prs\", \"count\": 0.0}, {\"createdAt\": \"2020-01-12T00:00:00\", \"kind\": \"prs\", \"count\": 0.0}, {\"createdAt\": \"2020-01-19T00:00:00\", \"kind\": \"prs\", \"count\": 0.0}, {\"createdAt\": \"2020-01-26T00:00:00\", \"kind\": \"prs\", \"count\": 0.0}, {\"createdAt\": \"2020-02-02T00:00:00\", \"kind\": \"prs\", \"count\": 0.0}, {\"createdAt\": \"2020-02-09T00:00:00\", \"kind\": \"prs\", \"count\": 0.0}, {\"createdAt\": \"2020-02-16T00:00:00\", \"kind\": \"prs\", \"count\": 0.0}, {\"createdAt\": \"2020-02-23T00:00:00\", \"kind\": \"prs\", \"count\": 0.0}, {\"createdAt\": \"2020-03-01T00:00:00\", \"kind\": \"prs\", \"count\": 0.0}, {\"createdAt\": \"2020-03-08T00:00:00\", \"kind\": \"prs\", \"count\": 0.0}, {\"createdAt\": \"2020-03-15T00:00:00\", \"kind\": \"prs\", \"count\": 0.0}, {\"createdAt\": \"2020-03-22T00:00:00\", \"kind\": \"prs\", \"count\": 0.0}, {\"createdAt\": \"2020-03-29T00:00:00\", \"kind\": \"prs\", \"count\": 0.0}, {\"createdAt\": \"2020-04-05T00:00:00\", \"kind\": \"prs\", \"count\": 0.0}, {\"createdAt\": \"2020-04-12T00:00:00\", \"kind\": \"prs\", \"count\": 0.0}, {\"createdAt\": \"2020-04-19T00:00:00\", \"kind\": \"prs\", \"count\": 0.0}, {\"createdAt\": \"2020-04-26T00:00:00\", \"kind\": \"prs\", \"count\": 0.0}, {\"createdAt\": \"2020-05-03T00:00:00\", \"kind\": \"prs\", \"count\": 0.0}, {\"createdAt\": \"2020-05-10T00:00:00\", \"kind\": \"prs\", \"count\": 0.0}, {\"createdAt\": \"2020-05-17T00:00:00\", \"kind\": \"prs\", \"count\": 0.0}, {\"createdAt\": \"2020-05-24T00:00:00\", \"kind\": \"prs\", \"count\": 0.0}, {\"createdAt\": \"2020-05-31T00:00:00\", \"kind\": \"prs\", \"count\": 0.0}, {\"createdAt\": \"2020-06-07T00:00:00\", \"kind\": \"prs\", \"count\": 0.0}, {\"createdAt\": \"2020-06-14T00:00:00\", \"kind\": \"prs\", \"count\": 0.0}, {\"createdAt\": \"2020-06-21T00:00:00\", \"kind\": \"prs\", \"count\": 0.0}, {\"createdAt\": \"2020-06-28T00:00:00\", \"kind\": \"prs\", \"count\": 0.0}, {\"createdAt\": \"2020-07-05T00:00:00\", \"kind\": \"prs\", \"count\": 0.0}, {\"createdAt\": \"2020-07-12T00:00:00\", \"kind\": \"prs\", \"count\": 0.0}, {\"createdAt\": \"2020-07-19T00:00:00\", \"kind\": \"prs\", \"count\": 0.0}, {\"createdAt\": \"2020-07-26T00:00:00\", \"kind\": \"prs\", \"count\": 0.0}, {\"createdAt\": \"2020-08-02T00:00:00\", \"kind\": \"prs\", \"count\": 0.0}, {\"createdAt\": \"2020-08-09T00:00:00\", \"kind\": \"prs\", \"count\": 0.0}, {\"createdAt\": \"2020-08-16T00:00:00\", \"kind\": \"prs\", \"count\": 0.0}, {\"createdAt\": \"2020-08-23T00:00:00\", \"kind\": \"prs\", \"count\": 0.0}, {\"createdAt\": \"2020-08-30T00:00:00\", \"kind\": \"prs\", \"count\": 0.0}, {\"createdAt\": \"2020-09-06T00:00:00\", \"kind\": \"prs\", \"count\": 0.0}, {\"createdAt\": \"2020-09-13T00:00:00\", \"kind\": \"prs\", \"count\": 0.0}, {\"createdAt\": \"2020-09-20T00:00:00\", \"kind\": \"prs\", \"count\": 0.0}, {\"createdAt\": \"2020-09-27T00:00:00\", \"kind\": \"prs\", \"count\": 0.0}, {\"createdAt\": \"2020-10-04T00:00:00\", \"kind\": \"prs\", \"count\": 0.0}, {\"createdAt\": \"2020-10-11T00:00:00\", \"kind\": \"prs\", \"count\": 0.0}, {\"createdAt\": \"2020-10-18T00:00:00\", \"kind\": \"prs\", \"count\": 0.0}, {\"createdAt\": \"2020-10-25T00:00:00\", \"kind\": \"prs\", \"count\": 0.0}, {\"createdAt\": \"2020-11-01T00:00:00\", \"kind\": \"prs\", \"count\": 0.0}, {\"createdAt\": \"2020-11-08T00:00:00\", \"kind\": \"prs\", \"count\": 0.0}, {\"createdAt\": \"2020-11-15T00:00:00\", \"kind\": \"prs\", \"count\": 0.0}, {\"createdAt\": \"2020-11-22T00:00:00\", \"kind\": \"prs\", \"count\": 0.0}, {\"createdAt\": \"2020-11-29T00:00:00\", \"kind\": \"prs\", \"count\": 0.0}, {\"createdAt\": \"2020-12-06T00:00:00\", \"kind\": \"prs\", \"count\": 0.0}, {\"createdAt\": \"2020-12-13T00:00:00\", \"kind\": \"prs\", \"count\": 0.0}, {\"createdAt\": \"2020-12-20T00:00:00\", \"kind\": \"prs\", \"count\": 0.0}, {\"createdAt\": \"2020-12-27T00:00:00\", \"kind\": \"prs\", \"count\": 0.0}, {\"createdAt\": \"2021-01-03T00:00:00\", \"kind\": \"prs\", \"count\": 0.0}, {\"createdAt\": \"2021-01-10T00:00:00\", \"kind\": \"prs\", \"count\": 0.0}, {\"createdAt\": \"2021-01-17T00:00:00\", \"kind\": \"prs\", \"count\": 0.0}, {\"createdAt\": \"2021-01-24T00:00:00\", \"kind\": \"prs\", \"count\": 0.0}, {\"createdAt\": \"2021-01-31T00:00:00\", \"kind\": \"prs\", \"count\": 0.0}, {\"createdAt\": \"2021-02-07T00:00:00\", \"kind\": \"prs\", \"count\": 0.0}, {\"createdAt\": \"2021-02-14T00:00:00\", \"kind\": \"prs\", \"count\": 0.0}, {\"createdAt\": \"2021-02-21T00:00:00\", \"kind\": \"prs\", \"count\": 0.0}, {\"createdAt\": \"2021-02-28T00:00:00\", \"kind\": \"prs\", \"count\": 0.0}, {\"createdAt\": \"2021-03-07T00:00:00\", \"kind\": \"prs\", \"count\": 0.0}, {\"createdAt\": \"2021-03-14T00:00:00\", \"kind\": \"prs\", \"count\": 0.0}, {\"createdAt\": \"2021-03-21T00:00:00\", \"kind\": \"prs\", \"count\": 0.0}, {\"createdAt\": \"2021-03-28T00:00:00\", \"kind\": \"prs\", \"count\": 0.0}, {\"createdAt\": \"2021-04-04T00:00:00\", \"kind\": \"prs\", \"count\": 0.0}, {\"createdAt\": \"2021-04-11T00:00:00\", \"kind\": \"prs\", \"count\": 0.0}, {\"createdAt\": \"2021-04-18T00:00:00\", \"kind\": \"prs\", \"count\": 0.0}, {\"createdAt\": \"2021-04-25T00:00:00\", \"kind\": \"prs\", \"count\": 0.0}, {\"createdAt\": \"2021-05-02T00:00:00\", \"kind\": \"prs\", \"count\": 0.0}, {\"createdAt\": \"2021-05-09T00:00:00\", \"kind\": \"prs\", \"count\": 0.0}, {\"createdAt\": \"2021-05-16T00:00:00\", \"kind\": \"prs\", \"count\": 0.0}, {\"createdAt\": \"2021-05-23T00:00:00\", \"kind\": \"prs\", \"count\": 0.0}, {\"createdAt\": \"2021-05-30T00:00:00\", \"kind\": \"prs\", \"count\": 0.0}, {\"createdAt\": \"2021-06-06T00:00:00\", \"kind\": \"prs\", \"count\": 0.0}, {\"createdAt\": \"2021-06-13T00:00:00\", \"kind\": \"prs\", \"count\": 1.0}, {\"createdAt\": \"2021-06-20T00:00:00\", \"kind\": \"prs\", \"count\": 0.0}, {\"createdAt\": \"2021-06-27T00:00:00\", \"kind\": \"prs\", \"count\": 0.0}, {\"createdAt\": \"2021-07-04T00:00:00\", \"kind\": \"prs\", \"count\": 2.0}, {\"createdAt\": \"2021-07-11T00:00:00\", \"kind\": \"prs\", \"count\": 0.0}, {\"createdAt\": \"2021-07-18T00:00:00\", \"kind\": \"prs\", \"count\": 0.0}, {\"createdAt\": \"2021-07-25T00:00:00\", \"kind\": \"prs\", \"count\": 0.0}, {\"createdAt\": \"2021-08-01T00:00:00\", \"kind\": \"prs\", \"count\": 0.0}, {\"createdAt\": \"2021-08-08T00:00:00\", \"kind\": \"prs\", \"count\": 0.0}, {\"createdAt\": \"2021-08-15T00:00:00\", \"kind\": \"prs\", \"count\": 0.0}, {\"createdAt\": \"2021-08-22T00:00:00\", \"kind\": \"prs\", \"count\": 0.0}, {\"createdAt\": \"2021-08-29T00:00:00\", \"kind\": \"prs\", \"count\": 0.0}, {\"createdAt\": \"2021-09-05T00:00:00\", \"kind\": \"prs\", \"count\": 3.0}, {\"createdAt\": \"2021-09-12T00:00:00\", \"kind\": \"prs\", \"count\": 1.0}, {\"createdAt\": \"2021-09-19T00:00:00\", \"kind\": \"prs\", \"count\": 6.0}, {\"createdAt\": \"2021-09-26T00:00:00\", \"kind\": \"prs\", \"count\": 11.0}, {\"createdAt\": \"2021-10-03T00:00:00\", \"kind\": \"prs\", \"count\": 0.0}, {\"createdAt\": \"2021-10-10T00:00:00\", \"kind\": \"prs\", \"count\": 3.0}, {\"createdAt\": \"2019-04-28T00:00:00\", \"kind\": \"comments\", \"count\": null}, {\"createdAt\": \"2019-05-05T00:00:00\", \"kind\": \"comments\", \"count\": null}, {\"createdAt\": \"2019-05-12T00:00:00\", \"kind\": \"comments\", \"count\": null}, {\"createdAt\": \"2019-05-19T00:00:00\", \"kind\": \"comments\", \"count\": null}, {\"createdAt\": \"2019-05-26T00:00:00\", \"kind\": \"comments\", \"count\": null}, {\"createdAt\": \"2019-06-02T00:00:00\", \"kind\": \"comments\", \"count\": null}, {\"createdAt\": \"2019-06-09T00:00:00\", \"kind\": \"comments\", \"count\": null}, {\"createdAt\": \"2019-06-16T00:00:00\", \"kind\": \"comments\", \"count\": null}, {\"createdAt\": \"2019-06-23T00:00:00\", \"kind\": \"comments\", \"count\": null}, {\"createdAt\": \"2019-06-30T00:00:00\", \"kind\": \"comments\", \"count\": null}, {\"createdAt\": \"2019-07-07T00:00:00\", \"kind\": \"comments\", \"count\": null}, {\"createdAt\": \"2019-07-14T00:00:00\", \"kind\": \"comments\", \"count\": null}, {\"createdAt\": \"2019-07-21T00:00:00\", \"kind\": \"comments\", \"count\": null}, {\"createdAt\": \"2019-07-28T00:00:00\", \"kind\": \"comments\", \"count\": null}, {\"createdAt\": \"2019-08-04T00:00:00\", \"kind\": \"comments\", \"count\": null}, {\"createdAt\": \"2019-08-11T00:00:00\", \"kind\": \"comments\", \"count\": null}, {\"createdAt\": \"2019-08-18T00:00:00\", \"kind\": \"comments\", \"count\": null}, {\"createdAt\": \"2019-08-25T00:00:00\", \"kind\": \"comments\", \"count\": null}, {\"createdAt\": \"2019-09-01T00:00:00\", \"kind\": \"comments\", \"count\": null}, {\"createdAt\": \"2019-09-08T00:00:00\", \"kind\": \"comments\", \"count\": null}, {\"createdAt\": \"2019-09-15T00:00:00\", \"kind\": \"comments\", \"count\": null}, {\"createdAt\": \"2019-09-22T00:00:00\", \"kind\": \"comments\", \"count\": null}, {\"createdAt\": \"2019-09-29T00:00:00\", \"kind\": \"comments\", \"count\": null}, {\"createdAt\": \"2019-10-06T00:00:00\", \"kind\": \"comments\", \"count\": null}, {\"createdAt\": \"2019-10-13T00:00:00\", \"kind\": \"comments\", \"count\": null}, {\"createdAt\": \"2019-10-20T00:00:00\", \"kind\": \"comments\", \"count\": null}, {\"createdAt\": \"2019-10-27T00:00:00\", \"kind\": \"comments\", \"count\": null}, {\"createdAt\": \"2019-11-03T00:00:00\", \"kind\": \"comments\", \"count\": null}, {\"createdAt\": \"2019-11-10T00:00:00\", \"kind\": \"comments\", \"count\": null}, {\"createdAt\": \"2019-11-17T00:00:00\", \"kind\": \"comments\", \"count\": null}, {\"createdAt\": \"2019-11-24T00:00:00\", \"kind\": \"comments\", \"count\": null}, {\"createdAt\": \"2019-12-01T00:00:00\", \"kind\": \"comments\", \"count\": null}, {\"createdAt\": \"2019-12-08T00:00:00\", \"kind\": \"comments\", \"count\": null}, {\"createdAt\": \"2019-12-15T00:00:00\", \"kind\": \"comments\", \"count\": null}, {\"createdAt\": \"2019-12-22T00:00:00\", \"kind\": \"comments\", \"count\": null}, {\"createdAt\": \"2019-12-29T00:00:00\", \"kind\": \"comments\", \"count\": null}, {\"createdAt\": \"2020-01-05T00:00:00\", \"kind\": \"comments\", \"count\": null}, {\"createdAt\": \"2020-01-12T00:00:00\", \"kind\": \"comments\", \"count\": null}, {\"createdAt\": \"2020-01-19T00:00:00\", \"kind\": \"comments\", \"count\": null}, {\"createdAt\": \"2020-01-26T00:00:00\", \"kind\": \"comments\", \"count\": null}, {\"createdAt\": \"2020-02-02T00:00:00\", \"kind\": \"comments\", \"count\": null}, {\"createdAt\": \"2020-02-09T00:00:00\", \"kind\": \"comments\", \"count\": null}, {\"createdAt\": \"2020-02-16T00:00:00\", \"kind\": \"comments\", \"count\": null}, {\"createdAt\": \"2020-02-23T00:00:00\", \"kind\": \"comments\", \"count\": null}, {\"createdAt\": \"2020-03-01T00:00:00\", \"kind\": \"comments\", \"count\": null}, {\"createdAt\": \"2020-03-08T00:00:00\", \"kind\": \"comments\", \"count\": null}, {\"createdAt\": \"2020-03-15T00:00:00\", \"kind\": \"comments\", \"count\": null}, {\"createdAt\": \"2020-03-22T00:00:00\", \"kind\": \"comments\", \"count\": null}, {\"createdAt\": \"2020-03-29T00:00:00\", \"kind\": \"comments\", \"count\": null}, {\"createdAt\": \"2020-04-05T00:00:00\", \"kind\": \"comments\", \"count\": null}, {\"createdAt\": \"2020-04-12T00:00:00\", \"kind\": \"comments\", \"count\": null}, {\"createdAt\": \"2020-04-19T00:00:00\", \"kind\": \"comments\", \"count\": null}, {\"createdAt\": \"2020-04-26T00:00:00\", \"kind\": \"comments\", \"count\": null}, {\"createdAt\": \"2020-05-03T00:00:00\", \"kind\": \"comments\", \"count\": null}, {\"createdAt\": \"2020-05-10T00:00:00\", \"kind\": \"comments\", \"count\": null}, {\"createdAt\": \"2020-05-17T00:00:00\", \"kind\": \"comments\", \"count\": null}, {\"createdAt\": \"2020-05-24T00:00:00\", \"kind\": \"comments\", \"count\": null}, {\"createdAt\": \"2020-05-31T00:00:00\", \"kind\": \"comments\", \"count\": null}, {\"createdAt\": \"2020-06-07T00:00:00\", \"kind\": \"comments\", \"count\": null}, {\"createdAt\": \"2020-06-14T00:00:00\", \"kind\": \"comments\", \"count\": null}, {\"createdAt\": \"2020-06-21T00:00:00\", \"kind\": \"comments\", \"count\": null}, {\"createdAt\": \"2020-06-28T00:00:00\", \"kind\": \"comments\", \"count\": null}, {\"createdAt\": \"2020-07-05T00:00:00\", \"kind\": \"comments\", \"count\": null}, {\"createdAt\": \"2020-07-12T00:00:00\", \"kind\": \"comments\", \"count\": null}, {\"createdAt\": \"2020-07-19T00:00:00\", \"kind\": \"comments\", \"count\": null}, {\"createdAt\": \"2020-07-26T00:00:00\", \"kind\": \"comments\", \"count\": null}, {\"createdAt\": \"2020-08-02T00:00:00\", \"kind\": \"comments\", \"count\": null}, {\"createdAt\": \"2020-08-09T00:00:00\", \"kind\": \"comments\", \"count\": null}, {\"createdAt\": \"2020-08-16T00:00:00\", \"kind\": \"comments\", \"count\": null}, {\"createdAt\": \"2020-08-23T00:00:00\", \"kind\": \"comments\", \"count\": null}, {\"createdAt\": \"2020-08-30T00:00:00\", \"kind\": \"comments\", \"count\": null}, {\"createdAt\": \"2020-09-06T00:00:00\", \"kind\": \"comments\", \"count\": null}, {\"createdAt\": \"2020-09-13T00:00:00\", \"kind\": \"comments\", \"count\": null}, {\"createdAt\": \"2020-09-20T00:00:00\", \"kind\": \"comments\", \"count\": null}, {\"createdAt\": \"2020-09-27T00:00:00\", \"kind\": \"comments\", \"count\": null}, {\"createdAt\": \"2020-10-04T00:00:00\", \"kind\": \"comments\", \"count\": null}, {\"createdAt\": \"2020-10-11T00:00:00\", \"kind\": \"comments\", \"count\": null}, {\"createdAt\": \"2020-10-18T00:00:00\", \"kind\": \"comments\", \"count\": null}, {\"createdAt\": \"2020-10-25T00:00:00\", \"kind\": \"comments\", \"count\": null}, {\"createdAt\": \"2020-11-01T00:00:00\", \"kind\": \"comments\", \"count\": null}, {\"createdAt\": \"2020-11-08T00:00:00\", \"kind\": \"comments\", \"count\": null}, {\"createdAt\": \"2020-11-15T00:00:00\", \"kind\": \"comments\", \"count\": null}, {\"createdAt\": \"2020-11-22T00:00:00\", \"kind\": \"comments\", \"count\": null}, {\"createdAt\": \"2020-11-29T00:00:00\", \"kind\": \"comments\", \"count\": null}, {\"createdAt\": \"2020-12-06T00:00:00\", \"kind\": \"comments\", \"count\": null}, {\"createdAt\": \"2020-12-13T00:00:00\", \"kind\": \"comments\", \"count\": null}, {\"createdAt\": \"2020-12-20T00:00:00\", \"kind\": \"comments\", \"count\": null}, {\"createdAt\": \"2020-12-27T00:00:00\", \"kind\": \"comments\", \"count\": null}, {\"createdAt\": \"2021-01-03T00:00:00\", \"kind\": \"comments\", \"count\": null}, {\"createdAt\": \"2021-01-10T00:00:00\", \"kind\": \"comments\", \"count\": null}, {\"createdAt\": \"2021-01-17T00:00:00\", \"kind\": \"comments\", \"count\": null}, {\"createdAt\": \"2021-01-24T00:00:00\", \"kind\": \"comments\", \"count\": null}, {\"createdAt\": \"2021-01-31T00:00:00\", \"kind\": \"comments\", \"count\": null}, {\"createdAt\": \"2021-02-07T00:00:00\", \"kind\": \"comments\", \"count\": null}, {\"createdAt\": \"2021-02-14T00:00:00\", \"kind\": \"comments\", \"count\": null}, {\"createdAt\": \"2021-02-21T00:00:00\", \"kind\": \"comments\", \"count\": null}, {\"createdAt\": \"2021-02-28T00:00:00\", \"kind\": \"comments\", \"count\": null}, {\"createdAt\": \"2021-03-07T00:00:00\", \"kind\": \"comments\", \"count\": null}, {\"createdAt\": \"2021-03-14T00:00:00\", \"kind\": \"comments\", \"count\": null}, {\"createdAt\": \"2021-03-21T00:00:00\", \"kind\": \"comments\", \"count\": null}, {\"createdAt\": \"2021-03-28T00:00:00\", \"kind\": \"comments\", \"count\": null}, {\"createdAt\": \"2021-04-04T00:00:00\", \"kind\": \"comments\", \"count\": null}, {\"createdAt\": \"2021-04-11T00:00:00\", \"kind\": \"comments\", \"count\": null}, {\"createdAt\": \"2021-04-18T00:00:00\", \"kind\": \"comments\", \"count\": null}, {\"createdAt\": \"2021-04-25T00:00:00\", \"kind\": \"comments\", \"count\": null}, {\"createdAt\": \"2021-05-02T00:00:00\", \"kind\": \"comments\", \"count\": null}, {\"createdAt\": \"2021-05-09T00:00:00\", \"kind\": \"comments\", \"count\": null}, {\"createdAt\": \"2021-05-16T00:00:00\", \"kind\": \"comments\", \"count\": null}, {\"createdAt\": \"2021-05-23T00:00:00\", \"kind\": \"comments\", \"count\": null}, {\"createdAt\": \"2021-05-30T00:00:00\", \"kind\": \"comments\", \"count\": null}, {\"createdAt\": \"2021-06-06T00:00:00\", \"kind\": \"comments\", \"count\": null}, {\"createdAt\": \"2021-06-13T00:00:00\", \"kind\": \"comments\", \"count\": null}, {\"createdAt\": \"2021-06-20T00:00:00\", \"kind\": \"comments\", \"count\": null}, {\"createdAt\": \"2021-06-27T00:00:00\", \"kind\": \"comments\", \"count\": null}, {\"createdAt\": \"2021-07-04T00:00:00\", \"kind\": \"comments\", \"count\": null}, {\"createdAt\": \"2021-07-11T00:00:00\", \"kind\": \"comments\", \"count\": null}, {\"createdAt\": \"2021-07-18T00:00:00\", \"kind\": \"comments\", \"count\": null}, {\"createdAt\": \"2021-07-25T00:00:00\", \"kind\": \"comments\", \"count\": null}, {\"createdAt\": \"2021-08-01T00:00:00\", \"kind\": \"comments\", \"count\": null}, {\"createdAt\": \"2021-08-08T00:00:00\", \"kind\": \"comments\", \"count\": null}, {\"createdAt\": \"2021-08-15T00:00:00\", \"kind\": \"comments\", \"count\": null}, {\"createdAt\": \"2021-08-22T00:00:00\", \"kind\": \"comments\", \"count\": 9.0}, {\"createdAt\": \"2021-08-29T00:00:00\", \"kind\": \"comments\", \"count\": 9.0}, {\"createdAt\": \"2021-09-05T00:00:00\", \"kind\": \"comments\", \"count\": 10.0}, {\"createdAt\": \"2021-09-12T00:00:00\", \"kind\": \"comments\", \"count\": 7.0}, {\"createdAt\": \"2021-09-19T00:00:00\", \"kind\": \"comments\", \"count\": 30.0}, {\"createdAt\": \"2021-09-26T00:00:00\", \"kind\": \"comments\", \"count\": 22.0}, {\"createdAt\": \"2021-10-03T00:00:00\", \"kind\": \"comments\", \"count\": 8.0}, {\"createdAt\": \"2021-10-10T00:00:00\", \"kind\": \"comments\", \"count\": 20.0}]}}, {\"mode\": \"vega-lite\"});\n",
       "</script>"
      ],
      "text/plain": [
       "alt.Chart(...)"
      ]
     },
     "execution_count": 17,
     "metadata": {},
     "output_type": "execute_result"
    }
   ],
   "source": [
    "alt.Chart(total_time, width=600).mark_line().encode(\n",
    "    x='createdAt',\n",
    "    y='count',\n",
    "    color='kind'\n",
    ")"
   ]
  }
 ],
 "metadata": {
  "kernelspec": {
   "display_name": "Python 3",
   "language": "python",
   "name": "python3"
  },
  "language_info": {
   "codemirror_mode": {
    "name": "ipython",
    "version": 3
   },
   "file_extension": ".py",
   "mimetype": "text/x-python",
   "name": "python",
   "nbconvert_exporter": "python",
   "pygments_lexer": "ipython3",
   "version": "3.7.12"
  },
  "papermill": {
   "default_parameters": {},
   "duration": 8.971601,
   "end_time": "2021-10-09T01:31:59.356778",
   "environment_variables": {},
   "exception": null,
   "input_path": "./person.ipynb",
   "output_path": "people/yuvipanda.ipynb",
   "parameters": {
    "n_days": 60,
    "person": "yuvipanda"
   },
   "start_time": "2021-10-09T01:31:50.385177",
   "version": "2.3.3"
  },
  "widgets": {
   "application/vnd.jupyter.widget-state+json": {
    "state": {},
    "version_major": 2,
    "version_minor": 0
   }
  }
 },
 "nbformat": 4,
 "nbformat_minor": 5
}