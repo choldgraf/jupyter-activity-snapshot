{
 "cells": [
  {
   "cell_type": "markdown",
   "metadata": {
    "papermill": {
     "duration": 0.016202,
     "end_time": "2020-07-02T01:13:58.535602",
     "exception": false,
     "start_time": "2020-07-02T01:13:58.519400",
     "status": "completed"
    },
    "tags": []
   },
   "source": [
    "# Report for yuvipanda"
   ]
  },
  {
   "cell_type": "code",
   "execution_count": 1,
   "metadata": {
    "execution": {
     "iopub.execute_input": "2020-07-02T01:13:58.571931Z",
     "iopub.status.busy": "2020-07-02T01:13:58.571418Z",
     "iopub.status.idle": "2020-07-02T01:13:59.445230Z",
     "shell.execute_reply": "2020-07-02T01:13:59.443813Z"
    },
    "papermill": {
     "duration": 0.896971,
     "end_time": "2020-07-02T01:13:59.445414",
     "exception": false,
     "start_time": "2020-07-02T01:13:58.548443",
     "status": "completed"
    },
    "tags": [
     "remove_cell"
    ]
   },
   "outputs": [],
   "source": [
    "import seaborn as sns\n",
    "import pandas as pd\n",
    "import numpy as np\n",
    "import altair as alt\n",
    "from markdown import markdown\n",
    "from IPython.display import Markdown\n",
    "from ipywidgets.widgets import HTML, Tab\n",
    "from ipywidgets import widgets\n",
    "from datetime import timedelta\n",
    "from matplotlib import pyplot as plt\n",
    "import os.path as op\n",
    "\n",
    "from mycode import alt_theme\n",
    "from warnings import simplefilter\n",
    "simplefilter('ignore')"
   ]
  },
  {
   "cell_type": "code",
   "execution_count": 2,
   "metadata": {
    "execution": {
     "iopub.execute_input": "2020-07-02T01:13:59.477919Z",
     "iopub.status.busy": "2020-07-02T01:13:59.477409Z",
     "iopub.status.idle": "2020-07-02T01:13:59.479217Z",
     "shell.execute_reply": "2020-07-02T01:13:59.479658Z"
    },
    "papermill": {
     "duration": 0.018871,
     "end_time": "2020-07-02T01:13:59.479789",
     "exception": false,
     "start_time": "2020-07-02T01:13:59.460918",
     "status": "completed"
    },
    "tags": [
     "remove_cell"
    ]
   },
   "outputs": [],
   "source": [
    "def author_url(author):\n",
    "    return f\"https://github.com/{author}\""
   ]
  },
  {
   "cell_type": "code",
   "execution_count": 3,
   "metadata": {
    "execution": {
     "iopub.execute_input": "2020-07-02T01:13:59.510649Z",
     "iopub.status.busy": "2020-07-02T01:13:59.510148Z",
     "iopub.status.idle": "2020-07-02T01:13:59.511983Z",
     "shell.execute_reply": "2020-07-02T01:13:59.512476Z"
    },
    "papermill": {
     "duration": 0.02083,
     "end_time": "2020-07-02T01:13:59.512591",
     "exception": false,
     "start_time": "2020-07-02T01:13:59.491761",
     "status": "completed"
    },
    "tags": [
     "parameters",
     "hide_input"
    ]
   },
   "outputs": [],
   "source": [
    "# Parameters\n",
    "fmt_date = \"{:%Y-%m-%d}\"\n",
    "\n",
    "n_days = 30 * 2\n",
    "start_date = fmt_date.format(pd.datetime.today() - timedelta(days=n_days))\n",
    "end_date = fmt_date.format(pd.datetime.today())\n",
    "\n",
    "renderer = \"html\"\n",
    "person = \"jasongrout\""
   ]
  },
  {
   "cell_type": "code",
   "execution_count": 4,
   "metadata": {
    "execution": {
     "iopub.execute_input": "2020-07-02T01:13:59.541386Z",
     "iopub.status.busy": "2020-07-02T01:13:59.540851Z",
     "iopub.status.idle": "2020-07-02T01:13:59.543337Z",
     "shell.execute_reply": "2020-07-02T01:13:59.542737Z"
    },
    "papermill": {
     "duration": 0.018786,
     "end_time": "2020-07-02T01:13:59.543431",
     "exception": false,
     "start_time": "2020-07-02T01:13:59.524645",
     "status": "completed"
    },
    "tags": [
     "injected-parameters",
     "remove-cell"
    ]
   },
   "outputs": [],
   "source": [
    "# Parameters\n",
    "person = \"yuvipanda\"\n",
    "n_days = 60\n"
   ]
  },
  {
   "cell_type": "code",
   "execution_count": 5,
   "metadata": {
    "execution": {
     "iopub.execute_input": "2020-07-02T01:13:59.574841Z",
     "iopub.status.busy": "2020-07-02T01:13:59.574233Z",
     "iopub.status.idle": "2020-07-02T01:13:59.577817Z",
     "shell.execute_reply": "2020-07-02T01:13:59.577307Z"
    },
    "papermill": {
     "duration": 0.022132,
     "end_time": "2020-07-02T01:13:59.577918",
     "exception": false,
     "start_time": "2020-07-02T01:13:59.555786",
     "status": "completed"
    },
    "tags": [
     "remove_cell"
    ]
   },
   "outputs": [
    {
     "data": {
      "text/plain": [
       "ThemeRegistry.enable('my_theme')"
      ]
     },
     "execution_count": 5,
     "metadata": {},
     "output_type": "execute_result"
    }
   ],
   "source": [
    "alt.renderers.enable(renderer);\n",
    "alt.themes.register('my_theme', alt_theme)\n",
    "alt.themes.enable(\"my_theme\")"
   ]
  },
  {
   "cell_type": "markdown",
   "metadata": {
    "papermill": {
     "duration": 0.015004,
     "end_time": "2020-07-02T01:13:59.607277",
     "exception": false,
     "start_time": "2020-07-02T01:13:59.592273",
     "status": "completed"
    },
    "tags": []
   },
   "source": [
    "## Load data"
   ]
  },
  {
   "cell_type": "code",
   "execution_count": 6,
   "metadata": {
    "execution": {
     "iopub.execute_input": "2020-07-02T01:13:59.638205Z",
     "iopub.status.busy": "2020-07-02T01:13:59.637687Z",
     "iopub.status.idle": "2020-07-02T01:13:59.790156Z",
     "shell.execute_reply": "2020-07-02T01:13:59.789164Z"
    },
    "papermill": {
     "duration": 0.170532,
     "end_time": "2020-07-02T01:13:59.790260",
     "exception": false,
     "start_time": "2020-07-02T01:13:59.619728",
     "status": "completed"
    },
    "tags": [
     "remove_cell"
    ]
   },
   "outputs": [],
   "source": [
    "from pathlib import Path\n",
    "path_data = Path(\"./\")\n",
    "comments = pd.read_csv(path_data.joinpath('comments.csv'), index_col=0)\n",
    "issues = pd.read_csv(path_data.joinpath('issues.csv'), index_col=0)\n",
    "prs = pd.read_csv(path_data.joinpath('prs.csv'), index_col=0)\n",
    "\n",
    "comments = comments.query('author == @person').drop_duplicates()\n",
    "issues = issues.query('author == @person').drop_duplicates()\n",
    "closed_by = prs.query('mergedBy == @person')\n",
    "prs = prs.query('author == @person').drop_duplicates()"
   ]
  },
  {
   "cell_type": "code",
   "execution_count": 7,
   "metadata": {
    "execution": {
     "iopub.execute_input": "2020-07-02T01:13:59.868450Z",
     "iopub.status.busy": "2020-07-02T01:13:59.859678Z",
     "iopub.status.idle": "2020-07-02T01:13:59.871698Z",
     "shell.execute_reply": "2020-07-02T01:13:59.870997Z"
    },
    "papermill": {
     "duration": 0.06739,
     "end_time": "2020-07-02T01:13:59.871815",
     "exception": false,
     "start_time": "2020-07-02T01:13:59.804425",
     "status": "completed"
    },
    "tags": [
     "remove_cell"
    ]
   },
   "outputs": [],
   "source": [
    "# Time columns\n",
    "# Also drop dates outside of our range\n",
    "time_columns = ['updatedAt', 'createdAt', 'closedAt']\n",
    "for col in time_columns:\n",
    "    for item in [comments, issues, prs, closed_by]:\n",
    "        if col not in item.columns:\n",
    "            continue\n",
    "        dt = pd.to_datetime(item[col]).dt.tz_localize(None)\n",
    "        item[col] = dt\n",
    "        item.query(\"updatedAt < @end_date and updatedAt > @start_date\", inplace=True)"
   ]
  },
  {
   "cell_type": "markdown",
   "metadata": {
    "papermill": {
     "duration": 0.012962,
     "end_time": "2020-07-02T01:13:59.898200",
     "exception": false,
     "start_time": "2020-07-02T01:13:59.885238",
     "status": "completed"
    },
    "tags": []
   },
   "source": [
    "# Repository summaries"
   ]
  },
  {
   "cell_type": "code",
   "execution_count": 8,
   "metadata": {
    "execution": {
     "iopub.execute_input": "2020-07-02T01:13:59.946629Z",
     "iopub.status.busy": "2020-07-02T01:13:59.946109Z",
     "iopub.status.idle": "2020-07-02T01:13:59.954949Z",
     "shell.execute_reply": "2020-07-02T01:13:59.954374Z"
    },
    "papermill": {
     "duration": 0.042705,
     "end_time": "2020-07-02T01:13:59.955043",
     "exception": false,
     "start_time": "2020-07-02T01:13:59.912338",
     "status": "completed"
    },
    "tags": [
     "remove_cell"
    ]
   },
   "outputs": [],
   "source": [
    "summaries = []\n",
    "for idata, name in [(issues, 'issues'), (prs, 'prs'), (comments, 'comments')]:\n",
    "    idata = idata.groupby([\"repo\", \"org\"]).agg({'id': \"count\"}).reset_index().rename(columns={'id': 'count'})\n",
    "    idata[\"kind\"] = name\n",
    "    summaries.append(idata)\n",
    "summaries = pd.concat(summaries)"
   ]
  },
  {
   "cell_type": "code",
   "execution_count": 9,
   "metadata": {
    "execution": {
     "iopub.execute_input": "2020-07-02T01:13:59.994466Z",
     "iopub.status.busy": "2020-07-02T01:13:59.993898Z",
     "iopub.status.idle": "2020-07-02T01:13:59.996229Z",
     "shell.execute_reply": "2020-07-02T01:13:59.995755Z"
    },
    "papermill": {
     "duration": 0.029133,
     "end_time": "2020-07-02T01:13:59.996320",
     "exception": false,
     "start_time": "2020-07-02T01:13:59.967187",
     "status": "completed"
    },
    "tags": [
     "remove_cell"
    ]
   },
   "outputs": [],
   "source": [
    "repo_summaries = summaries.groupby([\"repo\", \"kind\"]).agg({\"count\": \"sum\"}).reset_index()\n",
    "org_summaries = summaries.groupby([\"org\", \"kind\"]).agg({\"count\": \"sum\"}).reset_index()"
   ]
  },
  {
   "cell_type": "code",
   "execution_count": 10,
   "metadata": {
    "execution": {
     "iopub.execute_input": "2020-07-02T01:14:00.027986Z",
     "iopub.status.busy": "2020-07-02T01:14:00.027481Z",
     "iopub.status.idle": "2020-07-02T01:14:00.029234Z",
     "shell.execute_reply": "2020-07-02T01:14:00.029640Z"
    },
    "papermill": {
     "duration": 0.019981,
     "end_time": "2020-07-02T01:14:00.029760",
     "exception": false,
     "start_time": "2020-07-02T01:14:00.009779",
     "status": "completed"
    },
    "tags": [
     "remove_cell"
    ]
   },
   "outputs": [],
   "source": [
    "repo_summaries['logcount'] = np.log(repo_summaries[\"count\"])"
   ]
  },
  {
   "cell_type": "code",
   "execution_count": 11,
   "metadata": {
    "execution": {
     "iopub.execute_input": "2020-07-02T01:14:00.061522Z",
     "iopub.status.busy": "2020-07-02T01:14:00.060881Z",
     "iopub.status.idle": "2020-07-02T01:14:00.116097Z",
     "shell.execute_reply": "2020-07-02T01:14:00.116768Z"
    },
    "papermill": {
     "duration": 0.072977,
     "end_time": "2020-07-02T01:14:00.116900",
     "exception": false,
     "start_time": "2020-07-02T01:14:00.043923",
     "status": "completed"
    },
    "tags": [
     "hide_input"
    ]
   },
   "outputs": [
    {
     "data": {
      "text/html": [
       "\n",
       "<div id=\"altair-viz-d70136ccc9864dc6b78ada421e0290b1\"></div>\n",
       "<script type=\"text/javascript\">\n",
       "  (function(spec, embedOpt){\n",
       "    let outputDiv = document.currentScript.previousElementSibling;\n",
       "    if (outputDiv.id !== \"altair-viz-d70136ccc9864dc6b78ada421e0290b1\") {\n",
       "      outputDiv = document.getElementById(\"altair-viz-d70136ccc9864dc6b78ada421e0290b1\");\n",
       "    }\n",
       "    const paths = {\n",
       "      \"vega\": \"https://cdn.jsdelivr.net/npm//vega@5?noext\",\n",
       "      \"vega-lib\": \"https://cdn.jsdelivr.net/npm//vega-lib?noext\",\n",
       "      \"vega-lite\": \"https://cdn.jsdelivr.net/npm//vega-lite@4.8.1?noext\",\n",
       "      \"vega-embed\": \"https://cdn.jsdelivr.net/npm//vega-embed@6?noext\",\n",
       "    };\n",
       "\n",
       "    function loadScript(lib) {\n",
       "      return new Promise(function(resolve, reject) {\n",
       "        var s = document.createElement('script');\n",
       "        s.src = paths[lib];\n",
       "        s.async = true;\n",
       "        s.onload = () => resolve(paths[lib]);\n",
       "        s.onerror = () => reject(`Error loading script: ${paths[lib]}`);\n",
       "        document.getElementsByTagName(\"head\")[0].appendChild(s);\n",
       "      });\n",
       "    }\n",
       "\n",
       "    function showError(err) {\n",
       "      outputDiv.innerHTML = `<div class=\"error\" style=\"color:red;\">${err}</div>`;\n",
       "      throw err;\n",
       "    }\n",
       "\n",
       "    function displayChart(vegaEmbed) {\n",
       "      vegaEmbed(outputDiv, spec, embedOpt)\n",
       "        .catch(err => showError(`Javascript Error: ${err.message}<br>This usually means there's a typo in your chart specification. See the javascript console for the full traceback.`));\n",
       "    }\n",
       "\n",
       "    if(typeof define === \"function\" && define.amd) {\n",
       "      requirejs.config({paths});\n",
       "      require([\"vega-embed\"], displayChart, err => showError(`Error loading script: ${err.message}`));\n",
       "    } else if (typeof vegaEmbed === \"function\") {\n",
       "      displayChart(vegaEmbed);\n",
       "    } else {\n",
       "      loadScript(\"vega\")\n",
       "        .then(() => loadScript(\"vega-lite\"))\n",
       "        .then(() => loadScript(\"vega-embed\"))\n",
       "        .catch(showError)\n",
       "        .then(() => displayChart(vegaEmbed));\n",
       "    }\n",
       "  })({\"config\": {\"axisLeft\": {\"labelFontSize\": 15}, \"axisBottom\": {\"labelFontSize\": 15}}, \"hconcat\": [{\"mark\": \"bar\", \"encoding\": {\"color\": {\"type\": \"nominal\", \"field\": \"kind\"}, \"tooltip\": {\"type\": \"nominal\", \"field\": \"kind\"}, \"x\": {\"type\": \"nominal\", \"field\": \"repo\"}, \"y\": {\"type\": \"quantitative\", \"field\": \"count\"}}, \"title\": \"Activity per repository\", \"width\": 600}, {\"mark\": \"bar\", \"encoding\": {\"color\": {\"type\": \"nominal\", \"field\": \"kind\"}, \"tooltip\": {\"type\": \"nominal\", \"field\": \"kind\"}, \"x\": {\"type\": \"nominal\", \"field\": \"repo\"}, \"y\": {\"type\": \"quantitative\", \"field\": \"logcount\"}}, \"title\": \"Log activity per repository\", \"width\": 600}], \"data\": {\"name\": \"data-1398f6ac5dba2becdecf0648edea111c\"}, \"$schema\": \"https://vega.github.io/schema/vega-lite/v4.8.1.json\", \"datasets\": {\"data-1398f6ac5dba2becdecf0648edea111c\": [{\"repo\": \"batchspawner\", \"kind\": \"prs\", \"count\": 1, \"logcount\": 0.0}, {\"repo\": \"configurable-http-proxy\", \"kind\": \"issues\", \"count\": 1, \"logcount\": 0.0}, {\"repo\": \"dockerspawner\", \"kind\": \"comments\", \"count\": 4, \"logcount\": 1.3862943611198906}, {\"repo\": \"extension-cookiecutter-ts\", \"kind\": \"prs\", \"count\": 1, \"logcount\": 0.0}, {\"repo\": \"jupyter-server-proxy\", \"kind\": \"comments\", \"count\": 8, \"logcount\": 2.0794415416798357}, {\"repo\": \"jupyter-server-proxy\", \"kind\": \"prs\", \"count\": 3, \"logcount\": 1.0986122886681098}, {\"repo\": \"jupyterhub\", \"kind\": \"comments\", \"count\": 12, \"logcount\": 2.4849066497880004}, {\"repo\": \"jupyterhub\", \"kind\": \"issues\", \"count\": 1, \"logcount\": 0.0}, {\"repo\": \"jupyterhub-idle-culler\", \"kind\": \"comments\", \"count\": 4, \"logcount\": 1.3862943611198906}, {\"repo\": \"jupyterlab\", \"kind\": \"comments\", \"count\": 3, \"logcount\": 1.0986122886681098}, {\"repo\": \"jupyterlab\", \"kind\": \"issues\", \"count\": 1, \"logcount\": 0.0}, {\"repo\": \"jupyterlab\", \"kind\": \"prs\", \"count\": 1, \"logcount\": 0.0}, {\"repo\": \"kubespawner\", \"kind\": \"comments\", \"count\": 1, \"logcount\": 0.0}, {\"repo\": \"meta\", \"kind\": \"comments\", \"count\": 1, \"logcount\": 0.0}, {\"repo\": \"meta\", \"kind\": \"issues\", \"count\": 1, \"logcount\": 0.0}, {\"repo\": \"mybinder.org-deploy\", \"kind\": \"comments\", \"count\": 4, \"logcount\": 1.3862943611198906}, {\"repo\": \"nbgitpuller\", \"kind\": \"comments\", \"count\": 7, \"logcount\": 1.9459101490553132}, {\"repo\": \"notebook\", \"kind\": \"issues\", \"count\": 1, \"logcount\": 0.0}, {\"repo\": \"notebook\", \"kind\": \"prs\", \"count\": 1, \"logcount\": 0.0}, {\"repo\": \"repo2docker\", \"kind\": \"comments\", \"count\": 1, \"logcount\": 0.0}, {\"repo\": \"repo2docker\", \"kind\": \"issues\", \"count\": 1, \"logcount\": 0.0}, {\"repo\": \"repo2docker\", \"kind\": \"prs\", \"count\": 1, \"logcount\": 0.0}, {\"repo\": \"team-compass\", \"kind\": \"comments\", \"count\": 4, \"logcount\": 1.3862943611198906}, {\"repo\": \"the-littlest-jupyterhub\", \"kind\": \"comments\", \"count\": 13, \"logcount\": 2.5649493574615367}, {\"repo\": \"the-littlest-jupyterhub\", \"kind\": \"prs\", \"count\": 5, \"logcount\": 1.6094379124341003}, {\"repo\": \"traefik-proxy\", \"kind\": \"comments\", \"count\": 4, \"logcount\": 1.3862943611198906}, {\"repo\": \"traefik-proxy\", \"kind\": \"issues\", \"count\": 2, \"logcount\": 0.6931471805599453}, {\"repo\": \"zero-to-jupyterhub-k8s\", \"kind\": \"comments\", \"count\": 5, \"logcount\": 1.6094379124341003}, {\"repo\": \"zero-to-jupyterhub-k8s\", \"kind\": \"issues\", \"count\": 5, \"logcount\": 1.6094379124341003}, {\"repo\": \"zero-to-jupyterhub-k8s\", \"kind\": \"prs\", \"count\": 2, \"logcount\": 0.6931471805599453}]}}, {\"mode\": \"vega-lite\"});\n",
       "</script>"
      ],
      "text/plain": [
       "alt.HConcatChart(...)"
      ]
     },
     "execution_count": 11,
     "metadata": {},
     "output_type": "execute_result"
    }
   ],
   "source": [
    "ch1 = alt.Chart(repo_summaries, width=600, title=\"Activity per repository\").mark_bar().encode(\n",
    "    x='repo',\n",
    "    y='count',\n",
    "    color='kind',\n",
    "    tooltip=\"kind\"\n",
    ")\n",
    "\n",
    "ch2 = alt.Chart(repo_summaries, width=600, title=\"Log activity per repository\").mark_bar().encode(\n",
    "    x='repo',\n",
    "    y='logcount',\n",
    "    color='kind',\n",
    "    tooltip=\"kind\"\n",
    ")\n",
    "\n",
    "ch1 | ch2"
   ]
  },
  {
   "cell_type": "code",
   "execution_count": 12,
   "metadata": {
    "execution": {
     "iopub.execute_input": "2020-07-02T01:14:00.171635Z",
     "iopub.status.busy": "2020-07-02T01:14:00.162526Z",
     "iopub.status.idle": "2020-07-02T01:14:00.173837Z",
     "shell.execute_reply": "2020-07-02T01:14:00.174390Z"
    },
    "papermill": {
     "duration": 0.043734,
     "end_time": "2020-07-02T01:14:00.174512",
     "exception": false,
     "start_time": "2020-07-02T01:14:00.130778",
     "status": "completed"
    },
    "tags": [
     "hide_input"
    ]
   },
   "outputs": [
    {
     "data": {
      "text/html": [
       "\n",
       "<div id=\"altair-viz-494a05e7651343298fa0d4b40080340e\"></div>\n",
       "<script type=\"text/javascript\">\n",
       "  (function(spec, embedOpt){\n",
       "    let outputDiv = document.currentScript.previousElementSibling;\n",
       "    if (outputDiv.id !== \"altair-viz-494a05e7651343298fa0d4b40080340e\") {\n",
       "      outputDiv = document.getElementById(\"altair-viz-494a05e7651343298fa0d4b40080340e\");\n",
       "    }\n",
       "    const paths = {\n",
       "      \"vega\": \"https://cdn.jsdelivr.net/npm//vega@5?noext\",\n",
       "      \"vega-lib\": \"https://cdn.jsdelivr.net/npm//vega-lib?noext\",\n",
       "      \"vega-lite\": \"https://cdn.jsdelivr.net/npm//vega-lite@4.8.1?noext\",\n",
       "      \"vega-embed\": \"https://cdn.jsdelivr.net/npm//vega-embed@6?noext\",\n",
       "    };\n",
       "\n",
       "    function loadScript(lib) {\n",
       "      return new Promise(function(resolve, reject) {\n",
       "        var s = document.createElement('script');\n",
       "        s.src = paths[lib];\n",
       "        s.async = true;\n",
       "        s.onload = () => resolve(paths[lib]);\n",
       "        s.onerror = () => reject(`Error loading script: ${paths[lib]}`);\n",
       "        document.getElementsByTagName(\"head\")[0].appendChild(s);\n",
       "      });\n",
       "    }\n",
       "\n",
       "    function showError(err) {\n",
       "      outputDiv.innerHTML = `<div class=\"error\" style=\"color:red;\">${err}</div>`;\n",
       "      throw err;\n",
       "    }\n",
       "\n",
       "    function displayChart(vegaEmbed) {\n",
       "      vegaEmbed(outputDiv, spec, embedOpt)\n",
       "        .catch(err => showError(`Javascript Error: ${err.message}<br>This usually means there's a typo in your chart specification. See the javascript console for the full traceback.`));\n",
       "    }\n",
       "\n",
       "    if(typeof define === \"function\" && define.amd) {\n",
       "      requirejs.config({paths});\n",
       "      require([\"vega-embed\"], displayChart, err => showError(`Error loading script: ${err.message}`));\n",
       "    } else if (typeof vegaEmbed === \"function\") {\n",
       "      displayChart(vegaEmbed);\n",
       "    } else {\n",
       "      loadScript(\"vega\")\n",
       "        .then(() => loadScript(\"vega-lite\"))\n",
       "        .then(() => loadScript(\"vega-embed\"))\n",
       "        .catch(showError)\n",
       "        .then(() => displayChart(vegaEmbed));\n",
       "    }\n",
       "  })({\"config\": {\"axisLeft\": {\"labelFontSize\": 15}, \"axisBottom\": {\"labelFontSize\": 15}}, \"data\": {\"name\": \"data-a36f8c43108078adffb3201392c57818\"}, \"mark\": \"bar\", \"encoding\": {\"color\": {\"type\": \"nominal\", \"field\": \"kind\"}, \"tooltip\": {\"type\": \"nominal\", \"field\": \"org\"}, \"x\": {\"type\": \"nominal\", \"field\": \"org\"}, \"y\": {\"type\": \"quantitative\", \"field\": \"count\"}}, \"width\": 600, \"$schema\": \"https://vega.github.io/schema/vega-lite/v4.8.1.json\", \"datasets\": {\"data-a36f8c43108078adffb3201392c57818\": [{\"org\": \"executablebooks\", \"kind\": \"comments\", \"count\": 1}, {\"org\": \"executablebooks\", \"kind\": \"issues\", \"count\": 1}, {\"org\": \"jupyter\", \"kind\": \"comments\", \"count\": 1}, {\"org\": \"jupyter\", \"kind\": \"issues\", \"count\": 2}, {\"org\": \"jupyter\", \"kind\": \"prs\", \"count\": 2}, {\"org\": \"jupyterhub\", \"kind\": \"comments\", \"count\": 66}, {\"org\": \"jupyterhub\", \"kind\": \"issues\", \"count\": 9}, {\"org\": \"jupyterhub\", \"kind\": \"prs\", \"count\": 11}, {\"org\": \"jupyterlab\", \"kind\": \"comments\", \"count\": 3}, {\"org\": \"jupyterlab\", \"kind\": \"issues\", \"count\": 1}, {\"org\": \"jupyterlab\", \"kind\": \"prs\", \"count\": 2}]}}, {\"mode\": \"vega-lite\"});\n",
       "</script>"
      ],
      "text/plain": [
       "alt.Chart(...)"
      ]
     },
     "execution_count": 12,
     "metadata": {},
     "output_type": "execute_result"
    }
   ],
   "source": [
    "alt.Chart(org_summaries, width=600).mark_bar().encode(\n",
    "    x='org',\n",
    "    y='count',\n",
    "    color='kind',\n",
    "    tooltip=\"org\"\n",
    ")"
   ]
  },
  {
   "cell_type": "markdown",
   "metadata": {
    "papermill": {
     "duration": 0.016443,
     "end_time": "2020-07-02T01:14:00.206314",
     "exception": false,
     "start_time": "2020-07-02T01:14:00.189871",
     "status": "completed"
    },
    "tags": []
   },
   "source": [
    "# By repository over time"
   ]
  },
  {
   "cell_type": "markdown",
   "metadata": {
    "papermill": {
     "duration": 0.014029,
     "end_time": "2020-07-02T01:14:00.235061",
     "exception": false,
     "start_time": "2020-07-02T01:14:00.221032",
     "status": "completed"
    },
    "tags": []
   },
   "source": [
    "## Comments"
   ]
  },
  {
   "cell_type": "code",
   "execution_count": 13,
   "metadata": {
    "execution": {
     "iopub.execute_input": "2020-07-02T01:14:00.272633Z",
     "iopub.status.busy": "2020-07-02T01:14:00.272077Z",
     "iopub.status.idle": "2020-07-02T01:14:00.372650Z",
     "shell.execute_reply": "2020-07-02T01:14:00.373241Z"
    },
    "papermill": {
     "duration": 0.124209,
     "end_time": "2020-07-02T01:14:00.373382",
     "exception": false,
     "start_time": "2020-07-02T01:14:00.249173",
     "status": "completed"
    },
    "tags": [
     "hide_input"
    ]
   },
   "outputs": [
    {
     "data": {
      "text/html": [
       "\n",
       "<div id=\"altair-viz-677d860d5b2746ea88a92b17c251ffc6\"></div>\n",
       "<script type=\"text/javascript\">\n",
       "  (function(spec, embedOpt){\n",
       "    let outputDiv = document.currentScript.previousElementSibling;\n",
       "    if (outputDiv.id !== \"altair-viz-677d860d5b2746ea88a92b17c251ffc6\") {\n",
       "      outputDiv = document.getElementById(\"altair-viz-677d860d5b2746ea88a92b17c251ffc6\");\n",
       "    }\n",
       "    const paths = {\n",
       "      \"vega\": \"https://cdn.jsdelivr.net/npm//vega@5?noext\",\n",
       "      \"vega-lib\": \"https://cdn.jsdelivr.net/npm//vega-lib?noext\",\n",
       "      \"vega-lite\": \"https://cdn.jsdelivr.net/npm//vega-lite@4.8.1?noext\",\n",
       "      \"vega-embed\": \"https://cdn.jsdelivr.net/npm//vega-embed@6?noext\",\n",
       "    };\n",
       "\n",
       "    function loadScript(lib) {\n",
       "      return new Promise(function(resolve, reject) {\n",
       "        var s = document.createElement('script');\n",
       "        s.src = paths[lib];\n",
       "        s.async = true;\n",
       "        s.onload = () => resolve(paths[lib]);\n",
       "        s.onerror = () => reject(`Error loading script: ${paths[lib]}`);\n",
       "        document.getElementsByTagName(\"head\")[0].appendChild(s);\n",
       "      });\n",
       "    }\n",
       "\n",
       "    function showError(err) {\n",
       "      outputDiv.innerHTML = `<div class=\"error\" style=\"color:red;\">${err}</div>`;\n",
       "      throw err;\n",
       "    }\n",
       "\n",
       "    function displayChart(vegaEmbed) {\n",
       "      vegaEmbed(outputDiv, spec, embedOpt)\n",
       "        .catch(err => showError(`Javascript Error: ${err.message}<br>This usually means there's a typo in your chart specification. See the javascript console for the full traceback.`));\n",
       "    }\n",
       "\n",
       "    if(typeof define === \"function\" && define.amd) {\n",
       "      requirejs.config({paths});\n",
       "      require([\"vega-embed\"], displayChart, err => showError(`Error loading script: ${err.message}`));\n",
       "    } else if (typeof vegaEmbed === \"function\") {\n",
       "      displayChart(vegaEmbed);\n",
       "    } else {\n",
       "      loadScript(\"vega\")\n",
       "        .then(() => loadScript(\"vega-lite\"))\n",
       "        .then(() => loadScript(\"vega-embed\"))\n",
       "        .catch(showError)\n",
       "        .then(() => displayChart(vegaEmbed));\n",
       "    }\n",
       "  })({\"config\": {\"axisLeft\": {\"labelFontSize\": 15}, \"axisBottom\": {\"labelFontSize\": 15}}, \"layer\": [{\"data\": {\"name\": \"data-51cfab15e844b27218e648ed4c859508\"}, \"mark\": \"line\", \"encoding\": {\"color\": {\"type\": \"nominal\", \"field\": \"repo\"}, \"tooltip\": {\"type\": \"nominal\", \"field\": \"repo\"}, \"x\": {\"type\": \"temporal\", \"field\": \"createdAt\"}, \"y\": {\"type\": \"quantitative\", \"field\": \"count\"}}, \"width\": 600}, {\"data\": {\"name\": \"data-6f0105728ef315f5eaf6b42d778519ba\"}, \"mark\": {\"type\": \"line\", \"color\": \"black\"}, \"encoding\": {\"x\": {\"type\": \"temporal\", \"field\": \"createdAt\"}, \"y\": {\"type\": \"quantitative\", \"field\": \"count\"}}, \"width\": 600}], \"$schema\": \"https://vega.github.io/schema/vega-lite/v4.8.1.json\", \"datasets\": {\"data-51cfab15e844b27218e648ed4c859508\": [{\"repo\": \"dockerspawner\", \"createdAt\": \"2020-06-14T00:00:00\", \"count\": 4}, {\"repo\": \"jupyter-server-proxy\", \"createdAt\": \"2020-05-17T00:00:00\", \"count\": 5}, {\"repo\": \"jupyter-server-proxy\", \"createdAt\": \"2020-05-24T00:00:00\", \"count\": 1}, {\"repo\": \"jupyter-server-proxy\", \"createdAt\": \"2020-05-31T00:00:00\", \"count\": 0}, {\"repo\": \"jupyter-server-proxy\", \"createdAt\": \"2020-06-07T00:00:00\", \"count\": 0}, {\"repo\": \"jupyter-server-proxy\", \"createdAt\": \"2020-06-14T00:00:00\", \"count\": 1}, {\"repo\": \"jupyter-server-proxy\", \"createdAt\": \"2020-06-21T00:00:00\", \"count\": 0}, {\"repo\": \"jupyter-server-proxy\", \"createdAt\": \"2020-06-28T00:00:00\", \"count\": 1}, {\"repo\": \"jupyterhub\", \"createdAt\": \"2020-05-10T00:00:00\", \"count\": 1}, {\"repo\": \"jupyterhub\", \"createdAt\": \"2020-05-17T00:00:00\", \"count\": 0}, {\"repo\": \"jupyterhub\", \"createdAt\": \"2020-05-24T00:00:00\", \"count\": 0}, {\"repo\": \"jupyterhub\", \"createdAt\": \"2020-05-31T00:00:00\", \"count\": 0}, {\"repo\": \"jupyterhub\", \"createdAt\": \"2020-06-07T00:00:00\", \"count\": 0}, {\"repo\": \"jupyterhub\", \"createdAt\": \"2020-06-14T00:00:00\", \"count\": 1}, {\"repo\": \"jupyterhub\", \"createdAt\": \"2020-06-21T00:00:00\", \"count\": 0}, {\"repo\": \"jupyterhub\", \"createdAt\": \"2020-06-28T00:00:00\", \"count\": 10}, {\"repo\": \"jupyterhub-idle-culler\", \"createdAt\": \"2020-05-24T00:00:00\", \"count\": 1}, {\"repo\": \"jupyterhub-idle-culler\", \"createdAt\": \"2020-05-31T00:00:00\", \"count\": 1}, {\"repo\": \"jupyterhub-idle-culler\", \"createdAt\": \"2020-06-07T00:00:00\", \"count\": 0}, {\"repo\": \"jupyterhub-idle-culler\", \"createdAt\": \"2020-06-14T00:00:00\", \"count\": 1}, {\"repo\": \"jupyterhub-idle-culler\", \"createdAt\": \"2020-06-21T00:00:00\", \"count\": 1}, {\"repo\": \"jupyterlab\", \"createdAt\": \"2020-05-31T00:00:00\", \"count\": 2}, {\"repo\": \"jupyterlab\", \"createdAt\": \"2020-06-07T00:00:00\", \"count\": 0}, {\"repo\": \"jupyterlab\", \"createdAt\": \"2020-06-14T00:00:00\", \"count\": 1}, {\"repo\": \"kubespawner\", \"createdAt\": \"2020-06-21T00:00:00\", \"count\": 1}, {\"repo\": \"meta\", \"createdAt\": \"2020-06-28T00:00:00\", \"count\": 1}, {\"repo\": \"mybinder.org-deploy\", \"createdAt\": \"2020-05-24T00:00:00\", \"count\": 3}, {\"repo\": \"mybinder.org-deploy\", \"createdAt\": \"2020-05-31T00:00:00\", \"count\": 0}, {\"repo\": \"mybinder.org-deploy\", \"createdAt\": \"2020-06-07T00:00:00\", \"count\": 0}, {\"repo\": \"mybinder.org-deploy\", \"createdAt\": \"2020-06-14T00:00:00\", \"count\": 0}, {\"repo\": \"mybinder.org-deploy\", \"createdAt\": \"2020-06-21T00:00:00\", \"count\": 1}, {\"repo\": \"nbgitpuller\", \"createdAt\": \"2020-06-28T00:00:00\", \"count\": 6}, {\"repo\": \"nbgitpuller\", \"createdAt\": \"2020-07-05T00:00:00\", \"count\": 1}, {\"repo\": \"repo2docker\", \"createdAt\": \"2020-05-17T00:00:00\", \"count\": 1}, {\"repo\": \"team-compass\", \"createdAt\": \"2020-05-10T00:00:00\", \"count\": 1}, {\"repo\": \"team-compass\", \"createdAt\": \"2020-05-17T00:00:00\", \"count\": 0}, {\"repo\": \"team-compass\", \"createdAt\": \"2020-05-24T00:00:00\", \"count\": 0}, {\"repo\": \"team-compass\", \"createdAt\": \"2020-05-31T00:00:00\", \"count\": 1}, {\"repo\": \"team-compass\", \"createdAt\": \"2020-06-07T00:00:00\", \"count\": 0}, {\"repo\": \"team-compass\", \"createdAt\": \"2020-06-14T00:00:00\", \"count\": 0}, {\"repo\": \"team-compass\", \"createdAt\": \"2020-06-21T00:00:00\", \"count\": 2}, {\"repo\": \"the-littlest-jupyterhub\", \"createdAt\": \"2020-05-03T00:00:00\", \"count\": 2}, {\"repo\": \"the-littlest-jupyterhub\", \"createdAt\": \"2020-05-10T00:00:00\", \"count\": 7}, {\"repo\": \"the-littlest-jupyterhub\", \"createdAt\": \"2020-05-17T00:00:00\", \"count\": 0}, {\"repo\": \"the-littlest-jupyterhub\", \"createdAt\": \"2020-05-24T00:00:00\", \"count\": 0}, {\"repo\": \"the-littlest-jupyterhub\", \"createdAt\": \"2020-05-31T00:00:00\", \"count\": 1}, {\"repo\": \"the-littlest-jupyterhub\", \"createdAt\": \"2020-06-07T00:00:00\", \"count\": 0}, {\"repo\": \"the-littlest-jupyterhub\", \"createdAt\": \"2020-06-14T00:00:00\", \"count\": 1}, {\"repo\": \"the-littlest-jupyterhub\", \"createdAt\": \"2020-06-21T00:00:00\", \"count\": 1}, {\"repo\": \"the-littlest-jupyterhub\", \"createdAt\": \"2020-06-28T00:00:00\", \"count\": 1}, {\"repo\": \"traefik-proxy\", \"createdAt\": \"2020-05-17T00:00:00\", \"count\": 4}, {\"repo\": \"zero-to-jupyterhub-k8s\", \"createdAt\": \"2020-05-17T00:00:00\", \"count\": 1}, {\"repo\": \"zero-to-jupyterhub-k8s\", \"createdAt\": \"2020-05-24T00:00:00\", \"count\": 1}, {\"repo\": \"zero-to-jupyterhub-k8s\", \"createdAt\": \"2020-05-31T00:00:00\", \"count\": 0}, {\"repo\": \"zero-to-jupyterhub-k8s\", \"createdAt\": \"2020-06-07T00:00:00\", \"count\": 0}, {\"repo\": \"zero-to-jupyterhub-k8s\", \"createdAt\": \"2020-06-14T00:00:00\", \"count\": 3}], \"data-6f0105728ef315f5eaf6b42d778519ba\": [{\"createdAt\": \"2020-05-03T00:00:00\", \"count\": 2}, {\"createdAt\": \"2020-05-10T00:00:00\", \"count\": 9}, {\"createdAt\": \"2020-05-17T00:00:00\", \"count\": 11}, {\"createdAt\": \"2020-05-24T00:00:00\", \"count\": 6}, {\"createdAt\": \"2020-05-31T00:00:00\", \"count\": 5}, {\"createdAt\": \"2020-06-07T00:00:00\", \"count\": 0}, {\"createdAt\": \"2020-06-14T00:00:00\", \"count\": 12}, {\"createdAt\": \"2020-06-21T00:00:00\", \"count\": 6}, {\"createdAt\": \"2020-06-28T00:00:00\", \"count\": 19}, {\"createdAt\": \"2020-07-05T00:00:00\", \"count\": 1}]}}, {\"mode\": \"vega-lite\"});\n",
       "</script>"
      ],
      "text/plain": [
       "alt.LayerChart(...)"
      ]
     },
     "execution_count": 13,
     "metadata": {},
     "output_type": "execute_result"
    }
   ],
   "source": [
    "comments_time = comments.groupby('repo').resample('W', on='createdAt').count()['author'].reset_index()\n",
    "comments_time = comments_time.rename(columns={'author': 'count'})\n",
    "comments_time_total = comments_time.groupby('createdAt').agg({\"count\": \"sum\"}).reset_index()\n",
    "ch1 = alt.Chart(comments_time, width=600).mark_line().encode(\n",
    "    x='createdAt',\n",
    "    y='count',\n",
    "    color='repo',\n",
    "    tooltip=\"repo\"\n",
    ")\n",
    "\n",
    "ch2 = alt.Chart(comments_time_total, width=600).mark_line(color=\"black\").encode(\n",
    "    x='createdAt',\n",
    "    y='count',\n",
    ")\n",
    "\n",
    "ch1 + ch2"
   ]
  },
  {
   "cell_type": "markdown",
   "metadata": {
    "papermill": {
     "duration": 0.015852,
     "end_time": "2020-07-02T01:14:00.407674",
     "exception": false,
     "start_time": "2020-07-02T01:14:00.391822",
     "status": "completed"
    },
    "tags": []
   },
   "source": [
    "## PRs"
   ]
  },
  {
   "cell_type": "code",
   "execution_count": 14,
   "metadata": {
    "execution": {
     "iopub.execute_input": "2020-07-02T01:14:00.445811Z",
     "iopub.status.busy": "2020-07-02T01:14:00.445255Z",
     "iopub.status.idle": "2020-07-02T01:14:00.524088Z",
     "shell.execute_reply": "2020-07-02T01:14:00.524682Z"
    },
    "papermill": {
     "duration": 0.101732,
     "end_time": "2020-07-02T01:14:00.524825",
     "exception": false,
     "start_time": "2020-07-02T01:14:00.423093",
     "status": "completed"
    },
    "tags": [
     "hide_input"
    ]
   },
   "outputs": [
    {
     "data": {
      "text/html": [
       "\n",
       "<div id=\"altair-viz-79ee184f16e34481b800c850b75cdb13\"></div>\n",
       "<script type=\"text/javascript\">\n",
       "  (function(spec, embedOpt){\n",
       "    let outputDiv = document.currentScript.previousElementSibling;\n",
       "    if (outputDiv.id !== \"altair-viz-79ee184f16e34481b800c850b75cdb13\") {\n",
       "      outputDiv = document.getElementById(\"altair-viz-79ee184f16e34481b800c850b75cdb13\");\n",
       "    }\n",
       "    const paths = {\n",
       "      \"vega\": \"https://cdn.jsdelivr.net/npm//vega@5?noext\",\n",
       "      \"vega-lib\": \"https://cdn.jsdelivr.net/npm//vega-lib?noext\",\n",
       "      \"vega-lite\": \"https://cdn.jsdelivr.net/npm//vega-lite@4.8.1?noext\",\n",
       "      \"vega-embed\": \"https://cdn.jsdelivr.net/npm//vega-embed@6?noext\",\n",
       "    };\n",
       "\n",
       "    function loadScript(lib) {\n",
       "      return new Promise(function(resolve, reject) {\n",
       "        var s = document.createElement('script');\n",
       "        s.src = paths[lib];\n",
       "        s.async = true;\n",
       "        s.onload = () => resolve(paths[lib]);\n",
       "        s.onerror = () => reject(`Error loading script: ${paths[lib]}`);\n",
       "        document.getElementsByTagName(\"head\")[0].appendChild(s);\n",
       "      });\n",
       "    }\n",
       "\n",
       "    function showError(err) {\n",
       "      outputDiv.innerHTML = `<div class=\"error\" style=\"color:red;\">${err}</div>`;\n",
       "      throw err;\n",
       "    }\n",
       "\n",
       "    function displayChart(vegaEmbed) {\n",
       "      vegaEmbed(outputDiv, spec, embedOpt)\n",
       "        .catch(err => showError(`Javascript Error: ${err.message}<br>This usually means there's a typo in your chart specification. See the javascript console for the full traceback.`));\n",
       "    }\n",
       "\n",
       "    if(typeof define === \"function\" && define.amd) {\n",
       "      requirejs.config({paths});\n",
       "      require([\"vega-embed\"], displayChart, err => showError(`Error loading script: ${err.message}`));\n",
       "    } else if (typeof vegaEmbed === \"function\") {\n",
       "      displayChart(vegaEmbed);\n",
       "    } else {\n",
       "      loadScript(\"vega\")\n",
       "        .then(() => loadScript(\"vega-lite\"))\n",
       "        .then(() => loadScript(\"vega-embed\"))\n",
       "        .catch(showError)\n",
       "        .then(() => displayChart(vegaEmbed));\n",
       "    }\n",
       "  })({\"config\": {\"axisLeft\": {\"labelFontSize\": 15}, \"axisBottom\": {\"labelFontSize\": 15}}, \"layer\": [{\"data\": {\"name\": \"data-38c32f3f8caa460dcd80342815eba515\"}, \"mark\": \"line\", \"encoding\": {\"color\": {\"type\": \"nominal\", \"field\": \"repo\"}, \"tooltip\": {\"type\": \"nominal\", \"field\": \"repo\"}, \"x\": {\"type\": \"temporal\", \"field\": \"createdAt\"}, \"y\": {\"type\": \"quantitative\", \"field\": \"count\"}}, \"width\": 600}, {\"data\": {\"name\": \"data-3b7c788d14ec20f32787f0fbfc8852e2\"}, \"mark\": {\"type\": \"line\", \"color\": \"black\"}, \"encoding\": {\"x\": {\"type\": \"temporal\", \"field\": \"createdAt\"}, \"y\": {\"type\": \"quantitative\", \"field\": \"count\"}}, \"width\": 600}], \"$schema\": \"https://vega.github.io/schema/vega-lite/v4.8.1.json\", \"datasets\": {\"data-38c32f3f8caa460dcd80342815eba515\": [{\"repo\": \"batchspawner\", \"createdAt\": \"2020-06-07T00:00:00\", \"count\": 1}, {\"repo\": \"extension-cookiecutter-ts\", \"createdAt\": \"2020-05-24T00:00:00\", \"count\": 1}, {\"repo\": \"jupyter-server-proxy\", \"createdAt\": \"2020-05-17T00:00:00\", \"count\": 1}, {\"repo\": \"jupyter-server-proxy\", \"createdAt\": \"2020-05-24T00:00:00\", \"count\": 1}, {\"repo\": \"jupyter-server-proxy\", \"createdAt\": \"2020-05-31T00:00:00\", \"count\": 0}, {\"repo\": \"jupyter-server-proxy\", \"createdAt\": \"2020-06-07T00:00:00\", \"count\": 0}, {\"repo\": \"jupyter-server-proxy\", \"createdAt\": \"2020-06-14T00:00:00\", \"count\": 1}, {\"repo\": \"jupyterlab\", \"createdAt\": \"2020-05-31T00:00:00\", \"count\": 1}, {\"repo\": \"notebook\", \"createdAt\": \"2019-07-07T00:00:00\", \"count\": 1}, {\"repo\": \"repo2docker\", \"createdAt\": \"2020-06-14T00:00:00\", \"count\": 1}, {\"repo\": \"the-littlest-jupyterhub\", \"createdAt\": \"2019-05-19T00:00:00\", \"count\": 1}, {\"repo\": \"the-littlest-jupyterhub\", \"createdAt\": \"2019-05-26T00:00:00\", \"count\": 0}, {\"repo\": \"the-littlest-jupyterhub\", \"createdAt\": \"2019-06-02T00:00:00\", \"count\": 0}, {\"repo\": \"the-littlest-jupyterhub\", \"createdAt\": \"2019-06-09T00:00:00\", \"count\": 0}, {\"repo\": \"the-littlest-jupyterhub\", \"createdAt\": \"2019-06-16T00:00:00\", \"count\": 0}, {\"repo\": \"the-littlest-jupyterhub\", \"createdAt\": \"2019-06-23T00:00:00\", \"count\": 0}, {\"repo\": \"the-littlest-jupyterhub\", \"createdAt\": \"2019-06-30T00:00:00\", \"count\": 0}, {\"repo\": \"the-littlest-jupyterhub\", \"createdAt\": \"2019-07-07T00:00:00\", \"count\": 0}, {\"repo\": \"the-littlest-jupyterhub\", \"createdAt\": \"2019-07-14T00:00:00\", \"count\": 0}, {\"repo\": \"the-littlest-jupyterhub\", \"createdAt\": \"2019-07-21T00:00:00\", \"count\": 0}, {\"repo\": \"the-littlest-jupyterhub\", \"createdAt\": \"2019-07-28T00:00:00\", \"count\": 0}, {\"repo\": \"the-littlest-jupyterhub\", \"createdAt\": \"2019-08-04T00:00:00\", \"count\": 0}, {\"repo\": \"the-littlest-jupyterhub\", \"createdAt\": \"2019-08-11T00:00:00\", \"count\": 0}, {\"repo\": \"the-littlest-jupyterhub\", \"createdAt\": \"2019-08-18T00:00:00\", \"count\": 0}, {\"repo\": \"the-littlest-jupyterhub\", \"createdAt\": \"2019-08-25T00:00:00\", \"count\": 0}, {\"repo\": \"the-littlest-jupyterhub\", \"createdAt\": \"2019-09-01T00:00:00\", \"count\": 0}, {\"repo\": \"the-littlest-jupyterhub\", \"createdAt\": \"2019-09-08T00:00:00\", \"count\": 0}, {\"repo\": \"the-littlest-jupyterhub\", \"createdAt\": \"2019-09-15T00:00:00\", \"count\": 0}, {\"repo\": \"the-littlest-jupyterhub\", \"createdAt\": \"2019-09-22T00:00:00\", \"count\": 0}, {\"repo\": \"the-littlest-jupyterhub\", \"createdAt\": \"2019-09-29T00:00:00\", \"count\": 0}, {\"repo\": \"the-littlest-jupyterhub\", \"createdAt\": \"2019-10-06T00:00:00\", \"count\": 0}, {\"repo\": \"the-littlest-jupyterhub\", \"createdAt\": \"2019-10-13T00:00:00\", \"count\": 0}, {\"repo\": \"the-littlest-jupyterhub\", \"createdAt\": \"2019-10-20T00:00:00\", \"count\": 0}, {\"repo\": \"the-littlest-jupyterhub\", \"createdAt\": \"2019-10-27T00:00:00\", \"count\": 0}, {\"repo\": \"the-littlest-jupyterhub\", \"createdAt\": \"2019-11-03T00:00:00\", \"count\": 0}, {\"repo\": \"the-littlest-jupyterhub\", \"createdAt\": \"2019-11-10T00:00:00\", \"count\": 0}, {\"repo\": \"the-littlest-jupyterhub\", \"createdAt\": \"2019-11-17T00:00:00\", \"count\": 0}, {\"repo\": \"the-littlest-jupyterhub\", \"createdAt\": \"2019-11-24T00:00:00\", \"count\": 0}, {\"repo\": \"the-littlest-jupyterhub\", \"createdAt\": \"2019-12-01T00:00:00\", \"count\": 0}, {\"repo\": \"the-littlest-jupyterhub\", \"createdAt\": \"2019-12-08T00:00:00\", \"count\": 0}, {\"repo\": \"the-littlest-jupyterhub\", \"createdAt\": \"2019-12-15T00:00:00\", \"count\": 0}, {\"repo\": \"the-littlest-jupyterhub\", \"createdAt\": \"2019-12-22T00:00:00\", \"count\": 0}, {\"repo\": \"the-littlest-jupyterhub\", \"createdAt\": \"2019-12-29T00:00:00\", \"count\": 0}, {\"repo\": \"the-littlest-jupyterhub\", \"createdAt\": \"2020-01-05T00:00:00\", \"count\": 0}, {\"repo\": \"the-littlest-jupyterhub\", \"createdAt\": \"2020-01-12T00:00:00\", \"count\": 0}, {\"repo\": \"the-littlest-jupyterhub\", \"createdAt\": \"2020-01-19T00:00:00\", \"count\": 0}, {\"repo\": \"the-littlest-jupyterhub\", \"createdAt\": \"2020-01-26T00:00:00\", \"count\": 0}, {\"repo\": \"the-littlest-jupyterhub\", \"createdAt\": \"2020-02-02T00:00:00\", \"count\": 0}, {\"repo\": \"the-littlest-jupyterhub\", \"createdAt\": \"2020-02-09T00:00:00\", \"count\": 0}, {\"repo\": \"the-littlest-jupyterhub\", \"createdAt\": \"2020-02-16T00:00:00\", \"count\": 0}, {\"repo\": \"the-littlest-jupyterhub\", \"createdAt\": \"2020-02-23T00:00:00\", \"count\": 0}, {\"repo\": \"the-littlest-jupyterhub\", \"createdAt\": \"2020-03-01T00:00:00\", \"count\": 0}, {\"repo\": \"the-littlest-jupyterhub\", \"createdAt\": \"2020-03-08T00:00:00\", \"count\": 0}, {\"repo\": \"the-littlest-jupyterhub\", \"createdAt\": \"2020-03-15T00:00:00\", \"count\": 0}, {\"repo\": \"the-littlest-jupyterhub\", \"createdAt\": \"2020-03-22T00:00:00\", \"count\": 0}, {\"repo\": \"the-littlest-jupyterhub\", \"createdAt\": \"2020-03-29T00:00:00\", \"count\": 0}, {\"repo\": \"the-littlest-jupyterhub\", \"createdAt\": \"2020-04-05T00:00:00\", \"count\": 0}, {\"repo\": \"the-littlest-jupyterhub\", \"createdAt\": \"2020-04-12T00:00:00\", \"count\": 0}, {\"repo\": \"the-littlest-jupyterhub\", \"createdAt\": \"2020-04-19T00:00:00\", \"count\": 0}, {\"repo\": \"the-littlest-jupyterhub\", \"createdAt\": \"2020-04-26T00:00:00\", \"count\": 0}, {\"repo\": \"the-littlest-jupyterhub\", \"createdAt\": \"2020-05-03T00:00:00\", \"count\": 1}, {\"repo\": \"the-littlest-jupyterhub\", \"createdAt\": \"2020-05-10T00:00:00\", \"count\": 1}, {\"repo\": \"the-littlest-jupyterhub\", \"createdAt\": \"2020-05-17T00:00:00\", \"count\": 0}, {\"repo\": \"the-littlest-jupyterhub\", \"createdAt\": \"2020-05-24T00:00:00\", \"count\": 0}, {\"repo\": \"the-littlest-jupyterhub\", \"createdAt\": \"2020-05-31T00:00:00\", \"count\": 0}, {\"repo\": \"the-littlest-jupyterhub\", \"createdAt\": \"2020-06-07T00:00:00\", \"count\": 0}, {\"repo\": \"the-littlest-jupyterhub\", \"createdAt\": \"2020-06-14T00:00:00\", \"count\": 0}, {\"repo\": \"the-littlest-jupyterhub\", \"createdAt\": \"2020-06-21T00:00:00\", \"count\": 0}, {\"repo\": \"the-littlest-jupyterhub\", \"createdAt\": \"2020-06-28T00:00:00\", \"count\": 2}, {\"repo\": \"zero-to-jupyterhub-k8s\", \"createdAt\": \"2020-06-14T00:00:00\", \"count\": 2}], \"data-3b7c788d14ec20f32787f0fbfc8852e2\": [{\"createdAt\": \"2019-05-19T00:00:00\", \"count\": 1}, {\"createdAt\": \"2019-05-26T00:00:00\", \"count\": 0}, {\"createdAt\": \"2019-06-02T00:00:00\", \"count\": 0}, {\"createdAt\": \"2019-06-09T00:00:00\", \"count\": 0}, {\"createdAt\": \"2019-06-16T00:00:00\", \"count\": 0}, {\"createdAt\": \"2019-06-23T00:00:00\", \"count\": 0}, {\"createdAt\": \"2019-06-30T00:00:00\", \"count\": 0}, {\"createdAt\": \"2019-07-07T00:00:00\", \"count\": 1}, {\"createdAt\": \"2019-07-14T00:00:00\", \"count\": 0}, {\"createdAt\": \"2019-07-21T00:00:00\", \"count\": 0}, {\"createdAt\": \"2019-07-28T00:00:00\", \"count\": 0}, {\"createdAt\": \"2019-08-04T00:00:00\", \"count\": 0}, {\"createdAt\": \"2019-08-11T00:00:00\", \"count\": 0}, {\"createdAt\": \"2019-08-18T00:00:00\", \"count\": 0}, {\"createdAt\": \"2019-08-25T00:00:00\", \"count\": 0}, {\"createdAt\": \"2019-09-01T00:00:00\", \"count\": 0}, {\"createdAt\": \"2019-09-08T00:00:00\", \"count\": 0}, {\"createdAt\": \"2019-09-15T00:00:00\", \"count\": 0}, {\"createdAt\": \"2019-09-22T00:00:00\", \"count\": 0}, {\"createdAt\": \"2019-09-29T00:00:00\", \"count\": 0}, {\"createdAt\": \"2019-10-06T00:00:00\", \"count\": 0}, {\"createdAt\": \"2019-10-13T00:00:00\", \"count\": 0}, {\"createdAt\": \"2019-10-20T00:00:00\", \"count\": 0}, {\"createdAt\": \"2019-10-27T00:00:00\", \"count\": 0}, {\"createdAt\": \"2019-11-03T00:00:00\", \"count\": 0}, {\"createdAt\": \"2019-11-10T00:00:00\", \"count\": 0}, {\"createdAt\": \"2019-11-17T00:00:00\", \"count\": 0}, {\"createdAt\": \"2019-11-24T00:00:00\", \"count\": 0}, {\"createdAt\": \"2019-12-01T00:00:00\", \"count\": 0}, {\"createdAt\": \"2019-12-08T00:00:00\", \"count\": 0}, {\"createdAt\": \"2019-12-15T00:00:00\", \"count\": 0}, {\"createdAt\": \"2019-12-22T00:00:00\", \"count\": 0}, {\"createdAt\": \"2019-12-29T00:00:00\", \"count\": 0}, {\"createdAt\": \"2020-01-05T00:00:00\", \"count\": 0}, {\"createdAt\": \"2020-01-12T00:00:00\", \"count\": 0}, {\"createdAt\": \"2020-01-19T00:00:00\", \"count\": 0}, {\"createdAt\": \"2020-01-26T00:00:00\", \"count\": 0}, {\"createdAt\": \"2020-02-02T00:00:00\", \"count\": 0}, {\"createdAt\": \"2020-02-09T00:00:00\", \"count\": 0}, {\"createdAt\": \"2020-02-16T00:00:00\", \"count\": 0}, {\"createdAt\": \"2020-02-23T00:00:00\", \"count\": 0}, {\"createdAt\": \"2020-03-01T00:00:00\", \"count\": 0}, {\"createdAt\": \"2020-03-08T00:00:00\", \"count\": 0}, {\"createdAt\": \"2020-03-15T00:00:00\", \"count\": 0}, {\"createdAt\": \"2020-03-22T00:00:00\", \"count\": 0}, {\"createdAt\": \"2020-03-29T00:00:00\", \"count\": 0}, {\"createdAt\": \"2020-04-05T00:00:00\", \"count\": 0}, {\"createdAt\": \"2020-04-12T00:00:00\", \"count\": 0}, {\"createdAt\": \"2020-04-19T00:00:00\", \"count\": 0}, {\"createdAt\": \"2020-04-26T00:00:00\", \"count\": 0}, {\"createdAt\": \"2020-05-03T00:00:00\", \"count\": 1}, {\"createdAt\": \"2020-05-10T00:00:00\", \"count\": 1}, {\"createdAt\": \"2020-05-17T00:00:00\", \"count\": 1}, {\"createdAt\": \"2020-05-24T00:00:00\", \"count\": 2}, {\"createdAt\": \"2020-05-31T00:00:00\", \"count\": 1}, {\"createdAt\": \"2020-06-07T00:00:00\", \"count\": 1}, {\"createdAt\": \"2020-06-14T00:00:00\", \"count\": 4}, {\"createdAt\": \"2020-06-21T00:00:00\", \"count\": 0}, {\"createdAt\": \"2020-06-28T00:00:00\", \"count\": 2}]}}, {\"mode\": \"vega-lite\"});\n",
       "</script>"
      ],
      "text/plain": [
       "alt.LayerChart(...)"
      ]
     },
     "execution_count": 14,
     "metadata": {},
     "output_type": "execute_result"
    }
   ],
   "source": [
    "prs_time = prs.groupby('repo').resample('W', on='createdAt').count()['author'].reset_index()\n",
    "prs_time = prs_time.rename(columns={'author': 'count'})\n",
    "prs_time_total = prs_time.groupby('createdAt').agg({\"count\": \"sum\"}).reset_index()\n",
    "\n",
    "ch1 = alt.Chart(prs_time, width=600).mark_line().encode(\n",
    "    x='createdAt',\n",
    "    y='count',\n",
    "    color='repo',\n",
    "    tooltip=\"repo\"\n",
    ")\n",
    "\n",
    "ch2 = alt.Chart(prs_time_total, width=600).mark_line(color=\"black\").encode(\n",
    "    x='createdAt',\n",
    "    y='count',\n",
    ")\n",
    "\n",
    "ch1 + ch2"
   ]
  },
  {
   "cell_type": "code",
   "execution_count": 15,
   "metadata": {
    "execution": {
     "iopub.execute_input": "2020-07-02T01:14:00.589212Z",
     "iopub.status.busy": "2020-07-02T01:14:00.574270Z",
     "iopub.status.idle": "2020-07-02T01:14:00.623362Z",
     "shell.execute_reply": "2020-07-02T01:14:00.623811Z"
    },
    "papermill": {
     "duration": 0.081322,
     "end_time": "2020-07-02T01:14:00.623948",
     "exception": false,
     "start_time": "2020-07-02T01:14:00.542626",
     "status": "completed"
    },
    "tags": [
     "hide_input"
    ]
   },
   "outputs": [
    {
     "data": {
      "text/html": [
       "\n",
       "<div id=\"altair-viz-676db3d954c84fb48fb9defdf2190b35\"></div>\n",
       "<script type=\"text/javascript\">\n",
       "  (function(spec, embedOpt){\n",
       "    let outputDiv = document.currentScript.previousElementSibling;\n",
       "    if (outputDiv.id !== \"altair-viz-676db3d954c84fb48fb9defdf2190b35\") {\n",
       "      outputDiv = document.getElementById(\"altair-viz-676db3d954c84fb48fb9defdf2190b35\");\n",
       "    }\n",
       "    const paths = {\n",
       "      \"vega\": \"https://cdn.jsdelivr.net/npm//vega@5?noext\",\n",
       "      \"vega-lib\": \"https://cdn.jsdelivr.net/npm//vega-lib?noext\",\n",
       "      \"vega-lite\": \"https://cdn.jsdelivr.net/npm//vega-lite@4.8.1?noext\",\n",
       "      \"vega-embed\": \"https://cdn.jsdelivr.net/npm//vega-embed@6?noext\",\n",
       "    };\n",
       "\n",
       "    function loadScript(lib) {\n",
       "      return new Promise(function(resolve, reject) {\n",
       "        var s = document.createElement('script');\n",
       "        s.src = paths[lib];\n",
       "        s.async = true;\n",
       "        s.onload = () => resolve(paths[lib]);\n",
       "        s.onerror = () => reject(`Error loading script: ${paths[lib]}`);\n",
       "        document.getElementsByTagName(\"head\")[0].appendChild(s);\n",
       "      });\n",
       "    }\n",
       "\n",
       "    function showError(err) {\n",
       "      outputDiv.innerHTML = `<div class=\"error\" style=\"color:red;\">${err}</div>`;\n",
       "      throw err;\n",
       "    }\n",
       "\n",
       "    function displayChart(vegaEmbed) {\n",
       "      vegaEmbed(outputDiv, spec, embedOpt)\n",
       "        .catch(err => showError(`Javascript Error: ${err.message}<br>This usually means there's a typo in your chart specification. See the javascript console for the full traceback.`));\n",
       "    }\n",
       "\n",
       "    if(typeof define === \"function\" && define.amd) {\n",
       "      requirejs.config({paths});\n",
       "      require([\"vega-embed\"], displayChart, err => showError(`Error loading script: ${err.message}`));\n",
       "    } else if (typeof vegaEmbed === \"function\") {\n",
       "      displayChart(vegaEmbed);\n",
       "    } else {\n",
       "      loadScript(\"vega\")\n",
       "        .then(() => loadScript(\"vega-lite\"))\n",
       "        .then(() => loadScript(\"vega-embed\"))\n",
       "        .catch(showError)\n",
       "        .then(() => displayChart(vegaEmbed));\n",
       "    }\n",
       "  })({\"config\": {\"axisLeft\": {\"labelFontSize\": 15}, \"axisBottom\": {\"labelFontSize\": 15}}, \"data\": {\"name\": \"data-8ba2db20c5c155af715731c782a4a66b\"}, \"mark\": \"line\", \"encoding\": {\"color\": {\"type\": \"nominal\", \"field\": \"repo\"}, \"tooltip\": {\"type\": \"nominal\", \"field\": \"repo\"}, \"x\": {\"type\": \"temporal\", \"field\": \"closedAt\"}, \"y\": {\"type\": \"quantitative\", \"field\": \"count\"}}, \"width\": 600, \"$schema\": \"https://vega.github.io/schema/vega-lite/v4.8.1.json\", \"datasets\": {\"data-8ba2db20c5c155af715731c782a4a66b\": [{\"repo\": \"jupyterhub\", \"closedAt\": \"2020-05-10T00:00:00\", \"count\": 1}, {\"repo\": \"jupyterhub\", \"closedAt\": \"2020-05-17T00:00:00\", \"count\": 0}, {\"repo\": \"jupyterhub\", \"closedAt\": \"2020-05-24T00:00:00\", \"count\": 0}, {\"repo\": \"jupyterhub\", \"closedAt\": \"2020-05-31T00:00:00\", \"count\": 0}, {\"repo\": \"jupyterhub\", \"closedAt\": \"2020-06-07T00:00:00\", \"count\": 0}, {\"repo\": \"jupyterhub\", \"closedAt\": \"2020-06-14T00:00:00\", \"count\": 1}, {\"repo\": \"jupyterhub-idle-culler\", \"closedAt\": \"2020-05-24T00:00:00\", \"count\": 1}, {\"repo\": \"jupyterhub-idle-culler\", \"closedAt\": \"2020-05-31T00:00:00\", \"count\": 1}, {\"repo\": \"jupyterhub-idle-culler\", \"closedAt\": \"2020-06-07T00:00:00\", \"count\": 0}, {\"repo\": \"jupyterhub-idle-culler\", \"closedAt\": \"2020-06-14T00:00:00\", \"count\": 0}, {\"repo\": \"jupyterhub-idle-culler\", \"closedAt\": \"2020-06-21T00:00:00\", \"count\": 1}, {\"repo\": \"mybinder.org-deploy\", \"closedAt\": \"2020-05-24T00:00:00\", \"count\": 2}, {\"repo\": \"nbgitpuller\", \"closedAt\": \"2020-06-28T00:00:00\", \"count\": 2}, {\"repo\": \"the-littlest-jupyterhub\", \"closedAt\": \"2020-05-10T00:00:00\", \"count\": 2}, {\"repo\": \"the-littlest-jupyterhub\", \"closedAt\": \"2020-05-17T00:00:00\", \"count\": 0}, {\"repo\": \"the-littlest-jupyterhub\", \"closedAt\": \"2020-05-24T00:00:00\", \"count\": 0}, {\"repo\": \"the-littlest-jupyterhub\", \"closedAt\": \"2020-05-31T00:00:00\", \"count\": 0}, {\"repo\": \"the-littlest-jupyterhub\", \"closedAt\": \"2020-06-07T00:00:00\", \"count\": 0}, {\"repo\": \"the-littlest-jupyterhub\", \"closedAt\": \"2020-06-14T00:00:00\", \"count\": 1}, {\"repo\": \"the-littlest-jupyterhub\", \"closedAt\": \"2020-06-21T00:00:00\", \"count\": 0}, {\"repo\": \"the-littlest-jupyterhub\", \"closedAt\": \"2020-06-28T00:00:00\", \"count\": 1}]}}, {\"mode\": \"vega-lite\"});\n",
       "</script>"
      ],
      "text/plain": [
       "alt.Chart(...)"
      ]
     },
     "execution_count": 15,
     "metadata": {},
     "output_type": "execute_result"
    }
   ],
   "source": [
    "closed_by_time = closed_by.groupby('repo').resample('W', on='closedAt').count()['author'].reset_index()\n",
    "closed_by_time = closed_by_time.rename(columns={'author': 'count'})\n",
    "\n",
    "alt.Chart(closed_by_time, width=600).mark_line().encode(\n",
    "    x='closedAt',\n",
    "    y='count',\n",
    "    color='repo',\n",
    "    tooltip=\"repo\"\n",
    ")"
   ]
  },
  {
   "cell_type": "markdown",
   "metadata": {
    "papermill": {
     "duration": 0.015653,
     "end_time": "2020-07-02T01:14:00.655657",
     "exception": false,
     "start_time": "2020-07-02T01:14:00.640004",
     "status": "completed"
    },
    "tags": []
   },
   "source": [
    "# By type over time"
   ]
  },
  {
   "cell_type": "code",
   "execution_count": 16,
   "metadata": {
    "execution": {
     "iopub.execute_input": "2020-07-02T01:14:00.720295Z",
     "iopub.status.busy": "2020-07-02T01:14:00.719734Z",
     "iopub.status.idle": "2020-07-02T01:14:00.721932Z",
     "shell.execute_reply": "2020-07-02T01:14:00.722374Z"
    },
    "papermill": {
     "duration": 0.048843,
     "end_time": "2020-07-02T01:14:00.722507",
     "exception": false,
     "start_time": "2020-07-02T01:14:00.673664",
     "status": "completed"
    },
    "tags": [
     "remove_cell"
    ]
   },
   "outputs": [],
   "source": [
    "prs_time = prs[['author', 'createdAt']].resample('W', on='createdAt').count()['author'].reset_index()\n",
    "prs_time = prs_time.rename(columns={'author': 'prs'})\n",
    "comments_time = comments[['author', 'createdAt']].resample('W', on='createdAt').count()['author'].reset_index()\n",
    "comments_time = comments_time.rename(columns={'author': 'comments'})\n",
    "\n",
    "total_time = pd.merge(prs_time, comments_time, on='createdAt', how='outer')\n",
    "total_time = total_time.melt(id_vars='createdAt', var_name=\"kind\", value_name=\"count\")\n"
   ]
  },
  {
   "cell_type": "code",
   "execution_count": 17,
   "metadata": {
    "execution": {
     "iopub.execute_input": "2020-07-02T01:14:00.785145Z",
     "iopub.status.busy": "2020-07-02T01:14:00.781215Z",
     "iopub.status.idle": "2020-07-02T01:14:00.787525Z",
     "shell.execute_reply": "2020-07-02T01:14:00.788062Z"
    },
    "papermill": {
     "duration": 0.049269,
     "end_time": "2020-07-02T01:14:00.788190",
     "exception": false,
     "start_time": "2020-07-02T01:14:00.738921",
     "status": "completed"
    },
    "tags": [
     "hide_input"
    ]
   },
   "outputs": [
    {
     "data": {
      "text/html": [
       "\n",
       "<div id=\"altair-viz-0c5f6448ee2b4dadb31374059e5e369a\"></div>\n",
       "<script type=\"text/javascript\">\n",
       "  (function(spec, embedOpt){\n",
       "    let outputDiv = document.currentScript.previousElementSibling;\n",
       "    if (outputDiv.id !== \"altair-viz-0c5f6448ee2b4dadb31374059e5e369a\") {\n",
       "      outputDiv = document.getElementById(\"altair-viz-0c5f6448ee2b4dadb31374059e5e369a\");\n",
       "    }\n",
       "    const paths = {\n",
       "      \"vega\": \"https://cdn.jsdelivr.net/npm//vega@5?noext\",\n",
       "      \"vega-lib\": \"https://cdn.jsdelivr.net/npm//vega-lib?noext\",\n",
       "      \"vega-lite\": \"https://cdn.jsdelivr.net/npm//vega-lite@4.8.1?noext\",\n",
       "      \"vega-embed\": \"https://cdn.jsdelivr.net/npm//vega-embed@6?noext\",\n",
       "    };\n",
       "\n",
       "    function loadScript(lib) {\n",
       "      return new Promise(function(resolve, reject) {\n",
       "        var s = document.createElement('script');\n",
       "        s.src = paths[lib];\n",
       "        s.async = true;\n",
       "        s.onload = () => resolve(paths[lib]);\n",
       "        s.onerror = () => reject(`Error loading script: ${paths[lib]}`);\n",
       "        document.getElementsByTagName(\"head\")[0].appendChild(s);\n",
       "      });\n",
       "    }\n",
       "\n",
       "    function showError(err) {\n",
       "      outputDiv.innerHTML = `<div class=\"error\" style=\"color:red;\">${err}</div>`;\n",
       "      throw err;\n",
       "    }\n",
       "\n",
       "    function displayChart(vegaEmbed) {\n",
       "      vegaEmbed(outputDiv, spec, embedOpt)\n",
       "        .catch(err => showError(`Javascript Error: ${err.message}<br>This usually means there's a typo in your chart specification. See the javascript console for the full traceback.`));\n",
       "    }\n",
       "\n",
       "    if(typeof define === \"function\" && define.amd) {\n",
       "      requirejs.config({paths});\n",
       "      require([\"vega-embed\"], displayChart, err => showError(`Error loading script: ${err.message}`));\n",
       "    } else if (typeof vegaEmbed === \"function\") {\n",
       "      displayChart(vegaEmbed);\n",
       "    } else {\n",
       "      loadScript(\"vega\")\n",
       "        .then(() => loadScript(\"vega-lite\"))\n",
       "        .then(() => loadScript(\"vega-embed\"))\n",
       "        .catch(showError)\n",
       "        .then(() => displayChart(vegaEmbed));\n",
       "    }\n",
       "  })({\"config\": {\"axisLeft\": {\"labelFontSize\": 15}, \"axisBottom\": {\"labelFontSize\": 15}}, \"data\": {\"name\": \"data-9a719560f287a394bee633d329b2b235\"}, \"mark\": \"line\", \"encoding\": {\"color\": {\"type\": \"nominal\", \"field\": \"kind\"}, \"x\": {\"type\": \"temporal\", \"field\": \"createdAt\"}, \"y\": {\"type\": \"quantitative\", \"field\": \"count\"}}, \"width\": 600, \"$schema\": \"https://vega.github.io/schema/vega-lite/v4.8.1.json\", \"datasets\": {\"data-9a719560f287a394bee633d329b2b235\": [{\"createdAt\": \"2019-05-19T00:00:00\", \"kind\": \"prs\", \"count\": 1.0}, {\"createdAt\": \"2019-05-26T00:00:00\", \"kind\": \"prs\", \"count\": 0.0}, {\"createdAt\": \"2019-06-02T00:00:00\", \"kind\": \"prs\", \"count\": 0.0}, {\"createdAt\": \"2019-06-09T00:00:00\", \"kind\": \"prs\", \"count\": 0.0}, {\"createdAt\": \"2019-06-16T00:00:00\", \"kind\": \"prs\", \"count\": 0.0}, {\"createdAt\": \"2019-06-23T00:00:00\", \"kind\": \"prs\", \"count\": 0.0}, {\"createdAt\": \"2019-06-30T00:00:00\", \"kind\": \"prs\", \"count\": 0.0}, {\"createdAt\": \"2019-07-07T00:00:00\", \"kind\": \"prs\", \"count\": 1.0}, {\"createdAt\": \"2019-07-14T00:00:00\", \"kind\": \"prs\", \"count\": 0.0}, {\"createdAt\": \"2019-07-21T00:00:00\", \"kind\": \"prs\", \"count\": 0.0}, {\"createdAt\": \"2019-07-28T00:00:00\", \"kind\": \"prs\", \"count\": 0.0}, {\"createdAt\": \"2019-08-04T00:00:00\", \"kind\": \"prs\", \"count\": 0.0}, {\"createdAt\": \"2019-08-11T00:00:00\", \"kind\": \"prs\", \"count\": 0.0}, {\"createdAt\": \"2019-08-18T00:00:00\", \"kind\": \"prs\", \"count\": 0.0}, {\"createdAt\": \"2019-08-25T00:00:00\", \"kind\": \"prs\", \"count\": 0.0}, {\"createdAt\": \"2019-09-01T00:00:00\", \"kind\": \"prs\", \"count\": 0.0}, {\"createdAt\": \"2019-09-08T00:00:00\", \"kind\": \"prs\", \"count\": 0.0}, {\"createdAt\": \"2019-09-15T00:00:00\", \"kind\": \"prs\", \"count\": 0.0}, {\"createdAt\": \"2019-09-22T00:00:00\", \"kind\": \"prs\", \"count\": 0.0}, {\"createdAt\": \"2019-09-29T00:00:00\", \"kind\": \"prs\", \"count\": 0.0}, {\"createdAt\": \"2019-10-06T00:00:00\", \"kind\": \"prs\", \"count\": 0.0}, {\"createdAt\": \"2019-10-13T00:00:00\", \"kind\": \"prs\", \"count\": 0.0}, {\"createdAt\": \"2019-10-20T00:00:00\", \"kind\": \"prs\", \"count\": 0.0}, {\"createdAt\": \"2019-10-27T00:00:00\", \"kind\": \"prs\", \"count\": 0.0}, {\"createdAt\": \"2019-11-03T00:00:00\", \"kind\": \"prs\", \"count\": 0.0}, {\"createdAt\": \"2019-11-10T00:00:00\", \"kind\": \"prs\", \"count\": 0.0}, {\"createdAt\": \"2019-11-17T00:00:00\", \"kind\": \"prs\", \"count\": 0.0}, {\"createdAt\": \"2019-11-24T00:00:00\", \"kind\": \"prs\", \"count\": 0.0}, {\"createdAt\": \"2019-12-01T00:00:00\", \"kind\": \"prs\", \"count\": 0.0}, {\"createdAt\": \"2019-12-08T00:00:00\", \"kind\": \"prs\", \"count\": 0.0}, {\"createdAt\": \"2019-12-15T00:00:00\", \"kind\": \"prs\", \"count\": 0.0}, {\"createdAt\": \"2019-12-22T00:00:00\", \"kind\": \"prs\", \"count\": 0.0}, {\"createdAt\": \"2019-12-29T00:00:00\", \"kind\": \"prs\", \"count\": 0.0}, {\"createdAt\": \"2020-01-05T00:00:00\", \"kind\": \"prs\", \"count\": 0.0}, {\"createdAt\": \"2020-01-12T00:00:00\", \"kind\": \"prs\", \"count\": 0.0}, {\"createdAt\": \"2020-01-19T00:00:00\", \"kind\": \"prs\", \"count\": 0.0}, {\"createdAt\": \"2020-01-26T00:00:00\", \"kind\": \"prs\", \"count\": 0.0}, {\"createdAt\": \"2020-02-02T00:00:00\", \"kind\": \"prs\", \"count\": 0.0}, {\"createdAt\": \"2020-02-09T00:00:00\", \"kind\": \"prs\", \"count\": 0.0}, {\"createdAt\": \"2020-02-16T00:00:00\", \"kind\": \"prs\", \"count\": 0.0}, {\"createdAt\": \"2020-02-23T00:00:00\", \"kind\": \"prs\", \"count\": 0.0}, {\"createdAt\": \"2020-03-01T00:00:00\", \"kind\": \"prs\", \"count\": 0.0}, {\"createdAt\": \"2020-03-08T00:00:00\", \"kind\": \"prs\", \"count\": 0.0}, {\"createdAt\": \"2020-03-15T00:00:00\", \"kind\": \"prs\", \"count\": 0.0}, {\"createdAt\": \"2020-03-22T00:00:00\", \"kind\": \"prs\", \"count\": 0.0}, {\"createdAt\": \"2020-03-29T00:00:00\", \"kind\": \"prs\", \"count\": 0.0}, {\"createdAt\": \"2020-04-05T00:00:00\", \"kind\": \"prs\", \"count\": 0.0}, {\"createdAt\": \"2020-04-12T00:00:00\", \"kind\": \"prs\", \"count\": 0.0}, {\"createdAt\": \"2020-04-19T00:00:00\", \"kind\": \"prs\", \"count\": 0.0}, {\"createdAt\": \"2020-04-26T00:00:00\", \"kind\": \"prs\", \"count\": 0.0}, {\"createdAt\": \"2020-05-03T00:00:00\", \"kind\": \"prs\", \"count\": 1.0}, {\"createdAt\": \"2020-05-10T00:00:00\", \"kind\": \"prs\", \"count\": 1.0}, {\"createdAt\": \"2020-05-17T00:00:00\", \"kind\": \"prs\", \"count\": 1.0}, {\"createdAt\": \"2020-05-24T00:00:00\", \"kind\": \"prs\", \"count\": 2.0}, {\"createdAt\": \"2020-05-31T00:00:00\", \"kind\": \"prs\", \"count\": 1.0}, {\"createdAt\": \"2020-06-07T00:00:00\", \"kind\": \"prs\", \"count\": 1.0}, {\"createdAt\": \"2020-06-14T00:00:00\", \"kind\": \"prs\", \"count\": 4.0}, {\"createdAt\": \"2020-06-21T00:00:00\", \"kind\": \"prs\", \"count\": 0.0}, {\"createdAt\": \"2020-06-28T00:00:00\", \"kind\": \"prs\", \"count\": 2.0}, {\"createdAt\": \"2020-07-05T00:00:00\", \"kind\": \"prs\", \"count\": null}, {\"createdAt\": \"2019-05-19T00:00:00\", \"kind\": \"comments\", \"count\": null}, {\"createdAt\": \"2019-05-26T00:00:00\", \"kind\": \"comments\", \"count\": null}, {\"createdAt\": \"2019-06-02T00:00:00\", \"kind\": \"comments\", \"count\": null}, {\"createdAt\": \"2019-06-09T00:00:00\", \"kind\": \"comments\", \"count\": null}, {\"createdAt\": \"2019-06-16T00:00:00\", \"kind\": \"comments\", \"count\": null}, {\"createdAt\": \"2019-06-23T00:00:00\", \"kind\": \"comments\", \"count\": null}, {\"createdAt\": \"2019-06-30T00:00:00\", \"kind\": \"comments\", \"count\": null}, {\"createdAt\": \"2019-07-07T00:00:00\", \"kind\": \"comments\", \"count\": null}, {\"createdAt\": \"2019-07-14T00:00:00\", \"kind\": \"comments\", \"count\": null}, {\"createdAt\": \"2019-07-21T00:00:00\", \"kind\": \"comments\", \"count\": null}, {\"createdAt\": \"2019-07-28T00:00:00\", \"kind\": \"comments\", \"count\": null}, {\"createdAt\": \"2019-08-04T00:00:00\", \"kind\": \"comments\", \"count\": null}, {\"createdAt\": \"2019-08-11T00:00:00\", \"kind\": \"comments\", \"count\": null}, {\"createdAt\": \"2019-08-18T00:00:00\", \"kind\": \"comments\", \"count\": null}, {\"createdAt\": \"2019-08-25T00:00:00\", \"kind\": \"comments\", \"count\": null}, {\"createdAt\": \"2019-09-01T00:00:00\", \"kind\": \"comments\", \"count\": null}, {\"createdAt\": \"2019-09-08T00:00:00\", \"kind\": \"comments\", \"count\": null}, {\"createdAt\": \"2019-09-15T00:00:00\", \"kind\": \"comments\", \"count\": null}, {\"createdAt\": \"2019-09-22T00:00:00\", \"kind\": \"comments\", \"count\": null}, {\"createdAt\": \"2019-09-29T00:00:00\", \"kind\": \"comments\", \"count\": null}, {\"createdAt\": \"2019-10-06T00:00:00\", \"kind\": \"comments\", \"count\": null}, {\"createdAt\": \"2019-10-13T00:00:00\", \"kind\": \"comments\", \"count\": null}, {\"createdAt\": \"2019-10-20T00:00:00\", \"kind\": \"comments\", \"count\": null}, {\"createdAt\": \"2019-10-27T00:00:00\", \"kind\": \"comments\", \"count\": null}, {\"createdAt\": \"2019-11-03T00:00:00\", \"kind\": \"comments\", \"count\": null}, {\"createdAt\": \"2019-11-10T00:00:00\", \"kind\": \"comments\", \"count\": null}, {\"createdAt\": \"2019-11-17T00:00:00\", \"kind\": \"comments\", \"count\": null}, {\"createdAt\": \"2019-11-24T00:00:00\", \"kind\": \"comments\", \"count\": null}, {\"createdAt\": \"2019-12-01T00:00:00\", \"kind\": \"comments\", \"count\": null}, {\"createdAt\": \"2019-12-08T00:00:00\", \"kind\": \"comments\", \"count\": null}, {\"createdAt\": \"2019-12-15T00:00:00\", \"kind\": \"comments\", \"count\": null}, {\"createdAt\": \"2019-12-22T00:00:00\", \"kind\": \"comments\", \"count\": null}, {\"createdAt\": \"2019-12-29T00:00:00\", \"kind\": \"comments\", \"count\": null}, {\"createdAt\": \"2020-01-05T00:00:00\", \"kind\": \"comments\", \"count\": null}, {\"createdAt\": \"2020-01-12T00:00:00\", \"kind\": \"comments\", \"count\": null}, {\"createdAt\": \"2020-01-19T00:00:00\", \"kind\": \"comments\", \"count\": null}, {\"createdAt\": \"2020-01-26T00:00:00\", \"kind\": \"comments\", \"count\": null}, {\"createdAt\": \"2020-02-02T00:00:00\", \"kind\": \"comments\", \"count\": null}, {\"createdAt\": \"2020-02-09T00:00:00\", \"kind\": \"comments\", \"count\": null}, {\"createdAt\": \"2020-02-16T00:00:00\", \"kind\": \"comments\", \"count\": null}, {\"createdAt\": \"2020-02-23T00:00:00\", \"kind\": \"comments\", \"count\": null}, {\"createdAt\": \"2020-03-01T00:00:00\", \"kind\": \"comments\", \"count\": null}, {\"createdAt\": \"2020-03-08T00:00:00\", \"kind\": \"comments\", \"count\": null}, {\"createdAt\": \"2020-03-15T00:00:00\", \"kind\": \"comments\", \"count\": null}, {\"createdAt\": \"2020-03-22T00:00:00\", \"kind\": \"comments\", \"count\": null}, {\"createdAt\": \"2020-03-29T00:00:00\", \"kind\": \"comments\", \"count\": null}, {\"createdAt\": \"2020-04-05T00:00:00\", \"kind\": \"comments\", \"count\": null}, {\"createdAt\": \"2020-04-12T00:00:00\", \"kind\": \"comments\", \"count\": null}, {\"createdAt\": \"2020-04-19T00:00:00\", \"kind\": \"comments\", \"count\": null}, {\"createdAt\": \"2020-04-26T00:00:00\", \"kind\": \"comments\", \"count\": null}, {\"createdAt\": \"2020-05-03T00:00:00\", \"kind\": \"comments\", \"count\": 2.0}, {\"createdAt\": \"2020-05-10T00:00:00\", \"kind\": \"comments\", \"count\": 9.0}, {\"createdAt\": \"2020-05-17T00:00:00\", \"kind\": \"comments\", \"count\": 11.0}, {\"createdAt\": \"2020-05-24T00:00:00\", \"kind\": \"comments\", \"count\": 6.0}, {\"createdAt\": \"2020-05-31T00:00:00\", \"kind\": \"comments\", \"count\": 5.0}, {\"createdAt\": \"2020-06-07T00:00:00\", \"kind\": \"comments\", \"count\": 0.0}, {\"createdAt\": \"2020-06-14T00:00:00\", \"kind\": \"comments\", \"count\": 12.0}, {\"createdAt\": \"2020-06-21T00:00:00\", \"kind\": \"comments\", \"count\": 6.0}, {\"createdAt\": \"2020-06-28T00:00:00\", \"kind\": \"comments\", \"count\": 19.0}, {\"createdAt\": \"2020-07-05T00:00:00\", \"kind\": \"comments\", \"count\": 1.0}]}}, {\"mode\": \"vega-lite\"});\n",
       "</script>"
      ],
      "text/plain": [
       "alt.Chart(...)"
      ]
     },
     "execution_count": 17,
     "metadata": {},
     "output_type": "execute_result"
    }
   ],
   "source": [
    "alt.Chart(total_time, width=600).mark_line().encode(\n",
    "    x='createdAt',\n",
    "    y='count',\n",
    "    color='kind'\n",
    ")"
   ]
  }
 ],
 "metadata": {
  "kernelspec": {
   "display_name": "Python 3",
   "language": "python",
   "name": "python3"
  },
  "language_info": {
   "codemirror_mode": {
    "name": "ipython",
    "version": 3
   },
   "file_extension": ".py",
   "mimetype": "text/x-python",
   "name": "python",
   "nbconvert_exporter": "python",
   "pygments_lexer": "ipython3",
   "version": "3.7.7"
  },
  "papermill": {
   "duration": 3.485261,
   "end_time": "2020-07-02T01:14:01.218679",
   "environment_variables": {},
   "exception": null,
   "input_path": "./person.ipynb",
   "output_path": "people/yuvipanda.ipynb",
   "parameters": {
    "n_days": 60,
    "person": "yuvipanda"
   },
   "start_time": "2020-07-02T01:13:57.733418",
   "version": "2.1.2"
  },
  "widgets": {
   "application/vnd.jupyter.widget-state+json": {
    "state": {},
    "version_major": 2,
    "version_minor": 0
   }
  }
 },
 "nbformat": 4,
 "nbformat_minor": 4
}