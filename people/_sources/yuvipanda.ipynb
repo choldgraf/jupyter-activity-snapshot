{
 "cells": [
  {
   "cell_type": "markdown",
   "metadata": {
    "papermill": {
     "duration": 0.011372,
     "end_time": "2020-09-22T01:24:09.224418",
     "exception": false,
     "start_time": "2020-09-22T01:24:09.213046",
     "status": "completed"
    },
    "tags": []
   },
   "source": [
    "# Report for yuvipanda"
   ]
  },
  {
   "cell_type": "code",
   "execution_count": 1,
   "metadata": {
    "execution": {
     "iopub.execute_input": "2020-09-22T01:24:09.263697Z",
     "iopub.status.busy": "2020-09-22T01:24:09.263121Z",
     "iopub.status.idle": "2020-09-22T01:24:10.081349Z",
     "shell.execute_reply": "2020-09-22T01:24:10.080299Z"
    },
    "papermill": {
     "duration": 0.838198,
     "end_time": "2020-09-22T01:24:10.081524",
     "exception": false,
     "start_time": "2020-09-22T01:24:09.243326",
     "status": "completed"
    },
    "tags": [
     "remove_cell"
    ]
   },
   "outputs": [],
   "source": [
    "import seaborn as sns\n",
    "import pandas as pd\n",
    "import numpy as np\n",
    "import altair as alt\n",
    "from markdown import markdown\n",
    "from IPython.display import Markdown\n",
    "from ipywidgets.widgets import HTML, Tab\n",
    "from ipywidgets import widgets\n",
    "from datetime import timedelta\n",
    "from matplotlib import pyplot as plt\n",
    "import os.path as op\n",
    "\n",
    "from mycode import alt_theme\n",
    "from warnings import simplefilter\n",
    "simplefilter('ignore')"
   ]
  },
  {
   "cell_type": "code",
   "execution_count": 2,
   "metadata": {
    "execution": {
     "iopub.execute_input": "2020-09-22T01:24:10.112037Z",
     "iopub.status.busy": "2020-09-22T01:24:10.110538Z",
     "iopub.status.idle": "2020-09-22T01:24:10.112571Z",
     "shell.execute_reply": "2020-09-22T01:24:10.113096Z"
    },
    "papermill": {
     "duration": 0.018525,
     "end_time": "2020-09-22T01:24:10.113231",
     "exception": false,
     "start_time": "2020-09-22T01:24:10.094706",
     "status": "completed"
    },
    "tags": [
     "remove_cell"
    ]
   },
   "outputs": [],
   "source": [
    "def author_url(author):\n",
    "    return f\"https://github.com/{author}\""
   ]
  },
  {
   "cell_type": "code",
   "execution_count": 3,
   "metadata": {
    "execution": {
     "iopub.execute_input": "2020-09-22T01:24:10.140966Z",
     "iopub.status.busy": "2020-09-22T01:24:10.140407Z",
     "iopub.status.idle": "2020-09-22T01:24:10.142332Z",
     "shell.execute_reply": "2020-09-22T01:24:10.142760Z"
    },
    "papermill": {
     "duration": 0.018017,
     "end_time": "2020-09-22T01:24:10.142902",
     "exception": false,
     "start_time": "2020-09-22T01:24:10.124885",
     "status": "completed"
    },
    "tags": [
     "parameters",
     "hide_input"
    ]
   },
   "outputs": [],
   "source": [
    "# Parameters\n",
    "fmt_date = \"{:%Y-%m-%d}\"\n",
    "\n",
    "n_days = 30 * 2\n",
    "start_date = fmt_date.format(pd.datetime.today() - timedelta(days=n_days))\n",
    "end_date = fmt_date.format(pd.datetime.today())\n",
    "\n",
    "renderer = \"html\"\n",
    "person = \"jasongrout\""
   ]
  },
  {
   "cell_type": "code",
   "execution_count": 4,
   "metadata": {
    "execution": {
     "iopub.execute_input": "2020-09-22T01:24:10.169798Z",
     "iopub.status.busy": "2020-09-22T01:24:10.169272Z",
     "iopub.status.idle": "2020-09-22T01:24:10.171614Z",
     "shell.execute_reply": "2020-09-22T01:24:10.171063Z"
    },
    "papermill": {
     "duration": 0.017242,
     "end_time": "2020-09-22T01:24:10.171729",
     "exception": false,
     "start_time": "2020-09-22T01:24:10.154487",
     "status": "completed"
    },
    "tags": [
     "injected-parameters",
     "remove-cell"
    ]
   },
   "outputs": [],
   "source": [
    "# Parameters\n",
    "person = \"yuvipanda\"\n",
    "n_days = 60\n"
   ]
  },
  {
   "cell_type": "code",
   "execution_count": 5,
   "metadata": {
    "execution": {
     "iopub.execute_input": "2020-09-22T01:24:10.200794Z",
     "iopub.status.busy": "2020-09-22T01:24:10.200266Z",
     "iopub.status.idle": "2020-09-22T01:24:10.203298Z",
     "shell.execute_reply": "2020-09-22T01:24:10.202750Z"
    },
    "papermill": {
     "duration": 0.020375,
     "end_time": "2020-09-22T01:24:10.203407",
     "exception": false,
     "start_time": "2020-09-22T01:24:10.183032",
     "status": "completed"
    },
    "tags": [
     "remove_cell"
    ]
   },
   "outputs": [
    {
     "data": {
      "text/plain": [
       "ThemeRegistry.enable('my_theme')"
      ]
     },
     "execution_count": 5,
     "metadata": {},
     "output_type": "execute_result"
    }
   ],
   "source": [
    "alt.renderers.enable(renderer);\n",
    "alt.themes.register('my_theme', alt_theme)\n",
    "alt.themes.enable(\"my_theme\")"
   ]
  },
  {
   "cell_type": "markdown",
   "metadata": {
    "papermill": {
     "duration": 0.013219,
     "end_time": "2020-09-22T01:24:10.230213",
     "exception": false,
     "start_time": "2020-09-22T01:24:10.216994",
     "status": "completed"
    },
    "tags": []
   },
   "source": [
    "## Load data"
   ]
  },
  {
   "cell_type": "code",
   "execution_count": 6,
   "metadata": {
    "execution": {
     "iopub.execute_input": "2020-09-22T01:24:10.297145Z",
     "iopub.status.busy": "2020-09-22T01:24:10.296651Z",
     "iopub.status.idle": "2020-09-22T01:24:10.443367Z",
     "shell.execute_reply": "2020-09-22T01:24:10.442895Z"
    },
    "papermill": {
     "duration": 0.162998,
     "end_time": "2020-09-22T01:24:10.443498",
     "exception": false,
     "start_time": "2020-09-22T01:24:10.280500",
     "status": "completed"
    },
    "tags": [
     "remove_cell"
    ]
   },
   "outputs": [],
   "source": [
    "from pathlib import Path\n",
    "path_data = Path(\"./\")\n",
    "comments = pd.read_csv(path_data.joinpath('comments.csv'), index_col=0)\n",
    "issues = pd.read_csv(path_data.joinpath('issues.csv'), index_col=0)\n",
    "prs = pd.read_csv(path_data.joinpath('prs.csv'), index_col=0)\n",
    "\n",
    "comments = comments.query('author == @person').drop_duplicates()\n",
    "issues = issues.query('author == @person').drop_duplicates()\n",
    "closed_by = prs.query('mergedBy == @person')\n",
    "prs = prs.query('author == @person').drop_duplicates()"
   ]
  },
  {
   "cell_type": "code",
   "execution_count": 7,
   "metadata": {
    "execution": {
     "iopub.execute_input": "2020-09-22T01:24:10.476946Z",
     "iopub.status.busy": "2020-09-22T01:24:10.476412Z",
     "iopub.status.idle": "2020-09-22T01:24:10.528952Z",
     "shell.execute_reply": "2020-09-22T01:24:10.528143Z"
    },
    "papermill": {
     "duration": 0.069976,
     "end_time": "2020-09-22T01:24:10.529100",
     "exception": false,
     "start_time": "2020-09-22T01:24:10.459124",
     "status": "completed"
    },
    "tags": [
     "remove_cell"
    ]
   },
   "outputs": [],
   "source": [
    "# Time columns\n",
    "# Also drop dates outside of our range\n",
    "time_columns = ['updatedAt', 'createdAt', 'closedAt']\n",
    "for col in time_columns:\n",
    "    for item in [comments, issues, prs, closed_by]:\n",
    "        if col not in item.columns:\n",
    "            continue\n",
    "        dt = pd.to_datetime(item[col]).dt.tz_localize(None)\n",
    "        item[col] = dt\n",
    "        item.query(\"updatedAt < @end_date and updatedAt > @start_date\", inplace=True)"
   ]
  },
  {
   "cell_type": "markdown",
   "metadata": {
    "papermill": {
     "duration": 0.01377,
     "end_time": "2020-09-22T01:24:10.555761",
     "exception": false,
     "start_time": "2020-09-22T01:24:10.541991",
     "status": "completed"
    },
    "tags": []
   },
   "source": [
    "# Repository summaries"
   ]
  },
  {
   "cell_type": "code",
   "execution_count": 8,
   "metadata": {
    "execution": {
     "iopub.execute_input": "2020-09-22T01:24:10.594685Z",
     "iopub.status.busy": "2020-09-22T01:24:10.594118Z",
     "iopub.status.idle": "2020-09-22T01:24:10.610548Z",
     "shell.execute_reply": "2020-09-22T01:24:10.609946Z"
    },
    "papermill": {
     "duration": 0.040684,
     "end_time": "2020-09-22T01:24:10.610661",
     "exception": false,
     "start_time": "2020-09-22T01:24:10.569977",
     "status": "completed"
    },
    "tags": [
     "remove_cell"
    ]
   },
   "outputs": [],
   "source": [
    "summaries = []\n",
    "for idata, name in [(issues, 'issues'), (prs, 'prs'), (comments, 'comments')]:\n",
    "    idata = idata.groupby([\"repo\", \"org\"]).agg({'id': \"count\"}).reset_index().rename(columns={'id': 'count'})\n",
    "    idata[\"kind\"] = name\n",
    "    summaries.append(idata)\n",
    "summaries = pd.concat(summaries)"
   ]
  },
  {
   "cell_type": "code",
   "execution_count": 9,
   "metadata": {
    "execution": {
     "iopub.execute_input": "2020-09-22T01:24:10.644243Z",
     "iopub.status.busy": "2020-09-22T01:24:10.643746Z",
     "iopub.status.idle": "2020-09-22T01:24:10.650105Z",
     "shell.execute_reply": "2020-09-22T01:24:10.650623Z"
    },
    "papermill": {
     "duration": 0.026519,
     "end_time": "2020-09-22T01:24:10.650749",
     "exception": false,
     "start_time": "2020-09-22T01:24:10.624230",
     "status": "completed"
    },
    "tags": [
     "remove_cell"
    ]
   },
   "outputs": [],
   "source": [
    "repo_summaries = summaries.groupby([\"repo\", \"kind\"]).agg({\"count\": \"sum\"}).reset_index()\n",
    "org_summaries = summaries.groupby([\"org\", \"kind\"]).agg({\"count\": \"sum\"}).reset_index()"
   ]
  },
  {
   "cell_type": "code",
   "execution_count": 10,
   "metadata": {
    "execution": {
     "iopub.execute_input": "2020-09-22T01:24:10.681385Z",
     "iopub.status.busy": "2020-09-22T01:24:10.680752Z",
     "iopub.status.idle": "2020-09-22T01:24:10.682801Z",
     "shell.execute_reply": "2020-09-22T01:24:10.683265Z"
    },
    "papermill": {
     "duration": 0.020544,
     "end_time": "2020-09-22T01:24:10.683416",
     "exception": false,
     "start_time": "2020-09-22T01:24:10.662872",
     "status": "completed"
    },
    "tags": [
     "remove_cell"
    ]
   },
   "outputs": [],
   "source": [
    "repo_summaries['logcount'] = np.log(repo_summaries[\"count\"])"
   ]
  },
  {
   "cell_type": "code",
   "execution_count": 11,
   "metadata": {
    "execution": {
     "iopub.execute_input": "2020-09-22T01:24:10.731270Z",
     "iopub.status.busy": "2020-09-22T01:24:10.721021Z",
     "iopub.status.idle": "2020-09-22T01:24:10.766565Z",
     "shell.execute_reply": "2020-09-22T01:24:10.766998Z"
    },
    "papermill": {
     "duration": 0.068349,
     "end_time": "2020-09-22T01:24:10.767141",
     "exception": false,
     "start_time": "2020-09-22T01:24:10.698792",
     "status": "completed"
    },
    "tags": [
     "hide_input"
    ]
   },
   "outputs": [
    {
     "data": {
      "text/html": [
       "\n",
       "<div id=\"altair-viz-1a42c555d8b34748a82ae126eeb1595b\"></div>\n",
       "<script type=\"text/javascript\">\n",
       "  (function(spec, embedOpt){\n",
       "    let outputDiv = document.currentScript.previousElementSibling;\n",
       "    if (outputDiv.id !== \"altair-viz-1a42c555d8b34748a82ae126eeb1595b\") {\n",
       "      outputDiv = document.getElementById(\"altair-viz-1a42c555d8b34748a82ae126eeb1595b\");\n",
       "    }\n",
       "    const paths = {\n",
       "      \"vega\": \"https://cdn.jsdelivr.net/npm//vega@5?noext\",\n",
       "      \"vega-lib\": \"https://cdn.jsdelivr.net/npm//vega-lib?noext\",\n",
       "      \"vega-lite\": \"https://cdn.jsdelivr.net/npm//vega-lite@4.8.1?noext\",\n",
       "      \"vega-embed\": \"https://cdn.jsdelivr.net/npm//vega-embed@6?noext\",\n",
       "    };\n",
       "\n",
       "    function loadScript(lib) {\n",
       "      return new Promise(function(resolve, reject) {\n",
       "        var s = document.createElement('script');\n",
       "        s.src = paths[lib];\n",
       "        s.async = true;\n",
       "        s.onload = () => resolve(paths[lib]);\n",
       "        s.onerror = () => reject(`Error loading script: ${paths[lib]}`);\n",
       "        document.getElementsByTagName(\"head\")[0].appendChild(s);\n",
       "      });\n",
       "    }\n",
       "\n",
       "    function showError(err) {\n",
       "      outputDiv.innerHTML = `<div class=\"error\" style=\"color:red;\">${err}</div>`;\n",
       "      throw err;\n",
       "    }\n",
       "\n",
       "    function displayChart(vegaEmbed) {\n",
       "      vegaEmbed(outputDiv, spec, embedOpt)\n",
       "        .catch(err => showError(`Javascript Error: ${err.message}<br>This usually means there's a typo in your chart specification. See the javascript console for the full traceback.`));\n",
       "    }\n",
       "\n",
       "    if(typeof define === \"function\" && define.amd) {\n",
       "      requirejs.config({paths});\n",
       "      require([\"vega-embed\"], displayChart, err => showError(`Error loading script: ${err.message}`));\n",
       "    } else if (typeof vegaEmbed === \"function\") {\n",
       "      displayChart(vegaEmbed);\n",
       "    } else {\n",
       "      loadScript(\"vega\")\n",
       "        .then(() => loadScript(\"vega-lite\"))\n",
       "        .then(() => loadScript(\"vega-embed\"))\n",
       "        .catch(showError)\n",
       "        .then(() => displayChart(vegaEmbed));\n",
       "    }\n",
       "  })({\"config\": {\"axisLeft\": {\"labelFontSize\": 15}, \"axisBottom\": {\"labelFontSize\": 15}}, \"hconcat\": [{\"mark\": \"bar\", \"encoding\": {\"color\": {\"type\": \"nominal\", \"field\": \"kind\"}, \"tooltip\": {\"type\": \"nominal\", \"field\": \"kind\"}, \"x\": {\"type\": \"nominal\", \"field\": \"repo\"}, \"y\": {\"type\": \"quantitative\", \"field\": \"count\"}}, \"title\": \"Activity per repository\", \"width\": 600}, {\"mark\": \"bar\", \"encoding\": {\"color\": {\"type\": \"nominal\", \"field\": \"kind\"}, \"tooltip\": {\"type\": \"nominal\", \"field\": \"kind\"}, \"x\": {\"type\": \"nominal\", \"field\": \"repo\"}, \"y\": {\"type\": \"quantitative\", \"field\": \"logcount\"}}, \"title\": \"Log activity per repository\", \"width\": 600}], \"data\": {\"name\": \"data-2e93b0bb80d53eb57af28ef4ae0652ac\"}, \"$schema\": \"https://vega.github.io/schema/vega-lite/v4.8.1.json\", \"datasets\": {\"data-2e93b0bb80d53eb57af28ef4ae0652ac\": [{\"repo\": \"jupyter-server-proxy\", \"kind\": \"comments\", \"count\": 4, \"logcount\": 1.3862943611198906}, {\"repo\": \"jupyterhub\", \"kind\": \"comments\", \"count\": 2, \"logcount\": 0.6931471805599453}, {\"repo\": \"jupyterhub\", \"kind\": \"prs\", \"count\": 2, \"logcount\": 0.6931471805599453}, {\"repo\": \"jupyterhub-idle-culler\", \"kind\": \"comments\", \"count\": 1, \"logcount\": 0.0}, {\"repo\": \"kubespawner\", \"kind\": \"comments\", \"count\": 16, \"logcount\": 2.772588722239781}, {\"repo\": \"kubespawner\", \"kind\": \"issues\", \"count\": 2, \"logcount\": 0.6931471805599453}, {\"repo\": \"kubespawner\", \"kind\": \"prs\", \"count\": 1, \"logcount\": 0.0}, {\"repo\": \"mybinder.org-deploy\", \"kind\": \"comments\", \"count\": 3, \"logcount\": 1.0986122886681098}, {\"repo\": \"mybinder.org-deploy\", \"kind\": \"prs\", \"count\": 1, \"logcount\": 0.0}, {\"repo\": \"nbgitpuller\", \"kind\": \"comments\", \"count\": 10, \"logcount\": 2.302585092994046}, {\"repo\": \"nbgitpuller\", \"kind\": \"prs\", \"count\": 1, \"logcount\": 0.0}, {\"repo\": \"oauthenticator\", \"kind\": \"comments\", \"count\": 1, \"logcount\": 0.0}, {\"repo\": \"team-compass\", \"kind\": \"comments\", \"count\": 3, \"logcount\": 1.0986122886681098}, {\"repo\": \"telemetry\", \"kind\": \"comments\", \"count\": 8, \"logcount\": 2.0794415416798357}, {\"repo\": \"the-littlest-jupyterhub\", \"kind\": \"comments\", \"count\": 4, \"logcount\": 1.3862943611198906}, {\"repo\": \"the-littlest-jupyterhub\", \"kind\": \"prs\", \"count\": 2, \"logcount\": 0.6931471805599453}, {\"repo\": \"zero-to-jupyterhub-k8s\", \"kind\": \"comments\", \"count\": 17, \"logcount\": 2.833213344056216}, {\"repo\": \"zero-to-jupyterhub-k8s\", \"kind\": \"prs\", \"count\": 4, \"logcount\": 1.3862943611198906}]}}, {\"mode\": \"vega-lite\"});\n",
       "</script>"
      ],
      "text/plain": [
       "alt.HConcatChart(...)"
      ]
     },
     "execution_count": 11,
     "metadata": {},
     "output_type": "execute_result"
    }
   ],
   "source": [
    "ch1 = alt.Chart(repo_summaries, width=600, title=\"Activity per repository\").mark_bar().encode(\n",
    "    x='repo',\n",
    "    y='count',\n",
    "    color='kind',\n",
    "    tooltip=\"kind\"\n",
    ")\n",
    "\n",
    "ch2 = alt.Chart(repo_summaries, width=600, title=\"Log activity per repository\").mark_bar().encode(\n",
    "    x='repo',\n",
    "    y='logcount',\n",
    "    color='kind',\n",
    "    tooltip=\"kind\"\n",
    ")\n",
    "\n",
    "ch1 | ch2"
   ]
  },
  {
   "cell_type": "code",
   "execution_count": 12,
   "metadata": {
    "execution": {
     "iopub.execute_input": "2020-09-22T01:24:10.807390Z",
     "iopub.status.busy": "2020-09-22T01:24:10.802138Z",
     "iopub.status.idle": "2020-09-22T01:24:10.821795Z",
     "shell.execute_reply": "2020-09-22T01:24:10.822242Z"
    },
    "papermill": {
     "duration": 0.041066,
     "end_time": "2020-09-22T01:24:10.822373",
     "exception": false,
     "start_time": "2020-09-22T01:24:10.781307",
     "status": "completed"
    },
    "tags": [
     "hide_input"
    ]
   },
   "outputs": [
    {
     "data": {
      "text/html": [
       "\n",
       "<div id=\"altair-viz-9373f1b63e1a49fc9cec596c83765a97\"></div>\n",
       "<script type=\"text/javascript\">\n",
       "  (function(spec, embedOpt){\n",
       "    let outputDiv = document.currentScript.previousElementSibling;\n",
       "    if (outputDiv.id !== \"altair-viz-9373f1b63e1a49fc9cec596c83765a97\") {\n",
       "      outputDiv = document.getElementById(\"altair-viz-9373f1b63e1a49fc9cec596c83765a97\");\n",
       "    }\n",
       "    const paths = {\n",
       "      \"vega\": \"https://cdn.jsdelivr.net/npm//vega@5?noext\",\n",
       "      \"vega-lib\": \"https://cdn.jsdelivr.net/npm//vega-lib?noext\",\n",
       "      \"vega-lite\": \"https://cdn.jsdelivr.net/npm//vega-lite@4.8.1?noext\",\n",
       "      \"vega-embed\": \"https://cdn.jsdelivr.net/npm//vega-embed@6?noext\",\n",
       "    };\n",
       "\n",
       "    function loadScript(lib) {\n",
       "      return new Promise(function(resolve, reject) {\n",
       "        var s = document.createElement('script');\n",
       "        s.src = paths[lib];\n",
       "        s.async = true;\n",
       "        s.onload = () => resolve(paths[lib]);\n",
       "        s.onerror = () => reject(`Error loading script: ${paths[lib]}`);\n",
       "        document.getElementsByTagName(\"head\")[0].appendChild(s);\n",
       "      });\n",
       "    }\n",
       "\n",
       "    function showError(err) {\n",
       "      outputDiv.innerHTML = `<div class=\"error\" style=\"color:red;\">${err}</div>`;\n",
       "      throw err;\n",
       "    }\n",
       "\n",
       "    function displayChart(vegaEmbed) {\n",
       "      vegaEmbed(outputDiv, spec, embedOpt)\n",
       "        .catch(err => showError(`Javascript Error: ${err.message}<br>This usually means there's a typo in your chart specification. See the javascript console for the full traceback.`));\n",
       "    }\n",
       "\n",
       "    if(typeof define === \"function\" && define.amd) {\n",
       "      requirejs.config({paths});\n",
       "      require([\"vega-embed\"], displayChart, err => showError(`Error loading script: ${err.message}`));\n",
       "    } else if (typeof vegaEmbed === \"function\") {\n",
       "      displayChart(vegaEmbed);\n",
       "    } else {\n",
       "      loadScript(\"vega\")\n",
       "        .then(() => loadScript(\"vega-lite\"))\n",
       "        .then(() => loadScript(\"vega-embed\"))\n",
       "        .catch(showError)\n",
       "        .then(() => displayChart(vegaEmbed));\n",
       "    }\n",
       "  })({\"config\": {\"axisLeft\": {\"labelFontSize\": 15}, \"axisBottom\": {\"labelFontSize\": 15}}, \"data\": {\"name\": \"data-7f048b6a3b9807da0a4c1a23c16eb2bc\"}, \"mark\": \"bar\", \"encoding\": {\"color\": {\"type\": \"nominal\", \"field\": \"kind\"}, \"tooltip\": {\"type\": \"nominal\", \"field\": \"org\"}, \"x\": {\"type\": \"nominal\", \"field\": \"org\"}, \"y\": {\"type\": \"quantitative\", \"field\": \"count\"}}, \"width\": 600, \"$schema\": \"https://vega.github.io/schema/vega-lite/v4.8.1.json\", \"datasets\": {\"data-7f048b6a3b9807da0a4c1a23c16eb2bc\": [{\"org\": \"jupyter\", \"kind\": \"comments\", \"count\": 8}, {\"org\": \"jupyterhub\", \"kind\": \"comments\", \"count\": 61}, {\"org\": \"jupyterhub\", \"kind\": \"issues\", \"count\": 2}, {\"org\": \"jupyterhub\", \"kind\": \"prs\", \"count\": 11}]}}, {\"mode\": \"vega-lite\"});\n",
       "</script>"
      ],
      "text/plain": [
       "alt.Chart(...)"
      ]
     },
     "execution_count": 12,
     "metadata": {},
     "output_type": "execute_result"
    }
   ],
   "source": [
    "alt.Chart(org_summaries, width=600).mark_bar().encode(\n",
    "    x='org',\n",
    "    y='count',\n",
    "    color='kind',\n",
    "    tooltip=\"org\"\n",
    ")"
   ]
  },
  {
   "cell_type": "markdown",
   "metadata": {
    "papermill": {
     "duration": 0.013777,
     "end_time": "2020-09-22T01:24:10.852333",
     "exception": false,
     "start_time": "2020-09-22T01:24:10.838556",
     "status": "completed"
    },
    "tags": []
   },
   "source": [
    "# By repository over time"
   ]
  },
  {
   "cell_type": "markdown",
   "metadata": {
    "papermill": {
     "duration": 0.012949,
     "end_time": "2020-09-22T01:24:10.878785",
     "exception": false,
     "start_time": "2020-09-22T01:24:10.865836",
     "status": "completed"
    },
    "tags": []
   },
   "source": [
    "## Comments"
   ]
  },
  {
   "cell_type": "code",
   "execution_count": 13,
   "metadata": {
    "execution": {
     "iopub.execute_input": "2020-09-22T01:24:10.912142Z",
     "iopub.status.busy": "2020-09-22T01:24:10.911605Z",
     "iopub.status.idle": "2020-09-22T01:24:10.988327Z",
     "shell.execute_reply": "2020-09-22T01:24:10.988771Z"
    },
    "papermill": {
     "duration": 0.0961,
     "end_time": "2020-09-22T01:24:10.988953",
     "exception": false,
     "start_time": "2020-09-22T01:24:10.892853",
     "status": "completed"
    },
    "tags": [
     "hide_input"
    ]
   },
   "outputs": [
    {
     "data": {
      "text/html": [
       "\n",
       "<div id=\"altair-viz-86afddd7c3234623bf5807b66e2dbd7a\"></div>\n",
       "<script type=\"text/javascript\">\n",
       "  (function(spec, embedOpt){\n",
       "    let outputDiv = document.currentScript.previousElementSibling;\n",
       "    if (outputDiv.id !== \"altair-viz-86afddd7c3234623bf5807b66e2dbd7a\") {\n",
       "      outputDiv = document.getElementById(\"altair-viz-86afddd7c3234623bf5807b66e2dbd7a\");\n",
       "    }\n",
       "    const paths = {\n",
       "      \"vega\": \"https://cdn.jsdelivr.net/npm//vega@5?noext\",\n",
       "      \"vega-lib\": \"https://cdn.jsdelivr.net/npm//vega-lib?noext\",\n",
       "      \"vega-lite\": \"https://cdn.jsdelivr.net/npm//vega-lite@4.8.1?noext\",\n",
       "      \"vega-embed\": \"https://cdn.jsdelivr.net/npm//vega-embed@6?noext\",\n",
       "    };\n",
       "\n",
       "    function loadScript(lib) {\n",
       "      return new Promise(function(resolve, reject) {\n",
       "        var s = document.createElement('script');\n",
       "        s.src = paths[lib];\n",
       "        s.async = true;\n",
       "        s.onload = () => resolve(paths[lib]);\n",
       "        s.onerror = () => reject(`Error loading script: ${paths[lib]}`);\n",
       "        document.getElementsByTagName(\"head\")[0].appendChild(s);\n",
       "      });\n",
       "    }\n",
       "\n",
       "    function showError(err) {\n",
       "      outputDiv.innerHTML = `<div class=\"error\" style=\"color:red;\">${err}</div>`;\n",
       "      throw err;\n",
       "    }\n",
       "\n",
       "    function displayChart(vegaEmbed) {\n",
       "      vegaEmbed(outputDiv, spec, embedOpt)\n",
       "        .catch(err => showError(`Javascript Error: ${err.message}<br>This usually means there's a typo in your chart specification. See the javascript console for the full traceback.`));\n",
       "    }\n",
       "\n",
       "    if(typeof define === \"function\" && define.amd) {\n",
       "      requirejs.config({paths});\n",
       "      require([\"vega-embed\"], displayChart, err => showError(`Error loading script: ${err.message}`));\n",
       "    } else if (typeof vegaEmbed === \"function\") {\n",
       "      displayChart(vegaEmbed);\n",
       "    } else {\n",
       "      loadScript(\"vega\")\n",
       "        .then(() => loadScript(\"vega-lite\"))\n",
       "        .then(() => loadScript(\"vega-embed\"))\n",
       "        .catch(showError)\n",
       "        .then(() => displayChart(vegaEmbed));\n",
       "    }\n",
       "  })({\"config\": {\"axisLeft\": {\"labelFontSize\": 15}, \"axisBottom\": {\"labelFontSize\": 15}}, \"layer\": [{\"data\": {\"name\": \"data-a05a09ebb8d59d2937d18cb7965369e1\"}, \"mark\": \"line\", \"encoding\": {\"color\": {\"type\": \"nominal\", \"field\": \"repo\"}, \"tooltip\": {\"type\": \"nominal\", \"field\": \"repo\"}, \"x\": {\"type\": \"temporal\", \"field\": \"createdAt\"}, \"y\": {\"type\": \"quantitative\", \"field\": \"count\"}}, \"width\": 600}, {\"data\": {\"name\": \"data-033b0d7dcb2ff8e183aae67ba4a3e0c4\"}, \"mark\": {\"type\": \"line\", \"color\": \"black\"}, \"encoding\": {\"x\": {\"type\": \"temporal\", \"field\": \"createdAt\"}, \"y\": {\"type\": \"quantitative\", \"field\": \"count\"}}, \"width\": 600}], \"$schema\": \"https://vega.github.io/schema/vega-lite/v4.8.1.json\", \"datasets\": {\"data-a05a09ebb8d59d2937d18cb7965369e1\": [{\"repo\": \"jupyter-server-proxy\", \"createdAt\": \"2020-08-23T00:00:00\", \"count\": 1}, {\"repo\": \"jupyter-server-proxy\", \"createdAt\": \"2020-08-30T00:00:00\", \"count\": 0}, {\"repo\": \"jupyter-server-proxy\", \"createdAt\": \"2020-09-06T00:00:00\", \"count\": 0}, {\"repo\": \"jupyter-server-proxy\", \"createdAt\": \"2020-09-13T00:00:00\", \"count\": 0}, {\"repo\": \"jupyter-server-proxy\", \"createdAt\": \"2020-09-20T00:00:00\", \"count\": 3}, {\"repo\": \"jupyterhub\", \"createdAt\": \"2020-09-20T00:00:00\", \"count\": 2}, {\"repo\": \"jupyterhub-idle-culler\", \"createdAt\": \"2020-08-16T00:00:00\", \"count\": 1}, {\"repo\": \"kubespawner\", \"createdAt\": \"2020-08-02T00:00:00\", \"count\": 1}, {\"repo\": \"kubespawner\", \"createdAt\": \"2020-08-09T00:00:00\", \"count\": 0}, {\"repo\": \"kubespawner\", \"createdAt\": \"2020-08-16T00:00:00\", \"count\": 0}, {\"repo\": \"kubespawner\", \"createdAt\": \"2020-08-23T00:00:00\", \"count\": 0}, {\"repo\": \"kubespawner\", \"createdAt\": \"2020-08-30T00:00:00\", \"count\": 1}, {\"repo\": \"kubespawner\", \"createdAt\": \"2020-09-06T00:00:00\", \"count\": 6}, {\"repo\": \"kubespawner\", \"createdAt\": \"2020-09-13T00:00:00\", \"count\": 0}, {\"repo\": \"kubespawner\", \"createdAt\": \"2020-09-20T00:00:00\", \"count\": 8}, {\"repo\": \"mybinder.org-deploy\", \"createdAt\": \"2020-09-06T00:00:00\", \"count\": 2}, {\"repo\": \"mybinder.org-deploy\", \"createdAt\": \"2020-09-13T00:00:00\", \"count\": 1}, {\"repo\": \"nbgitpuller\", \"createdAt\": \"2020-08-02T00:00:00\", \"count\": 7}, {\"repo\": \"nbgitpuller\", \"createdAt\": \"2020-08-09T00:00:00\", \"count\": 2}, {\"repo\": \"nbgitpuller\", \"createdAt\": \"2020-08-16T00:00:00\", \"count\": 0}, {\"repo\": \"nbgitpuller\", \"createdAt\": \"2020-08-23T00:00:00\", \"count\": 0}, {\"repo\": \"nbgitpuller\", \"createdAt\": \"2020-08-30T00:00:00\", \"count\": 0}, {\"repo\": \"nbgitpuller\", \"createdAt\": \"2020-09-06T00:00:00\", \"count\": 0}, {\"repo\": \"nbgitpuller\", \"createdAt\": \"2020-09-13T00:00:00\", \"count\": 0}, {\"repo\": \"nbgitpuller\", \"createdAt\": \"2020-09-20T00:00:00\", \"count\": 1}, {\"repo\": \"oauthenticator\", \"createdAt\": \"2020-09-06T00:00:00\", \"count\": 1}, {\"repo\": \"team-compass\", \"createdAt\": \"2020-08-16T00:00:00\", \"count\": 1}, {\"repo\": \"team-compass\", \"createdAt\": \"2020-08-23T00:00:00\", \"count\": 1}, {\"repo\": \"team-compass\", \"createdAt\": \"2020-08-30T00:00:00\", \"count\": 0}, {\"repo\": \"team-compass\", \"createdAt\": \"2020-09-06T00:00:00\", \"count\": 0}, {\"repo\": \"team-compass\", \"createdAt\": \"2020-09-13T00:00:00\", \"count\": 1}, {\"repo\": \"telemetry\", \"createdAt\": \"2020-08-16T00:00:00\", \"count\": 1}, {\"repo\": \"telemetry\", \"createdAt\": \"2020-08-23T00:00:00\", \"count\": 0}, {\"repo\": \"telemetry\", \"createdAt\": \"2020-08-30T00:00:00\", \"count\": 1}, {\"repo\": \"telemetry\", \"createdAt\": \"2020-09-06T00:00:00\", \"count\": 0}, {\"repo\": \"telemetry\", \"createdAt\": \"2020-09-13T00:00:00\", \"count\": 6}, {\"repo\": \"the-littlest-jupyterhub\", \"createdAt\": \"2020-08-16T00:00:00\", \"count\": 2}, {\"repo\": \"the-littlest-jupyterhub\", \"createdAt\": \"2020-08-23T00:00:00\", \"count\": 1}, {\"repo\": \"the-littlest-jupyterhub\", \"createdAt\": \"2020-08-30T00:00:00\", \"count\": 0}, {\"repo\": \"the-littlest-jupyterhub\", \"createdAt\": \"2020-09-06T00:00:00\", \"count\": 0}, {\"repo\": \"the-littlest-jupyterhub\", \"createdAt\": \"2020-09-13T00:00:00\", \"count\": 0}, {\"repo\": \"the-littlest-jupyterhub\", \"createdAt\": \"2020-09-20T00:00:00\", \"count\": 1}, {\"repo\": \"zero-to-jupyterhub-k8s\", \"createdAt\": \"2020-08-02T00:00:00\", \"count\": 1}, {\"repo\": \"zero-to-jupyterhub-k8s\", \"createdAt\": \"2020-08-09T00:00:00\", \"count\": 0}, {\"repo\": \"zero-to-jupyterhub-k8s\", \"createdAt\": \"2020-08-16T00:00:00\", \"count\": 0}, {\"repo\": \"zero-to-jupyterhub-k8s\", \"createdAt\": \"2020-08-23T00:00:00\", \"count\": 0}, {\"repo\": \"zero-to-jupyterhub-k8s\", \"createdAt\": \"2020-08-30T00:00:00\", \"count\": 3}, {\"repo\": \"zero-to-jupyterhub-k8s\", \"createdAt\": \"2020-09-06T00:00:00\", \"count\": 9}, {\"repo\": \"zero-to-jupyterhub-k8s\", \"createdAt\": \"2020-09-13T00:00:00\", \"count\": 3}, {\"repo\": \"zero-to-jupyterhub-k8s\", \"createdAt\": \"2020-09-20T00:00:00\", \"count\": 1}], \"data-033b0d7dcb2ff8e183aae67ba4a3e0c4\": [{\"createdAt\": \"2020-08-02T00:00:00\", \"count\": 9}, {\"createdAt\": \"2020-08-09T00:00:00\", \"count\": 2}, {\"createdAt\": \"2020-08-16T00:00:00\", \"count\": 5}, {\"createdAt\": \"2020-08-23T00:00:00\", \"count\": 3}, {\"createdAt\": \"2020-08-30T00:00:00\", \"count\": 5}, {\"createdAt\": \"2020-09-06T00:00:00\", \"count\": 18}, {\"createdAt\": \"2020-09-13T00:00:00\", \"count\": 11}, {\"createdAt\": \"2020-09-20T00:00:00\", \"count\": 16}]}}, {\"mode\": \"vega-lite\"});\n",
       "</script>"
      ],
      "text/plain": [
       "alt.LayerChart(...)"
      ]
     },
     "execution_count": 13,
     "metadata": {},
     "output_type": "execute_result"
    }
   ],
   "source": [
    "comments_time = comments.groupby('repo').resample('W', on='createdAt').count()['author'].reset_index()\n",
    "comments_time = comments_time.rename(columns={'author': 'count'})\n",
    "comments_time_total = comments_time.groupby('createdAt').agg({\"count\": \"sum\"}).reset_index()\n",
    "ch1 = alt.Chart(comments_time, width=600).mark_line().encode(\n",
    "    x='createdAt',\n",
    "    y='count',\n",
    "    color='repo',\n",
    "    tooltip=\"repo\"\n",
    ")\n",
    "\n",
    "ch2 = alt.Chart(comments_time_total, width=600).mark_line(color=\"black\").encode(\n",
    "    x='createdAt',\n",
    "    y='count',\n",
    ")\n",
    "\n",
    "ch1 + ch2"
   ]
  },
  {
   "cell_type": "markdown",
   "metadata": {
    "papermill": {
     "duration": 0.014195,
     "end_time": "2020-09-22T01:24:11.018982",
     "exception": false,
     "start_time": "2020-09-22T01:24:11.004787",
     "status": "completed"
    },
    "tags": []
   },
   "source": [
    "## PRs"
   ]
  },
  {
   "cell_type": "code",
   "execution_count": 14,
   "metadata": {
    "execution": {
     "iopub.execute_input": "2020-09-22T01:24:11.058021Z",
     "iopub.status.busy": "2020-09-22T01:24:11.057471Z",
     "iopub.status.idle": "2020-09-22T01:24:11.116168Z",
     "shell.execute_reply": "2020-09-22T01:24:11.116685Z"
    },
    "papermill": {
     "duration": 0.084084,
     "end_time": "2020-09-22T01:24:11.116811",
     "exception": false,
     "start_time": "2020-09-22T01:24:11.032727",
     "status": "completed"
    },
    "tags": [
     "hide_input"
    ]
   },
   "outputs": [
    {
     "data": {
      "text/html": [
       "\n",
       "<div id=\"altair-viz-ef6c6930def046bda5900ffb6865a62e\"></div>\n",
       "<script type=\"text/javascript\">\n",
       "  (function(spec, embedOpt){\n",
       "    let outputDiv = document.currentScript.previousElementSibling;\n",
       "    if (outputDiv.id !== \"altair-viz-ef6c6930def046bda5900ffb6865a62e\") {\n",
       "      outputDiv = document.getElementById(\"altair-viz-ef6c6930def046bda5900ffb6865a62e\");\n",
       "    }\n",
       "    const paths = {\n",
       "      \"vega\": \"https://cdn.jsdelivr.net/npm//vega@5?noext\",\n",
       "      \"vega-lib\": \"https://cdn.jsdelivr.net/npm//vega-lib?noext\",\n",
       "      \"vega-lite\": \"https://cdn.jsdelivr.net/npm//vega-lite@4.8.1?noext\",\n",
       "      \"vega-embed\": \"https://cdn.jsdelivr.net/npm//vega-embed@6?noext\",\n",
       "    };\n",
       "\n",
       "    function loadScript(lib) {\n",
       "      return new Promise(function(resolve, reject) {\n",
       "        var s = document.createElement('script');\n",
       "        s.src = paths[lib];\n",
       "        s.async = true;\n",
       "        s.onload = () => resolve(paths[lib]);\n",
       "        s.onerror = () => reject(`Error loading script: ${paths[lib]}`);\n",
       "        document.getElementsByTagName(\"head\")[0].appendChild(s);\n",
       "      });\n",
       "    }\n",
       "\n",
       "    function showError(err) {\n",
       "      outputDiv.innerHTML = `<div class=\"error\" style=\"color:red;\">${err}</div>`;\n",
       "      throw err;\n",
       "    }\n",
       "\n",
       "    function displayChart(vegaEmbed) {\n",
       "      vegaEmbed(outputDiv, spec, embedOpt)\n",
       "        .catch(err => showError(`Javascript Error: ${err.message}<br>This usually means there's a typo in your chart specification. See the javascript console for the full traceback.`));\n",
       "    }\n",
       "\n",
       "    if(typeof define === \"function\" && define.amd) {\n",
       "      requirejs.config({paths});\n",
       "      require([\"vega-embed\"], displayChart, err => showError(`Error loading script: ${err.message}`));\n",
       "    } else if (typeof vegaEmbed === \"function\") {\n",
       "      displayChart(vegaEmbed);\n",
       "    } else {\n",
       "      loadScript(\"vega\")\n",
       "        .then(() => loadScript(\"vega-lite\"))\n",
       "        .then(() => loadScript(\"vega-embed\"))\n",
       "        .catch(showError)\n",
       "        .then(() => displayChart(vegaEmbed));\n",
       "    }\n",
       "  })({\"config\": {\"axisLeft\": {\"labelFontSize\": 15}, \"axisBottom\": {\"labelFontSize\": 15}}, \"layer\": [{\"data\": {\"name\": \"data-382d4a457be12f7e1a4874410e21e724\"}, \"mark\": \"line\", \"encoding\": {\"color\": {\"type\": \"nominal\", \"field\": \"repo\"}, \"tooltip\": {\"type\": \"nominal\", \"field\": \"repo\"}, \"x\": {\"type\": \"temporal\", \"field\": \"createdAt\"}, \"y\": {\"type\": \"quantitative\", \"field\": \"count\"}}, \"width\": 600}, {\"data\": {\"name\": \"data-830ebc76d99155f007ce2a68822c9dff\"}, \"mark\": {\"type\": \"line\", \"color\": \"black\"}, \"encoding\": {\"x\": {\"type\": \"temporal\", \"field\": \"createdAt\"}, \"y\": {\"type\": \"quantitative\", \"field\": \"count\"}}, \"width\": 600}], \"$schema\": \"https://vega.github.io/schema/vega-lite/v4.8.1.json\", \"datasets\": {\"data-382d4a457be12f7e1a4874410e21e724\": [{\"repo\": \"jupyterhub\", \"createdAt\": \"2019-06-09T00:00:00\", \"count\": 1}, {\"repo\": \"jupyterhub\", \"createdAt\": \"2019-06-16T00:00:00\", \"count\": 0}, {\"repo\": \"jupyterhub\", \"createdAt\": \"2019-06-23T00:00:00\", \"count\": 0}, {\"repo\": \"jupyterhub\", \"createdAt\": \"2019-06-30T00:00:00\", \"count\": 0}, {\"repo\": \"jupyterhub\", \"createdAt\": \"2019-07-07T00:00:00\", \"count\": 0}, {\"repo\": \"jupyterhub\", \"createdAt\": \"2019-07-14T00:00:00\", \"count\": 0}, {\"repo\": \"jupyterhub\", \"createdAt\": \"2019-07-21T00:00:00\", \"count\": 0}, {\"repo\": \"jupyterhub\", \"createdAt\": \"2019-07-28T00:00:00\", \"count\": 0}, {\"repo\": \"jupyterhub\", \"createdAt\": \"2019-08-04T00:00:00\", \"count\": 0}, {\"repo\": \"jupyterhub\", \"createdAt\": \"2019-08-11T00:00:00\", \"count\": 0}, {\"repo\": \"jupyterhub\", \"createdAt\": \"2019-08-18T00:00:00\", \"count\": 0}, {\"repo\": \"jupyterhub\", \"createdAt\": \"2019-08-25T00:00:00\", \"count\": 0}, {\"repo\": \"jupyterhub\", \"createdAt\": \"2019-09-01T00:00:00\", \"count\": 0}, {\"repo\": \"jupyterhub\", \"createdAt\": \"2019-09-08T00:00:00\", \"count\": 0}, {\"repo\": \"jupyterhub\", \"createdAt\": \"2019-09-15T00:00:00\", \"count\": 0}, {\"repo\": \"jupyterhub\", \"createdAt\": \"2019-09-22T00:00:00\", \"count\": 0}, {\"repo\": \"jupyterhub\", \"createdAt\": \"2019-09-29T00:00:00\", \"count\": 0}, {\"repo\": \"jupyterhub\", \"createdAt\": \"2019-10-06T00:00:00\", \"count\": 0}, {\"repo\": \"jupyterhub\", \"createdAt\": \"2019-10-13T00:00:00\", \"count\": 0}, {\"repo\": \"jupyterhub\", \"createdAt\": \"2019-10-20T00:00:00\", \"count\": 0}, {\"repo\": \"jupyterhub\", \"createdAt\": \"2019-10-27T00:00:00\", \"count\": 0}, {\"repo\": \"jupyterhub\", \"createdAt\": \"2019-11-03T00:00:00\", \"count\": 0}, {\"repo\": \"jupyterhub\", \"createdAt\": \"2019-11-10T00:00:00\", \"count\": 0}, {\"repo\": \"jupyterhub\", \"createdAt\": \"2019-11-17T00:00:00\", \"count\": 0}, {\"repo\": \"jupyterhub\", \"createdAt\": \"2019-11-24T00:00:00\", \"count\": 0}, {\"repo\": \"jupyterhub\", \"createdAt\": \"2019-12-01T00:00:00\", \"count\": 0}, {\"repo\": \"jupyterhub\", \"createdAt\": \"2019-12-08T00:00:00\", \"count\": 0}, {\"repo\": \"jupyterhub\", \"createdAt\": \"2019-12-15T00:00:00\", \"count\": 0}, {\"repo\": \"jupyterhub\", \"createdAt\": \"2019-12-22T00:00:00\", \"count\": 0}, {\"repo\": \"jupyterhub\", \"createdAt\": \"2019-12-29T00:00:00\", \"count\": 0}, {\"repo\": \"jupyterhub\", \"createdAt\": \"2020-01-05T00:00:00\", \"count\": 0}, {\"repo\": \"jupyterhub\", \"createdAt\": \"2020-01-12T00:00:00\", \"count\": 0}, {\"repo\": \"jupyterhub\", \"createdAt\": \"2020-01-19T00:00:00\", \"count\": 0}, {\"repo\": \"jupyterhub\", \"createdAt\": \"2020-01-26T00:00:00\", \"count\": 0}, {\"repo\": \"jupyterhub\", \"createdAt\": \"2020-02-02T00:00:00\", \"count\": 0}, {\"repo\": \"jupyterhub\", \"createdAt\": \"2020-02-09T00:00:00\", \"count\": 0}, {\"repo\": \"jupyterhub\", \"createdAt\": \"2020-02-16T00:00:00\", \"count\": 0}, {\"repo\": \"jupyterhub\", \"createdAt\": \"2020-02-23T00:00:00\", \"count\": 0}, {\"repo\": \"jupyterhub\", \"createdAt\": \"2020-03-01T00:00:00\", \"count\": 0}, {\"repo\": \"jupyterhub\", \"createdAt\": \"2020-03-08T00:00:00\", \"count\": 0}, {\"repo\": \"jupyterhub\", \"createdAt\": \"2020-03-15T00:00:00\", \"count\": 0}, {\"repo\": \"jupyterhub\", \"createdAt\": \"2020-03-22T00:00:00\", \"count\": 0}, {\"repo\": \"jupyterhub\", \"createdAt\": \"2020-03-29T00:00:00\", \"count\": 0}, {\"repo\": \"jupyterhub\", \"createdAt\": \"2020-04-05T00:00:00\", \"count\": 0}, {\"repo\": \"jupyterhub\", \"createdAt\": \"2020-04-12T00:00:00\", \"count\": 0}, {\"repo\": \"jupyterhub\", \"createdAt\": \"2020-04-19T00:00:00\", \"count\": 0}, {\"repo\": \"jupyterhub\", \"createdAt\": \"2020-04-26T00:00:00\", \"count\": 0}, {\"repo\": \"jupyterhub\", \"createdAt\": \"2020-05-03T00:00:00\", \"count\": 0}, {\"repo\": \"jupyterhub\", \"createdAt\": \"2020-05-10T00:00:00\", \"count\": 0}, {\"repo\": \"jupyterhub\", \"createdAt\": \"2020-05-17T00:00:00\", \"count\": 0}, {\"repo\": \"jupyterhub\", \"createdAt\": \"2020-05-24T00:00:00\", \"count\": 0}, {\"repo\": \"jupyterhub\", \"createdAt\": \"2020-05-31T00:00:00\", \"count\": 0}, {\"repo\": \"jupyterhub\", \"createdAt\": \"2020-06-07T00:00:00\", \"count\": 0}, {\"repo\": \"jupyterhub\", \"createdAt\": \"2020-06-14T00:00:00\", \"count\": 0}, {\"repo\": \"jupyterhub\", \"createdAt\": \"2020-06-21T00:00:00\", \"count\": 0}, {\"repo\": \"jupyterhub\", \"createdAt\": \"2020-06-28T00:00:00\", \"count\": 0}, {\"repo\": \"jupyterhub\", \"createdAt\": \"2020-07-05T00:00:00\", \"count\": 0}, {\"repo\": \"jupyterhub\", \"createdAt\": \"2020-07-12T00:00:00\", \"count\": 0}, {\"repo\": \"jupyterhub\", \"createdAt\": \"2020-07-19T00:00:00\", \"count\": 0}, {\"repo\": \"jupyterhub\", \"createdAt\": \"2020-07-26T00:00:00\", \"count\": 0}, {\"repo\": \"jupyterhub\", \"createdAt\": \"2020-08-02T00:00:00\", \"count\": 0}, {\"repo\": \"jupyterhub\", \"createdAt\": \"2020-08-09T00:00:00\", \"count\": 0}, {\"repo\": \"jupyterhub\", \"createdAt\": \"2020-08-16T00:00:00\", \"count\": 0}, {\"repo\": \"jupyterhub\", \"createdAt\": \"2020-08-23T00:00:00\", \"count\": 0}, {\"repo\": \"jupyterhub\", \"createdAt\": \"2020-08-30T00:00:00\", \"count\": 0}, {\"repo\": \"jupyterhub\", \"createdAt\": \"2020-09-06T00:00:00\", \"count\": 0}, {\"repo\": \"jupyterhub\", \"createdAt\": \"2020-09-13T00:00:00\", \"count\": 0}, {\"repo\": \"jupyterhub\", \"createdAt\": \"2020-09-20T00:00:00\", \"count\": 1}, {\"repo\": \"kubespawner\", \"createdAt\": \"2020-09-20T00:00:00\", \"count\": 1}, {\"repo\": \"mybinder.org-deploy\", \"createdAt\": \"2018-02-18T00:00:00\", \"count\": 1}, {\"repo\": \"nbgitpuller\", \"createdAt\": \"2020-02-09T00:00:00\", \"count\": 1}, {\"repo\": \"the-littlest-jupyterhub\", \"createdAt\": \"2020-06-28T00:00:00\", \"count\": 1}, {\"repo\": \"the-littlest-jupyterhub\", \"createdAt\": \"2020-07-05T00:00:00\", \"count\": 0}, {\"repo\": \"the-littlest-jupyterhub\", \"createdAt\": \"2020-07-12T00:00:00\", \"count\": 0}, {\"repo\": \"the-littlest-jupyterhub\", \"createdAt\": \"2020-07-19T00:00:00\", \"count\": 0}, {\"repo\": \"the-littlest-jupyterhub\", \"createdAt\": \"2020-07-26T00:00:00\", \"count\": 0}, {\"repo\": \"the-littlest-jupyterhub\", \"createdAt\": \"2020-08-02T00:00:00\", \"count\": 1}, {\"repo\": \"zero-to-jupyterhub-k8s\", \"createdAt\": \"2020-08-30T00:00:00\", \"count\": 1}, {\"repo\": \"zero-to-jupyterhub-k8s\", \"createdAt\": \"2020-09-06T00:00:00\", \"count\": 1}, {\"repo\": \"zero-to-jupyterhub-k8s\", \"createdAt\": \"2020-09-13T00:00:00\", \"count\": 0}, {\"repo\": \"zero-to-jupyterhub-k8s\", \"createdAt\": \"2020-09-20T00:00:00\", \"count\": 2}], \"data-830ebc76d99155f007ce2a68822c9dff\": [{\"createdAt\": \"2018-02-18T00:00:00\", \"count\": 1}, {\"createdAt\": \"2019-06-09T00:00:00\", \"count\": 1}, {\"createdAt\": \"2019-06-16T00:00:00\", \"count\": 0}, {\"createdAt\": \"2019-06-23T00:00:00\", \"count\": 0}, {\"createdAt\": \"2019-06-30T00:00:00\", \"count\": 0}, {\"createdAt\": \"2019-07-07T00:00:00\", \"count\": 0}, {\"createdAt\": \"2019-07-14T00:00:00\", \"count\": 0}, {\"createdAt\": \"2019-07-21T00:00:00\", \"count\": 0}, {\"createdAt\": \"2019-07-28T00:00:00\", \"count\": 0}, {\"createdAt\": \"2019-08-04T00:00:00\", \"count\": 0}, {\"createdAt\": \"2019-08-11T00:00:00\", \"count\": 0}, {\"createdAt\": \"2019-08-18T00:00:00\", \"count\": 0}, {\"createdAt\": \"2019-08-25T00:00:00\", \"count\": 0}, {\"createdAt\": \"2019-09-01T00:00:00\", \"count\": 0}, {\"createdAt\": \"2019-09-08T00:00:00\", \"count\": 0}, {\"createdAt\": \"2019-09-15T00:00:00\", \"count\": 0}, {\"createdAt\": \"2019-09-22T00:00:00\", \"count\": 0}, {\"createdAt\": \"2019-09-29T00:00:00\", \"count\": 0}, {\"createdAt\": \"2019-10-06T00:00:00\", \"count\": 0}, {\"createdAt\": \"2019-10-13T00:00:00\", \"count\": 0}, {\"createdAt\": \"2019-10-20T00:00:00\", \"count\": 0}, {\"createdAt\": \"2019-10-27T00:00:00\", \"count\": 0}, {\"createdAt\": \"2019-11-03T00:00:00\", \"count\": 0}, {\"createdAt\": \"2019-11-10T00:00:00\", \"count\": 0}, {\"createdAt\": \"2019-11-17T00:00:00\", \"count\": 0}, {\"createdAt\": \"2019-11-24T00:00:00\", \"count\": 0}, {\"createdAt\": \"2019-12-01T00:00:00\", \"count\": 0}, {\"createdAt\": \"2019-12-08T00:00:00\", \"count\": 0}, {\"createdAt\": \"2019-12-15T00:00:00\", \"count\": 0}, {\"createdAt\": \"2019-12-22T00:00:00\", \"count\": 0}, {\"createdAt\": \"2019-12-29T00:00:00\", \"count\": 0}, {\"createdAt\": \"2020-01-05T00:00:00\", \"count\": 0}, {\"createdAt\": \"2020-01-12T00:00:00\", \"count\": 0}, {\"createdAt\": \"2020-01-19T00:00:00\", \"count\": 0}, {\"createdAt\": \"2020-01-26T00:00:00\", \"count\": 0}, {\"createdAt\": \"2020-02-02T00:00:00\", \"count\": 0}, {\"createdAt\": \"2020-02-09T00:00:00\", \"count\": 1}, {\"createdAt\": \"2020-02-16T00:00:00\", \"count\": 0}, {\"createdAt\": \"2020-02-23T00:00:00\", \"count\": 0}, {\"createdAt\": \"2020-03-01T00:00:00\", \"count\": 0}, {\"createdAt\": \"2020-03-08T00:00:00\", \"count\": 0}, {\"createdAt\": \"2020-03-15T00:00:00\", \"count\": 0}, {\"createdAt\": \"2020-03-22T00:00:00\", \"count\": 0}, {\"createdAt\": \"2020-03-29T00:00:00\", \"count\": 0}, {\"createdAt\": \"2020-04-05T00:00:00\", \"count\": 0}, {\"createdAt\": \"2020-04-12T00:00:00\", \"count\": 0}, {\"createdAt\": \"2020-04-19T00:00:00\", \"count\": 0}, {\"createdAt\": \"2020-04-26T00:00:00\", \"count\": 0}, {\"createdAt\": \"2020-05-03T00:00:00\", \"count\": 0}, {\"createdAt\": \"2020-05-10T00:00:00\", \"count\": 0}, {\"createdAt\": \"2020-05-17T00:00:00\", \"count\": 0}, {\"createdAt\": \"2020-05-24T00:00:00\", \"count\": 0}, {\"createdAt\": \"2020-05-31T00:00:00\", \"count\": 0}, {\"createdAt\": \"2020-06-07T00:00:00\", \"count\": 0}, {\"createdAt\": \"2020-06-14T00:00:00\", \"count\": 0}, {\"createdAt\": \"2020-06-21T00:00:00\", \"count\": 0}, {\"createdAt\": \"2020-06-28T00:00:00\", \"count\": 1}, {\"createdAt\": \"2020-07-05T00:00:00\", \"count\": 0}, {\"createdAt\": \"2020-07-12T00:00:00\", \"count\": 0}, {\"createdAt\": \"2020-07-19T00:00:00\", \"count\": 0}, {\"createdAt\": \"2020-07-26T00:00:00\", \"count\": 0}, {\"createdAt\": \"2020-08-02T00:00:00\", \"count\": 1}, {\"createdAt\": \"2020-08-09T00:00:00\", \"count\": 0}, {\"createdAt\": \"2020-08-16T00:00:00\", \"count\": 0}, {\"createdAt\": \"2020-08-23T00:00:00\", \"count\": 0}, {\"createdAt\": \"2020-08-30T00:00:00\", \"count\": 1}, {\"createdAt\": \"2020-09-06T00:00:00\", \"count\": 1}, {\"createdAt\": \"2020-09-13T00:00:00\", \"count\": 0}, {\"createdAt\": \"2020-09-20T00:00:00\", \"count\": 4}]}}, {\"mode\": \"vega-lite\"});\n",
       "</script>"
      ],
      "text/plain": [
       "alt.LayerChart(...)"
      ]
     },
     "execution_count": 14,
     "metadata": {},
     "output_type": "execute_result"
    }
   ],
   "source": [
    "prs_time = prs.groupby('repo').resample('W', on='createdAt').count()['author'].reset_index()\n",
    "prs_time = prs_time.rename(columns={'author': 'count'})\n",
    "prs_time_total = prs_time.groupby('createdAt').agg({\"count\": \"sum\"}).reset_index()\n",
    "\n",
    "ch1 = alt.Chart(prs_time, width=600).mark_line().encode(\n",
    "    x='createdAt',\n",
    "    y='count',\n",
    "    color='repo',\n",
    "    tooltip=\"repo\"\n",
    ")\n",
    "\n",
    "ch2 = alt.Chart(prs_time_total, width=600).mark_line(color=\"black\").encode(\n",
    "    x='createdAt',\n",
    "    y='count',\n",
    ")\n",
    "\n",
    "ch1 + ch2"
   ]
  },
  {
   "cell_type": "code",
   "execution_count": 15,
   "metadata": {
    "execution": {
     "iopub.execute_input": "2020-09-22T01:24:11.154102Z",
     "iopub.status.busy": "2020-09-22T01:24:11.153562Z",
     "iopub.status.idle": "2020-09-22T01:24:11.200114Z",
     "shell.execute_reply": "2020-09-22T01:24:11.199597Z"
    },
    "papermill": {
     "duration": 0.067912,
     "end_time": "2020-09-22T01:24:11.200227",
     "exception": false,
     "start_time": "2020-09-22T01:24:11.132315",
     "status": "completed"
    },
    "tags": [
     "hide_input"
    ]
   },
   "outputs": [
    {
     "data": {
      "text/html": [
       "\n",
       "<div id=\"altair-viz-3b2afbf702a2420dad4c61d761246121\"></div>\n",
       "<script type=\"text/javascript\">\n",
       "  (function(spec, embedOpt){\n",
       "    let outputDiv = document.currentScript.previousElementSibling;\n",
       "    if (outputDiv.id !== \"altair-viz-3b2afbf702a2420dad4c61d761246121\") {\n",
       "      outputDiv = document.getElementById(\"altair-viz-3b2afbf702a2420dad4c61d761246121\");\n",
       "    }\n",
       "    const paths = {\n",
       "      \"vega\": \"https://cdn.jsdelivr.net/npm//vega@5?noext\",\n",
       "      \"vega-lib\": \"https://cdn.jsdelivr.net/npm//vega-lib?noext\",\n",
       "      \"vega-lite\": \"https://cdn.jsdelivr.net/npm//vega-lite@4.8.1?noext\",\n",
       "      \"vega-embed\": \"https://cdn.jsdelivr.net/npm//vega-embed@6?noext\",\n",
       "    };\n",
       "\n",
       "    function loadScript(lib) {\n",
       "      return new Promise(function(resolve, reject) {\n",
       "        var s = document.createElement('script');\n",
       "        s.src = paths[lib];\n",
       "        s.async = true;\n",
       "        s.onload = () => resolve(paths[lib]);\n",
       "        s.onerror = () => reject(`Error loading script: ${paths[lib]}`);\n",
       "        document.getElementsByTagName(\"head\")[0].appendChild(s);\n",
       "      });\n",
       "    }\n",
       "\n",
       "    function showError(err) {\n",
       "      outputDiv.innerHTML = `<div class=\"error\" style=\"color:red;\">${err}</div>`;\n",
       "      throw err;\n",
       "    }\n",
       "\n",
       "    function displayChart(vegaEmbed) {\n",
       "      vegaEmbed(outputDiv, spec, embedOpt)\n",
       "        .catch(err => showError(`Javascript Error: ${err.message}<br>This usually means there's a typo in your chart specification. See the javascript console for the full traceback.`));\n",
       "    }\n",
       "\n",
       "    if(typeof define === \"function\" && define.amd) {\n",
       "      requirejs.config({paths});\n",
       "      require([\"vega-embed\"], displayChart, err => showError(`Error loading script: ${err.message}`));\n",
       "    } else if (typeof vegaEmbed === \"function\") {\n",
       "      displayChart(vegaEmbed);\n",
       "    } else {\n",
       "      loadScript(\"vega\")\n",
       "        .then(() => loadScript(\"vega-lite\"))\n",
       "        .then(() => loadScript(\"vega-embed\"))\n",
       "        .catch(showError)\n",
       "        .then(() => displayChart(vegaEmbed));\n",
       "    }\n",
       "  })({\"config\": {\"axisLeft\": {\"labelFontSize\": 15}, \"axisBottom\": {\"labelFontSize\": 15}}, \"data\": {\"name\": \"data-5814e1919e70f65dc81dd871ed6369b6\"}, \"mark\": \"line\", \"encoding\": {\"color\": {\"type\": \"nominal\", \"field\": \"repo\"}, \"tooltip\": {\"type\": \"nominal\", \"field\": \"repo\"}, \"x\": {\"type\": \"temporal\", \"field\": \"closedAt\"}, \"y\": {\"type\": \"quantitative\", \"field\": \"count\"}}, \"width\": 600, \"$schema\": \"https://vega.github.io/schema/vega-lite/v4.8.1.json\", \"datasets\": {\"data-5814e1919e70f65dc81dd871ed6369b6\": [{\"repo\": \"jupyter-server-proxy\", \"closedAt\": \"2020-09-20T00:00:00\", \"count\": 2}, {\"repo\": \"jupyterhub\", \"closedAt\": \"2020-09-20T00:00:00\", \"count\": 1}, {\"repo\": \"kubespawner\", \"closedAt\": \"2020-08-02T00:00:00\", \"count\": 1}, {\"repo\": \"kubespawner\", \"closedAt\": \"2020-08-09T00:00:00\", \"count\": 0}, {\"repo\": \"kubespawner\", \"closedAt\": \"2020-08-16T00:00:00\", \"count\": 0}, {\"repo\": \"kubespawner\", \"closedAt\": \"2020-08-23T00:00:00\", \"count\": 0}, {\"repo\": \"kubespawner\", \"closedAt\": \"2020-08-30T00:00:00\", \"count\": 1}, {\"repo\": \"kubespawner\", \"closedAt\": \"2020-09-06T00:00:00\", \"count\": 3}, {\"repo\": \"kubespawner\", \"closedAt\": \"2020-09-13T00:00:00\", \"count\": 0}, {\"repo\": \"kubespawner\", \"closedAt\": \"2020-09-20T00:00:00\", \"count\": 1}, {\"repo\": \"nbgitpuller\", \"closedAt\": \"2020-08-02T00:00:00\", \"count\": 2}, {\"repo\": \"nbgitpuller\", \"closedAt\": \"2020-08-09T00:00:00\", \"count\": 2}, {\"repo\": \"telemetry\", \"closedAt\": \"2020-08-30T00:00:00\", \"count\": 1}, {\"repo\": \"the-littlest-jupyterhub\", \"closedAt\": \"2020-09-20T00:00:00\", \"count\": 1}, {\"repo\": \"zero-to-jupyterhub-k8s\", \"closedAt\": \"2020-09-06T00:00:00\", \"count\": 4}, {\"repo\": \"zero-to-jupyterhub-k8s\", \"closedAt\": \"2020-09-13T00:00:00\", \"count\": 0}, {\"repo\": \"zero-to-jupyterhub-k8s\", \"closedAt\": \"2020-09-20T00:00:00\", \"count\": 1}]}}, {\"mode\": \"vega-lite\"});\n",
       "</script>"
      ],
      "text/plain": [
       "alt.Chart(...)"
      ]
     },
     "execution_count": 15,
     "metadata": {},
     "output_type": "execute_result"
    }
   ],
   "source": [
    "closed_by_time = closed_by.groupby('repo').resample('W', on='closedAt').count()['author'].reset_index()\n",
    "closed_by_time = closed_by_time.rename(columns={'author': 'count'})\n",
    "\n",
    "alt.Chart(closed_by_time, width=600).mark_line().encode(\n",
    "    x='closedAt',\n",
    "    y='count',\n",
    "    color='repo',\n",
    "    tooltip=\"repo\"\n",
    ")"
   ]
  },
  {
   "cell_type": "markdown",
   "metadata": {
    "papermill": {
     "duration": 0.01494,
     "end_time": "2020-09-22T01:24:11.230741",
     "exception": false,
     "start_time": "2020-09-22T01:24:11.215801",
     "status": "completed"
    },
    "tags": []
   },
   "source": [
    "# By type over time"
   ]
  },
  {
   "cell_type": "code",
   "execution_count": 16,
   "metadata": {
    "execution": {
     "iopub.execute_input": "2020-09-22T01:24:11.300224Z",
     "iopub.status.busy": "2020-09-22T01:24:11.299622Z",
     "iopub.status.idle": "2020-09-22T01:24:11.303364Z",
     "shell.execute_reply": "2020-09-22T01:24:11.302342Z"
    },
    "papermill": {
     "duration": 0.053522,
     "end_time": "2020-09-22T01:24:11.303502",
     "exception": false,
     "start_time": "2020-09-22T01:24:11.249980",
     "status": "completed"
    },
    "tags": [
     "remove_cell"
    ]
   },
   "outputs": [],
   "source": [
    "prs_time = prs[['author', 'createdAt']].resample('W', on='createdAt').count()['author'].reset_index()\n",
    "prs_time = prs_time.rename(columns={'author': 'prs'})\n",
    "comments_time = comments[['author', 'createdAt']].resample('W', on='createdAt').count()['author'].reset_index()\n",
    "comments_time = comments_time.rename(columns={'author': 'comments'})\n",
    "\n",
    "total_time = pd.merge(prs_time, comments_time, on='createdAt', how='outer')\n",
    "total_time = total_time.melt(id_vars='createdAt', var_name=\"kind\", value_name=\"count\")\n"
   ]
  },
  {
   "cell_type": "code",
   "execution_count": 17,
   "metadata": {
    "execution": {
     "iopub.execute_input": "2020-09-22T01:24:11.362448Z",
     "iopub.status.busy": "2020-09-22T01:24:11.343778Z",
     "iopub.status.idle": "2020-09-22T01:24:11.368230Z",
     "shell.execute_reply": "2020-09-22T01:24:11.368716Z"
    },
    "papermill": {
     "duration": 0.048951,
     "end_time": "2020-09-22T01:24:11.368874",
     "exception": false,
     "start_time": "2020-09-22T01:24:11.319923",
     "status": "completed"
    },
    "tags": [
     "hide_input"
    ]
   },
   "outputs": [
    {
     "data": {
      "text/html": [
       "\n",
       "<div id=\"altair-viz-2e6ee18d18e94aa48728ea372ee65928\"></div>\n",
       "<script type=\"text/javascript\">\n",
       "  (function(spec, embedOpt){\n",
       "    let outputDiv = document.currentScript.previousElementSibling;\n",
       "    if (outputDiv.id !== \"altair-viz-2e6ee18d18e94aa48728ea372ee65928\") {\n",
       "      outputDiv = document.getElementById(\"altair-viz-2e6ee18d18e94aa48728ea372ee65928\");\n",
       "    }\n",
       "    const paths = {\n",
       "      \"vega\": \"https://cdn.jsdelivr.net/npm//vega@5?noext\",\n",
       "      \"vega-lib\": \"https://cdn.jsdelivr.net/npm//vega-lib?noext\",\n",
       "      \"vega-lite\": \"https://cdn.jsdelivr.net/npm//vega-lite@4.8.1?noext\",\n",
       "      \"vega-embed\": \"https://cdn.jsdelivr.net/npm//vega-embed@6?noext\",\n",
       "    };\n",
       "\n",
       "    function loadScript(lib) {\n",
       "      return new Promise(function(resolve, reject) {\n",
       "        var s = document.createElement('script');\n",
       "        s.src = paths[lib];\n",
       "        s.async = true;\n",
       "        s.onload = () => resolve(paths[lib]);\n",
       "        s.onerror = () => reject(`Error loading script: ${paths[lib]}`);\n",
       "        document.getElementsByTagName(\"head\")[0].appendChild(s);\n",
       "      });\n",
       "    }\n",
       "\n",
       "    function showError(err) {\n",
       "      outputDiv.innerHTML = `<div class=\"error\" style=\"color:red;\">${err}</div>`;\n",
       "      throw err;\n",
       "    }\n",
       "\n",
       "    function displayChart(vegaEmbed) {\n",
       "      vegaEmbed(outputDiv, spec, embedOpt)\n",
       "        .catch(err => showError(`Javascript Error: ${err.message}<br>This usually means there's a typo in your chart specification. See the javascript console for the full traceback.`));\n",
       "    }\n",
       "\n",
       "    if(typeof define === \"function\" && define.amd) {\n",
       "      requirejs.config({paths});\n",
       "      require([\"vega-embed\"], displayChart, err => showError(`Error loading script: ${err.message}`));\n",
       "    } else if (typeof vegaEmbed === \"function\") {\n",
       "      displayChart(vegaEmbed);\n",
       "    } else {\n",
       "      loadScript(\"vega\")\n",
       "        .then(() => loadScript(\"vega-lite\"))\n",
       "        .then(() => loadScript(\"vega-embed\"))\n",
       "        .catch(showError)\n",
       "        .then(() => displayChart(vegaEmbed));\n",
       "    }\n",
       "  })({\"config\": {\"axisLeft\": {\"labelFontSize\": 15}, \"axisBottom\": {\"labelFontSize\": 15}}, \"data\": {\"name\": \"data-6f37961e52d60f4fe7405860eac65902\"}, \"mark\": \"line\", \"encoding\": {\"color\": {\"type\": \"nominal\", \"field\": \"kind\"}, \"x\": {\"type\": \"temporal\", \"field\": \"createdAt\"}, \"y\": {\"type\": \"quantitative\", \"field\": \"count\"}}, \"width\": 600, \"$schema\": \"https://vega.github.io/schema/vega-lite/v4.8.1.json\", \"datasets\": {\"data-6f37961e52d60f4fe7405860eac65902\": [{\"createdAt\": \"2018-02-18T00:00:00\", \"kind\": \"prs\", \"count\": 1.0}, {\"createdAt\": \"2018-02-25T00:00:00\", \"kind\": \"prs\", \"count\": 0.0}, {\"createdAt\": \"2018-03-04T00:00:00\", \"kind\": \"prs\", \"count\": 0.0}, {\"createdAt\": \"2018-03-11T00:00:00\", \"kind\": \"prs\", \"count\": 0.0}, {\"createdAt\": \"2018-03-18T00:00:00\", \"kind\": \"prs\", \"count\": 0.0}, {\"createdAt\": \"2018-03-25T00:00:00\", \"kind\": \"prs\", \"count\": 0.0}, {\"createdAt\": \"2018-04-01T00:00:00\", \"kind\": \"prs\", \"count\": 0.0}, {\"createdAt\": \"2018-04-08T00:00:00\", \"kind\": \"prs\", \"count\": 0.0}, {\"createdAt\": \"2018-04-15T00:00:00\", \"kind\": \"prs\", \"count\": 0.0}, {\"createdAt\": \"2018-04-22T00:00:00\", \"kind\": \"prs\", \"count\": 0.0}, {\"createdAt\": \"2018-04-29T00:00:00\", \"kind\": \"prs\", \"count\": 0.0}, {\"createdAt\": \"2018-05-06T00:00:00\", \"kind\": \"prs\", \"count\": 0.0}, {\"createdAt\": \"2018-05-13T00:00:00\", \"kind\": \"prs\", \"count\": 0.0}, {\"createdAt\": \"2018-05-20T00:00:00\", \"kind\": \"prs\", \"count\": 0.0}, {\"createdAt\": \"2018-05-27T00:00:00\", \"kind\": \"prs\", \"count\": 0.0}, {\"createdAt\": \"2018-06-03T00:00:00\", \"kind\": \"prs\", \"count\": 0.0}, {\"createdAt\": \"2018-06-10T00:00:00\", \"kind\": \"prs\", \"count\": 0.0}, {\"createdAt\": \"2018-06-17T00:00:00\", \"kind\": \"prs\", \"count\": 0.0}, {\"createdAt\": \"2018-06-24T00:00:00\", \"kind\": \"prs\", \"count\": 0.0}, {\"createdAt\": \"2018-07-01T00:00:00\", \"kind\": \"prs\", \"count\": 0.0}, {\"createdAt\": \"2018-07-08T00:00:00\", \"kind\": \"prs\", \"count\": 0.0}, {\"createdAt\": \"2018-07-15T00:00:00\", \"kind\": \"prs\", \"count\": 0.0}, {\"createdAt\": \"2018-07-22T00:00:00\", \"kind\": \"prs\", \"count\": 0.0}, {\"createdAt\": \"2018-07-29T00:00:00\", \"kind\": \"prs\", \"count\": 0.0}, {\"createdAt\": \"2018-08-05T00:00:00\", \"kind\": \"prs\", \"count\": 0.0}, {\"createdAt\": \"2018-08-12T00:00:00\", \"kind\": \"prs\", \"count\": 0.0}, {\"createdAt\": \"2018-08-19T00:00:00\", \"kind\": \"prs\", \"count\": 0.0}, {\"createdAt\": \"2018-08-26T00:00:00\", \"kind\": \"prs\", \"count\": 0.0}, {\"createdAt\": \"2018-09-02T00:00:00\", \"kind\": \"prs\", \"count\": 0.0}, {\"createdAt\": \"2018-09-09T00:00:00\", \"kind\": \"prs\", \"count\": 0.0}, {\"createdAt\": \"2018-09-16T00:00:00\", \"kind\": \"prs\", \"count\": 0.0}, {\"createdAt\": \"2018-09-23T00:00:00\", \"kind\": \"prs\", \"count\": 0.0}, {\"createdAt\": \"2018-09-30T00:00:00\", \"kind\": \"prs\", \"count\": 0.0}, {\"createdAt\": \"2018-10-07T00:00:00\", \"kind\": \"prs\", \"count\": 0.0}, {\"createdAt\": \"2018-10-14T00:00:00\", \"kind\": \"prs\", \"count\": 0.0}, {\"createdAt\": \"2018-10-21T00:00:00\", \"kind\": \"prs\", \"count\": 0.0}, {\"createdAt\": \"2018-10-28T00:00:00\", \"kind\": \"prs\", \"count\": 0.0}, {\"createdAt\": \"2018-11-04T00:00:00\", \"kind\": \"prs\", \"count\": 0.0}, {\"createdAt\": \"2018-11-11T00:00:00\", \"kind\": \"prs\", \"count\": 0.0}, {\"createdAt\": \"2018-11-18T00:00:00\", \"kind\": \"prs\", \"count\": 0.0}, {\"createdAt\": \"2018-11-25T00:00:00\", \"kind\": \"prs\", \"count\": 0.0}, {\"createdAt\": \"2018-12-02T00:00:00\", \"kind\": \"prs\", \"count\": 0.0}, {\"createdAt\": \"2018-12-09T00:00:00\", \"kind\": \"prs\", \"count\": 0.0}, {\"createdAt\": \"2018-12-16T00:00:00\", \"kind\": \"prs\", \"count\": 0.0}, {\"createdAt\": \"2018-12-23T00:00:00\", \"kind\": \"prs\", \"count\": 0.0}, {\"createdAt\": \"2018-12-30T00:00:00\", \"kind\": \"prs\", \"count\": 0.0}, {\"createdAt\": \"2019-01-06T00:00:00\", \"kind\": \"prs\", \"count\": 0.0}, {\"createdAt\": \"2019-01-13T00:00:00\", \"kind\": \"prs\", \"count\": 0.0}, {\"createdAt\": \"2019-01-20T00:00:00\", \"kind\": \"prs\", \"count\": 0.0}, {\"createdAt\": \"2019-01-27T00:00:00\", \"kind\": \"prs\", \"count\": 0.0}, {\"createdAt\": \"2019-02-03T00:00:00\", \"kind\": \"prs\", \"count\": 0.0}, {\"createdAt\": \"2019-02-10T00:00:00\", \"kind\": \"prs\", \"count\": 0.0}, {\"createdAt\": \"2019-02-17T00:00:00\", \"kind\": \"prs\", \"count\": 0.0}, {\"createdAt\": \"2019-02-24T00:00:00\", \"kind\": \"prs\", \"count\": 0.0}, {\"createdAt\": \"2019-03-03T00:00:00\", \"kind\": \"prs\", \"count\": 0.0}, {\"createdAt\": \"2019-03-10T00:00:00\", \"kind\": \"prs\", \"count\": 0.0}, {\"createdAt\": \"2019-03-17T00:00:00\", \"kind\": \"prs\", \"count\": 0.0}, {\"createdAt\": \"2019-03-24T00:00:00\", \"kind\": \"prs\", \"count\": 0.0}, {\"createdAt\": \"2019-03-31T00:00:00\", \"kind\": \"prs\", \"count\": 0.0}, {\"createdAt\": \"2019-04-07T00:00:00\", \"kind\": \"prs\", \"count\": 0.0}, {\"createdAt\": \"2019-04-14T00:00:00\", \"kind\": \"prs\", \"count\": 0.0}, {\"createdAt\": \"2019-04-21T00:00:00\", \"kind\": \"prs\", \"count\": 0.0}, {\"createdAt\": \"2019-04-28T00:00:00\", \"kind\": \"prs\", \"count\": 0.0}, {\"createdAt\": \"2019-05-05T00:00:00\", \"kind\": \"prs\", \"count\": 0.0}, {\"createdAt\": \"2019-05-12T00:00:00\", \"kind\": \"prs\", \"count\": 0.0}, {\"createdAt\": \"2019-05-19T00:00:00\", \"kind\": \"prs\", \"count\": 0.0}, {\"createdAt\": \"2019-05-26T00:00:00\", \"kind\": \"prs\", \"count\": 0.0}, {\"createdAt\": \"2019-06-02T00:00:00\", \"kind\": \"prs\", \"count\": 0.0}, {\"createdAt\": \"2019-06-09T00:00:00\", \"kind\": \"prs\", \"count\": 1.0}, {\"createdAt\": \"2019-06-16T00:00:00\", \"kind\": \"prs\", \"count\": 0.0}, {\"createdAt\": \"2019-06-23T00:00:00\", \"kind\": \"prs\", \"count\": 0.0}, {\"createdAt\": \"2019-06-30T00:00:00\", \"kind\": \"prs\", \"count\": 0.0}, {\"createdAt\": \"2019-07-07T00:00:00\", \"kind\": \"prs\", \"count\": 0.0}, {\"createdAt\": \"2019-07-14T00:00:00\", \"kind\": \"prs\", \"count\": 0.0}, {\"createdAt\": \"2019-07-21T00:00:00\", \"kind\": \"prs\", \"count\": 0.0}, {\"createdAt\": \"2019-07-28T00:00:00\", \"kind\": \"prs\", \"count\": 0.0}, {\"createdAt\": \"2019-08-04T00:00:00\", \"kind\": \"prs\", \"count\": 0.0}, {\"createdAt\": \"2019-08-11T00:00:00\", \"kind\": \"prs\", \"count\": 0.0}, {\"createdAt\": \"2019-08-18T00:00:00\", \"kind\": \"prs\", \"count\": 0.0}, {\"createdAt\": \"2019-08-25T00:00:00\", \"kind\": \"prs\", \"count\": 0.0}, {\"createdAt\": \"2019-09-01T00:00:00\", \"kind\": \"prs\", \"count\": 0.0}, {\"createdAt\": \"2019-09-08T00:00:00\", \"kind\": \"prs\", \"count\": 0.0}, {\"createdAt\": \"2019-09-15T00:00:00\", \"kind\": \"prs\", \"count\": 0.0}, {\"createdAt\": \"2019-09-22T00:00:00\", \"kind\": \"prs\", \"count\": 0.0}, {\"createdAt\": \"2019-09-29T00:00:00\", \"kind\": \"prs\", \"count\": 0.0}, {\"createdAt\": \"2019-10-06T00:00:00\", \"kind\": \"prs\", \"count\": 0.0}, {\"createdAt\": \"2019-10-13T00:00:00\", \"kind\": \"prs\", \"count\": 0.0}, {\"createdAt\": \"2019-10-20T00:00:00\", \"kind\": \"prs\", \"count\": 0.0}, {\"createdAt\": \"2019-10-27T00:00:00\", \"kind\": \"prs\", \"count\": 0.0}, {\"createdAt\": \"2019-11-03T00:00:00\", \"kind\": \"prs\", \"count\": 0.0}, {\"createdAt\": \"2019-11-10T00:00:00\", \"kind\": \"prs\", \"count\": 0.0}, {\"createdAt\": \"2019-11-17T00:00:00\", \"kind\": \"prs\", \"count\": 0.0}, {\"createdAt\": \"2019-11-24T00:00:00\", \"kind\": \"prs\", \"count\": 0.0}, {\"createdAt\": \"2019-12-01T00:00:00\", \"kind\": \"prs\", \"count\": 0.0}, {\"createdAt\": \"2019-12-08T00:00:00\", \"kind\": \"prs\", \"count\": 0.0}, {\"createdAt\": \"2019-12-15T00:00:00\", \"kind\": \"prs\", \"count\": 0.0}, {\"createdAt\": \"2019-12-22T00:00:00\", \"kind\": \"prs\", \"count\": 0.0}, {\"createdAt\": \"2019-12-29T00:00:00\", \"kind\": \"prs\", \"count\": 0.0}, {\"createdAt\": \"2020-01-05T00:00:00\", \"kind\": \"prs\", \"count\": 0.0}, {\"createdAt\": \"2020-01-12T00:00:00\", \"kind\": \"prs\", \"count\": 0.0}, {\"createdAt\": \"2020-01-19T00:00:00\", \"kind\": \"prs\", \"count\": 0.0}, {\"createdAt\": \"2020-01-26T00:00:00\", \"kind\": \"prs\", \"count\": 0.0}, {\"createdAt\": \"2020-02-02T00:00:00\", \"kind\": \"prs\", \"count\": 0.0}, {\"createdAt\": \"2020-02-09T00:00:00\", \"kind\": \"prs\", \"count\": 1.0}, {\"createdAt\": \"2020-02-16T00:00:00\", \"kind\": \"prs\", \"count\": 0.0}, {\"createdAt\": \"2020-02-23T00:00:00\", \"kind\": \"prs\", \"count\": 0.0}, {\"createdAt\": \"2020-03-01T00:00:00\", \"kind\": \"prs\", \"count\": 0.0}, {\"createdAt\": \"2020-03-08T00:00:00\", \"kind\": \"prs\", \"count\": 0.0}, {\"createdAt\": \"2020-03-15T00:00:00\", \"kind\": \"prs\", \"count\": 0.0}, {\"createdAt\": \"2020-03-22T00:00:00\", \"kind\": \"prs\", \"count\": 0.0}, {\"createdAt\": \"2020-03-29T00:00:00\", \"kind\": \"prs\", \"count\": 0.0}, {\"createdAt\": \"2020-04-05T00:00:00\", \"kind\": \"prs\", \"count\": 0.0}, {\"createdAt\": \"2020-04-12T00:00:00\", \"kind\": \"prs\", \"count\": 0.0}, {\"createdAt\": \"2020-04-19T00:00:00\", \"kind\": \"prs\", \"count\": 0.0}, {\"createdAt\": \"2020-04-26T00:00:00\", \"kind\": \"prs\", \"count\": 0.0}, {\"createdAt\": \"2020-05-03T00:00:00\", \"kind\": \"prs\", \"count\": 0.0}, {\"createdAt\": \"2020-05-10T00:00:00\", \"kind\": \"prs\", \"count\": 0.0}, {\"createdAt\": \"2020-05-17T00:00:00\", \"kind\": \"prs\", \"count\": 0.0}, {\"createdAt\": \"2020-05-24T00:00:00\", \"kind\": \"prs\", \"count\": 0.0}, {\"createdAt\": \"2020-05-31T00:00:00\", \"kind\": \"prs\", \"count\": 0.0}, {\"createdAt\": \"2020-06-07T00:00:00\", \"kind\": \"prs\", \"count\": 0.0}, {\"createdAt\": \"2020-06-14T00:00:00\", \"kind\": \"prs\", \"count\": 0.0}, {\"createdAt\": \"2020-06-21T00:00:00\", \"kind\": \"prs\", \"count\": 0.0}, {\"createdAt\": \"2020-06-28T00:00:00\", \"kind\": \"prs\", \"count\": 1.0}, {\"createdAt\": \"2020-07-05T00:00:00\", \"kind\": \"prs\", \"count\": 0.0}, {\"createdAt\": \"2020-07-12T00:00:00\", \"kind\": \"prs\", \"count\": 0.0}, {\"createdAt\": \"2020-07-19T00:00:00\", \"kind\": \"prs\", \"count\": 0.0}, {\"createdAt\": \"2020-07-26T00:00:00\", \"kind\": \"prs\", \"count\": 0.0}, {\"createdAt\": \"2020-08-02T00:00:00\", \"kind\": \"prs\", \"count\": 1.0}, {\"createdAt\": \"2020-08-09T00:00:00\", \"kind\": \"prs\", \"count\": 0.0}, {\"createdAt\": \"2020-08-16T00:00:00\", \"kind\": \"prs\", \"count\": 0.0}, {\"createdAt\": \"2020-08-23T00:00:00\", \"kind\": \"prs\", \"count\": 0.0}, {\"createdAt\": \"2020-08-30T00:00:00\", \"kind\": \"prs\", \"count\": 1.0}, {\"createdAt\": \"2020-09-06T00:00:00\", \"kind\": \"prs\", \"count\": 1.0}, {\"createdAt\": \"2020-09-13T00:00:00\", \"kind\": \"prs\", \"count\": 0.0}, {\"createdAt\": \"2020-09-20T00:00:00\", \"kind\": \"prs\", \"count\": 4.0}, {\"createdAt\": \"2018-02-18T00:00:00\", \"kind\": \"comments\", \"count\": null}, {\"createdAt\": \"2018-02-25T00:00:00\", \"kind\": \"comments\", \"count\": null}, {\"createdAt\": \"2018-03-04T00:00:00\", \"kind\": \"comments\", \"count\": null}, {\"createdAt\": \"2018-03-11T00:00:00\", \"kind\": \"comments\", \"count\": null}, {\"createdAt\": \"2018-03-18T00:00:00\", \"kind\": \"comments\", \"count\": null}, {\"createdAt\": \"2018-03-25T00:00:00\", \"kind\": \"comments\", \"count\": null}, {\"createdAt\": \"2018-04-01T00:00:00\", \"kind\": \"comments\", \"count\": null}, {\"createdAt\": \"2018-04-08T00:00:00\", \"kind\": \"comments\", \"count\": null}, {\"createdAt\": \"2018-04-15T00:00:00\", \"kind\": \"comments\", \"count\": null}, {\"createdAt\": \"2018-04-22T00:00:00\", \"kind\": \"comments\", \"count\": null}, {\"createdAt\": \"2018-04-29T00:00:00\", \"kind\": \"comments\", \"count\": null}, {\"createdAt\": \"2018-05-06T00:00:00\", \"kind\": \"comments\", \"count\": null}, {\"createdAt\": \"2018-05-13T00:00:00\", \"kind\": \"comments\", \"count\": null}, {\"createdAt\": \"2018-05-20T00:00:00\", \"kind\": \"comments\", \"count\": null}, {\"createdAt\": \"2018-05-27T00:00:00\", \"kind\": \"comments\", \"count\": null}, {\"createdAt\": \"2018-06-03T00:00:00\", \"kind\": \"comments\", \"count\": null}, {\"createdAt\": \"2018-06-10T00:00:00\", \"kind\": \"comments\", \"count\": null}, {\"createdAt\": \"2018-06-17T00:00:00\", \"kind\": \"comments\", \"count\": null}, {\"createdAt\": \"2018-06-24T00:00:00\", \"kind\": \"comments\", \"count\": null}, {\"createdAt\": \"2018-07-01T00:00:00\", \"kind\": \"comments\", \"count\": null}, {\"createdAt\": \"2018-07-08T00:00:00\", \"kind\": \"comments\", \"count\": null}, {\"createdAt\": \"2018-07-15T00:00:00\", \"kind\": \"comments\", \"count\": null}, {\"createdAt\": \"2018-07-22T00:00:00\", \"kind\": \"comments\", \"count\": null}, {\"createdAt\": \"2018-07-29T00:00:00\", \"kind\": \"comments\", \"count\": null}, {\"createdAt\": \"2018-08-05T00:00:00\", \"kind\": \"comments\", \"count\": null}, {\"createdAt\": \"2018-08-12T00:00:00\", \"kind\": \"comments\", \"count\": null}, {\"createdAt\": \"2018-08-19T00:00:00\", \"kind\": \"comments\", \"count\": null}, {\"createdAt\": \"2018-08-26T00:00:00\", \"kind\": \"comments\", \"count\": null}, {\"createdAt\": \"2018-09-02T00:00:00\", \"kind\": \"comments\", \"count\": null}, {\"createdAt\": \"2018-09-09T00:00:00\", \"kind\": \"comments\", \"count\": null}, {\"createdAt\": \"2018-09-16T00:00:00\", \"kind\": \"comments\", \"count\": null}, {\"createdAt\": \"2018-09-23T00:00:00\", \"kind\": \"comments\", \"count\": null}, {\"createdAt\": \"2018-09-30T00:00:00\", \"kind\": \"comments\", \"count\": null}, {\"createdAt\": \"2018-10-07T00:00:00\", \"kind\": \"comments\", \"count\": null}, {\"createdAt\": \"2018-10-14T00:00:00\", \"kind\": \"comments\", \"count\": null}, {\"createdAt\": \"2018-10-21T00:00:00\", \"kind\": \"comments\", \"count\": null}, {\"createdAt\": \"2018-10-28T00:00:00\", \"kind\": \"comments\", \"count\": null}, {\"createdAt\": \"2018-11-04T00:00:00\", \"kind\": \"comments\", \"count\": null}, {\"createdAt\": \"2018-11-11T00:00:00\", \"kind\": \"comments\", \"count\": null}, {\"createdAt\": \"2018-11-18T00:00:00\", \"kind\": \"comments\", \"count\": null}, {\"createdAt\": \"2018-11-25T00:00:00\", \"kind\": \"comments\", \"count\": null}, {\"createdAt\": \"2018-12-02T00:00:00\", \"kind\": \"comments\", \"count\": null}, {\"createdAt\": \"2018-12-09T00:00:00\", \"kind\": \"comments\", \"count\": null}, {\"createdAt\": \"2018-12-16T00:00:00\", \"kind\": \"comments\", \"count\": null}, {\"createdAt\": \"2018-12-23T00:00:00\", \"kind\": \"comments\", \"count\": null}, {\"createdAt\": \"2018-12-30T00:00:00\", \"kind\": \"comments\", \"count\": null}, {\"createdAt\": \"2019-01-06T00:00:00\", \"kind\": \"comments\", \"count\": null}, {\"createdAt\": \"2019-01-13T00:00:00\", \"kind\": \"comments\", \"count\": null}, {\"createdAt\": \"2019-01-20T00:00:00\", \"kind\": \"comments\", \"count\": null}, {\"createdAt\": \"2019-01-27T00:00:00\", \"kind\": \"comments\", \"count\": null}, {\"createdAt\": \"2019-02-03T00:00:00\", \"kind\": \"comments\", \"count\": null}, {\"createdAt\": \"2019-02-10T00:00:00\", \"kind\": \"comments\", \"count\": null}, {\"createdAt\": \"2019-02-17T00:00:00\", \"kind\": \"comments\", \"count\": null}, {\"createdAt\": \"2019-02-24T00:00:00\", \"kind\": \"comments\", \"count\": null}, {\"createdAt\": \"2019-03-03T00:00:00\", \"kind\": \"comments\", \"count\": null}, {\"createdAt\": \"2019-03-10T00:00:00\", \"kind\": \"comments\", \"count\": null}, {\"createdAt\": \"2019-03-17T00:00:00\", \"kind\": \"comments\", \"count\": null}, {\"createdAt\": \"2019-03-24T00:00:00\", \"kind\": \"comments\", \"count\": null}, {\"createdAt\": \"2019-03-31T00:00:00\", \"kind\": \"comments\", \"count\": null}, {\"createdAt\": \"2019-04-07T00:00:00\", \"kind\": \"comments\", \"count\": null}, {\"createdAt\": \"2019-04-14T00:00:00\", \"kind\": \"comments\", \"count\": null}, {\"createdAt\": \"2019-04-21T00:00:00\", \"kind\": \"comments\", \"count\": null}, {\"createdAt\": \"2019-04-28T00:00:00\", \"kind\": \"comments\", \"count\": null}, {\"createdAt\": \"2019-05-05T00:00:00\", \"kind\": \"comments\", \"count\": null}, {\"createdAt\": \"2019-05-12T00:00:00\", \"kind\": \"comments\", \"count\": null}, {\"createdAt\": \"2019-05-19T00:00:00\", \"kind\": \"comments\", \"count\": null}, {\"createdAt\": \"2019-05-26T00:00:00\", \"kind\": \"comments\", \"count\": null}, {\"createdAt\": \"2019-06-02T00:00:00\", \"kind\": \"comments\", \"count\": null}, {\"createdAt\": \"2019-06-09T00:00:00\", \"kind\": \"comments\", \"count\": null}, {\"createdAt\": \"2019-06-16T00:00:00\", \"kind\": \"comments\", \"count\": null}, {\"createdAt\": \"2019-06-23T00:00:00\", \"kind\": \"comments\", \"count\": null}, {\"createdAt\": \"2019-06-30T00:00:00\", \"kind\": \"comments\", \"count\": null}, {\"createdAt\": \"2019-07-07T00:00:00\", \"kind\": \"comments\", \"count\": null}, {\"createdAt\": \"2019-07-14T00:00:00\", \"kind\": \"comments\", \"count\": null}, {\"createdAt\": \"2019-07-21T00:00:00\", \"kind\": \"comments\", \"count\": null}, {\"createdAt\": \"2019-07-28T00:00:00\", \"kind\": \"comments\", \"count\": null}, {\"createdAt\": \"2019-08-04T00:00:00\", \"kind\": \"comments\", \"count\": null}, {\"createdAt\": \"2019-08-11T00:00:00\", \"kind\": \"comments\", \"count\": null}, {\"createdAt\": \"2019-08-18T00:00:00\", \"kind\": \"comments\", \"count\": null}, {\"createdAt\": \"2019-08-25T00:00:00\", \"kind\": \"comments\", \"count\": null}, {\"createdAt\": \"2019-09-01T00:00:00\", \"kind\": \"comments\", \"count\": null}, {\"createdAt\": \"2019-09-08T00:00:00\", \"kind\": \"comments\", \"count\": null}, {\"createdAt\": \"2019-09-15T00:00:00\", \"kind\": \"comments\", \"count\": null}, {\"createdAt\": \"2019-09-22T00:00:00\", \"kind\": \"comments\", \"count\": null}, {\"createdAt\": \"2019-09-29T00:00:00\", \"kind\": \"comments\", \"count\": null}, {\"createdAt\": \"2019-10-06T00:00:00\", \"kind\": \"comments\", \"count\": null}, {\"createdAt\": \"2019-10-13T00:00:00\", \"kind\": \"comments\", \"count\": null}, {\"createdAt\": \"2019-10-20T00:00:00\", \"kind\": \"comments\", \"count\": null}, {\"createdAt\": \"2019-10-27T00:00:00\", \"kind\": \"comments\", \"count\": null}, {\"createdAt\": \"2019-11-03T00:00:00\", \"kind\": \"comments\", \"count\": null}, {\"createdAt\": \"2019-11-10T00:00:00\", \"kind\": \"comments\", \"count\": null}, {\"createdAt\": \"2019-11-17T00:00:00\", \"kind\": \"comments\", \"count\": null}, {\"createdAt\": \"2019-11-24T00:00:00\", \"kind\": \"comments\", \"count\": null}, {\"createdAt\": \"2019-12-01T00:00:00\", \"kind\": \"comments\", \"count\": null}, {\"createdAt\": \"2019-12-08T00:00:00\", \"kind\": \"comments\", \"count\": null}, {\"createdAt\": \"2019-12-15T00:00:00\", \"kind\": \"comments\", \"count\": null}, {\"createdAt\": \"2019-12-22T00:00:00\", \"kind\": \"comments\", \"count\": null}, {\"createdAt\": \"2019-12-29T00:00:00\", \"kind\": \"comments\", \"count\": null}, {\"createdAt\": \"2020-01-05T00:00:00\", \"kind\": \"comments\", \"count\": null}, {\"createdAt\": \"2020-01-12T00:00:00\", \"kind\": \"comments\", \"count\": null}, {\"createdAt\": \"2020-01-19T00:00:00\", \"kind\": \"comments\", \"count\": null}, {\"createdAt\": \"2020-01-26T00:00:00\", \"kind\": \"comments\", \"count\": null}, {\"createdAt\": \"2020-02-02T00:00:00\", \"kind\": \"comments\", \"count\": null}, {\"createdAt\": \"2020-02-09T00:00:00\", \"kind\": \"comments\", \"count\": null}, {\"createdAt\": \"2020-02-16T00:00:00\", \"kind\": \"comments\", \"count\": null}, {\"createdAt\": \"2020-02-23T00:00:00\", \"kind\": \"comments\", \"count\": null}, {\"createdAt\": \"2020-03-01T00:00:00\", \"kind\": \"comments\", \"count\": null}, {\"createdAt\": \"2020-03-08T00:00:00\", \"kind\": \"comments\", \"count\": null}, {\"createdAt\": \"2020-03-15T00:00:00\", \"kind\": \"comments\", \"count\": null}, {\"createdAt\": \"2020-03-22T00:00:00\", \"kind\": \"comments\", \"count\": null}, {\"createdAt\": \"2020-03-29T00:00:00\", \"kind\": \"comments\", \"count\": null}, {\"createdAt\": \"2020-04-05T00:00:00\", \"kind\": \"comments\", \"count\": null}, {\"createdAt\": \"2020-04-12T00:00:00\", \"kind\": \"comments\", \"count\": null}, {\"createdAt\": \"2020-04-19T00:00:00\", \"kind\": \"comments\", \"count\": null}, {\"createdAt\": \"2020-04-26T00:00:00\", \"kind\": \"comments\", \"count\": null}, {\"createdAt\": \"2020-05-03T00:00:00\", \"kind\": \"comments\", \"count\": null}, {\"createdAt\": \"2020-05-10T00:00:00\", \"kind\": \"comments\", \"count\": null}, {\"createdAt\": \"2020-05-17T00:00:00\", \"kind\": \"comments\", \"count\": null}, {\"createdAt\": \"2020-05-24T00:00:00\", \"kind\": \"comments\", \"count\": null}, {\"createdAt\": \"2020-05-31T00:00:00\", \"kind\": \"comments\", \"count\": null}, {\"createdAt\": \"2020-06-07T00:00:00\", \"kind\": \"comments\", \"count\": null}, {\"createdAt\": \"2020-06-14T00:00:00\", \"kind\": \"comments\", \"count\": null}, {\"createdAt\": \"2020-06-21T00:00:00\", \"kind\": \"comments\", \"count\": null}, {\"createdAt\": \"2020-06-28T00:00:00\", \"kind\": \"comments\", \"count\": null}, {\"createdAt\": \"2020-07-05T00:00:00\", \"kind\": \"comments\", \"count\": null}, {\"createdAt\": \"2020-07-12T00:00:00\", \"kind\": \"comments\", \"count\": null}, {\"createdAt\": \"2020-07-19T00:00:00\", \"kind\": \"comments\", \"count\": null}, {\"createdAt\": \"2020-07-26T00:00:00\", \"kind\": \"comments\", \"count\": null}, {\"createdAt\": \"2020-08-02T00:00:00\", \"kind\": \"comments\", \"count\": 9.0}, {\"createdAt\": \"2020-08-09T00:00:00\", \"kind\": \"comments\", \"count\": 2.0}, {\"createdAt\": \"2020-08-16T00:00:00\", \"kind\": \"comments\", \"count\": 5.0}, {\"createdAt\": \"2020-08-23T00:00:00\", \"kind\": \"comments\", \"count\": 3.0}, {\"createdAt\": \"2020-08-30T00:00:00\", \"kind\": \"comments\", \"count\": 5.0}, {\"createdAt\": \"2020-09-06T00:00:00\", \"kind\": \"comments\", \"count\": 18.0}, {\"createdAt\": \"2020-09-13T00:00:00\", \"kind\": \"comments\", \"count\": 11.0}, {\"createdAt\": \"2020-09-20T00:00:00\", \"kind\": \"comments\", \"count\": 16.0}]}}, {\"mode\": \"vega-lite\"});\n",
       "</script>"
      ],
      "text/plain": [
       "alt.Chart(...)"
      ]
     },
     "execution_count": 17,
     "metadata": {},
     "output_type": "execute_result"
    }
   ],
   "source": [
    "alt.Chart(total_time, width=600).mark_line().encode(\n",
    "    x='createdAt',\n",
    "    y='count',\n",
    "    color='kind'\n",
    ")"
   ]
  }
 ],
 "metadata": {
  "kernelspec": {
   "display_name": "Python 3",
   "language": "python",
   "name": "python3"
  },
  "language_info": {
   "codemirror_mode": {
    "name": "ipython",
    "version": 3
   },
   "file_extension": ".py",
   "mimetype": "text/x-python",
   "name": "python",
   "nbconvert_exporter": "python",
   "pygments_lexer": "ipython3",
   "version": "3.7.9"
  },
  "papermill": {
   "duration": 4.03409,
   "end_time": "2020-09-22T01:24:12.588698",
   "environment_variables": {},
   "exception": null,
   "input_path": "./person.ipynb",
   "output_path": "people/yuvipanda.ipynb",
   "parameters": {
    "n_days": 60,
    "person": "yuvipanda"
   },
   "start_time": "2020-09-22T01:24:08.554608",
   "version": "2.1.3"
  },
  "widgets": {
   "application/vnd.jupyter.widget-state+json": {
    "state": {},
    "version_major": 2,
    "version_minor": 0
   }
  }
 },
 "nbformat": 4,
 "nbformat_minor": 4
}