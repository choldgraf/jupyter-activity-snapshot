{
 "cells": [
  {
   "cell_type": "markdown",
   "id": "8a6109e6",
   "metadata": {
    "papermill": {
     "duration": 0.005001,
     "end_time": "2023-03-06T14:44:46.777353",
     "exception": false,
     "start_time": "2023-03-06T14:44:46.772352",
     "status": "completed"
    },
    "tags": []
   },
   "source": [
    "# Report for yuvipanda"
   ]
  },
  {
   "cell_type": "code",
   "execution_count": 1,
   "id": "7c51472f",
   "metadata": {
    "execution": {
     "iopub.execute_input": "2023-03-06T14:44:46.789336Z",
     "iopub.status.busy": "2023-03-06T14:44:46.788785Z",
     "iopub.status.idle": "2023-03-06T14:44:47.623813Z",
     "shell.execute_reply": "2023-03-06T14:44:47.622369Z"
    },
    "papermill": {
     "duration": 0.843657,
     "end_time": "2023-03-06T14:44:47.626192",
     "exception": false,
     "start_time": "2023-03-06T14:44:46.782535",
     "status": "completed"
    },
    "tags": [
     "remove_cell"
    ]
   },
   "outputs": [],
   "source": [
    "import seaborn as sns\n",
    "import pandas as pd\n",
    "import numpy as np\n",
    "import altair as alt\n",
    "from markdown import markdown\n",
    "from IPython.display import Markdown\n",
    "from ipywidgets.widgets import HTML, Tab\n",
    "from ipywidgets import widgets\n",
    "from datetime import timedelta\n",
    "from matplotlib import pyplot as plt\n",
    "import os.path as op\n",
    "\n",
    "from mycode import alt_theme\n",
    "from warnings import simplefilter\n",
    "simplefilter('ignore')"
   ]
  },
  {
   "cell_type": "code",
   "execution_count": 2,
   "id": "d791bd3d",
   "metadata": {
    "execution": {
     "iopub.execute_input": "2023-03-06T14:44:47.639253Z",
     "iopub.status.busy": "2023-03-06T14:44:47.638463Z",
     "iopub.status.idle": "2023-03-06T14:44:47.642106Z",
     "shell.execute_reply": "2023-03-06T14:44:47.641441Z"
    },
    "papermill": {
     "duration": 0.012324,
     "end_time": "2023-03-06T14:44:47.643739",
     "exception": false,
     "start_time": "2023-03-06T14:44:47.631415",
     "status": "completed"
    },
    "tags": [
     "remove_cell"
    ]
   },
   "outputs": [],
   "source": [
    "def author_url(author):\n",
    "    return f\"https://github.com/{author}\""
   ]
  },
  {
   "cell_type": "code",
   "execution_count": 3,
   "id": "84add317",
   "metadata": {
    "execution": {
     "iopub.execute_input": "2023-03-06T14:44:47.652818Z",
     "iopub.status.busy": "2023-03-06T14:44:47.652249Z",
     "iopub.status.idle": "2023-03-06T14:44:47.656342Z",
     "shell.execute_reply": "2023-03-06T14:44:47.655713Z"
    },
    "papermill": {
     "duration": 0.010148,
     "end_time": "2023-03-06T14:44:47.657842",
     "exception": false,
     "start_time": "2023-03-06T14:44:47.647694",
     "status": "completed"
    },
    "tags": [
     "parameters",
     "hide_input"
    ]
   },
   "outputs": [],
   "source": [
    "# Parameters\n",
    "fmt_date = \"{:%Y-%m-%d}\"\n",
    "\n",
    "n_days = 30 * 60\n",
    "start_date = fmt_date.format(pd.datetime.today() - timedelta(days=n_days))\n",
    "end_date = fmt_date.format(pd.datetime.today())\n",
    "\n",
    "renderer = \"html\"\n",
    "person = \"damianavila\""
   ]
  },
  {
   "cell_type": "code",
   "execution_count": 4,
   "id": "36f3ae96",
   "metadata": {
    "execution": {
     "iopub.execute_input": "2023-03-06T14:44:47.666788Z",
     "iopub.status.busy": "2023-03-06T14:44:47.666233Z",
     "iopub.status.idle": "2023-03-06T14:44:47.669383Z",
     "shell.execute_reply": "2023-03-06T14:44:47.668745Z"
    },
    "papermill": {
     "duration": 0.009401,
     "end_time": "2023-03-06T14:44:47.671033",
     "exception": false,
     "start_time": "2023-03-06T14:44:47.661632",
     "status": "completed"
    },
    "tags": [
     "injected-parameters",
     "remove-cell"
    ]
   },
   "outputs": [],
   "source": [
    "# Parameters\n",
    "person = \"yuvipanda\"\n",
    "n_days = 90\n"
   ]
  },
  {
   "cell_type": "code",
   "execution_count": 5,
   "id": "4f4dddce",
   "metadata": {
    "execution": {
     "iopub.execute_input": "2023-03-06T14:44:47.679984Z",
     "iopub.status.busy": "2023-03-06T14:44:47.679767Z",
     "iopub.status.idle": "2023-03-06T14:44:47.686436Z",
     "shell.execute_reply": "2023-03-06T14:44:47.685935Z"
    },
    "papermill": {
     "duration": 0.013004,
     "end_time": "2023-03-06T14:44:47.687970",
     "exception": false,
     "start_time": "2023-03-06T14:44:47.674966",
     "status": "completed"
    },
    "tags": [
     "remove_cell"
    ]
   },
   "outputs": [
    {
     "data": {
      "text/plain": [
       "ThemeRegistry.enable('my_theme')"
      ]
     },
     "execution_count": 5,
     "metadata": {},
     "output_type": "execute_result"
    }
   ],
   "source": [
    "alt.renderers.enable(renderer);\n",
    "alt.themes.register('my_theme', alt_theme)\n",
    "alt.themes.enable(\"my_theme\")"
   ]
  },
  {
   "cell_type": "markdown",
   "id": "1682cc8e",
   "metadata": {
    "papermill": {
     "duration": 0.003942,
     "end_time": "2023-03-06T14:44:47.695908",
     "exception": false,
     "start_time": "2023-03-06T14:44:47.691966",
     "status": "completed"
    },
    "tags": []
   },
   "source": [
    "## Load data"
   ]
  },
  {
   "cell_type": "code",
   "execution_count": 6,
   "id": "fb43c4ef",
   "metadata": {
    "execution": {
     "iopub.execute_input": "2023-03-06T14:44:47.705323Z",
     "iopub.status.busy": "2023-03-06T14:44:47.704852Z",
     "iopub.status.idle": "2023-03-06T14:44:47.829479Z",
     "shell.execute_reply": "2023-03-06T14:44:47.828756Z"
    },
    "papermill": {
     "duration": 0.131714,
     "end_time": "2023-03-06T14:44:47.831660",
     "exception": false,
     "start_time": "2023-03-06T14:44:47.699946",
     "status": "completed"
    },
    "tags": [
     "remove_cell"
    ]
   },
   "outputs": [],
   "source": [
    "from pathlib import Path\n",
    "path_data = Path(\"./\")\n",
    "comments = pd.read_csv(path_data.joinpath('../data/comments.csv'), index_col=0)\n",
    "issues = pd.read_csv(path_data.joinpath('../data/issues.csv'), index_col=0)\n",
    "prs = pd.read_csv(path_data.joinpath('../data/prs.csv'), index_col=0)\n",
    "\n",
    "comments = comments.query('author == @person').drop_duplicates()\n",
    "issues = issues.query('author == @person').drop_duplicates()\n",
    "closed_by = prs.query('mergedBy == @person')\n",
    "prs = prs.query('author == @person').drop_duplicates()"
   ]
  },
  {
   "cell_type": "code",
   "execution_count": 7,
   "id": "d11cda93",
   "metadata": {
    "execution": {
     "iopub.execute_input": "2023-03-06T14:44:47.843332Z",
     "iopub.status.busy": "2023-03-06T14:44:47.843080Z",
     "iopub.status.idle": "2023-03-06T14:44:47.846582Z",
     "shell.execute_reply": "2023-03-06T14:44:47.845940Z"
    },
    "papermill": {
     "duration": 0.011342,
     "end_time": "2023-03-06T14:44:47.848299",
     "exception": false,
     "start_time": "2023-03-06T14:44:47.836957",
     "status": "completed"
    },
    "tags": []
   },
   "outputs": [],
   "source": [
    "if len(prs) == 0:\n",
    "    import sys\n",
    "    print(f\"Empty data for {person}, skipping...\")\n",
    "    sys.exit(0)"
   ]
  },
  {
   "cell_type": "code",
   "execution_count": 8,
   "id": "edd39648",
   "metadata": {
    "execution": {
     "iopub.execute_input": "2023-03-06T14:44:47.857975Z",
     "iopub.status.busy": "2023-03-06T14:44:47.857400Z",
     "iopub.status.idle": "2023-03-06T14:44:47.903730Z",
     "shell.execute_reply": "2023-03-06T14:44:47.903043Z"
    },
    "papermill": {
     "duration": 0.053373,
     "end_time": "2023-03-06T14:44:47.905875",
     "exception": false,
     "start_time": "2023-03-06T14:44:47.852502",
     "status": "completed"
    },
    "tags": [
     "remove_cell"
    ]
   },
   "outputs": [],
   "source": [
    "# Time columns\n",
    "# Also drop dates outside of our range\n",
    "time_columns = ['updatedAt', 'createdAt', 'closedAt']\n",
    "for col in time_columns:\n",
    "    for item in [comments, issues, prs, closed_by]:\n",
    "        if col not in item.columns:\n",
    "            continue\n",
    "        dt = pd.to_datetime(item[col]).dt.tz_localize(None)\n",
    "        item.loc[:, col] = dt\n",
    "        item.query(\"updatedAt < @end_date and updatedAt > @start_date\", inplace=True)"
   ]
  },
  {
   "cell_type": "markdown",
   "id": "62ca4676",
   "metadata": {
    "papermill": {
     "duration": 0.004198,
     "end_time": "2023-03-06T14:44:47.914386",
     "exception": false,
     "start_time": "2023-03-06T14:44:47.910188",
     "status": "completed"
    },
    "tags": []
   },
   "source": [
    "## Repository summaries"
   ]
  },
  {
   "cell_type": "code",
   "execution_count": 9,
   "id": "57190455",
   "metadata": {
    "execution": {
     "iopub.execute_input": "2023-03-06T14:44:47.924227Z",
     "iopub.status.busy": "2023-03-06T14:44:47.923590Z",
     "iopub.status.idle": "2023-03-06T14:44:47.938966Z",
     "shell.execute_reply": "2023-03-06T14:44:47.937550Z"
    },
    "papermill": {
     "duration": 0.022047,
     "end_time": "2023-03-06T14:44:47.940613",
     "exception": false,
     "start_time": "2023-03-06T14:44:47.918566",
     "status": "completed"
    },
    "tags": [
     "remove_cell"
    ]
   },
   "outputs": [],
   "source": [
    "summaries = []\n",
    "for idata, name in [(issues, 'issues'), (prs, 'prs'), (comments, 'comments')]:\n",
    "    idata = idata.groupby([\"repo\", \"org\"]).agg({'id': \"count\"}).reset_index().rename(columns={'id': 'count'})\n",
    "    idata[\"kind\"] = name\n",
    "    summaries.append(idata)\n",
    "summaries = pd.concat(summaries)"
   ]
  },
  {
   "cell_type": "code",
   "execution_count": 10,
   "id": "8a411ff0",
   "metadata": {
    "execution": {
     "iopub.execute_input": "2023-03-06T14:44:47.953063Z",
     "iopub.status.busy": "2023-03-06T14:44:47.952470Z",
     "iopub.status.idle": "2023-03-06T14:44:47.961066Z",
     "shell.execute_reply": "2023-03-06T14:44:47.960482Z"
    },
    "papermill": {
     "duration": 0.017128,
     "end_time": "2023-03-06T14:44:47.962639",
     "exception": false,
     "start_time": "2023-03-06T14:44:47.945511",
     "status": "completed"
    },
    "tags": [
     "remove_cell"
    ]
   },
   "outputs": [],
   "source": [
    "repo_summaries = summaries.groupby([\"repo\", \"kind\"]).agg({\"count\": \"sum\"}).reset_index()\n",
    "org_summaries = summaries.groupby([\"org\", \"kind\"]).agg({\"count\": \"sum\"}).reset_index()"
   ]
  },
  {
   "cell_type": "code",
   "execution_count": 11,
   "id": "dc4001b4",
   "metadata": {
    "execution": {
     "iopub.execute_input": "2023-03-06T14:44:47.972434Z",
     "iopub.status.busy": "2023-03-06T14:44:47.971874Z",
     "iopub.status.idle": "2023-03-06T14:44:47.975863Z",
     "shell.execute_reply": "2023-03-06T14:44:47.975221Z"
    },
    "papermill": {
     "duration": 0.010575,
     "end_time": "2023-03-06T14:44:47.977473",
     "exception": false,
     "start_time": "2023-03-06T14:44:47.966898",
     "status": "completed"
    },
    "tags": [
     "remove_cell"
    ]
   },
   "outputs": [],
   "source": [
    "repo_summaries['logcount'] = np.log(repo_summaries[\"count\"])"
   ]
  },
  {
   "cell_type": "code",
   "execution_count": 12,
   "id": "34c74d63",
   "metadata": {
    "execution": {
     "iopub.execute_input": "2023-03-06T14:44:47.987445Z",
     "iopub.status.busy": "2023-03-06T14:44:47.986858Z",
     "iopub.status.idle": "2023-03-06T14:44:48.072154Z",
     "shell.execute_reply": "2023-03-06T14:44:48.071583Z"
    },
    "papermill": {
     "duration": 0.092258,
     "end_time": "2023-03-06T14:44:48.073888",
     "exception": false,
     "start_time": "2023-03-06T14:44:47.981630",
     "status": "completed"
    },
    "tags": [
     "hide_input"
    ]
   },
   "outputs": [
    {
     "data": {
      "text/html": [
       "\n",
       "<div id=\"altair-viz-3ac19370180b4e69957a4a1a80461ca6\"></div>\n",
       "<script type=\"text/javascript\">\n",
       "  var VEGA_DEBUG = (typeof VEGA_DEBUG == \"undefined\") ? {} : VEGA_DEBUG;\n",
       "  (function(spec, embedOpt){\n",
       "    let outputDiv = document.currentScript.previousElementSibling;\n",
       "    if (outputDiv.id !== \"altair-viz-3ac19370180b4e69957a4a1a80461ca6\") {\n",
       "      outputDiv = document.getElementById(\"altair-viz-3ac19370180b4e69957a4a1a80461ca6\");\n",
       "    }\n",
       "    const paths = {\n",
       "      \"vega\": \"https://cdn.jsdelivr.net/npm//vega@5?noext\",\n",
       "      \"vega-lib\": \"https://cdn.jsdelivr.net/npm//vega-lib?noext\",\n",
       "      \"vega-lite\": \"https://cdn.jsdelivr.net/npm//vega-lite@4.17.0?noext\",\n",
       "      \"vega-embed\": \"https://cdn.jsdelivr.net/npm//vega-embed@6?noext\",\n",
       "    };\n",
       "\n",
       "    function maybeLoadScript(lib, version) {\n",
       "      var key = `${lib.replace(\"-\", \"\")}_version`;\n",
       "      return (VEGA_DEBUG[key] == version) ?\n",
       "        Promise.resolve(paths[lib]) :\n",
       "        new Promise(function(resolve, reject) {\n",
       "          var s = document.createElement('script');\n",
       "          document.getElementsByTagName(\"head\")[0].appendChild(s);\n",
       "          s.async = true;\n",
       "          s.onload = () => {\n",
       "            VEGA_DEBUG[key] = version;\n",
       "            return resolve(paths[lib]);\n",
       "          };\n",
       "          s.onerror = () => reject(`Error loading script: ${paths[lib]}`);\n",
       "          s.src = paths[lib];\n",
       "        });\n",
       "    }\n",
       "\n",
       "    function showError(err) {\n",
       "      outputDiv.innerHTML = `<div class=\"error\" style=\"color:red;\">${err}</div>`;\n",
       "      throw err;\n",
       "    }\n",
       "\n",
       "    function displayChart(vegaEmbed) {\n",
       "      vegaEmbed(outputDiv, spec, embedOpt)\n",
       "        .catch(err => showError(`Javascript Error: ${err.message}<br>This usually means there's a typo in your chart specification. See the javascript console for the full traceback.`));\n",
       "    }\n",
       "\n",
       "    if(typeof define === \"function\" && define.amd) {\n",
       "      requirejs.config({paths});\n",
       "      require([\"vega-embed\"], displayChart, err => showError(`Error loading script: ${err.message}`));\n",
       "    } else {\n",
       "      maybeLoadScript(\"vega\", \"5\")\n",
       "        .then(() => maybeLoadScript(\"vega-lite\", \"4.17.0\"))\n",
       "        .then(() => maybeLoadScript(\"vega-embed\", \"6\"))\n",
       "        .catch(showError)\n",
       "        .then(() => displayChart(vegaEmbed));\n",
       "    }\n",
       "  })({\"config\": {\"axisLeft\": {\"labelFontSize\": 15}, \"axisBottom\": {\"labelFontSize\": 15}}, \"hconcat\": [{\"mark\": \"bar\", \"encoding\": {\"color\": {\"field\": \"kind\", \"type\": \"nominal\"}, \"tooltip\": {\"field\": \"kind\", \"type\": \"nominal\"}, \"x\": {\"field\": \"repo\", \"type\": \"nominal\"}, \"y\": {\"field\": \"count\", \"type\": \"quantitative\"}}, \"title\": \"Activity per repository\", \"width\": 600}, {\"mark\": \"bar\", \"encoding\": {\"color\": {\"field\": \"kind\", \"type\": \"nominal\"}, \"tooltip\": {\"field\": \"kind\", \"type\": \"nominal\"}, \"x\": {\"field\": \"repo\", \"type\": \"nominal\"}, \"y\": {\"field\": \"logcount\", \"type\": \"quantitative\"}}, \"title\": \"Log activity per repository\", \"width\": 600}], \"data\": {\"name\": \"data-57f017bf57c0772f529865a27e84a281\"}, \"$schema\": \"https://vega.github.io/schema/vega-lite/v4.17.0.json\", \"datasets\": {\"data-57f017bf57c0772f529865a27e84a281\": [{\"repo\": \"2i2c-hubs-image\", \"kind\": \"comments\", \"count\": 4, \"logcount\": 1.3862943611198906}, {\"repo\": \"2i2c-hubs-image\", \"kind\": \"prs\", \"count\": 3, \"logcount\": 1.0986122886681096}, {\"repo\": \"cookiecutter-jupyter-book\", \"kind\": \"comments\", \"count\": 1, \"logcount\": 0.0}, {\"repo\": \"cookiecutter-jupyter-book\", \"kind\": \"issues\", \"count\": 1, \"logcount\": 0.0}, {\"repo\": \"default-hub-homepage\", \"kind\": \"prs\", \"count\": 1, \"logcount\": 0.0}, {\"repo\": \"docs\", \"kind\": \"comments\", \"count\": 3, \"logcount\": 1.0986122886681096}, {\"repo\": \"gh-scoped-creds\", \"kind\": \"comments\", \"count\": 3, \"logcount\": 1.0986122886681096}, {\"repo\": \"grafana-dashboards\", \"kind\": \"comments\", \"count\": 10, \"logcount\": 2.3025850929940455}, {\"repo\": \"grafana-dashboards\", \"kind\": \"prs\", \"count\": 8, \"logcount\": 2.0794415416798357}, {\"repo\": \"hub-user-image-template\", \"kind\": \"comments\", \"count\": 1, \"logcount\": 0.0}, {\"repo\": \"hub-user-image-template\", \"kind\": \"prs\", \"count\": 1, \"logcount\": 0.0}, {\"repo\": \"infrastructure\", \"kind\": \"comments\", \"count\": 213, \"logcount\": 5.361292165709425}, {\"repo\": \"infrastructure\", \"kind\": \"issues\", \"count\": 14, \"logcount\": 2.6390573296152584}, {\"repo\": \"infrastructure\", \"kind\": \"prs\", \"count\": 50, \"logcount\": 3.912023005428146}, {\"repo\": \"ipynb\", \"kind\": \"comments\", \"count\": 1, \"logcount\": 0.0}, {\"repo\": \"jupyter-remote-desktop-proxy\", \"kind\": \"comments\", \"count\": 11, \"logcount\": 2.3978952727983707}, {\"repo\": \"jupyter-remote-desktop-proxy\", \"kind\": \"prs\", \"count\": 4, \"logcount\": 1.3862943611198906}, {\"repo\": \"jupyter-server-proxy\", \"kind\": \"comments\", \"count\": 2, \"logcount\": 0.6931471805599453}, {\"repo\": \"jupyterhub\", \"kind\": \"comments\", \"count\": 5, \"logcount\": 1.6094379124341003}, {\"repo\": \"jupyterhub-idle-culler\", \"kind\": \"comments\", \"count\": 1, \"logcount\": 0.0}, {\"repo\": \"jupyterlab-telemetry\", \"kind\": \"comments\", \"count\": 1, \"logcount\": 0.0}, {\"repo\": \"jupyterlab-telemetry\", \"kind\": \"prs\", \"count\": 1, \"logcount\": 0.0}, {\"repo\": \"kubespawner\", \"kind\": \"comments\", \"count\": 4, \"logcount\": 1.3862943611198906}, {\"repo\": \"kubespawner\", \"kind\": \"prs\", \"count\": 1, \"logcount\": 0.0}, {\"repo\": \"leads\", \"kind\": \"comments\", \"count\": 8, \"logcount\": 2.0794415416798357}, {\"repo\": \"ltiauthenticator\", \"kind\": \"comments\", \"count\": 7, \"logcount\": 1.9459101490553132}, {\"repo\": \"ltiauthenticator-ghsa-mcgx-2gcr-p3hp\", \"kind\": \"comments\", \"count\": 8, \"logcount\": 2.0794415416798357}, {\"repo\": \"meta\", \"kind\": \"comments\", \"count\": 22, \"logcount\": 3.0910424533583156}, {\"repo\": \"meta\", \"kind\": \"issues\", \"count\": 8, \"logcount\": 2.0794415416798357}, {\"repo\": \"meta\", \"kind\": \"prs\", \"count\": 1, \"logcount\": 0.0}, {\"repo\": \"nbgitpuller\", \"kind\": \"comments\", \"count\": 6, \"logcount\": 1.791759469228055}, {\"repo\": \"repo2docker\", \"kind\": \"comments\", \"count\": 14, \"logcount\": 2.6390573296152584}, {\"repo\": \"repo2docker\", \"kind\": \"prs\", \"count\": 2, \"logcount\": 0.6931471805599453}, {\"repo\": \"repo2docker-action\", \"kind\": \"comments\", \"count\": 1, \"logcount\": 0.0}, {\"repo\": \"repo2docker-action\", \"kind\": \"prs\", \"count\": 2, \"logcount\": 0.6931471805599453}, {\"repo\": \"researchdelight-image\", \"kind\": \"comments\", \"count\": 2, \"logcount\": 0.6931471805599453}, {\"repo\": \"sphinx-book-theme\", \"kind\": \"comments\", \"count\": 4, \"logcount\": 1.3862943611198906}, {\"repo\": \"systemdspawner\", \"kind\": \"comments\", \"count\": 4, \"logcount\": 1.3862943611198906}, {\"repo\": \"systemdspawner\", \"kind\": \"prs\", \"count\": 2, \"logcount\": 0.6931471805599453}, {\"repo\": \"team-compass\", \"kind\": \"comments\", \"count\": 11, \"logcount\": 2.3978952727983707}, {\"repo\": \"team-compass\", \"kind\": \"issues\", \"count\": 2, \"logcount\": 0.6931471805599453}, {\"repo\": \"the-littlest-jupyterhub\", \"kind\": \"prs\", \"count\": 1, \"logcount\": 0.0}, {\"repo\": \"utoronto-image\", \"kind\": \"prs\", \"count\": 2, \"logcount\": 0.6931471805599453}, {\"repo\": \"utoronto-r-image\", \"kind\": \"prs\", \"count\": 1, \"logcount\": 0.0}, {\"repo\": \"zero-to-jupyterhub-k8s\", \"kind\": \"comments\", \"count\": 4, \"logcount\": 1.3862943611198906}]}}, {\"mode\": \"vega-lite\"});\n",
       "</script>"
      ],
      "text/plain": [
       "alt.HConcatChart(...)"
      ]
     },
     "execution_count": 12,
     "metadata": {},
     "output_type": "execute_result"
    }
   ],
   "source": [
    "ch1 = alt.Chart(repo_summaries, width=600, title=\"Activity per repository\").mark_bar().encode(\n",
    "    x='repo',\n",
    "    y='count',\n",
    "    color='kind',\n",
    "    tooltip=\"kind\"\n",
    ")\n",
    "\n",
    "ch2 = alt.Chart(repo_summaries, width=600, title=\"Log activity per repository\").mark_bar().encode(\n",
    "    x='repo',\n",
    "    y='logcount',\n",
    "    color='kind',\n",
    "    tooltip=\"kind\"\n",
    ")\n",
    "\n",
    "ch1 | ch2"
   ]
  },
  {
   "cell_type": "code",
   "execution_count": 13,
   "id": "c66bcf20",
   "metadata": {
    "execution": {
     "iopub.execute_input": "2023-03-06T14:44:48.087484Z",
     "iopub.status.busy": "2023-03-06T14:44:48.087238Z",
     "iopub.status.idle": "2023-03-06T14:44:48.132950Z",
     "shell.execute_reply": "2023-03-06T14:44:48.132209Z"
    },
    "papermill": {
     "duration": 0.053946,
     "end_time": "2023-03-06T14:44:48.135291",
     "exception": false,
     "start_time": "2023-03-06T14:44:48.081345",
     "status": "completed"
    },
    "tags": [
     "hide_input"
    ]
   },
   "outputs": [
    {
     "data": {
      "text/html": [
       "\n",
       "<div id=\"altair-viz-2b628662d93a4502807b0adddbeddfa8\"></div>\n",
       "<script type=\"text/javascript\">\n",
       "  var VEGA_DEBUG = (typeof VEGA_DEBUG == \"undefined\") ? {} : VEGA_DEBUG;\n",
       "  (function(spec, embedOpt){\n",
       "    let outputDiv = document.currentScript.previousElementSibling;\n",
       "    if (outputDiv.id !== \"altair-viz-2b628662d93a4502807b0adddbeddfa8\") {\n",
       "      outputDiv = document.getElementById(\"altair-viz-2b628662d93a4502807b0adddbeddfa8\");\n",
       "    }\n",
       "    const paths = {\n",
       "      \"vega\": \"https://cdn.jsdelivr.net/npm//vega@5?noext\",\n",
       "      \"vega-lib\": \"https://cdn.jsdelivr.net/npm//vega-lib?noext\",\n",
       "      \"vega-lite\": \"https://cdn.jsdelivr.net/npm//vega-lite@4.17.0?noext\",\n",
       "      \"vega-embed\": \"https://cdn.jsdelivr.net/npm//vega-embed@6?noext\",\n",
       "    };\n",
       "\n",
       "    function maybeLoadScript(lib, version) {\n",
       "      var key = `${lib.replace(\"-\", \"\")}_version`;\n",
       "      return (VEGA_DEBUG[key] == version) ?\n",
       "        Promise.resolve(paths[lib]) :\n",
       "        new Promise(function(resolve, reject) {\n",
       "          var s = document.createElement('script');\n",
       "          document.getElementsByTagName(\"head\")[0].appendChild(s);\n",
       "          s.async = true;\n",
       "          s.onload = () => {\n",
       "            VEGA_DEBUG[key] = version;\n",
       "            return resolve(paths[lib]);\n",
       "          };\n",
       "          s.onerror = () => reject(`Error loading script: ${paths[lib]}`);\n",
       "          s.src = paths[lib];\n",
       "        });\n",
       "    }\n",
       "\n",
       "    function showError(err) {\n",
       "      outputDiv.innerHTML = `<div class=\"error\" style=\"color:red;\">${err}</div>`;\n",
       "      throw err;\n",
       "    }\n",
       "\n",
       "    function displayChart(vegaEmbed) {\n",
       "      vegaEmbed(outputDiv, spec, embedOpt)\n",
       "        .catch(err => showError(`Javascript Error: ${err.message}<br>This usually means there's a typo in your chart specification. See the javascript console for the full traceback.`));\n",
       "    }\n",
       "\n",
       "    if(typeof define === \"function\" && define.amd) {\n",
       "      requirejs.config({paths});\n",
       "      require([\"vega-embed\"], displayChart, err => showError(`Error loading script: ${err.message}`));\n",
       "    } else {\n",
       "      maybeLoadScript(\"vega\", \"5\")\n",
       "        .then(() => maybeLoadScript(\"vega-lite\", \"4.17.0\"))\n",
       "        .then(() => maybeLoadScript(\"vega-embed\", \"6\"))\n",
       "        .catch(showError)\n",
       "        .then(() => displayChart(vegaEmbed));\n",
       "    }\n",
       "  })({\"config\": {\"axisLeft\": {\"labelFontSize\": 15}, \"axisBottom\": {\"labelFontSize\": 15}}, \"data\": {\"name\": \"data-c338b433bbdd98b50e62ede7ef542f8d\"}, \"mark\": \"bar\", \"encoding\": {\"color\": {\"field\": \"kind\", \"type\": \"nominal\"}, \"tooltip\": {\"field\": \"org\", \"type\": \"nominal\"}, \"x\": {\"field\": \"org\", \"type\": \"nominal\"}, \"y\": {\"field\": \"count\", \"type\": \"quantitative\"}}, \"width\": 600, \"$schema\": \"https://vega.github.io/schema/vega-lite/v4.17.0.json\", \"datasets\": {\"data-c338b433bbdd98b50e62ede7ef542f8d\": [{\"org\": \"2i2c-org\", \"kind\": \"comments\", \"count\": 261}, {\"org\": \"2i2c-org\", \"kind\": \"issues\", \"count\": 23}, {\"org\": \"2i2c-org\", \"kind\": \"prs\", \"count\": 59}, {\"org\": \"executablebooks\", \"kind\": \"comments\", \"count\": 5}, {\"org\": \"executablebooks\", \"kind\": \"issues\", \"count\": 1}, {\"org\": \"ipython\", \"kind\": \"comments\", \"count\": 1}, {\"org\": \"jupyterhub\", \"kind\": \"comments\", \"count\": 83}, {\"org\": \"jupyterhub\", \"kind\": \"issues\", \"count\": 1}, {\"org\": \"jupyterhub\", \"kind\": \"prs\", \"count\": 20}, {\"org\": \"jupyterlab\", \"kind\": \"comments\", \"count\": 1}, {\"org\": \"jupyterlab\", \"kind\": \"prs\", \"count\": 1}]}}, {\"mode\": \"vega-lite\"});\n",
       "</script>"
      ],
      "text/plain": [
       "alt.Chart(...)"
      ]
     },
     "execution_count": 13,
     "metadata": {},
     "output_type": "execute_result"
    }
   ],
   "source": [
    "alt.Chart(org_summaries, width=600).mark_bar().encode(\n",
    "    x='org',\n",
    "    y='count',\n",
    "    color='kind',\n",
    "    tooltip=\"org\"\n",
    ")"
   ]
  },
  {
   "cell_type": "markdown",
   "id": "a65f1c7e",
   "metadata": {
    "papermill": {
     "duration": 0.004752,
     "end_time": "2023-03-06T14:44:48.145442",
     "exception": false,
     "start_time": "2023-03-06T14:44:48.140690",
     "status": "completed"
    },
    "tags": []
   },
   "source": [
    "## By repository over time"
   ]
  },
  {
   "cell_type": "markdown",
   "id": "3c085afa",
   "metadata": {
    "papermill": {
     "duration": 0.004595,
     "end_time": "2023-03-06T14:44:48.154769",
     "exception": false,
     "start_time": "2023-03-06T14:44:48.150174",
     "status": "completed"
    },
    "tags": []
   },
   "source": [
    "### Comments"
   ]
  },
  {
   "cell_type": "code",
   "execution_count": 14,
   "id": "a8140d2f",
   "metadata": {
    "execution": {
     "iopub.execute_input": "2023-03-06T14:44:48.165694Z",
     "iopub.status.busy": "2023-03-06T14:44:48.165014Z",
     "iopub.status.idle": "2023-03-06T14:44:48.315353Z",
     "shell.execute_reply": "2023-03-06T14:44:48.314563Z"
    },
    "papermill": {
     "duration": 0.159144,
     "end_time": "2023-03-06T14:44:48.318516",
     "exception": false,
     "start_time": "2023-03-06T14:44:48.159372",
     "status": "completed"
    },
    "tags": [
     "hide_input"
    ]
   },
   "outputs": [
    {
     "data": {
      "text/html": [
       "\n",
       "<div id=\"altair-viz-f87e34c1b98d42a397d9ae8d49ccb3a1\"></div>\n",
       "<script type=\"text/javascript\">\n",
       "  var VEGA_DEBUG = (typeof VEGA_DEBUG == \"undefined\") ? {} : VEGA_DEBUG;\n",
       "  (function(spec, embedOpt){\n",
       "    let outputDiv = document.currentScript.previousElementSibling;\n",
       "    if (outputDiv.id !== \"altair-viz-f87e34c1b98d42a397d9ae8d49ccb3a1\") {\n",
       "      outputDiv = document.getElementById(\"altair-viz-f87e34c1b98d42a397d9ae8d49ccb3a1\");\n",
       "    }\n",
       "    const paths = {\n",
       "      \"vega\": \"https://cdn.jsdelivr.net/npm//vega@5?noext\",\n",
       "      \"vega-lib\": \"https://cdn.jsdelivr.net/npm//vega-lib?noext\",\n",
       "      \"vega-lite\": \"https://cdn.jsdelivr.net/npm//vega-lite@4.17.0?noext\",\n",
       "      \"vega-embed\": \"https://cdn.jsdelivr.net/npm//vega-embed@6?noext\",\n",
       "    };\n",
       "\n",
       "    function maybeLoadScript(lib, version) {\n",
       "      var key = `${lib.replace(\"-\", \"\")}_version`;\n",
       "      return (VEGA_DEBUG[key] == version) ?\n",
       "        Promise.resolve(paths[lib]) :\n",
       "        new Promise(function(resolve, reject) {\n",
       "          var s = document.createElement('script');\n",
       "          document.getElementsByTagName(\"head\")[0].appendChild(s);\n",
       "          s.async = true;\n",
       "          s.onload = () => {\n",
       "            VEGA_DEBUG[key] = version;\n",
       "            return resolve(paths[lib]);\n",
       "          };\n",
       "          s.onerror = () => reject(`Error loading script: ${paths[lib]}`);\n",
       "          s.src = paths[lib];\n",
       "        });\n",
       "    }\n",
       "\n",
       "    function showError(err) {\n",
       "      outputDiv.innerHTML = `<div class=\"error\" style=\"color:red;\">${err}</div>`;\n",
       "      throw err;\n",
       "    }\n",
       "\n",
       "    function displayChart(vegaEmbed) {\n",
       "      vegaEmbed(outputDiv, spec, embedOpt)\n",
       "        .catch(err => showError(`Javascript Error: ${err.message}<br>This usually means there's a typo in your chart specification. See the javascript console for the full traceback.`));\n",
       "    }\n",
       "\n",
       "    if(typeof define === \"function\" && define.amd) {\n",
       "      requirejs.config({paths});\n",
       "      require([\"vega-embed\"], displayChart, err => showError(`Error loading script: ${err.message}`));\n",
       "    } else {\n",
       "      maybeLoadScript(\"vega\", \"5\")\n",
       "        .then(() => maybeLoadScript(\"vega-lite\", \"4.17.0\"))\n",
       "        .then(() => maybeLoadScript(\"vega-embed\", \"6\"))\n",
       "        .catch(showError)\n",
       "        .then(() => displayChart(vegaEmbed));\n",
       "    }\n",
       "  })({\"config\": {\"axisLeft\": {\"labelFontSize\": 15}, \"axisBottom\": {\"labelFontSize\": 15}}, \"layer\": [{\"data\": {\"name\": \"data-861f86656c79eb275934e05c3ffe2dfa\"}, \"mark\": \"line\", \"encoding\": {\"color\": {\"field\": \"repo\", \"type\": \"nominal\"}, \"tooltip\": {\"field\": \"repo\", \"type\": \"nominal\"}, \"x\": {\"field\": \"createdAt\", \"type\": \"temporal\"}, \"y\": {\"field\": \"count\", \"type\": \"quantitative\"}}, \"width\": 600}, {\"data\": {\"name\": \"data-32d58d99b16f742dff3a92795ac8dc99\"}, \"mark\": {\"type\": \"line\", \"color\": \"black\"}, \"encoding\": {\"x\": {\"field\": \"createdAt\", \"type\": \"temporal\"}, \"y\": {\"field\": \"count\", \"type\": \"quantitative\"}}, \"width\": 600}], \"$schema\": \"https://vega.github.io/schema/vega-lite/v4.17.0.json\", \"datasets\": {\"data-861f86656c79eb275934e05c3ffe2dfa\": [{\"repo\": \"2i2c-hubs-image\", \"createdAt\": \"2023-02-19T00:00:00\", \"count\": 4}, {\"repo\": \"cookiecutter-jupyter-book\", \"createdAt\": \"2022-12-18T00:00:00\", \"count\": 1}, {\"repo\": \"docs\", \"createdAt\": \"2022-12-04T00:00:00\", \"count\": 1}, {\"repo\": \"docs\", \"createdAt\": \"2022-12-11T00:00:00\", \"count\": 0}, {\"repo\": \"docs\", \"createdAt\": \"2022-12-18T00:00:00\", \"count\": 0}, {\"repo\": \"docs\", \"createdAt\": \"2022-12-25T00:00:00\", \"count\": 0}, {\"repo\": \"docs\", \"createdAt\": \"2023-01-01T00:00:00\", \"count\": 0}, {\"repo\": \"docs\", \"createdAt\": \"2023-01-08T00:00:00\", \"count\": 0}, {\"repo\": \"docs\", \"createdAt\": \"2023-01-15T00:00:00\", \"count\": 1}, {\"repo\": \"docs\", \"createdAt\": \"2023-01-22T00:00:00\", \"count\": 0}, {\"repo\": \"docs\", \"createdAt\": \"2023-01-29T00:00:00\", \"count\": 0}, {\"repo\": \"docs\", \"createdAt\": \"2023-02-05T00:00:00\", \"count\": 0}, {\"repo\": \"docs\", \"createdAt\": \"2023-02-12T00:00:00\", \"count\": 0}, {\"repo\": \"docs\", \"createdAt\": \"2023-02-19T00:00:00\", \"count\": 0}, {\"repo\": \"docs\", \"createdAt\": \"2023-02-26T00:00:00\", \"count\": 1}, {\"repo\": \"gh-scoped-creds\", \"createdAt\": \"2023-02-05T00:00:00\", \"count\": 1}, {\"repo\": \"gh-scoped-creds\", \"createdAt\": \"2023-02-12T00:00:00\", \"count\": 2}, {\"repo\": \"grafana-dashboards\", \"createdAt\": \"2022-12-11T00:00:00\", \"count\": 2}, {\"repo\": \"grafana-dashboards\", \"createdAt\": \"2022-12-18T00:00:00\", \"count\": 0}, {\"repo\": \"grafana-dashboards\", \"createdAt\": \"2022-12-25T00:00:00\", \"count\": 0}, {\"repo\": \"grafana-dashboards\", \"createdAt\": \"2023-01-01T00:00:00\", \"count\": 0}, {\"repo\": \"grafana-dashboards\", \"createdAt\": \"2023-01-08T00:00:00\", \"count\": 0}, {\"repo\": \"grafana-dashboards\", \"createdAt\": \"2023-01-15T00:00:00\", \"count\": 3}, {\"repo\": \"grafana-dashboards\", \"createdAt\": \"2023-01-22T00:00:00\", \"count\": 2}, {\"repo\": \"grafana-dashboards\", \"createdAt\": \"2023-01-29T00:00:00\", \"count\": 0}, {\"repo\": \"grafana-dashboards\", \"createdAt\": \"2023-02-05T00:00:00\", \"count\": 0}, {\"repo\": \"grafana-dashboards\", \"createdAt\": \"2023-02-12T00:00:00\", \"count\": 1}, {\"repo\": \"grafana-dashboards\", \"createdAt\": \"2023-02-19T00:00:00\", \"count\": 2}, {\"repo\": \"hub-user-image-template\", \"createdAt\": \"2023-02-19T00:00:00\", \"count\": 1}, {\"repo\": \"infrastructure\", \"createdAt\": \"2021-03-07T00:00:00\", \"count\": 1}, {\"repo\": \"infrastructure\", \"createdAt\": \"2021-03-14T00:00:00\", \"count\": 0}, {\"repo\": \"infrastructure\", \"createdAt\": \"2021-03-21T00:00:00\", \"count\": 0}, {\"repo\": \"infrastructure\", \"createdAt\": \"2021-03-28T00:00:00\", \"count\": 0}, {\"repo\": \"infrastructure\", \"createdAt\": \"2021-04-04T00:00:00\", \"count\": 0}, {\"repo\": \"infrastructure\", \"createdAt\": \"2021-04-11T00:00:00\", \"count\": 0}, {\"repo\": \"infrastructure\", \"createdAt\": \"2021-04-18T00:00:00\", \"count\": 0}, {\"repo\": \"infrastructure\", \"createdAt\": \"2021-04-25T00:00:00\", \"count\": 0}, {\"repo\": \"infrastructure\", \"createdAt\": \"2021-05-02T00:00:00\", \"count\": 0}, {\"repo\": \"infrastructure\", \"createdAt\": \"2021-05-09T00:00:00\", \"count\": 0}, {\"repo\": \"infrastructure\", \"createdAt\": \"2021-05-16T00:00:00\", \"count\": 0}, {\"repo\": \"infrastructure\", \"createdAt\": \"2021-05-23T00:00:00\", \"count\": 0}, {\"repo\": \"infrastructure\", \"createdAt\": \"2021-05-30T00:00:00\", \"count\": 3}, {\"repo\": \"infrastructure\", \"createdAt\": \"2021-06-06T00:00:00\", \"count\": 3}, {\"repo\": \"infrastructure\", \"createdAt\": \"2021-06-13T00:00:00\", \"count\": 0}, {\"repo\": \"infrastructure\", \"createdAt\": \"2021-06-20T00:00:00\", \"count\": 0}, {\"repo\": \"infrastructure\", \"createdAt\": \"2021-06-27T00:00:00\", \"count\": 1}, {\"repo\": \"infrastructure\", \"createdAt\": \"2021-07-04T00:00:00\", \"count\": 0}, {\"repo\": \"infrastructure\", \"createdAt\": \"2021-07-11T00:00:00\", \"count\": 0}, {\"repo\": \"infrastructure\", \"createdAt\": \"2021-07-18T00:00:00\", \"count\": 0}, {\"repo\": \"infrastructure\", \"createdAt\": \"2021-07-25T00:00:00\", \"count\": 0}, {\"repo\": \"infrastructure\", \"createdAt\": \"2021-08-01T00:00:00\", \"count\": 0}, {\"repo\": \"infrastructure\", \"createdAt\": \"2021-08-08T00:00:00\", \"count\": 0}, {\"repo\": \"infrastructure\", \"createdAt\": \"2021-08-15T00:00:00\", \"count\": 0}, {\"repo\": \"infrastructure\", \"createdAt\": \"2021-08-22T00:00:00\", \"count\": 0}, {\"repo\": \"infrastructure\", \"createdAt\": \"2021-08-29T00:00:00\", \"count\": 0}, {\"repo\": \"infrastructure\", \"createdAt\": \"2021-09-05T00:00:00\", \"count\": 0}, {\"repo\": \"infrastructure\", \"createdAt\": \"2021-09-12T00:00:00\", \"count\": 0}, {\"repo\": \"infrastructure\", \"createdAt\": \"2021-09-19T00:00:00\", \"count\": 0}, {\"repo\": \"infrastructure\", \"createdAt\": \"2021-09-26T00:00:00\", \"count\": 0}, {\"repo\": \"infrastructure\", \"createdAt\": \"2021-10-03T00:00:00\", \"count\": 0}, {\"repo\": \"infrastructure\", \"createdAt\": \"2021-10-10T00:00:00\", \"count\": 0}, {\"repo\": \"infrastructure\", \"createdAt\": \"2021-10-17T00:00:00\", \"count\": 0}, {\"repo\": \"infrastructure\", \"createdAt\": \"2021-10-24T00:00:00\", \"count\": 0}, {\"repo\": \"infrastructure\", \"createdAt\": \"2021-10-31T00:00:00\", \"count\": 0}, {\"repo\": \"infrastructure\", \"createdAt\": \"2021-11-07T00:00:00\", \"count\": 0}, {\"repo\": \"infrastructure\", \"createdAt\": \"2021-11-14T00:00:00\", \"count\": 0}, {\"repo\": \"infrastructure\", \"createdAt\": \"2021-11-21T00:00:00\", \"count\": 0}, {\"repo\": \"infrastructure\", \"createdAt\": \"2021-11-28T00:00:00\", \"count\": 0}, {\"repo\": \"infrastructure\", \"createdAt\": \"2021-12-05T00:00:00\", \"count\": 0}, {\"repo\": \"infrastructure\", \"createdAt\": \"2021-12-12T00:00:00\", \"count\": 0}, {\"repo\": \"infrastructure\", \"createdAt\": \"2021-12-19T00:00:00\", \"count\": 0}, {\"repo\": \"infrastructure\", \"createdAt\": \"2021-12-26T00:00:00\", \"count\": 0}, {\"repo\": \"infrastructure\", \"createdAt\": \"2022-01-02T00:00:00\", \"count\": 0}, {\"repo\": \"infrastructure\", \"createdAt\": \"2022-01-09T00:00:00\", \"count\": 0}, {\"repo\": \"infrastructure\", \"createdAt\": \"2022-01-16T00:00:00\", \"count\": 0}, {\"repo\": \"infrastructure\", \"createdAt\": \"2022-01-23T00:00:00\", \"count\": 0}, {\"repo\": \"infrastructure\", \"createdAt\": \"2022-01-30T00:00:00\", \"count\": 0}, {\"repo\": \"infrastructure\", \"createdAt\": \"2022-02-06T00:00:00\", \"count\": 0}, {\"repo\": \"infrastructure\", \"createdAt\": \"2022-02-13T00:00:00\", \"count\": 0}, {\"repo\": \"infrastructure\", \"createdAt\": \"2022-02-20T00:00:00\", \"count\": 0}, {\"repo\": \"infrastructure\", \"createdAt\": \"2022-02-27T00:00:00\", \"count\": 1}, {\"repo\": \"infrastructure\", \"createdAt\": \"2022-03-06T00:00:00\", \"count\": 0}, {\"repo\": \"infrastructure\", \"createdAt\": \"2022-03-13T00:00:00\", \"count\": 1}, {\"repo\": \"infrastructure\", \"createdAt\": \"2022-03-20T00:00:00\", \"count\": 0}, {\"repo\": \"infrastructure\", \"createdAt\": \"2022-03-27T00:00:00\", \"count\": 1}, {\"repo\": \"infrastructure\", \"createdAt\": \"2022-04-03T00:00:00\", \"count\": 0}, {\"repo\": \"infrastructure\", \"createdAt\": \"2022-04-10T00:00:00\", \"count\": 0}, {\"repo\": \"infrastructure\", \"createdAt\": \"2022-04-17T00:00:00\", \"count\": 0}, {\"repo\": \"infrastructure\", \"createdAt\": \"2022-04-24T00:00:00\", \"count\": 0}, {\"repo\": \"infrastructure\", \"createdAt\": \"2022-05-01T00:00:00\", \"count\": 0}, {\"repo\": \"infrastructure\", \"createdAt\": \"2022-05-08T00:00:00\", \"count\": 0}, {\"repo\": \"infrastructure\", \"createdAt\": \"2022-05-15T00:00:00\", \"count\": 0}, {\"repo\": \"infrastructure\", \"createdAt\": \"2022-05-22T00:00:00\", \"count\": 0}, {\"repo\": \"infrastructure\", \"createdAt\": \"2022-05-29T00:00:00\", \"count\": 0}, {\"repo\": \"infrastructure\", \"createdAt\": \"2022-06-05T00:00:00\", \"count\": 0}, {\"repo\": \"infrastructure\", \"createdAt\": \"2022-06-12T00:00:00\", \"count\": 0}, {\"repo\": \"infrastructure\", \"createdAt\": \"2022-06-19T00:00:00\", \"count\": 0}, {\"repo\": \"infrastructure\", \"createdAt\": \"2022-06-26T00:00:00\", \"count\": 0}, {\"repo\": \"infrastructure\", \"createdAt\": \"2022-07-03T00:00:00\", \"count\": 1}, {\"repo\": \"infrastructure\", \"createdAt\": \"2022-07-10T00:00:00\", \"count\": 0}, {\"repo\": \"infrastructure\", \"createdAt\": \"2022-07-17T00:00:00\", \"count\": 0}, {\"repo\": \"infrastructure\", \"createdAt\": \"2022-07-24T00:00:00\", \"count\": 0}, {\"repo\": \"infrastructure\", \"createdAt\": \"2022-07-31T00:00:00\", \"count\": 0}, {\"repo\": \"infrastructure\", \"createdAt\": \"2022-08-07T00:00:00\", \"count\": 1}, {\"repo\": \"infrastructure\", \"createdAt\": \"2022-08-14T00:00:00\", \"count\": 0}, {\"repo\": \"infrastructure\", \"createdAt\": \"2022-08-21T00:00:00\", \"count\": 0}, {\"repo\": \"infrastructure\", \"createdAt\": \"2022-08-28T00:00:00\", \"count\": 0}, {\"repo\": \"infrastructure\", \"createdAt\": \"2022-09-04T00:00:00\", \"count\": 0}, {\"repo\": \"infrastructure\", \"createdAt\": \"2022-09-11T00:00:00\", \"count\": 0}, {\"repo\": \"infrastructure\", \"createdAt\": \"2022-09-18T00:00:00\", \"count\": 0}, {\"repo\": \"infrastructure\", \"createdAt\": \"2022-09-25T00:00:00\", \"count\": 1}, {\"repo\": \"infrastructure\", \"createdAt\": \"2022-10-02T00:00:00\", \"count\": 0}, {\"repo\": \"infrastructure\", \"createdAt\": \"2022-10-09T00:00:00\", \"count\": 0}, {\"repo\": \"infrastructure\", \"createdAt\": \"2022-10-16T00:00:00\", \"count\": 1}, {\"repo\": \"infrastructure\", \"createdAt\": \"2022-10-23T00:00:00\", \"count\": 0}, {\"repo\": \"infrastructure\", \"createdAt\": \"2022-10-30T00:00:00\", \"count\": 1}, {\"repo\": \"infrastructure\", \"createdAt\": \"2022-11-06T00:00:00\", \"count\": 2}, {\"repo\": \"infrastructure\", \"createdAt\": \"2022-11-13T00:00:00\", \"count\": 4}, {\"repo\": \"infrastructure\", \"createdAt\": \"2022-11-20T00:00:00\", \"count\": 4}, {\"repo\": \"infrastructure\", \"createdAt\": \"2022-11-27T00:00:00\", \"count\": 3}, {\"repo\": \"infrastructure\", \"createdAt\": \"2022-12-04T00:00:00\", \"count\": 10}, {\"repo\": \"infrastructure\", \"createdAt\": \"2022-12-11T00:00:00\", \"count\": 2}, {\"repo\": \"infrastructure\", \"createdAt\": \"2022-12-18T00:00:00\", \"count\": 19}, {\"repo\": \"infrastructure\", \"createdAt\": \"2022-12-25T00:00:00\", \"count\": 6}, {\"repo\": \"infrastructure\", \"createdAt\": \"2023-01-01T00:00:00\", \"count\": 0}, {\"repo\": \"infrastructure\", \"createdAt\": \"2023-01-08T00:00:00\", \"count\": 6}, {\"repo\": \"infrastructure\", \"createdAt\": \"2023-01-15T00:00:00\", \"count\": 24}, {\"repo\": \"infrastructure\", \"createdAt\": \"2023-01-22T00:00:00\", \"count\": 20}, {\"repo\": \"infrastructure\", \"createdAt\": \"2023-01-29T00:00:00\", \"count\": 3}, {\"repo\": \"infrastructure\", \"createdAt\": \"2023-02-05T00:00:00\", \"count\": 15}, {\"repo\": \"infrastructure\", \"createdAt\": \"2023-02-12T00:00:00\", \"count\": 17}, {\"repo\": \"infrastructure\", \"createdAt\": \"2023-02-19T00:00:00\", \"count\": 27}, {\"repo\": \"infrastructure\", \"createdAt\": \"2023-02-26T00:00:00\", \"count\": 25}, {\"repo\": \"infrastructure\", \"createdAt\": \"2023-03-05T00:00:00\", \"count\": 10}, {\"repo\": \"ipynb\", \"createdAt\": \"2023-01-15T00:00:00\", \"count\": 1}, {\"repo\": \"jupyter-remote-desktop-proxy\", \"createdAt\": \"2023-01-15T00:00:00\", \"count\": 6}, {\"repo\": \"jupyter-remote-desktop-proxy\", \"createdAt\": \"2023-01-22T00:00:00\", \"count\": 5}, {\"repo\": \"jupyter-server-proxy\", \"createdAt\": \"2021-08-29T00:00:00\", \"count\": 1}, {\"repo\": \"jupyter-server-proxy\", \"createdAt\": \"2021-09-05T00:00:00\", \"count\": 0}, {\"repo\": \"jupyter-server-proxy\", \"createdAt\": \"2021-09-12T00:00:00\", \"count\": 0}, {\"repo\": \"jupyter-server-proxy\", \"createdAt\": \"2021-09-19T00:00:00\", \"count\": 0}, {\"repo\": \"jupyter-server-proxy\", \"createdAt\": \"2021-09-26T00:00:00\", \"count\": 0}, {\"repo\": \"jupyter-server-proxy\", \"createdAt\": \"2021-10-03T00:00:00\", \"count\": 0}, {\"repo\": \"jupyter-server-proxy\", \"createdAt\": \"2021-10-10T00:00:00\", \"count\": 0}, {\"repo\": \"jupyter-server-proxy\", \"createdAt\": \"2021-10-17T00:00:00\", \"count\": 0}, {\"repo\": \"jupyter-server-proxy\", \"createdAt\": \"2021-10-24T00:00:00\", \"count\": 0}, {\"repo\": \"jupyter-server-proxy\", \"createdAt\": \"2021-10-31T00:00:00\", \"count\": 0}, {\"repo\": \"jupyter-server-proxy\", \"createdAt\": \"2021-11-07T00:00:00\", \"count\": 0}, {\"repo\": \"jupyter-server-proxy\", \"createdAt\": \"2021-11-14T00:00:00\", \"count\": 0}, {\"repo\": \"jupyter-server-proxy\", \"createdAt\": \"2021-11-21T00:00:00\", \"count\": 0}, {\"repo\": \"jupyter-server-proxy\", \"createdAt\": \"2021-11-28T00:00:00\", \"count\": 0}, {\"repo\": \"jupyter-server-proxy\", \"createdAt\": \"2021-12-05T00:00:00\", \"count\": 0}, {\"repo\": \"jupyter-server-proxy\", \"createdAt\": \"2021-12-12T00:00:00\", \"count\": 0}, {\"repo\": \"jupyter-server-proxy\", \"createdAt\": \"2021-12-19T00:00:00\", \"count\": 0}, {\"repo\": \"jupyter-server-proxy\", \"createdAt\": \"2021-12-26T00:00:00\", \"count\": 0}, {\"repo\": \"jupyter-server-proxy\", \"createdAt\": \"2022-01-02T00:00:00\", \"count\": 0}, {\"repo\": \"jupyter-server-proxy\", \"createdAt\": \"2022-01-09T00:00:00\", \"count\": 0}, {\"repo\": \"jupyter-server-proxy\", \"createdAt\": \"2022-01-16T00:00:00\", \"count\": 0}, {\"repo\": \"jupyter-server-proxy\", \"createdAt\": \"2022-01-23T00:00:00\", \"count\": 0}, {\"repo\": \"jupyter-server-proxy\", \"createdAt\": \"2022-01-30T00:00:00\", \"count\": 0}, {\"repo\": \"jupyter-server-proxy\", \"createdAt\": \"2022-02-06T00:00:00\", \"count\": 0}, {\"repo\": \"jupyter-server-proxy\", \"createdAt\": \"2022-02-13T00:00:00\", \"count\": 0}, {\"repo\": \"jupyter-server-proxy\", \"createdAt\": \"2022-02-20T00:00:00\", \"count\": 0}, {\"repo\": \"jupyter-server-proxy\", \"createdAt\": \"2022-02-27T00:00:00\", \"count\": 0}, {\"repo\": \"jupyter-server-proxy\", \"createdAt\": \"2022-03-06T00:00:00\", \"count\": 0}, {\"repo\": \"jupyter-server-proxy\", \"createdAt\": \"2022-03-13T00:00:00\", \"count\": 0}, {\"repo\": \"jupyter-server-proxy\", \"createdAt\": \"2022-03-20T00:00:00\", \"count\": 0}, {\"repo\": \"jupyter-server-proxy\", \"createdAt\": \"2022-03-27T00:00:00\", \"count\": 0}, {\"repo\": \"jupyter-server-proxy\", \"createdAt\": \"2022-04-03T00:00:00\", \"count\": 0}, {\"repo\": \"jupyter-server-proxy\", \"createdAt\": \"2022-04-10T00:00:00\", \"count\": 0}, {\"repo\": \"jupyter-server-proxy\", \"createdAt\": \"2022-04-17T00:00:00\", \"count\": 0}, {\"repo\": \"jupyter-server-proxy\", \"createdAt\": \"2022-04-24T00:00:00\", \"count\": 0}, {\"repo\": \"jupyter-server-proxy\", \"createdAt\": \"2022-05-01T00:00:00\", \"count\": 0}, {\"repo\": \"jupyter-server-proxy\", \"createdAt\": \"2022-05-08T00:00:00\", \"count\": 0}, {\"repo\": \"jupyter-server-proxy\", \"createdAt\": \"2022-05-15T00:00:00\", \"count\": 0}, {\"repo\": \"jupyter-server-proxy\", \"createdAt\": \"2022-05-22T00:00:00\", \"count\": 0}, {\"repo\": \"jupyter-server-proxy\", \"createdAt\": \"2022-05-29T00:00:00\", \"count\": 0}, {\"repo\": \"jupyter-server-proxy\", \"createdAt\": \"2022-06-05T00:00:00\", \"count\": 0}, {\"repo\": \"jupyter-server-proxy\", \"createdAt\": \"2022-06-12T00:00:00\", \"count\": 0}, {\"repo\": \"jupyter-server-proxy\", \"createdAt\": \"2022-06-19T00:00:00\", \"count\": 0}, {\"repo\": \"jupyter-server-proxy\", \"createdAt\": \"2022-06-26T00:00:00\", \"count\": 1}, {\"repo\": \"jupyterhub\", \"createdAt\": \"2023-02-19T00:00:00\", \"count\": 5}, {\"repo\": \"jupyterhub-idle-culler\", \"createdAt\": \"2023-02-26T00:00:00\", \"count\": 1}, {\"repo\": \"jupyterlab-telemetry\", \"createdAt\": \"2019-07-14T00:00:00\", \"count\": 1}, {\"repo\": \"kubespawner\", \"createdAt\": \"2023-01-15T00:00:00\", \"count\": 2}, {\"repo\": \"kubespawner\", \"createdAt\": \"2023-01-22T00:00:00\", \"count\": 0}, {\"repo\": \"kubespawner\", \"createdAt\": \"2023-01-29T00:00:00\", \"count\": 0}, {\"repo\": \"kubespawner\", \"createdAt\": \"2023-02-05T00:00:00\", \"count\": 0}, {\"repo\": \"kubespawner\", \"createdAt\": \"2023-02-12T00:00:00\", \"count\": 2}, {\"repo\": \"leads\", \"createdAt\": \"2022-07-24T00:00:00\", \"count\": 1}, {\"repo\": \"leads\", \"createdAt\": \"2022-07-31T00:00:00\", \"count\": 0}, {\"repo\": \"leads\", \"createdAt\": \"2022-08-07T00:00:00\", \"count\": 0}, {\"repo\": \"leads\", \"createdAt\": \"2022-08-14T00:00:00\", \"count\": 0}, {\"repo\": \"leads\", \"createdAt\": \"2022-08-21T00:00:00\", \"count\": 0}, {\"repo\": \"leads\", \"createdAt\": \"2022-08-28T00:00:00\", \"count\": 0}, {\"repo\": \"leads\", \"createdAt\": \"2022-09-04T00:00:00\", \"count\": 0}, {\"repo\": \"leads\", \"createdAt\": \"2022-09-11T00:00:00\", \"count\": 0}, {\"repo\": \"leads\", \"createdAt\": \"2022-09-18T00:00:00\", \"count\": 0}, {\"repo\": \"leads\", \"createdAt\": \"2022-09-25T00:00:00\", \"count\": 0}, {\"repo\": \"leads\", \"createdAt\": \"2022-10-02T00:00:00\", \"count\": 0}, {\"repo\": \"leads\", \"createdAt\": \"2022-10-09T00:00:00\", \"count\": 0}, {\"repo\": \"leads\", \"createdAt\": \"2022-10-16T00:00:00\", \"count\": 0}, {\"repo\": \"leads\", \"createdAt\": \"2022-10-23T00:00:00\", \"count\": 0}, {\"repo\": \"leads\", \"createdAt\": \"2022-10-30T00:00:00\", \"count\": 0}, {\"repo\": \"leads\", \"createdAt\": \"2022-11-06T00:00:00\", \"count\": 0}, {\"repo\": \"leads\", \"createdAt\": \"2022-11-13T00:00:00\", \"count\": 0}, {\"repo\": \"leads\", \"createdAt\": \"2022-11-20T00:00:00\", \"count\": 0}, {\"repo\": \"leads\", \"createdAt\": \"2022-11-27T00:00:00\", \"count\": 0}, {\"repo\": \"leads\", \"createdAt\": \"2022-12-04T00:00:00\", \"count\": 0}, {\"repo\": \"leads\", \"createdAt\": \"2022-12-11T00:00:00\", \"count\": 0}, {\"repo\": \"leads\", \"createdAt\": \"2022-12-18T00:00:00\", \"count\": 0}, {\"repo\": \"leads\", \"createdAt\": \"2022-12-25T00:00:00\", \"count\": 0}, {\"repo\": \"leads\", \"createdAt\": \"2023-01-01T00:00:00\", \"count\": 0}, {\"repo\": \"leads\", \"createdAt\": \"2023-01-08T00:00:00\", \"count\": 0}, {\"repo\": \"leads\", \"createdAt\": \"2023-01-15T00:00:00\", \"count\": 5}, {\"repo\": \"leads\", \"createdAt\": \"2023-01-22T00:00:00\", \"count\": 1}, {\"repo\": \"leads\", \"createdAt\": \"2023-01-29T00:00:00\", \"count\": 0}, {\"repo\": \"leads\", \"createdAt\": \"2023-02-05T00:00:00\", \"count\": 0}, {\"repo\": \"leads\", \"createdAt\": \"2023-02-12T00:00:00\", \"count\": 0}, {\"repo\": \"leads\", \"createdAt\": \"2023-02-19T00:00:00\", \"count\": 0}, {\"repo\": \"leads\", \"createdAt\": \"2023-02-26T00:00:00\", \"count\": 1}, {\"repo\": \"ltiauthenticator\", \"createdAt\": \"2022-11-06T00:00:00\", \"count\": 6}, {\"repo\": \"ltiauthenticator\", \"createdAt\": \"2022-11-13T00:00:00\", \"count\": 1}, {\"repo\": \"ltiauthenticator-ghsa-mcgx-2gcr-p3hp\", \"createdAt\": \"2022-06-05T00:00:00\", \"count\": 1}, {\"repo\": \"ltiauthenticator-ghsa-mcgx-2gcr-p3hp\", \"createdAt\": \"2022-06-12T00:00:00\", \"count\": 2}, {\"repo\": \"ltiauthenticator-ghsa-mcgx-2gcr-p3hp\", \"createdAt\": \"2022-06-19T00:00:00\", \"count\": 0}, {\"repo\": \"ltiauthenticator-ghsa-mcgx-2gcr-p3hp\", \"createdAt\": \"2022-06-26T00:00:00\", \"count\": 0}, {\"repo\": \"ltiauthenticator-ghsa-mcgx-2gcr-p3hp\", \"createdAt\": \"2022-07-03T00:00:00\", \"count\": 0}, {\"repo\": \"ltiauthenticator-ghsa-mcgx-2gcr-p3hp\", \"createdAt\": \"2022-07-10T00:00:00\", \"count\": 0}, {\"repo\": \"ltiauthenticator-ghsa-mcgx-2gcr-p3hp\", \"createdAt\": \"2022-07-17T00:00:00\", \"count\": 0}, {\"repo\": \"ltiauthenticator-ghsa-mcgx-2gcr-p3hp\", \"createdAt\": \"2022-07-24T00:00:00\", \"count\": 0}, {\"repo\": \"ltiauthenticator-ghsa-mcgx-2gcr-p3hp\", \"createdAt\": \"2022-07-31T00:00:00\", \"count\": 0}, {\"repo\": \"ltiauthenticator-ghsa-mcgx-2gcr-p3hp\", \"createdAt\": \"2022-08-07T00:00:00\", \"count\": 0}, {\"repo\": \"ltiauthenticator-ghsa-mcgx-2gcr-p3hp\", \"createdAt\": \"2022-08-14T00:00:00\", \"count\": 0}, {\"repo\": \"ltiauthenticator-ghsa-mcgx-2gcr-p3hp\", \"createdAt\": \"2022-08-21T00:00:00\", \"count\": 0}, {\"repo\": \"ltiauthenticator-ghsa-mcgx-2gcr-p3hp\", \"createdAt\": \"2022-08-28T00:00:00\", \"count\": 2}, {\"repo\": \"ltiauthenticator-ghsa-mcgx-2gcr-p3hp\", \"createdAt\": \"2022-09-04T00:00:00\", \"count\": 0}, {\"repo\": \"ltiauthenticator-ghsa-mcgx-2gcr-p3hp\", \"createdAt\": \"2022-09-11T00:00:00\", \"count\": 0}, {\"repo\": \"ltiauthenticator-ghsa-mcgx-2gcr-p3hp\", \"createdAt\": \"2022-09-18T00:00:00\", \"count\": 0}, {\"repo\": \"ltiauthenticator-ghsa-mcgx-2gcr-p3hp\", \"createdAt\": \"2022-09-25T00:00:00\", \"count\": 0}, {\"repo\": \"ltiauthenticator-ghsa-mcgx-2gcr-p3hp\", \"createdAt\": \"2022-10-02T00:00:00\", \"count\": 0}, {\"repo\": \"ltiauthenticator-ghsa-mcgx-2gcr-p3hp\", \"createdAt\": \"2022-10-09T00:00:00\", \"count\": 0}, {\"repo\": \"ltiauthenticator-ghsa-mcgx-2gcr-p3hp\", \"createdAt\": \"2022-10-16T00:00:00\", \"count\": 0}, {\"repo\": \"ltiauthenticator-ghsa-mcgx-2gcr-p3hp\", \"createdAt\": \"2022-10-23T00:00:00\", \"count\": 0}, {\"repo\": \"ltiauthenticator-ghsa-mcgx-2gcr-p3hp\", \"createdAt\": \"2022-10-30T00:00:00\", \"count\": 0}, {\"repo\": \"ltiauthenticator-ghsa-mcgx-2gcr-p3hp\", \"createdAt\": \"2022-11-06T00:00:00\", \"count\": 0}, {\"repo\": \"ltiauthenticator-ghsa-mcgx-2gcr-p3hp\", \"createdAt\": \"2022-11-13T00:00:00\", \"count\": 1}, {\"repo\": \"ltiauthenticator-ghsa-mcgx-2gcr-p3hp\", \"createdAt\": \"2022-11-20T00:00:00\", \"count\": 0}, {\"repo\": \"ltiauthenticator-ghsa-mcgx-2gcr-p3hp\", \"createdAt\": \"2022-11-27T00:00:00\", \"count\": 0}, {\"repo\": \"ltiauthenticator-ghsa-mcgx-2gcr-p3hp\", \"createdAt\": \"2022-12-04T00:00:00\", \"count\": 0}, {\"repo\": \"ltiauthenticator-ghsa-mcgx-2gcr-p3hp\", \"createdAt\": \"2022-12-11T00:00:00\", \"count\": 0}, {\"repo\": \"ltiauthenticator-ghsa-mcgx-2gcr-p3hp\", \"createdAt\": \"2022-12-18T00:00:00\", \"count\": 0}, {\"repo\": \"ltiauthenticator-ghsa-mcgx-2gcr-p3hp\", \"createdAt\": \"2022-12-25T00:00:00\", \"count\": 0}, {\"repo\": \"ltiauthenticator-ghsa-mcgx-2gcr-p3hp\", \"createdAt\": \"2023-01-01T00:00:00\", \"count\": 0}, {\"repo\": \"ltiauthenticator-ghsa-mcgx-2gcr-p3hp\", \"createdAt\": \"2023-01-08T00:00:00\", \"count\": 1}, {\"repo\": \"ltiauthenticator-ghsa-mcgx-2gcr-p3hp\", \"createdAt\": \"2023-01-15T00:00:00\", \"count\": 0}, {\"repo\": \"ltiauthenticator-ghsa-mcgx-2gcr-p3hp\", \"createdAt\": \"2023-01-22T00:00:00\", \"count\": 0}, {\"repo\": \"ltiauthenticator-ghsa-mcgx-2gcr-p3hp\", \"createdAt\": \"2023-01-29T00:00:00\", \"count\": 0}, {\"repo\": \"ltiauthenticator-ghsa-mcgx-2gcr-p3hp\", \"createdAt\": \"2023-02-05T00:00:00\", \"count\": 0}, {\"repo\": \"ltiauthenticator-ghsa-mcgx-2gcr-p3hp\", \"createdAt\": \"2023-02-12T00:00:00\", \"count\": 1}, {\"repo\": \"meta\", \"createdAt\": \"2022-12-04T00:00:00\", \"count\": 2}, {\"repo\": \"meta\", \"createdAt\": \"2022-12-11T00:00:00\", \"count\": 2}, {\"repo\": \"meta\", \"createdAt\": \"2022-12-18T00:00:00\", \"count\": 8}, {\"repo\": \"meta\", \"createdAt\": \"2022-12-25T00:00:00\", \"count\": 0}, {\"repo\": \"meta\", \"createdAt\": \"2023-01-01T00:00:00\", \"count\": 0}, {\"repo\": \"meta\", \"createdAt\": \"2023-01-08T00:00:00\", \"count\": 0}, {\"repo\": \"meta\", \"createdAt\": \"2023-01-15T00:00:00\", \"count\": 0}, {\"repo\": \"meta\", \"createdAt\": \"2023-01-22T00:00:00\", \"count\": 1}, {\"repo\": \"meta\", \"createdAt\": \"2023-01-29T00:00:00\", \"count\": 2}, {\"repo\": \"meta\", \"createdAt\": \"2023-02-05T00:00:00\", \"count\": 2}, {\"repo\": \"meta\", \"createdAt\": \"2023-02-12T00:00:00\", \"count\": 1}, {\"repo\": \"meta\", \"createdAt\": \"2023-02-19T00:00:00\", \"count\": 4}, {\"repo\": \"nbgitpuller\", \"createdAt\": \"2022-11-13T00:00:00\", \"count\": 1}, {\"repo\": \"nbgitpuller\", \"createdAt\": \"2022-11-20T00:00:00\", \"count\": 0}, {\"repo\": \"nbgitpuller\", \"createdAt\": \"2022-11-27T00:00:00\", \"count\": 0}, {\"repo\": \"nbgitpuller\", \"createdAt\": \"2022-12-04T00:00:00\", \"count\": 0}, {\"repo\": \"nbgitpuller\", \"createdAt\": \"2022-12-11T00:00:00\", \"count\": 0}, {\"repo\": \"nbgitpuller\", \"createdAt\": \"2022-12-18T00:00:00\", \"count\": 1}, {\"repo\": \"nbgitpuller\", \"createdAt\": \"2022-12-25T00:00:00\", \"count\": 0}, {\"repo\": \"nbgitpuller\", \"createdAt\": \"2023-01-01T00:00:00\", \"count\": 0}, {\"repo\": \"nbgitpuller\", \"createdAt\": \"2023-01-08T00:00:00\", \"count\": 3}, {\"repo\": \"nbgitpuller\", \"createdAt\": \"2023-01-15T00:00:00\", \"count\": 0}, {\"repo\": \"nbgitpuller\", \"createdAt\": \"2023-01-22T00:00:00\", \"count\": 0}, {\"repo\": \"nbgitpuller\", \"createdAt\": \"2023-01-29T00:00:00\", \"count\": 0}, {\"repo\": \"nbgitpuller\", \"createdAt\": \"2023-02-05T00:00:00\", \"count\": 0}, {\"repo\": \"nbgitpuller\", \"createdAt\": \"2023-02-12T00:00:00\", \"count\": 0}, {\"repo\": \"nbgitpuller\", \"createdAt\": \"2023-02-19T00:00:00\", \"count\": 0}, {\"repo\": \"nbgitpuller\", \"createdAt\": \"2023-02-26T00:00:00\", \"count\": 1}, {\"repo\": \"repo2docker\", \"createdAt\": \"2019-01-13T00:00:00\", \"count\": 2}, {\"repo\": \"repo2docker\", \"createdAt\": \"2019-01-20T00:00:00\", \"count\": 0}, {\"repo\": \"repo2docker\", \"createdAt\": \"2019-01-27T00:00:00\", \"count\": 0}, {\"repo\": \"repo2docker\", \"createdAt\": \"2019-02-03T00:00:00\", \"count\": 0}, {\"repo\": \"repo2docker\", \"createdAt\": \"2019-02-10T00:00:00\", \"count\": 0}, {\"repo\": \"repo2docker\", \"createdAt\": \"2019-02-17T00:00:00\", \"count\": 0}, {\"repo\": \"repo2docker\", \"createdAt\": \"2019-02-24T00:00:00\", \"count\": 0}, {\"repo\": \"repo2docker\", \"createdAt\": \"2019-03-03T00:00:00\", \"count\": 0}, {\"repo\": \"repo2docker\", \"createdAt\": \"2019-03-10T00:00:00\", \"count\": 0}, {\"repo\": \"repo2docker\", \"createdAt\": \"2019-03-17T00:00:00\", \"count\": 0}, {\"repo\": \"repo2docker\", \"createdAt\": \"2019-03-24T00:00:00\", \"count\": 0}, {\"repo\": \"repo2docker\", \"createdAt\": \"2019-03-31T00:00:00\", \"count\": 0}, {\"repo\": \"repo2docker\", \"createdAt\": \"2019-04-07T00:00:00\", \"count\": 0}, {\"repo\": \"repo2docker\", \"createdAt\": \"2019-04-14T00:00:00\", \"count\": 0}, {\"repo\": \"repo2docker\", \"createdAt\": \"2019-04-21T00:00:00\", \"count\": 0}, {\"repo\": \"repo2docker\", \"createdAt\": \"2019-04-28T00:00:00\", \"count\": 0}, {\"repo\": \"repo2docker\", \"createdAt\": \"2019-05-05T00:00:00\", \"count\": 0}, {\"repo\": \"repo2docker\", \"createdAt\": \"2019-05-12T00:00:00\", \"count\": 0}, {\"repo\": \"repo2docker\", \"createdAt\": \"2019-05-19T00:00:00\", \"count\": 0}, {\"repo\": \"repo2docker\", \"createdAt\": \"2019-05-26T00:00:00\", \"count\": 0}, {\"repo\": \"repo2docker\", \"createdAt\": \"2019-06-02T00:00:00\", \"count\": 0}, {\"repo\": \"repo2docker\", \"createdAt\": \"2019-06-09T00:00:00\", \"count\": 0}, {\"repo\": \"repo2docker\", \"createdAt\": \"2019-06-16T00:00:00\", \"count\": 0}, {\"repo\": \"repo2docker\", \"createdAt\": \"2019-06-23T00:00:00\", \"count\": 0}, {\"repo\": \"repo2docker\", \"createdAt\": \"2019-06-30T00:00:00\", \"count\": 0}, {\"repo\": \"repo2docker\", \"createdAt\": \"2019-07-07T00:00:00\", \"count\": 0}, {\"repo\": \"repo2docker\", \"createdAt\": \"2019-07-14T00:00:00\", \"count\": 0}, {\"repo\": \"repo2docker\", \"createdAt\": \"2019-07-21T00:00:00\", \"count\": 0}, {\"repo\": \"repo2docker\", \"createdAt\": \"2019-07-28T00:00:00\", \"count\": 0}, {\"repo\": \"repo2docker\", \"createdAt\": \"2019-08-04T00:00:00\", \"count\": 0}, {\"repo\": \"repo2docker\", \"createdAt\": \"2019-08-11T00:00:00\", \"count\": 0}, {\"repo\": \"repo2docker\", \"createdAt\": \"2019-08-18T00:00:00\", \"count\": 0}, {\"repo\": \"repo2docker\", \"createdAt\": \"2019-08-25T00:00:00\", \"count\": 0}, {\"repo\": \"repo2docker\", \"createdAt\": \"2019-09-01T00:00:00\", \"count\": 0}, {\"repo\": \"repo2docker\", \"createdAt\": \"2019-09-08T00:00:00\", \"count\": 0}, {\"repo\": \"repo2docker\", \"createdAt\": \"2019-09-15T00:00:00\", \"count\": 0}, {\"repo\": \"repo2docker\", \"createdAt\": \"2019-09-22T00:00:00\", \"count\": 0}, {\"repo\": \"repo2docker\", \"createdAt\": \"2019-09-29T00:00:00\", \"count\": 0}, {\"repo\": \"repo2docker\", \"createdAt\": \"2019-10-06T00:00:00\", \"count\": 0}, {\"repo\": \"repo2docker\", \"createdAt\": \"2019-10-13T00:00:00\", \"count\": 0}, {\"repo\": \"repo2docker\", \"createdAt\": \"2019-10-20T00:00:00\", \"count\": 0}, {\"repo\": \"repo2docker\", \"createdAt\": \"2019-10-27T00:00:00\", \"count\": 0}, {\"repo\": \"repo2docker\", \"createdAt\": \"2019-11-03T00:00:00\", \"count\": 0}, {\"repo\": \"repo2docker\", \"createdAt\": \"2019-11-10T00:00:00\", \"count\": 0}, {\"repo\": \"repo2docker\", \"createdAt\": \"2019-11-17T00:00:00\", \"count\": 0}, {\"repo\": \"repo2docker\", \"createdAt\": \"2019-11-24T00:00:00\", \"count\": 0}, {\"repo\": \"repo2docker\", \"createdAt\": \"2019-12-01T00:00:00\", \"count\": 0}, {\"repo\": \"repo2docker\", \"createdAt\": \"2019-12-08T00:00:00\", \"count\": 0}, {\"repo\": \"repo2docker\", \"createdAt\": \"2019-12-15T00:00:00\", \"count\": 0}, {\"repo\": \"repo2docker\", \"createdAt\": \"2019-12-22T00:00:00\", \"count\": 0}, {\"repo\": \"repo2docker\", \"createdAt\": \"2019-12-29T00:00:00\", \"count\": 0}, {\"repo\": \"repo2docker\", \"createdAt\": \"2020-01-05T00:00:00\", \"count\": 0}, {\"repo\": \"repo2docker\", \"createdAt\": \"2020-01-12T00:00:00\", \"count\": 0}, {\"repo\": \"repo2docker\", \"createdAt\": \"2020-01-19T00:00:00\", \"count\": 0}, {\"repo\": \"repo2docker\", \"createdAt\": \"2020-01-26T00:00:00\", \"count\": 0}, {\"repo\": \"repo2docker\", \"createdAt\": \"2020-02-02T00:00:00\", \"count\": 0}, {\"repo\": \"repo2docker\", \"createdAt\": \"2020-02-09T00:00:00\", \"count\": 0}, {\"repo\": \"repo2docker\", \"createdAt\": \"2020-02-16T00:00:00\", \"count\": 0}, {\"repo\": \"repo2docker\", \"createdAt\": \"2020-02-23T00:00:00\", \"count\": 0}, {\"repo\": \"repo2docker\", \"createdAt\": \"2020-03-01T00:00:00\", \"count\": 0}, {\"repo\": \"repo2docker\", \"createdAt\": \"2020-03-08T00:00:00\", \"count\": 0}, {\"repo\": \"repo2docker\", \"createdAt\": \"2020-03-15T00:00:00\", \"count\": 0}, {\"repo\": \"repo2docker\", \"createdAt\": \"2020-03-22T00:00:00\", \"count\": 0}, {\"repo\": \"repo2docker\", \"createdAt\": \"2020-03-29T00:00:00\", \"count\": 0}, {\"repo\": \"repo2docker\", \"createdAt\": \"2020-04-05T00:00:00\", \"count\": 0}, {\"repo\": \"repo2docker\", \"createdAt\": \"2020-04-12T00:00:00\", \"count\": 0}, {\"repo\": \"repo2docker\", \"createdAt\": \"2020-04-19T00:00:00\", \"count\": 0}, {\"repo\": \"repo2docker\", \"createdAt\": \"2020-04-26T00:00:00\", \"count\": 0}, {\"repo\": \"repo2docker\", \"createdAt\": \"2020-05-03T00:00:00\", \"count\": 0}, {\"repo\": \"repo2docker\", \"createdAt\": \"2020-05-10T00:00:00\", \"count\": 0}, {\"repo\": \"repo2docker\", \"createdAt\": \"2020-05-17T00:00:00\", \"count\": 0}, {\"repo\": \"repo2docker\", \"createdAt\": \"2020-05-24T00:00:00\", \"count\": 0}, {\"repo\": \"repo2docker\", \"createdAt\": \"2020-05-31T00:00:00\", \"count\": 0}, {\"repo\": \"repo2docker\", \"createdAt\": \"2020-06-07T00:00:00\", \"count\": 0}, {\"repo\": \"repo2docker\", \"createdAt\": \"2020-06-14T00:00:00\", \"count\": 0}, {\"repo\": \"repo2docker\", \"createdAt\": \"2020-06-21T00:00:00\", \"count\": 0}, {\"repo\": \"repo2docker\", \"createdAt\": \"2020-06-28T00:00:00\", \"count\": 0}, {\"repo\": \"repo2docker\", \"createdAt\": \"2020-07-05T00:00:00\", \"count\": 0}, {\"repo\": \"repo2docker\", \"createdAt\": \"2020-07-12T00:00:00\", \"count\": 0}, {\"repo\": \"repo2docker\", \"createdAt\": \"2020-07-19T00:00:00\", \"count\": 0}, {\"repo\": \"repo2docker\", \"createdAt\": \"2020-07-26T00:00:00\", \"count\": 0}, {\"repo\": \"repo2docker\", \"createdAt\": \"2020-08-02T00:00:00\", \"count\": 0}, {\"repo\": \"repo2docker\", \"createdAt\": \"2020-08-09T00:00:00\", \"count\": 0}, {\"repo\": \"repo2docker\", \"createdAt\": \"2020-08-16T00:00:00\", \"count\": 0}, {\"repo\": \"repo2docker\", \"createdAt\": \"2020-08-23T00:00:00\", \"count\": 0}, {\"repo\": \"repo2docker\", \"createdAt\": \"2020-08-30T00:00:00\", \"count\": 0}, {\"repo\": \"repo2docker\", \"createdAt\": \"2020-09-06T00:00:00\", \"count\": 0}, {\"repo\": \"repo2docker\", \"createdAt\": \"2020-09-13T00:00:00\", \"count\": 0}, {\"repo\": \"repo2docker\", \"createdAt\": \"2020-09-20T00:00:00\", \"count\": 0}, {\"repo\": \"repo2docker\", \"createdAt\": \"2020-09-27T00:00:00\", \"count\": 0}, {\"repo\": \"repo2docker\", \"createdAt\": \"2020-10-04T00:00:00\", \"count\": 0}, {\"repo\": \"repo2docker\", \"createdAt\": \"2020-10-11T00:00:00\", \"count\": 0}, {\"repo\": \"repo2docker\", \"createdAt\": \"2020-10-18T00:00:00\", \"count\": 0}, {\"repo\": \"repo2docker\", \"createdAt\": \"2020-10-25T00:00:00\", \"count\": 0}, {\"repo\": \"repo2docker\", \"createdAt\": \"2020-11-01T00:00:00\", \"count\": 0}, {\"repo\": \"repo2docker\", \"createdAt\": \"2020-11-08T00:00:00\", \"count\": 0}, {\"repo\": \"repo2docker\", \"createdAt\": \"2020-11-15T00:00:00\", \"count\": 0}, {\"repo\": \"repo2docker\", \"createdAt\": \"2020-11-22T00:00:00\", \"count\": 0}, {\"repo\": \"repo2docker\", \"createdAt\": \"2020-11-29T00:00:00\", \"count\": 0}, {\"repo\": \"repo2docker\", \"createdAt\": \"2020-12-06T00:00:00\", \"count\": 0}, {\"repo\": \"repo2docker\", \"createdAt\": \"2020-12-13T00:00:00\", \"count\": 0}, {\"repo\": \"repo2docker\", \"createdAt\": \"2020-12-20T00:00:00\", \"count\": 0}, {\"repo\": \"repo2docker\", \"createdAt\": \"2020-12-27T00:00:00\", \"count\": 0}, {\"repo\": \"repo2docker\", \"createdAt\": \"2021-01-03T00:00:00\", \"count\": 0}, {\"repo\": \"repo2docker\", \"createdAt\": \"2021-01-10T00:00:00\", \"count\": 0}, {\"repo\": \"repo2docker\", \"createdAt\": \"2021-01-17T00:00:00\", \"count\": 0}, {\"repo\": \"repo2docker\", \"createdAt\": \"2021-01-24T00:00:00\", \"count\": 0}, {\"repo\": \"repo2docker\", \"createdAt\": \"2021-01-31T00:00:00\", \"count\": 0}, {\"repo\": \"repo2docker\", \"createdAt\": \"2021-02-07T00:00:00\", \"count\": 0}, {\"repo\": \"repo2docker\", \"createdAt\": \"2021-02-14T00:00:00\", \"count\": 0}, {\"repo\": \"repo2docker\", \"createdAt\": \"2021-02-21T00:00:00\", \"count\": 0}, {\"repo\": \"repo2docker\", \"createdAt\": \"2021-02-28T00:00:00\", \"count\": 0}, {\"repo\": \"repo2docker\", \"createdAt\": \"2021-03-07T00:00:00\", \"count\": 0}, {\"repo\": \"repo2docker\", \"createdAt\": \"2021-03-14T00:00:00\", \"count\": 0}, {\"repo\": \"repo2docker\", \"createdAt\": \"2021-03-21T00:00:00\", \"count\": 0}, {\"repo\": \"repo2docker\", \"createdAt\": \"2021-03-28T00:00:00\", \"count\": 0}, {\"repo\": \"repo2docker\", \"createdAt\": \"2021-04-04T00:00:00\", \"count\": 0}, {\"repo\": \"repo2docker\", \"createdAt\": \"2021-04-11T00:00:00\", \"count\": 0}, {\"repo\": \"repo2docker\", \"createdAt\": \"2021-04-18T00:00:00\", \"count\": 0}, {\"repo\": \"repo2docker\", \"createdAt\": \"2021-04-25T00:00:00\", \"count\": 0}, {\"repo\": \"repo2docker\", \"createdAt\": \"2021-05-02T00:00:00\", \"count\": 0}, {\"repo\": \"repo2docker\", \"createdAt\": \"2021-05-09T00:00:00\", \"count\": 0}, {\"repo\": \"repo2docker\", \"createdAt\": \"2021-05-16T00:00:00\", \"count\": 0}, {\"repo\": \"repo2docker\", \"createdAt\": \"2021-05-23T00:00:00\", \"count\": 0}, {\"repo\": \"repo2docker\", \"createdAt\": \"2021-05-30T00:00:00\", \"count\": 0}, {\"repo\": \"repo2docker\", \"createdAt\": \"2021-06-06T00:00:00\", \"count\": 0}, {\"repo\": \"repo2docker\", \"createdAt\": \"2021-06-13T00:00:00\", \"count\": 0}, {\"repo\": \"repo2docker\", \"createdAt\": \"2021-06-20T00:00:00\", \"count\": 0}, {\"repo\": \"repo2docker\", \"createdAt\": \"2021-06-27T00:00:00\", \"count\": 0}, {\"repo\": \"repo2docker\", \"createdAt\": \"2021-07-04T00:00:00\", \"count\": 0}, {\"repo\": \"repo2docker\", \"createdAt\": \"2021-07-11T00:00:00\", \"count\": 1}, {\"repo\": \"repo2docker\", \"createdAt\": \"2021-07-18T00:00:00\", \"count\": 0}, {\"repo\": \"repo2docker\", \"createdAt\": \"2021-07-25T00:00:00\", \"count\": 0}, {\"repo\": \"repo2docker\", \"createdAt\": \"2021-08-01T00:00:00\", \"count\": 0}, {\"repo\": \"repo2docker\", \"createdAt\": \"2021-08-08T00:00:00\", \"count\": 0}, {\"repo\": \"repo2docker\", \"createdAt\": \"2021-08-15T00:00:00\", \"count\": 0}, {\"repo\": \"repo2docker\", \"createdAt\": \"2021-08-22T00:00:00\", \"count\": 0}, {\"repo\": \"repo2docker\", \"createdAt\": \"2021-08-29T00:00:00\", \"count\": 0}, {\"repo\": \"repo2docker\", \"createdAt\": \"2021-09-05T00:00:00\", \"count\": 0}, {\"repo\": \"repo2docker\", \"createdAt\": \"2021-09-12T00:00:00\", \"count\": 0}, {\"repo\": \"repo2docker\", \"createdAt\": \"2021-09-19T00:00:00\", \"count\": 0}, {\"repo\": \"repo2docker\", \"createdAt\": \"2021-09-26T00:00:00\", \"count\": 0}, {\"repo\": \"repo2docker\", \"createdAt\": \"2021-10-03T00:00:00\", \"count\": 0}, {\"repo\": \"repo2docker\", \"createdAt\": \"2021-10-10T00:00:00\", \"count\": 0}, {\"repo\": \"repo2docker\", \"createdAt\": \"2021-10-17T00:00:00\", \"count\": 0}, {\"repo\": \"repo2docker\", \"createdAt\": \"2021-10-24T00:00:00\", \"count\": 0}, {\"repo\": \"repo2docker\", \"createdAt\": \"2021-10-31T00:00:00\", \"count\": 0}, {\"repo\": \"repo2docker\", \"createdAt\": \"2021-11-07T00:00:00\", \"count\": 0}, {\"repo\": \"repo2docker\", \"createdAt\": \"2021-11-14T00:00:00\", \"count\": 0}, {\"repo\": \"repo2docker\", \"createdAt\": \"2021-11-21T00:00:00\", \"count\": 0}, {\"repo\": \"repo2docker\", \"createdAt\": \"2021-11-28T00:00:00\", \"count\": 0}, {\"repo\": \"repo2docker\", \"createdAt\": \"2021-12-05T00:00:00\", \"count\": 0}, {\"repo\": \"repo2docker\", \"createdAt\": \"2021-12-12T00:00:00\", \"count\": 0}, {\"repo\": \"repo2docker\", \"createdAt\": \"2021-12-19T00:00:00\", \"count\": 0}, {\"repo\": \"repo2docker\", \"createdAt\": \"2021-12-26T00:00:00\", \"count\": 0}, {\"repo\": \"repo2docker\", \"createdAt\": \"2022-01-02T00:00:00\", \"count\": 0}, {\"repo\": \"repo2docker\", \"createdAt\": \"2022-01-09T00:00:00\", \"count\": 0}, {\"repo\": \"repo2docker\", \"createdAt\": \"2022-01-16T00:00:00\", \"count\": 0}, {\"repo\": \"repo2docker\", \"createdAt\": \"2022-01-23T00:00:00\", \"count\": 0}, {\"repo\": \"repo2docker\", \"createdAt\": \"2022-01-30T00:00:00\", \"count\": 0}, {\"repo\": \"repo2docker\", \"createdAt\": \"2022-02-06T00:00:00\", \"count\": 0}, {\"repo\": \"repo2docker\", \"createdAt\": \"2022-02-13T00:00:00\", \"count\": 0}, {\"repo\": \"repo2docker\", \"createdAt\": \"2022-02-20T00:00:00\", \"count\": 0}, {\"repo\": \"repo2docker\", \"createdAt\": \"2022-02-27T00:00:00\", \"count\": 0}, {\"repo\": \"repo2docker\", \"createdAt\": \"2022-03-06T00:00:00\", \"count\": 0}, {\"repo\": \"repo2docker\", \"createdAt\": \"2022-03-13T00:00:00\", \"count\": 0}, {\"repo\": \"repo2docker\", \"createdAt\": \"2022-03-20T00:00:00\", \"count\": 0}, {\"repo\": \"repo2docker\", \"createdAt\": \"2022-03-27T00:00:00\", \"count\": 0}, {\"repo\": \"repo2docker\", \"createdAt\": \"2022-04-03T00:00:00\", \"count\": 0}, {\"repo\": \"repo2docker\", \"createdAt\": \"2022-04-10T00:00:00\", \"count\": 0}, {\"repo\": \"repo2docker\", \"createdAt\": \"2022-04-17T00:00:00\", \"count\": 0}, {\"repo\": \"repo2docker\", \"createdAt\": \"2022-04-24T00:00:00\", \"count\": 0}, {\"repo\": \"repo2docker\", \"createdAt\": \"2022-05-01T00:00:00\", \"count\": 0}, {\"repo\": \"repo2docker\", \"createdAt\": \"2022-05-08T00:00:00\", \"count\": 0}, {\"repo\": \"repo2docker\", \"createdAt\": \"2022-05-15T00:00:00\", \"count\": 0}, {\"repo\": \"repo2docker\", \"createdAt\": \"2022-05-22T00:00:00\", \"count\": 0}, {\"repo\": \"repo2docker\", \"createdAt\": \"2022-05-29T00:00:00\", \"count\": 0}, {\"repo\": \"repo2docker\", \"createdAt\": \"2022-06-05T00:00:00\", \"count\": 0}, {\"repo\": \"repo2docker\", \"createdAt\": \"2022-06-12T00:00:00\", \"count\": 0}, {\"repo\": \"repo2docker\", \"createdAt\": \"2022-06-19T00:00:00\", \"count\": 0}, {\"repo\": \"repo2docker\", \"createdAt\": \"2022-06-26T00:00:00\", \"count\": 0}, {\"repo\": \"repo2docker\", \"createdAt\": \"2022-07-03T00:00:00\", \"count\": 0}, {\"repo\": \"repo2docker\", \"createdAt\": \"2022-07-10T00:00:00\", \"count\": 0}, {\"repo\": \"repo2docker\", \"createdAt\": \"2022-07-17T00:00:00\", \"count\": 0}, {\"repo\": \"repo2docker\", \"createdAt\": \"2022-07-24T00:00:00\", \"count\": 0}, {\"repo\": \"repo2docker\", \"createdAt\": \"2022-07-31T00:00:00\", \"count\": 0}, {\"repo\": \"repo2docker\", \"createdAt\": \"2022-08-07T00:00:00\", \"count\": 0}, {\"repo\": \"repo2docker\", \"createdAt\": \"2022-08-14T00:00:00\", \"count\": 0}, {\"repo\": \"repo2docker\", \"createdAt\": \"2022-08-21T00:00:00\", \"count\": 0}, {\"repo\": \"repo2docker\", \"createdAt\": \"2022-08-28T00:00:00\", \"count\": 3}, {\"repo\": \"repo2docker\", \"createdAt\": \"2022-09-04T00:00:00\", \"count\": 1}, {\"repo\": \"repo2docker\", \"createdAt\": \"2022-09-11T00:00:00\", \"count\": 0}, {\"repo\": \"repo2docker\", \"createdAt\": \"2022-09-18T00:00:00\", \"count\": 0}, {\"repo\": \"repo2docker\", \"createdAt\": \"2022-09-25T00:00:00\", \"count\": 0}, {\"repo\": \"repo2docker\", \"createdAt\": \"2022-10-02T00:00:00\", \"count\": 0}, {\"repo\": \"repo2docker\", \"createdAt\": \"2022-10-09T00:00:00\", \"count\": 0}, {\"repo\": \"repo2docker\", \"createdAt\": \"2022-10-16T00:00:00\", \"count\": 0}, {\"repo\": \"repo2docker\", \"createdAt\": \"2022-10-23T00:00:00\", \"count\": 0}, {\"repo\": \"repo2docker\", \"createdAt\": \"2022-10-30T00:00:00\", \"count\": 0}, {\"repo\": \"repo2docker\", \"createdAt\": \"2022-11-06T00:00:00\", \"count\": 1}, {\"repo\": \"repo2docker\", \"createdAt\": \"2022-11-13T00:00:00\", \"count\": 0}, {\"repo\": \"repo2docker\", \"createdAt\": \"2022-11-20T00:00:00\", \"count\": 0}, {\"repo\": \"repo2docker\", \"createdAt\": \"2022-11-27T00:00:00\", \"count\": 0}, {\"repo\": \"repo2docker\", \"createdAt\": \"2022-12-04T00:00:00\", \"count\": 0}, {\"repo\": \"repo2docker\", \"createdAt\": \"2022-12-11T00:00:00\", \"count\": 0}, {\"repo\": \"repo2docker\", \"createdAt\": \"2022-12-18T00:00:00\", \"count\": 0}, {\"repo\": \"repo2docker\", \"createdAt\": \"2022-12-25T00:00:00\", \"count\": 0}, {\"repo\": \"repo2docker\", \"createdAt\": \"2023-01-01T00:00:00\", \"count\": 0}, {\"repo\": \"repo2docker\", \"createdAt\": \"2023-01-08T00:00:00\", \"count\": 3}, {\"repo\": \"repo2docker\", \"createdAt\": \"2023-01-15T00:00:00\", \"count\": 0}, {\"repo\": \"repo2docker\", \"createdAt\": \"2023-01-22T00:00:00\", \"count\": 0}, {\"repo\": \"repo2docker\", \"createdAt\": \"2023-01-29T00:00:00\", \"count\": 0}, {\"repo\": \"repo2docker\", \"createdAt\": \"2023-02-05T00:00:00\", \"count\": 0}, {\"repo\": \"repo2docker\", \"createdAt\": \"2023-02-12T00:00:00\", \"count\": 1}, {\"repo\": \"repo2docker\", \"createdAt\": \"2023-02-19T00:00:00\", \"count\": 2}, {\"repo\": \"repo2docker-action\", \"createdAt\": \"2023-01-22T00:00:00\", \"count\": 1}, {\"repo\": \"researchdelight-image\", \"createdAt\": \"2022-12-11T00:00:00\", \"count\": 2}, {\"repo\": \"sphinx-book-theme\", \"createdAt\": \"2022-07-03T00:00:00\", \"count\": 3}, {\"repo\": \"sphinx-book-theme\", \"createdAt\": \"2022-07-10T00:00:00\", \"count\": 0}, {\"repo\": \"sphinx-book-theme\", \"createdAt\": \"2022-07-17T00:00:00\", \"count\": 0}, {\"repo\": \"sphinx-book-theme\", \"createdAt\": \"2022-07-24T00:00:00\", \"count\": 0}, {\"repo\": \"sphinx-book-theme\", \"createdAt\": \"2022-07-31T00:00:00\", \"count\": 0}, {\"repo\": \"sphinx-book-theme\", \"createdAt\": \"2022-08-07T00:00:00\", \"count\": 0}, {\"repo\": \"sphinx-book-theme\", \"createdAt\": \"2022-08-14T00:00:00\", \"count\": 0}, {\"repo\": \"sphinx-book-theme\", \"createdAt\": \"2022-08-21T00:00:00\", \"count\": 0}, {\"repo\": \"sphinx-book-theme\", \"createdAt\": \"2022-08-28T00:00:00\", \"count\": 0}, {\"repo\": \"sphinx-book-theme\", \"createdAt\": \"2022-09-04T00:00:00\", \"count\": 0}, {\"repo\": \"sphinx-book-theme\", \"createdAt\": \"2022-09-11T00:00:00\", \"count\": 0}, {\"repo\": \"sphinx-book-theme\", \"createdAt\": \"2022-09-18T00:00:00\", \"count\": 0}, {\"repo\": \"sphinx-book-theme\", \"createdAt\": \"2022-09-25T00:00:00\", \"count\": 0}, {\"repo\": \"sphinx-book-theme\", \"createdAt\": \"2022-10-02T00:00:00\", \"count\": 0}, {\"repo\": \"sphinx-book-theme\", \"createdAt\": \"2022-10-09T00:00:00\", \"count\": 0}, {\"repo\": \"sphinx-book-theme\", \"createdAt\": \"2022-10-16T00:00:00\", \"count\": 0}, {\"repo\": \"sphinx-book-theme\", \"createdAt\": \"2022-10-23T00:00:00\", \"count\": 0}, {\"repo\": \"sphinx-book-theme\", \"createdAt\": \"2022-10-30T00:00:00\", \"count\": 0}, {\"repo\": \"sphinx-book-theme\", \"createdAt\": \"2022-11-06T00:00:00\", \"count\": 0}, {\"repo\": \"sphinx-book-theme\", \"createdAt\": \"2022-11-13T00:00:00\", \"count\": 0}, {\"repo\": \"sphinx-book-theme\", \"createdAt\": \"2022-11-20T00:00:00\", \"count\": 0}, {\"repo\": \"sphinx-book-theme\", \"createdAt\": \"2022-11-27T00:00:00\", \"count\": 0}, {\"repo\": \"sphinx-book-theme\", \"createdAt\": \"2022-12-04T00:00:00\", \"count\": 0}, {\"repo\": \"sphinx-book-theme\", \"createdAt\": \"2022-12-11T00:00:00\", \"count\": 1}, {\"repo\": \"systemdspawner\", \"createdAt\": \"2023-01-01T00:00:00\", \"count\": 3}, {\"repo\": \"systemdspawner\", \"createdAt\": \"2023-01-08T00:00:00\", \"count\": 0}, {\"repo\": \"systemdspawner\", \"createdAt\": \"2023-01-15T00:00:00\", \"count\": 1}, {\"repo\": \"team-compass\", \"createdAt\": \"2022-07-10T00:00:00\", \"count\": 1}, {\"repo\": \"team-compass\", \"createdAt\": \"2022-07-17T00:00:00\", \"count\": 0}, {\"repo\": \"team-compass\", \"createdAt\": \"2022-07-24T00:00:00\", \"count\": 0}, {\"repo\": \"team-compass\", \"createdAt\": \"2022-07-31T00:00:00\", \"count\": 0}, {\"repo\": \"team-compass\", \"createdAt\": \"2022-08-07T00:00:00\", \"count\": 0}, {\"repo\": \"team-compass\", \"createdAt\": \"2022-08-14T00:00:00\", \"count\": 0}, {\"repo\": \"team-compass\", \"createdAt\": \"2022-08-21T00:00:00\", \"count\": 0}, {\"repo\": \"team-compass\", \"createdAt\": \"2022-08-28T00:00:00\", \"count\": 0}, {\"repo\": \"team-compass\", \"createdAt\": \"2022-09-04T00:00:00\", \"count\": 0}, {\"repo\": \"team-compass\", \"createdAt\": \"2022-09-11T00:00:00\", \"count\": 0}, {\"repo\": \"team-compass\", \"createdAt\": \"2022-09-18T00:00:00\", \"count\": 0}, {\"repo\": \"team-compass\", \"createdAt\": \"2022-09-25T00:00:00\", \"count\": 0}, {\"repo\": \"team-compass\", \"createdAt\": \"2022-10-02T00:00:00\", \"count\": 0}, {\"repo\": \"team-compass\", \"createdAt\": \"2022-10-09T00:00:00\", \"count\": 0}, {\"repo\": \"team-compass\", \"createdAt\": \"2022-10-16T00:00:00\", \"count\": 0}, {\"repo\": \"team-compass\", \"createdAt\": \"2022-10-23T00:00:00\", \"count\": 0}, {\"repo\": \"team-compass\", \"createdAt\": \"2022-10-30T00:00:00\", \"count\": 1}, {\"repo\": \"team-compass\", \"createdAt\": \"2022-11-06T00:00:00\", \"count\": 0}, {\"repo\": \"team-compass\", \"createdAt\": \"2022-11-13T00:00:00\", \"count\": 0}, {\"repo\": \"team-compass\", \"createdAt\": \"2022-11-20T00:00:00\", \"count\": 0}, {\"repo\": \"team-compass\", \"createdAt\": \"2022-11-27T00:00:00\", \"count\": 0}, {\"repo\": \"team-compass\", \"createdAt\": \"2022-12-04T00:00:00\", \"count\": 0}, {\"repo\": \"team-compass\", \"createdAt\": \"2022-12-11T00:00:00\", \"count\": 2}, {\"repo\": \"team-compass\", \"createdAt\": \"2022-12-18T00:00:00\", \"count\": 0}, {\"repo\": \"team-compass\", \"createdAt\": \"2022-12-25T00:00:00\", \"count\": 0}, {\"repo\": \"team-compass\", \"createdAt\": \"2023-01-01T00:00:00\", \"count\": 0}, {\"repo\": \"team-compass\", \"createdAt\": \"2023-01-08T00:00:00\", \"count\": 0}, {\"repo\": \"team-compass\", \"createdAt\": \"2023-01-15T00:00:00\", \"count\": 1}, {\"repo\": \"team-compass\", \"createdAt\": \"2023-01-22T00:00:00\", \"count\": 0}, {\"repo\": \"team-compass\", \"createdAt\": \"2023-01-29T00:00:00\", \"count\": 1}, {\"repo\": \"team-compass\", \"createdAt\": \"2023-02-05T00:00:00\", \"count\": 0}, {\"repo\": \"team-compass\", \"createdAt\": \"2023-02-12T00:00:00\", \"count\": 0}, {\"repo\": \"team-compass\", \"createdAt\": \"2023-02-19T00:00:00\", \"count\": 5}, {\"repo\": \"zero-to-jupyterhub-k8s\", \"createdAt\": \"2023-02-12T00:00:00\", \"count\": 4}], \"data-32d58d99b16f742dff3a92795ac8dc99\": [{\"createdAt\": \"2019-01-13T00:00:00\", \"count\": 2}, {\"createdAt\": \"2019-01-20T00:00:00\", \"count\": 0}, {\"createdAt\": \"2019-01-27T00:00:00\", \"count\": 0}, {\"createdAt\": \"2019-02-03T00:00:00\", \"count\": 0}, {\"createdAt\": \"2019-02-10T00:00:00\", \"count\": 0}, {\"createdAt\": \"2019-02-17T00:00:00\", \"count\": 0}, {\"createdAt\": \"2019-02-24T00:00:00\", \"count\": 0}, {\"createdAt\": \"2019-03-03T00:00:00\", \"count\": 0}, {\"createdAt\": \"2019-03-10T00:00:00\", \"count\": 0}, {\"createdAt\": \"2019-03-17T00:00:00\", \"count\": 0}, {\"createdAt\": \"2019-03-24T00:00:00\", \"count\": 0}, {\"createdAt\": \"2019-03-31T00:00:00\", \"count\": 0}, {\"createdAt\": \"2019-04-07T00:00:00\", \"count\": 0}, {\"createdAt\": \"2019-04-14T00:00:00\", \"count\": 0}, {\"createdAt\": \"2019-04-21T00:00:00\", \"count\": 0}, {\"createdAt\": \"2019-04-28T00:00:00\", \"count\": 0}, {\"createdAt\": \"2019-05-05T00:00:00\", \"count\": 0}, {\"createdAt\": \"2019-05-12T00:00:00\", \"count\": 0}, {\"createdAt\": \"2019-05-19T00:00:00\", \"count\": 0}, {\"createdAt\": \"2019-05-26T00:00:00\", \"count\": 0}, {\"createdAt\": \"2019-06-02T00:00:00\", \"count\": 0}, {\"createdAt\": \"2019-06-09T00:00:00\", \"count\": 0}, {\"createdAt\": \"2019-06-16T00:00:00\", \"count\": 0}, {\"createdAt\": \"2019-06-23T00:00:00\", \"count\": 0}, {\"createdAt\": \"2019-06-30T00:00:00\", \"count\": 0}, {\"createdAt\": \"2019-07-07T00:00:00\", \"count\": 0}, {\"createdAt\": \"2019-07-14T00:00:00\", \"count\": 1}, {\"createdAt\": \"2019-07-21T00:00:00\", \"count\": 0}, {\"createdAt\": \"2019-07-28T00:00:00\", \"count\": 0}, {\"createdAt\": \"2019-08-04T00:00:00\", \"count\": 0}, {\"createdAt\": \"2019-08-11T00:00:00\", \"count\": 0}, {\"createdAt\": \"2019-08-18T00:00:00\", \"count\": 0}, {\"createdAt\": \"2019-08-25T00:00:00\", \"count\": 0}, {\"createdAt\": \"2019-09-01T00:00:00\", \"count\": 0}, {\"createdAt\": \"2019-09-08T00:00:00\", \"count\": 0}, {\"createdAt\": \"2019-09-15T00:00:00\", \"count\": 0}, {\"createdAt\": \"2019-09-22T00:00:00\", \"count\": 0}, {\"createdAt\": \"2019-09-29T00:00:00\", \"count\": 0}, {\"createdAt\": \"2019-10-06T00:00:00\", \"count\": 0}, {\"createdAt\": \"2019-10-13T00:00:00\", \"count\": 0}, {\"createdAt\": \"2019-10-20T00:00:00\", \"count\": 0}, {\"createdAt\": \"2019-10-27T00:00:00\", \"count\": 0}, {\"createdAt\": \"2019-11-03T00:00:00\", \"count\": 0}, {\"createdAt\": \"2019-11-10T00:00:00\", \"count\": 0}, {\"createdAt\": \"2019-11-17T00:00:00\", \"count\": 0}, {\"createdAt\": \"2019-11-24T00:00:00\", \"count\": 0}, {\"createdAt\": \"2019-12-01T00:00:00\", \"count\": 0}, {\"createdAt\": \"2019-12-08T00:00:00\", \"count\": 0}, {\"createdAt\": \"2019-12-15T00:00:00\", \"count\": 0}, {\"createdAt\": \"2019-12-22T00:00:00\", \"count\": 0}, {\"createdAt\": \"2019-12-29T00:00:00\", \"count\": 0}, {\"createdAt\": \"2020-01-05T00:00:00\", \"count\": 0}, {\"createdAt\": \"2020-01-12T00:00:00\", \"count\": 0}, {\"createdAt\": \"2020-01-19T00:00:00\", \"count\": 0}, {\"createdAt\": \"2020-01-26T00:00:00\", \"count\": 0}, {\"createdAt\": \"2020-02-02T00:00:00\", \"count\": 0}, {\"createdAt\": \"2020-02-09T00:00:00\", \"count\": 0}, {\"createdAt\": \"2020-02-16T00:00:00\", \"count\": 0}, {\"createdAt\": \"2020-02-23T00:00:00\", \"count\": 0}, {\"createdAt\": \"2020-03-01T00:00:00\", \"count\": 0}, {\"createdAt\": \"2020-03-08T00:00:00\", \"count\": 0}, {\"createdAt\": \"2020-03-15T00:00:00\", \"count\": 0}, {\"createdAt\": \"2020-03-22T00:00:00\", \"count\": 0}, {\"createdAt\": \"2020-03-29T00:00:00\", \"count\": 0}, {\"createdAt\": \"2020-04-05T00:00:00\", \"count\": 0}, {\"createdAt\": \"2020-04-12T00:00:00\", \"count\": 0}, {\"createdAt\": \"2020-04-19T00:00:00\", \"count\": 0}, {\"createdAt\": \"2020-04-26T00:00:00\", \"count\": 0}, {\"createdAt\": \"2020-05-03T00:00:00\", \"count\": 0}, {\"createdAt\": \"2020-05-10T00:00:00\", \"count\": 0}, {\"createdAt\": \"2020-05-17T00:00:00\", \"count\": 0}, {\"createdAt\": \"2020-05-24T00:00:00\", \"count\": 0}, {\"createdAt\": \"2020-05-31T00:00:00\", \"count\": 0}, {\"createdAt\": \"2020-06-07T00:00:00\", \"count\": 0}, {\"createdAt\": \"2020-06-14T00:00:00\", \"count\": 0}, {\"createdAt\": \"2020-06-21T00:00:00\", \"count\": 0}, {\"createdAt\": \"2020-06-28T00:00:00\", \"count\": 0}, {\"createdAt\": \"2020-07-05T00:00:00\", \"count\": 0}, {\"createdAt\": \"2020-07-12T00:00:00\", \"count\": 0}, {\"createdAt\": \"2020-07-19T00:00:00\", \"count\": 0}, {\"createdAt\": \"2020-07-26T00:00:00\", \"count\": 0}, {\"createdAt\": \"2020-08-02T00:00:00\", \"count\": 0}, {\"createdAt\": \"2020-08-09T00:00:00\", \"count\": 0}, {\"createdAt\": \"2020-08-16T00:00:00\", \"count\": 0}, {\"createdAt\": \"2020-08-23T00:00:00\", \"count\": 0}, {\"createdAt\": \"2020-08-30T00:00:00\", \"count\": 0}, {\"createdAt\": \"2020-09-06T00:00:00\", \"count\": 0}, {\"createdAt\": \"2020-09-13T00:00:00\", \"count\": 0}, {\"createdAt\": \"2020-09-20T00:00:00\", \"count\": 0}, {\"createdAt\": \"2020-09-27T00:00:00\", \"count\": 0}, {\"createdAt\": \"2020-10-04T00:00:00\", \"count\": 0}, {\"createdAt\": \"2020-10-11T00:00:00\", \"count\": 0}, {\"createdAt\": \"2020-10-18T00:00:00\", \"count\": 0}, {\"createdAt\": \"2020-10-25T00:00:00\", \"count\": 0}, {\"createdAt\": \"2020-11-01T00:00:00\", \"count\": 0}, {\"createdAt\": \"2020-11-08T00:00:00\", \"count\": 0}, {\"createdAt\": \"2020-11-15T00:00:00\", \"count\": 0}, {\"createdAt\": \"2020-11-22T00:00:00\", \"count\": 0}, {\"createdAt\": \"2020-11-29T00:00:00\", \"count\": 0}, {\"createdAt\": \"2020-12-06T00:00:00\", \"count\": 0}, {\"createdAt\": \"2020-12-13T00:00:00\", \"count\": 0}, {\"createdAt\": \"2020-12-20T00:00:00\", \"count\": 0}, {\"createdAt\": \"2020-12-27T00:00:00\", \"count\": 0}, {\"createdAt\": \"2021-01-03T00:00:00\", \"count\": 0}, {\"createdAt\": \"2021-01-10T00:00:00\", \"count\": 0}, {\"createdAt\": \"2021-01-17T00:00:00\", \"count\": 0}, {\"createdAt\": \"2021-01-24T00:00:00\", \"count\": 0}, {\"createdAt\": \"2021-01-31T00:00:00\", \"count\": 0}, {\"createdAt\": \"2021-02-07T00:00:00\", \"count\": 0}, {\"createdAt\": \"2021-02-14T00:00:00\", \"count\": 0}, {\"createdAt\": \"2021-02-21T00:00:00\", \"count\": 0}, {\"createdAt\": \"2021-02-28T00:00:00\", \"count\": 0}, {\"createdAt\": \"2021-03-07T00:00:00\", \"count\": 1}, {\"createdAt\": \"2021-03-14T00:00:00\", \"count\": 0}, {\"createdAt\": \"2021-03-21T00:00:00\", \"count\": 0}, {\"createdAt\": \"2021-03-28T00:00:00\", \"count\": 0}, {\"createdAt\": \"2021-04-04T00:00:00\", \"count\": 0}, {\"createdAt\": \"2021-04-11T00:00:00\", \"count\": 0}, {\"createdAt\": \"2021-04-18T00:00:00\", \"count\": 0}, {\"createdAt\": \"2021-04-25T00:00:00\", \"count\": 0}, {\"createdAt\": \"2021-05-02T00:00:00\", \"count\": 0}, {\"createdAt\": \"2021-05-09T00:00:00\", \"count\": 0}, {\"createdAt\": \"2021-05-16T00:00:00\", \"count\": 0}, {\"createdAt\": \"2021-05-23T00:00:00\", \"count\": 0}, {\"createdAt\": \"2021-05-30T00:00:00\", \"count\": 3}, {\"createdAt\": \"2021-06-06T00:00:00\", \"count\": 3}, {\"createdAt\": \"2021-06-13T00:00:00\", \"count\": 0}, {\"createdAt\": \"2021-06-20T00:00:00\", \"count\": 0}, {\"createdAt\": \"2021-06-27T00:00:00\", \"count\": 1}, {\"createdAt\": \"2021-07-04T00:00:00\", \"count\": 0}, {\"createdAt\": \"2021-07-11T00:00:00\", \"count\": 1}, {\"createdAt\": \"2021-07-18T00:00:00\", \"count\": 0}, {\"createdAt\": \"2021-07-25T00:00:00\", \"count\": 0}, {\"createdAt\": \"2021-08-01T00:00:00\", \"count\": 0}, {\"createdAt\": \"2021-08-08T00:00:00\", \"count\": 0}, {\"createdAt\": \"2021-08-15T00:00:00\", \"count\": 0}, {\"createdAt\": \"2021-08-22T00:00:00\", \"count\": 0}, {\"createdAt\": \"2021-08-29T00:00:00\", \"count\": 1}, {\"createdAt\": \"2021-09-05T00:00:00\", \"count\": 0}, {\"createdAt\": \"2021-09-12T00:00:00\", \"count\": 0}, {\"createdAt\": \"2021-09-19T00:00:00\", \"count\": 0}, {\"createdAt\": \"2021-09-26T00:00:00\", \"count\": 0}, {\"createdAt\": \"2021-10-03T00:00:00\", \"count\": 0}, {\"createdAt\": \"2021-10-10T00:00:00\", \"count\": 0}, {\"createdAt\": \"2021-10-17T00:00:00\", \"count\": 0}, {\"createdAt\": \"2021-10-24T00:00:00\", \"count\": 0}, {\"createdAt\": \"2021-10-31T00:00:00\", \"count\": 0}, {\"createdAt\": \"2021-11-07T00:00:00\", \"count\": 0}, {\"createdAt\": \"2021-11-14T00:00:00\", \"count\": 0}, {\"createdAt\": \"2021-11-21T00:00:00\", \"count\": 0}, {\"createdAt\": \"2021-11-28T00:00:00\", \"count\": 0}, {\"createdAt\": \"2021-12-05T00:00:00\", \"count\": 0}, {\"createdAt\": \"2021-12-12T00:00:00\", \"count\": 0}, {\"createdAt\": \"2021-12-19T00:00:00\", \"count\": 0}, {\"createdAt\": \"2021-12-26T00:00:00\", \"count\": 0}, {\"createdAt\": \"2022-01-02T00:00:00\", \"count\": 0}, {\"createdAt\": \"2022-01-09T00:00:00\", \"count\": 0}, {\"createdAt\": \"2022-01-16T00:00:00\", \"count\": 0}, {\"createdAt\": \"2022-01-23T00:00:00\", \"count\": 0}, {\"createdAt\": \"2022-01-30T00:00:00\", \"count\": 0}, {\"createdAt\": \"2022-02-06T00:00:00\", \"count\": 0}, {\"createdAt\": \"2022-02-13T00:00:00\", \"count\": 0}, {\"createdAt\": \"2022-02-20T00:00:00\", \"count\": 0}, {\"createdAt\": \"2022-02-27T00:00:00\", \"count\": 1}, {\"createdAt\": \"2022-03-06T00:00:00\", \"count\": 0}, {\"createdAt\": \"2022-03-13T00:00:00\", \"count\": 1}, {\"createdAt\": \"2022-03-20T00:00:00\", \"count\": 0}, {\"createdAt\": \"2022-03-27T00:00:00\", \"count\": 1}, {\"createdAt\": \"2022-04-03T00:00:00\", \"count\": 0}, {\"createdAt\": \"2022-04-10T00:00:00\", \"count\": 0}, {\"createdAt\": \"2022-04-17T00:00:00\", \"count\": 0}, {\"createdAt\": \"2022-04-24T00:00:00\", \"count\": 0}, {\"createdAt\": \"2022-05-01T00:00:00\", \"count\": 0}, {\"createdAt\": \"2022-05-08T00:00:00\", \"count\": 0}, {\"createdAt\": \"2022-05-15T00:00:00\", \"count\": 0}, {\"createdAt\": \"2022-05-22T00:00:00\", \"count\": 0}, {\"createdAt\": \"2022-05-29T00:00:00\", \"count\": 0}, {\"createdAt\": \"2022-06-05T00:00:00\", \"count\": 1}, {\"createdAt\": \"2022-06-12T00:00:00\", \"count\": 2}, {\"createdAt\": \"2022-06-19T00:00:00\", \"count\": 0}, {\"createdAt\": \"2022-06-26T00:00:00\", \"count\": 1}, {\"createdAt\": \"2022-07-03T00:00:00\", \"count\": 4}, {\"createdAt\": \"2022-07-10T00:00:00\", \"count\": 1}, {\"createdAt\": \"2022-07-17T00:00:00\", \"count\": 0}, {\"createdAt\": \"2022-07-24T00:00:00\", \"count\": 1}, {\"createdAt\": \"2022-07-31T00:00:00\", \"count\": 0}, {\"createdAt\": \"2022-08-07T00:00:00\", \"count\": 1}, {\"createdAt\": \"2022-08-14T00:00:00\", \"count\": 0}, {\"createdAt\": \"2022-08-21T00:00:00\", \"count\": 0}, {\"createdAt\": \"2022-08-28T00:00:00\", \"count\": 5}, {\"createdAt\": \"2022-09-04T00:00:00\", \"count\": 1}, {\"createdAt\": \"2022-09-11T00:00:00\", \"count\": 0}, {\"createdAt\": \"2022-09-18T00:00:00\", \"count\": 0}, {\"createdAt\": \"2022-09-25T00:00:00\", \"count\": 1}, {\"createdAt\": \"2022-10-02T00:00:00\", \"count\": 0}, {\"createdAt\": \"2022-10-09T00:00:00\", \"count\": 0}, {\"createdAt\": \"2022-10-16T00:00:00\", \"count\": 1}, {\"createdAt\": \"2022-10-23T00:00:00\", \"count\": 0}, {\"createdAt\": \"2022-10-30T00:00:00\", \"count\": 2}, {\"createdAt\": \"2022-11-06T00:00:00\", \"count\": 9}, {\"createdAt\": \"2022-11-13T00:00:00\", \"count\": 7}, {\"createdAt\": \"2022-11-20T00:00:00\", \"count\": 4}, {\"createdAt\": \"2022-11-27T00:00:00\", \"count\": 3}, {\"createdAt\": \"2022-12-04T00:00:00\", \"count\": 13}, {\"createdAt\": \"2022-12-11T00:00:00\", \"count\": 11}, {\"createdAt\": \"2022-12-18T00:00:00\", \"count\": 29}, {\"createdAt\": \"2022-12-25T00:00:00\", \"count\": 6}, {\"createdAt\": \"2023-01-01T00:00:00\", \"count\": 3}, {\"createdAt\": \"2023-01-08T00:00:00\", \"count\": 13}, {\"createdAt\": \"2023-01-15T00:00:00\", \"count\": 44}, {\"createdAt\": \"2023-01-22T00:00:00\", \"count\": 30}, {\"createdAt\": \"2023-01-29T00:00:00\", \"count\": 6}, {\"createdAt\": \"2023-02-05T00:00:00\", \"count\": 18}, {\"createdAt\": \"2023-02-12T00:00:00\", \"count\": 29}, {\"createdAt\": \"2023-02-19T00:00:00\", \"count\": 50}, {\"createdAt\": \"2023-02-26T00:00:00\", \"count\": 29}, {\"createdAt\": \"2023-03-05T00:00:00\", \"count\": 10}]}}, {\"mode\": \"vega-lite\"});\n",
       "</script>"
      ],
      "text/plain": [
       "alt.LayerChart(...)"
      ]
     },
     "execution_count": 14,
     "metadata": {},
     "output_type": "execute_result"
    }
   ],
   "source": [
    "comments_time = comments.groupby('repo').resample('W', on='createdAt').count()['author'].reset_index()\n",
    "comments_time = comments_time.rename(columns={'author': 'count'})\n",
    "comments_time_total = comments_time.groupby('createdAt').agg({\"count\": \"sum\"}).reset_index()\n",
    "ch1 = alt.Chart(comments_time, width=600).mark_line().encode(\n",
    "    x='createdAt',\n",
    "    y='count',\n",
    "    color='repo',\n",
    "    tooltip=\"repo\"\n",
    ")\n",
    "\n",
    "ch2 = alt.Chart(comments_time_total, width=600).mark_line(color=\"black\").encode(\n",
    "    x='createdAt',\n",
    "    y='count',\n",
    ")\n",
    "\n",
    "ch1 + ch2"
   ]
  },
  {
   "cell_type": "markdown",
   "id": "6aa2c286",
   "metadata": {
    "papermill": {
     "duration": 0.007535,
     "end_time": "2023-03-06T14:44:48.333183",
     "exception": false,
     "start_time": "2023-03-06T14:44:48.325648",
     "status": "completed"
    },
    "tags": []
   },
   "source": [
    "### PRs"
   ]
  },
  {
   "cell_type": "code",
   "execution_count": 15,
   "id": "24787024",
   "metadata": {
    "execution": {
     "iopub.execute_input": "2023-03-06T14:44:48.345490Z",
     "iopub.status.busy": "2023-03-06T14:44:48.344776Z",
     "iopub.status.idle": "2023-03-06T14:44:48.468923Z",
     "shell.execute_reply": "2023-03-06T14:44:48.468112Z"
    },
    "papermill": {
     "duration": 0.132416,
     "end_time": "2023-03-06T14:44:48.470909",
     "exception": false,
     "start_time": "2023-03-06T14:44:48.338493",
     "status": "completed"
    },
    "tags": [
     "hide_input"
    ]
   },
   "outputs": [
    {
     "data": {
      "text/html": [
       "\n",
       "<div id=\"altair-viz-58b9badca10342d983a8e5fae8d1796a\"></div>\n",
       "<script type=\"text/javascript\">\n",
       "  var VEGA_DEBUG = (typeof VEGA_DEBUG == \"undefined\") ? {} : VEGA_DEBUG;\n",
       "  (function(spec, embedOpt){\n",
       "    let outputDiv = document.currentScript.previousElementSibling;\n",
       "    if (outputDiv.id !== \"altair-viz-58b9badca10342d983a8e5fae8d1796a\") {\n",
       "      outputDiv = document.getElementById(\"altair-viz-58b9badca10342d983a8e5fae8d1796a\");\n",
       "    }\n",
       "    const paths = {\n",
       "      \"vega\": \"https://cdn.jsdelivr.net/npm//vega@5?noext\",\n",
       "      \"vega-lib\": \"https://cdn.jsdelivr.net/npm//vega-lib?noext\",\n",
       "      \"vega-lite\": \"https://cdn.jsdelivr.net/npm//vega-lite@4.17.0?noext\",\n",
       "      \"vega-embed\": \"https://cdn.jsdelivr.net/npm//vega-embed@6?noext\",\n",
       "    };\n",
       "\n",
       "    function maybeLoadScript(lib, version) {\n",
       "      var key = `${lib.replace(\"-\", \"\")}_version`;\n",
       "      return (VEGA_DEBUG[key] == version) ?\n",
       "        Promise.resolve(paths[lib]) :\n",
       "        new Promise(function(resolve, reject) {\n",
       "          var s = document.createElement('script');\n",
       "          document.getElementsByTagName(\"head\")[0].appendChild(s);\n",
       "          s.async = true;\n",
       "          s.onload = () => {\n",
       "            VEGA_DEBUG[key] = version;\n",
       "            return resolve(paths[lib]);\n",
       "          };\n",
       "          s.onerror = () => reject(`Error loading script: ${paths[lib]}`);\n",
       "          s.src = paths[lib];\n",
       "        });\n",
       "    }\n",
       "\n",
       "    function showError(err) {\n",
       "      outputDiv.innerHTML = `<div class=\"error\" style=\"color:red;\">${err}</div>`;\n",
       "      throw err;\n",
       "    }\n",
       "\n",
       "    function displayChart(vegaEmbed) {\n",
       "      vegaEmbed(outputDiv, spec, embedOpt)\n",
       "        .catch(err => showError(`Javascript Error: ${err.message}<br>This usually means there's a typo in your chart specification. See the javascript console for the full traceback.`));\n",
       "    }\n",
       "\n",
       "    if(typeof define === \"function\" && define.amd) {\n",
       "      requirejs.config({paths});\n",
       "      require([\"vega-embed\"], displayChart, err => showError(`Error loading script: ${err.message}`));\n",
       "    } else {\n",
       "      maybeLoadScript(\"vega\", \"5\")\n",
       "        .then(() => maybeLoadScript(\"vega-lite\", \"4.17.0\"))\n",
       "        .then(() => maybeLoadScript(\"vega-embed\", \"6\"))\n",
       "        .catch(showError)\n",
       "        .then(() => displayChart(vegaEmbed));\n",
       "    }\n",
       "  })({\"config\": {\"axisLeft\": {\"labelFontSize\": 15}, \"axisBottom\": {\"labelFontSize\": 15}}, \"layer\": [{\"data\": {\"name\": \"data-57e7c0e6ff1153ae8288a5b94f5fb6f8\"}, \"mark\": \"line\", \"encoding\": {\"color\": {\"field\": \"repo\", \"type\": \"nominal\"}, \"tooltip\": {\"field\": \"repo\", \"type\": \"nominal\"}, \"x\": {\"field\": \"createdAt\", \"type\": \"temporal\"}, \"y\": {\"field\": \"count\", \"type\": \"quantitative\"}}, \"width\": 600}, {\"data\": {\"name\": \"data-98c5c69f898190d08060efcdfc8531fa\"}, \"mark\": {\"type\": \"line\", \"color\": \"black\"}, \"encoding\": {\"x\": {\"field\": \"createdAt\", \"type\": \"temporal\"}, \"y\": {\"field\": \"count\", \"type\": \"quantitative\"}}, \"width\": 600}], \"$schema\": \"https://vega.github.io/schema/vega-lite/v4.17.0.json\", \"datasets\": {\"data-57e7c0e6ff1153ae8288a5b94f5fb6f8\": [{\"repo\": \"2i2c-hubs-image\", \"createdAt\": \"2023-02-19T00:00:00\", \"count\": 3}, {\"repo\": \"default-hub-homepage\", \"createdAt\": \"2022-12-18T00:00:00\", \"count\": 1}, {\"repo\": \"grafana-dashboards\", \"createdAt\": \"2022-12-11T00:00:00\", \"count\": 1}, {\"repo\": \"grafana-dashboards\", \"createdAt\": \"2022-12-18T00:00:00\", \"count\": 1}, {\"repo\": \"grafana-dashboards\", \"createdAt\": \"2022-12-25T00:00:00\", \"count\": 0}, {\"repo\": \"grafana-dashboards\", \"createdAt\": \"2023-01-01T00:00:00\", \"count\": 0}, {\"repo\": \"grafana-dashboards\", \"createdAt\": \"2023-01-08T00:00:00\", \"count\": 0}, {\"repo\": \"grafana-dashboards\", \"createdAt\": \"2023-01-15T00:00:00\", \"count\": 0}, {\"repo\": \"grafana-dashboards\", \"createdAt\": \"2023-01-22T00:00:00\", \"count\": 2}, {\"repo\": \"grafana-dashboards\", \"createdAt\": \"2023-01-29T00:00:00\", \"count\": 0}, {\"repo\": \"grafana-dashboards\", \"createdAt\": \"2023-02-05T00:00:00\", \"count\": 1}, {\"repo\": \"grafana-dashboards\", \"createdAt\": \"2023-02-12T00:00:00\", \"count\": 0}, {\"repo\": \"grafana-dashboards\", \"createdAt\": \"2023-02-19T00:00:00\", \"count\": 3}, {\"repo\": \"hub-user-image-template\", \"createdAt\": \"2022-11-27T00:00:00\", \"count\": 1}, {\"repo\": \"infrastructure\", \"createdAt\": \"2022-02-27T00:00:00\", \"count\": 1}, {\"repo\": \"infrastructure\", \"createdAt\": \"2022-03-06T00:00:00\", \"count\": 0}, {\"repo\": \"infrastructure\", \"createdAt\": \"2022-03-13T00:00:00\", \"count\": 0}, {\"repo\": \"infrastructure\", \"createdAt\": \"2022-03-20T00:00:00\", \"count\": 0}, {\"repo\": \"infrastructure\", \"createdAt\": \"2022-03-27T00:00:00\", \"count\": 0}, {\"repo\": \"infrastructure\", \"createdAt\": \"2022-04-03T00:00:00\", \"count\": 0}, {\"repo\": \"infrastructure\", \"createdAt\": \"2022-04-10T00:00:00\", \"count\": 0}, {\"repo\": \"infrastructure\", \"createdAt\": \"2022-04-17T00:00:00\", \"count\": 0}, {\"repo\": \"infrastructure\", \"createdAt\": \"2022-04-24T00:00:00\", \"count\": 0}, {\"repo\": \"infrastructure\", \"createdAt\": \"2022-05-01T00:00:00\", \"count\": 0}, {\"repo\": \"infrastructure\", \"createdAt\": \"2022-05-08T00:00:00\", \"count\": 0}, {\"repo\": \"infrastructure\", \"createdAt\": \"2022-05-15T00:00:00\", \"count\": 0}, {\"repo\": \"infrastructure\", \"createdAt\": \"2022-05-22T00:00:00\", \"count\": 0}, {\"repo\": \"infrastructure\", \"createdAt\": \"2022-05-29T00:00:00\", \"count\": 0}, {\"repo\": \"infrastructure\", \"createdAt\": \"2022-06-05T00:00:00\", \"count\": 0}, {\"repo\": \"infrastructure\", \"createdAt\": \"2022-06-12T00:00:00\", \"count\": 0}, {\"repo\": \"infrastructure\", \"createdAt\": \"2022-06-19T00:00:00\", \"count\": 0}, {\"repo\": \"infrastructure\", \"createdAt\": \"2022-06-26T00:00:00\", \"count\": 0}, {\"repo\": \"infrastructure\", \"createdAt\": \"2022-07-03T00:00:00\", \"count\": 1}, {\"repo\": \"infrastructure\", \"createdAt\": \"2022-07-10T00:00:00\", \"count\": 0}, {\"repo\": \"infrastructure\", \"createdAt\": \"2022-07-17T00:00:00\", \"count\": 0}, {\"repo\": \"infrastructure\", \"createdAt\": \"2022-07-24T00:00:00\", \"count\": 0}, {\"repo\": \"infrastructure\", \"createdAt\": \"2022-07-31T00:00:00\", \"count\": 0}, {\"repo\": \"infrastructure\", \"createdAt\": \"2022-08-07T00:00:00\", \"count\": 0}, {\"repo\": \"infrastructure\", \"createdAt\": \"2022-08-14T00:00:00\", \"count\": 0}, {\"repo\": \"infrastructure\", \"createdAt\": \"2022-08-21T00:00:00\", \"count\": 0}, {\"repo\": \"infrastructure\", \"createdAt\": \"2022-08-28T00:00:00\", \"count\": 0}, {\"repo\": \"infrastructure\", \"createdAt\": \"2022-09-04T00:00:00\", \"count\": 0}, {\"repo\": \"infrastructure\", \"createdAt\": \"2022-09-11T00:00:00\", \"count\": 0}, {\"repo\": \"infrastructure\", \"createdAt\": \"2022-09-18T00:00:00\", \"count\": 0}, {\"repo\": \"infrastructure\", \"createdAt\": \"2022-09-25T00:00:00\", \"count\": 0}, {\"repo\": \"infrastructure\", \"createdAt\": \"2022-10-02T00:00:00\", \"count\": 0}, {\"repo\": \"infrastructure\", \"createdAt\": \"2022-10-09T00:00:00\", \"count\": 0}, {\"repo\": \"infrastructure\", \"createdAt\": \"2022-10-16T00:00:00\", \"count\": 0}, {\"repo\": \"infrastructure\", \"createdAt\": \"2022-10-23T00:00:00\", \"count\": 0}, {\"repo\": \"infrastructure\", \"createdAt\": \"2022-10-30T00:00:00\", \"count\": 0}, {\"repo\": \"infrastructure\", \"createdAt\": \"2022-11-06T00:00:00\", \"count\": 0}, {\"repo\": \"infrastructure\", \"createdAt\": \"2022-11-13T00:00:00\", \"count\": 0}, {\"repo\": \"infrastructure\", \"createdAt\": \"2022-11-20T00:00:00\", \"count\": 2}, {\"repo\": \"infrastructure\", \"createdAt\": \"2022-11-27T00:00:00\", \"count\": 0}, {\"repo\": \"infrastructure\", \"createdAt\": \"2022-12-04T00:00:00\", \"count\": 1}, {\"repo\": \"infrastructure\", \"createdAt\": \"2022-12-11T00:00:00\", \"count\": 2}, {\"repo\": \"infrastructure\", \"createdAt\": \"2022-12-18T00:00:00\", \"count\": 8}, {\"repo\": \"infrastructure\", \"createdAt\": \"2022-12-25T00:00:00\", \"count\": 0}, {\"repo\": \"infrastructure\", \"createdAt\": \"2023-01-01T00:00:00\", \"count\": 0}, {\"repo\": \"infrastructure\", \"createdAt\": \"2023-01-08T00:00:00\", \"count\": 7}, {\"repo\": \"infrastructure\", \"createdAt\": \"2023-01-15T00:00:00\", \"count\": 6}, {\"repo\": \"infrastructure\", \"createdAt\": \"2023-01-22T00:00:00\", \"count\": 2}, {\"repo\": \"infrastructure\", \"createdAt\": \"2023-01-29T00:00:00\", \"count\": 2}, {\"repo\": \"infrastructure\", \"createdAt\": \"2023-02-05T00:00:00\", \"count\": 5}, {\"repo\": \"infrastructure\", \"createdAt\": \"2023-02-12T00:00:00\", \"count\": 4}, {\"repo\": \"infrastructure\", \"createdAt\": \"2023-02-19T00:00:00\", \"count\": 6}, {\"repo\": \"infrastructure\", \"createdAt\": \"2023-02-26T00:00:00\", \"count\": 2}, {\"repo\": \"infrastructure\", \"createdAt\": \"2023-03-05T00:00:00\", \"count\": 1}, {\"repo\": \"jupyter-remote-desktop-proxy\", \"createdAt\": \"2023-01-15T00:00:00\", \"count\": 4}, {\"repo\": \"jupyterlab-telemetry\", \"createdAt\": \"2019-05-26T00:00:00\", \"count\": 1}, {\"repo\": \"kubespawner\", \"createdAt\": \"2023-01-15T00:00:00\", \"count\": 1}, {\"repo\": \"meta\", \"createdAt\": \"2023-01-15T00:00:00\", \"count\": 1}, {\"repo\": \"repo2docker\", \"createdAt\": \"2022-08-28T00:00:00\", \"count\": 1}, {\"repo\": \"repo2docker\", \"createdAt\": \"2022-09-04T00:00:00\", \"count\": 0}, {\"repo\": \"repo2docker\", \"createdAt\": \"2022-09-11T00:00:00\", \"count\": 0}, {\"repo\": \"repo2docker\", \"createdAt\": \"2022-09-18T00:00:00\", \"count\": 0}, {\"repo\": \"repo2docker\", \"createdAt\": \"2022-09-25T00:00:00\", \"count\": 0}, {\"repo\": \"repo2docker\", \"createdAt\": \"2022-10-02T00:00:00\", \"count\": 0}, {\"repo\": \"repo2docker\", \"createdAt\": \"2022-10-09T00:00:00\", \"count\": 0}, {\"repo\": \"repo2docker\", \"createdAt\": \"2022-10-16T00:00:00\", \"count\": 0}, {\"repo\": \"repo2docker\", \"createdAt\": \"2022-10-23T00:00:00\", \"count\": 0}, {\"repo\": \"repo2docker\", \"createdAt\": \"2022-10-30T00:00:00\", \"count\": 0}, {\"repo\": \"repo2docker\", \"createdAt\": \"2022-11-06T00:00:00\", \"count\": 0}, {\"repo\": \"repo2docker\", \"createdAt\": \"2022-11-13T00:00:00\", \"count\": 0}, {\"repo\": \"repo2docker\", \"createdAt\": \"2022-11-20T00:00:00\", \"count\": 1}, {\"repo\": \"repo2docker-action\", \"createdAt\": \"2023-01-08T00:00:00\", \"count\": 1}, {\"repo\": \"repo2docker-action\", \"createdAt\": \"2023-01-15T00:00:00\", \"count\": 0}, {\"repo\": \"repo2docker-action\", \"createdAt\": \"2023-01-22T00:00:00\", \"count\": 1}, {\"repo\": \"systemdspawner\", \"createdAt\": \"2023-01-15T00:00:00\", \"count\": 2}, {\"repo\": \"the-littlest-jupyterhub\", \"createdAt\": \"2023-01-15T00:00:00\", \"count\": 1}, {\"repo\": \"utoronto-image\", \"createdAt\": \"2023-01-08T00:00:00\", \"count\": 2}, {\"repo\": \"utoronto-r-image\", \"createdAt\": \"2023-01-08T00:00:00\", \"count\": 1}], \"data-98c5c69f898190d08060efcdfc8531fa\": [{\"createdAt\": \"2019-05-26T00:00:00\", \"count\": 1}, {\"createdAt\": \"2022-02-27T00:00:00\", \"count\": 1}, {\"createdAt\": \"2022-03-06T00:00:00\", \"count\": 0}, {\"createdAt\": \"2022-03-13T00:00:00\", \"count\": 0}, {\"createdAt\": \"2022-03-20T00:00:00\", \"count\": 0}, {\"createdAt\": \"2022-03-27T00:00:00\", \"count\": 0}, {\"createdAt\": \"2022-04-03T00:00:00\", \"count\": 0}, {\"createdAt\": \"2022-04-10T00:00:00\", \"count\": 0}, {\"createdAt\": \"2022-04-17T00:00:00\", \"count\": 0}, {\"createdAt\": \"2022-04-24T00:00:00\", \"count\": 0}, {\"createdAt\": \"2022-05-01T00:00:00\", \"count\": 0}, {\"createdAt\": \"2022-05-08T00:00:00\", \"count\": 0}, {\"createdAt\": \"2022-05-15T00:00:00\", \"count\": 0}, {\"createdAt\": \"2022-05-22T00:00:00\", \"count\": 0}, {\"createdAt\": \"2022-05-29T00:00:00\", \"count\": 0}, {\"createdAt\": \"2022-06-05T00:00:00\", \"count\": 0}, {\"createdAt\": \"2022-06-12T00:00:00\", \"count\": 0}, {\"createdAt\": \"2022-06-19T00:00:00\", \"count\": 0}, {\"createdAt\": \"2022-06-26T00:00:00\", \"count\": 0}, {\"createdAt\": \"2022-07-03T00:00:00\", \"count\": 1}, {\"createdAt\": \"2022-07-10T00:00:00\", \"count\": 0}, {\"createdAt\": \"2022-07-17T00:00:00\", \"count\": 0}, {\"createdAt\": \"2022-07-24T00:00:00\", \"count\": 0}, {\"createdAt\": \"2022-07-31T00:00:00\", \"count\": 0}, {\"createdAt\": \"2022-08-07T00:00:00\", \"count\": 0}, {\"createdAt\": \"2022-08-14T00:00:00\", \"count\": 0}, {\"createdAt\": \"2022-08-21T00:00:00\", \"count\": 0}, {\"createdAt\": \"2022-08-28T00:00:00\", \"count\": 1}, {\"createdAt\": \"2022-09-04T00:00:00\", \"count\": 0}, {\"createdAt\": \"2022-09-11T00:00:00\", \"count\": 0}, {\"createdAt\": \"2022-09-18T00:00:00\", \"count\": 0}, {\"createdAt\": \"2022-09-25T00:00:00\", \"count\": 0}, {\"createdAt\": \"2022-10-02T00:00:00\", \"count\": 0}, {\"createdAt\": \"2022-10-09T00:00:00\", \"count\": 0}, {\"createdAt\": \"2022-10-16T00:00:00\", \"count\": 0}, {\"createdAt\": \"2022-10-23T00:00:00\", \"count\": 0}, {\"createdAt\": \"2022-10-30T00:00:00\", \"count\": 0}, {\"createdAt\": \"2022-11-06T00:00:00\", \"count\": 0}, {\"createdAt\": \"2022-11-13T00:00:00\", \"count\": 0}, {\"createdAt\": \"2022-11-20T00:00:00\", \"count\": 3}, {\"createdAt\": \"2022-11-27T00:00:00\", \"count\": 1}, {\"createdAt\": \"2022-12-04T00:00:00\", \"count\": 1}, {\"createdAt\": \"2022-12-11T00:00:00\", \"count\": 3}, {\"createdAt\": \"2022-12-18T00:00:00\", \"count\": 10}, {\"createdAt\": \"2022-12-25T00:00:00\", \"count\": 0}, {\"createdAt\": \"2023-01-01T00:00:00\", \"count\": 0}, {\"createdAt\": \"2023-01-08T00:00:00\", \"count\": 11}, {\"createdAt\": \"2023-01-15T00:00:00\", \"count\": 15}, {\"createdAt\": \"2023-01-22T00:00:00\", \"count\": 5}, {\"createdAt\": \"2023-01-29T00:00:00\", \"count\": 2}, {\"createdAt\": \"2023-02-05T00:00:00\", \"count\": 6}, {\"createdAt\": \"2023-02-12T00:00:00\", \"count\": 4}, {\"createdAt\": \"2023-02-19T00:00:00\", \"count\": 12}, {\"createdAt\": \"2023-02-26T00:00:00\", \"count\": 2}, {\"createdAt\": \"2023-03-05T00:00:00\", \"count\": 1}]}}, {\"mode\": \"vega-lite\"});\n",
       "</script>"
      ],
      "text/plain": [
       "alt.LayerChart(...)"
      ]
     },
     "execution_count": 15,
     "metadata": {},
     "output_type": "execute_result"
    }
   ],
   "source": [
    "prs_time = prs.groupby('repo').resample('W', on='createdAt').count()['author'].reset_index()\n",
    "prs_time = prs_time.rename(columns={'author': 'count'})\n",
    "prs_time_total = prs_time.groupby('createdAt').agg({\"count\": \"sum\"}).reset_index()\n",
    "\n",
    "ch1 = alt.Chart(prs_time, width=600).mark_line().encode(\n",
    "    x='createdAt',\n",
    "    y='count',\n",
    "    color='repo',\n",
    "    tooltip=\"repo\"\n",
    ")\n",
    "\n",
    "ch2 = alt.Chart(prs_time_total, width=600).mark_line(color=\"black\").encode(\n",
    "    x='createdAt',\n",
    "    y='count',\n",
    ")\n",
    "\n",
    "ch1 + ch2"
   ]
  },
  {
   "cell_type": "code",
   "execution_count": 16,
   "id": "4f9e8afd",
   "metadata": {
    "execution": {
     "iopub.execute_input": "2023-03-06T14:44:48.483963Z",
     "iopub.status.busy": "2023-03-06T14:44:48.483708Z",
     "iopub.status.idle": "2023-03-06T14:44:48.585726Z",
     "shell.execute_reply": "2023-03-06T14:44:48.584973Z"
    },
    "papermill": {
     "duration": 0.110779,
     "end_time": "2023-03-06T14:44:48.587704",
     "exception": false,
     "start_time": "2023-03-06T14:44:48.476925",
     "status": "completed"
    },
    "tags": [
     "hide_input"
    ]
   },
   "outputs": [
    {
     "data": {
      "text/html": [
       "\n",
       "<div id=\"altair-viz-76e61b6d689d452e9da89c79174271f9\"></div>\n",
       "<script type=\"text/javascript\">\n",
       "  var VEGA_DEBUG = (typeof VEGA_DEBUG == \"undefined\") ? {} : VEGA_DEBUG;\n",
       "  (function(spec, embedOpt){\n",
       "    let outputDiv = document.currentScript.previousElementSibling;\n",
       "    if (outputDiv.id !== \"altair-viz-76e61b6d689d452e9da89c79174271f9\") {\n",
       "      outputDiv = document.getElementById(\"altair-viz-76e61b6d689d452e9da89c79174271f9\");\n",
       "    }\n",
       "    const paths = {\n",
       "      \"vega\": \"https://cdn.jsdelivr.net/npm//vega@5?noext\",\n",
       "      \"vega-lib\": \"https://cdn.jsdelivr.net/npm//vega-lib?noext\",\n",
       "      \"vega-lite\": \"https://cdn.jsdelivr.net/npm//vega-lite@4.17.0?noext\",\n",
       "      \"vega-embed\": \"https://cdn.jsdelivr.net/npm//vega-embed@6?noext\",\n",
       "    };\n",
       "\n",
       "    function maybeLoadScript(lib, version) {\n",
       "      var key = `${lib.replace(\"-\", \"\")}_version`;\n",
       "      return (VEGA_DEBUG[key] == version) ?\n",
       "        Promise.resolve(paths[lib]) :\n",
       "        new Promise(function(resolve, reject) {\n",
       "          var s = document.createElement('script');\n",
       "          document.getElementsByTagName(\"head\")[0].appendChild(s);\n",
       "          s.async = true;\n",
       "          s.onload = () => {\n",
       "            VEGA_DEBUG[key] = version;\n",
       "            return resolve(paths[lib]);\n",
       "          };\n",
       "          s.onerror = () => reject(`Error loading script: ${paths[lib]}`);\n",
       "          s.src = paths[lib];\n",
       "        });\n",
       "    }\n",
       "\n",
       "    function showError(err) {\n",
       "      outputDiv.innerHTML = `<div class=\"error\" style=\"color:red;\">${err}</div>`;\n",
       "      throw err;\n",
       "    }\n",
       "\n",
       "    function displayChart(vegaEmbed) {\n",
       "      vegaEmbed(outputDiv, spec, embedOpt)\n",
       "        .catch(err => showError(`Javascript Error: ${err.message}<br>This usually means there's a typo in your chart specification. See the javascript console for the full traceback.`));\n",
       "    }\n",
       "\n",
       "    if(typeof define === \"function\" && define.amd) {\n",
       "      requirejs.config({paths});\n",
       "      require([\"vega-embed\"], displayChart, err => showError(`Error loading script: ${err.message}`));\n",
       "    } else {\n",
       "      maybeLoadScript(\"vega\", \"5\")\n",
       "        .then(() => maybeLoadScript(\"vega-lite\", \"4.17.0\"))\n",
       "        .then(() => maybeLoadScript(\"vega-embed\", \"6\"))\n",
       "        .catch(showError)\n",
       "        .then(() => displayChart(vegaEmbed));\n",
       "    }\n",
       "  })({\"config\": {\"axisLeft\": {\"labelFontSize\": 15}, \"axisBottom\": {\"labelFontSize\": 15}}, \"data\": {\"name\": \"data-d356a8713fa4ac0a55442e446c4051cf\"}, \"mark\": \"line\", \"encoding\": {\"color\": {\"field\": \"repo\", \"type\": \"nominal\"}, \"tooltip\": {\"field\": \"repo\", \"type\": \"nominal\"}, \"x\": {\"field\": \"closedAt\", \"type\": \"temporal\"}, \"y\": {\"field\": \"count\", \"type\": \"quantitative\"}}, \"width\": 600, \"$schema\": \"https://vega.github.io/schema/vega-lite/v4.17.0.json\", \"datasets\": {\"data-d356a8713fa4ac0a55442e446c4051cf\": [{\"repo\": \".github\", \"closedAt\": \"2023-01-22T00:00:00\", \"count\": 1}, {\"repo\": \"2i2c-hubs-image\", \"closedAt\": \"2023-02-19T00:00:00\", \"count\": 1}, {\"repo\": \"2i2c-org.github.io\", \"closedAt\": \"2023-01-08T00:00:00\", \"count\": 1}, {\"repo\": \"default-hub-homepage\", \"closedAt\": \"2022-12-18T00:00:00\", \"count\": 1}, {\"repo\": \"docs\", \"closedAt\": \"2023-02-26T00:00:00\", \"count\": 1}, {\"repo\": \"gh-scoped-creds\", \"closedAt\": \"2023-02-05T00:00:00\", \"count\": 1}, {\"repo\": \"gh-scoped-creds\", \"closedAt\": \"2023-02-12T00:00:00\", \"count\": 1}, {\"repo\": \"grafana-dashboards\", \"closedAt\": \"2023-01-22T00:00:00\", \"count\": 1}, {\"repo\": \"grafana-dashboards\", \"closedAt\": \"2023-01-29T00:00:00\", \"count\": 0}, {\"repo\": \"grafana-dashboards\", \"closedAt\": \"2023-02-05T00:00:00\", \"count\": 0}, {\"repo\": \"grafana-dashboards\", \"closedAt\": \"2023-02-12T00:00:00\", \"count\": 1}, {\"repo\": \"hub-user-image-template\", \"closedAt\": \"2023-01-15T00:00:00\", \"count\": 1}, {\"repo\": \"infrastructure\", \"closedAt\": \"2022-12-11T00:00:00\", \"count\": 2}, {\"repo\": \"infrastructure\", \"closedAt\": \"2022-12-18T00:00:00\", \"count\": 5}, {\"repo\": \"infrastructure\", \"closedAt\": \"2022-12-25T00:00:00\", \"count\": 4}, {\"repo\": \"infrastructure\", \"closedAt\": \"2023-01-01T00:00:00\", \"count\": 0}, {\"repo\": \"infrastructure\", \"closedAt\": \"2023-01-08T00:00:00\", \"count\": 5}, {\"repo\": \"infrastructure\", \"closedAt\": \"2023-01-15T00:00:00\", \"count\": 8}, {\"repo\": \"infrastructure\", \"closedAt\": \"2023-01-22T00:00:00\", \"count\": 4}, {\"repo\": \"infrastructure\", \"closedAt\": \"2023-01-29T00:00:00\", \"count\": 2}, {\"repo\": \"infrastructure\", \"closedAt\": \"2023-02-05T00:00:00\", \"count\": 6}, {\"repo\": \"infrastructure\", \"closedAt\": \"2023-02-12T00:00:00\", \"count\": 2}, {\"repo\": \"infrastructure\", \"closedAt\": \"2023-02-19T00:00:00\", \"count\": 6}, {\"repo\": \"infrastructure\", \"closedAt\": \"2023-02-26T00:00:00\", \"count\": 4}, {\"repo\": \"infrastructure\", \"closedAt\": \"2023-03-05T00:00:00\", \"count\": 1}, {\"repo\": \"ipynb\", \"closedAt\": \"2023-01-15T00:00:00\", \"count\": 1}, {\"repo\": \"jupyter-remote-desktop-proxy\", \"closedAt\": \"2023-01-15T00:00:00\", \"count\": 4}, {\"repo\": \"jupyter-remote-desktop-proxy\", \"closedAt\": \"2023-01-22T00:00:00\", \"count\": 1}, {\"repo\": \"jupyter-remote-desktop-proxy\", \"closedAt\": \"2023-01-29T00:00:00\", \"count\": 1}, {\"repo\": \"jupyterhub\", \"closedAt\": \"2023-02-19T00:00:00\", \"count\": 1}, {\"repo\": \"jupyterhub-idle-culler\", \"closedAt\": \"2023-02-26T00:00:00\", \"count\": 1}, {\"repo\": \"nbgitpuller\", \"closedAt\": \"2023-01-08T00:00:00\", \"count\": 2}, {\"repo\": \"repo2docker\", \"closedAt\": \"2023-01-08T00:00:00\", \"count\": 2}, {\"repo\": \"repo2docker\", \"closedAt\": \"2023-01-15T00:00:00\", \"count\": 0}, {\"repo\": \"repo2docker\", \"closedAt\": \"2023-01-22T00:00:00\", \"count\": 0}, {\"repo\": \"repo2docker\", \"closedAt\": \"2023-01-29T00:00:00\", \"count\": 0}, {\"repo\": \"repo2docker\", \"closedAt\": \"2023-02-05T00:00:00\", \"count\": 0}, {\"repo\": \"repo2docker\", \"closedAt\": \"2023-02-12T00:00:00\", \"count\": 0}, {\"repo\": \"repo2docker\", \"closedAt\": \"2023-02-19T00:00:00\", \"count\": 1}, {\"repo\": \"systemdspawner\", \"closedAt\": \"2023-01-01T00:00:00\", \"count\": 1}, {\"repo\": \"systemdspawner\", \"closedAt\": \"2023-01-08T00:00:00\", \"count\": 0}, {\"repo\": \"systemdspawner\", \"closedAt\": \"2023-01-15T00:00:00\", \"count\": 2}, {\"repo\": \"team-compass\", \"closedAt\": \"2023-01-01T00:00:00\", \"count\": 1}, {\"repo\": \"utoronto-image\", \"closedAt\": \"2023-01-08T00:00:00\", \"count\": 3}, {\"repo\": \"utoronto-image\", \"closedAt\": \"2023-01-15T00:00:00\", \"count\": 1}, {\"repo\": \"utoronto-r-image\", \"closedAt\": \"2023-01-08T00:00:00\", \"count\": 1}]}}, {\"mode\": \"vega-lite\"});\n",
       "</script>"
      ],
      "text/plain": [
       "alt.Chart(...)"
      ]
     },
     "execution_count": 16,
     "metadata": {},
     "output_type": "execute_result"
    }
   ],
   "source": [
    "closed_by_time = closed_by.groupby('repo').resample('W', on='closedAt').count()['author'].reset_index()\n",
    "closed_by_time = closed_by_time.rename(columns={'author': 'count'})\n",
    "\n",
    "alt.Chart(closed_by_time, width=600).mark_line().encode(\n",
    "    x='closedAt',\n",
    "    y='count',\n",
    "    color='repo',\n",
    "    tooltip=\"repo\"\n",
    ")"
   ]
  },
  {
   "cell_type": "markdown",
   "id": "3cac4866",
   "metadata": {
    "papermill": {
     "duration": 0.006243,
     "end_time": "2023-03-06T14:44:48.601059",
     "exception": false,
     "start_time": "2023-03-06T14:44:48.594816",
     "status": "completed"
    },
    "tags": []
   },
   "source": [
    "## By type over time"
   ]
  },
  {
   "cell_type": "code",
   "execution_count": 17,
   "id": "38663f3c",
   "metadata": {
    "execution": {
     "iopub.execute_input": "2023-03-06T14:44:48.615067Z",
     "iopub.status.busy": "2023-03-06T14:44:48.614502Z",
     "iopub.status.idle": "2023-03-06T14:44:48.637154Z",
     "shell.execute_reply": "2023-03-06T14:44:48.636509Z"
    },
    "papermill": {
     "duration": 0.031454,
     "end_time": "2023-03-06T14:44:48.638961",
     "exception": false,
     "start_time": "2023-03-06T14:44:48.607507",
     "status": "completed"
    },
    "tags": [
     "remove_cell"
    ]
   },
   "outputs": [],
   "source": [
    "prs_time = prs[['author', 'createdAt']].resample('W', on='createdAt').count()['author'].reset_index()\n",
    "prs_time = prs_time.rename(columns={'author': 'prs'})\n",
    "comments_time = comments[['author', 'createdAt']].resample('W', on='createdAt').count()['author'].reset_index()\n",
    "comments_time = comments_time.rename(columns={'author': 'comments'})\n",
    "\n",
    "total_time = pd.merge(prs_time, comments_time, on='createdAt', how='outer')\n",
    "total_time = total_time.melt(id_vars='createdAt', var_name=\"kind\", value_name=\"count\")\n"
   ]
  },
  {
   "cell_type": "code",
   "execution_count": 18,
   "id": "a922c627",
   "metadata": {
    "execution": {
     "iopub.execute_input": "2023-03-06T14:44:48.652346Z",
     "iopub.status.busy": "2023-03-06T14:44:48.651879Z",
     "iopub.status.idle": "2023-03-06T14:44:48.758699Z",
     "shell.execute_reply": "2023-03-06T14:44:48.757922Z"
    },
    "papermill": {
     "duration": 0.115496,
     "end_time": "2023-03-06T14:44:48.760501",
     "exception": false,
     "start_time": "2023-03-06T14:44:48.645005",
     "status": "completed"
    },
    "tags": [
     "hide_input"
    ]
   },
   "outputs": [
    {
     "data": {
      "text/html": [
       "\n",
       "<div id=\"altair-viz-02115618e7d44ca8aa7c6ce4bb485417\"></div>\n",
       "<script type=\"text/javascript\">\n",
       "  var VEGA_DEBUG = (typeof VEGA_DEBUG == \"undefined\") ? {} : VEGA_DEBUG;\n",
       "  (function(spec, embedOpt){\n",
       "    let outputDiv = document.currentScript.previousElementSibling;\n",
       "    if (outputDiv.id !== \"altair-viz-02115618e7d44ca8aa7c6ce4bb485417\") {\n",
       "      outputDiv = document.getElementById(\"altair-viz-02115618e7d44ca8aa7c6ce4bb485417\");\n",
       "    }\n",
       "    const paths = {\n",
       "      \"vega\": \"https://cdn.jsdelivr.net/npm//vega@5?noext\",\n",
       "      \"vega-lib\": \"https://cdn.jsdelivr.net/npm//vega-lib?noext\",\n",
       "      \"vega-lite\": \"https://cdn.jsdelivr.net/npm//vega-lite@4.17.0?noext\",\n",
       "      \"vega-embed\": \"https://cdn.jsdelivr.net/npm//vega-embed@6?noext\",\n",
       "    };\n",
       "\n",
       "    function maybeLoadScript(lib, version) {\n",
       "      var key = `${lib.replace(\"-\", \"\")}_version`;\n",
       "      return (VEGA_DEBUG[key] == version) ?\n",
       "        Promise.resolve(paths[lib]) :\n",
       "        new Promise(function(resolve, reject) {\n",
       "          var s = document.createElement('script');\n",
       "          document.getElementsByTagName(\"head\")[0].appendChild(s);\n",
       "          s.async = true;\n",
       "          s.onload = () => {\n",
       "            VEGA_DEBUG[key] = version;\n",
       "            return resolve(paths[lib]);\n",
       "          };\n",
       "          s.onerror = () => reject(`Error loading script: ${paths[lib]}`);\n",
       "          s.src = paths[lib];\n",
       "        });\n",
       "    }\n",
       "\n",
       "    function showError(err) {\n",
       "      outputDiv.innerHTML = `<div class=\"error\" style=\"color:red;\">${err}</div>`;\n",
       "      throw err;\n",
       "    }\n",
       "\n",
       "    function displayChart(vegaEmbed) {\n",
       "      vegaEmbed(outputDiv, spec, embedOpt)\n",
       "        .catch(err => showError(`Javascript Error: ${err.message}<br>This usually means there's a typo in your chart specification. See the javascript console for the full traceback.`));\n",
       "    }\n",
       "\n",
       "    if(typeof define === \"function\" && define.amd) {\n",
       "      requirejs.config({paths});\n",
       "      require([\"vega-embed\"], displayChart, err => showError(`Error loading script: ${err.message}`));\n",
       "    } else {\n",
       "      maybeLoadScript(\"vega\", \"5\")\n",
       "        .then(() => maybeLoadScript(\"vega-lite\", \"4.17.0\"))\n",
       "        .then(() => maybeLoadScript(\"vega-embed\", \"6\"))\n",
       "        .catch(showError)\n",
       "        .then(() => displayChart(vegaEmbed));\n",
       "    }\n",
       "  })({\"config\": {\"axisLeft\": {\"labelFontSize\": 15}, \"axisBottom\": {\"labelFontSize\": 15}}, \"data\": {\"name\": \"data-27c75ca3589e6f50b27701f78596c1f7\"}, \"mark\": \"line\", \"encoding\": {\"color\": {\"field\": \"kind\", \"type\": \"nominal\"}, \"x\": {\"field\": \"createdAt\", \"type\": \"temporal\"}, \"y\": {\"field\": \"count\", \"type\": \"quantitative\"}}, \"width\": 600, \"$schema\": \"https://vega.github.io/schema/vega-lite/v4.17.0.json\", \"datasets\": {\"data-27c75ca3589e6f50b27701f78596c1f7\": [{\"createdAt\": \"2019-05-26T00:00:00\", \"kind\": \"prs\", \"count\": 1.0}, {\"createdAt\": \"2019-06-02T00:00:00\", \"kind\": \"prs\", \"count\": 0.0}, {\"createdAt\": \"2019-06-09T00:00:00\", \"kind\": \"prs\", \"count\": 0.0}, {\"createdAt\": \"2019-06-16T00:00:00\", \"kind\": \"prs\", \"count\": 0.0}, {\"createdAt\": \"2019-06-23T00:00:00\", \"kind\": \"prs\", \"count\": 0.0}, {\"createdAt\": \"2019-06-30T00:00:00\", \"kind\": \"prs\", \"count\": 0.0}, {\"createdAt\": \"2019-07-07T00:00:00\", \"kind\": \"prs\", \"count\": 0.0}, {\"createdAt\": \"2019-07-14T00:00:00\", \"kind\": \"prs\", \"count\": 0.0}, {\"createdAt\": \"2019-07-21T00:00:00\", \"kind\": \"prs\", \"count\": 0.0}, {\"createdAt\": \"2019-07-28T00:00:00\", \"kind\": \"prs\", \"count\": 0.0}, {\"createdAt\": \"2019-08-04T00:00:00\", \"kind\": \"prs\", \"count\": 0.0}, {\"createdAt\": \"2019-08-11T00:00:00\", \"kind\": \"prs\", \"count\": 0.0}, {\"createdAt\": \"2019-08-18T00:00:00\", \"kind\": \"prs\", \"count\": 0.0}, {\"createdAt\": \"2019-08-25T00:00:00\", \"kind\": \"prs\", \"count\": 0.0}, {\"createdAt\": \"2019-09-01T00:00:00\", \"kind\": \"prs\", \"count\": 0.0}, {\"createdAt\": \"2019-09-08T00:00:00\", \"kind\": \"prs\", \"count\": 0.0}, {\"createdAt\": \"2019-09-15T00:00:00\", \"kind\": \"prs\", \"count\": 0.0}, {\"createdAt\": \"2019-09-22T00:00:00\", \"kind\": \"prs\", \"count\": 0.0}, {\"createdAt\": \"2019-09-29T00:00:00\", \"kind\": \"prs\", \"count\": 0.0}, {\"createdAt\": \"2019-10-06T00:00:00\", \"kind\": \"prs\", \"count\": 0.0}, {\"createdAt\": \"2019-10-13T00:00:00\", \"kind\": \"prs\", \"count\": 0.0}, {\"createdAt\": \"2019-10-20T00:00:00\", \"kind\": \"prs\", \"count\": 0.0}, {\"createdAt\": \"2019-10-27T00:00:00\", \"kind\": \"prs\", \"count\": 0.0}, {\"createdAt\": \"2019-11-03T00:00:00\", \"kind\": \"prs\", \"count\": 0.0}, {\"createdAt\": \"2019-11-10T00:00:00\", \"kind\": \"prs\", \"count\": 0.0}, {\"createdAt\": \"2019-11-17T00:00:00\", \"kind\": \"prs\", \"count\": 0.0}, {\"createdAt\": \"2019-11-24T00:00:00\", \"kind\": \"prs\", \"count\": 0.0}, {\"createdAt\": \"2019-12-01T00:00:00\", \"kind\": \"prs\", \"count\": 0.0}, {\"createdAt\": \"2019-12-08T00:00:00\", \"kind\": \"prs\", \"count\": 0.0}, {\"createdAt\": \"2019-12-15T00:00:00\", \"kind\": \"prs\", \"count\": 0.0}, {\"createdAt\": \"2019-12-22T00:00:00\", \"kind\": \"prs\", \"count\": 0.0}, {\"createdAt\": \"2019-12-29T00:00:00\", \"kind\": \"prs\", \"count\": 0.0}, {\"createdAt\": \"2020-01-05T00:00:00\", \"kind\": \"prs\", \"count\": 0.0}, {\"createdAt\": \"2020-01-12T00:00:00\", \"kind\": \"prs\", \"count\": 0.0}, {\"createdAt\": \"2020-01-19T00:00:00\", \"kind\": \"prs\", \"count\": 0.0}, {\"createdAt\": \"2020-01-26T00:00:00\", \"kind\": \"prs\", \"count\": 0.0}, {\"createdAt\": \"2020-02-02T00:00:00\", \"kind\": \"prs\", \"count\": 0.0}, {\"createdAt\": \"2020-02-09T00:00:00\", \"kind\": \"prs\", \"count\": 0.0}, {\"createdAt\": \"2020-02-16T00:00:00\", \"kind\": \"prs\", \"count\": 0.0}, {\"createdAt\": \"2020-02-23T00:00:00\", \"kind\": \"prs\", \"count\": 0.0}, {\"createdAt\": \"2020-03-01T00:00:00\", \"kind\": \"prs\", \"count\": 0.0}, {\"createdAt\": \"2020-03-08T00:00:00\", \"kind\": \"prs\", \"count\": 0.0}, {\"createdAt\": \"2020-03-15T00:00:00\", \"kind\": \"prs\", \"count\": 0.0}, {\"createdAt\": \"2020-03-22T00:00:00\", \"kind\": \"prs\", \"count\": 0.0}, {\"createdAt\": \"2020-03-29T00:00:00\", \"kind\": \"prs\", \"count\": 0.0}, {\"createdAt\": \"2020-04-05T00:00:00\", \"kind\": \"prs\", \"count\": 0.0}, {\"createdAt\": \"2020-04-12T00:00:00\", \"kind\": \"prs\", \"count\": 0.0}, {\"createdAt\": \"2020-04-19T00:00:00\", \"kind\": \"prs\", \"count\": 0.0}, {\"createdAt\": \"2020-04-26T00:00:00\", \"kind\": \"prs\", \"count\": 0.0}, {\"createdAt\": \"2020-05-03T00:00:00\", \"kind\": \"prs\", \"count\": 0.0}, {\"createdAt\": \"2020-05-10T00:00:00\", \"kind\": \"prs\", \"count\": 0.0}, {\"createdAt\": \"2020-05-17T00:00:00\", \"kind\": \"prs\", \"count\": 0.0}, {\"createdAt\": \"2020-05-24T00:00:00\", \"kind\": \"prs\", \"count\": 0.0}, {\"createdAt\": \"2020-05-31T00:00:00\", \"kind\": \"prs\", \"count\": 0.0}, {\"createdAt\": \"2020-06-07T00:00:00\", \"kind\": \"prs\", \"count\": 0.0}, {\"createdAt\": \"2020-06-14T00:00:00\", \"kind\": \"prs\", \"count\": 0.0}, {\"createdAt\": \"2020-06-21T00:00:00\", \"kind\": \"prs\", \"count\": 0.0}, {\"createdAt\": \"2020-06-28T00:00:00\", \"kind\": \"prs\", \"count\": 0.0}, {\"createdAt\": \"2020-07-05T00:00:00\", \"kind\": \"prs\", \"count\": 0.0}, {\"createdAt\": \"2020-07-12T00:00:00\", \"kind\": \"prs\", \"count\": 0.0}, {\"createdAt\": \"2020-07-19T00:00:00\", \"kind\": \"prs\", \"count\": 0.0}, {\"createdAt\": \"2020-07-26T00:00:00\", \"kind\": \"prs\", \"count\": 0.0}, {\"createdAt\": \"2020-08-02T00:00:00\", \"kind\": \"prs\", \"count\": 0.0}, {\"createdAt\": \"2020-08-09T00:00:00\", \"kind\": \"prs\", \"count\": 0.0}, {\"createdAt\": \"2020-08-16T00:00:00\", \"kind\": \"prs\", \"count\": 0.0}, {\"createdAt\": \"2020-08-23T00:00:00\", \"kind\": \"prs\", \"count\": 0.0}, {\"createdAt\": \"2020-08-30T00:00:00\", \"kind\": \"prs\", \"count\": 0.0}, {\"createdAt\": \"2020-09-06T00:00:00\", \"kind\": \"prs\", \"count\": 0.0}, {\"createdAt\": \"2020-09-13T00:00:00\", \"kind\": \"prs\", \"count\": 0.0}, {\"createdAt\": \"2020-09-20T00:00:00\", \"kind\": \"prs\", \"count\": 0.0}, {\"createdAt\": \"2020-09-27T00:00:00\", \"kind\": \"prs\", \"count\": 0.0}, {\"createdAt\": \"2020-10-04T00:00:00\", \"kind\": \"prs\", \"count\": 0.0}, {\"createdAt\": \"2020-10-11T00:00:00\", \"kind\": \"prs\", \"count\": 0.0}, {\"createdAt\": \"2020-10-18T00:00:00\", \"kind\": \"prs\", \"count\": 0.0}, {\"createdAt\": \"2020-10-25T00:00:00\", \"kind\": \"prs\", \"count\": 0.0}, {\"createdAt\": \"2020-11-01T00:00:00\", \"kind\": \"prs\", \"count\": 0.0}, {\"createdAt\": \"2020-11-08T00:00:00\", \"kind\": \"prs\", \"count\": 0.0}, {\"createdAt\": \"2020-11-15T00:00:00\", \"kind\": \"prs\", \"count\": 0.0}, {\"createdAt\": \"2020-11-22T00:00:00\", \"kind\": \"prs\", \"count\": 0.0}, {\"createdAt\": \"2020-11-29T00:00:00\", \"kind\": \"prs\", \"count\": 0.0}, {\"createdAt\": \"2020-12-06T00:00:00\", \"kind\": \"prs\", \"count\": 0.0}, {\"createdAt\": \"2020-12-13T00:00:00\", \"kind\": \"prs\", \"count\": 0.0}, {\"createdAt\": \"2020-12-20T00:00:00\", \"kind\": \"prs\", \"count\": 0.0}, {\"createdAt\": \"2020-12-27T00:00:00\", \"kind\": \"prs\", \"count\": 0.0}, {\"createdAt\": \"2021-01-03T00:00:00\", \"kind\": \"prs\", \"count\": 0.0}, {\"createdAt\": \"2021-01-10T00:00:00\", \"kind\": \"prs\", \"count\": 0.0}, {\"createdAt\": \"2021-01-17T00:00:00\", \"kind\": \"prs\", \"count\": 0.0}, {\"createdAt\": \"2021-01-24T00:00:00\", \"kind\": \"prs\", \"count\": 0.0}, {\"createdAt\": \"2021-01-31T00:00:00\", \"kind\": \"prs\", \"count\": 0.0}, {\"createdAt\": \"2021-02-07T00:00:00\", \"kind\": \"prs\", \"count\": 0.0}, {\"createdAt\": \"2021-02-14T00:00:00\", \"kind\": \"prs\", \"count\": 0.0}, {\"createdAt\": \"2021-02-21T00:00:00\", \"kind\": \"prs\", \"count\": 0.0}, {\"createdAt\": \"2021-02-28T00:00:00\", \"kind\": \"prs\", \"count\": 0.0}, {\"createdAt\": \"2021-03-07T00:00:00\", \"kind\": \"prs\", \"count\": 0.0}, {\"createdAt\": \"2021-03-14T00:00:00\", \"kind\": \"prs\", \"count\": 0.0}, {\"createdAt\": \"2021-03-21T00:00:00\", \"kind\": \"prs\", \"count\": 0.0}, {\"createdAt\": \"2021-03-28T00:00:00\", \"kind\": \"prs\", \"count\": 0.0}, {\"createdAt\": \"2021-04-04T00:00:00\", \"kind\": \"prs\", \"count\": 0.0}, {\"createdAt\": \"2021-04-11T00:00:00\", \"kind\": \"prs\", \"count\": 0.0}, {\"createdAt\": \"2021-04-18T00:00:00\", \"kind\": \"prs\", \"count\": 0.0}, {\"createdAt\": \"2021-04-25T00:00:00\", \"kind\": \"prs\", \"count\": 0.0}, {\"createdAt\": \"2021-05-02T00:00:00\", \"kind\": \"prs\", \"count\": 0.0}, {\"createdAt\": \"2021-05-09T00:00:00\", \"kind\": \"prs\", \"count\": 0.0}, {\"createdAt\": \"2021-05-16T00:00:00\", \"kind\": \"prs\", \"count\": 0.0}, {\"createdAt\": \"2021-05-23T00:00:00\", \"kind\": \"prs\", \"count\": 0.0}, {\"createdAt\": \"2021-05-30T00:00:00\", \"kind\": \"prs\", \"count\": 0.0}, {\"createdAt\": \"2021-06-06T00:00:00\", \"kind\": \"prs\", \"count\": 0.0}, {\"createdAt\": \"2021-06-13T00:00:00\", \"kind\": \"prs\", \"count\": 0.0}, {\"createdAt\": \"2021-06-20T00:00:00\", \"kind\": \"prs\", \"count\": 0.0}, {\"createdAt\": \"2021-06-27T00:00:00\", \"kind\": \"prs\", \"count\": 0.0}, {\"createdAt\": \"2021-07-04T00:00:00\", \"kind\": \"prs\", \"count\": 0.0}, {\"createdAt\": \"2021-07-11T00:00:00\", \"kind\": \"prs\", \"count\": 0.0}, {\"createdAt\": \"2021-07-18T00:00:00\", \"kind\": \"prs\", \"count\": 0.0}, {\"createdAt\": \"2021-07-25T00:00:00\", \"kind\": \"prs\", \"count\": 0.0}, {\"createdAt\": \"2021-08-01T00:00:00\", \"kind\": \"prs\", \"count\": 0.0}, {\"createdAt\": \"2021-08-08T00:00:00\", \"kind\": \"prs\", \"count\": 0.0}, {\"createdAt\": \"2021-08-15T00:00:00\", \"kind\": \"prs\", \"count\": 0.0}, {\"createdAt\": \"2021-08-22T00:00:00\", \"kind\": \"prs\", \"count\": 0.0}, {\"createdAt\": \"2021-08-29T00:00:00\", \"kind\": \"prs\", \"count\": 0.0}, {\"createdAt\": \"2021-09-05T00:00:00\", \"kind\": \"prs\", \"count\": 0.0}, {\"createdAt\": \"2021-09-12T00:00:00\", \"kind\": \"prs\", \"count\": 0.0}, {\"createdAt\": \"2021-09-19T00:00:00\", \"kind\": \"prs\", \"count\": 0.0}, {\"createdAt\": \"2021-09-26T00:00:00\", \"kind\": \"prs\", \"count\": 0.0}, {\"createdAt\": \"2021-10-03T00:00:00\", \"kind\": \"prs\", \"count\": 0.0}, {\"createdAt\": \"2021-10-10T00:00:00\", \"kind\": \"prs\", \"count\": 0.0}, {\"createdAt\": \"2021-10-17T00:00:00\", \"kind\": \"prs\", \"count\": 0.0}, {\"createdAt\": \"2021-10-24T00:00:00\", \"kind\": \"prs\", \"count\": 0.0}, {\"createdAt\": \"2021-10-31T00:00:00\", \"kind\": \"prs\", \"count\": 0.0}, {\"createdAt\": \"2021-11-07T00:00:00\", \"kind\": \"prs\", \"count\": 0.0}, {\"createdAt\": \"2021-11-14T00:00:00\", \"kind\": \"prs\", \"count\": 0.0}, {\"createdAt\": \"2021-11-21T00:00:00\", \"kind\": \"prs\", \"count\": 0.0}, {\"createdAt\": \"2021-11-28T00:00:00\", \"kind\": \"prs\", \"count\": 0.0}, {\"createdAt\": \"2021-12-05T00:00:00\", \"kind\": \"prs\", \"count\": 0.0}, {\"createdAt\": \"2021-12-12T00:00:00\", \"kind\": \"prs\", \"count\": 0.0}, {\"createdAt\": \"2021-12-19T00:00:00\", \"kind\": \"prs\", \"count\": 0.0}, {\"createdAt\": \"2021-12-26T00:00:00\", \"kind\": \"prs\", \"count\": 0.0}, {\"createdAt\": \"2022-01-02T00:00:00\", \"kind\": \"prs\", \"count\": 0.0}, {\"createdAt\": \"2022-01-09T00:00:00\", \"kind\": \"prs\", \"count\": 0.0}, {\"createdAt\": \"2022-01-16T00:00:00\", \"kind\": \"prs\", \"count\": 0.0}, {\"createdAt\": \"2022-01-23T00:00:00\", \"kind\": \"prs\", \"count\": 0.0}, {\"createdAt\": \"2022-01-30T00:00:00\", \"kind\": \"prs\", \"count\": 0.0}, {\"createdAt\": \"2022-02-06T00:00:00\", \"kind\": \"prs\", \"count\": 0.0}, {\"createdAt\": \"2022-02-13T00:00:00\", \"kind\": \"prs\", \"count\": 0.0}, {\"createdAt\": \"2022-02-20T00:00:00\", \"kind\": \"prs\", \"count\": 0.0}, {\"createdAt\": \"2022-02-27T00:00:00\", \"kind\": \"prs\", \"count\": 1.0}, {\"createdAt\": \"2022-03-06T00:00:00\", \"kind\": \"prs\", \"count\": 0.0}, {\"createdAt\": \"2022-03-13T00:00:00\", \"kind\": \"prs\", \"count\": 0.0}, {\"createdAt\": \"2022-03-20T00:00:00\", \"kind\": \"prs\", \"count\": 0.0}, {\"createdAt\": \"2022-03-27T00:00:00\", \"kind\": \"prs\", \"count\": 0.0}, {\"createdAt\": \"2022-04-03T00:00:00\", \"kind\": \"prs\", \"count\": 0.0}, {\"createdAt\": \"2022-04-10T00:00:00\", \"kind\": \"prs\", \"count\": 0.0}, {\"createdAt\": \"2022-04-17T00:00:00\", \"kind\": \"prs\", \"count\": 0.0}, {\"createdAt\": \"2022-04-24T00:00:00\", \"kind\": \"prs\", \"count\": 0.0}, {\"createdAt\": \"2022-05-01T00:00:00\", \"kind\": \"prs\", \"count\": 0.0}, {\"createdAt\": \"2022-05-08T00:00:00\", \"kind\": \"prs\", \"count\": 0.0}, {\"createdAt\": \"2022-05-15T00:00:00\", \"kind\": \"prs\", \"count\": 0.0}, {\"createdAt\": \"2022-05-22T00:00:00\", \"kind\": \"prs\", \"count\": 0.0}, {\"createdAt\": \"2022-05-29T00:00:00\", \"kind\": \"prs\", \"count\": 0.0}, {\"createdAt\": \"2022-06-05T00:00:00\", \"kind\": \"prs\", \"count\": 0.0}, {\"createdAt\": \"2022-06-12T00:00:00\", \"kind\": \"prs\", \"count\": 0.0}, {\"createdAt\": \"2022-06-19T00:00:00\", \"kind\": \"prs\", \"count\": 0.0}, {\"createdAt\": \"2022-06-26T00:00:00\", \"kind\": \"prs\", \"count\": 0.0}, {\"createdAt\": \"2022-07-03T00:00:00\", \"kind\": \"prs\", \"count\": 1.0}, {\"createdAt\": \"2022-07-10T00:00:00\", \"kind\": \"prs\", \"count\": 0.0}, {\"createdAt\": \"2022-07-17T00:00:00\", \"kind\": \"prs\", \"count\": 0.0}, {\"createdAt\": \"2022-07-24T00:00:00\", \"kind\": \"prs\", \"count\": 0.0}, {\"createdAt\": \"2022-07-31T00:00:00\", \"kind\": \"prs\", \"count\": 0.0}, {\"createdAt\": \"2022-08-07T00:00:00\", \"kind\": \"prs\", \"count\": 0.0}, {\"createdAt\": \"2022-08-14T00:00:00\", \"kind\": \"prs\", \"count\": 0.0}, {\"createdAt\": \"2022-08-21T00:00:00\", \"kind\": \"prs\", \"count\": 0.0}, {\"createdAt\": \"2022-08-28T00:00:00\", \"kind\": \"prs\", \"count\": 1.0}, {\"createdAt\": \"2022-09-04T00:00:00\", \"kind\": \"prs\", \"count\": 0.0}, {\"createdAt\": \"2022-09-11T00:00:00\", \"kind\": \"prs\", \"count\": 0.0}, {\"createdAt\": \"2022-09-18T00:00:00\", \"kind\": \"prs\", \"count\": 0.0}, {\"createdAt\": \"2022-09-25T00:00:00\", \"kind\": \"prs\", \"count\": 0.0}, {\"createdAt\": \"2022-10-02T00:00:00\", \"kind\": \"prs\", \"count\": 0.0}, {\"createdAt\": \"2022-10-09T00:00:00\", \"kind\": \"prs\", \"count\": 0.0}, {\"createdAt\": \"2022-10-16T00:00:00\", \"kind\": \"prs\", \"count\": 0.0}, {\"createdAt\": \"2022-10-23T00:00:00\", \"kind\": \"prs\", \"count\": 0.0}, {\"createdAt\": \"2022-10-30T00:00:00\", \"kind\": \"prs\", \"count\": 0.0}, {\"createdAt\": \"2022-11-06T00:00:00\", \"kind\": \"prs\", \"count\": 0.0}, {\"createdAt\": \"2022-11-13T00:00:00\", \"kind\": \"prs\", \"count\": 0.0}, {\"createdAt\": \"2022-11-20T00:00:00\", \"kind\": \"prs\", \"count\": 3.0}, {\"createdAt\": \"2022-11-27T00:00:00\", \"kind\": \"prs\", \"count\": 1.0}, {\"createdAt\": \"2022-12-04T00:00:00\", \"kind\": \"prs\", \"count\": 1.0}, {\"createdAt\": \"2022-12-11T00:00:00\", \"kind\": \"prs\", \"count\": 3.0}, {\"createdAt\": \"2022-12-18T00:00:00\", \"kind\": \"prs\", \"count\": 10.0}, {\"createdAt\": \"2022-12-25T00:00:00\", \"kind\": \"prs\", \"count\": 0.0}, {\"createdAt\": \"2023-01-01T00:00:00\", \"kind\": \"prs\", \"count\": 0.0}, {\"createdAt\": \"2023-01-08T00:00:00\", \"kind\": \"prs\", \"count\": 11.0}, {\"createdAt\": \"2023-01-15T00:00:00\", \"kind\": \"prs\", \"count\": 15.0}, {\"createdAt\": \"2023-01-22T00:00:00\", \"kind\": \"prs\", \"count\": 5.0}, {\"createdAt\": \"2023-01-29T00:00:00\", \"kind\": \"prs\", \"count\": 2.0}, {\"createdAt\": \"2023-02-05T00:00:00\", \"kind\": \"prs\", \"count\": 6.0}, {\"createdAt\": \"2023-02-12T00:00:00\", \"kind\": \"prs\", \"count\": 4.0}, {\"createdAt\": \"2023-02-19T00:00:00\", \"kind\": \"prs\", \"count\": 12.0}, {\"createdAt\": \"2023-02-26T00:00:00\", \"kind\": \"prs\", \"count\": 2.0}, {\"createdAt\": \"2023-03-05T00:00:00\", \"kind\": \"prs\", \"count\": 1.0}, {\"createdAt\": \"2019-01-13T00:00:00\", \"kind\": \"prs\", \"count\": null}, {\"createdAt\": \"2019-01-20T00:00:00\", \"kind\": \"prs\", \"count\": null}, {\"createdAt\": \"2019-01-27T00:00:00\", \"kind\": \"prs\", \"count\": null}, {\"createdAt\": \"2019-02-03T00:00:00\", \"kind\": \"prs\", \"count\": null}, {\"createdAt\": \"2019-02-10T00:00:00\", \"kind\": \"prs\", \"count\": null}, {\"createdAt\": \"2019-02-17T00:00:00\", \"kind\": \"prs\", \"count\": null}, {\"createdAt\": \"2019-02-24T00:00:00\", \"kind\": \"prs\", \"count\": null}, {\"createdAt\": \"2019-03-03T00:00:00\", \"kind\": \"prs\", \"count\": null}, {\"createdAt\": \"2019-03-10T00:00:00\", \"kind\": \"prs\", \"count\": null}, {\"createdAt\": \"2019-03-17T00:00:00\", \"kind\": \"prs\", \"count\": null}, {\"createdAt\": \"2019-03-24T00:00:00\", \"kind\": \"prs\", \"count\": null}, {\"createdAt\": \"2019-03-31T00:00:00\", \"kind\": \"prs\", \"count\": null}, {\"createdAt\": \"2019-04-07T00:00:00\", \"kind\": \"prs\", \"count\": null}, {\"createdAt\": \"2019-04-14T00:00:00\", \"kind\": \"prs\", \"count\": null}, {\"createdAt\": \"2019-04-21T00:00:00\", \"kind\": \"prs\", \"count\": null}, {\"createdAt\": \"2019-04-28T00:00:00\", \"kind\": \"prs\", \"count\": null}, {\"createdAt\": \"2019-05-05T00:00:00\", \"kind\": \"prs\", \"count\": null}, {\"createdAt\": \"2019-05-12T00:00:00\", \"kind\": \"prs\", \"count\": null}, {\"createdAt\": \"2019-05-19T00:00:00\", \"kind\": \"prs\", \"count\": null}, {\"createdAt\": \"2019-05-26T00:00:00\", \"kind\": \"comments\", \"count\": 0.0}, {\"createdAt\": \"2019-06-02T00:00:00\", \"kind\": \"comments\", \"count\": 0.0}, {\"createdAt\": \"2019-06-09T00:00:00\", \"kind\": \"comments\", \"count\": 0.0}, {\"createdAt\": \"2019-06-16T00:00:00\", \"kind\": \"comments\", \"count\": 0.0}, {\"createdAt\": \"2019-06-23T00:00:00\", \"kind\": \"comments\", \"count\": 0.0}, {\"createdAt\": \"2019-06-30T00:00:00\", \"kind\": \"comments\", \"count\": 0.0}, {\"createdAt\": \"2019-07-07T00:00:00\", \"kind\": \"comments\", \"count\": 0.0}, {\"createdAt\": \"2019-07-14T00:00:00\", \"kind\": \"comments\", \"count\": 1.0}, {\"createdAt\": \"2019-07-21T00:00:00\", \"kind\": \"comments\", \"count\": 0.0}, {\"createdAt\": \"2019-07-28T00:00:00\", \"kind\": \"comments\", \"count\": 0.0}, {\"createdAt\": \"2019-08-04T00:00:00\", \"kind\": \"comments\", \"count\": 0.0}, {\"createdAt\": \"2019-08-11T00:00:00\", \"kind\": \"comments\", \"count\": 0.0}, {\"createdAt\": \"2019-08-18T00:00:00\", \"kind\": \"comments\", \"count\": 0.0}, {\"createdAt\": \"2019-08-25T00:00:00\", \"kind\": \"comments\", \"count\": 0.0}, {\"createdAt\": \"2019-09-01T00:00:00\", \"kind\": \"comments\", \"count\": 0.0}, {\"createdAt\": \"2019-09-08T00:00:00\", \"kind\": \"comments\", \"count\": 0.0}, {\"createdAt\": \"2019-09-15T00:00:00\", \"kind\": \"comments\", \"count\": 0.0}, {\"createdAt\": \"2019-09-22T00:00:00\", \"kind\": \"comments\", \"count\": 0.0}, {\"createdAt\": \"2019-09-29T00:00:00\", \"kind\": \"comments\", \"count\": 0.0}, {\"createdAt\": \"2019-10-06T00:00:00\", \"kind\": \"comments\", \"count\": 0.0}, {\"createdAt\": \"2019-10-13T00:00:00\", \"kind\": \"comments\", \"count\": 0.0}, {\"createdAt\": \"2019-10-20T00:00:00\", \"kind\": \"comments\", \"count\": 0.0}, {\"createdAt\": \"2019-10-27T00:00:00\", \"kind\": \"comments\", \"count\": 0.0}, {\"createdAt\": \"2019-11-03T00:00:00\", \"kind\": \"comments\", \"count\": 0.0}, {\"createdAt\": \"2019-11-10T00:00:00\", \"kind\": \"comments\", \"count\": 0.0}, {\"createdAt\": \"2019-11-17T00:00:00\", \"kind\": \"comments\", \"count\": 0.0}, {\"createdAt\": \"2019-11-24T00:00:00\", \"kind\": \"comments\", \"count\": 0.0}, {\"createdAt\": \"2019-12-01T00:00:00\", \"kind\": \"comments\", \"count\": 0.0}, {\"createdAt\": \"2019-12-08T00:00:00\", \"kind\": \"comments\", \"count\": 0.0}, {\"createdAt\": \"2019-12-15T00:00:00\", \"kind\": \"comments\", \"count\": 0.0}, {\"createdAt\": \"2019-12-22T00:00:00\", \"kind\": \"comments\", \"count\": 0.0}, {\"createdAt\": \"2019-12-29T00:00:00\", \"kind\": \"comments\", \"count\": 0.0}, {\"createdAt\": \"2020-01-05T00:00:00\", \"kind\": \"comments\", \"count\": 0.0}, {\"createdAt\": \"2020-01-12T00:00:00\", \"kind\": \"comments\", \"count\": 0.0}, {\"createdAt\": \"2020-01-19T00:00:00\", \"kind\": \"comments\", \"count\": 0.0}, {\"createdAt\": \"2020-01-26T00:00:00\", \"kind\": \"comments\", \"count\": 0.0}, {\"createdAt\": \"2020-02-02T00:00:00\", \"kind\": \"comments\", \"count\": 0.0}, {\"createdAt\": \"2020-02-09T00:00:00\", \"kind\": \"comments\", \"count\": 0.0}, {\"createdAt\": \"2020-02-16T00:00:00\", \"kind\": \"comments\", \"count\": 0.0}, {\"createdAt\": \"2020-02-23T00:00:00\", \"kind\": \"comments\", \"count\": 0.0}, {\"createdAt\": \"2020-03-01T00:00:00\", \"kind\": \"comments\", \"count\": 0.0}, {\"createdAt\": \"2020-03-08T00:00:00\", \"kind\": \"comments\", \"count\": 0.0}, {\"createdAt\": \"2020-03-15T00:00:00\", \"kind\": \"comments\", \"count\": 0.0}, {\"createdAt\": \"2020-03-22T00:00:00\", \"kind\": \"comments\", \"count\": 0.0}, {\"createdAt\": \"2020-03-29T00:00:00\", \"kind\": \"comments\", \"count\": 0.0}, {\"createdAt\": \"2020-04-05T00:00:00\", \"kind\": \"comments\", \"count\": 0.0}, {\"createdAt\": \"2020-04-12T00:00:00\", \"kind\": \"comments\", \"count\": 0.0}, {\"createdAt\": \"2020-04-19T00:00:00\", \"kind\": \"comments\", \"count\": 0.0}, {\"createdAt\": \"2020-04-26T00:00:00\", \"kind\": \"comments\", \"count\": 0.0}, {\"createdAt\": \"2020-05-03T00:00:00\", \"kind\": \"comments\", \"count\": 0.0}, {\"createdAt\": \"2020-05-10T00:00:00\", \"kind\": \"comments\", \"count\": 0.0}, {\"createdAt\": \"2020-05-17T00:00:00\", \"kind\": \"comments\", \"count\": 0.0}, {\"createdAt\": \"2020-05-24T00:00:00\", \"kind\": \"comments\", \"count\": 0.0}, {\"createdAt\": \"2020-05-31T00:00:00\", \"kind\": \"comments\", \"count\": 0.0}, {\"createdAt\": \"2020-06-07T00:00:00\", \"kind\": \"comments\", \"count\": 0.0}, {\"createdAt\": \"2020-06-14T00:00:00\", \"kind\": \"comments\", \"count\": 0.0}, {\"createdAt\": \"2020-06-21T00:00:00\", \"kind\": \"comments\", \"count\": 0.0}, {\"createdAt\": \"2020-06-28T00:00:00\", \"kind\": \"comments\", \"count\": 0.0}, {\"createdAt\": \"2020-07-05T00:00:00\", \"kind\": \"comments\", \"count\": 0.0}, {\"createdAt\": \"2020-07-12T00:00:00\", \"kind\": \"comments\", \"count\": 0.0}, {\"createdAt\": \"2020-07-19T00:00:00\", \"kind\": \"comments\", \"count\": 0.0}, {\"createdAt\": \"2020-07-26T00:00:00\", \"kind\": \"comments\", \"count\": 0.0}, {\"createdAt\": \"2020-08-02T00:00:00\", \"kind\": \"comments\", \"count\": 0.0}, {\"createdAt\": \"2020-08-09T00:00:00\", \"kind\": \"comments\", \"count\": 0.0}, {\"createdAt\": \"2020-08-16T00:00:00\", \"kind\": \"comments\", \"count\": 0.0}, {\"createdAt\": \"2020-08-23T00:00:00\", \"kind\": \"comments\", \"count\": 0.0}, {\"createdAt\": \"2020-08-30T00:00:00\", \"kind\": \"comments\", \"count\": 0.0}, {\"createdAt\": \"2020-09-06T00:00:00\", \"kind\": \"comments\", \"count\": 0.0}, {\"createdAt\": \"2020-09-13T00:00:00\", \"kind\": \"comments\", \"count\": 0.0}, {\"createdAt\": \"2020-09-20T00:00:00\", \"kind\": \"comments\", \"count\": 0.0}, {\"createdAt\": \"2020-09-27T00:00:00\", \"kind\": \"comments\", \"count\": 0.0}, {\"createdAt\": \"2020-10-04T00:00:00\", \"kind\": \"comments\", \"count\": 0.0}, {\"createdAt\": \"2020-10-11T00:00:00\", \"kind\": \"comments\", \"count\": 0.0}, {\"createdAt\": \"2020-10-18T00:00:00\", \"kind\": \"comments\", \"count\": 0.0}, {\"createdAt\": \"2020-10-25T00:00:00\", \"kind\": \"comments\", \"count\": 0.0}, {\"createdAt\": \"2020-11-01T00:00:00\", \"kind\": \"comments\", \"count\": 0.0}, {\"createdAt\": \"2020-11-08T00:00:00\", \"kind\": \"comments\", \"count\": 0.0}, {\"createdAt\": \"2020-11-15T00:00:00\", \"kind\": \"comments\", \"count\": 0.0}, {\"createdAt\": \"2020-11-22T00:00:00\", \"kind\": \"comments\", \"count\": 0.0}, {\"createdAt\": \"2020-11-29T00:00:00\", \"kind\": \"comments\", \"count\": 0.0}, {\"createdAt\": \"2020-12-06T00:00:00\", \"kind\": \"comments\", \"count\": 0.0}, {\"createdAt\": \"2020-12-13T00:00:00\", \"kind\": \"comments\", \"count\": 0.0}, {\"createdAt\": \"2020-12-20T00:00:00\", \"kind\": \"comments\", \"count\": 0.0}, {\"createdAt\": \"2020-12-27T00:00:00\", \"kind\": \"comments\", \"count\": 0.0}, {\"createdAt\": \"2021-01-03T00:00:00\", \"kind\": \"comments\", \"count\": 0.0}, {\"createdAt\": \"2021-01-10T00:00:00\", \"kind\": \"comments\", \"count\": 0.0}, {\"createdAt\": \"2021-01-17T00:00:00\", \"kind\": \"comments\", \"count\": 0.0}, {\"createdAt\": \"2021-01-24T00:00:00\", \"kind\": \"comments\", \"count\": 0.0}, {\"createdAt\": \"2021-01-31T00:00:00\", \"kind\": \"comments\", \"count\": 0.0}, {\"createdAt\": \"2021-02-07T00:00:00\", \"kind\": \"comments\", \"count\": 0.0}, {\"createdAt\": \"2021-02-14T00:00:00\", \"kind\": \"comments\", \"count\": 0.0}, {\"createdAt\": \"2021-02-21T00:00:00\", \"kind\": \"comments\", \"count\": 0.0}, {\"createdAt\": \"2021-02-28T00:00:00\", \"kind\": \"comments\", \"count\": 0.0}, {\"createdAt\": \"2021-03-07T00:00:00\", \"kind\": \"comments\", \"count\": 1.0}, {\"createdAt\": \"2021-03-14T00:00:00\", \"kind\": \"comments\", \"count\": 0.0}, {\"createdAt\": \"2021-03-21T00:00:00\", \"kind\": \"comments\", \"count\": 0.0}, {\"createdAt\": \"2021-03-28T00:00:00\", \"kind\": \"comments\", \"count\": 0.0}, {\"createdAt\": \"2021-04-04T00:00:00\", \"kind\": \"comments\", \"count\": 0.0}, {\"createdAt\": \"2021-04-11T00:00:00\", \"kind\": \"comments\", \"count\": 0.0}, {\"createdAt\": \"2021-04-18T00:00:00\", \"kind\": \"comments\", \"count\": 0.0}, {\"createdAt\": \"2021-04-25T00:00:00\", \"kind\": \"comments\", \"count\": 0.0}, {\"createdAt\": \"2021-05-02T00:00:00\", \"kind\": \"comments\", \"count\": 0.0}, {\"createdAt\": \"2021-05-09T00:00:00\", \"kind\": \"comments\", \"count\": 0.0}, {\"createdAt\": \"2021-05-16T00:00:00\", \"kind\": \"comments\", \"count\": 0.0}, {\"createdAt\": \"2021-05-23T00:00:00\", \"kind\": \"comments\", \"count\": 0.0}, {\"createdAt\": \"2021-05-30T00:00:00\", \"kind\": \"comments\", \"count\": 3.0}, {\"createdAt\": \"2021-06-06T00:00:00\", \"kind\": \"comments\", \"count\": 3.0}, {\"createdAt\": \"2021-06-13T00:00:00\", \"kind\": \"comments\", \"count\": 0.0}, {\"createdAt\": \"2021-06-20T00:00:00\", \"kind\": \"comments\", \"count\": 0.0}, {\"createdAt\": \"2021-06-27T00:00:00\", \"kind\": \"comments\", \"count\": 1.0}, {\"createdAt\": \"2021-07-04T00:00:00\", \"kind\": \"comments\", \"count\": 0.0}, {\"createdAt\": \"2021-07-11T00:00:00\", \"kind\": \"comments\", \"count\": 1.0}, {\"createdAt\": \"2021-07-18T00:00:00\", \"kind\": \"comments\", \"count\": 0.0}, {\"createdAt\": \"2021-07-25T00:00:00\", \"kind\": \"comments\", \"count\": 0.0}, {\"createdAt\": \"2021-08-01T00:00:00\", \"kind\": \"comments\", \"count\": 0.0}, {\"createdAt\": \"2021-08-08T00:00:00\", \"kind\": \"comments\", \"count\": 0.0}, {\"createdAt\": \"2021-08-15T00:00:00\", \"kind\": \"comments\", \"count\": 0.0}, {\"createdAt\": \"2021-08-22T00:00:00\", \"kind\": \"comments\", \"count\": 0.0}, {\"createdAt\": \"2021-08-29T00:00:00\", \"kind\": \"comments\", \"count\": 1.0}, {\"createdAt\": \"2021-09-05T00:00:00\", \"kind\": \"comments\", \"count\": 0.0}, {\"createdAt\": \"2021-09-12T00:00:00\", \"kind\": \"comments\", \"count\": 0.0}, {\"createdAt\": \"2021-09-19T00:00:00\", \"kind\": \"comments\", \"count\": 0.0}, {\"createdAt\": \"2021-09-26T00:00:00\", \"kind\": \"comments\", \"count\": 0.0}, {\"createdAt\": \"2021-10-03T00:00:00\", \"kind\": \"comments\", \"count\": 0.0}, {\"createdAt\": \"2021-10-10T00:00:00\", \"kind\": \"comments\", \"count\": 0.0}, {\"createdAt\": \"2021-10-17T00:00:00\", \"kind\": \"comments\", \"count\": 0.0}, {\"createdAt\": \"2021-10-24T00:00:00\", \"kind\": \"comments\", \"count\": 0.0}, {\"createdAt\": \"2021-10-31T00:00:00\", \"kind\": \"comments\", \"count\": 0.0}, {\"createdAt\": \"2021-11-07T00:00:00\", \"kind\": \"comments\", \"count\": 0.0}, {\"createdAt\": \"2021-11-14T00:00:00\", \"kind\": \"comments\", \"count\": 0.0}, {\"createdAt\": \"2021-11-21T00:00:00\", \"kind\": \"comments\", \"count\": 0.0}, {\"createdAt\": \"2021-11-28T00:00:00\", \"kind\": \"comments\", \"count\": 0.0}, {\"createdAt\": \"2021-12-05T00:00:00\", \"kind\": \"comments\", \"count\": 0.0}, {\"createdAt\": \"2021-12-12T00:00:00\", \"kind\": \"comments\", \"count\": 0.0}, {\"createdAt\": \"2021-12-19T00:00:00\", \"kind\": \"comments\", \"count\": 0.0}, {\"createdAt\": \"2021-12-26T00:00:00\", \"kind\": \"comments\", \"count\": 0.0}, {\"createdAt\": \"2022-01-02T00:00:00\", \"kind\": \"comments\", \"count\": 0.0}, {\"createdAt\": \"2022-01-09T00:00:00\", \"kind\": \"comments\", \"count\": 0.0}, {\"createdAt\": \"2022-01-16T00:00:00\", \"kind\": \"comments\", \"count\": 0.0}, {\"createdAt\": \"2022-01-23T00:00:00\", \"kind\": \"comments\", \"count\": 0.0}, {\"createdAt\": \"2022-01-30T00:00:00\", \"kind\": \"comments\", \"count\": 0.0}, {\"createdAt\": \"2022-02-06T00:00:00\", \"kind\": \"comments\", \"count\": 0.0}, {\"createdAt\": \"2022-02-13T00:00:00\", \"kind\": \"comments\", \"count\": 0.0}, {\"createdAt\": \"2022-02-20T00:00:00\", \"kind\": \"comments\", \"count\": 0.0}, {\"createdAt\": \"2022-02-27T00:00:00\", \"kind\": \"comments\", \"count\": 1.0}, {\"createdAt\": \"2022-03-06T00:00:00\", \"kind\": \"comments\", \"count\": 0.0}, {\"createdAt\": \"2022-03-13T00:00:00\", \"kind\": \"comments\", \"count\": 1.0}, {\"createdAt\": \"2022-03-20T00:00:00\", \"kind\": \"comments\", \"count\": 0.0}, {\"createdAt\": \"2022-03-27T00:00:00\", \"kind\": \"comments\", \"count\": 1.0}, {\"createdAt\": \"2022-04-03T00:00:00\", \"kind\": \"comments\", \"count\": 0.0}, {\"createdAt\": \"2022-04-10T00:00:00\", \"kind\": \"comments\", \"count\": 0.0}, {\"createdAt\": \"2022-04-17T00:00:00\", \"kind\": \"comments\", \"count\": 0.0}, {\"createdAt\": \"2022-04-24T00:00:00\", \"kind\": \"comments\", \"count\": 0.0}, {\"createdAt\": \"2022-05-01T00:00:00\", \"kind\": \"comments\", \"count\": 0.0}, {\"createdAt\": \"2022-05-08T00:00:00\", \"kind\": \"comments\", \"count\": 0.0}, {\"createdAt\": \"2022-05-15T00:00:00\", \"kind\": \"comments\", \"count\": 0.0}, {\"createdAt\": \"2022-05-22T00:00:00\", \"kind\": \"comments\", \"count\": 0.0}, {\"createdAt\": \"2022-05-29T00:00:00\", \"kind\": \"comments\", \"count\": 0.0}, {\"createdAt\": \"2022-06-05T00:00:00\", \"kind\": \"comments\", \"count\": 1.0}, {\"createdAt\": \"2022-06-12T00:00:00\", \"kind\": \"comments\", \"count\": 2.0}, {\"createdAt\": \"2022-06-19T00:00:00\", \"kind\": \"comments\", \"count\": 0.0}, {\"createdAt\": \"2022-06-26T00:00:00\", \"kind\": \"comments\", \"count\": 1.0}, {\"createdAt\": \"2022-07-03T00:00:00\", \"kind\": \"comments\", \"count\": 4.0}, {\"createdAt\": \"2022-07-10T00:00:00\", \"kind\": \"comments\", \"count\": 1.0}, {\"createdAt\": \"2022-07-17T00:00:00\", \"kind\": \"comments\", \"count\": 0.0}, {\"createdAt\": \"2022-07-24T00:00:00\", \"kind\": \"comments\", \"count\": 1.0}, {\"createdAt\": \"2022-07-31T00:00:00\", \"kind\": \"comments\", \"count\": 0.0}, {\"createdAt\": \"2022-08-07T00:00:00\", \"kind\": \"comments\", \"count\": 1.0}, {\"createdAt\": \"2022-08-14T00:00:00\", \"kind\": \"comments\", \"count\": 0.0}, {\"createdAt\": \"2022-08-21T00:00:00\", \"kind\": \"comments\", \"count\": 0.0}, {\"createdAt\": \"2022-08-28T00:00:00\", \"kind\": \"comments\", \"count\": 5.0}, {\"createdAt\": \"2022-09-04T00:00:00\", \"kind\": \"comments\", \"count\": 1.0}, {\"createdAt\": \"2022-09-11T00:00:00\", \"kind\": \"comments\", \"count\": 0.0}, {\"createdAt\": \"2022-09-18T00:00:00\", \"kind\": \"comments\", \"count\": 0.0}, {\"createdAt\": \"2022-09-25T00:00:00\", \"kind\": \"comments\", \"count\": 1.0}, {\"createdAt\": \"2022-10-02T00:00:00\", \"kind\": \"comments\", \"count\": 0.0}, {\"createdAt\": \"2022-10-09T00:00:00\", \"kind\": \"comments\", \"count\": 0.0}, {\"createdAt\": \"2022-10-16T00:00:00\", \"kind\": \"comments\", \"count\": 1.0}, {\"createdAt\": \"2022-10-23T00:00:00\", \"kind\": \"comments\", \"count\": 0.0}, {\"createdAt\": \"2022-10-30T00:00:00\", \"kind\": \"comments\", \"count\": 2.0}, {\"createdAt\": \"2022-11-06T00:00:00\", \"kind\": \"comments\", \"count\": 9.0}, {\"createdAt\": \"2022-11-13T00:00:00\", \"kind\": \"comments\", \"count\": 7.0}, {\"createdAt\": \"2022-11-20T00:00:00\", \"kind\": \"comments\", \"count\": 4.0}, {\"createdAt\": \"2022-11-27T00:00:00\", \"kind\": \"comments\", \"count\": 3.0}, {\"createdAt\": \"2022-12-04T00:00:00\", \"kind\": \"comments\", \"count\": 13.0}, {\"createdAt\": \"2022-12-11T00:00:00\", \"kind\": \"comments\", \"count\": 11.0}, {\"createdAt\": \"2022-12-18T00:00:00\", \"kind\": \"comments\", \"count\": 29.0}, {\"createdAt\": \"2022-12-25T00:00:00\", \"kind\": \"comments\", \"count\": 6.0}, {\"createdAt\": \"2023-01-01T00:00:00\", \"kind\": \"comments\", \"count\": 3.0}, {\"createdAt\": \"2023-01-08T00:00:00\", \"kind\": \"comments\", \"count\": 13.0}, {\"createdAt\": \"2023-01-15T00:00:00\", \"kind\": \"comments\", \"count\": 44.0}, {\"createdAt\": \"2023-01-22T00:00:00\", \"kind\": \"comments\", \"count\": 30.0}, {\"createdAt\": \"2023-01-29T00:00:00\", \"kind\": \"comments\", \"count\": 6.0}, {\"createdAt\": \"2023-02-05T00:00:00\", \"kind\": \"comments\", \"count\": 18.0}, {\"createdAt\": \"2023-02-12T00:00:00\", \"kind\": \"comments\", \"count\": 29.0}, {\"createdAt\": \"2023-02-19T00:00:00\", \"kind\": \"comments\", \"count\": 50.0}, {\"createdAt\": \"2023-02-26T00:00:00\", \"kind\": \"comments\", \"count\": 29.0}, {\"createdAt\": \"2023-03-05T00:00:00\", \"kind\": \"comments\", \"count\": 10.0}, {\"createdAt\": \"2019-01-13T00:00:00\", \"kind\": \"comments\", \"count\": 2.0}, {\"createdAt\": \"2019-01-20T00:00:00\", \"kind\": \"comments\", \"count\": 0.0}, {\"createdAt\": \"2019-01-27T00:00:00\", \"kind\": \"comments\", \"count\": 0.0}, {\"createdAt\": \"2019-02-03T00:00:00\", \"kind\": \"comments\", \"count\": 0.0}, {\"createdAt\": \"2019-02-10T00:00:00\", \"kind\": \"comments\", \"count\": 0.0}, {\"createdAt\": \"2019-02-17T00:00:00\", \"kind\": \"comments\", \"count\": 0.0}, {\"createdAt\": \"2019-02-24T00:00:00\", \"kind\": \"comments\", \"count\": 0.0}, {\"createdAt\": \"2019-03-03T00:00:00\", \"kind\": \"comments\", \"count\": 0.0}, {\"createdAt\": \"2019-03-10T00:00:00\", \"kind\": \"comments\", \"count\": 0.0}, {\"createdAt\": \"2019-03-17T00:00:00\", \"kind\": \"comments\", \"count\": 0.0}, {\"createdAt\": \"2019-03-24T00:00:00\", \"kind\": \"comments\", \"count\": 0.0}, {\"createdAt\": \"2019-03-31T00:00:00\", \"kind\": \"comments\", \"count\": 0.0}, {\"createdAt\": \"2019-04-07T00:00:00\", \"kind\": \"comments\", \"count\": 0.0}, {\"createdAt\": \"2019-04-14T00:00:00\", \"kind\": \"comments\", \"count\": 0.0}, {\"createdAt\": \"2019-04-21T00:00:00\", \"kind\": \"comments\", \"count\": 0.0}, {\"createdAt\": \"2019-04-28T00:00:00\", \"kind\": \"comments\", \"count\": 0.0}, {\"createdAt\": \"2019-05-05T00:00:00\", \"kind\": \"comments\", \"count\": 0.0}, {\"createdAt\": \"2019-05-12T00:00:00\", \"kind\": \"comments\", \"count\": 0.0}, {\"createdAt\": \"2019-05-19T00:00:00\", \"kind\": \"comments\", \"count\": 0.0}]}}, {\"mode\": \"vega-lite\"});\n",
       "</script>"
      ],
      "text/plain": [
       "alt.Chart(...)"
      ]
     },
     "execution_count": 18,
     "metadata": {},
     "output_type": "execute_result"
    }
   ],
   "source": [
    "alt.Chart(total_time, width=600).mark_line().encode(\n",
    "    x='createdAt',\n",
    "    y='count',\n",
    "    color='kind'\n",
    ")"
   ]
  },
  {
   "cell_type": "code",
   "execution_count": null,
   "id": "b28f70ba",
   "metadata": {
    "papermill": {
     "duration": 0.006868,
     "end_time": "2023-03-06T14:44:48.774837",
     "exception": false,
     "start_time": "2023-03-06T14:44:48.767969",
     "status": "completed"
    },
    "tags": []
   },
   "outputs": [],
   "source": []
  },
  {
   "cell_type": "code",
   "execution_count": null,
   "id": "79c28546",
   "metadata": {
    "papermill": {
     "duration": 0.006277,
     "end_time": "2023-03-06T14:44:48.787415",
     "exception": false,
     "start_time": "2023-03-06T14:44:48.781138",
     "status": "completed"
    },
    "tags": []
   },
   "outputs": [],
   "source": []
  }
 ],
 "metadata": {
  "kernelspec": {
   "display_name": "Python 3 (ipykernel)",
   "language": "python",
   "name": "python3"
  },
  "language_info": {
   "codemirror_mode": {
    "name": "ipython",
    "version": 3
   },
   "file_extension": ".py",
   "mimetype": "text/x-python",
   "name": "python",
   "nbconvert_exporter": "python",
   "pygments_lexer": "ipython3",
   "version": "3.9.16"
  },
  "papermill": {
   "default_parameters": {},
   "duration": 3.330001,
   "end_time": "2023-03-06T14:44:49.112770",
   "environment_variables": {},
   "exception": null,
   "input_path": "./templates/person_report.ipynb",
   "output_path": "generated/people/yuvipanda.ipynb",
   "parameters": {
    "n_days": 90,
    "person": "yuvipanda"
   },
   "start_time": "2023-03-06T14:44:45.782769",
   "version": "2.4.0"
  },
  "widgets": {
   "application/vnd.jupyter.widget-state+json": {
    "state": {},
    "version_major": 2,
    "version_minor": 0
   }
  }
 },
 "nbformat": 4,
 "nbformat_minor": 5
}