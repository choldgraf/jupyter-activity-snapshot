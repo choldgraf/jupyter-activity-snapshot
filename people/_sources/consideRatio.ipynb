{
 "cells": [
  {
   "cell_type": "markdown",
   "id": "4cae6afd",
   "metadata": {
    "papermill": {
     "duration": 0.01987,
     "end_time": "2021-11-12T01:35:00.626062",
     "exception": false,
     "start_time": "2021-11-12T01:35:00.606192",
     "status": "completed"
    },
    "tags": []
   },
   "source": [
    "# Report for consideRatio"
   ]
  },
  {
   "cell_type": "code",
   "execution_count": 1,
   "id": "70c7a939",
   "metadata": {
    "execution": {
     "iopub.execute_input": "2021-11-12T01:35:00.669605Z",
     "iopub.status.busy": "2021-11-12T01:35:00.668987Z",
     "iopub.status.idle": "2021-11-12T01:35:01.818120Z",
     "shell.execute_reply": "2021-11-12T01:35:01.818668Z"
    },
    "papermill": {
     "duration": 1.176242,
     "end_time": "2021-11-12T01:35:01.818999",
     "exception": false,
     "start_time": "2021-11-12T01:35:00.642757",
     "status": "completed"
    },
    "tags": [
     "remove_cell"
    ]
   },
   "outputs": [],
   "source": [
    "import seaborn as sns\n",
    "import pandas as pd\n",
    "import numpy as np\n",
    "import altair as alt\n",
    "from markdown import markdown\n",
    "from IPython.display import Markdown\n",
    "from ipywidgets.widgets import HTML, Tab\n",
    "from ipywidgets import widgets\n",
    "from datetime import timedelta\n",
    "from matplotlib import pyplot as plt\n",
    "import os.path as op\n",
    "\n",
    "from mycode import alt_theme\n",
    "from warnings import simplefilter\n",
    "simplefilter('ignore')"
   ]
  },
  {
   "cell_type": "code",
   "execution_count": 2,
   "id": "a87c6a8d",
   "metadata": {
    "execution": {
     "iopub.execute_input": "2021-11-12T01:35:01.859776Z",
     "iopub.status.busy": "2021-11-12T01:35:01.859129Z",
     "iopub.status.idle": "2021-11-12T01:35:01.863728Z",
     "shell.execute_reply": "2021-11-12T01:35:01.862806Z"
    },
    "papermill": {
     "duration": 0.026394,
     "end_time": "2021-11-12T01:35:01.863912",
     "exception": false,
     "start_time": "2021-11-12T01:35:01.837518",
     "status": "completed"
    },
    "tags": [
     "remove_cell"
    ]
   },
   "outputs": [],
   "source": [
    "def author_url(author):\n",
    "    return f\"https://github.com/{author}\""
   ]
  },
  {
   "cell_type": "code",
   "execution_count": 3,
   "id": "01dcd864",
   "metadata": {
    "execution": {
     "iopub.execute_input": "2021-11-12T01:35:01.904194Z",
     "iopub.status.busy": "2021-11-12T01:35:01.903576Z",
     "iopub.status.idle": "2021-11-12T01:35:01.907611Z",
     "shell.execute_reply": "2021-11-12T01:35:01.907076Z"
    },
    "papermill": {
     "duration": 0.026743,
     "end_time": "2021-11-12T01:35:01.907790",
     "exception": false,
     "start_time": "2021-11-12T01:35:01.881047",
     "status": "completed"
    },
    "tags": [
     "parameters",
     "hide_input"
    ]
   },
   "outputs": [],
   "source": [
    "# Parameters\n",
    "fmt_date = \"{:%Y-%m-%d}\"\n",
    "\n",
    "n_days = 30 * 2\n",
    "start_date = fmt_date.format(pd.datetime.today() - timedelta(days=n_days))\n",
    "end_date = fmt_date.format(pd.datetime.today())\n",
    "\n",
    "renderer = \"html\"\n",
    "person = \"jasongrout\""
   ]
  },
  {
   "cell_type": "code",
   "execution_count": 4,
   "id": "435a8d6d",
   "metadata": {
    "execution": {
     "iopub.execute_input": "2021-11-12T01:35:01.942466Z",
     "iopub.status.busy": "2021-11-12T01:35:01.941812Z",
     "iopub.status.idle": "2021-11-12T01:35:01.944019Z",
     "shell.execute_reply": "2021-11-12T01:35:01.944662Z"
    },
    "papermill": {
     "duration": 0.022097,
     "end_time": "2021-11-12T01:35:01.944848",
     "exception": false,
     "start_time": "2021-11-12T01:35:01.922751",
     "status": "completed"
    },
    "tags": [
     "injected-parameters",
     "remove-cell"
    ]
   },
   "outputs": [],
   "source": [
    "# Parameters\n",
    "person = \"consideRatio\"\n",
    "n_days = 90\n"
   ]
  },
  {
   "cell_type": "code",
   "execution_count": 5,
   "id": "e2808c4f",
   "metadata": {
    "execution": {
     "iopub.execute_input": "2021-11-12T01:35:01.989988Z",
     "iopub.status.busy": "2021-11-12T01:35:01.989319Z",
     "iopub.status.idle": "2021-11-12T01:35:02.006237Z",
     "shell.execute_reply": "2021-11-12T01:35:02.005510Z"
    },
    "papermill": {
     "duration": 0.044007,
     "end_time": "2021-11-12T01:35:02.006450",
     "exception": false,
     "start_time": "2021-11-12T01:35:01.962443",
     "status": "completed"
    },
    "tags": [
     "remove_cell"
    ]
   },
   "outputs": [
    {
     "data": {
      "text/plain": [
       "ThemeRegistry.enable('my_theme')"
      ]
     },
     "execution_count": 5,
     "metadata": {},
     "output_type": "execute_result"
    }
   ],
   "source": [
    "alt.renderers.enable(renderer);\n",
    "alt.themes.register('my_theme', alt_theme)\n",
    "alt.themes.enable(\"my_theme\")"
   ]
  },
  {
   "cell_type": "markdown",
   "id": "d363f271",
   "metadata": {
    "papermill": {
     "duration": 0.015243,
     "end_time": "2021-11-12T01:35:02.037807",
     "exception": false,
     "start_time": "2021-11-12T01:35:02.022564",
     "status": "completed"
    },
    "tags": []
   },
   "source": [
    "## Load data"
   ]
  },
  {
   "cell_type": "code",
   "execution_count": 6,
   "id": "ddfa440e",
   "metadata": {
    "execution": {
     "iopub.execute_input": "2021-11-12T01:35:02.082229Z",
     "iopub.status.busy": "2021-11-12T01:35:02.080567Z",
     "iopub.status.idle": "2021-11-12T01:35:02.204041Z",
     "shell.execute_reply": "2021-11-12T01:35:02.204705Z"
    },
    "papermill": {
     "duration": 0.15134,
     "end_time": "2021-11-12T01:35:02.204957",
     "exception": false,
     "start_time": "2021-11-12T01:35:02.053617",
     "status": "completed"
    },
    "tags": [
     "remove_cell"
    ]
   },
   "outputs": [],
   "source": [
    "from pathlib import Path\n",
    "path_data = Path(\"./\")\n",
    "comments = pd.read_csv(path_data.joinpath('../data/comments.csv'), index_col=0)\n",
    "issues = pd.read_csv(path_data.joinpath('../data/issues.csv'), index_col=0)\n",
    "prs = pd.read_csv(path_data.joinpath('../data/prs.csv'), index_col=0)\n",
    "\n",
    "comments = comments.query('author == @person').drop_duplicates()\n",
    "issues = issues.query('author == @person').drop_duplicates()\n",
    "closed_by = prs.query('mergedBy == @person')\n",
    "prs = prs.query('author == @person').drop_duplicates()"
   ]
  },
  {
   "cell_type": "code",
   "execution_count": 7,
   "id": "7fbd1080",
   "metadata": {
    "execution": {
     "iopub.execute_input": "2021-11-12T01:35:02.283133Z",
     "iopub.status.busy": "2021-11-12T01:35:02.255451Z",
     "iopub.status.idle": "2021-11-12T01:35:02.312018Z",
     "shell.execute_reply": "2021-11-12T01:35:02.311290Z"
    },
    "papermill": {
     "duration": 0.087469,
     "end_time": "2021-11-12T01:35:02.312182",
     "exception": false,
     "start_time": "2021-11-12T01:35:02.224713",
     "status": "completed"
    },
    "tags": [
     "remove_cell"
    ]
   },
   "outputs": [],
   "source": [
    "# Time columns\n",
    "# Also drop dates outside of our range\n",
    "time_columns = ['updatedAt', 'createdAt', 'closedAt']\n",
    "for col in time_columns:\n",
    "    for item in [comments, issues, prs, closed_by]:\n",
    "        if col not in item.columns:\n",
    "            continue\n",
    "        dt = pd.to_datetime(item[col]).dt.tz_localize(None)\n",
    "        item[col] = dt\n",
    "        item.query(\"updatedAt < @end_date and updatedAt > @start_date\", inplace=True)"
   ]
  },
  {
   "cell_type": "markdown",
   "id": "06b99701",
   "metadata": {
    "papermill": {
     "duration": 0.016539,
     "end_time": "2021-11-12T01:35:02.345854",
     "exception": false,
     "start_time": "2021-11-12T01:35:02.329315",
     "status": "completed"
    },
    "tags": []
   },
   "source": [
    "## Repository summaries"
   ]
  },
  {
   "cell_type": "code",
   "execution_count": 8,
   "id": "a35c89a9",
   "metadata": {
    "execution": {
     "iopub.execute_input": "2021-11-12T01:35:02.399499Z",
     "iopub.status.busy": "2021-11-12T01:35:02.393321Z",
     "iopub.status.idle": "2021-11-12T01:35:02.413769Z",
     "shell.execute_reply": "2021-11-12T01:35:02.413144Z"
    },
    "papermill": {
     "duration": 0.047465,
     "end_time": "2021-11-12T01:35:02.413965",
     "exception": false,
     "start_time": "2021-11-12T01:35:02.366500",
     "status": "completed"
    },
    "tags": [
     "remove_cell"
    ]
   },
   "outputs": [],
   "source": [
    "summaries = []\n",
    "for idata, name in [(issues, 'issues'), (prs, 'prs'), (comments, 'comments')]:\n",
    "    idata = idata.groupby([\"repo\", \"org\"]).agg({'id': \"count\"}).reset_index().rename(columns={'id': 'count'})\n",
    "    idata[\"kind\"] = name\n",
    "    summaries.append(idata)\n",
    "summaries = pd.concat(summaries)"
   ]
  },
  {
   "cell_type": "code",
   "execution_count": 9,
   "id": "4217af5f",
   "metadata": {
    "execution": {
     "iopub.execute_input": "2021-11-12T01:35:02.465476Z",
     "iopub.status.busy": "2021-11-12T01:35:02.463938Z",
     "iopub.status.idle": "2021-11-12T01:35:02.466163Z",
     "shell.execute_reply": "2021-11-12T01:35:02.466684Z"
    },
    "papermill": {
     "duration": 0.035353,
     "end_time": "2021-11-12T01:35:02.466874",
     "exception": false,
     "start_time": "2021-11-12T01:35:02.431521",
     "status": "completed"
    },
    "tags": [
     "remove_cell"
    ]
   },
   "outputs": [],
   "source": [
    "repo_summaries = summaries.groupby([\"repo\", \"kind\"]).agg({\"count\": \"sum\"}).reset_index()\n",
    "org_summaries = summaries.groupby([\"org\", \"kind\"]).agg({\"count\": \"sum\"}).reset_index()"
   ]
  },
  {
   "cell_type": "code",
   "execution_count": 10,
   "id": "90dc646e",
   "metadata": {
    "execution": {
     "iopub.execute_input": "2021-11-12T01:35:02.514057Z",
     "iopub.status.busy": "2021-11-12T01:35:02.513442Z",
     "iopub.status.idle": "2021-11-12T01:35:02.517870Z",
     "shell.execute_reply": "2021-11-12T01:35:02.517059Z"
    },
    "papermill": {
     "duration": 0.030334,
     "end_time": "2021-11-12T01:35:02.518017",
     "exception": false,
     "start_time": "2021-11-12T01:35:02.487683",
     "status": "completed"
    },
    "tags": [
     "remove_cell"
    ]
   },
   "outputs": [],
   "source": [
    "repo_summaries['logcount'] = np.log(repo_summaries[\"count\"])"
   ]
  },
  {
   "cell_type": "code",
   "execution_count": 11,
   "id": "b0630244",
   "metadata": {
    "execution": {
     "iopub.execute_input": "2021-11-12T01:35:02.576548Z",
     "iopub.status.busy": "2021-11-12T01:35:02.571010Z",
     "iopub.status.idle": "2021-11-12T01:35:02.623853Z",
     "shell.execute_reply": "2021-11-12T01:35:02.623312Z"
    },
    "papermill": {
     "duration": 0.089588,
     "end_time": "2021-11-12T01:35:02.624022",
     "exception": false,
     "start_time": "2021-11-12T01:35:02.534434",
     "status": "completed"
    },
    "tags": [
     "hide_input"
    ]
   },
   "outputs": [
    {
     "data": {
      "text/html": [
       "\n",
       "<div id=\"altair-viz-1ac89d47938c45b8921fbcc51f4f6b2f\"></div>\n",
       "<script type=\"text/javascript\">\n",
       "  (function(spec, embedOpt){\n",
       "    let outputDiv = document.currentScript.previousElementSibling;\n",
       "    if (outputDiv.id !== \"altair-viz-1ac89d47938c45b8921fbcc51f4f6b2f\") {\n",
       "      outputDiv = document.getElementById(\"altair-viz-1ac89d47938c45b8921fbcc51f4f6b2f\");\n",
       "    }\n",
       "    const paths = {\n",
       "      \"vega\": \"https://cdn.jsdelivr.net/npm//vega@5?noext\",\n",
       "      \"vega-lib\": \"https://cdn.jsdelivr.net/npm//vega-lib?noext\",\n",
       "      \"vega-lite\": \"https://cdn.jsdelivr.net/npm//vega-lite@4.8.1?noext\",\n",
       "      \"vega-embed\": \"https://cdn.jsdelivr.net/npm//vega-embed@6?noext\",\n",
       "    };\n",
       "\n",
       "    function loadScript(lib) {\n",
       "      return new Promise(function(resolve, reject) {\n",
       "        var s = document.createElement('script');\n",
       "        s.src = paths[lib];\n",
       "        s.async = true;\n",
       "        s.onload = () => resolve(paths[lib]);\n",
       "        s.onerror = () => reject(`Error loading script: ${paths[lib]}`);\n",
       "        document.getElementsByTagName(\"head\")[0].appendChild(s);\n",
       "      });\n",
       "    }\n",
       "\n",
       "    function showError(err) {\n",
       "      outputDiv.innerHTML = `<div class=\"error\" style=\"color:red;\">${err}</div>`;\n",
       "      throw err;\n",
       "    }\n",
       "\n",
       "    function displayChart(vegaEmbed) {\n",
       "      vegaEmbed(outputDiv, spec, embedOpt)\n",
       "        .catch(err => showError(`Javascript Error: ${err.message}<br>This usually means there's a typo in your chart specification. See the javascript console for the full traceback.`));\n",
       "    }\n",
       "\n",
       "    if(typeof define === \"function\" && define.amd) {\n",
       "      requirejs.config({paths});\n",
       "      require([\"vega-embed\"], displayChart, err => showError(`Error loading script: ${err.message}`));\n",
       "    } else if (typeof vegaEmbed === \"function\") {\n",
       "      displayChart(vegaEmbed);\n",
       "    } else {\n",
       "      loadScript(\"vega\")\n",
       "        .then(() => loadScript(\"vega-lite\"))\n",
       "        .then(() => loadScript(\"vega-embed\"))\n",
       "        .catch(showError)\n",
       "        .then(() => displayChart(vegaEmbed));\n",
       "    }\n",
       "  })({\"config\": {\"axisLeft\": {\"labelFontSize\": 15}, \"axisBottom\": {\"labelFontSize\": 15}}, \"hconcat\": [{\"mark\": \"bar\", \"encoding\": {\"color\": {\"type\": \"nominal\", \"field\": \"kind\"}, \"tooltip\": {\"type\": \"nominal\", \"field\": \"kind\"}, \"x\": {\"type\": \"nominal\", \"field\": \"repo\"}, \"y\": {\"type\": \"quantitative\", \"field\": \"count\"}}, \"title\": \"Activity per repository\", \"width\": 600}, {\"mark\": \"bar\", \"encoding\": {\"color\": {\"type\": \"nominal\", \"field\": \"kind\"}, \"tooltip\": {\"type\": \"nominal\", \"field\": \"kind\"}, \"x\": {\"type\": \"nominal\", \"field\": \"repo\"}, \"y\": {\"type\": \"quantitative\", \"field\": \"logcount\"}}, \"title\": \"Log activity per repository\", \"width\": 600}], \"data\": {\"name\": \"data-5e9a9726c23ae01e0712e5812f2d221b\"}, \"$schema\": \"https://vega.github.io/schema/vega-lite/v4.8.1.json\", \"datasets\": {\"data-5e9a9726c23ae01e0712e5812f2d221b\": [{\"repo\": \".github\", \"kind\": \"comments\", \"count\": 1, \"logcount\": 0.0}, {\"repo\": \".github\", \"kind\": \"issues\", \"count\": 1, \"logcount\": 0.0}, {\"repo\": \"action-k3s-helm\", \"kind\": \"comments\", \"count\": 5, \"logcount\": 1.6094379124341003}, {\"repo\": \"action-k3s-helm\", \"kind\": \"issues\", \"count\": 3, \"logcount\": 1.0986122886681098}, {\"repo\": \"action-k3s-helm\", \"kind\": \"prs\", \"count\": 5, \"logcount\": 1.6094379124341003}, {\"repo\": \"action-k8s-namespace-report\", \"kind\": \"prs\", \"count\": 2, \"logcount\": 0.6931471805599453}, {\"repo\": \"action-major-minor-tag-calculator\", \"kind\": \"comments\", \"count\": 5, \"logcount\": 1.6094379124341003}, {\"repo\": \"action-major-minor-tag-calculator\", \"kind\": \"prs\", \"count\": 1, \"logcount\": 0.0}, {\"repo\": \"autodoc-traits\", \"kind\": \"comments\", \"count\": 1, \"logcount\": 0.0}, {\"repo\": \"autodoc-traits\", \"kind\": \"issues\", \"count\": 1, \"logcount\": 0.0}, {\"repo\": \"binderhub\", \"kind\": \"comments\", \"count\": 58, \"logcount\": 4.060443010546419}, {\"repo\": \"binderhub\", \"kind\": \"issues\", \"count\": 11, \"logcount\": 2.3978952727983707}, {\"repo\": \"binderhub\", \"kind\": \"prs\", \"count\": 23, \"logcount\": 3.1354942159291497}, {\"repo\": \"configurable-http-proxy\", \"kind\": \"comments\", \"count\": 3, \"logcount\": 1.0986122886681098}, {\"repo\": \"docker-image-cleaner\", \"kind\": \"comments\", \"count\": 7, \"logcount\": 1.9459101490553132}, {\"repo\": \"docker-image-cleaner\", \"kind\": \"issues\", \"count\": 6, \"logcount\": 1.791759469228055}, {\"repo\": \"docker-image-cleaner\", \"kind\": \"prs\", \"count\": 3, \"logcount\": 1.0986122886681098}, {\"repo\": \"docker-stacks\", \"kind\": \"comments\", \"count\": 15, \"logcount\": 2.70805020110221}, {\"repo\": \"docker-stacks\", \"kind\": \"issues\", \"count\": 1, \"logcount\": 0.0}, {\"repo\": \"firstuseauthenticator\", \"kind\": \"comments\", \"count\": 2, \"logcount\": 0.6931471805599453}, {\"repo\": \"firstuseauthenticator\", \"kind\": \"issues\", \"count\": 2, \"logcount\": 0.6931471805599453}, {\"repo\": \"firstuseauthenticator\", \"kind\": \"prs\", \"count\": 5, \"logcount\": 1.6094379124341003}, {\"repo\": \"helm-chart\", \"kind\": \"comments\", \"count\": 1, \"logcount\": 0.0}, {\"repo\": \"jupyter-server-proxy\", \"kind\": \"comments\", \"count\": 2, \"logcount\": 0.6931471805599453}, {\"repo\": \"jupyterhub\", \"kind\": \"comments\", \"count\": 19, \"logcount\": 2.9444389791664403}, {\"repo\": \"jupyterhub\", \"kind\": \"issues\", \"count\": 5, \"logcount\": 1.6094379124341003}, {\"repo\": \"jupyterhub\", \"kind\": \"prs\", \"count\": 3, \"logcount\": 1.0986122886681098}, {\"repo\": \"jupyterhub-idle-culler\", \"kind\": \"comments\", \"count\": 7, \"logcount\": 1.9459101490553132}, {\"repo\": \"jupyterhub-idle-culler\", \"kind\": \"issues\", \"count\": 2, \"logcount\": 0.6931471805599453}, {\"repo\": \"jupyterhub-idle-culler\", \"kind\": \"prs\", \"count\": 6, \"logcount\": 1.791759469228055}, {\"repo\": \"jupyterlab-git\", \"kind\": \"comments\", \"count\": 2, \"logcount\": 0.6931471805599453}, {\"repo\": \"jupyterlab_server\", \"kind\": \"comments\", \"count\": 1, \"logcount\": 0.0}, {\"repo\": \"jupyterlab_server\", \"kind\": \"issues\", \"count\": 1, \"logcount\": 0.0}, {\"repo\": \"kubespawner\", \"kind\": \"comments\", \"count\": 9, \"logcount\": 2.1972245773362196}, {\"repo\": \"kubespawner\", \"kind\": \"issues\", \"count\": 2, \"logcount\": 0.6931471805599453}, {\"repo\": \"kubespawner\", \"kind\": \"prs\", \"count\": 8, \"logcount\": 2.0794415416798357}, {\"repo\": \"ltiauthenticator\", \"kind\": \"comments\", \"count\": 5, \"logcount\": 1.6094379124341003}, {\"repo\": \"mybinder.org-deploy\", \"kind\": \"comments\", \"count\": 9, \"logcount\": 2.1972245773362196}, {\"repo\": \"mybinder.org-deploy\", \"kind\": \"issues\", \"count\": 2, \"logcount\": 0.6931471805599453}, {\"repo\": \"mybinder.org-deploy\", \"kind\": \"prs\", \"count\": 2, \"logcount\": 0.6931471805599453}, {\"repo\": \"nativeauthenticator\", \"kind\": \"comments\", \"count\": 43, \"logcount\": 3.7612001156935624}, {\"repo\": \"nativeauthenticator\", \"kind\": \"issues\", \"count\": 14, \"logcount\": 2.6390573296152584}, {\"repo\": \"nativeauthenticator\", \"kind\": \"prs\", \"count\": 10, \"logcount\": 2.302585092994046}, {\"repo\": \"nbgitpuller\", \"kind\": \"comments\", \"count\": 2, \"logcount\": 0.6931471805599453}, {\"repo\": \"nbgitpuller\", \"kind\": \"issues\", \"count\": 2, \"logcount\": 0.6931471805599453}, {\"repo\": \"oauthenticator\", \"kind\": \"comments\", \"count\": 5, \"logcount\": 1.6094379124341003}, {\"repo\": \"repo2docker-action\", \"kind\": \"comments\", \"count\": 2, \"logcount\": 0.6931471805599453}, {\"repo\": \"repo2docker-action\", \"kind\": \"issues\", \"count\": 1, \"logcount\": 0.0}, {\"repo\": \"repo2docker-action\", \"kind\": \"prs\", \"count\": 1, \"logcount\": 0.0}, {\"repo\": \"systemdspawner\", \"kind\": \"comments\", \"count\": 3, \"logcount\": 1.0986122886681098}, {\"repo\": \"systemdspawner\", \"kind\": \"issues\", \"count\": 2, \"logcount\": 0.6931471805599453}, {\"repo\": \"team-compass\", \"kind\": \"comments\", \"count\": 13, \"logcount\": 2.5649493574615367}, {\"repo\": \"team-compass\", \"kind\": \"issues\", \"count\": 5, \"logcount\": 1.6094379124341003}, {\"repo\": \"the-littlest-jupyterhub\", \"kind\": \"comments\", \"count\": 159, \"logcount\": 5.0689042022202315}, {\"repo\": \"the-littlest-jupyterhub\", \"kind\": \"issues\", \"count\": 24, \"logcount\": 3.1780538303479458}, {\"repo\": \"the-littlest-jupyterhub\", \"kind\": \"prs\", \"count\": 17, \"logcount\": 2.833213344056216}, {\"repo\": \"traefik-proxy\", \"kind\": \"comments\", \"count\": 3, \"logcount\": 1.0986122886681098}, {\"repo\": \"traefik-proxy\", \"kind\": \"issues\", \"count\": 1, \"logcount\": 0.0}, {\"repo\": \"traefik-proxy\", \"kind\": \"prs\", \"count\": 3, \"logcount\": 1.0986122886681098}, {\"repo\": \"traitlets\", \"kind\": \"issues\", \"count\": 1, \"logcount\": 0.0}, {\"repo\": \"zero-to-jupyterhub-k8s\", \"kind\": \"comments\", \"count\": 57, \"logcount\": 4.04305126783455}, {\"repo\": \"zero-to-jupyterhub-k8s\", \"kind\": \"issues\", \"count\": 9, \"logcount\": 2.1972245773362196}, {\"repo\": \"zero-to-jupyterhub-k8s\", \"kind\": \"prs\", \"count\": 31, \"logcount\": 3.4339872044851463}]}}, {\"mode\": \"vega-lite\"});\n",
       "</script>"
      ],
      "text/plain": [
       "alt.HConcatChart(...)"
      ]
     },
     "execution_count": 11,
     "metadata": {},
     "output_type": "execute_result"
    }
   ],
   "source": [
    "ch1 = alt.Chart(repo_summaries, width=600, title=\"Activity per repository\").mark_bar().encode(\n",
    "    x='repo',\n",
    "    y='count',\n",
    "    color='kind',\n",
    "    tooltip=\"kind\"\n",
    ")\n",
    "\n",
    "ch2 = alt.Chart(repo_summaries, width=600, title=\"Log activity per repository\").mark_bar().encode(\n",
    "    x='repo',\n",
    "    y='logcount',\n",
    "    color='kind',\n",
    "    tooltip=\"kind\"\n",
    ")\n",
    "\n",
    "ch1 | ch2"
   ]
  },
  {
   "cell_type": "code",
   "execution_count": 12,
   "id": "213e9b2a",
   "metadata": {
    "execution": {
     "iopub.execute_input": "2021-11-12T01:35:02.667013Z",
     "iopub.status.busy": "2021-11-12T01:35:02.666387Z",
     "iopub.status.idle": "2021-11-12T01:35:02.697783Z",
     "shell.execute_reply": "2021-11-12T01:35:02.698349Z"
    },
    "papermill": {
     "duration": 0.053669,
     "end_time": "2021-11-12T01:35:02.698621",
     "exception": false,
     "start_time": "2021-11-12T01:35:02.644952",
     "status": "completed"
    },
    "tags": [
     "hide_input"
    ]
   },
   "outputs": [
    {
     "data": {
      "text/html": [
       "\n",
       "<div id=\"altair-viz-569846c93c0e41779df05d4677e4e8e2\"></div>\n",
       "<script type=\"text/javascript\">\n",
       "  (function(spec, embedOpt){\n",
       "    let outputDiv = document.currentScript.previousElementSibling;\n",
       "    if (outputDiv.id !== \"altair-viz-569846c93c0e41779df05d4677e4e8e2\") {\n",
       "      outputDiv = document.getElementById(\"altair-viz-569846c93c0e41779df05d4677e4e8e2\");\n",
       "    }\n",
       "    const paths = {\n",
       "      \"vega\": \"https://cdn.jsdelivr.net/npm//vega@5?noext\",\n",
       "      \"vega-lib\": \"https://cdn.jsdelivr.net/npm//vega-lib?noext\",\n",
       "      \"vega-lite\": \"https://cdn.jsdelivr.net/npm//vega-lite@4.8.1?noext\",\n",
       "      \"vega-embed\": \"https://cdn.jsdelivr.net/npm//vega-embed@6?noext\",\n",
       "    };\n",
       "\n",
       "    function loadScript(lib) {\n",
       "      return new Promise(function(resolve, reject) {\n",
       "        var s = document.createElement('script');\n",
       "        s.src = paths[lib];\n",
       "        s.async = true;\n",
       "        s.onload = () => resolve(paths[lib]);\n",
       "        s.onerror = () => reject(`Error loading script: ${paths[lib]}`);\n",
       "        document.getElementsByTagName(\"head\")[0].appendChild(s);\n",
       "      });\n",
       "    }\n",
       "\n",
       "    function showError(err) {\n",
       "      outputDiv.innerHTML = `<div class=\"error\" style=\"color:red;\">${err}</div>`;\n",
       "      throw err;\n",
       "    }\n",
       "\n",
       "    function displayChart(vegaEmbed) {\n",
       "      vegaEmbed(outputDiv, spec, embedOpt)\n",
       "        .catch(err => showError(`Javascript Error: ${err.message}<br>This usually means there's a typo in your chart specification. See the javascript console for the full traceback.`));\n",
       "    }\n",
       "\n",
       "    if(typeof define === \"function\" && define.amd) {\n",
       "      requirejs.config({paths});\n",
       "      require([\"vega-embed\"], displayChart, err => showError(`Error loading script: ${err.message}`));\n",
       "    } else if (typeof vegaEmbed === \"function\") {\n",
       "      displayChart(vegaEmbed);\n",
       "    } else {\n",
       "      loadScript(\"vega\")\n",
       "        .then(() => loadScript(\"vega-lite\"))\n",
       "        .then(() => loadScript(\"vega-embed\"))\n",
       "        .catch(showError)\n",
       "        .then(() => displayChart(vegaEmbed));\n",
       "    }\n",
       "  })({\"config\": {\"axisLeft\": {\"labelFontSize\": 15}, \"axisBottom\": {\"labelFontSize\": 15}}, \"data\": {\"name\": \"data-fda4723def84f49bde77f02e71133d9f\"}, \"mark\": \"bar\", \"encoding\": {\"color\": {\"type\": \"nominal\", \"field\": \"kind\"}, \"tooltip\": {\"type\": \"nominal\", \"field\": \"org\"}, \"x\": {\"type\": \"nominal\", \"field\": \"org\"}, \"y\": {\"type\": \"quantitative\", \"field\": \"count\"}}, \"width\": 600, \"$schema\": \"https://vega.github.io/schema/vega-lite/v4.8.1.json\", \"datasets\": {\"data-fda4723def84f49bde77f02e71133d9f\": [{\"org\": \"ipython\", \"kind\": \"issues\", \"count\": 1}, {\"org\": \"jupyter\", \"kind\": \"comments\", \"count\": 15}, {\"org\": \"jupyter\", \"kind\": \"issues\", \"count\": 1}, {\"org\": \"jupyterhub\", \"kind\": \"comments\", \"count\": 421}, {\"org\": \"jupyterhub\", \"kind\": \"issues\", \"count\": 93}, {\"org\": \"jupyterhub\", \"kind\": \"prs\", \"count\": 120}, {\"org\": \"jupyterlab\", \"kind\": \"comments\", \"count\": 3}, {\"org\": \"jupyterlab\", \"kind\": \"issues\", \"count\": 1}]}}, {\"mode\": \"vega-lite\"});\n",
       "</script>"
      ],
      "text/plain": [
       "alt.Chart(...)"
      ]
     },
     "execution_count": 12,
     "metadata": {},
     "output_type": "execute_result"
    }
   ],
   "source": [
    "alt.Chart(org_summaries, width=600).mark_bar().encode(\n",
    "    x='org',\n",
    "    y='count',\n",
    "    color='kind',\n",
    "    tooltip=\"org\"\n",
    ")"
   ]
  },
  {
   "cell_type": "markdown",
   "id": "a5747ba4",
   "metadata": {
    "papermill": {
     "duration": 0.017639,
     "end_time": "2021-11-12T01:35:02.734808",
     "exception": false,
     "start_time": "2021-11-12T01:35:02.717169",
     "status": "completed"
    },
    "tags": []
   },
   "source": [
    "## By repository over time"
   ]
  },
  {
   "cell_type": "markdown",
   "id": "e17dce73",
   "metadata": {
    "papermill": {
     "duration": 0.018182,
     "end_time": "2021-11-12T01:35:02.771267",
     "exception": false,
     "start_time": "2021-11-12T01:35:02.753085",
     "status": "completed"
    },
    "tags": []
   },
   "source": [
    "### Comments"
   ]
  },
  {
   "cell_type": "code",
   "execution_count": 13,
   "id": "d8a2078b",
   "metadata": {
    "execution": {
     "iopub.execute_input": "2021-11-12T01:35:02.817988Z",
     "iopub.status.busy": "2021-11-12T01:35:02.817317Z",
     "iopub.status.idle": "2021-11-12T01:35:02.958344Z",
     "shell.execute_reply": "2021-11-12T01:35:02.958902Z"
    },
    "papermill": {
     "duration": 0.169196,
     "end_time": "2021-11-12T01:35:02.959098",
     "exception": false,
     "start_time": "2021-11-12T01:35:02.789902",
     "status": "completed"
    },
    "tags": [
     "hide_input"
    ]
   },
   "outputs": [
    {
     "data": {
      "text/html": [
       "\n",
       "<div id=\"altair-viz-80c9df843ff445e58fe25ed97108ee1c\"></div>\n",
       "<script type=\"text/javascript\">\n",
       "  (function(spec, embedOpt){\n",
       "    let outputDiv = document.currentScript.previousElementSibling;\n",
       "    if (outputDiv.id !== \"altair-viz-80c9df843ff445e58fe25ed97108ee1c\") {\n",
       "      outputDiv = document.getElementById(\"altair-viz-80c9df843ff445e58fe25ed97108ee1c\");\n",
       "    }\n",
       "    const paths = {\n",
       "      \"vega\": \"https://cdn.jsdelivr.net/npm//vega@5?noext\",\n",
       "      \"vega-lib\": \"https://cdn.jsdelivr.net/npm//vega-lib?noext\",\n",
       "      \"vega-lite\": \"https://cdn.jsdelivr.net/npm//vega-lite@4.8.1?noext\",\n",
       "      \"vega-embed\": \"https://cdn.jsdelivr.net/npm//vega-embed@6?noext\",\n",
       "    };\n",
       "\n",
       "    function loadScript(lib) {\n",
       "      return new Promise(function(resolve, reject) {\n",
       "        var s = document.createElement('script');\n",
       "        s.src = paths[lib];\n",
       "        s.async = true;\n",
       "        s.onload = () => resolve(paths[lib]);\n",
       "        s.onerror = () => reject(`Error loading script: ${paths[lib]}`);\n",
       "        document.getElementsByTagName(\"head\")[0].appendChild(s);\n",
       "      });\n",
       "    }\n",
       "\n",
       "    function showError(err) {\n",
       "      outputDiv.innerHTML = `<div class=\"error\" style=\"color:red;\">${err}</div>`;\n",
       "      throw err;\n",
       "    }\n",
       "\n",
       "    function displayChart(vegaEmbed) {\n",
       "      vegaEmbed(outputDiv, spec, embedOpt)\n",
       "        .catch(err => showError(`Javascript Error: ${err.message}<br>This usually means there's a typo in your chart specification. See the javascript console for the full traceback.`));\n",
       "    }\n",
       "\n",
       "    if(typeof define === \"function\" && define.amd) {\n",
       "      requirejs.config({paths});\n",
       "      require([\"vega-embed\"], displayChart, err => showError(`Error loading script: ${err.message}`));\n",
       "    } else if (typeof vegaEmbed === \"function\") {\n",
       "      displayChart(vegaEmbed);\n",
       "    } else {\n",
       "      loadScript(\"vega\")\n",
       "        .then(() => loadScript(\"vega-lite\"))\n",
       "        .then(() => loadScript(\"vega-embed\"))\n",
       "        .catch(showError)\n",
       "        .then(() => displayChart(vegaEmbed));\n",
       "    }\n",
       "  })({\"config\": {\"axisLeft\": {\"labelFontSize\": 15}, \"axisBottom\": {\"labelFontSize\": 15}}, \"layer\": [{\"data\": {\"name\": \"data-49f242928b796f134c79e11754b50aa2\"}, \"mark\": \"line\", \"encoding\": {\"color\": {\"type\": \"nominal\", \"field\": \"repo\"}, \"tooltip\": {\"type\": \"nominal\", \"field\": \"repo\"}, \"x\": {\"type\": \"temporal\", \"field\": \"createdAt\"}, \"y\": {\"type\": \"quantitative\", \"field\": \"count\"}}, \"width\": 600}, {\"data\": {\"name\": \"data-57b3bba60d1eaa7c966dbba4a431b997\"}, \"mark\": {\"type\": \"line\", \"color\": \"black\"}, \"encoding\": {\"x\": {\"type\": \"temporal\", \"field\": \"createdAt\"}, \"y\": {\"type\": \"quantitative\", \"field\": \"count\"}}, \"width\": 600}], \"$schema\": \"https://vega.github.io/schema/vega-lite/v4.8.1.json\", \"datasets\": {\"data-49f242928b796f134c79e11754b50aa2\": [{\"repo\": \".github\", \"createdAt\": \"2021-10-24T00:00:00\", \"count\": 1}, {\"repo\": \"action-k3s-helm\", \"createdAt\": \"2021-10-10T00:00:00\", \"count\": 5}, {\"repo\": \"action-major-minor-tag-calculator\", \"createdAt\": \"2021-09-26T00:00:00\", \"count\": 4}, {\"repo\": \"action-major-minor-tag-calculator\", \"createdAt\": \"2021-10-03T00:00:00\", \"count\": 0}, {\"repo\": \"action-major-minor-tag-calculator\", \"createdAt\": \"2021-10-10T00:00:00\", \"count\": 0}, {\"repo\": \"action-major-minor-tag-calculator\", \"createdAt\": \"2021-10-17T00:00:00\", \"count\": 1}, {\"repo\": \"autodoc-traits\", \"createdAt\": \"2021-10-24T00:00:00\", \"count\": 1}, {\"repo\": \"binderhub\", \"createdAt\": \"2021-09-19T00:00:00\", \"count\": 4}, {\"repo\": \"binderhub\", \"createdAt\": \"2021-09-26T00:00:00\", \"count\": 27}, {\"repo\": \"binderhub\", \"createdAt\": \"2021-10-03T00:00:00\", \"count\": 7}, {\"repo\": \"binderhub\", \"createdAt\": \"2021-10-10T00:00:00\", \"count\": 18}, {\"repo\": \"binderhub\", \"createdAt\": \"2021-10-17T00:00:00\", \"count\": 2}, {\"repo\": \"configurable-http-proxy\", \"createdAt\": \"2021-09-19T00:00:00\", \"count\": 2}, {\"repo\": \"configurable-http-proxy\", \"createdAt\": \"2021-09-26T00:00:00\", \"count\": 0}, {\"repo\": \"configurable-http-proxy\", \"createdAt\": \"2021-10-03T00:00:00\", \"count\": 0}, {\"repo\": \"configurable-http-proxy\", \"createdAt\": \"2021-10-10T00:00:00\", \"count\": 0}, {\"repo\": \"configurable-http-proxy\", \"createdAt\": \"2021-10-17T00:00:00\", \"count\": 0}, {\"repo\": \"configurable-http-proxy\", \"createdAt\": \"2021-10-24T00:00:00\", \"count\": 0}, {\"repo\": \"configurable-http-proxy\", \"createdAt\": \"2021-10-31T00:00:00\", \"count\": 0}, {\"repo\": \"configurable-http-proxy\", \"createdAt\": \"2021-11-07T00:00:00\", \"count\": 0}, {\"repo\": \"configurable-http-proxy\", \"createdAt\": \"2021-11-14T00:00:00\", \"count\": 1}, {\"repo\": \"docker-image-cleaner\", \"createdAt\": \"2021-09-19T00:00:00\", \"count\": 4}, {\"repo\": \"docker-image-cleaner\", \"createdAt\": \"2021-09-26T00:00:00\", \"count\": 3}, {\"repo\": \"docker-stacks\", \"createdAt\": \"2021-10-17T00:00:00\", \"count\": 4}, {\"repo\": \"docker-stacks\", \"createdAt\": \"2021-10-24T00:00:00\", \"count\": 1}, {\"repo\": \"docker-stacks\", \"createdAt\": \"2021-10-31T00:00:00\", \"count\": 1}, {\"repo\": \"docker-stacks\", \"createdAt\": \"2021-11-07T00:00:00\", \"count\": 7}, {\"repo\": \"docker-stacks\", \"createdAt\": \"2021-11-14T00:00:00\", \"count\": 2}, {\"repo\": \"firstuseauthenticator\", \"createdAt\": \"2021-10-31T00:00:00\", \"count\": 2}, {\"repo\": \"helm-chart\", \"createdAt\": \"2021-10-10T00:00:00\", \"count\": 1}, {\"repo\": \"jupyter-server-proxy\", \"createdAt\": \"2021-11-07T00:00:00\", \"count\": 1}, {\"repo\": \"jupyter-server-proxy\", \"createdAt\": \"2021-11-14T00:00:00\", \"count\": 1}, {\"repo\": \"jupyterhub\", \"createdAt\": \"2021-09-19T00:00:00\", \"count\": 1}, {\"repo\": \"jupyterhub\", \"createdAt\": \"2021-09-26T00:00:00\", \"count\": 6}, {\"repo\": \"jupyterhub\", \"createdAt\": \"2021-10-03T00:00:00\", \"count\": 2}, {\"repo\": \"jupyterhub\", \"createdAt\": \"2021-10-10T00:00:00\", \"count\": 3}, {\"repo\": \"jupyterhub\", \"createdAt\": \"2021-10-17T00:00:00\", \"count\": 3}, {\"repo\": \"jupyterhub\", \"createdAt\": \"2021-10-24T00:00:00\", \"count\": 2}, {\"repo\": \"jupyterhub\", \"createdAt\": \"2021-10-31T00:00:00\", \"count\": 2}, {\"repo\": \"jupyterhub-idle-culler\", \"createdAt\": \"2021-09-19T00:00:00\", \"count\": 2}, {\"repo\": \"jupyterhub-idle-culler\", \"createdAt\": \"2021-09-26T00:00:00\", \"count\": 1}, {\"repo\": \"jupyterhub-idle-culler\", \"createdAt\": \"2021-10-03T00:00:00\", \"count\": 0}, {\"repo\": \"jupyterhub-idle-culler\", \"createdAt\": \"2021-10-10T00:00:00\", \"count\": 0}, {\"repo\": \"jupyterhub-idle-culler\", \"createdAt\": \"2021-10-17T00:00:00\", \"count\": 2}, {\"repo\": \"jupyterhub-idle-culler\", \"createdAt\": \"2021-10-24T00:00:00\", \"count\": 2}, {\"repo\": \"jupyterlab-git\", \"createdAt\": \"2021-10-03T00:00:00\", \"count\": 2}, {\"repo\": \"jupyterlab_server\", \"createdAt\": \"2021-10-03T00:00:00\", \"count\": 1}, {\"repo\": \"kubespawner\", \"createdAt\": \"2021-10-10T00:00:00\", \"count\": 2}, {\"repo\": \"kubespawner\", \"createdAt\": \"2021-10-17T00:00:00\", \"count\": 3}, {\"repo\": \"kubespawner\", \"createdAt\": \"2021-10-24T00:00:00\", \"count\": 2}, {\"repo\": \"kubespawner\", \"createdAt\": \"2021-10-31T00:00:00\", \"count\": 1}, {\"repo\": \"kubespawner\", \"createdAt\": \"2021-11-07T00:00:00\", \"count\": 1}, {\"repo\": \"ltiauthenticator\", \"createdAt\": \"2021-10-24T00:00:00\", \"count\": 3}, {\"repo\": \"ltiauthenticator\", \"createdAt\": \"2021-10-31T00:00:00\", \"count\": 0}, {\"repo\": \"ltiauthenticator\", \"createdAt\": \"2021-11-07T00:00:00\", \"count\": 2}, {\"repo\": \"mybinder.org-deploy\", \"createdAt\": \"2021-10-10T00:00:00\", \"count\": 5}, {\"repo\": \"mybinder.org-deploy\", \"createdAt\": \"2021-10-17T00:00:00\", \"count\": 3}, {\"repo\": \"mybinder.org-deploy\", \"createdAt\": \"2021-10-24T00:00:00\", \"count\": 1}, {\"repo\": \"nativeauthenticator\", \"createdAt\": \"2021-10-24T00:00:00\", \"count\": 1}, {\"repo\": \"nativeauthenticator\", \"createdAt\": \"2021-10-31T00:00:00\", \"count\": 20}, {\"repo\": \"nativeauthenticator\", \"createdAt\": \"2021-11-07T00:00:00\", \"count\": 11}, {\"repo\": \"nativeauthenticator\", \"createdAt\": \"2021-11-14T00:00:00\", \"count\": 11}, {\"repo\": \"nbgitpuller\", \"createdAt\": \"2021-11-14T00:00:00\", \"count\": 2}, {\"repo\": \"oauthenticator\", \"createdAt\": \"2021-09-19T00:00:00\", \"count\": 1}, {\"repo\": \"oauthenticator\", \"createdAt\": \"2021-09-26T00:00:00\", \"count\": 0}, {\"repo\": \"oauthenticator\", \"createdAt\": \"2021-10-03T00:00:00\", \"count\": 1}, {\"repo\": \"oauthenticator\", \"createdAt\": \"2021-10-10T00:00:00\", \"count\": 2}, {\"repo\": \"oauthenticator\", \"createdAt\": \"2021-10-17T00:00:00\", \"count\": 1}, {\"repo\": \"repo2docker-action\", \"createdAt\": \"2021-11-07T00:00:00\", \"count\": 2}, {\"repo\": \"systemdspawner\", \"createdAt\": \"2021-10-24T00:00:00\", \"count\": 3}, {\"repo\": \"team-compass\", \"createdAt\": \"2021-09-19T00:00:00\", \"count\": 2}, {\"repo\": \"team-compass\", \"createdAt\": \"2021-09-26T00:00:00\", \"count\": 5}, {\"repo\": \"team-compass\", \"createdAt\": \"2021-10-03T00:00:00\", \"count\": 1}, {\"repo\": \"team-compass\", \"createdAt\": \"2021-10-10T00:00:00\", \"count\": 0}, {\"repo\": \"team-compass\", \"createdAt\": \"2021-10-17T00:00:00\", \"count\": 0}, {\"repo\": \"team-compass\", \"createdAt\": \"2021-10-24T00:00:00\", \"count\": 0}, {\"repo\": \"team-compass\", \"createdAt\": \"2021-10-31T00:00:00\", \"count\": 1}, {\"repo\": \"team-compass\", \"createdAt\": \"2021-11-07T00:00:00\", \"count\": 0}, {\"repo\": \"team-compass\", \"createdAt\": \"2021-11-14T00:00:00\", \"count\": 4}, {\"repo\": \"the-littlest-jupyterhub\", \"createdAt\": \"2021-10-17T00:00:00\", \"count\": 12}, {\"repo\": \"the-littlest-jupyterhub\", \"createdAt\": \"2021-10-24T00:00:00\", \"count\": 59}, {\"repo\": \"the-littlest-jupyterhub\", \"createdAt\": \"2021-10-31T00:00:00\", \"count\": 81}, {\"repo\": \"the-littlest-jupyterhub\", \"createdAt\": \"2021-11-07T00:00:00\", \"count\": 7}, {\"repo\": \"traefik-proxy\", \"createdAt\": \"2021-10-24T00:00:00\", \"count\": 3}, {\"repo\": \"zero-to-jupyterhub-k8s\", \"createdAt\": \"2021-09-19T00:00:00\", \"count\": 6}, {\"repo\": \"zero-to-jupyterhub-k8s\", \"createdAt\": \"2021-09-26T00:00:00\", \"count\": 9}, {\"repo\": \"zero-to-jupyterhub-k8s\", \"createdAt\": \"2021-10-03T00:00:00\", \"count\": 12}, {\"repo\": \"zero-to-jupyterhub-k8s\", \"createdAt\": \"2021-10-10T00:00:00\", \"count\": 4}, {\"repo\": \"zero-to-jupyterhub-k8s\", \"createdAt\": \"2021-10-17T00:00:00\", \"count\": 9}, {\"repo\": \"zero-to-jupyterhub-k8s\", \"createdAt\": \"2021-10-24T00:00:00\", \"count\": 2}, {\"repo\": \"zero-to-jupyterhub-k8s\", \"createdAt\": \"2021-10-31T00:00:00\", \"count\": 11}, {\"repo\": \"zero-to-jupyterhub-k8s\", \"createdAt\": \"2021-11-07T00:00:00\", \"count\": 3}, {\"repo\": \"zero-to-jupyterhub-k8s\", \"createdAt\": \"2021-11-14T00:00:00\", \"count\": 1}], \"data-57b3bba60d1eaa7c966dbba4a431b997\": [{\"createdAt\": \"2021-09-19T00:00:00\", \"count\": 22}, {\"createdAt\": \"2021-09-26T00:00:00\", \"count\": 55}, {\"createdAt\": \"2021-10-03T00:00:00\", \"count\": 26}, {\"createdAt\": \"2021-10-10T00:00:00\", \"count\": 40}, {\"createdAt\": \"2021-10-17T00:00:00\", \"count\": 40}, {\"createdAt\": \"2021-10-24T00:00:00\", \"count\": 81}, {\"createdAt\": \"2021-10-31T00:00:00\", \"count\": 119}, {\"createdAt\": \"2021-11-07T00:00:00\", \"count\": 34}, {\"createdAt\": \"2021-11-14T00:00:00\", \"count\": 22}]}}, {\"mode\": \"vega-lite\"});\n",
       "</script>"
      ],
      "text/plain": [
       "alt.LayerChart(...)"
      ]
     },
     "execution_count": 13,
     "metadata": {},
     "output_type": "execute_result"
    }
   ],
   "source": [
    "comments_time = comments.groupby('repo').resample('W', on='createdAt').count()['author'].reset_index()\n",
    "comments_time = comments_time.rename(columns={'author': 'count'})\n",
    "comments_time_total = comments_time.groupby('createdAt').agg({\"count\": \"sum\"}).reset_index()\n",
    "ch1 = alt.Chart(comments_time, width=600).mark_line().encode(\n",
    "    x='createdAt',\n",
    "    y='count',\n",
    "    color='repo',\n",
    "    tooltip=\"repo\"\n",
    ")\n",
    "\n",
    "ch2 = alt.Chart(comments_time_total, width=600).mark_line(color=\"black\").encode(\n",
    "    x='createdAt',\n",
    "    y='count',\n",
    ")\n",
    "\n",
    "ch1 + ch2"
   ]
  },
  {
   "cell_type": "markdown",
   "id": "3d5eea59",
   "metadata": {
    "papermill": {
     "duration": 0.018245,
     "end_time": "2021-11-12T01:35:02.997669",
     "exception": false,
     "start_time": "2021-11-12T01:35:02.979424",
     "status": "completed"
    },
    "tags": []
   },
   "source": [
    "### PRs"
   ]
  },
  {
   "cell_type": "code",
   "execution_count": 14,
   "id": "15743621",
   "metadata": {
    "execution": {
     "iopub.execute_input": "2021-11-12T01:35:03.094386Z",
     "iopub.status.busy": "2021-11-12T01:35:03.084435Z",
     "iopub.status.idle": "2021-11-12T01:35:03.191776Z",
     "shell.execute_reply": "2021-11-12T01:35:03.190631Z"
    },
    "papermill": {
     "duration": 0.175513,
     "end_time": "2021-11-12T01:35:03.192015",
     "exception": false,
     "start_time": "2021-11-12T01:35:03.016502",
     "status": "completed"
    },
    "tags": [
     "hide_input"
    ]
   },
   "outputs": [
    {
     "data": {
      "text/html": [
       "\n",
       "<div id=\"altair-viz-9fbc7bb4299c47758b2e74ac93e8136d\"></div>\n",
       "<script type=\"text/javascript\">\n",
       "  (function(spec, embedOpt){\n",
       "    let outputDiv = document.currentScript.previousElementSibling;\n",
       "    if (outputDiv.id !== \"altair-viz-9fbc7bb4299c47758b2e74ac93e8136d\") {\n",
       "      outputDiv = document.getElementById(\"altair-viz-9fbc7bb4299c47758b2e74ac93e8136d\");\n",
       "    }\n",
       "    const paths = {\n",
       "      \"vega\": \"https://cdn.jsdelivr.net/npm//vega@5?noext\",\n",
       "      \"vega-lib\": \"https://cdn.jsdelivr.net/npm//vega-lib?noext\",\n",
       "      \"vega-lite\": \"https://cdn.jsdelivr.net/npm//vega-lite@4.8.1?noext\",\n",
       "      \"vega-embed\": \"https://cdn.jsdelivr.net/npm//vega-embed@6?noext\",\n",
       "    };\n",
       "\n",
       "    function loadScript(lib) {\n",
       "      return new Promise(function(resolve, reject) {\n",
       "        var s = document.createElement('script');\n",
       "        s.src = paths[lib];\n",
       "        s.async = true;\n",
       "        s.onload = () => resolve(paths[lib]);\n",
       "        s.onerror = () => reject(`Error loading script: ${paths[lib]}`);\n",
       "        document.getElementsByTagName(\"head\")[0].appendChild(s);\n",
       "      });\n",
       "    }\n",
       "\n",
       "    function showError(err) {\n",
       "      outputDiv.innerHTML = `<div class=\"error\" style=\"color:red;\">${err}</div>`;\n",
       "      throw err;\n",
       "    }\n",
       "\n",
       "    function displayChart(vegaEmbed) {\n",
       "      vegaEmbed(outputDiv, spec, embedOpt)\n",
       "        .catch(err => showError(`Javascript Error: ${err.message}<br>This usually means there's a typo in your chart specification. See the javascript console for the full traceback.`));\n",
       "    }\n",
       "\n",
       "    if(typeof define === \"function\" && define.amd) {\n",
       "      requirejs.config({paths});\n",
       "      require([\"vega-embed\"], displayChart, err => showError(`Error loading script: ${err.message}`));\n",
       "    } else if (typeof vegaEmbed === \"function\") {\n",
       "      displayChart(vegaEmbed);\n",
       "    } else {\n",
       "      loadScript(\"vega\")\n",
       "        .then(() => loadScript(\"vega-lite\"))\n",
       "        .then(() => loadScript(\"vega-embed\"))\n",
       "        .catch(showError)\n",
       "        .then(() => displayChart(vegaEmbed));\n",
       "    }\n",
       "  })({\"config\": {\"axisLeft\": {\"labelFontSize\": 15}, \"axisBottom\": {\"labelFontSize\": 15}}, \"layer\": [{\"data\": {\"name\": \"data-a19f9e276b361bf1dc395d963b1c2cee\"}, \"mark\": \"line\", \"encoding\": {\"color\": {\"type\": \"nominal\", \"field\": \"repo\"}, \"tooltip\": {\"type\": \"nominal\", \"field\": \"repo\"}, \"x\": {\"type\": \"temporal\", \"field\": \"createdAt\"}, \"y\": {\"type\": \"quantitative\", \"field\": \"count\"}}, \"width\": 600}, {\"data\": {\"name\": \"data-e7c51028b8f2fe15b68efe4c8023b4db\"}, \"mark\": {\"type\": \"line\", \"color\": \"black\"}, \"encoding\": {\"x\": {\"type\": \"temporal\", \"field\": \"createdAt\"}, \"y\": {\"type\": \"quantitative\", \"field\": \"count\"}}, \"width\": 600}], \"$schema\": \"https://vega.github.io/schema/vega-lite/v4.8.1.json\", \"datasets\": {\"data-a19f9e276b361bf1dc395d963b1c2cee\": [{\"repo\": \"action-k3s-helm\", \"createdAt\": \"2021-08-15T00:00:00\", \"count\": 1}, {\"repo\": \"action-k3s-helm\", \"createdAt\": \"2021-08-22T00:00:00\", \"count\": 0}, {\"repo\": \"action-k3s-helm\", \"createdAt\": \"2021-08-29T00:00:00\", \"count\": 0}, {\"repo\": \"action-k3s-helm\", \"createdAt\": \"2021-09-05T00:00:00\", \"count\": 0}, {\"repo\": \"action-k3s-helm\", \"createdAt\": \"2021-09-12T00:00:00\", \"count\": 0}, {\"repo\": \"action-k3s-helm\", \"createdAt\": \"2021-09-19T00:00:00\", \"count\": 0}, {\"repo\": \"action-k3s-helm\", \"createdAt\": \"2021-09-26T00:00:00\", \"count\": 0}, {\"repo\": \"action-k3s-helm\", \"createdAt\": \"2021-10-03T00:00:00\", \"count\": 2}, {\"repo\": \"action-k3s-helm\", \"createdAt\": \"2021-10-10T00:00:00\", \"count\": 2}, {\"repo\": \"action-k8s-namespace-report\", \"createdAt\": \"2021-09-26T00:00:00\", \"count\": 1}, {\"repo\": \"action-k8s-namespace-report\", \"createdAt\": \"2021-10-03T00:00:00\", \"count\": 1}, {\"repo\": \"action-major-minor-tag-calculator\", \"createdAt\": \"2021-09-26T00:00:00\", \"count\": 1}, {\"repo\": \"binderhub\", \"createdAt\": \"2021-09-26T00:00:00\", \"count\": 10}, {\"repo\": \"binderhub\", \"createdAt\": \"2021-10-03T00:00:00\", \"count\": 0}, {\"repo\": \"binderhub\", \"createdAt\": \"2021-10-10T00:00:00\", \"count\": 12}, {\"repo\": \"binderhub\", \"createdAt\": \"2021-10-17T00:00:00\", \"count\": 1}, {\"repo\": \"docker-image-cleaner\", \"createdAt\": \"2021-09-19T00:00:00\", \"count\": 2}, {\"repo\": \"docker-image-cleaner\", \"createdAt\": \"2021-09-26T00:00:00\", \"count\": 0}, {\"repo\": \"docker-image-cleaner\", \"createdAt\": \"2021-10-03T00:00:00\", \"count\": 0}, {\"repo\": \"docker-image-cleaner\", \"createdAt\": \"2021-10-10T00:00:00\", \"count\": 1}, {\"repo\": \"firstuseauthenticator\", \"createdAt\": \"2021-10-31T00:00:00\", \"count\": 5}, {\"repo\": \"jupyterhub\", \"createdAt\": \"2021-08-29T00:00:00\", \"count\": 3}, {\"repo\": \"jupyterhub-idle-culler\", \"createdAt\": \"2021-09-26T00:00:00\", \"count\": 1}, {\"repo\": \"jupyterhub-idle-culler\", \"createdAt\": \"2021-10-03T00:00:00\", \"count\": 0}, {\"repo\": \"jupyterhub-idle-culler\", \"createdAt\": \"2021-10-10T00:00:00\", \"count\": 0}, {\"repo\": \"jupyterhub-idle-culler\", \"createdAt\": \"2021-10-17T00:00:00\", \"count\": 4}, {\"repo\": \"jupyterhub-idle-culler\", \"createdAt\": \"2021-10-24T00:00:00\", \"count\": 1}, {\"repo\": \"kubespawner\", \"createdAt\": \"2021-06-13T00:00:00\", \"count\": 1}, {\"repo\": \"kubespawner\", \"createdAt\": \"2021-06-20T00:00:00\", \"count\": 0}, {\"repo\": \"kubespawner\", \"createdAt\": \"2021-06-27T00:00:00\", \"count\": 0}, {\"repo\": \"kubespawner\", \"createdAt\": \"2021-07-04T00:00:00\", \"count\": 0}, {\"repo\": \"kubespawner\", \"createdAt\": \"2021-07-11T00:00:00\", \"count\": 0}, {\"repo\": \"kubespawner\", \"createdAt\": \"2021-07-18T00:00:00\", \"count\": 0}, {\"repo\": \"kubespawner\", \"createdAt\": \"2021-07-25T00:00:00\", \"count\": 0}, {\"repo\": \"kubespawner\", \"createdAt\": \"2021-08-01T00:00:00\", \"count\": 0}, {\"repo\": \"kubespawner\", \"createdAt\": \"2021-08-08T00:00:00\", \"count\": 0}, {\"repo\": \"kubespawner\", \"createdAt\": \"2021-08-15T00:00:00\", \"count\": 0}, {\"repo\": \"kubespawner\", \"createdAt\": \"2021-08-22T00:00:00\", \"count\": 0}, {\"repo\": \"kubespawner\", \"createdAt\": \"2021-08-29T00:00:00\", \"count\": 0}, {\"repo\": \"kubespawner\", \"createdAt\": \"2021-09-05T00:00:00\", \"count\": 0}, {\"repo\": \"kubespawner\", \"createdAt\": \"2021-09-12T00:00:00\", \"count\": 0}, {\"repo\": \"kubespawner\", \"createdAt\": \"2021-09-19T00:00:00\", \"count\": 0}, {\"repo\": \"kubespawner\", \"createdAt\": \"2021-09-26T00:00:00\", \"count\": 0}, {\"repo\": \"kubespawner\", \"createdAt\": \"2021-10-03T00:00:00\", \"count\": 0}, {\"repo\": \"kubespawner\", \"createdAt\": \"2021-10-10T00:00:00\", \"count\": 1}, {\"repo\": \"kubespawner\", \"createdAt\": \"2021-10-17T00:00:00\", \"count\": 0}, {\"repo\": \"kubespawner\", \"createdAt\": \"2021-10-24T00:00:00\", \"count\": 3}, {\"repo\": \"kubespawner\", \"createdAt\": \"2021-10-31T00:00:00\", \"count\": 0}, {\"repo\": \"kubespawner\", \"createdAt\": \"2021-11-07T00:00:00\", \"count\": 3}, {\"repo\": \"mybinder.org-deploy\", \"createdAt\": \"2021-10-10T00:00:00\", \"count\": 1}, {\"repo\": \"mybinder.org-deploy\", \"createdAt\": \"2021-10-17T00:00:00\", \"count\": 1}, {\"repo\": \"nativeauthenticator\", \"createdAt\": \"2021-10-31T00:00:00\", \"count\": 8}, {\"repo\": \"nativeauthenticator\", \"createdAt\": \"2021-11-07T00:00:00\", \"count\": 2}, {\"repo\": \"repo2docker-action\", \"createdAt\": \"2021-07-18T00:00:00\", \"count\": 1}, {\"repo\": \"the-littlest-jupyterhub\", \"createdAt\": \"2021-10-17T00:00:00\", \"count\": 4}, {\"repo\": \"the-littlest-jupyterhub\", \"createdAt\": \"2021-10-24T00:00:00\", \"count\": 3}, {\"repo\": \"the-littlest-jupyterhub\", \"createdAt\": \"2021-10-31T00:00:00\", \"count\": 8}, {\"repo\": \"the-littlest-jupyterhub\", \"createdAt\": \"2021-11-07T00:00:00\", \"count\": 2}, {\"repo\": \"traefik-proxy\", \"createdAt\": \"2021-10-24T00:00:00\", \"count\": 3}, {\"repo\": \"zero-to-jupyterhub-k8s\", \"createdAt\": \"2021-08-22T00:00:00\", \"count\": 1}, {\"repo\": \"zero-to-jupyterhub-k8s\", \"createdAt\": \"2021-08-29T00:00:00\", \"count\": 0}, {\"repo\": \"zero-to-jupyterhub-k8s\", \"createdAt\": \"2021-09-05T00:00:00\", \"count\": 0}, {\"repo\": \"zero-to-jupyterhub-k8s\", \"createdAt\": \"2021-09-12T00:00:00\", \"count\": 0}, {\"repo\": \"zero-to-jupyterhub-k8s\", \"createdAt\": \"2021-09-19T00:00:00\", \"count\": 0}, {\"repo\": \"zero-to-jupyterhub-k8s\", \"createdAt\": \"2021-09-26T00:00:00\", \"count\": 11}, {\"repo\": \"zero-to-jupyterhub-k8s\", \"createdAt\": \"2021-10-03T00:00:00\", \"count\": 3}, {\"repo\": \"zero-to-jupyterhub-k8s\", \"createdAt\": \"2021-10-10T00:00:00\", \"count\": 2}, {\"repo\": \"zero-to-jupyterhub-k8s\", \"createdAt\": \"2021-10-17T00:00:00\", \"count\": 6}, {\"repo\": \"zero-to-jupyterhub-k8s\", \"createdAt\": \"2021-10-24T00:00:00\", \"count\": 1}, {\"repo\": \"zero-to-jupyterhub-k8s\", \"createdAt\": \"2021-10-31T00:00:00\", \"count\": 3}, {\"repo\": \"zero-to-jupyterhub-k8s\", \"createdAt\": \"2021-11-07T00:00:00\", \"count\": 3}, {\"repo\": \"zero-to-jupyterhub-k8s\", \"createdAt\": \"2021-11-14T00:00:00\", \"count\": 1}], \"data-e7c51028b8f2fe15b68efe4c8023b4db\": [{\"createdAt\": \"2021-06-13T00:00:00\", \"count\": 1}, {\"createdAt\": \"2021-06-20T00:00:00\", \"count\": 0}, {\"createdAt\": \"2021-06-27T00:00:00\", \"count\": 0}, {\"createdAt\": \"2021-07-04T00:00:00\", \"count\": 0}, {\"createdAt\": \"2021-07-11T00:00:00\", \"count\": 0}, {\"createdAt\": \"2021-07-18T00:00:00\", \"count\": 1}, {\"createdAt\": \"2021-07-25T00:00:00\", \"count\": 0}, {\"createdAt\": \"2021-08-01T00:00:00\", \"count\": 0}, {\"createdAt\": \"2021-08-08T00:00:00\", \"count\": 0}, {\"createdAt\": \"2021-08-15T00:00:00\", \"count\": 1}, {\"createdAt\": \"2021-08-22T00:00:00\", \"count\": 1}, {\"createdAt\": \"2021-08-29T00:00:00\", \"count\": 3}, {\"createdAt\": \"2021-09-05T00:00:00\", \"count\": 0}, {\"createdAt\": \"2021-09-12T00:00:00\", \"count\": 0}, {\"createdAt\": \"2021-09-19T00:00:00\", \"count\": 2}, {\"createdAt\": \"2021-09-26T00:00:00\", \"count\": 24}, {\"createdAt\": \"2021-10-03T00:00:00\", \"count\": 6}, {\"createdAt\": \"2021-10-10T00:00:00\", \"count\": 19}, {\"createdAt\": \"2021-10-17T00:00:00\", \"count\": 16}, {\"createdAt\": \"2021-10-24T00:00:00\", \"count\": 11}, {\"createdAt\": \"2021-10-31T00:00:00\", \"count\": 24}, {\"createdAt\": \"2021-11-07T00:00:00\", \"count\": 10}, {\"createdAt\": \"2021-11-14T00:00:00\", \"count\": 1}]}}, {\"mode\": \"vega-lite\"});\n",
       "</script>"
      ],
      "text/plain": [
       "alt.LayerChart(...)"
      ]
     },
     "execution_count": 14,
     "metadata": {},
     "output_type": "execute_result"
    }
   ],
   "source": [
    "prs_time = prs.groupby('repo').resample('W', on='createdAt').count()['author'].reset_index()\n",
    "prs_time = prs_time.rename(columns={'author': 'count'})\n",
    "prs_time_total = prs_time.groupby('createdAt').agg({\"count\": \"sum\"}).reset_index()\n",
    "\n",
    "ch1 = alt.Chart(prs_time, width=600).mark_line().encode(\n",
    "    x='createdAt',\n",
    "    y='count',\n",
    "    color='repo',\n",
    "    tooltip=\"repo\"\n",
    ")\n",
    "\n",
    "ch2 = alt.Chart(prs_time_total, width=600).mark_line(color=\"black\").encode(\n",
    "    x='createdAt',\n",
    "    y='count',\n",
    ")\n",
    "\n",
    "ch1 + ch2"
   ]
  },
  {
   "cell_type": "code",
   "execution_count": 15,
   "id": "440bab7e",
   "metadata": {
    "execution": {
     "iopub.execute_input": "2021-11-12T01:35:03.276898Z",
     "iopub.status.busy": "2021-11-12T01:35:03.245018Z",
     "iopub.status.idle": "2021-11-12T01:35:03.378407Z",
     "shell.execute_reply": "2021-11-12T01:35:03.378977Z"
    },
    "papermill": {
     "duration": 0.163023,
     "end_time": "2021-11-12T01:35:03.379186",
     "exception": false,
     "start_time": "2021-11-12T01:35:03.216163",
     "status": "completed"
    },
    "tags": [
     "hide_input"
    ]
   },
   "outputs": [
    {
     "data": {
      "text/html": [
       "\n",
       "<div id=\"altair-viz-3e960e655d354e5b810fbc15ec696253\"></div>\n",
       "<script type=\"text/javascript\">\n",
       "  (function(spec, embedOpt){\n",
       "    let outputDiv = document.currentScript.previousElementSibling;\n",
       "    if (outputDiv.id !== \"altair-viz-3e960e655d354e5b810fbc15ec696253\") {\n",
       "      outputDiv = document.getElementById(\"altair-viz-3e960e655d354e5b810fbc15ec696253\");\n",
       "    }\n",
       "    const paths = {\n",
       "      \"vega\": \"https://cdn.jsdelivr.net/npm//vega@5?noext\",\n",
       "      \"vega-lib\": \"https://cdn.jsdelivr.net/npm//vega-lib?noext\",\n",
       "      \"vega-lite\": \"https://cdn.jsdelivr.net/npm//vega-lite@4.8.1?noext\",\n",
       "      \"vega-embed\": \"https://cdn.jsdelivr.net/npm//vega-embed@6?noext\",\n",
       "    };\n",
       "\n",
       "    function loadScript(lib) {\n",
       "      return new Promise(function(resolve, reject) {\n",
       "        var s = document.createElement('script');\n",
       "        s.src = paths[lib];\n",
       "        s.async = true;\n",
       "        s.onload = () => resolve(paths[lib]);\n",
       "        s.onerror = () => reject(`Error loading script: ${paths[lib]}`);\n",
       "        document.getElementsByTagName(\"head\")[0].appendChild(s);\n",
       "      });\n",
       "    }\n",
       "\n",
       "    function showError(err) {\n",
       "      outputDiv.innerHTML = `<div class=\"error\" style=\"color:red;\">${err}</div>`;\n",
       "      throw err;\n",
       "    }\n",
       "\n",
       "    function displayChart(vegaEmbed) {\n",
       "      vegaEmbed(outputDiv, spec, embedOpt)\n",
       "        .catch(err => showError(`Javascript Error: ${err.message}<br>This usually means there's a typo in your chart specification. See the javascript console for the full traceback.`));\n",
       "    }\n",
       "\n",
       "    if(typeof define === \"function\" && define.amd) {\n",
       "      requirejs.config({paths});\n",
       "      require([\"vega-embed\"], displayChart, err => showError(`Error loading script: ${err.message}`));\n",
       "    } else if (typeof vegaEmbed === \"function\") {\n",
       "      displayChart(vegaEmbed);\n",
       "    } else {\n",
       "      loadScript(\"vega\")\n",
       "        .then(() => loadScript(\"vega-lite\"))\n",
       "        .then(() => loadScript(\"vega-embed\"))\n",
       "        .catch(showError)\n",
       "        .then(() => displayChart(vegaEmbed));\n",
       "    }\n",
       "  })({\"config\": {\"axisLeft\": {\"labelFontSize\": 15}, \"axisBottom\": {\"labelFontSize\": 15}}, \"data\": {\"name\": \"data-7168d3db781097e611a055f5bea5f5fd\"}, \"mark\": \"line\", \"encoding\": {\"color\": {\"type\": \"nominal\", \"field\": \"repo\"}, \"tooltip\": {\"type\": \"nominal\", \"field\": \"repo\"}, \"x\": {\"type\": \"temporal\", \"field\": \"closedAt\"}, \"y\": {\"type\": \"quantitative\", \"field\": \"count\"}}, \"width\": 600, \"$schema\": \"https://vega.github.io/schema/vega-lite/v4.8.1.json\", \"datasets\": {\"data-7168d3db781097e611a055f5bea5f5fd\": [{\"repo\": \"action-k3s-helm\", \"closedAt\": \"2021-10-10T00:00:00\", \"count\": 2}, {\"repo\": \"action-k8s-namespace-report\", \"closedAt\": \"2021-09-26T00:00:00\", \"count\": 1}, {\"repo\": \"action-major-minor-tag-calculator\", \"closedAt\": \"2021-09-26T00:00:00\", \"count\": 1}, {\"repo\": \"action-major-minor-tag-calculator\", \"closedAt\": \"2021-10-03T00:00:00\", \"count\": 0}, {\"repo\": \"action-major-minor-tag-calculator\", \"closedAt\": \"2021-10-10T00:00:00\", \"count\": 0}, {\"repo\": \"action-major-minor-tag-calculator\", \"closedAt\": \"2021-10-17T00:00:00\", \"count\": 0}, {\"repo\": \"action-major-minor-tag-calculator\", \"closedAt\": \"2021-10-24T00:00:00\", \"count\": 0}, {\"repo\": \"action-major-minor-tag-calculator\", \"closedAt\": \"2021-10-31T00:00:00\", \"count\": 1}, {\"repo\": \"binder\", \"closedAt\": \"2021-10-03T00:00:00\", \"count\": 1}, {\"repo\": \"binderhub\", \"closedAt\": \"2021-08-29T00:00:00\", \"count\": 1}, {\"repo\": \"binderhub\", \"closedAt\": \"2021-09-05T00:00:00\", \"count\": 0}, {\"repo\": \"binderhub\", \"closedAt\": \"2021-09-12T00:00:00\", \"count\": 0}, {\"repo\": \"binderhub\", \"closedAt\": \"2021-09-19T00:00:00\", \"count\": 4}, {\"repo\": \"binderhub\", \"closedAt\": \"2021-09-26T00:00:00\", \"count\": 12}, {\"repo\": \"binderhub\", \"closedAt\": \"2021-10-03T00:00:00\", \"count\": 2}, {\"repo\": \"binderhub\", \"closedAt\": \"2021-10-10T00:00:00\", \"count\": 10}, {\"repo\": \"binderhub\", \"closedAt\": \"2021-10-17T00:00:00\", \"count\": 0}, {\"repo\": \"binderhub\", \"closedAt\": \"2021-10-24T00:00:00\", \"count\": 1}, {\"repo\": \"configurable-http-proxy\", \"closedAt\": \"2021-09-19T00:00:00\", \"count\": 1}, {\"repo\": \"docker-image-cleaner\", \"closedAt\": \"2021-09-26T00:00:00\", \"count\": 1}, {\"repo\": \"docker-image-cleaner\", \"closedAt\": \"2021-10-03T00:00:00\", \"count\": 0}, {\"repo\": \"docker-image-cleaner\", \"closedAt\": \"2021-10-10T00:00:00\", \"count\": 1}, {\"repo\": \"docker-stacks\", \"closedAt\": \"2021-10-24T00:00:00\", \"count\": 1}, {\"repo\": \"docker-stacks\", \"closedAt\": \"2021-10-31T00:00:00\", \"count\": 0}, {\"repo\": \"docker-stacks\", \"closedAt\": \"2021-11-07T00:00:00\", \"count\": 1}, {\"repo\": \"docker-stacks\", \"closedAt\": \"2021-11-14T00:00:00\", \"count\": 1}, {\"repo\": \"firstuseauthenticator\", \"closedAt\": \"2021-10-31T00:00:00\", \"count\": 4}, {\"repo\": \"jupyterhub\", \"closedAt\": \"2021-08-29T00:00:00\", \"count\": 3}, {\"repo\": \"jupyterhub\", \"closedAt\": \"2021-09-05T00:00:00\", \"count\": 0}, {\"repo\": \"jupyterhub\", \"closedAt\": \"2021-09-12T00:00:00\", \"count\": 0}, {\"repo\": \"jupyterhub\", \"closedAt\": \"2021-09-19T00:00:00\", \"count\": 1}, {\"repo\": \"jupyterhub\", \"closedAt\": \"2021-09-26T00:00:00\", \"count\": 0}, {\"repo\": \"jupyterhub\", \"closedAt\": \"2021-10-03T00:00:00\", \"count\": 3}, {\"repo\": \"jupyterhub\", \"closedAt\": \"2021-10-10T00:00:00\", \"count\": 0}, {\"repo\": \"jupyterhub\", \"closedAt\": \"2021-10-17T00:00:00\", \"count\": 2}, {\"repo\": \"jupyterhub\", \"closedAt\": \"2021-10-24T00:00:00\", \"count\": 2}, {\"repo\": \"jupyterhub\", \"closedAt\": \"2021-10-31T00:00:00\", \"count\": 9}, {\"repo\": \"jupyterhub\", \"closedAt\": \"2021-11-07T00:00:00\", \"count\": 1}, {\"repo\": \"jupyterhub\", \"closedAt\": \"2021-11-14T00:00:00\", \"count\": 1}, {\"repo\": \"jupyterhub-idle-culler\", \"closedAt\": \"2021-09-19T00:00:00\", \"count\": 2}, {\"repo\": \"jupyterhub-idle-culler\", \"closedAt\": \"2021-09-26T00:00:00\", \"count\": 0}, {\"repo\": \"jupyterhub-idle-culler\", \"closedAt\": \"2021-10-03T00:00:00\", \"count\": 0}, {\"repo\": \"jupyterhub-idle-culler\", \"closedAt\": \"2021-10-10T00:00:00\", \"count\": 0}, {\"repo\": \"jupyterhub-idle-culler\", \"closedAt\": \"2021-10-17T00:00:00\", \"count\": 3}, {\"repo\": \"kubespawner\", \"closedAt\": \"2021-10-10T00:00:00\", \"count\": 1}, {\"repo\": \"kubespawner\", \"closedAt\": \"2021-10-17T00:00:00\", \"count\": 0}, {\"repo\": \"kubespawner\", \"closedAt\": \"2021-10-24T00:00:00\", \"count\": 1}, {\"repo\": \"kubespawner\", \"closedAt\": \"2021-10-31T00:00:00\", \"count\": 1}, {\"repo\": \"kubespawner\", \"closedAt\": \"2021-11-07T00:00:00\", \"count\": 1}, {\"repo\": \"mybinder.org-deploy\", \"closedAt\": \"2021-10-17T00:00:00\", \"count\": 1}, {\"repo\": \"nativeauthenticator\", \"closedAt\": \"2021-11-07T00:00:00\", \"count\": 1}, {\"repo\": \"nativeauthenticator\", \"closedAt\": \"2021-11-14T00:00:00\", \"count\": 2}, {\"repo\": \"nbgitpuller\", \"closedAt\": \"2021-11-07T00:00:00\", \"count\": 2}, {\"repo\": \"oauthenticator\", \"closedAt\": \"2021-09-19T00:00:00\", \"count\": 1}, {\"repo\": \"oauthenticator\", \"closedAt\": \"2021-09-26T00:00:00\", \"count\": 0}, {\"repo\": \"oauthenticator\", \"closedAt\": \"2021-10-03T00:00:00\", \"count\": 0}, {\"repo\": \"oauthenticator\", \"closedAt\": \"2021-10-10T00:00:00\", \"count\": 0}, {\"repo\": \"oauthenticator\", \"closedAt\": \"2021-10-17T00:00:00\", \"count\": 1}, {\"repo\": \"repo2docker-action\", \"closedAt\": \"2021-11-07T00:00:00\", \"count\": 1}, {\"repo\": \"team-compass\", \"closedAt\": \"2021-10-03T00:00:00\", \"count\": 1}, {\"repo\": \"the-littlest-jupyterhub\", \"closedAt\": \"2021-10-17T00:00:00\", \"count\": 2}, {\"repo\": \"the-littlest-jupyterhub\", \"closedAt\": \"2021-10-24T00:00:00\", \"count\": 5}, {\"repo\": \"the-littlest-jupyterhub\", \"closedAt\": \"2021-10-31T00:00:00\", \"count\": 6}, {\"repo\": \"the-littlest-jupyterhub\", \"closedAt\": \"2021-11-07T00:00:00\", \"count\": 3}, {\"repo\": \"zero-to-jupyterhub-k8s\", \"closedAt\": \"2021-09-26T00:00:00\", \"count\": 4}, {\"repo\": \"zero-to-jupyterhub-k8s\", \"closedAt\": \"2021-10-03T00:00:00\", \"count\": 4}, {\"repo\": \"zero-to-jupyterhub-k8s\", \"closedAt\": \"2021-10-10T00:00:00\", \"count\": 3}, {\"repo\": \"zero-to-jupyterhub-k8s\", \"closedAt\": \"2021-10-17T00:00:00\", \"count\": 10}, {\"repo\": \"zero-to-jupyterhub-k8s\", \"closedAt\": \"2021-10-24T00:00:00\", \"count\": 1}, {\"repo\": \"zero-to-jupyterhub-k8s\", \"closedAt\": \"2021-10-31T00:00:00\", \"count\": 5}, {\"repo\": \"zero-to-jupyterhub-k8s\", \"closedAt\": \"2021-11-07T00:00:00\", \"count\": 4}]}}, {\"mode\": \"vega-lite\"});\n",
       "</script>"
      ],
      "text/plain": [
       "alt.Chart(...)"
      ]
     },
     "execution_count": 15,
     "metadata": {},
     "output_type": "execute_result"
    }
   ],
   "source": [
    "closed_by_time = closed_by.groupby('repo').resample('W', on='closedAt').count()['author'].reset_index()\n",
    "closed_by_time = closed_by_time.rename(columns={'author': 'count'})\n",
    "\n",
    "alt.Chart(closed_by_time, width=600).mark_line().encode(\n",
    "    x='closedAt',\n",
    "    y='count',\n",
    "    color='repo',\n",
    "    tooltip=\"repo\"\n",
    ")"
   ]
  },
  {
   "cell_type": "markdown",
   "id": "cb3a030d",
   "metadata": {
    "papermill": {
     "duration": 0.021466,
     "end_time": "2021-11-12T01:35:03.429726",
     "exception": false,
     "start_time": "2021-11-12T01:35:03.408260",
     "status": "completed"
    },
    "tags": []
   },
   "source": [
    "## By type over time"
   ]
  },
  {
   "cell_type": "code",
   "execution_count": 16,
   "id": "97d47422",
   "metadata": {
    "execution": {
     "iopub.execute_input": "2021-11-12T01:35:03.494532Z",
     "iopub.status.busy": "2021-11-12T01:35:03.488471Z",
     "iopub.status.idle": "2021-11-12T01:35:03.508870Z",
     "shell.execute_reply": "2021-11-12T01:35:03.507851Z"
    },
    "papermill": {
     "duration": 0.055524,
     "end_time": "2021-11-12T01:35:03.509059",
     "exception": false,
     "start_time": "2021-11-12T01:35:03.453535",
     "status": "completed"
    },
    "tags": [
     "remove_cell"
    ]
   },
   "outputs": [],
   "source": [
    "prs_time = prs[['author', 'createdAt']].resample('W', on='createdAt').count()['author'].reset_index()\n",
    "prs_time = prs_time.rename(columns={'author': 'prs'})\n",
    "comments_time = comments[['author', 'createdAt']].resample('W', on='createdAt').count()['author'].reset_index()\n",
    "comments_time = comments_time.rename(columns={'author': 'comments'})\n",
    "\n",
    "total_time = pd.merge(prs_time, comments_time, on='createdAt', how='outer')\n",
    "total_time = total_time.melt(id_vars='createdAt', var_name=\"kind\", value_name=\"count\")\n"
   ]
  },
  {
   "cell_type": "code",
   "execution_count": 17,
   "id": "34c634e4",
   "metadata": {
    "execution": {
     "iopub.execute_input": "2021-11-12T01:35:03.582906Z",
     "iopub.status.busy": "2021-11-12T01:35:03.569356Z",
     "iopub.status.idle": "2021-11-12T01:35:03.589003Z",
     "shell.execute_reply": "2021-11-12T01:35:03.588164Z"
    },
    "papermill": {
     "duration": 0.05954,
     "end_time": "2021-11-12T01:35:03.589166",
     "exception": false,
     "start_time": "2021-11-12T01:35:03.529626",
     "status": "completed"
    },
    "tags": [
     "hide_input"
    ]
   },
   "outputs": [
    {
     "data": {
      "text/html": [
       "\n",
       "<div id=\"altair-viz-8ed5e29d724c4efa8ce039dc6d36f755\"></div>\n",
       "<script type=\"text/javascript\">\n",
       "  (function(spec, embedOpt){\n",
       "    let outputDiv = document.currentScript.previousElementSibling;\n",
       "    if (outputDiv.id !== \"altair-viz-8ed5e29d724c4efa8ce039dc6d36f755\") {\n",
       "      outputDiv = document.getElementById(\"altair-viz-8ed5e29d724c4efa8ce039dc6d36f755\");\n",
       "    }\n",
       "    const paths = {\n",
       "      \"vega\": \"https://cdn.jsdelivr.net/npm//vega@5?noext\",\n",
       "      \"vega-lib\": \"https://cdn.jsdelivr.net/npm//vega-lib?noext\",\n",
       "      \"vega-lite\": \"https://cdn.jsdelivr.net/npm//vega-lite@4.8.1?noext\",\n",
       "      \"vega-embed\": \"https://cdn.jsdelivr.net/npm//vega-embed@6?noext\",\n",
       "    };\n",
       "\n",
       "    function loadScript(lib) {\n",
       "      return new Promise(function(resolve, reject) {\n",
       "        var s = document.createElement('script');\n",
       "        s.src = paths[lib];\n",
       "        s.async = true;\n",
       "        s.onload = () => resolve(paths[lib]);\n",
       "        s.onerror = () => reject(`Error loading script: ${paths[lib]}`);\n",
       "        document.getElementsByTagName(\"head\")[0].appendChild(s);\n",
       "      });\n",
       "    }\n",
       "\n",
       "    function showError(err) {\n",
       "      outputDiv.innerHTML = `<div class=\"error\" style=\"color:red;\">${err}</div>`;\n",
       "      throw err;\n",
       "    }\n",
       "\n",
       "    function displayChart(vegaEmbed) {\n",
       "      vegaEmbed(outputDiv, spec, embedOpt)\n",
       "        .catch(err => showError(`Javascript Error: ${err.message}<br>This usually means there's a typo in your chart specification. See the javascript console for the full traceback.`));\n",
       "    }\n",
       "\n",
       "    if(typeof define === \"function\" && define.amd) {\n",
       "      requirejs.config({paths});\n",
       "      require([\"vega-embed\"], displayChart, err => showError(`Error loading script: ${err.message}`));\n",
       "    } else if (typeof vegaEmbed === \"function\") {\n",
       "      displayChart(vegaEmbed);\n",
       "    } else {\n",
       "      loadScript(\"vega\")\n",
       "        .then(() => loadScript(\"vega-lite\"))\n",
       "        .then(() => loadScript(\"vega-embed\"))\n",
       "        .catch(showError)\n",
       "        .then(() => displayChart(vegaEmbed));\n",
       "    }\n",
       "  })({\"config\": {\"axisLeft\": {\"labelFontSize\": 15}, \"axisBottom\": {\"labelFontSize\": 15}}, \"data\": {\"name\": \"data-cd102d03cf249c0c118361f5de9474a7\"}, \"mark\": \"line\", \"encoding\": {\"color\": {\"type\": \"nominal\", \"field\": \"kind\"}, \"x\": {\"type\": \"temporal\", \"field\": \"createdAt\"}, \"y\": {\"type\": \"quantitative\", \"field\": \"count\"}}, \"width\": 600, \"$schema\": \"https://vega.github.io/schema/vega-lite/v4.8.1.json\", \"datasets\": {\"data-cd102d03cf249c0c118361f5de9474a7\": [{\"createdAt\": \"2021-06-13T00:00:00\", \"kind\": \"prs\", \"count\": 1.0}, {\"createdAt\": \"2021-06-20T00:00:00\", \"kind\": \"prs\", \"count\": 0.0}, {\"createdAt\": \"2021-06-27T00:00:00\", \"kind\": \"prs\", \"count\": 0.0}, {\"createdAt\": \"2021-07-04T00:00:00\", \"kind\": \"prs\", \"count\": 0.0}, {\"createdAt\": \"2021-07-11T00:00:00\", \"kind\": \"prs\", \"count\": 0.0}, {\"createdAt\": \"2021-07-18T00:00:00\", \"kind\": \"prs\", \"count\": 1.0}, {\"createdAt\": \"2021-07-25T00:00:00\", \"kind\": \"prs\", \"count\": 0.0}, {\"createdAt\": \"2021-08-01T00:00:00\", \"kind\": \"prs\", \"count\": 0.0}, {\"createdAt\": \"2021-08-08T00:00:00\", \"kind\": \"prs\", \"count\": 0.0}, {\"createdAt\": \"2021-08-15T00:00:00\", \"kind\": \"prs\", \"count\": 1.0}, {\"createdAt\": \"2021-08-22T00:00:00\", \"kind\": \"prs\", \"count\": 1.0}, {\"createdAt\": \"2021-08-29T00:00:00\", \"kind\": \"prs\", \"count\": 3.0}, {\"createdAt\": \"2021-09-05T00:00:00\", \"kind\": \"prs\", \"count\": 0.0}, {\"createdAt\": \"2021-09-12T00:00:00\", \"kind\": \"prs\", \"count\": 0.0}, {\"createdAt\": \"2021-09-19T00:00:00\", \"kind\": \"prs\", \"count\": 2.0}, {\"createdAt\": \"2021-09-26T00:00:00\", \"kind\": \"prs\", \"count\": 24.0}, {\"createdAt\": \"2021-10-03T00:00:00\", \"kind\": \"prs\", \"count\": 6.0}, {\"createdAt\": \"2021-10-10T00:00:00\", \"kind\": \"prs\", \"count\": 19.0}, {\"createdAt\": \"2021-10-17T00:00:00\", \"kind\": \"prs\", \"count\": 16.0}, {\"createdAt\": \"2021-10-24T00:00:00\", \"kind\": \"prs\", \"count\": 11.0}, {\"createdAt\": \"2021-10-31T00:00:00\", \"kind\": \"prs\", \"count\": 24.0}, {\"createdAt\": \"2021-11-07T00:00:00\", \"kind\": \"prs\", \"count\": 10.0}, {\"createdAt\": \"2021-11-14T00:00:00\", \"kind\": \"prs\", \"count\": 1.0}, {\"createdAt\": \"2021-06-13T00:00:00\", \"kind\": \"comments\", \"count\": null}, {\"createdAt\": \"2021-06-20T00:00:00\", \"kind\": \"comments\", \"count\": null}, {\"createdAt\": \"2021-06-27T00:00:00\", \"kind\": \"comments\", \"count\": null}, {\"createdAt\": \"2021-07-04T00:00:00\", \"kind\": \"comments\", \"count\": null}, {\"createdAt\": \"2021-07-11T00:00:00\", \"kind\": \"comments\", \"count\": null}, {\"createdAt\": \"2021-07-18T00:00:00\", \"kind\": \"comments\", \"count\": null}, {\"createdAt\": \"2021-07-25T00:00:00\", \"kind\": \"comments\", \"count\": null}, {\"createdAt\": \"2021-08-01T00:00:00\", \"kind\": \"comments\", \"count\": null}, {\"createdAt\": \"2021-08-08T00:00:00\", \"kind\": \"comments\", \"count\": null}, {\"createdAt\": \"2021-08-15T00:00:00\", \"kind\": \"comments\", \"count\": null}, {\"createdAt\": \"2021-08-22T00:00:00\", \"kind\": \"comments\", \"count\": null}, {\"createdAt\": \"2021-08-29T00:00:00\", \"kind\": \"comments\", \"count\": null}, {\"createdAt\": \"2021-09-05T00:00:00\", \"kind\": \"comments\", \"count\": null}, {\"createdAt\": \"2021-09-12T00:00:00\", \"kind\": \"comments\", \"count\": null}, {\"createdAt\": \"2021-09-19T00:00:00\", \"kind\": \"comments\", \"count\": 22.0}, {\"createdAt\": \"2021-09-26T00:00:00\", \"kind\": \"comments\", \"count\": 55.0}, {\"createdAt\": \"2021-10-03T00:00:00\", \"kind\": \"comments\", \"count\": 26.0}, {\"createdAt\": \"2021-10-10T00:00:00\", \"kind\": \"comments\", \"count\": 40.0}, {\"createdAt\": \"2021-10-17T00:00:00\", \"kind\": \"comments\", \"count\": 40.0}, {\"createdAt\": \"2021-10-24T00:00:00\", \"kind\": \"comments\", \"count\": 81.0}, {\"createdAt\": \"2021-10-31T00:00:00\", \"kind\": \"comments\", \"count\": 119.0}, {\"createdAt\": \"2021-11-07T00:00:00\", \"kind\": \"comments\", \"count\": 34.0}, {\"createdAt\": \"2021-11-14T00:00:00\", \"kind\": \"comments\", \"count\": 22.0}]}}, {\"mode\": \"vega-lite\"});\n",
       "</script>"
      ],
      "text/plain": [
       "alt.Chart(...)"
      ]
     },
     "execution_count": 17,
     "metadata": {},
     "output_type": "execute_result"
    }
   ],
   "source": [
    "alt.Chart(total_time, width=600).mark_line().encode(\n",
    "    x='createdAt',\n",
    "    y='count',\n",
    "    color='kind'\n",
    ")"
   ]
  }
 ],
 "metadata": {
  "kernelspec": {
   "display_name": "Python 3 (ipykernel)",
   "language": "python",
   "name": "python3"
  },
  "language_info": {
   "codemirror_mode": {
    "name": "ipython",
    "version": 3
   },
   "file_extension": ".py",
   "mimetype": "text/x-python",
   "name": "python",
   "nbconvert_exporter": "python",
   "pygments_lexer": "ipython3",
   "version": "3.7.12"
  },
  "papermill": {
   "default_parameters": {},
   "duration": 4.284588,
   "end_time": "2021-11-12T01:35:03.939389",
   "environment_variables": {},
   "exception": null,
   "input_path": "./templates/person_report.ipynb",
   "output_path": "generated/people/consideRatio.ipynb",
   "parameters": {
    "n_days": 90,
    "person": "consideRatio"
   },
   "start_time": "2021-11-12T01:34:59.654801",
   "version": "2.3.3"
  },
  "widgets": {
   "application/vnd.jupyter.widget-state+json": {
    "state": {},
    "version_major": 2,
    "version_minor": 0
   }
  }
 },
 "nbformat": 4,
 "nbformat_minor": 5
}