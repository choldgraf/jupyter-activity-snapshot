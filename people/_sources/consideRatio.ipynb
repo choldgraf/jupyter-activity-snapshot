{
 "cells": [
  {
   "cell_type": "markdown",
   "metadata": {
    "papermill": {
     "duration": 0.013378,
     "end_time": "2020-06-26T01:12:15.536591",
     "exception": false,
     "start_time": "2020-06-26T01:12:15.523213",
     "status": "completed"
    },
    "tags": []
   },
   "source": [
    "# Report for consideRatio"
   ]
  },
  {
   "cell_type": "code",
   "execution_count": 1,
   "metadata": {
    "execution": {
     "iopub.execute_input": "2020-06-26T01:12:15.564128Z",
     "iopub.status.busy": "2020-06-26T01:12:15.562951Z",
     "iopub.status.idle": "2020-06-26T01:12:16.331284Z",
     "shell.execute_reply": "2020-06-26T01:12:16.330319Z"
    },
    "papermill": {
     "duration": 0.783222,
     "end_time": "2020-06-26T01:12:16.331396",
     "exception": false,
     "start_time": "2020-06-26T01:12:15.548174",
     "status": "completed"
    },
    "tags": [
     "remove_cell"
    ]
   },
   "outputs": [],
   "source": [
    "import seaborn as sns\n",
    "import pandas as pd\n",
    "import numpy as np\n",
    "import altair as alt\n",
    "from markdown import markdown\n",
    "from IPython.display import Markdown\n",
    "from ipywidgets.widgets import HTML, Tab\n",
    "from ipywidgets import widgets\n",
    "from datetime import timedelta\n",
    "from matplotlib import pyplot as plt\n",
    "import os.path as op\n",
    "\n",
    "from mycode import alt_theme\n",
    "from warnings import simplefilter\n",
    "simplefilter('ignore')"
   ]
  },
  {
   "cell_type": "code",
   "execution_count": 2,
   "metadata": {
    "execution": {
     "iopub.execute_input": "2020-06-26T01:12:16.358474Z",
     "iopub.status.busy": "2020-06-26T01:12:16.356971Z",
     "iopub.status.idle": "2020-06-26T01:12:16.358934Z",
     "shell.execute_reply": "2020-06-26T01:12:16.359484Z"
    },
    "papermill": {
     "duration": 0.017174,
     "end_time": "2020-06-26T01:12:16.359605",
     "exception": false,
     "start_time": "2020-06-26T01:12:16.342431",
     "status": "completed"
    },
    "tags": [
     "remove_cell"
    ]
   },
   "outputs": [],
   "source": [
    "def author_url(author):\n",
    "    return f\"https://github.com/{author}\""
   ]
  },
  {
   "cell_type": "code",
   "execution_count": 3,
   "metadata": {
    "execution": {
     "iopub.execute_input": "2020-06-26T01:12:16.385049Z",
     "iopub.status.busy": "2020-06-26T01:12:16.384455Z",
     "iopub.status.idle": "2020-06-26T01:12:16.385904Z",
     "shell.execute_reply": "2020-06-26T01:12:16.386370Z"
    },
    "papermill": {
     "duration": 0.016868,
     "end_time": "2020-06-26T01:12:16.386490",
     "exception": false,
     "start_time": "2020-06-26T01:12:16.369622",
     "status": "completed"
    },
    "tags": [
     "parameters",
     "hide_input"
    ]
   },
   "outputs": [],
   "source": [
    "# Parameters\n",
    "fmt_date = \"{:%Y-%m-%d}\"\n",
    "\n",
    "n_days = 30 * 2\n",
    "start_date = fmt_date.format(pd.datetime.today() - timedelta(days=n_days))\n",
    "end_date = fmt_date.format(pd.datetime.today())\n",
    "\n",
    "renderer = \"html\"\n",
    "person = \"jasongrout\""
   ]
  },
  {
   "cell_type": "code",
   "execution_count": 4,
   "metadata": {
    "execution": {
     "iopub.execute_input": "2020-06-26T01:12:16.409712Z",
     "iopub.status.busy": "2020-06-26T01:12:16.409147Z",
     "iopub.status.idle": "2020-06-26T01:12:16.411424Z",
     "shell.execute_reply": "2020-06-26T01:12:16.410962Z"
    },
    "papermill": {
     "duration": 0.014535,
     "end_time": "2020-06-26T01:12:16.411511",
     "exception": false,
     "start_time": "2020-06-26T01:12:16.396976",
     "status": "completed"
    },
    "tags": [
     "injected-parameters",
     "remove-cell"
    ]
   },
   "outputs": [],
   "source": [
    "# Parameters\n",
    "person = \"consideRatio\"\n",
    "n_days = 60\n"
   ]
  },
  {
   "cell_type": "code",
   "execution_count": 5,
   "metadata": {
    "execution": {
     "iopub.execute_input": "2020-06-26T01:12:16.439237Z",
     "iopub.status.busy": "2020-06-26T01:12:16.438475Z",
     "iopub.status.idle": "2020-06-26T01:12:16.440679Z",
     "shell.execute_reply": "2020-06-26T01:12:16.441228Z"
    },
    "papermill": {
     "duration": 0.017461,
     "end_time": "2020-06-26T01:12:16.441327",
     "exception": false,
     "start_time": "2020-06-26T01:12:16.423866",
     "status": "completed"
    },
    "tags": [
     "remove_cell"
    ]
   },
   "outputs": [
    {
     "data": {
      "text/plain": [
       "ThemeRegistry.enable('my_theme')"
      ]
     },
     "execution_count": 5,
     "metadata": {},
     "output_type": "execute_result"
    }
   ],
   "source": [
    "alt.renderers.enable(renderer);\n",
    "alt.themes.register('my_theme', alt_theme)\n",
    "alt.themes.enable(\"my_theme\")"
   ]
  },
  {
   "cell_type": "markdown",
   "metadata": {
    "papermill": {
     "duration": 0.011243,
     "end_time": "2020-06-26T01:12:16.466572",
     "exception": false,
     "start_time": "2020-06-26T01:12:16.455329",
     "status": "completed"
    },
    "tags": []
   },
   "source": [
    "## Load data"
   ]
  },
  {
   "cell_type": "code",
   "execution_count": 6,
   "metadata": {
    "execution": {
     "iopub.execute_input": "2020-06-26T01:12:16.495601Z",
     "iopub.status.busy": "2020-06-26T01:12:16.495096Z",
     "iopub.status.idle": "2020-06-26T01:12:16.632583Z",
     "shell.execute_reply": "2020-06-26T01:12:16.632053Z"
    },
    "papermill": {
     "duration": 0.154072,
     "end_time": "2020-06-26T01:12:16.632671",
     "exception": false,
     "start_time": "2020-06-26T01:12:16.478599",
     "status": "completed"
    },
    "tags": [
     "remove_cell"
    ]
   },
   "outputs": [],
   "source": [
    "from pathlib import Path\n",
    "path_data = Path(\"./\")\n",
    "comments = pd.read_csv(path_data.joinpath('comments.csv'), index_col=0)\n",
    "issues = pd.read_csv(path_data.joinpath('issues.csv'), index_col=0)\n",
    "prs = pd.read_csv(path_data.joinpath('prs.csv'), index_col=0)\n",
    "\n",
    "comments = comments.query('author == @person').drop_duplicates()\n",
    "issues = issues.query('author == @person').drop_duplicates()\n",
    "closed_by = prs.query('mergedBy == @person')\n",
    "prs = prs.query('author == @person').drop_duplicates()"
   ]
  },
  {
   "cell_type": "code",
   "execution_count": 7,
   "metadata": {
    "execution": {
     "iopub.execute_input": "2020-06-26T01:12:16.700007Z",
     "iopub.status.busy": "2020-06-26T01:12:16.685010Z",
     "iopub.status.idle": "2020-06-26T01:12:16.706639Z",
     "shell.execute_reply": "2020-06-26T01:12:16.707001Z"
    },
    "papermill": {
     "duration": 0.061911,
     "end_time": "2020-06-26T01:12:16.707104",
     "exception": false,
     "start_time": "2020-06-26T01:12:16.645193",
     "status": "completed"
    },
    "tags": [
     "remove_cell"
    ]
   },
   "outputs": [],
   "source": [
    "# Time columns\n",
    "# Also drop dates outside of our range\n",
    "time_columns = ['updatedAt', 'createdAt', 'closedAt']\n",
    "for col in time_columns:\n",
    "    for item in [comments, issues, prs, closed_by]:\n",
    "        if col not in item.columns:\n",
    "            continue\n",
    "        dt = pd.to_datetime(item[col]).dt.tz_localize(None)\n",
    "        item[col] = dt\n",
    "        item.query(\"updatedAt < @end_date and updatedAt > @start_date\", inplace=True)"
   ]
  },
  {
   "cell_type": "markdown",
   "metadata": {
    "papermill": {
     "duration": 0.011384,
     "end_time": "2020-06-26T01:12:16.729455",
     "exception": false,
     "start_time": "2020-06-26T01:12:16.718071",
     "status": "completed"
    },
    "tags": []
   },
   "source": [
    "# Repository summaries"
   ]
  },
  {
   "cell_type": "code",
   "execution_count": 8,
   "metadata": {
    "execution": {
     "iopub.execute_input": "2020-06-26T01:12:16.760035Z",
     "iopub.status.busy": "2020-06-26T01:12:16.759498Z",
     "iopub.status.idle": "2020-06-26T01:12:16.779362Z",
     "shell.execute_reply": "2020-06-26T01:12:16.779941Z"
    },
    "papermill": {
     "duration": 0.039319,
     "end_time": "2020-06-26T01:12:16.780089",
     "exception": false,
     "start_time": "2020-06-26T01:12:16.740770",
     "status": "completed"
    },
    "tags": [
     "remove_cell"
    ]
   },
   "outputs": [],
   "source": [
    "summaries = []\n",
    "for idata, name in [(issues, 'issues'), (prs, 'prs'), (comments, 'comments')]:\n",
    "    idata = idata.groupby([\"repo\", \"org\"]).agg({'id': \"count\"}).reset_index().rename(columns={'id': 'count'})\n",
    "    idata[\"kind\"] = name\n",
    "    summaries.append(idata)\n",
    "summaries = pd.concat(summaries)"
   ]
  },
  {
   "cell_type": "code",
   "execution_count": 9,
   "metadata": {
    "execution": {
     "iopub.execute_input": "2020-06-26T01:12:16.819043Z",
     "iopub.status.busy": "2020-06-26T01:12:16.818527Z",
     "iopub.status.idle": "2020-06-26T01:12:16.823338Z",
     "shell.execute_reply": "2020-06-26T01:12:16.822807Z"
    },
    "papermill": {
     "duration": 0.029332,
     "end_time": "2020-06-26T01:12:16.823423",
     "exception": false,
     "start_time": "2020-06-26T01:12:16.794091",
     "status": "completed"
    },
    "tags": [
     "remove_cell"
    ]
   },
   "outputs": [],
   "source": [
    "repo_summaries = summaries.groupby([\"repo\", \"kind\"]).agg({\"count\": \"sum\"}).reset_index()\n",
    "org_summaries = summaries.groupby([\"org\", \"kind\"]).agg({\"count\": \"sum\"}).reset_index()"
   ]
  },
  {
   "cell_type": "code",
   "execution_count": 10,
   "metadata": {
    "execution": {
     "iopub.execute_input": "2020-06-26T01:12:16.850442Z",
     "iopub.status.busy": "2020-06-26T01:12:16.849901Z",
     "iopub.status.idle": "2020-06-26T01:12:16.851645Z",
     "shell.execute_reply": "2020-06-26T01:12:16.852027Z"
    },
    "papermill": {
     "duration": 0.017054,
     "end_time": "2020-06-26T01:12:16.852125",
     "exception": false,
     "start_time": "2020-06-26T01:12:16.835071",
     "status": "completed"
    },
    "tags": [
     "remove_cell"
    ]
   },
   "outputs": [],
   "source": [
    "repo_summaries['logcount'] = np.log(repo_summaries[\"count\"])"
   ]
  },
  {
   "cell_type": "code",
   "execution_count": 11,
   "metadata": {
    "execution": {
     "iopub.execute_input": "2020-06-26T01:12:16.887206Z",
     "iopub.status.busy": "2020-06-26T01:12:16.886687Z",
     "iopub.status.idle": "2020-06-26T01:12:16.924050Z",
     "shell.execute_reply": "2020-06-26T01:12:16.924667Z"
    },
    "papermill": {
     "duration": 0.06145,
     "end_time": "2020-06-26T01:12:16.924777",
     "exception": false,
     "start_time": "2020-06-26T01:12:16.863327",
     "status": "completed"
    },
    "tags": [
     "hide_input"
    ]
   },
   "outputs": [
    {
     "data": {
      "text/html": [
       "\n",
       "<div id=\"altair-viz-3ba891eff9bb49bf990de3fa7a537f39\"></div>\n",
       "<script type=\"text/javascript\">\n",
       "  (function(spec, embedOpt){\n",
       "    let outputDiv = document.currentScript.previousElementSibling;\n",
       "    if (outputDiv.id !== \"altair-viz-3ba891eff9bb49bf990de3fa7a537f39\") {\n",
       "      outputDiv = document.getElementById(\"altair-viz-3ba891eff9bb49bf990de3fa7a537f39\");\n",
       "    }\n",
       "    const paths = {\n",
       "      \"vega\": \"https://cdn.jsdelivr.net/npm//vega@5?noext\",\n",
       "      \"vega-lib\": \"https://cdn.jsdelivr.net/npm//vega-lib?noext\",\n",
       "      \"vega-lite\": \"https://cdn.jsdelivr.net/npm//vega-lite@4.8.1?noext\",\n",
       "      \"vega-embed\": \"https://cdn.jsdelivr.net/npm//vega-embed@6?noext\",\n",
       "    };\n",
       "\n",
       "    function loadScript(lib) {\n",
       "      return new Promise(function(resolve, reject) {\n",
       "        var s = document.createElement('script');\n",
       "        s.src = paths[lib];\n",
       "        s.async = true;\n",
       "        s.onload = () => resolve(paths[lib]);\n",
       "        s.onerror = () => reject(`Error loading script: ${paths[lib]}`);\n",
       "        document.getElementsByTagName(\"head\")[0].appendChild(s);\n",
       "      });\n",
       "    }\n",
       "\n",
       "    function showError(err) {\n",
       "      outputDiv.innerHTML = `<div class=\"error\" style=\"color:red;\">${err}</div>`;\n",
       "      throw err;\n",
       "    }\n",
       "\n",
       "    function displayChart(vegaEmbed) {\n",
       "      vegaEmbed(outputDiv, spec, embedOpt)\n",
       "        .catch(err => showError(`Javascript Error: ${err.message}<br>This usually means there's a typo in your chart specification. See the javascript console for the full traceback.`));\n",
       "    }\n",
       "\n",
       "    if(typeof define === \"function\" && define.amd) {\n",
       "      requirejs.config({paths});\n",
       "      require([\"vega-embed\"], displayChart, err => showError(`Error loading script: ${err.message}`));\n",
       "    } else if (typeof vegaEmbed === \"function\") {\n",
       "      displayChart(vegaEmbed);\n",
       "    } else {\n",
       "      loadScript(\"vega\")\n",
       "        .then(() => loadScript(\"vega-lite\"))\n",
       "        .then(() => loadScript(\"vega-embed\"))\n",
       "        .catch(showError)\n",
       "        .then(() => displayChart(vegaEmbed));\n",
       "    }\n",
       "  })({\"config\": {\"axisLeft\": {\"labelFontSize\": 15}, \"axisBottom\": {\"labelFontSize\": 15}}, \"hconcat\": [{\"mark\": \"bar\", \"encoding\": {\"color\": {\"type\": \"nominal\", \"field\": \"kind\"}, \"tooltip\": {\"type\": \"nominal\", \"field\": \"kind\"}, \"x\": {\"type\": \"nominal\", \"field\": \"repo\"}, \"y\": {\"type\": \"quantitative\", \"field\": \"count\"}}, \"title\": \"Activity per repository\", \"width\": 600}, {\"mark\": \"bar\", \"encoding\": {\"color\": {\"type\": \"nominal\", \"field\": \"kind\"}, \"tooltip\": {\"type\": \"nominal\", \"field\": \"kind\"}, \"x\": {\"type\": \"nominal\", \"field\": \"repo\"}, \"y\": {\"type\": \"quantitative\", \"field\": \"logcount\"}}, \"title\": \"Log activity per repository\", \"width\": 600}], \"data\": {\"name\": \"data-75be834b0b4fe699b044ae1586410234\"}, \"$schema\": \"https://vega.github.io/schema/vega-lite/v4.8.1.json\", \"datasets\": {\"data-75be834b0b4fe699b044ae1586410234\": [{\"repo\": \".github\", \"kind\": \"comments\", \"count\": 1, \"logcount\": 0.0}, {\"repo\": \"MyST-Parser\", \"kind\": \"comments\", \"count\": 3, \"logcount\": 1.0986122886681098}, {\"repo\": \"MyST-Parser\", \"kind\": \"issues\", \"count\": 1, \"logcount\": 0.0}, {\"repo\": \"binderhub\", \"kind\": \"comments\", \"count\": 4, \"logcount\": 1.3862943611198906}, {\"repo\": \"binderhub\", \"kind\": \"prs\", \"count\": 2, \"logcount\": 0.6931471805599453}, {\"repo\": \"configurable-http-proxy\", \"kind\": \"comments\", \"count\": 13, \"logcount\": 2.5649493574615367}, {\"repo\": \"configurable-http-proxy\", \"kind\": \"prs\", \"count\": 6, \"logcount\": 1.791759469228055}, {\"repo\": \"helm-chart\", \"kind\": \"comments\", \"count\": 6, \"logcount\": 1.791759469228055}, {\"repo\": \"helm-chart\", \"kind\": \"prs\", \"count\": 1, \"logcount\": 0.0}, {\"repo\": \"jupyter-book\", \"kind\": \"comments\", \"count\": 1, \"logcount\": 0.0}, {\"repo\": \"jupyter-book\", \"kind\": \"issues\", \"count\": 1, \"logcount\": 0.0}, {\"repo\": \"jupyter-book\", \"kind\": \"prs\", \"count\": 2, \"logcount\": 0.6931471805599453}, {\"repo\": \"jupyter-server-proxy\", \"kind\": \"comments\", \"count\": 4, \"logcount\": 1.3862943611198906}, {\"repo\": \"jupyterhub\", \"kind\": \"comments\", \"count\": 6, \"logcount\": 1.791759469228055}, {\"repo\": \"jupyterhub\", \"kind\": \"prs\", \"count\": 1, \"logcount\": 0.0}, {\"repo\": \"kubespawner\", \"kind\": \"comments\", \"count\": 5, \"logcount\": 1.6094379124341003}, {\"repo\": \"meta\", \"kind\": \"prs\", \"count\": 1, \"logcount\": 0.0}, {\"repo\": \"mybinder.org-deploy\", \"kind\": \"comments\", \"count\": 5, \"logcount\": 1.6094379124341003}, {\"repo\": \"mybinder.org-deploy\", \"kind\": \"prs\", \"count\": 1, \"logcount\": 0.0}, {\"repo\": \"notebook\", \"kind\": \"comments\", \"count\": 1, \"logcount\": 0.0}, {\"repo\": \"notebook\", \"kind\": \"prs\", \"count\": 1, \"logcount\": 0.0}, {\"repo\": \"pebble-helm-chart\", \"kind\": \"comments\", \"count\": 1, \"logcount\": 0.0}, {\"repo\": \"pebble-helm-chart\", \"kind\": \"prs\", \"count\": 6, \"logcount\": 1.791759469228055}, {\"repo\": \"sudospawner\", \"kind\": \"comments\", \"count\": 3, \"logcount\": 1.0986122886681098}, {\"repo\": \"team-compass\", \"kind\": \"comments\", \"count\": 12, \"logcount\": 2.4849066497880004}, {\"repo\": \"team-compass\", \"kind\": \"issues\", \"count\": 2, \"logcount\": 0.6931471805599453}, {\"repo\": \"the-littlest-jupyterhub\", \"kind\": \"comments\", \"count\": 1, \"logcount\": 0.0}, {\"repo\": \"traefik-proxy\", \"kind\": \"comments\", \"count\": 2, \"logcount\": 0.6931471805599453}, {\"repo\": \"zero-to-jupyterhub-k8s\", \"kind\": \"comments\", \"count\": 58, \"logcount\": 4.060443010546419}, {\"repo\": \"zero-to-jupyterhub-k8s\", \"kind\": \"issues\", \"count\": 7, \"logcount\": 1.9459101490553132}, {\"repo\": \"zero-to-jupyterhub-k8s\", \"kind\": \"prs\", \"count\": 19, \"logcount\": 2.9444389791664403}]}}, {\"mode\": \"vega-lite\"});\n",
       "</script>"
      ],
      "text/plain": [
       "alt.HConcatChart(...)"
      ]
     },
     "execution_count": 11,
     "metadata": {},
     "output_type": "execute_result"
    }
   ],
   "source": [
    "ch1 = alt.Chart(repo_summaries, width=600, title=\"Activity per repository\").mark_bar().encode(\n",
    "    x='repo',\n",
    "    y='count',\n",
    "    color='kind',\n",
    "    tooltip=\"kind\"\n",
    ")\n",
    "\n",
    "ch2 = alt.Chart(repo_summaries, width=600, title=\"Log activity per repository\").mark_bar().encode(\n",
    "    x='repo',\n",
    "    y='logcount',\n",
    "    color='kind',\n",
    "    tooltip=\"kind\"\n",
    ")\n",
    "\n",
    "ch1 | ch2"
   ]
  },
  {
   "cell_type": "code",
   "execution_count": 12,
   "metadata": {
    "execution": {
     "iopub.execute_input": "2020-06-26T01:12:16.974139Z",
     "iopub.status.busy": "2020-06-26T01:12:16.958828Z",
     "iopub.status.idle": "2020-06-26T01:12:16.976355Z",
     "shell.execute_reply": "2020-06-26T01:12:16.976799Z"
    },
    "papermill": {
     "duration": 0.039988,
     "end_time": "2020-06-26T01:12:16.976891",
     "exception": false,
     "start_time": "2020-06-26T01:12:16.936903",
     "status": "completed"
    },
    "tags": [
     "hide_input"
    ]
   },
   "outputs": [
    {
     "data": {
      "text/html": [
       "\n",
       "<div id=\"altair-viz-9db3639264dd4c04af813e1ff66b653b\"></div>\n",
       "<script type=\"text/javascript\">\n",
       "  (function(spec, embedOpt){\n",
       "    let outputDiv = document.currentScript.previousElementSibling;\n",
       "    if (outputDiv.id !== \"altair-viz-9db3639264dd4c04af813e1ff66b653b\") {\n",
       "      outputDiv = document.getElementById(\"altair-viz-9db3639264dd4c04af813e1ff66b653b\");\n",
       "    }\n",
       "    const paths = {\n",
       "      \"vega\": \"https://cdn.jsdelivr.net/npm//vega@5?noext\",\n",
       "      \"vega-lib\": \"https://cdn.jsdelivr.net/npm//vega-lib?noext\",\n",
       "      \"vega-lite\": \"https://cdn.jsdelivr.net/npm//vega-lite@4.8.1?noext\",\n",
       "      \"vega-embed\": \"https://cdn.jsdelivr.net/npm//vega-embed@6?noext\",\n",
       "    };\n",
       "\n",
       "    function loadScript(lib) {\n",
       "      return new Promise(function(resolve, reject) {\n",
       "        var s = document.createElement('script');\n",
       "        s.src = paths[lib];\n",
       "        s.async = true;\n",
       "        s.onload = () => resolve(paths[lib]);\n",
       "        s.onerror = () => reject(`Error loading script: ${paths[lib]}`);\n",
       "        document.getElementsByTagName(\"head\")[0].appendChild(s);\n",
       "      });\n",
       "    }\n",
       "\n",
       "    function showError(err) {\n",
       "      outputDiv.innerHTML = `<div class=\"error\" style=\"color:red;\">${err}</div>`;\n",
       "      throw err;\n",
       "    }\n",
       "\n",
       "    function displayChart(vegaEmbed) {\n",
       "      vegaEmbed(outputDiv, spec, embedOpt)\n",
       "        .catch(err => showError(`Javascript Error: ${err.message}<br>This usually means there's a typo in your chart specification. See the javascript console for the full traceback.`));\n",
       "    }\n",
       "\n",
       "    if(typeof define === \"function\" && define.amd) {\n",
       "      requirejs.config({paths});\n",
       "      require([\"vega-embed\"], displayChart, err => showError(`Error loading script: ${err.message}`));\n",
       "    } else if (typeof vegaEmbed === \"function\") {\n",
       "      displayChart(vegaEmbed);\n",
       "    } else {\n",
       "      loadScript(\"vega\")\n",
       "        .then(() => loadScript(\"vega-lite\"))\n",
       "        .then(() => loadScript(\"vega-embed\"))\n",
       "        .catch(showError)\n",
       "        .then(() => displayChart(vegaEmbed));\n",
       "    }\n",
       "  })({\"config\": {\"axisLeft\": {\"labelFontSize\": 15}, \"axisBottom\": {\"labelFontSize\": 15}}, \"data\": {\"name\": \"data-23932e0d503750407742d3aa115eb1e0\"}, \"mark\": \"bar\", \"encoding\": {\"color\": {\"type\": \"nominal\", \"field\": \"kind\"}, \"tooltip\": {\"type\": \"nominal\", \"field\": \"org\"}, \"x\": {\"type\": \"nominal\", \"field\": \"org\"}, \"y\": {\"type\": \"quantitative\", \"field\": \"count\"}}, \"width\": 600, \"$schema\": \"https://vega.github.io/schema/vega-lite/v4.8.1.json\", \"datasets\": {\"data-23932e0d503750407742d3aa115eb1e0\": [{\"org\": \"executablebooks\", \"kind\": \"comments\", \"count\": 4}, {\"org\": \"executablebooks\", \"kind\": \"issues\", \"count\": 2}, {\"org\": \"executablebooks\", \"kind\": \"prs\", \"count\": 3}, {\"org\": \"jupyter\", \"kind\": \"comments\", \"count\": 1}, {\"org\": \"jupyter\", \"kind\": \"prs\", \"count\": 1}, {\"org\": \"jupyterhub\", \"kind\": \"comments\", \"count\": 121}, {\"org\": \"jupyterhub\", \"kind\": \"issues\", \"count\": 9}, {\"org\": \"jupyterhub\", \"kind\": \"prs\", \"count\": 36}]}}, {\"mode\": \"vega-lite\"});\n",
       "</script>"
      ],
      "text/plain": [
       "alt.Chart(...)"
      ]
     },
     "execution_count": 12,
     "metadata": {},
     "output_type": "execute_result"
    }
   ],
   "source": [
    "alt.Chart(org_summaries, width=600).mark_bar().encode(\n",
    "    x='org',\n",
    "    y='count',\n",
    "    color='kind',\n",
    "    tooltip=\"org\"\n",
    ")"
   ]
  },
  {
   "cell_type": "markdown",
   "metadata": {
    "papermill": {
     "duration": 0.011787,
     "end_time": "2020-06-26T01:12:17.001159",
     "exception": false,
     "start_time": "2020-06-26T01:12:16.989372",
     "status": "completed"
    },
    "tags": []
   },
   "source": [
    "# By repository over time"
   ]
  },
  {
   "cell_type": "markdown",
   "metadata": {
    "papermill": {
     "duration": 0.012647,
     "end_time": "2020-06-26T01:12:17.025193",
     "exception": false,
     "start_time": "2020-06-26T01:12:17.012546",
     "status": "completed"
    },
    "tags": []
   },
   "source": [
    "## Comments"
   ]
  },
  {
   "cell_type": "code",
   "execution_count": 13,
   "metadata": {
    "execution": {
     "iopub.execute_input": "2020-06-26T01:12:17.053010Z",
     "iopub.status.busy": "2020-06-26T01:12:17.052549Z",
     "iopub.status.idle": "2020-06-26T01:12:17.148938Z",
     "shell.execute_reply": "2020-06-26T01:12:17.149348Z"
    },
    "papermill": {
     "duration": 0.111485,
     "end_time": "2020-06-26T01:12:17.149467",
     "exception": false,
     "start_time": "2020-06-26T01:12:17.037982",
     "status": "completed"
    },
    "tags": [
     "hide_input"
    ]
   },
   "outputs": [
    {
     "data": {
      "text/html": [
       "\n",
       "<div id=\"altair-viz-22491a0fe4bd4a8daa45c0e25824549e\"></div>\n",
       "<script type=\"text/javascript\">\n",
       "  (function(spec, embedOpt){\n",
       "    let outputDiv = document.currentScript.previousElementSibling;\n",
       "    if (outputDiv.id !== \"altair-viz-22491a0fe4bd4a8daa45c0e25824549e\") {\n",
       "      outputDiv = document.getElementById(\"altair-viz-22491a0fe4bd4a8daa45c0e25824549e\");\n",
       "    }\n",
       "    const paths = {\n",
       "      \"vega\": \"https://cdn.jsdelivr.net/npm//vega@5?noext\",\n",
       "      \"vega-lib\": \"https://cdn.jsdelivr.net/npm//vega-lib?noext\",\n",
       "      \"vega-lite\": \"https://cdn.jsdelivr.net/npm//vega-lite@4.8.1?noext\",\n",
       "      \"vega-embed\": \"https://cdn.jsdelivr.net/npm//vega-embed@6?noext\",\n",
       "    };\n",
       "\n",
       "    function loadScript(lib) {\n",
       "      return new Promise(function(resolve, reject) {\n",
       "        var s = document.createElement('script');\n",
       "        s.src = paths[lib];\n",
       "        s.async = true;\n",
       "        s.onload = () => resolve(paths[lib]);\n",
       "        s.onerror = () => reject(`Error loading script: ${paths[lib]}`);\n",
       "        document.getElementsByTagName(\"head\")[0].appendChild(s);\n",
       "      });\n",
       "    }\n",
       "\n",
       "    function showError(err) {\n",
       "      outputDiv.innerHTML = `<div class=\"error\" style=\"color:red;\">${err}</div>`;\n",
       "      throw err;\n",
       "    }\n",
       "\n",
       "    function displayChart(vegaEmbed) {\n",
       "      vegaEmbed(outputDiv, spec, embedOpt)\n",
       "        .catch(err => showError(`Javascript Error: ${err.message}<br>This usually means there's a typo in your chart specification. See the javascript console for the full traceback.`));\n",
       "    }\n",
       "\n",
       "    if(typeof define === \"function\" && define.amd) {\n",
       "      requirejs.config({paths});\n",
       "      require([\"vega-embed\"], displayChart, err => showError(`Error loading script: ${err.message}`));\n",
       "    } else if (typeof vegaEmbed === \"function\") {\n",
       "      displayChart(vegaEmbed);\n",
       "    } else {\n",
       "      loadScript(\"vega\")\n",
       "        .then(() => loadScript(\"vega-lite\"))\n",
       "        .then(() => loadScript(\"vega-embed\"))\n",
       "        .catch(showError)\n",
       "        .then(() => displayChart(vegaEmbed));\n",
       "    }\n",
       "  })({\"config\": {\"axisLeft\": {\"labelFontSize\": 15}, \"axisBottom\": {\"labelFontSize\": 15}}, \"layer\": [{\"data\": {\"name\": \"data-28a24c9b6458519fabd0c6a68c8b74c2\"}, \"mark\": \"line\", \"encoding\": {\"color\": {\"type\": \"nominal\", \"field\": \"repo\"}, \"tooltip\": {\"type\": \"nominal\", \"field\": \"repo\"}, \"x\": {\"type\": \"temporal\", \"field\": \"createdAt\"}, \"y\": {\"type\": \"quantitative\", \"field\": \"count\"}}, \"width\": 600}, {\"data\": {\"name\": \"data-961b30232500f8305496137381e3800a\"}, \"mark\": {\"type\": \"line\", \"color\": \"black\"}, \"encoding\": {\"x\": {\"type\": \"temporal\", \"field\": \"createdAt\"}, \"y\": {\"type\": \"quantitative\", \"field\": \"count\"}}, \"width\": 600}], \"$schema\": \"https://vega.github.io/schema/vega-lite/v4.8.1.json\", \"datasets\": {\"data-28a24c9b6458519fabd0c6a68c8b74c2\": [{\"repo\": \".github\", \"createdAt\": \"2020-05-03T00:00:00\", \"count\": 1}, {\"repo\": \"MyST-Parser\", \"createdAt\": \"2020-05-10T00:00:00\", \"count\": 3}, {\"repo\": \"binderhub\", \"createdAt\": \"2020-05-24T00:00:00\", \"count\": 3}, {\"repo\": \"binderhub\", \"createdAt\": \"2020-05-31T00:00:00\", \"count\": 1}, {\"repo\": \"configurable-http-proxy\", \"createdAt\": \"2020-05-03T00:00:00\", \"count\": 1}, {\"repo\": \"configurable-http-proxy\", \"createdAt\": \"2020-05-10T00:00:00\", \"count\": 0}, {\"repo\": \"configurable-http-proxy\", \"createdAt\": \"2020-05-17T00:00:00\", \"count\": 0}, {\"repo\": \"configurable-http-proxy\", \"createdAt\": \"2020-05-24T00:00:00\", \"count\": 0}, {\"repo\": \"configurable-http-proxy\", \"createdAt\": \"2020-05-31T00:00:00\", \"count\": 12}, {\"repo\": \"helm-chart\", \"createdAt\": \"2020-05-03T00:00:00\", \"count\": 3}, {\"repo\": \"helm-chart\", \"createdAt\": \"2020-05-10T00:00:00\", \"count\": 2}, {\"repo\": \"helm-chart\", \"createdAt\": \"2020-05-17T00:00:00\", \"count\": 0}, {\"repo\": \"helm-chart\", \"createdAt\": \"2020-05-24T00:00:00\", \"count\": 0}, {\"repo\": \"helm-chart\", \"createdAt\": \"2020-05-31T00:00:00\", \"count\": 0}, {\"repo\": \"helm-chart\", \"createdAt\": \"2020-06-07T00:00:00\", \"count\": 1}, {\"repo\": \"jupyter-book\", \"createdAt\": \"2020-05-10T00:00:00\", \"count\": 1}, {\"repo\": \"jupyter-server-proxy\", \"createdAt\": \"2020-05-17T00:00:00\", \"count\": 1}, {\"repo\": \"jupyter-server-proxy\", \"createdAt\": \"2020-05-24T00:00:00\", \"count\": 2}, {\"repo\": \"jupyter-server-proxy\", \"createdAt\": \"2020-05-31T00:00:00\", \"count\": 0}, {\"repo\": \"jupyter-server-proxy\", \"createdAt\": \"2020-06-07T00:00:00\", \"count\": 0}, {\"repo\": \"jupyter-server-proxy\", \"createdAt\": \"2020-06-14T00:00:00\", \"count\": 1}, {\"repo\": \"jupyterhub\", \"createdAt\": \"2020-05-24T00:00:00\", \"count\": 1}, {\"repo\": \"jupyterhub\", \"createdAt\": \"2020-05-31T00:00:00\", \"count\": 0}, {\"repo\": \"jupyterhub\", \"createdAt\": \"2020-06-07T00:00:00\", \"count\": 3}, {\"repo\": \"jupyterhub\", \"createdAt\": \"2020-06-14T00:00:00\", \"count\": 1}, {\"repo\": \"jupyterhub\", \"createdAt\": \"2020-06-21T00:00:00\", \"count\": 1}, {\"repo\": \"kubespawner\", \"createdAt\": \"2020-05-24T00:00:00\", \"count\": 2}, {\"repo\": \"kubespawner\", \"createdAt\": \"2020-05-31T00:00:00\", \"count\": 2}, {\"repo\": \"kubespawner\", \"createdAt\": \"2020-06-07T00:00:00\", \"count\": 1}, {\"repo\": \"mybinder.org-deploy\", \"createdAt\": \"2020-05-24T00:00:00\", \"count\": 2}, {\"repo\": \"mybinder.org-deploy\", \"createdAt\": \"2020-05-31T00:00:00\", \"count\": 1}, {\"repo\": \"mybinder.org-deploy\", \"createdAt\": \"2020-06-07T00:00:00\", \"count\": 1}, {\"repo\": \"mybinder.org-deploy\", \"createdAt\": \"2020-06-14T00:00:00\", \"count\": 0}, {\"repo\": \"mybinder.org-deploy\", \"createdAt\": \"2020-06-21T00:00:00\", \"count\": 1}, {\"repo\": \"notebook\", \"createdAt\": \"2020-05-17T00:00:00\", \"count\": 1}, {\"repo\": \"pebble-helm-chart\", \"createdAt\": \"2020-06-07T00:00:00\", \"count\": 1}, {\"repo\": \"sudospawner\", \"createdAt\": \"2020-06-21T00:00:00\", \"count\": 3}, {\"repo\": \"team-compass\", \"createdAt\": \"2020-05-03T00:00:00\", \"count\": 2}, {\"repo\": \"team-compass\", \"createdAt\": \"2020-05-10T00:00:00\", \"count\": 2}, {\"repo\": \"team-compass\", \"createdAt\": \"2020-05-17T00:00:00\", \"count\": 0}, {\"repo\": \"team-compass\", \"createdAt\": \"2020-05-24T00:00:00\", \"count\": 0}, {\"repo\": \"team-compass\", \"createdAt\": \"2020-05-31T00:00:00\", \"count\": 0}, {\"repo\": \"team-compass\", \"createdAt\": \"2020-06-07T00:00:00\", \"count\": 4}, {\"repo\": \"team-compass\", \"createdAt\": \"2020-06-14T00:00:00\", \"count\": 3}, {\"repo\": \"team-compass\", \"createdAt\": \"2020-06-21T00:00:00\", \"count\": 1}, {\"repo\": \"the-littlest-jupyterhub\", \"createdAt\": \"2020-05-10T00:00:00\", \"count\": 1}, {\"repo\": \"traefik-proxy\", \"createdAt\": \"2020-05-17T00:00:00\", \"count\": 2}, {\"repo\": \"zero-to-jupyterhub-k8s\", \"createdAt\": \"2020-05-03T00:00:00\", \"count\": 6}, {\"repo\": \"zero-to-jupyterhub-k8s\", \"createdAt\": \"2020-05-10T00:00:00\", \"count\": 9}, {\"repo\": \"zero-to-jupyterhub-k8s\", \"createdAt\": \"2020-05-17T00:00:00\", \"count\": 19}, {\"repo\": \"zero-to-jupyterhub-k8s\", \"createdAt\": \"2020-05-24T00:00:00\", \"count\": 5}, {\"repo\": \"zero-to-jupyterhub-k8s\", \"createdAt\": \"2020-05-31T00:00:00\", \"count\": 1}, {\"repo\": \"zero-to-jupyterhub-k8s\", \"createdAt\": \"2020-06-07T00:00:00\", \"count\": 4}, {\"repo\": \"zero-to-jupyterhub-k8s\", \"createdAt\": \"2020-06-14T00:00:00\", \"count\": 12}, {\"repo\": \"zero-to-jupyterhub-k8s\", \"createdAt\": \"2020-06-21T00:00:00\", \"count\": 2}], \"data-961b30232500f8305496137381e3800a\": [{\"createdAt\": \"2020-05-03T00:00:00\", \"count\": 13}, {\"createdAt\": \"2020-05-10T00:00:00\", \"count\": 18}, {\"createdAt\": \"2020-05-17T00:00:00\", \"count\": 23}, {\"createdAt\": \"2020-05-24T00:00:00\", \"count\": 15}, {\"createdAt\": \"2020-05-31T00:00:00\", \"count\": 17}, {\"createdAt\": \"2020-06-07T00:00:00\", \"count\": 15}, {\"createdAt\": \"2020-06-14T00:00:00\", \"count\": 17}, {\"createdAt\": \"2020-06-21T00:00:00\", \"count\": 8}]}}, {\"mode\": \"vega-lite\"});\n",
       "</script>"
      ],
      "text/plain": [
       "alt.LayerChart(...)"
      ]
     },
     "execution_count": 13,
     "metadata": {},
     "output_type": "execute_result"
    }
   ],
   "source": [
    "comments_time = comments.groupby('repo').resample('W', on='createdAt').count()['author'].reset_index()\n",
    "comments_time = comments_time.rename(columns={'author': 'count'})\n",
    "comments_time_total = comments_time.groupby('createdAt').agg({\"count\": \"sum\"}).reset_index()\n",
    "ch1 = alt.Chart(comments_time, width=600).mark_line().encode(\n",
    "    x='createdAt',\n",
    "    y='count',\n",
    "    color='repo',\n",
    "    tooltip=\"repo\"\n",
    ")\n",
    "\n",
    "ch2 = alt.Chart(comments_time_total, width=600).mark_line(color=\"black\").encode(\n",
    "    x='createdAt',\n",
    "    y='count',\n",
    ")\n",
    "\n",
    "ch1 + ch2"
   ]
  },
  {
   "cell_type": "markdown",
   "metadata": {
    "papermill": {
     "duration": 0.011761,
     "end_time": "2020-06-26T01:12:17.173634",
     "exception": false,
     "start_time": "2020-06-26T01:12:17.161873",
     "status": "completed"
    },
    "tags": []
   },
   "source": [
    "## PRs"
   ]
  },
  {
   "cell_type": "code",
   "execution_count": 14,
   "metadata": {
    "execution": {
     "iopub.execute_input": "2020-06-26T01:12:17.223559Z",
     "iopub.status.busy": "2020-06-26T01:12:17.219269Z",
     "iopub.status.idle": "2020-06-26T01:12:17.279430Z",
     "shell.execute_reply": "2020-06-26T01:12:17.278954Z"
    },
    "papermill": {
     "duration": 0.094223,
     "end_time": "2020-06-26T01:12:17.279508",
     "exception": false,
     "start_time": "2020-06-26T01:12:17.185285",
     "status": "completed"
    },
    "tags": [
     "hide_input"
    ]
   },
   "outputs": [
    {
     "data": {
      "text/html": [
       "\n",
       "<div id=\"altair-viz-74154aa714da4cefbaad8810d89374e1\"></div>\n",
       "<script type=\"text/javascript\">\n",
       "  (function(spec, embedOpt){\n",
       "    let outputDiv = document.currentScript.previousElementSibling;\n",
       "    if (outputDiv.id !== \"altair-viz-74154aa714da4cefbaad8810d89374e1\") {\n",
       "      outputDiv = document.getElementById(\"altair-viz-74154aa714da4cefbaad8810d89374e1\");\n",
       "    }\n",
       "    const paths = {\n",
       "      \"vega\": \"https://cdn.jsdelivr.net/npm//vega@5?noext\",\n",
       "      \"vega-lib\": \"https://cdn.jsdelivr.net/npm//vega-lib?noext\",\n",
       "      \"vega-lite\": \"https://cdn.jsdelivr.net/npm//vega-lite@4.8.1?noext\",\n",
       "      \"vega-embed\": \"https://cdn.jsdelivr.net/npm//vega-embed@6?noext\",\n",
       "    };\n",
       "\n",
       "    function loadScript(lib) {\n",
       "      return new Promise(function(resolve, reject) {\n",
       "        var s = document.createElement('script');\n",
       "        s.src = paths[lib];\n",
       "        s.async = true;\n",
       "        s.onload = () => resolve(paths[lib]);\n",
       "        s.onerror = () => reject(`Error loading script: ${paths[lib]}`);\n",
       "        document.getElementsByTagName(\"head\")[0].appendChild(s);\n",
       "      });\n",
       "    }\n",
       "\n",
       "    function showError(err) {\n",
       "      outputDiv.innerHTML = `<div class=\"error\" style=\"color:red;\">${err}</div>`;\n",
       "      throw err;\n",
       "    }\n",
       "\n",
       "    function displayChart(vegaEmbed) {\n",
       "      vegaEmbed(outputDiv, spec, embedOpt)\n",
       "        .catch(err => showError(`Javascript Error: ${err.message}<br>This usually means there's a typo in your chart specification. See the javascript console for the full traceback.`));\n",
       "    }\n",
       "\n",
       "    if(typeof define === \"function\" && define.amd) {\n",
       "      requirejs.config({paths});\n",
       "      require([\"vega-embed\"], displayChart, err => showError(`Error loading script: ${err.message}`));\n",
       "    } else if (typeof vegaEmbed === \"function\") {\n",
       "      displayChart(vegaEmbed);\n",
       "    } else {\n",
       "      loadScript(\"vega\")\n",
       "        .then(() => loadScript(\"vega-lite\"))\n",
       "        .then(() => loadScript(\"vega-embed\"))\n",
       "        .catch(showError)\n",
       "        .then(() => displayChart(vegaEmbed));\n",
       "    }\n",
       "  })({\"config\": {\"axisLeft\": {\"labelFontSize\": 15}, \"axisBottom\": {\"labelFontSize\": 15}}, \"layer\": [{\"data\": {\"name\": \"data-952927e7c805d917f9211b8b20b6d7c2\"}, \"mark\": \"line\", \"encoding\": {\"color\": {\"type\": \"nominal\", \"field\": \"repo\"}, \"tooltip\": {\"type\": \"nominal\", \"field\": \"repo\"}, \"x\": {\"type\": \"temporal\", \"field\": \"createdAt\"}, \"y\": {\"type\": \"quantitative\", \"field\": \"count\"}}, \"width\": 600}, {\"data\": {\"name\": \"data-b8697b5e612dd1133feb2eacce970a84\"}, \"mark\": {\"type\": \"line\", \"color\": \"black\"}, \"encoding\": {\"x\": {\"type\": \"temporal\", \"field\": \"createdAt\"}, \"y\": {\"type\": \"quantitative\", \"field\": \"count\"}}, \"width\": 600}], \"$schema\": \"https://vega.github.io/schema/vega-lite/v4.8.1.json\", \"datasets\": {\"data-952927e7c805d917f9211b8b20b6d7c2\": [{\"repo\": \"binderhub\", \"createdAt\": \"2020-05-24T00:00:00\", \"count\": 2}, {\"repo\": \"configurable-http-proxy\", \"createdAt\": \"2020-05-31T00:00:00\", \"count\": 6}, {\"repo\": \"helm-chart\", \"createdAt\": \"2020-05-10T00:00:00\", \"count\": 1}, {\"repo\": \"jupyter-book\", \"createdAt\": \"2020-05-10T00:00:00\", \"count\": 2}, {\"repo\": \"jupyterhub\", \"createdAt\": \"2020-05-17T00:00:00\", \"count\": 1}, {\"repo\": \"meta\", \"createdAt\": \"2020-05-10T00:00:00\", \"count\": 1}, {\"repo\": \"mybinder.org-deploy\", \"createdAt\": \"2020-05-31T00:00:00\", \"count\": 1}, {\"repo\": \"notebook\", \"createdAt\": \"2020-05-17T00:00:00\", \"count\": 1}, {\"repo\": \"pebble-helm-chart\", \"createdAt\": \"2020-05-24T00:00:00\", \"count\": 1}, {\"repo\": \"pebble-helm-chart\", \"createdAt\": \"2020-05-31T00:00:00\", \"count\": 1}, {\"repo\": \"pebble-helm-chart\", \"createdAt\": \"2020-06-07T00:00:00\", \"count\": 4}, {\"repo\": \"zero-to-jupyterhub-k8s\", \"createdAt\": \"2020-04-19T00:00:00\", \"count\": 1}, {\"repo\": \"zero-to-jupyterhub-k8s\", \"createdAt\": \"2020-04-26T00:00:00\", \"count\": 0}, {\"repo\": \"zero-to-jupyterhub-k8s\", \"createdAt\": \"2020-05-03T00:00:00\", \"count\": 0}, {\"repo\": \"zero-to-jupyterhub-k8s\", \"createdAt\": \"2020-05-10T00:00:00\", \"count\": 5}, {\"repo\": \"zero-to-jupyterhub-k8s\", \"createdAt\": \"2020-05-17T00:00:00\", \"count\": 7}, {\"repo\": \"zero-to-jupyterhub-k8s\", \"createdAt\": \"2020-05-24T00:00:00\", \"count\": 4}, {\"repo\": \"zero-to-jupyterhub-k8s\", \"createdAt\": \"2020-05-31T00:00:00\", \"count\": 0}, {\"repo\": \"zero-to-jupyterhub-k8s\", \"createdAt\": \"2020-06-07T00:00:00\", \"count\": 1}, {\"repo\": \"zero-to-jupyterhub-k8s\", \"createdAt\": \"2020-06-14T00:00:00\", \"count\": 0}, {\"repo\": \"zero-to-jupyterhub-k8s\", \"createdAt\": \"2020-06-21T00:00:00\", \"count\": 1}], \"data-b8697b5e612dd1133feb2eacce970a84\": [{\"createdAt\": \"2020-04-19T00:00:00\", \"count\": 1}, {\"createdAt\": \"2020-04-26T00:00:00\", \"count\": 0}, {\"createdAt\": \"2020-05-03T00:00:00\", \"count\": 0}, {\"createdAt\": \"2020-05-10T00:00:00\", \"count\": 9}, {\"createdAt\": \"2020-05-17T00:00:00\", \"count\": 9}, {\"createdAt\": \"2020-05-24T00:00:00\", \"count\": 7}, {\"createdAt\": \"2020-05-31T00:00:00\", \"count\": 8}, {\"createdAt\": \"2020-06-07T00:00:00\", \"count\": 5}, {\"createdAt\": \"2020-06-14T00:00:00\", \"count\": 0}, {\"createdAt\": \"2020-06-21T00:00:00\", \"count\": 1}]}}, {\"mode\": \"vega-lite\"});\n",
       "</script>"
      ],
      "text/plain": [
       "alt.LayerChart(...)"
      ]
     },
     "execution_count": 14,
     "metadata": {},
     "output_type": "execute_result"
    }
   ],
   "source": [
    "prs_time = prs.groupby('repo').resample('W', on='createdAt').count()['author'].reset_index()\n",
    "prs_time = prs_time.rename(columns={'author': 'count'})\n",
    "prs_time_total = prs_time.groupby('createdAt').agg({\"count\": \"sum\"}).reset_index()\n",
    "\n",
    "ch1 = alt.Chart(prs_time, width=600).mark_line().encode(\n",
    "    x='createdAt',\n",
    "    y='count',\n",
    "    color='repo',\n",
    "    tooltip=\"repo\"\n",
    ")\n",
    "\n",
    "ch2 = alt.Chart(prs_time_total, width=600).mark_line(color=\"black\").encode(\n",
    "    x='createdAt',\n",
    "    y='count',\n",
    ")\n",
    "\n",
    "ch1 + ch2"
   ]
  },
  {
   "cell_type": "code",
   "execution_count": 15,
   "metadata": {
    "execution": {
     "iopub.execute_input": "2020-06-26T01:12:17.331642Z",
     "iopub.status.busy": "2020-06-26T01:12:17.316971Z",
     "iopub.status.idle": "2020-06-26T01:12:17.371222Z",
     "shell.execute_reply": "2020-06-26T01:12:17.370686Z"
    },
    "papermill": {
     "duration": 0.077679,
     "end_time": "2020-06-26T01:12:17.371308",
     "exception": false,
     "start_time": "2020-06-26T01:12:17.293629",
     "status": "completed"
    },
    "tags": [
     "hide_input"
    ]
   },
   "outputs": [
    {
     "data": {
      "text/html": [
       "\n",
       "<div id=\"altair-viz-a8be78939c664f2ab4e1f5d15d1e30a1\"></div>\n",
       "<script type=\"text/javascript\">\n",
       "  (function(spec, embedOpt){\n",
       "    let outputDiv = document.currentScript.previousElementSibling;\n",
       "    if (outputDiv.id !== \"altair-viz-a8be78939c664f2ab4e1f5d15d1e30a1\") {\n",
       "      outputDiv = document.getElementById(\"altair-viz-a8be78939c664f2ab4e1f5d15d1e30a1\");\n",
       "    }\n",
       "    const paths = {\n",
       "      \"vega\": \"https://cdn.jsdelivr.net/npm//vega@5?noext\",\n",
       "      \"vega-lib\": \"https://cdn.jsdelivr.net/npm//vega-lib?noext\",\n",
       "      \"vega-lite\": \"https://cdn.jsdelivr.net/npm//vega-lite@4.8.1?noext\",\n",
       "      \"vega-embed\": \"https://cdn.jsdelivr.net/npm//vega-embed@6?noext\",\n",
       "    };\n",
       "\n",
       "    function loadScript(lib) {\n",
       "      return new Promise(function(resolve, reject) {\n",
       "        var s = document.createElement('script');\n",
       "        s.src = paths[lib];\n",
       "        s.async = true;\n",
       "        s.onload = () => resolve(paths[lib]);\n",
       "        s.onerror = () => reject(`Error loading script: ${paths[lib]}`);\n",
       "        document.getElementsByTagName(\"head\")[0].appendChild(s);\n",
       "      });\n",
       "    }\n",
       "\n",
       "    function showError(err) {\n",
       "      outputDiv.innerHTML = `<div class=\"error\" style=\"color:red;\">${err}</div>`;\n",
       "      throw err;\n",
       "    }\n",
       "\n",
       "    function displayChart(vegaEmbed) {\n",
       "      vegaEmbed(outputDiv, spec, embedOpt)\n",
       "        .catch(err => showError(`Javascript Error: ${err.message}<br>This usually means there's a typo in your chart specification. See the javascript console for the full traceback.`));\n",
       "    }\n",
       "\n",
       "    if(typeof define === \"function\" && define.amd) {\n",
       "      requirejs.config({paths});\n",
       "      require([\"vega-embed\"], displayChart, err => showError(`Error loading script: ${err.message}`));\n",
       "    } else if (typeof vegaEmbed === \"function\") {\n",
       "      displayChart(vegaEmbed);\n",
       "    } else {\n",
       "      loadScript(\"vega\")\n",
       "        .then(() => loadScript(\"vega-lite\"))\n",
       "        .then(() => loadScript(\"vega-embed\"))\n",
       "        .catch(showError)\n",
       "        .then(() => displayChart(vegaEmbed));\n",
       "    }\n",
       "  })({\"config\": {\"axisLeft\": {\"labelFontSize\": 15}, \"axisBottom\": {\"labelFontSize\": 15}}, \"data\": {\"name\": \"data-2f8c4fdd3a074549ff3726ed74d900df\"}, \"mark\": \"line\", \"encoding\": {\"color\": {\"type\": \"nominal\", \"field\": \"repo\"}, \"tooltip\": {\"type\": \"nominal\", \"field\": \"repo\"}, \"x\": {\"type\": \"temporal\", \"field\": \"closedAt\"}, \"y\": {\"type\": \"quantitative\", \"field\": \"count\"}}, \"width\": 600, \"$schema\": \"https://vega.github.io/schema/vega-lite/v4.8.1.json\", \"datasets\": {\"data-2f8c4fdd3a074549ff3726ed74d900df\": [{\"repo\": \".github\", \"closedAt\": \"2020-05-03T00:00:00\", \"count\": 1}, {\"repo\": \"binderhub\", \"closedAt\": \"2020-05-24T00:00:00\", \"count\": 1}, {\"repo\": \"configurable-http-proxy\", \"closedAt\": \"2020-05-31T00:00:00\", \"count\": 6}, {\"repo\": \"helm-chart\", \"closedAt\": \"2020-05-10T00:00:00\", \"count\": 2}, {\"repo\": \"jupyter-server-proxy\", \"closedAt\": \"2020-05-24T00:00:00\", \"count\": 1}, {\"repo\": \"jupyterhub\", \"closedAt\": \"2020-06-07T00:00:00\", \"count\": 1}, {\"repo\": \"jupyterhub\", \"closedAt\": \"2020-06-14T00:00:00\", \"count\": 1}, {\"repo\": \"oauthenticator\", \"closedAt\": \"2020-05-17T00:00:00\", \"count\": 1}, {\"repo\": \"pebble-helm-chart\", \"closedAt\": \"2020-05-31T00:00:00\", \"count\": 2}, {\"repo\": \"pebble-helm-chart\", \"closedAt\": \"2020-06-07T00:00:00\", \"count\": 3}, {\"repo\": \"the-littlest-jupyterhub\", \"closedAt\": \"2020-05-10T00:00:00\", \"count\": 1}, {\"repo\": \"zero-to-jupyterhub-k8s\", \"closedAt\": \"2020-05-03T00:00:00\", \"count\": 1}, {\"repo\": \"zero-to-jupyterhub-k8s\", \"closedAt\": \"2020-05-10T00:00:00\", \"count\": 4}, {\"repo\": \"zero-to-jupyterhub-k8s\", \"closedAt\": \"2020-05-17T00:00:00\", \"count\": 5}, {\"repo\": \"zero-to-jupyterhub-k8s\", \"closedAt\": \"2020-05-24T00:00:00\", \"count\": 0}, {\"repo\": \"zero-to-jupyterhub-k8s\", \"closedAt\": \"2020-05-31T00:00:00\", \"count\": 1}, {\"repo\": \"zero-to-jupyterhub-k8s\", \"closedAt\": \"2020-06-07T00:00:00\", \"count\": 3}, {\"repo\": \"zero-to-jupyterhub-k8s\", \"closedAt\": \"2020-06-14T00:00:00\", \"count\": 1}, {\"repo\": \"zero-to-jupyterhub-k8s\", \"closedAt\": \"2020-06-21T00:00:00\", \"count\": 1}]}}, {\"mode\": \"vega-lite\"});\n",
       "</script>"
      ],
      "text/plain": [
       "alt.Chart(...)"
      ]
     },
     "execution_count": 15,
     "metadata": {},
     "output_type": "execute_result"
    }
   ],
   "source": [
    "closed_by_time = closed_by.groupby('repo').resample('W', on='closedAt').count()['author'].reset_index()\n",
    "closed_by_time = closed_by_time.rename(columns={'author': 'count'})\n",
    "\n",
    "alt.Chart(closed_by_time, width=600).mark_line().encode(\n",
    "    x='closedAt',\n",
    "    y='count',\n",
    "    color='repo',\n",
    "    tooltip=\"repo\"\n",
    ")"
   ]
  },
  {
   "cell_type": "markdown",
   "metadata": {
    "papermill": {
     "duration": 0.013847,
     "end_time": "2020-06-26T01:12:17.399484",
     "exception": false,
     "start_time": "2020-06-26T01:12:17.385637",
     "status": "completed"
    },
    "tags": []
   },
   "source": [
    "# By type over time"
   ]
  },
  {
   "cell_type": "code",
   "execution_count": 16,
   "metadata": {
    "execution": {
     "iopub.execute_input": "2020-06-26T01:12:17.444044Z",
     "iopub.status.busy": "2020-06-26T01:12:17.443241Z",
     "iopub.status.idle": "2020-06-26T01:12:17.459784Z",
     "shell.execute_reply": "2020-06-26T01:12:17.459277Z"
    },
    "papermill": {
     "duration": 0.044471,
     "end_time": "2020-06-26T01:12:17.459881",
     "exception": false,
     "start_time": "2020-06-26T01:12:17.415410",
     "status": "completed"
    },
    "tags": [
     "remove_cell"
    ]
   },
   "outputs": [],
   "source": [
    "prs_time = prs[['author', 'createdAt']].resample('W', on='createdAt').count()['author'].reset_index()\n",
    "prs_time = prs_time.rename(columns={'author': 'prs'})\n",
    "comments_time = comments[['author', 'createdAt']].resample('W', on='createdAt').count()['author'].reset_index()\n",
    "comments_time = comments_time.rename(columns={'author': 'comments'})\n",
    "\n",
    "total_time = pd.merge(prs_time, comments_time, on='createdAt', how='outer')\n",
    "total_time = total_time.melt(id_vars='createdAt', var_name=\"kind\", value_name=\"count\")\n"
   ]
  },
  {
   "cell_type": "code",
   "execution_count": 17,
   "metadata": {
    "execution": {
     "iopub.execute_input": "2020-06-26T01:12:17.506273Z",
     "iopub.status.busy": "2020-06-26T01:12:17.493287Z",
     "iopub.status.idle": "2020-06-26T01:12:17.507981Z",
     "shell.execute_reply": "2020-06-26T01:12:17.508428Z"
    },
    "papermill": {
     "duration": 0.034922,
     "end_time": "2020-06-26T01:12:17.508522",
     "exception": false,
     "start_time": "2020-06-26T01:12:17.473600",
     "status": "completed"
    },
    "tags": [
     "hide_input"
    ]
   },
   "outputs": [
    {
     "data": {
      "text/html": [
       "\n",
       "<div id=\"altair-viz-a53767b681ac4f0d864c68da199e1e83\"></div>\n",
       "<script type=\"text/javascript\">\n",
       "  (function(spec, embedOpt){\n",
       "    let outputDiv = document.currentScript.previousElementSibling;\n",
       "    if (outputDiv.id !== \"altair-viz-a53767b681ac4f0d864c68da199e1e83\") {\n",
       "      outputDiv = document.getElementById(\"altair-viz-a53767b681ac4f0d864c68da199e1e83\");\n",
       "    }\n",
       "    const paths = {\n",
       "      \"vega\": \"https://cdn.jsdelivr.net/npm//vega@5?noext\",\n",
       "      \"vega-lib\": \"https://cdn.jsdelivr.net/npm//vega-lib?noext\",\n",
       "      \"vega-lite\": \"https://cdn.jsdelivr.net/npm//vega-lite@4.8.1?noext\",\n",
       "      \"vega-embed\": \"https://cdn.jsdelivr.net/npm//vega-embed@6?noext\",\n",
       "    };\n",
       "\n",
       "    function loadScript(lib) {\n",
       "      return new Promise(function(resolve, reject) {\n",
       "        var s = document.createElement('script');\n",
       "        s.src = paths[lib];\n",
       "        s.async = true;\n",
       "        s.onload = () => resolve(paths[lib]);\n",
       "        s.onerror = () => reject(`Error loading script: ${paths[lib]}`);\n",
       "        document.getElementsByTagName(\"head\")[0].appendChild(s);\n",
       "      });\n",
       "    }\n",
       "\n",
       "    function showError(err) {\n",
       "      outputDiv.innerHTML = `<div class=\"error\" style=\"color:red;\">${err}</div>`;\n",
       "      throw err;\n",
       "    }\n",
       "\n",
       "    function displayChart(vegaEmbed) {\n",
       "      vegaEmbed(outputDiv, spec, embedOpt)\n",
       "        .catch(err => showError(`Javascript Error: ${err.message}<br>This usually means there's a typo in your chart specification. See the javascript console for the full traceback.`));\n",
       "    }\n",
       "\n",
       "    if(typeof define === \"function\" && define.amd) {\n",
       "      requirejs.config({paths});\n",
       "      require([\"vega-embed\"], displayChart, err => showError(`Error loading script: ${err.message}`));\n",
       "    } else if (typeof vegaEmbed === \"function\") {\n",
       "      displayChart(vegaEmbed);\n",
       "    } else {\n",
       "      loadScript(\"vega\")\n",
       "        .then(() => loadScript(\"vega-lite\"))\n",
       "        .then(() => loadScript(\"vega-embed\"))\n",
       "        .catch(showError)\n",
       "        .then(() => displayChart(vegaEmbed));\n",
       "    }\n",
       "  })({\"config\": {\"axisLeft\": {\"labelFontSize\": 15}, \"axisBottom\": {\"labelFontSize\": 15}}, \"data\": {\"name\": \"data-d9110614ad91963ca79917aee1f733ae\"}, \"mark\": \"line\", \"encoding\": {\"color\": {\"type\": \"nominal\", \"field\": \"kind\"}, \"x\": {\"type\": \"temporal\", \"field\": \"createdAt\"}, \"y\": {\"type\": \"quantitative\", \"field\": \"count\"}}, \"width\": 600, \"$schema\": \"https://vega.github.io/schema/vega-lite/v4.8.1.json\", \"datasets\": {\"data-d9110614ad91963ca79917aee1f733ae\": [{\"createdAt\": \"2020-04-19T00:00:00\", \"kind\": \"prs\", \"count\": 1.0}, {\"createdAt\": \"2020-04-26T00:00:00\", \"kind\": \"prs\", \"count\": 0.0}, {\"createdAt\": \"2020-05-03T00:00:00\", \"kind\": \"prs\", \"count\": 0.0}, {\"createdAt\": \"2020-05-10T00:00:00\", \"kind\": \"prs\", \"count\": 9.0}, {\"createdAt\": \"2020-05-17T00:00:00\", \"kind\": \"prs\", \"count\": 9.0}, {\"createdAt\": \"2020-05-24T00:00:00\", \"kind\": \"prs\", \"count\": 7.0}, {\"createdAt\": \"2020-05-31T00:00:00\", \"kind\": \"prs\", \"count\": 8.0}, {\"createdAt\": \"2020-06-07T00:00:00\", \"kind\": \"prs\", \"count\": 5.0}, {\"createdAt\": \"2020-06-14T00:00:00\", \"kind\": \"prs\", \"count\": 0.0}, {\"createdAt\": \"2020-06-21T00:00:00\", \"kind\": \"prs\", \"count\": 1.0}, {\"createdAt\": \"2020-04-19T00:00:00\", \"kind\": \"comments\", \"count\": null}, {\"createdAt\": \"2020-04-26T00:00:00\", \"kind\": \"comments\", \"count\": null}, {\"createdAt\": \"2020-05-03T00:00:00\", \"kind\": \"comments\", \"count\": 13.0}, {\"createdAt\": \"2020-05-10T00:00:00\", \"kind\": \"comments\", \"count\": 18.0}, {\"createdAt\": \"2020-05-17T00:00:00\", \"kind\": \"comments\", \"count\": 23.0}, {\"createdAt\": \"2020-05-24T00:00:00\", \"kind\": \"comments\", \"count\": 15.0}, {\"createdAt\": \"2020-05-31T00:00:00\", \"kind\": \"comments\", \"count\": 17.0}, {\"createdAt\": \"2020-06-07T00:00:00\", \"kind\": \"comments\", \"count\": 15.0}, {\"createdAt\": \"2020-06-14T00:00:00\", \"kind\": \"comments\", \"count\": 17.0}, {\"createdAt\": \"2020-06-21T00:00:00\", \"kind\": \"comments\", \"count\": 8.0}]}}, {\"mode\": \"vega-lite\"});\n",
       "</script>"
      ],
      "text/plain": [
       "alt.Chart(...)"
      ]
     },
     "execution_count": 17,
     "metadata": {},
     "output_type": "execute_result"
    }
   ],
   "source": [
    "alt.Chart(total_time, width=600).mark_line().encode(\n",
    "    x='createdAt',\n",
    "    y='count',\n",
    "    color='kind'\n",
    ")"
   ]
  }
 ],
 "metadata": {
  "kernelspec": {
   "display_name": "Python 3",
   "language": "python",
   "name": "python3"
  },
  "language_info": {
   "codemirror_mode": {
    "name": "ipython",
    "version": 3
   },
   "file_extension": ".py",
   "mimetype": "text/x-python",
   "name": "python",
   "nbconvert_exporter": "python",
   "pygments_lexer": "ipython3",
   "version": "3.7.7"
  },
  "papermill": {
   "duration": 3.02072,
   "end_time": "2020-06-26T01:12:17.831040",
   "environment_variables": {},
   "exception": null,
   "input_path": "./person.ipynb",
   "output_path": "people/consideRatio.ipynb",
   "parameters": {
    "n_days": 60,
    "person": "consideRatio"
   },
   "start_time": "2020-06-26T01:12:14.810320",
   "version": "2.1.1"
  },
  "widgets": {
   "application/vnd.jupyter.widget-state+json": {
    "state": {},
    "version_major": 2,
    "version_minor": 0
   }
  }
 },
 "nbformat": 4,
 "nbformat_minor": 4
}