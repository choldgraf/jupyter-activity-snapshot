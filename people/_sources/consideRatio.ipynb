{
 "cells": [
  {
   "cell_type": "markdown",
   "metadata": {
    "papermill": {
     "duration": 0.016649,
     "end_time": "2020-11-28T01:30:46.657135",
     "exception": false,
     "start_time": "2020-11-28T01:30:46.640486",
     "status": "completed"
    },
    "tags": []
   },
   "source": [
    "# Report for consideRatio"
   ]
  },
  {
   "cell_type": "code",
   "execution_count": 1,
   "metadata": {
    "execution": {
     "iopub.execute_input": "2020-11-28T01:30:46.693272Z",
     "iopub.status.busy": "2020-11-28T01:30:46.692646Z",
     "iopub.status.idle": "2020-11-28T01:30:47.713066Z",
     "shell.execute_reply": "2020-11-28T01:30:47.711929Z"
    },
    "papermill": {
     "duration": 1.042008,
     "end_time": "2020-11-28T01:30:47.713305",
     "exception": false,
     "start_time": "2020-11-28T01:30:46.671297",
     "status": "completed"
    },
    "tags": [
     "remove_cell"
    ]
   },
   "outputs": [],
   "source": [
    "import seaborn as sns\n",
    "import pandas as pd\n",
    "import numpy as np\n",
    "import altair as alt\n",
    "from markdown import markdown\n",
    "from IPython.display import Markdown\n",
    "from ipywidgets.widgets import HTML, Tab\n",
    "from ipywidgets import widgets\n",
    "from datetime import timedelta\n",
    "from matplotlib import pyplot as plt\n",
    "import os.path as op\n",
    "\n",
    "from mycode import alt_theme\n",
    "from warnings import simplefilter\n",
    "simplefilter('ignore')"
   ]
  },
  {
   "cell_type": "code",
   "execution_count": 2,
   "metadata": {
    "execution": {
     "iopub.execute_input": "2020-11-28T01:30:47.746338Z",
     "iopub.status.busy": "2020-11-28T01:30:47.745734Z",
     "iopub.status.idle": "2020-11-28T01:30:47.747799Z",
     "shell.execute_reply": "2020-11-28T01:30:47.747197Z"
    },
    "papermill": {
     "duration": 0.020335,
     "end_time": "2020-11-28T01:30:47.747953",
     "exception": false,
     "start_time": "2020-11-28T01:30:47.727618",
     "status": "completed"
    },
    "tags": [
     "remove_cell"
    ]
   },
   "outputs": [],
   "source": [
    "def author_url(author):\n",
    "    return f\"https://github.com/{author}\""
   ]
  },
  {
   "cell_type": "code",
   "execution_count": 3,
   "metadata": {
    "execution": {
     "iopub.execute_input": "2020-11-28T01:30:47.779404Z",
     "iopub.status.busy": "2020-11-28T01:30:47.778547Z",
     "iopub.status.idle": "2020-11-28T01:30:47.780318Z",
     "shell.execute_reply": "2020-11-28T01:30:47.780983Z"
    },
    "papermill": {
     "duration": 0.02078,
     "end_time": "2020-11-28T01:30:47.781223",
     "exception": false,
     "start_time": "2020-11-28T01:30:47.760443",
     "status": "completed"
    },
    "tags": [
     "parameters",
     "hide_input"
    ]
   },
   "outputs": [],
   "source": [
    "# Parameters\n",
    "fmt_date = \"{:%Y-%m-%d}\"\n",
    "\n",
    "n_days = 30 * 2\n",
    "start_date = fmt_date.format(pd.datetime.today() - timedelta(days=n_days))\n",
    "end_date = fmt_date.format(pd.datetime.today())\n",
    "\n",
    "renderer = \"html\"\n",
    "person = \"jasongrout\""
   ]
  },
  {
   "cell_type": "code",
   "execution_count": 4,
   "metadata": {
    "execution": {
     "iopub.execute_input": "2020-11-28T01:30:47.812762Z",
     "iopub.status.busy": "2020-11-28T01:30:47.811690Z",
     "iopub.status.idle": "2020-11-28T01:30:47.813654Z",
     "shell.execute_reply": "2020-11-28T01:30:47.814122Z"
    },
    "papermill": {
     "duration": 0.020074,
     "end_time": "2020-11-28T01:30:47.814300",
     "exception": false,
     "start_time": "2020-11-28T01:30:47.794226",
     "status": "completed"
    },
    "tags": [
     "injected-parameters",
     "remove-cell"
    ]
   },
   "outputs": [],
   "source": [
    "# Parameters\n",
    "person = \"consideRatio\"\n",
    "n_days = 60\n"
   ]
  },
  {
   "cell_type": "code",
   "execution_count": 5,
   "metadata": {
    "execution": {
     "iopub.execute_input": "2020-11-28T01:30:47.845543Z",
     "iopub.status.busy": "2020-11-28T01:30:47.844923Z",
     "iopub.status.idle": "2020-11-28T01:30:47.851876Z",
     "shell.execute_reply": "2020-11-28T01:30:47.851369Z"
    },
    "papermill": {
     "duration": 0.023429,
     "end_time": "2020-11-28T01:30:47.852032",
     "exception": false,
     "start_time": "2020-11-28T01:30:47.828603",
     "status": "completed"
    },
    "tags": [
     "remove_cell"
    ]
   },
   "outputs": [
    {
     "data": {
      "text/plain": [
       "ThemeRegistry.enable('my_theme')"
      ]
     },
     "execution_count": 5,
     "metadata": {},
     "output_type": "execute_result"
    }
   ],
   "source": [
    "alt.renderers.enable(renderer);\n",
    "alt.themes.register('my_theme', alt_theme)\n",
    "alt.themes.enable(\"my_theme\")"
   ]
  },
  {
   "cell_type": "markdown",
   "metadata": {
    "papermill": {
     "duration": 0.01388,
     "end_time": "2020-11-28T01:30:47.879302",
     "exception": false,
     "start_time": "2020-11-28T01:30:47.865422",
     "status": "completed"
    },
    "tags": []
   },
   "source": [
    "## Load data"
   ]
  },
  {
   "cell_type": "code",
   "execution_count": 6,
   "metadata": {
    "execution": {
     "iopub.execute_input": "2020-11-28T01:30:47.916173Z",
     "iopub.status.busy": "2020-11-28T01:30:47.915573Z",
     "iopub.status.idle": "2020-11-28T01:30:48.132452Z",
     "shell.execute_reply": "2020-11-28T01:30:48.131871Z"
    },
    "papermill": {
     "duration": 0.239878,
     "end_time": "2020-11-28T01:30:48.132615",
     "exception": false,
     "start_time": "2020-11-28T01:30:47.892737",
     "status": "completed"
    },
    "tags": [
     "remove_cell"
    ]
   },
   "outputs": [],
   "source": [
    "from pathlib import Path\n",
    "path_data = Path(\"./\")\n",
    "comments = pd.read_csv(path_data.joinpath('comments.csv'), index_col=0)\n",
    "issues = pd.read_csv(path_data.joinpath('issues.csv'), index_col=0)\n",
    "prs = pd.read_csv(path_data.joinpath('prs.csv'), index_col=0)\n",
    "\n",
    "comments = comments.query('author == @person').drop_duplicates()\n",
    "issues = issues.query('author == @person').drop_duplicates()\n",
    "closed_by = prs.query('mergedBy == @person')\n",
    "prs = prs.query('author == @person').drop_duplicates()"
   ]
  },
  {
   "cell_type": "code",
   "execution_count": 7,
   "metadata": {
    "execution": {
     "iopub.execute_input": "2020-11-28T01:30:48.189047Z",
     "iopub.status.busy": "2020-11-28T01:30:48.175353Z",
     "iopub.status.idle": "2020-11-28T01:30:48.223503Z",
     "shell.execute_reply": "2020-11-28T01:30:48.222780Z"
    },
    "papermill": {
     "duration": 0.07615,
     "end_time": "2020-11-28T01:30:48.223727",
     "exception": false,
     "start_time": "2020-11-28T01:30:48.147577",
     "status": "completed"
    },
    "tags": [
     "remove_cell"
    ]
   },
   "outputs": [],
   "source": [
    "# Time columns\n",
    "# Also drop dates outside of our range\n",
    "time_columns = ['updatedAt', 'createdAt', 'closedAt']\n",
    "for col in time_columns:\n",
    "    for item in [comments, issues, prs, closed_by]:\n",
    "        if col not in item.columns:\n",
    "            continue\n",
    "        dt = pd.to_datetime(item[col]).dt.tz_localize(None)\n",
    "        item[col] = dt\n",
    "        item.query(\"updatedAt < @end_date and updatedAt > @start_date\", inplace=True)"
   ]
  },
  {
   "cell_type": "markdown",
   "metadata": {
    "papermill": {
     "duration": 0.013315,
     "end_time": "2020-11-28T01:30:48.251833",
     "exception": false,
     "start_time": "2020-11-28T01:30:48.238518",
     "status": "completed"
    },
    "tags": []
   },
   "source": [
    "# Repository summaries"
   ]
  },
  {
   "cell_type": "code",
   "execution_count": 8,
   "metadata": {
    "execution": {
     "iopub.execute_input": "2020-11-28T01:30:48.284624Z",
     "iopub.status.busy": "2020-11-28T01:30:48.283443Z",
     "iopub.status.idle": "2020-11-28T01:30:48.305704Z",
     "shell.execute_reply": "2020-11-28T01:30:48.305144Z"
    },
    "papermill": {
     "duration": 0.039018,
     "end_time": "2020-11-28T01:30:48.305865",
     "exception": false,
     "start_time": "2020-11-28T01:30:48.266847",
     "status": "completed"
    },
    "tags": [
     "remove_cell"
    ]
   },
   "outputs": [],
   "source": [
    "summaries = []\n",
    "for idata, name in [(issues, 'issues'), (prs, 'prs'), (comments, 'comments')]:\n",
    "    idata = idata.groupby([\"repo\", \"org\"]).agg({'id': \"count\"}).reset_index().rename(columns={'id': 'count'})\n",
    "    idata[\"kind\"] = name\n",
    "    summaries.append(idata)\n",
    "summaries = pd.concat(summaries)"
   ]
  },
  {
   "cell_type": "code",
   "execution_count": 9,
   "metadata": {
    "execution": {
     "iopub.execute_input": "2020-11-28T01:30:48.341286Z",
     "iopub.status.busy": "2020-11-28T01:30:48.340693Z",
     "iopub.status.idle": "2020-11-28T01:30:48.350111Z",
     "shell.execute_reply": "2020-11-28T01:30:48.349624Z"
    },
    "papermill": {
     "duration": 0.030876,
     "end_time": "2020-11-28T01:30:48.350270",
     "exception": false,
     "start_time": "2020-11-28T01:30:48.319394",
     "status": "completed"
    },
    "tags": [
     "remove_cell"
    ]
   },
   "outputs": [],
   "source": [
    "repo_summaries = summaries.groupby([\"repo\", \"kind\"]).agg({\"count\": \"sum\"}).reset_index()\n",
    "org_summaries = summaries.groupby([\"org\", \"kind\"]).agg({\"count\": \"sum\"}).reset_index()"
   ]
  },
  {
   "cell_type": "code",
   "execution_count": 10,
   "metadata": {
    "execution": {
     "iopub.execute_input": "2020-11-28T01:30:48.383870Z",
     "iopub.status.busy": "2020-11-28T01:30:48.383279Z",
     "iopub.status.idle": "2020-11-28T01:30:48.385561Z",
     "shell.execute_reply": "2020-11-28T01:30:48.384988Z"
    },
    "papermill": {
     "duration": 0.021679,
     "end_time": "2020-11-28T01:30:48.385722",
     "exception": false,
     "start_time": "2020-11-28T01:30:48.364043",
     "status": "completed"
    },
    "tags": [
     "remove_cell"
    ]
   },
   "outputs": [],
   "source": [
    "repo_summaries['logcount'] = np.log(repo_summaries[\"count\"])"
   ]
  },
  {
   "cell_type": "code",
   "execution_count": 11,
   "metadata": {
    "execution": {
     "iopub.execute_input": "2020-11-28T01:30:48.456301Z",
     "iopub.status.busy": "2020-11-28T01:30:48.446077Z",
     "iopub.status.idle": "2020-11-28T01:30:48.490308Z",
     "shell.execute_reply": "2020-11-28T01:30:48.491208Z"
    },
    "papermill": {
     "duration": 0.080981,
     "end_time": "2020-11-28T01:30:48.491555",
     "exception": false,
     "start_time": "2020-11-28T01:30:48.410574",
     "status": "completed"
    },
    "tags": [
     "hide_input"
    ]
   },
   "outputs": [
    {
     "data": {
      "text/html": [
       "\n",
       "<div id=\"altair-viz-7896559fb99d41efbce0b2ebef96f7d3\"></div>\n",
       "<script type=\"text/javascript\">\n",
       "  (function(spec, embedOpt){\n",
       "    let outputDiv = document.currentScript.previousElementSibling;\n",
       "    if (outputDiv.id !== \"altair-viz-7896559fb99d41efbce0b2ebef96f7d3\") {\n",
       "      outputDiv = document.getElementById(\"altair-viz-7896559fb99d41efbce0b2ebef96f7d3\");\n",
       "    }\n",
       "    const paths = {\n",
       "      \"vega\": \"https://cdn.jsdelivr.net/npm//vega@5?noext\",\n",
       "      \"vega-lib\": \"https://cdn.jsdelivr.net/npm//vega-lib?noext\",\n",
       "      \"vega-lite\": \"https://cdn.jsdelivr.net/npm//vega-lite@4.8.1?noext\",\n",
       "      \"vega-embed\": \"https://cdn.jsdelivr.net/npm//vega-embed@6?noext\",\n",
       "    };\n",
       "\n",
       "    function loadScript(lib) {\n",
       "      return new Promise(function(resolve, reject) {\n",
       "        var s = document.createElement('script');\n",
       "        s.src = paths[lib];\n",
       "        s.async = true;\n",
       "        s.onload = () => resolve(paths[lib]);\n",
       "        s.onerror = () => reject(`Error loading script: ${paths[lib]}`);\n",
       "        document.getElementsByTagName(\"head\")[0].appendChild(s);\n",
       "      });\n",
       "    }\n",
       "\n",
       "    function showError(err) {\n",
       "      outputDiv.innerHTML = `<div class=\"error\" style=\"color:red;\">${err}</div>`;\n",
       "      throw err;\n",
       "    }\n",
       "\n",
       "    function displayChart(vegaEmbed) {\n",
       "      vegaEmbed(outputDiv, spec, embedOpt)\n",
       "        .catch(err => showError(`Javascript Error: ${err.message}<br>This usually means there's a typo in your chart specification. See the javascript console for the full traceback.`));\n",
       "    }\n",
       "\n",
       "    if(typeof define === \"function\" && define.amd) {\n",
       "      requirejs.config({paths});\n",
       "      require([\"vega-embed\"], displayChart, err => showError(`Error loading script: ${err.message}`));\n",
       "    } else if (typeof vegaEmbed === \"function\") {\n",
       "      displayChart(vegaEmbed);\n",
       "    } else {\n",
       "      loadScript(\"vega\")\n",
       "        .then(() => loadScript(\"vega-lite\"))\n",
       "        .then(() => loadScript(\"vega-embed\"))\n",
       "        .catch(showError)\n",
       "        .then(() => displayChart(vegaEmbed));\n",
       "    }\n",
       "  })({\"config\": {\"axisLeft\": {\"labelFontSize\": 15}, \"axisBottom\": {\"labelFontSize\": 15}}, \"hconcat\": [{\"mark\": \"bar\", \"encoding\": {\"color\": {\"type\": \"nominal\", \"field\": \"kind\"}, \"tooltip\": {\"type\": \"nominal\", \"field\": \"kind\"}, \"x\": {\"type\": \"nominal\", \"field\": \"repo\"}, \"y\": {\"type\": \"quantitative\", \"field\": \"count\"}}, \"title\": \"Activity per repository\", \"width\": 600}, {\"mark\": \"bar\", \"encoding\": {\"color\": {\"type\": \"nominal\", \"field\": \"kind\"}, \"tooltip\": {\"type\": \"nominal\", \"field\": \"kind\"}, \"x\": {\"type\": \"nominal\", \"field\": \"repo\"}, \"y\": {\"type\": \"quantitative\", \"field\": \"logcount\"}}, \"title\": \"Log activity per repository\", \"width\": 600}], \"data\": {\"name\": \"data-b12b3025d37151071ef7e6040d3b8997\"}, \"$schema\": \"https://vega.github.io/schema/vega-lite/v4.8.1.json\", \"datasets\": {\"data-b12b3025d37151071ef7e6040d3b8997\": [{\"repo\": \"binder\", \"kind\": \"comments\", \"count\": 9, \"logcount\": 2.1972245773362196}, {\"repo\": \"binderhub\", \"kind\": \"comments\", \"count\": 59, \"logcount\": 4.07753744390572}, {\"repo\": \"binderhub\", \"kind\": \"issues\", \"count\": 6, \"logcount\": 1.791759469228055}, {\"repo\": \"binderhub\", \"kind\": \"prs\", \"count\": 22, \"logcount\": 3.091042453358316}, {\"repo\": \"chartpress\", \"kind\": \"comments\", \"count\": 9, \"logcount\": 2.1972245773362196}, {\"repo\": \"chartpress\", \"kind\": \"issues\", \"count\": 9, \"logcount\": 2.1972245773362196}, {\"repo\": \"chartpress\", \"kind\": \"prs\", \"count\": 8, \"logcount\": 2.0794415416798357}, {\"repo\": \"configurable-http-proxy\", \"kind\": \"comments\", \"count\": 4, \"logcount\": 1.3862943611198906}, {\"repo\": \"configurable-http-proxy\", \"kind\": \"issues\", \"count\": 2, \"logcount\": 0.6931471805599453}, {\"repo\": \"github-activity\", \"kind\": \"comments\", \"count\": 8, \"logcount\": 2.0794415416798357}, {\"repo\": \"github-activity\", \"kind\": \"issues\", \"count\": 2, \"logcount\": 0.6931471805599453}, {\"repo\": \"github-activity\", \"kind\": \"prs\", \"count\": 2, \"logcount\": 0.6931471805599453}, {\"repo\": \"jupyter-server-proxy\", \"kind\": \"prs\", \"count\": 1, \"logcount\": 0.0}, {\"repo\": \"jupyterhub\", \"kind\": \"comments\", \"count\": 70, \"logcount\": 4.248495242049359}, {\"repo\": \"jupyterhub\", \"kind\": \"issues\", \"count\": 11, \"logcount\": 2.3978952727983707}, {\"repo\": \"jupyterhub\", \"kind\": \"prs\", \"count\": 5, \"logcount\": 1.6094379124341003}, {\"repo\": \"kubespawner\", \"kind\": \"comments\", \"count\": 89, \"logcount\": 4.48863636973214}, {\"repo\": \"kubespawner\", \"kind\": \"issues\", \"count\": 10, \"logcount\": 2.302585092994046}, {\"repo\": \"kubespawner\", \"kind\": \"prs\", \"count\": 8, \"logcount\": 2.0794415416798357}, {\"repo\": \"ltiauthenticator\", \"kind\": \"comments\", \"count\": 1, \"logcount\": 0.0}, {\"repo\": \"ltiauthenticator\", \"kind\": \"prs\", \"count\": 1, \"logcount\": 0.0}, {\"repo\": \"mybinder.org-deploy\", \"kind\": \"comments\", \"count\": 10, \"logcount\": 2.302585092994046}, {\"repo\": \"mybinder.org-deploy\", \"kind\": \"issues\", \"count\": 3, \"logcount\": 1.0986122886681098}, {\"repo\": \"mybinder.org-deploy\", \"kind\": \"prs\", \"count\": 2, \"logcount\": 0.6931471805599453}, {\"repo\": \"nbgitpuller\", \"kind\": \"comments\", \"count\": 3, \"logcount\": 1.0986122886681098}, {\"repo\": \"oauthenticator\", \"kind\": \"comments\", \"count\": 23, \"logcount\": 3.1354942159291497}, {\"repo\": \"oauthenticator\", \"kind\": \"issues\", \"count\": 8, \"logcount\": 2.0794415416798357}, {\"repo\": \"oauthenticator\", \"kind\": \"prs\", \"count\": 5, \"logcount\": 1.6094379124341003}, {\"repo\": \"pebble-helm-chart\", \"kind\": \"comments\", \"count\": 1, \"logcount\": 0.0}, {\"repo\": \"pebble-helm-chart\", \"kind\": \"issues\", \"count\": 1, \"logcount\": 0.0}, {\"repo\": \"pebble-helm-chart\", \"kind\": \"prs\", \"count\": 1, \"logcount\": 0.0}, {\"repo\": \"team-compass\", \"kind\": \"comments\", \"count\": 15, \"logcount\": 2.70805020110221}, {\"repo\": \"team-compass\", \"kind\": \"issues\", \"count\": 5, \"logcount\": 1.6094379124341003}, {\"repo\": \"traefik-proxy\", \"kind\": \"comments\", \"count\": 4, \"logcount\": 1.3862943611198906}, {\"repo\": \"zero-to-jupyterhub-k8s\", \"kind\": \"comments\", \"count\": 428, \"logcount\": 6.059123195581797}, {\"repo\": \"zero-to-jupyterhub-k8s\", \"kind\": \"issues\", \"count\": 82, \"logcount\": 4.406719247264253}, {\"repo\": \"zero-to-jupyterhub-k8s\", \"kind\": \"prs\", \"count\": 58, \"logcount\": 4.060443010546419}]}}, {\"mode\": \"vega-lite\"});\n",
       "</script>"
      ],
      "text/plain": [
       "alt.HConcatChart(...)"
      ]
     },
     "execution_count": 11,
     "metadata": {},
     "output_type": "execute_result"
    }
   ],
   "source": [
    "ch1 = alt.Chart(repo_summaries, width=600, title=\"Activity per repository\").mark_bar().encode(\n",
    "    x='repo',\n",
    "    y='count',\n",
    "    color='kind',\n",
    "    tooltip=\"kind\"\n",
    ")\n",
    "\n",
    "ch2 = alt.Chart(repo_summaries, width=600, title=\"Log activity per repository\").mark_bar().encode(\n",
    "    x='repo',\n",
    "    y='logcount',\n",
    "    color='kind',\n",
    "    tooltip=\"kind\"\n",
    ")\n",
    "\n",
    "ch1 | ch2"
   ]
  },
  {
   "cell_type": "code",
   "execution_count": 12,
   "metadata": {
    "execution": {
     "iopub.execute_input": "2020-11-28T01:30:48.556438Z",
     "iopub.status.busy": "2020-11-28T01:30:48.535046Z",
     "iopub.status.idle": "2020-11-28T01:30:48.564407Z",
     "shell.execute_reply": "2020-11-28T01:30:48.563878Z"
    },
    "papermill": {
     "duration": 0.057384,
     "end_time": "2020-11-28T01:30:48.564566",
     "exception": false,
     "start_time": "2020-11-28T01:30:48.507182",
     "status": "completed"
    },
    "tags": [
     "hide_input"
    ]
   },
   "outputs": [
    {
     "data": {
      "text/html": [
       "\n",
       "<div id=\"altair-viz-d945e4eb2dfe4a9ebbc3d2aa471af2fb\"></div>\n",
       "<script type=\"text/javascript\">\n",
       "  (function(spec, embedOpt){\n",
       "    let outputDiv = document.currentScript.previousElementSibling;\n",
       "    if (outputDiv.id !== \"altair-viz-d945e4eb2dfe4a9ebbc3d2aa471af2fb\") {\n",
       "      outputDiv = document.getElementById(\"altair-viz-d945e4eb2dfe4a9ebbc3d2aa471af2fb\");\n",
       "    }\n",
       "    const paths = {\n",
       "      \"vega\": \"https://cdn.jsdelivr.net/npm//vega@5?noext\",\n",
       "      \"vega-lib\": \"https://cdn.jsdelivr.net/npm//vega-lib?noext\",\n",
       "      \"vega-lite\": \"https://cdn.jsdelivr.net/npm//vega-lite@4.8.1?noext\",\n",
       "      \"vega-embed\": \"https://cdn.jsdelivr.net/npm//vega-embed@6?noext\",\n",
       "    };\n",
       "\n",
       "    function loadScript(lib) {\n",
       "      return new Promise(function(resolve, reject) {\n",
       "        var s = document.createElement('script');\n",
       "        s.src = paths[lib];\n",
       "        s.async = true;\n",
       "        s.onload = () => resolve(paths[lib]);\n",
       "        s.onerror = () => reject(`Error loading script: ${paths[lib]}`);\n",
       "        document.getElementsByTagName(\"head\")[0].appendChild(s);\n",
       "      });\n",
       "    }\n",
       "\n",
       "    function showError(err) {\n",
       "      outputDiv.innerHTML = `<div class=\"error\" style=\"color:red;\">${err}</div>`;\n",
       "      throw err;\n",
       "    }\n",
       "\n",
       "    function displayChart(vegaEmbed) {\n",
       "      vegaEmbed(outputDiv, spec, embedOpt)\n",
       "        .catch(err => showError(`Javascript Error: ${err.message}<br>This usually means there's a typo in your chart specification. See the javascript console for the full traceback.`));\n",
       "    }\n",
       "\n",
       "    if(typeof define === \"function\" && define.amd) {\n",
       "      requirejs.config({paths});\n",
       "      require([\"vega-embed\"], displayChart, err => showError(`Error loading script: ${err.message}`));\n",
       "    } else if (typeof vegaEmbed === \"function\") {\n",
       "      displayChart(vegaEmbed);\n",
       "    } else {\n",
       "      loadScript(\"vega\")\n",
       "        .then(() => loadScript(\"vega-lite\"))\n",
       "        .then(() => loadScript(\"vega-embed\"))\n",
       "        .catch(showError)\n",
       "        .then(() => displayChart(vegaEmbed));\n",
       "    }\n",
       "  })({\"config\": {\"axisLeft\": {\"labelFontSize\": 15}, \"axisBottom\": {\"labelFontSize\": 15}}, \"data\": {\"name\": \"data-8d5f67e270a8e1c3ce70ad08f564347a\"}, \"mark\": \"bar\", \"encoding\": {\"color\": {\"type\": \"nominal\", \"field\": \"kind\"}, \"tooltip\": {\"type\": \"nominal\", \"field\": \"org\"}, \"x\": {\"type\": \"nominal\", \"field\": \"org\"}, \"y\": {\"type\": \"quantitative\", \"field\": \"count\"}}, \"width\": 600, \"$schema\": \"https://vega.github.io/schema/vega-lite/v4.8.1.json\", \"datasets\": {\"data-8d5f67e270a8e1c3ce70ad08f564347a\": [{\"org\": \"executablebooks\", \"kind\": \"comments\", \"count\": 8}, {\"org\": \"executablebooks\", \"kind\": \"issues\", \"count\": 2}, {\"org\": \"executablebooks\", \"kind\": \"prs\", \"count\": 2}, {\"org\": \"jupyterhub\", \"kind\": \"comments\", \"count\": 725}, {\"org\": \"jupyterhub\", \"kind\": \"issues\", \"count\": 137}, {\"org\": \"jupyterhub\", \"kind\": \"prs\", \"count\": 111}]}}, {\"mode\": \"vega-lite\"});\n",
       "</script>"
      ],
      "text/plain": [
       "alt.Chart(...)"
      ]
     },
     "execution_count": 12,
     "metadata": {},
     "output_type": "execute_result"
    }
   ],
   "source": [
    "alt.Chart(org_summaries, width=600).mark_bar().encode(\n",
    "    x='org',\n",
    "    y='count',\n",
    "    color='kind',\n",
    "    tooltip=\"org\"\n",
    ")"
   ]
  },
  {
   "cell_type": "markdown",
   "metadata": {
    "papermill": {
     "duration": 0.015004,
     "end_time": "2020-11-28T01:30:48.595879",
     "exception": false,
     "start_time": "2020-11-28T01:30:48.580875",
     "status": "completed"
    },
    "tags": []
   },
   "source": [
    "# By repository over time"
   ]
  },
  {
   "cell_type": "markdown",
   "metadata": {
    "papermill": {
     "duration": 0.014587,
     "end_time": "2020-11-28T01:30:48.625527",
     "exception": false,
     "start_time": "2020-11-28T01:30:48.610940",
     "status": "completed"
    },
    "tags": []
   },
   "source": [
    "## Comments"
   ]
  },
  {
   "cell_type": "code",
   "execution_count": 13,
   "metadata": {
    "execution": {
     "iopub.execute_input": "2020-11-28T01:30:48.663335Z",
     "iopub.status.busy": "2020-11-28T01:30:48.662733Z",
     "iopub.status.idle": "2020-11-28T01:30:48.768977Z",
     "shell.execute_reply": "2020-11-28T01:30:48.768474Z"
    },
    "papermill": {
     "duration": 0.128427,
     "end_time": "2020-11-28T01:30:48.769144",
     "exception": false,
     "start_time": "2020-11-28T01:30:48.640717",
     "status": "completed"
    },
    "tags": [
     "hide_input"
    ]
   },
   "outputs": [
    {
     "data": {
      "text/html": [
       "\n",
       "<div id=\"altair-viz-b0fa80b61c194b3cb44be0008dbb2cb5\"></div>\n",
       "<script type=\"text/javascript\">\n",
       "  (function(spec, embedOpt){\n",
       "    let outputDiv = document.currentScript.previousElementSibling;\n",
       "    if (outputDiv.id !== \"altair-viz-b0fa80b61c194b3cb44be0008dbb2cb5\") {\n",
       "      outputDiv = document.getElementById(\"altair-viz-b0fa80b61c194b3cb44be0008dbb2cb5\");\n",
       "    }\n",
       "    const paths = {\n",
       "      \"vega\": \"https://cdn.jsdelivr.net/npm//vega@5?noext\",\n",
       "      \"vega-lib\": \"https://cdn.jsdelivr.net/npm//vega-lib?noext\",\n",
       "      \"vega-lite\": \"https://cdn.jsdelivr.net/npm//vega-lite@4.8.1?noext\",\n",
       "      \"vega-embed\": \"https://cdn.jsdelivr.net/npm//vega-embed@6?noext\",\n",
       "    };\n",
       "\n",
       "    function loadScript(lib) {\n",
       "      return new Promise(function(resolve, reject) {\n",
       "        var s = document.createElement('script');\n",
       "        s.src = paths[lib];\n",
       "        s.async = true;\n",
       "        s.onload = () => resolve(paths[lib]);\n",
       "        s.onerror = () => reject(`Error loading script: ${paths[lib]}`);\n",
       "        document.getElementsByTagName(\"head\")[0].appendChild(s);\n",
       "      });\n",
       "    }\n",
       "\n",
       "    function showError(err) {\n",
       "      outputDiv.innerHTML = `<div class=\"error\" style=\"color:red;\">${err}</div>`;\n",
       "      throw err;\n",
       "    }\n",
       "\n",
       "    function displayChart(vegaEmbed) {\n",
       "      vegaEmbed(outputDiv, spec, embedOpt)\n",
       "        .catch(err => showError(`Javascript Error: ${err.message}<br>This usually means there's a typo in your chart specification. See the javascript console for the full traceback.`));\n",
       "    }\n",
       "\n",
       "    if(typeof define === \"function\" && define.amd) {\n",
       "      requirejs.config({paths});\n",
       "      require([\"vega-embed\"], displayChart, err => showError(`Error loading script: ${err.message}`));\n",
       "    } else if (typeof vegaEmbed === \"function\") {\n",
       "      displayChart(vegaEmbed);\n",
       "    } else {\n",
       "      loadScript(\"vega\")\n",
       "        .then(() => loadScript(\"vega-lite\"))\n",
       "        .then(() => loadScript(\"vega-embed\"))\n",
       "        .catch(showError)\n",
       "        .then(() => displayChart(vegaEmbed));\n",
       "    }\n",
       "  })({\"config\": {\"axisLeft\": {\"labelFontSize\": 15}, \"axisBottom\": {\"labelFontSize\": 15}}, \"layer\": [{\"data\": {\"name\": \"data-a97f7a4860a6b0cdb98e8477d7372c2a\"}, \"mark\": \"line\", \"encoding\": {\"color\": {\"type\": \"nominal\", \"field\": \"repo\"}, \"tooltip\": {\"type\": \"nominal\", \"field\": \"repo\"}, \"x\": {\"type\": \"temporal\", \"field\": \"createdAt\"}, \"y\": {\"type\": \"quantitative\", \"field\": \"count\"}}, \"width\": 600}, {\"data\": {\"name\": \"data-4adaca5f193b52ae191868d5ff96b324\"}, \"mark\": {\"type\": \"line\", \"color\": \"black\"}, \"encoding\": {\"x\": {\"type\": \"temporal\", \"field\": \"createdAt\"}, \"y\": {\"type\": \"quantitative\", \"field\": \"count\"}}, \"width\": 600}], \"$schema\": \"https://vega.github.io/schema/vega-lite/v4.8.1.json\", \"datasets\": {\"data-a97f7a4860a6b0cdb98e8477d7372c2a\": [{\"repo\": \"binder\", \"createdAt\": \"2020-10-04T00:00:00\", \"count\": 1}, {\"repo\": \"binder\", \"createdAt\": \"2020-10-11T00:00:00\", \"count\": 1}, {\"repo\": \"binder\", \"createdAt\": \"2020-10-18T00:00:00\", \"count\": 1}, {\"repo\": \"binder\", \"createdAt\": \"2020-10-25T00:00:00\", \"count\": 0}, {\"repo\": \"binder\", \"createdAt\": \"2020-11-01T00:00:00\", \"count\": 0}, {\"repo\": \"binder\", \"createdAt\": \"2020-11-08T00:00:00\", \"count\": 0}, {\"repo\": \"binder\", \"createdAt\": \"2020-11-15T00:00:00\", \"count\": 3}, {\"repo\": \"binder\", \"createdAt\": \"2020-11-22T00:00:00\", \"count\": 0}, {\"repo\": \"binder\", \"createdAt\": \"2020-11-29T00:00:00\", \"count\": 3}, {\"repo\": \"binderhub\", \"createdAt\": \"2020-10-04T00:00:00\", \"count\": 3}, {\"repo\": \"binderhub\", \"createdAt\": \"2020-10-11T00:00:00\", \"count\": 0}, {\"repo\": \"binderhub\", \"createdAt\": \"2020-10-18T00:00:00\", \"count\": 3}, {\"repo\": \"binderhub\", \"createdAt\": \"2020-10-25T00:00:00\", \"count\": 4}, {\"repo\": \"binderhub\", \"createdAt\": \"2020-11-01T00:00:00\", \"count\": 11}, {\"repo\": \"binderhub\", \"createdAt\": \"2020-11-08T00:00:00\", \"count\": 17}, {\"repo\": \"binderhub\", \"createdAt\": \"2020-11-15T00:00:00\", \"count\": 10}, {\"repo\": \"binderhub\", \"createdAt\": \"2020-11-22T00:00:00\", \"count\": 10}, {\"repo\": \"binderhub\", \"createdAt\": \"2020-11-29T00:00:00\", \"count\": 1}, {\"repo\": \"chartpress\", \"createdAt\": \"2020-11-08T00:00:00\", \"count\": 1}, {\"repo\": \"chartpress\", \"createdAt\": \"2020-11-15T00:00:00\", \"count\": 0}, {\"repo\": \"chartpress\", \"createdAt\": \"2020-11-22T00:00:00\", \"count\": 7}, {\"repo\": \"chartpress\", \"createdAt\": \"2020-11-29T00:00:00\", \"count\": 1}, {\"repo\": \"configurable-http-proxy\", \"createdAt\": \"2020-10-18T00:00:00\", \"count\": 1}, {\"repo\": \"configurable-http-proxy\", \"createdAt\": \"2020-10-25T00:00:00\", \"count\": 2}, {\"repo\": \"configurable-http-proxy\", \"createdAt\": \"2020-11-01T00:00:00\", \"count\": 0}, {\"repo\": \"configurable-http-proxy\", \"createdAt\": \"2020-11-08T00:00:00\", \"count\": 0}, {\"repo\": \"configurable-http-proxy\", \"createdAt\": \"2020-11-15T00:00:00\", \"count\": 1}, {\"repo\": \"github-activity\", \"createdAt\": \"2020-10-11T00:00:00\", \"count\": 1}, {\"repo\": \"github-activity\", \"createdAt\": \"2020-10-18T00:00:00\", \"count\": 0}, {\"repo\": \"github-activity\", \"createdAt\": \"2020-10-25T00:00:00\", \"count\": 0}, {\"repo\": \"github-activity\", \"createdAt\": \"2020-11-01T00:00:00\", \"count\": 7}, {\"repo\": \"jupyterhub\", \"createdAt\": \"2020-10-04T00:00:00\", \"count\": 7}, {\"repo\": \"jupyterhub\", \"createdAt\": \"2020-10-11T00:00:00\", \"count\": 7}, {\"repo\": \"jupyterhub\", \"createdAt\": \"2020-10-18T00:00:00\", \"count\": 18}, {\"repo\": \"jupyterhub\", \"createdAt\": \"2020-10-25T00:00:00\", \"count\": 3}, {\"repo\": \"jupyterhub\", \"createdAt\": \"2020-11-01T00:00:00\", \"count\": 12}, {\"repo\": \"jupyterhub\", \"createdAt\": \"2020-11-08T00:00:00\", \"count\": 2}, {\"repo\": \"jupyterhub\", \"createdAt\": \"2020-11-15T00:00:00\", \"count\": 5}, {\"repo\": \"jupyterhub\", \"createdAt\": \"2020-11-22T00:00:00\", \"count\": 8}, {\"repo\": \"jupyterhub\", \"createdAt\": \"2020-11-29T00:00:00\", \"count\": 8}, {\"repo\": \"kubespawner\", \"createdAt\": \"2020-10-04T00:00:00\", \"count\": 9}, {\"repo\": \"kubespawner\", \"createdAt\": \"2020-10-11T00:00:00\", \"count\": 2}, {\"repo\": \"kubespawner\", \"createdAt\": \"2020-10-18T00:00:00\", \"count\": 1}, {\"repo\": \"kubespawner\", \"createdAt\": \"2020-10-25T00:00:00\", \"count\": 67}, {\"repo\": \"kubespawner\", \"createdAt\": \"2020-11-01T00:00:00\", \"count\": 8}, {\"repo\": \"kubespawner\", \"createdAt\": \"2020-11-08T00:00:00\", \"count\": 1}, {\"repo\": \"kubespawner\", \"createdAt\": \"2020-11-15T00:00:00\", \"count\": 0}, {\"repo\": \"kubespawner\", \"createdAt\": \"2020-11-22T00:00:00\", \"count\": 0}, {\"repo\": \"kubespawner\", \"createdAt\": \"2020-11-29T00:00:00\", \"count\": 1}, {\"repo\": \"ltiauthenticator\", \"createdAt\": \"2020-11-15T00:00:00\", \"count\": 1}, {\"repo\": \"mybinder.org-deploy\", \"createdAt\": \"2020-10-25T00:00:00\", \"count\": 1}, {\"repo\": \"mybinder.org-deploy\", \"createdAt\": \"2020-11-01T00:00:00\", \"count\": 6}, {\"repo\": \"mybinder.org-deploy\", \"createdAt\": \"2020-11-08T00:00:00\", \"count\": 2}, {\"repo\": \"mybinder.org-deploy\", \"createdAt\": \"2020-11-15T00:00:00\", \"count\": 0}, {\"repo\": \"mybinder.org-deploy\", \"createdAt\": \"2020-11-22T00:00:00\", \"count\": 1}, {\"repo\": \"nbgitpuller\", \"createdAt\": \"2020-10-04T00:00:00\", \"count\": 3}, {\"repo\": \"oauthenticator\", \"createdAt\": \"2020-10-11T00:00:00\", \"count\": 2}, {\"repo\": \"oauthenticator\", \"createdAt\": \"2020-10-18T00:00:00\", \"count\": 6}, {\"repo\": \"oauthenticator\", \"createdAt\": \"2020-10-25T00:00:00\", \"count\": 3}, {\"repo\": \"oauthenticator\", \"createdAt\": \"2020-11-01T00:00:00\", \"count\": 8}, {\"repo\": \"oauthenticator\", \"createdAt\": \"2020-11-08T00:00:00\", \"count\": 0}, {\"repo\": \"oauthenticator\", \"createdAt\": \"2020-11-15T00:00:00\", \"count\": 1}, {\"repo\": \"oauthenticator\", \"createdAt\": \"2020-11-22T00:00:00\", \"count\": 3}, {\"repo\": \"pebble-helm-chart\", \"createdAt\": \"2020-11-22T00:00:00\", \"count\": 1}, {\"repo\": \"team-compass\", \"createdAt\": \"2020-10-11T00:00:00\", \"count\": 1}, {\"repo\": \"team-compass\", \"createdAt\": \"2020-10-18T00:00:00\", \"count\": 0}, {\"repo\": \"team-compass\", \"createdAt\": \"2020-10-25T00:00:00\", \"count\": 0}, {\"repo\": \"team-compass\", \"createdAt\": \"2020-11-01T00:00:00\", \"count\": 5}, {\"repo\": \"team-compass\", \"createdAt\": \"2020-11-08T00:00:00\", \"count\": 4}, {\"repo\": \"team-compass\", \"createdAt\": \"2020-11-15T00:00:00\", \"count\": 4}, {\"repo\": \"team-compass\", \"createdAt\": \"2020-11-22T00:00:00\", \"count\": 0}, {\"repo\": \"team-compass\", \"createdAt\": \"2020-11-29T00:00:00\", \"count\": 1}, {\"repo\": \"traefik-proxy\", \"createdAt\": \"2020-11-15T00:00:00\", \"count\": 3}, {\"repo\": \"traefik-proxy\", \"createdAt\": \"2020-11-22T00:00:00\", \"count\": 1}, {\"repo\": \"zero-to-jupyterhub-k8s\", \"createdAt\": \"2020-10-04T00:00:00\", \"count\": 21}, {\"repo\": \"zero-to-jupyterhub-k8s\", \"createdAt\": \"2020-10-11T00:00:00\", \"count\": 258}, {\"repo\": \"zero-to-jupyterhub-k8s\", \"createdAt\": \"2020-10-18T00:00:00\", \"count\": 32}, {\"repo\": \"zero-to-jupyterhub-k8s\", \"createdAt\": \"2020-10-25T00:00:00\", \"count\": 58}, {\"repo\": \"zero-to-jupyterhub-k8s\", \"createdAt\": \"2020-11-01T00:00:00\", \"count\": 27}, {\"repo\": \"zero-to-jupyterhub-k8s\", \"createdAt\": \"2020-11-08T00:00:00\", \"count\": 7}, {\"repo\": \"zero-to-jupyterhub-k8s\", \"createdAt\": \"2020-11-15T00:00:00\", \"count\": 17}, {\"repo\": \"zero-to-jupyterhub-k8s\", \"createdAt\": \"2020-11-22T00:00:00\", \"count\": 5}, {\"repo\": \"zero-to-jupyterhub-k8s\", \"createdAt\": \"2020-11-29T00:00:00\", \"count\": 3}], \"data-4adaca5f193b52ae191868d5ff96b324\": [{\"createdAt\": \"2020-10-04T00:00:00\", \"count\": 44}, {\"createdAt\": \"2020-10-11T00:00:00\", \"count\": 272}, {\"createdAt\": \"2020-10-18T00:00:00\", \"count\": 62}, {\"createdAt\": \"2020-10-25T00:00:00\", \"count\": 138}, {\"createdAt\": \"2020-11-01T00:00:00\", \"count\": 84}, {\"createdAt\": \"2020-11-08T00:00:00\", \"count\": 34}, {\"createdAt\": \"2020-11-15T00:00:00\", \"count\": 45}, {\"createdAt\": \"2020-11-22T00:00:00\", \"count\": 36}, {\"createdAt\": \"2020-11-29T00:00:00\", \"count\": 18}]}}, {\"mode\": \"vega-lite\"});\n",
       "</script>"
      ],
      "text/plain": [
       "alt.LayerChart(...)"
      ]
     },
     "execution_count": 13,
     "metadata": {},
     "output_type": "execute_result"
    }
   ],
   "source": [
    "comments_time = comments.groupby('repo').resample('W', on='createdAt').count()['author'].reset_index()\n",
    "comments_time = comments_time.rename(columns={'author': 'count'})\n",
    "comments_time_total = comments_time.groupby('createdAt').agg({\"count\": \"sum\"}).reset_index()\n",
    "ch1 = alt.Chart(comments_time, width=600).mark_line().encode(\n",
    "    x='createdAt',\n",
    "    y='count',\n",
    "    color='repo',\n",
    "    tooltip=\"repo\"\n",
    ")\n",
    "\n",
    "ch2 = alt.Chart(comments_time_total, width=600).mark_line(color=\"black\").encode(\n",
    "    x='createdAt',\n",
    "    y='count',\n",
    ")\n",
    "\n",
    "ch1 + ch2"
   ]
  },
  {
   "cell_type": "markdown",
   "metadata": {
    "papermill": {
     "duration": 0.015762,
     "end_time": "2020-11-28T01:30:48.801978",
     "exception": false,
     "start_time": "2020-11-28T01:30:48.786216",
     "status": "completed"
    },
    "tags": []
   },
   "source": [
    "## PRs"
   ]
  },
  {
   "cell_type": "code",
   "execution_count": 14,
   "metadata": {
    "execution": {
     "iopub.execute_input": "2020-11-28T01:30:48.849587Z",
     "iopub.status.busy": "2020-11-28T01:30:48.845937Z",
     "iopub.status.idle": "2020-11-28T01:30:48.938033Z",
     "shell.execute_reply": "2020-11-28T01:30:48.938514Z"
    },
    "papermill": {
     "duration": 0.120927,
     "end_time": "2020-11-28T01:30:48.938706",
     "exception": false,
     "start_time": "2020-11-28T01:30:48.817779",
     "status": "completed"
    },
    "tags": [
     "hide_input"
    ]
   },
   "outputs": [
    {
     "data": {
      "text/html": [
       "\n",
       "<div id=\"altair-viz-47eaa1cb2f0c411c9db4d4d37e24a9de\"></div>\n",
       "<script type=\"text/javascript\">\n",
       "  (function(spec, embedOpt){\n",
       "    let outputDiv = document.currentScript.previousElementSibling;\n",
       "    if (outputDiv.id !== \"altair-viz-47eaa1cb2f0c411c9db4d4d37e24a9de\") {\n",
       "      outputDiv = document.getElementById(\"altair-viz-47eaa1cb2f0c411c9db4d4d37e24a9de\");\n",
       "    }\n",
       "    const paths = {\n",
       "      \"vega\": \"https://cdn.jsdelivr.net/npm//vega@5?noext\",\n",
       "      \"vega-lib\": \"https://cdn.jsdelivr.net/npm//vega-lib?noext\",\n",
       "      \"vega-lite\": \"https://cdn.jsdelivr.net/npm//vega-lite@4.8.1?noext\",\n",
       "      \"vega-embed\": \"https://cdn.jsdelivr.net/npm//vega-embed@6?noext\",\n",
       "    };\n",
       "\n",
       "    function loadScript(lib) {\n",
       "      return new Promise(function(resolve, reject) {\n",
       "        var s = document.createElement('script');\n",
       "        s.src = paths[lib];\n",
       "        s.async = true;\n",
       "        s.onload = () => resolve(paths[lib]);\n",
       "        s.onerror = () => reject(`Error loading script: ${paths[lib]}`);\n",
       "        document.getElementsByTagName(\"head\")[0].appendChild(s);\n",
       "      });\n",
       "    }\n",
       "\n",
       "    function showError(err) {\n",
       "      outputDiv.innerHTML = `<div class=\"error\" style=\"color:red;\">${err}</div>`;\n",
       "      throw err;\n",
       "    }\n",
       "\n",
       "    function displayChart(vegaEmbed) {\n",
       "      vegaEmbed(outputDiv, spec, embedOpt)\n",
       "        .catch(err => showError(`Javascript Error: ${err.message}<br>This usually means there's a typo in your chart specification. See the javascript console for the full traceback.`));\n",
       "    }\n",
       "\n",
       "    if(typeof define === \"function\" && define.amd) {\n",
       "      requirejs.config({paths});\n",
       "      require([\"vega-embed\"], displayChart, err => showError(`Error loading script: ${err.message}`));\n",
       "    } else if (typeof vegaEmbed === \"function\") {\n",
       "      displayChart(vegaEmbed);\n",
       "    } else {\n",
       "      loadScript(\"vega\")\n",
       "        .then(() => loadScript(\"vega-lite\"))\n",
       "        .then(() => loadScript(\"vega-embed\"))\n",
       "        .catch(showError)\n",
       "        .then(() => displayChart(vegaEmbed));\n",
       "    }\n",
       "  })({\"config\": {\"axisLeft\": {\"labelFontSize\": 15}, \"axisBottom\": {\"labelFontSize\": 15}}, \"layer\": [{\"data\": {\"name\": \"data-1fe5467099a33cdd41d501aec1f6d6cb\"}, \"mark\": \"line\", \"encoding\": {\"color\": {\"type\": \"nominal\", \"field\": \"repo\"}, \"tooltip\": {\"type\": \"nominal\", \"field\": \"repo\"}, \"x\": {\"type\": \"temporal\", \"field\": \"createdAt\"}, \"y\": {\"type\": \"quantitative\", \"field\": \"count\"}}, \"width\": 600}, {\"data\": {\"name\": \"data-81fc8dfc59c3aaa6566aab910d3d9acd\"}, \"mark\": {\"type\": \"line\", \"color\": \"black\"}, \"encoding\": {\"x\": {\"type\": \"temporal\", \"field\": \"createdAt\"}, \"y\": {\"type\": \"quantitative\", \"field\": \"count\"}}, \"width\": 600}], \"$schema\": \"https://vega.github.io/schema/vega-lite/v4.8.1.json\", \"datasets\": {\"data-1fe5467099a33cdd41d501aec1f6d6cb\": [{\"repo\": \"binderhub\", \"createdAt\": \"2020-11-01T00:00:00\", \"count\": 11}, {\"repo\": \"binderhub\", \"createdAt\": \"2020-11-08T00:00:00\", \"count\": 7}, {\"repo\": \"binderhub\", \"createdAt\": \"2020-11-15T00:00:00\", \"count\": 2}, {\"repo\": \"binderhub\", \"createdAt\": \"2020-11-22T00:00:00\", \"count\": 2}, {\"repo\": \"chartpress\", \"createdAt\": \"2019-11-17T00:00:00\", \"count\": 1}, {\"repo\": \"chartpress\", \"createdAt\": \"2019-11-24T00:00:00\", \"count\": 0}, {\"repo\": \"chartpress\", \"createdAt\": \"2019-12-01T00:00:00\", \"count\": 0}, {\"repo\": \"chartpress\", \"createdAt\": \"2019-12-08T00:00:00\", \"count\": 0}, {\"repo\": \"chartpress\", \"createdAt\": \"2019-12-15T00:00:00\", \"count\": 0}, {\"repo\": \"chartpress\", \"createdAt\": \"2019-12-22T00:00:00\", \"count\": 0}, {\"repo\": \"chartpress\", \"createdAt\": \"2019-12-29T00:00:00\", \"count\": 0}, {\"repo\": \"chartpress\", \"createdAt\": \"2020-01-05T00:00:00\", \"count\": 0}, {\"repo\": \"chartpress\", \"createdAt\": \"2020-01-12T00:00:00\", \"count\": 0}, {\"repo\": \"chartpress\", \"createdAt\": \"2020-01-19T00:00:00\", \"count\": 0}, {\"repo\": \"chartpress\", \"createdAt\": \"2020-01-26T00:00:00\", \"count\": 0}, {\"repo\": \"chartpress\", \"createdAt\": \"2020-02-02T00:00:00\", \"count\": 0}, {\"repo\": \"chartpress\", \"createdAt\": \"2020-02-09T00:00:00\", \"count\": 0}, {\"repo\": \"chartpress\", \"createdAt\": \"2020-02-16T00:00:00\", \"count\": 0}, {\"repo\": \"chartpress\", \"createdAt\": \"2020-02-23T00:00:00\", \"count\": 0}, {\"repo\": \"chartpress\", \"createdAt\": \"2020-03-01T00:00:00\", \"count\": 0}, {\"repo\": \"chartpress\", \"createdAt\": \"2020-03-08T00:00:00\", \"count\": 0}, {\"repo\": \"chartpress\", \"createdAt\": \"2020-03-15T00:00:00\", \"count\": 0}, {\"repo\": \"chartpress\", \"createdAt\": \"2020-03-22T00:00:00\", \"count\": 0}, {\"repo\": \"chartpress\", \"createdAt\": \"2020-03-29T00:00:00\", \"count\": 0}, {\"repo\": \"chartpress\", \"createdAt\": \"2020-04-05T00:00:00\", \"count\": 0}, {\"repo\": \"chartpress\", \"createdAt\": \"2020-04-12T00:00:00\", \"count\": 0}, {\"repo\": \"chartpress\", \"createdAt\": \"2020-04-19T00:00:00\", \"count\": 0}, {\"repo\": \"chartpress\", \"createdAt\": \"2020-04-26T00:00:00\", \"count\": 0}, {\"repo\": \"chartpress\", \"createdAt\": \"2020-05-03T00:00:00\", \"count\": 0}, {\"repo\": \"chartpress\", \"createdAt\": \"2020-05-10T00:00:00\", \"count\": 0}, {\"repo\": \"chartpress\", \"createdAt\": \"2020-05-17T00:00:00\", \"count\": 0}, {\"repo\": \"chartpress\", \"createdAt\": \"2020-05-24T00:00:00\", \"count\": 0}, {\"repo\": \"chartpress\", \"createdAt\": \"2020-05-31T00:00:00\", \"count\": 0}, {\"repo\": \"chartpress\", \"createdAt\": \"2020-06-07T00:00:00\", \"count\": 0}, {\"repo\": \"chartpress\", \"createdAt\": \"2020-06-14T00:00:00\", \"count\": 0}, {\"repo\": \"chartpress\", \"createdAt\": \"2020-06-21T00:00:00\", \"count\": 0}, {\"repo\": \"chartpress\", \"createdAt\": \"2020-06-28T00:00:00\", \"count\": 0}, {\"repo\": \"chartpress\", \"createdAt\": \"2020-07-05T00:00:00\", \"count\": 0}, {\"repo\": \"chartpress\", \"createdAt\": \"2020-07-12T00:00:00\", \"count\": 0}, {\"repo\": \"chartpress\", \"createdAt\": \"2020-07-19T00:00:00\", \"count\": 0}, {\"repo\": \"chartpress\", \"createdAt\": \"2020-07-26T00:00:00\", \"count\": 0}, {\"repo\": \"chartpress\", \"createdAt\": \"2020-08-02T00:00:00\", \"count\": 0}, {\"repo\": \"chartpress\", \"createdAt\": \"2020-08-09T00:00:00\", \"count\": 0}, {\"repo\": \"chartpress\", \"createdAt\": \"2020-08-16T00:00:00\", \"count\": 0}, {\"repo\": \"chartpress\", \"createdAt\": \"2020-08-23T00:00:00\", \"count\": 0}, {\"repo\": \"chartpress\", \"createdAt\": \"2020-08-30T00:00:00\", \"count\": 0}, {\"repo\": \"chartpress\", \"createdAt\": \"2020-09-06T00:00:00\", \"count\": 0}, {\"repo\": \"chartpress\", \"createdAt\": \"2020-09-13T00:00:00\", \"count\": 0}, {\"repo\": \"chartpress\", \"createdAt\": \"2020-09-20T00:00:00\", \"count\": 0}, {\"repo\": \"chartpress\", \"createdAt\": \"2020-09-27T00:00:00\", \"count\": 0}, {\"repo\": \"chartpress\", \"createdAt\": \"2020-10-04T00:00:00\", \"count\": 0}, {\"repo\": \"chartpress\", \"createdAt\": \"2020-10-11T00:00:00\", \"count\": 0}, {\"repo\": \"chartpress\", \"createdAt\": \"2020-10-18T00:00:00\", \"count\": 0}, {\"repo\": \"chartpress\", \"createdAt\": \"2020-10-25T00:00:00\", \"count\": 0}, {\"repo\": \"chartpress\", \"createdAt\": \"2020-11-01T00:00:00\", \"count\": 2}, {\"repo\": \"chartpress\", \"createdAt\": \"2020-11-08T00:00:00\", \"count\": 1}, {\"repo\": \"chartpress\", \"createdAt\": \"2020-11-15T00:00:00\", \"count\": 2}, {\"repo\": \"chartpress\", \"createdAt\": \"2020-11-22T00:00:00\", \"count\": 2}, {\"repo\": \"github-activity\", \"createdAt\": \"2020-10-11T00:00:00\", \"count\": 1}, {\"repo\": \"github-activity\", \"createdAt\": \"2020-10-18T00:00:00\", \"count\": 0}, {\"repo\": \"github-activity\", \"createdAt\": \"2020-10-25T00:00:00\", \"count\": 0}, {\"repo\": \"github-activity\", \"createdAt\": \"2020-11-01T00:00:00\", \"count\": 1}, {\"repo\": \"jupyter-server-proxy\", \"createdAt\": \"2020-11-22T00:00:00\", \"count\": 1}, {\"repo\": \"jupyterhub\", \"createdAt\": \"2020-10-04T00:00:00\", \"count\": 1}, {\"repo\": \"jupyterhub\", \"createdAt\": \"2020-10-11T00:00:00\", \"count\": 0}, {\"repo\": \"jupyterhub\", \"createdAt\": \"2020-10-18T00:00:00\", \"count\": 0}, {\"repo\": \"jupyterhub\", \"createdAt\": \"2020-10-25T00:00:00\", \"count\": 1}, {\"repo\": \"jupyterhub\", \"createdAt\": \"2020-11-01T00:00:00\", \"count\": 1}, {\"repo\": \"jupyterhub\", \"createdAt\": \"2020-11-08T00:00:00\", \"count\": 2}, {\"repo\": \"kubespawner\", \"createdAt\": \"2020-10-04T00:00:00\", \"count\": 4}, {\"repo\": \"kubespawner\", \"createdAt\": \"2020-10-11T00:00:00\", \"count\": 0}, {\"repo\": \"kubespawner\", \"createdAt\": \"2020-10-18T00:00:00\", \"count\": 1}, {\"repo\": \"kubespawner\", \"createdAt\": \"2020-10-25T00:00:00\", \"count\": 2}, {\"repo\": \"kubespawner\", \"createdAt\": \"2020-11-01T00:00:00\", \"count\": 0}, {\"repo\": \"kubespawner\", \"createdAt\": \"2020-11-08T00:00:00\", \"count\": 0}, {\"repo\": \"kubespawner\", \"createdAt\": \"2020-11-15T00:00:00\", \"count\": 1}, {\"repo\": \"ltiauthenticator\", \"createdAt\": \"2020-11-15T00:00:00\", \"count\": 1}, {\"repo\": \"mybinder.org-deploy\", \"createdAt\": \"2020-11-01T00:00:00\", \"count\": 2}, {\"repo\": \"oauthenticator\", \"createdAt\": \"2020-10-25T00:00:00\", \"count\": 1}, {\"repo\": \"oauthenticator\", \"createdAt\": \"2020-11-01T00:00:00\", \"count\": 2}, {\"repo\": \"oauthenticator\", \"createdAt\": \"2020-11-08T00:00:00\", \"count\": 0}, {\"repo\": \"oauthenticator\", \"createdAt\": \"2020-11-15T00:00:00\", \"count\": 1}, {\"repo\": \"oauthenticator\", \"createdAt\": \"2020-11-22T00:00:00\", \"count\": 1}, {\"repo\": \"pebble-helm-chart\", \"createdAt\": \"2020-11-08T00:00:00\", \"count\": 1}, {\"repo\": \"zero-to-jupyterhub-k8s\", \"createdAt\": \"2020-05-24T00:00:00\", \"count\": 1}, {\"repo\": \"zero-to-jupyterhub-k8s\", \"createdAt\": \"2020-05-31T00:00:00\", \"count\": 0}, {\"repo\": \"zero-to-jupyterhub-k8s\", \"createdAt\": \"2020-06-07T00:00:00\", \"count\": 0}, {\"repo\": \"zero-to-jupyterhub-k8s\", \"createdAt\": \"2020-06-14T00:00:00\", \"count\": 0}, {\"repo\": \"zero-to-jupyterhub-k8s\", \"createdAt\": \"2020-06-21T00:00:00\", \"count\": 0}, {\"repo\": \"zero-to-jupyterhub-k8s\", \"createdAt\": \"2020-06-28T00:00:00\", \"count\": 0}, {\"repo\": \"zero-to-jupyterhub-k8s\", \"createdAt\": \"2020-07-05T00:00:00\", \"count\": 0}, {\"repo\": \"zero-to-jupyterhub-k8s\", \"createdAt\": \"2020-07-12T00:00:00\", \"count\": 0}, {\"repo\": \"zero-to-jupyterhub-k8s\", \"createdAt\": \"2020-07-19T00:00:00\", \"count\": 0}, {\"repo\": \"zero-to-jupyterhub-k8s\", \"createdAt\": \"2020-07-26T00:00:00\", \"count\": 0}, {\"repo\": \"zero-to-jupyterhub-k8s\", \"createdAt\": \"2020-08-02T00:00:00\", \"count\": 0}, {\"repo\": \"zero-to-jupyterhub-k8s\", \"createdAt\": \"2020-08-09T00:00:00\", \"count\": 0}, {\"repo\": \"zero-to-jupyterhub-k8s\", \"createdAt\": \"2020-08-16T00:00:00\", \"count\": 0}, {\"repo\": \"zero-to-jupyterhub-k8s\", \"createdAt\": \"2020-08-23T00:00:00\", \"count\": 0}, {\"repo\": \"zero-to-jupyterhub-k8s\", \"createdAt\": \"2020-08-30T00:00:00\", \"count\": 0}, {\"repo\": \"zero-to-jupyterhub-k8s\", \"createdAt\": \"2020-09-06T00:00:00\", \"count\": 0}, {\"repo\": \"zero-to-jupyterhub-k8s\", \"createdAt\": \"2020-09-13T00:00:00\", \"count\": 0}, {\"repo\": \"zero-to-jupyterhub-k8s\", \"createdAt\": \"2020-09-20T00:00:00\", \"count\": 0}, {\"repo\": \"zero-to-jupyterhub-k8s\", \"createdAt\": \"2020-09-27T00:00:00\", \"count\": 1}, {\"repo\": \"zero-to-jupyterhub-k8s\", \"createdAt\": \"2020-10-04T00:00:00\", \"count\": 5}, {\"repo\": \"zero-to-jupyterhub-k8s\", \"createdAt\": \"2020-10-11T00:00:00\", \"count\": 17}, {\"repo\": \"zero-to-jupyterhub-k8s\", \"createdAt\": \"2020-10-18T00:00:00\", \"count\": 4}, {\"repo\": \"zero-to-jupyterhub-k8s\", \"createdAt\": \"2020-10-25T00:00:00\", \"count\": 7}, {\"repo\": \"zero-to-jupyterhub-k8s\", \"createdAt\": \"2020-11-01T00:00:00\", \"count\": 13}, {\"repo\": \"zero-to-jupyterhub-k8s\", \"createdAt\": \"2020-11-08T00:00:00\", \"count\": 1}, {\"repo\": \"zero-to-jupyterhub-k8s\", \"createdAt\": \"2020-11-15T00:00:00\", \"count\": 6}, {\"repo\": \"zero-to-jupyterhub-k8s\", \"createdAt\": \"2020-11-22T00:00:00\", \"count\": 1}, {\"repo\": \"zero-to-jupyterhub-k8s\", \"createdAt\": \"2020-11-29T00:00:00\", \"count\": 2}], \"data-81fc8dfc59c3aaa6566aab910d3d9acd\": [{\"createdAt\": \"2019-11-17T00:00:00\", \"count\": 1}, {\"createdAt\": \"2019-11-24T00:00:00\", \"count\": 0}, {\"createdAt\": \"2019-12-01T00:00:00\", \"count\": 0}, {\"createdAt\": \"2019-12-08T00:00:00\", \"count\": 0}, {\"createdAt\": \"2019-12-15T00:00:00\", \"count\": 0}, {\"createdAt\": \"2019-12-22T00:00:00\", \"count\": 0}, {\"createdAt\": \"2019-12-29T00:00:00\", \"count\": 0}, {\"createdAt\": \"2020-01-05T00:00:00\", \"count\": 0}, {\"createdAt\": \"2020-01-12T00:00:00\", \"count\": 0}, {\"createdAt\": \"2020-01-19T00:00:00\", \"count\": 0}, {\"createdAt\": \"2020-01-26T00:00:00\", \"count\": 0}, {\"createdAt\": \"2020-02-02T00:00:00\", \"count\": 0}, {\"createdAt\": \"2020-02-09T00:00:00\", \"count\": 0}, {\"createdAt\": \"2020-02-16T00:00:00\", \"count\": 0}, {\"createdAt\": \"2020-02-23T00:00:00\", \"count\": 0}, {\"createdAt\": \"2020-03-01T00:00:00\", \"count\": 0}, {\"createdAt\": \"2020-03-08T00:00:00\", \"count\": 0}, {\"createdAt\": \"2020-03-15T00:00:00\", \"count\": 0}, {\"createdAt\": \"2020-03-22T00:00:00\", \"count\": 0}, {\"createdAt\": \"2020-03-29T00:00:00\", \"count\": 0}, {\"createdAt\": \"2020-04-05T00:00:00\", \"count\": 0}, {\"createdAt\": \"2020-04-12T00:00:00\", \"count\": 0}, {\"createdAt\": \"2020-04-19T00:00:00\", \"count\": 0}, {\"createdAt\": \"2020-04-26T00:00:00\", \"count\": 0}, {\"createdAt\": \"2020-05-03T00:00:00\", \"count\": 0}, {\"createdAt\": \"2020-05-10T00:00:00\", \"count\": 0}, {\"createdAt\": \"2020-05-17T00:00:00\", \"count\": 0}, {\"createdAt\": \"2020-05-24T00:00:00\", \"count\": 1}, {\"createdAt\": \"2020-05-31T00:00:00\", \"count\": 0}, {\"createdAt\": \"2020-06-07T00:00:00\", \"count\": 0}, {\"createdAt\": \"2020-06-14T00:00:00\", \"count\": 0}, {\"createdAt\": \"2020-06-21T00:00:00\", \"count\": 0}, {\"createdAt\": \"2020-06-28T00:00:00\", \"count\": 0}, {\"createdAt\": \"2020-07-05T00:00:00\", \"count\": 0}, {\"createdAt\": \"2020-07-12T00:00:00\", \"count\": 0}, {\"createdAt\": \"2020-07-19T00:00:00\", \"count\": 0}, {\"createdAt\": \"2020-07-26T00:00:00\", \"count\": 0}, {\"createdAt\": \"2020-08-02T00:00:00\", \"count\": 0}, {\"createdAt\": \"2020-08-09T00:00:00\", \"count\": 0}, {\"createdAt\": \"2020-08-16T00:00:00\", \"count\": 0}, {\"createdAt\": \"2020-08-23T00:00:00\", \"count\": 0}, {\"createdAt\": \"2020-08-30T00:00:00\", \"count\": 0}, {\"createdAt\": \"2020-09-06T00:00:00\", \"count\": 0}, {\"createdAt\": \"2020-09-13T00:00:00\", \"count\": 0}, {\"createdAt\": \"2020-09-20T00:00:00\", \"count\": 0}, {\"createdAt\": \"2020-09-27T00:00:00\", \"count\": 1}, {\"createdAt\": \"2020-10-04T00:00:00\", \"count\": 10}, {\"createdAt\": \"2020-10-11T00:00:00\", \"count\": 18}, {\"createdAt\": \"2020-10-18T00:00:00\", \"count\": 5}, {\"createdAt\": \"2020-10-25T00:00:00\", \"count\": 11}, {\"createdAt\": \"2020-11-01T00:00:00\", \"count\": 32}, {\"createdAt\": \"2020-11-08T00:00:00\", \"count\": 12}, {\"createdAt\": \"2020-11-15T00:00:00\", \"count\": 13}, {\"createdAt\": \"2020-11-22T00:00:00\", \"count\": 7}, {\"createdAt\": \"2020-11-29T00:00:00\", \"count\": 2}]}}, {\"mode\": \"vega-lite\"});\n",
       "</script>"
      ],
      "text/plain": [
       "alt.LayerChart(...)"
      ]
     },
     "execution_count": 14,
     "metadata": {},
     "output_type": "execute_result"
    }
   ],
   "source": [
    "prs_time = prs.groupby('repo').resample('W', on='createdAt').count()['author'].reset_index()\n",
    "prs_time = prs_time.rename(columns={'author': 'count'})\n",
    "prs_time_total = prs_time.groupby('createdAt').agg({\"count\": \"sum\"}).reset_index()\n",
    "\n",
    "ch1 = alt.Chart(prs_time, width=600).mark_line().encode(\n",
    "    x='createdAt',\n",
    "    y='count',\n",
    "    color='repo',\n",
    "    tooltip=\"repo\"\n",
    ")\n",
    "\n",
    "ch2 = alt.Chart(prs_time_total, width=600).mark_line(color=\"black\").encode(\n",
    "    x='createdAt',\n",
    "    y='count',\n",
    ")\n",
    "\n",
    "ch1 + ch2"
   ]
  },
  {
   "cell_type": "code",
   "execution_count": 15,
   "metadata": {
    "execution": {
     "iopub.execute_input": "2020-11-28T01:30:48.983038Z",
     "iopub.status.busy": "2020-11-28T01:30:48.982007Z",
     "iopub.status.idle": "2020-11-28T01:30:49.045782Z",
     "shell.execute_reply": "2020-11-28T01:30:49.046450Z"
    },
    "papermill": {
     "duration": 0.090314,
     "end_time": "2020-11-28T01:30:49.046699",
     "exception": false,
     "start_time": "2020-11-28T01:30:48.956385",
     "status": "completed"
    },
    "tags": [
     "hide_input"
    ]
   },
   "outputs": [
    {
     "data": {
      "text/html": [
       "\n",
       "<div id=\"altair-viz-48e510751fe74a83a0d0ddd9679b5031\"></div>\n",
       "<script type=\"text/javascript\">\n",
       "  (function(spec, embedOpt){\n",
       "    let outputDiv = document.currentScript.previousElementSibling;\n",
       "    if (outputDiv.id !== \"altair-viz-48e510751fe74a83a0d0ddd9679b5031\") {\n",
       "      outputDiv = document.getElementById(\"altair-viz-48e510751fe74a83a0d0ddd9679b5031\");\n",
       "    }\n",
       "    const paths = {\n",
       "      \"vega\": \"https://cdn.jsdelivr.net/npm//vega@5?noext\",\n",
       "      \"vega-lib\": \"https://cdn.jsdelivr.net/npm//vega-lib?noext\",\n",
       "      \"vega-lite\": \"https://cdn.jsdelivr.net/npm//vega-lite@4.8.1?noext\",\n",
       "      \"vega-embed\": \"https://cdn.jsdelivr.net/npm//vega-embed@6?noext\",\n",
       "    };\n",
       "\n",
       "    function loadScript(lib) {\n",
       "      return new Promise(function(resolve, reject) {\n",
       "        var s = document.createElement('script');\n",
       "        s.src = paths[lib];\n",
       "        s.async = true;\n",
       "        s.onload = () => resolve(paths[lib]);\n",
       "        s.onerror = () => reject(`Error loading script: ${paths[lib]}`);\n",
       "        document.getElementsByTagName(\"head\")[0].appendChild(s);\n",
       "      });\n",
       "    }\n",
       "\n",
       "    function showError(err) {\n",
       "      outputDiv.innerHTML = `<div class=\"error\" style=\"color:red;\">${err}</div>`;\n",
       "      throw err;\n",
       "    }\n",
       "\n",
       "    function displayChart(vegaEmbed) {\n",
       "      vegaEmbed(outputDiv, spec, embedOpt)\n",
       "        .catch(err => showError(`Javascript Error: ${err.message}<br>This usually means there's a typo in your chart specification. See the javascript console for the full traceback.`));\n",
       "    }\n",
       "\n",
       "    if(typeof define === \"function\" && define.amd) {\n",
       "      requirejs.config({paths});\n",
       "      require([\"vega-embed\"], displayChart, err => showError(`Error loading script: ${err.message}`));\n",
       "    } else if (typeof vegaEmbed === \"function\") {\n",
       "      displayChart(vegaEmbed);\n",
       "    } else {\n",
       "      loadScript(\"vega\")\n",
       "        .then(() => loadScript(\"vega-lite\"))\n",
       "        .then(() => loadScript(\"vega-embed\"))\n",
       "        .catch(showError)\n",
       "        .then(() => displayChart(vegaEmbed));\n",
       "    }\n",
       "  })({\"config\": {\"axisLeft\": {\"labelFontSize\": 15}, \"axisBottom\": {\"labelFontSize\": 15}}, \"data\": {\"name\": \"data-680dcb3a073fe004a23e7a8b66cb343f\"}, \"mark\": \"line\", \"encoding\": {\"color\": {\"type\": \"nominal\", \"field\": \"repo\"}, \"tooltip\": {\"type\": \"nominal\", \"field\": \"repo\"}, \"x\": {\"type\": \"temporal\", \"field\": \"closedAt\"}, \"y\": {\"type\": \"quantitative\", \"field\": \"count\"}}, \"width\": 600, \"$schema\": \"https://vega.github.io/schema/vega-lite/v4.8.1.json\", \"datasets\": {\"data-680dcb3a073fe004a23e7a8b66cb343f\": [{\"repo\": \"binder\", \"closedAt\": \"2020-10-18T00:00:00\", \"count\": 1}, {\"repo\": \"binder\", \"closedAt\": \"2020-10-25T00:00:00\", \"count\": 0}, {\"repo\": \"binder\", \"closedAt\": \"2020-11-01T00:00:00\", \"count\": 0}, {\"repo\": \"binder\", \"closedAt\": \"2020-11-08T00:00:00\", \"count\": 0}, {\"repo\": \"binder\", \"closedAt\": \"2020-11-15T00:00:00\", \"count\": 1}, {\"repo\": \"binder\", \"closedAt\": \"2020-11-22T00:00:00\", \"count\": 0}, {\"repo\": \"binder\", \"closedAt\": \"2020-11-29T00:00:00\", \"count\": 1}, {\"repo\": \"binderhub\", \"closedAt\": \"2020-10-18T00:00:00\", \"count\": 1}, {\"repo\": \"binderhub\", \"closedAt\": \"2020-10-25T00:00:00\", \"count\": 3}, {\"repo\": \"binderhub\", \"closedAt\": \"2020-11-01T00:00:00\", \"count\": 1}, {\"repo\": \"binderhub\", \"closedAt\": \"2020-11-08T00:00:00\", \"count\": 7}, {\"repo\": \"binderhub\", \"closedAt\": \"2020-11-15T00:00:00\", \"count\": 3}, {\"repo\": \"binderhub\", \"closedAt\": \"2020-11-22T00:00:00\", \"count\": 1}, {\"repo\": \"binderhub\", \"closedAt\": \"2020-11-29T00:00:00\", \"count\": 1}, {\"repo\": \"chartpress\", \"closedAt\": \"2020-11-08T00:00:00\", \"count\": 2}, {\"repo\": \"chartpress\", \"closedAt\": \"2020-11-15T00:00:00\", \"count\": 1}, {\"repo\": \"chartpress\", \"closedAt\": \"2020-11-22T00:00:00\", \"count\": 3}, {\"repo\": \"configurable-http-proxy\", \"closedAt\": \"2020-10-25T00:00:00\", \"count\": 2}, {\"repo\": \"configurable-http-proxy\", \"closedAt\": \"2020-11-01T00:00:00\", \"count\": 1}, {\"repo\": \"configurable-http-proxy\", \"closedAt\": \"2020-11-08T00:00:00\", \"count\": 1}, {\"repo\": \"configurable-http-proxy\", \"closedAt\": \"2020-11-15T00:00:00\", \"count\": 0}, {\"repo\": \"configurable-http-proxy\", \"closedAt\": \"2020-11-22T00:00:00\", \"count\": 0}, {\"repo\": \"configurable-http-proxy\", \"closedAt\": \"2020-11-29T00:00:00\", \"count\": 1}, {\"repo\": \"jupyterhub\", \"closedAt\": \"2020-10-04T00:00:00\", \"count\": 2}, {\"repo\": \"jupyterhub\", \"closedAt\": \"2020-10-11T00:00:00\", \"count\": 0}, {\"repo\": \"jupyterhub\", \"closedAt\": \"2020-10-18T00:00:00\", \"count\": 4}, {\"repo\": \"jupyterhub\", \"closedAt\": \"2020-10-25T00:00:00\", \"count\": 0}, {\"repo\": \"jupyterhub\", \"closedAt\": \"2020-11-01T00:00:00\", \"count\": 4}, {\"repo\": \"jupyterhub\", \"closedAt\": \"2020-11-08T00:00:00\", \"count\": 0}, {\"repo\": \"jupyterhub\", \"closedAt\": \"2020-11-15T00:00:00\", \"count\": 2}, {\"repo\": \"jupyterhub\", \"closedAt\": \"2020-11-22T00:00:00\", \"count\": 2}, {\"repo\": \"jupyterhub\", \"closedAt\": \"2020-11-29T00:00:00\", \"count\": 1}, {\"repo\": \"kubespawner\", \"closedAt\": \"2020-10-04T00:00:00\", \"count\": 2}, {\"repo\": \"kubespawner\", \"closedAt\": \"2020-10-11T00:00:00\", \"count\": 0}, {\"repo\": \"kubespawner\", \"closedAt\": \"2020-10-18T00:00:00\", \"count\": 1}, {\"repo\": \"kubespawner\", \"closedAt\": \"2020-10-25T00:00:00\", \"count\": 2}, {\"repo\": \"kubespawner\", \"closedAt\": \"2020-11-01T00:00:00\", \"count\": 0}, {\"repo\": \"kubespawner\", \"closedAt\": \"2020-11-08T00:00:00\", \"count\": 0}, {\"repo\": \"kubespawner\", \"closedAt\": \"2020-11-15T00:00:00\", \"count\": 1}, {\"repo\": \"mybinder.org-deploy\", \"closedAt\": \"2020-11-01T00:00:00\", \"count\": 1}, {\"repo\": \"nbgitpuller\", \"closedAt\": \"2020-10-04T00:00:00\", \"count\": 2}, {\"repo\": \"oauthenticator\", \"closedAt\": \"2020-11-15T00:00:00\", \"count\": 1}, {\"repo\": \"oauthenticator\", \"closedAt\": \"2020-11-22T00:00:00\", \"count\": 2}, {\"repo\": \"pebble-helm-chart\", \"closedAt\": \"2020-11-08T00:00:00\", \"count\": 1}, {\"repo\": \"zero-to-jupyterhub-k8s\", \"closedAt\": \"2020-10-04T00:00:00\", \"count\": 6}, {\"repo\": \"zero-to-jupyterhub-k8s\", \"closedAt\": \"2020-10-11T00:00:00\", \"count\": 17}, {\"repo\": \"zero-to-jupyterhub-k8s\", \"closedAt\": \"2020-10-18T00:00:00\", \"count\": 4}, {\"repo\": \"zero-to-jupyterhub-k8s\", \"closedAt\": \"2020-10-25T00:00:00\", \"count\": 15}, {\"repo\": \"zero-to-jupyterhub-k8s\", \"closedAt\": \"2020-11-01T00:00:00\", \"count\": 15}, {\"repo\": \"zero-to-jupyterhub-k8s\", \"closedAt\": \"2020-11-08T00:00:00\", \"count\": 4}, {\"repo\": \"zero-to-jupyterhub-k8s\", \"closedAt\": \"2020-11-15T00:00:00\", \"count\": 6}, {\"repo\": \"zero-to-jupyterhub-k8s\", \"closedAt\": \"2020-11-22T00:00:00\", \"count\": 1}, {\"repo\": \"zero-to-jupyterhub-k8s\", \"closedAt\": \"2020-11-29T00:00:00\", \"count\": 2}]}}, {\"mode\": \"vega-lite\"});\n",
       "</script>"
      ],
      "text/plain": [
       "alt.Chart(...)"
      ]
     },
     "execution_count": 15,
     "metadata": {},
     "output_type": "execute_result"
    }
   ],
   "source": [
    "closed_by_time = closed_by.groupby('repo').resample('W', on='closedAt').count()['author'].reset_index()\n",
    "closed_by_time = closed_by_time.rename(columns={'author': 'count'})\n",
    "\n",
    "alt.Chart(closed_by_time, width=600).mark_line().encode(\n",
    "    x='closedAt',\n",
    "    y='count',\n",
    "    color='repo',\n",
    "    tooltip=\"repo\"\n",
    ")"
   ]
  },
  {
   "cell_type": "markdown",
   "metadata": {
    "papermill": {
     "duration": 0.016639,
     "end_time": "2020-11-28T01:30:49.080627",
     "exception": false,
     "start_time": "2020-11-28T01:30:49.063988",
     "status": "completed"
    },
    "tags": []
   },
   "source": [
    "# By type over time"
   ]
  },
  {
   "cell_type": "code",
   "execution_count": 16,
   "metadata": {
    "execution": {
     "iopub.execute_input": "2020-11-28T01:30:49.136760Z",
     "iopub.status.busy": "2020-11-28T01:30:49.136131Z",
     "iopub.status.idle": "2020-11-28T01:30:49.153034Z",
     "shell.execute_reply": "2020-11-28T01:30:49.152446Z"
    },
    "papermill": {
     "duration": 0.054252,
     "end_time": "2020-11-28T01:30:49.153212",
     "exception": false,
     "start_time": "2020-11-28T01:30:49.098960",
     "status": "completed"
    },
    "tags": [
     "remove_cell"
    ]
   },
   "outputs": [],
   "source": [
    "prs_time = prs[['author', 'createdAt']].resample('W', on='createdAt').count()['author'].reset_index()\n",
    "prs_time = prs_time.rename(columns={'author': 'prs'})\n",
    "comments_time = comments[['author', 'createdAt']].resample('W', on='createdAt').count()['author'].reset_index()\n",
    "comments_time = comments_time.rename(columns={'author': 'comments'})\n",
    "\n",
    "total_time = pd.merge(prs_time, comments_time, on='createdAt', how='outer')\n",
    "total_time = total_time.melt(id_vars='createdAt', var_name=\"kind\", value_name=\"count\")\n"
   ]
  },
  {
   "cell_type": "code",
   "execution_count": 17,
   "metadata": {
    "execution": {
     "iopub.execute_input": "2020-11-28T01:30:49.210407Z",
     "iopub.status.busy": "2020-11-28T01:30:49.201094Z",
     "iopub.status.idle": "2020-11-28T01:30:49.216948Z",
     "shell.execute_reply": "2020-11-28T01:30:49.217424Z"
    },
    "papermill": {
     "duration": 0.046794,
     "end_time": "2020-11-28T01:30:49.217636",
     "exception": false,
     "start_time": "2020-11-28T01:30:49.170842",
     "status": "completed"
    },
    "tags": [
     "hide_input"
    ]
   },
   "outputs": [
    {
     "data": {
      "text/html": [
       "\n",
       "<div id=\"altair-viz-bcdac2191f0944b98bafc82514a049dd\"></div>\n",
       "<script type=\"text/javascript\">\n",
       "  (function(spec, embedOpt){\n",
       "    let outputDiv = document.currentScript.previousElementSibling;\n",
       "    if (outputDiv.id !== \"altair-viz-bcdac2191f0944b98bafc82514a049dd\") {\n",
       "      outputDiv = document.getElementById(\"altair-viz-bcdac2191f0944b98bafc82514a049dd\");\n",
       "    }\n",
       "    const paths = {\n",
       "      \"vega\": \"https://cdn.jsdelivr.net/npm//vega@5?noext\",\n",
       "      \"vega-lib\": \"https://cdn.jsdelivr.net/npm//vega-lib?noext\",\n",
       "      \"vega-lite\": \"https://cdn.jsdelivr.net/npm//vega-lite@4.8.1?noext\",\n",
       "      \"vega-embed\": \"https://cdn.jsdelivr.net/npm//vega-embed@6?noext\",\n",
       "    };\n",
       "\n",
       "    function loadScript(lib) {\n",
       "      return new Promise(function(resolve, reject) {\n",
       "        var s = document.createElement('script');\n",
       "        s.src = paths[lib];\n",
       "        s.async = true;\n",
       "        s.onload = () => resolve(paths[lib]);\n",
       "        s.onerror = () => reject(`Error loading script: ${paths[lib]}`);\n",
       "        document.getElementsByTagName(\"head\")[0].appendChild(s);\n",
       "      });\n",
       "    }\n",
       "\n",
       "    function showError(err) {\n",
       "      outputDiv.innerHTML = `<div class=\"error\" style=\"color:red;\">${err}</div>`;\n",
       "      throw err;\n",
       "    }\n",
       "\n",
       "    function displayChart(vegaEmbed) {\n",
       "      vegaEmbed(outputDiv, spec, embedOpt)\n",
       "        .catch(err => showError(`Javascript Error: ${err.message}<br>This usually means there's a typo in your chart specification. See the javascript console for the full traceback.`));\n",
       "    }\n",
       "\n",
       "    if(typeof define === \"function\" && define.amd) {\n",
       "      requirejs.config({paths});\n",
       "      require([\"vega-embed\"], displayChart, err => showError(`Error loading script: ${err.message}`));\n",
       "    } else if (typeof vegaEmbed === \"function\") {\n",
       "      displayChart(vegaEmbed);\n",
       "    } else {\n",
       "      loadScript(\"vega\")\n",
       "        .then(() => loadScript(\"vega-lite\"))\n",
       "        .then(() => loadScript(\"vega-embed\"))\n",
       "        .catch(showError)\n",
       "        .then(() => displayChart(vegaEmbed));\n",
       "    }\n",
       "  })({\"config\": {\"axisLeft\": {\"labelFontSize\": 15}, \"axisBottom\": {\"labelFontSize\": 15}}, \"data\": {\"name\": \"data-ad05f6a45715ef6cbb3b68e35f89cf5b\"}, \"mark\": \"line\", \"encoding\": {\"color\": {\"type\": \"nominal\", \"field\": \"kind\"}, \"x\": {\"type\": \"temporal\", \"field\": \"createdAt\"}, \"y\": {\"type\": \"quantitative\", \"field\": \"count\"}}, \"width\": 600, \"$schema\": \"https://vega.github.io/schema/vega-lite/v4.8.1.json\", \"datasets\": {\"data-ad05f6a45715ef6cbb3b68e35f89cf5b\": [{\"createdAt\": \"2019-11-17T00:00:00\", \"kind\": \"prs\", \"count\": 1.0}, {\"createdAt\": \"2019-11-24T00:00:00\", \"kind\": \"prs\", \"count\": 0.0}, {\"createdAt\": \"2019-12-01T00:00:00\", \"kind\": \"prs\", \"count\": 0.0}, {\"createdAt\": \"2019-12-08T00:00:00\", \"kind\": \"prs\", \"count\": 0.0}, {\"createdAt\": \"2019-12-15T00:00:00\", \"kind\": \"prs\", \"count\": 0.0}, {\"createdAt\": \"2019-12-22T00:00:00\", \"kind\": \"prs\", \"count\": 0.0}, {\"createdAt\": \"2019-12-29T00:00:00\", \"kind\": \"prs\", \"count\": 0.0}, {\"createdAt\": \"2020-01-05T00:00:00\", \"kind\": \"prs\", \"count\": 0.0}, {\"createdAt\": \"2020-01-12T00:00:00\", \"kind\": \"prs\", \"count\": 0.0}, {\"createdAt\": \"2020-01-19T00:00:00\", \"kind\": \"prs\", \"count\": 0.0}, {\"createdAt\": \"2020-01-26T00:00:00\", \"kind\": \"prs\", \"count\": 0.0}, {\"createdAt\": \"2020-02-02T00:00:00\", \"kind\": \"prs\", \"count\": 0.0}, {\"createdAt\": \"2020-02-09T00:00:00\", \"kind\": \"prs\", \"count\": 0.0}, {\"createdAt\": \"2020-02-16T00:00:00\", \"kind\": \"prs\", \"count\": 0.0}, {\"createdAt\": \"2020-02-23T00:00:00\", \"kind\": \"prs\", \"count\": 0.0}, {\"createdAt\": \"2020-03-01T00:00:00\", \"kind\": \"prs\", \"count\": 0.0}, {\"createdAt\": \"2020-03-08T00:00:00\", \"kind\": \"prs\", \"count\": 0.0}, {\"createdAt\": \"2020-03-15T00:00:00\", \"kind\": \"prs\", \"count\": 0.0}, {\"createdAt\": \"2020-03-22T00:00:00\", \"kind\": \"prs\", \"count\": 0.0}, {\"createdAt\": \"2020-03-29T00:00:00\", \"kind\": \"prs\", \"count\": 0.0}, {\"createdAt\": \"2020-04-05T00:00:00\", \"kind\": \"prs\", \"count\": 0.0}, {\"createdAt\": \"2020-04-12T00:00:00\", \"kind\": \"prs\", \"count\": 0.0}, {\"createdAt\": \"2020-04-19T00:00:00\", \"kind\": \"prs\", \"count\": 0.0}, {\"createdAt\": \"2020-04-26T00:00:00\", \"kind\": \"prs\", \"count\": 0.0}, {\"createdAt\": \"2020-05-03T00:00:00\", \"kind\": \"prs\", \"count\": 0.0}, {\"createdAt\": \"2020-05-10T00:00:00\", \"kind\": \"prs\", \"count\": 0.0}, {\"createdAt\": \"2020-05-17T00:00:00\", \"kind\": \"prs\", \"count\": 0.0}, {\"createdAt\": \"2020-05-24T00:00:00\", \"kind\": \"prs\", \"count\": 1.0}, {\"createdAt\": \"2020-05-31T00:00:00\", \"kind\": \"prs\", \"count\": 0.0}, {\"createdAt\": \"2020-06-07T00:00:00\", \"kind\": \"prs\", \"count\": 0.0}, {\"createdAt\": \"2020-06-14T00:00:00\", \"kind\": \"prs\", \"count\": 0.0}, {\"createdAt\": \"2020-06-21T00:00:00\", \"kind\": \"prs\", \"count\": 0.0}, {\"createdAt\": \"2020-06-28T00:00:00\", \"kind\": \"prs\", \"count\": 0.0}, {\"createdAt\": \"2020-07-05T00:00:00\", \"kind\": \"prs\", \"count\": 0.0}, {\"createdAt\": \"2020-07-12T00:00:00\", \"kind\": \"prs\", \"count\": 0.0}, {\"createdAt\": \"2020-07-19T00:00:00\", \"kind\": \"prs\", \"count\": 0.0}, {\"createdAt\": \"2020-07-26T00:00:00\", \"kind\": \"prs\", \"count\": 0.0}, {\"createdAt\": \"2020-08-02T00:00:00\", \"kind\": \"prs\", \"count\": 0.0}, {\"createdAt\": \"2020-08-09T00:00:00\", \"kind\": \"prs\", \"count\": 0.0}, {\"createdAt\": \"2020-08-16T00:00:00\", \"kind\": \"prs\", \"count\": 0.0}, {\"createdAt\": \"2020-08-23T00:00:00\", \"kind\": \"prs\", \"count\": 0.0}, {\"createdAt\": \"2020-08-30T00:00:00\", \"kind\": \"prs\", \"count\": 0.0}, {\"createdAt\": \"2020-09-06T00:00:00\", \"kind\": \"prs\", \"count\": 0.0}, {\"createdAt\": \"2020-09-13T00:00:00\", \"kind\": \"prs\", \"count\": 0.0}, {\"createdAt\": \"2020-09-20T00:00:00\", \"kind\": \"prs\", \"count\": 0.0}, {\"createdAt\": \"2020-09-27T00:00:00\", \"kind\": \"prs\", \"count\": 1.0}, {\"createdAt\": \"2020-10-04T00:00:00\", \"kind\": \"prs\", \"count\": 10.0}, {\"createdAt\": \"2020-10-11T00:00:00\", \"kind\": \"prs\", \"count\": 18.0}, {\"createdAt\": \"2020-10-18T00:00:00\", \"kind\": \"prs\", \"count\": 5.0}, {\"createdAt\": \"2020-10-25T00:00:00\", \"kind\": \"prs\", \"count\": 11.0}, {\"createdAt\": \"2020-11-01T00:00:00\", \"kind\": \"prs\", \"count\": 32.0}, {\"createdAt\": \"2020-11-08T00:00:00\", \"kind\": \"prs\", \"count\": 12.0}, {\"createdAt\": \"2020-11-15T00:00:00\", \"kind\": \"prs\", \"count\": 13.0}, {\"createdAt\": \"2020-11-22T00:00:00\", \"kind\": \"prs\", \"count\": 7.0}, {\"createdAt\": \"2020-11-29T00:00:00\", \"kind\": \"prs\", \"count\": 2.0}, {\"createdAt\": \"2019-11-17T00:00:00\", \"kind\": \"comments\", \"count\": null}, {\"createdAt\": \"2019-11-24T00:00:00\", \"kind\": \"comments\", \"count\": null}, {\"createdAt\": \"2019-12-01T00:00:00\", \"kind\": \"comments\", \"count\": null}, {\"createdAt\": \"2019-12-08T00:00:00\", \"kind\": \"comments\", \"count\": null}, {\"createdAt\": \"2019-12-15T00:00:00\", \"kind\": \"comments\", \"count\": null}, {\"createdAt\": \"2019-12-22T00:00:00\", \"kind\": \"comments\", \"count\": null}, {\"createdAt\": \"2019-12-29T00:00:00\", \"kind\": \"comments\", \"count\": null}, {\"createdAt\": \"2020-01-05T00:00:00\", \"kind\": \"comments\", \"count\": null}, {\"createdAt\": \"2020-01-12T00:00:00\", \"kind\": \"comments\", \"count\": null}, {\"createdAt\": \"2020-01-19T00:00:00\", \"kind\": \"comments\", \"count\": null}, {\"createdAt\": \"2020-01-26T00:00:00\", \"kind\": \"comments\", \"count\": null}, {\"createdAt\": \"2020-02-02T00:00:00\", \"kind\": \"comments\", \"count\": null}, {\"createdAt\": \"2020-02-09T00:00:00\", \"kind\": \"comments\", \"count\": null}, {\"createdAt\": \"2020-02-16T00:00:00\", \"kind\": \"comments\", \"count\": null}, {\"createdAt\": \"2020-02-23T00:00:00\", \"kind\": \"comments\", \"count\": null}, {\"createdAt\": \"2020-03-01T00:00:00\", \"kind\": \"comments\", \"count\": null}, {\"createdAt\": \"2020-03-08T00:00:00\", \"kind\": \"comments\", \"count\": null}, {\"createdAt\": \"2020-03-15T00:00:00\", \"kind\": \"comments\", \"count\": null}, {\"createdAt\": \"2020-03-22T00:00:00\", \"kind\": \"comments\", \"count\": null}, {\"createdAt\": \"2020-03-29T00:00:00\", \"kind\": \"comments\", \"count\": null}, {\"createdAt\": \"2020-04-05T00:00:00\", \"kind\": \"comments\", \"count\": null}, {\"createdAt\": \"2020-04-12T00:00:00\", \"kind\": \"comments\", \"count\": null}, {\"createdAt\": \"2020-04-19T00:00:00\", \"kind\": \"comments\", \"count\": null}, {\"createdAt\": \"2020-04-26T00:00:00\", \"kind\": \"comments\", \"count\": null}, {\"createdAt\": \"2020-05-03T00:00:00\", \"kind\": \"comments\", \"count\": null}, {\"createdAt\": \"2020-05-10T00:00:00\", \"kind\": \"comments\", \"count\": null}, {\"createdAt\": \"2020-05-17T00:00:00\", \"kind\": \"comments\", \"count\": null}, {\"createdAt\": \"2020-05-24T00:00:00\", \"kind\": \"comments\", \"count\": null}, {\"createdAt\": \"2020-05-31T00:00:00\", \"kind\": \"comments\", \"count\": null}, {\"createdAt\": \"2020-06-07T00:00:00\", \"kind\": \"comments\", \"count\": null}, {\"createdAt\": \"2020-06-14T00:00:00\", \"kind\": \"comments\", \"count\": null}, {\"createdAt\": \"2020-06-21T00:00:00\", \"kind\": \"comments\", \"count\": null}, {\"createdAt\": \"2020-06-28T00:00:00\", \"kind\": \"comments\", \"count\": null}, {\"createdAt\": \"2020-07-05T00:00:00\", \"kind\": \"comments\", \"count\": null}, {\"createdAt\": \"2020-07-12T00:00:00\", \"kind\": \"comments\", \"count\": null}, {\"createdAt\": \"2020-07-19T00:00:00\", \"kind\": \"comments\", \"count\": null}, {\"createdAt\": \"2020-07-26T00:00:00\", \"kind\": \"comments\", \"count\": null}, {\"createdAt\": \"2020-08-02T00:00:00\", \"kind\": \"comments\", \"count\": null}, {\"createdAt\": \"2020-08-09T00:00:00\", \"kind\": \"comments\", \"count\": null}, {\"createdAt\": \"2020-08-16T00:00:00\", \"kind\": \"comments\", \"count\": null}, {\"createdAt\": \"2020-08-23T00:00:00\", \"kind\": \"comments\", \"count\": null}, {\"createdAt\": \"2020-08-30T00:00:00\", \"kind\": \"comments\", \"count\": null}, {\"createdAt\": \"2020-09-06T00:00:00\", \"kind\": \"comments\", \"count\": null}, {\"createdAt\": \"2020-09-13T00:00:00\", \"kind\": \"comments\", \"count\": null}, {\"createdAt\": \"2020-09-20T00:00:00\", \"kind\": \"comments\", \"count\": null}, {\"createdAt\": \"2020-09-27T00:00:00\", \"kind\": \"comments\", \"count\": null}, {\"createdAt\": \"2020-10-04T00:00:00\", \"kind\": \"comments\", \"count\": 44.0}, {\"createdAt\": \"2020-10-11T00:00:00\", \"kind\": \"comments\", \"count\": 272.0}, {\"createdAt\": \"2020-10-18T00:00:00\", \"kind\": \"comments\", \"count\": 62.0}, {\"createdAt\": \"2020-10-25T00:00:00\", \"kind\": \"comments\", \"count\": 138.0}, {\"createdAt\": \"2020-11-01T00:00:00\", \"kind\": \"comments\", \"count\": 84.0}, {\"createdAt\": \"2020-11-08T00:00:00\", \"kind\": \"comments\", \"count\": 34.0}, {\"createdAt\": \"2020-11-15T00:00:00\", \"kind\": \"comments\", \"count\": 45.0}, {\"createdAt\": \"2020-11-22T00:00:00\", \"kind\": \"comments\", \"count\": 36.0}, {\"createdAt\": \"2020-11-29T00:00:00\", \"kind\": \"comments\", \"count\": 18.0}]}}, {\"mode\": \"vega-lite\"});\n",
       "</script>"
      ],
      "text/plain": [
       "alt.Chart(...)"
      ]
     },
     "execution_count": 17,
     "metadata": {},
     "output_type": "execute_result"
    }
   ],
   "source": [
    "alt.Chart(total_time, width=600).mark_line().encode(\n",
    "    x='createdAt',\n",
    "    y='count',\n",
    "    color='kind'\n",
    ")"
   ]
  }
 ],
 "metadata": {
  "kernelspec": {
   "display_name": "Python 3",
   "language": "python",
   "name": "python3"
  },
  "language_info": {
   "codemirror_mode": {
    "name": "ipython",
    "version": 3
   },
   "file_extension": ".py",
   "mimetype": "text/x-python",
   "name": "python",
   "nbconvert_exporter": "python",
   "pygments_lexer": "ipython3",
   "version": "3.7.9"
  },
  "papermill": {
   "default_parameters": {},
   "duration": 3.711387,
   "end_time": "2020-11-28T01:30:49.647769",
   "environment_variables": {},
   "exception": null,
   "input_path": "./person.ipynb",
   "output_path": "people/consideRatio.ipynb",
   "parameters": {
    "n_days": 60,
    "person": "consideRatio"
   },
   "start_time": "2020-11-28T01:30:45.936382",
   "version": "2.2.2"
  },
  "widgets": {
   "application/vnd.jupyter.widget-state+json": {
    "state": {},
    "version_major": 2,
    "version_minor": 0
   }
  }
 },
 "nbformat": 4,
 "nbformat_minor": 4
}