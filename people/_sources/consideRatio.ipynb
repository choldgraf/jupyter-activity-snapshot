{
 "cells": [
  {
   "cell_type": "markdown",
   "metadata": {
    "papermill": {
     "duration": 0.011604,
     "end_time": "2020-12-06T01:40:06.946988",
     "exception": false,
     "start_time": "2020-12-06T01:40:06.935384",
     "status": "completed"
    },
    "tags": []
   },
   "source": [
    "# Report for consideRatio"
   ]
  },
  {
   "cell_type": "code",
   "execution_count": 1,
   "metadata": {
    "execution": {
     "iopub.execute_input": "2020-12-06T01:40:06.977739Z",
     "iopub.status.busy": "2020-12-06T01:40:06.977137Z",
     "iopub.status.idle": "2020-12-06T01:40:07.906747Z",
     "shell.execute_reply": "2020-12-06T01:40:07.906183Z"
    },
    "papermill": {
     "duration": 0.944886,
     "end_time": "2020-12-06T01:40:07.906959",
     "exception": false,
     "start_time": "2020-12-06T01:40:06.962073",
     "status": "completed"
    },
    "tags": [
     "remove_cell"
    ]
   },
   "outputs": [],
   "source": [
    "import seaborn as sns\n",
    "import pandas as pd\n",
    "import numpy as np\n",
    "import altair as alt\n",
    "from markdown import markdown\n",
    "from IPython.display import Markdown\n",
    "from ipywidgets.widgets import HTML, Tab\n",
    "from ipywidgets import widgets\n",
    "from datetime import timedelta\n",
    "from matplotlib import pyplot as plt\n",
    "import os.path as op\n",
    "\n",
    "from mycode import alt_theme\n",
    "from warnings import simplefilter\n",
    "simplefilter('ignore')"
   ]
  },
  {
   "cell_type": "code",
   "execution_count": 2,
   "metadata": {
    "execution": {
     "iopub.execute_input": "2020-12-06T01:40:07.939657Z",
     "iopub.status.busy": "2020-12-06T01:40:07.938885Z",
     "iopub.status.idle": "2020-12-06T01:40:07.941778Z",
     "shell.execute_reply": "2020-12-06T01:40:07.941163Z"
    },
    "papermill": {
     "duration": 0.021899,
     "end_time": "2020-12-06T01:40:07.941932",
     "exception": false,
     "start_time": "2020-12-06T01:40:07.920033",
     "status": "completed"
    },
    "tags": [
     "remove_cell"
    ]
   },
   "outputs": [],
   "source": [
    "def author_url(author):\n",
    "    return f\"https://github.com/{author}\""
   ]
  },
  {
   "cell_type": "code",
   "execution_count": 3,
   "metadata": {
    "execution": {
     "iopub.execute_input": "2020-12-06T01:40:07.975016Z",
     "iopub.status.busy": "2020-12-06T01:40:07.974410Z",
     "iopub.status.idle": "2020-12-06T01:40:07.976283Z",
     "shell.execute_reply": "2020-12-06T01:40:07.976791Z"
    },
    "papermill": {
     "duration": 0.022284,
     "end_time": "2020-12-06T01:40:07.976966",
     "exception": false,
     "start_time": "2020-12-06T01:40:07.954682",
     "status": "completed"
    },
    "tags": [
     "parameters",
     "hide_input"
    ]
   },
   "outputs": [],
   "source": [
    "# Parameters\n",
    "fmt_date = \"{:%Y-%m-%d}\"\n",
    "\n",
    "n_days = 30 * 2\n",
    "start_date = fmt_date.format(pd.datetime.today() - timedelta(days=n_days))\n",
    "end_date = fmt_date.format(pd.datetime.today())\n",
    "\n",
    "renderer = \"html\"\n",
    "person = \"jasongrout\""
   ]
  },
  {
   "cell_type": "code",
   "execution_count": 4,
   "metadata": {
    "execution": {
     "iopub.execute_input": "2020-12-06T01:40:08.010149Z",
     "iopub.status.busy": "2020-12-06T01:40:08.009521Z",
     "iopub.status.idle": "2020-12-06T01:40:08.011606Z",
     "shell.execute_reply": "2020-12-06T01:40:08.012390Z"
    },
    "papermill": {
     "duration": 0.020138,
     "end_time": "2020-12-06T01:40:08.012576",
     "exception": false,
     "start_time": "2020-12-06T01:40:07.992438",
     "status": "completed"
    },
    "tags": [
     "injected-parameters",
     "remove-cell"
    ]
   },
   "outputs": [],
   "source": [
    "# Parameters\n",
    "person = \"consideRatio\"\n",
    "n_days = 60\n"
   ]
  },
  {
   "cell_type": "code",
   "execution_count": 5,
   "metadata": {
    "execution": {
     "iopub.execute_input": "2020-12-06T01:40:08.048007Z",
     "iopub.status.busy": "2020-12-06T01:40:08.047376Z",
     "iopub.status.idle": "2020-12-06T01:40:08.050442Z",
     "shell.execute_reply": "2020-12-06T01:40:08.050912Z"
    },
    "papermill": {
     "duration": 0.024869,
     "end_time": "2020-12-06T01:40:08.051101",
     "exception": false,
     "start_time": "2020-12-06T01:40:08.026232",
     "status": "completed"
    },
    "tags": [
     "remove_cell"
    ]
   },
   "outputs": [
    {
     "data": {
      "text/plain": [
       "ThemeRegistry.enable('my_theme')"
      ]
     },
     "execution_count": 5,
     "metadata": {},
     "output_type": "execute_result"
    }
   ],
   "source": [
    "alt.renderers.enable(renderer);\n",
    "alt.themes.register('my_theme', alt_theme)\n",
    "alt.themes.enable(\"my_theme\")"
   ]
  },
  {
   "cell_type": "markdown",
   "metadata": {
    "papermill": {
     "duration": 0.01265,
     "end_time": "2020-12-06T01:40:08.076704",
     "exception": false,
     "start_time": "2020-12-06T01:40:08.064054",
     "status": "completed"
    },
    "tags": []
   },
   "source": [
    "## Load data"
   ]
  },
  {
   "cell_type": "code",
   "execution_count": 6,
   "metadata": {
    "execution": {
     "iopub.execute_input": "2020-12-06T01:40:08.107914Z",
     "iopub.status.busy": "2020-12-06T01:40:08.107315Z",
     "iopub.status.idle": "2020-12-06T01:40:08.272170Z",
     "shell.execute_reply": "2020-12-06T01:40:08.271633Z"
    },
    "papermill": {
     "duration": 0.18334,
     "end_time": "2020-12-06T01:40:08.272347",
     "exception": false,
     "start_time": "2020-12-06T01:40:08.089007",
     "status": "completed"
    },
    "tags": [
     "remove_cell"
    ]
   },
   "outputs": [],
   "source": [
    "from pathlib import Path\n",
    "path_data = Path(\"./\")\n",
    "comments = pd.read_csv(path_data.joinpath('comments.csv'), index_col=0)\n",
    "issues = pd.read_csv(path_data.joinpath('issues.csv'), index_col=0)\n",
    "prs = pd.read_csv(path_data.joinpath('prs.csv'), index_col=0)\n",
    "\n",
    "comments = comments.query('author == @person').drop_duplicates()\n",
    "issues = issues.query('author == @person').drop_duplicates()\n",
    "closed_by = prs.query('mergedBy == @person')\n",
    "prs = prs.query('author == @person').drop_duplicates()"
   ]
  },
  {
   "cell_type": "code",
   "execution_count": 7,
   "metadata": {
    "execution": {
     "iopub.execute_input": "2020-12-06T01:40:08.315579Z",
     "iopub.status.busy": "2020-12-06T01:40:08.314748Z",
     "iopub.status.idle": "2020-12-06T01:40:08.367526Z",
     "shell.execute_reply": "2020-12-06T01:40:08.366986Z"
    },
    "papermill": {
     "duration": 0.080063,
     "end_time": "2020-12-06T01:40:08.367710",
     "exception": false,
     "start_time": "2020-12-06T01:40:08.287647",
     "status": "completed"
    },
    "tags": [
     "remove_cell"
    ]
   },
   "outputs": [],
   "source": [
    "# Time columns\n",
    "# Also drop dates outside of our range\n",
    "time_columns = ['updatedAt', 'createdAt', 'closedAt']\n",
    "for col in time_columns:\n",
    "    for item in [comments, issues, prs, closed_by]:\n",
    "        if col not in item.columns:\n",
    "            continue\n",
    "        dt = pd.to_datetime(item[col]).dt.tz_localize(None)\n",
    "        item[col] = dt\n",
    "        item.query(\"updatedAt < @end_date and updatedAt > @start_date\", inplace=True)"
   ]
  },
  {
   "cell_type": "markdown",
   "metadata": {
    "papermill": {
     "duration": 0.015478,
     "end_time": "2020-12-06T01:40:08.398719",
     "exception": false,
     "start_time": "2020-12-06T01:40:08.383241",
     "status": "completed"
    },
    "tags": []
   },
   "source": [
    "## Repository summaries"
   ]
  },
  {
   "cell_type": "code",
   "execution_count": 8,
   "metadata": {
    "execution": {
     "iopub.execute_input": "2020-12-06T01:40:08.431999Z",
     "iopub.status.busy": "2020-12-06T01:40:08.431385Z",
     "iopub.status.idle": "2020-12-06T01:40:08.455709Z",
     "shell.execute_reply": "2020-12-06T01:40:08.456203Z"
    },
    "papermill": {
     "duration": 0.042037,
     "end_time": "2020-12-06T01:40:08.456414",
     "exception": false,
     "start_time": "2020-12-06T01:40:08.414377",
     "status": "completed"
    },
    "tags": [
     "remove_cell"
    ]
   },
   "outputs": [],
   "source": [
    "summaries = []\n",
    "for idata, name in [(issues, 'issues'), (prs, 'prs'), (comments, 'comments')]:\n",
    "    idata = idata.groupby([\"repo\", \"org\"]).agg({'id': \"count\"}).reset_index().rename(columns={'id': 'count'})\n",
    "    idata[\"kind\"] = name\n",
    "    summaries.append(idata)\n",
    "summaries = pd.concat(summaries)"
   ]
  },
  {
   "cell_type": "code",
   "execution_count": 9,
   "metadata": {
    "execution": {
     "iopub.execute_input": "2020-12-06T01:40:08.498347Z",
     "iopub.status.busy": "2020-12-06T01:40:08.493091Z",
     "iopub.status.idle": "2020-12-06T01:40:08.500938Z",
     "shell.execute_reply": "2020-12-06T01:40:08.500431Z"
    },
    "papermill": {
     "duration": 0.030993,
     "end_time": "2020-12-06T01:40:08.501091",
     "exception": false,
     "start_time": "2020-12-06T01:40:08.470098",
     "status": "completed"
    },
    "tags": [
     "remove_cell"
    ]
   },
   "outputs": [],
   "source": [
    "repo_summaries = summaries.groupby([\"repo\", \"kind\"]).agg({\"count\": \"sum\"}).reset_index()\n",
    "org_summaries = summaries.groupby([\"org\", \"kind\"]).agg({\"count\": \"sum\"}).reset_index()"
   ]
  },
  {
   "cell_type": "code",
   "execution_count": 10,
   "metadata": {
    "execution": {
     "iopub.execute_input": "2020-12-06T01:40:08.532732Z",
     "iopub.status.busy": "2020-12-06T01:40:08.532157Z",
     "iopub.status.idle": "2020-12-06T01:40:08.537038Z",
     "shell.execute_reply": "2020-12-06T01:40:08.536540Z"
    },
    "papermill": {
     "duration": 0.021098,
     "end_time": "2020-12-06T01:40:08.537235",
     "exception": false,
     "start_time": "2020-12-06T01:40:08.516137",
     "status": "completed"
    },
    "tags": [
     "remove_cell"
    ]
   },
   "outputs": [],
   "source": [
    "repo_summaries['logcount'] = np.log(repo_summaries[\"count\"])"
   ]
  },
  {
   "cell_type": "code",
   "execution_count": 11,
   "metadata": {
    "execution": {
     "iopub.execute_input": "2020-12-06T01:40:08.602719Z",
     "iopub.status.busy": "2020-12-06T01:40:08.578938Z",
     "iopub.status.idle": "2020-12-06T01:40:08.619404Z",
     "shell.execute_reply": "2020-12-06T01:40:08.619855Z"
    },
    "papermill": {
     "duration": 0.068194,
     "end_time": "2020-12-06T01:40:08.620036",
     "exception": false,
     "start_time": "2020-12-06T01:40:08.551842",
     "status": "completed"
    },
    "tags": [
     "hide_input"
    ]
   },
   "outputs": [
    {
     "data": {
      "text/html": [
       "\n",
       "<div id=\"altair-viz-3ce90c32daf349eba0fc57cb7208a61b\"></div>\n",
       "<script type=\"text/javascript\">\n",
       "  (function(spec, embedOpt){\n",
       "    let outputDiv = document.currentScript.previousElementSibling;\n",
       "    if (outputDiv.id !== \"altair-viz-3ce90c32daf349eba0fc57cb7208a61b\") {\n",
       "      outputDiv = document.getElementById(\"altair-viz-3ce90c32daf349eba0fc57cb7208a61b\");\n",
       "    }\n",
       "    const paths = {\n",
       "      \"vega\": \"https://cdn.jsdelivr.net/npm//vega@5?noext\",\n",
       "      \"vega-lib\": \"https://cdn.jsdelivr.net/npm//vega-lib?noext\",\n",
       "      \"vega-lite\": \"https://cdn.jsdelivr.net/npm//vega-lite@4.8.1?noext\",\n",
       "      \"vega-embed\": \"https://cdn.jsdelivr.net/npm//vega-embed@6?noext\",\n",
       "    };\n",
       "\n",
       "    function loadScript(lib) {\n",
       "      return new Promise(function(resolve, reject) {\n",
       "        var s = document.createElement('script');\n",
       "        s.src = paths[lib];\n",
       "        s.async = true;\n",
       "        s.onload = () => resolve(paths[lib]);\n",
       "        s.onerror = () => reject(`Error loading script: ${paths[lib]}`);\n",
       "        document.getElementsByTagName(\"head\")[0].appendChild(s);\n",
       "      });\n",
       "    }\n",
       "\n",
       "    function showError(err) {\n",
       "      outputDiv.innerHTML = `<div class=\"error\" style=\"color:red;\">${err}</div>`;\n",
       "      throw err;\n",
       "    }\n",
       "\n",
       "    function displayChart(vegaEmbed) {\n",
       "      vegaEmbed(outputDiv, spec, embedOpt)\n",
       "        .catch(err => showError(`Javascript Error: ${err.message}<br>This usually means there's a typo in your chart specification. See the javascript console for the full traceback.`));\n",
       "    }\n",
       "\n",
       "    if(typeof define === \"function\" && define.amd) {\n",
       "      requirejs.config({paths});\n",
       "      require([\"vega-embed\"], displayChart, err => showError(`Error loading script: ${err.message}`));\n",
       "    } else if (typeof vegaEmbed === \"function\") {\n",
       "      displayChart(vegaEmbed);\n",
       "    } else {\n",
       "      loadScript(\"vega\")\n",
       "        .then(() => loadScript(\"vega-lite\"))\n",
       "        .then(() => loadScript(\"vega-embed\"))\n",
       "        .catch(showError)\n",
       "        .then(() => displayChart(vegaEmbed));\n",
       "    }\n",
       "  })({\"config\": {\"axisLeft\": {\"labelFontSize\": 15}, \"axisBottom\": {\"labelFontSize\": 15}}, \"hconcat\": [{\"mark\": \"bar\", \"encoding\": {\"color\": {\"type\": \"nominal\", \"field\": \"kind\"}, \"tooltip\": {\"type\": \"nominal\", \"field\": \"kind\"}, \"x\": {\"type\": \"nominal\", \"field\": \"repo\"}, \"y\": {\"type\": \"quantitative\", \"field\": \"count\"}}, \"title\": \"Activity per repository\", \"width\": 600}, {\"mark\": \"bar\", \"encoding\": {\"color\": {\"type\": \"nominal\", \"field\": \"kind\"}, \"tooltip\": {\"type\": \"nominal\", \"field\": \"kind\"}, \"x\": {\"type\": \"nominal\", \"field\": \"repo\"}, \"y\": {\"type\": \"quantitative\", \"field\": \"logcount\"}}, \"title\": \"Log activity per repository\", \"width\": 600}], \"data\": {\"name\": \"data-fa04f5415afdacd47e9e1c588d2bda56\"}, \"$schema\": \"https://vega.github.io/schema/vega-lite/v4.8.1.json\", \"datasets\": {\"data-fa04f5415afdacd47e9e1c588d2bda56\": [{\"repo\": \"binder\", \"kind\": \"comments\", \"count\": 8, \"logcount\": 2.0794415416798357}, {\"repo\": \"binderhub\", \"kind\": \"comments\", \"count\": 61, \"logcount\": 4.110873864173311}, {\"repo\": \"binderhub\", \"kind\": \"issues\", \"count\": 7, \"logcount\": 1.9459101490553132}, {\"repo\": \"binderhub\", \"kind\": \"prs\", \"count\": 23, \"logcount\": 3.1354942159291497}, {\"repo\": \"chartpress\", \"kind\": \"comments\", \"count\": 11, \"logcount\": 2.3978952727983707}, {\"repo\": \"chartpress\", \"kind\": \"issues\", \"count\": 9, \"logcount\": 2.1972245773362196}, {\"repo\": \"chartpress\", \"kind\": \"prs\", \"count\": 9, \"logcount\": 2.1972245773362196}, {\"repo\": \"configurable-http-proxy\", \"kind\": \"comments\", \"count\": 4, \"logcount\": 1.3862943611198906}, {\"repo\": \"configurable-http-proxy\", \"kind\": \"issues\", \"count\": 2, \"logcount\": 0.6931471805599453}, {\"repo\": \"github-activity\", \"kind\": \"comments\", \"count\": 8, \"logcount\": 2.0794415416798357}, {\"repo\": \"github-activity\", \"kind\": \"issues\", \"count\": 2, \"logcount\": 0.6931471805599453}, {\"repo\": \"github-activity\", \"kind\": \"prs\", \"count\": 2, \"logcount\": 0.6931471805599453}, {\"repo\": \"jupyter-server-proxy\", \"kind\": \"prs\", \"count\": 1, \"logcount\": 0.0}, {\"repo\": \"jupyterhub\", \"kind\": \"comments\", \"count\": 63, \"logcount\": 4.143134726391533}, {\"repo\": \"jupyterhub\", \"kind\": \"issues\", \"count\": 10, \"logcount\": 2.302585092994046}, {\"repo\": \"jupyterhub\", \"kind\": \"prs\", \"count\": 5, \"logcount\": 1.6094379124341003}, {\"repo\": \"kubespawner\", \"kind\": \"comments\", \"count\": 79, \"logcount\": 4.3694478524670215}, {\"repo\": \"kubespawner\", \"kind\": \"issues\", \"count\": 10, \"logcount\": 2.302585092994046}, {\"repo\": \"kubespawner\", \"kind\": \"prs\", \"count\": 4, \"logcount\": 1.3862943611198906}, {\"repo\": \"ldapauthenticator\", \"kind\": \"comments\", \"count\": 1, \"logcount\": 0.0}, {\"repo\": \"ltiauthenticator\", \"kind\": \"comments\", \"count\": 4, \"logcount\": 1.3862943611198906}, {\"repo\": \"ltiauthenticator\", \"kind\": \"prs\", \"count\": 1, \"logcount\": 0.0}, {\"repo\": \"mybinder.org-deploy\", \"kind\": \"comments\", \"count\": 27, \"logcount\": 3.295836866004329}, {\"repo\": \"mybinder.org-deploy\", \"kind\": \"issues\", \"count\": 5, \"logcount\": 1.6094379124341003}, {\"repo\": \"mybinder.org-deploy\", \"kind\": \"prs\", \"count\": 7, \"logcount\": 1.9459101490553132}, {\"repo\": \"oauthenticator\", \"kind\": \"comments\", \"count\": 27, \"logcount\": 3.295836866004329}, {\"repo\": \"oauthenticator\", \"kind\": \"issues\", \"count\": 8, \"logcount\": 2.0794415416798357}, {\"repo\": \"oauthenticator\", \"kind\": \"prs\", \"count\": 6, \"logcount\": 1.791759469228055}, {\"repo\": \"pebble-helm-chart\", \"kind\": \"comments\", \"count\": 1, \"logcount\": 0.0}, {\"repo\": \"pebble-helm-chart\", \"kind\": \"issues\", \"count\": 1, \"logcount\": 0.0}, {\"repo\": \"pebble-helm-chart\", \"kind\": \"prs\", \"count\": 1, \"logcount\": 0.0}, {\"repo\": \"team-compass\", \"kind\": \"comments\", \"count\": 14, \"logcount\": 2.6390573296152584}, {\"repo\": \"team-compass\", \"kind\": \"issues\", \"count\": 5, \"logcount\": 1.6094379124341003}, {\"repo\": \"traefik-proxy\", \"kind\": \"comments\", \"count\": 4, \"logcount\": 1.3862943611198906}, {\"repo\": \"traefik-proxy\", \"kind\": \"prs\", \"count\": 1, \"logcount\": 0.0}, {\"repo\": \"zero-to-jupyterhub-k8s\", \"kind\": \"comments\", \"count\": 254, \"logcount\": 5.537334267018537}, {\"repo\": \"zero-to-jupyterhub-k8s\", \"kind\": \"issues\", \"count\": 35, \"logcount\": 3.5553480614894135}, {\"repo\": \"zero-to-jupyterhub-k8s\", \"kind\": \"prs\", \"count\": 50, \"logcount\": 3.912023005428146}]}}, {\"mode\": \"vega-lite\"});\n",
       "</script>"
      ],
      "text/plain": [
       "alt.HConcatChart(...)"
      ]
     },
     "execution_count": 11,
     "metadata": {},
     "output_type": "execute_result"
    }
   ],
   "source": [
    "ch1 = alt.Chart(repo_summaries, width=600, title=\"Activity per repository\").mark_bar().encode(\n",
    "    x='repo',\n",
    "    y='count',\n",
    "    color='kind',\n",
    "    tooltip=\"kind\"\n",
    ")\n",
    "\n",
    "ch2 = alt.Chart(repo_summaries, width=600, title=\"Log activity per repository\").mark_bar().encode(\n",
    "    x='repo',\n",
    "    y='logcount',\n",
    "    color='kind',\n",
    "    tooltip=\"kind\"\n",
    ")\n",
    "\n",
    "ch1 | ch2"
   ]
  },
  {
   "cell_type": "code",
   "execution_count": 12,
   "metadata": {
    "execution": {
     "iopub.execute_input": "2020-12-06T01:40:08.652548Z",
     "iopub.status.busy": "2020-12-06T01:40:08.651809Z",
     "iopub.status.idle": "2020-12-06T01:40:08.676967Z",
     "shell.execute_reply": "2020-12-06T01:40:08.677448Z"
    },
    "papermill": {
     "duration": 0.04222,
     "end_time": "2020-12-06T01:40:08.677627",
     "exception": false,
     "start_time": "2020-12-06T01:40:08.635407",
     "status": "completed"
    },
    "tags": [
     "hide_input"
    ]
   },
   "outputs": [
    {
     "data": {
      "text/html": [
       "\n",
       "<div id=\"altair-viz-89bb3a223478476f97d8bc2a334ec685\"></div>\n",
       "<script type=\"text/javascript\">\n",
       "  (function(spec, embedOpt){\n",
       "    let outputDiv = document.currentScript.previousElementSibling;\n",
       "    if (outputDiv.id !== \"altair-viz-89bb3a223478476f97d8bc2a334ec685\") {\n",
       "      outputDiv = document.getElementById(\"altair-viz-89bb3a223478476f97d8bc2a334ec685\");\n",
       "    }\n",
       "    const paths = {\n",
       "      \"vega\": \"https://cdn.jsdelivr.net/npm//vega@5?noext\",\n",
       "      \"vega-lib\": \"https://cdn.jsdelivr.net/npm//vega-lib?noext\",\n",
       "      \"vega-lite\": \"https://cdn.jsdelivr.net/npm//vega-lite@4.8.1?noext\",\n",
       "      \"vega-embed\": \"https://cdn.jsdelivr.net/npm//vega-embed@6?noext\",\n",
       "    };\n",
       "\n",
       "    function loadScript(lib) {\n",
       "      return new Promise(function(resolve, reject) {\n",
       "        var s = document.createElement('script');\n",
       "        s.src = paths[lib];\n",
       "        s.async = true;\n",
       "        s.onload = () => resolve(paths[lib]);\n",
       "        s.onerror = () => reject(`Error loading script: ${paths[lib]}`);\n",
       "        document.getElementsByTagName(\"head\")[0].appendChild(s);\n",
       "      });\n",
       "    }\n",
       "\n",
       "    function showError(err) {\n",
       "      outputDiv.innerHTML = `<div class=\"error\" style=\"color:red;\">${err}</div>`;\n",
       "      throw err;\n",
       "    }\n",
       "\n",
       "    function displayChart(vegaEmbed) {\n",
       "      vegaEmbed(outputDiv, spec, embedOpt)\n",
       "        .catch(err => showError(`Javascript Error: ${err.message}<br>This usually means there's a typo in your chart specification. See the javascript console for the full traceback.`));\n",
       "    }\n",
       "\n",
       "    if(typeof define === \"function\" && define.amd) {\n",
       "      requirejs.config({paths});\n",
       "      require([\"vega-embed\"], displayChart, err => showError(`Error loading script: ${err.message}`));\n",
       "    } else if (typeof vegaEmbed === \"function\") {\n",
       "      displayChart(vegaEmbed);\n",
       "    } else {\n",
       "      loadScript(\"vega\")\n",
       "        .then(() => loadScript(\"vega-lite\"))\n",
       "        .then(() => loadScript(\"vega-embed\"))\n",
       "        .catch(showError)\n",
       "        .then(() => displayChart(vegaEmbed));\n",
       "    }\n",
       "  })({\"config\": {\"axisLeft\": {\"labelFontSize\": 15}, \"axisBottom\": {\"labelFontSize\": 15}}, \"data\": {\"name\": \"data-19f399959634ce115b160178b2ab9097\"}, \"mark\": \"bar\", \"encoding\": {\"color\": {\"type\": \"nominal\", \"field\": \"kind\"}, \"tooltip\": {\"type\": \"nominal\", \"field\": \"org\"}, \"x\": {\"type\": \"nominal\", \"field\": \"org\"}, \"y\": {\"type\": \"quantitative\", \"field\": \"count\"}}, \"width\": 600, \"$schema\": \"https://vega.github.io/schema/vega-lite/v4.8.1.json\", \"datasets\": {\"data-19f399959634ce115b160178b2ab9097\": [{\"org\": \"executablebooks\", \"kind\": \"comments\", \"count\": 8}, {\"org\": \"executablebooks\", \"kind\": \"issues\", \"count\": 2}, {\"org\": \"executablebooks\", \"kind\": \"prs\", \"count\": 2}, {\"org\": \"jupyterhub\", \"kind\": \"comments\", \"count\": 558}, {\"org\": \"jupyterhub\", \"kind\": \"issues\", \"count\": 92}, {\"org\": \"jupyterhub\", \"kind\": \"prs\", \"count\": 108}]}}, {\"mode\": \"vega-lite\"});\n",
       "</script>"
      ],
      "text/plain": [
       "alt.Chart(...)"
      ]
     },
     "execution_count": 12,
     "metadata": {},
     "output_type": "execute_result"
    }
   ],
   "source": [
    "alt.Chart(org_summaries, width=600).mark_bar().encode(\n",
    "    x='org',\n",
    "    y='count',\n",
    "    color='kind',\n",
    "    tooltip=\"org\"\n",
    ")"
   ]
  },
  {
   "cell_type": "markdown",
   "metadata": {
    "papermill": {
     "duration": 0.015443,
     "end_time": "2020-12-06T01:40:08.707291",
     "exception": false,
     "start_time": "2020-12-06T01:40:08.691848",
     "status": "completed"
    },
    "tags": []
   },
   "source": [
    "## By repository over time"
   ]
  },
  {
   "cell_type": "markdown",
   "metadata": {
    "papermill": {
     "duration": 0.014638,
     "end_time": "2020-12-06T01:40:08.736727",
     "exception": false,
     "start_time": "2020-12-06T01:40:08.722089",
     "status": "completed"
    },
    "tags": []
   },
   "source": [
    "### Comments"
   ]
  },
  {
   "cell_type": "code",
   "execution_count": 13,
   "metadata": {
    "execution": {
     "iopub.execute_input": "2020-12-06T01:40:08.771038Z",
     "iopub.status.busy": "2020-12-06T01:40:08.770438Z",
     "iopub.status.idle": "2020-12-06T01:40:08.872446Z",
     "shell.execute_reply": "2020-12-06T01:40:08.873019Z"
    },
    "papermill": {
     "duration": 0.120612,
     "end_time": "2020-12-06T01:40:08.873260",
     "exception": false,
     "start_time": "2020-12-06T01:40:08.752648",
     "status": "completed"
    },
    "tags": [
     "hide_input"
    ]
   },
   "outputs": [
    {
     "data": {
      "text/html": [
       "\n",
       "<div id=\"altair-viz-4f2d951497734b1bb8a87e558cffcb19\"></div>\n",
       "<script type=\"text/javascript\">\n",
       "  (function(spec, embedOpt){\n",
       "    let outputDiv = document.currentScript.previousElementSibling;\n",
       "    if (outputDiv.id !== \"altair-viz-4f2d951497734b1bb8a87e558cffcb19\") {\n",
       "      outputDiv = document.getElementById(\"altair-viz-4f2d951497734b1bb8a87e558cffcb19\");\n",
       "    }\n",
       "    const paths = {\n",
       "      \"vega\": \"https://cdn.jsdelivr.net/npm//vega@5?noext\",\n",
       "      \"vega-lib\": \"https://cdn.jsdelivr.net/npm//vega-lib?noext\",\n",
       "      \"vega-lite\": \"https://cdn.jsdelivr.net/npm//vega-lite@4.8.1?noext\",\n",
       "      \"vega-embed\": \"https://cdn.jsdelivr.net/npm//vega-embed@6?noext\",\n",
       "    };\n",
       "\n",
       "    function loadScript(lib) {\n",
       "      return new Promise(function(resolve, reject) {\n",
       "        var s = document.createElement('script');\n",
       "        s.src = paths[lib];\n",
       "        s.async = true;\n",
       "        s.onload = () => resolve(paths[lib]);\n",
       "        s.onerror = () => reject(`Error loading script: ${paths[lib]}`);\n",
       "        document.getElementsByTagName(\"head\")[0].appendChild(s);\n",
       "      });\n",
       "    }\n",
       "\n",
       "    function showError(err) {\n",
       "      outputDiv.innerHTML = `<div class=\"error\" style=\"color:red;\">${err}</div>`;\n",
       "      throw err;\n",
       "    }\n",
       "\n",
       "    function displayChart(vegaEmbed) {\n",
       "      vegaEmbed(outputDiv, spec, embedOpt)\n",
       "        .catch(err => showError(`Javascript Error: ${err.message}<br>This usually means there's a typo in your chart specification. See the javascript console for the full traceback.`));\n",
       "    }\n",
       "\n",
       "    if(typeof define === \"function\" && define.amd) {\n",
       "      requirejs.config({paths});\n",
       "      require([\"vega-embed\"], displayChart, err => showError(`Error loading script: ${err.message}`));\n",
       "    } else if (typeof vegaEmbed === \"function\") {\n",
       "      displayChart(vegaEmbed);\n",
       "    } else {\n",
       "      loadScript(\"vega\")\n",
       "        .then(() => loadScript(\"vega-lite\"))\n",
       "        .then(() => loadScript(\"vega-embed\"))\n",
       "        .catch(showError)\n",
       "        .then(() => displayChart(vegaEmbed));\n",
       "    }\n",
       "  })({\"config\": {\"axisLeft\": {\"labelFontSize\": 15}, \"axisBottom\": {\"labelFontSize\": 15}}, \"layer\": [{\"data\": {\"name\": \"data-4f022fafecbd532c5a0056eb599667c8\"}, \"mark\": \"line\", \"encoding\": {\"color\": {\"type\": \"nominal\", \"field\": \"repo\"}, \"tooltip\": {\"type\": \"nominal\", \"field\": \"repo\"}, \"x\": {\"type\": \"temporal\", \"field\": \"createdAt\"}, \"y\": {\"type\": \"quantitative\", \"field\": \"count\"}}, \"width\": 600}, {\"data\": {\"name\": \"data-77581d4fe6f150acd098dd72e00f50fe\"}, \"mark\": {\"type\": \"line\", \"color\": \"black\"}, \"encoding\": {\"x\": {\"type\": \"temporal\", \"field\": \"createdAt\"}, \"y\": {\"type\": \"quantitative\", \"field\": \"count\"}}, \"width\": 600}], \"$schema\": \"https://vega.github.io/schema/vega-lite/v4.8.1.json\", \"datasets\": {\"data-4f022fafecbd532c5a0056eb599667c8\": [{\"repo\": \"binder\", \"createdAt\": \"2020-10-11T00:00:00\", \"count\": 1}, {\"repo\": \"binder\", \"createdAt\": \"2020-10-18T00:00:00\", \"count\": 1}, {\"repo\": \"binder\", \"createdAt\": \"2020-10-25T00:00:00\", \"count\": 0}, {\"repo\": \"binder\", \"createdAt\": \"2020-11-01T00:00:00\", \"count\": 0}, {\"repo\": \"binder\", \"createdAt\": \"2020-11-08T00:00:00\", \"count\": 0}, {\"repo\": \"binder\", \"createdAt\": \"2020-11-15T00:00:00\", \"count\": 3}, {\"repo\": \"binder\", \"createdAt\": \"2020-11-22T00:00:00\", \"count\": 0}, {\"repo\": \"binder\", \"createdAt\": \"2020-11-29T00:00:00\", \"count\": 3}, {\"repo\": \"binderhub\", \"createdAt\": \"2020-10-18T00:00:00\", \"count\": 3}, {\"repo\": \"binderhub\", \"createdAt\": \"2020-10-25T00:00:00\", \"count\": 4}, {\"repo\": \"binderhub\", \"createdAt\": \"2020-11-01T00:00:00\", \"count\": 11}, {\"repo\": \"binderhub\", \"createdAt\": \"2020-11-08T00:00:00\", \"count\": 17}, {\"repo\": \"binderhub\", \"createdAt\": \"2020-11-15T00:00:00\", \"count\": 10}, {\"repo\": \"binderhub\", \"createdAt\": \"2020-11-22T00:00:00\", \"count\": 10}, {\"repo\": \"binderhub\", \"createdAt\": \"2020-11-29T00:00:00\", \"count\": 1}, {\"repo\": \"binderhub\", \"createdAt\": \"2020-12-06T00:00:00\", \"count\": 5}, {\"repo\": \"chartpress\", \"createdAt\": \"2020-11-08T00:00:00\", \"count\": 1}, {\"repo\": \"chartpress\", \"createdAt\": \"2020-11-15T00:00:00\", \"count\": 0}, {\"repo\": \"chartpress\", \"createdAt\": \"2020-11-22T00:00:00\", \"count\": 7}, {\"repo\": \"chartpress\", \"createdAt\": \"2020-11-29T00:00:00\", \"count\": 1}, {\"repo\": \"chartpress\", \"createdAt\": \"2020-12-06T00:00:00\", \"count\": 2}, {\"repo\": \"configurable-http-proxy\", \"createdAt\": \"2020-10-18T00:00:00\", \"count\": 1}, {\"repo\": \"configurable-http-proxy\", \"createdAt\": \"2020-10-25T00:00:00\", \"count\": 2}, {\"repo\": \"configurable-http-proxy\", \"createdAt\": \"2020-11-01T00:00:00\", \"count\": 0}, {\"repo\": \"configurable-http-proxy\", \"createdAt\": \"2020-11-08T00:00:00\", \"count\": 0}, {\"repo\": \"configurable-http-proxy\", \"createdAt\": \"2020-11-15T00:00:00\", \"count\": 1}, {\"repo\": \"github-activity\", \"createdAt\": \"2020-10-11T00:00:00\", \"count\": 1}, {\"repo\": \"github-activity\", \"createdAt\": \"2020-10-18T00:00:00\", \"count\": 0}, {\"repo\": \"github-activity\", \"createdAt\": \"2020-10-25T00:00:00\", \"count\": 0}, {\"repo\": \"github-activity\", \"createdAt\": \"2020-11-01T00:00:00\", \"count\": 7}, {\"repo\": \"jupyterhub\", \"createdAt\": \"2020-10-11T00:00:00\", \"count\": 6}, {\"repo\": \"jupyterhub\", \"createdAt\": \"2020-10-18T00:00:00\", \"count\": 18}, {\"repo\": \"jupyterhub\", \"createdAt\": \"2020-10-25T00:00:00\", \"count\": 3}, {\"repo\": \"jupyterhub\", \"createdAt\": \"2020-11-01T00:00:00\", \"count\": 12}, {\"repo\": \"jupyterhub\", \"createdAt\": \"2020-11-08T00:00:00\", \"count\": 2}, {\"repo\": \"jupyterhub\", \"createdAt\": \"2020-11-15T00:00:00\", \"count\": 5}, {\"repo\": \"jupyterhub\", \"createdAt\": \"2020-11-22T00:00:00\", \"count\": 8}, {\"repo\": \"jupyterhub\", \"createdAt\": \"2020-11-29T00:00:00\", \"count\": 8}, {\"repo\": \"jupyterhub\", \"createdAt\": \"2020-12-06T00:00:00\", \"count\": 1}, {\"repo\": \"kubespawner\", \"createdAt\": \"2020-10-11T00:00:00\", \"count\": 1}, {\"repo\": \"kubespawner\", \"createdAt\": \"2020-10-18T00:00:00\", \"count\": 1}, {\"repo\": \"kubespawner\", \"createdAt\": \"2020-10-25T00:00:00\", \"count\": 67}, {\"repo\": \"kubespawner\", \"createdAt\": \"2020-11-01T00:00:00\", \"count\": 8}, {\"repo\": \"kubespawner\", \"createdAt\": \"2020-11-08T00:00:00\", \"count\": 1}, {\"repo\": \"kubespawner\", \"createdAt\": \"2020-11-15T00:00:00\", \"count\": 0}, {\"repo\": \"kubespawner\", \"createdAt\": \"2020-11-22T00:00:00\", \"count\": 0}, {\"repo\": \"kubespawner\", \"createdAt\": \"2020-11-29T00:00:00\", \"count\": 1}, {\"repo\": \"ldapauthenticator\", \"createdAt\": \"2020-12-06T00:00:00\", \"count\": 1}, {\"repo\": \"ltiauthenticator\", \"createdAt\": \"2020-11-15T00:00:00\", \"count\": 1}, {\"repo\": \"ltiauthenticator\", \"createdAt\": \"2020-11-22T00:00:00\", \"count\": 0}, {\"repo\": \"ltiauthenticator\", \"createdAt\": \"2020-11-29T00:00:00\", \"count\": 0}, {\"repo\": \"ltiauthenticator\", \"createdAt\": \"2020-12-06T00:00:00\", \"count\": 3}, {\"repo\": \"mybinder.org-deploy\", \"createdAt\": \"2020-10-25T00:00:00\", \"count\": 1}, {\"repo\": \"mybinder.org-deploy\", \"createdAt\": \"2020-11-01T00:00:00\", \"count\": 6}, {\"repo\": \"mybinder.org-deploy\", \"createdAt\": \"2020-11-08T00:00:00\", \"count\": 2}, {\"repo\": \"mybinder.org-deploy\", \"createdAt\": \"2020-11-15T00:00:00\", \"count\": 0}, {\"repo\": \"mybinder.org-deploy\", \"createdAt\": \"2020-11-22T00:00:00\", \"count\": 1}, {\"repo\": \"mybinder.org-deploy\", \"createdAt\": \"2020-11-29T00:00:00\", \"count\": 0}, {\"repo\": \"mybinder.org-deploy\", \"createdAt\": \"2020-12-06T00:00:00\", \"count\": 17}, {\"repo\": \"oauthenticator\", \"createdAt\": \"2020-10-11T00:00:00\", \"count\": 2}, {\"repo\": \"oauthenticator\", \"createdAt\": \"2020-10-18T00:00:00\", \"count\": 6}, {\"repo\": \"oauthenticator\", \"createdAt\": \"2020-10-25T00:00:00\", \"count\": 3}, {\"repo\": \"oauthenticator\", \"createdAt\": \"2020-11-01T00:00:00\", \"count\": 8}, {\"repo\": \"oauthenticator\", \"createdAt\": \"2020-11-08T00:00:00\", \"count\": 0}, {\"repo\": \"oauthenticator\", \"createdAt\": \"2020-11-15T00:00:00\", \"count\": 1}, {\"repo\": \"oauthenticator\", \"createdAt\": \"2020-11-22T00:00:00\", \"count\": 3}, {\"repo\": \"oauthenticator\", \"createdAt\": \"2020-11-29T00:00:00\", \"count\": 0}, {\"repo\": \"oauthenticator\", \"createdAt\": \"2020-12-06T00:00:00\", \"count\": 4}, {\"repo\": \"pebble-helm-chart\", \"createdAt\": \"2020-11-22T00:00:00\", \"count\": 1}, {\"repo\": \"team-compass\", \"createdAt\": \"2020-11-01T00:00:00\", \"count\": 5}, {\"repo\": \"team-compass\", \"createdAt\": \"2020-11-08T00:00:00\", \"count\": 4}, {\"repo\": \"team-compass\", \"createdAt\": \"2020-11-15T00:00:00\", \"count\": 4}, {\"repo\": \"team-compass\", \"createdAt\": \"2020-11-22T00:00:00\", \"count\": 0}, {\"repo\": \"team-compass\", \"createdAt\": \"2020-11-29T00:00:00\", \"count\": 1}, {\"repo\": \"traefik-proxy\", \"createdAt\": \"2020-11-15T00:00:00\", \"count\": 3}, {\"repo\": \"traefik-proxy\", \"createdAt\": \"2020-11-22T00:00:00\", \"count\": 1}, {\"repo\": \"zero-to-jupyterhub-k8s\", \"createdAt\": \"2020-10-11T00:00:00\", \"count\": 107}, {\"repo\": \"zero-to-jupyterhub-k8s\", \"createdAt\": \"2020-10-18T00:00:00\", \"count\": 29}, {\"repo\": \"zero-to-jupyterhub-k8s\", \"createdAt\": \"2020-10-25T00:00:00\", \"count\": 56}, {\"repo\": \"zero-to-jupyterhub-k8s\", \"createdAt\": \"2020-11-01T00:00:00\", \"count\": 27}, {\"repo\": \"zero-to-jupyterhub-k8s\", \"createdAt\": \"2020-11-08T00:00:00\", \"count\": 7}, {\"repo\": \"zero-to-jupyterhub-k8s\", \"createdAt\": \"2020-11-15T00:00:00\", \"count\": 17}, {\"repo\": \"zero-to-jupyterhub-k8s\", \"createdAt\": \"2020-11-22T00:00:00\", \"count\": 5}, {\"repo\": \"zero-to-jupyterhub-k8s\", \"createdAt\": \"2020-11-29T00:00:00\", \"count\": 3}, {\"repo\": \"zero-to-jupyterhub-k8s\", \"createdAt\": \"2020-12-06T00:00:00\", \"count\": 3}], \"data-77581d4fe6f150acd098dd72e00f50fe\": [{\"createdAt\": \"2020-10-11T00:00:00\", \"count\": 118}, {\"createdAt\": \"2020-10-18T00:00:00\", \"count\": 59}, {\"createdAt\": \"2020-10-25T00:00:00\", \"count\": 136}, {\"createdAt\": \"2020-11-01T00:00:00\", \"count\": 84}, {\"createdAt\": \"2020-11-08T00:00:00\", \"count\": 34}, {\"createdAt\": \"2020-11-15T00:00:00\", \"count\": 45}, {\"createdAt\": \"2020-11-22T00:00:00\", \"count\": 36}, {\"createdAt\": \"2020-11-29T00:00:00\", \"count\": 18}, {\"createdAt\": \"2020-12-06T00:00:00\", \"count\": 36}]}}, {\"mode\": \"vega-lite\"});\n",
       "</script>"
      ],
      "text/plain": [
       "alt.LayerChart(...)"
      ]
     },
     "execution_count": 13,
     "metadata": {},
     "output_type": "execute_result"
    }
   ],
   "source": [
    "comments_time = comments.groupby('repo').resample('W', on='createdAt').count()['author'].reset_index()\n",
    "comments_time = comments_time.rename(columns={'author': 'count'})\n",
    "comments_time_total = comments_time.groupby('createdAt').agg({\"count\": \"sum\"}).reset_index()\n",
    "ch1 = alt.Chart(comments_time, width=600).mark_line().encode(\n",
    "    x='createdAt',\n",
    "    y='count',\n",
    "    color='repo',\n",
    "    tooltip=\"repo\"\n",
    ")\n",
    "\n",
    "ch2 = alt.Chart(comments_time_total, width=600).mark_line(color=\"black\").encode(\n",
    "    x='createdAt',\n",
    "    y='count',\n",
    ")\n",
    "\n",
    "ch1 + ch2"
   ]
  },
  {
   "cell_type": "markdown",
   "metadata": {
    "papermill": {
     "duration": 0.016058,
     "end_time": "2020-12-06T01:40:08.910396",
     "exception": false,
     "start_time": "2020-12-06T01:40:08.894338",
     "status": "completed"
    },
    "tags": []
   },
   "source": [
    "### PRs"
   ]
  },
  {
   "cell_type": "code",
   "execution_count": 14,
   "metadata": {
    "execution": {
     "iopub.execute_input": "2020-12-06T01:40:08.945933Z",
     "iopub.status.busy": "2020-12-06T01:40:08.945342Z",
     "iopub.status.idle": "2020-12-06T01:40:09.033489Z",
     "shell.execute_reply": "2020-12-06T01:40:09.033949Z"
    },
    "papermill": {
     "duration": 0.106424,
     "end_time": "2020-12-06T01:40:09.034135",
     "exception": false,
     "start_time": "2020-12-06T01:40:08.927711",
     "status": "completed"
    },
    "tags": [
     "hide_input"
    ]
   },
   "outputs": [
    {
     "data": {
      "text/html": [
       "\n",
       "<div id=\"altair-viz-4228c000289b4c838720eb0dd2bdb0ad\"></div>\n",
       "<script type=\"text/javascript\">\n",
       "  (function(spec, embedOpt){\n",
       "    let outputDiv = document.currentScript.previousElementSibling;\n",
       "    if (outputDiv.id !== \"altair-viz-4228c000289b4c838720eb0dd2bdb0ad\") {\n",
       "      outputDiv = document.getElementById(\"altair-viz-4228c000289b4c838720eb0dd2bdb0ad\");\n",
       "    }\n",
       "    const paths = {\n",
       "      \"vega\": \"https://cdn.jsdelivr.net/npm//vega@5?noext\",\n",
       "      \"vega-lib\": \"https://cdn.jsdelivr.net/npm//vega-lib?noext\",\n",
       "      \"vega-lite\": \"https://cdn.jsdelivr.net/npm//vega-lite@4.8.1?noext\",\n",
       "      \"vega-embed\": \"https://cdn.jsdelivr.net/npm//vega-embed@6?noext\",\n",
       "    };\n",
       "\n",
       "    function loadScript(lib) {\n",
       "      return new Promise(function(resolve, reject) {\n",
       "        var s = document.createElement('script');\n",
       "        s.src = paths[lib];\n",
       "        s.async = true;\n",
       "        s.onload = () => resolve(paths[lib]);\n",
       "        s.onerror = () => reject(`Error loading script: ${paths[lib]}`);\n",
       "        document.getElementsByTagName(\"head\")[0].appendChild(s);\n",
       "      });\n",
       "    }\n",
       "\n",
       "    function showError(err) {\n",
       "      outputDiv.innerHTML = `<div class=\"error\" style=\"color:red;\">${err}</div>`;\n",
       "      throw err;\n",
       "    }\n",
       "\n",
       "    function displayChart(vegaEmbed) {\n",
       "      vegaEmbed(outputDiv, spec, embedOpt)\n",
       "        .catch(err => showError(`Javascript Error: ${err.message}<br>This usually means there's a typo in your chart specification. See the javascript console for the full traceback.`));\n",
       "    }\n",
       "\n",
       "    if(typeof define === \"function\" && define.amd) {\n",
       "      requirejs.config({paths});\n",
       "      require([\"vega-embed\"], displayChart, err => showError(`Error loading script: ${err.message}`));\n",
       "    } else if (typeof vegaEmbed === \"function\") {\n",
       "      displayChart(vegaEmbed);\n",
       "    } else {\n",
       "      loadScript(\"vega\")\n",
       "        .then(() => loadScript(\"vega-lite\"))\n",
       "        .then(() => loadScript(\"vega-embed\"))\n",
       "        .catch(showError)\n",
       "        .then(() => displayChart(vegaEmbed));\n",
       "    }\n",
       "  })({\"config\": {\"axisLeft\": {\"labelFontSize\": 15}, \"axisBottom\": {\"labelFontSize\": 15}}, \"layer\": [{\"data\": {\"name\": \"data-bfcd3fa124442570f71c5a77ba96866c\"}, \"mark\": \"line\", \"encoding\": {\"color\": {\"type\": \"nominal\", \"field\": \"repo\"}, \"tooltip\": {\"type\": \"nominal\", \"field\": \"repo\"}, \"x\": {\"type\": \"temporal\", \"field\": \"createdAt\"}, \"y\": {\"type\": \"quantitative\", \"field\": \"count\"}}, \"width\": 600}, {\"data\": {\"name\": \"data-220636edf8d55db170d06fa2f24325d1\"}, \"mark\": {\"type\": \"line\", \"color\": \"black\"}, \"encoding\": {\"x\": {\"type\": \"temporal\", \"field\": \"createdAt\"}, \"y\": {\"type\": \"quantitative\", \"field\": \"count\"}}, \"width\": 600}], \"$schema\": \"https://vega.github.io/schema/vega-lite/v4.8.1.json\", \"datasets\": {\"data-bfcd3fa124442570f71c5a77ba96866c\": [{\"repo\": \"binderhub\", \"createdAt\": \"2020-11-01T00:00:00\", \"count\": 11}, {\"repo\": \"binderhub\", \"createdAt\": \"2020-11-08T00:00:00\", \"count\": 7}, {\"repo\": \"binderhub\", \"createdAt\": \"2020-11-15T00:00:00\", \"count\": 2}, {\"repo\": \"binderhub\", \"createdAt\": \"2020-11-22T00:00:00\", \"count\": 2}, {\"repo\": \"binderhub\", \"createdAt\": \"2020-11-29T00:00:00\", \"count\": 0}, {\"repo\": \"binderhub\", \"createdAt\": \"2020-12-06T00:00:00\", \"count\": 1}, {\"repo\": \"chartpress\", \"createdAt\": \"2019-11-17T00:00:00\", \"count\": 1}, {\"repo\": \"chartpress\", \"createdAt\": \"2019-11-24T00:00:00\", \"count\": 0}, {\"repo\": \"chartpress\", \"createdAt\": \"2019-12-01T00:00:00\", \"count\": 0}, {\"repo\": \"chartpress\", \"createdAt\": \"2019-12-08T00:00:00\", \"count\": 0}, {\"repo\": \"chartpress\", \"createdAt\": \"2019-12-15T00:00:00\", \"count\": 0}, {\"repo\": \"chartpress\", \"createdAt\": \"2019-12-22T00:00:00\", \"count\": 0}, {\"repo\": \"chartpress\", \"createdAt\": \"2019-12-29T00:00:00\", \"count\": 0}, {\"repo\": \"chartpress\", \"createdAt\": \"2020-01-05T00:00:00\", \"count\": 0}, {\"repo\": \"chartpress\", \"createdAt\": \"2020-01-12T00:00:00\", \"count\": 0}, {\"repo\": \"chartpress\", \"createdAt\": \"2020-01-19T00:00:00\", \"count\": 0}, {\"repo\": \"chartpress\", \"createdAt\": \"2020-01-26T00:00:00\", \"count\": 0}, {\"repo\": \"chartpress\", \"createdAt\": \"2020-02-02T00:00:00\", \"count\": 0}, {\"repo\": \"chartpress\", \"createdAt\": \"2020-02-09T00:00:00\", \"count\": 0}, {\"repo\": \"chartpress\", \"createdAt\": \"2020-02-16T00:00:00\", \"count\": 0}, {\"repo\": \"chartpress\", \"createdAt\": \"2020-02-23T00:00:00\", \"count\": 0}, {\"repo\": \"chartpress\", \"createdAt\": \"2020-03-01T00:00:00\", \"count\": 0}, {\"repo\": \"chartpress\", \"createdAt\": \"2020-03-08T00:00:00\", \"count\": 0}, {\"repo\": \"chartpress\", \"createdAt\": \"2020-03-15T00:00:00\", \"count\": 0}, {\"repo\": \"chartpress\", \"createdAt\": \"2020-03-22T00:00:00\", \"count\": 0}, {\"repo\": \"chartpress\", \"createdAt\": \"2020-03-29T00:00:00\", \"count\": 0}, {\"repo\": \"chartpress\", \"createdAt\": \"2020-04-05T00:00:00\", \"count\": 0}, {\"repo\": \"chartpress\", \"createdAt\": \"2020-04-12T00:00:00\", \"count\": 0}, {\"repo\": \"chartpress\", \"createdAt\": \"2020-04-19T00:00:00\", \"count\": 0}, {\"repo\": \"chartpress\", \"createdAt\": \"2020-04-26T00:00:00\", \"count\": 0}, {\"repo\": \"chartpress\", \"createdAt\": \"2020-05-03T00:00:00\", \"count\": 0}, {\"repo\": \"chartpress\", \"createdAt\": \"2020-05-10T00:00:00\", \"count\": 0}, {\"repo\": \"chartpress\", \"createdAt\": \"2020-05-17T00:00:00\", \"count\": 0}, {\"repo\": \"chartpress\", \"createdAt\": \"2020-05-24T00:00:00\", \"count\": 0}, {\"repo\": \"chartpress\", \"createdAt\": \"2020-05-31T00:00:00\", \"count\": 0}, {\"repo\": \"chartpress\", \"createdAt\": \"2020-06-07T00:00:00\", \"count\": 0}, {\"repo\": \"chartpress\", \"createdAt\": \"2020-06-14T00:00:00\", \"count\": 0}, {\"repo\": \"chartpress\", \"createdAt\": \"2020-06-21T00:00:00\", \"count\": 0}, {\"repo\": \"chartpress\", \"createdAt\": \"2020-06-28T00:00:00\", \"count\": 0}, {\"repo\": \"chartpress\", \"createdAt\": \"2020-07-05T00:00:00\", \"count\": 0}, {\"repo\": \"chartpress\", \"createdAt\": \"2020-07-12T00:00:00\", \"count\": 0}, {\"repo\": \"chartpress\", \"createdAt\": \"2020-07-19T00:00:00\", \"count\": 0}, {\"repo\": \"chartpress\", \"createdAt\": \"2020-07-26T00:00:00\", \"count\": 0}, {\"repo\": \"chartpress\", \"createdAt\": \"2020-08-02T00:00:00\", \"count\": 0}, {\"repo\": \"chartpress\", \"createdAt\": \"2020-08-09T00:00:00\", \"count\": 0}, {\"repo\": \"chartpress\", \"createdAt\": \"2020-08-16T00:00:00\", \"count\": 0}, {\"repo\": \"chartpress\", \"createdAt\": \"2020-08-23T00:00:00\", \"count\": 0}, {\"repo\": \"chartpress\", \"createdAt\": \"2020-08-30T00:00:00\", \"count\": 0}, {\"repo\": \"chartpress\", \"createdAt\": \"2020-09-06T00:00:00\", \"count\": 0}, {\"repo\": \"chartpress\", \"createdAt\": \"2020-09-13T00:00:00\", \"count\": 0}, {\"repo\": \"chartpress\", \"createdAt\": \"2020-09-20T00:00:00\", \"count\": 0}, {\"repo\": \"chartpress\", \"createdAt\": \"2020-09-27T00:00:00\", \"count\": 0}, {\"repo\": \"chartpress\", \"createdAt\": \"2020-10-04T00:00:00\", \"count\": 0}, {\"repo\": \"chartpress\", \"createdAt\": \"2020-10-11T00:00:00\", \"count\": 0}, {\"repo\": \"chartpress\", \"createdAt\": \"2020-10-18T00:00:00\", \"count\": 0}, {\"repo\": \"chartpress\", \"createdAt\": \"2020-10-25T00:00:00\", \"count\": 0}, {\"repo\": \"chartpress\", \"createdAt\": \"2020-11-01T00:00:00\", \"count\": 2}, {\"repo\": \"chartpress\", \"createdAt\": \"2020-11-08T00:00:00\", \"count\": 1}, {\"repo\": \"chartpress\", \"createdAt\": \"2020-11-15T00:00:00\", \"count\": 2}, {\"repo\": \"chartpress\", \"createdAt\": \"2020-11-22T00:00:00\", \"count\": 2}, {\"repo\": \"chartpress\", \"createdAt\": \"2020-11-29T00:00:00\", \"count\": 0}, {\"repo\": \"chartpress\", \"createdAt\": \"2020-12-06T00:00:00\", \"count\": 1}, {\"repo\": \"github-activity\", \"createdAt\": \"2020-10-11T00:00:00\", \"count\": 1}, {\"repo\": \"github-activity\", \"createdAt\": \"2020-10-18T00:00:00\", \"count\": 0}, {\"repo\": \"github-activity\", \"createdAt\": \"2020-10-25T00:00:00\", \"count\": 0}, {\"repo\": \"github-activity\", \"createdAt\": \"2020-11-01T00:00:00\", \"count\": 1}, {\"repo\": \"jupyter-server-proxy\", \"createdAt\": \"2020-11-22T00:00:00\", \"count\": 1}, {\"repo\": \"jupyterhub\", \"createdAt\": \"2020-10-04T00:00:00\", \"count\": 1}, {\"repo\": \"jupyterhub\", \"createdAt\": \"2020-10-11T00:00:00\", \"count\": 0}, {\"repo\": \"jupyterhub\", \"createdAt\": \"2020-10-18T00:00:00\", \"count\": 0}, {\"repo\": \"jupyterhub\", \"createdAt\": \"2020-10-25T00:00:00\", \"count\": 1}, {\"repo\": \"jupyterhub\", \"createdAt\": \"2020-11-01T00:00:00\", \"count\": 1}, {\"repo\": \"jupyterhub\", \"createdAt\": \"2020-11-08T00:00:00\", \"count\": 2}, {\"repo\": \"kubespawner\", \"createdAt\": \"2020-10-18T00:00:00\", \"count\": 1}, {\"repo\": \"kubespawner\", \"createdAt\": \"2020-10-25T00:00:00\", \"count\": 2}, {\"repo\": \"kubespawner\", \"createdAt\": \"2020-11-01T00:00:00\", \"count\": 0}, {\"repo\": \"kubespawner\", \"createdAt\": \"2020-11-08T00:00:00\", \"count\": 0}, {\"repo\": \"kubespawner\", \"createdAt\": \"2020-11-15T00:00:00\", \"count\": 1}, {\"repo\": \"ltiauthenticator\", \"createdAt\": \"2020-11-15T00:00:00\", \"count\": 1}, {\"repo\": \"mybinder.org-deploy\", \"createdAt\": \"2020-11-01T00:00:00\", \"count\": 2}, {\"repo\": \"mybinder.org-deploy\", \"createdAt\": \"2020-11-08T00:00:00\", \"count\": 0}, {\"repo\": \"mybinder.org-deploy\", \"createdAt\": \"2020-11-15T00:00:00\", \"count\": 0}, {\"repo\": \"mybinder.org-deploy\", \"createdAt\": \"2020-11-22T00:00:00\", \"count\": 0}, {\"repo\": \"mybinder.org-deploy\", \"createdAt\": \"2020-11-29T00:00:00\", \"count\": 0}, {\"repo\": \"mybinder.org-deploy\", \"createdAt\": \"2020-12-06T00:00:00\", \"count\": 5}, {\"repo\": \"oauthenticator\", \"createdAt\": \"2020-10-25T00:00:00\", \"count\": 1}, {\"repo\": \"oauthenticator\", \"createdAt\": \"2020-11-01T00:00:00\", \"count\": 2}, {\"repo\": \"oauthenticator\", \"createdAt\": \"2020-11-08T00:00:00\", \"count\": 0}, {\"repo\": \"oauthenticator\", \"createdAt\": \"2020-11-15T00:00:00\", \"count\": 1}, {\"repo\": \"oauthenticator\", \"createdAt\": \"2020-11-22T00:00:00\", \"count\": 1}, {\"repo\": \"oauthenticator\", \"createdAt\": \"2020-11-29T00:00:00\", \"count\": 0}, {\"repo\": \"oauthenticator\", \"createdAt\": \"2020-12-06T00:00:00\", \"count\": 1}, {\"repo\": \"pebble-helm-chart\", \"createdAt\": \"2020-11-08T00:00:00\", \"count\": 1}, {\"repo\": \"traefik-proxy\", \"createdAt\": \"2020-12-06T00:00:00\", \"count\": 1}, {\"repo\": \"zero-to-jupyterhub-k8s\", \"createdAt\": \"2020-10-04T00:00:00\", \"count\": 3}, {\"repo\": \"zero-to-jupyterhub-k8s\", \"createdAt\": \"2020-10-11T00:00:00\", \"count\": 12}, {\"repo\": \"zero-to-jupyterhub-k8s\", \"createdAt\": \"2020-10-18T00:00:00\", \"count\": 4}, {\"repo\": \"zero-to-jupyterhub-k8s\", \"createdAt\": \"2020-10-25T00:00:00\", \"count\": 7}, {\"repo\": \"zero-to-jupyterhub-k8s\", \"createdAt\": \"2020-11-01T00:00:00\", \"count\": 13}, {\"repo\": \"zero-to-jupyterhub-k8s\", \"createdAt\": \"2020-11-08T00:00:00\", \"count\": 1}, {\"repo\": \"zero-to-jupyterhub-k8s\", \"createdAt\": \"2020-11-15T00:00:00\", \"count\": 6}, {\"repo\": \"zero-to-jupyterhub-k8s\", \"createdAt\": \"2020-11-22T00:00:00\", \"count\": 1}, {\"repo\": \"zero-to-jupyterhub-k8s\", \"createdAt\": \"2020-11-29T00:00:00\", \"count\": 2}, {\"repo\": \"zero-to-jupyterhub-k8s\", \"createdAt\": \"2020-12-06T00:00:00\", \"count\": 1}], \"data-220636edf8d55db170d06fa2f24325d1\": [{\"createdAt\": \"2019-11-17T00:00:00\", \"count\": 1}, {\"createdAt\": \"2019-11-24T00:00:00\", \"count\": 0}, {\"createdAt\": \"2019-12-01T00:00:00\", \"count\": 0}, {\"createdAt\": \"2019-12-08T00:00:00\", \"count\": 0}, {\"createdAt\": \"2019-12-15T00:00:00\", \"count\": 0}, {\"createdAt\": \"2019-12-22T00:00:00\", \"count\": 0}, {\"createdAt\": \"2019-12-29T00:00:00\", \"count\": 0}, {\"createdAt\": \"2020-01-05T00:00:00\", \"count\": 0}, {\"createdAt\": \"2020-01-12T00:00:00\", \"count\": 0}, {\"createdAt\": \"2020-01-19T00:00:00\", \"count\": 0}, {\"createdAt\": \"2020-01-26T00:00:00\", \"count\": 0}, {\"createdAt\": \"2020-02-02T00:00:00\", \"count\": 0}, {\"createdAt\": \"2020-02-09T00:00:00\", \"count\": 0}, {\"createdAt\": \"2020-02-16T00:00:00\", \"count\": 0}, {\"createdAt\": \"2020-02-23T00:00:00\", \"count\": 0}, {\"createdAt\": \"2020-03-01T00:00:00\", \"count\": 0}, {\"createdAt\": \"2020-03-08T00:00:00\", \"count\": 0}, {\"createdAt\": \"2020-03-15T00:00:00\", \"count\": 0}, {\"createdAt\": \"2020-03-22T00:00:00\", \"count\": 0}, {\"createdAt\": \"2020-03-29T00:00:00\", \"count\": 0}, {\"createdAt\": \"2020-04-05T00:00:00\", \"count\": 0}, {\"createdAt\": \"2020-04-12T00:00:00\", \"count\": 0}, {\"createdAt\": \"2020-04-19T00:00:00\", \"count\": 0}, {\"createdAt\": \"2020-04-26T00:00:00\", \"count\": 0}, {\"createdAt\": \"2020-05-03T00:00:00\", \"count\": 0}, {\"createdAt\": \"2020-05-10T00:00:00\", \"count\": 0}, {\"createdAt\": \"2020-05-17T00:00:00\", \"count\": 0}, {\"createdAt\": \"2020-05-24T00:00:00\", \"count\": 0}, {\"createdAt\": \"2020-05-31T00:00:00\", \"count\": 0}, {\"createdAt\": \"2020-06-07T00:00:00\", \"count\": 0}, {\"createdAt\": \"2020-06-14T00:00:00\", \"count\": 0}, {\"createdAt\": \"2020-06-21T00:00:00\", \"count\": 0}, {\"createdAt\": \"2020-06-28T00:00:00\", \"count\": 0}, {\"createdAt\": \"2020-07-05T00:00:00\", \"count\": 0}, {\"createdAt\": \"2020-07-12T00:00:00\", \"count\": 0}, {\"createdAt\": \"2020-07-19T00:00:00\", \"count\": 0}, {\"createdAt\": \"2020-07-26T00:00:00\", \"count\": 0}, {\"createdAt\": \"2020-08-02T00:00:00\", \"count\": 0}, {\"createdAt\": \"2020-08-09T00:00:00\", \"count\": 0}, {\"createdAt\": \"2020-08-16T00:00:00\", \"count\": 0}, {\"createdAt\": \"2020-08-23T00:00:00\", \"count\": 0}, {\"createdAt\": \"2020-08-30T00:00:00\", \"count\": 0}, {\"createdAt\": \"2020-09-06T00:00:00\", \"count\": 0}, {\"createdAt\": \"2020-09-13T00:00:00\", \"count\": 0}, {\"createdAt\": \"2020-09-20T00:00:00\", \"count\": 0}, {\"createdAt\": \"2020-09-27T00:00:00\", \"count\": 0}, {\"createdAt\": \"2020-10-04T00:00:00\", \"count\": 4}, {\"createdAt\": \"2020-10-11T00:00:00\", \"count\": 13}, {\"createdAt\": \"2020-10-18T00:00:00\", \"count\": 5}, {\"createdAt\": \"2020-10-25T00:00:00\", \"count\": 11}, {\"createdAt\": \"2020-11-01T00:00:00\", \"count\": 32}, {\"createdAt\": \"2020-11-08T00:00:00\", \"count\": 12}, {\"createdAt\": \"2020-11-15T00:00:00\", \"count\": 13}, {\"createdAt\": \"2020-11-22T00:00:00\", \"count\": 7}, {\"createdAt\": \"2020-11-29T00:00:00\", \"count\": 2}, {\"createdAt\": \"2020-12-06T00:00:00\", \"count\": 10}]}}, {\"mode\": \"vega-lite\"});\n",
       "</script>"
      ],
      "text/plain": [
       "alt.LayerChart(...)"
      ]
     },
     "execution_count": 14,
     "metadata": {},
     "output_type": "execute_result"
    }
   ],
   "source": [
    "prs_time = prs.groupby('repo').resample('W', on='createdAt').count()['author'].reset_index()\n",
    "prs_time = prs_time.rename(columns={'author': 'count'})\n",
    "prs_time_total = prs_time.groupby('createdAt').agg({\"count\": \"sum\"}).reset_index()\n",
    "\n",
    "ch1 = alt.Chart(prs_time, width=600).mark_line().encode(\n",
    "    x='createdAt',\n",
    "    y='count',\n",
    "    color='repo',\n",
    "    tooltip=\"repo\"\n",
    ")\n",
    "\n",
    "ch2 = alt.Chart(prs_time_total, width=600).mark_line(color=\"black\").encode(\n",
    "    x='createdAt',\n",
    "    y='count',\n",
    ")\n",
    "\n",
    "ch1 + ch2"
   ]
  },
  {
   "cell_type": "code",
   "execution_count": 15,
   "metadata": {
    "execution": {
     "iopub.execute_input": "2020-12-06T01:40:09.101137Z",
     "iopub.status.busy": "2020-12-06T01:40:09.075559Z",
     "iopub.status.idle": "2020-12-06T01:40:09.136362Z",
     "shell.execute_reply": "2020-12-06T01:40:09.135847Z"
    },
    "papermill": {
     "duration": 0.086395,
     "end_time": "2020-12-06T01:40:09.136516",
     "exception": false,
     "start_time": "2020-12-06T01:40:09.050121",
     "status": "completed"
    },
    "tags": [
     "hide_input"
    ]
   },
   "outputs": [
    {
     "data": {
      "text/html": [
       "\n",
       "<div id=\"altair-viz-2f8e13896e3b41c4b43132bde433228c\"></div>\n",
       "<script type=\"text/javascript\">\n",
       "  (function(spec, embedOpt){\n",
       "    let outputDiv = document.currentScript.previousElementSibling;\n",
       "    if (outputDiv.id !== \"altair-viz-2f8e13896e3b41c4b43132bde433228c\") {\n",
       "      outputDiv = document.getElementById(\"altair-viz-2f8e13896e3b41c4b43132bde433228c\");\n",
       "    }\n",
       "    const paths = {\n",
       "      \"vega\": \"https://cdn.jsdelivr.net/npm//vega@5?noext\",\n",
       "      \"vega-lib\": \"https://cdn.jsdelivr.net/npm//vega-lib?noext\",\n",
       "      \"vega-lite\": \"https://cdn.jsdelivr.net/npm//vega-lite@4.8.1?noext\",\n",
       "      \"vega-embed\": \"https://cdn.jsdelivr.net/npm//vega-embed@6?noext\",\n",
       "    };\n",
       "\n",
       "    function loadScript(lib) {\n",
       "      return new Promise(function(resolve, reject) {\n",
       "        var s = document.createElement('script');\n",
       "        s.src = paths[lib];\n",
       "        s.async = true;\n",
       "        s.onload = () => resolve(paths[lib]);\n",
       "        s.onerror = () => reject(`Error loading script: ${paths[lib]}`);\n",
       "        document.getElementsByTagName(\"head\")[0].appendChild(s);\n",
       "      });\n",
       "    }\n",
       "\n",
       "    function showError(err) {\n",
       "      outputDiv.innerHTML = `<div class=\"error\" style=\"color:red;\">${err}</div>`;\n",
       "      throw err;\n",
       "    }\n",
       "\n",
       "    function displayChart(vegaEmbed) {\n",
       "      vegaEmbed(outputDiv, spec, embedOpt)\n",
       "        .catch(err => showError(`Javascript Error: ${err.message}<br>This usually means there's a typo in your chart specification. See the javascript console for the full traceback.`));\n",
       "    }\n",
       "\n",
       "    if(typeof define === \"function\" && define.amd) {\n",
       "      requirejs.config({paths});\n",
       "      require([\"vega-embed\"], displayChart, err => showError(`Error loading script: ${err.message}`));\n",
       "    } else if (typeof vegaEmbed === \"function\") {\n",
       "      displayChart(vegaEmbed);\n",
       "    } else {\n",
       "      loadScript(\"vega\")\n",
       "        .then(() => loadScript(\"vega-lite\"))\n",
       "        .then(() => loadScript(\"vega-embed\"))\n",
       "        .catch(showError)\n",
       "        .then(() => displayChart(vegaEmbed));\n",
       "    }\n",
       "  })({\"config\": {\"axisLeft\": {\"labelFontSize\": 15}, \"axisBottom\": {\"labelFontSize\": 15}}, \"data\": {\"name\": \"data-4a82b83d5a5d3888941e4d13b4ae175b\"}, \"mark\": \"line\", \"encoding\": {\"color\": {\"type\": \"nominal\", \"field\": \"repo\"}, \"tooltip\": {\"type\": \"nominal\", \"field\": \"repo\"}, \"x\": {\"type\": \"temporal\", \"field\": \"closedAt\"}, \"y\": {\"type\": \"quantitative\", \"field\": \"count\"}}, \"width\": 600, \"$schema\": \"https://vega.github.io/schema/vega-lite/v4.8.1.json\", \"datasets\": {\"data-4a82b83d5a5d3888941e4d13b4ae175b\": [{\"repo\": \"binder\", \"closedAt\": \"2020-10-18T00:00:00\", \"count\": 1}, {\"repo\": \"binder\", \"closedAt\": \"2020-10-25T00:00:00\", \"count\": 0}, {\"repo\": \"binder\", \"closedAt\": \"2020-11-01T00:00:00\", \"count\": 0}, {\"repo\": \"binder\", \"closedAt\": \"2020-11-08T00:00:00\", \"count\": 0}, {\"repo\": \"binder\", \"closedAt\": \"2020-11-15T00:00:00\", \"count\": 1}, {\"repo\": \"binder\", \"closedAt\": \"2020-11-22T00:00:00\", \"count\": 0}, {\"repo\": \"binder\", \"closedAt\": \"2020-11-29T00:00:00\", \"count\": 1}, {\"repo\": \"binderhub\", \"closedAt\": \"2020-10-18T00:00:00\", \"count\": 1}, {\"repo\": \"binderhub\", \"closedAt\": \"2020-10-25T00:00:00\", \"count\": 3}, {\"repo\": \"binderhub\", \"closedAt\": \"2020-11-01T00:00:00\", \"count\": 1}, {\"repo\": \"binderhub\", \"closedAt\": \"2020-11-08T00:00:00\", \"count\": 7}, {\"repo\": \"binderhub\", \"closedAt\": \"2020-11-15T00:00:00\", \"count\": 3}, {\"repo\": \"binderhub\", \"closedAt\": \"2020-11-22T00:00:00\", \"count\": 1}, {\"repo\": \"binderhub\", \"closedAt\": \"2020-11-29T00:00:00\", \"count\": 1}, {\"repo\": \"binderhub\", \"closedAt\": \"2020-12-06T00:00:00\", \"count\": 2}, {\"repo\": \"chartpress\", \"closedAt\": \"2020-11-08T00:00:00\", \"count\": 2}, {\"repo\": \"chartpress\", \"closedAt\": \"2020-11-15T00:00:00\", \"count\": 1}, {\"repo\": \"chartpress\", \"closedAt\": \"2020-11-22T00:00:00\", \"count\": 3}, {\"repo\": \"chartpress\", \"closedAt\": \"2020-11-29T00:00:00\", \"count\": 0}, {\"repo\": \"chartpress\", \"closedAt\": \"2020-12-06T00:00:00\", \"count\": 2}, {\"repo\": \"configurable-http-proxy\", \"closedAt\": \"2020-10-25T00:00:00\", \"count\": 2}, {\"repo\": \"configurable-http-proxy\", \"closedAt\": \"2020-11-01T00:00:00\", \"count\": 1}, {\"repo\": \"configurable-http-proxy\", \"closedAt\": \"2020-11-08T00:00:00\", \"count\": 1}, {\"repo\": \"configurable-http-proxy\", \"closedAt\": \"2020-11-15T00:00:00\", \"count\": 0}, {\"repo\": \"configurable-http-proxy\", \"closedAt\": \"2020-11-22T00:00:00\", \"count\": 0}, {\"repo\": \"configurable-http-proxy\", \"closedAt\": \"2020-11-29T00:00:00\", \"count\": 1}, {\"repo\": \"jupyterhub\", \"closedAt\": \"2020-10-18T00:00:00\", \"count\": 4}, {\"repo\": \"jupyterhub\", \"closedAt\": \"2020-10-25T00:00:00\", \"count\": 0}, {\"repo\": \"jupyterhub\", \"closedAt\": \"2020-11-01T00:00:00\", \"count\": 4}, {\"repo\": \"jupyterhub\", \"closedAt\": \"2020-11-08T00:00:00\", \"count\": 0}, {\"repo\": \"jupyterhub\", \"closedAt\": \"2020-11-15T00:00:00\", \"count\": 2}, {\"repo\": \"jupyterhub\", \"closedAt\": \"2020-11-22T00:00:00\", \"count\": 2}, {\"repo\": \"jupyterhub\", \"closedAt\": \"2020-11-29T00:00:00\", \"count\": 1}, {\"repo\": \"jupyterhub\", \"closedAt\": \"2020-12-06T00:00:00\", \"count\": 3}, {\"repo\": \"kubespawner\", \"closedAt\": \"2020-10-18T00:00:00\", \"count\": 1}, {\"repo\": \"kubespawner\", \"closedAt\": \"2020-10-25T00:00:00\", \"count\": 2}, {\"repo\": \"kubespawner\", \"closedAt\": \"2020-11-01T00:00:00\", \"count\": 0}, {\"repo\": \"kubespawner\", \"closedAt\": \"2020-11-08T00:00:00\", \"count\": 0}, {\"repo\": \"kubespawner\", \"closedAt\": \"2020-11-15T00:00:00\", \"count\": 1}, {\"repo\": \"ltiauthenticator\", \"closedAt\": \"2020-12-06T00:00:00\", \"count\": 1}, {\"repo\": \"mybinder.org-deploy\", \"closedAt\": \"2020-11-01T00:00:00\", \"count\": 1}, {\"repo\": \"mybinder.org-deploy\", \"closedAt\": \"2020-11-08T00:00:00\", \"count\": 0}, {\"repo\": \"mybinder.org-deploy\", \"closedAt\": \"2020-11-15T00:00:00\", \"count\": 0}, {\"repo\": \"mybinder.org-deploy\", \"closedAt\": \"2020-11-22T00:00:00\", \"count\": 0}, {\"repo\": \"mybinder.org-deploy\", \"closedAt\": \"2020-11-29T00:00:00\", \"count\": 0}, {\"repo\": \"mybinder.org-deploy\", \"closedAt\": \"2020-12-06T00:00:00\", \"count\": 3}, {\"repo\": \"oauthenticator\", \"closedAt\": \"2020-11-15T00:00:00\", \"count\": 1}, {\"repo\": \"oauthenticator\", \"closedAt\": \"2020-11-22T00:00:00\", \"count\": 2}, {\"repo\": \"oauthenticator\", \"closedAt\": \"2020-11-29T00:00:00\", \"count\": 0}, {\"repo\": \"oauthenticator\", \"closedAt\": \"2020-12-06T00:00:00\", \"count\": 3}, {\"repo\": \"pebble-helm-chart\", \"closedAt\": \"2020-11-08T00:00:00\", \"count\": 1}, {\"repo\": \"zero-to-jupyterhub-k8s\", \"closedAt\": \"2020-10-11T00:00:00\", \"count\": 13}, {\"repo\": \"zero-to-jupyterhub-k8s\", \"closedAt\": \"2020-10-18T00:00:00\", \"count\": 4}, {\"repo\": \"zero-to-jupyterhub-k8s\", \"closedAt\": \"2020-10-25T00:00:00\", \"count\": 15}, {\"repo\": \"zero-to-jupyterhub-k8s\", \"closedAt\": \"2020-11-01T00:00:00\", \"count\": 15}, {\"repo\": \"zero-to-jupyterhub-k8s\", \"closedAt\": \"2020-11-08T00:00:00\", \"count\": 4}, {\"repo\": \"zero-to-jupyterhub-k8s\", \"closedAt\": \"2020-11-15T00:00:00\", \"count\": 6}, {\"repo\": \"zero-to-jupyterhub-k8s\", \"closedAt\": \"2020-11-22T00:00:00\", \"count\": 1}, {\"repo\": \"zero-to-jupyterhub-k8s\", \"closedAt\": \"2020-11-29T00:00:00\", \"count\": 2}, {\"repo\": \"zero-to-jupyterhub-k8s\", \"closedAt\": \"2020-12-06T00:00:00\", \"count\": 1}]}}, {\"mode\": \"vega-lite\"});\n",
       "</script>"
      ],
      "text/plain": [
       "alt.Chart(...)"
      ]
     },
     "execution_count": 15,
     "metadata": {},
     "output_type": "execute_result"
    }
   ],
   "source": [
    "closed_by_time = closed_by.groupby('repo').resample('W', on='closedAt').count()['author'].reset_index()\n",
    "closed_by_time = closed_by_time.rename(columns={'author': 'count'})\n",
    "\n",
    "alt.Chart(closed_by_time, width=600).mark_line().encode(\n",
    "    x='closedAt',\n",
    "    y='count',\n",
    "    color='repo',\n",
    "    tooltip=\"repo\"\n",
    ")"
   ]
  },
  {
   "cell_type": "markdown",
   "metadata": {
    "papermill": {
     "duration": 0.01571,
     "end_time": "2020-12-06T01:40:09.171280",
     "exception": false,
     "start_time": "2020-12-06T01:40:09.155570",
     "status": "completed"
    },
    "tags": []
   },
   "source": [
    "## By type over time"
   ]
  },
  {
   "cell_type": "code",
   "execution_count": 16,
   "metadata": {
    "execution": {
     "iopub.execute_input": "2020-12-06T01:40:09.210293Z",
     "iopub.status.busy": "2020-12-06T01:40:09.209708Z",
     "iopub.status.idle": "2020-12-06T01:40:09.228751Z",
     "shell.execute_reply": "2020-12-06T01:40:09.229242Z"
    },
    "papermill": {
     "duration": 0.041102,
     "end_time": "2020-12-06T01:40:09.229418",
     "exception": false,
     "start_time": "2020-12-06T01:40:09.188316",
     "status": "completed"
    },
    "tags": [
     "remove_cell"
    ]
   },
   "outputs": [],
   "source": [
    "prs_time = prs[['author', 'createdAt']].resample('W', on='createdAt').count()['author'].reset_index()\n",
    "prs_time = prs_time.rename(columns={'author': 'prs'})\n",
    "comments_time = comments[['author', 'createdAt']].resample('W', on='createdAt').count()['author'].reset_index()\n",
    "comments_time = comments_time.rename(columns={'author': 'comments'})\n",
    "\n",
    "total_time = pd.merge(prs_time, comments_time, on='createdAt', how='outer')\n",
    "total_time = total_time.melt(id_vars='createdAt', var_name=\"kind\", value_name=\"count\")\n"
   ]
  },
  {
   "cell_type": "code",
   "execution_count": 17,
   "metadata": {
    "execution": {
     "iopub.execute_input": "2020-12-06T01:40:09.280195Z",
     "iopub.status.busy": "2020-12-06T01:40:09.279603Z",
     "iopub.status.idle": "2020-12-06T01:40:09.291111Z",
     "shell.execute_reply": "2020-12-06T01:40:09.291579Z"
    },
    "papermill": {
     "duration": 0.045544,
     "end_time": "2020-12-06T01:40:09.291750",
     "exception": false,
     "start_time": "2020-12-06T01:40:09.246206",
     "status": "completed"
    },
    "tags": [
     "hide_input"
    ]
   },
   "outputs": [
    {
     "data": {
      "text/html": [
       "\n",
       "<div id=\"altair-viz-d5a4426505514f25bb942deae2acdfee\"></div>\n",
       "<script type=\"text/javascript\">\n",
       "  (function(spec, embedOpt){\n",
       "    let outputDiv = document.currentScript.previousElementSibling;\n",
       "    if (outputDiv.id !== \"altair-viz-d5a4426505514f25bb942deae2acdfee\") {\n",
       "      outputDiv = document.getElementById(\"altair-viz-d5a4426505514f25bb942deae2acdfee\");\n",
       "    }\n",
       "    const paths = {\n",
       "      \"vega\": \"https://cdn.jsdelivr.net/npm//vega@5?noext\",\n",
       "      \"vega-lib\": \"https://cdn.jsdelivr.net/npm//vega-lib?noext\",\n",
       "      \"vega-lite\": \"https://cdn.jsdelivr.net/npm//vega-lite@4.8.1?noext\",\n",
       "      \"vega-embed\": \"https://cdn.jsdelivr.net/npm//vega-embed@6?noext\",\n",
       "    };\n",
       "\n",
       "    function loadScript(lib) {\n",
       "      return new Promise(function(resolve, reject) {\n",
       "        var s = document.createElement('script');\n",
       "        s.src = paths[lib];\n",
       "        s.async = true;\n",
       "        s.onload = () => resolve(paths[lib]);\n",
       "        s.onerror = () => reject(`Error loading script: ${paths[lib]}`);\n",
       "        document.getElementsByTagName(\"head\")[0].appendChild(s);\n",
       "      });\n",
       "    }\n",
       "\n",
       "    function showError(err) {\n",
       "      outputDiv.innerHTML = `<div class=\"error\" style=\"color:red;\">${err}</div>`;\n",
       "      throw err;\n",
       "    }\n",
       "\n",
       "    function displayChart(vegaEmbed) {\n",
       "      vegaEmbed(outputDiv, spec, embedOpt)\n",
       "        .catch(err => showError(`Javascript Error: ${err.message}<br>This usually means there's a typo in your chart specification. See the javascript console for the full traceback.`));\n",
       "    }\n",
       "\n",
       "    if(typeof define === \"function\" && define.amd) {\n",
       "      requirejs.config({paths});\n",
       "      require([\"vega-embed\"], displayChart, err => showError(`Error loading script: ${err.message}`));\n",
       "    } else if (typeof vegaEmbed === \"function\") {\n",
       "      displayChart(vegaEmbed);\n",
       "    } else {\n",
       "      loadScript(\"vega\")\n",
       "        .then(() => loadScript(\"vega-lite\"))\n",
       "        .then(() => loadScript(\"vega-embed\"))\n",
       "        .catch(showError)\n",
       "        .then(() => displayChart(vegaEmbed));\n",
       "    }\n",
       "  })({\"config\": {\"axisLeft\": {\"labelFontSize\": 15}, \"axisBottom\": {\"labelFontSize\": 15}}, \"data\": {\"name\": \"data-388101d6edfc46ea27b17a5795bf94f6\"}, \"mark\": \"line\", \"encoding\": {\"color\": {\"type\": \"nominal\", \"field\": \"kind\"}, \"x\": {\"type\": \"temporal\", \"field\": \"createdAt\"}, \"y\": {\"type\": \"quantitative\", \"field\": \"count\"}}, \"width\": 600, \"$schema\": \"https://vega.github.io/schema/vega-lite/v4.8.1.json\", \"datasets\": {\"data-388101d6edfc46ea27b17a5795bf94f6\": [{\"createdAt\": \"2019-11-17T00:00:00\", \"kind\": \"prs\", \"count\": 1.0}, {\"createdAt\": \"2019-11-24T00:00:00\", \"kind\": \"prs\", \"count\": 0.0}, {\"createdAt\": \"2019-12-01T00:00:00\", \"kind\": \"prs\", \"count\": 0.0}, {\"createdAt\": \"2019-12-08T00:00:00\", \"kind\": \"prs\", \"count\": 0.0}, {\"createdAt\": \"2019-12-15T00:00:00\", \"kind\": \"prs\", \"count\": 0.0}, {\"createdAt\": \"2019-12-22T00:00:00\", \"kind\": \"prs\", \"count\": 0.0}, {\"createdAt\": \"2019-12-29T00:00:00\", \"kind\": \"prs\", \"count\": 0.0}, {\"createdAt\": \"2020-01-05T00:00:00\", \"kind\": \"prs\", \"count\": 0.0}, {\"createdAt\": \"2020-01-12T00:00:00\", \"kind\": \"prs\", \"count\": 0.0}, {\"createdAt\": \"2020-01-19T00:00:00\", \"kind\": \"prs\", \"count\": 0.0}, {\"createdAt\": \"2020-01-26T00:00:00\", \"kind\": \"prs\", \"count\": 0.0}, {\"createdAt\": \"2020-02-02T00:00:00\", \"kind\": \"prs\", \"count\": 0.0}, {\"createdAt\": \"2020-02-09T00:00:00\", \"kind\": \"prs\", \"count\": 0.0}, {\"createdAt\": \"2020-02-16T00:00:00\", \"kind\": \"prs\", \"count\": 0.0}, {\"createdAt\": \"2020-02-23T00:00:00\", \"kind\": \"prs\", \"count\": 0.0}, {\"createdAt\": \"2020-03-01T00:00:00\", \"kind\": \"prs\", \"count\": 0.0}, {\"createdAt\": \"2020-03-08T00:00:00\", \"kind\": \"prs\", \"count\": 0.0}, {\"createdAt\": \"2020-03-15T00:00:00\", \"kind\": \"prs\", \"count\": 0.0}, {\"createdAt\": \"2020-03-22T00:00:00\", \"kind\": \"prs\", \"count\": 0.0}, {\"createdAt\": \"2020-03-29T00:00:00\", \"kind\": \"prs\", \"count\": 0.0}, {\"createdAt\": \"2020-04-05T00:00:00\", \"kind\": \"prs\", \"count\": 0.0}, {\"createdAt\": \"2020-04-12T00:00:00\", \"kind\": \"prs\", \"count\": 0.0}, {\"createdAt\": \"2020-04-19T00:00:00\", \"kind\": \"prs\", \"count\": 0.0}, {\"createdAt\": \"2020-04-26T00:00:00\", \"kind\": \"prs\", \"count\": 0.0}, {\"createdAt\": \"2020-05-03T00:00:00\", \"kind\": \"prs\", \"count\": 0.0}, {\"createdAt\": \"2020-05-10T00:00:00\", \"kind\": \"prs\", \"count\": 0.0}, {\"createdAt\": \"2020-05-17T00:00:00\", \"kind\": \"prs\", \"count\": 0.0}, {\"createdAt\": \"2020-05-24T00:00:00\", \"kind\": \"prs\", \"count\": 0.0}, {\"createdAt\": \"2020-05-31T00:00:00\", \"kind\": \"prs\", \"count\": 0.0}, {\"createdAt\": \"2020-06-07T00:00:00\", \"kind\": \"prs\", \"count\": 0.0}, {\"createdAt\": \"2020-06-14T00:00:00\", \"kind\": \"prs\", \"count\": 0.0}, {\"createdAt\": \"2020-06-21T00:00:00\", \"kind\": \"prs\", \"count\": 0.0}, {\"createdAt\": \"2020-06-28T00:00:00\", \"kind\": \"prs\", \"count\": 0.0}, {\"createdAt\": \"2020-07-05T00:00:00\", \"kind\": \"prs\", \"count\": 0.0}, {\"createdAt\": \"2020-07-12T00:00:00\", \"kind\": \"prs\", \"count\": 0.0}, {\"createdAt\": \"2020-07-19T00:00:00\", \"kind\": \"prs\", \"count\": 0.0}, {\"createdAt\": \"2020-07-26T00:00:00\", \"kind\": \"prs\", \"count\": 0.0}, {\"createdAt\": \"2020-08-02T00:00:00\", \"kind\": \"prs\", \"count\": 0.0}, {\"createdAt\": \"2020-08-09T00:00:00\", \"kind\": \"prs\", \"count\": 0.0}, {\"createdAt\": \"2020-08-16T00:00:00\", \"kind\": \"prs\", \"count\": 0.0}, {\"createdAt\": \"2020-08-23T00:00:00\", \"kind\": \"prs\", \"count\": 0.0}, {\"createdAt\": \"2020-08-30T00:00:00\", \"kind\": \"prs\", \"count\": 0.0}, {\"createdAt\": \"2020-09-06T00:00:00\", \"kind\": \"prs\", \"count\": 0.0}, {\"createdAt\": \"2020-09-13T00:00:00\", \"kind\": \"prs\", \"count\": 0.0}, {\"createdAt\": \"2020-09-20T00:00:00\", \"kind\": \"prs\", \"count\": 0.0}, {\"createdAt\": \"2020-09-27T00:00:00\", \"kind\": \"prs\", \"count\": 0.0}, {\"createdAt\": \"2020-10-04T00:00:00\", \"kind\": \"prs\", \"count\": 4.0}, {\"createdAt\": \"2020-10-11T00:00:00\", \"kind\": \"prs\", \"count\": 13.0}, {\"createdAt\": \"2020-10-18T00:00:00\", \"kind\": \"prs\", \"count\": 5.0}, {\"createdAt\": \"2020-10-25T00:00:00\", \"kind\": \"prs\", \"count\": 11.0}, {\"createdAt\": \"2020-11-01T00:00:00\", \"kind\": \"prs\", \"count\": 32.0}, {\"createdAt\": \"2020-11-08T00:00:00\", \"kind\": \"prs\", \"count\": 12.0}, {\"createdAt\": \"2020-11-15T00:00:00\", \"kind\": \"prs\", \"count\": 13.0}, {\"createdAt\": \"2020-11-22T00:00:00\", \"kind\": \"prs\", \"count\": 7.0}, {\"createdAt\": \"2020-11-29T00:00:00\", \"kind\": \"prs\", \"count\": 2.0}, {\"createdAt\": \"2020-12-06T00:00:00\", \"kind\": \"prs\", \"count\": 10.0}, {\"createdAt\": \"2019-11-17T00:00:00\", \"kind\": \"comments\", \"count\": null}, {\"createdAt\": \"2019-11-24T00:00:00\", \"kind\": \"comments\", \"count\": null}, {\"createdAt\": \"2019-12-01T00:00:00\", \"kind\": \"comments\", \"count\": null}, {\"createdAt\": \"2019-12-08T00:00:00\", \"kind\": \"comments\", \"count\": null}, {\"createdAt\": \"2019-12-15T00:00:00\", \"kind\": \"comments\", \"count\": null}, {\"createdAt\": \"2019-12-22T00:00:00\", \"kind\": \"comments\", \"count\": null}, {\"createdAt\": \"2019-12-29T00:00:00\", \"kind\": \"comments\", \"count\": null}, {\"createdAt\": \"2020-01-05T00:00:00\", \"kind\": \"comments\", \"count\": null}, {\"createdAt\": \"2020-01-12T00:00:00\", \"kind\": \"comments\", \"count\": null}, {\"createdAt\": \"2020-01-19T00:00:00\", \"kind\": \"comments\", \"count\": null}, {\"createdAt\": \"2020-01-26T00:00:00\", \"kind\": \"comments\", \"count\": null}, {\"createdAt\": \"2020-02-02T00:00:00\", \"kind\": \"comments\", \"count\": null}, {\"createdAt\": \"2020-02-09T00:00:00\", \"kind\": \"comments\", \"count\": null}, {\"createdAt\": \"2020-02-16T00:00:00\", \"kind\": \"comments\", \"count\": null}, {\"createdAt\": \"2020-02-23T00:00:00\", \"kind\": \"comments\", \"count\": null}, {\"createdAt\": \"2020-03-01T00:00:00\", \"kind\": \"comments\", \"count\": null}, {\"createdAt\": \"2020-03-08T00:00:00\", \"kind\": \"comments\", \"count\": null}, {\"createdAt\": \"2020-03-15T00:00:00\", \"kind\": \"comments\", \"count\": null}, {\"createdAt\": \"2020-03-22T00:00:00\", \"kind\": \"comments\", \"count\": null}, {\"createdAt\": \"2020-03-29T00:00:00\", \"kind\": \"comments\", \"count\": null}, {\"createdAt\": \"2020-04-05T00:00:00\", \"kind\": \"comments\", \"count\": null}, {\"createdAt\": \"2020-04-12T00:00:00\", \"kind\": \"comments\", \"count\": null}, {\"createdAt\": \"2020-04-19T00:00:00\", \"kind\": \"comments\", \"count\": null}, {\"createdAt\": \"2020-04-26T00:00:00\", \"kind\": \"comments\", \"count\": null}, {\"createdAt\": \"2020-05-03T00:00:00\", \"kind\": \"comments\", \"count\": null}, {\"createdAt\": \"2020-05-10T00:00:00\", \"kind\": \"comments\", \"count\": null}, {\"createdAt\": \"2020-05-17T00:00:00\", \"kind\": \"comments\", \"count\": null}, {\"createdAt\": \"2020-05-24T00:00:00\", \"kind\": \"comments\", \"count\": null}, {\"createdAt\": \"2020-05-31T00:00:00\", \"kind\": \"comments\", \"count\": null}, {\"createdAt\": \"2020-06-07T00:00:00\", \"kind\": \"comments\", \"count\": null}, {\"createdAt\": \"2020-06-14T00:00:00\", \"kind\": \"comments\", \"count\": null}, {\"createdAt\": \"2020-06-21T00:00:00\", \"kind\": \"comments\", \"count\": null}, {\"createdAt\": \"2020-06-28T00:00:00\", \"kind\": \"comments\", \"count\": null}, {\"createdAt\": \"2020-07-05T00:00:00\", \"kind\": \"comments\", \"count\": null}, {\"createdAt\": \"2020-07-12T00:00:00\", \"kind\": \"comments\", \"count\": null}, {\"createdAt\": \"2020-07-19T00:00:00\", \"kind\": \"comments\", \"count\": null}, {\"createdAt\": \"2020-07-26T00:00:00\", \"kind\": \"comments\", \"count\": null}, {\"createdAt\": \"2020-08-02T00:00:00\", \"kind\": \"comments\", \"count\": null}, {\"createdAt\": \"2020-08-09T00:00:00\", \"kind\": \"comments\", \"count\": null}, {\"createdAt\": \"2020-08-16T00:00:00\", \"kind\": \"comments\", \"count\": null}, {\"createdAt\": \"2020-08-23T00:00:00\", \"kind\": \"comments\", \"count\": null}, {\"createdAt\": \"2020-08-30T00:00:00\", \"kind\": \"comments\", \"count\": null}, {\"createdAt\": \"2020-09-06T00:00:00\", \"kind\": \"comments\", \"count\": null}, {\"createdAt\": \"2020-09-13T00:00:00\", \"kind\": \"comments\", \"count\": null}, {\"createdAt\": \"2020-09-20T00:00:00\", \"kind\": \"comments\", \"count\": null}, {\"createdAt\": \"2020-09-27T00:00:00\", \"kind\": \"comments\", \"count\": null}, {\"createdAt\": \"2020-10-04T00:00:00\", \"kind\": \"comments\", \"count\": null}, {\"createdAt\": \"2020-10-11T00:00:00\", \"kind\": \"comments\", \"count\": 118.0}, {\"createdAt\": \"2020-10-18T00:00:00\", \"kind\": \"comments\", \"count\": 59.0}, {\"createdAt\": \"2020-10-25T00:00:00\", \"kind\": \"comments\", \"count\": 136.0}, {\"createdAt\": \"2020-11-01T00:00:00\", \"kind\": \"comments\", \"count\": 84.0}, {\"createdAt\": \"2020-11-08T00:00:00\", \"kind\": \"comments\", \"count\": 34.0}, {\"createdAt\": \"2020-11-15T00:00:00\", \"kind\": \"comments\", \"count\": 45.0}, {\"createdAt\": \"2020-11-22T00:00:00\", \"kind\": \"comments\", \"count\": 36.0}, {\"createdAt\": \"2020-11-29T00:00:00\", \"kind\": \"comments\", \"count\": 18.0}, {\"createdAt\": \"2020-12-06T00:00:00\", \"kind\": \"comments\", \"count\": 36.0}]}}, {\"mode\": \"vega-lite\"});\n",
       "</script>"
      ],
      "text/plain": [
       "alt.Chart(...)"
      ]
     },
     "execution_count": 17,
     "metadata": {},
     "output_type": "execute_result"
    }
   ],
   "source": [
    "alt.Chart(total_time, width=600).mark_line().encode(\n",
    "    x='createdAt',\n",
    "    y='count',\n",
    "    color='kind'\n",
    ")"
   ]
  }
 ],
 "metadata": {
  "kernelspec": {
   "display_name": "Python 3",
   "language": "python",
   "name": "python3"
  },
  "language_info": {
   "codemirror_mode": {
    "name": "ipython",
    "version": 3
   },
   "file_extension": ".py",
   "mimetype": "text/x-python",
   "name": "python",
   "nbconvert_exporter": "python",
   "pygments_lexer": "ipython3",
   "version": "3.7.9"
  },
  "papermill": {
   "default_parameters": {},
   "duration": 3.522972,
   "end_time": "2020-12-06T01:40:09.720522",
   "environment_variables": {},
   "exception": null,
   "input_path": "./person.ipynb",
   "output_path": "people/consideRatio.ipynb",
   "parameters": {
    "n_days": 60,
    "person": "consideRatio"
   },
   "start_time": "2020-12-06T01:40:06.197550",
   "version": "2.2.2"
  },
  "widgets": {
   "application/vnd.jupyter.widget-state+json": {
    "state": {},
    "version_major": 2,
    "version_minor": 0
   }
  }
 },
 "nbformat": 4,
 "nbformat_minor": 4
}