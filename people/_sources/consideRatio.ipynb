{
 "cells": [
  {
   "cell_type": "markdown",
   "id": "898f393b",
   "metadata": {
    "papermill": {
     "duration": 0.019984,
     "end_time": "2021-11-18T01:34:21.528815",
     "exception": false,
     "start_time": "2021-11-18T01:34:21.508831",
     "status": "completed"
    },
    "tags": []
   },
   "source": [
    "# Report for consideRatio"
   ]
  },
  {
   "cell_type": "code",
   "execution_count": 1,
   "id": "576e12ad",
   "metadata": {
    "execution": {
     "iopub.execute_input": "2021-11-18T01:34:21.569969Z",
     "iopub.status.busy": "2021-11-18T01:34:21.569386Z",
     "iopub.status.idle": "2021-11-18T01:34:23.176350Z",
     "shell.execute_reply": "2021-11-18T01:34:23.175345Z"
    },
    "papermill": {
     "duration": 1.631921,
     "end_time": "2021-11-18T01:34:23.176529",
     "exception": false,
     "start_time": "2021-11-18T01:34:21.544608",
     "status": "completed"
    },
    "tags": [
     "remove_cell"
    ]
   },
   "outputs": [],
   "source": [
    "import seaborn as sns\n",
    "import pandas as pd\n",
    "import numpy as np\n",
    "import altair as alt\n",
    "from markdown import markdown\n",
    "from IPython.display import Markdown\n",
    "from ipywidgets.widgets import HTML, Tab\n",
    "from ipywidgets import widgets\n",
    "from datetime import timedelta\n",
    "from matplotlib import pyplot as plt\n",
    "import os.path as op\n",
    "\n",
    "from mycode import alt_theme\n",
    "from warnings import simplefilter\n",
    "simplefilter('ignore')"
   ]
  },
  {
   "cell_type": "code",
   "execution_count": 2,
   "id": "de4cc7b4",
   "metadata": {
    "execution": {
     "iopub.execute_input": "2021-11-18T01:34:23.209395Z",
     "iopub.status.busy": "2021-11-18T01:34:23.208802Z",
     "iopub.status.idle": "2021-11-18T01:34:23.210842Z",
     "shell.execute_reply": "2021-11-18T01:34:23.210260Z"
    },
    "papermill": {
     "duration": 0.019199,
     "end_time": "2021-11-18T01:34:23.210989",
     "exception": false,
     "start_time": "2021-11-18T01:34:23.191790",
     "status": "completed"
    },
    "tags": [
     "remove_cell"
    ]
   },
   "outputs": [],
   "source": [
    "def author_url(author):\n",
    "    return f\"https://github.com/{author}\""
   ]
  },
  {
   "cell_type": "code",
   "execution_count": 3,
   "id": "1e819b9d",
   "metadata": {
    "execution": {
     "iopub.execute_input": "2021-11-18T01:34:23.244573Z",
     "iopub.status.busy": "2021-11-18T01:34:23.243982Z",
     "iopub.status.idle": "2021-11-18T01:34:23.246699Z",
     "shell.execute_reply": "2021-11-18T01:34:23.247276Z"
    },
    "papermill": {
     "duration": 0.023505,
     "end_time": "2021-11-18T01:34:23.247445",
     "exception": false,
     "start_time": "2021-11-18T01:34:23.223940",
     "status": "completed"
    },
    "tags": [
     "parameters",
     "hide_input"
    ]
   },
   "outputs": [],
   "source": [
    "# Parameters\n",
    "fmt_date = \"{:%Y-%m-%d}\"\n",
    "\n",
    "n_days = 30 * 2\n",
    "start_date = fmt_date.format(pd.datetime.today() - timedelta(days=n_days))\n",
    "end_date = fmt_date.format(pd.datetime.today())\n",
    "\n",
    "renderer = \"html\"\n",
    "person = \"jasongrout\""
   ]
  },
  {
   "cell_type": "code",
   "execution_count": 4,
   "id": "5984f1c0",
   "metadata": {
    "execution": {
     "iopub.execute_input": "2021-11-18T01:34:23.282772Z",
     "iopub.status.busy": "2021-11-18T01:34:23.281033Z",
     "iopub.status.idle": "2021-11-18T01:34:23.283388Z",
     "shell.execute_reply": "2021-11-18T01:34:23.283952Z"
    },
    "papermill": {
     "duration": 0.021316,
     "end_time": "2021-11-18T01:34:23.284127",
     "exception": false,
     "start_time": "2021-11-18T01:34:23.262811",
     "status": "completed"
    },
    "tags": [
     "injected-parameters",
     "remove-cell"
    ]
   },
   "outputs": [],
   "source": [
    "# Parameters\n",
    "person = \"consideRatio\"\n",
    "n_days = 90\n"
   ]
  },
  {
   "cell_type": "code",
   "execution_count": 5,
   "id": "3a77ad4b",
   "metadata": {
    "execution": {
     "iopub.execute_input": "2021-11-18T01:34:23.333955Z",
     "iopub.status.busy": "2021-11-18T01:34:23.333330Z",
     "iopub.status.idle": "2021-11-18T01:34:23.336644Z",
     "shell.execute_reply": "2021-11-18T01:34:23.335995Z"
    },
    "papermill": {
     "duration": 0.031981,
     "end_time": "2021-11-18T01:34:23.336801",
     "exception": false,
     "start_time": "2021-11-18T01:34:23.304820",
     "status": "completed"
    },
    "tags": [
     "remove_cell"
    ]
   },
   "outputs": [
    {
     "data": {
      "text/plain": [
       "ThemeRegistry.enable('my_theme')"
      ]
     },
     "execution_count": 5,
     "metadata": {},
     "output_type": "execute_result"
    }
   ],
   "source": [
    "alt.renderers.enable(renderer);\n",
    "alt.themes.register('my_theme', alt_theme)\n",
    "alt.themes.enable(\"my_theme\")"
   ]
  },
  {
   "cell_type": "markdown",
   "id": "0e346fb3",
   "metadata": {
    "papermill": {
     "duration": 0.014652,
     "end_time": "2021-11-18T01:34:23.366721",
     "exception": false,
     "start_time": "2021-11-18T01:34:23.352069",
     "status": "completed"
    },
    "tags": []
   },
   "source": [
    "## Load data"
   ]
  },
  {
   "cell_type": "code",
   "execution_count": 6,
   "id": "618c4c05",
   "metadata": {
    "execution": {
     "iopub.execute_input": "2021-11-18T01:34:23.402243Z",
     "iopub.status.busy": "2021-11-18T01:34:23.401641Z",
     "iopub.status.idle": "2021-11-18T01:34:23.531673Z",
     "shell.execute_reply": "2021-11-18T01:34:23.532153Z"
    },
    "papermill": {
     "duration": 0.151481,
     "end_time": "2021-11-18T01:34:23.532373",
     "exception": false,
     "start_time": "2021-11-18T01:34:23.380892",
     "status": "completed"
    },
    "tags": [
     "remove_cell"
    ]
   },
   "outputs": [],
   "source": [
    "from pathlib import Path\n",
    "path_data = Path(\"./\")\n",
    "comments = pd.read_csv(path_data.joinpath('../data/comments.csv'), index_col=0)\n",
    "issues = pd.read_csv(path_data.joinpath('../data/issues.csv'), index_col=0)\n",
    "prs = pd.read_csv(path_data.joinpath('../data/prs.csv'), index_col=0)\n",
    "\n",
    "comments = comments.query('author == @person').drop_duplicates()\n",
    "issues = issues.query('author == @person').drop_duplicates()\n",
    "closed_by = prs.query('mergedBy == @person')\n",
    "prs = prs.query('author == @person').drop_duplicates()"
   ]
  },
  {
   "cell_type": "code",
   "execution_count": 7,
   "id": "b0a589a7",
   "metadata": {
    "execution": {
     "iopub.execute_input": "2021-11-18T01:34:23.594190Z",
     "iopub.status.busy": "2021-11-18T01:34:23.591706Z",
     "iopub.status.idle": "2021-11-18T01:34:23.623346Z",
     "shell.execute_reply": "2021-11-18T01:34:23.622839Z"
    },
    "papermill": {
     "duration": 0.074678,
     "end_time": "2021-11-18T01:34:23.623494",
     "exception": false,
     "start_time": "2021-11-18T01:34:23.548816",
     "status": "completed"
    },
    "tags": [
     "remove_cell"
    ]
   },
   "outputs": [],
   "source": [
    "# Time columns\n",
    "# Also drop dates outside of our range\n",
    "time_columns = ['updatedAt', 'createdAt', 'closedAt']\n",
    "for col in time_columns:\n",
    "    for item in [comments, issues, prs, closed_by]:\n",
    "        if col not in item.columns:\n",
    "            continue\n",
    "        dt = pd.to_datetime(item[col]).dt.tz_localize(None)\n",
    "        item[col] = dt\n",
    "        item.query(\"updatedAt < @end_date and updatedAt > @start_date\", inplace=True)"
   ]
  },
  {
   "cell_type": "markdown",
   "id": "2ed931a0",
   "metadata": {
    "papermill": {
     "duration": 0.015646,
     "end_time": "2021-11-18T01:34:23.654042",
     "exception": false,
     "start_time": "2021-11-18T01:34:23.638396",
     "status": "completed"
    },
    "tags": []
   },
   "source": [
    "## Repository summaries"
   ]
  },
  {
   "cell_type": "code",
   "execution_count": 8,
   "id": "309c5d1a",
   "metadata": {
    "execution": {
     "iopub.execute_input": "2021-11-18T01:34:23.690446Z",
     "iopub.status.busy": "2021-11-18T01:34:23.689856Z",
     "iopub.status.idle": "2021-11-18T01:34:23.708218Z",
     "shell.execute_reply": "2021-11-18T01:34:23.707685Z"
    },
    "papermill": {
     "duration": 0.037424,
     "end_time": "2021-11-18T01:34:23.708372",
     "exception": false,
     "start_time": "2021-11-18T01:34:23.670948",
     "status": "completed"
    },
    "tags": [
     "remove_cell"
    ]
   },
   "outputs": [],
   "source": [
    "summaries = []\n",
    "for idata, name in [(issues, 'issues'), (prs, 'prs'), (comments, 'comments')]:\n",
    "    idata = idata.groupby([\"repo\", \"org\"]).agg({'id': \"count\"}).reset_index().rename(columns={'id': 'count'})\n",
    "    idata[\"kind\"] = name\n",
    "    summaries.append(idata)\n",
    "summaries = pd.concat(summaries)"
   ]
  },
  {
   "cell_type": "code",
   "execution_count": 9,
   "id": "99675a37",
   "metadata": {
    "execution": {
     "iopub.execute_input": "2021-11-18T01:34:23.749382Z",
     "iopub.status.busy": "2021-11-18T01:34:23.744409Z",
     "iopub.status.idle": "2021-11-18T01:34:23.755783Z",
     "shell.execute_reply": "2021-11-18T01:34:23.754916Z"
    },
    "papermill": {
     "duration": 0.032223,
     "end_time": "2021-11-18T01:34:23.755960",
     "exception": false,
     "start_time": "2021-11-18T01:34:23.723737",
     "status": "completed"
    },
    "tags": [
     "remove_cell"
    ]
   },
   "outputs": [],
   "source": [
    "repo_summaries = summaries.groupby([\"repo\", \"kind\"]).agg({\"count\": \"sum\"}).reset_index()\n",
    "org_summaries = summaries.groupby([\"org\", \"kind\"]).agg({\"count\": \"sum\"}).reset_index()"
   ]
  },
  {
   "cell_type": "code",
   "execution_count": 10,
   "id": "d2151ba6",
   "metadata": {
    "execution": {
     "iopub.execute_input": "2021-11-18T01:34:23.800129Z",
     "iopub.status.busy": "2021-11-18T01:34:23.799391Z",
     "iopub.status.idle": "2021-11-18T01:34:23.800938Z",
     "shell.execute_reply": "2021-11-18T01:34:23.801410Z"
    },
    "papermill": {
     "duration": 0.027572,
     "end_time": "2021-11-18T01:34:23.801589",
     "exception": false,
     "start_time": "2021-11-18T01:34:23.774017",
     "status": "completed"
    },
    "tags": [
     "remove_cell"
    ]
   },
   "outputs": [],
   "source": [
    "repo_summaries['logcount'] = np.log(repo_summaries[\"count\"])"
   ]
  },
  {
   "cell_type": "code",
   "execution_count": 11,
   "id": "4c2b93e5",
   "metadata": {
    "execution": {
     "iopub.execute_input": "2021-11-18T01:34:23.840975Z",
     "iopub.status.busy": "2021-11-18T01:34:23.839212Z",
     "iopub.status.idle": "2021-11-18T01:34:23.890725Z",
     "shell.execute_reply": "2021-11-18T01:34:23.891217Z"
    },
    "papermill": {
     "duration": 0.074152,
     "end_time": "2021-11-18T01:34:23.891480",
     "exception": false,
     "start_time": "2021-11-18T01:34:23.817328",
     "status": "completed"
    },
    "tags": [
     "hide_input"
    ]
   },
   "outputs": [
    {
     "data": {
      "text/html": [
       "\n",
       "<div id=\"altair-viz-e52650025cec42bfb9e8acef22632f20\"></div>\n",
       "<script type=\"text/javascript\">\n",
       "  (function(spec, embedOpt){\n",
       "    let outputDiv = document.currentScript.previousElementSibling;\n",
       "    if (outputDiv.id !== \"altair-viz-e52650025cec42bfb9e8acef22632f20\") {\n",
       "      outputDiv = document.getElementById(\"altair-viz-e52650025cec42bfb9e8acef22632f20\");\n",
       "    }\n",
       "    const paths = {\n",
       "      \"vega\": \"https://cdn.jsdelivr.net/npm//vega@5?noext\",\n",
       "      \"vega-lib\": \"https://cdn.jsdelivr.net/npm//vega-lib?noext\",\n",
       "      \"vega-lite\": \"https://cdn.jsdelivr.net/npm//vega-lite@4.8.1?noext\",\n",
       "      \"vega-embed\": \"https://cdn.jsdelivr.net/npm//vega-embed@6?noext\",\n",
       "    };\n",
       "\n",
       "    function loadScript(lib) {\n",
       "      return new Promise(function(resolve, reject) {\n",
       "        var s = document.createElement('script');\n",
       "        s.src = paths[lib];\n",
       "        s.async = true;\n",
       "        s.onload = () => resolve(paths[lib]);\n",
       "        s.onerror = () => reject(`Error loading script: ${paths[lib]}`);\n",
       "        document.getElementsByTagName(\"head\")[0].appendChild(s);\n",
       "      });\n",
       "    }\n",
       "\n",
       "    function showError(err) {\n",
       "      outputDiv.innerHTML = `<div class=\"error\" style=\"color:red;\">${err}</div>`;\n",
       "      throw err;\n",
       "    }\n",
       "\n",
       "    function displayChart(vegaEmbed) {\n",
       "      vegaEmbed(outputDiv, spec, embedOpt)\n",
       "        .catch(err => showError(`Javascript Error: ${err.message}<br>This usually means there's a typo in your chart specification. See the javascript console for the full traceback.`));\n",
       "    }\n",
       "\n",
       "    if(typeof define === \"function\" && define.amd) {\n",
       "      requirejs.config({paths});\n",
       "      require([\"vega-embed\"], displayChart, err => showError(`Error loading script: ${err.message}`));\n",
       "    } else if (typeof vegaEmbed === \"function\") {\n",
       "      displayChart(vegaEmbed);\n",
       "    } else {\n",
       "      loadScript(\"vega\")\n",
       "        .then(() => loadScript(\"vega-lite\"))\n",
       "        .then(() => loadScript(\"vega-embed\"))\n",
       "        .catch(showError)\n",
       "        .then(() => displayChart(vegaEmbed));\n",
       "    }\n",
       "  })({\"config\": {\"axisLeft\": {\"labelFontSize\": 15}, \"axisBottom\": {\"labelFontSize\": 15}}, \"hconcat\": [{\"mark\": \"bar\", \"encoding\": {\"color\": {\"type\": \"nominal\", \"field\": \"kind\"}, \"tooltip\": {\"type\": \"nominal\", \"field\": \"kind\"}, \"x\": {\"type\": \"nominal\", \"field\": \"repo\"}, \"y\": {\"type\": \"quantitative\", \"field\": \"count\"}}, \"title\": \"Activity per repository\", \"width\": 600}, {\"mark\": \"bar\", \"encoding\": {\"color\": {\"type\": \"nominal\", \"field\": \"kind\"}, \"tooltip\": {\"type\": \"nominal\", \"field\": \"kind\"}, \"x\": {\"type\": \"nominal\", \"field\": \"repo\"}, \"y\": {\"type\": \"quantitative\", \"field\": \"logcount\"}}, \"title\": \"Log activity per repository\", \"width\": 600}], \"data\": {\"name\": \"data-9a401af0ca43d51c6688b7a1ec8fd605\"}, \"$schema\": \"https://vega.github.io/schema/vega-lite/v4.8.1.json\", \"datasets\": {\"data-9a401af0ca43d51c6688b7a1ec8fd605\": [{\"repo\": \".github\", \"kind\": \"comments\", \"count\": 1, \"logcount\": 0.0}, {\"repo\": \".github\", \"kind\": \"issues\", \"count\": 1, \"logcount\": 0.0}, {\"repo\": \"action-k3s-helm\", \"kind\": \"comments\", \"count\": 5, \"logcount\": 1.6094379124341003}, {\"repo\": \"action-k3s-helm\", \"kind\": \"issues\", \"count\": 3, \"logcount\": 1.0986122886681098}, {\"repo\": \"action-k3s-helm\", \"kind\": \"prs\", \"count\": 5, \"logcount\": 1.6094379124341003}, {\"repo\": \"action-k8s-await-workloads\", \"kind\": \"comments\", \"count\": 1, \"logcount\": 0.0}, {\"repo\": \"action-k8s-namespace-report\", \"kind\": \"prs\", \"count\": 2, \"logcount\": 0.6931471805599453}, {\"repo\": \"action-major-minor-tag-calculator\", \"kind\": \"comments\", \"count\": 5, \"logcount\": 1.6094379124341003}, {\"repo\": \"action-major-minor-tag-calculator\", \"kind\": \"prs\", \"count\": 1, \"logcount\": 0.0}, {\"repo\": \"autodoc-traits\", \"kind\": \"comments\", \"count\": 1, \"logcount\": 0.0}, {\"repo\": \"autodoc-traits\", \"kind\": \"issues\", \"count\": 1, \"logcount\": 0.0}, {\"repo\": \"binderhub\", \"kind\": \"comments\", \"count\": 54, \"logcount\": 3.9889840465642745}, {\"repo\": \"binderhub\", \"kind\": \"issues\", \"count\": 11, \"logcount\": 2.3978952727983707}, {\"repo\": \"binderhub\", \"kind\": \"prs\", \"count\": 23, \"logcount\": 3.1354942159291497}, {\"repo\": \"configurable-http-proxy\", \"kind\": \"comments\", \"count\": 1, \"logcount\": 0.0}, {\"repo\": \"docker-image-cleaner\", \"kind\": \"comments\", \"count\": 3, \"logcount\": 1.0986122886681098}, {\"repo\": \"docker-image-cleaner\", \"kind\": \"issues\", \"count\": 4, \"logcount\": 1.3862943611198906}, {\"repo\": \"docker-image-cleaner\", \"kind\": \"prs\", \"count\": 1, \"logcount\": 0.0}, {\"repo\": \"docker-stacks\", \"kind\": \"comments\", \"count\": 16, \"logcount\": 2.772588722239781}, {\"repo\": \"docker-stacks\", \"kind\": \"issues\", \"count\": 1, \"logcount\": 0.0}, {\"repo\": \"firstuseauthenticator\", \"kind\": \"comments\", \"count\": 2, \"logcount\": 0.6931471805599453}, {\"repo\": \"firstuseauthenticator\", \"kind\": \"issues\", \"count\": 2, \"logcount\": 0.6931471805599453}, {\"repo\": \"firstuseauthenticator\", \"kind\": \"prs\", \"count\": 5, \"logcount\": 1.6094379124341003}, {\"repo\": \"helm-chart\", \"kind\": \"comments\", \"count\": 1, \"logcount\": 0.0}, {\"repo\": \"jupyter-server-proxy\", \"kind\": \"comments\", \"count\": 4, \"logcount\": 1.3862943611198906}, {\"repo\": \"jupyterhub\", \"kind\": \"comments\", \"count\": 19, \"logcount\": 2.9444389791664403}, {\"repo\": \"jupyterhub\", \"kind\": \"issues\", \"count\": 5, \"logcount\": 1.6094379124341003}, {\"repo\": \"jupyterhub\", \"kind\": \"prs\", \"count\": 3, \"logcount\": 1.0986122886681098}, {\"repo\": \"jupyterhub-idle-culler\", \"kind\": \"comments\", \"count\": 7, \"logcount\": 1.9459101490553132}, {\"repo\": \"jupyterhub-idle-culler\", \"kind\": \"issues\", \"count\": 2, \"logcount\": 0.6931471805599453}, {\"repo\": \"jupyterhub-idle-culler\", \"kind\": \"prs\", \"count\": 6, \"logcount\": 1.791759469228055}, {\"repo\": \"jupyterlab-git\", \"kind\": \"comments\", \"count\": 2, \"logcount\": 0.6931471805599453}, {\"repo\": \"jupyterlab_server\", \"kind\": \"comments\", \"count\": 1, \"logcount\": 0.0}, {\"repo\": \"jupyterlab_server\", \"kind\": \"issues\", \"count\": 1, \"logcount\": 0.0}, {\"repo\": \"kubespawner\", \"kind\": \"comments\", \"count\": 10, \"logcount\": 2.302585092994046}, {\"repo\": \"kubespawner\", \"kind\": \"issues\", \"count\": 3, \"logcount\": 1.0986122886681098}, {\"repo\": \"kubespawner\", \"kind\": \"prs\", \"count\": 8, \"logcount\": 2.0794415416798357}, {\"repo\": \"ltiauthenticator\", \"kind\": \"comments\", \"count\": 8, \"logcount\": 2.0794415416798357}, {\"repo\": \"mybinder.org-deploy\", \"kind\": \"comments\", \"count\": 9, \"logcount\": 2.1972245773362196}, {\"repo\": \"mybinder.org-deploy\", \"kind\": \"issues\", \"count\": 2, \"logcount\": 0.6931471805599453}, {\"repo\": \"mybinder.org-deploy\", \"kind\": \"prs\", \"count\": 2, \"logcount\": 0.6931471805599453}, {\"repo\": \"nativeauthenticator\", \"kind\": \"comments\", \"count\": 43, \"logcount\": 3.7612001156935624}, {\"repo\": \"nativeauthenticator\", \"kind\": \"issues\", \"count\": 14, \"logcount\": 2.6390573296152584}, {\"repo\": \"nativeauthenticator\", \"kind\": \"prs\", \"count\": 10, \"logcount\": 2.302585092994046}, {\"repo\": \"nbgitpuller\", \"kind\": \"comments\", \"count\": 3, \"logcount\": 1.0986122886681098}, {\"repo\": \"nbgitpuller\", \"kind\": \"issues\", \"count\": 2, \"logcount\": 0.6931471805599453}, {\"repo\": \"oauthenticator\", \"kind\": \"comments\", \"count\": 4, \"logcount\": 1.3862943611198906}, {\"repo\": \"repo2docker-action\", \"kind\": \"comments\", \"count\": 2, \"logcount\": 0.6931471805599453}, {\"repo\": \"repo2docker-action\", \"kind\": \"issues\", \"count\": 1, \"logcount\": 0.0}, {\"repo\": \"repo2docker-action\", \"kind\": \"prs\", \"count\": 1, \"logcount\": 0.0}, {\"repo\": \"systemdspawner\", \"kind\": \"comments\", \"count\": 3, \"logcount\": 1.0986122886681098}, {\"repo\": \"systemdspawner\", \"kind\": \"issues\", \"count\": 2, \"logcount\": 0.6931471805599453}, {\"repo\": \"team-compass\", \"kind\": \"comments\", \"count\": 11, \"logcount\": 2.3978952727983707}, {\"repo\": \"team-compass\", \"kind\": \"issues\", \"count\": 5, \"logcount\": 1.6094379124341003}, {\"repo\": \"the-littlest-jupyterhub\", \"kind\": \"comments\", \"count\": 159, \"logcount\": 5.0689042022202315}, {\"repo\": \"the-littlest-jupyterhub\", \"kind\": \"issues\", \"count\": 24, \"logcount\": 3.1780538303479458}, {\"repo\": \"the-littlest-jupyterhub\", \"kind\": \"prs\", \"count\": 17, \"logcount\": 2.833213344056216}, {\"repo\": \"traefik-proxy\", \"kind\": \"comments\", \"count\": 3, \"logcount\": 1.0986122886681098}, {\"repo\": \"traefik-proxy\", \"kind\": \"issues\", \"count\": 1, \"logcount\": 0.0}, {\"repo\": \"traefik-proxy\", \"kind\": \"prs\", \"count\": 3, \"logcount\": 1.0986122886681098}, {\"repo\": \"traitlets\", \"kind\": \"issues\", \"count\": 1, \"logcount\": 0.0}, {\"repo\": \"zero-to-jupyterhub-k8s\", \"kind\": \"comments\", \"count\": 54, \"logcount\": 3.9889840465642745}, {\"repo\": \"zero-to-jupyterhub-k8s\", \"kind\": \"issues\", \"count\": 9, \"logcount\": 2.1972245773362196}, {\"repo\": \"zero-to-jupyterhub-k8s\", \"kind\": \"prs\", \"count\": 31, \"logcount\": 3.4339872044851463}]}}, {\"mode\": \"vega-lite\"});\n",
       "</script>"
      ],
      "text/plain": [
       "alt.HConcatChart(...)"
      ]
     },
     "execution_count": 11,
     "metadata": {},
     "output_type": "execute_result"
    }
   ],
   "source": [
    "ch1 = alt.Chart(repo_summaries, width=600, title=\"Activity per repository\").mark_bar().encode(\n",
    "    x='repo',\n",
    "    y='count',\n",
    "    color='kind',\n",
    "    tooltip=\"kind\"\n",
    ")\n",
    "\n",
    "ch2 = alt.Chart(repo_summaries, width=600, title=\"Log activity per repository\").mark_bar().encode(\n",
    "    x='repo',\n",
    "    y='logcount',\n",
    "    color='kind',\n",
    "    tooltip=\"kind\"\n",
    ")\n",
    "\n",
    "ch1 | ch2"
   ]
  },
  {
   "cell_type": "code",
   "execution_count": 12,
   "id": "07bd5c9f",
   "metadata": {
    "execution": {
     "iopub.execute_input": "2021-11-18T01:34:23.962948Z",
     "iopub.status.busy": "2021-11-18T01:34:23.961735Z",
     "iopub.status.idle": "2021-11-18T01:34:23.967768Z",
     "shell.execute_reply": "2021-11-18T01:34:23.967268Z"
    },
    "papermill": {
     "duration": 0.058614,
     "end_time": "2021-11-18T01:34:23.967929",
     "exception": false,
     "start_time": "2021-11-18T01:34:23.909315",
     "status": "completed"
    },
    "tags": [
     "hide_input"
    ]
   },
   "outputs": [
    {
     "data": {
      "text/html": [
       "\n",
       "<div id=\"altair-viz-39f60fe5b2e0453e94a49459a6b86a23\"></div>\n",
       "<script type=\"text/javascript\">\n",
       "  (function(spec, embedOpt){\n",
       "    let outputDiv = document.currentScript.previousElementSibling;\n",
       "    if (outputDiv.id !== \"altair-viz-39f60fe5b2e0453e94a49459a6b86a23\") {\n",
       "      outputDiv = document.getElementById(\"altair-viz-39f60fe5b2e0453e94a49459a6b86a23\");\n",
       "    }\n",
       "    const paths = {\n",
       "      \"vega\": \"https://cdn.jsdelivr.net/npm//vega@5?noext\",\n",
       "      \"vega-lib\": \"https://cdn.jsdelivr.net/npm//vega-lib?noext\",\n",
       "      \"vega-lite\": \"https://cdn.jsdelivr.net/npm//vega-lite@4.8.1?noext\",\n",
       "      \"vega-embed\": \"https://cdn.jsdelivr.net/npm//vega-embed@6?noext\",\n",
       "    };\n",
       "\n",
       "    function loadScript(lib) {\n",
       "      return new Promise(function(resolve, reject) {\n",
       "        var s = document.createElement('script');\n",
       "        s.src = paths[lib];\n",
       "        s.async = true;\n",
       "        s.onload = () => resolve(paths[lib]);\n",
       "        s.onerror = () => reject(`Error loading script: ${paths[lib]}`);\n",
       "        document.getElementsByTagName(\"head\")[0].appendChild(s);\n",
       "      });\n",
       "    }\n",
       "\n",
       "    function showError(err) {\n",
       "      outputDiv.innerHTML = `<div class=\"error\" style=\"color:red;\">${err}</div>`;\n",
       "      throw err;\n",
       "    }\n",
       "\n",
       "    function displayChart(vegaEmbed) {\n",
       "      vegaEmbed(outputDiv, spec, embedOpt)\n",
       "        .catch(err => showError(`Javascript Error: ${err.message}<br>This usually means there's a typo in your chart specification. See the javascript console for the full traceback.`));\n",
       "    }\n",
       "\n",
       "    if(typeof define === \"function\" && define.amd) {\n",
       "      requirejs.config({paths});\n",
       "      require([\"vega-embed\"], displayChart, err => showError(`Error loading script: ${err.message}`));\n",
       "    } else if (typeof vegaEmbed === \"function\") {\n",
       "      displayChart(vegaEmbed);\n",
       "    } else {\n",
       "      loadScript(\"vega\")\n",
       "        .then(() => loadScript(\"vega-lite\"))\n",
       "        .then(() => loadScript(\"vega-embed\"))\n",
       "        .catch(showError)\n",
       "        .then(() => displayChart(vegaEmbed));\n",
       "    }\n",
       "  })({\"config\": {\"axisLeft\": {\"labelFontSize\": 15}, \"axisBottom\": {\"labelFontSize\": 15}}, \"data\": {\"name\": \"data-e46266e4eb30f4a3cd3996dee65a4809\"}, \"mark\": \"bar\", \"encoding\": {\"color\": {\"type\": \"nominal\", \"field\": \"kind\"}, \"tooltip\": {\"type\": \"nominal\", \"field\": \"org\"}, \"x\": {\"type\": \"nominal\", \"field\": \"org\"}, \"y\": {\"type\": \"quantitative\", \"field\": \"count\"}}, \"width\": 600, \"$schema\": \"https://vega.github.io/schema/vega-lite/v4.8.1.json\", \"datasets\": {\"data-e46266e4eb30f4a3cd3996dee65a4809\": [{\"org\": \"ipython\", \"kind\": \"issues\", \"count\": 1}, {\"org\": \"jupyter\", \"kind\": \"comments\", \"count\": 16}, {\"org\": \"jupyter\", \"kind\": \"issues\", \"count\": 1}, {\"org\": \"jupyterhub\", \"kind\": \"comments\", \"count\": 413}, {\"org\": \"jupyterhub\", \"kind\": \"issues\", \"count\": 92}, {\"org\": \"jupyterhub\", \"kind\": \"prs\", \"count\": 118}, {\"org\": \"jupyterlab\", \"kind\": \"comments\", \"count\": 3}, {\"org\": \"jupyterlab\", \"kind\": \"issues\", \"count\": 1}]}}, {\"mode\": \"vega-lite\"});\n",
       "</script>"
      ],
      "text/plain": [
       "alt.Chart(...)"
      ]
     },
     "execution_count": 12,
     "metadata": {},
     "output_type": "execute_result"
    }
   ],
   "source": [
    "alt.Chart(org_summaries, width=600).mark_bar().encode(\n",
    "    x='org',\n",
    "    y='count',\n",
    "    color='kind',\n",
    "    tooltip=\"org\"\n",
    ")"
   ]
  },
  {
   "cell_type": "markdown",
   "id": "f3699ec5",
   "metadata": {
    "papermill": {
     "duration": 0.018294,
     "end_time": "2021-11-18T01:34:24.008752",
     "exception": false,
     "start_time": "2021-11-18T01:34:23.990458",
     "status": "completed"
    },
    "tags": []
   },
   "source": [
    "## By repository over time"
   ]
  },
  {
   "cell_type": "markdown",
   "id": "aba82dca",
   "metadata": {
    "papermill": {
     "duration": 0.017864,
     "end_time": "2021-11-18T01:34:24.045197",
     "exception": false,
     "start_time": "2021-11-18T01:34:24.027333",
     "status": "completed"
    },
    "tags": []
   },
   "source": [
    "### Comments"
   ]
  },
  {
   "cell_type": "code",
   "execution_count": 13,
   "id": "a108cd67",
   "metadata": {
    "execution": {
     "iopub.execute_input": "2021-11-18T01:34:24.087743Z",
     "iopub.status.busy": "2021-11-18T01:34:24.087121Z",
     "iopub.status.idle": "2021-11-18T01:34:24.209660Z",
     "shell.execute_reply": "2021-11-18T01:34:24.210355Z"
    },
    "papermill": {
     "duration": 0.147695,
     "end_time": "2021-11-18T01:34:24.210646",
     "exception": false,
     "start_time": "2021-11-18T01:34:24.062951",
     "status": "completed"
    },
    "tags": [
     "hide_input"
    ]
   },
   "outputs": [
    {
     "data": {
      "text/html": [
       "\n",
       "<div id=\"altair-viz-ce945af4cd7f4040a02a4cdfb6ef9b19\"></div>\n",
       "<script type=\"text/javascript\">\n",
       "  (function(spec, embedOpt){\n",
       "    let outputDiv = document.currentScript.previousElementSibling;\n",
       "    if (outputDiv.id !== \"altair-viz-ce945af4cd7f4040a02a4cdfb6ef9b19\") {\n",
       "      outputDiv = document.getElementById(\"altair-viz-ce945af4cd7f4040a02a4cdfb6ef9b19\");\n",
       "    }\n",
       "    const paths = {\n",
       "      \"vega\": \"https://cdn.jsdelivr.net/npm//vega@5?noext\",\n",
       "      \"vega-lib\": \"https://cdn.jsdelivr.net/npm//vega-lib?noext\",\n",
       "      \"vega-lite\": \"https://cdn.jsdelivr.net/npm//vega-lite@4.8.1?noext\",\n",
       "      \"vega-embed\": \"https://cdn.jsdelivr.net/npm//vega-embed@6?noext\",\n",
       "    };\n",
       "\n",
       "    function loadScript(lib) {\n",
       "      return new Promise(function(resolve, reject) {\n",
       "        var s = document.createElement('script');\n",
       "        s.src = paths[lib];\n",
       "        s.async = true;\n",
       "        s.onload = () => resolve(paths[lib]);\n",
       "        s.onerror = () => reject(`Error loading script: ${paths[lib]}`);\n",
       "        document.getElementsByTagName(\"head\")[0].appendChild(s);\n",
       "      });\n",
       "    }\n",
       "\n",
       "    function showError(err) {\n",
       "      outputDiv.innerHTML = `<div class=\"error\" style=\"color:red;\">${err}</div>`;\n",
       "      throw err;\n",
       "    }\n",
       "\n",
       "    function displayChart(vegaEmbed) {\n",
       "      vegaEmbed(outputDiv, spec, embedOpt)\n",
       "        .catch(err => showError(`Javascript Error: ${err.message}<br>This usually means there's a typo in your chart specification. See the javascript console for the full traceback.`));\n",
       "    }\n",
       "\n",
       "    if(typeof define === \"function\" && define.amd) {\n",
       "      requirejs.config({paths});\n",
       "      require([\"vega-embed\"], displayChart, err => showError(`Error loading script: ${err.message}`));\n",
       "    } else if (typeof vegaEmbed === \"function\") {\n",
       "      displayChart(vegaEmbed);\n",
       "    } else {\n",
       "      loadScript(\"vega\")\n",
       "        .then(() => loadScript(\"vega-lite\"))\n",
       "        .then(() => loadScript(\"vega-embed\"))\n",
       "        .catch(showError)\n",
       "        .then(() => displayChart(vegaEmbed));\n",
       "    }\n",
       "  })({\"config\": {\"axisLeft\": {\"labelFontSize\": 15}, \"axisBottom\": {\"labelFontSize\": 15}}, \"layer\": [{\"data\": {\"name\": \"data-7691e0c093299065c2ee45b0b375afe3\"}, \"mark\": \"line\", \"encoding\": {\"color\": {\"type\": \"nominal\", \"field\": \"repo\"}, \"tooltip\": {\"type\": \"nominal\", \"field\": \"repo\"}, \"x\": {\"type\": \"temporal\", \"field\": \"createdAt\"}, \"y\": {\"type\": \"quantitative\", \"field\": \"count\"}}, \"width\": 600}, {\"data\": {\"name\": \"data-d230b3673340fc2152bc7976ba57a699\"}, \"mark\": {\"type\": \"line\", \"color\": \"black\"}, \"encoding\": {\"x\": {\"type\": \"temporal\", \"field\": \"createdAt\"}, \"y\": {\"type\": \"quantitative\", \"field\": \"count\"}}, \"width\": 600}], \"$schema\": \"https://vega.github.io/schema/vega-lite/v4.8.1.json\", \"datasets\": {\"data-7691e0c093299065c2ee45b0b375afe3\": [{\"repo\": \".github\", \"createdAt\": \"2021-10-24T00:00:00\", \"count\": 1}, {\"repo\": \"action-k3s-helm\", \"createdAt\": \"2021-10-10T00:00:00\", \"count\": 5}, {\"repo\": \"action-k8s-await-workloads\", \"createdAt\": \"2021-11-21T00:00:00\", \"count\": 1}, {\"repo\": \"action-major-minor-tag-calculator\", \"createdAt\": \"2021-09-26T00:00:00\", \"count\": 4}, {\"repo\": \"action-major-minor-tag-calculator\", \"createdAt\": \"2021-10-03T00:00:00\", \"count\": 0}, {\"repo\": \"action-major-minor-tag-calculator\", \"createdAt\": \"2021-10-10T00:00:00\", \"count\": 0}, {\"repo\": \"action-major-minor-tag-calculator\", \"createdAt\": \"2021-10-17T00:00:00\", \"count\": 1}, {\"repo\": \"autodoc-traits\", \"createdAt\": \"2021-10-24T00:00:00\", \"count\": 1}, {\"repo\": \"binderhub\", \"createdAt\": \"2021-09-26T00:00:00\", \"count\": 27}, {\"repo\": \"binderhub\", \"createdAt\": \"2021-10-03T00:00:00\", \"count\": 7}, {\"repo\": \"binderhub\", \"createdAt\": \"2021-10-10T00:00:00\", \"count\": 18}, {\"repo\": \"binderhub\", \"createdAt\": \"2021-10-17T00:00:00\", \"count\": 2}, {\"repo\": \"configurable-http-proxy\", \"createdAt\": \"2021-11-14T00:00:00\", \"count\": 1}, {\"repo\": \"docker-image-cleaner\", \"createdAt\": \"2021-09-26T00:00:00\", \"count\": 3}, {\"repo\": \"docker-stacks\", \"createdAt\": \"2021-10-17T00:00:00\", \"count\": 4}, {\"repo\": \"docker-stacks\", \"createdAt\": \"2021-10-24T00:00:00\", \"count\": 1}, {\"repo\": \"docker-stacks\", \"createdAt\": \"2021-10-31T00:00:00\", \"count\": 1}, {\"repo\": \"docker-stacks\", \"createdAt\": \"2021-11-07T00:00:00\", \"count\": 7}, {\"repo\": \"docker-stacks\", \"createdAt\": \"2021-11-14T00:00:00\", \"count\": 2}, {\"repo\": \"docker-stacks\", \"createdAt\": \"2021-11-21T00:00:00\", \"count\": 1}, {\"repo\": \"firstuseauthenticator\", \"createdAt\": \"2021-10-31T00:00:00\", \"count\": 2}, {\"repo\": \"helm-chart\", \"createdAt\": \"2021-10-10T00:00:00\", \"count\": 1}, {\"repo\": \"jupyter-server-proxy\", \"createdAt\": \"2021-11-07T00:00:00\", \"count\": 1}, {\"repo\": \"jupyter-server-proxy\", \"createdAt\": \"2021-11-14T00:00:00\", \"count\": 2}, {\"repo\": \"jupyter-server-proxy\", \"createdAt\": \"2021-11-21T00:00:00\", \"count\": 1}, {\"repo\": \"jupyterhub\", \"createdAt\": \"2021-09-26T00:00:00\", \"count\": 6}, {\"repo\": \"jupyterhub\", \"createdAt\": \"2021-10-03T00:00:00\", \"count\": 2}, {\"repo\": \"jupyterhub\", \"createdAt\": \"2021-10-10T00:00:00\", \"count\": 3}, {\"repo\": \"jupyterhub\", \"createdAt\": \"2021-10-17T00:00:00\", \"count\": 3}, {\"repo\": \"jupyterhub\", \"createdAt\": \"2021-10-24T00:00:00\", \"count\": 2}, {\"repo\": \"jupyterhub\", \"createdAt\": \"2021-10-31T00:00:00\", \"count\": 2}, {\"repo\": \"jupyterhub\", \"createdAt\": \"2021-11-07T00:00:00\", \"count\": 0}, {\"repo\": \"jupyterhub\", \"createdAt\": \"2021-11-14T00:00:00\", \"count\": 0}, {\"repo\": \"jupyterhub\", \"createdAt\": \"2021-11-21T00:00:00\", \"count\": 1}, {\"repo\": \"jupyterhub-idle-culler\", \"createdAt\": \"2021-09-19T00:00:00\", \"count\": 2}, {\"repo\": \"jupyterhub-idle-culler\", \"createdAt\": \"2021-09-26T00:00:00\", \"count\": 1}, {\"repo\": \"jupyterhub-idle-culler\", \"createdAt\": \"2021-10-03T00:00:00\", \"count\": 0}, {\"repo\": \"jupyterhub-idle-culler\", \"createdAt\": \"2021-10-10T00:00:00\", \"count\": 0}, {\"repo\": \"jupyterhub-idle-culler\", \"createdAt\": \"2021-10-17T00:00:00\", \"count\": 2}, {\"repo\": \"jupyterhub-idle-culler\", \"createdAt\": \"2021-10-24T00:00:00\", \"count\": 2}, {\"repo\": \"jupyterlab-git\", \"createdAt\": \"2021-10-03T00:00:00\", \"count\": 2}, {\"repo\": \"jupyterlab_server\", \"createdAt\": \"2021-10-03T00:00:00\", \"count\": 1}, {\"repo\": \"kubespawner\", \"createdAt\": \"2021-10-10T00:00:00\", \"count\": 2}, {\"repo\": \"kubespawner\", \"createdAt\": \"2021-10-17T00:00:00\", \"count\": 3}, {\"repo\": \"kubespawner\", \"createdAt\": \"2021-10-24T00:00:00\", \"count\": 2}, {\"repo\": \"kubespawner\", \"createdAt\": \"2021-10-31T00:00:00\", \"count\": 1}, {\"repo\": \"kubespawner\", \"createdAt\": \"2021-11-07T00:00:00\", \"count\": 1}, {\"repo\": \"kubespawner\", \"createdAt\": \"2021-11-14T00:00:00\", \"count\": 0}, {\"repo\": \"kubespawner\", \"createdAt\": \"2021-11-21T00:00:00\", \"count\": 1}, {\"repo\": \"ltiauthenticator\", \"createdAt\": \"2021-10-24T00:00:00\", \"count\": 3}, {\"repo\": \"ltiauthenticator\", \"createdAt\": \"2021-10-31T00:00:00\", \"count\": 0}, {\"repo\": \"ltiauthenticator\", \"createdAt\": \"2021-11-07T00:00:00\", \"count\": 2}, {\"repo\": \"ltiauthenticator\", \"createdAt\": \"2021-11-14T00:00:00\", \"count\": 0}, {\"repo\": \"ltiauthenticator\", \"createdAt\": \"2021-11-21T00:00:00\", \"count\": 3}, {\"repo\": \"mybinder.org-deploy\", \"createdAt\": \"2021-10-10T00:00:00\", \"count\": 5}, {\"repo\": \"mybinder.org-deploy\", \"createdAt\": \"2021-10-17T00:00:00\", \"count\": 3}, {\"repo\": \"mybinder.org-deploy\", \"createdAt\": \"2021-10-24T00:00:00\", \"count\": 1}, {\"repo\": \"nativeauthenticator\", \"createdAt\": \"2021-10-24T00:00:00\", \"count\": 1}, {\"repo\": \"nativeauthenticator\", \"createdAt\": \"2021-10-31T00:00:00\", \"count\": 20}, {\"repo\": \"nativeauthenticator\", \"createdAt\": \"2021-11-07T00:00:00\", \"count\": 11}, {\"repo\": \"nativeauthenticator\", \"createdAt\": \"2021-11-14T00:00:00\", \"count\": 11}, {\"repo\": \"nbgitpuller\", \"createdAt\": \"2021-11-14T00:00:00\", \"count\": 2}, {\"repo\": \"nbgitpuller\", \"createdAt\": \"2021-11-21T00:00:00\", \"count\": 1}, {\"repo\": \"oauthenticator\", \"createdAt\": \"2021-10-03T00:00:00\", \"count\": 1}, {\"repo\": \"oauthenticator\", \"createdAt\": \"2021-10-10T00:00:00\", \"count\": 2}, {\"repo\": \"oauthenticator\", \"createdAt\": \"2021-10-17T00:00:00\", \"count\": 1}, {\"repo\": \"repo2docker-action\", \"createdAt\": \"2021-11-07T00:00:00\", \"count\": 2}, {\"repo\": \"systemdspawner\", \"createdAt\": \"2021-10-24T00:00:00\", \"count\": 3}, {\"repo\": \"team-compass\", \"createdAt\": \"2021-09-26T00:00:00\", \"count\": 5}, {\"repo\": \"team-compass\", \"createdAt\": \"2021-10-03T00:00:00\", \"count\": 1}, {\"repo\": \"team-compass\", \"createdAt\": \"2021-10-10T00:00:00\", \"count\": 0}, {\"repo\": \"team-compass\", \"createdAt\": \"2021-10-17T00:00:00\", \"count\": 0}, {\"repo\": \"team-compass\", \"createdAt\": \"2021-10-24T00:00:00\", \"count\": 0}, {\"repo\": \"team-compass\", \"createdAt\": \"2021-10-31T00:00:00\", \"count\": 1}, {\"repo\": \"team-compass\", \"createdAt\": \"2021-11-07T00:00:00\", \"count\": 0}, {\"repo\": \"team-compass\", \"createdAt\": \"2021-11-14T00:00:00\", \"count\": 4}, {\"repo\": \"the-littlest-jupyterhub\", \"createdAt\": \"2021-10-17T00:00:00\", \"count\": 12}, {\"repo\": \"the-littlest-jupyterhub\", \"createdAt\": \"2021-10-24T00:00:00\", \"count\": 59}, {\"repo\": \"the-littlest-jupyterhub\", \"createdAt\": \"2021-10-31T00:00:00\", \"count\": 81}, {\"repo\": \"the-littlest-jupyterhub\", \"createdAt\": \"2021-11-07T00:00:00\", \"count\": 7}, {\"repo\": \"traefik-proxy\", \"createdAt\": \"2021-10-24T00:00:00\", \"count\": 3}, {\"repo\": \"zero-to-jupyterhub-k8s\", \"createdAt\": \"2021-09-19T00:00:00\", \"count\": 1}, {\"repo\": \"zero-to-jupyterhub-k8s\", \"createdAt\": \"2021-09-26T00:00:00\", \"count\": 9}, {\"repo\": \"zero-to-jupyterhub-k8s\", \"createdAt\": \"2021-10-03T00:00:00\", \"count\": 12}, {\"repo\": \"zero-to-jupyterhub-k8s\", \"createdAt\": \"2021-10-10T00:00:00\", \"count\": 4}, {\"repo\": \"zero-to-jupyterhub-k8s\", \"createdAt\": \"2021-10-17T00:00:00\", \"count\": 9}, {\"repo\": \"zero-to-jupyterhub-k8s\", \"createdAt\": \"2021-10-24T00:00:00\", \"count\": 2}, {\"repo\": \"zero-to-jupyterhub-k8s\", \"createdAt\": \"2021-10-31T00:00:00\", \"count\": 11}, {\"repo\": \"zero-to-jupyterhub-k8s\", \"createdAt\": \"2021-11-07T00:00:00\", \"count\": 3}, {\"repo\": \"zero-to-jupyterhub-k8s\", \"createdAt\": \"2021-11-14T00:00:00\", \"count\": 1}, {\"repo\": \"zero-to-jupyterhub-k8s\", \"createdAt\": \"2021-11-21T00:00:00\", \"count\": 2}], \"data-d230b3673340fc2152bc7976ba57a699\": [{\"createdAt\": \"2021-09-19T00:00:00\", \"count\": 3}, {\"createdAt\": \"2021-09-26T00:00:00\", \"count\": 55}, {\"createdAt\": \"2021-10-03T00:00:00\", \"count\": 26}, {\"createdAt\": \"2021-10-10T00:00:00\", \"count\": 40}, {\"createdAt\": \"2021-10-17T00:00:00\", \"count\": 40}, {\"createdAt\": \"2021-10-24T00:00:00\", \"count\": 81}, {\"createdAt\": \"2021-10-31T00:00:00\", \"count\": 119}, {\"createdAt\": \"2021-11-07T00:00:00\", \"count\": 34}, {\"createdAt\": \"2021-11-14T00:00:00\", \"count\": 23}, {\"createdAt\": \"2021-11-21T00:00:00\", \"count\": 11}]}}, {\"mode\": \"vega-lite\"});\n",
       "</script>"
      ],
      "text/plain": [
       "alt.LayerChart(...)"
      ]
     },
     "execution_count": 13,
     "metadata": {},
     "output_type": "execute_result"
    }
   ],
   "source": [
    "comments_time = comments.groupby('repo').resample('W', on='createdAt').count()['author'].reset_index()\n",
    "comments_time = comments_time.rename(columns={'author': 'count'})\n",
    "comments_time_total = comments_time.groupby('createdAt').agg({\"count\": \"sum\"}).reset_index()\n",
    "ch1 = alt.Chart(comments_time, width=600).mark_line().encode(\n",
    "    x='createdAt',\n",
    "    y='count',\n",
    "    color='repo',\n",
    "    tooltip=\"repo\"\n",
    ")\n",
    "\n",
    "ch2 = alt.Chart(comments_time_total, width=600).mark_line(color=\"black\").encode(\n",
    "    x='createdAt',\n",
    "    y='count',\n",
    ")\n",
    "\n",
    "ch1 + ch2"
   ]
  },
  {
   "cell_type": "markdown",
   "id": "2f3e51ad",
   "metadata": {
    "papermill": {
     "duration": 0.017426,
     "end_time": "2021-11-18T01:34:24.247692",
     "exception": false,
     "start_time": "2021-11-18T01:34:24.230266",
     "status": "completed"
    },
    "tags": []
   },
   "source": [
    "### PRs"
   ]
  },
  {
   "cell_type": "code",
   "execution_count": 14,
   "id": "474899a9",
   "metadata": {
    "execution": {
     "iopub.execute_input": "2021-11-18T01:34:24.297860Z",
     "iopub.status.busy": "2021-11-18T01:34:24.294473Z",
     "iopub.status.idle": "2021-11-18T01:34:24.393225Z",
     "shell.execute_reply": "2021-11-18T01:34:24.392596Z"
    },
    "papermill": {
     "duration": 0.128066,
     "end_time": "2021-11-18T01:34:24.393382",
     "exception": false,
     "start_time": "2021-11-18T01:34:24.265316",
     "status": "completed"
    },
    "tags": [
     "hide_input"
    ]
   },
   "outputs": [
    {
     "data": {
      "text/html": [
       "\n",
       "<div id=\"altair-viz-99b4356c96b645499d11fd1b4cdeb33d\"></div>\n",
       "<script type=\"text/javascript\">\n",
       "  (function(spec, embedOpt){\n",
       "    let outputDiv = document.currentScript.previousElementSibling;\n",
       "    if (outputDiv.id !== \"altair-viz-99b4356c96b645499d11fd1b4cdeb33d\") {\n",
       "      outputDiv = document.getElementById(\"altair-viz-99b4356c96b645499d11fd1b4cdeb33d\");\n",
       "    }\n",
       "    const paths = {\n",
       "      \"vega\": \"https://cdn.jsdelivr.net/npm//vega@5?noext\",\n",
       "      \"vega-lib\": \"https://cdn.jsdelivr.net/npm//vega-lib?noext\",\n",
       "      \"vega-lite\": \"https://cdn.jsdelivr.net/npm//vega-lite@4.8.1?noext\",\n",
       "      \"vega-embed\": \"https://cdn.jsdelivr.net/npm//vega-embed@6?noext\",\n",
       "    };\n",
       "\n",
       "    function loadScript(lib) {\n",
       "      return new Promise(function(resolve, reject) {\n",
       "        var s = document.createElement('script');\n",
       "        s.src = paths[lib];\n",
       "        s.async = true;\n",
       "        s.onload = () => resolve(paths[lib]);\n",
       "        s.onerror = () => reject(`Error loading script: ${paths[lib]}`);\n",
       "        document.getElementsByTagName(\"head\")[0].appendChild(s);\n",
       "      });\n",
       "    }\n",
       "\n",
       "    function showError(err) {\n",
       "      outputDiv.innerHTML = `<div class=\"error\" style=\"color:red;\">${err}</div>`;\n",
       "      throw err;\n",
       "    }\n",
       "\n",
       "    function displayChart(vegaEmbed) {\n",
       "      vegaEmbed(outputDiv, spec, embedOpt)\n",
       "        .catch(err => showError(`Javascript Error: ${err.message}<br>This usually means there's a typo in your chart specification. See the javascript console for the full traceback.`));\n",
       "    }\n",
       "\n",
       "    if(typeof define === \"function\" && define.amd) {\n",
       "      requirejs.config({paths});\n",
       "      require([\"vega-embed\"], displayChart, err => showError(`Error loading script: ${err.message}`));\n",
       "    } else if (typeof vegaEmbed === \"function\") {\n",
       "      displayChart(vegaEmbed);\n",
       "    } else {\n",
       "      loadScript(\"vega\")\n",
       "        .then(() => loadScript(\"vega-lite\"))\n",
       "        .then(() => loadScript(\"vega-embed\"))\n",
       "        .catch(showError)\n",
       "        .then(() => displayChart(vegaEmbed));\n",
       "    }\n",
       "  })({\"config\": {\"axisLeft\": {\"labelFontSize\": 15}, \"axisBottom\": {\"labelFontSize\": 15}}, \"layer\": [{\"data\": {\"name\": \"data-0b7f01c43bc51c135fffad6c144192e2\"}, \"mark\": \"line\", \"encoding\": {\"color\": {\"type\": \"nominal\", \"field\": \"repo\"}, \"tooltip\": {\"type\": \"nominal\", \"field\": \"repo\"}, \"x\": {\"type\": \"temporal\", \"field\": \"createdAt\"}, \"y\": {\"type\": \"quantitative\", \"field\": \"count\"}}, \"width\": 600}, {\"data\": {\"name\": \"data-c782ea2e1f6876a2375fff811b2a0a0d\"}, \"mark\": {\"type\": \"line\", \"color\": \"black\"}, \"encoding\": {\"x\": {\"type\": \"temporal\", \"field\": \"createdAt\"}, \"y\": {\"type\": \"quantitative\", \"field\": \"count\"}}, \"width\": 600}], \"$schema\": \"https://vega.github.io/schema/vega-lite/v4.8.1.json\", \"datasets\": {\"data-0b7f01c43bc51c135fffad6c144192e2\": [{\"repo\": \"action-k3s-helm\", \"createdAt\": \"2021-08-15T00:00:00\", \"count\": 1}, {\"repo\": \"action-k3s-helm\", \"createdAt\": \"2021-08-22T00:00:00\", \"count\": 0}, {\"repo\": \"action-k3s-helm\", \"createdAt\": \"2021-08-29T00:00:00\", \"count\": 0}, {\"repo\": \"action-k3s-helm\", \"createdAt\": \"2021-09-05T00:00:00\", \"count\": 0}, {\"repo\": \"action-k3s-helm\", \"createdAt\": \"2021-09-12T00:00:00\", \"count\": 0}, {\"repo\": \"action-k3s-helm\", \"createdAt\": \"2021-09-19T00:00:00\", \"count\": 0}, {\"repo\": \"action-k3s-helm\", \"createdAt\": \"2021-09-26T00:00:00\", \"count\": 0}, {\"repo\": \"action-k3s-helm\", \"createdAt\": \"2021-10-03T00:00:00\", \"count\": 2}, {\"repo\": \"action-k3s-helm\", \"createdAt\": \"2021-10-10T00:00:00\", \"count\": 2}, {\"repo\": \"action-k8s-namespace-report\", \"createdAt\": \"2021-09-26T00:00:00\", \"count\": 1}, {\"repo\": \"action-k8s-namespace-report\", \"createdAt\": \"2021-10-03T00:00:00\", \"count\": 1}, {\"repo\": \"action-major-minor-tag-calculator\", \"createdAt\": \"2021-09-26T00:00:00\", \"count\": 1}, {\"repo\": \"binderhub\", \"createdAt\": \"2021-09-26T00:00:00\", \"count\": 10}, {\"repo\": \"binderhub\", \"createdAt\": \"2021-10-03T00:00:00\", \"count\": 0}, {\"repo\": \"binderhub\", \"createdAt\": \"2021-10-10T00:00:00\", \"count\": 12}, {\"repo\": \"binderhub\", \"createdAt\": \"2021-10-17T00:00:00\", \"count\": 1}, {\"repo\": \"docker-image-cleaner\", \"createdAt\": \"2021-10-10T00:00:00\", \"count\": 1}, {\"repo\": \"firstuseauthenticator\", \"createdAt\": \"2021-10-31T00:00:00\", \"count\": 5}, {\"repo\": \"jupyterhub\", \"createdAt\": \"2021-08-29T00:00:00\", \"count\": 3}, {\"repo\": \"jupyterhub-idle-culler\", \"createdAt\": \"2021-09-26T00:00:00\", \"count\": 1}, {\"repo\": \"jupyterhub-idle-culler\", \"createdAt\": \"2021-10-03T00:00:00\", \"count\": 0}, {\"repo\": \"jupyterhub-idle-culler\", \"createdAt\": \"2021-10-10T00:00:00\", \"count\": 0}, {\"repo\": \"jupyterhub-idle-culler\", \"createdAt\": \"2021-10-17T00:00:00\", \"count\": 4}, {\"repo\": \"jupyterhub-idle-culler\", \"createdAt\": \"2021-10-24T00:00:00\", \"count\": 1}, {\"repo\": \"kubespawner\", \"createdAt\": \"2021-06-13T00:00:00\", \"count\": 1}, {\"repo\": \"kubespawner\", \"createdAt\": \"2021-06-20T00:00:00\", \"count\": 0}, {\"repo\": \"kubespawner\", \"createdAt\": \"2021-06-27T00:00:00\", \"count\": 0}, {\"repo\": \"kubespawner\", \"createdAt\": \"2021-07-04T00:00:00\", \"count\": 0}, {\"repo\": \"kubespawner\", \"createdAt\": \"2021-07-11T00:00:00\", \"count\": 0}, {\"repo\": \"kubespawner\", \"createdAt\": \"2021-07-18T00:00:00\", \"count\": 0}, {\"repo\": \"kubespawner\", \"createdAt\": \"2021-07-25T00:00:00\", \"count\": 0}, {\"repo\": \"kubespawner\", \"createdAt\": \"2021-08-01T00:00:00\", \"count\": 0}, {\"repo\": \"kubespawner\", \"createdAt\": \"2021-08-08T00:00:00\", \"count\": 0}, {\"repo\": \"kubespawner\", \"createdAt\": \"2021-08-15T00:00:00\", \"count\": 0}, {\"repo\": \"kubespawner\", \"createdAt\": \"2021-08-22T00:00:00\", \"count\": 0}, {\"repo\": \"kubespawner\", \"createdAt\": \"2021-08-29T00:00:00\", \"count\": 0}, {\"repo\": \"kubespawner\", \"createdAt\": \"2021-09-05T00:00:00\", \"count\": 0}, {\"repo\": \"kubespawner\", \"createdAt\": \"2021-09-12T00:00:00\", \"count\": 0}, {\"repo\": \"kubespawner\", \"createdAt\": \"2021-09-19T00:00:00\", \"count\": 0}, {\"repo\": \"kubespawner\", \"createdAt\": \"2021-09-26T00:00:00\", \"count\": 0}, {\"repo\": \"kubespawner\", \"createdAt\": \"2021-10-03T00:00:00\", \"count\": 0}, {\"repo\": \"kubespawner\", \"createdAt\": \"2021-10-10T00:00:00\", \"count\": 1}, {\"repo\": \"kubespawner\", \"createdAt\": \"2021-10-17T00:00:00\", \"count\": 0}, {\"repo\": \"kubespawner\", \"createdAt\": \"2021-10-24T00:00:00\", \"count\": 3}, {\"repo\": \"kubespawner\", \"createdAt\": \"2021-10-31T00:00:00\", \"count\": 0}, {\"repo\": \"kubespawner\", \"createdAt\": \"2021-11-07T00:00:00\", \"count\": 3}, {\"repo\": \"mybinder.org-deploy\", \"createdAt\": \"2021-10-10T00:00:00\", \"count\": 1}, {\"repo\": \"mybinder.org-deploy\", \"createdAt\": \"2021-10-17T00:00:00\", \"count\": 1}, {\"repo\": \"nativeauthenticator\", \"createdAt\": \"2021-10-31T00:00:00\", \"count\": 8}, {\"repo\": \"nativeauthenticator\", \"createdAt\": \"2021-11-07T00:00:00\", \"count\": 2}, {\"repo\": \"repo2docker-action\", \"createdAt\": \"2021-07-18T00:00:00\", \"count\": 1}, {\"repo\": \"the-littlest-jupyterhub\", \"createdAt\": \"2021-10-17T00:00:00\", \"count\": 4}, {\"repo\": \"the-littlest-jupyterhub\", \"createdAt\": \"2021-10-24T00:00:00\", \"count\": 3}, {\"repo\": \"the-littlest-jupyterhub\", \"createdAt\": \"2021-10-31T00:00:00\", \"count\": 8}, {\"repo\": \"the-littlest-jupyterhub\", \"createdAt\": \"2021-11-07T00:00:00\", \"count\": 2}, {\"repo\": \"traefik-proxy\", \"createdAt\": \"2021-10-24T00:00:00\", \"count\": 3}, {\"repo\": \"zero-to-jupyterhub-k8s\", \"createdAt\": \"2021-08-22T00:00:00\", \"count\": 1}, {\"repo\": \"zero-to-jupyterhub-k8s\", \"createdAt\": \"2021-08-29T00:00:00\", \"count\": 0}, {\"repo\": \"zero-to-jupyterhub-k8s\", \"createdAt\": \"2021-09-05T00:00:00\", \"count\": 0}, {\"repo\": \"zero-to-jupyterhub-k8s\", \"createdAt\": \"2021-09-12T00:00:00\", \"count\": 0}, {\"repo\": \"zero-to-jupyterhub-k8s\", \"createdAt\": \"2021-09-19T00:00:00\", \"count\": 0}, {\"repo\": \"zero-to-jupyterhub-k8s\", \"createdAt\": \"2021-09-26T00:00:00\", \"count\": 11}, {\"repo\": \"zero-to-jupyterhub-k8s\", \"createdAt\": \"2021-10-03T00:00:00\", \"count\": 3}, {\"repo\": \"zero-to-jupyterhub-k8s\", \"createdAt\": \"2021-10-10T00:00:00\", \"count\": 2}, {\"repo\": \"zero-to-jupyterhub-k8s\", \"createdAt\": \"2021-10-17T00:00:00\", \"count\": 6}, {\"repo\": \"zero-to-jupyterhub-k8s\", \"createdAt\": \"2021-10-24T00:00:00\", \"count\": 1}, {\"repo\": \"zero-to-jupyterhub-k8s\", \"createdAt\": \"2021-10-31T00:00:00\", \"count\": 3}, {\"repo\": \"zero-to-jupyterhub-k8s\", \"createdAt\": \"2021-11-07T00:00:00\", \"count\": 3}, {\"repo\": \"zero-to-jupyterhub-k8s\", \"createdAt\": \"2021-11-14T00:00:00\", \"count\": 1}], \"data-c782ea2e1f6876a2375fff811b2a0a0d\": [{\"createdAt\": \"2021-06-13T00:00:00\", \"count\": 1}, {\"createdAt\": \"2021-06-20T00:00:00\", \"count\": 0}, {\"createdAt\": \"2021-06-27T00:00:00\", \"count\": 0}, {\"createdAt\": \"2021-07-04T00:00:00\", \"count\": 0}, {\"createdAt\": \"2021-07-11T00:00:00\", \"count\": 0}, {\"createdAt\": \"2021-07-18T00:00:00\", \"count\": 1}, {\"createdAt\": \"2021-07-25T00:00:00\", \"count\": 0}, {\"createdAt\": \"2021-08-01T00:00:00\", \"count\": 0}, {\"createdAt\": \"2021-08-08T00:00:00\", \"count\": 0}, {\"createdAt\": \"2021-08-15T00:00:00\", \"count\": 1}, {\"createdAt\": \"2021-08-22T00:00:00\", \"count\": 1}, {\"createdAt\": \"2021-08-29T00:00:00\", \"count\": 3}, {\"createdAt\": \"2021-09-05T00:00:00\", \"count\": 0}, {\"createdAt\": \"2021-09-12T00:00:00\", \"count\": 0}, {\"createdAt\": \"2021-09-19T00:00:00\", \"count\": 0}, {\"createdAt\": \"2021-09-26T00:00:00\", \"count\": 24}, {\"createdAt\": \"2021-10-03T00:00:00\", \"count\": 6}, {\"createdAt\": \"2021-10-10T00:00:00\", \"count\": 19}, {\"createdAt\": \"2021-10-17T00:00:00\", \"count\": 16}, {\"createdAt\": \"2021-10-24T00:00:00\", \"count\": 11}, {\"createdAt\": \"2021-10-31T00:00:00\", \"count\": 24}, {\"createdAt\": \"2021-11-07T00:00:00\", \"count\": 10}, {\"createdAt\": \"2021-11-14T00:00:00\", \"count\": 1}]}}, {\"mode\": \"vega-lite\"});\n",
       "</script>"
      ],
      "text/plain": [
       "alt.LayerChart(...)"
      ]
     },
     "execution_count": 14,
     "metadata": {},
     "output_type": "execute_result"
    }
   ],
   "source": [
    "prs_time = prs.groupby('repo').resample('W', on='createdAt').count()['author'].reset_index()\n",
    "prs_time = prs_time.rename(columns={'author': 'count'})\n",
    "prs_time_total = prs_time.groupby('createdAt').agg({\"count\": \"sum\"}).reset_index()\n",
    "\n",
    "ch1 = alt.Chart(prs_time, width=600).mark_line().encode(\n",
    "    x='createdAt',\n",
    "    y='count',\n",
    "    color='repo',\n",
    "    tooltip=\"repo\"\n",
    ")\n",
    "\n",
    "ch2 = alt.Chart(prs_time_total, width=600).mark_line(color=\"black\").encode(\n",
    "    x='createdAt',\n",
    "    y='count',\n",
    ")\n",
    "\n",
    "ch1 + ch2"
   ]
  },
  {
   "cell_type": "code",
   "execution_count": 15,
   "id": "8da70a3d",
   "metadata": {
    "execution": {
     "iopub.execute_input": "2021-11-18T01:34:24.446300Z",
     "iopub.status.busy": "2021-11-18T01:34:24.440123Z",
     "iopub.status.idle": "2021-11-18T01:34:24.540411Z",
     "shell.execute_reply": "2021-11-18T01:34:24.540871Z"
    },
    "papermill": {
     "duration": 0.128678,
     "end_time": "2021-11-18T01:34:24.541058",
     "exception": false,
     "start_time": "2021-11-18T01:34:24.412380",
     "status": "completed"
    },
    "tags": [
     "hide_input"
    ]
   },
   "outputs": [
    {
     "data": {
      "text/html": [
       "\n",
       "<div id=\"altair-viz-6b052f4e526f4ee5a0d7d1451459bdbf\"></div>\n",
       "<script type=\"text/javascript\">\n",
       "  (function(spec, embedOpt){\n",
       "    let outputDiv = document.currentScript.previousElementSibling;\n",
       "    if (outputDiv.id !== \"altair-viz-6b052f4e526f4ee5a0d7d1451459bdbf\") {\n",
       "      outputDiv = document.getElementById(\"altair-viz-6b052f4e526f4ee5a0d7d1451459bdbf\");\n",
       "    }\n",
       "    const paths = {\n",
       "      \"vega\": \"https://cdn.jsdelivr.net/npm//vega@5?noext\",\n",
       "      \"vega-lib\": \"https://cdn.jsdelivr.net/npm//vega-lib?noext\",\n",
       "      \"vega-lite\": \"https://cdn.jsdelivr.net/npm//vega-lite@4.8.1?noext\",\n",
       "      \"vega-embed\": \"https://cdn.jsdelivr.net/npm//vega-embed@6?noext\",\n",
       "    };\n",
       "\n",
       "    function loadScript(lib) {\n",
       "      return new Promise(function(resolve, reject) {\n",
       "        var s = document.createElement('script');\n",
       "        s.src = paths[lib];\n",
       "        s.async = true;\n",
       "        s.onload = () => resolve(paths[lib]);\n",
       "        s.onerror = () => reject(`Error loading script: ${paths[lib]}`);\n",
       "        document.getElementsByTagName(\"head\")[0].appendChild(s);\n",
       "      });\n",
       "    }\n",
       "\n",
       "    function showError(err) {\n",
       "      outputDiv.innerHTML = `<div class=\"error\" style=\"color:red;\">${err}</div>`;\n",
       "      throw err;\n",
       "    }\n",
       "\n",
       "    function displayChart(vegaEmbed) {\n",
       "      vegaEmbed(outputDiv, spec, embedOpt)\n",
       "        .catch(err => showError(`Javascript Error: ${err.message}<br>This usually means there's a typo in your chart specification. See the javascript console for the full traceback.`));\n",
       "    }\n",
       "\n",
       "    if(typeof define === \"function\" && define.amd) {\n",
       "      requirejs.config({paths});\n",
       "      require([\"vega-embed\"], displayChart, err => showError(`Error loading script: ${err.message}`));\n",
       "    } else if (typeof vegaEmbed === \"function\") {\n",
       "      displayChart(vegaEmbed);\n",
       "    } else {\n",
       "      loadScript(\"vega\")\n",
       "        .then(() => loadScript(\"vega-lite\"))\n",
       "        .then(() => loadScript(\"vega-embed\"))\n",
       "        .catch(showError)\n",
       "        .then(() => displayChart(vegaEmbed));\n",
       "    }\n",
       "  })({\"config\": {\"axisLeft\": {\"labelFontSize\": 15}, \"axisBottom\": {\"labelFontSize\": 15}}, \"data\": {\"name\": \"data-807705750c964a95ad0978c0045605ee\"}, \"mark\": \"line\", \"encoding\": {\"color\": {\"type\": \"nominal\", \"field\": \"repo\"}, \"tooltip\": {\"type\": \"nominal\", \"field\": \"repo\"}, \"x\": {\"type\": \"temporal\", \"field\": \"closedAt\"}, \"y\": {\"type\": \"quantitative\", \"field\": \"count\"}}, \"width\": 600, \"$schema\": \"https://vega.github.io/schema/vega-lite/v4.8.1.json\", \"datasets\": {\"data-807705750c964a95ad0978c0045605ee\": [{\"repo\": \"action-k3s-helm\", \"closedAt\": \"2021-10-10T00:00:00\", \"count\": 2}, {\"repo\": \"action-k8s-namespace-report\", \"closedAt\": \"2021-09-26T00:00:00\", \"count\": 1}, {\"repo\": \"action-major-minor-tag-calculator\", \"closedAt\": \"2021-09-26T00:00:00\", \"count\": 1}, {\"repo\": \"action-major-minor-tag-calculator\", \"closedAt\": \"2021-10-03T00:00:00\", \"count\": 0}, {\"repo\": \"action-major-minor-tag-calculator\", \"closedAt\": \"2021-10-10T00:00:00\", \"count\": 0}, {\"repo\": \"action-major-minor-tag-calculator\", \"closedAt\": \"2021-10-17T00:00:00\", \"count\": 0}, {\"repo\": \"action-major-minor-tag-calculator\", \"closedAt\": \"2021-10-24T00:00:00\", \"count\": 0}, {\"repo\": \"action-major-minor-tag-calculator\", \"closedAt\": \"2021-10-31T00:00:00\", \"count\": 1}, {\"repo\": \"binder\", \"closedAt\": \"2021-10-03T00:00:00\", \"count\": 1}, {\"repo\": \"binderhub\", \"closedAt\": \"2021-09-19T00:00:00\", \"count\": 1}, {\"repo\": \"binderhub\", \"closedAt\": \"2021-09-26T00:00:00\", \"count\": 12}, {\"repo\": \"binderhub\", \"closedAt\": \"2021-10-03T00:00:00\", \"count\": 2}, {\"repo\": \"binderhub\", \"closedAt\": \"2021-10-10T00:00:00\", \"count\": 10}, {\"repo\": \"binderhub\", \"closedAt\": \"2021-10-17T00:00:00\", \"count\": 0}, {\"repo\": \"binderhub\", \"closedAt\": \"2021-10-24T00:00:00\", \"count\": 1}, {\"repo\": \"binderhub\", \"closedAt\": \"2021-10-31T00:00:00\", \"count\": 0}, {\"repo\": \"binderhub\", \"closedAt\": \"2021-11-07T00:00:00\", \"count\": 0}, {\"repo\": \"binderhub\", \"closedAt\": \"2021-11-14T00:00:00\", \"count\": 0}, {\"repo\": \"binderhub\", \"closedAt\": \"2021-11-21T00:00:00\", \"count\": 1}, {\"repo\": \"docker-image-cleaner\", \"closedAt\": \"2021-09-26T00:00:00\", \"count\": 1}, {\"repo\": \"docker-image-cleaner\", \"closedAt\": \"2021-10-03T00:00:00\", \"count\": 0}, {\"repo\": \"docker-image-cleaner\", \"closedAt\": \"2021-10-10T00:00:00\", \"count\": 1}, {\"repo\": \"docker-stacks\", \"closedAt\": \"2021-10-24T00:00:00\", \"count\": 1}, {\"repo\": \"docker-stacks\", \"closedAt\": \"2021-10-31T00:00:00\", \"count\": 0}, {\"repo\": \"docker-stacks\", \"closedAt\": \"2021-11-07T00:00:00\", \"count\": 1}, {\"repo\": \"docker-stacks\", \"closedAt\": \"2021-11-14T00:00:00\", \"count\": 1}, {\"repo\": \"firstuseauthenticator\", \"closedAt\": \"2021-10-31T00:00:00\", \"count\": 4}, {\"repo\": \"jupyterhub\", \"closedAt\": \"2021-08-29T00:00:00\", \"count\": 3}, {\"repo\": \"jupyterhub\", \"closedAt\": \"2021-09-05T00:00:00\", \"count\": 0}, {\"repo\": \"jupyterhub\", \"closedAt\": \"2021-09-12T00:00:00\", \"count\": 0}, {\"repo\": \"jupyterhub\", \"closedAt\": \"2021-09-19T00:00:00\", \"count\": 0}, {\"repo\": \"jupyterhub\", \"closedAt\": \"2021-09-26T00:00:00\", \"count\": 0}, {\"repo\": \"jupyterhub\", \"closedAt\": \"2021-10-03T00:00:00\", \"count\": 3}, {\"repo\": \"jupyterhub\", \"closedAt\": \"2021-10-10T00:00:00\", \"count\": 0}, {\"repo\": \"jupyterhub\", \"closedAt\": \"2021-10-17T00:00:00\", \"count\": 2}, {\"repo\": \"jupyterhub\", \"closedAt\": \"2021-10-24T00:00:00\", \"count\": 2}, {\"repo\": \"jupyterhub\", \"closedAt\": \"2021-10-31T00:00:00\", \"count\": 9}, {\"repo\": \"jupyterhub\", \"closedAt\": \"2021-11-07T00:00:00\", \"count\": 1}, {\"repo\": \"jupyterhub\", \"closedAt\": \"2021-11-14T00:00:00\", \"count\": 1}, {\"repo\": \"jupyterhub-idle-culler\", \"closedAt\": \"2021-09-19T00:00:00\", \"count\": 2}, {\"repo\": \"jupyterhub-idle-culler\", \"closedAt\": \"2021-09-26T00:00:00\", \"count\": 0}, {\"repo\": \"jupyterhub-idle-culler\", \"closedAt\": \"2021-10-03T00:00:00\", \"count\": 0}, {\"repo\": \"jupyterhub-idle-culler\", \"closedAt\": \"2021-10-10T00:00:00\", \"count\": 0}, {\"repo\": \"jupyterhub-idle-culler\", \"closedAt\": \"2021-10-17T00:00:00\", \"count\": 3}, {\"repo\": \"kubespawner\", \"closedAt\": \"2021-10-10T00:00:00\", \"count\": 1}, {\"repo\": \"kubespawner\", \"closedAt\": \"2021-10-17T00:00:00\", \"count\": 0}, {\"repo\": \"kubespawner\", \"closedAt\": \"2021-10-24T00:00:00\", \"count\": 1}, {\"repo\": \"kubespawner\", \"closedAt\": \"2021-10-31T00:00:00\", \"count\": 1}, {\"repo\": \"kubespawner\", \"closedAt\": \"2021-11-07T00:00:00\", \"count\": 1}, {\"repo\": \"ltiauthenticator\", \"closedAt\": \"2021-11-21T00:00:00\", \"count\": 2}, {\"repo\": \"mybinder.org-deploy\", \"closedAt\": \"2021-10-17T00:00:00\", \"count\": 1}, {\"repo\": \"nativeauthenticator\", \"closedAt\": \"2021-11-07T00:00:00\", \"count\": 1}, {\"repo\": \"nativeauthenticator\", \"closedAt\": \"2021-11-14T00:00:00\", \"count\": 2}, {\"repo\": \"nbgitpuller\", \"closedAt\": \"2021-11-07T00:00:00\", \"count\": 2}, {\"repo\": \"nbgitpuller\", \"closedAt\": \"2021-11-14T00:00:00\", \"count\": 0}, {\"repo\": \"nbgitpuller\", \"closedAt\": \"2021-11-21T00:00:00\", \"count\": 1}, {\"repo\": \"oauthenticator\", \"closedAt\": \"2021-10-17T00:00:00\", \"count\": 1}, {\"repo\": \"repo2docker-action\", \"closedAt\": \"2021-11-07T00:00:00\", \"count\": 1}, {\"repo\": \"team-compass\", \"closedAt\": \"2021-10-03T00:00:00\", \"count\": 1}, {\"repo\": \"the-littlest-jupyterhub\", \"closedAt\": \"2021-10-17T00:00:00\", \"count\": 2}, {\"repo\": \"the-littlest-jupyterhub\", \"closedAt\": \"2021-10-24T00:00:00\", \"count\": 5}, {\"repo\": \"the-littlest-jupyterhub\", \"closedAt\": \"2021-10-31T00:00:00\", \"count\": 6}, {\"repo\": \"the-littlest-jupyterhub\", \"closedAt\": \"2021-11-07T00:00:00\", \"count\": 3}, {\"repo\": \"zero-to-jupyterhub-k8s\", \"closedAt\": \"2021-09-26T00:00:00\", \"count\": 4}, {\"repo\": \"zero-to-jupyterhub-k8s\", \"closedAt\": \"2021-10-03T00:00:00\", \"count\": 4}, {\"repo\": \"zero-to-jupyterhub-k8s\", \"closedAt\": \"2021-10-10T00:00:00\", \"count\": 3}, {\"repo\": \"zero-to-jupyterhub-k8s\", \"closedAt\": \"2021-10-17T00:00:00\", \"count\": 10}, {\"repo\": \"zero-to-jupyterhub-k8s\", \"closedAt\": \"2021-10-24T00:00:00\", \"count\": 1}, {\"repo\": \"zero-to-jupyterhub-k8s\", \"closedAt\": \"2021-10-31T00:00:00\", \"count\": 5}, {\"repo\": \"zero-to-jupyterhub-k8s\", \"closedAt\": \"2021-11-07T00:00:00\", \"count\": 4}, {\"repo\": \"zero-to-jupyterhub-k8s\", \"closedAt\": \"2021-11-14T00:00:00\", \"count\": 0}, {\"repo\": \"zero-to-jupyterhub-k8s\", \"closedAt\": \"2021-11-21T00:00:00\", \"count\": 2}]}}, {\"mode\": \"vega-lite\"});\n",
       "</script>"
      ],
      "text/plain": [
       "alt.Chart(...)"
      ]
     },
     "execution_count": 15,
     "metadata": {},
     "output_type": "execute_result"
    }
   ],
   "source": [
    "closed_by_time = closed_by.groupby('repo').resample('W', on='closedAt').count()['author'].reset_index()\n",
    "closed_by_time = closed_by_time.rename(columns={'author': 'count'})\n",
    "\n",
    "alt.Chart(closed_by_time, width=600).mark_line().encode(\n",
    "    x='closedAt',\n",
    "    y='count',\n",
    "    color='repo',\n",
    "    tooltip=\"repo\"\n",
    ")"
   ]
  },
  {
   "cell_type": "markdown",
   "id": "153c72c1",
   "metadata": {
    "papermill": {
     "duration": 0.017508,
     "end_time": "2021-11-18T01:34:24.576838",
     "exception": false,
     "start_time": "2021-11-18T01:34:24.559330",
     "status": "completed"
    },
    "tags": []
   },
   "source": [
    "## By type over time"
   ]
  },
  {
   "cell_type": "code",
   "execution_count": 16,
   "id": "e7843f12",
   "metadata": {
    "execution": {
     "iopub.execute_input": "2021-11-18T01:34:24.627824Z",
     "iopub.status.busy": "2021-11-18T01:34:24.623767Z",
     "iopub.status.idle": "2021-11-18T01:34:24.639826Z",
     "shell.execute_reply": "2021-11-18T01:34:24.639289Z"
    },
    "papermill": {
     "duration": 0.04498,
     "end_time": "2021-11-18T01:34:24.639968",
     "exception": false,
     "start_time": "2021-11-18T01:34:24.594988",
     "status": "completed"
    },
    "tags": [
     "remove_cell"
    ]
   },
   "outputs": [],
   "source": [
    "prs_time = prs[['author', 'createdAt']].resample('W', on='createdAt').count()['author'].reset_index()\n",
    "prs_time = prs_time.rename(columns={'author': 'prs'})\n",
    "comments_time = comments[['author', 'createdAt']].resample('W', on='createdAt').count()['author'].reset_index()\n",
    "comments_time = comments_time.rename(columns={'author': 'comments'})\n",
    "\n",
    "total_time = pd.merge(prs_time, comments_time, on='createdAt', how='outer')\n",
    "total_time = total_time.melt(id_vars='createdAt', var_name=\"kind\", value_name=\"count\")\n"
   ]
  },
  {
   "cell_type": "code",
   "execution_count": 17,
   "id": "9b4835ae",
   "metadata": {
    "execution": {
     "iopub.execute_input": "2021-11-18T01:34:24.700598Z",
     "iopub.status.busy": "2021-11-18T01:34:24.688448Z",
     "iopub.status.idle": "2021-11-18T01:34:24.705413Z",
     "shell.execute_reply": "2021-11-18T01:34:24.704924Z"
    },
    "papermill": {
     "duration": 0.0486,
     "end_time": "2021-11-18T01:34:24.705566",
     "exception": false,
     "start_time": "2021-11-18T01:34:24.656966",
     "status": "completed"
    },
    "tags": [
     "hide_input"
    ]
   },
   "outputs": [
    {
     "data": {
      "text/html": [
       "\n",
       "<div id=\"altair-viz-758b078b2f824e7cabeba66ba9b2b9c5\"></div>\n",
       "<script type=\"text/javascript\">\n",
       "  (function(spec, embedOpt){\n",
       "    let outputDiv = document.currentScript.previousElementSibling;\n",
       "    if (outputDiv.id !== \"altair-viz-758b078b2f824e7cabeba66ba9b2b9c5\") {\n",
       "      outputDiv = document.getElementById(\"altair-viz-758b078b2f824e7cabeba66ba9b2b9c5\");\n",
       "    }\n",
       "    const paths = {\n",
       "      \"vega\": \"https://cdn.jsdelivr.net/npm//vega@5?noext\",\n",
       "      \"vega-lib\": \"https://cdn.jsdelivr.net/npm//vega-lib?noext\",\n",
       "      \"vega-lite\": \"https://cdn.jsdelivr.net/npm//vega-lite@4.8.1?noext\",\n",
       "      \"vega-embed\": \"https://cdn.jsdelivr.net/npm//vega-embed@6?noext\",\n",
       "    };\n",
       "\n",
       "    function loadScript(lib) {\n",
       "      return new Promise(function(resolve, reject) {\n",
       "        var s = document.createElement('script');\n",
       "        s.src = paths[lib];\n",
       "        s.async = true;\n",
       "        s.onload = () => resolve(paths[lib]);\n",
       "        s.onerror = () => reject(`Error loading script: ${paths[lib]}`);\n",
       "        document.getElementsByTagName(\"head\")[0].appendChild(s);\n",
       "      });\n",
       "    }\n",
       "\n",
       "    function showError(err) {\n",
       "      outputDiv.innerHTML = `<div class=\"error\" style=\"color:red;\">${err}</div>`;\n",
       "      throw err;\n",
       "    }\n",
       "\n",
       "    function displayChart(vegaEmbed) {\n",
       "      vegaEmbed(outputDiv, spec, embedOpt)\n",
       "        .catch(err => showError(`Javascript Error: ${err.message}<br>This usually means there's a typo in your chart specification. See the javascript console for the full traceback.`));\n",
       "    }\n",
       "\n",
       "    if(typeof define === \"function\" && define.amd) {\n",
       "      requirejs.config({paths});\n",
       "      require([\"vega-embed\"], displayChart, err => showError(`Error loading script: ${err.message}`));\n",
       "    } else if (typeof vegaEmbed === \"function\") {\n",
       "      displayChart(vegaEmbed);\n",
       "    } else {\n",
       "      loadScript(\"vega\")\n",
       "        .then(() => loadScript(\"vega-lite\"))\n",
       "        .then(() => loadScript(\"vega-embed\"))\n",
       "        .catch(showError)\n",
       "        .then(() => displayChart(vegaEmbed));\n",
       "    }\n",
       "  })({\"config\": {\"axisLeft\": {\"labelFontSize\": 15}, \"axisBottom\": {\"labelFontSize\": 15}}, \"data\": {\"name\": \"data-0743e0246be92f7e86619b89f84f4f20\"}, \"mark\": \"line\", \"encoding\": {\"color\": {\"type\": \"nominal\", \"field\": \"kind\"}, \"x\": {\"type\": \"temporal\", \"field\": \"createdAt\"}, \"y\": {\"type\": \"quantitative\", \"field\": \"count\"}}, \"width\": 600, \"$schema\": \"https://vega.github.io/schema/vega-lite/v4.8.1.json\", \"datasets\": {\"data-0743e0246be92f7e86619b89f84f4f20\": [{\"createdAt\": \"2021-06-13T00:00:00\", \"kind\": \"prs\", \"count\": 1.0}, {\"createdAt\": \"2021-06-20T00:00:00\", \"kind\": \"prs\", \"count\": 0.0}, {\"createdAt\": \"2021-06-27T00:00:00\", \"kind\": \"prs\", \"count\": 0.0}, {\"createdAt\": \"2021-07-04T00:00:00\", \"kind\": \"prs\", \"count\": 0.0}, {\"createdAt\": \"2021-07-11T00:00:00\", \"kind\": \"prs\", \"count\": 0.0}, {\"createdAt\": \"2021-07-18T00:00:00\", \"kind\": \"prs\", \"count\": 1.0}, {\"createdAt\": \"2021-07-25T00:00:00\", \"kind\": \"prs\", \"count\": 0.0}, {\"createdAt\": \"2021-08-01T00:00:00\", \"kind\": \"prs\", \"count\": 0.0}, {\"createdAt\": \"2021-08-08T00:00:00\", \"kind\": \"prs\", \"count\": 0.0}, {\"createdAt\": \"2021-08-15T00:00:00\", \"kind\": \"prs\", \"count\": 1.0}, {\"createdAt\": \"2021-08-22T00:00:00\", \"kind\": \"prs\", \"count\": 1.0}, {\"createdAt\": \"2021-08-29T00:00:00\", \"kind\": \"prs\", \"count\": 3.0}, {\"createdAt\": \"2021-09-05T00:00:00\", \"kind\": \"prs\", \"count\": 0.0}, {\"createdAt\": \"2021-09-12T00:00:00\", \"kind\": \"prs\", \"count\": 0.0}, {\"createdAt\": \"2021-09-19T00:00:00\", \"kind\": \"prs\", \"count\": 0.0}, {\"createdAt\": \"2021-09-26T00:00:00\", \"kind\": \"prs\", \"count\": 24.0}, {\"createdAt\": \"2021-10-03T00:00:00\", \"kind\": \"prs\", \"count\": 6.0}, {\"createdAt\": \"2021-10-10T00:00:00\", \"kind\": \"prs\", \"count\": 19.0}, {\"createdAt\": \"2021-10-17T00:00:00\", \"kind\": \"prs\", \"count\": 16.0}, {\"createdAt\": \"2021-10-24T00:00:00\", \"kind\": \"prs\", \"count\": 11.0}, {\"createdAt\": \"2021-10-31T00:00:00\", \"kind\": \"prs\", \"count\": 24.0}, {\"createdAt\": \"2021-11-07T00:00:00\", \"kind\": \"prs\", \"count\": 10.0}, {\"createdAt\": \"2021-11-14T00:00:00\", \"kind\": \"prs\", \"count\": 1.0}, {\"createdAt\": \"2021-11-21T00:00:00\", \"kind\": \"prs\", \"count\": null}, {\"createdAt\": \"2021-06-13T00:00:00\", \"kind\": \"comments\", \"count\": null}, {\"createdAt\": \"2021-06-20T00:00:00\", \"kind\": \"comments\", \"count\": null}, {\"createdAt\": \"2021-06-27T00:00:00\", \"kind\": \"comments\", \"count\": null}, {\"createdAt\": \"2021-07-04T00:00:00\", \"kind\": \"comments\", \"count\": null}, {\"createdAt\": \"2021-07-11T00:00:00\", \"kind\": \"comments\", \"count\": null}, {\"createdAt\": \"2021-07-18T00:00:00\", \"kind\": \"comments\", \"count\": null}, {\"createdAt\": \"2021-07-25T00:00:00\", \"kind\": \"comments\", \"count\": null}, {\"createdAt\": \"2021-08-01T00:00:00\", \"kind\": \"comments\", \"count\": null}, {\"createdAt\": \"2021-08-08T00:00:00\", \"kind\": \"comments\", \"count\": null}, {\"createdAt\": \"2021-08-15T00:00:00\", \"kind\": \"comments\", \"count\": null}, {\"createdAt\": \"2021-08-22T00:00:00\", \"kind\": \"comments\", \"count\": null}, {\"createdAt\": \"2021-08-29T00:00:00\", \"kind\": \"comments\", \"count\": null}, {\"createdAt\": \"2021-09-05T00:00:00\", \"kind\": \"comments\", \"count\": null}, {\"createdAt\": \"2021-09-12T00:00:00\", \"kind\": \"comments\", \"count\": null}, {\"createdAt\": \"2021-09-19T00:00:00\", \"kind\": \"comments\", \"count\": 3.0}, {\"createdAt\": \"2021-09-26T00:00:00\", \"kind\": \"comments\", \"count\": 55.0}, {\"createdAt\": \"2021-10-03T00:00:00\", \"kind\": \"comments\", \"count\": 26.0}, {\"createdAt\": \"2021-10-10T00:00:00\", \"kind\": \"comments\", \"count\": 40.0}, {\"createdAt\": \"2021-10-17T00:00:00\", \"kind\": \"comments\", \"count\": 40.0}, {\"createdAt\": \"2021-10-24T00:00:00\", \"kind\": \"comments\", \"count\": 81.0}, {\"createdAt\": \"2021-10-31T00:00:00\", \"kind\": \"comments\", \"count\": 119.0}, {\"createdAt\": \"2021-11-07T00:00:00\", \"kind\": \"comments\", \"count\": 34.0}, {\"createdAt\": \"2021-11-14T00:00:00\", \"kind\": \"comments\", \"count\": 23.0}, {\"createdAt\": \"2021-11-21T00:00:00\", \"kind\": \"comments\", \"count\": 11.0}]}}, {\"mode\": \"vega-lite\"});\n",
       "</script>"
      ],
      "text/plain": [
       "alt.Chart(...)"
      ]
     },
     "execution_count": 17,
     "metadata": {},
     "output_type": "execute_result"
    }
   ],
   "source": [
    "alt.Chart(total_time, width=600).mark_line().encode(\n",
    "    x='createdAt',\n",
    "    y='count',\n",
    "    color='kind'\n",
    ")"
   ]
  }
 ],
 "metadata": {
  "kernelspec": {
   "display_name": "Python 3 (ipykernel)",
   "language": "python",
   "name": "python3"
  },
  "language_info": {
   "codemirror_mode": {
    "name": "ipython",
    "version": 3
   },
   "file_extension": ".py",
   "mimetype": "text/x-python",
   "name": "python",
   "nbconvert_exporter": "python",
   "pygments_lexer": "ipython3",
   "version": "3.7.12"
  },
  "papermill": {
   "default_parameters": {},
   "duration": 4.518252,
   "end_time": "2021-11-18T01:34:25.135022",
   "environment_variables": {},
   "exception": null,
   "input_path": "./templates/person_report.ipynb",
   "output_path": "generated/people/consideRatio.ipynb",
   "parameters": {
    "n_days": 90,
    "person": "consideRatio"
   },
   "start_time": "2021-11-18T01:34:20.616770",
   "version": "2.3.3"
  },
  "widgets": {
   "application/vnd.jupyter.widget-state+json": {
    "state": {},
    "version_major": 2,
    "version_minor": 0
   }
  }
 },
 "nbformat": 4,
 "nbformat_minor": 5
}