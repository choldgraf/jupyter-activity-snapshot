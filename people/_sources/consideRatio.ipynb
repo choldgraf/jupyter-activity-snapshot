{
 "cells": [
  {
   "cell_type": "markdown",
   "metadata": {
    "papermill": {
     "duration": 0.015062,
     "end_time": "2020-06-16T01:12:33.562334",
     "exception": false,
     "start_time": "2020-06-16T01:12:33.547272",
     "status": "completed"
    },
    "tags": []
   },
   "source": [
    "# Report for consideRatio"
   ]
  },
  {
   "cell_type": "code",
   "execution_count": 1,
   "metadata": {
    "execution": {
     "iopub.execute_input": "2020-06-16T01:12:33.599091Z",
     "iopub.status.busy": "2020-06-16T01:12:33.598519Z",
     "iopub.status.idle": "2020-06-16T01:12:34.472229Z",
     "shell.execute_reply": "2020-06-16T01:12:34.471112Z"
    },
    "papermill": {
     "duration": 0.895739,
     "end_time": "2020-06-16T01:12:34.472357",
     "exception": false,
     "start_time": "2020-06-16T01:12:33.576618",
     "status": "completed"
    },
    "tags": [
     "remove_cell"
    ]
   },
   "outputs": [],
   "source": [
    "import seaborn as sns\n",
    "import pandas as pd\n",
    "import numpy as np\n",
    "import altair as alt\n",
    "from markdown import markdown\n",
    "from IPython.display import Markdown\n",
    "from ipywidgets.widgets import HTML, Tab\n",
    "from ipywidgets import widgets\n",
    "from datetime import timedelta\n",
    "from matplotlib import pyplot as plt\n",
    "import os.path as op\n",
    "\n",
    "from mycode import alt_theme\n",
    "from warnings import simplefilter\n",
    "simplefilter('ignore')"
   ]
  },
  {
   "cell_type": "code",
   "execution_count": 2,
   "metadata": {
    "execution": {
     "iopub.execute_input": "2020-06-16T01:12:34.505333Z",
     "iopub.status.busy": "2020-06-16T01:12:34.504485Z",
     "iopub.status.idle": "2020-06-16T01:12:34.506501Z",
     "shell.execute_reply": "2020-06-16T01:12:34.506034Z"
    },
    "papermill": {
     "duration": 0.020336,
     "end_time": "2020-06-16T01:12:34.506599",
     "exception": false,
     "start_time": "2020-06-16T01:12:34.486263",
     "status": "completed"
    },
    "tags": [
     "remove_cell"
    ]
   },
   "outputs": [],
   "source": [
    "def author_url(author):\n",
    "    return f\"https://github.com/{author}\""
   ]
  },
  {
   "cell_type": "code",
   "execution_count": 3,
   "metadata": {
    "execution": {
     "iopub.execute_input": "2020-06-16T01:12:34.536951Z",
     "iopub.status.busy": "2020-06-16T01:12:34.536409Z",
     "iopub.status.idle": "2020-06-16T01:12:34.538804Z",
     "shell.execute_reply": "2020-06-16T01:12:34.538268Z"
    },
    "papermill": {
     "duration": 0.01975,
     "end_time": "2020-06-16T01:12:34.538899",
     "exception": false,
     "start_time": "2020-06-16T01:12:34.519149",
     "status": "completed"
    },
    "tags": [
     "parameters",
     "hide_input"
    ]
   },
   "outputs": [],
   "source": [
    "# Parameters\n",
    "fmt_date = \"{:%Y-%m-%d}\"\n",
    "\n",
    "n_days = 30 * 2\n",
    "start_date = fmt_date.format(pd.datetime.today() - timedelta(days=n_days))\n",
    "end_date = fmt_date.format(pd.datetime.today())\n",
    "\n",
    "renderer = \"html\"\n",
    "person = \"jasongrout\""
   ]
  },
  {
   "cell_type": "code",
   "execution_count": 4,
   "metadata": {
    "execution": {
     "iopub.execute_input": "2020-06-16T01:12:34.576301Z",
     "iopub.status.busy": "2020-06-16T01:12:34.575745Z",
     "iopub.status.idle": "2020-06-16T01:12:34.577839Z",
     "shell.execute_reply": "2020-06-16T01:12:34.577370Z"
    },
    "papermill": {
     "duration": 0.026704,
     "end_time": "2020-06-16T01:12:34.577935",
     "exception": false,
     "start_time": "2020-06-16T01:12:34.551231",
     "status": "completed"
    },
    "tags": [
     "injected-parameters",
     "remove-cell"
    ]
   },
   "outputs": [],
   "source": [
    "# Parameters\n",
    "person = \"consideRatio\"\n",
    "n_days = 60\n"
   ]
  },
  {
   "cell_type": "code",
   "execution_count": 5,
   "metadata": {
    "execution": {
     "iopub.execute_input": "2020-06-16T01:12:34.607877Z",
     "iopub.status.busy": "2020-06-16T01:12:34.607335Z",
     "iopub.status.idle": "2020-06-16T01:12:34.613819Z",
     "shell.execute_reply": "2020-06-16T01:12:34.613247Z"
    },
    "papermill": {
     "duration": 0.021922,
     "end_time": "2020-06-16T01:12:34.613912",
     "exception": false,
     "start_time": "2020-06-16T01:12:34.591990",
     "status": "completed"
    },
    "tags": [
     "remove_cell"
    ]
   },
   "outputs": [
    {
     "data": {
      "text/plain": [
       "ThemeRegistry.enable('my_theme')"
      ]
     },
     "execution_count": 5,
     "metadata": {},
     "output_type": "execute_result"
    }
   ],
   "source": [
    "alt.renderers.enable(renderer);\n",
    "alt.themes.register('my_theme', alt_theme)\n",
    "alt.themes.enable(\"my_theme\")"
   ]
  },
  {
   "cell_type": "markdown",
   "metadata": {
    "papermill": {
     "duration": 0.013167,
     "end_time": "2020-06-16T01:12:34.640264",
     "exception": false,
     "start_time": "2020-06-16T01:12:34.627097",
     "status": "completed"
    },
    "tags": []
   },
   "source": [
    "## Load data"
   ]
  },
  {
   "cell_type": "code",
   "execution_count": 6,
   "metadata": {
    "execution": {
     "iopub.execute_input": "2020-06-16T01:12:34.673075Z",
     "iopub.status.busy": "2020-06-16T01:12:34.672532Z",
     "iopub.status.idle": "2020-06-16T01:12:34.818647Z",
     "shell.execute_reply": "2020-06-16T01:12:34.818116Z"
    },
    "papermill": {
     "duration": 0.165154,
     "end_time": "2020-06-16T01:12:34.818755",
     "exception": false,
     "start_time": "2020-06-16T01:12:34.653601",
     "status": "completed"
    },
    "tags": [
     "remove_cell"
    ]
   },
   "outputs": [],
   "source": [
    "from pathlib import Path\n",
    "path_data = Path(\"./\")\n",
    "comments = pd.read_csv(path_data.joinpath('comments.csv'), index_col=0)\n",
    "issues = pd.read_csv(path_data.joinpath('issues.csv'), index_col=0)\n",
    "prs = pd.read_csv(path_data.joinpath('prs.csv'), index_col=0)\n",
    "\n",
    "comments = comments.query('author == @person').drop_duplicates()\n",
    "issues = issues.query('author == @person').drop_duplicates()\n",
    "closed_by = prs.query('mergedBy == @person')\n",
    "prs = prs.query('author == @person').drop_duplicates()"
   ]
  },
  {
   "cell_type": "code",
   "execution_count": 7,
   "metadata": {
    "execution": {
     "iopub.execute_input": "2020-06-16T01:12:34.851740Z",
     "iopub.status.busy": "2020-06-16T01:12:34.851187Z",
     "iopub.status.idle": "2020-06-16T01:12:34.910346Z",
     "shell.execute_reply": "2020-06-16T01:12:34.909570Z"
    },
    "papermill": {
     "duration": 0.076574,
     "end_time": "2020-06-16T01:12:34.910451",
     "exception": false,
     "start_time": "2020-06-16T01:12:34.833877",
     "status": "completed"
    },
    "tags": [
     "remove_cell"
    ]
   },
   "outputs": [],
   "source": [
    "# Time columns\n",
    "# Also drop dates outside of our range\n",
    "time_columns = ['updatedAt', 'createdAt', 'closedAt']\n",
    "for col in time_columns:\n",
    "    for item in [comments, issues, prs, closed_by]:\n",
    "        if col not in item.columns:\n",
    "            continue\n",
    "        dt = pd.to_datetime(item[col]).dt.tz_localize(None)\n",
    "        item[col] = dt\n",
    "        item.query(\"updatedAt < @end_date and updatedAt > @start_date\", inplace=True)"
   ]
  },
  {
   "cell_type": "markdown",
   "metadata": {
    "papermill": {
     "duration": 0.01354,
     "end_time": "2020-06-16T01:12:34.937580",
     "exception": false,
     "start_time": "2020-06-16T01:12:34.924040",
     "status": "completed"
    },
    "tags": []
   },
   "source": [
    "# Repository summaries"
   ]
  },
  {
   "cell_type": "code",
   "execution_count": 8,
   "metadata": {
    "execution": {
     "iopub.execute_input": "2020-06-16T01:12:35.000675Z",
     "iopub.status.busy": "2020-06-16T01:12:34.999349Z",
     "iopub.status.idle": "2020-06-16T01:12:35.001248Z",
     "shell.execute_reply": "2020-06-16T01:12:35.001789Z"
    },
    "papermill": {
     "duration": 0.048795,
     "end_time": "2020-06-16T01:12:35.001919",
     "exception": false,
     "start_time": "2020-06-16T01:12:34.953124",
     "status": "completed"
    },
    "tags": [
     "remove_cell"
    ]
   },
   "outputs": [],
   "source": [
    "summaries = []\n",
    "for idata, name in [(issues, 'issues'), (prs, 'prs'), (comments, 'comments')]:\n",
    "    idata = idata.groupby([\"repo\", \"org\"]).agg({'id': \"count\"}).reset_index().rename(columns={'id': 'count'})\n",
    "    idata[\"kind\"] = name\n",
    "    summaries.append(idata)\n",
    "summaries = pd.concat(summaries)"
   ]
  },
  {
   "cell_type": "code",
   "execution_count": 9,
   "metadata": {
    "execution": {
     "iopub.execute_input": "2020-06-16T01:12:35.035893Z",
     "iopub.status.busy": "2020-06-16T01:12:35.035351Z",
     "iopub.status.idle": "2020-06-16T01:12:35.045039Z",
     "shell.execute_reply": "2020-06-16T01:12:35.044562Z"
    },
    "papermill": {
     "duration": 0.029829,
     "end_time": "2020-06-16T01:12:35.045160",
     "exception": false,
     "start_time": "2020-06-16T01:12:35.015331",
     "status": "completed"
    },
    "tags": [
     "remove_cell"
    ]
   },
   "outputs": [],
   "source": [
    "repo_summaries = summaries.groupby([\"repo\", \"kind\"]).agg({\"count\": \"sum\"}).reset_index()\n",
    "org_summaries = summaries.groupby([\"org\", \"kind\"]).agg({\"count\": \"sum\"}).reset_index()"
   ]
  },
  {
   "cell_type": "code",
   "execution_count": 10,
   "metadata": {
    "execution": {
     "iopub.execute_input": "2020-06-16T01:12:35.082329Z",
     "iopub.status.busy": "2020-06-16T01:12:35.081766Z",
     "iopub.status.idle": "2020-06-16T01:12:35.084222Z",
     "shell.execute_reply": "2020-06-16T01:12:35.083645Z"
    },
    "papermill": {
     "duration": 0.024039,
     "end_time": "2020-06-16T01:12:35.084318",
     "exception": false,
     "start_time": "2020-06-16T01:12:35.060279",
     "status": "completed"
    },
    "tags": [
     "remove_cell"
    ]
   },
   "outputs": [],
   "source": [
    "repo_summaries['logcount'] = np.log(repo_summaries[\"count\"])"
   ]
  },
  {
   "cell_type": "code",
   "execution_count": 11,
   "metadata": {
    "execution": {
     "iopub.execute_input": "2020-06-16T01:12:35.125378Z",
     "iopub.status.busy": "2020-06-16T01:12:35.124800Z",
     "iopub.status.idle": "2020-06-16T01:12:35.172144Z",
     "shell.execute_reply": "2020-06-16T01:12:35.172696Z"
    },
    "papermill": {
     "duration": 0.074633,
     "end_time": "2020-06-16T01:12:35.172826",
     "exception": false,
     "start_time": "2020-06-16T01:12:35.098193",
     "status": "completed"
    },
    "tags": [
     "hide_input"
    ]
   },
   "outputs": [
    {
     "data": {
      "text/html": [
       "\n",
       "<div id=\"altair-viz-4456f19204ce449fa87c5fa38ebe8041\"></div>\n",
       "<script type=\"text/javascript\">\n",
       "  (function(spec, embedOpt){\n",
       "    let outputDiv = document.currentScript.previousElementSibling;\n",
       "    if (outputDiv.id !== \"altair-viz-4456f19204ce449fa87c5fa38ebe8041\") {\n",
       "      outputDiv = document.getElementById(\"altair-viz-4456f19204ce449fa87c5fa38ebe8041\");\n",
       "    }\n",
       "    const paths = {\n",
       "      \"vega\": \"https://cdn.jsdelivr.net/npm//vega@5?noext\",\n",
       "      \"vega-lib\": \"https://cdn.jsdelivr.net/npm//vega-lib?noext\",\n",
       "      \"vega-lite\": \"https://cdn.jsdelivr.net/npm//vega-lite@4.8.1?noext\",\n",
       "      \"vega-embed\": \"https://cdn.jsdelivr.net/npm//vega-embed@6?noext\",\n",
       "    };\n",
       "\n",
       "    function loadScript(lib) {\n",
       "      return new Promise(function(resolve, reject) {\n",
       "        var s = document.createElement('script');\n",
       "        s.src = paths[lib];\n",
       "        s.async = true;\n",
       "        s.onload = () => resolve(paths[lib]);\n",
       "        s.onerror = () => reject(`Error loading script: ${paths[lib]}`);\n",
       "        document.getElementsByTagName(\"head\")[0].appendChild(s);\n",
       "      });\n",
       "    }\n",
       "\n",
       "    function showError(err) {\n",
       "      outputDiv.innerHTML = `<div class=\"error\" style=\"color:red;\">${err}</div>`;\n",
       "      throw err;\n",
       "    }\n",
       "\n",
       "    function displayChart(vegaEmbed) {\n",
       "      vegaEmbed(outputDiv, spec, embedOpt)\n",
       "        .catch(err => showError(`Javascript Error: ${err.message}<br>This usually means there's a typo in your chart specification. See the javascript console for the full traceback.`));\n",
       "    }\n",
       "\n",
       "    if(typeof define === \"function\" && define.amd) {\n",
       "      requirejs.config({paths});\n",
       "      require([\"vega-embed\"], displayChart, err => showError(`Error loading script: ${err.message}`));\n",
       "    } else if (typeof vegaEmbed === \"function\") {\n",
       "      displayChart(vegaEmbed);\n",
       "    } else {\n",
       "      loadScript(\"vega\")\n",
       "        .then(() => loadScript(\"vega-lite\"))\n",
       "        .then(() => loadScript(\"vega-embed\"))\n",
       "        .catch(showError)\n",
       "        .then(() => displayChart(vegaEmbed));\n",
       "    }\n",
       "  })({\"config\": {\"axisLeft\": {\"labelFontSize\": 15}, \"axisBottom\": {\"labelFontSize\": 15}}, \"hconcat\": [{\"mark\": \"bar\", \"encoding\": {\"color\": {\"type\": \"nominal\", \"field\": \"kind\"}, \"tooltip\": {\"type\": \"nominal\", \"field\": \"kind\"}, \"x\": {\"type\": \"nominal\", \"field\": \"repo\"}, \"y\": {\"type\": \"quantitative\", \"field\": \"count\"}}, \"title\": \"Activity per repository\", \"width\": 600}, {\"mark\": \"bar\", \"encoding\": {\"color\": {\"type\": \"nominal\", \"field\": \"kind\"}, \"tooltip\": {\"type\": \"nominal\", \"field\": \"kind\"}, \"x\": {\"type\": \"nominal\", \"field\": \"repo\"}, \"y\": {\"type\": \"quantitative\", \"field\": \"logcount\"}}, \"title\": \"Log activity per repository\", \"width\": 600}], \"data\": {\"name\": \"data-3d1403e5313e0ec6de04494823ef2de9\"}, \"$schema\": \"https://vega.github.io/schema/vega-lite/v4.8.1.json\", \"datasets\": {\"data-3d1403e5313e0ec6de04494823ef2de9\": [{\"repo\": \".github\", \"kind\": \"comments\", \"count\": 3, \"logcount\": 1.0986122886681098}, {\"repo\": \"MyST-Parser\", \"kind\": \"comments\", \"count\": 3, \"logcount\": 1.0986122886681098}, {\"repo\": \"MyST-Parser\", \"kind\": \"issues\", \"count\": 1, \"logcount\": 0.0}, {\"repo\": \"binderhub\", \"kind\": \"comments\", \"count\": 5, \"logcount\": 1.6094379124341003}, {\"repo\": \"binderhub\", \"kind\": \"prs\", \"count\": 2, \"logcount\": 0.6931471805599453}, {\"repo\": \"configurable-http-proxy\", \"kind\": \"comments\", \"count\": 13, \"logcount\": 2.5649493574615367}, {\"repo\": \"configurable-http-proxy\", \"kind\": \"prs\", \"count\": 6, \"logcount\": 1.791759469228055}, {\"repo\": \"docker-stacks\", \"kind\": \"prs\", \"count\": 1, \"logcount\": 0.0}, {\"repo\": \"helm-chart\", \"kind\": \"comments\", \"count\": 6, \"logcount\": 1.791759469228055}, {\"repo\": \"helm-chart\", \"kind\": \"prs\", \"count\": 1, \"logcount\": 0.0}, {\"repo\": \"jupyter-book\", \"kind\": \"comments\", \"count\": 1, \"logcount\": 0.0}, {\"repo\": \"jupyter-book\", \"kind\": \"issues\", \"count\": 1, \"logcount\": 0.0}, {\"repo\": \"jupyter-book\", \"kind\": \"prs\", \"count\": 2, \"logcount\": 0.6931471805599453}, {\"repo\": \"jupyter-server-proxy\", \"kind\": \"comments\", \"count\": 4, \"logcount\": 1.3862943611198906}, {\"repo\": \"jupyterhub\", \"kind\": \"comments\", \"count\": 6, \"logcount\": 1.791759469228055}, {\"repo\": \"jupyterhub\", \"kind\": \"prs\", \"count\": 1, \"logcount\": 0.0}, {\"repo\": \"jupyterlab-sidecar\", \"kind\": \"prs\", \"count\": 1, \"logcount\": 0.0}, {\"repo\": \"kubespawner\", \"kind\": \"comments\", \"count\": 5, \"logcount\": 1.6094379124341003}, {\"repo\": \"meta\", \"kind\": \"prs\", \"count\": 1, \"logcount\": 0.0}, {\"repo\": \"mybinder.org-deploy\", \"kind\": \"comments\", \"count\": 7, \"logcount\": 1.9459101490553132}, {\"repo\": \"mybinder.org-deploy\", \"kind\": \"issues\", \"count\": 1, \"logcount\": 0.0}, {\"repo\": \"mybinder.org-deploy\", \"kind\": \"prs\", \"count\": 3, \"logcount\": 1.0986122886681098}, {\"repo\": \"notebook\", \"kind\": \"comments\", \"count\": 1, \"logcount\": 0.0}, {\"repo\": \"notebook\", \"kind\": \"prs\", \"count\": 1, \"logcount\": 0.0}, {\"repo\": \"pebble-helm-chart\", \"kind\": \"comments\", \"count\": 1, \"logcount\": 0.0}, {\"repo\": \"pebble-helm-chart\", \"kind\": \"prs\", \"count\": 6, \"logcount\": 1.791759469228055}, {\"repo\": \"team-compass\", \"kind\": \"comments\", \"count\": 13, \"logcount\": 2.5649493574615367}, {\"repo\": \"team-compass\", \"kind\": \"issues\", \"count\": 2, \"logcount\": 0.6931471805599453}, {\"repo\": \"the-littlest-jupyterhub\", \"kind\": \"comments\", \"count\": 1, \"logcount\": 0.0}, {\"repo\": \"traefik-proxy\", \"kind\": \"comments\", \"count\": 2, \"logcount\": 0.6931471805599453}, {\"repo\": \"zero-to-jupyterhub-k8s\", \"kind\": \"comments\", \"count\": 79, \"logcount\": 4.3694478524670215}, {\"repo\": \"zero-to-jupyterhub-k8s\", \"kind\": \"issues\", \"count\": 6, \"logcount\": 1.791759469228055}, {\"repo\": \"zero-to-jupyterhub-k8s\", \"kind\": \"prs\", \"count\": 26, \"logcount\": 3.258096538021482}]}}, {\"mode\": \"vega-lite\"});\n",
       "</script>"
      ],
      "text/plain": [
       "alt.HConcatChart(...)"
      ]
     },
     "execution_count": 11,
     "metadata": {},
     "output_type": "execute_result"
    }
   ],
   "source": [
    "ch1 = alt.Chart(repo_summaries, width=600, title=\"Activity per repository\").mark_bar().encode(\n",
    "    x='repo',\n",
    "    y='count',\n",
    "    color='kind',\n",
    "    tooltip=\"kind\"\n",
    ")\n",
    "\n",
    "ch2 = alt.Chart(repo_summaries, width=600, title=\"Log activity per repository\").mark_bar().encode(\n",
    "    x='repo',\n",
    "    y='logcount',\n",
    "    color='kind',\n",
    "    tooltip=\"kind\"\n",
    ")\n",
    "\n",
    "ch1 | ch2"
   ]
  },
  {
   "cell_type": "code",
   "execution_count": 12,
   "metadata": {
    "execution": {
     "iopub.execute_input": "2020-06-16T01:12:35.222108Z",
     "iopub.status.busy": "2020-06-16T01:12:35.217054Z",
     "iopub.status.idle": "2020-06-16T01:12:35.235106Z",
     "shell.execute_reply": "2020-06-16T01:12:35.234514Z"
    },
    "papermill": {
     "duration": 0.044856,
     "end_time": "2020-06-16T01:12:35.235209",
     "exception": false,
     "start_time": "2020-06-16T01:12:35.190353",
     "status": "completed"
    },
    "tags": [
     "hide_input"
    ]
   },
   "outputs": [
    {
     "data": {
      "text/html": [
       "\n",
       "<div id=\"altair-viz-6f78fc95b1494691a8707da7e46390b2\"></div>\n",
       "<script type=\"text/javascript\">\n",
       "  (function(spec, embedOpt){\n",
       "    let outputDiv = document.currentScript.previousElementSibling;\n",
       "    if (outputDiv.id !== \"altair-viz-6f78fc95b1494691a8707da7e46390b2\") {\n",
       "      outputDiv = document.getElementById(\"altair-viz-6f78fc95b1494691a8707da7e46390b2\");\n",
       "    }\n",
       "    const paths = {\n",
       "      \"vega\": \"https://cdn.jsdelivr.net/npm//vega@5?noext\",\n",
       "      \"vega-lib\": \"https://cdn.jsdelivr.net/npm//vega-lib?noext\",\n",
       "      \"vega-lite\": \"https://cdn.jsdelivr.net/npm//vega-lite@4.8.1?noext\",\n",
       "      \"vega-embed\": \"https://cdn.jsdelivr.net/npm//vega-embed@6?noext\",\n",
       "    };\n",
       "\n",
       "    function loadScript(lib) {\n",
       "      return new Promise(function(resolve, reject) {\n",
       "        var s = document.createElement('script');\n",
       "        s.src = paths[lib];\n",
       "        s.async = true;\n",
       "        s.onload = () => resolve(paths[lib]);\n",
       "        s.onerror = () => reject(`Error loading script: ${paths[lib]}`);\n",
       "        document.getElementsByTagName(\"head\")[0].appendChild(s);\n",
       "      });\n",
       "    }\n",
       "\n",
       "    function showError(err) {\n",
       "      outputDiv.innerHTML = `<div class=\"error\" style=\"color:red;\">${err}</div>`;\n",
       "      throw err;\n",
       "    }\n",
       "\n",
       "    function displayChart(vegaEmbed) {\n",
       "      vegaEmbed(outputDiv, spec, embedOpt)\n",
       "        .catch(err => showError(`Javascript Error: ${err.message}<br>This usually means there's a typo in your chart specification. See the javascript console for the full traceback.`));\n",
       "    }\n",
       "\n",
       "    if(typeof define === \"function\" && define.amd) {\n",
       "      requirejs.config({paths});\n",
       "      require([\"vega-embed\"], displayChart, err => showError(`Error loading script: ${err.message}`));\n",
       "    } else if (typeof vegaEmbed === \"function\") {\n",
       "      displayChart(vegaEmbed);\n",
       "    } else {\n",
       "      loadScript(\"vega\")\n",
       "        .then(() => loadScript(\"vega-lite\"))\n",
       "        .then(() => loadScript(\"vega-embed\"))\n",
       "        .catch(showError)\n",
       "        .then(() => displayChart(vegaEmbed));\n",
       "    }\n",
       "  })({\"config\": {\"axisLeft\": {\"labelFontSize\": 15}, \"axisBottom\": {\"labelFontSize\": 15}}, \"data\": {\"name\": \"data-84a9b83218c099f6d7c24414d6800d69\"}, \"mark\": \"bar\", \"encoding\": {\"color\": {\"type\": \"nominal\", \"field\": \"kind\"}, \"tooltip\": {\"type\": \"nominal\", \"field\": \"org\"}, \"x\": {\"type\": \"nominal\", \"field\": \"org\"}, \"y\": {\"type\": \"quantitative\", \"field\": \"count\"}}, \"width\": 600, \"$schema\": \"https://vega.github.io/schema/vega-lite/v4.8.1.json\", \"datasets\": {\"data-84a9b83218c099f6d7c24414d6800d69\": [{\"org\": \"executablebooks\", \"kind\": \"comments\", \"count\": 4}, {\"org\": \"executablebooks\", \"kind\": \"issues\", \"count\": 2}, {\"org\": \"executablebooks\", \"kind\": \"prs\", \"count\": 3}, {\"org\": \"jupyter\", \"kind\": \"comments\", \"count\": 1}, {\"org\": \"jupyter\", \"kind\": \"prs\", \"count\": 2}, {\"org\": \"jupyter-widgets\", \"kind\": \"prs\", \"count\": 1}, {\"org\": \"jupyterhub\", \"kind\": \"comments\", \"count\": 145}, {\"org\": \"jupyterhub\", \"kind\": \"issues\", \"count\": 9}, {\"org\": \"jupyterhub\", \"kind\": \"prs\", \"count\": 45}]}}, {\"mode\": \"vega-lite\"});\n",
       "</script>"
      ],
      "text/plain": [
       "alt.Chart(...)"
      ]
     },
     "execution_count": 12,
     "metadata": {},
     "output_type": "execute_result"
    }
   ],
   "source": [
    "alt.Chart(org_summaries, width=600).mark_bar().encode(\n",
    "    x='org',\n",
    "    y='count',\n",
    "    color='kind',\n",
    "    tooltip=\"org\"\n",
    ")"
   ]
  },
  {
   "cell_type": "markdown",
   "metadata": {
    "papermill": {
     "duration": 0.015053,
     "end_time": "2020-06-16T01:12:35.264974",
     "exception": false,
     "start_time": "2020-06-16T01:12:35.249921",
     "status": "completed"
    },
    "tags": []
   },
   "source": [
    "# By repository over time"
   ]
  },
  {
   "cell_type": "markdown",
   "metadata": {
    "papermill": {
     "duration": 0.017534,
     "end_time": "2020-06-16T01:12:35.297448",
     "exception": false,
     "start_time": "2020-06-16T01:12:35.279914",
     "status": "completed"
    },
    "tags": []
   },
   "source": [
    "## Comments"
   ]
  },
  {
   "cell_type": "code",
   "execution_count": 13,
   "metadata": {
    "execution": {
     "iopub.execute_input": "2020-06-16T01:12:35.339774Z",
     "iopub.status.busy": "2020-06-16T01:12:35.339201Z",
     "iopub.status.idle": "2020-06-16T01:12:35.466067Z",
     "shell.execute_reply": "2020-06-16T01:12:35.466546Z"
    },
    "papermill": {
     "duration": 0.153053,
     "end_time": "2020-06-16T01:12:35.466690",
     "exception": false,
     "start_time": "2020-06-16T01:12:35.313637",
     "status": "completed"
    },
    "tags": [
     "hide_input"
    ]
   },
   "outputs": [
    {
     "data": {
      "text/html": [
       "\n",
       "<div id=\"altair-viz-dbaa0f0b273b4062820b4c98ba225857\"></div>\n",
       "<script type=\"text/javascript\">\n",
       "  (function(spec, embedOpt){\n",
       "    let outputDiv = document.currentScript.previousElementSibling;\n",
       "    if (outputDiv.id !== \"altair-viz-dbaa0f0b273b4062820b4c98ba225857\") {\n",
       "      outputDiv = document.getElementById(\"altair-viz-dbaa0f0b273b4062820b4c98ba225857\");\n",
       "    }\n",
       "    const paths = {\n",
       "      \"vega\": \"https://cdn.jsdelivr.net/npm//vega@5?noext\",\n",
       "      \"vega-lib\": \"https://cdn.jsdelivr.net/npm//vega-lib?noext\",\n",
       "      \"vega-lite\": \"https://cdn.jsdelivr.net/npm//vega-lite@4.8.1?noext\",\n",
       "      \"vega-embed\": \"https://cdn.jsdelivr.net/npm//vega-embed@6?noext\",\n",
       "    };\n",
       "\n",
       "    function loadScript(lib) {\n",
       "      return new Promise(function(resolve, reject) {\n",
       "        var s = document.createElement('script');\n",
       "        s.src = paths[lib];\n",
       "        s.async = true;\n",
       "        s.onload = () => resolve(paths[lib]);\n",
       "        s.onerror = () => reject(`Error loading script: ${paths[lib]}`);\n",
       "        document.getElementsByTagName(\"head\")[0].appendChild(s);\n",
       "      });\n",
       "    }\n",
       "\n",
       "    function showError(err) {\n",
       "      outputDiv.innerHTML = `<div class=\"error\" style=\"color:red;\">${err}</div>`;\n",
       "      throw err;\n",
       "    }\n",
       "\n",
       "    function displayChart(vegaEmbed) {\n",
       "      vegaEmbed(outputDiv, spec, embedOpt)\n",
       "        .catch(err => showError(`Javascript Error: ${err.message}<br>This usually means there's a typo in your chart specification. See the javascript console for the full traceback.`));\n",
       "    }\n",
       "\n",
       "    if(typeof define === \"function\" && define.amd) {\n",
       "      requirejs.config({paths});\n",
       "      require([\"vega-embed\"], displayChart, err => showError(`Error loading script: ${err.message}`));\n",
       "    } else if (typeof vegaEmbed === \"function\") {\n",
       "      displayChart(vegaEmbed);\n",
       "    } else {\n",
       "      loadScript(\"vega\")\n",
       "        .then(() => loadScript(\"vega-lite\"))\n",
       "        .then(() => loadScript(\"vega-embed\"))\n",
       "        .catch(showError)\n",
       "        .then(() => displayChart(vegaEmbed));\n",
       "    }\n",
       "  })({\"config\": {\"axisLeft\": {\"labelFontSize\": 15}, \"axisBottom\": {\"labelFontSize\": 15}}, \"layer\": [{\"data\": {\"name\": \"data-ac796f2df1f634fb490a76651911cec2\"}, \"mark\": \"line\", \"encoding\": {\"color\": {\"type\": \"nominal\", \"field\": \"repo\"}, \"tooltip\": {\"type\": \"nominal\", \"field\": \"repo\"}, \"x\": {\"type\": \"temporal\", \"field\": \"createdAt\"}, \"y\": {\"type\": \"quantitative\", \"field\": \"count\"}}, \"width\": 600}, {\"data\": {\"name\": \"data-854d03d11dc3bb60aa48da2f49676ee7\"}, \"mark\": {\"type\": \"line\", \"color\": \"black\"}, \"encoding\": {\"x\": {\"type\": \"temporal\", \"field\": \"createdAt\"}, \"y\": {\"type\": \"quantitative\", \"field\": \"count\"}}, \"width\": 600}], \"$schema\": \"https://vega.github.io/schema/vega-lite/v4.8.1.json\", \"datasets\": {\"data-ac796f2df1f634fb490a76651911cec2\": [{\"repo\": \".github\", \"createdAt\": \"2020-04-19T00:00:00\", \"count\": 2}, {\"repo\": \".github\", \"createdAt\": \"2020-04-26T00:00:00\", \"count\": 0}, {\"repo\": \".github\", \"createdAt\": \"2020-05-03T00:00:00\", \"count\": 1}, {\"repo\": \"MyST-Parser\", \"createdAt\": \"2020-05-10T00:00:00\", \"count\": 3}, {\"repo\": \"binderhub\", \"createdAt\": \"2020-04-26T00:00:00\", \"count\": 1}, {\"repo\": \"binderhub\", \"createdAt\": \"2020-05-03T00:00:00\", \"count\": 0}, {\"repo\": \"binderhub\", \"createdAt\": \"2020-05-10T00:00:00\", \"count\": 0}, {\"repo\": \"binderhub\", \"createdAt\": \"2020-05-17T00:00:00\", \"count\": 0}, {\"repo\": \"binderhub\", \"createdAt\": \"2020-05-24T00:00:00\", \"count\": 3}, {\"repo\": \"binderhub\", \"createdAt\": \"2020-05-31T00:00:00\", \"count\": 1}, {\"repo\": \"configurable-http-proxy\", \"createdAt\": \"2020-05-03T00:00:00\", \"count\": 1}, {\"repo\": \"configurable-http-proxy\", \"createdAt\": \"2020-05-10T00:00:00\", \"count\": 0}, {\"repo\": \"configurable-http-proxy\", \"createdAt\": \"2020-05-17T00:00:00\", \"count\": 0}, {\"repo\": \"configurable-http-proxy\", \"createdAt\": \"2020-05-24T00:00:00\", \"count\": 0}, {\"repo\": \"configurable-http-proxy\", \"createdAt\": \"2020-05-31T00:00:00\", \"count\": 12}, {\"repo\": \"helm-chart\", \"createdAt\": \"2020-05-03T00:00:00\", \"count\": 3}, {\"repo\": \"helm-chart\", \"createdAt\": \"2020-05-10T00:00:00\", \"count\": 2}, {\"repo\": \"helm-chart\", \"createdAt\": \"2020-05-17T00:00:00\", \"count\": 0}, {\"repo\": \"helm-chart\", \"createdAt\": \"2020-05-24T00:00:00\", \"count\": 0}, {\"repo\": \"helm-chart\", \"createdAt\": \"2020-05-31T00:00:00\", \"count\": 0}, {\"repo\": \"helm-chart\", \"createdAt\": \"2020-06-07T00:00:00\", \"count\": 1}, {\"repo\": \"jupyter-book\", \"createdAt\": \"2020-05-10T00:00:00\", \"count\": 1}, {\"repo\": \"jupyter-server-proxy\", \"createdAt\": \"2020-05-17T00:00:00\", \"count\": 1}, {\"repo\": \"jupyter-server-proxy\", \"createdAt\": \"2020-05-24T00:00:00\", \"count\": 2}, {\"repo\": \"jupyter-server-proxy\", \"createdAt\": \"2020-05-31T00:00:00\", \"count\": 0}, {\"repo\": \"jupyter-server-proxy\", \"createdAt\": \"2020-06-07T00:00:00\", \"count\": 0}, {\"repo\": \"jupyter-server-proxy\", \"createdAt\": \"2020-06-14T00:00:00\", \"count\": 1}, {\"repo\": \"jupyterhub\", \"createdAt\": \"2020-04-19T00:00:00\", \"count\": 1}, {\"repo\": \"jupyterhub\", \"createdAt\": \"2020-04-26T00:00:00\", \"count\": 0}, {\"repo\": \"jupyterhub\", \"createdAt\": \"2020-05-03T00:00:00\", \"count\": 0}, {\"repo\": \"jupyterhub\", \"createdAt\": \"2020-05-10T00:00:00\", \"count\": 0}, {\"repo\": \"jupyterhub\", \"createdAt\": \"2020-05-17T00:00:00\", \"count\": 0}, {\"repo\": \"jupyterhub\", \"createdAt\": \"2020-05-24T00:00:00\", \"count\": 1}, {\"repo\": \"jupyterhub\", \"createdAt\": \"2020-05-31T00:00:00\", \"count\": 0}, {\"repo\": \"jupyterhub\", \"createdAt\": \"2020-06-07T00:00:00\", \"count\": 3}, {\"repo\": \"jupyterhub\", \"createdAt\": \"2020-06-14T00:00:00\", \"count\": 1}, {\"repo\": \"kubespawner\", \"createdAt\": \"2020-05-24T00:00:00\", \"count\": 2}, {\"repo\": \"kubespawner\", \"createdAt\": \"2020-05-31T00:00:00\", \"count\": 2}, {\"repo\": \"kubespawner\", \"createdAt\": \"2020-06-07T00:00:00\", \"count\": 1}, {\"repo\": \"mybinder.org-deploy\", \"createdAt\": \"2020-04-19T00:00:00\", \"count\": 3}, {\"repo\": \"mybinder.org-deploy\", \"createdAt\": \"2020-04-26T00:00:00\", \"count\": 0}, {\"repo\": \"mybinder.org-deploy\", \"createdAt\": \"2020-05-03T00:00:00\", \"count\": 0}, {\"repo\": \"mybinder.org-deploy\", \"createdAt\": \"2020-05-10T00:00:00\", \"count\": 0}, {\"repo\": \"mybinder.org-deploy\", \"createdAt\": \"2020-05-17T00:00:00\", \"count\": 0}, {\"repo\": \"mybinder.org-deploy\", \"createdAt\": \"2020-05-24T00:00:00\", \"count\": 2}, {\"repo\": \"mybinder.org-deploy\", \"createdAt\": \"2020-05-31T00:00:00\", \"count\": 1}, {\"repo\": \"mybinder.org-deploy\", \"createdAt\": \"2020-06-07T00:00:00\", \"count\": 1}, {\"repo\": \"notebook\", \"createdAt\": \"2020-05-17T00:00:00\", \"count\": 1}, {\"repo\": \"pebble-helm-chart\", \"createdAt\": \"2020-06-07T00:00:00\", \"count\": 1}, {\"repo\": \"team-compass\", \"createdAt\": \"2020-04-26T00:00:00\", \"count\": 2}, {\"repo\": \"team-compass\", \"createdAt\": \"2020-05-03T00:00:00\", \"count\": 2}, {\"repo\": \"team-compass\", \"createdAt\": \"2020-05-10T00:00:00\", \"count\": 2}, {\"repo\": \"team-compass\", \"createdAt\": \"2020-05-17T00:00:00\", \"count\": 0}, {\"repo\": \"team-compass\", \"createdAt\": \"2020-05-24T00:00:00\", \"count\": 0}, {\"repo\": \"team-compass\", \"createdAt\": \"2020-05-31T00:00:00\", \"count\": 0}, {\"repo\": \"team-compass\", \"createdAt\": \"2020-06-07T00:00:00\", \"count\": 4}, {\"repo\": \"team-compass\", \"createdAt\": \"2020-06-14T00:00:00\", \"count\": 3}, {\"repo\": \"the-littlest-jupyterhub\", \"createdAt\": \"2020-05-10T00:00:00\", \"count\": 1}, {\"repo\": \"traefik-proxy\", \"createdAt\": \"2020-05-17T00:00:00\", \"count\": 2}, {\"repo\": \"zero-to-jupyterhub-k8s\", \"createdAt\": \"2020-04-19T00:00:00\", \"count\": 7}, {\"repo\": \"zero-to-jupyterhub-k8s\", \"createdAt\": \"2020-04-26T00:00:00\", \"count\": 16}, {\"repo\": \"zero-to-jupyterhub-k8s\", \"createdAt\": \"2020-05-03T00:00:00\", \"count\": 6}, {\"repo\": \"zero-to-jupyterhub-k8s\", \"createdAt\": \"2020-05-10T00:00:00\", \"count\": 9}, {\"repo\": \"zero-to-jupyterhub-k8s\", \"createdAt\": \"2020-05-17T00:00:00\", \"count\": 19}, {\"repo\": \"zero-to-jupyterhub-k8s\", \"createdAt\": \"2020-05-24T00:00:00\", \"count\": 5}, {\"repo\": \"zero-to-jupyterhub-k8s\", \"createdAt\": \"2020-05-31T00:00:00\", \"count\": 1}, {\"repo\": \"zero-to-jupyterhub-k8s\", \"createdAt\": \"2020-06-07T00:00:00\", \"count\": 4}, {\"repo\": \"zero-to-jupyterhub-k8s\", \"createdAt\": \"2020-06-14T00:00:00\", \"count\": 12}], \"data-854d03d11dc3bb60aa48da2f49676ee7\": [{\"createdAt\": \"2020-04-19T00:00:00\", \"count\": 13}, {\"createdAt\": \"2020-04-26T00:00:00\", \"count\": 19}, {\"createdAt\": \"2020-05-03T00:00:00\", \"count\": 13}, {\"createdAt\": \"2020-05-10T00:00:00\", \"count\": 18}, {\"createdAt\": \"2020-05-17T00:00:00\", \"count\": 23}, {\"createdAt\": \"2020-05-24T00:00:00\", \"count\": 15}, {\"createdAt\": \"2020-05-31T00:00:00\", \"count\": 17}, {\"createdAt\": \"2020-06-07T00:00:00\", \"count\": 15}, {\"createdAt\": \"2020-06-14T00:00:00\", \"count\": 17}]}}, {\"mode\": \"vega-lite\"});\n",
       "</script>"
      ],
      "text/plain": [
       "alt.LayerChart(...)"
      ]
     },
     "execution_count": 13,
     "metadata": {},
     "output_type": "execute_result"
    }
   ],
   "source": [
    "comments_time = comments.groupby('repo').resample('W', on='createdAt').count()['author'].reset_index()\n",
    "comments_time = comments_time.rename(columns={'author': 'count'})\n",
    "comments_time_total = comments_time.groupby('createdAt').agg({\"count\": \"sum\"}).reset_index()\n",
    "ch1 = alt.Chart(comments_time, width=600).mark_line().encode(\n",
    "    x='createdAt',\n",
    "    y='count',\n",
    "    color='repo',\n",
    "    tooltip=\"repo\"\n",
    ")\n",
    "\n",
    "ch2 = alt.Chart(comments_time_total, width=600).mark_line(color=\"black\").encode(\n",
    "    x='createdAt',\n",
    "    y='count',\n",
    ")\n",
    "\n",
    "ch1 + ch2"
   ]
  },
  {
   "cell_type": "markdown",
   "metadata": {
    "papermill": {
     "duration": 0.016272,
     "end_time": "2020-06-16T01:12:35.498480",
     "exception": false,
     "start_time": "2020-06-16T01:12:35.482208",
     "status": "completed"
    },
    "tags": []
   },
   "source": [
    "## PRs"
   ]
  },
  {
   "cell_type": "code",
   "execution_count": 14,
   "metadata": {
    "execution": {
     "iopub.execute_input": "2020-06-16T01:12:35.556718Z",
     "iopub.status.busy": "2020-06-16T01:12:35.552632Z",
     "iopub.status.idle": "2020-06-16T01:12:35.631860Z",
     "shell.execute_reply": "2020-06-16T01:12:35.632343Z"
    },
    "papermill": {
     "duration": 0.117124,
     "end_time": "2020-06-16T01:12:35.632487",
     "exception": false,
     "start_time": "2020-06-16T01:12:35.515363",
     "status": "completed"
    },
    "tags": [
     "hide_input"
    ]
   },
   "outputs": [
    {
     "data": {
      "text/html": [
       "\n",
       "<div id=\"altair-viz-2e51f0c8ccfb479cbeff8b7d94392b22\"></div>\n",
       "<script type=\"text/javascript\">\n",
       "  (function(spec, embedOpt){\n",
       "    let outputDiv = document.currentScript.previousElementSibling;\n",
       "    if (outputDiv.id !== \"altair-viz-2e51f0c8ccfb479cbeff8b7d94392b22\") {\n",
       "      outputDiv = document.getElementById(\"altair-viz-2e51f0c8ccfb479cbeff8b7d94392b22\");\n",
       "    }\n",
       "    const paths = {\n",
       "      \"vega\": \"https://cdn.jsdelivr.net/npm//vega@5?noext\",\n",
       "      \"vega-lib\": \"https://cdn.jsdelivr.net/npm//vega-lib?noext\",\n",
       "      \"vega-lite\": \"https://cdn.jsdelivr.net/npm//vega-lite@4.8.1?noext\",\n",
       "      \"vega-embed\": \"https://cdn.jsdelivr.net/npm//vega-embed@6?noext\",\n",
       "    };\n",
       "\n",
       "    function loadScript(lib) {\n",
       "      return new Promise(function(resolve, reject) {\n",
       "        var s = document.createElement('script');\n",
       "        s.src = paths[lib];\n",
       "        s.async = true;\n",
       "        s.onload = () => resolve(paths[lib]);\n",
       "        s.onerror = () => reject(`Error loading script: ${paths[lib]}`);\n",
       "        document.getElementsByTagName(\"head\")[0].appendChild(s);\n",
       "      });\n",
       "    }\n",
       "\n",
       "    function showError(err) {\n",
       "      outputDiv.innerHTML = `<div class=\"error\" style=\"color:red;\">${err}</div>`;\n",
       "      throw err;\n",
       "    }\n",
       "\n",
       "    function displayChart(vegaEmbed) {\n",
       "      vegaEmbed(outputDiv, spec, embedOpt)\n",
       "        .catch(err => showError(`Javascript Error: ${err.message}<br>This usually means there's a typo in your chart specification. See the javascript console for the full traceback.`));\n",
       "    }\n",
       "\n",
       "    if(typeof define === \"function\" && define.amd) {\n",
       "      requirejs.config({paths});\n",
       "      require([\"vega-embed\"], displayChart, err => showError(`Error loading script: ${err.message}`));\n",
       "    } else if (typeof vegaEmbed === \"function\") {\n",
       "      displayChart(vegaEmbed);\n",
       "    } else {\n",
       "      loadScript(\"vega\")\n",
       "        .then(() => loadScript(\"vega-lite\"))\n",
       "        .then(() => loadScript(\"vega-embed\"))\n",
       "        .catch(showError)\n",
       "        .then(() => displayChart(vegaEmbed));\n",
       "    }\n",
       "  })({\"config\": {\"axisLeft\": {\"labelFontSize\": 15}, \"axisBottom\": {\"labelFontSize\": 15}}, \"layer\": [{\"data\": {\"name\": \"data-ed470a873c3effd080ac0318ab9eb179\"}, \"mark\": \"line\", \"encoding\": {\"color\": {\"type\": \"nominal\", \"field\": \"repo\"}, \"tooltip\": {\"type\": \"nominal\", \"field\": \"repo\"}, \"x\": {\"type\": \"temporal\", \"field\": \"createdAt\"}, \"y\": {\"type\": \"quantitative\", \"field\": \"count\"}}, \"width\": 600}, {\"data\": {\"name\": \"data-54c6ad91f726b7f743d0295dc8bdb8c7\"}, \"mark\": {\"type\": \"line\", \"color\": \"black\"}, \"encoding\": {\"x\": {\"type\": \"temporal\", \"field\": \"createdAt\"}, \"y\": {\"type\": \"quantitative\", \"field\": \"count\"}}, \"width\": 600}], \"$schema\": \"https://vega.github.io/schema/vega-lite/v4.8.1.json\", \"datasets\": {\"data-ed470a873c3effd080ac0318ab9eb179\": [{\"repo\": \"binderhub\", \"createdAt\": \"2020-05-24T00:00:00\", \"count\": 2}, {\"repo\": \"configurable-http-proxy\", \"createdAt\": \"2020-05-31T00:00:00\", \"count\": 6}, {\"repo\": \"docker-stacks\", \"createdAt\": \"2020-03-29T00:00:00\", \"count\": 1}, {\"repo\": \"helm-chart\", \"createdAt\": \"2020-05-10T00:00:00\", \"count\": 1}, {\"repo\": \"jupyter-book\", \"createdAt\": \"2020-05-10T00:00:00\", \"count\": 2}, {\"repo\": \"jupyterhub\", \"createdAt\": \"2020-05-17T00:00:00\", \"count\": 1}, {\"repo\": \"jupyterlab-sidecar\", \"createdAt\": \"2020-03-22T00:00:00\", \"count\": 1}, {\"repo\": \"meta\", \"createdAt\": \"2020-05-10T00:00:00\", \"count\": 1}, {\"repo\": \"mybinder.org-deploy\", \"createdAt\": \"2020-04-19T00:00:00\", \"count\": 2}, {\"repo\": \"mybinder.org-deploy\", \"createdAt\": \"2020-04-26T00:00:00\", \"count\": 0}, {\"repo\": \"mybinder.org-deploy\", \"createdAt\": \"2020-05-03T00:00:00\", \"count\": 0}, {\"repo\": \"mybinder.org-deploy\", \"createdAt\": \"2020-05-10T00:00:00\", \"count\": 0}, {\"repo\": \"mybinder.org-deploy\", \"createdAt\": \"2020-05-17T00:00:00\", \"count\": 0}, {\"repo\": \"mybinder.org-deploy\", \"createdAt\": \"2020-05-24T00:00:00\", \"count\": 0}, {\"repo\": \"mybinder.org-deploy\", \"createdAt\": \"2020-05-31T00:00:00\", \"count\": 1}, {\"repo\": \"notebook\", \"createdAt\": \"2020-05-17T00:00:00\", \"count\": 1}, {\"repo\": \"pebble-helm-chart\", \"createdAt\": \"2020-05-24T00:00:00\", \"count\": 1}, {\"repo\": \"pebble-helm-chart\", \"createdAt\": \"2020-05-31T00:00:00\", \"count\": 1}, {\"repo\": \"pebble-helm-chart\", \"createdAt\": \"2020-06-07T00:00:00\", \"count\": 4}, {\"repo\": \"zero-to-jupyterhub-k8s\", \"createdAt\": \"2020-04-12T00:00:00\", \"count\": 1}, {\"repo\": \"zero-to-jupyterhub-k8s\", \"createdAt\": \"2020-04-19T00:00:00\", \"count\": 7}, {\"repo\": \"zero-to-jupyterhub-k8s\", \"createdAt\": \"2020-04-26T00:00:00\", \"count\": 1}, {\"repo\": \"zero-to-jupyterhub-k8s\", \"createdAt\": \"2020-05-03T00:00:00\", \"count\": 0}, {\"repo\": \"zero-to-jupyterhub-k8s\", \"createdAt\": \"2020-05-10T00:00:00\", \"count\": 5}, {\"repo\": \"zero-to-jupyterhub-k8s\", \"createdAt\": \"2020-05-17T00:00:00\", \"count\": 7}, {\"repo\": \"zero-to-jupyterhub-k8s\", \"createdAt\": \"2020-05-24T00:00:00\", \"count\": 4}, {\"repo\": \"zero-to-jupyterhub-k8s\", \"createdAt\": \"2020-05-31T00:00:00\", \"count\": 0}, {\"repo\": \"zero-to-jupyterhub-k8s\", \"createdAt\": \"2020-06-07T00:00:00\", \"count\": 1}], \"data-54c6ad91f726b7f743d0295dc8bdb8c7\": [{\"createdAt\": \"2020-03-22T00:00:00\", \"count\": 1}, {\"createdAt\": \"2020-03-29T00:00:00\", \"count\": 1}, {\"createdAt\": \"2020-04-12T00:00:00\", \"count\": 1}, {\"createdAt\": \"2020-04-19T00:00:00\", \"count\": 9}, {\"createdAt\": \"2020-04-26T00:00:00\", \"count\": 1}, {\"createdAt\": \"2020-05-03T00:00:00\", \"count\": 0}, {\"createdAt\": \"2020-05-10T00:00:00\", \"count\": 9}, {\"createdAt\": \"2020-05-17T00:00:00\", \"count\": 9}, {\"createdAt\": \"2020-05-24T00:00:00\", \"count\": 7}, {\"createdAt\": \"2020-05-31T00:00:00\", \"count\": 8}, {\"createdAt\": \"2020-06-07T00:00:00\", \"count\": 5}]}}, {\"mode\": \"vega-lite\"});\n",
       "</script>"
      ],
      "text/plain": [
       "alt.LayerChart(...)"
      ]
     },
     "execution_count": 14,
     "metadata": {},
     "output_type": "execute_result"
    }
   ],
   "source": [
    "prs_time = prs.groupby('repo').resample('W', on='createdAt').count()['author'].reset_index()\n",
    "prs_time = prs_time.rename(columns={'author': 'count'})\n",
    "prs_time_total = prs_time.groupby('createdAt').agg({\"count\": \"sum\"}).reset_index()\n",
    "\n",
    "ch1 = alt.Chart(prs_time, width=600).mark_line().encode(\n",
    "    x='createdAt',\n",
    "    y='count',\n",
    "    color='repo',\n",
    "    tooltip=\"repo\"\n",
    ")\n",
    "\n",
    "ch2 = alt.Chart(prs_time_total, width=600).mark_line(color=\"black\").encode(\n",
    "    x='createdAt',\n",
    "    y='count',\n",
    ")\n",
    "\n",
    "ch1 + ch2"
   ]
  },
  {
   "cell_type": "code",
   "execution_count": 15,
   "metadata": {
    "execution": {
     "iopub.execute_input": "2020-06-16T01:12:35.679875Z",
     "iopub.status.busy": "2020-06-16T01:12:35.679245Z",
     "iopub.status.idle": "2020-06-16T01:12:35.742938Z",
     "shell.execute_reply": "2020-06-16T01:12:35.743875Z"
    },
    "papermill": {
     "duration": 0.095441,
     "end_time": "2020-06-16T01:12:35.744076",
     "exception": false,
     "start_time": "2020-06-16T01:12:35.648635",
     "status": "completed"
    },
    "tags": [
     "hide_input"
    ]
   },
   "outputs": [
    {
     "data": {
      "text/html": [
       "\n",
       "<div id=\"altair-viz-18f10daa303849cea2f152352a435689\"></div>\n",
       "<script type=\"text/javascript\">\n",
       "  (function(spec, embedOpt){\n",
       "    let outputDiv = document.currentScript.previousElementSibling;\n",
       "    if (outputDiv.id !== \"altair-viz-18f10daa303849cea2f152352a435689\") {\n",
       "      outputDiv = document.getElementById(\"altair-viz-18f10daa303849cea2f152352a435689\");\n",
       "    }\n",
       "    const paths = {\n",
       "      \"vega\": \"https://cdn.jsdelivr.net/npm//vega@5?noext\",\n",
       "      \"vega-lib\": \"https://cdn.jsdelivr.net/npm//vega-lib?noext\",\n",
       "      \"vega-lite\": \"https://cdn.jsdelivr.net/npm//vega-lite@4.8.1?noext\",\n",
       "      \"vega-embed\": \"https://cdn.jsdelivr.net/npm//vega-embed@6?noext\",\n",
       "    };\n",
       "\n",
       "    function loadScript(lib) {\n",
       "      return new Promise(function(resolve, reject) {\n",
       "        var s = document.createElement('script');\n",
       "        s.src = paths[lib];\n",
       "        s.async = true;\n",
       "        s.onload = () => resolve(paths[lib]);\n",
       "        s.onerror = () => reject(`Error loading script: ${paths[lib]}`);\n",
       "        document.getElementsByTagName(\"head\")[0].appendChild(s);\n",
       "      });\n",
       "    }\n",
       "\n",
       "    function showError(err) {\n",
       "      outputDiv.innerHTML = `<div class=\"error\" style=\"color:red;\">${err}</div>`;\n",
       "      throw err;\n",
       "    }\n",
       "\n",
       "    function displayChart(vegaEmbed) {\n",
       "      vegaEmbed(outputDiv, spec, embedOpt)\n",
       "        .catch(err => showError(`Javascript Error: ${err.message}<br>This usually means there's a typo in your chart specification. See the javascript console for the full traceback.`));\n",
       "    }\n",
       "\n",
       "    if(typeof define === \"function\" && define.amd) {\n",
       "      requirejs.config({paths});\n",
       "      require([\"vega-embed\"], displayChart, err => showError(`Error loading script: ${err.message}`));\n",
       "    } else if (typeof vegaEmbed === \"function\") {\n",
       "      displayChart(vegaEmbed);\n",
       "    } else {\n",
       "      loadScript(\"vega\")\n",
       "        .then(() => loadScript(\"vega-lite\"))\n",
       "        .then(() => loadScript(\"vega-embed\"))\n",
       "        .catch(showError)\n",
       "        .then(() => displayChart(vegaEmbed));\n",
       "    }\n",
       "  })({\"config\": {\"axisLeft\": {\"labelFontSize\": 15}, \"axisBottom\": {\"labelFontSize\": 15}}, \"data\": {\"name\": \"data-2232155d01635533b595b3fbef01ae17\"}, \"mark\": \"line\", \"encoding\": {\"color\": {\"type\": \"nominal\", \"field\": \"repo\"}, \"tooltip\": {\"type\": \"nominal\", \"field\": \"repo\"}, \"x\": {\"type\": \"temporal\", \"field\": \"closedAt\"}, \"y\": {\"type\": \"quantitative\", \"field\": \"count\"}}, \"width\": 600, \"$schema\": \"https://vega.github.io/schema/vega-lite/v4.8.1.json\", \"datasets\": {\"data-2232155d01635533b595b3fbef01ae17\": [{\"repo\": \".github\", \"closedAt\": \"2020-05-03T00:00:00\", \"count\": 1}, {\"repo\": \"binderhub\", \"closedAt\": \"2020-05-24T00:00:00\", \"count\": 1}, {\"repo\": \"configurable-http-proxy\", \"closedAt\": \"2020-05-31T00:00:00\", \"count\": 6}, {\"repo\": \"helm-chart\", \"closedAt\": \"2020-05-10T00:00:00\", \"count\": 2}, {\"repo\": \"jupyter-server-proxy\", \"closedAt\": \"2020-05-24T00:00:00\", \"count\": 1}, {\"repo\": \"jupyterhub\", \"closedAt\": \"2020-06-07T00:00:00\", \"count\": 1}, {\"repo\": \"jupyterhub\", \"closedAt\": \"2020-06-14T00:00:00\", \"count\": 1}, {\"repo\": \"oauthenticator\", \"closedAt\": \"2020-05-17T00:00:00\", \"count\": 1}, {\"repo\": \"pebble-helm-chart\", \"closedAt\": \"2020-05-31T00:00:00\", \"count\": 2}, {\"repo\": \"pebble-helm-chart\", \"closedAt\": \"2020-06-07T00:00:00\", \"count\": 3}, {\"repo\": \"team-compass\", \"closedAt\": \"2020-04-26T00:00:00\", \"count\": 1}, {\"repo\": \"the-littlest-jupyterhub\", \"closedAt\": \"2020-05-10T00:00:00\", \"count\": 1}, {\"repo\": \"zero-to-jupyterhub-k8s\", \"closedAt\": \"2020-04-19T00:00:00\", \"count\": 6}, {\"repo\": \"zero-to-jupyterhub-k8s\", \"closedAt\": \"2020-04-26T00:00:00\", \"count\": 5}, {\"repo\": \"zero-to-jupyterhub-k8s\", \"closedAt\": \"2020-05-03T00:00:00\", \"count\": 1}, {\"repo\": \"zero-to-jupyterhub-k8s\", \"closedAt\": \"2020-05-10T00:00:00\", \"count\": 4}, {\"repo\": \"zero-to-jupyterhub-k8s\", \"closedAt\": \"2020-05-17T00:00:00\", \"count\": 5}, {\"repo\": \"zero-to-jupyterhub-k8s\", \"closedAt\": \"2020-05-24T00:00:00\", \"count\": 0}, {\"repo\": \"zero-to-jupyterhub-k8s\", \"closedAt\": \"2020-05-31T00:00:00\", \"count\": 1}, {\"repo\": \"zero-to-jupyterhub-k8s\", \"closedAt\": \"2020-06-07T00:00:00\", \"count\": 3}, {\"repo\": \"zero-to-jupyterhub-k8s\", \"closedAt\": \"2020-06-14T00:00:00\", \"count\": 1}]}}, {\"mode\": \"vega-lite\"});\n",
       "</script>"
      ],
      "text/plain": [
       "alt.Chart(...)"
      ]
     },
     "execution_count": 15,
     "metadata": {},
     "output_type": "execute_result"
    }
   ],
   "source": [
    "closed_by_time = closed_by.groupby('repo').resample('W', on='closedAt').count()['author'].reset_index()\n",
    "closed_by_time = closed_by_time.rename(columns={'author': 'count'})\n",
    "\n",
    "alt.Chart(closed_by_time, width=600).mark_line().encode(\n",
    "    x='closedAt',\n",
    "    y='count',\n",
    "    color='repo',\n",
    "    tooltip=\"repo\"\n",
    ")"
   ]
  },
  {
   "cell_type": "markdown",
   "metadata": {
    "papermill": {
     "duration": 0.017064,
     "end_time": "2020-06-16T01:12:35.780817",
     "exception": false,
     "start_time": "2020-06-16T01:12:35.763753",
     "status": "completed"
    },
    "tags": []
   },
   "source": [
    "# By type over time"
   ]
  },
  {
   "cell_type": "code",
   "execution_count": 16,
   "metadata": {
    "execution": {
     "iopub.execute_input": "2020-06-16T01:12:35.822661Z",
     "iopub.status.busy": "2020-06-16T01:12:35.821692Z",
     "iopub.status.idle": "2020-06-16T01:12:35.843422Z",
     "shell.execute_reply": "2020-06-16T01:12:35.843879Z"
    },
    "papermill": {
     "duration": 0.046079,
     "end_time": "2020-06-16T01:12:35.844011",
     "exception": false,
     "start_time": "2020-06-16T01:12:35.797932",
     "status": "completed"
    },
    "tags": [
     "remove_cell"
    ]
   },
   "outputs": [],
   "source": [
    "prs_time = prs[['author', 'createdAt']].resample('W', on='createdAt').count()['author'].reset_index()\n",
    "prs_time = prs_time.rename(columns={'author': 'prs'})\n",
    "comments_time = comments[['author', 'createdAt']].resample('W', on='createdAt').count()['author'].reset_index()\n",
    "comments_time = comments_time.rename(columns={'author': 'comments'})\n",
    "\n",
    "total_time = pd.merge(prs_time, comments_time, on='createdAt', how='outer')\n",
    "total_time = total_time.melt(id_vars='createdAt', var_name=\"kind\", value_name=\"count\")\n"
   ]
  },
  {
   "cell_type": "code",
   "execution_count": 17,
   "metadata": {
    "execution": {
     "iopub.execute_input": "2020-06-16T01:12:35.891547Z",
     "iopub.status.busy": "2020-06-16T01:12:35.890999Z",
     "iopub.status.idle": "2020-06-16T01:12:35.906034Z",
     "shell.execute_reply": "2020-06-16T01:12:35.906480Z"
    },
    "papermill": {
     "duration": 0.045034,
     "end_time": "2020-06-16T01:12:35.906603",
     "exception": false,
     "start_time": "2020-06-16T01:12:35.861569",
     "status": "completed"
    },
    "tags": [
     "hide_input"
    ]
   },
   "outputs": [
    {
     "data": {
      "text/html": [
       "\n",
       "<div id=\"altair-viz-505ce1bd1e694525a9f88449a88f9ca7\"></div>\n",
       "<script type=\"text/javascript\">\n",
       "  (function(spec, embedOpt){\n",
       "    let outputDiv = document.currentScript.previousElementSibling;\n",
       "    if (outputDiv.id !== \"altair-viz-505ce1bd1e694525a9f88449a88f9ca7\") {\n",
       "      outputDiv = document.getElementById(\"altair-viz-505ce1bd1e694525a9f88449a88f9ca7\");\n",
       "    }\n",
       "    const paths = {\n",
       "      \"vega\": \"https://cdn.jsdelivr.net/npm//vega@5?noext\",\n",
       "      \"vega-lib\": \"https://cdn.jsdelivr.net/npm//vega-lib?noext\",\n",
       "      \"vega-lite\": \"https://cdn.jsdelivr.net/npm//vega-lite@4.8.1?noext\",\n",
       "      \"vega-embed\": \"https://cdn.jsdelivr.net/npm//vega-embed@6?noext\",\n",
       "    };\n",
       "\n",
       "    function loadScript(lib) {\n",
       "      return new Promise(function(resolve, reject) {\n",
       "        var s = document.createElement('script');\n",
       "        s.src = paths[lib];\n",
       "        s.async = true;\n",
       "        s.onload = () => resolve(paths[lib]);\n",
       "        s.onerror = () => reject(`Error loading script: ${paths[lib]}`);\n",
       "        document.getElementsByTagName(\"head\")[0].appendChild(s);\n",
       "      });\n",
       "    }\n",
       "\n",
       "    function showError(err) {\n",
       "      outputDiv.innerHTML = `<div class=\"error\" style=\"color:red;\">${err}</div>`;\n",
       "      throw err;\n",
       "    }\n",
       "\n",
       "    function displayChart(vegaEmbed) {\n",
       "      vegaEmbed(outputDiv, spec, embedOpt)\n",
       "        .catch(err => showError(`Javascript Error: ${err.message}<br>This usually means there's a typo in your chart specification. See the javascript console for the full traceback.`));\n",
       "    }\n",
       "\n",
       "    if(typeof define === \"function\" && define.amd) {\n",
       "      requirejs.config({paths});\n",
       "      require([\"vega-embed\"], displayChart, err => showError(`Error loading script: ${err.message}`));\n",
       "    } else if (typeof vegaEmbed === \"function\") {\n",
       "      displayChart(vegaEmbed);\n",
       "    } else {\n",
       "      loadScript(\"vega\")\n",
       "        .then(() => loadScript(\"vega-lite\"))\n",
       "        .then(() => loadScript(\"vega-embed\"))\n",
       "        .catch(showError)\n",
       "        .then(() => displayChart(vegaEmbed));\n",
       "    }\n",
       "  })({\"config\": {\"axisLeft\": {\"labelFontSize\": 15}, \"axisBottom\": {\"labelFontSize\": 15}}, \"data\": {\"name\": \"data-88104530138a5f610bbf4b6d8114f5c4\"}, \"mark\": \"line\", \"encoding\": {\"color\": {\"type\": \"nominal\", \"field\": \"kind\"}, \"x\": {\"type\": \"temporal\", \"field\": \"createdAt\"}, \"y\": {\"type\": \"quantitative\", \"field\": \"count\"}}, \"width\": 600, \"$schema\": \"https://vega.github.io/schema/vega-lite/v4.8.1.json\", \"datasets\": {\"data-88104530138a5f610bbf4b6d8114f5c4\": [{\"createdAt\": \"2020-03-22T00:00:00\", \"kind\": \"prs\", \"count\": 1.0}, {\"createdAt\": \"2020-03-29T00:00:00\", \"kind\": \"prs\", \"count\": 1.0}, {\"createdAt\": \"2020-04-05T00:00:00\", \"kind\": \"prs\", \"count\": 0.0}, {\"createdAt\": \"2020-04-12T00:00:00\", \"kind\": \"prs\", \"count\": 1.0}, {\"createdAt\": \"2020-04-19T00:00:00\", \"kind\": \"prs\", \"count\": 9.0}, {\"createdAt\": \"2020-04-26T00:00:00\", \"kind\": \"prs\", \"count\": 1.0}, {\"createdAt\": \"2020-05-03T00:00:00\", \"kind\": \"prs\", \"count\": 0.0}, {\"createdAt\": \"2020-05-10T00:00:00\", \"kind\": \"prs\", \"count\": 9.0}, {\"createdAt\": \"2020-05-17T00:00:00\", \"kind\": \"prs\", \"count\": 9.0}, {\"createdAt\": \"2020-05-24T00:00:00\", \"kind\": \"prs\", \"count\": 7.0}, {\"createdAt\": \"2020-05-31T00:00:00\", \"kind\": \"prs\", \"count\": 8.0}, {\"createdAt\": \"2020-06-07T00:00:00\", \"kind\": \"prs\", \"count\": 5.0}, {\"createdAt\": \"2020-06-14T00:00:00\", \"kind\": \"prs\", \"count\": null}, {\"createdAt\": \"2020-03-22T00:00:00\", \"kind\": \"comments\", \"count\": null}, {\"createdAt\": \"2020-03-29T00:00:00\", \"kind\": \"comments\", \"count\": null}, {\"createdAt\": \"2020-04-05T00:00:00\", \"kind\": \"comments\", \"count\": null}, {\"createdAt\": \"2020-04-12T00:00:00\", \"kind\": \"comments\", \"count\": null}, {\"createdAt\": \"2020-04-19T00:00:00\", \"kind\": \"comments\", \"count\": 13.0}, {\"createdAt\": \"2020-04-26T00:00:00\", \"kind\": \"comments\", \"count\": 19.0}, {\"createdAt\": \"2020-05-03T00:00:00\", \"kind\": \"comments\", \"count\": 13.0}, {\"createdAt\": \"2020-05-10T00:00:00\", \"kind\": \"comments\", \"count\": 18.0}, {\"createdAt\": \"2020-05-17T00:00:00\", \"kind\": \"comments\", \"count\": 23.0}, {\"createdAt\": \"2020-05-24T00:00:00\", \"kind\": \"comments\", \"count\": 15.0}, {\"createdAt\": \"2020-05-31T00:00:00\", \"kind\": \"comments\", \"count\": 17.0}, {\"createdAt\": \"2020-06-07T00:00:00\", \"kind\": \"comments\", \"count\": 15.0}, {\"createdAt\": \"2020-06-14T00:00:00\", \"kind\": \"comments\", \"count\": 17.0}]}}, {\"mode\": \"vega-lite\"});\n",
       "</script>"
      ],
      "text/plain": [
       "alt.Chart(...)"
      ]
     },
     "execution_count": 17,
     "metadata": {},
     "output_type": "execute_result"
    }
   ],
   "source": [
    "alt.Chart(total_time, width=600).mark_line().encode(\n",
    "    x='createdAt',\n",
    "    y='count',\n",
    "    color='kind'\n",
    ")"
   ]
  }
 ],
 "metadata": {
  "kernelspec": {
   "display_name": "Python 3",
   "language": "python",
   "name": "python3"
  },
  "language_info": {
   "codemirror_mode": {
    "name": "ipython",
    "version": 3
   },
   "file_extension": ".py",
   "mimetype": "text/x-python",
   "name": "python",
   "nbconvert_exporter": "python",
   "pygments_lexer": "ipython3",
   "version": "3.7.7"
  },
  "papermill": {
   "duration": 3.559849,
   "end_time": "2020-06-16T01:12:36.333267",
   "environment_variables": {},
   "exception": null,
   "input_path": "./person.ipynb",
   "output_path": "people/consideRatio.ipynb",
   "parameters": {
    "n_days": 60,
    "person": "consideRatio"
   },
   "start_time": "2020-06-16T01:12:32.773418",
   "version": "2.1.1"
  },
  "widgets": {
   "application/vnd.jupyter.widget-state+json": {
    "state": {},
    "version_major": 2,
    "version_minor": 0
   }
  }
 },
 "nbformat": 4,
 "nbformat_minor": 4
}