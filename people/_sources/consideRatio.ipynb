{
 "cells": [
  {
   "cell_type": "markdown",
   "id": "974fe4f9",
   "metadata": {
    "papermill": {
     "duration": 0.013889,
     "end_time": "2021-10-19T22:13:57.164067",
     "exception": false,
     "start_time": "2021-10-19T22:13:57.150178",
     "status": "completed"
    },
    "tags": []
   },
   "source": [
    "# Report for consideRatio"
   ]
  },
  {
   "cell_type": "code",
   "execution_count": 1,
   "id": "0563858e",
   "metadata": {
    "execution": {
     "iopub.execute_input": "2021-10-19T22:13:57.199565Z",
     "iopub.status.busy": "2021-10-19T22:13:57.199101Z",
     "iopub.status.idle": "2021-10-19T22:13:58.132914Z",
     "shell.execute_reply": "2021-10-19T22:13:58.132295Z"
    },
    "papermill": {
     "duration": 0.956435,
     "end_time": "2021-10-19T22:13:58.133123",
     "exception": false,
     "start_time": "2021-10-19T22:13:57.176688",
     "status": "completed"
    },
    "tags": [
     "remove_cell"
    ]
   },
   "outputs": [],
   "source": [
    "import seaborn as sns\n",
    "import pandas as pd\n",
    "import numpy as np\n",
    "import altair as alt\n",
    "from markdown import markdown\n",
    "from IPython.display import Markdown\n",
    "from ipywidgets.widgets import HTML, Tab\n",
    "from ipywidgets import widgets\n",
    "from datetime import timedelta\n",
    "from matplotlib import pyplot as plt\n",
    "import os.path as op\n",
    "\n",
    "from mycode import alt_theme\n",
    "from warnings import simplefilter\n",
    "simplefilter('ignore')"
   ]
  },
  {
   "cell_type": "code",
   "execution_count": 2,
   "id": "b9e998fb",
   "metadata": {
    "execution": {
     "iopub.execute_input": "2021-10-19T22:13:58.164367Z",
     "iopub.status.busy": "2021-10-19T22:13:58.163270Z",
     "iopub.status.idle": "2021-10-19T22:13:58.164892Z",
     "shell.execute_reply": "2021-10-19T22:13:58.165267Z"
    },
    "papermill": {
     "duration": 0.019157,
     "end_time": "2021-10-19T22:13:58.165406",
     "exception": false,
     "start_time": "2021-10-19T22:13:58.146249",
     "status": "completed"
    },
    "tags": [
     "remove_cell"
    ]
   },
   "outputs": [],
   "source": [
    "def author_url(author):\n",
    "    return f\"https://github.com/{author}\""
   ]
  },
  {
   "cell_type": "code",
   "execution_count": 3,
   "id": "ebc953a7",
   "metadata": {
    "execution": {
     "iopub.execute_input": "2021-10-19T22:13:58.192602Z",
     "iopub.status.busy": "2021-10-19T22:13:58.192151Z",
     "iopub.status.idle": "2021-10-19T22:13:58.193900Z",
     "shell.execute_reply": "2021-10-19T22:13:58.194258Z"
    },
    "papermill": {
     "duration": 0.017794,
     "end_time": "2021-10-19T22:13:58.194393",
     "exception": false,
     "start_time": "2021-10-19T22:13:58.176599",
     "status": "completed"
    },
    "tags": [
     "parameters",
     "hide_input"
    ]
   },
   "outputs": [],
   "source": [
    "# Parameters\n",
    "fmt_date = \"{:%Y-%m-%d}\"\n",
    "\n",
    "n_days = 30 * 2\n",
    "start_date = fmt_date.format(pd.datetime.today() - timedelta(days=n_days))\n",
    "end_date = fmt_date.format(pd.datetime.today())\n",
    "\n",
    "renderer = \"html\"\n",
    "person = \"jasongrout\""
   ]
  },
  {
   "cell_type": "code",
   "execution_count": 4,
   "id": "def9beb2",
   "metadata": {
    "execution": {
     "iopub.execute_input": "2021-10-19T22:13:58.220687Z",
     "iopub.status.busy": "2021-10-19T22:13:58.220238Z",
     "iopub.status.idle": "2021-10-19T22:13:58.221956Z",
     "shell.execute_reply": "2021-10-19T22:13:58.222384Z"
    },
    "papermill": {
     "duration": 0.01689,
     "end_time": "2021-10-19T22:13:58.222518",
     "exception": false,
     "start_time": "2021-10-19T22:13:58.205628",
     "status": "completed"
    },
    "tags": [
     "injected-parameters",
     "remove-cell"
    ]
   },
   "outputs": [],
   "source": [
    "# Parameters\n",
    "person = \"consideRatio\"\n",
    "n_days = 90\n"
   ]
  },
  {
   "cell_type": "code",
   "execution_count": 5,
   "id": "689132ed",
   "metadata": {
    "execution": {
     "iopub.execute_input": "2021-10-19T22:13:58.251556Z",
     "iopub.status.busy": "2021-10-19T22:13:58.251108Z",
     "iopub.status.idle": "2021-10-19T22:13:58.253672Z",
     "shell.execute_reply": "2021-10-19T22:13:58.253282Z"
    },
    "papermill": {
     "duration": 0.019907,
     "end_time": "2021-10-19T22:13:58.253784",
     "exception": false,
     "start_time": "2021-10-19T22:13:58.233877",
     "status": "completed"
    },
    "tags": [
     "remove_cell"
    ]
   },
   "outputs": [
    {
     "data": {
      "text/plain": [
       "ThemeRegistry.enable('my_theme')"
      ]
     },
     "execution_count": 5,
     "metadata": {},
     "output_type": "execute_result"
    }
   ],
   "source": [
    "alt.renderers.enable(renderer);\n",
    "alt.themes.register('my_theme', alt_theme)\n",
    "alt.themes.enable(\"my_theme\")"
   ]
  },
  {
   "cell_type": "markdown",
   "id": "4d196346",
   "metadata": {
    "papermill": {
     "duration": 0.011923,
     "end_time": "2021-10-19T22:13:58.278433",
     "exception": false,
     "start_time": "2021-10-19T22:13:58.266510",
     "status": "completed"
    },
    "tags": []
   },
   "source": [
    "## Load data"
   ]
  },
  {
   "cell_type": "code",
   "execution_count": 6,
   "id": "748d469a",
   "metadata": {
    "execution": {
     "iopub.execute_input": "2021-10-19T22:13:58.308054Z",
     "iopub.status.busy": "2021-10-19T22:13:58.307596Z",
     "iopub.status.idle": "2021-10-19T22:13:58.408941Z",
     "shell.execute_reply": "2021-10-19T22:13:58.408403Z"
    },
    "papermill": {
     "duration": 0.118871,
     "end_time": "2021-10-19T22:13:58.409134",
     "exception": false,
     "start_time": "2021-10-19T22:13:58.290263",
     "status": "completed"
    },
    "tags": [
     "remove_cell"
    ]
   },
   "outputs": [],
   "source": [
    "from pathlib import Path\n",
    "path_data = Path(\"./\")\n",
    "comments = pd.read_csv(path_data.joinpath('../data/comments.csv'), index_col=0)\n",
    "issues = pd.read_csv(path_data.joinpath('../data/issues.csv'), index_col=0)\n",
    "prs = pd.read_csv(path_data.joinpath('../data/prs.csv'), index_col=0)\n",
    "\n",
    "comments = comments.query('author == @person').drop_duplicates()\n",
    "issues = issues.query('author == @person').drop_duplicates()\n",
    "closed_by = prs.query('mergedBy == @person')\n",
    "prs = prs.query('author == @person').drop_duplicates()"
   ]
  },
  {
   "cell_type": "code",
   "execution_count": 7,
   "id": "2e50ebf5",
   "metadata": {
    "execution": {
     "iopub.execute_input": "2021-10-19T22:13:58.464796Z",
     "iopub.status.busy": "2021-10-19T22:13:58.452838Z",
     "iopub.status.idle": "2021-10-19T22:13:58.481182Z",
     "shell.execute_reply": "2021-10-19T22:13:58.481574Z"
    },
    "papermill": {
     "duration": 0.059257,
     "end_time": "2021-10-19T22:13:58.481738",
     "exception": false,
     "start_time": "2021-10-19T22:13:58.422481",
     "status": "completed"
    },
    "tags": [
     "remove_cell"
    ]
   },
   "outputs": [],
   "source": [
    "# Time columns\n",
    "# Also drop dates outside of our range\n",
    "time_columns = ['updatedAt', 'createdAt', 'closedAt']\n",
    "for col in time_columns:\n",
    "    for item in [comments, issues, prs, closed_by]:\n",
    "        if col not in item.columns:\n",
    "            continue\n",
    "        dt = pd.to_datetime(item[col]).dt.tz_localize(None)\n",
    "        item[col] = dt\n",
    "        item.query(\"updatedAt < @end_date and updatedAt > @start_date\", inplace=True)"
   ]
  },
  {
   "cell_type": "markdown",
   "id": "b2ff262b",
   "metadata": {
    "papermill": {
     "duration": 0.013343,
     "end_time": "2021-10-19T22:13:58.508443",
     "exception": false,
     "start_time": "2021-10-19T22:13:58.495100",
     "status": "completed"
    },
    "tags": []
   },
   "source": [
    "## Repository summaries"
   ]
  },
  {
   "cell_type": "code",
   "execution_count": 8,
   "id": "d60fba2f",
   "metadata": {
    "execution": {
     "iopub.execute_input": "2021-10-19T22:13:58.540442Z",
     "iopub.status.busy": "2021-10-19T22:13:58.539930Z",
     "iopub.status.idle": "2021-10-19T22:13:58.555247Z",
     "shell.execute_reply": "2021-10-19T22:13:58.554830Z"
    },
    "papermill": {
     "duration": 0.032311,
     "end_time": "2021-10-19T22:13:58.555380",
     "exception": false,
     "start_time": "2021-10-19T22:13:58.523069",
     "status": "completed"
    },
    "tags": [
     "remove_cell"
    ]
   },
   "outputs": [],
   "source": [
    "summaries = []\n",
    "for idata, name in [(issues, 'issues'), (prs, 'prs'), (comments, 'comments')]:\n",
    "    idata = idata.groupby([\"repo\", \"org\"]).agg({'id': \"count\"}).reset_index().rename(columns={'id': 'count'})\n",
    "    idata[\"kind\"] = name\n",
    "    summaries.append(idata)\n",
    "summaries = pd.concat(summaries)"
   ]
  },
  {
   "cell_type": "code",
   "execution_count": 9,
   "id": "2e049bc7",
   "metadata": {
    "execution": {
     "iopub.execute_input": "2021-10-19T22:13:58.587819Z",
     "iopub.status.busy": "2021-10-19T22:13:58.587313Z",
     "iopub.status.idle": "2021-10-19T22:13:58.595038Z",
     "shell.execute_reply": "2021-10-19T22:13:58.594628Z"
    },
    "papermill": {
     "duration": 0.026286,
     "end_time": "2021-10-19T22:13:58.595165",
     "exception": false,
     "start_time": "2021-10-19T22:13:58.568879",
     "status": "completed"
    },
    "tags": [
     "remove_cell"
    ]
   },
   "outputs": [],
   "source": [
    "repo_summaries = summaries.groupby([\"repo\", \"kind\"]).agg({\"count\": \"sum\"}).reset_index()\n",
    "org_summaries = summaries.groupby([\"org\", \"kind\"]).agg({\"count\": \"sum\"}).reset_index()"
   ]
  },
  {
   "cell_type": "code",
   "execution_count": 10,
   "id": "41f76098",
   "metadata": {
    "execution": {
     "iopub.execute_input": "2021-10-19T22:13:58.627029Z",
     "iopub.status.busy": "2021-10-19T22:13:58.626531Z",
     "iopub.status.idle": "2021-10-19T22:13:58.628294Z",
     "shell.execute_reply": "2021-10-19T22:13:58.628697Z"
    },
    "papermill": {
     "duration": 0.020254,
     "end_time": "2021-10-19T22:13:58.628840",
     "exception": false,
     "start_time": "2021-10-19T22:13:58.608586",
     "status": "completed"
    },
    "tags": [
     "remove_cell"
    ]
   },
   "outputs": [],
   "source": [
    "repo_summaries['logcount'] = np.log(repo_summaries[\"count\"])"
   ]
  },
  {
   "cell_type": "code",
   "execution_count": 11,
   "id": "b51e1897",
   "metadata": {
    "execution": {
     "iopub.execute_input": "2021-10-19T22:13:58.661450Z",
     "iopub.status.busy": "2021-10-19T22:13:58.660906Z",
     "iopub.status.idle": "2021-10-19T22:13:58.703985Z",
     "shell.execute_reply": "2021-10-19T22:13:58.704450Z"
    },
    "papermill": {
     "duration": 0.060702,
     "end_time": "2021-10-19T22:13:58.704620",
     "exception": false,
     "start_time": "2021-10-19T22:13:58.643918",
     "status": "completed"
    },
    "tags": [
     "hide_input"
    ]
   },
   "outputs": [
    {
     "data": {
      "text/html": [
       "\n",
       "<div id=\"altair-viz-fe231626f9ba4df6ba8a276206392224\"></div>\n",
       "<script type=\"text/javascript\">\n",
       "  (function(spec, embedOpt){\n",
       "    let outputDiv = document.currentScript.previousElementSibling;\n",
       "    if (outputDiv.id !== \"altair-viz-fe231626f9ba4df6ba8a276206392224\") {\n",
       "      outputDiv = document.getElementById(\"altair-viz-fe231626f9ba4df6ba8a276206392224\");\n",
       "    }\n",
       "    const paths = {\n",
       "      \"vega\": \"https://cdn.jsdelivr.net/npm//vega@5?noext\",\n",
       "      \"vega-lib\": \"https://cdn.jsdelivr.net/npm//vega-lib?noext\",\n",
       "      \"vega-lite\": \"https://cdn.jsdelivr.net/npm//vega-lite@4.8.1?noext\",\n",
       "      \"vega-embed\": \"https://cdn.jsdelivr.net/npm//vega-embed@6?noext\",\n",
       "    };\n",
       "\n",
       "    function loadScript(lib) {\n",
       "      return new Promise(function(resolve, reject) {\n",
       "        var s = document.createElement('script');\n",
       "        s.src = paths[lib];\n",
       "        s.async = true;\n",
       "        s.onload = () => resolve(paths[lib]);\n",
       "        s.onerror = () => reject(`Error loading script: ${paths[lib]}`);\n",
       "        document.getElementsByTagName(\"head\")[0].appendChild(s);\n",
       "      });\n",
       "    }\n",
       "\n",
       "    function showError(err) {\n",
       "      outputDiv.innerHTML = `<div class=\"error\" style=\"color:red;\">${err}</div>`;\n",
       "      throw err;\n",
       "    }\n",
       "\n",
       "    function displayChart(vegaEmbed) {\n",
       "      vegaEmbed(outputDiv, spec, embedOpt)\n",
       "        .catch(err => showError(`Javascript Error: ${err.message}<br>This usually means there's a typo in your chart specification. See the javascript console for the full traceback.`));\n",
       "    }\n",
       "\n",
       "    if(typeof define === \"function\" && define.amd) {\n",
       "      requirejs.config({paths});\n",
       "      require([\"vega-embed\"], displayChart, err => showError(`Error loading script: ${err.message}`));\n",
       "    } else if (typeof vegaEmbed === \"function\") {\n",
       "      displayChart(vegaEmbed);\n",
       "    } else {\n",
       "      loadScript(\"vega\")\n",
       "        .then(() => loadScript(\"vega-lite\"))\n",
       "        .then(() => loadScript(\"vega-embed\"))\n",
       "        .catch(showError)\n",
       "        .then(() => displayChart(vegaEmbed));\n",
       "    }\n",
       "  })({\"config\": {\"axisLeft\": {\"labelFontSize\": 15}, \"axisBottom\": {\"labelFontSize\": 15}}, \"hconcat\": [{\"mark\": \"bar\", \"encoding\": {\"color\": {\"type\": \"nominal\", \"field\": \"kind\"}, \"tooltip\": {\"type\": \"nominal\", \"field\": \"kind\"}, \"x\": {\"type\": \"nominal\", \"field\": \"repo\"}, \"y\": {\"type\": \"quantitative\", \"field\": \"count\"}}, \"title\": \"Activity per repository\", \"width\": 600}, {\"mark\": \"bar\", \"encoding\": {\"color\": {\"type\": \"nominal\", \"field\": \"kind\"}, \"tooltip\": {\"type\": \"nominal\", \"field\": \"kind\"}, \"x\": {\"type\": \"nominal\", \"field\": \"repo\"}, \"y\": {\"type\": \"quantitative\", \"field\": \"logcount\"}}, \"title\": \"Log activity per repository\", \"width\": 600}], \"data\": {\"name\": \"data-e638747e98defcf5411eac06839864a5\"}, \"$schema\": \"https://vega.github.io/schema/vega-lite/v4.8.1.json\", \"datasets\": {\"data-e638747e98defcf5411eac06839864a5\": [{\"repo\": \"action-k3s-helm\", \"kind\": \"comments\", \"count\": 5, \"logcount\": 1.6094379124341003}, {\"repo\": \"action-k3s-helm\", \"kind\": \"issues\", \"count\": 3, \"logcount\": 1.0986122886681098}, {\"repo\": \"action-k3s-helm\", \"kind\": \"prs\", \"count\": 5, \"logcount\": 1.6094379124341003}, {\"repo\": \"action-k8s-namespace-report\", \"kind\": \"prs\", \"count\": 2, \"logcount\": 0.6931471805599453}, {\"repo\": \"action-major-minor-tag-calculator\", \"kind\": \"comments\", \"count\": 6, \"logcount\": 1.791759469228055}, {\"repo\": \"action-major-minor-tag-calculator\", \"kind\": \"prs\", \"count\": 1, \"logcount\": 0.0}, {\"repo\": \"autodoc-traits\", \"kind\": \"comments\", \"count\": 1, \"logcount\": 0.0}, {\"repo\": \"autodoc-traits\", \"kind\": \"issues\", \"count\": 1, \"logcount\": 0.0}, {\"repo\": \"binderhub\", \"kind\": \"comments\", \"count\": 62, \"logcount\": 4.127134385045092}, {\"repo\": \"binderhub\", \"kind\": \"issues\", \"count\": 11, \"logcount\": 2.3978952727983707}, {\"repo\": \"binderhub\", \"kind\": \"prs\", \"count\": 23, \"logcount\": 3.1354942159291497}, {\"repo\": \"chartpress\", \"kind\": \"comments\", \"count\": 2, \"logcount\": 0.6931471805599453}, {\"repo\": \"configurable-http-proxy\", \"kind\": \"comments\", \"count\": 2, \"logcount\": 0.6931471805599453}, {\"repo\": \"cookiecutter-docker-stacks\", \"kind\": \"comments\", \"count\": 1, \"logcount\": 0.0}, {\"repo\": \"docker-image-cleaner\", \"kind\": \"comments\", \"count\": 7, \"logcount\": 1.9459101490553132}, {\"repo\": \"docker-image-cleaner\", \"kind\": \"issues\", \"count\": 6, \"logcount\": 1.791759469228055}, {\"repo\": \"docker-image-cleaner\", \"kind\": \"prs\", \"count\": 3, \"logcount\": 1.0986122886681098}, {\"repo\": \"docker-stacks\", \"kind\": \"comments\", \"count\": 14, \"logcount\": 2.6390573296152584}, {\"repo\": \"docker-stacks\", \"kind\": \"issues\", \"count\": 3, \"logcount\": 1.0986122886681098}, {\"repo\": \"helm-chart\", \"kind\": \"comments\", \"count\": 1, \"logcount\": 0.0}, {\"repo\": \"jupyterhub\", \"kind\": \"comments\", \"count\": 24, \"logcount\": 3.1780538303479458}, {\"repo\": \"jupyterhub\", \"kind\": \"issues\", \"count\": 5, \"logcount\": 1.6094379124341003}, {\"repo\": \"jupyterhub\", \"kind\": \"prs\", \"count\": 4, \"logcount\": 1.3862943611198906}, {\"repo\": \"jupyterhub-idle-culler\", \"kind\": \"comments\", \"count\": 6, \"logcount\": 1.791759469228055}, {\"repo\": \"jupyterhub-idle-culler\", \"kind\": \"issues\", \"count\": 2, \"logcount\": 0.6931471805599453}, {\"repo\": \"jupyterhub-idle-culler\", \"kind\": \"prs\", \"count\": 5, \"logcount\": 1.6094379124341003}, {\"repo\": \"jupyterlab-git\", \"kind\": \"comments\", \"count\": 2, \"logcount\": 0.6931471805599453}, {\"repo\": \"jupyterlab_server\", \"kind\": \"comments\", \"count\": 1, \"logcount\": 0.0}, {\"repo\": \"jupyterlab_server\", \"kind\": \"issues\", \"count\": 1, \"logcount\": 0.0}, {\"repo\": \"kubespawner\", \"kind\": \"comments\", \"count\": 5, \"logcount\": 1.6094379124341003}, {\"repo\": \"kubespawner\", \"kind\": \"prs\", \"count\": 1, \"logcount\": 0.0}, {\"repo\": \"ltiauthenticator\", \"kind\": \"comments\", \"count\": 11, \"logcount\": 2.3978952727983707}, {\"repo\": \"ltiauthenticator\", \"kind\": \"issues\", \"count\": 1, \"logcount\": 0.0}, {\"repo\": \"ltiauthenticator\", \"kind\": \"prs\", \"count\": 7, \"logcount\": 1.9459101490553132}, {\"repo\": \"mybinder.org-deploy\", \"kind\": \"comments\", \"count\": 8, \"logcount\": 2.0794415416798357}, {\"repo\": \"mybinder.org-deploy\", \"kind\": \"issues\", \"count\": 2, \"logcount\": 0.6931471805599453}, {\"repo\": \"mybinder.org-deploy\", \"kind\": \"prs\", \"count\": 2, \"logcount\": 0.6931471805599453}, {\"repo\": \"nativeauthenticator\", \"kind\": \"comments\", \"count\": 1, \"logcount\": 0.0}, {\"repo\": \"nativeauthenticator\", \"kind\": \"issues\", \"count\": 4, \"logcount\": 1.3862943611198906}, {\"repo\": \"nbgitpuller\", \"kind\": \"comments\", \"count\": 19, \"logcount\": 2.9444389791664403}, {\"repo\": \"nbgitpuller\", \"kind\": \"issues\", \"count\": 4, \"logcount\": 1.3862943611198906}, {\"repo\": \"nbgitpuller\", \"kind\": \"prs\", \"count\": 8, \"logcount\": 2.0794415416798357}, {\"repo\": \"notebook\", \"kind\": \"comments\", \"count\": 1, \"logcount\": 0.0}, {\"repo\": \"oauthenticator\", \"kind\": \"comments\", \"count\": 8, \"logcount\": 2.0794415416798357}, {\"repo\": \"repo2docker\", \"kind\": \"comments\", \"count\": 2, \"logcount\": 0.6931471805599453}, {\"repo\": \"repo2docker-action\", \"kind\": \"comments\", \"count\": 1, \"logcount\": 0.0}, {\"repo\": \"sudospawner\", \"kind\": \"comments\", \"count\": 1, \"logcount\": 0.0}, {\"repo\": \"sudospawner\", \"kind\": \"issues\", \"count\": 1, \"logcount\": 0.0}, {\"repo\": \"sudospawner\", \"kind\": \"prs\", \"count\": 1, \"logcount\": 0.0}, {\"repo\": \"team-compass\", \"kind\": \"comments\", \"count\": 8, \"logcount\": 2.0794415416798357}, {\"repo\": \"team-compass\", \"kind\": \"issues\", \"count\": 4, \"logcount\": 1.3862943611198906}, {\"repo\": \"the-littlest-jupyterhub\", \"kind\": \"comments\", \"count\": 15, \"logcount\": 2.70805020110221}, {\"repo\": \"the-littlest-jupyterhub\", \"kind\": \"issues\", \"count\": 2, \"logcount\": 0.6931471805599453}, {\"repo\": \"the-littlest-jupyterhub\", \"kind\": \"prs\", \"count\": 3, \"logcount\": 1.0986122886681098}, {\"repo\": \"traefik-proxy\", \"kind\": \"comments\", \"count\": 2, \"logcount\": 0.6931471805599453}, {\"repo\": \"traefik-proxy\", \"kind\": \"issues\", \"count\": 1, \"logcount\": 0.0}, {\"repo\": \"traefik-proxy\", \"kind\": \"prs\", \"count\": 3, \"logcount\": 1.0986122886681098}, {\"repo\": \"traitlets\", \"kind\": \"issues\", \"count\": 1, \"logcount\": 0.0}, {\"repo\": \"zero-to-jupyterhub-k8s\", \"kind\": \"comments\", \"count\": 51, \"logcount\": 3.9318256327243257}, {\"repo\": \"zero-to-jupyterhub-k8s\", \"kind\": \"issues\", \"count\": 6, \"logcount\": 1.791759469228055}, {\"repo\": \"zero-to-jupyterhub-k8s\", \"kind\": \"prs\", \"count\": 26, \"logcount\": 3.258096538021482}]}}, {\"mode\": \"vega-lite\"});\n",
       "</script>"
      ],
      "text/plain": [
       "alt.HConcatChart(...)"
      ]
     },
     "execution_count": 11,
     "metadata": {},
     "output_type": "execute_result"
    }
   ],
   "source": [
    "ch1 = alt.Chart(repo_summaries, width=600, title=\"Activity per repository\").mark_bar().encode(\n",
    "    x='repo',\n",
    "    y='count',\n",
    "    color='kind',\n",
    "    tooltip=\"kind\"\n",
    ")\n",
    "\n",
    "ch2 = alt.Chart(repo_summaries, width=600, title=\"Log activity per repository\").mark_bar().encode(\n",
    "    x='repo',\n",
    "    y='logcount',\n",
    "    color='kind',\n",
    "    tooltip=\"kind\"\n",
    ")\n",
    "\n",
    "ch1 | ch2"
   ]
  },
  {
   "cell_type": "code",
   "execution_count": 12,
   "id": "0b9a102d",
   "metadata": {
    "execution": {
     "iopub.execute_input": "2021-10-19T22:13:58.756951Z",
     "iopub.status.busy": "2021-10-19T22:13:58.756415Z",
     "iopub.status.idle": "2021-10-19T22:13:58.762170Z",
     "shell.execute_reply": "2021-10-19T22:13:58.761795Z"
    },
    "papermill": {
     "duration": 0.043422,
     "end_time": "2021-10-19T22:13:58.762292",
     "exception": false,
     "start_time": "2021-10-19T22:13:58.718870",
     "status": "completed"
    },
    "tags": [
     "hide_input"
    ]
   },
   "outputs": [
    {
     "data": {
      "text/html": [
       "\n",
       "<div id=\"altair-viz-13272244d67e4df2844f8b87a540058f\"></div>\n",
       "<script type=\"text/javascript\">\n",
       "  (function(spec, embedOpt){\n",
       "    let outputDiv = document.currentScript.previousElementSibling;\n",
       "    if (outputDiv.id !== \"altair-viz-13272244d67e4df2844f8b87a540058f\") {\n",
       "      outputDiv = document.getElementById(\"altair-viz-13272244d67e4df2844f8b87a540058f\");\n",
       "    }\n",
       "    const paths = {\n",
       "      \"vega\": \"https://cdn.jsdelivr.net/npm//vega@5?noext\",\n",
       "      \"vega-lib\": \"https://cdn.jsdelivr.net/npm//vega-lib?noext\",\n",
       "      \"vega-lite\": \"https://cdn.jsdelivr.net/npm//vega-lite@4.8.1?noext\",\n",
       "      \"vega-embed\": \"https://cdn.jsdelivr.net/npm//vega-embed@6?noext\",\n",
       "    };\n",
       "\n",
       "    function loadScript(lib) {\n",
       "      return new Promise(function(resolve, reject) {\n",
       "        var s = document.createElement('script');\n",
       "        s.src = paths[lib];\n",
       "        s.async = true;\n",
       "        s.onload = () => resolve(paths[lib]);\n",
       "        s.onerror = () => reject(`Error loading script: ${paths[lib]}`);\n",
       "        document.getElementsByTagName(\"head\")[0].appendChild(s);\n",
       "      });\n",
       "    }\n",
       "\n",
       "    function showError(err) {\n",
       "      outputDiv.innerHTML = `<div class=\"error\" style=\"color:red;\">${err}</div>`;\n",
       "      throw err;\n",
       "    }\n",
       "\n",
       "    function displayChart(vegaEmbed) {\n",
       "      vegaEmbed(outputDiv, spec, embedOpt)\n",
       "        .catch(err => showError(`Javascript Error: ${err.message}<br>This usually means there's a typo in your chart specification. See the javascript console for the full traceback.`));\n",
       "    }\n",
       "\n",
       "    if(typeof define === \"function\" && define.amd) {\n",
       "      requirejs.config({paths});\n",
       "      require([\"vega-embed\"], displayChart, err => showError(`Error loading script: ${err.message}`));\n",
       "    } else if (typeof vegaEmbed === \"function\") {\n",
       "      displayChart(vegaEmbed);\n",
       "    } else {\n",
       "      loadScript(\"vega\")\n",
       "        .then(() => loadScript(\"vega-lite\"))\n",
       "        .then(() => loadScript(\"vega-embed\"))\n",
       "        .catch(showError)\n",
       "        .then(() => displayChart(vegaEmbed));\n",
       "    }\n",
       "  })({\"config\": {\"axisLeft\": {\"labelFontSize\": 15}, \"axisBottom\": {\"labelFontSize\": 15}}, \"data\": {\"name\": \"data-51b62ed2008bb05a5b283de579eeb590\"}, \"mark\": \"bar\", \"encoding\": {\"color\": {\"type\": \"nominal\", \"field\": \"kind\"}, \"tooltip\": {\"type\": \"nominal\", \"field\": \"org\"}, \"x\": {\"type\": \"nominal\", \"field\": \"org\"}, \"y\": {\"type\": \"quantitative\", \"field\": \"count\"}}, \"width\": 600, \"$schema\": \"https://vega.github.io/schema/vega-lite/v4.8.1.json\", \"datasets\": {\"data-51b62ed2008bb05a5b283de579eeb590\": [{\"org\": \"ipython\", \"kind\": \"issues\", \"count\": 1}, {\"org\": \"jupyter\", \"kind\": \"comments\", \"count\": 16}, {\"org\": \"jupyter\", \"kind\": \"issues\", \"count\": 3}, {\"org\": \"jupyterhub\", \"kind\": \"comments\", \"count\": 248}, {\"org\": \"jupyterhub\", \"kind\": \"issues\", \"count\": 53}, {\"org\": \"jupyterhub\", \"kind\": \"prs\", \"count\": 94}, {\"org\": \"jupyterlab\", \"kind\": \"comments\", \"count\": 3}, {\"org\": \"jupyterlab\", \"kind\": \"issues\", \"count\": 1}]}}, {\"mode\": \"vega-lite\"});\n",
       "</script>"
      ],
      "text/plain": [
       "alt.Chart(...)"
      ]
     },
     "execution_count": 12,
     "metadata": {},
     "output_type": "execute_result"
    }
   ],
   "source": [
    "alt.Chart(org_summaries, width=600).mark_bar().encode(\n",
    "    x='org',\n",
    "    y='count',\n",
    "    color='kind',\n",
    "    tooltip=\"org\"\n",
    ")"
   ]
  },
  {
   "cell_type": "markdown",
   "id": "73ec8f4c",
   "metadata": {
    "papermill": {
     "duration": 0.01329,
     "end_time": "2021-10-19T22:13:58.789872",
     "exception": false,
     "start_time": "2021-10-19T22:13:58.776582",
     "status": "completed"
    },
    "tags": []
   },
   "source": [
    "## By repository over time"
   ]
  },
  {
   "cell_type": "markdown",
   "id": "abfdef9f",
   "metadata": {
    "papermill": {
     "duration": 0.013194,
     "end_time": "2021-10-19T22:13:58.816128",
     "exception": false,
     "start_time": "2021-10-19T22:13:58.802934",
     "status": "completed"
    },
    "tags": []
   },
   "source": [
    "### Comments"
   ]
  },
  {
   "cell_type": "code",
   "execution_count": 13,
   "id": "9570e884",
   "metadata": {
    "execution": {
     "iopub.execute_input": "2021-10-19T22:13:58.848587Z",
     "iopub.status.busy": "2021-10-19T22:13:58.848127Z",
     "iopub.status.idle": "2021-10-19T22:13:58.951362Z",
     "shell.execute_reply": "2021-10-19T22:13:58.951739Z"
    },
    "papermill": {
     "duration": 0.122574,
     "end_time": "2021-10-19T22:13:58.951898",
     "exception": false,
     "start_time": "2021-10-19T22:13:58.829324",
     "status": "completed"
    },
    "tags": [
     "hide_input"
    ]
   },
   "outputs": [
    {
     "data": {
      "text/html": [
       "\n",
       "<div id=\"altair-viz-efe53d02d6a840b386adcfc7423eed4d\"></div>\n",
       "<script type=\"text/javascript\">\n",
       "  (function(spec, embedOpt){\n",
       "    let outputDiv = document.currentScript.previousElementSibling;\n",
       "    if (outputDiv.id !== \"altair-viz-efe53d02d6a840b386adcfc7423eed4d\") {\n",
       "      outputDiv = document.getElementById(\"altair-viz-efe53d02d6a840b386adcfc7423eed4d\");\n",
       "    }\n",
       "    const paths = {\n",
       "      \"vega\": \"https://cdn.jsdelivr.net/npm//vega@5?noext\",\n",
       "      \"vega-lib\": \"https://cdn.jsdelivr.net/npm//vega-lib?noext\",\n",
       "      \"vega-lite\": \"https://cdn.jsdelivr.net/npm//vega-lite@4.8.1?noext\",\n",
       "      \"vega-embed\": \"https://cdn.jsdelivr.net/npm//vega-embed@6?noext\",\n",
       "    };\n",
       "\n",
       "    function loadScript(lib) {\n",
       "      return new Promise(function(resolve, reject) {\n",
       "        var s = document.createElement('script');\n",
       "        s.src = paths[lib];\n",
       "        s.async = true;\n",
       "        s.onload = () => resolve(paths[lib]);\n",
       "        s.onerror = () => reject(`Error loading script: ${paths[lib]}`);\n",
       "        document.getElementsByTagName(\"head\")[0].appendChild(s);\n",
       "      });\n",
       "    }\n",
       "\n",
       "    function showError(err) {\n",
       "      outputDiv.innerHTML = `<div class=\"error\" style=\"color:red;\">${err}</div>`;\n",
       "      throw err;\n",
       "    }\n",
       "\n",
       "    function displayChart(vegaEmbed) {\n",
       "      vegaEmbed(outputDiv, spec, embedOpt)\n",
       "        .catch(err => showError(`Javascript Error: ${err.message}<br>This usually means there's a typo in your chart specification. See the javascript console for the full traceback.`));\n",
       "    }\n",
       "\n",
       "    if(typeof define === \"function\" && define.amd) {\n",
       "      requirejs.config({paths});\n",
       "      require([\"vega-embed\"], displayChart, err => showError(`Error loading script: ${err.message}`));\n",
       "    } else if (typeof vegaEmbed === \"function\") {\n",
       "      displayChart(vegaEmbed);\n",
       "    } else {\n",
       "      loadScript(\"vega\")\n",
       "        .then(() => loadScript(\"vega-lite\"))\n",
       "        .then(() => loadScript(\"vega-embed\"))\n",
       "        .catch(showError)\n",
       "        .then(() => displayChart(vegaEmbed));\n",
       "    }\n",
       "  })({\"config\": {\"axisLeft\": {\"labelFontSize\": 15}, \"axisBottom\": {\"labelFontSize\": 15}}, \"layer\": [{\"data\": {\"name\": \"data-6f1c78eee58e11660a9dd648132849e1\"}, \"mark\": \"line\", \"encoding\": {\"color\": {\"type\": \"nominal\", \"field\": \"repo\"}, \"tooltip\": {\"type\": \"nominal\", \"field\": \"repo\"}, \"x\": {\"type\": \"temporal\", \"field\": \"createdAt\"}, \"y\": {\"type\": \"quantitative\", \"field\": \"count\"}}, \"width\": 600}, {\"data\": {\"name\": \"data-50ea3b5c8e070f734fd1d0cc3f6797c6\"}, \"mark\": {\"type\": \"line\", \"color\": \"black\"}, \"encoding\": {\"x\": {\"type\": \"temporal\", \"field\": \"createdAt\"}, \"y\": {\"type\": \"quantitative\", \"field\": \"count\"}}, \"width\": 600}], \"$schema\": \"https://vega.github.io/schema/vega-lite/v4.8.1.json\", \"datasets\": {\"data-6f1c78eee58e11660a9dd648132849e1\": [{\"repo\": \"action-k3s-helm\", \"createdAt\": \"2021-10-10T00:00:00\", \"count\": 5}, {\"repo\": \"action-major-minor-tag-calculator\", \"createdAt\": \"2021-09-05T00:00:00\", \"count\": 1}, {\"repo\": \"action-major-minor-tag-calculator\", \"createdAt\": \"2021-09-12T00:00:00\", \"count\": 0}, {\"repo\": \"action-major-minor-tag-calculator\", \"createdAt\": \"2021-09-19T00:00:00\", \"count\": 0}, {\"repo\": \"action-major-minor-tag-calculator\", \"createdAt\": \"2021-09-26T00:00:00\", \"count\": 4}, {\"repo\": \"action-major-minor-tag-calculator\", \"createdAt\": \"2021-10-03T00:00:00\", \"count\": 0}, {\"repo\": \"action-major-minor-tag-calculator\", \"createdAt\": \"2021-10-10T00:00:00\", \"count\": 0}, {\"repo\": \"action-major-minor-tag-calculator\", \"createdAt\": \"2021-10-17T00:00:00\", \"count\": 1}, {\"repo\": \"autodoc-traits\", \"createdAt\": \"2021-10-24T00:00:00\", \"count\": 1}, {\"repo\": \"binderhub\", \"createdAt\": \"2021-09-12T00:00:00\", \"count\": 4}, {\"repo\": \"binderhub\", \"createdAt\": \"2021-09-19T00:00:00\", \"count\": 4}, {\"repo\": \"binderhub\", \"createdAt\": \"2021-09-26T00:00:00\", \"count\": 27}, {\"repo\": \"binderhub\", \"createdAt\": \"2021-10-03T00:00:00\", \"count\": 7}, {\"repo\": \"binderhub\", \"createdAt\": \"2021-10-10T00:00:00\", \"count\": 18}, {\"repo\": \"binderhub\", \"createdAt\": \"2021-10-17T00:00:00\", \"count\": 2}, {\"repo\": \"chartpress\", \"createdAt\": \"2021-09-05T00:00:00\", \"count\": 2}, {\"repo\": \"configurable-http-proxy\", \"createdAt\": \"2021-09-19T00:00:00\", \"count\": 2}, {\"repo\": \"cookiecutter-docker-stacks\", \"createdAt\": \"2021-09-05T00:00:00\", \"count\": 1}, {\"repo\": \"docker-image-cleaner\", \"createdAt\": \"2021-09-19T00:00:00\", \"count\": 4}, {\"repo\": \"docker-image-cleaner\", \"createdAt\": \"2021-09-26T00:00:00\", \"count\": 3}, {\"repo\": \"docker-stacks\", \"createdAt\": \"2021-08-29T00:00:00\", \"count\": 6}, {\"repo\": \"docker-stacks\", \"createdAt\": \"2021-09-05T00:00:00\", \"count\": 4}, {\"repo\": \"docker-stacks\", \"createdAt\": \"2021-09-12T00:00:00\", \"count\": 0}, {\"repo\": \"docker-stacks\", \"createdAt\": \"2021-09-19T00:00:00\", \"count\": 0}, {\"repo\": \"docker-stacks\", \"createdAt\": \"2021-09-26T00:00:00\", \"count\": 0}, {\"repo\": \"docker-stacks\", \"createdAt\": \"2021-10-03T00:00:00\", \"count\": 0}, {\"repo\": \"docker-stacks\", \"createdAt\": \"2021-10-10T00:00:00\", \"count\": 0}, {\"repo\": \"docker-stacks\", \"createdAt\": \"2021-10-17T00:00:00\", \"count\": 4}, {\"repo\": \"helm-chart\", \"createdAt\": \"2021-10-10T00:00:00\", \"count\": 1}, {\"repo\": \"jupyterhub\", \"createdAt\": \"2021-08-22T00:00:00\", \"count\": 2}, {\"repo\": \"jupyterhub\", \"createdAt\": \"2021-08-29T00:00:00\", \"count\": 5}, {\"repo\": \"jupyterhub\", \"createdAt\": \"2021-09-05T00:00:00\", \"count\": 1}, {\"repo\": \"jupyterhub\", \"createdAt\": \"2021-09-12T00:00:00\", \"count\": 1}, {\"repo\": \"jupyterhub\", \"createdAt\": \"2021-09-19T00:00:00\", \"count\": 1}, {\"repo\": \"jupyterhub\", \"createdAt\": \"2021-09-26T00:00:00\", \"count\": 6}, {\"repo\": \"jupyterhub\", \"createdAt\": \"2021-10-03T00:00:00\", \"count\": 2}, {\"repo\": \"jupyterhub\", \"createdAt\": \"2021-10-10T00:00:00\", \"count\": 3}, {\"repo\": \"jupyterhub\", \"createdAt\": \"2021-10-17T00:00:00\", \"count\": 3}, {\"repo\": \"jupyterhub-idle-culler\", \"createdAt\": \"2021-08-29T00:00:00\", \"count\": 1}, {\"repo\": \"jupyterhub-idle-culler\", \"createdAt\": \"2021-09-05T00:00:00\", \"count\": 0}, {\"repo\": \"jupyterhub-idle-culler\", \"createdAt\": \"2021-09-12T00:00:00\", \"count\": 0}, {\"repo\": \"jupyterhub-idle-culler\", \"createdAt\": \"2021-09-19T00:00:00\", \"count\": 2}, {\"repo\": \"jupyterhub-idle-culler\", \"createdAt\": \"2021-09-26T00:00:00\", \"count\": 1}, {\"repo\": \"jupyterhub-idle-culler\", \"createdAt\": \"2021-10-03T00:00:00\", \"count\": 0}, {\"repo\": \"jupyterhub-idle-culler\", \"createdAt\": \"2021-10-10T00:00:00\", \"count\": 0}, {\"repo\": \"jupyterhub-idle-culler\", \"createdAt\": \"2021-10-17T00:00:00\", \"count\": 2}, {\"repo\": \"jupyterlab-git\", \"createdAt\": \"2021-10-03T00:00:00\", \"count\": 2}, {\"repo\": \"jupyterlab_server\", \"createdAt\": \"2021-10-03T00:00:00\", \"count\": 1}, {\"repo\": \"kubespawner\", \"createdAt\": \"2021-10-10T00:00:00\", \"count\": 2}, {\"repo\": \"kubespawner\", \"createdAt\": \"2021-10-17T00:00:00\", \"count\": 3}, {\"repo\": \"ltiauthenticator\", \"createdAt\": \"2021-08-15T00:00:00\", \"count\": 1}, {\"repo\": \"ltiauthenticator\", \"createdAt\": \"2021-08-22T00:00:00\", \"count\": 0}, {\"repo\": \"ltiauthenticator\", \"createdAt\": \"2021-08-29T00:00:00\", \"count\": 3}, {\"repo\": \"ltiauthenticator\", \"createdAt\": \"2021-09-05T00:00:00\", \"count\": 7}, {\"repo\": \"mybinder.org-deploy\", \"createdAt\": \"2021-10-10T00:00:00\", \"count\": 5}, {\"repo\": \"mybinder.org-deploy\", \"createdAt\": \"2021-10-17T00:00:00\", \"count\": 3}, {\"repo\": \"nativeauthenticator\", \"createdAt\": \"2021-10-24T00:00:00\", \"count\": 1}, {\"repo\": \"nbgitpuller\", \"createdAt\": \"2021-08-29T00:00:00\", \"count\": 4}, {\"repo\": \"nbgitpuller\", \"createdAt\": \"2021-09-05T00:00:00\", \"count\": 15}, {\"repo\": \"notebook\", \"createdAt\": \"2021-08-29T00:00:00\", \"count\": 1}, {\"repo\": \"oauthenticator\", \"createdAt\": \"2021-09-05T00:00:00\", \"count\": 3}, {\"repo\": \"oauthenticator\", \"createdAt\": \"2021-09-12T00:00:00\", \"count\": 0}, {\"repo\": \"oauthenticator\", \"createdAt\": \"2021-09-19T00:00:00\", \"count\": 1}, {\"repo\": \"oauthenticator\", \"createdAt\": \"2021-09-26T00:00:00\", \"count\": 0}, {\"repo\": \"oauthenticator\", \"createdAt\": \"2021-10-03T00:00:00\", \"count\": 1}, {\"repo\": \"oauthenticator\", \"createdAt\": \"2021-10-10T00:00:00\", \"count\": 2}, {\"repo\": \"oauthenticator\", \"createdAt\": \"2021-10-17T00:00:00\", \"count\": 1}, {\"repo\": \"repo2docker\", \"createdAt\": \"2021-08-22T00:00:00\", \"count\": 1}, {\"repo\": \"repo2docker\", \"createdAt\": \"2021-08-29T00:00:00\", \"count\": 1}, {\"repo\": \"repo2docker-action\", \"createdAt\": \"2021-09-05T00:00:00\", \"count\": 1}, {\"repo\": \"sudospawner\", \"createdAt\": \"2021-09-12T00:00:00\", \"count\": 1}, {\"repo\": \"team-compass\", \"createdAt\": \"2021-09-19T00:00:00\", \"count\": 2}, {\"repo\": \"team-compass\", \"createdAt\": \"2021-09-26T00:00:00\", \"count\": 5}, {\"repo\": \"team-compass\", \"createdAt\": \"2021-10-03T00:00:00\", \"count\": 1}, {\"repo\": \"the-littlest-jupyterhub\", \"createdAt\": \"2021-10-17T00:00:00\", \"count\": 6}, {\"repo\": \"the-littlest-jupyterhub\", \"createdAt\": \"2021-10-24T00:00:00\", \"count\": 9}, {\"repo\": \"traefik-proxy\", \"createdAt\": \"2021-10-24T00:00:00\", \"count\": 2}, {\"repo\": \"zero-to-jupyterhub-k8s\", \"createdAt\": \"2021-08-22T00:00:00\", \"count\": 2}, {\"repo\": \"zero-to-jupyterhub-k8s\", \"createdAt\": \"2021-08-29T00:00:00\", \"count\": 2}, {\"repo\": \"zero-to-jupyterhub-k8s\", \"createdAt\": \"2021-09-05T00:00:00\", \"count\": 7}, {\"repo\": \"zero-to-jupyterhub-k8s\", \"createdAt\": \"2021-09-12T00:00:00\", \"count\": 0}, {\"repo\": \"zero-to-jupyterhub-k8s\", \"createdAt\": \"2021-09-19T00:00:00\", \"count\": 6}, {\"repo\": \"zero-to-jupyterhub-k8s\", \"createdAt\": \"2021-09-26T00:00:00\", \"count\": 9}, {\"repo\": \"zero-to-jupyterhub-k8s\", \"createdAt\": \"2021-10-03T00:00:00\", \"count\": 12}, {\"repo\": \"zero-to-jupyterhub-k8s\", \"createdAt\": \"2021-10-10T00:00:00\", \"count\": 4}, {\"repo\": \"zero-to-jupyterhub-k8s\", \"createdAt\": \"2021-10-17T00:00:00\", \"count\": 9}], \"data-50ea3b5c8e070f734fd1d0cc3f6797c6\": [{\"createdAt\": \"2021-08-15T00:00:00\", \"count\": 1}, {\"createdAt\": \"2021-08-22T00:00:00\", \"count\": 5}, {\"createdAt\": \"2021-08-29T00:00:00\", \"count\": 23}, {\"createdAt\": \"2021-09-05T00:00:00\", \"count\": 42}, {\"createdAt\": \"2021-09-12T00:00:00\", \"count\": 6}, {\"createdAt\": \"2021-09-19T00:00:00\", \"count\": 22}, {\"createdAt\": \"2021-09-26T00:00:00\", \"count\": 55}, {\"createdAt\": \"2021-10-03T00:00:00\", \"count\": 26}, {\"createdAt\": \"2021-10-10T00:00:00\", \"count\": 40}, {\"createdAt\": \"2021-10-17T00:00:00\", \"count\": 34}, {\"createdAt\": \"2021-10-24T00:00:00\", \"count\": 13}]}}, {\"mode\": \"vega-lite\"});\n",
       "</script>"
      ],
      "text/plain": [
       "alt.LayerChart(...)"
      ]
     },
     "execution_count": 13,
     "metadata": {},
     "output_type": "execute_result"
    }
   ],
   "source": [
    "comments_time = comments.groupby('repo').resample('W', on='createdAt').count()['author'].reset_index()\n",
    "comments_time = comments_time.rename(columns={'author': 'count'})\n",
    "comments_time_total = comments_time.groupby('createdAt').agg({\"count\": \"sum\"}).reset_index()\n",
    "ch1 = alt.Chart(comments_time, width=600).mark_line().encode(\n",
    "    x='createdAt',\n",
    "    y='count',\n",
    "    color='repo',\n",
    "    tooltip=\"repo\"\n",
    ")\n",
    "\n",
    "ch2 = alt.Chart(comments_time_total, width=600).mark_line(color=\"black\").encode(\n",
    "    x='createdAt',\n",
    "    y='count',\n",
    ")\n",
    "\n",
    "ch1 + ch2"
   ]
  },
  {
   "cell_type": "markdown",
   "id": "1b6e855a",
   "metadata": {
    "papermill": {
     "duration": 0.014168,
     "end_time": "2021-10-19T22:13:58.981224",
     "exception": false,
     "start_time": "2021-10-19T22:13:58.967056",
     "status": "completed"
    },
    "tags": []
   },
   "source": [
    "### PRs"
   ]
  },
  {
   "cell_type": "code",
   "execution_count": 14,
   "id": "d3c12027",
   "metadata": {
    "execution": {
     "iopub.execute_input": "2021-10-19T22:13:59.018011Z",
     "iopub.status.busy": "2021-10-19T22:13:59.017536Z",
     "iopub.status.idle": "2021-10-19T22:13:59.101899Z",
     "shell.execute_reply": "2021-10-19T22:13:59.102367Z"
    },
    "papermill": {
     "duration": 0.107706,
     "end_time": "2021-10-19T22:13:59.102556",
     "exception": false,
     "start_time": "2021-10-19T22:13:58.994850",
     "status": "completed"
    },
    "tags": [
     "hide_input"
    ]
   },
   "outputs": [
    {
     "data": {
      "text/html": [
       "\n",
       "<div id=\"altair-viz-c8b126f5b884407fa3225d1cd4da53e3\"></div>\n",
       "<script type=\"text/javascript\">\n",
       "  (function(spec, embedOpt){\n",
       "    let outputDiv = document.currentScript.previousElementSibling;\n",
       "    if (outputDiv.id !== \"altair-viz-c8b126f5b884407fa3225d1cd4da53e3\") {\n",
       "      outputDiv = document.getElementById(\"altair-viz-c8b126f5b884407fa3225d1cd4da53e3\");\n",
       "    }\n",
       "    const paths = {\n",
       "      \"vega\": \"https://cdn.jsdelivr.net/npm//vega@5?noext\",\n",
       "      \"vega-lib\": \"https://cdn.jsdelivr.net/npm//vega-lib?noext\",\n",
       "      \"vega-lite\": \"https://cdn.jsdelivr.net/npm//vega-lite@4.8.1?noext\",\n",
       "      \"vega-embed\": \"https://cdn.jsdelivr.net/npm//vega-embed@6?noext\",\n",
       "    };\n",
       "\n",
       "    function loadScript(lib) {\n",
       "      return new Promise(function(resolve, reject) {\n",
       "        var s = document.createElement('script');\n",
       "        s.src = paths[lib];\n",
       "        s.async = true;\n",
       "        s.onload = () => resolve(paths[lib]);\n",
       "        s.onerror = () => reject(`Error loading script: ${paths[lib]}`);\n",
       "        document.getElementsByTagName(\"head\")[0].appendChild(s);\n",
       "      });\n",
       "    }\n",
       "\n",
       "    function showError(err) {\n",
       "      outputDiv.innerHTML = `<div class=\"error\" style=\"color:red;\">${err}</div>`;\n",
       "      throw err;\n",
       "    }\n",
       "\n",
       "    function displayChart(vegaEmbed) {\n",
       "      vegaEmbed(outputDiv, spec, embedOpt)\n",
       "        .catch(err => showError(`Javascript Error: ${err.message}<br>This usually means there's a typo in your chart specification. See the javascript console for the full traceback.`));\n",
       "    }\n",
       "\n",
       "    if(typeof define === \"function\" && define.amd) {\n",
       "      requirejs.config({paths});\n",
       "      require([\"vega-embed\"], displayChart, err => showError(`Error loading script: ${err.message}`));\n",
       "    } else if (typeof vegaEmbed === \"function\") {\n",
       "      displayChart(vegaEmbed);\n",
       "    } else {\n",
       "      loadScript(\"vega\")\n",
       "        .then(() => loadScript(\"vega-lite\"))\n",
       "        .then(() => loadScript(\"vega-embed\"))\n",
       "        .catch(showError)\n",
       "        .then(() => displayChart(vegaEmbed));\n",
       "    }\n",
       "  })({\"config\": {\"axisLeft\": {\"labelFontSize\": 15}, \"axisBottom\": {\"labelFontSize\": 15}}, \"layer\": [{\"data\": {\"name\": \"data-37a65a0d751b9d899d4afeb86c9de5db\"}, \"mark\": \"line\", \"encoding\": {\"color\": {\"type\": \"nominal\", \"field\": \"repo\"}, \"tooltip\": {\"type\": \"nominal\", \"field\": \"repo\"}, \"x\": {\"type\": \"temporal\", \"field\": \"createdAt\"}, \"y\": {\"type\": \"quantitative\", \"field\": \"count\"}}, \"width\": 600}, {\"data\": {\"name\": \"data-6d91a5ed0041855cc90479bc0e71400c\"}, \"mark\": {\"type\": \"line\", \"color\": \"black\"}, \"encoding\": {\"x\": {\"type\": \"temporal\", \"field\": \"createdAt\"}, \"y\": {\"type\": \"quantitative\", \"field\": \"count\"}}, \"width\": 600}], \"$schema\": \"https://vega.github.io/schema/vega-lite/v4.8.1.json\", \"datasets\": {\"data-37a65a0d751b9d899d4afeb86c9de5db\": [{\"repo\": \"action-k3s-helm\", \"createdAt\": \"2021-08-15T00:00:00\", \"count\": 1}, {\"repo\": \"action-k3s-helm\", \"createdAt\": \"2021-08-22T00:00:00\", \"count\": 0}, {\"repo\": \"action-k3s-helm\", \"createdAt\": \"2021-08-29T00:00:00\", \"count\": 0}, {\"repo\": \"action-k3s-helm\", \"createdAt\": \"2021-09-05T00:00:00\", \"count\": 0}, {\"repo\": \"action-k3s-helm\", \"createdAt\": \"2021-09-12T00:00:00\", \"count\": 0}, {\"repo\": \"action-k3s-helm\", \"createdAt\": \"2021-09-19T00:00:00\", \"count\": 0}, {\"repo\": \"action-k3s-helm\", \"createdAt\": \"2021-09-26T00:00:00\", \"count\": 0}, {\"repo\": \"action-k3s-helm\", \"createdAt\": \"2021-10-03T00:00:00\", \"count\": 2}, {\"repo\": \"action-k3s-helm\", \"createdAt\": \"2021-10-10T00:00:00\", \"count\": 2}, {\"repo\": \"action-k8s-namespace-report\", \"createdAt\": \"2021-09-26T00:00:00\", \"count\": 1}, {\"repo\": \"action-k8s-namespace-report\", \"createdAt\": \"2021-10-03T00:00:00\", \"count\": 1}, {\"repo\": \"action-major-minor-tag-calculator\", \"createdAt\": \"2021-09-26T00:00:00\", \"count\": 1}, {\"repo\": \"binderhub\", \"createdAt\": \"2021-09-26T00:00:00\", \"count\": 10}, {\"repo\": \"binderhub\", \"createdAt\": \"2021-10-03T00:00:00\", \"count\": 0}, {\"repo\": \"binderhub\", \"createdAt\": \"2021-10-10T00:00:00\", \"count\": 12}, {\"repo\": \"binderhub\", \"createdAt\": \"2021-10-17T00:00:00\", \"count\": 1}, {\"repo\": \"docker-image-cleaner\", \"createdAt\": \"2021-09-19T00:00:00\", \"count\": 2}, {\"repo\": \"docker-image-cleaner\", \"createdAt\": \"2021-09-26T00:00:00\", \"count\": 0}, {\"repo\": \"docker-image-cleaner\", \"createdAt\": \"2021-10-03T00:00:00\", \"count\": 0}, {\"repo\": \"docker-image-cleaner\", \"createdAt\": \"2021-10-10T00:00:00\", \"count\": 1}, {\"repo\": \"jupyterhub\", \"createdAt\": \"2021-08-29T00:00:00\", \"count\": 4}, {\"repo\": \"jupyterhub-idle-culler\", \"createdAt\": \"2021-09-26T00:00:00\", \"count\": 1}, {\"repo\": \"jupyterhub-idle-culler\", \"createdAt\": \"2021-10-03T00:00:00\", \"count\": 0}, {\"repo\": \"jupyterhub-idle-culler\", \"createdAt\": \"2021-10-10T00:00:00\", \"count\": 0}, {\"repo\": \"jupyterhub-idle-culler\", \"createdAt\": \"2021-10-17T00:00:00\", \"count\": 4}, {\"repo\": \"kubespawner\", \"createdAt\": \"2021-10-10T00:00:00\", \"count\": 1}, {\"repo\": \"ltiauthenticator\", \"createdAt\": \"2021-08-15T00:00:00\", \"count\": 1}, {\"repo\": \"ltiauthenticator\", \"createdAt\": \"2021-08-22T00:00:00\", \"count\": 0}, {\"repo\": \"ltiauthenticator\", \"createdAt\": \"2021-08-29T00:00:00\", \"count\": 5}, {\"repo\": \"ltiauthenticator\", \"createdAt\": \"2021-09-05T00:00:00\", \"count\": 1}, {\"repo\": \"mybinder.org-deploy\", \"createdAt\": \"2021-10-10T00:00:00\", \"count\": 1}, {\"repo\": \"mybinder.org-deploy\", \"createdAt\": \"2021-10-17T00:00:00\", \"count\": 1}, {\"repo\": \"nbgitpuller\", \"createdAt\": \"2021-09-05T00:00:00\", \"count\": 8}, {\"repo\": \"sudospawner\", \"createdAt\": \"2021-04-25T00:00:00\", \"count\": 1}, {\"repo\": \"the-littlest-jupyterhub\", \"createdAt\": \"2021-10-17T00:00:00\", \"count\": 3}, {\"repo\": \"traefik-proxy\", \"createdAt\": \"2021-10-24T00:00:00\", \"count\": 3}, {\"repo\": \"zero-to-jupyterhub-k8s\", \"createdAt\": \"2021-08-22T00:00:00\", \"count\": 2}, {\"repo\": \"zero-to-jupyterhub-k8s\", \"createdAt\": \"2021-08-29T00:00:00\", \"count\": 1}, {\"repo\": \"zero-to-jupyterhub-k8s\", \"createdAt\": \"2021-09-05T00:00:00\", \"count\": 1}, {\"repo\": \"zero-to-jupyterhub-k8s\", \"createdAt\": \"2021-09-12T00:00:00\", \"count\": 0}, {\"repo\": \"zero-to-jupyterhub-k8s\", \"createdAt\": \"2021-09-19T00:00:00\", \"count\": 0}, {\"repo\": \"zero-to-jupyterhub-k8s\", \"createdAt\": \"2021-09-26T00:00:00\", \"count\": 11}, {\"repo\": \"zero-to-jupyterhub-k8s\", \"createdAt\": \"2021-10-03T00:00:00\", \"count\": 3}, {\"repo\": \"zero-to-jupyterhub-k8s\", \"createdAt\": \"2021-10-10T00:00:00\", \"count\": 2}, {\"repo\": \"zero-to-jupyterhub-k8s\", \"createdAt\": \"2021-10-17T00:00:00\", \"count\": 6}], \"data-6d91a5ed0041855cc90479bc0e71400c\": [{\"createdAt\": \"2021-04-25T00:00:00\", \"count\": 1}, {\"createdAt\": \"2021-08-15T00:00:00\", \"count\": 2}, {\"createdAt\": \"2021-08-22T00:00:00\", \"count\": 2}, {\"createdAt\": \"2021-08-29T00:00:00\", \"count\": 10}, {\"createdAt\": \"2021-09-05T00:00:00\", \"count\": 10}, {\"createdAt\": \"2021-09-12T00:00:00\", \"count\": 0}, {\"createdAt\": \"2021-09-19T00:00:00\", \"count\": 2}, {\"createdAt\": \"2021-09-26T00:00:00\", \"count\": 24}, {\"createdAt\": \"2021-10-03T00:00:00\", \"count\": 6}, {\"createdAt\": \"2021-10-10T00:00:00\", \"count\": 19}, {\"createdAt\": \"2021-10-17T00:00:00\", \"count\": 15}, {\"createdAt\": \"2021-10-24T00:00:00\", \"count\": 3}]}}, {\"mode\": \"vega-lite\"});\n",
       "</script>"
      ],
      "text/plain": [
       "alt.LayerChart(...)"
      ]
     },
     "execution_count": 14,
     "metadata": {},
     "output_type": "execute_result"
    }
   ],
   "source": [
    "prs_time = prs.groupby('repo').resample('W', on='createdAt').count()['author'].reset_index()\n",
    "prs_time = prs_time.rename(columns={'author': 'count'})\n",
    "prs_time_total = prs_time.groupby('createdAt').agg({\"count\": \"sum\"}).reset_index()\n",
    "\n",
    "ch1 = alt.Chart(prs_time, width=600).mark_line().encode(\n",
    "    x='createdAt',\n",
    "    y='count',\n",
    "    color='repo',\n",
    "    tooltip=\"repo\"\n",
    ")\n",
    "\n",
    "ch2 = alt.Chart(prs_time_total, width=600).mark_line(color=\"black\").encode(\n",
    "    x='createdAt',\n",
    "    y='count',\n",
    ")\n",
    "\n",
    "ch1 + ch2"
   ]
  },
  {
   "cell_type": "code",
   "execution_count": 15,
   "id": "9927617d",
   "metadata": {
    "execution": {
     "iopub.execute_input": "2021-10-19T22:13:59.139403Z",
     "iopub.status.busy": "2021-10-19T22:13:59.138947Z",
     "iopub.status.idle": "2021-10-19T22:13:59.224876Z",
     "shell.execute_reply": "2021-10-19T22:13:59.224437Z"
    },
    "papermill": {
     "duration": 0.106789,
     "end_time": "2021-10-19T22:13:59.225003",
     "exception": false,
     "start_time": "2021-10-19T22:13:59.118214",
     "status": "completed"
    },
    "tags": [
     "hide_input"
    ]
   },
   "outputs": [
    {
     "data": {
      "text/html": [
       "\n",
       "<div id=\"altair-viz-9e6b7c8d442c4613a6bfd524fae2816b\"></div>\n",
       "<script type=\"text/javascript\">\n",
       "  (function(spec, embedOpt){\n",
       "    let outputDiv = document.currentScript.previousElementSibling;\n",
       "    if (outputDiv.id !== \"altair-viz-9e6b7c8d442c4613a6bfd524fae2816b\") {\n",
       "      outputDiv = document.getElementById(\"altair-viz-9e6b7c8d442c4613a6bfd524fae2816b\");\n",
       "    }\n",
       "    const paths = {\n",
       "      \"vega\": \"https://cdn.jsdelivr.net/npm//vega@5?noext\",\n",
       "      \"vega-lib\": \"https://cdn.jsdelivr.net/npm//vega-lib?noext\",\n",
       "      \"vega-lite\": \"https://cdn.jsdelivr.net/npm//vega-lite@4.8.1?noext\",\n",
       "      \"vega-embed\": \"https://cdn.jsdelivr.net/npm//vega-embed@6?noext\",\n",
       "    };\n",
       "\n",
       "    function loadScript(lib) {\n",
       "      return new Promise(function(resolve, reject) {\n",
       "        var s = document.createElement('script');\n",
       "        s.src = paths[lib];\n",
       "        s.async = true;\n",
       "        s.onload = () => resolve(paths[lib]);\n",
       "        s.onerror = () => reject(`Error loading script: ${paths[lib]}`);\n",
       "        document.getElementsByTagName(\"head\")[0].appendChild(s);\n",
       "      });\n",
       "    }\n",
       "\n",
       "    function showError(err) {\n",
       "      outputDiv.innerHTML = `<div class=\"error\" style=\"color:red;\">${err}</div>`;\n",
       "      throw err;\n",
       "    }\n",
       "\n",
       "    function displayChart(vegaEmbed) {\n",
       "      vegaEmbed(outputDiv, spec, embedOpt)\n",
       "        .catch(err => showError(`Javascript Error: ${err.message}<br>This usually means there's a typo in your chart specification. See the javascript console for the full traceback.`));\n",
       "    }\n",
       "\n",
       "    if(typeof define === \"function\" && define.amd) {\n",
       "      requirejs.config({paths});\n",
       "      require([\"vega-embed\"], displayChart, err => showError(`Error loading script: ${err.message}`));\n",
       "    } else if (typeof vegaEmbed === \"function\") {\n",
       "      displayChart(vegaEmbed);\n",
       "    } else {\n",
       "      loadScript(\"vega\")\n",
       "        .then(() => loadScript(\"vega-lite\"))\n",
       "        .then(() => loadScript(\"vega-embed\"))\n",
       "        .catch(showError)\n",
       "        .then(() => displayChart(vegaEmbed));\n",
       "    }\n",
       "  })({\"config\": {\"axisLeft\": {\"labelFontSize\": 15}, \"axisBottom\": {\"labelFontSize\": 15}}, \"data\": {\"name\": \"data-680f657974adcda384fe0549751442f0\"}, \"mark\": \"line\", \"encoding\": {\"color\": {\"type\": \"nominal\", \"field\": \"repo\"}, \"tooltip\": {\"type\": \"nominal\", \"field\": \"repo\"}, \"x\": {\"type\": \"temporal\", \"field\": \"closedAt\"}, \"y\": {\"type\": \"quantitative\", \"field\": \"count\"}}, \"width\": 600, \"$schema\": \"https://vega.github.io/schema/vega-lite/v4.8.1.json\", \"datasets\": {\"data-680f657974adcda384fe0549751442f0\": [{\"repo\": \"action-k3s-helm\", \"closedAt\": \"2021-10-10T00:00:00\", \"count\": 2}, {\"repo\": \"action-k8s-namespace-report\", \"closedAt\": \"2021-09-26T00:00:00\", \"count\": 1}, {\"repo\": \"action-major-minor-tag-calculator\", \"closedAt\": \"2021-09-26T00:00:00\", \"count\": 1}, {\"repo\": \"binder\", \"closedAt\": \"2021-10-03T00:00:00\", \"count\": 1}, {\"repo\": \"binderhub\", \"closedAt\": \"2021-08-29T00:00:00\", \"count\": 1}, {\"repo\": \"binderhub\", \"closedAt\": \"2021-09-05T00:00:00\", \"count\": 1}, {\"repo\": \"binderhub\", \"closedAt\": \"2021-09-12T00:00:00\", \"count\": 6}, {\"repo\": \"binderhub\", \"closedAt\": \"2021-09-19T00:00:00\", \"count\": 4}, {\"repo\": \"binderhub\", \"closedAt\": \"2021-09-26T00:00:00\", \"count\": 12}, {\"repo\": \"binderhub\", \"closedAt\": \"2021-10-03T00:00:00\", \"count\": 2}, {\"repo\": \"binderhub\", \"closedAt\": \"2021-10-10T00:00:00\", \"count\": 10}, {\"repo\": \"binderhub\", \"closedAt\": \"2021-10-17T00:00:00\", \"count\": 0}, {\"repo\": \"binderhub\", \"closedAt\": \"2021-10-24T00:00:00\", \"count\": 1}, {\"repo\": \"chartpress\", \"closedAt\": \"2021-09-05T00:00:00\", \"count\": 1}, {\"repo\": \"configurable-http-proxy\", \"closedAt\": \"2021-09-19T00:00:00\", \"count\": 1}, {\"repo\": \"docker-image-cleaner\", \"closedAt\": \"2021-09-26T00:00:00\", \"count\": 1}, {\"repo\": \"docker-image-cleaner\", \"closedAt\": \"2021-10-03T00:00:00\", \"count\": 0}, {\"repo\": \"docker-image-cleaner\", \"closedAt\": \"2021-10-10T00:00:00\", \"count\": 1}, {\"repo\": \"docker-stacks\", \"closedAt\": \"2021-08-29T00:00:00\", \"count\": 1}, {\"repo\": \"docker-stacks\", \"closedAt\": \"2021-09-05T00:00:00\", \"count\": 4}, {\"repo\": \"docker-stacks\", \"closedAt\": \"2021-09-12T00:00:00\", \"count\": 1}, {\"repo\": \"jupyterhub\", \"closedAt\": \"2021-08-29T00:00:00\", \"count\": 3}, {\"repo\": \"jupyterhub\", \"closedAt\": \"2021-09-05T00:00:00\", \"count\": 0}, {\"repo\": \"jupyterhub\", \"closedAt\": \"2021-09-12T00:00:00\", \"count\": 1}, {\"repo\": \"jupyterhub\", \"closedAt\": \"2021-09-19T00:00:00\", \"count\": 1}, {\"repo\": \"jupyterhub\", \"closedAt\": \"2021-09-26T00:00:00\", \"count\": 0}, {\"repo\": \"jupyterhub\", \"closedAt\": \"2021-10-03T00:00:00\", \"count\": 3}, {\"repo\": \"jupyterhub\", \"closedAt\": \"2021-10-10T00:00:00\", \"count\": 0}, {\"repo\": \"jupyterhub\", \"closedAt\": \"2021-10-17T00:00:00\", \"count\": 2}, {\"repo\": \"jupyterhub-idle-culler\", \"closedAt\": \"2021-09-19T00:00:00\", \"count\": 2}, {\"repo\": \"jupyterhub-idle-culler\", \"closedAt\": \"2021-09-26T00:00:00\", \"count\": 0}, {\"repo\": \"jupyterhub-idle-culler\", \"closedAt\": \"2021-10-03T00:00:00\", \"count\": 0}, {\"repo\": \"jupyterhub-idle-culler\", \"closedAt\": \"2021-10-10T00:00:00\", \"count\": 0}, {\"repo\": \"jupyterhub-idle-culler\", \"closedAt\": \"2021-10-17T00:00:00\", \"count\": 3}, {\"repo\": \"kubespawner\", \"closedAt\": \"2021-10-10T00:00:00\", \"count\": 1}, {\"repo\": \"ltiauthenticator\", \"closedAt\": \"2021-08-29T00:00:00\", \"count\": 4}, {\"repo\": \"ltiauthenticator\", \"closedAt\": \"2021-09-05T00:00:00\", \"count\": 2}, {\"repo\": \"mybinder.org-deploy\", \"closedAt\": \"2021-10-17T00:00:00\", \"count\": 1}, {\"repo\": \"nbgitpuller\", \"closedAt\": \"2021-08-29T00:00:00\", \"count\": 1}, {\"repo\": \"nbgitpuller\", \"closedAt\": \"2021-09-05T00:00:00\", \"count\": 5}, {\"repo\": \"oauthenticator\", \"closedAt\": \"2021-09-19T00:00:00\", \"count\": 1}, {\"repo\": \"oauthenticator\", \"closedAt\": \"2021-09-26T00:00:00\", \"count\": 0}, {\"repo\": \"oauthenticator\", \"closedAt\": \"2021-10-03T00:00:00\", \"count\": 0}, {\"repo\": \"oauthenticator\", \"closedAt\": \"2021-10-10T00:00:00\", \"count\": 0}, {\"repo\": \"oauthenticator\", \"closedAt\": \"2021-10-17T00:00:00\", \"count\": 1}, {\"repo\": \"repo2docker\", \"closedAt\": \"2021-08-29T00:00:00\", \"count\": 2}, {\"repo\": \"team-compass\", \"closedAt\": \"2021-10-03T00:00:00\", \"count\": 1}, {\"repo\": \"the-littlest-jupyterhub\", \"closedAt\": \"2021-10-17T00:00:00\", \"count\": 1}, {\"repo\": \"the-littlest-jupyterhub\", \"closedAt\": \"2021-10-24T00:00:00\", \"count\": 2}, {\"repo\": \"zero-to-jupyterhub-k8s\", \"closedAt\": \"2021-09-26T00:00:00\", \"count\": 4}, {\"repo\": \"zero-to-jupyterhub-k8s\", \"closedAt\": \"2021-10-03T00:00:00\", \"count\": 4}, {\"repo\": \"zero-to-jupyterhub-k8s\", \"closedAt\": \"2021-10-10T00:00:00\", \"count\": 3}, {\"repo\": \"zero-to-jupyterhub-k8s\", \"closedAt\": \"2021-10-17T00:00:00\", \"count\": 10}]}}, {\"mode\": \"vega-lite\"});\n",
       "</script>"
      ],
      "text/plain": [
       "alt.Chart(...)"
      ]
     },
     "execution_count": 15,
     "metadata": {},
     "output_type": "execute_result"
    }
   ],
   "source": [
    "closed_by_time = closed_by.groupby('repo').resample('W', on='closedAt').count()['author'].reset_index()\n",
    "closed_by_time = closed_by_time.rename(columns={'author': 'count'})\n",
    "\n",
    "alt.Chart(closed_by_time, width=600).mark_line().encode(\n",
    "    x='closedAt',\n",
    "    y='count',\n",
    "    color='repo',\n",
    "    tooltip=\"repo\"\n",
    ")"
   ]
  },
  {
   "cell_type": "markdown",
   "id": "838e570a",
   "metadata": {
    "papermill": {
     "duration": 0.014478,
     "end_time": "2021-10-19T22:13:59.254241",
     "exception": false,
     "start_time": "2021-10-19T22:13:59.239763",
     "status": "completed"
    },
    "tags": []
   },
   "source": [
    "## By type over time"
   ]
  },
  {
   "cell_type": "code",
   "execution_count": 16,
   "id": "a2c08ce1",
   "metadata": {
    "execution": {
     "iopub.execute_input": "2021-10-19T22:13:59.298712Z",
     "iopub.status.busy": "2021-10-19T22:13:59.296104Z",
     "iopub.status.idle": "2021-10-19T22:13:59.308961Z",
     "shell.execute_reply": "2021-10-19T22:13:59.308092Z"
    },
    "papermill": {
     "duration": 0.039353,
     "end_time": "2021-10-19T22:13:59.309113",
     "exception": false,
     "start_time": "2021-10-19T22:13:59.269760",
     "status": "completed"
    },
    "tags": [
     "remove_cell"
    ]
   },
   "outputs": [],
   "source": [
    "prs_time = prs[['author', 'createdAt']].resample('W', on='createdAt').count()['author'].reset_index()\n",
    "prs_time = prs_time.rename(columns={'author': 'prs'})\n",
    "comments_time = comments[['author', 'createdAt']].resample('W', on='createdAt').count()['author'].reset_index()\n",
    "comments_time = comments_time.rename(columns={'author': 'comments'})\n",
    "\n",
    "total_time = pd.merge(prs_time, comments_time, on='createdAt', how='outer')\n",
    "total_time = total_time.melt(id_vars='createdAt', var_name=\"kind\", value_name=\"count\")\n"
   ]
  },
  {
   "cell_type": "code",
   "execution_count": 17,
   "id": "efe6ec2d",
   "metadata": {
    "execution": {
     "iopub.execute_input": "2021-10-19T22:13:59.364424Z",
     "iopub.status.busy": "2021-10-19T22:13:59.363912Z",
     "iopub.status.idle": "2021-10-19T22:13:59.366005Z",
     "shell.execute_reply": "2021-10-19T22:13:59.366417Z"
    },
    "papermill": {
     "duration": 0.040964,
     "end_time": "2021-10-19T22:13:59.366571",
     "exception": false,
     "start_time": "2021-10-19T22:13:59.325607",
     "status": "completed"
    },
    "tags": [
     "hide_input"
    ]
   },
   "outputs": [
    {
     "data": {
      "text/html": [
       "\n",
       "<div id=\"altair-viz-982956a231da456c92ee1b1eae66b27a\"></div>\n",
       "<script type=\"text/javascript\">\n",
       "  (function(spec, embedOpt){\n",
       "    let outputDiv = document.currentScript.previousElementSibling;\n",
       "    if (outputDiv.id !== \"altair-viz-982956a231da456c92ee1b1eae66b27a\") {\n",
       "      outputDiv = document.getElementById(\"altair-viz-982956a231da456c92ee1b1eae66b27a\");\n",
       "    }\n",
       "    const paths = {\n",
       "      \"vega\": \"https://cdn.jsdelivr.net/npm//vega@5?noext\",\n",
       "      \"vega-lib\": \"https://cdn.jsdelivr.net/npm//vega-lib?noext\",\n",
       "      \"vega-lite\": \"https://cdn.jsdelivr.net/npm//vega-lite@4.8.1?noext\",\n",
       "      \"vega-embed\": \"https://cdn.jsdelivr.net/npm//vega-embed@6?noext\",\n",
       "    };\n",
       "\n",
       "    function loadScript(lib) {\n",
       "      return new Promise(function(resolve, reject) {\n",
       "        var s = document.createElement('script');\n",
       "        s.src = paths[lib];\n",
       "        s.async = true;\n",
       "        s.onload = () => resolve(paths[lib]);\n",
       "        s.onerror = () => reject(`Error loading script: ${paths[lib]}`);\n",
       "        document.getElementsByTagName(\"head\")[0].appendChild(s);\n",
       "      });\n",
       "    }\n",
       "\n",
       "    function showError(err) {\n",
       "      outputDiv.innerHTML = `<div class=\"error\" style=\"color:red;\">${err}</div>`;\n",
       "      throw err;\n",
       "    }\n",
       "\n",
       "    function displayChart(vegaEmbed) {\n",
       "      vegaEmbed(outputDiv, spec, embedOpt)\n",
       "        .catch(err => showError(`Javascript Error: ${err.message}<br>This usually means there's a typo in your chart specification. See the javascript console for the full traceback.`));\n",
       "    }\n",
       "\n",
       "    if(typeof define === \"function\" && define.amd) {\n",
       "      requirejs.config({paths});\n",
       "      require([\"vega-embed\"], displayChart, err => showError(`Error loading script: ${err.message}`));\n",
       "    } else if (typeof vegaEmbed === \"function\") {\n",
       "      displayChart(vegaEmbed);\n",
       "    } else {\n",
       "      loadScript(\"vega\")\n",
       "        .then(() => loadScript(\"vega-lite\"))\n",
       "        .then(() => loadScript(\"vega-embed\"))\n",
       "        .catch(showError)\n",
       "        .then(() => displayChart(vegaEmbed));\n",
       "    }\n",
       "  })({\"config\": {\"axisLeft\": {\"labelFontSize\": 15}, \"axisBottom\": {\"labelFontSize\": 15}}, \"data\": {\"name\": \"data-63cd91bcf2f0671a3e21083aadc12cf5\"}, \"mark\": \"line\", \"encoding\": {\"color\": {\"type\": \"nominal\", \"field\": \"kind\"}, \"x\": {\"type\": \"temporal\", \"field\": \"createdAt\"}, \"y\": {\"type\": \"quantitative\", \"field\": \"count\"}}, \"width\": 600, \"$schema\": \"https://vega.github.io/schema/vega-lite/v4.8.1.json\", \"datasets\": {\"data-63cd91bcf2f0671a3e21083aadc12cf5\": [{\"createdAt\": \"2021-04-25T00:00:00\", \"kind\": \"prs\", \"count\": 1.0}, {\"createdAt\": \"2021-05-02T00:00:00\", \"kind\": \"prs\", \"count\": 0.0}, {\"createdAt\": \"2021-05-09T00:00:00\", \"kind\": \"prs\", \"count\": 0.0}, {\"createdAt\": \"2021-05-16T00:00:00\", \"kind\": \"prs\", \"count\": 0.0}, {\"createdAt\": \"2021-05-23T00:00:00\", \"kind\": \"prs\", \"count\": 0.0}, {\"createdAt\": \"2021-05-30T00:00:00\", \"kind\": \"prs\", \"count\": 0.0}, {\"createdAt\": \"2021-06-06T00:00:00\", \"kind\": \"prs\", \"count\": 0.0}, {\"createdAt\": \"2021-06-13T00:00:00\", \"kind\": \"prs\", \"count\": 0.0}, {\"createdAt\": \"2021-06-20T00:00:00\", \"kind\": \"prs\", \"count\": 0.0}, {\"createdAt\": \"2021-06-27T00:00:00\", \"kind\": \"prs\", \"count\": 0.0}, {\"createdAt\": \"2021-07-04T00:00:00\", \"kind\": \"prs\", \"count\": 0.0}, {\"createdAt\": \"2021-07-11T00:00:00\", \"kind\": \"prs\", \"count\": 0.0}, {\"createdAt\": \"2021-07-18T00:00:00\", \"kind\": \"prs\", \"count\": 0.0}, {\"createdAt\": \"2021-07-25T00:00:00\", \"kind\": \"prs\", \"count\": 0.0}, {\"createdAt\": \"2021-08-01T00:00:00\", \"kind\": \"prs\", \"count\": 0.0}, {\"createdAt\": \"2021-08-08T00:00:00\", \"kind\": \"prs\", \"count\": 0.0}, {\"createdAt\": \"2021-08-15T00:00:00\", \"kind\": \"prs\", \"count\": 2.0}, {\"createdAt\": \"2021-08-22T00:00:00\", \"kind\": \"prs\", \"count\": 2.0}, {\"createdAt\": \"2021-08-29T00:00:00\", \"kind\": \"prs\", \"count\": 10.0}, {\"createdAt\": \"2021-09-05T00:00:00\", \"kind\": \"prs\", \"count\": 10.0}, {\"createdAt\": \"2021-09-12T00:00:00\", \"kind\": \"prs\", \"count\": 0.0}, {\"createdAt\": \"2021-09-19T00:00:00\", \"kind\": \"prs\", \"count\": 2.0}, {\"createdAt\": \"2021-09-26T00:00:00\", \"kind\": \"prs\", \"count\": 24.0}, {\"createdAt\": \"2021-10-03T00:00:00\", \"kind\": \"prs\", \"count\": 6.0}, {\"createdAt\": \"2021-10-10T00:00:00\", \"kind\": \"prs\", \"count\": 19.0}, {\"createdAt\": \"2021-10-17T00:00:00\", \"kind\": \"prs\", \"count\": 15.0}, {\"createdAt\": \"2021-10-24T00:00:00\", \"kind\": \"prs\", \"count\": 3.0}, {\"createdAt\": \"2021-04-25T00:00:00\", \"kind\": \"comments\", \"count\": null}, {\"createdAt\": \"2021-05-02T00:00:00\", \"kind\": \"comments\", \"count\": null}, {\"createdAt\": \"2021-05-09T00:00:00\", \"kind\": \"comments\", \"count\": null}, {\"createdAt\": \"2021-05-16T00:00:00\", \"kind\": \"comments\", \"count\": null}, {\"createdAt\": \"2021-05-23T00:00:00\", \"kind\": \"comments\", \"count\": null}, {\"createdAt\": \"2021-05-30T00:00:00\", \"kind\": \"comments\", \"count\": null}, {\"createdAt\": \"2021-06-06T00:00:00\", \"kind\": \"comments\", \"count\": null}, {\"createdAt\": \"2021-06-13T00:00:00\", \"kind\": \"comments\", \"count\": null}, {\"createdAt\": \"2021-06-20T00:00:00\", \"kind\": \"comments\", \"count\": null}, {\"createdAt\": \"2021-06-27T00:00:00\", \"kind\": \"comments\", \"count\": null}, {\"createdAt\": \"2021-07-04T00:00:00\", \"kind\": \"comments\", \"count\": null}, {\"createdAt\": \"2021-07-11T00:00:00\", \"kind\": \"comments\", \"count\": null}, {\"createdAt\": \"2021-07-18T00:00:00\", \"kind\": \"comments\", \"count\": null}, {\"createdAt\": \"2021-07-25T00:00:00\", \"kind\": \"comments\", \"count\": null}, {\"createdAt\": \"2021-08-01T00:00:00\", \"kind\": \"comments\", \"count\": null}, {\"createdAt\": \"2021-08-08T00:00:00\", \"kind\": \"comments\", \"count\": null}, {\"createdAt\": \"2021-08-15T00:00:00\", \"kind\": \"comments\", \"count\": 1.0}, {\"createdAt\": \"2021-08-22T00:00:00\", \"kind\": \"comments\", \"count\": 5.0}, {\"createdAt\": \"2021-08-29T00:00:00\", \"kind\": \"comments\", \"count\": 23.0}, {\"createdAt\": \"2021-09-05T00:00:00\", \"kind\": \"comments\", \"count\": 42.0}, {\"createdAt\": \"2021-09-12T00:00:00\", \"kind\": \"comments\", \"count\": 6.0}, {\"createdAt\": \"2021-09-19T00:00:00\", \"kind\": \"comments\", \"count\": 22.0}, {\"createdAt\": \"2021-09-26T00:00:00\", \"kind\": \"comments\", \"count\": 55.0}, {\"createdAt\": \"2021-10-03T00:00:00\", \"kind\": \"comments\", \"count\": 26.0}, {\"createdAt\": \"2021-10-10T00:00:00\", \"kind\": \"comments\", \"count\": 40.0}, {\"createdAt\": \"2021-10-17T00:00:00\", \"kind\": \"comments\", \"count\": 34.0}, {\"createdAt\": \"2021-10-24T00:00:00\", \"kind\": \"comments\", \"count\": 13.0}]}}, {\"mode\": \"vega-lite\"});\n",
       "</script>"
      ],
      "text/plain": [
       "alt.Chart(...)"
      ]
     },
     "execution_count": 17,
     "metadata": {},
     "output_type": "execute_result"
    }
   ],
   "source": [
    "alt.Chart(total_time, width=600).mark_line().encode(\n",
    "    x='createdAt',\n",
    "    y='count',\n",
    "    color='kind'\n",
    ")"
   ]
  }
 ],
 "metadata": {
  "kernelspec": {
   "display_name": "Python 3 (ipykernel)",
   "language": "python",
   "name": "python3"
  },
  "language_info": {
   "codemirror_mode": {
    "name": "ipython",
    "version": 3
   },
   "file_extension": ".py",
   "mimetype": "text/x-python",
   "name": "python",
   "nbconvert_exporter": "python",
   "pygments_lexer": "ipython3",
   "version": "3.7.12"
  },
  "papermill": {
   "default_parameters": {},
   "duration": 3.498607,
   "end_time": "2021-10-19T22:13:59.693408",
   "environment_variables": {},
   "exception": null,
   "input_path": "./templates/person_report.ipynb",
   "output_path": "generated/people/consideRatio.ipynb",
   "parameters": {
    "n_days": 90,
    "person": "consideRatio"
   },
   "start_time": "2021-10-19T22:13:56.194801",
   "version": "2.3.3"
  },
  "widgets": {
   "application/vnd.jupyter.widget-state+json": {
    "state": {},
    "version_major": 2,
    "version_minor": 0
   }
  }
 },
 "nbformat": 4,
 "nbformat_minor": 5
}