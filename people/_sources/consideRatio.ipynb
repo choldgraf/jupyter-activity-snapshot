{
 "cells": [
  {
   "cell_type": "markdown",
   "metadata": {
    "papermill": {
     "duration": 0.018422,
     "end_time": "2020-10-01T01:30:40.545881",
     "exception": false,
     "start_time": "2020-10-01T01:30:40.527459",
     "status": "completed"
    },
    "tags": []
   },
   "source": [
    "# Report for consideRatio"
   ]
  },
  {
   "cell_type": "code",
   "execution_count": 1,
   "metadata": {
    "execution": {
     "iopub.execute_input": "2020-10-01T01:30:40.582548Z",
     "iopub.status.busy": "2020-10-01T01:30:40.581878Z",
     "iopub.status.idle": "2020-10-01T01:30:41.528393Z",
     "shell.execute_reply": "2020-10-01T01:30:41.527342Z"
    },
    "papermill": {
     "duration": 0.966701,
     "end_time": "2020-10-01T01:30:41.528766",
     "exception": false,
     "start_time": "2020-10-01T01:30:40.562065",
     "status": "completed"
    },
    "tags": [
     "remove_cell"
    ]
   },
   "outputs": [],
   "source": [
    "import seaborn as sns\n",
    "import pandas as pd\n",
    "import numpy as np\n",
    "import altair as alt\n",
    "from markdown import markdown\n",
    "from IPython.display import Markdown\n",
    "from ipywidgets.widgets import HTML, Tab\n",
    "from ipywidgets import widgets\n",
    "from datetime import timedelta\n",
    "from matplotlib import pyplot as plt\n",
    "import os.path as op\n",
    "\n",
    "from mycode import alt_theme\n",
    "from warnings import simplefilter\n",
    "simplefilter('ignore')"
   ]
  },
  {
   "cell_type": "code",
   "execution_count": 2,
   "metadata": {
    "execution": {
     "iopub.execute_input": "2020-10-01T01:30:41.561581Z",
     "iopub.status.busy": "2020-10-01T01:30:41.560961Z",
     "iopub.status.idle": "2020-10-01T01:30:41.563168Z",
     "shell.execute_reply": "2020-10-01T01:30:41.562685Z"
    },
    "papermill": {
     "duration": 0.019572,
     "end_time": "2020-10-01T01:30:41.563328",
     "exception": false,
     "start_time": "2020-10-01T01:30:41.543756",
     "status": "completed"
    },
    "tags": [
     "remove_cell"
    ]
   },
   "outputs": [],
   "source": [
    "def author_url(author):\n",
    "    return f\"https://github.com/{author}\""
   ]
  },
  {
   "cell_type": "code",
   "execution_count": 3,
   "metadata": {
    "execution": {
     "iopub.execute_input": "2020-10-01T01:30:41.594921Z",
     "iopub.status.busy": "2020-10-01T01:30:41.594322Z",
     "iopub.status.idle": "2020-10-01T01:30:41.596107Z",
     "shell.execute_reply": "2020-10-01T01:30:41.596576Z"
    },
    "papermill": {
     "duration": 0.020146,
     "end_time": "2020-10-01T01:30:41.596755",
     "exception": false,
     "start_time": "2020-10-01T01:30:41.576609",
     "status": "completed"
    },
    "tags": [
     "parameters",
     "hide_input"
    ]
   },
   "outputs": [],
   "source": [
    "# Parameters\n",
    "fmt_date = \"{:%Y-%m-%d}\"\n",
    "\n",
    "n_days = 30 * 2\n",
    "start_date = fmt_date.format(pd.datetime.today() - timedelta(days=n_days))\n",
    "end_date = fmt_date.format(pd.datetime.today())\n",
    "\n",
    "renderer = \"html\"\n",
    "person = \"jasongrout\""
   ]
  },
  {
   "cell_type": "code",
   "execution_count": 4,
   "metadata": {
    "execution": {
     "iopub.execute_input": "2020-10-01T01:30:41.626244Z",
     "iopub.status.busy": "2020-10-01T01:30:41.625569Z",
     "iopub.status.idle": "2020-10-01T01:30:41.628555Z",
     "shell.execute_reply": "2020-10-01T01:30:41.628061Z"
    },
    "papermill": {
     "duration": 0.01959,
     "end_time": "2020-10-01T01:30:41.628710",
     "exception": false,
     "start_time": "2020-10-01T01:30:41.609120",
     "status": "completed"
    },
    "tags": [
     "injected-parameters",
     "remove-cell"
    ]
   },
   "outputs": [],
   "source": [
    "# Parameters\n",
    "person = \"consideRatio\"\n",
    "n_days = 60\n"
   ]
  },
  {
   "cell_type": "code",
   "execution_count": 5,
   "metadata": {
    "execution": {
     "iopub.execute_input": "2020-10-01T01:30:41.662322Z",
     "iopub.status.busy": "2020-10-01T01:30:41.661737Z",
     "iopub.status.idle": "2020-10-01T01:30:41.665098Z",
     "shell.execute_reply": "2020-10-01T01:30:41.665537Z"
    },
    "papermill": {
     "duration": 0.024431,
     "end_time": "2020-10-01T01:30:41.665712",
     "exception": false,
     "start_time": "2020-10-01T01:30:41.641281",
     "status": "completed"
    },
    "tags": [
     "remove_cell"
    ]
   },
   "outputs": [
    {
     "data": {
      "text/plain": [
       "ThemeRegistry.enable('my_theme')"
      ]
     },
     "execution_count": 5,
     "metadata": {},
     "output_type": "execute_result"
    }
   ],
   "source": [
    "alt.renderers.enable(renderer);\n",
    "alt.themes.register('my_theme', alt_theme)\n",
    "alt.themes.enable(\"my_theme\")"
   ]
  },
  {
   "cell_type": "markdown",
   "metadata": {
    "papermill": {
     "duration": 0.013063,
     "end_time": "2020-10-01T01:30:41.693069",
     "exception": false,
     "start_time": "2020-10-01T01:30:41.680006",
     "status": "completed"
    },
    "tags": []
   },
   "source": [
    "## Load data"
   ]
  },
  {
   "cell_type": "code",
   "execution_count": 6,
   "metadata": {
    "execution": {
     "iopub.execute_input": "2020-10-01T01:30:41.724717Z",
     "iopub.status.busy": "2020-10-01T01:30:41.724133Z",
     "iopub.status.idle": "2020-10-01T01:30:41.928984Z",
     "shell.execute_reply": "2020-10-01T01:30:41.928411Z"
    },
    "papermill": {
     "duration": 0.223103,
     "end_time": "2020-10-01T01:30:41.929153",
     "exception": false,
     "start_time": "2020-10-01T01:30:41.706050",
     "status": "completed"
    },
    "tags": [
     "remove_cell"
    ]
   },
   "outputs": [],
   "source": [
    "from pathlib import Path\n",
    "path_data = Path(\"./\")\n",
    "comments = pd.read_csv(path_data.joinpath('comments.csv'), index_col=0)\n",
    "issues = pd.read_csv(path_data.joinpath('issues.csv'), index_col=0)\n",
    "prs = pd.read_csv(path_data.joinpath('prs.csv'), index_col=0)\n",
    "\n",
    "comments = comments.query('author == @person').drop_duplicates()\n",
    "issues = issues.query('author == @person').drop_duplicates()\n",
    "closed_by = prs.query('mergedBy == @person')\n",
    "prs = prs.query('author == @person').drop_duplicates()"
   ]
  },
  {
   "cell_type": "code",
   "execution_count": 7,
   "metadata": {
    "execution": {
     "iopub.execute_input": "2020-10-01T01:30:41.961384Z",
     "iopub.status.busy": "2020-10-01T01:30:41.960813Z",
     "iopub.status.idle": "2020-10-01T01:30:42.013889Z",
     "shell.execute_reply": "2020-10-01T01:30:42.013005Z"
    },
    "papermill": {
     "duration": 0.070197,
     "end_time": "2020-10-01T01:30:42.014174",
     "exception": false,
     "start_time": "2020-10-01T01:30:41.943977",
     "status": "completed"
    },
    "tags": [
     "remove_cell"
    ]
   },
   "outputs": [],
   "source": [
    "# Time columns\n",
    "# Also drop dates outside of our range\n",
    "time_columns = ['updatedAt', 'createdAt', 'closedAt']\n",
    "for col in time_columns:\n",
    "    for item in [comments, issues, prs, closed_by]:\n",
    "        if col not in item.columns:\n",
    "            continue\n",
    "        dt = pd.to_datetime(item[col]).dt.tz_localize(None)\n",
    "        item[col] = dt\n",
    "        item.query(\"updatedAt < @end_date and updatedAt > @start_date\", inplace=True)"
   ]
  },
  {
   "cell_type": "markdown",
   "metadata": {
    "papermill": {
     "duration": 0.013025,
     "end_time": "2020-10-01T01:30:42.042137",
     "exception": false,
     "start_time": "2020-10-01T01:30:42.029112",
     "status": "completed"
    },
    "tags": []
   },
   "source": [
    "# Repository summaries"
   ]
  },
  {
   "cell_type": "code",
   "execution_count": 8,
   "metadata": {
    "execution": {
     "iopub.execute_input": "2020-10-01T01:30:42.091833Z",
     "iopub.status.busy": "2020-10-01T01:30:42.091200Z",
     "iopub.status.idle": "2020-10-01T01:30:42.099028Z",
     "shell.execute_reply": "2020-10-01T01:30:42.098540Z"
    },
    "papermill": {
     "duration": 0.042495,
     "end_time": "2020-10-01T01:30:42.099194",
     "exception": false,
     "start_time": "2020-10-01T01:30:42.056699",
     "status": "completed"
    },
    "tags": [
     "remove_cell"
    ]
   },
   "outputs": [],
   "source": [
    "summaries = []\n",
    "for idata, name in [(issues, 'issues'), (prs, 'prs'), (comments, 'comments')]:\n",
    "    idata = idata.groupby([\"repo\", \"org\"]).agg({'id': \"count\"}).reset_index().rename(columns={'id': 'count'})\n",
    "    idata[\"kind\"] = name\n",
    "    summaries.append(idata)\n",
    "summaries = pd.concat(summaries)"
   ]
  },
  {
   "cell_type": "code",
   "execution_count": 9,
   "metadata": {
    "execution": {
     "iopub.execute_input": "2020-10-01T01:30:42.139912Z",
     "iopub.status.busy": "2020-10-01T01:30:42.138652Z",
     "iopub.status.idle": "2020-10-01T01:30:42.140597Z",
     "shell.execute_reply": "2020-10-01T01:30:42.141063Z"
    },
    "papermill": {
     "duration": 0.028638,
     "end_time": "2020-10-01T01:30:42.141246",
     "exception": false,
     "start_time": "2020-10-01T01:30:42.112608",
     "status": "completed"
    },
    "tags": [
     "remove_cell"
    ]
   },
   "outputs": [],
   "source": [
    "repo_summaries = summaries.groupby([\"repo\", \"kind\"]).agg({\"count\": \"sum\"}).reset_index()\n",
    "org_summaries = summaries.groupby([\"org\", \"kind\"]).agg({\"count\": \"sum\"}).reset_index()"
   ]
  },
  {
   "cell_type": "code",
   "execution_count": 10,
   "metadata": {
    "execution": {
     "iopub.execute_input": "2020-10-01T01:30:42.175414Z",
     "iopub.status.busy": "2020-10-01T01:30:42.174820Z",
     "iopub.status.idle": "2020-10-01T01:30:42.176978Z",
     "shell.execute_reply": "2020-10-01T01:30:42.177424Z"
    },
    "papermill": {
     "duration": 0.023096,
     "end_time": "2020-10-01T01:30:42.177614",
     "exception": false,
     "start_time": "2020-10-01T01:30:42.154518",
     "status": "completed"
    },
    "tags": [
     "remove_cell"
    ]
   },
   "outputs": [],
   "source": [
    "repo_summaries['logcount'] = np.log(repo_summaries[\"count\"])"
   ]
  },
  {
   "cell_type": "code",
   "execution_count": 11,
   "metadata": {
    "execution": {
     "iopub.execute_input": "2020-10-01T01:30:42.211109Z",
     "iopub.status.busy": "2020-10-01T01:30:42.210511Z",
     "iopub.status.idle": "2020-10-01T01:30:42.262553Z",
     "shell.execute_reply": "2020-10-01T01:30:42.263033Z"
    },
    "papermill": {
     "duration": 0.070421,
     "end_time": "2020-10-01T01:30:42.263227",
     "exception": false,
     "start_time": "2020-10-01T01:30:42.192806",
     "status": "completed"
    },
    "tags": [
     "hide_input"
    ]
   },
   "outputs": [
    {
     "data": {
      "text/html": [
       "\n",
       "<div id=\"altair-viz-d8cb570050fa4225ad80d284792446a4\"></div>\n",
       "<script type=\"text/javascript\">\n",
       "  (function(spec, embedOpt){\n",
       "    let outputDiv = document.currentScript.previousElementSibling;\n",
       "    if (outputDiv.id !== \"altair-viz-d8cb570050fa4225ad80d284792446a4\") {\n",
       "      outputDiv = document.getElementById(\"altair-viz-d8cb570050fa4225ad80d284792446a4\");\n",
       "    }\n",
       "    const paths = {\n",
       "      \"vega\": \"https://cdn.jsdelivr.net/npm//vega@5?noext\",\n",
       "      \"vega-lib\": \"https://cdn.jsdelivr.net/npm//vega-lib?noext\",\n",
       "      \"vega-lite\": \"https://cdn.jsdelivr.net/npm//vega-lite@4.8.1?noext\",\n",
       "      \"vega-embed\": \"https://cdn.jsdelivr.net/npm//vega-embed@6?noext\",\n",
       "    };\n",
       "\n",
       "    function loadScript(lib) {\n",
       "      return new Promise(function(resolve, reject) {\n",
       "        var s = document.createElement('script');\n",
       "        s.src = paths[lib];\n",
       "        s.async = true;\n",
       "        s.onload = () => resolve(paths[lib]);\n",
       "        s.onerror = () => reject(`Error loading script: ${paths[lib]}`);\n",
       "        document.getElementsByTagName(\"head\")[0].appendChild(s);\n",
       "      });\n",
       "    }\n",
       "\n",
       "    function showError(err) {\n",
       "      outputDiv.innerHTML = `<div class=\"error\" style=\"color:red;\">${err}</div>`;\n",
       "      throw err;\n",
       "    }\n",
       "\n",
       "    function displayChart(vegaEmbed) {\n",
       "      vegaEmbed(outputDiv, spec, embedOpt)\n",
       "        .catch(err => showError(`Javascript Error: ${err.message}<br>This usually means there's a typo in your chart specification. See the javascript console for the full traceback.`));\n",
       "    }\n",
       "\n",
       "    if(typeof define === \"function\" && define.amd) {\n",
       "      requirejs.config({paths});\n",
       "      require([\"vega-embed\"], displayChart, err => showError(`Error loading script: ${err.message}`));\n",
       "    } else if (typeof vegaEmbed === \"function\") {\n",
       "      displayChart(vegaEmbed);\n",
       "    } else {\n",
       "      loadScript(\"vega\")\n",
       "        .then(() => loadScript(\"vega-lite\"))\n",
       "        .then(() => loadScript(\"vega-embed\"))\n",
       "        .catch(showError)\n",
       "        .then(() => displayChart(vegaEmbed));\n",
       "    }\n",
       "  })({\"config\": {\"axisLeft\": {\"labelFontSize\": 15}, \"axisBottom\": {\"labelFontSize\": 15}}, \"hconcat\": [{\"mark\": \"bar\", \"encoding\": {\"color\": {\"type\": \"nominal\", \"field\": \"kind\"}, \"tooltip\": {\"type\": \"nominal\", \"field\": \"kind\"}, \"x\": {\"type\": \"nominal\", \"field\": \"repo\"}, \"y\": {\"type\": \"quantitative\", \"field\": \"count\"}}, \"title\": \"Activity per repository\", \"width\": 600}, {\"mark\": \"bar\", \"encoding\": {\"color\": {\"type\": \"nominal\", \"field\": \"kind\"}, \"tooltip\": {\"type\": \"nominal\", \"field\": \"kind\"}, \"x\": {\"type\": \"nominal\", \"field\": \"repo\"}, \"y\": {\"type\": \"quantitative\", \"field\": \"logcount\"}}, \"title\": \"Log activity per repository\", \"width\": 600}], \"data\": {\"name\": \"data-06643ab47a4f3edda1c1c570e2dc668b\"}, \"$schema\": \"https://vega.github.io/schema/vega-lite/v4.8.1.json\", \"datasets\": {\"data-06643ab47a4f3edda1c1c570e2dc668b\": [{\"repo\": \"binderhub\", \"kind\": \"comments\", \"count\": 5, \"logcount\": 1.6094379124341003}, {\"repo\": \"binderhub\", \"kind\": \"prs\", \"count\": 1, \"logcount\": 0.0}, {\"repo\": \"configurable-http-proxy\", \"kind\": \"comments\", \"count\": 3, \"logcount\": 1.0986122886681098}, {\"repo\": \"configurable-http-proxy\", \"kind\": \"prs\", \"count\": 2, \"logcount\": 0.6931471805599453}, {\"repo\": \"jupyter-book\", \"kind\": \"comments\", \"count\": 2, \"logcount\": 0.6931471805599453}, {\"repo\": \"jupyter-book\", \"kind\": \"issues\", \"count\": 1, \"logcount\": 0.0}, {\"repo\": \"jupyter-book\", \"kind\": \"prs\", \"count\": 2, \"logcount\": 0.6931471805599453}, {\"repo\": \"jupyterhub\", \"kind\": \"comments\", \"count\": 11, \"logcount\": 2.3978952727983707}, {\"repo\": \"jupyterhub\", \"kind\": \"issues\", \"count\": 1, \"logcount\": 0.0}, {\"repo\": \"jupyterhub\", \"kind\": \"prs\", \"count\": 1, \"logcount\": 0.0}, {\"repo\": \"kubespawner\", \"kind\": \"comments\", \"count\": 11, \"logcount\": 2.3978952727983707}, {\"repo\": \"kubespawner\", \"kind\": \"issues\", \"count\": 1, \"logcount\": 0.0}, {\"repo\": \"kubespawner\", \"kind\": \"prs\", \"count\": 2, \"logcount\": 0.6931471805599453}, {\"repo\": \"mybinder.org-deploy\", \"kind\": \"comments\", \"count\": 9, \"logcount\": 2.1972245773362196}, {\"repo\": \"nbgitpuller\", \"kind\": \"prs\", \"count\": 2, \"logcount\": 0.6931471805599453}, {\"repo\": \"oauthenticator\", \"kind\": \"comments\", \"count\": 1, \"logcount\": 0.0}, {\"repo\": \"repo2docker\", \"kind\": \"comments\", \"count\": 2, \"logcount\": 0.6931471805599453}, {\"repo\": \"repo2docker\", \"kind\": \"prs\", \"count\": 1, \"logcount\": 0.0}, {\"repo\": \"repo2docker-action\", \"kind\": \"comments\", \"count\": 1, \"logcount\": 0.0}, {\"repo\": \"sphinx-book-theme\", \"kind\": \"comments\", \"count\": 2, \"logcount\": 0.6931471805599453}, {\"repo\": \"sphinx-book-theme\", \"kind\": \"issues\", \"count\": 1, \"logcount\": 0.0}, {\"repo\": \"team-compass\", \"kind\": \"comments\", \"count\": 5, \"logcount\": 1.6094379124341003}, {\"repo\": \"team-compass\", \"kind\": \"issues\", \"count\": 3, \"logcount\": 1.0986122886681098}, {\"repo\": \"the-littlest-jupyterhub\", \"kind\": \"comments\", \"count\": 1, \"logcount\": 0.0}, {\"repo\": \"zero-to-jupyterhub-k8s\", \"kind\": \"comments\", \"count\": 75, \"logcount\": 4.31748811353631}, {\"repo\": \"zero-to-jupyterhub-k8s\", \"kind\": \"issues\", \"count\": 9, \"logcount\": 2.1972245773362196}, {\"repo\": \"zero-to-jupyterhub-k8s\", \"kind\": \"prs\", \"count\": 13, \"logcount\": 2.5649493574615367}]}}, {\"mode\": \"vega-lite\"});\n",
       "</script>"
      ],
      "text/plain": [
       "alt.HConcatChart(...)"
      ]
     },
     "execution_count": 11,
     "metadata": {},
     "output_type": "execute_result"
    }
   ],
   "source": [
    "ch1 = alt.Chart(repo_summaries, width=600, title=\"Activity per repository\").mark_bar().encode(\n",
    "    x='repo',\n",
    "    y='count',\n",
    "    color='kind',\n",
    "    tooltip=\"kind\"\n",
    ")\n",
    "\n",
    "ch2 = alt.Chart(repo_summaries, width=600, title=\"Log activity per repository\").mark_bar().encode(\n",
    "    x='repo',\n",
    "    y='logcount',\n",
    "    color='kind',\n",
    "    tooltip=\"kind\"\n",
    ")\n",
    "\n",
    "ch1 | ch2"
   ]
  },
  {
   "cell_type": "code",
   "execution_count": 12,
   "metadata": {
    "execution": {
     "iopub.execute_input": "2020-10-01T01:30:42.321792Z",
     "iopub.status.busy": "2020-10-01T01:30:42.310082Z",
     "iopub.status.idle": "2020-10-01T01:30:42.324212Z",
     "shell.execute_reply": "2020-10-01T01:30:42.324687Z"
    },
    "papermill": {
     "duration": 0.047354,
     "end_time": "2020-10-01T01:30:42.324883",
     "exception": false,
     "start_time": "2020-10-01T01:30:42.277529",
     "status": "completed"
    },
    "tags": [
     "hide_input"
    ]
   },
   "outputs": [
    {
     "data": {
      "text/html": [
       "\n",
       "<div id=\"altair-viz-2c0b5c80d0c74d63a2201e5efa210f7c\"></div>\n",
       "<script type=\"text/javascript\">\n",
       "  (function(spec, embedOpt){\n",
       "    let outputDiv = document.currentScript.previousElementSibling;\n",
       "    if (outputDiv.id !== \"altair-viz-2c0b5c80d0c74d63a2201e5efa210f7c\") {\n",
       "      outputDiv = document.getElementById(\"altair-viz-2c0b5c80d0c74d63a2201e5efa210f7c\");\n",
       "    }\n",
       "    const paths = {\n",
       "      \"vega\": \"https://cdn.jsdelivr.net/npm//vega@5?noext\",\n",
       "      \"vega-lib\": \"https://cdn.jsdelivr.net/npm//vega-lib?noext\",\n",
       "      \"vega-lite\": \"https://cdn.jsdelivr.net/npm//vega-lite@4.8.1?noext\",\n",
       "      \"vega-embed\": \"https://cdn.jsdelivr.net/npm//vega-embed@6?noext\",\n",
       "    };\n",
       "\n",
       "    function loadScript(lib) {\n",
       "      return new Promise(function(resolve, reject) {\n",
       "        var s = document.createElement('script');\n",
       "        s.src = paths[lib];\n",
       "        s.async = true;\n",
       "        s.onload = () => resolve(paths[lib]);\n",
       "        s.onerror = () => reject(`Error loading script: ${paths[lib]}`);\n",
       "        document.getElementsByTagName(\"head\")[0].appendChild(s);\n",
       "      });\n",
       "    }\n",
       "\n",
       "    function showError(err) {\n",
       "      outputDiv.innerHTML = `<div class=\"error\" style=\"color:red;\">${err}</div>`;\n",
       "      throw err;\n",
       "    }\n",
       "\n",
       "    function displayChart(vegaEmbed) {\n",
       "      vegaEmbed(outputDiv, spec, embedOpt)\n",
       "        .catch(err => showError(`Javascript Error: ${err.message}<br>This usually means there's a typo in your chart specification. See the javascript console for the full traceback.`));\n",
       "    }\n",
       "\n",
       "    if(typeof define === \"function\" && define.amd) {\n",
       "      requirejs.config({paths});\n",
       "      require([\"vega-embed\"], displayChart, err => showError(`Error loading script: ${err.message}`));\n",
       "    } else if (typeof vegaEmbed === \"function\") {\n",
       "      displayChart(vegaEmbed);\n",
       "    } else {\n",
       "      loadScript(\"vega\")\n",
       "        .then(() => loadScript(\"vega-lite\"))\n",
       "        .then(() => loadScript(\"vega-embed\"))\n",
       "        .catch(showError)\n",
       "        .then(() => displayChart(vegaEmbed));\n",
       "    }\n",
       "  })({\"config\": {\"axisLeft\": {\"labelFontSize\": 15}, \"axisBottom\": {\"labelFontSize\": 15}}, \"data\": {\"name\": \"data-e985820995c3fbbd4466cf0312a64d9f\"}, \"mark\": \"bar\", \"encoding\": {\"color\": {\"type\": \"nominal\", \"field\": \"kind\"}, \"tooltip\": {\"type\": \"nominal\", \"field\": \"org\"}, \"x\": {\"type\": \"nominal\", \"field\": \"org\"}, \"y\": {\"type\": \"quantitative\", \"field\": \"count\"}}, \"width\": 600, \"$schema\": \"https://vega.github.io/schema/vega-lite/v4.8.1.json\", \"datasets\": {\"data-e985820995c3fbbd4466cf0312a64d9f\": [{\"org\": \"executablebooks\", \"kind\": \"comments\", \"count\": 4}, {\"org\": \"executablebooks\", \"kind\": \"issues\", \"count\": 2}, {\"org\": \"executablebooks\", \"kind\": \"prs\", \"count\": 2}, {\"org\": \"jupyterhub\", \"kind\": \"comments\", \"count\": 124}, {\"org\": \"jupyterhub\", \"kind\": \"issues\", \"count\": 14}, {\"org\": \"jupyterhub\", \"kind\": \"prs\", \"count\": 22}]}}, {\"mode\": \"vega-lite\"});\n",
       "</script>"
      ],
      "text/plain": [
       "alt.Chart(...)"
      ]
     },
     "execution_count": 12,
     "metadata": {},
     "output_type": "execute_result"
    }
   ],
   "source": [
    "alt.Chart(org_summaries, width=600).mark_bar().encode(\n",
    "    x='org',\n",
    "    y='count',\n",
    "    color='kind',\n",
    "    tooltip=\"org\"\n",
    ")"
   ]
  },
  {
   "cell_type": "markdown",
   "metadata": {
    "papermill": {
     "duration": 0.014819,
     "end_time": "2020-10-01T01:30:42.356214",
     "exception": false,
     "start_time": "2020-10-01T01:30:42.341395",
     "status": "completed"
    },
    "tags": []
   },
   "source": [
    "# By repository over time"
   ]
  },
  {
   "cell_type": "markdown",
   "metadata": {
    "papermill": {
     "duration": 0.014564,
     "end_time": "2020-10-01T01:30:42.385425",
     "exception": false,
     "start_time": "2020-10-01T01:30:42.370861",
     "status": "completed"
    },
    "tags": []
   },
   "source": [
    "## Comments"
   ]
  },
  {
   "cell_type": "code",
   "execution_count": 13,
   "metadata": {
    "execution": {
     "iopub.execute_input": "2020-10-01T01:30:42.421190Z",
     "iopub.status.busy": "2020-10-01T01:30:42.420552Z",
     "iopub.status.idle": "2020-10-01T01:30:42.506204Z",
     "shell.execute_reply": "2020-10-01T01:30:42.505666Z"
    },
    "papermill": {
     "duration": 0.106436,
     "end_time": "2020-10-01T01:30:42.506373",
     "exception": false,
     "start_time": "2020-10-01T01:30:42.399937",
     "status": "completed"
    },
    "tags": [
     "hide_input"
    ]
   },
   "outputs": [
    {
     "data": {
      "text/html": [
       "\n",
       "<div id=\"altair-viz-08d28296b75c42929fc65de7e70c40b1\"></div>\n",
       "<script type=\"text/javascript\">\n",
       "  (function(spec, embedOpt){\n",
       "    let outputDiv = document.currentScript.previousElementSibling;\n",
       "    if (outputDiv.id !== \"altair-viz-08d28296b75c42929fc65de7e70c40b1\") {\n",
       "      outputDiv = document.getElementById(\"altair-viz-08d28296b75c42929fc65de7e70c40b1\");\n",
       "    }\n",
       "    const paths = {\n",
       "      \"vega\": \"https://cdn.jsdelivr.net/npm//vega@5?noext\",\n",
       "      \"vega-lib\": \"https://cdn.jsdelivr.net/npm//vega-lib?noext\",\n",
       "      \"vega-lite\": \"https://cdn.jsdelivr.net/npm//vega-lite@4.8.1?noext\",\n",
       "      \"vega-embed\": \"https://cdn.jsdelivr.net/npm//vega-embed@6?noext\",\n",
       "    };\n",
       "\n",
       "    function loadScript(lib) {\n",
       "      return new Promise(function(resolve, reject) {\n",
       "        var s = document.createElement('script');\n",
       "        s.src = paths[lib];\n",
       "        s.async = true;\n",
       "        s.onload = () => resolve(paths[lib]);\n",
       "        s.onerror = () => reject(`Error loading script: ${paths[lib]}`);\n",
       "        document.getElementsByTagName(\"head\")[0].appendChild(s);\n",
       "      });\n",
       "    }\n",
       "\n",
       "    function showError(err) {\n",
       "      outputDiv.innerHTML = `<div class=\"error\" style=\"color:red;\">${err}</div>`;\n",
       "      throw err;\n",
       "    }\n",
       "\n",
       "    function displayChart(vegaEmbed) {\n",
       "      vegaEmbed(outputDiv, spec, embedOpt)\n",
       "        .catch(err => showError(`Javascript Error: ${err.message}<br>This usually means there's a typo in your chart specification. See the javascript console for the full traceback.`));\n",
       "    }\n",
       "\n",
       "    if(typeof define === \"function\" && define.amd) {\n",
       "      requirejs.config({paths});\n",
       "      require([\"vega-embed\"], displayChart, err => showError(`Error loading script: ${err.message}`));\n",
       "    } else if (typeof vegaEmbed === \"function\") {\n",
       "      displayChart(vegaEmbed);\n",
       "    } else {\n",
       "      loadScript(\"vega\")\n",
       "        .then(() => loadScript(\"vega-lite\"))\n",
       "        .then(() => loadScript(\"vega-embed\"))\n",
       "        .catch(showError)\n",
       "        .then(() => displayChart(vegaEmbed));\n",
       "    }\n",
       "  })({\"config\": {\"axisLeft\": {\"labelFontSize\": 15}, \"axisBottom\": {\"labelFontSize\": 15}}, \"layer\": [{\"data\": {\"name\": \"data-30d67f7760870f3f0d51f2aadad21b26\"}, \"mark\": \"line\", \"encoding\": {\"color\": {\"type\": \"nominal\", \"field\": \"repo\"}, \"tooltip\": {\"type\": \"nominal\", \"field\": \"repo\"}, \"x\": {\"type\": \"temporal\", \"field\": \"createdAt\"}, \"y\": {\"type\": \"quantitative\", \"field\": \"count\"}}, \"width\": 600}, {\"data\": {\"name\": \"data-e7206c2be94c4142404cb12ef075d71d\"}, \"mark\": {\"type\": \"line\", \"color\": \"black\"}, \"encoding\": {\"x\": {\"type\": \"temporal\", \"field\": \"createdAt\"}, \"y\": {\"type\": \"quantitative\", \"field\": \"count\"}}, \"width\": 600}], \"$schema\": \"https://vega.github.io/schema/vega-lite/v4.8.1.json\", \"datasets\": {\"data-30d67f7760870f3f0d51f2aadad21b26\": [{\"repo\": \"binderhub\", \"createdAt\": \"2020-08-09T00:00:00\", \"count\": 1}, {\"repo\": \"binderhub\", \"createdAt\": \"2020-08-16T00:00:00\", \"count\": 0}, {\"repo\": \"binderhub\", \"createdAt\": \"2020-08-23T00:00:00\", \"count\": 2}, {\"repo\": \"binderhub\", \"createdAt\": \"2020-08-30T00:00:00\", \"count\": 0}, {\"repo\": \"binderhub\", \"createdAt\": \"2020-09-06T00:00:00\", \"count\": 0}, {\"repo\": \"binderhub\", \"createdAt\": \"2020-09-13T00:00:00\", \"count\": 1}, {\"repo\": \"binderhub\", \"createdAt\": \"2020-09-20T00:00:00\", \"count\": 0}, {\"repo\": \"binderhub\", \"createdAt\": \"2020-09-27T00:00:00\", \"count\": 0}, {\"repo\": \"binderhub\", \"createdAt\": \"2020-10-04T00:00:00\", \"count\": 1}, {\"repo\": \"configurable-http-proxy\", \"createdAt\": \"2020-08-30T00:00:00\", \"count\": 1}, {\"repo\": \"configurable-http-proxy\", \"createdAt\": \"2020-09-06T00:00:00\", \"count\": 0}, {\"repo\": \"configurable-http-proxy\", \"createdAt\": \"2020-09-13T00:00:00\", \"count\": 2}, {\"repo\": \"jupyter-book\", \"createdAt\": \"2020-10-04T00:00:00\", \"count\": 2}, {\"repo\": \"jupyterhub\", \"createdAt\": \"2020-08-09T00:00:00\", \"count\": 1}, {\"repo\": \"jupyterhub\", \"createdAt\": \"2020-08-16T00:00:00\", \"count\": 0}, {\"repo\": \"jupyterhub\", \"createdAt\": \"2020-08-23T00:00:00\", \"count\": 9}, {\"repo\": \"jupyterhub\", \"createdAt\": \"2020-08-30T00:00:00\", \"count\": 0}, {\"repo\": \"jupyterhub\", \"createdAt\": \"2020-09-06T00:00:00\", \"count\": 0}, {\"repo\": \"jupyterhub\", \"createdAt\": \"2020-09-13T00:00:00\", \"count\": 0}, {\"repo\": \"jupyterhub\", \"createdAt\": \"2020-09-20T00:00:00\", \"count\": 1}, {\"repo\": \"kubespawner\", \"createdAt\": \"2020-08-30T00:00:00\", \"count\": 1}, {\"repo\": \"kubespawner\", \"createdAt\": \"2020-09-06T00:00:00\", \"count\": 7}, {\"repo\": \"kubespawner\", \"createdAt\": \"2020-09-13T00:00:00\", \"count\": 3}, {\"repo\": \"mybinder.org-deploy\", \"createdAt\": \"2020-09-13T00:00:00\", \"count\": 4}, {\"repo\": \"mybinder.org-deploy\", \"createdAt\": \"2020-09-20T00:00:00\", \"count\": 4}, {\"repo\": \"mybinder.org-deploy\", \"createdAt\": \"2020-09-27T00:00:00\", \"count\": 1}, {\"repo\": \"oauthenticator\", \"createdAt\": \"2020-09-06T00:00:00\", \"count\": 1}, {\"repo\": \"repo2docker\", \"createdAt\": \"2020-09-06T00:00:00\", \"count\": 1}, {\"repo\": \"repo2docker\", \"createdAt\": \"2020-09-13T00:00:00\", \"count\": 0}, {\"repo\": \"repo2docker\", \"createdAt\": \"2020-09-20T00:00:00\", \"count\": 0}, {\"repo\": \"repo2docker\", \"createdAt\": \"2020-09-27T00:00:00\", \"count\": 1}, {\"repo\": \"repo2docker-action\", \"createdAt\": \"2020-08-02T00:00:00\", \"count\": 1}, {\"repo\": \"sphinx-book-theme\", \"createdAt\": \"2020-09-27T00:00:00\", \"count\": 2}, {\"repo\": \"team-compass\", \"createdAt\": \"2020-08-02T00:00:00\", \"count\": 1}, {\"repo\": \"team-compass\", \"createdAt\": \"2020-08-09T00:00:00\", \"count\": 0}, {\"repo\": \"team-compass\", \"createdAt\": \"2020-08-16T00:00:00\", \"count\": 0}, {\"repo\": \"team-compass\", \"createdAt\": \"2020-08-23T00:00:00\", \"count\": 2}, {\"repo\": \"team-compass\", \"createdAt\": \"2020-08-30T00:00:00\", \"count\": 0}, {\"repo\": \"team-compass\", \"createdAt\": \"2020-09-06T00:00:00\", \"count\": 1}, {\"repo\": \"team-compass\", \"createdAt\": \"2020-09-13T00:00:00\", \"count\": 0}, {\"repo\": \"team-compass\", \"createdAt\": \"2020-09-20T00:00:00\", \"count\": 0}, {\"repo\": \"team-compass\", \"createdAt\": \"2020-09-27T00:00:00\", \"count\": 1}, {\"repo\": \"the-littlest-jupyterhub\", \"createdAt\": \"2020-09-06T00:00:00\", \"count\": 1}, {\"repo\": \"zero-to-jupyterhub-k8s\", \"createdAt\": \"2020-06-21T00:00:00\", \"count\": 1}, {\"repo\": \"zero-to-jupyterhub-k8s\", \"createdAt\": \"2020-06-28T00:00:00\", \"count\": 0}, {\"repo\": \"zero-to-jupyterhub-k8s\", \"createdAt\": \"2020-07-05T00:00:00\", \"count\": 0}, {\"repo\": \"zero-to-jupyterhub-k8s\", \"createdAt\": \"2020-07-12T00:00:00\", \"count\": 0}, {\"repo\": \"zero-to-jupyterhub-k8s\", \"createdAt\": \"2020-07-19T00:00:00\", \"count\": 0}, {\"repo\": \"zero-to-jupyterhub-k8s\", \"createdAt\": \"2020-07-26T00:00:00\", \"count\": 0}, {\"repo\": \"zero-to-jupyterhub-k8s\", \"createdAt\": \"2020-08-02T00:00:00\", \"count\": 0}, {\"repo\": \"zero-to-jupyterhub-k8s\", \"createdAt\": \"2020-08-09T00:00:00\", \"count\": 0}, {\"repo\": \"zero-to-jupyterhub-k8s\", \"createdAt\": \"2020-08-16T00:00:00\", \"count\": 0}, {\"repo\": \"zero-to-jupyterhub-k8s\", \"createdAt\": \"2020-08-23T00:00:00\", \"count\": 6}, {\"repo\": \"zero-to-jupyterhub-k8s\", \"createdAt\": \"2020-08-30T00:00:00\", \"count\": 4}, {\"repo\": \"zero-to-jupyterhub-k8s\", \"createdAt\": \"2020-09-06T00:00:00\", \"count\": 22}, {\"repo\": \"zero-to-jupyterhub-k8s\", \"createdAt\": \"2020-09-13T00:00:00\", \"count\": 9}, {\"repo\": \"zero-to-jupyterhub-k8s\", \"createdAt\": \"2020-09-20T00:00:00\", \"count\": 5}, {\"repo\": \"zero-to-jupyterhub-k8s\", \"createdAt\": \"2020-09-27T00:00:00\", \"count\": 14}, {\"repo\": \"zero-to-jupyterhub-k8s\", \"createdAt\": \"2020-10-04T00:00:00\", \"count\": 14}], \"data-e7206c2be94c4142404cb12ef075d71d\": [{\"createdAt\": \"2020-06-21T00:00:00\", \"count\": 1}, {\"createdAt\": \"2020-06-28T00:00:00\", \"count\": 0}, {\"createdAt\": \"2020-07-05T00:00:00\", \"count\": 0}, {\"createdAt\": \"2020-07-12T00:00:00\", \"count\": 0}, {\"createdAt\": \"2020-07-19T00:00:00\", \"count\": 0}, {\"createdAt\": \"2020-07-26T00:00:00\", \"count\": 0}, {\"createdAt\": \"2020-08-02T00:00:00\", \"count\": 2}, {\"createdAt\": \"2020-08-09T00:00:00\", \"count\": 2}, {\"createdAt\": \"2020-08-16T00:00:00\", \"count\": 0}, {\"createdAt\": \"2020-08-23T00:00:00\", \"count\": 19}, {\"createdAt\": \"2020-08-30T00:00:00\", \"count\": 6}, {\"createdAt\": \"2020-09-06T00:00:00\", \"count\": 33}, {\"createdAt\": \"2020-09-13T00:00:00\", \"count\": 19}, {\"createdAt\": \"2020-09-20T00:00:00\", \"count\": 10}, {\"createdAt\": \"2020-09-27T00:00:00\", \"count\": 19}, {\"createdAt\": \"2020-10-04T00:00:00\", \"count\": 17}]}}, {\"mode\": \"vega-lite\"});\n",
       "</script>"
      ],
      "text/plain": [
       "alt.LayerChart(...)"
      ]
     },
     "execution_count": 13,
     "metadata": {},
     "output_type": "execute_result"
    }
   ],
   "source": [
    "comments_time = comments.groupby('repo').resample('W', on='createdAt').count()['author'].reset_index()\n",
    "comments_time = comments_time.rename(columns={'author': 'count'})\n",
    "comments_time_total = comments_time.groupby('createdAt').agg({\"count\": \"sum\"}).reset_index()\n",
    "ch1 = alt.Chart(comments_time, width=600).mark_line().encode(\n",
    "    x='createdAt',\n",
    "    y='count',\n",
    "    color='repo',\n",
    "    tooltip=\"repo\"\n",
    ")\n",
    "\n",
    "ch2 = alt.Chart(comments_time_total, width=600).mark_line(color=\"black\").encode(\n",
    "    x='createdAt',\n",
    "    y='count',\n",
    ")\n",
    "\n",
    "ch1 + ch2"
   ]
  },
  {
   "cell_type": "markdown",
   "metadata": {
    "papermill": {
     "duration": 0.015975,
     "end_time": "2020-10-01T01:30:42.539326",
     "exception": false,
     "start_time": "2020-10-01T01:30:42.523351",
     "status": "completed"
    },
    "tags": []
   },
   "source": [
    "## PRs"
   ]
  },
  {
   "cell_type": "code",
   "execution_count": 14,
   "metadata": {
    "execution": {
     "iopub.execute_input": "2020-10-01T01:30:42.595273Z",
     "iopub.status.busy": "2020-10-01T01:30:42.581352Z",
     "iopub.status.idle": "2020-10-01T01:30:42.650364Z",
     "shell.execute_reply": "2020-10-01T01:30:42.651018Z"
    },
    "papermill": {
     "duration": 0.094353,
     "end_time": "2020-10-01T01:30:42.651271",
     "exception": false,
     "start_time": "2020-10-01T01:30:42.556918",
     "status": "completed"
    },
    "tags": [
     "hide_input"
    ]
   },
   "outputs": [
    {
     "data": {
      "text/html": [
       "\n",
       "<div id=\"altair-viz-bbbe5dbd7d924e198937ac3473e72272\"></div>\n",
       "<script type=\"text/javascript\">\n",
       "  (function(spec, embedOpt){\n",
       "    let outputDiv = document.currentScript.previousElementSibling;\n",
       "    if (outputDiv.id !== \"altair-viz-bbbe5dbd7d924e198937ac3473e72272\") {\n",
       "      outputDiv = document.getElementById(\"altair-viz-bbbe5dbd7d924e198937ac3473e72272\");\n",
       "    }\n",
       "    const paths = {\n",
       "      \"vega\": \"https://cdn.jsdelivr.net/npm//vega@5?noext\",\n",
       "      \"vega-lib\": \"https://cdn.jsdelivr.net/npm//vega-lib?noext\",\n",
       "      \"vega-lite\": \"https://cdn.jsdelivr.net/npm//vega-lite@4.8.1?noext\",\n",
       "      \"vega-embed\": \"https://cdn.jsdelivr.net/npm//vega-embed@6?noext\",\n",
       "    };\n",
       "\n",
       "    function loadScript(lib) {\n",
       "      return new Promise(function(resolve, reject) {\n",
       "        var s = document.createElement('script');\n",
       "        s.src = paths[lib];\n",
       "        s.async = true;\n",
       "        s.onload = () => resolve(paths[lib]);\n",
       "        s.onerror = () => reject(`Error loading script: ${paths[lib]}`);\n",
       "        document.getElementsByTagName(\"head\")[0].appendChild(s);\n",
       "      });\n",
       "    }\n",
       "\n",
       "    function showError(err) {\n",
       "      outputDiv.innerHTML = `<div class=\"error\" style=\"color:red;\">${err}</div>`;\n",
       "      throw err;\n",
       "    }\n",
       "\n",
       "    function displayChart(vegaEmbed) {\n",
       "      vegaEmbed(outputDiv, spec, embedOpt)\n",
       "        .catch(err => showError(`Javascript Error: ${err.message}<br>This usually means there's a typo in your chart specification. See the javascript console for the full traceback.`));\n",
       "    }\n",
       "\n",
       "    if(typeof define === \"function\" && define.amd) {\n",
       "      requirejs.config({paths});\n",
       "      require([\"vega-embed\"], displayChart, err => showError(`Error loading script: ${err.message}`));\n",
       "    } else if (typeof vegaEmbed === \"function\") {\n",
       "      displayChart(vegaEmbed);\n",
       "    } else {\n",
       "      loadScript(\"vega\")\n",
       "        .then(() => loadScript(\"vega-lite\"))\n",
       "        .then(() => loadScript(\"vega-embed\"))\n",
       "        .catch(showError)\n",
       "        .then(() => displayChart(vegaEmbed));\n",
       "    }\n",
       "  })({\"config\": {\"axisLeft\": {\"labelFontSize\": 15}, \"axisBottom\": {\"labelFontSize\": 15}}, \"layer\": [{\"data\": {\"name\": \"data-f131bc0636d8acc8c0a2559427d17185\"}, \"mark\": \"line\", \"encoding\": {\"color\": {\"type\": \"nominal\", \"field\": \"repo\"}, \"tooltip\": {\"type\": \"nominal\", \"field\": \"repo\"}, \"x\": {\"type\": \"temporal\", \"field\": \"createdAt\"}, \"y\": {\"type\": \"quantitative\", \"field\": \"count\"}}, \"width\": 600}, {\"data\": {\"name\": \"data-4216045b8f68b9a95b287a6f5ad88afb\"}, \"mark\": {\"type\": \"line\", \"color\": \"black\"}, \"encoding\": {\"x\": {\"type\": \"temporal\", \"field\": \"createdAt\"}, \"y\": {\"type\": \"quantitative\", \"field\": \"count\"}}, \"width\": 600}], \"$schema\": \"https://vega.github.io/schema/vega-lite/v4.8.1.json\", \"datasets\": {\"data-f131bc0636d8acc8c0a2559427d17185\": [{\"repo\": \"binderhub\", \"createdAt\": \"2020-09-06T00:00:00\", \"count\": 1}, {\"repo\": \"configurable-http-proxy\", \"createdAt\": \"2020-05-31T00:00:00\", \"count\": 1}, {\"repo\": \"configurable-http-proxy\", \"createdAt\": \"2020-06-07T00:00:00\", \"count\": 0}, {\"repo\": \"configurable-http-proxy\", \"createdAt\": \"2020-06-14T00:00:00\", \"count\": 0}, {\"repo\": \"configurable-http-proxy\", \"createdAt\": \"2020-06-21T00:00:00\", \"count\": 0}, {\"repo\": \"configurable-http-proxy\", \"createdAt\": \"2020-06-28T00:00:00\", \"count\": 0}, {\"repo\": \"configurable-http-proxy\", \"createdAt\": \"2020-07-05T00:00:00\", \"count\": 1}, {\"repo\": \"jupyter-book\", \"createdAt\": \"2020-09-27T00:00:00\", \"count\": 1}, {\"repo\": \"jupyter-book\", \"createdAt\": \"2020-10-04T00:00:00\", \"count\": 1}, {\"repo\": \"jupyterhub\", \"createdAt\": \"2020-08-23T00:00:00\", \"count\": 1}, {\"repo\": \"kubespawner\", \"createdAt\": \"2020-09-06T00:00:00\", \"count\": 2}, {\"repo\": \"nbgitpuller\", \"createdAt\": \"2020-08-02T00:00:00\", \"count\": 2}, {\"repo\": \"repo2docker\", \"createdAt\": \"2019-06-23T00:00:00\", \"count\": 1}, {\"repo\": \"zero-to-jupyterhub-k8s\", \"createdAt\": \"2020-08-30T00:00:00\", \"count\": 2}, {\"repo\": \"zero-to-jupyterhub-k8s\", \"createdAt\": \"2020-09-06T00:00:00\", \"count\": 7}, {\"repo\": \"zero-to-jupyterhub-k8s\", \"createdAt\": \"2020-09-13T00:00:00\", \"count\": 1}, {\"repo\": \"zero-to-jupyterhub-k8s\", \"createdAt\": \"2020-09-20T00:00:00\", \"count\": 0}, {\"repo\": \"zero-to-jupyterhub-k8s\", \"createdAt\": \"2020-09-27T00:00:00\", \"count\": 3}], \"data-4216045b8f68b9a95b287a6f5ad88afb\": [{\"createdAt\": \"2019-06-23T00:00:00\", \"count\": 1}, {\"createdAt\": \"2020-05-31T00:00:00\", \"count\": 1}, {\"createdAt\": \"2020-06-07T00:00:00\", \"count\": 0}, {\"createdAt\": \"2020-06-14T00:00:00\", \"count\": 0}, {\"createdAt\": \"2020-06-21T00:00:00\", \"count\": 0}, {\"createdAt\": \"2020-06-28T00:00:00\", \"count\": 0}, {\"createdAt\": \"2020-07-05T00:00:00\", \"count\": 1}, {\"createdAt\": \"2020-08-02T00:00:00\", \"count\": 2}, {\"createdAt\": \"2020-08-23T00:00:00\", \"count\": 1}, {\"createdAt\": \"2020-08-30T00:00:00\", \"count\": 2}, {\"createdAt\": \"2020-09-06T00:00:00\", \"count\": 10}, {\"createdAt\": \"2020-09-13T00:00:00\", \"count\": 1}, {\"createdAt\": \"2020-09-20T00:00:00\", \"count\": 0}, {\"createdAt\": \"2020-09-27T00:00:00\", \"count\": 4}, {\"createdAt\": \"2020-10-04T00:00:00\", \"count\": 1}]}}, {\"mode\": \"vega-lite\"});\n",
       "</script>"
      ],
      "text/plain": [
       "alt.LayerChart(...)"
      ]
     },
     "execution_count": 14,
     "metadata": {},
     "output_type": "execute_result"
    }
   ],
   "source": [
    "prs_time = prs.groupby('repo').resample('W', on='createdAt').count()['author'].reset_index()\n",
    "prs_time = prs_time.rename(columns={'author': 'count'})\n",
    "prs_time_total = prs_time.groupby('createdAt').agg({\"count\": \"sum\"}).reset_index()\n",
    "\n",
    "ch1 = alt.Chart(prs_time, width=600).mark_line().encode(\n",
    "    x='createdAt',\n",
    "    y='count',\n",
    "    color='repo',\n",
    "    tooltip=\"repo\"\n",
    ")\n",
    "\n",
    "ch2 = alt.Chart(prs_time_total, width=600).mark_line(color=\"black\").encode(\n",
    "    x='createdAt',\n",
    "    y='count',\n",
    ")\n",
    "\n",
    "ch1 + ch2"
   ]
  },
  {
   "cell_type": "code",
   "execution_count": 15,
   "metadata": {
    "execution": {
     "iopub.execute_input": "2020-10-01T01:30:42.695852Z",
     "iopub.status.busy": "2020-10-01T01:30:42.695220Z",
     "iopub.status.idle": "2020-10-01T01:30:42.740505Z",
     "shell.execute_reply": "2020-10-01T01:30:42.740983Z"
    },
    "papermill": {
     "duration": 0.070603,
     "end_time": "2020-10-01T01:30:42.741178",
     "exception": false,
     "start_time": "2020-10-01T01:30:42.670575",
     "status": "completed"
    },
    "tags": [
     "hide_input"
    ]
   },
   "outputs": [
    {
     "data": {
      "text/html": [
       "\n",
       "<div id=\"altair-viz-6ab3b40eb4c946b1b1410d2e7a3e8b41\"></div>\n",
       "<script type=\"text/javascript\">\n",
       "  (function(spec, embedOpt){\n",
       "    let outputDiv = document.currentScript.previousElementSibling;\n",
       "    if (outputDiv.id !== \"altair-viz-6ab3b40eb4c946b1b1410d2e7a3e8b41\") {\n",
       "      outputDiv = document.getElementById(\"altair-viz-6ab3b40eb4c946b1b1410d2e7a3e8b41\");\n",
       "    }\n",
       "    const paths = {\n",
       "      \"vega\": \"https://cdn.jsdelivr.net/npm//vega@5?noext\",\n",
       "      \"vega-lib\": \"https://cdn.jsdelivr.net/npm//vega-lib?noext\",\n",
       "      \"vega-lite\": \"https://cdn.jsdelivr.net/npm//vega-lite@4.8.1?noext\",\n",
       "      \"vega-embed\": \"https://cdn.jsdelivr.net/npm//vega-embed@6?noext\",\n",
       "    };\n",
       "\n",
       "    function loadScript(lib) {\n",
       "      return new Promise(function(resolve, reject) {\n",
       "        var s = document.createElement('script');\n",
       "        s.src = paths[lib];\n",
       "        s.async = true;\n",
       "        s.onload = () => resolve(paths[lib]);\n",
       "        s.onerror = () => reject(`Error loading script: ${paths[lib]}`);\n",
       "        document.getElementsByTagName(\"head\")[0].appendChild(s);\n",
       "      });\n",
       "    }\n",
       "\n",
       "    function showError(err) {\n",
       "      outputDiv.innerHTML = `<div class=\"error\" style=\"color:red;\">${err}</div>`;\n",
       "      throw err;\n",
       "    }\n",
       "\n",
       "    function displayChart(vegaEmbed) {\n",
       "      vegaEmbed(outputDiv, spec, embedOpt)\n",
       "        .catch(err => showError(`Javascript Error: ${err.message}<br>This usually means there's a typo in your chart specification. See the javascript console for the full traceback.`));\n",
       "    }\n",
       "\n",
       "    if(typeof define === \"function\" && define.amd) {\n",
       "      requirejs.config({paths});\n",
       "      require([\"vega-embed\"], displayChart, err => showError(`Error loading script: ${err.message}`));\n",
       "    } else if (typeof vegaEmbed === \"function\") {\n",
       "      displayChart(vegaEmbed);\n",
       "    } else {\n",
       "      loadScript(\"vega\")\n",
       "        .then(() => loadScript(\"vega-lite\"))\n",
       "        .then(() => loadScript(\"vega-embed\"))\n",
       "        .catch(showError)\n",
       "        .then(() => displayChart(vegaEmbed));\n",
       "    }\n",
       "  })({\"config\": {\"axisLeft\": {\"labelFontSize\": 15}, \"axisBottom\": {\"labelFontSize\": 15}}, \"data\": {\"name\": \"data-4f9087ac89cf732e001a2c660c2a7ee8\"}, \"mark\": \"line\", \"encoding\": {\"color\": {\"type\": \"nominal\", \"field\": \"repo\"}, \"tooltip\": {\"type\": \"nominal\", \"field\": \"repo\"}, \"x\": {\"type\": \"temporal\", \"field\": \"closedAt\"}, \"y\": {\"type\": \"quantitative\", \"field\": \"count\"}}, \"width\": 600, \"$schema\": \"https://vega.github.io/schema/vega-lite/v4.8.1.json\", \"datasets\": {\"data-4f9087ac89cf732e001a2c660c2a7ee8\": [{\"repo\": \"binderhub\", \"closedAt\": \"2020-08-23T00:00:00\", \"count\": 1}, {\"repo\": \"configurable-http-proxy\", \"closedAt\": \"2020-08-30T00:00:00\", \"count\": 1}, {\"repo\": \"configurable-http-proxy\", \"closedAt\": \"2020-09-06T00:00:00\", \"count\": 0}, {\"repo\": \"configurable-http-proxy\", \"closedAt\": \"2020-09-13T00:00:00\", \"count\": 0}, {\"repo\": \"configurable-http-proxy\", \"closedAt\": \"2020-09-20T00:00:00\", \"count\": 5}, {\"repo\": \"configurable-http-proxy\", \"closedAt\": \"2020-09-27T00:00:00\", \"count\": 1}, {\"repo\": \"jupyterhub\", \"closedAt\": \"2020-08-23T00:00:00\", \"count\": 1}, {\"repo\": \"jupyterhub-idle-culler\", \"closedAt\": \"2020-08-23T00:00:00\", \"count\": 1}, {\"repo\": \"kubespawner\", \"closedAt\": \"2020-09-13T00:00:00\", \"count\": 1}, {\"repo\": \"kubespawner\", \"closedAt\": \"2020-09-20T00:00:00\", \"count\": 1}, {\"repo\": \"zero-to-jupyterhub-k8s\", \"closedAt\": \"2020-08-23T00:00:00\", \"count\": 1}, {\"repo\": \"zero-to-jupyterhub-k8s\", \"closedAt\": \"2020-08-30T00:00:00\", \"count\": 2}, {\"repo\": \"zero-to-jupyterhub-k8s\", \"closedAt\": \"2020-09-06T00:00:00\", \"count\": 8}, {\"repo\": \"zero-to-jupyterhub-k8s\", \"closedAt\": \"2020-09-13T00:00:00\", \"count\": 1}, {\"repo\": \"zero-to-jupyterhub-k8s\", \"closedAt\": \"2020-09-20T00:00:00\", \"count\": 1}, {\"repo\": \"zero-to-jupyterhub-k8s\", \"closedAt\": \"2020-09-27T00:00:00\", \"count\": 6}, {\"repo\": \"zero-to-jupyterhub-k8s\", \"closedAt\": \"2020-10-04T00:00:00\", \"count\": 2}]}}, {\"mode\": \"vega-lite\"});\n",
       "</script>"
      ],
      "text/plain": [
       "alt.Chart(...)"
      ]
     },
     "execution_count": 15,
     "metadata": {},
     "output_type": "execute_result"
    }
   ],
   "source": [
    "closed_by_time = closed_by.groupby('repo').resample('W', on='closedAt').count()['author'].reset_index()\n",
    "closed_by_time = closed_by_time.rename(columns={'author': 'count'})\n",
    "\n",
    "alt.Chart(closed_by_time, width=600).mark_line().encode(\n",
    "    x='closedAt',\n",
    "    y='count',\n",
    "    color='repo',\n",
    "    tooltip=\"repo\"\n",
    ")"
   ]
  },
  {
   "cell_type": "markdown",
   "metadata": {
    "papermill": {
     "duration": 0.016585,
     "end_time": "2020-10-01T01:30:42.776390",
     "exception": false,
     "start_time": "2020-10-01T01:30:42.759805",
     "status": "completed"
    },
    "tags": []
   },
   "source": [
    "# By type over time"
   ]
  },
  {
   "cell_type": "code",
   "execution_count": 16,
   "metadata": {
    "execution": {
     "iopub.execute_input": "2020-10-01T01:30:42.825531Z",
     "iopub.status.busy": "2020-10-01T01:30:42.824911Z",
     "iopub.status.idle": "2020-10-01T01:30:42.836791Z",
     "shell.execute_reply": "2020-10-01T01:30:42.836265Z"
    },
    "papermill": {
     "duration": 0.041851,
     "end_time": "2020-10-01T01:30:42.836956",
     "exception": false,
     "start_time": "2020-10-01T01:30:42.795105",
     "status": "completed"
    },
    "tags": [
     "remove_cell"
    ]
   },
   "outputs": [],
   "source": [
    "prs_time = prs[['author', 'createdAt']].resample('W', on='createdAt').count()['author'].reset_index()\n",
    "prs_time = prs_time.rename(columns={'author': 'prs'})\n",
    "comments_time = comments[['author', 'createdAt']].resample('W', on='createdAt').count()['author'].reset_index()\n",
    "comments_time = comments_time.rename(columns={'author': 'comments'})\n",
    "\n",
    "total_time = pd.merge(prs_time, comments_time, on='createdAt', how='outer')\n",
    "total_time = total_time.melt(id_vars='createdAt', var_name=\"kind\", value_name=\"count\")\n"
   ]
  },
  {
   "cell_type": "code",
   "execution_count": 17,
   "metadata": {
    "execution": {
     "iopub.execute_input": "2020-10-01T01:30:42.900601Z",
     "iopub.status.busy": "2020-10-01T01:30:42.899942Z",
     "iopub.status.idle": "2020-10-01T01:30:42.902542Z",
     "shell.execute_reply": "2020-10-01T01:30:42.903014Z"
    },
    "papermill": {
     "duration": 0.048989,
     "end_time": "2020-10-01T01:30:42.903209",
     "exception": false,
     "start_time": "2020-10-01T01:30:42.854220",
     "status": "completed"
    },
    "tags": [
     "hide_input"
    ]
   },
   "outputs": [
    {
     "data": {
      "text/html": [
       "\n",
       "<div id=\"altair-viz-93584ce3ce9842c1ab9222dc45433e6c\"></div>\n",
       "<script type=\"text/javascript\">\n",
       "  (function(spec, embedOpt){\n",
       "    let outputDiv = document.currentScript.previousElementSibling;\n",
       "    if (outputDiv.id !== \"altair-viz-93584ce3ce9842c1ab9222dc45433e6c\") {\n",
       "      outputDiv = document.getElementById(\"altair-viz-93584ce3ce9842c1ab9222dc45433e6c\");\n",
       "    }\n",
       "    const paths = {\n",
       "      \"vega\": \"https://cdn.jsdelivr.net/npm//vega@5?noext\",\n",
       "      \"vega-lib\": \"https://cdn.jsdelivr.net/npm//vega-lib?noext\",\n",
       "      \"vega-lite\": \"https://cdn.jsdelivr.net/npm//vega-lite@4.8.1?noext\",\n",
       "      \"vega-embed\": \"https://cdn.jsdelivr.net/npm//vega-embed@6?noext\",\n",
       "    };\n",
       "\n",
       "    function loadScript(lib) {\n",
       "      return new Promise(function(resolve, reject) {\n",
       "        var s = document.createElement('script');\n",
       "        s.src = paths[lib];\n",
       "        s.async = true;\n",
       "        s.onload = () => resolve(paths[lib]);\n",
       "        s.onerror = () => reject(`Error loading script: ${paths[lib]}`);\n",
       "        document.getElementsByTagName(\"head\")[0].appendChild(s);\n",
       "      });\n",
       "    }\n",
       "\n",
       "    function showError(err) {\n",
       "      outputDiv.innerHTML = `<div class=\"error\" style=\"color:red;\">${err}</div>`;\n",
       "      throw err;\n",
       "    }\n",
       "\n",
       "    function displayChart(vegaEmbed) {\n",
       "      vegaEmbed(outputDiv, spec, embedOpt)\n",
       "        .catch(err => showError(`Javascript Error: ${err.message}<br>This usually means there's a typo in your chart specification. See the javascript console for the full traceback.`));\n",
       "    }\n",
       "\n",
       "    if(typeof define === \"function\" && define.amd) {\n",
       "      requirejs.config({paths});\n",
       "      require([\"vega-embed\"], displayChart, err => showError(`Error loading script: ${err.message}`));\n",
       "    } else if (typeof vegaEmbed === \"function\") {\n",
       "      displayChart(vegaEmbed);\n",
       "    } else {\n",
       "      loadScript(\"vega\")\n",
       "        .then(() => loadScript(\"vega-lite\"))\n",
       "        .then(() => loadScript(\"vega-embed\"))\n",
       "        .catch(showError)\n",
       "        .then(() => displayChart(vegaEmbed));\n",
       "    }\n",
       "  })({\"config\": {\"axisLeft\": {\"labelFontSize\": 15}, \"axisBottom\": {\"labelFontSize\": 15}}, \"data\": {\"name\": \"data-4aab738d410bb89d1c346b7072d2b617\"}, \"mark\": \"line\", \"encoding\": {\"color\": {\"type\": \"nominal\", \"field\": \"kind\"}, \"x\": {\"type\": \"temporal\", \"field\": \"createdAt\"}, \"y\": {\"type\": \"quantitative\", \"field\": \"count\"}}, \"width\": 600, \"$schema\": \"https://vega.github.io/schema/vega-lite/v4.8.1.json\", \"datasets\": {\"data-4aab738d410bb89d1c346b7072d2b617\": [{\"createdAt\": \"2019-06-23T00:00:00\", \"kind\": \"prs\", \"count\": 1.0}, {\"createdAt\": \"2019-06-30T00:00:00\", \"kind\": \"prs\", \"count\": 0.0}, {\"createdAt\": \"2019-07-07T00:00:00\", \"kind\": \"prs\", \"count\": 0.0}, {\"createdAt\": \"2019-07-14T00:00:00\", \"kind\": \"prs\", \"count\": 0.0}, {\"createdAt\": \"2019-07-21T00:00:00\", \"kind\": \"prs\", \"count\": 0.0}, {\"createdAt\": \"2019-07-28T00:00:00\", \"kind\": \"prs\", \"count\": 0.0}, {\"createdAt\": \"2019-08-04T00:00:00\", \"kind\": \"prs\", \"count\": 0.0}, {\"createdAt\": \"2019-08-11T00:00:00\", \"kind\": \"prs\", \"count\": 0.0}, {\"createdAt\": \"2019-08-18T00:00:00\", \"kind\": \"prs\", \"count\": 0.0}, {\"createdAt\": \"2019-08-25T00:00:00\", \"kind\": \"prs\", \"count\": 0.0}, {\"createdAt\": \"2019-09-01T00:00:00\", \"kind\": \"prs\", \"count\": 0.0}, {\"createdAt\": \"2019-09-08T00:00:00\", \"kind\": \"prs\", \"count\": 0.0}, {\"createdAt\": \"2019-09-15T00:00:00\", \"kind\": \"prs\", \"count\": 0.0}, {\"createdAt\": \"2019-09-22T00:00:00\", \"kind\": \"prs\", \"count\": 0.0}, {\"createdAt\": \"2019-09-29T00:00:00\", \"kind\": \"prs\", \"count\": 0.0}, {\"createdAt\": \"2019-10-06T00:00:00\", \"kind\": \"prs\", \"count\": 0.0}, {\"createdAt\": \"2019-10-13T00:00:00\", \"kind\": \"prs\", \"count\": 0.0}, {\"createdAt\": \"2019-10-20T00:00:00\", \"kind\": \"prs\", \"count\": 0.0}, {\"createdAt\": \"2019-10-27T00:00:00\", \"kind\": \"prs\", \"count\": 0.0}, {\"createdAt\": \"2019-11-03T00:00:00\", \"kind\": \"prs\", \"count\": 0.0}, {\"createdAt\": \"2019-11-10T00:00:00\", \"kind\": \"prs\", \"count\": 0.0}, {\"createdAt\": \"2019-11-17T00:00:00\", \"kind\": \"prs\", \"count\": 0.0}, {\"createdAt\": \"2019-11-24T00:00:00\", \"kind\": \"prs\", \"count\": 0.0}, {\"createdAt\": \"2019-12-01T00:00:00\", \"kind\": \"prs\", \"count\": 0.0}, {\"createdAt\": \"2019-12-08T00:00:00\", \"kind\": \"prs\", \"count\": 0.0}, {\"createdAt\": \"2019-12-15T00:00:00\", \"kind\": \"prs\", \"count\": 0.0}, {\"createdAt\": \"2019-12-22T00:00:00\", \"kind\": \"prs\", \"count\": 0.0}, {\"createdAt\": \"2019-12-29T00:00:00\", \"kind\": \"prs\", \"count\": 0.0}, {\"createdAt\": \"2020-01-05T00:00:00\", \"kind\": \"prs\", \"count\": 0.0}, {\"createdAt\": \"2020-01-12T00:00:00\", \"kind\": \"prs\", \"count\": 0.0}, {\"createdAt\": \"2020-01-19T00:00:00\", \"kind\": \"prs\", \"count\": 0.0}, {\"createdAt\": \"2020-01-26T00:00:00\", \"kind\": \"prs\", \"count\": 0.0}, {\"createdAt\": \"2020-02-02T00:00:00\", \"kind\": \"prs\", \"count\": 0.0}, {\"createdAt\": \"2020-02-09T00:00:00\", \"kind\": \"prs\", \"count\": 0.0}, {\"createdAt\": \"2020-02-16T00:00:00\", \"kind\": \"prs\", \"count\": 0.0}, {\"createdAt\": \"2020-02-23T00:00:00\", \"kind\": \"prs\", \"count\": 0.0}, {\"createdAt\": \"2020-03-01T00:00:00\", \"kind\": \"prs\", \"count\": 0.0}, {\"createdAt\": \"2020-03-08T00:00:00\", \"kind\": \"prs\", \"count\": 0.0}, {\"createdAt\": \"2020-03-15T00:00:00\", \"kind\": \"prs\", \"count\": 0.0}, {\"createdAt\": \"2020-03-22T00:00:00\", \"kind\": \"prs\", \"count\": 0.0}, {\"createdAt\": \"2020-03-29T00:00:00\", \"kind\": \"prs\", \"count\": 0.0}, {\"createdAt\": \"2020-04-05T00:00:00\", \"kind\": \"prs\", \"count\": 0.0}, {\"createdAt\": \"2020-04-12T00:00:00\", \"kind\": \"prs\", \"count\": 0.0}, {\"createdAt\": \"2020-04-19T00:00:00\", \"kind\": \"prs\", \"count\": 0.0}, {\"createdAt\": \"2020-04-26T00:00:00\", \"kind\": \"prs\", \"count\": 0.0}, {\"createdAt\": \"2020-05-03T00:00:00\", \"kind\": \"prs\", \"count\": 0.0}, {\"createdAt\": \"2020-05-10T00:00:00\", \"kind\": \"prs\", \"count\": 0.0}, {\"createdAt\": \"2020-05-17T00:00:00\", \"kind\": \"prs\", \"count\": 0.0}, {\"createdAt\": \"2020-05-24T00:00:00\", \"kind\": \"prs\", \"count\": 0.0}, {\"createdAt\": \"2020-05-31T00:00:00\", \"kind\": \"prs\", \"count\": 1.0}, {\"createdAt\": \"2020-06-07T00:00:00\", \"kind\": \"prs\", \"count\": 0.0}, {\"createdAt\": \"2020-06-14T00:00:00\", \"kind\": \"prs\", \"count\": 0.0}, {\"createdAt\": \"2020-06-21T00:00:00\", \"kind\": \"prs\", \"count\": 0.0}, {\"createdAt\": \"2020-06-28T00:00:00\", \"kind\": \"prs\", \"count\": 0.0}, {\"createdAt\": \"2020-07-05T00:00:00\", \"kind\": \"prs\", \"count\": 1.0}, {\"createdAt\": \"2020-07-12T00:00:00\", \"kind\": \"prs\", \"count\": 0.0}, {\"createdAt\": \"2020-07-19T00:00:00\", \"kind\": \"prs\", \"count\": 0.0}, {\"createdAt\": \"2020-07-26T00:00:00\", \"kind\": \"prs\", \"count\": 0.0}, {\"createdAt\": \"2020-08-02T00:00:00\", \"kind\": \"prs\", \"count\": 2.0}, {\"createdAt\": \"2020-08-09T00:00:00\", \"kind\": \"prs\", \"count\": 0.0}, {\"createdAt\": \"2020-08-16T00:00:00\", \"kind\": \"prs\", \"count\": 0.0}, {\"createdAt\": \"2020-08-23T00:00:00\", \"kind\": \"prs\", \"count\": 1.0}, {\"createdAt\": \"2020-08-30T00:00:00\", \"kind\": \"prs\", \"count\": 2.0}, {\"createdAt\": \"2020-09-06T00:00:00\", \"kind\": \"prs\", \"count\": 10.0}, {\"createdAt\": \"2020-09-13T00:00:00\", \"kind\": \"prs\", \"count\": 1.0}, {\"createdAt\": \"2020-09-20T00:00:00\", \"kind\": \"prs\", \"count\": 0.0}, {\"createdAt\": \"2020-09-27T00:00:00\", \"kind\": \"prs\", \"count\": 4.0}, {\"createdAt\": \"2020-10-04T00:00:00\", \"kind\": \"prs\", \"count\": 1.0}, {\"createdAt\": \"2019-06-23T00:00:00\", \"kind\": \"comments\", \"count\": null}, {\"createdAt\": \"2019-06-30T00:00:00\", \"kind\": \"comments\", \"count\": null}, {\"createdAt\": \"2019-07-07T00:00:00\", \"kind\": \"comments\", \"count\": null}, {\"createdAt\": \"2019-07-14T00:00:00\", \"kind\": \"comments\", \"count\": null}, {\"createdAt\": \"2019-07-21T00:00:00\", \"kind\": \"comments\", \"count\": null}, {\"createdAt\": \"2019-07-28T00:00:00\", \"kind\": \"comments\", \"count\": null}, {\"createdAt\": \"2019-08-04T00:00:00\", \"kind\": \"comments\", \"count\": null}, {\"createdAt\": \"2019-08-11T00:00:00\", \"kind\": \"comments\", \"count\": null}, {\"createdAt\": \"2019-08-18T00:00:00\", \"kind\": \"comments\", \"count\": null}, {\"createdAt\": \"2019-08-25T00:00:00\", \"kind\": \"comments\", \"count\": null}, {\"createdAt\": \"2019-09-01T00:00:00\", \"kind\": \"comments\", \"count\": null}, {\"createdAt\": \"2019-09-08T00:00:00\", \"kind\": \"comments\", \"count\": null}, {\"createdAt\": \"2019-09-15T00:00:00\", \"kind\": \"comments\", \"count\": null}, {\"createdAt\": \"2019-09-22T00:00:00\", \"kind\": \"comments\", \"count\": null}, {\"createdAt\": \"2019-09-29T00:00:00\", \"kind\": \"comments\", \"count\": null}, {\"createdAt\": \"2019-10-06T00:00:00\", \"kind\": \"comments\", \"count\": null}, {\"createdAt\": \"2019-10-13T00:00:00\", \"kind\": \"comments\", \"count\": null}, {\"createdAt\": \"2019-10-20T00:00:00\", \"kind\": \"comments\", \"count\": null}, {\"createdAt\": \"2019-10-27T00:00:00\", \"kind\": \"comments\", \"count\": null}, {\"createdAt\": \"2019-11-03T00:00:00\", \"kind\": \"comments\", \"count\": null}, {\"createdAt\": \"2019-11-10T00:00:00\", \"kind\": \"comments\", \"count\": null}, {\"createdAt\": \"2019-11-17T00:00:00\", \"kind\": \"comments\", \"count\": null}, {\"createdAt\": \"2019-11-24T00:00:00\", \"kind\": \"comments\", \"count\": null}, {\"createdAt\": \"2019-12-01T00:00:00\", \"kind\": \"comments\", \"count\": null}, {\"createdAt\": \"2019-12-08T00:00:00\", \"kind\": \"comments\", \"count\": null}, {\"createdAt\": \"2019-12-15T00:00:00\", \"kind\": \"comments\", \"count\": null}, {\"createdAt\": \"2019-12-22T00:00:00\", \"kind\": \"comments\", \"count\": null}, {\"createdAt\": \"2019-12-29T00:00:00\", \"kind\": \"comments\", \"count\": null}, {\"createdAt\": \"2020-01-05T00:00:00\", \"kind\": \"comments\", \"count\": null}, {\"createdAt\": \"2020-01-12T00:00:00\", \"kind\": \"comments\", \"count\": null}, {\"createdAt\": \"2020-01-19T00:00:00\", \"kind\": \"comments\", \"count\": null}, {\"createdAt\": \"2020-01-26T00:00:00\", \"kind\": \"comments\", \"count\": null}, {\"createdAt\": \"2020-02-02T00:00:00\", \"kind\": \"comments\", \"count\": null}, {\"createdAt\": \"2020-02-09T00:00:00\", \"kind\": \"comments\", \"count\": null}, {\"createdAt\": \"2020-02-16T00:00:00\", \"kind\": \"comments\", \"count\": null}, {\"createdAt\": \"2020-02-23T00:00:00\", \"kind\": \"comments\", \"count\": null}, {\"createdAt\": \"2020-03-01T00:00:00\", \"kind\": \"comments\", \"count\": null}, {\"createdAt\": \"2020-03-08T00:00:00\", \"kind\": \"comments\", \"count\": null}, {\"createdAt\": \"2020-03-15T00:00:00\", \"kind\": \"comments\", \"count\": null}, {\"createdAt\": \"2020-03-22T00:00:00\", \"kind\": \"comments\", \"count\": null}, {\"createdAt\": \"2020-03-29T00:00:00\", \"kind\": \"comments\", \"count\": null}, {\"createdAt\": \"2020-04-05T00:00:00\", \"kind\": \"comments\", \"count\": null}, {\"createdAt\": \"2020-04-12T00:00:00\", \"kind\": \"comments\", \"count\": null}, {\"createdAt\": \"2020-04-19T00:00:00\", \"kind\": \"comments\", \"count\": null}, {\"createdAt\": \"2020-04-26T00:00:00\", \"kind\": \"comments\", \"count\": null}, {\"createdAt\": \"2020-05-03T00:00:00\", \"kind\": \"comments\", \"count\": null}, {\"createdAt\": \"2020-05-10T00:00:00\", \"kind\": \"comments\", \"count\": null}, {\"createdAt\": \"2020-05-17T00:00:00\", \"kind\": \"comments\", \"count\": null}, {\"createdAt\": \"2020-05-24T00:00:00\", \"kind\": \"comments\", \"count\": null}, {\"createdAt\": \"2020-05-31T00:00:00\", \"kind\": \"comments\", \"count\": null}, {\"createdAt\": \"2020-06-07T00:00:00\", \"kind\": \"comments\", \"count\": null}, {\"createdAt\": \"2020-06-14T00:00:00\", \"kind\": \"comments\", \"count\": null}, {\"createdAt\": \"2020-06-21T00:00:00\", \"kind\": \"comments\", \"count\": 1.0}, {\"createdAt\": \"2020-06-28T00:00:00\", \"kind\": \"comments\", \"count\": 0.0}, {\"createdAt\": \"2020-07-05T00:00:00\", \"kind\": \"comments\", \"count\": 0.0}, {\"createdAt\": \"2020-07-12T00:00:00\", \"kind\": \"comments\", \"count\": 0.0}, {\"createdAt\": \"2020-07-19T00:00:00\", \"kind\": \"comments\", \"count\": 0.0}, {\"createdAt\": \"2020-07-26T00:00:00\", \"kind\": \"comments\", \"count\": 0.0}, {\"createdAt\": \"2020-08-02T00:00:00\", \"kind\": \"comments\", \"count\": 2.0}, {\"createdAt\": \"2020-08-09T00:00:00\", \"kind\": \"comments\", \"count\": 2.0}, {\"createdAt\": \"2020-08-16T00:00:00\", \"kind\": \"comments\", \"count\": 0.0}, {\"createdAt\": \"2020-08-23T00:00:00\", \"kind\": \"comments\", \"count\": 19.0}, {\"createdAt\": \"2020-08-30T00:00:00\", \"kind\": \"comments\", \"count\": 6.0}, {\"createdAt\": \"2020-09-06T00:00:00\", \"kind\": \"comments\", \"count\": 33.0}, {\"createdAt\": \"2020-09-13T00:00:00\", \"kind\": \"comments\", \"count\": 19.0}, {\"createdAt\": \"2020-09-20T00:00:00\", \"kind\": \"comments\", \"count\": 10.0}, {\"createdAt\": \"2020-09-27T00:00:00\", \"kind\": \"comments\", \"count\": 19.0}, {\"createdAt\": \"2020-10-04T00:00:00\", \"kind\": \"comments\", \"count\": 17.0}]}}, {\"mode\": \"vega-lite\"});\n",
       "</script>"
      ],
      "text/plain": [
       "alt.Chart(...)"
      ]
     },
     "execution_count": 17,
     "metadata": {},
     "output_type": "execute_result"
    }
   ],
   "source": [
    "alt.Chart(total_time, width=600).mark_line().encode(\n",
    "    x='createdAt',\n",
    "    y='count',\n",
    "    color='kind'\n",
    ")"
   ]
  }
 ],
 "metadata": {
  "kernelspec": {
   "display_name": "Python 3",
   "language": "python",
   "name": "python3"
  },
  "language_info": {
   "codemirror_mode": {
    "name": "ipython",
    "version": 3
   },
   "file_extension": ".py",
   "mimetype": "text/x-python",
   "name": "python",
   "nbconvert_exporter": "python",
   "pygments_lexer": "ipython3",
   "version": "3.7.9"
  },
  "papermill": {
   "default_parameters": {},
   "duration": 3.54629,
   "end_time": "2020-10-01T01:30:43.339467",
   "environment_variables": {},
   "exception": null,
   "input_path": "./person.ipynb",
   "output_path": "people/consideRatio.ipynb",
   "parameters": {
    "n_days": 60,
    "person": "consideRatio"
   },
   "start_time": "2020-10-01T01:30:39.793177",
   "version": "2.2.0"
  },
  "widgets": {
   "application/vnd.jupyter.widget-state+json": {
    "state": {},
    "version_major": 2,
    "version_minor": 0
   }
  }
 },
 "nbformat": 4,
 "nbformat_minor": 4
}