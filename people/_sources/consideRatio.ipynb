{
 "cells": [
  {
   "cell_type": "markdown",
   "id": "printable-excitement",
   "metadata": {
    "papermill": {
     "duration": 0.017423,
     "end_time": "2021-02-02T01:57:34.939925",
     "exception": false,
     "start_time": "2021-02-02T01:57:34.922502",
     "status": "completed"
    },
    "tags": []
   },
   "source": [
    "# Report for consideRatio"
   ]
  },
  {
   "cell_type": "code",
   "execution_count": 1,
   "id": "radical-benchmark",
   "metadata": {
    "execution": {
     "iopub.execute_input": "2021-02-02T01:57:34.980057Z",
     "iopub.status.busy": "2021-02-02T01:57:34.979440Z",
     "iopub.status.idle": "2021-02-02T01:57:35.874244Z",
     "shell.execute_reply": "2021-02-02T01:57:35.873083Z"
    },
    "papermill": {
     "duration": 0.919676,
     "end_time": "2021-02-02T01:57:35.874475",
     "exception": false,
     "start_time": "2021-02-02T01:57:34.954799",
     "status": "completed"
    },
    "tags": [
     "remove_cell"
    ]
   },
   "outputs": [],
   "source": [
    "import seaborn as sns\n",
    "import pandas as pd\n",
    "import numpy as np\n",
    "import altair as alt\n",
    "from markdown import markdown\n",
    "from IPython.display import Markdown\n",
    "from ipywidgets.widgets import HTML, Tab\n",
    "from ipywidgets import widgets\n",
    "from datetime import timedelta\n",
    "from matplotlib import pyplot as plt\n",
    "import os.path as op\n",
    "\n",
    "from mycode import alt_theme\n",
    "from warnings import simplefilter\n",
    "simplefilter('ignore')"
   ]
  },
  {
   "cell_type": "code",
   "execution_count": 2,
   "id": "polyphonic-electric",
   "metadata": {
    "execution": {
     "iopub.execute_input": "2021-02-02T01:57:35.906927Z",
     "iopub.status.busy": "2021-02-02T01:57:35.906377Z",
     "iopub.status.idle": "2021-02-02T01:57:35.908384Z",
     "shell.execute_reply": "2021-02-02T01:57:35.907922Z"
    },
    "papermill": {
     "duration": 0.019633,
     "end_time": "2021-02-02T01:57:35.908520",
     "exception": false,
     "start_time": "2021-02-02T01:57:35.888887",
     "status": "completed"
    },
    "tags": [
     "remove_cell"
    ]
   },
   "outputs": [],
   "source": [
    "def author_url(author):\n",
    "    return f\"https://github.com/{author}\""
   ]
  },
  {
   "cell_type": "code",
   "execution_count": 3,
   "id": "religious-consumption",
   "metadata": {
    "execution": {
     "iopub.execute_input": "2021-02-02T01:57:35.939236Z",
     "iopub.status.busy": "2021-02-02T01:57:35.938502Z",
     "iopub.status.idle": "2021-02-02T01:57:35.940176Z",
     "shell.execute_reply": "2021-02-02T01:57:35.940725Z"
    },
    "papermill": {
     "duration": 0.019649,
     "end_time": "2021-02-02T01:57:35.940917",
     "exception": false,
     "start_time": "2021-02-02T01:57:35.921268",
     "status": "completed"
    },
    "tags": [
     "parameters",
     "hide_input"
    ]
   },
   "outputs": [],
   "source": [
    "# Parameters\n",
    "fmt_date = \"{:%Y-%m-%d}\"\n",
    "\n",
    "n_days = 30 * 2\n",
    "start_date = fmt_date.format(pd.datetime.today() - timedelta(days=n_days))\n",
    "end_date = fmt_date.format(pd.datetime.today())\n",
    "\n",
    "renderer = \"html\"\n",
    "person = \"jasongrout\""
   ]
  },
  {
   "cell_type": "code",
   "execution_count": 4,
   "id": "steady-arthur",
   "metadata": {
    "execution": {
     "iopub.execute_input": "2021-02-02T01:57:35.972861Z",
     "iopub.status.busy": "2021-02-02T01:57:35.972265Z",
     "iopub.status.idle": "2021-02-02T01:57:35.975107Z",
     "shell.execute_reply": "2021-02-02T01:57:35.975655Z"
    },
    "papermill": {
     "duration": 0.02093,
     "end_time": "2021-02-02T01:57:35.975811",
     "exception": false,
     "start_time": "2021-02-02T01:57:35.954881",
     "status": "completed"
    },
    "tags": [
     "injected-parameters",
     "remove-cell"
    ]
   },
   "outputs": [],
   "source": [
    "# Parameters\n",
    "person = \"consideRatio\"\n",
    "n_days = 60\n"
   ]
  },
  {
   "cell_type": "code",
   "execution_count": 5,
   "id": "ranging-supervisor",
   "metadata": {
    "execution": {
     "iopub.execute_input": "2021-02-02T01:57:36.008007Z",
     "iopub.status.busy": "2021-02-02T01:57:36.007411Z",
     "iopub.status.idle": "2021-02-02T01:57:36.014464Z",
     "shell.execute_reply": "2021-02-02T01:57:36.013966Z"
    },
    "papermill": {
     "duration": 0.024225,
     "end_time": "2021-02-02T01:57:36.014605",
     "exception": false,
     "start_time": "2021-02-02T01:57:35.990380",
     "status": "completed"
    },
    "tags": [
     "remove_cell"
    ]
   },
   "outputs": [
    {
     "data": {
      "text/plain": [
       "ThemeRegistry.enable('my_theme')"
      ]
     },
     "execution_count": 5,
     "metadata": {},
     "output_type": "execute_result"
    }
   ],
   "source": [
    "alt.renderers.enable(renderer);\n",
    "alt.themes.register('my_theme', alt_theme)\n",
    "alt.themes.enable(\"my_theme\")"
   ]
  },
  {
   "cell_type": "markdown",
   "id": "polished-honolulu",
   "metadata": {
    "papermill": {
     "duration": 0.01321,
     "end_time": "2021-02-02T01:57:36.041174",
     "exception": false,
     "start_time": "2021-02-02T01:57:36.027964",
     "status": "completed"
    },
    "tags": []
   },
   "source": [
    "## Load data"
   ]
  },
  {
   "cell_type": "code",
   "execution_count": 6,
   "id": "still-convergence",
   "metadata": {
    "execution": {
     "iopub.execute_input": "2021-02-02T01:57:36.076938Z",
     "iopub.status.busy": "2021-02-02T01:57:36.076363Z",
     "iopub.status.idle": "2021-02-02T01:57:36.251647Z",
     "shell.execute_reply": "2021-02-02T01:57:36.250903Z"
    },
    "papermill": {
     "duration": 0.197462,
     "end_time": "2021-02-02T01:57:36.251854",
     "exception": false,
     "start_time": "2021-02-02T01:57:36.054392",
     "status": "completed"
    },
    "tags": [
     "remove_cell"
    ]
   },
   "outputs": [],
   "source": [
    "from pathlib import Path\n",
    "path_data = Path(\"./\")\n",
    "comments = pd.read_csv(path_data.joinpath('comments.csv'), index_col=0)\n",
    "issues = pd.read_csv(path_data.joinpath('issues.csv'), index_col=0)\n",
    "prs = pd.read_csv(path_data.joinpath('prs.csv'), index_col=0)\n",
    "\n",
    "comments = comments.query('author == @person').drop_duplicates()\n",
    "issues = issues.query('author == @person').drop_duplicates()\n",
    "closed_by = prs.query('mergedBy == @person')\n",
    "prs = prs.query('author == @person').drop_duplicates()"
   ]
  },
  {
   "cell_type": "code",
   "execution_count": 7,
   "id": "widespread-budget",
   "metadata": {
    "execution": {
     "iopub.execute_input": "2021-02-02T01:57:36.302693Z",
     "iopub.status.busy": "2021-02-02T01:57:36.297295Z",
     "iopub.status.idle": "2021-02-02T01:57:36.344775Z",
     "shell.execute_reply": "2021-02-02T01:57:36.343866Z"
    },
    "papermill": {
     "duration": 0.074828,
     "end_time": "2021-02-02T01:57:36.345037",
     "exception": false,
     "start_time": "2021-02-02T01:57:36.270209",
     "status": "completed"
    },
    "tags": [
     "remove_cell"
    ]
   },
   "outputs": [],
   "source": [
    "# Time columns\n",
    "# Also drop dates outside of our range\n",
    "time_columns = ['updatedAt', 'createdAt', 'closedAt']\n",
    "for col in time_columns:\n",
    "    for item in [comments, issues, prs, closed_by]:\n",
    "        if col not in item.columns:\n",
    "            continue\n",
    "        dt = pd.to_datetime(item[col]).dt.tz_localize(None)\n",
    "        item[col] = dt\n",
    "        item.query(\"updatedAt < @end_date and updatedAt > @start_date\", inplace=True)"
   ]
  },
  {
   "cell_type": "markdown",
   "id": "structured-philippines",
   "metadata": {
    "papermill": {
     "duration": 0.013712,
     "end_time": "2021-02-02T01:57:36.376790",
     "exception": false,
     "start_time": "2021-02-02T01:57:36.363078",
     "status": "completed"
    },
    "tags": []
   },
   "source": [
    "## Repository summaries"
   ]
  },
  {
   "cell_type": "code",
   "execution_count": 8,
   "id": "discrete-barrel",
   "metadata": {
    "execution": {
     "iopub.execute_input": "2021-02-02T01:57:36.421920Z",
     "iopub.status.busy": "2021-02-02T01:57:36.421360Z",
     "iopub.status.idle": "2021-02-02T01:57:36.434140Z",
     "shell.execute_reply": "2021-02-02T01:57:36.434696Z"
    },
    "papermill": {
     "duration": 0.04264,
     "end_time": "2021-02-02T01:57:36.434898",
     "exception": false,
     "start_time": "2021-02-02T01:57:36.392258",
     "status": "completed"
    },
    "tags": [
     "remove_cell"
    ]
   },
   "outputs": [],
   "source": [
    "summaries = []\n",
    "for idata, name in [(issues, 'issues'), (prs, 'prs'), (comments, 'comments')]:\n",
    "    idata = idata.groupby([\"repo\", \"org\"]).agg({'id': \"count\"}).reset_index().rename(columns={'id': 'count'})\n",
    "    idata[\"kind\"] = name\n",
    "    summaries.append(idata)\n",
    "summaries = pd.concat(summaries)"
   ]
  },
  {
   "cell_type": "code",
   "execution_count": 9,
   "id": "breathing-lecture",
   "metadata": {
    "execution": {
     "iopub.execute_input": "2021-02-02T01:57:36.472485Z",
     "iopub.status.busy": "2021-02-02T01:57:36.471902Z",
     "iopub.status.idle": "2021-02-02T01:57:36.481621Z",
     "shell.execute_reply": "2021-02-02T01:57:36.482058Z"
    },
    "papermill": {
     "duration": 0.03094,
     "end_time": "2021-02-02T01:57:36.482231",
     "exception": false,
     "start_time": "2021-02-02T01:57:36.451291",
     "status": "completed"
    },
    "tags": [
     "remove_cell"
    ]
   },
   "outputs": [],
   "source": [
    "repo_summaries = summaries.groupby([\"repo\", \"kind\"]).agg({\"count\": \"sum\"}).reset_index()\n",
    "org_summaries = summaries.groupby([\"org\", \"kind\"]).agg({\"count\": \"sum\"}).reset_index()"
   ]
  },
  {
   "cell_type": "code",
   "execution_count": 10,
   "id": "several-house",
   "metadata": {
    "execution": {
     "iopub.execute_input": "2021-02-02T01:57:36.517891Z",
     "iopub.status.busy": "2021-02-02T01:57:36.517354Z",
     "iopub.status.idle": "2021-02-02T01:57:36.523711Z",
     "shell.execute_reply": "2021-02-02T01:57:36.524231Z"
    },
    "papermill": {
     "duration": 0.025367,
     "end_time": "2021-02-02T01:57:36.524391",
     "exception": false,
     "start_time": "2021-02-02T01:57:36.499024",
     "status": "completed"
    },
    "tags": [
     "remove_cell"
    ]
   },
   "outputs": [],
   "source": [
    "repo_summaries['logcount'] = np.log(repo_summaries[\"count\"])"
   ]
  },
  {
   "cell_type": "code",
   "execution_count": 11,
   "id": "laughing-numbers",
   "metadata": {
    "execution": {
     "iopub.execute_input": "2021-02-02T01:57:36.588703Z",
     "iopub.status.busy": "2021-02-02T01:57:36.578322Z",
     "iopub.status.idle": "2021-02-02T01:57:36.612324Z",
     "shell.execute_reply": "2021-02-02T01:57:36.612734Z"
    },
    "papermill": {
     "duration": 0.072386,
     "end_time": "2021-02-02T01:57:36.612905",
     "exception": false,
     "start_time": "2021-02-02T01:57:36.540519",
     "status": "completed"
    },
    "tags": [
     "hide_input"
    ]
   },
   "outputs": [
    {
     "data": {
      "text/html": [
       "\n",
       "<div id=\"altair-viz-199945c777154faba515bd7faf3c353d\"></div>\n",
       "<script type=\"text/javascript\">\n",
       "  (function(spec, embedOpt){\n",
       "    let outputDiv = document.currentScript.previousElementSibling;\n",
       "    if (outputDiv.id !== \"altair-viz-199945c777154faba515bd7faf3c353d\") {\n",
       "      outputDiv = document.getElementById(\"altair-viz-199945c777154faba515bd7faf3c353d\");\n",
       "    }\n",
       "    const paths = {\n",
       "      \"vega\": \"https://cdn.jsdelivr.net/npm//vega@5?noext\",\n",
       "      \"vega-lib\": \"https://cdn.jsdelivr.net/npm//vega-lib?noext\",\n",
       "      \"vega-lite\": \"https://cdn.jsdelivr.net/npm//vega-lite@4.8.1?noext\",\n",
       "      \"vega-embed\": \"https://cdn.jsdelivr.net/npm//vega-embed@6?noext\",\n",
       "    };\n",
       "\n",
       "    function loadScript(lib) {\n",
       "      return new Promise(function(resolve, reject) {\n",
       "        var s = document.createElement('script');\n",
       "        s.src = paths[lib];\n",
       "        s.async = true;\n",
       "        s.onload = () => resolve(paths[lib]);\n",
       "        s.onerror = () => reject(`Error loading script: ${paths[lib]}`);\n",
       "        document.getElementsByTagName(\"head\")[0].appendChild(s);\n",
       "      });\n",
       "    }\n",
       "\n",
       "    function showError(err) {\n",
       "      outputDiv.innerHTML = `<div class=\"error\" style=\"color:red;\">${err}</div>`;\n",
       "      throw err;\n",
       "    }\n",
       "\n",
       "    function displayChart(vegaEmbed) {\n",
       "      vegaEmbed(outputDiv, spec, embedOpt)\n",
       "        .catch(err => showError(`Javascript Error: ${err.message}<br>This usually means there's a typo in your chart specification. See the javascript console for the full traceback.`));\n",
       "    }\n",
       "\n",
       "    if(typeof define === \"function\" && define.amd) {\n",
       "      requirejs.config({paths});\n",
       "      require([\"vega-embed\"], displayChart, err => showError(`Error loading script: ${err.message}`));\n",
       "    } else if (typeof vegaEmbed === \"function\") {\n",
       "      displayChart(vegaEmbed);\n",
       "    } else {\n",
       "      loadScript(\"vega\")\n",
       "        .then(() => loadScript(\"vega-lite\"))\n",
       "        .then(() => loadScript(\"vega-embed\"))\n",
       "        .catch(showError)\n",
       "        .then(() => displayChart(vegaEmbed));\n",
       "    }\n",
       "  })({\"config\": {\"axisLeft\": {\"labelFontSize\": 15}, \"axisBottom\": {\"labelFontSize\": 15}}, \"hconcat\": [{\"mark\": \"bar\", \"encoding\": {\"color\": {\"type\": \"nominal\", \"field\": \"kind\"}, \"tooltip\": {\"type\": \"nominal\", \"field\": \"kind\"}, \"x\": {\"type\": \"nominal\", \"field\": \"repo\"}, \"y\": {\"type\": \"quantitative\", \"field\": \"count\"}}, \"title\": \"Activity per repository\", \"width\": 600}, {\"mark\": \"bar\", \"encoding\": {\"color\": {\"type\": \"nominal\", \"field\": \"kind\"}, \"tooltip\": {\"type\": \"nominal\", \"field\": \"kind\"}, \"x\": {\"type\": \"nominal\", \"field\": \"repo\"}, \"y\": {\"type\": \"quantitative\", \"field\": \"logcount\"}}, \"title\": \"Log activity per repository\", \"width\": 600}], \"data\": {\"name\": \"data-a2cc210495fe36af84bfde2116b89f4b\"}, \"$schema\": \"https://vega.github.io/schema/vega-lite/v4.8.1.json\", \"datasets\": {\"data-a2cc210495fe36af84bfde2116b89f4b\": [{\"repo\": \"MyST-Parser\", \"kind\": \"comments\", \"count\": 2, \"logcount\": 0.6931471805599453}, {\"repo\": \"MyST-Parser\", \"kind\": \"issues\", \"count\": 1, \"logcount\": 0.0}, {\"repo\": \"action-k3s-helm\", \"kind\": \"comments\", \"count\": 18, \"logcount\": 2.8903717578961645}, {\"repo\": \"action-k3s-helm\", \"kind\": \"issues\", \"count\": 6, \"logcount\": 1.791759469228055}, {\"repo\": \"action-k3s-helm\", \"kind\": \"prs\", \"count\": 13, \"logcount\": 2.5649493574615367}, {\"repo\": \"action-k8s-await-workloads\", \"kind\": \"comments\", \"count\": 4, \"logcount\": 1.3862943611198906}, {\"repo\": \"action-k8s-await-workloads\", \"kind\": \"issues\", \"count\": 2, \"logcount\": 0.6931471805599453}, {\"repo\": \"action-k8s-namespace-report\", \"kind\": \"comments\", \"count\": 3, \"logcount\": 1.0986122886681098}, {\"repo\": \"action-k8s-namespace-report\", \"kind\": \"issues\", \"count\": 3, \"logcount\": 1.0986122886681098}, {\"repo\": \"batchspawner\", \"kind\": \"comments\", \"count\": 8, \"logcount\": 2.0794415416798357}, {\"repo\": \"batchspawner\", \"kind\": \"prs\", \"count\": 1, \"logcount\": 0.0}, {\"repo\": \"binderhub\", \"kind\": \"comments\", \"count\": 19, \"logcount\": 2.9444389791664403}, {\"repo\": \"binderhub\", \"kind\": \"issues\", \"count\": 3, \"logcount\": 1.0986122886681098}, {\"repo\": \"binderhub\", \"kind\": \"prs\", \"count\": 12, \"logcount\": 2.4849066497880004}, {\"repo\": \"chartpress\", \"kind\": \"comments\", \"count\": 5, \"logcount\": 1.6094379124341003}, {\"repo\": \"chartpress\", \"kind\": \"issues\", \"count\": 4, \"logcount\": 1.3862943611198906}, {\"repo\": \"chartpress\", \"kind\": \"prs\", \"count\": 3, \"logcount\": 1.0986122886681098}, {\"repo\": \"dockerspawner\", \"kind\": \"comments\", \"count\": 7, \"logcount\": 1.9459101490553132}, {\"repo\": \"github-activity\", \"kind\": \"comments\", \"count\": 1, \"logcount\": 0.0}, {\"repo\": \"github-activity\", \"kind\": \"issues\", \"count\": 1, \"logcount\": 0.0}, {\"repo\": \"github-activity\", \"kind\": \"prs\", \"count\": 1, \"logcount\": 0.0}, {\"repo\": \"helm-chart\", \"kind\": \"comments\", \"count\": 4, \"logcount\": 1.3862943611198906}, {\"repo\": \"helm-chart\", \"kind\": \"issues\", \"count\": 2, \"logcount\": 0.6931471805599453}, {\"repo\": \"helm-chart\", \"kind\": \"prs\", \"count\": 4, \"logcount\": 1.3862943611198906}, {\"repo\": \"jupyter-book\", \"kind\": \"comments\", \"count\": 1, \"logcount\": 0.0}, {\"repo\": \"jupyter-book\", \"kind\": \"issues\", \"count\": 1, \"logcount\": 0.0}, {\"repo\": \"jupyter-server-proxy\", \"kind\": \"comments\", \"count\": 5, \"logcount\": 1.6094379124341003}, {\"repo\": \"jupyter-server-proxy\", \"kind\": \"issues\", \"count\": 1, \"logcount\": 0.0}, {\"repo\": \"jupyterhub\", \"kind\": \"comments\", \"count\": 10, \"logcount\": 2.302585092994046}, {\"repo\": \"jupyterhub\", \"kind\": \"issues\", \"count\": 2, \"logcount\": 0.6931471805599453}, {\"repo\": \"jupyterhub\", \"kind\": \"prs\", \"count\": 2, \"logcount\": 0.6931471805599453}, {\"repo\": \"jupyterhub-idle-culler\", \"kind\": \"comments\", \"count\": 1, \"logcount\": 0.0}, {\"repo\": \"jupyterhub-idle-culler\", \"kind\": \"prs\", \"count\": 1, \"logcount\": 0.0}, {\"repo\": \"kubespawner\", \"kind\": \"comments\", \"count\": 9, \"logcount\": 2.1972245773362196}, {\"repo\": \"kubespawner\", \"kind\": \"prs\", \"count\": 1, \"logcount\": 0.0}, {\"repo\": \"ldapauthenticator\", \"kind\": \"comments\", \"count\": 1, \"logcount\": 0.0}, {\"repo\": \"ltiauthenticator\", \"kind\": \"comments\", \"count\": 2, \"logcount\": 0.6931471805599453}, {\"repo\": \"mybinder.org-deploy\", \"kind\": \"comments\", \"count\": 37, \"logcount\": 3.6109179126442243}, {\"repo\": \"mybinder.org-deploy\", \"kind\": \"issues\", \"count\": 4, \"logcount\": 1.3862943611198906}, {\"repo\": \"mybinder.org-deploy\", \"kind\": \"prs\", \"count\": 13, \"logcount\": 2.5649493574615367}, {\"repo\": \"nativeauthenticator\", \"kind\": \"comments\", \"count\": 3, \"logcount\": 1.0986122886681098}, {\"repo\": \"nativeauthenticator\", \"kind\": \"issues\", \"count\": 1, \"logcount\": 0.0}, {\"repo\": \"nativeauthenticator\", \"kind\": \"prs\", \"count\": 4, \"logcount\": 1.3862943611198906}, {\"repo\": \"nbgitpuller\", \"kind\": \"comments\", \"count\": 5, \"logcount\": 1.6094379124341003}, {\"repo\": \"nbgitpuller\", \"kind\": \"issues\", \"count\": 1, \"logcount\": 0.0}, {\"repo\": \"oauthenticator\", \"kind\": \"comments\", \"count\": 6, \"logcount\": 1.791759469228055}, {\"repo\": \"oauthenticator\", \"kind\": \"prs\", \"count\": 1, \"logcount\": 0.0}, {\"repo\": \"pebble-helm-chart\", \"kind\": \"comments\", \"count\": 1, \"logcount\": 0.0}, {\"repo\": \"rst-to-myst\", \"kind\": \"comments\", \"count\": 1, \"logcount\": 0.0}, {\"repo\": \"rst-to-myst\", \"kind\": \"issues\", \"count\": 1, \"logcount\": 0.0}, {\"repo\": \"team-compass\", \"kind\": \"comments\", \"count\": 4, \"logcount\": 1.3862943611198906}, {\"repo\": \"team-compass\", \"kind\": \"issues\", \"count\": 3, \"logcount\": 1.0986122886681098}, {\"repo\": \"traefik-proxy\", \"kind\": \"prs\", \"count\": 1, \"logcount\": 0.0}, {\"repo\": \"zero-to-jupyterhub-k8s\", \"kind\": \"comments\", \"count\": 139, \"logcount\": 4.934473933130692}, {\"repo\": \"zero-to-jupyterhub-k8s\", \"kind\": \"issues\", \"count\": 20, \"logcount\": 2.995732273553991}, {\"repo\": \"zero-to-jupyterhub-k8s\", \"kind\": \"prs\", \"count\": 56, \"logcount\": 4.02535169073515}]}}, {\"mode\": \"vega-lite\"});\n",
       "</script>"
      ],
      "text/plain": [
       "alt.HConcatChart(...)"
      ]
     },
     "execution_count": 11,
     "metadata": {},
     "output_type": "execute_result"
    }
   ],
   "source": [
    "ch1 = alt.Chart(repo_summaries, width=600, title=\"Activity per repository\").mark_bar().encode(\n",
    "    x='repo',\n",
    "    y='count',\n",
    "    color='kind',\n",
    "    tooltip=\"kind\"\n",
    ")\n",
    "\n",
    "ch2 = alt.Chart(repo_summaries, width=600, title=\"Log activity per repository\").mark_bar().encode(\n",
    "    x='repo',\n",
    "    y='logcount',\n",
    "    color='kind',\n",
    "    tooltip=\"kind\"\n",
    ")\n",
    "\n",
    "ch1 | ch2"
   ]
  },
  {
   "cell_type": "code",
   "execution_count": 12,
   "id": "seven-persian",
   "metadata": {
    "execution": {
     "iopub.execute_input": "2021-02-02T01:57:36.670926Z",
     "iopub.status.busy": "2021-02-02T01:57:36.662998Z",
     "iopub.status.idle": "2021-02-02T01:57:36.673055Z",
     "shell.execute_reply": "2021-02-02T01:57:36.673487Z"
    },
    "papermill": {
     "duration": 0.044795,
     "end_time": "2021-02-02T01:57:36.673650",
     "exception": false,
     "start_time": "2021-02-02T01:57:36.628855",
     "status": "completed"
    },
    "tags": [
     "hide_input"
    ]
   },
   "outputs": [
    {
     "data": {
      "text/html": [
       "\n",
       "<div id=\"altair-viz-d3b728893a4246d0bd6717251bfcfe0a\"></div>\n",
       "<script type=\"text/javascript\">\n",
       "  (function(spec, embedOpt){\n",
       "    let outputDiv = document.currentScript.previousElementSibling;\n",
       "    if (outputDiv.id !== \"altair-viz-d3b728893a4246d0bd6717251bfcfe0a\") {\n",
       "      outputDiv = document.getElementById(\"altair-viz-d3b728893a4246d0bd6717251bfcfe0a\");\n",
       "    }\n",
       "    const paths = {\n",
       "      \"vega\": \"https://cdn.jsdelivr.net/npm//vega@5?noext\",\n",
       "      \"vega-lib\": \"https://cdn.jsdelivr.net/npm//vega-lib?noext\",\n",
       "      \"vega-lite\": \"https://cdn.jsdelivr.net/npm//vega-lite@4.8.1?noext\",\n",
       "      \"vega-embed\": \"https://cdn.jsdelivr.net/npm//vega-embed@6?noext\",\n",
       "    };\n",
       "\n",
       "    function loadScript(lib) {\n",
       "      return new Promise(function(resolve, reject) {\n",
       "        var s = document.createElement('script');\n",
       "        s.src = paths[lib];\n",
       "        s.async = true;\n",
       "        s.onload = () => resolve(paths[lib]);\n",
       "        s.onerror = () => reject(`Error loading script: ${paths[lib]}`);\n",
       "        document.getElementsByTagName(\"head\")[0].appendChild(s);\n",
       "      });\n",
       "    }\n",
       "\n",
       "    function showError(err) {\n",
       "      outputDiv.innerHTML = `<div class=\"error\" style=\"color:red;\">${err}</div>`;\n",
       "      throw err;\n",
       "    }\n",
       "\n",
       "    function displayChart(vegaEmbed) {\n",
       "      vegaEmbed(outputDiv, spec, embedOpt)\n",
       "        .catch(err => showError(`Javascript Error: ${err.message}<br>This usually means there's a typo in your chart specification. See the javascript console for the full traceback.`));\n",
       "    }\n",
       "\n",
       "    if(typeof define === \"function\" && define.amd) {\n",
       "      requirejs.config({paths});\n",
       "      require([\"vega-embed\"], displayChart, err => showError(`Error loading script: ${err.message}`));\n",
       "    } else if (typeof vegaEmbed === \"function\") {\n",
       "      displayChart(vegaEmbed);\n",
       "    } else {\n",
       "      loadScript(\"vega\")\n",
       "        .then(() => loadScript(\"vega-lite\"))\n",
       "        .then(() => loadScript(\"vega-embed\"))\n",
       "        .catch(showError)\n",
       "        .then(() => displayChart(vegaEmbed));\n",
       "    }\n",
       "  })({\"config\": {\"axisLeft\": {\"labelFontSize\": 15}, \"axisBottom\": {\"labelFontSize\": 15}}, \"data\": {\"name\": \"data-7d9a6325745271284c03e870ff25a28c\"}, \"mark\": \"bar\", \"encoding\": {\"color\": {\"type\": \"nominal\", \"field\": \"kind\"}, \"tooltip\": {\"type\": \"nominal\", \"field\": \"org\"}, \"x\": {\"type\": \"nominal\", \"field\": \"org\"}, \"y\": {\"type\": \"quantitative\", \"field\": \"count\"}}, \"width\": 600, \"$schema\": \"https://vega.github.io/schema/vega-lite/v4.8.1.json\", \"datasets\": {\"data-7d9a6325745271284c03e870ff25a28c\": [{\"org\": \"executablebooks\", \"kind\": \"comments\", \"count\": 5}, {\"org\": \"executablebooks\", \"kind\": \"issues\", \"count\": 4}, {\"org\": \"executablebooks\", \"kind\": \"prs\", \"count\": 1}, {\"org\": \"jupyterhub\", \"kind\": \"comments\", \"count\": 291}, {\"org\": \"jupyterhub\", \"kind\": \"issues\", \"count\": 52}, {\"org\": \"jupyterhub\", \"kind\": \"prs\", \"count\": 112}]}}, {\"mode\": \"vega-lite\"});\n",
       "</script>"
      ],
      "text/plain": [
       "alt.Chart(...)"
      ]
     },
     "execution_count": 12,
     "metadata": {},
     "output_type": "execute_result"
    }
   ],
   "source": [
    "alt.Chart(org_summaries, width=600).mark_bar().encode(\n",
    "    x='org',\n",
    "    y='count',\n",
    "    color='kind',\n",
    "    tooltip=\"org\"\n",
    ")"
   ]
  },
  {
   "cell_type": "markdown",
   "id": "simple-employment",
   "metadata": {
    "papermill": {
     "duration": 0.014983,
     "end_time": "2021-02-02T01:57:36.704408",
     "exception": false,
     "start_time": "2021-02-02T01:57:36.689425",
     "status": "completed"
    },
    "tags": []
   },
   "source": [
    "## By repository over time"
   ]
  },
  {
   "cell_type": "markdown",
   "id": "necessary-breakdown",
   "metadata": {
    "papermill": {
     "duration": 0.015135,
     "end_time": "2021-02-02T01:57:36.735611",
     "exception": false,
     "start_time": "2021-02-02T01:57:36.720476",
     "status": "completed"
    },
    "tags": []
   },
   "source": [
    "### Comments"
   ]
  },
  {
   "cell_type": "code",
   "execution_count": 13,
   "id": "respective-pizza",
   "metadata": {
    "execution": {
     "iopub.execute_input": "2021-02-02T01:57:36.772259Z",
     "iopub.status.busy": "2021-02-02T01:57:36.771667Z",
     "iopub.status.idle": "2021-02-02T01:57:36.886196Z",
     "shell.execute_reply": "2021-02-02T01:57:36.887022Z"
    },
    "papermill": {
     "duration": 0.135009,
     "end_time": "2021-02-02T01:57:36.887355",
     "exception": false,
     "start_time": "2021-02-02T01:57:36.752346",
     "status": "completed"
    },
    "tags": [
     "hide_input"
    ]
   },
   "outputs": [
    {
     "data": {
      "text/html": [
       "\n",
       "<div id=\"altair-viz-8b25194bfc464db08a7a43a654a2dbb3\"></div>\n",
       "<script type=\"text/javascript\">\n",
       "  (function(spec, embedOpt){\n",
       "    let outputDiv = document.currentScript.previousElementSibling;\n",
       "    if (outputDiv.id !== \"altair-viz-8b25194bfc464db08a7a43a654a2dbb3\") {\n",
       "      outputDiv = document.getElementById(\"altair-viz-8b25194bfc464db08a7a43a654a2dbb3\");\n",
       "    }\n",
       "    const paths = {\n",
       "      \"vega\": \"https://cdn.jsdelivr.net/npm//vega@5?noext\",\n",
       "      \"vega-lib\": \"https://cdn.jsdelivr.net/npm//vega-lib?noext\",\n",
       "      \"vega-lite\": \"https://cdn.jsdelivr.net/npm//vega-lite@4.8.1?noext\",\n",
       "      \"vega-embed\": \"https://cdn.jsdelivr.net/npm//vega-embed@6?noext\",\n",
       "    };\n",
       "\n",
       "    function loadScript(lib) {\n",
       "      return new Promise(function(resolve, reject) {\n",
       "        var s = document.createElement('script');\n",
       "        s.src = paths[lib];\n",
       "        s.async = true;\n",
       "        s.onload = () => resolve(paths[lib]);\n",
       "        s.onerror = () => reject(`Error loading script: ${paths[lib]}`);\n",
       "        document.getElementsByTagName(\"head\")[0].appendChild(s);\n",
       "      });\n",
       "    }\n",
       "\n",
       "    function showError(err) {\n",
       "      outputDiv.innerHTML = `<div class=\"error\" style=\"color:red;\">${err}</div>`;\n",
       "      throw err;\n",
       "    }\n",
       "\n",
       "    function displayChart(vegaEmbed) {\n",
       "      vegaEmbed(outputDiv, spec, embedOpt)\n",
       "        .catch(err => showError(`Javascript Error: ${err.message}<br>This usually means there's a typo in your chart specification. See the javascript console for the full traceback.`));\n",
       "    }\n",
       "\n",
       "    if(typeof define === \"function\" && define.amd) {\n",
       "      requirejs.config({paths});\n",
       "      require([\"vega-embed\"], displayChart, err => showError(`Error loading script: ${err.message}`));\n",
       "    } else if (typeof vegaEmbed === \"function\") {\n",
       "      displayChart(vegaEmbed);\n",
       "    } else {\n",
       "      loadScript(\"vega\")\n",
       "        .then(() => loadScript(\"vega-lite\"))\n",
       "        .then(() => loadScript(\"vega-embed\"))\n",
       "        .catch(showError)\n",
       "        .then(() => displayChart(vegaEmbed));\n",
       "    }\n",
       "  })({\"config\": {\"axisLeft\": {\"labelFontSize\": 15}, \"axisBottom\": {\"labelFontSize\": 15}}, \"layer\": [{\"data\": {\"name\": \"data-405365d424d478535fbcb07affaf025f\"}, \"mark\": \"line\", \"encoding\": {\"color\": {\"type\": \"nominal\", \"field\": \"repo\"}, \"tooltip\": {\"type\": \"nominal\", \"field\": \"repo\"}, \"x\": {\"type\": \"temporal\", \"field\": \"createdAt\"}, \"y\": {\"type\": \"quantitative\", \"field\": \"count\"}}, \"width\": 600}, {\"data\": {\"name\": \"data-60e9bb810d8a1f03ad8d88623f9de038\"}, \"mark\": {\"type\": \"line\", \"color\": \"black\"}, \"encoding\": {\"x\": {\"type\": \"temporal\", \"field\": \"createdAt\"}, \"y\": {\"type\": \"quantitative\", \"field\": \"count\"}}, \"width\": 600}], \"$schema\": \"https://vega.github.io/schema/vega-lite/v4.8.1.json\", \"datasets\": {\"data-405365d424d478535fbcb07affaf025f\": [{\"repo\": \"MyST-Parser\", \"createdAt\": \"2021-01-03T00:00:00\", \"count\": 1}, {\"repo\": \"MyST-Parser\", \"createdAt\": \"2021-01-10T00:00:00\", \"count\": 0}, {\"repo\": \"MyST-Parser\", \"createdAt\": \"2021-01-17T00:00:00\", \"count\": 0}, {\"repo\": \"MyST-Parser\", \"createdAt\": \"2021-01-24T00:00:00\", \"count\": 1}, {\"repo\": \"action-k3s-helm\", \"createdAt\": \"2020-12-13T00:00:00\", \"count\": 1}, {\"repo\": \"action-k3s-helm\", \"createdAt\": \"2020-12-20T00:00:00\", \"count\": 0}, {\"repo\": \"action-k3s-helm\", \"createdAt\": \"2020-12-27T00:00:00\", \"count\": 0}, {\"repo\": \"action-k3s-helm\", \"createdAt\": \"2021-01-03T00:00:00\", \"count\": 4}, {\"repo\": \"action-k3s-helm\", \"createdAt\": \"2021-01-10T00:00:00\", \"count\": 0}, {\"repo\": \"action-k3s-helm\", \"createdAt\": \"2021-01-17T00:00:00\", \"count\": 12}, {\"repo\": \"action-k3s-helm\", \"createdAt\": \"2021-01-24T00:00:00\", \"count\": 1}, {\"repo\": \"action-k8s-await-workloads\", \"createdAt\": \"2021-01-31T00:00:00\", \"count\": 4}, {\"repo\": \"action-k8s-namespace-report\", \"createdAt\": \"2021-01-17T00:00:00\", \"count\": 3}, {\"repo\": \"batchspawner\", \"createdAt\": \"2021-01-31T00:00:00\", \"count\": 8}, {\"repo\": \"binderhub\", \"createdAt\": \"2020-12-13T00:00:00\", \"count\": 3}, {\"repo\": \"binderhub\", \"createdAt\": \"2020-12-20T00:00:00\", \"count\": 0}, {\"repo\": \"binderhub\", \"createdAt\": \"2020-12-27T00:00:00\", \"count\": 3}, {\"repo\": \"binderhub\", \"createdAt\": \"2021-01-03T00:00:00\", \"count\": 0}, {\"repo\": \"binderhub\", \"createdAt\": \"2021-01-10T00:00:00\", \"count\": 8}, {\"repo\": \"binderhub\", \"createdAt\": \"2021-01-17T00:00:00\", \"count\": 0}, {\"repo\": \"binderhub\", \"createdAt\": \"2021-01-24T00:00:00\", \"count\": 5}, {\"repo\": \"chartpress\", \"createdAt\": \"2020-12-06T00:00:00\", \"count\": 2}, {\"repo\": \"chartpress\", \"createdAt\": \"2020-12-13T00:00:00\", \"count\": 1}, {\"repo\": \"chartpress\", \"createdAt\": \"2020-12-20T00:00:00\", \"count\": 1}, {\"repo\": \"chartpress\", \"createdAt\": \"2020-12-27T00:00:00\", \"count\": 0}, {\"repo\": \"chartpress\", \"createdAt\": \"2021-01-03T00:00:00\", \"count\": 0}, {\"repo\": \"chartpress\", \"createdAt\": \"2021-01-10T00:00:00\", \"count\": 0}, {\"repo\": \"chartpress\", \"createdAt\": \"2021-01-17T00:00:00\", \"count\": 0}, {\"repo\": \"chartpress\", \"createdAt\": \"2021-01-24T00:00:00\", \"count\": 0}, {\"repo\": \"chartpress\", \"createdAt\": \"2021-01-31T00:00:00\", \"count\": 1}, {\"repo\": \"dockerspawner\", \"createdAt\": \"2020-12-20T00:00:00\", \"count\": 7}, {\"repo\": \"github-activity\", \"createdAt\": \"2020-12-13T00:00:00\", \"count\": 1}, {\"repo\": \"helm-chart\", \"createdAt\": \"2021-01-03T00:00:00\", \"count\": 1}, {\"repo\": \"helm-chart\", \"createdAt\": \"2021-01-10T00:00:00\", \"count\": 0}, {\"repo\": \"helm-chart\", \"createdAt\": \"2021-01-17T00:00:00\", \"count\": 0}, {\"repo\": \"helm-chart\", \"createdAt\": \"2021-01-24T00:00:00\", \"count\": 0}, {\"repo\": \"helm-chart\", \"createdAt\": \"2021-01-31T00:00:00\", \"count\": 3}, {\"repo\": \"jupyter-book\", \"createdAt\": \"2020-12-13T00:00:00\", \"count\": 1}, {\"repo\": \"jupyter-server-proxy\", \"createdAt\": \"2021-01-10T00:00:00\", \"count\": 2}, {\"repo\": \"jupyter-server-proxy\", \"createdAt\": \"2021-01-17T00:00:00\", \"count\": 3}, {\"repo\": \"jupyterhub\", \"createdAt\": \"2020-12-13T00:00:00\", \"count\": 2}, {\"repo\": \"jupyterhub\", \"createdAt\": \"2020-12-20T00:00:00\", \"count\": 0}, {\"repo\": \"jupyterhub\", \"createdAt\": \"2020-12-27T00:00:00\", \"count\": 2}, {\"repo\": \"jupyterhub\", \"createdAt\": \"2021-01-03T00:00:00\", \"count\": 1}, {\"repo\": \"jupyterhub\", \"createdAt\": \"2021-01-10T00:00:00\", \"count\": 3}, {\"repo\": \"jupyterhub\", \"createdAt\": \"2021-01-17T00:00:00\", \"count\": 0}, {\"repo\": \"jupyterhub\", \"createdAt\": \"2021-01-24T00:00:00\", \"count\": 0}, {\"repo\": \"jupyterhub\", \"createdAt\": \"2021-01-31T00:00:00\", \"count\": 2}, {\"repo\": \"jupyterhub-idle-culler\", \"createdAt\": \"2021-01-31T00:00:00\", \"count\": 1}, {\"repo\": \"kubespawner\", \"createdAt\": \"2020-12-20T00:00:00\", \"count\": 2}, {\"repo\": \"kubespawner\", \"createdAt\": \"2020-12-27T00:00:00\", \"count\": 2}, {\"repo\": \"kubespawner\", \"createdAt\": \"2021-01-03T00:00:00\", \"count\": 0}, {\"repo\": \"kubespawner\", \"createdAt\": \"2021-01-10T00:00:00\", \"count\": 4}, {\"repo\": \"kubespawner\", \"createdAt\": \"2021-01-17T00:00:00\", \"count\": 0}, {\"repo\": \"kubespawner\", \"createdAt\": \"2021-01-24T00:00:00\", \"count\": 1}, {\"repo\": \"ldapauthenticator\", \"createdAt\": \"2020-12-13T00:00:00\", \"count\": 1}, {\"repo\": \"ltiauthenticator\", \"createdAt\": \"2020-12-06T00:00:00\", \"count\": 2}, {\"repo\": \"mybinder.org-deploy\", \"createdAt\": \"2020-12-06T00:00:00\", \"count\": 10}, {\"repo\": \"mybinder.org-deploy\", \"createdAt\": \"2020-12-13T00:00:00\", \"count\": 4}, {\"repo\": \"mybinder.org-deploy\", \"createdAt\": \"2020-12-20T00:00:00\", \"count\": 2}, {\"repo\": \"mybinder.org-deploy\", \"createdAt\": \"2020-12-27T00:00:00\", \"count\": 4}, {\"repo\": \"mybinder.org-deploy\", \"createdAt\": \"2021-01-03T00:00:00\", \"count\": 2}, {\"repo\": \"mybinder.org-deploy\", \"createdAt\": \"2021-01-10T00:00:00\", \"count\": 7}, {\"repo\": \"mybinder.org-deploy\", \"createdAt\": \"2021-01-17T00:00:00\", \"count\": 0}, {\"repo\": \"mybinder.org-deploy\", \"createdAt\": \"2021-01-24T00:00:00\", \"count\": 6}, {\"repo\": \"mybinder.org-deploy\", \"createdAt\": \"2021-01-31T00:00:00\", \"count\": 0}, {\"repo\": \"mybinder.org-deploy\", \"createdAt\": \"2021-02-07T00:00:00\", \"count\": 2}, {\"repo\": \"nativeauthenticator\", \"createdAt\": \"2021-01-31T00:00:00\", \"count\": 3}, {\"repo\": \"nbgitpuller\", \"createdAt\": \"2020-12-13T00:00:00\", \"count\": 1}, {\"repo\": \"nbgitpuller\", \"createdAt\": \"2020-12-20T00:00:00\", \"count\": 1}, {\"repo\": \"nbgitpuller\", \"createdAt\": \"2020-12-27T00:00:00\", \"count\": 0}, {\"repo\": \"nbgitpuller\", \"createdAt\": \"2021-01-03T00:00:00\", \"count\": 0}, {\"repo\": \"nbgitpuller\", \"createdAt\": \"2021-01-10T00:00:00\", \"count\": 3}, {\"repo\": \"oauthenticator\", \"createdAt\": \"2020-12-06T00:00:00\", \"count\": 2}, {\"repo\": \"oauthenticator\", \"createdAt\": \"2020-12-13T00:00:00\", \"count\": 2}, {\"repo\": \"oauthenticator\", \"createdAt\": \"2020-12-20T00:00:00\", \"count\": 0}, {\"repo\": \"oauthenticator\", \"createdAt\": \"2020-12-27T00:00:00\", \"count\": 0}, {\"repo\": \"oauthenticator\", \"createdAt\": \"2021-01-03T00:00:00\", \"count\": 0}, {\"repo\": \"oauthenticator\", \"createdAt\": \"2021-01-10T00:00:00\", \"count\": 0}, {\"repo\": \"oauthenticator\", \"createdAt\": \"2021-01-17T00:00:00\", \"count\": 0}, {\"repo\": \"oauthenticator\", \"createdAt\": \"2021-01-24T00:00:00\", \"count\": 0}, {\"repo\": \"oauthenticator\", \"createdAt\": \"2021-01-31T00:00:00\", \"count\": 0}, {\"repo\": \"oauthenticator\", \"createdAt\": \"2021-02-07T00:00:00\", \"count\": 2}, {\"repo\": \"pebble-helm-chart\", \"createdAt\": \"2020-12-13T00:00:00\", \"count\": 1}, {\"repo\": \"rst-to-myst\", \"createdAt\": \"2021-01-10T00:00:00\", \"count\": 1}, {\"repo\": \"team-compass\", \"createdAt\": \"2020-12-13T00:00:00\", \"count\": 1}, {\"repo\": \"team-compass\", \"createdAt\": \"2020-12-20T00:00:00\", \"count\": 0}, {\"repo\": \"team-compass\", \"createdAt\": \"2020-12-27T00:00:00\", \"count\": 0}, {\"repo\": \"team-compass\", \"createdAt\": \"2021-01-03T00:00:00\", \"count\": 0}, {\"repo\": \"team-compass\", \"createdAt\": \"2021-01-10T00:00:00\", \"count\": 0}, {\"repo\": \"team-compass\", \"createdAt\": \"2021-01-17T00:00:00\", \"count\": 2}, {\"repo\": \"team-compass\", \"createdAt\": \"2021-01-24T00:00:00\", \"count\": 1}, {\"repo\": \"zero-to-jupyterhub-k8s\", \"createdAt\": \"2020-10-11T00:00:00\", \"count\": 1}, {\"repo\": \"zero-to-jupyterhub-k8s\", \"createdAt\": \"2020-10-18T00:00:00\", \"count\": 0}, {\"repo\": \"zero-to-jupyterhub-k8s\", \"createdAt\": \"2020-10-25T00:00:00\", \"count\": 0}, {\"repo\": \"zero-to-jupyterhub-k8s\", \"createdAt\": \"2020-11-01T00:00:00\", \"count\": 0}, {\"repo\": \"zero-to-jupyterhub-k8s\", \"createdAt\": \"2020-11-08T00:00:00\", \"count\": 0}, {\"repo\": \"zero-to-jupyterhub-k8s\", \"createdAt\": \"2020-11-15T00:00:00\", \"count\": 0}, {\"repo\": \"zero-to-jupyterhub-k8s\", \"createdAt\": \"2020-11-22T00:00:00\", \"count\": 0}, {\"repo\": \"zero-to-jupyterhub-k8s\", \"createdAt\": \"2020-11-29T00:00:00\", \"count\": 0}, {\"repo\": \"zero-to-jupyterhub-k8s\", \"createdAt\": \"2020-12-06T00:00:00\", \"count\": 0}, {\"repo\": \"zero-to-jupyterhub-k8s\", \"createdAt\": \"2020-12-13T00:00:00\", \"count\": 20}, {\"repo\": \"zero-to-jupyterhub-k8s\", \"createdAt\": \"2020-12-20T00:00:00\", \"count\": 18}, {\"repo\": \"zero-to-jupyterhub-k8s\", \"createdAt\": \"2020-12-27T00:00:00\", \"count\": 16}, {\"repo\": \"zero-to-jupyterhub-k8s\", \"createdAt\": \"2021-01-03T00:00:00\", \"count\": 4}, {\"repo\": \"zero-to-jupyterhub-k8s\", \"createdAt\": \"2021-01-10T00:00:00\", \"count\": 4}, {\"repo\": \"zero-to-jupyterhub-k8s\", \"createdAt\": \"2021-01-17T00:00:00\", \"count\": 30}, {\"repo\": \"zero-to-jupyterhub-k8s\", \"createdAt\": \"2021-01-24T00:00:00\", \"count\": 24}, {\"repo\": \"zero-to-jupyterhub-k8s\", \"createdAt\": \"2021-01-31T00:00:00\", \"count\": 22}], \"data-60e9bb810d8a1f03ad8d88623f9de038\": [{\"createdAt\": \"2020-10-11T00:00:00\", \"count\": 1}, {\"createdAt\": \"2020-10-18T00:00:00\", \"count\": 0}, {\"createdAt\": \"2020-10-25T00:00:00\", \"count\": 0}, {\"createdAt\": \"2020-11-01T00:00:00\", \"count\": 0}, {\"createdAt\": \"2020-11-08T00:00:00\", \"count\": 0}, {\"createdAt\": \"2020-11-15T00:00:00\", \"count\": 0}, {\"createdAt\": \"2020-11-22T00:00:00\", \"count\": 0}, {\"createdAt\": \"2020-11-29T00:00:00\", \"count\": 0}, {\"createdAt\": \"2020-12-06T00:00:00\", \"count\": 16}, {\"createdAt\": \"2020-12-13T00:00:00\", \"count\": 39}, {\"createdAt\": \"2020-12-20T00:00:00\", \"count\": 31}, {\"createdAt\": \"2020-12-27T00:00:00\", \"count\": 27}, {\"createdAt\": \"2021-01-03T00:00:00\", \"count\": 13}, {\"createdAt\": \"2021-01-10T00:00:00\", \"count\": 32}, {\"createdAt\": \"2021-01-17T00:00:00\", \"count\": 50}, {\"createdAt\": \"2021-01-24T00:00:00\", \"count\": 39}, {\"createdAt\": \"2021-01-31T00:00:00\", \"count\": 44}, {\"createdAt\": \"2021-02-07T00:00:00\", \"count\": 4}]}}, {\"mode\": \"vega-lite\"});\n",
       "</script>"
      ],
      "text/plain": [
       "alt.LayerChart(...)"
      ]
     },
     "execution_count": 13,
     "metadata": {},
     "output_type": "execute_result"
    }
   ],
   "source": [
    "comments_time = comments.groupby('repo').resample('W', on='createdAt').count()['author'].reset_index()\n",
    "comments_time = comments_time.rename(columns={'author': 'count'})\n",
    "comments_time_total = comments_time.groupby('createdAt').agg({\"count\": \"sum\"}).reset_index()\n",
    "ch1 = alt.Chart(comments_time, width=600).mark_line().encode(\n",
    "    x='createdAt',\n",
    "    y='count',\n",
    "    color='repo',\n",
    "    tooltip=\"repo\"\n",
    ")\n",
    "\n",
    "ch2 = alt.Chart(comments_time_total, width=600).mark_line(color=\"black\").encode(\n",
    "    x='createdAt',\n",
    "    y='count',\n",
    ")\n",
    "\n",
    "ch1 + ch2"
   ]
  },
  {
   "cell_type": "markdown",
   "id": "streaming-aquatic",
   "metadata": {
    "papermill": {
     "duration": 0.016491,
     "end_time": "2021-02-02T01:57:36.920471",
     "exception": false,
     "start_time": "2021-02-02T01:57:36.903980",
     "status": "completed"
    },
    "tags": []
   },
   "source": [
    "### PRs"
   ]
  },
  {
   "cell_type": "code",
   "execution_count": 14,
   "id": "organizational-numbers",
   "metadata": {
    "execution": {
     "iopub.execute_input": "2021-02-02T01:57:36.959058Z",
     "iopub.status.busy": "2021-02-02T01:57:36.958466Z",
     "iopub.status.idle": "2021-02-02T01:57:37.040996Z",
     "shell.execute_reply": "2021-02-02T01:57:37.040565Z"
    },
    "papermill": {
     "duration": 0.103214,
     "end_time": "2021-02-02T01:57:37.041153",
     "exception": false,
     "start_time": "2021-02-02T01:57:36.937939",
     "status": "completed"
    },
    "tags": [
     "hide_input"
    ]
   },
   "outputs": [
    {
     "data": {
      "text/html": [
       "\n",
       "<div id=\"altair-viz-c3313cea61d044f6baaebad79f372353\"></div>\n",
       "<script type=\"text/javascript\">\n",
       "  (function(spec, embedOpt){\n",
       "    let outputDiv = document.currentScript.previousElementSibling;\n",
       "    if (outputDiv.id !== \"altair-viz-c3313cea61d044f6baaebad79f372353\") {\n",
       "      outputDiv = document.getElementById(\"altair-viz-c3313cea61d044f6baaebad79f372353\");\n",
       "    }\n",
       "    const paths = {\n",
       "      \"vega\": \"https://cdn.jsdelivr.net/npm//vega@5?noext\",\n",
       "      \"vega-lib\": \"https://cdn.jsdelivr.net/npm//vega-lib?noext\",\n",
       "      \"vega-lite\": \"https://cdn.jsdelivr.net/npm//vega-lite@4.8.1?noext\",\n",
       "      \"vega-embed\": \"https://cdn.jsdelivr.net/npm//vega-embed@6?noext\",\n",
       "    };\n",
       "\n",
       "    function loadScript(lib) {\n",
       "      return new Promise(function(resolve, reject) {\n",
       "        var s = document.createElement('script');\n",
       "        s.src = paths[lib];\n",
       "        s.async = true;\n",
       "        s.onload = () => resolve(paths[lib]);\n",
       "        s.onerror = () => reject(`Error loading script: ${paths[lib]}`);\n",
       "        document.getElementsByTagName(\"head\")[0].appendChild(s);\n",
       "      });\n",
       "    }\n",
       "\n",
       "    function showError(err) {\n",
       "      outputDiv.innerHTML = `<div class=\"error\" style=\"color:red;\">${err}</div>`;\n",
       "      throw err;\n",
       "    }\n",
       "\n",
       "    function displayChart(vegaEmbed) {\n",
       "      vegaEmbed(outputDiv, spec, embedOpt)\n",
       "        .catch(err => showError(`Javascript Error: ${err.message}<br>This usually means there's a typo in your chart specification. See the javascript console for the full traceback.`));\n",
       "    }\n",
       "\n",
       "    if(typeof define === \"function\" && define.amd) {\n",
       "      requirejs.config({paths});\n",
       "      require([\"vega-embed\"], displayChart, err => showError(`Error loading script: ${err.message}`));\n",
       "    } else if (typeof vegaEmbed === \"function\") {\n",
       "      displayChart(vegaEmbed);\n",
       "    } else {\n",
       "      loadScript(\"vega\")\n",
       "        .then(() => loadScript(\"vega-lite\"))\n",
       "        .then(() => loadScript(\"vega-embed\"))\n",
       "        .catch(showError)\n",
       "        .then(() => displayChart(vegaEmbed));\n",
       "    }\n",
       "  })({\"config\": {\"axisLeft\": {\"labelFontSize\": 15}, \"axisBottom\": {\"labelFontSize\": 15}}, \"layer\": [{\"data\": {\"name\": \"data-a608f17befbcefe0a972e225515d54d8\"}, \"mark\": \"line\", \"encoding\": {\"color\": {\"type\": \"nominal\", \"field\": \"repo\"}, \"tooltip\": {\"type\": \"nominal\", \"field\": \"repo\"}, \"x\": {\"type\": \"temporal\", \"field\": \"createdAt\"}, \"y\": {\"type\": \"quantitative\", \"field\": \"count\"}}, \"width\": 600}, {\"data\": {\"name\": \"data-603bc7af596df982773cb9c4ea9203c3\"}, \"mark\": {\"type\": \"line\", \"color\": \"black\"}, \"encoding\": {\"x\": {\"type\": \"temporal\", \"field\": \"createdAt\"}, \"y\": {\"type\": \"quantitative\", \"field\": \"count\"}}, \"width\": 600}], \"$schema\": \"https://vega.github.io/schema/vega-lite/v4.8.1.json\", \"datasets\": {\"data-a608f17befbcefe0a972e225515d54d8\": [{\"repo\": \"action-k3s-helm\", \"createdAt\": \"2020-12-27T00:00:00\", \"count\": 2}, {\"repo\": \"action-k3s-helm\", \"createdAt\": \"2021-01-03T00:00:00\", \"count\": 5}, {\"repo\": \"action-k3s-helm\", \"createdAt\": \"2021-01-10T00:00:00\", \"count\": 1}, {\"repo\": \"action-k3s-helm\", \"createdAt\": \"2021-01-17T00:00:00\", \"count\": 5}, {\"repo\": \"batchspawner\", \"createdAt\": \"2021-01-31T00:00:00\", \"count\": 1}, {\"repo\": \"binderhub\", \"createdAt\": \"2020-11-01T00:00:00\", \"count\": 1}, {\"repo\": \"binderhub\", \"createdAt\": \"2020-11-08T00:00:00\", \"count\": 0}, {\"repo\": \"binderhub\", \"createdAt\": \"2020-11-15T00:00:00\", \"count\": 0}, {\"repo\": \"binderhub\", \"createdAt\": \"2020-11-22T00:00:00\", \"count\": 0}, {\"repo\": \"binderhub\", \"createdAt\": \"2020-11-29T00:00:00\", \"count\": 0}, {\"repo\": \"binderhub\", \"createdAt\": \"2020-12-06T00:00:00\", \"count\": 0}, {\"repo\": \"binderhub\", \"createdAt\": \"2020-12-13T00:00:00\", \"count\": 0}, {\"repo\": \"binderhub\", \"createdAt\": \"2020-12-20T00:00:00\", \"count\": 0}, {\"repo\": \"binderhub\", \"createdAt\": \"2020-12-27T00:00:00\", \"count\": 3}, {\"repo\": \"binderhub\", \"createdAt\": \"2021-01-03T00:00:00\", \"count\": 0}, {\"repo\": \"binderhub\", \"createdAt\": \"2021-01-10T00:00:00\", \"count\": 5}, {\"repo\": \"binderhub\", \"createdAt\": \"2021-01-17T00:00:00\", \"count\": 2}, {\"repo\": \"binderhub\", \"createdAt\": \"2021-01-24T00:00:00\", \"count\": 1}, {\"repo\": \"chartpress\", \"createdAt\": \"2020-12-20T00:00:00\", \"count\": 1}, {\"repo\": \"chartpress\", \"createdAt\": \"2020-12-27T00:00:00\", \"count\": 0}, {\"repo\": \"chartpress\", \"createdAt\": \"2021-01-03T00:00:00\", \"count\": 0}, {\"repo\": \"chartpress\", \"createdAt\": \"2021-01-10T00:00:00\", \"count\": 0}, {\"repo\": \"chartpress\", \"createdAt\": \"2021-01-17T00:00:00\", \"count\": 0}, {\"repo\": \"chartpress\", \"createdAt\": \"2021-01-24T00:00:00\", \"count\": 2}, {\"repo\": \"github-activity\", \"createdAt\": \"2021-01-10T00:00:00\", \"count\": 1}, {\"repo\": \"helm-chart\", \"createdAt\": \"2021-01-24T00:00:00\", \"count\": 1}, {\"repo\": \"helm-chart\", \"createdAt\": \"2021-01-31T00:00:00\", \"count\": 3}, {\"repo\": \"jupyterhub\", \"createdAt\": \"2021-01-10T00:00:00\", \"count\": 1}, {\"repo\": \"jupyterhub\", \"createdAt\": \"2021-01-17T00:00:00\", \"count\": 0}, {\"repo\": \"jupyterhub\", \"createdAt\": \"2021-01-24T00:00:00\", \"count\": 0}, {\"repo\": \"jupyterhub\", \"createdAt\": \"2021-01-31T00:00:00\", \"count\": 1}, {\"repo\": \"jupyterhub-idle-culler\", \"createdAt\": \"2021-01-31T00:00:00\", \"count\": 1}, {\"repo\": \"kubespawner\", \"createdAt\": \"2020-12-20T00:00:00\", \"count\": 1}, {\"repo\": \"mybinder.org-deploy\", \"createdAt\": \"2020-12-06T00:00:00\", \"count\": 10}, {\"repo\": \"mybinder.org-deploy\", \"createdAt\": \"2020-12-13T00:00:00\", \"count\": 2}, {\"repo\": \"mybinder.org-deploy\", \"createdAt\": \"2020-12-20T00:00:00\", \"count\": 0}, {\"repo\": \"mybinder.org-deploy\", \"createdAt\": \"2020-12-27T00:00:00\", \"count\": 0}, {\"repo\": \"mybinder.org-deploy\", \"createdAt\": \"2021-01-03T00:00:00\", \"count\": 0}, {\"repo\": \"mybinder.org-deploy\", \"createdAt\": \"2021-01-10T00:00:00\", \"count\": 1}, {\"repo\": \"nativeauthenticator\", \"createdAt\": \"2021-01-31T00:00:00\", \"count\": 4}, {\"repo\": \"oauthenticator\", \"createdAt\": \"2020-12-06T00:00:00\", \"count\": 1}, {\"repo\": \"traefik-proxy\", \"createdAt\": \"2020-12-06T00:00:00\", \"count\": 1}, {\"repo\": \"zero-to-jupyterhub-k8s\", \"createdAt\": \"2020-10-04T00:00:00\", \"count\": 1}, {\"repo\": \"zero-to-jupyterhub-k8s\", \"createdAt\": \"2020-10-11T00:00:00\", \"count\": 1}, {\"repo\": \"zero-to-jupyterhub-k8s\", \"createdAt\": \"2020-10-18T00:00:00\", \"count\": 0}, {\"repo\": \"zero-to-jupyterhub-k8s\", \"createdAt\": \"2020-10-25T00:00:00\", \"count\": 0}, {\"repo\": \"zero-to-jupyterhub-k8s\", \"createdAt\": \"2020-11-01T00:00:00\", \"count\": 0}, {\"repo\": \"zero-to-jupyterhub-k8s\", \"createdAt\": \"2020-11-08T00:00:00\", \"count\": 0}, {\"repo\": \"zero-to-jupyterhub-k8s\", \"createdAt\": \"2020-11-15T00:00:00\", \"count\": 0}, {\"repo\": \"zero-to-jupyterhub-k8s\", \"createdAt\": \"2020-11-22T00:00:00\", \"count\": 0}, {\"repo\": \"zero-to-jupyterhub-k8s\", \"createdAt\": \"2020-11-29T00:00:00\", \"count\": 1}, {\"repo\": \"zero-to-jupyterhub-k8s\", \"createdAt\": \"2020-12-06T00:00:00\", \"count\": 1}, {\"repo\": \"zero-to-jupyterhub-k8s\", \"createdAt\": \"2020-12-13T00:00:00\", \"count\": 6}, {\"repo\": \"zero-to-jupyterhub-k8s\", \"createdAt\": \"2020-12-20T00:00:00\", \"count\": 4}, {\"repo\": \"zero-to-jupyterhub-k8s\", \"createdAt\": \"2020-12-27T00:00:00\", \"count\": 13}, {\"repo\": \"zero-to-jupyterhub-k8s\", \"createdAt\": \"2021-01-03T00:00:00\", \"count\": 1}, {\"repo\": \"zero-to-jupyterhub-k8s\", \"createdAt\": \"2021-01-10T00:00:00\", \"count\": 4}, {\"repo\": \"zero-to-jupyterhub-k8s\", \"createdAt\": \"2021-01-17T00:00:00\", \"count\": 12}, {\"repo\": \"zero-to-jupyterhub-k8s\", \"createdAt\": \"2021-01-24T00:00:00\", \"count\": 8}, {\"repo\": \"zero-to-jupyterhub-k8s\", \"createdAt\": \"2021-01-31T00:00:00\", \"count\": 4}], \"data-603bc7af596df982773cb9c4ea9203c3\": [{\"createdAt\": \"2020-10-04T00:00:00\", \"count\": 1}, {\"createdAt\": \"2020-10-11T00:00:00\", \"count\": 1}, {\"createdAt\": \"2020-10-18T00:00:00\", \"count\": 0}, {\"createdAt\": \"2020-10-25T00:00:00\", \"count\": 0}, {\"createdAt\": \"2020-11-01T00:00:00\", \"count\": 1}, {\"createdAt\": \"2020-11-08T00:00:00\", \"count\": 0}, {\"createdAt\": \"2020-11-15T00:00:00\", \"count\": 0}, {\"createdAt\": \"2020-11-22T00:00:00\", \"count\": 0}, {\"createdAt\": \"2020-11-29T00:00:00\", \"count\": 1}, {\"createdAt\": \"2020-12-06T00:00:00\", \"count\": 13}, {\"createdAt\": \"2020-12-13T00:00:00\", \"count\": 8}, {\"createdAt\": \"2020-12-20T00:00:00\", \"count\": 6}, {\"createdAt\": \"2020-12-27T00:00:00\", \"count\": 18}, {\"createdAt\": \"2021-01-03T00:00:00\", \"count\": 6}, {\"createdAt\": \"2021-01-10T00:00:00\", \"count\": 13}, {\"createdAt\": \"2021-01-17T00:00:00\", \"count\": 19}, {\"createdAt\": \"2021-01-24T00:00:00\", \"count\": 12}, {\"createdAt\": \"2021-01-31T00:00:00\", \"count\": 14}]}}, {\"mode\": \"vega-lite\"});\n",
       "</script>"
      ],
      "text/plain": [
       "alt.LayerChart(...)"
      ]
     },
     "execution_count": 14,
     "metadata": {},
     "output_type": "execute_result"
    }
   ],
   "source": [
    "prs_time = prs.groupby('repo').resample('W', on='createdAt').count()['author'].reset_index()\n",
    "prs_time = prs_time.rename(columns={'author': 'count'})\n",
    "prs_time_total = prs_time.groupby('createdAt').agg({\"count\": \"sum\"}).reset_index()\n",
    "\n",
    "ch1 = alt.Chart(prs_time, width=600).mark_line().encode(\n",
    "    x='createdAt',\n",
    "    y='count',\n",
    "    color='repo',\n",
    "    tooltip=\"repo\"\n",
    ")\n",
    "\n",
    "ch2 = alt.Chart(prs_time_total, width=600).mark_line(color=\"black\").encode(\n",
    "    x='createdAt',\n",
    "    y='count',\n",
    ")\n",
    "\n",
    "ch1 + ch2"
   ]
  },
  {
   "cell_type": "code",
   "execution_count": 15,
   "id": "optimum-carnival",
   "metadata": {
    "execution": {
     "iopub.execute_input": "2021-02-02T01:57:37.085317Z",
     "iopub.status.busy": "2021-02-02T01:57:37.084823Z",
     "iopub.status.idle": "2021-02-02T01:57:37.161263Z",
     "shell.execute_reply": "2021-02-02T01:57:37.161764Z"
    },
    "papermill": {
     "duration": 0.103692,
     "end_time": "2021-02-02T01:57:37.161954",
     "exception": false,
     "start_time": "2021-02-02T01:57:37.058262",
     "status": "completed"
    },
    "tags": [
     "hide_input"
    ]
   },
   "outputs": [
    {
     "data": {
      "text/html": [
       "\n",
       "<div id=\"altair-viz-1ceb7581461b4198b7f203e67a3a9d84\"></div>\n",
       "<script type=\"text/javascript\">\n",
       "  (function(spec, embedOpt){\n",
       "    let outputDiv = document.currentScript.previousElementSibling;\n",
       "    if (outputDiv.id !== \"altair-viz-1ceb7581461b4198b7f203e67a3a9d84\") {\n",
       "      outputDiv = document.getElementById(\"altair-viz-1ceb7581461b4198b7f203e67a3a9d84\");\n",
       "    }\n",
       "    const paths = {\n",
       "      \"vega\": \"https://cdn.jsdelivr.net/npm//vega@5?noext\",\n",
       "      \"vega-lib\": \"https://cdn.jsdelivr.net/npm//vega-lib?noext\",\n",
       "      \"vega-lite\": \"https://cdn.jsdelivr.net/npm//vega-lite@4.8.1?noext\",\n",
       "      \"vega-embed\": \"https://cdn.jsdelivr.net/npm//vega-embed@6?noext\",\n",
       "    };\n",
       "\n",
       "    function loadScript(lib) {\n",
       "      return new Promise(function(resolve, reject) {\n",
       "        var s = document.createElement('script');\n",
       "        s.src = paths[lib];\n",
       "        s.async = true;\n",
       "        s.onload = () => resolve(paths[lib]);\n",
       "        s.onerror = () => reject(`Error loading script: ${paths[lib]}`);\n",
       "        document.getElementsByTagName(\"head\")[0].appendChild(s);\n",
       "      });\n",
       "    }\n",
       "\n",
       "    function showError(err) {\n",
       "      outputDiv.innerHTML = `<div class=\"error\" style=\"color:red;\">${err}</div>`;\n",
       "      throw err;\n",
       "    }\n",
       "\n",
       "    function displayChart(vegaEmbed) {\n",
       "      vegaEmbed(outputDiv, spec, embedOpt)\n",
       "        .catch(err => showError(`Javascript Error: ${err.message}<br>This usually means there's a typo in your chart specification. See the javascript console for the full traceback.`));\n",
       "    }\n",
       "\n",
       "    if(typeof define === \"function\" && define.amd) {\n",
       "      requirejs.config({paths});\n",
       "      require([\"vega-embed\"], displayChart, err => showError(`Error loading script: ${err.message}`));\n",
       "    } else if (typeof vegaEmbed === \"function\") {\n",
       "      displayChart(vegaEmbed);\n",
       "    } else {\n",
       "      loadScript(\"vega\")\n",
       "        .then(() => loadScript(\"vega-lite\"))\n",
       "        .then(() => loadScript(\"vega-embed\"))\n",
       "        .catch(showError)\n",
       "        .then(() => displayChart(vegaEmbed));\n",
       "    }\n",
       "  })({\"config\": {\"axisLeft\": {\"labelFontSize\": 15}, \"axisBottom\": {\"labelFontSize\": 15}}, \"data\": {\"name\": \"data-8cd1735111787e665ccb444601913de1\"}, \"mark\": \"line\", \"encoding\": {\"color\": {\"type\": \"nominal\", \"field\": \"repo\"}, \"tooltip\": {\"type\": \"nominal\", \"field\": \"repo\"}, \"x\": {\"type\": \"temporal\", \"field\": \"closedAt\"}, \"y\": {\"type\": \"quantitative\", \"field\": \"count\"}}, \"width\": 600, \"$schema\": \"https://vega.github.io/schema/vega-lite/v4.8.1.json\", \"datasets\": {\"data-8cd1735111787e665ccb444601913de1\": [{\"repo\": \"action-k3s-helm\", \"closedAt\": \"2021-01-03T00:00:00\", \"count\": 4}, {\"repo\": \"action-k3s-helm\", \"closedAt\": \"2021-01-10T00:00:00\", \"count\": 0}, {\"repo\": \"action-k3s-helm\", \"closedAt\": \"2021-01-17T00:00:00\", \"count\": 3}, {\"repo\": \"action-k8s-await-workloads\", \"closedAt\": \"2021-01-31T00:00:00\", \"count\": 7}, {\"repo\": \"batchspawner\", \"closedAt\": \"2021-01-31T00:00:00\", \"count\": 4}, {\"repo\": \"binderhub\", \"closedAt\": \"2020-12-06T00:00:00\", \"count\": 1}, {\"repo\": \"binderhub\", \"closedAt\": \"2020-12-13T00:00:00\", \"count\": 1}, {\"repo\": \"binderhub\", \"closedAt\": \"2020-12-20T00:00:00\", \"count\": 0}, {\"repo\": \"binderhub\", \"closedAt\": \"2020-12-27T00:00:00\", \"count\": 4}, {\"repo\": \"binderhub\", \"closedAt\": \"2021-01-03T00:00:00\", \"count\": 0}, {\"repo\": \"binderhub\", \"closedAt\": \"2021-01-10T00:00:00\", \"count\": 4}, {\"repo\": \"binderhub\", \"closedAt\": \"2021-01-17T00:00:00\", \"count\": 2}, {\"repo\": \"binderhub\", \"closedAt\": \"2021-01-24T00:00:00\", \"count\": 2}, {\"repo\": \"chartpress\", \"closedAt\": \"2020-12-06T00:00:00\", \"count\": 1}, {\"repo\": \"chartpress\", \"closedAt\": \"2020-12-13T00:00:00\", \"count\": 0}, {\"repo\": \"chartpress\", \"closedAt\": \"2020-12-20T00:00:00\", \"count\": 2}, {\"repo\": \"chartpress\", \"closedAt\": \"2020-12-27T00:00:00\", \"count\": 0}, {\"repo\": \"chartpress\", \"closedAt\": \"2021-01-03T00:00:00\", \"count\": 0}, {\"repo\": \"chartpress\", \"closedAt\": \"2021-01-10T00:00:00\", \"count\": 0}, {\"repo\": \"chartpress\", \"closedAt\": \"2021-01-17T00:00:00\", \"count\": 0}, {\"repo\": \"chartpress\", \"closedAt\": \"2021-01-24T00:00:00\", \"count\": 1}, {\"repo\": \"configurable-http-proxy\", \"closedAt\": \"2020-12-13T00:00:00\", \"count\": 1}, {\"repo\": \"configurable-http-proxy\", \"closedAt\": \"2020-12-20T00:00:00\", \"count\": 1}, {\"repo\": \"configurable-http-proxy\", \"closedAt\": \"2020-12-27T00:00:00\", \"count\": 0}, {\"repo\": \"configurable-http-proxy\", \"closedAt\": \"2021-01-03T00:00:00\", \"count\": 0}, {\"repo\": \"configurable-http-proxy\", \"closedAt\": \"2021-01-10T00:00:00\", \"count\": 1}, {\"repo\": \"configurable-http-proxy\", \"closedAt\": \"2021-01-17T00:00:00\", \"count\": 0}, {\"repo\": \"configurable-http-proxy\", \"closedAt\": \"2021-01-24T00:00:00\", \"count\": 0}, {\"repo\": \"configurable-http-proxy\", \"closedAt\": \"2021-01-31T00:00:00\", \"count\": 1}, {\"repo\": \"helm-chart\", \"closedAt\": \"2021-01-24T00:00:00\", \"count\": 1}, {\"repo\": \"helm-chart\", \"closedAt\": \"2021-01-31T00:00:00\", \"count\": 3}, {\"repo\": \"jupyter-server-proxy\", \"closedAt\": \"2021-01-10T00:00:00\", \"count\": 2}, {\"repo\": \"jupyter-server-proxy\", \"closedAt\": \"2021-01-17T00:00:00\", \"count\": 1}, {\"repo\": \"jupyterhub\", \"closedAt\": \"2020-12-06T00:00:00\", \"count\": 1}, {\"repo\": \"jupyterhub\", \"closedAt\": \"2020-12-13T00:00:00\", \"count\": 2}, {\"repo\": \"jupyterhub\", \"closedAt\": \"2020-12-20T00:00:00\", \"count\": 0}, {\"repo\": \"jupyterhub\", \"closedAt\": \"2020-12-27T00:00:00\", \"count\": 1}, {\"repo\": \"jupyterhub\", \"closedAt\": \"2021-01-03T00:00:00\", \"count\": 0}, {\"repo\": \"jupyterhub\", \"closedAt\": \"2021-01-10T00:00:00\", \"count\": 2}, {\"repo\": \"jupyterhub\", \"closedAt\": \"2021-01-17T00:00:00\", \"count\": 0}, {\"repo\": \"jupyterhub\", \"closedAt\": \"2021-01-24T00:00:00\", \"count\": 1}, {\"repo\": \"jupyterhub-idle-culler\", \"closedAt\": \"2021-01-31T00:00:00\", \"count\": 1}, {\"repo\": \"kubespawner\", \"closedAt\": \"2020-12-13T00:00:00\", \"count\": 2}, {\"repo\": \"kubespawner\", \"closedAt\": \"2020-12-20T00:00:00\", \"count\": 0}, {\"repo\": \"kubespawner\", \"closedAt\": \"2020-12-27T00:00:00\", \"count\": 0}, {\"repo\": \"kubespawner\", \"closedAt\": \"2021-01-03T00:00:00\", \"count\": 0}, {\"repo\": \"kubespawner\", \"closedAt\": \"2021-01-10T00:00:00\", \"count\": 0}, {\"repo\": \"kubespawner\", \"closedAt\": \"2021-01-17T00:00:00\", \"count\": 0}, {\"repo\": \"kubespawner\", \"closedAt\": \"2021-01-24T00:00:00\", \"count\": 1}, {\"repo\": \"ldapauthenticator\", \"closedAt\": \"2020-12-13T00:00:00\", \"count\": 1}, {\"repo\": \"ltiauthenticator\", \"closedAt\": \"2020-12-06T00:00:00\", \"count\": 1}, {\"repo\": \"mybinder.org-deploy\", \"closedAt\": \"2020-12-06T00:00:00\", \"count\": 4}, {\"repo\": \"mybinder.org-deploy\", \"closedAt\": \"2020-12-13T00:00:00\", \"count\": 2}, {\"repo\": \"mybinder.org-deploy\", \"closedAt\": \"2020-12-20T00:00:00\", \"count\": 1}, {\"repo\": \"mybinder.org-deploy\", \"closedAt\": \"2020-12-27T00:00:00\", \"count\": 1}, {\"repo\": \"mybinder.org-deploy\", \"closedAt\": \"2021-01-03T00:00:00\", \"count\": 0}, {\"repo\": \"mybinder.org-deploy\", \"closedAt\": \"2021-01-10T00:00:00\", \"count\": 3}, {\"repo\": \"nbgitpuller\", \"closedAt\": \"2020-12-13T00:00:00\", \"count\": 1}, {\"repo\": \"nbgitpuller\", \"closedAt\": \"2020-12-20T00:00:00\", \"count\": 1}, {\"repo\": \"nbgitpuller\", \"closedAt\": \"2020-12-27T00:00:00\", \"count\": 0}, {\"repo\": \"nbgitpuller\", \"closedAt\": \"2021-01-03T00:00:00\", \"count\": 0}, {\"repo\": \"nbgitpuller\", \"closedAt\": \"2021-01-10T00:00:00\", \"count\": 2}, {\"repo\": \"oauthenticator\", \"closedAt\": \"2020-12-06T00:00:00\", \"count\": 1}, {\"repo\": \"pebble-helm-chart\", \"closedAt\": \"2020-12-13T00:00:00\", \"count\": 1}, {\"repo\": \"zero-to-jupyterhub-k8s\", \"closedAt\": \"2020-12-13T00:00:00\", \"count\": 3}, {\"repo\": \"zero-to-jupyterhub-k8s\", \"closedAt\": \"2020-12-20T00:00:00\", \"count\": 5}, {\"repo\": \"zero-to-jupyterhub-k8s\", \"closedAt\": \"2020-12-27T00:00:00\", \"count\": 15}, {\"repo\": \"zero-to-jupyterhub-k8s\", \"closedAt\": \"2021-01-03T00:00:00\", \"count\": 4}, {\"repo\": \"zero-to-jupyterhub-k8s\", \"closedAt\": \"2021-01-10T00:00:00\", \"count\": 4}, {\"repo\": \"zero-to-jupyterhub-k8s\", \"closedAt\": \"2021-01-17T00:00:00\", \"count\": 11}, {\"repo\": \"zero-to-jupyterhub-k8s\", \"closedAt\": \"2021-01-24T00:00:00\", \"count\": 6}, {\"repo\": \"zero-to-jupyterhub-k8s\", \"closedAt\": \"2021-01-31T00:00:00\", \"count\": 3}]}}, {\"mode\": \"vega-lite\"});\n",
       "</script>"
      ],
      "text/plain": [
       "alt.Chart(...)"
      ]
     },
     "execution_count": 15,
     "metadata": {},
     "output_type": "execute_result"
    }
   ],
   "source": [
    "closed_by_time = closed_by.groupby('repo').resample('W', on='closedAt').count()['author'].reset_index()\n",
    "closed_by_time = closed_by_time.rename(columns={'author': 'count'})\n",
    "\n",
    "alt.Chart(closed_by_time, width=600).mark_line().encode(\n",
    "    x='closedAt',\n",
    "    y='count',\n",
    "    color='repo',\n",
    "    tooltip=\"repo\"\n",
    ")"
   ]
  },
  {
   "cell_type": "markdown",
   "id": "combined-bibliography",
   "metadata": {
    "papermill": {
     "duration": 0.017774,
     "end_time": "2021-02-02T01:57:37.199282",
     "exception": false,
     "start_time": "2021-02-02T01:57:37.181508",
     "status": "completed"
    },
    "tags": []
   },
   "source": [
    "## By type over time"
   ]
  },
  {
   "cell_type": "code",
   "execution_count": 16,
   "id": "isolated-frontier",
   "metadata": {
    "execution": {
     "iopub.execute_input": "2021-02-02T01:57:37.242577Z",
     "iopub.status.busy": "2021-02-02T01:57:37.242025Z",
     "iopub.status.idle": "2021-02-02T01:57:37.260722Z",
     "shell.execute_reply": "2021-02-02T01:57:37.261332Z"
    },
    "papermill": {
     "duration": 0.045633,
     "end_time": "2021-02-02T01:57:37.261576",
     "exception": false,
     "start_time": "2021-02-02T01:57:37.215943",
     "status": "completed"
    },
    "tags": [
     "remove_cell"
    ]
   },
   "outputs": [],
   "source": [
    "prs_time = prs[['author', 'createdAt']].resample('W', on='createdAt').count()['author'].reset_index()\n",
    "prs_time = prs_time.rename(columns={'author': 'prs'})\n",
    "comments_time = comments[['author', 'createdAt']].resample('W', on='createdAt').count()['author'].reset_index()\n",
    "comments_time = comments_time.rename(columns={'author': 'comments'})\n",
    "\n",
    "total_time = pd.merge(prs_time, comments_time, on='createdAt', how='outer')\n",
    "total_time = total_time.melt(id_vars='createdAt', var_name=\"kind\", value_name=\"count\")\n"
   ]
  },
  {
   "cell_type": "code",
   "execution_count": 17,
   "id": "level-express",
   "metadata": {
    "execution": {
     "iopub.execute_input": "2021-02-02T01:57:37.322921Z",
     "iopub.status.busy": "2021-02-02T01:57:37.322307Z",
     "iopub.status.idle": "2021-02-02T01:57:37.325354Z",
     "shell.execute_reply": "2021-02-02T01:57:37.325801Z"
    },
    "papermill": {
     "duration": 0.046304,
     "end_time": "2021-02-02T01:57:37.325987",
     "exception": false,
     "start_time": "2021-02-02T01:57:37.279683",
     "status": "completed"
    },
    "tags": [
     "hide_input"
    ]
   },
   "outputs": [
    {
     "data": {
      "text/html": [
       "\n",
       "<div id=\"altair-viz-265faa88300b412ab066ab27bc3fad8d\"></div>\n",
       "<script type=\"text/javascript\">\n",
       "  (function(spec, embedOpt){\n",
       "    let outputDiv = document.currentScript.previousElementSibling;\n",
       "    if (outputDiv.id !== \"altair-viz-265faa88300b412ab066ab27bc3fad8d\") {\n",
       "      outputDiv = document.getElementById(\"altair-viz-265faa88300b412ab066ab27bc3fad8d\");\n",
       "    }\n",
       "    const paths = {\n",
       "      \"vega\": \"https://cdn.jsdelivr.net/npm//vega@5?noext\",\n",
       "      \"vega-lib\": \"https://cdn.jsdelivr.net/npm//vega-lib?noext\",\n",
       "      \"vega-lite\": \"https://cdn.jsdelivr.net/npm//vega-lite@4.8.1?noext\",\n",
       "      \"vega-embed\": \"https://cdn.jsdelivr.net/npm//vega-embed@6?noext\",\n",
       "    };\n",
       "\n",
       "    function loadScript(lib) {\n",
       "      return new Promise(function(resolve, reject) {\n",
       "        var s = document.createElement('script');\n",
       "        s.src = paths[lib];\n",
       "        s.async = true;\n",
       "        s.onload = () => resolve(paths[lib]);\n",
       "        s.onerror = () => reject(`Error loading script: ${paths[lib]}`);\n",
       "        document.getElementsByTagName(\"head\")[0].appendChild(s);\n",
       "      });\n",
       "    }\n",
       "\n",
       "    function showError(err) {\n",
       "      outputDiv.innerHTML = `<div class=\"error\" style=\"color:red;\">${err}</div>`;\n",
       "      throw err;\n",
       "    }\n",
       "\n",
       "    function displayChart(vegaEmbed) {\n",
       "      vegaEmbed(outputDiv, spec, embedOpt)\n",
       "        .catch(err => showError(`Javascript Error: ${err.message}<br>This usually means there's a typo in your chart specification. See the javascript console for the full traceback.`));\n",
       "    }\n",
       "\n",
       "    if(typeof define === \"function\" && define.amd) {\n",
       "      requirejs.config({paths});\n",
       "      require([\"vega-embed\"], displayChart, err => showError(`Error loading script: ${err.message}`));\n",
       "    } else if (typeof vegaEmbed === \"function\") {\n",
       "      displayChart(vegaEmbed);\n",
       "    } else {\n",
       "      loadScript(\"vega\")\n",
       "        .then(() => loadScript(\"vega-lite\"))\n",
       "        .then(() => loadScript(\"vega-embed\"))\n",
       "        .catch(showError)\n",
       "        .then(() => displayChart(vegaEmbed));\n",
       "    }\n",
       "  })({\"config\": {\"axisLeft\": {\"labelFontSize\": 15}, \"axisBottom\": {\"labelFontSize\": 15}}, \"data\": {\"name\": \"data-b6cf4053933c419ec11e07742bec6eeb\"}, \"mark\": \"line\", \"encoding\": {\"color\": {\"type\": \"nominal\", \"field\": \"kind\"}, \"x\": {\"type\": \"temporal\", \"field\": \"createdAt\"}, \"y\": {\"type\": \"quantitative\", \"field\": \"count\"}}, \"width\": 600, \"$schema\": \"https://vega.github.io/schema/vega-lite/v4.8.1.json\", \"datasets\": {\"data-b6cf4053933c419ec11e07742bec6eeb\": [{\"createdAt\": \"2020-10-04T00:00:00\", \"kind\": \"prs\", \"count\": 1.0}, {\"createdAt\": \"2020-10-11T00:00:00\", \"kind\": \"prs\", \"count\": 1.0}, {\"createdAt\": \"2020-10-18T00:00:00\", \"kind\": \"prs\", \"count\": 0.0}, {\"createdAt\": \"2020-10-25T00:00:00\", \"kind\": \"prs\", \"count\": 0.0}, {\"createdAt\": \"2020-11-01T00:00:00\", \"kind\": \"prs\", \"count\": 1.0}, {\"createdAt\": \"2020-11-08T00:00:00\", \"kind\": \"prs\", \"count\": 0.0}, {\"createdAt\": \"2020-11-15T00:00:00\", \"kind\": \"prs\", \"count\": 0.0}, {\"createdAt\": \"2020-11-22T00:00:00\", \"kind\": \"prs\", \"count\": 0.0}, {\"createdAt\": \"2020-11-29T00:00:00\", \"kind\": \"prs\", \"count\": 1.0}, {\"createdAt\": \"2020-12-06T00:00:00\", \"kind\": \"prs\", \"count\": 13.0}, {\"createdAt\": \"2020-12-13T00:00:00\", \"kind\": \"prs\", \"count\": 8.0}, {\"createdAt\": \"2020-12-20T00:00:00\", \"kind\": \"prs\", \"count\": 6.0}, {\"createdAt\": \"2020-12-27T00:00:00\", \"kind\": \"prs\", \"count\": 18.0}, {\"createdAt\": \"2021-01-03T00:00:00\", \"kind\": \"prs\", \"count\": 6.0}, {\"createdAt\": \"2021-01-10T00:00:00\", \"kind\": \"prs\", \"count\": 13.0}, {\"createdAt\": \"2021-01-17T00:00:00\", \"kind\": \"prs\", \"count\": 19.0}, {\"createdAt\": \"2021-01-24T00:00:00\", \"kind\": \"prs\", \"count\": 12.0}, {\"createdAt\": \"2021-01-31T00:00:00\", \"kind\": \"prs\", \"count\": 14.0}, {\"createdAt\": \"2021-02-07T00:00:00\", \"kind\": \"prs\", \"count\": null}, {\"createdAt\": \"2020-10-04T00:00:00\", \"kind\": \"comments\", \"count\": null}, {\"createdAt\": \"2020-10-11T00:00:00\", \"kind\": \"comments\", \"count\": 1.0}, {\"createdAt\": \"2020-10-18T00:00:00\", \"kind\": \"comments\", \"count\": 0.0}, {\"createdAt\": \"2020-10-25T00:00:00\", \"kind\": \"comments\", \"count\": 0.0}, {\"createdAt\": \"2020-11-01T00:00:00\", \"kind\": \"comments\", \"count\": 0.0}, {\"createdAt\": \"2020-11-08T00:00:00\", \"kind\": \"comments\", \"count\": 0.0}, {\"createdAt\": \"2020-11-15T00:00:00\", \"kind\": \"comments\", \"count\": 0.0}, {\"createdAt\": \"2020-11-22T00:00:00\", \"kind\": \"comments\", \"count\": 0.0}, {\"createdAt\": \"2020-11-29T00:00:00\", \"kind\": \"comments\", \"count\": 0.0}, {\"createdAt\": \"2020-12-06T00:00:00\", \"kind\": \"comments\", \"count\": 16.0}, {\"createdAt\": \"2020-12-13T00:00:00\", \"kind\": \"comments\", \"count\": 39.0}, {\"createdAt\": \"2020-12-20T00:00:00\", \"kind\": \"comments\", \"count\": 31.0}, {\"createdAt\": \"2020-12-27T00:00:00\", \"kind\": \"comments\", \"count\": 27.0}, {\"createdAt\": \"2021-01-03T00:00:00\", \"kind\": \"comments\", \"count\": 13.0}, {\"createdAt\": \"2021-01-10T00:00:00\", \"kind\": \"comments\", \"count\": 32.0}, {\"createdAt\": \"2021-01-17T00:00:00\", \"kind\": \"comments\", \"count\": 50.0}, {\"createdAt\": \"2021-01-24T00:00:00\", \"kind\": \"comments\", \"count\": 39.0}, {\"createdAt\": \"2021-01-31T00:00:00\", \"kind\": \"comments\", \"count\": 44.0}, {\"createdAt\": \"2021-02-07T00:00:00\", \"kind\": \"comments\", \"count\": 4.0}]}}, {\"mode\": \"vega-lite\"});\n",
       "</script>"
      ],
      "text/plain": [
       "alt.Chart(...)"
      ]
     },
     "execution_count": 17,
     "metadata": {},
     "output_type": "execute_result"
    }
   ],
   "source": [
    "alt.Chart(total_time, width=600).mark_line().encode(\n",
    "    x='createdAt',\n",
    "    y='count',\n",
    "    color='kind'\n",
    ")"
   ]
  }
 ],
 "metadata": {
  "kernelspec": {
   "display_name": "Python 3",
   "language": "python",
   "name": "python3"
  },
  "language_info": {
   "codemirror_mode": {
    "name": "ipython",
    "version": 3
   },
   "file_extension": ".py",
   "mimetype": "text/x-python",
   "name": "python",
   "nbconvert_exporter": "python",
   "pygments_lexer": "ipython3",
   "version": "3.7.9"
  },
  "papermill": {
   "default_parameters": {},
   "duration": 3.52251,
   "end_time": "2021-02-02T01:57:37.753505",
   "environment_variables": {},
   "exception": null,
   "input_path": "./person.ipynb",
   "output_path": "people/consideRatio.ipynb",
   "parameters": {
    "n_days": 60,
    "person": "consideRatio"
   },
   "start_time": "2021-02-02T01:57:34.230995",
   "version": "2.3.1"
  },
  "widgets": {
   "application/vnd.jupyter.widget-state+json": {
    "state": {},
    "version_major": 2,
    "version_minor": 0
   }
  }
 },
 "nbformat": 4,
 "nbformat_minor": 5
}