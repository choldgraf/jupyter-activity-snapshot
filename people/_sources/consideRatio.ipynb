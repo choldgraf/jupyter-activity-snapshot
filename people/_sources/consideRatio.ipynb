{
 "cells": [
  {
   "cell_type": "markdown",
   "id": "organic-vermont",
   "metadata": {
    "papermill": {
     "duration": 0.01853,
     "end_time": "2021-02-03T01:48:25.309218",
     "exception": false,
     "start_time": "2021-02-03T01:48:25.290688",
     "status": "completed"
    },
    "tags": []
   },
   "source": [
    "# Report for consideRatio"
   ]
  },
  {
   "cell_type": "code",
   "execution_count": 1,
   "id": "independent-receipt",
   "metadata": {
    "execution": {
     "iopub.execute_input": "2021-02-03T01:48:25.342495Z",
     "iopub.status.busy": "2021-02-03T01:48:25.341901Z",
     "iopub.status.idle": "2021-02-03T01:48:26.320891Z",
     "shell.execute_reply": "2021-02-03T01:48:26.319885Z"
    },
    "papermill": {
     "duration": 0.996545,
     "end_time": "2021-02-03T01:48:26.321253",
     "exception": false,
     "start_time": "2021-02-03T01:48:25.324708",
     "status": "completed"
    },
    "tags": [
     "remove_cell"
    ]
   },
   "outputs": [],
   "source": [
    "import seaborn as sns\n",
    "import pandas as pd\n",
    "import numpy as np\n",
    "import altair as alt\n",
    "from markdown import markdown\n",
    "from IPython.display import Markdown\n",
    "from ipywidgets.widgets import HTML, Tab\n",
    "from ipywidgets import widgets\n",
    "from datetime import timedelta\n",
    "from matplotlib import pyplot as plt\n",
    "import os.path as op\n",
    "\n",
    "from mycode import alt_theme\n",
    "from warnings import simplefilter\n",
    "simplefilter('ignore')"
   ]
  },
  {
   "cell_type": "code",
   "execution_count": 2,
   "id": "urban-times",
   "metadata": {
    "execution": {
     "iopub.execute_input": "2021-02-03T01:48:26.360198Z",
     "iopub.status.busy": "2021-02-03T01:48:26.359603Z",
     "iopub.status.idle": "2021-02-03T01:48:26.361673Z",
     "shell.execute_reply": "2021-02-03T01:48:26.362115Z"
    },
    "papermill": {
     "duration": 0.023076,
     "end_time": "2021-02-03T01:48:26.362302",
     "exception": false,
     "start_time": "2021-02-03T01:48:26.339226",
     "status": "completed"
    },
    "tags": [
     "remove_cell"
    ]
   },
   "outputs": [],
   "source": [
    "def author_url(author):\n",
    "    return f\"https://github.com/{author}\""
   ]
  },
  {
   "cell_type": "code",
   "execution_count": 3,
   "id": "foreign-outreach",
   "metadata": {
    "execution": {
     "iopub.execute_input": "2021-02-03T01:48:26.397979Z",
     "iopub.status.busy": "2021-02-03T01:48:26.397301Z",
     "iopub.status.idle": "2021-02-03T01:48:26.398591Z",
     "shell.execute_reply": "2021-02-03T01:48:26.399069Z"
    },
    "papermill": {
     "duration": 0.022867,
     "end_time": "2021-02-03T01:48:26.399246",
     "exception": false,
     "start_time": "2021-02-03T01:48:26.376379",
     "status": "completed"
    },
    "tags": [
     "parameters",
     "hide_input"
    ]
   },
   "outputs": [],
   "source": [
    "# Parameters\n",
    "fmt_date = \"{:%Y-%m-%d}\"\n",
    "\n",
    "n_days = 30 * 2\n",
    "start_date = fmt_date.format(pd.datetime.today() - timedelta(days=n_days))\n",
    "end_date = fmt_date.format(pd.datetime.today())\n",
    "\n",
    "renderer = \"html\"\n",
    "person = \"jasongrout\""
   ]
  },
  {
   "cell_type": "code",
   "execution_count": 4,
   "id": "ahead-narrow",
   "metadata": {
    "execution": {
     "iopub.execute_input": "2021-02-03T01:48:26.433149Z",
     "iopub.status.busy": "2021-02-03T01:48:26.432155Z",
     "iopub.status.idle": "2021-02-03T01:48:26.434210Z",
     "shell.execute_reply": "2021-02-03T01:48:26.435039Z"
    },
    "papermill": {
     "duration": 0.022009,
     "end_time": "2021-02-03T01:48:26.435324",
     "exception": false,
     "start_time": "2021-02-03T01:48:26.413315",
     "status": "completed"
    },
    "tags": [
     "injected-parameters",
     "remove-cell"
    ]
   },
   "outputs": [],
   "source": [
    "# Parameters\n",
    "person = \"consideRatio\"\n",
    "n_days = 60\n"
   ]
  },
  {
   "cell_type": "code",
   "execution_count": 5,
   "id": "difficult-willow",
   "metadata": {
    "execution": {
     "iopub.execute_input": "2021-02-03T01:48:26.475591Z",
     "iopub.status.busy": "2021-02-03T01:48:26.474994Z",
     "iopub.status.idle": "2021-02-03T01:48:26.478000Z",
     "shell.execute_reply": "2021-02-03T01:48:26.477493Z"
    },
    "papermill": {
     "duration": 0.025924,
     "end_time": "2021-02-03T01:48:26.478149",
     "exception": false,
     "start_time": "2021-02-03T01:48:26.452225",
     "status": "completed"
    },
    "tags": [
     "remove_cell"
    ]
   },
   "outputs": [
    {
     "data": {
      "text/plain": [
       "ThemeRegistry.enable('my_theme')"
      ]
     },
     "execution_count": 5,
     "metadata": {},
     "output_type": "execute_result"
    }
   ],
   "source": [
    "alt.renderers.enable(renderer);\n",
    "alt.themes.register('my_theme', alt_theme)\n",
    "alt.themes.enable(\"my_theme\")"
   ]
  },
  {
   "cell_type": "markdown",
   "id": "planned-compilation",
   "metadata": {
    "papermill": {
     "duration": 0.014612,
     "end_time": "2021-02-03T01:48:26.507554",
     "exception": false,
     "start_time": "2021-02-03T01:48:26.492942",
     "status": "completed"
    },
    "tags": []
   },
   "source": [
    "## Load data"
   ]
  },
  {
   "cell_type": "code",
   "execution_count": 6,
   "id": "descending-visitor",
   "metadata": {
    "execution": {
     "iopub.execute_input": "2021-02-03T01:48:26.543747Z",
     "iopub.status.busy": "2021-02-03T01:48:26.543150Z",
     "iopub.status.idle": "2021-02-03T01:48:26.733371Z",
     "shell.execute_reply": "2021-02-03T01:48:26.732810Z"
    },
    "papermill": {
     "duration": 0.211355,
     "end_time": "2021-02-03T01:48:26.733555",
     "exception": false,
     "start_time": "2021-02-03T01:48:26.522200",
     "status": "completed"
    },
    "tags": [
     "remove_cell"
    ]
   },
   "outputs": [],
   "source": [
    "from pathlib import Path\n",
    "path_data = Path(\"./\")\n",
    "comments = pd.read_csv(path_data.joinpath('comments.csv'), index_col=0)\n",
    "issues = pd.read_csv(path_data.joinpath('issues.csv'), index_col=0)\n",
    "prs = pd.read_csv(path_data.joinpath('prs.csv'), index_col=0)\n",
    "\n",
    "comments = comments.query('author == @person').drop_duplicates()\n",
    "issues = issues.query('author == @person').drop_duplicates()\n",
    "closed_by = prs.query('mergedBy == @person')\n",
    "prs = prs.query('author == @person').drop_duplicates()"
   ]
  },
  {
   "cell_type": "code",
   "execution_count": 7,
   "id": "brazilian-protection",
   "metadata": {
    "execution": {
     "iopub.execute_input": "2021-02-03T01:48:26.770888Z",
     "iopub.status.busy": "2021-02-03T01:48:26.770080Z",
     "iopub.status.idle": "2021-02-03T01:48:26.825733Z",
     "shell.execute_reply": "2021-02-03T01:48:26.825100Z"
    },
    "papermill": {
     "duration": 0.075172,
     "end_time": "2021-02-03T01:48:26.825921",
     "exception": false,
     "start_time": "2021-02-03T01:48:26.750749",
     "status": "completed"
    },
    "tags": [
     "remove_cell"
    ]
   },
   "outputs": [],
   "source": [
    "# Time columns\n",
    "# Also drop dates outside of our range\n",
    "time_columns = ['updatedAt', 'createdAt', 'closedAt']\n",
    "for col in time_columns:\n",
    "    for item in [comments, issues, prs, closed_by]:\n",
    "        if col not in item.columns:\n",
    "            continue\n",
    "        dt = pd.to_datetime(item[col]).dt.tz_localize(None)\n",
    "        item[col] = dt\n",
    "        item.query(\"updatedAt < @end_date and updatedAt > @start_date\", inplace=True)"
   ]
  },
  {
   "cell_type": "markdown",
   "id": "progressive-documentary",
   "metadata": {
    "papermill": {
     "duration": 0.016197,
     "end_time": "2021-02-03T01:48:26.858440",
     "exception": false,
     "start_time": "2021-02-03T01:48:26.842243",
     "status": "completed"
    },
    "tags": []
   },
   "source": [
    "## Repository summaries"
   ]
  },
  {
   "cell_type": "code",
   "execution_count": 8,
   "id": "sudden-filling",
   "metadata": {
    "execution": {
     "iopub.execute_input": "2021-02-03T01:48:26.909405Z",
     "iopub.status.busy": "2021-02-03T01:48:26.908809Z",
     "iopub.status.idle": "2021-02-03T01:48:26.923219Z",
     "shell.execute_reply": "2021-02-03T01:48:26.923721Z"
    },
    "papermill": {
     "duration": 0.047733,
     "end_time": "2021-02-03T01:48:26.923917",
     "exception": false,
     "start_time": "2021-02-03T01:48:26.876184",
     "status": "completed"
    },
    "tags": [
     "remove_cell"
    ]
   },
   "outputs": [],
   "source": [
    "summaries = []\n",
    "for idata, name in [(issues, 'issues'), (prs, 'prs'), (comments, 'comments')]:\n",
    "    idata = idata.groupby([\"repo\", \"org\"]).agg({'id': \"count\"}).reset_index().rename(columns={'id': 'count'})\n",
    "    idata[\"kind\"] = name\n",
    "    summaries.append(idata)\n",
    "summaries = pd.concat(summaries)"
   ]
  },
  {
   "cell_type": "code",
   "execution_count": 9,
   "id": "moderate-appearance",
   "metadata": {
    "execution": {
     "iopub.execute_input": "2021-02-03T01:48:26.963719Z",
     "iopub.status.busy": "2021-02-03T01:48:26.963120Z",
     "iopub.status.idle": "2021-02-03T01:48:26.974529Z",
     "shell.execute_reply": "2021-02-03T01:48:26.974001Z"
    },
    "papermill": {
     "duration": 0.03544,
     "end_time": "2021-02-03T01:48:26.974686",
     "exception": false,
     "start_time": "2021-02-03T01:48:26.939246",
     "status": "completed"
    },
    "tags": [
     "remove_cell"
    ]
   },
   "outputs": [],
   "source": [
    "repo_summaries = summaries.groupby([\"repo\", \"kind\"]).agg({\"count\": \"sum\"}).reset_index()\n",
    "org_summaries = summaries.groupby([\"org\", \"kind\"]).agg({\"count\": \"sum\"}).reset_index()"
   ]
  },
  {
   "cell_type": "code",
   "execution_count": 10,
   "id": "affiliated-possible",
   "metadata": {
    "execution": {
     "iopub.execute_input": "2021-02-03T01:48:27.013968Z",
     "iopub.status.busy": "2021-02-03T01:48:27.012958Z",
     "iopub.status.idle": "2021-02-03T01:48:27.015357Z",
     "shell.execute_reply": "2021-02-03T01:48:27.015917Z"
    },
    "papermill": {
     "duration": 0.024529,
     "end_time": "2021-02-03T01:48:27.016106",
     "exception": false,
     "start_time": "2021-02-03T01:48:26.991577",
     "status": "completed"
    },
    "tags": [
     "remove_cell"
    ]
   },
   "outputs": [],
   "source": [
    "repo_summaries['logcount'] = np.log(repo_summaries[\"count\"])"
   ]
  },
  {
   "cell_type": "code",
   "execution_count": 11,
   "id": "informational-michael",
   "metadata": {
    "execution": {
     "iopub.execute_input": "2021-02-03T01:48:27.087935Z",
     "iopub.status.busy": "2021-02-03T01:48:27.080858Z",
     "iopub.status.idle": "2021-02-03T01:48:27.107633Z",
     "shell.execute_reply": "2021-02-03T01:48:27.107044Z"
    },
    "papermill": {
     "duration": 0.076239,
     "end_time": "2021-02-03T01:48:27.107796",
     "exception": false,
     "start_time": "2021-02-03T01:48:27.031557",
     "status": "completed"
    },
    "tags": [
     "hide_input"
    ]
   },
   "outputs": [
    {
     "data": {
      "text/html": [
       "\n",
       "<div id=\"altair-viz-768c2069ac2b41888fadc00714174902\"></div>\n",
       "<script type=\"text/javascript\">\n",
       "  (function(spec, embedOpt){\n",
       "    let outputDiv = document.currentScript.previousElementSibling;\n",
       "    if (outputDiv.id !== \"altair-viz-768c2069ac2b41888fadc00714174902\") {\n",
       "      outputDiv = document.getElementById(\"altair-viz-768c2069ac2b41888fadc00714174902\");\n",
       "    }\n",
       "    const paths = {\n",
       "      \"vega\": \"https://cdn.jsdelivr.net/npm//vega@5?noext\",\n",
       "      \"vega-lib\": \"https://cdn.jsdelivr.net/npm//vega-lib?noext\",\n",
       "      \"vega-lite\": \"https://cdn.jsdelivr.net/npm//vega-lite@4.8.1?noext\",\n",
       "      \"vega-embed\": \"https://cdn.jsdelivr.net/npm//vega-embed@6?noext\",\n",
       "    };\n",
       "\n",
       "    function loadScript(lib) {\n",
       "      return new Promise(function(resolve, reject) {\n",
       "        var s = document.createElement('script');\n",
       "        s.src = paths[lib];\n",
       "        s.async = true;\n",
       "        s.onload = () => resolve(paths[lib]);\n",
       "        s.onerror = () => reject(`Error loading script: ${paths[lib]}`);\n",
       "        document.getElementsByTagName(\"head\")[0].appendChild(s);\n",
       "      });\n",
       "    }\n",
       "\n",
       "    function showError(err) {\n",
       "      outputDiv.innerHTML = `<div class=\"error\" style=\"color:red;\">${err}</div>`;\n",
       "      throw err;\n",
       "    }\n",
       "\n",
       "    function displayChart(vegaEmbed) {\n",
       "      vegaEmbed(outputDiv, spec, embedOpt)\n",
       "        .catch(err => showError(`Javascript Error: ${err.message}<br>This usually means there's a typo in your chart specification. See the javascript console for the full traceback.`));\n",
       "    }\n",
       "\n",
       "    if(typeof define === \"function\" && define.amd) {\n",
       "      requirejs.config({paths});\n",
       "      require([\"vega-embed\"], displayChart, err => showError(`Error loading script: ${err.message}`));\n",
       "    } else if (typeof vegaEmbed === \"function\") {\n",
       "      displayChart(vegaEmbed);\n",
       "    } else {\n",
       "      loadScript(\"vega\")\n",
       "        .then(() => loadScript(\"vega-lite\"))\n",
       "        .then(() => loadScript(\"vega-embed\"))\n",
       "        .catch(showError)\n",
       "        .then(() => displayChart(vegaEmbed));\n",
       "    }\n",
       "  })({\"config\": {\"axisLeft\": {\"labelFontSize\": 15}, \"axisBottom\": {\"labelFontSize\": 15}}, \"hconcat\": [{\"mark\": \"bar\", \"encoding\": {\"color\": {\"type\": \"nominal\", \"field\": \"kind\"}, \"tooltip\": {\"type\": \"nominal\", \"field\": \"kind\"}, \"x\": {\"type\": \"nominal\", \"field\": \"repo\"}, \"y\": {\"type\": \"quantitative\", \"field\": \"count\"}}, \"title\": \"Activity per repository\", \"width\": 600}, {\"mark\": \"bar\", \"encoding\": {\"color\": {\"type\": \"nominal\", \"field\": \"kind\"}, \"tooltip\": {\"type\": \"nominal\", \"field\": \"kind\"}, \"x\": {\"type\": \"nominal\", \"field\": \"repo\"}, \"y\": {\"type\": \"quantitative\", \"field\": \"logcount\"}}, \"title\": \"Log activity per repository\", \"width\": 600}], \"data\": {\"name\": \"data-d65de675126f0401487472d85aacc81b\"}, \"$schema\": \"https://vega.github.io/schema/vega-lite/v4.8.1.json\", \"datasets\": {\"data-d65de675126f0401487472d85aacc81b\": [{\"repo\": \"MyST-Parser\", \"kind\": \"comments\", \"count\": 2, \"logcount\": 0.6931471805599453}, {\"repo\": \"MyST-Parser\", \"kind\": \"issues\", \"count\": 1, \"logcount\": 0.0}, {\"repo\": \"action-k3s-helm\", \"kind\": \"comments\", \"count\": 18, \"logcount\": 2.8903717578961645}, {\"repo\": \"action-k3s-helm\", \"kind\": \"issues\", \"count\": 6, \"logcount\": 1.791759469228055}, {\"repo\": \"action-k3s-helm\", \"kind\": \"prs\", \"count\": 13, \"logcount\": 2.5649493574615367}, {\"repo\": \"action-k8s-await-workloads\", \"kind\": \"comments\", \"count\": 5, \"logcount\": 1.6094379124341003}, {\"repo\": \"action-k8s-await-workloads\", \"kind\": \"issues\", \"count\": 2, \"logcount\": 0.6931471805599453}, {\"repo\": \"action-k8s-await-workloads\", \"kind\": \"prs\", \"count\": 2, \"logcount\": 0.6931471805599453}, {\"repo\": \"action-k8s-namespace-report\", \"kind\": \"comments\", \"count\": 4, \"logcount\": 1.3862943611198906}, {\"repo\": \"action-k8s-namespace-report\", \"kind\": \"issues\", \"count\": 3, \"logcount\": 1.0986122886681098}, {\"repo\": \"batchspawner\", \"kind\": \"comments\", \"count\": 8, \"logcount\": 2.0794415416798357}, {\"repo\": \"batchspawner\", \"kind\": \"prs\", \"count\": 1, \"logcount\": 0.0}, {\"repo\": \"binderhub\", \"kind\": \"comments\", \"count\": 19, \"logcount\": 2.9444389791664403}, {\"repo\": \"binderhub\", \"kind\": \"issues\", \"count\": 3, \"logcount\": 1.0986122886681098}, {\"repo\": \"binderhub\", \"kind\": \"prs\", \"count\": 12, \"logcount\": 2.4849066497880004}, {\"repo\": \"chartpress\", \"kind\": \"comments\", \"count\": 3, \"logcount\": 1.0986122886681098}, {\"repo\": \"chartpress\", \"kind\": \"issues\", \"count\": 4, \"logcount\": 1.3862943611198906}, {\"repo\": \"chartpress\", \"kind\": \"prs\", \"count\": 3, \"logcount\": 1.0986122886681098}, {\"repo\": \"configurable-http-proxy\", \"kind\": \"prs\", \"count\": 1, \"logcount\": 0.0}, {\"repo\": \"dockerspawner\", \"kind\": \"comments\", \"count\": 7, \"logcount\": 1.9459101490553132}, {\"repo\": \"github-activity\", \"kind\": \"comments\", \"count\": 1, \"logcount\": 0.0}, {\"repo\": \"github-activity\", \"kind\": \"issues\", \"count\": 1, \"logcount\": 0.0}, {\"repo\": \"github-activity\", \"kind\": \"prs\", \"count\": 1, \"logcount\": 0.0}, {\"repo\": \"helm-chart\", \"kind\": \"comments\", \"count\": 4, \"logcount\": 1.3862943611198906}, {\"repo\": \"helm-chart\", \"kind\": \"issues\", \"count\": 2, \"logcount\": 0.6931471805599453}, {\"repo\": \"helm-chart\", \"kind\": \"prs\", \"count\": 4, \"logcount\": 1.3862943611198906}, {\"repo\": \"jupyter-book\", \"kind\": \"comments\", \"count\": 1, \"logcount\": 0.0}, {\"repo\": \"jupyter-book\", \"kind\": \"issues\", \"count\": 1, \"logcount\": 0.0}, {\"repo\": \"jupyter-server-proxy\", \"kind\": \"comments\", \"count\": 5, \"logcount\": 1.6094379124341003}, {\"repo\": \"jupyter-server-proxy\", \"kind\": \"issues\", \"count\": 1, \"logcount\": 0.0}, {\"repo\": \"jupyter-server-proxy\", \"kind\": \"prs\", \"count\": 1, \"logcount\": 0.0}, {\"repo\": \"jupyterhub\", \"kind\": \"comments\", \"count\": 10, \"logcount\": 2.302585092994046}, {\"repo\": \"jupyterhub\", \"kind\": \"issues\", \"count\": 2, \"logcount\": 0.6931471805599453}, {\"repo\": \"jupyterhub\", \"kind\": \"prs\", \"count\": 2, \"logcount\": 0.6931471805599453}, {\"repo\": \"jupyterhub-idle-culler\", \"kind\": \"comments\", \"count\": 1, \"logcount\": 0.0}, {\"repo\": \"kubespawner\", \"kind\": \"comments\", \"count\": 10, \"logcount\": 2.302585092994046}, {\"repo\": \"kubespawner\", \"kind\": \"prs\", \"count\": 1, \"logcount\": 0.0}, {\"repo\": \"ldapauthenticator\", \"kind\": \"comments\", \"count\": 1, \"logcount\": 0.0}, {\"repo\": \"mybinder.org-deploy\", \"kind\": \"comments\", \"count\": 26, \"logcount\": 3.258096538021482}, {\"repo\": \"mybinder.org-deploy\", \"kind\": \"issues\", \"count\": 2, \"logcount\": 0.6931471805599453}, {\"repo\": \"mybinder.org-deploy\", \"kind\": \"prs\", \"count\": 12, \"logcount\": 2.4849066497880004}, {\"repo\": \"nativeauthenticator\", \"kind\": \"comments\", \"count\": 3, \"logcount\": 1.0986122886681098}, {\"repo\": \"nativeauthenticator\", \"kind\": \"issues\", \"count\": 1, \"logcount\": 0.0}, {\"repo\": \"nativeauthenticator\", \"kind\": \"prs\", \"count\": 4, \"logcount\": 1.3862943611198906}, {\"repo\": \"nbgitpuller\", \"kind\": \"comments\", \"count\": 5, \"logcount\": 1.6094379124341003}, {\"repo\": \"nbgitpuller\", \"kind\": \"issues\", \"count\": 1, \"logcount\": 0.0}, {\"repo\": \"oauthenticator\", \"kind\": \"comments\", \"count\": 4, \"logcount\": 1.3862943611198906}, {\"repo\": \"pebble-helm-chart\", \"kind\": \"comments\", \"count\": 1, \"logcount\": 0.0}, {\"repo\": \"rst-to-myst\", \"kind\": \"comments\", \"count\": 1, \"logcount\": 0.0}, {\"repo\": \"rst-to-myst\", \"kind\": \"issues\", \"count\": 1, \"logcount\": 0.0}, {\"repo\": \"team-compass\", \"kind\": \"comments\", \"count\": 4, \"logcount\": 1.3862943611198906}, {\"repo\": \"team-compass\", \"kind\": \"issues\", \"count\": 3, \"logcount\": 1.0986122886681098}, {\"repo\": \"zero-to-jupyterhub-k8s\", \"kind\": \"comments\", \"count\": 143, \"logcount\": 4.962844630259907}, {\"repo\": \"zero-to-jupyterhub-k8s\", \"kind\": \"issues\", \"count\": 21, \"logcount\": 3.044522437723423}, {\"repo\": \"zero-to-jupyterhub-k8s\", \"kind\": \"prs\", \"count\": 56, \"logcount\": 4.02535169073515}]}}, {\"mode\": \"vega-lite\"});\n",
       "</script>"
      ],
      "text/plain": [
       "alt.HConcatChart(...)"
      ]
     },
     "execution_count": 11,
     "metadata": {},
     "output_type": "execute_result"
    }
   ],
   "source": [
    "ch1 = alt.Chart(repo_summaries, width=600, title=\"Activity per repository\").mark_bar().encode(\n",
    "    x='repo',\n",
    "    y='count',\n",
    "    color='kind',\n",
    "    tooltip=\"kind\"\n",
    ")\n",
    "\n",
    "ch2 = alt.Chart(repo_summaries, width=600, title=\"Log activity per repository\").mark_bar().encode(\n",
    "    x='repo',\n",
    "    y='logcount',\n",
    "    color='kind',\n",
    "    tooltip=\"kind\"\n",
    ")\n",
    "\n",
    "ch1 | ch2"
   ]
  },
  {
   "cell_type": "code",
   "execution_count": 12,
   "id": "reasonable-beijing",
   "metadata": {
    "execution": {
     "iopub.execute_input": "2021-02-03T01:48:27.172134Z",
     "iopub.status.busy": "2021-02-03T01:48:27.164242Z",
     "iopub.status.idle": "2021-02-03T01:48:27.177266Z",
     "shell.execute_reply": "2021-02-03T01:48:27.176783Z"
    },
    "papermill": {
     "duration": 0.052195,
     "end_time": "2021-02-03T01:48:27.177426",
     "exception": false,
     "start_time": "2021-02-03T01:48:27.125231",
     "status": "completed"
    },
    "tags": [
     "hide_input"
    ]
   },
   "outputs": [
    {
     "data": {
      "text/html": [
       "\n",
       "<div id=\"altair-viz-3108fd4ece444f6687fae39931c5b55d\"></div>\n",
       "<script type=\"text/javascript\">\n",
       "  (function(spec, embedOpt){\n",
       "    let outputDiv = document.currentScript.previousElementSibling;\n",
       "    if (outputDiv.id !== \"altair-viz-3108fd4ece444f6687fae39931c5b55d\") {\n",
       "      outputDiv = document.getElementById(\"altair-viz-3108fd4ece444f6687fae39931c5b55d\");\n",
       "    }\n",
       "    const paths = {\n",
       "      \"vega\": \"https://cdn.jsdelivr.net/npm//vega@5?noext\",\n",
       "      \"vega-lib\": \"https://cdn.jsdelivr.net/npm//vega-lib?noext\",\n",
       "      \"vega-lite\": \"https://cdn.jsdelivr.net/npm//vega-lite@4.8.1?noext\",\n",
       "      \"vega-embed\": \"https://cdn.jsdelivr.net/npm//vega-embed@6?noext\",\n",
       "    };\n",
       "\n",
       "    function loadScript(lib) {\n",
       "      return new Promise(function(resolve, reject) {\n",
       "        var s = document.createElement('script');\n",
       "        s.src = paths[lib];\n",
       "        s.async = true;\n",
       "        s.onload = () => resolve(paths[lib]);\n",
       "        s.onerror = () => reject(`Error loading script: ${paths[lib]}`);\n",
       "        document.getElementsByTagName(\"head\")[0].appendChild(s);\n",
       "      });\n",
       "    }\n",
       "\n",
       "    function showError(err) {\n",
       "      outputDiv.innerHTML = `<div class=\"error\" style=\"color:red;\">${err}</div>`;\n",
       "      throw err;\n",
       "    }\n",
       "\n",
       "    function displayChart(vegaEmbed) {\n",
       "      vegaEmbed(outputDiv, spec, embedOpt)\n",
       "        .catch(err => showError(`Javascript Error: ${err.message}<br>This usually means there's a typo in your chart specification. See the javascript console for the full traceback.`));\n",
       "    }\n",
       "\n",
       "    if(typeof define === \"function\" && define.amd) {\n",
       "      requirejs.config({paths});\n",
       "      require([\"vega-embed\"], displayChart, err => showError(`Error loading script: ${err.message}`));\n",
       "    } else if (typeof vegaEmbed === \"function\") {\n",
       "      displayChart(vegaEmbed);\n",
       "    } else {\n",
       "      loadScript(\"vega\")\n",
       "        .then(() => loadScript(\"vega-lite\"))\n",
       "        .then(() => loadScript(\"vega-embed\"))\n",
       "        .catch(showError)\n",
       "        .then(() => displayChart(vegaEmbed));\n",
       "    }\n",
       "  })({\"config\": {\"axisLeft\": {\"labelFontSize\": 15}, \"axisBottom\": {\"labelFontSize\": 15}}, \"data\": {\"name\": \"data-d7e2bb1594451db9aa95defe0c73348e\"}, \"mark\": \"bar\", \"encoding\": {\"color\": {\"type\": \"nominal\", \"field\": \"kind\"}, \"tooltip\": {\"type\": \"nominal\", \"field\": \"org\"}, \"x\": {\"type\": \"nominal\", \"field\": \"org\"}, \"y\": {\"type\": \"quantitative\", \"field\": \"count\"}}, \"width\": 600, \"$schema\": \"https://vega.github.io/schema/vega-lite/v4.8.1.json\", \"datasets\": {\"data-d7e2bb1594451db9aa95defe0c73348e\": [{\"org\": \"executablebooks\", \"kind\": \"comments\", \"count\": 5}, {\"org\": \"executablebooks\", \"kind\": \"issues\", \"count\": 4}, {\"org\": \"executablebooks\", \"kind\": \"prs\", \"count\": 1}, {\"org\": \"jupyterhub\", \"kind\": \"comments\", \"count\": 281}, {\"org\": \"jupyterhub\", \"kind\": \"issues\", \"count\": 51}, {\"org\": \"jupyterhub\", \"kind\": \"prs\", \"count\": 112}]}}, {\"mode\": \"vega-lite\"});\n",
       "</script>"
      ],
      "text/plain": [
       "alt.Chart(...)"
      ]
     },
     "execution_count": 12,
     "metadata": {},
     "output_type": "execute_result"
    }
   ],
   "source": [
    "alt.Chart(org_summaries, width=600).mark_bar().encode(\n",
    "    x='org',\n",
    "    y='count',\n",
    "    color='kind',\n",
    "    tooltip=\"org\"\n",
    ")"
   ]
  },
  {
   "cell_type": "markdown",
   "id": "indoor-bibliography",
   "metadata": {
    "papermill": {
     "duration": 0.016326,
     "end_time": "2021-02-03T01:48:27.210257",
     "exception": false,
     "start_time": "2021-02-03T01:48:27.193931",
     "status": "completed"
    },
    "tags": []
   },
   "source": [
    "## By repository over time"
   ]
  },
  {
   "cell_type": "markdown",
   "id": "absolute-racing",
   "metadata": {
    "papermill": {
     "duration": 0.017734,
     "end_time": "2021-02-03T01:48:27.245882",
     "exception": false,
     "start_time": "2021-02-03T01:48:27.228148",
     "status": "completed"
    },
    "tags": []
   },
   "source": [
    "### Comments"
   ]
  },
  {
   "cell_type": "code",
   "execution_count": 13,
   "id": "affected-shanghai",
   "metadata": {
    "execution": {
     "iopub.execute_input": "2021-02-03T01:48:27.288564Z",
     "iopub.status.busy": "2021-02-03T01:48:27.287974Z",
     "iopub.status.idle": "2021-02-03T01:48:27.402825Z",
     "shell.execute_reply": "2021-02-03T01:48:27.403329Z"
    },
    "papermill": {
     "duration": 0.14124,
     "end_time": "2021-02-03T01:48:27.403528",
     "exception": false,
     "start_time": "2021-02-03T01:48:27.262288",
     "status": "completed"
    },
    "tags": [
     "hide_input"
    ]
   },
   "outputs": [
    {
     "data": {
      "text/html": [
       "\n",
       "<div id=\"altair-viz-c14eb675bfd94ae18d739f7fb014df60\"></div>\n",
       "<script type=\"text/javascript\">\n",
       "  (function(spec, embedOpt){\n",
       "    let outputDiv = document.currentScript.previousElementSibling;\n",
       "    if (outputDiv.id !== \"altair-viz-c14eb675bfd94ae18d739f7fb014df60\") {\n",
       "      outputDiv = document.getElementById(\"altair-viz-c14eb675bfd94ae18d739f7fb014df60\");\n",
       "    }\n",
       "    const paths = {\n",
       "      \"vega\": \"https://cdn.jsdelivr.net/npm//vega@5?noext\",\n",
       "      \"vega-lib\": \"https://cdn.jsdelivr.net/npm//vega-lib?noext\",\n",
       "      \"vega-lite\": \"https://cdn.jsdelivr.net/npm//vega-lite@4.8.1?noext\",\n",
       "      \"vega-embed\": \"https://cdn.jsdelivr.net/npm//vega-embed@6?noext\",\n",
       "    };\n",
       "\n",
       "    function loadScript(lib) {\n",
       "      return new Promise(function(resolve, reject) {\n",
       "        var s = document.createElement('script');\n",
       "        s.src = paths[lib];\n",
       "        s.async = true;\n",
       "        s.onload = () => resolve(paths[lib]);\n",
       "        s.onerror = () => reject(`Error loading script: ${paths[lib]}`);\n",
       "        document.getElementsByTagName(\"head\")[0].appendChild(s);\n",
       "      });\n",
       "    }\n",
       "\n",
       "    function showError(err) {\n",
       "      outputDiv.innerHTML = `<div class=\"error\" style=\"color:red;\">${err}</div>`;\n",
       "      throw err;\n",
       "    }\n",
       "\n",
       "    function displayChart(vegaEmbed) {\n",
       "      vegaEmbed(outputDiv, spec, embedOpt)\n",
       "        .catch(err => showError(`Javascript Error: ${err.message}<br>This usually means there's a typo in your chart specification. See the javascript console for the full traceback.`));\n",
       "    }\n",
       "\n",
       "    if(typeof define === \"function\" && define.amd) {\n",
       "      requirejs.config({paths});\n",
       "      require([\"vega-embed\"], displayChart, err => showError(`Error loading script: ${err.message}`));\n",
       "    } else if (typeof vegaEmbed === \"function\") {\n",
       "      displayChart(vegaEmbed);\n",
       "    } else {\n",
       "      loadScript(\"vega\")\n",
       "        .then(() => loadScript(\"vega-lite\"))\n",
       "        .then(() => loadScript(\"vega-embed\"))\n",
       "        .catch(showError)\n",
       "        .then(() => displayChart(vegaEmbed));\n",
       "    }\n",
       "  })({\"config\": {\"axisLeft\": {\"labelFontSize\": 15}, \"axisBottom\": {\"labelFontSize\": 15}}, \"layer\": [{\"data\": {\"name\": \"data-de9e3e810eea3ccfce14aee62f463b9b\"}, \"mark\": \"line\", \"encoding\": {\"color\": {\"type\": \"nominal\", \"field\": \"repo\"}, \"tooltip\": {\"type\": \"nominal\", \"field\": \"repo\"}, \"x\": {\"type\": \"temporal\", \"field\": \"createdAt\"}, \"y\": {\"type\": \"quantitative\", \"field\": \"count\"}}, \"width\": 600}, {\"data\": {\"name\": \"data-a13943a4247d5ed0a4449a540e384a37\"}, \"mark\": {\"type\": \"line\", \"color\": \"black\"}, \"encoding\": {\"x\": {\"type\": \"temporal\", \"field\": \"createdAt\"}, \"y\": {\"type\": \"quantitative\", \"field\": \"count\"}}, \"width\": 600}], \"$schema\": \"https://vega.github.io/schema/vega-lite/v4.8.1.json\", \"datasets\": {\"data-de9e3e810eea3ccfce14aee62f463b9b\": [{\"repo\": \"MyST-Parser\", \"createdAt\": \"2021-01-03T00:00:00\", \"count\": 1}, {\"repo\": \"MyST-Parser\", \"createdAt\": \"2021-01-10T00:00:00\", \"count\": 0}, {\"repo\": \"MyST-Parser\", \"createdAt\": \"2021-01-17T00:00:00\", \"count\": 0}, {\"repo\": \"MyST-Parser\", \"createdAt\": \"2021-01-24T00:00:00\", \"count\": 1}, {\"repo\": \"action-k3s-helm\", \"createdAt\": \"2020-12-13T00:00:00\", \"count\": 1}, {\"repo\": \"action-k3s-helm\", \"createdAt\": \"2020-12-20T00:00:00\", \"count\": 0}, {\"repo\": \"action-k3s-helm\", \"createdAt\": \"2020-12-27T00:00:00\", \"count\": 0}, {\"repo\": \"action-k3s-helm\", \"createdAt\": \"2021-01-03T00:00:00\", \"count\": 4}, {\"repo\": \"action-k3s-helm\", \"createdAt\": \"2021-01-10T00:00:00\", \"count\": 0}, {\"repo\": \"action-k3s-helm\", \"createdAt\": \"2021-01-17T00:00:00\", \"count\": 12}, {\"repo\": \"action-k3s-helm\", \"createdAt\": \"2021-01-24T00:00:00\", \"count\": 1}, {\"repo\": \"action-k8s-await-workloads\", \"createdAt\": \"2021-01-31T00:00:00\", \"count\": 4}, {\"repo\": \"action-k8s-await-workloads\", \"createdAt\": \"2021-02-07T00:00:00\", \"count\": 1}, {\"repo\": \"action-k8s-namespace-report\", \"createdAt\": \"2021-01-17T00:00:00\", \"count\": 3}, {\"repo\": \"action-k8s-namespace-report\", \"createdAt\": \"2021-01-24T00:00:00\", \"count\": 0}, {\"repo\": \"action-k8s-namespace-report\", \"createdAt\": \"2021-01-31T00:00:00\", \"count\": 0}, {\"repo\": \"action-k8s-namespace-report\", \"createdAt\": \"2021-02-07T00:00:00\", \"count\": 1}, {\"repo\": \"batchspawner\", \"createdAt\": \"2021-01-31T00:00:00\", \"count\": 8}, {\"repo\": \"binderhub\", \"createdAt\": \"2020-12-13T00:00:00\", \"count\": 3}, {\"repo\": \"binderhub\", \"createdAt\": \"2020-12-20T00:00:00\", \"count\": 0}, {\"repo\": \"binderhub\", \"createdAt\": \"2020-12-27T00:00:00\", \"count\": 3}, {\"repo\": \"binderhub\", \"createdAt\": \"2021-01-03T00:00:00\", \"count\": 0}, {\"repo\": \"binderhub\", \"createdAt\": \"2021-01-10T00:00:00\", \"count\": 8}, {\"repo\": \"binderhub\", \"createdAt\": \"2021-01-17T00:00:00\", \"count\": 0}, {\"repo\": \"binderhub\", \"createdAt\": \"2021-01-24T00:00:00\", \"count\": 5}, {\"repo\": \"chartpress\", \"createdAt\": \"2020-12-13T00:00:00\", \"count\": 1}, {\"repo\": \"chartpress\", \"createdAt\": \"2020-12-20T00:00:00\", \"count\": 1}, {\"repo\": \"chartpress\", \"createdAt\": \"2020-12-27T00:00:00\", \"count\": 0}, {\"repo\": \"chartpress\", \"createdAt\": \"2021-01-03T00:00:00\", \"count\": 0}, {\"repo\": \"chartpress\", \"createdAt\": \"2021-01-10T00:00:00\", \"count\": 0}, {\"repo\": \"chartpress\", \"createdAt\": \"2021-01-17T00:00:00\", \"count\": 0}, {\"repo\": \"chartpress\", \"createdAt\": \"2021-01-24T00:00:00\", \"count\": 0}, {\"repo\": \"chartpress\", \"createdAt\": \"2021-01-31T00:00:00\", \"count\": 1}, {\"repo\": \"dockerspawner\", \"createdAt\": \"2020-12-20T00:00:00\", \"count\": 7}, {\"repo\": \"github-activity\", \"createdAt\": \"2020-12-13T00:00:00\", \"count\": 1}, {\"repo\": \"helm-chart\", \"createdAt\": \"2021-01-03T00:00:00\", \"count\": 1}, {\"repo\": \"helm-chart\", \"createdAt\": \"2021-01-10T00:00:00\", \"count\": 0}, {\"repo\": \"helm-chart\", \"createdAt\": \"2021-01-17T00:00:00\", \"count\": 0}, {\"repo\": \"helm-chart\", \"createdAt\": \"2021-01-24T00:00:00\", \"count\": 0}, {\"repo\": \"helm-chart\", \"createdAt\": \"2021-01-31T00:00:00\", \"count\": 3}, {\"repo\": \"jupyter-book\", \"createdAt\": \"2020-12-13T00:00:00\", \"count\": 1}, {\"repo\": \"jupyter-server-proxy\", \"createdAt\": \"2021-01-10T00:00:00\", \"count\": 2}, {\"repo\": \"jupyter-server-proxy\", \"createdAt\": \"2021-01-17T00:00:00\", \"count\": 3}, {\"repo\": \"jupyterhub\", \"createdAt\": \"2020-12-13T00:00:00\", \"count\": 2}, {\"repo\": \"jupyterhub\", \"createdAt\": \"2020-12-20T00:00:00\", \"count\": 0}, {\"repo\": \"jupyterhub\", \"createdAt\": \"2020-12-27T00:00:00\", \"count\": 2}, {\"repo\": \"jupyterhub\", \"createdAt\": \"2021-01-03T00:00:00\", \"count\": 1}, {\"repo\": \"jupyterhub\", \"createdAt\": \"2021-01-10T00:00:00\", \"count\": 3}, {\"repo\": \"jupyterhub\", \"createdAt\": \"2021-01-17T00:00:00\", \"count\": 0}, {\"repo\": \"jupyterhub\", \"createdAt\": \"2021-01-24T00:00:00\", \"count\": 0}, {\"repo\": \"jupyterhub\", \"createdAt\": \"2021-01-31T00:00:00\", \"count\": 2}, {\"repo\": \"jupyterhub-idle-culler\", \"createdAt\": \"2021-01-31T00:00:00\", \"count\": 1}, {\"repo\": \"kubespawner\", \"createdAt\": \"2020-12-20T00:00:00\", \"count\": 2}, {\"repo\": \"kubespawner\", \"createdAt\": \"2020-12-27T00:00:00\", \"count\": 2}, {\"repo\": \"kubespawner\", \"createdAt\": \"2021-01-03T00:00:00\", \"count\": 0}, {\"repo\": \"kubespawner\", \"createdAt\": \"2021-01-10T00:00:00\", \"count\": 4}, {\"repo\": \"kubespawner\", \"createdAt\": \"2021-01-17T00:00:00\", \"count\": 0}, {\"repo\": \"kubespawner\", \"createdAt\": \"2021-01-24T00:00:00\", \"count\": 1}, {\"repo\": \"kubespawner\", \"createdAt\": \"2021-01-31T00:00:00\", \"count\": 0}, {\"repo\": \"kubespawner\", \"createdAt\": \"2021-02-07T00:00:00\", \"count\": 1}, {\"repo\": \"ldapauthenticator\", \"createdAt\": \"2020-12-13T00:00:00\", \"count\": 1}, {\"repo\": \"mybinder.org-deploy\", \"createdAt\": \"2020-12-06T00:00:00\", \"count\": 2}, {\"repo\": \"mybinder.org-deploy\", \"createdAt\": \"2020-12-13T00:00:00\", \"count\": 2}, {\"repo\": \"mybinder.org-deploy\", \"createdAt\": \"2020-12-20T00:00:00\", \"count\": 2}, {\"repo\": \"mybinder.org-deploy\", \"createdAt\": \"2020-12-27T00:00:00\", \"count\": 4}, {\"repo\": \"mybinder.org-deploy\", \"createdAt\": \"2021-01-03T00:00:00\", \"count\": 2}, {\"repo\": \"mybinder.org-deploy\", \"createdAt\": \"2021-01-10T00:00:00\", \"count\": 6}, {\"repo\": \"mybinder.org-deploy\", \"createdAt\": \"2021-01-17T00:00:00\", \"count\": 0}, {\"repo\": \"mybinder.org-deploy\", \"createdAt\": \"2021-01-24T00:00:00\", \"count\": 6}, {\"repo\": \"mybinder.org-deploy\", \"createdAt\": \"2021-01-31T00:00:00\", \"count\": 0}, {\"repo\": \"mybinder.org-deploy\", \"createdAt\": \"2021-02-07T00:00:00\", \"count\": 2}, {\"repo\": \"nativeauthenticator\", \"createdAt\": \"2021-01-31T00:00:00\", \"count\": 3}, {\"repo\": \"nbgitpuller\", \"createdAt\": \"2020-12-13T00:00:00\", \"count\": 1}, {\"repo\": \"nbgitpuller\", \"createdAt\": \"2020-12-20T00:00:00\", \"count\": 1}, {\"repo\": \"nbgitpuller\", \"createdAt\": \"2020-12-27T00:00:00\", \"count\": 0}, {\"repo\": \"nbgitpuller\", \"createdAt\": \"2021-01-03T00:00:00\", \"count\": 0}, {\"repo\": \"nbgitpuller\", \"createdAt\": \"2021-01-10T00:00:00\", \"count\": 3}, {\"repo\": \"oauthenticator\", \"createdAt\": \"2020-12-13T00:00:00\", \"count\": 2}, {\"repo\": \"oauthenticator\", \"createdAt\": \"2020-12-20T00:00:00\", \"count\": 0}, {\"repo\": \"oauthenticator\", \"createdAt\": \"2020-12-27T00:00:00\", \"count\": 0}, {\"repo\": \"oauthenticator\", \"createdAt\": \"2021-01-03T00:00:00\", \"count\": 0}, {\"repo\": \"oauthenticator\", \"createdAt\": \"2021-01-10T00:00:00\", \"count\": 0}, {\"repo\": \"oauthenticator\", \"createdAt\": \"2021-01-17T00:00:00\", \"count\": 0}, {\"repo\": \"oauthenticator\", \"createdAt\": \"2021-01-24T00:00:00\", \"count\": 0}, {\"repo\": \"oauthenticator\", \"createdAt\": \"2021-01-31T00:00:00\", \"count\": 0}, {\"repo\": \"oauthenticator\", \"createdAt\": \"2021-02-07T00:00:00\", \"count\": 2}, {\"repo\": \"pebble-helm-chart\", \"createdAt\": \"2020-12-13T00:00:00\", \"count\": 1}, {\"repo\": \"rst-to-myst\", \"createdAt\": \"2021-01-10T00:00:00\", \"count\": 1}, {\"repo\": \"team-compass\", \"createdAt\": \"2020-12-13T00:00:00\", \"count\": 1}, {\"repo\": \"team-compass\", \"createdAt\": \"2020-12-20T00:00:00\", \"count\": 0}, {\"repo\": \"team-compass\", \"createdAt\": \"2020-12-27T00:00:00\", \"count\": 0}, {\"repo\": \"team-compass\", \"createdAt\": \"2021-01-03T00:00:00\", \"count\": 0}, {\"repo\": \"team-compass\", \"createdAt\": \"2021-01-10T00:00:00\", \"count\": 0}, {\"repo\": \"team-compass\", \"createdAt\": \"2021-01-17T00:00:00\", \"count\": 2}, {\"repo\": \"team-compass\", \"createdAt\": \"2021-01-24T00:00:00\", \"count\": 1}, {\"repo\": \"zero-to-jupyterhub-k8s\", \"createdAt\": \"2020-10-11T00:00:00\", \"count\": 2}, {\"repo\": \"zero-to-jupyterhub-k8s\", \"createdAt\": \"2020-10-18T00:00:00\", \"count\": 0}, {\"repo\": \"zero-to-jupyterhub-k8s\", \"createdAt\": \"2020-10-25T00:00:00\", \"count\": 0}, {\"repo\": \"zero-to-jupyterhub-k8s\", \"createdAt\": \"2020-11-01T00:00:00\", \"count\": 0}, {\"repo\": \"zero-to-jupyterhub-k8s\", \"createdAt\": \"2020-11-08T00:00:00\", \"count\": 0}, {\"repo\": \"zero-to-jupyterhub-k8s\", \"createdAt\": \"2020-11-15T00:00:00\", \"count\": 0}, {\"repo\": \"zero-to-jupyterhub-k8s\", \"createdAt\": \"2020-11-22T00:00:00\", \"count\": 0}, {\"repo\": \"zero-to-jupyterhub-k8s\", \"createdAt\": \"2020-11-29T00:00:00\", \"count\": 0}, {\"repo\": \"zero-to-jupyterhub-k8s\", \"createdAt\": \"2020-12-06T00:00:00\", \"count\": 0}, {\"repo\": \"zero-to-jupyterhub-k8s\", \"createdAt\": \"2020-12-13T00:00:00\", \"count\": 20}, {\"repo\": \"zero-to-jupyterhub-k8s\", \"createdAt\": \"2020-12-20T00:00:00\", \"count\": 18}, {\"repo\": \"zero-to-jupyterhub-k8s\", \"createdAt\": \"2020-12-27T00:00:00\", \"count\": 16}, {\"repo\": \"zero-to-jupyterhub-k8s\", \"createdAt\": \"2021-01-03T00:00:00\", \"count\": 4}, {\"repo\": \"zero-to-jupyterhub-k8s\", \"createdAt\": \"2021-01-10T00:00:00\", \"count\": 4}, {\"repo\": \"zero-to-jupyterhub-k8s\", \"createdAt\": \"2021-01-17T00:00:00\", \"count\": 30}, {\"repo\": \"zero-to-jupyterhub-k8s\", \"createdAt\": \"2021-01-24T00:00:00\", \"count\": 24}, {\"repo\": \"zero-to-jupyterhub-k8s\", \"createdAt\": \"2021-01-31T00:00:00\", \"count\": 22}, {\"repo\": \"zero-to-jupyterhub-k8s\", \"createdAt\": \"2021-02-07T00:00:00\", \"count\": 3}], \"data-a13943a4247d5ed0a4449a540e384a37\": [{\"createdAt\": \"2020-10-11T00:00:00\", \"count\": 2}, {\"createdAt\": \"2020-10-18T00:00:00\", \"count\": 0}, {\"createdAt\": \"2020-10-25T00:00:00\", \"count\": 0}, {\"createdAt\": \"2020-11-01T00:00:00\", \"count\": 0}, {\"createdAt\": \"2020-11-08T00:00:00\", \"count\": 0}, {\"createdAt\": \"2020-11-15T00:00:00\", \"count\": 0}, {\"createdAt\": \"2020-11-22T00:00:00\", \"count\": 0}, {\"createdAt\": \"2020-11-29T00:00:00\", \"count\": 0}, {\"createdAt\": \"2020-12-06T00:00:00\", \"count\": 2}, {\"createdAt\": \"2020-12-13T00:00:00\", \"count\": 37}, {\"createdAt\": \"2020-12-20T00:00:00\", \"count\": 31}, {\"createdAt\": \"2020-12-27T00:00:00\", \"count\": 27}, {\"createdAt\": \"2021-01-03T00:00:00\", \"count\": 13}, {\"createdAt\": \"2021-01-10T00:00:00\", \"count\": 31}, {\"createdAt\": \"2021-01-17T00:00:00\", \"count\": 50}, {\"createdAt\": \"2021-01-24T00:00:00\", \"count\": 39}, {\"createdAt\": \"2021-01-31T00:00:00\", \"count\": 44}, {\"createdAt\": \"2021-02-07T00:00:00\", \"count\": 10}]}}, {\"mode\": \"vega-lite\"});\n",
       "</script>"
      ],
      "text/plain": [
       "alt.LayerChart(...)"
      ]
     },
     "execution_count": 13,
     "metadata": {},
     "output_type": "execute_result"
    }
   ],
   "source": [
    "comments_time = comments.groupby('repo').resample('W', on='createdAt').count()['author'].reset_index()\n",
    "comments_time = comments_time.rename(columns={'author': 'count'})\n",
    "comments_time_total = comments_time.groupby('createdAt').agg({\"count\": \"sum\"}).reset_index()\n",
    "ch1 = alt.Chart(comments_time, width=600).mark_line().encode(\n",
    "    x='createdAt',\n",
    "    y='count',\n",
    "    color='repo',\n",
    "    tooltip=\"repo\"\n",
    ")\n",
    "\n",
    "ch2 = alt.Chart(comments_time_total, width=600).mark_line(color=\"black\").encode(\n",
    "    x='createdAt',\n",
    "    y='count',\n",
    ")\n",
    "\n",
    "ch1 + ch2"
   ]
  },
  {
   "cell_type": "markdown",
   "id": "signal-jefferson",
   "metadata": {
    "papermill": {
     "duration": 0.018098,
     "end_time": "2021-02-03T01:48:27.440476",
     "exception": false,
     "start_time": "2021-02-03T01:48:27.422378",
     "status": "completed"
    },
    "tags": []
   },
   "source": [
    "### PRs"
   ]
  },
  {
   "cell_type": "code",
   "execution_count": 14,
   "id": "superior-insertion",
   "metadata": {
    "execution": {
     "iopub.execute_input": "2021-02-03T01:48:27.486735Z",
     "iopub.status.busy": "2021-02-03T01:48:27.485741Z",
     "iopub.status.idle": "2021-02-03T01:48:27.574074Z",
     "shell.execute_reply": "2021-02-03T01:48:27.574541Z"
    },
    "papermill": {
     "duration": 0.117084,
     "end_time": "2021-02-03T01:48:27.574757",
     "exception": false,
     "start_time": "2021-02-03T01:48:27.457673",
     "status": "completed"
    },
    "tags": [
     "hide_input"
    ]
   },
   "outputs": [
    {
     "data": {
      "text/html": [
       "\n",
       "<div id=\"altair-viz-230293b587af4faa8fbf72ef59f4cf96\"></div>\n",
       "<script type=\"text/javascript\">\n",
       "  (function(spec, embedOpt){\n",
       "    let outputDiv = document.currentScript.previousElementSibling;\n",
       "    if (outputDiv.id !== \"altair-viz-230293b587af4faa8fbf72ef59f4cf96\") {\n",
       "      outputDiv = document.getElementById(\"altair-viz-230293b587af4faa8fbf72ef59f4cf96\");\n",
       "    }\n",
       "    const paths = {\n",
       "      \"vega\": \"https://cdn.jsdelivr.net/npm//vega@5?noext\",\n",
       "      \"vega-lib\": \"https://cdn.jsdelivr.net/npm//vega-lib?noext\",\n",
       "      \"vega-lite\": \"https://cdn.jsdelivr.net/npm//vega-lite@4.8.1?noext\",\n",
       "      \"vega-embed\": \"https://cdn.jsdelivr.net/npm//vega-embed@6?noext\",\n",
       "    };\n",
       "\n",
       "    function loadScript(lib) {\n",
       "      return new Promise(function(resolve, reject) {\n",
       "        var s = document.createElement('script');\n",
       "        s.src = paths[lib];\n",
       "        s.async = true;\n",
       "        s.onload = () => resolve(paths[lib]);\n",
       "        s.onerror = () => reject(`Error loading script: ${paths[lib]}`);\n",
       "        document.getElementsByTagName(\"head\")[0].appendChild(s);\n",
       "      });\n",
       "    }\n",
       "\n",
       "    function showError(err) {\n",
       "      outputDiv.innerHTML = `<div class=\"error\" style=\"color:red;\">${err}</div>`;\n",
       "      throw err;\n",
       "    }\n",
       "\n",
       "    function displayChart(vegaEmbed) {\n",
       "      vegaEmbed(outputDiv, spec, embedOpt)\n",
       "        .catch(err => showError(`Javascript Error: ${err.message}<br>This usually means there's a typo in your chart specification. See the javascript console for the full traceback.`));\n",
       "    }\n",
       "\n",
       "    if(typeof define === \"function\" && define.amd) {\n",
       "      requirejs.config({paths});\n",
       "      require([\"vega-embed\"], displayChart, err => showError(`Error loading script: ${err.message}`));\n",
       "    } else if (typeof vegaEmbed === \"function\") {\n",
       "      displayChart(vegaEmbed);\n",
       "    } else {\n",
       "      loadScript(\"vega\")\n",
       "        .then(() => loadScript(\"vega-lite\"))\n",
       "        .then(() => loadScript(\"vega-embed\"))\n",
       "        .catch(showError)\n",
       "        .then(() => displayChart(vegaEmbed));\n",
       "    }\n",
       "  })({\"config\": {\"axisLeft\": {\"labelFontSize\": 15}, \"axisBottom\": {\"labelFontSize\": 15}}, \"layer\": [{\"data\": {\"name\": \"data-b7696f1cc5e0d4156004da26ed3005c8\"}, \"mark\": \"line\", \"encoding\": {\"color\": {\"type\": \"nominal\", \"field\": \"repo\"}, \"tooltip\": {\"type\": \"nominal\", \"field\": \"repo\"}, \"x\": {\"type\": \"temporal\", \"field\": \"createdAt\"}, \"y\": {\"type\": \"quantitative\", \"field\": \"count\"}}, \"width\": 600}, {\"data\": {\"name\": \"data-cc86ae3642bdb2d6eaefd8f42da6a059\"}, \"mark\": {\"type\": \"line\", \"color\": \"black\"}, \"encoding\": {\"x\": {\"type\": \"temporal\", \"field\": \"createdAt\"}, \"y\": {\"type\": \"quantitative\", \"field\": \"count\"}}, \"width\": 600}], \"$schema\": \"https://vega.github.io/schema/vega-lite/v4.8.1.json\", \"datasets\": {\"data-b7696f1cc5e0d4156004da26ed3005c8\": [{\"repo\": \"action-k3s-helm\", \"createdAt\": \"2020-12-27T00:00:00\", \"count\": 2}, {\"repo\": \"action-k3s-helm\", \"createdAt\": \"2021-01-03T00:00:00\", \"count\": 5}, {\"repo\": \"action-k3s-helm\", \"createdAt\": \"2021-01-10T00:00:00\", \"count\": 1}, {\"repo\": \"action-k3s-helm\", \"createdAt\": \"2021-01-17T00:00:00\", \"count\": 5}, {\"repo\": \"action-k8s-await-workloads\", \"createdAt\": \"2021-02-07T00:00:00\", \"count\": 2}, {\"repo\": \"batchspawner\", \"createdAt\": \"2021-01-31T00:00:00\", \"count\": 1}, {\"repo\": \"binderhub\", \"createdAt\": \"2020-11-01T00:00:00\", \"count\": 1}, {\"repo\": \"binderhub\", \"createdAt\": \"2020-11-08T00:00:00\", \"count\": 0}, {\"repo\": \"binderhub\", \"createdAt\": \"2020-11-15T00:00:00\", \"count\": 0}, {\"repo\": \"binderhub\", \"createdAt\": \"2020-11-22T00:00:00\", \"count\": 0}, {\"repo\": \"binderhub\", \"createdAt\": \"2020-11-29T00:00:00\", \"count\": 0}, {\"repo\": \"binderhub\", \"createdAt\": \"2020-12-06T00:00:00\", \"count\": 0}, {\"repo\": \"binderhub\", \"createdAt\": \"2020-12-13T00:00:00\", \"count\": 0}, {\"repo\": \"binderhub\", \"createdAt\": \"2020-12-20T00:00:00\", \"count\": 0}, {\"repo\": \"binderhub\", \"createdAt\": \"2020-12-27T00:00:00\", \"count\": 3}, {\"repo\": \"binderhub\", \"createdAt\": \"2021-01-03T00:00:00\", \"count\": 0}, {\"repo\": \"binderhub\", \"createdAt\": \"2021-01-10T00:00:00\", \"count\": 5}, {\"repo\": \"binderhub\", \"createdAt\": \"2021-01-17T00:00:00\", \"count\": 2}, {\"repo\": \"binderhub\", \"createdAt\": \"2021-01-24T00:00:00\", \"count\": 1}, {\"repo\": \"chartpress\", \"createdAt\": \"2020-12-20T00:00:00\", \"count\": 1}, {\"repo\": \"chartpress\", \"createdAt\": \"2020-12-27T00:00:00\", \"count\": 0}, {\"repo\": \"chartpress\", \"createdAt\": \"2021-01-03T00:00:00\", \"count\": 0}, {\"repo\": \"chartpress\", \"createdAt\": \"2021-01-10T00:00:00\", \"count\": 0}, {\"repo\": \"chartpress\", \"createdAt\": \"2021-01-17T00:00:00\", \"count\": 0}, {\"repo\": \"chartpress\", \"createdAt\": \"2021-01-24T00:00:00\", \"count\": 2}, {\"repo\": \"configurable-http-proxy\", \"createdAt\": \"2021-02-07T00:00:00\", \"count\": 1}, {\"repo\": \"github-activity\", \"createdAt\": \"2021-01-10T00:00:00\", \"count\": 1}, {\"repo\": \"helm-chart\", \"createdAt\": \"2021-01-24T00:00:00\", \"count\": 1}, {\"repo\": \"helm-chart\", \"createdAt\": \"2021-01-31T00:00:00\", \"count\": 3}, {\"repo\": \"jupyter-server-proxy\", \"createdAt\": \"2021-02-07T00:00:00\", \"count\": 1}, {\"repo\": \"jupyterhub\", \"createdAt\": \"2021-01-10T00:00:00\", \"count\": 1}, {\"repo\": \"jupyterhub\", \"createdAt\": \"2021-01-17T00:00:00\", \"count\": 0}, {\"repo\": \"jupyterhub\", \"createdAt\": \"2021-01-24T00:00:00\", \"count\": 0}, {\"repo\": \"jupyterhub\", \"createdAt\": \"2021-01-31T00:00:00\", \"count\": 1}, {\"repo\": \"kubespawner\", \"createdAt\": \"2020-12-20T00:00:00\", \"count\": 1}, {\"repo\": \"mybinder.org-deploy\", \"createdAt\": \"2020-12-06T00:00:00\", \"count\": 9}, {\"repo\": \"mybinder.org-deploy\", \"createdAt\": \"2020-12-13T00:00:00\", \"count\": 2}, {\"repo\": \"mybinder.org-deploy\", \"createdAt\": \"2020-12-20T00:00:00\", \"count\": 0}, {\"repo\": \"mybinder.org-deploy\", \"createdAt\": \"2020-12-27T00:00:00\", \"count\": 0}, {\"repo\": \"mybinder.org-deploy\", \"createdAt\": \"2021-01-03T00:00:00\", \"count\": 0}, {\"repo\": \"mybinder.org-deploy\", \"createdAt\": \"2021-01-10T00:00:00\", \"count\": 1}, {\"repo\": \"nativeauthenticator\", \"createdAt\": \"2021-01-31T00:00:00\", \"count\": 4}, {\"repo\": \"zero-to-jupyterhub-k8s\", \"createdAt\": \"2020-10-04T00:00:00\", \"count\": 1}, {\"repo\": \"zero-to-jupyterhub-k8s\", \"createdAt\": \"2020-10-11T00:00:00\", \"count\": 1}, {\"repo\": \"zero-to-jupyterhub-k8s\", \"createdAt\": \"2020-10-18T00:00:00\", \"count\": 0}, {\"repo\": \"zero-to-jupyterhub-k8s\", \"createdAt\": \"2020-10-25T00:00:00\", \"count\": 0}, {\"repo\": \"zero-to-jupyterhub-k8s\", \"createdAt\": \"2020-11-01T00:00:00\", \"count\": 0}, {\"repo\": \"zero-to-jupyterhub-k8s\", \"createdAt\": \"2020-11-08T00:00:00\", \"count\": 0}, {\"repo\": \"zero-to-jupyterhub-k8s\", \"createdAt\": \"2020-11-15T00:00:00\", \"count\": 0}, {\"repo\": \"zero-to-jupyterhub-k8s\", \"createdAt\": \"2020-11-22T00:00:00\", \"count\": 0}, {\"repo\": \"zero-to-jupyterhub-k8s\", \"createdAt\": \"2020-11-29T00:00:00\", \"count\": 1}, {\"repo\": \"zero-to-jupyterhub-k8s\", \"createdAt\": \"2020-12-06T00:00:00\", \"count\": 1}, {\"repo\": \"zero-to-jupyterhub-k8s\", \"createdAt\": \"2020-12-13T00:00:00\", \"count\": 6}, {\"repo\": \"zero-to-jupyterhub-k8s\", \"createdAt\": \"2020-12-20T00:00:00\", \"count\": 4}, {\"repo\": \"zero-to-jupyterhub-k8s\", \"createdAt\": \"2020-12-27T00:00:00\", \"count\": 13}, {\"repo\": \"zero-to-jupyterhub-k8s\", \"createdAt\": \"2021-01-03T00:00:00\", \"count\": 1}, {\"repo\": \"zero-to-jupyterhub-k8s\", \"createdAt\": \"2021-01-10T00:00:00\", \"count\": 4}, {\"repo\": \"zero-to-jupyterhub-k8s\", \"createdAt\": \"2021-01-17T00:00:00\", \"count\": 12}, {\"repo\": \"zero-to-jupyterhub-k8s\", \"createdAt\": \"2021-01-24T00:00:00\", \"count\": 8}, {\"repo\": \"zero-to-jupyterhub-k8s\", \"createdAt\": \"2021-01-31T00:00:00\", \"count\": 4}], \"data-cc86ae3642bdb2d6eaefd8f42da6a059\": [{\"createdAt\": \"2020-10-04T00:00:00\", \"count\": 1}, {\"createdAt\": \"2020-10-11T00:00:00\", \"count\": 1}, {\"createdAt\": \"2020-10-18T00:00:00\", \"count\": 0}, {\"createdAt\": \"2020-10-25T00:00:00\", \"count\": 0}, {\"createdAt\": \"2020-11-01T00:00:00\", \"count\": 1}, {\"createdAt\": \"2020-11-08T00:00:00\", \"count\": 0}, {\"createdAt\": \"2020-11-15T00:00:00\", \"count\": 0}, {\"createdAt\": \"2020-11-22T00:00:00\", \"count\": 0}, {\"createdAt\": \"2020-11-29T00:00:00\", \"count\": 1}, {\"createdAt\": \"2020-12-06T00:00:00\", \"count\": 10}, {\"createdAt\": \"2020-12-13T00:00:00\", \"count\": 8}, {\"createdAt\": \"2020-12-20T00:00:00\", \"count\": 6}, {\"createdAt\": \"2020-12-27T00:00:00\", \"count\": 18}, {\"createdAt\": \"2021-01-03T00:00:00\", \"count\": 6}, {\"createdAt\": \"2021-01-10T00:00:00\", \"count\": 13}, {\"createdAt\": \"2021-01-17T00:00:00\", \"count\": 19}, {\"createdAt\": \"2021-01-24T00:00:00\", \"count\": 12}, {\"createdAt\": \"2021-01-31T00:00:00\", \"count\": 13}, {\"createdAt\": \"2021-02-07T00:00:00\", \"count\": 4}]}}, {\"mode\": \"vega-lite\"});\n",
       "</script>"
      ],
      "text/plain": [
       "alt.LayerChart(...)"
      ]
     },
     "execution_count": 14,
     "metadata": {},
     "output_type": "execute_result"
    }
   ],
   "source": [
    "prs_time = prs.groupby('repo').resample('W', on='createdAt').count()['author'].reset_index()\n",
    "prs_time = prs_time.rename(columns={'author': 'count'})\n",
    "prs_time_total = prs_time.groupby('createdAt').agg({\"count\": \"sum\"}).reset_index()\n",
    "\n",
    "ch1 = alt.Chart(prs_time, width=600).mark_line().encode(\n",
    "    x='createdAt',\n",
    "    y='count',\n",
    "    color='repo',\n",
    "    tooltip=\"repo\"\n",
    ")\n",
    "\n",
    "ch2 = alt.Chart(prs_time_total, width=600).mark_line(color=\"black\").encode(\n",
    "    x='createdAt',\n",
    "    y='count',\n",
    ")\n",
    "\n",
    "ch1 + ch2"
   ]
  },
  {
   "cell_type": "code",
   "execution_count": 15,
   "id": "finnish-eating",
   "metadata": {
    "execution": {
     "iopub.execute_input": "2021-02-03T01:48:27.618897Z",
     "iopub.status.busy": "2021-02-03T01:48:27.618323Z",
     "iopub.status.idle": "2021-02-03T01:48:27.696432Z",
     "shell.execute_reply": "2021-02-03T01:48:27.696868Z"
    },
    "papermill": {
     "duration": 0.101833,
     "end_time": "2021-02-03T01:48:27.697048",
     "exception": false,
     "start_time": "2021-02-03T01:48:27.595215",
     "status": "completed"
    },
    "tags": [
     "hide_input"
    ]
   },
   "outputs": [
    {
     "data": {
      "text/html": [
       "\n",
       "<div id=\"altair-viz-9f0c8a454d114ad69a1a37b7d3ebf934\"></div>\n",
       "<script type=\"text/javascript\">\n",
       "  (function(spec, embedOpt){\n",
       "    let outputDiv = document.currentScript.previousElementSibling;\n",
       "    if (outputDiv.id !== \"altair-viz-9f0c8a454d114ad69a1a37b7d3ebf934\") {\n",
       "      outputDiv = document.getElementById(\"altair-viz-9f0c8a454d114ad69a1a37b7d3ebf934\");\n",
       "    }\n",
       "    const paths = {\n",
       "      \"vega\": \"https://cdn.jsdelivr.net/npm//vega@5?noext\",\n",
       "      \"vega-lib\": \"https://cdn.jsdelivr.net/npm//vega-lib?noext\",\n",
       "      \"vega-lite\": \"https://cdn.jsdelivr.net/npm//vega-lite@4.8.1?noext\",\n",
       "      \"vega-embed\": \"https://cdn.jsdelivr.net/npm//vega-embed@6?noext\",\n",
       "    };\n",
       "\n",
       "    function loadScript(lib) {\n",
       "      return new Promise(function(resolve, reject) {\n",
       "        var s = document.createElement('script');\n",
       "        s.src = paths[lib];\n",
       "        s.async = true;\n",
       "        s.onload = () => resolve(paths[lib]);\n",
       "        s.onerror = () => reject(`Error loading script: ${paths[lib]}`);\n",
       "        document.getElementsByTagName(\"head\")[0].appendChild(s);\n",
       "      });\n",
       "    }\n",
       "\n",
       "    function showError(err) {\n",
       "      outputDiv.innerHTML = `<div class=\"error\" style=\"color:red;\">${err}</div>`;\n",
       "      throw err;\n",
       "    }\n",
       "\n",
       "    function displayChart(vegaEmbed) {\n",
       "      vegaEmbed(outputDiv, spec, embedOpt)\n",
       "        .catch(err => showError(`Javascript Error: ${err.message}<br>This usually means there's a typo in your chart specification. See the javascript console for the full traceback.`));\n",
       "    }\n",
       "\n",
       "    if(typeof define === \"function\" && define.amd) {\n",
       "      requirejs.config({paths});\n",
       "      require([\"vega-embed\"], displayChart, err => showError(`Error loading script: ${err.message}`));\n",
       "    } else if (typeof vegaEmbed === \"function\") {\n",
       "      displayChart(vegaEmbed);\n",
       "    } else {\n",
       "      loadScript(\"vega\")\n",
       "        .then(() => loadScript(\"vega-lite\"))\n",
       "        .then(() => loadScript(\"vega-embed\"))\n",
       "        .catch(showError)\n",
       "        .then(() => displayChart(vegaEmbed));\n",
       "    }\n",
       "  })({\"config\": {\"axisLeft\": {\"labelFontSize\": 15}, \"axisBottom\": {\"labelFontSize\": 15}}, \"data\": {\"name\": \"data-6afb1008acbe14541f2515a334a48396\"}, \"mark\": \"line\", \"encoding\": {\"color\": {\"type\": \"nominal\", \"field\": \"repo\"}, \"tooltip\": {\"type\": \"nominal\", \"field\": \"repo\"}, \"x\": {\"type\": \"temporal\", \"field\": \"closedAt\"}, \"y\": {\"type\": \"quantitative\", \"field\": \"count\"}}, \"width\": 600, \"$schema\": \"https://vega.github.io/schema/vega-lite/v4.8.1.json\", \"datasets\": {\"data-6afb1008acbe14541f2515a334a48396\": [{\"repo\": \"action-k3s-helm\", \"closedAt\": \"2021-01-03T00:00:00\", \"count\": 4}, {\"repo\": \"action-k3s-helm\", \"closedAt\": \"2021-01-10T00:00:00\", \"count\": 0}, {\"repo\": \"action-k3s-helm\", \"closedAt\": \"2021-01-17T00:00:00\", \"count\": 3}, {\"repo\": \"action-k8s-await-workloads\", \"closedAt\": \"2021-01-31T00:00:00\", \"count\": 7}, {\"repo\": \"action-k8s-await-workloads\", \"closedAt\": \"2021-02-07T00:00:00\", \"count\": 2}, {\"repo\": \"batchspawner\", \"closedAt\": \"2021-01-31T00:00:00\", \"count\": 4}, {\"repo\": \"binderhub\", \"closedAt\": \"2020-12-13T00:00:00\", \"count\": 1}, {\"repo\": \"binderhub\", \"closedAt\": \"2020-12-20T00:00:00\", \"count\": 0}, {\"repo\": \"binderhub\", \"closedAt\": \"2020-12-27T00:00:00\", \"count\": 4}, {\"repo\": \"binderhub\", \"closedAt\": \"2021-01-03T00:00:00\", \"count\": 0}, {\"repo\": \"binderhub\", \"closedAt\": \"2021-01-10T00:00:00\", \"count\": 4}, {\"repo\": \"binderhub\", \"closedAt\": \"2021-01-17T00:00:00\", \"count\": 2}, {\"repo\": \"binderhub\", \"closedAt\": \"2021-01-24T00:00:00\", \"count\": 2}, {\"repo\": \"binderhub\", \"closedAt\": \"2021-01-31T00:00:00\", \"count\": 0}, {\"repo\": \"binderhub\", \"closedAt\": \"2021-02-07T00:00:00\", \"count\": 1}, {\"repo\": \"chartpress\", \"closedAt\": \"2020-12-20T00:00:00\", \"count\": 2}, {\"repo\": \"chartpress\", \"closedAt\": \"2020-12-27T00:00:00\", \"count\": 0}, {\"repo\": \"chartpress\", \"closedAt\": \"2021-01-03T00:00:00\", \"count\": 0}, {\"repo\": \"chartpress\", \"closedAt\": \"2021-01-10T00:00:00\", \"count\": 0}, {\"repo\": \"chartpress\", \"closedAt\": \"2021-01-17T00:00:00\", \"count\": 0}, {\"repo\": \"chartpress\", \"closedAt\": \"2021-01-24T00:00:00\", \"count\": 1}, {\"repo\": \"configurable-http-proxy\", \"closedAt\": \"2020-12-13T00:00:00\", \"count\": 1}, {\"repo\": \"configurable-http-proxy\", \"closedAt\": \"2020-12-20T00:00:00\", \"count\": 1}, {\"repo\": \"configurable-http-proxy\", \"closedAt\": \"2020-12-27T00:00:00\", \"count\": 0}, {\"repo\": \"configurable-http-proxy\", \"closedAt\": \"2021-01-03T00:00:00\", \"count\": 0}, {\"repo\": \"configurable-http-proxy\", \"closedAt\": \"2021-01-10T00:00:00\", \"count\": 1}, {\"repo\": \"configurable-http-proxy\", \"closedAt\": \"2021-01-17T00:00:00\", \"count\": 0}, {\"repo\": \"configurable-http-proxy\", \"closedAt\": \"2021-01-24T00:00:00\", \"count\": 0}, {\"repo\": \"configurable-http-proxy\", \"closedAt\": \"2021-01-31T00:00:00\", \"count\": 1}, {\"repo\": \"configurable-http-proxy\", \"closedAt\": \"2021-02-07T00:00:00\", \"count\": 1}, {\"repo\": \"helm-chart\", \"closedAt\": \"2021-01-24T00:00:00\", \"count\": 1}, {\"repo\": \"helm-chart\", \"closedAt\": \"2021-01-31T00:00:00\", \"count\": 3}, {\"repo\": \"jupyter-server-proxy\", \"closedAt\": \"2021-01-10T00:00:00\", \"count\": 2}, {\"repo\": \"jupyter-server-proxy\", \"closedAt\": \"2021-01-17T00:00:00\", \"count\": 1}, {\"repo\": \"jupyterhub\", \"closedAt\": \"2020-12-13T00:00:00\", \"count\": 2}, {\"repo\": \"jupyterhub\", \"closedAt\": \"2020-12-20T00:00:00\", \"count\": 0}, {\"repo\": \"jupyterhub\", \"closedAt\": \"2020-12-27T00:00:00\", \"count\": 1}, {\"repo\": \"jupyterhub\", \"closedAt\": \"2021-01-03T00:00:00\", \"count\": 0}, {\"repo\": \"jupyterhub\", \"closedAt\": \"2021-01-10T00:00:00\", \"count\": 2}, {\"repo\": \"jupyterhub\", \"closedAt\": \"2021-01-17T00:00:00\", \"count\": 0}, {\"repo\": \"jupyterhub\", \"closedAt\": \"2021-01-24T00:00:00\", \"count\": 1}, {\"repo\": \"jupyterhub-idle-culler\", \"closedAt\": \"2021-01-31T00:00:00\", \"count\": 1}, {\"repo\": \"kubespawner\", \"closedAt\": \"2020-12-13T00:00:00\", \"count\": 2}, {\"repo\": \"kubespawner\", \"closedAt\": \"2020-12-20T00:00:00\", \"count\": 0}, {\"repo\": \"kubespawner\", \"closedAt\": \"2020-12-27T00:00:00\", \"count\": 0}, {\"repo\": \"kubespawner\", \"closedAt\": \"2021-01-03T00:00:00\", \"count\": 0}, {\"repo\": \"kubespawner\", \"closedAt\": \"2021-01-10T00:00:00\", \"count\": 0}, {\"repo\": \"kubespawner\", \"closedAt\": \"2021-01-17T00:00:00\", \"count\": 0}, {\"repo\": \"kubespawner\", \"closedAt\": \"2021-01-24T00:00:00\", \"count\": 1}, {\"repo\": \"ldapauthenticator\", \"closedAt\": \"2020-12-13T00:00:00\", \"count\": 1}, {\"repo\": \"mybinder.org-deploy\", \"closedAt\": \"2020-12-06T00:00:00\", \"count\": 4}, {\"repo\": \"mybinder.org-deploy\", \"closedAt\": \"2020-12-13T00:00:00\", \"count\": 2}, {\"repo\": \"mybinder.org-deploy\", \"closedAt\": \"2020-12-20T00:00:00\", \"count\": 1}, {\"repo\": \"mybinder.org-deploy\", \"closedAt\": \"2020-12-27T00:00:00\", \"count\": 1}, {\"repo\": \"mybinder.org-deploy\", \"closedAt\": \"2021-01-03T00:00:00\", \"count\": 0}, {\"repo\": \"mybinder.org-deploy\", \"closedAt\": \"2021-01-10T00:00:00\", \"count\": 3}, {\"repo\": \"nbgitpuller\", \"closedAt\": \"2020-12-13T00:00:00\", \"count\": 1}, {\"repo\": \"nbgitpuller\", \"closedAt\": \"2020-12-20T00:00:00\", \"count\": 1}, {\"repo\": \"nbgitpuller\", \"closedAt\": \"2020-12-27T00:00:00\", \"count\": 0}, {\"repo\": \"nbgitpuller\", \"closedAt\": \"2021-01-03T00:00:00\", \"count\": 0}, {\"repo\": \"nbgitpuller\", \"closedAt\": \"2021-01-10T00:00:00\", \"count\": 2}, {\"repo\": \"pebble-helm-chart\", \"closedAt\": \"2020-12-13T00:00:00\", \"count\": 1}, {\"repo\": \"zero-to-jupyterhub-k8s\", \"closedAt\": \"2020-12-13T00:00:00\", \"count\": 3}, {\"repo\": \"zero-to-jupyterhub-k8s\", \"closedAt\": \"2020-12-20T00:00:00\", \"count\": 5}, {\"repo\": \"zero-to-jupyterhub-k8s\", \"closedAt\": \"2020-12-27T00:00:00\", \"count\": 15}, {\"repo\": \"zero-to-jupyterhub-k8s\", \"closedAt\": \"2021-01-03T00:00:00\", \"count\": 4}, {\"repo\": \"zero-to-jupyterhub-k8s\", \"closedAt\": \"2021-01-10T00:00:00\", \"count\": 4}, {\"repo\": \"zero-to-jupyterhub-k8s\", \"closedAt\": \"2021-01-17T00:00:00\", \"count\": 11}, {\"repo\": \"zero-to-jupyterhub-k8s\", \"closedAt\": \"2021-01-24T00:00:00\", \"count\": 6}, {\"repo\": \"zero-to-jupyterhub-k8s\", \"closedAt\": \"2021-01-31T00:00:00\", \"count\": 3}, {\"repo\": \"zero-to-jupyterhub-k8s\", \"closedAt\": \"2021-02-07T00:00:00\", \"count\": 2}]}}, {\"mode\": \"vega-lite\"});\n",
       "</script>"
      ],
      "text/plain": [
       "alt.Chart(...)"
      ]
     },
     "execution_count": 15,
     "metadata": {},
     "output_type": "execute_result"
    }
   ],
   "source": [
    "closed_by_time = closed_by.groupby('repo').resample('W', on='closedAt').count()['author'].reset_index()\n",
    "closed_by_time = closed_by_time.rename(columns={'author': 'count'})\n",
    "\n",
    "alt.Chart(closed_by_time, width=600).mark_line().encode(\n",
    "    x='closedAt',\n",
    "    y='count',\n",
    "    color='repo',\n",
    "    tooltip=\"repo\"\n",
    ")"
   ]
  },
  {
   "cell_type": "markdown",
   "id": "photographic-newspaper",
   "metadata": {
    "papermill": {
     "duration": 0.017924,
     "end_time": "2021-02-03T01:48:27.732810",
     "exception": false,
     "start_time": "2021-02-03T01:48:27.714886",
     "status": "completed"
    },
    "tags": []
   },
   "source": [
    "## By type over time"
   ]
  },
  {
   "cell_type": "code",
   "execution_count": 16,
   "id": "final-radical",
   "metadata": {
    "execution": {
     "iopub.execute_input": "2021-02-03T01:48:27.787711Z",
     "iopub.status.busy": "2021-02-03T01:48:27.787115Z",
     "iopub.status.idle": "2021-02-03T01:48:27.799348Z",
     "shell.execute_reply": "2021-02-03T01:48:27.798839Z"
    },
    "papermill": {
     "duration": 0.047281,
     "end_time": "2021-02-03T01:48:27.799506",
     "exception": false,
     "start_time": "2021-02-03T01:48:27.752225",
     "status": "completed"
    },
    "tags": [
     "remove_cell"
    ]
   },
   "outputs": [],
   "source": [
    "prs_time = prs[['author', 'createdAt']].resample('W', on='createdAt').count()['author'].reset_index()\n",
    "prs_time = prs_time.rename(columns={'author': 'prs'})\n",
    "comments_time = comments[['author', 'createdAt']].resample('W', on='createdAt').count()['author'].reset_index()\n",
    "comments_time = comments_time.rename(columns={'author': 'comments'})\n",
    "\n",
    "total_time = pd.merge(prs_time, comments_time, on='createdAt', how='outer')\n",
    "total_time = total_time.melt(id_vars='createdAt', var_name=\"kind\", value_name=\"count\")\n"
   ]
  },
  {
   "cell_type": "code",
   "execution_count": 17,
   "id": "earned-northwest",
   "metadata": {
    "execution": {
     "iopub.execute_input": "2021-02-03T01:48:27.864834Z",
     "iopub.status.busy": "2021-02-03T01:48:27.844103Z",
     "iopub.status.idle": "2021-02-03T01:48:27.867376Z",
     "shell.execute_reply": "2021-02-03T01:48:27.867907Z"
    },
    "papermill": {
     "duration": 0.05025,
     "end_time": "2021-02-03T01:48:27.868107",
     "exception": false,
     "start_time": "2021-02-03T01:48:27.817857",
     "status": "completed"
    },
    "tags": [
     "hide_input"
    ]
   },
   "outputs": [
    {
     "data": {
      "text/html": [
       "\n",
       "<div id=\"altair-viz-5cbb422c8c6f4c5cb2eb6b5d394346b4\"></div>\n",
       "<script type=\"text/javascript\">\n",
       "  (function(spec, embedOpt){\n",
       "    let outputDiv = document.currentScript.previousElementSibling;\n",
       "    if (outputDiv.id !== \"altair-viz-5cbb422c8c6f4c5cb2eb6b5d394346b4\") {\n",
       "      outputDiv = document.getElementById(\"altair-viz-5cbb422c8c6f4c5cb2eb6b5d394346b4\");\n",
       "    }\n",
       "    const paths = {\n",
       "      \"vega\": \"https://cdn.jsdelivr.net/npm//vega@5?noext\",\n",
       "      \"vega-lib\": \"https://cdn.jsdelivr.net/npm//vega-lib?noext\",\n",
       "      \"vega-lite\": \"https://cdn.jsdelivr.net/npm//vega-lite@4.8.1?noext\",\n",
       "      \"vega-embed\": \"https://cdn.jsdelivr.net/npm//vega-embed@6?noext\",\n",
       "    };\n",
       "\n",
       "    function loadScript(lib) {\n",
       "      return new Promise(function(resolve, reject) {\n",
       "        var s = document.createElement('script');\n",
       "        s.src = paths[lib];\n",
       "        s.async = true;\n",
       "        s.onload = () => resolve(paths[lib]);\n",
       "        s.onerror = () => reject(`Error loading script: ${paths[lib]}`);\n",
       "        document.getElementsByTagName(\"head\")[0].appendChild(s);\n",
       "      });\n",
       "    }\n",
       "\n",
       "    function showError(err) {\n",
       "      outputDiv.innerHTML = `<div class=\"error\" style=\"color:red;\">${err}</div>`;\n",
       "      throw err;\n",
       "    }\n",
       "\n",
       "    function displayChart(vegaEmbed) {\n",
       "      vegaEmbed(outputDiv, spec, embedOpt)\n",
       "        .catch(err => showError(`Javascript Error: ${err.message}<br>This usually means there's a typo in your chart specification. See the javascript console for the full traceback.`));\n",
       "    }\n",
       "\n",
       "    if(typeof define === \"function\" && define.amd) {\n",
       "      requirejs.config({paths});\n",
       "      require([\"vega-embed\"], displayChart, err => showError(`Error loading script: ${err.message}`));\n",
       "    } else if (typeof vegaEmbed === \"function\") {\n",
       "      displayChart(vegaEmbed);\n",
       "    } else {\n",
       "      loadScript(\"vega\")\n",
       "        .then(() => loadScript(\"vega-lite\"))\n",
       "        .then(() => loadScript(\"vega-embed\"))\n",
       "        .catch(showError)\n",
       "        .then(() => displayChart(vegaEmbed));\n",
       "    }\n",
       "  })({\"config\": {\"axisLeft\": {\"labelFontSize\": 15}, \"axisBottom\": {\"labelFontSize\": 15}}, \"data\": {\"name\": \"data-e4a87116bdcbe5d166a1842453f54901\"}, \"mark\": \"line\", \"encoding\": {\"color\": {\"type\": \"nominal\", \"field\": \"kind\"}, \"x\": {\"type\": \"temporal\", \"field\": \"createdAt\"}, \"y\": {\"type\": \"quantitative\", \"field\": \"count\"}}, \"width\": 600, \"$schema\": \"https://vega.github.io/schema/vega-lite/v4.8.1.json\", \"datasets\": {\"data-e4a87116bdcbe5d166a1842453f54901\": [{\"createdAt\": \"2020-10-04T00:00:00\", \"kind\": \"prs\", \"count\": 1.0}, {\"createdAt\": \"2020-10-11T00:00:00\", \"kind\": \"prs\", \"count\": 1.0}, {\"createdAt\": \"2020-10-18T00:00:00\", \"kind\": \"prs\", \"count\": 0.0}, {\"createdAt\": \"2020-10-25T00:00:00\", \"kind\": \"prs\", \"count\": 0.0}, {\"createdAt\": \"2020-11-01T00:00:00\", \"kind\": \"prs\", \"count\": 1.0}, {\"createdAt\": \"2020-11-08T00:00:00\", \"kind\": \"prs\", \"count\": 0.0}, {\"createdAt\": \"2020-11-15T00:00:00\", \"kind\": \"prs\", \"count\": 0.0}, {\"createdAt\": \"2020-11-22T00:00:00\", \"kind\": \"prs\", \"count\": 0.0}, {\"createdAt\": \"2020-11-29T00:00:00\", \"kind\": \"prs\", \"count\": 1.0}, {\"createdAt\": \"2020-12-06T00:00:00\", \"kind\": \"prs\", \"count\": 10.0}, {\"createdAt\": \"2020-12-13T00:00:00\", \"kind\": \"prs\", \"count\": 8.0}, {\"createdAt\": \"2020-12-20T00:00:00\", \"kind\": \"prs\", \"count\": 6.0}, {\"createdAt\": \"2020-12-27T00:00:00\", \"kind\": \"prs\", \"count\": 18.0}, {\"createdAt\": \"2021-01-03T00:00:00\", \"kind\": \"prs\", \"count\": 6.0}, {\"createdAt\": \"2021-01-10T00:00:00\", \"kind\": \"prs\", \"count\": 13.0}, {\"createdAt\": \"2021-01-17T00:00:00\", \"kind\": \"prs\", \"count\": 19.0}, {\"createdAt\": \"2021-01-24T00:00:00\", \"kind\": \"prs\", \"count\": 12.0}, {\"createdAt\": \"2021-01-31T00:00:00\", \"kind\": \"prs\", \"count\": 13.0}, {\"createdAt\": \"2021-02-07T00:00:00\", \"kind\": \"prs\", \"count\": 4.0}, {\"createdAt\": \"2020-10-04T00:00:00\", \"kind\": \"comments\", \"count\": null}, {\"createdAt\": \"2020-10-11T00:00:00\", \"kind\": \"comments\", \"count\": 2.0}, {\"createdAt\": \"2020-10-18T00:00:00\", \"kind\": \"comments\", \"count\": 0.0}, {\"createdAt\": \"2020-10-25T00:00:00\", \"kind\": \"comments\", \"count\": 0.0}, {\"createdAt\": \"2020-11-01T00:00:00\", \"kind\": \"comments\", \"count\": 0.0}, {\"createdAt\": \"2020-11-08T00:00:00\", \"kind\": \"comments\", \"count\": 0.0}, {\"createdAt\": \"2020-11-15T00:00:00\", \"kind\": \"comments\", \"count\": 0.0}, {\"createdAt\": \"2020-11-22T00:00:00\", \"kind\": \"comments\", \"count\": 0.0}, {\"createdAt\": \"2020-11-29T00:00:00\", \"kind\": \"comments\", \"count\": 0.0}, {\"createdAt\": \"2020-12-06T00:00:00\", \"kind\": \"comments\", \"count\": 2.0}, {\"createdAt\": \"2020-12-13T00:00:00\", \"kind\": \"comments\", \"count\": 37.0}, {\"createdAt\": \"2020-12-20T00:00:00\", \"kind\": \"comments\", \"count\": 31.0}, {\"createdAt\": \"2020-12-27T00:00:00\", \"kind\": \"comments\", \"count\": 27.0}, {\"createdAt\": \"2021-01-03T00:00:00\", \"kind\": \"comments\", \"count\": 13.0}, {\"createdAt\": \"2021-01-10T00:00:00\", \"kind\": \"comments\", \"count\": 31.0}, {\"createdAt\": \"2021-01-17T00:00:00\", \"kind\": \"comments\", \"count\": 50.0}, {\"createdAt\": \"2021-01-24T00:00:00\", \"kind\": \"comments\", \"count\": 39.0}, {\"createdAt\": \"2021-01-31T00:00:00\", \"kind\": \"comments\", \"count\": 44.0}, {\"createdAt\": \"2021-02-07T00:00:00\", \"kind\": \"comments\", \"count\": 10.0}]}}, {\"mode\": \"vega-lite\"});\n",
       "</script>"
      ],
      "text/plain": [
       "alt.Chart(...)"
      ]
     },
     "execution_count": 17,
     "metadata": {},
     "output_type": "execute_result"
    }
   ],
   "source": [
    "alt.Chart(total_time, width=600).mark_line().encode(\n",
    "    x='createdAt',\n",
    "    y='count',\n",
    "    color='kind'\n",
    ")"
   ]
  }
 ],
 "metadata": {
  "kernelspec": {
   "display_name": "Python 3",
   "language": "python",
   "name": "python3"
  },
  "language_info": {
   "codemirror_mode": {
    "name": "ipython",
    "version": 3
   },
   "file_extension": ".py",
   "mimetype": "text/x-python",
   "name": "python",
   "nbconvert_exporter": "python",
   "pygments_lexer": "ipython3",
   "version": "3.7.9"
  },
  "papermill": {
   "default_parameters": {},
   "duration": 3.744411,
   "end_time": "2021-02-03T01:48:28.299181",
   "environment_variables": {},
   "exception": null,
   "input_path": "./person.ipynb",
   "output_path": "people/consideRatio.ipynb",
   "parameters": {
    "n_days": 60,
    "person": "consideRatio"
   },
   "start_time": "2021-02-03T01:48:24.554770",
   "version": "2.3.1"
  },
  "widgets": {
   "application/vnd.jupyter.widget-state+json": {
    "state": {},
    "version_major": 2,
    "version_minor": 0
   }
  }
 },
 "nbformat": 4,
 "nbformat_minor": 5
}