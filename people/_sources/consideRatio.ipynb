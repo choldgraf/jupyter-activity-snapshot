{
 "cells": [
  {
   "cell_type": "markdown",
   "id": "c77d18c4",
   "metadata": {
    "papermill": {
     "duration": 0.005181,
     "end_time": "2023-03-06T14:44:50.203326",
     "exception": false,
     "start_time": "2023-03-06T14:44:50.198145",
     "status": "completed"
    },
    "tags": []
   },
   "source": [
    "# Report for consideRatio"
   ]
  },
  {
   "cell_type": "code",
   "execution_count": 1,
   "id": "3c2f38be",
   "metadata": {
    "execution": {
     "iopub.execute_input": "2023-03-06T14:44:50.215213Z",
     "iopub.status.busy": "2023-03-06T14:44:50.213844Z",
     "iopub.status.idle": "2023-03-06T14:44:51.051754Z",
     "shell.execute_reply": "2023-03-06T14:44:51.050546Z"
    },
    "papermill": {
     "duration": 0.845904,
     "end_time": "2023-03-06T14:44:51.054306",
     "exception": false,
     "start_time": "2023-03-06T14:44:50.208402",
     "status": "completed"
    },
    "tags": [
     "remove_cell"
    ]
   },
   "outputs": [],
   "source": [
    "import seaborn as sns\n",
    "import pandas as pd\n",
    "import numpy as np\n",
    "import altair as alt\n",
    "from markdown import markdown\n",
    "from IPython.display import Markdown\n",
    "from ipywidgets.widgets import HTML, Tab\n",
    "from ipywidgets import widgets\n",
    "from datetime import timedelta\n",
    "from matplotlib import pyplot as plt\n",
    "import os.path as op\n",
    "\n",
    "from mycode import alt_theme\n",
    "from warnings import simplefilter\n",
    "simplefilter('ignore')"
   ]
  },
  {
   "cell_type": "code",
   "execution_count": 2,
   "id": "809b750d",
   "metadata": {
    "execution": {
     "iopub.execute_input": "2023-03-06T14:44:51.064634Z",
     "iopub.status.busy": "2023-03-06T14:44:51.064102Z",
     "iopub.status.idle": "2023-03-06T14:44:51.069602Z",
     "shell.execute_reply": "2023-03-06T14:44:51.068999Z"
    },
    "papermill": {
     "duration": 0.012335,
     "end_time": "2023-03-06T14:44:51.071332",
     "exception": false,
     "start_time": "2023-03-06T14:44:51.058997",
     "status": "completed"
    },
    "tags": [
     "remove_cell"
    ]
   },
   "outputs": [],
   "source": [
    "def author_url(author):\n",
    "    return f\"https://github.com/{author}\""
   ]
  },
  {
   "cell_type": "code",
   "execution_count": 3,
   "id": "10749178",
   "metadata": {
    "execution": {
     "iopub.execute_input": "2023-03-06T14:44:51.080558Z",
     "iopub.status.busy": "2023-03-06T14:44:51.080144Z",
     "iopub.status.idle": "2023-03-06T14:44:51.084290Z",
     "shell.execute_reply": "2023-03-06T14:44:51.083611Z"
    },
    "papermill": {
     "duration": 0.010713,
     "end_time": "2023-03-06T14:44:51.086026",
     "exception": false,
     "start_time": "2023-03-06T14:44:51.075313",
     "status": "completed"
    },
    "tags": [
     "parameters",
     "hide_input"
    ]
   },
   "outputs": [],
   "source": [
    "# Parameters\n",
    "fmt_date = \"{:%Y-%m-%d}\"\n",
    "\n",
    "n_days = 30 * 60\n",
    "start_date = fmt_date.format(pd.datetime.today() - timedelta(days=n_days))\n",
    "end_date = fmt_date.format(pd.datetime.today())\n",
    "\n",
    "renderer = \"html\"\n",
    "person = \"damianavila\""
   ]
  },
  {
   "cell_type": "code",
   "execution_count": 4,
   "id": "43ca677f",
   "metadata": {
    "execution": {
     "iopub.execute_input": "2023-03-06T14:44:51.094925Z",
     "iopub.status.busy": "2023-03-06T14:44:51.094493Z",
     "iopub.status.idle": "2023-03-06T14:44:51.097680Z",
     "shell.execute_reply": "2023-03-06T14:44:51.097002Z"
    },
    "papermill": {
     "duration": 0.009516,
     "end_time": "2023-03-06T14:44:51.099351",
     "exception": false,
     "start_time": "2023-03-06T14:44:51.089835",
     "status": "completed"
    },
    "tags": [
     "injected-parameters",
     "remove-cell"
    ]
   },
   "outputs": [],
   "source": [
    "# Parameters\n",
    "person = \"consideRatio\"\n",
    "n_days = 90\n"
   ]
  },
  {
   "cell_type": "code",
   "execution_count": 5,
   "id": "5727cd79",
   "metadata": {
    "execution": {
     "iopub.execute_input": "2023-03-06T14:44:51.108385Z",
     "iopub.status.busy": "2023-03-06T14:44:51.107963Z",
     "iopub.status.idle": "2023-03-06T14:44:51.115000Z",
     "shell.execute_reply": "2023-03-06T14:44:51.114493Z"
    },
    "papermill": {
     "duration": 0.013152,
     "end_time": "2023-03-06T14:44:51.116412",
     "exception": false,
     "start_time": "2023-03-06T14:44:51.103260",
     "status": "completed"
    },
    "tags": [
     "remove_cell"
    ]
   },
   "outputs": [
    {
     "data": {
      "text/plain": [
       "ThemeRegistry.enable('my_theme')"
      ]
     },
     "execution_count": 5,
     "metadata": {},
     "output_type": "execute_result"
    }
   ],
   "source": [
    "alt.renderers.enable(renderer);\n",
    "alt.themes.register('my_theme', alt_theme)\n",
    "alt.themes.enable(\"my_theme\")"
   ]
  },
  {
   "cell_type": "markdown",
   "id": "100d9786",
   "metadata": {
    "papermill": {
     "duration": 0.003918,
     "end_time": "2023-03-06T14:44:51.124340",
     "exception": false,
     "start_time": "2023-03-06T14:44:51.120422",
     "status": "completed"
    },
    "tags": []
   },
   "source": [
    "## Load data"
   ]
  },
  {
   "cell_type": "code",
   "execution_count": 6,
   "id": "749d3456",
   "metadata": {
    "execution": {
     "iopub.execute_input": "2023-03-06T14:44:51.133771Z",
     "iopub.status.busy": "2023-03-06T14:44:51.133310Z",
     "iopub.status.idle": "2023-03-06T14:44:51.260845Z",
     "shell.execute_reply": "2023-03-06T14:44:51.259579Z"
    },
    "papermill": {
     "duration": 0.134487,
     "end_time": "2023-03-06T14:44:51.262892",
     "exception": false,
     "start_time": "2023-03-06T14:44:51.128405",
     "status": "completed"
    },
    "tags": [
     "remove_cell"
    ]
   },
   "outputs": [],
   "source": [
    "from pathlib import Path\n",
    "path_data = Path(\"./\")\n",
    "comments = pd.read_csv(path_data.joinpath('../data/comments.csv'), index_col=0)\n",
    "issues = pd.read_csv(path_data.joinpath('../data/issues.csv'), index_col=0)\n",
    "prs = pd.read_csv(path_data.joinpath('../data/prs.csv'), index_col=0)\n",
    "\n",
    "comments = comments.query('author == @person').drop_duplicates()\n",
    "issues = issues.query('author == @person').drop_duplicates()\n",
    "closed_by = prs.query('mergedBy == @person')\n",
    "prs = prs.query('author == @person').drop_duplicates()"
   ]
  },
  {
   "cell_type": "code",
   "execution_count": 7,
   "id": "ec1113ce",
   "metadata": {
    "execution": {
     "iopub.execute_input": "2023-03-06T14:44:51.274509Z",
     "iopub.status.busy": "2023-03-06T14:44:51.274096Z",
     "iopub.status.idle": "2023-03-06T14:44:51.278071Z",
     "shell.execute_reply": "2023-03-06T14:44:51.276830Z"
    },
    "papermill": {
     "duration": 0.011811,
     "end_time": "2023-03-06T14:44:51.279678",
     "exception": false,
     "start_time": "2023-03-06T14:44:51.267867",
     "status": "completed"
    },
    "tags": []
   },
   "outputs": [],
   "source": [
    "if len(prs) == 0:\n",
    "    import sys\n",
    "    print(f\"Empty data for {person}, skipping...\")\n",
    "    sys.exit(0)"
   ]
  },
  {
   "cell_type": "code",
   "execution_count": 8,
   "id": "e63a7f9c",
   "metadata": {
    "execution": {
     "iopub.execute_input": "2023-03-06T14:44:51.289212Z",
     "iopub.status.busy": "2023-03-06T14:44:51.288988Z",
     "iopub.status.idle": "2023-03-06T14:44:51.337968Z",
     "shell.execute_reply": "2023-03-06T14:44:51.337244Z"
    },
    "papermill": {
     "duration": 0.056207,
     "end_time": "2023-03-06T14:44:51.340087",
     "exception": false,
     "start_time": "2023-03-06T14:44:51.283880",
     "status": "completed"
    },
    "tags": [
     "remove_cell"
    ]
   },
   "outputs": [],
   "source": [
    "# Time columns\n",
    "# Also drop dates outside of our range\n",
    "time_columns = ['updatedAt', 'createdAt', 'closedAt']\n",
    "for col in time_columns:\n",
    "    for item in [comments, issues, prs, closed_by]:\n",
    "        if col not in item.columns:\n",
    "            continue\n",
    "        dt = pd.to_datetime(item[col]).dt.tz_localize(None)\n",
    "        item.loc[:, col] = dt\n",
    "        item.query(\"updatedAt < @end_date and updatedAt > @start_date\", inplace=True)"
   ]
  },
  {
   "cell_type": "markdown",
   "id": "252582b0",
   "metadata": {
    "papermill": {
     "duration": 0.004224,
     "end_time": "2023-03-06T14:44:51.349185",
     "exception": false,
     "start_time": "2023-03-06T14:44:51.344961",
     "status": "completed"
    },
    "tags": []
   },
   "source": [
    "## Repository summaries"
   ]
  },
  {
   "cell_type": "code",
   "execution_count": 9,
   "id": "bc3a1e50",
   "metadata": {
    "execution": {
     "iopub.execute_input": "2023-03-06T14:44:51.359028Z",
     "iopub.status.busy": "2023-03-06T14:44:51.358742Z",
     "iopub.status.idle": "2023-03-06T14:44:51.373595Z",
     "shell.execute_reply": "2023-03-06T14:44:51.372962Z"
    },
    "papermill": {
     "duration": 0.021913,
     "end_time": "2023-03-06T14:44:51.375382",
     "exception": false,
     "start_time": "2023-03-06T14:44:51.353469",
     "status": "completed"
    },
    "tags": [
     "remove_cell"
    ]
   },
   "outputs": [],
   "source": [
    "summaries = []\n",
    "for idata, name in [(issues, 'issues'), (prs, 'prs'), (comments, 'comments')]:\n",
    "    idata = idata.groupby([\"repo\", \"org\"]).agg({'id': \"count\"}).reset_index().rename(columns={'id': 'count'})\n",
    "    idata[\"kind\"] = name\n",
    "    summaries.append(idata)\n",
    "summaries = pd.concat(summaries)"
   ]
  },
  {
   "cell_type": "code",
   "execution_count": 10,
   "id": "03fc3191",
   "metadata": {
    "execution": {
     "iopub.execute_input": "2023-03-06T14:44:51.387060Z",
     "iopub.status.busy": "2023-03-06T14:44:51.386814Z",
     "iopub.status.idle": "2023-03-06T14:44:51.395788Z",
     "shell.execute_reply": "2023-03-06T14:44:51.395117Z"
    },
    "papermill": {
     "duration": 0.01722,
     "end_time": "2023-03-06T14:44:51.397427",
     "exception": false,
     "start_time": "2023-03-06T14:44:51.380207",
     "status": "completed"
    },
    "tags": [
     "remove_cell"
    ]
   },
   "outputs": [],
   "source": [
    "repo_summaries = summaries.groupby([\"repo\", \"kind\"]).agg({\"count\": \"sum\"}).reset_index()\n",
    "org_summaries = summaries.groupby([\"org\", \"kind\"]).agg({\"count\": \"sum\"}).reset_index()"
   ]
  },
  {
   "cell_type": "code",
   "execution_count": 11,
   "id": "bb782f4e",
   "metadata": {
    "execution": {
     "iopub.execute_input": "2023-03-06T14:44:51.407203Z",
     "iopub.status.busy": "2023-03-06T14:44:51.406972Z",
     "iopub.status.idle": "2023-03-06T14:44:51.410784Z",
     "shell.execute_reply": "2023-03-06T14:44:51.410091Z"
    },
    "papermill": {
     "duration": 0.010526,
     "end_time": "2023-03-06T14:44:51.412327",
     "exception": false,
     "start_time": "2023-03-06T14:44:51.401801",
     "status": "completed"
    },
    "tags": [
     "remove_cell"
    ]
   },
   "outputs": [],
   "source": [
    "repo_summaries['logcount'] = np.log(repo_summaries[\"count\"])"
   ]
  },
  {
   "cell_type": "code",
   "execution_count": 12,
   "id": "a36ec446",
   "metadata": {
    "execution": {
     "iopub.execute_input": "2023-03-06T14:44:51.422048Z",
     "iopub.status.busy": "2023-03-06T14:44:51.421605Z",
     "iopub.status.idle": "2023-03-06T14:44:51.509667Z",
     "shell.execute_reply": "2023-03-06T14:44:51.508628Z"
    },
    "papermill": {
     "duration": 0.095122,
     "end_time": "2023-03-06T14:44:51.511603",
     "exception": false,
     "start_time": "2023-03-06T14:44:51.416481",
     "status": "completed"
    },
    "tags": [
     "hide_input"
    ]
   },
   "outputs": [
    {
     "data": {
      "text/html": [
       "\n",
       "<div id=\"altair-viz-5651082a08d74ccd99289588cccd0411\"></div>\n",
       "<script type=\"text/javascript\">\n",
       "  var VEGA_DEBUG = (typeof VEGA_DEBUG == \"undefined\") ? {} : VEGA_DEBUG;\n",
       "  (function(spec, embedOpt){\n",
       "    let outputDiv = document.currentScript.previousElementSibling;\n",
       "    if (outputDiv.id !== \"altair-viz-5651082a08d74ccd99289588cccd0411\") {\n",
       "      outputDiv = document.getElementById(\"altair-viz-5651082a08d74ccd99289588cccd0411\");\n",
       "    }\n",
       "    const paths = {\n",
       "      \"vega\": \"https://cdn.jsdelivr.net/npm//vega@5?noext\",\n",
       "      \"vega-lib\": \"https://cdn.jsdelivr.net/npm//vega-lib?noext\",\n",
       "      \"vega-lite\": \"https://cdn.jsdelivr.net/npm//vega-lite@4.17.0?noext\",\n",
       "      \"vega-embed\": \"https://cdn.jsdelivr.net/npm//vega-embed@6?noext\",\n",
       "    };\n",
       "\n",
       "    function maybeLoadScript(lib, version) {\n",
       "      var key = `${lib.replace(\"-\", \"\")}_version`;\n",
       "      return (VEGA_DEBUG[key] == version) ?\n",
       "        Promise.resolve(paths[lib]) :\n",
       "        new Promise(function(resolve, reject) {\n",
       "          var s = document.createElement('script');\n",
       "          document.getElementsByTagName(\"head\")[0].appendChild(s);\n",
       "          s.async = true;\n",
       "          s.onload = () => {\n",
       "            VEGA_DEBUG[key] = version;\n",
       "            return resolve(paths[lib]);\n",
       "          };\n",
       "          s.onerror = () => reject(`Error loading script: ${paths[lib]}`);\n",
       "          s.src = paths[lib];\n",
       "        });\n",
       "    }\n",
       "\n",
       "    function showError(err) {\n",
       "      outputDiv.innerHTML = `<div class=\"error\" style=\"color:red;\">${err}</div>`;\n",
       "      throw err;\n",
       "    }\n",
       "\n",
       "    function displayChart(vegaEmbed) {\n",
       "      vegaEmbed(outputDiv, spec, embedOpt)\n",
       "        .catch(err => showError(`Javascript Error: ${err.message}<br>This usually means there's a typo in your chart specification. See the javascript console for the full traceback.`));\n",
       "    }\n",
       "\n",
       "    if(typeof define === \"function\" && define.amd) {\n",
       "      requirejs.config({paths});\n",
       "      require([\"vega-embed\"], displayChart, err => showError(`Error loading script: ${err.message}`));\n",
       "    } else {\n",
       "      maybeLoadScript(\"vega\", \"5\")\n",
       "        .then(() => maybeLoadScript(\"vega-lite\", \"4.17.0\"))\n",
       "        .then(() => maybeLoadScript(\"vega-embed\", \"6\"))\n",
       "        .catch(showError)\n",
       "        .then(() => displayChart(vegaEmbed));\n",
       "    }\n",
       "  })({\"config\": {\"axisLeft\": {\"labelFontSize\": 15}, \"axisBottom\": {\"labelFontSize\": 15}}, \"hconcat\": [{\"mark\": \"bar\", \"encoding\": {\"color\": {\"field\": \"kind\", \"type\": \"nominal\"}, \"tooltip\": {\"field\": \"kind\", \"type\": \"nominal\"}, \"x\": {\"field\": \"repo\", \"type\": \"nominal\"}, \"y\": {\"field\": \"count\", \"type\": \"quantitative\"}}, \"title\": \"Activity per repository\", \"width\": 600}, {\"mark\": \"bar\", \"encoding\": {\"color\": {\"field\": \"kind\", \"type\": \"nominal\"}, \"tooltip\": {\"field\": \"kind\", \"type\": \"nominal\"}, \"x\": {\"field\": \"repo\", \"type\": \"nominal\"}, \"y\": {\"field\": \"logcount\", \"type\": \"quantitative\"}}, \"title\": \"Log activity per repository\", \"width\": 600}], \"data\": {\"name\": \"data-9cb40a9e04c4bef16aa40192d6236a37\"}, \"$schema\": \"https://vega.github.io/schema/vega-lite/v4.17.0.json\", \"datasets\": {\"data-9cb40a9e04c4bef16aa40192d6236a37\": [{\"repo\": \".github\", \"kind\": \"comments\", \"count\": 1, \"logcount\": 0.0}, {\"repo\": \".github\", \"kind\": \"prs\", \"count\": 1, \"logcount\": 0.0}, {\"repo\": \"action-k3s-helm\", \"kind\": \"comments\", \"count\": 2, \"logcount\": 0.6931471805599453}, {\"repo\": \"action-k3s-helm\", \"kind\": \"issues\", \"count\": 2, \"logcount\": 0.6931471805599453}, {\"repo\": \"action-k3s-helm\", \"kind\": \"prs\", \"count\": 3, \"logcount\": 1.0986122886681096}, {\"repo\": \"action-k8s-await-workloads\", \"kind\": \"comments\", \"count\": 2, \"logcount\": 0.6931471805599453}, {\"repo\": \"action-k8s-await-workloads\", \"kind\": \"issues\", \"count\": 1, \"logcount\": 0.0}, {\"repo\": \"action-k8s-await-workloads\", \"kind\": \"prs\", \"count\": 2, \"logcount\": 0.6931471805599453}, {\"repo\": \"action-k8s-namespace-report\", \"kind\": \"comments\", \"count\": 2, \"logcount\": 0.6931471805599453}, {\"repo\": \"action-k8s-namespace-report\", \"kind\": \"issues\", \"count\": 1, \"logcount\": 0.0}, {\"repo\": \"autodoc-traits\", \"kind\": \"comments\", \"count\": 18, \"logcount\": 2.8903717578961645}, {\"repo\": \"autodoc-traits\", \"kind\": \"issues\", \"count\": 7, \"logcount\": 1.9459101490553132}, {\"repo\": \"autodoc-traits\", \"kind\": \"prs\", \"count\": 9, \"logcount\": 2.197224577336219}, {\"repo\": \"binderhub\", \"kind\": \"comments\", \"count\": 41, \"logcount\": 3.7135720667043075}, {\"repo\": \"binderhub\", \"kind\": \"issues\", \"count\": 4, \"logcount\": 1.3862943611198906}, {\"repo\": \"binderhub\", \"kind\": \"prs\", \"count\": 5, \"logcount\": 1.6094379124341003}, {\"repo\": \"chartpress\", \"kind\": \"issues\", \"count\": 1, \"logcount\": 0.0}, {\"repo\": \"configurable-http-proxy\", \"kind\": \"comments\", \"count\": 1, \"logcount\": 0.0}, {\"repo\": \"default-hub-homepage\", \"kind\": \"comments\", \"count\": 1, \"logcount\": 0.0}, {\"repo\": \"default-hub-homepage\", \"kind\": \"issues\", \"count\": 3, \"logcount\": 1.0986122886681096}, {\"repo\": \"docker-image-cleaner\", \"kind\": \"comments\", \"count\": 3, \"logcount\": 1.0986122886681096}, {\"repo\": \"docker-stacks\", \"kind\": \"comments\", \"count\": 9, \"logcount\": 2.197224577336219}, {\"repo\": \"docs\", \"kind\": \"comments\", \"count\": 1, \"logcount\": 0.0}, {\"repo\": \"docs\", \"kind\": \"issues\", \"count\": 1, \"logcount\": 0.0}, {\"repo\": \"gh-scoped-creds\", \"kind\": \"comments\", \"count\": 1, \"logcount\": 0.0}, {\"repo\": \"gh-scoped-creds\", \"kind\": \"prs\", \"count\": 1, \"logcount\": 0.0}, {\"repo\": \"grafana-dashboards\", \"kind\": \"comments\", \"count\": 2, \"logcount\": 0.6931471805599453}, {\"repo\": \"grafana-dashboards\", \"kind\": \"issues\", \"count\": 1, \"logcount\": 0.0}, {\"repo\": \"grafana-dashboards\", \"kind\": \"prs\", \"count\": 1, \"logcount\": 0.0}, {\"repo\": \"hub-user-image-template\", \"kind\": \"issues\", \"count\": 1, \"logcount\": 0.0}, {\"repo\": \"infrastructure\", \"kind\": \"comments\", \"count\": 219, \"logcount\": 5.389071729816501}, {\"repo\": \"infrastructure\", \"kind\": \"issues\", \"count\": 77, \"logcount\": 4.343805421853684}, {\"repo\": \"infrastructure\", \"kind\": \"prs\", \"count\": 52, \"logcount\": 3.951243718581427}, {\"repo\": \"jupyter-book\", \"kind\": \"comments\", \"count\": 3, \"logcount\": 1.0986122886681096}, {\"repo\": \"jupyter-book\", \"kind\": \"prs\", \"count\": 1, \"logcount\": 0.0}, {\"repo\": \"jupyter-remote-desktop-proxy\", \"kind\": \"comments\", \"count\": 7, \"logcount\": 1.9459101490553132}, {\"repo\": \"jupyter-remote-desktop-proxy\", \"kind\": \"prs\", \"count\": 4, \"logcount\": 1.3862943611198906}, {\"repo\": \"jupyter-server-proxy\", \"kind\": \"comments\", \"count\": 34, \"logcount\": 3.526360524616161}, {\"repo\": \"jupyter-server-proxy\", \"kind\": \"issues\", \"count\": 2, \"logcount\": 0.6931471805599453}, {\"repo\": \"jupyter-server-proxy\", \"kind\": \"prs\", \"count\": 3, \"logcount\": 1.0986122886681096}, {\"repo\": \"jupyterhub\", \"kind\": \"comments\", \"count\": 26, \"logcount\": 3.2580965380214817}, {\"repo\": \"jupyterhub\", \"kind\": \"issues\", \"count\": 9, \"logcount\": 2.197224577336219}, {\"repo\": \"jupyterhub\", \"kind\": \"prs\", \"count\": 4, \"logcount\": 1.3862943611198906}, {\"repo\": \"jupyterhub-idle-culler\", \"kind\": \"comments\", \"count\": 7, \"logcount\": 1.9459101490553132}, {\"repo\": \"jupyterhub-idle-culler\", \"kind\": \"issues\", \"count\": 1, \"logcount\": 0.0}, {\"repo\": \"jupyterhub-idle-culler\", \"kind\": \"prs\", \"count\": 2, \"logcount\": 0.6931471805599453}, {\"repo\": \"jupyterhub-python-repo-template\", \"kind\": \"comments\", \"count\": 4, \"logcount\": 1.3862943611198906}, {\"repo\": \"jupyterhub-python-repo-template\", \"kind\": \"issues\", \"count\": 3, \"logcount\": 1.0986122886681096}, {\"repo\": \"jupyterhub-python-repo-template\", \"kind\": \"prs\", \"count\": 3, \"logcount\": 1.0986122886681096}, {\"repo\": \"jupyterhub-sphinx-theme\", \"kind\": \"comments\", \"count\": 4, \"logcount\": 1.3862943611198906}, {\"repo\": \"jupyterhub-sphinx-theme\", \"kind\": \"issues\", \"count\": 4, \"logcount\": 1.3862943611198906}, {\"repo\": \"jupyterlab\", \"kind\": \"comments\", \"count\": 2, \"logcount\": 0.6931471805599453}, {\"repo\": \"jupyterlab\", \"kind\": \"issues\", \"count\": 1, \"logcount\": 0.0}, {\"repo\": \"kubespawner\", \"kind\": \"comments\", \"count\": 6, \"logcount\": 1.791759469228055}, {\"repo\": \"kubespawner\", \"kind\": \"issues\", \"count\": 3, \"logcount\": 1.0986122886681096}, {\"repo\": \"kubespawner\", \"kind\": \"prs\", \"count\": 1, \"logcount\": 0.0}, {\"repo\": \"leads\", \"kind\": \"comments\", \"count\": 3, \"logcount\": 1.0986122886681096}, {\"repo\": \"leads\", \"kind\": \"issues\", \"count\": 1, \"logcount\": 0.0}, {\"repo\": \"ltiauthenticator\", \"kind\": \"comments\", \"count\": 15, \"logcount\": 2.70805020110221}, {\"repo\": \"ltiauthenticator\", \"kind\": \"issues\", \"count\": 1, \"logcount\": 0.0}, {\"repo\": \"ltiauthenticator-ghsa-mcgx-2gcr-p3hp\", \"kind\": \"comments\", \"count\": 9, \"logcount\": 2.197224577336219}, {\"repo\": \"ltiauthenticator-ghsa-mcgx-2gcr-p3hp\", \"kind\": \"prs\", \"count\": 1, \"logcount\": 0.0}, {\"repo\": \"meta\", \"kind\": \"comments\", \"count\": 8, \"logcount\": 2.0794415416798357}, {\"repo\": \"meta\", \"kind\": \"issues\", \"count\": 6, \"logcount\": 1.791759469228055}, {\"repo\": \"mybinder.org-deploy\", \"kind\": \"comments\", \"count\": 2, \"logcount\": 0.6931471805599453}, {\"repo\": \"mybinder.org-user-guide\", \"kind\": \"comments\", \"count\": 1, \"logcount\": 0.0}, {\"repo\": \"nativeauthenticator\", \"kind\": \"issues\", \"count\": 1, \"logcount\": 0.0}, {\"repo\": \"nbgitpuller\", \"kind\": \"prs\", \"count\": 1, \"logcount\": 0.0}, {\"repo\": \"oauthenticator\", \"kind\": \"comments\", \"count\": 10, \"logcount\": 2.3025850929940455}, {\"repo\": \"oauthenticator\", \"kind\": \"issues\", \"count\": 1, \"logcount\": 0.0}, {\"repo\": \"oauthenticator\", \"kind\": \"prs\", \"count\": 3, \"logcount\": 1.0986122886681096}, {\"repo\": \"pytest-jupyterhub\", \"kind\": \"comments\", \"count\": 8, \"logcount\": 2.0794415416798357}, {\"repo\": \"repo2docker\", \"kind\": \"comments\", \"count\": 9, \"logcount\": 2.197224577336219}, {\"repo\": \"repo2docker\", \"kind\": \"issues\", \"count\": 1, \"logcount\": 0.0}, {\"repo\": \"repo2docker-action\", \"kind\": \"comments\", \"count\": 1, \"logcount\": 0.0}, {\"repo\": \"researchdelight-image\", \"kind\": \"comments\", \"count\": 1, \"logcount\": 0.0}, {\"repo\": \"sphinx-2i2c-theme\", \"kind\": \"prs\", \"count\": 1, \"logcount\": 0.0}, {\"repo\": \"sphinx-autobuild\", \"kind\": \"comments\", \"count\": 4, \"logcount\": 1.3862943611198906}, {\"repo\": \"sphinx-autobuild\", \"kind\": \"issues\", \"count\": 1, \"logcount\": 0.0}, {\"repo\": \"sphinx-book-theme\", \"kind\": \"comments\", \"count\": 6, \"logcount\": 1.791759469228055}, {\"repo\": \"sphinx-book-theme\", \"kind\": \"issues\", \"count\": 2, \"logcount\": 0.6931471805599453}, {\"repo\": \"team-compass\", \"kind\": \"comments\", \"count\": 46, \"logcount\": 3.828641396489095}, {\"repo\": \"team-compass\", \"kind\": \"issues\", \"count\": 11, \"logcount\": 2.3978952727983707}, {\"repo\": \"team-compass\", \"kind\": \"prs\", \"count\": 2, \"logcount\": 0.6931471805599453}, {\"repo\": \"the-littlest-jupyterhub\", \"kind\": \"comments\", \"count\": 2, \"logcount\": 0.6931471805599453}, {\"repo\": \"the-littlest-jupyterhub\", \"kind\": \"issues\", \"count\": 1, \"logcount\": 0.0}, {\"repo\": \"the-littlest-jupyterhub\", \"kind\": \"prs\", \"count\": 1, \"logcount\": 0.0}, {\"repo\": \"traefik-proxy\", \"kind\": \"comments\", \"count\": 4, \"logcount\": 1.3862943611198906}, {\"repo\": \"traefik-proxy\", \"kind\": \"issues\", \"count\": 1, \"logcount\": 0.0}, {\"repo\": \"zero-to-jupyterhub-k8s\", \"kind\": \"comments\", \"count\": 24, \"logcount\": 3.1780538303479453}, {\"repo\": \"zero-to-jupyterhub-k8s\", \"kind\": \"issues\", \"count\": 5, \"logcount\": 1.6094379124341003}, {\"repo\": \"zero-to-jupyterhub-k8s\", \"kind\": \"prs\", \"count\": 3, \"logcount\": 1.0986122886681096}]}}, {\"mode\": \"vega-lite\"});\n",
       "</script>"
      ],
      "text/plain": [
       "alt.HConcatChart(...)"
      ]
     },
     "execution_count": 12,
     "metadata": {},
     "output_type": "execute_result"
    }
   ],
   "source": [
    "ch1 = alt.Chart(repo_summaries, width=600, title=\"Activity per repository\").mark_bar().encode(\n",
    "    x='repo',\n",
    "    y='count',\n",
    "    color='kind',\n",
    "    tooltip=\"kind\"\n",
    ")\n",
    "\n",
    "ch2 = alt.Chart(repo_summaries, width=600, title=\"Log activity per repository\").mark_bar().encode(\n",
    "    x='repo',\n",
    "    y='logcount',\n",
    "    color='kind',\n",
    "    tooltip=\"kind\"\n",
    ")\n",
    "\n",
    "ch1 | ch2"
   ]
  },
  {
   "cell_type": "code",
   "execution_count": 13,
   "id": "c66fe767",
   "metadata": {
    "execution": {
     "iopub.execute_input": "2023-03-06T14:44:51.524138Z",
     "iopub.status.busy": "2023-03-06T14:44:51.523888Z",
     "iopub.status.idle": "2023-03-06T14:44:51.572538Z",
     "shell.execute_reply": "2023-03-06T14:44:51.571845Z"
    },
    "papermill": {
     "duration": 0.05687,
     "end_time": "2023-03-06T14:44:51.574302",
     "exception": false,
     "start_time": "2023-03-06T14:44:51.517432",
     "status": "completed"
    },
    "tags": [
     "hide_input"
    ]
   },
   "outputs": [
    {
     "data": {
      "text/html": [
       "\n",
       "<div id=\"altair-viz-1f0f79573dfd4dd990d910a76532451c\"></div>\n",
       "<script type=\"text/javascript\">\n",
       "  var VEGA_DEBUG = (typeof VEGA_DEBUG == \"undefined\") ? {} : VEGA_DEBUG;\n",
       "  (function(spec, embedOpt){\n",
       "    let outputDiv = document.currentScript.previousElementSibling;\n",
       "    if (outputDiv.id !== \"altair-viz-1f0f79573dfd4dd990d910a76532451c\") {\n",
       "      outputDiv = document.getElementById(\"altair-viz-1f0f79573dfd4dd990d910a76532451c\");\n",
       "    }\n",
       "    const paths = {\n",
       "      \"vega\": \"https://cdn.jsdelivr.net/npm//vega@5?noext\",\n",
       "      \"vega-lib\": \"https://cdn.jsdelivr.net/npm//vega-lib?noext\",\n",
       "      \"vega-lite\": \"https://cdn.jsdelivr.net/npm//vega-lite@4.17.0?noext\",\n",
       "      \"vega-embed\": \"https://cdn.jsdelivr.net/npm//vega-embed@6?noext\",\n",
       "    };\n",
       "\n",
       "    function maybeLoadScript(lib, version) {\n",
       "      var key = `${lib.replace(\"-\", \"\")}_version`;\n",
       "      return (VEGA_DEBUG[key] == version) ?\n",
       "        Promise.resolve(paths[lib]) :\n",
       "        new Promise(function(resolve, reject) {\n",
       "          var s = document.createElement('script');\n",
       "          document.getElementsByTagName(\"head\")[0].appendChild(s);\n",
       "          s.async = true;\n",
       "          s.onload = () => {\n",
       "            VEGA_DEBUG[key] = version;\n",
       "            return resolve(paths[lib]);\n",
       "          };\n",
       "          s.onerror = () => reject(`Error loading script: ${paths[lib]}`);\n",
       "          s.src = paths[lib];\n",
       "        });\n",
       "    }\n",
       "\n",
       "    function showError(err) {\n",
       "      outputDiv.innerHTML = `<div class=\"error\" style=\"color:red;\">${err}</div>`;\n",
       "      throw err;\n",
       "    }\n",
       "\n",
       "    function displayChart(vegaEmbed) {\n",
       "      vegaEmbed(outputDiv, spec, embedOpt)\n",
       "        .catch(err => showError(`Javascript Error: ${err.message}<br>This usually means there's a typo in your chart specification. See the javascript console for the full traceback.`));\n",
       "    }\n",
       "\n",
       "    if(typeof define === \"function\" && define.amd) {\n",
       "      requirejs.config({paths});\n",
       "      require([\"vega-embed\"], displayChart, err => showError(`Error loading script: ${err.message}`));\n",
       "    } else {\n",
       "      maybeLoadScript(\"vega\", \"5\")\n",
       "        .then(() => maybeLoadScript(\"vega-lite\", \"4.17.0\"))\n",
       "        .then(() => maybeLoadScript(\"vega-embed\", \"6\"))\n",
       "        .catch(showError)\n",
       "        .then(() => displayChart(vegaEmbed));\n",
       "    }\n",
       "  })({\"config\": {\"axisLeft\": {\"labelFontSize\": 15}, \"axisBottom\": {\"labelFontSize\": 15}}, \"data\": {\"name\": \"data-12aa06890c524fc8d9c2c932a7243e8b\"}, \"mark\": \"bar\", \"encoding\": {\"color\": {\"field\": \"kind\", \"type\": \"nominal\"}, \"tooltip\": {\"field\": \"org\", \"type\": \"nominal\"}, \"x\": {\"field\": \"org\", \"type\": \"nominal\"}, \"y\": {\"field\": \"count\", \"type\": \"quantitative\"}}, \"width\": 600, \"$schema\": \"https://vega.github.io/schema/vega-lite/v4.17.0.json\", \"datasets\": {\"data-12aa06890c524fc8d9c2c932a7243e8b\": [{\"org\": \"2i2c-org\", \"kind\": \"comments\", \"count\": 250}, {\"org\": \"2i2c-org\", \"kind\": \"issues\", \"count\": 93}, {\"org\": \"2i2c-org\", \"kind\": \"prs\", \"count\": 56}, {\"org\": \"executablebooks\", \"kind\": \"comments\", \"count\": 13}, {\"org\": \"executablebooks\", \"kind\": \"issues\", \"count\": 3}, {\"org\": \"executablebooks\", \"kind\": \"prs\", \"count\": 1}, {\"org\": \"jupyter\", \"kind\": \"comments\", \"count\": 9}, {\"org\": \"jupyterhub\", \"kind\": \"comments\", \"count\": 275}, {\"org\": \"jupyterhub\", \"kind\": \"issues\", \"count\": 57}, {\"org\": \"jupyterhub\", \"kind\": \"prs\", \"count\": 47}, {\"org\": \"jupyterlab\", \"kind\": \"comments\", \"count\": 2}, {\"org\": \"jupyterlab\", \"kind\": \"issues\", \"count\": 1}]}}, {\"mode\": \"vega-lite\"});\n",
       "</script>"
      ],
      "text/plain": [
       "alt.Chart(...)"
      ]
     },
     "execution_count": 13,
     "metadata": {},
     "output_type": "execute_result"
    }
   ],
   "source": [
    "alt.Chart(org_summaries, width=600).mark_bar().encode(\n",
    "    x='org',\n",
    "    y='count',\n",
    "    color='kind',\n",
    "    tooltip=\"org\"\n",
    ")"
   ]
  },
  {
   "cell_type": "markdown",
   "id": "bfb27d91",
   "metadata": {
    "papermill": {
     "duration": 0.004761,
     "end_time": "2023-03-06T14:44:51.584411",
     "exception": false,
     "start_time": "2023-03-06T14:44:51.579650",
     "status": "completed"
    },
    "tags": []
   },
   "source": [
    "## By repository over time"
   ]
  },
  {
   "cell_type": "markdown",
   "id": "2711044b",
   "metadata": {
    "papermill": {
     "duration": 0.004646,
     "end_time": "2023-03-06T14:44:51.594080",
     "exception": false,
     "start_time": "2023-03-06T14:44:51.589434",
     "status": "completed"
    },
    "tags": []
   },
   "source": [
    "### Comments"
   ]
  },
  {
   "cell_type": "code",
   "execution_count": 14,
   "id": "d685d8be",
   "metadata": {
    "execution": {
     "iopub.execute_input": "2023-03-06T14:44:51.604996Z",
     "iopub.status.busy": "2023-03-06T14:44:51.604484Z",
     "iopub.status.idle": "2023-03-06T14:44:51.792677Z",
     "shell.execute_reply": "2023-03-06T14:44:51.792083Z"
    },
    "papermill": {
     "duration": 0.196449,
     "end_time": "2023-03-06T14:44:51.795157",
     "exception": false,
     "start_time": "2023-03-06T14:44:51.598708",
     "status": "completed"
    },
    "tags": [
     "hide_input"
    ]
   },
   "outputs": [
    {
     "data": {
      "text/html": [
       "\n",
       "<div id=\"altair-viz-bcd4e4326605499ead5a369f0056134e\"></div>\n",
       "<script type=\"text/javascript\">\n",
       "  var VEGA_DEBUG = (typeof VEGA_DEBUG == \"undefined\") ? {} : VEGA_DEBUG;\n",
       "  (function(spec, embedOpt){\n",
       "    let outputDiv = document.currentScript.previousElementSibling;\n",
       "    if (outputDiv.id !== \"altair-viz-bcd4e4326605499ead5a369f0056134e\") {\n",
       "      outputDiv = document.getElementById(\"altair-viz-bcd4e4326605499ead5a369f0056134e\");\n",
       "    }\n",
       "    const paths = {\n",
       "      \"vega\": \"https://cdn.jsdelivr.net/npm//vega@5?noext\",\n",
       "      \"vega-lib\": \"https://cdn.jsdelivr.net/npm//vega-lib?noext\",\n",
       "      \"vega-lite\": \"https://cdn.jsdelivr.net/npm//vega-lite@4.17.0?noext\",\n",
       "      \"vega-embed\": \"https://cdn.jsdelivr.net/npm//vega-embed@6?noext\",\n",
       "    };\n",
       "\n",
       "    function maybeLoadScript(lib, version) {\n",
       "      var key = `${lib.replace(\"-\", \"\")}_version`;\n",
       "      return (VEGA_DEBUG[key] == version) ?\n",
       "        Promise.resolve(paths[lib]) :\n",
       "        new Promise(function(resolve, reject) {\n",
       "          var s = document.createElement('script');\n",
       "          document.getElementsByTagName(\"head\")[0].appendChild(s);\n",
       "          s.async = true;\n",
       "          s.onload = () => {\n",
       "            VEGA_DEBUG[key] = version;\n",
       "            return resolve(paths[lib]);\n",
       "          };\n",
       "          s.onerror = () => reject(`Error loading script: ${paths[lib]}`);\n",
       "          s.src = paths[lib];\n",
       "        });\n",
       "    }\n",
       "\n",
       "    function showError(err) {\n",
       "      outputDiv.innerHTML = `<div class=\"error\" style=\"color:red;\">${err}</div>`;\n",
       "      throw err;\n",
       "    }\n",
       "\n",
       "    function displayChart(vegaEmbed) {\n",
       "      vegaEmbed(outputDiv, spec, embedOpt)\n",
       "        .catch(err => showError(`Javascript Error: ${err.message}<br>This usually means there's a typo in your chart specification. See the javascript console for the full traceback.`));\n",
       "    }\n",
       "\n",
       "    if(typeof define === \"function\" && define.amd) {\n",
       "      requirejs.config({paths});\n",
       "      require([\"vega-embed\"], displayChart, err => showError(`Error loading script: ${err.message}`));\n",
       "    } else {\n",
       "      maybeLoadScript(\"vega\", \"5\")\n",
       "        .then(() => maybeLoadScript(\"vega-lite\", \"4.17.0\"))\n",
       "        .then(() => maybeLoadScript(\"vega-embed\", \"6\"))\n",
       "        .catch(showError)\n",
       "        .then(() => displayChart(vegaEmbed));\n",
       "    }\n",
       "  })({\"config\": {\"axisLeft\": {\"labelFontSize\": 15}, \"axisBottom\": {\"labelFontSize\": 15}}, \"layer\": [{\"data\": {\"name\": \"data-bffa1498f395893973126dac9c0516cb\"}, \"mark\": \"line\", \"encoding\": {\"color\": {\"field\": \"repo\", \"type\": \"nominal\"}, \"tooltip\": {\"field\": \"repo\", \"type\": \"nominal\"}, \"x\": {\"field\": \"createdAt\", \"type\": \"temporal\"}, \"y\": {\"field\": \"count\", \"type\": \"quantitative\"}}, \"width\": 600}, {\"data\": {\"name\": \"data-26f77137e8b5443d6101716f3fa2e779\"}, \"mark\": {\"type\": \"line\", \"color\": \"black\"}, \"encoding\": {\"x\": {\"field\": \"createdAt\", \"type\": \"temporal\"}, \"y\": {\"field\": \"count\", \"type\": \"quantitative\"}}, \"width\": 600}], \"$schema\": \"https://vega.github.io/schema/vega-lite/v4.17.0.json\", \"datasets\": {\"data-bffa1498f395893973126dac9c0516cb\": [{\"repo\": \".github\", \"createdAt\": \"2023-01-22T00:00:00\", \"count\": 1}, {\"repo\": \"action-k3s-helm\", \"createdAt\": \"2023-01-01T00:00:00\", \"count\": 2}, {\"repo\": \"action-k8s-await-workloads\", \"createdAt\": \"2023-01-01T00:00:00\", \"count\": 2}, {\"repo\": \"action-k8s-namespace-report\", \"createdAt\": \"2023-01-01T00:00:00\", \"count\": 2}, {\"repo\": \"autodoc-traits\", \"createdAt\": \"2022-12-11T00:00:00\", \"count\": 9}, {\"repo\": \"autodoc-traits\", \"createdAt\": \"2022-12-18T00:00:00\", \"count\": 7}, {\"repo\": \"autodoc-traits\", \"createdAt\": \"2022-12-25T00:00:00\", \"count\": 2}, {\"repo\": \"binderhub\", \"createdAt\": \"2021-09-26T00:00:00\", \"count\": 2}, {\"repo\": \"binderhub\", \"createdAt\": \"2021-10-03T00:00:00\", \"count\": 2}, {\"repo\": \"binderhub\", \"createdAt\": \"2021-10-10T00:00:00\", \"count\": 1}, {\"repo\": \"binderhub\", \"createdAt\": \"2021-10-17T00:00:00\", \"count\": 0}, {\"repo\": \"binderhub\", \"createdAt\": \"2021-10-24T00:00:00\", \"count\": 0}, {\"repo\": \"binderhub\", \"createdAt\": \"2021-10-31T00:00:00\", \"count\": 0}, {\"repo\": \"binderhub\", \"createdAt\": \"2021-11-07T00:00:00\", \"count\": 0}, {\"repo\": \"binderhub\", \"createdAt\": \"2021-11-14T00:00:00\", \"count\": 0}, {\"repo\": \"binderhub\", \"createdAt\": \"2021-11-21T00:00:00\", \"count\": 0}, {\"repo\": \"binderhub\", \"createdAt\": \"2021-11-28T00:00:00\", \"count\": 0}, {\"repo\": \"binderhub\", \"createdAt\": \"2021-12-05T00:00:00\", \"count\": 0}, {\"repo\": \"binderhub\", \"createdAt\": \"2021-12-12T00:00:00\", \"count\": 0}, {\"repo\": \"binderhub\", \"createdAt\": \"2021-12-19T00:00:00\", \"count\": 0}, {\"repo\": \"binderhub\", \"createdAt\": \"2021-12-26T00:00:00\", \"count\": 0}, {\"repo\": \"binderhub\", \"createdAt\": \"2022-01-02T00:00:00\", \"count\": 0}, {\"repo\": \"binderhub\", \"createdAt\": \"2022-01-09T00:00:00\", \"count\": 0}, {\"repo\": \"binderhub\", \"createdAt\": \"2022-01-16T00:00:00\", \"count\": 0}, {\"repo\": \"binderhub\", \"createdAt\": \"2022-01-23T00:00:00\", \"count\": 0}, {\"repo\": \"binderhub\", \"createdAt\": \"2022-01-30T00:00:00\", \"count\": 0}, {\"repo\": \"binderhub\", \"createdAt\": \"2022-02-06T00:00:00\", \"count\": 0}, {\"repo\": \"binderhub\", \"createdAt\": \"2022-02-13T00:00:00\", \"count\": 0}, {\"repo\": \"binderhub\", \"createdAt\": \"2022-02-20T00:00:00\", \"count\": 0}, {\"repo\": \"binderhub\", \"createdAt\": \"2022-02-27T00:00:00\", \"count\": 0}, {\"repo\": \"binderhub\", \"createdAt\": \"2022-03-06T00:00:00\", \"count\": 0}, {\"repo\": \"binderhub\", \"createdAt\": \"2022-03-13T00:00:00\", \"count\": 0}, {\"repo\": \"binderhub\", \"createdAt\": \"2022-03-20T00:00:00\", \"count\": 0}, {\"repo\": \"binderhub\", \"createdAt\": \"2022-03-27T00:00:00\", \"count\": 0}, {\"repo\": \"binderhub\", \"createdAt\": \"2022-04-03T00:00:00\", \"count\": 0}, {\"repo\": \"binderhub\", \"createdAt\": \"2022-04-10T00:00:00\", \"count\": 0}, {\"repo\": \"binderhub\", \"createdAt\": \"2022-04-17T00:00:00\", \"count\": 0}, {\"repo\": \"binderhub\", \"createdAt\": \"2022-04-24T00:00:00\", \"count\": 0}, {\"repo\": \"binderhub\", \"createdAt\": \"2022-05-01T00:00:00\", \"count\": 0}, {\"repo\": \"binderhub\", \"createdAt\": \"2022-05-08T00:00:00\", \"count\": 0}, {\"repo\": \"binderhub\", \"createdAt\": \"2022-05-15T00:00:00\", \"count\": 0}, {\"repo\": \"binderhub\", \"createdAt\": \"2022-05-22T00:00:00\", \"count\": 0}, {\"repo\": \"binderhub\", \"createdAt\": \"2022-05-29T00:00:00\", \"count\": 0}, {\"repo\": \"binderhub\", \"createdAt\": \"2022-06-05T00:00:00\", \"count\": 0}, {\"repo\": \"binderhub\", \"createdAt\": \"2022-06-12T00:00:00\", \"count\": 0}, {\"repo\": \"binderhub\", \"createdAt\": \"2022-06-19T00:00:00\", \"count\": 0}, {\"repo\": \"binderhub\", \"createdAt\": \"2022-06-26T00:00:00\", \"count\": 0}, {\"repo\": \"binderhub\", \"createdAt\": \"2022-07-03T00:00:00\", \"count\": 0}, {\"repo\": \"binderhub\", \"createdAt\": \"2022-07-10T00:00:00\", \"count\": 0}, {\"repo\": \"binderhub\", \"createdAt\": \"2022-07-17T00:00:00\", \"count\": 0}, {\"repo\": \"binderhub\", \"createdAt\": \"2022-07-24T00:00:00\", \"count\": 0}, {\"repo\": \"binderhub\", \"createdAt\": \"2022-07-31T00:00:00\", \"count\": 0}, {\"repo\": \"binderhub\", \"createdAt\": \"2022-08-07T00:00:00\", \"count\": 0}, {\"repo\": \"binderhub\", \"createdAt\": \"2022-08-14T00:00:00\", \"count\": 0}, {\"repo\": \"binderhub\", \"createdAt\": \"2022-08-21T00:00:00\", \"count\": 0}, {\"repo\": \"binderhub\", \"createdAt\": \"2022-08-28T00:00:00\", \"count\": 0}, {\"repo\": \"binderhub\", \"createdAt\": \"2022-09-04T00:00:00\", \"count\": 0}, {\"repo\": \"binderhub\", \"createdAt\": \"2022-09-11T00:00:00\", \"count\": 0}, {\"repo\": \"binderhub\", \"createdAt\": \"2022-09-18T00:00:00\", \"count\": 0}, {\"repo\": \"binderhub\", \"createdAt\": \"2022-09-25T00:00:00\", \"count\": 0}, {\"repo\": \"binderhub\", \"createdAt\": \"2022-10-02T00:00:00\", \"count\": 0}, {\"repo\": \"binderhub\", \"createdAt\": \"2022-10-09T00:00:00\", \"count\": 1}, {\"repo\": \"binderhub\", \"createdAt\": \"2022-10-16T00:00:00\", \"count\": 0}, {\"repo\": \"binderhub\", \"createdAt\": \"2022-10-23T00:00:00\", \"count\": 0}, {\"repo\": \"binderhub\", \"createdAt\": \"2022-10-30T00:00:00\", \"count\": 0}, {\"repo\": \"binderhub\", \"createdAt\": \"2022-11-06T00:00:00\", \"count\": 0}, {\"repo\": \"binderhub\", \"createdAt\": \"2022-11-13T00:00:00\", \"count\": 0}, {\"repo\": \"binderhub\", \"createdAt\": \"2022-11-20T00:00:00\", \"count\": 0}, {\"repo\": \"binderhub\", \"createdAt\": \"2022-11-27T00:00:00\", \"count\": 0}, {\"repo\": \"binderhub\", \"createdAt\": \"2022-12-04T00:00:00\", \"count\": 0}, {\"repo\": \"binderhub\", \"createdAt\": \"2022-12-11T00:00:00\", \"count\": 1}, {\"repo\": \"binderhub\", \"createdAt\": \"2022-12-18T00:00:00\", \"count\": 12}, {\"repo\": \"binderhub\", \"createdAt\": \"2022-12-25T00:00:00\", \"count\": 0}, {\"repo\": \"binderhub\", \"createdAt\": \"2023-01-01T00:00:00\", \"count\": 7}, {\"repo\": \"binderhub\", \"createdAt\": \"2023-01-08T00:00:00\", \"count\": 6}, {\"repo\": \"binderhub\", \"createdAt\": \"2023-01-15T00:00:00\", \"count\": 1}, {\"repo\": \"binderhub\", \"createdAt\": \"2023-01-22T00:00:00\", \"count\": 1}, {\"repo\": \"binderhub\", \"createdAt\": \"2023-01-29T00:00:00\", \"count\": 0}, {\"repo\": \"binderhub\", \"createdAt\": \"2023-02-05T00:00:00\", \"count\": 1}, {\"repo\": \"binderhub\", \"createdAt\": \"2023-02-12T00:00:00\", \"count\": 0}, {\"repo\": \"binderhub\", \"createdAt\": \"2023-02-19T00:00:00\", \"count\": 2}, {\"repo\": \"binderhub\", \"createdAt\": \"2023-02-26T00:00:00\", \"count\": 2}, {\"repo\": \"binderhub\", \"createdAt\": \"2023-03-05T00:00:00\", \"count\": 2}, {\"repo\": \"configurable-http-proxy\", \"createdAt\": \"2023-03-05T00:00:00\", \"count\": 1}, {\"repo\": \"default-hub-homepage\", \"createdAt\": \"2023-02-19T00:00:00\", \"count\": 1}, {\"repo\": \"docker-image-cleaner\", \"createdAt\": \"2022-12-25T00:00:00\", \"count\": 1}, {\"repo\": \"docker-image-cleaner\", \"createdAt\": \"2023-01-01T00:00:00\", \"count\": 0}, {\"repo\": \"docker-image-cleaner\", \"createdAt\": \"2023-01-08T00:00:00\", \"count\": 0}, {\"repo\": \"docker-image-cleaner\", \"createdAt\": \"2023-01-15T00:00:00\", \"count\": 0}, {\"repo\": \"docker-image-cleaner\", \"createdAt\": \"2023-01-22T00:00:00\", \"count\": 0}, {\"repo\": \"docker-image-cleaner\", \"createdAt\": \"2023-01-29T00:00:00\", \"count\": 0}, {\"repo\": \"docker-image-cleaner\", \"createdAt\": \"2023-02-05T00:00:00\", \"count\": 1}, {\"repo\": \"docker-image-cleaner\", \"createdAt\": \"2023-02-12T00:00:00\", \"count\": 0}, {\"repo\": \"docker-image-cleaner\", \"createdAt\": \"2023-02-19T00:00:00\", \"count\": 1}, {\"repo\": \"docker-stacks\", \"createdAt\": \"2022-07-17T00:00:00\", \"count\": 1}, {\"repo\": \"docker-stacks\", \"createdAt\": \"2022-07-24T00:00:00\", \"count\": 0}, {\"repo\": \"docker-stacks\", \"createdAt\": \"2022-07-31T00:00:00\", \"count\": 0}, {\"repo\": \"docker-stacks\", \"createdAt\": \"2022-08-07T00:00:00\", \"count\": 0}, {\"repo\": \"docker-stacks\", \"createdAt\": \"2022-08-14T00:00:00\", \"count\": 0}, {\"repo\": \"docker-stacks\", \"createdAt\": \"2022-08-21T00:00:00\", \"count\": 0}, {\"repo\": \"docker-stacks\", \"createdAt\": \"2022-08-28T00:00:00\", \"count\": 2}, {\"repo\": \"docker-stacks\", \"createdAt\": \"2022-09-04T00:00:00\", \"count\": 0}, {\"repo\": \"docker-stacks\", \"createdAt\": \"2022-09-11T00:00:00\", \"count\": 0}, {\"repo\": \"docker-stacks\", \"createdAt\": \"2022-09-18T00:00:00\", \"count\": 0}, {\"repo\": \"docker-stacks\", \"createdAt\": \"2022-09-25T00:00:00\", \"count\": 0}, {\"repo\": \"docker-stacks\", \"createdAt\": \"2022-10-02T00:00:00\", \"count\": 0}, {\"repo\": \"docker-stacks\", \"createdAt\": \"2022-10-09T00:00:00\", \"count\": 0}, {\"repo\": \"docker-stacks\", \"createdAt\": \"2022-10-16T00:00:00\", \"count\": 0}, {\"repo\": \"docker-stacks\", \"createdAt\": \"2022-10-23T00:00:00\", \"count\": 0}, {\"repo\": \"docker-stacks\", \"createdAt\": \"2022-10-30T00:00:00\", \"count\": 0}, {\"repo\": \"docker-stacks\", \"createdAt\": \"2022-11-06T00:00:00\", \"count\": 0}, {\"repo\": \"docker-stacks\", \"createdAt\": \"2022-11-13T00:00:00\", \"count\": 1}, {\"repo\": \"docker-stacks\", \"createdAt\": \"2022-11-20T00:00:00\", \"count\": 2}, {\"repo\": \"docker-stacks\", \"createdAt\": \"2022-11-27T00:00:00\", \"count\": 0}, {\"repo\": \"docker-stacks\", \"createdAt\": \"2022-12-04T00:00:00\", \"count\": 1}, {\"repo\": \"docker-stacks\", \"createdAt\": \"2022-12-11T00:00:00\", \"count\": 0}, {\"repo\": \"docker-stacks\", \"createdAt\": \"2022-12-18T00:00:00\", \"count\": 0}, {\"repo\": \"docker-stacks\", \"createdAt\": \"2022-12-25T00:00:00\", \"count\": 0}, {\"repo\": \"docker-stacks\", \"createdAt\": \"2023-01-01T00:00:00\", \"count\": 1}, {\"repo\": \"docker-stacks\", \"createdAt\": \"2023-01-08T00:00:00\", \"count\": 0}, {\"repo\": \"docker-stacks\", \"createdAt\": \"2023-01-15T00:00:00\", \"count\": 0}, {\"repo\": \"docker-stacks\", \"createdAt\": \"2023-01-22T00:00:00\", \"count\": 0}, {\"repo\": \"docker-stacks\", \"createdAt\": \"2023-01-29T00:00:00\", \"count\": 0}, {\"repo\": \"docker-stacks\", \"createdAt\": \"2023-02-05T00:00:00\", \"count\": 0}, {\"repo\": \"docker-stacks\", \"createdAt\": \"2023-02-12T00:00:00\", \"count\": 0}, {\"repo\": \"docker-stacks\", \"createdAt\": \"2023-02-19T00:00:00\", \"count\": 1}, {\"repo\": \"docs\", \"createdAt\": \"2023-01-15T00:00:00\", \"count\": 1}, {\"repo\": \"gh-scoped-creds\", \"createdAt\": \"2023-02-12T00:00:00\", \"count\": 1}, {\"repo\": \"grafana-dashboards\", \"createdAt\": \"2023-01-15T00:00:00\", \"count\": 1}, {\"repo\": \"grafana-dashboards\", \"createdAt\": \"2023-01-22T00:00:00\", \"count\": 0}, {\"repo\": \"grafana-dashboards\", \"createdAt\": \"2023-01-29T00:00:00\", \"count\": 0}, {\"repo\": \"grafana-dashboards\", \"createdAt\": \"2023-02-05T00:00:00\", \"count\": 0}, {\"repo\": \"grafana-dashboards\", \"createdAt\": \"2023-02-12T00:00:00\", \"count\": 0}, {\"repo\": \"grafana-dashboards\", \"createdAt\": \"2023-02-19T00:00:00\", \"count\": 1}, {\"repo\": \"infrastructure\", \"createdAt\": \"2021-05-02T00:00:00\", \"count\": 2}, {\"repo\": \"infrastructure\", \"createdAt\": \"2021-05-09T00:00:00\", \"count\": 0}, {\"repo\": \"infrastructure\", \"createdAt\": \"2021-05-16T00:00:00\", \"count\": 0}, {\"repo\": \"infrastructure\", \"createdAt\": \"2021-05-23T00:00:00\", \"count\": 0}, {\"repo\": \"infrastructure\", \"createdAt\": \"2021-05-30T00:00:00\", \"count\": 0}, {\"repo\": \"infrastructure\", \"createdAt\": \"2021-06-06T00:00:00\", \"count\": 1}, {\"repo\": \"infrastructure\", \"createdAt\": \"2021-06-13T00:00:00\", \"count\": 0}, {\"repo\": \"infrastructure\", \"createdAt\": \"2021-06-20T00:00:00\", \"count\": 0}, {\"repo\": \"infrastructure\", \"createdAt\": \"2021-06-27T00:00:00\", \"count\": 1}, {\"repo\": \"infrastructure\", \"createdAt\": \"2021-07-04T00:00:00\", \"count\": 0}, {\"repo\": \"infrastructure\", \"createdAt\": \"2021-07-11T00:00:00\", \"count\": 0}, {\"repo\": \"infrastructure\", \"createdAt\": \"2021-07-18T00:00:00\", \"count\": 0}, {\"repo\": \"infrastructure\", \"createdAt\": \"2021-07-25T00:00:00\", \"count\": 0}, {\"repo\": \"infrastructure\", \"createdAt\": \"2021-08-01T00:00:00\", \"count\": 0}, {\"repo\": \"infrastructure\", \"createdAt\": \"2021-08-08T00:00:00\", \"count\": 0}, {\"repo\": \"infrastructure\", \"createdAt\": \"2021-08-15T00:00:00\", \"count\": 0}, {\"repo\": \"infrastructure\", \"createdAt\": \"2021-08-22T00:00:00\", \"count\": 0}, {\"repo\": \"infrastructure\", \"createdAt\": \"2021-08-29T00:00:00\", \"count\": 1}, {\"repo\": \"infrastructure\", \"createdAt\": \"2021-09-05T00:00:00\", \"count\": 0}, {\"repo\": \"infrastructure\", \"createdAt\": \"2021-09-12T00:00:00\", \"count\": 0}, {\"repo\": \"infrastructure\", \"createdAt\": \"2021-09-19T00:00:00\", \"count\": 1}, {\"repo\": \"infrastructure\", \"createdAt\": \"2021-09-26T00:00:00\", \"count\": 0}, {\"repo\": \"infrastructure\", \"createdAt\": \"2021-10-03T00:00:00\", \"count\": 0}, {\"repo\": \"infrastructure\", \"createdAt\": \"2021-10-10T00:00:00\", \"count\": 0}, {\"repo\": \"infrastructure\", \"createdAt\": \"2021-10-17T00:00:00\", \"count\": 0}, {\"repo\": \"infrastructure\", \"createdAt\": \"2021-10-24T00:00:00\", \"count\": 0}, {\"repo\": \"infrastructure\", \"createdAt\": \"2021-10-31T00:00:00\", \"count\": 0}, {\"repo\": \"infrastructure\", \"createdAt\": \"2021-11-07T00:00:00\", \"count\": 0}, {\"repo\": \"infrastructure\", \"createdAt\": \"2021-11-14T00:00:00\", \"count\": 0}, {\"repo\": \"infrastructure\", \"createdAt\": \"2021-11-21T00:00:00\", \"count\": 0}, {\"repo\": \"infrastructure\", \"createdAt\": \"2021-11-28T00:00:00\", \"count\": 0}, {\"repo\": \"infrastructure\", \"createdAt\": \"2021-12-05T00:00:00\", \"count\": 0}, {\"repo\": \"infrastructure\", \"createdAt\": \"2021-12-12T00:00:00\", \"count\": 0}, {\"repo\": \"infrastructure\", \"createdAt\": \"2021-12-19T00:00:00\", \"count\": 0}, {\"repo\": \"infrastructure\", \"createdAt\": \"2021-12-26T00:00:00\", \"count\": 0}, {\"repo\": \"infrastructure\", \"createdAt\": \"2022-01-02T00:00:00\", \"count\": 0}, {\"repo\": \"infrastructure\", \"createdAt\": \"2022-01-09T00:00:00\", \"count\": 0}, {\"repo\": \"infrastructure\", \"createdAt\": \"2022-01-16T00:00:00\", \"count\": 0}, {\"repo\": \"infrastructure\", \"createdAt\": \"2022-01-23T00:00:00\", \"count\": 0}, {\"repo\": \"infrastructure\", \"createdAt\": \"2022-01-30T00:00:00\", \"count\": 0}, {\"repo\": \"infrastructure\", \"createdAt\": \"2022-02-06T00:00:00\", \"count\": 0}, {\"repo\": \"infrastructure\", \"createdAt\": \"2022-02-13T00:00:00\", \"count\": 0}, {\"repo\": \"infrastructure\", \"createdAt\": \"2022-02-20T00:00:00\", \"count\": 0}, {\"repo\": \"infrastructure\", \"createdAt\": \"2022-02-27T00:00:00\", \"count\": 0}, {\"repo\": \"infrastructure\", \"createdAt\": \"2022-03-06T00:00:00\", \"count\": 0}, {\"repo\": \"infrastructure\", \"createdAt\": \"2022-03-13T00:00:00\", \"count\": 0}, {\"repo\": \"infrastructure\", \"createdAt\": \"2022-03-20T00:00:00\", \"count\": 0}, {\"repo\": \"infrastructure\", \"createdAt\": \"2022-03-27T00:00:00\", \"count\": 0}, {\"repo\": \"infrastructure\", \"createdAt\": \"2022-04-03T00:00:00\", \"count\": 0}, {\"repo\": \"infrastructure\", \"createdAt\": \"2022-04-10T00:00:00\", \"count\": 0}, {\"repo\": \"infrastructure\", \"createdAt\": \"2022-04-17T00:00:00\", \"count\": 0}, {\"repo\": \"infrastructure\", \"createdAt\": \"2022-04-24T00:00:00\", \"count\": 0}, {\"repo\": \"infrastructure\", \"createdAt\": \"2022-05-01T00:00:00\", \"count\": 0}, {\"repo\": \"infrastructure\", \"createdAt\": \"2022-05-08T00:00:00\", \"count\": 0}, {\"repo\": \"infrastructure\", \"createdAt\": \"2022-05-15T00:00:00\", \"count\": 0}, {\"repo\": \"infrastructure\", \"createdAt\": \"2022-05-22T00:00:00\", \"count\": 0}, {\"repo\": \"infrastructure\", \"createdAt\": \"2022-05-29T00:00:00\", \"count\": 0}, {\"repo\": \"infrastructure\", \"createdAt\": \"2022-06-05T00:00:00\", \"count\": 0}, {\"repo\": \"infrastructure\", \"createdAt\": \"2022-06-12T00:00:00\", \"count\": 0}, {\"repo\": \"infrastructure\", \"createdAt\": \"2022-06-19T00:00:00\", \"count\": 0}, {\"repo\": \"infrastructure\", \"createdAt\": \"2022-06-26T00:00:00\", \"count\": 0}, {\"repo\": \"infrastructure\", \"createdAt\": \"2022-07-03T00:00:00\", \"count\": 0}, {\"repo\": \"infrastructure\", \"createdAt\": \"2022-07-10T00:00:00\", \"count\": 1}, {\"repo\": \"infrastructure\", \"createdAt\": \"2022-07-17T00:00:00\", \"count\": 0}, {\"repo\": \"infrastructure\", \"createdAt\": \"2022-07-24T00:00:00\", \"count\": 1}, {\"repo\": \"infrastructure\", \"createdAt\": \"2022-07-31T00:00:00\", \"count\": 0}, {\"repo\": \"infrastructure\", \"createdAt\": \"2022-08-07T00:00:00\", \"count\": 1}, {\"repo\": \"infrastructure\", \"createdAt\": \"2022-08-14T00:00:00\", \"count\": 0}, {\"repo\": \"infrastructure\", \"createdAt\": \"2022-08-21T00:00:00\", \"count\": 0}, {\"repo\": \"infrastructure\", \"createdAt\": \"2022-08-28T00:00:00\", \"count\": 0}, {\"repo\": \"infrastructure\", \"createdAt\": \"2022-09-04T00:00:00\", \"count\": 0}, {\"repo\": \"infrastructure\", \"createdAt\": \"2022-09-11T00:00:00\", \"count\": 0}, {\"repo\": \"infrastructure\", \"createdAt\": \"2022-09-18T00:00:00\", \"count\": 0}, {\"repo\": \"infrastructure\", \"createdAt\": \"2022-09-25T00:00:00\", \"count\": 0}, {\"repo\": \"infrastructure\", \"createdAt\": \"2022-10-02T00:00:00\", \"count\": 0}, {\"repo\": \"infrastructure\", \"createdAt\": \"2022-10-09T00:00:00\", \"count\": 0}, {\"repo\": \"infrastructure\", \"createdAt\": \"2022-10-16T00:00:00\", \"count\": 0}, {\"repo\": \"infrastructure\", \"createdAt\": \"2022-10-23T00:00:00\", \"count\": 0}, {\"repo\": \"infrastructure\", \"createdAt\": \"2022-10-30T00:00:00\", \"count\": 0}, {\"repo\": \"infrastructure\", \"createdAt\": \"2022-11-06T00:00:00\", \"count\": 0}, {\"repo\": \"infrastructure\", \"createdAt\": \"2022-11-13T00:00:00\", \"count\": 0}, {\"repo\": \"infrastructure\", \"createdAt\": \"2022-11-20T00:00:00\", \"count\": 0}, {\"repo\": \"infrastructure\", \"createdAt\": \"2022-11-27T00:00:00\", \"count\": 0}, {\"repo\": \"infrastructure\", \"createdAt\": \"2022-12-04T00:00:00\", \"count\": 0}, {\"repo\": \"infrastructure\", \"createdAt\": \"2022-12-11T00:00:00\", \"count\": 0}, {\"repo\": \"infrastructure\", \"createdAt\": \"2022-12-18T00:00:00\", \"count\": 2}, {\"repo\": \"infrastructure\", \"createdAt\": \"2022-12-25T00:00:00\", \"count\": 1}, {\"repo\": \"infrastructure\", \"createdAt\": \"2023-01-01T00:00:00\", \"count\": 0}, {\"repo\": \"infrastructure\", \"createdAt\": \"2023-01-08T00:00:00\", \"count\": 4}, {\"repo\": \"infrastructure\", \"createdAt\": \"2023-01-15T00:00:00\", \"count\": 8}, {\"repo\": \"infrastructure\", \"createdAt\": \"2023-01-22T00:00:00\", \"count\": 19}, {\"repo\": \"infrastructure\", \"createdAt\": \"2023-01-29T00:00:00\", \"count\": 28}, {\"repo\": \"infrastructure\", \"createdAt\": \"2023-02-05T00:00:00\", \"count\": 12}, {\"repo\": \"infrastructure\", \"createdAt\": \"2023-02-12T00:00:00\", \"count\": 28}, {\"repo\": \"infrastructure\", \"createdAt\": \"2023-02-19T00:00:00\", \"count\": 43}, {\"repo\": \"infrastructure\", \"createdAt\": \"2023-02-26T00:00:00\", \"count\": 32}, {\"repo\": \"infrastructure\", \"createdAt\": \"2023-03-05T00:00:00\", \"count\": 33}, {\"repo\": \"jupyter-book\", \"createdAt\": \"2023-01-01T00:00:00\", \"count\": 2}, {\"repo\": \"jupyter-book\", \"createdAt\": \"2023-01-08T00:00:00\", \"count\": 0}, {\"repo\": \"jupyter-book\", \"createdAt\": \"2023-01-15T00:00:00\", \"count\": 0}, {\"repo\": \"jupyter-book\", \"createdAt\": \"2023-01-22T00:00:00\", \"count\": 0}, {\"repo\": \"jupyter-book\", \"createdAt\": \"2023-01-29T00:00:00\", \"count\": 0}, {\"repo\": \"jupyter-book\", \"createdAt\": \"2023-02-05T00:00:00\", \"count\": 0}, {\"repo\": \"jupyter-book\", \"createdAt\": \"2023-02-12T00:00:00\", \"count\": 0}, {\"repo\": \"jupyter-book\", \"createdAt\": \"2023-02-19T00:00:00\", \"count\": 0}, {\"repo\": \"jupyter-book\", \"createdAt\": \"2023-02-26T00:00:00\", \"count\": 0}, {\"repo\": \"jupyter-book\", \"createdAt\": \"2023-03-05T00:00:00\", \"count\": 1}, {\"repo\": \"jupyter-remote-desktop-proxy\", \"createdAt\": \"2021-08-01T00:00:00\", \"count\": 3}, {\"repo\": \"jupyter-remote-desktop-proxy\", \"createdAt\": \"2021-08-08T00:00:00\", \"count\": 0}, {\"repo\": \"jupyter-remote-desktop-proxy\", \"createdAt\": \"2021-08-15T00:00:00\", \"count\": 0}, {\"repo\": \"jupyter-remote-desktop-proxy\", \"createdAt\": \"2021-08-22T00:00:00\", \"count\": 0}, {\"repo\": \"jupyter-remote-desktop-proxy\", \"createdAt\": \"2021-08-29T00:00:00\", \"count\": 0}, {\"repo\": \"jupyter-remote-desktop-proxy\", \"createdAt\": \"2021-09-05T00:00:00\", \"count\": 0}, {\"repo\": \"jupyter-remote-desktop-proxy\", \"createdAt\": \"2021-09-12T00:00:00\", \"count\": 0}, {\"repo\": \"jupyter-remote-desktop-proxy\", \"createdAt\": \"2021-09-19T00:00:00\", \"count\": 0}, {\"repo\": \"jupyter-remote-desktop-proxy\", \"createdAt\": \"2021-09-26T00:00:00\", \"count\": 0}, {\"repo\": \"jupyter-remote-desktop-proxy\", \"createdAt\": \"2021-10-03T00:00:00\", \"count\": 0}, {\"repo\": \"jupyter-remote-desktop-proxy\", \"createdAt\": \"2021-10-10T00:00:00\", \"count\": 0}, {\"repo\": \"jupyter-remote-desktop-proxy\", \"createdAt\": \"2021-10-17T00:00:00\", \"count\": 0}, {\"repo\": \"jupyter-remote-desktop-proxy\", \"createdAt\": \"2021-10-24T00:00:00\", \"count\": 0}, {\"repo\": \"jupyter-remote-desktop-proxy\", \"createdAt\": \"2021-10-31T00:00:00\", \"count\": 0}, {\"repo\": \"jupyter-remote-desktop-proxy\", \"createdAt\": \"2021-11-07T00:00:00\", \"count\": 0}, {\"repo\": \"jupyter-remote-desktop-proxy\", \"createdAt\": \"2021-11-14T00:00:00\", \"count\": 0}, {\"repo\": \"jupyter-remote-desktop-proxy\", \"createdAt\": \"2021-11-21T00:00:00\", \"count\": 0}, {\"repo\": \"jupyter-remote-desktop-proxy\", \"createdAt\": \"2021-11-28T00:00:00\", \"count\": 0}, {\"repo\": \"jupyter-remote-desktop-proxy\", \"createdAt\": \"2021-12-05T00:00:00\", \"count\": 0}, {\"repo\": \"jupyter-remote-desktop-proxy\", \"createdAt\": \"2021-12-12T00:00:00\", \"count\": 0}, {\"repo\": \"jupyter-remote-desktop-proxy\", \"createdAt\": \"2021-12-19T00:00:00\", \"count\": 0}, {\"repo\": \"jupyter-remote-desktop-proxy\", \"createdAt\": \"2021-12-26T00:00:00\", \"count\": 0}, {\"repo\": \"jupyter-remote-desktop-proxy\", \"createdAt\": \"2022-01-02T00:00:00\", \"count\": 0}, {\"repo\": \"jupyter-remote-desktop-proxy\", \"createdAt\": \"2022-01-09T00:00:00\", \"count\": 0}, {\"repo\": \"jupyter-remote-desktop-proxy\", \"createdAt\": \"2022-01-16T00:00:00\", \"count\": 0}, {\"repo\": \"jupyter-remote-desktop-proxy\", \"createdAt\": \"2022-01-23T00:00:00\", \"count\": 0}, {\"repo\": \"jupyter-remote-desktop-proxy\", \"createdAt\": \"2022-01-30T00:00:00\", \"count\": 0}, {\"repo\": \"jupyter-remote-desktop-proxy\", \"createdAt\": \"2022-02-06T00:00:00\", \"count\": 0}, {\"repo\": \"jupyter-remote-desktop-proxy\", \"createdAt\": \"2022-02-13T00:00:00\", \"count\": 0}, {\"repo\": \"jupyter-remote-desktop-proxy\", \"createdAt\": \"2022-02-20T00:00:00\", \"count\": 0}, {\"repo\": \"jupyter-remote-desktop-proxy\", \"createdAt\": \"2022-02-27T00:00:00\", \"count\": 0}, {\"repo\": \"jupyter-remote-desktop-proxy\", \"createdAt\": \"2022-03-06T00:00:00\", \"count\": 0}, {\"repo\": \"jupyter-remote-desktop-proxy\", \"createdAt\": \"2022-03-13T00:00:00\", \"count\": 0}, {\"repo\": \"jupyter-remote-desktop-proxy\", \"createdAt\": \"2022-03-20T00:00:00\", \"count\": 0}, {\"repo\": \"jupyter-remote-desktop-proxy\", \"createdAt\": \"2022-03-27T00:00:00\", \"count\": 0}, {\"repo\": \"jupyter-remote-desktop-proxy\", \"createdAt\": \"2022-04-03T00:00:00\", \"count\": 0}, {\"repo\": \"jupyter-remote-desktop-proxy\", \"createdAt\": \"2022-04-10T00:00:00\", \"count\": 0}, {\"repo\": \"jupyter-remote-desktop-proxy\", \"createdAt\": \"2022-04-17T00:00:00\", \"count\": 0}, {\"repo\": \"jupyter-remote-desktop-proxy\", \"createdAt\": \"2022-04-24T00:00:00\", \"count\": 0}, {\"repo\": \"jupyter-remote-desktop-proxy\", \"createdAt\": \"2022-05-01T00:00:00\", \"count\": 0}, {\"repo\": \"jupyter-remote-desktop-proxy\", \"createdAt\": \"2022-05-08T00:00:00\", \"count\": 0}, {\"repo\": \"jupyter-remote-desktop-proxy\", \"createdAt\": \"2022-05-15T00:00:00\", \"count\": 0}, {\"repo\": \"jupyter-remote-desktop-proxy\", \"createdAt\": \"2022-05-22T00:00:00\", \"count\": 0}, {\"repo\": \"jupyter-remote-desktop-proxy\", \"createdAt\": \"2022-05-29T00:00:00\", \"count\": 0}, {\"repo\": \"jupyter-remote-desktop-proxy\", \"createdAt\": \"2022-06-05T00:00:00\", \"count\": 0}, {\"repo\": \"jupyter-remote-desktop-proxy\", \"createdAt\": \"2022-06-12T00:00:00\", \"count\": 0}, {\"repo\": \"jupyter-remote-desktop-proxy\", \"createdAt\": \"2022-06-19T00:00:00\", \"count\": 0}, {\"repo\": \"jupyter-remote-desktop-proxy\", \"createdAt\": \"2022-06-26T00:00:00\", \"count\": 0}, {\"repo\": \"jupyter-remote-desktop-proxy\", \"createdAt\": \"2022-07-03T00:00:00\", \"count\": 0}, {\"repo\": \"jupyter-remote-desktop-proxy\", \"createdAt\": \"2022-07-10T00:00:00\", \"count\": 0}, {\"repo\": \"jupyter-remote-desktop-proxy\", \"createdAt\": \"2022-07-17T00:00:00\", \"count\": 0}, {\"repo\": \"jupyter-remote-desktop-proxy\", \"createdAt\": \"2022-07-24T00:00:00\", \"count\": 0}, {\"repo\": \"jupyter-remote-desktop-proxy\", \"createdAt\": \"2022-07-31T00:00:00\", \"count\": 0}, {\"repo\": \"jupyter-remote-desktop-proxy\", \"createdAt\": \"2022-08-07T00:00:00\", \"count\": 0}, {\"repo\": \"jupyter-remote-desktop-proxy\", \"createdAt\": \"2022-08-14T00:00:00\", \"count\": 0}, {\"repo\": \"jupyter-remote-desktop-proxy\", \"createdAt\": \"2022-08-21T00:00:00\", \"count\": 0}, {\"repo\": \"jupyter-remote-desktop-proxy\", \"createdAt\": \"2022-08-28T00:00:00\", \"count\": 0}, {\"repo\": \"jupyter-remote-desktop-proxy\", \"createdAt\": \"2022-09-04T00:00:00\", \"count\": 0}, {\"repo\": \"jupyter-remote-desktop-proxy\", \"createdAt\": \"2022-09-11T00:00:00\", \"count\": 0}, {\"repo\": \"jupyter-remote-desktop-proxy\", \"createdAt\": \"2022-09-18T00:00:00\", \"count\": 0}, {\"repo\": \"jupyter-remote-desktop-proxy\", \"createdAt\": \"2022-09-25T00:00:00\", \"count\": 0}, {\"repo\": \"jupyter-remote-desktop-proxy\", \"createdAt\": \"2022-10-02T00:00:00\", \"count\": 0}, {\"repo\": \"jupyter-remote-desktop-proxy\", \"createdAt\": \"2022-10-09T00:00:00\", \"count\": 0}, {\"repo\": \"jupyter-remote-desktop-proxy\", \"createdAt\": \"2022-10-16T00:00:00\", \"count\": 0}, {\"repo\": \"jupyter-remote-desktop-proxy\", \"createdAt\": \"2022-10-23T00:00:00\", \"count\": 0}, {\"repo\": \"jupyter-remote-desktop-proxy\", \"createdAt\": \"2022-10-30T00:00:00\", \"count\": 0}, {\"repo\": \"jupyter-remote-desktop-proxy\", \"createdAt\": \"2022-11-06T00:00:00\", \"count\": 0}, {\"repo\": \"jupyter-remote-desktop-proxy\", \"createdAt\": \"2022-11-13T00:00:00\", \"count\": 0}, {\"repo\": \"jupyter-remote-desktop-proxy\", \"createdAt\": \"2022-11-20T00:00:00\", \"count\": 0}, {\"repo\": \"jupyter-remote-desktop-proxy\", \"createdAt\": \"2022-11-27T00:00:00\", \"count\": 0}, {\"repo\": \"jupyter-remote-desktop-proxy\", \"createdAt\": \"2022-12-04T00:00:00\", \"count\": 0}, {\"repo\": \"jupyter-remote-desktop-proxy\", \"createdAt\": \"2022-12-11T00:00:00\", \"count\": 0}, {\"repo\": \"jupyter-remote-desktop-proxy\", \"createdAt\": \"2022-12-18T00:00:00\", \"count\": 0}, {\"repo\": \"jupyter-remote-desktop-proxy\", \"createdAt\": \"2022-12-25T00:00:00\", \"count\": 0}, {\"repo\": \"jupyter-remote-desktop-proxy\", \"createdAt\": \"2023-01-01T00:00:00\", \"count\": 0}, {\"repo\": \"jupyter-remote-desktop-proxy\", \"createdAt\": \"2023-01-08T00:00:00\", \"count\": 0}, {\"repo\": \"jupyter-remote-desktop-proxy\", \"createdAt\": \"2023-01-15T00:00:00\", \"count\": 3}, {\"repo\": \"jupyter-remote-desktop-proxy\", \"createdAt\": \"2023-01-22T00:00:00\", \"count\": 1}, {\"repo\": \"jupyter-server-proxy\", \"createdAt\": \"2022-06-26T00:00:00\", \"count\": 3}, {\"repo\": \"jupyter-server-proxy\", \"createdAt\": \"2022-07-03T00:00:00\", \"count\": 0}, {\"repo\": \"jupyter-server-proxy\", \"createdAt\": \"2022-07-10T00:00:00\", \"count\": 0}, {\"repo\": \"jupyter-server-proxy\", \"createdAt\": \"2022-07-17T00:00:00\", \"count\": 0}, {\"repo\": \"jupyter-server-proxy\", \"createdAt\": \"2022-07-24T00:00:00\", \"count\": 0}, {\"repo\": \"jupyter-server-proxy\", \"createdAt\": \"2022-07-31T00:00:00\", \"count\": 0}, {\"repo\": \"jupyter-server-proxy\", \"createdAt\": \"2022-08-07T00:00:00\", \"count\": 0}, {\"repo\": \"jupyter-server-proxy\", \"createdAt\": \"2022-08-14T00:00:00\", \"count\": 0}, {\"repo\": \"jupyter-server-proxy\", \"createdAt\": \"2022-08-21T00:00:00\", \"count\": 0}, {\"repo\": \"jupyter-server-proxy\", \"createdAt\": \"2022-08-28T00:00:00\", \"count\": 0}, {\"repo\": \"jupyter-server-proxy\", \"createdAt\": \"2022-09-04T00:00:00\", \"count\": 0}, {\"repo\": \"jupyter-server-proxy\", \"createdAt\": \"2022-09-11T00:00:00\", \"count\": 0}, {\"repo\": \"jupyter-server-proxy\", \"createdAt\": \"2022-09-18T00:00:00\", \"count\": 0}, {\"repo\": \"jupyter-server-proxy\", \"createdAt\": \"2022-09-25T00:00:00\", \"count\": 0}, {\"repo\": \"jupyter-server-proxy\", \"createdAt\": \"2022-10-02T00:00:00\", \"count\": 0}, {\"repo\": \"jupyter-server-proxy\", \"createdAt\": \"2022-10-09T00:00:00\", \"count\": 0}, {\"repo\": \"jupyter-server-proxy\", \"createdAt\": \"2022-10-16T00:00:00\", \"count\": 0}, {\"repo\": \"jupyter-server-proxy\", \"createdAt\": \"2022-10-23T00:00:00\", \"count\": 0}, {\"repo\": \"jupyter-server-proxy\", \"createdAt\": \"2022-10-30T00:00:00\", \"count\": 0}, {\"repo\": \"jupyter-server-proxy\", \"createdAt\": \"2022-11-06T00:00:00\", \"count\": 1}, {\"repo\": \"jupyter-server-proxy\", \"createdAt\": \"2022-11-13T00:00:00\", \"count\": 0}, {\"repo\": \"jupyter-server-proxy\", \"createdAt\": \"2022-11-20T00:00:00\", \"count\": 0}, {\"repo\": \"jupyter-server-proxy\", \"createdAt\": \"2022-11-27T00:00:00\", \"count\": 0}, {\"repo\": \"jupyter-server-proxy\", \"createdAt\": \"2022-12-04T00:00:00\", \"count\": 0}, {\"repo\": \"jupyter-server-proxy\", \"createdAt\": \"2022-12-11T00:00:00\", \"count\": 1}, {\"repo\": \"jupyter-server-proxy\", \"createdAt\": \"2022-12-18T00:00:00\", \"count\": 1}, {\"repo\": \"jupyter-server-proxy\", \"createdAt\": \"2022-12-25T00:00:00\", \"count\": 0}, {\"repo\": \"jupyter-server-proxy\", \"createdAt\": \"2023-01-01T00:00:00\", \"count\": 18}, {\"repo\": \"jupyter-server-proxy\", \"createdAt\": \"2023-01-08T00:00:00\", \"count\": 7}, {\"repo\": \"jupyter-server-proxy\", \"createdAt\": \"2023-01-15T00:00:00\", \"count\": 2}, {\"repo\": \"jupyter-server-proxy\", \"createdAt\": \"2023-01-22T00:00:00\", \"count\": 1}, {\"repo\": \"jupyterhub\", \"createdAt\": \"2022-12-11T00:00:00\", \"count\": 4}, {\"repo\": \"jupyterhub\", \"createdAt\": \"2022-12-18T00:00:00\", \"count\": 3}, {\"repo\": \"jupyterhub\", \"createdAt\": \"2022-12-25T00:00:00\", \"count\": 1}, {\"repo\": \"jupyterhub\", \"createdAt\": \"2023-01-01T00:00:00\", \"count\": 0}, {\"repo\": \"jupyterhub\", \"createdAt\": \"2023-01-08T00:00:00\", \"count\": 0}, {\"repo\": \"jupyterhub\", \"createdAt\": \"2023-01-15T00:00:00\", \"count\": 0}, {\"repo\": \"jupyterhub\", \"createdAt\": \"2023-01-22T00:00:00\", \"count\": 0}, {\"repo\": \"jupyterhub\", \"createdAt\": \"2023-01-29T00:00:00\", \"count\": 2}, {\"repo\": \"jupyterhub\", \"createdAt\": \"2023-02-05T00:00:00\", \"count\": 7}, {\"repo\": \"jupyterhub\", \"createdAt\": \"2023-02-12T00:00:00\", \"count\": 0}, {\"repo\": \"jupyterhub\", \"createdAt\": \"2023-02-19T00:00:00\", \"count\": 3}, {\"repo\": \"jupyterhub\", \"createdAt\": \"2023-02-26T00:00:00\", \"count\": 1}, {\"repo\": \"jupyterhub\", \"createdAt\": \"2023-03-05T00:00:00\", \"count\": 5}, {\"repo\": \"jupyterhub-idle-culler\", \"createdAt\": \"2022-12-25T00:00:00\", \"count\": 2}, {\"repo\": \"jupyterhub-idle-culler\", \"createdAt\": \"2023-01-01T00:00:00\", \"count\": 0}, {\"repo\": \"jupyterhub-idle-culler\", \"createdAt\": \"2023-01-08T00:00:00\", \"count\": 0}, {\"repo\": \"jupyterhub-idle-culler\", \"createdAt\": \"2023-01-15T00:00:00\", \"count\": 0}, {\"repo\": \"jupyterhub-idle-culler\", \"createdAt\": \"2023-01-22T00:00:00\", \"count\": 0}, {\"repo\": \"jupyterhub-idle-culler\", \"createdAt\": \"2023-01-29T00:00:00\", \"count\": 0}, {\"repo\": \"jupyterhub-idle-culler\", \"createdAt\": \"2023-02-05T00:00:00\", \"count\": 1}, {\"repo\": \"jupyterhub-idle-culler\", \"createdAt\": \"2023-02-12T00:00:00\", \"count\": 0}, {\"repo\": \"jupyterhub-idle-culler\", \"createdAt\": \"2023-02-19T00:00:00\", \"count\": 0}, {\"repo\": \"jupyterhub-idle-culler\", \"createdAt\": \"2023-02-26T00:00:00\", \"count\": 4}, {\"repo\": \"jupyterhub-python-repo-template\", \"createdAt\": \"2023-01-15T00:00:00\", \"count\": 4}, {\"repo\": \"jupyterhub-sphinx-theme\", \"createdAt\": \"2023-01-15T00:00:00\", \"count\": 3}, {\"repo\": \"jupyterhub-sphinx-theme\", \"createdAt\": \"2023-01-22T00:00:00\", \"count\": 0}, {\"repo\": \"jupyterhub-sphinx-theme\", \"createdAt\": \"2023-01-29T00:00:00\", \"count\": 0}, {\"repo\": \"jupyterhub-sphinx-theme\", \"createdAt\": \"2023-02-05T00:00:00\", \"count\": 0}, {\"repo\": \"jupyterhub-sphinx-theme\", \"createdAt\": \"2023-02-12T00:00:00\", \"count\": 0}, {\"repo\": \"jupyterhub-sphinx-theme\", \"createdAt\": \"2023-02-19T00:00:00\", \"count\": 0}, {\"repo\": \"jupyterhub-sphinx-theme\", \"createdAt\": \"2023-02-26T00:00:00\", \"count\": 0}, {\"repo\": \"jupyterhub-sphinx-theme\", \"createdAt\": \"2023-03-05T00:00:00\", \"count\": 1}, {\"repo\": \"jupyterlab\", \"createdAt\": \"2018-04-15T00:00:00\", \"count\": 1}, {\"repo\": \"jupyterlab\", \"createdAt\": \"2018-04-22T00:00:00\", \"count\": 0}, {\"repo\": \"jupyterlab\", \"createdAt\": \"2018-04-29T00:00:00\", \"count\": 0}, {\"repo\": \"jupyterlab\", \"createdAt\": \"2018-05-06T00:00:00\", \"count\": 0}, {\"repo\": \"jupyterlab\", \"createdAt\": \"2018-05-13T00:00:00\", \"count\": 0}, {\"repo\": \"jupyterlab\", \"createdAt\": \"2018-05-20T00:00:00\", \"count\": 0}, {\"repo\": \"jupyterlab\", \"createdAt\": \"2018-05-27T00:00:00\", \"count\": 0}, {\"repo\": \"jupyterlab\", \"createdAt\": \"2018-06-03T00:00:00\", \"count\": 0}, {\"repo\": \"jupyterlab\", \"createdAt\": \"2018-06-10T00:00:00\", \"count\": 0}, {\"repo\": \"jupyterlab\", \"createdAt\": \"2018-06-17T00:00:00\", \"count\": 0}, {\"repo\": \"jupyterlab\", \"createdAt\": \"2018-06-24T00:00:00\", \"count\": 0}, {\"repo\": \"jupyterlab\", \"createdAt\": \"2018-07-01T00:00:00\", \"count\": 0}, {\"repo\": \"jupyterlab\", \"createdAt\": \"2018-07-08T00:00:00\", \"count\": 0}, {\"repo\": \"jupyterlab\", \"createdAt\": \"2018-07-15T00:00:00\", \"count\": 0}, {\"repo\": \"jupyterlab\", \"createdAt\": \"2018-07-22T00:00:00\", \"count\": 0}, {\"repo\": \"jupyterlab\", \"createdAt\": \"2018-07-29T00:00:00\", \"count\": 0}, {\"repo\": \"jupyterlab\", \"createdAt\": \"2018-08-05T00:00:00\", \"count\": 0}, {\"repo\": \"jupyterlab\", \"createdAt\": \"2018-08-12T00:00:00\", \"count\": 0}, {\"repo\": \"jupyterlab\", \"createdAt\": \"2018-08-19T00:00:00\", \"count\": 0}, {\"repo\": \"jupyterlab\", \"createdAt\": \"2018-08-26T00:00:00\", \"count\": 0}, {\"repo\": \"jupyterlab\", \"createdAt\": \"2018-09-02T00:00:00\", \"count\": 0}, {\"repo\": \"jupyterlab\", \"createdAt\": \"2018-09-09T00:00:00\", \"count\": 0}, {\"repo\": \"jupyterlab\", \"createdAt\": \"2018-09-16T00:00:00\", \"count\": 0}, {\"repo\": \"jupyterlab\", \"createdAt\": \"2018-09-23T00:00:00\", \"count\": 0}, {\"repo\": \"jupyterlab\", \"createdAt\": \"2018-09-30T00:00:00\", \"count\": 0}, {\"repo\": \"jupyterlab\", \"createdAt\": \"2018-10-07T00:00:00\", \"count\": 0}, {\"repo\": \"jupyterlab\", \"createdAt\": \"2018-10-14T00:00:00\", \"count\": 0}, {\"repo\": \"jupyterlab\", \"createdAt\": \"2018-10-21T00:00:00\", \"count\": 0}, {\"repo\": \"jupyterlab\", \"createdAt\": \"2018-10-28T00:00:00\", \"count\": 0}, {\"repo\": \"jupyterlab\", \"createdAt\": \"2018-11-04T00:00:00\", \"count\": 0}, {\"repo\": \"jupyterlab\", \"createdAt\": \"2018-11-11T00:00:00\", \"count\": 0}, {\"repo\": \"jupyterlab\", \"createdAt\": \"2018-11-18T00:00:00\", \"count\": 0}, {\"repo\": \"jupyterlab\", \"createdAt\": \"2018-11-25T00:00:00\", \"count\": 0}, {\"repo\": \"jupyterlab\", \"createdAt\": \"2018-12-02T00:00:00\", \"count\": 0}, {\"repo\": \"jupyterlab\", \"createdAt\": \"2018-12-09T00:00:00\", \"count\": 0}, {\"repo\": \"jupyterlab\", \"createdAt\": \"2018-12-16T00:00:00\", \"count\": 0}, {\"repo\": \"jupyterlab\", \"createdAt\": \"2018-12-23T00:00:00\", \"count\": 0}, {\"repo\": \"jupyterlab\", \"createdAt\": \"2018-12-30T00:00:00\", \"count\": 0}, {\"repo\": \"jupyterlab\", \"createdAt\": \"2019-01-06T00:00:00\", \"count\": 0}, {\"repo\": \"jupyterlab\", \"createdAt\": \"2019-01-13T00:00:00\", \"count\": 0}, {\"repo\": \"jupyterlab\", \"createdAt\": \"2019-01-20T00:00:00\", \"count\": 0}, {\"repo\": \"jupyterlab\", \"createdAt\": \"2019-01-27T00:00:00\", \"count\": 0}, {\"repo\": \"jupyterlab\", \"createdAt\": \"2019-02-03T00:00:00\", \"count\": 0}, {\"repo\": \"jupyterlab\", \"createdAt\": \"2019-02-10T00:00:00\", \"count\": 0}, {\"repo\": \"jupyterlab\", \"createdAt\": \"2019-02-17T00:00:00\", \"count\": 0}, {\"repo\": \"jupyterlab\", \"createdAt\": \"2019-02-24T00:00:00\", \"count\": 0}, {\"repo\": \"jupyterlab\", \"createdAt\": \"2019-03-03T00:00:00\", \"count\": 0}, {\"repo\": \"jupyterlab\", \"createdAt\": \"2019-03-10T00:00:00\", \"count\": 0}, {\"repo\": \"jupyterlab\", \"createdAt\": \"2019-03-17T00:00:00\", \"count\": 0}, {\"repo\": \"jupyterlab\", \"createdAt\": \"2019-03-24T00:00:00\", \"count\": 0}, {\"repo\": \"jupyterlab\", \"createdAt\": \"2019-03-31T00:00:00\", \"count\": 0}, {\"repo\": \"jupyterlab\", \"createdAt\": \"2019-04-07T00:00:00\", \"count\": 0}, {\"repo\": \"jupyterlab\", \"createdAt\": \"2019-04-14T00:00:00\", \"count\": 0}, {\"repo\": \"jupyterlab\", \"createdAt\": \"2019-04-21T00:00:00\", \"count\": 0}, {\"repo\": \"jupyterlab\", \"createdAt\": \"2019-04-28T00:00:00\", \"count\": 0}, {\"repo\": \"jupyterlab\", \"createdAt\": \"2019-05-05T00:00:00\", \"count\": 0}, {\"repo\": \"jupyterlab\", \"createdAt\": \"2019-05-12T00:00:00\", \"count\": 0}, {\"repo\": \"jupyterlab\", \"createdAt\": \"2019-05-19T00:00:00\", \"count\": 0}, {\"repo\": \"jupyterlab\", \"createdAt\": \"2019-05-26T00:00:00\", \"count\": 0}, {\"repo\": \"jupyterlab\", \"createdAt\": \"2019-06-02T00:00:00\", \"count\": 0}, {\"repo\": \"jupyterlab\", \"createdAt\": \"2019-06-09T00:00:00\", \"count\": 0}, {\"repo\": \"jupyterlab\", \"createdAt\": \"2019-06-16T00:00:00\", \"count\": 0}, {\"repo\": \"jupyterlab\", \"createdAt\": \"2019-06-23T00:00:00\", \"count\": 0}, {\"repo\": \"jupyterlab\", \"createdAt\": \"2019-06-30T00:00:00\", \"count\": 0}, {\"repo\": \"jupyterlab\", \"createdAt\": \"2019-07-07T00:00:00\", \"count\": 0}, {\"repo\": \"jupyterlab\", \"createdAt\": \"2019-07-14T00:00:00\", \"count\": 0}, {\"repo\": \"jupyterlab\", \"createdAt\": \"2019-07-21T00:00:00\", \"count\": 0}, {\"repo\": \"jupyterlab\", \"createdAt\": \"2019-07-28T00:00:00\", \"count\": 0}, {\"repo\": \"jupyterlab\", \"createdAt\": \"2019-08-04T00:00:00\", \"count\": 0}, {\"repo\": \"jupyterlab\", \"createdAt\": \"2019-08-11T00:00:00\", \"count\": 0}, {\"repo\": \"jupyterlab\", \"createdAt\": \"2019-08-18T00:00:00\", \"count\": 0}, {\"repo\": \"jupyterlab\", \"createdAt\": \"2019-08-25T00:00:00\", \"count\": 0}, {\"repo\": \"jupyterlab\", \"createdAt\": \"2019-09-01T00:00:00\", \"count\": 0}, {\"repo\": \"jupyterlab\", \"createdAt\": \"2019-09-08T00:00:00\", \"count\": 0}, {\"repo\": \"jupyterlab\", \"createdAt\": \"2019-09-15T00:00:00\", \"count\": 0}, {\"repo\": \"jupyterlab\", \"createdAt\": \"2019-09-22T00:00:00\", \"count\": 0}, {\"repo\": \"jupyterlab\", \"createdAt\": \"2019-09-29T00:00:00\", \"count\": 0}, {\"repo\": \"jupyterlab\", \"createdAt\": \"2019-10-06T00:00:00\", \"count\": 0}, {\"repo\": \"jupyterlab\", \"createdAt\": \"2019-10-13T00:00:00\", \"count\": 0}, {\"repo\": \"jupyterlab\", \"createdAt\": \"2019-10-20T00:00:00\", \"count\": 0}, {\"repo\": \"jupyterlab\", \"createdAt\": \"2019-10-27T00:00:00\", \"count\": 0}, {\"repo\": \"jupyterlab\", \"createdAt\": \"2019-11-03T00:00:00\", \"count\": 0}, {\"repo\": \"jupyterlab\", \"createdAt\": \"2019-11-10T00:00:00\", \"count\": 0}, {\"repo\": \"jupyterlab\", \"createdAt\": \"2019-11-17T00:00:00\", \"count\": 0}, {\"repo\": \"jupyterlab\", \"createdAt\": \"2019-11-24T00:00:00\", \"count\": 0}, {\"repo\": \"jupyterlab\", \"createdAt\": \"2019-12-01T00:00:00\", \"count\": 0}, {\"repo\": \"jupyterlab\", \"createdAt\": \"2019-12-08T00:00:00\", \"count\": 0}, {\"repo\": \"jupyterlab\", \"createdAt\": \"2019-12-15T00:00:00\", \"count\": 0}, {\"repo\": \"jupyterlab\", \"createdAt\": \"2019-12-22T00:00:00\", \"count\": 0}, {\"repo\": \"jupyterlab\", \"createdAt\": \"2019-12-29T00:00:00\", \"count\": 0}, {\"repo\": \"jupyterlab\", \"createdAt\": \"2020-01-05T00:00:00\", \"count\": 0}, {\"repo\": \"jupyterlab\", \"createdAt\": \"2020-01-12T00:00:00\", \"count\": 0}, {\"repo\": \"jupyterlab\", \"createdAt\": \"2020-01-19T00:00:00\", \"count\": 0}, {\"repo\": \"jupyterlab\", \"createdAt\": \"2020-01-26T00:00:00\", \"count\": 0}, {\"repo\": \"jupyterlab\", \"createdAt\": \"2020-02-02T00:00:00\", \"count\": 0}, {\"repo\": \"jupyterlab\", \"createdAt\": \"2020-02-09T00:00:00\", \"count\": 0}, {\"repo\": \"jupyterlab\", \"createdAt\": \"2020-02-16T00:00:00\", \"count\": 0}, {\"repo\": \"jupyterlab\", \"createdAt\": \"2020-02-23T00:00:00\", \"count\": 0}, {\"repo\": \"jupyterlab\", \"createdAt\": \"2020-03-01T00:00:00\", \"count\": 0}, {\"repo\": \"jupyterlab\", \"createdAt\": \"2020-03-08T00:00:00\", \"count\": 0}, {\"repo\": \"jupyterlab\", \"createdAt\": \"2020-03-15T00:00:00\", \"count\": 0}, {\"repo\": \"jupyterlab\", \"createdAt\": \"2020-03-22T00:00:00\", \"count\": 0}, {\"repo\": \"jupyterlab\", \"createdAt\": \"2020-03-29T00:00:00\", \"count\": 0}, {\"repo\": \"jupyterlab\", \"createdAt\": \"2020-04-05T00:00:00\", \"count\": 0}, {\"repo\": \"jupyterlab\", \"createdAt\": \"2020-04-12T00:00:00\", \"count\": 0}, {\"repo\": \"jupyterlab\", \"createdAt\": \"2020-04-19T00:00:00\", \"count\": 0}, {\"repo\": \"jupyterlab\", \"createdAt\": \"2020-04-26T00:00:00\", \"count\": 0}, {\"repo\": \"jupyterlab\", \"createdAt\": \"2020-05-03T00:00:00\", \"count\": 0}, {\"repo\": \"jupyterlab\", \"createdAt\": \"2020-05-10T00:00:00\", \"count\": 0}, {\"repo\": \"jupyterlab\", \"createdAt\": \"2020-05-17T00:00:00\", \"count\": 0}, {\"repo\": \"jupyterlab\", \"createdAt\": \"2020-05-24T00:00:00\", \"count\": 0}, {\"repo\": \"jupyterlab\", \"createdAt\": \"2020-05-31T00:00:00\", \"count\": 0}, {\"repo\": \"jupyterlab\", \"createdAt\": \"2020-06-07T00:00:00\", \"count\": 1}, {\"repo\": \"kubespawner\", \"createdAt\": \"2022-12-11T00:00:00\", \"count\": 1}, {\"repo\": \"kubespawner\", \"createdAt\": \"2022-12-18T00:00:00\", \"count\": 0}, {\"repo\": \"kubespawner\", \"createdAt\": \"2022-12-25T00:00:00\", \"count\": 1}, {\"repo\": \"kubespawner\", \"createdAt\": \"2023-01-01T00:00:00\", \"count\": 0}, {\"repo\": \"kubespawner\", \"createdAt\": \"2023-01-08T00:00:00\", \"count\": 0}, {\"repo\": \"kubespawner\", \"createdAt\": \"2023-01-15T00:00:00\", \"count\": 2}, {\"repo\": \"kubespawner\", \"createdAt\": \"2023-01-22T00:00:00\", \"count\": 1}, {\"repo\": \"kubespawner\", \"createdAt\": \"2023-01-29T00:00:00\", \"count\": 0}, {\"repo\": \"kubespawner\", \"createdAt\": \"2023-02-05T00:00:00\", \"count\": 0}, {\"repo\": \"kubespawner\", \"createdAt\": \"2023-02-12T00:00:00\", \"count\": 1}, {\"repo\": \"leads\", \"createdAt\": \"2023-01-29T00:00:00\", \"count\": 1}, {\"repo\": \"leads\", \"createdAt\": \"2023-02-05T00:00:00\", \"count\": 1}, {\"repo\": \"leads\", \"createdAt\": \"2023-02-12T00:00:00\", \"count\": 0}, {\"repo\": \"leads\", \"createdAt\": \"2023-02-19T00:00:00\", \"count\": 0}, {\"repo\": \"leads\", \"createdAt\": \"2023-02-26T00:00:00\", \"count\": 1}, {\"repo\": \"ltiauthenticator\", \"createdAt\": \"2023-02-19T00:00:00\", \"count\": 3}, {\"repo\": \"ltiauthenticator\", \"createdAt\": \"2023-02-26T00:00:00\", \"count\": 7}, {\"repo\": \"ltiauthenticator\", \"createdAt\": \"2023-03-05T00:00:00\", \"count\": 5}, {\"repo\": \"ltiauthenticator-ghsa-mcgx-2gcr-p3hp\", \"createdAt\": \"2022-06-05T00:00:00\", \"count\": 1}, {\"repo\": \"ltiauthenticator-ghsa-mcgx-2gcr-p3hp\", \"createdAt\": \"2022-06-12T00:00:00\", \"count\": 2}, {\"repo\": \"ltiauthenticator-ghsa-mcgx-2gcr-p3hp\", \"createdAt\": \"2022-06-19T00:00:00\", \"count\": 0}, {\"repo\": \"ltiauthenticator-ghsa-mcgx-2gcr-p3hp\", \"createdAt\": \"2022-06-26T00:00:00\", \"count\": 0}, {\"repo\": \"ltiauthenticator-ghsa-mcgx-2gcr-p3hp\", \"createdAt\": \"2022-07-03T00:00:00\", \"count\": 0}, {\"repo\": \"ltiauthenticator-ghsa-mcgx-2gcr-p3hp\", \"createdAt\": \"2022-07-10T00:00:00\", \"count\": 0}, {\"repo\": \"ltiauthenticator-ghsa-mcgx-2gcr-p3hp\", \"createdAt\": \"2022-07-17T00:00:00\", \"count\": 0}, {\"repo\": \"ltiauthenticator-ghsa-mcgx-2gcr-p3hp\", \"createdAt\": \"2022-07-24T00:00:00\", \"count\": 0}, {\"repo\": \"ltiauthenticator-ghsa-mcgx-2gcr-p3hp\", \"createdAt\": \"2022-07-31T00:00:00\", \"count\": 0}, {\"repo\": \"ltiauthenticator-ghsa-mcgx-2gcr-p3hp\", \"createdAt\": \"2022-08-07T00:00:00\", \"count\": 0}, {\"repo\": \"ltiauthenticator-ghsa-mcgx-2gcr-p3hp\", \"createdAt\": \"2022-08-14T00:00:00\", \"count\": 0}, {\"repo\": \"ltiauthenticator-ghsa-mcgx-2gcr-p3hp\", \"createdAt\": \"2022-08-21T00:00:00\", \"count\": 0}, {\"repo\": \"ltiauthenticator-ghsa-mcgx-2gcr-p3hp\", \"createdAt\": \"2022-08-28T00:00:00\", \"count\": 1}, {\"repo\": \"ltiauthenticator-ghsa-mcgx-2gcr-p3hp\", \"createdAt\": \"2022-09-04T00:00:00\", \"count\": 0}, {\"repo\": \"ltiauthenticator-ghsa-mcgx-2gcr-p3hp\", \"createdAt\": \"2022-09-11T00:00:00\", \"count\": 0}, {\"repo\": \"ltiauthenticator-ghsa-mcgx-2gcr-p3hp\", \"createdAt\": \"2022-09-18T00:00:00\", \"count\": 0}, {\"repo\": \"ltiauthenticator-ghsa-mcgx-2gcr-p3hp\", \"createdAt\": \"2022-09-25T00:00:00\", \"count\": 0}, {\"repo\": \"ltiauthenticator-ghsa-mcgx-2gcr-p3hp\", \"createdAt\": \"2022-10-02T00:00:00\", \"count\": 0}, {\"repo\": \"ltiauthenticator-ghsa-mcgx-2gcr-p3hp\", \"createdAt\": \"2022-10-09T00:00:00\", \"count\": 0}, {\"repo\": \"ltiauthenticator-ghsa-mcgx-2gcr-p3hp\", \"createdAt\": \"2022-10-16T00:00:00\", \"count\": 0}, {\"repo\": \"ltiauthenticator-ghsa-mcgx-2gcr-p3hp\", \"createdAt\": \"2022-10-23T00:00:00\", \"count\": 0}, {\"repo\": \"ltiauthenticator-ghsa-mcgx-2gcr-p3hp\", \"createdAt\": \"2022-10-30T00:00:00\", \"count\": 0}, {\"repo\": \"ltiauthenticator-ghsa-mcgx-2gcr-p3hp\", \"createdAt\": \"2022-11-06T00:00:00\", \"count\": 0}, {\"repo\": \"ltiauthenticator-ghsa-mcgx-2gcr-p3hp\", \"createdAt\": \"2022-11-13T00:00:00\", \"count\": 4}, {\"repo\": \"ltiauthenticator-ghsa-mcgx-2gcr-p3hp\", \"createdAt\": \"2022-11-20T00:00:00\", \"count\": 1}, {\"repo\": \"meta\", \"createdAt\": \"2022-12-25T00:00:00\", \"count\": 1}, {\"repo\": \"meta\", \"createdAt\": \"2023-01-01T00:00:00\", \"count\": 0}, {\"repo\": \"meta\", \"createdAt\": \"2023-01-08T00:00:00\", \"count\": 0}, {\"repo\": \"meta\", \"createdAt\": \"2023-01-15T00:00:00\", \"count\": 0}, {\"repo\": \"meta\", \"createdAt\": \"2023-01-22T00:00:00\", \"count\": 6}, {\"repo\": \"meta\", \"createdAt\": \"2023-01-29T00:00:00\", \"count\": 0}, {\"repo\": \"meta\", \"createdAt\": \"2023-02-05T00:00:00\", \"count\": 1}, {\"repo\": \"mybinder.org-deploy\", \"createdAt\": \"2023-01-22T00:00:00\", \"count\": 1}, {\"repo\": \"mybinder.org-deploy\", \"createdAt\": \"2023-01-29T00:00:00\", \"count\": 1}, {\"repo\": \"mybinder.org-user-guide\", \"createdAt\": \"2023-01-08T00:00:00\", \"count\": 1}, {\"repo\": \"oauthenticator\", \"createdAt\": \"2020-10-25T00:00:00\", \"count\": 1}, {\"repo\": \"oauthenticator\", \"createdAt\": \"2020-11-01T00:00:00\", \"count\": 0}, {\"repo\": \"oauthenticator\", \"createdAt\": \"2020-11-08T00:00:00\", \"count\": 0}, {\"repo\": \"oauthenticator\", \"createdAt\": \"2020-11-15T00:00:00\", \"count\": 0}, {\"repo\": \"oauthenticator\", \"createdAt\": \"2020-11-22T00:00:00\", \"count\": 0}, {\"repo\": \"oauthenticator\", \"createdAt\": \"2020-11-29T00:00:00\", \"count\": 0}, {\"repo\": \"oauthenticator\", \"createdAt\": \"2020-12-06T00:00:00\", \"count\": 0}, {\"repo\": \"oauthenticator\", \"createdAt\": \"2020-12-13T00:00:00\", \"count\": 0}, {\"repo\": \"oauthenticator\", \"createdAt\": \"2020-12-20T00:00:00\", \"count\": 0}, {\"repo\": \"oauthenticator\", \"createdAt\": \"2020-12-27T00:00:00\", \"count\": 0}, {\"repo\": \"oauthenticator\", \"createdAt\": \"2021-01-03T00:00:00\", \"count\": 0}, {\"repo\": \"oauthenticator\", \"createdAt\": \"2021-01-10T00:00:00\", \"count\": 0}, {\"repo\": \"oauthenticator\", \"createdAt\": \"2021-01-17T00:00:00\", \"count\": 0}, {\"repo\": \"oauthenticator\", \"createdAt\": \"2021-01-24T00:00:00\", \"count\": 0}, {\"repo\": \"oauthenticator\", \"createdAt\": \"2021-01-31T00:00:00\", \"count\": 0}, {\"repo\": \"oauthenticator\", \"createdAt\": \"2021-02-07T00:00:00\", \"count\": 0}, {\"repo\": \"oauthenticator\", \"createdAt\": \"2021-02-14T00:00:00\", \"count\": 0}, {\"repo\": \"oauthenticator\", \"createdAt\": \"2021-02-21T00:00:00\", \"count\": 0}, {\"repo\": \"oauthenticator\", \"createdAt\": \"2021-02-28T00:00:00\", \"count\": 0}, {\"repo\": \"oauthenticator\", \"createdAt\": \"2021-03-07T00:00:00\", \"count\": 0}, {\"repo\": \"oauthenticator\", \"createdAt\": \"2021-03-14T00:00:00\", \"count\": 0}, {\"repo\": \"oauthenticator\", \"createdAt\": \"2021-03-21T00:00:00\", \"count\": 0}, {\"repo\": \"oauthenticator\", \"createdAt\": \"2021-03-28T00:00:00\", \"count\": 0}, {\"repo\": \"oauthenticator\", \"createdAt\": \"2021-04-04T00:00:00\", \"count\": 0}, {\"repo\": \"oauthenticator\", \"createdAt\": \"2021-04-11T00:00:00\", \"count\": 0}, {\"repo\": \"oauthenticator\", \"createdAt\": \"2021-04-18T00:00:00\", \"count\": 0}, {\"repo\": \"oauthenticator\", \"createdAt\": \"2021-04-25T00:00:00\", \"count\": 0}, {\"repo\": \"oauthenticator\", \"createdAt\": \"2021-05-02T00:00:00\", \"count\": 0}, {\"repo\": \"oauthenticator\", \"createdAt\": \"2021-05-09T00:00:00\", \"count\": 0}, {\"repo\": \"oauthenticator\", \"createdAt\": \"2021-05-16T00:00:00\", \"count\": 0}, {\"repo\": \"oauthenticator\", \"createdAt\": \"2021-05-23T00:00:00\", \"count\": 0}, {\"repo\": \"oauthenticator\", \"createdAt\": \"2021-05-30T00:00:00\", \"count\": 0}, {\"repo\": \"oauthenticator\", \"createdAt\": \"2021-06-06T00:00:00\", \"count\": 0}, {\"repo\": \"oauthenticator\", \"createdAt\": \"2021-06-13T00:00:00\", \"count\": 0}, {\"repo\": \"oauthenticator\", \"createdAt\": \"2021-06-20T00:00:00\", \"count\": 0}, {\"repo\": \"oauthenticator\", \"createdAt\": \"2021-06-27T00:00:00\", \"count\": 0}, {\"repo\": \"oauthenticator\", \"createdAt\": \"2021-07-04T00:00:00\", \"count\": 0}, {\"repo\": \"oauthenticator\", \"createdAt\": \"2021-07-11T00:00:00\", \"count\": 0}, {\"repo\": \"oauthenticator\", \"createdAt\": \"2021-07-18T00:00:00\", \"count\": 0}, {\"repo\": \"oauthenticator\", \"createdAt\": \"2021-07-25T00:00:00\", \"count\": 0}, {\"repo\": \"oauthenticator\", \"createdAt\": \"2021-08-01T00:00:00\", \"count\": 0}, {\"repo\": \"oauthenticator\", \"createdAt\": \"2021-08-08T00:00:00\", \"count\": 0}, {\"repo\": \"oauthenticator\", \"createdAt\": \"2021-08-15T00:00:00\", \"count\": 0}, {\"repo\": \"oauthenticator\", \"createdAt\": \"2021-08-22T00:00:00\", \"count\": 0}, {\"repo\": \"oauthenticator\", \"createdAt\": \"2021-08-29T00:00:00\", \"count\": 0}, {\"repo\": \"oauthenticator\", \"createdAt\": \"2021-09-05T00:00:00\", \"count\": 0}, {\"repo\": \"oauthenticator\", \"createdAt\": \"2021-09-12T00:00:00\", \"count\": 0}, {\"repo\": \"oauthenticator\", \"createdAt\": \"2021-09-19T00:00:00\", \"count\": 0}, {\"repo\": \"oauthenticator\", \"createdAt\": \"2021-09-26T00:00:00\", \"count\": 0}, {\"repo\": \"oauthenticator\", \"createdAt\": \"2021-10-03T00:00:00\", \"count\": 0}, {\"repo\": \"oauthenticator\", \"createdAt\": \"2021-10-10T00:00:00\", \"count\": 0}, {\"repo\": \"oauthenticator\", \"createdAt\": \"2021-10-17T00:00:00\", \"count\": 0}, {\"repo\": \"oauthenticator\", \"createdAt\": \"2021-10-24T00:00:00\", \"count\": 0}, {\"repo\": \"oauthenticator\", \"createdAt\": \"2021-10-31T00:00:00\", \"count\": 0}, {\"repo\": \"oauthenticator\", \"createdAt\": \"2021-11-07T00:00:00\", \"count\": 0}, {\"repo\": \"oauthenticator\", \"createdAt\": \"2021-11-14T00:00:00\", \"count\": 0}, {\"repo\": \"oauthenticator\", \"createdAt\": \"2021-11-21T00:00:00\", \"count\": 0}, {\"repo\": \"oauthenticator\", \"createdAt\": \"2021-11-28T00:00:00\", \"count\": 0}, {\"repo\": \"oauthenticator\", \"createdAt\": \"2021-12-05T00:00:00\", \"count\": 0}, {\"repo\": \"oauthenticator\", \"createdAt\": \"2021-12-12T00:00:00\", \"count\": 0}, {\"repo\": \"oauthenticator\", \"createdAt\": \"2021-12-19T00:00:00\", \"count\": 0}, {\"repo\": \"oauthenticator\", \"createdAt\": \"2021-12-26T00:00:00\", \"count\": 0}, {\"repo\": \"oauthenticator\", \"createdAt\": \"2022-01-02T00:00:00\", \"count\": 0}, {\"repo\": \"oauthenticator\", \"createdAt\": \"2022-01-09T00:00:00\", \"count\": 0}, {\"repo\": \"oauthenticator\", \"createdAt\": \"2022-01-16T00:00:00\", \"count\": 0}, {\"repo\": \"oauthenticator\", \"createdAt\": \"2022-01-23T00:00:00\", \"count\": 0}, {\"repo\": \"oauthenticator\", \"createdAt\": \"2022-01-30T00:00:00\", \"count\": 0}, {\"repo\": \"oauthenticator\", \"createdAt\": \"2022-02-06T00:00:00\", \"count\": 0}, {\"repo\": \"oauthenticator\", \"createdAt\": \"2022-02-13T00:00:00\", \"count\": 0}, {\"repo\": \"oauthenticator\", \"createdAt\": \"2022-02-20T00:00:00\", \"count\": 0}, {\"repo\": \"oauthenticator\", \"createdAt\": \"2022-02-27T00:00:00\", \"count\": 0}, {\"repo\": \"oauthenticator\", \"createdAt\": \"2022-03-06T00:00:00\", \"count\": 0}, {\"repo\": \"oauthenticator\", \"createdAt\": \"2022-03-13T00:00:00\", \"count\": 0}, {\"repo\": \"oauthenticator\", \"createdAt\": \"2022-03-20T00:00:00\", \"count\": 0}, {\"repo\": \"oauthenticator\", \"createdAt\": \"2022-03-27T00:00:00\", \"count\": 0}, {\"repo\": \"oauthenticator\", \"createdAt\": \"2022-04-03T00:00:00\", \"count\": 0}, {\"repo\": \"oauthenticator\", \"createdAt\": \"2022-04-10T00:00:00\", \"count\": 0}, {\"repo\": \"oauthenticator\", \"createdAt\": \"2022-04-17T00:00:00\", \"count\": 0}, {\"repo\": \"oauthenticator\", \"createdAt\": \"2022-04-24T00:00:00\", \"count\": 0}, {\"repo\": \"oauthenticator\", \"createdAt\": \"2022-05-01T00:00:00\", \"count\": 0}, {\"repo\": \"oauthenticator\", \"createdAt\": \"2022-05-08T00:00:00\", \"count\": 0}, {\"repo\": \"oauthenticator\", \"createdAt\": \"2022-05-15T00:00:00\", \"count\": 0}, {\"repo\": \"oauthenticator\", \"createdAt\": \"2022-05-22T00:00:00\", \"count\": 0}, {\"repo\": \"oauthenticator\", \"createdAt\": \"2022-05-29T00:00:00\", \"count\": 0}, {\"repo\": \"oauthenticator\", \"createdAt\": \"2022-06-05T00:00:00\", \"count\": 0}, {\"repo\": \"oauthenticator\", \"createdAt\": \"2022-06-12T00:00:00\", \"count\": 0}, {\"repo\": \"oauthenticator\", \"createdAt\": \"2022-06-19T00:00:00\", \"count\": 0}, {\"repo\": \"oauthenticator\", \"createdAt\": \"2022-06-26T00:00:00\", \"count\": 0}, {\"repo\": \"oauthenticator\", \"createdAt\": \"2022-07-03T00:00:00\", \"count\": 0}, {\"repo\": \"oauthenticator\", \"createdAt\": \"2022-07-10T00:00:00\", \"count\": 0}, {\"repo\": \"oauthenticator\", \"createdAt\": \"2022-07-17T00:00:00\", \"count\": 0}, {\"repo\": \"oauthenticator\", \"createdAt\": \"2022-07-24T00:00:00\", \"count\": 0}, {\"repo\": \"oauthenticator\", \"createdAt\": \"2022-07-31T00:00:00\", \"count\": 0}, {\"repo\": \"oauthenticator\", \"createdAt\": \"2022-08-07T00:00:00\", \"count\": 0}, {\"repo\": \"oauthenticator\", \"createdAt\": \"2022-08-14T00:00:00\", \"count\": 0}, {\"repo\": \"oauthenticator\", \"createdAt\": \"2022-08-21T00:00:00\", \"count\": 0}, {\"repo\": \"oauthenticator\", \"createdAt\": \"2022-08-28T00:00:00\", \"count\": 0}, {\"repo\": \"oauthenticator\", \"createdAt\": \"2022-09-04T00:00:00\", \"count\": 0}, {\"repo\": \"oauthenticator\", \"createdAt\": \"2022-09-11T00:00:00\", \"count\": 0}, {\"repo\": \"oauthenticator\", \"createdAt\": \"2022-09-18T00:00:00\", \"count\": 0}, {\"repo\": \"oauthenticator\", \"createdAt\": \"2022-09-25T00:00:00\", \"count\": 0}, {\"repo\": \"oauthenticator\", \"createdAt\": \"2022-10-02T00:00:00\", \"count\": 0}, {\"repo\": \"oauthenticator\", \"createdAt\": \"2022-10-09T00:00:00\", \"count\": 0}, {\"repo\": \"oauthenticator\", \"createdAt\": \"2022-10-16T00:00:00\", \"count\": 0}, {\"repo\": \"oauthenticator\", \"createdAt\": \"2022-10-23T00:00:00\", \"count\": 0}, {\"repo\": \"oauthenticator\", \"createdAt\": \"2022-10-30T00:00:00\", \"count\": 0}, {\"repo\": \"oauthenticator\", \"createdAt\": \"2022-11-06T00:00:00\", \"count\": 0}, {\"repo\": \"oauthenticator\", \"createdAt\": \"2022-11-13T00:00:00\", \"count\": 0}, {\"repo\": \"oauthenticator\", \"createdAt\": \"2022-11-20T00:00:00\", \"count\": 1}, {\"repo\": \"oauthenticator\", \"createdAt\": \"2022-11-27T00:00:00\", \"count\": 0}, {\"repo\": \"oauthenticator\", \"createdAt\": \"2022-12-04T00:00:00\", \"count\": 0}, {\"repo\": \"oauthenticator\", \"createdAt\": \"2022-12-11T00:00:00\", \"count\": 0}, {\"repo\": \"oauthenticator\", \"createdAt\": \"2022-12-18T00:00:00\", \"count\": 0}, {\"repo\": \"oauthenticator\", \"createdAt\": \"2022-12-25T00:00:00\", \"count\": 0}, {\"repo\": \"oauthenticator\", \"createdAt\": \"2023-01-01T00:00:00\", \"count\": 0}, {\"repo\": \"oauthenticator\", \"createdAt\": \"2023-01-08T00:00:00\", \"count\": 0}, {\"repo\": \"oauthenticator\", \"createdAt\": \"2023-01-15T00:00:00\", \"count\": 0}, {\"repo\": \"oauthenticator\", \"createdAt\": \"2023-01-22T00:00:00\", \"count\": 8}, {\"repo\": \"pytest-jupyterhub\", \"createdAt\": \"2023-01-15T00:00:00\", \"count\": 3}, {\"repo\": \"pytest-jupyterhub\", \"createdAt\": \"2023-01-22T00:00:00\", \"count\": 0}, {\"repo\": \"pytest-jupyterhub\", \"createdAt\": \"2023-01-29T00:00:00\", \"count\": 0}, {\"repo\": \"pytest-jupyterhub\", \"createdAt\": \"2023-02-05T00:00:00\", \"count\": 4}, {\"repo\": \"pytest-jupyterhub\", \"createdAt\": \"2023-02-12T00:00:00\", \"count\": 1}, {\"repo\": \"repo2docker\", \"createdAt\": \"2022-10-30T00:00:00\", \"count\": 2}, {\"repo\": \"repo2docker\", \"createdAt\": \"2022-11-06T00:00:00\", \"count\": 3}, {\"repo\": \"repo2docker\", \"createdAt\": \"2022-11-13T00:00:00\", \"count\": 0}, {\"repo\": \"repo2docker\", \"createdAt\": \"2022-11-20T00:00:00\", \"count\": 0}, {\"repo\": \"repo2docker\", \"createdAt\": \"2022-11-27T00:00:00\", \"count\": 0}, {\"repo\": \"repo2docker\", \"createdAt\": \"2022-12-04T00:00:00\", \"count\": 0}, {\"repo\": \"repo2docker\", \"createdAt\": \"2022-12-11T00:00:00\", \"count\": 0}, {\"repo\": \"repo2docker\", \"createdAt\": \"2022-12-18T00:00:00\", \"count\": 0}, {\"repo\": \"repo2docker\", \"createdAt\": \"2022-12-25T00:00:00\", \"count\": 0}, {\"repo\": \"repo2docker\", \"createdAt\": \"2023-01-01T00:00:00\", \"count\": 0}, {\"repo\": \"repo2docker\", \"createdAt\": \"2023-01-08T00:00:00\", \"count\": 3}, {\"repo\": \"repo2docker\", \"createdAt\": \"2023-01-15T00:00:00\", \"count\": 0}, {\"repo\": \"repo2docker\", \"createdAt\": \"2023-01-22T00:00:00\", \"count\": 0}, {\"repo\": \"repo2docker\", \"createdAt\": \"2023-01-29T00:00:00\", \"count\": 0}, {\"repo\": \"repo2docker\", \"createdAt\": \"2023-02-05T00:00:00\", \"count\": 0}, {\"repo\": \"repo2docker\", \"createdAt\": \"2023-02-12T00:00:00\", \"count\": 0}, {\"repo\": \"repo2docker\", \"createdAt\": \"2023-02-19T00:00:00\", \"count\": 1}, {\"repo\": \"repo2docker-action\", \"createdAt\": \"2023-01-22T00:00:00\", \"count\": 1}, {\"repo\": \"researchdelight-image\", \"createdAt\": \"2023-01-08T00:00:00\", \"count\": 1}, {\"repo\": \"sphinx-autobuild\", \"createdAt\": \"2022-12-11T00:00:00\", \"count\": 2}, {\"repo\": \"sphinx-autobuild\", \"createdAt\": \"2022-12-18T00:00:00\", \"count\": 0}, {\"repo\": \"sphinx-autobuild\", \"createdAt\": \"2022-12-25T00:00:00\", \"count\": 0}, {\"repo\": \"sphinx-autobuild\", \"createdAt\": \"2023-01-01T00:00:00\", \"count\": 2}, {\"repo\": \"sphinx-book-theme\", \"createdAt\": \"2023-01-08T00:00:00\", \"count\": 4}, {\"repo\": \"sphinx-book-theme\", \"createdAt\": \"2023-01-15T00:00:00\", \"count\": 0}, {\"repo\": \"sphinx-book-theme\", \"createdAt\": \"2023-01-22T00:00:00\", \"count\": 0}, {\"repo\": \"sphinx-book-theme\", \"createdAt\": \"2023-01-29T00:00:00\", \"count\": 1}, {\"repo\": \"sphinx-book-theme\", \"createdAt\": \"2023-02-05T00:00:00\", \"count\": 0}, {\"repo\": \"sphinx-book-theme\", \"createdAt\": \"2023-02-12T00:00:00\", \"count\": 0}, {\"repo\": \"sphinx-book-theme\", \"createdAt\": \"2023-02-19T00:00:00\", \"count\": 1}, {\"repo\": \"team-compass\", \"createdAt\": \"2019-11-17T00:00:00\", \"count\": 2}, {\"repo\": \"team-compass\", \"createdAt\": \"2019-11-24T00:00:00\", \"count\": 2}, {\"repo\": \"team-compass\", \"createdAt\": \"2019-12-01T00:00:00\", \"count\": 0}, {\"repo\": \"team-compass\", \"createdAt\": \"2019-12-08T00:00:00\", \"count\": 1}, {\"repo\": \"team-compass\", \"createdAt\": \"2019-12-15T00:00:00\", \"count\": 0}, {\"repo\": \"team-compass\", \"createdAt\": \"2019-12-22T00:00:00\", \"count\": 0}, {\"repo\": \"team-compass\", \"createdAt\": \"2019-12-29T00:00:00\", \"count\": 0}, {\"repo\": \"team-compass\", \"createdAt\": \"2020-01-05T00:00:00\", \"count\": 0}, {\"repo\": \"team-compass\", \"createdAt\": \"2020-01-12T00:00:00\", \"count\": 0}, {\"repo\": \"team-compass\", \"createdAt\": \"2020-01-19T00:00:00\", \"count\": 0}, {\"repo\": \"team-compass\", \"createdAt\": \"2020-01-26T00:00:00\", \"count\": 0}, {\"repo\": \"team-compass\", \"createdAt\": \"2020-02-02T00:00:00\", \"count\": 1}, {\"repo\": \"team-compass\", \"createdAt\": \"2020-02-09T00:00:00\", \"count\": 0}, {\"repo\": \"team-compass\", \"createdAt\": \"2020-02-16T00:00:00\", \"count\": 0}, {\"repo\": \"team-compass\", \"createdAt\": \"2020-02-23T00:00:00\", \"count\": 0}, {\"repo\": \"team-compass\", \"createdAt\": \"2020-03-01T00:00:00\", \"count\": 0}, {\"repo\": \"team-compass\", \"createdAt\": \"2020-03-08T00:00:00\", \"count\": 0}, {\"repo\": \"team-compass\", \"createdAt\": \"2020-03-15T00:00:00\", \"count\": 0}, {\"repo\": \"team-compass\", \"createdAt\": \"2020-03-22T00:00:00\", \"count\": 0}, {\"repo\": \"team-compass\", \"createdAt\": \"2020-03-29T00:00:00\", \"count\": 0}, {\"repo\": \"team-compass\", \"createdAt\": \"2020-04-05T00:00:00\", \"count\": 0}, {\"repo\": \"team-compass\", \"createdAt\": \"2020-04-12T00:00:00\", \"count\": 0}, {\"repo\": \"team-compass\", \"createdAt\": \"2020-04-19T00:00:00\", \"count\": 0}, {\"repo\": \"team-compass\", \"createdAt\": \"2020-04-26T00:00:00\", \"count\": 0}, {\"repo\": \"team-compass\", \"createdAt\": \"2020-05-03T00:00:00\", \"count\": 0}, {\"repo\": \"team-compass\", \"createdAt\": \"2020-05-10T00:00:00\", \"count\": 0}, {\"repo\": \"team-compass\", \"createdAt\": \"2020-05-17T00:00:00\", \"count\": 0}, {\"repo\": \"team-compass\", \"createdAt\": \"2020-05-24T00:00:00\", \"count\": 0}, {\"repo\": \"team-compass\", \"createdAt\": \"2020-05-31T00:00:00\", \"count\": 0}, {\"repo\": \"team-compass\", \"createdAt\": \"2020-06-07T00:00:00\", \"count\": 0}, {\"repo\": \"team-compass\", \"createdAt\": \"2020-06-14T00:00:00\", \"count\": 0}, {\"repo\": \"team-compass\", \"createdAt\": \"2020-06-21T00:00:00\", \"count\": 0}, {\"repo\": \"team-compass\", \"createdAt\": \"2020-06-28T00:00:00\", \"count\": 0}, {\"repo\": \"team-compass\", \"createdAt\": \"2020-07-05T00:00:00\", \"count\": 0}, {\"repo\": \"team-compass\", \"createdAt\": \"2020-07-12T00:00:00\", \"count\": 0}, {\"repo\": \"team-compass\", \"createdAt\": \"2020-07-19T00:00:00\", \"count\": 0}, {\"repo\": \"team-compass\", \"createdAt\": \"2020-07-26T00:00:00\", \"count\": 0}, {\"repo\": \"team-compass\", \"createdAt\": \"2020-08-02T00:00:00\", \"count\": 0}, {\"repo\": \"team-compass\", \"createdAt\": \"2020-08-09T00:00:00\", \"count\": 0}, {\"repo\": \"team-compass\", \"createdAt\": \"2020-08-16T00:00:00\", \"count\": 0}, {\"repo\": \"team-compass\", \"createdAt\": \"2020-08-23T00:00:00\", \"count\": 0}, {\"repo\": \"team-compass\", \"createdAt\": \"2020-08-30T00:00:00\", \"count\": 0}, {\"repo\": \"team-compass\", \"createdAt\": \"2020-09-06T00:00:00\", \"count\": 0}, {\"repo\": \"team-compass\", \"createdAt\": \"2020-09-13T00:00:00\", \"count\": 0}, {\"repo\": \"team-compass\", \"createdAt\": \"2020-09-20T00:00:00\", \"count\": 0}, {\"repo\": \"team-compass\", \"createdAt\": \"2020-09-27T00:00:00\", \"count\": 0}, {\"repo\": \"team-compass\", \"createdAt\": \"2020-10-04T00:00:00\", \"count\": 0}, {\"repo\": \"team-compass\", \"createdAt\": \"2020-10-11T00:00:00\", \"count\": 0}, {\"repo\": \"team-compass\", \"createdAt\": \"2020-10-18T00:00:00\", \"count\": 0}, {\"repo\": \"team-compass\", \"createdAt\": \"2020-10-25T00:00:00\", \"count\": 0}, {\"repo\": \"team-compass\", \"createdAt\": \"2020-11-01T00:00:00\", \"count\": 0}, {\"repo\": \"team-compass\", \"createdAt\": \"2020-11-08T00:00:00\", \"count\": 0}, {\"repo\": \"team-compass\", \"createdAt\": \"2020-11-15T00:00:00\", \"count\": 0}, {\"repo\": \"team-compass\", \"createdAt\": \"2020-11-22T00:00:00\", \"count\": 0}, {\"repo\": \"team-compass\", \"createdAt\": \"2020-11-29T00:00:00\", \"count\": 0}, {\"repo\": \"team-compass\", \"createdAt\": \"2020-12-06T00:00:00\", \"count\": 0}, {\"repo\": \"team-compass\", \"createdAt\": \"2020-12-13T00:00:00\", \"count\": 0}, {\"repo\": \"team-compass\", \"createdAt\": \"2020-12-20T00:00:00\", \"count\": 0}, {\"repo\": \"team-compass\", \"createdAt\": \"2020-12-27T00:00:00\", \"count\": 0}, {\"repo\": \"team-compass\", \"createdAt\": \"2021-01-03T00:00:00\", \"count\": 0}, {\"repo\": \"team-compass\", \"createdAt\": \"2021-01-10T00:00:00\", \"count\": 0}, {\"repo\": \"team-compass\", \"createdAt\": \"2021-01-17T00:00:00\", \"count\": 0}, {\"repo\": \"team-compass\", \"createdAt\": \"2021-01-24T00:00:00\", \"count\": 0}, {\"repo\": \"team-compass\", \"createdAt\": \"2021-01-31T00:00:00\", \"count\": 0}, {\"repo\": \"team-compass\", \"createdAt\": \"2021-02-07T00:00:00\", \"count\": 0}, {\"repo\": \"team-compass\", \"createdAt\": \"2021-02-14T00:00:00\", \"count\": 0}, {\"repo\": \"team-compass\", \"createdAt\": \"2021-02-21T00:00:00\", \"count\": 0}, {\"repo\": \"team-compass\", \"createdAt\": \"2021-02-28T00:00:00\", \"count\": 0}, {\"repo\": \"team-compass\", \"createdAt\": \"2021-03-07T00:00:00\", \"count\": 0}, {\"repo\": \"team-compass\", \"createdAt\": \"2021-03-14T00:00:00\", \"count\": 0}, {\"repo\": \"team-compass\", \"createdAt\": \"2021-03-21T00:00:00\", \"count\": 0}, {\"repo\": \"team-compass\", \"createdAt\": \"2021-03-28T00:00:00\", \"count\": 0}, {\"repo\": \"team-compass\", \"createdAt\": \"2021-04-04T00:00:00\", \"count\": 0}, {\"repo\": \"team-compass\", \"createdAt\": \"2021-04-11T00:00:00\", \"count\": 0}, {\"repo\": \"team-compass\", \"createdAt\": \"2021-04-18T00:00:00\", \"count\": 0}, {\"repo\": \"team-compass\", \"createdAt\": \"2021-04-25T00:00:00\", \"count\": 0}, {\"repo\": \"team-compass\", \"createdAt\": \"2021-05-02T00:00:00\", \"count\": 0}, {\"repo\": \"team-compass\", \"createdAt\": \"2021-05-09T00:00:00\", \"count\": 0}, {\"repo\": \"team-compass\", \"createdAt\": \"2021-05-16T00:00:00\", \"count\": 0}, {\"repo\": \"team-compass\", \"createdAt\": \"2021-05-23T00:00:00\", \"count\": 0}, {\"repo\": \"team-compass\", \"createdAt\": \"2021-05-30T00:00:00\", \"count\": 0}, {\"repo\": \"team-compass\", \"createdAt\": \"2021-06-06T00:00:00\", \"count\": 0}, {\"repo\": \"team-compass\", \"createdAt\": \"2021-06-13T00:00:00\", \"count\": 0}, {\"repo\": \"team-compass\", \"createdAt\": \"2021-06-20T00:00:00\", \"count\": 0}, {\"repo\": \"team-compass\", \"createdAt\": \"2021-06-27T00:00:00\", \"count\": 0}, {\"repo\": \"team-compass\", \"createdAt\": \"2021-07-04T00:00:00\", \"count\": 0}, {\"repo\": \"team-compass\", \"createdAt\": \"2021-07-11T00:00:00\", \"count\": 0}, {\"repo\": \"team-compass\", \"createdAt\": \"2021-07-18T00:00:00\", \"count\": 0}, {\"repo\": \"team-compass\", \"createdAt\": \"2021-07-25T00:00:00\", \"count\": 0}, {\"repo\": \"team-compass\", \"createdAt\": \"2021-08-01T00:00:00\", \"count\": 0}, {\"repo\": \"team-compass\", \"createdAt\": \"2021-08-08T00:00:00\", \"count\": 0}, {\"repo\": \"team-compass\", \"createdAt\": \"2021-08-15T00:00:00\", \"count\": 0}, {\"repo\": \"team-compass\", \"createdAt\": \"2021-08-22T00:00:00\", \"count\": 0}, {\"repo\": \"team-compass\", \"createdAt\": \"2021-08-29T00:00:00\", \"count\": 0}, {\"repo\": \"team-compass\", \"createdAt\": \"2021-09-05T00:00:00\", \"count\": 0}, {\"repo\": \"team-compass\", \"createdAt\": \"2021-09-12T00:00:00\", \"count\": 0}, {\"repo\": \"team-compass\", \"createdAt\": \"2021-09-19T00:00:00\", \"count\": 0}, {\"repo\": \"team-compass\", \"createdAt\": \"2021-09-26T00:00:00\", \"count\": 0}, {\"repo\": \"team-compass\", \"createdAt\": \"2021-10-03T00:00:00\", \"count\": 0}, {\"repo\": \"team-compass\", \"createdAt\": \"2021-10-10T00:00:00\", \"count\": 0}, {\"repo\": \"team-compass\", \"createdAt\": \"2021-10-17T00:00:00\", \"count\": 0}, {\"repo\": \"team-compass\", \"createdAt\": \"2021-10-24T00:00:00\", \"count\": 0}, {\"repo\": \"team-compass\", \"createdAt\": \"2021-10-31T00:00:00\", \"count\": 0}, {\"repo\": \"team-compass\", \"createdAt\": \"2021-11-07T00:00:00\", \"count\": 0}, {\"repo\": \"team-compass\", \"createdAt\": \"2021-11-14T00:00:00\", \"count\": 4}, {\"repo\": \"team-compass\", \"createdAt\": \"2021-11-21T00:00:00\", \"count\": 0}, {\"repo\": \"team-compass\", \"createdAt\": \"2021-11-28T00:00:00\", \"count\": 0}, {\"repo\": \"team-compass\", \"createdAt\": \"2021-12-05T00:00:00\", \"count\": 0}, {\"repo\": \"team-compass\", \"createdAt\": \"2021-12-12T00:00:00\", \"count\": 0}, {\"repo\": \"team-compass\", \"createdAt\": \"2021-12-19T00:00:00\", \"count\": 0}, {\"repo\": \"team-compass\", \"createdAt\": \"2021-12-26T00:00:00\", \"count\": 0}, {\"repo\": \"team-compass\", \"createdAt\": \"2022-01-02T00:00:00\", \"count\": 0}, {\"repo\": \"team-compass\", \"createdAt\": \"2022-01-09T00:00:00\", \"count\": 0}, {\"repo\": \"team-compass\", \"createdAt\": \"2022-01-16T00:00:00\", \"count\": 0}, {\"repo\": \"team-compass\", \"createdAt\": \"2022-01-23T00:00:00\", \"count\": 0}, {\"repo\": \"team-compass\", \"createdAt\": \"2022-01-30T00:00:00\", \"count\": 0}, {\"repo\": \"team-compass\", \"createdAt\": \"2022-02-06T00:00:00\", \"count\": 0}, {\"repo\": \"team-compass\", \"createdAt\": \"2022-02-13T00:00:00\", \"count\": 0}, {\"repo\": \"team-compass\", \"createdAt\": \"2022-02-20T00:00:00\", \"count\": 0}, {\"repo\": \"team-compass\", \"createdAt\": \"2022-02-27T00:00:00\", \"count\": 0}, {\"repo\": \"team-compass\", \"createdAt\": \"2022-03-06T00:00:00\", \"count\": 0}, {\"repo\": \"team-compass\", \"createdAt\": \"2022-03-13T00:00:00\", \"count\": 0}, {\"repo\": \"team-compass\", \"createdAt\": \"2022-03-20T00:00:00\", \"count\": 0}, {\"repo\": \"team-compass\", \"createdAt\": \"2022-03-27T00:00:00\", \"count\": 0}, {\"repo\": \"team-compass\", \"createdAt\": \"2022-04-03T00:00:00\", \"count\": 0}, {\"repo\": \"team-compass\", \"createdAt\": \"2022-04-10T00:00:00\", \"count\": 0}, {\"repo\": \"team-compass\", \"createdAt\": \"2022-04-17T00:00:00\", \"count\": 0}, {\"repo\": \"team-compass\", \"createdAt\": \"2022-04-24T00:00:00\", \"count\": 0}, {\"repo\": \"team-compass\", \"createdAt\": \"2022-05-01T00:00:00\", \"count\": 0}, {\"repo\": \"team-compass\", \"createdAt\": \"2022-05-08T00:00:00\", \"count\": 0}, {\"repo\": \"team-compass\", \"createdAt\": \"2022-05-15T00:00:00\", \"count\": 0}, {\"repo\": \"team-compass\", \"createdAt\": \"2022-05-22T00:00:00\", \"count\": 0}, {\"repo\": \"team-compass\", \"createdAt\": \"2022-05-29T00:00:00\", \"count\": 0}, {\"repo\": \"team-compass\", \"createdAt\": \"2022-06-05T00:00:00\", \"count\": 0}, {\"repo\": \"team-compass\", \"createdAt\": \"2022-06-12T00:00:00\", \"count\": 0}, {\"repo\": \"team-compass\", \"createdAt\": \"2022-06-19T00:00:00\", \"count\": 0}, {\"repo\": \"team-compass\", \"createdAt\": \"2022-06-26T00:00:00\", \"count\": 0}, {\"repo\": \"team-compass\", \"createdAt\": \"2022-07-03T00:00:00\", \"count\": 0}, {\"repo\": \"team-compass\", \"createdAt\": \"2022-07-10T00:00:00\", \"count\": 0}, {\"repo\": \"team-compass\", \"createdAt\": \"2022-07-17T00:00:00\", \"count\": 0}, {\"repo\": \"team-compass\", \"createdAt\": \"2022-07-24T00:00:00\", \"count\": 0}, {\"repo\": \"team-compass\", \"createdAt\": \"2022-07-31T00:00:00\", \"count\": 0}, {\"repo\": \"team-compass\", \"createdAt\": \"2022-08-07T00:00:00\", \"count\": 0}, {\"repo\": \"team-compass\", \"createdAt\": \"2022-08-14T00:00:00\", \"count\": 0}, {\"repo\": \"team-compass\", \"createdAt\": \"2022-08-21T00:00:00\", \"count\": 0}, {\"repo\": \"team-compass\", \"createdAt\": \"2022-08-28T00:00:00\", \"count\": 0}, {\"repo\": \"team-compass\", \"createdAt\": \"2022-09-04T00:00:00\", \"count\": 1}, {\"repo\": \"team-compass\", \"createdAt\": \"2022-09-11T00:00:00\", \"count\": 2}, {\"repo\": \"team-compass\", \"createdAt\": \"2022-09-18T00:00:00\", \"count\": 0}, {\"repo\": \"team-compass\", \"createdAt\": \"2022-09-25T00:00:00\", \"count\": 0}, {\"repo\": \"team-compass\", \"createdAt\": \"2022-10-02T00:00:00\", \"count\": 0}, {\"repo\": \"team-compass\", \"createdAt\": \"2022-10-09T00:00:00\", \"count\": 0}, {\"repo\": \"team-compass\", \"createdAt\": \"2022-10-16T00:00:00\", \"count\": 0}, {\"repo\": \"team-compass\", \"createdAt\": \"2022-10-23T00:00:00\", \"count\": 0}, {\"repo\": \"team-compass\", \"createdAt\": \"2022-10-30T00:00:00\", \"count\": 0}, {\"repo\": \"team-compass\", \"createdAt\": \"2022-11-06T00:00:00\", \"count\": 1}, {\"repo\": \"team-compass\", \"createdAt\": \"2022-11-13T00:00:00\", \"count\": 0}, {\"repo\": \"team-compass\", \"createdAt\": \"2022-11-20T00:00:00\", \"count\": 0}, {\"repo\": \"team-compass\", \"createdAt\": \"2022-11-27T00:00:00\", \"count\": 0}, {\"repo\": \"team-compass\", \"createdAt\": \"2022-12-04T00:00:00\", \"count\": 2}, {\"repo\": \"team-compass\", \"createdAt\": \"2022-12-11T00:00:00\", \"count\": 7}, {\"repo\": \"team-compass\", \"createdAt\": \"2022-12-18T00:00:00\", \"count\": 0}, {\"repo\": \"team-compass\", \"createdAt\": \"2022-12-25T00:00:00\", \"count\": 1}, {\"repo\": \"team-compass\", \"createdAt\": \"2023-01-01T00:00:00\", \"count\": 0}, {\"repo\": \"team-compass\", \"createdAt\": \"2023-01-08T00:00:00\", \"count\": 1}, {\"repo\": \"team-compass\", \"createdAt\": \"2023-01-15T00:00:00\", \"count\": 3}, {\"repo\": \"team-compass\", \"createdAt\": \"2023-01-22T00:00:00\", \"count\": 1}, {\"repo\": \"team-compass\", \"createdAt\": \"2023-01-29T00:00:00\", \"count\": 2}, {\"repo\": \"team-compass\", \"createdAt\": \"2023-02-05T00:00:00\", \"count\": 0}, {\"repo\": \"team-compass\", \"createdAt\": \"2023-02-12T00:00:00\", \"count\": 1}, {\"repo\": \"team-compass\", \"createdAt\": \"2023-02-19T00:00:00\", \"count\": 6}, {\"repo\": \"team-compass\", \"createdAt\": \"2023-02-26T00:00:00\", \"count\": 7}, {\"repo\": \"team-compass\", \"createdAt\": \"2023-03-05T00:00:00\", \"count\": 1}, {\"repo\": \"the-littlest-jupyterhub\", \"createdAt\": \"2023-01-15T00:00:00\", \"count\": 1}, {\"repo\": \"the-littlest-jupyterhub\", \"createdAt\": \"2023-01-22T00:00:00\", \"count\": 0}, {\"repo\": \"the-littlest-jupyterhub\", \"createdAt\": \"2023-01-29T00:00:00\", \"count\": 0}, {\"repo\": \"the-littlest-jupyterhub\", \"createdAt\": \"2023-02-05T00:00:00\", \"count\": 0}, {\"repo\": \"the-littlest-jupyterhub\", \"createdAt\": \"2023-02-12T00:00:00\", \"count\": 1}, {\"repo\": \"traefik-proxy\", \"createdAt\": \"2023-02-19T00:00:00\", \"count\": 1}, {\"repo\": \"traefik-proxy\", \"createdAt\": \"2023-02-26T00:00:00\", \"count\": 3}, {\"repo\": \"zero-to-jupyterhub-k8s\", \"createdAt\": \"2022-12-11T00:00:00\", \"count\": 2}, {\"repo\": \"zero-to-jupyterhub-k8s\", \"createdAt\": \"2022-12-18T00:00:00\", \"count\": 2}, {\"repo\": \"zero-to-jupyterhub-k8s\", \"createdAt\": \"2022-12-25T00:00:00\", \"count\": 0}, {\"repo\": \"zero-to-jupyterhub-k8s\", \"createdAt\": \"2023-01-01T00:00:00\", \"count\": 0}, {\"repo\": \"zero-to-jupyterhub-k8s\", \"createdAt\": \"2023-01-08T00:00:00\", \"count\": 0}, {\"repo\": \"zero-to-jupyterhub-k8s\", \"createdAt\": \"2023-01-15T00:00:00\", \"count\": 0}, {\"repo\": \"zero-to-jupyterhub-k8s\", \"createdAt\": \"2023-01-22T00:00:00\", \"count\": 0}, {\"repo\": \"zero-to-jupyterhub-k8s\", \"createdAt\": \"2023-01-29T00:00:00\", \"count\": 2}, {\"repo\": \"zero-to-jupyterhub-k8s\", \"createdAt\": \"2023-02-05T00:00:00\", \"count\": 3}, {\"repo\": \"zero-to-jupyterhub-k8s\", \"createdAt\": \"2023-02-12T00:00:00\", \"count\": 5}, {\"repo\": \"zero-to-jupyterhub-k8s\", \"createdAt\": \"2023-02-19T00:00:00\", \"count\": 0}, {\"repo\": \"zero-to-jupyterhub-k8s\", \"createdAt\": \"2023-02-26T00:00:00\", \"count\": 0}, {\"repo\": \"zero-to-jupyterhub-k8s\", \"createdAt\": \"2023-03-05T00:00:00\", \"count\": 10}], \"data-26f77137e8b5443d6101716f3fa2e779\": [{\"createdAt\": \"2018-04-15T00:00:00\", \"count\": 1}, {\"createdAt\": \"2018-04-22T00:00:00\", \"count\": 0}, {\"createdAt\": \"2018-04-29T00:00:00\", \"count\": 0}, {\"createdAt\": \"2018-05-06T00:00:00\", \"count\": 0}, {\"createdAt\": \"2018-05-13T00:00:00\", \"count\": 0}, {\"createdAt\": \"2018-05-20T00:00:00\", \"count\": 0}, {\"createdAt\": \"2018-05-27T00:00:00\", \"count\": 0}, {\"createdAt\": \"2018-06-03T00:00:00\", \"count\": 0}, {\"createdAt\": \"2018-06-10T00:00:00\", \"count\": 0}, {\"createdAt\": \"2018-06-17T00:00:00\", \"count\": 0}, {\"createdAt\": \"2018-06-24T00:00:00\", \"count\": 0}, {\"createdAt\": \"2018-07-01T00:00:00\", \"count\": 0}, {\"createdAt\": \"2018-07-08T00:00:00\", \"count\": 0}, {\"createdAt\": \"2018-07-15T00:00:00\", \"count\": 0}, {\"createdAt\": \"2018-07-22T00:00:00\", \"count\": 0}, {\"createdAt\": \"2018-07-29T00:00:00\", \"count\": 0}, {\"createdAt\": \"2018-08-05T00:00:00\", \"count\": 0}, {\"createdAt\": \"2018-08-12T00:00:00\", \"count\": 0}, {\"createdAt\": \"2018-08-19T00:00:00\", \"count\": 0}, {\"createdAt\": \"2018-08-26T00:00:00\", \"count\": 0}, {\"createdAt\": \"2018-09-02T00:00:00\", \"count\": 0}, {\"createdAt\": \"2018-09-09T00:00:00\", \"count\": 0}, {\"createdAt\": \"2018-09-16T00:00:00\", \"count\": 0}, {\"createdAt\": \"2018-09-23T00:00:00\", \"count\": 0}, {\"createdAt\": \"2018-09-30T00:00:00\", \"count\": 0}, {\"createdAt\": \"2018-10-07T00:00:00\", \"count\": 0}, {\"createdAt\": \"2018-10-14T00:00:00\", \"count\": 0}, {\"createdAt\": \"2018-10-21T00:00:00\", \"count\": 0}, {\"createdAt\": \"2018-10-28T00:00:00\", \"count\": 0}, {\"createdAt\": \"2018-11-04T00:00:00\", \"count\": 0}, {\"createdAt\": \"2018-11-11T00:00:00\", \"count\": 0}, {\"createdAt\": \"2018-11-18T00:00:00\", \"count\": 0}, {\"createdAt\": \"2018-11-25T00:00:00\", \"count\": 0}, {\"createdAt\": \"2018-12-02T00:00:00\", \"count\": 0}, {\"createdAt\": \"2018-12-09T00:00:00\", \"count\": 0}, {\"createdAt\": \"2018-12-16T00:00:00\", \"count\": 0}, {\"createdAt\": \"2018-12-23T00:00:00\", \"count\": 0}, {\"createdAt\": \"2018-12-30T00:00:00\", \"count\": 0}, {\"createdAt\": \"2019-01-06T00:00:00\", \"count\": 0}, {\"createdAt\": \"2019-01-13T00:00:00\", \"count\": 0}, {\"createdAt\": \"2019-01-20T00:00:00\", \"count\": 0}, {\"createdAt\": \"2019-01-27T00:00:00\", \"count\": 0}, {\"createdAt\": \"2019-02-03T00:00:00\", \"count\": 0}, {\"createdAt\": \"2019-02-10T00:00:00\", \"count\": 0}, {\"createdAt\": \"2019-02-17T00:00:00\", \"count\": 0}, {\"createdAt\": \"2019-02-24T00:00:00\", \"count\": 0}, {\"createdAt\": \"2019-03-03T00:00:00\", \"count\": 0}, {\"createdAt\": \"2019-03-10T00:00:00\", \"count\": 0}, {\"createdAt\": \"2019-03-17T00:00:00\", \"count\": 0}, {\"createdAt\": \"2019-03-24T00:00:00\", \"count\": 0}, {\"createdAt\": \"2019-03-31T00:00:00\", \"count\": 0}, {\"createdAt\": \"2019-04-07T00:00:00\", \"count\": 0}, {\"createdAt\": \"2019-04-14T00:00:00\", \"count\": 0}, {\"createdAt\": \"2019-04-21T00:00:00\", \"count\": 0}, {\"createdAt\": \"2019-04-28T00:00:00\", \"count\": 0}, {\"createdAt\": \"2019-05-05T00:00:00\", \"count\": 0}, {\"createdAt\": \"2019-05-12T00:00:00\", \"count\": 0}, {\"createdAt\": \"2019-05-19T00:00:00\", \"count\": 0}, {\"createdAt\": \"2019-05-26T00:00:00\", \"count\": 0}, {\"createdAt\": \"2019-06-02T00:00:00\", \"count\": 0}, {\"createdAt\": \"2019-06-09T00:00:00\", \"count\": 0}, {\"createdAt\": \"2019-06-16T00:00:00\", \"count\": 0}, {\"createdAt\": \"2019-06-23T00:00:00\", \"count\": 0}, {\"createdAt\": \"2019-06-30T00:00:00\", \"count\": 0}, {\"createdAt\": \"2019-07-07T00:00:00\", \"count\": 0}, {\"createdAt\": \"2019-07-14T00:00:00\", \"count\": 0}, {\"createdAt\": \"2019-07-21T00:00:00\", \"count\": 0}, {\"createdAt\": \"2019-07-28T00:00:00\", \"count\": 0}, {\"createdAt\": \"2019-08-04T00:00:00\", \"count\": 0}, {\"createdAt\": \"2019-08-11T00:00:00\", \"count\": 0}, {\"createdAt\": \"2019-08-18T00:00:00\", \"count\": 0}, {\"createdAt\": \"2019-08-25T00:00:00\", \"count\": 0}, {\"createdAt\": \"2019-09-01T00:00:00\", \"count\": 0}, {\"createdAt\": \"2019-09-08T00:00:00\", \"count\": 0}, {\"createdAt\": \"2019-09-15T00:00:00\", \"count\": 0}, {\"createdAt\": \"2019-09-22T00:00:00\", \"count\": 0}, {\"createdAt\": \"2019-09-29T00:00:00\", \"count\": 0}, {\"createdAt\": \"2019-10-06T00:00:00\", \"count\": 0}, {\"createdAt\": \"2019-10-13T00:00:00\", \"count\": 0}, {\"createdAt\": \"2019-10-20T00:00:00\", \"count\": 0}, {\"createdAt\": \"2019-10-27T00:00:00\", \"count\": 0}, {\"createdAt\": \"2019-11-03T00:00:00\", \"count\": 0}, {\"createdAt\": \"2019-11-10T00:00:00\", \"count\": 0}, {\"createdAt\": \"2019-11-17T00:00:00\", \"count\": 2}, {\"createdAt\": \"2019-11-24T00:00:00\", \"count\": 2}, {\"createdAt\": \"2019-12-01T00:00:00\", \"count\": 0}, {\"createdAt\": \"2019-12-08T00:00:00\", \"count\": 1}, {\"createdAt\": \"2019-12-15T00:00:00\", \"count\": 0}, {\"createdAt\": \"2019-12-22T00:00:00\", \"count\": 0}, {\"createdAt\": \"2019-12-29T00:00:00\", \"count\": 0}, {\"createdAt\": \"2020-01-05T00:00:00\", \"count\": 0}, {\"createdAt\": \"2020-01-12T00:00:00\", \"count\": 0}, {\"createdAt\": \"2020-01-19T00:00:00\", \"count\": 0}, {\"createdAt\": \"2020-01-26T00:00:00\", \"count\": 0}, {\"createdAt\": \"2020-02-02T00:00:00\", \"count\": 1}, {\"createdAt\": \"2020-02-09T00:00:00\", \"count\": 0}, {\"createdAt\": \"2020-02-16T00:00:00\", \"count\": 0}, {\"createdAt\": \"2020-02-23T00:00:00\", \"count\": 0}, {\"createdAt\": \"2020-03-01T00:00:00\", \"count\": 0}, {\"createdAt\": \"2020-03-08T00:00:00\", \"count\": 0}, {\"createdAt\": \"2020-03-15T00:00:00\", \"count\": 0}, {\"createdAt\": \"2020-03-22T00:00:00\", \"count\": 0}, {\"createdAt\": \"2020-03-29T00:00:00\", \"count\": 0}, {\"createdAt\": \"2020-04-05T00:00:00\", \"count\": 0}, {\"createdAt\": \"2020-04-12T00:00:00\", \"count\": 0}, {\"createdAt\": \"2020-04-19T00:00:00\", \"count\": 0}, {\"createdAt\": \"2020-04-26T00:00:00\", \"count\": 0}, {\"createdAt\": \"2020-05-03T00:00:00\", \"count\": 0}, {\"createdAt\": \"2020-05-10T00:00:00\", \"count\": 0}, {\"createdAt\": \"2020-05-17T00:00:00\", \"count\": 0}, {\"createdAt\": \"2020-05-24T00:00:00\", \"count\": 0}, {\"createdAt\": \"2020-05-31T00:00:00\", \"count\": 0}, {\"createdAt\": \"2020-06-07T00:00:00\", \"count\": 1}, {\"createdAt\": \"2020-06-14T00:00:00\", \"count\": 0}, {\"createdAt\": \"2020-06-21T00:00:00\", \"count\": 0}, {\"createdAt\": \"2020-06-28T00:00:00\", \"count\": 0}, {\"createdAt\": \"2020-07-05T00:00:00\", \"count\": 0}, {\"createdAt\": \"2020-07-12T00:00:00\", \"count\": 0}, {\"createdAt\": \"2020-07-19T00:00:00\", \"count\": 0}, {\"createdAt\": \"2020-07-26T00:00:00\", \"count\": 0}, {\"createdAt\": \"2020-08-02T00:00:00\", \"count\": 0}, {\"createdAt\": \"2020-08-09T00:00:00\", \"count\": 0}, {\"createdAt\": \"2020-08-16T00:00:00\", \"count\": 0}, {\"createdAt\": \"2020-08-23T00:00:00\", \"count\": 0}, {\"createdAt\": \"2020-08-30T00:00:00\", \"count\": 0}, {\"createdAt\": \"2020-09-06T00:00:00\", \"count\": 0}, {\"createdAt\": \"2020-09-13T00:00:00\", \"count\": 0}, {\"createdAt\": \"2020-09-20T00:00:00\", \"count\": 0}, {\"createdAt\": \"2020-09-27T00:00:00\", \"count\": 0}, {\"createdAt\": \"2020-10-04T00:00:00\", \"count\": 0}, {\"createdAt\": \"2020-10-11T00:00:00\", \"count\": 0}, {\"createdAt\": \"2020-10-18T00:00:00\", \"count\": 0}, {\"createdAt\": \"2020-10-25T00:00:00\", \"count\": 1}, {\"createdAt\": \"2020-11-01T00:00:00\", \"count\": 0}, {\"createdAt\": \"2020-11-08T00:00:00\", \"count\": 0}, {\"createdAt\": \"2020-11-15T00:00:00\", \"count\": 0}, {\"createdAt\": \"2020-11-22T00:00:00\", \"count\": 0}, {\"createdAt\": \"2020-11-29T00:00:00\", \"count\": 0}, {\"createdAt\": \"2020-12-06T00:00:00\", \"count\": 0}, {\"createdAt\": \"2020-12-13T00:00:00\", \"count\": 0}, {\"createdAt\": \"2020-12-20T00:00:00\", \"count\": 0}, {\"createdAt\": \"2020-12-27T00:00:00\", \"count\": 0}, {\"createdAt\": \"2021-01-03T00:00:00\", \"count\": 0}, {\"createdAt\": \"2021-01-10T00:00:00\", \"count\": 0}, {\"createdAt\": \"2021-01-17T00:00:00\", \"count\": 0}, {\"createdAt\": \"2021-01-24T00:00:00\", \"count\": 0}, {\"createdAt\": \"2021-01-31T00:00:00\", \"count\": 0}, {\"createdAt\": \"2021-02-07T00:00:00\", \"count\": 0}, {\"createdAt\": \"2021-02-14T00:00:00\", \"count\": 0}, {\"createdAt\": \"2021-02-21T00:00:00\", \"count\": 0}, {\"createdAt\": \"2021-02-28T00:00:00\", \"count\": 0}, {\"createdAt\": \"2021-03-07T00:00:00\", \"count\": 0}, {\"createdAt\": \"2021-03-14T00:00:00\", \"count\": 0}, {\"createdAt\": \"2021-03-21T00:00:00\", \"count\": 0}, {\"createdAt\": \"2021-03-28T00:00:00\", \"count\": 0}, {\"createdAt\": \"2021-04-04T00:00:00\", \"count\": 0}, {\"createdAt\": \"2021-04-11T00:00:00\", \"count\": 0}, {\"createdAt\": \"2021-04-18T00:00:00\", \"count\": 0}, {\"createdAt\": \"2021-04-25T00:00:00\", \"count\": 0}, {\"createdAt\": \"2021-05-02T00:00:00\", \"count\": 2}, {\"createdAt\": \"2021-05-09T00:00:00\", \"count\": 0}, {\"createdAt\": \"2021-05-16T00:00:00\", \"count\": 0}, {\"createdAt\": \"2021-05-23T00:00:00\", \"count\": 0}, {\"createdAt\": \"2021-05-30T00:00:00\", \"count\": 0}, {\"createdAt\": \"2021-06-06T00:00:00\", \"count\": 1}, {\"createdAt\": \"2021-06-13T00:00:00\", \"count\": 0}, {\"createdAt\": \"2021-06-20T00:00:00\", \"count\": 0}, {\"createdAt\": \"2021-06-27T00:00:00\", \"count\": 1}, {\"createdAt\": \"2021-07-04T00:00:00\", \"count\": 0}, {\"createdAt\": \"2021-07-11T00:00:00\", \"count\": 0}, {\"createdAt\": \"2021-07-18T00:00:00\", \"count\": 0}, {\"createdAt\": \"2021-07-25T00:00:00\", \"count\": 0}, {\"createdAt\": \"2021-08-01T00:00:00\", \"count\": 3}, {\"createdAt\": \"2021-08-08T00:00:00\", \"count\": 0}, {\"createdAt\": \"2021-08-15T00:00:00\", \"count\": 0}, {\"createdAt\": \"2021-08-22T00:00:00\", \"count\": 0}, {\"createdAt\": \"2021-08-29T00:00:00\", \"count\": 1}, {\"createdAt\": \"2021-09-05T00:00:00\", \"count\": 0}, {\"createdAt\": \"2021-09-12T00:00:00\", \"count\": 0}, {\"createdAt\": \"2021-09-19T00:00:00\", \"count\": 1}, {\"createdAt\": \"2021-09-26T00:00:00\", \"count\": 2}, {\"createdAt\": \"2021-10-03T00:00:00\", \"count\": 2}, {\"createdAt\": \"2021-10-10T00:00:00\", \"count\": 1}, {\"createdAt\": \"2021-10-17T00:00:00\", \"count\": 0}, {\"createdAt\": \"2021-10-24T00:00:00\", \"count\": 0}, {\"createdAt\": \"2021-10-31T00:00:00\", \"count\": 0}, {\"createdAt\": \"2021-11-07T00:00:00\", \"count\": 0}, {\"createdAt\": \"2021-11-14T00:00:00\", \"count\": 4}, {\"createdAt\": \"2021-11-21T00:00:00\", \"count\": 0}, {\"createdAt\": \"2021-11-28T00:00:00\", \"count\": 0}, {\"createdAt\": \"2021-12-05T00:00:00\", \"count\": 0}, {\"createdAt\": \"2021-12-12T00:00:00\", \"count\": 0}, {\"createdAt\": \"2021-12-19T00:00:00\", \"count\": 0}, {\"createdAt\": \"2021-12-26T00:00:00\", \"count\": 0}, {\"createdAt\": \"2022-01-02T00:00:00\", \"count\": 0}, {\"createdAt\": \"2022-01-09T00:00:00\", \"count\": 0}, {\"createdAt\": \"2022-01-16T00:00:00\", \"count\": 0}, {\"createdAt\": \"2022-01-23T00:00:00\", \"count\": 0}, {\"createdAt\": \"2022-01-30T00:00:00\", \"count\": 0}, {\"createdAt\": \"2022-02-06T00:00:00\", \"count\": 0}, {\"createdAt\": \"2022-02-13T00:00:00\", \"count\": 0}, {\"createdAt\": \"2022-02-20T00:00:00\", \"count\": 0}, {\"createdAt\": \"2022-02-27T00:00:00\", \"count\": 0}, {\"createdAt\": \"2022-03-06T00:00:00\", \"count\": 0}, {\"createdAt\": \"2022-03-13T00:00:00\", \"count\": 0}, {\"createdAt\": \"2022-03-20T00:00:00\", \"count\": 0}, {\"createdAt\": \"2022-03-27T00:00:00\", \"count\": 0}, {\"createdAt\": \"2022-04-03T00:00:00\", \"count\": 0}, {\"createdAt\": \"2022-04-10T00:00:00\", \"count\": 0}, {\"createdAt\": \"2022-04-17T00:00:00\", \"count\": 0}, {\"createdAt\": \"2022-04-24T00:00:00\", \"count\": 0}, {\"createdAt\": \"2022-05-01T00:00:00\", \"count\": 0}, {\"createdAt\": \"2022-05-08T00:00:00\", \"count\": 0}, {\"createdAt\": \"2022-05-15T00:00:00\", \"count\": 0}, {\"createdAt\": \"2022-05-22T00:00:00\", \"count\": 0}, {\"createdAt\": \"2022-05-29T00:00:00\", \"count\": 0}, {\"createdAt\": \"2022-06-05T00:00:00\", \"count\": 1}, {\"createdAt\": \"2022-06-12T00:00:00\", \"count\": 2}, {\"createdAt\": \"2022-06-19T00:00:00\", \"count\": 0}, {\"createdAt\": \"2022-06-26T00:00:00\", \"count\": 3}, {\"createdAt\": \"2022-07-03T00:00:00\", \"count\": 0}, {\"createdAt\": \"2022-07-10T00:00:00\", \"count\": 1}, {\"createdAt\": \"2022-07-17T00:00:00\", \"count\": 1}, {\"createdAt\": \"2022-07-24T00:00:00\", \"count\": 1}, {\"createdAt\": \"2022-07-31T00:00:00\", \"count\": 0}, {\"createdAt\": \"2022-08-07T00:00:00\", \"count\": 1}, {\"createdAt\": \"2022-08-14T00:00:00\", \"count\": 0}, {\"createdAt\": \"2022-08-21T00:00:00\", \"count\": 0}, {\"createdAt\": \"2022-08-28T00:00:00\", \"count\": 3}, {\"createdAt\": \"2022-09-04T00:00:00\", \"count\": 1}, {\"createdAt\": \"2022-09-11T00:00:00\", \"count\": 2}, {\"createdAt\": \"2022-09-18T00:00:00\", \"count\": 0}, {\"createdAt\": \"2022-09-25T00:00:00\", \"count\": 0}, {\"createdAt\": \"2022-10-02T00:00:00\", \"count\": 0}, {\"createdAt\": \"2022-10-09T00:00:00\", \"count\": 1}, {\"createdAt\": \"2022-10-16T00:00:00\", \"count\": 0}, {\"createdAt\": \"2022-10-23T00:00:00\", \"count\": 0}, {\"createdAt\": \"2022-10-30T00:00:00\", \"count\": 2}, {\"createdAt\": \"2022-11-06T00:00:00\", \"count\": 5}, {\"createdAt\": \"2022-11-13T00:00:00\", \"count\": 5}, {\"createdAt\": \"2022-11-20T00:00:00\", \"count\": 4}, {\"createdAt\": \"2022-11-27T00:00:00\", \"count\": 0}, {\"createdAt\": \"2022-12-04T00:00:00\", \"count\": 3}, {\"createdAt\": \"2022-12-11T00:00:00\", \"count\": 27}, {\"createdAt\": \"2022-12-18T00:00:00\", \"count\": 27}, {\"createdAt\": \"2022-12-25T00:00:00\", \"count\": 10}, {\"createdAt\": \"2023-01-01T00:00:00\", \"count\": 36}, {\"createdAt\": \"2023-01-08T00:00:00\", \"count\": 27}, {\"createdAt\": \"2023-01-15T00:00:00\", \"count\": 32}, {\"createdAt\": \"2023-01-22T00:00:00\", \"count\": 41}, {\"createdAt\": \"2023-01-29T00:00:00\", \"count\": 37}, {\"createdAt\": \"2023-02-05T00:00:00\", \"count\": 31}, {\"createdAt\": \"2023-02-12T00:00:00\", \"count\": 38}, {\"createdAt\": \"2023-02-19T00:00:00\", \"count\": 64}, {\"createdAt\": \"2023-02-26T00:00:00\", \"count\": 57}, {\"createdAt\": \"2023-03-05T00:00:00\", \"count\": 59}]}}, {\"mode\": \"vega-lite\"});\n",
       "</script>"
      ],
      "text/plain": [
       "alt.LayerChart(...)"
      ]
     },
     "execution_count": 14,
     "metadata": {},
     "output_type": "execute_result"
    }
   ],
   "source": [
    "comments_time = comments.groupby('repo').resample('W', on='createdAt').count()['author'].reset_index()\n",
    "comments_time = comments_time.rename(columns={'author': 'count'})\n",
    "comments_time_total = comments_time.groupby('createdAt').agg({\"count\": \"sum\"}).reset_index()\n",
    "ch1 = alt.Chart(comments_time, width=600).mark_line().encode(\n",
    "    x='createdAt',\n",
    "    y='count',\n",
    "    color='repo',\n",
    "    tooltip=\"repo\"\n",
    ")\n",
    "\n",
    "ch2 = alt.Chart(comments_time_total, width=600).mark_line(color=\"black\").encode(\n",
    "    x='createdAt',\n",
    "    y='count',\n",
    ")\n",
    "\n",
    "ch1 + ch2"
   ]
  },
  {
   "cell_type": "markdown",
   "id": "b8752716",
   "metadata": {
    "papermill": {
     "duration": 0.005559,
     "end_time": "2023-03-06T14:44:51.807962",
     "exception": false,
     "start_time": "2023-03-06T14:44:51.802403",
     "status": "completed"
    },
    "tags": []
   },
   "source": [
    "### PRs"
   ]
  },
  {
   "cell_type": "code",
   "execution_count": 15,
   "id": "fbd82782",
   "metadata": {
    "execution": {
     "iopub.execute_input": "2023-03-06T14:44:51.820842Z",
     "iopub.status.busy": "2023-03-06T14:44:51.820065Z",
     "iopub.status.idle": "2023-03-06T14:44:51.962144Z",
     "shell.execute_reply": "2023-03-06T14:44:51.960545Z"
    },
    "papermill": {
     "duration": 0.150541,
     "end_time": "2023-03-06T14:44:51.964125",
     "exception": false,
     "start_time": "2023-03-06T14:44:51.813584",
     "status": "completed"
    },
    "tags": [
     "hide_input"
    ]
   },
   "outputs": [
    {
     "data": {
      "text/html": [
       "\n",
       "<div id=\"altair-viz-e4a2d92b7bfd4146b542f940cf906e33\"></div>\n",
       "<script type=\"text/javascript\">\n",
       "  var VEGA_DEBUG = (typeof VEGA_DEBUG == \"undefined\") ? {} : VEGA_DEBUG;\n",
       "  (function(spec, embedOpt){\n",
       "    let outputDiv = document.currentScript.previousElementSibling;\n",
       "    if (outputDiv.id !== \"altair-viz-e4a2d92b7bfd4146b542f940cf906e33\") {\n",
       "      outputDiv = document.getElementById(\"altair-viz-e4a2d92b7bfd4146b542f940cf906e33\");\n",
       "    }\n",
       "    const paths = {\n",
       "      \"vega\": \"https://cdn.jsdelivr.net/npm//vega@5?noext\",\n",
       "      \"vega-lib\": \"https://cdn.jsdelivr.net/npm//vega-lib?noext\",\n",
       "      \"vega-lite\": \"https://cdn.jsdelivr.net/npm//vega-lite@4.17.0?noext\",\n",
       "      \"vega-embed\": \"https://cdn.jsdelivr.net/npm//vega-embed@6?noext\",\n",
       "    };\n",
       "\n",
       "    function maybeLoadScript(lib, version) {\n",
       "      var key = `${lib.replace(\"-\", \"\")}_version`;\n",
       "      return (VEGA_DEBUG[key] == version) ?\n",
       "        Promise.resolve(paths[lib]) :\n",
       "        new Promise(function(resolve, reject) {\n",
       "          var s = document.createElement('script');\n",
       "          document.getElementsByTagName(\"head\")[0].appendChild(s);\n",
       "          s.async = true;\n",
       "          s.onload = () => {\n",
       "            VEGA_DEBUG[key] = version;\n",
       "            return resolve(paths[lib]);\n",
       "          };\n",
       "          s.onerror = () => reject(`Error loading script: ${paths[lib]}`);\n",
       "          s.src = paths[lib];\n",
       "        });\n",
       "    }\n",
       "\n",
       "    function showError(err) {\n",
       "      outputDiv.innerHTML = `<div class=\"error\" style=\"color:red;\">${err}</div>`;\n",
       "      throw err;\n",
       "    }\n",
       "\n",
       "    function displayChart(vegaEmbed) {\n",
       "      vegaEmbed(outputDiv, spec, embedOpt)\n",
       "        .catch(err => showError(`Javascript Error: ${err.message}<br>This usually means there's a typo in your chart specification. See the javascript console for the full traceback.`));\n",
       "    }\n",
       "\n",
       "    if(typeof define === \"function\" && define.amd) {\n",
       "      requirejs.config({paths});\n",
       "      require([\"vega-embed\"], displayChart, err => showError(`Error loading script: ${err.message}`));\n",
       "    } else {\n",
       "      maybeLoadScript(\"vega\", \"5\")\n",
       "        .then(() => maybeLoadScript(\"vega-lite\", \"4.17.0\"))\n",
       "        .then(() => maybeLoadScript(\"vega-embed\", \"6\"))\n",
       "        .catch(showError)\n",
       "        .then(() => displayChart(vegaEmbed));\n",
       "    }\n",
       "  })({\"config\": {\"axisLeft\": {\"labelFontSize\": 15}, \"axisBottom\": {\"labelFontSize\": 15}}, \"layer\": [{\"data\": {\"name\": \"data-9ab6135eba85c5cf6bdea662c60f2b57\"}, \"mark\": \"line\", \"encoding\": {\"color\": {\"field\": \"repo\", \"type\": \"nominal\"}, \"tooltip\": {\"field\": \"repo\", \"type\": \"nominal\"}, \"x\": {\"field\": \"createdAt\", \"type\": \"temporal\"}, \"y\": {\"field\": \"count\", \"type\": \"quantitative\"}}, \"width\": 600}, {\"data\": {\"name\": \"data-57e2d777df46682aad43c9365ab10baa\"}, \"mark\": {\"type\": \"line\", \"color\": \"black\"}, \"encoding\": {\"x\": {\"field\": \"createdAt\", \"type\": \"temporal\"}, \"y\": {\"field\": \"count\", \"type\": \"quantitative\"}}, \"width\": 600}], \"$schema\": \"https://vega.github.io/schema/vega-lite/v4.17.0.json\", \"datasets\": {\"data-9ab6135eba85c5cf6bdea662c60f2b57\": [{\"repo\": \".github\", \"createdAt\": \"2023-01-22T00:00:00\", \"count\": 1}, {\"repo\": \"action-k3s-helm\", \"createdAt\": \"2022-12-25T00:00:00\", \"count\": 2}, {\"repo\": \"action-k3s-helm\", \"createdAt\": \"2023-01-01T00:00:00\", \"count\": 1}, {\"repo\": \"action-k8s-await-workloads\", \"createdAt\": \"2023-01-01T00:00:00\", \"count\": 2}, {\"repo\": \"autodoc-traits\", \"createdAt\": \"2022-12-11T00:00:00\", \"count\": 7}, {\"repo\": \"autodoc-traits\", \"createdAt\": \"2022-12-18T00:00:00\", \"count\": 1}, {\"repo\": \"autodoc-traits\", \"createdAt\": \"2022-12-25T00:00:00\", \"count\": 1}, {\"repo\": \"binderhub\", \"createdAt\": \"2023-01-08T00:00:00\", \"count\": 3}, {\"repo\": \"binderhub\", \"createdAt\": \"2023-01-15T00:00:00\", \"count\": 0}, {\"repo\": \"binderhub\", \"createdAt\": \"2023-01-22T00:00:00\", \"count\": 0}, {\"repo\": \"binderhub\", \"createdAt\": \"2023-01-29T00:00:00\", \"count\": 0}, {\"repo\": \"binderhub\", \"createdAt\": \"2023-02-05T00:00:00\", \"count\": 0}, {\"repo\": \"binderhub\", \"createdAt\": \"2023-02-12T00:00:00\", \"count\": 1}, {\"repo\": \"binderhub\", \"createdAt\": \"2023-02-19T00:00:00\", \"count\": 0}, {\"repo\": \"binderhub\", \"createdAt\": \"2023-02-26T00:00:00\", \"count\": 1}, {\"repo\": \"gh-scoped-creds\", \"createdAt\": \"2022-09-04T00:00:00\", \"count\": 1}, {\"repo\": \"grafana-dashboards\", \"createdAt\": \"2023-02-05T00:00:00\", \"count\": 1}, {\"repo\": \"infrastructure\", \"createdAt\": \"2022-12-18T00:00:00\", \"count\": 1}, {\"repo\": \"infrastructure\", \"createdAt\": \"2022-12-25T00:00:00\", \"count\": 0}, {\"repo\": \"infrastructure\", \"createdAt\": \"2023-01-01T00:00:00\", \"count\": 0}, {\"repo\": \"infrastructure\", \"createdAt\": \"2023-01-08T00:00:00\", \"count\": 1}, {\"repo\": \"infrastructure\", \"createdAt\": \"2023-01-15T00:00:00\", \"count\": 1}, {\"repo\": \"infrastructure\", \"createdAt\": \"2023-01-22T00:00:00\", \"count\": 4}, {\"repo\": \"infrastructure\", \"createdAt\": \"2023-01-29T00:00:00\", \"count\": 15}, {\"repo\": \"infrastructure\", \"createdAt\": \"2023-02-05T00:00:00\", \"count\": 3}, {\"repo\": \"infrastructure\", \"createdAt\": \"2023-02-12T00:00:00\", \"count\": 11}, {\"repo\": \"infrastructure\", \"createdAt\": \"2023-02-19T00:00:00\", \"count\": 7}, {\"repo\": \"infrastructure\", \"createdAt\": \"2023-02-26T00:00:00\", \"count\": 2}, {\"repo\": \"infrastructure\", \"createdAt\": \"2023-03-05T00:00:00\", \"count\": 7}, {\"repo\": \"jupyter-book\", \"createdAt\": \"2022-12-18T00:00:00\", \"count\": 1}, {\"repo\": \"jupyter-remote-desktop-proxy\", \"createdAt\": \"2021-07-25T00:00:00\", \"count\": 1}, {\"repo\": \"jupyter-remote-desktop-proxy\", \"createdAt\": \"2021-08-01T00:00:00\", \"count\": 0}, {\"repo\": \"jupyter-remote-desktop-proxy\", \"createdAt\": \"2021-08-08T00:00:00\", \"count\": 0}, {\"repo\": \"jupyter-remote-desktop-proxy\", \"createdAt\": \"2021-08-15T00:00:00\", \"count\": 0}, {\"repo\": \"jupyter-remote-desktop-proxy\", \"createdAt\": \"2021-08-22T00:00:00\", \"count\": 0}, {\"repo\": \"jupyter-remote-desktop-proxy\", \"createdAt\": \"2021-08-29T00:00:00\", \"count\": 0}, {\"repo\": \"jupyter-remote-desktop-proxy\", \"createdAt\": \"2021-09-05T00:00:00\", \"count\": 0}, {\"repo\": \"jupyter-remote-desktop-proxy\", \"createdAt\": \"2021-09-12T00:00:00\", \"count\": 0}, {\"repo\": \"jupyter-remote-desktop-proxy\", \"createdAt\": \"2021-09-19T00:00:00\", \"count\": 0}, {\"repo\": \"jupyter-remote-desktop-proxy\", \"createdAt\": \"2021-09-26T00:00:00\", \"count\": 0}, {\"repo\": \"jupyter-remote-desktop-proxy\", \"createdAt\": \"2021-10-03T00:00:00\", \"count\": 0}, {\"repo\": \"jupyter-remote-desktop-proxy\", \"createdAt\": \"2021-10-10T00:00:00\", \"count\": 0}, {\"repo\": \"jupyter-remote-desktop-proxy\", \"createdAt\": \"2021-10-17T00:00:00\", \"count\": 0}, {\"repo\": \"jupyter-remote-desktop-proxy\", \"createdAt\": \"2021-10-24T00:00:00\", \"count\": 0}, {\"repo\": \"jupyter-remote-desktop-proxy\", \"createdAt\": \"2021-10-31T00:00:00\", \"count\": 0}, {\"repo\": \"jupyter-remote-desktop-proxy\", \"createdAt\": \"2021-11-07T00:00:00\", \"count\": 0}, {\"repo\": \"jupyter-remote-desktop-proxy\", \"createdAt\": \"2021-11-14T00:00:00\", \"count\": 0}, {\"repo\": \"jupyter-remote-desktop-proxy\", \"createdAt\": \"2021-11-21T00:00:00\", \"count\": 0}, {\"repo\": \"jupyter-remote-desktop-proxy\", \"createdAt\": \"2021-11-28T00:00:00\", \"count\": 0}, {\"repo\": \"jupyter-remote-desktop-proxy\", \"createdAt\": \"2021-12-05T00:00:00\", \"count\": 0}, {\"repo\": \"jupyter-remote-desktop-proxy\", \"createdAt\": \"2021-12-12T00:00:00\", \"count\": 0}, {\"repo\": \"jupyter-remote-desktop-proxy\", \"createdAt\": \"2021-12-19T00:00:00\", \"count\": 0}, {\"repo\": \"jupyter-remote-desktop-proxy\", \"createdAt\": \"2021-12-26T00:00:00\", \"count\": 0}, {\"repo\": \"jupyter-remote-desktop-proxy\", \"createdAt\": \"2022-01-02T00:00:00\", \"count\": 0}, {\"repo\": \"jupyter-remote-desktop-proxy\", \"createdAt\": \"2022-01-09T00:00:00\", \"count\": 0}, {\"repo\": \"jupyter-remote-desktop-proxy\", \"createdAt\": \"2022-01-16T00:00:00\", \"count\": 0}, {\"repo\": \"jupyter-remote-desktop-proxy\", \"createdAt\": \"2022-01-23T00:00:00\", \"count\": 0}, {\"repo\": \"jupyter-remote-desktop-proxy\", \"createdAt\": \"2022-01-30T00:00:00\", \"count\": 0}, {\"repo\": \"jupyter-remote-desktop-proxy\", \"createdAt\": \"2022-02-06T00:00:00\", \"count\": 0}, {\"repo\": \"jupyter-remote-desktop-proxy\", \"createdAt\": \"2022-02-13T00:00:00\", \"count\": 0}, {\"repo\": \"jupyter-remote-desktop-proxy\", \"createdAt\": \"2022-02-20T00:00:00\", \"count\": 0}, {\"repo\": \"jupyter-remote-desktop-proxy\", \"createdAt\": \"2022-02-27T00:00:00\", \"count\": 0}, {\"repo\": \"jupyter-remote-desktop-proxy\", \"createdAt\": \"2022-03-06T00:00:00\", \"count\": 0}, {\"repo\": \"jupyter-remote-desktop-proxy\", \"createdAt\": \"2022-03-13T00:00:00\", \"count\": 0}, {\"repo\": \"jupyter-remote-desktop-proxy\", \"createdAt\": \"2022-03-20T00:00:00\", \"count\": 0}, {\"repo\": \"jupyter-remote-desktop-proxy\", \"createdAt\": \"2022-03-27T00:00:00\", \"count\": 0}, {\"repo\": \"jupyter-remote-desktop-proxy\", \"createdAt\": \"2022-04-03T00:00:00\", \"count\": 0}, {\"repo\": \"jupyter-remote-desktop-proxy\", \"createdAt\": \"2022-04-10T00:00:00\", \"count\": 0}, {\"repo\": \"jupyter-remote-desktop-proxy\", \"createdAt\": \"2022-04-17T00:00:00\", \"count\": 0}, {\"repo\": \"jupyter-remote-desktop-proxy\", \"createdAt\": \"2022-04-24T00:00:00\", \"count\": 0}, {\"repo\": \"jupyter-remote-desktop-proxy\", \"createdAt\": \"2022-05-01T00:00:00\", \"count\": 0}, {\"repo\": \"jupyter-remote-desktop-proxy\", \"createdAt\": \"2022-05-08T00:00:00\", \"count\": 0}, {\"repo\": \"jupyter-remote-desktop-proxy\", \"createdAt\": \"2022-05-15T00:00:00\", \"count\": 0}, {\"repo\": \"jupyter-remote-desktop-proxy\", \"createdAt\": \"2022-05-22T00:00:00\", \"count\": 0}, {\"repo\": \"jupyter-remote-desktop-proxy\", \"createdAt\": \"2022-05-29T00:00:00\", \"count\": 0}, {\"repo\": \"jupyter-remote-desktop-proxy\", \"createdAt\": \"2022-06-05T00:00:00\", \"count\": 0}, {\"repo\": \"jupyter-remote-desktop-proxy\", \"createdAt\": \"2022-06-12T00:00:00\", \"count\": 0}, {\"repo\": \"jupyter-remote-desktop-proxy\", \"createdAt\": \"2022-06-19T00:00:00\", \"count\": 0}, {\"repo\": \"jupyter-remote-desktop-proxy\", \"createdAt\": \"2022-06-26T00:00:00\", \"count\": 0}, {\"repo\": \"jupyter-remote-desktop-proxy\", \"createdAt\": \"2022-07-03T00:00:00\", \"count\": 0}, {\"repo\": \"jupyter-remote-desktop-proxy\", \"createdAt\": \"2022-07-10T00:00:00\", \"count\": 0}, {\"repo\": \"jupyter-remote-desktop-proxy\", \"createdAt\": \"2022-07-17T00:00:00\", \"count\": 0}, {\"repo\": \"jupyter-remote-desktop-proxy\", \"createdAt\": \"2022-07-24T00:00:00\", \"count\": 0}, {\"repo\": \"jupyter-remote-desktop-proxy\", \"createdAt\": \"2022-07-31T00:00:00\", \"count\": 0}, {\"repo\": \"jupyter-remote-desktop-proxy\", \"createdAt\": \"2022-08-07T00:00:00\", \"count\": 0}, {\"repo\": \"jupyter-remote-desktop-proxy\", \"createdAt\": \"2022-08-14T00:00:00\", \"count\": 0}, {\"repo\": \"jupyter-remote-desktop-proxy\", \"createdAt\": \"2022-08-21T00:00:00\", \"count\": 0}, {\"repo\": \"jupyter-remote-desktop-proxy\", \"createdAt\": \"2022-08-28T00:00:00\", \"count\": 0}, {\"repo\": \"jupyter-remote-desktop-proxy\", \"createdAt\": \"2022-09-04T00:00:00\", \"count\": 0}, {\"repo\": \"jupyter-remote-desktop-proxy\", \"createdAt\": \"2022-09-11T00:00:00\", \"count\": 0}, {\"repo\": \"jupyter-remote-desktop-proxy\", \"createdAt\": \"2022-09-18T00:00:00\", \"count\": 0}, {\"repo\": \"jupyter-remote-desktop-proxy\", \"createdAt\": \"2022-09-25T00:00:00\", \"count\": 0}, {\"repo\": \"jupyter-remote-desktop-proxy\", \"createdAt\": \"2022-10-02T00:00:00\", \"count\": 0}, {\"repo\": \"jupyter-remote-desktop-proxy\", \"createdAt\": \"2022-10-09T00:00:00\", \"count\": 0}, {\"repo\": \"jupyter-remote-desktop-proxy\", \"createdAt\": \"2022-10-16T00:00:00\", \"count\": 0}, {\"repo\": \"jupyter-remote-desktop-proxy\", \"createdAt\": \"2022-10-23T00:00:00\", \"count\": 0}, {\"repo\": \"jupyter-remote-desktop-proxy\", \"createdAt\": \"2022-10-30T00:00:00\", \"count\": 0}, {\"repo\": \"jupyter-remote-desktop-proxy\", \"createdAt\": \"2022-11-06T00:00:00\", \"count\": 0}, {\"repo\": \"jupyter-remote-desktop-proxy\", \"createdAt\": \"2022-11-13T00:00:00\", \"count\": 0}, {\"repo\": \"jupyter-remote-desktop-proxy\", \"createdAt\": \"2022-11-20T00:00:00\", \"count\": 0}, {\"repo\": \"jupyter-remote-desktop-proxy\", \"createdAt\": \"2022-11-27T00:00:00\", \"count\": 0}, {\"repo\": \"jupyter-remote-desktop-proxy\", \"createdAt\": \"2022-12-04T00:00:00\", \"count\": 0}, {\"repo\": \"jupyter-remote-desktop-proxy\", \"createdAt\": \"2022-12-11T00:00:00\", \"count\": 0}, {\"repo\": \"jupyter-remote-desktop-proxy\", \"createdAt\": \"2022-12-18T00:00:00\", \"count\": 0}, {\"repo\": \"jupyter-remote-desktop-proxy\", \"createdAt\": \"2022-12-25T00:00:00\", \"count\": 0}, {\"repo\": \"jupyter-remote-desktop-proxy\", \"createdAt\": \"2023-01-01T00:00:00\", \"count\": 0}, {\"repo\": \"jupyter-remote-desktop-proxy\", \"createdAt\": \"2023-01-08T00:00:00\", \"count\": 0}, {\"repo\": \"jupyter-remote-desktop-proxy\", \"createdAt\": \"2023-01-15T00:00:00\", \"count\": 3}, {\"repo\": \"jupyter-server-proxy\", \"createdAt\": \"2023-01-01T00:00:00\", \"count\": 1}, {\"repo\": \"jupyter-server-proxy\", \"createdAt\": \"2023-01-08T00:00:00\", \"count\": 2}, {\"repo\": \"jupyterhub\", \"createdAt\": \"2022-12-11T00:00:00\", \"count\": 3}, {\"repo\": \"jupyterhub\", \"createdAt\": \"2022-12-18T00:00:00\", \"count\": 0}, {\"repo\": \"jupyterhub\", \"createdAt\": \"2022-12-25T00:00:00\", \"count\": 0}, {\"repo\": \"jupyterhub\", \"createdAt\": \"2023-01-01T00:00:00\", \"count\": 0}, {\"repo\": \"jupyterhub\", \"createdAt\": \"2023-01-08T00:00:00\", \"count\": 0}, {\"repo\": \"jupyterhub\", \"createdAt\": \"2023-01-15T00:00:00\", \"count\": 0}, {\"repo\": \"jupyterhub\", \"createdAt\": \"2023-01-22T00:00:00\", \"count\": 0}, {\"repo\": \"jupyterhub\", \"createdAt\": \"2023-01-29T00:00:00\", \"count\": 0}, {\"repo\": \"jupyterhub\", \"createdAt\": \"2023-02-05T00:00:00\", \"count\": 1}, {\"repo\": \"jupyterhub-idle-culler\", \"createdAt\": \"2023-02-19T00:00:00\", \"count\": 2}, {\"repo\": \"jupyterhub-python-repo-template\", \"createdAt\": \"2023-01-15T00:00:00\", \"count\": 3}, {\"repo\": \"kubespawner\", \"createdAt\": \"2022-12-11T00:00:00\", \"count\": 1}, {\"repo\": \"ltiauthenticator-ghsa-mcgx-2gcr-p3hp\", \"createdAt\": \"2022-06-05T00:00:00\", \"count\": 1}, {\"repo\": \"nbgitpuller\", \"createdAt\": \"2023-01-08T00:00:00\", \"count\": 1}, {\"repo\": \"oauthenticator\", \"createdAt\": \"2022-12-11T00:00:00\", \"count\": 2}, {\"repo\": \"oauthenticator\", \"createdAt\": \"2022-12-18T00:00:00\", \"count\": 0}, {\"repo\": \"oauthenticator\", \"createdAt\": \"2022-12-25T00:00:00\", \"count\": 0}, {\"repo\": \"oauthenticator\", \"createdAt\": \"2023-01-01T00:00:00\", \"count\": 0}, {\"repo\": \"oauthenticator\", \"createdAt\": \"2023-01-08T00:00:00\", \"count\": 0}, {\"repo\": \"oauthenticator\", \"createdAt\": \"2023-01-15T00:00:00\", \"count\": 0}, {\"repo\": \"oauthenticator\", \"createdAt\": \"2023-01-22T00:00:00\", \"count\": 1}, {\"repo\": \"sphinx-2i2c-theme\", \"createdAt\": \"2023-02-12T00:00:00\", \"count\": 1}, {\"repo\": \"team-compass\", \"createdAt\": \"2023-01-08T00:00:00\", \"count\": 2}, {\"repo\": \"the-littlest-jupyterhub\", \"createdAt\": \"2022-12-04T00:00:00\", \"count\": 1}, {\"repo\": \"zero-to-jupyterhub-k8s\", \"createdAt\": \"2022-12-25T00:00:00\", \"count\": 1}, {\"repo\": \"zero-to-jupyterhub-k8s\", \"createdAt\": \"2023-01-01T00:00:00\", \"count\": 0}, {\"repo\": \"zero-to-jupyterhub-k8s\", \"createdAt\": \"2023-01-08T00:00:00\", \"count\": 0}, {\"repo\": \"zero-to-jupyterhub-k8s\", \"createdAt\": \"2023-01-15T00:00:00\", \"count\": 0}, {\"repo\": \"zero-to-jupyterhub-k8s\", \"createdAt\": \"2023-01-22T00:00:00\", \"count\": 0}, {\"repo\": \"zero-to-jupyterhub-k8s\", \"createdAt\": \"2023-01-29T00:00:00\", \"count\": 0}, {\"repo\": \"zero-to-jupyterhub-k8s\", \"createdAt\": \"2023-02-05T00:00:00\", \"count\": 0}, {\"repo\": \"zero-to-jupyterhub-k8s\", \"createdAt\": \"2023-02-12T00:00:00\", \"count\": 1}, {\"repo\": \"zero-to-jupyterhub-k8s\", \"createdAt\": \"2023-02-19T00:00:00\", \"count\": 0}, {\"repo\": \"zero-to-jupyterhub-k8s\", \"createdAt\": \"2023-02-26T00:00:00\", \"count\": 0}, {\"repo\": \"zero-to-jupyterhub-k8s\", \"createdAt\": \"2023-03-05T00:00:00\", \"count\": 1}], \"data-57e2d777df46682aad43c9365ab10baa\": [{\"createdAt\": \"2021-07-25T00:00:00\", \"count\": 1}, {\"createdAt\": \"2021-08-01T00:00:00\", \"count\": 0}, {\"createdAt\": \"2021-08-08T00:00:00\", \"count\": 0}, {\"createdAt\": \"2021-08-15T00:00:00\", \"count\": 0}, {\"createdAt\": \"2021-08-22T00:00:00\", \"count\": 0}, {\"createdAt\": \"2021-08-29T00:00:00\", \"count\": 0}, {\"createdAt\": \"2021-09-05T00:00:00\", \"count\": 0}, {\"createdAt\": \"2021-09-12T00:00:00\", \"count\": 0}, {\"createdAt\": \"2021-09-19T00:00:00\", \"count\": 0}, {\"createdAt\": \"2021-09-26T00:00:00\", \"count\": 0}, {\"createdAt\": \"2021-10-03T00:00:00\", \"count\": 0}, {\"createdAt\": \"2021-10-10T00:00:00\", \"count\": 0}, {\"createdAt\": \"2021-10-17T00:00:00\", \"count\": 0}, {\"createdAt\": \"2021-10-24T00:00:00\", \"count\": 0}, {\"createdAt\": \"2021-10-31T00:00:00\", \"count\": 0}, {\"createdAt\": \"2021-11-07T00:00:00\", \"count\": 0}, {\"createdAt\": \"2021-11-14T00:00:00\", \"count\": 0}, {\"createdAt\": \"2021-11-21T00:00:00\", \"count\": 0}, {\"createdAt\": \"2021-11-28T00:00:00\", \"count\": 0}, {\"createdAt\": \"2021-12-05T00:00:00\", \"count\": 0}, {\"createdAt\": \"2021-12-12T00:00:00\", \"count\": 0}, {\"createdAt\": \"2021-12-19T00:00:00\", \"count\": 0}, {\"createdAt\": \"2021-12-26T00:00:00\", \"count\": 0}, {\"createdAt\": \"2022-01-02T00:00:00\", \"count\": 0}, {\"createdAt\": \"2022-01-09T00:00:00\", \"count\": 0}, {\"createdAt\": \"2022-01-16T00:00:00\", \"count\": 0}, {\"createdAt\": \"2022-01-23T00:00:00\", \"count\": 0}, {\"createdAt\": \"2022-01-30T00:00:00\", \"count\": 0}, {\"createdAt\": \"2022-02-06T00:00:00\", \"count\": 0}, {\"createdAt\": \"2022-02-13T00:00:00\", \"count\": 0}, {\"createdAt\": \"2022-02-20T00:00:00\", \"count\": 0}, {\"createdAt\": \"2022-02-27T00:00:00\", \"count\": 0}, {\"createdAt\": \"2022-03-06T00:00:00\", \"count\": 0}, {\"createdAt\": \"2022-03-13T00:00:00\", \"count\": 0}, {\"createdAt\": \"2022-03-20T00:00:00\", \"count\": 0}, {\"createdAt\": \"2022-03-27T00:00:00\", \"count\": 0}, {\"createdAt\": \"2022-04-03T00:00:00\", \"count\": 0}, {\"createdAt\": \"2022-04-10T00:00:00\", \"count\": 0}, {\"createdAt\": \"2022-04-17T00:00:00\", \"count\": 0}, {\"createdAt\": \"2022-04-24T00:00:00\", \"count\": 0}, {\"createdAt\": \"2022-05-01T00:00:00\", \"count\": 0}, {\"createdAt\": \"2022-05-08T00:00:00\", \"count\": 0}, {\"createdAt\": \"2022-05-15T00:00:00\", \"count\": 0}, {\"createdAt\": \"2022-05-22T00:00:00\", \"count\": 0}, {\"createdAt\": \"2022-05-29T00:00:00\", \"count\": 0}, {\"createdAt\": \"2022-06-05T00:00:00\", \"count\": 1}, {\"createdAt\": \"2022-06-12T00:00:00\", \"count\": 0}, {\"createdAt\": \"2022-06-19T00:00:00\", \"count\": 0}, {\"createdAt\": \"2022-06-26T00:00:00\", \"count\": 0}, {\"createdAt\": \"2022-07-03T00:00:00\", \"count\": 0}, {\"createdAt\": \"2022-07-10T00:00:00\", \"count\": 0}, {\"createdAt\": \"2022-07-17T00:00:00\", \"count\": 0}, {\"createdAt\": \"2022-07-24T00:00:00\", \"count\": 0}, {\"createdAt\": \"2022-07-31T00:00:00\", \"count\": 0}, {\"createdAt\": \"2022-08-07T00:00:00\", \"count\": 0}, {\"createdAt\": \"2022-08-14T00:00:00\", \"count\": 0}, {\"createdAt\": \"2022-08-21T00:00:00\", \"count\": 0}, {\"createdAt\": \"2022-08-28T00:00:00\", \"count\": 0}, {\"createdAt\": \"2022-09-04T00:00:00\", \"count\": 1}, {\"createdAt\": \"2022-09-11T00:00:00\", \"count\": 0}, {\"createdAt\": \"2022-09-18T00:00:00\", \"count\": 0}, {\"createdAt\": \"2022-09-25T00:00:00\", \"count\": 0}, {\"createdAt\": \"2022-10-02T00:00:00\", \"count\": 0}, {\"createdAt\": \"2022-10-09T00:00:00\", \"count\": 0}, {\"createdAt\": \"2022-10-16T00:00:00\", \"count\": 0}, {\"createdAt\": \"2022-10-23T00:00:00\", \"count\": 0}, {\"createdAt\": \"2022-10-30T00:00:00\", \"count\": 0}, {\"createdAt\": \"2022-11-06T00:00:00\", \"count\": 0}, {\"createdAt\": \"2022-11-13T00:00:00\", \"count\": 0}, {\"createdAt\": \"2022-11-20T00:00:00\", \"count\": 0}, {\"createdAt\": \"2022-11-27T00:00:00\", \"count\": 0}, {\"createdAt\": \"2022-12-04T00:00:00\", \"count\": 1}, {\"createdAt\": \"2022-12-11T00:00:00\", \"count\": 13}, {\"createdAt\": \"2022-12-18T00:00:00\", \"count\": 3}, {\"createdAt\": \"2022-12-25T00:00:00\", \"count\": 4}, {\"createdAt\": \"2023-01-01T00:00:00\", \"count\": 4}, {\"createdAt\": \"2023-01-08T00:00:00\", \"count\": 9}, {\"createdAt\": \"2023-01-15T00:00:00\", \"count\": 7}, {\"createdAt\": \"2023-01-22T00:00:00\", \"count\": 6}, {\"createdAt\": \"2023-01-29T00:00:00\", \"count\": 15}, {\"createdAt\": \"2023-02-05T00:00:00\", \"count\": 5}, {\"createdAt\": \"2023-02-12T00:00:00\", \"count\": 14}, {\"createdAt\": \"2023-02-19T00:00:00\", \"count\": 9}, {\"createdAt\": \"2023-02-26T00:00:00\", \"count\": 3}, {\"createdAt\": \"2023-03-05T00:00:00\", \"count\": 8}]}}, {\"mode\": \"vega-lite\"});\n",
       "</script>"
      ],
      "text/plain": [
       "alt.LayerChart(...)"
      ]
     },
     "execution_count": 15,
     "metadata": {},
     "output_type": "execute_result"
    }
   ],
   "source": [
    "prs_time = prs.groupby('repo').resample('W', on='createdAt').count()['author'].reset_index()\n",
    "prs_time = prs_time.rename(columns={'author': 'count'})\n",
    "prs_time_total = prs_time.groupby('createdAt').agg({\"count\": \"sum\"}).reset_index()\n",
    "\n",
    "ch1 = alt.Chart(prs_time, width=600).mark_line().encode(\n",
    "    x='createdAt',\n",
    "    y='count',\n",
    "    color='repo',\n",
    "    tooltip=\"repo\"\n",
    ")\n",
    "\n",
    "ch2 = alt.Chart(prs_time_total, width=600).mark_line(color=\"black\").encode(\n",
    "    x='createdAt',\n",
    "    y='count',\n",
    ")\n",
    "\n",
    "ch1 + ch2"
   ]
  },
  {
   "cell_type": "code",
   "execution_count": 16,
   "id": "c58aeedb",
   "metadata": {
    "execution": {
     "iopub.execute_input": "2023-03-06T14:44:51.979785Z",
     "iopub.status.busy": "2023-03-06T14:44:51.979077Z",
     "iopub.status.idle": "2023-03-06T14:44:52.169246Z",
     "shell.execute_reply": "2023-03-06T14:44:52.168450Z"
    },
    "papermill": {
     "duration": 0.199434,
     "end_time": "2023-03-06T14:44:52.171396",
     "exception": false,
     "start_time": "2023-03-06T14:44:51.971962",
     "status": "completed"
    },
    "tags": [
     "hide_input"
    ]
   },
   "outputs": [
    {
     "data": {
      "text/html": [
       "\n",
       "<div id=\"altair-viz-a488e6eb6f0d443eb0625eb7cb8dcb4e\"></div>\n",
       "<script type=\"text/javascript\">\n",
       "  var VEGA_DEBUG = (typeof VEGA_DEBUG == \"undefined\") ? {} : VEGA_DEBUG;\n",
       "  (function(spec, embedOpt){\n",
       "    let outputDiv = document.currentScript.previousElementSibling;\n",
       "    if (outputDiv.id !== \"altair-viz-a488e6eb6f0d443eb0625eb7cb8dcb4e\") {\n",
       "      outputDiv = document.getElementById(\"altair-viz-a488e6eb6f0d443eb0625eb7cb8dcb4e\");\n",
       "    }\n",
       "    const paths = {\n",
       "      \"vega\": \"https://cdn.jsdelivr.net/npm//vega@5?noext\",\n",
       "      \"vega-lib\": \"https://cdn.jsdelivr.net/npm//vega-lib?noext\",\n",
       "      \"vega-lite\": \"https://cdn.jsdelivr.net/npm//vega-lite@4.17.0?noext\",\n",
       "      \"vega-embed\": \"https://cdn.jsdelivr.net/npm//vega-embed@6?noext\",\n",
       "    };\n",
       "\n",
       "    function maybeLoadScript(lib, version) {\n",
       "      var key = `${lib.replace(\"-\", \"\")}_version`;\n",
       "      return (VEGA_DEBUG[key] == version) ?\n",
       "        Promise.resolve(paths[lib]) :\n",
       "        new Promise(function(resolve, reject) {\n",
       "          var s = document.createElement('script');\n",
       "          document.getElementsByTagName(\"head\")[0].appendChild(s);\n",
       "          s.async = true;\n",
       "          s.onload = () => {\n",
       "            VEGA_DEBUG[key] = version;\n",
       "            return resolve(paths[lib]);\n",
       "          };\n",
       "          s.onerror = () => reject(`Error loading script: ${paths[lib]}`);\n",
       "          s.src = paths[lib];\n",
       "        });\n",
       "    }\n",
       "\n",
       "    function showError(err) {\n",
       "      outputDiv.innerHTML = `<div class=\"error\" style=\"color:red;\">${err}</div>`;\n",
       "      throw err;\n",
       "    }\n",
       "\n",
       "    function displayChart(vegaEmbed) {\n",
       "      vegaEmbed(outputDiv, spec, embedOpt)\n",
       "        .catch(err => showError(`Javascript Error: ${err.message}<br>This usually means there's a typo in your chart specification. See the javascript console for the full traceback.`));\n",
       "    }\n",
       "\n",
       "    if(typeof define === \"function\" && define.amd) {\n",
       "      requirejs.config({paths});\n",
       "      require([\"vega-embed\"], displayChart, err => showError(`Error loading script: ${err.message}`));\n",
       "    } else {\n",
       "      maybeLoadScript(\"vega\", \"5\")\n",
       "        .then(() => maybeLoadScript(\"vega-lite\", \"4.17.0\"))\n",
       "        .then(() => maybeLoadScript(\"vega-embed\", \"6\"))\n",
       "        .catch(showError)\n",
       "        .then(() => displayChart(vegaEmbed));\n",
       "    }\n",
       "  })({\"config\": {\"axisLeft\": {\"labelFontSize\": 15}, \"axisBottom\": {\"labelFontSize\": 15}}, \"data\": {\"name\": \"data-2f63c455553f78743675da308ab3c09e\"}, \"mark\": \"line\", \"encoding\": {\"color\": {\"field\": \"repo\", \"type\": \"nominal\"}, \"tooltip\": {\"field\": \"repo\", \"type\": \"nominal\"}, \"x\": {\"field\": \"closedAt\", \"type\": \"temporal\"}, \"y\": {\"field\": \"count\", \"type\": \"quantitative\"}}, \"width\": 600, \"$schema\": \"https://vega.github.io/schema/vega-lite/v4.17.0.json\", \"datasets\": {\"data-2f63c455553f78743675da308ab3c09e\": [{\"repo\": \"2i2c-hubs-image\", \"closedAt\": \"2023-02-19T00:00:00\", \"count\": 2}, {\"repo\": \"action-k3s-helm\", \"closedAt\": \"2023-01-01T00:00:00\", \"count\": 2}, {\"repo\": \"action-k8s-await-workloads\", \"closedAt\": \"2023-01-01T00:00:00\", \"count\": 3}, {\"repo\": \"action-k8s-namespace-report\", \"closedAt\": \"2023-01-01T00:00:00\", \"count\": 1}, {\"repo\": \"autodoc-traits\", \"closedAt\": \"2022-12-11T00:00:00\", \"count\": 3}, {\"repo\": \"autodoc-traits\", \"closedAt\": \"2022-12-18T00:00:00\", \"count\": 1}, {\"repo\": \"autodoc-traits\", \"closedAt\": \"2022-12-25T00:00:00\", \"count\": 1}, {\"repo\": \"binderhub\", \"closedAt\": \"2022-12-18T00:00:00\", \"count\": 6}, {\"repo\": \"binderhub\", \"closedAt\": \"2022-12-25T00:00:00\", \"count\": 2}, {\"repo\": \"binderhub\", \"closedAt\": \"2023-01-01T00:00:00\", \"count\": 4}, {\"repo\": \"binderhub\", \"closedAt\": \"2023-01-08T00:00:00\", \"count\": 5}, {\"repo\": \"binderhub\", \"closedAt\": \"2023-01-15T00:00:00\", \"count\": 3}, {\"repo\": \"binderhub\", \"closedAt\": \"2023-01-22T00:00:00\", \"count\": 2}, {\"repo\": \"binderhub\", \"closedAt\": \"2023-01-29T00:00:00\", \"count\": 0}, {\"repo\": \"binderhub\", \"closedAt\": \"2023-02-05T00:00:00\", \"count\": 0}, {\"repo\": \"binderhub\", \"closedAt\": \"2023-02-12T00:00:00\", \"count\": 3}, {\"repo\": \"binderhub\", \"closedAt\": \"2023-02-19T00:00:00\", \"count\": 0}, {\"repo\": \"binderhub\", \"closedAt\": \"2023-02-26T00:00:00\", \"count\": 1}, {\"repo\": \"binderhub\", \"closedAt\": \"2023-03-05T00:00:00\", \"count\": 2}, {\"repo\": \"default-hub-homepage\", \"closedAt\": \"2023-02-19T00:00:00\", \"count\": 1}, {\"repo\": \"docker-image-cleaner\", \"closedAt\": \"2022-12-25T00:00:00\", \"count\": 2}, {\"repo\": \"docker-stacks\", \"closedAt\": \"2023-01-29T00:00:00\", \"count\": 1}, {\"repo\": \"grafana-dashboards\", \"closedAt\": \"2023-01-15T00:00:00\", \"count\": 1}, {\"repo\": \"grafana-dashboards\", \"closedAt\": \"2023-01-22T00:00:00\", \"count\": 1}, {\"repo\": \"grafana-dashboards\", \"closedAt\": \"2023-01-29T00:00:00\", \"count\": 0}, {\"repo\": \"grafana-dashboards\", \"closedAt\": \"2023-02-05T00:00:00\", \"count\": 0}, {\"repo\": \"grafana-dashboards\", \"closedAt\": \"2023-02-12T00:00:00\", \"count\": 0}, {\"repo\": \"grafana-dashboards\", \"closedAt\": \"2023-02-19T00:00:00\", \"count\": 3}, {\"repo\": \"infrastructure\", \"closedAt\": \"2022-12-18T00:00:00\", \"count\": 1}, {\"repo\": \"infrastructure\", \"closedAt\": \"2022-12-25T00:00:00\", \"count\": 0}, {\"repo\": \"infrastructure\", \"closedAt\": \"2023-01-01T00:00:00\", \"count\": 0}, {\"repo\": \"infrastructure\", \"closedAt\": \"2023-01-08T00:00:00\", \"count\": 3}, {\"repo\": \"infrastructure\", \"closedAt\": \"2023-01-15T00:00:00\", \"count\": 2}, {\"repo\": \"infrastructure\", \"closedAt\": \"2023-01-22T00:00:00\", \"count\": 5}, {\"repo\": \"infrastructure\", \"closedAt\": \"2023-01-29T00:00:00\", \"count\": 15}, {\"repo\": \"infrastructure\", \"closedAt\": \"2023-02-05T00:00:00\", \"count\": 7}, {\"repo\": \"infrastructure\", \"closedAt\": \"2023-02-12T00:00:00\", \"count\": 13}, {\"repo\": \"infrastructure\", \"closedAt\": \"2023-02-19T00:00:00\", \"count\": 11}, {\"repo\": \"infrastructure\", \"closedAt\": \"2023-02-26T00:00:00\", \"count\": 6}, {\"repo\": \"infrastructure\", \"closedAt\": \"2023-03-05T00:00:00\", \"count\": 16}, {\"repo\": \"jupyter-remote-desktop-proxy\", \"closedAt\": \"2023-01-15T00:00:00\", \"count\": 3}, {\"repo\": \"jupyter-server-proxy\", \"closedAt\": \"2022-12-18T00:00:00\", \"count\": 1}, {\"repo\": \"jupyter-server-proxy\", \"closedAt\": \"2022-12-25T00:00:00\", \"count\": 0}, {\"repo\": \"jupyter-server-proxy\", \"closedAt\": \"2023-01-01T00:00:00\", \"count\": 1}, {\"repo\": \"jupyter-server-proxy\", \"closedAt\": \"2023-01-08T00:00:00\", \"count\": 3}, {\"repo\": \"jupyter-server-proxy\", \"closedAt\": \"2023-01-15T00:00:00\", \"count\": 1}, {\"repo\": \"jupyter-server-proxy\", \"closedAt\": \"2023-01-22T00:00:00\", \"count\": 1}, {\"repo\": \"jupyterhub\", \"closedAt\": \"2022-12-11T00:00:00\", \"count\": 2}, {\"repo\": \"jupyterhub\", \"closedAt\": \"2022-12-18T00:00:00\", \"count\": 3}, {\"repo\": \"jupyterhub\", \"closedAt\": \"2022-12-25T00:00:00\", \"count\": 1}, {\"repo\": \"jupyterhub\", \"closedAt\": \"2023-01-01T00:00:00\", \"count\": 0}, {\"repo\": \"jupyterhub\", \"closedAt\": \"2023-01-08T00:00:00\", \"count\": 0}, {\"repo\": \"jupyterhub\", \"closedAt\": \"2023-01-15T00:00:00\", \"count\": 1}, {\"repo\": \"jupyterhub\", \"closedAt\": \"2023-01-22T00:00:00\", \"count\": 2}, {\"repo\": \"jupyterhub\", \"closedAt\": \"2023-01-29T00:00:00\", \"count\": 1}, {\"repo\": \"jupyterhub\", \"closedAt\": \"2023-02-05T00:00:00\", \"count\": 3}, {\"repo\": \"jupyterhub\", \"closedAt\": \"2023-02-12T00:00:00\", \"count\": 0}, {\"repo\": \"jupyterhub\", \"closedAt\": \"2023-02-19T00:00:00\", \"count\": 2}, {\"repo\": \"jupyterhub\", \"closedAt\": \"2023-02-26T00:00:00\", \"count\": 0}, {\"repo\": \"jupyterhub\", \"closedAt\": \"2023-03-05T00:00:00\", \"count\": 1}, {\"repo\": \"jupyterhub-idle-culler\", \"closedAt\": \"2022-12-25T00:00:00\", \"count\": 2}, {\"repo\": \"kubespawner\", \"closedAt\": \"2023-01-15T00:00:00\", \"count\": 1}, {\"repo\": \"kubespawner\", \"closedAt\": \"2023-01-22T00:00:00\", \"count\": 2}, {\"repo\": \"ltiauthenticator\", \"closedAt\": \"2023-02-19T00:00:00\", \"count\": 2}, {\"repo\": \"ltiauthenticator\", \"closedAt\": \"2023-02-26T00:00:00\", \"count\": 2}, {\"repo\": \"ltiauthenticator\", \"closedAt\": \"2023-03-05T00:00:00\", \"count\": 1}, {\"repo\": \"ltiauthenticator-ghsa-mcgx-2gcr-p3hp\", \"closedAt\": \"2023-02-19T00:00:00\", \"count\": 1}, {\"repo\": \"mybinder.org-user-guide\", \"closedAt\": \"2023-01-08T00:00:00\", \"count\": 1}, {\"repo\": \"oauthenticator\", \"closedAt\": \"2022-12-25T00:00:00\", \"count\": 1}, {\"repo\": \"oauthenticator\", \"closedAt\": \"2023-01-01T00:00:00\", \"count\": 0}, {\"repo\": \"oauthenticator\", \"closedAt\": \"2023-01-08T00:00:00\", \"count\": 0}, {\"repo\": \"oauthenticator\", \"closedAt\": \"2023-01-15T00:00:00\", \"count\": 0}, {\"repo\": \"oauthenticator\", \"closedAt\": \"2023-01-22T00:00:00\", \"count\": 2}, {\"repo\": \"pytest-jupyterhub\", \"closedAt\": \"2023-02-05T00:00:00\", \"count\": 2}, {\"repo\": \"repo2docker\", \"closedAt\": \"2023-01-08T00:00:00\", \"count\": 1}, {\"repo\": \"repo2docker\", \"closedAt\": \"2023-01-15T00:00:00\", \"count\": 0}, {\"repo\": \"repo2docker\", \"closedAt\": \"2023-01-22T00:00:00\", \"count\": 0}, {\"repo\": \"repo2docker\", \"closedAt\": \"2023-01-29T00:00:00\", \"count\": 0}, {\"repo\": \"repo2docker\", \"closedAt\": \"2023-02-05T00:00:00\", \"count\": 0}, {\"repo\": \"repo2docker\", \"closedAt\": \"2023-02-12T00:00:00\", \"count\": 0}, {\"repo\": \"repo2docker\", \"closedAt\": \"2023-02-19T00:00:00\", \"count\": 1}, {\"repo\": \"repo2docker-action\", \"closedAt\": \"2023-01-22T00:00:00\", \"count\": 1}, {\"repo\": \"sphinx-autobuild\", \"closedAt\": \"2023-01-01T00:00:00\", \"count\": 1}, {\"repo\": \"team-compass\", \"closedAt\": \"2022-12-11T00:00:00\", \"count\": 1}, {\"repo\": \"team-compass\", \"closedAt\": \"2022-12-18T00:00:00\", \"count\": 0}, {\"repo\": \"team-compass\", \"closedAt\": \"2022-12-25T00:00:00\", \"count\": 0}, {\"repo\": \"team-compass\", \"closedAt\": \"2023-01-01T00:00:00\", \"count\": 0}, {\"repo\": \"team-compass\", \"closedAt\": \"2023-01-08T00:00:00\", \"count\": 1}, {\"repo\": \"team-compass\", \"closedAt\": \"2023-01-15T00:00:00\", \"count\": 1}, {\"repo\": \"team-compass\", \"closedAt\": \"2023-01-22T00:00:00\", \"count\": 0}, {\"repo\": \"team-compass\", \"closedAt\": \"2023-01-29T00:00:00\", \"count\": 0}, {\"repo\": \"team-compass\", \"closedAt\": \"2023-02-05T00:00:00\", \"count\": 0}, {\"repo\": \"team-compass\", \"closedAt\": \"2023-02-12T00:00:00\", \"count\": 1}, {\"repo\": \"team-compass\", \"closedAt\": \"2023-02-19T00:00:00\", \"count\": 0}, {\"repo\": \"team-compass\", \"closedAt\": \"2023-02-26T00:00:00\", \"count\": 3}, {\"repo\": \"the-littlest-jupyterhub\", \"closedAt\": \"2022-12-18T00:00:00\", \"count\": 1}, {\"repo\": \"the-littlest-jupyterhub\", \"closedAt\": \"2022-12-25T00:00:00\", \"count\": 0}, {\"repo\": \"the-littlest-jupyterhub\", \"closedAt\": \"2023-01-01T00:00:00\", \"count\": 0}, {\"repo\": \"the-littlest-jupyterhub\", \"closedAt\": \"2023-01-08T00:00:00\", \"count\": 0}, {\"repo\": \"the-littlest-jupyterhub\", \"closedAt\": \"2023-01-15T00:00:00\", \"count\": 0}, {\"repo\": \"the-littlest-jupyterhub\", \"closedAt\": \"2023-01-22T00:00:00\", \"count\": 0}, {\"repo\": \"the-littlest-jupyterhub\", \"closedAt\": \"2023-01-29T00:00:00\", \"count\": 0}, {\"repo\": \"the-littlest-jupyterhub\", \"closedAt\": \"2023-02-05T00:00:00\", \"count\": 0}, {\"repo\": \"the-littlest-jupyterhub\", \"closedAt\": \"2023-02-12T00:00:00\", \"count\": 2}, {\"repo\": \"traefik-proxy\", \"closedAt\": \"2023-02-26T00:00:00\", \"count\": 1}, {\"repo\": \"zero-to-jupyterhub-k8s\", \"closedAt\": \"2022-12-11T00:00:00\", \"count\": 4}, {\"repo\": \"zero-to-jupyterhub-k8s\", \"closedAt\": \"2022-12-18T00:00:00\", \"count\": 0}, {\"repo\": \"zero-to-jupyterhub-k8s\", \"closedAt\": \"2022-12-25T00:00:00\", \"count\": 4}, {\"repo\": \"zero-to-jupyterhub-k8s\", \"closedAt\": \"2023-01-01T00:00:00\", \"count\": 0}, {\"repo\": \"zero-to-jupyterhub-k8s\", \"closedAt\": \"2023-01-08T00:00:00\", \"count\": 0}, {\"repo\": \"zero-to-jupyterhub-k8s\", \"closedAt\": \"2023-01-15T00:00:00\", \"count\": 3}, {\"repo\": \"zero-to-jupyterhub-k8s\", \"closedAt\": \"2023-01-22T00:00:00\", \"count\": 1}, {\"repo\": \"zero-to-jupyterhub-k8s\", \"closedAt\": \"2023-01-29T00:00:00\", \"count\": 1}, {\"repo\": \"zero-to-jupyterhub-k8s\", \"closedAt\": \"2023-02-05T00:00:00\", \"count\": 2}, {\"repo\": \"zero-to-jupyterhub-k8s\", \"closedAt\": \"2023-02-12T00:00:00\", \"count\": 4}, {\"repo\": \"zero-to-jupyterhub-k8s\", \"closedAt\": \"2023-02-19T00:00:00\", \"count\": 6}, {\"repo\": \"zero-to-jupyterhub-k8s\", \"closedAt\": \"2023-02-26T00:00:00\", \"count\": 3}, {\"repo\": \"zero-to-jupyterhub-k8s\", \"closedAt\": \"2023-03-05T00:00:00\", \"count\": 6}]}}, {\"mode\": \"vega-lite\"});\n",
       "</script>"
      ],
      "text/plain": [
       "alt.Chart(...)"
      ]
     },
     "execution_count": 16,
     "metadata": {},
     "output_type": "execute_result"
    }
   ],
   "source": [
    "closed_by_time = closed_by.groupby('repo').resample('W', on='closedAt').count()['author'].reset_index()\n",
    "closed_by_time = closed_by_time.rename(columns={'author': 'count'})\n",
    "\n",
    "alt.Chart(closed_by_time, width=600).mark_line().encode(\n",
    "    x='closedAt',\n",
    "    y='count',\n",
    "    color='repo',\n",
    "    tooltip=\"repo\"\n",
    ")"
   ]
  },
  {
   "cell_type": "markdown",
   "id": "0c348fb4",
   "metadata": {
    "papermill": {
     "duration": 0.006541,
     "end_time": "2023-03-06T14:44:52.184405",
     "exception": false,
     "start_time": "2023-03-06T14:44:52.177864",
     "status": "completed"
    },
    "tags": []
   },
   "source": [
    "## By type over time"
   ]
  },
  {
   "cell_type": "code",
   "execution_count": 17,
   "id": "01be39a4",
   "metadata": {
    "execution": {
     "iopub.execute_input": "2023-03-06T14:44:52.201226Z",
     "iopub.status.busy": "2023-03-06T14:44:52.200551Z",
     "iopub.status.idle": "2023-03-06T14:44:52.222180Z",
     "shell.execute_reply": "2023-03-06T14:44:52.221548Z"
    },
    "papermill": {
     "duration": 0.032507,
     "end_time": "2023-03-06T14:44:52.223794",
     "exception": false,
     "start_time": "2023-03-06T14:44:52.191287",
     "status": "completed"
    },
    "tags": [
     "remove_cell"
    ]
   },
   "outputs": [],
   "source": [
    "prs_time = prs[['author', 'createdAt']].resample('W', on='createdAt').count()['author'].reset_index()\n",
    "prs_time = prs_time.rename(columns={'author': 'prs'})\n",
    "comments_time = comments[['author', 'createdAt']].resample('W', on='createdAt').count()['author'].reset_index()\n",
    "comments_time = comments_time.rename(columns={'author': 'comments'})\n",
    "\n",
    "total_time = pd.merge(prs_time, comments_time, on='createdAt', how='outer')\n",
    "total_time = total_time.melt(id_vars='createdAt', var_name=\"kind\", value_name=\"count\")\n"
   ]
  },
  {
   "cell_type": "code",
   "execution_count": 18,
   "id": "86a6b41d",
   "metadata": {
    "execution": {
     "iopub.execute_input": "2023-03-06T14:44:52.237748Z",
     "iopub.status.busy": "2023-03-06T14:44:52.237266Z",
     "iopub.status.idle": "2023-03-06T14:44:52.283373Z",
     "shell.execute_reply": "2023-03-06T14:44:52.282633Z"
    },
    "papermill": {
     "duration": 0.055588,
     "end_time": "2023-03-06T14:44:52.285650",
     "exception": false,
     "start_time": "2023-03-06T14:44:52.230062",
     "status": "completed"
    },
    "tags": [
     "hide_input"
    ]
   },
   "outputs": [
    {
     "data": {
      "text/html": [
       "\n",
       "<div id=\"altair-viz-df5c6d68b0274637b77c681a49d461c4\"></div>\n",
       "<script type=\"text/javascript\">\n",
       "  var VEGA_DEBUG = (typeof VEGA_DEBUG == \"undefined\") ? {} : VEGA_DEBUG;\n",
       "  (function(spec, embedOpt){\n",
       "    let outputDiv = document.currentScript.previousElementSibling;\n",
       "    if (outputDiv.id !== \"altair-viz-df5c6d68b0274637b77c681a49d461c4\") {\n",
       "      outputDiv = document.getElementById(\"altair-viz-df5c6d68b0274637b77c681a49d461c4\");\n",
       "    }\n",
       "    const paths = {\n",
       "      \"vega\": \"https://cdn.jsdelivr.net/npm//vega@5?noext\",\n",
       "      \"vega-lib\": \"https://cdn.jsdelivr.net/npm//vega-lib?noext\",\n",
       "      \"vega-lite\": \"https://cdn.jsdelivr.net/npm//vega-lite@4.17.0?noext\",\n",
       "      \"vega-embed\": \"https://cdn.jsdelivr.net/npm//vega-embed@6?noext\",\n",
       "    };\n",
       "\n",
       "    function maybeLoadScript(lib, version) {\n",
       "      var key = `${lib.replace(\"-\", \"\")}_version`;\n",
       "      return (VEGA_DEBUG[key] == version) ?\n",
       "        Promise.resolve(paths[lib]) :\n",
       "        new Promise(function(resolve, reject) {\n",
       "          var s = document.createElement('script');\n",
       "          document.getElementsByTagName(\"head\")[0].appendChild(s);\n",
       "          s.async = true;\n",
       "          s.onload = () => {\n",
       "            VEGA_DEBUG[key] = version;\n",
       "            return resolve(paths[lib]);\n",
       "          };\n",
       "          s.onerror = () => reject(`Error loading script: ${paths[lib]}`);\n",
       "          s.src = paths[lib];\n",
       "        });\n",
       "    }\n",
       "\n",
       "    function showError(err) {\n",
       "      outputDiv.innerHTML = `<div class=\"error\" style=\"color:red;\">${err}</div>`;\n",
       "      throw err;\n",
       "    }\n",
       "\n",
       "    function displayChart(vegaEmbed) {\n",
       "      vegaEmbed(outputDiv, spec, embedOpt)\n",
       "        .catch(err => showError(`Javascript Error: ${err.message}<br>This usually means there's a typo in your chart specification. See the javascript console for the full traceback.`));\n",
       "    }\n",
       "\n",
       "    if(typeof define === \"function\" && define.amd) {\n",
       "      requirejs.config({paths});\n",
       "      require([\"vega-embed\"], displayChart, err => showError(`Error loading script: ${err.message}`));\n",
       "    } else {\n",
       "      maybeLoadScript(\"vega\", \"5\")\n",
       "        .then(() => maybeLoadScript(\"vega-lite\", \"4.17.0\"))\n",
       "        .then(() => maybeLoadScript(\"vega-embed\", \"6\"))\n",
       "        .catch(showError)\n",
       "        .then(() => displayChart(vegaEmbed));\n",
       "    }\n",
       "  })({\"config\": {\"axisLeft\": {\"labelFontSize\": 15}, \"axisBottom\": {\"labelFontSize\": 15}}, \"data\": {\"name\": \"data-e938d3db68930bd293131ab9208b3e36\"}, \"mark\": \"line\", \"encoding\": {\"color\": {\"field\": \"kind\", \"type\": \"nominal\"}, \"x\": {\"field\": \"createdAt\", \"type\": \"temporal\"}, \"y\": {\"field\": \"count\", \"type\": \"quantitative\"}}, \"width\": 600, \"$schema\": \"https://vega.github.io/schema/vega-lite/v4.17.0.json\", \"datasets\": {\"data-e938d3db68930bd293131ab9208b3e36\": [{\"createdAt\": \"2021-07-25T00:00:00\", \"kind\": \"prs\", \"count\": 1.0}, {\"createdAt\": \"2021-08-01T00:00:00\", \"kind\": \"prs\", \"count\": 0.0}, {\"createdAt\": \"2021-08-08T00:00:00\", \"kind\": \"prs\", \"count\": 0.0}, {\"createdAt\": \"2021-08-15T00:00:00\", \"kind\": \"prs\", \"count\": 0.0}, {\"createdAt\": \"2021-08-22T00:00:00\", \"kind\": \"prs\", \"count\": 0.0}, {\"createdAt\": \"2021-08-29T00:00:00\", \"kind\": \"prs\", \"count\": 0.0}, {\"createdAt\": \"2021-09-05T00:00:00\", \"kind\": \"prs\", \"count\": 0.0}, {\"createdAt\": \"2021-09-12T00:00:00\", \"kind\": \"prs\", \"count\": 0.0}, {\"createdAt\": \"2021-09-19T00:00:00\", \"kind\": \"prs\", \"count\": 0.0}, {\"createdAt\": \"2021-09-26T00:00:00\", \"kind\": \"prs\", \"count\": 0.0}, {\"createdAt\": \"2021-10-03T00:00:00\", \"kind\": \"prs\", \"count\": 0.0}, {\"createdAt\": \"2021-10-10T00:00:00\", \"kind\": \"prs\", \"count\": 0.0}, {\"createdAt\": \"2021-10-17T00:00:00\", \"kind\": \"prs\", \"count\": 0.0}, {\"createdAt\": \"2021-10-24T00:00:00\", \"kind\": \"prs\", \"count\": 0.0}, {\"createdAt\": \"2021-10-31T00:00:00\", \"kind\": \"prs\", \"count\": 0.0}, {\"createdAt\": \"2021-11-07T00:00:00\", \"kind\": \"prs\", \"count\": 0.0}, {\"createdAt\": \"2021-11-14T00:00:00\", \"kind\": \"prs\", \"count\": 0.0}, {\"createdAt\": \"2021-11-21T00:00:00\", \"kind\": \"prs\", \"count\": 0.0}, {\"createdAt\": \"2021-11-28T00:00:00\", \"kind\": \"prs\", \"count\": 0.0}, {\"createdAt\": \"2021-12-05T00:00:00\", \"kind\": \"prs\", \"count\": 0.0}, {\"createdAt\": \"2021-12-12T00:00:00\", \"kind\": \"prs\", \"count\": 0.0}, {\"createdAt\": \"2021-12-19T00:00:00\", \"kind\": \"prs\", \"count\": 0.0}, {\"createdAt\": \"2021-12-26T00:00:00\", \"kind\": \"prs\", \"count\": 0.0}, {\"createdAt\": \"2022-01-02T00:00:00\", \"kind\": \"prs\", \"count\": 0.0}, {\"createdAt\": \"2022-01-09T00:00:00\", \"kind\": \"prs\", \"count\": 0.0}, {\"createdAt\": \"2022-01-16T00:00:00\", \"kind\": \"prs\", \"count\": 0.0}, {\"createdAt\": \"2022-01-23T00:00:00\", \"kind\": \"prs\", \"count\": 0.0}, {\"createdAt\": \"2022-01-30T00:00:00\", \"kind\": \"prs\", \"count\": 0.0}, {\"createdAt\": \"2022-02-06T00:00:00\", \"kind\": \"prs\", \"count\": 0.0}, {\"createdAt\": \"2022-02-13T00:00:00\", \"kind\": \"prs\", \"count\": 0.0}, {\"createdAt\": \"2022-02-20T00:00:00\", \"kind\": \"prs\", \"count\": 0.0}, {\"createdAt\": \"2022-02-27T00:00:00\", \"kind\": \"prs\", \"count\": 0.0}, {\"createdAt\": \"2022-03-06T00:00:00\", \"kind\": \"prs\", \"count\": 0.0}, {\"createdAt\": \"2022-03-13T00:00:00\", \"kind\": \"prs\", \"count\": 0.0}, {\"createdAt\": \"2022-03-20T00:00:00\", \"kind\": \"prs\", \"count\": 0.0}, {\"createdAt\": \"2022-03-27T00:00:00\", \"kind\": \"prs\", \"count\": 0.0}, {\"createdAt\": \"2022-04-03T00:00:00\", \"kind\": \"prs\", \"count\": 0.0}, {\"createdAt\": \"2022-04-10T00:00:00\", \"kind\": \"prs\", \"count\": 0.0}, {\"createdAt\": \"2022-04-17T00:00:00\", \"kind\": \"prs\", \"count\": 0.0}, {\"createdAt\": \"2022-04-24T00:00:00\", \"kind\": \"prs\", \"count\": 0.0}, {\"createdAt\": \"2022-05-01T00:00:00\", \"kind\": \"prs\", \"count\": 0.0}, {\"createdAt\": \"2022-05-08T00:00:00\", \"kind\": \"prs\", \"count\": 0.0}, {\"createdAt\": \"2022-05-15T00:00:00\", \"kind\": \"prs\", \"count\": 0.0}, {\"createdAt\": \"2022-05-22T00:00:00\", \"kind\": \"prs\", \"count\": 0.0}, {\"createdAt\": \"2022-05-29T00:00:00\", \"kind\": \"prs\", \"count\": 0.0}, {\"createdAt\": \"2022-06-05T00:00:00\", \"kind\": \"prs\", \"count\": 1.0}, {\"createdAt\": \"2022-06-12T00:00:00\", \"kind\": \"prs\", \"count\": 0.0}, {\"createdAt\": \"2022-06-19T00:00:00\", \"kind\": \"prs\", \"count\": 0.0}, {\"createdAt\": \"2022-06-26T00:00:00\", \"kind\": \"prs\", \"count\": 0.0}, {\"createdAt\": \"2022-07-03T00:00:00\", \"kind\": \"prs\", \"count\": 0.0}, {\"createdAt\": \"2022-07-10T00:00:00\", \"kind\": \"prs\", \"count\": 0.0}, {\"createdAt\": \"2022-07-17T00:00:00\", \"kind\": \"prs\", \"count\": 0.0}, {\"createdAt\": \"2022-07-24T00:00:00\", \"kind\": \"prs\", \"count\": 0.0}, {\"createdAt\": \"2022-07-31T00:00:00\", \"kind\": \"prs\", \"count\": 0.0}, {\"createdAt\": \"2022-08-07T00:00:00\", \"kind\": \"prs\", \"count\": 0.0}, {\"createdAt\": \"2022-08-14T00:00:00\", \"kind\": \"prs\", \"count\": 0.0}, {\"createdAt\": \"2022-08-21T00:00:00\", \"kind\": \"prs\", \"count\": 0.0}, {\"createdAt\": \"2022-08-28T00:00:00\", \"kind\": \"prs\", \"count\": 0.0}, {\"createdAt\": \"2022-09-04T00:00:00\", \"kind\": \"prs\", \"count\": 1.0}, {\"createdAt\": \"2022-09-11T00:00:00\", \"kind\": \"prs\", \"count\": 0.0}, {\"createdAt\": \"2022-09-18T00:00:00\", \"kind\": \"prs\", \"count\": 0.0}, {\"createdAt\": \"2022-09-25T00:00:00\", \"kind\": \"prs\", \"count\": 0.0}, {\"createdAt\": \"2022-10-02T00:00:00\", \"kind\": \"prs\", \"count\": 0.0}, {\"createdAt\": \"2022-10-09T00:00:00\", \"kind\": \"prs\", \"count\": 0.0}, {\"createdAt\": \"2022-10-16T00:00:00\", \"kind\": \"prs\", \"count\": 0.0}, {\"createdAt\": \"2022-10-23T00:00:00\", \"kind\": \"prs\", \"count\": 0.0}, {\"createdAt\": \"2022-10-30T00:00:00\", \"kind\": \"prs\", \"count\": 0.0}, {\"createdAt\": \"2022-11-06T00:00:00\", \"kind\": \"prs\", \"count\": 0.0}, {\"createdAt\": \"2022-11-13T00:00:00\", \"kind\": \"prs\", \"count\": 0.0}, {\"createdAt\": \"2022-11-20T00:00:00\", \"kind\": \"prs\", \"count\": 0.0}, {\"createdAt\": \"2022-11-27T00:00:00\", \"kind\": \"prs\", \"count\": 0.0}, {\"createdAt\": \"2022-12-04T00:00:00\", \"kind\": \"prs\", \"count\": 1.0}, {\"createdAt\": \"2022-12-11T00:00:00\", \"kind\": \"prs\", \"count\": 13.0}, {\"createdAt\": \"2022-12-18T00:00:00\", \"kind\": \"prs\", \"count\": 3.0}, {\"createdAt\": \"2022-12-25T00:00:00\", \"kind\": \"prs\", \"count\": 4.0}, {\"createdAt\": \"2023-01-01T00:00:00\", \"kind\": \"prs\", \"count\": 4.0}, {\"createdAt\": \"2023-01-08T00:00:00\", \"kind\": \"prs\", \"count\": 9.0}, {\"createdAt\": \"2023-01-15T00:00:00\", \"kind\": \"prs\", \"count\": 7.0}, {\"createdAt\": \"2023-01-22T00:00:00\", \"kind\": \"prs\", \"count\": 6.0}, {\"createdAt\": \"2023-01-29T00:00:00\", \"kind\": \"prs\", \"count\": 15.0}, {\"createdAt\": \"2023-02-05T00:00:00\", \"kind\": \"prs\", \"count\": 5.0}, {\"createdAt\": \"2023-02-12T00:00:00\", \"kind\": \"prs\", \"count\": 14.0}, {\"createdAt\": \"2023-02-19T00:00:00\", \"kind\": \"prs\", \"count\": 9.0}, {\"createdAt\": \"2023-02-26T00:00:00\", \"kind\": \"prs\", \"count\": 3.0}, {\"createdAt\": \"2023-03-05T00:00:00\", \"kind\": \"prs\", \"count\": 8.0}, {\"createdAt\": \"2018-04-15T00:00:00\", \"kind\": \"prs\", \"count\": null}, {\"createdAt\": \"2018-04-22T00:00:00\", \"kind\": \"prs\", \"count\": null}, {\"createdAt\": \"2018-04-29T00:00:00\", \"kind\": \"prs\", \"count\": null}, {\"createdAt\": \"2018-05-06T00:00:00\", \"kind\": \"prs\", \"count\": null}, {\"createdAt\": \"2018-05-13T00:00:00\", \"kind\": \"prs\", \"count\": null}, {\"createdAt\": \"2018-05-20T00:00:00\", \"kind\": \"prs\", \"count\": null}, {\"createdAt\": \"2018-05-27T00:00:00\", \"kind\": \"prs\", \"count\": null}, {\"createdAt\": \"2018-06-03T00:00:00\", \"kind\": \"prs\", \"count\": null}, {\"createdAt\": \"2018-06-10T00:00:00\", \"kind\": \"prs\", \"count\": null}, {\"createdAt\": \"2018-06-17T00:00:00\", \"kind\": \"prs\", \"count\": null}, {\"createdAt\": \"2018-06-24T00:00:00\", \"kind\": \"prs\", \"count\": null}, {\"createdAt\": \"2018-07-01T00:00:00\", \"kind\": \"prs\", \"count\": null}, {\"createdAt\": \"2018-07-08T00:00:00\", \"kind\": \"prs\", \"count\": null}, {\"createdAt\": \"2018-07-15T00:00:00\", \"kind\": \"prs\", \"count\": null}, {\"createdAt\": \"2018-07-22T00:00:00\", \"kind\": \"prs\", \"count\": null}, {\"createdAt\": \"2018-07-29T00:00:00\", \"kind\": \"prs\", \"count\": null}, {\"createdAt\": \"2018-08-05T00:00:00\", \"kind\": \"prs\", \"count\": null}, {\"createdAt\": \"2018-08-12T00:00:00\", \"kind\": \"prs\", \"count\": null}, {\"createdAt\": \"2018-08-19T00:00:00\", \"kind\": \"prs\", \"count\": null}, {\"createdAt\": \"2018-08-26T00:00:00\", \"kind\": \"prs\", \"count\": null}, {\"createdAt\": \"2018-09-02T00:00:00\", \"kind\": \"prs\", \"count\": null}, {\"createdAt\": \"2018-09-09T00:00:00\", \"kind\": \"prs\", \"count\": null}, {\"createdAt\": \"2018-09-16T00:00:00\", \"kind\": \"prs\", \"count\": null}, {\"createdAt\": \"2018-09-23T00:00:00\", \"kind\": \"prs\", \"count\": null}, {\"createdAt\": \"2018-09-30T00:00:00\", \"kind\": \"prs\", \"count\": null}, {\"createdAt\": \"2018-10-07T00:00:00\", \"kind\": \"prs\", \"count\": null}, {\"createdAt\": \"2018-10-14T00:00:00\", \"kind\": \"prs\", \"count\": null}, {\"createdAt\": \"2018-10-21T00:00:00\", \"kind\": \"prs\", \"count\": null}, {\"createdAt\": \"2018-10-28T00:00:00\", \"kind\": \"prs\", \"count\": null}, {\"createdAt\": \"2018-11-04T00:00:00\", \"kind\": \"prs\", \"count\": null}, {\"createdAt\": \"2018-11-11T00:00:00\", \"kind\": \"prs\", \"count\": null}, {\"createdAt\": \"2018-11-18T00:00:00\", \"kind\": \"prs\", \"count\": null}, {\"createdAt\": \"2018-11-25T00:00:00\", \"kind\": \"prs\", \"count\": null}, {\"createdAt\": \"2018-12-02T00:00:00\", \"kind\": \"prs\", \"count\": null}, {\"createdAt\": \"2018-12-09T00:00:00\", \"kind\": \"prs\", \"count\": null}, {\"createdAt\": \"2018-12-16T00:00:00\", \"kind\": \"prs\", \"count\": null}, {\"createdAt\": \"2018-12-23T00:00:00\", \"kind\": \"prs\", \"count\": null}, {\"createdAt\": \"2018-12-30T00:00:00\", \"kind\": \"prs\", \"count\": null}, {\"createdAt\": \"2019-01-06T00:00:00\", \"kind\": \"prs\", \"count\": null}, {\"createdAt\": \"2019-01-13T00:00:00\", \"kind\": \"prs\", \"count\": null}, {\"createdAt\": \"2019-01-20T00:00:00\", \"kind\": \"prs\", \"count\": null}, {\"createdAt\": \"2019-01-27T00:00:00\", \"kind\": \"prs\", \"count\": null}, {\"createdAt\": \"2019-02-03T00:00:00\", \"kind\": \"prs\", \"count\": null}, {\"createdAt\": \"2019-02-10T00:00:00\", \"kind\": \"prs\", \"count\": null}, {\"createdAt\": \"2019-02-17T00:00:00\", \"kind\": \"prs\", \"count\": null}, {\"createdAt\": \"2019-02-24T00:00:00\", \"kind\": \"prs\", \"count\": null}, {\"createdAt\": \"2019-03-03T00:00:00\", \"kind\": \"prs\", \"count\": null}, {\"createdAt\": \"2019-03-10T00:00:00\", \"kind\": \"prs\", \"count\": null}, {\"createdAt\": \"2019-03-17T00:00:00\", \"kind\": \"prs\", \"count\": null}, {\"createdAt\": \"2019-03-24T00:00:00\", \"kind\": \"prs\", \"count\": null}, {\"createdAt\": \"2019-03-31T00:00:00\", \"kind\": \"prs\", \"count\": null}, {\"createdAt\": \"2019-04-07T00:00:00\", \"kind\": \"prs\", \"count\": null}, {\"createdAt\": \"2019-04-14T00:00:00\", \"kind\": \"prs\", \"count\": null}, {\"createdAt\": \"2019-04-21T00:00:00\", \"kind\": \"prs\", \"count\": null}, {\"createdAt\": \"2019-04-28T00:00:00\", \"kind\": \"prs\", \"count\": null}, {\"createdAt\": \"2019-05-05T00:00:00\", \"kind\": \"prs\", \"count\": null}, {\"createdAt\": \"2019-05-12T00:00:00\", \"kind\": \"prs\", \"count\": null}, {\"createdAt\": \"2019-05-19T00:00:00\", \"kind\": \"prs\", \"count\": null}, {\"createdAt\": \"2019-05-26T00:00:00\", \"kind\": \"prs\", \"count\": null}, {\"createdAt\": \"2019-06-02T00:00:00\", \"kind\": \"prs\", \"count\": null}, {\"createdAt\": \"2019-06-09T00:00:00\", \"kind\": \"prs\", \"count\": null}, {\"createdAt\": \"2019-06-16T00:00:00\", \"kind\": \"prs\", \"count\": null}, {\"createdAt\": \"2019-06-23T00:00:00\", \"kind\": \"prs\", \"count\": null}, {\"createdAt\": \"2019-06-30T00:00:00\", \"kind\": \"prs\", \"count\": null}, {\"createdAt\": \"2019-07-07T00:00:00\", \"kind\": \"prs\", \"count\": null}, {\"createdAt\": \"2019-07-14T00:00:00\", \"kind\": \"prs\", \"count\": null}, {\"createdAt\": \"2019-07-21T00:00:00\", \"kind\": \"prs\", \"count\": null}, {\"createdAt\": \"2019-07-28T00:00:00\", \"kind\": \"prs\", \"count\": null}, {\"createdAt\": \"2019-08-04T00:00:00\", \"kind\": \"prs\", \"count\": null}, {\"createdAt\": \"2019-08-11T00:00:00\", \"kind\": \"prs\", \"count\": null}, {\"createdAt\": \"2019-08-18T00:00:00\", \"kind\": \"prs\", \"count\": null}, {\"createdAt\": \"2019-08-25T00:00:00\", \"kind\": \"prs\", \"count\": null}, {\"createdAt\": \"2019-09-01T00:00:00\", \"kind\": \"prs\", \"count\": null}, {\"createdAt\": \"2019-09-08T00:00:00\", \"kind\": \"prs\", \"count\": null}, {\"createdAt\": \"2019-09-15T00:00:00\", \"kind\": \"prs\", \"count\": null}, {\"createdAt\": \"2019-09-22T00:00:00\", \"kind\": \"prs\", \"count\": null}, {\"createdAt\": \"2019-09-29T00:00:00\", \"kind\": \"prs\", \"count\": null}, {\"createdAt\": \"2019-10-06T00:00:00\", \"kind\": \"prs\", \"count\": null}, {\"createdAt\": \"2019-10-13T00:00:00\", \"kind\": \"prs\", \"count\": null}, {\"createdAt\": \"2019-10-20T00:00:00\", \"kind\": \"prs\", \"count\": null}, {\"createdAt\": \"2019-10-27T00:00:00\", \"kind\": \"prs\", \"count\": null}, {\"createdAt\": \"2019-11-03T00:00:00\", \"kind\": \"prs\", \"count\": null}, {\"createdAt\": \"2019-11-10T00:00:00\", \"kind\": \"prs\", \"count\": null}, {\"createdAt\": \"2019-11-17T00:00:00\", \"kind\": \"prs\", \"count\": null}, {\"createdAt\": \"2019-11-24T00:00:00\", \"kind\": \"prs\", \"count\": null}, {\"createdAt\": \"2019-12-01T00:00:00\", \"kind\": \"prs\", \"count\": null}, {\"createdAt\": \"2019-12-08T00:00:00\", \"kind\": \"prs\", \"count\": null}, {\"createdAt\": \"2019-12-15T00:00:00\", \"kind\": \"prs\", \"count\": null}, {\"createdAt\": \"2019-12-22T00:00:00\", \"kind\": \"prs\", \"count\": null}, {\"createdAt\": \"2019-12-29T00:00:00\", \"kind\": \"prs\", \"count\": null}, {\"createdAt\": \"2020-01-05T00:00:00\", \"kind\": \"prs\", \"count\": null}, {\"createdAt\": \"2020-01-12T00:00:00\", \"kind\": \"prs\", \"count\": null}, {\"createdAt\": \"2020-01-19T00:00:00\", \"kind\": \"prs\", \"count\": null}, {\"createdAt\": \"2020-01-26T00:00:00\", \"kind\": \"prs\", \"count\": null}, {\"createdAt\": \"2020-02-02T00:00:00\", \"kind\": \"prs\", \"count\": null}, {\"createdAt\": \"2020-02-09T00:00:00\", \"kind\": \"prs\", \"count\": null}, {\"createdAt\": \"2020-02-16T00:00:00\", \"kind\": \"prs\", \"count\": null}, {\"createdAt\": \"2020-02-23T00:00:00\", \"kind\": \"prs\", \"count\": null}, {\"createdAt\": \"2020-03-01T00:00:00\", \"kind\": \"prs\", \"count\": null}, {\"createdAt\": \"2020-03-08T00:00:00\", \"kind\": \"prs\", \"count\": null}, {\"createdAt\": \"2020-03-15T00:00:00\", \"kind\": \"prs\", \"count\": null}, {\"createdAt\": \"2020-03-22T00:00:00\", \"kind\": \"prs\", \"count\": null}, {\"createdAt\": \"2020-03-29T00:00:00\", \"kind\": \"prs\", \"count\": null}, {\"createdAt\": \"2020-04-05T00:00:00\", \"kind\": \"prs\", \"count\": null}, {\"createdAt\": \"2020-04-12T00:00:00\", \"kind\": \"prs\", \"count\": null}, {\"createdAt\": \"2020-04-19T00:00:00\", \"kind\": \"prs\", \"count\": null}, {\"createdAt\": \"2020-04-26T00:00:00\", \"kind\": \"prs\", \"count\": null}, {\"createdAt\": \"2020-05-03T00:00:00\", \"kind\": \"prs\", \"count\": null}, {\"createdAt\": \"2020-05-10T00:00:00\", \"kind\": \"prs\", \"count\": null}, {\"createdAt\": \"2020-05-17T00:00:00\", \"kind\": \"prs\", \"count\": null}, {\"createdAt\": \"2020-05-24T00:00:00\", \"kind\": \"prs\", \"count\": null}, {\"createdAt\": \"2020-05-31T00:00:00\", \"kind\": \"prs\", \"count\": null}, {\"createdAt\": \"2020-06-07T00:00:00\", \"kind\": \"prs\", \"count\": null}, {\"createdAt\": \"2020-06-14T00:00:00\", \"kind\": \"prs\", \"count\": null}, {\"createdAt\": \"2020-06-21T00:00:00\", \"kind\": \"prs\", \"count\": null}, {\"createdAt\": \"2020-06-28T00:00:00\", \"kind\": \"prs\", \"count\": null}, {\"createdAt\": \"2020-07-05T00:00:00\", \"kind\": \"prs\", \"count\": null}, {\"createdAt\": \"2020-07-12T00:00:00\", \"kind\": \"prs\", \"count\": null}, {\"createdAt\": \"2020-07-19T00:00:00\", \"kind\": \"prs\", \"count\": null}, {\"createdAt\": \"2020-07-26T00:00:00\", \"kind\": \"prs\", \"count\": null}, {\"createdAt\": \"2020-08-02T00:00:00\", \"kind\": \"prs\", \"count\": null}, {\"createdAt\": \"2020-08-09T00:00:00\", \"kind\": \"prs\", \"count\": null}, {\"createdAt\": \"2020-08-16T00:00:00\", \"kind\": \"prs\", \"count\": null}, {\"createdAt\": \"2020-08-23T00:00:00\", \"kind\": \"prs\", \"count\": null}, {\"createdAt\": \"2020-08-30T00:00:00\", \"kind\": \"prs\", \"count\": null}, {\"createdAt\": \"2020-09-06T00:00:00\", \"kind\": \"prs\", \"count\": null}, {\"createdAt\": \"2020-09-13T00:00:00\", \"kind\": \"prs\", \"count\": null}, {\"createdAt\": \"2020-09-20T00:00:00\", \"kind\": \"prs\", \"count\": null}, {\"createdAt\": \"2020-09-27T00:00:00\", \"kind\": \"prs\", \"count\": null}, {\"createdAt\": \"2020-10-04T00:00:00\", \"kind\": \"prs\", \"count\": null}, {\"createdAt\": \"2020-10-11T00:00:00\", \"kind\": \"prs\", \"count\": null}, {\"createdAt\": \"2020-10-18T00:00:00\", \"kind\": \"prs\", \"count\": null}, {\"createdAt\": \"2020-10-25T00:00:00\", \"kind\": \"prs\", \"count\": null}, {\"createdAt\": \"2020-11-01T00:00:00\", \"kind\": \"prs\", \"count\": null}, {\"createdAt\": \"2020-11-08T00:00:00\", \"kind\": \"prs\", \"count\": null}, {\"createdAt\": \"2020-11-15T00:00:00\", \"kind\": \"prs\", \"count\": null}, {\"createdAt\": \"2020-11-22T00:00:00\", \"kind\": \"prs\", \"count\": null}, {\"createdAt\": \"2020-11-29T00:00:00\", \"kind\": \"prs\", \"count\": null}, {\"createdAt\": \"2020-12-06T00:00:00\", \"kind\": \"prs\", \"count\": null}, {\"createdAt\": \"2020-12-13T00:00:00\", \"kind\": \"prs\", \"count\": null}, {\"createdAt\": \"2020-12-20T00:00:00\", \"kind\": \"prs\", \"count\": null}, {\"createdAt\": \"2020-12-27T00:00:00\", \"kind\": \"prs\", \"count\": null}, {\"createdAt\": \"2021-01-03T00:00:00\", \"kind\": \"prs\", \"count\": null}, {\"createdAt\": \"2021-01-10T00:00:00\", \"kind\": \"prs\", \"count\": null}, {\"createdAt\": \"2021-01-17T00:00:00\", \"kind\": \"prs\", \"count\": null}, {\"createdAt\": \"2021-01-24T00:00:00\", \"kind\": \"prs\", \"count\": null}, {\"createdAt\": \"2021-01-31T00:00:00\", \"kind\": \"prs\", \"count\": null}, {\"createdAt\": \"2021-02-07T00:00:00\", \"kind\": \"prs\", \"count\": null}, {\"createdAt\": \"2021-02-14T00:00:00\", \"kind\": \"prs\", \"count\": null}, {\"createdAt\": \"2021-02-21T00:00:00\", \"kind\": \"prs\", \"count\": null}, {\"createdAt\": \"2021-02-28T00:00:00\", \"kind\": \"prs\", \"count\": null}, {\"createdAt\": \"2021-03-07T00:00:00\", \"kind\": \"prs\", \"count\": null}, {\"createdAt\": \"2021-03-14T00:00:00\", \"kind\": \"prs\", \"count\": null}, {\"createdAt\": \"2021-03-21T00:00:00\", \"kind\": \"prs\", \"count\": null}, {\"createdAt\": \"2021-03-28T00:00:00\", \"kind\": \"prs\", \"count\": null}, {\"createdAt\": \"2021-04-04T00:00:00\", \"kind\": \"prs\", \"count\": null}, {\"createdAt\": \"2021-04-11T00:00:00\", \"kind\": \"prs\", \"count\": null}, {\"createdAt\": \"2021-04-18T00:00:00\", \"kind\": \"prs\", \"count\": null}, {\"createdAt\": \"2021-04-25T00:00:00\", \"kind\": \"prs\", \"count\": null}, {\"createdAt\": \"2021-05-02T00:00:00\", \"kind\": \"prs\", \"count\": null}, {\"createdAt\": \"2021-05-09T00:00:00\", \"kind\": \"prs\", \"count\": null}, {\"createdAt\": \"2021-05-16T00:00:00\", \"kind\": \"prs\", \"count\": null}, {\"createdAt\": \"2021-05-23T00:00:00\", \"kind\": \"prs\", \"count\": null}, {\"createdAt\": \"2021-05-30T00:00:00\", \"kind\": \"prs\", \"count\": null}, {\"createdAt\": \"2021-06-06T00:00:00\", \"kind\": \"prs\", \"count\": null}, {\"createdAt\": \"2021-06-13T00:00:00\", \"kind\": \"prs\", \"count\": null}, {\"createdAt\": \"2021-06-20T00:00:00\", \"kind\": \"prs\", \"count\": null}, {\"createdAt\": \"2021-06-27T00:00:00\", \"kind\": \"prs\", \"count\": null}, {\"createdAt\": \"2021-07-04T00:00:00\", \"kind\": \"prs\", \"count\": null}, {\"createdAt\": \"2021-07-11T00:00:00\", \"kind\": \"prs\", \"count\": null}, {\"createdAt\": \"2021-07-18T00:00:00\", \"kind\": \"prs\", \"count\": null}, {\"createdAt\": \"2021-07-25T00:00:00\", \"kind\": \"comments\", \"count\": 0.0}, {\"createdAt\": \"2021-08-01T00:00:00\", \"kind\": \"comments\", \"count\": 3.0}, {\"createdAt\": \"2021-08-08T00:00:00\", \"kind\": \"comments\", \"count\": 0.0}, {\"createdAt\": \"2021-08-15T00:00:00\", \"kind\": \"comments\", \"count\": 0.0}, {\"createdAt\": \"2021-08-22T00:00:00\", \"kind\": \"comments\", \"count\": 0.0}, {\"createdAt\": \"2021-08-29T00:00:00\", \"kind\": \"comments\", \"count\": 1.0}, {\"createdAt\": \"2021-09-05T00:00:00\", \"kind\": \"comments\", \"count\": 0.0}, {\"createdAt\": \"2021-09-12T00:00:00\", \"kind\": \"comments\", \"count\": 0.0}, {\"createdAt\": \"2021-09-19T00:00:00\", \"kind\": \"comments\", \"count\": 1.0}, {\"createdAt\": \"2021-09-26T00:00:00\", \"kind\": \"comments\", \"count\": 2.0}, {\"createdAt\": \"2021-10-03T00:00:00\", \"kind\": \"comments\", \"count\": 2.0}, {\"createdAt\": \"2021-10-10T00:00:00\", \"kind\": \"comments\", \"count\": 1.0}, {\"createdAt\": \"2021-10-17T00:00:00\", \"kind\": \"comments\", \"count\": 0.0}, {\"createdAt\": \"2021-10-24T00:00:00\", \"kind\": \"comments\", \"count\": 0.0}, {\"createdAt\": \"2021-10-31T00:00:00\", \"kind\": \"comments\", \"count\": 0.0}, {\"createdAt\": \"2021-11-07T00:00:00\", \"kind\": \"comments\", \"count\": 0.0}, {\"createdAt\": \"2021-11-14T00:00:00\", \"kind\": \"comments\", \"count\": 4.0}, {\"createdAt\": \"2021-11-21T00:00:00\", \"kind\": \"comments\", \"count\": 0.0}, {\"createdAt\": \"2021-11-28T00:00:00\", \"kind\": \"comments\", \"count\": 0.0}, {\"createdAt\": \"2021-12-05T00:00:00\", \"kind\": \"comments\", \"count\": 0.0}, {\"createdAt\": \"2021-12-12T00:00:00\", \"kind\": \"comments\", \"count\": 0.0}, {\"createdAt\": \"2021-12-19T00:00:00\", \"kind\": \"comments\", \"count\": 0.0}, {\"createdAt\": \"2021-12-26T00:00:00\", \"kind\": \"comments\", \"count\": 0.0}, {\"createdAt\": \"2022-01-02T00:00:00\", \"kind\": \"comments\", \"count\": 0.0}, {\"createdAt\": \"2022-01-09T00:00:00\", \"kind\": \"comments\", \"count\": 0.0}, {\"createdAt\": \"2022-01-16T00:00:00\", \"kind\": \"comments\", \"count\": 0.0}, {\"createdAt\": \"2022-01-23T00:00:00\", \"kind\": \"comments\", \"count\": 0.0}, {\"createdAt\": \"2022-01-30T00:00:00\", \"kind\": \"comments\", \"count\": 0.0}, {\"createdAt\": \"2022-02-06T00:00:00\", \"kind\": \"comments\", \"count\": 0.0}, {\"createdAt\": \"2022-02-13T00:00:00\", \"kind\": \"comments\", \"count\": 0.0}, {\"createdAt\": \"2022-02-20T00:00:00\", \"kind\": \"comments\", \"count\": 0.0}, {\"createdAt\": \"2022-02-27T00:00:00\", \"kind\": \"comments\", \"count\": 0.0}, {\"createdAt\": \"2022-03-06T00:00:00\", \"kind\": \"comments\", \"count\": 0.0}, {\"createdAt\": \"2022-03-13T00:00:00\", \"kind\": \"comments\", \"count\": 0.0}, {\"createdAt\": \"2022-03-20T00:00:00\", \"kind\": \"comments\", \"count\": 0.0}, {\"createdAt\": \"2022-03-27T00:00:00\", \"kind\": \"comments\", \"count\": 0.0}, {\"createdAt\": \"2022-04-03T00:00:00\", \"kind\": \"comments\", \"count\": 0.0}, {\"createdAt\": \"2022-04-10T00:00:00\", \"kind\": \"comments\", \"count\": 0.0}, {\"createdAt\": \"2022-04-17T00:00:00\", \"kind\": \"comments\", \"count\": 0.0}, {\"createdAt\": \"2022-04-24T00:00:00\", \"kind\": \"comments\", \"count\": 0.0}, {\"createdAt\": \"2022-05-01T00:00:00\", \"kind\": \"comments\", \"count\": 0.0}, {\"createdAt\": \"2022-05-08T00:00:00\", \"kind\": \"comments\", \"count\": 0.0}, {\"createdAt\": \"2022-05-15T00:00:00\", \"kind\": \"comments\", \"count\": 0.0}, {\"createdAt\": \"2022-05-22T00:00:00\", \"kind\": \"comments\", \"count\": 0.0}, {\"createdAt\": \"2022-05-29T00:00:00\", \"kind\": \"comments\", \"count\": 0.0}, {\"createdAt\": \"2022-06-05T00:00:00\", \"kind\": \"comments\", \"count\": 1.0}, {\"createdAt\": \"2022-06-12T00:00:00\", \"kind\": \"comments\", \"count\": 2.0}, {\"createdAt\": \"2022-06-19T00:00:00\", \"kind\": \"comments\", \"count\": 0.0}, {\"createdAt\": \"2022-06-26T00:00:00\", \"kind\": \"comments\", \"count\": 3.0}, {\"createdAt\": \"2022-07-03T00:00:00\", \"kind\": \"comments\", \"count\": 0.0}, {\"createdAt\": \"2022-07-10T00:00:00\", \"kind\": \"comments\", \"count\": 1.0}, {\"createdAt\": \"2022-07-17T00:00:00\", \"kind\": \"comments\", \"count\": 1.0}, {\"createdAt\": \"2022-07-24T00:00:00\", \"kind\": \"comments\", \"count\": 1.0}, {\"createdAt\": \"2022-07-31T00:00:00\", \"kind\": \"comments\", \"count\": 0.0}, {\"createdAt\": \"2022-08-07T00:00:00\", \"kind\": \"comments\", \"count\": 1.0}, {\"createdAt\": \"2022-08-14T00:00:00\", \"kind\": \"comments\", \"count\": 0.0}, {\"createdAt\": \"2022-08-21T00:00:00\", \"kind\": \"comments\", \"count\": 0.0}, {\"createdAt\": \"2022-08-28T00:00:00\", \"kind\": \"comments\", \"count\": 3.0}, {\"createdAt\": \"2022-09-04T00:00:00\", \"kind\": \"comments\", \"count\": 1.0}, {\"createdAt\": \"2022-09-11T00:00:00\", \"kind\": \"comments\", \"count\": 2.0}, {\"createdAt\": \"2022-09-18T00:00:00\", \"kind\": \"comments\", \"count\": 0.0}, {\"createdAt\": \"2022-09-25T00:00:00\", \"kind\": \"comments\", \"count\": 0.0}, {\"createdAt\": \"2022-10-02T00:00:00\", \"kind\": \"comments\", \"count\": 0.0}, {\"createdAt\": \"2022-10-09T00:00:00\", \"kind\": \"comments\", \"count\": 1.0}, {\"createdAt\": \"2022-10-16T00:00:00\", \"kind\": \"comments\", \"count\": 0.0}, {\"createdAt\": \"2022-10-23T00:00:00\", \"kind\": \"comments\", \"count\": 0.0}, {\"createdAt\": \"2022-10-30T00:00:00\", \"kind\": \"comments\", \"count\": 2.0}, {\"createdAt\": \"2022-11-06T00:00:00\", \"kind\": \"comments\", \"count\": 5.0}, {\"createdAt\": \"2022-11-13T00:00:00\", \"kind\": \"comments\", \"count\": 5.0}, {\"createdAt\": \"2022-11-20T00:00:00\", \"kind\": \"comments\", \"count\": 4.0}, {\"createdAt\": \"2022-11-27T00:00:00\", \"kind\": \"comments\", \"count\": 0.0}, {\"createdAt\": \"2022-12-04T00:00:00\", \"kind\": \"comments\", \"count\": 3.0}, {\"createdAt\": \"2022-12-11T00:00:00\", \"kind\": \"comments\", \"count\": 27.0}, {\"createdAt\": \"2022-12-18T00:00:00\", \"kind\": \"comments\", \"count\": 27.0}, {\"createdAt\": \"2022-12-25T00:00:00\", \"kind\": \"comments\", \"count\": 10.0}, {\"createdAt\": \"2023-01-01T00:00:00\", \"kind\": \"comments\", \"count\": 36.0}, {\"createdAt\": \"2023-01-08T00:00:00\", \"kind\": \"comments\", \"count\": 27.0}, {\"createdAt\": \"2023-01-15T00:00:00\", \"kind\": \"comments\", \"count\": 32.0}, {\"createdAt\": \"2023-01-22T00:00:00\", \"kind\": \"comments\", \"count\": 41.0}, {\"createdAt\": \"2023-01-29T00:00:00\", \"kind\": \"comments\", \"count\": 37.0}, {\"createdAt\": \"2023-02-05T00:00:00\", \"kind\": \"comments\", \"count\": 31.0}, {\"createdAt\": \"2023-02-12T00:00:00\", \"kind\": \"comments\", \"count\": 38.0}, {\"createdAt\": \"2023-02-19T00:00:00\", \"kind\": \"comments\", \"count\": 64.0}, {\"createdAt\": \"2023-02-26T00:00:00\", \"kind\": \"comments\", \"count\": 57.0}, {\"createdAt\": \"2023-03-05T00:00:00\", \"kind\": \"comments\", \"count\": 59.0}, {\"createdAt\": \"2018-04-15T00:00:00\", \"kind\": \"comments\", \"count\": 1.0}, {\"createdAt\": \"2018-04-22T00:00:00\", \"kind\": \"comments\", \"count\": 0.0}, {\"createdAt\": \"2018-04-29T00:00:00\", \"kind\": \"comments\", \"count\": 0.0}, {\"createdAt\": \"2018-05-06T00:00:00\", \"kind\": \"comments\", \"count\": 0.0}, {\"createdAt\": \"2018-05-13T00:00:00\", \"kind\": \"comments\", \"count\": 0.0}, {\"createdAt\": \"2018-05-20T00:00:00\", \"kind\": \"comments\", \"count\": 0.0}, {\"createdAt\": \"2018-05-27T00:00:00\", \"kind\": \"comments\", \"count\": 0.0}, {\"createdAt\": \"2018-06-03T00:00:00\", \"kind\": \"comments\", \"count\": 0.0}, {\"createdAt\": \"2018-06-10T00:00:00\", \"kind\": \"comments\", \"count\": 0.0}, {\"createdAt\": \"2018-06-17T00:00:00\", \"kind\": \"comments\", \"count\": 0.0}, {\"createdAt\": \"2018-06-24T00:00:00\", \"kind\": \"comments\", \"count\": 0.0}, {\"createdAt\": \"2018-07-01T00:00:00\", \"kind\": \"comments\", \"count\": 0.0}, {\"createdAt\": \"2018-07-08T00:00:00\", \"kind\": \"comments\", \"count\": 0.0}, {\"createdAt\": \"2018-07-15T00:00:00\", \"kind\": \"comments\", \"count\": 0.0}, {\"createdAt\": \"2018-07-22T00:00:00\", \"kind\": \"comments\", \"count\": 0.0}, {\"createdAt\": \"2018-07-29T00:00:00\", \"kind\": \"comments\", \"count\": 0.0}, {\"createdAt\": \"2018-08-05T00:00:00\", \"kind\": \"comments\", \"count\": 0.0}, {\"createdAt\": \"2018-08-12T00:00:00\", \"kind\": \"comments\", \"count\": 0.0}, {\"createdAt\": \"2018-08-19T00:00:00\", \"kind\": \"comments\", \"count\": 0.0}, {\"createdAt\": \"2018-08-26T00:00:00\", \"kind\": \"comments\", \"count\": 0.0}, {\"createdAt\": \"2018-09-02T00:00:00\", \"kind\": \"comments\", \"count\": 0.0}, {\"createdAt\": \"2018-09-09T00:00:00\", \"kind\": \"comments\", \"count\": 0.0}, {\"createdAt\": \"2018-09-16T00:00:00\", \"kind\": \"comments\", \"count\": 0.0}, {\"createdAt\": \"2018-09-23T00:00:00\", \"kind\": \"comments\", \"count\": 0.0}, {\"createdAt\": \"2018-09-30T00:00:00\", \"kind\": \"comments\", \"count\": 0.0}, {\"createdAt\": \"2018-10-07T00:00:00\", \"kind\": \"comments\", \"count\": 0.0}, {\"createdAt\": \"2018-10-14T00:00:00\", \"kind\": \"comments\", \"count\": 0.0}, {\"createdAt\": \"2018-10-21T00:00:00\", \"kind\": \"comments\", \"count\": 0.0}, {\"createdAt\": \"2018-10-28T00:00:00\", \"kind\": \"comments\", \"count\": 0.0}, {\"createdAt\": \"2018-11-04T00:00:00\", \"kind\": \"comments\", \"count\": 0.0}, {\"createdAt\": \"2018-11-11T00:00:00\", \"kind\": \"comments\", \"count\": 0.0}, {\"createdAt\": \"2018-11-18T00:00:00\", \"kind\": \"comments\", \"count\": 0.0}, {\"createdAt\": \"2018-11-25T00:00:00\", \"kind\": \"comments\", \"count\": 0.0}, {\"createdAt\": \"2018-12-02T00:00:00\", \"kind\": \"comments\", \"count\": 0.0}, {\"createdAt\": \"2018-12-09T00:00:00\", \"kind\": \"comments\", \"count\": 0.0}, {\"createdAt\": \"2018-12-16T00:00:00\", \"kind\": \"comments\", \"count\": 0.0}, {\"createdAt\": \"2018-12-23T00:00:00\", \"kind\": \"comments\", \"count\": 0.0}, {\"createdAt\": \"2018-12-30T00:00:00\", \"kind\": \"comments\", \"count\": 0.0}, {\"createdAt\": \"2019-01-06T00:00:00\", \"kind\": \"comments\", \"count\": 0.0}, {\"createdAt\": \"2019-01-13T00:00:00\", \"kind\": \"comments\", \"count\": 0.0}, {\"createdAt\": \"2019-01-20T00:00:00\", \"kind\": \"comments\", \"count\": 0.0}, {\"createdAt\": \"2019-01-27T00:00:00\", \"kind\": \"comments\", \"count\": 0.0}, {\"createdAt\": \"2019-02-03T00:00:00\", \"kind\": \"comments\", \"count\": 0.0}, {\"createdAt\": \"2019-02-10T00:00:00\", \"kind\": \"comments\", \"count\": 0.0}, {\"createdAt\": \"2019-02-17T00:00:00\", \"kind\": \"comments\", \"count\": 0.0}, {\"createdAt\": \"2019-02-24T00:00:00\", \"kind\": \"comments\", \"count\": 0.0}, {\"createdAt\": \"2019-03-03T00:00:00\", \"kind\": \"comments\", \"count\": 0.0}, {\"createdAt\": \"2019-03-10T00:00:00\", \"kind\": \"comments\", \"count\": 0.0}, {\"createdAt\": \"2019-03-17T00:00:00\", \"kind\": \"comments\", \"count\": 0.0}, {\"createdAt\": \"2019-03-24T00:00:00\", \"kind\": \"comments\", \"count\": 0.0}, {\"createdAt\": \"2019-03-31T00:00:00\", \"kind\": \"comments\", \"count\": 0.0}, {\"createdAt\": \"2019-04-07T00:00:00\", \"kind\": \"comments\", \"count\": 0.0}, {\"createdAt\": \"2019-04-14T00:00:00\", \"kind\": \"comments\", \"count\": 0.0}, {\"createdAt\": \"2019-04-21T00:00:00\", \"kind\": \"comments\", \"count\": 0.0}, {\"createdAt\": \"2019-04-28T00:00:00\", \"kind\": \"comments\", \"count\": 0.0}, {\"createdAt\": \"2019-05-05T00:00:00\", \"kind\": \"comments\", \"count\": 0.0}, {\"createdAt\": \"2019-05-12T00:00:00\", \"kind\": \"comments\", \"count\": 0.0}, {\"createdAt\": \"2019-05-19T00:00:00\", \"kind\": \"comments\", \"count\": 0.0}, {\"createdAt\": \"2019-05-26T00:00:00\", \"kind\": \"comments\", \"count\": 0.0}, {\"createdAt\": \"2019-06-02T00:00:00\", \"kind\": \"comments\", \"count\": 0.0}, {\"createdAt\": \"2019-06-09T00:00:00\", \"kind\": \"comments\", \"count\": 0.0}, {\"createdAt\": \"2019-06-16T00:00:00\", \"kind\": \"comments\", \"count\": 0.0}, {\"createdAt\": \"2019-06-23T00:00:00\", \"kind\": \"comments\", \"count\": 0.0}, {\"createdAt\": \"2019-06-30T00:00:00\", \"kind\": \"comments\", \"count\": 0.0}, {\"createdAt\": \"2019-07-07T00:00:00\", \"kind\": \"comments\", \"count\": 0.0}, {\"createdAt\": \"2019-07-14T00:00:00\", \"kind\": \"comments\", \"count\": 0.0}, {\"createdAt\": \"2019-07-21T00:00:00\", \"kind\": \"comments\", \"count\": 0.0}, {\"createdAt\": \"2019-07-28T00:00:00\", \"kind\": \"comments\", \"count\": 0.0}, {\"createdAt\": \"2019-08-04T00:00:00\", \"kind\": \"comments\", \"count\": 0.0}, {\"createdAt\": \"2019-08-11T00:00:00\", \"kind\": \"comments\", \"count\": 0.0}, {\"createdAt\": \"2019-08-18T00:00:00\", \"kind\": \"comments\", \"count\": 0.0}, {\"createdAt\": \"2019-08-25T00:00:00\", \"kind\": \"comments\", \"count\": 0.0}, {\"createdAt\": \"2019-09-01T00:00:00\", \"kind\": \"comments\", \"count\": 0.0}, {\"createdAt\": \"2019-09-08T00:00:00\", \"kind\": \"comments\", \"count\": 0.0}, {\"createdAt\": \"2019-09-15T00:00:00\", \"kind\": \"comments\", \"count\": 0.0}, {\"createdAt\": \"2019-09-22T00:00:00\", \"kind\": \"comments\", \"count\": 0.0}, {\"createdAt\": \"2019-09-29T00:00:00\", \"kind\": \"comments\", \"count\": 0.0}, {\"createdAt\": \"2019-10-06T00:00:00\", \"kind\": \"comments\", \"count\": 0.0}, {\"createdAt\": \"2019-10-13T00:00:00\", \"kind\": \"comments\", \"count\": 0.0}, {\"createdAt\": \"2019-10-20T00:00:00\", \"kind\": \"comments\", \"count\": 0.0}, {\"createdAt\": \"2019-10-27T00:00:00\", \"kind\": \"comments\", \"count\": 0.0}, {\"createdAt\": \"2019-11-03T00:00:00\", \"kind\": \"comments\", \"count\": 0.0}, {\"createdAt\": \"2019-11-10T00:00:00\", \"kind\": \"comments\", \"count\": 0.0}, {\"createdAt\": \"2019-11-17T00:00:00\", \"kind\": \"comments\", \"count\": 2.0}, {\"createdAt\": \"2019-11-24T00:00:00\", \"kind\": \"comments\", \"count\": 2.0}, {\"createdAt\": \"2019-12-01T00:00:00\", \"kind\": \"comments\", \"count\": 0.0}, {\"createdAt\": \"2019-12-08T00:00:00\", \"kind\": \"comments\", \"count\": 1.0}, {\"createdAt\": \"2019-12-15T00:00:00\", \"kind\": \"comments\", \"count\": 0.0}, {\"createdAt\": \"2019-12-22T00:00:00\", \"kind\": \"comments\", \"count\": 0.0}, {\"createdAt\": \"2019-12-29T00:00:00\", \"kind\": \"comments\", \"count\": 0.0}, {\"createdAt\": \"2020-01-05T00:00:00\", \"kind\": \"comments\", \"count\": 0.0}, {\"createdAt\": \"2020-01-12T00:00:00\", \"kind\": \"comments\", \"count\": 0.0}, {\"createdAt\": \"2020-01-19T00:00:00\", \"kind\": \"comments\", \"count\": 0.0}, {\"createdAt\": \"2020-01-26T00:00:00\", \"kind\": \"comments\", \"count\": 0.0}, {\"createdAt\": \"2020-02-02T00:00:00\", \"kind\": \"comments\", \"count\": 1.0}, {\"createdAt\": \"2020-02-09T00:00:00\", \"kind\": \"comments\", \"count\": 0.0}, {\"createdAt\": \"2020-02-16T00:00:00\", \"kind\": \"comments\", \"count\": 0.0}, {\"createdAt\": \"2020-02-23T00:00:00\", \"kind\": \"comments\", \"count\": 0.0}, {\"createdAt\": \"2020-03-01T00:00:00\", \"kind\": \"comments\", \"count\": 0.0}, {\"createdAt\": \"2020-03-08T00:00:00\", \"kind\": \"comments\", \"count\": 0.0}, {\"createdAt\": \"2020-03-15T00:00:00\", \"kind\": \"comments\", \"count\": 0.0}, {\"createdAt\": \"2020-03-22T00:00:00\", \"kind\": \"comments\", \"count\": 0.0}, {\"createdAt\": \"2020-03-29T00:00:00\", \"kind\": \"comments\", \"count\": 0.0}, {\"createdAt\": \"2020-04-05T00:00:00\", \"kind\": \"comments\", \"count\": 0.0}, {\"createdAt\": \"2020-04-12T00:00:00\", \"kind\": \"comments\", \"count\": 0.0}, {\"createdAt\": \"2020-04-19T00:00:00\", \"kind\": \"comments\", \"count\": 0.0}, {\"createdAt\": \"2020-04-26T00:00:00\", \"kind\": \"comments\", \"count\": 0.0}, {\"createdAt\": \"2020-05-03T00:00:00\", \"kind\": \"comments\", \"count\": 0.0}, {\"createdAt\": \"2020-05-10T00:00:00\", \"kind\": \"comments\", \"count\": 0.0}, {\"createdAt\": \"2020-05-17T00:00:00\", \"kind\": \"comments\", \"count\": 0.0}, {\"createdAt\": \"2020-05-24T00:00:00\", \"kind\": \"comments\", \"count\": 0.0}, {\"createdAt\": \"2020-05-31T00:00:00\", \"kind\": \"comments\", \"count\": 0.0}, {\"createdAt\": \"2020-06-07T00:00:00\", \"kind\": \"comments\", \"count\": 1.0}, {\"createdAt\": \"2020-06-14T00:00:00\", \"kind\": \"comments\", \"count\": 0.0}, {\"createdAt\": \"2020-06-21T00:00:00\", \"kind\": \"comments\", \"count\": 0.0}, {\"createdAt\": \"2020-06-28T00:00:00\", \"kind\": \"comments\", \"count\": 0.0}, {\"createdAt\": \"2020-07-05T00:00:00\", \"kind\": \"comments\", \"count\": 0.0}, {\"createdAt\": \"2020-07-12T00:00:00\", \"kind\": \"comments\", \"count\": 0.0}, {\"createdAt\": \"2020-07-19T00:00:00\", \"kind\": \"comments\", \"count\": 0.0}, {\"createdAt\": \"2020-07-26T00:00:00\", \"kind\": \"comments\", \"count\": 0.0}, {\"createdAt\": \"2020-08-02T00:00:00\", \"kind\": \"comments\", \"count\": 0.0}, {\"createdAt\": \"2020-08-09T00:00:00\", \"kind\": \"comments\", \"count\": 0.0}, {\"createdAt\": \"2020-08-16T00:00:00\", \"kind\": \"comments\", \"count\": 0.0}, {\"createdAt\": \"2020-08-23T00:00:00\", \"kind\": \"comments\", \"count\": 0.0}, {\"createdAt\": \"2020-08-30T00:00:00\", \"kind\": \"comments\", \"count\": 0.0}, {\"createdAt\": \"2020-09-06T00:00:00\", \"kind\": \"comments\", \"count\": 0.0}, {\"createdAt\": \"2020-09-13T00:00:00\", \"kind\": \"comments\", \"count\": 0.0}, {\"createdAt\": \"2020-09-20T00:00:00\", \"kind\": \"comments\", \"count\": 0.0}, {\"createdAt\": \"2020-09-27T00:00:00\", \"kind\": \"comments\", \"count\": 0.0}, {\"createdAt\": \"2020-10-04T00:00:00\", \"kind\": \"comments\", \"count\": 0.0}, {\"createdAt\": \"2020-10-11T00:00:00\", \"kind\": \"comments\", \"count\": 0.0}, {\"createdAt\": \"2020-10-18T00:00:00\", \"kind\": \"comments\", \"count\": 0.0}, {\"createdAt\": \"2020-10-25T00:00:00\", \"kind\": \"comments\", \"count\": 1.0}, {\"createdAt\": \"2020-11-01T00:00:00\", \"kind\": \"comments\", \"count\": 0.0}, {\"createdAt\": \"2020-11-08T00:00:00\", \"kind\": \"comments\", \"count\": 0.0}, {\"createdAt\": \"2020-11-15T00:00:00\", \"kind\": \"comments\", \"count\": 0.0}, {\"createdAt\": \"2020-11-22T00:00:00\", \"kind\": \"comments\", \"count\": 0.0}, {\"createdAt\": \"2020-11-29T00:00:00\", \"kind\": \"comments\", \"count\": 0.0}, {\"createdAt\": \"2020-12-06T00:00:00\", \"kind\": \"comments\", \"count\": 0.0}, {\"createdAt\": \"2020-12-13T00:00:00\", \"kind\": \"comments\", \"count\": 0.0}, {\"createdAt\": \"2020-12-20T00:00:00\", \"kind\": \"comments\", \"count\": 0.0}, {\"createdAt\": \"2020-12-27T00:00:00\", \"kind\": \"comments\", \"count\": 0.0}, {\"createdAt\": \"2021-01-03T00:00:00\", \"kind\": \"comments\", \"count\": 0.0}, {\"createdAt\": \"2021-01-10T00:00:00\", \"kind\": \"comments\", \"count\": 0.0}, {\"createdAt\": \"2021-01-17T00:00:00\", \"kind\": \"comments\", \"count\": 0.0}, {\"createdAt\": \"2021-01-24T00:00:00\", \"kind\": \"comments\", \"count\": 0.0}, {\"createdAt\": \"2021-01-31T00:00:00\", \"kind\": \"comments\", \"count\": 0.0}, {\"createdAt\": \"2021-02-07T00:00:00\", \"kind\": \"comments\", \"count\": 0.0}, {\"createdAt\": \"2021-02-14T00:00:00\", \"kind\": \"comments\", \"count\": 0.0}, {\"createdAt\": \"2021-02-21T00:00:00\", \"kind\": \"comments\", \"count\": 0.0}, {\"createdAt\": \"2021-02-28T00:00:00\", \"kind\": \"comments\", \"count\": 0.0}, {\"createdAt\": \"2021-03-07T00:00:00\", \"kind\": \"comments\", \"count\": 0.0}, {\"createdAt\": \"2021-03-14T00:00:00\", \"kind\": \"comments\", \"count\": 0.0}, {\"createdAt\": \"2021-03-21T00:00:00\", \"kind\": \"comments\", \"count\": 0.0}, {\"createdAt\": \"2021-03-28T00:00:00\", \"kind\": \"comments\", \"count\": 0.0}, {\"createdAt\": \"2021-04-04T00:00:00\", \"kind\": \"comments\", \"count\": 0.0}, {\"createdAt\": \"2021-04-11T00:00:00\", \"kind\": \"comments\", \"count\": 0.0}, {\"createdAt\": \"2021-04-18T00:00:00\", \"kind\": \"comments\", \"count\": 0.0}, {\"createdAt\": \"2021-04-25T00:00:00\", \"kind\": \"comments\", \"count\": 0.0}, {\"createdAt\": \"2021-05-02T00:00:00\", \"kind\": \"comments\", \"count\": 2.0}, {\"createdAt\": \"2021-05-09T00:00:00\", \"kind\": \"comments\", \"count\": 0.0}, {\"createdAt\": \"2021-05-16T00:00:00\", \"kind\": \"comments\", \"count\": 0.0}, {\"createdAt\": \"2021-05-23T00:00:00\", \"kind\": \"comments\", \"count\": 0.0}, {\"createdAt\": \"2021-05-30T00:00:00\", \"kind\": \"comments\", \"count\": 0.0}, {\"createdAt\": \"2021-06-06T00:00:00\", \"kind\": \"comments\", \"count\": 1.0}, {\"createdAt\": \"2021-06-13T00:00:00\", \"kind\": \"comments\", \"count\": 0.0}, {\"createdAt\": \"2021-06-20T00:00:00\", \"kind\": \"comments\", \"count\": 0.0}, {\"createdAt\": \"2021-06-27T00:00:00\", \"kind\": \"comments\", \"count\": 1.0}, {\"createdAt\": \"2021-07-04T00:00:00\", \"kind\": \"comments\", \"count\": 0.0}, {\"createdAt\": \"2021-07-11T00:00:00\", \"kind\": \"comments\", \"count\": 0.0}, {\"createdAt\": \"2021-07-18T00:00:00\", \"kind\": \"comments\", \"count\": 0.0}]}}, {\"mode\": \"vega-lite\"});\n",
       "</script>"
      ],
      "text/plain": [
       "alt.Chart(...)"
      ]
     },
     "execution_count": 18,
     "metadata": {},
     "output_type": "execute_result"
    }
   ],
   "source": [
    "alt.Chart(total_time, width=600).mark_line().encode(\n",
    "    x='createdAt',\n",
    "    y='count',\n",
    "    color='kind'\n",
    ")"
   ]
  },
  {
   "cell_type": "code",
   "execution_count": null,
   "id": "1122a374",
   "metadata": {
    "papermill": {
     "duration": 0.009175,
     "end_time": "2023-03-06T14:44:52.305055",
     "exception": false,
     "start_time": "2023-03-06T14:44:52.295880",
     "status": "completed"
    },
    "tags": []
   },
   "outputs": [],
   "source": []
  },
  {
   "cell_type": "code",
   "execution_count": null,
   "id": "50e93680",
   "metadata": {
    "papermill": {
     "duration": 0.006587,
     "end_time": "2023-03-06T14:44:52.318280",
     "exception": false,
     "start_time": "2023-03-06T14:44:52.311693",
     "status": "completed"
    },
    "tags": []
   },
   "outputs": [],
   "source": []
  }
 ],
 "metadata": {
  "kernelspec": {
   "display_name": "Python 3 (ipykernel)",
   "language": "python",
   "name": "python3"
  },
  "language_info": {
   "codemirror_mode": {
    "name": "ipython",
    "version": 3
   },
   "file_extension": ".py",
   "mimetype": "text/x-python",
   "name": "python",
   "nbconvert_exporter": "python",
   "pygments_lexer": "ipython3",
   "version": "3.9.16"
  },
  "papermill": {
   "default_parameters": {},
   "duration": 3.493802,
   "end_time": "2023-03-06T14:44:52.644418",
   "environment_variables": {},
   "exception": null,
   "input_path": "./templates/person_report.ipynb",
   "output_path": "generated/people/consideRatio.ipynb",
   "parameters": {
    "n_days": 90,
    "person": "consideRatio"
   },
   "start_time": "2023-03-06T14:44:49.150616",
   "version": "2.4.0"
  },
  "widgets": {
   "application/vnd.jupyter.widget-state+json": {
    "state": {},
    "version_major": 2,
    "version_minor": 0
   }
  }
 },
 "nbformat": 4,
 "nbformat_minor": 5
}