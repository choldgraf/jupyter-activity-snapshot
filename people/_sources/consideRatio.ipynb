{
 "cells": [
  {
   "cell_type": "markdown",
   "id": "03fe438d",
   "metadata": {
    "papermill": {
     "duration": 0.057536,
     "end_time": "2021-10-13T01:35:04.550515",
     "exception": false,
     "start_time": "2021-10-13T01:35:04.492979",
     "status": "completed"
    },
    "tags": []
   },
   "source": [
    "# Report for consideRatio"
   ]
  },
  {
   "cell_type": "code",
   "execution_count": 1,
   "id": "ba04e747",
   "metadata": {
    "execution": {
     "iopub.execute_input": "2021-10-13T01:35:04.667772Z",
     "iopub.status.busy": "2021-10-13T01:35:04.667178Z",
     "iopub.status.idle": "2021-10-13T01:35:05.617675Z",
     "shell.execute_reply": "2021-10-13T01:35:05.617033Z"
    },
    "papermill": {
     "duration": 1.014619,
     "end_time": "2021-10-13T01:35:05.617863",
     "exception": false,
     "start_time": "2021-10-13T01:35:04.603244",
     "status": "completed"
    },
    "tags": [
     "remove_cell"
    ]
   },
   "outputs": [],
   "source": [
    "import seaborn as sns\n",
    "import pandas as pd\n",
    "import numpy as np\n",
    "import altair as alt\n",
    "from markdown import markdown\n",
    "from IPython.display import Markdown\n",
    "from ipywidgets.widgets import HTML, Tab\n",
    "from ipywidgets import widgets\n",
    "from datetime import timedelta\n",
    "from matplotlib import pyplot as plt\n",
    "import os.path as op\n",
    "\n",
    "from mycode import alt_theme\n",
    "from warnings import simplefilter\n",
    "simplefilter('ignore')"
   ]
  },
  {
   "cell_type": "code",
   "execution_count": 2,
   "id": "6471fe89",
   "metadata": {
    "execution": {
     "iopub.execute_input": "2021-10-13T01:35:05.735652Z",
     "iopub.status.busy": "2021-10-13T01:35:05.734477Z",
     "iopub.status.idle": "2021-10-13T01:35:05.737811Z",
     "shell.execute_reply": "2021-10-13T01:35:05.737369Z"
    },
    "papermill": {
     "duration": 0.061567,
     "end_time": "2021-10-13T01:35:05.737949",
     "exception": false,
     "start_time": "2021-10-13T01:35:05.676382",
     "status": "completed"
    },
    "tags": [
     "remove_cell"
    ]
   },
   "outputs": [],
   "source": [
    "def author_url(author):\n",
    "    return f\"https://github.com/{author}\""
   ]
  },
  {
   "cell_type": "code",
   "execution_count": 3,
   "id": "2ff308e7",
   "metadata": {
    "execution": {
     "iopub.execute_input": "2021-10-13T01:35:05.854175Z",
     "iopub.status.busy": "2021-10-13T01:35:05.853647Z",
     "iopub.status.idle": "2021-10-13T01:35:05.857646Z",
     "shell.execute_reply": "2021-10-13T01:35:05.858058Z"
    },
    "papermill": {
     "duration": 0.063361,
     "end_time": "2021-10-13T01:35:05.858220",
     "exception": false,
     "start_time": "2021-10-13T01:35:05.794859",
     "status": "completed"
    },
    "tags": [
     "parameters",
     "hide_input"
    ]
   },
   "outputs": [],
   "source": [
    "# Parameters\n",
    "fmt_date = \"{:%Y-%m-%d}\"\n",
    "\n",
    "n_days = 30 * 2\n",
    "start_date = fmt_date.format(pd.datetime.today() - timedelta(days=n_days))\n",
    "end_date = fmt_date.format(pd.datetime.today())\n",
    "\n",
    "renderer = \"html\"\n",
    "person = \"jasongrout\""
   ]
  },
  {
   "cell_type": "code",
   "execution_count": 4,
   "id": "0a6eb74e",
   "metadata": {
    "execution": {
     "iopub.execute_input": "2021-10-13T01:35:05.967094Z",
     "iopub.status.busy": "2021-10-13T01:35:05.966558Z",
     "iopub.status.idle": "2021-10-13T01:35:05.968193Z",
     "shell.execute_reply": "2021-10-13T01:35:05.968677Z"
    },
    "papermill": {
     "duration": 0.058725,
     "end_time": "2021-10-13T01:35:05.968856",
     "exception": false,
     "start_time": "2021-10-13T01:35:05.910131",
     "status": "completed"
    },
    "tags": [
     "injected-parameters",
     "remove-cell"
    ]
   },
   "outputs": [],
   "source": [
    "# Parameters\n",
    "person = \"consideRatio\"\n",
    "n_days = 60\n"
   ]
  },
  {
   "cell_type": "code",
   "execution_count": 5,
   "id": "3eb4d2f7",
   "metadata": {
    "execution": {
     "iopub.execute_input": "2021-10-13T01:35:06.079302Z",
     "iopub.status.busy": "2021-10-13T01:35:06.078761Z",
     "iopub.status.idle": "2021-10-13T01:35:06.081185Z",
     "shell.execute_reply": "2021-10-13T01:35:06.081594Z"
    },
    "papermill": {
     "duration": 0.061028,
     "end_time": "2021-10-13T01:35:06.081769",
     "exception": false,
     "start_time": "2021-10-13T01:35:06.020741",
     "status": "completed"
    },
    "tags": [
     "remove_cell"
    ]
   },
   "outputs": [
    {
     "data": {
      "text/plain": [
       "ThemeRegistry.enable('my_theme')"
      ]
     },
     "execution_count": 5,
     "metadata": {},
     "output_type": "execute_result"
    }
   ],
   "source": [
    "alt.renderers.enable(renderer);\n",
    "alt.themes.register('my_theme', alt_theme)\n",
    "alt.themes.enable(\"my_theme\")"
   ]
  },
  {
   "cell_type": "markdown",
   "id": "6861cd3f",
   "metadata": {
    "papermill": {
     "duration": 0.052957,
     "end_time": "2021-10-13T01:35:06.187769",
     "exception": false,
     "start_time": "2021-10-13T01:35:06.134812",
     "status": "completed"
    },
    "tags": []
   },
   "source": [
    "## Load data"
   ]
  },
  {
   "cell_type": "code",
   "execution_count": 6,
   "id": "078cb45a",
   "metadata": {
    "execution": {
     "iopub.execute_input": "2021-10-13T01:35:06.301812Z",
     "iopub.status.busy": "2021-10-13T01:35:06.301255Z",
     "iopub.status.idle": "2021-10-13T01:35:06.463832Z",
     "shell.execute_reply": "2021-10-13T01:35:06.463198Z"
    },
    "papermill": {
     "duration": 0.223001,
     "end_time": "2021-10-13T01:35:06.464025",
     "exception": false,
     "start_time": "2021-10-13T01:35:06.241024",
     "status": "completed"
    },
    "tags": [
     "remove_cell"
    ]
   },
   "outputs": [],
   "source": [
    "from pathlib import Path\n",
    "path_data = Path(\"./\")\n",
    "comments = pd.read_csv(path_data.joinpath('comments.csv'), index_col=0)\n",
    "issues = pd.read_csv(path_data.joinpath('issues.csv'), index_col=0)\n",
    "prs = pd.read_csv(path_data.joinpath('prs.csv'), index_col=0)\n",
    "\n",
    "comments = comments.query('author == @person').drop_duplicates()\n",
    "issues = issues.query('author == @person').drop_duplicates()\n",
    "closed_by = prs.query('mergedBy == @person')\n",
    "prs = prs.query('author == @person').drop_duplicates()"
   ]
  },
  {
   "cell_type": "code",
   "execution_count": 7,
   "id": "21da7613",
   "metadata": {
    "execution": {
     "iopub.execute_input": "2021-10-13T01:35:06.612189Z",
     "iopub.status.busy": "2021-10-13T01:35:06.608558Z",
     "iopub.status.idle": "2021-10-13T01:35:06.626322Z",
     "shell.execute_reply": "2021-10-13T01:35:06.625840Z"
    },
    "papermill": {
     "duration": 0.105029,
     "end_time": "2021-10-13T01:35:06.626470",
     "exception": false,
     "start_time": "2021-10-13T01:35:06.521441",
     "status": "completed"
    },
    "tags": [
     "remove_cell"
    ]
   },
   "outputs": [],
   "source": [
    "# Time columns\n",
    "# Also drop dates outside of our range\n",
    "time_columns = ['updatedAt', 'createdAt', 'closedAt']\n",
    "for col in time_columns:\n",
    "    for item in [comments, issues, prs, closed_by]:\n",
    "        if col not in item.columns:\n",
    "            continue\n",
    "        dt = pd.to_datetime(item[col]).dt.tz_localize(None)\n",
    "        item[col] = dt\n",
    "        item.query(\"updatedAt < @end_date and updatedAt > @start_date\", inplace=True)"
   ]
  },
  {
   "cell_type": "markdown",
   "id": "2bde7dfa",
   "metadata": {
    "papermill": {
     "duration": 0.053284,
     "end_time": "2021-10-13T01:35:06.733271",
     "exception": false,
     "start_time": "2021-10-13T01:35:06.679987",
     "status": "completed"
    },
    "tags": []
   },
   "source": [
    "## Repository summaries"
   ]
  },
  {
   "cell_type": "code",
   "execution_count": 8,
   "id": "da291759",
   "metadata": {
    "execution": {
     "iopub.execute_input": "2021-10-13T01:35:06.854663Z",
     "iopub.status.busy": "2021-10-13T01:35:06.849505Z",
     "iopub.status.idle": "2021-10-13T01:35:06.861858Z",
     "shell.execute_reply": "2021-10-13T01:35:06.861400Z"
    },
    "papermill": {
     "duration": 0.075253,
     "end_time": "2021-10-13T01:35:06.861998",
     "exception": false,
     "start_time": "2021-10-13T01:35:06.786745",
     "status": "completed"
    },
    "tags": [
     "remove_cell"
    ]
   },
   "outputs": [],
   "source": [
    "summaries = []\n",
    "for idata, name in [(issues, 'issues'), (prs, 'prs'), (comments, 'comments')]:\n",
    "    idata = idata.groupby([\"repo\", \"org\"]).agg({'id': \"count\"}).reset_index().rename(columns={'id': 'count'})\n",
    "    idata[\"kind\"] = name\n",
    "    summaries.append(idata)\n",
    "summaries = pd.concat(summaries)"
   ]
  },
  {
   "cell_type": "code",
   "execution_count": 9,
   "id": "826c43a1",
   "metadata": {
    "execution": {
     "iopub.execute_input": "2021-10-13T01:35:06.971785Z",
     "iopub.status.busy": "2021-10-13T01:35:06.971234Z",
     "iopub.status.idle": "2021-10-13T01:35:06.982499Z",
     "shell.execute_reply": "2021-10-13T01:35:06.982048Z"
    },
    "papermill": {
     "duration": 0.066882,
     "end_time": "2021-10-13T01:35:06.982652",
     "exception": false,
     "start_time": "2021-10-13T01:35:06.915770",
     "status": "completed"
    },
    "tags": [
     "remove_cell"
    ]
   },
   "outputs": [],
   "source": [
    "repo_summaries = summaries.groupby([\"repo\", \"kind\"]).agg({\"count\": \"sum\"}).reset_index()\n",
    "org_summaries = summaries.groupby([\"org\", \"kind\"]).agg({\"count\": \"sum\"}).reset_index()"
   ]
  },
  {
   "cell_type": "code",
   "execution_count": 10,
   "id": "9b0471fa",
   "metadata": {
    "execution": {
     "iopub.execute_input": "2021-10-13T01:35:07.096028Z",
     "iopub.status.busy": "2021-10-13T01:35:07.095472Z",
     "iopub.status.idle": "2021-10-13T01:35:07.097201Z",
     "shell.execute_reply": "2021-10-13T01:35:07.097611Z"
    },
    "papermill": {
     "duration": 0.061474,
     "end_time": "2021-10-13T01:35:07.097777",
     "exception": false,
     "start_time": "2021-10-13T01:35:07.036303",
     "status": "completed"
    },
    "tags": [
     "remove_cell"
    ]
   },
   "outputs": [],
   "source": [
    "repo_summaries['logcount'] = np.log(repo_summaries[\"count\"])"
   ]
  },
  {
   "cell_type": "code",
   "execution_count": 11,
   "id": "f9b78df9",
   "metadata": {
    "execution": {
     "iopub.execute_input": "2021-10-13T01:35:07.215249Z",
     "iopub.status.busy": "2021-10-13T01:35:07.214711Z",
     "iopub.status.idle": "2021-10-13T01:35:07.731066Z",
     "shell.execute_reply": "2021-10-13T01:35:07.730603Z"
    },
    "papermill": {
     "duration": 0.579894,
     "end_time": "2021-10-13T01:35:07.731223",
     "exception": false,
     "start_time": "2021-10-13T01:35:07.151329",
     "status": "completed"
    },
    "tags": [
     "hide_input"
    ]
   },
   "outputs": [
    {
     "data": {
      "text/html": [
       "\n",
       "<div id=\"altair-viz-3a4ffa3be9404f65bb4fd5a8f571f5d0\"></div>\n",
       "<script type=\"text/javascript\">\n",
       "  (function(spec, embedOpt){\n",
       "    let outputDiv = document.currentScript.previousElementSibling;\n",
       "    if (outputDiv.id !== \"altair-viz-3a4ffa3be9404f65bb4fd5a8f571f5d0\") {\n",
       "      outputDiv = document.getElementById(\"altair-viz-3a4ffa3be9404f65bb4fd5a8f571f5d0\");\n",
       "    }\n",
       "    const paths = {\n",
       "      \"vega\": \"https://cdn.jsdelivr.net/npm//vega@5?noext\",\n",
       "      \"vega-lib\": \"https://cdn.jsdelivr.net/npm//vega-lib?noext\",\n",
       "      \"vega-lite\": \"https://cdn.jsdelivr.net/npm//vega-lite@4.8.1?noext\",\n",
       "      \"vega-embed\": \"https://cdn.jsdelivr.net/npm//vega-embed@6?noext\",\n",
       "    };\n",
       "\n",
       "    function loadScript(lib) {\n",
       "      return new Promise(function(resolve, reject) {\n",
       "        var s = document.createElement('script');\n",
       "        s.src = paths[lib];\n",
       "        s.async = true;\n",
       "        s.onload = () => resolve(paths[lib]);\n",
       "        s.onerror = () => reject(`Error loading script: ${paths[lib]}`);\n",
       "        document.getElementsByTagName(\"head\")[0].appendChild(s);\n",
       "      });\n",
       "    }\n",
       "\n",
       "    function showError(err) {\n",
       "      outputDiv.innerHTML = `<div class=\"error\" style=\"color:red;\">${err}</div>`;\n",
       "      throw err;\n",
       "    }\n",
       "\n",
       "    function displayChart(vegaEmbed) {\n",
       "      vegaEmbed(outputDiv, spec, embedOpt)\n",
       "        .catch(err => showError(`Javascript Error: ${err.message}<br>This usually means there's a typo in your chart specification. See the javascript console for the full traceback.`));\n",
       "    }\n",
       "\n",
       "    if(typeof define === \"function\" && define.amd) {\n",
       "      requirejs.config({paths});\n",
       "      require([\"vega-embed\"], displayChart, err => showError(`Error loading script: ${err.message}`));\n",
       "    } else if (typeof vegaEmbed === \"function\") {\n",
       "      displayChart(vegaEmbed);\n",
       "    } else {\n",
       "      loadScript(\"vega\")\n",
       "        .then(() => loadScript(\"vega-lite\"))\n",
       "        .then(() => loadScript(\"vega-embed\"))\n",
       "        .catch(showError)\n",
       "        .then(() => displayChart(vegaEmbed));\n",
       "    }\n",
       "  })({\"config\": {\"axisLeft\": {\"labelFontSize\": 15}, \"axisBottom\": {\"labelFontSize\": 15}}, \"hconcat\": [{\"mark\": \"bar\", \"encoding\": {\"color\": {\"type\": \"nominal\", \"field\": \"kind\"}, \"tooltip\": {\"type\": \"nominal\", \"field\": \"kind\"}, \"x\": {\"type\": \"nominal\", \"field\": \"repo\"}, \"y\": {\"type\": \"quantitative\", \"field\": \"count\"}}, \"title\": \"Activity per repository\", \"width\": 600}, {\"mark\": \"bar\", \"encoding\": {\"color\": {\"type\": \"nominal\", \"field\": \"kind\"}, \"tooltip\": {\"type\": \"nominal\", \"field\": \"kind\"}, \"x\": {\"type\": \"nominal\", \"field\": \"repo\"}, \"y\": {\"type\": \"quantitative\", \"field\": \"logcount\"}}, \"title\": \"Log activity per repository\", \"width\": 600}], \"data\": {\"name\": \"data-2fdcd1b393f0288bfd1b01069a3398bc\"}, \"$schema\": \"https://vega.github.io/schema/vega-lite/v4.8.1.json\", \"datasets\": {\"data-2fdcd1b393f0288bfd1b01069a3398bc\": [{\"repo\": \"action-k3s-helm\", \"kind\": \"comments\", \"count\": 5, \"logcount\": 1.6094379124341003}, {\"repo\": \"action-k3s-helm\", \"kind\": \"issues\", \"count\": 3, \"logcount\": 1.0986122886681098}, {\"repo\": \"action-k3s-helm\", \"kind\": \"prs\", \"count\": 5, \"logcount\": 1.6094379124341003}, {\"repo\": \"action-k8s-namespace-report\", \"kind\": \"prs\", \"count\": 2, \"logcount\": 0.6931471805599453}, {\"repo\": \"action-major-minor-tag-calculator\", \"kind\": \"comments\", \"count\": 6, \"logcount\": 1.791759469228055}, {\"repo\": \"action-major-minor-tag-calculator\", \"kind\": \"prs\", \"count\": 1, \"logcount\": 0.0}, {\"repo\": \"binderhub\", \"kind\": \"comments\", \"count\": 62, \"logcount\": 4.127134385045092}, {\"repo\": \"binderhub\", \"kind\": \"issues\", \"count\": 11, \"logcount\": 2.3978952727983707}, {\"repo\": \"binderhub\", \"kind\": \"prs\", \"count\": 23, \"logcount\": 3.1354942159291497}, {\"repo\": \"chartpress\", \"kind\": \"comments\", \"count\": 2, \"logcount\": 0.6931471805599453}, {\"repo\": \"configurable-http-proxy\", \"kind\": \"comments\", \"count\": 2, \"logcount\": 0.6931471805599453}, {\"repo\": \"cookiecutter-docker-stacks\", \"kind\": \"comments\", \"count\": 1, \"logcount\": 0.0}, {\"repo\": \"docker-image-cleaner\", \"kind\": \"comments\", \"count\": 7, \"logcount\": 1.9459101490553132}, {\"repo\": \"docker-image-cleaner\", \"kind\": \"issues\", \"count\": 6, \"logcount\": 1.791759469228055}, {\"repo\": \"docker-image-cleaner\", \"kind\": \"prs\", \"count\": 3, \"logcount\": 1.0986122886681098}, {\"repo\": \"docker-stacks\", \"kind\": \"comments\", \"count\": 10, \"logcount\": 2.302585092994046}, {\"repo\": \"docker-stacks\", \"kind\": \"issues\", \"count\": 3, \"logcount\": 1.0986122886681098}, {\"repo\": \"helm-chart\", \"kind\": \"comments\", \"count\": 1, \"logcount\": 0.0}, {\"repo\": \"jupyterhub\", \"kind\": \"comments\", \"count\": 21, \"logcount\": 3.044522437723423}, {\"repo\": \"jupyterhub\", \"kind\": \"issues\", \"count\": 5, \"logcount\": 1.6094379124341003}, {\"repo\": \"jupyterhub\", \"kind\": \"prs\", \"count\": 4, \"logcount\": 1.3862943611198906}, {\"repo\": \"jupyterhub-idle-culler\", \"kind\": \"comments\", \"count\": 5, \"logcount\": 1.6094379124341003}, {\"repo\": \"jupyterhub-idle-culler\", \"kind\": \"issues\", \"count\": 1, \"logcount\": 0.0}, {\"repo\": \"jupyterhub-idle-culler\", \"kind\": \"prs\", \"count\": 2, \"logcount\": 0.6931471805599453}, {\"repo\": \"jupyterlab-git\", \"kind\": \"comments\", \"count\": 2, \"logcount\": 0.6931471805599453}, {\"repo\": \"jupyterlab_server\", \"kind\": \"comments\", \"count\": 1, \"logcount\": 0.0}, {\"repo\": \"jupyterlab_server\", \"kind\": \"issues\", \"count\": 1, \"logcount\": 0.0}, {\"repo\": \"kubespawner\", \"kind\": \"comments\", \"count\": 2, \"logcount\": 0.6931471805599453}, {\"repo\": \"kubespawner\", \"kind\": \"prs\", \"count\": 1, \"logcount\": 0.0}, {\"repo\": \"ltiauthenticator\", \"kind\": \"comments\", \"count\": 12, \"logcount\": 2.4849066497880004}, {\"repo\": \"ltiauthenticator\", \"kind\": \"issues\", \"count\": 1, \"logcount\": 0.0}, {\"repo\": \"ltiauthenticator\", \"kind\": \"prs\", \"count\": 7, \"logcount\": 1.9459101490553132}, {\"repo\": \"mybinder.org-deploy\", \"kind\": \"comments\", \"count\": 8, \"logcount\": 2.0794415416798357}, {\"repo\": \"mybinder.org-deploy\", \"kind\": \"issues\", \"count\": 2, \"logcount\": 0.6931471805599453}, {\"repo\": \"mybinder.org-deploy\", \"kind\": \"prs\", \"count\": 2, \"logcount\": 0.6931471805599453}, {\"repo\": \"nbgitpuller\", \"kind\": \"comments\", \"count\": 20, \"logcount\": 2.995732273553991}, {\"repo\": \"nbgitpuller\", \"kind\": \"issues\", \"count\": 6, \"logcount\": 1.791759469228055}, {\"repo\": \"nbgitpuller\", \"kind\": \"prs\", \"count\": 8, \"logcount\": 2.0794415416798357}, {\"repo\": \"notebook\", \"kind\": \"comments\", \"count\": 1, \"logcount\": 0.0}, {\"repo\": \"oauthenticator\", \"kind\": \"comments\", \"count\": 7, \"logcount\": 1.9459101490553132}, {\"repo\": \"repo2docker\", \"kind\": \"comments\", \"count\": 2, \"logcount\": 0.6931471805599453}, {\"repo\": \"repo2docker-action\", \"kind\": \"comments\", \"count\": 1, \"logcount\": 0.0}, {\"repo\": \"sudospawner\", \"kind\": \"comments\", \"count\": 1, \"logcount\": 0.0}, {\"repo\": \"sudospawner\", \"kind\": \"issues\", \"count\": 1, \"logcount\": 0.0}, {\"repo\": \"sudospawner\", \"kind\": \"prs\", \"count\": 1, \"logcount\": 0.0}, {\"repo\": \"team-compass\", \"kind\": \"comments\", \"count\": 8, \"logcount\": 2.0794415416798357}, {\"repo\": \"team-compass\", \"kind\": \"issues\", \"count\": 3, \"logcount\": 1.0986122886681098}, {\"repo\": \"traitlets\", \"kind\": \"issues\", \"count\": 1, \"logcount\": 0.0}, {\"repo\": \"zero-to-jupyterhub-k8s\", \"kind\": \"comments\", \"count\": 45, \"logcount\": 3.8066624897703196}, {\"repo\": \"zero-to-jupyterhub-k8s\", \"kind\": \"issues\", \"count\": 6, \"logcount\": 1.791759469228055}, {\"repo\": \"zero-to-jupyterhub-k8s\", \"kind\": \"prs\", \"count\": 22, \"logcount\": 3.091042453358316}]}}, {\"mode\": \"vega-lite\"});\n",
       "</script>"
      ],
      "text/plain": [
       "alt.HConcatChart(...)"
      ]
     },
     "execution_count": 11,
     "metadata": {},
     "output_type": "execute_result"
    }
   ],
   "source": [
    "ch1 = alt.Chart(repo_summaries, width=600, title=\"Activity per repository\").mark_bar().encode(\n",
    "    x='repo',\n",
    "    y='count',\n",
    "    color='kind',\n",
    "    tooltip=\"kind\"\n",
    ")\n",
    "\n",
    "ch2 = alt.Chart(repo_summaries, width=600, title=\"Log activity per repository\").mark_bar().encode(\n",
    "    x='repo',\n",
    "    y='logcount',\n",
    "    color='kind',\n",
    "    tooltip=\"kind\"\n",
    ")\n",
    "\n",
    "ch1 | ch2"
   ]
  },
  {
   "cell_type": "code",
   "execution_count": 12,
   "id": "0ba379d9",
   "metadata": {
    "execution": {
     "iopub.execute_input": "2021-10-13T01:35:07.881209Z",
     "iopub.status.busy": "2021-10-13T01:35:07.865705Z",
     "iopub.status.idle": "2021-10-13T01:35:08.196537Z",
     "shell.execute_reply": "2021-10-13T01:35:08.197036Z"
    },
    "papermill": {
     "duration": 0.410359,
     "end_time": "2021-10-13T01:35:08.197253",
     "exception": false,
     "start_time": "2021-10-13T01:35:07.786894",
     "status": "completed"
    },
    "tags": [
     "hide_input"
    ]
   },
   "outputs": [
    {
     "data": {
      "text/html": [
       "\n",
       "<div id=\"altair-viz-addfcc36b8f24308ac21a75cce8461b7\"></div>\n",
       "<script type=\"text/javascript\">\n",
       "  (function(spec, embedOpt){\n",
       "    let outputDiv = document.currentScript.previousElementSibling;\n",
       "    if (outputDiv.id !== \"altair-viz-addfcc36b8f24308ac21a75cce8461b7\") {\n",
       "      outputDiv = document.getElementById(\"altair-viz-addfcc36b8f24308ac21a75cce8461b7\");\n",
       "    }\n",
       "    const paths = {\n",
       "      \"vega\": \"https://cdn.jsdelivr.net/npm//vega@5?noext\",\n",
       "      \"vega-lib\": \"https://cdn.jsdelivr.net/npm//vega-lib?noext\",\n",
       "      \"vega-lite\": \"https://cdn.jsdelivr.net/npm//vega-lite@4.8.1?noext\",\n",
       "      \"vega-embed\": \"https://cdn.jsdelivr.net/npm//vega-embed@6?noext\",\n",
       "    };\n",
       "\n",
       "    function loadScript(lib) {\n",
       "      return new Promise(function(resolve, reject) {\n",
       "        var s = document.createElement('script');\n",
       "        s.src = paths[lib];\n",
       "        s.async = true;\n",
       "        s.onload = () => resolve(paths[lib]);\n",
       "        s.onerror = () => reject(`Error loading script: ${paths[lib]}`);\n",
       "        document.getElementsByTagName(\"head\")[0].appendChild(s);\n",
       "      });\n",
       "    }\n",
       "\n",
       "    function showError(err) {\n",
       "      outputDiv.innerHTML = `<div class=\"error\" style=\"color:red;\">${err}</div>`;\n",
       "      throw err;\n",
       "    }\n",
       "\n",
       "    function displayChart(vegaEmbed) {\n",
       "      vegaEmbed(outputDiv, spec, embedOpt)\n",
       "        .catch(err => showError(`Javascript Error: ${err.message}<br>This usually means there's a typo in your chart specification. See the javascript console for the full traceback.`));\n",
       "    }\n",
       "\n",
       "    if(typeof define === \"function\" && define.amd) {\n",
       "      requirejs.config({paths});\n",
       "      require([\"vega-embed\"], displayChart, err => showError(`Error loading script: ${err.message}`));\n",
       "    } else if (typeof vegaEmbed === \"function\") {\n",
       "      displayChart(vegaEmbed);\n",
       "    } else {\n",
       "      loadScript(\"vega\")\n",
       "        .then(() => loadScript(\"vega-lite\"))\n",
       "        .then(() => loadScript(\"vega-embed\"))\n",
       "        .catch(showError)\n",
       "        .then(() => displayChart(vegaEmbed));\n",
       "    }\n",
       "  })({\"config\": {\"axisLeft\": {\"labelFontSize\": 15}, \"axisBottom\": {\"labelFontSize\": 15}}, \"data\": {\"name\": \"data-de1d27c86f04e066a69afe347d863314\"}, \"mark\": \"bar\", \"encoding\": {\"color\": {\"type\": \"nominal\", \"field\": \"kind\"}, \"tooltip\": {\"type\": \"nominal\", \"field\": \"org\"}, \"x\": {\"type\": \"nominal\", \"field\": \"org\"}, \"y\": {\"type\": \"quantitative\", \"field\": \"count\"}}, \"width\": 600, \"$schema\": \"https://vega.github.io/schema/vega-lite/v4.8.1.json\", \"datasets\": {\"data-de1d27c86f04e066a69afe347d863314\": [{\"org\": \"ipython\", \"kind\": \"issues\", \"count\": 1}, {\"org\": \"jupyter\", \"kind\": \"comments\", \"count\": 12}, {\"org\": \"jupyter\", \"kind\": \"issues\", \"count\": 3}, {\"org\": \"jupyterhub\", \"kind\": \"comments\", \"count\": 217}, {\"org\": \"jupyterhub\", \"kind\": \"issues\", \"count\": 45}, {\"org\": \"jupyterhub\", \"kind\": \"prs\", \"count\": 81}, {\"org\": \"jupyterlab\", \"kind\": \"comments\", \"count\": 3}, {\"org\": \"jupyterlab\", \"kind\": \"issues\", \"count\": 1}]}}, {\"mode\": \"vega-lite\"});\n",
       "</script>"
      ],
      "text/plain": [
       "alt.Chart(...)"
      ]
     },
     "execution_count": 12,
     "metadata": {},
     "output_type": "execute_result"
    }
   ],
   "source": [
    "alt.Chart(org_summaries, width=600).mark_bar().encode(\n",
    "    x='org',\n",
    "    y='count',\n",
    "    color='kind',\n",
    "    tooltip=\"org\"\n",
    ")"
   ]
  },
  {
   "cell_type": "markdown",
   "id": "c7fb82c4",
   "metadata": {
    "papermill": {
     "duration": 0.0567,
     "end_time": "2021-10-13T01:35:08.311411",
     "exception": false,
     "start_time": "2021-10-13T01:35:08.254711",
     "status": "completed"
    },
    "tags": []
   },
   "source": [
    "## By repository over time"
   ]
  },
  {
   "cell_type": "markdown",
   "id": "c243520a",
   "metadata": {
    "papermill": {
     "duration": 0.056594,
     "end_time": "2021-10-13T01:35:08.425586",
     "exception": false,
     "start_time": "2021-10-13T01:35:08.368992",
     "status": "completed"
    },
    "tags": []
   },
   "source": [
    "### Comments"
   ]
  },
  {
   "cell_type": "code",
   "execution_count": 13,
   "id": "109fe621",
   "metadata": {
    "execution": {
     "iopub.execute_input": "2021-10-13T01:35:08.542903Z",
     "iopub.status.busy": "2021-10-13T01:35:08.542354Z",
     "iopub.status.idle": "2021-10-13T01:35:09.227415Z",
     "shell.execute_reply": "2021-10-13T01:35:09.226969Z"
    },
    "papermill": {
     "duration": 0.744484,
     "end_time": "2021-10-13T01:35:09.227563",
     "exception": false,
     "start_time": "2021-10-13T01:35:08.483079",
     "status": "completed"
    },
    "tags": [
     "hide_input"
    ]
   },
   "outputs": [
    {
     "data": {
      "text/html": [
       "\n",
       "<div id=\"altair-viz-f163f449d29947d7865d295bd86494d0\"></div>\n",
       "<script type=\"text/javascript\">\n",
       "  (function(spec, embedOpt){\n",
       "    let outputDiv = document.currentScript.previousElementSibling;\n",
       "    if (outputDiv.id !== \"altair-viz-f163f449d29947d7865d295bd86494d0\") {\n",
       "      outputDiv = document.getElementById(\"altair-viz-f163f449d29947d7865d295bd86494d0\");\n",
       "    }\n",
       "    const paths = {\n",
       "      \"vega\": \"https://cdn.jsdelivr.net/npm//vega@5?noext\",\n",
       "      \"vega-lib\": \"https://cdn.jsdelivr.net/npm//vega-lib?noext\",\n",
       "      \"vega-lite\": \"https://cdn.jsdelivr.net/npm//vega-lite@4.8.1?noext\",\n",
       "      \"vega-embed\": \"https://cdn.jsdelivr.net/npm//vega-embed@6?noext\",\n",
       "    };\n",
       "\n",
       "    function loadScript(lib) {\n",
       "      return new Promise(function(resolve, reject) {\n",
       "        var s = document.createElement('script');\n",
       "        s.src = paths[lib];\n",
       "        s.async = true;\n",
       "        s.onload = () => resolve(paths[lib]);\n",
       "        s.onerror = () => reject(`Error loading script: ${paths[lib]}`);\n",
       "        document.getElementsByTagName(\"head\")[0].appendChild(s);\n",
       "      });\n",
       "    }\n",
       "\n",
       "    function showError(err) {\n",
       "      outputDiv.innerHTML = `<div class=\"error\" style=\"color:red;\">${err}</div>`;\n",
       "      throw err;\n",
       "    }\n",
       "\n",
       "    function displayChart(vegaEmbed) {\n",
       "      vegaEmbed(outputDiv, spec, embedOpt)\n",
       "        .catch(err => showError(`Javascript Error: ${err.message}<br>This usually means there's a typo in your chart specification. See the javascript console for the full traceback.`));\n",
       "    }\n",
       "\n",
       "    if(typeof define === \"function\" && define.amd) {\n",
       "      requirejs.config({paths});\n",
       "      require([\"vega-embed\"], displayChart, err => showError(`Error loading script: ${err.message}`));\n",
       "    } else if (typeof vegaEmbed === \"function\") {\n",
       "      displayChart(vegaEmbed);\n",
       "    } else {\n",
       "      loadScript(\"vega\")\n",
       "        .then(() => loadScript(\"vega-lite\"))\n",
       "        .then(() => loadScript(\"vega-embed\"))\n",
       "        .catch(showError)\n",
       "        .then(() => displayChart(vegaEmbed));\n",
       "    }\n",
       "  })({\"config\": {\"axisLeft\": {\"labelFontSize\": 15}, \"axisBottom\": {\"labelFontSize\": 15}}, \"layer\": [{\"data\": {\"name\": \"data-8663ba588b784391d2f33ea751d70f6c\"}, \"mark\": \"line\", \"encoding\": {\"color\": {\"type\": \"nominal\", \"field\": \"repo\"}, \"tooltip\": {\"type\": \"nominal\", \"field\": \"repo\"}, \"x\": {\"type\": \"temporal\", \"field\": \"createdAt\"}, \"y\": {\"type\": \"quantitative\", \"field\": \"count\"}}, \"width\": 600}, {\"data\": {\"name\": \"data-b80365e7d40ee3ff1a302faa52930693\"}, \"mark\": {\"type\": \"line\", \"color\": \"black\"}, \"encoding\": {\"x\": {\"type\": \"temporal\", \"field\": \"createdAt\"}, \"y\": {\"type\": \"quantitative\", \"field\": \"count\"}}, \"width\": 600}], \"$schema\": \"https://vega.github.io/schema/vega-lite/v4.8.1.json\", \"datasets\": {\"data-8663ba588b784391d2f33ea751d70f6c\": [{\"repo\": \"action-k3s-helm\", \"createdAt\": \"2021-10-10T00:00:00\", \"count\": 5}, {\"repo\": \"action-major-minor-tag-calculator\", \"createdAt\": \"2021-09-05T00:00:00\", \"count\": 1}, {\"repo\": \"action-major-minor-tag-calculator\", \"createdAt\": \"2021-09-12T00:00:00\", \"count\": 0}, {\"repo\": \"action-major-minor-tag-calculator\", \"createdAt\": \"2021-09-19T00:00:00\", \"count\": 0}, {\"repo\": \"action-major-minor-tag-calculator\", \"createdAt\": \"2021-09-26T00:00:00\", \"count\": 4}, {\"repo\": \"action-major-minor-tag-calculator\", \"createdAt\": \"2021-10-03T00:00:00\", \"count\": 0}, {\"repo\": \"action-major-minor-tag-calculator\", \"createdAt\": \"2021-10-10T00:00:00\", \"count\": 0}, {\"repo\": \"action-major-minor-tag-calculator\", \"createdAt\": \"2021-10-17T00:00:00\", \"count\": 1}, {\"repo\": \"binderhub\", \"createdAt\": \"2021-09-12T00:00:00\", \"count\": 4}, {\"repo\": \"binderhub\", \"createdAt\": \"2021-09-19T00:00:00\", \"count\": 4}, {\"repo\": \"binderhub\", \"createdAt\": \"2021-09-26T00:00:00\", \"count\": 27}, {\"repo\": \"binderhub\", \"createdAt\": \"2021-10-03T00:00:00\", \"count\": 7}, {\"repo\": \"binderhub\", \"createdAt\": \"2021-10-10T00:00:00\", \"count\": 18}, {\"repo\": \"binderhub\", \"createdAt\": \"2021-10-17T00:00:00\", \"count\": 2}, {\"repo\": \"chartpress\", \"createdAt\": \"2021-09-05T00:00:00\", \"count\": 2}, {\"repo\": \"configurable-http-proxy\", \"createdAt\": \"2021-09-19T00:00:00\", \"count\": 2}, {\"repo\": \"cookiecutter-docker-stacks\", \"createdAt\": \"2021-09-05T00:00:00\", \"count\": 1}, {\"repo\": \"docker-image-cleaner\", \"createdAt\": \"2021-09-19T00:00:00\", \"count\": 4}, {\"repo\": \"docker-image-cleaner\", \"createdAt\": \"2021-09-26T00:00:00\", \"count\": 3}, {\"repo\": \"docker-stacks\", \"createdAt\": \"2021-08-29T00:00:00\", \"count\": 6}, {\"repo\": \"docker-stacks\", \"createdAt\": \"2021-09-05T00:00:00\", \"count\": 4}, {\"repo\": \"helm-chart\", \"createdAt\": \"2021-10-10T00:00:00\", \"count\": 1}, {\"repo\": \"jupyterhub\", \"createdAt\": \"2021-08-22T00:00:00\", \"count\": 2}, {\"repo\": \"jupyterhub\", \"createdAt\": \"2021-08-29T00:00:00\", \"count\": 5}, {\"repo\": \"jupyterhub\", \"createdAt\": \"2021-09-05T00:00:00\", \"count\": 1}, {\"repo\": \"jupyterhub\", \"createdAt\": \"2021-09-12T00:00:00\", \"count\": 1}, {\"repo\": \"jupyterhub\", \"createdAt\": \"2021-09-19T00:00:00\", \"count\": 1}, {\"repo\": \"jupyterhub\", \"createdAt\": \"2021-09-26T00:00:00\", \"count\": 6}, {\"repo\": \"jupyterhub\", \"createdAt\": \"2021-10-03T00:00:00\", \"count\": 2}, {\"repo\": \"jupyterhub\", \"createdAt\": \"2021-10-10T00:00:00\", \"count\": 3}, {\"repo\": \"jupyterhub-idle-culler\", \"createdAt\": \"2021-08-29T00:00:00\", \"count\": 1}, {\"repo\": \"jupyterhub-idle-culler\", \"createdAt\": \"2021-09-05T00:00:00\", \"count\": 0}, {\"repo\": \"jupyterhub-idle-culler\", \"createdAt\": \"2021-09-12T00:00:00\", \"count\": 0}, {\"repo\": \"jupyterhub-idle-culler\", \"createdAt\": \"2021-09-19T00:00:00\", \"count\": 2}, {\"repo\": \"jupyterhub-idle-culler\", \"createdAt\": \"2021-09-26T00:00:00\", \"count\": 1}, {\"repo\": \"jupyterhub-idle-culler\", \"createdAt\": \"2021-10-03T00:00:00\", \"count\": 0}, {\"repo\": \"jupyterhub-idle-culler\", \"createdAt\": \"2021-10-10T00:00:00\", \"count\": 0}, {\"repo\": \"jupyterhub-idle-culler\", \"createdAt\": \"2021-10-17T00:00:00\", \"count\": 1}, {\"repo\": \"jupyterlab-git\", \"createdAt\": \"2021-10-03T00:00:00\", \"count\": 2}, {\"repo\": \"jupyterlab_server\", \"createdAt\": \"2021-10-03T00:00:00\", \"count\": 1}, {\"repo\": \"kubespawner\", \"createdAt\": \"2021-10-10T00:00:00\", \"count\": 2}, {\"repo\": \"ltiauthenticator\", \"createdAt\": \"2021-08-15T00:00:00\", \"count\": 2}, {\"repo\": \"ltiauthenticator\", \"createdAt\": \"2021-08-22T00:00:00\", \"count\": 0}, {\"repo\": \"ltiauthenticator\", \"createdAt\": \"2021-08-29T00:00:00\", \"count\": 3}, {\"repo\": \"ltiauthenticator\", \"createdAt\": \"2021-09-05T00:00:00\", \"count\": 7}, {\"repo\": \"mybinder.org-deploy\", \"createdAt\": \"2021-10-10T00:00:00\", \"count\": 5}, {\"repo\": \"mybinder.org-deploy\", \"createdAt\": \"2021-10-17T00:00:00\", \"count\": 3}, {\"repo\": \"nbgitpuller\", \"createdAt\": \"2021-08-22T00:00:00\", \"count\": 1}, {\"repo\": \"nbgitpuller\", \"createdAt\": \"2021-08-29T00:00:00\", \"count\": 4}, {\"repo\": \"nbgitpuller\", \"createdAt\": \"2021-09-05T00:00:00\", \"count\": 15}, {\"repo\": \"notebook\", \"createdAt\": \"2021-08-29T00:00:00\", \"count\": 1}, {\"repo\": \"oauthenticator\", \"createdAt\": \"2021-09-05T00:00:00\", \"count\": 3}, {\"repo\": \"oauthenticator\", \"createdAt\": \"2021-09-12T00:00:00\", \"count\": 0}, {\"repo\": \"oauthenticator\", \"createdAt\": \"2021-09-19T00:00:00\", \"count\": 1}, {\"repo\": \"oauthenticator\", \"createdAt\": \"2021-09-26T00:00:00\", \"count\": 0}, {\"repo\": \"oauthenticator\", \"createdAt\": \"2021-10-03T00:00:00\", \"count\": 1}, {\"repo\": \"oauthenticator\", \"createdAt\": \"2021-10-10T00:00:00\", \"count\": 2}, {\"repo\": \"repo2docker\", \"createdAt\": \"2021-08-22T00:00:00\", \"count\": 1}, {\"repo\": \"repo2docker\", \"createdAt\": \"2021-08-29T00:00:00\", \"count\": 1}, {\"repo\": \"repo2docker-action\", \"createdAt\": \"2021-09-05T00:00:00\", \"count\": 1}, {\"repo\": \"sudospawner\", \"createdAt\": \"2021-09-12T00:00:00\", \"count\": 1}, {\"repo\": \"team-compass\", \"createdAt\": \"2021-09-19T00:00:00\", \"count\": 2}, {\"repo\": \"team-compass\", \"createdAt\": \"2021-09-26T00:00:00\", \"count\": 5}, {\"repo\": \"team-compass\", \"createdAt\": \"2021-10-03T00:00:00\", \"count\": 1}, {\"repo\": \"zero-to-jupyterhub-k8s\", \"createdAt\": \"2021-08-22T00:00:00\", \"count\": 4}, {\"repo\": \"zero-to-jupyterhub-k8s\", \"createdAt\": \"2021-08-29T00:00:00\", \"count\": 2}, {\"repo\": \"zero-to-jupyterhub-k8s\", \"createdAt\": \"2021-09-05T00:00:00\", \"count\": 6}, {\"repo\": \"zero-to-jupyterhub-k8s\", \"createdAt\": \"2021-09-12T00:00:00\", \"count\": 0}, {\"repo\": \"zero-to-jupyterhub-k8s\", \"createdAt\": \"2021-09-19T00:00:00\", \"count\": 6}, {\"repo\": \"zero-to-jupyterhub-k8s\", \"createdAt\": \"2021-09-26T00:00:00\", \"count\": 9}, {\"repo\": \"zero-to-jupyterhub-k8s\", \"createdAt\": \"2021-10-03T00:00:00\", \"count\": 12}, {\"repo\": \"zero-to-jupyterhub-k8s\", \"createdAt\": \"2021-10-10T00:00:00\", \"count\": 4}, {\"repo\": \"zero-to-jupyterhub-k8s\", \"createdAt\": \"2021-10-17T00:00:00\", \"count\": 2}], \"data-b80365e7d40ee3ff1a302faa52930693\": [{\"createdAt\": \"2021-08-15T00:00:00\", \"count\": 2}, {\"createdAt\": \"2021-08-22T00:00:00\", \"count\": 8}, {\"createdAt\": \"2021-08-29T00:00:00\", \"count\": 23}, {\"createdAt\": \"2021-09-05T00:00:00\", \"count\": 41}, {\"createdAt\": \"2021-09-12T00:00:00\", \"count\": 6}, {\"createdAt\": \"2021-09-19T00:00:00\", \"count\": 22}, {\"createdAt\": \"2021-09-26T00:00:00\", \"count\": 55}, {\"createdAt\": \"2021-10-03T00:00:00\", \"count\": 26}, {\"createdAt\": \"2021-10-10T00:00:00\", \"count\": 40}, {\"createdAt\": \"2021-10-17T00:00:00\", \"count\": 9}]}}, {\"mode\": \"vega-lite\"});\n",
       "</script>"
      ],
      "text/plain": [
       "alt.LayerChart(...)"
      ]
     },
     "execution_count": 13,
     "metadata": {},
     "output_type": "execute_result"
    }
   ],
   "source": [
    "comments_time = comments.groupby('repo').resample('W', on='createdAt').count()['author'].reset_index()\n",
    "comments_time = comments_time.rename(columns={'author': 'count'})\n",
    "comments_time_total = comments_time.groupby('createdAt').agg({\"count\": \"sum\"}).reset_index()\n",
    "ch1 = alt.Chart(comments_time, width=600).mark_line().encode(\n",
    "    x='createdAt',\n",
    "    y='count',\n",
    "    color='repo',\n",
    "    tooltip=\"repo\"\n",
    ")\n",
    "\n",
    "ch2 = alt.Chart(comments_time_total, width=600).mark_line(color=\"black\").encode(\n",
    "    x='createdAt',\n",
    "    y='count',\n",
    ")\n",
    "\n",
    "ch1 + ch2"
   ]
  },
  {
   "cell_type": "markdown",
   "id": "64b5ebac",
   "metadata": {
    "papermill": {
     "duration": 0.058083,
     "end_time": "2021-10-13T01:35:09.344033",
     "exception": false,
     "start_time": "2021-10-13T01:35:09.285950",
     "status": "completed"
    },
    "tags": []
   },
   "source": [
    "### PRs"
   ]
  },
  {
   "cell_type": "code",
   "execution_count": 14,
   "id": "3bb8f722",
   "metadata": {
    "execution": {
     "iopub.execute_input": "2021-10-13T01:35:09.472420Z",
     "iopub.status.busy": "2021-10-13T01:35:09.464358Z",
     "iopub.status.idle": "2021-10-13T01:35:10.133011Z",
     "shell.execute_reply": "2021-10-13T01:35:10.132508Z"
    },
    "papermill": {
     "duration": 0.73076,
     "end_time": "2021-10-13T01:35:10.133182",
     "exception": false,
     "start_time": "2021-10-13T01:35:09.402422",
     "status": "completed"
    },
    "tags": [
     "hide_input"
    ]
   },
   "outputs": [
    {
     "data": {
      "text/html": [
       "\n",
       "<div id=\"altair-viz-e1c42a9005f141e399d135f55993ddf1\"></div>\n",
       "<script type=\"text/javascript\">\n",
       "  (function(spec, embedOpt){\n",
       "    let outputDiv = document.currentScript.previousElementSibling;\n",
       "    if (outputDiv.id !== \"altair-viz-e1c42a9005f141e399d135f55993ddf1\") {\n",
       "      outputDiv = document.getElementById(\"altair-viz-e1c42a9005f141e399d135f55993ddf1\");\n",
       "    }\n",
       "    const paths = {\n",
       "      \"vega\": \"https://cdn.jsdelivr.net/npm//vega@5?noext\",\n",
       "      \"vega-lib\": \"https://cdn.jsdelivr.net/npm//vega-lib?noext\",\n",
       "      \"vega-lite\": \"https://cdn.jsdelivr.net/npm//vega-lite@4.8.1?noext\",\n",
       "      \"vega-embed\": \"https://cdn.jsdelivr.net/npm//vega-embed@6?noext\",\n",
       "    };\n",
       "\n",
       "    function loadScript(lib) {\n",
       "      return new Promise(function(resolve, reject) {\n",
       "        var s = document.createElement('script');\n",
       "        s.src = paths[lib];\n",
       "        s.async = true;\n",
       "        s.onload = () => resolve(paths[lib]);\n",
       "        s.onerror = () => reject(`Error loading script: ${paths[lib]}`);\n",
       "        document.getElementsByTagName(\"head\")[0].appendChild(s);\n",
       "      });\n",
       "    }\n",
       "\n",
       "    function showError(err) {\n",
       "      outputDiv.innerHTML = `<div class=\"error\" style=\"color:red;\">${err}</div>`;\n",
       "      throw err;\n",
       "    }\n",
       "\n",
       "    function displayChart(vegaEmbed) {\n",
       "      vegaEmbed(outputDiv, spec, embedOpt)\n",
       "        .catch(err => showError(`Javascript Error: ${err.message}<br>This usually means there's a typo in your chart specification. See the javascript console for the full traceback.`));\n",
       "    }\n",
       "\n",
       "    if(typeof define === \"function\" && define.amd) {\n",
       "      requirejs.config({paths});\n",
       "      require([\"vega-embed\"], displayChart, err => showError(`Error loading script: ${err.message}`));\n",
       "    } else if (typeof vegaEmbed === \"function\") {\n",
       "      displayChart(vegaEmbed);\n",
       "    } else {\n",
       "      loadScript(\"vega\")\n",
       "        .then(() => loadScript(\"vega-lite\"))\n",
       "        .then(() => loadScript(\"vega-embed\"))\n",
       "        .catch(showError)\n",
       "        .then(() => displayChart(vegaEmbed));\n",
       "    }\n",
       "  })({\"config\": {\"axisLeft\": {\"labelFontSize\": 15}, \"axisBottom\": {\"labelFontSize\": 15}}, \"layer\": [{\"data\": {\"name\": \"data-c391b0855874e650cedba7af8890a9d2\"}, \"mark\": \"line\", \"encoding\": {\"color\": {\"type\": \"nominal\", \"field\": \"repo\"}, \"tooltip\": {\"type\": \"nominal\", \"field\": \"repo\"}, \"x\": {\"type\": \"temporal\", \"field\": \"createdAt\"}, \"y\": {\"type\": \"quantitative\", \"field\": \"count\"}}, \"width\": 600}, {\"data\": {\"name\": \"data-efbd157516c90868e023e8e08e9b71a4\"}, \"mark\": {\"type\": \"line\", \"color\": \"black\"}, \"encoding\": {\"x\": {\"type\": \"temporal\", \"field\": \"createdAt\"}, \"y\": {\"type\": \"quantitative\", \"field\": \"count\"}}, \"width\": 600}], \"$schema\": \"https://vega.github.io/schema/vega-lite/v4.8.1.json\", \"datasets\": {\"data-c391b0855874e650cedba7af8890a9d2\": [{\"repo\": \"action-k3s-helm\", \"createdAt\": \"2021-08-15T00:00:00\", \"count\": 1}, {\"repo\": \"action-k3s-helm\", \"createdAt\": \"2021-08-22T00:00:00\", \"count\": 0}, {\"repo\": \"action-k3s-helm\", \"createdAt\": \"2021-08-29T00:00:00\", \"count\": 0}, {\"repo\": \"action-k3s-helm\", \"createdAt\": \"2021-09-05T00:00:00\", \"count\": 0}, {\"repo\": \"action-k3s-helm\", \"createdAt\": \"2021-09-12T00:00:00\", \"count\": 0}, {\"repo\": \"action-k3s-helm\", \"createdAt\": \"2021-09-19T00:00:00\", \"count\": 0}, {\"repo\": \"action-k3s-helm\", \"createdAt\": \"2021-09-26T00:00:00\", \"count\": 0}, {\"repo\": \"action-k3s-helm\", \"createdAt\": \"2021-10-03T00:00:00\", \"count\": 2}, {\"repo\": \"action-k3s-helm\", \"createdAt\": \"2021-10-10T00:00:00\", \"count\": 2}, {\"repo\": \"action-k8s-namespace-report\", \"createdAt\": \"2021-09-26T00:00:00\", \"count\": 1}, {\"repo\": \"action-k8s-namespace-report\", \"createdAt\": \"2021-10-03T00:00:00\", \"count\": 1}, {\"repo\": \"action-major-minor-tag-calculator\", \"createdAt\": \"2021-09-26T00:00:00\", \"count\": 1}, {\"repo\": \"binderhub\", \"createdAt\": \"2021-09-26T00:00:00\", \"count\": 10}, {\"repo\": \"binderhub\", \"createdAt\": \"2021-10-03T00:00:00\", \"count\": 0}, {\"repo\": \"binderhub\", \"createdAt\": \"2021-10-10T00:00:00\", \"count\": 12}, {\"repo\": \"binderhub\", \"createdAt\": \"2021-10-17T00:00:00\", \"count\": 1}, {\"repo\": \"docker-image-cleaner\", \"createdAt\": \"2021-09-19T00:00:00\", \"count\": 2}, {\"repo\": \"docker-image-cleaner\", \"createdAt\": \"2021-09-26T00:00:00\", \"count\": 0}, {\"repo\": \"docker-image-cleaner\", \"createdAt\": \"2021-10-03T00:00:00\", \"count\": 0}, {\"repo\": \"docker-image-cleaner\", \"createdAt\": \"2021-10-10T00:00:00\", \"count\": 1}, {\"repo\": \"jupyterhub\", \"createdAt\": \"2021-08-29T00:00:00\", \"count\": 4}, {\"repo\": \"jupyterhub-idle-culler\", \"createdAt\": \"2021-09-26T00:00:00\", \"count\": 1}, {\"repo\": \"jupyterhub-idle-culler\", \"createdAt\": \"2021-10-03T00:00:00\", \"count\": 0}, {\"repo\": \"jupyterhub-idle-culler\", \"createdAt\": \"2021-10-10T00:00:00\", \"count\": 0}, {\"repo\": \"jupyterhub-idle-culler\", \"createdAt\": \"2021-10-17T00:00:00\", \"count\": 1}, {\"repo\": \"kubespawner\", \"createdAt\": \"2021-10-10T00:00:00\", \"count\": 1}, {\"repo\": \"ltiauthenticator\", \"createdAt\": \"2021-08-15T00:00:00\", \"count\": 1}, {\"repo\": \"ltiauthenticator\", \"createdAt\": \"2021-08-22T00:00:00\", \"count\": 0}, {\"repo\": \"ltiauthenticator\", \"createdAt\": \"2021-08-29T00:00:00\", \"count\": 5}, {\"repo\": \"ltiauthenticator\", \"createdAt\": \"2021-09-05T00:00:00\", \"count\": 1}, {\"repo\": \"mybinder.org-deploy\", \"createdAt\": \"2021-10-10T00:00:00\", \"count\": 1}, {\"repo\": \"mybinder.org-deploy\", \"createdAt\": \"2021-10-17T00:00:00\", \"count\": 1}, {\"repo\": \"nbgitpuller\", \"createdAt\": \"2021-09-05T00:00:00\", \"count\": 8}, {\"repo\": \"sudospawner\", \"createdAt\": \"2021-04-25T00:00:00\", \"count\": 1}, {\"repo\": \"zero-to-jupyterhub-k8s\", \"createdAt\": \"2021-08-22T00:00:00\", \"count\": 2}, {\"repo\": \"zero-to-jupyterhub-k8s\", \"createdAt\": \"2021-08-29T00:00:00\", \"count\": 1}, {\"repo\": \"zero-to-jupyterhub-k8s\", \"createdAt\": \"2021-09-05T00:00:00\", \"count\": 1}, {\"repo\": \"zero-to-jupyterhub-k8s\", \"createdAt\": \"2021-09-12T00:00:00\", \"count\": 0}, {\"repo\": \"zero-to-jupyterhub-k8s\", \"createdAt\": \"2021-09-19T00:00:00\", \"count\": 0}, {\"repo\": \"zero-to-jupyterhub-k8s\", \"createdAt\": \"2021-09-26T00:00:00\", \"count\": 11}, {\"repo\": \"zero-to-jupyterhub-k8s\", \"createdAt\": \"2021-10-03T00:00:00\", \"count\": 3}, {\"repo\": \"zero-to-jupyterhub-k8s\", \"createdAt\": \"2021-10-10T00:00:00\", \"count\": 2}, {\"repo\": \"zero-to-jupyterhub-k8s\", \"createdAt\": \"2021-10-17T00:00:00\", \"count\": 2}], \"data-efbd157516c90868e023e8e08e9b71a4\": [{\"createdAt\": \"2021-04-25T00:00:00\", \"count\": 1}, {\"createdAt\": \"2021-08-15T00:00:00\", \"count\": 2}, {\"createdAt\": \"2021-08-22T00:00:00\", \"count\": 2}, {\"createdAt\": \"2021-08-29T00:00:00\", \"count\": 10}, {\"createdAt\": \"2021-09-05T00:00:00\", \"count\": 10}, {\"createdAt\": \"2021-09-12T00:00:00\", \"count\": 0}, {\"createdAt\": \"2021-09-19T00:00:00\", \"count\": 2}, {\"createdAt\": \"2021-09-26T00:00:00\", \"count\": 24}, {\"createdAt\": \"2021-10-03T00:00:00\", \"count\": 6}, {\"createdAt\": \"2021-10-10T00:00:00\", \"count\": 19}, {\"createdAt\": \"2021-10-17T00:00:00\", \"count\": 5}]}}, {\"mode\": \"vega-lite\"});\n",
       "</script>"
      ],
      "text/plain": [
       "alt.LayerChart(...)"
      ]
     },
     "execution_count": 14,
     "metadata": {},
     "output_type": "execute_result"
    }
   ],
   "source": [
    "prs_time = prs.groupby('repo').resample('W', on='createdAt').count()['author'].reset_index()\n",
    "prs_time = prs_time.rename(columns={'author': 'count'})\n",
    "prs_time_total = prs_time.groupby('createdAt').agg({\"count\": \"sum\"}).reset_index()\n",
    "\n",
    "ch1 = alt.Chart(prs_time, width=600).mark_line().encode(\n",
    "    x='createdAt',\n",
    "    y='count',\n",
    "    color='repo',\n",
    "    tooltip=\"repo\"\n",
    ")\n",
    "\n",
    "ch2 = alt.Chart(prs_time_total, width=600).mark_line(color=\"black\").encode(\n",
    "    x='createdAt',\n",
    "    y='count',\n",
    ")\n",
    "\n",
    "ch1 + ch2"
   ]
  },
  {
   "cell_type": "code",
   "execution_count": 15,
   "id": "d35ef00d",
   "metadata": {
    "execution": {
     "iopub.execute_input": "2021-10-13T01:35:10.266748Z",
     "iopub.status.busy": "2021-10-13T01:35:10.263890Z",
     "iopub.status.idle": "2021-10-13T01:35:10.669914Z",
     "shell.execute_reply": "2021-10-13T01:35:10.670397Z"
    },
    "papermill": {
     "duration": 0.477125,
     "end_time": "2021-10-13T01:35:10.670594",
     "exception": false,
     "start_time": "2021-10-13T01:35:10.193469",
     "status": "completed"
    },
    "tags": [
     "hide_input"
    ]
   },
   "outputs": [
    {
     "data": {
      "text/html": [
       "\n",
       "<div id=\"altair-viz-6b7f0ca5f06f4f29b608a2a23a856b1a\"></div>\n",
       "<script type=\"text/javascript\">\n",
       "  (function(spec, embedOpt){\n",
       "    let outputDiv = document.currentScript.previousElementSibling;\n",
       "    if (outputDiv.id !== \"altair-viz-6b7f0ca5f06f4f29b608a2a23a856b1a\") {\n",
       "      outputDiv = document.getElementById(\"altair-viz-6b7f0ca5f06f4f29b608a2a23a856b1a\");\n",
       "    }\n",
       "    const paths = {\n",
       "      \"vega\": \"https://cdn.jsdelivr.net/npm//vega@5?noext\",\n",
       "      \"vega-lib\": \"https://cdn.jsdelivr.net/npm//vega-lib?noext\",\n",
       "      \"vega-lite\": \"https://cdn.jsdelivr.net/npm//vega-lite@4.8.1?noext\",\n",
       "      \"vega-embed\": \"https://cdn.jsdelivr.net/npm//vega-embed@6?noext\",\n",
       "    };\n",
       "\n",
       "    function loadScript(lib) {\n",
       "      return new Promise(function(resolve, reject) {\n",
       "        var s = document.createElement('script');\n",
       "        s.src = paths[lib];\n",
       "        s.async = true;\n",
       "        s.onload = () => resolve(paths[lib]);\n",
       "        s.onerror = () => reject(`Error loading script: ${paths[lib]}`);\n",
       "        document.getElementsByTagName(\"head\")[0].appendChild(s);\n",
       "      });\n",
       "    }\n",
       "\n",
       "    function showError(err) {\n",
       "      outputDiv.innerHTML = `<div class=\"error\" style=\"color:red;\">${err}</div>`;\n",
       "      throw err;\n",
       "    }\n",
       "\n",
       "    function displayChart(vegaEmbed) {\n",
       "      vegaEmbed(outputDiv, spec, embedOpt)\n",
       "        .catch(err => showError(`Javascript Error: ${err.message}<br>This usually means there's a typo in your chart specification. See the javascript console for the full traceback.`));\n",
       "    }\n",
       "\n",
       "    if(typeof define === \"function\" && define.amd) {\n",
       "      requirejs.config({paths});\n",
       "      require([\"vega-embed\"], displayChart, err => showError(`Error loading script: ${err.message}`));\n",
       "    } else if (typeof vegaEmbed === \"function\") {\n",
       "      displayChart(vegaEmbed);\n",
       "    } else {\n",
       "      loadScript(\"vega\")\n",
       "        .then(() => loadScript(\"vega-lite\"))\n",
       "        .then(() => loadScript(\"vega-embed\"))\n",
       "        .catch(showError)\n",
       "        .then(() => displayChart(vegaEmbed));\n",
       "    }\n",
       "  })({\"config\": {\"axisLeft\": {\"labelFontSize\": 15}, \"axisBottom\": {\"labelFontSize\": 15}}, \"data\": {\"name\": \"data-826ca6730ef4d6fc3f938e5c2828c878\"}, \"mark\": \"line\", \"encoding\": {\"color\": {\"type\": \"nominal\", \"field\": \"repo\"}, \"tooltip\": {\"type\": \"nominal\", \"field\": \"repo\"}, \"x\": {\"type\": \"temporal\", \"field\": \"closedAt\"}, \"y\": {\"type\": \"quantitative\", \"field\": \"count\"}}, \"width\": 600, \"$schema\": \"https://vega.github.io/schema/vega-lite/v4.8.1.json\", \"datasets\": {\"data-826ca6730ef4d6fc3f938e5c2828c878\": [{\"repo\": \"action-k3s-helm\", \"closedAt\": \"2021-10-10T00:00:00\", \"count\": 2}, {\"repo\": \"action-k8s-namespace-report\", \"closedAt\": \"2021-09-26T00:00:00\", \"count\": 1}, {\"repo\": \"action-major-minor-tag-calculator\", \"closedAt\": \"2021-09-26T00:00:00\", \"count\": 1}, {\"repo\": \"binder\", \"closedAt\": \"2021-10-03T00:00:00\", \"count\": 1}, {\"repo\": \"binderhub\", \"closedAt\": \"2021-08-15T00:00:00\", \"count\": 2}, {\"repo\": \"binderhub\", \"closedAt\": \"2021-08-22T00:00:00\", \"count\": 0}, {\"repo\": \"binderhub\", \"closedAt\": \"2021-08-29T00:00:00\", \"count\": 1}, {\"repo\": \"binderhub\", \"closedAt\": \"2021-09-05T00:00:00\", \"count\": 1}, {\"repo\": \"binderhub\", \"closedAt\": \"2021-09-12T00:00:00\", \"count\": 6}, {\"repo\": \"binderhub\", \"closedAt\": \"2021-09-19T00:00:00\", \"count\": 4}, {\"repo\": \"binderhub\", \"closedAt\": \"2021-09-26T00:00:00\", \"count\": 12}, {\"repo\": \"binderhub\", \"closedAt\": \"2021-10-03T00:00:00\", \"count\": 2}, {\"repo\": \"binderhub\", \"closedAt\": \"2021-10-10T00:00:00\", \"count\": 10}, {\"repo\": \"chartpress\", \"closedAt\": \"2021-09-05T00:00:00\", \"count\": 1}, {\"repo\": \"configurable-http-proxy\", \"closedAt\": \"2021-09-19T00:00:00\", \"count\": 1}, {\"repo\": \"docker-image-cleaner\", \"closedAt\": \"2021-09-26T00:00:00\", \"count\": 1}, {\"repo\": \"docker-image-cleaner\", \"closedAt\": \"2021-10-03T00:00:00\", \"count\": 0}, {\"repo\": \"docker-image-cleaner\", \"closedAt\": \"2021-10-10T00:00:00\", \"count\": 1}, {\"repo\": \"docker-stacks\", \"closedAt\": \"2021-08-29T00:00:00\", \"count\": 1}, {\"repo\": \"docker-stacks\", \"closedAt\": \"2021-09-05T00:00:00\", \"count\": 4}, {\"repo\": \"docker-stacks\", \"closedAt\": \"2021-09-12T00:00:00\", \"count\": 1}, {\"repo\": \"jupyterhub\", \"closedAt\": \"2021-08-29T00:00:00\", \"count\": 3}, {\"repo\": \"jupyterhub\", \"closedAt\": \"2021-09-05T00:00:00\", \"count\": 0}, {\"repo\": \"jupyterhub\", \"closedAt\": \"2021-09-12T00:00:00\", \"count\": 1}, {\"repo\": \"jupyterhub\", \"closedAt\": \"2021-09-19T00:00:00\", \"count\": 1}, {\"repo\": \"jupyterhub\", \"closedAt\": \"2021-09-26T00:00:00\", \"count\": 0}, {\"repo\": \"jupyterhub\", \"closedAt\": \"2021-10-03T00:00:00\", \"count\": 3}, {\"repo\": \"jupyterhub-idle-culler\", \"closedAt\": \"2021-09-19T00:00:00\", \"count\": 2}, {\"repo\": \"kubespawner\", \"closedAt\": \"2021-10-10T00:00:00\", \"count\": 1}, {\"repo\": \"ltiauthenticator\", \"closedAt\": \"2021-08-29T00:00:00\", \"count\": 4}, {\"repo\": \"ltiauthenticator\", \"closedAt\": \"2021-09-05T00:00:00\", \"count\": 2}, {\"repo\": \"mybinder.org-deploy\", \"closedAt\": \"2021-10-17T00:00:00\", \"count\": 1}, {\"repo\": \"nbgitpuller\", \"closedAt\": \"2021-08-29T00:00:00\", \"count\": 1}, {\"repo\": \"nbgitpuller\", \"closedAt\": \"2021-09-05T00:00:00\", \"count\": 5}, {\"repo\": \"oauthenticator\", \"closedAt\": \"2021-09-19T00:00:00\", \"count\": 1}, {\"repo\": \"repo2docker\", \"closedAt\": \"2021-08-29T00:00:00\", \"count\": 2}, {\"repo\": \"team-compass\", \"closedAt\": \"2021-10-03T00:00:00\", \"count\": 1}, {\"repo\": \"zero-to-jupyterhub-k8s\", \"closedAt\": \"2021-09-26T00:00:00\", \"count\": 4}, {\"repo\": \"zero-to-jupyterhub-k8s\", \"closedAt\": \"2021-10-03T00:00:00\", \"count\": 4}, {\"repo\": \"zero-to-jupyterhub-k8s\", \"closedAt\": \"2021-10-10T00:00:00\", \"count\": 3}, {\"repo\": \"zero-to-jupyterhub-k8s\", \"closedAt\": \"2021-10-17T00:00:00\", \"count\": 2}]}}, {\"mode\": \"vega-lite\"});\n",
       "</script>"
      ],
      "text/plain": [
       "alt.Chart(...)"
      ]
     },
     "execution_count": 15,
     "metadata": {},
     "output_type": "execute_result"
    }
   ],
   "source": [
    "closed_by_time = closed_by.groupby('repo').resample('W', on='closedAt').count()['author'].reset_index()\n",
    "closed_by_time = closed_by_time.rename(columns={'author': 'count'})\n",
    "\n",
    "alt.Chart(closed_by_time, width=600).mark_line().encode(\n",
    "    x='closedAt',\n",
    "    y='count',\n",
    "    color='repo',\n",
    "    tooltip=\"repo\"\n",
    ")"
   ]
  },
  {
   "cell_type": "markdown",
   "id": "a6f444f3",
   "metadata": {
    "papermill": {
     "duration": 0.063291,
     "end_time": "2021-10-13T01:35:10.795796",
     "exception": false,
     "start_time": "2021-10-13T01:35:10.732505",
     "status": "completed"
    },
    "tags": []
   },
   "source": [
    "## By type over time"
   ]
  },
  {
   "cell_type": "code",
   "execution_count": 16,
   "id": "1814bc30",
   "metadata": {
    "execution": {
     "iopub.execute_input": "2021-10-13T01:35:10.935291Z",
     "iopub.status.busy": "2021-10-13T01:35:10.934740Z",
     "iopub.status.idle": "2021-10-13T01:35:10.942906Z",
     "shell.execute_reply": "2021-10-13T01:35:10.943309Z"
    },
    "papermill": {
     "duration": 0.08627,
     "end_time": "2021-10-13T01:35:10.943501",
     "exception": false,
     "start_time": "2021-10-13T01:35:10.857231",
     "status": "completed"
    },
    "tags": [
     "remove_cell"
    ]
   },
   "outputs": [],
   "source": [
    "prs_time = prs[['author', 'createdAt']].resample('W', on='createdAt').count()['author'].reset_index()\n",
    "prs_time = prs_time.rename(columns={'author': 'prs'})\n",
    "comments_time = comments[['author', 'createdAt']].resample('W', on='createdAt').count()['author'].reset_index()\n",
    "comments_time = comments_time.rename(columns={'author': 'comments'})\n",
    "\n",
    "total_time = pd.merge(prs_time, comments_time, on='createdAt', how='outer')\n",
    "total_time = total_time.melt(id_vars='createdAt', var_name=\"kind\", value_name=\"count\")\n"
   ]
  },
  {
   "cell_type": "code",
   "execution_count": 17,
   "id": "b69ae508",
   "metadata": {
    "execution": {
     "iopub.execute_input": "2021-10-13T01:35:11.103346Z",
     "iopub.status.busy": "2021-10-13T01:35:11.102763Z",
     "iopub.status.idle": "2021-10-13T01:35:11.379134Z",
     "shell.execute_reply": "2021-10-13T01:35:11.378686Z"
    },
    "papermill": {
     "duration": 0.373906,
     "end_time": "2021-10-13T01:35:11.379286",
     "exception": false,
     "start_time": "2021-10-13T01:35:11.005380",
     "status": "completed"
    },
    "tags": [
     "hide_input"
    ]
   },
   "outputs": [
    {
     "data": {
      "text/html": [
       "\n",
       "<div id=\"altair-viz-fb551481efc24aac9ac5b291c5ef50a0\"></div>\n",
       "<script type=\"text/javascript\">\n",
       "  (function(spec, embedOpt){\n",
       "    let outputDiv = document.currentScript.previousElementSibling;\n",
       "    if (outputDiv.id !== \"altair-viz-fb551481efc24aac9ac5b291c5ef50a0\") {\n",
       "      outputDiv = document.getElementById(\"altair-viz-fb551481efc24aac9ac5b291c5ef50a0\");\n",
       "    }\n",
       "    const paths = {\n",
       "      \"vega\": \"https://cdn.jsdelivr.net/npm//vega@5?noext\",\n",
       "      \"vega-lib\": \"https://cdn.jsdelivr.net/npm//vega-lib?noext\",\n",
       "      \"vega-lite\": \"https://cdn.jsdelivr.net/npm//vega-lite@4.8.1?noext\",\n",
       "      \"vega-embed\": \"https://cdn.jsdelivr.net/npm//vega-embed@6?noext\",\n",
       "    };\n",
       "\n",
       "    function loadScript(lib) {\n",
       "      return new Promise(function(resolve, reject) {\n",
       "        var s = document.createElement('script');\n",
       "        s.src = paths[lib];\n",
       "        s.async = true;\n",
       "        s.onload = () => resolve(paths[lib]);\n",
       "        s.onerror = () => reject(`Error loading script: ${paths[lib]}`);\n",
       "        document.getElementsByTagName(\"head\")[0].appendChild(s);\n",
       "      });\n",
       "    }\n",
       "\n",
       "    function showError(err) {\n",
       "      outputDiv.innerHTML = `<div class=\"error\" style=\"color:red;\">${err}</div>`;\n",
       "      throw err;\n",
       "    }\n",
       "\n",
       "    function displayChart(vegaEmbed) {\n",
       "      vegaEmbed(outputDiv, spec, embedOpt)\n",
       "        .catch(err => showError(`Javascript Error: ${err.message}<br>This usually means there's a typo in your chart specification. See the javascript console for the full traceback.`));\n",
       "    }\n",
       "\n",
       "    if(typeof define === \"function\" && define.amd) {\n",
       "      requirejs.config({paths});\n",
       "      require([\"vega-embed\"], displayChart, err => showError(`Error loading script: ${err.message}`));\n",
       "    } else if (typeof vegaEmbed === \"function\") {\n",
       "      displayChart(vegaEmbed);\n",
       "    } else {\n",
       "      loadScript(\"vega\")\n",
       "        .then(() => loadScript(\"vega-lite\"))\n",
       "        .then(() => loadScript(\"vega-embed\"))\n",
       "        .catch(showError)\n",
       "        .then(() => displayChart(vegaEmbed));\n",
       "    }\n",
       "  })({\"config\": {\"axisLeft\": {\"labelFontSize\": 15}, \"axisBottom\": {\"labelFontSize\": 15}}, \"data\": {\"name\": \"data-c8064ab954ff0dd577ae75180fab586a\"}, \"mark\": \"line\", \"encoding\": {\"color\": {\"type\": \"nominal\", \"field\": \"kind\"}, \"x\": {\"type\": \"temporal\", \"field\": \"createdAt\"}, \"y\": {\"type\": \"quantitative\", \"field\": \"count\"}}, \"width\": 600, \"$schema\": \"https://vega.github.io/schema/vega-lite/v4.8.1.json\", \"datasets\": {\"data-c8064ab954ff0dd577ae75180fab586a\": [{\"createdAt\": \"2021-04-25T00:00:00\", \"kind\": \"prs\", \"count\": 1.0}, {\"createdAt\": \"2021-05-02T00:00:00\", \"kind\": \"prs\", \"count\": 0.0}, {\"createdAt\": \"2021-05-09T00:00:00\", \"kind\": \"prs\", \"count\": 0.0}, {\"createdAt\": \"2021-05-16T00:00:00\", \"kind\": \"prs\", \"count\": 0.0}, {\"createdAt\": \"2021-05-23T00:00:00\", \"kind\": \"prs\", \"count\": 0.0}, {\"createdAt\": \"2021-05-30T00:00:00\", \"kind\": \"prs\", \"count\": 0.0}, {\"createdAt\": \"2021-06-06T00:00:00\", \"kind\": \"prs\", \"count\": 0.0}, {\"createdAt\": \"2021-06-13T00:00:00\", \"kind\": \"prs\", \"count\": 0.0}, {\"createdAt\": \"2021-06-20T00:00:00\", \"kind\": \"prs\", \"count\": 0.0}, {\"createdAt\": \"2021-06-27T00:00:00\", \"kind\": \"prs\", \"count\": 0.0}, {\"createdAt\": \"2021-07-04T00:00:00\", \"kind\": \"prs\", \"count\": 0.0}, {\"createdAt\": \"2021-07-11T00:00:00\", \"kind\": \"prs\", \"count\": 0.0}, {\"createdAt\": \"2021-07-18T00:00:00\", \"kind\": \"prs\", \"count\": 0.0}, {\"createdAt\": \"2021-07-25T00:00:00\", \"kind\": \"prs\", \"count\": 0.0}, {\"createdAt\": \"2021-08-01T00:00:00\", \"kind\": \"prs\", \"count\": 0.0}, {\"createdAt\": \"2021-08-08T00:00:00\", \"kind\": \"prs\", \"count\": 0.0}, {\"createdAt\": \"2021-08-15T00:00:00\", \"kind\": \"prs\", \"count\": 2.0}, {\"createdAt\": \"2021-08-22T00:00:00\", \"kind\": \"prs\", \"count\": 2.0}, {\"createdAt\": \"2021-08-29T00:00:00\", \"kind\": \"prs\", \"count\": 10.0}, {\"createdAt\": \"2021-09-05T00:00:00\", \"kind\": \"prs\", \"count\": 10.0}, {\"createdAt\": \"2021-09-12T00:00:00\", \"kind\": \"prs\", \"count\": 0.0}, {\"createdAt\": \"2021-09-19T00:00:00\", \"kind\": \"prs\", \"count\": 2.0}, {\"createdAt\": \"2021-09-26T00:00:00\", \"kind\": \"prs\", \"count\": 24.0}, {\"createdAt\": \"2021-10-03T00:00:00\", \"kind\": \"prs\", \"count\": 6.0}, {\"createdAt\": \"2021-10-10T00:00:00\", \"kind\": \"prs\", \"count\": 19.0}, {\"createdAt\": \"2021-10-17T00:00:00\", \"kind\": \"prs\", \"count\": 5.0}, {\"createdAt\": \"2021-04-25T00:00:00\", \"kind\": \"comments\", \"count\": null}, {\"createdAt\": \"2021-05-02T00:00:00\", \"kind\": \"comments\", \"count\": null}, {\"createdAt\": \"2021-05-09T00:00:00\", \"kind\": \"comments\", \"count\": null}, {\"createdAt\": \"2021-05-16T00:00:00\", \"kind\": \"comments\", \"count\": null}, {\"createdAt\": \"2021-05-23T00:00:00\", \"kind\": \"comments\", \"count\": null}, {\"createdAt\": \"2021-05-30T00:00:00\", \"kind\": \"comments\", \"count\": null}, {\"createdAt\": \"2021-06-06T00:00:00\", \"kind\": \"comments\", \"count\": null}, {\"createdAt\": \"2021-06-13T00:00:00\", \"kind\": \"comments\", \"count\": null}, {\"createdAt\": \"2021-06-20T00:00:00\", \"kind\": \"comments\", \"count\": null}, {\"createdAt\": \"2021-06-27T00:00:00\", \"kind\": \"comments\", \"count\": null}, {\"createdAt\": \"2021-07-04T00:00:00\", \"kind\": \"comments\", \"count\": null}, {\"createdAt\": \"2021-07-11T00:00:00\", \"kind\": \"comments\", \"count\": null}, {\"createdAt\": \"2021-07-18T00:00:00\", \"kind\": \"comments\", \"count\": null}, {\"createdAt\": \"2021-07-25T00:00:00\", \"kind\": \"comments\", \"count\": null}, {\"createdAt\": \"2021-08-01T00:00:00\", \"kind\": \"comments\", \"count\": null}, {\"createdAt\": \"2021-08-08T00:00:00\", \"kind\": \"comments\", \"count\": null}, {\"createdAt\": \"2021-08-15T00:00:00\", \"kind\": \"comments\", \"count\": 2.0}, {\"createdAt\": \"2021-08-22T00:00:00\", \"kind\": \"comments\", \"count\": 8.0}, {\"createdAt\": \"2021-08-29T00:00:00\", \"kind\": \"comments\", \"count\": 23.0}, {\"createdAt\": \"2021-09-05T00:00:00\", \"kind\": \"comments\", \"count\": 41.0}, {\"createdAt\": \"2021-09-12T00:00:00\", \"kind\": \"comments\", \"count\": 6.0}, {\"createdAt\": \"2021-09-19T00:00:00\", \"kind\": \"comments\", \"count\": 22.0}, {\"createdAt\": \"2021-09-26T00:00:00\", \"kind\": \"comments\", \"count\": 55.0}, {\"createdAt\": \"2021-10-03T00:00:00\", \"kind\": \"comments\", \"count\": 26.0}, {\"createdAt\": \"2021-10-10T00:00:00\", \"kind\": \"comments\", \"count\": 40.0}, {\"createdAt\": \"2021-10-17T00:00:00\", \"kind\": \"comments\", \"count\": 9.0}]}}, {\"mode\": \"vega-lite\"});\n",
       "</script>"
      ],
      "text/plain": [
       "alt.Chart(...)"
      ]
     },
     "execution_count": 17,
     "metadata": {},
     "output_type": "execute_result"
    }
   ],
   "source": [
    "alt.Chart(total_time, width=600).mark_line().encode(\n",
    "    x='createdAt',\n",
    "    y='count',\n",
    "    color='kind'\n",
    ")"
   ]
  }
 ],
 "metadata": {
  "kernelspec": {
   "display_name": "Python 3",
   "language": "python",
   "name": "python3"
  },
  "language_info": {
   "codemirror_mode": {
    "name": "ipython",
    "version": 3
   },
   "file_extension": ".py",
   "mimetype": "text/x-python",
   "name": "python",
   "nbconvert_exporter": "python",
   "pygments_lexer": "ipython3",
   "version": "3.7.12"
  },
  "papermill": {
   "default_parameters": {},
   "duration": 8.365834,
   "end_time": "2021-10-13T01:35:11.856275",
   "environment_variables": {},
   "exception": null,
   "input_path": "./person.ipynb",
   "output_path": "people/consideRatio.ipynb",
   "parameters": {
    "n_days": 60,
    "person": "consideRatio"
   },
   "start_time": "2021-10-13T01:35:03.490441",
   "version": "2.3.3"
  },
  "widgets": {
   "application/vnd.jupyter.widget-state+json": {
    "state": {},
    "version_major": 2,
    "version_minor": 0
   }
  }
 },
 "nbformat": 4,
 "nbformat_minor": 5
}