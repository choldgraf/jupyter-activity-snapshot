{
 "cells": [
  {
   "cell_type": "markdown",
   "metadata": {
    "papermill": {
     "duration": 0.014762,
     "end_time": "2020-11-05T01:23:06.943695",
     "exception": false,
     "start_time": "2020-11-05T01:23:06.928933",
     "status": "completed"
    },
    "tags": []
   },
   "source": [
    "# Report for betatim"
   ]
  },
  {
   "cell_type": "code",
   "execution_count": 1,
   "metadata": {
    "execution": {
     "iopub.execute_input": "2020-11-05T01:23:06.980191Z",
     "iopub.status.busy": "2020-11-05T01:23:06.979596Z",
     "iopub.status.idle": "2020-11-05T01:23:07.900549Z",
     "shell.execute_reply": "2020-11-05T01:23:07.899485Z"
    },
    "papermill": {
     "duration": 0.943054,
     "end_time": "2020-11-05T01:23:07.900916",
     "exception": false,
     "start_time": "2020-11-05T01:23:06.957862",
     "status": "completed"
    },
    "tags": [
     "remove_cell"
    ]
   },
   "outputs": [],
   "source": [
    "import seaborn as sns\n",
    "import pandas as pd\n",
    "import numpy as np\n",
    "import altair as alt\n",
    "from markdown import markdown\n",
    "from IPython.display import Markdown\n",
    "from ipywidgets.widgets import HTML, Tab\n",
    "from ipywidgets import widgets\n",
    "from datetime import timedelta\n",
    "from matplotlib import pyplot as plt\n",
    "import os.path as op\n",
    "\n",
    "from mycode import alt_theme\n",
    "from warnings import simplefilter\n",
    "simplefilter('ignore')"
   ]
  },
  {
   "cell_type": "code",
   "execution_count": 2,
   "metadata": {
    "execution": {
     "iopub.execute_input": "2020-11-05T01:23:07.934861Z",
     "iopub.status.busy": "2020-11-05T01:23:07.933612Z",
     "iopub.status.idle": "2020-11-05T01:23:07.935540Z",
     "shell.execute_reply": "2020-11-05T01:23:07.936002Z"
    },
    "papermill": {
     "duration": 0.021056,
     "end_time": "2020-11-05T01:23:07.936167",
     "exception": false,
     "start_time": "2020-11-05T01:23:07.915111",
     "status": "completed"
    },
    "tags": [
     "remove_cell"
    ]
   },
   "outputs": [],
   "source": [
    "def author_url(author):\n",
    "    return f\"https://github.com/{author}\""
   ]
  },
  {
   "cell_type": "code",
   "execution_count": 3,
   "metadata": {
    "execution": {
     "iopub.execute_input": "2020-11-05T01:23:07.964736Z",
     "iopub.status.busy": "2020-11-05T01:23:07.964150Z",
     "iopub.status.idle": "2020-11-05T01:23:07.966600Z",
     "shell.execute_reply": "2020-11-05T01:23:07.966099Z"
    },
    "papermill": {
     "duration": 0.01909,
     "end_time": "2020-11-05T01:23:07.966730",
     "exception": false,
     "start_time": "2020-11-05T01:23:07.947640",
     "status": "completed"
    },
    "tags": [
     "parameters",
     "hide_input"
    ]
   },
   "outputs": [],
   "source": [
    "# Parameters\n",
    "fmt_date = \"{:%Y-%m-%d}\"\n",
    "\n",
    "n_days = 30 * 2\n",
    "start_date = fmt_date.format(pd.datetime.today() - timedelta(days=n_days))\n",
    "end_date = fmt_date.format(pd.datetime.today())\n",
    "\n",
    "renderer = \"html\"\n",
    "person = \"jasongrout\""
   ]
  },
  {
   "cell_type": "code",
   "execution_count": 4,
   "metadata": {
    "execution": {
     "iopub.execute_input": "2020-11-05T01:23:07.994357Z",
     "iopub.status.busy": "2020-11-05T01:23:07.993773Z",
     "iopub.status.idle": "2020-11-05T01:23:07.995532Z",
     "shell.execute_reply": "2020-11-05T01:23:07.996012Z"
    },
    "papermill": {
     "duration": 0.01756,
     "end_time": "2020-11-05T01:23:07.996167",
     "exception": false,
     "start_time": "2020-11-05T01:23:07.978607",
     "status": "completed"
    },
    "tags": [
     "injected-parameters",
     "remove-cell"
    ]
   },
   "outputs": [],
   "source": [
    "# Parameters\n",
    "person = \"betatim\"\n",
    "n_days = 60\n"
   ]
  },
  {
   "cell_type": "code",
   "execution_count": 5,
   "metadata": {
    "execution": {
     "iopub.execute_input": "2020-11-05T01:23:08.027420Z",
     "iopub.status.busy": "2020-11-05T01:23:08.026882Z",
     "iopub.status.idle": "2020-11-05T01:23:08.029777Z",
     "shell.execute_reply": "2020-11-05T01:23:08.029276Z"
    },
    "papermill": {
     "duration": 0.021406,
     "end_time": "2020-11-05T01:23:08.029919",
     "exception": false,
     "start_time": "2020-11-05T01:23:08.008513",
     "status": "completed"
    },
    "tags": [
     "remove_cell"
    ]
   },
   "outputs": [
    {
     "data": {
      "text/plain": [
       "ThemeRegistry.enable('my_theme')"
      ]
     },
     "execution_count": 5,
     "metadata": {},
     "output_type": "execute_result"
    }
   ],
   "source": [
    "alt.renderers.enable(renderer);\n",
    "alt.themes.register('my_theme', alt_theme)\n",
    "alt.themes.enable(\"my_theme\")"
   ]
  },
  {
   "cell_type": "markdown",
   "metadata": {
    "papermill": {
     "duration": 0.015219,
     "end_time": "2020-11-05T01:23:08.058761",
     "exception": false,
     "start_time": "2020-11-05T01:23:08.043542",
     "status": "completed"
    },
    "tags": []
   },
   "source": [
    "## Load data"
   ]
  },
  {
   "cell_type": "code",
   "execution_count": 6,
   "metadata": {
    "execution": {
     "iopub.execute_input": "2020-11-05T01:23:08.092808Z",
     "iopub.status.busy": "2020-11-05T01:23:08.092256Z",
     "iopub.status.idle": "2020-11-05T01:23:08.288477Z",
     "shell.execute_reply": "2020-11-05T01:23:08.287923Z"
    },
    "papermill": {
     "duration": 0.216987,
     "end_time": "2020-11-05T01:23:08.288660",
     "exception": false,
     "start_time": "2020-11-05T01:23:08.071673",
     "status": "completed"
    },
    "tags": [
     "remove_cell"
    ]
   },
   "outputs": [],
   "source": [
    "from pathlib import Path\n",
    "path_data = Path(\"./\")\n",
    "comments = pd.read_csv(path_data.joinpath('comments.csv'), index_col=0)\n",
    "issues = pd.read_csv(path_data.joinpath('issues.csv'), index_col=0)\n",
    "prs = pd.read_csv(path_data.joinpath('prs.csv'), index_col=0)\n",
    "\n",
    "comments = comments.query('author == @person').drop_duplicates()\n",
    "issues = issues.query('author == @person').drop_duplicates()\n",
    "closed_by = prs.query('mergedBy == @person')\n",
    "prs = prs.query('author == @person').drop_duplicates()"
   ]
  },
  {
   "cell_type": "code",
   "execution_count": 7,
   "metadata": {
    "execution": {
     "iopub.execute_input": "2020-11-05T01:23:08.344228Z",
     "iopub.status.busy": "2020-11-05T01:23:08.332477Z",
     "iopub.status.idle": "2020-11-05T01:23:08.372938Z",
     "shell.execute_reply": "2020-11-05T01:23:08.372034Z"
    },
    "papermill": {
     "duration": 0.069584,
     "end_time": "2020-11-05T01:23:08.373206",
     "exception": false,
     "start_time": "2020-11-05T01:23:08.303622",
     "status": "completed"
    },
    "tags": [
     "remove_cell"
    ]
   },
   "outputs": [],
   "source": [
    "# Time columns\n",
    "# Also drop dates outside of our range\n",
    "time_columns = ['updatedAt', 'createdAt', 'closedAt']\n",
    "for col in time_columns:\n",
    "    for item in [comments, issues, prs, closed_by]:\n",
    "        if col not in item.columns:\n",
    "            continue\n",
    "        dt = pd.to_datetime(item[col]).dt.tz_localize(None)\n",
    "        item[col] = dt\n",
    "        item.query(\"updatedAt < @end_date and updatedAt > @start_date\", inplace=True)"
   ]
  },
  {
   "cell_type": "markdown",
   "metadata": {
    "papermill": {
     "duration": 0.012732,
     "end_time": "2020-11-05T01:23:08.400986",
     "exception": false,
     "start_time": "2020-11-05T01:23:08.388254",
     "status": "completed"
    },
    "tags": []
   },
   "source": [
    "# Repository summaries"
   ]
  },
  {
   "cell_type": "code",
   "execution_count": 8,
   "metadata": {
    "execution": {
     "iopub.execute_input": "2020-11-05T01:23:08.431411Z",
     "iopub.status.busy": "2020-11-05T01:23:08.430857Z",
     "iopub.status.idle": "2020-11-05T01:23:08.449555Z",
     "shell.execute_reply": "2020-11-05T01:23:08.449036Z"
    },
    "papermill": {
     "duration": 0.034313,
     "end_time": "2020-11-05T01:23:08.449702",
     "exception": false,
     "start_time": "2020-11-05T01:23:08.415389",
     "status": "completed"
    },
    "tags": [
     "remove_cell"
    ]
   },
   "outputs": [],
   "source": [
    "summaries = []\n",
    "for idata, name in [(issues, 'issues'), (prs, 'prs'), (comments, 'comments')]:\n",
    "    idata = idata.groupby([\"repo\", \"org\"]).agg({'id': \"count\"}).reset_index().rename(columns={'id': 'count'})\n",
    "    idata[\"kind\"] = name\n",
    "    summaries.append(idata)\n",
    "summaries = pd.concat(summaries)"
   ]
  },
  {
   "cell_type": "code",
   "execution_count": 9,
   "metadata": {
    "execution": {
     "iopub.execute_input": "2020-11-05T01:23:08.487667Z",
     "iopub.status.busy": "2020-11-05T01:23:08.487127Z",
     "iopub.status.idle": "2020-11-05T01:23:08.489472Z",
     "shell.execute_reply": "2020-11-05T01:23:08.488971Z"
    },
    "papermill": {
     "duration": 0.027133,
     "end_time": "2020-11-05T01:23:08.489604",
     "exception": false,
     "start_time": "2020-11-05T01:23:08.462471",
     "status": "completed"
    },
    "tags": [
     "remove_cell"
    ]
   },
   "outputs": [],
   "source": [
    "repo_summaries = summaries.groupby([\"repo\", \"kind\"]).agg({\"count\": \"sum\"}).reset_index()\n",
    "org_summaries = summaries.groupby([\"org\", \"kind\"]).agg({\"count\": \"sum\"}).reset_index()"
   ]
  },
  {
   "cell_type": "code",
   "execution_count": 10,
   "metadata": {
    "execution": {
     "iopub.execute_input": "2020-11-05T01:23:08.520309Z",
     "iopub.status.busy": "2020-11-05T01:23:08.519739Z",
     "iopub.status.idle": "2020-11-05T01:23:08.521942Z",
     "shell.execute_reply": "2020-11-05T01:23:08.521480Z"
    },
    "papermill": {
     "duration": 0.019438,
     "end_time": "2020-11-05T01:23:08.522072",
     "exception": false,
     "start_time": "2020-11-05T01:23:08.502634",
     "status": "completed"
    },
    "tags": [
     "remove_cell"
    ]
   },
   "outputs": [],
   "source": [
    "repo_summaries['logcount'] = np.log(repo_summaries[\"count\"])"
   ]
  },
  {
   "cell_type": "code",
   "execution_count": 11,
   "metadata": {
    "execution": {
     "iopub.execute_input": "2020-11-05T01:23:08.553999Z",
     "iopub.status.busy": "2020-11-05T01:23:08.553461Z",
     "iopub.status.idle": "2020-11-05T01:23:08.608553Z",
     "shell.execute_reply": "2020-11-05T01:23:08.609385Z"
    },
    "papermill": {
     "duration": 0.072869,
     "end_time": "2020-11-05T01:23:08.609675",
     "exception": false,
     "start_time": "2020-11-05T01:23:08.536806",
     "status": "completed"
    },
    "tags": [
     "hide_input"
    ]
   },
   "outputs": [
    {
     "data": {
      "text/html": [
       "\n",
       "<div id=\"altair-viz-4af432d85afb403d9acc88a081372462\"></div>\n",
       "<script type=\"text/javascript\">\n",
       "  (function(spec, embedOpt){\n",
       "    let outputDiv = document.currentScript.previousElementSibling;\n",
       "    if (outputDiv.id !== \"altair-viz-4af432d85afb403d9acc88a081372462\") {\n",
       "      outputDiv = document.getElementById(\"altair-viz-4af432d85afb403d9acc88a081372462\");\n",
       "    }\n",
       "    const paths = {\n",
       "      \"vega\": \"https://cdn.jsdelivr.net/npm//vega@5?noext\",\n",
       "      \"vega-lib\": \"https://cdn.jsdelivr.net/npm//vega-lib?noext\",\n",
       "      \"vega-lite\": \"https://cdn.jsdelivr.net/npm//vega-lite@4.8.1?noext\",\n",
       "      \"vega-embed\": \"https://cdn.jsdelivr.net/npm//vega-embed@6?noext\",\n",
       "    };\n",
       "\n",
       "    function loadScript(lib) {\n",
       "      return new Promise(function(resolve, reject) {\n",
       "        var s = document.createElement('script');\n",
       "        s.src = paths[lib];\n",
       "        s.async = true;\n",
       "        s.onload = () => resolve(paths[lib]);\n",
       "        s.onerror = () => reject(`Error loading script: ${paths[lib]}`);\n",
       "        document.getElementsByTagName(\"head\")[0].appendChild(s);\n",
       "      });\n",
       "    }\n",
       "\n",
       "    function showError(err) {\n",
       "      outputDiv.innerHTML = `<div class=\"error\" style=\"color:red;\">${err}</div>`;\n",
       "      throw err;\n",
       "    }\n",
       "\n",
       "    function displayChart(vegaEmbed) {\n",
       "      vegaEmbed(outputDiv, spec, embedOpt)\n",
       "        .catch(err => showError(`Javascript Error: ${err.message}<br>This usually means there's a typo in your chart specification. See the javascript console for the full traceback.`));\n",
       "    }\n",
       "\n",
       "    if(typeof define === \"function\" && define.amd) {\n",
       "      requirejs.config({paths});\n",
       "      require([\"vega-embed\"], displayChart, err => showError(`Error loading script: ${err.message}`));\n",
       "    } else if (typeof vegaEmbed === \"function\") {\n",
       "      displayChart(vegaEmbed);\n",
       "    } else {\n",
       "      loadScript(\"vega\")\n",
       "        .then(() => loadScript(\"vega-lite\"))\n",
       "        .then(() => loadScript(\"vega-embed\"))\n",
       "        .catch(showError)\n",
       "        .then(() => displayChart(vegaEmbed));\n",
       "    }\n",
       "  })({\"config\": {\"axisLeft\": {\"labelFontSize\": 15}, \"axisBottom\": {\"labelFontSize\": 15}}, \"hconcat\": [{\"mark\": \"bar\", \"encoding\": {\"color\": {\"type\": \"nominal\", \"field\": \"kind\"}, \"tooltip\": {\"type\": \"nominal\", \"field\": \"kind\"}, \"x\": {\"type\": \"nominal\", \"field\": \"repo\"}, \"y\": {\"type\": \"quantitative\", \"field\": \"count\"}}, \"title\": \"Activity per repository\", \"width\": 600}, {\"mark\": \"bar\", \"encoding\": {\"color\": {\"type\": \"nominal\", \"field\": \"kind\"}, \"tooltip\": {\"type\": \"nominal\", \"field\": \"kind\"}, \"x\": {\"type\": \"nominal\", \"field\": \"repo\"}, \"y\": {\"type\": \"quantitative\", \"field\": \"logcount\"}}, \"title\": \"Log activity per repository\", \"width\": 600}], \"data\": {\"name\": \"data-d4cb79a1c815cad8ff6a106cfa624d51\"}, \"$schema\": \"https://vega.github.io/schema/vega-lite/v4.8.1.json\", \"datasets\": {\"data-d4cb79a1c815cad8ff6a106cfa624d51\": [{\"repo\": \".github\", \"kind\": \"comments\", \"count\": 1, \"logcount\": 0.0}, {\"repo\": \"binder\", \"kind\": \"comments\", \"count\": 2, \"logcount\": 0.6931471805599453}, {\"repo\": \"binderhub\", \"kind\": \"comments\", \"count\": 24, \"logcount\": 3.1780538303479458}, {\"repo\": \"binderhub\", \"kind\": \"issues\", \"count\": 1, \"logcount\": 0.0}, {\"repo\": \"binderhub\", \"kind\": \"prs\", \"count\": 2, \"logcount\": 0.6931471805599453}, {\"repo\": \"governance\", \"kind\": \"comments\", \"count\": 1, \"logcount\": 0.0}, {\"repo\": \"jupyterhub\", \"kind\": \"comments\", \"count\": 2, \"logcount\": 0.6931471805599453}, {\"repo\": \"jupyterlab\", \"kind\": \"comments\", \"count\": 1, \"logcount\": 0.0}, {\"repo\": \"kubespawner\", \"kind\": \"issues\", \"count\": 1, \"logcount\": 0.0}, {\"repo\": \"mybinder.org-deploy\", \"kind\": \"comments\", \"count\": 23, \"logcount\": 3.1354942159291497}, {\"repo\": \"mybinder.org-deploy\", \"kind\": \"issues\", \"count\": 3, \"logcount\": 1.0986122886681098}, {\"repo\": \"mybinder.org-deploy\", \"kind\": \"prs\", \"count\": 8, \"logcount\": 2.0794415416798357}, {\"repo\": \"repo2docker\", \"kind\": \"comments\", \"count\": 21, \"logcount\": 3.044522437723423}, {\"repo\": \"repo2docker\", \"kind\": \"issues\", \"count\": 1, \"logcount\": 0.0}, {\"repo\": \"repo2docker\", \"kind\": \"prs\", \"count\": 2, \"logcount\": 0.6931471805599453}, {\"repo\": \"team-compass\", \"kind\": \"comments\", \"count\": 5, \"logcount\": 1.6094379124341003}, {\"repo\": \"team-compass\", \"kind\": \"issues\", \"count\": 1, \"logcount\": 0.0}, {\"repo\": \"the-littlest-jupyterhub\", \"kind\": \"issues\", \"count\": 1, \"logcount\": 0.0}, {\"repo\": \"zero-to-jupyterhub-k8s\", \"kind\": \"comments\", \"count\": 2, \"logcount\": 0.6931471805599453}, {\"repo\": \"zero-to-jupyterhub-k8s\", \"kind\": \"issues\", \"count\": 1, \"logcount\": 0.0}]}}, {\"mode\": \"vega-lite\"});\n",
       "</script>"
      ],
      "text/plain": [
       "alt.HConcatChart(...)"
      ]
     },
     "execution_count": 11,
     "metadata": {},
     "output_type": "execute_result"
    }
   ],
   "source": [
    "ch1 = alt.Chart(repo_summaries, width=600, title=\"Activity per repository\").mark_bar().encode(\n",
    "    x='repo',\n",
    "    y='count',\n",
    "    color='kind',\n",
    "    tooltip=\"kind\"\n",
    ")\n",
    "\n",
    "ch2 = alt.Chart(repo_summaries, width=600, title=\"Log activity per repository\").mark_bar().encode(\n",
    "    x='repo',\n",
    "    y='logcount',\n",
    "    color='kind',\n",
    "    tooltip=\"kind\"\n",
    ")\n",
    "\n",
    "ch1 | ch2"
   ]
  },
  {
   "cell_type": "code",
   "execution_count": 12,
   "metadata": {
    "execution": {
     "iopub.execute_input": "2020-11-05T01:23:08.663381Z",
     "iopub.status.busy": "2020-11-05T01:23:08.650127Z",
     "iopub.status.idle": "2020-11-05T01:23:08.666883Z",
     "shell.execute_reply": "2020-11-05T01:23:08.666404Z"
    },
    "papermill": {
     "duration": 0.043217,
     "end_time": "2020-11-05T01:23:08.667035",
     "exception": false,
     "start_time": "2020-11-05T01:23:08.623818",
     "status": "completed"
    },
    "tags": [
     "hide_input"
    ]
   },
   "outputs": [
    {
     "data": {
      "text/html": [
       "\n",
       "<div id=\"altair-viz-03cde69f74f8410784e2d06b9cd6b5ca\"></div>\n",
       "<script type=\"text/javascript\">\n",
       "  (function(spec, embedOpt){\n",
       "    let outputDiv = document.currentScript.previousElementSibling;\n",
       "    if (outputDiv.id !== \"altair-viz-03cde69f74f8410784e2d06b9cd6b5ca\") {\n",
       "      outputDiv = document.getElementById(\"altair-viz-03cde69f74f8410784e2d06b9cd6b5ca\");\n",
       "    }\n",
       "    const paths = {\n",
       "      \"vega\": \"https://cdn.jsdelivr.net/npm//vega@5?noext\",\n",
       "      \"vega-lib\": \"https://cdn.jsdelivr.net/npm//vega-lib?noext\",\n",
       "      \"vega-lite\": \"https://cdn.jsdelivr.net/npm//vega-lite@4.8.1?noext\",\n",
       "      \"vega-embed\": \"https://cdn.jsdelivr.net/npm//vega-embed@6?noext\",\n",
       "    };\n",
       "\n",
       "    function loadScript(lib) {\n",
       "      return new Promise(function(resolve, reject) {\n",
       "        var s = document.createElement('script');\n",
       "        s.src = paths[lib];\n",
       "        s.async = true;\n",
       "        s.onload = () => resolve(paths[lib]);\n",
       "        s.onerror = () => reject(`Error loading script: ${paths[lib]}`);\n",
       "        document.getElementsByTagName(\"head\")[0].appendChild(s);\n",
       "      });\n",
       "    }\n",
       "\n",
       "    function showError(err) {\n",
       "      outputDiv.innerHTML = `<div class=\"error\" style=\"color:red;\">${err}</div>`;\n",
       "      throw err;\n",
       "    }\n",
       "\n",
       "    function displayChart(vegaEmbed) {\n",
       "      vegaEmbed(outputDiv, spec, embedOpt)\n",
       "        .catch(err => showError(`Javascript Error: ${err.message}<br>This usually means there's a typo in your chart specification. See the javascript console for the full traceback.`));\n",
       "    }\n",
       "\n",
       "    if(typeof define === \"function\" && define.amd) {\n",
       "      requirejs.config({paths});\n",
       "      require([\"vega-embed\"], displayChart, err => showError(`Error loading script: ${err.message}`));\n",
       "    } else if (typeof vegaEmbed === \"function\") {\n",
       "      displayChart(vegaEmbed);\n",
       "    } else {\n",
       "      loadScript(\"vega\")\n",
       "        .then(() => loadScript(\"vega-lite\"))\n",
       "        .then(() => loadScript(\"vega-embed\"))\n",
       "        .catch(showError)\n",
       "        .then(() => displayChart(vegaEmbed));\n",
       "    }\n",
       "  })({\"config\": {\"axisLeft\": {\"labelFontSize\": 15}, \"axisBottom\": {\"labelFontSize\": 15}}, \"data\": {\"name\": \"data-8ed2cf2b1aae667994a0f6cc3204e179\"}, \"mark\": \"bar\", \"encoding\": {\"color\": {\"type\": \"nominal\", \"field\": \"kind\"}, \"tooltip\": {\"type\": \"nominal\", \"field\": \"org\"}, \"x\": {\"type\": \"nominal\", \"field\": \"org\"}, \"y\": {\"type\": \"quantitative\", \"field\": \"count\"}}, \"width\": 600, \"$schema\": \"https://vega.github.io/schema/vega-lite/v4.8.1.json\", \"datasets\": {\"data-8ed2cf2b1aae667994a0f6cc3204e179\": [{\"org\": \"jupyter\", \"kind\": \"comments\", \"count\": 1}, {\"org\": \"jupyterhub\", \"kind\": \"comments\", \"count\": 80}, {\"org\": \"jupyterhub\", \"kind\": \"issues\", \"count\": 9}, {\"org\": \"jupyterhub\", \"kind\": \"prs\", \"count\": 12}, {\"org\": \"jupyterlab\", \"kind\": \"comments\", \"count\": 1}]}}, {\"mode\": \"vega-lite\"});\n",
       "</script>"
      ],
      "text/plain": [
       "alt.Chart(...)"
      ]
     },
     "execution_count": 12,
     "metadata": {},
     "output_type": "execute_result"
    }
   ],
   "source": [
    "alt.Chart(org_summaries, width=600).mark_bar().encode(\n",
    "    x='org',\n",
    "    y='count',\n",
    "    color='kind',\n",
    "    tooltip=\"org\"\n",
    ")"
   ]
  },
  {
   "cell_type": "markdown",
   "metadata": {
    "papermill": {
     "duration": 0.015854,
     "end_time": "2020-11-05T01:23:08.698927",
     "exception": false,
     "start_time": "2020-11-05T01:23:08.683073",
     "status": "completed"
    },
    "tags": []
   },
   "source": [
    "# By repository over time"
   ]
  },
  {
   "cell_type": "markdown",
   "metadata": {
    "papermill": {
     "duration": 0.014366,
     "end_time": "2020-11-05T01:23:08.729083",
     "exception": false,
     "start_time": "2020-11-05T01:23:08.714717",
     "status": "completed"
    },
    "tags": []
   },
   "source": [
    "## Comments"
   ]
  },
  {
   "cell_type": "code",
   "execution_count": 13,
   "metadata": {
    "execution": {
     "iopub.execute_input": "2020-11-05T01:23:08.766651Z",
     "iopub.status.busy": "2020-11-05T01:23:08.765796Z",
     "iopub.status.idle": "2020-11-05T01:23:08.832189Z",
     "shell.execute_reply": "2020-11-05T01:23:08.833018Z"
    },
    "papermill": {
     "duration": 0.089804,
     "end_time": "2020-11-05T01:23:08.833313",
     "exception": false,
     "start_time": "2020-11-05T01:23:08.743509",
     "status": "completed"
    },
    "tags": [
     "hide_input"
    ]
   },
   "outputs": [
    {
     "data": {
      "text/html": [
       "\n",
       "<div id=\"altair-viz-d1aa063d134d4c3fb23f4871507288b2\"></div>\n",
       "<script type=\"text/javascript\">\n",
       "  (function(spec, embedOpt){\n",
       "    let outputDiv = document.currentScript.previousElementSibling;\n",
       "    if (outputDiv.id !== \"altair-viz-d1aa063d134d4c3fb23f4871507288b2\") {\n",
       "      outputDiv = document.getElementById(\"altair-viz-d1aa063d134d4c3fb23f4871507288b2\");\n",
       "    }\n",
       "    const paths = {\n",
       "      \"vega\": \"https://cdn.jsdelivr.net/npm//vega@5?noext\",\n",
       "      \"vega-lib\": \"https://cdn.jsdelivr.net/npm//vega-lib?noext\",\n",
       "      \"vega-lite\": \"https://cdn.jsdelivr.net/npm//vega-lite@4.8.1?noext\",\n",
       "      \"vega-embed\": \"https://cdn.jsdelivr.net/npm//vega-embed@6?noext\",\n",
       "    };\n",
       "\n",
       "    function loadScript(lib) {\n",
       "      return new Promise(function(resolve, reject) {\n",
       "        var s = document.createElement('script');\n",
       "        s.src = paths[lib];\n",
       "        s.async = true;\n",
       "        s.onload = () => resolve(paths[lib]);\n",
       "        s.onerror = () => reject(`Error loading script: ${paths[lib]}`);\n",
       "        document.getElementsByTagName(\"head\")[0].appendChild(s);\n",
       "      });\n",
       "    }\n",
       "\n",
       "    function showError(err) {\n",
       "      outputDiv.innerHTML = `<div class=\"error\" style=\"color:red;\">${err}</div>`;\n",
       "      throw err;\n",
       "    }\n",
       "\n",
       "    function displayChart(vegaEmbed) {\n",
       "      vegaEmbed(outputDiv, spec, embedOpt)\n",
       "        .catch(err => showError(`Javascript Error: ${err.message}<br>This usually means there's a typo in your chart specification. See the javascript console for the full traceback.`));\n",
       "    }\n",
       "\n",
       "    if(typeof define === \"function\" && define.amd) {\n",
       "      requirejs.config({paths});\n",
       "      require([\"vega-embed\"], displayChart, err => showError(`Error loading script: ${err.message}`));\n",
       "    } else if (typeof vegaEmbed === \"function\") {\n",
       "      displayChart(vegaEmbed);\n",
       "    } else {\n",
       "      loadScript(\"vega\")\n",
       "        .then(() => loadScript(\"vega-lite\"))\n",
       "        .then(() => loadScript(\"vega-embed\"))\n",
       "        .catch(showError)\n",
       "        .then(() => displayChart(vegaEmbed));\n",
       "    }\n",
       "  })({\"config\": {\"axisLeft\": {\"labelFontSize\": 15}, \"axisBottom\": {\"labelFontSize\": 15}}, \"layer\": [{\"data\": {\"name\": \"data-b5afb4a8886ff0f98c61acbdfa1cdd6c\"}, \"mark\": \"line\", \"encoding\": {\"color\": {\"type\": \"nominal\", \"field\": \"repo\"}, \"tooltip\": {\"type\": \"nominal\", \"field\": \"repo\"}, \"x\": {\"type\": \"temporal\", \"field\": \"createdAt\"}, \"y\": {\"type\": \"quantitative\", \"field\": \"count\"}}, \"width\": 600}, {\"data\": {\"name\": \"data-960a5d84dfd48fb9c9e8453688c24017\"}, \"mark\": {\"type\": \"line\", \"color\": \"black\"}, \"encoding\": {\"x\": {\"type\": \"temporal\", \"field\": \"createdAt\"}, \"y\": {\"type\": \"quantitative\", \"field\": \"count\"}}, \"width\": 600}], \"$schema\": \"https://vega.github.io/schema/vega-lite/v4.8.1.json\", \"datasets\": {\"data-b5afb4a8886ff0f98c61acbdfa1cdd6c\": [{\"repo\": \".github\", \"createdAt\": \"2020-10-04T00:00:00\", \"count\": 1}, {\"repo\": \"binder\", \"createdAt\": \"2020-10-11T00:00:00\", \"count\": 2}, {\"repo\": \"binderhub\", \"createdAt\": \"2020-09-13T00:00:00\", \"count\": 1}, {\"repo\": \"binderhub\", \"createdAt\": \"2020-09-20T00:00:00\", \"count\": 0}, {\"repo\": \"binderhub\", \"createdAt\": \"2020-09-27T00:00:00\", \"count\": 1}, {\"repo\": \"binderhub\", \"createdAt\": \"2020-10-04T00:00:00\", \"count\": 3}, {\"repo\": \"binderhub\", \"createdAt\": \"2020-10-11T00:00:00\", \"count\": 2}, {\"repo\": \"binderhub\", \"createdAt\": \"2020-10-18T00:00:00\", \"count\": 0}, {\"repo\": \"binderhub\", \"createdAt\": \"2020-10-25T00:00:00\", \"count\": 3}, {\"repo\": \"binderhub\", \"createdAt\": \"2020-11-01T00:00:00\", \"count\": 9}, {\"repo\": \"binderhub\", \"createdAt\": \"2020-11-08T00:00:00\", \"count\": 5}, {\"repo\": \"governance\", \"createdAt\": \"2020-10-11T00:00:00\", \"count\": 1}, {\"repo\": \"jupyterhub\", \"createdAt\": \"2020-09-13T00:00:00\", \"count\": 1}, {\"repo\": \"jupyterhub\", \"createdAt\": \"2020-09-20T00:00:00\", \"count\": 0}, {\"repo\": \"jupyterhub\", \"createdAt\": \"2020-09-27T00:00:00\", \"count\": 0}, {\"repo\": \"jupyterhub\", \"createdAt\": \"2020-10-04T00:00:00\", \"count\": 0}, {\"repo\": \"jupyterhub\", \"createdAt\": \"2020-10-11T00:00:00\", \"count\": 0}, {\"repo\": \"jupyterhub\", \"createdAt\": \"2020-10-18T00:00:00\", \"count\": 0}, {\"repo\": \"jupyterhub\", \"createdAt\": \"2020-10-25T00:00:00\", \"count\": 0}, {\"repo\": \"jupyterhub\", \"createdAt\": \"2020-11-01T00:00:00\", \"count\": 1}, {\"repo\": \"jupyterlab\", \"createdAt\": \"2020-10-11T00:00:00\", \"count\": 1}, {\"repo\": \"mybinder.org-deploy\", \"createdAt\": \"2020-09-13T00:00:00\", \"count\": 5}, {\"repo\": \"mybinder.org-deploy\", \"createdAt\": \"2020-09-20T00:00:00\", \"count\": 3}, {\"repo\": \"mybinder.org-deploy\", \"createdAt\": \"2020-09-27T00:00:00\", \"count\": 1}, {\"repo\": \"mybinder.org-deploy\", \"createdAt\": \"2020-10-04T00:00:00\", \"count\": 6}, {\"repo\": \"mybinder.org-deploy\", \"createdAt\": \"2020-10-11T00:00:00\", \"count\": 1}, {\"repo\": \"mybinder.org-deploy\", \"createdAt\": \"2020-10-18T00:00:00\", \"count\": 1}, {\"repo\": \"mybinder.org-deploy\", \"createdAt\": \"2020-10-25T00:00:00\", \"count\": 1}, {\"repo\": \"mybinder.org-deploy\", \"createdAt\": \"2020-11-01T00:00:00\", \"count\": 4}, {\"repo\": \"mybinder.org-deploy\", \"createdAt\": \"2020-11-08T00:00:00\", \"count\": 1}, {\"repo\": \"repo2docker\", \"createdAt\": \"2020-09-13T00:00:00\", \"count\": 8}, {\"repo\": \"repo2docker\", \"createdAt\": \"2020-09-20T00:00:00\", \"count\": 1}, {\"repo\": \"repo2docker\", \"createdAt\": \"2020-09-27T00:00:00\", \"count\": 1}, {\"repo\": \"repo2docker\", \"createdAt\": \"2020-10-04T00:00:00\", \"count\": 0}, {\"repo\": \"repo2docker\", \"createdAt\": \"2020-10-11T00:00:00\", \"count\": 2}, {\"repo\": \"repo2docker\", \"createdAt\": \"2020-10-18T00:00:00\", \"count\": 1}, {\"repo\": \"repo2docker\", \"createdAt\": \"2020-10-25T00:00:00\", \"count\": 7}, {\"repo\": \"repo2docker\", \"createdAt\": \"2020-11-01T00:00:00\", \"count\": 1}, {\"repo\": \"team-compass\", \"createdAt\": \"2020-09-20T00:00:00\", \"count\": 1}, {\"repo\": \"team-compass\", \"createdAt\": \"2020-09-27T00:00:00\", \"count\": 1}, {\"repo\": \"team-compass\", \"createdAt\": \"2020-10-04T00:00:00\", \"count\": 0}, {\"repo\": \"team-compass\", \"createdAt\": \"2020-10-11T00:00:00\", \"count\": 1}, {\"repo\": \"team-compass\", \"createdAt\": \"2020-10-18T00:00:00\", \"count\": 1}, {\"repo\": \"team-compass\", \"createdAt\": \"2020-10-25T00:00:00\", \"count\": 0}, {\"repo\": \"team-compass\", \"createdAt\": \"2020-11-01T00:00:00\", \"count\": 1}, {\"repo\": \"zero-to-jupyterhub-k8s\", \"createdAt\": \"2020-10-11T00:00:00\", \"count\": 2}], \"data-960a5d84dfd48fb9c9e8453688c24017\": [{\"createdAt\": \"2020-09-13T00:00:00\", \"count\": 15}, {\"createdAt\": \"2020-09-20T00:00:00\", \"count\": 5}, {\"createdAt\": \"2020-09-27T00:00:00\", \"count\": 4}, {\"createdAt\": \"2020-10-04T00:00:00\", \"count\": 10}, {\"createdAt\": \"2020-10-11T00:00:00\", \"count\": 12}, {\"createdAt\": \"2020-10-18T00:00:00\", \"count\": 3}, {\"createdAt\": \"2020-10-25T00:00:00\", \"count\": 11}, {\"createdAt\": \"2020-11-01T00:00:00\", \"count\": 16}, {\"createdAt\": \"2020-11-08T00:00:00\", \"count\": 6}]}}, {\"mode\": \"vega-lite\"});\n",
       "</script>"
      ],
      "text/plain": [
       "alt.LayerChart(...)"
      ]
     },
     "execution_count": 13,
     "metadata": {},
     "output_type": "execute_result"
    }
   ],
   "source": [
    "comments_time = comments.groupby('repo').resample('W', on='createdAt').count()['author'].reset_index()\n",
    "comments_time = comments_time.rename(columns={'author': 'count'})\n",
    "comments_time_total = comments_time.groupby('createdAt').agg({\"count\": \"sum\"}).reset_index()\n",
    "ch1 = alt.Chart(comments_time, width=600).mark_line().encode(\n",
    "    x='createdAt',\n",
    "    y='count',\n",
    "    color='repo',\n",
    "    tooltip=\"repo\"\n",
    ")\n",
    "\n",
    "ch2 = alt.Chart(comments_time_total, width=600).mark_line(color=\"black\").encode(\n",
    "    x='createdAt',\n",
    "    y='count',\n",
    ")\n",
    "\n",
    "ch1 + ch2"
   ]
  },
  {
   "cell_type": "markdown",
   "metadata": {
    "papermill": {
     "duration": 0.016448,
     "end_time": "2020-11-05T01:23:08.866118",
     "exception": false,
     "start_time": "2020-11-05T01:23:08.849670",
     "status": "completed"
    },
    "tags": []
   },
   "source": [
    "## PRs"
   ]
  },
  {
   "cell_type": "code",
   "execution_count": 14,
   "metadata": {
    "execution": {
     "iopub.execute_input": "2020-11-05T01:23:08.909433Z",
     "iopub.status.busy": "2020-11-05T01:23:08.908889Z",
     "iopub.status.idle": "2020-11-05T01:23:08.957081Z",
     "shell.execute_reply": "2020-11-05T01:23:08.957574Z"
    },
    "papermill": {
     "duration": 0.076981,
     "end_time": "2020-11-05T01:23:08.957752",
     "exception": false,
     "start_time": "2020-11-05T01:23:08.880771",
     "status": "completed"
    },
    "tags": [
     "hide_input"
    ]
   },
   "outputs": [
    {
     "data": {
      "text/html": [
       "\n",
       "<div id=\"altair-viz-4c31b0f46555479d9f043dfaaa5a6650\"></div>\n",
       "<script type=\"text/javascript\">\n",
       "  (function(spec, embedOpt){\n",
       "    let outputDiv = document.currentScript.previousElementSibling;\n",
       "    if (outputDiv.id !== \"altair-viz-4c31b0f46555479d9f043dfaaa5a6650\") {\n",
       "      outputDiv = document.getElementById(\"altair-viz-4c31b0f46555479d9f043dfaaa5a6650\");\n",
       "    }\n",
       "    const paths = {\n",
       "      \"vega\": \"https://cdn.jsdelivr.net/npm//vega@5?noext\",\n",
       "      \"vega-lib\": \"https://cdn.jsdelivr.net/npm//vega-lib?noext\",\n",
       "      \"vega-lite\": \"https://cdn.jsdelivr.net/npm//vega-lite@4.8.1?noext\",\n",
       "      \"vega-embed\": \"https://cdn.jsdelivr.net/npm//vega-embed@6?noext\",\n",
       "    };\n",
       "\n",
       "    function loadScript(lib) {\n",
       "      return new Promise(function(resolve, reject) {\n",
       "        var s = document.createElement('script');\n",
       "        s.src = paths[lib];\n",
       "        s.async = true;\n",
       "        s.onload = () => resolve(paths[lib]);\n",
       "        s.onerror = () => reject(`Error loading script: ${paths[lib]}`);\n",
       "        document.getElementsByTagName(\"head\")[0].appendChild(s);\n",
       "      });\n",
       "    }\n",
       "\n",
       "    function showError(err) {\n",
       "      outputDiv.innerHTML = `<div class=\"error\" style=\"color:red;\">${err}</div>`;\n",
       "      throw err;\n",
       "    }\n",
       "\n",
       "    function displayChart(vegaEmbed) {\n",
       "      vegaEmbed(outputDiv, spec, embedOpt)\n",
       "        .catch(err => showError(`Javascript Error: ${err.message}<br>This usually means there's a typo in your chart specification. See the javascript console for the full traceback.`));\n",
       "    }\n",
       "\n",
       "    if(typeof define === \"function\" && define.amd) {\n",
       "      requirejs.config({paths});\n",
       "      require([\"vega-embed\"], displayChart, err => showError(`Error loading script: ${err.message}`));\n",
       "    } else if (typeof vegaEmbed === \"function\") {\n",
       "      displayChart(vegaEmbed);\n",
       "    } else {\n",
       "      loadScript(\"vega\")\n",
       "        .then(() => loadScript(\"vega-lite\"))\n",
       "        .then(() => loadScript(\"vega-embed\"))\n",
       "        .catch(showError)\n",
       "        .then(() => displayChart(vegaEmbed));\n",
       "    }\n",
       "  })({\"config\": {\"axisLeft\": {\"labelFontSize\": 15}, \"axisBottom\": {\"labelFontSize\": 15}}, \"layer\": [{\"data\": {\"name\": \"data-cad007c3ee485fcdfff77b01587f5bd3\"}, \"mark\": \"line\", \"encoding\": {\"color\": {\"type\": \"nominal\", \"field\": \"repo\"}, \"tooltip\": {\"type\": \"nominal\", \"field\": \"repo\"}, \"x\": {\"type\": \"temporal\", \"field\": \"createdAt\"}, \"y\": {\"type\": \"quantitative\", \"field\": \"count\"}}, \"width\": 600}, {\"data\": {\"name\": \"data-f0617675d4439bde0fea632f886b019c\"}, \"mark\": {\"type\": \"line\", \"color\": \"black\"}, \"encoding\": {\"x\": {\"type\": \"temporal\", \"field\": \"createdAt\"}, \"y\": {\"type\": \"quantitative\", \"field\": \"count\"}}, \"width\": 600}], \"$schema\": \"https://vega.github.io/schema/vega-lite/v4.8.1.json\", \"datasets\": {\"data-cad007c3ee485fcdfff77b01587f5bd3\": [{\"repo\": \"binderhub\", \"createdAt\": \"2020-10-04T00:00:00\", \"count\": 2}, {\"repo\": \"mybinder.org-deploy\", \"createdAt\": \"2020-09-13T00:00:00\", \"count\": 1}, {\"repo\": \"mybinder.org-deploy\", \"createdAt\": \"2020-09-20T00:00:00\", \"count\": 1}, {\"repo\": \"mybinder.org-deploy\", \"createdAt\": \"2020-09-27T00:00:00\", \"count\": 3}, {\"repo\": \"mybinder.org-deploy\", \"createdAt\": \"2020-10-04T00:00:00\", \"count\": 1}, {\"repo\": \"mybinder.org-deploy\", \"createdAt\": \"2020-10-11T00:00:00\", \"count\": 0}, {\"repo\": \"mybinder.org-deploy\", \"createdAt\": \"2020-10-18T00:00:00\", \"count\": 1}, {\"repo\": \"mybinder.org-deploy\", \"createdAt\": \"2020-10-25T00:00:00\", \"count\": 0}, {\"repo\": \"mybinder.org-deploy\", \"createdAt\": \"2020-11-01T00:00:00\", \"count\": 0}, {\"repo\": \"mybinder.org-deploy\", \"createdAt\": \"2020-11-08T00:00:00\", \"count\": 1}, {\"repo\": \"repo2docker\", \"createdAt\": \"2020-09-13T00:00:00\", \"count\": 1}, {\"repo\": \"repo2docker\", \"createdAt\": \"2020-09-20T00:00:00\", \"count\": 0}, {\"repo\": \"repo2docker\", \"createdAt\": \"2020-09-27T00:00:00\", \"count\": 0}, {\"repo\": \"repo2docker\", \"createdAt\": \"2020-10-04T00:00:00\", \"count\": 0}, {\"repo\": \"repo2docker\", \"createdAt\": \"2020-10-11T00:00:00\", \"count\": 0}, {\"repo\": \"repo2docker\", \"createdAt\": \"2020-10-18T00:00:00\", \"count\": 0}, {\"repo\": \"repo2docker\", \"createdAt\": \"2020-10-25T00:00:00\", \"count\": 1}], \"data-f0617675d4439bde0fea632f886b019c\": [{\"createdAt\": \"2020-09-13T00:00:00\", \"count\": 2}, {\"createdAt\": \"2020-09-20T00:00:00\", \"count\": 1}, {\"createdAt\": \"2020-09-27T00:00:00\", \"count\": 3}, {\"createdAt\": \"2020-10-04T00:00:00\", \"count\": 3}, {\"createdAt\": \"2020-10-11T00:00:00\", \"count\": 0}, {\"createdAt\": \"2020-10-18T00:00:00\", \"count\": 1}, {\"createdAt\": \"2020-10-25T00:00:00\", \"count\": 1}, {\"createdAt\": \"2020-11-01T00:00:00\", \"count\": 0}, {\"createdAt\": \"2020-11-08T00:00:00\", \"count\": 1}]}}, {\"mode\": \"vega-lite\"});\n",
       "</script>"
      ],
      "text/plain": [
       "alt.LayerChart(...)"
      ]
     },
     "execution_count": 14,
     "metadata": {},
     "output_type": "execute_result"
    }
   ],
   "source": [
    "prs_time = prs.groupby('repo').resample('W', on='createdAt').count()['author'].reset_index()\n",
    "prs_time = prs_time.rename(columns={'author': 'count'})\n",
    "prs_time_total = prs_time.groupby('createdAt').agg({\"count\": \"sum\"}).reset_index()\n",
    "\n",
    "ch1 = alt.Chart(prs_time, width=600).mark_line().encode(\n",
    "    x='createdAt',\n",
    "    y='count',\n",
    "    color='repo',\n",
    "    tooltip=\"repo\"\n",
    ")\n",
    "\n",
    "ch2 = alt.Chart(prs_time_total, width=600).mark_line(color=\"black\").encode(\n",
    "    x='createdAt',\n",
    "    y='count',\n",
    ")\n",
    "\n",
    "ch1 + ch2"
   ]
  },
  {
   "cell_type": "code",
   "execution_count": 15,
   "metadata": {
    "execution": {
     "iopub.execute_input": "2020-11-05T01:23:08.993524Z",
     "iopub.status.busy": "2020-11-05T01:23:08.992947Z",
     "iopub.status.idle": "2020-11-05T01:23:09.037483Z",
     "shell.execute_reply": "2020-11-05T01:23:09.037957Z"
    },
    "papermill": {
     "duration": 0.063692,
     "end_time": "2020-11-05T01:23:09.038143",
     "exception": false,
     "start_time": "2020-11-05T01:23:08.974451",
     "status": "completed"
    },
    "tags": [
     "hide_input"
    ]
   },
   "outputs": [
    {
     "data": {
      "text/html": [
       "\n",
       "<div id=\"altair-viz-478700891ca84fdea3047f084e61c074\"></div>\n",
       "<script type=\"text/javascript\">\n",
       "  (function(spec, embedOpt){\n",
       "    let outputDiv = document.currentScript.previousElementSibling;\n",
       "    if (outputDiv.id !== \"altair-viz-478700891ca84fdea3047f084e61c074\") {\n",
       "      outputDiv = document.getElementById(\"altair-viz-478700891ca84fdea3047f084e61c074\");\n",
       "    }\n",
       "    const paths = {\n",
       "      \"vega\": \"https://cdn.jsdelivr.net/npm//vega@5?noext\",\n",
       "      \"vega-lib\": \"https://cdn.jsdelivr.net/npm//vega-lib?noext\",\n",
       "      \"vega-lite\": \"https://cdn.jsdelivr.net/npm//vega-lite@4.8.1?noext\",\n",
       "      \"vega-embed\": \"https://cdn.jsdelivr.net/npm//vega-embed@6?noext\",\n",
       "    };\n",
       "\n",
       "    function loadScript(lib) {\n",
       "      return new Promise(function(resolve, reject) {\n",
       "        var s = document.createElement('script');\n",
       "        s.src = paths[lib];\n",
       "        s.async = true;\n",
       "        s.onload = () => resolve(paths[lib]);\n",
       "        s.onerror = () => reject(`Error loading script: ${paths[lib]}`);\n",
       "        document.getElementsByTagName(\"head\")[0].appendChild(s);\n",
       "      });\n",
       "    }\n",
       "\n",
       "    function showError(err) {\n",
       "      outputDiv.innerHTML = `<div class=\"error\" style=\"color:red;\">${err}</div>`;\n",
       "      throw err;\n",
       "    }\n",
       "\n",
       "    function displayChart(vegaEmbed) {\n",
       "      vegaEmbed(outputDiv, spec, embedOpt)\n",
       "        .catch(err => showError(`Javascript Error: ${err.message}<br>This usually means there's a typo in your chart specification. See the javascript console for the full traceback.`));\n",
       "    }\n",
       "\n",
       "    if(typeof define === \"function\" && define.amd) {\n",
       "      requirejs.config({paths});\n",
       "      require([\"vega-embed\"], displayChart, err => showError(`Error loading script: ${err.message}`));\n",
       "    } else if (typeof vegaEmbed === \"function\") {\n",
       "      displayChart(vegaEmbed);\n",
       "    } else {\n",
       "      loadScript(\"vega\")\n",
       "        .then(() => loadScript(\"vega-lite\"))\n",
       "        .then(() => loadScript(\"vega-embed\"))\n",
       "        .catch(showError)\n",
       "        .then(() => displayChart(vegaEmbed));\n",
       "    }\n",
       "  })({\"config\": {\"axisLeft\": {\"labelFontSize\": 15}, \"axisBottom\": {\"labelFontSize\": 15}}, \"data\": {\"name\": \"data-a85a1c3a5ff94b6f99e71fd6069c1031\"}, \"mark\": \"line\", \"encoding\": {\"color\": {\"type\": \"nominal\", \"field\": \"repo\"}, \"tooltip\": {\"type\": \"nominal\", \"field\": \"repo\"}, \"x\": {\"type\": \"temporal\", \"field\": \"closedAt\"}, \"y\": {\"type\": \"quantitative\", \"field\": \"count\"}}, \"width\": 600, \"$schema\": \"https://vega.github.io/schema/vega-lite/v4.8.1.json\", \"datasets\": {\"data-a85a1c3a5ff94b6f99e71fd6069c1031\": [{\"repo\": \"binderhub\", \"closedAt\": \"2020-09-13T00:00:00\", \"count\": 1}, {\"repo\": \"binderhub\", \"closedAt\": \"2020-09-20T00:00:00\", \"count\": 0}, {\"repo\": \"binderhub\", \"closedAt\": \"2020-09-27T00:00:00\", \"count\": 0}, {\"repo\": \"binderhub\", \"closedAt\": \"2020-10-04T00:00:00\", \"count\": 1}, {\"repo\": \"binderhub\", \"closedAt\": \"2020-10-11T00:00:00\", \"count\": 1}, {\"repo\": \"binderhub\", \"closedAt\": \"2020-10-18T00:00:00\", \"count\": 0}, {\"repo\": \"binderhub\", \"closedAt\": \"2020-10-25T00:00:00\", \"count\": 0}, {\"repo\": \"binderhub\", \"closedAt\": \"2020-11-01T00:00:00\", \"count\": 4}, {\"repo\": \"binderhub\", \"closedAt\": \"2020-11-08T00:00:00\", \"count\": 1}, {\"repo\": \"mybinder.org-deploy\", \"closedAt\": \"2020-09-13T00:00:00\", \"count\": 2}, {\"repo\": \"mybinder.org-deploy\", \"closedAt\": \"2020-09-20T00:00:00\", \"count\": 1}, {\"repo\": \"mybinder.org-deploy\", \"closedAt\": \"2020-09-27T00:00:00\", \"count\": 4}, {\"repo\": \"mybinder.org-deploy\", \"closedAt\": \"2020-10-04T00:00:00\", \"count\": 2}, {\"repo\": \"repo2docker\", \"closedAt\": \"2020-09-13T00:00:00\", \"count\": 4}, {\"repo\": \"repo2docker\", \"closedAt\": \"2020-09-20T00:00:00\", \"count\": 0}, {\"repo\": \"repo2docker\", \"closedAt\": \"2020-09-27T00:00:00\", \"count\": 3}, {\"repo\": \"repo2docker\", \"closedAt\": \"2020-10-04T00:00:00\", \"count\": 0}, {\"repo\": \"repo2docker\", \"closedAt\": \"2020-10-11T00:00:00\", \"count\": 1}, {\"repo\": \"repo2docker\", \"closedAt\": \"2020-10-18T00:00:00\", \"count\": 1}, {\"repo\": \"repo2docker\", \"closedAt\": \"2020-10-25T00:00:00\", \"count\": 1}, {\"repo\": \"zero-to-jupyterhub-k8s\", \"closedAt\": \"2020-10-18T00:00:00\", \"count\": 1}]}}, {\"mode\": \"vega-lite\"});\n",
       "</script>"
      ],
      "text/plain": [
       "alt.Chart(...)"
      ]
     },
     "execution_count": 15,
     "metadata": {},
     "output_type": "execute_result"
    }
   ],
   "source": [
    "closed_by_time = closed_by.groupby('repo').resample('W', on='closedAt').count()['author'].reset_index()\n",
    "closed_by_time = closed_by_time.rename(columns={'author': 'count'})\n",
    "\n",
    "alt.Chart(closed_by_time, width=600).mark_line().encode(\n",
    "    x='closedAt',\n",
    "    y='count',\n",
    "    color='repo',\n",
    "    tooltip=\"repo\"\n",
    ")"
   ]
  },
  {
   "cell_type": "markdown",
   "metadata": {
    "papermill": {
     "duration": 0.015891,
     "end_time": "2020-11-05T01:23:09.069682",
     "exception": false,
     "start_time": "2020-11-05T01:23:09.053791",
     "status": "completed"
    },
    "tags": []
   },
   "source": [
    "# By type over time"
   ]
  },
  {
   "cell_type": "code",
   "execution_count": 16,
   "metadata": {
    "execution": {
     "iopub.execute_input": "2020-11-05T01:23:09.123980Z",
     "iopub.status.busy": "2020-11-05T01:23:09.123359Z",
     "iopub.status.idle": "2020-11-05T01:23:09.129428Z",
     "shell.execute_reply": "2020-11-05T01:23:09.128934Z"
    },
    "papermill": {
     "duration": 0.042526,
     "end_time": "2020-11-05T01:23:09.129589",
     "exception": false,
     "start_time": "2020-11-05T01:23:09.087063",
     "status": "completed"
    },
    "tags": [
     "remove_cell"
    ]
   },
   "outputs": [],
   "source": [
    "prs_time = prs[['author', 'createdAt']].resample('W', on='createdAt').count()['author'].reset_index()\n",
    "prs_time = prs_time.rename(columns={'author': 'prs'})\n",
    "comments_time = comments[['author', 'createdAt']].resample('W', on='createdAt').count()['author'].reset_index()\n",
    "comments_time = comments_time.rename(columns={'author': 'comments'})\n",
    "\n",
    "total_time = pd.merge(prs_time, comments_time, on='createdAt', how='outer')\n",
    "total_time = total_time.melt(id_vars='createdAt', var_name=\"kind\", value_name=\"count\")\n"
   ]
  },
  {
   "cell_type": "code",
   "execution_count": 17,
   "metadata": {
    "execution": {
     "iopub.execute_input": "2020-11-05T01:23:09.184531Z",
     "iopub.status.busy": "2020-11-05T01:23:09.177915Z",
     "iopub.status.idle": "2020-11-05T01:23:09.187805Z",
     "shell.execute_reply": "2020-11-05T01:23:09.187272Z"
    },
    "papermill": {
     "duration": 0.042479,
     "end_time": "2020-11-05T01:23:09.187958",
     "exception": false,
     "start_time": "2020-11-05T01:23:09.145479",
     "status": "completed"
    },
    "tags": [
     "hide_input"
    ]
   },
   "outputs": [
    {
     "data": {
      "text/html": [
       "\n",
       "<div id=\"altair-viz-9fd96d0e5d8c471bbbef6eaac7c70f0f\"></div>\n",
       "<script type=\"text/javascript\">\n",
       "  (function(spec, embedOpt){\n",
       "    let outputDiv = document.currentScript.previousElementSibling;\n",
       "    if (outputDiv.id !== \"altair-viz-9fd96d0e5d8c471bbbef6eaac7c70f0f\") {\n",
       "      outputDiv = document.getElementById(\"altair-viz-9fd96d0e5d8c471bbbef6eaac7c70f0f\");\n",
       "    }\n",
       "    const paths = {\n",
       "      \"vega\": \"https://cdn.jsdelivr.net/npm//vega@5?noext\",\n",
       "      \"vega-lib\": \"https://cdn.jsdelivr.net/npm//vega-lib?noext\",\n",
       "      \"vega-lite\": \"https://cdn.jsdelivr.net/npm//vega-lite@4.8.1?noext\",\n",
       "      \"vega-embed\": \"https://cdn.jsdelivr.net/npm//vega-embed@6?noext\",\n",
       "    };\n",
       "\n",
       "    function loadScript(lib) {\n",
       "      return new Promise(function(resolve, reject) {\n",
       "        var s = document.createElement('script');\n",
       "        s.src = paths[lib];\n",
       "        s.async = true;\n",
       "        s.onload = () => resolve(paths[lib]);\n",
       "        s.onerror = () => reject(`Error loading script: ${paths[lib]}`);\n",
       "        document.getElementsByTagName(\"head\")[0].appendChild(s);\n",
       "      });\n",
       "    }\n",
       "\n",
       "    function showError(err) {\n",
       "      outputDiv.innerHTML = `<div class=\"error\" style=\"color:red;\">${err}</div>`;\n",
       "      throw err;\n",
       "    }\n",
       "\n",
       "    function displayChart(vegaEmbed) {\n",
       "      vegaEmbed(outputDiv, spec, embedOpt)\n",
       "        .catch(err => showError(`Javascript Error: ${err.message}<br>This usually means there's a typo in your chart specification. See the javascript console for the full traceback.`));\n",
       "    }\n",
       "\n",
       "    if(typeof define === \"function\" && define.amd) {\n",
       "      requirejs.config({paths});\n",
       "      require([\"vega-embed\"], displayChart, err => showError(`Error loading script: ${err.message}`));\n",
       "    } else if (typeof vegaEmbed === \"function\") {\n",
       "      displayChart(vegaEmbed);\n",
       "    } else {\n",
       "      loadScript(\"vega\")\n",
       "        .then(() => loadScript(\"vega-lite\"))\n",
       "        .then(() => loadScript(\"vega-embed\"))\n",
       "        .catch(showError)\n",
       "        .then(() => displayChart(vegaEmbed));\n",
       "    }\n",
       "  })({\"config\": {\"axisLeft\": {\"labelFontSize\": 15}, \"axisBottom\": {\"labelFontSize\": 15}}, \"data\": {\"name\": \"data-8864fb530cd25f961cdfee2e785e1838\"}, \"mark\": \"line\", \"encoding\": {\"color\": {\"type\": \"nominal\", \"field\": \"kind\"}, \"x\": {\"type\": \"temporal\", \"field\": \"createdAt\"}, \"y\": {\"type\": \"quantitative\", \"field\": \"count\"}}, \"width\": 600, \"$schema\": \"https://vega.github.io/schema/vega-lite/v4.8.1.json\", \"datasets\": {\"data-8864fb530cd25f961cdfee2e785e1838\": [{\"createdAt\": \"2020-09-13T00:00:00\", \"kind\": \"prs\", \"count\": 2}, {\"createdAt\": \"2020-09-20T00:00:00\", \"kind\": \"prs\", \"count\": 1}, {\"createdAt\": \"2020-09-27T00:00:00\", \"kind\": \"prs\", \"count\": 3}, {\"createdAt\": \"2020-10-04T00:00:00\", \"kind\": \"prs\", \"count\": 3}, {\"createdAt\": \"2020-10-11T00:00:00\", \"kind\": \"prs\", \"count\": 0}, {\"createdAt\": \"2020-10-18T00:00:00\", \"kind\": \"prs\", \"count\": 1}, {\"createdAt\": \"2020-10-25T00:00:00\", \"kind\": \"prs\", \"count\": 1}, {\"createdAt\": \"2020-11-01T00:00:00\", \"kind\": \"prs\", \"count\": 0}, {\"createdAt\": \"2020-11-08T00:00:00\", \"kind\": \"prs\", \"count\": 1}, {\"createdAt\": \"2020-09-13T00:00:00\", \"kind\": \"comments\", \"count\": 15}, {\"createdAt\": \"2020-09-20T00:00:00\", \"kind\": \"comments\", \"count\": 5}, {\"createdAt\": \"2020-09-27T00:00:00\", \"kind\": \"comments\", \"count\": 4}, {\"createdAt\": \"2020-10-04T00:00:00\", \"kind\": \"comments\", \"count\": 10}, {\"createdAt\": \"2020-10-11T00:00:00\", \"kind\": \"comments\", \"count\": 12}, {\"createdAt\": \"2020-10-18T00:00:00\", \"kind\": \"comments\", \"count\": 3}, {\"createdAt\": \"2020-10-25T00:00:00\", \"kind\": \"comments\", \"count\": 11}, {\"createdAt\": \"2020-11-01T00:00:00\", \"kind\": \"comments\", \"count\": 16}, {\"createdAt\": \"2020-11-08T00:00:00\", \"kind\": \"comments\", \"count\": 6}]}}, {\"mode\": \"vega-lite\"});\n",
       "</script>"
      ],
      "text/plain": [
       "alt.Chart(...)"
      ]
     },
     "execution_count": 17,
     "metadata": {},
     "output_type": "execute_result"
    }
   ],
   "source": [
    "alt.Chart(total_time, width=600).mark_line().encode(\n",
    "    x='createdAt',\n",
    "    y='count',\n",
    "    color='kind'\n",
    ")"
   ]
  }
 ],
 "metadata": {
  "kernelspec": {
   "display_name": "Python 3",
   "language": "python",
   "name": "python3"
  },
  "language_info": {
   "codemirror_mode": {
    "name": "ipython",
    "version": 3
   },
   "file_extension": ".py",
   "mimetype": "text/x-python",
   "name": "python",
   "nbconvert_exporter": "python",
   "pygments_lexer": "ipython3",
   "version": "3.7.9"
  },
  "papermill": {
   "default_parameters": {},
   "duration": 3.340963,
   "end_time": "2020-11-05T01:23:09.616806",
   "environment_variables": {},
   "exception": null,
   "input_path": "./person.ipynb",
   "output_path": "people/betatim.ipynb",
   "parameters": {
    "n_days": 60,
    "person": "betatim"
   },
   "start_time": "2020-11-05T01:23:06.275843",
   "version": "2.2.2"
  },
  "widgets": {
   "application/vnd.jupyter.widget-state+json": {
    "state": {},
    "version_major": 2,
    "version_minor": 0
   }
  }
 },
 "nbformat": 4,
 "nbformat_minor": 4
}