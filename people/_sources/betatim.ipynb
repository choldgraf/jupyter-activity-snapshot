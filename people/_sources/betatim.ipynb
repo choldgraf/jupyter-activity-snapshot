{
 "cells": [
  {
   "cell_type": "markdown",
   "metadata": {
    "papermill": {
     "duration": 0.016755,
     "end_time": "2020-07-14T01:13:36.988373",
     "exception": false,
     "start_time": "2020-07-14T01:13:36.971618",
     "status": "completed"
    },
    "tags": []
   },
   "source": [
    "# Report for betatim"
   ]
  },
  {
   "cell_type": "code",
   "execution_count": 1,
   "metadata": {
    "execution": {
     "iopub.execute_input": "2020-07-14T01:13:37.020465Z",
     "iopub.status.busy": "2020-07-14T01:13:37.019791Z",
     "iopub.status.idle": "2020-07-14T01:13:37.941540Z",
     "shell.execute_reply": "2020-07-14T01:13:37.941031Z"
    },
    "papermill": {
     "duration": 0.938826,
     "end_time": "2020-07-14T01:13:37.941713",
     "exception": false,
     "start_time": "2020-07-14T01:13:37.002887",
     "status": "completed"
    },
    "tags": [
     "remove_cell"
    ]
   },
   "outputs": [],
   "source": [
    "import seaborn as sns\n",
    "import pandas as pd\n",
    "import numpy as np\n",
    "import altair as alt\n",
    "from markdown import markdown\n",
    "from IPython.display import Markdown\n",
    "from ipywidgets.widgets import HTML, Tab\n",
    "from ipywidgets import widgets\n",
    "from datetime import timedelta\n",
    "from matplotlib import pyplot as plt\n",
    "import os.path as op\n",
    "\n",
    "from mycode import alt_theme\n",
    "from warnings import simplefilter\n",
    "simplefilter('ignore')"
   ]
  },
  {
   "cell_type": "code",
   "execution_count": 2,
   "metadata": {
    "execution": {
     "iopub.execute_input": "2020-07-14T01:13:37.976894Z",
     "iopub.status.busy": "2020-07-14T01:13:37.976257Z",
     "iopub.status.idle": "2020-07-14T01:13:37.979299Z",
     "shell.execute_reply": "2020-07-14T01:13:37.978596Z"
    },
    "papermill": {
     "duration": 0.021213,
     "end_time": "2020-07-14T01:13:37.979446",
     "exception": false,
     "start_time": "2020-07-14T01:13:37.958233",
     "status": "completed"
    },
    "tags": [
     "remove_cell"
    ]
   },
   "outputs": [],
   "source": [
    "def author_url(author):\n",
    "    return f\"https://github.com/{author}\""
   ]
  },
  {
   "cell_type": "code",
   "execution_count": 3,
   "metadata": {
    "execution": {
     "iopub.execute_input": "2020-07-14T01:13:38.009486Z",
     "iopub.status.busy": "2020-07-14T01:13:38.008753Z",
     "iopub.status.idle": "2020-07-14T01:13:38.011320Z",
     "shell.execute_reply": "2020-07-14T01:13:38.010781Z"
    },
    "papermill": {
     "duration": 0.01934,
     "end_time": "2020-07-14T01:13:38.011427",
     "exception": false,
     "start_time": "2020-07-14T01:13:37.992087",
     "status": "completed"
    },
    "tags": [
     "parameters",
     "hide_input"
    ]
   },
   "outputs": [],
   "source": [
    "# Parameters\n",
    "fmt_date = \"{:%Y-%m-%d}\"\n",
    "\n",
    "n_days = 30 * 2\n",
    "start_date = fmt_date.format(pd.datetime.today() - timedelta(days=n_days))\n",
    "end_date = fmt_date.format(pd.datetime.today())\n",
    "\n",
    "renderer = \"html\"\n",
    "person = \"jasongrout\""
   ]
  },
  {
   "cell_type": "code",
   "execution_count": 4,
   "metadata": {
    "execution": {
     "iopub.execute_input": "2020-07-14T01:13:38.042463Z",
     "iopub.status.busy": "2020-07-14T01:13:38.041912Z",
     "iopub.status.idle": "2020-07-14T01:13:38.044613Z",
     "shell.execute_reply": "2020-07-14T01:13:38.043992Z"
    },
    "papermill": {
     "duration": 0.019937,
     "end_time": "2020-07-14T01:13:38.044724",
     "exception": false,
     "start_time": "2020-07-14T01:13:38.024787",
     "status": "completed"
    },
    "tags": [
     "injected-parameters",
     "remove-cell"
    ]
   },
   "outputs": [],
   "source": [
    "# Parameters\n",
    "person = \"betatim\"\n",
    "n_days = 60\n"
   ]
  },
  {
   "cell_type": "code",
   "execution_count": 5,
   "metadata": {
    "execution": {
     "iopub.execute_input": "2020-07-14T01:13:38.084605Z",
     "iopub.status.busy": "2020-07-14T01:13:38.083807Z",
     "iopub.status.idle": "2020-07-14T01:13:38.086693Z",
     "shell.execute_reply": "2020-07-14T01:13:38.087577Z"
    },
    "papermill": {
     "duration": 0.027457,
     "end_time": "2020-07-14T01:13:38.087750",
     "exception": false,
     "start_time": "2020-07-14T01:13:38.060293",
     "status": "completed"
    },
    "tags": [
     "remove_cell"
    ]
   },
   "outputs": [
    {
     "data": {
      "text/plain": [
       "ThemeRegistry.enable('my_theme')"
      ]
     },
     "execution_count": 5,
     "metadata": {},
     "output_type": "execute_result"
    }
   ],
   "source": [
    "alt.renderers.enable(renderer);\n",
    "alt.themes.register('my_theme', alt_theme)\n",
    "alt.themes.enable(\"my_theme\")"
   ]
  },
  {
   "cell_type": "markdown",
   "metadata": {
    "papermill": {
     "duration": 0.015541,
     "end_time": "2020-07-14T01:13:38.119032",
     "exception": false,
     "start_time": "2020-07-14T01:13:38.103491",
     "status": "completed"
    },
    "tags": []
   },
   "source": [
    "## Load data"
   ]
  },
  {
   "cell_type": "code",
   "execution_count": 6,
   "metadata": {
    "execution": {
     "iopub.execute_input": "2020-07-14T01:13:38.155369Z",
     "iopub.status.busy": "2020-07-14T01:13:38.154721Z",
     "iopub.status.idle": "2020-07-14T01:13:38.319421Z",
     "shell.execute_reply": "2020-07-14T01:13:38.318497Z"
    },
    "papermill": {
     "duration": 0.186576,
     "end_time": "2020-07-14T01:13:38.319575",
     "exception": false,
     "start_time": "2020-07-14T01:13:38.132999",
     "status": "completed"
    },
    "tags": [
     "remove_cell"
    ]
   },
   "outputs": [],
   "source": [
    "from pathlib import Path\n",
    "path_data = Path(\"./\")\n",
    "comments = pd.read_csv(path_data.joinpath('comments.csv'), index_col=0)\n",
    "issues = pd.read_csv(path_data.joinpath('issues.csv'), index_col=0)\n",
    "prs = pd.read_csv(path_data.joinpath('prs.csv'), index_col=0)\n",
    "\n",
    "comments = comments.query('author == @person').drop_duplicates()\n",
    "issues = issues.query('author == @person').drop_duplicates()\n",
    "closed_by = prs.query('mergedBy == @person')\n",
    "prs = prs.query('author == @person').drop_duplicates()"
   ]
  },
  {
   "cell_type": "code",
   "execution_count": 7,
   "metadata": {
    "execution": {
     "iopub.execute_input": "2020-07-14T01:13:38.387576Z",
     "iopub.status.busy": "2020-07-14T01:13:38.386810Z",
     "iopub.status.idle": "2020-07-14T01:13:38.424816Z",
     "shell.execute_reply": "2020-07-14T01:13:38.424213Z"
    },
    "papermill": {
     "duration": 0.090839,
     "end_time": "2020-07-14T01:13:38.424936",
     "exception": false,
     "start_time": "2020-07-14T01:13:38.334097",
     "status": "completed"
    },
    "tags": [
     "remove_cell"
    ]
   },
   "outputs": [],
   "source": [
    "# Time columns\n",
    "# Also drop dates outside of our range\n",
    "time_columns = ['updatedAt', 'createdAt', 'closedAt']\n",
    "for col in time_columns:\n",
    "    for item in [comments, issues, prs, closed_by]:\n",
    "        if col not in item.columns:\n",
    "            continue\n",
    "        dt = pd.to_datetime(item[col]).dt.tz_localize(None)\n",
    "        item[col] = dt\n",
    "        item.query(\"updatedAt < @end_date and updatedAt > @start_date\", inplace=True)"
   ]
  },
  {
   "cell_type": "markdown",
   "metadata": {
    "papermill": {
     "duration": 0.025253,
     "end_time": "2020-07-14T01:13:38.467535",
     "exception": false,
     "start_time": "2020-07-14T01:13:38.442282",
     "status": "completed"
    },
    "tags": []
   },
   "source": [
    "# Repository summaries"
   ]
  },
  {
   "cell_type": "code",
   "execution_count": 8,
   "metadata": {
    "execution": {
     "iopub.execute_input": "2020-07-14T01:13:38.507829Z",
     "iopub.status.busy": "2020-07-14T01:13:38.506947Z",
     "iopub.status.idle": "2020-07-14T01:13:38.528664Z",
     "shell.execute_reply": "2020-07-14T01:13:38.527957Z"
    },
    "papermill": {
     "duration": 0.046096,
     "end_time": "2020-07-14T01:13:38.528821",
     "exception": false,
     "start_time": "2020-07-14T01:13:38.482725",
     "status": "completed"
    },
    "tags": [
     "remove_cell"
    ]
   },
   "outputs": [],
   "source": [
    "summaries = []\n",
    "for idata, name in [(issues, 'issues'), (prs, 'prs'), (comments, 'comments')]:\n",
    "    idata = idata.groupby([\"repo\", \"org\"]).agg({'id': \"count\"}).reset_index().rename(columns={'id': 'count'})\n",
    "    idata[\"kind\"] = name\n",
    "    summaries.append(idata)\n",
    "summaries = pd.concat(summaries)"
   ]
  },
  {
   "cell_type": "code",
   "execution_count": 9,
   "metadata": {
    "execution": {
     "iopub.execute_input": "2020-07-14T01:13:38.560168Z",
     "iopub.status.busy": "2020-07-14T01:13:38.559636Z",
     "iopub.status.idle": "2020-07-14T01:13:38.572928Z",
     "shell.execute_reply": "2020-07-14T01:13:38.573378Z"
    },
    "papermill": {
     "duration": 0.029975,
     "end_time": "2020-07-14T01:13:38.573510",
     "exception": false,
     "start_time": "2020-07-14T01:13:38.543535",
     "status": "completed"
    },
    "tags": [
     "remove_cell"
    ]
   },
   "outputs": [],
   "source": [
    "repo_summaries = summaries.groupby([\"repo\", \"kind\"]).agg({\"count\": \"sum\"}).reset_index()\n",
    "org_summaries = summaries.groupby([\"org\", \"kind\"]).agg({\"count\": \"sum\"}).reset_index()"
   ]
  },
  {
   "cell_type": "code",
   "execution_count": 10,
   "metadata": {
    "execution": {
     "iopub.execute_input": "2020-07-14T01:13:38.608203Z",
     "iopub.status.busy": "2020-07-14T01:13:38.607349Z",
     "iopub.status.idle": "2020-07-14T01:13:38.610737Z",
     "shell.execute_reply": "2020-07-14T01:13:38.609947Z"
    },
    "papermill": {
     "duration": 0.024443,
     "end_time": "2020-07-14T01:13:38.610858",
     "exception": false,
     "start_time": "2020-07-14T01:13:38.586415",
     "status": "completed"
    },
    "tags": [
     "remove_cell"
    ]
   },
   "outputs": [],
   "source": [
    "repo_summaries['logcount'] = np.log(repo_summaries[\"count\"])"
   ]
  },
  {
   "cell_type": "code",
   "execution_count": 11,
   "metadata": {
    "execution": {
     "iopub.execute_input": "2020-07-14T01:13:38.662382Z",
     "iopub.status.busy": "2020-07-14T01:13:38.652142Z",
     "iopub.status.idle": "2020-07-14T01:13:38.695138Z",
     "shell.execute_reply": "2020-07-14T01:13:38.695751Z"
    },
    "papermill": {
     "duration": 0.071192,
     "end_time": "2020-07-14T01:13:38.695905",
     "exception": false,
     "start_time": "2020-07-14T01:13:38.624713",
     "status": "completed"
    },
    "tags": [
     "hide_input"
    ]
   },
   "outputs": [
    {
     "data": {
      "text/html": [
       "\n",
       "<div id=\"altair-viz-f783dc5ecf854d38ba9718fb23b64cb7\"></div>\n",
       "<script type=\"text/javascript\">\n",
       "  (function(spec, embedOpt){\n",
       "    let outputDiv = document.currentScript.previousElementSibling;\n",
       "    if (outputDiv.id !== \"altair-viz-f783dc5ecf854d38ba9718fb23b64cb7\") {\n",
       "      outputDiv = document.getElementById(\"altair-viz-f783dc5ecf854d38ba9718fb23b64cb7\");\n",
       "    }\n",
       "    const paths = {\n",
       "      \"vega\": \"https://cdn.jsdelivr.net/npm//vega@5?noext\",\n",
       "      \"vega-lib\": \"https://cdn.jsdelivr.net/npm//vega-lib?noext\",\n",
       "      \"vega-lite\": \"https://cdn.jsdelivr.net/npm//vega-lite@4.8.1?noext\",\n",
       "      \"vega-embed\": \"https://cdn.jsdelivr.net/npm//vega-embed@6?noext\",\n",
       "    };\n",
       "\n",
       "    function loadScript(lib) {\n",
       "      return new Promise(function(resolve, reject) {\n",
       "        var s = document.createElement('script');\n",
       "        s.src = paths[lib];\n",
       "        s.async = true;\n",
       "        s.onload = () => resolve(paths[lib]);\n",
       "        s.onerror = () => reject(`Error loading script: ${paths[lib]}`);\n",
       "        document.getElementsByTagName(\"head\")[0].appendChild(s);\n",
       "      });\n",
       "    }\n",
       "\n",
       "    function showError(err) {\n",
       "      outputDiv.innerHTML = `<div class=\"error\" style=\"color:red;\">${err}</div>`;\n",
       "      throw err;\n",
       "    }\n",
       "\n",
       "    function displayChart(vegaEmbed) {\n",
       "      vegaEmbed(outputDiv, spec, embedOpt)\n",
       "        .catch(err => showError(`Javascript Error: ${err.message}<br>This usually means there's a typo in your chart specification. See the javascript console for the full traceback.`));\n",
       "    }\n",
       "\n",
       "    if(typeof define === \"function\" && define.amd) {\n",
       "      requirejs.config({paths});\n",
       "      require([\"vega-embed\"], displayChart, err => showError(`Error loading script: ${err.message}`));\n",
       "    } else if (typeof vegaEmbed === \"function\") {\n",
       "      displayChart(vegaEmbed);\n",
       "    } else {\n",
       "      loadScript(\"vega\")\n",
       "        .then(() => loadScript(\"vega-lite\"))\n",
       "        .then(() => loadScript(\"vega-embed\"))\n",
       "        .catch(showError)\n",
       "        .then(() => displayChart(vegaEmbed));\n",
       "    }\n",
       "  })({\"config\": {\"axisLeft\": {\"labelFontSize\": 15}, \"axisBottom\": {\"labelFontSize\": 15}}, \"hconcat\": [{\"mark\": \"bar\", \"encoding\": {\"color\": {\"type\": \"nominal\", \"field\": \"kind\"}, \"tooltip\": {\"type\": \"nominal\", \"field\": \"kind\"}, \"x\": {\"type\": \"nominal\", \"field\": \"repo\"}, \"y\": {\"type\": \"quantitative\", \"field\": \"count\"}}, \"title\": \"Activity per repository\", \"width\": 600}, {\"mark\": \"bar\", \"encoding\": {\"color\": {\"type\": \"nominal\", \"field\": \"kind\"}, \"tooltip\": {\"type\": \"nominal\", \"field\": \"kind\"}, \"x\": {\"type\": \"nominal\", \"field\": \"repo\"}, \"y\": {\"type\": \"quantitative\", \"field\": \"logcount\"}}, \"title\": \"Log activity per repository\", \"width\": 600}], \"data\": {\"name\": \"data-47c03028cabb07e37cab404fe1fdcadc\"}, \"$schema\": \"https://vega.github.io/schema/vega-lite/v4.8.1.json\", \"datasets\": {\"data-47c03028cabb07e37cab404fe1fdcadc\": [{\"repo\": \".github\", \"kind\": \"comments\", \"count\": 3, \"logcount\": 1.0986122886681098}, {\"repo\": \"binderhub\", \"kind\": \"comments\", \"count\": 16, \"logcount\": 2.772588722239781}, {\"repo\": \"binderhub\", \"kind\": \"issues\", \"count\": 1, \"logcount\": 0.0}, {\"repo\": \"binderhub\", \"kind\": \"prs\", \"count\": 1, \"logcount\": 0.0}, {\"repo\": \"enhancement-proposals\", \"kind\": \"comments\", \"count\": 2, \"logcount\": 0.6931471805599453}, {\"repo\": \"jupyter-server-proxy\", \"kind\": \"comments\", \"count\": 3, \"logcount\": 1.0986122886681098}, {\"repo\": \"jupyter-server-proxy\", \"kind\": \"issues\", \"count\": 1, \"logcount\": 0.0}, {\"repo\": \"jupyterhub\", \"kind\": \"comments\", \"count\": 1, \"logcount\": 0.0}, {\"repo\": \"kubespawner\", \"kind\": \"comments\", \"count\": 1, \"logcount\": 0.0}, {\"repo\": \"mybinder.org-deploy\", \"kind\": \"comments\", \"count\": 29, \"logcount\": 3.367295829986474}, {\"repo\": \"mybinder.org-deploy\", \"kind\": \"issues\", \"count\": 2, \"logcount\": 0.6931471805599453}, {\"repo\": \"mybinder.org-deploy\", \"kind\": \"prs\", \"count\": 10, \"logcount\": 2.302585092994046}, {\"repo\": \"nbconvert\", \"kind\": \"comments\", \"count\": 2, \"logcount\": 0.6931471805599453}, {\"repo\": \"pebble-helm-chart\", \"kind\": \"comments\", \"count\": 1, \"logcount\": 0.0}, {\"repo\": \"repo2docker\", \"kind\": \"comments\", \"count\": 51, \"logcount\": 3.9318256327243257}, {\"repo\": \"repo2docker\", \"kind\": \"issues\", \"count\": 2, \"logcount\": 0.6931471805599453}, {\"repo\": \"repo2docker\", \"kind\": \"prs\", \"count\": 5, \"logcount\": 1.6094379124341003}, {\"repo\": \"team-compass\", \"kind\": \"comments\", \"count\": 16, \"logcount\": 2.772588722239781}, {\"repo\": \"team-compass\", \"kind\": \"issues\", \"count\": 1, \"logcount\": 0.0}, {\"repo\": \"zero-to-jupyterhub-k8s\", \"kind\": \"comments\", \"count\": 3, \"logcount\": 1.0986122886681098}, {\"repo\": \"zero-to-jupyterhub-k8s\", \"kind\": \"prs\", \"count\": 1, \"logcount\": 0.0}]}}, {\"mode\": \"vega-lite\"});\n",
       "</script>"
      ],
      "text/plain": [
       "alt.HConcatChart(...)"
      ]
     },
     "execution_count": 11,
     "metadata": {},
     "output_type": "execute_result"
    }
   ],
   "source": [
    "ch1 = alt.Chart(repo_summaries, width=600, title=\"Activity per repository\").mark_bar().encode(\n",
    "    x='repo',\n",
    "    y='count',\n",
    "    color='kind',\n",
    "    tooltip=\"kind\"\n",
    ")\n",
    "\n",
    "ch2 = alt.Chart(repo_summaries, width=600, title=\"Log activity per repository\").mark_bar().encode(\n",
    "    x='repo',\n",
    "    y='logcount',\n",
    "    color='kind',\n",
    "    tooltip=\"kind\"\n",
    ")\n",
    "\n",
    "ch1 | ch2"
   ]
  },
  {
   "cell_type": "code",
   "execution_count": 12,
   "metadata": {
    "execution": {
     "iopub.execute_input": "2020-07-14T01:13:38.741881Z",
     "iopub.status.busy": "2020-07-14T01:13:38.736702Z",
     "iopub.status.idle": "2020-07-14T01:13:38.762436Z",
     "shell.execute_reply": "2020-07-14T01:13:38.761789Z"
    },
    "papermill": {
     "duration": 0.050117,
     "end_time": "2020-07-14T01:13:38.762553",
     "exception": false,
     "start_time": "2020-07-14T01:13:38.712436",
     "status": "completed"
    },
    "tags": [
     "hide_input"
    ]
   },
   "outputs": [
    {
     "data": {
      "text/html": [
       "\n",
       "<div id=\"altair-viz-ea6d9b5c339148d8a73e37c02ae3469e\"></div>\n",
       "<script type=\"text/javascript\">\n",
       "  (function(spec, embedOpt){\n",
       "    let outputDiv = document.currentScript.previousElementSibling;\n",
       "    if (outputDiv.id !== \"altair-viz-ea6d9b5c339148d8a73e37c02ae3469e\") {\n",
       "      outputDiv = document.getElementById(\"altair-viz-ea6d9b5c339148d8a73e37c02ae3469e\");\n",
       "    }\n",
       "    const paths = {\n",
       "      \"vega\": \"https://cdn.jsdelivr.net/npm//vega@5?noext\",\n",
       "      \"vega-lib\": \"https://cdn.jsdelivr.net/npm//vega-lib?noext\",\n",
       "      \"vega-lite\": \"https://cdn.jsdelivr.net/npm//vega-lite@4.8.1?noext\",\n",
       "      \"vega-embed\": \"https://cdn.jsdelivr.net/npm//vega-embed@6?noext\",\n",
       "    };\n",
       "\n",
       "    function loadScript(lib) {\n",
       "      return new Promise(function(resolve, reject) {\n",
       "        var s = document.createElement('script');\n",
       "        s.src = paths[lib];\n",
       "        s.async = true;\n",
       "        s.onload = () => resolve(paths[lib]);\n",
       "        s.onerror = () => reject(`Error loading script: ${paths[lib]}`);\n",
       "        document.getElementsByTagName(\"head\")[0].appendChild(s);\n",
       "      });\n",
       "    }\n",
       "\n",
       "    function showError(err) {\n",
       "      outputDiv.innerHTML = `<div class=\"error\" style=\"color:red;\">${err}</div>`;\n",
       "      throw err;\n",
       "    }\n",
       "\n",
       "    function displayChart(vegaEmbed) {\n",
       "      vegaEmbed(outputDiv, spec, embedOpt)\n",
       "        .catch(err => showError(`Javascript Error: ${err.message}<br>This usually means there's a typo in your chart specification. See the javascript console for the full traceback.`));\n",
       "    }\n",
       "\n",
       "    if(typeof define === \"function\" && define.amd) {\n",
       "      requirejs.config({paths});\n",
       "      require([\"vega-embed\"], displayChart, err => showError(`Error loading script: ${err.message}`));\n",
       "    } else if (typeof vegaEmbed === \"function\") {\n",
       "      displayChart(vegaEmbed);\n",
       "    } else {\n",
       "      loadScript(\"vega\")\n",
       "        .then(() => loadScript(\"vega-lite\"))\n",
       "        .then(() => loadScript(\"vega-embed\"))\n",
       "        .catch(showError)\n",
       "        .then(() => displayChart(vegaEmbed));\n",
       "    }\n",
       "  })({\"config\": {\"axisLeft\": {\"labelFontSize\": 15}, \"axisBottom\": {\"labelFontSize\": 15}}, \"data\": {\"name\": \"data-8a12efffb49b66a3b4f085fc14bc7bac\"}, \"mark\": \"bar\", \"encoding\": {\"color\": {\"type\": \"nominal\", \"field\": \"kind\"}, \"tooltip\": {\"type\": \"nominal\", \"field\": \"org\"}, \"x\": {\"type\": \"nominal\", \"field\": \"org\"}, \"y\": {\"type\": \"quantitative\", \"field\": \"count\"}}, \"width\": 600, \"$schema\": \"https://vega.github.io/schema/vega-lite/v4.8.1.json\", \"datasets\": {\"data-8a12efffb49b66a3b4f085fc14bc7bac\": [{\"org\": \"jupyter\", \"kind\": \"comments\", \"count\": 55}, {\"org\": \"jupyter\", \"kind\": \"issues\", \"count\": 2}, {\"org\": \"jupyter\", \"kind\": \"prs\", \"count\": 5}, {\"org\": \"jupyterhub\", \"kind\": \"comments\", \"count\": 73}, {\"org\": \"jupyterhub\", \"kind\": \"issues\", \"count\": 5}, {\"org\": \"jupyterhub\", \"kind\": \"prs\", \"count\": 12}]}}, {\"mode\": \"vega-lite\"});\n",
       "</script>"
      ],
      "text/plain": [
       "alt.Chart(...)"
      ]
     },
     "execution_count": 12,
     "metadata": {},
     "output_type": "execute_result"
    }
   ],
   "source": [
    "alt.Chart(org_summaries, width=600).mark_bar().encode(\n",
    "    x='org',\n",
    "    y='count',\n",
    "    color='kind',\n",
    "    tooltip=\"org\"\n",
    ")"
   ]
  },
  {
   "cell_type": "markdown",
   "metadata": {
    "papermill": {
     "duration": 0.014041,
     "end_time": "2020-07-14T01:13:38.792851",
     "exception": false,
     "start_time": "2020-07-14T01:13:38.778810",
     "status": "completed"
    },
    "tags": []
   },
   "source": [
    "# By repository over time"
   ]
  },
  {
   "cell_type": "markdown",
   "metadata": {
    "papermill": {
     "duration": 0.013915,
     "end_time": "2020-07-14T01:13:38.821262",
     "exception": false,
     "start_time": "2020-07-14T01:13:38.807347",
     "status": "completed"
    },
    "tags": []
   },
   "source": [
    "## Comments"
   ]
  },
  {
   "cell_type": "code",
   "execution_count": 13,
   "metadata": {
    "execution": {
     "iopub.execute_input": "2020-07-14T01:13:38.860022Z",
     "iopub.status.busy": "2020-07-14T01:13:38.859432Z",
     "iopub.status.idle": "2020-07-14T01:13:38.960449Z",
     "shell.execute_reply": "2020-07-14T01:13:38.960965Z"
    },
    "papermill": {
     "duration": 0.123627,
     "end_time": "2020-07-14T01:13:38.961115",
     "exception": false,
     "start_time": "2020-07-14T01:13:38.837488",
     "status": "completed"
    },
    "tags": [
     "hide_input"
    ]
   },
   "outputs": [
    {
     "data": {
      "text/html": [
       "\n",
       "<div id=\"altair-viz-ca4d1b1d5ce34894a3d1807647ba0a65\"></div>\n",
       "<script type=\"text/javascript\">\n",
       "  (function(spec, embedOpt){\n",
       "    let outputDiv = document.currentScript.previousElementSibling;\n",
       "    if (outputDiv.id !== \"altair-viz-ca4d1b1d5ce34894a3d1807647ba0a65\") {\n",
       "      outputDiv = document.getElementById(\"altair-viz-ca4d1b1d5ce34894a3d1807647ba0a65\");\n",
       "    }\n",
       "    const paths = {\n",
       "      \"vega\": \"https://cdn.jsdelivr.net/npm//vega@5?noext\",\n",
       "      \"vega-lib\": \"https://cdn.jsdelivr.net/npm//vega-lib?noext\",\n",
       "      \"vega-lite\": \"https://cdn.jsdelivr.net/npm//vega-lite@4.8.1?noext\",\n",
       "      \"vega-embed\": \"https://cdn.jsdelivr.net/npm//vega-embed@6?noext\",\n",
       "    };\n",
       "\n",
       "    function loadScript(lib) {\n",
       "      return new Promise(function(resolve, reject) {\n",
       "        var s = document.createElement('script');\n",
       "        s.src = paths[lib];\n",
       "        s.async = true;\n",
       "        s.onload = () => resolve(paths[lib]);\n",
       "        s.onerror = () => reject(`Error loading script: ${paths[lib]}`);\n",
       "        document.getElementsByTagName(\"head\")[0].appendChild(s);\n",
       "      });\n",
       "    }\n",
       "\n",
       "    function showError(err) {\n",
       "      outputDiv.innerHTML = `<div class=\"error\" style=\"color:red;\">${err}</div>`;\n",
       "      throw err;\n",
       "    }\n",
       "\n",
       "    function displayChart(vegaEmbed) {\n",
       "      vegaEmbed(outputDiv, spec, embedOpt)\n",
       "        .catch(err => showError(`Javascript Error: ${err.message}<br>This usually means there's a typo in your chart specification. See the javascript console for the full traceback.`));\n",
       "    }\n",
       "\n",
       "    if(typeof define === \"function\" && define.amd) {\n",
       "      requirejs.config({paths});\n",
       "      require([\"vega-embed\"], displayChart, err => showError(`Error loading script: ${err.message}`));\n",
       "    } else if (typeof vegaEmbed === \"function\") {\n",
       "      displayChart(vegaEmbed);\n",
       "    } else {\n",
       "      loadScript(\"vega\")\n",
       "        .then(() => loadScript(\"vega-lite\"))\n",
       "        .then(() => loadScript(\"vega-embed\"))\n",
       "        .catch(showError)\n",
       "        .then(() => displayChart(vegaEmbed));\n",
       "    }\n",
       "  })({\"config\": {\"axisLeft\": {\"labelFontSize\": 15}, \"axisBottom\": {\"labelFontSize\": 15}}, \"layer\": [{\"data\": {\"name\": \"data-fdbdc39714ead97437933271a146d295\"}, \"mark\": \"line\", \"encoding\": {\"color\": {\"type\": \"nominal\", \"field\": \"repo\"}, \"tooltip\": {\"type\": \"nominal\", \"field\": \"repo\"}, \"x\": {\"type\": \"temporal\", \"field\": \"createdAt\"}, \"y\": {\"type\": \"quantitative\", \"field\": \"count\"}}, \"width\": 600}, {\"data\": {\"name\": \"data-0abfc37c540850a1e78eeaa6455b76cf\"}, \"mark\": {\"type\": \"line\", \"color\": \"black\"}, \"encoding\": {\"x\": {\"type\": \"temporal\", \"field\": \"createdAt\"}, \"y\": {\"type\": \"quantitative\", \"field\": \"count\"}}, \"width\": 600}], \"$schema\": \"https://vega.github.io/schema/vega-lite/v4.8.1.json\", \"datasets\": {\"data-fdbdc39714ead97437933271a146d295\": [{\"repo\": \".github\", \"createdAt\": \"2020-05-24T00:00:00\", \"count\": 1}, {\"repo\": \".github\", \"createdAt\": \"2020-05-31T00:00:00\", \"count\": 0}, {\"repo\": \".github\", \"createdAt\": \"2020-06-07T00:00:00\", \"count\": 0}, {\"repo\": \".github\", \"createdAt\": \"2020-06-14T00:00:00\", \"count\": 1}, {\"repo\": \".github\", \"createdAt\": \"2020-06-21T00:00:00\", \"count\": 1}, {\"repo\": \"binderhub\", \"createdAt\": \"2020-05-24T00:00:00\", \"count\": 4}, {\"repo\": \"binderhub\", \"createdAt\": \"2020-05-31T00:00:00\", \"count\": 3}, {\"repo\": \"binderhub\", \"createdAt\": \"2020-06-07T00:00:00\", \"count\": 1}, {\"repo\": \"binderhub\", \"createdAt\": \"2020-06-14T00:00:00\", \"count\": 0}, {\"repo\": \"binderhub\", \"createdAt\": \"2020-06-21T00:00:00\", \"count\": 3}, {\"repo\": \"binderhub\", \"createdAt\": \"2020-06-28T00:00:00\", \"count\": 0}, {\"repo\": \"binderhub\", \"createdAt\": \"2020-07-05T00:00:00\", \"count\": 3}, {\"repo\": \"binderhub\", \"createdAt\": \"2020-07-12T00:00:00\", \"count\": 2}, {\"repo\": \"enhancement-proposals\", \"createdAt\": \"2020-07-12T00:00:00\", \"count\": 2}, {\"repo\": \"jupyter-server-proxy\", \"createdAt\": \"2020-05-17T00:00:00\", \"count\": 2}, {\"repo\": \"jupyter-server-proxy\", \"createdAt\": \"2020-05-24T00:00:00\", \"count\": 0}, {\"repo\": \"jupyter-server-proxy\", \"createdAt\": \"2020-05-31T00:00:00\", \"count\": 0}, {\"repo\": \"jupyter-server-proxy\", \"createdAt\": \"2020-06-07T00:00:00\", \"count\": 0}, {\"repo\": \"jupyter-server-proxy\", \"createdAt\": \"2020-06-14T00:00:00\", \"count\": 0}, {\"repo\": \"jupyter-server-proxy\", \"createdAt\": \"2020-06-21T00:00:00\", \"count\": 0}, {\"repo\": \"jupyter-server-proxy\", \"createdAt\": \"2020-06-28T00:00:00\", \"count\": 0}, {\"repo\": \"jupyter-server-proxy\", \"createdAt\": \"2020-07-05T00:00:00\", \"count\": 1}, {\"repo\": \"jupyterhub\", \"createdAt\": \"2020-06-07T00:00:00\", \"count\": 1}, {\"repo\": \"kubespawner\", \"createdAt\": \"2020-06-14T00:00:00\", \"count\": 1}, {\"repo\": \"mybinder.org-deploy\", \"createdAt\": \"2020-05-17T00:00:00\", \"count\": 1}, {\"repo\": \"mybinder.org-deploy\", \"createdAt\": \"2020-05-24T00:00:00\", \"count\": 7}, {\"repo\": \"mybinder.org-deploy\", \"createdAt\": \"2020-05-31T00:00:00\", \"count\": 1}, {\"repo\": \"mybinder.org-deploy\", \"createdAt\": \"2020-06-07T00:00:00\", \"count\": 6}, {\"repo\": \"mybinder.org-deploy\", \"createdAt\": \"2020-06-14T00:00:00\", \"count\": 1}, {\"repo\": \"mybinder.org-deploy\", \"createdAt\": \"2020-06-21T00:00:00\", \"count\": 2}, {\"repo\": \"mybinder.org-deploy\", \"createdAt\": \"2020-06-28T00:00:00\", \"count\": 1}, {\"repo\": \"mybinder.org-deploy\", \"createdAt\": \"2020-07-05T00:00:00\", \"count\": 2}, {\"repo\": \"mybinder.org-deploy\", \"createdAt\": \"2020-07-12T00:00:00\", \"count\": 1}, {\"repo\": \"mybinder.org-deploy\", \"createdAt\": \"2020-07-19T00:00:00\", \"count\": 7}, {\"repo\": \"nbconvert\", \"createdAt\": \"2020-05-31T00:00:00\", \"count\": 1}, {\"repo\": \"nbconvert\", \"createdAt\": \"2020-06-07T00:00:00\", \"count\": 0}, {\"repo\": \"nbconvert\", \"createdAt\": \"2020-06-14T00:00:00\", \"count\": 1}, {\"repo\": \"pebble-helm-chart\", \"createdAt\": \"2020-06-07T00:00:00\", \"count\": 1}, {\"repo\": \"repo2docker\", \"createdAt\": \"2020-05-17T00:00:00\", \"count\": 7}, {\"repo\": \"repo2docker\", \"createdAt\": \"2020-05-24T00:00:00\", \"count\": 3}, {\"repo\": \"repo2docker\", \"createdAt\": \"2020-05-31T00:00:00\", \"count\": 3}, {\"repo\": \"repo2docker\", \"createdAt\": \"2020-06-07T00:00:00\", \"count\": 4}, {\"repo\": \"repo2docker\", \"createdAt\": \"2020-06-14T00:00:00\", \"count\": 13}, {\"repo\": \"repo2docker\", \"createdAt\": \"2020-06-21T00:00:00\", \"count\": 3}, {\"repo\": \"repo2docker\", \"createdAt\": \"2020-06-28T00:00:00\", \"count\": 3}, {\"repo\": \"repo2docker\", \"createdAt\": \"2020-07-05T00:00:00\", \"count\": 1}, {\"repo\": \"repo2docker\", \"createdAt\": \"2020-07-12T00:00:00\", \"count\": 14}, {\"repo\": \"team-compass\", \"createdAt\": \"2020-05-24T00:00:00\", \"count\": 1}, {\"repo\": \"team-compass\", \"createdAt\": \"2020-05-31T00:00:00\", \"count\": 0}, {\"repo\": \"team-compass\", \"createdAt\": \"2020-06-07T00:00:00\", \"count\": 2}, {\"repo\": \"team-compass\", \"createdAt\": \"2020-06-14T00:00:00\", \"count\": 3}, {\"repo\": \"team-compass\", \"createdAt\": \"2020-06-21T00:00:00\", \"count\": 7}, {\"repo\": \"team-compass\", \"createdAt\": \"2020-06-28T00:00:00\", \"count\": 0}, {\"repo\": \"team-compass\", \"createdAt\": \"2020-07-05T00:00:00\", \"count\": 0}, {\"repo\": \"team-compass\", \"createdAt\": \"2020-07-12T00:00:00\", \"count\": 3}, {\"repo\": \"zero-to-jupyterhub-k8s\", \"createdAt\": \"2020-06-07T00:00:00\", \"count\": 3}], \"data-0abfc37c540850a1e78eeaa6455b76cf\": [{\"createdAt\": \"2020-05-17T00:00:00\", \"count\": 10}, {\"createdAt\": \"2020-05-24T00:00:00\", \"count\": 16}, {\"createdAt\": \"2020-05-31T00:00:00\", \"count\": 8}, {\"createdAt\": \"2020-06-07T00:00:00\", \"count\": 18}, {\"createdAt\": \"2020-06-14T00:00:00\", \"count\": 20}, {\"createdAt\": \"2020-06-21T00:00:00\", \"count\": 16}, {\"createdAt\": \"2020-06-28T00:00:00\", \"count\": 4}, {\"createdAt\": \"2020-07-05T00:00:00\", \"count\": 7}, {\"createdAt\": \"2020-07-12T00:00:00\", \"count\": 22}, {\"createdAt\": \"2020-07-19T00:00:00\", \"count\": 7}]}}, {\"mode\": \"vega-lite\"});\n",
       "</script>"
      ],
      "text/plain": [
       "alt.LayerChart(...)"
      ]
     },
     "execution_count": 13,
     "metadata": {},
     "output_type": "execute_result"
    }
   ],
   "source": [
    "comments_time = comments.groupby('repo').resample('W', on='createdAt').count()['author'].reset_index()\n",
    "comments_time = comments_time.rename(columns={'author': 'count'})\n",
    "comments_time_total = comments_time.groupby('createdAt').agg({\"count\": \"sum\"}).reset_index()\n",
    "ch1 = alt.Chart(comments_time, width=600).mark_line().encode(\n",
    "    x='createdAt',\n",
    "    y='count',\n",
    "    color='repo',\n",
    "    tooltip=\"repo\"\n",
    ")\n",
    "\n",
    "ch2 = alt.Chart(comments_time_total, width=600).mark_line(color=\"black\").encode(\n",
    "    x='createdAt',\n",
    "    y='count',\n",
    ")\n",
    "\n",
    "ch1 + ch2"
   ]
  },
  {
   "cell_type": "markdown",
   "metadata": {
    "papermill": {
     "duration": 0.014717,
     "end_time": "2020-07-14T01:13:38.990126",
     "exception": false,
     "start_time": "2020-07-14T01:13:38.975409",
     "status": "completed"
    },
    "tags": []
   },
   "source": [
    "## PRs"
   ]
  },
  {
   "cell_type": "code",
   "execution_count": 14,
   "metadata": {
    "execution": {
     "iopub.execute_input": "2020-07-14T01:13:39.078851Z",
     "iopub.status.busy": "2020-07-14T01:13:39.068479Z",
     "iopub.status.idle": "2020-07-14T01:13:39.097178Z",
     "shell.execute_reply": "2020-07-14T01:13:39.097605Z"
    },
    "papermill": {
     "duration": 0.09081,
     "end_time": "2020-07-14T01:13:39.097736",
     "exception": false,
     "start_time": "2020-07-14T01:13:39.006926",
     "status": "completed"
    },
    "tags": [
     "hide_input"
    ]
   },
   "outputs": [
    {
     "data": {
      "text/html": [
       "\n",
       "<div id=\"altair-viz-7d43fec73ae44d68a0f11cc6fe703ec9\"></div>\n",
       "<script type=\"text/javascript\">\n",
       "  (function(spec, embedOpt){\n",
       "    let outputDiv = document.currentScript.previousElementSibling;\n",
       "    if (outputDiv.id !== \"altair-viz-7d43fec73ae44d68a0f11cc6fe703ec9\") {\n",
       "      outputDiv = document.getElementById(\"altair-viz-7d43fec73ae44d68a0f11cc6fe703ec9\");\n",
       "    }\n",
       "    const paths = {\n",
       "      \"vega\": \"https://cdn.jsdelivr.net/npm//vega@5?noext\",\n",
       "      \"vega-lib\": \"https://cdn.jsdelivr.net/npm//vega-lib?noext\",\n",
       "      \"vega-lite\": \"https://cdn.jsdelivr.net/npm//vega-lite@4.8.1?noext\",\n",
       "      \"vega-embed\": \"https://cdn.jsdelivr.net/npm//vega-embed@6?noext\",\n",
       "    };\n",
       "\n",
       "    function loadScript(lib) {\n",
       "      return new Promise(function(resolve, reject) {\n",
       "        var s = document.createElement('script');\n",
       "        s.src = paths[lib];\n",
       "        s.async = true;\n",
       "        s.onload = () => resolve(paths[lib]);\n",
       "        s.onerror = () => reject(`Error loading script: ${paths[lib]}`);\n",
       "        document.getElementsByTagName(\"head\")[0].appendChild(s);\n",
       "      });\n",
       "    }\n",
       "\n",
       "    function showError(err) {\n",
       "      outputDiv.innerHTML = `<div class=\"error\" style=\"color:red;\">${err}</div>`;\n",
       "      throw err;\n",
       "    }\n",
       "\n",
       "    function displayChart(vegaEmbed) {\n",
       "      vegaEmbed(outputDiv, spec, embedOpt)\n",
       "        .catch(err => showError(`Javascript Error: ${err.message}<br>This usually means there's a typo in your chart specification. See the javascript console for the full traceback.`));\n",
       "    }\n",
       "\n",
       "    if(typeof define === \"function\" && define.amd) {\n",
       "      requirejs.config({paths});\n",
       "      require([\"vega-embed\"], displayChart, err => showError(`Error loading script: ${err.message}`));\n",
       "    } else if (typeof vegaEmbed === \"function\") {\n",
       "      displayChart(vegaEmbed);\n",
       "    } else {\n",
       "      loadScript(\"vega\")\n",
       "        .then(() => loadScript(\"vega-lite\"))\n",
       "        .then(() => loadScript(\"vega-embed\"))\n",
       "        .catch(showError)\n",
       "        .then(() => displayChart(vegaEmbed));\n",
       "    }\n",
       "  })({\"config\": {\"axisLeft\": {\"labelFontSize\": 15}, \"axisBottom\": {\"labelFontSize\": 15}}, \"layer\": [{\"data\": {\"name\": \"data-7670c57bc39abac609fa8ba567ac4e78\"}, \"mark\": \"line\", \"encoding\": {\"color\": {\"type\": \"nominal\", \"field\": \"repo\"}, \"tooltip\": {\"type\": \"nominal\", \"field\": \"repo\"}, \"x\": {\"type\": \"temporal\", \"field\": \"createdAt\"}, \"y\": {\"type\": \"quantitative\", \"field\": \"count\"}}, \"width\": 600}, {\"data\": {\"name\": \"data-bda71aa0cf6e91862bc15faa6eb75aa0\"}, \"mark\": {\"type\": \"line\", \"color\": \"black\"}, \"encoding\": {\"x\": {\"type\": \"temporal\", \"field\": \"createdAt\"}, \"y\": {\"type\": \"quantitative\", \"field\": \"count\"}}, \"width\": 600}], \"$schema\": \"https://vega.github.io/schema/vega-lite/v4.8.1.json\", \"datasets\": {\"data-7670c57bc39abac609fa8ba567ac4e78\": [{\"repo\": \"binderhub\", \"createdAt\": \"2020-05-24T00:00:00\", \"count\": 1}, {\"repo\": \"mybinder.org-deploy\", \"createdAt\": \"2020-05-17T00:00:00\", \"count\": 1}, {\"repo\": \"mybinder.org-deploy\", \"createdAt\": \"2020-05-24T00:00:00\", \"count\": 2}, {\"repo\": \"mybinder.org-deploy\", \"createdAt\": \"2020-05-31T00:00:00\", \"count\": 2}, {\"repo\": \"mybinder.org-deploy\", \"createdAt\": \"2020-06-07T00:00:00\", \"count\": 1}, {\"repo\": \"mybinder.org-deploy\", \"createdAt\": \"2020-06-14T00:00:00\", \"count\": 0}, {\"repo\": \"mybinder.org-deploy\", \"createdAt\": \"2020-06-21T00:00:00\", \"count\": 1}, {\"repo\": \"mybinder.org-deploy\", \"createdAt\": \"2020-06-28T00:00:00\", \"count\": 0}, {\"repo\": \"mybinder.org-deploy\", \"createdAt\": \"2020-07-05T00:00:00\", \"count\": 0}, {\"repo\": \"mybinder.org-deploy\", \"createdAt\": \"2020-07-12T00:00:00\", \"count\": 1}, {\"repo\": \"mybinder.org-deploy\", \"createdAt\": \"2020-07-19T00:00:00\", \"count\": 2}, {\"repo\": \"repo2docker\", \"createdAt\": \"2020-05-10T00:00:00\", \"count\": 1}, {\"repo\": \"repo2docker\", \"createdAt\": \"2020-05-17T00:00:00\", \"count\": 1}, {\"repo\": \"repo2docker\", \"createdAt\": \"2020-05-24T00:00:00\", \"count\": 0}, {\"repo\": \"repo2docker\", \"createdAt\": \"2020-05-31T00:00:00\", \"count\": 0}, {\"repo\": \"repo2docker\", \"createdAt\": \"2020-06-07T00:00:00\", \"count\": 0}, {\"repo\": \"repo2docker\", \"createdAt\": \"2020-06-14T00:00:00\", \"count\": 2}, {\"repo\": \"repo2docker\", \"createdAt\": \"2020-06-21T00:00:00\", \"count\": 0}, {\"repo\": \"repo2docker\", \"createdAt\": \"2020-06-28T00:00:00\", \"count\": 0}, {\"repo\": \"repo2docker\", \"createdAt\": \"2020-07-05T00:00:00\", \"count\": 0}, {\"repo\": \"repo2docker\", \"createdAt\": \"2020-07-12T00:00:00\", \"count\": 1}, {\"repo\": \"zero-to-jupyterhub-k8s\", \"createdAt\": \"2020-06-07T00:00:00\", \"count\": 1}], \"data-bda71aa0cf6e91862bc15faa6eb75aa0\": [{\"createdAt\": \"2020-05-10T00:00:00\", \"count\": 1}, {\"createdAt\": \"2020-05-17T00:00:00\", \"count\": 2}, {\"createdAt\": \"2020-05-24T00:00:00\", \"count\": 3}, {\"createdAt\": \"2020-05-31T00:00:00\", \"count\": 2}, {\"createdAt\": \"2020-06-07T00:00:00\", \"count\": 2}, {\"createdAt\": \"2020-06-14T00:00:00\", \"count\": 2}, {\"createdAt\": \"2020-06-21T00:00:00\", \"count\": 1}, {\"createdAt\": \"2020-06-28T00:00:00\", \"count\": 0}, {\"createdAt\": \"2020-07-05T00:00:00\", \"count\": 0}, {\"createdAt\": \"2020-07-12T00:00:00\", \"count\": 2}, {\"createdAt\": \"2020-07-19T00:00:00\", \"count\": 2}]}}, {\"mode\": \"vega-lite\"});\n",
       "</script>"
      ],
      "text/plain": [
       "alt.LayerChart(...)"
      ]
     },
     "execution_count": 14,
     "metadata": {},
     "output_type": "execute_result"
    }
   ],
   "source": [
    "prs_time = prs.groupby('repo').resample('W', on='createdAt').count()['author'].reset_index()\n",
    "prs_time = prs_time.rename(columns={'author': 'count'})\n",
    "prs_time_total = prs_time.groupby('createdAt').agg({\"count\": \"sum\"}).reset_index()\n",
    "\n",
    "ch1 = alt.Chart(prs_time, width=600).mark_line().encode(\n",
    "    x='createdAt',\n",
    "    y='count',\n",
    "    color='repo',\n",
    "    tooltip=\"repo\"\n",
    ")\n",
    "\n",
    "ch2 = alt.Chart(prs_time_total, width=600).mark_line(color=\"black\").encode(\n",
    "    x='createdAt',\n",
    "    y='count',\n",
    ")\n",
    "\n",
    "ch1 + ch2"
   ]
  },
  {
   "cell_type": "code",
   "execution_count": 15,
   "metadata": {
    "execution": {
     "iopub.execute_input": "2020-07-14T01:13:39.139844Z",
     "iopub.status.busy": "2020-07-14T01:13:39.139187Z",
     "iopub.status.idle": "2020-07-14T01:13:39.213761Z",
     "shell.execute_reply": "2020-07-14T01:13:39.214380Z"
    },
    "papermill": {
     "duration": 0.099187,
     "end_time": "2020-07-14T01:13:39.214524",
     "exception": false,
     "start_time": "2020-07-14T01:13:39.115337",
     "status": "completed"
    },
    "tags": [
     "hide_input"
    ]
   },
   "outputs": [
    {
     "data": {
      "text/html": [
       "\n",
       "<div id=\"altair-viz-7dc1a2bdfda94178bae91d109156a2f4\"></div>\n",
       "<script type=\"text/javascript\">\n",
       "  (function(spec, embedOpt){\n",
       "    let outputDiv = document.currentScript.previousElementSibling;\n",
       "    if (outputDiv.id !== \"altair-viz-7dc1a2bdfda94178bae91d109156a2f4\") {\n",
       "      outputDiv = document.getElementById(\"altair-viz-7dc1a2bdfda94178bae91d109156a2f4\");\n",
       "    }\n",
       "    const paths = {\n",
       "      \"vega\": \"https://cdn.jsdelivr.net/npm//vega@5?noext\",\n",
       "      \"vega-lib\": \"https://cdn.jsdelivr.net/npm//vega-lib?noext\",\n",
       "      \"vega-lite\": \"https://cdn.jsdelivr.net/npm//vega-lite@4.8.1?noext\",\n",
       "      \"vega-embed\": \"https://cdn.jsdelivr.net/npm//vega-embed@6?noext\",\n",
       "    };\n",
       "\n",
       "    function loadScript(lib) {\n",
       "      return new Promise(function(resolve, reject) {\n",
       "        var s = document.createElement('script');\n",
       "        s.src = paths[lib];\n",
       "        s.async = true;\n",
       "        s.onload = () => resolve(paths[lib]);\n",
       "        s.onerror = () => reject(`Error loading script: ${paths[lib]}`);\n",
       "        document.getElementsByTagName(\"head\")[0].appendChild(s);\n",
       "      });\n",
       "    }\n",
       "\n",
       "    function showError(err) {\n",
       "      outputDiv.innerHTML = `<div class=\"error\" style=\"color:red;\">${err}</div>`;\n",
       "      throw err;\n",
       "    }\n",
       "\n",
       "    function displayChart(vegaEmbed) {\n",
       "      vegaEmbed(outputDiv, spec, embedOpt)\n",
       "        .catch(err => showError(`Javascript Error: ${err.message}<br>This usually means there's a typo in your chart specification. See the javascript console for the full traceback.`));\n",
       "    }\n",
       "\n",
       "    if(typeof define === \"function\" && define.amd) {\n",
       "      requirejs.config({paths});\n",
       "      require([\"vega-embed\"], displayChart, err => showError(`Error loading script: ${err.message}`));\n",
       "    } else if (typeof vegaEmbed === \"function\") {\n",
       "      displayChart(vegaEmbed);\n",
       "    } else {\n",
       "      loadScript(\"vega\")\n",
       "        .then(() => loadScript(\"vega-lite\"))\n",
       "        .then(() => loadScript(\"vega-embed\"))\n",
       "        .catch(showError)\n",
       "        .then(() => displayChart(vegaEmbed));\n",
       "    }\n",
       "  })({\"config\": {\"axisLeft\": {\"labelFontSize\": 15}, \"axisBottom\": {\"labelFontSize\": 15}}, \"data\": {\"name\": \"data-0e16a2f1ad1e0de625175b476fd6c95f\"}, \"mark\": \"line\", \"encoding\": {\"color\": {\"type\": \"nominal\", \"field\": \"repo\"}, \"tooltip\": {\"type\": \"nominal\", \"field\": \"repo\"}, \"x\": {\"type\": \"temporal\", \"field\": \"closedAt\"}, \"y\": {\"type\": \"quantitative\", \"field\": \"count\"}}, \"width\": 600, \"$schema\": \"https://vega.github.io/schema/vega-lite/v4.8.1.json\", \"datasets\": {\"data-0e16a2f1ad1e0de625175b476fd6c95f\": [{\"repo\": \".github\", \"closedAt\": \"2020-05-24T00:00:00\", \"count\": 1}, {\"repo\": \"binder\", \"closedAt\": \"2020-06-21T00:00:00\", \"count\": 1}, {\"repo\": \"binderhub\", \"closedAt\": \"2020-05-24T00:00:00\", \"count\": 1}, {\"repo\": \"binderhub\", \"closedAt\": \"2020-05-31T00:00:00\", \"count\": 0}, {\"repo\": \"binderhub\", \"closedAt\": \"2020-06-07T00:00:00\", \"count\": 2}, {\"repo\": \"binderhub\", \"closedAt\": \"2020-06-14T00:00:00\", \"count\": 0}, {\"repo\": \"binderhub\", \"closedAt\": \"2020-06-21T00:00:00\", \"count\": 2}, {\"repo\": \"binderhub\", \"closedAt\": \"2020-06-28T00:00:00\", \"count\": 0}, {\"repo\": \"binderhub\", \"closedAt\": \"2020-07-05T00:00:00\", \"count\": 2}, {\"repo\": \"jupyter-server-proxy\", \"closedAt\": \"2020-05-17T00:00:00\", \"count\": 1}, {\"repo\": \"jupyter-server-proxy\", \"closedAt\": \"2020-05-24T00:00:00\", \"count\": 1}, {\"repo\": \"jupyter-server-proxy\", \"closedAt\": \"2020-05-31T00:00:00\", \"count\": 0}, {\"repo\": \"jupyter-server-proxy\", \"closedAt\": \"2020-06-07T00:00:00\", \"count\": 0}, {\"repo\": \"jupyter-server-proxy\", \"closedAt\": \"2020-06-14T00:00:00\", \"count\": 1}, {\"repo\": \"jupyterhub\", \"closedAt\": \"2020-05-17T00:00:00\", \"count\": 2}, {\"repo\": \"jupyterhub\", \"closedAt\": \"2020-05-24T00:00:00\", \"count\": 0}, {\"repo\": \"jupyterhub\", \"closedAt\": \"2020-05-31T00:00:00\", \"count\": 0}, {\"repo\": \"jupyterhub\", \"closedAt\": \"2020-06-07T00:00:00\", \"count\": 1}, {\"repo\": \"mybinder.org-deploy\", \"closedAt\": \"2020-05-31T00:00:00\", \"count\": 2}, {\"repo\": \"mybinder.org-deploy\", \"closedAt\": \"2020-06-07T00:00:00\", \"count\": 2}, {\"repo\": \"mybinder.org-deploy\", \"closedAt\": \"2020-06-14T00:00:00\", \"count\": 1}, {\"repo\": \"mybinder.org-deploy\", \"closedAt\": \"2020-06-21T00:00:00\", \"count\": 0}, {\"repo\": \"mybinder.org-deploy\", \"closedAt\": \"2020-06-28T00:00:00\", \"count\": 0}, {\"repo\": \"mybinder.org-deploy\", \"closedAt\": \"2020-07-05T00:00:00\", \"count\": 0}, {\"repo\": \"mybinder.org-deploy\", \"closedAt\": \"2020-07-12T00:00:00\", \"count\": 1}, {\"repo\": \"mybinder.org-deploy\", \"closedAt\": \"2020-07-19T00:00:00\", \"count\": 2}, {\"repo\": \"pebble-helm-chart\", \"closedAt\": \"2020-06-07T00:00:00\", \"count\": 1}, {\"repo\": \"pick\", \"closedAt\": \"2020-06-14T00:00:00\", \"count\": 1}, {\"repo\": \"repo2docker\", \"closedAt\": \"2020-05-17T00:00:00\", \"count\": 4}, {\"repo\": \"repo2docker\", \"closedAt\": \"2020-05-24T00:00:00\", \"count\": 0}, {\"repo\": \"repo2docker\", \"closedAt\": \"2020-05-31T00:00:00\", \"count\": 2}, {\"repo\": \"repo2docker\", \"closedAt\": \"2020-06-07T00:00:00\", \"count\": 1}, {\"repo\": \"repo2docker\", \"closedAt\": \"2020-06-14T00:00:00\", \"count\": 1}, {\"repo\": \"repo2docker\", \"closedAt\": \"2020-06-21T00:00:00\", \"count\": 3}, {\"repo\": \"repo2docker\", \"closedAt\": \"2020-06-28T00:00:00\", \"count\": 1}, {\"repo\": \"team-compass\", \"closedAt\": \"2020-05-24T00:00:00\", \"count\": 1}, {\"repo\": \"team-compass\", \"closedAt\": \"2020-05-31T00:00:00\", \"count\": 0}, {\"repo\": \"team-compass\", \"closedAt\": \"2020-06-07T00:00:00\", \"count\": 0}, {\"repo\": \"team-compass\", \"closedAt\": \"2020-06-14T00:00:00\", \"count\": 0}, {\"repo\": \"team-compass\", \"closedAt\": \"2020-06-21T00:00:00\", \"count\": 0}, {\"repo\": \"team-compass\", \"closedAt\": \"2020-06-28T00:00:00\", \"count\": 1}]}}, {\"mode\": \"vega-lite\"});\n",
       "</script>"
      ],
      "text/plain": [
       "alt.Chart(...)"
      ]
     },
     "execution_count": 15,
     "metadata": {},
     "output_type": "execute_result"
    }
   ],
   "source": [
    "closed_by_time = closed_by.groupby('repo').resample('W', on='closedAt').count()['author'].reset_index()\n",
    "closed_by_time = closed_by_time.rename(columns={'author': 'count'})\n",
    "\n",
    "alt.Chart(closed_by_time, width=600).mark_line().encode(\n",
    "    x='closedAt',\n",
    "    y='count',\n",
    "    color='repo',\n",
    "    tooltip=\"repo\"\n",
    ")"
   ]
  },
  {
   "cell_type": "markdown",
   "metadata": {
    "papermill": {
     "duration": 0.015813,
     "end_time": "2020-07-14T01:13:39.248901",
     "exception": false,
     "start_time": "2020-07-14T01:13:39.233088",
     "status": "completed"
    },
    "tags": []
   },
   "source": [
    "# By type over time"
   ]
  },
  {
   "cell_type": "code",
   "execution_count": 16,
   "metadata": {
    "execution": {
     "iopub.execute_input": "2020-07-14T01:13:39.290588Z",
     "iopub.status.busy": "2020-07-14T01:13:39.289972Z",
     "iopub.status.idle": "2020-07-14T01:13:39.315502Z",
     "shell.execute_reply": "2020-07-14T01:13:39.314908Z"
    },
    "papermill": {
     "duration": 0.049823,
     "end_time": "2020-07-14T01:13:39.315618",
     "exception": false,
     "start_time": "2020-07-14T01:13:39.265795",
     "status": "completed"
    },
    "tags": [
     "remove_cell"
    ]
   },
   "outputs": [],
   "source": [
    "prs_time = prs[['author', 'createdAt']].resample('W', on='createdAt').count()['author'].reset_index()\n",
    "prs_time = prs_time.rename(columns={'author': 'prs'})\n",
    "comments_time = comments[['author', 'createdAt']].resample('W', on='createdAt').count()['author'].reset_index()\n",
    "comments_time = comments_time.rename(columns={'author': 'comments'})\n",
    "\n",
    "total_time = pd.merge(prs_time, comments_time, on='createdAt', how='outer')\n",
    "total_time = total_time.melt(id_vars='createdAt', var_name=\"kind\", value_name=\"count\")\n"
   ]
  },
  {
   "cell_type": "code",
   "execution_count": 17,
   "metadata": {
    "execution": {
     "iopub.execute_input": "2020-07-14T01:13:39.378419Z",
     "iopub.status.busy": "2020-07-14T01:13:39.376788Z",
     "iopub.status.idle": "2020-07-14T01:13:39.380125Z",
     "shell.execute_reply": "2020-07-14T01:13:39.380887Z"
    },
    "papermill": {
     "duration": 0.047839,
     "end_time": "2020-07-14T01:13:39.381033",
     "exception": false,
     "start_time": "2020-07-14T01:13:39.333194",
     "status": "completed"
    },
    "tags": [
     "hide_input"
    ]
   },
   "outputs": [
    {
     "data": {
      "text/html": [
       "\n",
       "<div id=\"altair-viz-cbfb87ec21e2434bad0c458dab058f89\"></div>\n",
       "<script type=\"text/javascript\">\n",
       "  (function(spec, embedOpt){\n",
       "    let outputDiv = document.currentScript.previousElementSibling;\n",
       "    if (outputDiv.id !== \"altair-viz-cbfb87ec21e2434bad0c458dab058f89\") {\n",
       "      outputDiv = document.getElementById(\"altair-viz-cbfb87ec21e2434bad0c458dab058f89\");\n",
       "    }\n",
       "    const paths = {\n",
       "      \"vega\": \"https://cdn.jsdelivr.net/npm//vega@5?noext\",\n",
       "      \"vega-lib\": \"https://cdn.jsdelivr.net/npm//vega-lib?noext\",\n",
       "      \"vega-lite\": \"https://cdn.jsdelivr.net/npm//vega-lite@4.8.1?noext\",\n",
       "      \"vega-embed\": \"https://cdn.jsdelivr.net/npm//vega-embed@6?noext\",\n",
       "    };\n",
       "\n",
       "    function loadScript(lib) {\n",
       "      return new Promise(function(resolve, reject) {\n",
       "        var s = document.createElement('script');\n",
       "        s.src = paths[lib];\n",
       "        s.async = true;\n",
       "        s.onload = () => resolve(paths[lib]);\n",
       "        s.onerror = () => reject(`Error loading script: ${paths[lib]}`);\n",
       "        document.getElementsByTagName(\"head\")[0].appendChild(s);\n",
       "      });\n",
       "    }\n",
       "\n",
       "    function showError(err) {\n",
       "      outputDiv.innerHTML = `<div class=\"error\" style=\"color:red;\">${err}</div>`;\n",
       "      throw err;\n",
       "    }\n",
       "\n",
       "    function displayChart(vegaEmbed) {\n",
       "      vegaEmbed(outputDiv, spec, embedOpt)\n",
       "        .catch(err => showError(`Javascript Error: ${err.message}<br>This usually means there's a typo in your chart specification. See the javascript console for the full traceback.`));\n",
       "    }\n",
       "\n",
       "    if(typeof define === \"function\" && define.amd) {\n",
       "      requirejs.config({paths});\n",
       "      require([\"vega-embed\"], displayChart, err => showError(`Error loading script: ${err.message}`));\n",
       "    } else if (typeof vegaEmbed === \"function\") {\n",
       "      displayChart(vegaEmbed);\n",
       "    } else {\n",
       "      loadScript(\"vega\")\n",
       "        .then(() => loadScript(\"vega-lite\"))\n",
       "        .then(() => loadScript(\"vega-embed\"))\n",
       "        .catch(showError)\n",
       "        .then(() => displayChart(vegaEmbed));\n",
       "    }\n",
       "  })({\"config\": {\"axisLeft\": {\"labelFontSize\": 15}, \"axisBottom\": {\"labelFontSize\": 15}}, \"data\": {\"name\": \"data-4d6c2faa60f024558b86bfb76595af5e\"}, \"mark\": \"line\", \"encoding\": {\"color\": {\"type\": \"nominal\", \"field\": \"kind\"}, \"x\": {\"type\": \"temporal\", \"field\": \"createdAt\"}, \"y\": {\"type\": \"quantitative\", \"field\": \"count\"}}, \"width\": 600, \"$schema\": \"https://vega.github.io/schema/vega-lite/v4.8.1.json\", \"datasets\": {\"data-4d6c2faa60f024558b86bfb76595af5e\": [{\"createdAt\": \"2020-05-10T00:00:00\", \"kind\": \"prs\", \"count\": 1.0}, {\"createdAt\": \"2020-05-17T00:00:00\", \"kind\": \"prs\", \"count\": 2.0}, {\"createdAt\": \"2020-05-24T00:00:00\", \"kind\": \"prs\", \"count\": 3.0}, {\"createdAt\": \"2020-05-31T00:00:00\", \"kind\": \"prs\", \"count\": 2.0}, {\"createdAt\": \"2020-06-07T00:00:00\", \"kind\": \"prs\", \"count\": 2.0}, {\"createdAt\": \"2020-06-14T00:00:00\", \"kind\": \"prs\", \"count\": 2.0}, {\"createdAt\": \"2020-06-21T00:00:00\", \"kind\": \"prs\", \"count\": 1.0}, {\"createdAt\": \"2020-06-28T00:00:00\", \"kind\": \"prs\", \"count\": 0.0}, {\"createdAt\": \"2020-07-05T00:00:00\", \"kind\": \"prs\", \"count\": 0.0}, {\"createdAt\": \"2020-07-12T00:00:00\", \"kind\": \"prs\", \"count\": 2.0}, {\"createdAt\": \"2020-07-19T00:00:00\", \"kind\": \"prs\", \"count\": 2.0}, {\"createdAt\": \"2020-05-10T00:00:00\", \"kind\": \"comments\", \"count\": null}, {\"createdAt\": \"2020-05-17T00:00:00\", \"kind\": \"comments\", \"count\": 10.0}, {\"createdAt\": \"2020-05-24T00:00:00\", \"kind\": \"comments\", \"count\": 16.0}, {\"createdAt\": \"2020-05-31T00:00:00\", \"kind\": \"comments\", \"count\": 8.0}, {\"createdAt\": \"2020-06-07T00:00:00\", \"kind\": \"comments\", \"count\": 18.0}, {\"createdAt\": \"2020-06-14T00:00:00\", \"kind\": \"comments\", \"count\": 20.0}, {\"createdAt\": \"2020-06-21T00:00:00\", \"kind\": \"comments\", \"count\": 16.0}, {\"createdAt\": \"2020-06-28T00:00:00\", \"kind\": \"comments\", \"count\": 4.0}, {\"createdAt\": \"2020-07-05T00:00:00\", \"kind\": \"comments\", \"count\": 7.0}, {\"createdAt\": \"2020-07-12T00:00:00\", \"kind\": \"comments\", \"count\": 22.0}, {\"createdAt\": \"2020-07-19T00:00:00\", \"kind\": \"comments\", \"count\": 7.0}]}}, {\"mode\": \"vega-lite\"});\n",
       "</script>"
      ],
      "text/plain": [
       "alt.Chart(...)"
      ]
     },
     "execution_count": 17,
     "metadata": {},
     "output_type": "execute_result"
    }
   ],
   "source": [
    "alt.Chart(total_time, width=600).mark_line().encode(\n",
    "    x='createdAt',\n",
    "    y='count',\n",
    "    color='kind'\n",
    ")"
   ]
  }
 ],
 "metadata": {
  "kernelspec": {
   "display_name": "Python 3",
   "language": "python",
   "name": "python3"
  },
  "language_info": {
   "codemirror_mode": {
    "name": "ipython",
    "version": 3
   },
   "file_extension": ".py",
   "mimetype": "text/x-python",
   "name": "python",
   "nbconvert_exporter": "python",
   "pygments_lexer": "ipython3",
   "version": "3.7.8"
  },
  "papermill": {
   "duration": 3.49804,
   "end_time": "2020-07-14T01:13:39.707488",
   "environment_variables": {},
   "exception": null,
   "input_path": "./person.ipynb",
   "output_path": "people/betatim.ipynb",
   "parameters": {
    "n_days": 60,
    "person": "betatim"
   },
   "start_time": "2020-07-14T01:13:36.209448",
   "version": "2.1.2"
  },
  "widgets": {
   "application/vnd.jupyter.widget-state+json": {
    "state": {},
    "version_major": 2,
    "version_minor": 0
   }
  }
 },
 "nbformat": 4,
 "nbformat_minor": 4
}