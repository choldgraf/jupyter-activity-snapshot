{
 "cells": [
  {
   "cell_type": "markdown",
   "metadata": {
    "papermill": {
     "duration": 0.018408,
     "end_time": "2020-07-26T01:14:09.623166",
     "exception": false,
     "start_time": "2020-07-26T01:14:09.604758",
     "status": "completed"
    },
    "tags": []
   },
   "source": [
    "# Report for betatim"
   ]
  },
  {
   "cell_type": "code",
   "execution_count": 1,
   "metadata": {
    "execution": {
     "iopub.execute_input": "2020-07-26T01:14:09.668819Z",
     "iopub.status.busy": "2020-07-26T01:14:09.668118Z",
     "iopub.status.idle": "2020-07-26T01:14:10.722386Z",
     "shell.execute_reply": "2020-07-26T01:14:10.721733Z"
    },
    "papermill": {
     "duration": 1.082435,
     "end_time": "2020-07-26T01:14:10.722566",
     "exception": false,
     "start_time": "2020-07-26T01:14:09.640131",
     "status": "completed"
    },
    "tags": [
     "remove_cell"
    ]
   },
   "outputs": [],
   "source": [
    "import seaborn as sns\n",
    "import pandas as pd\n",
    "import numpy as np\n",
    "import altair as alt\n",
    "from markdown import markdown\n",
    "from IPython.display import Markdown\n",
    "from ipywidgets.widgets import HTML, Tab\n",
    "from ipywidgets import widgets\n",
    "from datetime import timedelta\n",
    "from matplotlib import pyplot as plt\n",
    "import os.path as op\n",
    "\n",
    "from mycode import alt_theme\n",
    "from warnings import simplefilter\n",
    "simplefilter('ignore')"
   ]
  },
  {
   "cell_type": "code",
   "execution_count": 2,
   "metadata": {
    "execution": {
     "iopub.execute_input": "2020-07-26T01:14:10.761206Z",
     "iopub.status.busy": "2020-07-26T01:14:10.760586Z",
     "iopub.status.idle": "2020-07-26T01:14:10.762736Z",
     "shell.execute_reply": "2020-07-26T01:14:10.763342Z"
    },
    "papermill": {
     "duration": 0.023436,
     "end_time": "2020-07-26T01:14:10.763492",
     "exception": false,
     "start_time": "2020-07-26T01:14:10.740056",
     "status": "completed"
    },
    "tags": [
     "remove_cell"
    ]
   },
   "outputs": [],
   "source": [
    "def author_url(author):\n",
    "    return f\"https://github.com/{author}\""
   ]
  },
  {
   "cell_type": "code",
   "execution_count": 3,
   "metadata": {
    "execution": {
     "iopub.execute_input": "2020-07-26T01:14:10.795106Z",
     "iopub.status.busy": "2020-07-26T01:14:10.794495Z",
     "iopub.status.idle": "2020-07-26T01:14:10.797872Z",
     "shell.execute_reply": "2020-07-26T01:14:10.796887Z"
    },
    "papermill": {
     "duration": 0.02134,
     "end_time": "2020-07-26T01:14:10.797998",
     "exception": false,
     "start_time": "2020-07-26T01:14:10.776658",
     "status": "completed"
    },
    "tags": [
     "parameters",
     "hide_input"
    ]
   },
   "outputs": [],
   "source": [
    "# Parameters\n",
    "fmt_date = \"{:%Y-%m-%d}\"\n",
    "\n",
    "n_days = 30 * 2\n",
    "start_date = fmt_date.format(pd.datetime.today() - timedelta(days=n_days))\n",
    "end_date = fmt_date.format(pd.datetime.today())\n",
    "\n",
    "renderer = \"html\"\n",
    "person = \"jasongrout\""
   ]
  },
  {
   "cell_type": "code",
   "execution_count": 4,
   "metadata": {
    "execution": {
     "iopub.execute_input": "2020-07-26T01:14:10.829467Z",
     "iopub.status.busy": "2020-07-26T01:14:10.828788Z",
     "iopub.status.idle": "2020-07-26T01:14:10.831327Z",
     "shell.execute_reply": "2020-07-26T01:14:10.830745Z"
    },
    "papermill": {
     "duration": 0.019218,
     "end_time": "2020-07-26T01:14:10.831470",
     "exception": false,
     "start_time": "2020-07-26T01:14:10.812252",
     "status": "completed"
    },
    "tags": [
     "injected-parameters",
     "remove-cell"
    ]
   },
   "outputs": [],
   "source": [
    "# Parameters\n",
    "person = \"betatim\"\n",
    "n_days = 60\n"
   ]
  },
  {
   "cell_type": "code",
   "execution_count": 5,
   "metadata": {
    "execution": {
     "iopub.execute_input": "2020-07-26T01:14:10.880152Z",
     "iopub.status.busy": "2020-07-26T01:14:10.879452Z",
     "iopub.status.idle": "2020-07-26T01:14:10.882959Z",
     "shell.execute_reply": "2020-07-26T01:14:10.882268Z"
    },
    "papermill": {
     "duration": 0.029673,
     "end_time": "2020-07-26T01:14:10.883105",
     "exception": false,
     "start_time": "2020-07-26T01:14:10.853432",
     "status": "completed"
    },
    "tags": [
     "remove_cell"
    ]
   },
   "outputs": [
    {
     "data": {
      "text/plain": [
       "ThemeRegistry.enable('my_theme')"
      ]
     },
     "execution_count": 5,
     "metadata": {},
     "output_type": "execute_result"
    }
   ],
   "source": [
    "alt.renderers.enable(renderer);\n",
    "alt.themes.register('my_theme', alt_theme)\n",
    "alt.themes.enable(\"my_theme\")"
   ]
  },
  {
   "cell_type": "markdown",
   "metadata": {
    "papermill": {
     "duration": 0.017219,
     "end_time": "2020-07-26T01:14:10.917505",
     "exception": false,
     "start_time": "2020-07-26T01:14:10.900286",
     "status": "completed"
    },
    "tags": []
   },
   "source": [
    "## Load data"
   ]
  },
  {
   "cell_type": "code",
   "execution_count": 6,
   "metadata": {
    "execution": {
     "iopub.execute_input": "2020-07-26T01:14:10.956253Z",
     "iopub.status.busy": "2020-07-26T01:14:10.955534Z",
     "iopub.status.idle": "2020-07-26T01:14:11.161349Z",
     "shell.execute_reply": "2020-07-26T01:14:11.160708Z"
    },
    "papermill": {
     "duration": 0.228728,
     "end_time": "2020-07-26T01:14:11.161524",
     "exception": false,
     "start_time": "2020-07-26T01:14:10.932796",
     "status": "completed"
    },
    "tags": [
     "remove_cell"
    ]
   },
   "outputs": [],
   "source": [
    "from pathlib import Path\n",
    "path_data = Path(\"./\")\n",
    "comments = pd.read_csv(path_data.joinpath('comments.csv'), index_col=0)\n",
    "issues = pd.read_csv(path_data.joinpath('issues.csv'), index_col=0)\n",
    "prs = pd.read_csv(path_data.joinpath('prs.csv'), index_col=0)\n",
    "\n",
    "comments = comments.query('author == @person').drop_duplicates()\n",
    "issues = issues.query('author == @person').drop_duplicates()\n",
    "closed_by = prs.query('mergedBy == @person')\n",
    "prs = prs.query('author == @person').drop_duplicates()"
   ]
  },
  {
   "cell_type": "code",
   "execution_count": 7,
   "metadata": {
    "execution": {
     "iopub.execute_input": "2020-07-26T01:14:11.240012Z",
     "iopub.status.busy": "2020-07-26T01:14:11.201435Z",
     "iopub.status.idle": "2020-07-26T01:14:11.274909Z",
     "shell.execute_reply": "2020-07-26T01:14:11.273729Z"
    },
    "papermill": {
     "duration": 0.095374,
     "end_time": "2020-07-26T01:14:11.275077",
     "exception": false,
     "start_time": "2020-07-26T01:14:11.179703",
     "status": "completed"
    },
    "tags": [
     "remove_cell"
    ]
   },
   "outputs": [],
   "source": [
    "# Time columns\n",
    "# Also drop dates outside of our range\n",
    "time_columns = ['updatedAt', 'createdAt', 'closedAt']\n",
    "for col in time_columns:\n",
    "    for item in [comments, issues, prs, closed_by]:\n",
    "        if col not in item.columns:\n",
    "            continue\n",
    "        dt = pd.to_datetime(item[col]).dt.tz_localize(None)\n",
    "        item[col] = dt\n",
    "        item.query(\"updatedAt < @end_date and updatedAt > @start_date\", inplace=True)"
   ]
  },
  {
   "cell_type": "markdown",
   "metadata": {
    "papermill": {
     "duration": 0.017487,
     "end_time": "2020-07-26T01:14:11.311627",
     "exception": false,
     "start_time": "2020-07-26T01:14:11.294140",
     "status": "completed"
    },
    "tags": []
   },
   "source": [
    "# Repository summaries"
   ]
  },
  {
   "cell_type": "code",
   "execution_count": 8,
   "metadata": {
    "execution": {
     "iopub.execute_input": "2020-07-26T01:14:11.355701Z",
     "iopub.status.busy": "2020-07-26T01:14:11.355017Z",
     "iopub.status.idle": "2020-07-26T01:14:11.372936Z",
     "shell.execute_reply": "2020-07-26T01:14:11.373615Z"
    },
    "papermill": {
     "duration": 0.045991,
     "end_time": "2020-07-26T01:14:11.373786",
     "exception": false,
     "start_time": "2020-07-26T01:14:11.327795",
     "status": "completed"
    },
    "tags": [
     "remove_cell"
    ]
   },
   "outputs": [],
   "source": [
    "summaries = []\n",
    "for idata, name in [(issues, 'issues'), (prs, 'prs'), (comments, 'comments')]:\n",
    "    idata = idata.groupby([\"repo\", \"org\"]).agg({'id': \"count\"}).reset_index().rename(columns={'id': 'count'})\n",
    "    idata[\"kind\"] = name\n",
    "    summaries.append(idata)\n",
    "summaries = pd.concat(summaries)"
   ]
  },
  {
   "cell_type": "code",
   "execution_count": 9,
   "metadata": {
    "execution": {
     "iopub.execute_input": "2020-07-26T01:14:11.413161Z",
     "iopub.status.busy": "2020-07-26T01:14:11.412250Z",
     "iopub.status.idle": "2020-07-26T01:14:11.425517Z",
     "shell.execute_reply": "2020-07-26T01:14:11.424830Z"
    },
    "papermill": {
     "duration": 0.035468,
     "end_time": "2020-07-26T01:14:11.425654",
     "exception": false,
     "start_time": "2020-07-26T01:14:11.390186",
     "status": "completed"
    },
    "tags": [
     "remove_cell"
    ]
   },
   "outputs": [],
   "source": [
    "repo_summaries = summaries.groupby([\"repo\", \"kind\"]).agg({\"count\": \"sum\"}).reset_index()\n",
    "org_summaries = summaries.groupby([\"org\", \"kind\"]).agg({\"count\": \"sum\"}).reset_index()"
   ]
  },
  {
   "cell_type": "code",
   "execution_count": 10,
   "metadata": {
    "execution": {
     "iopub.execute_input": "2020-07-26T01:14:11.467072Z",
     "iopub.status.busy": "2020-07-26T01:14:11.466406Z",
     "iopub.status.idle": "2020-07-26T01:14:11.468933Z",
     "shell.execute_reply": "2020-07-26T01:14:11.468250Z"
    },
    "papermill": {
     "duration": 0.025472,
     "end_time": "2020-07-26T01:14:11.469073",
     "exception": false,
     "start_time": "2020-07-26T01:14:11.443601",
     "status": "completed"
    },
    "tags": [
     "remove_cell"
    ]
   },
   "outputs": [],
   "source": [
    "repo_summaries['logcount'] = np.log(repo_summaries[\"count\"])"
   ]
  },
  {
   "cell_type": "code",
   "execution_count": 11,
   "metadata": {
    "execution": {
     "iopub.execute_input": "2020-07-26T01:14:11.516381Z",
     "iopub.status.busy": "2020-07-26T01:14:11.515672Z",
     "iopub.status.idle": "2020-07-26T01:14:11.568246Z",
     "shell.execute_reply": "2020-07-26T01:14:11.568930Z"
    },
    "papermill": {
     "duration": 0.084109,
     "end_time": "2020-07-26T01:14:11.569126",
     "exception": false,
     "start_time": "2020-07-26T01:14:11.485017",
     "status": "completed"
    },
    "tags": [
     "hide_input"
    ]
   },
   "outputs": [
    {
     "data": {
      "text/html": [
       "\n",
       "<div id=\"altair-viz-02c1f4e7d79b4cd0b4a70403f53bf2d5\"></div>\n",
       "<script type=\"text/javascript\">\n",
       "  (function(spec, embedOpt){\n",
       "    let outputDiv = document.currentScript.previousElementSibling;\n",
       "    if (outputDiv.id !== \"altair-viz-02c1f4e7d79b4cd0b4a70403f53bf2d5\") {\n",
       "      outputDiv = document.getElementById(\"altair-viz-02c1f4e7d79b4cd0b4a70403f53bf2d5\");\n",
       "    }\n",
       "    const paths = {\n",
       "      \"vega\": \"https://cdn.jsdelivr.net/npm//vega@5?noext\",\n",
       "      \"vega-lib\": \"https://cdn.jsdelivr.net/npm//vega-lib?noext\",\n",
       "      \"vega-lite\": \"https://cdn.jsdelivr.net/npm//vega-lite@4.8.1?noext\",\n",
       "      \"vega-embed\": \"https://cdn.jsdelivr.net/npm//vega-embed@6?noext\",\n",
       "    };\n",
       "\n",
       "    function loadScript(lib) {\n",
       "      return new Promise(function(resolve, reject) {\n",
       "        var s = document.createElement('script');\n",
       "        s.src = paths[lib];\n",
       "        s.async = true;\n",
       "        s.onload = () => resolve(paths[lib]);\n",
       "        s.onerror = () => reject(`Error loading script: ${paths[lib]}`);\n",
       "        document.getElementsByTagName(\"head\")[0].appendChild(s);\n",
       "      });\n",
       "    }\n",
       "\n",
       "    function showError(err) {\n",
       "      outputDiv.innerHTML = `<div class=\"error\" style=\"color:red;\">${err}</div>`;\n",
       "      throw err;\n",
       "    }\n",
       "\n",
       "    function displayChart(vegaEmbed) {\n",
       "      vegaEmbed(outputDiv, spec, embedOpt)\n",
       "        .catch(err => showError(`Javascript Error: ${err.message}<br>This usually means there's a typo in your chart specification. See the javascript console for the full traceback.`));\n",
       "    }\n",
       "\n",
       "    if(typeof define === \"function\" && define.amd) {\n",
       "      requirejs.config({paths});\n",
       "      require([\"vega-embed\"], displayChart, err => showError(`Error loading script: ${err.message}`));\n",
       "    } else if (typeof vegaEmbed === \"function\") {\n",
       "      displayChart(vegaEmbed);\n",
       "    } else {\n",
       "      loadScript(\"vega\")\n",
       "        .then(() => loadScript(\"vega-lite\"))\n",
       "        .then(() => loadScript(\"vega-embed\"))\n",
       "        .catch(showError)\n",
       "        .then(() => displayChart(vegaEmbed));\n",
       "    }\n",
       "  })({\"config\": {\"axisLeft\": {\"labelFontSize\": 15}, \"axisBottom\": {\"labelFontSize\": 15}}, \"hconcat\": [{\"mark\": \"bar\", \"encoding\": {\"color\": {\"type\": \"nominal\", \"field\": \"kind\"}, \"tooltip\": {\"type\": \"nominal\", \"field\": \"kind\"}, \"x\": {\"type\": \"nominal\", \"field\": \"repo\"}, \"y\": {\"type\": \"quantitative\", \"field\": \"count\"}}, \"title\": \"Activity per repository\", \"width\": 600}, {\"mark\": \"bar\", \"encoding\": {\"color\": {\"type\": \"nominal\", \"field\": \"kind\"}, \"tooltip\": {\"type\": \"nominal\", \"field\": \"kind\"}, \"x\": {\"type\": \"nominal\", \"field\": \"repo\"}, \"y\": {\"type\": \"quantitative\", \"field\": \"logcount\"}}, \"title\": \"Log activity per repository\", \"width\": 600}], \"data\": {\"name\": \"data-1fc66ee6e863fe05d2e3c9c9a286aa05\"}, \"$schema\": \"https://vega.github.io/schema/vega-lite/v4.8.1.json\", \"datasets\": {\"data-1fc66ee6e863fe05d2e3c9c9a286aa05\": [{\"repo\": \".github\", \"kind\": \"comments\", \"count\": 1, \"logcount\": 0.0}, {\"repo\": \"binderhub\", \"kind\": \"comments\", \"count\": 14, \"logcount\": 2.6390573296152584}, {\"repo\": \"enhancement-proposals\", \"kind\": \"comments\", \"count\": 2, \"logcount\": 0.6931471805599453}, {\"repo\": \"jupyter-server-proxy\", \"kind\": \"comments\", \"count\": 1, \"logcount\": 0.0}, {\"repo\": \"jupyter-server-proxy\", \"kind\": \"issues\", \"count\": 1, \"logcount\": 0.0}, {\"repo\": \"jupyterhub\", \"kind\": \"comments\", \"count\": 1, \"logcount\": 0.0}, {\"repo\": \"kubespawner\", \"kind\": \"comments\", \"count\": 2, \"logcount\": 0.6931471805599453}, {\"repo\": \"mybinder.org-deploy\", \"kind\": \"comments\", \"count\": 28, \"logcount\": 3.332204510175204}, {\"repo\": \"mybinder.org-deploy\", \"kind\": \"issues\", \"count\": 2, \"logcount\": 0.6931471805599453}, {\"repo\": \"mybinder.org-deploy\", \"kind\": \"prs\", \"count\": 9, \"logcount\": 2.1972245773362196}, {\"repo\": \"nbconvert\", \"kind\": \"comments\", \"count\": 2, \"logcount\": 0.6931471805599453}, {\"repo\": \"pebble-helm-chart\", \"kind\": \"comments\", \"count\": 1, \"logcount\": 0.0}, {\"repo\": \"repo2docker\", \"kind\": \"comments\", \"count\": 40, \"logcount\": 3.6888794541139363}, {\"repo\": \"repo2docker\", \"kind\": \"issues\", \"count\": 2, \"logcount\": 0.6931471805599453}, {\"repo\": \"repo2docker\", \"kind\": \"prs\", \"count\": 3, \"logcount\": 1.0986122886681098}, {\"repo\": \"repo2docker-action\", \"kind\": \"comments\", \"count\": 1, \"logcount\": 0.0}, {\"repo\": \"team-compass\", \"kind\": \"comments\", \"count\": 20, \"logcount\": 2.995732273553991}, {\"repo\": \"zero-to-jupyterhub-k8s\", \"kind\": \"comments\", \"count\": 3, \"logcount\": 1.0986122886681098}, {\"repo\": \"zero-to-jupyterhub-k8s\", \"kind\": \"prs\", \"count\": 1, \"logcount\": 0.0}]}}, {\"mode\": \"vega-lite\"});\n",
       "</script>"
      ],
      "text/plain": [
       "alt.HConcatChart(...)"
      ]
     },
     "execution_count": 11,
     "metadata": {},
     "output_type": "execute_result"
    }
   ],
   "source": [
    "ch1 = alt.Chart(repo_summaries, width=600, title=\"Activity per repository\").mark_bar().encode(\n",
    "    x='repo',\n",
    "    y='count',\n",
    "    color='kind',\n",
    "    tooltip=\"kind\"\n",
    ")\n",
    "\n",
    "ch2 = alt.Chart(repo_summaries, width=600, title=\"Log activity per repository\").mark_bar().encode(\n",
    "    x='repo',\n",
    "    y='logcount',\n",
    "    color='kind',\n",
    "    tooltip=\"kind\"\n",
    ")\n",
    "\n",
    "ch1 | ch2"
   ]
  },
  {
   "cell_type": "code",
   "execution_count": 12,
   "metadata": {
    "execution": {
     "iopub.execute_input": "2020-07-26T01:14:11.619982Z",
     "iopub.status.busy": "2020-07-26T01:14:11.614797Z",
     "iopub.status.idle": "2020-07-26T01:14:11.641571Z",
     "shell.execute_reply": "2020-07-26T01:14:11.640988Z"
    },
    "papermill": {
     "duration": 0.052298,
     "end_time": "2020-07-26T01:14:11.641726",
     "exception": false,
     "start_time": "2020-07-26T01:14:11.589428",
     "status": "completed"
    },
    "tags": [
     "hide_input"
    ]
   },
   "outputs": [
    {
     "data": {
      "text/html": [
       "\n",
       "<div id=\"altair-viz-ca9a79cdb68948d787db52dde44d8352\"></div>\n",
       "<script type=\"text/javascript\">\n",
       "  (function(spec, embedOpt){\n",
       "    let outputDiv = document.currentScript.previousElementSibling;\n",
       "    if (outputDiv.id !== \"altair-viz-ca9a79cdb68948d787db52dde44d8352\") {\n",
       "      outputDiv = document.getElementById(\"altair-viz-ca9a79cdb68948d787db52dde44d8352\");\n",
       "    }\n",
       "    const paths = {\n",
       "      \"vega\": \"https://cdn.jsdelivr.net/npm//vega@5?noext\",\n",
       "      \"vega-lib\": \"https://cdn.jsdelivr.net/npm//vega-lib?noext\",\n",
       "      \"vega-lite\": \"https://cdn.jsdelivr.net/npm//vega-lite@4.8.1?noext\",\n",
       "      \"vega-embed\": \"https://cdn.jsdelivr.net/npm//vega-embed@6?noext\",\n",
       "    };\n",
       "\n",
       "    function loadScript(lib) {\n",
       "      return new Promise(function(resolve, reject) {\n",
       "        var s = document.createElement('script');\n",
       "        s.src = paths[lib];\n",
       "        s.async = true;\n",
       "        s.onload = () => resolve(paths[lib]);\n",
       "        s.onerror = () => reject(`Error loading script: ${paths[lib]}`);\n",
       "        document.getElementsByTagName(\"head\")[0].appendChild(s);\n",
       "      });\n",
       "    }\n",
       "\n",
       "    function showError(err) {\n",
       "      outputDiv.innerHTML = `<div class=\"error\" style=\"color:red;\">${err}</div>`;\n",
       "      throw err;\n",
       "    }\n",
       "\n",
       "    function displayChart(vegaEmbed) {\n",
       "      vegaEmbed(outputDiv, spec, embedOpt)\n",
       "        .catch(err => showError(`Javascript Error: ${err.message}<br>This usually means there's a typo in your chart specification. See the javascript console for the full traceback.`));\n",
       "    }\n",
       "\n",
       "    if(typeof define === \"function\" && define.amd) {\n",
       "      requirejs.config({paths});\n",
       "      require([\"vega-embed\"], displayChart, err => showError(`Error loading script: ${err.message}`));\n",
       "    } else if (typeof vegaEmbed === \"function\") {\n",
       "      displayChart(vegaEmbed);\n",
       "    } else {\n",
       "      loadScript(\"vega\")\n",
       "        .then(() => loadScript(\"vega-lite\"))\n",
       "        .then(() => loadScript(\"vega-embed\"))\n",
       "        .catch(showError)\n",
       "        .then(() => displayChart(vegaEmbed));\n",
       "    }\n",
       "  })({\"config\": {\"axisLeft\": {\"labelFontSize\": 15}, \"axisBottom\": {\"labelFontSize\": 15}}, \"data\": {\"name\": \"data-b21f22d554117fb9dbfebbab0eabdc61\"}, \"mark\": \"bar\", \"encoding\": {\"color\": {\"type\": \"nominal\", \"field\": \"kind\"}, \"tooltip\": {\"type\": \"nominal\", \"field\": \"org\"}, \"x\": {\"type\": \"nominal\", \"field\": \"org\"}, \"y\": {\"type\": \"quantitative\", \"field\": \"count\"}}, \"width\": 600, \"$schema\": \"https://vega.github.io/schema/vega-lite/v4.8.1.json\", \"datasets\": {\"data-b21f22d554117fb9dbfebbab0eabdc61\": [{\"org\": \"jupyter\", \"kind\": \"comments\", \"count\": 44}, {\"org\": \"jupyter\", \"kind\": \"issues\", \"count\": 2}, {\"org\": \"jupyter\", \"kind\": \"prs\", \"count\": 3}, {\"org\": \"jupyterhub\", \"kind\": \"comments\", \"count\": 72}, {\"org\": \"jupyterhub\", \"kind\": \"issues\", \"count\": 3}, {\"org\": \"jupyterhub\", \"kind\": \"prs\", \"count\": 10}]}}, {\"mode\": \"vega-lite\"});\n",
       "</script>"
      ],
      "text/plain": [
       "alt.Chart(...)"
      ]
     },
     "execution_count": 12,
     "metadata": {},
     "output_type": "execute_result"
    }
   ],
   "source": [
    "alt.Chart(org_summaries, width=600).mark_bar().encode(\n",
    "    x='org',\n",
    "    y='count',\n",
    "    color='kind',\n",
    "    tooltip=\"org\"\n",
    ")"
   ]
  },
  {
   "cell_type": "markdown",
   "metadata": {
    "papermill": {
     "duration": 0.017435,
     "end_time": "2020-07-26T01:14:11.677598",
     "exception": false,
     "start_time": "2020-07-26T01:14:11.660163",
     "status": "completed"
    },
    "tags": []
   },
   "source": [
    "# By repository over time"
   ]
  },
  {
   "cell_type": "markdown",
   "metadata": {
    "papermill": {
     "duration": 0.018134,
     "end_time": "2020-07-26T01:14:11.714744",
     "exception": false,
     "start_time": "2020-07-26T01:14:11.696610",
     "status": "completed"
    },
    "tags": []
   },
   "source": [
    "## Comments"
   ]
  },
  {
   "cell_type": "code",
   "execution_count": 13,
   "metadata": {
    "execution": {
     "iopub.execute_input": "2020-07-26T01:14:11.754691Z",
     "iopub.status.busy": "2020-07-26T01:14:11.754083Z",
     "iopub.status.idle": "2020-07-26T01:14:11.862514Z",
     "shell.execute_reply": "2020-07-26T01:14:11.863124Z"
    },
    "papermill": {
     "duration": 0.132893,
     "end_time": "2020-07-26T01:14:11.863303",
     "exception": false,
     "start_time": "2020-07-26T01:14:11.730410",
     "status": "completed"
    },
    "tags": [
     "hide_input"
    ]
   },
   "outputs": [
    {
     "data": {
      "text/html": [
       "\n",
       "<div id=\"altair-viz-d6b9966c3faf4867b543c369bc416f08\"></div>\n",
       "<script type=\"text/javascript\">\n",
       "  (function(spec, embedOpt){\n",
       "    let outputDiv = document.currentScript.previousElementSibling;\n",
       "    if (outputDiv.id !== \"altair-viz-d6b9966c3faf4867b543c369bc416f08\") {\n",
       "      outputDiv = document.getElementById(\"altair-viz-d6b9966c3faf4867b543c369bc416f08\");\n",
       "    }\n",
       "    const paths = {\n",
       "      \"vega\": \"https://cdn.jsdelivr.net/npm//vega@5?noext\",\n",
       "      \"vega-lib\": \"https://cdn.jsdelivr.net/npm//vega-lib?noext\",\n",
       "      \"vega-lite\": \"https://cdn.jsdelivr.net/npm//vega-lite@4.8.1?noext\",\n",
       "      \"vega-embed\": \"https://cdn.jsdelivr.net/npm//vega-embed@6?noext\",\n",
       "    };\n",
       "\n",
       "    function loadScript(lib) {\n",
       "      return new Promise(function(resolve, reject) {\n",
       "        var s = document.createElement('script');\n",
       "        s.src = paths[lib];\n",
       "        s.async = true;\n",
       "        s.onload = () => resolve(paths[lib]);\n",
       "        s.onerror = () => reject(`Error loading script: ${paths[lib]}`);\n",
       "        document.getElementsByTagName(\"head\")[0].appendChild(s);\n",
       "      });\n",
       "    }\n",
       "\n",
       "    function showError(err) {\n",
       "      outputDiv.innerHTML = `<div class=\"error\" style=\"color:red;\">${err}</div>`;\n",
       "      throw err;\n",
       "    }\n",
       "\n",
       "    function displayChart(vegaEmbed) {\n",
       "      vegaEmbed(outputDiv, spec, embedOpt)\n",
       "        .catch(err => showError(`Javascript Error: ${err.message}<br>This usually means there's a typo in your chart specification. See the javascript console for the full traceback.`));\n",
       "    }\n",
       "\n",
       "    if(typeof define === \"function\" && define.amd) {\n",
       "      requirejs.config({paths});\n",
       "      require([\"vega-embed\"], displayChart, err => showError(`Error loading script: ${err.message}`));\n",
       "    } else if (typeof vegaEmbed === \"function\") {\n",
       "      displayChart(vegaEmbed);\n",
       "    } else {\n",
       "      loadScript(\"vega\")\n",
       "        .then(() => loadScript(\"vega-lite\"))\n",
       "        .then(() => loadScript(\"vega-embed\"))\n",
       "        .catch(showError)\n",
       "        .then(() => displayChart(vegaEmbed));\n",
       "    }\n",
       "  })({\"config\": {\"axisLeft\": {\"labelFontSize\": 15}, \"axisBottom\": {\"labelFontSize\": 15}}, \"layer\": [{\"data\": {\"name\": \"data-1e695814adc8b5d9407970ade77a3a73\"}, \"mark\": \"line\", \"encoding\": {\"color\": {\"type\": \"nominal\", \"field\": \"repo\"}, \"tooltip\": {\"type\": \"nominal\", \"field\": \"repo\"}, \"x\": {\"type\": \"temporal\", \"field\": \"createdAt\"}, \"y\": {\"type\": \"quantitative\", \"field\": \"count\"}}, \"width\": 600}, {\"data\": {\"name\": \"data-3db31a9abcf91186f021a594f60f8b71\"}, \"mark\": {\"type\": \"line\", \"color\": \"black\"}, \"encoding\": {\"x\": {\"type\": \"temporal\", \"field\": \"createdAt\"}, \"y\": {\"type\": \"quantitative\", \"field\": \"count\"}}, \"width\": 600}], \"$schema\": \"https://vega.github.io/schema/vega-lite/v4.8.1.json\", \"datasets\": {\"data-1e695814adc8b5d9407970ade77a3a73\": [{\"repo\": \".github\", \"createdAt\": \"2020-06-21T00:00:00\", \"count\": 1}, {\"repo\": \"binderhub\", \"createdAt\": \"2020-05-31T00:00:00\", \"count\": 2}, {\"repo\": \"binderhub\", \"createdAt\": \"2020-06-07T00:00:00\", \"count\": 1}, {\"repo\": \"binderhub\", \"createdAt\": \"2020-06-14T00:00:00\", \"count\": 0}, {\"repo\": \"binderhub\", \"createdAt\": \"2020-06-21T00:00:00\", \"count\": 3}, {\"repo\": \"binderhub\", \"createdAt\": \"2020-06-28T00:00:00\", \"count\": 0}, {\"repo\": \"binderhub\", \"createdAt\": \"2020-07-05T00:00:00\", \"count\": 3}, {\"repo\": \"binderhub\", \"createdAt\": \"2020-07-12T00:00:00\", \"count\": 2}, {\"repo\": \"binderhub\", \"createdAt\": \"2020-07-19T00:00:00\", \"count\": 2}, {\"repo\": \"binderhub\", \"createdAt\": \"2020-07-26T00:00:00\", \"count\": 1}, {\"repo\": \"enhancement-proposals\", \"createdAt\": \"2020-07-12T00:00:00\", \"count\": 2}, {\"repo\": \"jupyter-server-proxy\", \"createdAt\": \"2020-07-05T00:00:00\", \"count\": 1}, {\"repo\": \"jupyterhub\", \"createdAt\": \"2020-06-07T00:00:00\", \"count\": 1}, {\"repo\": \"kubespawner\", \"createdAt\": \"2020-06-14T00:00:00\", \"count\": 1}, {\"repo\": \"kubespawner\", \"createdAt\": \"2020-06-21T00:00:00\", \"count\": 0}, {\"repo\": \"kubespawner\", \"createdAt\": \"2020-06-28T00:00:00\", \"count\": 0}, {\"repo\": \"kubespawner\", \"createdAt\": \"2020-07-05T00:00:00\", \"count\": 0}, {\"repo\": \"kubespawner\", \"createdAt\": \"2020-07-12T00:00:00\", \"count\": 0}, {\"repo\": \"kubespawner\", \"createdAt\": \"2020-07-19T00:00:00\", \"count\": 0}, {\"repo\": \"kubespawner\", \"createdAt\": \"2020-07-26T00:00:00\", \"count\": 1}, {\"repo\": \"mybinder.org-deploy\", \"createdAt\": \"2020-05-31T00:00:00\", \"count\": 1}, {\"repo\": \"mybinder.org-deploy\", \"createdAt\": \"2020-06-07T00:00:00\", \"count\": 6}, {\"repo\": \"mybinder.org-deploy\", \"createdAt\": \"2020-06-14T00:00:00\", \"count\": 1}, {\"repo\": \"mybinder.org-deploy\", \"createdAt\": \"2020-06-21T00:00:00\", \"count\": 2}, {\"repo\": \"mybinder.org-deploy\", \"createdAt\": \"2020-06-28T00:00:00\", \"count\": 1}, {\"repo\": \"mybinder.org-deploy\", \"createdAt\": \"2020-07-05T00:00:00\", \"count\": 2}, {\"repo\": \"mybinder.org-deploy\", \"createdAt\": \"2020-07-12T00:00:00\", \"count\": 1}, {\"repo\": \"mybinder.org-deploy\", \"createdAt\": \"2020-07-19T00:00:00\", \"count\": 13}, {\"repo\": \"mybinder.org-deploy\", \"createdAt\": \"2020-07-26T00:00:00\", \"count\": 1}, {\"repo\": \"nbconvert\", \"createdAt\": \"2020-05-31T00:00:00\", \"count\": 1}, {\"repo\": \"nbconvert\", \"createdAt\": \"2020-06-07T00:00:00\", \"count\": 0}, {\"repo\": \"nbconvert\", \"createdAt\": \"2020-06-14T00:00:00\", \"count\": 1}, {\"repo\": \"pebble-helm-chart\", \"createdAt\": \"2020-06-07T00:00:00\", \"count\": 1}, {\"repo\": \"repo2docker\", \"createdAt\": \"2020-06-07T00:00:00\", \"count\": 4}, {\"repo\": \"repo2docker\", \"createdAt\": \"2020-06-14T00:00:00\", \"count\": 13}, {\"repo\": \"repo2docker\", \"createdAt\": \"2020-06-21T00:00:00\", \"count\": 3}, {\"repo\": \"repo2docker\", \"createdAt\": \"2020-06-28T00:00:00\", \"count\": 3}, {\"repo\": \"repo2docker\", \"createdAt\": \"2020-07-05T00:00:00\", \"count\": 1}, {\"repo\": \"repo2docker\", \"createdAt\": \"2020-07-12T00:00:00\", \"count\": 14}, {\"repo\": \"repo2docker\", \"createdAt\": \"2020-07-19T00:00:00\", \"count\": 1}, {\"repo\": \"repo2docker\", \"createdAt\": \"2020-07-26T00:00:00\", \"count\": 1}, {\"repo\": \"repo2docker-action\", \"createdAt\": \"2020-06-28T00:00:00\", \"count\": 1}, {\"repo\": \"team-compass\", \"createdAt\": \"2020-06-07T00:00:00\", \"count\": 2}, {\"repo\": \"team-compass\", \"createdAt\": \"2020-06-14T00:00:00\", \"count\": 3}, {\"repo\": \"team-compass\", \"createdAt\": \"2020-06-21T00:00:00\", \"count\": 5}, {\"repo\": \"team-compass\", \"createdAt\": \"2020-06-28T00:00:00\", \"count\": 0}, {\"repo\": \"team-compass\", \"createdAt\": \"2020-07-05T00:00:00\", \"count\": 0}, {\"repo\": \"team-compass\", \"createdAt\": \"2020-07-12T00:00:00\", \"count\": 3}, {\"repo\": \"team-compass\", \"createdAt\": \"2020-07-19T00:00:00\", \"count\": 1}, {\"repo\": \"team-compass\", \"createdAt\": \"2020-07-26T00:00:00\", \"count\": 6}, {\"repo\": \"zero-to-jupyterhub-k8s\", \"createdAt\": \"2020-06-07T00:00:00\", \"count\": 3}], \"data-3db31a9abcf91186f021a594f60f8b71\": [{\"createdAt\": \"2020-05-31T00:00:00\", \"count\": 4}, {\"createdAt\": \"2020-06-07T00:00:00\", \"count\": 18}, {\"createdAt\": \"2020-06-14T00:00:00\", \"count\": 19}, {\"createdAt\": \"2020-06-21T00:00:00\", \"count\": 14}, {\"createdAt\": \"2020-06-28T00:00:00\", \"count\": 5}, {\"createdAt\": \"2020-07-05T00:00:00\", \"count\": 7}, {\"createdAt\": \"2020-07-12T00:00:00\", \"count\": 22}, {\"createdAt\": \"2020-07-19T00:00:00\", \"count\": 17}, {\"createdAt\": \"2020-07-26T00:00:00\", \"count\": 10}]}}, {\"mode\": \"vega-lite\"});\n",
       "</script>"
      ],
      "text/plain": [
       "alt.LayerChart(...)"
      ]
     },
     "execution_count": 13,
     "metadata": {},
     "output_type": "execute_result"
    }
   ],
   "source": [
    "comments_time = comments.groupby('repo').resample('W', on='createdAt').count()['author'].reset_index()\n",
    "comments_time = comments_time.rename(columns={'author': 'count'})\n",
    "comments_time_total = comments_time.groupby('createdAt').agg({\"count\": \"sum\"}).reset_index()\n",
    "ch1 = alt.Chart(comments_time, width=600).mark_line().encode(\n",
    "    x='createdAt',\n",
    "    y='count',\n",
    "    color='repo',\n",
    "    tooltip=\"repo\"\n",
    ")\n",
    "\n",
    "ch2 = alt.Chart(comments_time_total, width=600).mark_line(color=\"black\").encode(\n",
    "    x='createdAt',\n",
    "    y='count',\n",
    ")\n",
    "\n",
    "ch1 + ch2"
   ]
  },
  {
   "cell_type": "markdown",
   "metadata": {
    "papermill": {
     "duration": 0.018746,
     "end_time": "2020-07-26T01:14:11.899959",
     "exception": false,
     "start_time": "2020-07-26T01:14:11.881213",
     "status": "completed"
    },
    "tags": []
   },
   "source": [
    "## PRs"
   ]
  },
  {
   "cell_type": "code",
   "execution_count": 14,
   "metadata": {
    "execution": {
     "iopub.execute_input": "2020-07-26T01:14:11.950671Z",
     "iopub.status.busy": "2020-07-26T01:14:11.950066Z",
     "iopub.status.idle": "2020-07-26T01:14:12.010100Z",
     "shell.execute_reply": "2020-07-26T01:14:12.010761Z"
    },
    "papermill": {
     "duration": 0.090801,
     "end_time": "2020-07-26T01:14:12.010930",
     "exception": false,
     "start_time": "2020-07-26T01:14:11.920129",
     "status": "completed"
    },
    "tags": [
     "hide_input"
    ]
   },
   "outputs": [
    {
     "data": {
      "text/html": [
       "\n",
       "<div id=\"altair-viz-fbd9879fa0ef445ca04982f1edab8b5c\"></div>\n",
       "<script type=\"text/javascript\">\n",
       "  (function(spec, embedOpt){\n",
       "    let outputDiv = document.currentScript.previousElementSibling;\n",
       "    if (outputDiv.id !== \"altair-viz-fbd9879fa0ef445ca04982f1edab8b5c\") {\n",
       "      outputDiv = document.getElementById(\"altair-viz-fbd9879fa0ef445ca04982f1edab8b5c\");\n",
       "    }\n",
       "    const paths = {\n",
       "      \"vega\": \"https://cdn.jsdelivr.net/npm//vega@5?noext\",\n",
       "      \"vega-lib\": \"https://cdn.jsdelivr.net/npm//vega-lib?noext\",\n",
       "      \"vega-lite\": \"https://cdn.jsdelivr.net/npm//vega-lite@4.8.1?noext\",\n",
       "      \"vega-embed\": \"https://cdn.jsdelivr.net/npm//vega-embed@6?noext\",\n",
       "    };\n",
       "\n",
       "    function loadScript(lib) {\n",
       "      return new Promise(function(resolve, reject) {\n",
       "        var s = document.createElement('script');\n",
       "        s.src = paths[lib];\n",
       "        s.async = true;\n",
       "        s.onload = () => resolve(paths[lib]);\n",
       "        s.onerror = () => reject(`Error loading script: ${paths[lib]}`);\n",
       "        document.getElementsByTagName(\"head\")[0].appendChild(s);\n",
       "      });\n",
       "    }\n",
       "\n",
       "    function showError(err) {\n",
       "      outputDiv.innerHTML = `<div class=\"error\" style=\"color:red;\">${err}</div>`;\n",
       "      throw err;\n",
       "    }\n",
       "\n",
       "    function displayChart(vegaEmbed) {\n",
       "      vegaEmbed(outputDiv, spec, embedOpt)\n",
       "        .catch(err => showError(`Javascript Error: ${err.message}<br>This usually means there's a typo in your chart specification. See the javascript console for the full traceback.`));\n",
       "    }\n",
       "\n",
       "    if(typeof define === \"function\" && define.amd) {\n",
       "      requirejs.config({paths});\n",
       "      require([\"vega-embed\"], displayChart, err => showError(`Error loading script: ${err.message}`));\n",
       "    } else if (typeof vegaEmbed === \"function\") {\n",
       "      displayChart(vegaEmbed);\n",
       "    } else {\n",
       "      loadScript(\"vega\")\n",
       "        .then(() => loadScript(\"vega-lite\"))\n",
       "        .then(() => loadScript(\"vega-embed\"))\n",
       "        .catch(showError)\n",
       "        .then(() => displayChart(vegaEmbed));\n",
       "    }\n",
       "  })({\"config\": {\"axisLeft\": {\"labelFontSize\": 15}, \"axisBottom\": {\"labelFontSize\": 15}}, \"layer\": [{\"data\": {\"name\": \"data-916af96514881ce949d16614b90eab77\"}, \"mark\": \"line\", \"encoding\": {\"color\": {\"type\": \"nominal\", \"field\": \"repo\"}, \"tooltip\": {\"type\": \"nominal\", \"field\": \"repo\"}, \"x\": {\"type\": \"temporal\", \"field\": \"createdAt\"}, \"y\": {\"type\": \"quantitative\", \"field\": \"count\"}}, \"width\": 600}, {\"data\": {\"name\": \"data-e815caca1477295768bede8e1e84aedc\"}, \"mark\": {\"type\": \"line\", \"color\": \"black\"}, \"encoding\": {\"x\": {\"type\": \"temporal\", \"field\": \"createdAt\"}, \"y\": {\"type\": \"quantitative\", \"field\": \"count\"}}, \"width\": 600}], \"$schema\": \"https://vega.github.io/schema/vega-lite/v4.8.1.json\", \"datasets\": {\"data-916af96514881ce949d16614b90eab77\": [{\"repo\": \"mybinder.org-deploy\", \"createdAt\": \"2020-05-31T00:00:00\", \"count\": 2}, {\"repo\": \"mybinder.org-deploy\", \"createdAt\": \"2020-06-07T00:00:00\", \"count\": 1}, {\"repo\": \"mybinder.org-deploy\", \"createdAt\": \"2020-06-14T00:00:00\", \"count\": 0}, {\"repo\": \"mybinder.org-deploy\", \"createdAt\": \"2020-06-21T00:00:00\", \"count\": 1}, {\"repo\": \"mybinder.org-deploy\", \"createdAt\": \"2020-06-28T00:00:00\", \"count\": 0}, {\"repo\": \"mybinder.org-deploy\", \"createdAt\": \"2020-07-05T00:00:00\", \"count\": 0}, {\"repo\": \"mybinder.org-deploy\", \"createdAt\": \"2020-07-12T00:00:00\", \"count\": 1}, {\"repo\": \"mybinder.org-deploy\", \"createdAt\": \"2020-07-19T00:00:00\", \"count\": 3}, {\"repo\": \"mybinder.org-deploy\", \"createdAt\": \"2020-07-26T00:00:00\", \"count\": 1}, {\"repo\": \"repo2docker\", \"createdAt\": \"2020-06-14T00:00:00\", \"count\": 2}, {\"repo\": \"repo2docker\", \"createdAt\": \"2020-06-21T00:00:00\", \"count\": 0}, {\"repo\": \"repo2docker\", \"createdAt\": \"2020-06-28T00:00:00\", \"count\": 0}, {\"repo\": \"repo2docker\", \"createdAt\": \"2020-07-05T00:00:00\", \"count\": 0}, {\"repo\": \"repo2docker\", \"createdAt\": \"2020-07-12T00:00:00\", \"count\": 1}, {\"repo\": \"zero-to-jupyterhub-k8s\", \"createdAt\": \"2020-06-07T00:00:00\", \"count\": 1}], \"data-e815caca1477295768bede8e1e84aedc\": [{\"createdAt\": \"2020-05-31T00:00:00\", \"count\": 2}, {\"createdAt\": \"2020-06-07T00:00:00\", \"count\": 2}, {\"createdAt\": \"2020-06-14T00:00:00\", \"count\": 2}, {\"createdAt\": \"2020-06-21T00:00:00\", \"count\": 1}, {\"createdAt\": \"2020-06-28T00:00:00\", \"count\": 0}, {\"createdAt\": \"2020-07-05T00:00:00\", \"count\": 0}, {\"createdAt\": \"2020-07-12T00:00:00\", \"count\": 2}, {\"createdAt\": \"2020-07-19T00:00:00\", \"count\": 3}, {\"createdAt\": \"2020-07-26T00:00:00\", \"count\": 1}]}}, {\"mode\": \"vega-lite\"});\n",
       "</script>"
      ],
      "text/plain": [
       "alt.LayerChart(...)"
      ]
     },
     "execution_count": 14,
     "metadata": {},
     "output_type": "execute_result"
    }
   ],
   "source": [
    "prs_time = prs.groupby('repo').resample('W', on='createdAt').count()['author'].reset_index()\n",
    "prs_time = prs_time.rename(columns={'author': 'count'})\n",
    "prs_time_total = prs_time.groupby('createdAt').agg({\"count\": \"sum\"}).reset_index()\n",
    "\n",
    "ch1 = alt.Chart(prs_time, width=600).mark_line().encode(\n",
    "    x='createdAt',\n",
    "    y='count',\n",
    "    color='repo',\n",
    "    tooltip=\"repo\"\n",
    ")\n",
    "\n",
    "ch2 = alt.Chart(prs_time_total, width=600).mark_line(color=\"black\").encode(\n",
    "    x='createdAt',\n",
    "    y='count',\n",
    ")\n",
    "\n",
    "ch1 + ch2"
   ]
  },
  {
   "cell_type": "code",
   "execution_count": 15,
   "metadata": {
    "execution": {
     "iopub.execute_input": "2020-07-26T01:14:12.086041Z",
     "iopub.status.busy": "2020-07-26T01:14:12.069498Z",
     "iopub.status.idle": "2020-07-26T01:14:12.138161Z",
     "shell.execute_reply": "2020-07-26T01:14:12.137562Z"
    },
    "papermill": {
     "duration": 0.108393,
     "end_time": "2020-07-26T01:14:12.138316",
     "exception": false,
     "start_time": "2020-07-26T01:14:12.029923",
     "status": "completed"
    },
    "tags": [
     "hide_input"
    ]
   },
   "outputs": [
    {
     "data": {
      "text/html": [
       "\n",
       "<div id=\"altair-viz-651b1e05297a49d281729cf026fb5251\"></div>\n",
       "<script type=\"text/javascript\">\n",
       "  (function(spec, embedOpt){\n",
       "    let outputDiv = document.currentScript.previousElementSibling;\n",
       "    if (outputDiv.id !== \"altair-viz-651b1e05297a49d281729cf026fb5251\") {\n",
       "      outputDiv = document.getElementById(\"altair-viz-651b1e05297a49d281729cf026fb5251\");\n",
       "    }\n",
       "    const paths = {\n",
       "      \"vega\": \"https://cdn.jsdelivr.net/npm//vega@5?noext\",\n",
       "      \"vega-lib\": \"https://cdn.jsdelivr.net/npm//vega-lib?noext\",\n",
       "      \"vega-lite\": \"https://cdn.jsdelivr.net/npm//vega-lite@4.8.1?noext\",\n",
       "      \"vega-embed\": \"https://cdn.jsdelivr.net/npm//vega-embed@6?noext\",\n",
       "    };\n",
       "\n",
       "    function loadScript(lib) {\n",
       "      return new Promise(function(resolve, reject) {\n",
       "        var s = document.createElement('script');\n",
       "        s.src = paths[lib];\n",
       "        s.async = true;\n",
       "        s.onload = () => resolve(paths[lib]);\n",
       "        s.onerror = () => reject(`Error loading script: ${paths[lib]}`);\n",
       "        document.getElementsByTagName(\"head\")[0].appendChild(s);\n",
       "      });\n",
       "    }\n",
       "\n",
       "    function showError(err) {\n",
       "      outputDiv.innerHTML = `<div class=\"error\" style=\"color:red;\">${err}</div>`;\n",
       "      throw err;\n",
       "    }\n",
       "\n",
       "    function displayChart(vegaEmbed) {\n",
       "      vegaEmbed(outputDiv, spec, embedOpt)\n",
       "        .catch(err => showError(`Javascript Error: ${err.message}<br>This usually means there's a typo in your chart specification. See the javascript console for the full traceback.`));\n",
       "    }\n",
       "\n",
       "    if(typeof define === \"function\" && define.amd) {\n",
       "      requirejs.config({paths});\n",
       "      require([\"vega-embed\"], displayChart, err => showError(`Error loading script: ${err.message}`));\n",
       "    } else if (typeof vegaEmbed === \"function\") {\n",
       "      displayChart(vegaEmbed);\n",
       "    } else {\n",
       "      loadScript(\"vega\")\n",
       "        .then(() => loadScript(\"vega-lite\"))\n",
       "        .then(() => loadScript(\"vega-embed\"))\n",
       "        .catch(showError)\n",
       "        .then(() => displayChart(vegaEmbed));\n",
       "    }\n",
       "  })({\"config\": {\"axisLeft\": {\"labelFontSize\": 15}, \"axisBottom\": {\"labelFontSize\": 15}}, \"data\": {\"name\": \"data-ed9e43b84b90f8cdc25b7585242a2329\"}, \"mark\": \"line\", \"encoding\": {\"color\": {\"type\": \"nominal\", \"field\": \"repo\"}, \"tooltip\": {\"type\": \"nominal\", \"field\": \"repo\"}, \"x\": {\"type\": \"temporal\", \"field\": \"closedAt\"}, \"y\": {\"type\": \"quantitative\", \"field\": \"count\"}}, \"width\": 600, \"$schema\": \"https://vega.github.io/schema/vega-lite/v4.8.1.json\", \"datasets\": {\"data-ed9e43b84b90f8cdc25b7585242a2329\": [{\"repo\": \"binder\", \"closedAt\": \"2020-06-21T00:00:00\", \"count\": 1}, {\"repo\": \"binder\", \"closedAt\": \"2020-06-28T00:00:00\", \"count\": 0}, {\"repo\": \"binder\", \"closedAt\": \"2020-07-05T00:00:00\", \"count\": 0}, {\"repo\": \"binder\", \"closedAt\": \"2020-07-12T00:00:00\", \"count\": 0}, {\"repo\": \"binder\", \"closedAt\": \"2020-07-19T00:00:00\", \"count\": 0}, {\"repo\": \"binder\", \"closedAt\": \"2020-07-26T00:00:00\", \"count\": 1}, {\"repo\": \"binderhub\", \"closedAt\": \"2020-06-07T00:00:00\", \"count\": 2}, {\"repo\": \"binderhub\", \"closedAt\": \"2020-06-14T00:00:00\", \"count\": 0}, {\"repo\": \"binderhub\", \"closedAt\": \"2020-06-21T00:00:00\", \"count\": 2}, {\"repo\": \"binderhub\", \"closedAt\": \"2020-06-28T00:00:00\", \"count\": 0}, {\"repo\": \"binderhub\", \"closedAt\": \"2020-07-05T00:00:00\", \"count\": 2}, {\"repo\": \"binderhub\", \"closedAt\": \"2020-07-12T00:00:00\", \"count\": 0}, {\"repo\": \"binderhub\", \"closedAt\": \"2020-07-19T00:00:00\", \"count\": 3}, {\"repo\": \"jupyter-server-proxy\", \"closedAt\": \"2020-06-14T00:00:00\", \"count\": 1}, {\"repo\": \"jupyterhub\", \"closedAt\": \"2020-06-07T00:00:00\", \"count\": 1}, {\"repo\": \"mybinder.org-deploy\", \"closedAt\": \"2020-05-31T00:00:00\", \"count\": 1}, {\"repo\": \"mybinder.org-deploy\", \"closedAt\": \"2020-06-07T00:00:00\", \"count\": 2}, {\"repo\": \"mybinder.org-deploy\", \"closedAt\": \"2020-06-14T00:00:00\", \"count\": 1}, {\"repo\": \"mybinder.org-deploy\", \"closedAt\": \"2020-06-21T00:00:00\", \"count\": 0}, {\"repo\": \"mybinder.org-deploy\", \"closedAt\": \"2020-06-28T00:00:00\", \"count\": 0}, {\"repo\": \"mybinder.org-deploy\", \"closedAt\": \"2020-07-05T00:00:00\", \"count\": 0}, {\"repo\": \"mybinder.org-deploy\", \"closedAt\": \"2020-07-12T00:00:00\", \"count\": 1}, {\"repo\": \"mybinder.org-deploy\", \"closedAt\": \"2020-07-19T00:00:00\", \"count\": 5}, {\"repo\": \"mybinder.org-deploy\", \"closedAt\": \"2020-07-26T00:00:00\", \"count\": 1}, {\"repo\": \"pebble-helm-chart\", \"closedAt\": \"2020-06-07T00:00:00\", \"count\": 1}, {\"repo\": \"pick\", \"closedAt\": \"2020-06-14T00:00:00\", \"count\": 1}, {\"repo\": \"repo2docker\", \"closedAt\": \"2020-06-07T00:00:00\", \"count\": 1}, {\"repo\": \"repo2docker\", \"closedAt\": \"2020-06-14T00:00:00\", \"count\": 1}, {\"repo\": \"repo2docker\", \"closedAt\": \"2020-06-21T00:00:00\", \"count\": 3}, {\"repo\": \"repo2docker\", \"closedAt\": \"2020-06-28T00:00:00\", \"count\": 1}, {\"repo\": \"team-compass\", \"closedAt\": \"2020-06-28T00:00:00\", \"count\": 1}, {\"repo\": \"zero-to-jupyterhub-k8s\", \"closedAt\": \"2020-07-26T00:00:00\", \"count\": 1}]}}, {\"mode\": \"vega-lite\"});\n",
       "</script>"
      ],
      "text/plain": [
       "alt.Chart(...)"
      ]
     },
     "execution_count": 15,
     "metadata": {},
     "output_type": "execute_result"
    }
   ],
   "source": [
    "closed_by_time = closed_by.groupby('repo').resample('W', on='closedAt').count()['author'].reset_index()\n",
    "closed_by_time = closed_by_time.rename(columns={'author': 'count'})\n",
    "\n",
    "alt.Chart(closed_by_time, width=600).mark_line().encode(\n",
    "    x='closedAt',\n",
    "    y='count',\n",
    "    color='repo',\n",
    "    tooltip=\"repo\"\n",
    ")"
   ]
  },
  {
   "cell_type": "markdown",
   "metadata": {
    "papermill": {
     "duration": 0.021779,
     "end_time": "2020-07-26T01:14:12.181376",
     "exception": false,
     "start_time": "2020-07-26T01:14:12.159597",
     "status": "completed"
    },
    "tags": []
   },
   "source": [
    "# By type over time"
   ]
  },
  {
   "cell_type": "code",
   "execution_count": 16,
   "metadata": {
    "execution": {
     "iopub.execute_input": "2020-07-26T01:14:12.252440Z",
     "iopub.status.busy": "2020-07-26T01:14:12.236265Z",
     "iopub.status.idle": "2020-07-26T01:14:12.255995Z",
     "shell.execute_reply": "2020-07-26T01:14:12.255388Z"
    },
    "papermill": {
     "duration": 0.054532,
     "end_time": "2020-07-26T01:14:12.256134",
     "exception": false,
     "start_time": "2020-07-26T01:14:12.201602",
     "status": "completed"
    },
    "tags": [
     "remove_cell"
    ]
   },
   "outputs": [],
   "source": [
    "prs_time = prs[['author', 'createdAt']].resample('W', on='createdAt').count()['author'].reset_index()\n",
    "prs_time = prs_time.rename(columns={'author': 'prs'})\n",
    "comments_time = comments[['author', 'createdAt']].resample('W', on='createdAt').count()['author'].reset_index()\n",
    "comments_time = comments_time.rename(columns={'author': 'comments'})\n",
    "\n",
    "total_time = pd.merge(prs_time, comments_time, on='createdAt', how='outer')\n",
    "total_time = total_time.melt(id_vars='createdAt', var_name=\"kind\", value_name=\"count\")\n"
   ]
  },
  {
   "cell_type": "code",
   "execution_count": 17,
   "metadata": {
    "execution": {
     "iopub.execute_input": "2020-07-26T01:14:12.318753Z",
     "iopub.status.busy": "2020-07-26T01:14:12.318071Z",
     "iopub.status.idle": "2020-07-26T01:14:12.321752Z",
     "shell.execute_reply": "2020-07-26T01:14:12.321051Z"
    },
    "papermill": {
     "duration": 0.047729,
     "end_time": "2020-07-26T01:14:12.321898",
     "exception": false,
     "start_time": "2020-07-26T01:14:12.274169",
     "status": "completed"
    },
    "tags": [
     "hide_input"
    ]
   },
   "outputs": [
    {
     "data": {
      "text/html": [
       "\n",
       "<div id=\"altair-viz-2a304cae1b884b2a91ec7700c0ed625f\"></div>\n",
       "<script type=\"text/javascript\">\n",
       "  (function(spec, embedOpt){\n",
       "    let outputDiv = document.currentScript.previousElementSibling;\n",
       "    if (outputDiv.id !== \"altair-viz-2a304cae1b884b2a91ec7700c0ed625f\") {\n",
       "      outputDiv = document.getElementById(\"altair-viz-2a304cae1b884b2a91ec7700c0ed625f\");\n",
       "    }\n",
       "    const paths = {\n",
       "      \"vega\": \"https://cdn.jsdelivr.net/npm//vega@5?noext\",\n",
       "      \"vega-lib\": \"https://cdn.jsdelivr.net/npm//vega-lib?noext\",\n",
       "      \"vega-lite\": \"https://cdn.jsdelivr.net/npm//vega-lite@4.8.1?noext\",\n",
       "      \"vega-embed\": \"https://cdn.jsdelivr.net/npm//vega-embed@6?noext\",\n",
       "    };\n",
       "\n",
       "    function loadScript(lib) {\n",
       "      return new Promise(function(resolve, reject) {\n",
       "        var s = document.createElement('script');\n",
       "        s.src = paths[lib];\n",
       "        s.async = true;\n",
       "        s.onload = () => resolve(paths[lib]);\n",
       "        s.onerror = () => reject(`Error loading script: ${paths[lib]}`);\n",
       "        document.getElementsByTagName(\"head\")[0].appendChild(s);\n",
       "      });\n",
       "    }\n",
       "\n",
       "    function showError(err) {\n",
       "      outputDiv.innerHTML = `<div class=\"error\" style=\"color:red;\">${err}</div>`;\n",
       "      throw err;\n",
       "    }\n",
       "\n",
       "    function displayChart(vegaEmbed) {\n",
       "      vegaEmbed(outputDiv, spec, embedOpt)\n",
       "        .catch(err => showError(`Javascript Error: ${err.message}<br>This usually means there's a typo in your chart specification. See the javascript console for the full traceback.`));\n",
       "    }\n",
       "\n",
       "    if(typeof define === \"function\" && define.amd) {\n",
       "      requirejs.config({paths});\n",
       "      require([\"vega-embed\"], displayChart, err => showError(`Error loading script: ${err.message}`));\n",
       "    } else if (typeof vegaEmbed === \"function\") {\n",
       "      displayChart(vegaEmbed);\n",
       "    } else {\n",
       "      loadScript(\"vega\")\n",
       "        .then(() => loadScript(\"vega-lite\"))\n",
       "        .then(() => loadScript(\"vega-embed\"))\n",
       "        .catch(showError)\n",
       "        .then(() => displayChart(vegaEmbed));\n",
       "    }\n",
       "  })({\"config\": {\"axisLeft\": {\"labelFontSize\": 15}, \"axisBottom\": {\"labelFontSize\": 15}}, \"data\": {\"name\": \"data-8838ab3d9f9773957085c4c61417b571\"}, \"mark\": \"line\", \"encoding\": {\"color\": {\"type\": \"nominal\", \"field\": \"kind\"}, \"x\": {\"type\": \"temporal\", \"field\": \"createdAt\"}, \"y\": {\"type\": \"quantitative\", \"field\": \"count\"}}, \"width\": 600, \"$schema\": \"https://vega.github.io/schema/vega-lite/v4.8.1.json\", \"datasets\": {\"data-8838ab3d9f9773957085c4c61417b571\": [{\"createdAt\": \"2020-05-31T00:00:00\", \"kind\": \"prs\", \"count\": 2}, {\"createdAt\": \"2020-06-07T00:00:00\", \"kind\": \"prs\", \"count\": 2}, {\"createdAt\": \"2020-06-14T00:00:00\", \"kind\": \"prs\", \"count\": 2}, {\"createdAt\": \"2020-06-21T00:00:00\", \"kind\": \"prs\", \"count\": 1}, {\"createdAt\": \"2020-06-28T00:00:00\", \"kind\": \"prs\", \"count\": 0}, {\"createdAt\": \"2020-07-05T00:00:00\", \"kind\": \"prs\", \"count\": 0}, {\"createdAt\": \"2020-07-12T00:00:00\", \"kind\": \"prs\", \"count\": 2}, {\"createdAt\": \"2020-07-19T00:00:00\", \"kind\": \"prs\", \"count\": 3}, {\"createdAt\": \"2020-07-26T00:00:00\", \"kind\": \"prs\", \"count\": 1}, {\"createdAt\": \"2020-05-31T00:00:00\", \"kind\": \"comments\", \"count\": 4}, {\"createdAt\": \"2020-06-07T00:00:00\", \"kind\": \"comments\", \"count\": 18}, {\"createdAt\": \"2020-06-14T00:00:00\", \"kind\": \"comments\", \"count\": 19}, {\"createdAt\": \"2020-06-21T00:00:00\", \"kind\": \"comments\", \"count\": 14}, {\"createdAt\": \"2020-06-28T00:00:00\", \"kind\": \"comments\", \"count\": 5}, {\"createdAt\": \"2020-07-05T00:00:00\", \"kind\": \"comments\", \"count\": 7}, {\"createdAt\": \"2020-07-12T00:00:00\", \"kind\": \"comments\", \"count\": 22}, {\"createdAt\": \"2020-07-19T00:00:00\", \"kind\": \"comments\", \"count\": 17}, {\"createdAt\": \"2020-07-26T00:00:00\", \"kind\": \"comments\", \"count\": 10}]}}, {\"mode\": \"vega-lite\"});\n",
       "</script>"
      ],
      "text/plain": [
       "alt.Chart(...)"
      ]
     },
     "execution_count": 17,
     "metadata": {},
     "output_type": "execute_result"
    }
   ],
   "source": [
    "alt.Chart(total_time, width=600).mark_line().encode(\n",
    "    x='createdAt',\n",
    "    y='count',\n",
    "    color='kind'\n",
    ")"
   ]
  }
 ],
 "metadata": {
  "kernelspec": {
   "display_name": "Python 3",
   "language": "python",
   "name": "python3"
  },
  "language_info": {
   "codemirror_mode": {
    "name": "ipython",
    "version": 3
   },
   "file_extension": ".py",
   "mimetype": "text/x-python",
   "name": "python",
   "nbconvert_exporter": "python",
   "pygments_lexer": "ipython3",
   "version": "3.7.8"
  },
  "papermill": {
   "duration": 3.903122,
   "end_time": "2020-07-26T01:14:12.753474",
   "environment_variables": {},
   "exception": null,
   "input_path": "./person.ipynb",
   "output_path": "people/betatim.ipynb",
   "parameters": {
    "n_days": 60,
    "person": "betatim"
   },
   "start_time": "2020-07-26T01:14:08.850352",
   "version": "2.1.2"
  },
  "widgets": {
   "application/vnd.jupyter.widget-state+json": {
    "state": {},
    "version_major": 2,
    "version_minor": 0
   }
  }
 },
 "nbformat": 4,
 "nbformat_minor": 4
}