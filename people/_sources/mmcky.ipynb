{
 "cells": [
  {
   "cell_type": "markdown",
   "id": "1959b296",
   "metadata": {
    "papermill": {
     "duration": 0.019745,
     "end_time": "2021-10-28T01:34:21.881959",
     "exception": false,
     "start_time": "2021-10-28T01:34:21.862214",
     "status": "completed"
    },
    "tags": []
   },
   "source": [
    "# Report for mmcky"
   ]
  },
  {
   "cell_type": "code",
   "execution_count": 1,
   "id": "2c013be8",
   "metadata": {
    "execution": {
     "iopub.execute_input": "2021-10-28T01:34:21.932879Z",
     "iopub.status.busy": "2021-10-28T01:34:21.932218Z",
     "iopub.status.idle": "2021-10-28T01:34:23.265650Z",
     "shell.execute_reply": "2021-10-28T01:34:23.264389Z"
    },
    "papermill": {
     "duration": 1.365295,
     "end_time": "2021-10-28T01:34:23.265839",
     "exception": false,
     "start_time": "2021-10-28T01:34:21.900544",
     "status": "completed"
    },
    "tags": [
     "remove_cell"
    ]
   },
   "outputs": [],
   "source": [
    "import seaborn as sns\n",
    "import pandas as pd\n",
    "import numpy as np\n",
    "import altair as alt\n",
    "from markdown import markdown\n",
    "from IPython.display import Markdown\n",
    "from ipywidgets.widgets import HTML, Tab\n",
    "from ipywidgets import widgets\n",
    "from datetime import timedelta\n",
    "from matplotlib import pyplot as plt\n",
    "import os.path as op\n",
    "\n",
    "from mycode import alt_theme\n",
    "from warnings import simplefilter\n",
    "simplefilter('ignore')"
   ]
  },
  {
   "cell_type": "code",
   "execution_count": 2,
   "id": "a30e3aab",
   "metadata": {
    "execution": {
     "iopub.execute_input": "2021-10-28T01:34:23.319430Z",
     "iopub.status.busy": "2021-10-28T01:34:23.314640Z",
     "iopub.status.idle": "2021-10-28T01:34:23.320668Z",
     "shell.execute_reply": "2021-10-28T01:34:23.320078Z"
    },
    "papermill": {
     "duration": 0.029178,
     "end_time": "2021-10-28T01:34:23.320841",
     "exception": false,
     "start_time": "2021-10-28T01:34:23.291663",
     "status": "completed"
    },
    "tags": [
     "remove_cell"
    ]
   },
   "outputs": [],
   "source": [
    "def author_url(author):\n",
    "    return f\"https://github.com/{author}\""
   ]
  },
  {
   "cell_type": "code",
   "execution_count": 3,
   "id": "44b86ab3",
   "metadata": {
    "execution": {
     "iopub.execute_input": "2021-10-28T01:34:23.370641Z",
     "iopub.status.busy": "2021-10-28T01:34:23.369477Z",
     "iopub.status.idle": "2021-10-28T01:34:23.371664Z",
     "shell.execute_reply": "2021-10-28T01:34:23.372215Z"
    },
    "papermill": {
     "duration": 0.034265,
     "end_time": "2021-10-28T01:34:23.372403",
     "exception": false,
     "start_time": "2021-10-28T01:34:23.338138",
     "status": "completed"
    },
    "tags": [
     "parameters",
     "hide_input"
    ]
   },
   "outputs": [],
   "source": [
    "# Parameters\n",
    "fmt_date = \"{:%Y-%m-%d}\"\n",
    "\n",
    "n_days = 30 * 2\n",
    "start_date = fmt_date.format(pd.datetime.today() - timedelta(days=n_days))\n",
    "end_date = fmt_date.format(pd.datetime.today())\n",
    "\n",
    "renderer = \"html\"\n",
    "person = \"jasongrout\""
   ]
  },
  {
   "cell_type": "code",
   "execution_count": 4,
   "id": "69149cf3",
   "metadata": {
    "execution": {
     "iopub.execute_input": "2021-10-28T01:34:23.415582Z",
     "iopub.status.busy": "2021-10-28T01:34:23.414810Z",
     "iopub.status.idle": "2021-10-28T01:34:23.417639Z",
     "shell.execute_reply": "2021-10-28T01:34:23.417042Z"
    },
    "papermill": {
     "duration": 0.026881,
     "end_time": "2021-10-28T01:34:23.417831",
     "exception": false,
     "start_time": "2021-10-28T01:34:23.390950",
     "status": "completed"
    },
    "tags": [
     "injected-parameters",
     "remove-cell"
    ]
   },
   "outputs": [],
   "source": [
    "# Parameters\n",
    "person = \"mmcky\"\n",
    "n_days = 90\n"
   ]
  },
  {
   "cell_type": "code",
   "execution_count": 5,
   "id": "85780dd8",
   "metadata": {
    "execution": {
     "iopub.execute_input": "2021-10-28T01:34:23.463088Z",
     "iopub.status.busy": "2021-10-28T01:34:23.462455Z",
     "iopub.status.idle": "2021-10-28T01:34:23.465268Z",
     "shell.execute_reply": "2021-10-28T01:34:23.465783Z"
    },
    "papermill": {
     "duration": 0.03101,
     "end_time": "2021-10-28T01:34:23.465970",
     "exception": false,
     "start_time": "2021-10-28T01:34:23.434960",
     "status": "completed"
    },
    "tags": [
     "remove_cell"
    ]
   },
   "outputs": [
    {
     "data": {
      "text/plain": [
       "ThemeRegistry.enable('my_theme')"
      ]
     },
     "execution_count": 5,
     "metadata": {},
     "output_type": "execute_result"
    }
   ],
   "source": [
    "alt.renderers.enable(renderer);\n",
    "alt.themes.register('my_theme', alt_theme)\n",
    "alt.themes.enable(\"my_theme\")"
   ]
  },
  {
   "cell_type": "markdown",
   "id": "ce75fa1f",
   "metadata": {
    "papermill": {
     "duration": 0.018867,
     "end_time": "2021-10-28T01:34:23.504005",
     "exception": false,
     "start_time": "2021-10-28T01:34:23.485138",
     "status": "completed"
    },
    "tags": []
   },
   "source": [
    "## Load data"
   ]
  },
  {
   "cell_type": "code",
   "execution_count": 6,
   "id": "7f7be362",
   "metadata": {
    "execution": {
     "iopub.execute_input": "2021-10-28T01:34:23.553616Z",
     "iopub.status.busy": "2021-10-28T01:34:23.552826Z",
     "iopub.status.idle": "2021-10-28T01:34:23.700707Z",
     "shell.execute_reply": "2021-10-28T01:34:23.700106Z"
    },
    "papermill": {
     "duration": 0.175903,
     "end_time": "2021-10-28T01:34:23.700887",
     "exception": false,
     "start_time": "2021-10-28T01:34:23.524984",
     "status": "completed"
    },
    "tags": [
     "remove_cell"
    ]
   },
   "outputs": [],
   "source": [
    "from pathlib import Path\n",
    "path_data = Path(\"./\")\n",
    "comments = pd.read_csv(path_data.joinpath('../data/comments.csv'), index_col=0)\n",
    "issues = pd.read_csv(path_data.joinpath('../data/issues.csv'), index_col=0)\n",
    "prs = pd.read_csv(path_data.joinpath('../data/prs.csv'), index_col=0)\n",
    "\n",
    "comments = comments.query('author == @person').drop_duplicates()\n",
    "issues = issues.query('author == @person').drop_duplicates()\n",
    "closed_by = prs.query('mergedBy == @person')\n",
    "prs = prs.query('author == @person').drop_duplicates()"
   ]
  },
  {
   "cell_type": "code",
   "execution_count": 7,
   "id": "621a9ac1",
   "metadata": {
    "execution": {
     "iopub.execute_input": "2021-10-28T01:34:23.773567Z",
     "iopub.status.busy": "2021-10-28T01:34:23.768785Z",
     "iopub.status.idle": "2021-10-28T01:34:23.811653Z",
     "shell.execute_reply": "2021-10-28T01:34:23.810470Z"
    },
    "papermill": {
     "duration": 0.090998,
     "end_time": "2021-10-28T01:34:23.811905",
     "exception": false,
     "start_time": "2021-10-28T01:34:23.720907",
     "status": "completed"
    },
    "tags": [
     "remove_cell"
    ]
   },
   "outputs": [],
   "source": [
    "# Time columns\n",
    "# Also drop dates outside of our range\n",
    "time_columns = ['updatedAt', 'createdAt', 'closedAt']\n",
    "for col in time_columns:\n",
    "    for item in [comments, issues, prs, closed_by]:\n",
    "        if col not in item.columns:\n",
    "            continue\n",
    "        dt = pd.to_datetime(item[col]).dt.tz_localize(None)\n",
    "        item[col] = dt\n",
    "        item.query(\"updatedAt < @end_date and updatedAt > @start_date\", inplace=True)"
   ]
  },
  {
   "cell_type": "markdown",
   "id": "ed0aaabe",
   "metadata": {
    "papermill": {
     "duration": 0.018507,
     "end_time": "2021-10-28T01:34:23.852536",
     "exception": false,
     "start_time": "2021-10-28T01:34:23.834029",
     "status": "completed"
    },
    "tags": []
   },
   "source": [
    "## Repository summaries"
   ]
  },
  {
   "cell_type": "code",
   "execution_count": 8,
   "id": "82e59cab",
   "metadata": {
    "execution": {
     "iopub.execute_input": "2021-10-28T01:34:23.908524Z",
     "iopub.status.busy": "2021-10-28T01:34:23.904103Z",
     "iopub.status.idle": "2021-10-28T01:34:23.919161Z",
     "shell.execute_reply": "2021-10-28T01:34:23.919884Z"
    },
    "papermill": {
     "duration": 0.04882,
     "end_time": "2021-10-28T01:34:23.920112",
     "exception": false,
     "start_time": "2021-10-28T01:34:23.871292",
     "status": "completed"
    },
    "tags": [
     "remove_cell"
    ]
   },
   "outputs": [],
   "source": [
    "summaries = []\n",
    "for idata, name in [(issues, 'issues'), (prs, 'prs'), (comments, 'comments')]:\n",
    "    idata = idata.groupby([\"repo\", \"org\"]).agg({'id': \"count\"}).reset_index().rename(columns={'id': 'count'})\n",
    "    idata[\"kind\"] = name\n",
    "    summaries.append(idata)\n",
    "summaries = pd.concat(summaries)"
   ]
  },
  {
   "cell_type": "code",
   "execution_count": 9,
   "id": "e8f1669f",
   "metadata": {
    "execution": {
     "iopub.execute_input": "2021-10-28T01:34:23.979143Z",
     "iopub.status.busy": "2021-10-28T01:34:23.975238Z",
     "iopub.status.idle": "2021-10-28T01:34:23.981456Z",
     "shell.execute_reply": "2021-10-28T01:34:23.982249Z"
    },
    "papermill": {
     "duration": 0.040819,
     "end_time": "2021-10-28T01:34:23.982455",
     "exception": false,
     "start_time": "2021-10-28T01:34:23.941636",
     "status": "completed"
    },
    "tags": [
     "remove_cell"
    ]
   },
   "outputs": [],
   "source": [
    "repo_summaries = summaries.groupby([\"repo\", \"kind\"]).agg({\"count\": \"sum\"}).reset_index()\n",
    "org_summaries = summaries.groupby([\"org\", \"kind\"]).agg({\"count\": \"sum\"}).reset_index()"
   ]
  },
  {
   "cell_type": "code",
   "execution_count": 10,
   "id": "1c554b08",
   "metadata": {
    "execution": {
     "iopub.execute_input": "2021-10-28T01:34:24.025595Z",
     "iopub.status.busy": "2021-10-28T01:34:24.024853Z",
     "iopub.status.idle": "2021-10-28T01:34:24.030659Z",
     "shell.execute_reply": "2021-10-28T01:34:24.031382Z"
    },
    "papermill": {
     "duration": 0.030274,
     "end_time": "2021-10-28T01:34:24.031615",
     "exception": false,
     "start_time": "2021-10-28T01:34:24.001341",
     "status": "completed"
    },
    "tags": [
     "remove_cell"
    ]
   },
   "outputs": [],
   "source": [
    "repo_summaries['logcount'] = np.log(repo_summaries[\"count\"])"
   ]
  },
  {
   "cell_type": "code",
   "execution_count": 11,
   "id": "3b77b928",
   "metadata": {
    "execution": {
     "iopub.execute_input": "2021-10-28T01:34:24.093719Z",
     "iopub.status.busy": "2021-10-28T01:34:24.088558Z",
     "iopub.status.idle": "2021-10-28T01:34:24.147683Z",
     "shell.execute_reply": "2021-10-28T01:34:24.148276Z"
    },
    "papermill": {
     "duration": 0.096546,
     "end_time": "2021-10-28T01:34:24.148490",
     "exception": false,
     "start_time": "2021-10-28T01:34:24.051944",
     "status": "completed"
    },
    "tags": [
     "hide_input"
    ]
   },
   "outputs": [
    {
     "data": {
      "text/html": [
       "\n",
       "<div id=\"altair-viz-99014f75a8544a51aabe2a35617d6b03\"></div>\n",
       "<script type=\"text/javascript\">\n",
       "  (function(spec, embedOpt){\n",
       "    let outputDiv = document.currentScript.previousElementSibling;\n",
       "    if (outputDiv.id !== \"altair-viz-99014f75a8544a51aabe2a35617d6b03\") {\n",
       "      outputDiv = document.getElementById(\"altair-viz-99014f75a8544a51aabe2a35617d6b03\");\n",
       "    }\n",
       "    const paths = {\n",
       "      \"vega\": \"https://cdn.jsdelivr.net/npm//vega@5?noext\",\n",
       "      \"vega-lib\": \"https://cdn.jsdelivr.net/npm//vega-lib?noext\",\n",
       "      \"vega-lite\": \"https://cdn.jsdelivr.net/npm//vega-lite@4.8.1?noext\",\n",
       "      \"vega-embed\": \"https://cdn.jsdelivr.net/npm//vega-embed@6?noext\",\n",
       "    };\n",
       "\n",
       "    function loadScript(lib) {\n",
       "      return new Promise(function(resolve, reject) {\n",
       "        var s = document.createElement('script');\n",
       "        s.src = paths[lib];\n",
       "        s.async = true;\n",
       "        s.onload = () => resolve(paths[lib]);\n",
       "        s.onerror = () => reject(`Error loading script: ${paths[lib]}`);\n",
       "        document.getElementsByTagName(\"head\")[0].appendChild(s);\n",
       "      });\n",
       "    }\n",
       "\n",
       "    function showError(err) {\n",
       "      outputDiv.innerHTML = `<div class=\"error\" style=\"color:red;\">${err}</div>`;\n",
       "      throw err;\n",
       "    }\n",
       "\n",
       "    function displayChart(vegaEmbed) {\n",
       "      vegaEmbed(outputDiv, spec, embedOpt)\n",
       "        .catch(err => showError(`Javascript Error: ${err.message}<br>This usually means there's a typo in your chart specification. See the javascript console for the full traceback.`));\n",
       "    }\n",
       "\n",
       "    if(typeof define === \"function\" && define.amd) {\n",
       "      requirejs.config({paths});\n",
       "      require([\"vega-embed\"], displayChart, err => showError(`Error loading script: ${err.message}`));\n",
       "    } else if (typeof vegaEmbed === \"function\") {\n",
       "      displayChart(vegaEmbed);\n",
       "    } else {\n",
       "      loadScript(\"vega\")\n",
       "        .then(() => loadScript(\"vega-lite\"))\n",
       "        .then(() => loadScript(\"vega-embed\"))\n",
       "        .catch(showError)\n",
       "        .then(() => displayChart(vegaEmbed));\n",
       "    }\n",
       "  })({\"config\": {\"axisLeft\": {\"labelFontSize\": 15}, \"axisBottom\": {\"labelFontSize\": 15}}, \"hconcat\": [{\"mark\": \"bar\", \"encoding\": {\"color\": {\"type\": \"nominal\", \"field\": \"kind\"}, \"tooltip\": {\"type\": \"nominal\", \"field\": \"kind\"}, \"x\": {\"type\": \"nominal\", \"field\": \"repo\"}, \"y\": {\"type\": \"quantitative\", \"field\": \"count\"}}, \"title\": \"Activity per repository\", \"width\": 600}, {\"mark\": \"bar\", \"encoding\": {\"color\": {\"type\": \"nominal\", \"field\": \"kind\"}, \"tooltip\": {\"type\": \"nominal\", \"field\": \"kind\"}, \"x\": {\"type\": \"nominal\", \"field\": \"repo\"}, \"y\": {\"type\": \"quantitative\", \"field\": \"logcount\"}}, \"title\": \"Log activity per repository\", \"width\": 600}], \"data\": {\"name\": \"data-c46e894307730be1d4fefbc15ddeda4c\"}, \"$schema\": \"https://vega.github.io/schema/vega-lite/v4.8.1.json\", \"datasets\": {\"data-c46e894307730be1d4fefbc15ddeda4c\": [{\"repo\": \"MyST-NB\", \"kind\": \"comments\", \"count\": 20, \"logcount\": 2.995732273553991}, {\"repo\": \"MyST-NB\", \"kind\": \"prs\", \"count\": 5, \"logcount\": 1.6094379124341003}, {\"repo\": \"jupyter-book\", \"kind\": \"comments\", \"count\": 71, \"logcount\": 4.2626798770413155}, {\"repo\": \"jupyter-book\", \"kind\": \"issues\", \"count\": 9, \"logcount\": 2.1972245773362196}, {\"repo\": \"jupyter-book\", \"kind\": \"prs\", \"count\": 8, \"logcount\": 2.0794415416798357}, {\"repo\": \"jupyter-cache\", \"kind\": \"comments\", \"count\": 1, \"logcount\": 0.0}, {\"repo\": \"meta\", \"kind\": \"comments\", \"count\": 4, \"logcount\": 1.3862943611198906}, {\"repo\": \"sloan_grant_administration\", \"kind\": \"comments\", \"count\": 2, \"logcount\": 0.6931471805599453}, {\"repo\": \"sloan_grant_administration\", \"kind\": \"prs\", \"count\": 4, \"logcount\": 1.3862943611198906}, {\"repo\": \"sphinx-book-theme\", \"kind\": \"comments\", \"count\": 14, \"logcount\": 2.6390573296152584}, {\"repo\": \"sphinx-book-theme\", \"kind\": \"issues\", \"count\": 1, \"logcount\": 0.0}, {\"repo\": \"sphinx-book-theme\", \"kind\": \"prs\", \"count\": 1, \"logcount\": 0.0}, {\"repo\": \"sphinx-exercise\", \"kind\": \"comments\", \"count\": 5, \"logcount\": 1.6094379124341003}, {\"repo\": \"sphinx-exercise\", \"kind\": \"issues\", \"count\": 2, \"logcount\": 0.6931471805599453}, {\"repo\": \"sphinx-jupyterbook-latex\", \"kind\": \"comments\", \"count\": 8, \"logcount\": 2.0794415416798357}, {\"repo\": \"sphinx-jupyterbook-latex\", \"kind\": \"issues\", \"count\": 3, \"logcount\": 1.0986122886681098}, {\"repo\": \"sphinx-jupyterbook-latex\", \"kind\": \"prs\", \"count\": 7, \"logcount\": 1.9459101490553132}]}}, {\"mode\": \"vega-lite\"});\n",
       "</script>"
      ],
      "text/plain": [
       "alt.HConcatChart(...)"
      ]
     },
     "execution_count": 11,
     "metadata": {},
     "output_type": "execute_result"
    }
   ],
   "source": [
    "ch1 = alt.Chart(repo_summaries, width=600, title=\"Activity per repository\").mark_bar().encode(\n",
    "    x='repo',\n",
    "    y='count',\n",
    "    color='kind',\n",
    "    tooltip=\"kind\"\n",
    ")\n",
    "\n",
    "ch2 = alt.Chart(repo_summaries, width=600, title=\"Log activity per repository\").mark_bar().encode(\n",
    "    x='repo',\n",
    "    y='logcount',\n",
    "    color='kind',\n",
    "    tooltip=\"kind\"\n",
    ")\n",
    "\n",
    "ch1 | ch2"
   ]
  },
  {
   "cell_type": "code",
   "execution_count": 12,
   "id": "a237091a",
   "metadata": {
    "execution": {
     "iopub.execute_input": "2021-10-28T01:34:24.207087Z",
     "iopub.status.busy": "2021-10-28T01:34:24.196733Z",
     "iopub.status.idle": "2021-10-28T01:34:24.224432Z",
     "shell.execute_reply": "2021-10-28T01:34:24.225010Z"
    },
    "papermill": {
     "duration": 0.055725,
     "end_time": "2021-10-28T01:34:24.225217",
     "exception": false,
     "start_time": "2021-10-28T01:34:24.169492",
     "status": "completed"
    },
    "tags": [
     "hide_input"
    ]
   },
   "outputs": [
    {
     "data": {
      "text/html": [
       "\n",
       "<div id=\"altair-viz-2eb0a80237e842b496569d2f215a7386\"></div>\n",
       "<script type=\"text/javascript\">\n",
       "  (function(spec, embedOpt){\n",
       "    let outputDiv = document.currentScript.previousElementSibling;\n",
       "    if (outputDiv.id !== \"altair-viz-2eb0a80237e842b496569d2f215a7386\") {\n",
       "      outputDiv = document.getElementById(\"altair-viz-2eb0a80237e842b496569d2f215a7386\");\n",
       "    }\n",
       "    const paths = {\n",
       "      \"vega\": \"https://cdn.jsdelivr.net/npm//vega@5?noext\",\n",
       "      \"vega-lib\": \"https://cdn.jsdelivr.net/npm//vega-lib?noext\",\n",
       "      \"vega-lite\": \"https://cdn.jsdelivr.net/npm//vega-lite@4.8.1?noext\",\n",
       "      \"vega-embed\": \"https://cdn.jsdelivr.net/npm//vega-embed@6?noext\",\n",
       "    };\n",
       "\n",
       "    function loadScript(lib) {\n",
       "      return new Promise(function(resolve, reject) {\n",
       "        var s = document.createElement('script');\n",
       "        s.src = paths[lib];\n",
       "        s.async = true;\n",
       "        s.onload = () => resolve(paths[lib]);\n",
       "        s.onerror = () => reject(`Error loading script: ${paths[lib]}`);\n",
       "        document.getElementsByTagName(\"head\")[0].appendChild(s);\n",
       "      });\n",
       "    }\n",
       "\n",
       "    function showError(err) {\n",
       "      outputDiv.innerHTML = `<div class=\"error\" style=\"color:red;\">${err}</div>`;\n",
       "      throw err;\n",
       "    }\n",
       "\n",
       "    function displayChart(vegaEmbed) {\n",
       "      vegaEmbed(outputDiv, spec, embedOpt)\n",
       "        .catch(err => showError(`Javascript Error: ${err.message}<br>This usually means there's a typo in your chart specification. See the javascript console for the full traceback.`));\n",
       "    }\n",
       "\n",
       "    if(typeof define === \"function\" && define.amd) {\n",
       "      requirejs.config({paths});\n",
       "      require([\"vega-embed\"], displayChart, err => showError(`Error loading script: ${err.message}`));\n",
       "    } else if (typeof vegaEmbed === \"function\") {\n",
       "      displayChart(vegaEmbed);\n",
       "    } else {\n",
       "      loadScript(\"vega\")\n",
       "        .then(() => loadScript(\"vega-lite\"))\n",
       "        .then(() => loadScript(\"vega-embed\"))\n",
       "        .catch(showError)\n",
       "        .then(() => displayChart(vegaEmbed));\n",
       "    }\n",
       "  })({\"config\": {\"axisLeft\": {\"labelFontSize\": 15}, \"axisBottom\": {\"labelFontSize\": 15}}, \"data\": {\"name\": \"data-6b3b6e7e91a353f20610915c16fa936a\"}, \"mark\": \"bar\", \"encoding\": {\"color\": {\"type\": \"nominal\", \"field\": \"kind\"}, \"tooltip\": {\"type\": \"nominal\", \"field\": \"org\"}, \"x\": {\"type\": \"nominal\", \"field\": \"org\"}, \"y\": {\"type\": \"quantitative\", \"field\": \"count\"}}, \"width\": 600, \"$schema\": \"https://vega.github.io/schema/vega-lite/v4.8.1.json\", \"datasets\": {\"data-6b3b6e7e91a353f20610915c16fa936a\": [{\"org\": \"executablebooks\", \"kind\": \"comments\", \"count\": 125}, {\"org\": \"executablebooks\", \"kind\": \"issues\", \"count\": 15}, {\"org\": \"executablebooks\", \"kind\": \"prs\", \"count\": 25}]}}, {\"mode\": \"vega-lite\"});\n",
       "</script>"
      ],
      "text/plain": [
       "alt.Chart(...)"
      ]
     },
     "execution_count": 12,
     "metadata": {},
     "output_type": "execute_result"
    }
   ],
   "source": [
    "alt.Chart(org_summaries, width=600).mark_bar().encode(\n",
    "    x='org',\n",
    "    y='count',\n",
    "    color='kind',\n",
    "    tooltip=\"org\"\n",
    ")"
   ]
  },
  {
   "cell_type": "markdown",
   "id": "76f04400",
   "metadata": {
    "papermill": {
     "duration": 0.019865,
     "end_time": "2021-10-28T01:34:24.267409",
     "exception": false,
     "start_time": "2021-10-28T01:34:24.247544",
     "status": "completed"
    },
    "tags": []
   },
   "source": [
    "## By repository over time"
   ]
  },
  {
   "cell_type": "markdown",
   "id": "fecd09e3",
   "metadata": {
    "papermill": {
     "duration": 0.020822,
     "end_time": "2021-10-28T01:34:24.315246",
     "exception": false,
     "start_time": "2021-10-28T01:34:24.294424",
     "status": "completed"
    },
    "tags": []
   },
   "source": [
    "### Comments"
   ]
  },
  {
   "cell_type": "code",
   "execution_count": 13,
   "id": "7cd9398f",
   "metadata": {
    "execution": {
     "iopub.execute_input": "2021-10-28T01:34:24.389729Z",
     "iopub.status.busy": "2021-10-28T01:34:24.364018Z",
     "iopub.status.idle": "2021-10-28T01:34:24.458154Z",
     "shell.execute_reply": "2021-10-28T01:34:24.458717Z"
    },
    "papermill": {
     "duration": 0.124235,
     "end_time": "2021-10-28T01:34:24.458932",
     "exception": false,
     "start_time": "2021-10-28T01:34:24.334697",
     "status": "completed"
    },
    "tags": [
     "hide_input"
    ]
   },
   "outputs": [
    {
     "data": {
      "text/html": [
       "\n",
       "<div id=\"altair-viz-877603c4e5ef4ff88928ca887732310f\"></div>\n",
       "<script type=\"text/javascript\">\n",
       "  (function(spec, embedOpt){\n",
       "    let outputDiv = document.currentScript.previousElementSibling;\n",
       "    if (outputDiv.id !== \"altair-viz-877603c4e5ef4ff88928ca887732310f\") {\n",
       "      outputDiv = document.getElementById(\"altair-viz-877603c4e5ef4ff88928ca887732310f\");\n",
       "    }\n",
       "    const paths = {\n",
       "      \"vega\": \"https://cdn.jsdelivr.net/npm//vega@5?noext\",\n",
       "      \"vega-lib\": \"https://cdn.jsdelivr.net/npm//vega-lib?noext\",\n",
       "      \"vega-lite\": \"https://cdn.jsdelivr.net/npm//vega-lite@4.8.1?noext\",\n",
       "      \"vega-embed\": \"https://cdn.jsdelivr.net/npm//vega-embed@6?noext\",\n",
       "    };\n",
       "\n",
       "    function loadScript(lib) {\n",
       "      return new Promise(function(resolve, reject) {\n",
       "        var s = document.createElement('script');\n",
       "        s.src = paths[lib];\n",
       "        s.async = true;\n",
       "        s.onload = () => resolve(paths[lib]);\n",
       "        s.onerror = () => reject(`Error loading script: ${paths[lib]}`);\n",
       "        document.getElementsByTagName(\"head\")[0].appendChild(s);\n",
       "      });\n",
       "    }\n",
       "\n",
       "    function showError(err) {\n",
       "      outputDiv.innerHTML = `<div class=\"error\" style=\"color:red;\">${err}</div>`;\n",
       "      throw err;\n",
       "    }\n",
       "\n",
       "    function displayChart(vegaEmbed) {\n",
       "      vegaEmbed(outputDiv, spec, embedOpt)\n",
       "        .catch(err => showError(`Javascript Error: ${err.message}<br>This usually means there's a typo in your chart specification. See the javascript console for the full traceback.`));\n",
       "    }\n",
       "\n",
       "    if(typeof define === \"function\" && define.amd) {\n",
       "      requirejs.config({paths});\n",
       "      require([\"vega-embed\"], displayChart, err => showError(`Error loading script: ${err.message}`));\n",
       "    } else if (typeof vegaEmbed === \"function\") {\n",
       "      displayChart(vegaEmbed);\n",
       "    } else {\n",
       "      loadScript(\"vega\")\n",
       "        .then(() => loadScript(\"vega-lite\"))\n",
       "        .then(() => loadScript(\"vega-embed\"))\n",
       "        .catch(showError)\n",
       "        .then(() => displayChart(vegaEmbed));\n",
       "    }\n",
       "  })({\"config\": {\"axisLeft\": {\"labelFontSize\": 15}, \"axisBottom\": {\"labelFontSize\": 15}}, \"layer\": [{\"data\": {\"name\": \"data-b4ee0328fac5b1585a1e1a580ff77725\"}, \"mark\": \"line\", \"encoding\": {\"color\": {\"type\": \"nominal\", \"field\": \"repo\"}, \"tooltip\": {\"type\": \"nominal\", \"field\": \"repo\"}, \"x\": {\"type\": \"temporal\", \"field\": \"createdAt\"}, \"y\": {\"type\": \"quantitative\", \"field\": \"count\"}}, \"width\": 600}, {\"data\": {\"name\": \"data-53022a2a2a3bf95b532f7c7a736b2c5d\"}, \"mark\": {\"type\": \"line\", \"color\": \"black\"}, \"encoding\": {\"x\": {\"type\": \"temporal\", \"field\": \"createdAt\"}, \"y\": {\"type\": \"quantitative\", \"field\": \"count\"}}, \"width\": 600}], \"$schema\": \"https://vega.github.io/schema/vega-lite/v4.8.1.json\", \"datasets\": {\"data-b4ee0328fac5b1585a1e1a580ff77725\": [{\"repo\": \"MyST-NB\", \"createdAt\": \"2021-08-29T00:00:00\", \"count\": 2}, {\"repo\": \"MyST-NB\", \"createdAt\": \"2021-09-05T00:00:00\", \"count\": 13}, {\"repo\": \"MyST-NB\", \"createdAt\": \"2021-09-12T00:00:00\", \"count\": 0}, {\"repo\": \"MyST-NB\", \"createdAt\": \"2021-09-19T00:00:00\", \"count\": 0}, {\"repo\": \"MyST-NB\", \"createdAt\": \"2021-09-26T00:00:00\", \"count\": 0}, {\"repo\": \"MyST-NB\", \"createdAt\": \"2021-10-03T00:00:00\", \"count\": 0}, {\"repo\": \"MyST-NB\", \"createdAt\": \"2021-10-10T00:00:00\", \"count\": 0}, {\"repo\": \"MyST-NB\", \"createdAt\": \"2021-10-17T00:00:00\", \"count\": 3}, {\"repo\": \"MyST-NB\", \"createdAt\": \"2021-10-24T00:00:00\", \"count\": 2}, {\"repo\": \"jupyter-book\", \"createdAt\": \"2021-09-05T00:00:00\", \"count\": 4}, {\"repo\": \"jupyter-book\", \"createdAt\": \"2021-09-12T00:00:00\", \"count\": 1}, {\"repo\": \"jupyter-book\", \"createdAt\": \"2021-09-19T00:00:00\", \"count\": 0}, {\"repo\": \"jupyter-book\", \"createdAt\": \"2021-09-26T00:00:00\", \"count\": 3}, {\"repo\": \"jupyter-book\", \"createdAt\": \"2021-10-03T00:00:00\", \"count\": 3}, {\"repo\": \"jupyter-book\", \"createdAt\": \"2021-10-10T00:00:00\", \"count\": 5}, {\"repo\": \"jupyter-book\", \"createdAt\": \"2021-10-17T00:00:00\", \"count\": 41}, {\"repo\": \"jupyter-book\", \"createdAt\": \"2021-10-24T00:00:00\", \"count\": 11}, {\"repo\": \"jupyter-book\", \"createdAt\": \"2021-10-31T00:00:00\", \"count\": 3}, {\"repo\": \"jupyter-cache\", \"createdAt\": \"2021-10-31T00:00:00\", \"count\": 1}, {\"repo\": \"meta\", \"createdAt\": \"2021-09-26T00:00:00\", \"count\": 1}, {\"repo\": \"meta\", \"createdAt\": \"2021-10-03T00:00:00\", \"count\": 1}, {\"repo\": \"meta\", \"createdAt\": \"2021-10-10T00:00:00\", \"count\": 1}, {\"repo\": \"meta\", \"createdAt\": \"2021-10-17T00:00:00\", \"count\": 0}, {\"repo\": \"meta\", \"createdAt\": \"2021-10-24T00:00:00\", \"count\": 0}, {\"repo\": \"meta\", \"createdAt\": \"2021-10-31T00:00:00\", \"count\": 1}, {\"repo\": \"sloan_grant_administration\", \"createdAt\": \"2021-10-10T00:00:00\", \"count\": 2}, {\"repo\": \"sphinx-book-theme\", \"createdAt\": \"2021-09-05T00:00:00\", \"count\": 9}, {\"repo\": \"sphinx-book-theme\", \"createdAt\": \"2021-09-12T00:00:00\", \"count\": 1}, {\"repo\": \"sphinx-book-theme\", \"createdAt\": \"2021-09-19T00:00:00\", \"count\": 1}, {\"repo\": \"sphinx-book-theme\", \"createdAt\": \"2021-09-26T00:00:00\", \"count\": 0}, {\"repo\": \"sphinx-book-theme\", \"createdAt\": \"2021-10-03T00:00:00\", \"count\": 0}, {\"repo\": \"sphinx-book-theme\", \"createdAt\": \"2021-10-10T00:00:00\", \"count\": 0}, {\"repo\": \"sphinx-book-theme\", \"createdAt\": \"2021-10-17T00:00:00\", \"count\": 0}, {\"repo\": \"sphinx-book-theme\", \"createdAt\": \"2021-10-24T00:00:00\", \"count\": 0}, {\"repo\": \"sphinx-book-theme\", \"createdAt\": \"2021-10-31T00:00:00\", \"count\": 3}, {\"repo\": \"sphinx-exercise\", \"createdAt\": \"2021-09-19T00:00:00\", \"count\": 1}, {\"repo\": \"sphinx-exercise\", \"createdAt\": \"2021-09-26T00:00:00\", \"count\": 1}, {\"repo\": \"sphinx-exercise\", \"createdAt\": \"2021-10-03T00:00:00\", \"count\": 2}, {\"repo\": \"sphinx-exercise\", \"createdAt\": \"2021-10-10T00:00:00\", \"count\": 1}, {\"repo\": \"sphinx-jupyterbook-latex\", \"createdAt\": \"2021-09-26T00:00:00\", \"count\": 4}, {\"repo\": \"sphinx-jupyterbook-latex\", \"createdAt\": \"2021-10-03T00:00:00\", \"count\": 1}, {\"repo\": \"sphinx-jupyterbook-latex\", \"createdAt\": \"2021-10-10T00:00:00\", \"count\": 2}, {\"repo\": \"sphinx-jupyterbook-latex\", \"createdAt\": \"2021-10-17T00:00:00\", \"count\": 0}, {\"repo\": \"sphinx-jupyterbook-latex\", \"createdAt\": \"2021-10-24T00:00:00\", \"count\": 1}], \"data-53022a2a2a3bf95b532f7c7a736b2c5d\": [{\"createdAt\": \"2021-08-29T00:00:00\", \"count\": 2}, {\"createdAt\": \"2021-09-05T00:00:00\", \"count\": 26}, {\"createdAt\": \"2021-09-12T00:00:00\", \"count\": 2}, {\"createdAt\": \"2021-09-19T00:00:00\", \"count\": 2}, {\"createdAt\": \"2021-09-26T00:00:00\", \"count\": 9}, {\"createdAt\": \"2021-10-03T00:00:00\", \"count\": 7}, {\"createdAt\": \"2021-10-10T00:00:00\", \"count\": 11}, {\"createdAt\": \"2021-10-17T00:00:00\", \"count\": 44}, {\"createdAt\": \"2021-10-24T00:00:00\", \"count\": 14}, {\"createdAt\": \"2021-10-31T00:00:00\", \"count\": 8}]}}, {\"mode\": \"vega-lite\"});\n",
       "</script>"
      ],
      "text/plain": [
       "alt.LayerChart(...)"
      ]
     },
     "execution_count": 13,
     "metadata": {},
     "output_type": "execute_result"
    }
   ],
   "source": [
    "comments_time = comments.groupby('repo').resample('W', on='createdAt').count()['author'].reset_index()\n",
    "comments_time = comments_time.rename(columns={'author': 'count'})\n",
    "comments_time_total = comments_time.groupby('createdAt').agg({\"count\": \"sum\"}).reset_index()\n",
    "ch1 = alt.Chart(comments_time, width=600).mark_line().encode(\n",
    "    x='createdAt',\n",
    "    y='count',\n",
    "    color='repo',\n",
    "    tooltip=\"repo\"\n",
    ")\n",
    "\n",
    "ch2 = alt.Chart(comments_time_total, width=600).mark_line(color=\"black\").encode(\n",
    "    x='createdAt',\n",
    "    y='count',\n",
    ")\n",
    "\n",
    "ch1 + ch2"
   ]
  },
  {
   "cell_type": "markdown",
   "id": "8a6ebdf8",
   "metadata": {
    "papermill": {
     "duration": 0.02119,
     "end_time": "2021-10-28T01:34:24.503917",
     "exception": false,
     "start_time": "2021-10-28T01:34:24.482727",
     "status": "completed"
    },
    "tags": []
   },
   "source": [
    "### PRs"
   ]
  },
  {
   "cell_type": "code",
   "execution_count": 14,
   "id": "fee0671e",
   "metadata": {
    "execution": {
     "iopub.execute_input": "2021-10-28T01:34:24.580999Z",
     "iopub.status.busy": "2021-10-28T01:34:24.577498Z",
     "iopub.status.idle": "2021-10-28T01:34:24.648605Z",
     "shell.execute_reply": "2021-10-28T01:34:24.648062Z"
    },
    "papermill": {
     "duration": 0.123812,
     "end_time": "2021-10-28T01:34:24.649123",
     "exception": false,
     "start_time": "2021-10-28T01:34:24.525311",
     "status": "completed"
    },
    "tags": [
     "hide_input"
    ]
   },
   "outputs": [
    {
     "data": {
      "text/html": [
       "\n",
       "<div id=\"altair-viz-59c6b5eed0744964b709968fa4e09836\"></div>\n",
       "<script type=\"text/javascript\">\n",
       "  (function(spec, embedOpt){\n",
       "    let outputDiv = document.currentScript.previousElementSibling;\n",
       "    if (outputDiv.id !== \"altair-viz-59c6b5eed0744964b709968fa4e09836\") {\n",
       "      outputDiv = document.getElementById(\"altair-viz-59c6b5eed0744964b709968fa4e09836\");\n",
       "    }\n",
       "    const paths = {\n",
       "      \"vega\": \"https://cdn.jsdelivr.net/npm//vega@5?noext\",\n",
       "      \"vega-lib\": \"https://cdn.jsdelivr.net/npm//vega-lib?noext\",\n",
       "      \"vega-lite\": \"https://cdn.jsdelivr.net/npm//vega-lite@4.8.1?noext\",\n",
       "      \"vega-embed\": \"https://cdn.jsdelivr.net/npm//vega-embed@6?noext\",\n",
       "    };\n",
       "\n",
       "    function loadScript(lib) {\n",
       "      return new Promise(function(resolve, reject) {\n",
       "        var s = document.createElement('script');\n",
       "        s.src = paths[lib];\n",
       "        s.async = true;\n",
       "        s.onload = () => resolve(paths[lib]);\n",
       "        s.onerror = () => reject(`Error loading script: ${paths[lib]}`);\n",
       "        document.getElementsByTagName(\"head\")[0].appendChild(s);\n",
       "      });\n",
       "    }\n",
       "\n",
       "    function showError(err) {\n",
       "      outputDiv.innerHTML = `<div class=\"error\" style=\"color:red;\">${err}</div>`;\n",
       "      throw err;\n",
       "    }\n",
       "\n",
       "    function displayChart(vegaEmbed) {\n",
       "      vegaEmbed(outputDiv, spec, embedOpt)\n",
       "        .catch(err => showError(`Javascript Error: ${err.message}<br>This usually means there's a typo in your chart specification. See the javascript console for the full traceback.`));\n",
       "    }\n",
       "\n",
       "    if(typeof define === \"function\" && define.amd) {\n",
       "      requirejs.config({paths});\n",
       "      require([\"vega-embed\"], displayChart, err => showError(`Error loading script: ${err.message}`));\n",
       "    } else if (typeof vegaEmbed === \"function\") {\n",
       "      displayChart(vegaEmbed);\n",
       "    } else {\n",
       "      loadScript(\"vega\")\n",
       "        .then(() => loadScript(\"vega-lite\"))\n",
       "        .then(() => loadScript(\"vega-embed\"))\n",
       "        .catch(showError)\n",
       "        .then(() => displayChart(vegaEmbed));\n",
       "    }\n",
       "  })({\"config\": {\"axisLeft\": {\"labelFontSize\": 15}, \"axisBottom\": {\"labelFontSize\": 15}}, \"layer\": [{\"data\": {\"name\": \"data-ac13a7db2db82fc6926024fb138b19dc\"}, \"mark\": \"line\", \"encoding\": {\"color\": {\"type\": \"nominal\", \"field\": \"repo\"}, \"tooltip\": {\"type\": \"nominal\", \"field\": \"repo\"}, \"x\": {\"type\": \"temporal\", \"field\": \"createdAt\"}, \"y\": {\"type\": \"quantitative\", \"field\": \"count\"}}, \"width\": 600}, {\"data\": {\"name\": \"data-e12575b7161bb7c8779017a93d54994d\"}, \"mark\": {\"type\": \"line\", \"color\": \"black\"}, \"encoding\": {\"x\": {\"type\": \"temporal\", \"field\": \"createdAt\"}, \"y\": {\"type\": \"quantitative\", \"field\": \"count\"}}, \"width\": 600}], \"$schema\": \"https://vega.github.io/schema/vega-lite/v4.8.1.json\", \"datasets\": {\"data-ac13a7db2db82fc6926024fb138b19dc\": [{\"repo\": \"MyST-NB\", \"createdAt\": \"2021-08-29T00:00:00\", \"count\": 2}, {\"repo\": \"MyST-NB\", \"createdAt\": \"2021-09-05T00:00:00\", \"count\": 2}, {\"repo\": \"MyST-NB\", \"createdAt\": \"2021-09-12T00:00:00\", \"count\": 0}, {\"repo\": \"MyST-NB\", \"createdAt\": \"2021-09-19T00:00:00\", \"count\": 0}, {\"repo\": \"MyST-NB\", \"createdAt\": \"2021-09-26T00:00:00\", \"count\": 0}, {\"repo\": \"MyST-NB\", \"createdAt\": \"2021-10-03T00:00:00\", \"count\": 0}, {\"repo\": \"MyST-NB\", \"createdAt\": \"2021-10-10T00:00:00\", \"count\": 0}, {\"repo\": \"MyST-NB\", \"createdAt\": \"2021-10-17T00:00:00\", \"count\": 0}, {\"repo\": \"MyST-NB\", \"createdAt\": \"2021-10-24T00:00:00\", \"count\": 0}, {\"repo\": \"MyST-NB\", \"createdAt\": \"2021-10-31T00:00:00\", \"count\": 1}, {\"repo\": \"jupyter-book\", \"createdAt\": \"2021-08-29T00:00:00\", \"count\": 1}, {\"repo\": \"jupyter-book\", \"createdAt\": \"2021-09-05T00:00:00\", \"count\": 1}, {\"repo\": \"jupyter-book\", \"createdAt\": \"2021-09-12T00:00:00\", \"count\": 0}, {\"repo\": \"jupyter-book\", \"createdAt\": \"2021-09-19T00:00:00\", \"count\": 0}, {\"repo\": \"jupyter-book\", \"createdAt\": \"2021-09-26T00:00:00\", \"count\": 1}, {\"repo\": \"jupyter-book\", \"createdAt\": \"2021-10-03T00:00:00\", \"count\": 0}, {\"repo\": \"jupyter-book\", \"createdAt\": \"2021-10-10T00:00:00\", \"count\": 0}, {\"repo\": \"jupyter-book\", \"createdAt\": \"2021-10-17T00:00:00\", \"count\": 3}, {\"repo\": \"jupyter-book\", \"createdAt\": \"2021-10-24T00:00:00\", \"count\": 2}, {\"repo\": \"sloan_grant_administration\", \"createdAt\": \"2021-09-26T00:00:00\", \"count\": 1}, {\"repo\": \"sloan_grant_administration\", \"createdAt\": \"2021-10-03T00:00:00\", \"count\": 1}, {\"repo\": \"sloan_grant_administration\", \"createdAt\": \"2021-10-10T00:00:00\", \"count\": 1}, {\"repo\": \"sloan_grant_administration\", \"createdAt\": \"2021-10-17T00:00:00\", \"count\": 1}, {\"repo\": \"sphinx-book-theme\", \"createdAt\": \"2021-09-19T00:00:00\", \"count\": 1}, {\"repo\": \"sphinx-jupyterbook-latex\", \"createdAt\": \"2021-09-12T00:00:00\", \"count\": 1}, {\"repo\": \"sphinx-jupyterbook-latex\", \"createdAt\": \"2021-09-19T00:00:00\", \"count\": 0}, {\"repo\": \"sphinx-jupyterbook-latex\", \"createdAt\": \"2021-09-26T00:00:00\", \"count\": 0}, {\"repo\": \"sphinx-jupyterbook-latex\", \"createdAt\": \"2021-10-03T00:00:00\", \"count\": 1}, {\"repo\": \"sphinx-jupyterbook-latex\", \"createdAt\": \"2021-10-10T00:00:00\", \"count\": 1}, {\"repo\": \"sphinx-jupyterbook-latex\", \"createdAt\": \"2021-10-17T00:00:00\", \"count\": 4}], \"data-e12575b7161bb7c8779017a93d54994d\": [{\"createdAt\": \"2021-08-29T00:00:00\", \"count\": 3}, {\"createdAt\": \"2021-09-05T00:00:00\", \"count\": 3}, {\"createdAt\": \"2021-09-12T00:00:00\", \"count\": 1}, {\"createdAt\": \"2021-09-19T00:00:00\", \"count\": 1}, {\"createdAt\": \"2021-09-26T00:00:00\", \"count\": 2}, {\"createdAt\": \"2021-10-03T00:00:00\", \"count\": 2}, {\"createdAt\": \"2021-10-10T00:00:00\", \"count\": 2}, {\"createdAt\": \"2021-10-17T00:00:00\", \"count\": 8}, {\"createdAt\": \"2021-10-24T00:00:00\", \"count\": 2}, {\"createdAt\": \"2021-10-31T00:00:00\", \"count\": 1}]}}, {\"mode\": \"vega-lite\"});\n",
       "</script>"
      ],
      "text/plain": [
       "alt.LayerChart(...)"
      ]
     },
     "execution_count": 14,
     "metadata": {},
     "output_type": "execute_result"
    }
   ],
   "source": [
    "prs_time = prs.groupby('repo').resample('W', on='createdAt').count()['author'].reset_index()\n",
    "prs_time = prs_time.rename(columns={'author': 'count'})\n",
    "prs_time_total = prs_time.groupby('createdAt').agg({\"count\": \"sum\"}).reset_index()\n",
    "\n",
    "ch1 = alt.Chart(prs_time, width=600).mark_line().encode(\n",
    "    x='createdAt',\n",
    "    y='count',\n",
    "    color='repo',\n",
    "    tooltip=\"repo\"\n",
    ")\n",
    "\n",
    "ch2 = alt.Chart(prs_time_total, width=600).mark_line(color=\"black\").encode(\n",
    "    x='createdAt',\n",
    "    y='count',\n",
    ")\n",
    "\n",
    "ch1 + ch2"
   ]
  },
  {
   "cell_type": "code",
   "execution_count": 15,
   "id": "62494931",
   "metadata": {
    "execution": {
     "iopub.execute_input": "2021-10-28T01:34:24.712672Z",
     "iopub.status.busy": "2021-10-28T01:34:24.705192Z",
     "iopub.status.idle": "2021-10-28T01:34:24.770536Z",
     "shell.execute_reply": "2021-10-28T01:34:24.771082Z"
    },
    "papermill": {
     "duration": 0.101195,
     "end_time": "2021-10-28T01:34:24.771380",
     "exception": false,
     "start_time": "2021-10-28T01:34:24.670185",
     "status": "completed"
    },
    "tags": [
     "hide_input"
    ]
   },
   "outputs": [
    {
     "data": {
      "text/html": [
       "\n",
       "<div id=\"altair-viz-fd49637def694f8791c477275093af11\"></div>\n",
       "<script type=\"text/javascript\">\n",
       "  (function(spec, embedOpt){\n",
       "    let outputDiv = document.currentScript.previousElementSibling;\n",
       "    if (outputDiv.id !== \"altair-viz-fd49637def694f8791c477275093af11\") {\n",
       "      outputDiv = document.getElementById(\"altair-viz-fd49637def694f8791c477275093af11\");\n",
       "    }\n",
       "    const paths = {\n",
       "      \"vega\": \"https://cdn.jsdelivr.net/npm//vega@5?noext\",\n",
       "      \"vega-lib\": \"https://cdn.jsdelivr.net/npm//vega-lib?noext\",\n",
       "      \"vega-lite\": \"https://cdn.jsdelivr.net/npm//vega-lite@4.8.1?noext\",\n",
       "      \"vega-embed\": \"https://cdn.jsdelivr.net/npm//vega-embed@6?noext\",\n",
       "    };\n",
       "\n",
       "    function loadScript(lib) {\n",
       "      return new Promise(function(resolve, reject) {\n",
       "        var s = document.createElement('script');\n",
       "        s.src = paths[lib];\n",
       "        s.async = true;\n",
       "        s.onload = () => resolve(paths[lib]);\n",
       "        s.onerror = () => reject(`Error loading script: ${paths[lib]}`);\n",
       "        document.getElementsByTagName(\"head\")[0].appendChild(s);\n",
       "      });\n",
       "    }\n",
       "\n",
       "    function showError(err) {\n",
       "      outputDiv.innerHTML = `<div class=\"error\" style=\"color:red;\">${err}</div>`;\n",
       "      throw err;\n",
       "    }\n",
       "\n",
       "    function displayChart(vegaEmbed) {\n",
       "      vegaEmbed(outputDiv, spec, embedOpt)\n",
       "        .catch(err => showError(`Javascript Error: ${err.message}<br>This usually means there's a typo in your chart specification. See the javascript console for the full traceback.`));\n",
       "    }\n",
       "\n",
       "    if(typeof define === \"function\" && define.amd) {\n",
       "      requirejs.config({paths});\n",
       "      require([\"vega-embed\"], displayChart, err => showError(`Error loading script: ${err.message}`));\n",
       "    } else if (typeof vegaEmbed === \"function\") {\n",
       "      displayChart(vegaEmbed);\n",
       "    } else {\n",
       "      loadScript(\"vega\")\n",
       "        .then(() => loadScript(\"vega-lite\"))\n",
       "        .then(() => loadScript(\"vega-embed\"))\n",
       "        .catch(showError)\n",
       "        .then(() => displayChart(vegaEmbed));\n",
       "    }\n",
       "  })({\"config\": {\"axisLeft\": {\"labelFontSize\": 15}, \"axisBottom\": {\"labelFontSize\": 15}}, \"data\": {\"name\": \"data-f20c988b9b68788fd6984e6870ff7116\"}, \"mark\": \"line\", \"encoding\": {\"color\": {\"type\": \"nominal\", \"field\": \"repo\"}, \"tooltip\": {\"type\": \"nominal\", \"field\": \"repo\"}, \"x\": {\"type\": \"temporal\", \"field\": \"closedAt\"}, \"y\": {\"type\": \"quantitative\", \"field\": \"count\"}}, \"width\": 600, \"$schema\": \"https://vega.github.io/schema/vega-lite/v4.8.1.json\", \"datasets\": {\"data-f20c988b9b68788fd6984e6870ff7116\": [{\"repo\": \"MyST-NB\", \"closedAt\": \"2021-08-29T00:00:00\", \"count\": 1}, {\"repo\": \"MyST-NB\", \"closedAt\": \"2021-09-05T00:00:00\", \"count\": 2}, {\"repo\": \"MyST-NB\", \"closedAt\": \"2021-09-12T00:00:00\", \"count\": 0}, {\"repo\": \"MyST-NB\", \"closedAt\": \"2021-09-19T00:00:00\", \"count\": 0}, {\"repo\": \"MyST-NB\", \"closedAt\": \"2021-09-26T00:00:00\", \"count\": 0}, {\"repo\": \"MyST-NB\", \"closedAt\": \"2021-10-03T00:00:00\", \"count\": 0}, {\"repo\": \"MyST-NB\", \"closedAt\": \"2021-10-10T00:00:00\", \"count\": 0}, {\"repo\": \"MyST-NB\", \"closedAt\": \"2021-10-17T00:00:00\", \"count\": 1}, {\"repo\": \"jupyter-book\", \"closedAt\": \"2021-08-29T00:00:00\", \"count\": 1}, {\"repo\": \"jupyter-book\", \"closedAt\": \"2021-09-05T00:00:00\", \"count\": 0}, {\"repo\": \"jupyter-book\", \"closedAt\": \"2021-09-12T00:00:00\", \"count\": 0}, {\"repo\": \"jupyter-book\", \"closedAt\": \"2021-09-19T00:00:00\", \"count\": 0}, {\"repo\": \"jupyter-book\", \"closedAt\": \"2021-09-26T00:00:00\", \"count\": 0}, {\"repo\": \"jupyter-book\", \"closedAt\": \"2021-10-03T00:00:00\", \"count\": 0}, {\"repo\": \"jupyter-book\", \"closedAt\": \"2021-10-10T00:00:00\", \"count\": 0}, {\"repo\": \"jupyter-book\", \"closedAt\": \"2021-10-17T00:00:00\", \"count\": 4}, {\"repo\": \"jupyter-book\", \"closedAt\": \"2021-10-24T00:00:00\", \"count\": 3}, {\"repo\": \"jupyter-book\", \"closedAt\": \"2021-10-31T00:00:00\", \"count\": 1}, {\"repo\": \"sloan_grant_administration\", \"closedAt\": \"2021-09-26T00:00:00\", \"count\": 1}, {\"repo\": \"sloan_grant_administration\", \"closedAt\": \"2021-10-03T00:00:00\", \"count\": 0}, {\"repo\": \"sloan_grant_administration\", \"closedAt\": \"2021-10-10T00:00:00\", \"count\": 0}, {\"repo\": \"sloan_grant_administration\", \"closedAt\": \"2021-10-17T00:00:00\", \"count\": 1}, {\"repo\": \"sphinx-book-theme\", \"closedAt\": \"2021-09-26T00:00:00\", \"count\": 1}, {\"repo\": \"sphinx-jupyterbook-latex\", \"closedAt\": \"2021-10-03T00:00:00\", \"count\": 2}, {\"repo\": \"sphinx-jupyterbook-latex\", \"closedAt\": \"2021-10-10T00:00:00\", \"count\": 2}, {\"repo\": \"sphinx-jupyterbook-latex\", \"closedAt\": \"2021-10-17T00:00:00\", \"count\": 3}, {\"repo\": \"sphinx-jupyterbook-latex\", \"closedAt\": \"2021-10-24T00:00:00\", \"count\": 1}]}}, {\"mode\": \"vega-lite\"});\n",
       "</script>"
      ],
      "text/plain": [
       "alt.Chart(...)"
      ]
     },
     "execution_count": 15,
     "metadata": {},
     "output_type": "execute_result"
    }
   ],
   "source": [
    "closed_by_time = closed_by.groupby('repo').resample('W', on='closedAt').count()['author'].reset_index()\n",
    "closed_by_time = closed_by_time.rename(columns={'author': 'count'})\n",
    "\n",
    "alt.Chart(closed_by_time, width=600).mark_line().encode(\n",
    "    x='closedAt',\n",
    "    y='count',\n",
    "    color='repo',\n",
    "    tooltip=\"repo\"\n",
    ")"
   ]
  },
  {
   "cell_type": "markdown",
   "id": "3d2071af",
   "metadata": {
    "papermill": {
     "duration": 0.022304,
     "end_time": "2021-10-28T01:34:24.816002",
     "exception": false,
     "start_time": "2021-10-28T01:34:24.793698",
     "status": "completed"
    },
    "tags": []
   },
   "source": [
    "## By type over time"
   ]
  },
  {
   "cell_type": "code",
   "execution_count": 16,
   "id": "96d1849f",
   "metadata": {
    "execution": {
     "iopub.execute_input": "2021-10-28T01:34:24.887562Z",
     "iopub.status.busy": "2021-10-28T01:34:24.884135Z",
     "iopub.status.idle": "2021-10-28T01:34:24.903141Z",
     "shell.execute_reply": "2021-10-28T01:34:24.902514Z"
    },
    "papermill": {
     "duration": 0.062397,
     "end_time": "2021-10-28T01:34:24.903351",
     "exception": false,
     "start_time": "2021-10-28T01:34:24.840954",
     "status": "completed"
    },
    "tags": [
     "remove_cell"
    ]
   },
   "outputs": [],
   "source": [
    "prs_time = prs[['author', 'createdAt']].resample('W', on='createdAt').count()['author'].reset_index()\n",
    "prs_time = prs_time.rename(columns={'author': 'prs'})\n",
    "comments_time = comments[['author', 'createdAt']].resample('W', on='createdAt').count()['author'].reset_index()\n",
    "comments_time = comments_time.rename(columns={'author': 'comments'})\n",
    "\n",
    "total_time = pd.merge(prs_time, comments_time, on='createdAt', how='outer')\n",
    "total_time = total_time.melt(id_vars='createdAt', var_name=\"kind\", value_name=\"count\")\n"
   ]
  },
  {
   "cell_type": "code",
   "execution_count": 17,
   "id": "dd81e7e4",
   "metadata": {
    "execution": {
     "iopub.execute_input": "2021-10-28T01:34:24.971731Z",
     "iopub.status.busy": "2021-10-28T01:34:24.964550Z",
     "iopub.status.idle": "2021-10-28T01:34:24.985517Z",
     "shell.execute_reply": "2021-10-28T01:34:24.984948Z"
    },
    "papermill": {
     "duration": 0.058706,
     "end_time": "2021-10-28T01:34:24.985695",
     "exception": false,
     "start_time": "2021-10-28T01:34:24.926989",
     "status": "completed"
    },
    "tags": [
     "hide_input"
    ]
   },
   "outputs": [
    {
     "data": {
      "text/html": [
       "\n",
       "<div id=\"altair-viz-ebc5d67763c748f0920aba70590300de\"></div>\n",
       "<script type=\"text/javascript\">\n",
       "  (function(spec, embedOpt){\n",
       "    let outputDiv = document.currentScript.previousElementSibling;\n",
       "    if (outputDiv.id !== \"altair-viz-ebc5d67763c748f0920aba70590300de\") {\n",
       "      outputDiv = document.getElementById(\"altair-viz-ebc5d67763c748f0920aba70590300de\");\n",
       "    }\n",
       "    const paths = {\n",
       "      \"vega\": \"https://cdn.jsdelivr.net/npm//vega@5?noext\",\n",
       "      \"vega-lib\": \"https://cdn.jsdelivr.net/npm//vega-lib?noext\",\n",
       "      \"vega-lite\": \"https://cdn.jsdelivr.net/npm//vega-lite@4.8.1?noext\",\n",
       "      \"vega-embed\": \"https://cdn.jsdelivr.net/npm//vega-embed@6?noext\",\n",
       "    };\n",
       "\n",
       "    function loadScript(lib) {\n",
       "      return new Promise(function(resolve, reject) {\n",
       "        var s = document.createElement('script');\n",
       "        s.src = paths[lib];\n",
       "        s.async = true;\n",
       "        s.onload = () => resolve(paths[lib]);\n",
       "        s.onerror = () => reject(`Error loading script: ${paths[lib]}`);\n",
       "        document.getElementsByTagName(\"head\")[0].appendChild(s);\n",
       "      });\n",
       "    }\n",
       "\n",
       "    function showError(err) {\n",
       "      outputDiv.innerHTML = `<div class=\"error\" style=\"color:red;\">${err}</div>`;\n",
       "      throw err;\n",
       "    }\n",
       "\n",
       "    function displayChart(vegaEmbed) {\n",
       "      vegaEmbed(outputDiv, spec, embedOpt)\n",
       "        .catch(err => showError(`Javascript Error: ${err.message}<br>This usually means there's a typo in your chart specification. See the javascript console for the full traceback.`));\n",
       "    }\n",
       "\n",
       "    if(typeof define === \"function\" && define.amd) {\n",
       "      requirejs.config({paths});\n",
       "      require([\"vega-embed\"], displayChart, err => showError(`Error loading script: ${err.message}`));\n",
       "    } else if (typeof vegaEmbed === \"function\") {\n",
       "      displayChart(vegaEmbed);\n",
       "    } else {\n",
       "      loadScript(\"vega\")\n",
       "        .then(() => loadScript(\"vega-lite\"))\n",
       "        .then(() => loadScript(\"vega-embed\"))\n",
       "        .catch(showError)\n",
       "        .then(() => displayChart(vegaEmbed));\n",
       "    }\n",
       "  })({\"config\": {\"axisLeft\": {\"labelFontSize\": 15}, \"axisBottom\": {\"labelFontSize\": 15}}, \"data\": {\"name\": \"data-18b39a7204469ec9cf4d24eb38d7e7a8\"}, \"mark\": \"line\", \"encoding\": {\"color\": {\"type\": \"nominal\", \"field\": \"kind\"}, \"x\": {\"type\": \"temporal\", \"field\": \"createdAt\"}, \"y\": {\"type\": \"quantitative\", \"field\": \"count\"}}, \"width\": 600, \"$schema\": \"https://vega.github.io/schema/vega-lite/v4.8.1.json\", \"datasets\": {\"data-18b39a7204469ec9cf4d24eb38d7e7a8\": [{\"createdAt\": \"2021-08-29T00:00:00\", \"kind\": \"prs\", \"count\": 3}, {\"createdAt\": \"2021-09-05T00:00:00\", \"kind\": \"prs\", \"count\": 3}, {\"createdAt\": \"2021-09-12T00:00:00\", \"kind\": \"prs\", \"count\": 1}, {\"createdAt\": \"2021-09-19T00:00:00\", \"kind\": \"prs\", \"count\": 1}, {\"createdAt\": \"2021-09-26T00:00:00\", \"kind\": \"prs\", \"count\": 2}, {\"createdAt\": \"2021-10-03T00:00:00\", \"kind\": \"prs\", \"count\": 2}, {\"createdAt\": \"2021-10-10T00:00:00\", \"kind\": \"prs\", \"count\": 2}, {\"createdAt\": \"2021-10-17T00:00:00\", \"kind\": \"prs\", \"count\": 8}, {\"createdAt\": \"2021-10-24T00:00:00\", \"kind\": \"prs\", \"count\": 2}, {\"createdAt\": \"2021-10-31T00:00:00\", \"kind\": \"prs\", \"count\": 1}, {\"createdAt\": \"2021-08-29T00:00:00\", \"kind\": \"comments\", \"count\": 2}, {\"createdAt\": \"2021-09-05T00:00:00\", \"kind\": \"comments\", \"count\": 26}, {\"createdAt\": \"2021-09-12T00:00:00\", \"kind\": \"comments\", \"count\": 2}, {\"createdAt\": \"2021-09-19T00:00:00\", \"kind\": \"comments\", \"count\": 2}, {\"createdAt\": \"2021-09-26T00:00:00\", \"kind\": \"comments\", \"count\": 9}, {\"createdAt\": \"2021-10-03T00:00:00\", \"kind\": \"comments\", \"count\": 7}, {\"createdAt\": \"2021-10-10T00:00:00\", \"kind\": \"comments\", \"count\": 11}, {\"createdAt\": \"2021-10-17T00:00:00\", \"kind\": \"comments\", \"count\": 44}, {\"createdAt\": \"2021-10-24T00:00:00\", \"kind\": \"comments\", \"count\": 14}, {\"createdAt\": \"2021-10-31T00:00:00\", \"kind\": \"comments\", \"count\": 8}]}}, {\"mode\": \"vega-lite\"});\n",
       "</script>"
      ],
      "text/plain": [
       "alt.Chart(...)"
      ]
     },
     "execution_count": 17,
     "metadata": {},
     "output_type": "execute_result"
    }
   ],
   "source": [
    "alt.Chart(total_time, width=600).mark_line().encode(\n",
    "    x='createdAt',\n",
    "    y='count',\n",
    "    color='kind'\n",
    ")"
   ]
  }
 ],
 "metadata": {
  "kernelspec": {
   "display_name": "Python 3 (ipykernel)",
   "language": "python",
   "name": "python3"
  },
  "language_info": {
   "codemirror_mode": {
    "name": "ipython",
    "version": 3
   },
   "file_extension": ".py",
   "mimetype": "text/x-python",
   "name": "python",
   "nbconvert_exporter": "python",
   "pygments_lexer": "ipython3",
   "version": "3.7.12"
  },
  "papermill": {
   "default_parameters": {},
   "duration": 6.756196,
   "end_time": "2021-10-28T01:34:27.621718",
   "environment_variables": {},
   "exception": null,
   "input_path": "./templates/person_report.ipynb",
   "output_path": "generated/people/mmcky.ipynb",
   "parameters": {
    "n_days": 90,
    "person": "mmcky"
   },
   "start_time": "2021-10-28T01:34:20.865522",
   "version": "2.3.3"
  },
  "widgets": {
   "application/vnd.jupyter.widget-state+json": {
    "state": {},
    "version_major": 2,
    "version_minor": 0
   }
  }
 },
 "nbformat": 4,
 "nbformat_minor": 5
}