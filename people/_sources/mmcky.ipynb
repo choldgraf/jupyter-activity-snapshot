{
 "cells": [
  {
   "cell_type": "markdown",
   "id": "89a991e0",
   "metadata": {
    "papermill": {
     "duration": 0.018126,
     "end_time": "2021-09-25T01:31:40.012081",
     "exception": false,
     "start_time": "2021-09-25T01:31:39.993955",
     "status": "completed"
    },
    "tags": []
   },
   "source": [
    "# Report for mmcky"
   ]
  },
  {
   "cell_type": "code",
   "execution_count": 1,
   "id": "d78b2ebe",
   "metadata": {
    "execution": {
     "iopub.execute_input": "2021-09-25T01:31:40.055753Z",
     "iopub.status.busy": "2021-09-25T01:31:40.055154Z",
     "iopub.status.idle": "2021-09-25T01:31:41.068268Z",
     "shell.execute_reply": "2021-09-25T01:31:41.067221Z"
    },
    "papermill": {
     "duration": 1.04052,
     "end_time": "2021-09-25T01:31:41.068556",
     "exception": false,
     "start_time": "2021-09-25T01:31:40.028036",
     "status": "completed"
    },
    "tags": [
     "remove_cell"
    ]
   },
   "outputs": [],
   "source": [
    "import seaborn as sns\n",
    "import pandas as pd\n",
    "import numpy as np\n",
    "import altair as alt\n",
    "from markdown import markdown\n",
    "from IPython.display import Markdown\n",
    "from ipywidgets.widgets import HTML, Tab\n",
    "from ipywidgets import widgets\n",
    "from datetime import timedelta\n",
    "from matplotlib import pyplot as plt\n",
    "import os.path as op\n",
    "\n",
    "from mycode import alt_theme\n",
    "from warnings import simplefilter\n",
    "simplefilter('ignore')"
   ]
  },
  {
   "cell_type": "code",
   "execution_count": 2,
   "id": "2724c753",
   "metadata": {
    "execution": {
     "iopub.execute_input": "2021-09-25T01:31:41.104983Z",
     "iopub.status.busy": "2021-09-25T01:31:41.104408Z",
     "iopub.status.idle": "2021-09-25T01:31:41.109952Z",
     "shell.execute_reply": "2021-09-25T01:31:41.109396Z"
    },
    "papermill": {
     "duration": 0.023654,
     "end_time": "2021-09-25T01:31:41.110102",
     "exception": false,
     "start_time": "2021-09-25T01:31:41.086448",
     "status": "completed"
    },
    "tags": [
     "remove_cell"
    ]
   },
   "outputs": [],
   "source": [
    "def author_url(author):\n",
    "    return f\"https://github.com/{author}\""
   ]
  },
  {
   "cell_type": "code",
   "execution_count": 3,
   "id": "1870736c",
   "metadata": {
    "execution": {
     "iopub.execute_input": "2021-09-25T01:31:41.145448Z",
     "iopub.status.busy": "2021-09-25T01:31:41.144182Z",
     "iopub.status.idle": "2021-09-25T01:31:41.146147Z",
     "shell.execute_reply": "2021-09-25T01:31:41.146619Z"
    },
    "papermill": {
     "duration": 0.02322,
     "end_time": "2021-09-25T01:31:41.146780",
     "exception": false,
     "start_time": "2021-09-25T01:31:41.123560",
     "status": "completed"
    },
    "tags": [
     "parameters",
     "hide_input"
    ]
   },
   "outputs": [],
   "source": [
    "# Parameters\n",
    "fmt_date = \"{:%Y-%m-%d}\"\n",
    "\n",
    "n_days = 30 * 2\n",
    "start_date = fmt_date.format(pd.datetime.today() - timedelta(days=n_days))\n",
    "end_date = fmt_date.format(pd.datetime.today())\n",
    "\n",
    "renderer = \"html\"\n",
    "person = \"jasongrout\""
   ]
  },
  {
   "cell_type": "code",
   "execution_count": 4,
   "id": "74f75567",
   "metadata": {
    "execution": {
     "iopub.execute_input": "2021-09-25T01:31:41.180079Z",
     "iopub.status.busy": "2021-09-25T01:31:41.179493Z",
     "iopub.status.idle": "2021-09-25T01:31:41.181832Z",
     "shell.execute_reply": "2021-09-25T01:31:41.182415Z"
    },
    "papermill": {
     "duration": 0.021739,
     "end_time": "2021-09-25T01:31:41.182575",
     "exception": false,
     "start_time": "2021-09-25T01:31:41.160836",
     "status": "completed"
    },
    "tags": [
     "injected-parameters",
     "remove-cell"
    ]
   },
   "outputs": [],
   "source": [
    "# Parameters\n",
    "person = \"mmcky\"\n",
    "n_days = 60\n"
   ]
  },
  {
   "cell_type": "code",
   "execution_count": 5,
   "id": "7f7215a9",
   "metadata": {
    "execution": {
     "iopub.execute_input": "2021-09-25T01:31:41.221271Z",
     "iopub.status.busy": "2021-09-25T01:31:41.220697Z",
     "iopub.status.idle": "2021-09-25T01:31:41.222995Z",
     "shell.execute_reply": "2021-09-25T01:31:41.223469Z"
    },
    "papermill": {
     "duration": 0.025869,
     "end_time": "2021-09-25T01:31:41.223640",
     "exception": false,
     "start_time": "2021-09-25T01:31:41.197771",
     "status": "completed"
    },
    "tags": [
     "remove_cell"
    ]
   },
   "outputs": [
    {
     "data": {
      "text/plain": [
       "ThemeRegistry.enable('my_theme')"
      ]
     },
     "execution_count": 5,
     "metadata": {},
     "output_type": "execute_result"
    }
   ],
   "source": [
    "alt.renderers.enable(renderer);\n",
    "alt.themes.register('my_theme', alt_theme)\n",
    "alt.themes.enable(\"my_theme\")"
   ]
  },
  {
   "cell_type": "markdown",
   "id": "6003854c",
   "metadata": {
    "papermill": {
     "duration": 0.014291,
     "end_time": "2021-09-25T01:31:41.251970",
     "exception": false,
     "start_time": "2021-09-25T01:31:41.237679",
     "status": "completed"
    },
    "tags": []
   },
   "source": [
    "## Load data"
   ]
  },
  {
   "cell_type": "code",
   "execution_count": 6,
   "id": "d6c97e59",
   "metadata": {
    "execution": {
     "iopub.execute_input": "2021-09-25T01:31:41.289252Z",
     "iopub.status.busy": "2021-09-25T01:31:41.288211Z",
     "iopub.status.idle": "2021-09-25T01:31:41.467597Z",
     "shell.execute_reply": "2021-09-25T01:31:41.466688Z"
    },
    "papermill": {
     "duration": 0.201254,
     "end_time": "2021-09-25T01:31:41.467865",
     "exception": false,
     "start_time": "2021-09-25T01:31:41.266611",
     "status": "completed"
    },
    "tags": [
     "remove_cell"
    ]
   },
   "outputs": [],
   "source": [
    "from pathlib import Path\n",
    "path_data = Path(\"./\")\n",
    "comments = pd.read_csv(path_data.joinpath('comments.csv'), index_col=0)\n",
    "issues = pd.read_csv(path_data.joinpath('issues.csv'), index_col=0)\n",
    "prs = pd.read_csv(path_data.joinpath('prs.csv'), index_col=0)\n",
    "\n",
    "comments = comments.query('author == @person').drop_duplicates()\n",
    "issues = issues.query('author == @person').drop_duplicates()\n",
    "closed_by = prs.query('mergedBy == @person')\n",
    "prs = prs.query('author == @person').drop_duplicates()"
   ]
  },
  {
   "cell_type": "code",
   "execution_count": 7,
   "id": "15570d7c",
   "metadata": {
    "execution": {
     "iopub.execute_input": "2021-09-25T01:31:41.544798Z",
     "iopub.status.busy": "2021-09-25T01:31:41.524409Z",
     "iopub.status.idle": "2021-09-25T01:31:41.559396Z",
     "shell.execute_reply": "2021-09-25T01:31:41.559857Z"
    },
    "papermill": {
     "duration": 0.075149,
     "end_time": "2021-09-25T01:31:41.560053",
     "exception": false,
     "start_time": "2021-09-25T01:31:41.484904",
     "status": "completed"
    },
    "tags": [
     "remove_cell"
    ]
   },
   "outputs": [],
   "source": [
    "# Time columns\n",
    "# Also drop dates outside of our range\n",
    "time_columns = ['updatedAt', 'createdAt', 'closedAt']\n",
    "for col in time_columns:\n",
    "    for item in [comments, issues, prs, closed_by]:\n",
    "        if col not in item.columns:\n",
    "            continue\n",
    "        dt = pd.to_datetime(item[col]).dt.tz_localize(None)\n",
    "        item[col] = dt\n",
    "        item.query(\"updatedAt < @end_date and updatedAt > @start_date\", inplace=True)"
   ]
  },
  {
   "cell_type": "markdown",
   "id": "4a547612",
   "metadata": {
    "papermill": {
     "duration": 0.01498,
     "end_time": "2021-09-25T01:31:41.590284",
     "exception": false,
     "start_time": "2021-09-25T01:31:41.575304",
     "status": "completed"
    },
    "tags": []
   },
   "source": [
    "## Repository summaries"
   ]
  },
  {
   "cell_type": "code",
   "execution_count": 8,
   "id": "3aab8591",
   "metadata": {
    "execution": {
     "iopub.execute_input": "2021-09-25T01:31:41.632212Z",
     "iopub.status.busy": "2021-09-25T01:31:41.631614Z",
     "iopub.status.idle": "2021-09-25T01:31:41.646042Z",
     "shell.execute_reply": "2021-09-25T01:31:41.645495Z"
    },
    "papermill": {
     "duration": 0.039698,
     "end_time": "2021-09-25T01:31:41.646178",
     "exception": false,
     "start_time": "2021-09-25T01:31:41.606480",
     "status": "completed"
    },
    "tags": [
     "remove_cell"
    ]
   },
   "outputs": [],
   "source": [
    "summaries = []\n",
    "for idata, name in [(issues, 'issues'), (prs, 'prs'), (comments, 'comments')]:\n",
    "    idata = idata.groupby([\"repo\", \"org\"]).agg({'id': \"count\"}).reset_index().rename(columns={'id': 'count'})\n",
    "    idata[\"kind\"] = name\n",
    "    summaries.append(idata)\n",
    "summaries = pd.concat(summaries)"
   ]
  },
  {
   "cell_type": "code",
   "execution_count": 9,
   "id": "e2aa0e8f",
   "metadata": {
    "execution": {
     "iopub.execute_input": "2021-09-25T01:31:41.682083Z",
     "iopub.status.busy": "2021-09-25T01:31:41.681454Z",
     "iopub.status.idle": "2021-09-25T01:31:41.689195Z",
     "shell.execute_reply": "2021-09-25T01:31:41.688711Z"
    },
    "papermill": {
     "duration": 0.027938,
     "end_time": "2021-09-25T01:31:41.689328",
     "exception": false,
     "start_time": "2021-09-25T01:31:41.661390",
     "status": "completed"
    },
    "tags": [
     "remove_cell"
    ]
   },
   "outputs": [],
   "source": [
    "repo_summaries = summaries.groupby([\"repo\", \"kind\"]).agg({\"count\": \"sum\"}).reset_index()\n",
    "org_summaries = summaries.groupby([\"org\", \"kind\"]).agg({\"count\": \"sum\"}).reset_index()"
   ]
  },
  {
   "cell_type": "code",
   "execution_count": 10,
   "id": "cbd2c028",
   "metadata": {
    "execution": {
     "iopub.execute_input": "2021-09-25T01:31:41.727312Z",
     "iopub.status.busy": "2021-09-25T01:31:41.726716Z",
     "iopub.status.idle": "2021-09-25T01:31:41.729421Z",
     "shell.execute_reply": "2021-09-25T01:31:41.730015Z"
    },
    "papermill": {
     "duration": 0.02549,
     "end_time": "2021-09-25T01:31:41.730187",
     "exception": false,
     "start_time": "2021-09-25T01:31:41.704697",
     "status": "completed"
    },
    "tags": [
     "remove_cell"
    ]
   },
   "outputs": [],
   "source": [
    "repo_summaries['logcount'] = np.log(repo_summaries[\"count\"])"
   ]
  },
  {
   "cell_type": "code",
   "execution_count": 11,
   "id": "e13bc271",
   "metadata": {
    "execution": {
     "iopub.execute_input": "2021-09-25T01:31:41.792607Z",
     "iopub.status.busy": "2021-09-25T01:31:41.782384Z",
     "iopub.status.idle": "2021-09-25T01:31:41.823209Z",
     "shell.execute_reply": "2021-09-25T01:31:41.823697Z"
    },
    "papermill": {
     "duration": 0.076916,
     "end_time": "2021-09-25T01:31:41.823866",
     "exception": false,
     "start_time": "2021-09-25T01:31:41.746950",
     "status": "completed"
    },
    "tags": [
     "hide_input"
    ]
   },
   "outputs": [
    {
     "data": {
      "text/html": [
       "\n",
       "<div id=\"altair-viz-5a481f5ca5a6458ca16d64d34654db7b\"></div>\n",
       "<script type=\"text/javascript\">\n",
       "  (function(spec, embedOpt){\n",
       "    let outputDiv = document.currentScript.previousElementSibling;\n",
       "    if (outputDiv.id !== \"altair-viz-5a481f5ca5a6458ca16d64d34654db7b\") {\n",
       "      outputDiv = document.getElementById(\"altair-viz-5a481f5ca5a6458ca16d64d34654db7b\");\n",
       "    }\n",
       "    const paths = {\n",
       "      \"vega\": \"https://cdn.jsdelivr.net/npm//vega@5?noext\",\n",
       "      \"vega-lib\": \"https://cdn.jsdelivr.net/npm//vega-lib?noext\",\n",
       "      \"vega-lite\": \"https://cdn.jsdelivr.net/npm//vega-lite@4.8.1?noext\",\n",
       "      \"vega-embed\": \"https://cdn.jsdelivr.net/npm//vega-embed@6?noext\",\n",
       "    };\n",
       "\n",
       "    function loadScript(lib) {\n",
       "      return new Promise(function(resolve, reject) {\n",
       "        var s = document.createElement('script');\n",
       "        s.src = paths[lib];\n",
       "        s.async = true;\n",
       "        s.onload = () => resolve(paths[lib]);\n",
       "        s.onerror = () => reject(`Error loading script: ${paths[lib]}`);\n",
       "        document.getElementsByTagName(\"head\")[0].appendChild(s);\n",
       "      });\n",
       "    }\n",
       "\n",
       "    function showError(err) {\n",
       "      outputDiv.innerHTML = `<div class=\"error\" style=\"color:red;\">${err}</div>`;\n",
       "      throw err;\n",
       "    }\n",
       "\n",
       "    function displayChart(vegaEmbed) {\n",
       "      vegaEmbed(outputDiv, spec, embedOpt)\n",
       "        .catch(err => showError(`Javascript Error: ${err.message}<br>This usually means there's a typo in your chart specification. See the javascript console for the full traceback.`));\n",
       "    }\n",
       "\n",
       "    if(typeof define === \"function\" && define.amd) {\n",
       "      requirejs.config({paths});\n",
       "      require([\"vega-embed\"], displayChart, err => showError(`Error loading script: ${err.message}`));\n",
       "    } else if (typeof vegaEmbed === \"function\") {\n",
       "      displayChart(vegaEmbed);\n",
       "    } else {\n",
       "      loadScript(\"vega\")\n",
       "        .then(() => loadScript(\"vega-lite\"))\n",
       "        .then(() => loadScript(\"vega-embed\"))\n",
       "        .catch(showError)\n",
       "        .then(() => displayChart(vegaEmbed));\n",
       "    }\n",
       "  })({\"config\": {\"axisLeft\": {\"labelFontSize\": 15}, \"axisBottom\": {\"labelFontSize\": 15}}, \"hconcat\": [{\"mark\": \"bar\", \"encoding\": {\"color\": {\"type\": \"nominal\", \"field\": \"kind\"}, \"tooltip\": {\"type\": \"nominal\", \"field\": \"kind\"}, \"x\": {\"type\": \"nominal\", \"field\": \"repo\"}, \"y\": {\"type\": \"quantitative\", \"field\": \"count\"}}, \"title\": \"Activity per repository\", \"width\": 600}, {\"mark\": \"bar\", \"encoding\": {\"color\": {\"type\": \"nominal\", \"field\": \"kind\"}, \"tooltip\": {\"type\": \"nominal\", \"field\": \"kind\"}, \"x\": {\"type\": \"nominal\", \"field\": \"repo\"}, \"y\": {\"type\": \"quantitative\", \"field\": \"logcount\"}}, \"title\": \"Log activity per repository\", \"width\": 600}], \"data\": {\"name\": \"data-a80d778f7ee9665c930f63f4fd44f253\"}, \"$schema\": \"https://vega.github.io/schema/vega-lite/v4.8.1.json\", \"datasets\": {\"data-a80d778f7ee9665c930f63f4fd44f253\": [{\"repo\": \"MyST-NB\", \"kind\": \"comments\", \"count\": 27, \"logcount\": 3.295836866004329}, {\"repo\": \"MyST-NB\", \"kind\": \"prs\", \"count\": 4, \"logcount\": 1.3862943611198906}, {\"repo\": \"MyST-Parser\", \"kind\": \"prs\", \"count\": 1, \"logcount\": 0.0}, {\"repo\": \"jupyter-book\", \"kind\": \"comments\", \"count\": 24, \"logcount\": 3.1780538303479458}, {\"repo\": \"jupyter-book\", \"kind\": \"issues\", \"count\": 1, \"logcount\": 0.0}, {\"repo\": \"jupyter-book\", \"kind\": \"prs\", \"count\": 6, \"logcount\": 1.791759469228055}, {\"repo\": \"jupyter-cache\", \"kind\": \"comments\", \"count\": 1, \"logcount\": 0.0}, {\"repo\": \"meta\", \"kind\": \"comments\", \"count\": 10, \"logcount\": 2.302585092994046}, {\"repo\": \"meta\", \"kind\": \"prs\", \"count\": 2, \"logcount\": 0.6931471805599453}, {\"repo\": \"sloan_grant_administration\", \"kind\": \"prs\", \"count\": 1, \"logcount\": 0.0}, {\"repo\": \"sphinx-book-theme\", \"kind\": \"comments\", \"count\": 11, \"logcount\": 2.3978952727983707}, {\"repo\": \"sphinx-book-theme\", \"kind\": \"issues\", \"count\": 1, \"logcount\": 0.0}, {\"repo\": \"sphinx-book-theme\", \"kind\": \"prs\", \"count\": 1, \"logcount\": 0.0}, {\"repo\": \"sphinx-exercise\", \"kind\": \"comments\", \"count\": 3, \"logcount\": 1.0986122886681098}, {\"repo\": \"sphinx-jupyterbook-latex\", \"kind\": \"comments\", \"count\": 4, \"logcount\": 1.3862943611198906}, {\"repo\": \"sphinx-jupyterbook-latex\", \"kind\": \"prs\", \"count\": 1, \"logcount\": 0.0}, {\"repo\": \"sphinx-proof\", \"kind\": \"comments\", \"count\": 3, \"logcount\": 1.0986122886681098}, {\"repo\": \"sphinx-proof\", \"kind\": \"issues\", \"count\": 1, \"logcount\": 0.0}]}}, {\"mode\": \"vega-lite\"});\n",
       "</script>"
      ],
      "text/plain": [
       "alt.HConcatChart(...)"
      ]
     },
     "execution_count": 11,
     "metadata": {},
     "output_type": "execute_result"
    }
   ],
   "source": [
    "ch1 = alt.Chart(repo_summaries, width=600, title=\"Activity per repository\").mark_bar().encode(\n",
    "    x='repo',\n",
    "    y='count',\n",
    "    color='kind',\n",
    "    tooltip=\"kind\"\n",
    ")\n",
    "\n",
    "ch2 = alt.Chart(repo_summaries, width=600, title=\"Log activity per repository\").mark_bar().encode(\n",
    "    x='repo',\n",
    "    y='logcount',\n",
    "    color='kind',\n",
    "    tooltip=\"kind\"\n",
    ")\n",
    "\n",
    "ch1 | ch2"
   ]
  },
  {
   "cell_type": "code",
   "execution_count": 12,
   "id": "d380d367",
   "metadata": {
    "execution": {
     "iopub.execute_input": "2021-09-25T01:31:41.884632Z",
     "iopub.status.busy": "2021-09-25T01:31:41.883996Z",
     "iopub.status.idle": "2021-09-25T01:31:41.891003Z",
     "shell.execute_reply": "2021-09-25T01:31:41.890473Z"
    },
    "papermill": {
     "duration": 0.051855,
     "end_time": "2021-09-25T01:31:41.891159",
     "exception": false,
     "start_time": "2021-09-25T01:31:41.839304",
     "status": "completed"
    },
    "tags": [
     "hide_input"
    ]
   },
   "outputs": [
    {
     "data": {
      "text/html": [
       "\n",
       "<div id=\"altair-viz-7f6bdbb9892942d1ae38e1039a0962c3\"></div>\n",
       "<script type=\"text/javascript\">\n",
       "  (function(spec, embedOpt){\n",
       "    let outputDiv = document.currentScript.previousElementSibling;\n",
       "    if (outputDiv.id !== \"altair-viz-7f6bdbb9892942d1ae38e1039a0962c3\") {\n",
       "      outputDiv = document.getElementById(\"altair-viz-7f6bdbb9892942d1ae38e1039a0962c3\");\n",
       "    }\n",
       "    const paths = {\n",
       "      \"vega\": \"https://cdn.jsdelivr.net/npm//vega@5?noext\",\n",
       "      \"vega-lib\": \"https://cdn.jsdelivr.net/npm//vega-lib?noext\",\n",
       "      \"vega-lite\": \"https://cdn.jsdelivr.net/npm//vega-lite@4.8.1?noext\",\n",
       "      \"vega-embed\": \"https://cdn.jsdelivr.net/npm//vega-embed@6?noext\",\n",
       "    };\n",
       "\n",
       "    function loadScript(lib) {\n",
       "      return new Promise(function(resolve, reject) {\n",
       "        var s = document.createElement('script');\n",
       "        s.src = paths[lib];\n",
       "        s.async = true;\n",
       "        s.onload = () => resolve(paths[lib]);\n",
       "        s.onerror = () => reject(`Error loading script: ${paths[lib]}`);\n",
       "        document.getElementsByTagName(\"head\")[0].appendChild(s);\n",
       "      });\n",
       "    }\n",
       "\n",
       "    function showError(err) {\n",
       "      outputDiv.innerHTML = `<div class=\"error\" style=\"color:red;\">${err}</div>`;\n",
       "      throw err;\n",
       "    }\n",
       "\n",
       "    function displayChart(vegaEmbed) {\n",
       "      vegaEmbed(outputDiv, spec, embedOpt)\n",
       "        .catch(err => showError(`Javascript Error: ${err.message}<br>This usually means there's a typo in your chart specification. See the javascript console for the full traceback.`));\n",
       "    }\n",
       "\n",
       "    if(typeof define === \"function\" && define.amd) {\n",
       "      requirejs.config({paths});\n",
       "      require([\"vega-embed\"], displayChart, err => showError(`Error loading script: ${err.message}`));\n",
       "    } else if (typeof vegaEmbed === \"function\") {\n",
       "      displayChart(vegaEmbed);\n",
       "    } else {\n",
       "      loadScript(\"vega\")\n",
       "        .then(() => loadScript(\"vega-lite\"))\n",
       "        .then(() => loadScript(\"vega-embed\"))\n",
       "        .catch(showError)\n",
       "        .then(() => displayChart(vegaEmbed));\n",
       "    }\n",
       "  })({\"config\": {\"axisLeft\": {\"labelFontSize\": 15}, \"axisBottom\": {\"labelFontSize\": 15}}, \"data\": {\"name\": \"data-8ec1476b12682ea1ac1029a6dd1f7858\"}, \"mark\": \"bar\", \"encoding\": {\"color\": {\"type\": \"nominal\", \"field\": \"kind\"}, \"tooltip\": {\"type\": \"nominal\", \"field\": \"org\"}, \"x\": {\"type\": \"nominal\", \"field\": \"org\"}, \"y\": {\"type\": \"quantitative\", \"field\": \"count\"}}, \"width\": 600, \"$schema\": \"https://vega.github.io/schema/vega-lite/v4.8.1.json\", \"datasets\": {\"data-8ec1476b12682ea1ac1029a6dd1f7858\": [{\"org\": \"executablebooks\", \"kind\": \"comments\", \"count\": 83}, {\"org\": \"executablebooks\", \"kind\": \"issues\", \"count\": 3}, {\"org\": \"executablebooks\", \"kind\": \"prs\", \"count\": 16}]}}, {\"mode\": \"vega-lite\"});\n",
       "</script>"
      ],
      "text/plain": [
       "alt.Chart(...)"
      ]
     },
     "execution_count": 12,
     "metadata": {},
     "output_type": "execute_result"
    }
   ],
   "source": [
    "alt.Chart(org_summaries, width=600).mark_bar().encode(\n",
    "    x='org',\n",
    "    y='count',\n",
    "    color='kind',\n",
    "    tooltip=\"org\"\n",
    ")"
   ]
  },
  {
   "cell_type": "markdown",
   "id": "ee6d3360",
   "metadata": {
    "papermill": {
     "duration": 0.016823,
     "end_time": "2021-09-25T01:31:41.926185",
     "exception": false,
     "start_time": "2021-09-25T01:31:41.909362",
     "status": "completed"
    },
    "tags": []
   },
   "source": [
    "## By repository over time"
   ]
  },
  {
   "cell_type": "markdown",
   "id": "ff3766ff",
   "metadata": {
    "papermill": {
     "duration": 0.016372,
     "end_time": "2021-09-25T01:31:41.959967",
     "exception": false,
     "start_time": "2021-09-25T01:31:41.943595",
     "status": "completed"
    },
    "tags": []
   },
   "source": [
    "### Comments"
   ]
  },
  {
   "cell_type": "code",
   "execution_count": 13,
   "id": "14b584cb",
   "metadata": {
    "execution": {
     "iopub.execute_input": "2021-09-25T01:31:42.013664Z",
     "iopub.status.busy": "2021-09-25T01:31:42.007458Z",
     "iopub.status.idle": "2021-09-25T01:31:42.077096Z",
     "shell.execute_reply": "2021-09-25T01:31:42.076550Z"
    },
    "papermill": {
     "duration": 0.100794,
     "end_time": "2021-09-25T01:31:42.077276",
     "exception": false,
     "start_time": "2021-09-25T01:31:41.976482",
     "status": "completed"
    },
    "tags": [
     "hide_input"
    ]
   },
   "outputs": [
    {
     "data": {
      "text/html": [
       "\n",
       "<div id=\"altair-viz-e275c6246b00447f9f4f5d6405d3cbd1\"></div>\n",
       "<script type=\"text/javascript\">\n",
       "  (function(spec, embedOpt){\n",
       "    let outputDiv = document.currentScript.previousElementSibling;\n",
       "    if (outputDiv.id !== \"altair-viz-e275c6246b00447f9f4f5d6405d3cbd1\") {\n",
       "      outputDiv = document.getElementById(\"altair-viz-e275c6246b00447f9f4f5d6405d3cbd1\");\n",
       "    }\n",
       "    const paths = {\n",
       "      \"vega\": \"https://cdn.jsdelivr.net/npm//vega@5?noext\",\n",
       "      \"vega-lib\": \"https://cdn.jsdelivr.net/npm//vega-lib?noext\",\n",
       "      \"vega-lite\": \"https://cdn.jsdelivr.net/npm//vega-lite@4.8.1?noext\",\n",
       "      \"vega-embed\": \"https://cdn.jsdelivr.net/npm//vega-embed@6?noext\",\n",
       "    };\n",
       "\n",
       "    function loadScript(lib) {\n",
       "      return new Promise(function(resolve, reject) {\n",
       "        var s = document.createElement('script');\n",
       "        s.src = paths[lib];\n",
       "        s.async = true;\n",
       "        s.onload = () => resolve(paths[lib]);\n",
       "        s.onerror = () => reject(`Error loading script: ${paths[lib]}`);\n",
       "        document.getElementsByTagName(\"head\")[0].appendChild(s);\n",
       "      });\n",
       "    }\n",
       "\n",
       "    function showError(err) {\n",
       "      outputDiv.innerHTML = `<div class=\"error\" style=\"color:red;\">${err}</div>`;\n",
       "      throw err;\n",
       "    }\n",
       "\n",
       "    function displayChart(vegaEmbed) {\n",
       "      vegaEmbed(outputDiv, spec, embedOpt)\n",
       "        .catch(err => showError(`Javascript Error: ${err.message}<br>This usually means there's a typo in your chart specification. See the javascript console for the full traceback.`));\n",
       "    }\n",
       "\n",
       "    if(typeof define === \"function\" && define.amd) {\n",
       "      requirejs.config({paths});\n",
       "      require([\"vega-embed\"], displayChart, err => showError(`Error loading script: ${err.message}`));\n",
       "    } else if (typeof vegaEmbed === \"function\") {\n",
       "      displayChart(vegaEmbed);\n",
       "    } else {\n",
       "      loadScript(\"vega\")\n",
       "        .then(() => loadScript(\"vega-lite\"))\n",
       "        .then(() => loadScript(\"vega-embed\"))\n",
       "        .catch(showError)\n",
       "        .then(() => displayChart(vegaEmbed));\n",
       "    }\n",
       "  })({\"config\": {\"axisLeft\": {\"labelFontSize\": 15}, \"axisBottom\": {\"labelFontSize\": 15}}, \"layer\": [{\"data\": {\"name\": \"data-970422e60999e00f1ec54094d188d758\"}, \"mark\": \"line\", \"encoding\": {\"color\": {\"type\": \"nominal\", \"field\": \"repo\"}, \"tooltip\": {\"type\": \"nominal\", \"field\": \"repo\"}, \"x\": {\"type\": \"temporal\", \"field\": \"createdAt\"}, \"y\": {\"type\": \"quantitative\", \"field\": \"count\"}}, \"width\": 600}, {\"data\": {\"name\": \"data-ebaf50f9f3dc4369e5265bf41b1316fa\"}, \"mark\": {\"type\": \"line\", \"color\": \"black\"}, \"encoding\": {\"x\": {\"type\": \"temporal\", \"field\": \"createdAt\"}, \"y\": {\"type\": \"quantitative\", \"field\": \"count\"}}, \"width\": 600}], \"$schema\": \"https://vega.github.io/schema/vega-lite/v4.8.1.json\", \"datasets\": {\"data-970422e60999e00f1ec54094d188d758\": [{\"repo\": \"MyST-NB\", \"createdAt\": \"2021-08-29T00:00:00\", \"count\": 14}, {\"repo\": \"MyST-NB\", \"createdAt\": \"2021-09-05T00:00:00\", \"count\": 13}, {\"repo\": \"jupyter-book\", \"createdAt\": \"2021-08-15T00:00:00\", \"count\": 10}, {\"repo\": \"jupyter-book\", \"createdAt\": \"2021-08-22T00:00:00\", \"count\": 2}, {\"repo\": \"jupyter-book\", \"createdAt\": \"2021-08-29T00:00:00\", \"count\": 4}, {\"repo\": \"jupyter-book\", \"createdAt\": \"2021-09-05T00:00:00\", \"count\": 4}, {\"repo\": \"jupyter-book\", \"createdAt\": \"2021-09-12T00:00:00\", \"count\": 1}, {\"repo\": \"jupyter-book\", \"createdAt\": \"2021-09-19T00:00:00\", \"count\": 0}, {\"repo\": \"jupyter-book\", \"createdAt\": \"2021-09-26T00:00:00\", \"count\": 3}, {\"repo\": \"jupyter-cache\", \"createdAt\": \"2021-08-08T00:00:00\", \"count\": 1}, {\"repo\": \"meta\", \"createdAt\": \"2021-08-01T00:00:00\", \"count\": 2}, {\"repo\": \"meta\", \"createdAt\": \"2021-08-08T00:00:00\", \"count\": 6}, {\"repo\": \"meta\", \"createdAt\": \"2021-08-15T00:00:00\", \"count\": 1}, {\"repo\": \"meta\", \"createdAt\": \"2021-08-22T00:00:00\", \"count\": 0}, {\"repo\": \"meta\", \"createdAt\": \"2021-08-29T00:00:00\", \"count\": 0}, {\"repo\": \"meta\", \"createdAt\": \"2021-09-05T00:00:00\", \"count\": 0}, {\"repo\": \"meta\", \"createdAt\": \"2021-09-12T00:00:00\", \"count\": 0}, {\"repo\": \"meta\", \"createdAt\": \"2021-09-19T00:00:00\", \"count\": 0}, {\"repo\": \"meta\", \"createdAt\": \"2021-09-26T00:00:00\", \"count\": 1}, {\"repo\": \"sphinx-book-theme\", \"createdAt\": \"2021-09-05T00:00:00\", \"count\": 9}, {\"repo\": \"sphinx-book-theme\", \"createdAt\": \"2021-09-12T00:00:00\", \"count\": 1}, {\"repo\": \"sphinx-book-theme\", \"createdAt\": \"2021-09-19T00:00:00\", \"count\": 1}, {\"repo\": \"sphinx-exercise\", \"createdAt\": \"2021-08-08T00:00:00\", \"count\": 1}, {\"repo\": \"sphinx-exercise\", \"createdAt\": \"2021-08-15T00:00:00\", \"count\": 0}, {\"repo\": \"sphinx-exercise\", \"createdAt\": \"2021-08-22T00:00:00\", \"count\": 0}, {\"repo\": \"sphinx-exercise\", \"createdAt\": \"2021-08-29T00:00:00\", \"count\": 0}, {\"repo\": \"sphinx-exercise\", \"createdAt\": \"2021-09-05T00:00:00\", \"count\": 0}, {\"repo\": \"sphinx-exercise\", \"createdAt\": \"2021-09-12T00:00:00\", \"count\": 0}, {\"repo\": \"sphinx-exercise\", \"createdAt\": \"2021-09-19T00:00:00\", \"count\": 1}, {\"repo\": \"sphinx-exercise\", \"createdAt\": \"2021-09-26T00:00:00\", \"count\": 1}, {\"repo\": \"sphinx-jupyterbook-latex\", \"createdAt\": \"2021-09-26T00:00:00\", \"count\": 4}, {\"repo\": \"sphinx-proof\", \"createdAt\": \"2021-08-08T00:00:00\", \"count\": 2}, {\"repo\": \"sphinx-proof\", \"createdAt\": \"2021-08-15T00:00:00\", \"count\": 0}, {\"repo\": \"sphinx-proof\", \"createdAt\": \"2021-08-22T00:00:00\", \"count\": 1}], \"data-ebaf50f9f3dc4369e5265bf41b1316fa\": [{\"createdAt\": \"2021-08-01T00:00:00\", \"count\": 2}, {\"createdAt\": \"2021-08-08T00:00:00\", \"count\": 10}, {\"createdAt\": \"2021-08-15T00:00:00\", \"count\": 11}, {\"createdAt\": \"2021-08-22T00:00:00\", \"count\": 3}, {\"createdAt\": \"2021-08-29T00:00:00\", \"count\": 18}, {\"createdAt\": \"2021-09-05T00:00:00\", \"count\": 26}, {\"createdAt\": \"2021-09-12T00:00:00\", \"count\": 2}, {\"createdAt\": \"2021-09-19T00:00:00\", \"count\": 2}, {\"createdAt\": \"2021-09-26T00:00:00\", \"count\": 9}]}}, {\"mode\": \"vega-lite\"});\n",
       "</script>"
      ],
      "text/plain": [
       "alt.LayerChart(...)"
      ]
     },
     "execution_count": 13,
     "metadata": {},
     "output_type": "execute_result"
    }
   ],
   "source": [
    "comments_time = comments.groupby('repo').resample('W', on='createdAt').count()['author'].reset_index()\n",
    "comments_time = comments_time.rename(columns={'author': 'count'})\n",
    "comments_time_total = comments_time.groupby('createdAt').agg({\"count\": \"sum\"}).reset_index()\n",
    "ch1 = alt.Chart(comments_time, width=600).mark_line().encode(\n",
    "    x='createdAt',\n",
    "    y='count',\n",
    "    color='repo',\n",
    "    tooltip=\"repo\"\n",
    ")\n",
    "\n",
    "ch2 = alt.Chart(comments_time_total, width=600).mark_line(color=\"black\").encode(\n",
    "    x='createdAt',\n",
    "    y='count',\n",
    ")\n",
    "\n",
    "ch1 + ch2"
   ]
  },
  {
   "cell_type": "markdown",
   "id": "34b42bb9",
   "metadata": {
    "papermill": {
     "duration": 0.017192,
     "end_time": "2021-09-25T01:31:42.113353",
     "exception": false,
     "start_time": "2021-09-25T01:31:42.096161",
     "status": "completed"
    },
    "tags": []
   },
   "source": [
    "### PRs"
   ]
  },
  {
   "cell_type": "code",
   "execution_count": 14,
   "id": "e9dbd9b7",
   "metadata": {
    "execution": {
     "iopub.execute_input": "2021-09-25T01:31:42.162890Z",
     "iopub.status.busy": "2021-09-25T01:31:42.162264Z",
     "iopub.status.idle": "2021-09-25T01:31:42.227911Z",
     "shell.execute_reply": "2021-09-25T01:31:42.228389Z"
    },
    "papermill": {
     "duration": 0.09766,
     "end_time": "2021-09-25T01:31:42.228570",
     "exception": false,
     "start_time": "2021-09-25T01:31:42.130910",
     "status": "completed"
    },
    "tags": [
     "hide_input"
    ]
   },
   "outputs": [
    {
     "data": {
      "text/html": [
       "\n",
       "<div id=\"altair-viz-692846ddda7346e3be7a545771676040\"></div>\n",
       "<script type=\"text/javascript\">\n",
       "  (function(spec, embedOpt){\n",
       "    let outputDiv = document.currentScript.previousElementSibling;\n",
       "    if (outputDiv.id !== \"altair-viz-692846ddda7346e3be7a545771676040\") {\n",
       "      outputDiv = document.getElementById(\"altair-viz-692846ddda7346e3be7a545771676040\");\n",
       "    }\n",
       "    const paths = {\n",
       "      \"vega\": \"https://cdn.jsdelivr.net/npm//vega@5?noext\",\n",
       "      \"vega-lib\": \"https://cdn.jsdelivr.net/npm//vega-lib?noext\",\n",
       "      \"vega-lite\": \"https://cdn.jsdelivr.net/npm//vega-lite@4.8.1?noext\",\n",
       "      \"vega-embed\": \"https://cdn.jsdelivr.net/npm//vega-embed@6?noext\",\n",
       "    };\n",
       "\n",
       "    function loadScript(lib) {\n",
       "      return new Promise(function(resolve, reject) {\n",
       "        var s = document.createElement('script');\n",
       "        s.src = paths[lib];\n",
       "        s.async = true;\n",
       "        s.onload = () => resolve(paths[lib]);\n",
       "        s.onerror = () => reject(`Error loading script: ${paths[lib]}`);\n",
       "        document.getElementsByTagName(\"head\")[0].appendChild(s);\n",
       "      });\n",
       "    }\n",
       "\n",
       "    function showError(err) {\n",
       "      outputDiv.innerHTML = `<div class=\"error\" style=\"color:red;\">${err}</div>`;\n",
       "      throw err;\n",
       "    }\n",
       "\n",
       "    function displayChart(vegaEmbed) {\n",
       "      vegaEmbed(outputDiv, spec, embedOpt)\n",
       "        .catch(err => showError(`Javascript Error: ${err.message}<br>This usually means there's a typo in your chart specification. See the javascript console for the full traceback.`));\n",
       "    }\n",
       "\n",
       "    if(typeof define === \"function\" && define.amd) {\n",
       "      requirejs.config({paths});\n",
       "      require([\"vega-embed\"], displayChart, err => showError(`Error loading script: ${err.message}`));\n",
       "    } else if (typeof vegaEmbed === \"function\") {\n",
       "      displayChart(vegaEmbed);\n",
       "    } else {\n",
       "      loadScript(\"vega\")\n",
       "        .then(() => loadScript(\"vega-lite\"))\n",
       "        .then(() => loadScript(\"vega-embed\"))\n",
       "        .catch(showError)\n",
       "        .then(() => displayChart(vegaEmbed));\n",
       "    }\n",
       "  })({\"config\": {\"axisLeft\": {\"labelFontSize\": 15}, \"axisBottom\": {\"labelFontSize\": 15}}, \"layer\": [{\"data\": {\"name\": \"data-3bafdba81592d127ec5be3db04ca0fc5\"}, \"mark\": \"line\", \"encoding\": {\"color\": {\"type\": \"nominal\", \"field\": \"repo\"}, \"tooltip\": {\"type\": \"nominal\", \"field\": \"repo\"}, \"x\": {\"type\": \"temporal\", \"field\": \"createdAt\"}, \"y\": {\"type\": \"quantitative\", \"field\": \"count\"}}, \"width\": 600}, {\"data\": {\"name\": \"data-558a238e08d4f7d11b1971082d4670a9\"}, \"mark\": {\"type\": \"line\", \"color\": \"black\"}, \"encoding\": {\"x\": {\"type\": \"temporal\", \"field\": \"createdAt\"}, \"y\": {\"type\": \"quantitative\", \"field\": \"count\"}}, \"width\": 600}], \"$schema\": \"https://vega.github.io/schema/vega-lite/v4.8.1.json\", \"datasets\": {\"data-3bafdba81592d127ec5be3db04ca0fc5\": [{\"repo\": \"MyST-NB\", \"createdAt\": \"2021-08-29T00:00:00\", \"count\": 2}, {\"repo\": \"MyST-NB\", \"createdAt\": \"2021-09-05T00:00:00\", \"count\": 2}, {\"repo\": \"MyST-Parser\", \"createdAt\": \"2021-08-29T00:00:00\", \"count\": 1}, {\"repo\": \"jupyter-book\", \"createdAt\": \"2021-08-15T00:00:00\", \"count\": 2}, {\"repo\": \"jupyter-book\", \"createdAt\": \"2021-08-22T00:00:00\", \"count\": 0}, {\"repo\": \"jupyter-book\", \"createdAt\": \"2021-08-29T00:00:00\", \"count\": 2}, {\"repo\": \"jupyter-book\", \"createdAt\": \"2021-09-05T00:00:00\", \"count\": 1}, {\"repo\": \"jupyter-book\", \"createdAt\": \"2021-09-12T00:00:00\", \"count\": 0}, {\"repo\": \"jupyter-book\", \"createdAt\": \"2021-09-19T00:00:00\", \"count\": 0}, {\"repo\": \"jupyter-book\", \"createdAt\": \"2021-09-26T00:00:00\", \"count\": 1}, {\"repo\": \"meta\", \"createdAt\": \"2021-07-25T00:00:00\", \"count\": 1}, {\"repo\": \"meta\", \"createdAt\": \"2021-08-01T00:00:00\", \"count\": 0}, {\"repo\": \"meta\", \"createdAt\": \"2021-08-08T00:00:00\", \"count\": 1}, {\"repo\": \"sloan_grant_administration\", \"createdAt\": \"2021-09-26T00:00:00\", \"count\": 1}, {\"repo\": \"sphinx-book-theme\", \"createdAt\": \"2021-09-19T00:00:00\", \"count\": 1}, {\"repo\": \"sphinx-jupyterbook-latex\", \"createdAt\": \"2021-09-12T00:00:00\", \"count\": 1}], \"data-558a238e08d4f7d11b1971082d4670a9\": [{\"createdAt\": \"2021-07-25T00:00:00\", \"count\": 1}, {\"createdAt\": \"2021-08-01T00:00:00\", \"count\": 0}, {\"createdAt\": \"2021-08-08T00:00:00\", \"count\": 1}, {\"createdAt\": \"2021-08-15T00:00:00\", \"count\": 2}, {\"createdAt\": \"2021-08-22T00:00:00\", \"count\": 0}, {\"createdAt\": \"2021-08-29T00:00:00\", \"count\": 5}, {\"createdAt\": \"2021-09-05T00:00:00\", \"count\": 3}, {\"createdAt\": \"2021-09-12T00:00:00\", \"count\": 1}, {\"createdAt\": \"2021-09-19T00:00:00\", \"count\": 1}, {\"createdAt\": \"2021-09-26T00:00:00\", \"count\": 2}]}}, {\"mode\": \"vega-lite\"});\n",
       "</script>"
      ],
      "text/plain": [
       "alt.LayerChart(...)"
      ]
     },
     "execution_count": 14,
     "metadata": {},
     "output_type": "execute_result"
    }
   ],
   "source": [
    "prs_time = prs.groupby('repo').resample('W', on='createdAt').count()['author'].reset_index()\n",
    "prs_time = prs_time.rename(columns={'author': 'count'})\n",
    "prs_time_total = prs_time.groupby('createdAt').agg({\"count\": \"sum\"}).reset_index()\n",
    "\n",
    "ch1 = alt.Chart(prs_time, width=600).mark_line().encode(\n",
    "    x='createdAt',\n",
    "    y='count',\n",
    "    color='repo',\n",
    "    tooltip=\"repo\"\n",
    ")\n",
    "\n",
    "ch2 = alt.Chart(prs_time_total, width=600).mark_line(color=\"black\").encode(\n",
    "    x='createdAt',\n",
    "    y='count',\n",
    ")\n",
    "\n",
    "ch1 + ch2"
   ]
  },
  {
   "cell_type": "code",
   "execution_count": 15,
   "id": "27d2fe5f",
   "metadata": {
    "execution": {
     "iopub.execute_input": "2021-09-25T01:31:42.274854Z",
     "iopub.status.busy": "2021-09-25T01:31:42.274256Z",
     "iopub.status.idle": "2021-09-25T01:31:42.319873Z",
     "shell.execute_reply": "2021-09-25T01:31:42.320353Z"
    },
    "papermill": {
     "duration": 0.072706,
     "end_time": "2021-09-25T01:31:42.320537",
     "exception": false,
     "start_time": "2021-09-25T01:31:42.247831",
     "status": "completed"
    },
    "tags": [
     "hide_input"
    ]
   },
   "outputs": [
    {
     "data": {
      "text/html": [
       "\n",
       "<div id=\"altair-viz-5cd521bee91c4b169efdbe74cf559311\"></div>\n",
       "<script type=\"text/javascript\">\n",
       "  (function(spec, embedOpt){\n",
       "    let outputDiv = document.currentScript.previousElementSibling;\n",
       "    if (outputDiv.id !== \"altair-viz-5cd521bee91c4b169efdbe74cf559311\") {\n",
       "      outputDiv = document.getElementById(\"altair-viz-5cd521bee91c4b169efdbe74cf559311\");\n",
       "    }\n",
       "    const paths = {\n",
       "      \"vega\": \"https://cdn.jsdelivr.net/npm//vega@5?noext\",\n",
       "      \"vega-lib\": \"https://cdn.jsdelivr.net/npm//vega-lib?noext\",\n",
       "      \"vega-lite\": \"https://cdn.jsdelivr.net/npm//vega-lite@4.8.1?noext\",\n",
       "      \"vega-embed\": \"https://cdn.jsdelivr.net/npm//vega-embed@6?noext\",\n",
       "    };\n",
       "\n",
       "    function loadScript(lib) {\n",
       "      return new Promise(function(resolve, reject) {\n",
       "        var s = document.createElement('script');\n",
       "        s.src = paths[lib];\n",
       "        s.async = true;\n",
       "        s.onload = () => resolve(paths[lib]);\n",
       "        s.onerror = () => reject(`Error loading script: ${paths[lib]}`);\n",
       "        document.getElementsByTagName(\"head\")[0].appendChild(s);\n",
       "      });\n",
       "    }\n",
       "\n",
       "    function showError(err) {\n",
       "      outputDiv.innerHTML = `<div class=\"error\" style=\"color:red;\">${err}</div>`;\n",
       "      throw err;\n",
       "    }\n",
       "\n",
       "    function displayChart(vegaEmbed) {\n",
       "      vegaEmbed(outputDiv, spec, embedOpt)\n",
       "        .catch(err => showError(`Javascript Error: ${err.message}<br>This usually means there's a typo in your chart specification. See the javascript console for the full traceback.`));\n",
       "    }\n",
       "\n",
       "    if(typeof define === \"function\" && define.amd) {\n",
       "      requirejs.config({paths});\n",
       "      require([\"vega-embed\"], displayChart, err => showError(`Error loading script: ${err.message}`));\n",
       "    } else if (typeof vegaEmbed === \"function\") {\n",
       "      displayChart(vegaEmbed);\n",
       "    } else {\n",
       "      loadScript(\"vega\")\n",
       "        .then(() => loadScript(\"vega-lite\"))\n",
       "        .then(() => loadScript(\"vega-embed\"))\n",
       "        .catch(showError)\n",
       "        .then(() => displayChart(vegaEmbed));\n",
       "    }\n",
       "  })({\"config\": {\"axisLeft\": {\"labelFontSize\": 15}, \"axisBottom\": {\"labelFontSize\": 15}}, \"data\": {\"name\": \"data-f9e59f5f200c83225cd59174ab228f37\"}, \"mark\": \"line\", \"encoding\": {\"color\": {\"type\": \"nominal\", \"field\": \"repo\"}, \"tooltip\": {\"type\": \"nominal\", \"field\": \"repo\"}, \"x\": {\"type\": \"temporal\", \"field\": \"closedAt\"}, \"y\": {\"type\": \"quantitative\", \"field\": \"count\"}}, \"width\": 600, \"$schema\": \"https://vega.github.io/schema/vega-lite/v4.8.1.json\", \"datasets\": {\"data-f9e59f5f200c83225cd59174ab228f37\": [{\"repo\": \"MyST-NB\", \"closedAt\": \"2021-08-29T00:00:00\", \"count\": 1}, {\"repo\": \"MyST-NB\", \"closedAt\": \"2021-09-05T00:00:00\", \"count\": 2}, {\"repo\": \"jupyter-book\", \"closedAt\": \"2021-08-29T00:00:00\", \"count\": 2}, {\"repo\": \"meta\", \"closedAt\": \"2021-08-01T00:00:00\", \"count\": 1}, {\"repo\": \"sloan_grant_administration\", \"closedAt\": \"2021-09-26T00:00:00\", \"count\": 1}, {\"repo\": \"sphinx-book-theme\", \"closedAt\": \"2021-09-26T00:00:00\", \"count\": 1}]}}, {\"mode\": \"vega-lite\"});\n",
       "</script>"
      ],
      "text/plain": [
       "alt.Chart(...)"
      ]
     },
     "execution_count": 15,
     "metadata": {},
     "output_type": "execute_result"
    }
   ],
   "source": [
    "closed_by_time = closed_by.groupby('repo').resample('W', on='closedAt').count()['author'].reset_index()\n",
    "closed_by_time = closed_by_time.rename(columns={'author': 'count'})\n",
    "\n",
    "alt.Chart(closed_by_time, width=600).mark_line().encode(\n",
    "    x='closedAt',\n",
    "    y='count',\n",
    "    color='repo',\n",
    "    tooltip=\"repo\"\n",
    ")"
   ]
  },
  {
   "cell_type": "markdown",
   "id": "5bfb231e",
   "metadata": {
    "papermill": {
     "duration": 0.01785,
     "end_time": "2021-09-25T01:31:42.356661",
     "exception": false,
     "start_time": "2021-09-25T01:31:42.338811",
     "status": "completed"
    },
    "tags": []
   },
   "source": [
    "## By type over time"
   ]
  },
  {
   "cell_type": "code",
   "execution_count": 16,
   "id": "f61999e2",
   "metadata": {
    "execution": {
     "iopub.execute_input": "2021-09-25T01:31:42.417792Z",
     "iopub.status.busy": "2021-09-25T01:31:42.417149Z",
     "iopub.status.idle": "2021-09-25T01:31:42.419814Z",
     "shell.execute_reply": "2021-09-25T01:31:42.419319Z"
    },
    "papermill": {
     "duration": 0.044272,
     "end_time": "2021-09-25T01:31:42.419966",
     "exception": false,
     "start_time": "2021-09-25T01:31:42.375694",
     "status": "completed"
    },
    "tags": [
     "remove_cell"
    ]
   },
   "outputs": [],
   "source": [
    "prs_time = prs[['author', 'createdAt']].resample('W', on='createdAt').count()['author'].reset_index()\n",
    "prs_time = prs_time.rename(columns={'author': 'prs'})\n",
    "comments_time = comments[['author', 'createdAt']].resample('W', on='createdAt').count()['author'].reset_index()\n",
    "comments_time = comments_time.rename(columns={'author': 'comments'})\n",
    "\n",
    "total_time = pd.merge(prs_time, comments_time, on='createdAt', how='outer')\n",
    "total_time = total_time.melt(id_vars='createdAt', var_name=\"kind\", value_name=\"count\")\n"
   ]
  },
  {
   "cell_type": "code",
   "execution_count": 17,
   "id": "e52d9991",
   "metadata": {
    "execution": {
     "iopub.execute_input": "2021-09-25T01:31:42.469394Z",
     "iopub.status.busy": "2021-09-25T01:31:42.464113Z",
     "iopub.status.idle": "2021-09-25T01:31:42.485954Z",
     "shell.execute_reply": "2021-09-25T01:31:42.485066Z"
    },
    "papermill": {
     "duration": 0.047988,
     "end_time": "2021-09-25T01:31:42.486106",
     "exception": false,
     "start_time": "2021-09-25T01:31:42.438118",
     "status": "completed"
    },
    "tags": [
     "hide_input"
    ]
   },
   "outputs": [
    {
     "data": {
      "text/html": [
       "\n",
       "<div id=\"altair-viz-8f301c1940ed4a579b8713b21ae76e3e\"></div>\n",
       "<script type=\"text/javascript\">\n",
       "  (function(spec, embedOpt){\n",
       "    let outputDiv = document.currentScript.previousElementSibling;\n",
       "    if (outputDiv.id !== \"altair-viz-8f301c1940ed4a579b8713b21ae76e3e\") {\n",
       "      outputDiv = document.getElementById(\"altair-viz-8f301c1940ed4a579b8713b21ae76e3e\");\n",
       "    }\n",
       "    const paths = {\n",
       "      \"vega\": \"https://cdn.jsdelivr.net/npm//vega@5?noext\",\n",
       "      \"vega-lib\": \"https://cdn.jsdelivr.net/npm//vega-lib?noext\",\n",
       "      \"vega-lite\": \"https://cdn.jsdelivr.net/npm//vega-lite@4.8.1?noext\",\n",
       "      \"vega-embed\": \"https://cdn.jsdelivr.net/npm//vega-embed@6?noext\",\n",
       "    };\n",
       "\n",
       "    function loadScript(lib) {\n",
       "      return new Promise(function(resolve, reject) {\n",
       "        var s = document.createElement('script');\n",
       "        s.src = paths[lib];\n",
       "        s.async = true;\n",
       "        s.onload = () => resolve(paths[lib]);\n",
       "        s.onerror = () => reject(`Error loading script: ${paths[lib]}`);\n",
       "        document.getElementsByTagName(\"head\")[0].appendChild(s);\n",
       "      });\n",
       "    }\n",
       "\n",
       "    function showError(err) {\n",
       "      outputDiv.innerHTML = `<div class=\"error\" style=\"color:red;\">${err}</div>`;\n",
       "      throw err;\n",
       "    }\n",
       "\n",
       "    function displayChart(vegaEmbed) {\n",
       "      vegaEmbed(outputDiv, spec, embedOpt)\n",
       "        .catch(err => showError(`Javascript Error: ${err.message}<br>This usually means there's a typo in your chart specification. See the javascript console for the full traceback.`));\n",
       "    }\n",
       "\n",
       "    if(typeof define === \"function\" && define.amd) {\n",
       "      requirejs.config({paths});\n",
       "      require([\"vega-embed\"], displayChart, err => showError(`Error loading script: ${err.message}`));\n",
       "    } else if (typeof vegaEmbed === \"function\") {\n",
       "      displayChart(vegaEmbed);\n",
       "    } else {\n",
       "      loadScript(\"vega\")\n",
       "        .then(() => loadScript(\"vega-lite\"))\n",
       "        .then(() => loadScript(\"vega-embed\"))\n",
       "        .catch(showError)\n",
       "        .then(() => displayChart(vegaEmbed));\n",
       "    }\n",
       "  })({\"config\": {\"axisLeft\": {\"labelFontSize\": 15}, \"axisBottom\": {\"labelFontSize\": 15}}, \"data\": {\"name\": \"data-ac49dadf6f8d28eb0b641270f9293c5f\"}, \"mark\": \"line\", \"encoding\": {\"color\": {\"type\": \"nominal\", \"field\": \"kind\"}, \"x\": {\"type\": \"temporal\", \"field\": \"createdAt\"}, \"y\": {\"type\": \"quantitative\", \"field\": \"count\"}}, \"width\": 600, \"$schema\": \"https://vega.github.io/schema/vega-lite/v4.8.1.json\", \"datasets\": {\"data-ac49dadf6f8d28eb0b641270f9293c5f\": [{\"createdAt\": \"2021-07-25T00:00:00\", \"kind\": \"prs\", \"count\": 1.0}, {\"createdAt\": \"2021-08-01T00:00:00\", \"kind\": \"prs\", \"count\": 0.0}, {\"createdAt\": \"2021-08-08T00:00:00\", \"kind\": \"prs\", \"count\": 1.0}, {\"createdAt\": \"2021-08-15T00:00:00\", \"kind\": \"prs\", \"count\": 2.0}, {\"createdAt\": \"2021-08-22T00:00:00\", \"kind\": \"prs\", \"count\": 0.0}, {\"createdAt\": \"2021-08-29T00:00:00\", \"kind\": \"prs\", \"count\": 5.0}, {\"createdAt\": \"2021-09-05T00:00:00\", \"kind\": \"prs\", \"count\": 3.0}, {\"createdAt\": \"2021-09-12T00:00:00\", \"kind\": \"prs\", \"count\": 1.0}, {\"createdAt\": \"2021-09-19T00:00:00\", \"kind\": \"prs\", \"count\": 1.0}, {\"createdAt\": \"2021-09-26T00:00:00\", \"kind\": \"prs\", \"count\": 2.0}, {\"createdAt\": \"2021-07-25T00:00:00\", \"kind\": \"comments\", \"count\": null}, {\"createdAt\": \"2021-08-01T00:00:00\", \"kind\": \"comments\", \"count\": 2.0}, {\"createdAt\": \"2021-08-08T00:00:00\", \"kind\": \"comments\", \"count\": 10.0}, {\"createdAt\": \"2021-08-15T00:00:00\", \"kind\": \"comments\", \"count\": 11.0}, {\"createdAt\": \"2021-08-22T00:00:00\", \"kind\": \"comments\", \"count\": 3.0}, {\"createdAt\": \"2021-08-29T00:00:00\", \"kind\": \"comments\", \"count\": 18.0}, {\"createdAt\": \"2021-09-05T00:00:00\", \"kind\": \"comments\", \"count\": 26.0}, {\"createdAt\": \"2021-09-12T00:00:00\", \"kind\": \"comments\", \"count\": 2.0}, {\"createdAt\": \"2021-09-19T00:00:00\", \"kind\": \"comments\", \"count\": 2.0}, {\"createdAt\": \"2021-09-26T00:00:00\", \"kind\": \"comments\", \"count\": 9.0}]}}, {\"mode\": \"vega-lite\"});\n",
       "</script>"
      ],
      "text/plain": [
       "alt.Chart(...)"
      ]
     },
     "execution_count": 17,
     "metadata": {},
     "output_type": "execute_result"
    }
   ],
   "source": [
    "alt.Chart(total_time, width=600).mark_line().encode(\n",
    "    x='createdAt',\n",
    "    y='count',\n",
    "    color='kind'\n",
    ")"
   ]
  }
 ],
 "metadata": {
  "kernelspec": {
   "display_name": "Python 3",
   "language": "python",
   "name": "python3"
  },
  "language_info": {
   "codemirror_mode": {
    "name": "ipython",
    "version": 3
   },
   "file_extension": ".py",
   "mimetype": "text/x-python",
   "name": "python",
   "nbconvert_exporter": "python",
   "pygments_lexer": "ipython3",
   "version": "3.7.12"
  },
  "papermill": {
   "default_parameters": {},
   "duration": 3.855391,
   "end_time": "2021-09-25T01:31:42.816918",
   "environment_variables": {},
   "exception": null,
   "input_path": "./person.ipynb",
   "output_path": "people/mmcky.ipynb",
   "parameters": {
    "n_days": 60,
    "person": "mmcky"
   },
   "start_time": "2021-09-25T01:31:38.961527",
   "version": "2.3.3"
  },
  "widgets": {
   "application/vnd.jupyter.widget-state+json": {
    "state": {},
    "version_major": 2,
    "version_minor": 0
   }
  }
 },
 "nbformat": 4,
 "nbformat_minor": 5
}