{
 "cells": [
  {
   "cell_type": "markdown",
   "id": "f93cdadd",
   "metadata": {
    "papermill": {
     "duration": 0.016486,
     "end_time": "2021-11-03T01:33:49.304689",
     "exception": false,
     "start_time": "2021-11-03T01:33:49.288203",
     "status": "completed"
    },
    "tags": []
   },
   "source": [
    "# Report for mmcky"
   ]
  },
  {
   "cell_type": "code",
   "execution_count": 1,
   "id": "a38b2fa4",
   "metadata": {
    "execution": {
     "iopub.execute_input": "2021-11-03T01:33:49.343512Z",
     "iopub.status.busy": "2021-11-03T01:33:49.342967Z",
     "iopub.status.idle": "2021-11-03T01:33:50.311903Z",
     "shell.execute_reply": "2021-11-03T01:33:50.312421Z"
    },
    "papermill": {
     "duration": 0.993069,
     "end_time": "2021-11-03T01:33:50.312719",
     "exception": false,
     "start_time": "2021-11-03T01:33:49.319650",
     "status": "completed"
    },
    "tags": [
     "remove_cell"
    ]
   },
   "outputs": [],
   "source": [
    "import seaborn as sns\n",
    "import pandas as pd\n",
    "import numpy as np\n",
    "import altair as alt\n",
    "from markdown import markdown\n",
    "from IPython.display import Markdown\n",
    "from ipywidgets.widgets import HTML, Tab\n",
    "from ipywidgets import widgets\n",
    "from datetime import timedelta\n",
    "from matplotlib import pyplot as plt\n",
    "import os.path as op\n",
    "\n",
    "from mycode import alt_theme\n",
    "from warnings import simplefilter\n",
    "simplefilter('ignore')"
   ]
  },
  {
   "cell_type": "code",
   "execution_count": 2,
   "id": "859a69a4",
   "metadata": {
    "execution": {
     "iopub.execute_input": "2021-11-03T01:33:50.347701Z",
     "iopub.status.busy": "2021-11-03T01:33:50.346484Z",
     "iopub.status.idle": "2021-11-03T01:33:50.348281Z",
     "shell.execute_reply": "2021-11-03T01:33:50.348678Z"
    },
    "papermill": {
     "duration": 0.021334,
     "end_time": "2021-11-03T01:33:50.348830",
     "exception": false,
     "start_time": "2021-11-03T01:33:50.327496",
     "status": "completed"
    },
    "tags": [
     "remove_cell"
    ]
   },
   "outputs": [],
   "source": [
    "def author_url(author):\n",
    "    return f\"https://github.com/{author}\""
   ]
  },
  {
   "cell_type": "code",
   "execution_count": 3,
   "id": "8f1166db",
   "metadata": {
    "execution": {
     "iopub.execute_input": "2021-11-03T01:33:50.379557Z",
     "iopub.status.busy": "2021-11-03T01:33:50.379041Z",
     "iopub.status.idle": "2021-11-03T01:33:50.381550Z",
     "shell.execute_reply": "2021-11-03T01:33:50.381138Z"
    },
    "papermill": {
     "duration": 0.019935,
     "end_time": "2021-11-03T01:33:50.381699",
     "exception": false,
     "start_time": "2021-11-03T01:33:50.361764",
     "status": "completed"
    },
    "tags": [
     "parameters",
     "hide_input"
    ]
   },
   "outputs": [],
   "source": [
    "# Parameters\n",
    "fmt_date = \"{:%Y-%m-%d}\"\n",
    "\n",
    "n_days = 30 * 2\n",
    "start_date = fmt_date.format(pd.datetime.today() - timedelta(days=n_days))\n",
    "end_date = fmt_date.format(pd.datetime.today())\n",
    "\n",
    "renderer = \"html\"\n",
    "person = \"jasongrout\""
   ]
  },
  {
   "cell_type": "code",
   "execution_count": 4,
   "id": "b17ed80a",
   "metadata": {
    "execution": {
     "iopub.execute_input": "2021-11-03T01:33:50.412263Z",
     "iopub.status.busy": "2021-11-03T01:33:50.411728Z",
     "iopub.status.idle": "2021-11-03T01:33:50.413368Z",
     "shell.execute_reply": "2021-11-03T01:33:50.413774Z"
    },
    "papermill": {
     "duration": 0.019202,
     "end_time": "2021-11-03T01:33:50.413926",
     "exception": false,
     "start_time": "2021-11-03T01:33:50.394724",
     "status": "completed"
    },
    "tags": [
     "injected-parameters",
     "remove-cell"
    ]
   },
   "outputs": [],
   "source": [
    "# Parameters\n",
    "person = \"mmcky\"\n",
    "n_days = 90\n"
   ]
  },
  {
   "cell_type": "code",
   "execution_count": 5,
   "id": "68afdb8e",
   "metadata": {
    "execution": {
     "iopub.execute_input": "2021-11-03T01:33:50.445594Z",
     "iopub.status.busy": "2021-11-03T01:33:50.445076Z",
     "iopub.status.idle": "2021-11-03T01:33:50.452238Z",
     "shell.execute_reply": "2021-11-03T01:33:50.451811Z"
    },
    "papermill": {
     "duration": 0.02416,
     "end_time": "2021-11-03T01:33:50.452375",
     "exception": false,
     "start_time": "2021-11-03T01:33:50.428215",
     "status": "completed"
    },
    "tags": [
     "remove_cell"
    ]
   },
   "outputs": [
    {
     "data": {
      "text/plain": [
       "ThemeRegistry.enable('my_theme')"
      ]
     },
     "execution_count": 5,
     "metadata": {},
     "output_type": "execute_result"
    }
   ],
   "source": [
    "alt.renderers.enable(renderer);\n",
    "alt.themes.register('my_theme', alt_theme)\n",
    "alt.themes.enable(\"my_theme\")"
   ]
  },
  {
   "cell_type": "markdown",
   "id": "e9da11b2",
   "metadata": {
    "papermill": {
     "duration": 0.013406,
     "end_time": "2021-11-03T01:33:50.479333",
     "exception": false,
     "start_time": "2021-11-03T01:33:50.465927",
     "status": "completed"
    },
    "tags": []
   },
   "source": [
    "## Load data"
   ]
  },
  {
   "cell_type": "code",
   "execution_count": 6,
   "id": "6be15e2f",
   "metadata": {
    "execution": {
     "iopub.execute_input": "2021-11-03T01:33:50.513210Z",
     "iopub.status.busy": "2021-11-03T01:33:50.512672Z",
     "iopub.status.idle": "2021-11-03T01:33:50.622129Z",
     "shell.execute_reply": "2021-11-03T01:33:50.621549Z"
    },
    "papermill": {
     "duration": 0.129552,
     "end_time": "2021-11-03T01:33:50.622298",
     "exception": false,
     "start_time": "2021-11-03T01:33:50.492746",
     "status": "completed"
    },
    "tags": [
     "remove_cell"
    ]
   },
   "outputs": [],
   "source": [
    "from pathlib import Path\n",
    "path_data = Path(\"./\")\n",
    "comments = pd.read_csv(path_data.joinpath('../data/comments.csv'), index_col=0)\n",
    "issues = pd.read_csv(path_data.joinpath('../data/issues.csv'), index_col=0)\n",
    "prs = pd.read_csv(path_data.joinpath('../data/prs.csv'), index_col=0)\n",
    "\n",
    "comments = comments.query('author == @person').drop_duplicates()\n",
    "issues = issues.query('author == @person').drop_duplicates()\n",
    "closed_by = prs.query('mergedBy == @person')\n",
    "prs = prs.query('author == @person').drop_duplicates()"
   ]
  },
  {
   "cell_type": "code",
   "execution_count": 7,
   "id": "f757282c",
   "metadata": {
    "execution": {
     "iopub.execute_input": "2021-11-03T01:33:50.689521Z",
     "iopub.status.busy": "2021-11-03T01:33:50.656346Z",
     "iopub.status.idle": "2021-11-03T01:33:50.702322Z",
     "shell.execute_reply": "2021-11-03T01:33:50.702728Z"
    },
    "papermill": {
     "duration": 0.06461,
     "end_time": "2021-11-03T01:33:50.702919",
     "exception": false,
     "start_time": "2021-11-03T01:33:50.638309",
     "status": "completed"
    },
    "tags": [
     "remove_cell"
    ]
   },
   "outputs": [],
   "source": [
    "# Time columns\n",
    "# Also drop dates outside of our range\n",
    "time_columns = ['updatedAt', 'createdAt', 'closedAt']\n",
    "for col in time_columns:\n",
    "    for item in [comments, issues, prs, closed_by]:\n",
    "        if col not in item.columns:\n",
    "            continue\n",
    "        dt = pd.to_datetime(item[col]).dt.tz_localize(None)\n",
    "        item[col] = dt\n",
    "        item.query(\"updatedAt < @end_date and updatedAt > @start_date\", inplace=True)"
   ]
  },
  {
   "cell_type": "markdown",
   "id": "bc1e9960",
   "metadata": {
    "papermill": {
     "duration": 0.013842,
     "end_time": "2021-11-03T01:33:50.730644",
     "exception": false,
     "start_time": "2021-11-03T01:33:50.716802",
     "status": "completed"
    },
    "tags": []
   },
   "source": [
    "## Repository summaries"
   ]
  },
  {
   "cell_type": "code",
   "execution_count": 8,
   "id": "e0183a1b",
   "metadata": {
    "execution": {
     "iopub.execute_input": "2021-11-03T01:33:50.771528Z",
     "iopub.status.busy": "2021-11-03T01:33:50.770996Z",
     "iopub.status.idle": "2021-11-03T01:33:50.779933Z",
     "shell.execute_reply": "2021-11-03T01:33:50.780383Z"
    },
    "papermill": {
     "duration": 0.034762,
     "end_time": "2021-11-03T01:33:50.780555",
     "exception": false,
     "start_time": "2021-11-03T01:33:50.745793",
     "status": "completed"
    },
    "tags": [
     "remove_cell"
    ]
   },
   "outputs": [],
   "source": [
    "summaries = []\n",
    "for idata, name in [(issues, 'issues'), (prs, 'prs'), (comments, 'comments')]:\n",
    "    idata = idata.groupby([\"repo\", \"org\"]).agg({'id': \"count\"}).reset_index().rename(columns={'id': 'count'})\n",
    "    idata[\"kind\"] = name\n",
    "    summaries.append(idata)\n",
    "summaries = pd.concat(summaries)"
   ]
  },
  {
   "cell_type": "code",
   "execution_count": 9,
   "id": "2a52ab2b",
   "metadata": {
    "execution": {
     "iopub.execute_input": "2021-11-03T01:33:50.813993Z",
     "iopub.status.busy": "2021-11-03T01:33:50.813474Z",
     "iopub.status.idle": "2021-11-03T01:33:50.820489Z",
     "shell.execute_reply": "2021-11-03T01:33:50.820872Z"
    },
    "papermill": {
     "duration": 0.026732,
     "end_time": "2021-11-03T01:33:50.821039",
     "exception": false,
     "start_time": "2021-11-03T01:33:50.794307",
     "status": "completed"
    },
    "tags": [
     "remove_cell"
    ]
   },
   "outputs": [],
   "source": [
    "repo_summaries = summaries.groupby([\"repo\", \"kind\"]).agg({\"count\": \"sum\"}).reset_index()\n",
    "org_summaries = summaries.groupby([\"org\", \"kind\"]).agg({\"count\": \"sum\"}).reset_index()"
   ]
  },
  {
   "cell_type": "code",
   "execution_count": 10,
   "id": "ba4c65cf",
   "metadata": {
    "execution": {
     "iopub.execute_input": "2021-11-03T01:33:50.854453Z",
     "iopub.status.busy": "2021-11-03T01:33:50.853940Z",
     "iopub.status.idle": "2021-11-03T01:33:50.856344Z",
     "shell.execute_reply": "2021-11-03T01:33:50.855911Z"
    },
    "papermill": {
     "duration": 0.021562,
     "end_time": "2021-11-03T01:33:50.856480",
     "exception": false,
     "start_time": "2021-11-03T01:33:50.834918",
     "status": "completed"
    },
    "tags": [
     "remove_cell"
    ]
   },
   "outputs": [],
   "source": [
    "repo_summaries['logcount'] = np.log(repo_summaries[\"count\"])"
   ]
  },
  {
   "cell_type": "code",
   "execution_count": 11,
   "id": "074dd319",
   "metadata": {
    "execution": {
     "iopub.execute_input": "2021-11-03T01:33:50.889939Z",
     "iopub.status.busy": "2021-11-03T01:33:50.889355Z",
     "iopub.status.idle": "2021-11-03T01:33:50.936904Z",
     "shell.execute_reply": "2021-11-03T01:33:50.937379Z"
    },
    "papermill": {
     "duration": 0.066005,
     "end_time": "2021-11-03T01:33:50.937572",
     "exception": false,
     "start_time": "2021-11-03T01:33:50.871567",
     "status": "completed"
    },
    "tags": [
     "hide_input"
    ]
   },
   "outputs": [
    {
     "data": {
      "text/html": [
       "\n",
       "<div id=\"altair-viz-d2c761000f124d5398c14263b882a4e5\"></div>\n",
       "<script type=\"text/javascript\">\n",
       "  (function(spec, embedOpt){\n",
       "    let outputDiv = document.currentScript.previousElementSibling;\n",
       "    if (outputDiv.id !== \"altair-viz-d2c761000f124d5398c14263b882a4e5\") {\n",
       "      outputDiv = document.getElementById(\"altair-viz-d2c761000f124d5398c14263b882a4e5\");\n",
       "    }\n",
       "    const paths = {\n",
       "      \"vega\": \"https://cdn.jsdelivr.net/npm//vega@5?noext\",\n",
       "      \"vega-lib\": \"https://cdn.jsdelivr.net/npm//vega-lib?noext\",\n",
       "      \"vega-lite\": \"https://cdn.jsdelivr.net/npm//vega-lite@4.8.1?noext\",\n",
       "      \"vega-embed\": \"https://cdn.jsdelivr.net/npm//vega-embed@6?noext\",\n",
       "    };\n",
       "\n",
       "    function loadScript(lib) {\n",
       "      return new Promise(function(resolve, reject) {\n",
       "        var s = document.createElement('script');\n",
       "        s.src = paths[lib];\n",
       "        s.async = true;\n",
       "        s.onload = () => resolve(paths[lib]);\n",
       "        s.onerror = () => reject(`Error loading script: ${paths[lib]}`);\n",
       "        document.getElementsByTagName(\"head\")[0].appendChild(s);\n",
       "      });\n",
       "    }\n",
       "\n",
       "    function showError(err) {\n",
       "      outputDiv.innerHTML = `<div class=\"error\" style=\"color:red;\">${err}</div>`;\n",
       "      throw err;\n",
       "    }\n",
       "\n",
       "    function displayChart(vegaEmbed) {\n",
       "      vegaEmbed(outputDiv, spec, embedOpt)\n",
       "        .catch(err => showError(`Javascript Error: ${err.message}<br>This usually means there's a typo in your chart specification. See the javascript console for the full traceback.`));\n",
       "    }\n",
       "\n",
       "    if(typeof define === \"function\" && define.amd) {\n",
       "      requirejs.config({paths});\n",
       "      require([\"vega-embed\"], displayChart, err => showError(`Error loading script: ${err.message}`));\n",
       "    } else if (typeof vegaEmbed === \"function\") {\n",
       "      displayChart(vegaEmbed);\n",
       "    } else {\n",
       "      loadScript(\"vega\")\n",
       "        .then(() => loadScript(\"vega-lite\"))\n",
       "        .then(() => loadScript(\"vega-embed\"))\n",
       "        .catch(showError)\n",
       "        .then(() => displayChart(vegaEmbed));\n",
       "    }\n",
       "  })({\"config\": {\"axisLeft\": {\"labelFontSize\": 15}, \"axisBottom\": {\"labelFontSize\": 15}}, \"hconcat\": [{\"mark\": \"bar\", \"encoding\": {\"color\": {\"type\": \"nominal\", \"field\": \"kind\"}, \"tooltip\": {\"type\": \"nominal\", \"field\": \"kind\"}, \"x\": {\"type\": \"nominal\", \"field\": \"repo\"}, \"y\": {\"type\": \"quantitative\", \"field\": \"count\"}}, \"title\": \"Activity per repository\", \"width\": 600}, {\"mark\": \"bar\", \"encoding\": {\"color\": {\"type\": \"nominal\", \"field\": \"kind\"}, \"tooltip\": {\"type\": \"nominal\", \"field\": \"kind\"}, \"x\": {\"type\": \"nominal\", \"field\": \"repo\"}, \"y\": {\"type\": \"quantitative\", \"field\": \"logcount\"}}, \"title\": \"Log activity per repository\", \"width\": 600}], \"data\": {\"name\": \"data-f448144cea69bc199eeec2aef7c5e1d3\"}, \"$schema\": \"https://vega.github.io/schema/vega-lite/v4.8.1.json\", \"datasets\": {\"data-f448144cea69bc199eeec2aef7c5e1d3\": [{\"repo\": \"MyST-NB\", \"kind\": \"comments\", \"count\": 10, \"logcount\": 2.302585092994046}, {\"repo\": \"MyST-NB\", \"kind\": \"prs\", \"count\": 2, \"logcount\": 0.6931471805599453}, {\"repo\": \"jupyter-book\", \"kind\": \"comments\", \"count\": 69, \"logcount\": 4.23410650459726}, {\"repo\": \"jupyter-book\", \"kind\": \"issues\", \"count\": 10, \"logcount\": 2.302585092994046}, {\"repo\": \"jupyter-book\", \"kind\": \"prs\", \"count\": 8, \"logcount\": 2.0794415416798357}, {\"repo\": \"meta\", \"kind\": \"comments\", \"count\": 4, \"logcount\": 1.3862943611198906}, {\"repo\": \"sloan_grant_administration\", \"kind\": \"comments\", \"count\": 2, \"logcount\": 0.6931471805599453}, {\"repo\": \"sloan_grant_administration\", \"kind\": \"prs\", \"count\": 4, \"logcount\": 1.3862943611198906}, {\"repo\": \"sphinx-book-theme\", \"kind\": \"comments\", \"count\": 7, \"logcount\": 1.9459101490553132}, {\"repo\": \"sphinx-book-theme\", \"kind\": \"issues\", \"count\": 1, \"logcount\": 0.0}, {\"repo\": \"sphinx-book-theme\", \"kind\": \"prs\", \"count\": 1, \"logcount\": 0.0}, {\"repo\": \"sphinx-exercise\", \"kind\": \"comments\", \"count\": 6, \"logcount\": 1.791759469228055}, {\"repo\": \"sphinx-exercise\", \"kind\": \"issues\", \"count\": 2, \"logcount\": 0.6931471805599453}, {\"repo\": \"sphinx-exercise\", \"kind\": \"prs\", \"count\": 2, \"logcount\": 0.6931471805599453}, {\"repo\": \"sphinx-jupyterbook-latex\", \"kind\": \"comments\", \"count\": 18, \"logcount\": 2.8903717578961645}, {\"repo\": \"sphinx-jupyterbook-latex\", \"kind\": \"issues\", \"count\": 3, \"logcount\": 1.0986122886681098}, {\"repo\": \"sphinx-jupyterbook-latex\", \"kind\": \"prs\", \"count\": 7, \"logcount\": 1.9459101490553132}]}}, {\"mode\": \"vega-lite\"});\n",
       "</script>"
      ],
      "text/plain": [
       "alt.HConcatChart(...)"
      ]
     },
     "execution_count": 11,
     "metadata": {},
     "output_type": "execute_result"
    }
   ],
   "source": [
    "ch1 = alt.Chart(repo_summaries, width=600, title=\"Activity per repository\").mark_bar().encode(\n",
    "    x='repo',\n",
    "    y='count',\n",
    "    color='kind',\n",
    "    tooltip=\"kind\"\n",
    ")\n",
    "\n",
    "ch2 = alt.Chart(repo_summaries, width=600, title=\"Log activity per repository\").mark_bar().encode(\n",
    "    x='repo',\n",
    "    y='logcount',\n",
    "    color='kind',\n",
    "    tooltip=\"kind\"\n",
    ")\n",
    "\n",
    "ch1 | ch2"
   ]
  },
  {
   "cell_type": "code",
   "execution_count": 12,
   "id": "44ebd124",
   "metadata": {
    "execution": {
     "iopub.execute_input": "2021-11-03T01:33:50.993209Z",
     "iopub.status.busy": "2021-11-03T01:33:50.980011Z",
     "iopub.status.idle": "2021-11-03T01:33:50.997755Z",
     "shell.execute_reply": "2021-11-03T01:33:50.997278Z"
    },
    "papermill": {
     "duration": 0.045199,
     "end_time": "2021-11-03T01:33:50.997895",
     "exception": false,
     "start_time": "2021-11-03T01:33:50.952696",
     "status": "completed"
    },
    "tags": [
     "hide_input"
    ]
   },
   "outputs": [
    {
     "data": {
      "text/html": [
       "\n",
       "<div id=\"altair-viz-faedb5bf6ab848d39ac76bb235f7d00e\"></div>\n",
       "<script type=\"text/javascript\">\n",
       "  (function(spec, embedOpt){\n",
       "    let outputDiv = document.currentScript.previousElementSibling;\n",
       "    if (outputDiv.id !== \"altair-viz-faedb5bf6ab848d39ac76bb235f7d00e\") {\n",
       "      outputDiv = document.getElementById(\"altair-viz-faedb5bf6ab848d39ac76bb235f7d00e\");\n",
       "    }\n",
       "    const paths = {\n",
       "      \"vega\": \"https://cdn.jsdelivr.net/npm//vega@5?noext\",\n",
       "      \"vega-lib\": \"https://cdn.jsdelivr.net/npm//vega-lib?noext\",\n",
       "      \"vega-lite\": \"https://cdn.jsdelivr.net/npm//vega-lite@4.8.1?noext\",\n",
       "      \"vega-embed\": \"https://cdn.jsdelivr.net/npm//vega-embed@6?noext\",\n",
       "    };\n",
       "\n",
       "    function loadScript(lib) {\n",
       "      return new Promise(function(resolve, reject) {\n",
       "        var s = document.createElement('script');\n",
       "        s.src = paths[lib];\n",
       "        s.async = true;\n",
       "        s.onload = () => resolve(paths[lib]);\n",
       "        s.onerror = () => reject(`Error loading script: ${paths[lib]}`);\n",
       "        document.getElementsByTagName(\"head\")[0].appendChild(s);\n",
       "      });\n",
       "    }\n",
       "\n",
       "    function showError(err) {\n",
       "      outputDiv.innerHTML = `<div class=\"error\" style=\"color:red;\">${err}</div>`;\n",
       "      throw err;\n",
       "    }\n",
       "\n",
       "    function displayChart(vegaEmbed) {\n",
       "      vegaEmbed(outputDiv, spec, embedOpt)\n",
       "        .catch(err => showError(`Javascript Error: ${err.message}<br>This usually means there's a typo in your chart specification. See the javascript console for the full traceback.`));\n",
       "    }\n",
       "\n",
       "    if(typeof define === \"function\" && define.amd) {\n",
       "      requirejs.config({paths});\n",
       "      require([\"vega-embed\"], displayChart, err => showError(`Error loading script: ${err.message}`));\n",
       "    } else if (typeof vegaEmbed === \"function\") {\n",
       "      displayChart(vegaEmbed);\n",
       "    } else {\n",
       "      loadScript(\"vega\")\n",
       "        .then(() => loadScript(\"vega-lite\"))\n",
       "        .then(() => loadScript(\"vega-embed\"))\n",
       "        .catch(showError)\n",
       "        .then(() => displayChart(vegaEmbed));\n",
       "    }\n",
       "  })({\"config\": {\"axisLeft\": {\"labelFontSize\": 15}, \"axisBottom\": {\"labelFontSize\": 15}}, \"data\": {\"name\": \"data-9c00ec2747ca860f127cbe7bfcd0a48e\"}, \"mark\": \"bar\", \"encoding\": {\"color\": {\"type\": \"nominal\", \"field\": \"kind\"}, \"tooltip\": {\"type\": \"nominal\", \"field\": \"org\"}, \"x\": {\"type\": \"nominal\", \"field\": \"org\"}, \"y\": {\"type\": \"quantitative\", \"field\": \"count\"}}, \"width\": 600, \"$schema\": \"https://vega.github.io/schema/vega-lite/v4.8.1.json\", \"datasets\": {\"data-9c00ec2747ca860f127cbe7bfcd0a48e\": [{\"org\": \"executablebooks\", \"kind\": \"comments\", \"count\": 116}, {\"org\": \"executablebooks\", \"kind\": \"issues\", \"count\": 16}, {\"org\": \"executablebooks\", \"kind\": \"prs\", \"count\": 24}]}}, {\"mode\": \"vega-lite\"});\n",
       "</script>"
      ],
      "text/plain": [
       "alt.Chart(...)"
      ]
     },
     "execution_count": 12,
     "metadata": {},
     "output_type": "execute_result"
    }
   ],
   "source": [
    "alt.Chart(org_summaries, width=600).mark_bar().encode(\n",
    "    x='org',\n",
    "    y='count',\n",
    "    color='kind',\n",
    "    tooltip=\"org\"\n",
    ")"
   ]
  },
  {
   "cell_type": "markdown",
   "id": "51f9dfba",
   "metadata": {
    "papermill": {
     "duration": 0.015164,
     "end_time": "2021-11-03T01:33:51.029372",
     "exception": false,
     "start_time": "2021-11-03T01:33:51.014208",
     "status": "completed"
    },
    "tags": []
   },
   "source": [
    "## By repository over time"
   ]
  },
  {
   "cell_type": "markdown",
   "id": "a1d00058",
   "metadata": {
    "papermill": {
     "duration": 0.015012,
     "end_time": "2021-11-03T01:33:51.059497",
     "exception": false,
     "start_time": "2021-11-03T01:33:51.044485",
     "status": "completed"
    },
    "tags": []
   },
   "source": [
    "### Comments"
   ]
  },
  {
   "cell_type": "code",
   "execution_count": 13,
   "id": "6988aad8",
   "metadata": {
    "execution": {
     "iopub.execute_input": "2021-11-03T01:33:51.095966Z",
     "iopub.status.busy": "2021-11-03T01:33:51.095410Z",
     "iopub.status.idle": "2021-11-03T01:33:51.158016Z",
     "shell.execute_reply": "2021-11-03T01:33:51.158431Z"
    },
    "papermill": {
     "duration": 0.084152,
     "end_time": "2021-11-03T01:33:51.158615",
     "exception": false,
     "start_time": "2021-11-03T01:33:51.074463",
     "status": "completed"
    },
    "tags": [
     "hide_input"
    ]
   },
   "outputs": [
    {
     "data": {
      "text/html": [
       "\n",
       "<div id=\"altair-viz-96e55358c76b4b1dab1b1ed2528d9269\"></div>\n",
       "<script type=\"text/javascript\">\n",
       "  (function(spec, embedOpt){\n",
       "    let outputDiv = document.currentScript.previousElementSibling;\n",
       "    if (outputDiv.id !== \"altair-viz-96e55358c76b4b1dab1b1ed2528d9269\") {\n",
       "      outputDiv = document.getElementById(\"altair-viz-96e55358c76b4b1dab1b1ed2528d9269\");\n",
       "    }\n",
       "    const paths = {\n",
       "      \"vega\": \"https://cdn.jsdelivr.net/npm//vega@5?noext\",\n",
       "      \"vega-lib\": \"https://cdn.jsdelivr.net/npm//vega-lib?noext\",\n",
       "      \"vega-lite\": \"https://cdn.jsdelivr.net/npm//vega-lite@4.8.1?noext\",\n",
       "      \"vega-embed\": \"https://cdn.jsdelivr.net/npm//vega-embed@6?noext\",\n",
       "    };\n",
       "\n",
       "    function loadScript(lib) {\n",
       "      return new Promise(function(resolve, reject) {\n",
       "        var s = document.createElement('script');\n",
       "        s.src = paths[lib];\n",
       "        s.async = true;\n",
       "        s.onload = () => resolve(paths[lib]);\n",
       "        s.onerror = () => reject(`Error loading script: ${paths[lib]}`);\n",
       "        document.getElementsByTagName(\"head\")[0].appendChild(s);\n",
       "      });\n",
       "    }\n",
       "\n",
       "    function showError(err) {\n",
       "      outputDiv.innerHTML = `<div class=\"error\" style=\"color:red;\">${err}</div>`;\n",
       "      throw err;\n",
       "    }\n",
       "\n",
       "    function displayChart(vegaEmbed) {\n",
       "      vegaEmbed(outputDiv, spec, embedOpt)\n",
       "        .catch(err => showError(`Javascript Error: ${err.message}<br>This usually means there's a typo in your chart specification. See the javascript console for the full traceback.`));\n",
       "    }\n",
       "\n",
       "    if(typeof define === \"function\" && define.amd) {\n",
       "      requirejs.config({paths});\n",
       "      require([\"vega-embed\"], displayChart, err => showError(`Error loading script: ${err.message}`));\n",
       "    } else if (typeof vegaEmbed === \"function\") {\n",
       "      displayChart(vegaEmbed);\n",
       "    } else {\n",
       "      loadScript(\"vega\")\n",
       "        .then(() => loadScript(\"vega-lite\"))\n",
       "        .then(() => loadScript(\"vega-embed\"))\n",
       "        .catch(showError)\n",
       "        .then(() => displayChart(vegaEmbed));\n",
       "    }\n",
       "  })({\"config\": {\"axisLeft\": {\"labelFontSize\": 15}, \"axisBottom\": {\"labelFontSize\": 15}}, \"layer\": [{\"data\": {\"name\": \"data-0a6303b4efc6c7731c434ed2d063d4e4\"}, \"mark\": \"line\", \"encoding\": {\"color\": {\"type\": \"nominal\", \"field\": \"repo\"}, \"tooltip\": {\"type\": \"nominal\", \"field\": \"repo\"}, \"x\": {\"type\": \"temporal\", \"field\": \"createdAt\"}, \"y\": {\"type\": \"quantitative\", \"field\": \"count\"}}, \"width\": 600}, {\"data\": {\"name\": \"data-e33dc33e9d3df382769fa8b67530dbd0\"}, \"mark\": {\"type\": \"line\", \"color\": \"black\"}, \"encoding\": {\"x\": {\"type\": \"temporal\", \"field\": \"createdAt\"}, \"y\": {\"type\": \"quantitative\", \"field\": \"count\"}}, \"width\": 600}], \"$schema\": \"https://vega.github.io/schema/vega-lite/v4.8.1.json\", \"datasets\": {\"data-0a6303b4efc6c7731c434ed2d063d4e4\": [{\"repo\": \"MyST-NB\", \"createdAt\": \"2021-10-17T00:00:00\", \"count\": 3}, {\"repo\": \"MyST-NB\", \"createdAt\": \"2021-10-24T00:00:00\", \"count\": 2}, {\"repo\": \"MyST-NB\", \"createdAt\": \"2021-10-31T00:00:00\", \"count\": 5}, {\"repo\": \"jupyter-book\", \"createdAt\": \"2021-09-05T00:00:00\", \"count\": 1}, {\"repo\": \"jupyter-book\", \"createdAt\": \"2021-09-12T00:00:00\", \"count\": 1}, {\"repo\": \"jupyter-book\", \"createdAt\": \"2021-09-19T00:00:00\", \"count\": 0}, {\"repo\": \"jupyter-book\", \"createdAt\": \"2021-09-26T00:00:00\", \"count\": 3}, {\"repo\": \"jupyter-book\", \"createdAt\": \"2021-10-03T00:00:00\", \"count\": 3}, {\"repo\": \"jupyter-book\", \"createdAt\": \"2021-10-10T00:00:00\", \"count\": 5}, {\"repo\": \"jupyter-book\", \"createdAt\": \"2021-10-17T00:00:00\", \"count\": 42}, {\"repo\": \"jupyter-book\", \"createdAt\": \"2021-10-24T00:00:00\", \"count\": 11}, {\"repo\": \"jupyter-book\", \"createdAt\": \"2021-10-31T00:00:00\", \"count\": 3}, {\"repo\": \"meta\", \"createdAt\": \"2021-09-26T00:00:00\", \"count\": 1}, {\"repo\": \"meta\", \"createdAt\": \"2021-10-03T00:00:00\", \"count\": 1}, {\"repo\": \"meta\", \"createdAt\": \"2021-10-10T00:00:00\", \"count\": 1}, {\"repo\": \"meta\", \"createdAt\": \"2021-10-17T00:00:00\", \"count\": 0}, {\"repo\": \"meta\", \"createdAt\": \"2021-10-24T00:00:00\", \"count\": 0}, {\"repo\": \"meta\", \"createdAt\": \"2021-10-31T00:00:00\", \"count\": 1}, {\"repo\": \"sloan_grant_administration\", \"createdAt\": \"2021-10-10T00:00:00\", \"count\": 2}, {\"repo\": \"sphinx-book-theme\", \"createdAt\": \"2021-09-05T00:00:00\", \"count\": 2}, {\"repo\": \"sphinx-book-theme\", \"createdAt\": \"2021-09-12T00:00:00\", \"count\": 1}, {\"repo\": \"sphinx-book-theme\", \"createdAt\": \"2021-09-19T00:00:00\", \"count\": 1}, {\"repo\": \"sphinx-book-theme\", \"createdAt\": \"2021-09-26T00:00:00\", \"count\": 0}, {\"repo\": \"sphinx-book-theme\", \"createdAt\": \"2021-10-03T00:00:00\", \"count\": 0}, {\"repo\": \"sphinx-book-theme\", \"createdAt\": \"2021-10-10T00:00:00\", \"count\": 0}, {\"repo\": \"sphinx-book-theme\", \"createdAt\": \"2021-10-17T00:00:00\", \"count\": 0}, {\"repo\": \"sphinx-book-theme\", \"createdAt\": \"2021-10-24T00:00:00\", \"count\": 0}, {\"repo\": \"sphinx-book-theme\", \"createdAt\": \"2021-10-31T00:00:00\", \"count\": 3}, {\"repo\": \"sphinx-exercise\", \"createdAt\": \"2021-09-19T00:00:00\", \"count\": 1}, {\"repo\": \"sphinx-exercise\", \"createdAt\": \"2021-09-26T00:00:00\", \"count\": 1}, {\"repo\": \"sphinx-exercise\", \"createdAt\": \"2021-10-03T00:00:00\", \"count\": 2}, {\"repo\": \"sphinx-exercise\", \"createdAt\": \"2021-10-10T00:00:00\", \"count\": 1}, {\"repo\": \"sphinx-exercise\", \"createdAt\": \"2021-10-17T00:00:00\", \"count\": 0}, {\"repo\": \"sphinx-exercise\", \"createdAt\": \"2021-10-24T00:00:00\", \"count\": 0}, {\"repo\": \"sphinx-exercise\", \"createdAt\": \"2021-10-31T00:00:00\", \"count\": 0}, {\"repo\": \"sphinx-exercise\", \"createdAt\": \"2021-11-07T00:00:00\", \"count\": 1}, {\"repo\": \"sphinx-jupyterbook-latex\", \"createdAt\": \"2021-09-26T00:00:00\", \"count\": 4}, {\"repo\": \"sphinx-jupyterbook-latex\", \"createdAt\": \"2021-10-03T00:00:00\", \"count\": 1}, {\"repo\": \"sphinx-jupyterbook-latex\", \"createdAt\": \"2021-10-10T00:00:00\", \"count\": 2}, {\"repo\": \"sphinx-jupyterbook-latex\", \"createdAt\": \"2021-10-17T00:00:00\", \"count\": 0}, {\"repo\": \"sphinx-jupyterbook-latex\", \"createdAt\": \"2021-10-24T00:00:00\", \"count\": 1}, {\"repo\": \"sphinx-jupyterbook-latex\", \"createdAt\": \"2021-10-31T00:00:00\", \"count\": 2}, {\"repo\": \"sphinx-jupyterbook-latex\", \"createdAt\": \"2021-11-07T00:00:00\", \"count\": 8}], \"data-e33dc33e9d3df382769fa8b67530dbd0\": [{\"createdAt\": \"2021-09-05T00:00:00\", \"count\": 3}, {\"createdAt\": \"2021-09-12T00:00:00\", \"count\": 2}, {\"createdAt\": \"2021-09-19T00:00:00\", \"count\": 2}, {\"createdAt\": \"2021-09-26T00:00:00\", \"count\": 9}, {\"createdAt\": \"2021-10-03T00:00:00\", \"count\": 7}, {\"createdAt\": \"2021-10-10T00:00:00\", \"count\": 11}, {\"createdAt\": \"2021-10-17T00:00:00\", \"count\": 45}, {\"createdAt\": \"2021-10-24T00:00:00\", \"count\": 14}, {\"createdAt\": \"2021-10-31T00:00:00\", \"count\": 14}, {\"createdAt\": \"2021-11-07T00:00:00\", \"count\": 9}]}}, {\"mode\": \"vega-lite\"});\n",
       "</script>"
      ],
      "text/plain": [
       "alt.LayerChart(...)"
      ]
     },
     "execution_count": 13,
     "metadata": {},
     "output_type": "execute_result"
    }
   ],
   "source": [
    "comments_time = comments.groupby('repo').resample('W', on='createdAt').count()['author'].reset_index()\n",
    "comments_time = comments_time.rename(columns={'author': 'count'})\n",
    "comments_time_total = comments_time.groupby('createdAt').agg({\"count\": \"sum\"}).reset_index()\n",
    "ch1 = alt.Chart(comments_time, width=600).mark_line().encode(\n",
    "    x='createdAt',\n",
    "    y='count',\n",
    "    color='repo',\n",
    "    tooltip=\"repo\"\n",
    ")\n",
    "\n",
    "ch2 = alt.Chart(comments_time_total, width=600).mark_line(color=\"black\").encode(\n",
    "    x='createdAt',\n",
    "    y='count',\n",
    ")\n",
    "\n",
    "ch1 + ch2"
   ]
  },
  {
   "cell_type": "markdown",
   "id": "aea22d06",
   "metadata": {
    "papermill": {
     "duration": 0.015657,
     "end_time": "2021-11-03T01:33:51.191401",
     "exception": false,
     "start_time": "2021-11-03T01:33:51.175744",
     "status": "completed"
    },
    "tags": []
   },
   "source": [
    "### PRs"
   ]
  },
  {
   "cell_type": "code",
   "execution_count": 14,
   "id": "7179d640",
   "metadata": {
    "execution": {
     "iopub.execute_input": "2021-11-03T01:33:51.228929Z",
     "iopub.status.busy": "2021-11-03T01:33:51.228418Z",
     "iopub.status.idle": "2021-11-03T01:33:51.289705Z",
     "shell.execute_reply": "2021-11-03T01:33:51.290122Z"
    },
    "papermill": {
     "duration": 0.08307,
     "end_time": "2021-11-03T01:33:51.290300",
     "exception": false,
     "start_time": "2021-11-03T01:33:51.207230",
     "status": "completed"
    },
    "tags": [
     "hide_input"
    ]
   },
   "outputs": [
    {
     "data": {
      "text/html": [
       "\n",
       "<div id=\"altair-viz-b1e2a857e54d40d1bb590aa51f5fd5a9\"></div>\n",
       "<script type=\"text/javascript\">\n",
       "  (function(spec, embedOpt){\n",
       "    let outputDiv = document.currentScript.previousElementSibling;\n",
       "    if (outputDiv.id !== \"altair-viz-b1e2a857e54d40d1bb590aa51f5fd5a9\") {\n",
       "      outputDiv = document.getElementById(\"altair-viz-b1e2a857e54d40d1bb590aa51f5fd5a9\");\n",
       "    }\n",
       "    const paths = {\n",
       "      \"vega\": \"https://cdn.jsdelivr.net/npm//vega@5?noext\",\n",
       "      \"vega-lib\": \"https://cdn.jsdelivr.net/npm//vega-lib?noext\",\n",
       "      \"vega-lite\": \"https://cdn.jsdelivr.net/npm//vega-lite@4.8.1?noext\",\n",
       "      \"vega-embed\": \"https://cdn.jsdelivr.net/npm//vega-embed@6?noext\",\n",
       "    };\n",
       "\n",
       "    function loadScript(lib) {\n",
       "      return new Promise(function(resolve, reject) {\n",
       "        var s = document.createElement('script');\n",
       "        s.src = paths[lib];\n",
       "        s.async = true;\n",
       "        s.onload = () => resolve(paths[lib]);\n",
       "        s.onerror = () => reject(`Error loading script: ${paths[lib]}`);\n",
       "        document.getElementsByTagName(\"head\")[0].appendChild(s);\n",
       "      });\n",
       "    }\n",
       "\n",
       "    function showError(err) {\n",
       "      outputDiv.innerHTML = `<div class=\"error\" style=\"color:red;\">${err}</div>`;\n",
       "      throw err;\n",
       "    }\n",
       "\n",
       "    function displayChart(vegaEmbed) {\n",
       "      vegaEmbed(outputDiv, spec, embedOpt)\n",
       "        .catch(err => showError(`Javascript Error: ${err.message}<br>This usually means there's a typo in your chart specification. See the javascript console for the full traceback.`));\n",
       "    }\n",
       "\n",
       "    if(typeof define === \"function\" && define.amd) {\n",
       "      requirejs.config({paths});\n",
       "      require([\"vega-embed\"], displayChart, err => showError(`Error loading script: ${err.message}`));\n",
       "    } else if (typeof vegaEmbed === \"function\") {\n",
       "      displayChart(vegaEmbed);\n",
       "    } else {\n",
       "      loadScript(\"vega\")\n",
       "        .then(() => loadScript(\"vega-lite\"))\n",
       "        .then(() => loadScript(\"vega-embed\"))\n",
       "        .catch(showError)\n",
       "        .then(() => displayChart(vegaEmbed));\n",
       "    }\n",
       "  })({\"config\": {\"axisLeft\": {\"labelFontSize\": 15}, \"axisBottom\": {\"labelFontSize\": 15}}, \"layer\": [{\"data\": {\"name\": \"data-145157eb6ce043df4079ca20089758e9\"}, \"mark\": \"line\", \"encoding\": {\"color\": {\"type\": \"nominal\", \"field\": \"repo\"}, \"tooltip\": {\"type\": \"nominal\", \"field\": \"repo\"}, \"x\": {\"type\": \"temporal\", \"field\": \"createdAt\"}, \"y\": {\"type\": \"quantitative\", \"field\": \"count\"}}, \"width\": 600}, {\"data\": {\"name\": \"data-262f1ea78d2da16b791d376a83bad915\"}, \"mark\": {\"type\": \"line\", \"color\": \"black\"}, \"encoding\": {\"x\": {\"type\": \"temporal\", \"field\": \"createdAt\"}, \"y\": {\"type\": \"quantitative\", \"field\": \"count\"}}, \"width\": 600}], \"$schema\": \"https://vega.github.io/schema/vega-lite/v4.8.1.json\", \"datasets\": {\"data-145157eb6ce043df4079ca20089758e9\": [{\"repo\": \"MyST-NB\", \"createdAt\": \"2021-09-05T00:00:00\", \"count\": 1}, {\"repo\": \"MyST-NB\", \"createdAt\": \"2021-09-12T00:00:00\", \"count\": 0}, {\"repo\": \"MyST-NB\", \"createdAt\": \"2021-09-19T00:00:00\", \"count\": 0}, {\"repo\": \"MyST-NB\", \"createdAt\": \"2021-09-26T00:00:00\", \"count\": 0}, {\"repo\": \"MyST-NB\", \"createdAt\": \"2021-10-03T00:00:00\", \"count\": 0}, {\"repo\": \"MyST-NB\", \"createdAt\": \"2021-10-10T00:00:00\", \"count\": 0}, {\"repo\": \"MyST-NB\", \"createdAt\": \"2021-10-17T00:00:00\", \"count\": 0}, {\"repo\": \"MyST-NB\", \"createdAt\": \"2021-10-24T00:00:00\", \"count\": 0}, {\"repo\": \"MyST-NB\", \"createdAt\": \"2021-10-31T00:00:00\", \"count\": 1}, {\"repo\": \"jupyter-book\", \"createdAt\": \"2021-08-29T00:00:00\", \"count\": 1}, {\"repo\": \"jupyter-book\", \"createdAt\": \"2021-09-05T00:00:00\", \"count\": 1}, {\"repo\": \"jupyter-book\", \"createdAt\": \"2021-09-12T00:00:00\", \"count\": 0}, {\"repo\": \"jupyter-book\", \"createdAt\": \"2021-09-19T00:00:00\", \"count\": 0}, {\"repo\": \"jupyter-book\", \"createdAt\": \"2021-09-26T00:00:00\", \"count\": 1}, {\"repo\": \"jupyter-book\", \"createdAt\": \"2021-10-03T00:00:00\", \"count\": 0}, {\"repo\": \"jupyter-book\", \"createdAt\": \"2021-10-10T00:00:00\", \"count\": 0}, {\"repo\": \"jupyter-book\", \"createdAt\": \"2021-10-17T00:00:00\", \"count\": 3}, {\"repo\": \"jupyter-book\", \"createdAt\": \"2021-10-24T00:00:00\", \"count\": 2}, {\"repo\": \"sloan_grant_administration\", \"createdAt\": \"2021-09-26T00:00:00\", \"count\": 1}, {\"repo\": \"sloan_grant_administration\", \"createdAt\": \"2021-10-03T00:00:00\", \"count\": 1}, {\"repo\": \"sloan_grant_administration\", \"createdAt\": \"2021-10-10T00:00:00\", \"count\": 1}, {\"repo\": \"sloan_grant_administration\", \"createdAt\": \"2021-10-17T00:00:00\", \"count\": 1}, {\"repo\": \"sphinx-book-theme\", \"createdAt\": \"2021-09-19T00:00:00\", \"count\": 1}, {\"repo\": \"sphinx-exercise\", \"createdAt\": \"2021-10-31T00:00:00\", \"count\": 1}, {\"repo\": \"sphinx-exercise\", \"createdAt\": \"2021-11-07T00:00:00\", \"count\": 1}, {\"repo\": \"sphinx-jupyterbook-latex\", \"createdAt\": \"2021-09-12T00:00:00\", \"count\": 1}, {\"repo\": \"sphinx-jupyterbook-latex\", \"createdAt\": \"2021-09-19T00:00:00\", \"count\": 0}, {\"repo\": \"sphinx-jupyterbook-latex\", \"createdAt\": \"2021-09-26T00:00:00\", \"count\": 0}, {\"repo\": \"sphinx-jupyterbook-latex\", \"createdAt\": \"2021-10-03T00:00:00\", \"count\": 1}, {\"repo\": \"sphinx-jupyterbook-latex\", \"createdAt\": \"2021-10-10T00:00:00\", \"count\": 1}, {\"repo\": \"sphinx-jupyterbook-latex\", \"createdAt\": \"2021-10-17T00:00:00\", \"count\": 4}], \"data-262f1ea78d2da16b791d376a83bad915\": [{\"createdAt\": \"2021-08-29T00:00:00\", \"count\": 1}, {\"createdAt\": \"2021-09-05T00:00:00\", \"count\": 2}, {\"createdAt\": \"2021-09-12T00:00:00\", \"count\": 1}, {\"createdAt\": \"2021-09-19T00:00:00\", \"count\": 1}, {\"createdAt\": \"2021-09-26T00:00:00\", \"count\": 2}, {\"createdAt\": \"2021-10-03T00:00:00\", \"count\": 2}, {\"createdAt\": \"2021-10-10T00:00:00\", \"count\": 2}, {\"createdAt\": \"2021-10-17T00:00:00\", \"count\": 8}, {\"createdAt\": \"2021-10-24T00:00:00\", \"count\": 2}, {\"createdAt\": \"2021-10-31T00:00:00\", \"count\": 2}, {\"createdAt\": \"2021-11-07T00:00:00\", \"count\": 1}]}}, {\"mode\": \"vega-lite\"});\n",
       "</script>"
      ],
      "text/plain": [
       "alt.LayerChart(...)"
      ]
     },
     "execution_count": 14,
     "metadata": {},
     "output_type": "execute_result"
    }
   ],
   "source": [
    "prs_time = prs.groupby('repo').resample('W', on='createdAt').count()['author'].reset_index()\n",
    "prs_time = prs_time.rename(columns={'author': 'count'})\n",
    "prs_time_total = prs_time.groupby('createdAt').agg({\"count\": \"sum\"}).reset_index()\n",
    "\n",
    "ch1 = alt.Chart(prs_time, width=600).mark_line().encode(\n",
    "    x='createdAt',\n",
    "    y='count',\n",
    "    color='repo',\n",
    "    tooltip=\"repo\"\n",
    ")\n",
    "\n",
    "ch2 = alt.Chart(prs_time_total, width=600).mark_line(color=\"black\").encode(\n",
    "    x='createdAt',\n",
    "    y='count',\n",
    ")\n",
    "\n",
    "ch1 + ch2"
   ]
  },
  {
   "cell_type": "code",
   "execution_count": 15,
   "id": "300fb6cd",
   "metadata": {
    "execution": {
     "iopub.execute_input": "2021-11-03T01:33:51.336221Z",
     "iopub.status.busy": "2021-11-03T01:33:51.331193Z",
     "iopub.status.idle": "2021-11-03T01:33:51.379991Z",
     "shell.execute_reply": "2021-11-03T01:33:51.380477Z"
    },
    "papermill": {
     "duration": 0.072691,
     "end_time": "2021-11-03T01:33:51.380676",
     "exception": false,
     "start_time": "2021-11-03T01:33:51.307985",
     "status": "completed"
    },
    "tags": [
     "hide_input"
    ]
   },
   "outputs": [
    {
     "data": {
      "text/html": [
       "\n",
       "<div id=\"altair-viz-b6a1572df8024830980cb255386d0207\"></div>\n",
       "<script type=\"text/javascript\">\n",
       "  (function(spec, embedOpt){\n",
       "    let outputDiv = document.currentScript.previousElementSibling;\n",
       "    if (outputDiv.id !== \"altair-viz-b6a1572df8024830980cb255386d0207\") {\n",
       "      outputDiv = document.getElementById(\"altair-viz-b6a1572df8024830980cb255386d0207\");\n",
       "    }\n",
       "    const paths = {\n",
       "      \"vega\": \"https://cdn.jsdelivr.net/npm//vega@5?noext\",\n",
       "      \"vega-lib\": \"https://cdn.jsdelivr.net/npm//vega-lib?noext\",\n",
       "      \"vega-lite\": \"https://cdn.jsdelivr.net/npm//vega-lite@4.8.1?noext\",\n",
       "      \"vega-embed\": \"https://cdn.jsdelivr.net/npm//vega-embed@6?noext\",\n",
       "    };\n",
       "\n",
       "    function loadScript(lib) {\n",
       "      return new Promise(function(resolve, reject) {\n",
       "        var s = document.createElement('script');\n",
       "        s.src = paths[lib];\n",
       "        s.async = true;\n",
       "        s.onload = () => resolve(paths[lib]);\n",
       "        s.onerror = () => reject(`Error loading script: ${paths[lib]}`);\n",
       "        document.getElementsByTagName(\"head\")[0].appendChild(s);\n",
       "      });\n",
       "    }\n",
       "\n",
       "    function showError(err) {\n",
       "      outputDiv.innerHTML = `<div class=\"error\" style=\"color:red;\">${err}</div>`;\n",
       "      throw err;\n",
       "    }\n",
       "\n",
       "    function displayChart(vegaEmbed) {\n",
       "      vegaEmbed(outputDiv, spec, embedOpt)\n",
       "        .catch(err => showError(`Javascript Error: ${err.message}<br>This usually means there's a typo in your chart specification. See the javascript console for the full traceback.`));\n",
       "    }\n",
       "\n",
       "    if(typeof define === \"function\" && define.amd) {\n",
       "      requirejs.config({paths});\n",
       "      require([\"vega-embed\"], displayChart, err => showError(`Error loading script: ${err.message}`));\n",
       "    } else if (typeof vegaEmbed === \"function\") {\n",
       "      displayChart(vegaEmbed);\n",
       "    } else {\n",
       "      loadScript(\"vega\")\n",
       "        .then(() => loadScript(\"vega-lite\"))\n",
       "        .then(() => loadScript(\"vega-embed\"))\n",
       "        .catch(showError)\n",
       "        .then(() => displayChart(vegaEmbed));\n",
       "    }\n",
       "  })({\"config\": {\"axisLeft\": {\"labelFontSize\": 15}, \"axisBottom\": {\"labelFontSize\": 15}}, \"data\": {\"name\": \"data-b2ec1eb8dfc424d825bb9e35895ca465\"}, \"mark\": \"line\", \"encoding\": {\"color\": {\"type\": \"nominal\", \"field\": \"repo\"}, \"tooltip\": {\"type\": \"nominal\", \"field\": \"repo\"}, \"x\": {\"type\": \"temporal\", \"field\": \"closedAt\"}, \"y\": {\"type\": \"quantitative\", \"field\": \"count\"}}, \"width\": 600, \"$schema\": \"https://vega.github.io/schema/vega-lite/v4.8.1.json\", \"datasets\": {\"data-b2ec1eb8dfc424d825bb9e35895ca465\": [{\"repo\": \"MyST-NB\", \"closedAt\": \"2021-09-05T00:00:00\", \"count\": 1}, {\"repo\": \"MyST-NB\", \"closedAt\": \"2021-09-12T00:00:00\", \"count\": 0}, {\"repo\": \"MyST-NB\", \"closedAt\": \"2021-09-19T00:00:00\", \"count\": 0}, {\"repo\": \"MyST-NB\", \"closedAt\": \"2021-09-26T00:00:00\", \"count\": 0}, {\"repo\": \"MyST-NB\", \"closedAt\": \"2021-10-03T00:00:00\", \"count\": 0}, {\"repo\": \"MyST-NB\", \"closedAt\": \"2021-10-10T00:00:00\", \"count\": 0}, {\"repo\": \"MyST-NB\", \"closedAt\": \"2021-10-17T00:00:00\", \"count\": 1}, {\"repo\": \"jupyter-book\", \"closedAt\": \"2021-08-29T00:00:00\", \"count\": 1}, {\"repo\": \"jupyter-book\", \"closedAt\": \"2021-09-05T00:00:00\", \"count\": 0}, {\"repo\": \"jupyter-book\", \"closedAt\": \"2021-09-12T00:00:00\", \"count\": 0}, {\"repo\": \"jupyter-book\", \"closedAt\": \"2021-09-19T00:00:00\", \"count\": 0}, {\"repo\": \"jupyter-book\", \"closedAt\": \"2021-09-26T00:00:00\", \"count\": 0}, {\"repo\": \"jupyter-book\", \"closedAt\": \"2021-10-03T00:00:00\", \"count\": 0}, {\"repo\": \"jupyter-book\", \"closedAt\": \"2021-10-10T00:00:00\", \"count\": 0}, {\"repo\": \"jupyter-book\", \"closedAt\": \"2021-10-17T00:00:00\", \"count\": 4}, {\"repo\": \"jupyter-book\", \"closedAt\": \"2021-10-24T00:00:00\", \"count\": 3}, {\"repo\": \"jupyter-book\", \"closedAt\": \"2021-10-31T00:00:00\", \"count\": 1}, {\"repo\": \"sloan_grant_administration\", \"closedAt\": \"2021-09-26T00:00:00\", \"count\": 1}, {\"repo\": \"sloan_grant_administration\", \"closedAt\": \"2021-10-03T00:00:00\", \"count\": 0}, {\"repo\": \"sloan_grant_administration\", \"closedAt\": \"2021-10-10T00:00:00\", \"count\": 0}, {\"repo\": \"sloan_grant_administration\", \"closedAt\": \"2021-10-17T00:00:00\", \"count\": 1}, {\"repo\": \"sphinx-book-theme\", \"closedAt\": \"2021-09-26T00:00:00\", \"count\": 1}, {\"repo\": \"sphinx-exercise\", \"closedAt\": \"2021-11-07T00:00:00\", \"count\": 1}, {\"repo\": \"sphinx-jupyterbook-latex\", \"closedAt\": \"2021-10-03T00:00:00\", \"count\": 2}, {\"repo\": \"sphinx-jupyterbook-latex\", \"closedAt\": \"2021-10-10T00:00:00\", \"count\": 2}, {\"repo\": \"sphinx-jupyterbook-latex\", \"closedAt\": \"2021-10-17T00:00:00\", \"count\": 3}, {\"repo\": \"sphinx-jupyterbook-latex\", \"closedAt\": \"2021-10-24T00:00:00\", \"count\": 1}]}}, {\"mode\": \"vega-lite\"});\n",
       "</script>"
      ],
      "text/plain": [
       "alt.Chart(...)"
      ]
     },
     "execution_count": 15,
     "metadata": {},
     "output_type": "execute_result"
    }
   ],
   "source": [
    "closed_by_time = closed_by.groupby('repo').resample('W', on='closedAt').count()['author'].reset_index()\n",
    "closed_by_time = closed_by_time.rename(columns={'author': 'count'})\n",
    "\n",
    "alt.Chart(closed_by_time, width=600).mark_line().encode(\n",
    "    x='closedAt',\n",
    "    y='count',\n",
    "    color='repo',\n",
    "    tooltip=\"repo\"\n",
    ")"
   ]
  },
  {
   "cell_type": "markdown",
   "id": "e5293af3",
   "metadata": {
    "papermill": {
     "duration": 0.016667,
     "end_time": "2021-11-03T01:33:51.414275",
     "exception": false,
     "start_time": "2021-11-03T01:33:51.397608",
     "status": "completed"
    },
    "tags": []
   },
   "source": [
    "## By type over time"
   ]
  },
  {
   "cell_type": "code",
   "execution_count": 16,
   "id": "0ed0280b",
   "metadata": {
    "execution": {
     "iopub.execute_input": "2021-11-03T01:33:51.464977Z",
     "iopub.status.busy": "2021-11-03T01:33:51.463549Z",
     "iopub.status.idle": "2021-11-03T01:33:51.472714Z",
     "shell.execute_reply": "2021-11-03T01:33:51.472278Z"
    },
    "papermill": {
     "duration": 0.040543,
     "end_time": "2021-11-03T01:33:51.472852",
     "exception": false,
     "start_time": "2021-11-03T01:33:51.432309",
     "status": "completed"
    },
    "tags": [
     "remove_cell"
    ]
   },
   "outputs": [],
   "source": [
    "prs_time = prs[['author', 'createdAt']].resample('W', on='createdAt').count()['author'].reset_index()\n",
    "prs_time = prs_time.rename(columns={'author': 'prs'})\n",
    "comments_time = comments[['author', 'createdAt']].resample('W', on='createdAt').count()['author'].reset_index()\n",
    "comments_time = comments_time.rename(columns={'author': 'comments'})\n",
    "\n",
    "total_time = pd.merge(prs_time, comments_time, on='createdAt', how='outer')\n",
    "total_time = total_time.melt(id_vars='createdAt', var_name=\"kind\", value_name=\"count\")\n"
   ]
  },
  {
   "cell_type": "code",
   "execution_count": 17,
   "id": "feabb554",
   "metadata": {
    "execution": {
     "iopub.execute_input": "2021-11-03T01:33:51.529100Z",
     "iopub.status.busy": "2021-11-03T01:33:51.521394Z",
     "iopub.status.idle": "2021-11-03T01:33:51.531903Z",
     "shell.execute_reply": "2021-11-03T01:33:51.532320Z"
    },
    "papermill": {
     "duration": 0.042967,
     "end_time": "2021-11-03T01:33:51.532484",
     "exception": false,
     "start_time": "2021-11-03T01:33:51.489517",
     "status": "completed"
    },
    "tags": [
     "hide_input"
    ]
   },
   "outputs": [
    {
     "data": {
      "text/html": [
       "\n",
       "<div id=\"altair-viz-e5be3a397e4043c693b88cd6ac812bd2\"></div>\n",
       "<script type=\"text/javascript\">\n",
       "  (function(spec, embedOpt){\n",
       "    let outputDiv = document.currentScript.previousElementSibling;\n",
       "    if (outputDiv.id !== \"altair-viz-e5be3a397e4043c693b88cd6ac812bd2\") {\n",
       "      outputDiv = document.getElementById(\"altair-viz-e5be3a397e4043c693b88cd6ac812bd2\");\n",
       "    }\n",
       "    const paths = {\n",
       "      \"vega\": \"https://cdn.jsdelivr.net/npm//vega@5?noext\",\n",
       "      \"vega-lib\": \"https://cdn.jsdelivr.net/npm//vega-lib?noext\",\n",
       "      \"vega-lite\": \"https://cdn.jsdelivr.net/npm//vega-lite@4.8.1?noext\",\n",
       "      \"vega-embed\": \"https://cdn.jsdelivr.net/npm//vega-embed@6?noext\",\n",
       "    };\n",
       "\n",
       "    function loadScript(lib) {\n",
       "      return new Promise(function(resolve, reject) {\n",
       "        var s = document.createElement('script');\n",
       "        s.src = paths[lib];\n",
       "        s.async = true;\n",
       "        s.onload = () => resolve(paths[lib]);\n",
       "        s.onerror = () => reject(`Error loading script: ${paths[lib]}`);\n",
       "        document.getElementsByTagName(\"head\")[0].appendChild(s);\n",
       "      });\n",
       "    }\n",
       "\n",
       "    function showError(err) {\n",
       "      outputDiv.innerHTML = `<div class=\"error\" style=\"color:red;\">${err}</div>`;\n",
       "      throw err;\n",
       "    }\n",
       "\n",
       "    function displayChart(vegaEmbed) {\n",
       "      vegaEmbed(outputDiv, spec, embedOpt)\n",
       "        .catch(err => showError(`Javascript Error: ${err.message}<br>This usually means there's a typo in your chart specification. See the javascript console for the full traceback.`));\n",
       "    }\n",
       "\n",
       "    if(typeof define === \"function\" && define.amd) {\n",
       "      requirejs.config({paths});\n",
       "      require([\"vega-embed\"], displayChart, err => showError(`Error loading script: ${err.message}`));\n",
       "    } else if (typeof vegaEmbed === \"function\") {\n",
       "      displayChart(vegaEmbed);\n",
       "    } else {\n",
       "      loadScript(\"vega\")\n",
       "        .then(() => loadScript(\"vega-lite\"))\n",
       "        .then(() => loadScript(\"vega-embed\"))\n",
       "        .catch(showError)\n",
       "        .then(() => displayChart(vegaEmbed));\n",
       "    }\n",
       "  })({\"config\": {\"axisLeft\": {\"labelFontSize\": 15}, \"axisBottom\": {\"labelFontSize\": 15}}, \"data\": {\"name\": \"data-2a45f928ea051f2539670df7d33ff5ca\"}, \"mark\": \"line\", \"encoding\": {\"color\": {\"type\": \"nominal\", \"field\": \"kind\"}, \"x\": {\"type\": \"temporal\", \"field\": \"createdAt\"}, \"y\": {\"type\": \"quantitative\", \"field\": \"count\"}}, \"width\": 600, \"$schema\": \"https://vega.github.io/schema/vega-lite/v4.8.1.json\", \"datasets\": {\"data-2a45f928ea051f2539670df7d33ff5ca\": [{\"createdAt\": \"2021-08-29T00:00:00\", \"kind\": \"prs\", \"count\": 1.0}, {\"createdAt\": \"2021-09-05T00:00:00\", \"kind\": \"prs\", \"count\": 2.0}, {\"createdAt\": \"2021-09-12T00:00:00\", \"kind\": \"prs\", \"count\": 1.0}, {\"createdAt\": \"2021-09-19T00:00:00\", \"kind\": \"prs\", \"count\": 1.0}, {\"createdAt\": \"2021-09-26T00:00:00\", \"kind\": \"prs\", \"count\": 2.0}, {\"createdAt\": \"2021-10-03T00:00:00\", \"kind\": \"prs\", \"count\": 2.0}, {\"createdAt\": \"2021-10-10T00:00:00\", \"kind\": \"prs\", \"count\": 2.0}, {\"createdAt\": \"2021-10-17T00:00:00\", \"kind\": \"prs\", \"count\": 8.0}, {\"createdAt\": \"2021-10-24T00:00:00\", \"kind\": \"prs\", \"count\": 2.0}, {\"createdAt\": \"2021-10-31T00:00:00\", \"kind\": \"prs\", \"count\": 2.0}, {\"createdAt\": \"2021-11-07T00:00:00\", \"kind\": \"prs\", \"count\": 1.0}, {\"createdAt\": \"2021-08-29T00:00:00\", \"kind\": \"comments\", \"count\": null}, {\"createdAt\": \"2021-09-05T00:00:00\", \"kind\": \"comments\", \"count\": 3.0}, {\"createdAt\": \"2021-09-12T00:00:00\", \"kind\": \"comments\", \"count\": 2.0}, {\"createdAt\": \"2021-09-19T00:00:00\", \"kind\": \"comments\", \"count\": 2.0}, {\"createdAt\": \"2021-09-26T00:00:00\", \"kind\": \"comments\", \"count\": 9.0}, {\"createdAt\": \"2021-10-03T00:00:00\", \"kind\": \"comments\", \"count\": 7.0}, {\"createdAt\": \"2021-10-10T00:00:00\", \"kind\": \"comments\", \"count\": 11.0}, {\"createdAt\": \"2021-10-17T00:00:00\", \"kind\": \"comments\", \"count\": 45.0}, {\"createdAt\": \"2021-10-24T00:00:00\", \"kind\": \"comments\", \"count\": 14.0}, {\"createdAt\": \"2021-10-31T00:00:00\", \"kind\": \"comments\", \"count\": 14.0}, {\"createdAt\": \"2021-11-07T00:00:00\", \"kind\": \"comments\", \"count\": 9.0}]}}, {\"mode\": \"vega-lite\"});\n",
       "</script>"
      ],
      "text/plain": [
       "alt.Chart(...)"
      ]
     },
     "execution_count": 17,
     "metadata": {},
     "output_type": "execute_result"
    }
   ],
   "source": [
    "alt.Chart(total_time, width=600).mark_line().encode(\n",
    "    x='createdAt',\n",
    "    y='count',\n",
    "    color='kind'\n",
    ")"
   ]
  }
 ],
 "metadata": {
  "kernelspec": {
   "display_name": "Python 3 (ipykernel)",
   "language": "python",
   "name": "python3"
  },
  "language_info": {
   "codemirror_mode": {
    "name": "ipython",
    "version": 3
   },
   "file_extension": ".py",
   "mimetype": "text/x-python",
   "name": "python",
   "nbconvert_exporter": "python",
   "pygments_lexer": "ipython3",
   "version": "3.7.12"
  },
  "papermill": {
   "default_parameters": {},
   "duration": 3.678583,
   "end_time": "2021-11-03T01:33:51.960498",
   "environment_variables": {},
   "exception": null,
   "input_path": "./templates/person_report.ipynb",
   "output_path": "generated/people/mmcky.ipynb",
   "parameters": {
    "n_days": 90,
    "person": "mmcky"
   },
   "start_time": "2021-11-03T01:33:48.281915",
   "version": "2.3.3"
  },
  "widgets": {
   "application/vnd.jupyter.widget-state+json": {
    "state": {},
    "version_major": 2,
    "version_minor": 0
   }
  }
 },
 "nbformat": 4,
 "nbformat_minor": 5
}