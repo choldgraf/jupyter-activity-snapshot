{
 "cells": [
  {
   "cell_type": "markdown",
   "id": "labeled-plymouth",
   "metadata": {
    "papermill": {
     "duration": 0.013985,
     "end_time": "2021-02-14T01:42:52.821560",
     "exception": false,
     "start_time": "2021-02-14T01:42:52.807575",
     "status": "completed"
    },
    "tags": []
   },
   "source": [
    "# Report for mmcky"
   ]
  },
  {
   "cell_type": "code",
   "execution_count": 1,
   "id": "original-market",
   "metadata": {
    "execution": {
     "iopub.execute_input": "2021-02-14T01:42:52.860146Z",
     "iopub.status.busy": "2021-02-14T01:42:52.859616Z",
     "iopub.status.idle": "2021-02-14T01:42:53.686299Z",
     "shell.execute_reply": "2021-02-14T01:42:53.686775Z"
    },
    "papermill": {
     "duration": 0.850313,
     "end_time": "2021-02-14T01:42:53.687069",
     "exception": false,
     "start_time": "2021-02-14T01:42:52.836756",
     "status": "completed"
    },
    "tags": [
     "remove_cell"
    ]
   },
   "outputs": [],
   "source": [
    "import seaborn as sns\n",
    "import pandas as pd\n",
    "import numpy as np\n",
    "import altair as alt\n",
    "from markdown import markdown\n",
    "from IPython.display import Markdown\n",
    "from ipywidgets.widgets import HTML, Tab\n",
    "from ipywidgets import widgets\n",
    "from datetime import timedelta\n",
    "from matplotlib import pyplot as plt\n",
    "import os.path as op\n",
    "\n",
    "from mycode import alt_theme\n",
    "from warnings import simplefilter\n",
    "simplefilter('ignore')"
   ]
  },
  {
   "cell_type": "code",
   "execution_count": 2,
   "id": "neutral-guitar",
   "metadata": {
    "execution": {
     "iopub.execute_input": "2021-02-14T01:42:53.722496Z",
     "iopub.status.busy": "2021-02-14T01:42:53.721934Z",
     "iopub.status.idle": "2021-02-14T01:42:53.724941Z",
     "shell.execute_reply": "2021-02-14T01:42:53.724262Z"
    },
    "papermill": {
     "duration": 0.022019,
     "end_time": "2021-02-14T01:42:53.725099",
     "exception": false,
     "start_time": "2021-02-14T01:42:53.703080",
     "status": "completed"
    },
    "tags": [
     "remove_cell"
    ]
   },
   "outputs": [],
   "source": [
    "def author_url(author):\n",
    "    return f\"https://github.com/{author}\""
   ]
  },
  {
   "cell_type": "code",
   "execution_count": 3,
   "id": "controversial-china",
   "metadata": {
    "execution": {
     "iopub.execute_input": "2021-02-14T01:42:53.759517Z",
     "iopub.status.busy": "2021-02-14T01:42:53.758937Z",
     "iopub.status.idle": "2021-02-14T01:42:53.760886Z",
     "shell.execute_reply": "2021-02-14T01:42:53.761309Z"
    },
    "papermill": {
     "duration": 0.021542,
     "end_time": "2021-02-14T01:42:53.761507",
     "exception": false,
     "start_time": "2021-02-14T01:42:53.739965",
     "status": "completed"
    },
    "tags": [
     "parameters",
     "hide_input"
    ]
   },
   "outputs": [],
   "source": [
    "# Parameters\n",
    "fmt_date = \"{:%Y-%m-%d}\"\n",
    "\n",
    "n_days = 30 * 2\n",
    "start_date = fmt_date.format(pd.datetime.today() - timedelta(days=n_days))\n",
    "end_date = fmt_date.format(pd.datetime.today())\n",
    "\n",
    "renderer = \"html\"\n",
    "person = \"jasongrout\""
   ]
  },
  {
   "cell_type": "code",
   "execution_count": 4,
   "id": "accompanied-depression",
   "metadata": {
    "execution": {
     "iopub.execute_input": "2021-02-14T01:42:53.793793Z",
     "iopub.status.busy": "2021-02-14T01:42:53.793142Z",
     "iopub.status.idle": "2021-02-14T01:42:53.795803Z",
     "shell.execute_reply": "2021-02-14T01:42:53.795271Z"
    },
    "papermill": {
     "duration": 0.019669,
     "end_time": "2021-02-14T01:42:53.795932",
     "exception": false,
     "start_time": "2021-02-14T01:42:53.776263",
     "status": "completed"
    },
    "tags": [
     "injected-parameters",
     "remove-cell"
    ]
   },
   "outputs": [],
   "source": [
    "# Parameters\n",
    "person = \"mmcky\"\n",
    "n_days = 60\n"
   ]
  },
  {
   "cell_type": "code",
   "execution_count": 5,
   "id": "infectious-trance",
   "metadata": {
    "execution": {
     "iopub.execute_input": "2021-02-14T01:42:53.836291Z",
     "iopub.status.busy": "2021-02-14T01:42:53.835694Z",
     "iopub.status.idle": "2021-02-14T01:42:53.837725Z",
     "shell.execute_reply": "2021-02-14T01:42:53.838177Z"
    },
    "papermill": {
     "duration": 0.025631,
     "end_time": "2021-02-14T01:42:53.838331",
     "exception": false,
     "start_time": "2021-02-14T01:42:53.812700",
     "status": "completed"
    },
    "tags": [
     "remove_cell"
    ]
   },
   "outputs": [
    {
     "data": {
      "text/plain": [
       "ThemeRegistry.enable('my_theme')"
      ]
     },
     "execution_count": 5,
     "metadata": {},
     "output_type": "execute_result"
    }
   ],
   "source": [
    "alt.renderers.enable(renderer);\n",
    "alt.themes.register('my_theme', alt_theme)\n",
    "alt.themes.enable(\"my_theme\")"
   ]
  },
  {
   "cell_type": "markdown",
   "id": "terminal-configuration",
   "metadata": {
    "papermill": {
     "duration": 0.017542,
     "end_time": "2021-02-14T01:42:53.870607",
     "exception": false,
     "start_time": "2021-02-14T01:42:53.853065",
     "status": "completed"
    },
    "tags": []
   },
   "source": [
    "## Load data"
   ]
  },
  {
   "cell_type": "code",
   "execution_count": 6,
   "id": "brutal-bubble",
   "metadata": {
    "execution": {
     "iopub.execute_input": "2021-02-14T01:42:53.905763Z",
     "iopub.status.busy": "2021-02-14T01:42:53.905197Z",
     "iopub.status.idle": "2021-02-14T01:42:54.066157Z",
     "shell.execute_reply": "2021-02-14T01:42:54.065697Z"
    },
    "papermill": {
     "duration": 0.181007,
     "end_time": "2021-02-14T01:42:54.066303",
     "exception": false,
     "start_time": "2021-02-14T01:42:53.885296",
     "status": "completed"
    },
    "tags": [
     "remove_cell"
    ]
   },
   "outputs": [],
   "source": [
    "from pathlib import Path\n",
    "path_data = Path(\"./\")\n",
    "comments = pd.read_csv(path_data.joinpath('comments.csv'), index_col=0)\n",
    "issues = pd.read_csv(path_data.joinpath('issues.csv'), index_col=0)\n",
    "prs = pd.read_csv(path_data.joinpath('prs.csv'), index_col=0)\n",
    "\n",
    "comments = comments.query('author == @person').drop_duplicates()\n",
    "issues = issues.query('author == @person').drop_duplicates()\n",
    "closed_by = prs.query('mergedBy == @person')\n",
    "prs = prs.query('author == @person').drop_duplicates()"
   ]
  },
  {
   "cell_type": "code",
   "execution_count": 7,
   "id": "electrical-vocabulary",
   "metadata": {
    "execution": {
     "iopub.execute_input": "2021-02-14T01:42:54.149889Z",
     "iopub.status.busy": "2021-02-14T01:42:54.119092Z",
     "iopub.status.idle": "2021-02-14T01:42:54.152921Z",
     "shell.execute_reply": "2021-02-14T01:42:54.152451Z"
    },
    "papermill": {
     "duration": 0.071661,
     "end_time": "2021-02-14T01:42:54.153051",
     "exception": false,
     "start_time": "2021-02-14T01:42:54.081390",
     "status": "completed"
    },
    "tags": [
     "remove_cell"
    ]
   },
   "outputs": [],
   "source": [
    "# Time columns\n",
    "# Also drop dates outside of our range\n",
    "time_columns = ['updatedAt', 'createdAt', 'closedAt']\n",
    "for col in time_columns:\n",
    "    for item in [comments, issues, prs, closed_by]:\n",
    "        if col not in item.columns:\n",
    "            continue\n",
    "        dt = pd.to_datetime(item[col]).dt.tz_localize(None)\n",
    "        item[col] = dt\n",
    "        item.query(\"updatedAt < @end_date and updatedAt > @start_date\", inplace=True)"
   ]
  },
  {
   "cell_type": "markdown",
   "id": "thermal-cemetery",
   "metadata": {
    "papermill": {
     "duration": 0.014358,
     "end_time": "2021-02-14T01:42:54.183045",
     "exception": false,
     "start_time": "2021-02-14T01:42:54.168687",
     "status": "completed"
    },
    "tags": []
   },
   "source": [
    "## Repository summaries"
   ]
  },
  {
   "cell_type": "code",
   "execution_count": 8,
   "id": "nuclear-taiwan",
   "metadata": {
    "execution": {
     "iopub.execute_input": "2021-02-14T01:42:54.217884Z",
     "iopub.status.busy": "2021-02-14T01:42:54.217296Z",
     "iopub.status.idle": "2021-02-14T01:42:54.241080Z",
     "shell.execute_reply": "2021-02-14T01:42:54.240537Z"
    },
    "papermill": {
     "duration": 0.041789,
     "end_time": "2021-02-14T01:42:54.241244",
     "exception": false,
     "start_time": "2021-02-14T01:42:54.199455",
     "status": "completed"
    },
    "tags": [
     "remove_cell"
    ]
   },
   "outputs": [],
   "source": [
    "summaries = []\n",
    "for idata, name in [(issues, 'issues'), (prs, 'prs'), (comments, 'comments')]:\n",
    "    idata = idata.groupby([\"repo\", \"org\"]).agg({'id': \"count\"}).reset_index().rename(columns={'id': 'count'})\n",
    "    idata[\"kind\"] = name\n",
    "    summaries.append(idata)\n",
    "summaries = pd.concat(summaries)"
   ]
  },
  {
   "cell_type": "code",
   "execution_count": 9,
   "id": "alert-anaheim",
   "metadata": {
    "execution": {
     "iopub.execute_input": "2021-02-14T01:42:54.284622Z",
     "iopub.status.busy": "2021-02-14T01:42:54.284090Z",
     "iopub.status.idle": "2021-02-14T01:42:54.286186Z",
     "shell.execute_reply": "2021-02-14T01:42:54.286623Z"
    },
    "papermill": {
     "duration": 0.030467,
     "end_time": "2021-02-14T01:42:54.286766",
     "exception": false,
     "start_time": "2021-02-14T01:42:54.256299",
     "status": "completed"
    },
    "tags": [
     "remove_cell"
    ]
   },
   "outputs": [],
   "source": [
    "repo_summaries = summaries.groupby([\"repo\", \"kind\"]).agg({\"count\": \"sum\"}).reset_index()\n",
    "org_summaries = summaries.groupby([\"org\", \"kind\"]).agg({\"count\": \"sum\"}).reset_index()"
   ]
  },
  {
   "cell_type": "code",
   "execution_count": 10,
   "id": "upper-symposium",
   "metadata": {
    "execution": {
     "iopub.execute_input": "2021-02-14T01:42:54.318124Z",
     "iopub.status.busy": "2021-02-14T01:42:54.317608Z",
     "iopub.status.idle": "2021-02-14T01:42:54.322164Z",
     "shell.execute_reply": "2021-02-14T01:42:54.321671Z"
    },
    "papermill": {
     "duration": 0.020565,
     "end_time": "2021-02-14T01:42:54.322287",
     "exception": false,
     "start_time": "2021-02-14T01:42:54.301722",
     "status": "completed"
    },
    "tags": [
     "remove_cell"
    ]
   },
   "outputs": [],
   "source": [
    "repo_summaries['logcount'] = np.log(repo_summaries[\"count\"])"
   ]
  },
  {
   "cell_type": "code",
   "execution_count": 11,
   "id": "weighted-gravity",
   "metadata": {
    "execution": {
     "iopub.execute_input": "2021-02-14T01:42:54.365879Z",
     "iopub.status.busy": "2021-02-14T01:42:54.355410Z",
     "iopub.status.idle": "2021-02-14T01:42:54.396894Z",
     "shell.execute_reply": "2021-02-14T01:42:54.396331Z"
    },
    "papermill": {
     "duration": 0.061645,
     "end_time": "2021-02-14T01:42:54.397034",
     "exception": false,
     "start_time": "2021-02-14T01:42:54.335389",
     "status": "completed"
    },
    "tags": [
     "hide_input"
    ]
   },
   "outputs": [
    {
     "data": {
      "text/html": [
       "\n",
       "<div id=\"altair-viz-4bfba0ea3bdb4090886a21e408d1425c\"></div>\n",
       "<script type=\"text/javascript\">\n",
       "  (function(spec, embedOpt){\n",
       "    let outputDiv = document.currentScript.previousElementSibling;\n",
       "    if (outputDiv.id !== \"altair-viz-4bfba0ea3bdb4090886a21e408d1425c\") {\n",
       "      outputDiv = document.getElementById(\"altair-viz-4bfba0ea3bdb4090886a21e408d1425c\");\n",
       "    }\n",
       "    const paths = {\n",
       "      \"vega\": \"https://cdn.jsdelivr.net/npm//vega@5?noext\",\n",
       "      \"vega-lib\": \"https://cdn.jsdelivr.net/npm//vega-lib?noext\",\n",
       "      \"vega-lite\": \"https://cdn.jsdelivr.net/npm//vega-lite@4.8.1?noext\",\n",
       "      \"vega-embed\": \"https://cdn.jsdelivr.net/npm//vega-embed@6?noext\",\n",
       "    };\n",
       "\n",
       "    function loadScript(lib) {\n",
       "      return new Promise(function(resolve, reject) {\n",
       "        var s = document.createElement('script');\n",
       "        s.src = paths[lib];\n",
       "        s.async = true;\n",
       "        s.onload = () => resolve(paths[lib]);\n",
       "        s.onerror = () => reject(`Error loading script: ${paths[lib]}`);\n",
       "        document.getElementsByTagName(\"head\")[0].appendChild(s);\n",
       "      });\n",
       "    }\n",
       "\n",
       "    function showError(err) {\n",
       "      outputDiv.innerHTML = `<div class=\"error\" style=\"color:red;\">${err}</div>`;\n",
       "      throw err;\n",
       "    }\n",
       "\n",
       "    function displayChart(vegaEmbed) {\n",
       "      vegaEmbed(outputDiv, spec, embedOpt)\n",
       "        .catch(err => showError(`Javascript Error: ${err.message}<br>This usually means there's a typo in your chart specification. See the javascript console for the full traceback.`));\n",
       "    }\n",
       "\n",
       "    if(typeof define === \"function\" && define.amd) {\n",
       "      requirejs.config({paths});\n",
       "      require([\"vega-embed\"], displayChart, err => showError(`Error loading script: ${err.message}`));\n",
       "    } else if (typeof vegaEmbed === \"function\") {\n",
       "      displayChart(vegaEmbed);\n",
       "    } else {\n",
       "      loadScript(\"vega\")\n",
       "        .then(() => loadScript(\"vega-lite\"))\n",
       "        .then(() => loadScript(\"vega-embed\"))\n",
       "        .catch(showError)\n",
       "        .then(() => displayChart(vegaEmbed));\n",
       "    }\n",
       "  })({\"config\": {\"axisLeft\": {\"labelFontSize\": 15}, \"axisBottom\": {\"labelFontSize\": 15}}, \"hconcat\": [{\"mark\": \"bar\", \"encoding\": {\"color\": {\"type\": \"nominal\", \"field\": \"kind\"}, \"tooltip\": {\"type\": \"nominal\", \"field\": \"kind\"}, \"x\": {\"type\": \"nominal\", \"field\": \"repo\"}, \"y\": {\"type\": \"quantitative\", \"field\": \"count\"}}, \"title\": \"Activity per repository\", \"width\": 600}, {\"mark\": \"bar\", \"encoding\": {\"color\": {\"type\": \"nominal\", \"field\": \"kind\"}, \"tooltip\": {\"type\": \"nominal\", \"field\": \"kind\"}, \"x\": {\"type\": \"nominal\", \"field\": \"repo\"}, \"y\": {\"type\": \"quantitative\", \"field\": \"logcount\"}}, \"title\": \"Log activity per repository\", \"width\": 600}], \"data\": {\"name\": \"data-fabf1d693a1d27b7712b98abdfa4a90b\"}, \"$schema\": \"https://vega.github.io/schema/vega-lite/v4.8.1.json\", \"datasets\": {\"data-fabf1d693a1d27b7712b98abdfa4a90b\": [{\"repo\": \"MyST-NB\", \"kind\": \"comments\", \"count\": 10, \"logcount\": 2.302585092994046}, {\"repo\": \"MyST-NB\", \"kind\": \"prs\", \"count\": 1, \"logcount\": 0.0}, {\"repo\": \"MyST-Parser\", \"kind\": \"comments\", \"count\": 1, \"logcount\": 0.0}, {\"repo\": \"jupyter-book\", \"kind\": \"comments\", \"count\": 22, \"logcount\": 3.091042453358316}, {\"repo\": \"jupyter-book\", \"kind\": \"prs\", \"count\": 3, \"logcount\": 1.0986122886681098}, {\"repo\": \"jupyterbook-latex\", \"kind\": \"comments\", \"count\": 4, \"logcount\": 1.3862943611198906}, {\"repo\": \"jupyterbook-latex\", \"kind\": \"issues\", \"count\": 2, \"logcount\": 0.6931471805599453}, {\"repo\": \"jupyterbook-latex\", \"kind\": \"prs\", \"count\": 1, \"logcount\": 0.0}, {\"repo\": \"quantecon-mini-example\", \"kind\": \"comments\", \"count\": 1, \"logcount\": 0.0}, {\"repo\": \"quantecon-mini-example\", \"kind\": \"prs\", \"count\": 1, \"logcount\": 0.0}, {\"repo\": \"sphinx-tomyst\", \"kind\": \"prs\", \"count\": 3, \"logcount\": 1.0986122886681098}]}}, {\"mode\": \"vega-lite\"});\n",
       "</script>"
      ],
      "text/plain": [
       "alt.HConcatChart(...)"
      ]
     },
     "execution_count": 11,
     "metadata": {},
     "output_type": "execute_result"
    }
   ],
   "source": [
    "ch1 = alt.Chart(repo_summaries, width=600, title=\"Activity per repository\").mark_bar().encode(\n",
    "    x='repo',\n",
    "    y='count',\n",
    "    color='kind',\n",
    "    tooltip=\"kind\"\n",
    ")\n",
    "\n",
    "ch2 = alt.Chart(repo_summaries, width=600, title=\"Log activity per repository\").mark_bar().encode(\n",
    "    x='repo',\n",
    "    y='logcount',\n",
    "    color='kind',\n",
    "    tooltip=\"kind\"\n",
    ")\n",
    "\n",
    "ch1 | ch2"
   ]
  },
  {
   "cell_type": "code",
   "execution_count": 12,
   "id": "changing-plasma",
   "metadata": {
    "execution": {
     "iopub.execute_input": "2021-02-14T01:42:54.431135Z",
     "iopub.status.busy": "2021-02-14T01:42:54.430542Z",
     "iopub.status.idle": "2021-02-14T01:42:54.454840Z",
     "shell.execute_reply": "2021-02-14T01:42:54.455256Z"
    },
    "papermill": {
     "duration": 0.042482,
     "end_time": "2021-02-14T01:42:54.455392",
     "exception": false,
     "start_time": "2021-02-14T01:42:54.412910",
     "status": "completed"
    },
    "tags": [
     "hide_input"
    ]
   },
   "outputs": [
    {
     "data": {
      "text/html": [
       "\n",
       "<div id=\"altair-viz-582f9d043d454e31ba78212c56229a52\"></div>\n",
       "<script type=\"text/javascript\">\n",
       "  (function(spec, embedOpt){\n",
       "    let outputDiv = document.currentScript.previousElementSibling;\n",
       "    if (outputDiv.id !== \"altair-viz-582f9d043d454e31ba78212c56229a52\") {\n",
       "      outputDiv = document.getElementById(\"altair-viz-582f9d043d454e31ba78212c56229a52\");\n",
       "    }\n",
       "    const paths = {\n",
       "      \"vega\": \"https://cdn.jsdelivr.net/npm//vega@5?noext\",\n",
       "      \"vega-lib\": \"https://cdn.jsdelivr.net/npm//vega-lib?noext\",\n",
       "      \"vega-lite\": \"https://cdn.jsdelivr.net/npm//vega-lite@4.8.1?noext\",\n",
       "      \"vega-embed\": \"https://cdn.jsdelivr.net/npm//vega-embed@6?noext\",\n",
       "    };\n",
       "\n",
       "    function loadScript(lib) {\n",
       "      return new Promise(function(resolve, reject) {\n",
       "        var s = document.createElement('script');\n",
       "        s.src = paths[lib];\n",
       "        s.async = true;\n",
       "        s.onload = () => resolve(paths[lib]);\n",
       "        s.onerror = () => reject(`Error loading script: ${paths[lib]}`);\n",
       "        document.getElementsByTagName(\"head\")[0].appendChild(s);\n",
       "      });\n",
       "    }\n",
       "\n",
       "    function showError(err) {\n",
       "      outputDiv.innerHTML = `<div class=\"error\" style=\"color:red;\">${err}</div>`;\n",
       "      throw err;\n",
       "    }\n",
       "\n",
       "    function displayChart(vegaEmbed) {\n",
       "      vegaEmbed(outputDiv, spec, embedOpt)\n",
       "        .catch(err => showError(`Javascript Error: ${err.message}<br>This usually means there's a typo in your chart specification. See the javascript console for the full traceback.`));\n",
       "    }\n",
       "\n",
       "    if(typeof define === \"function\" && define.amd) {\n",
       "      requirejs.config({paths});\n",
       "      require([\"vega-embed\"], displayChart, err => showError(`Error loading script: ${err.message}`));\n",
       "    } else if (typeof vegaEmbed === \"function\") {\n",
       "      displayChart(vegaEmbed);\n",
       "    } else {\n",
       "      loadScript(\"vega\")\n",
       "        .then(() => loadScript(\"vega-lite\"))\n",
       "        .then(() => loadScript(\"vega-embed\"))\n",
       "        .catch(showError)\n",
       "        .then(() => displayChart(vegaEmbed));\n",
       "    }\n",
       "  })({\"config\": {\"axisLeft\": {\"labelFontSize\": 15}, \"axisBottom\": {\"labelFontSize\": 15}}, \"data\": {\"name\": \"data-7e3e14a9719c54163043b437eb2a6f30\"}, \"mark\": \"bar\", \"encoding\": {\"color\": {\"type\": \"nominal\", \"field\": \"kind\"}, \"tooltip\": {\"type\": \"nominal\", \"field\": \"org\"}, \"x\": {\"type\": \"nominal\", \"field\": \"org\"}, \"y\": {\"type\": \"quantitative\", \"field\": \"count\"}}, \"width\": 600, \"$schema\": \"https://vega.github.io/schema/vega-lite/v4.8.1.json\", \"datasets\": {\"data-7e3e14a9719c54163043b437eb2a6f30\": [{\"org\": \"executablebooks\", \"kind\": \"comments\", \"count\": 38}, {\"org\": \"executablebooks\", \"kind\": \"issues\", \"count\": 2}, {\"org\": \"executablebooks\", \"kind\": \"prs\", \"count\": 9}]}}, {\"mode\": \"vega-lite\"});\n",
       "</script>"
      ],
      "text/plain": [
       "alt.Chart(...)"
      ]
     },
     "execution_count": 12,
     "metadata": {},
     "output_type": "execute_result"
    }
   ],
   "source": [
    "alt.Chart(org_summaries, width=600).mark_bar().encode(\n",
    "    x='org',\n",
    "    y='count',\n",
    "    color='kind',\n",
    "    tooltip=\"org\"\n",
    ")"
   ]
  },
  {
   "cell_type": "markdown",
   "id": "broadband-woman",
   "metadata": {
    "papermill": {
     "duration": 0.014462,
     "end_time": "2021-02-14T01:42:54.486937",
     "exception": false,
     "start_time": "2021-02-14T01:42:54.472475",
     "status": "completed"
    },
    "tags": []
   },
   "source": [
    "## By repository over time"
   ]
  },
  {
   "cell_type": "markdown",
   "id": "supported-novelty",
   "metadata": {
    "papermill": {
     "duration": 0.017771,
     "end_time": "2021-02-14T01:42:54.520278",
     "exception": false,
     "start_time": "2021-02-14T01:42:54.502507",
     "status": "completed"
    },
    "tags": []
   },
   "source": [
    "### Comments"
   ]
  },
  {
   "cell_type": "code",
   "execution_count": 13,
   "id": "flush-asian",
   "metadata": {
    "execution": {
     "iopub.execute_input": "2021-02-14T01:42:54.560463Z",
     "iopub.status.busy": "2021-02-14T01:42:54.559894Z",
     "iopub.status.idle": "2021-02-14T01:42:54.620563Z",
     "shell.execute_reply": "2021-02-14T01:42:54.620994Z"
    },
    "papermill": {
     "duration": 0.083469,
     "end_time": "2021-02-14T01:42:54.621150",
     "exception": false,
     "start_time": "2021-02-14T01:42:54.537681",
     "status": "completed"
    },
    "tags": [
     "hide_input"
    ]
   },
   "outputs": [
    {
     "data": {
      "text/html": [
       "\n",
       "<div id=\"altair-viz-e12e69692b2a427399a9ef16aa7d74b0\"></div>\n",
       "<script type=\"text/javascript\">\n",
       "  (function(spec, embedOpt){\n",
       "    let outputDiv = document.currentScript.previousElementSibling;\n",
       "    if (outputDiv.id !== \"altair-viz-e12e69692b2a427399a9ef16aa7d74b0\") {\n",
       "      outputDiv = document.getElementById(\"altair-viz-e12e69692b2a427399a9ef16aa7d74b0\");\n",
       "    }\n",
       "    const paths = {\n",
       "      \"vega\": \"https://cdn.jsdelivr.net/npm//vega@5?noext\",\n",
       "      \"vega-lib\": \"https://cdn.jsdelivr.net/npm//vega-lib?noext\",\n",
       "      \"vega-lite\": \"https://cdn.jsdelivr.net/npm//vega-lite@4.8.1?noext\",\n",
       "      \"vega-embed\": \"https://cdn.jsdelivr.net/npm//vega-embed@6?noext\",\n",
       "    };\n",
       "\n",
       "    function loadScript(lib) {\n",
       "      return new Promise(function(resolve, reject) {\n",
       "        var s = document.createElement('script');\n",
       "        s.src = paths[lib];\n",
       "        s.async = true;\n",
       "        s.onload = () => resolve(paths[lib]);\n",
       "        s.onerror = () => reject(`Error loading script: ${paths[lib]}`);\n",
       "        document.getElementsByTagName(\"head\")[0].appendChild(s);\n",
       "      });\n",
       "    }\n",
       "\n",
       "    function showError(err) {\n",
       "      outputDiv.innerHTML = `<div class=\"error\" style=\"color:red;\">${err}</div>`;\n",
       "      throw err;\n",
       "    }\n",
       "\n",
       "    function displayChart(vegaEmbed) {\n",
       "      vegaEmbed(outputDiv, spec, embedOpt)\n",
       "        .catch(err => showError(`Javascript Error: ${err.message}<br>This usually means there's a typo in your chart specification. See the javascript console for the full traceback.`));\n",
       "    }\n",
       "\n",
       "    if(typeof define === \"function\" && define.amd) {\n",
       "      requirejs.config({paths});\n",
       "      require([\"vega-embed\"], displayChart, err => showError(`Error loading script: ${err.message}`));\n",
       "    } else if (typeof vegaEmbed === \"function\") {\n",
       "      displayChart(vegaEmbed);\n",
       "    } else {\n",
       "      loadScript(\"vega\")\n",
       "        .then(() => loadScript(\"vega-lite\"))\n",
       "        .then(() => loadScript(\"vega-embed\"))\n",
       "        .catch(showError)\n",
       "        .then(() => displayChart(vegaEmbed));\n",
       "    }\n",
       "  })({\"config\": {\"axisLeft\": {\"labelFontSize\": 15}, \"axisBottom\": {\"labelFontSize\": 15}}, \"layer\": [{\"data\": {\"name\": \"data-44a3268e4b8fca0a25b2c6ccb96375ec\"}, \"mark\": \"line\", \"encoding\": {\"color\": {\"type\": \"nominal\", \"field\": \"repo\"}, \"tooltip\": {\"type\": \"nominal\", \"field\": \"repo\"}, \"x\": {\"type\": \"temporal\", \"field\": \"createdAt\"}, \"y\": {\"type\": \"quantitative\", \"field\": \"count\"}}, \"width\": 600}, {\"data\": {\"name\": \"data-c9281536f101c1f5d319ba52bb948f21\"}, \"mark\": {\"type\": \"line\", \"color\": \"black\"}, \"encoding\": {\"x\": {\"type\": \"temporal\", \"field\": \"createdAt\"}, \"y\": {\"type\": \"quantitative\", \"field\": \"count\"}}, \"width\": 600}], \"$schema\": \"https://vega.github.io/schema/vega-lite/v4.8.1.json\", \"datasets\": {\"data-44a3268e4b8fca0a25b2c6ccb96375ec\": [{\"repo\": \"MyST-NB\", \"createdAt\": \"2021-01-10T00:00:00\", \"count\": 5}, {\"repo\": \"MyST-NB\", \"createdAt\": \"2021-01-17T00:00:00\", \"count\": 0}, {\"repo\": \"MyST-NB\", \"createdAt\": \"2021-01-24T00:00:00\", \"count\": 0}, {\"repo\": \"MyST-NB\", \"createdAt\": \"2021-01-31T00:00:00\", \"count\": 1}, {\"repo\": \"MyST-NB\", \"createdAt\": \"2021-02-07T00:00:00\", \"count\": 1}, {\"repo\": \"MyST-NB\", \"createdAt\": \"2021-02-14T00:00:00\", \"count\": 3}, {\"repo\": \"MyST-Parser\", \"createdAt\": \"2021-01-17T00:00:00\", \"count\": 1}, {\"repo\": \"jupyter-book\", \"createdAt\": \"2020-12-27T00:00:00\", \"count\": 5}, {\"repo\": \"jupyter-book\", \"createdAt\": \"2021-01-03T00:00:00\", \"count\": 2}, {\"repo\": \"jupyter-book\", \"createdAt\": \"2021-01-10T00:00:00\", \"count\": 2}, {\"repo\": \"jupyter-book\", \"createdAt\": \"2021-01-17T00:00:00\", \"count\": 1}, {\"repo\": \"jupyter-book\", \"createdAt\": \"2021-01-24T00:00:00\", \"count\": 2}, {\"repo\": \"jupyter-book\", \"createdAt\": \"2021-01-31T00:00:00\", \"count\": 1}, {\"repo\": \"jupyter-book\", \"createdAt\": \"2021-02-07T00:00:00\", \"count\": 2}, {\"repo\": \"jupyter-book\", \"createdAt\": \"2021-02-14T00:00:00\", \"count\": 7}, {\"repo\": \"jupyterbook-latex\", \"createdAt\": \"2020-12-27T00:00:00\", \"count\": 3}, {\"repo\": \"jupyterbook-latex\", \"createdAt\": \"2021-01-03T00:00:00\", \"count\": 0}, {\"repo\": \"jupyterbook-latex\", \"createdAt\": \"2021-01-10T00:00:00\", \"count\": 0}, {\"repo\": \"jupyterbook-latex\", \"createdAt\": \"2021-01-17T00:00:00\", \"count\": 0}, {\"repo\": \"jupyterbook-latex\", \"createdAt\": \"2021-01-24T00:00:00\", \"count\": 0}, {\"repo\": \"jupyterbook-latex\", \"createdAt\": \"2021-01-31T00:00:00\", \"count\": 0}, {\"repo\": \"jupyterbook-latex\", \"createdAt\": \"2021-02-07T00:00:00\", \"count\": 1}, {\"repo\": \"quantecon-mini-example\", \"createdAt\": \"2021-02-14T00:00:00\", \"count\": 1}], \"data-c9281536f101c1f5d319ba52bb948f21\": [{\"createdAt\": \"2020-12-27T00:00:00\", \"count\": 8}, {\"createdAt\": \"2021-01-03T00:00:00\", \"count\": 2}, {\"createdAt\": \"2021-01-10T00:00:00\", \"count\": 7}, {\"createdAt\": \"2021-01-17T00:00:00\", \"count\": 2}, {\"createdAt\": \"2021-01-24T00:00:00\", \"count\": 2}, {\"createdAt\": \"2021-01-31T00:00:00\", \"count\": 2}, {\"createdAt\": \"2021-02-07T00:00:00\", \"count\": 4}, {\"createdAt\": \"2021-02-14T00:00:00\", \"count\": 11}]}}, {\"mode\": \"vega-lite\"});\n",
       "</script>"
      ],
      "text/plain": [
       "alt.LayerChart(...)"
      ]
     },
     "execution_count": 13,
     "metadata": {},
     "output_type": "execute_result"
    }
   ],
   "source": [
    "comments_time = comments.groupby('repo').resample('W', on='createdAt').count()['author'].reset_index()\n",
    "comments_time = comments_time.rename(columns={'author': 'count'})\n",
    "comments_time_total = comments_time.groupby('createdAt').agg({\"count\": \"sum\"}).reset_index()\n",
    "ch1 = alt.Chart(comments_time, width=600).mark_line().encode(\n",
    "    x='createdAt',\n",
    "    y='count',\n",
    "    color='repo',\n",
    "    tooltip=\"repo\"\n",
    ")\n",
    "\n",
    "ch2 = alt.Chart(comments_time_total, width=600).mark_line(color=\"black\").encode(\n",
    "    x='createdAt',\n",
    "    y='count',\n",
    ")\n",
    "\n",
    "ch1 + ch2"
   ]
  },
  {
   "cell_type": "markdown",
   "id": "thick-vintage",
   "metadata": {
    "papermill": {
     "duration": 0.016075,
     "end_time": "2021-02-14T01:42:54.653083",
     "exception": false,
     "start_time": "2021-02-14T01:42:54.637008",
     "status": "completed"
    },
    "tags": []
   },
   "source": [
    "### PRs"
   ]
  },
  {
   "cell_type": "code",
   "execution_count": 14,
   "id": "divided-annotation",
   "metadata": {
    "execution": {
     "iopub.execute_input": "2021-02-14T01:42:54.719885Z",
     "iopub.status.busy": "2021-02-14T01:42:54.719290Z",
     "iopub.status.idle": "2021-02-14T01:42:54.767683Z",
     "shell.execute_reply": "2021-02-14T01:42:54.768071Z"
    },
    "papermill": {
     "duration": 0.09267,
     "end_time": "2021-02-14T01:42:54.768251",
     "exception": false,
     "start_time": "2021-02-14T01:42:54.675581",
     "status": "completed"
    },
    "tags": [
     "hide_input"
    ]
   },
   "outputs": [
    {
     "data": {
      "text/html": [
       "\n",
       "<div id=\"altair-viz-c5b57d0f509a4442a37622208f63e96f\"></div>\n",
       "<script type=\"text/javascript\">\n",
       "  (function(spec, embedOpt){\n",
       "    let outputDiv = document.currentScript.previousElementSibling;\n",
       "    if (outputDiv.id !== \"altair-viz-c5b57d0f509a4442a37622208f63e96f\") {\n",
       "      outputDiv = document.getElementById(\"altair-viz-c5b57d0f509a4442a37622208f63e96f\");\n",
       "    }\n",
       "    const paths = {\n",
       "      \"vega\": \"https://cdn.jsdelivr.net/npm//vega@5?noext\",\n",
       "      \"vega-lib\": \"https://cdn.jsdelivr.net/npm//vega-lib?noext\",\n",
       "      \"vega-lite\": \"https://cdn.jsdelivr.net/npm//vega-lite@4.8.1?noext\",\n",
       "      \"vega-embed\": \"https://cdn.jsdelivr.net/npm//vega-embed@6?noext\",\n",
       "    };\n",
       "\n",
       "    function loadScript(lib) {\n",
       "      return new Promise(function(resolve, reject) {\n",
       "        var s = document.createElement('script');\n",
       "        s.src = paths[lib];\n",
       "        s.async = true;\n",
       "        s.onload = () => resolve(paths[lib]);\n",
       "        s.onerror = () => reject(`Error loading script: ${paths[lib]}`);\n",
       "        document.getElementsByTagName(\"head\")[0].appendChild(s);\n",
       "      });\n",
       "    }\n",
       "\n",
       "    function showError(err) {\n",
       "      outputDiv.innerHTML = `<div class=\"error\" style=\"color:red;\">${err}</div>`;\n",
       "      throw err;\n",
       "    }\n",
       "\n",
       "    function displayChart(vegaEmbed) {\n",
       "      vegaEmbed(outputDiv, spec, embedOpt)\n",
       "        .catch(err => showError(`Javascript Error: ${err.message}<br>This usually means there's a typo in your chart specification. See the javascript console for the full traceback.`));\n",
       "    }\n",
       "\n",
       "    if(typeof define === \"function\" && define.amd) {\n",
       "      requirejs.config({paths});\n",
       "      require([\"vega-embed\"], displayChart, err => showError(`Error loading script: ${err.message}`));\n",
       "    } else if (typeof vegaEmbed === \"function\") {\n",
       "      displayChart(vegaEmbed);\n",
       "    } else {\n",
       "      loadScript(\"vega\")\n",
       "        .then(() => loadScript(\"vega-lite\"))\n",
       "        .then(() => loadScript(\"vega-embed\"))\n",
       "        .catch(showError)\n",
       "        .then(() => displayChart(vegaEmbed));\n",
       "    }\n",
       "  })({\"config\": {\"axisLeft\": {\"labelFontSize\": 15}, \"axisBottom\": {\"labelFontSize\": 15}}, \"layer\": [{\"data\": {\"name\": \"data-60eae7d48acb6e33226eddf5e3fc5e3a\"}, \"mark\": \"line\", \"encoding\": {\"color\": {\"type\": \"nominal\", \"field\": \"repo\"}, \"tooltip\": {\"type\": \"nominal\", \"field\": \"repo\"}, \"x\": {\"type\": \"temporal\", \"field\": \"createdAt\"}, \"y\": {\"type\": \"quantitative\", \"field\": \"count\"}}, \"width\": 600}, {\"data\": {\"name\": \"data-0c6e77e1ae60aff986c45d8fb00d50e3\"}, \"mark\": {\"type\": \"line\", \"color\": \"black\"}, \"encoding\": {\"x\": {\"type\": \"temporal\", \"field\": \"createdAt\"}, \"y\": {\"type\": \"quantitative\", \"field\": \"count\"}}, \"width\": 600}], \"$schema\": \"https://vega.github.io/schema/vega-lite/v4.8.1.json\", \"datasets\": {\"data-60eae7d48acb6e33226eddf5e3fc5e3a\": [{\"repo\": \"MyST-NB\", \"createdAt\": \"2021-01-10T00:00:00\", \"count\": 1}, {\"repo\": \"jupyter-book\", \"createdAt\": \"2020-12-13T00:00:00\", \"count\": 1}, {\"repo\": \"jupyter-book\", \"createdAt\": \"2020-12-20T00:00:00\", \"count\": 0}, {\"repo\": \"jupyter-book\", \"createdAt\": \"2020-12-27T00:00:00\", \"count\": 2}, {\"repo\": \"jupyterbook-latex\", \"createdAt\": \"2020-12-27T00:00:00\", \"count\": 1}, {\"repo\": \"quantecon-mini-example\", \"createdAt\": \"2021-02-14T00:00:00\", \"count\": 1}, {\"repo\": \"sphinx-tomyst\", \"createdAt\": \"2020-12-27T00:00:00\", \"count\": 1}, {\"repo\": \"sphinx-tomyst\", \"createdAt\": \"2021-01-03T00:00:00\", \"count\": 0}, {\"repo\": \"sphinx-tomyst\", \"createdAt\": \"2021-01-10T00:00:00\", \"count\": 2}], \"data-0c6e77e1ae60aff986c45d8fb00d50e3\": [{\"createdAt\": \"2020-12-13T00:00:00\", \"count\": 1}, {\"createdAt\": \"2020-12-20T00:00:00\", \"count\": 0}, {\"createdAt\": \"2020-12-27T00:00:00\", \"count\": 4}, {\"createdAt\": \"2021-01-03T00:00:00\", \"count\": 0}, {\"createdAt\": \"2021-01-10T00:00:00\", \"count\": 3}, {\"createdAt\": \"2021-02-14T00:00:00\", \"count\": 1}]}}, {\"mode\": \"vega-lite\"});\n",
       "</script>"
      ],
      "text/plain": [
       "alt.LayerChart(...)"
      ]
     },
     "execution_count": 14,
     "metadata": {},
     "output_type": "execute_result"
    }
   ],
   "source": [
    "prs_time = prs.groupby('repo').resample('W', on='createdAt').count()['author'].reset_index()\n",
    "prs_time = prs_time.rename(columns={'author': 'count'})\n",
    "prs_time_total = prs_time.groupby('createdAt').agg({\"count\": \"sum\"}).reset_index()\n",
    "\n",
    "ch1 = alt.Chart(prs_time, width=600).mark_line().encode(\n",
    "    x='createdAt',\n",
    "    y='count',\n",
    "    color='repo',\n",
    "    tooltip=\"repo\"\n",
    ")\n",
    "\n",
    "ch2 = alt.Chart(prs_time_total, width=600).mark_line(color=\"black\").encode(\n",
    "    x='createdAt',\n",
    "    y='count',\n",
    ")\n",
    "\n",
    "ch1 + ch2"
   ]
  },
  {
   "cell_type": "code",
   "execution_count": 15,
   "id": "initial-surface",
   "metadata": {
    "execution": {
     "iopub.execute_input": "2021-02-14T01:42:54.831548Z",
     "iopub.status.busy": "2021-02-14T01:42:54.810519Z",
     "iopub.status.idle": "2021-02-14T01:42:54.846053Z",
     "shell.execute_reply": "2021-02-14T01:42:54.846443Z"
    },
    "papermill": {
     "duration": 0.062138,
     "end_time": "2021-02-14T01:42:54.846592",
     "exception": false,
     "start_time": "2021-02-14T01:42:54.784454",
     "status": "completed"
    },
    "tags": [
     "hide_input"
    ]
   },
   "outputs": [
    {
     "data": {
      "text/html": [
       "\n",
       "<div id=\"altair-viz-f6927be6514946f38c9a54d2d40b6491\"></div>\n",
       "<script type=\"text/javascript\">\n",
       "  (function(spec, embedOpt){\n",
       "    let outputDiv = document.currentScript.previousElementSibling;\n",
       "    if (outputDiv.id !== \"altair-viz-f6927be6514946f38c9a54d2d40b6491\") {\n",
       "      outputDiv = document.getElementById(\"altair-viz-f6927be6514946f38c9a54d2d40b6491\");\n",
       "    }\n",
       "    const paths = {\n",
       "      \"vega\": \"https://cdn.jsdelivr.net/npm//vega@5?noext\",\n",
       "      \"vega-lib\": \"https://cdn.jsdelivr.net/npm//vega-lib?noext\",\n",
       "      \"vega-lite\": \"https://cdn.jsdelivr.net/npm//vega-lite@4.8.1?noext\",\n",
       "      \"vega-embed\": \"https://cdn.jsdelivr.net/npm//vega-embed@6?noext\",\n",
       "    };\n",
       "\n",
       "    function loadScript(lib) {\n",
       "      return new Promise(function(resolve, reject) {\n",
       "        var s = document.createElement('script');\n",
       "        s.src = paths[lib];\n",
       "        s.async = true;\n",
       "        s.onload = () => resolve(paths[lib]);\n",
       "        s.onerror = () => reject(`Error loading script: ${paths[lib]}`);\n",
       "        document.getElementsByTagName(\"head\")[0].appendChild(s);\n",
       "      });\n",
       "    }\n",
       "\n",
       "    function showError(err) {\n",
       "      outputDiv.innerHTML = `<div class=\"error\" style=\"color:red;\">${err}</div>`;\n",
       "      throw err;\n",
       "    }\n",
       "\n",
       "    function displayChart(vegaEmbed) {\n",
       "      vegaEmbed(outputDiv, spec, embedOpt)\n",
       "        .catch(err => showError(`Javascript Error: ${err.message}<br>This usually means there's a typo in your chart specification. See the javascript console for the full traceback.`));\n",
       "    }\n",
       "\n",
       "    if(typeof define === \"function\" && define.amd) {\n",
       "      requirejs.config({paths});\n",
       "      require([\"vega-embed\"], displayChart, err => showError(`Error loading script: ${err.message}`));\n",
       "    } else if (typeof vegaEmbed === \"function\") {\n",
       "      displayChart(vegaEmbed);\n",
       "    } else {\n",
       "      loadScript(\"vega\")\n",
       "        .then(() => loadScript(\"vega-lite\"))\n",
       "        .then(() => loadScript(\"vega-embed\"))\n",
       "        .catch(showError)\n",
       "        .then(() => displayChart(vegaEmbed));\n",
       "    }\n",
       "  })({\"config\": {\"axisLeft\": {\"labelFontSize\": 15}, \"axisBottom\": {\"labelFontSize\": 15}}, \"data\": {\"name\": \"data-5927b00a48e7969fd10e7b2f685d5e4c\"}, \"mark\": \"line\", \"encoding\": {\"color\": {\"type\": \"nominal\", \"field\": \"repo\"}, \"tooltip\": {\"type\": \"nominal\", \"field\": \"repo\"}, \"x\": {\"type\": \"temporal\", \"field\": \"closedAt\"}, \"y\": {\"type\": \"quantitative\", \"field\": \"count\"}}, \"width\": 600, \"$schema\": \"https://vega.github.io/schema/vega-lite/v4.8.1.json\", \"datasets\": {\"data-5927b00a48e7969fd10e7b2f685d5e4c\": [{\"repo\": \"jupyter-book\", \"closedAt\": \"2020-12-27T00:00:00\", \"count\": 2}, {\"repo\": \"quantecon-mini-example\", \"closedAt\": \"2021-02-14T00:00:00\", \"count\": 2}, {\"repo\": \"sphinx-tomyst\", \"closedAt\": \"2020-12-27T00:00:00\", \"count\": 1}, {\"repo\": \"sphinx-tomyst\", \"closedAt\": \"2021-01-03T00:00:00\", \"count\": 0}, {\"repo\": \"sphinx-tomyst\", \"closedAt\": \"2021-01-10T00:00:00\", \"count\": 2}]}}, {\"mode\": \"vega-lite\"});\n",
       "</script>"
      ],
      "text/plain": [
       "alt.Chart(...)"
      ]
     },
     "execution_count": 15,
     "metadata": {},
     "output_type": "execute_result"
    }
   ],
   "source": [
    "closed_by_time = closed_by.groupby('repo').resample('W', on='closedAt').count()['author'].reset_index()\n",
    "closed_by_time = closed_by_time.rename(columns={'author': 'count'})\n",
    "\n",
    "alt.Chart(closed_by_time, width=600).mark_line().encode(\n",
    "    x='closedAt',\n",
    "    y='count',\n",
    "    color='repo',\n",
    "    tooltip=\"repo\"\n",
    ")"
   ]
  },
  {
   "cell_type": "markdown",
   "id": "hollywood-holiday",
   "metadata": {
    "papermill": {
     "duration": 0.016751,
     "end_time": "2021-02-14T01:42:54.880835",
     "exception": false,
     "start_time": "2021-02-14T01:42:54.864084",
     "status": "completed"
    },
    "tags": []
   },
   "source": [
    "## By type over time"
   ]
  },
  {
   "cell_type": "code",
   "execution_count": 16,
   "id": "driving-mailman",
   "metadata": {
    "execution": {
     "iopub.execute_input": "2021-02-14T01:42:54.923602Z",
     "iopub.status.busy": "2021-02-14T01:42:54.923108Z",
     "iopub.status.idle": "2021-02-14T01:42:54.937211Z",
     "shell.execute_reply": "2021-02-14T01:42:54.936748Z"
    },
    "papermill": {
     "duration": 0.039328,
     "end_time": "2021-02-14T01:42:54.937338",
     "exception": false,
     "start_time": "2021-02-14T01:42:54.898010",
     "status": "completed"
    },
    "tags": [
     "remove_cell"
    ]
   },
   "outputs": [],
   "source": [
    "prs_time = prs[['author', 'createdAt']].resample('W', on='createdAt').count()['author'].reset_index()\n",
    "prs_time = prs_time.rename(columns={'author': 'prs'})\n",
    "comments_time = comments[['author', 'createdAt']].resample('W', on='createdAt').count()['author'].reset_index()\n",
    "comments_time = comments_time.rename(columns={'author': 'comments'})\n",
    "\n",
    "total_time = pd.merge(prs_time, comments_time, on='createdAt', how='outer')\n",
    "total_time = total_time.melt(id_vars='createdAt', var_name=\"kind\", value_name=\"count\")\n"
   ]
  },
  {
   "cell_type": "code",
   "execution_count": 17,
   "id": "constant-drinking",
   "metadata": {
    "execution": {
     "iopub.execute_input": "2021-02-14T01:42:54.991146Z",
     "iopub.status.busy": "2021-02-14T01:42:54.987249Z",
     "iopub.status.idle": "2021-02-14T01:42:55.002162Z",
     "shell.execute_reply": "2021-02-14T01:42:55.001512Z"
    },
    "papermill": {
     "duration": 0.047147,
     "end_time": "2021-02-14T01:42:55.002292",
     "exception": false,
     "start_time": "2021-02-14T01:42:54.955145",
     "status": "completed"
    },
    "tags": [
     "hide_input"
    ]
   },
   "outputs": [
    {
     "data": {
      "text/html": [
       "\n",
       "<div id=\"altair-viz-5214dfbbbf814c11a1620bbcd9f4e7ed\"></div>\n",
       "<script type=\"text/javascript\">\n",
       "  (function(spec, embedOpt){\n",
       "    let outputDiv = document.currentScript.previousElementSibling;\n",
       "    if (outputDiv.id !== \"altair-viz-5214dfbbbf814c11a1620bbcd9f4e7ed\") {\n",
       "      outputDiv = document.getElementById(\"altair-viz-5214dfbbbf814c11a1620bbcd9f4e7ed\");\n",
       "    }\n",
       "    const paths = {\n",
       "      \"vega\": \"https://cdn.jsdelivr.net/npm//vega@5?noext\",\n",
       "      \"vega-lib\": \"https://cdn.jsdelivr.net/npm//vega-lib?noext\",\n",
       "      \"vega-lite\": \"https://cdn.jsdelivr.net/npm//vega-lite@4.8.1?noext\",\n",
       "      \"vega-embed\": \"https://cdn.jsdelivr.net/npm//vega-embed@6?noext\",\n",
       "    };\n",
       "\n",
       "    function loadScript(lib) {\n",
       "      return new Promise(function(resolve, reject) {\n",
       "        var s = document.createElement('script');\n",
       "        s.src = paths[lib];\n",
       "        s.async = true;\n",
       "        s.onload = () => resolve(paths[lib]);\n",
       "        s.onerror = () => reject(`Error loading script: ${paths[lib]}`);\n",
       "        document.getElementsByTagName(\"head\")[0].appendChild(s);\n",
       "      });\n",
       "    }\n",
       "\n",
       "    function showError(err) {\n",
       "      outputDiv.innerHTML = `<div class=\"error\" style=\"color:red;\">${err}</div>`;\n",
       "      throw err;\n",
       "    }\n",
       "\n",
       "    function displayChart(vegaEmbed) {\n",
       "      vegaEmbed(outputDiv, spec, embedOpt)\n",
       "        .catch(err => showError(`Javascript Error: ${err.message}<br>This usually means there's a typo in your chart specification. See the javascript console for the full traceback.`));\n",
       "    }\n",
       "\n",
       "    if(typeof define === \"function\" && define.amd) {\n",
       "      requirejs.config({paths});\n",
       "      require([\"vega-embed\"], displayChart, err => showError(`Error loading script: ${err.message}`));\n",
       "    } else if (typeof vegaEmbed === \"function\") {\n",
       "      displayChart(vegaEmbed);\n",
       "    } else {\n",
       "      loadScript(\"vega\")\n",
       "        .then(() => loadScript(\"vega-lite\"))\n",
       "        .then(() => loadScript(\"vega-embed\"))\n",
       "        .catch(showError)\n",
       "        .then(() => displayChart(vegaEmbed));\n",
       "    }\n",
       "  })({\"config\": {\"axisLeft\": {\"labelFontSize\": 15}, \"axisBottom\": {\"labelFontSize\": 15}}, \"data\": {\"name\": \"data-92d1bd1149db2ff9ec25f3ef19626fea\"}, \"mark\": \"line\", \"encoding\": {\"color\": {\"type\": \"nominal\", \"field\": \"kind\"}, \"x\": {\"type\": \"temporal\", \"field\": \"createdAt\"}, \"y\": {\"type\": \"quantitative\", \"field\": \"count\"}}, \"width\": 600, \"$schema\": \"https://vega.github.io/schema/vega-lite/v4.8.1.json\", \"datasets\": {\"data-92d1bd1149db2ff9ec25f3ef19626fea\": [{\"createdAt\": \"2020-12-13T00:00:00\", \"kind\": \"prs\", \"count\": 1.0}, {\"createdAt\": \"2020-12-20T00:00:00\", \"kind\": \"prs\", \"count\": 0.0}, {\"createdAt\": \"2020-12-27T00:00:00\", \"kind\": \"prs\", \"count\": 4.0}, {\"createdAt\": \"2021-01-03T00:00:00\", \"kind\": \"prs\", \"count\": 0.0}, {\"createdAt\": \"2021-01-10T00:00:00\", \"kind\": \"prs\", \"count\": 3.0}, {\"createdAt\": \"2021-01-17T00:00:00\", \"kind\": \"prs\", \"count\": 0.0}, {\"createdAt\": \"2021-01-24T00:00:00\", \"kind\": \"prs\", \"count\": 0.0}, {\"createdAt\": \"2021-01-31T00:00:00\", \"kind\": \"prs\", \"count\": 0.0}, {\"createdAt\": \"2021-02-07T00:00:00\", \"kind\": \"prs\", \"count\": 0.0}, {\"createdAt\": \"2021-02-14T00:00:00\", \"kind\": \"prs\", \"count\": 1.0}, {\"createdAt\": \"2020-12-13T00:00:00\", \"kind\": \"comments\", \"count\": null}, {\"createdAt\": \"2020-12-20T00:00:00\", \"kind\": \"comments\", \"count\": null}, {\"createdAt\": \"2020-12-27T00:00:00\", \"kind\": \"comments\", \"count\": 8.0}, {\"createdAt\": \"2021-01-03T00:00:00\", \"kind\": \"comments\", \"count\": 2.0}, {\"createdAt\": \"2021-01-10T00:00:00\", \"kind\": \"comments\", \"count\": 7.0}, {\"createdAt\": \"2021-01-17T00:00:00\", \"kind\": \"comments\", \"count\": 2.0}, {\"createdAt\": \"2021-01-24T00:00:00\", \"kind\": \"comments\", \"count\": 2.0}, {\"createdAt\": \"2021-01-31T00:00:00\", \"kind\": \"comments\", \"count\": 2.0}, {\"createdAt\": \"2021-02-07T00:00:00\", \"kind\": \"comments\", \"count\": 4.0}, {\"createdAt\": \"2021-02-14T00:00:00\", \"kind\": \"comments\", \"count\": 11.0}]}}, {\"mode\": \"vega-lite\"});\n",
       "</script>"
      ],
      "text/plain": [
       "alt.Chart(...)"
      ]
     },
     "execution_count": 17,
     "metadata": {},
     "output_type": "execute_result"
    }
   ],
   "source": [
    "alt.Chart(total_time, width=600).mark_line().encode(\n",
    "    x='createdAt',\n",
    "    y='count',\n",
    "    color='kind'\n",
    ")"
   ]
  }
 ],
 "metadata": {
  "kernelspec": {
   "display_name": "Python 3",
   "language": "python",
   "name": "python3"
  },
  "language_info": {
   "codemirror_mode": {
    "name": "ipython",
    "version": 3
   },
   "file_extension": ".py",
   "mimetype": "text/x-python",
   "name": "python",
   "nbconvert_exporter": "python",
   "pygments_lexer": "ipython3",
   "version": "3.7.9"
  },
  "papermill": {
   "default_parameters": {},
   "duration": 3.194518,
   "end_time": "2021-02-14T01:42:55.330085",
   "environment_variables": {},
   "exception": null,
   "input_path": "./person.ipynb",
   "output_path": "people/mmcky.ipynb",
   "parameters": {
    "n_days": 60,
    "person": "mmcky"
   },
   "start_time": "2021-02-14T01:42:52.135567",
   "version": "2.3.2"
  },
  "widgets": {
   "application/vnd.jupyter.widget-state+json": {
    "state": {},
    "version_major": 2,
    "version_minor": 0
   }
  }
 },
 "nbformat": 4,
 "nbformat_minor": 5
}