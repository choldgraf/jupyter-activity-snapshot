{
 "cells": [
  {
   "cell_type": "markdown",
   "id": "d5136c92",
   "metadata": {
    "papermill": {
     "duration": 0.004592,
     "end_time": "2023-03-06T14:44:56.882843",
     "exception": false,
     "start_time": "2023-03-06T14:44:56.878251",
     "status": "completed"
    },
    "tags": []
   },
   "source": [
    "# Report for damianavila"
   ]
  },
  {
   "cell_type": "code",
   "execution_count": 1,
   "id": "f53abf59",
   "metadata": {
    "execution": {
     "iopub.execute_input": "2023-03-06T14:44:56.894626Z",
     "iopub.status.busy": "2023-03-06T14:44:56.894100Z",
     "iopub.status.idle": "2023-03-06T14:44:57.730304Z",
     "shell.execute_reply": "2023-03-06T14:44:57.729554Z"
    },
    "papermill": {
     "duration": 0.844432,
     "end_time": "2023-03-06T14:44:57.732445",
     "exception": false,
     "start_time": "2023-03-06T14:44:56.888013",
     "status": "completed"
    },
    "tags": [
     "remove_cell"
    ]
   },
   "outputs": [],
   "source": [
    "import seaborn as sns\n",
    "import pandas as pd\n",
    "import numpy as np\n",
    "import altair as alt\n",
    "from markdown import markdown\n",
    "from IPython.display import Markdown\n",
    "from ipywidgets.widgets import HTML, Tab\n",
    "from ipywidgets import widgets\n",
    "from datetime import timedelta\n",
    "from matplotlib import pyplot as plt\n",
    "import os.path as op\n",
    "\n",
    "from mycode import alt_theme\n",
    "from warnings import simplefilter\n",
    "simplefilter('ignore')"
   ]
  },
  {
   "cell_type": "code",
   "execution_count": 2,
   "id": "f44b493c",
   "metadata": {
    "execution": {
     "iopub.execute_input": "2023-03-06T14:44:57.744791Z",
     "iopub.status.busy": "2023-03-06T14:44:57.743986Z",
     "iopub.status.idle": "2023-03-06T14:44:57.747651Z",
     "shell.execute_reply": "2023-03-06T14:44:57.746995Z"
    },
    "papermill": {
     "duration": 0.011635,
     "end_time": "2023-03-06T14:44:57.749205",
     "exception": false,
     "start_time": "2023-03-06T14:44:57.737570",
     "status": "completed"
    },
    "tags": [
     "remove_cell"
    ]
   },
   "outputs": [],
   "source": [
    "def author_url(author):\n",
    "    return f\"https://github.com/{author}\""
   ]
  },
  {
   "cell_type": "code",
   "execution_count": 3,
   "id": "c8ffed87",
   "metadata": {
    "execution": {
     "iopub.execute_input": "2023-03-06T14:44:57.758356Z",
     "iopub.status.busy": "2023-03-06T14:44:57.757770Z",
     "iopub.status.idle": "2023-03-06T14:44:57.761930Z",
     "shell.execute_reply": "2023-03-06T14:44:57.761263Z"
    },
    "papermill": {
     "duration": 0.010474,
     "end_time": "2023-03-06T14:44:57.763581",
     "exception": false,
     "start_time": "2023-03-06T14:44:57.753107",
     "status": "completed"
    },
    "tags": [
     "parameters",
     "hide_input"
    ]
   },
   "outputs": [],
   "source": [
    "# Parameters\n",
    "fmt_date = \"{:%Y-%m-%d}\"\n",
    "\n",
    "n_days = 30 * 60\n",
    "start_date = fmt_date.format(pd.datetime.today() - timedelta(days=n_days))\n",
    "end_date = fmt_date.format(pd.datetime.today())\n",
    "\n",
    "renderer = \"html\"\n",
    "person = \"damianavila\""
   ]
  },
  {
   "cell_type": "code",
   "execution_count": 4,
   "id": "c5c6914c",
   "metadata": {
    "execution": {
     "iopub.execute_input": "2023-03-06T14:44:57.772745Z",
     "iopub.status.busy": "2023-03-06T14:44:57.772165Z",
     "iopub.status.idle": "2023-03-06T14:44:57.775458Z",
     "shell.execute_reply": "2023-03-06T14:44:57.774809Z"
    },
    "papermill": {
     "duration": 0.009629,
     "end_time": "2023-03-06T14:44:57.777055",
     "exception": false,
     "start_time": "2023-03-06T14:44:57.767426",
     "status": "completed"
    },
    "tags": [
     "injected-parameters",
     "remove-cell"
    ]
   },
   "outputs": [],
   "source": [
    "# Parameters\n",
    "person = \"damianavila\"\n",
    "n_days = 90\n"
   ]
  },
  {
   "cell_type": "code",
   "execution_count": 5,
   "id": "6685f79c",
   "metadata": {
    "execution": {
     "iopub.execute_input": "2023-03-06T14:44:57.786210Z",
     "iopub.status.busy": "2023-03-06T14:44:57.785637Z",
     "iopub.status.idle": "2023-03-06T14:44:57.792802Z",
     "shell.execute_reply": "2023-03-06T14:44:57.792259Z"
    },
    "papermill": {
     "duration": 0.013212,
     "end_time": "2023-03-06T14:44:57.794227",
     "exception": false,
     "start_time": "2023-03-06T14:44:57.781015",
     "status": "completed"
    },
    "tags": [
     "remove_cell"
    ]
   },
   "outputs": [
    {
     "data": {
      "text/plain": [
       "ThemeRegistry.enable('my_theme')"
      ]
     },
     "execution_count": 5,
     "metadata": {},
     "output_type": "execute_result"
    }
   ],
   "source": [
    "alt.renderers.enable(renderer);\n",
    "alt.themes.register('my_theme', alt_theme)\n",
    "alt.themes.enable(\"my_theme\")"
   ]
  },
  {
   "cell_type": "markdown",
   "id": "34b628cd",
   "metadata": {
    "papermill": {
     "duration": 0.004027,
     "end_time": "2023-03-06T14:44:57.802281",
     "exception": false,
     "start_time": "2023-03-06T14:44:57.798254",
     "status": "completed"
    },
    "tags": []
   },
   "source": [
    "## Load data"
   ]
  },
  {
   "cell_type": "code",
   "execution_count": 6,
   "id": "94a34e27",
   "metadata": {
    "execution": {
     "iopub.execute_input": "2023-03-06T14:44:57.812113Z",
     "iopub.status.busy": "2023-03-06T14:44:57.811500Z",
     "iopub.status.idle": "2023-03-06T14:44:57.941875Z",
     "shell.execute_reply": "2023-03-06T14:44:57.941109Z"
    },
    "papermill": {
     "duration": 0.13762,
     "end_time": "2023-03-06T14:44:57.943997",
     "exception": false,
     "start_time": "2023-03-06T14:44:57.806377",
     "status": "completed"
    },
    "tags": [
     "remove_cell"
    ]
   },
   "outputs": [],
   "source": [
    "from pathlib import Path\n",
    "path_data = Path(\"./\")\n",
    "comments = pd.read_csv(path_data.joinpath('../data/comments.csv'), index_col=0)\n",
    "issues = pd.read_csv(path_data.joinpath('../data/issues.csv'), index_col=0)\n",
    "prs = pd.read_csv(path_data.joinpath('../data/prs.csv'), index_col=0)\n",
    "\n",
    "comments = comments.query('author == @person').drop_duplicates()\n",
    "issues = issues.query('author == @person').drop_duplicates()\n",
    "closed_by = prs.query('mergedBy == @person')\n",
    "prs = prs.query('author == @person').drop_duplicates()"
   ]
  },
  {
   "cell_type": "code",
   "execution_count": 7,
   "id": "e396d983",
   "metadata": {
    "execution": {
     "iopub.execute_input": "2023-03-06T14:44:57.957416Z",
     "iopub.status.busy": "2023-03-06T14:44:57.956857Z",
     "iopub.status.idle": "2023-03-06T14:44:57.960372Z",
     "shell.execute_reply": "2023-03-06T14:44:57.959849Z"
    },
    "papermill": {
     "duration": 0.012164,
     "end_time": "2023-03-06T14:44:57.961930",
     "exception": false,
     "start_time": "2023-03-06T14:44:57.949766",
     "status": "completed"
    },
    "tags": []
   },
   "outputs": [],
   "source": [
    "if len(prs) == 0:\n",
    "    import sys\n",
    "    print(f\"Empty data for {person}, skipping...\")\n",
    "    sys.exit(0)"
   ]
  },
  {
   "cell_type": "code",
   "execution_count": 8,
   "id": "168d0317",
   "metadata": {
    "execution": {
     "iopub.execute_input": "2023-03-06T14:44:57.971606Z",
     "iopub.status.busy": "2023-03-06T14:44:57.971148Z",
     "iopub.status.idle": "2023-03-06T14:44:58.017807Z",
     "shell.execute_reply": "2023-03-06T14:44:58.017090Z"
    },
    "papermill": {
     "duration": 0.053722,
     "end_time": "2023-03-06T14:44:58.019918",
     "exception": false,
     "start_time": "2023-03-06T14:44:57.966196",
     "status": "completed"
    },
    "tags": [
     "remove_cell"
    ]
   },
   "outputs": [],
   "source": [
    "# Time columns\n",
    "# Also drop dates outside of our range\n",
    "time_columns = ['updatedAt', 'createdAt', 'closedAt']\n",
    "for col in time_columns:\n",
    "    for item in [comments, issues, prs, closed_by]:\n",
    "        if col not in item.columns:\n",
    "            continue\n",
    "        dt = pd.to_datetime(item[col]).dt.tz_localize(None)\n",
    "        item.loc[:, col] = dt\n",
    "        item.query(\"updatedAt < @end_date and updatedAt > @start_date\", inplace=True)"
   ]
  },
  {
   "cell_type": "markdown",
   "id": "73217688",
   "metadata": {
    "papermill": {
     "duration": 0.004275,
     "end_time": "2023-03-06T14:44:58.028559",
     "exception": false,
     "start_time": "2023-03-06T14:44:58.024284",
     "status": "completed"
    },
    "tags": []
   },
   "source": [
    "## Repository summaries"
   ]
  },
  {
   "cell_type": "code",
   "execution_count": 9,
   "id": "10698a66",
   "metadata": {
    "execution": {
     "iopub.execute_input": "2023-03-06T14:44:58.038684Z",
     "iopub.status.busy": "2023-03-06T14:44:58.038006Z",
     "iopub.status.idle": "2023-03-06T14:44:58.053405Z",
     "shell.execute_reply": "2023-03-06T14:44:58.052762Z"
    },
    "papermill": {
     "duration": 0.022277,
     "end_time": "2023-03-06T14:44:58.055097",
     "exception": false,
     "start_time": "2023-03-06T14:44:58.032820",
     "status": "completed"
    },
    "tags": [
     "remove_cell"
    ]
   },
   "outputs": [],
   "source": [
    "summaries = []\n",
    "for idata, name in [(issues, 'issues'), (prs, 'prs'), (comments, 'comments')]:\n",
    "    idata = idata.groupby([\"repo\", \"org\"]).agg({'id': \"count\"}).reset_index().rename(columns={'id': 'count'})\n",
    "    idata[\"kind\"] = name\n",
    "    summaries.append(idata)\n",
    "summaries = pd.concat(summaries)"
   ]
  },
  {
   "cell_type": "code",
   "execution_count": 10,
   "id": "5364d48a",
   "metadata": {
    "execution": {
     "iopub.execute_input": "2023-03-06T14:44:58.067121Z",
     "iopub.status.busy": "2023-03-06T14:44:58.066861Z",
     "iopub.status.idle": "2023-03-06T14:44:58.076134Z",
     "shell.execute_reply": "2023-03-06T14:44:58.074919Z"
    },
    "papermill": {
     "duration": 0.017859,
     "end_time": "2023-03-06T14:44:58.077794",
     "exception": false,
     "start_time": "2023-03-06T14:44:58.059935",
     "status": "completed"
    },
    "tags": [
     "remove_cell"
    ]
   },
   "outputs": [],
   "source": [
    "repo_summaries = summaries.groupby([\"repo\", \"kind\"]).agg({\"count\": \"sum\"}).reset_index()\n",
    "org_summaries = summaries.groupby([\"org\", \"kind\"]).agg({\"count\": \"sum\"}).reset_index()"
   ]
  },
  {
   "cell_type": "code",
   "execution_count": 11,
   "id": "1a08277b",
   "metadata": {
    "execution": {
     "iopub.execute_input": "2023-03-06T14:44:58.087818Z",
     "iopub.status.busy": "2023-03-06T14:44:58.087201Z",
     "iopub.status.idle": "2023-03-06T14:44:58.091586Z",
     "shell.execute_reply": "2023-03-06T14:44:58.090935Z"
    },
    "papermill": {
     "duration": 0.011062,
     "end_time": "2023-03-06T14:44:58.093161",
     "exception": false,
     "start_time": "2023-03-06T14:44:58.082099",
     "status": "completed"
    },
    "tags": [
     "remove_cell"
    ]
   },
   "outputs": [],
   "source": [
    "repo_summaries['logcount'] = np.log(repo_summaries[\"count\"])"
   ]
  },
  {
   "cell_type": "code",
   "execution_count": 12,
   "id": "70858f63",
   "metadata": {
    "execution": {
     "iopub.execute_input": "2023-03-06T14:44:58.103139Z",
     "iopub.status.busy": "2023-03-06T14:44:58.102635Z",
     "iopub.status.idle": "2023-03-06T14:44:58.190540Z",
     "shell.execute_reply": "2023-03-06T14:44:58.189756Z"
    },
    "papermill": {
     "duration": 0.09548,
     "end_time": "2023-03-06T14:44:58.192932",
     "exception": false,
     "start_time": "2023-03-06T14:44:58.097452",
     "status": "completed"
    },
    "tags": [
     "hide_input"
    ]
   },
   "outputs": [
    {
     "data": {
      "text/html": [
       "\n",
       "<div id=\"altair-viz-3df13ea9953e450198a5c2da432d914a\"></div>\n",
       "<script type=\"text/javascript\">\n",
       "  var VEGA_DEBUG = (typeof VEGA_DEBUG == \"undefined\") ? {} : VEGA_DEBUG;\n",
       "  (function(spec, embedOpt){\n",
       "    let outputDiv = document.currentScript.previousElementSibling;\n",
       "    if (outputDiv.id !== \"altair-viz-3df13ea9953e450198a5c2da432d914a\") {\n",
       "      outputDiv = document.getElementById(\"altair-viz-3df13ea9953e450198a5c2da432d914a\");\n",
       "    }\n",
       "    const paths = {\n",
       "      \"vega\": \"https://cdn.jsdelivr.net/npm//vega@5?noext\",\n",
       "      \"vega-lib\": \"https://cdn.jsdelivr.net/npm//vega-lib?noext\",\n",
       "      \"vega-lite\": \"https://cdn.jsdelivr.net/npm//vega-lite@4.17.0?noext\",\n",
       "      \"vega-embed\": \"https://cdn.jsdelivr.net/npm//vega-embed@6?noext\",\n",
       "    };\n",
       "\n",
       "    function maybeLoadScript(lib, version) {\n",
       "      var key = `${lib.replace(\"-\", \"\")}_version`;\n",
       "      return (VEGA_DEBUG[key] == version) ?\n",
       "        Promise.resolve(paths[lib]) :\n",
       "        new Promise(function(resolve, reject) {\n",
       "          var s = document.createElement('script');\n",
       "          document.getElementsByTagName(\"head\")[0].appendChild(s);\n",
       "          s.async = true;\n",
       "          s.onload = () => {\n",
       "            VEGA_DEBUG[key] = version;\n",
       "            return resolve(paths[lib]);\n",
       "          };\n",
       "          s.onerror = () => reject(`Error loading script: ${paths[lib]}`);\n",
       "          s.src = paths[lib];\n",
       "        });\n",
       "    }\n",
       "\n",
       "    function showError(err) {\n",
       "      outputDiv.innerHTML = `<div class=\"error\" style=\"color:red;\">${err}</div>`;\n",
       "      throw err;\n",
       "    }\n",
       "\n",
       "    function displayChart(vegaEmbed) {\n",
       "      vegaEmbed(outputDiv, spec, embedOpt)\n",
       "        .catch(err => showError(`Javascript Error: ${err.message}<br>This usually means there's a typo in your chart specification. See the javascript console for the full traceback.`));\n",
       "    }\n",
       "\n",
       "    if(typeof define === \"function\" && define.amd) {\n",
       "      requirejs.config({paths});\n",
       "      require([\"vega-embed\"], displayChart, err => showError(`Error loading script: ${err.message}`));\n",
       "    } else {\n",
       "      maybeLoadScript(\"vega\", \"5\")\n",
       "        .then(() => maybeLoadScript(\"vega-lite\", \"4.17.0\"))\n",
       "        .then(() => maybeLoadScript(\"vega-embed\", \"6\"))\n",
       "        .catch(showError)\n",
       "        .then(() => displayChart(vegaEmbed));\n",
       "    }\n",
       "  })({\"config\": {\"axisLeft\": {\"labelFontSize\": 15}, \"axisBottom\": {\"labelFontSize\": 15}}, \"hconcat\": [{\"mark\": \"bar\", \"encoding\": {\"color\": {\"field\": \"kind\", \"type\": \"nominal\"}, \"tooltip\": {\"field\": \"kind\", \"type\": \"nominal\"}, \"x\": {\"field\": \"repo\", \"type\": \"nominal\"}, \"y\": {\"field\": \"count\", \"type\": \"quantitative\"}}, \"title\": \"Activity per repository\", \"width\": 600}, {\"mark\": \"bar\", \"encoding\": {\"color\": {\"field\": \"kind\", \"type\": \"nominal\"}, \"tooltip\": {\"field\": \"kind\", \"type\": \"nominal\"}, \"x\": {\"field\": \"repo\", \"type\": \"nominal\"}, \"y\": {\"field\": \"logcount\", \"type\": \"quantitative\"}}, \"title\": \"Log activity per repository\", \"width\": 600}], \"data\": {\"name\": \"data-ac77891a73a93fed651f62d116855afe\"}, \"$schema\": \"https://vega.github.io/schema/vega-lite/v4.17.0.json\", \"datasets\": {\"data-ac77891a73a93fed651f62d116855afe\": [{\"repo\": \"2i2c-hubs-image\", \"kind\": \"comments\", \"count\": 3, \"logcount\": 1.0986122886681096}, {\"repo\": \"2i2c-org.github.io\", \"kind\": \"comments\", \"count\": 4, \"logcount\": 1.3862943611198906}, {\"repo\": \"2i2c-org.github.io\", \"kind\": \"prs\", \"count\": 1, \"logcount\": 0.0}, {\"repo\": \"cloudbank-hubs-image\", \"kind\": \"comments\", \"count\": 2, \"logcount\": 0.6931471805599453}, {\"repo\": \"docs\", \"kind\": \"comments\", \"count\": 1, \"logcount\": 0.0}, {\"repo\": \"hub-user-image-template\", \"kind\": \"comments\", \"count\": 1, \"logcount\": 0.0}, {\"repo\": \"infrastructure\", \"kind\": \"comments\", \"count\": 70, \"logcount\": 4.2484952420493585}, {\"repo\": \"infrastructure\", \"kind\": \"issues\", \"count\": 11, \"logcount\": 2.3978952727983707}, {\"repo\": \"leads\", \"kind\": \"comments\", \"count\": 10, \"logcount\": 2.3025850929940455}, {\"repo\": \"meta\", \"kind\": \"comments\", \"count\": 63, \"logcount\": 4.143134726391533}, {\"repo\": \"meta\", \"kind\": \"issues\", \"count\": 7, \"logcount\": 1.9459101490553132}, {\"repo\": \"meta\", \"kind\": \"prs\", \"count\": 1, \"logcount\": 0.0}, {\"repo\": \"outreachy\", \"kind\": \"comments\", \"count\": 1, \"logcount\": 0.0}, {\"repo\": \"researchdelight-image\", \"kind\": \"comments\", \"count\": 3, \"logcount\": 1.0986122886681096}, {\"repo\": \"sphinx-2i2c-theme\", \"kind\": \"comments\", \"count\": 1, \"logcount\": 0.0}, {\"repo\": \"team-compass\", \"kind\": \"comments\", \"count\": 50, \"logcount\": 3.912023005428146}, {\"repo\": \"team-compass\", \"kind\": \"issues\", \"count\": 2, \"logcount\": 0.6931471805599453}, {\"repo\": \"team-compass\", \"kind\": \"prs\", \"count\": 2, \"logcount\": 0.6931471805599453}, {\"repo\": \"team-roles-geekbot-sweep\", \"kind\": \"comments\", \"count\": 1, \"logcount\": 0.0}, {\"repo\": \"utoronto-image\", \"kind\": \"comments\", \"count\": 1, \"logcount\": 0.0}]}}, {\"mode\": \"vega-lite\"});\n",
       "</script>"
      ],
      "text/plain": [
       "alt.HConcatChart(...)"
      ]
     },
     "execution_count": 12,
     "metadata": {},
     "output_type": "execute_result"
    }
   ],
   "source": [
    "ch1 = alt.Chart(repo_summaries, width=600, title=\"Activity per repository\").mark_bar().encode(\n",
    "    x='repo',\n",
    "    y='count',\n",
    "    color='kind',\n",
    "    tooltip=\"kind\"\n",
    ")\n",
    "\n",
    "ch2 = alt.Chart(repo_summaries, width=600, title=\"Log activity per repository\").mark_bar().encode(\n",
    "    x='repo',\n",
    "    y='logcount',\n",
    "    color='kind',\n",
    "    tooltip=\"kind\"\n",
    ")\n",
    "\n",
    "ch1 | ch2"
   ]
  },
  {
   "cell_type": "code",
   "execution_count": 13,
   "id": "8eb7e7ad",
   "metadata": {
    "execution": {
     "iopub.execute_input": "2023-03-06T14:44:58.206940Z",
     "iopub.status.busy": "2023-03-06T14:44:58.206539Z",
     "iopub.status.idle": "2023-03-06T14:44:58.252699Z",
     "shell.execute_reply": "2023-03-06T14:44:58.251921Z"
    },
    "papermill": {
     "duration": 0.056096,
     "end_time": "2023-03-06T14:44:58.254979",
     "exception": false,
     "start_time": "2023-03-06T14:44:58.198883",
     "status": "completed"
    },
    "tags": [
     "hide_input"
    ]
   },
   "outputs": [
    {
     "data": {
      "text/html": [
       "\n",
       "<div id=\"altair-viz-735c3c323729423e9b4d97e20955b8c1\"></div>\n",
       "<script type=\"text/javascript\">\n",
       "  var VEGA_DEBUG = (typeof VEGA_DEBUG == \"undefined\") ? {} : VEGA_DEBUG;\n",
       "  (function(spec, embedOpt){\n",
       "    let outputDiv = document.currentScript.previousElementSibling;\n",
       "    if (outputDiv.id !== \"altair-viz-735c3c323729423e9b4d97e20955b8c1\") {\n",
       "      outputDiv = document.getElementById(\"altair-viz-735c3c323729423e9b4d97e20955b8c1\");\n",
       "    }\n",
       "    const paths = {\n",
       "      \"vega\": \"https://cdn.jsdelivr.net/npm//vega@5?noext\",\n",
       "      \"vega-lib\": \"https://cdn.jsdelivr.net/npm//vega-lib?noext\",\n",
       "      \"vega-lite\": \"https://cdn.jsdelivr.net/npm//vega-lite@4.17.0?noext\",\n",
       "      \"vega-embed\": \"https://cdn.jsdelivr.net/npm//vega-embed@6?noext\",\n",
       "    };\n",
       "\n",
       "    function maybeLoadScript(lib, version) {\n",
       "      var key = `${lib.replace(\"-\", \"\")}_version`;\n",
       "      return (VEGA_DEBUG[key] == version) ?\n",
       "        Promise.resolve(paths[lib]) :\n",
       "        new Promise(function(resolve, reject) {\n",
       "          var s = document.createElement('script');\n",
       "          document.getElementsByTagName(\"head\")[0].appendChild(s);\n",
       "          s.async = true;\n",
       "          s.onload = () => {\n",
       "            VEGA_DEBUG[key] = version;\n",
       "            return resolve(paths[lib]);\n",
       "          };\n",
       "          s.onerror = () => reject(`Error loading script: ${paths[lib]}`);\n",
       "          s.src = paths[lib];\n",
       "        });\n",
       "    }\n",
       "\n",
       "    function showError(err) {\n",
       "      outputDiv.innerHTML = `<div class=\"error\" style=\"color:red;\">${err}</div>`;\n",
       "      throw err;\n",
       "    }\n",
       "\n",
       "    function displayChart(vegaEmbed) {\n",
       "      vegaEmbed(outputDiv, spec, embedOpt)\n",
       "        .catch(err => showError(`Javascript Error: ${err.message}<br>This usually means there's a typo in your chart specification. See the javascript console for the full traceback.`));\n",
       "    }\n",
       "\n",
       "    if(typeof define === \"function\" && define.amd) {\n",
       "      requirejs.config({paths});\n",
       "      require([\"vega-embed\"], displayChart, err => showError(`Error loading script: ${err.message}`));\n",
       "    } else {\n",
       "      maybeLoadScript(\"vega\", \"5\")\n",
       "        .then(() => maybeLoadScript(\"vega-lite\", \"4.17.0\"))\n",
       "        .then(() => maybeLoadScript(\"vega-embed\", \"6\"))\n",
       "        .catch(showError)\n",
       "        .then(() => displayChart(vegaEmbed));\n",
       "    }\n",
       "  })({\"config\": {\"axisLeft\": {\"labelFontSize\": 15}, \"axisBottom\": {\"labelFontSize\": 15}}, \"data\": {\"name\": \"data-4749d799a59b6719343808b31523f639\"}, \"mark\": \"bar\", \"encoding\": {\"color\": {\"field\": \"kind\", \"type\": \"nominal\"}, \"tooltip\": {\"field\": \"org\", \"type\": \"nominal\"}, \"x\": {\"field\": \"org\", \"type\": \"nominal\"}, \"y\": {\"field\": \"count\", \"type\": \"quantitative\"}}, \"width\": 600, \"$schema\": \"https://vega.github.io/schema/vega-lite/v4.17.0.json\", \"datasets\": {\"data-4749d799a59b6719343808b31523f639\": [{\"org\": \"2i2c-org\", \"kind\": \"comments\", \"count\": 209}, {\"org\": \"2i2c-org\", \"kind\": \"issues\", \"count\": 20}, {\"org\": \"2i2c-org\", \"kind\": \"prs\", \"count\": 4}, {\"org\": \"jupyterhub\", \"kind\": \"comments\", \"count\": 1}, {\"org\": \"jupyterlab\", \"kind\": \"comments\", \"count\": 1}]}}, {\"mode\": \"vega-lite\"});\n",
       "</script>"
      ],
      "text/plain": [
       "alt.Chart(...)"
      ]
     },
     "execution_count": 13,
     "metadata": {},
     "output_type": "execute_result"
    }
   ],
   "source": [
    "alt.Chart(org_summaries, width=600).mark_bar().encode(\n",
    "    x='org',\n",
    "    y='count',\n",
    "    color='kind',\n",
    "    tooltip=\"org\"\n",
    ")"
   ]
  },
  {
   "cell_type": "markdown",
   "id": "01d7b983",
   "metadata": {
    "papermill": {
     "duration": 0.005076,
     "end_time": "2023-03-06T14:44:58.265745",
     "exception": false,
     "start_time": "2023-03-06T14:44:58.260669",
     "status": "completed"
    },
    "tags": []
   },
   "source": [
    "## By repository over time"
   ]
  },
  {
   "cell_type": "markdown",
   "id": "5979486c",
   "metadata": {
    "papermill": {
     "duration": 0.004621,
     "end_time": "2023-03-06T14:44:58.275155",
     "exception": false,
     "start_time": "2023-03-06T14:44:58.270534",
     "status": "completed"
    },
    "tags": []
   },
   "source": [
    "### Comments"
   ]
  },
  {
   "cell_type": "code",
   "execution_count": 14,
   "id": "f2a3ee19",
   "metadata": {
    "execution": {
     "iopub.execute_input": "2023-03-06T14:44:58.286315Z",
     "iopub.status.busy": "2023-03-06T14:44:58.285543Z",
     "iopub.status.idle": "2023-03-06T14:44:58.403573Z",
     "shell.execute_reply": "2023-03-06T14:44:58.402790Z"
    },
    "papermill": {
     "duration": 0.126325,
     "end_time": "2023-03-06T14:44:58.406102",
     "exception": false,
     "start_time": "2023-03-06T14:44:58.279777",
     "status": "completed"
    },
    "tags": [
     "hide_input"
    ]
   },
   "outputs": [
    {
     "data": {
      "text/html": [
       "\n",
       "<div id=\"altair-viz-21c3ab2c72fb4091a8a5831ef5ff8880\"></div>\n",
       "<script type=\"text/javascript\">\n",
       "  var VEGA_DEBUG = (typeof VEGA_DEBUG == \"undefined\") ? {} : VEGA_DEBUG;\n",
       "  (function(spec, embedOpt){\n",
       "    let outputDiv = document.currentScript.previousElementSibling;\n",
       "    if (outputDiv.id !== \"altair-viz-21c3ab2c72fb4091a8a5831ef5ff8880\") {\n",
       "      outputDiv = document.getElementById(\"altair-viz-21c3ab2c72fb4091a8a5831ef5ff8880\");\n",
       "    }\n",
       "    const paths = {\n",
       "      \"vega\": \"https://cdn.jsdelivr.net/npm//vega@5?noext\",\n",
       "      \"vega-lib\": \"https://cdn.jsdelivr.net/npm//vega-lib?noext\",\n",
       "      \"vega-lite\": \"https://cdn.jsdelivr.net/npm//vega-lite@4.17.0?noext\",\n",
       "      \"vega-embed\": \"https://cdn.jsdelivr.net/npm//vega-embed@6?noext\",\n",
       "    };\n",
       "\n",
       "    function maybeLoadScript(lib, version) {\n",
       "      var key = `${lib.replace(\"-\", \"\")}_version`;\n",
       "      return (VEGA_DEBUG[key] == version) ?\n",
       "        Promise.resolve(paths[lib]) :\n",
       "        new Promise(function(resolve, reject) {\n",
       "          var s = document.createElement('script');\n",
       "          document.getElementsByTagName(\"head\")[0].appendChild(s);\n",
       "          s.async = true;\n",
       "          s.onload = () => {\n",
       "            VEGA_DEBUG[key] = version;\n",
       "            return resolve(paths[lib]);\n",
       "          };\n",
       "          s.onerror = () => reject(`Error loading script: ${paths[lib]}`);\n",
       "          s.src = paths[lib];\n",
       "        });\n",
       "    }\n",
       "\n",
       "    function showError(err) {\n",
       "      outputDiv.innerHTML = `<div class=\"error\" style=\"color:red;\">${err}</div>`;\n",
       "      throw err;\n",
       "    }\n",
       "\n",
       "    function displayChart(vegaEmbed) {\n",
       "      vegaEmbed(outputDiv, spec, embedOpt)\n",
       "        .catch(err => showError(`Javascript Error: ${err.message}<br>This usually means there's a typo in your chart specification. See the javascript console for the full traceback.`));\n",
       "    }\n",
       "\n",
       "    if(typeof define === \"function\" && define.amd) {\n",
       "      requirejs.config({paths});\n",
       "      require([\"vega-embed\"], displayChart, err => showError(`Error loading script: ${err.message}`));\n",
       "    } else {\n",
       "      maybeLoadScript(\"vega\", \"5\")\n",
       "        .then(() => maybeLoadScript(\"vega-lite\", \"4.17.0\"))\n",
       "        .then(() => maybeLoadScript(\"vega-embed\", \"6\"))\n",
       "        .catch(showError)\n",
       "        .then(() => displayChart(vegaEmbed));\n",
       "    }\n",
       "  })({\"config\": {\"axisLeft\": {\"labelFontSize\": 15}, \"axisBottom\": {\"labelFontSize\": 15}}, \"layer\": [{\"data\": {\"name\": \"data-a3305e4ffd64ed8210a30eb7450baf0c\"}, \"mark\": \"line\", \"encoding\": {\"color\": {\"field\": \"repo\", \"type\": \"nominal\"}, \"tooltip\": {\"field\": \"repo\", \"type\": \"nominal\"}, \"x\": {\"field\": \"createdAt\", \"type\": \"temporal\"}, \"y\": {\"field\": \"count\", \"type\": \"quantitative\"}}, \"width\": 600}, {\"data\": {\"name\": \"data-aede900ec1ced1f3e7e9382bcd11e5e7\"}, \"mark\": {\"type\": \"line\", \"color\": \"black\"}, \"encoding\": {\"x\": {\"field\": \"createdAt\", \"type\": \"temporal\"}, \"y\": {\"field\": \"count\", \"type\": \"quantitative\"}}, \"width\": 600}], \"$schema\": \"https://vega.github.io/schema/vega-lite/v4.17.0.json\", \"datasets\": {\"data-a3305e4ffd64ed8210a30eb7450baf0c\": [{\"repo\": \"2i2c-hubs-image\", \"createdAt\": \"2023-02-19T00:00:00\", \"count\": 3}, {\"repo\": \"2i2c-org.github.io\", \"createdAt\": \"2022-12-18T00:00:00\", \"count\": 1}, {\"repo\": \"2i2c-org.github.io\", \"createdAt\": \"2022-12-25T00:00:00\", \"count\": 0}, {\"repo\": \"2i2c-org.github.io\", \"createdAt\": \"2023-01-01T00:00:00\", \"count\": 0}, {\"repo\": \"2i2c-org.github.io\", \"createdAt\": \"2023-01-08T00:00:00\", \"count\": 0}, {\"repo\": \"2i2c-org.github.io\", \"createdAt\": \"2023-01-15T00:00:00\", \"count\": 1}, {\"repo\": \"2i2c-org.github.io\", \"createdAt\": \"2023-01-22T00:00:00\", \"count\": 0}, {\"repo\": \"2i2c-org.github.io\", \"createdAt\": \"2023-01-29T00:00:00\", \"count\": 0}, {\"repo\": \"2i2c-org.github.io\", \"createdAt\": \"2023-02-05T00:00:00\", \"count\": 0}, {\"repo\": \"2i2c-org.github.io\", \"createdAt\": \"2023-02-12T00:00:00\", \"count\": 0}, {\"repo\": \"2i2c-org.github.io\", \"createdAt\": \"2023-02-19T00:00:00\", \"count\": 0}, {\"repo\": \"2i2c-org.github.io\", \"createdAt\": \"2023-02-26T00:00:00\", \"count\": 0}, {\"repo\": \"2i2c-org.github.io\", \"createdAt\": \"2023-03-05T00:00:00\", \"count\": 2}, {\"repo\": \"cloudbank-hubs-image\", \"createdAt\": \"2023-01-08T00:00:00\", \"count\": 2}, {\"repo\": \"docs\", \"createdAt\": \"2023-01-08T00:00:00\", \"count\": 1}, {\"repo\": \"hub-user-image-template\", \"createdAt\": \"2023-02-19T00:00:00\", \"count\": 1}, {\"repo\": \"infrastructure\", \"createdAt\": \"2021-05-30T00:00:00\", \"count\": 1}, {\"repo\": \"infrastructure\", \"createdAt\": \"2021-06-06T00:00:00\", \"count\": 5}, {\"repo\": \"infrastructure\", \"createdAt\": \"2021-06-13T00:00:00\", \"count\": 0}, {\"repo\": \"infrastructure\", \"createdAt\": \"2021-06-20T00:00:00\", \"count\": 0}, {\"repo\": \"infrastructure\", \"createdAt\": \"2021-06-27T00:00:00\", \"count\": 0}, {\"repo\": \"infrastructure\", \"createdAt\": \"2021-07-04T00:00:00\", \"count\": 0}, {\"repo\": \"infrastructure\", \"createdAt\": \"2021-07-11T00:00:00\", \"count\": 0}, {\"repo\": \"infrastructure\", \"createdAt\": \"2021-07-18T00:00:00\", \"count\": 0}, {\"repo\": \"infrastructure\", \"createdAt\": \"2021-07-25T00:00:00\", \"count\": 0}, {\"repo\": \"infrastructure\", \"createdAt\": \"2021-08-01T00:00:00\", \"count\": 0}, {\"repo\": \"infrastructure\", \"createdAt\": \"2021-08-08T00:00:00\", \"count\": 0}, {\"repo\": \"infrastructure\", \"createdAt\": \"2021-08-15T00:00:00\", \"count\": 0}, {\"repo\": \"infrastructure\", \"createdAt\": \"2021-08-22T00:00:00\", \"count\": 0}, {\"repo\": \"infrastructure\", \"createdAt\": \"2021-08-29T00:00:00\", \"count\": 0}, {\"repo\": \"infrastructure\", \"createdAt\": \"2021-09-05T00:00:00\", \"count\": 0}, {\"repo\": \"infrastructure\", \"createdAt\": \"2021-09-12T00:00:00\", \"count\": 0}, {\"repo\": \"infrastructure\", \"createdAt\": \"2021-09-19T00:00:00\", \"count\": 0}, {\"repo\": \"infrastructure\", \"createdAt\": \"2021-09-26T00:00:00\", \"count\": 0}, {\"repo\": \"infrastructure\", \"createdAt\": \"2021-10-03T00:00:00\", \"count\": 0}, {\"repo\": \"infrastructure\", \"createdAt\": \"2021-10-10T00:00:00\", \"count\": 0}, {\"repo\": \"infrastructure\", \"createdAt\": \"2021-10-17T00:00:00\", \"count\": 0}, {\"repo\": \"infrastructure\", \"createdAt\": \"2021-10-24T00:00:00\", \"count\": 0}, {\"repo\": \"infrastructure\", \"createdAt\": \"2021-10-31T00:00:00\", \"count\": 0}, {\"repo\": \"infrastructure\", \"createdAt\": \"2021-11-07T00:00:00\", \"count\": 0}, {\"repo\": \"infrastructure\", \"createdAt\": \"2021-11-14T00:00:00\", \"count\": 0}, {\"repo\": \"infrastructure\", \"createdAt\": \"2021-11-21T00:00:00\", \"count\": 0}, {\"repo\": \"infrastructure\", \"createdAt\": \"2021-11-28T00:00:00\", \"count\": 0}, {\"repo\": \"infrastructure\", \"createdAt\": \"2021-12-05T00:00:00\", \"count\": 0}, {\"repo\": \"infrastructure\", \"createdAt\": \"2021-12-12T00:00:00\", \"count\": 0}, {\"repo\": \"infrastructure\", \"createdAt\": \"2021-12-19T00:00:00\", \"count\": 0}, {\"repo\": \"infrastructure\", \"createdAt\": \"2021-12-26T00:00:00\", \"count\": 0}, {\"repo\": \"infrastructure\", \"createdAt\": \"2022-01-02T00:00:00\", \"count\": 0}, {\"repo\": \"infrastructure\", \"createdAt\": \"2022-01-09T00:00:00\", \"count\": 0}, {\"repo\": \"infrastructure\", \"createdAt\": \"2022-01-16T00:00:00\", \"count\": 0}, {\"repo\": \"infrastructure\", \"createdAt\": \"2022-01-23T00:00:00\", \"count\": 0}, {\"repo\": \"infrastructure\", \"createdAt\": \"2022-01-30T00:00:00\", \"count\": 0}, {\"repo\": \"infrastructure\", \"createdAt\": \"2022-02-06T00:00:00\", \"count\": 1}, {\"repo\": \"infrastructure\", \"createdAt\": \"2022-02-13T00:00:00\", \"count\": 0}, {\"repo\": \"infrastructure\", \"createdAt\": \"2022-02-20T00:00:00\", \"count\": 0}, {\"repo\": \"infrastructure\", \"createdAt\": \"2022-02-27T00:00:00\", \"count\": 0}, {\"repo\": \"infrastructure\", \"createdAt\": \"2022-03-06T00:00:00\", \"count\": 0}, {\"repo\": \"infrastructure\", \"createdAt\": \"2022-03-13T00:00:00\", \"count\": 1}, {\"repo\": \"infrastructure\", \"createdAt\": \"2022-03-20T00:00:00\", \"count\": 2}, {\"repo\": \"infrastructure\", \"createdAt\": \"2022-03-27T00:00:00\", \"count\": 0}, {\"repo\": \"infrastructure\", \"createdAt\": \"2022-04-03T00:00:00\", \"count\": 0}, {\"repo\": \"infrastructure\", \"createdAt\": \"2022-04-10T00:00:00\", \"count\": 0}, {\"repo\": \"infrastructure\", \"createdAt\": \"2022-04-17T00:00:00\", \"count\": 0}, {\"repo\": \"infrastructure\", \"createdAt\": \"2022-04-24T00:00:00\", \"count\": 0}, {\"repo\": \"infrastructure\", \"createdAt\": \"2022-05-01T00:00:00\", \"count\": 1}, {\"repo\": \"infrastructure\", \"createdAt\": \"2022-05-08T00:00:00\", \"count\": 0}, {\"repo\": \"infrastructure\", \"createdAt\": \"2022-05-15T00:00:00\", \"count\": 0}, {\"repo\": \"infrastructure\", \"createdAt\": \"2022-05-22T00:00:00\", \"count\": 1}, {\"repo\": \"infrastructure\", \"createdAt\": \"2022-05-29T00:00:00\", \"count\": 0}, {\"repo\": \"infrastructure\", \"createdAt\": \"2022-06-05T00:00:00\", \"count\": 0}, {\"repo\": \"infrastructure\", \"createdAt\": \"2022-06-12T00:00:00\", \"count\": 0}, {\"repo\": \"infrastructure\", \"createdAt\": \"2022-06-19T00:00:00\", \"count\": 0}, {\"repo\": \"infrastructure\", \"createdAt\": \"2022-06-26T00:00:00\", \"count\": 0}, {\"repo\": \"infrastructure\", \"createdAt\": \"2022-07-03T00:00:00\", \"count\": 0}, {\"repo\": \"infrastructure\", \"createdAt\": \"2022-07-10T00:00:00\", \"count\": 0}, {\"repo\": \"infrastructure\", \"createdAt\": \"2022-07-17T00:00:00\", \"count\": 0}, {\"repo\": \"infrastructure\", \"createdAt\": \"2022-07-24T00:00:00\", \"count\": 0}, {\"repo\": \"infrastructure\", \"createdAt\": \"2022-07-31T00:00:00\", \"count\": 0}, {\"repo\": \"infrastructure\", \"createdAt\": \"2022-08-07T00:00:00\", \"count\": 0}, {\"repo\": \"infrastructure\", \"createdAt\": \"2022-08-14T00:00:00\", \"count\": 0}, {\"repo\": \"infrastructure\", \"createdAt\": \"2022-08-21T00:00:00\", \"count\": 0}, {\"repo\": \"infrastructure\", \"createdAt\": \"2022-08-28T00:00:00\", \"count\": 0}, {\"repo\": \"infrastructure\", \"createdAt\": \"2022-09-04T00:00:00\", \"count\": 0}, {\"repo\": \"infrastructure\", \"createdAt\": \"2022-09-11T00:00:00\", \"count\": 0}, {\"repo\": \"infrastructure\", \"createdAt\": \"2022-09-18T00:00:00\", \"count\": 0}, {\"repo\": \"infrastructure\", \"createdAt\": \"2022-09-25T00:00:00\", \"count\": 1}, {\"repo\": \"infrastructure\", \"createdAt\": \"2022-10-02T00:00:00\", \"count\": 0}, {\"repo\": \"infrastructure\", \"createdAt\": \"2022-10-09T00:00:00\", \"count\": 0}, {\"repo\": \"infrastructure\", \"createdAt\": \"2022-10-16T00:00:00\", \"count\": 0}, {\"repo\": \"infrastructure\", \"createdAt\": \"2022-10-23T00:00:00\", \"count\": 1}, {\"repo\": \"infrastructure\", \"createdAt\": \"2022-10-30T00:00:00\", \"count\": 3}, {\"repo\": \"infrastructure\", \"createdAt\": \"2022-11-06T00:00:00\", \"count\": 0}, {\"repo\": \"infrastructure\", \"createdAt\": \"2022-11-13T00:00:00\", \"count\": 4}, {\"repo\": \"infrastructure\", \"createdAt\": \"2022-11-20T00:00:00\", \"count\": 2}, {\"repo\": \"infrastructure\", \"createdAt\": \"2022-11-27T00:00:00\", \"count\": 2}, {\"repo\": \"infrastructure\", \"createdAt\": \"2022-12-04T00:00:00\", \"count\": 1}, {\"repo\": \"infrastructure\", \"createdAt\": \"2022-12-11T00:00:00\", \"count\": 3}, {\"repo\": \"infrastructure\", \"createdAt\": \"2022-12-18T00:00:00\", \"count\": 3}, {\"repo\": \"infrastructure\", \"createdAt\": \"2022-12-25T00:00:00\", \"count\": 0}, {\"repo\": \"infrastructure\", \"createdAt\": \"2023-01-01T00:00:00\", \"count\": 0}, {\"repo\": \"infrastructure\", \"createdAt\": \"2023-01-08T00:00:00\", \"count\": 5}, {\"repo\": \"infrastructure\", \"createdAt\": \"2023-01-15T00:00:00\", \"count\": 1}, {\"repo\": \"infrastructure\", \"createdAt\": \"2023-01-22T00:00:00\", \"count\": 6}, {\"repo\": \"infrastructure\", \"createdAt\": \"2023-01-29T00:00:00\", \"count\": 1}, {\"repo\": \"infrastructure\", \"createdAt\": \"2023-02-05T00:00:00\", \"count\": 1}, {\"repo\": \"infrastructure\", \"createdAt\": \"2023-02-12T00:00:00\", \"count\": 0}, {\"repo\": \"infrastructure\", \"createdAt\": \"2023-02-19T00:00:00\", \"count\": 7}, {\"repo\": \"infrastructure\", \"createdAt\": \"2023-02-26T00:00:00\", \"count\": 3}, {\"repo\": \"infrastructure\", \"createdAt\": \"2023-03-05T00:00:00\", \"count\": 14}, {\"repo\": \"leads\", \"createdAt\": \"2022-07-24T00:00:00\", \"count\": 4}, {\"repo\": \"leads\", \"createdAt\": \"2022-07-31T00:00:00\", \"count\": 0}, {\"repo\": \"leads\", \"createdAt\": \"2022-08-07T00:00:00\", \"count\": 0}, {\"repo\": \"leads\", \"createdAt\": \"2022-08-14T00:00:00\", \"count\": 0}, {\"repo\": \"leads\", \"createdAt\": \"2022-08-21T00:00:00\", \"count\": 0}, {\"repo\": \"leads\", \"createdAt\": \"2022-08-28T00:00:00\", \"count\": 0}, {\"repo\": \"leads\", \"createdAt\": \"2022-09-04T00:00:00\", \"count\": 0}, {\"repo\": \"leads\", \"createdAt\": \"2022-09-11T00:00:00\", \"count\": 0}, {\"repo\": \"leads\", \"createdAt\": \"2022-09-18T00:00:00\", \"count\": 0}, {\"repo\": \"leads\", \"createdAt\": \"2022-09-25T00:00:00\", \"count\": 0}, {\"repo\": \"leads\", \"createdAt\": \"2022-10-02T00:00:00\", \"count\": 0}, {\"repo\": \"leads\", \"createdAt\": \"2022-10-09T00:00:00\", \"count\": 0}, {\"repo\": \"leads\", \"createdAt\": \"2022-10-16T00:00:00\", \"count\": 0}, {\"repo\": \"leads\", \"createdAt\": \"2022-10-23T00:00:00\", \"count\": 1}, {\"repo\": \"leads\", \"createdAt\": \"2022-10-30T00:00:00\", \"count\": 0}, {\"repo\": \"leads\", \"createdAt\": \"2022-11-06T00:00:00\", \"count\": 0}, {\"repo\": \"leads\", \"createdAt\": \"2022-11-13T00:00:00\", \"count\": 0}, {\"repo\": \"leads\", \"createdAt\": \"2022-11-20T00:00:00\", \"count\": 0}, {\"repo\": \"leads\", \"createdAt\": \"2022-11-27T00:00:00\", \"count\": 0}, {\"repo\": \"leads\", \"createdAt\": \"2022-12-04T00:00:00\", \"count\": 0}, {\"repo\": \"leads\", \"createdAt\": \"2022-12-11T00:00:00\", \"count\": 0}, {\"repo\": \"leads\", \"createdAt\": \"2022-12-18T00:00:00\", \"count\": 0}, {\"repo\": \"leads\", \"createdAt\": \"2022-12-25T00:00:00\", \"count\": 0}, {\"repo\": \"leads\", \"createdAt\": \"2023-01-01T00:00:00\", \"count\": 0}, {\"repo\": \"leads\", \"createdAt\": \"2023-01-08T00:00:00\", \"count\": 0}, {\"repo\": \"leads\", \"createdAt\": \"2023-01-15T00:00:00\", \"count\": 1}, {\"repo\": \"leads\", \"createdAt\": \"2023-01-22T00:00:00\", \"count\": 1}, {\"repo\": \"leads\", \"createdAt\": \"2023-01-29T00:00:00\", \"count\": 2}, {\"repo\": \"leads\", \"createdAt\": \"2023-02-05T00:00:00\", \"count\": 0}, {\"repo\": \"leads\", \"createdAt\": \"2023-02-12T00:00:00\", \"count\": 0}, {\"repo\": \"leads\", \"createdAt\": \"2023-02-19T00:00:00\", \"count\": 0}, {\"repo\": \"leads\", \"createdAt\": \"2023-02-26T00:00:00\", \"count\": 0}, {\"repo\": \"leads\", \"createdAt\": \"2023-03-05T00:00:00\", \"count\": 1}, {\"repo\": \"meta\", \"createdAt\": \"2022-07-10T00:00:00\", \"count\": 1}, {\"repo\": \"meta\", \"createdAt\": \"2022-07-17T00:00:00\", \"count\": 0}, {\"repo\": \"meta\", \"createdAt\": \"2022-07-24T00:00:00\", \"count\": 0}, {\"repo\": \"meta\", \"createdAt\": \"2022-07-31T00:00:00\", \"count\": 2}, {\"repo\": \"meta\", \"createdAt\": \"2022-08-07T00:00:00\", \"count\": 0}, {\"repo\": \"meta\", \"createdAt\": \"2022-08-14T00:00:00\", \"count\": 3}, {\"repo\": \"meta\", \"createdAt\": \"2022-08-21T00:00:00\", \"count\": 0}, {\"repo\": \"meta\", \"createdAt\": \"2022-08-28T00:00:00\", \"count\": 0}, {\"repo\": \"meta\", \"createdAt\": \"2022-09-04T00:00:00\", \"count\": 0}, {\"repo\": \"meta\", \"createdAt\": \"2022-09-11T00:00:00\", \"count\": 0}, {\"repo\": \"meta\", \"createdAt\": \"2022-09-18T00:00:00\", \"count\": 0}, {\"repo\": \"meta\", \"createdAt\": \"2022-09-25T00:00:00\", \"count\": 0}, {\"repo\": \"meta\", \"createdAt\": \"2022-10-02T00:00:00\", \"count\": 0}, {\"repo\": \"meta\", \"createdAt\": \"2022-10-09T00:00:00\", \"count\": 0}, {\"repo\": \"meta\", \"createdAt\": \"2022-10-16T00:00:00\", \"count\": 0}, {\"repo\": \"meta\", \"createdAt\": \"2022-10-23T00:00:00\", \"count\": 2}, {\"repo\": \"meta\", \"createdAt\": \"2022-10-30T00:00:00\", \"count\": 0}, {\"repo\": \"meta\", \"createdAt\": \"2022-11-06T00:00:00\", \"count\": 0}, {\"repo\": \"meta\", \"createdAt\": \"2022-11-13T00:00:00\", \"count\": 0}, {\"repo\": \"meta\", \"createdAt\": \"2022-11-20T00:00:00\", \"count\": 1}, {\"repo\": \"meta\", \"createdAt\": \"2022-11-27T00:00:00\", \"count\": 2}, {\"repo\": \"meta\", \"createdAt\": \"2022-12-04T00:00:00\", \"count\": 3}, {\"repo\": \"meta\", \"createdAt\": \"2022-12-11T00:00:00\", \"count\": 7}, {\"repo\": \"meta\", \"createdAt\": \"2022-12-18T00:00:00\", \"count\": 8}, {\"repo\": \"meta\", \"createdAt\": \"2022-12-25T00:00:00\", \"count\": 1}, {\"repo\": \"meta\", \"createdAt\": \"2023-01-01T00:00:00\", \"count\": 0}, {\"repo\": \"meta\", \"createdAt\": \"2023-01-08T00:00:00\", \"count\": 1}, {\"repo\": \"meta\", \"createdAt\": \"2023-01-15T00:00:00\", \"count\": 0}, {\"repo\": \"meta\", \"createdAt\": \"2023-01-22T00:00:00\", \"count\": 3}, {\"repo\": \"meta\", \"createdAt\": \"2023-01-29T00:00:00\", \"count\": 8}, {\"repo\": \"meta\", \"createdAt\": \"2023-02-05T00:00:00\", \"count\": 2}, {\"repo\": \"meta\", \"createdAt\": \"2023-02-12T00:00:00\", \"count\": 6}, {\"repo\": \"meta\", \"createdAt\": \"2023-02-19T00:00:00\", \"count\": 6}, {\"repo\": \"meta\", \"createdAt\": \"2023-02-26T00:00:00\", \"count\": 5}, {\"repo\": \"meta\", \"createdAt\": \"2023-03-05T00:00:00\", \"count\": 2}, {\"repo\": \"outreachy\", \"createdAt\": \"2023-02-26T00:00:00\", \"count\": 1}, {\"repo\": \"researchdelight-image\", \"createdAt\": \"2023-01-08T00:00:00\", \"count\": 2}, {\"repo\": \"researchdelight-image\", \"createdAt\": \"2023-01-15T00:00:00\", \"count\": 0}, {\"repo\": \"researchdelight-image\", \"createdAt\": \"2023-01-22T00:00:00\", \"count\": 0}, {\"repo\": \"researchdelight-image\", \"createdAt\": \"2023-01-29T00:00:00\", \"count\": 0}, {\"repo\": \"researchdelight-image\", \"createdAt\": \"2023-02-05T00:00:00\", \"count\": 0}, {\"repo\": \"researchdelight-image\", \"createdAt\": \"2023-02-12T00:00:00\", \"count\": 0}, {\"repo\": \"researchdelight-image\", \"createdAt\": \"2023-02-19T00:00:00\", \"count\": 1}, {\"repo\": \"sphinx-2i2c-theme\", \"createdAt\": \"2022-12-18T00:00:00\", \"count\": 1}, {\"repo\": \"team-compass\", \"createdAt\": \"2022-03-27T00:00:00\", \"count\": 1}, {\"repo\": \"team-compass\", \"createdAt\": \"2022-04-03T00:00:00\", \"count\": 0}, {\"repo\": \"team-compass\", \"createdAt\": \"2022-04-10T00:00:00\", \"count\": 0}, {\"repo\": \"team-compass\", \"createdAt\": \"2022-04-17T00:00:00\", \"count\": 2}, {\"repo\": \"team-compass\", \"createdAt\": \"2022-04-24T00:00:00\", \"count\": 0}, {\"repo\": \"team-compass\", \"createdAt\": \"2022-05-01T00:00:00\", \"count\": 0}, {\"repo\": \"team-compass\", \"createdAt\": \"2022-05-08T00:00:00\", \"count\": 0}, {\"repo\": \"team-compass\", \"createdAt\": \"2022-05-15T00:00:00\", \"count\": 0}, {\"repo\": \"team-compass\", \"createdAt\": \"2022-05-22T00:00:00\", \"count\": 0}, {\"repo\": \"team-compass\", \"createdAt\": \"2022-05-29T00:00:00\", \"count\": 0}, {\"repo\": \"team-compass\", \"createdAt\": \"2022-06-05T00:00:00\", \"count\": 0}, {\"repo\": \"team-compass\", \"createdAt\": \"2022-06-12T00:00:00\", \"count\": 1}, {\"repo\": \"team-compass\", \"createdAt\": \"2022-06-19T00:00:00\", \"count\": 0}, {\"repo\": \"team-compass\", \"createdAt\": \"2022-06-26T00:00:00\", \"count\": 0}, {\"repo\": \"team-compass\", \"createdAt\": \"2022-07-03T00:00:00\", \"count\": 0}, {\"repo\": \"team-compass\", \"createdAt\": \"2022-07-10T00:00:00\", \"count\": 0}, {\"repo\": \"team-compass\", \"createdAt\": \"2022-07-17T00:00:00\", \"count\": 0}, {\"repo\": \"team-compass\", \"createdAt\": \"2022-07-24T00:00:00\", \"count\": 1}, {\"repo\": \"team-compass\", \"createdAt\": \"2022-07-31T00:00:00\", \"count\": 0}, {\"repo\": \"team-compass\", \"createdAt\": \"2022-08-07T00:00:00\", \"count\": 0}, {\"repo\": \"team-compass\", \"createdAt\": \"2022-08-14T00:00:00\", \"count\": 0}, {\"repo\": \"team-compass\", \"createdAt\": \"2022-08-21T00:00:00\", \"count\": 0}, {\"repo\": \"team-compass\", \"createdAt\": \"2022-08-28T00:00:00\", \"count\": 0}, {\"repo\": \"team-compass\", \"createdAt\": \"2022-09-04T00:00:00\", \"count\": 0}, {\"repo\": \"team-compass\", \"createdAt\": \"2022-09-11T00:00:00\", \"count\": 0}, {\"repo\": \"team-compass\", \"createdAt\": \"2022-09-18T00:00:00\", \"count\": 0}, {\"repo\": \"team-compass\", \"createdAt\": \"2022-09-25T00:00:00\", \"count\": 0}, {\"repo\": \"team-compass\", \"createdAt\": \"2022-10-02T00:00:00\", \"count\": 0}, {\"repo\": \"team-compass\", \"createdAt\": \"2022-10-09T00:00:00\", \"count\": 0}, {\"repo\": \"team-compass\", \"createdAt\": \"2022-10-16T00:00:00\", \"count\": 0}, {\"repo\": \"team-compass\", \"createdAt\": \"2022-10-23T00:00:00\", \"count\": 0}, {\"repo\": \"team-compass\", \"createdAt\": \"2022-10-30T00:00:00\", \"count\": 1}, {\"repo\": \"team-compass\", \"createdAt\": \"2022-11-06T00:00:00\", \"count\": 0}, {\"repo\": \"team-compass\", \"createdAt\": \"2022-11-13T00:00:00\", \"count\": 2}, {\"repo\": \"team-compass\", \"createdAt\": \"2022-11-20T00:00:00\", \"count\": 0}, {\"repo\": \"team-compass\", \"createdAt\": \"2022-11-27T00:00:00\", \"count\": 0}, {\"repo\": \"team-compass\", \"createdAt\": \"2022-12-04T00:00:00\", \"count\": 1}, {\"repo\": \"team-compass\", \"createdAt\": \"2022-12-11T00:00:00\", \"count\": 2}, {\"repo\": \"team-compass\", \"createdAt\": \"2022-12-18T00:00:00\", \"count\": 3}, {\"repo\": \"team-compass\", \"createdAt\": \"2022-12-25T00:00:00\", \"count\": 1}, {\"repo\": \"team-compass\", \"createdAt\": \"2023-01-01T00:00:00\", \"count\": 0}, {\"repo\": \"team-compass\", \"createdAt\": \"2023-01-08T00:00:00\", \"count\": 1}, {\"repo\": \"team-compass\", \"createdAt\": \"2023-01-15T00:00:00\", \"count\": 1}, {\"repo\": \"team-compass\", \"createdAt\": \"2023-01-22T00:00:00\", \"count\": 3}, {\"repo\": \"team-compass\", \"createdAt\": \"2023-01-29T00:00:00\", \"count\": 5}, {\"repo\": \"team-compass\", \"createdAt\": \"2023-02-05T00:00:00\", \"count\": 2}, {\"repo\": \"team-compass\", \"createdAt\": \"2023-02-12T00:00:00\", \"count\": 1}, {\"repo\": \"team-compass\", \"createdAt\": \"2023-02-19T00:00:00\", \"count\": 17}, {\"repo\": \"team-compass\", \"createdAt\": \"2023-02-26T00:00:00\", \"count\": 4}, {\"repo\": \"team-compass\", \"createdAt\": \"2023-03-05T00:00:00\", \"count\": 1}, {\"repo\": \"team-roles-geekbot-sweep\", \"createdAt\": \"2023-01-08T00:00:00\", \"count\": 1}, {\"repo\": \"utoronto-image\", \"createdAt\": \"2023-01-08T00:00:00\", \"count\": 1}], \"data-aede900ec1ced1f3e7e9382bcd11e5e7\": [{\"createdAt\": \"2021-05-30T00:00:00\", \"count\": 1}, {\"createdAt\": \"2021-06-06T00:00:00\", \"count\": 5}, {\"createdAt\": \"2021-06-13T00:00:00\", \"count\": 0}, {\"createdAt\": \"2021-06-20T00:00:00\", \"count\": 0}, {\"createdAt\": \"2021-06-27T00:00:00\", \"count\": 0}, {\"createdAt\": \"2021-07-04T00:00:00\", \"count\": 0}, {\"createdAt\": \"2021-07-11T00:00:00\", \"count\": 0}, {\"createdAt\": \"2021-07-18T00:00:00\", \"count\": 0}, {\"createdAt\": \"2021-07-25T00:00:00\", \"count\": 0}, {\"createdAt\": \"2021-08-01T00:00:00\", \"count\": 0}, {\"createdAt\": \"2021-08-08T00:00:00\", \"count\": 0}, {\"createdAt\": \"2021-08-15T00:00:00\", \"count\": 0}, {\"createdAt\": \"2021-08-22T00:00:00\", \"count\": 0}, {\"createdAt\": \"2021-08-29T00:00:00\", \"count\": 0}, {\"createdAt\": \"2021-09-05T00:00:00\", \"count\": 0}, {\"createdAt\": \"2021-09-12T00:00:00\", \"count\": 0}, {\"createdAt\": \"2021-09-19T00:00:00\", \"count\": 0}, {\"createdAt\": \"2021-09-26T00:00:00\", \"count\": 0}, {\"createdAt\": \"2021-10-03T00:00:00\", \"count\": 0}, {\"createdAt\": \"2021-10-10T00:00:00\", \"count\": 0}, {\"createdAt\": \"2021-10-17T00:00:00\", \"count\": 0}, {\"createdAt\": \"2021-10-24T00:00:00\", \"count\": 0}, {\"createdAt\": \"2021-10-31T00:00:00\", \"count\": 0}, {\"createdAt\": \"2021-11-07T00:00:00\", \"count\": 0}, {\"createdAt\": \"2021-11-14T00:00:00\", \"count\": 0}, {\"createdAt\": \"2021-11-21T00:00:00\", \"count\": 0}, {\"createdAt\": \"2021-11-28T00:00:00\", \"count\": 0}, {\"createdAt\": \"2021-12-05T00:00:00\", \"count\": 0}, {\"createdAt\": \"2021-12-12T00:00:00\", \"count\": 0}, {\"createdAt\": \"2021-12-19T00:00:00\", \"count\": 0}, {\"createdAt\": \"2021-12-26T00:00:00\", \"count\": 0}, {\"createdAt\": \"2022-01-02T00:00:00\", \"count\": 0}, {\"createdAt\": \"2022-01-09T00:00:00\", \"count\": 0}, {\"createdAt\": \"2022-01-16T00:00:00\", \"count\": 0}, {\"createdAt\": \"2022-01-23T00:00:00\", \"count\": 0}, {\"createdAt\": \"2022-01-30T00:00:00\", \"count\": 0}, {\"createdAt\": \"2022-02-06T00:00:00\", \"count\": 1}, {\"createdAt\": \"2022-02-13T00:00:00\", \"count\": 0}, {\"createdAt\": \"2022-02-20T00:00:00\", \"count\": 0}, {\"createdAt\": \"2022-02-27T00:00:00\", \"count\": 0}, {\"createdAt\": \"2022-03-06T00:00:00\", \"count\": 0}, {\"createdAt\": \"2022-03-13T00:00:00\", \"count\": 1}, {\"createdAt\": \"2022-03-20T00:00:00\", \"count\": 2}, {\"createdAt\": \"2022-03-27T00:00:00\", \"count\": 1}, {\"createdAt\": \"2022-04-03T00:00:00\", \"count\": 0}, {\"createdAt\": \"2022-04-10T00:00:00\", \"count\": 0}, {\"createdAt\": \"2022-04-17T00:00:00\", \"count\": 2}, {\"createdAt\": \"2022-04-24T00:00:00\", \"count\": 0}, {\"createdAt\": \"2022-05-01T00:00:00\", \"count\": 1}, {\"createdAt\": \"2022-05-08T00:00:00\", \"count\": 0}, {\"createdAt\": \"2022-05-15T00:00:00\", \"count\": 0}, {\"createdAt\": \"2022-05-22T00:00:00\", \"count\": 1}, {\"createdAt\": \"2022-05-29T00:00:00\", \"count\": 0}, {\"createdAt\": \"2022-06-05T00:00:00\", \"count\": 0}, {\"createdAt\": \"2022-06-12T00:00:00\", \"count\": 1}, {\"createdAt\": \"2022-06-19T00:00:00\", \"count\": 0}, {\"createdAt\": \"2022-06-26T00:00:00\", \"count\": 0}, {\"createdAt\": \"2022-07-03T00:00:00\", \"count\": 0}, {\"createdAt\": \"2022-07-10T00:00:00\", \"count\": 1}, {\"createdAt\": \"2022-07-17T00:00:00\", \"count\": 0}, {\"createdAt\": \"2022-07-24T00:00:00\", \"count\": 5}, {\"createdAt\": \"2022-07-31T00:00:00\", \"count\": 2}, {\"createdAt\": \"2022-08-07T00:00:00\", \"count\": 0}, {\"createdAt\": \"2022-08-14T00:00:00\", \"count\": 3}, {\"createdAt\": \"2022-08-21T00:00:00\", \"count\": 0}, {\"createdAt\": \"2022-08-28T00:00:00\", \"count\": 0}, {\"createdAt\": \"2022-09-04T00:00:00\", \"count\": 0}, {\"createdAt\": \"2022-09-11T00:00:00\", \"count\": 0}, {\"createdAt\": \"2022-09-18T00:00:00\", \"count\": 0}, {\"createdAt\": \"2022-09-25T00:00:00\", \"count\": 1}, {\"createdAt\": \"2022-10-02T00:00:00\", \"count\": 0}, {\"createdAt\": \"2022-10-09T00:00:00\", \"count\": 0}, {\"createdAt\": \"2022-10-16T00:00:00\", \"count\": 0}, {\"createdAt\": \"2022-10-23T00:00:00\", \"count\": 4}, {\"createdAt\": \"2022-10-30T00:00:00\", \"count\": 4}, {\"createdAt\": \"2022-11-06T00:00:00\", \"count\": 0}, {\"createdAt\": \"2022-11-13T00:00:00\", \"count\": 6}, {\"createdAt\": \"2022-11-20T00:00:00\", \"count\": 3}, {\"createdAt\": \"2022-11-27T00:00:00\", \"count\": 4}, {\"createdAt\": \"2022-12-04T00:00:00\", \"count\": 5}, {\"createdAt\": \"2022-12-11T00:00:00\", \"count\": 12}, {\"createdAt\": \"2022-12-18T00:00:00\", \"count\": 16}, {\"createdAt\": \"2022-12-25T00:00:00\", \"count\": 2}, {\"createdAt\": \"2023-01-01T00:00:00\", \"count\": 0}, {\"createdAt\": \"2023-01-08T00:00:00\", \"count\": 14}, {\"createdAt\": \"2023-01-15T00:00:00\", \"count\": 4}, {\"createdAt\": \"2023-01-22T00:00:00\", \"count\": 13}, {\"createdAt\": \"2023-01-29T00:00:00\", \"count\": 16}, {\"createdAt\": \"2023-02-05T00:00:00\", \"count\": 5}, {\"createdAt\": \"2023-02-12T00:00:00\", \"count\": 7}, {\"createdAt\": \"2023-02-19T00:00:00\", \"count\": 35}, {\"createdAt\": \"2023-02-26T00:00:00\", \"count\": 13}, {\"createdAt\": \"2023-03-05T00:00:00\", \"count\": 20}]}}, {\"mode\": \"vega-lite\"});\n",
       "</script>"
      ],
      "text/plain": [
       "alt.LayerChart(...)"
      ]
     },
     "execution_count": 14,
     "metadata": {},
     "output_type": "execute_result"
    }
   ],
   "source": [
    "comments_time = comments.groupby('repo').resample('W', on='createdAt').count()['author'].reset_index()\n",
    "comments_time = comments_time.rename(columns={'author': 'count'})\n",
    "comments_time_total = comments_time.groupby('createdAt').agg({\"count\": \"sum\"}).reset_index()\n",
    "ch1 = alt.Chart(comments_time, width=600).mark_line().encode(\n",
    "    x='createdAt',\n",
    "    y='count',\n",
    "    color='repo',\n",
    "    tooltip=\"repo\"\n",
    ")\n",
    "\n",
    "ch2 = alt.Chart(comments_time_total, width=600).mark_line(color=\"black\").encode(\n",
    "    x='createdAt',\n",
    "    y='count',\n",
    ")\n",
    "\n",
    "ch1 + ch2"
   ]
  },
  {
   "cell_type": "markdown",
   "id": "f97efed0",
   "metadata": {
    "papermill": {
     "duration": 0.007255,
     "end_time": "2023-03-06T14:44:58.419872",
     "exception": false,
     "start_time": "2023-03-06T14:44:58.412617",
     "status": "completed"
    },
    "tags": []
   },
   "source": [
    "### PRs"
   ]
  },
  {
   "cell_type": "code",
   "execution_count": 15,
   "id": "65280b00",
   "metadata": {
    "execution": {
     "iopub.execute_input": "2023-03-06T14:44:58.431923Z",
     "iopub.status.busy": "2023-03-06T14:44:58.431219Z",
     "iopub.status.idle": "2023-03-06T14:44:58.523920Z",
     "shell.execute_reply": "2023-03-06T14:44:58.523085Z"
    },
    "papermill": {
     "duration": 0.100685,
     "end_time": "2023-03-06T14:44:58.525666",
     "exception": false,
     "start_time": "2023-03-06T14:44:58.424981",
     "status": "completed"
    },
    "tags": [
     "hide_input"
    ]
   },
   "outputs": [
    {
     "data": {
      "text/html": [
       "\n",
       "<div id=\"altair-viz-43f5ec511f0f457e85900a2f76a524aa\"></div>\n",
       "<script type=\"text/javascript\">\n",
       "  var VEGA_DEBUG = (typeof VEGA_DEBUG == \"undefined\") ? {} : VEGA_DEBUG;\n",
       "  (function(spec, embedOpt){\n",
       "    let outputDiv = document.currentScript.previousElementSibling;\n",
       "    if (outputDiv.id !== \"altair-viz-43f5ec511f0f457e85900a2f76a524aa\") {\n",
       "      outputDiv = document.getElementById(\"altair-viz-43f5ec511f0f457e85900a2f76a524aa\");\n",
       "    }\n",
       "    const paths = {\n",
       "      \"vega\": \"https://cdn.jsdelivr.net/npm//vega@5?noext\",\n",
       "      \"vega-lib\": \"https://cdn.jsdelivr.net/npm//vega-lib?noext\",\n",
       "      \"vega-lite\": \"https://cdn.jsdelivr.net/npm//vega-lite@4.17.0?noext\",\n",
       "      \"vega-embed\": \"https://cdn.jsdelivr.net/npm//vega-embed@6?noext\",\n",
       "    };\n",
       "\n",
       "    function maybeLoadScript(lib, version) {\n",
       "      var key = `${lib.replace(\"-\", \"\")}_version`;\n",
       "      return (VEGA_DEBUG[key] == version) ?\n",
       "        Promise.resolve(paths[lib]) :\n",
       "        new Promise(function(resolve, reject) {\n",
       "          var s = document.createElement('script');\n",
       "          document.getElementsByTagName(\"head\")[0].appendChild(s);\n",
       "          s.async = true;\n",
       "          s.onload = () => {\n",
       "            VEGA_DEBUG[key] = version;\n",
       "            return resolve(paths[lib]);\n",
       "          };\n",
       "          s.onerror = () => reject(`Error loading script: ${paths[lib]}`);\n",
       "          s.src = paths[lib];\n",
       "        });\n",
       "    }\n",
       "\n",
       "    function showError(err) {\n",
       "      outputDiv.innerHTML = `<div class=\"error\" style=\"color:red;\">${err}</div>`;\n",
       "      throw err;\n",
       "    }\n",
       "\n",
       "    function displayChart(vegaEmbed) {\n",
       "      vegaEmbed(outputDiv, spec, embedOpt)\n",
       "        .catch(err => showError(`Javascript Error: ${err.message}<br>This usually means there's a typo in your chart specification. See the javascript console for the full traceback.`));\n",
       "    }\n",
       "\n",
       "    if(typeof define === \"function\" && define.amd) {\n",
       "      requirejs.config({paths});\n",
       "      require([\"vega-embed\"], displayChart, err => showError(`Error loading script: ${err.message}`));\n",
       "    } else {\n",
       "      maybeLoadScript(\"vega\", \"5\")\n",
       "        .then(() => maybeLoadScript(\"vega-lite\", \"4.17.0\"))\n",
       "        .then(() => maybeLoadScript(\"vega-embed\", \"6\"))\n",
       "        .catch(showError)\n",
       "        .then(() => displayChart(vegaEmbed));\n",
       "    }\n",
       "  })({\"config\": {\"axisLeft\": {\"labelFontSize\": 15}, \"axisBottom\": {\"labelFontSize\": 15}}, \"layer\": [{\"data\": {\"name\": \"data-8d69ab0b908458946d17d8e611ff9916\"}, \"mark\": \"line\", \"encoding\": {\"color\": {\"field\": \"repo\", \"type\": \"nominal\"}, \"tooltip\": {\"field\": \"repo\", \"type\": \"nominal\"}, \"x\": {\"field\": \"createdAt\", \"type\": \"temporal\"}, \"y\": {\"field\": \"count\", \"type\": \"quantitative\"}}, \"width\": 600}, {\"data\": {\"name\": \"data-f06593445b3d0f9042acf01f9437447c\"}, \"mark\": {\"type\": \"line\", \"color\": \"black\"}, \"encoding\": {\"x\": {\"field\": \"createdAt\", \"type\": \"temporal\"}, \"y\": {\"field\": \"count\", \"type\": \"quantitative\"}}, \"width\": 600}], \"$schema\": \"https://vega.github.io/schema/vega-lite/v4.17.0.json\", \"datasets\": {\"data-8d69ab0b908458946d17d8e611ff9916\": [{\"repo\": \"2i2c-org.github.io\", \"createdAt\": \"2023-02-19T00:00:00\", \"count\": 1}, {\"repo\": \"meta\", \"createdAt\": \"2023-02-26T00:00:00\", \"count\": 1}, {\"repo\": \"team-compass\", \"createdAt\": \"2022-04-17T00:00:00\", \"count\": 1}, {\"repo\": \"team-compass\", \"createdAt\": \"2022-04-24T00:00:00\", \"count\": 0}, {\"repo\": \"team-compass\", \"createdAt\": \"2022-05-01T00:00:00\", \"count\": 0}, {\"repo\": \"team-compass\", \"createdAt\": \"2022-05-08T00:00:00\", \"count\": 0}, {\"repo\": \"team-compass\", \"createdAt\": \"2022-05-15T00:00:00\", \"count\": 0}, {\"repo\": \"team-compass\", \"createdAt\": \"2022-05-22T00:00:00\", \"count\": 0}, {\"repo\": \"team-compass\", \"createdAt\": \"2022-05-29T00:00:00\", \"count\": 0}, {\"repo\": \"team-compass\", \"createdAt\": \"2022-06-05T00:00:00\", \"count\": 0}, {\"repo\": \"team-compass\", \"createdAt\": \"2022-06-12T00:00:00\", \"count\": 0}, {\"repo\": \"team-compass\", \"createdAt\": \"2022-06-19T00:00:00\", \"count\": 0}, {\"repo\": \"team-compass\", \"createdAt\": \"2022-06-26T00:00:00\", \"count\": 0}, {\"repo\": \"team-compass\", \"createdAt\": \"2022-07-03T00:00:00\", \"count\": 0}, {\"repo\": \"team-compass\", \"createdAt\": \"2022-07-10T00:00:00\", \"count\": 0}, {\"repo\": \"team-compass\", \"createdAt\": \"2022-07-17T00:00:00\", \"count\": 0}, {\"repo\": \"team-compass\", \"createdAt\": \"2022-07-24T00:00:00\", \"count\": 0}, {\"repo\": \"team-compass\", \"createdAt\": \"2022-07-31T00:00:00\", \"count\": 0}, {\"repo\": \"team-compass\", \"createdAt\": \"2022-08-07T00:00:00\", \"count\": 0}, {\"repo\": \"team-compass\", \"createdAt\": \"2022-08-14T00:00:00\", \"count\": 0}, {\"repo\": \"team-compass\", \"createdAt\": \"2022-08-21T00:00:00\", \"count\": 0}, {\"repo\": \"team-compass\", \"createdAt\": \"2022-08-28T00:00:00\", \"count\": 0}, {\"repo\": \"team-compass\", \"createdAt\": \"2022-09-04T00:00:00\", \"count\": 0}, {\"repo\": \"team-compass\", \"createdAt\": \"2022-09-11T00:00:00\", \"count\": 0}, {\"repo\": \"team-compass\", \"createdAt\": \"2022-09-18T00:00:00\", \"count\": 0}, {\"repo\": \"team-compass\", \"createdAt\": \"2022-09-25T00:00:00\", \"count\": 0}, {\"repo\": \"team-compass\", \"createdAt\": \"2022-10-02T00:00:00\", \"count\": 0}, {\"repo\": \"team-compass\", \"createdAt\": \"2022-10-09T00:00:00\", \"count\": 0}, {\"repo\": \"team-compass\", \"createdAt\": \"2022-10-16T00:00:00\", \"count\": 0}, {\"repo\": \"team-compass\", \"createdAt\": \"2022-10-23T00:00:00\", \"count\": 0}, {\"repo\": \"team-compass\", \"createdAt\": \"2022-10-30T00:00:00\", \"count\": 0}, {\"repo\": \"team-compass\", \"createdAt\": \"2022-11-06T00:00:00\", \"count\": 0}, {\"repo\": \"team-compass\", \"createdAt\": \"2022-11-13T00:00:00\", \"count\": 0}, {\"repo\": \"team-compass\", \"createdAt\": \"2022-11-20T00:00:00\", \"count\": 0}, {\"repo\": \"team-compass\", \"createdAt\": \"2022-11-27T00:00:00\", \"count\": 0}, {\"repo\": \"team-compass\", \"createdAt\": \"2022-12-04T00:00:00\", \"count\": 0}, {\"repo\": \"team-compass\", \"createdAt\": \"2022-12-11T00:00:00\", \"count\": 0}, {\"repo\": \"team-compass\", \"createdAt\": \"2022-12-18T00:00:00\", \"count\": 0}, {\"repo\": \"team-compass\", \"createdAt\": \"2022-12-25T00:00:00\", \"count\": 0}, {\"repo\": \"team-compass\", \"createdAt\": \"2023-01-01T00:00:00\", \"count\": 0}, {\"repo\": \"team-compass\", \"createdAt\": \"2023-01-08T00:00:00\", \"count\": 0}, {\"repo\": \"team-compass\", \"createdAt\": \"2023-01-15T00:00:00\", \"count\": 0}, {\"repo\": \"team-compass\", \"createdAt\": \"2023-01-22T00:00:00\", \"count\": 0}, {\"repo\": \"team-compass\", \"createdAt\": \"2023-01-29T00:00:00\", \"count\": 0}, {\"repo\": \"team-compass\", \"createdAt\": \"2023-02-05T00:00:00\", \"count\": 0}, {\"repo\": \"team-compass\", \"createdAt\": \"2023-02-12T00:00:00\", \"count\": 0}, {\"repo\": \"team-compass\", \"createdAt\": \"2023-02-19T00:00:00\", \"count\": 0}, {\"repo\": \"team-compass\", \"createdAt\": \"2023-02-26T00:00:00\", \"count\": 1}], \"data-f06593445b3d0f9042acf01f9437447c\": [{\"createdAt\": \"2022-04-17T00:00:00\", \"count\": 1}, {\"createdAt\": \"2022-04-24T00:00:00\", \"count\": 0}, {\"createdAt\": \"2022-05-01T00:00:00\", \"count\": 0}, {\"createdAt\": \"2022-05-08T00:00:00\", \"count\": 0}, {\"createdAt\": \"2022-05-15T00:00:00\", \"count\": 0}, {\"createdAt\": \"2022-05-22T00:00:00\", \"count\": 0}, {\"createdAt\": \"2022-05-29T00:00:00\", \"count\": 0}, {\"createdAt\": \"2022-06-05T00:00:00\", \"count\": 0}, {\"createdAt\": \"2022-06-12T00:00:00\", \"count\": 0}, {\"createdAt\": \"2022-06-19T00:00:00\", \"count\": 0}, {\"createdAt\": \"2022-06-26T00:00:00\", \"count\": 0}, {\"createdAt\": \"2022-07-03T00:00:00\", \"count\": 0}, {\"createdAt\": \"2022-07-10T00:00:00\", \"count\": 0}, {\"createdAt\": \"2022-07-17T00:00:00\", \"count\": 0}, {\"createdAt\": \"2022-07-24T00:00:00\", \"count\": 0}, {\"createdAt\": \"2022-07-31T00:00:00\", \"count\": 0}, {\"createdAt\": \"2022-08-07T00:00:00\", \"count\": 0}, {\"createdAt\": \"2022-08-14T00:00:00\", \"count\": 0}, {\"createdAt\": \"2022-08-21T00:00:00\", \"count\": 0}, {\"createdAt\": \"2022-08-28T00:00:00\", \"count\": 0}, {\"createdAt\": \"2022-09-04T00:00:00\", \"count\": 0}, {\"createdAt\": \"2022-09-11T00:00:00\", \"count\": 0}, {\"createdAt\": \"2022-09-18T00:00:00\", \"count\": 0}, {\"createdAt\": \"2022-09-25T00:00:00\", \"count\": 0}, {\"createdAt\": \"2022-10-02T00:00:00\", \"count\": 0}, {\"createdAt\": \"2022-10-09T00:00:00\", \"count\": 0}, {\"createdAt\": \"2022-10-16T00:00:00\", \"count\": 0}, {\"createdAt\": \"2022-10-23T00:00:00\", \"count\": 0}, {\"createdAt\": \"2022-10-30T00:00:00\", \"count\": 0}, {\"createdAt\": \"2022-11-06T00:00:00\", \"count\": 0}, {\"createdAt\": \"2022-11-13T00:00:00\", \"count\": 0}, {\"createdAt\": \"2022-11-20T00:00:00\", \"count\": 0}, {\"createdAt\": \"2022-11-27T00:00:00\", \"count\": 0}, {\"createdAt\": \"2022-12-04T00:00:00\", \"count\": 0}, {\"createdAt\": \"2022-12-11T00:00:00\", \"count\": 0}, {\"createdAt\": \"2022-12-18T00:00:00\", \"count\": 0}, {\"createdAt\": \"2022-12-25T00:00:00\", \"count\": 0}, {\"createdAt\": \"2023-01-01T00:00:00\", \"count\": 0}, {\"createdAt\": \"2023-01-08T00:00:00\", \"count\": 0}, {\"createdAt\": \"2023-01-15T00:00:00\", \"count\": 0}, {\"createdAt\": \"2023-01-22T00:00:00\", \"count\": 0}, {\"createdAt\": \"2023-01-29T00:00:00\", \"count\": 0}, {\"createdAt\": \"2023-02-05T00:00:00\", \"count\": 0}, {\"createdAt\": \"2023-02-12T00:00:00\", \"count\": 0}, {\"createdAt\": \"2023-02-19T00:00:00\", \"count\": 1}, {\"createdAt\": \"2023-02-26T00:00:00\", \"count\": 2}]}}, {\"mode\": \"vega-lite\"});\n",
       "</script>"
      ],
      "text/plain": [
       "alt.LayerChart(...)"
      ]
     },
     "execution_count": 15,
     "metadata": {},
     "output_type": "execute_result"
    }
   ],
   "source": [
    "prs_time = prs.groupby('repo').resample('W', on='createdAt').count()['author'].reset_index()\n",
    "prs_time = prs_time.rename(columns={'author': 'count'})\n",
    "prs_time_total = prs_time.groupby('createdAt').agg({\"count\": \"sum\"}).reset_index()\n",
    "\n",
    "ch1 = alt.Chart(prs_time, width=600).mark_line().encode(\n",
    "    x='createdAt',\n",
    "    y='count',\n",
    "    color='repo',\n",
    "    tooltip=\"repo\"\n",
    ")\n",
    "\n",
    "ch2 = alt.Chart(prs_time_total, width=600).mark_line(color=\"black\").encode(\n",
    "    x='createdAt',\n",
    "    y='count',\n",
    ")\n",
    "\n",
    "ch1 + ch2"
   ]
  },
  {
   "cell_type": "code",
   "execution_count": 16,
   "id": "4a305c9e",
   "metadata": {
    "execution": {
     "iopub.execute_input": "2023-03-06T14:44:58.538411Z",
     "iopub.status.busy": "2023-03-06T14:44:58.537780Z",
     "iopub.status.idle": "2023-03-06T14:44:58.597453Z",
     "shell.execute_reply": "2023-03-06T14:44:58.596753Z"
    },
    "papermill": {
     "duration": 0.06791,
     "end_time": "2023-03-06T14:44:58.599303",
     "exception": false,
     "start_time": "2023-03-06T14:44:58.531393",
     "status": "completed"
    },
    "tags": [
     "hide_input"
    ]
   },
   "outputs": [
    {
     "data": {
      "text/html": [
       "\n",
       "<div id=\"altair-viz-52f986c04a6b447eb36e8bc917b952b4\"></div>\n",
       "<script type=\"text/javascript\">\n",
       "  var VEGA_DEBUG = (typeof VEGA_DEBUG == \"undefined\") ? {} : VEGA_DEBUG;\n",
       "  (function(spec, embedOpt){\n",
       "    let outputDiv = document.currentScript.previousElementSibling;\n",
       "    if (outputDiv.id !== \"altair-viz-52f986c04a6b447eb36e8bc917b952b4\") {\n",
       "      outputDiv = document.getElementById(\"altair-viz-52f986c04a6b447eb36e8bc917b952b4\");\n",
       "    }\n",
       "    const paths = {\n",
       "      \"vega\": \"https://cdn.jsdelivr.net/npm//vega@5?noext\",\n",
       "      \"vega-lib\": \"https://cdn.jsdelivr.net/npm//vega-lib?noext\",\n",
       "      \"vega-lite\": \"https://cdn.jsdelivr.net/npm//vega-lite@4.17.0?noext\",\n",
       "      \"vega-embed\": \"https://cdn.jsdelivr.net/npm//vega-embed@6?noext\",\n",
       "    };\n",
       "\n",
       "    function maybeLoadScript(lib, version) {\n",
       "      var key = `${lib.replace(\"-\", \"\")}_version`;\n",
       "      return (VEGA_DEBUG[key] == version) ?\n",
       "        Promise.resolve(paths[lib]) :\n",
       "        new Promise(function(resolve, reject) {\n",
       "          var s = document.createElement('script');\n",
       "          document.getElementsByTagName(\"head\")[0].appendChild(s);\n",
       "          s.async = true;\n",
       "          s.onload = () => {\n",
       "            VEGA_DEBUG[key] = version;\n",
       "            return resolve(paths[lib]);\n",
       "          };\n",
       "          s.onerror = () => reject(`Error loading script: ${paths[lib]}`);\n",
       "          s.src = paths[lib];\n",
       "        });\n",
       "    }\n",
       "\n",
       "    function showError(err) {\n",
       "      outputDiv.innerHTML = `<div class=\"error\" style=\"color:red;\">${err}</div>`;\n",
       "      throw err;\n",
       "    }\n",
       "\n",
       "    function displayChart(vegaEmbed) {\n",
       "      vegaEmbed(outputDiv, spec, embedOpt)\n",
       "        .catch(err => showError(`Javascript Error: ${err.message}<br>This usually means there's a typo in your chart specification. See the javascript console for the full traceback.`));\n",
       "    }\n",
       "\n",
       "    if(typeof define === \"function\" && define.amd) {\n",
       "      requirejs.config({paths});\n",
       "      require([\"vega-embed\"], displayChart, err => showError(`Error loading script: ${err.message}`));\n",
       "    } else {\n",
       "      maybeLoadScript(\"vega\", \"5\")\n",
       "        .then(() => maybeLoadScript(\"vega-lite\", \"4.17.0\"))\n",
       "        .then(() => maybeLoadScript(\"vega-embed\", \"6\"))\n",
       "        .catch(showError)\n",
       "        .then(() => displayChart(vegaEmbed));\n",
       "    }\n",
       "  })({\"config\": {\"axisLeft\": {\"labelFontSize\": 15}, \"axisBottom\": {\"labelFontSize\": 15}}, \"data\": {\"name\": \"data-9c42f6e60372c29fd15ce7f66517fb3c\"}, \"mark\": \"line\", \"encoding\": {\"color\": {\"field\": \"repo\", \"type\": \"nominal\"}, \"tooltip\": {\"field\": \"repo\", \"type\": \"nominal\"}, \"x\": {\"field\": \"closedAt\", \"type\": \"temporal\"}, \"y\": {\"field\": \"count\", \"type\": \"quantitative\"}}, \"width\": 600, \"$schema\": \"https://vega.github.io/schema/vega-lite/v4.17.0.json\", \"datasets\": {\"data-9c42f6e60372c29fd15ce7f66517fb3c\": [{\"repo\": \"2i2c-org.github.io\", \"closedAt\": \"2023-02-19T00:00:00\", \"count\": 1}, {\"repo\": \"meta\", \"closedAt\": \"2023-02-26T00:00:00\", \"count\": 1}]}}, {\"mode\": \"vega-lite\"});\n",
       "</script>"
      ],
      "text/plain": [
       "alt.Chart(...)"
      ]
     },
     "execution_count": 16,
     "metadata": {},
     "output_type": "execute_result"
    }
   ],
   "source": [
    "closed_by_time = closed_by.groupby('repo').resample('W', on='closedAt').count()['author'].reset_index()\n",
    "closed_by_time = closed_by_time.rename(columns={'author': 'count'})\n",
    "\n",
    "alt.Chart(closed_by_time, width=600).mark_line().encode(\n",
    "    x='closedAt',\n",
    "    y='count',\n",
    "    color='repo',\n",
    "    tooltip=\"repo\"\n",
    ")"
   ]
  },
  {
   "cell_type": "markdown",
   "id": "dff960ef",
   "metadata": {
    "papermill": {
     "duration": 0.007597,
     "end_time": "2023-03-06T14:44:58.613671",
     "exception": false,
     "start_time": "2023-03-06T14:44:58.606074",
     "status": "completed"
    },
    "tags": []
   },
   "source": [
    "## By type over time"
   ]
  },
  {
   "cell_type": "code",
   "execution_count": 17,
   "id": "919fe6e0",
   "metadata": {
    "execution": {
     "iopub.execute_input": "2023-03-06T14:44:58.626702Z",
     "iopub.status.busy": "2023-03-06T14:44:58.625977Z",
     "iopub.status.idle": "2023-03-06T14:44:58.646069Z",
     "shell.execute_reply": "2023-03-06T14:44:58.645430Z"
    },
    "papermill": {
     "duration": 0.028384,
     "end_time": "2023-03-06T14:44:58.647688",
     "exception": false,
     "start_time": "2023-03-06T14:44:58.619304",
     "status": "completed"
    },
    "tags": [
     "remove_cell"
    ]
   },
   "outputs": [],
   "source": [
    "prs_time = prs[['author', 'createdAt']].resample('W', on='createdAt').count()['author'].reset_index()\n",
    "prs_time = prs_time.rename(columns={'author': 'prs'})\n",
    "comments_time = comments[['author', 'createdAt']].resample('W', on='createdAt').count()['author'].reset_index()\n",
    "comments_time = comments_time.rename(columns={'author': 'comments'})\n",
    "\n",
    "total_time = pd.merge(prs_time, comments_time, on='createdAt', how='outer')\n",
    "total_time = total_time.melt(id_vars='createdAt', var_name=\"kind\", value_name=\"count\")\n"
   ]
  },
  {
   "cell_type": "code",
   "execution_count": 18,
   "id": "5f28f2c0",
   "metadata": {
    "execution": {
     "iopub.execute_input": "2023-03-06T14:44:58.660315Z",
     "iopub.status.busy": "2023-03-06T14:44:58.659855Z",
     "iopub.status.idle": "2023-03-06T14:44:58.702657Z",
     "shell.execute_reply": "2023-03-06T14:44:58.701933Z"
    },
    "papermill": {
     "duration": 0.051237,
     "end_time": "2023-03-06T14:44:58.704503",
     "exception": false,
     "start_time": "2023-03-06T14:44:58.653266",
     "status": "completed"
    },
    "tags": [
     "hide_input"
    ]
   },
   "outputs": [
    {
     "data": {
      "text/html": [
       "\n",
       "<div id=\"altair-viz-e6439683c76747a4b6b4b399e4af05d5\"></div>\n",
       "<script type=\"text/javascript\">\n",
       "  var VEGA_DEBUG = (typeof VEGA_DEBUG == \"undefined\") ? {} : VEGA_DEBUG;\n",
       "  (function(spec, embedOpt){\n",
       "    let outputDiv = document.currentScript.previousElementSibling;\n",
       "    if (outputDiv.id !== \"altair-viz-e6439683c76747a4b6b4b399e4af05d5\") {\n",
       "      outputDiv = document.getElementById(\"altair-viz-e6439683c76747a4b6b4b399e4af05d5\");\n",
       "    }\n",
       "    const paths = {\n",
       "      \"vega\": \"https://cdn.jsdelivr.net/npm//vega@5?noext\",\n",
       "      \"vega-lib\": \"https://cdn.jsdelivr.net/npm//vega-lib?noext\",\n",
       "      \"vega-lite\": \"https://cdn.jsdelivr.net/npm//vega-lite@4.17.0?noext\",\n",
       "      \"vega-embed\": \"https://cdn.jsdelivr.net/npm//vega-embed@6?noext\",\n",
       "    };\n",
       "\n",
       "    function maybeLoadScript(lib, version) {\n",
       "      var key = `${lib.replace(\"-\", \"\")}_version`;\n",
       "      return (VEGA_DEBUG[key] == version) ?\n",
       "        Promise.resolve(paths[lib]) :\n",
       "        new Promise(function(resolve, reject) {\n",
       "          var s = document.createElement('script');\n",
       "          document.getElementsByTagName(\"head\")[0].appendChild(s);\n",
       "          s.async = true;\n",
       "          s.onload = () => {\n",
       "            VEGA_DEBUG[key] = version;\n",
       "            return resolve(paths[lib]);\n",
       "          };\n",
       "          s.onerror = () => reject(`Error loading script: ${paths[lib]}`);\n",
       "          s.src = paths[lib];\n",
       "        });\n",
       "    }\n",
       "\n",
       "    function showError(err) {\n",
       "      outputDiv.innerHTML = `<div class=\"error\" style=\"color:red;\">${err}</div>`;\n",
       "      throw err;\n",
       "    }\n",
       "\n",
       "    function displayChart(vegaEmbed) {\n",
       "      vegaEmbed(outputDiv, spec, embedOpt)\n",
       "        .catch(err => showError(`Javascript Error: ${err.message}<br>This usually means there's a typo in your chart specification. See the javascript console for the full traceback.`));\n",
       "    }\n",
       "\n",
       "    if(typeof define === \"function\" && define.amd) {\n",
       "      requirejs.config({paths});\n",
       "      require([\"vega-embed\"], displayChart, err => showError(`Error loading script: ${err.message}`));\n",
       "    } else {\n",
       "      maybeLoadScript(\"vega\", \"5\")\n",
       "        .then(() => maybeLoadScript(\"vega-lite\", \"4.17.0\"))\n",
       "        .then(() => maybeLoadScript(\"vega-embed\", \"6\"))\n",
       "        .catch(showError)\n",
       "        .then(() => displayChart(vegaEmbed));\n",
       "    }\n",
       "  })({\"config\": {\"axisLeft\": {\"labelFontSize\": 15}, \"axisBottom\": {\"labelFontSize\": 15}}, \"data\": {\"name\": \"data-825196c78cce93828371aa9df7d0f6fc\"}, \"mark\": \"line\", \"encoding\": {\"color\": {\"field\": \"kind\", \"type\": \"nominal\"}, \"x\": {\"field\": \"createdAt\", \"type\": \"temporal\"}, \"y\": {\"field\": \"count\", \"type\": \"quantitative\"}}, \"width\": 600, \"$schema\": \"https://vega.github.io/schema/vega-lite/v4.17.0.json\", \"datasets\": {\"data-825196c78cce93828371aa9df7d0f6fc\": [{\"createdAt\": \"2022-04-17T00:00:00\", \"kind\": \"prs\", \"count\": 1.0}, {\"createdAt\": \"2022-04-24T00:00:00\", \"kind\": \"prs\", \"count\": 0.0}, {\"createdAt\": \"2022-05-01T00:00:00\", \"kind\": \"prs\", \"count\": 0.0}, {\"createdAt\": \"2022-05-08T00:00:00\", \"kind\": \"prs\", \"count\": 0.0}, {\"createdAt\": \"2022-05-15T00:00:00\", \"kind\": \"prs\", \"count\": 0.0}, {\"createdAt\": \"2022-05-22T00:00:00\", \"kind\": \"prs\", \"count\": 0.0}, {\"createdAt\": \"2022-05-29T00:00:00\", \"kind\": \"prs\", \"count\": 0.0}, {\"createdAt\": \"2022-06-05T00:00:00\", \"kind\": \"prs\", \"count\": 0.0}, {\"createdAt\": \"2022-06-12T00:00:00\", \"kind\": \"prs\", \"count\": 0.0}, {\"createdAt\": \"2022-06-19T00:00:00\", \"kind\": \"prs\", \"count\": 0.0}, {\"createdAt\": \"2022-06-26T00:00:00\", \"kind\": \"prs\", \"count\": 0.0}, {\"createdAt\": \"2022-07-03T00:00:00\", \"kind\": \"prs\", \"count\": 0.0}, {\"createdAt\": \"2022-07-10T00:00:00\", \"kind\": \"prs\", \"count\": 0.0}, {\"createdAt\": \"2022-07-17T00:00:00\", \"kind\": \"prs\", \"count\": 0.0}, {\"createdAt\": \"2022-07-24T00:00:00\", \"kind\": \"prs\", \"count\": 0.0}, {\"createdAt\": \"2022-07-31T00:00:00\", \"kind\": \"prs\", \"count\": 0.0}, {\"createdAt\": \"2022-08-07T00:00:00\", \"kind\": \"prs\", \"count\": 0.0}, {\"createdAt\": \"2022-08-14T00:00:00\", \"kind\": \"prs\", \"count\": 0.0}, {\"createdAt\": \"2022-08-21T00:00:00\", \"kind\": \"prs\", \"count\": 0.0}, {\"createdAt\": \"2022-08-28T00:00:00\", \"kind\": \"prs\", \"count\": 0.0}, {\"createdAt\": \"2022-09-04T00:00:00\", \"kind\": \"prs\", \"count\": 0.0}, {\"createdAt\": \"2022-09-11T00:00:00\", \"kind\": \"prs\", \"count\": 0.0}, {\"createdAt\": \"2022-09-18T00:00:00\", \"kind\": \"prs\", \"count\": 0.0}, {\"createdAt\": \"2022-09-25T00:00:00\", \"kind\": \"prs\", \"count\": 0.0}, {\"createdAt\": \"2022-10-02T00:00:00\", \"kind\": \"prs\", \"count\": 0.0}, {\"createdAt\": \"2022-10-09T00:00:00\", \"kind\": \"prs\", \"count\": 0.0}, {\"createdAt\": \"2022-10-16T00:00:00\", \"kind\": \"prs\", \"count\": 0.0}, {\"createdAt\": \"2022-10-23T00:00:00\", \"kind\": \"prs\", \"count\": 0.0}, {\"createdAt\": \"2022-10-30T00:00:00\", \"kind\": \"prs\", \"count\": 0.0}, {\"createdAt\": \"2022-11-06T00:00:00\", \"kind\": \"prs\", \"count\": 0.0}, {\"createdAt\": \"2022-11-13T00:00:00\", \"kind\": \"prs\", \"count\": 0.0}, {\"createdAt\": \"2022-11-20T00:00:00\", \"kind\": \"prs\", \"count\": 0.0}, {\"createdAt\": \"2022-11-27T00:00:00\", \"kind\": \"prs\", \"count\": 0.0}, {\"createdAt\": \"2022-12-04T00:00:00\", \"kind\": \"prs\", \"count\": 0.0}, {\"createdAt\": \"2022-12-11T00:00:00\", \"kind\": \"prs\", \"count\": 0.0}, {\"createdAt\": \"2022-12-18T00:00:00\", \"kind\": \"prs\", \"count\": 0.0}, {\"createdAt\": \"2022-12-25T00:00:00\", \"kind\": \"prs\", \"count\": 0.0}, {\"createdAt\": \"2023-01-01T00:00:00\", \"kind\": \"prs\", \"count\": 0.0}, {\"createdAt\": \"2023-01-08T00:00:00\", \"kind\": \"prs\", \"count\": 0.0}, {\"createdAt\": \"2023-01-15T00:00:00\", \"kind\": \"prs\", \"count\": 0.0}, {\"createdAt\": \"2023-01-22T00:00:00\", \"kind\": \"prs\", \"count\": 0.0}, {\"createdAt\": \"2023-01-29T00:00:00\", \"kind\": \"prs\", \"count\": 0.0}, {\"createdAt\": \"2023-02-05T00:00:00\", \"kind\": \"prs\", \"count\": 0.0}, {\"createdAt\": \"2023-02-12T00:00:00\", \"kind\": \"prs\", \"count\": 0.0}, {\"createdAt\": \"2023-02-19T00:00:00\", \"kind\": \"prs\", \"count\": 1.0}, {\"createdAt\": \"2023-02-26T00:00:00\", \"kind\": \"prs\", \"count\": 2.0}, {\"createdAt\": \"2021-05-30T00:00:00\", \"kind\": \"prs\", \"count\": null}, {\"createdAt\": \"2021-06-06T00:00:00\", \"kind\": \"prs\", \"count\": null}, {\"createdAt\": \"2021-06-13T00:00:00\", \"kind\": \"prs\", \"count\": null}, {\"createdAt\": \"2021-06-20T00:00:00\", \"kind\": \"prs\", \"count\": null}, {\"createdAt\": \"2021-06-27T00:00:00\", \"kind\": \"prs\", \"count\": null}, {\"createdAt\": \"2021-07-04T00:00:00\", \"kind\": \"prs\", \"count\": null}, {\"createdAt\": \"2021-07-11T00:00:00\", \"kind\": \"prs\", \"count\": null}, {\"createdAt\": \"2021-07-18T00:00:00\", \"kind\": \"prs\", \"count\": null}, {\"createdAt\": \"2021-07-25T00:00:00\", \"kind\": \"prs\", \"count\": null}, {\"createdAt\": \"2021-08-01T00:00:00\", \"kind\": \"prs\", \"count\": null}, {\"createdAt\": \"2021-08-08T00:00:00\", \"kind\": \"prs\", \"count\": null}, {\"createdAt\": \"2021-08-15T00:00:00\", \"kind\": \"prs\", \"count\": null}, {\"createdAt\": \"2021-08-22T00:00:00\", \"kind\": \"prs\", \"count\": null}, {\"createdAt\": \"2021-08-29T00:00:00\", \"kind\": \"prs\", \"count\": null}, {\"createdAt\": \"2021-09-05T00:00:00\", \"kind\": \"prs\", \"count\": null}, {\"createdAt\": \"2021-09-12T00:00:00\", \"kind\": \"prs\", \"count\": null}, {\"createdAt\": \"2021-09-19T00:00:00\", \"kind\": \"prs\", \"count\": null}, {\"createdAt\": \"2021-09-26T00:00:00\", \"kind\": \"prs\", \"count\": null}, {\"createdAt\": \"2021-10-03T00:00:00\", \"kind\": \"prs\", \"count\": null}, {\"createdAt\": \"2021-10-10T00:00:00\", \"kind\": \"prs\", \"count\": null}, {\"createdAt\": \"2021-10-17T00:00:00\", \"kind\": \"prs\", \"count\": null}, {\"createdAt\": \"2021-10-24T00:00:00\", \"kind\": \"prs\", \"count\": null}, {\"createdAt\": \"2021-10-31T00:00:00\", \"kind\": \"prs\", \"count\": null}, {\"createdAt\": \"2021-11-07T00:00:00\", \"kind\": \"prs\", \"count\": null}, {\"createdAt\": \"2021-11-14T00:00:00\", \"kind\": \"prs\", \"count\": null}, {\"createdAt\": \"2021-11-21T00:00:00\", \"kind\": \"prs\", \"count\": null}, {\"createdAt\": \"2021-11-28T00:00:00\", \"kind\": \"prs\", \"count\": null}, {\"createdAt\": \"2021-12-05T00:00:00\", \"kind\": \"prs\", \"count\": null}, {\"createdAt\": \"2021-12-12T00:00:00\", \"kind\": \"prs\", \"count\": null}, {\"createdAt\": \"2021-12-19T00:00:00\", \"kind\": \"prs\", \"count\": null}, {\"createdAt\": \"2021-12-26T00:00:00\", \"kind\": \"prs\", \"count\": null}, {\"createdAt\": \"2022-01-02T00:00:00\", \"kind\": \"prs\", \"count\": null}, {\"createdAt\": \"2022-01-09T00:00:00\", \"kind\": \"prs\", \"count\": null}, {\"createdAt\": \"2022-01-16T00:00:00\", \"kind\": \"prs\", \"count\": null}, {\"createdAt\": \"2022-01-23T00:00:00\", \"kind\": \"prs\", \"count\": null}, {\"createdAt\": \"2022-01-30T00:00:00\", \"kind\": \"prs\", \"count\": null}, {\"createdAt\": \"2022-02-06T00:00:00\", \"kind\": \"prs\", \"count\": null}, {\"createdAt\": \"2022-02-13T00:00:00\", \"kind\": \"prs\", \"count\": null}, {\"createdAt\": \"2022-02-20T00:00:00\", \"kind\": \"prs\", \"count\": null}, {\"createdAt\": \"2022-02-27T00:00:00\", \"kind\": \"prs\", \"count\": null}, {\"createdAt\": \"2022-03-06T00:00:00\", \"kind\": \"prs\", \"count\": null}, {\"createdAt\": \"2022-03-13T00:00:00\", \"kind\": \"prs\", \"count\": null}, {\"createdAt\": \"2022-03-20T00:00:00\", \"kind\": \"prs\", \"count\": null}, {\"createdAt\": \"2022-03-27T00:00:00\", \"kind\": \"prs\", \"count\": null}, {\"createdAt\": \"2022-04-03T00:00:00\", \"kind\": \"prs\", \"count\": null}, {\"createdAt\": \"2022-04-10T00:00:00\", \"kind\": \"prs\", \"count\": null}, {\"createdAt\": \"2023-03-05T00:00:00\", \"kind\": \"prs\", \"count\": null}, {\"createdAt\": \"2022-04-17T00:00:00\", \"kind\": \"comments\", \"count\": 2.0}, {\"createdAt\": \"2022-04-24T00:00:00\", \"kind\": \"comments\", \"count\": 0.0}, {\"createdAt\": \"2022-05-01T00:00:00\", \"kind\": \"comments\", \"count\": 1.0}, {\"createdAt\": \"2022-05-08T00:00:00\", \"kind\": \"comments\", \"count\": 0.0}, {\"createdAt\": \"2022-05-15T00:00:00\", \"kind\": \"comments\", \"count\": 0.0}, {\"createdAt\": \"2022-05-22T00:00:00\", \"kind\": \"comments\", \"count\": 1.0}, {\"createdAt\": \"2022-05-29T00:00:00\", \"kind\": \"comments\", \"count\": 0.0}, {\"createdAt\": \"2022-06-05T00:00:00\", \"kind\": \"comments\", \"count\": 0.0}, {\"createdAt\": \"2022-06-12T00:00:00\", \"kind\": \"comments\", \"count\": 1.0}, {\"createdAt\": \"2022-06-19T00:00:00\", \"kind\": \"comments\", \"count\": 0.0}, {\"createdAt\": \"2022-06-26T00:00:00\", \"kind\": \"comments\", \"count\": 0.0}, {\"createdAt\": \"2022-07-03T00:00:00\", \"kind\": \"comments\", \"count\": 0.0}, {\"createdAt\": \"2022-07-10T00:00:00\", \"kind\": \"comments\", \"count\": 1.0}, {\"createdAt\": \"2022-07-17T00:00:00\", \"kind\": \"comments\", \"count\": 0.0}, {\"createdAt\": \"2022-07-24T00:00:00\", \"kind\": \"comments\", \"count\": 5.0}, {\"createdAt\": \"2022-07-31T00:00:00\", \"kind\": \"comments\", \"count\": 2.0}, {\"createdAt\": \"2022-08-07T00:00:00\", \"kind\": \"comments\", \"count\": 0.0}, {\"createdAt\": \"2022-08-14T00:00:00\", \"kind\": \"comments\", \"count\": 3.0}, {\"createdAt\": \"2022-08-21T00:00:00\", \"kind\": \"comments\", \"count\": 0.0}, {\"createdAt\": \"2022-08-28T00:00:00\", \"kind\": \"comments\", \"count\": 0.0}, {\"createdAt\": \"2022-09-04T00:00:00\", \"kind\": \"comments\", \"count\": 0.0}, {\"createdAt\": \"2022-09-11T00:00:00\", \"kind\": \"comments\", \"count\": 0.0}, {\"createdAt\": \"2022-09-18T00:00:00\", \"kind\": \"comments\", \"count\": 0.0}, {\"createdAt\": \"2022-09-25T00:00:00\", \"kind\": \"comments\", \"count\": 1.0}, {\"createdAt\": \"2022-10-02T00:00:00\", \"kind\": \"comments\", \"count\": 0.0}, {\"createdAt\": \"2022-10-09T00:00:00\", \"kind\": \"comments\", \"count\": 0.0}, {\"createdAt\": \"2022-10-16T00:00:00\", \"kind\": \"comments\", \"count\": 0.0}, {\"createdAt\": \"2022-10-23T00:00:00\", \"kind\": \"comments\", \"count\": 4.0}, {\"createdAt\": \"2022-10-30T00:00:00\", \"kind\": \"comments\", \"count\": 4.0}, {\"createdAt\": \"2022-11-06T00:00:00\", \"kind\": \"comments\", \"count\": 0.0}, {\"createdAt\": \"2022-11-13T00:00:00\", \"kind\": \"comments\", \"count\": 6.0}, {\"createdAt\": \"2022-11-20T00:00:00\", \"kind\": \"comments\", \"count\": 3.0}, {\"createdAt\": \"2022-11-27T00:00:00\", \"kind\": \"comments\", \"count\": 4.0}, {\"createdAt\": \"2022-12-04T00:00:00\", \"kind\": \"comments\", \"count\": 5.0}, {\"createdAt\": \"2022-12-11T00:00:00\", \"kind\": \"comments\", \"count\": 12.0}, {\"createdAt\": \"2022-12-18T00:00:00\", \"kind\": \"comments\", \"count\": 16.0}, {\"createdAt\": \"2022-12-25T00:00:00\", \"kind\": \"comments\", \"count\": 2.0}, {\"createdAt\": \"2023-01-01T00:00:00\", \"kind\": \"comments\", \"count\": 0.0}, {\"createdAt\": \"2023-01-08T00:00:00\", \"kind\": \"comments\", \"count\": 14.0}, {\"createdAt\": \"2023-01-15T00:00:00\", \"kind\": \"comments\", \"count\": 4.0}, {\"createdAt\": \"2023-01-22T00:00:00\", \"kind\": \"comments\", \"count\": 13.0}, {\"createdAt\": \"2023-01-29T00:00:00\", \"kind\": \"comments\", \"count\": 16.0}, {\"createdAt\": \"2023-02-05T00:00:00\", \"kind\": \"comments\", \"count\": 5.0}, {\"createdAt\": \"2023-02-12T00:00:00\", \"kind\": \"comments\", \"count\": 7.0}, {\"createdAt\": \"2023-02-19T00:00:00\", \"kind\": \"comments\", \"count\": 35.0}, {\"createdAt\": \"2023-02-26T00:00:00\", \"kind\": \"comments\", \"count\": 13.0}, {\"createdAt\": \"2021-05-30T00:00:00\", \"kind\": \"comments\", \"count\": 1.0}, {\"createdAt\": \"2021-06-06T00:00:00\", \"kind\": \"comments\", \"count\": 5.0}, {\"createdAt\": \"2021-06-13T00:00:00\", \"kind\": \"comments\", \"count\": 0.0}, {\"createdAt\": \"2021-06-20T00:00:00\", \"kind\": \"comments\", \"count\": 0.0}, {\"createdAt\": \"2021-06-27T00:00:00\", \"kind\": \"comments\", \"count\": 0.0}, {\"createdAt\": \"2021-07-04T00:00:00\", \"kind\": \"comments\", \"count\": 0.0}, {\"createdAt\": \"2021-07-11T00:00:00\", \"kind\": \"comments\", \"count\": 0.0}, {\"createdAt\": \"2021-07-18T00:00:00\", \"kind\": \"comments\", \"count\": 0.0}, {\"createdAt\": \"2021-07-25T00:00:00\", \"kind\": \"comments\", \"count\": 0.0}, {\"createdAt\": \"2021-08-01T00:00:00\", \"kind\": \"comments\", \"count\": 0.0}, {\"createdAt\": \"2021-08-08T00:00:00\", \"kind\": \"comments\", \"count\": 0.0}, {\"createdAt\": \"2021-08-15T00:00:00\", \"kind\": \"comments\", \"count\": 0.0}, {\"createdAt\": \"2021-08-22T00:00:00\", \"kind\": \"comments\", \"count\": 0.0}, {\"createdAt\": \"2021-08-29T00:00:00\", \"kind\": \"comments\", \"count\": 0.0}, {\"createdAt\": \"2021-09-05T00:00:00\", \"kind\": \"comments\", \"count\": 0.0}, {\"createdAt\": \"2021-09-12T00:00:00\", \"kind\": \"comments\", \"count\": 0.0}, {\"createdAt\": \"2021-09-19T00:00:00\", \"kind\": \"comments\", \"count\": 0.0}, {\"createdAt\": \"2021-09-26T00:00:00\", \"kind\": \"comments\", \"count\": 0.0}, {\"createdAt\": \"2021-10-03T00:00:00\", \"kind\": \"comments\", \"count\": 0.0}, {\"createdAt\": \"2021-10-10T00:00:00\", \"kind\": \"comments\", \"count\": 0.0}, {\"createdAt\": \"2021-10-17T00:00:00\", \"kind\": \"comments\", \"count\": 0.0}, {\"createdAt\": \"2021-10-24T00:00:00\", \"kind\": \"comments\", \"count\": 0.0}, {\"createdAt\": \"2021-10-31T00:00:00\", \"kind\": \"comments\", \"count\": 0.0}, {\"createdAt\": \"2021-11-07T00:00:00\", \"kind\": \"comments\", \"count\": 0.0}, {\"createdAt\": \"2021-11-14T00:00:00\", \"kind\": \"comments\", \"count\": 0.0}, {\"createdAt\": \"2021-11-21T00:00:00\", \"kind\": \"comments\", \"count\": 0.0}, {\"createdAt\": \"2021-11-28T00:00:00\", \"kind\": \"comments\", \"count\": 0.0}, {\"createdAt\": \"2021-12-05T00:00:00\", \"kind\": \"comments\", \"count\": 0.0}, {\"createdAt\": \"2021-12-12T00:00:00\", \"kind\": \"comments\", \"count\": 0.0}, {\"createdAt\": \"2021-12-19T00:00:00\", \"kind\": \"comments\", \"count\": 0.0}, {\"createdAt\": \"2021-12-26T00:00:00\", \"kind\": \"comments\", \"count\": 0.0}, {\"createdAt\": \"2022-01-02T00:00:00\", \"kind\": \"comments\", \"count\": 0.0}, {\"createdAt\": \"2022-01-09T00:00:00\", \"kind\": \"comments\", \"count\": 0.0}, {\"createdAt\": \"2022-01-16T00:00:00\", \"kind\": \"comments\", \"count\": 0.0}, {\"createdAt\": \"2022-01-23T00:00:00\", \"kind\": \"comments\", \"count\": 0.0}, {\"createdAt\": \"2022-01-30T00:00:00\", \"kind\": \"comments\", \"count\": 0.0}, {\"createdAt\": \"2022-02-06T00:00:00\", \"kind\": \"comments\", \"count\": 1.0}, {\"createdAt\": \"2022-02-13T00:00:00\", \"kind\": \"comments\", \"count\": 0.0}, {\"createdAt\": \"2022-02-20T00:00:00\", \"kind\": \"comments\", \"count\": 0.0}, {\"createdAt\": \"2022-02-27T00:00:00\", \"kind\": \"comments\", \"count\": 0.0}, {\"createdAt\": \"2022-03-06T00:00:00\", \"kind\": \"comments\", \"count\": 0.0}, {\"createdAt\": \"2022-03-13T00:00:00\", \"kind\": \"comments\", \"count\": 1.0}, {\"createdAt\": \"2022-03-20T00:00:00\", \"kind\": \"comments\", \"count\": 2.0}, {\"createdAt\": \"2022-03-27T00:00:00\", \"kind\": \"comments\", \"count\": 1.0}, {\"createdAt\": \"2022-04-03T00:00:00\", \"kind\": \"comments\", \"count\": 0.0}, {\"createdAt\": \"2022-04-10T00:00:00\", \"kind\": \"comments\", \"count\": 0.0}, {\"createdAt\": \"2023-03-05T00:00:00\", \"kind\": \"comments\", \"count\": 20.0}]}}, {\"mode\": \"vega-lite\"});\n",
       "</script>"
      ],
      "text/plain": [
       "alt.Chart(...)"
      ]
     },
     "execution_count": 18,
     "metadata": {},
     "output_type": "execute_result"
    }
   ],
   "source": [
    "alt.Chart(total_time, width=600).mark_line().encode(\n",
    "    x='createdAt',\n",
    "    y='count',\n",
    "    color='kind'\n",
    ")"
   ]
  },
  {
   "cell_type": "code",
   "execution_count": null,
   "id": "d917fb39",
   "metadata": {
    "papermill": {
     "duration": 0.006113,
     "end_time": "2023-03-06T14:44:58.717427",
     "exception": false,
     "start_time": "2023-03-06T14:44:58.711314",
     "status": "completed"
    },
    "tags": []
   },
   "outputs": [],
   "source": []
  },
  {
   "cell_type": "code",
   "execution_count": null,
   "id": "2b713e27",
   "metadata": {
    "papermill": {
     "duration": 0.005763,
     "end_time": "2023-03-06T14:44:58.729208",
     "exception": false,
     "start_time": "2023-03-06T14:44:58.723445",
     "status": "completed"
    },
    "tags": []
   },
   "outputs": [],
   "source": []
  }
 ],
 "metadata": {
  "kernelspec": {
   "display_name": "Python 3 (ipykernel)",
   "language": "python",
   "name": "python3"
  },
  "language_info": {
   "codemirror_mode": {
    "name": "ipython",
    "version": 3
   },
   "file_extension": ".py",
   "mimetype": "text/x-python",
   "name": "python",
   "nbconvert_exporter": "python",
   "pygments_lexer": "ipython3",
   "version": "3.9.16"
  },
  "papermill": {
   "default_parameters": {},
   "duration": 3.030727,
   "end_time": "2023-03-06T14:44:59.053465",
   "environment_variables": {},
   "exception": null,
   "input_path": "./templates/person_report.ipynb",
   "output_path": "generated/people/damianavila.ipynb",
   "parameters": {
    "n_days": 90,
    "person": "damianavila"
   },
   "start_time": "2023-03-06T14:44:56.022738",
   "version": "2.4.0"
  },
  "widgets": {
   "application/vnd.jupyter.widget-state+json": {
    "state": {},
    "version_major": 2,
    "version_minor": 0
   }
  }
 },
 "nbformat": 4,
 "nbformat_minor": 5
}