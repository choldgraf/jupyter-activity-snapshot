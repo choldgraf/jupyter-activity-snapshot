{
 "cells": [
  {
   "cell_type": "markdown",
   "id": "30ff2869",
   "metadata": {
    "papermill": {
     "duration": 0.005646,
     "end_time": "2023-03-06T14:45:06.689647",
     "exception": false,
     "start_time": "2023-03-06T14:45:06.684001",
     "status": "completed"
    },
    "tags": []
   },
   "source": [
    "# Report for colliand"
   ]
  },
  {
   "cell_type": "code",
   "execution_count": 1,
   "id": "a5991104",
   "metadata": {
    "execution": {
     "iopub.execute_input": "2023-03-06T14:45:06.703025Z",
     "iopub.status.busy": "2023-03-06T14:45:06.702369Z",
     "iopub.status.idle": "2023-03-06T14:45:07.548193Z",
     "shell.execute_reply": "2023-03-06T14:45:07.547440Z"
    },
    "papermill": {
     "duration": 0.855441,
     "end_time": "2023-03-06T14:45:07.550381",
     "exception": false,
     "start_time": "2023-03-06T14:45:06.694940",
     "status": "completed"
    },
    "tags": [
     "remove_cell"
    ]
   },
   "outputs": [],
   "source": [
    "import seaborn as sns\n",
    "import pandas as pd\n",
    "import numpy as np\n",
    "import altair as alt\n",
    "from markdown import markdown\n",
    "from IPython.display import Markdown\n",
    "from ipywidgets.widgets import HTML, Tab\n",
    "from ipywidgets import widgets\n",
    "from datetime import timedelta\n",
    "from matplotlib import pyplot as plt\n",
    "import os.path as op\n",
    "\n",
    "from mycode import alt_theme\n",
    "from warnings import simplefilter\n",
    "simplefilter('ignore')"
   ]
  },
  {
   "cell_type": "code",
   "execution_count": 2,
   "id": "6fd24286",
   "metadata": {
    "execution": {
     "iopub.execute_input": "2023-03-06T14:45:07.562509Z",
     "iopub.status.busy": "2023-03-06T14:45:07.562144Z",
     "iopub.status.idle": "2023-03-06T14:45:07.566559Z",
     "shell.execute_reply": "2023-03-06T14:45:07.565940Z"
    },
    "papermill": {
     "duration": 0.012781,
     "end_time": "2023-03-06T14:45:07.568260",
     "exception": false,
     "start_time": "2023-03-06T14:45:07.555479",
     "status": "completed"
    },
    "tags": [
     "remove_cell"
    ]
   },
   "outputs": [],
   "source": [
    "def author_url(author):\n",
    "    return f\"https://github.com/{author}\""
   ]
  },
  {
   "cell_type": "code",
   "execution_count": 3,
   "id": "7a2b38c0",
   "metadata": {
    "execution": {
     "iopub.execute_input": "2023-03-06T14:45:07.577787Z",
     "iopub.status.busy": "2023-03-06T14:45:07.577264Z",
     "iopub.status.idle": "2023-03-06T14:45:07.581585Z",
     "shell.execute_reply": "2023-03-06T14:45:07.580903Z"
    },
    "papermill": {
     "duration": 0.010981,
     "end_time": "2023-03-06T14:45:07.583290",
     "exception": false,
     "start_time": "2023-03-06T14:45:07.572309",
     "status": "completed"
    },
    "tags": [
     "parameters",
     "hide_input"
    ]
   },
   "outputs": [],
   "source": [
    "# Parameters\n",
    "fmt_date = \"{:%Y-%m-%d}\"\n",
    "\n",
    "n_days = 30 * 60\n",
    "start_date = fmt_date.format(pd.datetime.today() - timedelta(days=n_days))\n",
    "end_date = fmt_date.format(pd.datetime.today())\n",
    "\n",
    "renderer = \"html\"\n",
    "person = \"damianavila\""
   ]
  },
  {
   "cell_type": "code",
   "execution_count": 4,
   "id": "e4b8b294",
   "metadata": {
    "execution": {
     "iopub.execute_input": "2023-03-06T14:45:07.592264Z",
     "iopub.status.busy": "2023-03-06T14:45:07.591686Z",
     "iopub.status.idle": "2023-03-06T14:45:07.594974Z",
     "shell.execute_reply": "2023-03-06T14:45:07.594322Z"
    },
    "papermill": {
     "duration": 0.009444,
     "end_time": "2023-03-06T14:45:07.596517",
     "exception": false,
     "start_time": "2023-03-06T14:45:07.587073",
     "status": "completed"
    },
    "tags": [
     "injected-parameters",
     "remove-cell"
    ]
   },
   "outputs": [],
   "source": [
    "# Parameters\n",
    "person = \"colliand\"\n",
    "n_days = 90\n"
   ]
  },
  {
   "cell_type": "code",
   "execution_count": 5,
   "id": "a7dac650",
   "metadata": {
    "execution": {
     "iopub.execute_input": "2023-03-06T14:45:07.605619Z",
     "iopub.status.busy": "2023-03-06T14:45:07.605167Z",
     "iopub.status.idle": "2023-03-06T14:45:07.612228Z",
     "shell.execute_reply": "2023-03-06T14:45:07.611715Z"
    },
    "papermill": {
     "duration": 0.01322,
     "end_time": "2023-03-06T14:45:07.613678",
     "exception": false,
     "start_time": "2023-03-06T14:45:07.600458",
     "status": "completed"
    },
    "tags": [
     "remove_cell"
    ]
   },
   "outputs": [
    {
     "data": {
      "text/plain": [
       "ThemeRegistry.enable('my_theme')"
      ]
     },
     "execution_count": 5,
     "metadata": {},
     "output_type": "execute_result"
    }
   ],
   "source": [
    "alt.renderers.enable(renderer);\n",
    "alt.themes.register('my_theme', alt_theme)\n",
    "alt.themes.enable(\"my_theme\")"
   ]
  },
  {
   "cell_type": "markdown",
   "id": "77dab149",
   "metadata": {
    "papermill": {
     "duration": 0.003939,
     "end_time": "2023-03-06T14:45:07.621616",
     "exception": false,
     "start_time": "2023-03-06T14:45:07.617677",
     "status": "completed"
    },
    "tags": []
   },
   "source": [
    "## Load data"
   ]
  },
  {
   "cell_type": "code",
   "execution_count": 6,
   "id": "4324db29",
   "metadata": {
    "execution": {
     "iopub.execute_input": "2023-03-06T14:45:07.631036Z",
     "iopub.status.busy": "2023-03-06T14:45:07.630554Z",
     "iopub.status.idle": "2023-03-06T14:45:07.757367Z",
     "shell.execute_reply": "2023-03-06T14:45:07.756608Z"
    },
    "papermill": {
     "duration": 0.133754,
     "end_time": "2023-03-06T14:45:07.759420",
     "exception": false,
     "start_time": "2023-03-06T14:45:07.625666",
     "status": "completed"
    },
    "tags": [
     "remove_cell"
    ]
   },
   "outputs": [],
   "source": [
    "from pathlib import Path\n",
    "path_data = Path(\"./\")\n",
    "comments = pd.read_csv(path_data.joinpath('../data/comments.csv'), index_col=0)\n",
    "issues = pd.read_csv(path_data.joinpath('../data/issues.csv'), index_col=0)\n",
    "prs = pd.read_csv(path_data.joinpath('../data/prs.csv'), index_col=0)\n",
    "\n",
    "comments = comments.query('author == @person').drop_duplicates()\n",
    "issues = issues.query('author == @person').drop_duplicates()\n",
    "closed_by = prs.query('mergedBy == @person')\n",
    "prs = prs.query('author == @person').drop_duplicates()"
   ]
  },
  {
   "cell_type": "code",
   "execution_count": 7,
   "id": "e5d92155",
   "metadata": {
    "execution": {
     "iopub.execute_input": "2023-03-06T14:45:07.771297Z",
     "iopub.status.busy": "2023-03-06T14:45:07.770810Z",
     "iopub.status.idle": "2023-03-06T14:45:07.774751Z",
     "shell.execute_reply": "2023-03-06T14:45:07.774070Z"
    },
    "papermill": {
     "duration": 0.012045,
     "end_time": "2023-03-06T14:45:07.776406",
     "exception": false,
     "start_time": "2023-03-06T14:45:07.764361",
     "status": "completed"
    },
    "tags": []
   },
   "outputs": [],
   "source": [
    "if len(prs) == 0:\n",
    "    import sys\n",
    "    print(f\"Empty data for {person}, skipping...\")\n",
    "    sys.exit(0)"
   ]
  },
  {
   "cell_type": "code",
   "execution_count": 8,
   "id": "2d750ab3",
   "metadata": {
    "execution": {
     "iopub.execute_input": "2023-03-06T14:45:07.786511Z",
     "iopub.status.busy": "2023-03-06T14:45:07.785864Z",
     "iopub.status.idle": "2023-03-06T14:45:07.834055Z",
     "shell.execute_reply": "2023-03-06T14:45:07.833377Z"
    },
    "papermill": {
     "duration": 0.055241,
     "end_time": "2023-03-06T14:45:07.835896",
     "exception": false,
     "start_time": "2023-03-06T14:45:07.780655",
     "status": "completed"
    },
    "tags": [
     "remove_cell"
    ]
   },
   "outputs": [],
   "source": [
    "# Time columns\n",
    "# Also drop dates outside of our range\n",
    "time_columns = ['updatedAt', 'createdAt', 'closedAt']\n",
    "for col in time_columns:\n",
    "    for item in [comments, issues, prs, closed_by]:\n",
    "        if col not in item.columns:\n",
    "            continue\n",
    "        dt = pd.to_datetime(item[col]).dt.tz_localize(None)\n",
    "        item.loc[:, col] = dt\n",
    "        item.query(\"updatedAt < @end_date and updatedAt > @start_date\", inplace=True)"
   ]
  },
  {
   "cell_type": "markdown",
   "id": "a5d51489",
   "metadata": {
    "papermill": {
     "duration": 0.004197,
     "end_time": "2023-03-06T14:45:07.844422",
     "exception": false,
     "start_time": "2023-03-06T14:45:07.840225",
     "status": "completed"
    },
    "tags": []
   },
   "source": [
    "## Repository summaries"
   ]
  },
  {
   "cell_type": "code",
   "execution_count": 9,
   "id": "0506cdfa",
   "metadata": {
    "execution": {
     "iopub.execute_input": "2023-03-06T14:45:07.854648Z",
     "iopub.status.busy": "2023-03-06T14:45:07.853816Z",
     "iopub.status.idle": "2023-03-06T14:45:07.868780Z",
     "shell.execute_reply": "2023-03-06T14:45:07.868141Z"
    },
    "papermill": {
     "duration": 0.022002,
     "end_time": "2023-03-06T14:45:07.870646",
     "exception": false,
     "start_time": "2023-03-06T14:45:07.848644",
     "status": "completed"
    },
    "tags": [
     "remove_cell"
    ]
   },
   "outputs": [],
   "source": [
    "summaries = []\n",
    "for idata, name in [(issues, 'issues'), (prs, 'prs'), (comments, 'comments')]:\n",
    "    idata = idata.groupby([\"repo\", \"org\"]).agg({'id': \"count\"}).reset_index().rename(columns={'id': 'count'})\n",
    "    idata[\"kind\"] = name\n",
    "    summaries.append(idata)\n",
    "summaries = pd.concat(summaries)"
   ]
  },
  {
   "cell_type": "code",
   "execution_count": 10,
   "id": "58f86d42",
   "metadata": {
    "execution": {
     "iopub.execute_input": "2023-03-06T14:45:07.883399Z",
     "iopub.status.busy": "2023-03-06T14:45:07.882744Z",
     "iopub.status.idle": "2023-03-06T14:45:07.892187Z",
     "shell.execute_reply": "2023-03-06T14:45:07.891549Z"
    },
    "papermill": {
     "duration": 0.018427,
     "end_time": "2023-03-06T14:45:07.893984",
     "exception": false,
     "start_time": "2023-03-06T14:45:07.875557",
     "status": "completed"
    },
    "tags": [
     "remove_cell"
    ]
   },
   "outputs": [],
   "source": [
    "repo_summaries = summaries.groupby([\"repo\", \"kind\"]).agg({\"count\": \"sum\"}).reset_index()\n",
    "org_summaries = summaries.groupby([\"org\", \"kind\"]).agg({\"count\": \"sum\"}).reset_index()"
   ]
  },
  {
   "cell_type": "code",
   "execution_count": 11,
   "id": "1d1e7536",
   "metadata": {
    "execution": {
     "iopub.execute_input": "2023-03-06T14:45:07.904089Z",
     "iopub.status.busy": "2023-03-06T14:45:07.903609Z",
     "iopub.status.idle": "2023-03-06T14:45:07.907814Z",
     "shell.execute_reply": "2023-03-06T14:45:07.907119Z"
    },
    "papermill": {
     "duration": 0.010903,
     "end_time": "2023-03-06T14:45:07.909259",
     "exception": false,
     "start_time": "2023-03-06T14:45:07.898356",
     "status": "completed"
    },
    "tags": [
     "remove_cell"
    ]
   },
   "outputs": [],
   "source": [
    "repo_summaries['logcount'] = np.log(repo_summaries[\"count\"])"
   ]
  },
  {
   "cell_type": "code",
   "execution_count": 12,
   "id": "3e1fd586",
   "metadata": {
    "execution": {
     "iopub.execute_input": "2023-03-06T14:45:07.919028Z",
     "iopub.status.busy": "2023-03-06T14:45:07.918575Z",
     "iopub.status.idle": "2023-03-06T14:45:08.006095Z",
     "shell.execute_reply": "2023-03-06T14:45:08.005255Z"
    },
    "papermill": {
     "duration": 0.095102,
     "end_time": "2023-03-06T14:45:08.008562",
     "exception": false,
     "start_time": "2023-03-06T14:45:07.913460",
     "status": "completed"
    },
    "tags": [
     "hide_input"
    ]
   },
   "outputs": [
    {
     "data": {
      "text/html": [
       "\n",
       "<div id=\"altair-viz-d58d56124e98414a9565e32a79e667da\"></div>\n",
       "<script type=\"text/javascript\">\n",
       "  var VEGA_DEBUG = (typeof VEGA_DEBUG == \"undefined\") ? {} : VEGA_DEBUG;\n",
       "  (function(spec, embedOpt){\n",
       "    let outputDiv = document.currentScript.previousElementSibling;\n",
       "    if (outputDiv.id !== \"altair-viz-d58d56124e98414a9565e32a79e667da\") {\n",
       "      outputDiv = document.getElementById(\"altair-viz-d58d56124e98414a9565e32a79e667da\");\n",
       "    }\n",
       "    const paths = {\n",
       "      \"vega\": \"https://cdn.jsdelivr.net/npm//vega@5?noext\",\n",
       "      \"vega-lib\": \"https://cdn.jsdelivr.net/npm//vega-lib?noext\",\n",
       "      \"vega-lite\": \"https://cdn.jsdelivr.net/npm//vega-lite@4.17.0?noext\",\n",
       "      \"vega-embed\": \"https://cdn.jsdelivr.net/npm//vega-embed@6?noext\",\n",
       "    };\n",
       "\n",
       "    function maybeLoadScript(lib, version) {\n",
       "      var key = `${lib.replace(\"-\", \"\")}_version`;\n",
       "      return (VEGA_DEBUG[key] == version) ?\n",
       "        Promise.resolve(paths[lib]) :\n",
       "        new Promise(function(resolve, reject) {\n",
       "          var s = document.createElement('script');\n",
       "          document.getElementsByTagName(\"head\")[0].appendChild(s);\n",
       "          s.async = true;\n",
       "          s.onload = () => {\n",
       "            VEGA_DEBUG[key] = version;\n",
       "            return resolve(paths[lib]);\n",
       "          };\n",
       "          s.onerror = () => reject(`Error loading script: ${paths[lib]}`);\n",
       "          s.src = paths[lib];\n",
       "        });\n",
       "    }\n",
       "\n",
       "    function showError(err) {\n",
       "      outputDiv.innerHTML = `<div class=\"error\" style=\"color:red;\">${err}</div>`;\n",
       "      throw err;\n",
       "    }\n",
       "\n",
       "    function displayChart(vegaEmbed) {\n",
       "      vegaEmbed(outputDiv, spec, embedOpt)\n",
       "        .catch(err => showError(`Javascript Error: ${err.message}<br>This usually means there's a typo in your chart specification. See the javascript console for the full traceback.`));\n",
       "    }\n",
       "\n",
       "    if(typeof define === \"function\" && define.amd) {\n",
       "      requirejs.config({paths});\n",
       "      require([\"vega-embed\"], displayChart, err => showError(`Error loading script: ${err.message}`));\n",
       "    } else {\n",
       "      maybeLoadScript(\"vega\", \"5\")\n",
       "        .then(() => maybeLoadScript(\"vega-lite\", \"4.17.0\"))\n",
       "        .then(() => maybeLoadScript(\"vega-embed\", \"6\"))\n",
       "        .catch(showError)\n",
       "        .then(() => displayChart(vegaEmbed));\n",
       "    }\n",
       "  })({\"config\": {\"axisLeft\": {\"labelFontSize\": 15}, \"axisBottom\": {\"labelFontSize\": 15}}, \"hconcat\": [{\"mark\": \"bar\", \"encoding\": {\"color\": {\"field\": \"kind\", \"type\": \"nominal\"}, \"tooltip\": {\"field\": \"kind\", \"type\": \"nominal\"}, \"x\": {\"field\": \"repo\", \"type\": \"nominal\"}, \"y\": {\"field\": \"count\", \"type\": \"quantitative\"}}, \"title\": \"Activity per repository\", \"width\": 600}, {\"mark\": \"bar\", \"encoding\": {\"color\": {\"field\": \"kind\", \"type\": \"nominal\"}, \"tooltip\": {\"field\": \"kind\", \"type\": \"nominal\"}, \"x\": {\"field\": \"repo\", \"type\": \"nominal\"}, \"y\": {\"field\": \"logcount\", \"type\": \"quantitative\"}}, \"title\": \"Log activity per repository\", \"width\": 600}], \"data\": {\"name\": \"data-fde78881f7aad8363376904a8813f8d6\"}, \"$schema\": \"https://vega.github.io/schema/vega-lite/v4.17.0.json\", \"datasets\": {\"data-fde78881f7aad8363376904a8813f8d6\": [{\"repo\": \"gh-scoped-creds\", \"kind\": \"prs\", \"count\": 1, \"logcount\": 0.0}, {\"repo\": \"infrastructure\", \"kind\": \"comments\", \"count\": 12, \"logcount\": 2.4849066497880004}, {\"repo\": \"infrastructure\", \"kind\": \"issues\", \"count\": 5, \"logcount\": 1.6094379124341003}, {\"repo\": \"leads\", \"kind\": \"comments\", \"count\": 23, \"logcount\": 3.1354942159291497}, {\"repo\": \"leads\", \"kind\": \"issues\", \"count\": 10, \"logcount\": 2.3025850929940455}, {\"repo\": \"meta\", \"kind\": \"comments\", \"count\": 11, \"logcount\": 2.3978952727983707}, {\"repo\": \"meta\", \"kind\": \"issues\", \"count\": 8, \"logcount\": 2.0794415416798357}, {\"repo\": \"myst-enhancement-proposals\", \"kind\": \"comments\", \"count\": 1, \"logcount\": 0.0}, {\"repo\": \"team-compass\", \"kind\": \"comments\", \"count\": 6, \"logcount\": 1.791759469228055}, {\"repo\": \"team-compass\", \"kind\": \"prs\", \"count\": 2, \"logcount\": 0.6931471805599453}]}}, {\"mode\": \"vega-lite\"});\n",
       "</script>"
      ],
      "text/plain": [
       "alt.HConcatChart(...)"
      ]
     },
     "execution_count": 12,
     "metadata": {},
     "output_type": "execute_result"
    }
   ],
   "source": [
    "ch1 = alt.Chart(repo_summaries, width=600, title=\"Activity per repository\").mark_bar().encode(\n",
    "    x='repo',\n",
    "    y='count',\n",
    "    color='kind',\n",
    "    tooltip=\"kind\"\n",
    ")\n",
    "\n",
    "ch2 = alt.Chart(repo_summaries, width=600, title=\"Log activity per repository\").mark_bar().encode(\n",
    "    x='repo',\n",
    "    y='logcount',\n",
    "    color='kind',\n",
    "    tooltip=\"kind\"\n",
    ")\n",
    "\n",
    "ch1 | ch2"
   ]
  },
  {
   "cell_type": "code",
   "execution_count": 13,
   "id": "1bd45c1a",
   "metadata": {
    "execution": {
     "iopub.execute_input": "2023-03-06T14:45:08.021506Z",
     "iopub.status.busy": "2023-03-06T14:45:08.021227Z",
     "iopub.status.idle": "2023-03-06T14:45:08.068167Z",
     "shell.execute_reply": "2023-03-06T14:45:08.067375Z"
    },
    "papermill": {
     "duration": 0.055695,
     "end_time": "2023-03-06T14:45:08.070473",
     "exception": false,
     "start_time": "2023-03-06T14:45:08.014778",
     "status": "completed"
    },
    "tags": [
     "hide_input"
    ]
   },
   "outputs": [
    {
     "data": {
      "text/html": [
       "\n",
       "<div id=\"altair-viz-3c562c774a7e4784a9325ab53a11c335\"></div>\n",
       "<script type=\"text/javascript\">\n",
       "  var VEGA_DEBUG = (typeof VEGA_DEBUG == \"undefined\") ? {} : VEGA_DEBUG;\n",
       "  (function(spec, embedOpt){\n",
       "    let outputDiv = document.currentScript.previousElementSibling;\n",
       "    if (outputDiv.id !== \"altair-viz-3c562c774a7e4784a9325ab53a11c335\") {\n",
       "      outputDiv = document.getElementById(\"altair-viz-3c562c774a7e4784a9325ab53a11c335\");\n",
       "    }\n",
       "    const paths = {\n",
       "      \"vega\": \"https://cdn.jsdelivr.net/npm//vega@5?noext\",\n",
       "      \"vega-lib\": \"https://cdn.jsdelivr.net/npm//vega-lib?noext\",\n",
       "      \"vega-lite\": \"https://cdn.jsdelivr.net/npm//vega-lite@4.17.0?noext\",\n",
       "      \"vega-embed\": \"https://cdn.jsdelivr.net/npm//vega-embed@6?noext\",\n",
       "    };\n",
       "\n",
       "    function maybeLoadScript(lib, version) {\n",
       "      var key = `${lib.replace(\"-\", \"\")}_version`;\n",
       "      return (VEGA_DEBUG[key] == version) ?\n",
       "        Promise.resolve(paths[lib]) :\n",
       "        new Promise(function(resolve, reject) {\n",
       "          var s = document.createElement('script');\n",
       "          document.getElementsByTagName(\"head\")[0].appendChild(s);\n",
       "          s.async = true;\n",
       "          s.onload = () => {\n",
       "            VEGA_DEBUG[key] = version;\n",
       "            return resolve(paths[lib]);\n",
       "          };\n",
       "          s.onerror = () => reject(`Error loading script: ${paths[lib]}`);\n",
       "          s.src = paths[lib];\n",
       "        });\n",
       "    }\n",
       "\n",
       "    function showError(err) {\n",
       "      outputDiv.innerHTML = `<div class=\"error\" style=\"color:red;\">${err}</div>`;\n",
       "      throw err;\n",
       "    }\n",
       "\n",
       "    function displayChart(vegaEmbed) {\n",
       "      vegaEmbed(outputDiv, spec, embedOpt)\n",
       "        .catch(err => showError(`Javascript Error: ${err.message}<br>This usually means there's a typo in your chart specification. See the javascript console for the full traceback.`));\n",
       "    }\n",
       "\n",
       "    if(typeof define === \"function\" && define.amd) {\n",
       "      requirejs.config({paths});\n",
       "      require([\"vega-embed\"], displayChart, err => showError(`Error loading script: ${err.message}`));\n",
       "    } else {\n",
       "      maybeLoadScript(\"vega\", \"5\")\n",
       "        .then(() => maybeLoadScript(\"vega-lite\", \"4.17.0\"))\n",
       "        .then(() => maybeLoadScript(\"vega-embed\", \"6\"))\n",
       "        .catch(showError)\n",
       "        .then(() => displayChart(vegaEmbed));\n",
       "    }\n",
       "  })({\"config\": {\"axisLeft\": {\"labelFontSize\": 15}, \"axisBottom\": {\"labelFontSize\": 15}}, \"data\": {\"name\": \"data-2de669ca5861791493a7da645d2023d8\"}, \"mark\": \"bar\", \"encoding\": {\"color\": {\"field\": \"kind\", \"type\": \"nominal\"}, \"tooltip\": {\"field\": \"org\", \"type\": \"nominal\"}, \"x\": {\"field\": \"org\", \"type\": \"nominal\"}, \"y\": {\"field\": \"count\", \"type\": \"quantitative\"}}, \"width\": 600, \"$schema\": \"https://vega.github.io/schema/vega-lite/v4.17.0.json\", \"datasets\": {\"data-2de669ca5861791493a7da645d2023d8\": [{\"org\": \"2i2c-org\", \"kind\": \"comments\", \"count\": 52}, {\"org\": \"2i2c-org\", \"kind\": \"issues\", \"count\": 23}, {\"org\": \"2i2c-org\", \"kind\": \"prs\", \"count\": 2}, {\"org\": \"executablebooks\", \"kind\": \"comments\", \"count\": 1}, {\"org\": \"jupyterhub\", \"kind\": \"prs\", \"count\": 1}]}}, {\"mode\": \"vega-lite\"});\n",
       "</script>"
      ],
      "text/plain": [
       "alt.Chart(...)"
      ]
     },
     "execution_count": 13,
     "metadata": {},
     "output_type": "execute_result"
    }
   ],
   "source": [
    "alt.Chart(org_summaries, width=600).mark_bar().encode(\n",
    "    x='org',\n",
    "    y='count',\n",
    "    color='kind',\n",
    "    tooltip=\"org\"\n",
    ")"
   ]
  },
  {
   "cell_type": "markdown",
   "id": "e724aa0d",
   "metadata": {
    "papermill": {
     "duration": 0.004743,
     "end_time": "2023-03-06T14:45:08.080728",
     "exception": false,
     "start_time": "2023-03-06T14:45:08.075985",
     "status": "completed"
    },
    "tags": []
   },
   "source": [
    "## By repository over time"
   ]
  },
  {
   "cell_type": "markdown",
   "id": "f6076bf6",
   "metadata": {
    "papermill": {
     "duration": 0.004601,
     "end_time": "2023-03-06T14:45:08.090094",
     "exception": false,
     "start_time": "2023-03-06T14:45:08.085493",
     "status": "completed"
    },
    "tags": []
   },
   "source": [
    "### Comments"
   ]
  },
  {
   "cell_type": "code",
   "execution_count": 14,
   "id": "1df20060",
   "metadata": {
    "execution": {
     "iopub.execute_input": "2023-03-06T14:45:08.101019Z",
     "iopub.status.busy": "2023-03-06T14:45:08.100529Z",
     "iopub.status.idle": "2023-03-06T14:45:08.198669Z",
     "shell.execute_reply": "2023-03-06T14:45:08.197924Z"
    },
    "papermill": {
     "duration": 0.105845,
     "end_time": "2023-03-06T14:45:08.200555",
     "exception": false,
     "start_time": "2023-03-06T14:45:08.094710",
     "status": "completed"
    },
    "tags": [
     "hide_input"
    ]
   },
   "outputs": [
    {
     "data": {
      "text/html": [
       "\n",
       "<div id=\"altair-viz-59d6cc304f0340398f7392b8d4ee494e\"></div>\n",
       "<script type=\"text/javascript\">\n",
       "  var VEGA_DEBUG = (typeof VEGA_DEBUG == \"undefined\") ? {} : VEGA_DEBUG;\n",
       "  (function(spec, embedOpt){\n",
       "    let outputDiv = document.currentScript.previousElementSibling;\n",
       "    if (outputDiv.id !== \"altair-viz-59d6cc304f0340398f7392b8d4ee494e\") {\n",
       "      outputDiv = document.getElementById(\"altair-viz-59d6cc304f0340398f7392b8d4ee494e\");\n",
       "    }\n",
       "    const paths = {\n",
       "      \"vega\": \"https://cdn.jsdelivr.net/npm//vega@5?noext\",\n",
       "      \"vega-lib\": \"https://cdn.jsdelivr.net/npm//vega-lib?noext\",\n",
       "      \"vega-lite\": \"https://cdn.jsdelivr.net/npm//vega-lite@4.17.0?noext\",\n",
       "      \"vega-embed\": \"https://cdn.jsdelivr.net/npm//vega-embed@6?noext\",\n",
       "    };\n",
       "\n",
       "    function maybeLoadScript(lib, version) {\n",
       "      var key = `${lib.replace(\"-\", \"\")}_version`;\n",
       "      return (VEGA_DEBUG[key] == version) ?\n",
       "        Promise.resolve(paths[lib]) :\n",
       "        new Promise(function(resolve, reject) {\n",
       "          var s = document.createElement('script');\n",
       "          document.getElementsByTagName(\"head\")[0].appendChild(s);\n",
       "          s.async = true;\n",
       "          s.onload = () => {\n",
       "            VEGA_DEBUG[key] = version;\n",
       "            return resolve(paths[lib]);\n",
       "          };\n",
       "          s.onerror = () => reject(`Error loading script: ${paths[lib]}`);\n",
       "          s.src = paths[lib];\n",
       "        });\n",
       "    }\n",
       "\n",
       "    function showError(err) {\n",
       "      outputDiv.innerHTML = `<div class=\"error\" style=\"color:red;\">${err}</div>`;\n",
       "      throw err;\n",
       "    }\n",
       "\n",
       "    function displayChart(vegaEmbed) {\n",
       "      vegaEmbed(outputDiv, spec, embedOpt)\n",
       "        .catch(err => showError(`Javascript Error: ${err.message}<br>This usually means there's a typo in your chart specification. See the javascript console for the full traceback.`));\n",
       "    }\n",
       "\n",
       "    if(typeof define === \"function\" && define.amd) {\n",
       "      requirejs.config({paths});\n",
       "      require([\"vega-embed\"], displayChart, err => showError(`Error loading script: ${err.message}`));\n",
       "    } else {\n",
       "      maybeLoadScript(\"vega\", \"5\")\n",
       "        .then(() => maybeLoadScript(\"vega-lite\", \"4.17.0\"))\n",
       "        .then(() => maybeLoadScript(\"vega-embed\", \"6\"))\n",
       "        .catch(showError)\n",
       "        .then(() => displayChart(vegaEmbed));\n",
       "    }\n",
       "  })({\"config\": {\"axisLeft\": {\"labelFontSize\": 15}, \"axisBottom\": {\"labelFontSize\": 15}}, \"layer\": [{\"data\": {\"name\": \"data-847a915cde7407d32c91990e99334f7e\"}, \"mark\": \"line\", \"encoding\": {\"color\": {\"field\": \"repo\", \"type\": \"nominal\"}, \"tooltip\": {\"field\": \"repo\", \"type\": \"nominal\"}, \"x\": {\"field\": \"createdAt\", \"type\": \"temporal\"}, \"y\": {\"field\": \"count\", \"type\": \"quantitative\"}}, \"width\": 600}, {\"data\": {\"name\": \"data-a37a980c9a604343464a98564f7582a3\"}, \"mark\": {\"type\": \"line\", \"color\": \"black\"}, \"encoding\": {\"x\": {\"field\": \"createdAt\", \"type\": \"temporal\"}, \"y\": {\"field\": \"count\", \"type\": \"quantitative\"}}, \"width\": 600}], \"$schema\": \"https://vega.github.io/schema/vega-lite/v4.17.0.json\", \"datasets\": {\"data-847a915cde7407d32c91990e99334f7e\": [{\"repo\": \"infrastructure\", \"createdAt\": \"2022-09-18T00:00:00\", \"count\": 1}, {\"repo\": \"infrastructure\", \"createdAt\": \"2022-09-25T00:00:00\", \"count\": 0}, {\"repo\": \"infrastructure\", \"createdAt\": \"2022-10-02T00:00:00\", \"count\": 0}, {\"repo\": \"infrastructure\", \"createdAt\": \"2022-10-09T00:00:00\", \"count\": 0}, {\"repo\": \"infrastructure\", \"createdAt\": \"2022-10-16T00:00:00\", \"count\": 0}, {\"repo\": \"infrastructure\", \"createdAt\": \"2022-10-23T00:00:00\", \"count\": 0}, {\"repo\": \"infrastructure\", \"createdAt\": \"2022-10-30T00:00:00\", \"count\": 0}, {\"repo\": \"infrastructure\", \"createdAt\": \"2022-11-06T00:00:00\", \"count\": 0}, {\"repo\": \"infrastructure\", \"createdAt\": \"2022-11-13T00:00:00\", \"count\": 0}, {\"repo\": \"infrastructure\", \"createdAt\": \"2022-11-20T00:00:00\", \"count\": 0}, {\"repo\": \"infrastructure\", \"createdAt\": \"2022-11-27T00:00:00\", \"count\": 1}, {\"repo\": \"infrastructure\", \"createdAt\": \"2022-12-04T00:00:00\", \"count\": 0}, {\"repo\": \"infrastructure\", \"createdAt\": \"2022-12-11T00:00:00\", \"count\": 2}, {\"repo\": \"infrastructure\", \"createdAt\": \"2022-12-18T00:00:00\", \"count\": 1}, {\"repo\": \"infrastructure\", \"createdAt\": \"2022-12-25T00:00:00\", \"count\": 0}, {\"repo\": \"infrastructure\", \"createdAt\": \"2023-01-01T00:00:00\", \"count\": 0}, {\"repo\": \"infrastructure\", \"createdAt\": \"2023-01-08T00:00:00\", \"count\": 0}, {\"repo\": \"infrastructure\", \"createdAt\": \"2023-01-15T00:00:00\", \"count\": 0}, {\"repo\": \"infrastructure\", \"createdAt\": \"2023-01-22T00:00:00\", \"count\": 0}, {\"repo\": \"infrastructure\", \"createdAt\": \"2023-01-29T00:00:00\", \"count\": 0}, {\"repo\": \"infrastructure\", \"createdAt\": \"2023-02-05T00:00:00\", \"count\": 5}, {\"repo\": \"infrastructure\", \"createdAt\": \"2023-02-12T00:00:00\", \"count\": 1}, {\"repo\": \"infrastructure\", \"createdAt\": \"2023-02-19T00:00:00\", \"count\": 1}, {\"repo\": \"leads\", \"createdAt\": \"2022-07-24T00:00:00\", \"count\": 2}, {\"repo\": \"leads\", \"createdAt\": \"2022-07-31T00:00:00\", \"count\": 0}, {\"repo\": \"leads\", \"createdAt\": \"2022-08-07T00:00:00\", \"count\": 0}, {\"repo\": \"leads\", \"createdAt\": \"2022-08-14T00:00:00\", \"count\": 0}, {\"repo\": \"leads\", \"createdAt\": \"2022-08-21T00:00:00\", \"count\": 0}, {\"repo\": \"leads\", \"createdAt\": \"2022-08-28T00:00:00\", \"count\": 0}, {\"repo\": \"leads\", \"createdAt\": \"2022-09-04T00:00:00\", \"count\": 0}, {\"repo\": \"leads\", \"createdAt\": \"2022-09-11T00:00:00\", \"count\": 0}, {\"repo\": \"leads\", \"createdAt\": \"2022-09-18T00:00:00\", \"count\": 0}, {\"repo\": \"leads\", \"createdAt\": \"2022-09-25T00:00:00\", \"count\": 0}, {\"repo\": \"leads\", \"createdAt\": \"2022-10-02T00:00:00\", \"count\": 0}, {\"repo\": \"leads\", \"createdAt\": \"2022-10-09T00:00:00\", \"count\": 0}, {\"repo\": \"leads\", \"createdAt\": \"2022-10-16T00:00:00\", \"count\": 0}, {\"repo\": \"leads\", \"createdAt\": \"2022-10-23T00:00:00\", \"count\": 0}, {\"repo\": \"leads\", \"createdAt\": \"2022-10-30T00:00:00\", \"count\": 0}, {\"repo\": \"leads\", \"createdAt\": \"2022-11-06T00:00:00\", \"count\": 0}, {\"repo\": \"leads\", \"createdAt\": \"2022-11-13T00:00:00\", \"count\": 0}, {\"repo\": \"leads\", \"createdAt\": \"2022-11-20T00:00:00\", \"count\": 0}, {\"repo\": \"leads\", \"createdAt\": \"2022-11-27T00:00:00\", \"count\": 0}, {\"repo\": \"leads\", \"createdAt\": \"2022-12-04T00:00:00\", \"count\": 0}, {\"repo\": \"leads\", \"createdAt\": \"2022-12-11T00:00:00\", \"count\": 0}, {\"repo\": \"leads\", \"createdAt\": \"2022-12-18T00:00:00\", \"count\": 0}, {\"repo\": \"leads\", \"createdAt\": \"2022-12-25T00:00:00\", \"count\": 0}, {\"repo\": \"leads\", \"createdAt\": \"2023-01-01T00:00:00\", \"count\": 0}, {\"repo\": \"leads\", \"createdAt\": \"2023-01-08T00:00:00\", \"count\": 0}, {\"repo\": \"leads\", \"createdAt\": \"2023-01-15T00:00:00\", \"count\": 1}, {\"repo\": \"leads\", \"createdAt\": \"2023-01-22T00:00:00\", \"count\": 4}, {\"repo\": \"leads\", \"createdAt\": \"2023-01-29T00:00:00\", \"count\": 2}, {\"repo\": \"leads\", \"createdAt\": \"2023-02-05T00:00:00\", \"count\": 5}, {\"repo\": \"leads\", \"createdAt\": \"2023-02-12T00:00:00\", \"count\": 3}, {\"repo\": \"leads\", \"createdAt\": \"2023-02-19T00:00:00\", \"count\": 1}, {\"repo\": \"leads\", \"createdAt\": \"2023-02-26T00:00:00\", \"count\": 3}, {\"repo\": \"leads\", \"createdAt\": \"2023-03-05T00:00:00\", \"count\": 2}, {\"repo\": \"meta\", \"createdAt\": \"2022-12-04T00:00:00\", \"count\": 1}, {\"repo\": \"meta\", \"createdAt\": \"2022-12-11T00:00:00\", \"count\": 0}, {\"repo\": \"meta\", \"createdAt\": \"2022-12-18T00:00:00\", \"count\": 0}, {\"repo\": \"meta\", \"createdAt\": \"2022-12-25T00:00:00\", \"count\": 0}, {\"repo\": \"meta\", \"createdAt\": \"2023-01-01T00:00:00\", \"count\": 0}, {\"repo\": \"meta\", \"createdAt\": \"2023-01-08T00:00:00\", \"count\": 0}, {\"repo\": \"meta\", \"createdAt\": \"2023-01-15T00:00:00\", \"count\": 0}, {\"repo\": \"meta\", \"createdAt\": \"2023-01-22T00:00:00\", \"count\": 0}, {\"repo\": \"meta\", \"createdAt\": \"2023-01-29T00:00:00\", \"count\": 1}, {\"repo\": \"meta\", \"createdAt\": \"2023-02-05T00:00:00\", \"count\": 3}, {\"repo\": \"meta\", \"createdAt\": \"2023-02-12T00:00:00\", \"count\": 1}, {\"repo\": \"meta\", \"createdAt\": \"2023-02-19T00:00:00\", \"count\": 2}, {\"repo\": \"meta\", \"createdAt\": \"2023-02-26T00:00:00\", \"count\": 2}, {\"repo\": \"meta\", \"createdAt\": \"2023-03-05T00:00:00\", \"count\": 1}, {\"repo\": \"myst-enhancement-proposals\", \"createdAt\": \"2023-03-05T00:00:00\", \"count\": 1}, {\"repo\": \"team-compass\", \"createdAt\": \"2023-01-15T00:00:00\", \"count\": 2}, {\"repo\": \"team-compass\", \"createdAt\": \"2023-01-22T00:00:00\", \"count\": 0}, {\"repo\": \"team-compass\", \"createdAt\": \"2023-01-29T00:00:00\", \"count\": 0}, {\"repo\": \"team-compass\", \"createdAt\": \"2023-02-05T00:00:00\", \"count\": 2}, {\"repo\": \"team-compass\", \"createdAt\": \"2023-02-12T00:00:00\", \"count\": 1}, {\"repo\": \"team-compass\", \"createdAt\": \"2023-02-19T00:00:00\", \"count\": 1}], \"data-a37a980c9a604343464a98564f7582a3\": [{\"createdAt\": \"2022-07-24T00:00:00\", \"count\": 2}, {\"createdAt\": \"2022-07-31T00:00:00\", \"count\": 0}, {\"createdAt\": \"2022-08-07T00:00:00\", \"count\": 0}, {\"createdAt\": \"2022-08-14T00:00:00\", \"count\": 0}, {\"createdAt\": \"2022-08-21T00:00:00\", \"count\": 0}, {\"createdAt\": \"2022-08-28T00:00:00\", \"count\": 0}, {\"createdAt\": \"2022-09-04T00:00:00\", \"count\": 0}, {\"createdAt\": \"2022-09-11T00:00:00\", \"count\": 0}, {\"createdAt\": \"2022-09-18T00:00:00\", \"count\": 1}, {\"createdAt\": \"2022-09-25T00:00:00\", \"count\": 0}, {\"createdAt\": \"2022-10-02T00:00:00\", \"count\": 0}, {\"createdAt\": \"2022-10-09T00:00:00\", \"count\": 0}, {\"createdAt\": \"2022-10-16T00:00:00\", \"count\": 0}, {\"createdAt\": \"2022-10-23T00:00:00\", \"count\": 0}, {\"createdAt\": \"2022-10-30T00:00:00\", \"count\": 0}, {\"createdAt\": \"2022-11-06T00:00:00\", \"count\": 0}, {\"createdAt\": \"2022-11-13T00:00:00\", \"count\": 0}, {\"createdAt\": \"2022-11-20T00:00:00\", \"count\": 0}, {\"createdAt\": \"2022-11-27T00:00:00\", \"count\": 1}, {\"createdAt\": \"2022-12-04T00:00:00\", \"count\": 1}, {\"createdAt\": \"2022-12-11T00:00:00\", \"count\": 2}, {\"createdAt\": \"2022-12-18T00:00:00\", \"count\": 1}, {\"createdAt\": \"2022-12-25T00:00:00\", \"count\": 0}, {\"createdAt\": \"2023-01-01T00:00:00\", \"count\": 0}, {\"createdAt\": \"2023-01-08T00:00:00\", \"count\": 0}, {\"createdAt\": \"2023-01-15T00:00:00\", \"count\": 3}, {\"createdAt\": \"2023-01-22T00:00:00\", \"count\": 4}, {\"createdAt\": \"2023-01-29T00:00:00\", \"count\": 3}, {\"createdAt\": \"2023-02-05T00:00:00\", \"count\": 15}, {\"createdAt\": \"2023-02-12T00:00:00\", \"count\": 6}, {\"createdAt\": \"2023-02-19T00:00:00\", \"count\": 5}, {\"createdAt\": \"2023-02-26T00:00:00\", \"count\": 5}, {\"createdAt\": \"2023-03-05T00:00:00\", \"count\": 4}]}}, {\"mode\": \"vega-lite\"});\n",
       "</script>"
      ],
      "text/plain": [
       "alt.LayerChart(...)"
      ]
     },
     "execution_count": 14,
     "metadata": {},
     "output_type": "execute_result"
    }
   ],
   "source": [
    "comments_time = comments.groupby('repo').resample('W', on='createdAt').count()['author'].reset_index()\n",
    "comments_time = comments_time.rename(columns={'author': 'count'})\n",
    "comments_time_total = comments_time.groupby('createdAt').agg({\"count\": \"sum\"}).reset_index()\n",
    "ch1 = alt.Chart(comments_time, width=600).mark_line().encode(\n",
    "    x='createdAt',\n",
    "    y='count',\n",
    "    color='repo',\n",
    "    tooltip=\"repo\"\n",
    ")\n",
    "\n",
    "ch2 = alt.Chart(comments_time_total, width=600).mark_line(color=\"black\").encode(\n",
    "    x='createdAt',\n",
    "    y='count',\n",
    ")\n",
    "\n",
    "ch1 + ch2"
   ]
  },
  {
   "cell_type": "markdown",
   "id": "616e79e3",
   "metadata": {
    "papermill": {
     "duration": 0.005171,
     "end_time": "2023-03-06T14:45:08.211688",
     "exception": false,
     "start_time": "2023-03-06T14:45:08.206517",
     "status": "completed"
    },
    "tags": []
   },
   "source": [
    "### PRs"
   ]
  },
  {
   "cell_type": "code",
   "execution_count": 15,
   "id": "a4236e2c",
   "metadata": {
    "execution": {
     "iopub.execute_input": "2023-03-06T14:45:08.223790Z",
     "iopub.status.busy": "2023-03-06T14:45:08.223251Z",
     "iopub.status.idle": "2023-03-06T14:45:08.312566Z",
     "shell.execute_reply": "2023-03-06T14:45:08.311738Z"
    },
    "papermill": {
     "duration": 0.098182,
     "end_time": "2023-03-06T14:45:08.314863",
     "exception": false,
     "start_time": "2023-03-06T14:45:08.216681",
     "status": "completed"
    },
    "tags": [
     "hide_input"
    ]
   },
   "outputs": [
    {
     "data": {
      "text/html": [
       "\n",
       "<div id=\"altair-viz-390e97eb694d49e280ac6f51d9bf0f55\"></div>\n",
       "<script type=\"text/javascript\">\n",
       "  var VEGA_DEBUG = (typeof VEGA_DEBUG == \"undefined\") ? {} : VEGA_DEBUG;\n",
       "  (function(spec, embedOpt){\n",
       "    let outputDiv = document.currentScript.previousElementSibling;\n",
       "    if (outputDiv.id !== \"altair-viz-390e97eb694d49e280ac6f51d9bf0f55\") {\n",
       "      outputDiv = document.getElementById(\"altair-viz-390e97eb694d49e280ac6f51d9bf0f55\");\n",
       "    }\n",
       "    const paths = {\n",
       "      \"vega\": \"https://cdn.jsdelivr.net/npm//vega@5?noext\",\n",
       "      \"vega-lib\": \"https://cdn.jsdelivr.net/npm//vega-lib?noext\",\n",
       "      \"vega-lite\": \"https://cdn.jsdelivr.net/npm//vega-lite@4.17.0?noext\",\n",
       "      \"vega-embed\": \"https://cdn.jsdelivr.net/npm//vega-embed@6?noext\",\n",
       "    };\n",
       "\n",
       "    function maybeLoadScript(lib, version) {\n",
       "      var key = `${lib.replace(\"-\", \"\")}_version`;\n",
       "      return (VEGA_DEBUG[key] == version) ?\n",
       "        Promise.resolve(paths[lib]) :\n",
       "        new Promise(function(resolve, reject) {\n",
       "          var s = document.createElement('script');\n",
       "          document.getElementsByTagName(\"head\")[0].appendChild(s);\n",
       "          s.async = true;\n",
       "          s.onload = () => {\n",
       "            VEGA_DEBUG[key] = version;\n",
       "            return resolve(paths[lib]);\n",
       "          };\n",
       "          s.onerror = () => reject(`Error loading script: ${paths[lib]}`);\n",
       "          s.src = paths[lib];\n",
       "        });\n",
       "    }\n",
       "\n",
       "    function showError(err) {\n",
       "      outputDiv.innerHTML = `<div class=\"error\" style=\"color:red;\">${err}</div>`;\n",
       "      throw err;\n",
       "    }\n",
       "\n",
       "    function displayChart(vegaEmbed) {\n",
       "      vegaEmbed(outputDiv, spec, embedOpt)\n",
       "        .catch(err => showError(`Javascript Error: ${err.message}<br>This usually means there's a typo in your chart specification. See the javascript console for the full traceback.`));\n",
       "    }\n",
       "\n",
       "    if(typeof define === \"function\" && define.amd) {\n",
       "      requirejs.config({paths});\n",
       "      require([\"vega-embed\"], displayChart, err => showError(`Error loading script: ${err.message}`));\n",
       "    } else {\n",
       "      maybeLoadScript(\"vega\", \"5\")\n",
       "        .then(() => maybeLoadScript(\"vega-lite\", \"4.17.0\"))\n",
       "        .then(() => maybeLoadScript(\"vega-embed\", \"6\"))\n",
       "        .catch(showError)\n",
       "        .then(() => displayChart(vegaEmbed));\n",
       "    }\n",
       "  })({\"config\": {\"axisLeft\": {\"labelFontSize\": 15}, \"axisBottom\": {\"labelFontSize\": 15}}, \"layer\": [{\"data\": {\"name\": \"data-9db32ce6864b24de130f639e224c1f38\"}, \"mark\": \"line\", \"encoding\": {\"color\": {\"field\": \"repo\", \"type\": \"nominal\"}, \"tooltip\": {\"field\": \"repo\", \"type\": \"nominal\"}, \"x\": {\"field\": \"createdAt\", \"type\": \"temporal\"}, \"y\": {\"field\": \"count\", \"type\": \"quantitative\"}}, \"width\": 600}, {\"data\": {\"name\": \"data-28deb50fd31ccccef0476a8fb7990b90\"}, \"mark\": {\"type\": \"line\", \"color\": \"black\"}, \"encoding\": {\"x\": {\"field\": \"createdAt\", \"type\": \"temporal\"}, \"y\": {\"field\": \"count\", \"type\": \"quantitative\"}}, \"width\": 600}], \"$schema\": \"https://vega.github.io/schema/vega-lite/v4.17.0.json\", \"datasets\": {\"data-9db32ce6864b24de130f639e224c1f38\": [{\"repo\": \"gh-scoped-creds\", \"createdAt\": \"2023-02-05T00:00:00\", \"count\": 1}, {\"repo\": \"team-compass\", \"createdAt\": \"2023-02-05T00:00:00\", \"count\": 1}, {\"repo\": \"team-compass\", \"createdAt\": \"2023-02-12T00:00:00\", \"count\": 1}], \"data-28deb50fd31ccccef0476a8fb7990b90\": [{\"createdAt\": \"2023-02-05T00:00:00\", \"count\": 2}, {\"createdAt\": \"2023-02-12T00:00:00\", \"count\": 1}]}}, {\"mode\": \"vega-lite\"});\n",
       "</script>"
      ],
      "text/plain": [
       "alt.LayerChart(...)"
      ]
     },
     "execution_count": 15,
     "metadata": {},
     "output_type": "execute_result"
    }
   ],
   "source": [
    "prs_time = prs.groupby('repo').resample('W', on='createdAt').count()['author'].reset_index()\n",
    "prs_time = prs_time.rename(columns={'author': 'count'})\n",
    "prs_time_total = prs_time.groupby('createdAt').agg({\"count\": \"sum\"}).reset_index()\n",
    "\n",
    "ch1 = alt.Chart(prs_time, width=600).mark_line().encode(\n",
    "    x='createdAt',\n",
    "    y='count',\n",
    "    color='repo',\n",
    "    tooltip=\"repo\"\n",
    ")\n",
    "\n",
    "ch2 = alt.Chart(prs_time_total, width=600).mark_line(color=\"black\").encode(\n",
    "    x='createdAt',\n",
    "    y='count',\n",
    ")\n",
    "\n",
    "ch1 + ch2"
   ]
  },
  {
   "cell_type": "code",
   "execution_count": 16,
   "id": "e7a59eb5",
   "metadata": {
    "execution": {
     "iopub.execute_input": "2023-03-06T14:45:08.327842Z",
     "iopub.status.busy": "2023-03-06T14:45:08.327191Z",
     "iopub.status.idle": "2023-03-06T14:45:08.382268Z",
     "shell.execute_reply": "2023-03-06T14:45:08.381520Z"
    },
    "papermill": {
     "duration": 0.063247,
     "end_time": "2023-03-06T14:45:08.384245",
     "exception": false,
     "start_time": "2023-03-06T14:45:08.320998",
     "status": "completed"
    },
    "tags": [
     "hide_input"
    ]
   },
   "outputs": [
    {
     "data": {
      "text/html": [
       "\n",
       "<div id=\"altair-viz-42a959aac37143059f37a70c0d40145d\"></div>\n",
       "<script type=\"text/javascript\">\n",
       "  var VEGA_DEBUG = (typeof VEGA_DEBUG == \"undefined\") ? {} : VEGA_DEBUG;\n",
       "  (function(spec, embedOpt){\n",
       "    let outputDiv = document.currentScript.previousElementSibling;\n",
       "    if (outputDiv.id !== \"altair-viz-42a959aac37143059f37a70c0d40145d\") {\n",
       "      outputDiv = document.getElementById(\"altair-viz-42a959aac37143059f37a70c0d40145d\");\n",
       "    }\n",
       "    const paths = {\n",
       "      \"vega\": \"https://cdn.jsdelivr.net/npm//vega@5?noext\",\n",
       "      \"vega-lib\": \"https://cdn.jsdelivr.net/npm//vega-lib?noext\",\n",
       "      \"vega-lite\": \"https://cdn.jsdelivr.net/npm//vega-lite@4.17.0?noext\",\n",
       "      \"vega-embed\": \"https://cdn.jsdelivr.net/npm//vega-embed@6?noext\",\n",
       "    };\n",
       "\n",
       "    function maybeLoadScript(lib, version) {\n",
       "      var key = `${lib.replace(\"-\", \"\")}_version`;\n",
       "      return (VEGA_DEBUG[key] == version) ?\n",
       "        Promise.resolve(paths[lib]) :\n",
       "        new Promise(function(resolve, reject) {\n",
       "          var s = document.createElement('script');\n",
       "          document.getElementsByTagName(\"head\")[0].appendChild(s);\n",
       "          s.async = true;\n",
       "          s.onload = () => {\n",
       "            VEGA_DEBUG[key] = version;\n",
       "            return resolve(paths[lib]);\n",
       "          };\n",
       "          s.onerror = () => reject(`Error loading script: ${paths[lib]}`);\n",
       "          s.src = paths[lib];\n",
       "        });\n",
       "    }\n",
       "\n",
       "    function showError(err) {\n",
       "      outputDiv.innerHTML = `<div class=\"error\" style=\"color:red;\">${err}</div>`;\n",
       "      throw err;\n",
       "    }\n",
       "\n",
       "    function displayChart(vegaEmbed) {\n",
       "      vegaEmbed(outputDiv, spec, embedOpt)\n",
       "        .catch(err => showError(`Javascript Error: ${err.message}<br>This usually means there's a typo in your chart specification. See the javascript console for the full traceback.`));\n",
       "    }\n",
       "\n",
       "    if(typeof define === \"function\" && define.amd) {\n",
       "      requirejs.config({paths});\n",
       "      require([\"vega-embed\"], displayChart, err => showError(`Error loading script: ${err.message}`));\n",
       "    } else {\n",
       "      maybeLoadScript(\"vega\", \"5\")\n",
       "        .then(() => maybeLoadScript(\"vega-lite\", \"4.17.0\"))\n",
       "        .then(() => maybeLoadScript(\"vega-embed\", \"6\"))\n",
       "        .catch(showError)\n",
       "        .then(() => displayChart(vegaEmbed));\n",
       "    }\n",
       "  })({\"config\": {\"axisLeft\": {\"labelFontSize\": 15}, \"axisBottom\": {\"labelFontSize\": 15}}, \"data\": {\"name\": \"data-b84dc46cd8c42bd170c47078ec21f817\"}, \"mark\": \"line\", \"encoding\": {\"color\": {\"field\": \"repo\", \"type\": \"nominal\"}, \"tooltip\": {\"field\": \"repo\", \"type\": \"nominal\"}, \"x\": {\"field\": \"closedAt\", \"type\": \"temporal\"}, \"y\": {\"field\": \"count\", \"type\": \"quantitative\"}}, \"width\": 600, \"$schema\": \"https://vega.github.io/schema/vega-lite/v4.17.0.json\", \"datasets\": {\"data-b84dc46cd8c42bd170c47078ec21f817\": [{\"repo\": \"team-compass\", \"closedAt\": \"2023-02-05T00:00:00\", \"count\": 1}]}}, {\"mode\": \"vega-lite\"});\n",
       "</script>"
      ],
      "text/plain": [
       "alt.Chart(...)"
      ]
     },
     "execution_count": 16,
     "metadata": {},
     "output_type": "execute_result"
    }
   ],
   "source": [
    "closed_by_time = closed_by.groupby('repo').resample('W', on='closedAt').count()['author'].reset_index()\n",
    "closed_by_time = closed_by_time.rename(columns={'author': 'count'})\n",
    "\n",
    "alt.Chart(closed_by_time, width=600).mark_line().encode(\n",
    "    x='closedAt',\n",
    "    y='count',\n",
    "    color='repo',\n",
    "    tooltip=\"repo\"\n",
    ")"
   ]
  },
  {
   "cell_type": "markdown",
   "id": "8464bcf0",
   "metadata": {
    "papermill": {
     "duration": 0.008101,
     "end_time": "2023-03-06T14:45:08.398585",
     "exception": false,
     "start_time": "2023-03-06T14:45:08.390484",
     "status": "completed"
    },
    "tags": []
   },
   "source": [
    "## By type over time"
   ]
  },
  {
   "cell_type": "code",
   "execution_count": 17,
   "id": "326673ee",
   "metadata": {
    "execution": {
     "iopub.execute_input": "2023-03-06T14:45:08.411484Z",
     "iopub.status.busy": "2023-03-06T14:45:08.410738Z",
     "iopub.status.idle": "2023-03-06T14:45:08.430276Z",
     "shell.execute_reply": "2023-03-06T14:45:08.429621Z"
    },
    "papermill": {
     "duration": 0.027871,
     "end_time": "2023-03-06T14:45:08.432061",
     "exception": false,
     "start_time": "2023-03-06T14:45:08.404190",
     "status": "completed"
    },
    "tags": [
     "remove_cell"
    ]
   },
   "outputs": [],
   "source": [
    "prs_time = prs[['author', 'createdAt']].resample('W', on='createdAt').count()['author'].reset_index()\n",
    "prs_time = prs_time.rename(columns={'author': 'prs'})\n",
    "comments_time = comments[['author', 'createdAt']].resample('W', on='createdAt').count()['author'].reset_index()\n",
    "comments_time = comments_time.rename(columns={'author': 'comments'})\n",
    "\n",
    "total_time = pd.merge(prs_time, comments_time, on='createdAt', how='outer')\n",
    "total_time = total_time.melt(id_vars='createdAt', var_name=\"kind\", value_name=\"count\")\n"
   ]
  },
  {
   "cell_type": "code",
   "execution_count": 18,
   "id": "4cc89105",
   "metadata": {
    "execution": {
     "iopub.execute_input": "2023-03-06T14:45:08.444605Z",
     "iopub.status.busy": "2023-03-06T14:45:08.443971Z",
     "iopub.status.idle": "2023-03-06T14:45:08.485979Z",
     "shell.execute_reply": "2023-03-06T14:45:08.485174Z"
    },
    "papermill": {
     "duration": 0.0503,
     "end_time": "2023-03-06T14:45:08.487783",
     "exception": false,
     "start_time": "2023-03-06T14:45:08.437483",
     "status": "completed"
    },
    "tags": [
     "hide_input"
    ]
   },
   "outputs": [
    {
     "data": {
      "text/html": [
       "\n",
       "<div id=\"altair-viz-61c0a79673844b1aba7e0a944191ac61\"></div>\n",
       "<script type=\"text/javascript\">\n",
       "  var VEGA_DEBUG = (typeof VEGA_DEBUG == \"undefined\") ? {} : VEGA_DEBUG;\n",
       "  (function(spec, embedOpt){\n",
       "    let outputDiv = document.currentScript.previousElementSibling;\n",
       "    if (outputDiv.id !== \"altair-viz-61c0a79673844b1aba7e0a944191ac61\") {\n",
       "      outputDiv = document.getElementById(\"altair-viz-61c0a79673844b1aba7e0a944191ac61\");\n",
       "    }\n",
       "    const paths = {\n",
       "      \"vega\": \"https://cdn.jsdelivr.net/npm//vega@5?noext\",\n",
       "      \"vega-lib\": \"https://cdn.jsdelivr.net/npm//vega-lib?noext\",\n",
       "      \"vega-lite\": \"https://cdn.jsdelivr.net/npm//vega-lite@4.17.0?noext\",\n",
       "      \"vega-embed\": \"https://cdn.jsdelivr.net/npm//vega-embed@6?noext\",\n",
       "    };\n",
       "\n",
       "    function maybeLoadScript(lib, version) {\n",
       "      var key = `${lib.replace(\"-\", \"\")}_version`;\n",
       "      return (VEGA_DEBUG[key] == version) ?\n",
       "        Promise.resolve(paths[lib]) :\n",
       "        new Promise(function(resolve, reject) {\n",
       "          var s = document.createElement('script');\n",
       "          document.getElementsByTagName(\"head\")[0].appendChild(s);\n",
       "          s.async = true;\n",
       "          s.onload = () => {\n",
       "            VEGA_DEBUG[key] = version;\n",
       "            return resolve(paths[lib]);\n",
       "          };\n",
       "          s.onerror = () => reject(`Error loading script: ${paths[lib]}`);\n",
       "          s.src = paths[lib];\n",
       "        });\n",
       "    }\n",
       "\n",
       "    function showError(err) {\n",
       "      outputDiv.innerHTML = `<div class=\"error\" style=\"color:red;\">${err}</div>`;\n",
       "      throw err;\n",
       "    }\n",
       "\n",
       "    function displayChart(vegaEmbed) {\n",
       "      vegaEmbed(outputDiv, spec, embedOpt)\n",
       "        .catch(err => showError(`Javascript Error: ${err.message}<br>This usually means there's a typo in your chart specification. See the javascript console for the full traceback.`));\n",
       "    }\n",
       "\n",
       "    if(typeof define === \"function\" && define.amd) {\n",
       "      requirejs.config({paths});\n",
       "      require([\"vega-embed\"], displayChart, err => showError(`Error loading script: ${err.message}`));\n",
       "    } else {\n",
       "      maybeLoadScript(\"vega\", \"5\")\n",
       "        .then(() => maybeLoadScript(\"vega-lite\", \"4.17.0\"))\n",
       "        .then(() => maybeLoadScript(\"vega-embed\", \"6\"))\n",
       "        .catch(showError)\n",
       "        .then(() => displayChart(vegaEmbed));\n",
       "    }\n",
       "  })({\"config\": {\"axisLeft\": {\"labelFontSize\": 15}, \"axisBottom\": {\"labelFontSize\": 15}}, \"data\": {\"name\": \"data-c728ae4cf818f4846bdfa6bb5804d90b\"}, \"mark\": \"line\", \"encoding\": {\"color\": {\"field\": \"kind\", \"type\": \"nominal\"}, \"x\": {\"field\": \"createdAt\", \"type\": \"temporal\"}, \"y\": {\"field\": \"count\", \"type\": \"quantitative\"}}, \"width\": 600, \"$schema\": \"https://vega.github.io/schema/vega-lite/v4.17.0.json\", \"datasets\": {\"data-c728ae4cf818f4846bdfa6bb5804d90b\": [{\"createdAt\": \"2023-02-05T00:00:00\", \"kind\": \"prs\", \"count\": 2.0}, {\"createdAt\": \"2023-02-12T00:00:00\", \"kind\": \"prs\", \"count\": 1.0}, {\"createdAt\": \"2022-07-24T00:00:00\", \"kind\": \"prs\", \"count\": null}, {\"createdAt\": \"2022-07-31T00:00:00\", \"kind\": \"prs\", \"count\": null}, {\"createdAt\": \"2022-08-07T00:00:00\", \"kind\": \"prs\", \"count\": null}, {\"createdAt\": \"2022-08-14T00:00:00\", \"kind\": \"prs\", \"count\": null}, {\"createdAt\": \"2022-08-21T00:00:00\", \"kind\": \"prs\", \"count\": null}, {\"createdAt\": \"2022-08-28T00:00:00\", \"kind\": \"prs\", \"count\": null}, {\"createdAt\": \"2022-09-04T00:00:00\", \"kind\": \"prs\", \"count\": null}, {\"createdAt\": \"2022-09-11T00:00:00\", \"kind\": \"prs\", \"count\": null}, {\"createdAt\": \"2022-09-18T00:00:00\", \"kind\": \"prs\", \"count\": null}, {\"createdAt\": \"2022-09-25T00:00:00\", \"kind\": \"prs\", \"count\": null}, {\"createdAt\": \"2022-10-02T00:00:00\", \"kind\": \"prs\", \"count\": null}, {\"createdAt\": \"2022-10-09T00:00:00\", \"kind\": \"prs\", \"count\": null}, {\"createdAt\": \"2022-10-16T00:00:00\", \"kind\": \"prs\", \"count\": null}, {\"createdAt\": \"2022-10-23T00:00:00\", \"kind\": \"prs\", \"count\": null}, {\"createdAt\": \"2022-10-30T00:00:00\", \"kind\": \"prs\", \"count\": null}, {\"createdAt\": \"2022-11-06T00:00:00\", \"kind\": \"prs\", \"count\": null}, {\"createdAt\": \"2022-11-13T00:00:00\", \"kind\": \"prs\", \"count\": null}, {\"createdAt\": \"2022-11-20T00:00:00\", \"kind\": \"prs\", \"count\": null}, {\"createdAt\": \"2022-11-27T00:00:00\", \"kind\": \"prs\", \"count\": null}, {\"createdAt\": \"2022-12-04T00:00:00\", \"kind\": \"prs\", \"count\": null}, {\"createdAt\": \"2022-12-11T00:00:00\", \"kind\": \"prs\", \"count\": null}, {\"createdAt\": \"2022-12-18T00:00:00\", \"kind\": \"prs\", \"count\": null}, {\"createdAt\": \"2022-12-25T00:00:00\", \"kind\": \"prs\", \"count\": null}, {\"createdAt\": \"2023-01-01T00:00:00\", \"kind\": \"prs\", \"count\": null}, {\"createdAt\": \"2023-01-08T00:00:00\", \"kind\": \"prs\", \"count\": null}, {\"createdAt\": \"2023-01-15T00:00:00\", \"kind\": \"prs\", \"count\": null}, {\"createdAt\": \"2023-01-22T00:00:00\", \"kind\": \"prs\", \"count\": null}, {\"createdAt\": \"2023-01-29T00:00:00\", \"kind\": \"prs\", \"count\": null}, {\"createdAt\": \"2023-02-19T00:00:00\", \"kind\": \"prs\", \"count\": null}, {\"createdAt\": \"2023-02-26T00:00:00\", \"kind\": \"prs\", \"count\": null}, {\"createdAt\": \"2023-03-05T00:00:00\", \"kind\": \"prs\", \"count\": null}, {\"createdAt\": \"2023-02-05T00:00:00\", \"kind\": \"comments\", \"count\": 15.0}, {\"createdAt\": \"2023-02-12T00:00:00\", \"kind\": \"comments\", \"count\": 6.0}, {\"createdAt\": \"2022-07-24T00:00:00\", \"kind\": \"comments\", \"count\": 2.0}, {\"createdAt\": \"2022-07-31T00:00:00\", \"kind\": \"comments\", \"count\": 0.0}, {\"createdAt\": \"2022-08-07T00:00:00\", \"kind\": \"comments\", \"count\": 0.0}, {\"createdAt\": \"2022-08-14T00:00:00\", \"kind\": \"comments\", \"count\": 0.0}, {\"createdAt\": \"2022-08-21T00:00:00\", \"kind\": \"comments\", \"count\": 0.0}, {\"createdAt\": \"2022-08-28T00:00:00\", \"kind\": \"comments\", \"count\": 0.0}, {\"createdAt\": \"2022-09-04T00:00:00\", \"kind\": \"comments\", \"count\": 0.0}, {\"createdAt\": \"2022-09-11T00:00:00\", \"kind\": \"comments\", \"count\": 0.0}, {\"createdAt\": \"2022-09-18T00:00:00\", \"kind\": \"comments\", \"count\": 1.0}, {\"createdAt\": \"2022-09-25T00:00:00\", \"kind\": \"comments\", \"count\": 0.0}, {\"createdAt\": \"2022-10-02T00:00:00\", \"kind\": \"comments\", \"count\": 0.0}, {\"createdAt\": \"2022-10-09T00:00:00\", \"kind\": \"comments\", \"count\": 0.0}, {\"createdAt\": \"2022-10-16T00:00:00\", \"kind\": \"comments\", \"count\": 0.0}, {\"createdAt\": \"2022-10-23T00:00:00\", \"kind\": \"comments\", \"count\": 0.0}, {\"createdAt\": \"2022-10-30T00:00:00\", \"kind\": \"comments\", \"count\": 0.0}, {\"createdAt\": \"2022-11-06T00:00:00\", \"kind\": \"comments\", \"count\": 0.0}, {\"createdAt\": \"2022-11-13T00:00:00\", \"kind\": \"comments\", \"count\": 0.0}, {\"createdAt\": \"2022-11-20T00:00:00\", \"kind\": \"comments\", \"count\": 0.0}, {\"createdAt\": \"2022-11-27T00:00:00\", \"kind\": \"comments\", \"count\": 1.0}, {\"createdAt\": \"2022-12-04T00:00:00\", \"kind\": \"comments\", \"count\": 1.0}, {\"createdAt\": \"2022-12-11T00:00:00\", \"kind\": \"comments\", \"count\": 2.0}, {\"createdAt\": \"2022-12-18T00:00:00\", \"kind\": \"comments\", \"count\": 1.0}, {\"createdAt\": \"2022-12-25T00:00:00\", \"kind\": \"comments\", \"count\": 0.0}, {\"createdAt\": \"2023-01-01T00:00:00\", \"kind\": \"comments\", \"count\": 0.0}, {\"createdAt\": \"2023-01-08T00:00:00\", \"kind\": \"comments\", \"count\": 0.0}, {\"createdAt\": \"2023-01-15T00:00:00\", \"kind\": \"comments\", \"count\": 3.0}, {\"createdAt\": \"2023-01-22T00:00:00\", \"kind\": \"comments\", \"count\": 4.0}, {\"createdAt\": \"2023-01-29T00:00:00\", \"kind\": \"comments\", \"count\": 3.0}, {\"createdAt\": \"2023-02-19T00:00:00\", \"kind\": \"comments\", \"count\": 5.0}, {\"createdAt\": \"2023-02-26T00:00:00\", \"kind\": \"comments\", \"count\": 5.0}, {\"createdAt\": \"2023-03-05T00:00:00\", \"kind\": \"comments\", \"count\": 4.0}]}}, {\"mode\": \"vega-lite\"});\n",
       "</script>"
      ],
      "text/plain": [
       "alt.Chart(...)"
      ]
     },
     "execution_count": 18,
     "metadata": {},
     "output_type": "execute_result"
    }
   ],
   "source": [
    "alt.Chart(total_time, width=600).mark_line().encode(\n",
    "    x='createdAt',\n",
    "    y='count',\n",
    "    color='kind'\n",
    ")"
   ]
  },
  {
   "cell_type": "code",
   "execution_count": null,
   "id": "fbecd493",
   "metadata": {
    "papermill": {
     "duration": 0.008265,
     "end_time": "2023-03-06T14:45:08.503287",
     "exception": false,
     "start_time": "2023-03-06T14:45:08.495022",
     "status": "completed"
    },
    "tags": []
   },
   "outputs": [],
   "source": []
  },
  {
   "cell_type": "code",
   "execution_count": null,
   "id": "02c024ca",
   "metadata": {
    "papermill": {
     "duration": 0.005594,
     "end_time": "2023-03-06T14:45:08.514422",
     "exception": false,
     "start_time": "2023-03-06T14:45:08.508828",
     "status": "completed"
    },
    "tags": []
   },
   "outputs": [],
   "source": []
  }
 ],
 "metadata": {
  "kernelspec": {
   "display_name": "Python 3 (ipykernel)",
   "language": "python",
   "name": "python3"
  },
  "language_info": {
   "codemirror_mode": {
    "name": "ipython",
    "version": 3
   },
   "file_extension": ".py",
   "mimetype": "text/x-python",
   "name": "python",
   "nbconvert_exporter": "python",
   "pygments_lexer": "ipython3",
   "version": "3.9.16"
  },
  "papermill": {
   "default_parameters": {},
   "duration": 3.142868,
   "end_time": "2023-03-06T14:45:08.838216",
   "environment_variables": {},
   "exception": null,
   "input_path": "./templates/person_report.ipynb",
   "output_path": "generated/people/colliand.ipynb",
   "parameters": {
    "n_days": 90,
    "person": "colliand"
   },
   "start_time": "2023-03-06T14:45:05.695348",
   "version": "2.4.0"
  },
  "widgets": {
   "application/vnd.jupyter.widget-state+json": {
    "state": {},
    "version_major": 2,
    "version_minor": 0
   }
  }
 },
 "nbformat": 4,
 "nbformat_minor": 5
}