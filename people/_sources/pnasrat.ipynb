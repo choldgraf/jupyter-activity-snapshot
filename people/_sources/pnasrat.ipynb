{
 "cells": [
  {
   "cell_type": "markdown",
   "id": "c32871ff",
   "metadata": {
    "papermill": {
     "duration": 0.004749,
     "end_time": "2023-03-06T14:45:00.123415",
     "exception": false,
     "start_time": "2023-03-06T14:45:00.118666",
     "status": "completed"
    },
    "tags": []
   },
   "source": [
    "# Report for pnasrat"
   ]
  },
  {
   "cell_type": "code",
   "execution_count": 1,
   "id": "1e768483",
   "metadata": {
    "execution": {
     "iopub.execute_input": "2023-03-06T14:45:00.135322Z",
     "iopub.status.busy": "2023-03-06T14:45:00.135023Z",
     "iopub.status.idle": "2023-03-06T14:45:00.985125Z",
     "shell.execute_reply": "2023-03-06T14:45:00.984389Z"
    },
    "papermill": {
     "duration": 0.858576,
     "end_time": "2023-03-06T14:45:00.987679",
     "exception": false,
     "start_time": "2023-03-06T14:45:00.129103",
     "status": "completed"
    },
    "tags": [
     "remove_cell"
    ]
   },
   "outputs": [],
   "source": [
    "import seaborn as sns\n",
    "import pandas as pd\n",
    "import numpy as np\n",
    "import altair as alt\n",
    "from markdown import markdown\n",
    "from IPython.display import Markdown\n",
    "from ipywidgets.widgets import HTML, Tab\n",
    "from ipywidgets import widgets\n",
    "from datetime import timedelta\n",
    "from matplotlib import pyplot as plt\n",
    "import os.path as op\n",
    "\n",
    "from mycode import alt_theme\n",
    "from warnings import simplefilter\n",
    "simplefilter('ignore')"
   ]
  },
  {
   "cell_type": "code",
   "execution_count": 2,
   "id": "2553901d",
   "metadata": {
    "execution": {
     "iopub.execute_input": "2023-03-06T14:45:00.997989Z",
     "iopub.status.busy": "2023-03-06T14:45:00.997609Z",
     "iopub.status.idle": "2023-03-06T14:45:01.001624Z",
     "shell.execute_reply": "2023-03-06T14:45:01.000831Z"
    },
    "papermill": {
     "duration": 0.011031,
     "end_time": "2023-03-06T14:45:01.003419",
     "exception": false,
     "start_time": "2023-03-06T14:45:00.992388",
     "status": "completed"
    },
    "tags": [
     "remove_cell"
    ]
   },
   "outputs": [],
   "source": [
    "def author_url(author):\n",
    "    return f\"https://github.com/{author}\""
   ]
  },
  {
   "cell_type": "code",
   "execution_count": 3,
   "id": "e05acd67",
   "metadata": {
    "execution": {
     "iopub.execute_input": "2023-03-06T14:45:01.012505Z",
     "iopub.status.busy": "2023-03-06T14:45:01.012271Z",
     "iopub.status.idle": "2023-03-06T14:45:01.016008Z",
     "shell.execute_reply": "2023-03-06T14:45:01.015464Z"
    },
    "papermill": {
     "duration": 0.01005,
     "end_time": "2023-03-06T14:45:01.017487",
     "exception": false,
     "start_time": "2023-03-06T14:45:01.007437",
     "status": "completed"
    },
    "tags": [
     "parameters",
     "hide_input"
    ]
   },
   "outputs": [],
   "source": [
    "# Parameters\n",
    "fmt_date = \"{:%Y-%m-%d}\"\n",
    "\n",
    "n_days = 30 * 60\n",
    "start_date = fmt_date.format(pd.datetime.today() - timedelta(days=n_days))\n",
    "end_date = fmt_date.format(pd.datetime.today())\n",
    "\n",
    "renderer = \"html\"\n",
    "person = \"damianavila\""
   ]
  },
  {
   "cell_type": "code",
   "execution_count": 4,
   "id": "d27213b7",
   "metadata": {
    "execution": {
     "iopub.execute_input": "2023-03-06T14:45:01.026708Z",
     "iopub.status.busy": "2023-03-06T14:45:01.026234Z",
     "iopub.status.idle": "2023-03-06T14:45:01.029534Z",
     "shell.execute_reply": "2023-03-06T14:45:01.028853Z"
    },
    "papermill": {
     "duration": 0.009814,
     "end_time": "2023-03-06T14:45:01.031233",
     "exception": false,
     "start_time": "2023-03-06T14:45:01.021419",
     "status": "completed"
    },
    "tags": [
     "injected-parameters",
     "remove-cell"
    ]
   },
   "outputs": [],
   "source": [
    "# Parameters\n",
    "person = \"pnasrat\"\n",
    "n_days = 90\n"
   ]
  },
  {
   "cell_type": "code",
   "execution_count": 5,
   "id": "23630b9d",
   "metadata": {
    "execution": {
     "iopub.execute_input": "2023-03-06T14:45:01.040556Z",
     "iopub.status.busy": "2023-03-06T14:45:01.039954Z",
     "iopub.status.idle": "2023-03-06T14:45:01.047331Z",
     "shell.execute_reply": "2023-03-06T14:45:01.046813Z"
    },
    "papermill": {
     "duration": 0.013525,
     "end_time": "2023-03-06T14:45:01.048750",
     "exception": false,
     "start_time": "2023-03-06T14:45:01.035225",
     "status": "completed"
    },
    "tags": [
     "remove_cell"
    ]
   },
   "outputs": [
    {
     "data": {
      "text/plain": [
       "ThemeRegistry.enable('my_theme')"
      ]
     },
     "execution_count": 5,
     "metadata": {},
     "output_type": "execute_result"
    }
   ],
   "source": [
    "alt.renderers.enable(renderer);\n",
    "alt.themes.register('my_theme', alt_theme)\n",
    "alt.themes.enable(\"my_theme\")"
   ]
  },
  {
   "cell_type": "markdown",
   "id": "f465a7ea",
   "metadata": {
    "papermill": {
     "duration": 0.004032,
     "end_time": "2023-03-06T14:45:01.056804",
     "exception": false,
     "start_time": "2023-03-06T14:45:01.052772",
     "status": "completed"
    },
    "tags": []
   },
   "source": [
    "## Load data"
   ]
  },
  {
   "cell_type": "code",
   "execution_count": 6,
   "id": "fd4d9c8f",
   "metadata": {
    "execution": {
     "iopub.execute_input": "2023-03-06T14:45:01.066713Z",
     "iopub.status.busy": "2023-03-06T14:45:01.065955Z",
     "iopub.status.idle": "2023-03-06T14:45:01.190469Z",
     "shell.execute_reply": "2023-03-06T14:45:01.189760Z"
    },
    "papermill": {
     "duration": 0.131769,
     "end_time": "2023-03-06T14:45:01.192712",
     "exception": false,
     "start_time": "2023-03-06T14:45:01.060943",
     "status": "completed"
    },
    "tags": [
     "remove_cell"
    ]
   },
   "outputs": [],
   "source": [
    "from pathlib import Path\n",
    "path_data = Path(\"./\")\n",
    "comments = pd.read_csv(path_data.joinpath('../data/comments.csv'), index_col=0)\n",
    "issues = pd.read_csv(path_data.joinpath('../data/issues.csv'), index_col=0)\n",
    "prs = pd.read_csv(path_data.joinpath('../data/prs.csv'), index_col=0)\n",
    "\n",
    "comments = comments.query('author == @person').drop_duplicates()\n",
    "issues = issues.query('author == @person').drop_duplicates()\n",
    "closed_by = prs.query('mergedBy == @person')\n",
    "prs = prs.query('author == @person').drop_duplicates()"
   ]
  },
  {
   "cell_type": "code",
   "execution_count": 7,
   "id": "a1ad63b1",
   "metadata": {
    "execution": {
     "iopub.execute_input": "2023-03-06T14:45:01.206256Z",
     "iopub.status.busy": "2023-03-06T14:45:01.205517Z",
     "iopub.status.idle": "2023-03-06T14:45:01.209116Z",
     "shell.execute_reply": "2023-03-06T14:45:01.208595Z"
    },
    "papermill": {
     "duration": 0.012795,
     "end_time": "2023-03-06T14:45:01.210624",
     "exception": false,
     "start_time": "2023-03-06T14:45:01.197829",
     "status": "completed"
    },
    "tags": []
   },
   "outputs": [],
   "source": [
    "if len(prs) == 0:\n",
    "    import sys\n",
    "    print(f\"Empty data for {person}, skipping...\")\n",
    "    sys.exit(0)"
   ]
  },
  {
   "cell_type": "code",
   "execution_count": 8,
   "id": "e976f35f",
   "metadata": {
    "execution": {
     "iopub.execute_input": "2023-03-06T14:45:01.220422Z",
     "iopub.status.busy": "2023-03-06T14:45:01.219853Z",
     "iopub.status.idle": "2023-03-06T14:45:01.267674Z",
     "shell.execute_reply": "2023-03-06T14:45:01.266968Z"
    },
    "papermill": {
     "duration": 0.054745,
     "end_time": "2023-03-06T14:45:01.269661",
     "exception": false,
     "start_time": "2023-03-06T14:45:01.214916",
     "status": "completed"
    },
    "tags": [
     "remove_cell"
    ]
   },
   "outputs": [],
   "source": [
    "# Time columns\n",
    "# Also drop dates outside of our range\n",
    "time_columns = ['updatedAt', 'createdAt', 'closedAt']\n",
    "for col in time_columns:\n",
    "    for item in [comments, issues, prs, closed_by]:\n",
    "        if col not in item.columns:\n",
    "            continue\n",
    "        dt = pd.to_datetime(item[col]).dt.tz_localize(None)\n",
    "        item.loc[:, col] = dt\n",
    "        item.query(\"updatedAt < @end_date and updatedAt > @start_date\", inplace=True)"
   ]
  },
  {
   "cell_type": "markdown",
   "id": "6a54c6f3",
   "metadata": {
    "papermill": {
     "duration": 0.004214,
     "end_time": "2023-03-06T14:45:01.278796",
     "exception": false,
     "start_time": "2023-03-06T14:45:01.274582",
     "status": "completed"
    },
    "tags": []
   },
   "source": [
    "## Repository summaries"
   ]
  },
  {
   "cell_type": "code",
   "execution_count": 9,
   "id": "be933e09",
   "metadata": {
    "execution": {
     "iopub.execute_input": "2023-03-06T14:45:01.288815Z",
     "iopub.status.busy": "2023-03-06T14:45:01.288145Z",
     "iopub.status.idle": "2023-03-06T14:45:01.303192Z",
     "shell.execute_reply": "2023-03-06T14:45:01.302583Z"
    },
    "papermill": {
     "duration": 0.021771,
     "end_time": "2023-03-06T14:45:01.304750",
     "exception": false,
     "start_time": "2023-03-06T14:45:01.282979",
     "status": "completed"
    },
    "tags": [
     "remove_cell"
    ]
   },
   "outputs": [],
   "source": [
    "summaries = []\n",
    "for idata, name in [(issues, 'issues'), (prs, 'prs'), (comments, 'comments')]:\n",
    "    idata = idata.groupby([\"repo\", \"org\"]).agg({'id': \"count\"}).reset_index().rename(columns={'id': 'count'})\n",
    "    idata[\"kind\"] = name\n",
    "    summaries.append(idata)\n",
    "summaries = pd.concat(summaries)"
   ]
  },
  {
   "cell_type": "code",
   "execution_count": 10,
   "id": "c4cc05ea",
   "metadata": {
    "execution": {
     "iopub.execute_input": "2023-03-06T14:45:01.317160Z",
     "iopub.status.busy": "2023-03-06T14:45:01.316682Z",
     "iopub.status.idle": "2023-03-06T14:45:01.326688Z",
     "shell.execute_reply": "2023-03-06T14:45:01.326081Z"
    },
    "papermill": {
     "duration": 0.018582,
     "end_time": "2023-03-06T14:45:01.328232",
     "exception": false,
     "start_time": "2023-03-06T14:45:01.309650",
     "status": "completed"
    },
    "tags": [
     "remove_cell"
    ]
   },
   "outputs": [],
   "source": [
    "repo_summaries = summaries.groupby([\"repo\", \"kind\"]).agg({\"count\": \"sum\"}).reset_index()\n",
    "org_summaries = summaries.groupby([\"org\", \"kind\"]).agg({\"count\": \"sum\"}).reset_index()"
   ]
  },
  {
   "cell_type": "code",
   "execution_count": 11,
   "id": "6d42284e",
   "metadata": {
    "execution": {
     "iopub.execute_input": "2023-03-06T14:45:01.338080Z",
     "iopub.status.busy": "2023-03-06T14:45:01.337626Z",
     "iopub.status.idle": "2023-03-06T14:45:01.341710Z",
     "shell.execute_reply": "2023-03-06T14:45:01.341003Z"
    },
    "papermill": {
     "duration": 0.01074,
     "end_time": "2023-03-06T14:45:01.343328",
     "exception": false,
     "start_time": "2023-03-06T14:45:01.332588",
     "status": "completed"
    },
    "tags": [
     "remove_cell"
    ]
   },
   "outputs": [],
   "source": [
    "repo_summaries['logcount'] = np.log(repo_summaries[\"count\"])"
   ]
  },
  {
   "cell_type": "code",
   "execution_count": 12,
   "id": "1613ad8e",
   "metadata": {
    "execution": {
     "iopub.execute_input": "2023-03-06T14:45:01.353100Z",
     "iopub.status.busy": "2023-03-06T14:45:01.352530Z",
     "iopub.status.idle": "2023-03-06T14:45:01.440733Z",
     "shell.execute_reply": "2023-03-06T14:45:01.440060Z"
    },
    "papermill": {
     "duration": 0.094911,
     "end_time": "2023-03-06T14:45:01.442440",
     "exception": false,
     "start_time": "2023-03-06T14:45:01.347529",
     "status": "completed"
    },
    "tags": [
     "hide_input"
    ]
   },
   "outputs": [
    {
     "data": {
      "text/html": [
       "\n",
       "<div id=\"altair-viz-f7dbd9d5d4cb45f6a80f73f5362d9215\"></div>\n",
       "<script type=\"text/javascript\">\n",
       "  var VEGA_DEBUG = (typeof VEGA_DEBUG == \"undefined\") ? {} : VEGA_DEBUG;\n",
       "  (function(spec, embedOpt){\n",
       "    let outputDiv = document.currentScript.previousElementSibling;\n",
       "    if (outputDiv.id !== \"altair-viz-f7dbd9d5d4cb45f6a80f73f5362d9215\") {\n",
       "      outputDiv = document.getElementById(\"altair-viz-f7dbd9d5d4cb45f6a80f73f5362d9215\");\n",
       "    }\n",
       "    const paths = {\n",
       "      \"vega\": \"https://cdn.jsdelivr.net/npm//vega@5?noext\",\n",
       "      \"vega-lib\": \"https://cdn.jsdelivr.net/npm//vega-lib?noext\",\n",
       "      \"vega-lite\": \"https://cdn.jsdelivr.net/npm//vega-lite@4.17.0?noext\",\n",
       "      \"vega-embed\": \"https://cdn.jsdelivr.net/npm//vega-embed@6?noext\",\n",
       "    };\n",
       "\n",
       "    function maybeLoadScript(lib, version) {\n",
       "      var key = `${lib.replace(\"-\", \"\")}_version`;\n",
       "      return (VEGA_DEBUG[key] == version) ?\n",
       "        Promise.resolve(paths[lib]) :\n",
       "        new Promise(function(resolve, reject) {\n",
       "          var s = document.createElement('script');\n",
       "          document.getElementsByTagName(\"head\")[0].appendChild(s);\n",
       "          s.async = true;\n",
       "          s.onload = () => {\n",
       "            VEGA_DEBUG[key] = version;\n",
       "            return resolve(paths[lib]);\n",
       "          };\n",
       "          s.onerror = () => reject(`Error loading script: ${paths[lib]}`);\n",
       "          s.src = paths[lib];\n",
       "        });\n",
       "    }\n",
       "\n",
       "    function showError(err) {\n",
       "      outputDiv.innerHTML = `<div class=\"error\" style=\"color:red;\">${err}</div>`;\n",
       "      throw err;\n",
       "    }\n",
       "\n",
       "    function displayChart(vegaEmbed) {\n",
       "      vegaEmbed(outputDiv, spec, embedOpt)\n",
       "        .catch(err => showError(`Javascript Error: ${err.message}<br>This usually means there's a typo in your chart specification. See the javascript console for the full traceback.`));\n",
       "    }\n",
       "\n",
       "    if(typeof define === \"function\" && define.amd) {\n",
       "      requirejs.config({paths});\n",
       "      require([\"vega-embed\"], displayChart, err => showError(`Error loading script: ${err.message}`));\n",
       "    } else {\n",
       "      maybeLoadScript(\"vega\", \"5\")\n",
       "        .then(() => maybeLoadScript(\"vega-lite\", \"4.17.0\"))\n",
       "        .then(() => maybeLoadScript(\"vega-embed\", \"6\"))\n",
       "        .catch(showError)\n",
       "        .then(() => displayChart(vegaEmbed));\n",
       "    }\n",
       "  })({\"config\": {\"axisLeft\": {\"labelFontSize\": 15}, \"axisBottom\": {\"labelFontSize\": 15}}, \"hconcat\": [{\"mark\": \"bar\", \"encoding\": {\"color\": {\"field\": \"kind\", \"type\": \"nominal\"}, \"tooltip\": {\"field\": \"kind\", \"type\": \"nominal\"}, \"x\": {\"field\": \"repo\", \"type\": \"nominal\"}, \"y\": {\"field\": \"count\", \"type\": \"quantitative\"}}, \"title\": \"Activity per repository\", \"width\": 600}, {\"mark\": \"bar\", \"encoding\": {\"color\": {\"field\": \"kind\", \"type\": \"nominal\"}, \"tooltip\": {\"field\": \"kind\", \"type\": \"nominal\"}, \"x\": {\"field\": \"repo\", \"type\": \"nominal\"}, \"y\": {\"field\": \"logcount\", \"type\": \"quantitative\"}}, \"title\": \"Log activity per repository\", \"width\": 600}], \"data\": {\"name\": \"data-de1d526bd285e10247ebb3dccecbc09f\"}, \"$schema\": \"https://vega.github.io/schema/vega-lite/v4.17.0.json\", \"datasets\": {\"data-de1d526bd285e10247ebb3dccecbc09f\": [{\"repo\": \"2i2c-org.github.io\", \"kind\": \"prs\", \"count\": 1, \"logcount\": 0.0}, {\"repo\": \"docs\", \"kind\": \"prs\", \"count\": 1, \"logcount\": 0.0}, {\"repo\": \"infrastructure\", \"kind\": \"comments\", \"count\": 153, \"logcount\": 5.030437921392435}, {\"repo\": \"infrastructure\", \"kind\": \"issues\", \"count\": 7, \"logcount\": 1.9459101490553132}, {\"repo\": \"infrastructure\", \"kind\": \"prs\", \"count\": 14, \"logcount\": 2.6390573296152584}, {\"repo\": \"jupyterhub\", \"kind\": \"comments\", \"count\": 1, \"logcount\": 0.0}, {\"repo\": \"jupyterhub\", \"kind\": \"issues\", \"count\": 1, \"logcount\": 0.0}, {\"repo\": \"jupyterhub\", \"kind\": \"prs\", \"count\": 1, \"logcount\": 0.0}, {\"repo\": \"meta\", \"kind\": \"comments\", \"count\": 1, \"logcount\": 0.0}, {\"repo\": \"meta\", \"kind\": \"issues\", \"count\": 2, \"logcount\": 0.6931471805599453}, {\"repo\": \"team-compass\", \"kind\": \"comments\", \"count\": 8, \"logcount\": 2.0794415416798357}, {\"repo\": \"team-compass\", \"kind\": \"issues\", \"count\": 1, \"logcount\": 0.0}, {\"repo\": \"the-littlest-jupyterhub\", \"kind\": \"comments\", \"count\": 15, \"logcount\": 2.70805020110221}, {\"repo\": \"the-littlest-jupyterhub\", \"kind\": \"issues\", \"count\": 2, \"logcount\": 0.6931471805599453}, {\"repo\": \"the-littlest-jupyterhub\", \"kind\": \"prs\", \"count\": 3, \"logcount\": 1.0986122886681096}, {\"repo\": \"utoronto-image\", \"kind\": \"comments\", \"count\": 1, \"logcount\": 0.0}, {\"repo\": \"utoronto-image\", \"kind\": \"issues\", \"count\": 1, \"logcount\": 0.0}, {\"repo\": \"utoronto-image\", \"kind\": \"prs\", \"count\": 1, \"logcount\": 0.0}, {\"repo\": \"zero-to-jupyterhub-k8s\", \"kind\": \"prs\", \"count\": 2, \"logcount\": 0.6931471805599453}]}}, {\"mode\": \"vega-lite\"});\n",
       "</script>"
      ],
      "text/plain": [
       "alt.HConcatChart(...)"
      ]
     },
     "execution_count": 12,
     "metadata": {},
     "output_type": "execute_result"
    }
   ],
   "source": [
    "ch1 = alt.Chart(repo_summaries, width=600, title=\"Activity per repository\").mark_bar().encode(\n",
    "    x='repo',\n",
    "    y='count',\n",
    "    color='kind',\n",
    "    tooltip=\"kind\"\n",
    ")\n",
    "\n",
    "ch2 = alt.Chart(repo_summaries, width=600, title=\"Log activity per repository\").mark_bar().encode(\n",
    "    x='repo',\n",
    "    y='logcount',\n",
    "    color='kind',\n",
    "    tooltip=\"kind\"\n",
    ")\n",
    "\n",
    "ch1 | ch2"
   ]
  },
  {
   "cell_type": "code",
   "execution_count": 13,
   "id": "332ba4df",
   "metadata": {
    "execution": {
     "iopub.execute_input": "2023-03-06T14:45:01.455588Z",
     "iopub.status.busy": "2023-03-06T14:45:01.455330Z",
     "iopub.status.idle": "2023-03-06T14:45:01.503550Z",
     "shell.execute_reply": "2023-03-06T14:45:01.502884Z"
    },
    "papermill": {
     "duration": 0.055839,
     "end_time": "2023-03-06T14:45:01.505386",
     "exception": false,
     "start_time": "2023-03-06T14:45:01.449547",
     "status": "completed"
    },
    "tags": [
     "hide_input"
    ]
   },
   "outputs": [
    {
     "data": {
      "text/html": [
       "\n",
       "<div id=\"altair-viz-960cecb929d14e20b9c06b199cce0658\"></div>\n",
       "<script type=\"text/javascript\">\n",
       "  var VEGA_DEBUG = (typeof VEGA_DEBUG == \"undefined\") ? {} : VEGA_DEBUG;\n",
       "  (function(spec, embedOpt){\n",
       "    let outputDiv = document.currentScript.previousElementSibling;\n",
       "    if (outputDiv.id !== \"altair-viz-960cecb929d14e20b9c06b199cce0658\") {\n",
       "      outputDiv = document.getElementById(\"altair-viz-960cecb929d14e20b9c06b199cce0658\");\n",
       "    }\n",
       "    const paths = {\n",
       "      \"vega\": \"https://cdn.jsdelivr.net/npm//vega@5?noext\",\n",
       "      \"vega-lib\": \"https://cdn.jsdelivr.net/npm//vega-lib?noext\",\n",
       "      \"vega-lite\": \"https://cdn.jsdelivr.net/npm//vega-lite@4.17.0?noext\",\n",
       "      \"vega-embed\": \"https://cdn.jsdelivr.net/npm//vega-embed@6?noext\",\n",
       "    };\n",
       "\n",
       "    function maybeLoadScript(lib, version) {\n",
       "      var key = `${lib.replace(\"-\", \"\")}_version`;\n",
       "      return (VEGA_DEBUG[key] == version) ?\n",
       "        Promise.resolve(paths[lib]) :\n",
       "        new Promise(function(resolve, reject) {\n",
       "          var s = document.createElement('script');\n",
       "          document.getElementsByTagName(\"head\")[0].appendChild(s);\n",
       "          s.async = true;\n",
       "          s.onload = () => {\n",
       "            VEGA_DEBUG[key] = version;\n",
       "            return resolve(paths[lib]);\n",
       "          };\n",
       "          s.onerror = () => reject(`Error loading script: ${paths[lib]}`);\n",
       "          s.src = paths[lib];\n",
       "        });\n",
       "    }\n",
       "\n",
       "    function showError(err) {\n",
       "      outputDiv.innerHTML = `<div class=\"error\" style=\"color:red;\">${err}</div>`;\n",
       "      throw err;\n",
       "    }\n",
       "\n",
       "    function displayChart(vegaEmbed) {\n",
       "      vegaEmbed(outputDiv, spec, embedOpt)\n",
       "        .catch(err => showError(`Javascript Error: ${err.message}<br>This usually means there's a typo in your chart specification. See the javascript console for the full traceback.`));\n",
       "    }\n",
       "\n",
       "    if(typeof define === \"function\" && define.amd) {\n",
       "      requirejs.config({paths});\n",
       "      require([\"vega-embed\"], displayChart, err => showError(`Error loading script: ${err.message}`));\n",
       "    } else {\n",
       "      maybeLoadScript(\"vega\", \"5\")\n",
       "        .then(() => maybeLoadScript(\"vega-lite\", \"4.17.0\"))\n",
       "        .then(() => maybeLoadScript(\"vega-embed\", \"6\"))\n",
       "        .catch(showError)\n",
       "        .then(() => displayChart(vegaEmbed));\n",
       "    }\n",
       "  })({\"config\": {\"axisLeft\": {\"labelFontSize\": 15}, \"axisBottom\": {\"labelFontSize\": 15}}, \"data\": {\"name\": \"data-e9de34b7b5fc62bc95e0117d2054f506\"}, \"mark\": \"bar\", \"encoding\": {\"color\": {\"field\": \"kind\", \"type\": \"nominal\"}, \"tooltip\": {\"field\": \"org\", \"type\": \"nominal\"}, \"x\": {\"field\": \"org\", \"type\": \"nominal\"}, \"y\": {\"field\": \"count\", \"type\": \"quantitative\"}}, \"width\": 600, \"$schema\": \"https://vega.github.io/schema/vega-lite/v4.17.0.json\", \"datasets\": {\"data-e9de34b7b5fc62bc95e0117d2054f506\": [{\"org\": \"2i2c-org\", \"kind\": \"comments\", \"count\": 163}, {\"org\": \"2i2c-org\", \"kind\": \"issues\", \"count\": 11}, {\"org\": \"2i2c-org\", \"kind\": \"prs\", \"count\": 17}, {\"org\": \"jupyterhub\", \"kind\": \"comments\", \"count\": 16}, {\"org\": \"jupyterhub\", \"kind\": \"issues\", \"count\": 3}, {\"org\": \"jupyterhub\", \"kind\": \"prs\", \"count\": 6}]}}, {\"mode\": \"vega-lite\"});\n",
       "</script>"
      ],
      "text/plain": [
       "alt.Chart(...)"
      ]
     },
     "execution_count": 13,
     "metadata": {},
     "output_type": "execute_result"
    }
   ],
   "source": [
    "alt.Chart(org_summaries, width=600).mark_bar().encode(\n",
    "    x='org',\n",
    "    y='count',\n",
    "    color='kind',\n",
    "    tooltip=\"org\"\n",
    ")"
   ]
  },
  {
   "cell_type": "markdown",
   "id": "caa11448",
   "metadata": {
    "papermill": {
     "duration": 0.004694,
     "end_time": "2023-03-06T14:45:01.515579",
     "exception": false,
     "start_time": "2023-03-06T14:45:01.510885",
     "status": "completed"
    },
    "tags": []
   },
   "source": [
    "## By repository over time"
   ]
  },
  {
   "cell_type": "markdown",
   "id": "5eaa808a",
   "metadata": {
    "papermill": {
     "duration": 0.004595,
     "end_time": "2023-03-06T14:45:01.525136",
     "exception": false,
     "start_time": "2023-03-06T14:45:01.520541",
     "status": "completed"
    },
    "tags": []
   },
   "source": [
    "### Comments"
   ]
  },
  {
   "cell_type": "code",
   "execution_count": 14,
   "id": "74372224",
   "metadata": {
    "execution": {
     "iopub.execute_input": "2023-03-06T14:45:01.535946Z",
     "iopub.status.busy": "2023-03-06T14:45:01.535426Z",
     "iopub.status.idle": "2023-03-06T14:45:01.631117Z",
     "shell.execute_reply": "2023-03-06T14:45:01.630341Z"
    },
    "papermill": {
     "duration": 0.103596,
     "end_time": "2023-03-06T14:45:01.633362",
     "exception": false,
     "start_time": "2023-03-06T14:45:01.529766",
     "status": "completed"
    },
    "tags": [
     "hide_input"
    ]
   },
   "outputs": [
    {
     "data": {
      "text/html": [
       "\n",
       "<div id=\"altair-viz-95f2335da0fa4e308f1cd796cd6ee44a\"></div>\n",
       "<script type=\"text/javascript\">\n",
       "  var VEGA_DEBUG = (typeof VEGA_DEBUG == \"undefined\") ? {} : VEGA_DEBUG;\n",
       "  (function(spec, embedOpt){\n",
       "    let outputDiv = document.currentScript.previousElementSibling;\n",
       "    if (outputDiv.id !== \"altair-viz-95f2335da0fa4e308f1cd796cd6ee44a\") {\n",
       "      outputDiv = document.getElementById(\"altair-viz-95f2335da0fa4e308f1cd796cd6ee44a\");\n",
       "    }\n",
       "    const paths = {\n",
       "      \"vega\": \"https://cdn.jsdelivr.net/npm//vega@5?noext\",\n",
       "      \"vega-lib\": \"https://cdn.jsdelivr.net/npm//vega-lib?noext\",\n",
       "      \"vega-lite\": \"https://cdn.jsdelivr.net/npm//vega-lite@4.17.0?noext\",\n",
       "      \"vega-embed\": \"https://cdn.jsdelivr.net/npm//vega-embed@6?noext\",\n",
       "    };\n",
       "\n",
       "    function maybeLoadScript(lib, version) {\n",
       "      var key = `${lib.replace(\"-\", \"\")}_version`;\n",
       "      return (VEGA_DEBUG[key] == version) ?\n",
       "        Promise.resolve(paths[lib]) :\n",
       "        new Promise(function(resolve, reject) {\n",
       "          var s = document.createElement('script');\n",
       "          document.getElementsByTagName(\"head\")[0].appendChild(s);\n",
       "          s.async = true;\n",
       "          s.onload = () => {\n",
       "            VEGA_DEBUG[key] = version;\n",
       "            return resolve(paths[lib]);\n",
       "          };\n",
       "          s.onerror = () => reject(`Error loading script: ${paths[lib]}`);\n",
       "          s.src = paths[lib];\n",
       "        });\n",
       "    }\n",
       "\n",
       "    function showError(err) {\n",
       "      outputDiv.innerHTML = `<div class=\"error\" style=\"color:red;\">${err}</div>`;\n",
       "      throw err;\n",
       "    }\n",
       "\n",
       "    function displayChart(vegaEmbed) {\n",
       "      vegaEmbed(outputDiv, spec, embedOpt)\n",
       "        .catch(err => showError(`Javascript Error: ${err.message}<br>This usually means there's a typo in your chart specification. See the javascript console for the full traceback.`));\n",
       "    }\n",
       "\n",
       "    if(typeof define === \"function\" && define.amd) {\n",
       "      requirejs.config({paths});\n",
       "      require([\"vega-embed\"], displayChart, err => showError(`Error loading script: ${err.message}`));\n",
       "    } else {\n",
       "      maybeLoadScript(\"vega\", \"5\")\n",
       "        .then(() => maybeLoadScript(\"vega-lite\", \"4.17.0\"))\n",
       "        .then(() => maybeLoadScript(\"vega-embed\", \"6\"))\n",
       "        .catch(showError)\n",
       "        .then(() => displayChart(vegaEmbed));\n",
       "    }\n",
       "  })({\"config\": {\"axisLeft\": {\"labelFontSize\": 15}, \"axisBottom\": {\"labelFontSize\": 15}}, \"layer\": [{\"data\": {\"name\": \"data-bcf21620d1ea2320d8b7d687f0887822\"}, \"mark\": \"line\", \"encoding\": {\"color\": {\"field\": \"repo\", \"type\": \"nominal\"}, \"tooltip\": {\"field\": \"repo\", \"type\": \"nominal\"}, \"x\": {\"field\": \"createdAt\", \"type\": \"temporal\"}, \"y\": {\"field\": \"count\", \"type\": \"quantitative\"}}, \"width\": 600}, {\"data\": {\"name\": \"data-97aaa36099c18348fbe5d0ee629367ee\"}, \"mark\": {\"type\": \"line\", \"color\": \"black\"}, \"encoding\": {\"x\": {\"field\": \"createdAt\", \"type\": \"temporal\"}, \"y\": {\"field\": \"count\", \"type\": \"quantitative\"}}, \"width\": 600}], \"$schema\": \"https://vega.github.io/schema/vega-lite/v4.17.0.json\", \"datasets\": {\"data-bcf21620d1ea2320d8b7d687f0887822\": [{\"repo\": \"infrastructure\", \"createdAt\": \"2023-02-12T00:00:00\", \"count\": 2}, {\"repo\": \"infrastructure\", \"createdAt\": \"2023-02-19T00:00:00\", \"count\": 6}, {\"repo\": \"infrastructure\", \"createdAt\": \"2023-02-26T00:00:00\", \"count\": 77}, {\"repo\": \"infrastructure\", \"createdAt\": \"2023-03-05T00:00:00\", \"count\": 68}, {\"repo\": \"jupyterhub\", \"createdAt\": \"2023-01-29T00:00:00\", \"count\": 1}, {\"repo\": \"meta\", \"createdAt\": \"2023-02-26T00:00:00\", \"count\": 1}, {\"repo\": \"team-compass\", \"createdAt\": \"2023-02-12T00:00:00\", \"count\": 3}, {\"repo\": \"team-compass\", \"createdAt\": \"2023-02-19T00:00:00\", \"count\": 2}, {\"repo\": \"team-compass\", \"createdAt\": \"2023-02-26T00:00:00\", \"count\": 3}, {\"repo\": \"the-littlest-jupyterhub\", \"createdAt\": \"2023-02-05T00:00:00\", \"count\": 5}, {\"repo\": \"the-littlest-jupyterhub\", \"createdAt\": \"2023-02-12T00:00:00\", \"count\": 10}, {\"repo\": \"utoronto-image\", \"createdAt\": \"2023-02-26T00:00:00\", \"count\": 1}], \"data-97aaa36099c18348fbe5d0ee629367ee\": [{\"createdAt\": \"2023-01-29T00:00:00\", \"count\": 1}, {\"createdAt\": \"2023-02-05T00:00:00\", \"count\": 5}, {\"createdAt\": \"2023-02-12T00:00:00\", \"count\": 15}, {\"createdAt\": \"2023-02-19T00:00:00\", \"count\": 8}, {\"createdAt\": \"2023-02-26T00:00:00\", \"count\": 82}, {\"createdAt\": \"2023-03-05T00:00:00\", \"count\": 68}]}}, {\"mode\": \"vega-lite\"});\n",
       "</script>"
      ],
      "text/plain": [
       "alt.LayerChart(...)"
      ]
     },
     "execution_count": 14,
     "metadata": {},
     "output_type": "execute_result"
    }
   ],
   "source": [
    "comments_time = comments.groupby('repo').resample('W', on='createdAt').count()['author'].reset_index()\n",
    "comments_time = comments_time.rename(columns={'author': 'count'})\n",
    "comments_time_total = comments_time.groupby('createdAt').agg({\"count\": \"sum\"}).reset_index()\n",
    "ch1 = alt.Chart(comments_time, width=600).mark_line().encode(\n",
    "    x='createdAt',\n",
    "    y='count',\n",
    "    color='repo',\n",
    "    tooltip=\"repo\"\n",
    ")\n",
    "\n",
    "ch2 = alt.Chart(comments_time_total, width=600).mark_line(color=\"black\").encode(\n",
    "    x='createdAt',\n",
    "    y='count',\n",
    ")\n",
    "\n",
    "ch1 + ch2"
   ]
  },
  {
   "cell_type": "markdown",
   "id": "9768468b",
   "metadata": {
    "papermill": {
     "duration": 0.006368,
     "end_time": "2023-03-06T14:45:01.645647",
     "exception": false,
     "start_time": "2023-03-06T14:45:01.639279",
     "status": "completed"
    },
    "tags": []
   },
   "source": [
    "### PRs"
   ]
  },
  {
   "cell_type": "code",
   "execution_count": 15,
   "id": "d2ac37bc",
   "metadata": {
    "execution": {
     "iopub.execute_input": "2023-03-06T14:45:01.656913Z",
     "iopub.status.busy": "2023-03-06T14:45:01.656621Z",
     "iopub.status.idle": "2023-03-06T14:45:01.757203Z",
     "shell.execute_reply": "2023-03-06T14:45:01.756399Z"
    },
    "papermill": {
     "duration": 0.109042,
     "end_time": "2023-03-06T14:45:01.759565",
     "exception": false,
     "start_time": "2023-03-06T14:45:01.650523",
     "status": "completed"
    },
    "tags": [
     "hide_input"
    ]
   },
   "outputs": [
    {
     "data": {
      "text/html": [
       "\n",
       "<div id=\"altair-viz-d3e1a8e84d884380bd08356538f52bdf\"></div>\n",
       "<script type=\"text/javascript\">\n",
       "  var VEGA_DEBUG = (typeof VEGA_DEBUG == \"undefined\") ? {} : VEGA_DEBUG;\n",
       "  (function(spec, embedOpt){\n",
       "    let outputDiv = document.currentScript.previousElementSibling;\n",
       "    if (outputDiv.id !== \"altair-viz-d3e1a8e84d884380bd08356538f52bdf\") {\n",
       "      outputDiv = document.getElementById(\"altair-viz-d3e1a8e84d884380bd08356538f52bdf\");\n",
       "    }\n",
       "    const paths = {\n",
       "      \"vega\": \"https://cdn.jsdelivr.net/npm//vega@5?noext\",\n",
       "      \"vega-lib\": \"https://cdn.jsdelivr.net/npm//vega-lib?noext\",\n",
       "      \"vega-lite\": \"https://cdn.jsdelivr.net/npm//vega-lite@4.17.0?noext\",\n",
       "      \"vega-embed\": \"https://cdn.jsdelivr.net/npm//vega-embed@6?noext\",\n",
       "    };\n",
       "\n",
       "    function maybeLoadScript(lib, version) {\n",
       "      var key = `${lib.replace(\"-\", \"\")}_version`;\n",
       "      return (VEGA_DEBUG[key] == version) ?\n",
       "        Promise.resolve(paths[lib]) :\n",
       "        new Promise(function(resolve, reject) {\n",
       "          var s = document.createElement('script');\n",
       "          document.getElementsByTagName(\"head\")[0].appendChild(s);\n",
       "          s.async = true;\n",
       "          s.onload = () => {\n",
       "            VEGA_DEBUG[key] = version;\n",
       "            return resolve(paths[lib]);\n",
       "          };\n",
       "          s.onerror = () => reject(`Error loading script: ${paths[lib]}`);\n",
       "          s.src = paths[lib];\n",
       "        });\n",
       "    }\n",
       "\n",
       "    function showError(err) {\n",
       "      outputDiv.innerHTML = `<div class=\"error\" style=\"color:red;\">${err}</div>`;\n",
       "      throw err;\n",
       "    }\n",
       "\n",
       "    function displayChart(vegaEmbed) {\n",
       "      vegaEmbed(outputDiv, spec, embedOpt)\n",
       "        .catch(err => showError(`Javascript Error: ${err.message}<br>This usually means there's a typo in your chart specification. See the javascript console for the full traceback.`));\n",
       "    }\n",
       "\n",
       "    if(typeof define === \"function\" && define.amd) {\n",
       "      requirejs.config({paths});\n",
       "      require([\"vega-embed\"], displayChart, err => showError(`Error loading script: ${err.message}`));\n",
       "    } else {\n",
       "      maybeLoadScript(\"vega\", \"5\")\n",
       "        .then(() => maybeLoadScript(\"vega-lite\", \"4.17.0\"))\n",
       "        .then(() => maybeLoadScript(\"vega-embed\", \"6\"))\n",
       "        .catch(showError)\n",
       "        .then(() => displayChart(vegaEmbed));\n",
       "    }\n",
       "  })({\"config\": {\"axisLeft\": {\"labelFontSize\": 15}, \"axisBottom\": {\"labelFontSize\": 15}}, \"layer\": [{\"data\": {\"name\": \"data-59eecea691e9cc73a48b1e46980548b9\"}, \"mark\": \"line\", \"encoding\": {\"color\": {\"field\": \"repo\", \"type\": \"nominal\"}, \"tooltip\": {\"field\": \"repo\", \"type\": \"nominal\"}, \"x\": {\"field\": \"createdAt\", \"type\": \"temporal\"}, \"y\": {\"field\": \"count\", \"type\": \"quantitative\"}}, \"width\": 600}, {\"data\": {\"name\": \"data-a73c3e6dc6c480db8e64800cdc419f87\"}, \"mark\": {\"type\": \"line\", \"color\": \"black\"}, \"encoding\": {\"x\": {\"field\": \"createdAt\", \"type\": \"temporal\"}, \"y\": {\"field\": \"count\", \"type\": \"quantitative\"}}, \"width\": 600}], \"$schema\": \"https://vega.github.io/schema/vega-lite/v4.17.0.json\", \"datasets\": {\"data-59eecea691e9cc73a48b1e46980548b9\": [{\"repo\": \"2i2c-org.github.io\", \"createdAt\": \"2023-02-12T00:00:00\", \"count\": 1}, {\"repo\": \"docs\", \"createdAt\": \"2023-02-26T00:00:00\", \"count\": 1}, {\"repo\": \"infrastructure\", \"createdAt\": \"2023-02-19T00:00:00\", \"count\": 2}, {\"repo\": \"infrastructure\", \"createdAt\": \"2023-02-26T00:00:00\", \"count\": 4}, {\"repo\": \"infrastructure\", \"createdAt\": \"2023-03-05T00:00:00\", \"count\": 8}, {\"repo\": \"jupyterhub\", \"createdAt\": \"2023-02-19T00:00:00\", \"count\": 1}, {\"repo\": \"the-littlest-jupyterhub\", \"createdAt\": \"2023-02-05T00:00:00\", \"count\": 1}, {\"repo\": \"the-littlest-jupyterhub\", \"createdAt\": \"2023-02-12T00:00:00\", \"count\": 2}, {\"repo\": \"utoronto-image\", \"createdAt\": \"2023-02-26T00:00:00\", \"count\": 1}, {\"repo\": \"zero-to-jupyterhub-k8s\", \"createdAt\": \"2023-01-29T00:00:00\", \"count\": 2}], \"data-a73c3e6dc6c480db8e64800cdc419f87\": [{\"createdAt\": \"2023-01-29T00:00:00\", \"count\": 2}, {\"createdAt\": \"2023-02-05T00:00:00\", \"count\": 1}, {\"createdAt\": \"2023-02-12T00:00:00\", \"count\": 3}, {\"createdAt\": \"2023-02-19T00:00:00\", \"count\": 3}, {\"createdAt\": \"2023-02-26T00:00:00\", \"count\": 6}, {\"createdAt\": \"2023-03-05T00:00:00\", \"count\": 8}]}}, {\"mode\": \"vega-lite\"});\n",
       "</script>"
      ],
      "text/plain": [
       "alt.LayerChart(...)"
      ]
     },
     "execution_count": 15,
     "metadata": {},
     "output_type": "execute_result"
    }
   ],
   "source": [
    "prs_time = prs.groupby('repo').resample('W', on='createdAt').count()['author'].reset_index()\n",
    "prs_time = prs_time.rename(columns={'author': 'count'})\n",
    "prs_time_total = prs_time.groupby('createdAt').agg({\"count\": \"sum\"}).reset_index()\n",
    "\n",
    "ch1 = alt.Chart(prs_time, width=600).mark_line().encode(\n",
    "    x='createdAt',\n",
    "    y='count',\n",
    "    color='repo',\n",
    "    tooltip=\"repo\"\n",
    ")\n",
    "\n",
    "ch2 = alt.Chart(prs_time_total, width=600).mark_line(color=\"black\").encode(\n",
    "    x='createdAt',\n",
    "    y='count',\n",
    ")\n",
    "\n",
    "ch1 + ch2"
   ]
  },
  {
   "cell_type": "code",
   "execution_count": 16,
   "id": "c250150a",
   "metadata": {
    "execution": {
     "iopub.execute_input": "2023-03-06T14:45:01.772634Z",
     "iopub.status.busy": "2023-03-06T14:45:01.772098Z",
     "iopub.status.idle": "2023-03-06T14:45:01.830702Z",
     "shell.execute_reply": "2023-03-06T14:45:01.829931Z"
    },
    "papermill": {
     "duration": 0.06692,
     "end_time": "2023-03-06T14:45:01.832698",
     "exception": false,
     "start_time": "2023-03-06T14:45:01.765778",
     "status": "completed"
    },
    "tags": [
     "hide_input"
    ]
   },
   "outputs": [
    {
     "data": {
      "text/html": [
       "\n",
       "<div id=\"altair-viz-0cfb7d728c724e8dbd28b09d7c1464ad\"></div>\n",
       "<script type=\"text/javascript\">\n",
       "  var VEGA_DEBUG = (typeof VEGA_DEBUG == \"undefined\") ? {} : VEGA_DEBUG;\n",
       "  (function(spec, embedOpt){\n",
       "    let outputDiv = document.currentScript.previousElementSibling;\n",
       "    if (outputDiv.id !== \"altair-viz-0cfb7d728c724e8dbd28b09d7c1464ad\") {\n",
       "      outputDiv = document.getElementById(\"altair-viz-0cfb7d728c724e8dbd28b09d7c1464ad\");\n",
       "    }\n",
       "    const paths = {\n",
       "      \"vega\": \"https://cdn.jsdelivr.net/npm//vega@5?noext\",\n",
       "      \"vega-lib\": \"https://cdn.jsdelivr.net/npm//vega-lib?noext\",\n",
       "      \"vega-lite\": \"https://cdn.jsdelivr.net/npm//vega-lite@4.17.0?noext\",\n",
       "      \"vega-embed\": \"https://cdn.jsdelivr.net/npm//vega-embed@6?noext\",\n",
       "    };\n",
       "\n",
       "    function maybeLoadScript(lib, version) {\n",
       "      var key = `${lib.replace(\"-\", \"\")}_version`;\n",
       "      return (VEGA_DEBUG[key] == version) ?\n",
       "        Promise.resolve(paths[lib]) :\n",
       "        new Promise(function(resolve, reject) {\n",
       "          var s = document.createElement('script');\n",
       "          document.getElementsByTagName(\"head\")[0].appendChild(s);\n",
       "          s.async = true;\n",
       "          s.onload = () => {\n",
       "            VEGA_DEBUG[key] = version;\n",
       "            return resolve(paths[lib]);\n",
       "          };\n",
       "          s.onerror = () => reject(`Error loading script: ${paths[lib]}`);\n",
       "          s.src = paths[lib];\n",
       "        });\n",
       "    }\n",
       "\n",
       "    function showError(err) {\n",
       "      outputDiv.innerHTML = `<div class=\"error\" style=\"color:red;\">${err}</div>`;\n",
       "      throw err;\n",
       "    }\n",
       "\n",
       "    function displayChart(vegaEmbed) {\n",
       "      vegaEmbed(outputDiv, spec, embedOpt)\n",
       "        .catch(err => showError(`Javascript Error: ${err.message}<br>This usually means there's a typo in your chart specification. See the javascript console for the full traceback.`));\n",
       "    }\n",
       "\n",
       "    if(typeof define === \"function\" && define.amd) {\n",
       "      requirejs.config({paths});\n",
       "      require([\"vega-embed\"], displayChart, err => showError(`Error loading script: ${err.message}`));\n",
       "    } else {\n",
       "      maybeLoadScript(\"vega\", \"5\")\n",
       "        .then(() => maybeLoadScript(\"vega-lite\", \"4.17.0\"))\n",
       "        .then(() => maybeLoadScript(\"vega-embed\", \"6\"))\n",
       "        .catch(showError)\n",
       "        .then(() => displayChart(vegaEmbed));\n",
       "    }\n",
       "  })({\"config\": {\"axisLeft\": {\"labelFontSize\": 15}, \"axisBottom\": {\"labelFontSize\": 15}}, \"data\": {\"name\": \"data-c9241ff4510896aa07f9e8c5ab600b1d\"}, \"mark\": \"line\", \"encoding\": {\"color\": {\"field\": \"repo\", \"type\": \"nominal\"}, \"tooltip\": {\"field\": \"repo\", \"type\": \"nominal\"}, \"x\": {\"field\": \"closedAt\", \"type\": \"temporal\"}, \"y\": {\"field\": \"count\", \"type\": \"quantitative\"}}, \"width\": 600, \"$schema\": \"https://vega.github.io/schema/vega-lite/v4.17.0.json\", \"datasets\": {\"data-c9241ff4510896aa07f9e8c5ab600b1d\": [{\"repo\": \"infrastructure\", \"closedAt\": \"2023-02-19T00:00:00\", \"count\": 1}, {\"repo\": \"infrastructure\", \"closedAt\": \"2023-02-26T00:00:00\", \"count\": 3}, {\"repo\": \"infrastructure\", \"closedAt\": \"2023-03-05T00:00:00\", \"count\": 5}, {\"repo\": \"utoronto-image\", \"closedAt\": \"2023-02-26T00:00:00\", \"count\": 1}]}}, {\"mode\": \"vega-lite\"});\n",
       "</script>"
      ],
      "text/plain": [
       "alt.Chart(...)"
      ]
     },
     "execution_count": 16,
     "metadata": {},
     "output_type": "execute_result"
    }
   ],
   "source": [
    "closed_by_time = closed_by.groupby('repo').resample('W', on='closedAt').count()['author'].reset_index()\n",
    "closed_by_time = closed_by_time.rename(columns={'author': 'count'})\n",
    "\n",
    "alt.Chart(closed_by_time, width=600).mark_line().encode(\n",
    "    x='closedAt',\n",
    "    y='count',\n",
    "    color='repo',\n",
    "    tooltip=\"repo\"\n",
    ")"
   ]
  },
  {
   "cell_type": "markdown",
   "id": "96756855",
   "metadata": {
    "papermill": {
     "duration": 0.005536,
     "end_time": "2023-03-06T14:45:01.844447",
     "exception": false,
     "start_time": "2023-03-06T14:45:01.838911",
     "status": "completed"
    },
    "tags": []
   },
   "source": [
    "## By type over time"
   ]
  },
  {
   "cell_type": "code",
   "execution_count": 17,
   "id": "4f951be5",
   "metadata": {
    "execution": {
     "iopub.execute_input": "2023-03-06T14:45:01.857372Z",
     "iopub.status.busy": "2023-03-06T14:45:01.856829Z",
     "iopub.status.idle": "2023-03-06T14:45:01.875532Z",
     "shell.execute_reply": "2023-03-06T14:45:01.874881Z"
    },
    "papermill": {
     "duration": 0.027207,
     "end_time": "2023-03-06T14:45:01.877159",
     "exception": false,
     "start_time": "2023-03-06T14:45:01.849952",
     "status": "completed"
    },
    "tags": [
     "remove_cell"
    ]
   },
   "outputs": [],
   "source": [
    "prs_time = prs[['author', 'createdAt']].resample('W', on='createdAt').count()['author'].reset_index()\n",
    "prs_time = prs_time.rename(columns={'author': 'prs'})\n",
    "comments_time = comments[['author', 'createdAt']].resample('W', on='createdAt').count()['author'].reset_index()\n",
    "comments_time = comments_time.rename(columns={'author': 'comments'})\n",
    "\n",
    "total_time = pd.merge(prs_time, comments_time, on='createdAt', how='outer')\n",
    "total_time = total_time.melt(id_vars='createdAt', var_name=\"kind\", value_name=\"count\")\n"
   ]
  },
  {
   "cell_type": "code",
   "execution_count": 18,
   "id": "7758a1b1",
   "metadata": {
    "execution": {
     "iopub.execute_input": "2023-03-06T14:45:01.889344Z",
     "iopub.status.busy": "2023-03-06T14:45:01.889042Z",
     "iopub.status.idle": "2023-03-06T14:45:01.930096Z",
     "shell.execute_reply": "2023-03-06T14:45:01.929371Z"
    },
    "papermill": {
     "duration": 0.049481,
     "end_time": "2023-03-06T14:45:01.932059",
     "exception": false,
     "start_time": "2023-03-06T14:45:01.882578",
     "status": "completed"
    },
    "tags": [
     "hide_input"
    ]
   },
   "outputs": [
    {
     "data": {
      "text/html": [
       "\n",
       "<div id=\"altair-viz-91a83a1b522d4b4e9e7336e153deb955\"></div>\n",
       "<script type=\"text/javascript\">\n",
       "  var VEGA_DEBUG = (typeof VEGA_DEBUG == \"undefined\") ? {} : VEGA_DEBUG;\n",
       "  (function(spec, embedOpt){\n",
       "    let outputDiv = document.currentScript.previousElementSibling;\n",
       "    if (outputDiv.id !== \"altair-viz-91a83a1b522d4b4e9e7336e153deb955\") {\n",
       "      outputDiv = document.getElementById(\"altair-viz-91a83a1b522d4b4e9e7336e153deb955\");\n",
       "    }\n",
       "    const paths = {\n",
       "      \"vega\": \"https://cdn.jsdelivr.net/npm//vega@5?noext\",\n",
       "      \"vega-lib\": \"https://cdn.jsdelivr.net/npm//vega-lib?noext\",\n",
       "      \"vega-lite\": \"https://cdn.jsdelivr.net/npm//vega-lite@4.17.0?noext\",\n",
       "      \"vega-embed\": \"https://cdn.jsdelivr.net/npm//vega-embed@6?noext\",\n",
       "    };\n",
       "\n",
       "    function maybeLoadScript(lib, version) {\n",
       "      var key = `${lib.replace(\"-\", \"\")}_version`;\n",
       "      return (VEGA_DEBUG[key] == version) ?\n",
       "        Promise.resolve(paths[lib]) :\n",
       "        new Promise(function(resolve, reject) {\n",
       "          var s = document.createElement('script');\n",
       "          document.getElementsByTagName(\"head\")[0].appendChild(s);\n",
       "          s.async = true;\n",
       "          s.onload = () => {\n",
       "            VEGA_DEBUG[key] = version;\n",
       "            return resolve(paths[lib]);\n",
       "          };\n",
       "          s.onerror = () => reject(`Error loading script: ${paths[lib]}`);\n",
       "          s.src = paths[lib];\n",
       "        });\n",
       "    }\n",
       "\n",
       "    function showError(err) {\n",
       "      outputDiv.innerHTML = `<div class=\"error\" style=\"color:red;\">${err}</div>`;\n",
       "      throw err;\n",
       "    }\n",
       "\n",
       "    function displayChart(vegaEmbed) {\n",
       "      vegaEmbed(outputDiv, spec, embedOpt)\n",
       "        .catch(err => showError(`Javascript Error: ${err.message}<br>This usually means there's a typo in your chart specification. See the javascript console for the full traceback.`));\n",
       "    }\n",
       "\n",
       "    if(typeof define === \"function\" && define.amd) {\n",
       "      requirejs.config({paths});\n",
       "      require([\"vega-embed\"], displayChart, err => showError(`Error loading script: ${err.message}`));\n",
       "    } else {\n",
       "      maybeLoadScript(\"vega\", \"5\")\n",
       "        .then(() => maybeLoadScript(\"vega-lite\", \"4.17.0\"))\n",
       "        .then(() => maybeLoadScript(\"vega-embed\", \"6\"))\n",
       "        .catch(showError)\n",
       "        .then(() => displayChart(vegaEmbed));\n",
       "    }\n",
       "  })({\"config\": {\"axisLeft\": {\"labelFontSize\": 15}, \"axisBottom\": {\"labelFontSize\": 15}}, \"data\": {\"name\": \"data-7f614ee0a782800328aa2aebf961d34f\"}, \"mark\": \"line\", \"encoding\": {\"color\": {\"field\": \"kind\", \"type\": \"nominal\"}, \"x\": {\"field\": \"createdAt\", \"type\": \"temporal\"}, \"y\": {\"field\": \"count\", \"type\": \"quantitative\"}}, \"width\": 600, \"$schema\": \"https://vega.github.io/schema/vega-lite/v4.17.0.json\", \"datasets\": {\"data-7f614ee0a782800328aa2aebf961d34f\": [{\"createdAt\": \"2023-01-29T00:00:00\", \"kind\": \"prs\", \"count\": 2}, {\"createdAt\": \"2023-02-05T00:00:00\", \"kind\": \"prs\", \"count\": 1}, {\"createdAt\": \"2023-02-12T00:00:00\", \"kind\": \"prs\", \"count\": 3}, {\"createdAt\": \"2023-02-19T00:00:00\", \"kind\": \"prs\", \"count\": 3}, {\"createdAt\": \"2023-02-26T00:00:00\", \"kind\": \"prs\", \"count\": 6}, {\"createdAt\": \"2023-03-05T00:00:00\", \"kind\": \"prs\", \"count\": 8}, {\"createdAt\": \"2023-01-29T00:00:00\", \"kind\": \"comments\", \"count\": 1}, {\"createdAt\": \"2023-02-05T00:00:00\", \"kind\": \"comments\", \"count\": 5}, {\"createdAt\": \"2023-02-12T00:00:00\", \"kind\": \"comments\", \"count\": 15}, {\"createdAt\": \"2023-02-19T00:00:00\", \"kind\": \"comments\", \"count\": 8}, {\"createdAt\": \"2023-02-26T00:00:00\", \"kind\": \"comments\", \"count\": 82}, {\"createdAt\": \"2023-03-05T00:00:00\", \"kind\": \"comments\", \"count\": 68}]}}, {\"mode\": \"vega-lite\"});\n",
       "</script>"
      ],
      "text/plain": [
       "alt.Chart(...)"
      ]
     },
     "execution_count": 18,
     "metadata": {},
     "output_type": "execute_result"
    }
   ],
   "source": [
    "alt.Chart(total_time, width=600).mark_line().encode(\n",
    "    x='createdAt',\n",
    "    y='count',\n",
    "    color='kind'\n",
    ")"
   ]
  },
  {
   "cell_type": "code",
   "execution_count": null,
   "id": "a413221e",
   "metadata": {
    "papermill": {
     "duration": 0.005576,
     "end_time": "2023-03-06T14:45:01.943694",
     "exception": false,
     "start_time": "2023-03-06T14:45:01.938118",
     "status": "completed"
    },
    "tags": []
   },
   "outputs": [],
   "source": []
  },
  {
   "cell_type": "code",
   "execution_count": null,
   "id": "d8f58901",
   "metadata": {
    "papermill": {
     "duration": 0.005807,
     "end_time": "2023-03-06T14:45:01.955659",
     "exception": false,
     "start_time": "2023-03-06T14:45:01.949852",
     "status": "completed"
    },
    "tags": []
   },
   "outputs": [],
   "source": []
  }
 ],
 "metadata": {
  "kernelspec": {
   "display_name": "Python 3 (ipykernel)",
   "language": "python",
   "name": "python3"
  },
  "language_info": {
   "codemirror_mode": {
    "name": "ipython",
    "version": 3
   },
   "file_extension": ".py",
   "mimetype": "text/x-python",
   "name": "python",
   "nbconvert_exporter": "python",
   "pygments_lexer": "ipython3",
   "version": "3.9.16"
  },
  "papermill": {
   "default_parameters": {},
   "duration": 3.293427,
   "end_time": "2023-03-06T14:45:02.380994",
   "environment_variables": {},
   "exception": null,
   "input_path": "./templates/person_report.ipynb",
   "output_path": "generated/people/pnasrat.ipynb",
   "parameters": {
    "n_days": 90,
    "person": "pnasrat"
   },
   "start_time": "2023-03-06T14:44:59.087567",
   "version": "2.4.0"
  },
  "widgets": {
   "application/vnd.jupyter.widget-state+json": {
    "state": {},
    "version_major": 2,
    "version_minor": 0
   }
  }
 },
 "nbformat": 4,
 "nbformat_minor": 5
}