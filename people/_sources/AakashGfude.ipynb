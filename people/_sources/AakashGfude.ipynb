{
 "cells": [
  {
   "cell_type": "markdown",
   "id": "spatial-fields",
   "metadata": {
    "papermill": {
     "duration": 0.01435,
     "end_time": "2021-01-22T02:51:22.546858",
     "exception": false,
     "start_time": "2021-01-22T02:51:22.532508",
     "status": "completed"
    },
    "tags": []
   },
   "source": [
    "# Report for AakashGfude"
   ]
  },
  {
   "cell_type": "code",
   "execution_count": 1,
   "id": "united-feeling",
   "metadata": {
    "execution": {
     "iopub.execute_input": "2021-01-22T02:51:22.581749Z",
     "iopub.status.busy": "2021-01-22T02:51:22.581131Z",
     "iopub.status.idle": "2021-01-22T02:51:23.525089Z",
     "shell.execute_reply": "2021-01-22T02:51:23.524396Z"
    },
    "papermill": {
     "duration": 0.962511,
     "end_time": "2021-01-22T02:51:23.525335",
     "exception": false,
     "start_time": "2021-01-22T02:51:22.562824",
     "status": "completed"
    },
    "tags": [
     "remove_cell"
    ]
   },
   "outputs": [],
   "source": [
    "import seaborn as sns\n",
    "import pandas as pd\n",
    "import numpy as np\n",
    "import altair as alt\n",
    "from markdown import markdown\n",
    "from IPython.display import Markdown\n",
    "from ipywidgets.widgets import HTML, Tab\n",
    "from ipywidgets import widgets\n",
    "from datetime import timedelta\n",
    "from matplotlib import pyplot as plt\n",
    "import os.path as op\n",
    "\n",
    "from mycode import alt_theme\n",
    "from warnings import simplefilter\n",
    "simplefilter('ignore')"
   ]
  },
  {
   "cell_type": "code",
   "execution_count": 2,
   "id": "presidential-affair",
   "metadata": {
    "execution": {
     "iopub.execute_input": "2021-01-22T02:51:23.560157Z",
     "iopub.status.busy": "2021-01-22T02:51:23.559489Z",
     "iopub.status.idle": "2021-01-22T02:51:23.562224Z",
     "shell.execute_reply": "2021-01-22T02:51:23.562757Z"
    },
    "papermill": {
     "duration": 0.021272,
     "end_time": "2021-01-22T02:51:23.562915",
     "exception": false,
     "start_time": "2021-01-22T02:51:23.541643",
     "status": "completed"
    },
    "tags": [
     "remove_cell"
    ]
   },
   "outputs": [],
   "source": [
    "def author_url(author):\n",
    "    return f\"https://github.com/{author}\""
   ]
  },
  {
   "cell_type": "code",
   "execution_count": 3,
   "id": "constitutional-cologne",
   "metadata": {
    "execution": {
     "iopub.execute_input": "2021-01-22T02:51:23.595901Z",
     "iopub.status.busy": "2021-01-22T02:51:23.595293Z",
     "iopub.status.idle": "2021-01-22T02:51:23.597717Z",
     "shell.execute_reply": "2021-01-22T02:51:23.597181Z"
    },
    "papermill": {
     "duration": 0.020608,
     "end_time": "2021-01-22T02:51:23.597863",
     "exception": false,
     "start_time": "2021-01-22T02:51:23.577255",
     "status": "completed"
    },
    "tags": [
     "parameters",
     "hide_input"
    ]
   },
   "outputs": [],
   "source": [
    "# Parameters\n",
    "fmt_date = \"{:%Y-%m-%d}\"\n",
    "\n",
    "n_days = 30 * 2\n",
    "start_date = fmt_date.format(pd.datetime.today() - timedelta(days=n_days))\n",
    "end_date = fmt_date.format(pd.datetime.today())\n",
    "\n",
    "renderer = \"html\"\n",
    "person = \"jasongrout\""
   ]
  },
  {
   "cell_type": "code",
   "execution_count": 4,
   "id": "fleet-mouse",
   "metadata": {
    "execution": {
     "iopub.execute_input": "2021-01-22T02:51:23.630684Z",
     "iopub.status.busy": "2021-01-22T02:51:23.630050Z",
     "iopub.status.idle": "2021-01-22T02:51:23.632418Z",
     "shell.execute_reply": "2021-01-22T02:51:23.631890Z"
    },
    "papermill": {
     "duration": 0.019996,
     "end_time": "2021-01-22T02:51:23.632557",
     "exception": false,
     "start_time": "2021-01-22T02:51:23.612561",
     "status": "completed"
    },
    "tags": [
     "injected-parameters",
     "remove-cell"
    ]
   },
   "outputs": [],
   "source": [
    "# Parameters\n",
    "person = \"AakashGfude\"\n",
    "n_days = 60\n"
   ]
  },
  {
   "cell_type": "code",
   "execution_count": 5,
   "id": "christian-cartoon",
   "metadata": {
    "execution": {
     "iopub.execute_input": "2021-01-22T02:51:23.675916Z",
     "iopub.status.busy": "2021-01-22T02:51:23.675276Z",
     "iopub.status.idle": "2021-01-22T02:51:23.678910Z",
     "shell.execute_reply": "2021-01-22T02:51:23.678274Z"
    },
    "papermill": {
     "duration": 0.026022,
     "end_time": "2021-01-22T02:51:23.679073",
     "exception": false,
     "start_time": "2021-01-22T02:51:23.653051",
     "status": "completed"
    },
    "tags": [
     "remove_cell"
    ]
   },
   "outputs": [
    {
     "data": {
      "text/plain": [
       "ThemeRegistry.enable('my_theme')"
      ]
     },
     "execution_count": 5,
     "metadata": {},
     "output_type": "execute_result"
    }
   ],
   "source": [
    "alt.renderers.enable(renderer);\n",
    "alt.themes.register('my_theme', alt_theme)\n",
    "alt.themes.enable(\"my_theme\")"
   ]
  },
  {
   "cell_type": "markdown",
   "id": "artistic-locking",
   "metadata": {
    "papermill": {
     "duration": 0.014005,
     "end_time": "2021-01-22T02:51:23.707802",
     "exception": false,
     "start_time": "2021-01-22T02:51:23.693797",
     "status": "completed"
    },
    "tags": []
   },
   "source": [
    "## Load data"
   ]
  },
  {
   "cell_type": "code",
   "execution_count": 6,
   "id": "significant-bible",
   "metadata": {
    "execution": {
     "iopub.execute_input": "2021-01-22T02:51:23.741874Z",
     "iopub.status.busy": "2021-01-22T02:51:23.741250Z",
     "iopub.status.idle": "2021-01-22T02:51:23.905253Z",
     "shell.execute_reply": "2021-01-22T02:51:23.905738Z"
    },
    "papermill": {
     "duration": 0.183762,
     "end_time": "2021-01-22T02:51:23.905955",
     "exception": false,
     "start_time": "2021-01-22T02:51:23.722193",
     "status": "completed"
    },
    "tags": [
     "remove_cell"
    ]
   },
   "outputs": [],
   "source": [
    "from pathlib import Path\n",
    "path_data = Path(\"./\")\n",
    "comments = pd.read_csv(path_data.joinpath('comments.csv'), index_col=0)\n",
    "issues = pd.read_csv(path_data.joinpath('issues.csv'), index_col=0)\n",
    "prs = pd.read_csv(path_data.joinpath('prs.csv'), index_col=0)\n",
    "\n",
    "comments = comments.query('author == @person').drop_duplicates()\n",
    "issues = issues.query('author == @person').drop_duplicates()\n",
    "closed_by = prs.query('mergedBy == @person')\n",
    "prs = prs.query('author == @person').drop_duplicates()"
   ]
  },
  {
   "cell_type": "code",
   "execution_count": 7,
   "id": "optical-measure",
   "metadata": {
    "execution": {
     "iopub.execute_input": "2021-01-22T02:51:23.959827Z",
     "iopub.status.busy": "2021-01-22T02:51:23.959156Z",
     "iopub.status.idle": "2021-01-22T02:51:24.012031Z",
     "shell.execute_reply": "2021-01-22T02:51:24.012498Z"
    },
    "papermill": {
     "duration": 0.088953,
     "end_time": "2021-01-22T02:51:24.012711",
     "exception": false,
     "start_time": "2021-01-22T02:51:23.923758",
     "status": "completed"
    },
    "tags": [
     "remove_cell"
    ]
   },
   "outputs": [],
   "source": [
    "# Time columns\n",
    "# Also drop dates outside of our range\n",
    "time_columns = ['updatedAt', 'createdAt', 'closedAt']\n",
    "for col in time_columns:\n",
    "    for item in [comments, issues, prs, closed_by]:\n",
    "        if col not in item.columns:\n",
    "            continue\n",
    "        dt = pd.to_datetime(item[col]).dt.tz_localize(None)\n",
    "        item[col] = dt\n",
    "        item.query(\"updatedAt < @end_date and updatedAt > @start_date\", inplace=True)"
   ]
  },
  {
   "cell_type": "markdown",
   "id": "faced-london",
   "metadata": {
    "papermill": {
     "duration": 0.014887,
     "end_time": "2021-01-22T02:51:24.042882",
     "exception": false,
     "start_time": "2021-01-22T02:51:24.027995",
     "status": "completed"
    },
    "tags": []
   },
   "source": [
    "## Repository summaries"
   ]
  },
  {
   "cell_type": "code",
   "execution_count": 8,
   "id": "under-beauty",
   "metadata": {
    "execution": {
     "iopub.execute_input": "2021-01-22T02:51:24.079522Z",
     "iopub.status.busy": "2021-01-22T02:51:24.078895Z",
     "iopub.status.idle": "2021-01-22T02:51:24.102153Z",
     "shell.execute_reply": "2021-01-22T02:51:24.101623Z"
    },
    "papermill": {
     "duration": 0.042195,
     "end_time": "2021-01-22T02:51:24.102312",
     "exception": false,
     "start_time": "2021-01-22T02:51:24.060117",
     "status": "completed"
    },
    "tags": [
     "remove_cell"
    ]
   },
   "outputs": [],
   "source": [
    "summaries = []\n",
    "for idata, name in [(issues, 'issues'), (prs, 'prs'), (comments, 'comments')]:\n",
    "    idata = idata.groupby([\"repo\", \"org\"]).agg({'id': \"count\"}).reset_index().rename(columns={'id': 'count'})\n",
    "    idata[\"kind\"] = name\n",
    "    summaries.append(idata)\n",
    "summaries = pd.concat(summaries)"
   ]
  },
  {
   "cell_type": "code",
   "execution_count": 9,
   "id": "acute-invite",
   "metadata": {
    "execution": {
     "iopub.execute_input": "2021-01-22T02:51:24.147468Z",
     "iopub.status.busy": "2021-01-22T02:51:24.146794Z",
     "iopub.status.idle": "2021-01-22T02:51:24.150451Z",
     "shell.execute_reply": "2021-01-22T02:51:24.149894Z"
    },
    "papermill": {
     "duration": 0.032499,
     "end_time": "2021-01-22T02:51:24.150655",
     "exception": false,
     "start_time": "2021-01-22T02:51:24.118156",
     "status": "completed"
    },
    "tags": [
     "remove_cell"
    ]
   },
   "outputs": [],
   "source": [
    "repo_summaries = summaries.groupby([\"repo\", \"kind\"]).agg({\"count\": \"sum\"}).reset_index()\n",
    "org_summaries = summaries.groupby([\"org\", \"kind\"]).agg({\"count\": \"sum\"}).reset_index()"
   ]
  },
  {
   "cell_type": "code",
   "execution_count": 10,
   "id": "planned-ultimate",
   "metadata": {
    "execution": {
     "iopub.execute_input": "2021-01-22T02:51:24.189433Z",
     "iopub.status.busy": "2021-01-22T02:51:24.188828Z",
     "iopub.status.idle": "2021-01-22T02:51:24.191675Z",
     "shell.execute_reply": "2021-01-22T02:51:24.191185Z"
    },
    "papermill": {
     "duration": 0.02354,
     "end_time": "2021-01-22T02:51:24.191815",
     "exception": false,
     "start_time": "2021-01-22T02:51:24.168275",
     "status": "completed"
    },
    "tags": [
     "remove_cell"
    ]
   },
   "outputs": [],
   "source": [
    "repo_summaries['logcount'] = np.log(repo_summaries[\"count\"])"
   ]
  },
  {
   "cell_type": "code",
   "execution_count": 11,
   "id": "periodic-relaxation",
   "metadata": {
    "execution": {
     "iopub.execute_input": "2021-01-22T02:51:24.233009Z",
     "iopub.status.busy": "2021-01-22T02:51:24.227819Z",
     "iopub.status.idle": "2021-01-22T02:51:24.275187Z",
     "shell.execute_reply": "2021-01-22T02:51:24.275719Z"
    },
    "papermill": {
     "duration": 0.069517,
     "end_time": "2021-01-22T02:51:24.275886",
     "exception": false,
     "start_time": "2021-01-22T02:51:24.206369",
     "status": "completed"
    },
    "tags": [
     "hide_input"
    ]
   },
   "outputs": [
    {
     "data": {
      "text/html": [
       "\n",
       "<div id=\"altair-viz-3258d80346404f03848a9b080a039cb9\"></div>\n",
       "<script type=\"text/javascript\">\n",
       "  (function(spec, embedOpt){\n",
       "    let outputDiv = document.currentScript.previousElementSibling;\n",
       "    if (outputDiv.id !== \"altair-viz-3258d80346404f03848a9b080a039cb9\") {\n",
       "      outputDiv = document.getElementById(\"altair-viz-3258d80346404f03848a9b080a039cb9\");\n",
       "    }\n",
       "    const paths = {\n",
       "      \"vega\": \"https://cdn.jsdelivr.net/npm//vega@5?noext\",\n",
       "      \"vega-lib\": \"https://cdn.jsdelivr.net/npm//vega-lib?noext\",\n",
       "      \"vega-lite\": \"https://cdn.jsdelivr.net/npm//vega-lite@4.8.1?noext\",\n",
       "      \"vega-embed\": \"https://cdn.jsdelivr.net/npm//vega-embed@6?noext\",\n",
       "    };\n",
       "\n",
       "    function loadScript(lib) {\n",
       "      return new Promise(function(resolve, reject) {\n",
       "        var s = document.createElement('script');\n",
       "        s.src = paths[lib];\n",
       "        s.async = true;\n",
       "        s.onload = () => resolve(paths[lib]);\n",
       "        s.onerror = () => reject(`Error loading script: ${paths[lib]}`);\n",
       "        document.getElementsByTagName(\"head\")[0].appendChild(s);\n",
       "      });\n",
       "    }\n",
       "\n",
       "    function showError(err) {\n",
       "      outputDiv.innerHTML = `<div class=\"error\" style=\"color:red;\">${err}</div>`;\n",
       "      throw err;\n",
       "    }\n",
       "\n",
       "    function displayChart(vegaEmbed) {\n",
       "      vegaEmbed(outputDiv, spec, embedOpt)\n",
       "        .catch(err => showError(`Javascript Error: ${err.message}<br>This usually means there's a typo in your chart specification. See the javascript console for the full traceback.`));\n",
       "    }\n",
       "\n",
       "    if(typeof define === \"function\" && define.amd) {\n",
       "      requirejs.config({paths});\n",
       "      require([\"vega-embed\"], displayChart, err => showError(`Error loading script: ${err.message}`));\n",
       "    } else if (typeof vegaEmbed === \"function\") {\n",
       "      displayChart(vegaEmbed);\n",
       "    } else {\n",
       "      loadScript(\"vega\")\n",
       "        .then(() => loadScript(\"vega-lite\"))\n",
       "        .then(() => loadScript(\"vega-embed\"))\n",
       "        .catch(showError)\n",
       "        .then(() => displayChart(vegaEmbed));\n",
       "    }\n",
       "  })({\"config\": {\"axisLeft\": {\"labelFontSize\": 15}, \"axisBottom\": {\"labelFontSize\": 15}}, \"hconcat\": [{\"mark\": \"bar\", \"encoding\": {\"color\": {\"type\": \"nominal\", \"field\": \"kind\"}, \"tooltip\": {\"type\": \"nominal\", \"field\": \"kind\"}, \"x\": {\"type\": \"nominal\", \"field\": \"repo\"}, \"y\": {\"type\": \"quantitative\", \"field\": \"count\"}}, \"title\": \"Activity per repository\", \"width\": 600}, {\"mark\": \"bar\", \"encoding\": {\"color\": {\"type\": \"nominal\", \"field\": \"kind\"}, \"tooltip\": {\"type\": \"nominal\", \"field\": \"kind\"}, \"x\": {\"type\": \"nominal\", \"field\": \"repo\"}, \"y\": {\"type\": \"quantitative\", \"field\": \"logcount\"}}, \"title\": \"Log activity per repository\", \"width\": 600}], \"data\": {\"name\": \"data-540d50f4aa9c1ffec9ccdc4fbc9b0bf6\"}, \"$schema\": \"https://vega.github.io/schema/vega-lite/v4.8.1.json\", \"datasets\": {\"data-540d50f4aa9c1ffec9ccdc4fbc9b0bf6\": [{\"repo\": \"MyST-Parser\", \"kind\": \"comments\", \"count\": 2, \"logcount\": 0.6931471805599453}, {\"repo\": \"jupyter-book\", \"kind\": \"comments\", \"count\": 10, \"logcount\": 2.302585092994046}, {\"repo\": \"jupyter-book\", \"kind\": \"issues\", \"count\": 1, \"logcount\": 0.0}, {\"repo\": \"jupyter-book\", \"kind\": \"prs\", \"count\": 3, \"logcount\": 1.0986122886681098}, {\"repo\": \"jupyterbook-latex\", \"kind\": \"comments\", \"count\": 7, \"logcount\": 1.9459101490553132}, {\"repo\": \"jupyterbook-latex\", \"kind\": \"prs\", \"count\": 15, \"logcount\": 2.70805020110221}, {\"repo\": \"sphinx-book-theme\", \"kind\": \"prs\", \"count\": 1, \"logcount\": 0.0}, {\"repo\": \"sphinx-multitoc-numbering\", \"kind\": \"comments\", \"count\": 1, \"logcount\": 0.0}]}}, {\"mode\": \"vega-lite\"});\n",
       "</script>"
      ],
      "text/plain": [
       "alt.HConcatChart(...)"
      ]
     },
     "execution_count": 11,
     "metadata": {},
     "output_type": "execute_result"
    }
   ],
   "source": [
    "ch1 = alt.Chart(repo_summaries, width=600, title=\"Activity per repository\").mark_bar().encode(\n",
    "    x='repo',\n",
    "    y='count',\n",
    "    color='kind',\n",
    "    tooltip=\"kind\"\n",
    ")\n",
    "\n",
    "ch2 = alt.Chart(repo_summaries, width=600, title=\"Log activity per repository\").mark_bar().encode(\n",
    "    x='repo',\n",
    "    y='logcount',\n",
    "    color='kind',\n",
    "    tooltip=\"kind\"\n",
    ")\n",
    "\n",
    "ch1 | ch2"
   ]
  },
  {
   "cell_type": "code",
   "execution_count": 12,
   "id": "vietnamese-amazon",
   "metadata": {
    "execution": {
     "iopub.execute_input": "2021-01-22T02:51:24.318692Z",
     "iopub.status.busy": "2021-01-22T02:51:24.318040Z",
     "iopub.status.idle": "2021-01-22T02:51:24.337919Z",
     "shell.execute_reply": "2021-01-22T02:51:24.337456Z"
    },
    "papermill": {
     "duration": 0.044851,
     "end_time": "2021-01-22T02:51:24.338063",
     "exception": false,
     "start_time": "2021-01-22T02:51:24.293212",
     "status": "completed"
    },
    "tags": [
     "hide_input"
    ]
   },
   "outputs": [
    {
     "data": {
      "text/html": [
       "\n",
       "<div id=\"altair-viz-4cd1005806164254b1526d49528f0c35\"></div>\n",
       "<script type=\"text/javascript\">\n",
       "  (function(spec, embedOpt){\n",
       "    let outputDiv = document.currentScript.previousElementSibling;\n",
       "    if (outputDiv.id !== \"altair-viz-4cd1005806164254b1526d49528f0c35\") {\n",
       "      outputDiv = document.getElementById(\"altair-viz-4cd1005806164254b1526d49528f0c35\");\n",
       "    }\n",
       "    const paths = {\n",
       "      \"vega\": \"https://cdn.jsdelivr.net/npm//vega@5?noext\",\n",
       "      \"vega-lib\": \"https://cdn.jsdelivr.net/npm//vega-lib?noext\",\n",
       "      \"vega-lite\": \"https://cdn.jsdelivr.net/npm//vega-lite@4.8.1?noext\",\n",
       "      \"vega-embed\": \"https://cdn.jsdelivr.net/npm//vega-embed@6?noext\",\n",
       "    };\n",
       "\n",
       "    function loadScript(lib) {\n",
       "      return new Promise(function(resolve, reject) {\n",
       "        var s = document.createElement('script');\n",
       "        s.src = paths[lib];\n",
       "        s.async = true;\n",
       "        s.onload = () => resolve(paths[lib]);\n",
       "        s.onerror = () => reject(`Error loading script: ${paths[lib]}`);\n",
       "        document.getElementsByTagName(\"head\")[0].appendChild(s);\n",
       "      });\n",
       "    }\n",
       "\n",
       "    function showError(err) {\n",
       "      outputDiv.innerHTML = `<div class=\"error\" style=\"color:red;\">${err}</div>`;\n",
       "      throw err;\n",
       "    }\n",
       "\n",
       "    function displayChart(vegaEmbed) {\n",
       "      vegaEmbed(outputDiv, spec, embedOpt)\n",
       "        .catch(err => showError(`Javascript Error: ${err.message}<br>This usually means there's a typo in your chart specification. See the javascript console for the full traceback.`));\n",
       "    }\n",
       "\n",
       "    if(typeof define === \"function\" && define.amd) {\n",
       "      requirejs.config({paths});\n",
       "      require([\"vega-embed\"], displayChart, err => showError(`Error loading script: ${err.message}`));\n",
       "    } else if (typeof vegaEmbed === \"function\") {\n",
       "      displayChart(vegaEmbed);\n",
       "    } else {\n",
       "      loadScript(\"vega\")\n",
       "        .then(() => loadScript(\"vega-lite\"))\n",
       "        .then(() => loadScript(\"vega-embed\"))\n",
       "        .catch(showError)\n",
       "        .then(() => displayChart(vegaEmbed));\n",
       "    }\n",
       "  })({\"config\": {\"axisLeft\": {\"labelFontSize\": 15}, \"axisBottom\": {\"labelFontSize\": 15}}, \"data\": {\"name\": \"data-b9033bfab06ae8690e2404d7133aeb09\"}, \"mark\": \"bar\", \"encoding\": {\"color\": {\"type\": \"nominal\", \"field\": \"kind\"}, \"tooltip\": {\"type\": \"nominal\", \"field\": \"org\"}, \"x\": {\"type\": \"nominal\", \"field\": \"org\"}, \"y\": {\"type\": \"quantitative\", \"field\": \"count\"}}, \"width\": 600, \"$schema\": \"https://vega.github.io/schema/vega-lite/v4.8.1.json\", \"datasets\": {\"data-b9033bfab06ae8690e2404d7133aeb09\": [{\"org\": \"executablebooks\", \"kind\": \"comments\", \"count\": 20}, {\"org\": \"executablebooks\", \"kind\": \"issues\", \"count\": 1}, {\"org\": \"executablebooks\", \"kind\": \"prs\", \"count\": 19}]}}, {\"mode\": \"vega-lite\"});\n",
       "</script>"
      ],
      "text/plain": [
       "alt.Chart(...)"
      ]
     },
     "execution_count": 12,
     "metadata": {},
     "output_type": "execute_result"
    }
   ],
   "source": [
    "alt.Chart(org_summaries, width=600).mark_bar().encode(\n",
    "    x='org',\n",
    "    y='count',\n",
    "    color='kind',\n",
    "    tooltip=\"org\"\n",
    ")"
   ]
  },
  {
   "cell_type": "markdown",
   "id": "polish-variation",
   "metadata": {
    "papermill": {
     "duration": 0.016446,
     "end_time": "2021-01-22T02:51:24.370002",
     "exception": false,
     "start_time": "2021-01-22T02:51:24.353556",
     "status": "completed"
    },
    "tags": []
   },
   "source": [
    "## By repository over time"
   ]
  },
  {
   "cell_type": "markdown",
   "id": "eleven-redhead",
   "metadata": {
    "papermill": {
     "duration": 0.015956,
     "end_time": "2021-01-22T02:51:24.402184",
     "exception": false,
     "start_time": "2021-01-22T02:51:24.386228",
     "status": "completed"
    },
    "tags": []
   },
   "source": [
    "### Comments"
   ]
  },
  {
   "cell_type": "code",
   "execution_count": 13,
   "id": "married-african",
   "metadata": {
    "execution": {
     "iopub.execute_input": "2021-01-22T02:51:24.444517Z",
     "iopub.status.busy": "2021-01-22T02:51:24.443843Z",
     "iopub.status.idle": "2021-01-22T02:51:24.505519Z",
     "shell.execute_reply": "2021-01-22T02:51:24.506041Z"
    },
    "papermill": {
     "duration": 0.086786,
     "end_time": "2021-01-22T02:51:24.506266",
     "exception": false,
     "start_time": "2021-01-22T02:51:24.419480",
     "status": "completed"
    },
    "tags": [
     "hide_input"
    ]
   },
   "outputs": [
    {
     "data": {
      "text/html": [
       "\n",
       "<div id=\"altair-viz-515b61cbddab42b89d53eaa1f212bfdb\"></div>\n",
       "<script type=\"text/javascript\">\n",
       "  (function(spec, embedOpt){\n",
       "    let outputDiv = document.currentScript.previousElementSibling;\n",
       "    if (outputDiv.id !== \"altair-viz-515b61cbddab42b89d53eaa1f212bfdb\") {\n",
       "      outputDiv = document.getElementById(\"altair-viz-515b61cbddab42b89d53eaa1f212bfdb\");\n",
       "    }\n",
       "    const paths = {\n",
       "      \"vega\": \"https://cdn.jsdelivr.net/npm//vega@5?noext\",\n",
       "      \"vega-lib\": \"https://cdn.jsdelivr.net/npm//vega-lib?noext\",\n",
       "      \"vega-lite\": \"https://cdn.jsdelivr.net/npm//vega-lite@4.8.1?noext\",\n",
       "      \"vega-embed\": \"https://cdn.jsdelivr.net/npm//vega-embed@6?noext\",\n",
       "    };\n",
       "\n",
       "    function loadScript(lib) {\n",
       "      return new Promise(function(resolve, reject) {\n",
       "        var s = document.createElement('script');\n",
       "        s.src = paths[lib];\n",
       "        s.async = true;\n",
       "        s.onload = () => resolve(paths[lib]);\n",
       "        s.onerror = () => reject(`Error loading script: ${paths[lib]}`);\n",
       "        document.getElementsByTagName(\"head\")[0].appendChild(s);\n",
       "      });\n",
       "    }\n",
       "\n",
       "    function showError(err) {\n",
       "      outputDiv.innerHTML = `<div class=\"error\" style=\"color:red;\">${err}</div>`;\n",
       "      throw err;\n",
       "    }\n",
       "\n",
       "    function displayChart(vegaEmbed) {\n",
       "      vegaEmbed(outputDiv, spec, embedOpt)\n",
       "        .catch(err => showError(`Javascript Error: ${err.message}<br>This usually means there's a typo in your chart specification. See the javascript console for the full traceback.`));\n",
       "    }\n",
       "\n",
       "    if(typeof define === \"function\" && define.amd) {\n",
       "      requirejs.config({paths});\n",
       "      require([\"vega-embed\"], displayChart, err => showError(`Error loading script: ${err.message}`));\n",
       "    } else if (typeof vegaEmbed === \"function\") {\n",
       "      displayChart(vegaEmbed);\n",
       "    } else {\n",
       "      loadScript(\"vega\")\n",
       "        .then(() => loadScript(\"vega-lite\"))\n",
       "        .then(() => loadScript(\"vega-embed\"))\n",
       "        .catch(showError)\n",
       "        .then(() => displayChart(vegaEmbed));\n",
       "    }\n",
       "  })({\"config\": {\"axisLeft\": {\"labelFontSize\": 15}, \"axisBottom\": {\"labelFontSize\": 15}}, \"layer\": [{\"data\": {\"name\": \"data-79b5777bbb1821b2afffa725808b0cae\"}, \"mark\": \"line\", \"encoding\": {\"color\": {\"type\": \"nominal\", \"field\": \"repo\"}, \"tooltip\": {\"type\": \"nominal\", \"field\": \"repo\"}, \"x\": {\"type\": \"temporal\", \"field\": \"createdAt\"}, \"y\": {\"type\": \"quantitative\", \"field\": \"count\"}}, \"width\": 600}, {\"data\": {\"name\": \"data-3ae5f427fce8785b0556c0d3af8e669e\"}, \"mark\": {\"type\": \"line\", \"color\": \"black\"}, \"encoding\": {\"x\": {\"type\": \"temporal\", \"field\": \"createdAt\"}, \"y\": {\"type\": \"quantitative\", \"field\": \"count\"}}, \"width\": 600}], \"$schema\": \"https://vega.github.io/schema/vega-lite/v4.8.1.json\", \"datasets\": {\"data-79b5777bbb1821b2afffa725808b0cae\": [{\"repo\": \"MyST-Parser\", \"createdAt\": \"2020-12-20T00:00:00\", \"count\": 2}, {\"repo\": \"jupyter-book\", \"createdAt\": \"2020-11-29T00:00:00\", \"count\": 1}, {\"repo\": \"jupyter-book\", \"createdAt\": \"2020-12-06T00:00:00\", \"count\": 0}, {\"repo\": \"jupyter-book\", \"createdAt\": \"2020-12-13T00:00:00\", \"count\": 4}, {\"repo\": \"jupyter-book\", \"createdAt\": \"2020-12-20T00:00:00\", \"count\": 3}, {\"repo\": \"jupyter-book\", \"createdAt\": \"2020-12-27T00:00:00\", \"count\": 1}, {\"repo\": \"jupyter-book\", \"createdAt\": \"2021-01-03T00:00:00\", \"count\": 0}, {\"repo\": \"jupyter-book\", \"createdAt\": \"2021-01-10T00:00:00\", \"count\": 1}, {\"repo\": \"jupyterbook-latex\", \"createdAt\": \"2020-11-29T00:00:00\", \"count\": 2}, {\"repo\": \"jupyterbook-latex\", \"createdAt\": \"2020-12-06T00:00:00\", \"count\": 0}, {\"repo\": \"jupyterbook-latex\", \"createdAt\": \"2020-12-13T00:00:00\", \"count\": 3}, {\"repo\": \"jupyterbook-latex\", \"createdAt\": \"2020-12-20T00:00:00\", \"count\": 1}, {\"repo\": \"jupyterbook-latex\", \"createdAt\": \"2020-12-27T00:00:00\", \"count\": 1}, {\"repo\": \"sphinx-multitoc-numbering\", \"createdAt\": \"2021-01-10T00:00:00\", \"count\": 1}], \"data-3ae5f427fce8785b0556c0d3af8e669e\": [{\"createdAt\": \"2020-11-29T00:00:00\", \"count\": 3}, {\"createdAt\": \"2020-12-06T00:00:00\", \"count\": 0}, {\"createdAt\": \"2020-12-13T00:00:00\", \"count\": 7}, {\"createdAt\": \"2020-12-20T00:00:00\", \"count\": 6}, {\"createdAt\": \"2020-12-27T00:00:00\", \"count\": 2}, {\"createdAt\": \"2021-01-03T00:00:00\", \"count\": 0}, {\"createdAt\": \"2021-01-10T00:00:00\", \"count\": 2}]}}, {\"mode\": \"vega-lite\"});\n",
       "</script>"
      ],
      "text/plain": [
       "alt.LayerChart(...)"
      ]
     },
     "execution_count": 13,
     "metadata": {},
     "output_type": "execute_result"
    }
   ],
   "source": [
    "comments_time = comments.groupby('repo').resample('W', on='createdAt').count()['author'].reset_index()\n",
    "comments_time = comments_time.rename(columns={'author': 'count'})\n",
    "comments_time_total = comments_time.groupby('createdAt').agg({\"count\": \"sum\"}).reset_index()\n",
    "ch1 = alt.Chart(comments_time, width=600).mark_line().encode(\n",
    "    x='createdAt',\n",
    "    y='count',\n",
    "    color='repo',\n",
    "    tooltip=\"repo\"\n",
    ")\n",
    "\n",
    "ch2 = alt.Chart(comments_time_total, width=600).mark_line(color=\"black\").encode(\n",
    "    x='createdAt',\n",
    "    y='count',\n",
    ")\n",
    "\n",
    "ch1 + ch2"
   ]
  },
  {
   "cell_type": "markdown",
   "id": "pending-correspondence",
   "metadata": {
    "papermill": {
     "duration": 0.018791,
     "end_time": "2021-01-22T02:51:24.544286",
     "exception": false,
     "start_time": "2021-01-22T02:51:24.525495",
     "status": "completed"
    },
    "tags": []
   },
   "source": [
    "### PRs"
   ]
  },
  {
   "cell_type": "code",
   "execution_count": 14,
   "id": "pressing-product",
   "metadata": {
    "execution": {
     "iopub.execute_input": "2021-01-22T02:51:24.601991Z",
     "iopub.status.busy": "2021-01-22T02:51:24.601333Z",
     "iopub.status.idle": "2021-01-22T02:51:24.646081Z",
     "shell.execute_reply": "2021-01-22T02:51:24.646547Z"
    },
    "papermill": {
     "duration": 0.083829,
     "end_time": "2021-01-22T02:51:24.646731",
     "exception": false,
     "start_time": "2021-01-22T02:51:24.562902",
     "status": "completed"
    },
    "tags": [
     "hide_input"
    ]
   },
   "outputs": [
    {
     "data": {
      "text/html": [
       "\n",
       "<div id=\"altair-viz-368545facd734aeea407aaa643f7d850\"></div>\n",
       "<script type=\"text/javascript\">\n",
       "  (function(spec, embedOpt){\n",
       "    let outputDiv = document.currentScript.previousElementSibling;\n",
       "    if (outputDiv.id !== \"altair-viz-368545facd734aeea407aaa643f7d850\") {\n",
       "      outputDiv = document.getElementById(\"altair-viz-368545facd734aeea407aaa643f7d850\");\n",
       "    }\n",
       "    const paths = {\n",
       "      \"vega\": \"https://cdn.jsdelivr.net/npm//vega@5?noext\",\n",
       "      \"vega-lib\": \"https://cdn.jsdelivr.net/npm//vega-lib?noext\",\n",
       "      \"vega-lite\": \"https://cdn.jsdelivr.net/npm//vega-lite@4.8.1?noext\",\n",
       "      \"vega-embed\": \"https://cdn.jsdelivr.net/npm//vega-embed@6?noext\",\n",
       "    };\n",
       "\n",
       "    function loadScript(lib) {\n",
       "      return new Promise(function(resolve, reject) {\n",
       "        var s = document.createElement('script');\n",
       "        s.src = paths[lib];\n",
       "        s.async = true;\n",
       "        s.onload = () => resolve(paths[lib]);\n",
       "        s.onerror = () => reject(`Error loading script: ${paths[lib]}`);\n",
       "        document.getElementsByTagName(\"head\")[0].appendChild(s);\n",
       "      });\n",
       "    }\n",
       "\n",
       "    function showError(err) {\n",
       "      outputDiv.innerHTML = `<div class=\"error\" style=\"color:red;\">${err}</div>`;\n",
       "      throw err;\n",
       "    }\n",
       "\n",
       "    function displayChart(vegaEmbed) {\n",
       "      vegaEmbed(outputDiv, spec, embedOpt)\n",
       "        .catch(err => showError(`Javascript Error: ${err.message}<br>This usually means there's a typo in your chart specification. See the javascript console for the full traceback.`));\n",
       "    }\n",
       "\n",
       "    if(typeof define === \"function\" && define.amd) {\n",
       "      requirejs.config({paths});\n",
       "      require([\"vega-embed\"], displayChart, err => showError(`Error loading script: ${err.message}`));\n",
       "    } else if (typeof vegaEmbed === \"function\") {\n",
       "      displayChart(vegaEmbed);\n",
       "    } else {\n",
       "      loadScript(\"vega\")\n",
       "        .then(() => loadScript(\"vega-lite\"))\n",
       "        .then(() => loadScript(\"vega-embed\"))\n",
       "        .catch(showError)\n",
       "        .then(() => displayChart(vegaEmbed));\n",
       "    }\n",
       "  })({\"config\": {\"axisLeft\": {\"labelFontSize\": 15}, \"axisBottom\": {\"labelFontSize\": 15}}, \"layer\": [{\"data\": {\"name\": \"data-d156cad7bbd61f8a9d2a34edc80f677b\"}, \"mark\": \"line\", \"encoding\": {\"color\": {\"type\": \"nominal\", \"field\": \"repo\"}, \"tooltip\": {\"type\": \"nominal\", \"field\": \"repo\"}, \"x\": {\"type\": \"temporal\", \"field\": \"createdAt\"}, \"y\": {\"type\": \"quantitative\", \"field\": \"count\"}}, \"width\": 600}, {\"data\": {\"name\": \"data-d423f1503773d65febbef7c78511ec8c\"}, \"mark\": {\"type\": \"line\", \"color\": \"black\"}, \"encoding\": {\"x\": {\"type\": \"temporal\", \"field\": \"createdAt\"}, \"y\": {\"type\": \"quantitative\", \"field\": \"count\"}}, \"width\": 600}], \"$schema\": \"https://vega.github.io/schema/vega-lite/v4.8.1.json\", \"datasets\": {\"data-d156cad7bbd61f8a9d2a34edc80f677b\": [{\"repo\": \"jupyter-book\", \"createdAt\": \"2020-12-06T00:00:00\", \"count\": 2}, {\"repo\": \"jupyter-book\", \"createdAt\": \"2020-12-13T00:00:00\", \"count\": 0}, {\"repo\": \"jupyter-book\", \"createdAt\": \"2020-12-20T00:00:00\", \"count\": 0}, {\"repo\": \"jupyter-book\", \"createdAt\": \"2020-12-27T00:00:00\", \"count\": 0}, {\"repo\": \"jupyter-book\", \"createdAt\": \"2021-01-03T00:00:00\", \"count\": 0}, {\"repo\": \"jupyter-book\", \"createdAt\": \"2021-01-10T00:00:00\", \"count\": 1}, {\"repo\": \"jupyterbook-latex\", \"createdAt\": \"2020-11-08T00:00:00\", \"count\": 1}, {\"repo\": \"jupyterbook-latex\", \"createdAt\": \"2020-11-15T00:00:00\", \"count\": 0}, {\"repo\": \"jupyterbook-latex\", \"createdAt\": \"2020-11-22T00:00:00\", \"count\": 0}, {\"repo\": \"jupyterbook-latex\", \"createdAt\": \"2020-11-29T00:00:00\", \"count\": 0}, {\"repo\": \"jupyterbook-latex\", \"createdAt\": \"2020-12-06T00:00:00\", \"count\": 0}, {\"repo\": \"jupyterbook-latex\", \"createdAt\": \"2020-12-13T00:00:00\", \"count\": 3}, {\"repo\": \"jupyterbook-latex\", \"createdAt\": \"2020-12-20T00:00:00\", \"count\": 11}, {\"repo\": \"sphinx-book-theme\", \"createdAt\": \"2020-11-15T00:00:00\", \"count\": 1}], \"data-d423f1503773d65febbef7c78511ec8c\": [{\"createdAt\": \"2020-11-08T00:00:00\", \"count\": 1}, {\"createdAt\": \"2020-11-15T00:00:00\", \"count\": 1}, {\"createdAt\": \"2020-11-22T00:00:00\", \"count\": 0}, {\"createdAt\": \"2020-11-29T00:00:00\", \"count\": 0}, {\"createdAt\": \"2020-12-06T00:00:00\", \"count\": 2}, {\"createdAt\": \"2020-12-13T00:00:00\", \"count\": 3}, {\"createdAt\": \"2020-12-20T00:00:00\", \"count\": 11}, {\"createdAt\": \"2020-12-27T00:00:00\", \"count\": 0}, {\"createdAt\": \"2021-01-03T00:00:00\", \"count\": 0}, {\"createdAt\": \"2021-01-10T00:00:00\", \"count\": 1}]}}, {\"mode\": \"vega-lite\"});\n",
       "</script>"
      ],
      "text/plain": [
       "alt.LayerChart(...)"
      ]
     },
     "execution_count": 14,
     "metadata": {},
     "output_type": "execute_result"
    }
   ],
   "source": [
    "prs_time = prs.groupby('repo').resample('W', on='createdAt').count()['author'].reset_index()\n",
    "prs_time = prs_time.rename(columns={'author': 'count'})\n",
    "prs_time_total = prs_time.groupby('createdAt').agg({\"count\": \"sum\"}).reset_index()\n",
    "\n",
    "ch1 = alt.Chart(prs_time, width=600).mark_line().encode(\n",
    "    x='createdAt',\n",
    "    y='count',\n",
    "    color='repo',\n",
    "    tooltip=\"repo\"\n",
    ")\n",
    "\n",
    "ch2 = alt.Chart(prs_time_total, width=600).mark_line(color=\"black\").encode(\n",
    "    x='createdAt',\n",
    "    y='count',\n",
    ")\n",
    "\n",
    "ch1 + ch2"
   ]
  },
  {
   "cell_type": "code",
   "execution_count": 15,
   "id": "diagnostic-happening",
   "metadata": {
    "execution": {
     "iopub.execute_input": "2021-01-22T02:51:24.699859Z",
     "iopub.status.busy": "2021-01-22T02:51:24.698291Z",
     "iopub.status.idle": "2021-01-22T02:51:24.728408Z",
     "shell.execute_reply": "2021-01-22T02:51:24.728970Z"
    },
    "papermill": {
     "duration": 0.060015,
     "end_time": "2021-01-22T02:51:24.729195",
     "exception": false,
     "start_time": "2021-01-22T02:51:24.669180",
     "status": "completed"
    },
    "tags": [
     "hide_input"
    ]
   },
   "outputs": [
    {
     "data": {
      "text/html": [
       "\n",
       "<div id=\"altair-viz-4397811c8b134577aae798e7123c79ec\"></div>\n",
       "<script type=\"text/javascript\">\n",
       "  (function(spec, embedOpt){\n",
       "    let outputDiv = document.currentScript.previousElementSibling;\n",
       "    if (outputDiv.id !== \"altair-viz-4397811c8b134577aae798e7123c79ec\") {\n",
       "      outputDiv = document.getElementById(\"altair-viz-4397811c8b134577aae798e7123c79ec\");\n",
       "    }\n",
       "    const paths = {\n",
       "      \"vega\": \"https://cdn.jsdelivr.net/npm//vega@5?noext\",\n",
       "      \"vega-lib\": \"https://cdn.jsdelivr.net/npm//vega-lib?noext\",\n",
       "      \"vega-lite\": \"https://cdn.jsdelivr.net/npm//vega-lite@4.8.1?noext\",\n",
       "      \"vega-embed\": \"https://cdn.jsdelivr.net/npm//vega-embed@6?noext\",\n",
       "    };\n",
       "\n",
       "    function loadScript(lib) {\n",
       "      return new Promise(function(resolve, reject) {\n",
       "        var s = document.createElement('script');\n",
       "        s.src = paths[lib];\n",
       "        s.async = true;\n",
       "        s.onload = () => resolve(paths[lib]);\n",
       "        s.onerror = () => reject(`Error loading script: ${paths[lib]}`);\n",
       "        document.getElementsByTagName(\"head\")[0].appendChild(s);\n",
       "      });\n",
       "    }\n",
       "\n",
       "    function showError(err) {\n",
       "      outputDiv.innerHTML = `<div class=\"error\" style=\"color:red;\">${err}</div>`;\n",
       "      throw err;\n",
       "    }\n",
       "\n",
       "    function displayChart(vegaEmbed) {\n",
       "      vegaEmbed(outputDiv, spec, embedOpt)\n",
       "        .catch(err => showError(`Javascript Error: ${err.message}<br>This usually means there's a typo in your chart specification. See the javascript console for the full traceback.`));\n",
       "    }\n",
       "\n",
       "    if(typeof define === \"function\" && define.amd) {\n",
       "      requirejs.config({paths});\n",
       "      require([\"vega-embed\"], displayChart, err => showError(`Error loading script: ${err.message}`));\n",
       "    } else if (typeof vegaEmbed === \"function\") {\n",
       "      displayChart(vegaEmbed);\n",
       "    } else {\n",
       "      loadScript(\"vega\")\n",
       "        .then(() => loadScript(\"vega-lite\"))\n",
       "        .then(() => loadScript(\"vega-embed\"))\n",
       "        .catch(showError)\n",
       "        .then(() => displayChart(vegaEmbed));\n",
       "    }\n",
       "  })({\"config\": {\"axisLeft\": {\"labelFontSize\": 15}, \"axisBottom\": {\"labelFontSize\": 15}}, \"data\": {\"name\": \"data-abd228e58fbcd5a01a7ebb09f708d756\"}, \"mark\": \"line\", \"encoding\": {\"color\": {\"type\": \"nominal\", \"field\": \"repo\"}, \"tooltip\": {\"type\": \"nominal\", \"field\": \"repo\"}, \"x\": {\"type\": \"temporal\", \"field\": \"closedAt\"}, \"y\": {\"type\": \"quantitative\", \"field\": \"count\"}}, \"width\": 600, \"$schema\": \"https://vega.github.io/schema/vega-lite/v4.8.1.json\", \"datasets\": {\"data-abd228e58fbcd5a01a7ebb09f708d756\": [{\"repo\": \"jupyterbook-latex\", \"closedAt\": \"2020-12-13T00:00:00\", \"count\": 3}, {\"repo\": \"jupyterbook-latex\", \"closedAt\": \"2020-12-20T00:00:00\", \"count\": 12}]}}, {\"mode\": \"vega-lite\"});\n",
       "</script>"
      ],
      "text/plain": [
       "alt.Chart(...)"
      ]
     },
     "execution_count": 15,
     "metadata": {},
     "output_type": "execute_result"
    }
   ],
   "source": [
    "closed_by_time = closed_by.groupby('repo').resample('W', on='closedAt').count()['author'].reset_index()\n",
    "closed_by_time = closed_by_time.rename(columns={'author': 'count'})\n",
    "\n",
    "alt.Chart(closed_by_time, width=600).mark_line().encode(\n",
    "    x='closedAt',\n",
    "    y='count',\n",
    "    color='repo',\n",
    "    tooltip=\"repo\"\n",
    ")"
   ]
  },
  {
   "cell_type": "markdown",
   "id": "adequate-sierra",
   "metadata": {
    "papermill": {
     "duration": 0.017822,
     "end_time": "2021-01-22T02:51:24.767896",
     "exception": false,
     "start_time": "2021-01-22T02:51:24.750074",
     "status": "completed"
    },
    "tags": []
   },
   "source": [
    "## By type over time"
   ]
  },
  {
   "cell_type": "code",
   "execution_count": 16,
   "id": "necessary-comparison",
   "metadata": {
    "execution": {
     "iopub.execute_input": "2021-01-22T02:51:24.827368Z",
     "iopub.status.busy": "2021-01-22T02:51:24.826754Z",
     "iopub.status.idle": "2021-01-22T02:51:24.829400Z",
     "shell.execute_reply": "2021-01-22T02:51:24.828850Z"
    },
    "papermill": {
     "duration": 0.043463,
     "end_time": "2021-01-22T02:51:24.829560",
     "exception": false,
     "start_time": "2021-01-22T02:51:24.786097",
     "status": "completed"
    },
    "tags": [
     "remove_cell"
    ]
   },
   "outputs": [],
   "source": [
    "prs_time = prs[['author', 'createdAt']].resample('W', on='createdAt').count()['author'].reset_index()\n",
    "prs_time = prs_time.rename(columns={'author': 'prs'})\n",
    "comments_time = comments[['author', 'createdAt']].resample('W', on='createdAt').count()['author'].reset_index()\n",
    "comments_time = comments_time.rename(columns={'author': 'comments'})\n",
    "\n",
    "total_time = pd.merge(prs_time, comments_time, on='createdAt', how='outer')\n",
    "total_time = total_time.melt(id_vars='createdAt', var_name=\"kind\", value_name=\"count\")\n"
   ]
  },
  {
   "cell_type": "code",
   "execution_count": 17,
   "id": "manual-active",
   "metadata": {
    "execution": {
     "iopub.execute_input": "2021-01-22T02:51:24.889334Z",
     "iopub.status.busy": "2021-01-22T02:51:24.873925Z",
     "iopub.status.idle": "2021-01-22T02:51:24.892801Z",
     "shell.execute_reply": "2021-01-22T02:51:24.892253Z"
    },
    "papermill": {
     "duration": 0.045099,
     "end_time": "2021-01-22T02:51:24.892957",
     "exception": false,
     "start_time": "2021-01-22T02:51:24.847858",
     "status": "completed"
    },
    "tags": [
     "hide_input"
    ]
   },
   "outputs": [
    {
     "data": {
      "text/html": [
       "\n",
       "<div id=\"altair-viz-8d0c4b17cfb44305ab7af7b17a84d638\"></div>\n",
       "<script type=\"text/javascript\">\n",
       "  (function(spec, embedOpt){\n",
       "    let outputDiv = document.currentScript.previousElementSibling;\n",
       "    if (outputDiv.id !== \"altair-viz-8d0c4b17cfb44305ab7af7b17a84d638\") {\n",
       "      outputDiv = document.getElementById(\"altair-viz-8d0c4b17cfb44305ab7af7b17a84d638\");\n",
       "    }\n",
       "    const paths = {\n",
       "      \"vega\": \"https://cdn.jsdelivr.net/npm//vega@5?noext\",\n",
       "      \"vega-lib\": \"https://cdn.jsdelivr.net/npm//vega-lib?noext\",\n",
       "      \"vega-lite\": \"https://cdn.jsdelivr.net/npm//vega-lite@4.8.1?noext\",\n",
       "      \"vega-embed\": \"https://cdn.jsdelivr.net/npm//vega-embed@6?noext\",\n",
       "    };\n",
       "\n",
       "    function loadScript(lib) {\n",
       "      return new Promise(function(resolve, reject) {\n",
       "        var s = document.createElement('script');\n",
       "        s.src = paths[lib];\n",
       "        s.async = true;\n",
       "        s.onload = () => resolve(paths[lib]);\n",
       "        s.onerror = () => reject(`Error loading script: ${paths[lib]}`);\n",
       "        document.getElementsByTagName(\"head\")[0].appendChild(s);\n",
       "      });\n",
       "    }\n",
       "\n",
       "    function showError(err) {\n",
       "      outputDiv.innerHTML = `<div class=\"error\" style=\"color:red;\">${err}</div>`;\n",
       "      throw err;\n",
       "    }\n",
       "\n",
       "    function displayChart(vegaEmbed) {\n",
       "      vegaEmbed(outputDiv, spec, embedOpt)\n",
       "        .catch(err => showError(`Javascript Error: ${err.message}<br>This usually means there's a typo in your chart specification. See the javascript console for the full traceback.`));\n",
       "    }\n",
       "\n",
       "    if(typeof define === \"function\" && define.amd) {\n",
       "      requirejs.config({paths});\n",
       "      require([\"vega-embed\"], displayChart, err => showError(`Error loading script: ${err.message}`));\n",
       "    } else if (typeof vegaEmbed === \"function\") {\n",
       "      displayChart(vegaEmbed);\n",
       "    } else {\n",
       "      loadScript(\"vega\")\n",
       "        .then(() => loadScript(\"vega-lite\"))\n",
       "        .then(() => loadScript(\"vega-embed\"))\n",
       "        .catch(showError)\n",
       "        .then(() => displayChart(vegaEmbed));\n",
       "    }\n",
       "  })({\"config\": {\"axisLeft\": {\"labelFontSize\": 15}, \"axisBottom\": {\"labelFontSize\": 15}}, \"data\": {\"name\": \"data-d7092718ce4d686ddb454e2e9ad6e443\"}, \"mark\": \"line\", \"encoding\": {\"color\": {\"type\": \"nominal\", \"field\": \"kind\"}, \"x\": {\"type\": \"temporal\", \"field\": \"createdAt\"}, \"y\": {\"type\": \"quantitative\", \"field\": \"count\"}}, \"width\": 600, \"$schema\": \"https://vega.github.io/schema/vega-lite/v4.8.1.json\", \"datasets\": {\"data-d7092718ce4d686ddb454e2e9ad6e443\": [{\"createdAt\": \"2020-11-08T00:00:00\", \"kind\": \"prs\", \"count\": 1.0}, {\"createdAt\": \"2020-11-15T00:00:00\", \"kind\": \"prs\", \"count\": 1.0}, {\"createdAt\": \"2020-11-22T00:00:00\", \"kind\": \"prs\", \"count\": 0.0}, {\"createdAt\": \"2020-11-29T00:00:00\", \"kind\": \"prs\", \"count\": 0.0}, {\"createdAt\": \"2020-12-06T00:00:00\", \"kind\": \"prs\", \"count\": 2.0}, {\"createdAt\": \"2020-12-13T00:00:00\", \"kind\": \"prs\", \"count\": 3.0}, {\"createdAt\": \"2020-12-20T00:00:00\", \"kind\": \"prs\", \"count\": 11.0}, {\"createdAt\": \"2020-12-27T00:00:00\", \"kind\": \"prs\", \"count\": 0.0}, {\"createdAt\": \"2021-01-03T00:00:00\", \"kind\": \"prs\", \"count\": 0.0}, {\"createdAt\": \"2021-01-10T00:00:00\", \"kind\": \"prs\", \"count\": 1.0}, {\"createdAt\": \"2020-11-08T00:00:00\", \"kind\": \"comments\", \"count\": null}, {\"createdAt\": \"2020-11-15T00:00:00\", \"kind\": \"comments\", \"count\": null}, {\"createdAt\": \"2020-11-22T00:00:00\", \"kind\": \"comments\", \"count\": null}, {\"createdAt\": \"2020-11-29T00:00:00\", \"kind\": \"comments\", \"count\": 3.0}, {\"createdAt\": \"2020-12-06T00:00:00\", \"kind\": \"comments\", \"count\": 0.0}, {\"createdAt\": \"2020-12-13T00:00:00\", \"kind\": \"comments\", \"count\": 7.0}, {\"createdAt\": \"2020-12-20T00:00:00\", \"kind\": \"comments\", \"count\": 6.0}, {\"createdAt\": \"2020-12-27T00:00:00\", \"kind\": \"comments\", \"count\": 2.0}, {\"createdAt\": \"2021-01-03T00:00:00\", \"kind\": \"comments\", \"count\": 0.0}, {\"createdAt\": \"2021-01-10T00:00:00\", \"kind\": \"comments\", \"count\": 2.0}]}}, {\"mode\": \"vega-lite\"});\n",
       "</script>"
      ],
      "text/plain": [
       "alt.Chart(...)"
      ]
     },
     "execution_count": 17,
     "metadata": {},
     "output_type": "execute_result"
    }
   ],
   "source": [
    "alt.Chart(total_time, width=600).mark_line().encode(\n",
    "    x='createdAt',\n",
    "    y='count',\n",
    "    color='kind'\n",
    ")"
   ]
  }
 ],
 "metadata": {
  "kernelspec": {
   "display_name": "Python 3",
   "language": "python",
   "name": "python3"
  },
  "language_info": {
   "codemirror_mode": {
    "name": "ipython",
    "version": 3
   },
   "file_extension": ".py",
   "mimetype": "text/x-python",
   "name": "python",
   "nbconvert_exporter": "python",
   "pygments_lexer": "ipython3",
   "version": "3.7.9"
  },
  "papermill": {
   "default_parameters": {},
   "duration": 3.523921,
   "end_time": "2021-01-22T02:51:25.322224",
   "environment_variables": {},
   "exception": null,
   "input_path": "./person.ipynb",
   "output_path": "people/AakashGfude.ipynb",
   "parameters": {
    "n_days": 60,
    "person": "AakashGfude"
   },
   "start_time": "2021-01-22T02:51:21.798303",
   "version": "2.3.0"
  },
  "widgets": {
   "application/vnd.jupyter.widget-state+json": {
    "state": {},
    "version_major": 2,
    "version_minor": 0
   }
  }
 },
 "nbformat": 4,
 "nbformat_minor": 5
}